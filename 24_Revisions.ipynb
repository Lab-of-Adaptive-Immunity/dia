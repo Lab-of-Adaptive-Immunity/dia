{
 "cells": [
  {
   "cell_type": "markdown",
   "id": "2d9391b0",
   "metadata": {},
   "source": [
    "# Part 24: Revisions"
   ]
  },
  {
   "cell_type": "markdown",
   "id": "bfa08e7a",
   "metadata": {},
   "source": [
    "In tis document, we address various questions raised by the reviewers. "
   ]
  },
  {
   "cell_type": "code",
   "execution_count": 2,
   "id": "8acea2b5",
   "metadata": {},
   "outputs": [],
   "source": [
    "source(\"diabetes_analysis_v07.R\")"
   ]
  },
  {
   "cell_type": "markdown",
   "id": "931a1180",
   "metadata": {},
   "source": [
    "# Phenotype of Naive cells"
   ]
  },
  {
   "cell_type": "code",
   "execution_count": null,
   "id": "d6534ada",
   "metadata": {},
   "outputs": [],
   "source": [
    "cd4_l2_subcluster  <- readRDS(\"../../240218_VN_Diabetes_V05/data/processed/L2/cd4_subcluster.rds\")\n",
    "cd8_l2_subcluster  <- readRDS(\"../../240218_VN_Diabetes_V05/data/processed/L2/cd8_l2_subcluster.rds\")\n",
    "cd4_naive  <- readRDS(\"../../240218_VN_Diabetes_V05/data/processed/L3/cd4_l3_naive.rds\")\n",
    "cd8_naive  <- readRDS(\"../../240218_VN_Diabetes_V05/data/processed/L3/cd8_l3_naive.rds\")\n"
   ]
  },
  {
   "cell_type": "code",
   "execution_count": null,
   "id": "8fe0885e",
   "metadata": {},
   "outputs": [],
   "source": []
  }
 ],
 "metadata": {
  "kernelspec": {
   "display_name": "R",
   "language": "R",
   "name": "ir"
  },
  "language_info": {
   "codemirror_mode": "r",
   "file_extension": ".r",
   "mimetype": "text/x-r-source",
   "name": "R",
   "pygments_lexer": "r",
   "version": "4.5.0"
  },
  "toc": {
   "base_numbering": 1,
   "nav_menu": {},
   "number_sections": true,
   "sideBar": true,
   "skip_h1_title": false,
   "title_cell": "Table of Contents",
   "title_sidebar": "Contents",
   "toc_cell": false,
   "toc_position": {},
   "toc_section_display": true,
   "toc_window_display": false
  }
 },
 "nbformat": 4,
 "nbformat_minor": 5
}
