{
 "cells": [
  {
   "cell_type": "code",
   "execution_count": null,
   "id": "f741a879",
   "metadata": {
    "scrolled": true
   },
   "outputs": [],
   "source": [
    "source(\"diabetes_analysis_v06.R\")"
   ]
  },
  {
   "cell_type": "code",
   "execution_count": null,
   "id": "66651646",
   "metadata": {},
   "outputs": [],
   "source": [
    "plan(\"multisession\")"
   ]
  },
  {
   "cell_type": "markdown",
   "id": "4f9f70fb",
   "metadata": {},
   "source": [
    "# Load data"
   ]
  },
  {
   "cell_type": "code",
   "execution_count": null,
   "id": "a8876f1c",
   "metadata": {},
   "outputs": [],
   "source": [
    "## CD4 All\n",
    "cd8_l1_full_filt  <- readRDS(\"../../240218_VN_Diabetes_V05/data/processed/L1/cd8_l1_full_filt.rds\")"
   ]
  },
  {
   "cell_type": "code",
   "execution_count": null,
   "id": "ebd42d11",
   "metadata": {},
   "outputs": [],
   "source": [
    "cd8_l1_full_filt"
   ]
  },
  {
   "cell_type": "code",
   "execution_count": null,
   "id": "ec803f5c",
   "metadata": {},
   "outputs": [],
   "source": [
    "## CD4 Treg\n",
    "treg  <- readRDS(\"../data/processed/L3/cd4_l3_treg.rds\")"
   ]
  },
  {
   "cell_type": "code",
   "execution_count": null,
   "id": "c82457be",
   "metadata": {},
   "outputs": [],
   "source": [
    "treg@misc$cols_annotations  <- c( \"#e56381ff\",\"#fbca93ff\",   \"#a93d60ff\", \"#ffbdcbff\",\n",
    "                                 \"#f9dd60ff\", \"#66033cff\")[c(2,4,5,1)]\n",
    "\n",
    "treg@misc$dataset_name  <- \"treg\"\n",
    "\n",
    "treg@misc$all_md  <- cd4_l2@meta.data  %>% \n",
    "                            dplyr::select(Sample_ID, Condition,  \n",
    "                                          Disease, \n",
    "                                          Sex, Age, Age_group, Patient_ID, \n",
    "                                          Time, Experiment_ID)   %>% unique"
   ]
  },
  {
   "cell_type": "code",
   "execution_count": null,
   "id": "673e91fb",
   "metadata": {},
   "outputs": [],
   "source": [
    "FindAllMarkers()"
   ]
  },
  {
   "cell_type": "markdown",
   "id": "fa781878",
   "metadata": {},
   "source": [
    "# DE gd vs CD8 Naive\n"
   ]
  },
  {
   "cell_type": "code",
   "execution_count": null,
   "id": "500acc53",
   "metadata": {},
   "outputs": [],
   "source": [
    "options(repr.plot.width = 6, repr.plot.height = 5)\n",
    "DimPlot(cd8_l1_full_filt, group.by = \"annotations_l2\")"
   ]
  },
  {
   "cell_type": "code",
   "execution_count": null,
   "id": "5b5facf8",
   "metadata": {},
   "outputs": [],
   "source": [
    "Idents(cd8_l1_full_filt)  <- cd8_l1_full_filt$annotations_l2"
   ]
  },
  {
   "cell_type": "code",
   "execution_count": null,
   "id": "32d6c50f",
   "metadata": {},
   "outputs": [],
   "source": [
    "table(cd8_l1_full_filt$annotations_l2)"
   ]
  },
  {
   "cell_type": "code",
   "execution_count": null,
   "id": "13b097c8",
   "metadata": {},
   "outputs": [],
   "source": [
    "mrk  <- FindMarkers(cd8_l1_full_filt,\n",
    "                   `ident.1` = \"CD8 Unconventional T cells---gd T cells\",\n",
    "                   `ident.2` = \"CD8 T cells---Naive\")"
   ]
  },
  {
   "cell_type": "code",
   "execution_count": null,
   "id": "caf4ecdb",
   "metadata": {},
   "outputs": [],
   "source": [
    "DefaultAssay(cd8_l1_full_filt)  <- \"RNA\""
   ]
  },
  {
   "cell_type": "code",
   "execution_count": null,
   "id": "1f19a75b",
   "metadata": {
    "scrolled": true
   },
   "outputs": [],
   "source": [
    "fc  <- FoldChange(cd8_l1_full_filt,\n",
    "                   `ident.1` = \"CD8 Unconventional T cells---gd T cells\",\n",
    "                   `ident.2` = \"CD8 T cells---Naive\")"
   ]
  },
  {
   "cell_type": "code",
   "execution_count": null,
   "id": "06ed28d7",
   "metadata": {},
   "outputs": [],
   "source": [
    "fc  <- fc  %>% arrange(avg_log2FC)  %>% rownames_to_column(\"gene\")"
   ]
  },
  {
   "cell_type": "code",
   "execution_count": null,
   "id": "d5982bcd",
   "metadata": {
    "scrolled": true
   },
   "outputs": [],
   "source": [
    "fc  %>% dplyr::filter(gene %in% treg_gene_sig)"
   ]
  },
  {
   "cell_type": "code",
   "execution_count": null,
   "id": "b00aee27",
   "metadata": {},
   "outputs": [],
   "source": [
    "treg_gene_sig  <- c('S100A4', 'FOXP3', 'ITGB1', 'AHNAK', 'TIGIT', 'ANXA2', 'IL10RA', \n",
    "                    'TNFRSF1B', 'GBP5', 'LGALS1', 'RTKN2', 'CTLA4', 'S100A10', 'IL32', \n",
    "                    'FCRL3', 'IL2RA', 'CLIC1', 'KLF6', 'ANXA5', 'SYNE2', 'S100A11', \n",
    "                    'CD74', 'CRIP1', 'EZR', 'NIBAN1', 'FLNA', 'NCF4', 'PRDM1', 'LGALS3', \n",
    "                    'CAPN2', 'ARID5B', 'SH3BGRL3', 'CST7', 'ISG20', 'MYO1F', 'LMNA', \n",
    "                    'HLA-DRB5', 'TENT5C', 'GAPDH', 'MTHFD2', 'FANK1', 'HLA-DQA1', \n",
    "                    'IL2RB', 'IKZF2', 'SRGN', 'STAM', 'CLDND1', 'DUSP4', 'BIRC3', \n",
    "                    'SAT1', 'PBXIP1', 'HLA-DRB1', 'HLA-DPA1', 'TNFRSF4', 'SHMT2', \n",
    "                    'TAGLN2', 'PLP2', 'ACTN4', 'DUSP1', 'RORA', 'CD99', 'GLCCI1', \n",
    "                    'CARD16', 'PTTG1', 'TSPAN5', 'TAP1', 'OPTN', 'EIF3A', 'ELOVL5', \n",
    "                    'LSR', 'GSTK1', 'ZFP36', 'TIFA', 'BATF', 'EMP3', 'TSC22D3', 'OGDH', \n",
    "                    'HLA-DPB1', 'CCDC50', 'LIMS1', 'RAB11FIP1', 'TRAC', 'CD84', 'CAST', \n",
    "                    'PYHIN1', 'JPT1', 'MPST', 'SAMSN1', 'ZC2HC1A', 'PMAIP1', 'S100A6', \n",
    "                    'PI16', 'OAS1', 'PPP1R18', 'NCR3', 'CD58', 'DOK2', 'BCL2L11', \n",
    "                    'SMAD3', 'GBP2', 'SYT11', 'PPP2R5C', 'PPP1R15A', 'RGS1', 'RAB37', \n",
    "                    'REEP5', 'IKZF3', 'RNF214', 'IRF1', 'ANTKMT', 'PRDX1', 'IQGAP2', 'MT2A', \n",
    "                    'TNFRSF18', 'FAS', 'DUSP2', 'CCDC167', 'HLA-DRA', 'PELI1', 'JUNB', 'LGALS9', \n",
    "                    'ZBTB38', 'SPTAN1', 'SMS', 'PARP1', 'MCL1', 'DYNLL1', 'HERC5', 'CDC25B', \n",
    "                    'SLC9A3R1', 'MYO1G', 'TPR', 'JUN', 'ID3', 'TPI1', 'RILPL2', 'CCR6', \n",
    "                    'YWHAH', 'PTGER2', 'HNRNPLL', 'PREX1', 'PSMB9', 'MYH9', 'CORO1B', 'SLAMF1', \n",
    "                    'SIT1', 'NPDC1', 'PHACTR2', 'ST8SIA6', 'ATP2B4', 'IL18R1', 'TRIM22', 'HLA-DQB1', \n",
    "                    'F5', 'TBC1D4', 'MAF', 'ATP2B1', 'C4orf48', 'GALM', 'C12orf75', 'CPA5', \n",
    "                    'PPP1CA', 'S1PR4', 'PDE4DIP', 'GATA3', 'GLIPR2', 'CHST7', 'CXCR4', 'H1-4', \n",
    "                    'GADD45B', 'RESF1', 'IER2', 'ISG15', 'CDC42EP3', 'PCBD1', 'LYST', 'TPM4', \n",
    "                    'TAB2', 'NINJ2', 'ALOX5AP', 'CCR4', 'FCER1G', 'MAP3K1', 'CXCR3', 'CD59', \n",
    "                    'SLFN5', 'CCNG2', 'ITGA4', 'SESN1', 'SPATS2L', 'HPGD', 'EFHD2', 'LIMA1', \n",
    "                    'BCL2', 'RABGAP1L', 'TOX', 'SAMD9', 'TXN', 'IFI16', 'IDS', 'TRIB2', 'CDHR3', \n",
    "                    'PALM2AKAP2', 'ICA1', 'LPAR6', 'KLRB1', 'SMC6', 'ITM2C', 'CEACAM4', 'PRF1', \n",
    "                    'CD63', 'AHR', 'IQGAP1', 'GADD45A', 'ADAM8', 'GLIPR1', 'VAV3', 'EPSTI1', \n",
    "                    'GPRIN3', 'POU2F2', 'SH2D2A', 'DENND10', 'MAP4', 'CCR10', 'PTPN18', 'IER5', \n",
    "                    'GPR183', 'LAIR2', 'CTSC', 'TTN', 'NR4A2', 'SESN3', 'CPNE2', 'MX1')\n"
   ]
  },
  {
   "cell_type": "code",
   "execution_count": null,
   "id": "5be61a84",
   "metadata": {},
   "outputs": [],
   "source": [
    "fc.df  <- fc  %>%   dplyr::select(gene, avg_log2FC)\n",
    "ranks<- deframe(fc.df)"
   ]
  },
  {
   "cell_type": "code",
   "execution_count": null,
   "id": "d02259e5",
   "metadata": {},
   "outputs": [],
   "source": [
    "library(fgsea)"
   ]
  },
  {
   "cell_type": "code",
   "execution_count": null,
   "id": "eb61cead",
   "metadata": {},
   "outputs": [],
   "source": [
    "options(repr.plot.width = 5, repr.plot.height = 3)\n",
    "\n",
    "plotEnrichment(treg_gene_sig,\n",
    "               ranks) + labs(title=\"treg_gene_sig in Tgd\") \n"
   ]
  },
  {
   "cell_type": "code",
   "execution_count": null,
   "id": "2c22162f",
   "metadata": {},
   "outputs": [],
   "source": [
    "fg  <- fgsea(pathways = list(\"treg_gene_sig\" = treg_gene_sig),\n",
    "               ranks)"
   ]
  },
  {
   "cell_type": "code",
   "execution_count": null,
   "id": "3da26da6",
   "metadata": {},
   "outputs": [],
   "source": [
    "fg$leadingEdge"
   ]
  },
  {
   "cell_type": "code",
   "execution_count": null,
   "id": "7f2dfd1f",
   "metadata": {},
   "outputs": [],
   "source": [
    "cd8_l1_full_filt  <- AddModuleScore(cd8_l1_full_filt, features = treg_gene_sig,\n",
    "                                   search = F,\n",
    "  ctrl = 50,\n",
    "  nbin = 50,\n",
    "  assay = \"RNA\",\n",
    "  name = 'treg_gene_sig')"
   ]
  },
  {
   "cell_type": "code",
   "execution_count": null,
   "id": "a82d10df",
   "metadata": {},
   "outputs": [],
   "source": [
    "cd8_l1_full_filt$treg_gene_sig1"
   ]
  },
  {
   "cell_type": "code",
   "execution_count": null,
   "id": "968f0ca2",
   "metadata": {},
   "outputs": [],
   "source": [
    "options(repr.plot.width = 10, repr.plot.height = 8)\n",
    "\n",
    "VlnPlot(cd8_l1_full_filt, features = \"treg_gene_sig1\", pt.size = 0)"
   ]
  },
  {
   "cell_type": "markdown",
   "id": "c7bbc92b",
   "metadata": {},
   "source": [
    "## Tr3-56 published data"
   ]
  },
  {
   "cell_type": "code",
   "execution_count": null,
   "id": "6416ea5c",
   "metadata": {},
   "outputs": [],
   "source": [
    "library(GEOquery)"
   ]
  },
  {
   "cell_type": "code",
   "execution_count": null,
   "id": "4b8cefc8",
   "metadata": {},
   "outputs": [],
   "source": [
    "gset <- getGEO(\"GSE106082\", GSEMatrix =TRUE, getGPL=TRUE, AnnotGPL=TRUE)"
   ]
  },
  {
   "cell_type": "code",
   "execution_count": null,
   "id": "06f066ae",
   "metadata": {},
   "outputs": [],
   "source": [
    "library(readr)"
   ]
  },
  {
   "cell_type": "code",
   "execution_count": null,
   "id": "f08ebe8c",
   "metadata": {},
   "outputs": [],
   "source": [
    "metadata <- data.frame(geo_id = gset$GSE106082_series_matrix.txt.gz$geo_accession,\n",
    "                       cell_type = gset$GSE106082_series_matrix.txt.gz$`characteristics_ch1.1`\n",
    "                       )"
   ]
  },
  {
   "cell_type": "code",
   "execution_count": null,
   "id": "6538d163",
   "metadata": {},
   "outputs": [],
   "source": [
    "mtx_tr356  <- read_csv(\"../../240218_VN_Diabetes_V05/data/published_data/Terrazzano_2020/tr356_df_sum.csv\")"
   ]
  },
  {
   "cell_type": "code",
   "execution_count": null,
   "id": "ea5424de",
   "metadata": {},
   "outputs": [],
   "source": [
    "mtx_tr356$`...1`  <- NULL"
   ]
  },
  {
   "cell_type": "code",
   "execution_count": null,
   "id": "20959dfa",
   "metadata": {},
   "outputs": [],
   "source": [
    "mtx_tr356  <- mtx_tr356  %>% column_to_rownames(\"SYMBOL\")"
   ]
  },
  {
   "cell_type": "code",
   "execution_count": null,
   "id": "214f7a39",
   "metadata": {
    "scrolled": true
   },
   "outputs": [],
   "source": [
    "mtx_tr356"
   ]
  },
  {
   "cell_type": "code",
   "execution_count": null,
   "id": "24eca43e",
   "metadata": {},
   "outputs": [],
   "source": [
    "plan(\"multisession\")"
   ]
  },
  {
   "cell_type": "code",
   "execution_count": null,
   "id": "639b993d",
   "metadata": {},
   "outputs": [],
   "source": [
    "packageVersion('matrixStats')"
   ]
  },
  {
   "cell_type": "code",
   "execution_count": null,
   "id": "2cc668f2",
   "metadata": {},
   "outputs": [],
   "source": [
    "pred <- SingleR(test = cd8_l1_full_filt@assays$RNA@counts, \n",
    "                ref=mtx_tr356, labels=metadata$cell_type, de.method=\"wilcox\",fine.tune = F,num.threads = 4)"
   ]
  },
  {
   "cell_type": "code",
   "execution_count": null,
   "id": "ad0465c8",
   "metadata": {
    "scrolled": true
   },
   "outputs": [],
   "source": [
    "mtx_tr356"
   ]
  },
  {
   "cell_type": "code",
   "execution_count": null,
   "id": "a059aee0",
   "metadata": {
    "scrolled": true
   },
   "outputs": [],
   "source": [
    "mtx_tr356  <- mtx_tr356  %>% column_to_rownames(\"SYMBOL\")"
   ]
  },
  {
   "cell_type": "code",
   "execution_count": null,
   "id": "48fcc22c",
   "metadata": {},
   "outputs": [],
   "source": [
    "mtx_tr356$`...1`  <- NULL"
   ]
  },
  {
   "cell_type": "code",
   "execution_count": null,
   "id": "9288ad1d",
   "metadata": {},
   "outputs": [],
   "source": [
    "mtx_tr356  <- mtx_tr356  %>% mutate_all(.funs = as.numeric)"
   ]
  },
  {
   "cell_type": "code",
   "execution_count": null,
   "id": "df8ebb86",
   "metadata": {
    "scrolled": true
   },
   "outputs": [],
   "source": [
    "mtx_tr356"
   ]
  },
  {
   "cell_type": "code",
   "execution_count": null,
   "id": "55691868",
   "metadata": {},
   "outputs": [],
   "source": [
    "ref_tr3_56 <- list(matrix = mtx_tr356[,c(1:6,10:12)], \n",
    "                       labels = metadata$cell_type[c(1:6,10:12)])\n"
   ]
  },
  {
   "cell_type": "code",
   "execution_count": null,
   "id": "7f537736",
   "metadata": {
    "scrolled": true
   },
   "outputs": [],
   "source": [
    "mtx_tr356"
   ]
  },
  {
   "cell_type": "code",
   "execution_count": null,
   "id": "3415c294",
   "metadata": {},
   "outputs": [],
   "source": [
    "ref_tr3_56$labels"
   ]
  },
  {
   "cell_type": "code",
   "execution_count": null,
   "id": "ae9d8593",
   "metadata": {},
   "outputs": [],
   "source": [
    "ref_tr3_56$matrix  <- as.matrix(ref_tr3_56$matrix)"
   ]
  },
  {
   "cell_type": "code",
   "execution_count": null,
   "id": "0d9f9e9c",
   "metadata": {},
   "outputs": [],
   "source": [
    "head(rownames(ref_tr3_56$matrix))"
   ]
  },
  {
   "cell_type": "code",
   "execution_count": null,
   "id": "d3096e1c",
   "metadata": {
    "scrolled": true
   },
   "outputs": [],
   "source": [
    "pred <- SingleR(test = cd8_l1_full_filt@assays$RNA@counts, \n",
    "                ref=ref_tr3_56$matrix, labels=ref_tr3_56$labels, \n",
    "                fine.tune = T,num.threads = 4\n",
    "       )"
   ]
  },
  {
   "cell_type": "code",
   "execution_count": null,
   "id": "9b0b9807",
   "metadata": {
    "scrolled": true
   },
   "outputs": [],
   "source": [
    "pred"
   ]
  },
  {
   "cell_type": "code",
   "execution_count": null,
   "id": "a37e7b9d",
   "metadata": {},
   "outputs": [],
   "source": [
    "cd8_l1_full_filt$singler  <- pred$labels"
   ]
  },
  {
   "cell_type": "code",
   "execution_count": null,
   "id": "2f85afe2",
   "metadata": {},
   "outputs": [],
   "source": [
    "DimPlot(cd8_l1_full_filt, group.by = \"annotations_l2\")"
   ]
  },
  {
   "cell_type": "code",
   "execution_count": null,
   "id": "9ca3190a",
   "metadata": {},
   "outputs": [],
   "source": [
    "options(repr.plot.width = 6, repr.plot.height = 4.5)\n",
    "DimPlot(cd8_l1_full_filt, group.by = \"singler\", shuffle = T, cols = c(\"darkseagreen1\",\"skyblue1\",\"red\"))"
   ]
  },
  {
   "cell_type": "code",
   "execution_count": null,
   "id": "b51e16f0",
   "metadata": {
    "scrolled": true
   },
   "outputs": [],
   "source": [
    "pred$scores"
   ]
  },
  {
   "cell_type": "code",
   "execution_count": null,
   "id": "b37e78aa",
   "metadata": {},
   "outputs": [],
   "source": [
    "test  <- data.frame(annotation = cd8_l1_full_filt$annot2,\n",
    "                    pred = cd8_l1_full_filt$singler)"
   ]
  },
  {
   "cell_type": "code",
   "execution_count": null,
   "id": "3f28dc11",
   "metadata": {},
   "outputs": [],
   "source": [
    "df2 <- test %>% group_by(annotation, pred) %>% \n",
    "  summarise(n = n()) %>%\n",
    "  mutate(freq = n / sum(n))"
   ]
  },
  {
   "cell_type": "code",
   "execution_count": null,
   "id": "33f2614b",
   "metadata": {
    "scrolled": true
   },
   "outputs": [],
   "source": [
    "df2"
   ]
  },
  {
   "cell_type": "code",
   "execution_count": null,
   "id": "eb1e3b95",
   "metadata": {
    "scrolled": true
   },
   "outputs": [],
   "source": [
    "options(repr.plot.width = 8, repr.plot.height = 4.5)\n",
    "ggplot(test) +\n",
    "  aes(x = annotation, fill = factor(pred)) +\n",
    "  geom_bar(position = \"fill\") + \n",
    "theme_classic() + \n",
    "ggtheme() +\n",
    "coord_flip() + \n",
    "scale_fill_manual(values = c(\"#d6ebd2ff\", \"lightskyblue1\", \"red2\"))\n",
    "#scale_fill_manual(values = c(\"grey\",\"#74bc68ff\", \"dodgerblue3\", \"red2\"))"
   ]
  },
  {
   "cell_type": "code",
   "execution_count": null,
   "id": "3212e32d",
   "metadata": {},
   "outputs": [],
   "source": [
    "cd8_l1_full_filt$score_tr356  <- pred$scores[,3]"
   ]
  },
  {
   "cell_type": "code",
   "execution_count": null,
   "id": "e9ee97fb",
   "metadata": {},
   "outputs": [],
   "source": [
    "VlnPlot(cd8_l1_full_filt, features = \"score_tr356\", group.by = \"annotations_l2\")"
   ]
  },
  {
   "cell_type": "code",
   "execution_count": null,
   "id": "810252cb",
   "metadata": {},
   "outputs": [],
   "source": [
    "options(repr.plot.width = 14, repr.plot.height = 6)\n",
    "data.frame(Score = cd8_l1_full_filt$score_tr356,\n",
    "                  Annotation = gsub(cd8_l1_full_filt$annotations_l2, pattern = \"---\", replacement = \"\\n\"))  %>% \n",
    "mutate(Annotation = gsub(Annotation, pattern = \"CD8 T cells\", replacement = \"\"))  %>% \n",
    "mutate(Annotation = gsub(Annotation, pattern = \"CD8 Unconventional T cells\", replacement = \"\"))  %>% \n",
    "mutate(Annotation = gsub(Annotation, pattern = \"CD8 NK cells\", replacement = \"\"))  %>% \n",
    "ggplot(aes(x = fct_reorder(Annotation, Score), y = Score)) +\n",
    "  geom_violin() + \n",
    "  stat_summary(fun = \"mean\",\n",
    "               geom = \"crossbar\", \n",
    "               width = 0.5,\n",
    "               colour = \"red\") + ggtitle(\"TR3-56 score\") + theme_classic() + ggtheme() + xlab(\"\")"
   ]
  },
  {
   "cell_type": "code",
   "execution_count": null,
   "id": "5e14a5ba",
   "metadata": {},
   "outputs": [],
   "source": []
  },
  {
   "cell_type": "code",
   "execution_count": null,
   "id": "ea8a40bd",
   "metadata": {},
   "outputs": [],
   "source": [
    "data.frame(Score = cd8_l1_full_filt$score_tr356,\n",
    "                  Annotation = gsub(cd8_l1_full_filt$annotations_l2, pattern = \"---\", replacement = \"\"))  %>% \n",
    "mutate(Annotation = gsub(Annotation, pattern = \"CD8 T cells\", replacement = \"\"))  %>% \n",
    "mutate(Annotation = gsub(Annotation, pattern = \"CD8 Unconventional T cells\", replacement = \"\"))  %>% \n",
    "mutate(Annotation = gsub(Annotation, pattern = \"CD8 NK cells\", replacement = \"\"))  %>% \n",
    "mutate(annot2 = case_when(Annotation %in% c(\"Tem\",\"Tcm\",\"Temra\",\"Proliferating\") ~ \"NonNaive\", \n",
    "                          TRUE ~ Annotation))  %>% \n",
    "ggplot(aes(x = fct_reorder(annot2, Score), y = Score)) +\n",
    "  geom_violin() + \n",
    "  stat_summary(fun = \"mean\",\n",
    "               geom = \"crossbar\", \n",
    "               width = 0.5,\n",
    "               colour = \"red\") + ggtitle(\"TR3-56 score\") + theme_classic() + ggtheme() + xlab(\"\")\n",
    "ggsave(\"../figures/cd356_score.svg\", width = 4, height = 3.5)"
   ]
  },
  {
   "cell_type": "code",
   "execution_count": null,
   "id": "2083e281",
   "metadata": {},
   "outputs": [],
   "source": [
    "options(repr.plot.width = 5, repr.plot.height = 4.5)\n",
    "\n",
    "FeaturePlot(cd8_l1_full_filt, features = \"score_tr356\", min.cutoff = 0.2, max.cutoff = 0.32)"
   ]
  },
  {
   "cell_type": "code",
   "execution_count": null,
   "id": "b6cf30e4",
   "metadata": {},
   "outputs": [],
   "source": [
    "FeaturePlot(cd8_l1_full_filt, features = \"NCAM1\", min.cutoff = 0.2)"
   ]
  },
  {
   "cell_type": "code",
   "execution_count": null,
   "id": "bb8df548",
   "metadata": {},
   "outputs": [],
   "source": [
    "cd8_l1_full_filt"
   ]
  },
  {
   "cell_type": "code",
   "execution_count": null,
   "id": "e56e6824",
   "metadata": {},
   "outputs": [],
   "source": [
    "VlnPlot(cd8_l1_full_filt, features = \"NCAM1\", group.by = \"annotations_l2\")"
   ]
  },
  {
   "cell_type": "code",
   "execution_count": null,
   "id": "a9871f66",
   "metadata": {},
   "outputs": [],
   "source": [
    "cd8_l1_full_filt@meta.data  <- cd8_l1_full_filt@meta.data  %>% \n",
    "mutate(Annotation = gsub(cd8_l1_full_filt$annotations_l2, pattern = \"---\", replacement = \"\"))  %>% \n",
    "mutate(Annotation = gsub(Annotation, pattern = \"CD8 T cells\", replacement = \"\"))  %>% \n",
    "mutate(Annotation = gsub(Annotation, pattern = \"CD8 Unconventional T cells\", replacement = \"\"))  %>% \n",
    "mutate(Annotation = gsub(Annotation, pattern = \"CD8 NK cells\", replacement = \"\"))  %>% \n",
    "mutate(annot2 = case_when(Annotation %in% c(\"Tem\",\"Tcm\",\"Temra\",\"Proliferating\") ~ \"NonNaive\", \n",
    "                          TRUE ~ Annotation)) "
   ]
  },
  {
   "cell_type": "code",
   "execution_count": null,
   "id": "0355bc81",
   "metadata": {},
   "outputs": [],
   "source": [
    "cd8_l1_full_filt$annotations_l2_sample  <- paste(cd8_l1_full_filt$annot2, cd8_l1_full_filt$Sample_ID)"
   ]
  },
  {
   "cell_type": "code",
   "execution_count": null,
   "id": "fac45084",
   "metadata": {},
   "outputs": [],
   "source": [
    "cd8_l1_full_filt$annotations_l2_sample   %>% table"
   ]
  },
  {
   "cell_type": "code",
   "execution_count": null,
   "id": "4bd53e9a",
   "metadata": {
    "scrolled": true
   },
   "outputs": [],
   "source": [
    "# Extract the dataframe with seurat metadata\n",
    "seurat_meta_data <- cd8_l1_full_filt@meta.data\n",
    "seurat_meta_data$sample <- seurat_meta_data$annotations_l2_sample\n",
    "\n",
    "# Select genes of interest\n",
    "# The script only works for two or more genes, you can't select just one!\n",
    "gene_hits <- c(\"NCAM1\", \"TRGC1\", \"CD8A\", \"CD8B\", \n",
    "               \"FCGR3A\",\"CD3D\",\"CD3G\",\"CD3Z\")\n",
    "\n",
    "# By default the percentage of calculated cells is computed for whole sample\n",
    "# Optionally, you can select a cluster that you're interested in by subsetting:\n",
    "# pbmc_small <- subset(pbmc_small, seurat_clusters == 3)\n",
    "\n",
    "\n",
    "# Now we will calculate the percentage of expressing cells for each sample and we will merge the resulting dataframes\n",
    "expr_data4 <- data.frame(genes = gene_hits)\n",
    "\n",
    "# We will need a function that will convert any non-zero count to value 1\n",
    "fns_replace <- function(x){ifelse(x>0,1,0)}\n",
    "\n",
    "for(j in (pull(seurat_meta_data, sample)  %>% unique)){\n",
    "  \n",
    "  # subset only selected cell type\n",
    "  seu_sub_sample <- subset(cd8_l1_full_filt, annotations_l2_sample == j) \n",
    "  \n",
    "  # select the rows corresponding to genes of interest\n",
    "  index_subset <- which(rownames(seu_sub_sample@assays$RNA@counts) %in% gene_hits)\n",
    "  \n",
    "  # create a dataframe with genes of interest and cells of interest\n",
    "  expr_data <- as.data.frame(seu_sub_sample@assays$RNA@counts[index_subset,]) \n",
    "  \n",
    "  # convert expression to binary values\n",
    "  expr_data2 <- expr_data %>% mutate(across(.fns = fns_replace))\n",
    "  rownames(expr_data2) <- rownames(expr_data)\n",
    "  \n",
    "  # calculate average expresion (percentage of cells expressing the gene)\n",
    "  expr_data3 <- rowMeans(expr_data2)\n",
    "  \n",
    "  # add zeroes in cases of no expression\n",
    "  for(k in gene_hits){\n",
    "    if(k %in% names(expr_data3) == F){expr_data3[[k]] <- 0}\n",
    "  }\n",
    "  \n",
    "  expr_data3 <- as.data.frame(expr_data3)\n",
    "  colnames(expr_data3) <- j\n",
    "  expr_data3$genes <- rownames(expr_data3)\n",
    "  \n",
    "  # final dataframe with values in correct order (all cell type, loop results)\n",
    "  expr_data4 <- left_join(expr_data4, expr_data3, by=\"genes\")\n",
    "  \n",
    "}\n",
    "\n",
    "# Now we have the whole dataframe, we just need to tidy it a bit, add metadata and visualize\n",
    "\n",
    "expr_data5 <- as.data.frame(t(expr_data4))\n",
    "colnames(expr_data5) <- expr_data5[1,]\n",
    "expr_data5 <- expr_data5[2:nrow(expr_data5),]\n",
    "expr_data5$sample <- rownames(expr_data5)\n",
    "expr_data5 <- expr_data5 %>% pivot_longer( !sample, names_to = \"gene\", values_to = \"pct_express\")\n",
    "\n",
    "# Add metadata per sample - select those that you will use in the plot below\n",
    "md_to_join <- seurat_meta_data %>% dplyr::select(sample = annotations_l2_sample)  %>% \n",
    "unique() %>% mutate(sample = as.character(sample))\n",
    "md2 <- left_join(expr_data5, md_to_join, by = \"sample\") %>% ungroup %>% unique\n",
    "\n"
   ]
  },
  {
   "cell_type": "code",
   "execution_count": null,
   "id": "623feb9b",
   "metadata": {
    "scrolled": true
   },
   "outputs": [],
   "source": [
    "md2"
   ]
  },
  {
   "cell_type": "code",
   "execution_count": null,
   "id": "bc64b8cb",
   "metadata": {
    "scrolled": true
   },
   "outputs": [],
   "source": [
    "md2 %>% \n",
    "mutate(Sample_ID = substr(sample,nchar(sample)-3,nchar(sample)))  %>% \n",
    "mutate(population = substr(sample,1,nchar(sample)-3)) "
   ]
  },
  {
   "cell_type": "code",
   "execution_count": null,
   "id": "b592426b",
   "metadata": {},
   "outputs": [],
   "source": [
    "options(repr.plot.width = 20, repr.plot.height = 12)\n",
    "\n",
    "md2 %>% \n",
    "dplyr::filter(gene != \"CD3Z\")  %>% \n",
    "pivot_wider(names_from = \"gene\", values_from = \"pct_express\", values_fill = \"0\")  %>% \n",
    "pivot_longer(cols = c(2:8), names_to = \"gene\", values_to = \"pct_express\")  %>% \n",
    "mutate(Sample_ID = substr(sample,nchar(sample)-3,nchar(sample)))  %>% \n",
    "mutate(population = substr(sample,1,nchar(sample)-3))  %>% \n",
    "ggplot(aes(x = population, y = as.numeric(pct_express))) + \n",
    " geom_violin(alpha = 0.3, aes(fill = population), scale = \"width\") + \n",
    " \n",
    "geom_beeswarm(size = 1.5, aes(fill = population), cex = 2, \n",
    "                shape = 21, color = \"grey40\",corral = \"random\") +\n",
    " stat_summary(fun = \"median\",\n",
    "               geom = \"crossbar\", \n",
    "               width = 0.75,\n",
    "               color = \"grey30\") +\n",
    " #stat_compare_means(label = \"p.format\", comparisons = list(c(1,2))) +\n",
    "  theme_minimal() + \n",
    "  facet_wrap(~gene, scales = \"free\", ncol = 5) + \n",
    "  ylim(c(0,NA)) +\n",
    "#ggpubr::stat_compare_means()+\n",
    "  ylab(\"Percentage of expressing cells\") +\n",
    "  theme_classic() + ggtheme() +\n",
    " theme(legend.title = element_blank(),axis.text.x = element_text(angle = 90)) \n",
    "\n",
    "ggsave(\"../figures/scRNAseq_gd_characterization.svg\", width = 13, height = 9)"
   ]
  },
  {
   "cell_type": "code",
   "execution_count": null,
   "id": "bbc1f9f6",
   "metadata": {},
   "outputs": [],
   "source": [
    "options(repr.plot.width = 15, repr.plot.height = 8)\n",
    "\n",
    "md2 %>% \n",
    "pivot_wider(names_from = \"gene\", values_from = \"pct_express\", values_fill = \"0\")  %>% \n",
    "pivot_longer(cols = c(2:9), names_to = \"gene\", values_to = \"pct_express\")  %>% \n",
    "mutate(Sample_ID = substr(sample,nchar(sample)-3,nchar(sample)))  %>% \n",
    "mutate(population = substr(sample,1,nchar(sample)-3))  %>% \n",
    "ggplot(aes(x = population, y = as.numeric(pct_express))) + \n",
    "  geom_boxplot(outlier.shape = NA) +\n",
    "  geom_dotplot(binaxis='y', stackdir='center', dotsize=0) + \n",
    "  geom_jitter(position=position_jitter(0.2), size = 2, aes(color = factor(population))) +\n",
    "  theme_minimal() + \n",
    "  facet_wrap(~gene, scales = \"free\", ncol = 5) + \n",
    "  ylim(c(0,NA)) +\n",
    "ggpubr::stat_compare_means()+\n",
    "  ylab(\"Percentage of expressing cells\") +\n",
    "  theme(legend.title = element_blank())"
   ]
  },
  {
   "cell_type": "code",
   "execution_count": null,
   "id": "7e3e216e",
   "metadata": {},
   "outputs": [],
   "source": []
  },
  {
   "cell_type": "code",
   "execution_count": null,
   "id": "e0f29f5c",
   "metadata": {},
   "outputs": [],
   "source": [
    "FeaturePlot(cd8_l1_full_filt, features = \"score_tr356\", min.cutoff = 0.2, cols = c(\"#2d95ffff\",\"#ff4140ff\",\"#ff4140ff\"))"
   ]
  },
  {
   "cell_type": "code",
   "execution_count": null,
   "id": "3c75b7df",
   "metadata": {},
   "outputs": [],
   "source": [
    "FeaturePlot(cd8_l1_full_filt, features = \"score_tr356\", min.cutoff = 0.2, cols = c(\"white\",\"white\",\"#ff4140ff\"))"
   ]
  },
  {
   "cell_type": "code",
   "execution_count": null,
   "id": "39351853",
   "metadata": {},
   "outputs": [],
   "source": [
    "FeaturePlot(cd8_l1_full_filt, features = \"score_tr356\", min.cutoff = 0.2, cols = c(\"grey88\",\"red\",\"#ff4140ff\"))"
   ]
  },
  {
   "cell_type": "markdown",
   "id": "5dadc4a2",
   "metadata": {},
   "source": [
    "### Without CD3+CD56- "
   ]
  },
  {
   "cell_type": "code",
   "execution_count": null,
   "id": "6d2dfc8a",
   "metadata": {},
   "outputs": [],
   "source": [
    "library(GEOquery)"
   ]
  },
  {
   "cell_type": "code",
   "execution_count": null,
   "id": "5548bc98",
   "metadata": {},
   "outputs": [],
   "source": [
    "gset <- getGEO(\"GSE106082\", GSEMatrix =TRUE, getGPL=TRUE, AnnotGPL=TRUE)"
   ]
  },
  {
   "cell_type": "code",
   "execution_count": null,
   "id": "5c8c6d98",
   "metadata": {},
   "outputs": [],
   "source": [
    "library(readr)"
   ]
  },
  {
   "cell_type": "code",
   "execution_count": null,
   "id": "1ebb8049",
   "metadata": {},
   "outputs": [],
   "source": [
    "metadata <- data.frame(geo_id = gset$GSE106082_series_matrix.txt.gz$geo_accession,\n",
    "                       cell_type = gset$GSE106082_series_matrix.txt.gz$`characteristics_ch1.1`\n",
    "                       )"
   ]
  },
  {
   "cell_type": "code",
   "execution_count": null,
   "id": "35e99dca",
   "metadata": {},
   "outputs": [],
   "source": [
    "mtx_tr356  <- read_csv(\"../data/published_data/Terrazzano_2020/tr356_df_sum.csv\")"
   ]
  },
  {
   "cell_type": "code",
   "execution_count": null,
   "id": "3bceb57e",
   "metadata": {},
   "outputs": [],
   "source": [
    "mtx_tr356$`...1`  <- NULL"
   ]
  },
  {
   "cell_type": "code",
   "execution_count": null,
   "id": "deb5e48e",
   "metadata": {},
   "outputs": [],
   "source": [
    "mtx_tr356  <- mtx_tr356  %>% column_to_rownames(\"SYMBOL\")"
   ]
  },
  {
   "cell_type": "code",
   "execution_count": null,
   "id": "65c4f352",
   "metadata": {},
   "outputs": [],
   "source": [
    "mtx_tr356  <- mtx_tr356  %>% mutate_all(.funs = as.numeric)"
   ]
  },
  {
   "cell_type": "code",
   "execution_count": null,
   "id": "bbfe1c08",
   "metadata": {
    "scrolled": true
   },
   "outputs": [],
   "source": [
    "mtx_tr356"
   ]
  },
  {
   "cell_type": "code",
   "execution_count": null,
   "id": "d9265835",
   "metadata": {},
   "outputs": [],
   "source": [
    "ref_tr3_56 <- list(matrix = mtx_tr356, \n",
    "                       labels = metadata$cell_type)\n"
   ]
  },
  {
   "cell_type": "code",
   "execution_count": null,
   "id": "6ed76510",
   "metadata": {
    "scrolled": true
   },
   "outputs": [],
   "source": [
    "mtx_tr356"
   ]
  },
  {
   "cell_type": "code",
   "execution_count": null,
   "id": "91ed2f16",
   "metadata": {},
   "outputs": [],
   "source": [
    "ref_tr3_56$labels"
   ]
  },
  {
   "cell_type": "code",
   "execution_count": null,
   "id": "99d37bc3",
   "metadata": {},
   "outputs": [],
   "source": [
    "ref_tr3_56$matrix  <- as.matrix(ref_tr3_56$matrix)"
   ]
  },
  {
   "cell_type": "code",
   "execution_count": null,
   "id": "24abd94c",
   "metadata": {},
   "outputs": [],
   "source": [
    "head(rownames(ref_tr3_56$matrix))"
   ]
  },
  {
   "cell_type": "code",
   "execution_count": null,
   "id": "ad8d891f",
   "metadata": {
    "scrolled": true
   },
   "outputs": [],
   "source": [
    "pred <- SingleR(test = cd8_l1_full_filt@assays$RNA@counts, \n",
    "                ref=ref_tr3_56$matrix, labels=ref_tr3_56$labels, \n",
    "                fine.tune = T,num.threads = 4\n",
    "       )"
   ]
  },
  {
   "cell_type": "code",
   "execution_count": null,
   "id": "67ebfb38",
   "metadata": {
    "scrolled": true
   },
   "outputs": [],
   "source": [
    "pred\n"
   ]
  },
  {
   "cell_type": "code",
   "execution_count": null,
   "id": "3fb454f5",
   "metadata": {},
   "outputs": [],
   "source": [
    "cd8_l1_full_filt$singler  <- pred$labels"
   ]
  },
  {
   "cell_type": "code",
   "execution_count": null,
   "id": "06a61ca2",
   "metadata": {},
   "outputs": [],
   "source": [
    "DimPlot(cd8_l1_full_filt, group.by = \"annotations_l2\")"
   ]
  },
  {
   "cell_type": "code",
   "execution_count": null,
   "id": "26bc1124",
   "metadata": {},
   "outputs": [],
   "source": [
    "DimPlot(cd8_l1_full_filt, group.by = \"singler\", shuffle = T, cols = c(\"purple\",\"grey88\",\"dodgerblue\",\"red\"))"
   ]
  },
  {
   "cell_type": "code",
   "execution_count": null,
   "id": "099c583b",
   "metadata": {},
   "outputs": [],
   "source": [
    "test  <- data.frame(annotation = cd8_l1_full_filt$annotations_l2,\n",
    "                    pred = cd8_l1_full_filt$singler)"
   ]
  },
  {
   "cell_type": "code",
   "execution_count": null,
   "id": "16e8d189",
   "metadata": {},
   "outputs": [],
   "source": [
    "df2 <- test %>% group_by(annotation, pred) %>% \n",
    "  summarise(n = n()) %>%\n",
    "  mutate(freq = n / sum(n))"
   ]
  },
  {
   "cell_type": "code",
   "execution_count": null,
   "id": "b8ba3eb4",
   "metadata": {},
   "outputs": [],
   "source": [
    "df2"
   ]
  },
  {
   "cell_type": "code",
   "execution_count": null,
   "id": "32a84667",
   "metadata": {},
   "outputs": [],
   "source": [
    "df2"
   ]
  },
  {
   "cell_type": "code",
   "execution_count": null,
   "id": "23466884",
   "metadata": {},
   "outputs": [],
   "source": [
    "cd8_l1_full_filt$score_tr356  <- pred$scores[,4]"
   ]
  },
  {
   "cell_type": "code",
   "execution_count": null,
   "id": "dc501dc6",
   "metadata": {},
   "outputs": [],
   "source": [
    "VlnPlot(cd8_l1_full_filt, features = \"score_tr356\", group.by = \"annotations_l2\")"
   ]
  },
  {
   "cell_type": "code",
   "execution_count": null,
   "id": "3f4fab5c",
   "metadata": {},
   "outputs": [],
   "source": [
    "options(repr.plot.width = 14, repr.plot.height = 6)\n",
    "data.frame(Score = cd8_l1_full_filt$score_tr356,\n",
    "                  Annotation = gsub(cd8_l1_full_filt$annotations_l2, pattern = \"---\", replacement = \"\\n\"))  %>% \n",
    "mutate(Annotation = gsub(Annotation, pattern = \"CD8 T cells\", replacement = \"\"))  %>% \n",
    "mutate(Annotation = gsub(Annotation, pattern = \"CD8 Unconventional T cells\", replacement = \"\"))  %>% \n",
    "mutate(Annotation = gsub(Annotation, pattern = \"CD8 NK cells\", replacement = \"\"))  %>% \n",
    "ggplot(aes(x = fct_reorder(Annotation, Score), y = Score)) +\n",
    "  geom_violin() + \n",
    "  stat_summary(fun = \"mean\",\n",
    "               geom = \"crossbar\", \n",
    "               width = 0.5,\n",
    "               colour = \"red\") + ggtitle(\"TR3-56 score\") + theme_classic() + ggtheme() + xlab(\"\")"
   ]
  },
  {
   "cell_type": "code",
   "execution_count": null,
   "id": "eb5fdedd",
   "metadata": {},
   "outputs": [],
   "source": [
    "FeaturePlot(cd8_l1_full_filt, features = \"NCAM1\", min.cutoff = 0.2)"
   ]
  },
  {
   "cell_type": "code",
   "execution_count": null,
   "id": "8a90b7f2",
   "metadata": {},
   "outputs": [],
   "source": [
    "FeaturePlot(cd8_l1_full_filt, features = \"NCAM1\", min.cutoff = 0.2)"
   ]
  },
  {
   "cell_type": "code",
   "execution_count": null,
   "id": "2f12718c",
   "metadata": {},
   "outputs": [],
   "source": [
    "VlnPlot(cd8_l1_full_filt, features = \"NCAM1\", group.by = \"annotations_l2\")"
   ]
  },
  {
   "cell_type": "code",
   "execution_count": null,
   "id": "371fbb4f",
   "metadata": {},
   "outputs": [],
   "source": [
    "cd8_l1_full_filt$annotations_l2_sample  <- paste(cd8_l1_full_filt$annotations_l2, cd8_l1_full_filt$Sample_ID)"
   ]
  },
  {
   "cell_type": "code",
   "execution_count": null,
   "id": "1221ac74",
   "metadata": {},
   "outputs": [],
   "source": [
    "cd8_l1_full_filt$annotations_l2_sample   %>% table"
   ]
  },
  {
   "cell_type": "code",
   "execution_count": null,
   "id": "bb7166bf",
   "metadata": {
    "scrolled": true
   },
   "outputs": [],
   "source": [
    "# Extract the dataframe with seurat metadata\n",
    "seurat_meta_data <- cd8_l1_full_filt@meta.data\n",
    "seurat_meta_data$sample <- seurat_meta_data$annotations_l2_sample\n",
    "\n",
    "# Select genes of interest\n",
    "# The script only works for two or more genes, you can't select just one!\n",
    "gene_hits <- c(\"NCAM1\", \"TRGC1\", \"CD8A\", \"CD8B\", \n",
    "               \"FCGR3A\",\"CD3D\",\"CD3G\",\"CD3Z\")\n",
    "\n",
    "# By default the percentage of calculated cells is computed for whole sample\n",
    "# Optionally, you can select a cluster that you're interested in by subsetting:\n",
    "# pbmc_small <- subset(pbmc_small, seurat_clusters == 3)\n",
    "\n",
    "\n",
    "# Now we will calculate the percentage of expressing cells for each sample and we will merge the resulting dataframes\n",
    "expr_data4 <- data.frame(genes = gene_hits)\n",
    "\n",
    "# We will need a function that will convert any non-zero count to value 1\n",
    "fns_replace <- function(x){ifelse(x>0,1,0)}\n",
    "\n",
    "for(j in (pull(seurat_meta_data, sample)  %>% unique)){\n",
    "  \n",
    "  # subset only selected cell type\n",
    "  seu_sub_sample <- subset(cd8_l1_full_filt, annotations_l2_sample == j) \n",
    "  \n",
    "  # select the rows corresponding to genes of interest\n",
    "  index_subset <- which(rownames(seu_sub_sample@assays$RNA@counts) %in% gene_hits)\n",
    "  \n",
    "  # create a dataframe with genes of interest and cells of interest\n",
    "  expr_data <- as.data.frame(seu_sub_sample@assays$RNA@counts[index_subset,]) \n",
    "  \n",
    "  # convert expression to binary values\n",
    "  expr_data2 <- expr_data %>% mutate(across(.fns = fns_replace))\n",
    "  rownames(expr_data2) <- rownames(expr_data)\n",
    "  \n",
    "  # calculate average expresion (percentage of cells expressing the gene)\n",
    "  expr_data3 <- rowMeans(expr_data2)\n",
    "  \n",
    "  # add zeroes in cases of no expression\n",
    "  for(k in gene_hits){\n",
    "    if(k %in% names(expr_data3) == F){expr_data3[[k]] <- 0}\n",
    "  }\n",
    "  \n",
    "  expr_data3 <- as.data.frame(expr_data3)\n",
    "  colnames(expr_data3) <- j\n",
    "  expr_data3$genes <- rownames(expr_data3)\n",
    "  \n",
    "  # final dataframe with values in correct order (all cell type, loop results)\n",
    "  expr_data4 <- left_join(expr_data4, expr_data3, by=\"genes\")\n",
    "  \n",
    "}\n",
    "\n",
    "# Now we have the whole dataframe, we just need to tidy it a bit, add metadata and visualize\n",
    "\n",
    "expr_data5 <- as.data.frame(t(expr_data4))\n",
    "colnames(expr_data5) <- expr_data5[1,]\n",
    "expr_data5 <- expr_data5[2:nrow(expr_data5),]\n",
    "expr_data5$sample <- rownames(expr_data5)\n",
    "expr_data5 <- expr_data5 %>% pivot_longer( !sample, names_to = \"gene\", values_to = \"pct_express\")\n",
    "\n",
    "# Add metadata per sample - select those that you will use in the plot below\n",
    "md_to_join <- seurat_meta_data %>% dplyr::select(sample = annotations_l2_sample)  %>% \n",
    "unique() %>% mutate(sample = as.character(sample))\n",
    "md2 <- left_join(expr_data5, md_to_join, by = \"sample\") %>% ungroup %>% unique\n",
    "\n"
   ]
  },
  {
   "cell_type": "code",
   "execution_count": null,
   "id": "d25b7df9",
   "metadata": {
    "scrolled": true
   },
   "outputs": [],
   "source": [
    "md2"
   ]
  },
  {
   "cell_type": "code",
   "execution_count": null,
   "id": "8f025a21",
   "metadata": {
    "scrolled": true
   },
   "outputs": [],
   "source": [
    "md2 %>% \n",
    "mutate(Sample_ID = substr(sample,nchar(sample)-3,nchar(sample)))  %>% \n",
    "mutate(population = substr(sample,1,nchar(sample)-3)) "
   ]
  },
  {
   "cell_type": "code",
   "execution_count": null,
   "id": "fc28c306",
   "metadata": {},
   "outputs": [],
   "source": [
    "options(repr.plot.width = 15, repr.plot.height = 8)\n",
    "\n",
    "md2 %>% \n",
    "pivot_wider(names_from = \"gene\", values_from = \"pct_express\", values_fill = \"0\")  %>% \n",
    "pivot_longer(cols = c(2:9), names_to = \"gene\", values_to = \"pct_express\")  %>% \n",
    "mutate(Sample_ID = substr(sample,nchar(sample)-3,nchar(sample)))  %>% \n",
    "mutate(population = substr(sample,1,nchar(sample)-3))  %>% \n",
    "ggplot(aes(x = population, y = as.numeric(pct_express))) + \n",
    "  geom_boxplot(outlier.shape = NA) +\n",
    "  geom_dotplot(binaxis='y', stackdir='center', dotsize=0) + \n",
    "  geom_jitter(position=position_jitter(0.2), size = 2, aes(color = factor(population))) +\n",
    "  theme_minimal() + \n",
    "  facet_wrap(~gene, scales = \"free\", ncol = 5) + \n",
    "  ylim(c(0,NA)) +\n",
    "ggpubr::stat_compare_means()+\n",
    "  ylab(\"Percentage of expressing cells\") +\n",
    "  theme(legend.title = element_blank())"
   ]
  },
  {
   "cell_type": "code",
   "execution_count": null,
   "id": "7dd1aaa8",
   "metadata": {},
   "outputs": [],
   "source": [
    "ggplot(test) +\n",
    "  aes(x = annotation, fill = factor(pred)) +\n",
    "  geom_bar(position = \"fill\") + \n",
    "theme_classic() + \n",
    "ggtheme() +\n",
    "coord_flip() + \n",
    "scale_fill_manual(values = c(\"#74bc68ff\",\"#d6ebd2ff\", \"#bde0f7ff\", \"red2\"))\n",
    "#scale_fill_manual(values = c(\"grey\",\"#74bc68ff\", \"dodgerblue3\", \"red2\"))"
   ]
  },
  {
   "cell_type": "code",
   "execution_count": null,
   "id": "e1a6b880",
   "metadata": {},
   "outputs": [],
   "source": [
    "cd8_l1_full_filt"
   ]
  },
  {
   "cell_type": "markdown",
   "id": "a3a87bda",
   "metadata": {},
   "source": [
    "# DE genes heatmap avg."
   ]
  },
  {
   "cell_type": "code",
   "execution_count": null,
   "id": "d9552d68",
   "metadata": {},
   "outputs": [],
   "source": []
  },
  {
   "cell_type": "code",
   "execution_count": null,
   "id": "eed8c2b7",
   "metadata": {},
   "outputs": [],
   "source": [
    "avgexp = AverageExpression(subset(cd8_l1_full_filt, Experiment_ID %in% c(\"Exp16\",\"Exp18\",\"Exp19\",\"Exp20\")), \n",
    "                             return.seurat = F, group.by = \"Patient_Time\", \n",
    "                          assay = \"RNA\")"
   ]
  },
  {
   "cell_type": "code",
   "execution_count": null,
   "id": "c9fd7931",
   "metadata": {
    "scrolled": true
   },
   "outputs": [],
   "source": [
    "avgexp$RNA[which(rownames(avgexp$RNA)==\"GNLY\"),]  %>% as.data.frame()"
   ]
  },
  {
   "cell_type": "markdown",
   "id": "ceef9110",
   "metadata": {},
   "source": [
    "## Heatmap"
   ]
  },
  {
   "cell_type": "markdown",
   "id": "37ddd12a",
   "metadata": {},
   "source": [
    "### All cells"
   ]
  },
  {
   "cell_type": "code",
   "execution_count": null,
   "id": "cfe7695a",
   "metadata": {},
   "outputs": [],
   "source": [
    "cd8_l1_full_filt$Patient_Time_Disease  <- paste(cd8_l1_full_filt$Patient_ID, cd8_l1_full_filt$Time, \n",
    "                                               cd8_l1_full_filt$Disease)"
   ]
  },
  {
   "cell_type": "code",
   "execution_count": null,
   "id": "c188da67",
   "metadata": {},
   "outputs": [],
   "source": [
    "cd8_l1_full_filt$Disease_time  <- paste(\n",
    "                                               cd8_l1_full_filt$Disease,\n",
    "cd8_l1_full_filt$Time)"
   ]
  },
  {
   "cell_type": "code",
   "execution_count": null,
   "id": "95d1bc5b",
   "metadata": {},
   "outputs": [],
   "source": [
    "avgexp = AverageExpression(subset(cd8_l1_full_filt, Experiment_ID %in% c(\"Exp16\",\"Exp18\",\"Exp19\",\"Exp20\")), \n",
    "                             return.seurat = F, group.by = \"Disease_time\", \n",
    "                          assay = \"RNA\")"
   ]
  },
  {
   "cell_type": "code",
   "execution_count": null,
   "id": "22d1b4e0",
   "metadata": {},
   "outputs": [],
   "source": [
    "genes  <- c(\"PCBP2\",\"PCBP1\",\n",
    "            \"CX3CR1\",\"TNF\",\"GZMB\",\"GZMA\",\"PRF1\",\"NKG7\",\"GNLY\",\"CCL5\",\"CST7\",\n",
    "            \"BTG1\",\"SELL\",\"IL7R\",\"CCR7\",\"BTG2\",\"SLAMF6\",\"LEF1\",\n",
    "             \"TNFAIP3\",\"TSC22D3\",\"NKFBIA\",\"DUSP1\")"
   ]
  },
  {
   "cell_type": "code",
   "execution_count": null,
   "id": "10d5a52b",
   "metadata": {},
   "outputs": [],
   "source": [
    "avgexp  <- avgexp$RNA[which(rownames(avgexp$RNA) %in% genes),]"
   ]
  },
  {
   "cell_type": "code",
   "execution_count": null,
   "id": "f0d03a1e",
   "metadata": {
    "scrolled": false
   },
   "outputs": [],
   "source": [
    "library(pheatmap)\n",
    "\n",
    "options(repr.plot.width = 4, repr.plot.height = 9)\n",
    "pheatmap(avgexp, main = \"\", scale = \"row\", cluster_cols = F, cluster_rows = T,\n",
    "        color=colorRampPalette(c(\"dodgerblue\", \"grey95\", \"indianred2\"))(50), \n",
    "         border_color = \"white\", width = 9, height = 3.3,\n",
    "                  fontsize = 9)"
   ]
  },
  {
   "cell_type": "code",
   "execution_count": null,
   "id": "b1cee297",
   "metadata": {},
   "outputs": [],
   "source": [
    "dir.create(\"../tables/avg_heatmap/\")\n",
    "write.csv(avgexp, \"../tables/avg_heatmap/cd8_avg.csv\")"
   ]
  },
  {
   "cell_type": "markdown",
   "id": "42b89e96",
   "metadata": {},
   "source": [
    "### Average of patient"
   ]
  },
  {
   "cell_type": "code",
   "execution_count": null,
   "id": "496c426f",
   "metadata": {},
   "outputs": [],
   "source": [
    "genes  <- c(\"PCBP2\",\"PCBP1\",\n",
    "            \"CX3CR1\",\"TNF\",\"GZMB\",\"GZMA\",\"PRF1\",\"NKG7\",\"GNLY\",\"CCL5\",\"CST7\",\n",
    "            \"BTG1\",\"SELL\",\"IL7R\",\"CCR7\",\"BTG2\",\"SLAMF6\",\"LEF1\",\n",
    "             \"TSC22D3\",\"NKFBIA\",\"DUSP1\",\"CXCR4\",\"PI3KR1\",\"CCL4\", \"IFI44L\",\"EPSTI1\",\"MX1\", \"FOXO1\", \"ISG15\")"
   ]
  },
  {
   "cell_type": "code",
   "execution_count": null,
   "id": "f7883f2c",
   "metadata": {},
   "outputs": [],
   "source": [
    "avgexp = AverageExpression(subset(cd8_l1_full_filt, Experiment_ID %in% c(\"Exp16\",\"Exp18\",\"Exp19\",\"Exp20\")), \n",
    "                             return.seurat = T, group.by = \"Patient_Time_Disease\", \n",
    "                          assay = \"RNA\")"
   ]
  },
  {
   "cell_type": "code",
   "execution_count": null,
   "id": "fa70c402",
   "metadata": {},
   "outputs": [],
   "source": [
    "avgexp$Patient_Time_Disease  <- colnames(avgexp)\n",
    "avgexp@meta.data  <- avgexp@meta.data  %>% \n",
    "separate(Patient_Time_Disease, into = c(\"Patient\", \"Time\", \"Disease\"), sep = \" \", remove = F)"
   ]
  },
  {
   "cell_type": "code",
   "execution_count": null,
   "id": "66500720",
   "metadata": {},
   "outputs": [],
   "source": [
    "avgexp$Disease_Time  <- paste(avgexp$Disease, avgexp$Time)"
   ]
  },
  {
   "cell_type": "code",
   "execution_count": null,
   "id": "69c65de3",
   "metadata": {},
   "outputs": [],
   "source": [
    "avgexp2 = AverageExpression(avgexp, \n",
    "                             return.seurat = F, group.by = \"Disease_Time\")"
   ]
  },
  {
   "cell_type": "code",
   "execution_count": null,
   "id": "e6553b8f",
   "metadata": {
    "scrolled": true
   },
   "outputs": [],
   "source": [
    "avgexp3  <- avgexp2$RNA[which(rownames(avgexp2$RNA) %in% genes),]"
   ]
  },
  {
   "cell_type": "code",
   "execution_count": null,
   "id": "1ca14290",
   "metadata": {
    "scrolled": true
   },
   "outputs": [],
   "source": [
    "avgexp3"
   ]
  },
  {
   "cell_type": "code",
   "execution_count": null,
   "id": "581dd18d",
   "metadata": {},
   "outputs": [],
   "source": [
    "options(repr.plot.width = 4, repr.plot.height = 9)\n",
    "pheatmap(avgexp3, main = \"\", scale = \"row\", cluster_cols = F, cluster_rows = T,\n",
    "        color=colorRampPalette(c(\"dodgerblue\", \"grey95\", \"indianred2\"))(50), \n",
    "         border_color = \"white\", width = 9, height = 3.3,\n",
    "                  fontsize = 9)"
   ]
  },
  {
   "cell_type": "code",
   "execution_count": null,
   "id": "eab56290",
   "metadata": {},
   "outputs": [],
   "source": []
  },
  {
   "cell_type": "code",
   "execution_count": null,
   "id": "582fbbb8",
   "metadata": {},
   "outputs": [],
   "source": []
  },
  {
   "cell_type": "code",
   "execution_count": null,
   "id": "a3384689",
   "metadata": {},
   "outputs": [],
   "source": [
    "write.csv(avgexp3, \"../tables/avg_heatmap/cd8_avg_by_patient.csv\")"
   ]
  },
  {
   "cell_type": "code",
   "execution_count": null,
   "id": "b1d985ae",
   "metadata": {},
   "outputs": [],
   "source": [
    "genes2  <- c(\"PCBP2\",\"PCBP1\",\"CXCR4\",\"FOXO1\",\"IL7R\",\"LEF1\",\"CCR7\",\"SELL\",\n",
    "             \"DUSP1\",\"TSC22D3\",\"NFKBIA\",\"TNFAIP3\",\n",
    "             \"IFI44L\",\"ISG15\",\"MX1\",\"EPSTI1\",\n",
    "            \"PRF1\",\"NKG7\",\"GZMB\",\"CST7\",\"GNLY\",\"GZMA\",\"CX3CR1\",\"CCL5\",\"TNF\"\n",
    "            )"
   ]
  },
  {
   "cell_type": "code",
   "execution_count": null,
   "id": "10a3d95f",
   "metadata": {},
   "outputs": [],
   "source": [
    "avgexp3  <- avgexp2$RNA[which(rownames(avgexp2$RNA) %in% genes2),]"
   ]
  },
  {
   "cell_type": "code",
   "execution_count": null,
   "id": "948883fb",
   "metadata": {},
   "outputs": [],
   "source": [
    "pheatmap(avgexp3[match(genes2,rownames(avgexp3)),], \n",
    "         main = \"\", scale = \"row\", cluster_cols = F, cluster_rows =F,\n",
    "        color=colorRampPalette(c(\"dodgerblue\", \"grey95\", \"indianred2\"))(50), \n",
    "         border_color = \"white\", width = 5, height = 10,\n",
    "                  fontsize = 9)"
   ]
  },
  {
   "cell_type": "code",
   "execution_count": null,
   "id": "ea124406",
   "metadata": {},
   "outputs": [],
   "source": [
    "options(repr.plot.width = 4, repr.plot.height = 9)\n",
    "pheatmap(avgexp3[match(genes2,rownames(avgexp3)),], \n",
    "         main = \"\", scale = \"row\", cluster_cols = F, cluster_rows =F,\n",
    "        color=colorRampPalette(c(\"dodgerblue\", \"grey95\", \"indianred2\"))(50), \n",
    "         border_color = \"white\", width = 5, height = 10,\n",
    "                  fontsize = 9,\n",
    "        filename = \"../figures/heatmaps/de_genes_cd8.pdf\")"
   ]
  },
  {
   "cell_type": "code",
   "execution_count": null,
   "id": "2ad62b0a",
   "metadata": {},
   "outputs": [],
   "source": []
  },
  {
   "cell_type": "code",
   "execution_count": null,
   "id": "b44e6d98",
   "metadata": {},
   "outputs": [],
   "source": [
    "plot_gene  <- function(gene){\n",
    "    df  <- as.data.frame(avgexp$RNA[which(rownames(avgexp$RNA)==gene),])  %>% rownames_to_column(\"Patient_Time\")\n",
    "    colnames(df)[2]  <- \"gene2\"\n",
    "    df  <-  df  %>% separate(Patient_Time, into = c(\"Patient\",\"Time\"), sep = \" \", remove = F)  %>% \n",
    "    mutate(group = ifelse(substr(Patient,1,1)==\"1\",\"Dia\",\"Ctrl\"))  %>% \n",
    "    mutate(Condition = paste(group, Time))\n",
    "   # print(df)\n",
    " p  <-    df  %>% ggplot(aes(x = Condition, y = gene2)) + \n",
    " geom_violin(alpha = 0.3, aes(fill = Condition), scale = \"width\") + \n",
    "stat_summary(fun = \"median\",\n",
    "               geom = \"crossbar\", \n",
    "               width = 0.75,\n",
    "               color = \"grey30\") +\n",
    "geom_beeswarm(size = 3, aes(fill = Condition), cex = 3, \n",
    "                shape = 21, color = \"black\", corral = \"random\") +\n",
    " stat_compare_means(label = \"p.format\", comparisons = list(c(1,2))) +\n",
    "scale_fill_manual(values = c(\"#1874cdff\",  \"#ee6363ff\", \"#c41515ff\",\"#eeb4b4ff\")) +\n",
    "scale_color_manual(values = c(\"dodgerblue3\",  \"#e54c4cff\", \"#aa2a2aff\",\"#e88989ff\")) +\n",
    "ylab(\"\") +\n",
    "  xlab(\"\") +\n",
    "  ylim(0,NA) +\n",
    "  theme_classic() +\n",
    "theme(strip.background = element_blank(), panel.grid = element_blank()) + \n",
    "  theme(axis.text = element_text(color = \"black\"),\n",
    "        axis.text.x = element_text(angle = 90),\n",
    "       axis.line = element_line(color = \"black\", size = 0.5),\n",
    "        axis.ticks.x = element_blank()) +\n",
    "  ggtitle(gene) + ggtheme()\n",
    "    \n",
    "    p2  <-    df  %>% dplyr::filter(Patient != 116)  %>% ggplot(aes(x = Condition, y = gene2)) + \n",
    " geom_violin(alpha = 0.3, aes(fill = Condition), scale = \"width\") + \n",
    "stat_summary(fun = \"median\",\n",
    "               geom = \"crossbar\", \n",
    "               width = 0.75,\n",
    "               color = \"grey30\") +\n",
    "geom_beeswarm(size = 3, aes(fill = Condition), cex = 3, \n",
    "                shape = 21, color = \"black\", corral = \"random\") +\n",
    " stat_compare_means(label = \"p.format\", comparisons = list(c(2,3)), paired = TRUE) +\n",
    "scale_fill_manual(values = c(\"#1874cdff\",  \"#ee6363ff\", \"#c41515ff\",\"#eeb4b4ff\")) +\n",
    "scale_color_manual(values = c(\"dodgerblue3\",  \"#e54c4cff\", \"#aa2a2aff\",\"#e88989ff\")) +\n",
    "ylab(\"\") +\n",
    "  xlab(\"\") +\n",
    "  ylim(0,NA) +\n",
    "  theme_classic() +\n",
    "theme(strip.background = element_blank(), panel.grid = element_blank()) + \n",
    "  theme(axis.text = element_text(color = \"black\"),\n",
    "        axis.text.x = element_text(angle = 90),\n",
    "       axis.line = element_line(color = \"black\", size = 0.5),\n",
    "        axis.ticks.x = element_blank()) +\n",
    "  ggtitle(gene) + ggtheme()\n",
    "    p  <- p + p2\n",
    "    return(p)\n",
    "    }"
   ]
  },
  {
   "cell_type": "code",
   "execution_count": null,
   "id": "8bc7962e",
   "metadata": {},
   "outputs": [],
   "source": [
    "plot_gene2  <- function(gene){\n",
    "    options(repr.plot.width = 2.5, repr.plot.height = 4)\n",
    "    df  <- as.data.frame(avgexp$RNA[which(rownames(avgexp$RNA)==gene),])  %>% rownames_to_column(\"Patient_Time\")\n",
    "    colnames(df)[2]  <- \"gene2\"\n",
    "    df  <-  df  %>% separate(Patient_Time, into = c(\"Patient\",\"Time\"), sep = \" \", remove = F)  %>% \n",
    "    mutate(group = ifelse(substr(Patient,1,1)==\"1\",\"Dia\",\"Ctrl\"))  %>% \n",
    "    mutate(Condition = paste(group, Time))\n",
    "   # print(df)\n",
    " p  <-    df  %>% ggplot(aes(x = Condition, y = gene2)) + \n",
    " geom_violin(alpha = 0.3, aes(fill = Condition), scale = \"width\") + \n",
    "stat_summary(fun = \"median\",\n",
    "               geom = \"crossbar\", \n",
    "               width = 0.75,\n",
    "               color = \"grey30\") +\n",
    "geom_beeswarm(size = 3, aes(fill = Condition), cex = 3, \n",
    "                shape = 21, color = \"black\", corral = \"random\") +\n",
    " stat_compare_means(label = \"p.format\", comparisons = list(c(1,2))) +\n",
    "scale_fill_manual(values = c(\"#1874cdff\",  \"#ee6363ff\", \"#c41515ff\",\"#eeb4b4ff\")) +\n",
    "scale_color_manual(values = c(\"dodgerblue3\",  \"#e54c4cff\", \"#aa2a2aff\",\"#e88989ff\")) +\n",
    "ylab(\"\") +\n",
    "  xlab(\"\") +\n",
    "  ylim(0,NA) +\n",
    "  theme_classic() +\n",
    "theme(strip.background = element_blank(), panel.grid = element_blank()) + \n",
    "  theme(axis.text = element_text(color = \"black\"),\n",
    "        axis.text.x = element_blank(),\n",
    "       axis.line = element_line(color = \"black\", size = 0.5),\n",
    "        axis.ticks.x = element_blank()) +\n",
    "  ggtitle(gene) + ggtheme() + NoLegend()\n",
    "  \n",
    "    return(p)\n",
    "    }"
   ]
  },
  {
   "cell_type": "code",
   "execution_count": null,
   "id": "323f69e6",
   "metadata": {},
   "outputs": [],
   "source": [
    "plot_gene(\"IFI44L\")"
   ]
  },
  {
   "cell_type": "code",
   "execution_count": null,
   "id": "86d4df3b",
   "metadata": {
    "scrolled": true
   },
   "outputs": [],
   "source": [
    "plot_gene2(\"NKG7\")"
   ]
  },
  {
   "cell_type": "code",
   "execution_count": null,
   "id": "5eb63cc5",
   "metadata": {},
   "outputs": [],
   "source": [
    "plot_gene2(\"BTN3A2\")"
   ]
  },
  {
   "cell_type": "code",
   "execution_count": null,
   "id": "c70e0651",
   "metadata": {},
   "outputs": [],
   "source": [
    "plot_gene(\"ASCL2\")"
   ]
  },
  {
   "cell_type": "code",
   "execution_count": null,
   "id": "e93fa2c8",
   "metadata": {},
   "outputs": [],
   "source": [
    "plot_gene(\"DUSP1\")"
   ]
  },
  {
   "cell_type": "code",
   "execution_count": null,
   "id": "e6d5d1b7",
   "metadata": {},
   "outputs": [],
   "source": [
    "plot_gene(\"TSC22D3\")"
   ]
  },
  {
   "cell_type": "code",
   "execution_count": null,
   "id": "ee608d2c",
   "metadata": {},
   "outputs": [],
   "source": [
    "plot_gene(\"RBM3\")"
   ]
  },
  {
   "cell_type": "code",
   "execution_count": null,
   "id": "d05db933",
   "metadata": {
    "scrolled": true
   },
   "outputs": [],
   "source": [
    "plot_gene(\"GADD45B\")"
   ]
  },
  {
   "cell_type": "code",
   "execution_count": null,
   "id": "76e8a7c2",
   "metadata": {},
   "outputs": [],
   "source": []
  },
  {
   "cell_type": "code",
   "execution_count": null,
   "id": "54603f3a",
   "metadata": {},
   "outputs": [],
   "source": [
    "DimPlot(cd8_l2_nk)"
   ]
  },
  {
   "cell_type": "code",
   "execution_count": null,
   "id": "5ed2ceaa",
   "metadata": {},
   "outputs": [],
   "source": [
    "options(repr.plot.width = 4, repr.plot.height = 4)\n",
    "FeaturePlot(cd8_l2_nk, features = \"NCAM1\", min.cutoff = 0)"
   ]
  },
  {
   "cell_type": "code",
   "execution_count": null,
   "id": "3027b06d",
   "metadata": {},
   "outputs": [],
   "source": [
    "FeaturePlot(cd8_l2_nk, features = \"HLA-DRB1\", min.cutoff = 0)"
   ]
  },
  {
   "cell_type": "code",
   "execution_count": null,
   "id": "ea9a4ac4",
   "metadata": {},
   "outputs": [],
   "source": [
    "FeaturePlot(cd8_l2_nk, features = \"CCR7\", min.cutoff = 0)"
   ]
  },
  {
   "cell_type": "markdown",
   "id": "e0246413",
   "metadata": {},
   "source": [
    "## gd CD8"
   ]
  },
  {
   "cell_type": "code",
   "execution_count": null,
   "id": "41b94b85",
   "metadata": {},
   "outputs": [],
   "source": [
    "gd  <- readRDS(\"../../240218_VN_Diabetes_V05/data/processed/L2/cd8_l2_unc.rds\")"
   ]
  },
  {
   "cell_type": "code",
   "execution_count": null,
   "id": "29ef389d",
   "metadata": {},
   "outputs": [],
   "source": [
    "gd"
   ]
  },
  {
   "cell_type": "code",
   "execution_count": null,
   "id": "01c66279",
   "metadata": {},
   "outputs": [],
   "source": [
    "options(repr.plot.width = 8, repr.plot.height = 5)\n",
    "DimPlot(gd, group.by = \"annotations_manual\", cols = gd@misc$cols_annotations)"
   ]
  },
  {
   "cell_type": "code",
   "execution_count": null,
   "id": "0835fd5d",
   "metadata": {},
   "outputs": [],
   "source": [
    "df4  <- create_df4(gd)"
   ]
  },
  {
   "cell_type": "code",
   "execution_count": null,
   "id": "9b35c2f0",
   "metadata": {
    "scrolled": true
   },
   "outputs": [],
   "source": [
    "df4"
   ]
  },
  {
   "cell_type": "code",
   "execution_count": null,
   "id": "22501c77",
   "metadata": {},
   "outputs": [],
   "source": [
    "p5  <-   df4  %>% \n",
    "filter(Experiment_ID %in% c(\"Exp16\", \"Exp18\", \"Exp19\", \"Exp20\"))  %>% \n",
    "  ggplot(aes(x = Condition, y = freq*100)) + # you can change the x to whatever variable you're interested in\n",
    "   geom_violin(alpha = 0.3, aes(fill = Condition)) +\n",
    "  stat_summary(fun = \"median\",\n",
    "               geom = \"crossbar\", \n",
    "               width = 0.75,\n",
    "               color = \"grey30\") +\n",
    "   scale_fill_manual(values = c(\"#1874cdff\",  \"#ee6363ff\", \"#c41515ff\",\"#eeb4b4ff\")) +\n",
    "scale_color_manual(values = c(\"dodgerblue3\",  \"#e54c4cff\", \"#aa2a2aff\",\"#e88989ff\")) +\n",
    "geom_beeswarm(size = 3, cex = 3, \n",
    "              color = \"black\", method = \"center\",\n",
    "             aes(fill = Condition), shape = 21) +\n",
    "   facet_wrap(~annotations_manual, scales = \"free\", ncol = 9) +\n",
    "  ylab(\"Frequency\") +\n",
    "  xlab(\"Condition\") +\n",
    "  theme_classic() +\n",
    "ggtheme() +\n",
    "ggpubr::stat_compare_means(label.x= 1.5, \n",
    "                           size = 7, vjust = -1, label = \"p.format\", comparisons = list(c(1,2)))+\n",
    "ggtheme() +\n",
    " scale_y_continuous(limits = c(0,NA), expand = c(0.05,0,0,10)) +\n",
    "  theme(strip.background = element_blank(), panel.grid = element_blank()) + \n",
    "  theme(axis.text = element_text(color = \"black\"),\n",
    "        axis.text.x = element_text(angle = 90),\n",
    "       axis.line = element_line(color = \"black\", size = 0.5),\n",
    "        axis.ticks.x = element_blank()) + NoLegend() + ggtitle(\"Final data all groups\")\n",
    "ncols = length(levels(factor(df4$annotations_manual)))"
   ]
  },
  {
   "cell_type": "code",
   "execution_count": null,
   "id": "47c84354",
   "metadata": {},
   "outputs": [],
   "source": [
    "p5"
   ]
  },
  {
   "cell_type": "code",
   "execution_count": null,
   "id": "bd7b42dc",
   "metadata": {},
   "outputs": [],
   "source": [
    "options(repr.plot.width = 15, repr.plot.height = 7)\n",
    "\n",
    "p5\n",
    "\n",
    "ggsave(\"../figures/subset_characterization/tgd_subsets_in_condition.svg\",\n",
    "       width = 30, height = 12, units = \"cm\")"
   ]
  },
  {
   "cell_type": "code",
   "execution_count": null,
   "id": "ea4cb8fa",
   "metadata": {},
   "outputs": [],
   "source": [
    "  p5  <-   df4  %>% \n",
    "filter(Experiment_ID %in% c(\"Exp16\", \"Exp18\", \"Exp19\", \"Exp20\"))  %>% \n",
    "dplyr::filter(Patient_ID != \"116\")  %>% \n",
    "  ggplot(aes(x = Condition, y = freq*100)) + # you can change the x to whatever variable you're interested in\n",
    "   geom_violin(alpha = 0.3, aes(fill = Condition)) +\n",
    "  stat_summary(fun = \"median\",\n",
    "               geom = \"crossbar\", \n",
    "               width = 0.75,\n",
    "               color = \"grey30\") +\n",
    "   scale_fill_manual(values = c(\"#1874cdff\",  \"#ee6363ff\", \"#c41515ff\",\"#eeb4b4ff\")) +\n",
    "scale_color_manual(values = c(\"dodgerblue3\",  \"#e54c4cff\", \"#aa2a2aff\",\"#e88989ff\")) +\n",
    "geom_beeswarm(size = 3, cex = 3, \n",
    "              color = \"black\", method = \"center\",\n",
    "             aes(fill = Condition), shape = 21) +\n",
    "   facet_wrap(~annotations_manual, scales = \"free\", ncol = 9) +\n",
    "  ylab(\"Frequency\") +\n",
    "  xlab(\"Condition\") +\n",
    "  theme_classic() +\n",
    "ggtheme() +\n",
    "ggpubr::stat_compare_means(label.x= 1.5, \n",
    "                           size = 7, vjust = -1, label = \"p.format\", comparisons = list(c(2,3)), paired = TRUE)+\n",
    "ggtheme() +\n",
    " scale_y_continuous(limits = c(0,NA), expand = c(0.05,0,0,10)) +\n",
    "  theme(strip.background = element_blank(), panel.grid = element_blank()) + \n",
    "  theme(axis.text = element_text(color = \"black\"),\n",
    "        axis.text.x = element_text(angle = 90),\n",
    "       axis.line = element_line(color = \"black\", size = 0.5),\n",
    "        axis.ticks.x = element_blank()) + NoLegend() + ggtitle(\"Final data all groups\")\n",
    "ncols = length(levels(factor(df4$annotations_manual)))"
   ]
  },
  {
   "cell_type": "code",
   "execution_count": null,
   "id": "d940fce5",
   "metadata": {},
   "outputs": [],
   "source": [
    "p5"
   ]
  },
  {
   "cell_type": "code",
   "execution_count": null,
   "id": "080ffa65",
   "metadata": {
    "scrolled": true
   },
   "outputs": [],
   "source": [
    "scCustomize::Plot_Density_Custom(seurat_object = gd, features = \"CD8A\", custom_palette = c(\"lightblue\",\"khaki1\",\"red\")) "
   ]
  },
  {
   "cell_type": "code",
   "execution_count": null,
   "id": "cd5d8f70",
   "metadata": {},
   "outputs": [],
   "source": [
    "options(repr.plot.width = 8, repr.plot.height = 4)\n",
    "DimPlot(gd, group.by = \"annotations_manual\", \n",
    "        cols = rep(\"grey88\",times = 6))"
   ]
  },
  {
   "cell_type": "code",
   "execution_count": null,
   "id": "b0a19e60",
   "metadata": {},
   "outputs": [],
   "source": [
    "cd8_l1_full_filt  <- readRDS(\"../../240218_VN_Diabetes_V05/data/processed/L1/cd8_l1_full_filt.rds\")"
   ]
  },
  {
   "cell_type": "code",
   "execution_count": null,
   "id": "18818e89",
   "metadata": {},
   "outputs": [],
   "source": [
    "cd8_l1_full_filt@meta.data  <- left_join(cd8_l1_full_filt@meta.data, md_gd)"
   ]
  },
  {
   "cell_type": "code",
   "execution_count": null,
   "id": "6ee46599",
   "metadata": {},
   "outputs": [],
   "source": []
  },
  {
   "cell_type": "code",
   "execution_count": null,
   "id": "68cf9782",
   "metadata": {},
   "outputs": [],
   "source": [
    "md_gd  <- data.frame(barcode = colnames(gd), \n",
    "                     gd$annotations_manual)"
   ]
  },
  {
   "cell_type": "code",
   "execution_count": null,
   "id": "b88e08a0",
   "metadata": {
    "scrolled": true
   },
   "outputs": [],
   "source": [
    "table(md_gd$barcode %in% colnames(cd8_l1_full_filt))"
   ]
  },
  {
   "cell_type": "code",
   "execution_count": null,
   "id": "20c5561b",
   "metadata": {},
   "outputs": [],
   "source": [
    "cd8_l1_full_filt$gd.annotations_manual  %>% table"
   ]
  },
  {
   "cell_type": "code",
   "execution_count": null,
   "id": "0765c07c",
   "metadata": {},
   "outputs": [],
   "source": [
    "rownames(cd8_l1_full_filt@meta.data)  <- colnames(cd8_l1_full_filt)"
   ]
  },
  {
   "cell_type": "code",
   "execution_count": null,
   "id": "b68e8d04",
   "metadata": {},
   "outputs": [],
   "source": [
    "options(repr.plot.width = 10, repr.plot.height = 7.5)\n",
    "DimPlot(cd8_l1_full_filt, group.by = \"gd.annotations_manual\", cols = gd@misc$cols_annotations)"
   ]
  },
  {
   "cell_type": "code",
   "execution_count": null,
   "id": "7aedbdef",
   "metadata": {},
   "outputs": [],
   "source": [
    "FeaturePlot(gd, features = c(\"ISG15\", \"IRF7\",\"MX1\",\"MKI67\"), ncol = 4)"
   ]
  },
  {
   "cell_type": "code",
   "execution_count": null,
   "id": "02f64864",
   "metadata": {},
   "outputs": [],
   "source": [
    "DimPlot(gd, group.by = \"annotations_manual\", split.by = \"Condition\")"
   ]
  },
  {
   "cell_type": "code",
   "execution_count": null,
   "id": "f64fe628",
   "metadata": {
    "scrolled": true
   },
   "outputs": [],
   "source": [
    "options(repr.plot.width = 22, repr.plot.height = 22)\n",
    "\n",
    "DimPlot(gd, group.by = \"annotations_manual\", split.by = \"Patient_ID\", ncol = 5)"
   ]
  },
  {
   "cell_type": "code",
   "execution_count": null,
   "id": "49ad7c03",
   "metadata": {
    "scrolled": true
   },
   "outputs": [],
   "source": [
    "gd_subset  <- subset(gd, Experiment_ID %in% c(\"Exp16\", \"Exp18\", \"Exp19\", \"Exp20\")) \n",
    "\n",
    "density  <- gd_subset@meta.data  %>% dplyr::select(Sample_ID, Condition)\n",
    "\n",
    "density$x_umap  <- gd_subset@reductions$umap@cell.embeddings[,1]\n",
    "density$y_umap  <- gd_subset@reductions$umap@cell.embeddings[,2]\n",
    "\n",
    "\n",
    "library(ggplot2)\n",
    "library(dplyr)\n",
    "library(viridis)\n",
    "\n",
    "colfunc <- colorRampPalette(c(\"white\", \"grey85\",\"grey75\",\"dodgerblue\",\"green\",\"yellow\",\"red\"))\n",
    "\n",
    "\n",
    "options(repr.plot.width = 22, repr.plot.height = 5)\n",
    "\n",
    "p1  <- density %>%\n",
    "dplyr::filter(Condition == \"Dia T0\")  %>% \n",
    "  ggplot(aes(x=x_umap, y= y_umap)) + \n",
    " geom_point(shape = \"\")  + geom_density_2d_filled(bins = 40)  + \n",
    "theme_classic() + ggtheme() +\n",
    "xlim(-10,7)+  ylim(-7,5) +\n",
    "scale_fill_manual(values = colfunc(40))  + \n",
    "ggtitle(\"Dia T0\") + NoLegend()\n",
    "\n",
    "p2   <-   density %>%\n",
    "dplyr::filter(Condition == \"Ctrl T0\")  %>% \n",
    "  ggplot(aes(x=x_umap, y= y_umap)) + \n",
    " geom_point(shape = \"\")  + geom_density_2d_filled(bins = 40)  + \n",
    "theme_classic() + ggtheme() +\n",
    "xlim(-10,7)+  ylim(-7,5) +\n",
    "scale_fill_manual(values = colfunc(40))  + \n",
    "ggtitle(\"Ctrl T0\") + NoLegend()\n",
    "\n",
    "p3  <-   density %>%\n",
    "dplyr::filter(Condition == \"Dia T1\")  %>% \n",
    "  ggplot(aes(x=x_umap, y= y_umap)) + \n",
    " geom_point(shape = \"\")  + geom_density_2d_filled(bins = 40)  + \n",
    "theme_classic() + ggtheme() +\n",
    "xlim(-10,7)+  ylim(-7,5) +\n",
    "scale_fill_manual(values = colfunc(40))  + \n",
    "ggtitle(\"Dia T1\") \n",
    "\n",
    "p1 + p2 + p3"
   ]
  },
  {
   "cell_type": "code",
   "execution_count": null,
   "id": "f0bc1d2b",
   "metadata": {},
   "outputs": [],
   "source": [
    "gd_subset  <- subset(gd, annotations_manual %in% c(\"CD8Tgd1: FGFBP2 GZMH GZMB\",\"CD8Tgd2: TRDV2 SELL COTL1\") &\n",
    "                    )\n"
   ]
  },
  {
   "cell_type": "code",
   "execution_count": null,
   "id": "8692c37f",
   "metadata": {
    "scrolled": true
   },
   "outputs": [],
   "source": [
    "density  <- gd_subset@meta.data  %>% dplyr::select(Sample_ID, Condition)\n",
    "\n",
    "density$x_umap  <- gd_subset@reductions$umap@cell.embeddings[,1]\n",
    "density$y_umap  <- gd_subset@reductions$umap@cell.embeddings[,2]\n",
    "\n",
    "density"
   ]
  },
  {
   "cell_type": "code",
   "execution_count": null,
   "id": "3f266ccc",
   "metadata": {},
   "outputs": [],
   "source": [
    "options(repr.plot.width = 16, repr.plot.height = 5)\n",
    "\n",
    "p1  <- density %>%\n",
    "dplyr::filter(Condition == \"Dia T0\")  %>% \n",
    "  ggplot(aes(x=x_umap, y= y_umap)) + \n",
    " geom_point(shape = \"\")  + geom_density_2d_filled(bins = 40)  + \n",
    "theme_classic() + ggtheme() +\n",
    "xlim(-10,5)+ \n",
    "#ylim(-12,6) +\n",
    "scale_fill_manual(values = colfunc(40))  + \n",
    "ggtitle(\"Dia T0\") + NoLegend()\n",
    "\n",
    "p2   <-   density %>%\n",
    "dplyr::filter(Condition == \"Dia T1\")  %>% \n",
    "  ggplot(aes(x=x_umap, y= y_umap)) + \n",
    " geom_point(shape = \"\")  + geom_density_2d_filled(bins = 40)  + \n",
    "theme_classic() + ggtheme() +\n",
    "xlim(-10,5)+  \n",
    "#ylim(-12,6) +\n",
    "scale_fill_manual(values = colfunc(40))  + \n",
    "ggtitle(\"Dia T1\") + NoLegend()\n",
    "\n",
    "p3  <-   density %>%\n",
    "dplyr::filter(Condition == \"Ctrl T0\")  %>% \n",
    "  ggplot(aes(x=x_umap, y= y_umap)) + \n",
    " geom_point(shape = \"\")  + geom_density_2d_filled(bins = 40)  + \n",
    "theme_classic() + ggtheme() +\n",
    "xlim(-10,5)+  \n",
    "#ylim(-12,6) +\n",
    "scale_fill_manual(values = colfunc(40))  + \n",
    "ggtitle(\"Ctrl\")  + NoLegend()\n",
    "\n",
    "p1 + p2 + p3"
   ]
  },
  {
   "cell_type": "code",
   "execution_count": null,
   "id": "23036648",
   "metadata": {},
   "outputs": [],
   "source": [
    "ggsave(\"../figures/density_plot_gd.png\", width = 30, height = 10, units = \"cm\")\n",
    "ggsave(\"../figures/density_plot_gd.svg\", width = 30, height = 10, units = \"cm\")"
   ]
  },
  {
   "cell_type": "code",
   "execution_count": null,
   "id": "3c403f73",
   "metadata": {},
   "outputs": [],
   "source": [
    "all_markers  <- read_csv(\"../tables/de_genes/240319_cd4_all_markers_without_sex.csv\")"
   ]
  },
  {
   "cell_type": "code",
   "execution_count": null,
   "id": "28a1ba15",
   "metadata": {
    "scrolled": true
   },
   "outputs": [],
   "source": [
    "all_markers"
   ]
  },
  {
   "cell_type": "code",
   "execution_count": null,
   "id": "0ef3ec91",
   "metadata": {
    "scrolled": true
   },
   "outputs": [],
   "source": [
    "all_markers  %>% dplyr::filter(source == \"scRNAseq_RNA\" \n",
    "              & dataset == \"cd4_l2_unc\")    %>% \n",
    "group_by(test_type)  %>%\n",
    "arrange(p_val_adj)  "
   ]
  },
  {
   "cell_type": "code",
   "execution_count": null,
   "id": "79fd018b",
   "metadata": {},
   "outputs": [],
   "source": [
    "cd4_l2_unc_genes  <- all_markers  %>% dplyr::filter(source == \"scRNAseq_RNA\" \n",
    "              & dataset == \"cd4_l2_unc\")    %>% \n",
    "group_by(test_type)  %>%\n",
    "slice_head(n = 5)  %>% \n",
    "pull(gene)\n"
   ]
  },
  {
   "cell_type": "code",
   "execution_count": null,
   "id": "b9540586",
   "metadata": {},
   "outputs": [],
   "source": [
    "cd4_l2_unc_genes"
   ]
  },
  {
   "cell_type": "code",
   "execution_count": null,
   "id": "2307ea3e",
   "metadata": {},
   "outputs": [],
   "source": [
    "options(repr.plot.width = 20, repr.plot.height = 25)\n",
    "DefaultAssay(gd)  <- \"RNA\"\n",
    "FeaturePlot(gd, features = cd4_l2_unc_genes, ncol = 5, min.cutoff = 0)"
   ]
  },
  {
   "cell_type": "code",
   "execution_count": null,
   "id": "83c9b83e",
   "metadata": {},
   "outputs": [],
   "source": [
    "md2  <- get_gene_pct_expression(gd, c(\"GZMB\",\"CTLA4\"))"
   ]
  },
  {
   "cell_type": "code",
   "execution_count": null,
   "id": "0e390bff",
   "metadata": {},
   "outputs": [],
   "source": [
    "options(repr.plot.width = 8, repr.plot.height = 5)\n",
    "# Plot the results\n",
    "md2 %>% \n",
    "dplyr::filter(Condition %in% c(\"Ctrl T0\", \"Dia T0\", \"Dia T1\") & \n",
    "              Experiment_ID %in% c(\"Exp16\", \"Exp18\", \"Exp19\", \"Exp20\"))  %>% \n",
    "ggplot(aes(x = Condition, y = as.numeric(pct_express))) + \n",
    "  geom_boxplot(outlier.shape = NA) +\n",
    "  geom_dotplot(binaxis='y', stackdir='center', dotsize=0) + \n",
    "  geom_jitter(position=position_jitter(0.2), size = 2, aes(color = factor(Condition))) +\n",
    "  theme_minimal() + \n",
    "  facet_wrap(~gene, scales = \"free\", ncol = 5) + \n",
    "  ylim(c(0,NA)) +\n",
    "  ylab(\"Percentage of expressing cells\") +\n",
    "  theme(legend.title = element_blank()) + stat_compare_means(label = \"p.format\")"
   ]
  },
  {
   "cell_type": "code",
   "execution_count": null,
   "id": "0a74074f",
   "metadata": {},
   "outputs": [],
   "source": [
    "gd_t0  <- subset(gd, \n",
    "                            Condition %in% c(\"Ctrl T0\", \"Dia T0\") & \n",
    "                            Experiment_ID_2 %in% c(\"Exp16\", \"Exp18\", \"Exp19\", \"Exp20\"))\n",
    "gd_t0$Condition_ID  <- paste(gd_t0$Condition, gd_t0$Sample_ID)"
   ]
  },
  {
   "cell_type": "code",
   "execution_count": null,
   "id": "d3f95ff6",
   "metadata": {
    "scrolled": true
   },
   "outputs": [],
   "source": [
    "avgexp = AggregateExpression(gd_t0, \n",
    "                                       features = rownames(gd_t0),\n",
    "                           return.seurat = T, group.by = \"Condition_ID\", \n",
    "                          assay = \"RNA\")\n",
    "\n"
   ]
  },
  {
   "cell_type": "code",
   "execution_count": null,
   "id": "87c71b9d",
   "metadata": {},
   "outputs": [],
   "source": [
    "colnames(avgexp)"
   ]
  },
  {
   "cell_type": "code",
   "execution_count": null,
   "id": "5e408426",
   "metadata": {},
   "outputs": [],
   "source": [
    "avgexp$sample  <- colnames(avgexp)"
   ]
  },
  {
   "cell_type": "code",
   "execution_count": null,
   "id": "7511175f",
   "metadata": {},
   "outputs": [],
   "source": [
    "avgexp@meta.data  <- avgexp@meta.data  %>% separate(sample, \n",
    "                                                    into = c(\"Condition\", \"Time\",\"Sample_ID\"), \n",
    "                                                    remove = F,\n",
    "                                                    sep = \" \")"
   ]
  },
  {
   "cell_type": "code",
   "execution_count": null,
   "id": "d87e1bd4",
   "metadata": {},
   "outputs": [],
   "source": [
    "Idents(avgexp)  <- avgexp$Condition"
   ]
  },
  {
   "cell_type": "code",
   "execution_count": null,
   "id": "e863d4c4",
   "metadata": {},
   "outputs": [],
   "source": [
    "mrk  <- FindAllMarkers(avgexp, only.pos = T)"
   ]
  },
  {
   "cell_type": "code",
   "execution_count": null,
   "id": "4c40aef9",
   "metadata": {
    "scrolled": true
   },
   "outputs": [],
   "source": [
    "mrk"
   ]
  },
  {
   "cell_type": "code",
   "execution_count": null,
   "id": "bbe97a83",
   "metadata": {},
   "outputs": [],
   "source": [
    "md3  <- get_gene_pct_expression(gd, mrk$gene)"
   ]
  },
  {
   "cell_type": "code",
   "execution_count": null,
   "id": "0e03445a",
   "metadata": {},
   "outputs": [],
   "source": [
    "options(repr.plot.width = 10, repr.plot.height = 12)\n",
    "# Plot the results\n",
    "md3 %>% \n",
    "dplyr::filter(Condition %in% c(\"Ctrl T0\", \"Dia T0\") & \n",
    "              Experiment_ID %in% c(\"Exp16\", \"Exp18\", \"Exp19\", \"Exp20\"))  %>% \n",
    "ggplot(aes(x = Condition, y = as.numeric(pct_express))) + \n",
    "  geom_boxplot(outlier.shape = NA) +\n",
    "  geom_dotplot(binaxis='y', stackdir='center', dotsize=0) + \n",
    "  geom_jitter(position=position_jitter(0.2), size = 2, aes(color = factor(Condition))) +\n",
    "  theme_minimal() + \n",
    "  facet_wrap(~gene, scales = \"free\", ncol = 5) + \n",
    "  ylim(c(0,NA)) +\n",
    "  ylab(\"Percentage of expressing cells\") +\n",
    "  theme(legend.title = element_blank()) + stat_compare_means(label = \"p.format\")"
   ]
  },
  {
   "cell_type": "code",
   "execution_count": null,
   "id": "bd4ed368",
   "metadata": {},
   "outputs": [],
   "source": [
    "options(repr.plot.width = 10, repr.plot.height = 12)\n",
    "# Plot the results\n",
    "md3 %>% \n",
    "dplyr::filter(Condition %in% c(\"Ctrl T0\", \"Dia T0\", \"Dia T1\") & \n",
    "              Experiment_ID %in% c(\"Exp16\", \"Exp18\", \"Exp19\", \"Exp20\"))  %>% \n",
    "ggplot(aes(x = Condition, y = as.numeric(pct_express))) + \n",
    "  geom_boxplot(outlier.shape = NA) +\n",
    "  geom_dotplot(binaxis='y', stackdir='center', dotsize=0) + \n",
    "  geom_jitter(position=position_jitter(0.2), size = 2, aes(color = factor(Condition))) +\n",
    "  theme_minimal() + \n",
    "  facet_wrap(~gene, scales = \"free\", ncol = 5) + \n",
    "  ylim(c(0,NA)) +\n",
    "  ylab(\"Percentage of expressing cells\") +\n",
    "  theme(legend.title = element_blank()) + stat_compare_means(label = \"p.format\")\n"
   ]
  },
  {
   "cell_type": "code",
   "execution_count": null,
   "id": "b6ad4b87",
   "metadata": {},
   "outputs": [],
   "source": [
    "options(repr.plot.width = 20, repr.plot.height = 12)\n",
    "DefaultAssay(gd)  <- \"RNA\"\n",
    "FeaturePlot(gd, features = mrk$gene, ncol = 5, min.cutoff = 0)"
   ]
  },
  {
   "cell_type": "code",
   "execution_count": null,
   "id": "961274d5",
   "metadata": {},
   "outputs": [],
   "source": [
    "options(repr.plot.width = 6, repr.plot.height = 5)\n",
    "DimPlot(gd, label = T)"
   ]
  },
  {
   "cell_type": "code",
   "execution_count": null,
   "id": "0a67b905",
   "metadata": {},
   "outputs": [],
   "source": [
    "gd  <- subset(gd, seurat_clusters %in% c(2,3))"
   ]
  },
  {
   "cell_type": "code",
   "execution_count": null,
   "id": "1e1c2493",
   "metadata": {},
   "outputs": [],
   "source": [
    "DefaultAssay(gd)  <- \"RNA\""
   ]
  },
  {
   "cell_type": "code",
   "execution_count": null,
   "id": "05b43c2d",
   "metadata": {
    "scrolled": true
   },
   "outputs": [],
   "source": [
    "FeaturePlot(gd, features = \"CTLA4\", ncol = 5, min.cutoff = 0)"
   ]
  },
  {
   "cell_type": "code",
   "execution_count": null,
   "id": "d2d09d2b",
   "metadata": {},
   "outputs": [],
   "source": []
  },
  {
   "cell_type": "code",
   "execution_count": null,
   "id": "72ac2e6f",
   "metadata": {
    "scrolled": true
   },
   "outputs": [],
   "source": [
    "scCustomize::Plot_Density_Custom(gd, features = \"CTLA4\", custom_palette = c(\"lightblue\",\"khaki1\",\"red\"))"
   ]
  },
  {
   "cell_type": "code",
   "execution_count": null,
   "id": "0e9af5d3",
   "metadata": {
    "scrolled": true
   },
   "outputs": [],
   "source": [
    "FeaturePlot(gd, features = \"IL19\", ncol = 5, min.cutoff = 4)"
   ]
  },
  {
   "cell_type": "code",
   "execution_count": null,
   "id": "aa286a8f",
   "metadata": {},
   "outputs": [],
   "source": [
    "FeaturePlot(gd, features = \"NCAM1\", min.cutoff = 0, ncol = 4)"
   ]
  },
  {
   "cell_type": "code",
   "execution_count": null,
   "id": "a8807932",
   "metadata": {},
   "outputs": [],
   "source": [
    "FeaturePlot(gd, features = \"GZMK\", min.cutoff = 0, ncol = 4)"
   ]
  },
  {
   "cell_type": "code",
   "execution_count": null,
   "id": "9bed7206",
   "metadata": {},
   "outputs": [],
   "source": [
    "FeaturePlot(gd, features = \"GZMB\", min.cutoff = 0, ncol = 4)"
   ]
  },
  {
   "cell_type": "code",
   "execution_count": null,
   "id": "85876fbe",
   "metadata": {},
   "outputs": [],
   "source": [
    "FeaturePlot(gd, features = \"GZMK\", min.cutoff = 0, ncol = 4)"
   ]
  },
  {
   "cell_type": "code",
   "execution_count": null,
   "id": "8a3ced6e",
   "metadata": {},
   "outputs": [],
   "source": [
    "FeaturePlot(gd, features = \"\", min.cutoff = 0)"
   ]
  },
  {
   "cell_type": "code",
   "execution_count": null,
   "id": "8930360d",
   "metadata": {},
   "outputs": [],
   "source": [
    "FeaturePlot(gd, features = \"IL13A\", min.cutoff = 0)"
   ]
  },
  {
   "cell_type": "code",
   "execution_count": null,
   "id": "bc41ee71",
   "metadata": {},
   "outputs": [],
   "source": [
    "genes  <- grep(rownames(gd@assays$RNA@counts), pattern = \"^IL\", value = T)"
   ]
  },
  {
   "cell_type": "code",
   "execution_count": null,
   "id": "56b844d0",
   "metadata": {},
   "outputs": [],
   "source": [
    "genes"
   ]
  },
  {
   "cell_type": "code",
   "execution_count": null,
   "id": "fcd69518",
   "metadata": {},
   "outputs": [],
   "source": [
    "for(i in genes){\n",
    "    print(FeaturePlot(gd, features = i, min.cutoff = 0))\n",
    "}"
   ]
  },
  {
   "cell_type": "code",
   "execution_count": null,
   "id": "7c6bae46",
   "metadata": {},
   "outputs": [],
   "source": [
    "options(repr.plot.width = 6, repr.plot.height = 5)\n",
    "FeaturePlot(gd, features = \"GZMH\", min.cutoff = 0)"
   ]
  },
  {
   "cell_type": "code",
   "execution_count": null,
   "id": "01179153",
   "metadata": {},
   "outputs": [],
   "source": [
    "options(repr.plot.width = 6, repr.plot.height = 5)\n",
    "FeaturePlot(gd, features = \"GZMB\", min.cutoff = 0)"
   ]
  },
  {
   "cell_type": "code",
   "execution_count": null,
   "id": "6f9181bf",
   "metadata": {},
   "outputs": [],
   "source": [
    "Idents(gd)  <- gd$annotations_manual"
   ]
  },
  {
   "cell_type": "code",
   "execution_count": null,
   "id": "f8b2c830",
   "metadata": {},
   "outputs": [],
   "source": [
    "mrk  <- FindAllMarkers(gd, only.pos = T)"
   ]
  },
  {
   "cell_type": "code",
   "execution_count": null,
   "id": "f7cf350a",
   "metadata": {
    "scrolled": true
   },
   "outputs": [],
   "source": [
    "mrk  %>% group_by(cluster)  %>% slice_head(n = 5)"
   ]
  },
  {
   "cell_type": "code",
   "execution_count": null,
   "id": "c613d8df",
   "metadata": {},
   "outputs": [],
   "source": [
    "mrk  %>% dplyr::filter(cluster == \"CD8Tgd2: TRDV2 SELL COTL1\") "
   ]
  },
  {
   "cell_type": "code",
   "execution_count": null,
   "id": "cddd2a7d",
   "metadata": {
    "scrolled": true
   },
   "outputs": [],
   "source": [
    "avgexp = AverageExpression(gd, features = rev(str_to_upper(c(\n",
    "    \"LTB\",\"CEBPD\",\"CXCR6\",\"DUSP1\",\"NFKBIA\",\"CTLA4\",\"HAVCR2\",\"PDCD1\",\"PDE4D\",\n",
    "    \"TRGC1\",\"CX3CR1\",\"GZMH\",\"GZMB\",\"GZMK\",\"GNLY\",\"CCL4\",\"ITGB2\",\"TENT5C\",\n",
    "    \"SELL\",\"CXCR4\",\"IFI44L\",\"IFI6\",\"ISG15\",\"MX1\",\"IL7R\",\"IL1R\",\"KIT\",\"IL23R\",\"TRDC\"\n",
    "    ))), return.seurat = F, \n",
    "                           group.by = \"annotations_manual\", assays = \"RNA\")\n",
    "\n",
    "avgexp\n",
    "\n",
    "library(pheatmap)"
   ]
  },
  {
   "cell_type": "code",
   "execution_count": null,
   "id": "bb08cb5a",
   "metadata": {},
   "outputs": [],
   "source": [
    "DimPlot(gd, group.by = \"annotations_manual\")"
   ]
  },
  {
   "cell_type": "code",
   "execution_count": null,
   "id": "b061b323",
   "metadata": {},
   "outputs": [],
   "source": [
    "avgexp = AverageExpression(gd, features = rev(str_to_upper(c(\n",
    "    \"SELL\",\"TRDC\",\"TRGC1\",\"GNLY\",\"CCL4\",\"CX3CR1\",\"GZMB\",\"HAVCR2\",\"CTLA4\",\n",
    "    \"GZMK\",\"IL7R\",\"IL23R\",\"LTB\",\"KIT\",\"CXCR6\",\"CEBPD\",\n",
    "    \"NFKBIA\",\"DUSP1\",\"TENT5C\",\"CXCR4\",\"PDE4D\",\"MX1\",\"ISG15\",\"IFI44L\"\n",
    "   ))), return.seurat = F, \n",
    "                           group.by = \"annotations_manual\", assays = \"RNA\")"
   ]
  },
  {
   "cell_type": "code",
   "execution_count": null,
   "id": "55fb405a",
   "metadata": {},
   "outputs": [],
   "source": [
    "options(repr.plot.width = 9, repr.plot.height = 4)\n",
    "pheatmap(t(avgexp$RNA)[c(3,4,1,2,5,6),], main = \"\", scale = \"column\", cluster_cols = F, cluster_rows = F,\n",
    "        color=colorRampPalette(c(\"dodgerblue\", \"grey95\", \"indianred2\"))(50), \n",
    "         border_color = \"white\", width = 9, height = 3.3,\n",
    "                  fontsize = 9)"
   ]
  },
  {
   "cell_type": "code",
   "execution_count": null,
   "id": "eaf492d4",
   "metadata": {},
   "outputs": [],
   "source": [
    "options(repr.plot.width = 9, repr.plot.height = 4)\n",
    "pheatmap(t(avgexp$RNA)[c(3,4,1,2,5,6),], main = \"\", scale = \"column\", cluster_cols = F, cluster_rows = F,\n",
    "        color=colorRampPalette(c(\"dodgerblue\", \"grey95\", \"indianred2\"))(50), \n",
    "         border_color = \"white\", width = 9, height = 3.3,filename = \"../figures/heatmaps/heatmap_gd.pdf\",\n",
    "                  fontsize = 9)"
   ]
  },
  {
   "cell_type": "markdown",
   "id": "da31149f",
   "metadata": {},
   "source": [
    "# CD4 Temra"
   ]
  },
  {
   "cell_type": "markdown",
   "id": "6f103dbe",
   "metadata": {},
   "source": [
    "## iNKT and CD3-56"
   ]
  },
  {
   "cell_type": "code",
   "execution_count": null,
   "id": "8de50b6c",
   "metadata": {},
   "outputs": [],
   "source": [
    "cd4_l1_full_filt  <- readRDS(\"../../240218_VN_Diabetes_V05/data/processed/L1/cd4_l1_full_filt.rds\")"
   ]
  },
  {
   "cell_type": "code",
   "execution_count": null,
   "id": "badeb110",
   "metadata": {},
   "outputs": [],
   "source": [
    "library(GEOquery)\n"
   ]
  },
  {
   "cell_type": "code",
   "execution_count": null,
   "id": "1b9c83e8",
   "metadata": {},
   "outputs": [],
   "source": [
    "gset <- getGEO(\"GSE106082\", GSEMatrix =TRUE, getGPL=TRUE, AnnotGPL=TRUE)"
   ]
  },
  {
   "cell_type": "code",
   "execution_count": null,
   "id": "ab143825",
   "metadata": {},
   "outputs": [],
   "source": [
    "metadata <- data.frame(geo_id = gset$GSE106082_series_matrix.txt.gz$geo_accession,\n",
    "                       cell_type = gset$GSE106082_series_matrix.txt.gz$`characteristics_ch1.1`\n",
    "                       )"
   ]
  },
  {
   "cell_type": "code",
   "execution_count": null,
   "id": "bfc089c7",
   "metadata": {},
   "outputs": [],
   "source": [
    "mtx_tr356  <- read_csv(\"../../240218_VN_Diabetes_V05/data/published_data/Terrazzano_2020/tr356_df_sum.csv\")"
   ]
  },
  {
   "cell_type": "code",
   "execution_count": null,
   "id": "dfeffdb0",
   "metadata": {},
   "outputs": [],
   "source": [
    "mtx_tr356$`...1`  <- NULL"
   ]
  },
  {
   "cell_type": "code",
   "execution_count": null,
   "id": "dbc92b0c",
   "metadata": {},
   "outputs": [],
   "source": [
    "mtx_tr356  <- mtx_tr356  %>% column_to_rownames(\"SYMBOL\")"
   ]
  },
  {
   "cell_type": "code",
   "execution_count": null,
   "id": "9be5ec38",
   "metadata": {
    "scrolled": true
   },
   "outputs": [],
   "source": [
    "mtx_tr356"
   ]
  },
  {
   "cell_type": "code",
   "execution_count": null,
   "id": "b0f2f19c",
   "metadata": {},
   "outputs": [],
   "source": [
    "plan(\"multisession\")"
   ]
  },
  {
   "cell_type": "code",
   "execution_count": null,
   "id": "2a599cf5",
   "metadata": {},
   "outputs": [],
   "source": [
    "mtx_tr356  <- mtx_tr356  %>% mutate_all(.funs = as.numeric)"
   ]
  },
  {
   "cell_type": "code",
   "execution_count": null,
   "id": "ef523e3c",
   "metadata": {
    "scrolled": true
   },
   "outputs": [],
   "source": [
    "mtx_tr356"
   ]
  },
  {
   "cell_type": "code",
   "execution_count": null,
   "id": "09885b60",
   "metadata": {},
   "outputs": [],
   "source": [
    "ref_tr3_56 <- list(matrix = mtx_tr356, \n",
    "                       labels = metadata$cell_type)\n"
   ]
  },
  {
   "cell_type": "code",
   "execution_count": null,
   "id": "da469b1f",
   "metadata": {},
   "outputs": [],
   "source": [
    "ref_tr3_56$matrix  <- as.matrix(ref_tr3_56$matrix)"
   ]
  },
  {
   "cell_type": "code",
   "execution_count": null,
   "id": "4c1e7c4d",
   "metadata": {},
   "outputs": [],
   "source": [
    "head(rownames(ref_tr3_56$matrix))"
   ]
  },
  {
   "cell_type": "code",
   "execution_count": null,
   "id": "13961227",
   "metadata": {},
   "outputs": [],
   "source": [
    "remotes::install_version(\"matrixStats\", version = \"1.1.0\")"
   ]
  },
  {
   "cell_type": "code",
   "execution_count": null,
   "id": "bbb3ef4f",
   "metadata": {},
   "outputs": [],
   "source": [
    "library(matrixStats)"
   ]
  },
  {
   "cell_type": "code",
   "execution_count": null,
   "id": "3cd4dbd0",
   "metadata": {},
   "outputs": [],
   "source": [
    "packageVersion(\"matrixStats\")"
   ]
  },
  {
   "cell_type": "code",
   "execution_count": null,
   "id": "81072dc5",
   "metadata": {
    "scrolled": true
   },
   "outputs": [],
   "source": [
    "pred <- SingleR(test = cd4_l1_full_filt@assays$RNA@counts, \n",
    "                ref = ref_tr3_56$matrix, labels = ref_tr3_56$labels, \n",
    "                fine.tune = T, num.threads = 4\n",
    "       )"
   ]
  },
  {
   "cell_type": "code",
   "execution_count": null,
   "id": "bf402371",
   "metadata": {
    "scrolled": true
   },
   "outputs": [],
   "source": [
    "pred\n"
   ]
  },
  {
   "cell_type": "code",
   "execution_count": null,
   "id": "d1a8cfc6",
   "metadata": {
    "scrolled": true
   },
   "outputs": [],
   "source": [
    "cd4_l1_full_filt$singler  <- pred$labels"
   ]
  },
  {
   "cell_type": "code",
   "execution_count": null,
   "id": "28a6a5e6",
   "metadata": {},
   "outputs": [],
   "source": [
    "DimPlot(cd4_l1_full_filt, group.by = \"annotations_l2\")"
   ]
  },
  {
   "cell_type": "code",
   "execution_count": null,
   "id": "6d3f90e7",
   "metadata": {},
   "outputs": [],
   "source": [
    "DimPlot(cd4_l1_full_filt, group.by = \"singler\", shuffle = T, cols = c(\"purple\",\"grey88\",\"dodgerblue\",\"red\"))"
   ]
  },
  {
   "cell_type": "code",
   "execution_count": null,
   "id": "f6b39a87",
   "metadata": {},
   "outputs": [],
   "source": [
    "DimPlot(cd4_l1_full_filt, group.by = \"singler\", shuffle = T, cols = c(\"purple\",\"grey88\",\"dodgerblue\",\"red\"))"
   ]
  },
  {
   "cell_type": "code",
   "execution_count": null,
   "id": "e16d2199",
   "metadata": {},
   "outputs": [],
   "source": [
    "test  <- data.frame(annotation = cd4_l1_full_filt$annotations_l2,\n",
    "                    pred = cd4_l1_full_filt$singler)"
   ]
  },
  {
   "cell_type": "code",
   "execution_count": null,
   "id": "ea51ca04",
   "metadata": {},
   "outputs": [],
   "source": [
    "df2 <- test %>% group_by(annotation, pred) %>% \n",
    "  summarise(n = n()) %>%\n",
    "  mutate(freq = n / sum(n))"
   ]
  },
  {
   "cell_type": "code",
   "execution_count": null,
   "id": "e78784d6",
   "metadata": {
    "scrolled": true
   },
   "outputs": [],
   "source": [
    "df2"
   ]
  },
  {
   "cell_type": "code",
   "execution_count": null,
   "id": "5cfaa7b7",
   "metadata": {},
   "outputs": [],
   "source": [
    "df2"
   ]
  },
  {
   "cell_type": "code",
   "execution_count": null,
   "id": "20c37ad1",
   "metadata": {},
   "outputs": [],
   "source": [
    "cd4_l1_full_filt$score_tr356  <- pred$scores[,4]"
   ]
  },
  {
   "cell_type": "code",
   "execution_count": null,
   "id": "4cc7bf3b",
   "metadata": {},
   "outputs": [],
   "source": [
    "VlnPlot(cd4_l1_full_filt, features = \"score_tr356\", group.by = \"annotations_l2\")"
   ]
  },
  {
   "cell_type": "code",
   "execution_count": null,
   "id": "32ff84e7",
   "metadata": {},
   "outputs": [],
   "source": [
    "options(repr.plot.width = 14, repr.plot.height = 6)\n",
    "data.frame(Score = cd4_l1_full_filt$score_tr356,\n",
    "                  Annotation = gsub(cd4_l1_full_filt$annotations_l2, pattern = \"---\", replacement = \"\\n\"))  %>% \n",
    "#mutate(Annotation = gsub(Annotation, pattern = \"cd4 T cells\", replacement = \"\"))  %>% \n",
    "#mutate(Annotation = gsub(Annotation, pattern = \"cd4 Unconventional T cells\", replacement = \"\"))  %>% \n",
    "#mutate(Annotation = gsub(Annotation, pattern = \"cd4 NK cells\", replacement = \"\"))  %>% \n",
    "ggplot(aes(x = fct_reorder(Annotation, Score), y = Score)) +\n",
    "  geom_violin() + \n",
    "  stat_summary(fun = \"mean\",\n",
    "               geom = \"point\", \n",
    "               size = 5,\n",
    "               colour = \"red\") + ggtitle(\"TR3-56 score\") + theme_classic()  #ggtheme() + xlab(\"\")"
   ]
  },
  {
   "cell_type": "code",
   "execution_count": null,
   "id": "c259d850",
   "metadata": {},
   "outputs": [],
   "source": [
    "FeaturePlot(cd4_l1_full_filt, features = \"NCAM1\", min.cutoff = 0.2)"
   ]
  },
  {
   "cell_type": "code",
   "execution_count": null,
   "id": "c6ccdf07",
   "metadata": {},
   "outputs": [],
   "source": []
  },
  {
   "cell_type": "code",
   "execution_count": null,
   "id": "644879ba",
   "metadata": {},
   "outputs": [],
   "source": [
    "DimPlot(cd4_l1_full_filt_l1_full_filt_l1_full_filt)"
   ]
  }
 ],
 "metadata": {
  "kernelspec": {
   "display_name": "R",
   "language": "R",
   "name": "ir"
  },
  "language_info": {
   "codemirror_mode": "r",
   "file_extension": ".r",
   "mimetype": "text/x-r-source",
   "name": "R",
   "pygments_lexer": "r",
   "version": "4.4.2"
  },
  "toc": {
   "base_numbering": 1,
   "nav_menu": {},
   "number_sections": true,
   "sideBar": true,
   "skip_h1_title": false,
   "title_cell": "Table of Contents",
   "title_sidebar": "Contents",
   "toc_cell": false,
   "toc_position": {},
   "toc_section_display": true,
   "toc_window_display": true
  }
 },
 "nbformat": 4,
 "nbformat_minor": 5
}
