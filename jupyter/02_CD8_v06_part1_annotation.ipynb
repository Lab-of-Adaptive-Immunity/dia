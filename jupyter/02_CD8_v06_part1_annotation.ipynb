{
 "cells": [
  {
   "cell_type": "code",
   "execution_count": null,
   "id": "f741a879",
   "metadata": {
    "scrolled": true
   },
   "outputs": [],
   "source": [
    "source(\"diabetes_analysis_v07.R\")"
   ]
  },
  {
   "cell_type": "markdown",
   "id": "482ba0ac",
   "metadata": {},
   "source": [
    "# CD8 preliminary data"
   ]
  },
  {
   "cell_type": "code",
   "execution_count": null,
   "id": "a3a66f31",
   "metadata": {},
   "outputs": [],
   "source": [
    "paths  <- list.files(\"../data/rawdata/\", full.names = T)"
   ]
  },
  {
   "cell_type": "code",
   "execution_count": null,
   "id": "da35bb3a",
   "metadata": {},
   "outputs": [],
   "source": [
    "paths"
   ]
  },
  {
   "cell_type": "code",
   "execution_count": null,
   "id": "da4ef785",
   "metadata": {
    "scrolled": true
   },
   "outputs": [],
   "source": [
    "seu_list  <- future_map(paths[c(1,2,3)], readRDS)"
   ]
  },
  {
   "cell_type": "code",
   "execution_count": null,
   "id": "323f2ea6",
   "metadata": {},
   "outputs": [],
   "source": [
    "seu_list[[2]]$hashtags  %>% table"
   ]
  },
  {
   "cell_type": "code",
   "execution_count": null,
   "id": "d497905b",
   "metadata": {},
   "outputs": [],
   "source": [
    "exp10_cd8  <- subset(seu_list[[2]], hashtags == \"H5\")"
   ]
  },
  {
   "cell_type": "code",
   "execution_count": null,
   "id": "a955fa51",
   "metadata": {},
   "outputs": [],
   "source": [
    "seu_list[[2]] <- exp10_cd8"
   ]
  },
  {
   "cell_type": "code",
   "execution_count": null,
   "id": "711a91e6",
   "metadata": {},
   "outputs": [],
   "source": [
    "seu_list[[2]]$Condition  %>% table"
   ]
  },
  {
   "cell_type": "code",
   "execution_count": null,
   "id": "ccc34a9d",
   "metadata": {},
   "outputs": [],
   "source": [
    "seu_list[[1]]$Patient_ID  %>% table"
   ]
  },
  {
   "cell_type": "code",
   "execution_count": null,
   "id": "3b791fff",
   "metadata": {},
   "outputs": [],
   "source": [
    "seu_list[[2]]$Patient_ID  %>% table"
   ]
  },
  {
   "cell_type": "code",
   "execution_count": null,
   "id": "54fa47d8",
   "metadata": {},
   "outputs": [],
   "source": [
    "seu_list[[3]]$Patient_ID  %>% table"
   ]
  },
  {
   "cell_type": "code",
   "execution_count": null,
   "id": "58b0fb17",
   "metadata": {},
   "outputs": [],
   "source": [
    "cd8_prelim  <- merge(seu_list[[1]], c(seu_list[[2]], seu_list[[3]]))"
   ]
  },
  {
   "cell_type": "code",
   "execution_count": null,
   "id": "2a3f8a75",
   "metadata": {},
   "outputs": [],
   "source": [
    "cd8_prelim"
   ]
  },
  {
   "cell_type": "code",
   "execution_count": null,
   "id": "d828f502",
   "metadata": {},
   "outputs": [],
   "source": [
    "cd8_prelim$Condition  %>% table"
   ]
  },
  {
   "cell_type": "code",
   "execution_count": null,
   "id": "5b34cbc7",
   "metadata": {},
   "outputs": [],
   "source": [
    "options(future.globals.maxSize = 10000 * 1024^2)\n",
    "plan(\"sequential\")"
   ]
  },
  {
   "cell_type": "code",
   "execution_count": null,
   "id": "9f1b35c1",
   "metadata": {
    "scrolled": true
   },
   "outputs": [],
   "source": [
    "DefaultAssay(cd8_prelim)  <- \"RNA\"\n",
    "cd8_prelim <- NormalizeData(cd8_prelim, verbose = FALSE)\n",
    "cd8_prelim <- ScaleData(cd8_prelim, verbose = FALSE)\n",
    "cd8_prelim <- FindVariableFeatures(cd8_prelim, nfeatures = 1000, verbose = FALSE)\n",
    "cd8_prelim <- RunPCA(cd8_prelim, npcs = 12, verbose = FALSE)\n",
    "cd8_prelim <- RunUMAP(cd8_prelim, reduction = \"pca\", dims = 1:12)"
   ]
  },
  {
   "cell_type": "code",
   "execution_count": null,
   "id": "ace4efe5",
   "metadata": {},
   "outputs": [],
   "source": [
    "cd8_prelim <- FindNeighbors(cd8_prelim, dims = 1:12)\n",
    "cd8_prelim <- FindClusters(cd8_prelim, resolution = 1)"
   ]
  },
  {
   "cell_type": "code",
   "execution_count": null,
   "id": "fd43f2dd",
   "metadata": {},
   "outputs": [],
   "source": [
    "DimPlot(cd8_prelim, label = T)"
   ]
  },
  {
   "cell_type": "code",
   "execution_count": null,
   "id": "cad935cd",
   "metadata": {
    "scrolled": true
   },
   "outputs": [],
   "source": [
    "DimPlot(cd8_prelim, label = T)"
   ]
  },
  {
   "cell_type": "code",
   "execution_count": null,
   "id": "c0c608ae",
   "metadata": {},
   "outputs": [],
   "source": [
    "options(repr.plot.width = 16, repr.plot.height = 8)\n",
    "FeaturePlot(cd8_prelim, features = c(\"MKI67\", \"LCK\", \"CD3G\", \"TYROBP\", \"CD14\", \"MKI67\", \"CD3D\", \"CD8A\"), ncol = 4)"
   ]
  },
  {
   "cell_type": "code",
   "execution_count": null,
   "id": "f2edc871",
   "metadata": {},
   "outputs": [],
   "source": [
    "FeaturePlot(cd8_prelim, features = c(\"SELL\", \"CCR7\", \"IL7R\", \"ITGA4\", \"CCL5\", \"IFNG\"), ncol = 4)"
   ]
  },
  {
   "cell_type": "code",
   "execution_count": null,
   "id": "8a20dbbb",
   "metadata": {
    "scrolled": true
   },
   "outputs": [],
   "source": [
    "cd8_prelim_filt  <- subset(cd8_prelim, seurat_clusters %in% c(0:12,14))\n",
    "cd8_prelim_filt <- NormalizeData(cd8_prelim_filt, verbose = FALSE)\n",
    "cd8_prelim_filt <- ScaleData(cd8_prelim_filt, verbose = FALSE)\n",
    "cd8_prelim_filt <- FindVariableFeatures(cd8_prelim_filt, nfeatures = 1000, verbose = FALSE)\n",
    "cd8_prelim_filt <- RunPCA(cd8_prelim_filt, npcs = 12, verbose = FALSE)\n",
    "cd8_prelim_filt <- RunUMAP(cd8_prelim_filt, reduction = \"pca\", dims = 1:12)\n",
    "cd8_prelim_filt <- FindNeighbors(cd8_prelim_filt, dims = 1:12)\n",
    "cd8_prelim_filt <- FindClusters(cd8_prelim_filt, resolution = 0.5)"
   ]
  },
  {
   "cell_type": "code",
   "execution_count": null,
   "id": "3ccf8c1d",
   "metadata": {
    "scrolled": true
   },
   "outputs": [],
   "source": [
    "DimPlot(cd8_prelim_filt, label = T, label.size = 12)"
   ]
  },
  {
   "cell_type": "code",
   "execution_count": null,
   "id": "1508f788",
   "metadata": {},
   "outputs": [],
   "source": [
    "cd8_prelim_filt@meta.data  <- cd8_prelim_filt@meta.data  %>% \n",
    "mutate(naive_or_eff  = if_else(seurat_clusters %in% c(0,1,7,8,3),\"Naive\",\"NonNaive\"))"
   ]
  },
  {
   "cell_type": "code",
   "execution_count": null,
   "id": "917d10ce",
   "metadata": {},
   "outputs": [],
   "source": [
    "options(repr.plot.width = 7, repr.plot.height = 5)\n",
    "DimPlot(cd8_prelim_filt, label = F, label.size = 12, group.by = \"naive_or_eff\", cols = c(\"dodgerblue1\",\"indianred2\"), \n",
    "        raster = TRUE, raster.dpi = c(900,900), pt.size = 5) + ggtheme()\n",
    "ggsave(\"../figures/prelim/cd8_dimplot.svg\", width = 16, height = 12, units = \"cm\", create.dir = TRUE)"
   ]
  },
  {
   "cell_type": "code",
   "execution_count": null,
   "id": "ceff7bc9",
   "metadata": {},
   "outputs": [],
   "source": [
    "cd8_prelim_filt$prelim  <- \"Prelim\""
   ]
  },
  {
   "cell_type": "code",
   "execution_count": null,
   "id": "3897b725",
   "metadata": {
    "scrolled": true
   },
   "outputs": [],
   "source": [
    "cd8_prelim_filt@meta.data  %>% \n",
    "ggplot(aes(x = prelim, fill = naive_or_eff)) +\n",
    "  geom_bar(position = \"fill\") + \n",
    "scale_fill_manual(values = c(\"dodgerblue1\",\"indianred2\")) + \n",
    "theme_classic()+\n",
    "ggtheme() + ggtitle(\"CD8\")\n",
    "ggsave(\"../figures/prelim/cd8_barplot.svg\", width = 10, height = 12, units = \"cm\", create.dir = TRUE)"
   ]
  },
  {
   "cell_type": "code",
   "execution_count": null,
   "id": "08f8c76c",
   "metadata": {},
   "outputs": [],
   "source": [
    "options(repr.plot.width = 6, repr.plot.height = 5)\n",
    "FeaturePlot(cd8_prelim_filt, features = c(\"PTPRC-RA\"), max.cutoff = 3, \n",
    "        raster = TRUE, raster.dpi = c(900,900), pt.size = 4) + ggtheme()\n",
    "ggsave(\"../figures/prelim/cd8_ptprc_ra.svg\", width = 13, height = 12, units = \"cm\", create.dir = TRUE)"
   ]
  },
  {
   "cell_type": "code",
   "execution_count": null,
   "id": "327a8c4a",
   "metadata": {},
   "outputs": [],
   "source": [
    "options(repr.plot.width = 6, repr.plot.height = 5)\n",
    "FeaturePlot(cd8_prelim_filt, features = c(\"PTPRC-RO\"), max.cutoff = 2, \n",
    "        raster = TRUE, raster.dpi = c(900,900), pt.size = 4) + ggtheme()\n",
    "ggsave(\"../figures/prelim/cd8_ptprc_ro.svg\", width = 13, height = 12, units = \"cm\", create.dir = TRUE)"
   ]
  },
  {
   "cell_type": "code",
   "execution_count": null,
   "id": "90ff9a76",
   "metadata": {},
   "outputs": [],
   "source": []
  },
  {
   "cell_type": "markdown",
   "id": "e3a5cf7b",
   "metadata": {},
   "source": [
    "# CD8 Final data"
   ]
  },
  {
   "cell_type": "code",
   "execution_count": null,
   "id": "74578928",
   "metadata": {},
   "outputs": [],
   "source": [
    "paths  <- list.files(\"../data/rawdata/\", full.names = T)"
   ]
  },
  {
   "cell_type": "code",
   "execution_count": null,
   "id": "da100c0a",
   "metadata": {},
   "outputs": [],
   "source": [
    "paths"
   ]
  },
  {
   "cell_type": "code",
   "execution_count": null,
   "id": "cc962114",
   "metadata": {
    "scrolled": true
   },
   "outputs": [],
   "source": [
    "seu_list  <- future_map(paths[c(7,8,9,11,13,15,17,19)], readRDS)"
   ]
  },
  {
   "cell_type": "code",
   "execution_count": null,
   "id": "43b27b4d",
   "metadata": {},
   "outputs": [],
   "source": [
    "cd8_final  <- scCustomize::Merge_Seurat_List(seu_list)"
   ]
  },
  {
   "cell_type": "code",
   "execution_count": null,
   "id": "a8071398",
   "metadata": {},
   "outputs": [],
   "source": [
    "cd8_final"
   ]
  },
  {
   "cell_type": "code",
   "execution_count": null,
   "id": "26760e5d",
   "metadata": {},
   "outputs": [],
   "source": [
    "cd8_final$Condition  %>% table"
   ]
  },
  {
   "cell_type": "code",
   "execution_count": null,
   "id": "4d2f4547",
   "metadata": {},
   "outputs": [],
   "source": [
    "options(future.globals.maxSize = 10000 * 1024^2)\n",
    "plan(\"sequential\")"
   ]
  },
  {
   "cell_type": "code",
   "execution_count": null,
   "id": "464db49b",
   "metadata": {
    "scrolled": true
   },
   "outputs": [],
   "source": [
    "DefaultAssay(cd8_final)  <- \"RNA\"\n",
    "cd8_final <- NormalizeData(cd8_final, verbose = FALSE)\n",
    "cd8_final <- ScaleData(cd8_final, verbose = FALSE)\n",
    "cd8_final <- FindVariableFeatures(cd8_final, nfeatures = 1000, verbose = FALSE)\n",
    "cd8_final <- RunPCA(cd8_final, npcs = 12, verbose = FALSE)\n",
    "cd8_final <- RunUMAP(cd8_final, reduction = \"pca\", dims = 1:12)"
   ]
  },
  {
   "cell_type": "code",
   "execution_count": null,
   "id": "a2a3d9f5",
   "metadata": {},
   "outputs": [],
   "source": [
    "cd8_final <- FindNeighbors(cd8_final, dims = 1:12)\n",
    "cd8_final <- FindClusters(cd8_final, resolution = 1)"
   ]
  },
  {
   "cell_type": "code",
   "execution_count": null,
   "id": "1ed3a905",
   "metadata": {
    "scrolled": true
   },
   "outputs": [],
   "source": [
    "DimPlot(cd8_final, label = T)"
   ]
  },
  {
   "cell_type": "code",
   "execution_count": null,
   "id": "93e2cf03",
   "metadata": {},
   "outputs": [],
   "source": [
    "options(repr.plot.width = 16, repr.plot.height = 8)\n",
    "FeaturePlot(cd8_final, features = c(\"MKI67\", \"LCK\", \"CD3G\", \"TYROBP\", \"CD14\", \"MKI67\", \"CD3D\", \"CD8A\"), ncol = 4)"
   ]
  },
  {
   "cell_type": "code",
   "execution_count": null,
   "id": "6c83d5ff",
   "metadata": {},
   "outputs": [],
   "source": [
    "FeaturePlot(cd8_final, features = c(\"SELL\", \"CCR7\", \"IL7R\", \"ITGA4\", \"CCL5\", \"IFNG\"), ncol = 4)"
   ]
  },
  {
   "cell_type": "code",
   "execution_count": null,
   "id": "d0ea01ea",
   "metadata": {
    "scrolled": true
   },
   "outputs": [],
   "source": [
    "cd8_final_filt  <- subset(cd8_final, seurat_clusters %in% c(0:21))\n",
    "cd8_final_filt <- NormalizeData(cd8_final_filt, verbose = FALSE)\n",
    "cd8_final_filt <- ScaleData(cd8_final_filt, verbose = FALSE)\n",
    "cd8_final_filt <- FindVariableFeatures(cd8_final_filt, nfeatures = 1000, verbose = FALSE)\n",
    "cd8_final_filt <- RunPCA(cd8_final_filt, npcs = 15, verbose = FALSE)\n",
    "cd8_final_filt <- RunUMAP(cd8_final_filt, reduction = \"pca\", dims = 1:15)\n",
    "cd8_final_filt <- FindNeighbors(cd8_final_filt, dims = 1:15)\n",
    "cd8_final_filt <- FindClusters(cd8_final_filt, resolution = 0.5)"
   ]
  },
  {
   "cell_type": "code",
   "execution_count": null,
   "id": "15876f11",
   "metadata": {
    "scrolled": true
   },
   "outputs": [],
   "source": [
    "DimPlot(cd8_final_filt, label = T, label.size = 12)"
   ]
  },
  {
   "cell_type": "code",
   "execution_count": null,
   "id": "9c67c02c",
   "metadata": {},
   "outputs": [],
   "source": [
    "FeaturePlot(cd8_final_filt, features = c(\"SELL\", \"CCR7\", \"IL7R\", \"ITGA4\", \"CCL5\", \"IFNG\"), ncol = 4)"
   ]
  },
  {
   "cell_type": "code",
   "execution_count": null,
   "id": "959c41f2",
   "metadata": {},
   "outputs": [],
   "source": [
    "cd8_final_filt@meta.data  <- cd8_final_filt@meta.data  %>% \n",
    "mutate(naive_or_eff  = if_else(seurat_clusters %in% c(0,2,8),\"Naive\",\"NonNaive\"))"
   ]
  },
  {
   "cell_type": "code",
   "execution_count": null,
   "id": "f2a4cdae",
   "metadata": {},
   "outputs": [],
   "source": [
    "options(repr.plot.width = 7, repr.plot.height = 5)\n",
    "DimPlot(cd8_final_filt, label = F, label.size = 12, group.by = \"naive_or_eff\", cols = c(\"dodgerblue1\",\"indianred2\"), \n",
    "        raster = TRUE, raster.dpi = c(900,900), pt.size = 5) + ggtheme()\n",
    "ggsave(\"../figures/final/cd8_dimplot.svg\", width = 16, height = 12, units = \"cm\", create.dir = TRUE)"
   ]
  },
  {
   "cell_type": "code",
   "execution_count": null,
   "id": "4cfe36af",
   "metadata": {},
   "outputs": [],
   "source": [
    "cd8_final_filt$final  <- \"final\""
   ]
  },
  {
   "cell_type": "code",
   "execution_count": null,
   "id": "7810ee65",
   "metadata": {
    "scrolled": true
   },
   "outputs": [],
   "source": [
    "cd8_final_filt@meta.data  %>% \n",
    "ggplot(aes(x = final, fill = naive_or_eff)) +\n",
    "  geom_bar(position = \"fill\") + \n",
    "scale_fill_manual(values = c(\"dodgerblue1\",\"indianred2\")) + \n",
    "theme_classic()+\n",
    "ggtheme() + ggtitle(\"CD8\")\n",
    "ggsave(\"../figures/final/cd8_barplot.svg\", width = 10, height = 12, units = \"cm\", create.dir = TRUE)"
   ]
  },
  {
   "cell_type": "code",
   "execution_count": null,
   "id": "12743b1d",
   "metadata": {},
   "outputs": [],
   "source": [
    "options(repr.plot.width = 6, repr.plot.height = 5)\n",
    "FeaturePlot(cd8_final_filt, features = c(\"PTPRC-RA\"), max.cutoff = 5, \n",
    "        raster = TRUE, raster.dpi = c(900,900), pt.size = 3) + ggtheme()\n",
    "ggsave(\"../figures/final/cd8_ptprc_ra.svg\", width = 13, height = 12, units = \"cm\", create.dir = TRUE)"
   ]
  },
  {
   "cell_type": "code",
   "execution_count": null,
   "id": "878e0b22",
   "metadata": {},
   "outputs": [],
   "source": [
    "options(repr.plot.width = 6, repr.plot.height = 5)\n",
    "FeaturePlot(cd8_final_filt, features = c(\"PTPRC-RO\"), max.cutoff = 3, \n",
    "        raster = TRUE, raster.dpi = c(900,900), pt.size = 3) + ggtheme()\n",
    "ggsave(\"../figures/final/cd8_ptprc_ro.svg\", width = 13, height = 12, units = \"cm\", create.dir = TRUE)"
   ]
  },
  {
   "cell_type": "code",
   "execution_count": null,
   "id": "8a3e9bb1",
   "metadata": {},
   "outputs": [],
   "source": []
  },
  {
   "cell_type": "markdown",
   "id": "a5121c57",
   "metadata": {},
   "source": [
    "# CD8 preliminary and final"
   ]
  },
  {
   "cell_type": "markdown",
   "id": "cb38e3fd",
   "metadata": {},
   "source": [
    "The initial data files are saved in the folder `data/rawdata`. If you want to recapitulate the analysis, \n",
    "please download them and copy there. The initial files were generated using the following code: `XXX`\n",
    "\n",
    "The data were obtained in six 10x runs with the following experimental design and chemistry:\n",
    "\n",
    "`table`"
   ]
  },
  {
   "cell_type": "code",
   "execution_count": null,
   "id": "31a0691a",
   "metadata": {},
   "outputs": [],
   "source": [
    "paths  <- list.files(\"../data/rawdata/\", full.names = T)"
   ]
  },
  {
   "cell_type": "code",
   "execution_count": null,
   "id": "0beabc8a",
   "metadata": {},
   "outputs": [],
   "source": [
    "seu_list  <- future_map(paths[c(1,2,3,7,8,9,11,13,15,17,19)], .f = readRDS)"
   ]
  },
  {
   "cell_type": "markdown",
   "id": "b71ff46c",
   "metadata": {},
   "source": [
    "Experiment 10, which is now the second item in the `seu_list`, contained both CD8 and CD4 T cell samples. \n",
    "We will subset the seurat object to keep only hashtag \"H5\", which is the one CD8 T cell sample in this experiment."
   ]
  },
  {
   "cell_type": "code",
   "execution_count": null,
   "id": "000d2571",
   "metadata": {},
   "outputs": [],
   "source": [
    "seu_list[[2]]$hashtags  %>% table"
   ]
  },
  {
   "cell_type": "code",
   "execution_count": null,
   "id": "d9dc69d4",
   "metadata": {},
   "outputs": [],
   "source": [
    "exp10_cd8  <- subset(seu_list[[2]], hashtags == \"H5\")"
   ]
  },
  {
   "cell_type": "code",
   "execution_count": null,
   "id": "2b35b453",
   "metadata": {},
   "outputs": [],
   "source": [
    "seu_list[[2]] <- exp10_cd8"
   ]
  },
  {
   "cell_type": "markdown",
   "id": "1fc99b44",
   "metadata": {},
   "source": [
    "We will now merge all CD8 T cell samples."
   ]
  },
  {
   "cell_type": "code",
   "execution_count": null,
   "id": "e2d00b00",
   "metadata": {},
   "outputs": [],
   "source": [
    "cd8_full  <- scCustomize::Merge_Seurat_List(seu_list)"
   ]
  },
  {
   "cell_type": "markdown",
   "id": "0a3975e6",
   "metadata": {},
   "source": [
    "# Add metadata"
   ]
  },
  {
   "cell_type": "code",
   "execution_count": null,
   "id": "d837254b",
   "metadata": {},
   "outputs": [],
   "source": [
    "md_dia  <- read_xlsx(\"../data/metadata_v05.xlsx\")"
   ]
  },
  {
   "cell_type": "code",
   "execution_count": null,
   "id": "93c4031c",
   "metadata": {},
   "outputs": [],
   "source": [
    "md_dia  %>% colnames"
   ]
  },
  {
   "cell_type": "code",
   "execution_count": null,
   "id": "aeaccb69",
   "metadata": {},
   "outputs": [],
   "source": [
    "cd8_full@meta.data  <- cd8_full@meta.data  %>% \n",
    "separate(Condition, into = c(\"Disease\", \"Time\"), remove = F, sep = \" \")  %>% \n",
    "mutate(Patient_Time = paste(Patient_ID, Time))\n",
    "\n",
    "cd8_full$Time  <- if_else(is.na(cd8_full$Time), \"T0\", cd8_full$Time)\n",
    "\n",
    "cd8_full$Sample_char  <- paste(cd8_full$Patient_ID, \n",
    "                                  cd8_full$Disease,\n",
    "                                  cd8_full$Time,\n",
    "                                  cd8_full$Age_group,\n",
    "                                  cd8_full$Sex,\n",
    "                                  cd8_full$Experiment_ID)"
   ]
  },
  {
   "cell_type": "code",
   "execution_count": null,
   "id": "5beb7de4",
   "metadata": {},
   "outputs": [],
   "source": [
    "md_seurat  <- cd8_full@meta.data"
   ]
  },
  {
   "cell_type": "code",
   "execution_count": null,
   "id": "6556ecb8",
   "metadata": {},
   "outputs": [],
   "source": [
    "colnames(md_seurat)"
   ]
  },
  {
   "cell_type": "code",
   "execution_count": null,
   "id": "c57ccf3b",
   "metadata": {},
   "outputs": [],
   "source": [
    "md_joined  <- left_join(md_seurat, md_dia)"
   ]
  },
  {
   "cell_type": "code",
   "execution_count": null,
   "id": "cc812971",
   "metadata": {},
   "outputs": [],
   "source": [
    "cd8_full@meta.data  <- md_joined\n",
    "rownames(cd8_full@meta.data)  <- colnames(cd8_full)"
   ]
  },
  {
   "cell_type": "markdown",
   "id": "7b80ff3d",
   "metadata": {},
   "source": [
    "### Remove problematic Patient 206"
   ]
  },
  {
   "cell_type": "markdown",
   "id": "c437c067",
   "metadata": {},
   "source": [
    "Patient 206 was removed because of low quality of data on sort, suggesting of low quality of the frozen sample."
   ]
  },
  {
   "cell_type": "code",
   "execution_count": null,
   "id": "3a7950c9",
   "metadata": {},
   "outputs": [],
   "source": [
    "cd8_full  <- subset(cd8_full, Patient_ID != \"206\")"
   ]
  },
  {
   "cell_type": "markdown",
   "id": "ea0ccdc0",
   "metadata": {},
   "source": [
    "### Remove Pre-Dia"
   ]
  },
  {
   "cell_type": "code",
   "execution_count": null,
   "id": "716ba595",
   "metadata": {},
   "outputs": [],
   "source": [
    "cd8_full$Disease  %>% table"
   ]
  },
  {
   "cell_type": "code",
   "execution_count": null,
   "id": "1fceec49",
   "metadata": {},
   "outputs": [],
   "source": [
    "cd8_full  <- subset(cd8_full, Disease %in% c(\"Dia\", \"Ctrl\"))"
   ]
  },
  {
   "cell_type": "code",
   "execution_count": null,
   "id": "2b5b753f",
   "metadata": {},
   "outputs": [],
   "source": [
    "cd8_full$Disease  %>% table"
   ]
  },
  {
   "cell_type": "markdown",
   "id": "20739ee5",
   "metadata": {},
   "source": [
    "### Exchange Ctrl T0 for Ctrl T1 in case of 201, 202, 204"
   ]
  },
  {
   "cell_type": "code",
   "execution_count": null,
   "id": "789eb8f0",
   "metadata": {},
   "outputs": [],
   "source": [
    "cd8_full$Condition  %>% table"
   ]
  },
  {
   "cell_type": "code",
   "execution_count": null,
   "id": "7de0389e",
   "metadata": {},
   "outputs": [],
   "source": [
    "cd8_full$is_old_control  <-  ifelse(cd8_full$Patient_Time %in% c(\"201 T0\",\"202 T0\",\"204 T0\"), TRUE,FALSE)"
   ]
  },
  {
   "cell_type": "code",
   "execution_count": null,
   "id": "30e5614a",
   "metadata": {},
   "outputs": [],
   "source": [
    "cd8_full$is_old_control  %>% table"
   ]
  },
  {
   "cell_type": "code",
   "execution_count": null,
   "id": "b3f5b76b",
   "metadata": {},
   "outputs": [],
   "source": [
    "cd8_full  <- subset(cd8_full, is_old_control == FALSE)"
   ]
  },
  {
   "cell_type": "code",
   "execution_count": null,
   "id": "3191da48",
   "metadata": {},
   "outputs": [],
   "source": [
    "cd8_full$Condition  %>% table"
   ]
  },
  {
   "cell_type": "code",
   "execution_count": null,
   "id": "b07dccd7",
   "metadata": {},
   "outputs": [],
   "source": [
    "cd8_full@meta.data  <- cd8_full@meta.data  %>% \n",
    "mutate(Time = ifelse(Patient_Time %in% c(\"201 T1\",\"202 T1\",\"204 T1\"), \"T0\", Time))  %>% \n",
    "mutate(Patient_Time = paste(Patient_ID, Time),\n",
    "       Condition = paste(Disease, Time))\n"
   ]
  },
  {
   "cell_type": "code",
   "execution_count": null,
   "id": "066750c7",
   "metadata": {},
   "outputs": [],
   "source": [
    "cd8_full$Condition  %>% table"
   ]
  },
  {
   "cell_type": "code",
   "execution_count": null,
   "id": "2f025af2",
   "metadata": {},
   "outputs": [],
   "source": []
  },
  {
   "cell_type": "code",
   "execution_count": null,
   "id": "ce788a54",
   "metadata": {},
   "outputs": [],
   "source": [
    "plan(\"sequential\")"
   ]
  },
  {
   "cell_type": "code",
   "execution_count": null,
   "id": "c4e62639",
   "metadata": {},
   "outputs": [],
   "source": [
    "DefaultAssay(cd8_full)  <- \"RNA\""
   ]
  },
  {
   "cell_type": "code",
   "execution_count": null,
   "id": "3e8b699c",
   "metadata": {},
   "outputs": [],
   "source": [
    "cd8_full <- NormalizeData(cd8_full, verbose = FALSE)"
   ]
  },
  {
   "cell_type": "code",
   "execution_count": null,
   "id": "d44084b9",
   "metadata": {},
   "outputs": [],
   "source": [
    "cd8_full <- ScaleData(cd8_full, verbose = FALSE)"
   ]
  },
  {
   "cell_type": "code",
   "execution_count": null,
   "id": "c25e6c0c",
   "metadata": {
    "scrolled": true
   },
   "outputs": [],
   "source": [
    "cd8_full <- FindVariableFeatures(cd8_full, nfeatures = 1000, verbose = FALSE)\n",
    "cd8_full <- RunPCA(cd8_full, npcs = 12, verbose = FALSE)\n",
    "cd8_full <- RunUMAP(cd8_full, reduction = \"pca\", dims = 1:12)"
   ]
  },
  {
   "cell_type": "code",
   "execution_count": null,
   "id": "a6f991bc",
   "metadata": {},
   "outputs": [],
   "source": [
    "cd8_full <- FindNeighbors(cd8_full, dims = 1:12)\n",
    "cd8_full <- FindClusters(cd8_full, resolution = 1)"
   ]
  },
  {
   "cell_type": "code",
   "execution_count": null,
   "id": "2864be8e",
   "metadata": {
    "scrolled": true
   },
   "outputs": [],
   "source": [
    "options(repr.plot.width = 6, repr.plot.height = 5)\n",
    "\n",
    "DimPlot(cd8_full, label = T, raster = F)"
   ]
  },
  {
   "cell_type": "markdown",
   "id": "c80d38e9",
   "metadata": {},
   "source": [
    "We will check the canonical markers of T cells and other immune populations to see clusters of contaminating cell types."
   ]
  },
  {
   "cell_type": "code",
   "execution_count": null,
   "id": "8d270c81",
   "metadata": {},
   "outputs": [],
   "source": [
    "options(repr.plot.width = 16, repr.plot.height = 8)\n",
    "FeaturePlot(cd8_full, features = c(\"MKI67\", \"LCK\", \"CD3G\", \"TYROBP\", \"CD14\", \"MKI67\", \"CD3D\", \"CD8A\"), ncol = 4, raster = F)"
   ]
  },
  {
   "cell_type": "markdown",
   "id": "00fa1d5c",
   "metadata": {},
   "source": [
    "### Automated annotation of cell types"
   ]
  },
  {
   "cell_type": "markdown",
   "id": "a9e649f5",
   "metadata": {},
   "source": [
    "We will perform automated analysis of cell types using the packages [SingleR](https://bioconductor.org/packages/release/bioc/vignettes/SingleR/inst/doc/SingleR.html) and [Azimuth](https://azimuth.hubmapconsortium.org/). We used two built-in reference datasets from the package celldex: Monaco Immune Dataset and Human Primary Cell Atlas Data, a custom reference of human T-cell types profiled by bulk RNA seq from the paper by Giles et al. [Immunity, 2022](https://www.sciencedirect.com/science/article/pii/S107476132200084X) and the three-level Azimuth annotations."
   ]
  },
  {
   "cell_type": "code",
   "execution_count": null,
   "id": "1b4f2509",
   "metadata": {},
   "outputs": [],
   "source": [
    "mid.se <- celldex::MonacoImmuneData()\n",
    "hpca.se  <- celldex::HumanPrimaryCellAtlasData()\n",
    "\n",
    "load(\"../data/ref_wherry_new.RData\")"
   ]
  },
  {
   "cell_type": "code",
   "execution_count": null,
   "id": "3c30e816",
   "metadata": {},
   "outputs": [],
   "source": [
    "cd8_full  <- annotate_tcell_data(cd8_full)"
   ]
  },
  {
   "cell_type": "code",
   "execution_count": null,
   "id": "a8c6e5bf",
   "metadata": {},
   "outputs": [],
   "source": [
    "dir.create(\"../data/processed/\")\n",
    "dir.create(\"../data/processed/L1/\")\n",
    "dir.create(\"../data/processed/L2/\")\n",
    "dir.create(\"../data/processed/L3/\")"
   ]
  },
  {
   "cell_type": "code",
   "execution_count": null,
   "id": "f9be4b2d",
   "metadata": {},
   "outputs": [],
   "source": [
    "saveRDS(cd8_full, \"../data/processed/L1/cd8_full.rds\")"
   ]
  },
  {
   "cell_type": "code",
   "execution_count": null,
   "id": "db99a0a5",
   "metadata": {},
   "outputs": [],
   "source": [
    "#cd8_full  <- readRDS(\"../data/processed/L1/cd8_full.rds\")"
   ]
  },
  {
   "cell_type": "code",
   "execution_count": null,
   "id": "f115bf79",
   "metadata": {},
   "outputs": [],
   "source": [
    "DimPlot(cd8_full, raster = F, group.by = \"Monaco_single\", label = F)"
   ]
  },
  {
   "cell_type": "code",
   "execution_count": null,
   "id": "05471dde",
   "metadata": {},
   "outputs": [],
   "source": [
    "DimPlot(cd8_full, label = T, raster = F)"
   ]
  },
  {
   "cell_type": "code",
   "execution_count": null,
   "id": "19634d75",
   "metadata": {},
   "outputs": [],
   "source": [
    "DefaultAssay(cd8_full)  <- \"RNA\""
   ]
  },
  {
   "cell_type": "code",
   "execution_count": null,
   "id": "0755a849",
   "metadata": {},
   "outputs": [],
   "source": [
    "cd8_full <- FindNeighbors(cd8_full, dims = 1:12)\n",
    "cd8_full <- FindClusters(cd8_full, resolution = 0.8)"
   ]
  },
  {
   "cell_type": "code",
   "execution_count": null,
   "id": "15cf45a9",
   "metadata": {},
   "outputs": [],
   "source": [
    "DimPlot(cd8_full, label = T, raster = F)"
   ]
  },
  {
   "cell_type": "code",
   "execution_count": null,
   "id": "e3274187",
   "metadata": {},
   "outputs": [],
   "source": [
    "VlnPlot(cd8_full, features = c(\"percent.mt\", \"percent.rp\", \"nCount_RNA\", \"nFeature_RNA\"), ncol = 4, raster = F)"
   ]
  },
  {
   "cell_type": "markdown",
   "id": "f9211a83",
   "metadata": {},
   "source": [
    "### Remove dead and contaminating cells"
   ]
  },
  {
   "cell_type": "code",
   "execution_count": null,
   "id": "d1887b8e",
   "metadata": {},
   "outputs": [],
   "source": [
    "cd8_full  <- readRDS(\"../data/processed/L1/cd8_full.rds\")"
   ]
  },
  {
   "cell_type": "markdown",
   "id": "9c039572",
   "metadata": {},
   "source": [
    "We will filter out low quality and contaminating cells:\n",
    "\n",
    "- cells with more than 10% of reads mapping to mitochondrial genes\n",
    "- cells with less than 500 detected genes\n",
    "- cluster 8, which contains dead and dying cells\n",
    "- cluster 19, which contains contaminating cells, e.g. monocytes, B cells"
   ]
  },
  {
   "cell_type": "code",
   "execution_count": null,
   "id": "6ccfda8e",
   "metadata": {},
   "outputs": [],
   "source": [
    "cutoff_nFeature_RNA <- 500\n",
    "cutoff_percent_mt <- 10\n",
    "cluster_exclude  <- c(8,19)"
   ]
  },
  {
   "cell_type": "code",
   "execution_count": null,
   "id": "8b608636",
   "metadata": {},
   "outputs": [],
   "source": [
    "p1 <- ggplot(data.frame(nCount_RNA = cd8_full$nCount_RNA,\n",
    "                  nFeature_RNA = cd8_full$nFeature_RNA,\n",
    "                  percent_mt = cd8_full$percent.mt,\n",
    "                  seurat_clusters = cd8_full$seurat_clusters,\n",
    "                  exclude = ifelse(cd8_full$seurat_clusters %in% cluster_exclude, TRUE, FALSE)), \n",
    "       aes(x = seurat_clusters, y = percent_mt)) +\n",
    "  geom_violin(scale = \"width\", aes(fill = exclude)) + \n",
    "  geom_hline(yintercept = cutoff_percent_mt,\n",
    "               geom = \"line\", \n",
    "               width = 0.5,\n",
    "               colour = \"red\") + \n",
    "  ggtitle(\"Percent mt. cutoff\") + \n",
    "  theme_classic() +\n",
    "  scale_fill_manual(values = c(\"white\",\"red\")) +\n",
    "  theme(panel.background = element_blank(), \n",
    "        axis.text.x = element_text(angle = 0, hjust = 1)) +\n",
    "  annotate(geom = \"rect\", xmin = min(as.numeric(cd8_full$seurat_clusters))-1, \n",
    "           xmax = max(as.numeric(cd8_full$seurat_clusters))+1, \n",
    "           ymin=cutoff_percent_mt,ymax=1.1*(max(cd8_full$percent.mt)), fill = \"red\", alpha = 0.1)\n",
    "\n",
    "p2 <- ggplot(data.frame(nCount_RNA = cd8_full$nCount_RNA,\n",
    "                  nFeature_RNA = cd8_full$nFeature_RNA,\n",
    "                  percent_mt = cd8_full$percent.mt,\n",
    "                  seurat_clusters = cd8_full$seurat_clusters,\n",
    "                        exclude = ifelse(cd8_full$seurat_clusters %in% cluster_exclude, TRUE, FALSE)), \n",
    "       aes(x = seurat_clusters, y = nFeature_RNA)) +\n",
    "  geom_violin(scale = \"width\", aes(fill = exclude)) + \n",
    "  geom_hline(yintercept = cutoff_nFeature_RNA,\n",
    "               geom = \"line\", \n",
    "               width = 0.5,\n",
    "               colour = \"red\") + \n",
    "  ggtitle(\"nFeature RNA cutoff\") + \n",
    "  theme_classic() +\n",
    "  scale_fill_manual(values = c(\"white\",\"red\")) +\n",
    "  theme(panel.background = element_blank(), \n",
    "        axis.text.x = element_text(angle = 0, hjust = 1)) +\n",
    "  annotate(geom = \"rect\", xmin = min(as.numeric(cd8_full$seurat_clusters))-1, \n",
    "           xmax = max(as.numeric(cd8_full$seurat_clusters))+1, \n",
    "           ymin=0, ymax=cutoff_nFeature_RNA, fill = \"red\", alpha = 0.1)\n",
    "\n",
    "\n",
    "\n",
    "p1 + p2"
   ]
  },
  {
   "cell_type": "markdown",
   "id": "637e8c25",
   "metadata": {},
   "source": [
    "### QC dead and contaminating removal for figure"
   ]
  },
  {
   "cell_type": "code",
   "execution_count": null,
   "id": "a995388d",
   "metadata": {},
   "outputs": [],
   "source": [
    "options(repr.plot.width = 14, repr.plot.height = 5)\n",
    "\n",
    "p1 <- ggplot(data.frame(nCount_RNA = cd8_full$nCount_RNA,\n",
    "                  nFeature_RNA = cd8_full$nFeature_RNA,\n",
    "                  percent_mt = cd8_full$percent.mt,\n",
    "                  seurat_clusters = cd8_full$seurat_clusters,\n",
    "                  exclude = ifelse(cd8_full$seurat_clusters %in% cluster_exclude, TRUE, FALSE)), \n",
    "       aes(x = seurat_clusters, y = percent_mt)) +\n",
    "  geom_violin(scale = \"width\", aes(fill = exclude)) + \n",
    "  geom_hline(yintercept = cutoff_percent_mt,\n",
    "               geom = \"line\", \n",
    "               width = 0.5,\n",
    "               colour = \"red\") + \n",
    "  ggtitle(\"Percent mt. cutoff\") + \n",
    "  theme_classic() +\n",
    "  scale_fill_manual(values = c(\"white\",\"red\")) +\n",
    "  theme(panel.background = element_blank(), \n",
    "        axis.text.x = element_text(angle = 45, hjust = 1)) +\n",
    "  annotate(geom = \"rect\", xmin = min(as.numeric(cd8_full$seurat_clusters))-1, \n",
    "           xmax = max(as.numeric(cd8_full$seurat_clusters))+1, \n",
    "           ymin=cutoff_percent_mt,ymax=1.1*(max(cd8_full$percent.mt)), fill = \"red\", alpha = 0.1) + ggtheme() + NoLegend()\n",
    "\n",
    "p2 <- ggplot(data.frame(nCount_RNA = cd8_full$nCount_RNA,\n",
    "                  nFeature_RNA = cd8_full$nFeature_RNA,\n",
    "                  percent_mt = cd8_full$percent.mt,\n",
    "                  seurat_clusters = cd8_full$seurat_clusters,\n",
    "                        exclude = ifelse(cd8_full$seurat_clusters %in% cluster_exclude, TRUE, FALSE)), \n",
    "       aes(x = seurat_clusters, y = nFeature_RNA)) +\n",
    "  geom_violin(scale = \"width\", aes(fill = exclude)) + \n",
    "  geom_hline(yintercept = cutoff_nFeature_RNA,\n",
    "               geom = \"line\", \n",
    "               width = 0.5,\n",
    "               colour = \"red\") + \n",
    "  ggtitle(\"nFeature RNA cutoff\") + \n",
    "  theme_classic() +\n",
    "  scale_fill_manual(values = c(\"white\",\"red\")) +\n",
    "  theme(panel.background = element_blank(), \n",
    "        axis.text.x = element_text(angle = 45, hjust = 1)) +\n",
    "  annotate(geom = \"rect\", xmin = min(as.numeric(cd8_full$seurat_clusters))-1, \n",
    "           xmax = max(as.numeric(cd8_full$seurat_clusters))+1, \n",
    "           ymin=0, ymax=cutoff_nFeature_RNA, fill = \"red\", alpha = 0.1) + ggtheme()\n",
    "\n",
    "\n",
    "\n",
    "p1 + p2\n",
    "\n",
    "ggsave(\"../figures/QC/cd8_QC_plot1.png\", width = 9, height = 4)\n",
    "ggsave(\"../figures/QC/cd8_QC_plot1.svg\", width = 9, height = 4)"
   ]
  },
  {
   "cell_type": "code",
   "execution_count": null,
   "id": "a0fc0c37",
   "metadata": {},
   "outputs": [],
   "source": [
    "options(repr.plot.width = 10, repr.plot.height = 6)\n",
    "\n",
    "DotPlot(cd8_full, features = rev(c(\"CD3D\",\"CD8A\",\"CD8B\",\"CD4\",\"LCK\",\"TRAC\",\"CD14\",\"MS4A1\"))) + \n",
    "ggtheme() +\n",
    "theme(panel.background = element_blank(), \n",
    "      axis.text.x = element_text(angle = 45, hjust = 1)) + coord_flip() +\n",
    "      scale_size_continuous(range = c(0.2,3))\n",
    "ggsave(\"../figures/QC/cd8_QC_plot2.png\", width = 6.8, height = 3.7)\n",
    "ggsave(\"../figures/QC/cd8_QC_plot2.svg\", width = 6.8, height = 3.7)\n"
   ]
  },
  {
   "cell_type": "code",
   "execution_count": null,
   "id": "762468eb",
   "metadata": {},
   "outputs": [],
   "source": [
    "cd8_full$remove  <- ifelse((cd8_full$seurat_clusters %in% cluster_exclude)  |\n",
    "cd8_full$percent.mt > cutoff_percent_mt |\n",
    "cd8_full$nFeature_RNA < cutoff_nFeature_RNA, \"Remove\", \"Keep\")"
   ]
  },
  {
   "cell_type": "code",
   "execution_count": null,
   "id": "781e57c2",
   "metadata": {},
   "outputs": [],
   "source": [
    "options(repr.plot.width = 5, repr.plot.height = 4)\n",
    "DimPlot(cd8_full, raster = T, group.by = \"remove\", cols = c(\"grey88\",\"red\")) + ggtheme()\n",
    "ggsave(\"../figures/QC/cd8_QC_plot3.png\", width = 5, height = 4)\n",
    "ggsave(\"../figures/QC/cd8_QC_plot3.svg\", width = 5, height = 4)"
   ]
  },
  {
   "cell_type": "code",
   "execution_count": null,
   "id": "11875ca9",
   "metadata": {},
   "outputs": [],
   "source": [
    "DimPlot(cd8_full, raster = T, label = T, label.size = 7) + ggtheme()\n",
    "ggsave(\"../figures/QC/cd8_QC_plot4.png\", width = 5, height = 4)\n",
    "ggsave(\"../figures/QC/cd8_QC_plot4.svg\", width = 5, height = 4)"
   ]
  },
  {
   "cell_type": "code",
   "execution_count": null,
   "id": "95e0f712",
   "metadata": {},
   "outputs": [],
   "source": [
    "options(repr.plot.width = 60, repr.plot.height = 12)\n",
    "VlnPlot(cd8_l1_full_filt, features = c( \"nFeature_RNA\"), \n",
    "        ncol = 4, group.by = \"Sample_ID\", raster = F, pt.size = 0) + NoLegend()"
   ]
  },
  {
   "cell_type": "markdown",
   "id": "1736e856",
   "metadata": {},
   "source": [
    "### Processing after QC"
   ]
  },
  {
   "cell_type": "code",
   "execution_count": null,
   "id": "de148dc8",
   "metadata": {},
   "outputs": [],
   "source": [
    "cd8_l1_full_filt  <- subset(cd8_full, \n",
    "                       ((seurat_clusters %in% cluster_exclude) == F) &\n",
    "                      percent.mt < cutoff_percent_mt &\n",
    "                      nFeature_RNA > cutoff_nFeature_RNA)"
   ]
  },
  {
   "cell_type": "code",
   "execution_count": null,
   "id": "276aaaf5",
   "metadata": {
    "scrolled": true
   },
   "outputs": [],
   "source": [
    "cd8_l1_full_filt <- NormalizeData(cd8_l1_full_filt, verbose = FALSE)\n",
    "cd8_l1_full_filt <- ScaleData(cd8_l1_full_filt, verbose = FALSE)\n",
    "cd8_l1_full_filt <- FindVariableFeatures(cd8_l1_full_filt, nfeatures = 800, verbose = FALSE)\n",
    "cd8_l1_full_filt <- RunPCA(cd8_l1_full_filt, npcs = 12, verbose = FALSE)\n",
    "cd8_l1_full_filt <- RunUMAP(cd8_l1_full_filt, reduction = \"pca\", dims = 1:12)\n",
    "cd8_l1_full_filt <- FindNeighbors(cd8_l1_full_filt, dims = 1:12)\n",
    "cd8_l1_full_filt <- FindClusters(cd8_l1_full_filt, resolution = 1)"
   ]
  },
  {
   "cell_type": "code",
   "execution_count": null,
   "id": "a66e25d7",
   "metadata": {},
   "outputs": [],
   "source": [
    "options(repr.plot.width = 6, repr.plot.height = 5)\n",
    "DimPlot(cd8_l1_full_filt, label = T, raster = F)"
   ]
  },
  {
   "cell_type": "code",
   "execution_count": null,
   "id": "dc32cf46",
   "metadata": {
    "scrolled": true
   },
   "outputs": [],
   "source": [
    "options(repr.plot.width = 20)\n",
    "VlnPlot(cd8_l1_full_filt, features = c(\"percent.mt\", \"percent.rp\", \"nCount_RNA\", \"nFeature_RNA\"), ncol = 4, raster = F)"
   ]
  },
  {
   "cell_type": "code",
   "execution_count": null,
   "id": "bd9f376a",
   "metadata": {},
   "outputs": [],
   "source": [
    "options(repr.plot.width = 16, repr.plot.height = 8)\n",
    "\n",
    "FeaturePlot(cd8_l1_full_filt, features = c(\"CD8A\", \"SELL\", \"CD3D\", \"CD19\", \"MS4A1\", \"TRGV2\", \"TRDC\"), ncol = 4, raster = F)"
   ]
  },
  {
   "cell_type": "code",
   "execution_count": null,
   "id": "14c6fa14",
   "metadata": {},
   "outputs": [],
   "source": [
    "cd8_l1_full_filt <- FindClusters(cd8_l1_full_filt, resolution = 0.6)\n",
    "\n",
    "options(repr.plot.width = 6, repr.plot.height = 5)\n",
    "DimPlot(cd8_l1_full_filt, label = T, raster = F)"
   ]
  },
  {
   "cell_type": "markdown",
   "id": "49524677",
   "metadata": {},
   "source": [
    "### PCA on samples"
   ]
  },
  {
   "cell_type": "code",
   "execution_count": null,
   "id": "e3f923dd",
   "metadata": {},
   "outputs": [],
   "source": [
    "cd8_l1_full_filt@meta.data  <- cd8_l1_full_filt@meta.data  %>% separate(Condition, into = c(\"Disease\", \"Time\"), remove = F, sep = \" \")"
   ]
  },
  {
   "cell_type": "code",
   "execution_count": null,
   "id": "55e2de7d",
   "metadata": {},
   "outputs": [],
   "source": [
    "cd8_l1_full_filt$Sample_char  <- paste(cd8_l1_full_filt$Patient_ID, \n",
    "                                  cd8_l1_full_filt$Disease,\n",
    "                                  cd8_l1_full_filt$Time,\n",
    "                                  cd8_l1_full_filt$Age_group,\n",
    "                                  cd8_l1_full_filt$Sex,\n",
    "                                  cd8_l1_full_filt$Experiment_ID)"
   ]
  },
  {
   "cell_type": "code",
   "execution_count": null,
   "id": "22561a68",
   "metadata": {},
   "outputs": [],
   "source": [
    "cd8_samples  <- AverageExpression(cd8_l1_full_filt, group.by = \"Sample_char\", return.seurat = T)"
   ]
  },
  {
   "cell_type": "code",
   "execution_count": null,
   "id": "1c1601d5",
   "metadata": {},
   "outputs": [],
   "source": [
    "cd8_samples  <- FindVariableFeatures(cd8_samples)"
   ]
  },
  {
   "cell_type": "code",
   "execution_count": null,
   "id": "1d59daab",
   "metadata": {
    "scrolled": true
   },
   "outputs": [],
   "source": [
    "cd8_samples  <- RunPCA(cd8_samples)"
   ]
  },
  {
   "cell_type": "code",
   "execution_count": null,
   "id": "be7fbfd8",
   "metadata": {},
   "outputs": [],
   "source": [
    "DimPlot(cd8_samples)"
   ]
  },
  {
   "cell_type": "code",
   "execution_count": null,
   "id": "2d96a888",
   "metadata": {},
   "outputs": [],
   "source": [
    "cd8_samples$Sample_char  <- colnames(cd8_samples)"
   ]
  },
  {
   "cell_type": "code",
   "execution_count": null,
   "id": "c22366ec",
   "metadata": {
    "scrolled": true
   },
   "outputs": [],
   "source": [
    "cd8_samples$Sample_char  %>% table"
   ]
  },
  {
   "cell_type": "code",
   "execution_count": null,
   "id": "4db062d5",
   "metadata": {},
   "outputs": [],
   "source": [
    "cd8_samples@meta.data  <- cd8_samples@meta.data  %>% separate(Sample_char, \n",
    "                                                              into = c(\"Patient_ID\",\n",
    "                                                                      \"Disease\",\n",
    "                                                                      \"Time\",\n",
    "                                                                      \"Age_group\",\n",
    "                                                                      \"Sex\",\n",
    "                                                                      \"Exp\"), \n",
    "                                                             sep = \" \",\n",
    "                                                             remove = F)"
   ]
  },
  {
   "cell_type": "code",
   "execution_count": null,
   "id": "ec40e122",
   "metadata": {
    "scrolled": true
   },
   "outputs": [],
   "source": [
    "options(repr.plot.width = 12, repr.plot.height = 7)\n",
    "(DimPlot(cd8_samples, group.by = \"Exp\") + DimPlot(cd8_samples, group.by = \"Disease\") + DimPlot(cd8_samples, group.by = \"Time\")) / (DimPlot(cd8_samples, group.by = \"Sex\") + DimPlot(cd8_samples, group.by = \"Age_group\") + (DimPlot(cd8_samples, group.by = \"Patient_ID\") + NoLegend()))"
   ]
  },
  {
   "cell_type": "code",
   "execution_count": null,
   "id": "7750317c",
   "metadata": {},
   "outputs": [],
   "source": [
    "p1  <- (DimPlot(cd8_samples, group.by = \"Exp\") + DimPlot(cd8_samples, group.by = \"Disease\") + DimPlot(cd8_samples, group.by = \"Time\")) / (DimPlot(cd8_samples, group.by = \"Sex\") + DimPlot(cd8_samples, group.by = \"Age_group\") + (DimPlot(cd8_samples, group.by = \"Patient_ID\") + NoLegend()))"
   ]
  },
  {
   "cell_type": "markdown",
   "id": "9522c65e",
   "metadata": {},
   "source": [
    "## STACAS Integration over Experiment"
   ]
  },
  {
   "cell_type": "code",
   "execution_count": null,
   "id": "5db504fc",
   "metadata": {},
   "outputs": [],
   "source": [
    "cd8_l1_full_filt  <- SplitObject(cd8_l1_full_filt, split.by = \"Experiment_ID\")"
   ]
  },
  {
   "cell_type": "code",
   "execution_count": null,
   "id": "f81a27b2",
   "metadata": {
    "scrolled": true
   },
   "outputs": [],
   "source": [
    "# normalize and identify variable features for each dataset independently\n",
    "merged.list <- lapply(X = cd8_l1_full_filt, FUN = function(x) {\n",
    "    DefaultAssay(x)  <- \"RNA\"\n",
    "    x$barcode  <- colnames(x)\n",
    "    x <- NormalizeData(x)\n",
    "    x <- FindVariableFeatures(x, selection.method = \"vst\", nfeatures = 800)\n",
    "})\n",
    "\n",
    "cd8_l1_full_filt <- Run.STACAS(merged.list, dims = 1:12)\n",
    "cd8_l1_full_filt <- RunUMAP(cd8_l1_full_filt, dims = 1:12) "
   ]
  },
  {
   "cell_type": "code",
   "execution_count": null,
   "id": "21749cff",
   "metadata": {},
   "outputs": [],
   "source": [
    "# Visualize\n",
    "DimPlot(cd8_l1_full_filt, group.by = c(\"Experiment_ID\"), raster=F)"
   ]
  },
  {
   "cell_type": "markdown",
   "id": "14c2a8a9",
   "metadata": {},
   "source": [
    "### PCA on samples"
   ]
  },
  {
   "cell_type": "code",
   "execution_count": null,
   "id": "7df586f4",
   "metadata": {},
   "outputs": [],
   "source": [
    "cd8_samples2  <- AverageExpression(cd8_l1_full_filt, group.by = \"Sample_char\", return.seurat = T)"
   ]
  },
  {
   "cell_type": "code",
   "execution_count": null,
   "id": "a207c01b",
   "metadata": {},
   "outputs": [],
   "source": [
    "cd8_samples2  <- FindVariableFeatures(cd8_samples2)"
   ]
  },
  {
   "cell_type": "code",
   "execution_count": null,
   "id": "d9a2fb72",
   "metadata": {
    "scrolled": true
   },
   "outputs": [],
   "source": [
    "cd8_samples2  <- RunPCA(cd8_samples2)"
   ]
  },
  {
   "cell_type": "code",
   "execution_count": null,
   "id": "b99ddd69",
   "metadata": {},
   "outputs": [],
   "source": [
    "DimPlot(cd8_samples2)"
   ]
  },
  {
   "cell_type": "code",
   "execution_count": null,
   "id": "2f9537fb",
   "metadata": {},
   "outputs": [],
   "source": [
    "cd8_samples2$Sample_char  <- colnames(cd8_samples2)"
   ]
  },
  {
   "cell_type": "code",
   "execution_count": null,
   "id": "8b3995b5",
   "metadata": {},
   "outputs": [],
   "source": [
    "cd8_samples2@meta.data  <- cd8_samples2@meta.data  %>% separate(Sample_char, \n",
    "                                                              into = c(\"Patient_ID\",\n",
    "                                                                      \"Disease\",\n",
    "                                                                      \"Time\",\n",
    "                                                                      \"Age_group\",\n",
    "                                                                      \"Sex\",\n",
    "                                                                      \"Exp\"), \n",
    "                                                             sep = \" \",\n",
    "                                                             remove = F)"
   ]
  },
  {
   "cell_type": "code",
   "execution_count": null,
   "id": "2ab073a6",
   "metadata": {
    "scrolled": true
   },
   "outputs": [],
   "source": [
    "options(repr.plot.width = 12, repr.plot.height = 7)\n",
    "(DimPlot(cd8_samples2, group.by = \"Exp\") + DimPlot(cd8_samples2, group.by = \"Disease\") + DimPlot(cd8_samples2, group.by = \"Time\")) / \n",
    "(DimPlot(cd8_samples2, group.by = \"Sex\") + DimPlot(cd8_samples2, group.by = \"Age_group\") + (DimPlot(cd8_samples2, group.by = \"Patient_ID\") + NoLegend()))"
   ]
  },
  {
   "cell_type": "code",
   "execution_count": null,
   "id": "3147d1a5",
   "metadata": {},
   "outputs": [],
   "source": [
    "p2  <- (DimPlot(cd8_samples2, group.by = \"Exp\") + DimPlot(cd8_samples2, group.by = \"Disease\") + DimPlot(cd8_samples2, group.by = \"Time\")) / \n",
    "(DimPlot(cd8_samples2, group.by = \"Sex\") + DimPlot(cd8_samples2, group.by = \"Age_group\") + (DimPlot(cd8_samples2, group.by = \"Patient_ID\") + NoLegend()))"
   ]
  },
  {
   "cell_type": "code",
   "execution_count": null,
   "id": "ac906883",
   "metadata": {},
   "outputs": [],
   "source": [
    "p3  <-  p1  + plot_annotation(title = 'CD8',\n",
    "                                           subtitle = 'PCA no integration',\n",
    "                              theme = theme(plot.title = element_text(size = 12))) & ggtheme()"
   ]
  },
  {
   "cell_type": "code",
   "execution_count": null,
   "id": "acdd853b",
   "metadata": {},
   "outputs": [],
   "source": [
    "p4  <- p2 + plot_annotation(title = \"CD8\", subtitle = 'PCA integration STACAS', \n",
    "                              theme = theme(plot.title = element_text(size = 10))) & ggtheme()"
   ]
  },
  {
   "cell_type": "code",
   "execution_count": null,
   "id": "261eb5fa",
   "metadata": {},
   "outputs": [],
   "source": [
    "plot2  <- cowplot::plot_grid(p3,p4, ncol = 1)"
   ]
  },
  {
   "cell_type": "code",
   "execution_count": null,
   "id": "6b97ef17",
   "metadata": {},
   "outputs": [],
   "source": [
    "plot2"
   ]
  },
  {
   "cell_type": "code",
   "execution_count": null,
   "id": "b37cdf11",
   "metadata": {},
   "outputs": [],
   "source": [
    "#saveRDS(cd8_l1_full_filt, \"../data/processed/L1/cd8_l1_full_filt.rds\")"
   ]
  },
  {
   "cell_type": "code",
   "execution_count": null,
   "id": "511e322e",
   "metadata": {},
   "outputs": [],
   "source": [
    "cd8_l1_full_filt$group_cpept <- ifelse(cd8_l1_full_filt$fasting_cpept_1 > 200 & cd8_l1_full_filt$Time == 'T0', \"Cpept_HI_T0\", \n",
    "                             ifelse(cd8_l1_full_filt$fasting_cpept_1 < 200 & cd8_l1_full_filt$Time == 'T0', \"Cpept_LO_T0\", \n",
    "                             ifelse(cd8_l1_full_filt$fasting_cpept_T1 < 200 & cd8_l1_full_filt$Time == 'T1', \"Cpept_LO_T1\", \n",
    "                             ifelse(cd8_l1_full_filt$fasting_cpept_T1 > 200 & cd8_l1_full_filt$Time == 'T1', \"Cpept_HI_T1\", \n",
    "                                    NA_character_))))"
   ]
  },
  {
   "cell_type": "code",
   "execution_count": null,
   "id": "91323f10",
   "metadata": {},
   "outputs": [],
   "source": [
    "cd8_l1_full_filt$Condition2 <- ifelse(is.na(cd8_l1_full_filt$part_remission_y_n), \n",
    "                                      ifelse(cd8_l1_full_filt$Condition == \"Ctrl T0\",\"Ctrl\",NA_character_),\n",
    "                                      paste0(\"Part_remission_\",cd8_l1_full_filt$part_remission_y_n))"
   ]
  },
  {
   "cell_type": "code",
   "execution_count": null,
   "id": "f180e4a5",
   "metadata": {},
   "outputs": [],
   "source": [
    "cd8_l1_full_filt$Condition2  %>% table"
   ]
  },
  {
   "cell_type": "markdown",
   "id": "622cc8cc",
   "metadata": {},
   "source": [
    "# Analysis CD8 Level 1"
   ]
  },
  {
   "cell_type": "code",
   "execution_count": null,
   "id": "8abc3c19",
   "metadata": {},
   "outputs": [],
   "source": [
    "cd8_l1_full_filt  <- readRDS(\"../data/processed/L1/cd8_l1_full_filt.rds\")"
   ]
  },
  {
   "cell_type": "code",
   "execution_count": null,
   "id": "4245fbaf",
   "metadata": {},
   "outputs": [],
   "source": [
    "cd8_l1_full_filt <- FindNeighbors(cd8_l1_full_filt, dims = 1:12)"
   ]
  },
  {
   "cell_type": "code",
   "execution_count": null,
   "id": "583039e7",
   "metadata": {},
   "outputs": [],
   "source": [
    "cd8_l1_full_filt <- FindClusters(cd8_l1_full_filt, resolution = 0.6)"
   ]
  },
  {
   "cell_type": "code",
   "execution_count": null,
   "id": "cb99afac",
   "metadata": {},
   "outputs": [],
   "source": [
    "options(repr.plot.width=6, repr.plot.height=5)\n",
    "\n",
    "DimPlot(cd8_l1_full_filt, label = T, raster = F)"
   ]
  },
  {
   "cell_type": "markdown",
   "id": "078f1649",
   "metadata": {},
   "source": [
    "### Markers"
   ]
  },
  {
   "cell_type": "code",
   "execution_count": null,
   "id": "12c5da11",
   "metadata": {},
   "outputs": [],
   "source": [
    "Idents(cd8_l1_full_filt)  <- cd8_l1_full_filt$annotations_manual"
   ]
  },
  {
   "cell_type": "code",
   "execution_count": null,
   "id": "ba3bbd80",
   "metadata": {},
   "outputs": [],
   "source": [
    "mrk  <- FindAllMarkers(cd8_l1_full_filt)"
   ]
  },
  {
   "cell_type": "code",
   "execution_count": null,
   "id": "8782f39e",
   "metadata": {},
   "outputs": [],
   "source": [
    "mrk  <- rank_score_func(mrk)"
   ]
  },
  {
   "cell_type": "code",
   "execution_count": null,
   "id": "3afad219",
   "metadata": {},
   "outputs": [],
   "source": [
    "dir.create(\"../tables/cd8/markers_annotations/\")"
   ]
  },
  {
   "cell_type": "code",
   "execution_count": null,
   "id": "7093ea4a",
   "metadata": {},
   "outputs": [],
   "source": [
    "write.csv(mrk, \"../tables/cd8/markers_annotations/mrk_cd8_l1_full_filt.csv\", row.names = FALSE)"
   ]
  },
  {
   "cell_type": "markdown",
   "id": "c9f74518",
   "metadata": {},
   "source": [
    "### Cluster annotations"
   ]
  },
  {
   "cell_type": "code",
   "execution_count": null,
   "id": "841cbdb4",
   "metadata": {},
   "outputs": [],
   "source": [
    "cd8_l1_full_filt@meta.data  <- cd8_l1_full_filt@meta.data  %>% \n",
    "mutate(annotations_manual = recode_factor(seurat_clusters, \n",
    "                                     \"0\" = \"NK cells\",\n",
    "                                     \"1\" = \"CD8 T cells\",\n",
    "                                     \"2\" = \"CD8 T cells\",\n",
    "                                     \"3\" = \"CD8 T cells\",\n",
    "                                     \"4\" = \"CD8 T cells\",\n",
    "                                     \"5\" = \"CD8 T cells\",\n",
    "                                     \"6\" = \"Unconventional T cells\",\n",
    "                                     \"7\" = \"Unconventional T cells\",\n",
    "                                     \"8\" = \"CD8 T cells\",\n",
    "                                     \"9\" = \"CD8 T cells\",\n",
    "                                     \"10\" = \"NK cells\",\n",
    "                                     \"11\" = \"NK cells\",\n",
    "                                     \"12\" = \"NK cells\",\n",
    "                                     \"13\" = \"Unconventional T cells\",\n",
    "                                     \"14\" = \"CD8 T cells\"))"
   ]
  },
  {
   "cell_type": "code",
   "execution_count": null,
   "id": "766755f3",
   "metadata": {},
   "outputs": [],
   "source": [
    "cd8_l1_full_filt@misc$cols_annotations  <- c(\"#1f77b4ff\",\"#66b559ff\", \"#9d6ba9ff\")"
   ]
  },
  {
   "cell_type": "code",
   "execution_count": null,
   "id": "65105121",
   "metadata": {},
   "outputs": [],
   "source": [
    "options(repr.plot.width = 8, repr.plot.height = 6.5)\n",
    "\n",
    "DimPlot(cd8_l1_full_filt, raster = T, group.by = \"annotations_manual\", \n",
    "        cols = cd8_l1_full_filt@misc$cols_annotations)"
   ]
  },
  {
   "cell_type": "code",
   "execution_count": null,
   "id": "7a5e34ab",
   "metadata": {},
   "outputs": [],
   "source": [
    "options(repr.plot.width = 8.2, repr.plot.height = 8)\n",
    "\n",
    "FeaturePlot(cd8_l1_full_filt, features = c(\"TRDC\"), raster = F, min.cutoff = 0)"
   ]
  },
  {
   "cell_type": "code",
   "execution_count": null,
   "id": "14708de4",
   "metadata": {},
   "outputs": [],
   "source": [
    "options(repr.plot.width = 8, repr.plot.height = 8)\n",
    "print(DimPlot(cd8_l1_full_filt, raster = F, \n",
    "              cells.highlight = colnames(cd8_l1_full_filt)[grep(cd8_l1_full_filt$cdr3_A1, \n",
    "                                                           pattern = \"CAVMDSSYKLIF\")]) + \n",
    "      NoLegend() + ggtitle(\"CAVMDSSYKLIF\"))\n"
   ]
  },
  {
   "cell_type": "code",
   "execution_count": null,
   "id": "d58dd0fa",
   "metadata": {},
   "outputs": [],
   "source": [
    "cd8_l1_full_filt@misc$dataset_name  <- \"cd8_l1_full_filt\""
   ]
  },
  {
   "cell_type": "code",
   "execution_count": null,
   "id": "e97ae947",
   "metadata": {},
   "outputs": [],
   "source": [
    "cd8_l1_full_filt@misc$all_md  <- cd8_l1_full_filt@meta.data  %>% \n",
    "                            dplyr::select(Sample_ID, Condition, Condition2, \n",
    "                                          Disease, \n",
    "                                          Sex, Age, Age_group, Patient_ID, \n",
    "                                          Time, Experiment_ID)   %>% unique"
   ]
  },
  {
   "cell_type": "code",
   "execution_count": null,
   "id": "1343c789",
   "metadata": {},
   "outputs": [],
   "source": [
    "dir.create(\"../figures/auto/svg\", recursive = T)\n",
    "dir.create(\"../figures/auto/png\")"
   ]
  },
  {
   "cell_type": "code",
   "execution_count": null,
   "id": "f873b145",
   "metadata": {
    "scrolled": true
   },
   "outputs": [],
   "source": [
    "options(repr.plot.width = 8, repr.plot.height = 6.5)\n",
    "save_dimplot_plot(seurat_dataset = cd8_l1_full_filt)"
   ]
  },
  {
   "cell_type": "code",
   "execution_count": null,
   "id": "9d94579c",
   "metadata": {},
   "outputs": [],
   "source": [
    "saveRDS(cd8_l1_full_filt, \"../data/processed/L1/cd8_l1_full_filt.rds\")"
   ]
  },
  {
   "cell_type": "markdown",
   "id": "d60cbc99",
   "metadata": {},
   "source": [
    "### Cluster composition"
   ]
  },
  {
   "cell_type": "code",
   "execution_count": null,
   "id": "16c95319",
   "metadata": {},
   "outputs": [],
   "source": [
    "process_plots_from_dataset(seurat_dataset = cd8_l1_full_filt)"
   ]
  },
  {
   "cell_type": "markdown",
   "id": "6f204371",
   "metadata": {},
   "source": [
    "### Save frequencies"
   ]
  },
  {
   "cell_type": "code",
   "execution_count": null,
   "id": "42db568b",
   "metadata": {},
   "outputs": [],
   "source": [
    "df4  <- create_df4(cd8_l1_full_filt)"
   ]
  },
  {
   "cell_type": "code",
   "execution_count": null,
   "id": "b310b6d9",
   "metadata": {
    "scrolled": true
   },
   "outputs": [],
   "source": [
    "df4"
   ]
  },
  {
   "cell_type": "code",
   "execution_count": null,
   "id": "0f1fa942",
   "metadata": {},
   "outputs": [],
   "source": [
    "dir_create(\"../tables/\")\n",
    "dir_create(\"../tables/cd8/\")\n",
    "dir.create(\"../tables/cd8/markers_annotations/\")\n",
    "dir.create(\"../tables/cd8/frequencies/\")"
   ]
  },
  {
   "cell_type": "code",
   "execution_count": null,
   "id": "076cebc1",
   "metadata": {},
   "outputs": [],
   "source": [
    "freq  <- df4  %>% dplyr::select(1:3)\n",
    "write.csv(freq, \"../tables/cd8/frequencies/freq_cd8_l1_full_filt.csv\", row.names = FALSE)"
   ]
  },
  {
   "cell_type": "markdown",
   "id": "4001385b",
   "metadata": {},
   "source": [
    "## CD8 L1 Dorothea"
   ]
  },
  {
   "cell_type": "code",
   "execution_count": null,
   "id": "890e2847",
   "metadata": {},
   "outputs": [],
   "source": [
    "DimPlot(cd8_l1_full_filt)"
   ]
  },
  {
   "cell_type": "code",
   "execution_count": null,
   "id": "514a6407",
   "metadata": {},
   "outputs": [],
   "source": [
    "net <- get_progeny(organism = 'human', top = 200)\n",
    "net2 <- decoupleR::get_collectri(organism='human', split_complexes=FALSE)"
   ]
  },
  {
   "cell_type": "code",
   "execution_count": null,
   "id": "0c7058bc",
   "metadata": {},
   "outputs": [],
   "source": [
    "options(future.globals.maxSize = 10000 * 1024^2)"
   ]
  },
  {
   "cell_type": "code",
   "execution_count": null,
   "id": "e07237ca",
   "metadata": {
    "scrolled": true
   },
   "outputs": [],
   "source": [
    " data <- cd8_l1_full_filt\n",
    "# Extract the normalized log-transformed counts\n",
    "mat <- as.matrix(data@assays$RNA@data)\n",
    "\n",
    "######## Pathways Progeny #########   \n",
    "    \n",
    "# Run wmean\n",
    "acts <- run_wmean(mat=mat, net=net, .source='source', .target='target',\n",
    "                  .mor='weight', times = 100, minsize = 5)\n",
    "  \n",
    "# Add data to Seurat object\n",
    "\n",
    "  data[['pathwayswmean']] <- acts %>%\n",
    "  filter(statistic == 'norm_wmean') %>%\n",
    "  pivot_wider(id_cols = 'source', names_from = 'condition',\n",
    "              values_from = 'score') %>%\n",
    "  column_to_rownames('source') %>%\n",
    "  Seurat::CreateAssayObject(.)\n",
    "\n",
    "  # Scale the data\n",
    "DefaultAssay(object = data) <- \"pathwayswmean\"\n",
    "\n",
    "data <- ScaleData(data)\n",
    "data@assays$pathwayswmean@data <- data@assays$pathwayswmean@scale.data\n",
    "rownames(data@assays$pathwayswmean@data)\n",
    "\n",
    "######## CollecTRI ######### \n",
    "\n",
    "# Run ULM\n",
    "acts <- run_ulm(mat=mat, net=net2, .source='source', .target='target',\n",
    "                .mor='mor', minsize = 5)\n",
    "  \n",
    "# Add data to Seurat object\n",
    "  data[['CollecTRI']] <- acts %>%\n",
    "  pivot_wider(id_cols = 'source', names_from = 'condition',\n",
    "              values_from = 'score') %>%\n",
    "  column_to_rownames('source') %>%\n",
    "  Seurat::CreateAssayObject(.)\n",
    "\n",
    "  # Scale the data\n",
    "DefaultAssay(object = data) <- \"CollecTRI\"\n",
    "\n",
    "data <- ScaleData(data)\n",
    "data@assays$CollecTRI@data <- data@assays$CollecTRI@scale.data\n",
    "rownames(data@assays$CollecTRI@data)\n",
    "\n",
    "DefaultAssay(object = data) <- \"integrated\"\n",
    "saveRDS(data, paste0(\"../data/processed/L1/cd8_l1_full_filt.rds\"))\n"
   ]
  },
  {
   "cell_type": "markdown",
   "id": "b8e0834d",
   "metadata": {},
   "source": [
    "# Analysis CD8 Level 2"
   ]
  },
  {
   "cell_type": "markdown",
   "id": "7e419f64",
   "metadata": {},
   "source": [
    "## Analysis CD8 Level 2: Conventional CD8+ T cells"
   ]
  },
  {
   "cell_type": "code",
   "execution_count": null,
   "id": "5d92bff9",
   "metadata": {},
   "outputs": [],
   "source": [
    "plan(\"sequential\")"
   ]
  },
  {
   "cell_type": "code",
   "execution_count": null,
   "id": "f6e0a011",
   "metadata": {},
   "outputs": [],
   "source": [
    "cd8_l1_full_filt  <- readRDS(\"../data/processed/L1/cd8_l1_full_filt.rds\")"
   ]
  },
  {
   "cell_type": "code",
   "execution_count": null,
   "id": "84bfba47",
   "metadata": {},
   "outputs": [],
   "source": [
    "merged.list  <- SplitObject(subset(cd8_l1_full_filt, annotations_manual == \"CD8 T cells\"), split.by = \"Experiment_ID\")"
   ]
  },
  {
   "cell_type": "code",
   "execution_count": null,
   "id": "896aee21",
   "metadata": {},
   "outputs": [],
   "source": [
    "merged.list <- lapply(X = merged.list, FUN = function(x) {\n",
    "    DefaultAssay(x)  <- \"RNA\"\n",
    "    x$barcode  <- colnames(x)\n",
    "    x <- NormalizeData(x)\n",
    "    x <- FindVariableFeatures(x, selection.method = \"vst\", nfeatures = 2000)\n",
    "})"
   ]
  },
  {
   "cell_type": "code",
   "execution_count": null,
   "id": "53d551a7",
   "metadata": {},
   "outputs": [],
   "source": [
    "new_dia_experiment2 <- Run.STACAS(merged.list, dims = 1:14)\n",
    "new_dia_experiment2 <- RunUMAP(new_dia_experiment2, dims = 1:14) "
   ]
  },
  {
   "cell_type": "code",
   "execution_count": null,
   "id": "9d4fa6a8",
   "metadata": {},
   "outputs": [],
   "source": [
    "cd8_subcluster  <- new_dia_experiment2"
   ]
  },
  {
   "cell_type": "code",
   "execution_count": null,
   "id": "55029193",
   "metadata": {},
   "outputs": [],
   "source": [
    "cd8_subcluster <- FindNeighbors(cd8_subcluster, reduction = \"pca\", dims = 1:14)"
   ]
  },
  {
   "cell_type": "code",
   "execution_count": null,
   "id": "4d75fe55",
   "metadata": {
    "scrolled": true
   },
   "outputs": [],
   "source": [
    "cd8_subcluster <- FindClusters(cd8_subcluster, resolution = 0.6)"
   ]
  },
  {
   "cell_type": "code",
   "execution_count": null,
   "id": "a3f8ec6b",
   "metadata": {},
   "outputs": [],
   "source": []
  },
  {
   "cell_type": "code",
   "execution_count": null,
   "id": "8748c7a9",
   "metadata": {
    "scrolled": true
   },
   "outputs": [],
   "source": [
    "options(repr.plot.width = 6, repr.plot.height = 5)\n",
    "DimPlot(cd8_subcluster, label = T)"
   ]
  },
  {
   "cell_type": "code",
   "execution_count": null,
   "id": "a13f142e",
   "metadata": {},
   "outputs": [],
   "source": [
    "FeaturePlot(cd8_subcluster, features = \"CXCR3\", min.cutoff = 0)"
   ]
  },
  {
   "cell_type": "code",
   "execution_count": null,
   "id": "375e8e68",
   "metadata": {},
   "outputs": [],
   "source": [
    "cd8_subcluster@meta.data  <- cd8_subcluster@meta.data  %>% \n",
    "mutate(annotations_manual = recode_factor(seurat_clusters, \n",
    "                                      \"0\" = \"Tem\",\n",
    "                                     \"1\" = \"Temra\",\n",
    "                                     \"2\" = \"Naive\",\n",
    "                                     \"3\" = \"Naive\",\n",
    "                                     \"4\" = \"Naive\",\n",
    "                                     \"5\" = \"Tcm\",\n",
    "                                     \"6\" = \"Temra\",\n",
    "                                     \"7\" = \"Proliferating\",\n",
    "                                     \"8\" = \"Tem\",\n",
    "                                     \"9\" = \"Tem\",                                    \n",
    "                                     \"10\" = \"Naive\",                                   \n",
    "                                     \"11\" = \"Temra\"                                   \n",
    "                                    ))"
   ]
  },
  {
   "cell_type": "code",
   "execution_count": null,
   "id": "4b2ca24b",
   "metadata": {},
   "outputs": [],
   "source": [
    "cd8_subcluster@misc$cols_annotations  <- c(\n",
    "     \"#4c9c9cff\", # Tem \n",
    "     \"#2e8a3fff\", # Temra\n",
    "     \"#92c0dfff\", #Naive\n",
    "     \"#74bc68ff\",  # Tcm\n",
    "     \"#88aa00ff\")"
   ]
  },
  {
   "cell_type": "code",
   "execution_count": null,
   "id": "ebb18e7f",
   "metadata": {},
   "outputs": [],
   "source": [
    "options(repr.plot.width = 8, repr.plot.height = 6.5)\n",
    "\n",
    "DimPlot(cd8_subcluster, group.by = \"annotations_manual\", cols = cd8_subcluster@misc$cols_annotations, raster = T)"
   ]
  },
  {
   "cell_type": "code",
   "execution_count": null,
   "id": "ac9cb051",
   "metadata": {},
   "outputs": [],
   "source": [
    "cd8_subcluster@misc$dataset_name  <- \"cd8_subcluster\""
   ]
  },
  {
   "cell_type": "code",
   "execution_count": null,
   "id": "0a832fb7",
   "metadata": {},
   "outputs": [],
   "source": [
    "cd8_subcluster@misc$all_md  <- cd8_l1_full_filt@meta.data  %>% \n",
    "                            dplyr::select(Sample_ID, Condition, Condition2, \n",
    "                                          Disease, \n",
    "                                          Sex, Age, Age_group, Patient_ID, \n",
    "                                          Time, Experiment_ID)   %>% unique"
   ]
  },
  {
   "cell_type": "code",
   "execution_count": null,
   "id": "10d6add9",
   "metadata": {
    "scrolled": false
   },
   "outputs": [],
   "source": [
    "options(repr.plot.width = 8, repr.plot.height = 6.5)\n",
    "save_dimplot_plot(seurat_dataset = cd8_subcluster)"
   ]
  },
  {
   "cell_type": "code",
   "execution_count": null,
   "id": "e89a13ef",
   "metadata": {
    "scrolled": true
   },
   "outputs": [],
   "source": [
    "process_plots_from_dataset(cd8_subcluster)"
   ]
  },
  {
   "cell_type": "code",
   "execution_count": null,
   "id": "ac816388",
   "metadata": {},
   "outputs": [],
   "source": [
    "save_dimplot_plot(cd8_subcluster)"
   ]
  },
  {
   "cell_type": "code",
   "execution_count": null,
   "id": "db6c80cf",
   "metadata": {},
   "outputs": [],
   "source": [
    "saveRDS(cd8_subcluster, \"../data/processed/L2/cd8_l2_subcluster.rds\")"
   ]
  },
  {
   "cell_type": "code",
   "execution_count": null,
   "id": "8227ae53",
   "metadata": {},
   "outputs": [],
   "source": [
    "#cd8_subcluster  <- readRDS(\"../data/processed/L2/cd8_subcluster.rds\")"
   ]
  },
  {
   "cell_type": "code",
   "execution_count": null,
   "id": "f47a3165",
   "metadata": {},
   "outputs": [],
   "source": [
    "cd8_subcluster"
   ]
  },
  {
   "cell_type": "markdown",
   "id": "13545bf8",
   "metadata": {},
   "source": [
    "### Cluster tree"
   ]
  },
  {
   "cell_type": "code",
   "execution_count": null,
   "id": "b6bbd942",
   "metadata": {},
   "outputs": [],
   "source": [
    "Idents(cd8_subcluster)  <- cd8_subcluster$seurat_clusters"
   ]
  },
  {
   "cell_type": "code",
   "execution_count": null,
   "id": "2b1ae29d",
   "metadata": {},
   "outputs": [],
   "source": [
    "options(repr.plot.width = 6, repr.plot.height = 5)\n",
    "DimPlot(cd8_subcluster, label = T)"
   ]
  },
  {
   "cell_type": "code",
   "execution_count": null,
   "id": "3e9ce489",
   "metadata": {},
   "outputs": [],
   "source": [
    "cd8_subcluster <- BuildClusterTree(\n",
    "  cd8_subcluster,\n",
    "  dims = 1:14,\n",
    "  reorder = FALSE,\n",
    "  reorder.numeric = FALSE\n",
    ")"
   ]
  },
  {
   "cell_type": "code",
   "execution_count": null,
   "id": "1e286227",
   "metadata": {},
   "outputs": [],
   "source": [
    "tree <- cd8_subcluster@tools$BuildClusterTree\n",
    "tree$tip.label <- paste0(\"Cluster \", tree$tip.label)"
   ]
  },
  {
   "cell_type": "code",
   "execution_count": null,
   "id": "ec894f5e",
   "metadata": {},
   "outputs": [],
   "source": [
    "colors  <- c(\n",
    "    \"#4c9c9cff\", # Tem \n",
    "     \"#92c0dfff\", #Naive\n",
    "     \"#92c0dfff\", #Naive\n",
    "     \"#2e8a3fff\", # Temra\n",
    "     \"#92c0dfff\", #Naive\n",
    "     \"#2e8a3fff\", # Temra\n",
    "    \"#74bc68ff\",  # Tcm\n",
    "    \"#74bc68ff\",  # Tcm\n",
    "    \"#88aa00ff\",\n",
    "    \"#4c9c9cff\", # Tem \n",
    "    \"#92c0dfff\", #Naive\n",
    "    \"#4c9c9cff\")"
   ]
  },
  {
   "cell_type": "code",
   "execution_count": null,
   "id": "269f840d",
   "metadata": {},
   "outputs": [],
   "source": [
    "p <- ggtree::ggtree(tree, aes(x, y)) +\n",
    "  scale_y_reverse() +\n",
    "  ggtree::geom_tree() +\n",
    "  ggtree::theme_tree() +\n",
    "  ggtree::geom_tiplab(offset = 1) +\n",
    "  ggtree::geom_tippoint(color = colors, shape = 16, size = 5) +\n",
    "  coord_cartesian(clip = 'off') +\n",
    "  theme(plot.margin = unit(c(0,2.5,0,0), 'cm'))\n",
    "\n",
    "#ggsave('plots/cluster_tree.png', p, height = 4, width = 6)"
   ]
  },
  {
   "cell_type": "code",
   "execution_count": null,
   "id": "9867d278",
   "metadata": {
    "scrolled": true
   },
   "outputs": [],
   "source": [
    "options(repr.plot.width=3.5, repr.plot.height=3)\n",
    "p"
   ]
  },
  {
   "cell_type": "markdown",
   "id": "f998031c",
   "metadata": {},
   "source": [
    "### Cluster composition"
   ]
  },
  {
   "cell_type": "code",
   "execution_count": null,
   "id": "c8b114a9",
   "metadata": {},
   "outputs": [],
   "source": [
    "options(repr.plot.width=16, repr.plot.height=5)\n",
    "process_plots_from_dataset(seurat_dataset = cd8_subcluster)"
   ]
  },
  {
   "cell_type": "markdown",
   "id": "415fe23d",
   "metadata": {},
   "source": [
    "### Save frequencies"
   ]
  },
  {
   "cell_type": "code",
   "execution_count": null,
   "id": "d78db19a",
   "metadata": {},
   "outputs": [],
   "source": [
    "df4  <- create_df4(cd8_subcluster)"
   ]
  },
  {
   "cell_type": "code",
   "execution_count": null,
   "id": "4c04c705",
   "metadata": {
    "scrolled": true
   },
   "outputs": [],
   "source": [
    "df4"
   ]
  },
  {
   "cell_type": "code",
   "execution_count": null,
   "id": "1407d6b2",
   "metadata": {},
   "outputs": [],
   "source": [
    "freq  <- df4  %>% dplyr::select(1:3)\n",
    "write.csv(freq, \"../tables/cd8/frequencies/freq_cd8_l2_cd8_subcluster.csv\", row.names = FALSE)"
   ]
  },
  {
   "cell_type": "markdown",
   "id": "5559b2bb",
   "metadata": {},
   "source": [
    "### Save markers"
   ]
  },
  {
   "cell_type": "code",
   "execution_count": null,
   "id": "4541a3cd",
   "metadata": {},
   "outputs": [],
   "source": [
    "Idents(cd8_subcluster)  <- cd8_subcluster$annotations_manual"
   ]
  },
  {
   "cell_type": "code",
   "execution_count": null,
   "id": "38516137",
   "metadata": {},
   "outputs": [],
   "source": [
    "plan(\"multisession\")"
   ]
  },
  {
   "cell_type": "code",
   "execution_count": null,
   "id": "fc16c453",
   "metadata": {},
   "outputs": [],
   "source": [
    "mrk  <- FindAllMarkers(cd8_subcluster)"
   ]
  },
  {
   "cell_type": "code",
   "execution_count": null,
   "id": "899d7db8",
   "metadata": {},
   "outputs": [],
   "source": [
    "mrk  <- rank_score_func(mrk)"
   ]
  },
  {
   "cell_type": "code",
   "execution_count": null,
   "id": "93ebec91",
   "metadata": {},
   "outputs": [],
   "source": [
    "write.csv(mrk, \"../tables/cd8/markers_annotations/mrk_cd8_l2_cd8_subcluster.csv\", row.names = FALSE)"
   ]
  },
  {
   "cell_type": "code",
   "execution_count": null,
   "id": "c493cb54",
   "metadata": {},
   "outputs": [],
   "source": [
    "plan(\"sequential\")"
   ]
  },
  {
   "cell_type": "markdown",
   "id": "bbe7e801",
   "metadata": {},
   "source": [
    "### Save markers CollecTRI"
   ]
  },
  {
   "cell_type": "code",
   "execution_count": null,
   "id": "77e0ee4b",
   "metadata": {},
   "outputs": [],
   "source": [
    "cd8_l1_full_filt"
   ]
  },
  {
   "cell_type": "code",
   "execution_count": null,
   "id": "7d6f5f7b",
   "metadata": {},
   "outputs": [],
   "source": [
    "DefaultAssay(cd8_subcluster)  <- \"CollecTRI\"\n",
    "mrk  <- FindAllMarkers(cd8_subcluster)\n",
    "\n",
    "mrk  <- rank_score_func(mrk)\n",
    "\n",
    "write.csv(mrk, \"../tables/cd8/markers_annotations/mrk_cd8_l2_cd8_subcluster_CollecTRI.csv\", row.names = FALSE)\n",
    "\n",
    "plan(\"sequential\")"
   ]
  },
  {
   "cell_type": "markdown",
   "id": "a9a6b8e8",
   "metadata": {},
   "source": [
    "## Analysis CD8 Level 2: NK cells"
   ]
  },
  {
   "cell_type": "code",
   "execution_count": null,
   "id": "21b4012b",
   "metadata": {},
   "outputs": [],
   "source": [
    "cd8_l1_full_filt  <- readRDS(\"../data/processed/L1/cd8_l1_full_filt.rds\")"
   ]
  },
  {
   "cell_type": "code",
   "execution_count": null,
   "id": "be1a7b19",
   "metadata": {},
   "outputs": [],
   "source": [
    "cd8_l2_nk  <- subset(cd8_l1_full_filt, annotations_manual == \"NK cells\")"
   ]
  },
  {
   "cell_type": "code",
   "execution_count": null,
   "id": "26db80ea",
   "metadata": {},
   "outputs": [],
   "source": [
    "cd8_l2_nk"
   ]
  },
  {
   "cell_type": "code",
   "execution_count": null,
   "id": "de83c2a2",
   "metadata": {},
   "outputs": [],
   "source": [
    "cd8_l2_nk@meta.data  <- cd8_l2_nk@meta.data  %>% mutate(Experiment_ID_2 = \n",
    "                                                               ifelse(Experiment_ID == \"Exp10\",\"Exp11\",Experiment_ID))"
   ]
  },
  {
   "cell_type": "code",
   "execution_count": null,
   "id": "23315394",
   "metadata": {},
   "outputs": [],
   "source": [
    "cd8_l2_nk$Experiment_ID_2  %>% table"
   ]
  },
  {
   "cell_type": "code",
   "execution_count": null,
   "id": "bcc235ea",
   "metadata": {
    "scrolled": true
   },
   "outputs": [],
   "source": [
    "merged.list  <- SplitObject(cd8_l2_nk, split.by = \"Experiment_ID_2\")"
   ]
  },
  {
   "cell_type": "code",
   "execution_count": null,
   "id": "fc1645ec",
   "metadata": {},
   "outputs": [],
   "source": [
    "cd8_l2_nk$Experiment_ID_2  %>% table"
   ]
  },
  {
   "cell_type": "code",
   "execution_count": null,
   "id": "ec954c04",
   "metadata": {},
   "outputs": [],
   "source": [
    "merged.list <- lapply(X = merged.list, FUN = function(x) {\n",
    "    DefaultAssay(x)  <- \"RNA\"\n",
    "    x$barcode  <- colnames(x)\n",
    "    x <- NormalizeData(x)\n",
    "    x <- FindVariableFeatures(x, selection.method = \"vst\", nfeatures = 2000)\n",
    "})\n",
    "\n",
    "\n",
    "stacas_anchors <- FindAnchors.STACAS(merged.list, \n",
    "                                     dims = 1:12, \n",
    "                                     min.sample.size = 80)\n",
    "st1 <- SampleTree.STACAS(\n",
    "  anchorset = stacas_anchors,\n",
    "  obj.names = names(merged.list)\n",
    "  )    "
   ]
  },
  {
   "cell_type": "code",
   "execution_count": null,
   "id": "58924a2b",
   "metadata": {},
   "outputs": [],
   "source": [
    "new_dia_experiment2 <- IntegrateData.STACAS(stacas_anchors,\n",
    "                                          sample.tree = st1,\n",
    "                                          dims=1:12) %>% ScaleData() %>%\n",
    "  RunPCA(npcs=12) %>% RunUMAP(dims=1:12)"
   ]
  },
  {
   "cell_type": "code",
   "execution_count": null,
   "id": "cb7244cb",
   "metadata": {},
   "outputs": [],
   "source": [
    "new_dia_experiment2 <- FindNeighbors(new_dia_experiment2, reduction = \"pca\", dims = 1:12)\n",
    "new_dia_experiment2 <- FindClusters(new_dia_experiment2, resolution = 0.3)"
   ]
  },
  {
   "cell_type": "code",
   "execution_count": null,
   "id": "9c92d7be",
   "metadata": {},
   "outputs": [],
   "source": [
    "cd8_l2_nk  <- new_dia_experiment2"
   ]
  },
  {
   "cell_type": "code",
   "execution_count": null,
   "id": "748da3ba",
   "metadata": {},
   "outputs": [],
   "source": [
    "cd8_l2_nk"
   ]
  },
  {
   "cell_type": "code",
   "execution_count": null,
   "id": "018d4667",
   "metadata": {},
   "outputs": [],
   "source": [
    "cd8_l2_nk <- FindNeighbors(cd8_l2_nk, reduction = \"pca\", dims = 1:12)"
   ]
  },
  {
   "cell_type": "code",
   "execution_count": null,
   "id": "4000f29f",
   "metadata": {},
   "outputs": [],
   "source": [
    "cd8_l2_nk <- FindClusters(cd8_l2_nk, resolution = 0.4)"
   ]
  },
  {
   "cell_type": "code",
   "execution_count": null,
   "id": "befd40ea",
   "metadata": {
    "scrolled": true
   },
   "outputs": [],
   "source": [
    "DimPlot(cd8_l2_nk, group.by = \"seurat_clusters\")"
   ]
  },
  {
   "cell_type": "code",
   "execution_count": null,
   "id": "cff71b8e",
   "metadata": {},
   "outputs": [],
   "source": [
    "cd8_l2_nk"
   ]
  },
  {
   "cell_type": "code",
   "execution_count": null,
   "id": "8ec288d8",
   "metadata": {},
   "outputs": [],
   "source": [
    "saveRDS(cd8_l2_nk, \"../data/processed/L2/cd8_l2_nk.rds\")"
   ]
  },
  {
   "cell_type": "code",
   "execution_count": null,
   "id": "3e3107bf",
   "metadata": {},
   "outputs": [],
   "source": [
    "#cd8_l2_nk  <- readRDS(\"../data/processed/L2/cd8_l2_nk.rds\")"
   ]
  },
  {
   "cell_type": "markdown",
   "id": "9ae21d07",
   "metadata": {},
   "source": [
    "### Cluster annotations"
   ]
  },
  {
   "cell_type": "code",
   "execution_count": null,
   "id": "c7848224",
   "metadata": {},
   "outputs": [],
   "source": [
    "options(repr.plot.width = 6, repr.plot.height = 5)\n",
    "\n",
    "dimplot1  <- DimPlot(cd8_l2_nk, label = T, raster = T) \n",
    "dimplot1"
   ]
  },
  {
   "cell_type": "code",
   "execution_count": null,
   "id": "841681f5",
   "metadata": {},
   "outputs": [],
   "source": [
    "mrk  <- FindAllMarkers(cd8_l2_nk, only.pos = TRUE)\n",
    "\n",
    "mrk  <- rank_score_func(mrk)\n",
    "\n",
    "markers  <- mrk  %>% arrange(desc(score))  %>% group_by(cluster)  %>% slice_head(n = 4)  %>% pull(gene)"
   ]
  },
  {
   "cell_type": "markdown",
   "id": "d2c8b6e0",
   "metadata": {},
   "source": [
    "### Cluster tree"
   ]
  },
  {
   "cell_type": "code",
   "execution_count": null,
   "id": "a13dd28a",
   "metadata": {},
   "outputs": [],
   "source": [
    "Idents(cd8_l2_nk)  <- cd8_l2_nk$seurat_clusters"
   ]
  },
  {
   "cell_type": "code",
   "execution_count": null,
   "id": "50a7a95e",
   "metadata": {},
   "outputs": [],
   "source": [
    "cd8_l2_nk <- FindClusters(cd8_l2_nk, resolution = 0.4)"
   ]
  },
  {
   "cell_type": "code",
   "execution_count": null,
   "id": "d034d74c",
   "metadata": {},
   "outputs": [],
   "source": [
    "options(repr.plot.width = 6, repr.plot.height = 5)\n",
    "DimPlot(cd8_l2_nk, label = T)"
   ]
  },
  {
   "cell_type": "code",
   "execution_count": null,
   "id": "9cf5d6dd",
   "metadata": {},
   "outputs": [],
   "source": [
    "cd8_l2_nk <- BuildClusterTree(\n",
    "  cd8_l2_nk,\n",
    "  dims = 1:12,\n",
    "  reorder = FALSE,\n",
    "  reorder.numeric = FALSE\n",
    ")"
   ]
  },
  {
   "cell_type": "code",
   "execution_count": null,
   "id": "fd2f537f",
   "metadata": {},
   "outputs": [],
   "source": [
    "tree <- cd8_l2_nk@tools$BuildClusterTree\n",
    "tree$tip.label <- paste0(\"Cluster \", tree$tip.label)"
   ]
  },
  {
   "cell_type": "code",
   "execution_count": null,
   "id": "b6b54050",
   "metadata": {},
   "outputs": [],
   "source": [
    "p <- ggtree::ggtree(tree, aes(x, y)) +\n",
    "  scale_y_reverse() +\n",
    "  ggtree::geom_tree() +\n",
    "  ggtree::theme_tree() +\n",
    "  ggtree::geom_tiplab(offset = 1) +\n",
    "  ggtree::geom_tippoint(shape = 16, size = 5) +\n",
    "  coord_cartesian(clip = 'off') +\n",
    "  theme(plot.margin = unit(c(0,2.5,0,0), 'cm'))\n",
    "\n",
    "#ggsave('plots/cluster_tree.png', p, height = 4, width = 6)"
   ]
  },
  {
   "cell_type": "code",
   "execution_count": null,
   "id": "37dc2c3f",
   "metadata": {
    "scrolled": true
   },
   "outputs": [],
   "source": [
    "options(repr.plot.width=3.5, repr.plot.height=3)\n",
    "p"
   ]
  },
  {
   "cell_type": "code",
   "execution_count": null,
   "id": "005b9f97",
   "metadata": {},
   "outputs": [],
   "source": [
    "cd8_l2_nk@meta.data  <- cd8_l2_nk@meta.data  %>% \n",
    "mutate(annotations_manual = recode_factor(seurat_clusters, \n",
    "                                     \"0\" = \"NK1\",\n",
    "                                     \"1\" = \"NK1\",\n",
    "                                     \"2\" = \"NK2\",\n",
    "                                     \"3\" = \"NK3\",\n",
    "                                     \"4\" = \"NK3\",\n",
    "                                     \"5\" = \"NK4\",\n",
    "                                     \"6\" = \"NK5\",\n",
    "                                     \"7\" = \"NK6\",\n",
    "                                     \"8\" = \"NK7\"))"
   ]
  },
  {
   "cell_type": "code",
   "execution_count": null,
   "id": "1387fca7",
   "metadata": {},
   "outputs": [],
   "source": [
    "Idents(cd8_l2_nk)  <- cd8_l2_nk$annotations_manual"
   ]
  },
  {
   "cell_type": "code",
   "execution_count": null,
   "id": "537ef028",
   "metadata": {},
   "outputs": [],
   "source": [
    "mrk  <- FindAllMarkers(cd8_l2_nk, only.pos = TRUE)\n",
    "\n",
    "mrk  <- rank_score_func(mrk)"
   ]
  },
  {
   "cell_type": "code",
   "execution_count": null,
   "id": "41ea380b",
   "metadata": {
    "scrolled": true
   },
   "outputs": [],
   "source": [
    "markers  <- mrk  %>% arrange(desc(score))  %>% group_by(cluster)  %>% slice_head(n = 8)  %>% pull(gene)"
   ]
  },
  {
   "cell_type": "code",
   "execution_count": null,
   "id": "0d6f9238",
   "metadata": {
    "scrolled": true
   },
   "outputs": [],
   "source": [
    "mrk"
   ]
  },
  {
   "cell_type": "code",
   "execution_count": null,
   "id": "7cb10681",
   "metadata": {},
   "outputs": [],
   "source": [
    "options(repr.plot.width = 16, repr.plot.height = 40)\n",
    "FeaturePlot(cd8_l2_nk, features = markers,\n",
    "           min.cutoff = 0, ncol = 4)"
   ]
  },
  {
   "cell_type": "code",
   "execution_count": null,
   "id": "f851ccdf",
   "metadata": {
    "scrolled": true
   },
   "outputs": [],
   "source": [
    "markers_cl6  <- mrk  %>% arrange(desc(score))  %>% filter(cluster == \"NK6\")  %>% slice_head(n = 40)  %>% pull(gene)"
   ]
  },
  {
   "cell_type": "code",
   "execution_count": null,
   "id": "974d4e68",
   "metadata": {},
   "outputs": [],
   "source": [
    "options(repr.plot.width = 16, repr.plot.height = 40)\n",
    "FeaturePlot(cd8_l2_nk, features = markers_cl6,\n",
    "           min.cutoff = 0, ncol = 4)"
   ]
  },
  {
   "cell_type": "code",
   "execution_count": null,
   "id": "39fad6cf",
   "metadata": {},
   "outputs": [],
   "source": [
    "options(repr.plot.width = 6, repr.plot.height = 5)\n",
    "DimPlot(cd8_l2_nk, label = T, group.by = \"annotations_manual\")"
   ]
  },
  {
   "cell_type": "code",
   "execution_count": null,
   "id": "212c26a6",
   "metadata": {},
   "outputs": [],
   "source": [
    "cd8_l2_nk@meta.data  <- cd8_l2_nk@meta.data  %>% \n",
    "mutate(annotations_manual = recode_factor(seurat_clusters, \n",
    "                                     \"0\" = \"NK1: CX3CR1 SPON2 FCGR3A\",\n",
    "                                     \"1\" = \"NK1: CX3CR1 SPON2 FCGR3A\",\n",
    "                                     \"2\" = \"NK2: CD52 SELL GZMH\",\n",
    "                                     \"3\" = \"NK3: DUSP2 CXCR4 CD69\",\n",
    "                                     \"4\" = \"NK3: DUSP2 CXCR4 CD69\",\n",
    "                                     \"5\" = \"NK4: GZMK IL7R XCL1\",\n",
    "                                     \"6\" = \"NK5: IFI6 MX1 ISG15\",\n",
    "                                     \"7\" = \"NK6: CNN2 TRAT1 CD3E\",\n",
    "                                     \"8\" = \"NK7: MCM7 STMN1 E2F2\"))"
   ]
  },
  {
   "cell_type": "code",
   "execution_count": null,
   "id": "7e759117",
   "metadata": {},
   "outputs": [],
   "source": [
    "options(repr.plot.width = 7, repr.plot.height = 4)\n",
    "DimPlot(cd8_l2_nk, group.by = \"annotations_manual\")\n",
    "\n",
    "saveRDS(cd8_l2_nk, \"../data/processed/L2/cd8_l2_nk.rds\")"
   ]
  },
  {
   "cell_type": "code",
   "execution_count": null,
   "id": "c428cdea",
   "metadata": {},
   "outputs": [],
   "source": [
    "options(repr.plot.width = 6, repr.plot.height = 5)\n",
    "dimplot1"
   ]
  },
  {
   "cell_type": "code",
   "execution_count": null,
   "id": "61a9a2f4",
   "metadata": {},
   "outputs": [],
   "source": [
    "cd8_l2_nk@misc$dataset_name  <- \"cd8_l2_nk\""
   ]
  },
  {
   "cell_type": "code",
   "execution_count": null,
   "id": "4ca27317",
   "metadata": {},
   "outputs": [],
   "source": [
    "cd8_l2_nk@misc$all_md  <- cd8_l1_full_filt@meta.data  %>% \n",
    "                            dplyr::select(Sample_ID, Condition, Condition2, \n",
    "                                          Disease, \n",
    "                                          Sex, Age, Age_group, Patient_ID, \n",
    "                                          Time, Experiment_ID)   %>% unique"
   ]
  },
  {
   "cell_type": "code",
   "execution_count": null,
   "id": "25d26bf1",
   "metadata": {},
   "outputs": [],
   "source": [
    "cd8_l2_nk@misc$cols_annotations  <- c(\n",
    "     \"#aaeeff66\",\n",
    "    \"#4adbffff\",\n",
    "    \"#87cddeff\",\n",
    "     \"#009cc3ff\", \n",
    "    \"#5599ffff\",\n",
    "    \"#216778ff\" ,\n",
    "   \n",
    "   \"#0044aaff\"\n",
    "    )"
   ]
  },
  {
   "cell_type": "code",
   "execution_count": null,
   "id": "79146d02",
   "metadata": {
    "scrolled": true
   },
   "outputs": [],
   "source": [
    "options(repr.plot.width = 10, repr.plot.height = 6.5)\n",
    "save_dimplot_plot(seurat_dataset = cd8_l2_nk)"
   ]
  },
  {
   "cell_type": "code",
   "execution_count": null,
   "id": "9828c855",
   "metadata": {},
   "outputs": [],
   "source": [
    "saveRDS(cd8_l2_nk, \"../data/processed/L2/cd8_l2_nk.rds\")"
   ]
  },
  {
   "cell_type": "code",
   "execution_count": null,
   "id": "901e16df",
   "metadata": {},
   "outputs": [],
   "source": [
    "plan(\"multisession\")"
   ]
  },
  {
   "cell_type": "markdown",
   "id": "a05a92df",
   "metadata": {},
   "source": [
    "### Cluster tree"
   ]
  },
  {
   "cell_type": "code",
   "execution_count": null,
   "id": "5955341a",
   "metadata": {},
   "outputs": [],
   "source": [
    "Idents(cd8_l2_nk)  <- cd8_l2_nk$seurat_clusters"
   ]
  },
  {
   "cell_type": "code",
   "execution_count": null,
   "id": "7a8754e7",
   "metadata": {},
   "outputs": [],
   "source": [
    "options(repr.plot.width = 6, repr.plot.height = 5)\n",
    "DimPlot(cd8_l2_nk, label = T)"
   ]
  },
  {
   "cell_type": "code",
   "execution_count": null,
   "id": "15f0fc04",
   "metadata": {},
   "outputs": [],
   "source": [
    "cd8_l2_nk <- BuildClusterTree(\n",
    "  cd8_l2_nk,\n",
    "  dims = 1:12,\n",
    "  reorder = FALSE,\n",
    "  reorder.numeric = FALSE\n",
    ")"
   ]
  },
  {
   "cell_type": "code",
   "execution_count": null,
   "id": "c8783a82",
   "metadata": {},
   "outputs": [],
   "source": [
    "tree <- cd8_l2_nk@tools$BuildClusterTree\n",
    "tree$tip.label <- paste0(\"Cluster \", tree$tip.label)"
   ]
  },
  {
   "cell_type": "code",
   "execution_count": null,
   "id": "1eeb8968",
   "metadata": {},
   "outputs": [],
   "source": [
    "colors  <- c(\n",
    "    \"#b9ddf1\",\n",
    "    \"#b9ddf1\",\n",
    "    \"#6a9bc3\",\n",
    "     \"#6a9bc3\",\n",
    "    \"#81c6eeff\",\n",
    "     \"#214478ff\" ,\n",
    "     \"#66a4e7ff\" ,\n",
    "    \"dodgerblue\",\n",
    "     \"#b3e0a6\")"
   ]
  },
  {
   "cell_type": "code",
   "execution_count": null,
   "id": "6fbdb4fa",
   "metadata": {},
   "outputs": [],
   "source": [
    "p <- ggtree::ggtree(tree, aes(x, y)) +\n",
    "  scale_y_reverse() +\n",
    "  ggtree::geom_tree() +\n",
    "  ggtree::theme_tree() +\n",
    "  ggtree::geom_tiplab(offset = 1) +\n",
    "  ggtree::geom_tippoint(color = colors, shape = 16, size = 5) +\n",
    "  coord_cartesian(clip = 'off') +\n",
    "  theme(plot.margin = unit(c(0,2.5,0,0), 'cm'))\n",
    "\n",
    "#ggsave('plots/cluster_tree.png', p, height = 4, width = 6)"
   ]
  },
  {
   "cell_type": "code",
   "execution_count": null,
   "id": "542e029a",
   "metadata": {
    "scrolled": true
   },
   "outputs": [],
   "source": [
    "options(repr.plot.width=3.5, repr.plot.height=3)\n",
    "p"
   ]
  },
  {
   "cell_type": "markdown",
   "id": "2b292751",
   "metadata": {},
   "source": [
    "### Cluster composition"
   ]
  },
  {
   "cell_type": "code",
   "execution_count": null,
   "id": "b34543d2",
   "metadata": {},
   "outputs": [],
   "source": [
    "options(repr.plot.width=16, repr.plot.height=5)\n",
    "process_plots_from_dataset(seurat_dataset = cd8_l2_nk)"
   ]
  },
  {
   "cell_type": "markdown",
   "id": "1f96e44a",
   "metadata": {},
   "source": [
    "### Save frequencies"
   ]
  },
  {
   "cell_type": "code",
   "execution_count": null,
   "id": "40d86d9a",
   "metadata": {},
   "outputs": [],
   "source": [
    "df4  <- create_df4(cd8_l2_nk)"
   ]
  },
  {
   "cell_type": "code",
   "execution_count": null,
   "id": "9cd0f531",
   "metadata": {
    "scrolled": true
   },
   "outputs": [],
   "source": [
    "df4"
   ]
  },
  {
   "cell_type": "code",
   "execution_count": null,
   "id": "a3723540",
   "metadata": {},
   "outputs": [],
   "source": [
    "freq  <- df4  %>% dplyr::select(1:3)\n",
    "write.csv(freq, \"../tables/cd8/frequencies/freq_cd8_l2_cd8_l2_nk.csv\", row.names = FALSE)"
   ]
  },
  {
   "cell_type": "markdown",
   "id": "96b99250",
   "metadata": {},
   "source": [
    "### Save markers"
   ]
  },
  {
   "cell_type": "code",
   "execution_count": null,
   "id": "6e45a157",
   "metadata": {},
   "outputs": [],
   "source": [
    "Idents(cd8_l2_nk)  <- cd8_l2_nk$annotations_manual"
   ]
  },
  {
   "cell_type": "code",
   "execution_count": null,
   "id": "84606426",
   "metadata": {},
   "outputs": [],
   "source": [
    "plan(\"multisession\")"
   ]
  },
  {
   "cell_type": "code",
   "execution_count": null,
   "id": "2aa9ffa0",
   "metadata": {},
   "outputs": [],
   "source": [
    "mrk  <- FindAllMarkers(cd8_l2_nk)"
   ]
  },
  {
   "cell_type": "code",
   "execution_count": null,
   "id": "4bf3d5d3",
   "metadata": {},
   "outputs": [],
   "source": [
    "mrk  <- rank_score_func(mrk)"
   ]
  },
  {
   "cell_type": "code",
   "execution_count": null,
   "id": "8e06825a",
   "metadata": {},
   "outputs": [],
   "source": [
    "write.csv(mrk, \"../tables/cd8/markers_annotations/mrk_cd8_l2_cd8_l2_nk.csv\", row.names = FALSE)"
   ]
  },
  {
   "cell_type": "code",
   "execution_count": null,
   "id": "de42c425",
   "metadata": {},
   "outputs": [],
   "source": [
    "plan(\"sequential\")"
   ]
  },
  {
   "cell_type": "markdown",
   "id": "4ffbcd59",
   "metadata": {},
   "source": [
    "## Analysis CD8 Level 2: Unconventional cells"
   ]
  },
  {
   "cell_type": "code",
   "execution_count": null,
   "id": "7d5bc19d",
   "metadata": {},
   "outputs": [],
   "source": [
    "cd8_l2_unc  <- subset(cd8_l1_full_filt, annotations_manual == \"Unconventional T cells\")"
   ]
  },
  {
   "cell_type": "code",
   "execution_count": null,
   "id": "b832afd1",
   "metadata": {},
   "outputs": [],
   "source": [
    "cd8_l2_unc$Experiment_ID  %>% table"
   ]
  },
  {
   "cell_type": "code",
   "execution_count": null,
   "id": "a4736a19",
   "metadata": {},
   "outputs": [],
   "source": [
    "cd8_l2_unc@meta.data  <- cd8_l2_unc@meta.data  %>% mutate(Experiment_ID_2 = \n",
    "                                                               ifelse(Experiment_ID == \"Exp10\",\"Exp11\",Experiment_ID))"
   ]
  },
  {
   "cell_type": "code",
   "execution_count": null,
   "id": "f8406786",
   "metadata": {},
   "outputs": [],
   "source": [
    "cd8_l2_unc$Experiment_ID_2  %>% table"
   ]
  },
  {
   "cell_type": "code",
   "execution_count": null,
   "id": "fc847f6f",
   "metadata": {
    "scrolled": true
   },
   "outputs": [],
   "source": [
    "merged.list  <- SplitObject(cd8_l2_unc, split.by = \"Experiment_ID_2\")"
   ]
  },
  {
   "cell_type": "code",
   "execution_count": null,
   "id": "252af5af",
   "metadata": {},
   "outputs": [],
   "source": [
    "merged.list <- lapply(X = merged.list, FUN = function(x) {\n",
    "    DefaultAssay(x)  <- \"RNA\"\n",
    "    x$barcode  <- colnames(x)\n",
    "    x <- NormalizeData(x)\n",
    "    x <- FindVariableFeatures(x, selection.method = \"vst\", nfeatures = 2000)\n",
    "})"
   ]
  },
  {
   "cell_type": "code",
   "execution_count": null,
   "id": "2c5b5074",
   "metadata": {},
   "outputs": [],
   "source": [
    "new_dia_experiment2 <- Run.STACAS(merged.list, dims = 1:12)\n",
    "new_dia_experiment2 <- RunUMAP(new_dia_experiment2, dims = 1:12)"
   ]
  },
  {
   "cell_type": "code",
   "execution_count": null,
   "id": "01e3af79",
   "metadata": {},
   "outputs": [],
   "source": [
    "cd8_l2_unc  <- new_dia_experiment2"
   ]
  },
  {
   "cell_type": "code",
   "execution_count": null,
   "id": "c63b9454",
   "metadata": {},
   "outputs": [],
   "source": [
    "cd8_l2_unc <- FindNeighbors(cd8_l2_unc, reduction = \"pca\", dims = 1:12)"
   ]
  },
  {
   "cell_type": "code",
   "execution_count": null,
   "id": "117897c4",
   "metadata": {},
   "outputs": [],
   "source": [
    "cd8_l2_unc <- FindClusters(cd8_l2_unc, resolution = 0.5)"
   ]
  },
  {
   "cell_type": "code",
   "execution_count": null,
   "id": "7278a13e",
   "metadata": {
    "scrolled": true
   },
   "outputs": [],
   "source": [
    "options(repr.plot.width=3.5, repr.plot.height=3)\n",
    "\n",
    "DimPlot(cd8_l2_unc, label = T)"
   ]
  },
  {
   "cell_type": "code",
   "execution_count": null,
   "id": "d39accd9",
   "metadata": {},
   "outputs": [],
   "source": [
    "mrk  <- FindAllMarkers(cd8_l2_unc, logfc.threshold = log(1.5))\n",
    "\n",
    "write.csv(mrk, \"markers_cd8_l2_unc.csv\")"
   ]
  },
  {
   "cell_type": "code",
   "execution_count": null,
   "id": "e087f8ba",
   "metadata": {},
   "outputs": [],
   "source": [
    "mrk  <- rank_score_func(mrk)"
   ]
  },
  {
   "cell_type": "code",
   "execution_count": null,
   "id": "0eb6e517",
   "metadata": {
    "scrolled": true
   },
   "outputs": [],
   "source": [
    "mrk"
   ]
  },
  {
   "cell_type": "code",
   "execution_count": null,
   "id": "018115e7",
   "metadata": {},
   "outputs": [],
   "source": [
    "markers  <- mrk  %>% arrange(desc(score))  %>% group_by(cluster)  %>% slice_head(n = 4)  %>% pull(gene)"
   ]
  },
  {
   "cell_type": "code",
   "execution_count": null,
   "id": "2891e90b",
   "metadata": {
    "scrolled": true
   },
   "outputs": [],
   "source": [
    "options(repr.plot.width = 16, repr.plot.height = 16)\n",
    "FeaturePlot(cd8_l2_unc, features = markers,\n",
    "           min.cutoff = 0, ncol = 4)"
   ]
  },
  {
   "cell_type": "code",
   "execution_count": null,
   "id": "2faf0c77",
   "metadata": {
    "scrolled": true
   },
   "outputs": [],
   "source": [
    " mrk  %>% arrange(desc(score))  %>% filter(cluster == \"3\") "
   ]
  },
  {
   "cell_type": "code",
   "execution_count": null,
   "id": "133a0dd2",
   "metadata": {},
   "outputs": [],
   "source": [
    "markers_cl3  <- mrk  %>% arrange(desc(score))  %>% filter(cluster == \"3\")  %>% slice_head(n = 40)  %>% pull(gene)\n",
    "\n",
    "options(repr.plot.width = 16, repr.plot.height = 40)\n",
    "FeaturePlot(cd8_l2_unc, features = markers_cl3,\n",
    "           min.cutoff = 0, ncol = 4)"
   ]
  },
  {
   "cell_type": "code",
   "execution_count": null,
   "id": "5696d2c7",
   "metadata": {},
   "outputs": [],
   "source": [
    "markers_cl4  <- mrk  %>% arrange(desc(score))  %>% filter(cluster == \"4\")  %>% slice_head(n = 40)  %>% pull(gene)\n",
    "\n",
    "options(repr.plot.width = 16, repr.plot.height = 40)\n",
    "FeaturePlot(cd8_l2_unc, features = markers_cl4,\n",
    "           min.cutoff = 0, ncol = 4)"
   ]
  },
  {
   "cell_type": "code",
   "execution_count": null,
   "id": "b9c3fe94",
   "metadata": {},
   "outputs": [],
   "source": [
    "saveRDS(cd8_l2_unc, \"../data/processed/L2/cd8_l2_unc.rds\")"
   ]
  },
  {
   "cell_type": "code",
   "execution_count": null,
   "id": "de2d5f74",
   "metadata": {},
   "outputs": [],
   "source": [
    "#cd8_l2_unc  <- readRDS(\"../data/processed/L2/cd8_l2_unc.rds\")"
   ]
  },
  {
   "cell_type": "markdown",
   "id": "fc825607",
   "metadata": {},
   "source": [
    "### Cluster annotations"
   ]
  },
  {
   "cell_type": "code",
   "execution_count": null,
   "id": "718e436b",
   "metadata": {},
   "outputs": [],
   "source": [
    "options(repr.plot.width=3.5, repr.plot.height=3)\n",
    "\n",
    "DimPlot(cd8_l2_unc, label = T)"
   ]
  },
  {
   "cell_type": "code",
   "execution_count": null,
   "id": "d7c7d945",
   "metadata": {},
   "outputs": [],
   "source": [
    "cd8_l2_unc@meta.data  <- cd8_l2_unc@meta.data  %>% \n",
    "mutate(annotations_manual = recode_factor(seurat_clusters, \n",
    "                                     \"0\" = \"MAIT1: LTB CXCR6 CEBPD\",\n",
    "                                     \"1\" = \"MAIT2: JUN NFKBIA DUSP1\",\n",
    "                                     \"2\" = \"CD8Tgd1: FGFBP2 GZMH GZMB\",\n",
    "                                     \"3\" = \"CD8Tgd2: TRDV2 SELL COTL1\",\n",
    "                                     \"4\" = \"MAIT3: TENT5C PDE4D CREM\",\n",
    "                                     \"5\" = \"MAIT4: IFI44L IFI6 MX1\"))"
   ]
  },
  {
   "cell_type": "code",
   "execution_count": null,
   "id": "39fe656d",
   "metadata": {},
   "outputs": [],
   "source": [
    "options(repr.plot.width = 10, repr.plot.height = 5)\n",
    "\n",
    "DimPlot(cd8_l2_unc, label = T, group.by = \"annotations_manual\", repel = T)"
   ]
  },
  {
   "cell_type": "code",
   "execution_count": null,
   "id": "001945b2",
   "metadata": {},
   "outputs": [],
   "source": [
    "cd8_l2_unc@misc$cols_annotations  <- c(\n",
    "     \"#D4A6C8\",\n",
    "   \"#a359b5ff\",\n",
    "     \"#4878a6\" ,\n",
    "    \"#89b8da\", \n",
    "     \"#7137c8ff\",\n",
    "\"#d400aaff\")"
   ]
  },
  {
   "cell_type": "code",
   "execution_count": null,
   "id": "2b00c90e",
   "metadata": {},
   "outputs": [],
   "source": [
    "cd8_l2_unc@misc$dataset_name  <- \"cd8_l2_unc\""
   ]
  },
  {
   "cell_type": "code",
   "execution_count": null,
   "id": "3a366448",
   "metadata": {},
   "outputs": [],
   "source": [
    "cd8_l2_unc@misc$all_md  <- cd8_l1_full_filt@meta.data  %>% \n",
    "                            dplyr::select(Sample_ID, Condition, Condition2, \n",
    "                                          Disease, \n",
    "                                          Sex, Age, Age_group, Patient_ID, \n",
    "                                          Time, Experiment_ID)   %>% unique"
   ]
  },
  {
   "cell_type": "code",
   "execution_count": null,
   "id": "18783a40",
   "metadata": {
    "scrolled": true
   },
   "outputs": [],
   "source": [
    "options(repr.plot.width = 8, repr.plot.height = 6.5)\n",
    "save_dimplot_plot(seurat_dataset = cd8_l2_unc)"
   ]
  },
  {
   "cell_type": "code",
   "execution_count": null,
   "id": "ce3e0192",
   "metadata": {},
   "outputs": [],
   "source": [
    "saveRDS(cd8_l2_unc, \"../data/processed/L2/cd8_l2_unc.rds\")"
   ]
  },
  {
   "cell_type": "markdown",
   "id": "7cbe465c",
   "metadata": {},
   "source": [
    "### Cluster tree"
   ]
  },
  {
   "cell_type": "code",
   "execution_count": null,
   "id": "8572848c",
   "metadata": {},
   "outputs": [],
   "source": [
    "Idents(cd8_l2_unc)  <- cd8_l2_unc$seurat_clusters"
   ]
  },
  {
   "cell_type": "code",
   "execution_count": null,
   "id": "b2294162",
   "metadata": {},
   "outputs": [],
   "source": [
    "options(repr.plot.width = 6, repr.plot.height = 5)\n",
    "DimPlot(cd8_l2_unc, label = T)"
   ]
  },
  {
   "cell_type": "code",
   "execution_count": null,
   "id": "724cf295",
   "metadata": {},
   "outputs": [],
   "source": [
    "cd8_l2_unc <- BuildClusterTree(\n",
    "  cd8_l2_unc,\n",
    "  dims = 1:12,\n",
    "  reorder = FALSE,\n",
    "  reorder.numeric = FALSE\n",
    ")"
   ]
  },
  {
   "cell_type": "code",
   "execution_count": null,
   "id": "f9db0883",
   "metadata": {},
   "outputs": [],
   "source": [
    "tree <- cd8_l2_unc@tools$BuildClusterTree\n",
    "tree$tip.label <- paste0(\"Cluster \", tree$tip.label)"
   ]
  },
  {
   "cell_type": "code",
   "execution_count": null,
   "id": "769a84e2",
   "metadata": {},
   "outputs": [],
   "source": [
    "colors  <- c(\n",
    "    \"#D4A6C8\",\n",
    "   \"#a359b5ff\",\n",
    "     \"#4878a6\" ,\n",
    "    \"#89b8da\", \n",
    "    \"#d400aaff\", \"#7137c8ff\")"
   ]
  },
  {
   "cell_type": "code",
   "execution_count": null,
   "id": "694a54b8",
   "metadata": {},
   "outputs": [],
   "source": [
    "p <- ggtree::ggtree(tree, aes(x, y)) +\n",
    "  scale_y_reverse() +\n",
    "  ggtree::geom_tree() +\n",
    "  ggtree::theme_tree() +\n",
    "  ggtree::geom_tiplab(offset = 1) +\n",
    "  ggtree::geom_tippoint(color = colors, shape = 16, size = 5) +\n",
    "  coord_cartesian(clip = 'off') +\n",
    "  theme(plot.margin = unit(c(0,2.5,0,0), 'cm'))\n",
    "\n",
    "#ggsave('plots/cluster_tree.png', p, height = 4, width = 6)"
   ]
  },
  {
   "cell_type": "code",
   "execution_count": null,
   "id": "34a7131a",
   "metadata": {
    "scrolled": true
   },
   "outputs": [],
   "source": [
    "options(repr.plot.width=3.5, repr.plot.height=3)\n",
    "p"
   ]
  },
  {
   "cell_type": "markdown",
   "id": "be47c23f",
   "metadata": {},
   "source": [
    "### Cluster composition"
   ]
  },
  {
   "cell_type": "code",
   "execution_count": null,
   "id": "21fac76d",
   "metadata": {},
   "outputs": [],
   "source": [
    "options(repr.plot.width=16, repr.plot.height=5)\n",
    "process_plots_from_dataset(seurat_dataset = cd8_l2_unc)"
   ]
  },
  {
   "cell_type": "markdown",
   "id": "97f2bcf7",
   "metadata": {},
   "source": [
    "### Save markers"
   ]
  },
  {
   "cell_type": "code",
   "execution_count": null,
   "id": "3a0ae4a9",
   "metadata": {},
   "outputs": [],
   "source": [
    "Idents(cd8_l2_unc)  <- cd8_l2_unc$annotations_manual"
   ]
  },
  {
   "cell_type": "code",
   "execution_count": null,
   "id": "aaa9bbe3",
   "metadata": {},
   "outputs": [],
   "source": [
    "plan(\"multisession\")"
   ]
  },
  {
   "cell_type": "code",
   "execution_count": null,
   "id": "c38b41f0",
   "metadata": {},
   "outputs": [],
   "source": [
    "mrk  <- FindAllMarkers(cd8_l2_unc)"
   ]
  },
  {
   "cell_type": "code",
   "execution_count": null,
   "id": "8a3a17cd",
   "metadata": {},
   "outputs": [],
   "source": [
    "mrk  <- rank_score_func(mrk)"
   ]
  },
  {
   "cell_type": "code",
   "execution_count": null,
   "id": "5ced4229",
   "metadata": {},
   "outputs": [],
   "source": [
    "write.csv(mrk, \"../tables/cd8/markers_annotations/mrk_cd8_l2_cd8_l2_unc.csv\", row.names = FALSE)"
   ]
  },
  {
   "cell_type": "code",
   "execution_count": null,
   "id": "100b9529",
   "metadata": {},
   "outputs": [],
   "source": [
    "plan(\"sequential\")"
   ]
  },
  {
   "cell_type": "code",
   "execution_count": null,
   "id": "eb01e28b",
   "metadata": {},
   "outputs": [],
   "source": []
  },
  {
   "cell_type": "markdown",
   "id": "e4932af3",
   "metadata": {},
   "source": [
    "### Save frequencies"
   ]
  },
  {
   "cell_type": "code",
   "execution_count": null,
   "id": "b7cd8865",
   "metadata": {},
   "outputs": [],
   "source": [
    "df4  <- create_df4(cd8_l2_unc)"
   ]
  },
  {
   "cell_type": "code",
   "execution_count": null,
   "id": "a6524ce6",
   "metadata": {
    "scrolled": true
   },
   "outputs": [],
   "source": [
    "df4"
   ]
  },
  {
   "cell_type": "code",
   "execution_count": null,
   "id": "f4f216b6",
   "metadata": {},
   "outputs": [],
   "source": [
    "freq  <- df4  %>% dplyr::select(1:3)"
   ]
  },
  {
   "cell_type": "code",
   "execution_count": null,
   "id": "d2fc9566",
   "metadata": {},
   "outputs": [],
   "source": [
    "write.csv(freq, \"../tables/cd8/frequencies/freq_cd8_l2_cd8_l2_unc.csv\", row.names = FALSE)"
   ]
  },
  {
   "cell_type": "markdown",
   "id": "8aca7529",
   "metadata": {},
   "source": [
    "## Analysis CD8 Level 3"
   ]
  },
  {
   "cell_type": "code",
   "execution_count": null,
   "id": "180ff945",
   "metadata": {},
   "outputs": [],
   "source": [
    "cd8_subcluster  <- readRDS(\"../data/processed/L2/cd8_l2_subcluster.rds\")"
   ]
  },
  {
   "cell_type": "code",
   "execution_count": null,
   "id": "344ade13",
   "metadata": {},
   "outputs": [],
   "source": [
    "DimPlot(cd8_subcluster, group.by = 'annotations_manual')"
   ]
  },
  {
   "cell_type": "code",
   "execution_count": null,
   "id": "bbd67179",
   "metadata": {},
   "outputs": [],
   "source": [
    "cd8_l3_tem  <- subset(cd8_subcluster, annotations_manual == \"Tem\")\n",
    "cd8_l3_naive  <- subset(cd8_subcluster, annotations_manual == \"Naive\")\n",
    "cd8_l3_tcm  <- subset(cd8_subcluster, annotations_manual == \"Tcm\")\n",
    "cd8_l3_temra  <- subset(cd8_subcluster, annotations_manual == \"Temra\")\n",
    "cd8_l3_prolif  <- subset(cd8_subcluster, annotations_manual == \"Proliferating\")"
   ]
  },
  {
   "cell_type": "code",
   "execution_count": null,
   "id": "a502be7a",
   "metadata": {},
   "outputs": [],
   "source": []
  },
  {
   "cell_type": "code",
   "execution_count": null,
   "id": "f9e53cf8",
   "metadata": {},
   "outputs": [],
   "source": [
    "cd8_l3_list  <- list(cd8_l3_tem, cd8_l3_naive, cd8_l3_tcm, cd8_l3_temra, cd8_l3_prolif)"
   ]
  },
  {
   "cell_type": "code",
   "execution_count": null,
   "id": "bcf298ff",
   "metadata": {},
   "outputs": [],
   "source": [
    "names_list  <- c(\"cd8_l3_tem\", \"cd8_l3_naive\", \"cd8_l3_tcm\", \"cd8_l3_temra\", \"cd8_l3_prolif\")"
   ]
  },
  {
   "cell_type": "markdown",
   "id": "6b193a99",
   "metadata": {},
   "source": [
    "Ensure that we will split into datasets of size at least 100 cells"
   ]
  },
  {
   "cell_type": "code",
   "execution_count": null,
   "id": "6e1f1822",
   "metadata": {},
   "outputs": [],
   "source": [
    "for(i in 1:5){\n",
    "    seurat  <- cd8_l3_list[[i]]\n",
    "    seurat@meta.data  <- seurat@meta.data  %>% \n",
    "    mutate(Experiment_ID_2 = \n",
    "           ifelse(Experiment_ID %in% c(\"Exp10\", \"Exp11\"), \"Exp10_11\",Experiment_ID ))\n",
    "    cd8_l3_list[[i]]  <- seurat\n",
    "}"
   ]
  },
  {
   "cell_type": "code",
   "execution_count": null,
   "id": "bdb408db",
   "metadata": {},
   "outputs": [],
   "source": [
    "for(i in 1:5){\n",
    "    seurat  <- cd8_l3_list[[i]]\n",
    "    print(cd8_l3_list[[i]]$Experiment_ID_2  %>% table)\n",
    "}"
   ]
  },
  {
   "cell_type": "markdown",
   "id": "b40e45eb",
   "metadata": {},
   "source": [
    "We will need to process proliferating cells separtely, as there are only 85 cells from experiment 10/11 and STACAS would remove these cells."
   ]
  },
  {
   "cell_type": "code",
   "execution_count": null,
   "id": "5a83856e",
   "metadata": {
    "scrolled": true
   },
   "outputs": [],
   "source": [
    "for(i in 1:4){\n",
    "    seurat  <- cd8_l3_list[[i]]\n",
    "    \n",
    "    merged.list  <- SplitObject(seurat, split.by = \"Experiment_ID_2\")\n",
    "\n",
    "merged.list <- lapply(X = merged.list, FUN = function(x) {\n",
    "    DefaultAssay(x)  <- \"RNA\"\n",
    "    x$barcode  <- colnames(x)\n",
    "    x <- NormalizeData(x)\n",
    "    x <- FindVariableFeatures(x, selection.method = \"vst\", nfeatures = 2000)\n",
    "})\n",
    "\n",
    "new_dia_experiment2 <- Run.STACAS(merged.list, dims = 1:12)\n",
    "new_dia_experiment2 <- RunUMAP(new_dia_experiment2, dims = 1:12)\n",
    "new_dia_experiment2 <- FindNeighbors(new_dia_experiment2, reduction = \"pca\", dims = 1:12)\n",
    "\n",
    "new_dia_experiment2 <- FindClusters(new_dia_experiment2, resolution = 0.3)\n",
    "\n",
    "DimPlot(new_dia_experiment2, label = T)\n",
    "\n",
    "new_dia_experiment2@misc$cols_annotations  <- scales::hue_pal(h.start = 20) (length(levels(factor(new_dia_experiment2$seurat_clusters))))\n",
    "new_dia_experiment2$annotations_manual  <- paste(\"Cluster\", new_dia_experiment2$seurat_clusters)\n",
    "new_dia_experiment2@misc$dataset_name  <- names(cd8_l3_list)[i]\n",
    "new_dia_experiment2@misc$all_md  <- cd8_l1_full_filt@meta.data  %>% \n",
    "                            dplyr::select(Sample_ID, Condition, Condition2, \n",
    "                                          Disease, \n",
    "                                          Sex, Age, Age_group, Patient_ID, \n",
    "                                          Time, Experiment_ID)   %>% unique\n",
    "\n",
    "saveRDS(new_dia_experiment2, paste0(\"../data/processed/L3/\",names_list[i],\".rds\"))\n",
    "\n",
    "}"
   ]
  },
  {
   "cell_type": "markdown",
   "id": "52a47609",
   "metadata": {},
   "source": [
    "When processing proliferating cells, we will change the min.sample.size parameter of the FindAnchors.STACAS function."
   ]
  },
  {
   "cell_type": "code",
   "execution_count": null,
   "id": "cab25c7b",
   "metadata": {
    "scrolled": true
   },
   "outputs": [],
   "source": [
    "for(i in 5){\n",
    "    seurat  <- cd8_l3_list[[i]]\n",
    "    \n",
    "    merged.list  <- SplitObject(seurat, split.by = \"Experiment_ID_2\")\n",
    "\n",
    "merged.list <- lapply(X = merged.list, FUN = function(x) {\n",
    "    DefaultAssay(x)  <- \"RNA\"\n",
    "    x$barcode  <- colnames(x)\n",
    "    x <- NormalizeData(x)\n",
    "    x <- FindVariableFeatures(x, selection.method = \"vst\", nfeatures = 2000)\n",
    "})\n",
    "\n",
    "\n",
    "stacas_anchors <- FindAnchors.STACAS(merged.list, \n",
    "                                     dims = 1:12, \n",
    "                                     min.sample.size = 80)\n",
    "st1 <- SampleTree.STACAS(\n",
    "  anchorset = stacas_anchors,\n",
    "  obj.names = names(merged.list)\n",
    "  )    \n",
    "\n",
    "new_dia_experiment2 <- IntegrateData.STACAS(stacas_anchors,\n",
    "                                          sample.tree = st1,\n",
    "                                          dims=1:12) %>% ScaleData() %>%\n",
    "  RunPCA(npcs=12) %>% RunUMAP(dims=1:12)\n",
    "\n",
    "new_dia_experiment2 <- FindNeighbors(new_dia_experiment2, reduction = \"pca\", dims = 1:12)\n",
    "new_dia_experiment2 <- FindClusters(new_dia_experiment2, resolution = 0.3)\n",
    "\n",
    "DimPlot(new_dia_experiment2, label = T)\n",
    "\n",
    "new_dia_experiment2@misc$cols_annotations  <- scales::hue_pal(h.start = 20) (length(levels(factor(new_dia_experiment2$seurat_clusters))))\n",
    "new_dia_experiment2$annotations_manual  <- paste(\"Cluster\", new_dia_experiment2$seurat_clusters)\n",
    "new_dia_experiment2@misc$dataset_name  <- names(cd8_l3_list)[i]\n",
    "new_dia_experiment2@misc$all_md  <- cd8_l1_full_filt@meta.data  %>% \n",
    "                            dplyr::select(Sample_ID, Condition, Condition2, \n",
    "                                          Disease, \n",
    "                                          Sex, Age, Age_group, Patient_ID, \n",
    "                                          Time, Experiment_ID)   %>% unique\n",
    "    \n",
    "saveRDS(new_dia_experiment2, paste0(\"../data/processed/L3/\",names_list[i],\".rds\"))\n",
    "\n",
    "}"
   ]
  },
  {
   "cell_type": "code",
   "execution_count": null,
   "id": "af3d4ce3",
   "metadata": {},
   "outputs": [],
   "source": [
    "cd8_l3_tem  <- readRDS(\"../data/processed/L3/cd8_l3_tem.rds\")\n",
    "cd8_l3_naive  <- readRDS(\"../data/processed/L3/cd8_l3_naive.rds\")\n",
    "cd8_l3_tcm  <- readRDS(\"../data/processed/L3/cd8_l3_tcm.rds\")\n",
    "cd8_l3_temra  <- readRDS(\"../data/processed/L3/cd8_l3_temra.rds\")\n",
    "cd8_l3_prolif  <- readRDS(\"../data/processed/L3/cd8_l3_prolif.rds\")"
   ]
  },
  {
   "cell_type": "code",
   "execution_count": null,
   "id": "d989b721",
   "metadata": {},
   "outputs": [],
   "source": [
    "cd8_l3_list  <- list(cd8_l3_tem, cd8_l3_naive, cd8_l3_tcm, cd8_l3_temra, cd8_l3_prolif)\n",
    "names(cd8_l3_list) <- c(\"cd8_l3_tem\", \"cd8_l3_naive\", \"cd8_l3_tcm\", \"cd8_l3_temra\", \"cd8_l3_prolif\")"
   ]
  },
  {
   "cell_type": "code",
   "execution_count": null,
   "id": "25a241d4",
   "metadata": {},
   "outputs": [],
   "source": [
    "#cd8_l1_full_filt  <- readRDS(\"../data/processed/L1/cd8_l1_full_filt.rds\")"
   ]
  },
  {
   "cell_type": "markdown",
   "id": "f311b5d3",
   "metadata": {},
   "source": [
    "### Annotations of L3 datasets"
   ]
  },
  {
   "cell_type": "markdown",
   "id": "370faa3f",
   "metadata": {},
   "source": [
    "#### Tem"
   ]
  },
  {
   "cell_type": "code",
   "execution_count": null,
   "id": "2e3c86dc",
   "metadata": {},
   "outputs": [],
   "source": [
    "options(repr.plot.width = 7, repr.plot.height = 6)\n",
    "DimPlot(cd8_l3_tem)"
   ]
  },
  {
   "cell_type": "code",
   "execution_count": null,
   "id": "92062592",
   "metadata": {},
   "outputs": [],
   "source": [
    "cd8_l3_tem <- FindNeighbors(cd8_l3_tem, reduction = \"pca\", dims = 1:12)\n",
    "cd8_l3_tem <- FindClusters(cd8_l3_tem, resolution = 0.2)\n",
    "\n",
    "DimPlot(cd8_l3_tem, label = T)"
   ]
  },
  {
   "cell_type": "code",
   "execution_count": null,
   "id": "3a250db9",
   "metadata": {},
   "outputs": [],
   "source": [
    "mrk  <- FindAllMarkers(cd8_l3_tem, only.pos = TRUE, min.diff.pct = 0.1)"
   ]
  },
  {
   "cell_type": "code",
   "execution_count": null,
   "id": "7753c2cd",
   "metadata": {},
   "outputs": [],
   "source": [
    "mrk  <- rank_score_func(mrk)"
   ]
  },
  {
   "cell_type": "code",
   "execution_count": null,
   "id": "44085f27",
   "metadata": {},
   "outputs": [],
   "source": [
    "markers  <- mrk  %>% arrange(desc(score))  %>% group_by(cluster)  %>% slice_head(n = 4)  %>% pull(gene)"
   ]
  },
  {
   "cell_type": "code",
   "execution_count": null,
   "id": "f57b6228",
   "metadata": {},
   "outputs": [],
   "source": [
    "options(repr.plot.width = 16, repr.plot.height = 16)\n",
    "FeaturePlot(cd8_l3_tem, features = markers,\n",
    "           min.cutoff = 0, ncol = 4)"
   ]
  },
  {
   "cell_type": "code",
   "execution_count": null,
   "id": "9f166d62",
   "metadata": {},
   "outputs": [],
   "source": [
    "options(repr.plot.width = 16, repr.plot.height = 8)\n",
    "FeaturePlot(cd8_l3_tem, features = c(\"ZNF683\",\"ITGAM\",\"TBX21\",\"GZMA\",\"GZMB\",\"GZMH\",\"GZMK\",\n",
    "                                    \"STAT3\",\"SOCS3\",\"IL2RA\"),\n",
    "           min.cutoff = 0, ncol = 4)"
   ]
  },
  {
   "cell_type": "code",
   "execution_count": null,
   "id": "c4a7eb3a",
   "metadata": {
    "scrolled": true
   },
   "outputs": [],
   "source": [
    "mrk  %>% arrange(desc(score))  %>% group_by(cluster)  %>% slice_head(n = 4)"
   ]
  },
  {
   "cell_type": "code",
   "execution_count": null,
   "id": "d6b3e497",
   "metadata": {
    "scrolled": true
   },
   "outputs": [],
   "source": [
    "options(repr.plot.width = 5, repr.plot.height = 4)\n",
    "DimPlot(cd8_l3_tem, label = T)"
   ]
  },
  {
   "cell_type": "code",
   "execution_count": null,
   "id": "a9691f7e",
   "metadata": {},
   "outputs": [],
   "source": [
    "cd8_l3_tem@meta.data  <- cd8_l3_tem@meta.data  %>% \n",
    "mutate(annotations_manual = recode_factor(seurat_clusters, \"0\" = \"Tem1: ZNF683 ITGAM TBX21\",\n",
    "                                     \"1\" = \"Tem2: GZMK SELL GZMM\",\n",
    "                                     \"2\" = \"Tem3: CCR7 MYC NELL2\",\n",
    "                                     \"3\" = \"Tem4: ISG15 IFI6 IFI44L\"))"
   ]
  },
  {
   "cell_type": "code",
   "execution_count": null,
   "id": "67ed9f56",
   "metadata": {},
   "outputs": [],
   "source": [
    "DimPlot(cd8_l3_tem, label = F, group.by = \"annotations_manual\")"
   ]
  },
  {
   "cell_type": "code",
   "execution_count": null,
   "id": "58e06928",
   "metadata": {},
   "outputs": [],
   "source": [
    "saveRDS(cd8_l3_tem, \"../data/processed/L3/cd8_l3_tem.rds\")"
   ]
  },
  {
   "cell_type": "markdown",
   "id": "5f897673",
   "metadata": {},
   "source": [
    "#### Naive"
   ]
  },
  {
   "cell_type": "code",
   "execution_count": null,
   "id": "318269f6",
   "metadata": {},
   "outputs": [],
   "source": [
    "options(repr.plot.width = 7, repr.plot.height = 6)\n",
    "\n",
    "cd8_l3_naive <- FindNeighbors(cd8_l3_naive, reduction = \"pca\", dims = 1:12)\n",
    "cd8_l3_naive <- FindClusters(cd8_l3_naive, resolution = 0.2)"
   ]
  },
  {
   "cell_type": "code",
   "execution_count": null,
   "id": "ccf3574f",
   "metadata": {},
   "outputs": [],
   "source": [
    "DimPlot(cd8_l3_naive, label = T)"
   ]
  },
  {
   "cell_type": "code",
   "execution_count": null,
   "id": "186dcf00",
   "metadata": {},
   "outputs": [],
   "source": [
    "mrk  <- FindAllMarkers(cd8_l3_naive, only.pos = TRUE)"
   ]
  },
  {
   "cell_type": "code",
   "execution_count": null,
   "id": "65f9628d",
   "metadata": {},
   "outputs": [],
   "source": [
    "mrk  <- rank_score_func(mrk)"
   ]
  },
  {
   "cell_type": "code",
   "execution_count": null,
   "id": "d28112fd",
   "metadata": {
    "scrolled": true
   },
   "outputs": [],
   "source": [
    "mrk"
   ]
  },
  {
   "cell_type": "code",
   "execution_count": null,
   "id": "45483b0f",
   "metadata": {},
   "outputs": [],
   "source": [
    "markers  <- mrk  %>% arrange(desc(score))  %>% group_by(cluster)  %>% slice_head(n = 4)  %>% pull(gene)"
   ]
  },
  {
   "cell_type": "code",
   "execution_count": null,
   "id": "e2a7a2e7",
   "metadata": {},
   "outputs": [],
   "source": [
    "options(repr.plot.width = 16, repr.plot.height = 16)\n",
    "FeaturePlot(cd8_l3_naive, features = markers,\n",
    "           min.cutoff = 0, ncol = 4)"
   ]
  },
  {
   "cell_type": "code",
   "execution_count": null,
   "id": "0ef01c0f",
   "metadata": {
    "scrolled": true
   },
   "outputs": [],
   "source": [
    "options(repr.plot.width = 4, repr.plot.height = 3)\n",
    "\n",
    "DimPlot(cd8_l3_naive, label = T)"
   ]
  },
  {
   "cell_type": "code",
   "execution_count": null,
   "id": "f85d78a9",
   "metadata": {},
   "outputs": [],
   "source": [
    "cd8_l3_naive@meta.data  <- cd8_l3_naive@meta.data  %>% \n",
    "mutate(annotations_manual = recode_factor(seurat_clusters, \"0\" = \"Naive1: GIMAP4 GIMAP7 DDX17\",\n",
    "                                     \"1\" = \"Naive2: DUSP1 JUN FOS\",\n",
    "                                     \"2\" = \"Naive3: SOX4 STMN1 CHI3L2\",\n",
    "                                     \"3\" = \"Naive4: IFI44L ISG15 MX1\"))"
   ]
  },
  {
   "cell_type": "code",
   "execution_count": null,
   "id": "e31f5949",
   "metadata": {},
   "outputs": [],
   "source": [
    "options(repr.plot.width = 10, repr.plot.height = 3)\n",
    "\n",
    "DimPlot(cd8_l3_naive, label = F, group.by = \"annotations_manual\")"
   ]
  },
  {
   "cell_type": "code",
   "execution_count": null,
   "id": "32082507",
   "metadata": {},
   "outputs": [],
   "source": [
    "saveRDS(cd8_l3_naive, \"../data/processed/L3/cd8_l3_naive.rds\")"
   ]
  },
  {
   "cell_type": "code",
   "execution_count": null,
   "id": "17eff9ab",
   "metadata": {},
   "outputs": [],
   "source": []
  },
  {
   "cell_type": "markdown",
   "id": "131b5a95",
   "metadata": {},
   "source": [
    "#### Tcm"
   ]
  },
  {
   "cell_type": "code",
   "execution_count": null,
   "id": "107a4b20",
   "metadata": {},
   "outputs": [],
   "source": [
    "options(repr.plot.width = 7, repr.plot.height = 6)\n",
    "DimPlot(cd8_l3_tcm)\n",
    "\n",
    "cd8_l3_tcm <- FindNeighbors(cd8_l3_tcm, reduction = \"pca\", dims = 1:12)"
   ]
  },
  {
   "cell_type": "code",
   "execution_count": null,
   "id": "68b3f999",
   "metadata": {},
   "outputs": [],
   "source": [
    "cd8_l3_tcm <- FindClusters(cd8_l3_tcm, resolution = 0.4)\n",
    "\n",
    "DimPlot(cd8_l3_tcm, label = T)"
   ]
  },
  {
   "cell_type": "code",
   "execution_count": null,
   "id": "2ad91902",
   "metadata": {},
   "outputs": [],
   "source": [
    "mrk  <- FindAllMarkers(cd8_l3_tcm, only.pos = TRUE)"
   ]
  },
  {
   "cell_type": "code",
   "execution_count": null,
   "id": "e4d95ae5",
   "metadata": {},
   "outputs": [],
   "source": [
    "mrk  <- rank_score_func(mrk)"
   ]
  },
  {
   "cell_type": "code",
   "execution_count": null,
   "id": "89f3cd7b",
   "metadata": {},
   "outputs": [],
   "source": [
    "markers  <- mrk  %>% arrange(desc(score))  %>% group_by(cluster)  %>% slice_head(n = 4)  %>% pull(gene)"
   ]
  },
  {
   "cell_type": "code",
   "execution_count": null,
   "id": "264ee58c",
   "metadata": {
    "scrolled": true
   },
   "outputs": [],
   "source": [
    "mrk %>% arrange(desc(score))  %>% group_by(cluster)  %>% slice_head(n = 4) "
   ]
  },
  {
   "cell_type": "code",
   "execution_count": null,
   "id": "220d0d5b",
   "metadata": {
    "scrolled": true
   },
   "outputs": [],
   "source": [
    "options(repr.plot.width = 16, repr.plot.height = 16)\n",
    "FeaturePlot(cd8_l3_tcm, features = markers,\n",
    "           min.cutoff = 0, ncol = 4)"
   ]
  },
  {
   "cell_type": "code",
   "execution_count": null,
   "id": "a31aa627",
   "metadata": {
    "scrolled": true
   },
   "outputs": [],
   "source": [
    "options(repr.plot.width = 4, repr.plot.height = 3)\n",
    "\n",
    "DimPlot(cd8_l3_tcm, label = T)"
   ]
  },
  {
   "cell_type": "code",
   "execution_count": null,
   "id": "da28cdcc",
   "metadata": {},
   "outputs": [],
   "source": [
    "cd8_l3_tcm@meta.data  <- cd8_l3_tcm@meta.data  %>% \n",
    "mutate(annotations_manual = recode_factor(seurat_clusters, \"0\" = \"Tcm1: CCR7 LEF1 NELL2\",\n",
    "                                     \"1\" = \"Tcm2: CST7 GZMA GZMK\",\n",
    "                                     \"2\" = \"Tcm3: GNLY PRF1 GZMB\",\n",
    "                                     \"3\" = \"Tcm4: CCR9 KLRC1 NT5E\",\n",
    "                                     \"4\" = \"Tcm5: CD160 DUSP2 NKG7\",\n",
    "                                     \"5\" = \"Tcm6: CCR4 ITGB1 GATA3\",\n",
    "                                     \"6\" = \"Tcm7: KLRB1 LST1 NCR3\"))\n"
   ]
  },
  {
   "cell_type": "code",
   "execution_count": null,
   "id": "6a64d8cb",
   "metadata": {},
   "outputs": [],
   "source": [
    "options(repr.plot.width = 7, repr.plot.height = 5)\n",
    "\n",
    "DimPlot(cd8_l3_tcm, label = T, group.by = \"annotations_manual\", repel = T)"
   ]
  },
  {
   "cell_type": "code",
   "execution_count": null,
   "id": "bad97890",
   "metadata": {},
   "outputs": [],
   "source": [
    "saveRDS(cd8_l3_tcm, \"../data/processed/L3/cd8_l3_tcm.rds\")"
   ]
  },
  {
   "cell_type": "markdown",
   "id": "43a4b7b9",
   "metadata": {},
   "source": [
    "#### Temra"
   ]
  },
  {
   "cell_type": "code",
   "execution_count": null,
   "id": "f463dce5",
   "metadata": {},
   "outputs": [],
   "source": [
    "options(repr.plot.width = 7, repr.plot.height = 6)\n",
    "DimPlot(cd8_l3_temra)\n",
    "\n",
    "cd8_l3_temra <- FindNeighbors(cd8_l3_temra, reduction = \"pca\", dims = 1:12)"
   ]
  },
  {
   "cell_type": "code",
   "execution_count": null,
   "id": "bf32e93c",
   "metadata": {},
   "outputs": [],
   "source": [
    "cd8_l3_temra <- FindClusters(cd8_l3_temra, resolution = 0.3)\n",
    "\n",
    "DimPlot(cd8_l3_temra, label = T)"
   ]
  },
  {
   "cell_type": "code",
   "execution_count": null,
   "id": "c601b986",
   "metadata": {},
   "outputs": [],
   "source": [
    "mrk  <- FindAllMarkers(cd8_l3_temra, only.pos = TRUE)"
   ]
  },
  {
   "cell_type": "code",
   "execution_count": null,
   "id": "79f1e4fd",
   "metadata": {},
   "outputs": [],
   "source": [
    "mrk  <- rank_score_func(mrk)"
   ]
  },
  {
   "cell_type": "code",
   "execution_count": null,
   "id": "854dc568",
   "metadata": {
    "scrolled": true
   },
   "outputs": [],
   "source": [
    "mrk  %>% filter(cluster == 5)"
   ]
  },
  {
   "cell_type": "code",
   "execution_count": null,
   "id": "e41128c5",
   "metadata": {},
   "outputs": [],
   "source": [
    "markers  <- mrk  %>% arrange(desc(score))  %>% group_by(cluster)  %>% slice_head(n = 4)  %>% pull(gene)"
   ]
  },
  {
   "cell_type": "code",
   "execution_count": null,
   "id": "9dba2454",
   "metadata": {
    "scrolled": true
   },
   "outputs": [],
   "source": [
    "options(repr.plot.width = 16, repr.plot.height = 16)\n",
    "FeaturePlot(cd8_l3_temra, features = markers,\n",
    "           min.cutoff = 0, ncol = 4)"
   ]
  },
  {
   "cell_type": "code",
   "execution_count": null,
   "id": "2f5b3c18",
   "metadata": {
    "scrolled": true
   },
   "outputs": [],
   "source": [
    "options(repr.plot.width = 4, repr.plot.height = 3)\n",
    "\n",
    "DimPlot(cd8_l3_temra, label = T)"
   ]
  },
  {
   "cell_type": "code",
   "execution_count": null,
   "id": "616f26c7",
   "metadata": {},
   "outputs": [],
   "source": [
    "cd8_l3_temra@meta.data  <- cd8_l3_temra@meta.data  %>% \n",
    "mutate(annotations_manual = recode_factor(seurat_clusters, \"0\" = \"Temra1: KLRB1 FGFBP2 THEMIS\",\n",
    "                                     \"1\" = \"Temra2: DUSP2 CD160 CMC1\",\n",
    "                                     \"2\" = \"Temra3: TYROBP GNLY ZNF683\",\n",
    "                                     \"3\" = \"Temra4: IL7R GZMK CD27\",\n",
    "                                     \"4\" = \"Temra5: FOS JUN DUSP1\",\n",
    "                                     \"5\" = \"Temra6: IFI6 ISG15 MX1\"))"
   ]
  },
  {
   "cell_type": "code",
   "execution_count": null,
   "id": "f1dbf09f",
   "metadata": {},
   "outputs": [],
   "source": [
    "options(repr.plot.width = 7, repr.plot.height = 5)\n",
    "\n",
    "DimPlot(cd8_l3_temra, label = T, group.by = \"annotations_manual\", repel = T)"
   ]
  },
  {
   "cell_type": "code",
   "execution_count": null,
   "id": "f8d9c0c6",
   "metadata": {},
   "outputs": [],
   "source": [
    "options(repr.plot.width = 7, repr.plot.height = 5)\n",
    "\n",
    "DimPlot(cd8_l3_temra, label = T, group.by = \"annotations_manual\", repel = T)"
   ]
  },
  {
   "cell_type": "code",
   "execution_count": null,
   "id": "516f2b84",
   "metadata": {},
   "outputs": [],
   "source": [
    "saveRDS(cd8_l3_temra, \"../data/processed/L3/cd8_l3_temra.rds\")"
   ]
  },
  {
   "cell_type": "markdown",
   "id": "f1b35bf7",
   "metadata": {},
   "source": [
    "#### Prolif"
   ]
  },
  {
   "cell_type": "code",
   "execution_count": null,
   "id": "5a36669b",
   "metadata": {},
   "outputs": [],
   "source": [
    "options(repr.plot.width = 7, repr.plot.height = 6)\n",
    "DimPlot(cd8_l3_prolif)\n",
    "\n",
    "cd8_l3_prolif <- FindNeighbors(cd8_l3_prolif, reduction = \"pca\", dims = 1:12)"
   ]
  },
  {
   "cell_type": "code",
   "execution_count": null,
   "id": "625b8d10",
   "metadata": {},
   "outputs": [],
   "source": [
    "cd8_l3_prolif <- FindClusters(cd8_l3_prolif, resolution = 0.4)\n",
    "\n",
    "DimPlot(cd8_l3_prolif, label = T)"
   ]
  },
  {
   "cell_type": "code",
   "execution_count": null,
   "id": "9b1da94f",
   "metadata": {},
   "outputs": [],
   "source": [
    "mrk  <- FindAllMarkers(cd8_l3_prolif, only.pos = TRUE)"
   ]
  },
  {
   "cell_type": "code",
   "execution_count": null,
   "id": "d49abb3b",
   "metadata": {},
   "outputs": [],
   "source": [
    "mrk  <- rank_score_func(mrk)"
   ]
  },
  {
   "cell_type": "code",
   "execution_count": null,
   "id": "07d61019",
   "metadata": {
    "scrolled": true
   },
   "outputs": [],
   "source": [
    "mrk  %>% filter(cluster == 3)  %>% arrange(desc(score))"
   ]
  },
  {
   "cell_type": "code",
   "execution_count": null,
   "id": "6c29ee54",
   "metadata": {},
   "outputs": [],
   "source": [
    "markers  <- mrk  %>% arrange(desc(score))  %>% group_by(cluster)  %>% slice_head(n = 4)  %>% pull(gene)"
   ]
  },
  {
   "cell_type": "code",
   "execution_count": null,
   "id": "213c90b3",
   "metadata": {
    "scrolled": true
   },
   "outputs": [],
   "source": [
    "options(repr.plot.width = 16, repr.plot.height = 24)\n",
    "FeaturePlot(cd8_l3_prolif, features = markers,\n",
    "           min.cutoff = 0, ncol = 4)"
   ]
  },
  {
   "cell_type": "code",
   "execution_count": null,
   "id": "e91587dc",
   "metadata": {},
   "outputs": [],
   "source": [
    "options(repr.plot.width = 16, repr.plot.height = 8)\n",
    "DefaultAssay(cd8_l3_prolif)  <- \"RNA\"\n",
    "FeaturePlot(cd8_l3_prolif, features = c(\"CCR9\",\"TCF7\",\"KLRG1\",\"CX3CR1\", \"EOMES\", \"TOX\", \"MKI67\"),\n",
    "           min.cutoff = 0, ncol = 4)"
   ]
  },
  {
   "cell_type": "code",
   "execution_count": null,
   "id": "6fa276a0",
   "metadata": {
    "scrolled": true
   },
   "outputs": [],
   "source": [
    "options(repr.plot.width = 4, repr.plot.height = 3)\n",
    "\n",
    "DimPlot(cd8_l3_prolif, label = T)"
   ]
  },
  {
   "cell_type": "code",
   "execution_count": null,
   "id": "de79d2ce",
   "metadata": {},
   "outputs": [],
   "source": [
    "cd8_l3_prolif@meta.data  <- cd8_l3_prolif@meta.data  %>% \n",
    "mutate(annotations_manual = recode_factor(seurat_clusters, \"0\" = \"Prolif1: GZMA GZMH PRF1\",\n",
    "                                     \"1\" = \"Prolif2: CD160 HLA-DRA XCL2\",\n",
    "                                     \"2\" = \"Prolif3: CCR7 LEF1 GPR183\",\n",
    "                                     \"3\" = \"Prolif4: MKI67 MCM7 CCR9\",\n",
    "                                     \"4\" = \"Prolif5: MKI67 CCNB1 TROAP\",\n",
    "                                     \"5\" = \"Prolif6: KLRG1 MCM7 CX3CR1\",\n",
    "                                     \"6\" = \"Prolif7: MKI67 H3C2 H2AC13\"))"
   ]
  },
  {
   "cell_type": "code",
   "execution_count": null,
   "id": "f0877edf",
   "metadata": {},
   "outputs": [],
   "source": [
    "options(repr.plot.width = 7, repr.plot.height = 5)\n",
    "\n",
    "DimPlot(cd8_l3_prolif, label = T, group.by = \"annotations_manual\", repel = T)"
   ]
  },
  {
   "cell_type": "code",
   "execution_count": null,
   "id": "5c127f61",
   "metadata": {},
   "outputs": [],
   "source": [
    "saveRDS(cd8_l3_prolif, \"../data/processed/L3/cd8_l3_prolif.rds\")"
   ]
  },
  {
   "cell_type": "markdown",
   "id": "e10de4a2",
   "metadata": {},
   "source": [
    "### Plotting all datasets"
   ]
  },
  {
   "cell_type": "code",
   "execution_count": null,
   "id": "5cca4435",
   "metadata": {},
   "outputs": [],
   "source": [
    "cd8_l3_list  <- list(cd8_l3_tem, cd8_l3_naive, cd8_l3_tcm, cd8_l3_temra, cd8_l3_prolif)\n",
    "names(cd8_l3_list)  <- c(\"cd8_l3_tem\", \"cd8_l3_naive\", \"cd8_l3_tcm\", \"cd8_l3_temra\", \"cd8_l3_prolif\")"
   ]
  },
  {
   "cell_type": "code",
   "execution_count": null,
   "id": "2342b578",
   "metadata": {},
   "outputs": [],
   "source": [
    "for(i in 1:5){\n",
    "    \n",
    "seurat_dataset  <- cd8_l3_list[[i]]\n",
    "seurat_dataset@misc$cols_annotations  <- scales::hue_pal(h.start = 20) (length(levels(factor(seurat_dataset$annotations_manual))))\n",
    "seurat_dataset@misc$dataset_name  <- names(cd8_l3_list)[i]\n",
    "options(repr.plot.width = 8, repr.plot.height = 6.5)\n",
    "save_dimplot_plot(seurat_dataset = seurat_dataset)\n",
    "    \n",
    "options(repr.plot.width=16, repr.plot.height=5)\n",
    "process_plots_from_dataset(seurat_dataset = seurat_dataset)\n",
    "    \n",
    "df4  <- create_df4(seurat_dataset)\n",
    "freq  <- df4  %>% dplyr::select(1:3)\n",
    "write.csv(freq, paste0(\"../tables/cd4/freq_\", names(cd8_l3_list)[i],\".csv\"), row.names = FALSE)\n",
    "saveRDS(seurat_dataset, paste0(\"../data/processed/L3/\",names(cd8_l3_list)[i],\".rds\"))\n",
    "\n",
    "}"
   ]
  },
  {
   "cell_type": "markdown",
   "id": "ff2faca4",
   "metadata": {},
   "source": [
    "# Population tree"
   ]
  },
  {
   "cell_type": "code",
   "execution_count": null,
   "id": "9f6afb91",
   "metadata": {},
   "outputs": [],
   "source": [
    "cd8_l3_tem  <- readRDS(\"../data/processed/L3/cd8_l3_tem.rds\")\n",
    "cd8_l3_naive  <- readRDS(\"../data/processed/L3/cd8_l3_naive.rds\")\n",
    "cd8_l3_tcm  <- readRDS(\"../data/processed/L3/cd8_l3_tcm.rds\")\n",
    "cd8_l3_temra  <- readRDS(\"../data/processed/L3/cd8_l3_temra.rds\")\n",
    "cd8_l3_prolif  <- readRDS(\"../data/processed/L3/cd8_l3_prolif.rds\")"
   ]
  },
  {
   "cell_type": "code",
   "execution_count": null,
   "id": "6ecac545",
   "metadata": {},
   "outputs": [],
   "source": [
    "cd8_l2_subcluster  <- readRDS(\"../data/processed/L2/cd8_l2_subcluster.rds\")\n",
    "cd8_l2_nk  <- readRDS(\"../data/processed/L2/cd8_l2_nk.rds\")\n",
    "cd8_l2_unc  <- readRDS(\"../data/processed/L2/cd8_l2_unc.rds\")\n",
    "cd8_l1_full_filt  <- readRDS(\"../data/processed/L1/cd8_l1_full_filt.rds\")"
   ]
  },
  {
   "cell_type": "markdown",
   "id": "5de66c1a",
   "metadata": {},
   "source": [
    "## Sankey plot populations"
   ]
  },
  {
   "cell_type": "code",
   "execution_count": null,
   "id": "f06250c2",
   "metadata": {},
   "outputs": [],
   "source": [
    "cd8_md  <- cd8_l1_full_filt@meta.data  %>% dplyr::select(barcode, annotations_l1 = annotations_manual)"
   ]
  },
  {
   "cell_type": "code",
   "execution_count": null,
   "id": "5ea3d45c",
   "metadata": {},
   "outputs": [],
   "source": [
    "md_l2  <- rbind(cd8_l2_subcluster@meta.data %>% dplyr::select(barcode, annotations_manual), \n",
    "                data.frame(barcode = cd8_l2_nk@meta.data$barcode, annotations_manual = \"NK cells\"), \n",
    "                data.frame(barcode = cd8_l2_unc@meta.data$barcode, annotations_manual = \"Unconventional\"))"
   ]
  },
  {
   "cell_type": "code",
   "execution_count": null,
   "id": "468a8812",
   "metadata": {},
   "outputs": [],
   "source": [
    "cd8_md  <- left_join(cd8_md, (md_l2  %>% dplyr::select(barcode, annotations_l2 = annotations_manual)))"
   ]
  },
  {
   "cell_type": "code",
   "execution_count": null,
   "id": "935a04e0",
   "metadata": {},
   "outputs": [],
   "source": [
    "cd8_md  %>% group_by(annotations_l1, annotations_l2)  %>% tally"
   ]
  },
  {
   "cell_type": "code",
   "execution_count": null,
   "id": "6f298b22",
   "metadata": {},
   "outputs": [],
   "source": [
    "md_l3  <- rbind(cd8_l3_naive@meta.data %>% dplyr::select(barcode, annotations_manual), \n",
    "                cd8_l3_prolif@meta.data %>% dplyr::select(barcode, annotations_manual), \n",
    "                cd8_l3_tcm@meta.data %>% dplyr::select(barcode, annotations_manual),\n",
    "                cd8_l3_tem@meta.data %>% dplyr::select(barcode, annotations_manual),\n",
    "                cd8_l3_temra@meta.data %>% dplyr::select(barcode, annotations_manual),\n",
    "                cd8_l2_nk@meta.data %>% dplyr::select(barcode, annotations_manual),\n",
    "                cd8_l2_unc@meta.data %>% dplyr::select(barcode, annotations_manual)            \n",
    "                 )"
   ]
  },
  {
   "cell_type": "code",
   "execution_count": null,
   "id": "4a84d715",
   "metadata": {
    "scrolled": true
   },
   "outputs": [],
   "source": [
    "md_l3"
   ]
  },
  {
   "cell_type": "code",
   "execution_count": null,
   "id": "cbe172df",
   "metadata": {},
   "outputs": [],
   "source": [
    "cd8_md  <- left_join(cd8_md, (md_l3  %>% dplyr::select(barcode, annotations_l3 = annotations_manual)))"
   ]
  },
  {
   "cell_type": "code",
   "execution_count": null,
   "id": "c9b503fa",
   "metadata": {
    "scrolled": true
   },
   "outputs": [],
   "source": [
    "cd8_md$annotations  <- \"CD8\""
   ]
  },
  {
   "cell_type": "code",
   "execution_count": null,
   "id": "d918276a",
   "metadata": {
    "scrolled": true
   },
   "outputs": [],
   "source": [
    "data  <- cd8_md  %>% dplyr::select(-barcode)  %>% \n",
    "    group_by(annotations, annotations_l1, annotations_l2, annotations_l3)  %>% \n",
    "tally()"
   ]
  },
  {
   "cell_type": "code",
   "execution_count": null,
   "id": "ae1ded41",
   "metadata": {
    "scrolled": true
   },
   "outputs": [],
   "source": [
    "data  "
   ]
  },
  {
   "cell_type": "markdown",
   "id": "9f012415",
   "metadata": {},
   "source": [
    "Separate gd T cells and MAIT cells in L2"
   ]
  },
  {
   "cell_type": "code",
   "execution_count": null,
   "id": "9068490d",
   "metadata": {},
   "outputs": [],
   "source": [
    "data  <- data  %>% mutate(annotations_l2 = case_when(\n",
    "    annotations_l1 == \"Unconventional T cells\" & grepl(annotations_l3, pattern = \"MAIT\") ~ \"MAIT cells\",\n",
    "    annotations_l1 == \"Unconventional T cells\" & grepl(annotations_l3, pattern = \"CD8Tgd\") ~ \"gd T cells\",\n",
    "    TRUE ~ annotations_l2))"
   ]
  },
  {
   "cell_type": "code",
   "execution_count": null,
   "id": "3f760a61",
   "metadata": {
    "scrolled": true
   },
   "outputs": [],
   "source": [
    "data"
   ]
  },
  {
   "cell_type": "code",
   "execution_count": null,
   "id": "925e0fa2",
   "metadata": {},
   "outputs": [],
   "source": [
    "dir.create(\"../tables/sankey/\")"
   ]
  },
  {
   "cell_type": "code",
   "execution_count": null,
   "id": "edc4f93f",
   "metadata": {},
   "outputs": [],
   "source": [
    "write.csv(data, \"../tables/sankey/cd8_sankey.csv\")"
   ]
  },
  {
   "cell_type": "markdown",
   "id": "0d98b4e7",
   "metadata": {},
   "source": [
    "Sankey plot using https://app.rawgraphs.io/"
   ]
  },
  {
   "cell_type": "markdown",
   "id": "3f06b3a9",
   "metadata": {},
   "source": [
    "## Adding Level3 annotation metadata"
   ]
  },
  {
   "cell_type": "code",
   "execution_count": null,
   "id": "e4ebf576",
   "metadata": {},
   "outputs": [],
   "source": [
    "md_new  <- cd8_md  %>% mutate(annotations_l2 = case_when(\n",
    "    annotations_l1 == \"Unconventional T cells\" & grepl(annotations_l3, pattern = \"MAIT\") ~ \"MAIT cells\",\n",
    "    annotations_l1 == \"Unconventional T cells\" & grepl(annotations_l3, pattern = \"CD8Tgd\") ~ \"gd T cells\",\n",
    "    TRUE ~ annotations_l2))  %>% \n",
    "mutate(barcode = barcode, \n",
    "          annotations_l1 = ifelse(grepl(annotations_l1, pattern = \"CD8\"), \"CD8 T cells\",\n",
    "          paste(\"CD8\", annotations_l1)))  %>% \n",
    "       mutate(annotations_l2 = paste(annotations_l1, annotations_l2, sep = \"---\"),\n",
    "              annotations_l3 = paste(annotations_l2, annotations_l3, sep = \"---\"))  %>% \n",
    "mutate(annotations_l3 = sub(annotations_l3, pattern = \"_NA\", replacement = \"\"))"
   ]
  },
  {
   "cell_type": "code",
   "execution_count": null,
   "id": "9d997d84",
   "metadata": {
    "scrolled": true
   },
   "outputs": [],
   "source": [
    "md_new"
   ]
  },
  {
   "cell_type": "code",
   "execution_count": null,
   "id": "392c0027",
   "metadata": {},
   "outputs": [],
   "source": [
    "cd8_l1_full_filt$annotations  <- NULL"
   ]
  },
  {
   "cell_type": "code",
   "execution_count": null,
   "id": "dcc75b01",
   "metadata": {},
   "outputs": [],
   "source": [
    "cd8_l1_full_filt@meta.data  <- left_join(cd8_l1_full_filt@meta.data, md_new)"
   ]
  },
  {
   "cell_type": "code",
   "execution_count": null,
   "id": "d29af365",
   "metadata": {},
   "outputs": [],
   "source": [
    "rownames(cd8_l1_full_filt@meta.data)  <- colnames(cd8_l1_full_filt)"
   ]
  },
  {
   "cell_type": "code",
   "execution_count": null,
   "id": "16a8ce0d",
   "metadata": {},
   "outputs": [],
   "source": [
    "options(repr.plot.width = 25, repr.plot.height = 15)\n",
    "\n",
    "DimPlot(cd8_l1_full_filt, group.by = \"annotations_l3\", label = T, raster = T)"
   ]
  },
  {
   "cell_type": "code",
   "execution_count": null,
   "id": "3be0aee7",
   "metadata": {},
   "outputs": [],
   "source": [
    "options(repr.plot.width = 4, repr.plot.height = 4)\n",
    "DimPlot(cd8_l1_full_filt, group.by = \"annotations_l3\", label = F, raster = T) + NoLegend()"
   ]
  },
  {
   "cell_type": "code",
   "execution_count": null,
   "id": "4a1411cc",
   "metadata": {},
   "outputs": [],
   "source": [
    "options(repr.plot.width = 4, repr.plot.height = 4)\n",
    "DimPlot(cd8_l1_full_filt, group.by = \"annotations_l2\", label = F, raster = T) + NoLegend()"
   ]
  },
  {
   "cell_type": "code",
   "execution_count": null,
   "id": "6abb9773",
   "metadata": {},
   "outputs": [],
   "source": [
    "DimPlot(cd8_l1_full_filt, group.by = \"annotations_l1\", label = F, raster = T) + NoLegend()"
   ]
  },
  {
   "cell_type": "code",
   "execution_count": null,
   "id": "3a57ba95",
   "metadata": {},
   "outputs": [],
   "source": []
  },
  {
   "cell_type": "code",
   "execution_count": null,
   "id": "0f1f3f26",
   "metadata": {},
   "outputs": [],
   "source": [
    "options(repr.plot.width = 7.5, repr.plot.height = 4)\n",
    "DimPlot(cd8_l1_full_filt, group.by = \"annotations_l2\", label = F, \n",
    "        raster = T, cols = c(\"peru\",cd8_l2_subcluster@misc$cols[c(3,5,4,1,2)],\n",
    "                              \"#be87e7ff\",\"#fe60cbff\"))"
   ]
  },
  {
   "cell_type": "code",
   "execution_count": null,
   "id": "59533cdf",
   "metadata": {},
   "outputs": [],
   "source": [
    "DimPlot(cd8_l1_full_filt, group.by = \"annotations_l1\", label = T, raster = T)"
   ]
  },
  {
   "cell_type": "code",
   "execution_count": null,
   "id": "7c4def0a",
   "metadata": {},
   "outputs": [],
   "source": [
    "saveRDS(cd8_l1_full_filt, \"../data/processed/L1/cd8_l1_full_filt.rds\")"
   ]
  },
  {
   "cell_type": "code",
   "execution_count": null,
   "id": "50120f35",
   "metadata": {},
   "outputs": [],
   "source": [
    "cd8_l1_full_filt  <- readRDS(\"../data/processed/L1/cd8_l1_full_filt.rds\")"
   ]
  },
  {
   "cell_type": "code",
   "execution_count": null,
   "id": "d089f831",
   "metadata": {},
   "outputs": [],
   "source": [
    "cd8_l2_subcluster  <- readRDS(\"../data/processed/L2/cd8_l2_subcluster.rds\")"
   ]
  },
  {
   "cell_type": "code",
   "execution_count": null,
   "id": "31b5b132",
   "metadata": {},
   "outputs": [],
   "source": [
    "cd8_l1_full_filt$annotations_l2  %>% table"
   ]
  },
  {
   "cell_type": "markdown",
   "id": "c769b277",
   "metadata": {},
   "source": [
    "## Table for quantification and Bayes"
   ]
  },
  {
   "cell_type": "code",
   "execution_count": null,
   "id": "053723f4",
   "metadata": {},
   "outputs": [],
   "source": [
    "cd8_l1_full_filt  <- readRDS(\"../data/processed/L1/cd8_l1_full_filt.rds\")"
   ]
  },
  {
   "cell_type": "code",
   "execution_count": null,
   "id": "826e6611",
   "metadata": {},
   "outputs": [],
   "source": [
    "cd8_patient_meta  <- cd8_l1_full_filt@meta.data  %>% \n",
    "                            dplyr::select(Sample_ID, Condition, Condition2, \n",
    "                                          Disease, \n",
    "                                          Sex, Age, Age_group, Patient_ID, \n",
    "                                          Time, Experiment_ID)   %>% unique"
   ]
  },
  {
   "cell_type": "code",
   "execution_count": null,
   "id": "124ea03b",
   "metadata": {},
   "outputs": [],
   "source": [
    "colnames(cd8_l1_full_filt@meta.data )"
   ]
  },
  {
   "cell_type": "code",
   "execution_count": null,
   "id": "58e138d4",
   "metadata": {},
   "outputs": [],
   "source": [
    "df3  <- cd8_l1_full_filt@meta.data %>% \n",
    "  group_by(Sample_ID, annotations_l3) %>% \n",
    "  summarise(n = n()) %>% \n",
    "  unique() %>% \n",
    "ungroup   %>% \n",
    "pivot_wider(names_from = \"annotations_l3\", values_from = \"n\", values_fill = 0) \n",
    "df4  <- left_join((cd8_l1_full_filt@misc$all_md %>% dplyr::select(Sample_ID) %>% unique), df3)\n",
    "df4[is.na(df4)] <- 0\n",
    "df4  <- df4  %>% pivot_longer(!Sample_ID, values_to = \"n\", names_to = \"annotations\")\n",
    "\n",
    "# As we've lost non-grouping variables, let's join them back\n",
    "md_to_join <- cd8_l1_full_filt@misc$all_md %>% \n",
    "  unique()\n",
    "\n",
    "df4  <- left_join(df4, md_to_join)"
   ]
  },
  {
   "cell_type": "code",
   "execution_count": null,
   "id": "a1a97d9e",
   "metadata": {},
   "outputs": [],
   "source": [
    "df4$Level  <- \"L3\""
   ]
  },
  {
   "cell_type": "code",
   "execution_count": null,
   "id": "4461ac04",
   "metadata": {},
   "outputs": [],
   "source": [
    "df_l3  <- df4"
   ]
  },
  {
   "cell_type": "code",
   "execution_count": null,
   "id": "e6442edc",
   "metadata": {},
   "outputs": [],
   "source": [
    "df3  <- cd8_l1_full_filt@meta.data %>% \n",
    "  group_by(Sample_ID, annotations_l2) %>% \n",
    "  summarise(n = n()) %>% \n",
    "  unique() %>% \n",
    "ungroup   %>% \n",
    "pivot_wider(names_from = \"annotations_l2\", values_from = \"n\", values_fill = 0) \n",
    "df4  <- left_join((cd8_l1_full_filt@misc$all_md %>% dplyr::select(Sample_ID) %>% unique), df3)\n",
    "df4[is.na(df4)] <- 0\n",
    "df4  <- df4  %>% pivot_longer(!Sample_ID, values_to = \"n\", names_to = \"annotations\")\n",
    "\n",
    "# As we've lost non-grouping variables, let's join them back\n",
    "md_to_join <- cd8_l1_full_filt@misc$all_md %>% \n",
    "  unique()\n",
    "\n",
    "df4  <- left_join(df4, md_to_join)\n",
    "df4$Level  <- \"L2\""
   ]
  },
  {
   "cell_type": "code",
   "execution_count": null,
   "id": "465b0cc1",
   "metadata": {},
   "outputs": [],
   "source": [
    "df_l2  <- df4"
   ]
  },
  {
   "cell_type": "code",
   "execution_count": null,
   "id": "a811ee10",
   "metadata": {
    "scrolled": true
   },
   "outputs": [],
   "source": [
    "df4"
   ]
  },
  {
   "cell_type": "code",
   "execution_count": null,
   "id": "9126dd5e",
   "metadata": {},
   "outputs": [],
   "source": [
    "df3  <- cd8_l1_full_filt@meta.data %>% \n",
    "  group_by(Sample_ID, annotations_l1) %>% \n",
    "  summarise(n = n()) %>% \n",
    "  unique() %>% \n",
    "ungroup   %>% \n",
    "pivot_wider(names_from = \"annotations_l1\", values_from = \"n\", values_fill = 0) \n",
    "df4  <- left_join((cd8_l1_full_filt@misc$all_md %>% dplyr::select(Sample_ID) %>% unique), df3)\n",
    "df4[is.na(df4)] <- 0\n",
    "df4  <- df4  %>% pivot_longer(!Sample_ID, values_to = \"n\", names_to = \"annotations\")\n",
    "\n",
    "# As we've lost non-grouping variables, let's join them back\n",
    "md_to_join <- cd8_l1_full_filt@misc$all_md %>% \n",
    "  unique()\n",
    "\n",
    "df4  <- left_join(df4, md_to_join)\n",
    "df4$Level  <- \"L1\"\n",
    "\n",
    "df_l1  <- df4"
   ]
  },
  {
   "cell_type": "code",
   "execution_count": null,
   "id": "b81ef35d",
   "metadata": {},
   "outputs": [],
   "source": [
    "df_l3"
   ]
  },
  {
   "cell_type": "code",
   "execution_count": null,
   "id": "2f5c7494",
   "metadata": {},
   "outputs": [],
   "source": [
    "df_all_levels  <- rbind(df_l1, df_l2, df_l3)"
   ]
  },
  {
   "cell_type": "code",
   "execution_count": null,
   "id": "07101f58",
   "metadata": {},
   "outputs": [],
   "source": [
    "write.csv(df_all_levels, \"../tables/populations_freq/all_levels_counts_with_preliminary_cd8.csv\")"
   ]
  },
  {
   "cell_type": "code",
   "execution_count": null,
   "id": "a420afdd",
   "metadata": {},
   "outputs": [],
   "source": [
    "df_all_levels"
   ]
  },
  {
   "cell_type": "code",
   "execution_count": null,
   "id": "21fe485c",
   "metadata": {},
   "outputs": [],
   "source": [
    "df_all_levels_without_preliminary  <- df_all_levels  %>% dplyr::filter(Experiment_ID %in% c(\"Exp16\", \"Exp18\", \"Exp19\", \"Exp20\"))"
   ]
  },
  {
   "cell_type": "code",
   "execution_count": null,
   "id": "a8df0665",
   "metadata": {},
   "outputs": [],
   "source": [
    "write.csv(df_all_levels_without_preliminary, \"../tables/populations_freq/all_levels_counts_cd8.csv\")"
   ]
  },
  {
   "cell_type": "markdown",
   "id": "709cb61f",
   "metadata": {},
   "source": [
    "## Population phylogenetic tree"
   ]
  },
  {
   "cell_type": "code",
   "execution_count": null,
   "id": "116cdef6",
   "metadata": {},
   "outputs": [],
   "source": [
    "cd8_l1_full_filt$Patient_Time  %>% table"
   ]
  },
  {
   "cell_type": "code",
   "execution_count": null,
   "id": "49cd3a8a",
   "metadata": {},
   "outputs": [],
   "source": [
    "Idents(cd8_l1_full_filt)  <- cd8_l1_full_filt$annotations_l3"
   ]
  },
  {
   "cell_type": "code",
   "execution_count": null,
   "id": "f2e5ee98",
   "metadata": {},
   "outputs": [],
   "source": [
    "cd8_l1_full_filt <- BuildClusterTree(\n",
    "  cd8_l1_full_filt,\n",
    "  dims = 1:12,\n",
    "  reorder = FALSE,\n",
    "  reorder.numeric = FALSE\n",
    ")"
   ]
  },
  {
   "cell_type": "code",
   "execution_count": null,
   "id": "edf0ca7c",
   "metadata": {},
   "outputs": [],
   "source": [
    "tree <- cd8_l1_full_filt@tools$BuildClusterTree\n",
    "tree$tip.label <- tree$tip.label"
   ]
  },
  {
   "cell_type": "code",
   "execution_count": null,
   "id": "cdb91579",
   "metadata": {},
   "outputs": [],
   "source": [
    "tree$tip.label"
   ]
  },
  {
   "cell_type": "code",
   "execution_count": null,
   "id": "3eee1b38",
   "metadata": {},
   "outputs": [],
   "source": [
    "as.character(tree$tip.label)"
   ]
  },
  {
   "cell_type": "code",
   "execution_count": null,
   "id": "3526ebee",
   "metadata": {},
   "outputs": [],
   "source": [
    "tree"
   ]
  },
  {
   "cell_type": "code",
   "execution_count": null,
   "id": "20315632",
   "metadata": {},
   "outputs": [],
   "source": [
    "p <- ggtree::ggtree(tree, aes(x, y)) +\n",
    "  scale_y_reverse() +\n",
    "  ggtree::geom_tree() +\n",
    "  ggtree::theme_tree() +\n",
    "  ggtree::geom_tiplab(offset = 1) +\n",
    "  ggtree::geom_tippoint(shape = 16, size = 5) +\n",
    "  coord_cartesian(clip = 'off') +\n",
    "  theme(plot.margin = unit(c(0,18,0,0), 'cm'))\n",
    "\n",
    "#ggsave('plots/cluster_tree.png', p, height = 4, width = 6)"
   ]
  },
  {
   "cell_type": "code",
   "execution_count": null,
   "id": "6c5b35a2",
   "metadata": {
    "scrolled": true
   },
   "outputs": [],
   "source": [
    "options(repr.plot.width=10, repr.plot.height=12)\n",
    "p"
   ]
  },
  {
   "cell_type": "code",
   "execution_count": null,
   "id": "977e9a62",
   "metadata": {},
   "outputs": [],
   "source": [
    "cd8_l1_full_filt"
   ]
  },
  {
   "cell_type": "code",
   "execution_count": null,
   "id": "bd77bf76",
   "metadata": {},
   "outputs": [],
   "source": []
  },
  {
   "cell_type": "markdown",
   "id": "e1b4c75b",
   "metadata": {},
   "source": [
    "# SessionInfo"
   ]
  },
  {
   "cell_type": "code",
   "execution_count": null,
   "id": "953060e6",
   "metadata": {},
   "outputs": [],
   "source": [
    "sessionInfo()"
   ]
  }
 ],
 "metadata": {
  "kernelspec": {
   "display_name": "R",
   "language": "R",
   "name": "ir"
  },
  "language_info": {
   "codemirror_mode": "r",
   "file_extension": ".r",
   "mimetype": "text/x-r-source",
   "name": "R",
   "pygments_lexer": "r",
   "version": "4.4.2"
  },
  "toc": {
   "base_numbering": 1,
   "nav_menu": {},
   "number_sections": true,
   "sideBar": true,
   "skip_h1_title": false,
   "title_cell": "Table of Contents",
   "title_sidebar": "Contents",
   "toc_cell": false,
   "toc_position": {
    "height": "calc(100% - 180px)",
    "left": "10px",
    "top": "150px",
    "width": "313.75px"
   },
   "toc_section_display": true,
   "toc_window_display": true
  }
 },
 "nbformat": 4,
 "nbformat_minor": 5
}
