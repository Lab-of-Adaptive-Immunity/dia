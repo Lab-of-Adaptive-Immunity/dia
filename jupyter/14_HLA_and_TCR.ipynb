{
 "cells": [
  {
   "cell_type": "code",
   "execution_count": null,
   "id": "677c5bad",
   "metadata": {},
   "outputs": [],
   "source": [
    "source(\"../code/diabetes_analysis_v06.R\")"
   ]
  },
  {
   "cell_type": "markdown",
   "id": "eaa56d6c",
   "metadata": {},
   "source": [
    "## Czech reference HLA"
   ]
  },
  {
   "cell_type": "code",
   "execution_count": null,
   "id": "f130c322",
   "metadata": {},
   "outputs": [],
   "source": [
    "czech_hla  <- read_csv(\"../../240218_VN_Diabetes_V05/data/Czech Republic_raw.csv\")"
   ]
  },
  {
   "cell_type": "code",
   "execution_count": null,
   "id": "3072ed6f",
   "metadata": {
    "scrolled": true
   },
   "outputs": [],
   "source": [
    "czech_hla"
   ]
  },
  {
   "cell_type": "code",
   "execution_count": null,
   "id": "1395b477",
   "metadata": {
    "scrolled": true
   },
   "outputs": [],
   "source": [
    "czech_hla"
   ]
  },
  {
   "cell_type": "code",
   "execution_count": null,
   "id": "902fc39c",
   "metadata": {},
   "outputs": [],
   "source": [
    "options(repr.plot.height = 40)\n",
    "czech_hla  %>% \n",
    "filter(population != \"Czech Republic Romani\")  %>% ggplot(aes(x = allele, y = allele_freq)) + \n",
    "#facet_wrap(~allele, scales = \"free\") +\n",
    "facet_grid(rows = vars(loci), scales = \"free\", space = \"free\") +\n",
    "geom_point(aes(color = population)) + coord_flip() + \n",
    "scale_color_manual(values = c(\"grey50\",\"grey60\",\"grey70\",\"grey80\"))"
   ]
  },
  {
   "cell_type": "code",
   "execution_count": null,
   "id": "2a32a40b",
   "metadata": {},
   "outputs": [],
   "source": [
    "czech_hla2  <- czech_hla  %>% group_by(allele, loci)  %>% \n",
    "summarise(allele_freq2 = mean(allele_freq, na.rm = TRUE),\n",
    "          allele_min = min(allele_freq, na.rm = TRUE),\n",
    "          allele_max = max(allele_freq, na.rm = TRUE))"
   ]
  },
  {
   "cell_type": "code",
   "execution_count": null,
   "id": "cca472d8",
   "metadata": {
    "scrolled": true
   },
   "outputs": [],
   "source": [
    "czech_hla2"
   ]
  },
  {
   "cell_type": "code",
   "execution_count": null,
   "id": "037880d9",
   "metadata": {},
   "outputs": [],
   "source": [
    "czech_hla2  %>% ggplot(aes(x = allele, y = allele_freq2)) + \n",
    "#facet_wrap(~allele, scales = \"free\") +\n",
    "facet_grid(rows = vars(loci), scales = \"free\", space = \"free\") +\n",
    "geom_point(size = 3) + coord_flip() + \n",
    "geom_linerange(aes(ymin = allele_min, ymax = allele_max),\n",
    "                 alpha = 0.5) "
   ]
  },
  {
   "cell_type": "markdown",
   "id": "d22a60b2",
   "metadata": {},
   "source": [
    "## Our HLA\n"
   ]
  },
  {
   "cell_type": "code",
   "execution_count": null,
   "id": "6e294354",
   "metadata": {},
   "outputs": [],
   "source": [
    "hla_dia  <- read_xlsx('../../240218_VN_Diabetes_V05/data/metadata_v05.xlsx')"
   ]
  },
  {
   "cell_type": "code",
   "execution_count": null,
   "id": "b6d35b7e",
   "metadata": {},
   "outputs": [],
   "source": [
    "remove_third_level  <- function(x){\n",
    "    x  <- sub('^([^:]+:[^:]+).*', '\\\\1', x)\n",
    "    return(x)\n",
    "}"
   ]
  },
  {
   "cell_type": "code",
   "execution_count": null,
   "id": "32086820",
   "metadata": {
    "scrolled": true
   },
   "outputs": [],
   "source": [
    "hla_dia2  <- hla_dia  %>% filter(time_taken == \"T0\")  %>% \n",
    "dplyr::select(starts_with(\"HLA\"), patient)  %>% \n",
    "mutate(Disease = ifelse(substr(patient,1,1)==\"1\",'Dia',\"Ctrl\"))   %>% \n",
    "mutate_at(.vars = vars(starts_with(\"HLA\")), .funs = remove_third_level)  "
   ]
  },
  {
   "cell_type": "code",
   "execution_count": null,
   "id": "c41a0c4a",
   "metadata": {
    "scrolled": true
   },
   "outputs": [],
   "source": [
    "hla_dia2"
   ]
  },
  {
   "cell_type": "code",
   "execution_count": null,
   "id": "dff9c429",
   "metadata": {},
   "outputs": [],
   "source": [
    "hla_dia3  <- hla_dia2  %>% pivot_longer(cols = starts_with(\"HLA\"), names_to = \"loci\", values_to = \"allele\")"
   ]
  },
  {
   "cell_type": "code",
   "execution_count": null,
   "id": "26f12e46",
   "metadata": {
    "scrolled": true
   },
   "outputs": [],
   "source": [
    "hla_dia3  <- hla_dia3  %>% mutate(loci2 = loci)  %>% \n",
    "mutate(loci = stringr::str_extract(allele, \"^[^*]+\"))"
   ]
  },
  {
   "cell_type": "code",
   "execution_count": null,
   "id": "7c43ec78",
   "metadata": {
    "scrolled": true
   },
   "outputs": [],
   "source": [
    "czech_hla"
   ]
  },
  {
   "cell_type": "code",
   "execution_count": null,
   "id": "dbfd5d0a",
   "metadata": {
    "scrolled": true
   },
   "outputs": [],
   "source": [
    "hla_dia3  %>% \n",
    "group_by(Disease, patient)  %>%  unique %>% tally  %>% dplyr::select(Disease)  %>% tally"
   ]
  },
  {
   "cell_type": "code",
   "execution_count": null,
   "id": "370ed1fe",
   "metadata": {},
   "outputs": [],
   "source": [
    "hla_dia4  <- hla_dia3  %>% \n",
    "group_by(Disease, loci, allele)  %>% \n",
    " filter((patient %in% c(\"206\",\"207\") == F))  %>%\n",
    " summarise(n = n()) %>%\n",
    "  mutate(freq = n / sum(n))  %>% \n",
    "transmute(allele, loci, population = Disease, allele_freq = freq, sample_size = ifelse(Disease == \"Dia\",30,13))  %>% \n",
    "ungroup  %>% \n",
    "dplyr::select(allele, loci, population, allele_freq, sample_size)"
   ]
  },
  {
   "cell_type": "code",
   "execution_count": null,
   "id": "5c647c87",
   "metadata": {},
   "outputs": [],
   "source": [
    "hla_dia5  <- hla_dia4  %>% dplyr::select(-loci, -sample_size)  %>% \n",
    "pivot_wider(names_from = \"allele\", values_from = \"allele_freq\", values_fill = 0)"
   ]
  },
  {
   "cell_type": "code",
   "execution_count": null,
   "id": "32b5debf",
   "metadata": {},
   "outputs": [],
   "source": [
    "hla_dia5"
   ]
  },
  {
   "cell_type": "code",
   "execution_count": null,
   "id": "074c626f",
   "metadata": {
    "scrolled": true
   },
   "outputs": [],
   "source": [
    " hla_dia6  <- hla_dia5  %>% pivot_longer(!population, names_to = \"allele\", values_to = \"allele_freq\")"
   ]
  },
  {
   "cell_type": "code",
   "execution_count": null,
   "id": "ac7ceab3",
   "metadata": {
    "scrolled": true
   },
   "outputs": [],
   "source": [
    "hla_dia7  <-  hla_dia6  %>%  mutate(loci = stringr::str_extract(allele, \"^[^*]+\"),\n",
    "                                   sample_size = ifelse(population == \"Dia\",30,13))  %>% \n",
    "dplyr::select(allele, loci, population, allele_freq, sample_size)"
   ]
  },
  {
   "cell_type": "code",
   "execution_count": null,
   "id": "75b23d26",
   "metadata": {
    "scrolled": true
   },
   "outputs": [],
   "source": [
    "hla_dia7"
   ]
  },
  {
   "cell_type": "code",
   "execution_count": null,
   "id": "2cd82cf6",
   "metadata": {
    "scrolled": true
   },
   "outputs": [],
   "source": [
    "czech_hla"
   ]
  },
  {
   "cell_type": "code",
   "execution_count": null,
   "id": "a748f804",
   "metadata": {},
   "outputs": [],
   "source": [
    "all_hlas  <- rbind(hla_dia7, czech_hla)"
   ]
  },
  {
   "cell_type": "code",
   "execution_count": null,
   "id": "68dd74c1",
   "metadata": {
    "scrolled": true
   },
   "outputs": [],
   "source": [
    "all_hlas"
   ]
  },
  {
   "cell_type": "code",
   "execution_count": null,
   "id": "ac3a71a1",
   "metadata": {},
   "outputs": [],
   "source": [
    "options(repr.plot.height = 40)\n",
    "all_hlas  %>% \n",
    "filter(loci %in% c(\"A\",\"B\",\"C\", \"DPB1\", \"DQA1\", \"DQB1\", \"DRB1\"))  %>% \n",
    "filter(allele %in% hla_dia4$allele)  %>% \n",
    "filter(population != \"Czech Republic Romani\")  %>% \n",
    "ggplot(aes(x = factor(allele, levels = rev(levels(factor(allele)))), y = allele_freq)) + \n",
    "#facet_wrap(~allele, scales = \"free\") +\n",
    "facet_grid(rows = vars(loci), scales = \"free\", space = \"free\") +\n",
    "geom_point(aes(color = population), size = 3) + coord_flip() + \n",
    "scale_color_manual(values = c(\"blue\", \"grey50\",\"grey60\",\"grey70\",\"grey80\", \"red\")) +\n",
    "xlab(\"\") +\n",
    "theme_bw() +\n",
    "ggtheme() "
   ]
  },
  {
   "cell_type": "code",
   "execution_count": null,
   "id": "0b1418b8",
   "metadata": {},
   "outputs": [],
   "source": [
    "write.csv(all_hlas, \"../tables/hla_czech.csv\")"
   ]
  },
  {
   "cell_type": "code",
   "execution_count": null,
   "id": "38a9a064",
   "metadata": {},
   "outputs": [],
   "source": [
    "options(repr.plot.height = 40)\n",
    "all_hlas  %>% \n",
    "filter(loci %in% c(\"A\",\"B\",\"C\", \"DPB1\", \"DQA1\", \"DQB1\", \"DRB1\"))  %>% \n",
    "filter(allele %in% hla_dia4$allele)  %>% \n",
    "filter(population != \"Czech Republic Romani\")  %>% \n",
    "ggplot(aes(x = factor(allele, levels = rev(levels(factor(allele)))), y = allele_freq)) + \n",
    "#facet_wrap(~allele, scales = \"free\") +\n",
    "facet_grid(rows = vars(loci), scales = \"free\", space = \"free\") +\n",
    "geom_point(aes(color = population), size = 3) + coord_flip() + \n",
    "scale_color_manual(values = c(\"blue\", \"grey50\",\"grey60\",\"grey70\",\"grey80\", \"red\")) +\n",
    "xlab(\"\") +\n",
    "theme_bw() +\n",
    "ggtheme() "
   ]
  },
  {
   "cell_type": "code",
   "execution_count": null,
   "id": "79d5dffb",
   "metadata": {},
   "outputs": [],
   "source": [
    "ggsave(\"../240218_VN_Diabetes_V05/figures/hla/hla.png\", width = 30, height = 70, units = \"cm\")\n",
    "ggsave(\"../240218_VN_Diabetes_V05/figures/hla/hla.svg\", width = 30, height = 70, units = \"cm\")"
   ]
  },
  {
   "cell_type": "code",
   "execution_count": null,
   "id": "deb7d694",
   "metadata": {},
   "outputs": [],
   "source": [
    "all_hlas2  <- all_hlas  %>% \n",
    "filter(loci %in% c(\"A\",\"B\",\"C\", \"DPB1\", \"DQA1\", \"DQB1\", \"DRB1\"))  %>% \n",
    "filter(allele %in% hla_dia4$allele)  %>% \n",
    "filter(population != \"Czech Republic Romani\")  %>% \n",
    "mutate(population2 = ifelse(population == \"Dia\", \"Dia\", \"Global pop.\"))  %>% \n",
    "dplyr::select(-population)  %>% \n",
    "group_by(allele, loci, population2)  %>% \n",
    "summarise(mean_allele_freq = mean(allele_freq),\n",
    "         sum_sample_size = sum(sample_size))"
   ]
  },
  {
   "cell_type": "code",
   "execution_count": null,
   "id": "a6805880",
   "metadata": {},
   "outputs": [],
   "source": [
    "all_hlas2$allele_occurrences  <- all_hlas2$sum_sample_size*all_hlas2$mean_allele_freq*2"
   ]
  },
  {
   "cell_type": "code",
   "execution_count": null,
   "id": "40969dcd",
   "metadata": {},
   "outputs": [],
   "source": [
    "all_hlas2  %>% nrow"
   ]
  },
  {
   "cell_type": "code",
   "execution_count": null,
   "id": "574625c6",
   "metadata": {
    "scrolled": true
   },
   "outputs": [],
   "source": [
    "all_hlas2"
   ]
  },
  {
   "cell_type": "code",
   "execution_count": null,
   "id": "225d79ab",
   "metadata": {
    "scrolled": true
   },
   "outputs": [],
   "source": [
    "for(i in 1:121){\n",
    "    \n",
    "    binom  <- binom.test(x = all_hlas2$allele_occurrences[(2*i)-1],\n",
    "                        n = 60, \n",
    "                        p = all_hlas2$mean_allele_freq[(2*i)])\n",
    "    \n",
    "    df  <- data.frame(allele = all_hlas2$allele[(2*i)],\n",
    "                      pval = binom$p.value, \n",
    "                     padj = ifelse(binom$p.value*121>1,1,binom$p.value*121))\n",
    "    \n",
    "    if(i == 1){\n",
    "        df_all  <- df\n",
    "    } else {\n",
    "        df_all  <- rbind(df_all, df)\n",
    "    }\n",
    "}"
   ]
  },
  {
   "cell_type": "code",
   "execution_count": null,
   "id": "5a5d6216",
   "metadata": {
    "scrolled": true
   },
   "outputs": [],
   "source": [
    "write.csv(df_all, \"../240218_VN_Diabetes_V05/tables/hla.csv\")"
   ]
  }
 ],
 "metadata": {
  "kernelspec": {
   "display_name": "R",
   "language": "R",
   "name": "ir"
  },
  "language_info": {
   "codemirror_mode": "r",
   "file_extension": ".r",
   "mimetype": "text/x-r-source",
   "name": "R",
   "pygments_lexer": "r",
   "version": "4.4.2"
  },
  "toc": {
   "base_numbering": 1,
   "nav_menu": {},
   "number_sections": true,
   "sideBar": true,
   "skip_h1_title": false,
   "title_cell": "Table of Contents",
   "title_sidebar": "Contents",
   "toc_cell": false,
   "toc_position": {
    "height": "calc(100% - 180px)",
    "left": "10px",
    "top": "150px",
    "width": "305.567px"
   },
   "toc_section_display": true,
   "toc_window_display": true
  }
 },
 "nbformat": 4,
 "nbformat_minor": 5
}
