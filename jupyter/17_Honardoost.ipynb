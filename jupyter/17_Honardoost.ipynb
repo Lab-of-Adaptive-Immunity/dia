{
 "cells": [
  {
   "cell_type": "code",
   "execution_count": null,
   "id": "fa67490f",
   "metadata": {
    "scrolled": true
   },
   "outputs": [],
   "source": [
    "source(\"diabetes_analysis_v05.R\")"
   ]
  },
  {
   "cell_type": "code",
   "execution_count": null,
   "id": "b0d20ccc",
   "metadata": {},
   "outputs": [],
   "source": [
    "honardoost  <- readRDS(\"../data/published_data/Honardoost_2024/T1D_Seurat_Object_Final.rds\")"
   ]
  },
  {
   "cell_type": "code",
   "execution_count": null,
   "id": "c8afb464",
   "metadata": {},
   "outputs": [],
   "source": [
    "honardoost"
   ]
  },
  {
   "cell_type": "code",
   "execution_count": null,
   "id": "01187c23",
   "metadata": {},
   "outputs": [],
   "source": [
    "honardoost@assays$Projection"
   ]
  },
  {
   "cell_type": "code",
   "execution_count": null,
   "id": "3700fbc5",
   "metadata": {},
   "outputs": [],
   "source": [
    "DimPlot(honardoost)"
   ]
  },
  {
   "cell_type": "code",
   "execution_count": null,
   "id": "88ed868f",
   "metadata": {
    "scrolled": true
   },
   "outputs": [],
   "source": [
    "honardoost <- NormalizeData(honardoost, verbose = FALSE)\n",
    "honardoost <- FindVariableFeatures(honardoost, nfeatures = 1000, verbose = FALSE)\n",
    "honardoost <- ScaleData(honardoost, verbose = FALSE)\n",
    "honardoost <- RunPCA(honardoost, npcs = 20, verbose = FALSE)\n",
    "honardoost <- RunUMAP(honardoost, reduction = \"pca\", dims = 1:20)"
   ]
  },
  {
   "cell_type": "code",
   "execution_count": null,
   "id": "18b8f538",
   "metadata": {},
   "outputs": [],
   "source": [
    "DimPlot(honardoost, raster = T, label  = T)"
   ]
  },
  {
   "cell_type": "code",
   "execution_count": null,
   "id": "b2efcab6",
   "metadata": {},
   "outputs": [],
   "source": [
    "honardoost <- FindNeighbors(honardoost, dims = 1:12)\n",
    "honardoost <- FindClusters(honardoost, resolution = 0.3)"
   ]
  },
  {
   "cell_type": "code",
   "execution_count": null,
   "id": "00edbf67",
   "metadata": {},
   "outputs": [],
   "source": [
    "DimPlot(honardoost, raster = T, label = T)"
   ]
  },
  {
   "cell_type": "code",
   "execution_count": null,
   "id": "6c30c14c",
   "metadata": {},
   "outputs": [],
   "source": [
    "honardoostT  <- subset(honardoost, seurat_clusters %in% c(0,1,3,5,6))"
   ]
  },
  {
   "cell_type": "code",
   "execution_count": null,
   "id": "d4457142",
   "metadata": {
    "scrolled": true
   },
   "outputs": [],
   "source": [
    "honardoostT <- NormalizeData(honardoostT, verbose = FALSE)\n",
    "honardoostT <- FindVariableFeatures(honardoostT, nfeatures = 1000, verbose = FALSE)\n",
    "honardoostT <- ScaleData(honardoostT, verbose = FALSE)\n",
    "honardoostT <- RunPCA(honardoostT, npcs = 20, verbose = FALSE)\n",
    "honardoostT <- RunUMAP(honardoostT, reduction = \"pca\", dims = 1:20)\n",
    "honardoostT <- FindNeighbors(honardoostT, dims = 1:12)\n",
    "honardoostT <- FindClusters(honardoostT, resolution = 0.3)"
   ]
  },
  {
   "cell_type": "code",
   "execution_count": null,
   "id": "14b4094e",
   "metadata": {},
   "outputs": [],
   "source": [
    "saveRDS(honardoostT, \"../data/published_data/Honardoost_2024/honardoost_tcells.rds\")"
   ]
  },
  {
   "cell_type": "code",
   "execution_count": null,
   "id": "3e88ec6d",
   "metadata": {},
   "outputs": [],
   "source": [
    "honardoostT  <- readRDS(\"../data/published_data/Honardoost_2024/honardoost_tcells.rds\")"
   ]
  },
  {
   "cell_type": "code",
   "execution_count": null,
   "id": "cb3c8dd9",
   "metadata": {},
   "outputs": [],
   "source": [
    "options(repr.plot.width = 6, repr.plot.height = 5)\n",
    "DimPlot(honardoostT, raster = T, label = T)"
   ]
  },
  {
   "cell_type": "code",
   "execution_count": null,
   "id": "7b22fb7d",
   "metadata": {},
   "outputs": [],
   "source": [
    "rm(honardoost)"
   ]
  },
  {
   "cell_type": "code",
   "execution_count": null,
   "id": "f6f1415e",
   "metadata": {},
   "outputs": [],
   "source": [
    "options(repr.plot.width = 6, repr.plot.height = 5)\n",
    "FeaturePlot(honardoostT, features = \"CD8A\", min.cutoff = 0, raster = T)"
   ]
  },
  {
   "cell_type": "code",
   "execution_count": null,
   "id": "594d4105",
   "metadata": {},
   "outputs": [],
   "source": [
    "FeaturePlot(honardoostT, features = \"CD4\", min.cutoff = 0, raster = T)\n",
    "FeaturePlot(honardoostT, features = \"FOXP3\", min.cutoff = 0, raster = T)\n",
    "FeaturePlot(honardoostT, features = \"SELL\", min.cutoff = 0, raster = T)\n",
    "FeaturePlot(honardoostT, features = \"CCL5\", min.cutoff = 0, raster = T)\n",
    "FeaturePlot(honardoostT, features = \"GNLY\", min.cutoff = 0, raster = T)\n",
    "FeaturePlot(honardoostT, features = \"CD3D\", min.cutoff = 0, raster = T)\n",
    "FeaturePlot(honardoostT, features = \"TRAC\", min.cutoff = 0, raster = T)\n",
    "FeaturePlot(honardoostT, features = \"CD19\", min.cutoff = 0, raster = T)\n",
    "FeaturePlot(honardoostT, features = \"MS4A1\", min.cutoff = 0, raster = T)"
   ]
  },
  {
   "cell_type": "code",
   "execution_count": null,
   "id": "417eca23",
   "metadata": {},
   "outputs": [],
   "source": [
    "FeaturePlot(honardoostT, features = \"CD8A\", min.cutoff = 0, raster = T)"
   ]
  },
  {
   "cell_type": "code",
   "execution_count": null,
   "id": "1c10d56e",
   "metadata": {},
   "outputs": [],
   "source": [
    "FeaturePlot(honardoostT, features = \"TRGC1\", min.cutoff = 0, raster = T)\n"
   ]
  },
  {
   "cell_type": "code",
   "execution_count": null,
   "id": "93b800bd",
   "metadata": {},
   "outputs": [],
   "source": [
    "honardoostT@meta.data  %>% colnames"
   ]
  },
  {
   "cell_type": "code",
   "execution_count": null,
   "id": "e21ceb83",
   "metadata": {},
   "outputs": [],
   "source": [
    "DimPlot(honardoostT, raster = T, label = T, group.by = \"Cluster_Annotation_Merged\")"
   ]
  },
  {
   "cell_type": "code",
   "execution_count": null,
   "id": "10e72d25",
   "metadata": {},
   "outputs": [],
   "source": [
    "options(repr.plot.width = 20, repr.plot.height = 16)\n",
    "\n",
    "DimPlot(honardoostT, raster = T, label = T, group.by = \"Sample_ID\")"
   ]
  },
  {
   "cell_type": "code",
   "execution_count": null,
   "id": "362b4493",
   "metadata": {},
   "outputs": [],
   "source": [
    "honardoostT <- FindClusters(honardoostT, resolution = 0.23)"
   ]
  },
  {
   "cell_type": "code",
   "execution_count": null,
   "id": "0d19861f",
   "metadata": {},
   "outputs": [],
   "source": [
    "options(repr.plot.width = 6, repr.plot.height = 5)\n",
    "DimPlot(honardoostT, raster = T, label = T)"
   ]
  },
  {
   "cell_type": "code",
   "execution_count": null,
   "id": "4cd006c9",
   "metadata": {},
   "outputs": [],
   "source": [
    "mrk  <- FindAllMarkers(honardoostT, logfc.threshold = log(2))"
   ]
  },
  {
   "cell_type": "code",
   "execution_count": null,
   "id": "5e670f90",
   "metadata": {
    "scrolled": true
   },
   "outputs": [],
   "source": [
    "mrk  %>% filter(cluster ==0 & avg_log2FC >0)"
   ]
  },
  {
   "cell_type": "code",
   "execution_count": null,
   "id": "33f32646",
   "metadata": {},
   "outputs": [],
   "source": [
    "FeaturePlot(honardoostT, features = \"RP11-36C20.1\", min.cutoff = 0, raster = T)\n"
   ]
  },
  {
   "cell_type": "code",
   "execution_count": null,
   "id": "ae423001",
   "metadata": {},
   "outputs": [],
   "source": [
    "options(repr.plot.width = 20)\n",
    "VlnPlot(honardoostT, features = c(\"percent.mt\", \"percent.rp\", \"nCount_RNA\", \"nFeature_RNA\"), ncol = 4, raster = F)"
   ]
  },
  {
   "cell_type": "code",
   "execution_count": null,
   "id": "c7d807e9",
   "metadata": {},
   "outputs": [],
   "source": [
    "options(repr.plot.width = 6)\n",
    "\n",
    "FeaturePlot(honardoostT, features = \"FOXP3\", min.cutoff = 0, raster = T, max.cutoff = 1)\n"
   ]
  },
  {
   "cell_type": "code",
   "execution_count": null,
   "id": "9a5b52f4",
   "metadata": {},
   "outputs": [],
   "source": [
    "    honardoostT$Sample_ID  %>% table"
   ]
  },
  {
   "cell_type": "code",
   "execution_count": null,
   "id": "e40b6c46",
   "metadata": {},
   "outputs": [],
   "source": [
    "honardoostT@meta.data  %>% colnames"
   ]
  },
  {
   "cell_type": "code",
   "execution_count": null,
   "id": "a5e9a6d7",
   "metadata": {},
   "outputs": [],
   "source": [
    "honardoostT$COND  %>% table"
   ]
  },
  {
   "cell_type": "code",
   "execution_count": null,
   "id": "ea1fd8fc",
   "metadata": {},
   "outputs": [],
   "source": [
    "md  <- honardoostT@meta.data  %>% dplyr::select(Sample_ID, HLA_Haplotypes, COND)"
   ]
  },
  {
   "cell_type": "code",
   "execution_count": null,
   "id": "4765c2d9",
   "metadata": {},
   "outputs": [],
   "source": [
    "avgexp = AverageExpression(honardoostT, features = c(\"NOTCH4\",\"TABP\",\"TAP2\",\"LMP7\",\"TAP1\",\"LMP2\",\"LST1\",\n",
    "                                                     \"LTB\",\"TNF\",\"LTA\",\"NFKBIL1\", \"BTN3A2\",\"BTN3A1\"),\n",
    "                           return.seurat = F, group.by = \"Sample_ID\", \n",
    "                          assay = \"RNA\")\n",
    "\n",
    "btn_etc  <- t(avgexp$RNA)  %>% as.data.frame()  %>% \n",
    "rownames_to_column(\"Sample_ID\")  %>% \n",
    "pivot_longer(!Sample_ID, names_to = \"gene\", values_to = \"expression\")  %>% \n",
    "left_join(md)  %>% unique\n",
    "\n",
    "btn_etc"
   ]
  },
  {
   "cell_type": "code",
   "execution_count": null,
   "id": "8309531c",
   "metadata": {},
   "outputs": [],
   "source": [
    "options(repr.plot.width = 7, repr.plot.height = 7)\n",
    "\n",
    "btn_etc  %>% filter(gene == \"BTN3A2\")  %>% \n",
    "ggplot(aes(x = HLA_Haplotypes,\n",
    "             y = expression)) +\n",
    "   geom_dotplot(binaxis='y', stackdir='center', dotsize = 0) + \n",
    "   geom_boxplot(outlier.shape = NA) +\n",
    "    geom_jitter(binaxis='y', position=position_jitter(width = 0.1, height = 0.01), \n",
    "                size = 2, stackdir='center', aes(color = COND)) + \n",
    "    facet_wrap(~gene, scales = \"free\") +\n",
    "  theme_classic() + xlab(\"\") +  \n",
    " xlab(\"\") + ylab(\"Value\") +\n",
    "   scale_y_continuous(expand = expansion(mult = c(0, 0.1))) +\n",
    "  ggpubr::stat_compare_means(label.x = 1.2, label.y.npc = \"top\", size = 5, vjust = 0.3, label = \"p.format\") + \n",
    "      theme(plot.title = element_text(hjust = 0.5, size = 18),\n",
    "          axis.line = element_line(colour = \"black\"), \n",
    "            axis.text = element_text(angle = 90),\n",
    "        axis.ticks = element_line(colour = \"black\")) +\n",
    "  ylim(0,NA) + ggtitle(\"Avg Expression by HLA CD4 T cells\")"
   ]
  },
  {
   "cell_type": "code",
   "execution_count": null,
   "id": "380d93f5",
   "metadata": {},
   "outputs": [],
   "source": [
    "options(repr.plot.width = 7, repr.plot.height = 7)\n",
    "\n",
    "btn_etc  %>% filter(gene == \"BTN3A2\")  %>% \n",
    "ggplot(aes(x = HLA_Haplotypes,\n",
    "             y = expression)) +\n",
    "   geom_dotplot(binaxis='y', stackdir='center', dotsize = 0) + \n",
    "   geom_boxplot(outlier.shape = NA) +\n",
    "    geom_jitter(binaxis='y', position=position_jitter(width = 0.1, height = 0.01), \n",
    "                size = 2, stackdir='center', aes(color = COND)) + \n",
    "    facet_wrap(~gene, scales = \"free\") +\n",
    "  theme_classic() + xlab(\"\") +  \n",
    " xlab(\"\") + ylab(\"Value\") +\n",
    "   scale_y_continuous(expand = expansion(mult = c(0, 0.1))) +\n",
    "  ggpubr::stat_compare_means(label.x = 1.2, label.y.npc = \"top\", size = 5, vjust = 0.3, label = \"p.format\") + \n",
    "      theme(plot.title = element_text(hjust = 0.5, size = 18),\n",
    "          axis.line = element_line(colour = \"black\"), \n",
    "            axis.text = element_text(angle = 90),\n",
    "        axis.ticks = element_line(colour = \"black\")) +\n",
    "  ylim(0,NA) + ggtitle(\"Avg Expression by HLA honardoost\")"
   ]
  },
  {
   "cell_type": "code",
   "execution_count": null,
   "id": "946e5452",
   "metadata": {},
   "outputs": [],
   "source": [
    "DimPlot(honardoostT, raster = T, label = T, group.by = \"Cluster_Annotation_Merged\")\n",
    "DimPlot(honardoostT, raster = T, label = T, cells.highlight ´group.by = \"Cluster_Annotation_Merged\")"
   ]
  },
  {
   "cell_type": "code",
   "execution_count": null,
   "id": "e63588eb",
   "metadata": {},
   "outputs": [],
   "source": [
    "treg  <- subset(honardoostT, Cluster_Annotation_Merged == \"T_reg\")"
   ]
  },
  {
   "cell_type": "code",
   "execution_count": null,
   "id": "03aba860",
   "metadata": {},
   "outputs": [],
   "source": [
    "DimPlot(treg)"
   ]
  },
  {
   "cell_type": "code",
   "execution_count": null,
   "id": "c04b236e",
   "metadata": {},
   "outputs": [],
   "source": [
    "FeaturePlot(treg, features = \"FOXP3\")"
   ]
  },
  {
   "cell_type": "code",
   "execution_count": null,
   "id": "fe930c61",
   "metadata": {
    "scrolled": true
   },
   "outputs": [],
   "source": [
    "treg <- NormalizeData(treg, verbose = FALSE)\n",
    "treg <- FindVariableFeatures(treg, nfeatures = 1000, verbose = FALSE)\n",
    "treg <- ScaleData(treg, verbose = FALSE)\n",
    "treg <- RunPCA(treg, npcs = 20, verbose = FALSE)\n",
    "treg <- RunUMAP(treg, reduction = \"pca\", dims = 1:20)\n",
    "treg <- FindNeighbors(treg, dims = 1:12)\n",
    "treg <- FindClusters(treg, resolution = 0.3)"
   ]
  },
  {
   "cell_type": "code",
   "execution_count": null,
   "id": "c1484289",
   "metadata": {},
   "outputs": [],
   "source": [
    "DimPlot(treg)\n",
    "\n",
    "FeaturePlot(treg, features = \"FOXP3\")"
   ]
  },
  {
   "cell_type": "code",
   "execution_count": null,
   "id": "9f688ae3",
   "metadata": {},
   "outputs": [],
   "source": [
    "FeaturePlot(treg, features = \"FOXP3\")\n",
    "FeaturePlot(treg, features = \"CD226\")\n",
    "FeaturePlot(treg, features = \"CCR7\")\n",
    "FeaturePlot(treg, features = \"TNFRSF9\")\n",
    "FeaturePlot(treg, features = \"CCR10\")\n",
    "FeaturePlot(treg, features = \"MKI67\")"
   ]
  },
  {
   "cell_type": "code",
   "execution_count": null,
   "id": "cc34caa4",
   "metadata": {},
   "outputs": [],
   "source": [
    "FeaturePlot(treg, features = \"CTLA4\")\n",
    "FeaturePlot(treg, features = \"TIGIT\")"
   ]
  },
  {
   "cell_type": "code",
   "execution_count": null,
   "id": "6a009a9a",
   "metadata": {},
   "outputs": [],
   "source": [
    "FeaturePlot(treg, features = \"GZMK\")"
   ]
  },
  {
   "cell_type": "code",
   "execution_count": null,
   "id": "73da6b52",
   "metadata": {},
   "outputs": [],
   "source": []
  },
  {
   "cell_type": "code",
   "execution_count": null,
   "id": "0949251a",
   "metadata": {},
   "outputs": [],
   "source": [
    "mrk_treg  <- FindAllMarkers(treg)"
   ]
  },
  {
   "cell_type": "code",
   "execution_count": null,
   "id": "a5dd2e12",
   "metadata": {},
   "outputs": [],
   "source": [
    "DimPlot(treg, label = T)\n"
   ]
  },
  {
   "cell_type": "code",
   "execution_count": null,
   "id": "c65c2faa",
   "metadata": {
    "scrolled": true
   },
   "outputs": [],
   "source": [
    "FeaturePlot(treg, features = \"IL32\")\n",
    "FeaturePlot(treg, features = \"RP11-864N7.2\")\n"
   ]
  },
  {
   "cell_type": "code",
   "execution_count": null,
   "id": "f193ba59",
   "metadata": {
    "scrolled": true
   },
   "outputs": [],
   "source": [
    "FeaturePlot(treg, features = \"TRAC\")\n"
   ]
  },
  {
   "cell_type": "code",
   "execution_count": null,
   "id": "3f646c48",
   "metadata": {
    "scrolled": true
   },
   "outputs": [],
   "source": [
    "mrk_treg  %>% filter(cluster == 0 & avg_log2FC >0)"
   ]
  },
  {
   "cell_type": "code",
   "execution_count": null,
   "id": "3f673a41",
   "metadata": {
    "scrolled": true
   },
   "outputs": [],
   "source": [
    "mrk_treg  %>% filter(cluster == 3 & avg_log2FC >0)"
   ]
  },
  {
   "cell_type": "code",
   "execution_count": null,
   "id": "9dd812ed",
   "metadata": {},
   "outputs": [],
   "source": [
    "DimPlot(treg, label = T, group.by = \"COND\")\n"
   ]
  },
  {
   "cell_type": "code",
   "execution_count": null,
   "id": "99a1bede",
   "metadata": {},
   "outputs": [],
   "source": [
    "treg1  <- subset(treg, seurat_clusters == 1)"
   ]
  },
  {
   "cell_type": "markdown",
   "id": "353d579e",
   "metadata": {},
   "source": [
    "# Proper dataset evaluation"
   ]
  },
  {
   "cell_type": "code",
   "execution_count": null,
   "id": "e123e58c",
   "metadata": {},
   "outputs": [],
   "source": [
    "honardoostT  <- readRDS(\"../data/published_data/Honardoost_2024/honardoost_tcells.rds\")"
   ]
  },
  {
   "cell_type": "code",
   "execution_count": null,
   "id": "9f39d067",
   "metadata": {},
   "outputs": [],
   "source": [
    "DimPlot(honardoostT)"
   ]
  },
  {
   "cell_type": "code",
   "execution_count": null,
   "id": "dac1ccad",
   "metadata": {},
   "outputs": [],
   "source": [
    "mtx  <- honardoostT@assays$RNA@counts[which(!(grepl(rownames(honardoostT@assays$RNA@counts), pattern = \"MT-\")|\n",
    "             grepl(rownames(honardoostT@assays$RNA@counts), pattern = \"\\\\.\")|\n",
    "             grepl(rownames(honardoostT@assays$RNA@counts), pattern = \"^MIR\")|\n",
    "             grepl(rownames(honardoostT@assays$RNA@counts), pattern = \"^MT[RN]\")|\n",
    "             grepl(rownames(honardoostT@assays$RNA@counts), pattern = \"-AS\")|\n",
    "             grepl(rownames(honardoostT@assays$RNA@counts), pattern = \"LINC\")|\n",
    "             grepl(rownames(honardoostT@assays$RNA@counts), pattern = \"ORF\")|\n",
    "             grepl(rownames(honardoostT@assays$RNA@counts), pattern = \"^TR[AB]\")|\n",
    "             grepl(rownames(honardoostT@assays$RNA@counts), pattern = \"^RP[LS]\")|\n",
    "             grepl(rownames(honardoostT@assays$RNA@counts), pattern = \"\\\\-\")|\n",
    "             grepl(rownames(honardoostT@assays$RNA@counts), pattern = \"\\\\.\")|\n",
    "             grepl(rownames(honardoostT@assays$RNA@counts), pattern = \"mir\")) ),]"
   ]
  },
  {
   "cell_type": "code",
   "execution_count": null,
   "id": "8c8da131",
   "metadata": {
    "scrolled": true
   },
   "outputs": [],
   "source": [
    "mtx"
   ]
  },
  {
   "cell_type": "code",
   "execution_count": null,
   "id": "bbeb9cd9",
   "metadata": {},
   "outputs": [],
   "source": [
    "honar2  <- CreateSeuratObject(counts = mtx, meta.data = honardoostT@meta.data, min.cells = 3, min.features = 200)"
   ]
  },
  {
   "cell_type": "code",
   "execution_count": null,
   "id": "60c3a7f3",
   "metadata": {
    "scrolled": true
   },
   "outputs": [],
   "source": [
    "honar2 <- NormalizeData(honar2, verbose = FALSE)\n",
    "honar2 <- FindVariableFeatures(honar2, nfeatures = 1000, verbose = FALSE)\n",
    "honar2 <- ScaleData(honar2, verbose = FALSE)\n",
    "honar2 <- RunPCA(honar2, npcs = 20, verbose = FALSE)\n",
    "honar2 <- RunUMAP(honar2, reduction = \"pca\", dims = 1:20)\n",
    "honar2 <- FindNeighbors(honar2, dims = 1:12)\n",
    "honar2 <- FindClusters(honar2, resolution = 0.3)"
   ]
  },
  {
   "cell_type": "code",
   "execution_count": null,
   "id": "030dd17f",
   "metadata": {},
   "outputs": [],
   "source": [
    "DimPlot(honar2)"
   ]
  },
  {
   "cell_type": "code",
   "execution_count": null,
   "id": "c4329cb5",
   "metadata": {},
   "outputs": [],
   "source": [
    "FeaturePlot(honar2, features = \"CD4\")\n",
    "FeaturePlot(honar2, features = \"CD8A\")\n",
    "FeaturePlot(honar2, features = \"CD3D\")"
   ]
  },
  {
   "cell_type": "code",
   "execution_count": null,
   "id": "0e96653f",
   "metadata": {},
   "outputs": [],
   "source": [
    "FeaturePlot(honar2, features = \"FOXP3\")\n",
    "FeaturePlot(honar2, features = \"CD226\")\n",
    "FeaturePlot(honar2, features = \"CCR7\")\n",
    "FeaturePlot(honar2, features = \"TNFRSF9\")\n",
    "FeaturePlot(honar2, features = \"CCR10\")\n",
    "FeaturePlot(honar2, features = \"MKI67\")"
   ]
  },
  {
   "cell_type": "code",
   "execution_count": null,
   "id": "40937d82",
   "metadata": {},
   "outputs": [],
   "source": [
    "DimPlot(honar2, group.by = \"Cluster_Annotation_Merged\")"
   ]
  },
  {
   "cell_type": "code",
   "execution_count": null,
   "id": "6af4d767",
   "metadata": {
    "scrolled": true
   },
   "outputs": [],
   "source": [
    "DimPlot(honar2)"
   ]
  },
  {
   "cell_type": "code",
   "execution_count": null,
   "id": "fa695cc9",
   "metadata": {},
   "outputs": [],
   "source": [
    "mrk  <- FindAllMarkers(honar2)"
   ]
  },
  {
   "cell_type": "code",
   "execution_count": null,
   "id": "070e006a",
   "metadata": {
    "scrolled": true
   },
   "outputs": [],
   "source": [
    "mrk"
   ]
  },
  {
   "cell_type": "code",
   "execution_count": null,
   "id": "48f212ee",
   "metadata": {},
   "outputs": [],
   "source": [
    "options(repr.plot.height = 15, repr.plot.width = 20)\n",
    "for(i in 0:6){\n",
    "    print(paste(\"Cluster\",i))\n",
    "    genes  <- mrk  %>% dplyr::filter(cluster == i)  %>% slice_head(n = 12)  %>% pull(gene)\n",
    "    print(FeaturePlot(honar2, features = genes, ncol = 4))\n",
    "    }"
   ]
  },
  {
   "cell_type": "code",
   "execution_count": null,
   "id": "25e90387",
   "metadata": {},
   "outputs": [],
   "source": [
    "print(FeaturePlot(honar2, features = c(\"TRGC1\",\"TRDC\",\"TRGV9\",\"TRDC1\",\"GZMB\",\"GZMK\"), ncol = 4))"
   ]
  },
  {
   "cell_type": "code",
   "execution_count": null,
   "id": "246c7893",
   "metadata": {},
   "outputs": [],
   "source": [
    "gd  <- subset(honar2, seurat_clusters == 4)"
   ]
  },
  {
   "cell_type": "code",
   "execution_count": null,
   "id": "c4546533",
   "metadata": {},
   "outputs": [],
   "source": [
    "colnames(gd@meta.data)"
   ]
  },
  {
   "cell_type": "code",
   "execution_count": null,
   "id": "94d07581",
   "metadata": {},
   "outputs": [],
   "source": [
    "gd@meta.data  <- gd@meta.data  %>% separate(Sample_ID, into = c(\"Disease\", \"Patient_ID\"), sep = \"-\", remove = F)"
   ]
  },
  {
   "cell_type": "code",
   "execution_count": null,
   "id": "1185a3a9",
   "metadata": {},
   "outputs": [],
   "source": [
    "honar2@meta.data  <- honar2@meta.data  %>% separate(Sample_ID, into = c(\"Disease\", \"Patient_ID\"), sep = \"-\", remove = F)"
   ]
  },
  {
   "cell_type": "code",
   "execution_count": null,
   "id": "b522be5a",
   "metadata": {},
   "outputs": [],
   "source": [
    "DimPlot(honar2, group.by = \"LIB\")"
   ]
  },
  {
   "cell_type": "code",
   "execution_count": null,
   "id": "cb00e75d",
   "metadata": {},
   "outputs": [],
   "source": [
    "DimPlot(gd, group.by = \"Disease\")"
   ]
  },
  {
   "cell_type": "code",
   "execution_count": null,
   "id": "b8f10d5b",
   "metadata": {},
   "outputs": [],
   "source": [
    "FeaturePlot(gd, features = \"GZMB\")"
   ]
  },
  {
   "cell_type": "code",
   "execution_count": null,
   "id": "1a9bdbc8",
   "metadata": {},
   "outputs": [],
   "source": [
    "FeaturePlot(gd, features = \"GZMK\")"
   ]
  },
  {
   "cell_type": "markdown",
   "id": "b66b877d",
   "metadata": {},
   "source": [
    "# STACAS"
   ]
  },
  {
   "cell_type": "code",
   "execution_count": null,
   "id": "5db504fc",
   "metadata": {},
   "outputs": [],
   "source": [
    "honar2  <- SplitObject(honar2, split.by = \"LIB\")"
   ]
  },
  {
   "cell_type": "code",
   "execution_count": null,
   "id": "f81a27b2",
   "metadata": {
    "scrolled": true
   },
   "outputs": [],
   "source": [
    "# normalize and identify variable features for each dataset independently\n",
    "merged.list <- lapply(X = honar2, FUN = function(x) {\n",
    "    DefaultAssay(x)  <- \"RNA\"\n",
    "    x$barcode  <- colnames(x)\n",
    "    x <- NormalizeData(x)\n",
    "    x <- FindVariableFeatures(x, selection.method = \"vst\", nfeatures = 800)\n",
    "})\n",
    "\n",
    "honar2_stacas <- Run.STACAS(merged.list, dims = 1:12)\n",
    "honar2_stacas <- RunUMAP(honar2_stacas, dims = 1:12) "
   ]
  },
  {
   "cell_type": "code",
   "execution_count": null,
   "id": "6fbf10d9",
   "metadata": {},
   "outputs": [],
   "source": [
    "DimPlot(honar2_stacas)"
   ]
  },
  {
   "cell_type": "code",
   "execution_count": null,
   "id": "670fe291",
   "metadata": {},
   "outputs": [],
   "source": [
    "DimPlot(honar2_stacas, group.by = \"Cluster_Annotation_Merged\")"
   ]
  },
  {
   "cell_type": "code",
   "execution_count": null,
   "id": "45cb7b78",
   "metadata": {
    "scrolled": true
   },
   "outputs": [],
   "source": [
    "DimPlot(honar2_stacas, group.by = \"Cluster_Annotation_All\")"
   ]
  },
  {
   "cell_type": "code",
   "execution_count": null,
   "id": "80c87900",
   "metadata": {},
   "outputs": [],
   "source": [
    "FeaturePlot(honar2_stacas, features = \"FOXP3\", min.cutoff = 0)\n",
    "FeaturePlot(honar2_stacas, features = \"CD226\", min.cutoff = 0)\n",
    "FeaturePlot(honar2_stacas, features = \"CCR7\", min.cutoff = 0)\n",
    "FeaturePlot(honar2_stacas, features = \"TNFRSF9\", min.cutoff = 0)\n",
    "FeaturePlot(honar2_stacas, features = \"CCR10\", min.cutoff = 0)"
   ]
  },
  {
   "cell_type": "code",
   "execution_count": null,
   "id": "58a89e0a",
   "metadata": {},
   "outputs": [],
   "source": [
    "FeaturePlot(honar2_stacas, features = \"MKI67\", min.cutoff = 0)"
   ]
  },
  {
   "cell_type": "code",
   "execution_count": null,
   "id": "5dcec23a",
   "metadata": {},
   "outputs": [],
   "source": [
    "saveRDS(honar2_stacas, \"../data/published_data/Honardoost_2024/honar2_stacas.rds\")"
   ]
  }
 ],
 "metadata": {
  "kernelspec": {
   "display_name": "R",
   "language": "R",
   "name": "ir"
  },
  "language_info": {
   "codemirror_mode": "r",
   "file_extension": ".r",
   "mimetype": "text/x-r-source",
   "name": "R",
   "pygments_lexer": "r",
   "version": "4.4.2"
  },
  "toc": {
   "base_numbering": 1,
   "nav_menu": {},
   "number_sections": true,
   "sideBar": true,
   "skip_h1_title": false,
   "title_cell": "Table of Contents",
   "title_sidebar": "Contents",
   "toc_cell": false,
   "toc_position": {},
   "toc_section_display": true,
   "toc_window_display": true
  }
 },
 "nbformat": 4,
 "nbformat_minor": 5
}
