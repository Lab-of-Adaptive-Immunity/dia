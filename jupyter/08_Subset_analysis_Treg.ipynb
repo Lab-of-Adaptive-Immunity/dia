{
 "cells": [
  {
   "cell_type": "code",
   "execution_count": null,
   "id": "f741a879",
   "metadata": {
    "scrolled": true
   },
   "outputs": [],
   "source": [
    "source(\"diabetes_analysis_v07.R\")"
   ]
  },
  {
   "cell_type": "code",
   "execution_count": null,
   "id": "66651646",
   "metadata": {},
   "outputs": [],
   "source": [
    "plan(\"multisession\")"
   ]
  },
  {
   "cell_type": "markdown",
   "id": "740e7bd0",
   "metadata": {},
   "source": [
    "# Load data"
   ]
  },
  {
   "cell_type": "code",
   "execution_count": null,
   "id": "a8876f1c",
   "metadata": {},
   "outputs": [],
   "source": [
    "## CD4 All\n",
    "cd4_l2  <- readRDS(\"../data/processed/L2/cd4_subcluster.rds\")"
   ]
  },
  {
   "cell_type": "code",
   "execution_count": null,
   "id": "ec803f5c",
   "metadata": {},
   "outputs": [],
   "source": [
    "## CD4 Treg\n",
    "treg  <- readRDS(\"../data/processed/L3/cd4_l3_treg.rds\")"
   ]
  },
  {
   "cell_type": "code",
   "execution_count": null,
   "id": "c82457be",
   "metadata": {},
   "outputs": [],
   "source": [
    "treg@misc$cols_annotations  <- c( \"#e56381ff\",\"#fbca93ff\",   \"#a93d60ff\", \"#ffbdcbff\",\n",
    "                                 \"#f9dd60ff\", \"#66033cff\")[c(2,4,5,1)]\n",
    "\n",
    "treg@misc$dataset_name  <- \"treg\"\n",
    "\n",
    "treg@misc$all_md  <- cd4_l2@meta.data  %>% \n",
    "                            dplyr::select(Sample_ID, Condition,  \n",
    "                                          Disease, \n",
    "                                          Sex, Age, Age_group, Patient_ID, \n",
    "                                          Time, Experiment_ID)   %>% unique"
   ]
  },
  {
   "cell_type": "markdown",
   "id": "a9c64d5a",
   "metadata": {},
   "source": [
    "## Projection on L2 CD4 subcluster"
   ]
  },
  {
   "cell_type": "code",
   "execution_count": null,
   "id": "21d1c1c8",
   "metadata": {},
   "outputs": [],
   "source": [
    "md_to_join  <- treg@meta.data  %>% dplyr::select(barcode, treg_annotations = annotations_manual)"
   ]
  },
  {
   "cell_type": "code",
   "execution_count": null,
   "id": "9a219a86",
   "metadata": {},
   "outputs": [],
   "source": [
    "cd4_l2$annotations_manual  %>% table"
   ]
  },
  {
   "cell_type": "code",
   "execution_count": null,
   "id": "9fc26314",
   "metadata": {},
   "outputs": [],
   "source": [
    "cd4_l2@meta.data  <- cd4_l2@meta.data  %>% left_join(md_to_join)\n",
    "rownames(cd4_l2@meta.data)  <- colnames(cd4_l2)"
   ]
  },
  {
   "cell_type": "code",
   "execution_count": null,
   "id": "b28785e7",
   "metadata": {},
   "outputs": [],
   "source": [
    "treg@misc$cols_annotations"
   ]
  },
  {
   "cell_type": "code",
   "execution_count": null,
   "id": "c01d1a1c",
   "metadata": {
    "scrolled": true
   },
   "outputs": [],
   "source": [
    "options(repr.plot.width = 10, repr.plot.height = 7.5)\n",
    "\n",
    "DimPlot(cd4_l2, group.by = \"treg_annotations\", cols = treg@misc$cols_annotations)"
   ]
  },
  {
   "cell_type": "markdown",
   "id": "25f5c274",
   "metadata": {},
   "source": [
    "## Treg score on L2 map"
   ]
  },
  {
   "cell_type": "code",
   "execution_count": null,
   "id": "74eb6c08",
   "metadata": {},
   "outputs": [],
   "source": [
    "#GSE15659_TREG_VS_TCONV_UP\n",
    "treg_module  <- c(\n",
    "'ABT1', 'ADM2', 'AFTPH', 'CRYBG2', 'ALDH3B2', 'ALG13', 'AMPD1', 'APOE', 'ARG1', 'ARHGAP12', 'ATP1B4', 'AVP', \n",
    "'GPRASP3', 'BIRC2', 'BOK', 'BTBD2', 'BUB3', 'LINC01553', 'ARMH3', 'C11orf71', 'RGCC', 'INTS14', 'KXD1', 'C1QC', 'OSER1', \n",
    "'LINC01620', 'LINC01549', 'C2orf16', 'C4orf46', 'SMIM15', 'SSMEM1', 'CAMK2D', 'CAMKV', 'ITPRID1', 'CD27', 'CDK7', 'CDKAL1', \n",
    "'CEACAM21', 'CEACAM6', 'CHMP1B', 'CLIC4', 'CMA1', 'DAXX', 'DEFB119', 'DHX8', 'DLGAP3', 'DMD', 'DNAJC14', 'DPT', 'DUOX1', \n",
    "'EIF1B', 'ENDOU', 'SELENOI', 'EXOSC9', 'FAM124A', 'BRINP3', 'GARIN3', 'FCGR1A', 'FGG',  'FMNL2',  'GAL', 'GALNT1', \n",
    "'GALNT8', 'GALNT16', 'GAPDHS', 'GDPD1', 'GHDC', 'GNA12', 'GPR161', 'GSDMC', 'GUCY2F', 'GXYLT2', 'HCN3', 'HES1', 'HFM1', \n",
    "'HIGD1B', 'H3C2', 'HLA-DPB2', 'PLAAT5', 'HSPA2', 'INPP5J', 'ITM2C', 'JOSD1', 'KLHDC3', 'KNCN', 'LCE3D', 'LEFTY1', \n",
    "'LGR4', 'LHX2', 'LIPJ', 'PLPPR5-AS1', 'HMGN3-AS1', 'NKX2-1-AS1', 'TNFRSF14-AS1', 'LINC01107', \n",
    "'RBAKDN', 'LINC02139', 'HTATSF1P2', 'LRATD1', 'KIAA2012-AS1', 'PRSS59P', 'FAM238B', 'LRRC56', 'LRRCC1', 'MADD', \n",
    "'MAF1', 'MAST3', 'MFAP3L', 'MMP15', 'MOSPD2', 'MSL2', 'MTPAP', 'NAF1', 'NANOS3', 'NAT8B', 'LINC00269', 'NEBL', \n",
    "'NTM', 'OR5I1', 'OR5L2', 'PAK5', 'PALM', 'PAPOLG', 'PCP4', 'PKDREJ', 'PLK3', 'PNCK', 'PRKAB1', 'PRSS58', 'PRTG', \n",
    "'PTP4A1', 'PTPRZ1', 'EPRS1', 'RAB11FIP4', 'RABEP1', 'RASSF9', 'RHBDL2', 'RNF121', 'RNF183', 'RNF20', 'MRM3', 'ROBO1', \n",
    "'ROS1', 'RPA1', 'RTN4', 'S1PR3', 'SCN7A', 'SDC3', 'SDHAF1', 'SDHAF2', 'SEPTIN4', 'SEPTIN7P2', 'SH3PXD2B', 'SLC17A4', \n",
    "'SLC1A2', 'SLC2A10', 'SLC2A13', 'SLC39A10', 'SLC43A1', 'SLC5A8', 'SNORA71A', 'SNORA71B', 'SREBF2', 'SYCP2L', 'SYNPO2', \n",
    "'TBC1D14', 'TCN2', 'THAP1', 'TLK2', 'TMEM59L', 'TNFRSF10A', 'TOPORS', 'TREML1', 'TRPV5', \n",
    "'TSC2', 'UBAC1', 'UBAP2L', 'UBE2Z', 'UPRT', 'VTCN1', 'WFDC3', 'WWP1', 'WWTR1-AS1', 'XIST', 'ZFP57', 'ZNF214', 'ZNF221', \n",
    "'ZNF345', 'ZNF597', 'ZNF622', 'ZNF765', 'ZNF846', 'ZRANB1'\n",
    ")"
   ]
  },
  {
   "cell_type": "code",
   "execution_count": null,
   "id": "1d894fce",
   "metadata": {},
   "outputs": [],
   "source": [
    "table(treg_module %in% rownames(cd4_l2@assays$RNA))"
   ]
  },
  {
   "cell_type": "code",
   "execution_count": null,
   "id": "7b87bd7b",
   "metadata": {},
   "outputs": [],
   "source": [
    "which(treg_module %in% rownames(cd4_l2@assays$RNA))"
   ]
  },
  {
   "cell_type": "code",
   "execution_count": null,
   "id": "b30dc24a",
   "metadata": {},
   "outputs": [],
   "source": [
    "# Genes from comparison Treg vs Naive in our data\n",
    "treg_gene_sig  <- c('S100A4', 'FOXP3', 'ITGB1', 'AHNAK', 'TIGIT', 'ANXA2', 'IL10RA',                     'TNFRSF1B', 'GBP5', 'LGALS1', 'RTKN2', 'CTLA4', 'S100A10', 'IL32',                     'FCRL3', 'IL2RA', 'CLIC1', 'KLF6', 'ANXA5', 'SYNE2', 'S100A11',                     'CD74', 'CRIP1', 'EZR', 'NIBAN1', 'FLNA', 'NCF4', 'PRDM1', 'LGALS3', \n",
    "                    'CAPN2', 'ARID5B', 'SH3BGRL3', 'CST7', 'ISG20', 'MYO1F', 'LMNA',                    'HLA-DRB5', 'TENT5C', 'GAPDH', 'MTHFD2', 'FANK1', 'HLA-DQA1',                     'IL2RB', 'IKZF2', 'SRGN', 'STAM', 'CLDND1', 'DUSP4', 'BIRC3',                     'SAT1', 'PBXIP1', 'HLA-DRB1', 'HLA-DPA1', 'TNFRSF4', 'SHMT2',                     'TAGLN2', 'PLP2', 'ACTN4', 'DUSP1', 'RORA', 'CD99', 'GLCCI1', \n",
    "                    'CARD16', 'PTTG1', 'TSPAN5', 'TAP1', 'OPTN', 'EIF3A', 'ELOVL5',                    'LSR', 'GSTK1', 'ZFP36', 'TIFA', 'BATF', 'EMP3', 'TSC22D3', 'OGDH',                    'HLA-DPB1', 'CCDC50', 'LIMS1', 'RAB11FIP1', 'TRAC', 'CD84', 'CAST',                     'PYHIN1', 'JPT1', 'MPST', 'SAMSN1', 'ZC2HC1A', 'PMAIP1', 'S100A6', \n",
    "                    'PI16', 'OAS1', 'PPP1R18', 'NCR3', 'CD58', 'DOK2', 'BCL2L11',                     'SMAD3', 'GBP2', 'SYT11', 'PPP2R5C', 'PPP1R15A', 'RGS1', 'RAB37',                     'REEP5', 'IKZF3', 'RNF214', 'IRF1', 'ANTKMT', 'PRDX1', 'IQGAP2', 'MT2A',                     'TNFRSF18', 'FAS', 'DUSP2', 'CCDC167', 'HLA-DRA', 'PELI1', 'JUNB', 'LGALS9', \n",
    "                    'ZBTB38', 'SPTAN1', 'SMS', 'PARP1', 'MCL1', 'DYNLL1', 'HERC5', 'CDC25B',                     'SLC9A3R1', 'MYO1G', 'TPR', 'JUN', 'ID3', 'TPI1', 'RILPL2', 'CCR6',                     'YWHAH', 'PTGER2', 'HNRNPLL', 'PREX1', 'PSMB9', 'MYH9', 'CORO1B', 'SLAMF1',                     'SIT1', 'NPDC1', 'PHACTR2', 'ST8SIA6', 'ATP2B4', 'IL18R1', 'TRIM22', 'HLA-DQB1', \n",
    "                    'F5', 'TBC1D4', 'MAF', 'ATP2B1', 'C4orf48', 'GALM', 'C12orf75', 'CPA5',                     'PPP1CA', 'S1PR4', 'PDE4DIP', 'GATA3', 'GLIPR2', 'CHST7', 'CXCR4', 'H1-4',                     'GADD45B', 'RESF1', 'IER2', 'ISG15', 'CDC42EP3', 'PCBD1', 'LYST', 'TPM4',                     'TAB2', 'NINJ2', 'ALOX5AP', 'CCR4', 'FCER1G', 'MAP3K1', 'CXCR3', 'CD59',                     'SLFN5', 'CCNG2', 'ITGA4', 'SESN1', 'SPATS2L', 'HPGD', 'EFHD2', 'LIMA1',                     'BCL2', 'RABGAP1L', 'TOX', 'SAMD9', 'TXN', 'IFI16', 'IDS', 'TRIB2', 'CDHR3',                     'PALM2AKAP2', 'ICA1', 'LPAR6', 'KLRB1', 'SMC6', 'ITM2C', 'CEACAM4', 'PRF1', \n",
    "                    'CD63', 'AHR', 'IQGAP1', 'GADD45A', 'ADAM8', 'GLIPR1', 'VAV3', 'EPSTI1',                     'GPRIN3', 'POU2F2', 'SH2D2A', 'DENND10', 'MAP4', 'CCR10', 'PTPN18', 'IER5', \n",
    "                    'GPR183', 'LAIR2', 'CTSC', 'TTN', 'NR4A2', 'SESN3', 'CPNE2', 'MX1')\n"
   ]
  },
  {
   "cell_type": "code",
   "execution_count": null,
   "id": "5bac7f93",
   "metadata": {},
   "outputs": [],
   "source": [
    "#GSE15659_NAIVE_CD4_TCELL_VS_ACTIVATED_TREG_DN\n",
    "NAIVE_CD4_TCELL_VS_ACTIVATED_TREG_DN  <- c('LINC00310', 'PPM1K', 'PPP2R1A', 'PPP2R5A', 'PPP4R2', 'DESI2', 'PRAMEF12', 'PRDM1', 'PRDX4', 'PRG3', 'PRKAG3', 'PRRG3', 'PSEN1', 'PSMA2', 'PSMA6', 'PSMG2', 'PSRC1', 'PTH2R', 'PTPN18', 'PVR', 'NECTIN4', 'PXDNL', 'PYHIN1', 'RAB2B', 'RAB8B', 'RAMP1', 'RANBP9', 'RANGRF', 'RAP2B', 'RASD1', 'RBM28', 'RBPMS', 'RD3', 'REM2', 'RENBP', 'RGS17', 'RGS4', 'RHBDL2', 'RHOC', 'RHOH', 'RNF10', 'RNF113A', 'RNF167', 'RNF19A', 'RNF214', 'ROCK1', 'ROPN1B', 'ROS1', 'RPE65', 'RPL26L1', 'RRM1', 'RSPH1', 'RSPH10B2', 'RTP1', 'RTP3', 'RUSC1', 'S100A16', 'S1PR2', 'SAGE1', 'SAP30BP', 'SARS2', 'SCARF2', 'SCEL', 'SCGB3A2', 'SCN8A', 'SCO2', 'SEC23B', 'SEC24D', 'SEMA4A', 'SEMA6A', 'SEMA7A', 'SEPHS2', 'SEPTIN3', '', 'SF3B4', 'SGO2', 'SH2D1A', 'SHB', 'SHISA6', 'SHMT2', 'SLC16A11', 'SLC22A1', 'SLC22A18', 'SLC25A2', 'SLC35F3', 'SLC39A1', 'SLC39A7', 'SLC41A1', 'SLC43A3', 'SLC44A3', 'SLC45A1', 'SLC4A2', 'SLC4A9', 'SLC6A7', 'SLC9A5', 'SLC9A8', 'SLFNL1', 'SNAI2', 'SNAP91', 'SNED1', 'SNORA65', 'SNRNP40', 'SNX3', 'SOX11', 'SOX2-OT', 'SPATA12', 'SPATA5L1', 'SPATC1', 'SPATS2L', 'SPDYA', 'SRL', 'SSR2', 'DENND2B', 'ST7-AS1', 'STARD4', 'STK16', 'STK25', 'STK32A', 'SYN2', 'TAS2R9', 'TBC1D4', 'TBCCD1', 'TBX3', 'TCP10L3', 'TDRD7', 'TFF2', 'THBS2', 'THRB', 'TIMM17A', 'TINF2', 'TK1', 'TLCD1', 'TLR4', 'TMBIM1', 'TMCO5A', 'TMEM125', 'TMEM126A', 'ARHGAP42', 'TMEM158', 'STING1', 'TMEM208', 'EMC4', 'TNF', 'TOMM22', 'TOP3A', 'TOR1AIP1', 'TP53I13', 'TP53INP2', 'TP63', 'TPI1', 'TPMT', 'TPSAB1', 'TRAK1', 'TRAPPC6B', 'TRIM16', 'TRIML1', 'TRIP12', 'TRPM6', 'TSNAX', 'GFUS', 'TTC33', 'TTC7A', 'TTL', 'U2AF1', 'UBE2J1', 'UBE2U', 'UBE4B', 'UBL3', 'UBL7', '', 'UGT2B17', 'LINC01121', 'USP43', 'UTS2B', 'VAMP3', 'WARS1', 'WDHD1', 'DNAAF10', 'GET1', 'ZAN', 'ZBED6', 'ZC3H13', 'ZCCHC13', 'ZFAND5', 'ZFP36L1', 'ZIC1', 'ZMIZ2', 'ZNF142', 'ZNF277', 'ZNF28', 'ZNF324B', 'ZNF34', 'ZNF394', 'ZNF414', 'ZNF557', 'ZNF596', 'ZNF861P', 'POLR1H', 'ZPBP2', 'ZSCAN29'\n",
    ")"
   ]
  },
  {
   "cell_type": "code",
   "execution_count": null,
   "id": "1060c987",
   "metadata": {},
   "outputs": [],
   "source": [
    "Idents(cd4_l2)  <- cd4_l2$annotations_manual"
   ]
  },
  {
   "cell_type": "code",
   "execution_count": null,
   "id": "10584d7e",
   "metadata": {},
   "outputs": [],
   "source": [
    "mrk_treg  <- FindMarkers(cd4_l2, `ident.1` = \"Treg\")"
   ]
  },
  {
   "cell_type": "code",
   "execution_count": null,
   "id": "e1e7c300",
   "metadata": {
    "scrolled": true
   },
   "outputs": [],
   "source": [
    " mrk_treg  %>% arrange(desc(avg_log2FC))  %>% slice_head(n = 200)"
   ]
  },
  {
   "cell_type": "code",
   "execution_count": null,
   "id": "ad8b42e6",
   "metadata": {
    "scrolled": true
   },
   "outputs": [],
   "source": [
    "treg_mrk_our_data  <- mrk_treg  %>% arrange(desc(avg_log2FC))  %>% slice_head(n = 200)  %>% \n",
    "rownames_to_column(\"gene\") %>% pull(gene)"
   ]
  },
  {
   "cell_type": "code",
   "execution_count": null,
   "id": "bd689308",
   "metadata": {},
   "outputs": [],
   "source": [
    "treg_mrk_our_data"
   ]
  },
  {
   "cell_type": "code",
   "execution_count": null,
   "id": "97800898",
   "metadata": {},
   "outputs": [],
   "source": [
    "#GSE15659_NAIVE_CD4_TCELL_VS_RESTING_TREG_DN\n",
    "NAIVE_CD4_TCELL_VS_RESTING_TREG_DN  <- c('CCDC97', 'CTNS', 'RAB17', 'RAB35', 'RAB8B', 'RAB9A', 'RAMP1', 'RANBP9', 'RASD1', 'RGPD5', 'RGS17', 'RHBDL2', 'RHOC', 'RHOH', 'RIPPLY2', 'RND2', 'RNF113A', 'RNF19A', 'ROS1', 'RPL3L', 'RRM1', 'RSPH10B2', 'RTP1', 'RTP3', 'RUSC1', 'S100A16', 'S1PR2', 'SAGE1', 'SAMSN1', 'SAP30BP', 'SARS2', 'SCAMP5', 'SCARF2', 'SCGB3A2', 'SCN8A', 'SCO2', 'SDCCAG3', 'SECISBP2', 'SEMA4A', 'SEMA6A', 'SEMA7A', 'SEPT3', 'SERHL2', 'SERPINA9', 'SERPINB10', 'SETD6', 'SF3B4', 'SGOL2', 'SHB', 'SHE', 'SHMT2', 'SKI', 'SLC16A11', 'SLC22A1', 'SLC22A18', 'SLC24A6', 'SLC25A2', 'SLC26A11', 'SLC26A3', 'SLC43A2', 'SLC43A3', 'SLC4A11', 'SLC4A2', 'SLC6A7', 'SLC9A5', 'SLFNL1', 'SNAI3', 'SNAP91', 'SNCA', 'SNHG12', 'SNHG4', 'SNORA65', 'SOX2OT', 'SP6', 'SPACA7', 'SPATA12', 'SPATA2', 'SPATA22', 'SPATC1', 'SPATS2L', 'SPCS2', 'SPDYA', 'SRL', 'SSR2', 'ST7-AS1', 'STARD4', 'STC2', 'STK16', 'STK25', 'STK32A', 'SULT1B1', 'SYN2', 'TAS2R9', 'TBCCD1', 'TCEAL8', 'TCN2', 'TFF2', 'TGIF2LY', 'THBD', 'THBS2', 'THRB', 'TIFAB', 'TIMM23B', 'TINF2', 'TK1', 'TLCD1', 'TLL2', 'TLN2', 'TLX3', 'TMCO5A', 'TMCO6', 'TMEM125', 'TMEM133', 'TMEM139', 'TMEM158', 'TMEM208', 'TMEM70', 'TMLHE', 'TNF', 'TNFSF12', 'TNNC1', 'TNR', 'TOP3A', 'TP53', 'TP53I13', 'TP63', 'TPMT', 'TPR', 'TRABD', 'TRAK1', 'TREX1', 'TRIM36', 'TRIM54', 'TRPM6', 'TSNARE1', 'TTC12', 'TTC7A', 'TTL', 'TTLL12', 'TTLL13', 'TTTY13', 'TTTY15', 'TYSND1', 'UBE2D1', 'UBE2U', 'UBE4B', 'UBL3', 'UBL7', 'UG0898H09', 'UNQ6975', 'USP11', 'USP7', 'UTP23', 'UTS2D', 'VASN', 'VCPIP1', 'VEGFB', 'VENTXP1', 'VSTM1', 'WARS', 'WDR33', 'WDR74', 'WDR89', 'WDR90', 'WDR92', 'WFS1', 'WISP3', 'WNT9B', 'YIPF2', 'YRDC', 'ZAN', 'ZCCHC13', 'ZIC1', 'ZMIZ2', 'ZMYND11', 'ZNF131', 'ZNF142', 'ZNF187', 'ZNF193', 'ZNF200', 'ZNF268', 'ZNF28', 'ZNF285', 'ZNF34', 'ZNF385D', 'ZNF430', 'ZNF432', 'ZNF44', 'ZNF530', 'ZNF579', 'ZNF585B', 'ZNF596', 'ZNF643', 'ZNF644', 'ZNF665', 'ZNF678', 'ZNF861P', 'ZNRF2', 'ZSCAN12', 'ZSCAN29')"
   ]
  },
  {
   "cell_type": "code",
   "execution_count": null,
   "id": "2d1a7171",
   "metadata": {},
   "outputs": [],
   "source": [
    "colnames(cd4_l2@meta.data@meta.data)"
   ]
  },
  {
   "cell_type": "code",
   "execution_count": null,
   "id": "062f75ad",
   "metadata": {},
   "outputs": [],
   "source": [
    "DefaultAssay(cd4_l2)  <- \"RNA\""
   ]
  },
  {
   "cell_type": "code",
   "execution_count": null,
   "id": "4f309398",
   "metadata": {},
   "outputs": [],
   "source": [
    "cd4_l2  <- AddModuleScore(cd4_l2, features = NAIVE_CD4_TCELL_VS_RESTING_TREG_DN[which(NAIVE_CD4_TCELL_VS_RESTING_TREG_DN %in% rownames(cd4_l2@assays$RNA))],\n",
    "                                   search = T,\n",
    "  ctrl = 50,\n",
    "  nbin = 50,\n",
    "  assay = \"RNA\",\n",
    "  name = 'treg_module')"
   ]
  },
  {
   "cell_type": "code",
   "execution_count": null,
   "id": "597c52fd",
   "metadata": {
    "scrolled": true
   },
   "outputs": [],
   "source": [
    "cd4_l2  <- AddModuleScore(cd4_l2, features = treg_module[which(treg_module %in% rownames(cd4_l2@assays$RNA))],\n",
    "                                   search = T,\n",
    "  ctrl = 50,\n",
    "  nbin = 50,\n",
    "  assay = \"RNA\",\n",
    "  name = 'treg_module')"
   ]
  },
  {
   "cell_type": "code",
   "execution_count": null,
   "id": "fc60d4e1",
   "metadata": {},
   "outputs": [],
   "source": [
    "cd4_l2  <- AddModuleScore(cd4_l2, features = treg_mrk_our_data,\n",
    "                                   search = F,\n",
    "  ctrl = 50,\n",
    "  nbin = 50,\n",
    "  assay = \"RNA\",\n",
    "  name = 'treg_mrk_our_data')"
   ]
  },
  {
   "cell_type": "code",
   "execution_count": null,
   "id": "55ca0a10",
   "metadata": {},
   "outputs": [],
   "source": [
    "cd4_l2  <- AddModuleScore(cd4_l2, features = NAIVE_CD4_TCELL_VS_RESTING_TREG_DN[which(NAIVE_CD4_TCELL_VS_RESTING_TREG_DN %in% rownames(cd4_l2@assays$RNA))],\n",
    "                                   search = T,\n",
    "  ctrl = 50,\n",
    "  nbin = 50,\n",
    "  assay = \"RNA\",\n",
    "  name = 'NAIVE_CD4_TCELL_VS_RESTING_TREG_DN')"
   ]
  },
  {
   "cell_type": "code",
   "execution_count": null,
   "id": "204f8cd5",
   "metadata": {},
   "outputs": [],
   "source": [
    "cd4_l2  <- AddModuleScore(cd4_l2, features = treg_gene_sig,\n",
    "                                   search = F,\n",
    "  ctrl = 50,\n",
    "  nbin = 50,\n",
    "  assay = \"RNA\",\n",
    "  name = 'treg_gene_sig')"
   ]
  },
  {
   "cell_type": "code",
   "execution_count": null,
   "id": "e6fc47d3",
   "metadata": {},
   "outputs": [],
   "source": [
    "VlnPlot(cd4_l2, features = \"treg_mrk_our_data1\", pt.size = 0, group.by = \"annotations_manual\")"
   ]
  },
  {
   "cell_type": "code",
   "execution_count": null,
   "id": "6b593d93",
   "metadata": {},
   "outputs": [],
   "source": [
    "VlnPlot(cd4_l2, features = \"treg_gene_sig1\", pt.size = 0, group.by = \"annotations_manual\")"
   ]
  },
  {
   "cell_type": "code",
   "execution_count": null,
   "id": "3c1b4520",
   "metadata": {},
   "outputs": [],
   "source": [
    "VlnPlot(cd4_l2, features = \"treg_module1\", pt.size = 0, group.by = \"annotations_manual\")"
   ]
  },
  {
   "cell_type": "code",
   "execution_count": null,
   "id": "d2e44a6d",
   "metadata": {},
   "outputs": [],
   "source": [
    "FeaturePlot(cd4_l2,  features = \"treg_module1\", min.cutoff = 2)"
   ]
  },
  {
   "cell_type": "code",
   "execution_count": null,
   "id": "410d0307",
   "metadata": {},
   "outputs": [],
   "source": [
    "FeaturePlot(cd4_l2,  features = \"treg_gene_sig1\")"
   ]
  },
  {
   "cell_type": "code",
   "execution_count": null,
   "id": "56ba770f",
   "metadata": {},
   "outputs": [],
   "source": [
    "FeaturePlot(cd4_l2,  features = \"NAIVE_CD4_TCELL_VS_RESTING_TREG_DN1\")"
   ]
  },
  {
   "cell_type": "code",
   "execution_count": null,
   "id": "a02d0114",
   "metadata": {},
   "outputs": [],
   "source": [
    "options(repr.plot.width = 16, repr.plot.height = 7.5)\n",
    "FeaturePlot(cd4_l2,  features = c(\"NR4A1\",\"NR4A3\",\"CCR8\",\"IKZF2\",\"TNFRSF18\",\"IRF4\"), ncol = 3)"
   ]
  },
  {
   "cell_type": "code",
   "execution_count": null,
   "id": "c61c7d5c",
   "metadata": {},
   "outputs": [],
   "source": []
  },
  {
   "cell_type": "code",
   "execution_count": null,
   "id": "b678ec05",
   "metadata": {},
   "outputs": [],
   "source": [
    "cd4_l2@meta.data  <- cd4_l2@meta.data  %>% mutate(\n",
    "    annotations_treg_and_all = if_else(annotations_manual == \"Treg\",\n",
    "                                          treg_annotations,\n",
    "                                          annotations_manual)) "
   ]
  },
  {
   "cell_type": "code",
   "execution_count": null,
   "id": "8b806191",
   "metadata": {},
   "outputs": [],
   "source": []
  },
  {
   "cell_type": "code",
   "execution_count": null,
   "id": "f8e4c6dd",
   "metadata": {},
   "outputs": [],
   "source": [
    "options(repr.plot.width = 10, repr.plot.height = 7.5)\n",
    "\n",
    "DimPlot(cd4_l2, group.by = \"treg_annotations\")"
   ]
  },
  {
   "cell_type": "code",
   "execution_count": null,
   "id": "2de8665a",
   "metadata": {},
   "outputs": [],
   "source": [
    "DimPlot(cd4_l2, group.by = \"annotations_treg_and_all\")"
   ]
  },
  {
   "cell_type": "code",
   "execution_count": null,
   "id": "ee751291",
   "metadata": {
    "scrolled": true
   },
   "outputs": [],
   "source": [
    "options(repr.plot.width = 10, repr.plot.height = 7.5)\n",
    "\n",
    "VlnPlot(cd4_l2, features = \"treg_mrk_our_data1\", pt.size = 0, group.by = \"annotations_treg_and_all\")\n",
    "\n",
    "VlnPlot(cd4_l2, features = \"treg_gene_sig1\", pt.size = 0, group.by = \"annotations_treg_and_all\")\n",
    "\n",
    "VlnPlot(cd4_l2, features = \"treg_module1\", pt.size = 0, group.by = \"annotations_treg_and_all\")\n",
    "\n",
    "VlnPlot(cd4_l2, features = \"NAIVE_CD4_TCELL_VS_RESTING_TREG_DN1\", pt.size = 0, group.by = \"annotations_treg_and_all\")"
   ]
  },
  {
   "cell_type": "code",
   "execution_count": null,
   "id": "c4b1d32d",
   "metadata": {},
   "outputs": [],
   "source": []
  },
  {
   "cell_type": "code",
   "execution_count": null,
   "id": "164aa00f",
   "metadata": {},
   "outputs": [],
   "source": [
    "seurat_meta_data$annotations_treg_and_all_sample  %>% table"
   ]
  },
  {
   "cell_type": "code",
   "execution_count": null,
   "id": "4e6f718d",
   "metadata": {},
   "outputs": [],
   "source": [
    "pull(seurat_meta_data, sample)  %>% unique"
   ]
  },
  {
   "cell_type": "code",
   "execution_count": null,
   "id": "4bd53e9a",
   "metadata": {
    "scrolled": true
   },
   "outputs": [],
   "source": [
    "# Extract the dataframe with seurat metadata\n",
    "cd4_l2$annotations_treg_and_all_sample  <- paste(cd4_l2$annotations_treg_and_all, cd4_l2$Sample_ID)\n",
    "seurat_meta_data <- cd4_l2@meta.data\n",
    "seurat_meta_data$sample <- seurat_meta_data$annotations_treg_and_all_sample\n",
    "\n",
    "# Select genes of interest\n",
    "# The script only works for two or more genes, you can't select just one!\n",
    "gene_hits <- c(\"FOXP3\", \"IL2RB\", \"IL2RA\", \"TIGIT\", \n",
    "               \"CTLA4\", \"IL10RA\", \"NR4A1\", \"NR4A3\", \n",
    "               \"IKZF2\", \"CCR4\", \"IZUMO1R\")\n",
    "\n",
    "# By default the percentage of calculated cells is computed for whole sample\n",
    "# Optionally, you can select a cluster that you're interested in by subsetting:\n",
    "# pbmc_small <- subset(pbmc_small, seurat_clusters == 3)\n",
    "\n",
    "\n",
    "# Now we will calculate the percentage of expressing cells for each sample and we will merge the resulting dataframes\n",
    "expr_data4 <- data.frame(genes = gene_hits)\n",
    "\n",
    "# We will need a function that will convert any non-zero count to value 1\n",
    "fns_replace <- function(x){ifelse(x>0,1,0)}\n",
    "\n",
    "for(j in (pull(seurat_meta_data, sample)  %>% unique)){\n",
    "  \n",
    "  # subset only selected cell type\n",
    "  seu_sub_sample <- subset(cd4_l2, annotations_treg_and_all_sample == j) \n",
    "  \n",
    "  # select the rows corresponding to genes of interest\n",
    "  index_subset <- which(rownames(seu_sub_sample@assays$RNA@counts) %in% gene_hits)\n",
    "  \n",
    "  # create a dataframe with genes of interest and cells of interest\n",
    "  expr_data <- as.data.frame(seu_sub_sample@assays$RNA@counts[index_subset,]) \n",
    "  \n",
    "  # convert expression to binary values\n",
    "  expr_data2 <- expr_data %>% mutate(across(.fns = fns_replace))\n",
    "  rownames(expr_data2) <- rownames(expr_data)\n",
    "  \n",
    "  # calculate average expresion (percentage of cells expressing the gene)\n",
    "  expr_data3 <- rowMeans(expr_data2)\n",
    "  \n",
    "  # add zeroes in cases of no expression\n",
    "  for(k in gene_hits){\n",
    "    if(k %in% names(expr_data3) == F){expr_data3[[k]] <- 0}\n",
    "  }\n",
    "  \n",
    "  expr_data3 <- as.data.frame(expr_data3)\n",
    "  colnames(expr_data3) <- j\n",
    "  expr_data3$genes <- rownames(expr_data3)\n",
    "  \n",
    "  # final dataframe with values in correct order (all cell type, loop results)\n",
    "  expr_data4 <- left_join(expr_data4, expr_data3, by=\"genes\")\n",
    "  \n",
    "}\n",
    "\n",
    "# Now we have the whole dataframe, we just need to tidy it a bit, add metadata and visualize\n",
    "\n",
    "expr_data5 <- as.data.frame(t(expr_data4))\n",
    "colnames(expr_data5) <- expr_data5[1,]\n",
    "expr_data5 <- expr_data5[2:nrow(expr_data5),]\n",
    "expr_data5$sample <- rownames(expr_data5)\n",
    "expr_data5 <- expr_data5 %>% pivot_longer( !sample, names_to = \"gene\", values_to = \"pct_express\")\n",
    "\n",
    "# Add metadata per sample - select those that you will use in the plot below\n",
    "md_to_join <- seurat_meta_data %>% dplyr::select(sample = annotations_treg_and_all_sample)  %>% \n",
    "unique() %>% mutate(sample = as.character(sample))\n",
    "md2 <- left_join(expr_data5, md_to_join, by = \"sample\") %>% ungroup %>% unique\n",
    "\n"
   ]
  },
  {
   "cell_type": "code",
   "execution_count": null,
   "id": "623feb9b",
   "metadata": {
    "scrolled": true
   },
   "outputs": [],
   "source": [
    "md2"
   ]
  },
  {
   "cell_type": "code",
   "execution_count": null,
   "id": "b592426b",
   "metadata": {},
   "outputs": [],
   "source": [
    "options(repr.plot.width = 30, repr.plot.height = 16)\n",
    "\n",
    "md2 %>% \n",
    "pivot_wider(names_from = \"gene\", values_from = \"pct_express\", values_fill = \"0\")  %>% \n",
    "pivot_longer(cols = c(2:8), names_to = \"gene\", values_to = \"pct_express\")  %>% \n",
    "mutate(sample_id = substr(sample,nchar(sample)-3,nchar(sample)))  %>% \n",
    "mutate(population = substr(sample,1,nchar(sample)-4))  %>% \n",
    "\n",
    "ggplot(aes(x = population, y = as.numeric(pct_express))) + \n",
    " geom_violin(alpha = 0.3, aes(fill = population), scale = \"width\") + \n",
    " \n",
    "geom_beeswarm(size = 1.5, aes(fill = population), cex = 2, \n",
    "                shape = 21, color = \"grey40\",corral = \"random\") +\n",
    " stat_summary(fun = \"median\",\n",
    "               geom = \"crossbar\", \n",
    "               width = 0.75,\n",
    "               color = \"grey30\") +\n",
    " #stat_compare_means(label = \"p.format\", comparisons = list(c(1,2))) +\n",
    "  theme_minimal() + \n",
    "  facet_wrap(~gene, scales = \"free\", ncol = 5) + \n",
    "  ylim(c(0,NA)) +\n",
    "#ggpubr::stat_compare_means()+\n",
    "  ylab(\"Percentage of expressing cells\") +\n",
    "  theme_classic() + ggtheme() +\n",
    " theme(legend.title = element_blank(),axis.text.x = element_text(angle = 90)) \n",
    "\n",
    "#ggsave(\"../figures/scRNAseq_gd_characterization.svg\", width = 13, height = 9)"
   ]
  },
  {
   "cell_type": "code",
   "execution_count": null,
   "id": "660db284",
   "metadata": {},
   "outputs": [],
   "source": [
    "md2  %>% pull(gene)  %>% unique  "
   ]
  },
  {
   "cell_type": "code",
   "execution_count": null,
   "id": "9db0db41",
   "metadata": {},
   "outputs": [],
   "source": [
    "md2 %>% \n",
    "pivot_wider(names_from = \"gene\", values_from = \"pct_express\", values_fill = \"0\")  %>% colnames()"
   ]
  },
  {
   "cell_type": "code",
   "execution_count": null,
   "id": "49c0e784",
   "metadata": {},
   "outputs": [],
   "source": []
  },
  {
   "cell_type": "code",
   "execution_count": null,
   "id": "d555eb0d",
   "metadata": {},
   "outputs": [],
   "source": [
    "options(repr.plot.width = 25, repr.plot.height = 8)\n",
    "md2 %>% \n",
    "pivot_wider(names_from = \"gene\", values_from = \"pct_express\", values_fill = \"0\")  %>% \n",
    "pivot_longer(cols = c(2:7), names_to = \"gene\", values_to = \"pct_express\")  %>% \n",
    "mutate(sample_id = substr(sample,nchar(sample)-3,nchar(sample)))  %>% \n",
    "mutate(population = substr(sample,1,nchar(sample)-4))  %>% \n",
    "dplyr::filter(grepl(population, pattern = \"Treg\")|population == \"Naive\")  %>% \n",
    "\n",
    "ggplot(aes(x = population, y = as.numeric(pct_express))) + \n",
    " geom_violin(alpha = 0.7, aes(fill = population), scale = \"width\") + \n",
    " \n",
    "#geom_beeswarm(size = 1.5, aes(fill = population), cex = 2, \n",
    "#                shape = 21, color = \"grey40\",corral = \"random\") +\n",
    " stat_summary(fun = \"median\",\n",
    "               geom = \"crossbar\", \n",
    "               width = 0.75,\n",
    "               color = \"grey20\") +\n",
    " #stat_compare_means(label = \"p.format\", comparisons = list(c(1,2))) +\n",
    "scale_fill_manual(values = c(\"grey50\",treg@misc$cols_annotations[c(3,1,2,4)]))+\n",
    "scale_color_manual(values = c(\"grey50\",treg@misc$cols_annotations[c(3,1,2,4)]))+\n",
    "\n",
    "  theme_minimal() + \n",
    "  facet_wrap(~gene, scales = \"free\", ncol = 7) + \n",
    "  ylim(c(0,NA)) +\n",
    "#ggpubr::stat_compare_means()+\n",
    "  ylab(\"Percentage of expressing cells\") +\n",
    "  theme_classic() + ggtheme() +\n",
    " theme(legend.title = element_blank(),axis.text.x = element_text(angle = 90)) "
   ]
  },
  {
   "cell_type": "code",
   "execution_count": null,
   "id": "2ecad2e8",
   "metadata": {},
   "outputs": [],
   "source": [
    "ggsave(filename = \"../figures/subset_characterization/treg_genes_violin.svg\", \n",
    "      width = 50, height = 18, units = \"cm\", create.dir = TRUE)"
   ]
  },
  {
   "cell_type": "markdown",
   "id": "f110d262",
   "metadata": {},
   "source": [
    "## Frequency plot figure"
   ]
  },
  {
   "cell_type": "code",
   "execution_count": null,
   "id": "14e97ab9",
   "metadata": {},
   "outputs": [],
   "source": [
    "treg_subset  <- subset(treg, Condition %in% c(\"Ctrl T0\", \"Dia T0\", \"Dia T1\") & Experiment_ID %in% c(\"Exp16\", \"Exp18\", \"Exp19\", \"Exp20\")) "
   ]
  },
  {
   "cell_type": "code",
   "execution_count": null,
   "id": "f510f016",
   "metadata": {
    "scrolled": true
   },
   "outputs": [],
   "source": [
    "df4  <- create_df4(treg_subset)"
   ]
  },
  {
   "cell_type": "code",
   "execution_count": null,
   "id": "649bbfe8",
   "metadata": {
    "scrolled": true
   },
   "outputs": [],
   "source": [
    "df4"
   ]
  },
  {
   "cell_type": "code",
   "execution_count": null,
   "id": "29abd4f8",
   "metadata": {},
   "outputs": [],
   "source": [
    " p5  <-   df4  %>% \n",
    "filter(Experiment_ID %in% c(\"Exp16\", \"Exp18\", \"Exp19\", \"Exp20\"))  %>% \n",
    "  ggplot(aes(x = Condition, y = freq*100)) + # you can change the x to whatever variable you're interested in\n",
    "   geom_violin(alpha = 0.3, aes(fill = Condition)) +\n",
    "  stat_summary(fun = \"median\",\n",
    "               geom = \"crossbar\", \n",
    "               width = 0.75,\n",
    "               color = \"grey30\") +\n",
    "   scale_fill_manual(values = c(\"#1874cdff\",  \"#ee6363ff\", \"#c41515ff\",\"#eeb4b4ff\")) +\n",
    "scale_color_manual(values = c(\"dodgerblue3\",  \"#e54c4cff\", \"#aa2a2aff\",\"#e88989ff\")) +\n",
    "geom_beeswarm(size = 3, cex = 3, \n",
    "              color = \"black\", method = \"center\",\n",
    "             aes(fill = Condition), shape = 21) +\n",
    "   facet_wrap(~annotations_manual, scales = \"free\", ncol = 9) +\n",
    "  ylab(\"Frequency\") +\n",
    "  xlab(\"Condition\") +\n",
    "  theme_classic() +\n",
    "ggtheme() +\n",
    "ggpubr::stat_compare_means(label.x= 1.5, \n",
    "                           size = 7, vjust = -1, label = \"p.format\", comparisons = list(c(1,2)))+\n",
    "ggtheme() +\n",
    " scale_y_continuous(limits = c(0,NA), expand = c(0.05,0,0,10)) +\n",
    "  theme(strip.background = element_blank(), panel.grid = element_blank()) + \n",
    "  theme(axis.text = element_text(color = \"black\"),\n",
    "        axis.text.x = element_text(angle = 90),\n",
    "       axis.line = element_line(color = \"black\", size = 0.5),\n",
    "        axis.ticks.x = element_blank()) + NoLegend() + ggtitle(\"Final data all groups\")\n",
    "ncols = length(levels(factor(df4$annotations_manual)))"
   ]
  },
  {
   "cell_type": "code",
   "execution_count": null,
   "id": "8390d9b2",
   "metadata": {},
   "outputs": [],
   "source": [
    "options(repr.plot.width = 9, repr.plot.height = 7)\n",
    "p5"
   ]
  },
  {
   "cell_type": "code",
   "execution_count": null,
   "id": "d1f04566",
   "metadata": {},
   "outputs": [],
   "source": [
    "ggsave(\"../figures/subset_characterization/treg_subsets_in_condition.svg\",\n",
    "       width = 25, height = 12, units = \"cm\")"
   ]
  },
  {
   "cell_type": "code",
   "execution_count": null,
   "id": "cccf530a",
   "metadata": {
    "scrolled": true
   },
   "outputs": [],
   "source": [
    "df4"
   ]
  },
  {
   "cell_type": "code",
   "execution_count": null,
   "id": "028aefb1",
   "metadata": {},
   "outputs": [],
   "source": [
    "    p5  <-   df4  %>% \n",
    "filter(Experiment_ID %in% c(\"Exp16\", \"Exp18\", \"Exp19\", \"Exp20\"))  %>% \n",
    "dplyr::filter(Patient_ID != \"116\")  %>% \n",
    "  ggplot(aes(x = Condition, y = freq*100)) + # you can change the x to whatever variable you're interested in\n",
    "   geom_violin(alpha = 0.3, aes(fill = Condition)) +\n",
    "  stat_summary(fun = \"median\",\n",
    "               geom = \"crossbar\", \n",
    "               width = 0.75,\n",
    "               color = \"grey30\") +\n",
    "   scale_fill_manual(values = c(\"#1874cdff\",  \"#ee6363ff\", \"#c41515ff\",\"#eeb4b4ff\")) +\n",
    "scale_color_manual(values = c(\"dodgerblue3\",  \"#e54c4cff\", \"#aa2a2aff\",\"#e88989ff\")) +\n",
    "geom_beeswarm(size = 3, cex = 3, \n",
    "              color = \"black\", method = \"center\",\n",
    "             aes(fill = Condition), shape = 21) +\n",
    "   facet_wrap(~annotations_manual, scales = \"free\", ncol = 9) +\n",
    "  ylab(\"Frequency\") +\n",
    "  xlab(\"Condition\") +\n",
    "  theme_classic() +\n",
    "ggtheme() +\n",
    "ggpubr::stat_compare_means(label.x= 1.5, \n",
    "                           size = 7, vjust = -1, label = \"p.format\", comparisons = list(c(2,3)), paired = TRUE)+\n",
    "ggtheme() +\n",
    " scale_y_continuous(limits = c(0,NA), expand = c(0.05,0,0,10)) +\n",
    "  theme(strip.background = element_blank(), panel.grid = element_blank()) + \n",
    "  theme(axis.text = element_text(color = \"black\"),\n",
    "        axis.text.x = element_text(angle = 90),\n",
    "       axis.line = element_line(color = \"black\", size = 0.5),\n",
    "        axis.ticks.x = element_blank()) + NoLegend() + ggtitle(\"Final data all groups\")\n",
    "ncols = length(levels(factor(df4$annotations_manual)))"
   ]
  },
  {
   "cell_type": "code",
   "execution_count": null,
   "id": "004de707",
   "metadata": {},
   "outputs": [],
   "source": [
    "options(repr.plot.width = 9, repr.plot.height = 7)\n",
    "p5"
   ]
  },
  {
   "cell_type": "code",
   "execution_count": null,
   "id": "9c317d2a",
   "metadata": {},
   "outputs": [],
   "source": [
    "### Ratio"
   ]
  },
  {
   "cell_type": "markdown",
   "id": "3eaae0de",
   "metadata": {},
   "source": [
    "## Treg density"
   ]
  },
  {
   "cell_type": "code",
   "execution_count": null,
   "id": "c919d32a",
   "metadata": {},
   "outputs": [],
   "source": [
    "density  <- treg_subset@meta.data  %>% dplyr::select(Sample_ID, Condition)\n",
    "\n",
    "density$x_umap  <- treg_subset@reductions$umap@cell.embeddings[,1]\n",
    "density$y_umap  <- treg_subset@reductions$umap@cell.embeddings[,2]\n",
    "\n",
    "\n",
    "library(ggplot2)\n",
    "library(dplyr)\n",
    "library(viridis)\n",
    "\n",
    "colfunc <- colorRampPalette(c(\"white\", \"grey85\",\"grey75\",\"dodgerblue\",\"green\",\"yellow\",\"red\"))\n"
   ]
  },
  {
   "cell_type": "code",
   "execution_count": null,
   "id": "fbf56dfc",
   "metadata": {},
   "outputs": [],
   "source": [
    "options(repr.plot.width = 10, repr.plot.height = 5)\n",
    "\n",
    "p1  <- density %>%\n",
    "filter(Condition == \"Dia T0\")  %>% \n",
    "  ggplot(aes(x=x_umap, y= y_umap)) + \n",
    " geom_point(shape = \"\")  + geom_density_2d_filled(bins = 30)  + \n",
    "theme_classic() + ggtheme() +\n",
    "xlim(-10,10)+  ylim(-8,8) +\n",
    "scale_fill_manual(values = colfunc(30))  + \n",
    "ggtitle(\"Dia T0\") + NoLegend()\n",
    "\n",
    "p2   <-   density %>%\n",
    "filter(Condition == \"Ctrl T0\")  %>% \n",
    "  ggplot(aes(x=x_umap, y= y_umap)) + \n",
    " geom_point(shape = \"\")  + geom_density_2d_filled(bins = 30)  + \n",
    "theme_classic() + ggtheme() +\n",
    "xlim(-10,10)+  ylim(-8,8) +\n",
    "scale_fill_manual(values = colfunc(30))  + \n",
    "ggtitle(\"Ctrl T0\") + NoLegend()\n",
    "\n",
    "\n",
    "p1 + p2"
   ]
  },
  {
   "cell_type": "code",
   "execution_count": null,
   "id": "e38c79b1",
   "metadata": {},
   "outputs": [],
   "source": [
    "options(repr.plot.width = 14, repr.plot.height = 5)\n",
    "\n",
    "p1  <- density %>%\n",
    "filter(Condition == \"Dia T0\")  %>% \n",
    "  ggplot(aes(x=x_umap, y= y_umap)) + \n",
    " geom_point(shape = \"\")  + geom_density_2d_filled(bins = 30)  + \n",
    "theme_classic() + ggtheme() +\n",
    "xlim(-10,10)+  ylim(-8,8) +\n",
    "scale_fill_manual(values = colfunc(30))  + \n",
    "ggtitle(\"Dia T0\") + NoLegend()"
   ]
  },
  {
   "cell_type": "code",
   "execution_count": null,
   "id": "a1c67b18",
   "metadata": {},
   "outputs": [],
   "source": [
    "p2   <-   density %>%\n",
    "filter(Condition == \"Ctrl T0\")  %>% \n",
    "  ggplot(aes(x=x_umap, y= y_umap)) + \n",
    " geom_point(shape = \"\")  + geom_density_2d_filled(bins = 30)  + \n",
    "theme_classic() + ggtheme() +\n",
    "xlim(-10,10)+  ylim(-8,8) +\n",
    "scale_fill_manual(values = colfunc(30))  + \n",
    "ggtitle(\"Ctrl T0\") + NoLegend()"
   ]
  },
  {
   "cell_type": "code",
   "execution_count": null,
   "id": "7301d9f9",
   "metadata": {},
   "outputs": [],
   "source": [
    "p3  <-  density %>%\n",
    "filter(Condition == \"Dia T1\")  %>% \n",
    "  ggplot(aes(x=x_umap, y= y_umap)) + \n",
    " geom_point(shape = \"\")  + geom_density_2d_filled(bins = 30)  + \n",
    "theme_classic() + ggtheme() +\n",
    "xlim(-10,10)+  ylim(-8,8) +\n",
    "scale_fill_manual(values = colfunc(30))  + \n",
    "ggtitle(\"Dia T1\") + NoLegend()"
   ]
  },
  {
   "cell_type": "code",
   "execution_count": null,
   "id": "5fc91948",
   "metadata": {},
   "outputs": [],
   "source": [
    "options(repr.plot.width = 14, repr.plot.height = 5)\n",
    "p1 + p2 + p3"
   ]
  },
  {
   "cell_type": "code",
   "execution_count": null,
   "id": "b98afbd2",
   "metadata": {},
   "outputs": [],
   "source": [
    "options(repr.plot.width = 14, repr.plot.height = 5)\n",
    "\n",
    "p1 + geom_vline(xintercept = 6.8) + \n",
    "geom_vline(xintercept = 2.8) + \n",
    "geom_hline(yintercept = -1.5) + \n",
    "geom_hline(yintercept = -5) + p2 + \n",
    "geom_vline(xintercept = 6.8) + \n",
    "geom_vline(xintercept = 2.8) + \n",
    "geom_hline(yintercept = -1.5) + \n",
    "geom_hline(yintercept = -5) + p3 +\n",
    "geom_vline(xintercept = 6.8) + \n",
    "geom_vline(xintercept = 2.8) + \n",
    "geom_hline(yintercept = -1.5) + \n",
    "geom_hline(yintercept = -5) "
   ]
  },
  {
   "cell_type": "code",
   "execution_count": null,
   "id": "7139e38c",
   "metadata": {},
   "outputs": [],
   "source": [
    "treg_subset$umap1  <- treg_subset@reductions$umap@cell.embeddings[,1]\n",
    "treg_subset$umap2  <- treg_subset@reductions$umap@cell.embeddings[,2]\n"
   ]
  },
  {
   "cell_type": "code",
   "execution_count": null,
   "id": "3138bf66",
   "metadata": {},
   "outputs": [],
   "source": [
    "treg_subset$cells_in_gate  <- ifelse(treg_subset$umap1 < 6.8 & treg_subset$umap1 > 2.8 &\n",
    "                                     treg_subset$umap2 < -1.5 & treg_subset$umap2 > -5,\n",
    "                                     \"gate\",\"no_gate\")"
   ]
  },
  {
   "cell_type": "code",
   "execution_count": null,
   "id": "5e4ba651",
   "metadata": {},
   "outputs": [],
   "source": [
    "DimPlot(treg_subset, group.by = \"cells_in_gate\")"
   ]
  },
  {
   "cell_type": "code",
   "execution_count": null,
   "id": "fbbd8599",
   "metadata": {
    "scrolled": true
   },
   "outputs": [],
   "source": [
    "df4"
   ]
  },
  {
   "cell_type": "code",
   "execution_count": null,
   "id": "36b9e2a9",
   "metadata": {},
   "outputs": [],
   "source": [
    "seurat_meta_data <- treg_subset@meta.data\n",
    "\n",
    "# Create grouped dataframe, calculate the frequencies of clusters\n",
    "df4 <- seurat_meta_data %>% group_by(Sample_ID, cells_in_gate) %>% \n",
    "  summarise(n = n()) %>% \n",
    "  unique() %>% \n",
    "  mutate(freq = n / sum(n)) \n",
    "\n",
    "# Control - all sums should be one\n",
    "#df4 %>% group_by(Sample_ID) %>% summarise(sum = sum(freq))\n",
    "\n",
    "# As we've lost non-grouping variables, let's join them back\n",
    "md_to_join <- seurat_meta_data %>% dplyr::select(Sample_ID, Condition, Disease, Patient_ID) %>% unique()\n",
    "df4  <- left_join(df4, md_to_join, by = \"Sample_ID\")\n",
    "\n",
    "# add zero which was not added to table\n",
    "pt_454_gate  <- df4  %>% filter(freq == 1)\n",
    "pt_454_gate$cells_in_gate  <- \"gate\"\n",
    "pt_454_gate$n  <- 0\n",
    "pt_454_gate$freq  <- 0\n",
    "\n",
    "df4  <- rbind(df4, pt_454_gate)"
   ]
  },
  {
   "cell_type": "code",
   "execution_count": null,
   "id": "be6e3df2",
   "metadata": {},
   "outputs": [],
   "source": [
    "options(repr.plot.width = 7.5, repr.plot.height = 4)\n",
    "# The final plot\n",
    "\n",
    "df4 %>% ggplot(aes(x = Condition, y = freq)) + # you can change the x to whatever variable you're interested in\n",
    "    geom_violin(alpha = 0.3, aes(fill = Condition)) +\n",
    "  stat_summary(fun = \"median\",\n",
    "               geom = \"crossbar\", \n",
    "               width = 0.75,\n",
    "               color = \"grey30\") +\n",
    "   scale_fill_manual(values = c(\"#1874cdff\",  \"#ee6363ff\", \"#c41515ff\",\"#eeb4b4ff\")) +\n",
    "scale_color_manual(values = c(\"dodgerblue3\",  \"#e54c4cff\", \"#aa2a2aff\",\"#e88989ff\")) +\n",
    "geom_beeswarm(size = 3, cex = 3, \n",
    "              color = \"black\", method = \"center\",\n",
    "             aes(fill = Condition), shape = 21) +\n",
    "facet_wrap(~cells_in_gate, scales = \"free\") +\n",
    "  ylab(\"Frequency\") +\n",
    "  xlab(\"Condition\") +\n",
    "  ylim(c(-0.001,NA)) + # This ensures that our x axis starts at zero, but feel free to remove this line\n",
    "  theme_classic() +\n",
    "  theme(strip.background = element_blank(), panel.grid = element_blank()) + \n",
    "stat_compare_means(comparisons = list(c(1,2))) + ggtheme() + NoLegend()\n",
    "ggsave(\"../figures/subset_characterization/treg_gate.svg\",\n",
    "       width = 14, height = 10, units = \"cm\")"
   ]
  },
  {
   "cell_type": "code",
   "execution_count": null,
   "id": "266158ae",
   "metadata": {},
   "outputs": [],
   "source": [
    "df4 %>% dplyr::filter(Patient_ID != 116)  %>% \n",
    "ggplot(aes(x = Condition, y = freq)) + # you can change the x to whatever variable you're interested in\n",
    "    geom_violin(alpha = 0.3, aes(fill = Condition)) +\n",
    "  stat_summary(fun = \"median\",\n",
    "               geom = \"crossbar\", \n",
    "               width = 0.75,\n",
    "               color = \"grey30\") +\n",
    "   scale_fill_manual(values = c(\"#1874cdff\",  \"#ee6363ff\", \"#c41515ff\",\"#eeb4b4ff\")) +\n",
    "scale_color_manual(values = c(\"dodgerblue3\",  \"#e54c4cff\", \"#aa2a2aff\",\"#e88989ff\")) +\n",
    "geom_beeswarm(size = 3, cex = 3, \n",
    "              color = \"black\", method = \"center\",\n",
    "             aes(fill = Condition), shape = 21) +\n",
    "facet_wrap(~cells_in_gate, scales = \"free\") +\n",
    "  ylab(\"Frequency\") +\n",
    "  xlab(\"Condition\") +\n",
    "  ylim(c(-0.001,NA)) + # This ensures that our x axis starts at zero, but feel free to remove this line\n",
    "  theme_classic() +\n",
    "  theme(strip.background = element_blank(), panel.grid = element_blank()) + \n",
    "stat_compare_means(comparisons = list(c(2,3)), paired = TRUE) + ggtheme()"
   ]
  },
  {
   "cell_type": "code",
   "execution_count": null,
   "id": "bd8d5af1",
   "metadata": {},
   "outputs": [],
   "source": [
    "options(repr.plot.width = 14, repr.plot.height = 5)\n",
    "\n",
    "p1 + geom_vline(xintercept = -4) + \n",
    "geom_vline(xintercept = -8) + \n",
    "geom_hline(yintercept = 0.5) + \n",
    "geom_hline(yintercept = 4.5) + p2 + \n",
    "geom_vline(xintercept = -4) + \n",
    "geom_vline(xintercept = -8) + \n",
    "geom_hline(yintercept = 0.5) + \n",
    "geom_hline(yintercept = 4.5) + p3 +\n",
    "geom_vline(xintercept = -4) + \n",
    "geom_vline(xintercept = -8) + \n",
    "geom_hline(yintercept = 0.5) + \n",
    "geom_hline(yintercept = 4.5) "
   ]
  },
  {
   "cell_type": "code",
   "execution_count": null,
   "id": "80b3114c",
   "metadata": {},
   "outputs": [],
   "source": [
    "treg_subset$umap1  <- treg_subset@reductions$umap@cell.embeddings[,1]\n",
    "treg_subset$umap2  <- treg_subset@reductions$umap@cell.embeddings[,2]\n"
   ]
  },
  {
   "cell_type": "code",
   "execution_count": null,
   "id": "79b286ff",
   "metadata": {},
   "outputs": [],
   "source": [
    "treg_subset$cells_in_gate  <- ifelse(treg_subset$umap1 < -4 & treg_subset$umap1 > -8 &\n",
    "                                     treg_subset$umap2 < 4.25 & treg_subset$umap2 > 0.75,\n",
    "                                     \"gate\",\"no_gate\")"
   ]
  },
  {
   "cell_type": "code",
   "execution_count": null,
   "id": "46723dcf",
   "metadata": {},
   "outputs": [],
   "source": [
    "DimPlot(treg_subset, group.by = \"cells_in_gate\")"
   ]
  },
  {
   "cell_type": "code",
   "execution_count": null,
   "id": "0857da6c",
   "metadata": {},
   "outputs": [],
   "source": [
    "seurat_meta_data <- treg_subset@meta.data\n",
    "\n",
    "# Create grouped dataframe, calculate the frequencies of clusters\n",
    "df4 <- seurat_meta_data %>% group_by(Sample_ID, cells_in_gate) %>% \n",
    "  summarise(n = n()) %>% \n",
    "  unique() %>% \n",
    "  mutate(freq = n / sum(n)) \n",
    "\n",
    "# Control - all sums should be one\n",
    "#df4 %>% group_by(Sample_ID) %>% summarise(sum = sum(freq))\n",
    "\n",
    "# As we've lost non-grouping variables, let's join them back\n",
    "md_to_join <- seurat_meta_data %>% dplyr::select(Sample_ID, Condition, Disease, Patient_ID) %>% unique()\n",
    "df4  <- left_join(df4, md_to_join, by = \"Sample_ID\")\n",
    "\n",
    "# add zero which was not added to table\n",
    "pt_454_gate  <- df4  %>% filter(freq == 1)\n",
    "pt_454_gate$cells_in_gate  <- \"gate\"\n",
    "pt_454_gate$n  <- 0\n",
    "pt_454_gate$freq  <- 0\n",
    "\n",
    "df4  <- rbind(df4, pt_454_gate)"
   ]
  },
  {
   "cell_type": "code",
   "execution_count": null,
   "id": "cf817eb3",
   "metadata": {},
   "outputs": [],
   "source": [
    "options(repr.plot.width = 7.5, repr.plot.height = 4)\n",
    "# The final plot\n",
    "\n",
    "df4 %>% ggplot(aes(x = Condition, y = freq)) + # you can change the x to whatever variable you're interested in\n",
    "    geom_violin(alpha = 0.3, aes(fill = Condition)) +\n",
    "  stat_summary(fun = \"median\",\n",
    "               geom = \"crossbar\", \n",
    "               width = 0.75,\n",
    "               color = \"grey30\") +\n",
    "   scale_fill_manual(values = c(\"#1874cdff\",  \"#ee6363ff\", \"#c41515ff\",\"#eeb4b4ff\")) +\n",
    "scale_color_manual(values = c(\"dodgerblue3\",  \"#e54c4cff\", \"#aa2a2aff\",\"#e88989ff\")) +\n",
    "geom_beeswarm(size = 3, cex = 3, \n",
    "              color = \"black\", method = \"center\",\n",
    "             aes(fill = Condition), shape = 21) +\n",
    "facet_wrap(~cells_in_gate, scales = \"free\") +\n",
    "  ylab(\"Frequency\") +\n",
    "  xlab(\"Condition\") +\n",
    "  ylim(c(-0.001,NA)) + # This ensures that our x axis starts at zero, but feel free to remove this line\n",
    "  theme_classic() +\n",
    "  theme(strip.background = element_blank(), panel.grid = element_blank()) + \n",
    "stat_compare_means(comparisons = list(c(1,2))) + ggtheme()\n",
    "\n",
    "df4 %>% dplyr::filter(Patient_ID != 116)  %>% \n",
    "ggplot(aes(x = Condition, y = freq)) + # you can change the x to whatever variable you're interested in\n",
    "    geom_violin(alpha = 0.3, aes(fill = Condition)) +\n",
    "  stat_summary(fun = \"median\",\n",
    "               geom = \"crossbar\", \n",
    "               width = 0.75,\n",
    "               color = \"grey30\") +\n",
    "   scale_fill_manual(values = c(\"#1874cdff\",  \"#ee6363ff\", \"#c41515ff\",\"#eeb4b4ff\")) +\n",
    "scale_color_manual(values = c(\"dodgerblue3\",  \"#e54c4cff\", \"#aa2a2aff\",\"#e88989ff\")) +\n",
    "geom_beeswarm(size = 3, cex = 3, \n",
    "              color = \"black\", method = \"center\",\n",
    "             aes(fill = Condition), shape = 21) +\n",
    "facet_wrap(~cells_in_gate, scales = \"free\") +\n",
    "  ylab(\"Frequency\") +\n",
    "  xlab(\"Condition\") +\n",
    "  ylim(c(-0.001,NA)) + # This ensures that our x axis starts at zero, but feel free to remove this line\n",
    "  theme_classic() +\n",
    "  theme(strip.background = element_blank(), panel.grid = element_blank()) + \n",
    "stat_compare_means(comparisons = list(c(2,3)), paired = TRUE) + ggtheme()"
   ]
  },
  {
   "cell_type": "code",
   "execution_count": null,
   "id": "5f5567bc",
   "metadata": {},
   "outputs": [],
   "source": [
    "### Ratio"
   ]
  },
  {
   "cell_type": "code",
   "execution_count": null,
   "id": "c4f4371c",
   "metadata": {},
   "outputs": [],
   "source": []
  },
  {
   "cell_type": "code",
   "execution_count": null,
   "id": "625ec601",
   "metadata": {},
   "outputs": [],
   "source": []
  },
  {
   "cell_type": "code",
   "execution_count": null,
   "id": "84d8bef5",
   "metadata": {},
   "outputs": [],
   "source": []
  },
  {
   "cell_type": "code",
   "execution_count": null,
   "id": "86eec6c6",
   "metadata": {},
   "outputs": [],
   "source": []
  },
  {
   "cell_type": "code",
   "execution_count": null,
   "id": "c5ed2c98",
   "metadata": {},
   "outputs": [],
   "source": [
    "df  <- treg_subset@meta.data  %>% dplyr::select(Patient_ID, Sample_ID, 23:25, 77:138, 140:147, Condition)  %>% unique"
   ]
  },
  {
   "cell_type": "code",
   "execution_count": null,
   "id": "c6bca29e",
   "metadata": {},
   "outputs": [],
   "source": [
    "nrow(df)"
   ]
  },
  {
   "cell_type": "code",
   "execution_count": null,
   "id": "48e323c9",
   "metadata": {},
   "outputs": [],
   "source": [
    "df5  <- df4  %>% filter(cells_in_gate == \"no_gate\")  %>% dplyr::select(Sample_ID, freq)"
   ]
  },
  {
   "cell_type": "code",
   "execution_count": null,
   "id": "35e69247",
   "metadata": {},
   "outputs": [],
   "source": [
    "df  <- left_join(df, df5)"
   ]
  },
  {
   "cell_type": "code",
   "execution_count": null,
   "id": "7bf44adf",
   "metadata": {},
   "outputs": [],
   "source": [
    "colnames(df)"
   ]
  },
  {
   "cell_type": "code",
   "execution_count": null,
   "id": "30d5298c",
   "metadata": {},
   "outputs": [],
   "source": [
    "which(colnames(df)==\"znt8_man\")"
   ]
  },
  {
   "cell_type": "code",
   "execution_count": null,
   "id": "3bc1b0fb",
   "metadata": {},
   "outputs": [],
   "source": [
    "i = 21\n",
    "df_filt  <- df  %>% dplyr::select(freq, i, Condition)\n",
    "    colnames(df_filt)[2]  <- \"value\"\n",
    "      p  <-   ggplot(df_filt, aes(x = as.numeric(freq), y = as.numeric(value), color = Condition)) + \n",
    "    geom_point() + ggtitle(colnames(df)[i]) + stat_cor()\n",
    "    print(p)"
   ]
  },
  {
   "cell_type": "code",
   "execution_count": null,
   "id": "a9e3bb82",
   "metadata": {},
   "outputs": [],
   "source": [
    "options(repr.plot.width = 8, repr.plot.height = 5)\n",
    "\n",
    "for(i in 3:length(colnames(df))-2){\n",
    "    df_filt  <- df  %>% dplyr::select(freq, i, Condition)\n",
    "    colnames(df_filt)[2]  <- \"value\"\n",
    "      p  <-   ggplot(df_filt, aes(x = as.numeric(freq), y = as.factor(value), color = Condition)) + \n",
    "    geom_point() + ggtitle(colnames(df)[i])\n",
    "    print(p)\n",
    "    \n",
    "}"
   ]
  },
  {
   "cell_type": "code",
   "execution_count": null,
   "id": "e3739c98",
   "metadata": {},
   "outputs": [],
   "source": []
  },
  {
   "cell_type": "code",
   "execution_count": null,
   "id": "266c4cdc",
   "metadata": {},
   "outputs": [],
   "source": [
    "ggsave(\"../figures/treg/density_plot.png\", width = 20, height = 10, units = \"cm\")\n",
    "ggsave(\"../figures/treg/density_plot.svg\", width = 20, height = 10, units = \"cm\")"
   ]
  },
  {
   "cell_type": "code",
   "execution_count": null,
   "id": "e04837bd",
   "metadata": {},
   "outputs": [],
   "source": [
    "DefaultAssay(treg)  <- \"integrated\"\n",
    "treg  <- FindNeighbors(treg)\n",
    "treg  <- FindClusters(treg, resolution = 0.3)"
   ]
  },
  {
   "cell_type": "code",
   "execution_count": null,
   "id": "eb77acf0",
   "metadata": {},
   "outputs": [],
   "source": [
    "options(repr.plot.width = 6, repr.plot.height = 5)\n",
    "DimPlot(treg)"
   ]
  },
  {
   "cell_type": "code",
   "execution_count": null,
   "id": "b3695ffd",
   "metadata": {},
   "outputs": [],
   "source": [
    "treg@misc$cols_annotations  <- c( \"#e56381ff\",\"#fbca93ff\",   \"#a93d60ff\", \"#ffbdcbff\",\n",
    "                                 \"#f9dd60ff\", \"#66033cff\")[c(2,4,5,1)]\n",
    "\n",
    "\n",
    "treg@misc$dataset_name  <- \"treg\"\n",
    "\n",
    "treg@misc$all_md  <- treg@meta.data  %>% \n",
    "                            dplyr::select(Sample_ID, Condition,  \n",
    "                                          Disease, \n",
    "                                          Sex, Age, Age_group, Patient_ID, \n",
    "                                          Time, Experiment_ID)   %>% unique"
   ]
  },
  {
   "cell_type": "code",
   "execution_count": null,
   "id": "ed4c5a95",
   "metadata": {},
   "outputs": [],
   "source": [
    "treg$annotations_manual  <- recode_factor(treg$seurat_clusters, \n",
    "                                          \"0\" = \"Treg2\",\n",
    "                                          \"1\" = \"Treg3\",\n",
    "                                          \"2\" = \"Treg1\",\n",
    "                                          \"3\" = \"Treg4\")"
   ]
  },
  {
   "cell_type": "code",
   "execution_count": null,
   "id": "b8a0c3bc",
   "metadata": {},
   "outputs": [],
   "source": [
    "options(repr.plot.width = 6, repr.plot.height = 5)\n",
    "DimPlot(treg, cols = treg@misc$cols_annotations, group.by = \"annotations_manual\")"
   ]
  },
  {
   "cell_type": "code",
   "execution_count": null,
   "id": "5d211c52",
   "metadata": {
    "scrolled": true
   },
   "outputs": [],
   "source": [
    "df4  <- create_df4(treg)"
   ]
  },
  {
   "cell_type": "code",
   "execution_count": null,
   "id": "4dd3d777",
   "metadata": {},
   "outputs": [],
   "source": [
    "df5  <- df4  %>% pivot_wider(names_from = \"annotations_manual\", values_from = \"freq\") "
   ]
  },
  {
   "cell_type": "code",
   "execution_count": null,
   "id": "2f1d3584",
   "metadata": {
    "scrolled": true
   },
   "outputs": [],
   "source": [
    "df5"
   ]
  },
  {
   "cell_type": "code",
   "execution_count": null,
   "id": "38b50642",
   "metadata": {},
   "outputs": [],
   "source": [
    "options(repr.plot.width = 3, repr.plot.height = 5)\n",
    "p1  <- df5 %>% \n",
    "filter(Condition %in% c(\"Ctrl T0\", \"Dia T0\") & Experiment_ID %in% c(\"Exp16\", \"Exp18\", \"Exp19\", \"Exp20\"))  %>% \n",
    "  ggplot(aes(x = Condition, y = Treg1)) + # you can change the x to whatever variable you're interested in\n",
    "  geom_violin(alpha = 0.3, aes(fill = Condition)) +\n",
    "  stat_summary(fun = \"median\",\n",
    "               geom = \"crossbar\", \n",
    "               width = 0.75,\n",
    "               color = \"grey30\") +\n",
    "geom_beeswarm(size = 3, aes(fill = Condition), cex = 3, \n",
    "                shape = 21, color = \"black\", method = \"center\") +\n",
    "scale_shape_manual(values = c(21,22))+\n",
    "  ylab(\"\") +\n",
    "  xlab(\"\") +\n",
    "  theme_classic() +\n",
    "scale_fill_manual(values = c(\"#1874cdff\",\"#c41515ff\"))+\n",
    "ggpubr::stat_compare_means(label.x= 1.2, label.y.npc = 0.9,\n",
    "                           size = 7, label = \"p.format\")+\n",
    "ggtheme() +\n",
    " scale_y_continuous(limits = c(0,NA)) +\n",
    "theme(strip.background = element_blank(), panel.grid = element_blank()) + \n",
    "  theme(axis.text = element_text(color = \"black\"),\n",
    "        axis.text.x = element_text(angle = 90),\n",
    "       axis.line = element_line(color = \"black\", size = 0.5),\n",
    "        axis.ticks.x = element_blank()) + NoLegend() + ggtitle(\"Final data: Treg1\")\n",
    "print(p1)\n",
    "library(svglite)\n",
    "ggsave(filename = \"../figures/treg/treg_density_quantification.svg\", width = 3, height = 5)"
   ]
  },
  {
   "cell_type": "code",
   "execution_count": null,
   "id": "31b3f3bd",
   "metadata": {},
   "outputs": [],
   "source": [
    "options(repr.plot.width = 3, repr.plot.height = 5)\n",
    "p1  <- df5 %>% \n",
    "filter(Condition %in% c(\"Ctrl T0\", \"Dia T0\") & Experiment_ID %in% c(\"Exp16\", \"Exp18\", \"Exp19\", \"Exp20\"))  %>% \n",
    "  ggplot(aes(x = Condition, y = Treg4)) + # you can change the x to whatever variable you're interested in\n",
    "  geom_violin(alpha = 0.3, aes(fill = Condition)) +\n",
    "  stat_summary(fun = \"median\",\n",
    "               geom = \"crossbar\", \n",
    "               width = 0.75,\n",
    "               color = \"grey30\") +\n",
    "geom_beeswarm(size = 3, aes(fill = Condition), cex = 3, \n",
    "                shape = 21, color = \"black\", method = \"center\") +\n",
    "scale_shape_manual(values = c(21,22))+\n",
    "  ylab(\"\") +\n",
    "  xlab(\"\") +\n",
    "  theme_classic() +\n",
    "scale_fill_manual(values = c(\"#1874cdff\",\"#c41515ff\"))+\n",
    "ggpubr::stat_compare_means(label.x= 1.2, label.y.npc = 0.9,\n",
    "                           size = 7, label = \"p.format\")+\n",
    "ggtheme() +\n",
    " scale_y_continuous(limits = c(0,NA)) +\n",
    "theme(strip.background = element_blank(), panel.grid = element_blank()) + \n",
    "  theme(axis.text = element_text(color = \"black\"),\n",
    "        axis.text.x = element_text(angle = 90),\n",
    "       axis.line = element_line(color = \"black\", size = 0.5),\n",
    "        axis.ticks.x = element_blank()) + NoLegend() + ggtitle(\"Final data:Treg4\")\n",
    "print(p1)\n",
    "library(svglite)\n",
    "#ggsave(filename = \"treg_density_quantification.svg\", width = 3, height = 5)"
   ]
  },
  {
   "cell_type": "code",
   "execution_count": null,
   "id": "bfe9f67c",
   "metadata": {},
   "outputs": [],
   "source": [
    "options(repr.plot.width = 3, repr.plot.height = 5)\n",
    "p1  <- df5 %>% \n",
    "filter(Condition %in% c(\"Ctrl T0\", \"Dia T0\") & Experiment_ID %in% c(\"Exp16\", \"Exp18\", \"Exp19\", \"Exp20\"))  %>% \n",
    "  ggplot(aes(x = Condition, y = Treg1/Treg4)) + # you can change the x to whatever variable you're interested in\n",
    "  geom_violin(alpha = 0.3, aes(fill = Condition)) +\n",
    "  stat_summary(fun = \"median\",\n",
    "               geom = \"crossbar\", \n",
    "               width = 0.75,\n",
    "               color = \"grey30\") +\n",
    "geom_beeswarm(size = 3, aes(fill = Condition), cex = 3, \n",
    "                shape = 21, color = \"black\", method = \"center\") +\n",
    "scale_shape_manual(values = c(21,22))+\n",
    "  ylab(\"\") +\n",
    "  xlab(\"\") +\n",
    "  theme_classic() +\n",
    "scale_fill_manual(values = c(\"#1874cdff\",\"#c41515ff\"))+\n",
    "ggpubr::stat_compare_means(label.x= 1.2, label.y.npc = 0.9,\n",
    "                           size = 7, label = \"p.format\")+\n",
    "ggtheme() +\n",
    " scale_y_continuous(limits = c(0,NA)) +\n",
    "theme(strip.background = element_blank(), panel.grid = element_blank()) + \n",
    "  theme(axis.text = element_text(color = \"black\"),\n",
    "        axis.text.x = element_text(angle = 90),\n",
    "       axis.line = element_line(color = \"black\", size = 0.5),\n",
    "        axis.ticks.x = element_blank()) + NoLegend() + ggtitle(\"Final data: Treg1/Treg4\")\n",
    "print(p1)\n",
    "library(svglite)\n",
    "#ggsave(filename = \"treg_density_quantification.svg\", width = 3, height = 5)"
   ]
  },
  {
   "cell_type": "code",
   "execution_count": null,
   "id": "e29d4122",
   "metadata": {
    "scrolled": true
   },
   "outputs": [],
   "source": [
    "options(repr.plot.width = 16, repr.plot.height = 5)\n",
    "plot_plot5(df4, seurat_dataset = treg)"
   ]
  },
  {
   "cell_type": "markdown",
   "id": "6702fbe6",
   "metadata": {},
   "source": [
    "# Gene expression pct"
   ]
  },
  {
   "cell_type": "code",
   "execution_count": null,
   "id": "020b1715",
   "metadata": {},
   "outputs": [],
   "source": [
    "get_gene_pct_expression2  <- function(seurat_object, gene_hits_vector){\n",
    "\n",
    "# Extract the dataframe with seurat metadata\n",
    "seurat_meta_data <- seurat_object@meta.data\n",
    "seurat_meta_data$sample  <- seurat_meta_data$Sample_ID\n",
    "\n",
    "# Select genes of interest\n",
    "gene_hits <- gene_hits_vector\n",
    "\n",
    "# Now we will calculate the percentage of expressing cells for each sample and we will merge the resulting dataframes\n",
    "expr_data4 <- data.frame(genes = gene_hits)\n",
    "\n",
    "# We will need a function that will convert any non-zero count to value 1\n",
    "fns_replace <- function(x){ifelse(x>0,1,0)}\n",
    "\n",
    "for(j in levels(factor(seurat_meta_data$sample))){\n",
    "  \n",
    "  # subset only selected cell type\n",
    "  seu_sub_sample <- subset(seurat_object, Sample_ID == j) \n",
    "  \n",
    "  # select the rows corresponding to genes of interest\n",
    "  index_subset <- which(rownames(seu_sub_sample@assays$RNA@counts) %in% gene_hits)\n",
    "  \n",
    "  # create a dataframe with genes of interest and cells of interest\n",
    "  expr_data <- as.data.frame(seu_sub_sample@assays$RNA@counts[index_subset,]) \n",
    "  \n",
    "  # convert expression to binary values\n",
    "  expr_data2 <- expr_data %>% mutate(across(.fns = fns_replace))\n",
    "  rownames(expr_data2) <- rownames(expr_data)\n",
    "  \n",
    "  # calculate average expresion (percentage of cells expressing the gene)\n",
    "  expr_data3 <- rowMeans(expr_data2)\n",
    "  \n",
    "  # add zeroes in cases of no expression\n",
    "  for(k in gene_hits){\n",
    "    if(k %in% names(expr_data3) == F){expr_data3[[k]] <- 0}\n",
    "  }\n",
    "  \n",
    "  expr_data3 <- as.data.frame(expr_data3)\n",
    "  colnames(expr_data3) <- j\n",
    "  expr_data3$genes <- rownames(expr_data3)\n",
    "  \n",
    "  # final dataframe with values in correct order (all cell type, loop results)\n",
    "  expr_data4 <- left_join(expr_data4, expr_data3, by=\"genes\")\n",
    "  \n",
    "}\n",
    "\n",
    "expr_data5 <- as.data.frame(t(expr_data4))\n",
    "colnames(expr_data5) <- expr_data5[1,]\n",
    "expr_data5 <- expr_data5[2:nrow(expr_data5),]\n",
    "expr_data5$sample <- rownames(expr_data5)\n",
    "expr_data5 <- expr_data5 %>% pivot_longer( !sample, names_to = \"gene\", values_to = \"pct_express\")\n",
    "expr_data5$Sample_ID  <- as.numeric(expr_data5$sample)\n",
    "# Add metadata per sample - select those that you will use in the plot below\n",
    "md_to_join <- seurat_meta_data %>% dplyr::select(Sample_ID, Condition, Condition2, Disease) %>% \n",
    "    ungroup %>% unique\n",
    "md2 <- left_join(expr_data5, md_to_join, by = \"Sample_ID\") %>% ungroup %>% unique\n",
    "return(md2)\n",
    "}\n"
   ]
  },
  {
   "cell_type": "code",
   "execution_count": null,
   "id": "ddaea504",
   "metadata": {},
   "outputs": [],
   "source": [
    "DefaultAssay(treg)"
   ]
  },
  {
   "cell_type": "code",
   "execution_count": null,
   "id": "13d301d4",
   "metadata": {},
   "outputs": [],
   "source": [
    "md4  <- get_gene_pct_expression2(treg, c(\"IL2RA\",\"FOXP3\",\"GZMK\",\"TNFRSF9\",\"CD226\",\"IL4R\",\"IL10RA\",\"SELL\",\"CCR7\",\"TIGIT\"))"
   ]
  },
  {
   "cell_type": "code",
   "execution_count": null,
   "id": "f73b756c",
   "metadata": {
    "scrolled": true
   },
   "outputs": [],
   "source": [
    "md4"
   ]
  },
  {
   "cell_type": "code",
   "execution_count": null,
   "id": "d57c3acf",
   "metadata": {},
   "outputs": [],
   "source": []
  },
  {
   "cell_type": "code",
   "execution_count": null,
   "id": "c57649bb",
   "metadata": {},
   "outputs": [],
   "source": [
    "options(repr.plot.width = 10, repr.plot.height = 12)\n",
    "# Plot the results\n",
    "md4 %>% \n",
    "dplyr::filter(Condition %in% c(\"Ctrl T0\", \"Dia T0\"))  %>% \n",
    "ggplot(aes(x = Condition, y = as.numeric(pct_express))) + \n",
    "  geom_boxplot(outlier.shape = NA) +\n",
    "  geom_dotplot(binaxis='y', stackdir='center', dotsize=0) + \n",
    "  geom_jitter(position=position_jitter(0.2), size = 2, aes(color = factor(Condition))) +\n",
    "  theme_minimal() + \n",
    "  facet_wrap(~gene, scales = \"free\", ncol = 5) + \n",
    "  ylim(c(0,NA)) +\n",
    "  ylab(\"Percentage of expressing cells\") +\n",
    "  theme(legend.title = element_blank()) + stat_compare_means(label = \"p.format\")"
   ]
  },
  {
   "cell_type": "code",
   "execution_count": null,
   "id": "20fec44d",
   "metadata": {},
   "outputs": [],
   "source": [
    "DefaultAssay(treg)  <- \"RNA\""
   ]
  },
  {
   "cell_type": "code",
   "execution_count": null,
   "id": "85a84ef8",
   "metadata": {},
   "outputs": [],
   "source": [
    "options(repr.plot.width = 6, repr.plot.height = 5)\n",
    "FeaturePlot(treg, \"IL4R\")"
   ]
  },
  {
   "cell_type": "markdown",
   "id": "08dabdfa",
   "metadata": {},
   "source": [
    "# GSEA Resting vs Activated Treg"
   ]
  },
  {
   "cell_type": "markdown",
   "id": "b6786bfd",
   "metadata": {},
   "source": [
    "GSE15659_RESTING_VS_ACTIVATED_TREG_DN"
   ]
  },
  {
   "cell_type": "code",
   "execution_count": null,
   "id": "09c4af0d",
   "metadata": {},
   "outputs": [],
   "source": [
    "# GSE15659_RESTING_VS_ACTIVATED_TREG_DN\n",
    "\n",
    "genes  <- c('LMNTD2-AS1', 'POLR2F', 'POLR3F', 'POP7', 'PPHLN1', 'PPM1B', 'PPM1K', 'PPP2CA', 'PPP2R1A', \n",
    "'PPP2R5A', 'DESI2', 'PPY', 'PRAM1', 'PRDX3', 'PRDX4', 'PRG3', 'PRKAG3', 'PRKX', '', 'PROCR', 'PSEN1', \n",
    "'PSMA2', 'PSMG2', 'PSPN', 'PSRC1', 'PTK2B', 'HACD4', 'PTPN23', 'NECTIN4', 'PYGL', 'PYHIN1', 'RAB2B', \n",
    "'RAB9A', 'RAMP1', 'RAN', 'RANBP9', 'RANGRF', 'RAP2B', 'RBCK1', 'RBM41', 'RCOR1', 'RD3', 'RGS17', \n",
    "'RGS4', 'RHOC', 'RHOU', 'RIT1', 'RNF10', 'RNF150', 'RNF167', 'RNF214', 'ROCK1', 'ROS1', 'RPL26L1', \n",
    "'RRM1', 'RSPH1', 'RSPH10B2', 'RSPH3', 'RTP1', 'RUSC1', 'S100P', 'S1PR2', 'SAGE1', 'SAP30BP', \n",
    "'SARS2', 'SCN8A', 'SCO2', 'SDC3', 'SEC24D', 'SEC61B', 'SEPHS2', 'SEPTIN3', 'SF3B1', '', 'SGO2', \n",
    "'SH2D1A', 'SHISA6', 'SLC16A4', 'SLC22A18', 'SLC24A5', 'SLC25A3', 'SLC25A46', 'SLC26A6', 'SLC35F3', \n",
    "'SLC39A1', 'SLC43A3', 'SLC44A3', 'SLC4A9', 'SLC6A7', 'SLC9A6', 'SLC9A8', 'SLFNL1', 'SMAP2', 'SNAP91', \n",
    "'SNORA65', 'SNX3', 'SOX11', 'SOX2-OT', 'SPATA2', 'SPATA22', 'SPATA5L1', 'SPATC1', 'SPATS2L', 'SRL', \n",
    "'DENND2B', 'ST7-AS1', 'STARD4', 'STK25', 'STK32A', 'STK36', 'STX10', 'SUMO4', 'SUSD1', 'SYN2', \n",
    "'TBC1D1', 'TBC1D4', 'TDRD7', 'TEX12', 'TFF2', 'THAP1', 'THRB', 'TIFAB', 'TIPRL', 'TK1', 'TMBIM1', \n",
    "'TMEM126A', 'TMEM139', 'TMEM208', 'TMEM70', 'EMC4', 'TNF', 'TNFAIP3', 'TNFSF12', 'TOMM22', 'TOP1', \n",
    "'TOR1AIP1', 'TP53INP2', 'TPI1', 'TPMT', 'TRABD', 'TRIM16', 'TRIM55', 'TRIML1', 'TRIP12', 'TRIP6', \n",
    "'TRPM6', 'TSNAX', 'EIPR1', 'GFUS', 'TTC33', 'EMC2', 'TTC7A', 'TTL', 'TTTY13', 'TULP2', 'TUSC2', \n",
    "'TYK2', 'U2AF1', 'UBA3', 'UBE2D1', 'UBE2U', 'UBFD1', 'UBL7', 'UBR5', 'UGGT1', 'UGT2B17', 'UNC13D', \n",
    "'UTS2B', 'VAMP3', 'VCPIP1', 'VPS28', 'WARS1', 'WDHD1', 'DNAAF10', 'CCN6', 'GET1', 'XAF1', 'YY1', \n",
    "'ZAN', 'ZBED6', 'ZC3H13', 'ZCCHC9', 'ZDHHC8BP', 'ZFAND5', 'ZFC3H1', 'ZMIZ2', 'ZNF28', 'ZNF287', 'ZNF324B', \n",
    "'ZNF34', 'ZNF385D', 'ZNF394', 'ZNF414', 'ZNF596', 'ZNF618', 'ZNF663P', 'ZNF678', 'POLR1H', 'ZNRF2', 'ZPBP2')\n",
    "\n",
    "\n",
    "\n",
    "treg <- AddModuleScore(\n",
    "  object = treg,\n",
    "  features = list(c(genes)),\n",
    "  search = F,\n",
    "  ctrl = 50,\n",
    "  nbin = 50,\n",
    "  assay = \"RNA\",\n",
    "  name = 'GSE15659_RESTING_VS_ACTIVATED_TREG_DN_')\n",
    "VlnPlot(treg, features = \"GSE15659_RESTING_VS_ACTIVATED_TREG_DN_1\", pt.size = 0)\n"
   ]
  },
  {
   "cell_type": "code",
   "execution_count": null,
   "id": "7aaa903d",
   "metadata": {},
   "outputs": [],
   "source": [
    "options(repr.plot.width = 5, repr.plot.height = 4)\n",
    "\n",
    "FeaturePlot(treg, features = \"GSE15659_RESTING_VS_ACTIVATED_TREG_DN_1\", cols = c(\"#2d95ffff\",\"white\",\"red2\"),\n",
    "           pt.size = 3, raster = T)\n",
    "\n"
   ]
  },
  {
   "cell_type": "markdown",
   "id": "e5d36165",
   "metadata": {},
   "source": [
    "GSE15659_RESTING_VS_ACTIVATED_TREG_UP"
   ]
  },
  {
   "cell_type": "code",
   "execution_count": null,
   "id": "0c196077",
   "metadata": {},
   "outputs": [],
   "source": [
    "# GSE15659_RESTING_VS_ACTIVATED_TREG_UP\n",
    "\n",
    "genes  <- c(\"ABCC8\", \"ABHD1\", \"ACOT6\", \"PXYLP1\", \"ACTR3B\", \"ADAMTSL1\", \"AFAP1\", \"AK9\", \"ALK\", \n",
    "            \"ALKBH7\", \"ALOX12\", \"ALPK1\", \"ALX4\", \"ANGPT4\", \"ANKMY1\", \"ANKRD34A\", \"SOWAHA\", \"ANKRD45\", \n",
    "            \"AP4B1\", \"ARHGAP5\", \"ARHGEF16\", \"ARIH1\", \"ARSL\", \"ARSJ\", \"ASB12\", \"ASB4\", \"ASCL3\", \n",
    "            \"ASMTL-AS1\", \"TEX38\", \"ATXN1L\", \"ATXN3L\", \"AVPR1A\", \"BBOX1\", \"BCDIN3D\", \"CCDC180\", \n",
    "            \"BDNF\", \"BLCAP\", \"BOLA1\", \"BPI\", \"BPIFB6\", \"BTAF1\", \"BTN1A1\", \"TBATA\", \"C11orf21\", \n",
    "            \"ANAPC15\", \"LINC01588\", \"LINC01550\", \"ARPIN\", \"LINC02915\", \"PAGR1\", \"LINC02210\", \n",
    "            \"FAAP100\", \"PRR29\", \"MFSD12\", \"C1QTNF7\", \"C1orf210\", \"ZNF436-AS1\", \"SUCO\", \"C20orf202\", \n",
    "            \"SCP2D1\", \"CYP4F29P\", \"CFAP298\", \"KLHL30-AS1\", \"C4orf36\", \"\", \"TBC1D32\", \"LINC03040\", \n",
    "            \"LINC02904\", \"BAALC-AS2\", \"LINC00587\", \"C9orf40\", \"CA8\", \"CABP2\", \"CACNA1A\", \"CACNG7\", \n",
    "            \"CALCA\", \"CAMK1D\", \"CAMSAP2\", \"CAPZA3\", \"CARD10\", \"CASKIN2\", \"MCUB\", \"CCDC15\", \"CCDC152\", \n",
    "            \"TRMT13\", \"CCL4\", \"CCNY\", \"CCS\", \"CD3E\", \"CD46\", \"CD7\", \"CD8B\", \"CDK5RAP2\", \"CDS1\", \n",
    "            \"CEACAM1\", \"CEACAM19\", \"CEP68\", \"CHCHD7\", \"CHD9\", \"CHL1\", \"CHPF\", \"CHRNA2\", \"CHRNA4\", \n",
    "            \"CHRNG\", \"CITED4\", \"CLTCL1\", \"CLU\", \"CMTM5\", \"\", \"CNOT4\", \"CNPY1\", \"CNTFR\", \"COG1\", \n",
    "            \"COIL\", \"COL10A1\", \"CPLX2\", \"CREB3L4\", \"CSPG5\", \"CST3\", \"CST8\", \"CSTA\", \"CTSV\", \"CUTA\", \n",
    "            \"CXCL14\", \"CXXC1P1\", \"CYBB\", \"CYMP\", \"CYP2J2\", \"CYP7B1\", \"CYSLTR2\", \"DAAM2\", \"DACT1\", \n",
    "            \"DDX18\", \"DDX53\", \"DEPTOR\", \"DGCR5\", \"DHRS9\", \"DHX58\", \"MYRF-AS1\", \"DNAH17\", \"DNAJA4\", \n",
    "            \"DOCK6\", \"DPYS\", \"DUS1L\", \"DUS4L\", \"DUSP14\", \"DYNC1I1\", \"ECI2\", \"EEF1D\", \"EFNB1\", \n",
    "            \"EIF2AK3\", \"EME1\", \"EMID1\", \"EML3\", \"ENPP3\", \"ENTPD2\", \"ENTPD3\", \"EOMES\", \"EPM2AIP1\", \n",
    "            \"ERCC8\", \"FAM111B\", \"AMER1\", \"MVB12A\", \"MVB12B\", \"FAM181B\", \"PIEZO2\", \"FAM47A\", \"TLCD3B\", \n",
    "            \"FAM86C1P\", \"FAM87A\", \"FAP\", \"FBH1\", \"FBXO46\", \"FBXW9\", \"FGF13\", \"FGF23\", \"FITM1\", \"FKBP7\", \n",
    "            \"FKRP\", \"LINC01949\", \"LINC00951\", \"PRDM16-DT\", \"ZNF736\", \"\", \"FNDC8\", \"FOS\", \"FPGS\", \"FRAT2\", \n",
    "            \"FSIP1\", \"FTO\", \"FUS\", \"GABARAPL3\", \"GABRR3\", \"GATC\", \"GMNC\")"
   ]
  },
  {
   "cell_type": "code",
   "execution_count": null,
   "id": "4ecf7a53",
   "metadata": {},
   "outputs": [],
   "source": [
    "treg <- AddModuleScore(\n",
    "  object = treg,\n",
    "  features = list(c(genes)),\n",
    "  search = F,\n",
    "  ctrl = 50,\n",
    "  nbin = 50,\n",
    "  assay = \"RNA\",\n",
    "  name = 'GSE15659_RESTING_VS_ACTIVATED_TREG_UP_')\n",
    "VlnPlot(treg, features = \"GSE15659_RESTING_VS_ACTIVATED_TREG_UP_1\", pt.size = 0)\n",
    "b"
   ]
  },
  {
   "cell_type": "code",
   "execution_count": null,
   "id": "37b8cdb4",
   "metadata": {},
   "outputs": [],
   "source": [
    "FeaturePlot(treg, features = \"GSE15659_RESTING_VS_ACTIVATED_TREG_UP_1\", cols = c(\"#2d95ffff\",\"white\",\"#ff4140ff\"))"
   ]
  },
  {
   "cell_type": "code",
   "execution_count": null,
   "id": "c1019fa9",
   "metadata": {},
   "outputs": [],
   "source": [
    "cd4_subcluster  <- readRDS(\"../data/processed/L2//cd4_subcluster.rds\")"
   ]
  },
  {
   "cell_type": "code",
   "execution_count": null,
   "id": "6ba2759c",
   "metadata": {},
   "outputs": [],
   "source": []
  },
  {
   "cell_type": "markdown",
   "id": "b31c6243",
   "metadata": {},
   "source": [
    "# Gene correlation"
   ]
  },
  {
   "cell_type": "code",
   "execution_count": null,
   "id": "6a0ddf90",
   "metadata": {},
   "outputs": [],
   "source": [
    "md_cpept  <- read_xlsx(\"../data/metadata_v06.xlsx\")  %>% \n",
    "mutate(Patient_Time = paste(patient, time_taken))  %>% \n",
    "       dplyr::select(Patient_Time, fasting_cpept_T1, fasting_cpept_1, c_peptide_change)  %>% unique\n",
    "\n",
    "md_cpept   <- md_cpept  %>% mutate(group = substr(Patient_Time,1,1))  %>% filter(group == 1)"
   ]
  },
  {
   "cell_type": "code",
   "execution_count": null,
   "id": "69336935",
   "metadata": {},
   "outputs": [],
   "source": [
    "treg"
   ]
  },
  {
   "cell_type": "code",
   "execution_count": null,
   "id": "974cfdf0",
   "metadata": {},
   "outputs": [],
   "source": [
    "ds_mtx  <- AverageExpression(treg, group.by = \"Patient_Time\", return.seurat = F, assays = \"RNA\",\n",
    "                            features = c(\"IL10RA\",\"IL4R\"))"
   ]
  },
  {
   "cell_type": "code",
   "execution_count": null,
   "id": "041cf76f",
   "metadata": {},
   "outputs": [],
   "source": [
    "ds_mtx$RNA"
   ]
  },
  {
   "cell_type": "code",
   "execution_count": null,
   "id": "af122a89",
   "metadata": {
    "scrolled": true
   },
   "outputs": [],
   "source": [
    "rna  <- ds_mtx$RNA  %>% \n",
    "as.data.frame()  %>% \n",
    "rownames_to_column(\"gene\")  %>% \n",
    "pivot_longer(!gene, names_to = \"Patient_Time\", values_to = \"expression\")  %>% \n",
    " left_join(md_cpept)  "
   ]
  },
  {
   "cell_type": "code",
   "execution_count": null,
   "id": "7987ab2f",
   "metadata": {
    "scrolled": true
   },
   "outputs": [],
   "source": [
    "rna"
   ]
  },
  {
   "cell_type": "code",
   "execution_count": null,
   "id": "8f6f4933",
   "metadata": {},
   "outputs": [],
   "source": [
    "calc_one_pop  <- function(select_gene){\n",
    "    \n",
    "    df  <- rna  %>% dplyr::filter(gene == select_gene)\n",
    "    cor  <- cor.test(df$expression, df$fasting_cpept_1)\n",
    "    res_df  <- data.frame(gene = select_gene,\n",
    "                           cor = cor$estimate, \n",
    "                          pval = cor$p.value, \n",
    "                         padj  = ifelse(cor$p.value*2>1,1,cor$p.value*2))\n",
    "    return(res_df)\n",
    "}\n"
   ]
  },
  {
   "cell_type": "code",
   "execution_count": null,
   "id": "f9db784d",
   "metadata": {},
   "outputs": [],
   "source": [
    "calc_one_pop(\"IL10RA\")"
   ]
  },
  {
   "cell_type": "code",
   "execution_count": null,
   "id": "f31f2589",
   "metadata": {},
   "outputs": [],
   "source": [
    "df  <- rna  %>% dplyr::filter(gene == \"IL10RA\")\n",
    "p <- df %>%  \n",
    " ggplot(aes(x=expression, y=fasting_cpept_T1)) +\n",
    " geom_point(shape = 16, size = 2) +\n",
    " geom_smooth(method=lm, alpha = 0.2) + ggtitle(paste(\"IL10RA\", \"in\", \"Treg\")) + \n",
    "stat_cor(size = 7) + theme_classic() + ggtheme()\n",
    "print(p)\n",
    "\n",
    "ggsave(filename = paste0(\"../figures/correlation_populations/IL10RinTreg.svg\"), width = 9, height = 4)\n"
   ]
  },
  {
   "cell_type": "code",
   "execution_count": null,
   "id": "a6640870",
   "metadata": {},
   "outputs": [],
   "source": [
    "df  <- rna  %>% dplyr::filter(gene == \"IL4R\")\n",
    "p <- df %>%  \n",
    " ggplot(aes(x=expression, y=fasting_cpept_T1)) +\n",
    " geom_point(shape = 16, size = 2) +\n",
    " geom_smooth(method=lm, alpha = 0.2) + ggtitle(paste(\"IL4R\", \"in\", \"Treg\")) + \n",
    "stat_cor(size = 7) + theme_classic() + ggtheme()\n",
    "print(p)\n",
    "\n",
    "ggsave(filename = paste0(\"../figures/correlation_populations/IL4RRinTreg.svg\"), width = 4.5, height = 4)\n"
   ]
  },
  {
   "cell_type": "code",
   "execution_count": null,
   "id": "d41b7c23",
   "metadata": {},
   "outputs": [],
   "source": []
  },
  {
   "cell_type": "markdown",
   "id": "7a769d5c",
   "metadata": {},
   "source": [
    "# DE genes"
   ]
  },
  {
   "cell_type": "code",
   "execution_count": null,
   "id": "6728aa35",
   "metadata": {},
   "outputs": [],
   "source": [
    "treg_subset  <- subset(treg, Condition %in% c(\"Ctrl T0\", \"Ctrl T1\",\"Dia T0\") & Experiment_ID %in% c(\"Exp16\", \"Exp18\", \"Exp19\", \"Exp20\")) \n"
   ]
  },
  {
   "cell_type": "code",
   "execution_count": null,
   "id": "c3c9f7dd",
   "metadata": {},
   "outputs": [],
   "source": [
    "Idents(treg_subset)  <- treg_subset$Disease"
   ]
  },
  {
   "cell_type": "code",
   "execution_count": null,
   "id": "994cdf85",
   "metadata": {},
   "outputs": [],
   "source": [
    "DimPlot(treg_subset)"
   ]
  },
  {
   "cell_type": "code",
   "execution_count": null,
   "id": "8a13205a",
   "metadata": {},
   "outputs": [],
   "source": [
    "plan(\"sequential\")"
   ]
  },
  {
   "cell_type": "code",
   "execution_count": null,
   "id": "e0ef849b",
   "metadata": {},
   "outputs": [],
   "source": [
    "DefaultAssay(treg_subset)  <- \"RNA\""
   ]
  },
  {
   "cell_type": "code",
   "execution_count": null,
   "id": "e7e2b78b",
   "metadata": {},
   "outputs": [],
   "source": [
    "mrk  <- FindAllMarkers(treg_subset, only.pos = T, test.use = \"t\")"
   ]
  },
  {
   "cell_type": "code",
   "execution_count": null,
   "id": "ae4882ad",
   "metadata": {
    "scrolled": true
   },
   "outputs": [],
   "source": [
    "mrk"
   ]
  },
  {
   "cell_type": "code",
   "execution_count": null,
   "id": "eb6a8eee",
   "metadata": {
    "scrolled": true
   },
   "outputs": [],
   "source": [
    "DefaultAssay(treg_subset)  <- \"CollecTRI\"\n",
    "\n",
    "mrk  <- FindAllMarkers(treg_subset, only.pos = T)\n",
    "\n",
    "mrk"
   ]
  },
  {
   "cell_type": "code",
   "execution_count": null,
   "id": "c706c584",
   "metadata": {},
   "outputs": [],
   "source": [
    "Idents(treg)  <- treg$seurat_clusters"
   ]
  },
  {
   "cell_type": "code",
   "execution_count": null,
   "id": "71d6c3fc",
   "metadata": {},
   "outputs": [],
   "source": [
    "DefaultAssay(treg)  <- \"RNA\""
   ]
  },
  {
   "cell_type": "code",
   "execution_count": null,
   "id": "b5dbc6a8",
   "metadata": {},
   "outputs": [],
   "source": [
    "options(repr.plot.width = 5, repr.plot.height = 4.25)\n",
    "DimPlot(treg, label = T)"
   ]
  },
  {
   "cell_type": "code",
   "execution_count": null,
   "id": "08a71ab1",
   "metadata": {},
   "outputs": [],
   "source": [
    "mrk2  <- FindAllMarkers(treg)"
   ]
  },
  {
   "cell_type": "code",
   "execution_count": null,
   "id": "2e370f2a",
   "metadata": {
    "scrolled": true
   },
   "outputs": [],
   "source": [
    "mrk2  %>% group_by(cluster)  %>% \n",
    "filter(avg_log2FC>0) %>% slice_head(n = 10)"
   ]
  },
  {
   "cell_type": "code",
   "execution_count": null,
   "id": "677f9de5",
   "metadata": {},
   "outputs": [],
   "source": [
    "FeaturePlot(treg, features = \"CCR5\", \n",
    "           min.cutoff = 0, ncol = 5)"
   ]
  },
  {
   "cell_type": "code",
   "execution_count": null,
   "id": "16c7fb98",
   "metadata": {},
   "outputs": [],
   "source": [
    "markers_cl2  <- mrk2  %>% group_by(cluster)  %>% \n",
    "filter(avg_log2FC>0 & cluster ==2)   %>% slice_head(n = 30) %>% pull(gene) \n",
    "\n",
    "options(repr.plot.width = 30, repr.plot.height = 20)\n",
    "FeaturePlot(treg, features = markers_cl2, \n",
    "           min.cutoff = 0, ncol = 5)"
   ]
  },
  {
   "cell_type": "markdown",
   "id": "5bf3f1a1",
   "metadata": {},
   "source": [
    "## Heatmap"
   ]
  },
  {
   "cell_type": "code",
   "execution_count": null,
   "id": "c67caa01",
   "metadata": {},
   "outputs": [],
   "source": [
    "avgexp = AverageExpression(treg, features = rev(str_to_upper(c(\n",
    "    \"CCR7\",\"TCF7\",\"LEF1\",\"SELL\",\"BTG1\",\"IL4R\",\"IL7R\",\"LAG3\",\"GZMK\",\"CD226\",\"HAVCR2\",\"PDCD1\",\n",
    "    \"STAT5A\",\"TIGIT\",\"IKZF2\",\"TNFRSF18\",\"ENTPD1\",\"IL10RA\",\"IL2RB\",\"FOXP3\",\"IL2RA\",\"TGFB1\",\"CCR4\",\n",
    "    \"TNFRSF9\",\"HLA-DPA1\",\"CTLA4\"\n",
    "    \n",
    "    ))), return.seurat = F, \n",
    "                           group.by = \"seurat_clusters\", assays = \"RNA\")"
   ]
  },
  {
   "cell_type": "code",
   "execution_count": null,
   "id": "8c0a0627",
   "metadata": {
    "scrolled": true
   },
   "outputs": [],
   "source": [
    "avgexp"
   ]
  },
  {
   "cell_type": "code",
   "execution_count": null,
   "id": "39dbdcfc",
   "metadata": {},
   "outputs": [],
   "source": [
    "library(pheatmap)"
   ]
  },
  {
   "cell_type": "code",
   "execution_count": null,
   "id": "2e3f61c5",
   "metadata": {},
   "outputs": [],
   "source": [
    "options(repr.plot.width = 9, repr.plot.height = 2.5)\n",
    "pheatmap(t(avgexp$RNA)[c(3,1,2,4),], main = \"\", scale = \"column\", cluster_cols = F, cluster_rows = F,\n",
    "        color=colorRampPalette(c(\"dodgerblue\", \"grey95\", \"indianred2\"))(50), \n",
    "         border_color = \"white\", width = 9, height = 3.3,\n",
    "                  fontsize = 9)"
   ]
  },
  {
   "cell_type": "code",
   "execution_count": null,
   "id": "055a8b07",
   "metadata": {},
   "outputs": [],
   "source": [
    "dir.create(\"../figures/heatmaps/\")"
   ]
  },
  {
   "cell_type": "code",
   "execution_count": null,
   "id": "17f87ce7",
   "metadata": {},
   "outputs": [],
   "source": [
    "pheatmap(t(avgexp$RNA)[c(3,1,2,4),], main = \"\", scale = \"column\", cluster_cols = F, cluster_rows = F,\n",
    "         color=colorRampPalette(c(\"dodgerblue\", \"grey95\", \"indianred2\"))(50), \n",
    "         border_color = \"white\", filename = \"../figures/heatmaps/heatmap_treg_v2.pdf\",width = 9, height = 3.3,\n",
    "                  fontsize = 9)"
   ]
  },
  {
   "cell_type": "code",
   "execution_count": null,
   "id": "b311b676",
   "metadata": {},
   "outputs": [],
   "source": [
    "options(repr.plot.width = 9, repr.plot.height = 2.5)\n",
    "pheatmap(t(avgexp$RNA)[c(3,1,2,4),], main = \"\", scale = \"column\", cluster_cols = F, cluster_rows = F,\n",
    "        color=colorRampPalette(c(\"dodgerblue\", \"grey95\", \"indianred2\"))(50), \n",
    "         border_color = \"white\", width = 9, height = 3.3,\n",
    "                  fontsize = 9)"
   ]
  },
  {
   "cell_type": "code",
   "execution_count": null,
   "id": "449d726a",
   "metadata": {},
   "outputs": [],
   "source": []
  },
  {
   "cell_type": "code",
   "execution_count": null,
   "id": "c8502379",
   "metadata": {},
   "outputs": [],
   "source": [
    "pheatmap(t(avgexp$RNA)[c(3,1,2,4),], main = \"\", scale = \"column\", cluster_cols = F, cluster_rows = F,\n",
    "         color=colorRampPalette(c(\"dodgerblue\", \"grey95\", \"indianred2\"))(50), \n",
    "         border_color = \"white\", filename = \"../figures/heatmaps/heatmap_treg.pdf\",width = 9, height = 3.3,\n",
    "                  fontsize = 9)"
   ]
  },
  {
   "cell_type": "markdown",
   "id": "a1b85933",
   "metadata": {},
   "source": [
    "## Heatmap with Naive"
   ]
  },
  {
   "cell_type": "code",
   "execution_count": null,
   "id": "bc766aec",
   "metadata": {},
   "outputs": [],
   "source": [
    "naive  <- readRDS(\"../data/processed/L3/cd4_l3_naive.rds\")"
   ]
  },
  {
   "cell_type": "code",
   "execution_count": null,
   "id": "a62155e1",
   "metadata": {},
   "outputs": [],
   "source": [
    "avgexp_naive = AverageExpression(naive, features = rev(str_to_upper(c(\n",
    "    \"CCR7\",\"TCF7\",\"LEF1\",\"SELL\",\"BTG1\",\"IL7R\",\"LAG3\",\"GZMK\",\"CD226\",\"HAVCR2\",\"PDCD1\",\n",
    "    \"STAT5A\",\"TIGIT\",\"IKZF2\",\"TNFRSF18\",\"ENTPD1\",\"IL2RB\",\"IL2RA\",\"TGFB1\",\"FOXP3\",\"TNFRSF9\",\"HLA-DPA1\",\"CTLA4\"\n",
    "    ))), return.seurat = F, \n",
    "                           group.by = \"study\", assays = \"RNA\")"
   ]
  },
  {
   "cell_type": "code",
   "execution_count": null,
   "id": "57a48085",
   "metadata": {
    "scrolled": true
   },
   "outputs": [],
   "source": [
    "avgexp_naive"
   ]
  },
  {
   "cell_type": "code",
   "execution_count": null,
   "id": "5ca76761",
   "metadata": {},
   "outputs": [],
   "source": [
    "naive$study  <- \"1\""
   ]
  },
  {
   "cell_type": "code",
   "execution_count": null,
   "id": "bc371f51",
   "metadata": {},
   "outputs": [],
   "source": [
    "rownames(avgexp$RNA) == rownames(avgexp_naive$RNA)"
   ]
  },
  {
   "cell_type": "code",
   "execution_count": null,
   "id": "a41c41c2",
   "metadata": {},
   "outputs": [],
   "source": [
    "avgexp_all  <- cbind(avgexp$RNA, avgexp_naive$RNA)"
   ]
  },
  {
   "cell_type": "code",
   "execution_count": null,
   "id": "eac50326",
   "metadata": {},
   "outputs": [],
   "source": [
    "avgexp_all"
   ]
  },
  {
   "cell_type": "code",
   "execution_count": null,
   "id": "dcad1ab3",
   "metadata": {},
   "outputs": [],
   "source": [
    "options(repr.plot.width = 9, repr.plot.height = 2.5)\n",
    "pheatmap(t(avgexp_all)[c(5,3,1,2,4),], main = \"\", scale = \"column\", cluster_cols = F, cluster_rows = F,\n",
    "        color=colorRampPalette(c(\"dodgerblue\", \"grey95\", \"indianred2\"))(50), \n",
    "         border_color = \"white\", width = 9, height = 3.3,\n",
    "                  fontsize = 9)"
   ]
  },
  {
   "cell_type": "code",
   "execution_count": null,
   "id": "6ffbd67b",
   "metadata": {},
   "outputs": [],
   "source": [
    "genes_treg  <-  c(\"CCR7\",\"TCF7\",\"LEF1\",\"SELL\",\"BTG1\",\"IL7R\",\"CD226\",\"LAG3\",\n",
    "                  \"GZMK\",\"HAVCR2\",\"ICOS\",\n",
    "    \"CTLA4\",\"TIGIT\",\"IL10RA\",\"IL2RB\",\"IL2RA\",\"FOXP3\",\"IKZF2\",\"TNFRSF18\",\n",
    "                  \"ENTPD1\",\n",
    "                  \"TNFRSF9\",\"HLA-DPA1\")\n",
    "    "
   ]
  },
  {
   "cell_type": "code",
   "execution_count": null,
   "id": "ffd2ca4d",
   "metadata": {},
   "outputs": [],
   "source": [
    "avgexp_naive = AverageExpression(naive, features = rev(str_to_upper(c(\n",
    "    genes_treg))), return.seurat = F, \n",
    "                           group.by = \"study\", assays = \"RNA\")\n",
    "avgexp = AverageExpression(treg, features = rev(str_to_upper(c(genes_treg\n",
    "   ))), return.seurat = F, \n",
    "                           group.by = \"seurat_clusters\", assays = \"RNA\")\n",
    "avgexp_all  <- cbind(avgexp$RNA, avgexp_naive$RNA)\n",
    "\n",
    "options(repr.plot.width = 9, repr.plot.height = 3)\n",
    "pheatmap(t(avgexp_all)[c(5,3,1,2,4),], main = \"\", scale = \"column\", cluster_cols = F, cluster_rows = F,\n",
    "        color=colorRampPalette(c(\"dodgerblue\", \"grey95\", \"indianred2\"))(50), \n",
    "         border_color = \"white\", width = 9, height = 3.3,\n",
    "                  fontsize = 14)\n",
    "pheatmap(t(avgexp_all)[c(5,3,1,2,4),], main = \"\", scale = \"column\", cluster_cols = F, cluster_rows = F,\n",
    "        color=colorRampPalette(c(\"dodgerblue\", \"grey95\", \"indianred2\"))(50), \n",
    "         border_color = \"white\", width = 9, height = 3.3,\n",
    "                  fontsize = 14, filename = \"\") "
   ]
  },
  {
   "cell_type": "markdown",
   "id": "00a63c3a",
   "metadata": {},
   "source": [
    "### CollecTRI assay"
   ]
  },
  {
   "cell_type": "code",
   "execution_count": null,
   "id": "ec3b8c41",
   "metadata": {},
   "outputs": [],
   "source": [
    "DefaultAssay(treg)  <- \"CollecTRI\""
   ]
  },
  {
   "cell_type": "code",
   "execution_count": null,
   "id": "99959897",
   "metadata": {},
   "outputs": [],
   "source": [
    "Idents(treg)  <- treg$seurat_clusters"
   ]
  },
  {
   "cell_type": "code",
   "execution_count": null,
   "id": "12349554",
   "metadata": {},
   "outputs": [],
   "source": [
    "mrk2  <- FindAllMarkers(treg)"
   ]
  },
  {
   "cell_type": "code",
   "execution_count": null,
   "id": "cac8df66",
   "metadata": {
    "scrolled": true
   },
   "outputs": [],
   "source": [
    "mrk3  <- mrk2  %>% group_by(cluster)  %>% \n",
    "filter(avg_log2FC>0) %>% slice_head(n = 10)"
   ]
  },
  {
   "cell_type": "code",
   "execution_count": null,
   "id": "c202ca4e",
   "metadata": {
    "scrolled": true
   },
   "outputs": [],
   "source": [
    "mrk3"
   ]
  },
  {
   "cell_type": "code",
   "execution_count": null,
   "id": "0cda2e6c",
   "metadata": {},
   "outputs": [],
   "source": [
    "avgexp = AverageExpression(treg, features = pull(mrk3, gene),\n",
    "                           return.seurat = F, group.by = \"seurat_clusters\", assays = \"CollecTRI\")"
   ]
  },
  {
   "cell_type": "code",
   "execution_count": null,
   "id": "32bf2876",
   "metadata": {},
   "outputs": [],
   "source": [
    "library(pheatmap)"
   ]
  },
  {
   "cell_type": "code",
   "execution_count": null,
   "id": "cf7de2cc",
   "metadata": {},
   "outputs": [],
   "source": [
    "options(repr.plot.width = 9, repr.plot.height = 3.5)\n",
    "pheatmap(t(avgexp$CollecTRI), main = \"\", scale = \"column\", cluster_cols = T, cluster_rows = T,\n",
    "        color=colorRampPalette(c(\"dodgerblue\", \"grey95\", \"indianred2\"))(50), \n",
    "         border_color = \"white\",\n",
    "                  fontsize = 9)"
   ]
  },
  {
   "cell_type": "markdown",
   "id": "d25c04ea",
   "metadata": {},
   "source": [
    "### NicheNET assay"
   ]
  },
  {
   "cell_type": "code",
   "execution_count": null,
   "id": "b2bc5a3c",
   "metadata": {},
   "outputs": [],
   "source": [
    "treg"
   ]
  },
  {
   "cell_type": "code",
   "execution_count": null,
   "id": "fa8b87b5",
   "metadata": {},
   "outputs": [],
   "source": [
    "DefaultAssay(treg_subset)  <- \"pathwayswmean\""
   ]
  },
  {
   "cell_type": "code",
   "execution_count": null,
   "id": "a65e01ec",
   "metadata": {},
   "outputs": [],
   "source": [
    "Idents(treg)  <- treg$seurat_clusters"
   ]
  },
  {
   "cell_type": "code",
   "execution_count": null,
   "id": "419061b1",
   "metadata": {},
   "outputs": [],
   "source": [
    "mrk2  <- FindAllMarkers(treg_subset)"
   ]
  },
  {
   "cell_type": "code",
   "execution_count": null,
   "id": "06817c69",
   "metadata": {},
   "outputs": [],
   "source": [
    "mrk2"
   ]
  },
  {
   "cell_type": "code",
   "execution_count": null,
   "id": "62a70ec2",
   "metadata": {
    "scrolled": true
   },
   "outputs": [],
   "source": [
    "mrk3  <- mrk2  %>% group_by(cluster)  %>% \n",
    "filter(avg_log2FC>0) %>% slice_head(n = 10)"
   ]
  },
  {
   "cell_type": "code",
   "execution_count": null,
   "id": "2b1e9515",
   "metadata": {},
   "outputs": [],
   "source": [
    "mrk3"
   ]
  },
  {
   "cell_type": "code",
   "execution_count": null,
   "id": "615363c3",
   "metadata": {
    "scrolled": true
   },
   "outputs": [],
   "source": [
    "mrk2  %>% group_by(cluster)  %>% \n",
    "filter(avg_log2FC>0 & cluster ==3)"
   ]
  },
  {
   "cell_type": "code",
   "execution_count": null,
   "id": "f78913dc",
   "metadata": {},
   "outputs": [],
   "source": [
    "avgexp = AverageExpression(treg, features = pull(mrk3, gene),\n",
    "                           return.seurat = F, group.by = \"seurat_clusters\", assays = \"pathwayswmean\")"
   ]
  },
  {
   "cell_type": "code",
   "execution_count": null,
   "id": "16b63048",
   "metadata": {},
   "outputs": [],
   "source": [
    "options(repr.plot.width = 9, repr.plot.height = 3.5)\n",
    "pheatmap(t(avgexp$pathwayswmean), main = \"\", scale = \"column\", cluster_cols = T, cluster_rows = T,\n",
    "        color=colorRampPalette(c(\"blue\", \"grey95\", \"red\"))(50), \n",
    "         border_color = \"white\",\n",
    "                  fontsize = 9)"
   ]
  },
  {
   "cell_type": "code",
   "execution_count": null,
   "id": "8af603d0",
   "metadata": {},
   "outputs": [],
   "source": [
    "DimPlot(treg)"
   ]
  },
  {
   "cell_type": "markdown",
   "id": "20fb85dc",
   "metadata": {},
   "source": [
    "### Slingshot"
   ]
  },
  {
   "cell_type": "code",
   "execution_count": null,
   "id": "ec397187",
   "metadata": {},
   "outputs": [],
   "source": [
    "library(grDevices)\n",
    "library(RColorBrewer)\n",
    "library(slingshot)\n"
   ]
  },
  {
   "cell_type": "code",
   "execution_count": null,
   "id": "2e3da44f",
   "metadata": {},
   "outputs": [],
   "source": [
    "DefaultAssay(treg) <- \"RNA\"\n",
    "\n",
    "fun_basic <- treg\n",
    "fun_basic[[\"integrated\"]] <- NULL\n",
    "\n",
    "Idents(fun_basic) <- fun_basic$seurat_clusters\n",
    "\n",
    "sce <- as.SingleCellExperiment(fun_basic)\n",
    "\n",
    "reducedDim(sce, \"PCA\", withDimnames=TRUE) <- treg[['pca']]@cell.embeddings\n",
    "reducedDim(sce, \"UMAP\", withDimnames=TRUE) <- fun_basic[['umap']]@cell.embeddings\n",
    "\n",
    "sce <- slingshot(sce, clusterLabels = 'seurat_clusters', reducedDim = 'UMAP')"
   ]
  },
  {
   "cell_type": "code",
   "execution_count": null,
   "id": "6580d0d8",
   "metadata": {},
   "outputs": [],
   "source": [
    "colors <- rev(colorRampPalette(brewer.pal(11,'Spectral')[-6])(100))\n",
    "plotcol <- colors[cut(sce$slingPseudotime_1, breaks=100)]\n",
    "\n",
    "options(repr.plot.width = 4, repr.plot.height = 4)\n",
    "plot(reducedDims(sce)$UMAP, col = colors[cut(sce$slingPseudotime_1, breaks=100)], pch = 16)\n"
   ]
  },
  {
   "cell_type": "code",
   "execution_count": null,
   "id": "bc2714f6",
   "metadata": {},
   "outputs": [],
   "source": [
    "treg"
   ]
  },
  {
   "cell_type": "code",
   "execution_count": null,
   "id": "ab490df7",
   "metadata": {},
   "outputs": [],
   "source": [
    "treg$slingPseudotime_1  <- sce$slingPseudotime_1"
   ]
  },
  {
   "cell_type": "code",
   "execution_count": null,
   "id": "fda09d38",
   "metadata": {},
   "outputs": [],
   "source": [
    "FeaturePlot(treg, features = \"slingPseudotime_1\")"
   ]
  },
  {
   "cell_type": "code",
   "execution_count": null,
   "id": "77489b95",
   "metadata": {},
   "outputs": [],
   "source": [
    "VlnPlot(subset(treg, Condition %in% c(\"Ctrl T0\", \"Dia T0\") & Experiment_ID %in% c(\"Exp16\", \"Exp18\", \"Exp19\", \"Exp20\")),\n",
    "        group.by = \"Condition\", features = \"slingPseudotime_1\") + ggpubr::stat_compare_means()"
   ]
  },
  {
   "cell_type": "code",
   "execution_count": null,
   "id": "ff434c48",
   "metadata": {},
   "outputs": [],
   "source": [
    "options(repr.plot.width = 6, repr.plot.height = 4)\n",
    "treg@meta.data %>% \n",
    "group_by(Patient_ID, Condition, Experiment_ID)  %>% \n",
    "summarize(mean_Sling = median(slingPseudotime_1))  %>% \n",
    "filter(Condition %in% c(\"Ctrl T0\", \"Dia T0\") & Experiment_ID %in% c(\"Exp16\", \"Exp18\", \"Exp19\", \"Exp20\"))  %>% \n",
    "  ggplot(aes(x = Condition, y = mean_Sling)) + # you can change the x to whatever variable you're interested in\n",
    "  geom_violin(alpha = 0.3, aes(fill = Condition)) +\n",
    "  stat_summary(fun = \"median\",\n",
    "               geom = \"crossbar\", \n",
    "               width = 0.75,\n",
    "               color = \"grey30\") +\n",
    "geom_beeswarm(size = 3, aes(fill = Condition), cex = 3, \n",
    "                shape = 21, color = \"black\", method = \"center\") +\n",
    "scale_shape_manual(values = c(21,22))+\n",
    "  ylab(\"\") +\n",
    "  xlab(\"\") +\n",
    "  theme_classic() +\n",
    "scale_fill_manual(values = c(\"#1874cdff\",\"#c41515ff\"))+\n",
    "ggpubr::stat_compare_means(label.x= 1.2, label.y.npc = 0.9,\n",
    "                           size = 7, label = \"p.format\")+\n",
    "ggtheme() +\n",
    " scale_y_continuous(limits = c(0,NA)) +\n",
    "theme(strip.background = element_blank(), panel.grid = element_blank()) + \n",
    "  theme(axis.text = element_text(color = \"black\"),\n",
    "        axis.text.x = element_text(angle = 90),\n",
    "       axis.line = element_line(color = \"black\", size = 0.5),\n",
    "        axis.ticks.x = element_blank()) + NoLegend() + ggtitle(\"Final data\")"
   ]
  },
  {
   "cell_type": "code",
   "execution_count": null,
   "id": "624deb50",
   "metadata": {},
   "outputs": [],
   "source": [
    "treg$Patient_ID  %>% table"
   ]
  },
  {
   "cell_type": "code",
   "execution_count": null,
   "id": "3e678446",
   "metadata": {
    "scrolled": true
   },
   "outputs": [],
   "source": [
    "treg@meta.data %>% \n",
    "mutate(sling_round = round(slingPseudotime_1*2, digits = 0))  %>% \n",
    "group_by(Sample_ID, sling_round) %>% \n",
    "  summarise(n = n()) %>%\n",
    "  mutate(freq = n / sum(n))"
   ]
  },
  {
   "cell_type": "code",
   "execution_count": null,
   "id": "3f490c5a",
   "metadata": {
    "scrolled": true
   },
   "outputs": [],
   "source": [
    "options(repr.plot.width = 6, repr.plot.height = 5)\n",
    "treg_pseudotime  <- treg@meta.data %>% \n",
    "mutate(sling_round = round(slingPseudotime_1*2, digits = 0))  %>% \n",
    "group_by(Sample_ID, Condition, sling_round) %>% \n",
    "  summarise(n = n()) %>%\n",
    "  mutate(freq = n / sum(n))  %>% \n",
    "dplyr::select(-n)  %>% \n",
    "pivot_wider(names_from = \"sling_round\", values_from = \"freq\", values_fill = 0) \n",
    "\n",
    "treg_pseudotime2  <- treg_pseudotime  %>% pivot_longer(3:ncol(treg_pseudotime), names_to = \"sling_round\", values_to = \"freq\")  "
   ]
  },
  {
   "cell_type": "code",
   "execution_count": null,
   "id": "6871a4fd",
   "metadata": {
    "scrolled": true
   },
   "outputs": [],
   "source": [
    "treg_pseudotime2"
   ]
  },
  {
   "cell_type": "markdown",
   "id": "b225f05a",
   "metadata": {},
   "source": [
    "## DEG in Treg subclusters"
   ]
  },
  {
   "cell_type": "code",
   "execution_count": null,
   "id": "ed6a767c",
   "metadata": {},
   "outputs": [],
   "source": [
    "DimPlot(treg)"
   ]
  },
  {
   "cell_type": "code",
   "execution_count": null,
   "id": "9f5dff11",
   "metadata": {},
   "outputs": [],
   "source": [
    "DefaultAssay(treg)  <- \"RNA\""
   ]
  },
  {
   "cell_type": "code",
   "execution_count": null,
   "id": "928ffe16",
   "metadata": {},
   "outputs": [],
   "source": [
    "treg1  <- subset(treg, seurat_clusters == 2 & Experiment_ID %in% c(\"Exp16\", \"Exp18\", \"Exp19\", \"Exp20\"))\n",
    "treg2  <- subset(treg, seurat_clusters == 0 & Experiment_ID %in% c(\"Exp16\", \"Exp18\", \"Exp19\", \"Exp20\"))\n",
    "treg3  <- subset(treg, seurat_clusters == 1 & Experiment_ID %in% c(\"Exp16\", \"Exp18\", \"Exp19\", \"Exp20\"))\n",
    "treg4  <- subset(treg, seurat_clusters == 3 & Experiment_ID %in% c(\"Exp16\", \"Exp18\", \"Exp19\", \"Exp20\"))"
   ]
  },
  {
   "cell_type": "code",
   "execution_count": null,
   "id": "9e3f9e54",
   "metadata": {},
   "outputs": [],
   "source": [
    "Idents(treg1)  <- treg1$Disease\n",
    "Idents(treg2)  <- treg2$Disease\n",
    "Idents(treg3)  <- treg3$Disease\n",
    "Idents(treg4)  <- treg4$Disease"
   ]
  },
  {
   "cell_type": "code",
   "execution_count": null,
   "id": "0135b66c",
   "metadata": {
    "scrolled": true
   },
   "outputs": [],
   "source": [
    "de_treg1  <- FindAllMarkers(treg1,\n",
    "               test.use = \"wilcox\", \n",
    "                          logfc.threshold = -Inf, min.pct = -Inf, min.diff.pct = -Inf,\n",
    "                                   only.pos = F,  \n",
    "                                   min.cells.feature = 1, return.thresh = 1)\n",
    "de_treg2  <- FindAllMarkers(treg2, ,\n",
    "               test.use = \"wilcox\", \n",
    "                          logfc.threshold = -Inf, min.pct = -Inf, min.diff.pct = -Inf,\n",
    "                                   only.pos = F,  \n",
    "                                   min.cells.feature = 1, return.thresh = 1)\n",
    "de_treg3  <- FindAllMarkers(treg3, ,\n",
    "               test.use = \"wilcox\", \n",
    "                          logfc.threshold = -Inf, min.pct = -Inf, min.diff.pct = -Inf,\n",
    "                                   only.pos = F,  \n",
    "                                   min.cells.feature = 1, return.thresh = 1)\n",
    "de_treg4  <- FindAllMarkers(treg4, ,\n",
    "               test.use = \"wilcox\", \n",
    "                          logfc.threshold = -Inf, min.pct = -Inf, min.diff.pct = -Inf,\n",
    "                                   only.pos = F,  \n",
    "                                   min.cells.feature = 1, return.thresh = 1)"
   ]
  },
  {
   "cell_type": "code",
   "execution_count": null,
   "id": "f628231d",
   "metadata": {
    "scrolled": true
   },
   "outputs": [],
   "source": [
    "de_treg1"
   ]
  },
  {
   "cell_type": "code",
   "execution_count": null,
   "id": "a0eaed7f",
   "metadata": {
    "scrolled": true
   },
   "outputs": [],
   "source": [
    "de_treg2"
   ]
  },
  {
   "cell_type": "code",
   "execution_count": null,
   "id": "2b304877",
   "metadata": {
    "scrolled": true
   },
   "outputs": [],
   "source": [
    "de_treg3"
   ]
  },
  {
   "cell_type": "code",
   "execution_count": null,
   "id": "1580b6d5",
   "metadata": {
    "scrolled": true
   },
   "outputs": [],
   "source": [
    "de_treg4"
   ]
  },
  {
   "cell_type": "code",
   "execution_count": null,
   "id": "1582abeb",
   "metadata": {},
   "outputs": [],
   "source": [
    "zemmour  <- read_xlsx(\"../../240218_VN_Diabetes_V05/data/published_data/Zemmour_2018/zemmour2.xlsx\")\n",
    "treg_ipex_up  <- zemmour  %>% dplyr::filter(Average_FC_in_Treg>1)  %>% pull(gene)\n",
    "treg_ipex_down  <- zemmour  %>% dplyr::filter(Average_FC_in_Treg<1)  %>% pull(gene)"
   ]
  },
  {
   "cell_type": "code",
   "execution_count": null,
   "id": "28f8edbf",
   "metadata": {},
   "outputs": [],
   "source": [
    "library(fgsea)"
   ]
  },
  {
   "cell_type": "code",
   "execution_count": null,
   "id": "12e1cace",
   "metadata": {},
   "outputs": [],
   "source": [
    "treg_ipex_up  %>% length"
   ]
  },
  {
   "cell_type": "code",
   "execution_count": null,
   "id": "fbdc5316",
   "metadata": {},
   "outputs": [],
   "source": [
    "treg_ipex_up2  %>% length"
   ]
  },
  {
   "cell_type": "code",
   "execution_count": null,
   "id": "42c1370c",
   "metadata": {},
   "outputs": [],
   "source": [
    "treg_ipex_up2  <- treg_ipex_up[which(treg_ipex_up %in% rownames(treg))]"
   ]
  },
  {
   "cell_type": "code",
   "execution_count": null,
   "id": "d0f2debc",
   "metadata": {},
   "outputs": [],
   "source": [
    "fc.df  <- de_treg1  %>%  arrange(desc(avg_log2FC)) %>% \n",
    "dplyr::filter(cluster == \"Dia\")  %>% \n",
    "  dplyr::select(gene, avg_log2FC)\n",
    "ranks<- deframe(fc.df)\n",
    "\n",
    "fgsea(pathways = list(treg_ipex_up = treg_ipex_up, treg_ipex_down = treg_ipex_down), stats = ranks\n",
    "         )\n",
    "options(repr.plot.width = 10, repr.plot.height = 6)\n",
    "\n",
    "p  <- plotEnrichment(treg_ipex_up,\n",
    "               ranks) + labs(title=\"treg_ipex_up\") + ylim(-0.7,0.7) + ggtheme() +\n",
    "\n",
    "plotEnrichment(treg_ipex_down,\n",
    "               ranks) + labs(title=\"treg_ipex_down\") + ylim(-0.7,0.7) + ggtheme()\n",
    "p"
   ]
  },
  {
   "cell_type": "code",
   "execution_count": null,
   "id": "44ebf460",
   "metadata": {},
   "outputs": [],
   "source": [
    "fc.df  <- de_treg2  %>%  arrange(desc(avg_log2FC)) %>% \n",
    "dplyr::filter(cluster == \"Dia\")  %>% \n",
    "  dplyr::select(gene, avg_log2FC)\n",
    "ranks<- deframe(fc.df)\n",
    "\n",
    "fgsea(pathways = list(treg_ipex_up = treg_ipex_up, treg_ipex_down = treg_ipex_down), stats = ranks\n",
    "         )\n",
    "options(repr.plot.width = 10, repr.plot.height = 6)\n",
    "\n",
    "p  <- plotEnrichment(treg_ipex_up,\n",
    "               ranks) + labs(title=\"treg_ipex_up\") + ylim(-0.7,0.7) + ggtheme() +\n",
    "\n",
    "plotEnrichment(treg_ipex_down,\n",
    "               ranks) + labs(title=\"treg_ipex_down\") + ylim(-0.7,0.7) + ggtheme()\n",
    "p"
   ]
  },
  {
   "cell_type": "code",
   "execution_count": null,
   "id": "1a47f375",
   "metadata": {},
   "outputs": [],
   "source": [
    "fc.df  <- de_treg3  %>%  arrange(desc(avg_log2FC)) %>% \n",
    "dplyr::filter(cluster == \"Dia\")  %>% \n",
    "  dplyr::select(gene, avg_log2FC)\n",
    "ranks<- deframe(fc.df)\n",
    "\n",
    "fgsea(pathways = list(treg_ipex_up = treg_ipex_up, treg_ipex_down = treg_ipex_down), stats = ranks\n",
    "         )\n",
    "options(repr.plot.width = 10, repr.plot.height = 6)\n",
    "\n",
    "p  <- plotEnrichment(treg_ipex_up,\n",
    "               ranks) + labs(title=\"treg_ipex_up\") + ylim(-0.7,0.7) + ggtheme() +\n",
    "\n",
    "plotEnrichment(treg_ipex_down,\n",
    "               ranks) + labs(title=\"treg_ipex_down\") + ylim(-0.7,0.7) + ggtheme()\n",
    "p"
   ]
  },
  {
   "cell_type": "code",
   "execution_count": null,
   "id": "814c9dc5",
   "metadata": {},
   "outputs": [],
   "source": [
    "fc.df  <- de_treg4  %>%  arrange(desc(avg_log2FC)) %>% \n",
    "dplyr::filter(cluster == \"Dia\")  %>% \n",
    "  dplyr::select(gene, avg_log2FC)\n",
    "ranks<- deframe(fc.df)\n",
    "\n",
    "fgsea(pathways = list(treg_ipex_up = treg_ipex_up, treg_ipex_down = treg_ipex_down), stats = ranks\n",
    "         )\n",
    "options(repr.plot.width = 10, repr.plot.height = 6)\n",
    "\n",
    "p  <- plotEnrichment(treg_ipex_up,\n",
    "               ranks) + labs(title=\"treg_ipex_up\") + ylim(-0.7,0.7) + ggtheme() +\n",
    "\n",
    "plotEnrichment(treg_ipex_down,\n",
    "               ranks) + labs(title=\"treg_ipex_down\") + ylim(-0.7,0.7) + ggtheme()\n",
    "p"
   ]
  },
  {
   "cell_type": "code",
   "execution_count": null,
   "id": "b3974644",
   "metadata": {},
   "outputs": [],
   "source": [
    "Idents(treg)  <- treg$Disease"
   ]
  },
  {
   "cell_type": "code",
   "execution_count": null,
   "id": "d9e8bb48",
   "metadata": {},
   "outputs": [],
   "source": [
    "de_treg  <- FindAllMarkers(treg,\n",
    "               test.use = \"wilcox\", \n",
    "                          logfc.threshold = -Inf, min.pct = -Inf, min.diff.pct = -Inf,\n",
    "                                   only.pos = F,  \n",
    "                                   min.cells.feature = 1, return.thresh = 1)"
   ]
  },
  {
   "cell_type": "code",
   "execution_count": null,
   "id": "856ab886",
   "metadata": {
    "scrolled": true
   },
   "outputs": [],
   "source": [
    "de_treg"
   ]
  },
  {
   "cell_type": "code",
   "execution_count": null,
   "id": "276144af",
   "metadata": {},
   "outputs": [],
   "source": [
    "fc.df  <- de_treg  %>%  arrange(desc(avg_log2FC)) %>% \n",
    "dplyr::filter(cluster == \"Dia\")  %>% \n",
    "  dplyr::select(gene, avg_log2FC)\n",
    "ranks<- deframe(fc.df)\n",
    "\n",
    "fgsea(pathways = list(treg_ipex_up = treg_ipex_up, treg_ipex_down = treg_ipex_down), stats = ranks\n",
    "         )\n",
    "options(repr.plot.width = 10, repr.plot.height = 6)\n",
    "\n",
    "p  <- plotEnrichment(treg_ipex_up,\n",
    "               ranks) + labs(title=\"treg_ipex_up\") + ylim(-0.7,0.7) + ggtheme() +\n",
    "\n",
    "plotEnrichment(treg_ipex_down,\n",
    "               ranks) + labs(title=\"treg_ipex_down\") + ylim(-0.7,0.7) + ggtheme()\n",
    "p"
   ]
  },
  {
   "cell_type": "markdown",
   "id": "66716269",
   "metadata": {},
   "source": [
    "# GSEA"
   ]
  },
  {
   "cell_type": "markdown",
   "id": "bff09043",
   "metadata": {},
   "source": [
    "## IPEX Treg our Treg"
   ]
  },
  {
   "cell_type": "code",
   "execution_count": null,
   "id": "3914ee99",
   "metadata": {},
   "outputs": [],
   "source": [
    "fc.df  <- read_csv(\"../../240218_VN_Diabetes_V05/tables/fold_change/cd4_l3_treg.csv\")  %>% as.data.frame()\n"
   ]
  },
  {
   "cell_type": "code",
   "execution_count": null,
   "id": "0d139ed7",
   "metadata": {
    "scrolled": true
   },
   "outputs": [],
   "source": [
    "fc.df"
   ]
  },
  {
   "cell_type": "code",
   "execution_count": null,
   "id": "de2f98df",
   "metadata": {},
   "outputs": [],
   "source": [
    "zemmour  <- read_xlsx(\"../../240218_VN_Diabetes_V05/data/published_data/Zemmour_2018/zemmour2.xlsx\")"
   ]
  },
  {
   "cell_type": "markdown",
   "id": "8d39676b",
   "metadata": {},
   "source": [
    "zemmour is ipex vs healthy"
   ]
  },
  {
   "cell_type": "code",
   "execution_count": null,
   "id": "d02e3868",
   "metadata": {
    "scrolled": true
   },
   "outputs": [],
   "source": [
    "fc.df  %>% dplyr::filter(cluster == \"Dia\")  %>% left_join(zemmour) "
   ]
  },
  {
   "cell_type": "code",
   "execution_count": null,
   "id": "a01b7df3",
   "metadata": {},
   "outputs": [],
   "source": [
    "ipex_in_our  <- fc.df  %>% dplyr::filter(cluster == \"Dia\")  %>% left_join(zemmour)  %>% \n",
    "dplyr::filter(!is.na(Average_FC_in_Treg))"
   ]
  },
  {
   "cell_type": "code",
   "execution_count": null,
   "id": "b13d287d",
   "metadata": {
    "scrolled": true
   },
   "outputs": [],
   "source": [
    "ipex_in_our"
   ]
  },
  {
   "cell_type": "code",
   "execution_count": null,
   "id": "5224abd3",
   "metadata": {},
   "outputs": [],
   "source": [
    "treg_ipex_up  <- ipex_in_our  %>% dplyr::filter(Average_FC_in_Treg>1)  %>% pull(gene)"
   ]
  },
  {
   "cell_type": "code",
   "execution_count": null,
   "id": "b1893573",
   "metadata": {},
   "outputs": [],
   "source": [
    "treg_ipex_down  <- ipex_in_our  %>% dplyr::filter(Average_FC_in_Treg<1)  %>% pull(gene)"
   ]
  },
  {
   "cell_type": "code",
   "execution_count": null,
   "id": "1f5ff573",
   "metadata": {},
   "outputs": [],
   "source": [
    "# CD4L1\n",
    "fc.df  <- read_csv(\"../../240218_VN_Diabetes_V05/tables/fold_change/cd4_l3_treg.csv\")  %>% as.data.frame()\n",
    "fc.df  <- fc.df  %>%  arrange(desc(avg_log2FC)) %>% \n",
    "dplyr::filter(cluster == \"Dia\")  %>% \n",
    "  dplyr::select(gene, avg_log2FC)\n",
    "ranks<- deframe(fc.df)"
   ]
  },
  {
   "cell_type": "code",
   "execution_count": null,
   "id": "d7c186f0",
   "metadata": {},
   "outputs": [],
   "source": [
    "library(fgsea)"
   ]
  },
  {
   "cell_type": "code",
   "execution_count": null,
   "id": "929e7d4a",
   "metadata": {},
   "outputs": [],
   "source": [
    "options(repr.plot.width = 5, repr.plot.height = 3)\n",
    "\n",
    "p  <- plotEnrichment(treg_ipex_up,\n",
    "               ranks) + labs(title=\"treg_ipex_up\") + ylim(-0.7,0.7) + ggtheme() +\n",
    "\n",
    "plotEnrichment(treg_ipex_down,\n",
    "               ranks) + labs(title=\"treg_ipex_down\") + ylim(-0.7,0.7) + ggtheme()\n"
   ]
  },
  {
   "cell_type": "code",
   "execution_count": null,
   "id": "99c855ea",
   "metadata": {},
   "outputs": [],
   "source": [
    "p"
   ]
  },
  {
   "cell_type": "code",
   "execution_count": null,
   "id": "3f53b0ea",
   "metadata": {},
   "outputs": [],
   "source": [
    "dir.create(\"../figures/gsea/\")"
   ]
  },
  {
   "cell_type": "code",
   "execution_count": null,
   "id": "6b0526b0",
   "metadata": {},
   "outputs": [],
   "source": [
    "ggsave(p, filename = paste0(\"../figures/gsea/treg_zemmour.svg\"), width = 24, height = 12, units = \"cm\")"
   ]
  },
  {
   "cell_type": "code",
   "execution_count": null,
   "id": "0073a829",
   "metadata": {},
   "outputs": [],
   "source": []
  },
  {
   "cell_type": "code",
   "execution_count": null,
   "id": "f05ded98",
   "metadata": {},
   "outputs": [],
   "source": [
    "fgseaRes <- fgsea(pathways = list(treg_ipex_up = treg_ipex_up, treg_ipex_down = treg_ipex_down), \n",
    "                 stats = ranks)"
   ]
  },
  {
   "cell_type": "code",
   "execution_count": null,
   "id": "5ae1edd4",
   "metadata": {},
   "outputs": [],
   "source": [
    "fgseaRes"
   ]
  },
  {
   "cell_type": "code",
   "execution_count": null,
   "id": "b1ddc8b3",
   "metadata": {
    "scrolled": true
   },
   "outputs": [],
   "source": [
    "ipex_in_our"
   ]
  },
  {
   "cell_type": "code",
   "execution_count": null,
   "id": "62bedefa",
   "metadata": {},
   "outputs": [],
   "source": [
    "ipex_in_our_rank  <- ipex_in_our  %>% dplyr::select(avg_log2FC, Average_FC_in_Treg)  %>% \n",
    "mutate_each(funs(dense_rank(-.))) "
   ]
  },
  {
   "cell_type": "code",
   "execution_count": null,
   "id": "2fb9c896",
   "metadata": {
    "scrolled": true
   },
   "outputs": [],
   "source": [
    "ipex_in_our_rank$gene  <- ipex_in_our$gene"
   ]
  },
  {
   "cell_type": "code",
   "execution_count": null,
   "id": "359be6cf",
   "metadata": {
    "scrolled": true
   },
   "outputs": [],
   "source": [
    "ipex_in_our_rank"
   ]
  },
  {
   "cell_type": "code",
   "execution_count": null,
   "id": "12d3e54f",
   "metadata": {
    "scrolled": true
   },
   "outputs": [],
   "source": [
    "ipex_in_our_rank %>% mutate(decile_ipex = ntile(Average_FC_in_Treg, 10),\n",
    "                            dec_our = ntile(avg_log2FC, 10)\n",
    "                            )  %>% group_by(decile_ipex, dec_our)  %>% tally"
   ]
  },
  {
   "cell_type": "code",
   "execution_count": null,
   "id": "ce60fd6a",
   "metadata": {
    "scrolled": true
   },
   "outputs": [],
   "source": [
    "ipex_in_our_rank"
   ]
  },
  {
   "cell_type": "code",
   "execution_count": null,
   "id": "1d79bd31",
   "metadata": {},
   "outputs": [],
   "source": [
    "\n",
    "options(repr.plot.width = 6, repr.plot.height = 5)\n",
    "ipex_in_our_rank %>% mutate(decile_ipex = ntile(Average_FC_in_Treg, 8),\n",
    "                            dec_our = ntile(avg_log2FC, 8)\n",
    "                            )  %>% group_by(decile_ipex, dec_our)  %>% tally  %>% \n",
    "ggplot(aes(decile_ipex, dec_our)) + \n",
    "  geom_point(aes(size = n, colour = n)) + \n",
    "  theme_bw() + scale_size_continuous(range=c(7,12)) +\n",
    "scale_y_reverse()+\n",
    "scale_x_reverse()+\n",
    "coord_flip()+\n",
    "  geom_text(aes(label = n), size = 5) + \n",
    "  scale_colour_gradient2(low = \"lightskyblue\", mid = \"lightsteelblue2\", high = \"#B07AA1\", midpoint = 2) +\n",
    "  theme_bw() + ggtheme()\n",
    "\n",
    "ggsave(\"../figures/gsea/zemmour_treg_genes_corr.svg\", width = 13, height = 11, units = \"cm\")"
   ]
  },
  {
   "cell_type": "code",
   "execution_count": null,
   "id": "33cb0d87",
   "metadata": {},
   "outputs": [],
   "source": [
    "ipex_in_our_rank %>% mutate(decile_ipex = ntile(Average_FC_in_Treg, 8),\n",
    "                            decile_our = ntile(avg_log2FC, 8)\n",
    "                            )  %>% dplyr::filter(decile_ipex == 8 & decile_our == 8)  %>% pull(gene)"
   ]
  },
  {
   "cell_type": "markdown",
   "id": "6a0b1647",
   "metadata": {},
   "source": [
    "## Borna\n"
   ]
  },
  {
   "cell_type": "code",
   "execution_count": null,
   "id": "49edcbb7",
   "metadata": {},
   "outputs": [],
   "source": [
    "borna  <- readRDS(\"../../240218_VN_Diabetes_V05/data/published_data/Borna_2023/GSE247274_unstim.rds\")"
   ]
  },
  {
   "cell_type": "code",
   "execution_count": null,
   "id": "c10793d6",
   "metadata": {},
   "outputs": [],
   "source": [
    "DimPlot(borna)"
   ]
  },
  {
   "cell_type": "code",
   "execution_count": null,
   "id": "97176df9",
   "metadata": {},
   "outputs": [],
   "source": [
    "borna$Gated_and_FOXP3  %>% table"
   ]
  },
  {
   "cell_type": "code",
   "execution_count": null,
   "id": "207b8c57",
   "metadata": {},
   "outputs": [],
   "source": [
    "borna$Gated_and_FOXP3  %>% table"
   ]
  },
  {
   "cell_type": "code",
   "execution_count": null,
   "id": "07aa7d8f",
   "metadata": {},
   "outputs": [],
   "source": [
    "borna$cluster_names_mem  %>% table"
   ]
  },
  {
   "cell_type": "code",
   "execution_count": null,
   "id": "4d3b1670",
   "metadata": {},
   "outputs": [],
   "source": [
    "DimPlot(borna, group.by = \"status\")"
   ]
  },
  {
   "cell_type": "code",
   "execution_count": null,
   "id": "d41bea2a",
   "metadata": {},
   "outputs": [],
   "source": [
    "DimPlot(borna, group.by = \"Gated_and_FOXP3\")"
   ]
  },
  {
   "cell_type": "code",
   "execution_count": null,
   "id": "edee5f60",
   "metadata": {},
   "outputs": [],
   "source": [
    "FeaturePlot(borna, features = \"ISG15\")\n",
    "FeaturePlot(borna, features = \"CCR10\")\n",
    "FeaturePlot(borna, features = \"TNFRSF9\")"
   ]
  },
  {
   "cell_type": "code",
   "execution_count": null,
   "id": "fa2cb9df",
   "metadata": {
    "scrolled": true
   },
   "outputs": [],
   "source": [
    "FeaturePlot(borna, features = \"TCF7\")\n",
    "FeaturePlot(borna, features = \"LAG3\")\n",
    "FeaturePlot(borna, features = \"GZMK\")\n",
    "FeaturePlot(borna, features = \"FOXP3\")\n",
    "FeaturePlot(borna, features = \"KLRG1\")\n",
    "FeaturePlot(borna, features = \"CD226\")"
   ]
  },
  {
   "cell_type": "markdown",
   "id": "7d9a175a",
   "metadata": {},
   "source": [
    "### Cells clustering as Tregs"
   ]
  },
  {
   "cell_type": "code",
   "execution_count": null,
   "id": "0000b044",
   "metadata": {},
   "outputs": [],
   "source": [
    "borna_treg  <- subset(borna, cluster_names_mem %in% c(\"Treg memory 2\", \"Treg memory 1\", \"Treg naive\"))"
   ]
  },
  {
   "cell_type": "code",
   "execution_count": null,
   "id": "e7f5ca02",
   "metadata": {},
   "outputs": [],
   "source": [
    "Idents(borna_treg)  <- borna_treg$status\n",
    "    mrk  <- FindAllMarkers(borna_treg)"
   ]
  },
  {
   "cell_type": "code",
   "execution_count": null,
   "id": "34b8b49c",
   "metadata": {
    "scrolled": true
   },
   "outputs": [],
   "source": [
    "borna_hd_genes  <- mrk  %>% dplyr::filter(avg_log2FC>0 & cluster == \"HD\")  %>% pull(gene)"
   ]
  },
  {
   "cell_type": "code",
   "execution_count": null,
   "id": "2ab45432",
   "metadata": {},
   "outputs": [],
   "source": [
    "borna_hd_genes  %>% length"
   ]
  },
  {
   "cell_type": "code",
   "execution_count": null,
   "id": "2cceb974",
   "metadata": {},
   "outputs": [],
   "source": [
    "borna_ipex_genes  <- mrk  %>% dplyr::filter(avg_log2FC>0 & cluster == \"IPEX\")  %>% pull(gene) "
   ]
  },
  {
   "cell_type": "code",
   "execution_count": null,
   "id": "d76c5832",
   "metadata": {},
   "outputs": [],
   "source": [
    "borna_ipex_genes  %>% length"
   ]
  },
  {
   "cell_type": "code",
   "execution_count": null,
   "id": "0b050d3b",
   "metadata": {},
   "outputs": [],
   "source": [
    "fc.df  <- read_csv(\"../../240218_VN_Diabetes_V05/tables/fold_change/cd4_l3_treg.csv\")  %>% as.data.frame()\n",
    "fc.df  <- fc.df  %>%  arrange(desc(avg_log2FC)) %>% \n",
    "dplyr::filter(cluster == \"Dia\")  %>% \n",
    "  dplyr::select(gene, avg_log2FC)\n",
    "ranks<- deframe(fc.df)\n"
   ]
  },
  {
   "cell_type": "code",
   "execution_count": null,
   "id": "6c153f0a",
   "metadata": {},
   "outputs": [],
   "source": [
    "fgsea_bulk <- fgsea(pathways = list(Borna_UP_in_Ctrl = borna_hd_genes,\n",
    "                                    Borna_UP_in_IPEX = borna_ipex_genes\n",
    "                                    ), \n",
    "                                      stats    = ranks)\n",
    "fgsea_bulk"
   ]
  },
  {
   "cell_type": "code",
   "execution_count": null,
   "id": "b42d9a7a",
   "metadata": {},
   "outputs": [],
   "source": [
    "fgsea_bulk$leadingEdge"
   ]
  },
  {
   "cell_type": "code",
   "execution_count": null,
   "id": "b44e21cb",
   "metadata": {},
   "outputs": [],
   "source": [
    "options(repr.plot.width = 5, repr.plot.height = 3)\n",
    "\n",
    "p  <- plotEnrichment(borna_hd_genes,\n",
    "               ranks) + labs(title=\"borna_hd_genes\") + ylim(-0.7,0.7) + ggtheme() +\n",
    "\n",
    "plotEnrichment(borna_ipex_genes,\n",
    "               ranks) + labs(title=\"borna_ipex_genes\") + ylim(-0.7,0.7) + ggtheme()\n",
    "\n",
    "\n",
    "p\n",
    "\n",
    "dir.create(\"../figures/gsea/\")\n",
    "\n",
    "ggsave(p, filename = paste0(\"../figures/gsea/treg_borna.svg\"), width = 24, height = 12, units = \"cm\")"
   ]
  },
  {
   "cell_type": "markdown",
   "id": "893668ec",
   "metadata": {},
   "source": [
    "### Only cells sorted as Tregs"
   ]
  },
  {
   "cell_type": "code",
   "execution_count": null,
   "id": "31977be1",
   "metadata": {},
   "outputs": [],
   "source": [
    "options(repr.plot.width = 10, repr.plot.height = 6)\n",
    "\n",
    "DimPlot(borna, group.by = \"Gated_and_FOXP3\")"
   ]
  },
  {
   "cell_type": "code",
   "execution_count": null,
   "id": "1ea6732f",
   "metadata": {},
   "outputs": [],
   "source": [
    "options(repr.plot.width = 16, repr.plot.height = 12)\n",
    "\n",
    "DimPlot(borna, group.by = \"cluster_names_mem\", split.by = \"Gated_and_FOXP3\", ncol = 3)"
   ]
  },
  {
   "cell_type": "code",
   "execution_count": null,
   "id": "e0f3454e",
   "metadata": {},
   "outputs": [],
   "source": [
    "borna_treg  <- subset(borna, Gated_and_FOXP3 %in% c(\"FOXP3_plus_Treg\", \"FOXP3_minus_Treg\"))"
   ]
  },
  {
   "cell_type": "code",
   "execution_count": null,
   "id": "ff68887b",
   "metadata": {},
   "outputs": [],
   "source": [
    "Idents(borna_treg)  <- borna_treg$status\n",
    "    mrk  <- FindAllMarkers(borna_treg)"
   ]
  },
  {
   "cell_type": "code",
   "execution_count": null,
   "id": "8332f7e4",
   "metadata": {
    "scrolled": true
   },
   "outputs": [],
   "source": [
    "borna_hd_genes  <- mrk  %>% dplyr::filter(avg_log2FC>0 & cluster == \"HD\")  %>% pull(gene)"
   ]
  },
  {
   "cell_type": "code",
   "execution_count": null,
   "id": "73f38a91",
   "metadata": {},
   "outputs": [],
   "source": [
    "borna_ipex_genes  <- mrk  %>% dplyr::filter(avg_log2FC>0 & cluster == \"IPEX\")  %>% pull(gene)"
   ]
  },
  {
   "cell_type": "code",
   "execution_count": null,
   "id": "1b37684a",
   "metadata": {},
   "outputs": [],
   "source": [
    "fc.df  <- read_csv(\"../../240218_VN_Diabetes_V05/tables/fold_change/cd4_l3_treg.csv\")  %>% as.data.frame()\n",
    "fc.df  <- fc.df  %>%  arrange(desc(avg_log2FC)) %>% \n",
    "dplyr::filter(cluster == \"Dia\")  %>% \n",
    "  dplyr::select(gene, avg_log2FC)\n",
    "ranks<- deframe(fc.df)\n"
   ]
  },
  {
   "cell_type": "code",
   "execution_count": null,
   "id": "6a53990f",
   "metadata": {},
   "outputs": [],
   "source": [
    "fgsea_bulk <- fgsea(pathways = list(Borna_UP_in_Ctrl = borna_hd_genes,\n",
    "                                    Borna_UP_in_IPEX = borna_ipex_genes\n",
    "                                    ), \n",
    "                                      stats    = ranks)\n",
    "fgsea_bulk"
   ]
  },
  {
   "cell_type": "code",
   "execution_count": null,
   "id": "a49f1d75",
   "metadata": {},
   "outputs": [],
   "source": [
    "fgsea_bulk$leadingEdge"
   ]
  },
  {
   "cell_type": "code",
   "execution_count": null,
   "id": "5252df16",
   "metadata": {},
   "outputs": [],
   "source": [
    "options(repr.plot.width = 5, repr.plot.height = 3)\n",
    "\n",
    "p  <- plotEnrichment(borna_hd_genes,\n",
    "               ranks) + labs(title=\"borna_hd_genes\") + ylim(-0.7,0.7) + ggtheme() +\n",
    "\n",
    "plotEnrichment(borna_ipex_genes,\n",
    "               ranks) + labs(title=\"borna_ipex_genes\") + ylim(-0.7,0.7) + ggtheme()\n",
    "\n",
    "\n",
    "p"
   ]
  },
  {
   "cell_type": "code",
   "execution_count": null,
   "id": "49039a2a",
   "metadata": {},
   "outputs": [],
   "source": [
    "ggsave(p, filename = paste0(\"../figures/gsea/treg_borna.svg\"), width = 24, height = 12, units = \"cm\")"
   ]
  },
  {
   "cell_type": "code",
   "execution_count": null,
   "id": "6de51523",
   "metadata": {},
   "outputs": [],
   "source": []
  },
  {
   "cell_type": "markdown",
   "id": "32fe1984",
   "metadata": {},
   "source": [
    "# HPAP Treg"
   ]
  },
  {
   "cell_type": "code",
   "execution_count": null,
   "id": "1c72a0a8",
   "metadata": {},
   "outputs": [],
   "source": [
    "treg_hpap  <- readRDS(\"../../230927_VN_HPAP_Diabetes_Multiome/data/treg.rds\")"
   ]
  },
  {
   "cell_type": "code",
   "execution_count": null,
   "id": "93de8c53",
   "metadata": {},
   "outputs": [],
   "source": [
    "treg_hpap"
   ]
  },
  {
   "cell_type": "code",
   "execution_count": null,
   "id": "764917c3",
   "metadata": {},
   "outputs": [],
   "source": [
    "DimPlot(treg_hpap)"
   ]
  },
  {
   "cell_type": "code",
   "execution_count": null,
   "id": "9f3a5f51",
   "metadata": {},
   "outputs": [],
   "source": [
    "colnames(treg_hpap@meta.data)"
   ]
  },
  {
   "cell_type": "code",
   "execution_count": null,
   "id": "fa852719",
   "metadata": {},
   "outputs": [],
   "source": [
    "DimPlot(treg_hpap, group.by = \"Monaco_single\")"
   ]
  },
  {
   "cell_type": "code",
   "execution_count": null,
   "id": "dcf7f927",
   "metadata": {},
   "outputs": [],
   "source": [
    "options(repr.plot.width = 15, repr.plot.height = 10)\n",
    "DimPlot(treg_hpap, group.by = \"HPCA_single\")"
   ]
  },
  {
   "cell_type": "code",
   "execution_count": null,
   "id": "03f1f477",
   "metadata": {},
   "outputs": [],
   "source": [
    "DimPlot(treg_hpap, group.by = \"Wherry_main\")"
   ]
  },
  {
   "cell_type": "code",
   "execution_count": null,
   "id": "7fbbf558",
   "metadata": {
    "scrolled": true
   },
   "outputs": [],
   "source": [
    "DimPlot(treg_hpap, group.by = \"predicted.celltype.l3\")"
   ]
  },
  {
   "cell_type": "code",
   "execution_count": null,
   "id": "fa8110e4",
   "metadata": {},
   "outputs": [],
   "source": [
    "seu  <- treg_hpap"
   ]
  },
  {
   "cell_type": "code",
   "execution_count": null,
   "id": "ffcffc20",
   "metadata": {
    "scrolled": true
   },
   "outputs": [],
   "source": [
    "seu[[\"percent.mt\"]] <- PercentageFeatureSet(seu, pattern = \"^MT-\")\n",
    "seu[[\"percent.rt\"]] <- PercentageFeatureSet(seu, pattern = \"^RP[LS]\")\n",
    "\n",
    "# Remove TRAV, TRBV genes: blood young B6\n",
    "rownames(seu)\n",
    "seu_annots <- seu@meta.data\n",
    "seu_counts <- seu[!(grepl('TRAV', rownames(seu)) |\n",
    "          grepl('TRBV', rownames(seu)) |\n",
    "          grepl('^MT-', rownames(seu)) |\n",
    "            grepl('RPL', rownames(seu)) |\n",
    "          grepl('RPS', rownames(seu)) |\n",
    "          grepl('MTRN', rownames(seu)) |\n",
    "          grepl('LINC', rownames(seu)) |\n",
    "          grepl('\\\\.', rownames(seu)) |\n",
    "          grepl('\\\\-', rownames(seu)) |\n",
    "          grepl('^AS', rownames(seu)) |\n",
    "          grepl('^AL', rownames(seu)) |\n",
    "          grepl('^AC', rownames(seu)) \n",
    "            ),]\n",
    "\n",
    "seu <- CreateSeuratObject(counts = seu_counts[[\"RNA\"]]@counts, project = \"seu\", \n",
    "                          min.cells = 3, min.features = 200, meta.data = seu_annots)\n",
    " seu <- NormalizeData(object = seu)\n",
    "  seu <- ScaleData(seu, verbose = FALSE)\n",
    "  seu <- FindVariableFeatures(seu, selection.method = \"vst\", nfeatures = 1000, \n",
    "                                       verbose = FALSE)\n",
    "  seu <- RunPCA(seu, npcs = 20, verbose = FALSE)\n",
    "  seu <- RunUMAP(seu, reduction = \"pca\", dims = 1:20)\n",
    "  seu <- FindNeighbors(seu, dims = 1:20)\n",
    "  seu <- FindClusters(seu, resolution = 0.9)\n"
   ]
  },
  {
   "cell_type": "code",
   "execution_count": null,
   "id": "776f9fab",
   "metadata": {},
   "outputs": [],
   "source": [
    "DimPlot(seu)"
   ]
  },
  {
   "cell_type": "code",
   "execution_count": null,
   "id": "abfd5d07",
   "metadata": {},
   "outputs": [],
   "source": [
    "options(repr.plot.width = 15)\n",
    "VlnPlot(seu, features = c(\"percent.mt\", \"percent.rp\", \"nCount_RNA\", \"nFeature_RNA\"), ncol = 4, raster = F)"
   ]
  },
  {
   "cell_type": "code",
   "execution_count": null,
   "id": "c7661c04",
   "metadata": {},
   "outputs": [],
   "source": [
    "load(\"../231003_DiabetesV02/data/ref_wherry_new.RData\")"
   ]
  },
  {
   "cell_type": "code",
   "execution_count": null,
   "id": "1f88f0e0",
   "metadata": {},
   "outputs": [],
   "source": [
    "hpca.se  <- celldex::HumanPrimaryCellAtlasData()\n",
    "mid.se <- celldex::MonacoImmuneData()"
   ]
  },
  {
   "cell_type": "code",
   "execution_count": null,
   "id": "61a0232e",
   "metadata": {},
   "outputs": [],
   "source": [
    "seu  <- annotate_tcell_data(seu)"
   ]
  },
  {
   "cell_type": "code",
   "execution_count": null,
   "id": "01db5f78",
   "metadata": {},
   "outputs": [],
   "source": [
    "merged.list  <- SplitObject(seu, split.by = \"Experiment_ID\")"
   ]
  },
  {
   "cell_type": "code",
   "execution_count": null,
   "id": "40167ec4",
   "metadata": {},
   "outputs": [],
   "source": []
  },
  {
   "cell_type": "code",
   "execution_count": null,
   "id": "dcbf8aaa",
   "metadata": {},
   "outputs": [],
   "source": [
    "merged.list <- lapply(X = merged.list, FUN = function(x) {\n",
    "    DefaultAssay(x)  <- \"RNA\"\n",
    "    x$barcode  <- colnames(x)\n",
    "    x <- NormalizeData(x)\n",
    "    x <- FindVariableFeatures(x, selection.method = \"vst\", nfeatures = 2000)\n",
    "})"
   ]
  },
  {
   "cell_type": "code",
   "execution_count": null,
   "id": "35343195",
   "metadata": {},
   "outputs": [],
   "source": [
    "plan(\"sequential\")"
   ]
  },
  {
   "cell_type": "code",
   "execution_count": null,
   "id": "ce1e4918",
   "metadata": {},
   "outputs": [],
   "source": [
    "gc()"
   ]
  },
  {
   "cell_type": "code",
   "execution_count": null,
   "id": "f9675c1a",
   "metadata": {},
   "outputs": [],
   "source": [
    "new_dia_experiment2 <- Run.STACAS(merged.list, dims = 1:12)\n",
    "new_dia_experiment2 <- RunUMAP(new_dia_experiment2, dims = 1:12) "
   ]
  },
  {
   "cell_type": "code",
   "execution_count": null,
   "id": "24a2564f",
   "metadata": {},
   "outputs": [],
   "source": []
  },
  {
   "cell_type": "code",
   "execution_count": null,
   "id": "28d2fcde",
   "metadata": {},
   "outputs": [],
   "source": [
    "treg_hpap  <- new_dia_experiment2"
   ]
  },
  {
   "cell_type": "code",
   "execution_count": null,
   "id": "8a87c80a",
   "metadata": {},
   "outputs": [],
   "source": [
    "treg_hpap <- FindNeighbors(treg_hpap, reduction = \"pca\", dims = 1:12)"
   ]
  },
  {
   "cell_type": "code",
   "execution_count": null,
   "id": "6fa3cda6",
   "metadata": {
    "scrolled": true
   },
   "outputs": [],
   "source": [
    "treg_hpap <- FindClusters(treg_hpap, resolution = 0.6)"
   ]
  },
  {
   "cell_type": "code",
   "execution_count": null,
   "id": "42a833e5",
   "metadata": {
    "scrolled": true
   },
   "outputs": [],
   "source": [
    "options(repr.plot.width = 6, repr.plot.height = 5)\n",
    "DimPlot(treg_hpap, label = T)"
   ]
  },
  {
   "cell_type": "code",
   "execution_count": null,
   "id": "8ab06e09",
   "metadata": {},
   "outputs": [],
   "source": [
    "options(repr.plot.width = 15, repr.plot.height = 10)\n",
    "DimPlot(treg_hpap, group.by = \"Monaco_single\")"
   ]
  },
  {
   "cell_type": "code",
   "execution_count": null,
   "id": "3a33e346",
   "metadata": {},
   "outputs": [],
   "source": [
    "DimPlot(treg_hpap, group.by = \"HPCA_single\")"
   ]
  },
  {
   "cell_type": "code",
   "execution_count": null,
   "id": "82368103",
   "metadata": {},
   "outputs": [],
   "source": [
    "DimPlot(treg_hpap, group.by = \"Wherry_main\")"
   ]
  },
  {
   "cell_type": "code",
   "execution_count": null,
   "id": "b564ad2d",
   "metadata": {
    "scrolled": true
   },
   "outputs": [],
   "source": [
    "DimPlot(treg_hpap, group.by = \"predicted.celltype.l3\")"
   ]
  },
  {
   "cell_type": "code",
   "execution_count": null,
   "id": "d24c6795",
   "metadata": {},
   "outputs": [],
   "source": [
    "DimPlot(treg_hpap, group.by = \"predicted.celltype.l3\")"
   ]
  },
  {
   "cell_type": "code",
   "execution_count": null,
   "id": "202e29f5",
   "metadata": {},
   "outputs": [],
   "source": [
    "DefaultAssay(treg_hpap)  <- \"RNA\"\n",
    "FeaturePlot(treg_hpap, features = c(\"FOXP3\",\"IL2RA\",\"CD226\",\"CTLA4\"), min.cutoff = 0)"
   ]
  },
  {
   "cell_type": "code",
   "execution_count": null,
   "id": "98816c55",
   "metadata": {},
   "outputs": [],
   "source": [
    "FeaturePlot(treg_hpap, features = c(\"SELL\",\"TIGIT\",\"GZMK\",\"IL7R\"), min.cutoff = 0)"
   ]
  },
  {
   "cell_type": "code",
   "execution_count": null,
   "id": "0f18b4d7",
   "metadata": {},
   "outputs": [],
   "source": []
  },
  {
   "cell_type": "code",
   "execution_count": null,
   "id": "4af65a93",
   "metadata": {},
   "outputs": [],
   "source": [
    "FeaturePlot(treg_hpap, features = c(\"IFNG\",\"ITGAE\",\"ZNF683\",\"IKZF2\"), min.cutoff = 0)"
   ]
  },
  {
   "cell_type": "code",
   "execution_count": null,
   "id": "2278f28f",
   "metadata": {},
   "outputs": [],
   "source": [
    "FeaturePlot(treg_hpap, features = c(\"IL10\",\"IL19\",\"KLRG1\",\"TBX21\"), min.cutoff = 0)"
   ]
  },
  {
   "cell_type": "code",
   "execution_count": null,
   "id": "140da7dd",
   "metadata": {
    "scrolled": true
   },
   "outputs": [],
   "source": [
    "options(repr.plot.width = 7, repr.plot.height = 5)\n",
    "DimPlot(treg_hpap, group.by = \"Disease\")"
   ]
  },
  {
   "cell_type": "code",
   "execution_count": null,
   "id": "34a0dbe8",
   "metadata": {},
   "outputs": [],
   "source": [
    "options(repr.plot.width = 14, repr.plot.height = 5)\n",
    "DimPlot(treg_hpap, split.by = \"Disease\")"
   ]
  },
  {
   "cell_type": "code",
   "execution_count": null,
   "id": "dcfc51cb",
   "metadata": {
    "scrolled": true
   },
   "outputs": [],
   "source": [
    "DimPlot(treg_hpap, label = T)"
   ]
  },
  {
   "cell_type": "code",
   "execution_count": null,
   "id": "f670dc9d",
   "metadata": {},
   "outputs": [],
   "source": [
    "saveRDS(treg_hpap, \"240623_treg_hpap_stacas_v06.rds\")"
   ]
  },
  {
   "cell_type": "code",
   "execution_count": null,
   "id": "a83de52b",
   "metadata": {},
   "outputs": [],
   "source": [
    "treg_hpap  <- readRDS(\"../data/published_data/HPAP/240623_treg_hpap_stacas_v06.rds\")"
   ]
  },
  {
   "cell_type": "code",
   "execution_count": null,
   "id": "6afb4d50",
   "metadata": {},
   "outputs": [],
   "source": [
    "DefaultAssay(treg_hpap)  <- \"integrated\""
   ]
  },
  {
   "cell_type": "code",
   "execution_count": null,
   "id": "3b31a2ff",
   "metadata": {},
   "outputs": [],
   "source": [
    "treg_hpap <- FindClusters(treg_hpap, resolution = 0.3)"
   ]
  },
  {
   "cell_type": "code",
   "execution_count": null,
   "id": "83a2ee15",
   "metadata": {
    "scrolled": true
   },
   "outputs": [],
   "source": [
    "DimPlot(treg_hpap, label = T)"
   ]
  },
  {
   "cell_type": "code",
   "execution_count": null,
   "id": "67e69721",
   "metadata": {},
   "outputs": [],
   "source": [
    "options(repr.plot.width = 12, repr.plot.height = 10)\n",
    "\n",
    "seurat_meta_data <- treg_hpap@meta.data\n",
    "seurat_meta_data$sample  <- seurat_meta_data$source\n",
    "seurat_meta_data$sample  <- paste(seurat_meta_data$Patient_ID, seurat_meta_data$Tissue) \n",
    "\n",
    "# Create grouped dataframe, calculate the frequencies of clusters\n",
    "df4 <- seurat_meta_data %>% group_by(sample, seurat_clusters) %>% \n",
    "  summarise(n = n()) %>% \n",
    "  unique() %>% \n",
    "  mutate(freq = n / sum(n)) \n",
    "\n",
    "\n",
    "# As we've lost non-grouping variables, let's join them back\n",
    "md_to_join <- seurat_meta_data %>% dplyr::select(sample, Disease, Patient_ID, Tissue) %>% unique()\n",
    "df4  <- left_join(df4, md_to_join, by = \"sample\")\n",
    "\n",
    "# The final plot\n",
    "\n",
    "df4 %>% ggplot(aes(x = Disease, y = freq)) + # you can change the x to whatever variable you're interested in\n",
    "  geom_boxplot(outlier.shape = NA) + \n",
    "  geom_dotplot(binaxis='y', stackdir='center', dotsize=0) + \n",
    "  geom_jitter(position=position_jitter(0.2), size = 2, aes(color = Patient_ID, shape = Tissue)) + # in aes, you can also use shape or fill (for the shapes that allow it)\n",
    "  facet_wrap(~seurat_clusters, scales = \"free\") +\n",
    "  ylab(\"Frequency\") +\n",
    "  xlab(\"Condition\") +\n",
    "ggpubr::stat_compare_means() +\n",
    "  ylim(c(0,NA)) + # This ensures that our x axis starts at zero, but feel free to remove this line\n",
    "  theme_classic() +\n",
    "  theme(strip.background = element_blank(), panel.grid = element_blank())\n"
   ]
  },
  {
   "cell_type": "code",
   "execution_count": null,
   "id": "2f9c3852",
   "metadata": {},
   "outputs": [],
   "source": [
    "options(repr.plot.width = 16, repr.plot.height = 20)\n",
    "\n",
    "seurat_meta_data <- treg_hpap@meta.data\n",
    "seurat_meta_data$sample  <- paste(seurat_meta_data$Patient_ID, seurat_meta_data$Tissue) \n",
    "\n",
    "# Create grouped dataframe, calculate the frequencies of clusters\n",
    "df4 <- seurat_meta_data %>% group_by(sample, seurat_clusters) %>% \n",
    "  summarise(n = n()) %>% \n",
    "  unique() %>% \n",
    "  mutate(freq = n / sum(n)) \n",
    "\n",
    "\n",
    "# As we've lost non-grouping variables, let's join them back\n",
    "md_to_join <- seurat_meta_data %>% dplyr::select(sample, Disease, Patient_ID, Tissue) %>% unique()\n",
    "df4  <- left_join(df4, md_to_join, by = \"sample\")\n",
    "\n",
    "# The final plot\n",
    "\n",
    "df4 %>% ggplot(aes(x = Disease, y = freq)) + # you can change the x to whatever variable you're interested in\n",
    "  geom_boxplot(outlier.shape = NA) + \n",
    "  geom_dotplot(binaxis='y', stackdir='center', dotsize=0) + \n",
    "  geom_jitter(position=position_jitter(0.2), size = 2, aes(color = Patient_ID, shape = Tissue)) + # in aes, you can also use shape or fill (for the shapes that allow it)\n",
    "  facet_grid(rows = vars(seurat_clusters), cols = vars(Tissue), scales = \"free\") +\n",
    "  ylab(\"Frequency\") +\n",
    "  xlab(\"Condition\") +\n",
    "  ylim(c(0,NA)) + # This ensures that our x axis starts at zero, but feel free to remove this line\n",
    "  theme_classic() +\n",
    "stat_compare_means(label = \"p.format\")+\n",
    "  theme(strip.background = element_blank(), panel.grid = element_blank())\n"
   ]
  },
  {
   "cell_type": "markdown",
   "id": "d901cf80",
   "metadata": {},
   "source": [
    "### GSEA our markers in HPAP"
   ]
  },
  {
   "cell_type": "code",
   "execution_count": null,
   "id": "02119d4a",
   "metadata": {},
   "outputs": [],
   "source": [
    "Idents(treg_hpap)  <- treg_hpap$Disease"
   ]
  },
  {
   "cell_type": "code",
   "execution_count": null,
   "id": "d25198d4",
   "metadata": {},
   "outputs": [],
   "source": [
    "treg_hpap$Disease  %>% table"
   ]
  },
  {
   "cell_type": "code",
   "execution_count": null,
   "id": "7f5473d1",
   "metadata": {},
   "outputs": [],
   "source": [
    "fc_HPAP2  <- FindAllMarkers(treg_hpap, only.pos = TRUE, logfc.threshold = 0.2, assay = \"RNA\")"
   ]
  },
  {
   "cell_type": "code",
   "execution_count": null,
   "id": "81b7fbad",
   "metadata": {
    "scrolled": true
   },
   "outputs": [],
   "source": [
    "fc_HPAP2 "
   ]
  },
  {
   "cell_type": "code",
   "execution_count": null,
   "id": "bb7c66c8",
   "metadata": {},
   "outputs": [],
   "source": [
    "# CD4L1\n",
    "fc.df  <- read_csv(\"../../240218_VN_Diabetes_V05/tables/fold_change/cd4_l3_treg.csv\")  %>% as.data.frame()\n",
    "fc.df  <- fc.df  %>%  arrange(desc(avg_log2FC)) %>% \n",
    "dplyr::filter(cluster == \"Dia\")  %>% \n",
    "  dplyr::select(gene, avg_log2FC)\n",
    "ranks<- deframe(fc.df)\n",
    "\n",
    "library(fgsea)\n",
    "\n",
    "options(repr.plot.width = 5, repr.plot.height = 3)"
   ]
  },
  {
   "cell_type": "code",
   "execution_count": null,
   "id": "7c42eb13",
   "metadata": {},
   "outputs": [],
   "source": [
    "hpap_up_ctrl  <- fc_HPAP2  %>% filter(cluster == \"Ctrl\")  %>% pull(gene)\n",
    "hpap_up_ctrl  <- hpap_up_ctrl[which(hpap_up_ctrl %in% names(ranks))]"
   ]
  },
  {
   "cell_type": "code",
   "execution_count": null,
   "id": "082968e2",
   "metadata": {},
   "outputs": [],
   "source": [
    "hpap_up_ctrl"
   ]
  },
  {
   "cell_type": "code",
   "execution_count": null,
   "id": "55ef79a6",
   "metadata": {},
   "outputs": [],
   "source": [
    "hpap_up_dia  <- fc_HPAP2  %>% filter(cluster == \"T1DM\")  %>% pull(gene)\n",
    "hpap_up_dia\n",
    "hpap_up_dia  <- hpap_up_dia[which(hpap_up_dia %in% names(ranks))]"
   ]
  },
  {
   "cell_type": "code",
   "execution_count": null,
   "id": "78b4398b",
   "metadata": {},
   "outputs": [],
   "source": [
    "plotEnrichment(hpap_up_ctrl,\n",
    "               ranks) + labs(title=\"HPAP up in Ctrl\") + ylim(-0.7,0.7) + ggtheme() "
   ]
  },
  {
   "cell_type": "code",
   "execution_count": null,
   "id": "b4d7c4ae",
   "metadata": {},
   "outputs": [],
   "source": [
    "plotEnrichment(hpap_up_dia,\n",
    "               ranks) + labs(title=\"HPAP up in Dia\") + ylim(-0.7,0.7) + ggtheme()"
   ]
  },
  {
   "cell_type": "markdown",
   "id": "9eeef7eb",
   "metadata": {},
   "source": [
    "### Zemmour in HPAP"
   ]
  },
  {
   "cell_type": "code",
   "execution_count": null,
   "id": "79083e89",
   "metadata": {},
   "outputs": [],
   "source": [
    "plan(\"multisession\", workers = 6)"
   ]
  },
  {
   "cell_type": "code",
   "execution_count": null,
   "id": "27db25c4",
   "metadata": {},
   "outputs": [],
   "source": [
    "Idents(treg_hpap)  <- treg_hpap$Disease"
   ]
  },
  {
   "cell_type": "code",
   "execution_count": null,
   "id": "90d6248d",
   "metadata": {},
   "outputs": [],
   "source": [
    "DefaultAssay(treg_hpap)  <- \"RNA\""
   ]
  },
  {
   "cell_type": "code",
   "execution_count": null,
   "id": "82d3c4fb",
   "metadata": {},
   "outputs": [],
   "source": [
    "options(future.globals.maxSize = 1000 * 1024^2)"
   ]
  },
  {
   "cell_type": "code",
   "execution_count": null,
   "id": "63a22a71",
   "metadata": {
    "scrolled": true
   },
   "outputs": [],
   "source": [
    "fc.seurat_object <- FindAllMarkers(treg_hpap, \n",
    "                          test.use = \"wilcox\", \n",
    "                          logfc.threshold = -Inf, min.pct = -Inf, min.diff.pct = -Inf,\n",
    "                                   only.pos = F,  \n",
    "                                   min.cells.feature = 1, return.thresh = 1)\n",
    "\n",
    "fc.seurat_object\n",
    "\n"
   ]
  },
  {
   "cell_type": "code",
   "execution_count": null,
   "id": "629e8d47",
   "metadata": {},
   "outputs": [],
   "source": [
    "write.csv(fc.seurat_object, \"240624_fc_hpap_treg.csv\")"
   ]
  },
  {
   "cell_type": "code",
   "execution_count": null,
   "id": "17d2e4b0",
   "metadata": {
    "scrolled": true
   },
   "outputs": [],
   "source": [
    "fc.seurat_object"
   ]
  },
  {
   "cell_type": "code",
   "execution_count": null,
   "id": "bac79551",
   "metadata": {},
   "outputs": [],
   "source": [
    "zemmour  <- read_xlsx(\"../../240218_VN_Diabetes_V05/data/published_data/Zemmour_2018/zemmour2.xlsx\")"
   ]
  },
  {
   "cell_type": "code",
   "execution_count": null,
   "id": "306f0794",
   "metadata": {},
   "outputs": [],
   "source": [
    "table(zemmour$gene %in% fc.seurat_object$gene)"
   ]
  },
  {
   "cell_type": "markdown",
   "id": "0f3377e3",
   "metadata": {},
   "source": [
    "zemmour is ipex vs healthy"
   ]
  },
  {
   "cell_type": "code",
   "execution_count": null,
   "id": "8de6c61b",
   "metadata": {
    "scrolled": true
   },
   "outputs": [],
   "source": [
    "fc.seurat_object  %>% dplyr::filter(cluster == \"T1DM\")  %>% left_join(zemmour) "
   ]
  },
  {
   "cell_type": "code",
   "execution_count": null,
   "id": "5341e6d5",
   "metadata": {},
   "outputs": [],
   "source": [
    "ipex_in_our  <- fc.seurat_object  %>% dplyr::filter(cluster == \"T1DM\")  %>% left_join(zemmour)  %>% \n",
    "dplyr::filter(!is.na(Average_FC_in_Treg))"
   ]
  },
  {
   "cell_type": "code",
   "execution_count": null,
   "id": "36fdd8be",
   "metadata": {
    "scrolled": true
   },
   "outputs": [],
   "source": [
    "ipex_in_our"
   ]
  },
  {
   "cell_type": "code",
   "execution_count": null,
   "id": "71315eea",
   "metadata": {},
   "outputs": [],
   "source": [
    "treg_ipex_up  <- ipex_in_our  %>% dplyr::filter(Average_FC_in_Treg>1)  %>% pull(gene)"
   ]
  },
  {
   "cell_type": "code",
   "execution_count": null,
   "id": "d45d245b",
   "metadata": {},
   "outputs": [],
   "source": [
    "treg_ipex_down  <- ipex_in_our  %>% dplyr::filter(Average_FC_in_Treg<1)  %>% pull(gene)"
   ]
  },
  {
   "cell_type": "code",
   "execution_count": null,
   "id": "aadf3311",
   "metadata": {},
   "outputs": [],
   "source": [
    "# Treg HPAP FC\n",
    "fc.df  <- fc.seurat_object  %>%  arrange(desc(avg_log2FC)) %>% \n",
    "dplyr::filter(cluster == \"T1DM\")  %>% \n",
    "  dplyr::select(gene, avg_log2FC)\n",
    "ranks<- deframe(fc.df)"
   ]
  },
  {
   "cell_type": "code",
   "execution_count": null,
   "id": "413b3b15",
   "metadata": {},
   "outputs": [],
   "source": [
    "library(fgsea)"
   ]
  },
  {
   "cell_type": "code",
   "execution_count": null,
   "id": "a334f96f",
   "metadata": {},
   "outputs": [],
   "source": [
    "options(repr.plot.width = 5, repr.plot.height = 3)\n",
    "\n",
    "p  <- plotEnrichment(treg_ipex_up,\n",
    "               ranks) + labs(title=\"treg_ipex_up\") + ylim(-0.7,0.7) + ggtheme() +\n",
    "\n",
    "plotEnrichment(treg_ipex_down,\n",
    "               ranks) + labs(title=\"treg_ipex_down\") + ylim(-0.7,0.7) + ggtheme()\n"
   ]
  },
  {
   "cell_type": "code",
   "execution_count": null,
   "id": "c99316a0",
   "metadata": {},
   "outputs": [],
   "source": [
    "p"
   ]
  },
  {
   "cell_type": "code",
   "execution_count": null,
   "id": "f7d347a0",
   "metadata": {},
   "outputs": [],
   "source": []
  },
  {
   "cell_type": "markdown",
   "id": "727238ea",
   "metadata": {},
   "source": [
    "## Treg spleen"
   ]
  },
  {
   "cell_type": "code",
   "execution_count": null,
   "id": "ab513bb6",
   "metadata": {},
   "outputs": [],
   "source": [
    "dir.create(\"../data/published_data/HPAP/\", recursive = T)"
   ]
  },
  {
   "cell_type": "code",
   "execution_count": null,
   "id": "4338948c",
   "metadata": {},
   "outputs": [],
   "source": [
    "saveRDS(treg_hpap_spleen, \"../data/published_data/HPAP/treg_spleen.rds\")"
   ]
  },
  {
   "cell_type": "code",
   "execution_count": null,
   "id": "7cea6d8b",
   "metadata": {},
   "outputs": [],
   "source": [
    "rm(seu)\n",
    "rm(new_dia_experiment2)\n",
    "rm(merged.list)"
   ]
  },
  {
   "cell_type": "code",
   "execution_count": null,
   "id": "1e144e48",
   "metadata": {},
   "outputs": [],
   "source": [
    "gc()"
   ]
  },
  {
   "cell_type": "code",
   "execution_count": null,
   "id": "9ec3b94b",
   "metadata": {},
   "outputs": [],
   "source": [
    "plan(\"sequential\")"
   ]
  },
  {
   "cell_type": "code",
   "execution_count": null,
   "id": "b04de6f4",
   "metadata": {},
   "outputs": [],
   "source": [
    "treg_hpap"
   ]
  },
  {
   "cell_type": "code",
   "execution_count": null,
   "id": "933e284e",
   "metadata": {},
   "outputs": [],
   "source": [
    "merged.list  <- subset(treg_hpap, Tissue == \"Spleen\")"
   ]
  },
  {
   "cell_type": "code",
   "execution_count": null,
   "id": "a7752e47",
   "metadata": {},
   "outputs": [],
   "source": [
    "merged.list  <- SplitObject(merged.list, split.by = \"Experiment_ID\")"
   ]
  },
  {
   "cell_type": "code",
   "execution_count": null,
   "id": "4f68e3ba",
   "metadata": {
    "scrolled": true
   },
   "outputs": [],
   "source": [
    "merged.list <- lapply(X = merged.list, FUN = function(x) {\n",
    "    DefaultAssay(x)  <- \"RNA\"\n",
    "    x$barcode  <- colnames(x)\n",
    "    x <- NormalizeData(x)\n",
    "    x <- FindVariableFeatures(x, selection.method = \"vst\", nfeatures = 1000)\n",
    "})"
   ]
  },
  {
   "cell_type": "code",
   "execution_count": null,
   "id": "79af51d0",
   "metadata": {},
   "outputs": [],
   "source": [
    "plan(\"sequential\")"
   ]
  },
  {
   "cell_type": "code",
   "execution_count": null,
   "id": "d9606428",
   "metadata": {},
   "outputs": [],
   "source": [
    "gc()"
   ]
  },
  {
   "cell_type": "code",
   "execution_count": null,
   "id": "203f48bc",
   "metadata": {},
   "outputs": [],
   "source": [
    "new_dia_experiment2 <- Run.STACAS(merged.list, dims = 1:12)\n",
    "new_dia_experiment2 <- RunUMAP(new_dia_experiment2, dims = 1:12) "
   ]
  },
  {
   "cell_type": "code",
   "execution_count": null,
   "id": "53828d8b",
   "metadata": {},
   "outputs": [],
   "source": []
  },
  {
   "cell_type": "code",
   "execution_count": null,
   "id": "43c2897a",
   "metadata": {},
   "outputs": [],
   "source": [
    "treg_hpap_spleen  <- new_dia_experiment2"
   ]
  },
  {
   "cell_type": "code",
   "execution_count": null,
   "id": "8ce0635d",
   "metadata": {},
   "outputs": [],
   "source": [
    "rm(new_dia_experiment2)\n",
    "rm(merged.list)"
   ]
  },
  {
   "cell_type": "code",
   "execution_count": null,
   "id": "68b67317",
   "metadata": {},
   "outputs": [],
   "source": [
    "gc()"
   ]
  },
  {
   "cell_type": "code",
   "execution_count": null,
   "id": "f51ee9d8",
   "metadata": {},
   "outputs": [],
   "source": [
    "DefaultAssay(treg_hpap_spleen)  <- \"integrated\""
   ]
  },
  {
   "cell_type": "code",
   "execution_count": null,
   "id": "1793deac",
   "metadata": {},
   "outputs": [],
   "source": [
    "treg_hpap_spleen <- FindNeighbors(treg_hpap_spleen, reduction = \"pca\", dims = 1:10)"
   ]
  },
  {
   "cell_type": "code",
   "execution_count": null,
   "id": "c4d63c64",
   "metadata": {
    "scrolled": true
   },
   "outputs": [],
   "source": [
    "treg_hpap_spleen <- FindClusters(treg_hpap_spleen, resolution = 0.375)"
   ]
  },
  {
   "cell_type": "code",
   "execution_count": null,
   "id": "de25df86",
   "metadata": {},
   "outputs": [],
   "source": []
  },
  {
   "cell_type": "code",
   "execution_count": null,
   "id": "e92c632e",
   "metadata": {},
   "outputs": [],
   "source": [
    "options(repr.plot.width = 6, repr.plot.height = 5)\n",
    "DimPlot(treg_hpap_spleen, label = F)"
   ]
  },
  {
   "cell_type": "code",
   "execution_count": null,
   "id": "711e65ac",
   "metadata": {},
   "outputs": [],
   "source": [
    "treg_hpap_spleen@meta.data  <- treg_hpap_spleen@meta.data  %>% mutate(seurat_clusters2 = recode(seurat_clusters, \n",
    "                                                                                               \"0\" = \"3\",\n",
    "                                                                                               \"1\" = \"0\",\n",
    "                                                                                               \"2\" = \"1\",\n",
    "                                                                                               \"3\" = \"2\"))"
   ]
  },
  {
   "cell_type": "code",
   "execution_count": null,
   "id": "ebc1d7ad",
   "metadata": {},
   "outputs": [],
   "source": [
    "options(repr.plot.width = 6, repr.plot.height = 5)\n",
    "DimPlot(treg_hpap_spleen, label = F, group.by = \"seurat_clusters2\")"
   ]
  },
  {
   "cell_type": "code",
   "execution_count": null,
   "id": "cc606c88",
   "metadata": {},
   "outputs": [],
   "source": [
    "options(repr.plot.width = 7, repr.plot.height = 5.5)\n",
    "\n",
    "DefaultAssay(treg_hpap_spleen)  <- \"RNA\"\n",
    "FeaturePlot(treg_hpap_spleen, features = c(\"FOXP3\",\"IL2RA\",\"CD226\",\"CTLA4\"), min.cutoff = 0)"
   ]
  },
  {
   "cell_type": "code",
   "execution_count": null,
   "id": "65ed91dd",
   "metadata": {
    "scrolled": true
   },
   "outputs": [],
   "source": [
    "VlnPlot(treg_hpap_spleen, features = c(\"IL2RA\",\"CD226\"), group.by = \"Disease\",\n",
    "       cols = c(\"dodgerblue\",\"indianred2\")) + ggtheme() "
   ]
  },
  {
   "cell_type": "code",
   "execution_count": null,
   "id": "0e153002",
   "metadata": {},
   "outputs": [],
   "source": [
    "ggsave(\"../figures/subset_characterization/treg_hpap_il2ra_cd226.svg\",\n",
    "      width = 20, height = 12, units = \"cm\")"
   ]
  },
  {
   "cell_type": "code",
   "execution_count": null,
   "id": "c3f10544",
   "metadata": {},
   "outputs": [],
   "source": [
    "ggsave(\"../figures/subset_characterization/treg_hpap_il2ra_cd226.png\",\n",
    "      width = 20, height = 12, units = \"cm\")"
   ]
  },
  {
   "cell_type": "code",
   "execution_count": null,
   "id": "6af3722e",
   "metadata": {},
   "outputs": [],
   "source": [
    "DefaultAssay(treg_hpap_spleen)  <- \"RNA\""
   ]
  },
  {
   "cell_type": "code",
   "execution_count": null,
   "id": "0312faa6",
   "metadata": {},
   "outputs": [],
   "source": [
    "options(repr.plot.width = 7, repr.plot.height = 5.5)\n",
    "FeaturePlot(treg_hpap_spleen, features = c(\"SELL\",\"CD226\",\"GZMK\",\"IL4R\"), min.cutoff = 0)"
   ]
  },
  {
   "cell_type": "code",
   "execution_count": null,
   "id": "d5f1785d",
   "metadata": {},
   "outputs": [],
   "source": [
    "options(repr.plot.width = 15, repr.plot.height = 10)\n",
    "FeaturePlot(treg_hpap_spleen, features = c(\"CCR10\",\"CCR4\",\"TNFRSF9\",\"MKI67\"), min.cutoff = 0)"
   ]
  },
  {
   "cell_type": "code",
   "execution_count": null,
   "id": "ea15bb0b",
   "metadata": {},
   "outputs": [],
   "source": [
    "FeaturePlot(treg_hpap_spleen, features = c(\"IL10\",\"GATA3\",\"KLRG1\",\"TBX21\"), min.cutoff = 0)"
   ]
  },
  {
   "cell_type": "code",
   "execution_count": null,
   "id": "c52022db",
   "metadata": {
    "scrolled": true
   },
   "outputs": [],
   "source": [
    "options(repr.plot.width = 7, repr.plot.height = 5)\n",
    "DimPlot(treg_hpap_spleen, group.by = \"Disease\")"
   ]
  },
  {
   "cell_type": "code",
   "execution_count": null,
   "id": "b3637ff8",
   "metadata": {},
   "outputs": [],
   "source": [
    "options(repr.plot.width = 14, repr.plot.height = 5)\n",
    "DimPlot(treg_hpap_spleen, split.by = \"Disease\")"
   ]
  },
  {
   "cell_type": "code",
   "execution_count": null,
   "id": "87a03aab",
   "metadata": {
    "scrolled": true
   },
   "outputs": [],
   "source": [
    "DimPlot(treg_hpap_spleen, label = T)"
   ]
  },
  {
   "cell_type": "code",
   "execution_count": null,
   "id": "f182cbed",
   "metadata": {},
   "outputs": [],
   "source": [
    "options(repr.plot.width = 7, repr.plot.height = 5)\n",
    "DimPlot(treg_hpap_spleen, group.by = \"Patient_ID\")"
   ]
  },
  {
   "cell_type": "code",
   "execution_count": null,
   "id": "51460b03",
   "metadata": {},
   "outputs": [],
   "source": [
    "saveRDS(treg_hpap_spleen, \"240623_treg_hpap_spleen_stacas_v06.rds\")"
   ]
  },
  {
   "cell_type": "code",
   "execution_count": null,
   "id": "b9eb2827",
   "metadata": {},
   "outputs": [],
   "source": [
    "sth"
   ]
  },
  {
   "cell_type": "code",
   "execution_count": null,
   "id": "3a1b1738",
   "metadata": {},
   "outputs": [],
   "source": [
    "treg_hpap_spleen  <- readRDS(\"../data/published_data/HPAP/240623_treg_hpap_spleen_stacas_v06.rds\")"
   ]
  },
  {
   "cell_type": "code",
   "execution_count": null,
   "id": "71d8d4ae",
   "metadata": {},
   "outputs": [],
   "source": [
    "DimPlot(treg_hpap_spleen)"
   ]
  },
  {
   "cell_type": "markdown",
   "id": "57f928e3",
   "metadata": {},
   "source": [
    "### Density"
   ]
  },
  {
   "cell_type": "code",
   "execution_count": null,
   "id": "df11e53b",
   "metadata": {},
   "outputs": [],
   "source": [
    "density  <- treg_hpap_spleen@meta.data  %>% dplyr::select(Patient_ID, Disease)\n",
    "\n",
    "density$x_umap  <- treg_hpap_spleen@reductions$umap@cell.embeddings[,1]\n",
    "density$y_umap  <- treg_hpap_spleen@reductions$umap@cell.embeddings[,2]\n",
    "\n",
    "\n",
    "library(ggplot2)\n",
    "library(dplyr)\n",
    "library(viridis)\n",
    "\n",
    "colfunc <- colorRampPalette(c(\"white\", \"grey85\",\"grey75\",\"dodgerblue\",\"green\",\"yellow\",\"red\"))\n"
   ]
  },
  {
   "cell_type": "code",
   "execution_count": null,
   "id": "334e9620",
   "metadata": {},
   "outputs": [],
   "source": [
    "options(repr.plot.width = 10, repr.plot.height = 5)\n",
    "\n",
    "p1  <- density %>%\n",
    "filter(Disease == \"T1DM\")  %>% \n",
    "  ggplot(aes(x=x_umap, y= y_umap)) + \n",
    " geom_point(shape = \"\")  + geom_density_2d_filled(bins = 30)  + \n",
    "theme_classic() + ggtheme() +\n",
    "xlim(-10,10)+  ylim(-5,5) +\n",
    "scale_fill_manual(values = colfunc(30))  + \n",
    "ggtitle(\"T1DM\") + NoLegend()\n",
    "\n",
    "p2   <-   density %>%\n",
    "filter(Disease == \"Ctrl\")  %>% \n",
    "  ggplot(aes(x=x_umap, y= y_umap)) + \n",
    " geom_point(shape = \"\")  + geom_density_2d_filled(bins = 30)  + \n",
    "theme_classic() + ggtheme() +\n",
    "xlim(-10,10)+  ylim(-5,5) +\n",
    "scale_fill_manual(values = colfunc(30))  + \n",
    "ggtitle(\"Ctrl\") + NoLegend()\n",
    "\n",
    "\n",
    "p1 + p2"
   ]
  },
  {
   "cell_type": "code",
   "execution_count": null,
   "id": "84433ca9",
   "metadata": {},
   "outputs": [],
   "source": [
    "DefaultAssay(treg_hpap_spleen)  <- 'integrated'"
   ]
  },
  {
   "cell_type": "code",
   "execution_count": null,
   "id": "7461dee0",
   "metadata": {},
   "outputs": [],
   "source": [
    "treg_hpap_spleen <- FindClusters(treg_hpap_spleen, resolution = 0.1)"
   ]
  },
  {
   "cell_type": "code",
   "execution_count": null,
   "id": "2baee812",
   "metadata": {},
   "outputs": [],
   "source": [
    "options(repr.plot.width = 6, repr.plot.height = 4.5)\n",
    "DimPlot(treg_hpap_spleen, group.by = \"seurat_clusters\") + ggtitle(\"\")"
   ]
  },
  {
   "cell_type": "code",
   "execution_count": null,
   "id": "d2774512",
   "metadata": {},
   "outputs": [],
   "source": [
    "library(ragg)"
   ]
  },
  {
   "cell_type": "code",
   "execution_count": null,
   "id": "f9e37f3c",
   "metadata": {},
   "outputs": [],
   "source": [
    "DimPlot(treg_hpap_spleen, group.by = \"seurat_clusters\") + ggtitle(\"\") +\n",
    "theme(axis.text.x = element_blank(),\n",
    "        axis.text.y = element_blank(),\n",
    "        plot.title = element_text(hjust = 0.5, face = \"italic\"),\n",
    "        \n",
    "        axis.title = element_blank(),\n",
    "        axis.line = element_blank(), \n",
    "        axis.ticks = element_blank()) +\n",
    "  NoLegend()\n",
    "\n",
    "ggsave(\"../figures/treg_hpap_dimplot.png\", width = 9, height = 7, units = \"cm\")\n",
    "ggsave(\"../figures/treg_hpap_dimplot.svg\", width = 9, height = 7, units = \"cm\")"
   ]
  },
  {
   "cell_type": "code",
   "execution_count": null,
   "id": "e352e038",
   "metadata": {},
   "outputs": [],
   "source": [
    "options(repr.plot.width = 8, repr.plot.height = 5)\n",
    "\n",
    "seurat_meta_data <- treg_hpap_spleen@meta.data\n",
    "seurat_meta_data$sample  <- seurat_meta_data$source\n",
    "seurat_meta_data$sample  <- paste(seurat_meta_data$Patient_ID, seurat_meta_data$Tissue) \n",
    "\n",
    "# Create grouped dataframe, calculate the frequencies of clusters\n",
    "df4 <- seurat_meta_data %>% group_by(sample, seurat_clusters) %>% \n",
    "  summarise(n = n()) %>% \n",
    "  unique() %>% \n",
    "  mutate(freq = n / sum(n)) \n",
    "\n",
    "\n",
    "# As we've lost non-grouping variables, let's join them back\n",
    "md_to_join <- seurat_meta_data %>% dplyr::select(sample, Disease, Patient_ID, Tissue) %>% unique()\n",
    "df4  <- left_join(df4, md_to_join, by = \"sample\")"
   ]
  },
  {
   "cell_type": "code",
   "execution_count": null,
   "id": "22f79672",
   "metadata": {},
   "outputs": [],
   "source": [
    "options(repr.plot.width = 6, repr.plot.height = 4)\n",
    "\n",
    "seurat_meta_data <- treg_hpap_spleen@meta.data\n",
    "seurat_meta_data$sample  <- seurat_meta_data$source\n",
    "seurat_meta_data$sample  <- paste(seurat_meta_data$Patient_ID, seurat_meta_data$Tissue) \n",
    "\n",
    "# Create grouped dataframe, calculate the frequencies of clusters\n",
    "df4 <- seurat_meta_data %>% group_by(sample, seurat_clusters) %>% \n",
    "  summarise(n = n()) %>% \n",
    "  unique() %>% \n",
    "  mutate(freq = n / sum(n)) \n",
    "\n",
    "\n",
    "# As we've lost non-grouping variables, let's join them back\n",
    "md_to_join <- seurat_meta_data %>% dplyr::select(sample, Disease, Patient_ID, Tissue) %>% unique()\n",
    "df4  <- left_join(df4, md_to_join, by = \"sample\")\n",
    "\n",
    "# The final plot\n",
    "\n",
    "df4 %>% ggplot(aes(x = Disease, y = freq*100)) + # you can change the x to whatever variable you're interested in\n",
    " geom_violin(alpha = 0.3, aes(fill = Disease)) +\n",
    "  stat_summary(fun = \"median\",\n",
    "               geom = \"crossbar\", \n",
    "               width = 0.75,\n",
    "               color = \"grey30\") +\n",
    "   scale_fill_manual(values = c(\"#1874cdff\",  \"#ee6363ff\", \"#c41515ff\",\"#eeb4b4ff\")) +\n",
    "scale_color_manual(values = c(\"dodgerblue3\",  \"#e54c4cff\", \"#aa2a2aff\",\"#e88989ff\")) +\n",
    "geom_beeswarm(size = 3, cex = 3, \n",
    "              color = \"black\", method = \"center\",\n",
    "             aes(fill = Disease), shape = 21) +  \n",
    "facet_wrap(~seurat_clusters, scales = \"free\") +\n",
    "scale_color_manual(values = c(\"dodgerblue\",\"indianred2\")) +\n",
    "scale_fill_manual(values = c(\"dodgerblue\",\"indianred2\")) +\n",
    "\n",
    "  ylab(\"Frequency\") +\n",
    "  xlab(\"Condition\") +\n",
    "ggpubr::stat_compare_means(label = \"p.format\", size = 5) +\n",
    "  ylim(c(0,NA)) + # This ensures that our x axis starts at zero, but feel free to remove this line\n",
    "  theme_classic() +\n",
    "  theme(strip.background = element_blank(), panel.grid = element_blank()) + NoLegend() +ggtheme() \n"
   ]
  },
  {
   "cell_type": "code",
   "execution_count": null,
   "id": "2db3243d",
   "metadata": {},
   "outputs": [],
   "source": [
    "ggsave(\"../figures/subset_characterization/treg_HPAP_violin.svg\",\n",
    "       width = 14, height = 8, units = \"cm\")"
   ]
  },
  {
   "cell_type": "code",
   "execution_count": null,
   "id": "fc453cfd",
   "metadata": {},
   "outputs": [],
   "source": [
    "options(repr.plot.width = 8, repr.plot.height = 5)\n",
    "\n",
    "seurat_meta_data <- treg_hpap_spleen@meta.data\n",
    "seurat_meta_data$sample  <- seurat_meta_data$source\n",
    "seurat_meta_data$sample  <- paste(seurat_meta_data$Patient_ID, seurat_meta_data$Tissue) \n",
    "\n",
    "# Create grouped dataframe, calculate the frequencies of clusters\n",
    "df4 <- seurat_meta_data %>% group_by(sample, seurat_clusters2) %>% \n",
    "  summarise(n = n()) %>% \n",
    "  unique() %>% \n",
    "  mutate(freq = n / sum(n)) \n",
    "\n",
    "\n",
    "# As we've lost non-grouping variables, let's join them back\n",
    "md_to_join <- seurat_meta_data %>% dplyr::select(sample, Disease, Patient_ID, Tissue) %>% unique()\n",
    "df4  <- left_join(df4, md_to_join, by = \"sample\")\n",
    "\n",
    "# The final plot\n",
    "\n",
    "df4 %>% ggplot(aes(x = Disease, y = freq*100)) + # you can change the x to whatever variable you're interested in\n",
    "  geom_boxplot(outlier.shape = NA, alpha = 0.7, aes(fill = Disease)) + \n",
    "  geom_dotplot(binaxis='y', stackdir='center', dotsize=0) + \n",
    "  geom_jitter(position=position_jitter(0.05), size = 3, aes(fill = Disease), shape = 21) + # in aes, you can also use shape or fill (for the shapes that allow it)\n",
    "  facet_wrap(~seurat_clusters2, scales = \"free\", ncol = 4) +\n",
    "scale_color_manual(values = c(\"dodgerblue\",\"indianred2\")) +\n",
    "scale_fill_manual(values = c(\"dodgerblue\",\"indianred2\")) +\n",
    "\n",
    "  ylab(\"Frequency\") +\n",
    "  xlab(\"Condition\") +\n",
    "ggpubr::stat_compare_means(label = \"p.format\", size = 5) +\n",
    "  ylim(c(0,NA)) + # This ensures that our x axis starts at zero, but feel free to remove this line\n",
    "  theme_classic() +\n",
    "  theme(strip.background = element_blank(), panel.grid = element_blank()) + NoLegend() +ggtheme() \n"
   ]
  },
  {
   "cell_type": "code",
   "execution_count": null,
   "id": "c2087acd",
   "metadata": {},
   "outputs": [],
   "source": [
    "\n",
    "df4 %>% \n",
    "mutate(Disease = ifelse(Disease == \"Ctrl\", \"Ctrl\",\"Dia\"))  %>% \n",
    "ggplot(aes(x = Disease, y = freq*100)) + # you can change the x to whatever variable you're interested in\n",
    "  geom_boxplot(outlier.shape = NA, alpha = 0.3, aes(fill = Disease)) + \n",
    "  geom_dotplot(binaxis='y', stackdir='center', dotsize=0) + \n",
    "geom_beeswarm(size = 3, cex = 3, \n",
    "              color = \"black\", method = \"center\",\n",
    "             aes(fill = Disease), shape = 21) +\n",
    "facet_wrap(~seurat_clusters2, scales = \"free\", ncol = 5) +\n",
    "   scale_fill_manual(values = c(\"#1874cdff\",  \"#ee6363ff\", \"#c41515ff\",\"#eeb4b4ff\")) +\n",
    "scale_color_manual(values = c(\"dodgerblue3\",  \"#e54c4cff\", \"#aa2a2aff\",\"#e88989ff\")) +\n",
    "  ylab(\"Frequency\") +\n",
    "  xlab(\"Condition\") +\n",
    "#ggpubr::stat_compare_means() +\n",
    "  ylim(c(0,NA)) + # This ensures that our x axis starts at zero, but feel free to remove this line\n",
    "  theme_classic() +\n",
    "  theme(strip.background = element_blank(), panel.grid = element_blank()) + \n",
    "ggtheme()\n",
    "\n",
    "ggsave(\"../../240617_VN_Diabetes_V06/figures/treg_validation/hpap_treg_subsets_in_condition.svg\",\n",
    "       width = 16, height = 8, units = \"cm\")"
   ]
  },
  {
   "cell_type": "code",
   "execution_count": null,
   "id": "0099affd",
   "metadata": {},
   "outputs": [],
   "source": [
    "VlnPlot(treg_hpap_spleen, features = c(\"IL2RA\"), cols = c(\"dodgerblue\",\"indianred2\")) + \n",
    "ggpubr::stat_compare_means()"
   ]
  },
  {
   "cell_type": "code",
   "execution_count": null,
   "id": "b123e7a6",
   "metadata": {},
   "outputs": [],
   "source": [
    "VlnPlot(treg_hpap_spleen, features = c(\"CD226\"), cols = c(\"dodgerblue\",\"indianred2\")) + \n",
    "ggpubr::stat_compare_means(method = \"t.test\")"
   ]
  },
  {
   "cell_type": "code",
   "execution_count": null,
   "id": "9c4b63a9",
   "metadata": {},
   "outputs": [],
   "source": [
    "VlnPlot(treg_hpap_spleen, features = c(\"IL2RA\",\"CD226\"), cols = c(\"dodgerblue\",\"indianred2\"))"
   ]
  },
  {
   "cell_type": "code",
   "execution_count": null,
   "id": "0ad34ead",
   "metadata": {},
   "outputs": [],
   "source": [
    "ggsave(\"../figures/subset_characterization/treg_hpap_il2ra_cd226.svg\",\n",
    "      width = 20, height = 12, units = \"cm\")\n",
    "\n",
    "ggsave(\"../figures/subset_characterization/treg_hpap_il2ra_cd226.png\",\n",
    "      width = 20, height = 12, units = \"cm\")"
   ]
  },
  {
   "cell_type": "code",
   "execution_count": null,
   "id": "01c40736",
   "metadata": {},
   "outputs": [],
   "source": [
    "VlnPlot(treg_hpap_spleen, features = c(\"IL4R\",\"IL10RA\"), cols = c(\"dodgerblue\",\"indianred2\"))"
   ]
  },
  {
   "cell_type": "code",
   "execution_count": null,
   "id": "7a49729c",
   "metadata": {},
   "outputs": [],
   "source": [
    "treg_hpap_spleen$Sample_ID  <- as.character(treg_hpap_spleen$Patient_ID)"
   ]
  },
  {
   "cell_type": "code",
   "execution_count": null,
   "id": "62a1d23b",
   "metadata": {},
   "outputs": [],
   "source": [
    "# Extract the dataframe with seurat metadata\n",
    "seurat_meta_data <- treg_hpap_spleen@meta.data\n",
    "seurat_meta_data$sample  <- seurat_meta_data$Sample_ID\n",
    "\n",
    "# Select genes of interest\n",
    "gene_hits <- c(\"IL2RA\",\"FOXP3\",\"GZMK\",\"TNFRSF9\",\"CD226\",\"IL4R\",\"IL10RA\",\"SELL\",\"CCR7\",\"TIGIT\")\n",
    "\n",
    "# Now we will calculate the percentage of expressing cells for each sample and we will merge the resulting dataframes\n",
    "expr_data4 <- data.frame(genes = gene_hits)\n",
    "\n",
    "# We will need a function that will convert any non-zero count to value 1\n",
    "fns_replace <- function(x){ifelse(x>0,1,0)}\n",
    "\n",
    "for(j in levels(factor(seurat_meta_data$sample))){\n",
    "  \n",
    "  # subset only selected cell type\n",
    "  seu_sub_sample <- subset(treg_hpap_spleen, Sample_ID == j) \n",
    "  \n",
    "  # select the rows corresponding to genes of interest\n",
    "  index_subset <- which(rownames(seu_sub_sample@assays$RNA@counts) %in% gene_hits)\n",
    "  \n",
    "  # create a dataframe with genes of interest and cells of interest\n",
    "  expr_data <- as.data.frame(seu_sub_sample@assays$RNA@counts[index_subset,]) \n",
    "  \n",
    "  # convert expression to binary values\n",
    "  expr_data2 <- expr_data %>% mutate(across(.fns = fns_replace))\n",
    "  rownames(expr_data2) <- rownames(expr_data)\n",
    "  \n",
    "  # calculate average expresion (percentage of cells expressing the gene)\n",
    "  expr_data3 <- rowMeans(expr_data2)\n",
    "  \n",
    "  # add zeroes in cases of no expression\n",
    "  for(k in gene_hits){\n",
    "    if(k %in% names(expr_data3) == F){expr_data3[[k]] <- 0}\n",
    "  }\n",
    "  \n",
    "  expr_data3 <- as.data.frame(expr_data3)\n",
    "  colnames(expr_data3) <- j\n",
    "  expr_data3$genes <- rownames(expr_data3)\n",
    "  \n",
    "  # final dataframe with values in correct order (all cell type, loop results)\n",
    "  expr_data4 <- left_join(expr_data4, expr_data3, by=\"genes\")\n",
    "  \n",
    "}"
   ]
  },
  {
   "cell_type": "code",
   "execution_count": null,
   "id": "58b761c3",
   "metadata": {},
   "outputs": [],
   "source": [
    "expr_data4"
   ]
  },
  {
   "cell_type": "code",
   "execution_count": null,
   "id": "83e0976e",
   "metadata": {},
   "outputs": [],
   "source": [
    "expr_data5 <- as.data.frame(t(expr_data4))\n",
    "colnames(expr_data5) <- expr_data5[1,]\n",
    "expr_data5 <- expr_data5[2:nrow(expr_data5),]\n",
    "expr_data5$sample <- rownames(expr_data5)\n",
    "expr_data5 <- expr_data5 %>% pivot_longer( !sample, names_to = \"gene\", values_to = \"pct_express\")\n",
    "expr_data5$Sample_ID  <- expr_data5$sample"
   ]
  },
  {
   "cell_type": "code",
   "execution_count": null,
   "id": "37aac38c",
   "metadata": {},
   "outputs": [],
   "source": [
    "# Add metadata per sample - select those that you will use in the plot below\n",
    "md_to_join <- seurat_meta_data %>% dplyr::select(Sample_ID, Disease) %>% \n",
    "    ungroup %>% unique\n",
    "expr_data5$Sample_ID  <- as.character(expr_data5$Sample_ID)\n",
    "md2 <- left_join(expr_data5, md_to_join, by = \"Sample_ID\") %>% ungroup %>% unique"
   ]
  },
  {
   "cell_type": "code",
   "execution_count": null,
   "id": "0a961c03",
   "metadata": {},
   "outputs": [],
   "source": [
    "options(repr.plot.width = 10, repr.plot.height = 12)\n",
    "# Plot the results\n",
    "md2 %>% \n",
    "\n",
    "ggplot(aes(x = Disease, y = as.numeric(pct_express))) + \n",
    "  geom_boxplot(outlier.shape = NA) +\n",
    "  geom_dotplot(binaxis='y', stackdir='center', dotsize=0) + \n",
    "  geom_jitter(position=position_jitter(0.2), size = 2, aes(color = factor(Disease))) +\n",
    "  theme_minimal() + \n",
    "  facet_wrap(~gene, scales = \"free\", ncol = 5) + \n",
    "  ylim(c(0,NA)) +\n",
    "  ylab(\"Percentage of expressing cells\") +\n",
    "  theme(legend.title = element_blank()) + stat_compare_means(label = \"p.format\")"
   ]
  },
  {
   "cell_type": "markdown",
   "id": "551bcbb7",
   "metadata": {},
   "source": [
    "### Marker heatmap"
   ]
  },
  {
   "cell_type": "code",
   "execution_count": null,
   "id": "d869d1d3",
   "metadata": {},
   "outputs": [],
   "source": [
    "genes_treg  <-  c(\"CCR7\",\"TCF7\",\"LEF1\",\"SELL\",\"BTG1\",\"IL7R\",\"CD226\",\"LAG3\",\n",
    "                  \"GZMK\",\"HAVCR2\",\"ICOS\",\n",
    "    \"CTLA4\",\"TIGIT\",\"IL10RA\",\"IL2RB\",\"IL2RA\",\"FOXP3\",\"IKZF2\",\"TNFRSF18\",\n",
    "                  \"ENTPD1\",\n",
    "                  \"TNFRSF9\",\"HLA-DPA1\")"
   ]
  },
  {
   "cell_type": "code",
   "execution_count": null,
   "id": "ba3c9f86",
   "metadata": {},
   "outputs": [],
   "source": [
    "avgexp = AverageExpression(treg_hpap_spleen, features = genes_treg, return.seurat = F, \n",
    "                           group.by = \"seurat_clusters\", assays = \"RNA\")"
   ]
  },
  {
   "cell_type": "code",
   "execution_count": null,
   "id": "2ef4ca3c",
   "metadata": {},
   "outputs": [],
   "source": [
    "options(repr.plot.width = 9, repr.plot.height = 3.2)\n",
    "pheatmap(t(avgexp$RNA), main = \"\", scale = \"column\", cluster_cols = T, cluster_rows = T,\n",
    "        color=colorRampPalette(c(\"dodgerblue\", \"grey95\", \"indianred2\"))(50), \n",
    "         border_color = \"white\", width = 9, height = 3.3,\n",
    "                  fontsize = 14)"
   ]
  },
  {
   "cell_type": "code",
   "execution_count": null,
   "id": "57714e63",
   "metadata": {},
   "outputs": [],
   "source": []
  },
  {
   "cell_type": "code",
   "execution_count": null,
   "id": "b0baa22d",
   "metadata": {},
   "outputs": [],
   "source": [
    "\n",
    "    options(repr.plot.width = 9, repr.plot.height = 3.2)\n",
    "pheatmap(t(avgexp$RNA), main = \"\", scale = \"column\", cluster_cols = T, cluster_rows = T,\n",
    "        color=colorRampPalette(c(\"dodgerblue\", \"grey95\", \"indianred2\"))(50), \n",
    "         border_color = \"white\", width = 9, height = 3.3,\n",
    "                  fontsize = 14, \n",
    "        filename = \"../figures/treg_heatmap.pdf\")"
   ]
  },
  {
   "cell_type": "code",
   "execution_count": null,
   "id": "036da578",
   "metadata": {},
   "outputs": [],
   "source": [
    "genes_treg  <-  c(\"TCF7\",\"LEF1\",\"NELL2\",\"IL7R\",\"IL4R\",\"GZMK\",\"CD226\",\n",
    "    \"CCR4\",\"CTLA4\",\"TNFRSF9\",\"FOXP3\",\"IL2RA\")"
   ]
  },
  {
   "cell_type": "code",
   "execution_count": null,
   "id": "98b16083",
   "metadata": {},
   "outputs": [],
   "source": [
    "avgexp = AverageExpression(treg_hpap_spleen, features = genes_treg, return.seurat = F, \n",
    "                           group.by = \"seurat_clusters2\", assays = \"RNA\")"
   ]
  },
  {
   "cell_type": "code",
   "execution_count": null,
   "id": "7c757a3d",
   "metadata": {},
   "outputs": [],
   "source": [
    "options(repr.plot.width = 5, repr.plot.height = 3)\n",
    "pheatmap(t(avgexp$RNA[match(c(\"TCF7\",\"LEF1\",\"NELL2\",\"IL7R\",\"IL4R\",\"GZMK\",\"CD226\",\n",
    "    \"CCR4\",\"CTLA4\",\"TNFRSF9\",\"FOXP3\",\"IL2RA\"),\n",
    "rownames(avgexp$RNA)),]), main = \"\", scale = \"column\", cluster_cols = F, cluster_rows = F,\n",
    "        color=colorRampPalette(c(\"dodgerblue\", \"grey95\", \"indianred2\"))(50), \n",
    "         border_color = \"white\", width = 9, height = 3.3,\n",
    "                  fontsize = 9)"
   ]
  },
  {
   "cell_type": "code",
   "execution_count": null,
   "id": "bd6bae55",
   "metadata": {},
   "outputs": [],
   "source": [
    "pheatmap(t(avgexp$RNA[match(c(\"TCF7\",\"LEF1\",\"NELL2\",\"IL7R\",\"IL4R\",\"GZMK\",\"CD226\",\n",
    "    \"CCR4\",\"CTLA4\",\"TNFRSF9\",\"FOXP3\",\"IL2RA\"),\n",
    "rownames(avgexp$RNA)),]), main = \"\", scale = \"column\", cluster_cols = F, cluster_rows = F,\n",
    "        color=colorRampPalette(c(\"dodgerblue\", \"grey95\", \"indianred2\"))(50), \n",
    "         border_color = \"white\", width = 5, height = 3.3,\n",
    "                  fontsize = 9, filename = \"../../240617_VN_Diabetes_V06/figures/treg_validation/hpap_heatmap.pdf\")"
   ]
  },
  {
   "cell_type": "markdown",
   "id": "bd557f23",
   "metadata": {},
   "source": [
    "### DE genes"
   ]
  },
  {
   "cell_type": "code",
   "execution_count": null,
   "id": "c9a5aeef",
   "metadata": {},
   "outputs": [],
   "source": [
    "Idents(treg_hpap_spleen)  <- treg_hpap_spleen$Disease"
   ]
  },
  {
   "cell_type": "code",
   "execution_count": null,
   "id": "a5716305",
   "metadata": {},
   "outputs": [],
   "source": [
    "mrk  <- FindAllMarkers(treg_hpap_spleen, only.pos = T)"
   ]
  },
  {
   "cell_type": "code",
   "execution_count": null,
   "id": "68a44e6d",
   "metadata": {},
   "outputs": [],
   "source": [
    "DefaultAssay(treg_hpap_spleen)  <- \"integrated\""
   ]
  },
  {
   "cell_type": "code",
   "execution_count": null,
   "id": "5fc78a52",
   "metadata": {
    "scrolled": true
   },
   "outputs": [],
   "source": [
    "mrk"
   ]
  },
  {
   "cell_type": "code",
   "execution_count": null,
   "id": "ac987075",
   "metadata": {},
   "outputs": [],
   "source": [
    "DefaultAssay(treg_hpap_spleen)  <- \"RNA\""
   ]
  },
  {
   "cell_type": "code",
   "execution_count": null,
   "id": "a3e30878",
   "metadata": {
    "scrolled": true
   },
   "outputs": [],
   "source": [
    "fc.seurat_object <- FindAllMarkers(treg_hpap_spleen, \n",
    "                          test.use = \"wilcox\", \n",
    "                          logfc.threshold = -Inf, min.pct = -Inf, min.diff.pct = -Inf,\n",
    "                                   only.pos = F,  \n",
    "                                   min.cells.feature = 1, return.thresh = 1)\n",
    "\n",
    "fc.seurat_object"
   ]
  },
  {
   "cell_type": "code",
   "execution_count": null,
   "id": "15c60a64",
   "metadata": {},
   "outputs": [],
   "source": [
    "ipex_in_our  <- fc.seurat_object  %>% dplyr::filter(cluster == \"T1DM\")  %>% left_join(zemmour)  %>% \n",
    "dplyr::filter(!is.na(Average_FC_in_Treg))"
   ]
  },
  {
   "cell_type": "code",
   "execution_count": null,
   "id": "a5e19c66",
   "metadata": {
    "scrolled": true
   },
   "outputs": [],
   "source": [
    "ipex_in_our"
   ]
  },
  {
   "cell_type": "code",
   "execution_count": null,
   "id": "fb2025e9",
   "metadata": {},
   "outputs": [],
   "source": [
    "treg_ipex_up  <- ipex_in_our  %>% dplyr::filter(Average_FC_in_Treg>1)  %>% pull(gene)"
   ]
  },
  {
   "cell_type": "code",
   "execution_count": null,
   "id": "7d8fcbb3",
   "metadata": {},
   "outputs": [],
   "source": [
    "treg_ipex_down  <- ipex_in_our  %>% dplyr::filter(Average_FC_in_Treg<1)  %>% pull(gene)"
   ]
  },
  {
   "cell_type": "code",
   "execution_count": null,
   "id": "2d900128",
   "metadata": {},
   "outputs": [],
   "source": [
    "# Treg HPAP FC\n",
    "fc.df  <- fc.seurat_object  %>%  arrange(desc(avg_log2FC)) %>% \n",
    "dplyr::filter(cluster == \"T1DM\")  %>% \n",
    "  dplyr::select(gene, avg_log2FC)\n",
    "ranks<- deframe(fc.df)"
   ]
  },
  {
   "cell_type": "code",
   "execution_count": null,
   "id": "090de7d7",
   "metadata": {},
   "outputs": [],
   "source": [
    "library(fgsea)"
   ]
  },
  {
   "cell_type": "code",
   "execution_count": null,
   "id": "c44837a2",
   "metadata": {},
   "outputs": [],
   "source": [
    "options(repr.plot.width = 5, repr.plot.height = 3)\n",
    "\n",
    "p  <- plotEnrichment(treg_ipex_up,\n",
    "               ranks) + labs(title=\"treg_ipex_up\") + ylim(-0.7,0.7) + ggtheme() +\n",
    "\n",
    "plotEnrichment(treg_ipex_down,\n",
    "               ranks) + labs(title=\"treg_ipex_down\") + ylim(-0.7,0.7) + ggtheme()\n"
   ]
  },
  {
   "cell_type": "code",
   "execution_count": null,
   "id": "ccfb29d8",
   "metadata": {},
   "outputs": [],
   "source": [
    "p"
   ]
  },
  {
   "cell_type": "code",
   "execution_count": null,
   "id": "ac999fb7",
   "metadata": {},
   "outputs": [],
   "source": [
    "ls()"
   ]
  },
  {
   "cell_type": "code",
   "execution_count": null,
   "id": "6d97b0a7",
   "metadata": {},
   "outputs": [],
   "source": [
    "rm(seu_annots)"
   ]
  },
  {
   "cell_type": "code",
   "execution_count": null,
   "id": "978e06b7",
   "metadata": {},
   "outputs": [],
   "source": [
    "sort( sapply(ls(),function(x){object.size(get(x))})) "
   ]
  },
  {
   "cell_type": "code",
   "execution_count": null,
   "id": "b0c844b9",
   "metadata": {},
   "outputs": [],
   "source": []
  },
  {
   "cell_type": "code",
   "execution_count": null,
   "id": "acd0f976",
   "metadata": {},
   "outputs": [],
   "source": [
    "gc()"
   ]
  },
  {
   "cell_type": "markdown",
   "id": "8b6f9615",
   "metadata": {},
   "source": [
    "## Treg LN"
   ]
  },
  {
   "cell_type": "code",
   "execution_count": null,
   "id": "904dc5c2",
   "metadata": {},
   "outputs": [],
   "source": [
    "merged.list  <- subset(treg_hpap, Tissue != \"Spleen\")"
   ]
  },
  {
   "cell_type": "code",
   "execution_count": null,
   "id": "c011c9a2",
   "metadata": {},
   "outputs": [],
   "source": [
    "merged.list  <- SplitObject(treg_hpap, split.by = \"Experiment_ID\")"
   ]
  },
  {
   "cell_type": "code",
   "execution_count": null,
   "id": "ec5987e5",
   "metadata": {},
   "outputs": [],
   "source": [
    "merged.list <- lapply(X = merged.list, FUN = function(x) {\n",
    "    DefaultAssay(x)  <- \"RNA\"\n",
    "    x$barcode  <- colnames(x)\n",
    "    x <- NormalizeData(x)\n",
    "    x <- FindVariableFeatures(x, selection.method = \"vst\", nfeatures = 2000)\n",
    "})"
   ]
  },
  {
   "cell_type": "code",
   "execution_count": null,
   "id": "b506fad7",
   "metadata": {},
   "outputs": [],
   "source": [
    "plan(\"sequential\")"
   ]
  },
  {
   "cell_type": "code",
   "execution_count": null,
   "id": "b2806877",
   "metadata": {},
   "outputs": [],
   "source": [
    "gc()"
   ]
  },
  {
   "cell_type": "code",
   "execution_count": null,
   "id": "05b4f923",
   "metadata": {},
   "outputs": [],
   "source": [
    "new_dia_experiment2 <- Run.STACAS(merged.list, dims = 1:12)\n",
    "new_dia_experiment2 <- RunUMAP(new_dia_experiment2, dims = 1:12) "
   ]
  },
  {
   "cell_type": "code",
   "execution_count": null,
   "id": "4e121703",
   "metadata": {},
   "outputs": [],
   "source": []
  },
  {
   "cell_type": "code",
   "execution_count": null,
   "id": "50248d69",
   "metadata": {},
   "outputs": [],
   "source": [
    "treg_hpap_ln  <- new_dia_experiment2"
   ]
  },
  {
   "cell_type": "code",
   "execution_count": null,
   "id": "7837af8f",
   "metadata": {},
   "outputs": [],
   "source": [
    "treg_hpap_ln <- FindNeighbors(treg_hpap_ln, reduction = \"pca\", dims = 1:12)"
   ]
  },
  {
   "cell_type": "code",
   "execution_count": null,
   "id": "49fd4ace",
   "metadata": {
    "scrolled": true
   },
   "outputs": [],
   "source": [
    "treg_hpap_ln <- FindClusters(treg_hpap_ln, resolution = 0.6)"
   ]
  },
  {
   "cell_type": "code",
   "execution_count": null,
   "id": "d7d396f4",
   "metadata": {
    "scrolled": true
   },
   "outputs": [],
   "source": [
    "options(repr.plot.width = 6, repr.plot.height = 5)\n",
    "DimPlot(treg_hpap_ln, label = T)"
   ]
  },
  {
   "cell_type": "code",
   "execution_count": null,
   "id": "d7489b92",
   "metadata": {},
   "outputs": [],
   "source": [
    "options(repr.plot.width = 15, repr.plot.height = 10)\n",
    "DimPlot(treg_hpap_ln, group.by = \"Monaco_single\")"
   ]
  },
  {
   "cell_type": "code",
   "execution_count": null,
   "id": "f4287d8b",
   "metadata": {},
   "outputs": [],
   "source": [
    "DimPlot(treg_hpap_ln, group.by = \"HPCA_single\")"
   ]
  },
  {
   "cell_type": "code",
   "execution_count": null,
   "id": "39eff049",
   "metadata": {},
   "outputs": [],
   "source": [
    "DimPlot(treg_hpap_ln, group.by = \"Wherry_main\")"
   ]
  },
  {
   "cell_type": "code",
   "execution_count": null,
   "id": "6fb22b18",
   "metadata": {
    "scrolled": true
   },
   "outputs": [],
   "source": [
    "DimPlot(treg_hpap_ln, group.by = \"predicted.celltype.l3\")"
   ]
  },
  {
   "cell_type": "code",
   "execution_count": null,
   "id": "860b05ea",
   "metadata": {},
   "outputs": [],
   "source": [
    "DefaultAssay(treg_hpap_ln)  <- \"RNA\"\n",
    "FeaturePlot(treg_hpap_ln, features = c(\"FOXP3\",\"IL2RA\",\"CD226\",\"CTLA4\"), min.cutoff = 0)"
   ]
  },
  {
   "cell_type": "code",
   "execution_count": null,
   "id": "36c3800e",
   "metadata": {},
   "outputs": [],
   "source": [
    "FeaturePlot(treg_hpap_ln, features = c(\"SELL\",\"TIGIT\",\"GZMK\",\"IL7R\"), min.cutoff = 0)"
   ]
  },
  {
   "cell_type": "code",
   "execution_count": null,
   "id": "d34c8c1b",
   "metadata": {},
   "outputs": [],
   "source": [
    "FeaturePlot(treg_hpap_ln, features = c(\"IFNG\",\"ITGAE\",\"ZNF683\",\"IKZF2\"), min.cutoff = 0)"
   ]
  },
  {
   "cell_type": "code",
   "execution_count": null,
   "id": "e77f4df1",
   "metadata": {},
   "outputs": [],
   "source": [
    "FeaturePlot(treg_hpap_ln, features = c(\"IL10\",\"IL19\",\"KLRG1\",\"TBX21\"), min.cutoff = 0)"
   ]
  },
  {
   "cell_type": "code",
   "execution_count": null,
   "id": "1448bcd8",
   "metadata": {},
   "outputs": [],
   "source": [
    "options(repr.plot.width = 15, repr.plot.height = 10)\n",
    "FeaturePlot(treg_hpap_ln, features = c(\"RORC\",\"RORA\",\"BCL6\",\"GATA3\"), min.cutoff = 0)"
   ]
  },
  {
   "cell_type": "code",
   "execution_count": null,
   "id": "74f47a1c",
   "metadata": {
    "scrolled": true
   },
   "outputs": [],
   "source": [
    "options(repr.plot.width = 7, repr.plot.height = 5)\n",
    "DimPlot(treg_hpap_ln, group.by = \"Disease\")"
   ]
  },
  {
   "cell_type": "code",
   "execution_count": null,
   "id": "9b1c2301",
   "metadata": {},
   "outputs": [],
   "source": [
    "options(repr.plot.width = 14, repr.plot.height = 5)\n",
    "DimPlot(treg_hpap_ln, split.by = \"Disease\")"
   ]
  },
  {
   "cell_type": "code",
   "execution_count": null,
   "id": "218bc0d5",
   "metadata": {
    "scrolled": true
   },
   "outputs": [],
   "source": [
    "DimPlot(treg_hpap_ln, label = T)"
   ]
  },
  {
   "cell_type": "code",
   "execution_count": null,
   "id": "caa334f5",
   "metadata": {},
   "outputs": [],
   "source": [
    "saveRDS(treg_hpap_ln, \"240623_treg_hpap_ln_stacas_v06.rds\")"
   ]
  },
  {
   "cell_type": "code",
   "execution_count": null,
   "id": "55cd1316",
   "metadata": {},
   "outputs": [],
   "source": []
  },
  {
   "cell_type": "markdown",
   "id": "e8c2ee42",
   "metadata": {},
   "source": [
    "## Integration with Treg from HPAP"
   ]
  },
  {
   "cell_type": "code",
   "execution_count": null,
   "id": "1f8f7b71",
   "metadata": {},
   "outputs": [],
   "source": [
    "treg_hpap  <- readRDS(\"../230927_HPAP_Diabetes_Multiome/data/treg.rds\")"
   ]
  },
  {
   "cell_type": "code",
   "execution_count": null,
   "id": "3a50b8f8",
   "metadata": {},
   "outputs": [],
   "source": [
    "treg_our  <- readRDS(\"old/data/processed/L3/cd4_l3_treg.rds\")"
   ]
  },
  {
   "cell_type": "code",
   "execution_count": null,
   "id": "f621fb7a",
   "metadata": {},
   "outputs": [],
   "source": [
    "treg_our  <- treg"
   ]
  },
  {
   "cell_type": "code",
   "execution_count": null,
   "id": "9576459d",
   "metadata": {},
   "outputs": [],
   "source": [
    "treg_our$Study  <- \"Lab48\"\n",
    "treg_hpap$Study  <- \"HPAP\"\n",
    "merged.list1  <- SplitObject(treg_our, split.by = \"Experiment_ID\")\n",
    "merged.list2  <- SplitObject(treg_hpap, split.by = \"Experiment_ID\")"
   ]
  },
  {
   "cell_type": "code",
   "execution_count": null,
   "id": "6c9de469",
   "metadata": {},
   "outputs": [],
   "source": [
    "rm(merged.list1)\n",
    "rm(merged.list2)\n",
    "gc()"
   ]
  },
  {
   "cell_type": "code",
   "execution_count": null,
   "id": "e1d0d800",
   "metadata": {},
   "outputs": [],
   "source": [
    "rm(new_dia_experiment2)\n",
    "rm(merged.list)"
   ]
  },
  {
   "cell_type": "code",
   "execution_count": null,
   "id": "4d011de3",
   "metadata": {},
   "outputs": [],
   "source": [
    "gc()"
   ]
  },
  {
   "cell_type": "code",
   "execution_count": null,
   "id": "cf66c176",
   "metadata": {},
   "outputs": [],
   "source": [
    "merged.list  <- merge(treg_our, treg_hpap)"
   ]
  },
  {
   "cell_type": "code",
   "execution_count": null,
   "id": "62d4926f",
   "metadata": {},
   "outputs": [],
   "source": [
    "merged.list  <- SplitObject(merged.list, split.by = \"Experiment_ID\")"
   ]
  },
  {
   "cell_type": "code",
   "execution_count": null,
   "id": "2b0a54a7",
   "metadata": {},
   "outputs": [],
   "source": [
    "merged.list <- lapply(X = merged.list, FUN = function(x) {\n",
    "    DefaultAssay(x)  <- \"RNA\"\n",
    "    x$barcode  <- colnames(x)\n",
    "    x <- NormalizeData(x)\n",
    "    x <- FindVariableFeatures(x, selection.method = \"vst\", nfeatures = 2000)\n",
    "})"
   ]
  },
  {
   "cell_type": "code",
   "execution_count": null,
   "id": "561a79b2",
   "metadata": {},
   "outputs": [],
   "source": [
    "new_dia_experiment2 <- Run.STACAS(merged.list, dims = 1:12)\n",
    "new_dia_experiment2 <- RunUMAP(new_dia_experiment2, dims = 1:12) "
   ]
  },
  {
   "cell_type": "code",
   "execution_count": null,
   "id": "9399871e",
   "metadata": {},
   "outputs": [],
   "source": [
    "treg_integrated  <- new_dia_experiment2"
   ]
  },
  {
   "cell_type": "code",
   "execution_count": null,
   "id": "a3ee379a",
   "metadata": {},
   "outputs": [],
   "source": [
    "DimPlot(treg_integrated)"
   ]
  },
  {
   "cell_type": "code",
   "execution_count": null,
   "id": "ff30884b",
   "metadata": {},
   "outputs": [],
   "source": [
    "DimPlot(treg_integrated, group.by = \"Study\")"
   ]
  },
  {
   "cell_type": "code",
   "execution_count": null,
   "id": "7cbc6756",
   "metadata": {},
   "outputs": [],
   "source": [
    "FeaturePlot(treg_integrated, features = \"CD226\", min.cutoff = 0)"
   ]
  },
  {
   "cell_type": "code",
   "execution_count": null,
   "id": "b62005c2",
   "metadata": {},
   "outputs": [],
   "source": [
    "FeaturePlot(treg_integrated, features = \"FOXP3\", min.cutoff = 0)"
   ]
  },
  {
   "cell_type": "markdown",
   "id": "7b09d8d0",
   "metadata": {},
   "source": [
    "## Normal Seurat"
   ]
  },
  {
   "cell_type": "code",
   "execution_count": null,
   "id": "ab08e39b",
   "metadata": {},
   "outputs": [],
   "source": [
    "treg_hpap2  <- readRDS(\"../230927_HPAP_Diabetes_Multiome/data/treg.rds\")"
   ]
  },
  {
   "cell_type": "code",
   "execution_count": null,
   "id": "499353cb",
   "metadata": {},
   "outputs": [],
   "source": [
    "DimPlot(treg_hpap2)"
   ]
  },
  {
   "cell_type": "code",
   "execution_count": null,
   "id": "8ea74248",
   "metadata": {},
   "outputs": [],
   "source": [
    "mrk4  <- FindAllMarkers(treg_hpap2, logfc.threshold = log(2.5), min.diff.pct = 0.15)"
   ]
  },
  {
   "cell_type": "code",
   "execution_count": null,
   "id": "fcb23961",
   "metadata": {},
   "outputs": [],
   "source": [
    "FeaturePlot(treg_hpap2, features = \"NCAM1\")"
   ]
  },
  {
   "cell_type": "code",
   "execution_count": null,
   "id": "019b6803",
   "metadata": {},
   "outputs": [],
   "source": [
    "treg_hpap2_filt  <- subset(treg_hpap2, seurat_clusters %in% c(0:3,5))"
   ]
  },
  {
   "cell_type": "code",
   "execution_count": null,
   "id": "001d42c4",
   "metadata": {},
   "outputs": [],
   "source": [
    "treg_hpap2_filt$Experiment_ID  %>% table"
   ]
  },
  {
   "cell_type": "code",
   "execution_count": null,
   "id": "fea29db2",
   "metadata": {},
   "outputs": [],
   "source": [
    "treg_our$Experiment_ID  %>% table"
   ]
  },
  {
   "cell_type": "code",
   "execution_count": null,
   "id": "b2def12e",
   "metadata": {},
   "outputs": [],
   "source": [
    "treg_our$Study  <- \"Lab48\"\n",
    "treg_hpap2_filt$Study  <- \"HPAP\"\n",
    "merged.list1  <- SplitObject(treg_our, split.by = \"Experiment_ID\")\n",
    "merged.list2  <- SplitObject(treg_hpap2_filt, split.by = \"Experiment_ID\")"
   ]
  },
  {
   "cell_type": "code",
   "execution_count": null,
   "id": "8345fe62",
   "metadata": {},
   "outputs": [],
   "source": [
    "merged.list  <- append(merged.list1, merged.list2)"
   ]
  },
  {
   "cell_type": "code",
   "execution_count": null,
   "id": "34daf693",
   "metadata": {},
   "outputs": [],
   "source": [
    "merged.list <- lapply(X = merged.list, FUN = function(x) {\n",
    "    DefaultAssay(x)  <- \"RNA\"\n",
    "    x$barcode  <- colnames(x)\n",
    "    x <- NormalizeData(x)\n",
    "    x <- FindVariableFeatures(x, selection.method = \"vst\", nfeatures = 2000)\n",
    "})"
   ]
  },
  {
   "cell_type": "code",
   "execution_count": null,
   "id": "b87acf69",
   "metadata": {},
   "outputs": [],
   "source": [
    "# select features that are repeatedly variable across datasets for integration run PCA on each\n",
    "# dataset using these features\n",
    "features <- SelectIntegrationFeatures(object.list = merged.list)\n",
    "merged.list <- lapply(X = merged.list, FUN = function(x) {\n",
    "    x <- ScaleData(x, features = features, verbose = FALSE)\n",
    "    x <- RunPCA(x, features = features, verbose = FALSE)\n",
    "})"
   ]
  },
  {
   "cell_type": "code",
   "execution_count": null,
   "id": "6e50ce1d",
   "metadata": {
    "scrolled": true
   },
   "outputs": [],
   "source": [
    "immune.anchors <- FindIntegrationAnchors(object.list = merged.list, anchor.features = features, reduction = \"rpca\")\n",
    "\n",
    "# this command creates an 'integrated' data assay\n",
    "immune.combined <- IntegrateData(anchorset = immune.anchors)"
   ]
  },
  {
   "cell_type": "code",
   "execution_count": null,
   "id": "efa51b8b",
   "metadata": {
    "scrolled": true
   },
   "outputs": [],
   "source": [
    "# Run the standard workflow for visualization and clustering\n",
    "immune.combined <- ScaleData(immune.combined, verbose = FALSE)\n",
    "immune.combined <- RunPCA(immune.combined, npcs = 15, verbose = FALSE)\n",
    "immune.combined <- RunUMAP(immune.combined, reduction = \"pca\", dims = 1:15)"
   ]
  },
  {
   "cell_type": "code",
   "execution_count": null,
   "id": "d4e46af2",
   "metadata": {},
   "outputs": [],
   "source": [
    "DimPlot(immune.combined)"
   ]
  },
  {
   "cell_type": "code",
   "execution_count": null,
   "id": "b3256698",
   "metadata": {},
   "outputs": [],
   "source": [
    "immune.combined$Study_cluster  <- paste(immune.combined$Study, immune.combined$seurat_clusters)"
   ]
  },
  {
   "cell_type": "code",
   "execution_count": null,
   "id": "69d141f6",
   "metadata": {},
   "outputs": [],
   "source": [
    "options(repr.plot.width = 7, repr.plot.height = 6)\n",
    "\n",
    "DimPlot(immune.combined, group.by = \"Study_cluster\")"
   ]
  },
  {
   "cell_type": "code",
   "execution_count": null,
   "id": "6c9ddb78",
   "metadata": {},
   "outputs": [],
   "source": [
    "DimPlot(immune.combined, group.by = \"Study\")"
   ]
  },
  {
   "cell_type": "code",
   "execution_count": null,
   "id": "3807fa7e",
   "metadata": {},
   "outputs": [],
   "source": [
    "options(repr.plot.width = 14, repr.plot.height = 6)\n",
    "DimPlot(immune.combined, split.by = \"Study\")"
   ]
  },
  {
   "cell_type": "code",
   "execution_count": null,
   "id": "186fe7c2",
   "metadata": {},
   "outputs": [],
   "source": [
    "options(repr.plot.width = 7, repr.plot.height = 6)\n",
    "\n",
    "FeaturePlot(immune.combined, features = \"FOXP3\", min.cutoff = 0)"
   ]
  },
  {
   "cell_type": "code",
   "execution_count": null,
   "id": "3d097b26",
   "metadata": {},
   "outputs": [],
   "source": [
    "FeaturePlot(immune.combined, features = \"GZMK\", min.cutoff = 0)"
   ]
  },
  {
   "cell_type": "code",
   "execution_count": null,
   "id": "df1c7f42",
   "metadata": {},
   "outputs": [],
   "source": [
    "FeaturePlot(immune.combined, features = \"MKI67\", min.cutoff = 0)"
   ]
  },
  {
   "cell_type": "code",
   "execution_count": null,
   "id": "f39edac1",
   "metadata": {},
   "outputs": [],
   "source": [
    "FeaturePlot(immune.combined, features = \"CD226\", min.cutoff = 0)"
   ]
  },
  {
   "cell_type": "code",
   "execution_count": null,
   "id": "ea2bc69a",
   "metadata": {},
   "outputs": [],
   "source": [
    "immune.combined <- FindNeighbors(immune.combined, reduction = \"pca\", dims = 1:15)"
   ]
  },
  {
   "cell_type": "code",
   "execution_count": null,
   "id": "3b7aa3c6",
   "metadata": {},
   "outputs": [],
   "source": [
    "immune.combined <- FindClusters(immune.combined, resolution = 0.6)"
   ]
  },
  {
   "cell_type": "code",
   "execution_count": null,
   "id": "cbcfe3c0",
   "metadata": {},
   "outputs": [],
   "source": [
    "options(repr.plot.width = 7, repr.plot.height = 6)\n",
    "DimPlot(immune.combined, label = T)"
   ]
  },
  {
   "cell_type": "code",
   "execution_count": null,
   "id": "757bd1a1",
   "metadata": {},
   "outputs": [],
   "source": [
    "options(repr.plot.width = 25, repr.plot.height = 15)\n",
    "\n",
    "\n",
    "seurat_meta_data <- immune.combined@meta.data\n",
    "seurat_meta_data$sample  <- paste(seurat_meta_data$Patient_ID, seurat_meta_data$Tissue, seurat_meta_data$Time) \n",
    "# Create grouped dataframe, calculate the frequencies of clusters\n",
    "df3 <- seurat_meta_data %>% group_by(sample, seurat_clusters) %>% \n",
    "  summarise(n = n()) %>% \n",
    "  unique() %>% \n",
    "  mutate(freq = n / sum(n))  %>% \n",
    "dplyr::select(-n)  %>% \n",
    "pivot_wider(names_from = \"seurat_clusters\", values_from = \"freq\", values_fill = 0)  \n",
    "df4  <- left_join(data.frame(sample = levels(factor(seurat_meta_data$sample))), df3)\n",
    "df4[is.na(df4)] <- 0"
   ]
  },
  {
   "cell_type": "code",
   "execution_count": null,
   "id": "029b9de6",
   "metadata": {},
   "outputs": [],
   "source": [
    "df4"
   ]
  },
  {
   "cell_type": "code",
   "execution_count": null,
   "id": "e8b9d675",
   "metadata": {},
   "outputs": [],
   "source": [
    "df4  <- df4  %>% pivot_longer(cols = c(3:13), values_to = \"freq\", names_to = \"seurat_clusters\")  %>% unique"
   ]
  },
  {
   "cell_type": "code",
   "execution_count": null,
   "id": "7ab3a298",
   "metadata": {},
   "outputs": [],
   "source": [
    "# As we've lost non-grouping variables, let's join them back\n",
    "md_to_join <- seurat_meta_data %>% dplyr::select(sample, Disease, Condition, Patient_ID, Tissue, Study, Time) %>% unique()\n",
    "df4  <- left_join(df4, md_to_join, by = \"sample\")"
   ]
  },
  {
   "cell_type": "code",
   "execution_count": null,
   "id": "db2a4a5a",
   "metadata": {
    "scrolled": true
   },
   "outputs": [],
   "source": [
    "# The final plot\n",
    "\n",
    "df4 %>% \n",
    "filter(Study == \"HPAP\")  %>% ggplot(aes(x = Disease, y = freq)) + # you can change the x to whatever variable you're interested in\n",
    "  geom_boxplot(outlier.shape = NA) + \n",
    "  geom_dotplot(binaxis='y', stackdir='center', dotsize=0) + \n",
    "  geom_jitter(position=position_jitter(0.2), size = 2, aes(color = Tissue)) + # in aes, you can also use shape or fill (for the shapes that allow it)\n",
    "  facet_wrap(~seurat_clusters, scales = \"free\", ncol = 5) +\n",
    "  ylab(\"Frequency\") +\n",
    "  xlab(\"Condition\") +\n",
    "ggpubr::stat_compare_means() +\n",
    "  ylim(c(0,NA)) + # This ensures that our x axis starts at zero, but feel free to remove this line\n",
    "  theme_classic() +\n",
    "  theme(strip.background = element_blank(), panel.grid = element_blank())\n",
    "\n",
    "\n",
    "df4 %>% \n",
    "filter(Study == \"Lab48\" & Disease %in% c(\"Dia\",\"Ctrl\"))  %>%\n",
    "ggplot(aes(x = Disease, y = freq)) + # you can change the x to whatever variable you're interested in\n",
    "  geom_boxplot(outlier.shape = NA) + \n",
    "  geom_dotplot(binaxis='y', stackdir='center', dotsize=0) + \n",
    "  geom_jitter(position=position_jitter(0.2), size = 2, aes(color = Time)) + # in aes, you can also use shape or fill (for the shapes that allow it)\n",
    "  facet_wrap(~seurat_clusters, scales = \"free\", ncol = 5) +\n",
    "  ylab(\"Frequency\") +\n",
    "  xlab(\"Condition\") +\n",
    "ggpubr::stat_compare_means() +\n",
    "  ylim(c(0,NA)) + # This ensures that our x axis starts at zero, but feel free to remove this line\n",
    "  theme_classic() +\n",
    "  theme(strip.background = element_blank(), panel.grid = element_blank())"
   ]
  },
  {
   "cell_type": "markdown",
   "id": "78d3bcd1",
   "metadata": {},
   "source": [
    "## Normal Seurat v02"
   ]
  },
  {
   "cell_type": "code",
   "execution_count": null,
   "id": "79c196cf",
   "metadata": {},
   "outputs": [],
   "source": [
    "packageVersion(\"Seurat\")"
   ]
  },
  {
   "cell_type": "code",
   "execution_count": null,
   "id": "daa0e32d",
   "metadata": {},
   "outputs": [],
   "source": [
    "treg_hpap2  <- readRDS(\"../230927_HPAP_Diabetes_Multiome/data/treg.rds\")"
   ]
  },
  {
   "cell_type": "code",
   "execution_count": null,
   "id": "97eba7b4",
   "metadata": {},
   "outputs": [],
   "source": [
    "treg_our  <- readRDS(\"old/data/processed/L3/cd4_l3_treg.rds\")"
   ]
  },
  {
   "cell_type": "code",
   "execution_count": null,
   "id": "81f27977",
   "metadata": {},
   "outputs": [],
   "source": [
    "DimPlot(treg_our)"
   ]
  },
  {
   "cell_type": "code",
   "execution_count": null,
   "id": "29d23c75",
   "metadata": {},
   "outputs": [],
   "source": [
    "treg_our$Study  <- \"Lab48\"\n",
    "treg_hpap$Study  <- \"HPAP\"\n",
    "merged.list1  <- SplitObject(treg_our, split.by = \"Experiment_ID\")\n",
    "merged.list2  <- SplitObject(treg_hpap, split.by = \"Experiment_ID\")"
   ]
  },
  {
   "cell_type": "code",
   "execution_count": null,
   "id": "bd199dc4",
   "metadata": {},
   "outputs": [],
   "source": [
    "merged.list  <- append(merged.list1, merged.list2)"
   ]
  },
  {
   "cell_type": "code",
   "execution_count": null,
   "id": "90739adb",
   "metadata": {},
   "outputs": [],
   "source": [
    "merged.list <- lapply(X = merged.list, FUN = function(x) {\n",
    "    DefaultAssay(x)  <- \"RNA\"\n",
    "    x$barcode  <- colnames(x)\n",
    "    x <- NormalizeData(x)\n",
    "    x <- FindVariableFeatures(x, selection.method = \"vst\", nfeatures = 2000)\n",
    "})"
   ]
  },
  {
   "cell_type": "code",
   "execution_count": null,
   "id": "7225a7c7",
   "metadata": {
    "scrolled": true
   },
   "outputs": [],
   "source": [
    "immune.anchors <- FindIntegrationAnchors(object.list = merged.list, dims = 1:20)\n",
    "immune.combined <- IntegrateData(anchorset = immune.anchors, dims = 1:20)"
   ]
  },
  {
   "cell_type": "code",
   "execution_count": null,
   "id": "bf4270ba",
   "metadata": {
    "scrolled": true
   },
   "outputs": [],
   "source": [
    "# Run the standard workflow for visualization and clustering\n",
    "immune.combined <- ScaleData(immune.combined, verbose = FALSE)\n",
    "immune.combined <- RunPCA(immune.combined, npcs = 30, verbose = FALSE)\n",
    "# t-SNE and Clustering\n",
    "immune.combined <- RunUMAP(immune.combined, reduction = \"pca\", dims = 1:20)"
   ]
  },
  {
   "cell_type": "code",
   "execution_count": null,
   "id": "a2d37c51",
   "metadata": {},
   "outputs": [],
   "source": [
    "DimPlot(immune.combined)"
   ]
  },
  {
   "cell_type": "code",
   "execution_count": null,
   "id": "1242b5f6",
   "metadata": {},
   "outputs": [],
   "source": [
    "immune.combined$Study_cluster  <- paste(immune.combined$Study, immune.combined$seurat_clusters)"
   ]
  },
  {
   "cell_type": "code",
   "execution_count": null,
   "id": "897f5854",
   "metadata": {},
   "outputs": [],
   "source": [
    "options(repr.plot.width = 7, repr.plot.height = 6)\n",
    "\n",
    "DimPlot(immune.combined, group.by = \"Study_cluster\")"
   ]
  },
  {
   "cell_type": "code",
   "execution_count": null,
   "id": "06acdf44",
   "metadata": {},
   "outputs": [],
   "source": [
    "DimPlot(immune.combined, group.by = \"Study\")"
   ]
  },
  {
   "cell_type": "code",
   "execution_count": null,
   "id": "8ee3b24a",
   "metadata": {},
   "outputs": [],
   "source": [
    "options(repr.plot.width = 14, repr.plot.height = 6)\n",
    "DimPlot(immune.combined, split.by = \"Study\")"
   ]
  },
  {
   "cell_type": "code",
   "execution_count": null,
   "id": "39d0f92c",
   "metadata": {},
   "outputs": [],
   "source": [
    "options(repr.plot.width = 7, repr.plot.height = 6)\n",
    "\n",
    "FeaturePlot(immune.combined, features = \"FOXP3\", min.cutoff = 0)"
   ]
  },
  {
   "cell_type": "code",
   "execution_count": null,
   "id": "11c580e2",
   "metadata": {
    "scrolled": true
   },
   "outputs": [],
   "source": [
    "options(repr.plot.width = 7, repr.plot.height = 6)\n",
    "\n",
    "FeaturePlot(immune.combined, features = \"MALAT1\", min.cutoff = 0)"
   ]
  },
  {
   "cell_type": "code",
   "execution_count": null,
   "id": "fe6f3e0c",
   "metadata": {},
   "outputs": [],
   "source": [
    "FeaturePlot(immune.combined, features = \"GZMK\", min.cutoff = 0)"
   ]
  },
  {
   "cell_type": "code",
   "execution_count": null,
   "id": "164c5746",
   "metadata": {},
   "outputs": [],
   "source": [
    "FeaturePlot(immune.combined, features = \"MKI67\", min.cutoff = 0)"
   ]
  },
  {
   "cell_type": "code",
   "execution_count": null,
   "id": "16eec197",
   "metadata": {},
   "outputs": [],
   "source": [
    "FeaturePlot(immune.combined, features = \"IL10\", min.cutoff = 0)"
   ]
  },
  {
   "cell_type": "code",
   "execution_count": null,
   "id": "8fd638e7",
   "metadata": {},
   "outputs": [],
   "source": [
    "immune.combined <- FindNeighbors(immune.combined, reduction = \"pca\", dims = 1:15)"
   ]
  },
  {
   "cell_type": "code",
   "execution_count": null,
   "id": "56dbc368",
   "metadata": {},
   "outputs": [],
   "source": [
    "immune.combined <- FindClusters(immune.combined, resolution = 0.5)"
   ]
  },
  {
   "cell_type": "code",
   "execution_count": null,
   "id": "b45b7960",
   "metadata": {},
   "outputs": [],
   "source": [
    "options(repr.plot.width = 5, repr.plot.height = 4)\n",
    "DimPlot(immune.combined, label = T)"
   ]
  },
  {
   "cell_type": "code",
   "execution_count": null,
   "id": "5fdd869c",
   "metadata": {
    "scrolled": true
   },
   "outputs": [],
   "source": [
    "mrk  <- FindAllMarkers(immune.combined)"
   ]
  },
  {
   "cell_type": "code",
   "execution_count": null,
   "id": "4681c720",
   "metadata": {
    "scrolled": true
   },
   "outputs": [],
   "source": [
    "mrk"
   ]
  },
  {
   "cell_type": "code",
   "execution_count": null,
   "id": "55095d36",
   "metadata": {},
   "outputs": [],
   "source": [
    "rank_score_func <- function(df){\n",
    "    df <- df %>% mutate(score = -1*log(p_val_adj+(10^-310))*avg_log2FC*(pct.1/(pct.2+10^-300)))\n",
    "    \n",
    "return(df)}\n",
    "\n"
   ]
  },
  {
   "cell_type": "code",
   "execution_count": null,
   "id": "459bb885",
   "metadata": {},
   "outputs": [],
   "source": [
    "mrk  <- rank_score_func(mrk)"
   ]
  },
  {
   "cell_type": "code",
   "execution_count": null,
   "id": "c6b4ebd5",
   "metadata": {
    "scrolled": true
   },
   "outputs": [],
   "source": [
    "options(repr.plot.width = 32, repr.plot.height = 8)\n",
    "\n",
    "seurat_meta_data <- immune.combined@meta.data\n",
    "seurat_meta_data$sample  <- paste(seurat_meta_data$Patient_ID, seurat_meta_data$Tissue) \n",
    "\n",
    "# Create grouped dataframe, calculate the frequencies of clusters\n",
    "df4 <- seurat_meta_data %>% group_by(sample, seurat_clusters) %>% \n",
    "  summarise(n = n()) %>% \n",
    "  unique() %>% \n",
    "  mutate(freq = n / sum(n)) \n",
    "\n",
    "\n",
    "# As we've lost non-grouping variables, let's join them back\n",
    "md_to_join <- seurat_meta_data %>% dplyr::select(sample, Disease, Patient_ID, Tissue, Study) %>% unique()\n",
    "df4  <- left_join(df4, md_to_join, by = \"sample\")\n",
    "\n",
    "# The final plot\n",
    "\n",
    "df4 %>% ggplot(aes(x = Disease, y = freq)) + # you can change the x to whatever variable you're interested in\n",
    "  geom_boxplot(outlier.shape = NA) + \n",
    "  geom_dotplot(binaxis='y', stackdir='center', dotsize=0) + \n",
    "  geom_jitter(position=position_jitter(0.2), size = 2, aes(color = Study)) + # in aes, you can also use shape or fill (for the shapes that allow it)\n",
    "  facet_grid(rows = vars(Study), cols = vars(seurat_clusters), scales = \"free\", drop = TRUE) +\n",
    "  ylab(\"Frequency\") +\n",
    "  xlab(\"Condition\") +\n",
    "ggpubr::stat_compare_means() +\n",
    "  ylim(c(0,NA)) + # This ensures that our x axis starts at zero, but feel free to remove this line\n",
    "  theme_classic() +\n",
    "  theme(strip.background = element_blank(), panel.grid = element_blank()) + NoLegend()\n"
   ]
  },
  {
   "cell_type": "code",
   "execution_count": null,
   "id": "54fe6a56",
   "metadata": {},
   "outputs": [],
   "source": [
    "options(repr.plot.width = 25, repr.plot.height = 15)\n",
    "\n",
    "\n",
    "seurat_meta_data <- immune.combined@meta.data\n",
    "seurat_meta_data$sample  <- paste(seurat_meta_data$Patient_ID, seurat_meta_data$Tissue, seurat_meta_data$Time) \n",
    "# Create grouped dataframe, calculate the frequencies of clusters\n",
    "df3 <- seurat_meta_data %>% group_by(sample, seurat_clusters) %>% \n",
    "  summarise(n = n()) %>% \n",
    "  unique() %>% \n",
    "  mutate(freq = n / sum(n))  %>% \n",
    "pivot_wider(names_from = \"seurat_clusters\", values_from = \"freq\", values_fill = 0)  \n",
    "df4  <- left_join(data.frame(sample = levels(factor(seurat_meta_data$sample))), df3)\n",
    "df4[is.na(df4)] <- 0"
   ]
  },
  {
   "cell_type": "code",
   "execution_count": null,
   "id": "adc96199",
   "metadata": {},
   "outputs": [],
   "source": [
    "immune.combined <- FindClusters(immune.combined, resolution = 0.07)"
   ]
  },
  {
   "cell_type": "code",
   "execution_count": null,
   "id": "98a4225d",
   "metadata": {},
   "outputs": [],
   "source": [
    "options(repr.plot.width = 7, repr.plot.height = 6)\n",
    "DimPlot(immune.combined, label = T)"
   ]
  },
  {
   "cell_type": "code",
   "execution_count": null,
   "id": "7e64c3e9",
   "metadata": {},
   "outputs": [],
   "source": [
    "mrk2  <- FindAllMarkers(immune.combined, logfc.threshold = log(2), min.diff.pct = 0.2)"
   ]
  },
  {
   "cell_type": "code",
   "execution_count": null,
   "id": "922d2943",
   "metadata": {
    "scrolled": true
   },
   "outputs": [],
   "source": [
    "mrk2"
   ]
  },
  {
   "cell_type": "code",
   "execution_count": null,
   "id": "97ba8a6a",
   "metadata": {},
   "outputs": [],
   "source": [
    "options(repr.plot.width = 7, repr.plot.height = 6)\n",
    "\n",
    "FeaturePlot(immune.combined, features = \"CDK6\", min.cutoff = 0)"
   ]
  },
  {
   "cell_type": "code",
   "execution_count": null,
   "id": "1bc5e4d1",
   "metadata": {},
   "outputs": [],
   "source": [
    "markers  <- mrk  %>% arrange(desc(score))  %>% group_by(cluster)  %>% slice_head(n = 5)  %>% pull(gene)\n"
   ]
  },
  {
   "cell_type": "code",
   "execution_count": null,
   "id": "99d8f7c7",
   "metadata": {},
   "outputs": [],
   "source": [
    "markers  <- mrk  %>% arrange(desc(score))  %>% group_by(cluster)  %>% slice_head(n = 5)  %>% pull(gene)\n",
    "\n",
    "options(repr.plot.width = 20, repr.plot.height = 40)\n",
    "FeaturePlot(immune.combined, features = markers,\n",
    "           min.cutoff = 0, ncol = 5)"
   ]
  },
  {
   "cell_type": "code",
   "execution_count": null,
   "id": "211e479a",
   "metadata": {},
   "outputs": [],
   "source": [
    "markers  <- mrk  %>% arrange(desc(score))  %>% group_by(cluster)  %>% \n",
    "filter(cluster %in% c(5,8)) %>% slice_head(n = 20)  %>% pull(gene)\n",
    "\n",
    "options(repr.plot.width = 20, repr.plot.height = 40)\n",
    "FeaturePlot(immune.combined, features = markers,\n",
    "           min.cutoff = 0, ncol = 5)"
   ]
  },
  {
   "cell_type": "code",
   "execution_count": null,
   "id": "4e5f324d",
   "metadata": {},
   "outputs": [],
   "source": [
    "options(repr.plot.width = 6, repr.plot.height = 5)\n",
    "FeaturePlot(immune.combined, features = \"ST6GALNAC3\",\n",
    "           min.cutoff = 0, ncol = 1)"
   ]
  },
  {
   "cell_type": "code",
   "execution_count": null,
   "id": "f30664cd",
   "metadata": {},
   "outputs": [],
   "source": []
  },
  {
   "cell_type": "markdown",
   "id": "ce73abda",
   "metadata": {},
   "source": [
    "# GSE154680"
   ]
  },
  {
   "cell_type": "code",
   "execution_count": null,
   "id": "1f4c4760",
   "metadata": {},
   "outputs": [],
   "source": [
    "library(GEOquery)\n"
   ]
  },
  {
   "cell_type": "code",
   "execution_count": null,
   "id": "fffcb63c",
   "metadata": {},
   "outputs": [],
   "source": [
    "gset <- getGEO(\"GSE154680\", GSEMatrix =TRUE, getGPL=TRUE, AnnotGPL=TRUE)"
   ]
  },
  {
   "cell_type": "code",
   "execution_count": null,
   "id": "801818ca",
   "metadata": {},
   "outputs": [],
   "source": [
    "varLabels(gset$GSE154680_series_matrix.txt.gz)"
   ]
  },
  {
   "cell_type": "code",
   "execution_count": null,
   "id": "36a85264",
   "metadata": {},
   "outputs": [],
   "source": [
    "gset$GSE154680_series_matrix.txt.gz$title"
   ]
  },
  {
   "cell_type": "code",
   "execution_count": null,
   "id": "42219eca",
   "metadata": {},
   "outputs": [],
   "source": [
    "grep(gset$GSE154680_series_matrix.txt.gz$title, pattern = \"RNA-seq resting\", value =T)"
   ]
  },
  {
   "cell_type": "code",
   "execution_count": null,
   "id": "4dac9402",
   "metadata": {},
   "outputs": [],
   "source": [
    "grep(gset$GSE154680_series_matrix.txt.gz$title, pattern = \"RNA-seq resting\")"
   ]
  },
  {
   "cell_type": "code",
   "execution_count": null,
   "id": "4f062137",
   "metadata": {},
   "outputs": [],
   "source": [
    "gset$GSE154680_series_matrix.txt.gz$geo_accession[grep(gset$GSE154680_series_matrix.txt.gz$title, pattern = \"RNA-seq resting\")]"
   ]
  },
  {
   "cell_type": "code",
   "execution_count": null,
   "id": "246138e8",
   "metadata": {},
   "outputs": [],
   "source": [
    "geo  <- gset$GSE154680_series_matrix.txt.gz$geo_accession[grep(gset$GSE154680_series_matrix.txt.gz$title, pattern = \"RNA-seq resting\")]"
   ]
  },
  {
   "cell_type": "code",
   "execution_count": null,
   "id": "f34b0d57",
   "metadata": {},
   "outputs": [],
   "source": [
    "files  <- list.files(\"../data/published_data/raw/\", full.names = TRUE)[\n",
    "    grepl(list.files(\"../data/published_data/raw/\"), pattern = \"GSM4677013\")|\n",
    "    grepl(list.files(\"../data/published_data/raw/\"), pattern = \"GSM4677014\")|\n",
    "    grepl(list.files(\"../data/published_data/raw/\"), pattern = \"GSM4677015\")|\n",
    "    grepl(list.files(\"../data/published_data/raw/\"), pattern = \"GSM4677016\")|\n",
    "    grepl(list.files(\"../data/published_data/raw/\"), pattern = \"GSM4677017\")|\n",
    "    grepl(list.files(\"../data/published_data/raw/\"), pattern = \"GSM4677018\") \n",
    "]"
   ]
  },
  {
   "cell_type": "code",
   "execution_count": null,
   "id": "e5c48ca5",
   "metadata": {},
   "outputs": [],
   "source": [
    "library(data.table)"
   ]
  },
  {
   "cell_type": "code",
   "execution_count": null,
   "id": "680e3a70",
   "metadata": {},
   "outputs": [],
   "source": [
    "rnaseq  <- map(.x = \n",
    "              list.files(\"../data/published_data/raw/\", full.names = TRUE)[\n",
    "    grepl(list.files(\"../data/published_data/raw/\"), pattern = \"GSM4677013\")|\n",
    "    grepl(list.files(\"../data/published_data/raw/\"), pattern = \"GSM4677014\")|\n",
    "    grepl(list.files(\"../data/published_data/raw/\"), pattern = \"GSM4677015\")|\n",
    "    grepl(list.files(\"../data/published_data/raw/\"), pattern = \"GSM4677016\")|\n",
    "    grepl(list.files(\"../data/published_data/raw/\"), pattern = \"GSM4677017\")|\n",
    "    grepl(list.files(\"../data/published_data/raw/\"), pattern = \"GSM4677018\") \n",
    "],\n",
    "              .f = fread)"
   ]
  },
  {
   "cell_type": "code",
   "execution_count": null,
   "id": "9809cb19",
   "metadata": {},
   "outputs": [],
   "source": [
    "test  <- fread(files[1])"
   ]
  },
  {
   "cell_type": "code",
   "execution_count": null,
   "id": "3e76c164",
   "metadata": {
    "scrolled": true
   },
   "outputs": [],
   "source": [
    "test"
   ]
  },
  {
   "cell_type": "code",
   "execution_count": null,
   "id": "4d9caebb",
   "metadata": {},
   "outputs": [],
   "source": [
    "colnames(test)  <- c(\"gene\",geo[1])"
   ]
  },
  {
   "cell_type": "code",
   "execution_count": null,
   "id": "45b39ad5",
   "metadata": {},
   "outputs": [],
   "source": [
    "for(i in 1:6){\n",
    "    ds  <- fread(files[i])  \n",
    "    colnames(ds)  <- c(\"gene\",geo[i])\n",
    "    if(i==1){\n",
    "        ds_all  <- ds\n",
    "    } else {\n",
    "    ds_all  <- left_join(ds_all,ds)\n",
    "}\n",
    "    }"
   ]
  },
  {
   "cell_type": "code",
   "execution_count": null,
   "id": "9c8f05f5",
   "metadata": {
    "scrolled": true
   },
   "outputs": [],
   "source": [
    "ds_all"
   ]
  },
  {
   "cell_type": "code",
   "execution_count": null,
   "id": "133cf66c",
   "metadata": {},
   "outputs": [],
   "source": [
    "library(\"AnnotationDbi\")\n",
    "library(\"org.Mm.eg.db\")"
   ]
  },
  {
   "cell_type": "code",
   "execution_count": null,
   "id": "0865f9cd",
   "metadata": {
    "scrolled": true
   },
   "outputs": [],
   "source": [
    "gene_annotations"
   ]
  },
  {
   "cell_type": "code",
   "execution_count": null,
   "id": "5a342295",
   "metadata": {},
   "outputs": [],
   "source": [
    "gene_annotations = mapIds(org.Mm.eg.db,\n",
    "                    keys=ds_all$gene, \n",
    "                    column=\"SYMBOL\",\n",
    "                    keytype=\"ENSEMBL\")  %>% as.data.frame()  %>% \n",
    "rownames_to_column(\"gene\")"
   ]
  },
  {
   "cell_type": "code",
   "execution_count": null,
   "id": "8a354127",
   "metadata": {},
   "outputs": [],
   "source": [
    "colnames(gene_annotations)[2]  <- \"Gene\""
   ]
  },
  {
   "cell_type": "code",
   "execution_count": null,
   "id": "e3627d24",
   "metadata": {},
   "outputs": [],
   "source": [
    "rnaseq2  <- ds_all  %>% left_join(gene_annotations)"
   ]
  },
  {
   "cell_type": "code",
   "execution_count": null,
   "id": "c9907975",
   "metadata": {},
   "outputs": [],
   "source": [
    "rnaseq2  <-  rnaseq2   %>% dplyr::filter(!is.na(Gene))  %>% \n",
    "dplyr::select(-gene)  %>% \n",
    "group_by(Gene)  %>% \n",
    "summarise_all(.funs = sum)"
   ]
  },
  {
   "cell_type": "code",
   "execution_count": null,
   "id": "a848402b",
   "metadata": {
    "scrolled": true
   },
   "outputs": [],
   "source": [
    "rnaseq3  <- rnaseq2  %>% mutate(sum = GSM4677013+GSM4677014+GSM4677015+\n",
    "                                         GSM4677016+GSM4677017+GSM4677018)  %>% \n",
    "dplyr::filter(!grepl(x = Gene, pattern = \"Rik\")&\n",
    "                                        sum>20)"
   ]
  },
  {
   "cell_type": "code",
   "execution_count": null,
   "id": "ac5e6daf",
   "metadata": {
    "scrolled": true
   },
   "outputs": [],
   "source": [
    "rnaseq3"
   ]
  },
  {
   "cell_type": "code",
   "execution_count": null,
   "id": "45d3ee83",
   "metadata": {},
   "outputs": [],
   "source": [
    "mtx  <- rnaseq3  %>% column_to_rownames(\"Gene\")  %>% dplyr::select(-sum) %>% as.matrix"
   ]
  },
  {
   "cell_type": "code",
   "execution_count": null,
   "id": "cadd8394",
   "metadata": {
    "scrolled": true
   },
   "outputs": [],
   "source": [
    "mtx"
   ]
  },
  {
   "cell_type": "code",
   "execution_count": null,
   "id": "7ce0abc3",
   "metadata": {},
   "outputs": [],
   "source": []
  },
  {
   "cell_type": "code",
   "execution_count": null,
   "id": "3a2fddf6",
   "metadata": {
    "scrolled": true
   },
   "outputs": [],
   "source": [
    "library(DESeq2)\n",
    "\n",
    "\n",
    "# Create a DESeq dataset\n",
    "dds <- DESeqDataSetFromMatrix(countData = mtx,\n",
    "                              colData = data.frame(Condition = c(\"WT\",\"WT\",\"WT\",\"KO\",\"KO\",\"KO\")),\n",
    "                              design= ~ Condition) \n",
    "\n",
    "dds <- estimateSizeFactors(dds)\n",
    "idx <- rowSums(counts(dds, normalized=TRUE) >= 5 ) >= 3\n",
    "\n",
    "\n",
    "# Run the DESeq2 algorithm, which will give us the differentially expressed genes\n",
    "dds <- dds[idx,]\n",
    "dds <- DESeq(dds)\n",
    "\n",
    "# Access and evaluate the results\n",
    "res <- results(dds)\n",
    "res\n",
    "\n",
    "## Order results based on the adjusted p.value and show the first 30 genes\n",
    "resOrdered.pval <- res[order(res$padj),]\n",
    "rownames(resOrdered.pval)[1:30]"
   ]
  },
  {
   "cell_type": "code",
   "execution_count": null,
   "id": "93e247f1",
   "metadata": {
    "scrolled": true
   },
   "outputs": [],
   "source": [
    "res  %>% as.data.frame()  %>% \n",
    "arrange(desc(log2FoldChange),padj)  %>% \n",
    "dplyr::filter(!is.na(padj))"
   ]
  },
  {
   "cell_type": "code",
   "execution_count": null,
   "id": "fb099cba",
   "metadata": {
    "scrolled": true
   },
   "outputs": [],
   "source": [
    "all_genes_wt  <- res  %>% as.data.frame()  %>% \n",
    "arrange(desc(log2FoldChange),padj)  %>% \n",
    "dplyr::filter(!is.na(padj) & padj < 0.01 & log2FoldChange>0)  %>% \n",
    "rownames_to_column(\"gene\")  %>% \n",
    "pull(gene)"
   ]
  },
  {
   "cell_type": "code",
   "execution_count": null,
   "id": "ff48efa5",
   "metadata": {},
   "outputs": [],
   "source": [
    "all_genes_wt  %>% length"
   ]
  },
  {
   "cell_type": "code",
   "execution_count": null,
   "id": "5d4eba4e",
   "metadata": {
    "scrolled": true
   },
   "outputs": [],
   "source": [
    "all_genes_ko  <- res  %>% as.data.frame()  %>% \n",
    "arrange(desc(log2FoldChange),padj)  %>% \n",
    "dplyr::filter(!is.na(padj) & padj < 0.01 & log2FoldChange<0)  %>% \n",
    "rownames_to_column(\"gene\")  %>% \n",
    "pull(gene)"
   ]
  },
  {
   "cell_type": "code",
   "execution_count": null,
   "id": "d1509212",
   "metadata": {},
   "outputs": [],
   "source": [
    "all_genes_ko  %>% length"
   ]
  },
  {
   "cell_type": "code",
   "execution_count": null,
   "id": "2463dcb1",
   "metadata": {},
   "outputs": [],
   "source": []
  },
  {
   "cell_type": "code",
   "execution_count": null,
   "id": "503f28dd",
   "metadata": {
    "scrolled": true
   },
   "outputs": [],
   "source": [
    "plotCounts(dds, gene=\"Patl2\", intgroup=\"Condition\") "
   ]
  },
  {
   "cell_type": "code",
   "execution_count": null,
   "id": "5f1e7f0e",
   "metadata": {},
   "outputs": [],
   "source": [
    "fc.df  <- read_csv(\"../../240218_VN_Diabetes_V05/tables/fold_change/cd4_l3_treg.csv\")  %>% as.data.frame()\n",
    "fc.df  <- fc.df  %>%  arrange(desc(avg_log2FC)) %>% \n",
    "dplyr::filter(cluster == \"Dia\")  %>% \n",
    "  dplyr::select(gene, avg_log2FC)\n",
    "ranks<- deframe(fc.df)"
   ]
  },
  {
   "cell_type": "code",
   "execution_count": null,
   "id": "17132dd8",
   "metadata": {},
   "outputs": [],
   "source": [
    "all_genes_ko  <- str_to_upper(all_genes_ko)"
   ]
  },
  {
   "cell_type": "code",
   "execution_count": null,
   "id": "64be603e",
   "metadata": {},
   "outputs": [],
   "source": [
    "all_genes_wt  <- str_to_upper(all_genes_wt)"
   ]
  },
  {
   "cell_type": "code",
   "execution_count": null,
   "id": "72be682d",
   "metadata": {
    "scrolled": true
   },
   "outputs": [],
   "source": [
    "p  <- plotEnrichment(all_genes_ko,\n",
    "               ranks) + labs(title=\"foxp3_ko\") + ylim(-0.7,0.7) + ggtheme() +\n",
    "\n",
    "plotEnrichment(all_genes_wt,\n",
    "               ranks) + labs(title=\"wt\") + ylim(-0.7,0.7) + ggtheme()\n"
   ]
  },
  {
   "cell_type": "code",
   "execution_count": null,
   "id": "0ce2c2c3",
   "metadata": {},
   "outputs": [],
   "source": [
    "p"
   ]
  },
  {
   "cell_type": "code",
   "execution_count": null,
   "id": "af6985f9",
   "metadata": {},
   "outputs": [],
   "source": [
    "ggsave(p, filename = paste0(\"../figures/gsea/treg_gse154680.svg\"), width = 28, height = 12, units = \"cm\")"
   ]
  },
  {
   "cell_type": "code",
   "execution_count": null,
   "id": "fd341e73",
   "metadata": {},
   "outputs": [],
   "source": [
    "fgsea( pathways = list(ko = all_genes_ko,\n",
    "                     wt = all_genes_wt),\n",
    "       stats = ranks  )"
   ]
  },
  {
   "cell_type": "code",
   "execution_count": null,
   "id": "ff329a28",
   "metadata": {},
   "outputs": [],
   "source": []
  },
  {
   "cell_type": "code",
   "execution_count": null,
   "id": "3caf2efe",
   "metadata": {},
   "outputs": [],
   "source": [
    "#GSE14415_INDUCED_TREG_VS_FOXP3_KO_INDUCED_TREG_UP\n",
    "genes  <- c('1190002H23Rik', '1600012F09Rik', '2610019F03Rik', '4432412L15Rik', '4930444A02Rik', '4932441K18Rik', '4933403F05Rik', '5830405N20Rik', 'A530021J07Rik', 'A930005H10Rik', 'ABCA3', 'ABCD3', 'ADCY6', 'AFP', 'AGPAT5', 'AMPD1', 'ARFGAP1', 'ARHGAP15', 'ARID1A', 'ART4', 'ARV1', 'AW549877', 'BBC3', 'BDH1', 'BMYC', 'BRWD1', 'C1QBP', 'CARNS1', 'CASC4', 'CCDC58', 'CCDC64', 'CCR7', 'CCR9', 'CD2AP', 'CD320', 'CELSR3', 'CEP97', 'CHCHD7', 'CHD3', 'CHST15', 'CLDN5', 'CLIP1', 'CLYBL', 'COX10', 'CPNE4', 'CRLF3', 'D14ABB1E', 'D19BWG1357E', 'DAPL1', 'DKC1', 'DOCK11', 'DSE', 'DZIP1', 'EEF1B2', 'EIF3E', 'ELMO3', 'ELP3', 'EML5', 'ENTPD2', 'ESF1', 'EVL', 'F830223B06Rik', 'FAM101B', 'FAM175A', 'FAM78A', 'FHIT', 'FNTB', 'FOXP1', 'GALNT10', 'GGT5', 'GLT8D2', 'GM14407', 'GM5045', 'GM5113', 'GM568', 'GM7075', 'GPATCH4', 'GPR114', 'GRIA3', 'HSD17B1', 'ID3', 'IFT80', 'IL27RA', 'IL6ST', 'IL7R', 'INADL', 'INPP4B', 'IRS2', 'ITGAE', 'KBTBD11', 'KDM5B', 'KRBA1', 'LEF1', 'LRRC15', 'LRRC23', 'LRRC33', 'LTV1', 'MAGI3', 'METAPL1', 'METTL8', 'METTL9', 'MIR448', 'MPP5', 'MTAP7', 'MYC', 'N4BP2', 'NEDD4L', 'NLE1', 'NOMO1', 'NOP58', 'NSG2', 'OVGP1', 'PA2G4', 'PDK1', 'PEX5', 'PIKFYVE', 'PKP1', 'PLEKHA1', 'PMEPA1', 'PPRC1', 'PRDX3', 'PRMT3', 'PRPF4B', 'PRSS12', 'PTK2', 'PWP2', 'QSER1', 'RAB3IP', 'RAPGEF4', 'RAPGEF6', 'RBM33', 'RCCD1', 'RGS10', 'RPL10A', 'RPL13', 'RPL22', 'RPL36A', 'RPL8', 'RPS10', 'RPS26', 'RPS3', 'RRAS2', 'RWDD3', 'SATB1', 'SCML4', 'SELL', 'SEMA4B', 'SEPP1', 'SESN1', 'SESN3', 'SETX', 'SFMBT2', 'SH3BP5', 'SH3PXD2A', 'SI', 'SIDT1', 'SLC11A2', 'SLC12A7', 'SLC17A9', 'SLC43A2', 'SLC6A19', 'SNHG1', 'SPACA1', 'SREBF1', 'SSBP2', 'STAMBPL1', 'STOML2', 'STX1A', 'TAGAP', 'TANC1', 'TCF7', 'TDGF1', 'TDRKH', 'TET1', 'TFPI', 'TGFBR3', 'TIMM9', 'TLR1', 'TLR12', 'TMEM25', 'TMIE', 'TNFRSF26', 'TNFSF8', 'TOP2B', 'TPCN1', 'TRAT1', 'TREML2', 'TTC14', 'TTC3', 'USP24', 'USP28', 'WDR13', 'WDR75', 'XKRX', 'ZFP260', 'ZFP280D', 'ZFP386', 'ZFP59', 'ZFP60', 'ZNRF1')"
   ]
  },
  {
   "cell_type": "code",
   "execution_count": null,
   "id": "7fb95d2a",
   "metadata": {},
   "outputs": [],
   "source": [
    "names(ranks)  %>% head"
   ]
  },
  {
   "cell_type": "code",
   "execution_count": null,
   "id": "3b5376f5",
   "metadata": {},
   "outputs": [],
   "source": [
    "plotEnrichment(genes[which(genes %in% names(ranks))],\n",
    "               ranks) + labs(title=\"wt\") + ylim(-0.7,0.7) + ggtheme()\n"
   ]
  },
  {
   "cell_type": "code",
   "execution_count": null,
   "id": "295cd948",
   "metadata": {},
   "outputs": [],
   "source": [
    "#GSE14415_NATURAL_TREG_VS_FOXP3_KO_NATURAL_TREG_DN\n",
    "genes  <- c('0610007P08Rik', '1700019N19Rik', '1700025G04Rik', '1700034J05Rik', '1700102P08Rik', '2010012O05Rik', '2210010C17Rik', '2210407C18Rik', '2410004P03Rik', '2900011O08Rik', '4930473A06Rik', '4930556L07Rik', '6330403K07Rik', '9430002A10Rik', 'A930038C07Rik', 'AA415398', 'ABCG8', 'ABTB2', 'ADRA1D', 'AI504432', 'AIM2', 'AKAP8L', 'AKAP9', 'AKT3', 'ALDH1A3', 'ANKRD12', 'AREG', 'ARF4', 'ARID4B', 'ARL13B', 'ARL4C', 'ARMCX3', 'ART2B', 'ATF7', 'ATP8A2', 'B230315N10Rik', 'B630005N14Rik', 'BAZ2B', 'BC005561', 'BC005685', 'BC046404', 'BC065397', 'BDH2', 'BPTF', 'CARD6', 'CASP1', 'CAV1', 'CCL4', 'CCL5', 'CCL9', 'CD3G', 'CD7', 'CDC42EP3', 'CEACAM1', 'CHD3', 'CHD9', 'CHIC1', 'CLGN', 'COQ10B', 'CPEB2', 'CREBL2', 'CXX1C', 'D930016D06Rik', 'DDX60', 'DEFB13', 'DEXI', 'DNAJB9', 'DNAJC27', 'DOCK7', 'DYRK2', 'EIF1', 'ELMO3', 'EOMES', 'EPB4.9', 'EPC2', 'EPCAM', 'FAIM', 'FAM120B', 'FAM164A', 'FAM53A', 'FAM84A', 'FBXO32', 'FOXN3', 'FPGT', 'FSHB', 'GBP8', 'GEM', 'GGNBP2', 'GM10044', 'GM10522', 'GM10673', 'GM5458', 'GM5887', 'GNG5', 'GOLIM4', 'GPR56', 'GPX8', 'GRM8', 'HERPUD2', 'HOXB4', 'IER3', 'IFIH1', 'IFIT1', 'IL1B', 'IRF2BP1', 'ITGAD', 'KCNIP3', 'KCNJ8', 'KIF5C', 'KLHL30', 'KLRA3', 'KLRC2', 'KLRE1', 'KRTAP1-5', 'LATS2', 'LDHB', 'LOC100270707', 'LOC635992', 'LOC640965', 'LRRC1', 'LRRC23', 'LYZL1', 'MAFK', 'MAPK1IP1', 'MARCH7', 'MBLAC2', 'MIR155', 'MIR501', 'MUG1', 'N4BP2L1', 'NKD2', 'NKIRAS1', 'NPFF', 'NR3C1', 'OGFOD2', 'OLFM2', 'OLFR1272', 'OLFR1295', 'OLFR1361', 'OLFR45', 'OLFR814', 'ORAI3', 'PARP8', 'PDCD4', 'PEBP1', 'PGM2L1', 'PGRMC2', 'PHC3', 'PIGP', 'PITPNC1', 'PLK1S1', 'PLK2', 'PLLP', 'PLSCR1', 'PNRC1', 'PPIL4', 'PPM1B', 'PRL3C1', 'PSIP1', 'PTTG1', 'RERE', 'RGS1', 'RNF2', 'RNF43', 'RSF1', 'S1PR5', 'SAMD3', 'SAMD9L', 'SEC62', 'SEPT4', 'SERPINI1', 'SLC22A17', 'SLC22A23', 'SLC7A6OS', 'SLCO2A1', 'SMTNL2', 'SUV420H1', 'TBC1D12', 'TERF1', 'THAP6', 'TMEM210', 'TPPP3', 'TRAT1', 'TRIP11', 'TTC3', 'UBE2D2', 'VAMP4', 'WASL', 'WLS', 'XCL1', 'YPEL3', 'YPEL5', 'ZBTB2', 'ZEB2', 'ZFP1', 'ZFP110', 'ZFP667', 'ZFP827', 'ZFP90', 'ZUFSP')"
   ]
  },
  {
   "cell_type": "code",
   "execution_count": null,
   "id": "18dc1b93",
   "metadata": {},
   "outputs": [],
   "source": [
    "plotEnrichment(genes[which(genes %in% names(ranks))],\n",
    "               ranks) + labs(title=\"wt\") + ylim(-0.7,0.7) + ggtheme()\n"
   ]
  },
  {
   "cell_type": "code",
   "execution_count": null,
   "id": "8846ffb9",
   "metadata": {},
   "outputs": [],
   "source": [
    "#GSE14415_NATURAL_TREG_VS_FOXP3_KO_NATURAL_TREG_UP\n"
   ]
  },
  {
   "cell_type": "code",
   "execution_count": null,
   "id": "6f54a5ed",
   "metadata": {},
   "outputs": [],
   "source": [
    "genes  <- c('1110021L09Rik', '1500035N22Rik', '1810011O10Rik', '2410017P07Rik', '2610008E11Rik', '4833422C13Rik', '4931400O07Rik', '4933407E24Rik', '5430427O19Rik', 'ABCG4', 'ACOT11', 'ADRB2', 'AI451617', 'AP1S2', 'APOE', 'ARHGAP39', 'ARNTL', 'ART2A', 'ART2B', 'ATP6V1G2', 'ATPBD4', 'B3GALT1', 'BDP1', 'BST2', 'C1QC', 'CAPN9', 'CCDC46', 'CCL2', 'CCL5', 'CCR9', 'CD164L2', 'CD226', 'CD24A', 'CD300LG', 'CD38', 'CD3G', 'CD48', 'CD55', 'CD5L', 'CD7', 'CD86', 'CDC42EP3', 'CEP170', 'CFLAR', 'CHD3', 'CHORDC1', 'COX8C', 'CRELD2', 'CSTAD', 'CTF2', 'CXCR6', 'DDX58', 'DDX60', 'DMXL1', 'DNAJB3', 'DNAJB9', 'DST', 'DUSP14', 'DZIP3', 'E030030I06Rik', 'E330021D16Rik', 'F13A1', 'FAM120B', 'FAM161B', 'FCGR2B', 'FRY', 'GALM', 'GBP5', 'GBP8', 'GEM', 'GGA3', 'GGCT', 'GLT8D1', 'GM10030', 'GM10687', 'GM10825', 'GM10883', 'GM4759', 'GM4761', 'GM4956', 'GM5153', 'GM7265', 'GM9109', 'GM9909', 'GM9924', 'GRHL3', 'GVIN1', 'H2-T24', 'HOMER1', 'HOPX', 'HSPA2', 'IFI203', 'IFI44', 'IFIT1', 'IFIT3', 'IGDCC4', 'ING1', 'ITPR2', 'JOSD2', 'KIF27', 'KLK13', 'KLK8', 'KLRB1B', 'KLRB1C', 'KLRC1', 'KLRC2', 'KRTAP16-9', 'KRTAP6-3', 'L1CAM', 'LACTB', 'LCORL', 'LGALS3', 'LOC625360', 'LOC641050', 'MAML2', 'MAP3K12', 'MCPT8', 'MDFIC', 'METTL8', 'MGL2', 'MIR500', 'MLF1', 'MPO', 'MPPE1', 'MS4A3', 'MURC', 'MYH1', 'MYH11', 'MYST4', 'NAIP2', 'NCOA7', 'NEIL1', 'NES', 'NETO2', 'NHLH1', 'NLRP4F', 'NQO2', 'NRARP', 'OLFR368', 'OLFR814', 'OLFR967', 'PBK', 'PCM1', 'PDE6D', 'PHF20L1', 'PLK1S1', 'PLXDC1', 'PPP1R12A', 'PYHIN1', 'QRFPR', 'QRICH2', 'RAB21', 'RAB42', 'RABEP1', 'RAMP1', 'RAPSN', 'REG1', 'RHOB', 'RPL24', 'RSAD2', 'RSPRY1', 'SAMD9L', 'SCGB1C1', 'SERPINB1A', 'SERPINI1', 'SLC45A3', 'SLCO6B1', 'SMOC1', 'SMPD2', 'SP100', 'SPNA1', 'SRD5A2', 'SRGAP3', 'SRXN1', 'STAP1', 'SYCP1', 'SYNE1', 'SYT10', 'SYT17', 'TAS2R143', 'TBC1D9B', 'TDRD6', 'TMCO2', 'TMF1', 'TOP1', 'TRAF5', 'TRPM4', 'TSGA10', 'TTC9C', 'UHRF2', 'ULK2', 'UROS', 'USH1C', 'VAMP5', 'VMN1R56', 'VPREB1', 'ZBTB48', 'ZDHHC15', 'ZEB2', 'ZFP295')"
   ]
  },
  {
   "cell_type": "code",
   "execution_count": null,
   "id": "8b7683ca",
   "metadata": {},
   "outputs": [],
   "source": [
    "p  <- plotEnrichment(genes[which(genes %in% names(ranks))],\n",
    "               ranks) + labs(title=\"wt\") + ylim(-0.7,0.7) + ggtheme()\n"
   ]
  },
  {
   "cell_type": "code",
   "execution_count": null,
   "id": "50e31b1e",
   "metadata": {},
   "outputs": [],
   "source": [
    "p"
   ]
  },
  {
   "cell_type": "code",
   "execution_count": null,
   "id": "a5290067",
   "metadata": {},
   "outputs": [],
   "source": [
    "fgsea( pathways = list(\n",
    "                     wt = genes),\n",
    "       stats = ranks  )"
   ]
  },
  {
   "cell_type": "code",
   "execution_count": null,
   "id": "cbd22247",
   "metadata": {},
   "outputs": [],
   "source": [
    "ggsave(p, filename = paste0(\"../figures/gsea/treg_gse14415.svg\"), width = 9, height = 12, units = \"cm\")"
   ]
  },
  {
   "cell_type": "code",
   "execution_count": null,
   "id": "db62d3de",
   "metadata": {},
   "outputs": [],
   "source": [
    "#GSE35543_IN_VIVO_NTREG_VS_CONVERTED_EX_ITREG_DN\n"
   ]
  },
  {
   "cell_type": "code",
   "execution_count": null,
   "id": "b99b1a0a",
   "metadata": {},
   "outputs": [],
   "source": [
    "genes  <- c('ACTL7A', 'ADAM32', 'ADAMTS5', 'AGRP', 'ANTXR1', 'APOF', 'ARHGAP8', 'ASAP2', 'ATP6V1E2', 'B3GAT2', 'BEST1', 'BEX1', 'BNIPL', 'C16orf45', 'C16orf46', 'C16orf90', 'C16orf93', 'C2orf40', 'C3orf39', 'C4orf40', 'C4orf47', 'C6orf103', 'CA13', 'CC2D2B', 'CCDC39', 'CCDC62', 'CCL17', 'CCL7', 'CD209', 'CD276', 'CDH18', 'CDH6', 'CFD', 'CHI3L1', 'CKMT1B', 'CLDN6', 'CNGA2', 'COL4A4', 'CRYBB3', 'CRYGN', 'CST6', 'CYBRD1', 'CYP2U1', 'D4S234E', 'DACT3', 'DDAH1', 'DDB2', 'DHX37', 'DIRAS2', 'DLX2', 'DNAI1', 'DNAJB7', 'DYX1C1', 'EFNA5', 'EIF2A', 'EMP2', 'EPHX4', 'ESR1', 'FAM109A', 'FBXO16', 'FILIP1L', 'FLRT3', 'GABRA2', 'GGN', 'GHRL', 'GLIS1', 'GNAT1', 'GNGT1', 'GPR152', 'GYS2', 'HEPACAM', 'HGF', 'HRCT1', 'HSD17B6', 'HSPB2', 'IGFBPL1', 'IL36RN', 'ITIH1', 'KCNV2', 'KDM3A', 'KIAA0649', 'KIAA0889', 'KIF6', 'KRT33A', 'KRT8', 'LACTBL1', 'LIPC', 'LMCD1', 'LOC644925', 'LPCAT2', 'LRRC16B', 'LRRN2', 'MAGEB5', 'MBOAT4', 'MEGF10', 'MFSD3', 'MMP3', 'MMRN2', 'MORC3', 'MORC4', 'MTRF1L', 'MYF6', 'MYOM3', 'NACAD', 'NANOS1', 'NECAB1', 'NFE2', 'NGF', 'NKAIN4', 'NLRP6', 'NPHS1', 'NR1H3', 'NRP1', 'NRSN1', 'NUAK1', 'ORM2', 'PCP2', 'PCSK1N', 'PCYT1B', 'PDE3A', 'PDZD4', 'PHACTR2', 'PHYHIP', 'PIP5K1B', 'PITX2', 'PKP4', 'PLEKHN1', 'PNLDC1', 'POU4F3', 'PRG2', 'ProSAPiP1', 'PRR14', 'PRR5L', 'PTN', 'PTPN13', 'PTPN5', 'PTPRM', 'RAB26', 'RAB30', 'RAD54B', 'RFX8', 'RG9MTD2', 'RGS16', 'RHPN1', 'RLBP1', 'RUFY2', 'RYR3', 'SCG2', 'SCGB1A1', 'SCN10A', 'SCNN1G', 'SCTR', 'SDC1', 'SESTD1', 'SFXN2', 'SIPA1L2', 'SLC17A7', 'SLC2A2', 'SLC45A3', 'SLC6A1', 'SLCO2A1', 'SNX31', 'SPAG1', 'SPATA17', 'SPERT', 'SPESP1', 'SPOCK3', 'SPRY3', 'STAU2', 'STMN3', 'SULT4A1', 'SYCP2L', 'SYDE1', 'TACC2', 'TCHHL1', 'TEKT3', 'TET1', 'THBD', 'THOC1', 'TMEM132A', 'TMEM17', 'TMEM178', 'TMEM212', 'TMEM52', 'TMEM89', 'TNN', 'TRAIP', 'TSPAN17', 'VIP', 'VKORC1L1', 'WASF3', 'WDR53', 'WISP1', 'WISP3', 'XKR6', 'ZBTB49', 'ZDBF2', 'ZNF141', 'ZNF423', 'ZWILCH')\n"
   ]
  },
  {
   "cell_type": "code",
   "execution_count": null,
   "id": "8ee21b81",
   "metadata": {},
   "outputs": [],
   "source": [
    "\n",
    "plotEnrichment(genes[which(genes %in% names(ranks))],\n",
    "               ranks) + labs(title=\"wt\") + ylim(-0.7,0.7) + ggtheme()\n"
   ]
  },
  {
   "cell_type": "code",
   "execution_count": null,
   "id": "e2d7b931",
   "metadata": {},
   "outputs": [],
   "source": [
    "genes  <- c('ACCN1', 'ACTR5', 'ADIPOQ', 'AHSG', 'AIMP1', 'ALDH1L1', 'ALKBH2', 'ANAPC10', 'ANKRD35', 'ARFGAP1', 'ATF5', 'ATXN1', 'B3GAT3', 'BCAR3', 'BCCIP', 'BEX2', 'BOLA3', 'BYSL', 'C10orf126', 'C12orf10', 'C12orf73', 'C14orf148', 'C14orf156', 'C14orf162', 'C16orf61', 'C17orf79', 'C17orf89', 'C1orf122', 'C20orf70', 'C21orf34', 'C2orf64', 'C7orf40', 'C7orf54', 'C9orf144', 'CACNA2D3', 'CAD', 'CCDC107', 'CCDC148', 'CDC34', 'CEACAM4', 'CEACAM7', 'CHRNG', 'CSTF2', 'CTNNA3', 'CUZD1', 'CXorf40A', 'CYP11B1', 'DBI', 'DCST2', 'DCX', 'DDX52', 'DHX30', 'DIRAS1', 'DMBT1', 'DNLZ', 'DNMT3A', 'EIF2B3', 'ELAC2', 'F7', 'FAM176A', 'FAM203A', 'FAM58A', 'FARSB', 'FEM1A', 'FITM2', 'FKBP2', 'GALP', 'GLA', 'GOT1L1', 'GRIK3', 'GTF3C2', 'HCCS', 'HEATR1', 'HIST1H1E', 'HOXA10', 'IL17F', 'IL5RA', 'ITGB1BP1', 'JOSD2', 'KCNK3', 'KCNK4', 'KCTD12', 'KLLN', 'KRT14', 'KRT78', 'KRTAP8-1', 'LAMB2', 'LAMC2', 'LHX6', 'LILRA2', 'LOC100286895', 'LOC100288911', 'LOC145837', 'LOC153811', 'LOC283693', 'LOC283731', 'LOC284242', 'LOC286359', 'LOC400620', 'LOC400768', 'LOH12CR2', 'LONP1', 'LOX', 'LRRC14', 'LSM4', 'MAD2L1BP', 'MARVELD3', 'MATN2', 'MED14', 'METRNL', 'METTL16', 'MGC16025', 'MIR21', 'MPDZ', 'MRPL12', 'MRPL15', 'MRPL17', 'MRPL46', 'MRPL47', 'MRPS24', 'MSR1', 'NDUFAB1', 'NDUFAF3', 'NEIL2', 'NLE1', 'NLGN1', 'NLRC5', 'NME6', 'NOL6', 'NOP16', 'NSFL1C', 'OPA1', 'OR2F2', 'PAK1IP1', 'PDCD5', 'PDRG1', 'PFDN2', 'PGAM5', 'PGP', 'PHACTR1', 'PHOX2B', 'PNPLA4', 'PPIAL4A', 'PPP1R14B', 'PPP1R14D', 'PREPL', 'PRMT1', 'PRO2012', 'PRPF19', 'PTGER3', 'QRFPR', 'RAB27B', 'RANBP1', 'RARRES1', 'RENBP', 'RGS16', 'ROPN1B', 'RPL26L1', 'RSPH9', 'SACS', 'SARM1', 'SDK2', 'SEC61B', 'SEMA3C', 'SETMAR', 'SF3B5', 'SLC25A4', 'SLC35B1', 'SLC7A5', 'SMAD5-AS1', 'SNORA72', 'SOSTDC1', 'SPEN', 'SRP19', 'SRRD', 'SYT4', 'TAS2R40', 'TBRG4', 'TDH', 'THRSP', 'THUMPD2', 'TIMM13', 'TMEM208', 'TMEM70', 'TOMM5', 'TOP3B', 'TSFM', 'TTC27', 'TXNDC17', 'TXNL4A', 'U2AF1', 'UGDH', 'ULBP2', 'UQCRFS1', 'WDR36', 'WDR74', 'YDJC', 'ZNF16', 'ZNF326', 'ZNF491')\n"
   ]
  },
  {
   "cell_type": "code",
   "execution_count": null,
   "id": "607b01bc",
   "metadata": {},
   "outputs": [],
   "source": [
    "#GSE35543_IN_VIVO_NTREG_VS_CONVERTED_EX_ITREG_UP\n",
    "plotEnrichment(genes[which(genes %in% names(ranks))],\n",
    "               ranks) + labs(title=\"wt\") + ylim(-0.7,0.7) + ggtheme()\n"
   ]
  },
  {
   "cell_type": "markdown",
   "id": "f5a8f766",
   "metadata": {},
   "source": [
    "# Kallionpaa "
   ]
  },
  {
   "cell_type": "code",
   "execution_count": null,
   "id": "6dc45b78",
   "metadata": {},
   "outputs": [],
   "source": [
    "kallion  <- readRDS(\"../../231106_VN_DiabetesV03/kalinopaa_filt_stacas.rds\")"
   ]
  },
  {
   "cell_type": "code",
   "execution_count": null,
   "id": "59227dfd",
   "metadata": {},
   "outputs": [],
   "source": [
    "DimPlot(kallion)"
   ]
  },
  {
   "cell_type": "code",
   "execution_count": null,
   "id": "d354213c",
   "metadata": {},
   "outputs": [],
   "source": [
    "kallion  <- FindNeighbors(kallion)"
   ]
  },
  {
   "cell_type": "code",
   "execution_count": null,
   "id": "8c57e1cf",
   "metadata": {
    "scrolled": true
   },
   "outputs": [],
   "source": [
    "kallion  <- FindClusters(kallion, res = 0.4)"
   ]
  },
  {
   "cell_type": "code",
   "execution_count": null,
   "id": "b3a9b82c",
   "metadata": {
    "scrolled": true
   },
   "outputs": [],
   "source": [
    "DimPlot(kallion, label = T)"
   ]
  },
  {
   "cell_type": "code",
   "execution_count": null,
   "id": "84583e89",
   "metadata": {},
   "outputs": [],
   "source": [
    "FeaturePlot(kallion, features = \"CD8A\", min.cutoff = 0)"
   ]
  },
  {
   "cell_type": "code",
   "execution_count": null,
   "id": "b733b406",
   "metadata": {},
   "outputs": [],
   "source": [
    "FeaturePlot(kallion, features = \"CD4\", min.cutoff = 0)"
   ]
  },
  {
   "cell_type": "code",
   "execution_count": null,
   "id": "23dea908",
   "metadata": {},
   "outputs": [],
   "source": [
    "load(\"../data/ref_wherry_new.RData\")\n",
    "hpca.se  <- celldex::HumanPrimaryCellAtlasData()\n",
    "mid.se <- celldex::MonacoImmuneData()"
   ]
  },
  {
   "cell_type": "code",
   "execution_count": null,
   "id": "6144ff43",
   "metadata": {},
   "outputs": [],
   "source": [
    "plan(\"sequential\")"
   ]
  },
  {
   "cell_type": "code",
   "execution_count": null,
   "id": "bac4d580",
   "metadata": {},
   "outputs": [],
   "source": [
    "kallion  <- annotate_tcell_data(kallion)"
   ]
  },
  {
   "cell_type": "code",
   "execution_count": null,
   "id": "955bf1e5",
   "metadata": {},
   "outputs": [],
   "source": [
    "FeaturePlot(kallion, features = \"MKI67\", min.cutoff = 0)"
   ]
  },
  {
   "cell_type": "code",
   "execution_count": null,
   "id": "e20b86ba",
   "metadata": {},
   "outputs": [],
   "source": []
  },
  {
   "cell_type": "code",
   "execution_count": null,
   "id": "4f43111c",
   "metadata": {},
   "outputs": [],
   "source": [
    "kallion_treg  <- subset(kallion, seurat_clusters == 5)"
   ]
  },
  {
   "cell_type": "code",
   "execution_count": null,
   "id": "d8825f0d",
   "metadata": {},
   "outputs": [],
   "source": [
    "DimPlot(kallion_treg, label = T)"
   ]
  },
  {
   "cell_type": "code",
   "execution_count": null,
   "id": "4daa6305",
   "metadata": {},
   "outputs": [],
   "source": [
    "kallion_treg <- SCTransform(kallion_treg)\n",
    "kallion_treg <- RunPCA(kallion_treg)\n",
    "kallion_treg <- RunUMAP(kallion_treg, dims = 1:10)\n",
    "kallion_treg <- FindNeighbors(kallion_treg)"
   ]
  },
  {
   "cell_type": "code",
   "execution_count": null,
   "id": "8d37fd22",
   "metadata": {},
   "outputs": [],
   "source": [
    "kallion_treg <- FindClusters(kallion_treg, resolution = 0.3)"
   ]
  },
  {
   "cell_type": "code",
   "execution_count": null,
   "id": "c904d858",
   "metadata": {},
   "outputs": [],
   "source": [
    "DimPlot(kallion_treg, group.by = \"source\")"
   ]
  },
  {
   "cell_type": "code",
   "execution_count": null,
   "id": "d91d07e1",
   "metadata": {},
   "outputs": [],
   "source": [
    "FeaturePlot(kallion_treg, features = \"GZMK\", min.cutoff = 0)"
   ]
  },
  {
   "cell_type": "code",
   "execution_count": null,
   "id": "063a40b0",
   "metadata": {},
   "outputs": [],
   "source": [
    "avgexp = AverageExpression(kallion_treg, features = str_to_upper(c(\"SELL\", \"TCF7\",\n",
    "           \"TIGIT\", \"LAG3\",  \"TNFRSF9\",\"TNFRSF4\", \"CCR10\",\n",
    "            \"GZMK\",\"TCF7\", \"SELL\", \"IL2RB\",\"IL7R\",\"CD226\", \"PDCD1\",\"TNFRSF18\", \"HAVCR2\"\n",
    "                                                          )), return.seurat = F, group.by = \"source\", assays = \"RNA\")\n",
    "\n",
    "options(repr.plot.width = 9, repr.plot.height = 3.5)\n",
    "pheatmap(t(avgexp$RNA), main = \"\", scale = \"column\", cluster_cols = T, cluster_rows = F,\n",
    "        color=colorRampPalette(c(\"dodgerblue\", \"grey95\", \"indianred2\"))(50), \n",
    "         border_color = \"white\", width = 9, height = 3.3,\n",
    "                  fontsize = 9)"
   ]
  },
  {
   "cell_type": "code",
   "execution_count": null,
   "id": "98ac1a3a",
   "metadata": {},
   "outputs": [],
   "source": [
    "kallion_treg$Condition   <- substr(kallion_treg$Condition,1,4)"
   ]
  },
  {
   "cell_type": "code",
   "execution_count": null,
   "id": "d47b3df0",
   "metadata": {},
   "outputs": [],
   "source": [
    "kallion_treg$Condition   %>% table"
   ]
  },
  {
   "cell_type": "code",
   "execution_count": null,
   "id": "d8fb083c",
   "metadata": {},
   "outputs": [],
   "source": [
    "Idents(kallion_treg)  <- kallion_treg$Condition"
   ]
  },
  {
   "cell_type": "code",
   "execution_count": null,
   "id": "35134385",
   "metadata": {},
   "outputs": [],
   "source": [
    "mrk  <- FindAllMarkers(kallion_treg, only.pos = T)"
   ]
  },
  {
   "cell_type": "code",
   "execution_count": null,
   "id": "0cf95daa",
   "metadata": {
    "scrolled": true
   },
   "outputs": [],
   "source": [
    "mrk  %>% filter(gene == \"NFKBIA\")"
   ]
  },
  {
   "cell_type": "code",
   "execution_count": null,
   "id": "648c61aa",
   "metadata": {},
   "outputs": [],
   "source": [
    "kallion_treg$Experiment_ID_2  <- \"Kallionpaa 2019\""
   ]
  },
  {
   "cell_type": "code",
   "execution_count": null,
   "id": "2be564e9",
   "metadata": {},
   "outputs": [],
   "source": [
    "merged.list  <- SplitObject(treg, split.by = \"Experiment_ID_2\")\n",
    "    "
   ]
  },
  {
   "cell_type": "code",
   "execution_count": null,
   "id": "3308bbc0",
   "metadata": {},
   "outputs": [],
   "source": [
    "merged.list$Kallionpaa  <- kallion_treg"
   ]
  },
  {
   "cell_type": "code",
   "execution_count": null,
   "id": "60dc8830",
   "metadata": {},
   "outputs": [],
   "source": [
    "merged.list"
   ]
  },
  {
   "cell_type": "code",
   "execution_count": null,
   "id": "d455a2a0",
   "metadata": {},
   "outputs": [],
   "source": [
    "merged.list <- lapply(X = merged.list, FUN = function(x) {\n",
    "    DefaultAssay(x)  <- \"RNA\"\n",
    "    x$barcode  <- colnames(x)\n",
    "    x <- NormalizeData(x)\n",
    "    x <- FindVariableFeatures(x, selection.method = \"vst\", nfeatures = 2000)\n",
    "})\n",
    "\n",
    "new_dia_experiment2 <- Run.STACAS(merged.list, dims = 1:12)\n",
    "new_dia_experiment2 <- RunUMAP(new_dia_experiment2, dims = 1:12)\n",
    "new_dia_experiment2 <- FindNeighbors(new_dia_experiment2, reduction = \"pca\", dims = 1:12)\n",
    "\n",
    "new_dia_experiment2 <- FindClusters(new_dia_experiment2, resolution = 0.3)\n",
    "\n",
    "DimPlot(new_dia_experiment2, label = T)"
   ]
  },
  {
   "cell_type": "code",
   "execution_count": null,
   "id": "fa3bb83b",
   "metadata": {},
   "outputs": [],
   "source": [
    "DimPlot(new_dia_experiment2, group.by = \"Experiment_ID_2\", split.by = \"Experiment_ID_2\")"
   ]
  },
  {
   "cell_type": "code",
   "execution_count": null,
   "id": "70bd9179",
   "metadata": {},
   "outputs": [],
   "source": []
  },
  {
   "cell_type": "code",
   "execution_count": null,
   "id": "6d5ef873",
   "metadata": {},
   "outputs": [],
   "source": [
    "kallion_treg$source  %>% table"
   ]
  },
  {
   "cell_type": "code",
   "execution_count": null,
   "id": "baea884e",
   "metadata": {},
   "outputs": [],
   "source": [
    "kallion_treg$Experiment_ID_2  <- \"Kallionpaa 2019\"\n",
    "kallion_treg$Study  <- \"Kallionpaa 2019\""
   ]
  },
  {
   "cell_type": "code",
   "execution_count": null,
   "id": "ea36a1c1",
   "metadata": {},
   "outputs": [],
   "source": [
    "treg$Study  <- \"Lab48\"\n",
    "merged.list  <- SplitObject(treg, split.by = \"Experiment_ID_2\")\n",
    "merged.list$Kallionpaa  <- kallion_treg"
   ]
  },
  {
   "cell_type": "code",
   "execution_count": null,
   "id": "c5831003",
   "metadata": {},
   "outputs": [],
   "source": [
    "merged.list <- lapply(X = merged.list, FUN = function(x) {\n",
    "    DefaultAssay(x)  <- \"RNA\"\n",
    "    x$barcode  <- colnames(x)\n",
    "    x <- NormalizeData(x)\n",
    "    x <- FindVariableFeatures(x, selection.method = \"vst\", nfeatures = 2000)\n",
    "})"
   ]
  },
  {
   "cell_type": "code",
   "execution_count": null,
   "id": "d42cb5e1",
   "metadata": {},
   "outputs": [],
   "source": [
    "# select features that are repeatedly variable across datasets for integration run PCA on each\n",
    "# dataset using these features\n",
    "features <- SelectIntegrationFeatures(object.list = merged.list)\n",
    "merged.list <- lapply(X = merged.list, FUN = function(x) {\n",
    "    x <- ScaleData(x, features = features, verbose = FALSE)\n",
    "    x <- RunPCA(x, features = features, verbose = FALSE)\n",
    "})"
   ]
  },
  {
   "cell_type": "code",
   "execution_count": null,
   "id": "d512f716",
   "metadata": {
    "scrolled": true
   },
   "outputs": [],
   "source": [
    "immune.anchors <- FindIntegrationAnchors(object.list = merged.list, anchor.features = features, reduction = \"rpca\")\n",
    "\n",
    "# this command creates an 'integrated' data assay\n",
    "immune.combined <- IntegrateData(anchorset = immune.anchors)"
   ]
  },
  {
   "cell_type": "code",
   "execution_count": null,
   "id": "03fb24db",
   "metadata": {
    "scrolled": true
   },
   "outputs": [],
   "source": [
    "# Run the standard workflow for visualization and clustering\n",
    "immune.combined <- ScaleData(immune.combined, verbose = FALSE)\n",
    "immune.combined <- RunPCA(immune.combined, npcs = 10, verbose = FALSE)\n",
    "immune.combined <- RunUMAP(immune.combined, reduction = \"pca\", dims = 1:10)"
   ]
  },
  {
   "cell_type": "code",
   "execution_count": null,
   "id": "47c11f1c",
   "metadata": {},
   "outputs": [],
   "source": [
    "DimPlot(immune.combined)"
   ]
  },
  {
   "cell_type": "code",
   "execution_count": null,
   "id": "4200aad7",
   "metadata": {},
   "outputs": [],
   "source": [
    "options(repr.plot.width = 7, repr.plot.height = 6)\n",
    "\n",
    "DimPlot(immune.combined, group.by = \"Study\")"
   ]
  },
  {
   "cell_type": "code",
   "execution_count": null,
   "id": "d65271a8",
   "metadata": {},
   "outputs": [],
   "source": [
    "options(repr.plot.width = 12, repr.plot.height = 6)\n",
    "\n",
    "DimPlot(immune.combined, group.by = \"seurat_clusters\", split.by = \"Study\")"
   ]
  },
  {
   "cell_type": "code",
   "execution_count": null,
   "id": "ea7e056c",
   "metadata": {},
   "outputs": [],
   "source": [
    "immune.combined <- FindNeighbors(immune.combined, reduction = \"pca\", dims = 1:10)\n",
    "immune.combined <- FindClusters(immune.combined, resolution = 0.3)\n",
    "\n",
    "DimPlot(immune.combined, label = T)"
   ]
  },
  {
   "cell_type": "code",
   "execution_count": null,
   "id": "ebfa5dc2",
   "metadata": {},
   "outputs": [],
   "source": [
    "DefaultAssay(immune.combined)  <- \"RNA\"\n",
    "FeaturePlot(immune.combined, features = \"CD226\", min.cutoff = 0)"
   ]
  },
  {
   "cell_type": "code",
   "execution_count": null,
   "id": "5af03b78",
   "metadata": {},
   "outputs": [],
   "source": [
    "immune.combined@meta.data  <- immune.combined@meta.data   %>% mutate(Condition = if_else(\n",
    "Study == \"Kallionpaa 2019\", substr(Condition, 1,4), Condition))"
   ]
  },
  {
   "cell_type": "code",
   "execution_count": null,
   "id": "c2e1ad6f",
   "metadata": {},
   "outputs": [],
   "source": [
    "DimPlot(subset(immune.combined, Study == \"Kallionpaa 2019\"), \n",
    "               group.by = \"Condition\")"
   ]
  },
  {
   "cell_type": "code",
   "execution_count": null,
   "id": "79d60a1d",
   "metadata": {},
   "outputs": [],
   "source": [
    "DimPlot(subset(immune.combined, Study == \"Lab48\"), \n",
    "               group.by = \"Condition\")"
   ]
  },
  {
   "cell_type": "code",
   "execution_count": null,
   "id": "17326033",
   "metadata": {},
   "outputs": [],
   "source": []
  },
  {
   "cell_type": "code",
   "execution_count": null,
   "id": "8de81c10",
   "metadata": {},
   "outputs": [],
   "source": []
  },
  {
   "cell_type": "code",
   "execution_count": null,
   "id": "35d8caaa",
   "metadata": {},
   "outputs": [],
   "source": []
  },
  {
   "cell_type": "code",
   "execution_count": null,
   "id": "5d89a804",
   "metadata": {},
   "outputs": [],
   "source": [
    "kallion_treg$Experiment_ID_2  <- kallion_treg$source"
   ]
  },
  {
   "cell_type": "code",
   "execution_count": null,
   "id": "7817a633",
   "metadata": {},
   "outputs": [],
   "source": [
    "merged.list  <- SplitObject(treg, split.by = \"Experiment_ID_2\")\n",
    "    "
   ]
  },
  {
   "cell_type": "code",
   "execution_count": null,
   "id": "9c0b6ee8",
   "metadata": {},
   "outputs": [],
   "source": [
    "merged.list2  <- SplitObject(kallion_treg, split.by = \"Experiment_ID_2\")\n"
   ]
  },
  {
   "cell_type": "code",
   "execution_count": null,
   "id": "79f5f9cb",
   "metadata": {},
   "outputs": [],
   "source": [
    "merged.list  <- append(x = merged.list, values = merged.list2) "
   ]
  },
  {
   "cell_type": "code",
   "execution_count": null,
   "id": "1030c89e",
   "metadata": {},
   "outputs": [],
   "source": [
    "merged.list"
   ]
  },
  {
   "cell_type": "code",
   "execution_count": null,
   "id": "3831bb29",
   "metadata": {
    "scrolled": true
   },
   "outputs": [],
   "source": [
    "\n",
    "merged.list <- lapply(X = merged.list, FUN = function(x) {\n",
    "    DefaultAssay(x)  <- \"RNA\"\n",
    "    x$barcode  <- colnames(x)\n",
    "    x <- NormalizeData(x)\n",
    "    x <- FindVariableFeatures(x, selection.method = \"vst\", nfeatures = 2000)\n",
    "})\n",
    "\n",
    "\n",
    "stacas_anchors <- FindAnchors.STACAS(merged.list, \n",
    "                                     dims = 1:12, \n",
    "                                     min.sample.size = 70)\n",
    "st1 <- SampleTree.STACAS(\n",
    "  anchorset = stacas_anchors,\n",
    "  obj.names = names(merged.list)\n",
    "  )    \n",
    "\n",
    "new_dia_experiment2 <- IntegrateData.STACAS(stacas_anchors,\n",
    "                                          sample.tree = st1,\n",
    "                                          dims=1:12) %>% ScaleData() %>%\n",
    "  RunPCA(npcs=12) %>% RunUMAP(dims=1:12)\n",
    "\n",
    "new_dia_experiment2 <- FindNeighbors(new_dia_experiment2, reduction = \"pca\", dims = 1:12)\n",
    "new_dia_experiment2 <- FindClusters(new_dia_experiment2, resolution = 0.3)\n",
    "\n",
    "DimPlot(new_dia_experiment2, label = T)\n",
    "\n",
    "mrk  <- FindAllMarkers(new_dia_experiment2, logfc.threshold = log(1.5))\n"
   ]
  },
  {
   "cell_type": "code",
   "execution_count": null,
   "id": "d910e85d",
   "metadata": {},
   "outputs": [],
   "source": [
    "DimPlot(new_dia_experiment2, group.by = \"Experiment_ID_2\")"
   ]
  },
  {
   "cell_type": "code",
   "execution_count": null,
   "id": "2aac28cd",
   "metadata": {},
   "outputs": [],
   "source": []
  },
  {
   "cell_type": "code",
   "execution_count": null,
   "id": "e7dfcb70",
   "metadata": {},
   "outputs": [],
   "source": [
    "kallion_treg$source  %>% table"
   ]
  },
  {
   "cell_type": "code",
   "execution_count": null,
   "id": "77c65acc",
   "metadata": {},
   "outputs": [],
   "source": [
    "kallion_treg$Experiment_ID_2  <- \"Kallionpaa 2019\"\n",
    "kallion_treg$Study  <- \"Kallionpaa 2019\""
   ]
  },
  {
   "cell_type": "code",
   "execution_count": null,
   "id": "2c430585",
   "metadata": {},
   "outputs": [],
   "source": [
    "treg$Study  <- \"Lab48\"\n",
    "merged.list  <- SplitObject(treg, split.by = \"Experiment_ID_2\")\n",
    "merged.list$Kallionpaa  <- kallion_treg"
   ]
  },
  {
   "cell_type": "code",
   "execution_count": null,
   "id": "1fc4366c",
   "metadata": {},
   "outputs": [],
   "source": [
    "merged.list <- lapply(X = merged.list, FUN = function(x) {\n",
    "    DefaultAssay(x)  <- \"RNA\"\n",
    "    x$barcode  <- colnames(x)\n",
    "    x <- NormalizeData(x)\n",
    "    x <- FindVariableFeatures(x, selection.method = \"vst\", nfeatures = 2000)\n",
    "})"
   ]
  },
  {
   "cell_type": "code",
   "execution_count": null,
   "id": "0eba4818",
   "metadata": {},
   "outputs": [],
   "source": [
    "# select features that are repeatedly variable across datasets for integration run PCA on each\n",
    "# dataset using these features\n",
    "features <- SelectIntegrationFeatures(object.list = merged.list)\n",
    "merged.list <- lapply(X = merged.list, FUN = function(x) {\n",
    "    x <- ScaleData(x, features = features, verbose = FALSE)\n",
    "    x <- RunPCA(x, features = features, verbose = FALSE)\n",
    "})"
   ]
  },
  {
   "cell_type": "code",
   "execution_count": null,
   "id": "5edab2bb",
   "metadata": {
    "scrolled": true
   },
   "outputs": [],
   "source": [
    "immune.anchors <- FindIntegrationAnchors(object.list = merged.list, anchor.features = features, reduction = \"rpca\")\n",
    "\n",
    "# this command creates an 'integrated' data assay\n",
    "immune.combined <- IntegrateData(anchorset = immune.anchors)"
   ]
  },
  {
   "cell_type": "code",
   "execution_count": null,
   "id": "658d6286",
   "metadata": {
    "scrolled": true
   },
   "outputs": [],
   "source": [
    "# Run the standard workflow for visualization and clustering\n",
    "immune.combined <- ScaleData(immune.combined, verbose = FALSE)\n",
    "immune.combined <- RunPCA(immune.combined, npcs = 10, verbose = FALSE)\n",
    "immune.combined <- RunUMAP(immune.combined, reduction = \"pca\", dims = 1:10)"
   ]
  },
  {
   "cell_type": "code",
   "execution_count": null,
   "id": "35bd8629",
   "metadata": {},
   "outputs": [],
   "source": [
    "DimPlot(immune.combined)"
   ]
  },
  {
   "cell_type": "code",
   "execution_count": null,
   "id": "6c312dc1",
   "metadata": {},
   "outputs": [],
   "source": []
  },
  {
   "cell_type": "markdown",
   "id": "b009c291",
   "metadata": {},
   "source": [
    "### GSEA our markers in Kallion - young only"
   ]
  },
  {
   "cell_type": "code",
   "execution_count": null,
   "id": "a3f9c28d",
   "metadata": {},
   "outputs": [],
   "source": []
  },
  {
   "cell_type": "code",
   "execution_count": null,
   "id": "d1a2c2ca",
   "metadata": {
    "scrolled": true
   },
   "outputs": [],
   "source": [
    "treg_subset  <- subset(treg, Condition %in% c(\"Ctrl T0\", \"Ctrl T1\",\"Dia T0\") & \n",
    "                       Age_group == 1 & \n",
    "Experiment_ID %in% c(\"Exp16\", \"Exp18\", \"Exp19\", \"Exp20\")) \n",
    "\n",
    "\n",
    "Idents(treg_subset)  <- treg_subset$Disease\n",
    "\n",
    "DimPlot(treg_subset)\n",
    "\n",
    "plan(\"sequential\")\n",
    "\n",
    "DefaultAssay(treg_subset)  <- \"RNA\"\n",
    "\n",
    "mrk  <- FindAllMarkers(treg_subset, only.pos = T, test.use = \"t\")\n",
    "\n",
    "mrk"
   ]
  },
  {
   "cell_type": "code",
   "execution_count": null,
   "id": "0bf09c60",
   "metadata": {
    "scrolled": true
   },
   "outputs": [],
   "source": [
    "mrk"
   ]
  },
  {
   "cell_type": "code",
   "execution_count": null,
   "id": "23fb473c",
   "metadata": {},
   "outputs": [],
   "source": [
    "density  <- treg_subset@meta.data  %>% dplyr::select(Sample_ID, Condition)\n",
    "\n",
    "density$x_umap  <- treg_subset@reductions$umap@cell.embeddings[,1]\n",
    "density$y_umap  <- treg_subset@reductions$umap@cell.embeddings[,2]\n",
    "\n",
    "\n",
    "library(ggplot2)\n",
    "library(dplyr)\n",
    "library(viridis)\n",
    "\n",
    "colfunc <- colorRampPalette(c(\"white\", \"grey85\",\"grey75\",\"dodgerblue\",\"green\",\"yellow\",\"red\"))\n",
    "\n",
    "\n",
    "options(repr.plot.width = 22, repr.plot.height = 5)\n",
    "\n",
    "p1  <- density %>%\n",
    "filter(Condition == \"Dia T0\")  %>% \n",
    "  ggplot(aes(x=x_umap, y= y_umap)) + \n",
    " geom_point(shape = \"\")  + geom_density_2d_filled(bins = 30)  + \n",
    "theme_classic() + ggtheme() +\n",
    "xlim(-8,10)+  ylim(-4,5) +\n",
    "scale_fill_manual(values = colfunc(30))  + \n",
    "ggtitle(\"Dia T0\") + NoLegend()\n",
    "\n",
    "p2   <-   density %>%\n",
    "filter(Condition == \"Ctrl T0\")  %>% \n",
    "  ggplot(aes(x=x_umap, y= y_umap)) + \n",
    " geom_point(shape = \"\")  + geom_density_2d_filled(bins = 30)  + \n",
    "theme_classic() + ggtheme() +\n",
    "xlim(-8,10)+  ylim(-4,5) +\n",
    "scale_fill_manual(values = colfunc(30))  + \n",
    "ggtitle(\"Ctrl T0\") + NoLegend()\n",
    "\n",
    "\n",
    "p1 + p2 "
   ]
  },
  {
   "cell_type": "code",
   "execution_count": null,
   "id": "f6d33a79",
   "metadata": {},
   "outputs": [],
   "source": [
    "mrk_dia_up  <- mrk  %>% filter(cluster == \"Dia\")  %>% pull(gene)"
   ]
  },
  {
   "cell_type": "code",
   "execution_count": null,
   "id": "1ee356e5",
   "metadata": {},
   "outputs": [],
   "source": [
    "mrk_dia_up"
   ]
  },
  {
   "cell_type": "code",
   "execution_count": null,
   "id": "1f049b7f",
   "metadata": {},
   "outputs": [],
   "source": [
    "Idents(kallion_treg)  <- kallion_treg$Condition\n",
    "\n",
    "mrk_kallion  <- FindAllMarkers(kallion_treg, only.pos = T)"
   ]
  },
  {
   "cell_type": "code",
   "execution_count": null,
   "id": "6209edbf",
   "metadata": {
    "scrolled": true
   },
   "outputs": [],
   "source": [
    "mrk_kallion"
   ]
  },
  {
   "cell_type": "code",
   "execution_count": null,
   "id": "5223c15b",
   "metadata": {
    "scrolled": true
   },
   "outputs": [],
   "source": [
    "mrk_kallion_up_dia  <- mrk_kallion  %>% filter(cluster == \"Case\")  %>% pull(gene)"
   ]
  },
  {
   "cell_type": "code",
   "execution_count": null,
   "id": "de334a82",
   "metadata": {},
   "outputs": [],
   "source": [
    "mrk_kallion_up_dia"
   ]
  },
  {
   "cell_type": "code",
   "execution_count": null,
   "id": "490b346e",
   "metadata": {},
   "outputs": [],
   "source": [
    "fc_kallion  <- FoldChange(kallion_treg,  \n",
    "                         ident.1 = \"Case\", ident.2 = \"Cont\")"
   ]
  },
  {
   "cell_type": "code",
   "execution_count": null,
   "id": "c0d7e976",
   "metadata": {
    "scrolled": true
   },
   "outputs": [],
   "source": [
    "fc_kallion  %>% arrange(avg_log2FC)"
   ]
  },
  {
   "cell_type": "code",
   "execution_count": null,
   "id": "4de064ea",
   "metadata": {},
   "outputs": [],
   "source": [
    "fc_kallion2  <- FindMarkers(kallion_treg, logfc.threshold = 0, \n",
    "                            min.pct = 0, min.cells.group = 0, \n",
    "                            \n",
    "                         ident.1 = \"Case\", ident.2 = \"Cont\")"
   ]
  },
  {
   "cell_type": "code",
   "execution_count": null,
   "id": "98a4b0e1",
   "metadata": {},
   "outputs": [],
   "source": [
    "fc_kallion2$gene  <- rownames(fc_kallion2)"
   ]
  },
  {
   "cell_type": "code",
   "execution_count": null,
   "id": "5cf73153",
   "metadata": {
    "scrolled": true
   },
   "outputs": [],
   "source": [
    "fc_kallion2  %>% arrange(desc(avg_log2FC))"
   ]
  },
  {
   "cell_type": "code",
   "execution_count": null,
   "id": "ba87e10e",
   "metadata": {},
   "outputs": [],
   "source": [
    "# Retrieve the results\n",
    "res_filt_df <- data.frame(gene = rownames(fc_kallion2),\n",
    "                           pval = fc_kallion2$p_val,\n",
    "                           logfc = fc_kallion2$avg_log2FC,\n",
    "                           padj = fc_kallion2$p_val_adj)\n",
    "\n",
    "# Prepare GSEA input\n",
    "res_filt.input <- as.numeric(res_filt_df$logfc)\n",
    "names(res_filt.input) <- res_filt_df$gene\n",
    "res_filt.input <- res_filt.input[which(!is.na(res_filt.input))]\n",
    "\n",
    "# Prerank genes with similar FC\n",
    "set.seed(123)\n",
    "res_filt.input <- res_filt.input[rank(res_filt.input,  ties.method = \"random\")]"
   ]
  },
  {
   "cell_type": "code",
   "execution_count": null,
   "id": "68db160e",
   "metadata": {},
   "outputs": [],
   "source": [
    "library(fgsea)"
   ]
  },
  {
   "cell_type": "code",
   "execution_count": null,
   "id": "0562d258",
   "metadata": {},
   "outputs": [],
   "source": [
    "# Run GSEA Top PC2 neg markers\n",
    "fgsea_bulk <- fgsea(pathways = list(our_list = mrk_dia_up), \n",
    "                                      stats    = res_filt.input)\n",
    "fgsea_bulk\n",
    "\n",
    "p3 <- plotEnrichment(mrk_dia_up, res_filt.input) + \n",
    "labs(title=\"Treg DE genes in Kallionpaa 2019\", subtitle = paste0(\"p-value = \",format.pval(fgsea_bulk$pval, digits = 2)))\n",
    "p3\n",
    "ggsave(filename = \"GSEA_kallionpaa.png\", width = 12, height = 8, units = \"cm\", dpi = 200)"
   ]
  },
  {
   "cell_type": "code",
   "execution_count": null,
   "id": "e43fd6dc",
   "metadata": {},
   "outputs": [],
   "source": []
  },
  {
   "cell_type": "code",
   "execution_count": null,
   "id": "95032c06",
   "metadata": {
    "scrolled": true
   },
   "outputs": [],
   "source": [
    "fc_kallion2  <- FindMarkers(kallion_treg, logfc.threshold = 0, \n",
    "                            min.pct = 0, min.cells.group = 0, \n",
    "                            \n",
    "                         ident.1 = \"Cont\", ident.2 = \"Case\")\n",
    "\n",
    "fc_kallion2$gene  <- rownames(fc_kallion2)\n",
    "\n",
    "fc_kallion2  %>% arrange(desc(avg_log2FC))"
   ]
  },
  {
   "cell_type": "code",
   "execution_count": null,
   "id": "3e8de745",
   "metadata": {},
   "outputs": [],
   "source": [
    "mrk_dia_down  <- mrk  %>% filter(cluster == \"Ctrl\")  %>% pull(gene)"
   ]
  },
  {
   "cell_type": "code",
   "execution_count": null,
   "id": "b828f128",
   "metadata": {},
   "outputs": [],
   "source": [
    "mrk_dia_down"
   ]
  },
  {
   "cell_type": "code",
   "execution_count": null,
   "id": "75b1071f",
   "metadata": {},
   "outputs": [],
   "source": [
    "mrk_dia_up"
   ]
  },
  {
   "cell_type": "code",
   "execution_count": null,
   "id": "0285ff4b",
   "metadata": {},
   "outputs": [],
   "source": [
    "# Retrieve the results\n",
    "res_filt_df <- data.frame(gene = rownames(fc_kallion2),\n",
    "                           pval = fc_kallion2$p_val,\n",
    "                           logfc = -1*fc_kallion2$avg_log2FC,\n",
    "                           padj = fc_kallion2$p_val_adj)\n",
    "\n",
    "# Prepare GSEA input\n",
    "res_filt.input <- as.numeric(res_filt_df$logfc)\n",
    "names(res_filt.input) <- res_filt_df$gene\n",
    "res_filt.input <- res_filt.input[which(!is.na(res_filt.input))]\n",
    "\n",
    "# Prerank genes with similar FC\n",
    "set.seed(123)\n",
    "res_filt.input <- res_filt.input[rank(res_filt.input,  ties.method = \"random\")]"
   ]
  },
  {
   "cell_type": "code",
   "execution_count": null,
   "id": "fe85f525",
   "metadata": {},
   "outputs": [],
   "source": [
    "# Run GSEA Top PC2 neg markers\n",
    "fgsea_bulk <- fgsea(pathways = list(our_list = mrk_dia_down), \n",
    "                                      stats    = res_filt.input)\n",
    "fgsea_bulk\n",
    "\n",
    "p3 <- plotEnrichment(mrk_dia_down, res_filt.input) + \n",
    "labs(title=\"Treg DE genes in Kallionpaa 2019\", subtitle = paste0(\"p-value = \",format.pval(fgsea_bulk$pval, digits = 2)))\n",
    "p3\n",
    "#ggsave(filename = \"GSEA_kallionpaa.png\", width = 12, height = 8, units = \"cm\", dpi = 200)"
   ]
  },
  {
   "cell_type": "code",
   "execution_count": null,
   "id": "a37523b5",
   "metadata": {},
   "outputs": [],
   "source": [
    "fgsea_bulk$leadingEdge"
   ]
  },
  {
   "cell_type": "code",
   "execution_count": null,
   "id": "978f3d58",
   "metadata": {
    "scrolled": true
   },
   "outputs": [],
   "source": [
    "fc_kallion2  %>% filter(gene %in% c(mrk_dia_down))"
   ]
  },
  {
   "cell_type": "code",
   "execution_count": null,
   "id": "b07c5580",
   "metadata": {},
   "outputs": [],
   "source": [
    "mrk_dia_down"
   ]
  },
  {
   "cell_type": "markdown",
   "id": "c0b864fc",
   "metadata": {},
   "source": [
    "### GSEA our markers in Kallion - all ages"
   ]
  },
  {
   "cell_type": "code",
   "execution_count": null,
   "id": "7c25af39",
   "metadata": {
    "scrolled": true
   },
   "outputs": [],
   "source": [
    "treg_subset  <- subset(treg, Condition %in% c(\"Ctrl T0\",  \"Dia T0\") & \n",
    "Experiment_ID %in% c(\"Exp16\", \"Exp18\", \"Exp19\", \"Exp20\")) \n",
    "\n",
    "\n",
    "Idents(treg_subset)  <- treg_subset$Disease\n",
    "\n",
    "DimPlot(treg_subset)\n",
    "\n",
    "plan(\"sequential\")\n",
    "\n",
    "DefaultAssay(treg_subset)  <- \"RNA\"\n",
    "\n",
    "mrk  <- FindAllMarkers(treg_subset, only.pos = T, test.use = \"t\")\n",
    "\n",
    "mrk"
   ]
  },
  {
   "cell_type": "code",
   "execution_count": null,
   "id": "f3ab35f9",
   "metadata": {},
   "outputs": [],
   "source": [
    "mrk_dia_up  <- mrk  %>% filter(cluster == \"Dia\")  %>% pull(gene)"
   ]
  },
  {
   "cell_type": "code",
   "execution_count": null,
   "id": "2bdb290a",
   "metadata": {},
   "outputs": [],
   "source": [
    "mrk_dia_up"
   ]
  },
  {
   "cell_type": "code",
   "execution_count": null,
   "id": "39ac3e96",
   "metadata": {},
   "outputs": [],
   "source": [
    "Idents(kallion_treg)  <- kallion_treg$Condition\n",
    "\n",
    "mrk_kallion  <- FindAllMarkers(kallion_treg, only.pos = T)"
   ]
  },
  {
   "cell_type": "code",
   "execution_count": null,
   "id": "b18b1942",
   "metadata": {
    "scrolled": true
   },
   "outputs": [],
   "source": [
    "mrk_kallion"
   ]
  },
  {
   "cell_type": "code",
   "execution_count": null,
   "id": "f4ea117a",
   "metadata": {
    "scrolled": true
   },
   "outputs": [],
   "source": [
    "mrk_kallion_up_dia  <- mrk_kallion  %>% filter(cluster == \"Case\")  %>% pull(gene)"
   ]
  },
  {
   "cell_type": "code",
   "execution_count": null,
   "id": "e6a89bfe",
   "metadata": {},
   "outputs": [],
   "source": [
    "mrk_kallion_up_dia"
   ]
  },
  {
   "cell_type": "code",
   "execution_count": null,
   "id": "a367bff9",
   "metadata": {},
   "outputs": [],
   "source": [
    "fc_kallion  <- FoldChange(kallion_treg,  \n",
    "                         ident.1 = \"Case\", ident.2 = \"Cont\")"
   ]
  },
  {
   "cell_type": "code",
   "execution_count": null,
   "id": "66dbe631",
   "metadata": {
    "scrolled": true
   },
   "outputs": [],
   "source": [
    "fc_kallion  %>% arrange(avg_log2FC)"
   ]
  },
  {
   "cell_type": "code",
   "execution_count": null,
   "id": "5ba2d16a",
   "metadata": {},
   "outputs": [],
   "source": [
    "fc_kallion2  <- FindMarkers(kallion_treg, logfc.threshold = 0, \n",
    "                            min.pct = 0, min.cells.group = 0, \n",
    "                            \n",
    "                         ident.1 = \"Case\", ident.2 = \"Cont\")"
   ]
  },
  {
   "cell_type": "code",
   "execution_count": null,
   "id": "240aaeeb",
   "metadata": {},
   "outputs": [],
   "source": [
    "fc_kallion2$gene  <- rownames(fc_kallion2)"
   ]
  },
  {
   "cell_type": "code",
   "execution_count": null,
   "id": "5b482192",
   "metadata": {
    "scrolled": true
   },
   "outputs": [],
   "source": [
    "fc_kallion2  %>% arrange(desc(avg_log2FC))"
   ]
  },
  {
   "cell_type": "code",
   "execution_count": null,
   "id": "07223c58",
   "metadata": {},
   "outputs": [],
   "source": [
    "# Retrieve the results\n",
    "res_filt_df <- data.frame(gene = rownames(fc_kallion2),\n",
    "                           pval = fc_kallion2$p_val,\n",
    "                           logfc = fc_kallion2$avg_log2FC,\n",
    "                           padj = fc_kallion2$p_val_adj)\n",
    "\n",
    "# Prepare GSEA input\n",
    "res_filt.input <- as.numeric(res_filt_df$logfc)\n",
    "names(res_filt.input) <- res_filt_df$gene\n",
    "res_filt.input <- res_filt.input[which(!is.na(res_filt.input))]\n",
    "\n",
    "# Prerank genes with similar FC\n",
    "set.seed(123)\n",
    "res_filt.input <- res_filt.input[rank(res_filt.input,  ties.method = \"random\")]"
   ]
  },
  {
   "cell_type": "code",
   "execution_count": null,
   "id": "0560586b",
   "metadata": {},
   "outputs": [],
   "source": [
    "library(fgsea)"
   ]
  },
  {
   "cell_type": "code",
   "execution_count": null,
   "id": "3b1baed9",
   "metadata": {},
   "outputs": [],
   "source": [
    "# Run GSEA Top PC2 neg markers\n",
    "fgsea_bulk <- fgsea(pathways = list(our_list = mrk_dia_up), \n",
    "                                      stats    = res_filt.input)\n",
    "fgsea_bulk\n",
    "\n",
    "p3 <- plotEnrichment(mrk_dia_up, res_filt.input) + \n",
    "labs(title=\"Treg DE genes in Kallionpaa 2019\", subtitle = paste0(\"p-value = \",format.pval(fgsea_bulk$pval, digits = 2)))\n",
    "p3\n",
    "ggsave(filename = \"GSEA_kallionpaa.png\", width = 12, height = 8, units = \"cm\", dpi = 200)"
   ]
  },
  {
   "cell_type": "code",
   "execution_count": null,
   "id": "646aff21",
   "metadata": {},
   "outputs": [],
   "source": []
  },
  {
   "cell_type": "code",
   "execution_count": null,
   "id": "e2de0c74",
   "metadata": {
    "scrolled": true
   },
   "outputs": [],
   "source": [
    "fc_kallion2  <- FindMarkers(kallion_treg, logfc.threshold = 0, \n",
    "                            min.pct = 0, min.cells.group = 0, \n",
    "                            \n",
    "                         ident.1 = \"Cont\", ident.2 = \"Case\")\n",
    "\n",
    "fc_kallion2$gene  <- rownames(fc_kallion2)\n",
    "\n",
    "fc_kallion2  %>% arrange(desc(avg_log2FC))"
   ]
  },
  {
   "cell_type": "code",
   "execution_count": null,
   "id": "087cdbc8",
   "metadata": {},
   "outputs": [],
   "source": [
    "mrk_dia_down  <- mrk  %>% filter(cluster == \"Ctrl\")  %>% pull(gene)"
   ]
  },
  {
   "cell_type": "code",
   "execution_count": null,
   "id": "6fe6b34f",
   "metadata": {},
   "outputs": [],
   "source": [
    "mrk_dia_down"
   ]
  },
  {
   "cell_type": "code",
   "execution_count": null,
   "id": "011fef5a",
   "metadata": {},
   "outputs": [],
   "source": [
    "# Retrieve the results\n",
    "res_filt_df <- data.frame(gene = rownames(fc_kallion2),\n",
    "                           pval = fc_kallion2$p_val,\n",
    "                           logfc = -1*fc_kallion2$avg_log2FC,\n",
    "                           padj = fc_kallion2$p_val_adj)\n",
    "\n",
    "# Prepare GSEA input\n",
    "res_filt.input <- as.numeric(res_filt_df$logfc)\n",
    "names(res_filt.input) <- res_filt_df$gene\n",
    "res_filt.input <- res_filt.input[which(!is.na(res_filt.input))]\n",
    "\n",
    "# Prerank genes with similar FC\n",
    "set.seed(123)\n",
    "res_filt.input <- res_filt.input[rank(res_filt.input,  ties.method = \"random\")]"
   ]
  },
  {
   "cell_type": "code",
   "execution_count": null,
   "id": "ec03d71a",
   "metadata": {},
   "outputs": [],
   "source": [
    "# Run GSEA Top PC2 neg markers\n",
    "fgsea_bulk <- fgsea(pathways = list(our_list = mrk_dia_down), \n",
    "                                      stats    = res_filt.input)\n",
    "fgsea_bulk\n",
    "\n",
    "p3 <- plotEnrichment(mrk_dia_down, res_filt.input) + \n",
    "labs(title=\"Treg DE genes in Kallionpaa 2019\", subtitle = paste0(\"p-value = \",format.pval(fgsea_bulk$pval, digits = 2)))\n",
    "p3\n",
    "#ggsave(filename = \"GSEA_kallionpaa.png\", width = 12, height = 8, units = \"cm\", dpi = 200)"
   ]
  },
  {
   "cell_type": "code",
   "execution_count": null,
   "id": "8c8e93dd",
   "metadata": {},
   "outputs": [],
   "source": [
    "fgsea_bulk$leadingEdge"
   ]
  },
  {
   "cell_type": "code",
   "execution_count": null,
   "id": "d1ec0f92",
   "metadata": {
    "scrolled": true
   },
   "outputs": [],
   "source": [
    "fc_kallion2  %>% filter(gene %in% c(mrk_dia_down))"
   ]
  },
  {
   "cell_type": "code",
   "execution_count": null,
   "id": "fa70bdaf",
   "metadata": {},
   "outputs": [],
   "source": [
    "mrk_dia_down"
   ]
  },
  {
   "cell_type": "code",
   "execution_count": null,
   "id": "6c76d9a6",
   "metadata": {},
   "outputs": [],
   "source": []
  },
  {
   "cell_type": "code",
   "execution_count": null,
   "id": "58770735",
   "metadata": {},
   "outputs": [],
   "source": []
  },
  {
   "cell_type": "code",
   "execution_count": null,
   "id": "87fae046",
   "metadata": {},
   "outputs": [],
   "source": []
  },
  {
   "cell_type": "code",
   "execution_count": null,
   "id": "6dbe37e1",
   "metadata": {},
   "outputs": [],
   "source": []
  },
  {
   "cell_type": "code",
   "execution_count": null,
   "id": "6a4448d1",
   "metadata": {},
   "outputs": [],
   "source": []
  },
  {
   "cell_type": "code",
   "execution_count": null,
   "id": "1f59794a",
   "metadata": {},
   "outputs": [],
   "source": []
  },
  {
   "cell_type": "markdown",
   "id": "0a255136",
   "metadata": {},
   "source": [
    "### GSEA Kallion markers in our data"
   ]
  },
  {
   "cell_type": "code",
   "execution_count": null,
   "id": "46bb76b7",
   "metadata": {},
   "outputs": [],
   "source": [
    "Idents(kallion_treg)  <- kallion_treg$Condition\n",
    "\n",
    "mrk_kallion  <- FindAllMarkers(kallion_treg, only.pos = T)\n",
    "mrk_kallion_up_dia  <- mrk_kallion  %>% filter(cluster == \"Case\")  %>% pull(gene)"
   ]
  },
  {
   "cell_type": "code",
   "execution_count": null,
   "id": "7d05ba3b",
   "metadata": {},
   "outputs": [],
   "source": [
    "mrk_kallion_up_dia"
   ]
  },
  {
   "cell_type": "code",
   "execution_count": null,
   "id": "0bac5bd6",
   "metadata": {},
   "outputs": [],
   "source": [
    "Idents(treg_subset)  <- treg_subset$Disease"
   ]
  },
  {
   "cell_type": "code",
   "execution_count": null,
   "id": "90edfc5e",
   "metadata": {},
   "outputs": [],
   "source": [
    "treg_subset$Disease  %>% table"
   ]
  },
  {
   "cell_type": "code",
   "execution_count": null,
   "id": "c8989bcd",
   "metadata": {},
   "outputs": [],
   "source": [
    "fc_our2  <- FindMarkers(treg_subset, logfc.threshold = 0, \n",
    "                            min.pct = 0, min.cells.group = 0, \n",
    "                            \n",
    "                         ident.1 = \"Dia\", ident.2 = \"Ctrl\")"
   ]
  },
  {
   "cell_type": "code",
   "execution_count": null,
   "id": "bdc19812",
   "metadata": {},
   "outputs": [],
   "source": [
    "fc_our2$gene  <- rownames(fc_our2)"
   ]
  },
  {
   "cell_type": "code",
   "execution_count": null,
   "id": "5f4b62a1",
   "metadata": {
    "scrolled": true
   },
   "outputs": [],
   "source": [
    "fc_our2  %>% arrange(desc(avg_log2FC))"
   ]
  },
  {
   "cell_type": "code",
   "execution_count": null,
   "id": "b3cceafb",
   "metadata": {},
   "outputs": [],
   "source": [
    "# Retrieve the results\n",
    "res_filt_df <- data.frame(gene = rownames(fc_our2),\n",
    "                           pval = fc_our2$p_val,\n",
    "                           logfc = fc_our2$avg_log2FC,\n",
    "                           padj = fc_our2$p_val_adj)\n",
    "\n",
    "# Prepare GSEA input\n",
    "res_filt.input <- as.numeric(res_filt_df$logfc)\n",
    "names(res_filt.input) <- res_filt_df$gene\n",
    "res_filt.input <- res_filt.input[which(!is.na(res_filt.input))]\n",
    "\n",
    "# Prerank genes with similar FC\n",
    "set.seed(123)\n",
    "res_filt.input <- res_filt.input[rank(res_filt.input,  ties.method = \"random\")]"
   ]
  },
  {
   "cell_type": "code",
   "execution_count": null,
   "id": "38667f6c",
   "metadata": {},
   "outputs": [],
   "source": [
    "# Run GSEA Top PC2 neg markers\n",
    "fgsea_bulk <- fgsea(pathways = list(kallion_list = mrk_kallion_up_dia), \n",
    "                                      stats    = res_filt.input)\n",
    "fgsea_bulk\n",
    "\n",
    "p3 <- plotEnrichment(mrk_kallion_up_dia, res_filt.input) + \n",
    "labs(title=\"Treg from Kallionpaa 2019\", subtitle = paste0(\"p-value = \",format.pval(fgsea_bulk$pval, digits = 2)))\n",
    "p3\n",
    "#ggsave(filename = \"GSEA_kallionpaa.png\", width = 12, height = 8, units = \"cm\", dpi = 200)"
   ]
  },
  {
   "cell_type": "code",
   "execution_count": null,
   "id": "9d414152",
   "metadata": {},
   "outputs": [],
   "source": [
    "GSE15659_RESTING_VS_ACTIVATED_TREG_DN  <- c('LMNTD2-AS1', 'POLR2F', 'POLR3F', 'POP7', 'PPHLN1', 'PPM1B', 'PPM1K', 'PPP2CA', 'PPP2R1A', 'PPP2R5A', 'DESI2', 'PPY', 'PRAM1', 'PRDX3', 'PRDX4', 'PRG3', 'PRKAG3', 'PRKX', '', 'PROCR', 'PSEN1', 'PSMA2', 'PSMG2', 'PSPN', 'PSRC1', 'PTK2B', 'HACD4', 'PTPN23', 'NECTIN4', 'PYGL', 'PYHIN1', 'RAB2B', 'RAB9A', 'RAMP1', 'RAN', 'RANBP9', 'RANGRF', 'RAP2B', 'RBCK1', 'RBM41', 'RCOR1', 'RD3', 'RGS17', 'RGS4', 'RHOC', 'RHOU', 'RIT1', 'RNF10', 'RNF150', 'RNF167', 'RNF214', 'ROCK1', 'ROS1', 'RPL26L1', 'RRM1', 'RSPH1', 'RSPH10B2', 'RSPH3', 'RTP1', 'RUSC1', 'S100P', 'S1PR2', 'SAGE1', 'SAP30BP', 'SARS2', 'SCN8A', 'SCO2', 'SDC3', 'SEC24D', 'SEC61B', 'SEPHS2', 'SEPTIN3', 'SF3B1', '', 'SGO2', 'SH2D1A', 'SHISA6', 'SLC16A4', 'SLC22A18', 'SLC24A5', 'SLC25A3', 'SLC25A46', 'SLC26A6', 'SLC35F3', 'SLC39A1', 'SLC43A3', 'SLC44A3', 'SLC4A9', 'SLC6A7', 'SLC9A6', 'SLC9A8', 'SLFNL1', 'SMAP2', 'SNAP91', 'SNORA65', 'SNX3', 'SOX11', 'SOX2-OT', 'SPATA2', 'SPATA22', 'SPATA5L1', 'SPATC1', 'SPATS2L', 'SRL', 'DENND2B', 'ST7-AS1', 'STARD4', 'STK25', 'STK32A', 'STK36', 'STX10', 'SUMO4', 'SUSD1', 'SYN2', 'TBC1D1', 'TBC1D4', 'TDRD7', 'TEX12', 'TFF2', 'THAP1', 'THRB', 'TIFAB', 'TIPRL', 'TK1', 'TMBIM1', 'TMEM126A', 'TMEM139', 'TMEM208', 'TMEM70', 'EMC4', 'TNF', 'TNFAIP3', 'TNFSF12', 'TOMM22', 'TOP1', 'TOR1AIP1', 'TP53INP2', 'TPI1', 'TPMT', 'TRABD', 'TRIM16', 'TRIM55', 'TRIML1', 'TRIP12', 'TRIP6', 'TRPM6', 'TSNAX', 'EIPR1', 'GFUS', 'TTC33', 'EMC2', 'TTC7A', 'TTL', 'TTTY13', 'TULP2', 'TUSC2', 'TYK2', 'U2AF1', 'UBA3', 'UBE2D1', 'UBE2U', 'UBFD1', 'UBL7', 'UBR5', 'UGGT1', 'UGT2B17', 'UNC13D', 'UTS2B', 'VAMP3', 'VCPIP1', 'VPS28', 'WARS1', 'WDHD1', 'DNAAF10', 'CCN6', 'GET1', 'XAF1', 'YY1', 'ZAN', 'ZBED6', 'ZC3H13', 'ZCCHC9', 'ZDHHC8BP', 'ZFAND5', 'ZFC3H1', 'ZMIZ2', 'ZNF28', 'ZNF287', 'ZNF324B', 'ZNF34', 'ZNF385D', 'ZNF394', 'ZNF414', 'ZNF596', 'ZNF618', 'ZNF663P', 'ZNF678', 'POLR1H', 'ZNRF2', 'ZPBP2')\n"
   ]
  },
  {
   "cell_type": "code",
   "execution_count": null,
   "id": "4a354071",
   "metadata": {},
   "outputs": [],
   "source": [
    "# Run GSEA Top PC2 neg markers\n",
    "fgsea_bulk <- fgsea(pathways = list(kallion_list = GSE15659_RESTING_VS_ACTIVATED_TREG_DN), \n",
    "                                      stats    = res_filt.input)\n",
    "\n",
    "p3 <- plotEnrichment(GSE15659_RESTING_VS_ACTIVATED_TREG_DN, res_filt.input) + \n",
    "labs(title=\"GSE15659_RESTING_VS_ACTIVATED_TREG_DN\", subtitle = paste0(\"p-value = \",format.pval(fgsea_bulk$pval, digits = 2)))\n",
    "p3\n",
    "#ggsave(filename = \"GSEA_kallionpaa.png\", width = 12, height = 8, units = \"cm\", dpi = 200)"
   ]
  },
  {
   "cell_type": "code",
   "execution_count": null,
   "id": "4910cb24",
   "metadata": {},
   "outputs": [],
   "source": [
    "GSE15659_RESTING_VS_ACTIVATED_TREG_UP  <- c('ABCC8', 'ABHD1', 'ACOT6', 'PXYLP1', 'ACTR3B', 'ADAMTSL1', 'AFAP1', 'AK9', 'ALK', 'ALKBH7', 'ALOX12', 'ALPK1', 'ALX4', 'ANGPT4', 'ANKMY1', 'ANKRD34A', 'SOWAHA', 'ANKRD45', '', 'AP4B1', 'ARHGAP5', 'ARHGEF16', 'ARIH1', 'ARSL', 'ARSJ', 'ASB12', 'ASB4', 'ASCL3', 'ASMTL-AS1', 'TEX38', 'ATXN1L', 'ATXN3L', 'AVPR1A', 'BBOX1', 'BCDIN3D', 'CCDC180', 'BDNF', 'BLCAP', 'BOLA1', 'BPI', 'BPIFB6', 'BTAF1', 'BTN1A1', 'TBATA', 'C11orf21', 'ANAPC15', 'LINC01588', 'LINC01550', 'ARPIN', 'LINC02915', 'PAGR1', 'LINC02210', 'FAAP100', 'PRR29', 'MFSD12', 'C1QTNF7', 'C1orf210', 'ZNF436-AS1', 'SUCO', 'C20orf202', 'SCP2D1', 'CYP4F29P', 'CFAP298', 'KLHL30-AS1', 'C4orf36', '', 'TBC1D32', 'LINC03040', 'LINC02904', 'BAALC-AS2', 'LINC00587', 'C9orf40', 'CA8', 'CABP2', 'CACNA1A', 'CACNG7', 'CALCA', 'CAMK1D', 'CAMSAP2', 'CAPZA3', 'CARD10', 'CASKIN2', 'MCUB', 'CCDC15', 'CCDC152', 'TRMT13', 'CCL4', 'CCNY', 'CCS', 'CD3E', 'CD46', 'CD7', 'CD8B', 'CDK5RAP2', 'CDS1', 'CEACAM1', 'CEACAM19', 'CEP68', 'CHCHD7', 'CHD9', 'CHL1', 'CHPF', 'CHRNA2', 'CHRNA4', 'CHRNG', 'CITED4', 'CLTCL1', 'CLU', 'CMTM5', '', 'CNOT4', 'CNPY1', 'CNTFR', 'COG1', 'COIL', 'COL10A1', 'CPLX2', 'CREB3L4', 'CSPG5', 'CST3', 'CST8', 'CSTA', 'CTSV', 'CUTA', 'CXCL14', 'CXXC1P1', 'CYBB', 'CYMP', 'CYP2J2', 'CYP7B1', 'CYSLTR2', 'DAAM2', 'DACT1', 'DDX18', 'DDX53', 'DEPTOR', 'DGCR5', 'DHRS9', 'DHX58', 'MYRF-AS1', 'DNAH17', 'DNAJA4', 'DOCK6', 'DPYS', 'DUS1L', 'DUS4L', 'DUSP14', 'DYNC1I1', 'ECI2', 'EEF1D', 'EFNB1', 'EIF2AK3', 'EME1', 'EMID1', 'EML3', 'ENPP3', 'ENTPD2', 'ENTPD3', 'EOMES', 'EPM2AIP1', 'ERCC8', 'FAM111B', 'AMER1', 'MVB12A', 'MVB12B', 'FAM181B', 'PIEZO2', 'FAM47A', 'TLCD3B', 'FAM86C1P', 'FAM87A', 'FAP', 'FBH1', 'FBXO46', 'FBXW9', 'FGF13', 'FGF23', 'FITM1', 'FKBP7', 'FKRP', 'LINC01949', '', '', '', '', 'LINC00951', 'PRDM16-DT', 'ZNF736', '', 'FNDC8', 'FOS', 'FPGS', 'FRAT2', 'FSIP1', 'FTO', 'FUS', 'GABARAPL3', 'GABRR3', 'GATC', 'GMNC')\n"
   ]
  },
  {
   "cell_type": "code",
   "execution_count": null,
   "id": "f24e6078",
   "metadata": {},
   "outputs": [],
   "source": [
    "# Run GSEA Top PC2 neg markers\n",
    "fgsea_bulk <- fgsea(pathways = list(kallion_list = GSE15659_RESTING_VS_ACTIVATED_TREG_UP), \n",
    "                                      stats    = res_filt.input)\n",
    "\n",
    "p3 <- plotEnrichment(GSE15659_RESTING_VS_ACTIVATED_TREG_DN, res_filt.input) + \n",
    "labs(title=\"GSE15659_RESTING_VS_ACTIVATED_TREG_UP\", subtitle = paste0(\"p-value = \",format.pval(fgsea_bulk$pval, digits = 2)))\n",
    "p3\n",
    "#ggsave(filename = \"GSEA_kallionpaa.png\", width = 12, height = 8, units = \"cm\", dpi = 200)"
   ]
  },
  {
   "cell_type": "code",
   "execution_count": null,
   "id": "d9734186",
   "metadata": {},
   "outputs": [],
   "source": []
  },
  {
   "cell_type": "code",
   "execution_count": null,
   "id": "cbf4df41",
   "metadata": {},
   "outputs": [],
   "source": [
    "Idents(treg)  <- treg$seurat_clusters\n",
    "DefaultAssay(treg)  <- \"RNA\"\n",
    "treg <- AddModuleScore(\n",
    "  object = treg,\n",
    "  features = list(GSE15659_RESTING_VS_ACTIVATED_TREG_UP),\n",
    "  search = T,\n",
    "  ctrl = 50,\n",
    "  nbin = 50,\n",
    "  assay = \"RNA\",\n",
    "  name = 'GSE15659_RESTING_VS_ACTIVATED_TREG_UP_')"
   ]
  },
  {
   "cell_type": "code",
   "execution_count": null,
   "id": "854de49c",
   "metadata": {},
   "outputs": [],
   "source": [
    "treg$GSE15659_RESTING_VS_ACTIVATED_TREG_UP_1  <- -1*treg$GSE15659_RESTING_VS_ACTIVATED_TREG_UP_1"
   ]
  },
  {
   "cell_type": "code",
   "execution_count": null,
   "id": "ddadc2e5",
   "metadata": {},
   "outputs": [],
   "source": [
    "options(repr.plot.width = 6, repr.plot.height = 5)\n",
    "\n",
    "FeaturePlot(treg, features = \"GSE15659_RESTING_VS_ACTIVATED_TREG_UP_1\", min.cutoff = -0.1, max.cutoff = 0.1) & \n",
    "scale_colour_gradient2(low = 'dodgerblue', mid = 'white', high = 'red')"
   ]
  },
  {
   "cell_type": "code",
   "execution_count": null,
   "id": "e91cfab4",
   "metadata": {},
   "outputs": [],
   "source": [
    "Idents(treg)  <- treg$seurat_clusters\n",
    "treg <- AddModuleScore(\n",
    "  object = treg,\n",
    "  features = list(c(GSE15659_RESTING_VS_ACTIVATED_TREG_DN)),\n",
    "  search = T,\n",
    "  ctrl = 50,\n",
    "  nbin = 50,\n",
    "  assay = \"RNA\",\n",
    "  name = 'GSE15659_RESTING_VS_ACTIVATED_TREG_DN_')"
   ]
  },
  {
   "cell_type": "code",
   "execution_count": null,
   "id": "c513b89f",
   "metadata": {},
   "outputs": [],
   "source": [
    "options(repr.plot.width = 7, repr.plot.height = 5)\n",
    "\n",
    "FeaturePlot(treg, features = \"GSE15659_RESTING_VS_ACTIVATED_TREG_DN_1\") & \n",
    "scale_colour_gradient2(low = 'dodgerblue', mid = 'white', high = 'red')"
   ]
  },
  {
   "cell_type": "markdown",
   "id": "f1b4f44b",
   "metadata": {},
   "source": [
    "# HPAP Treg"
   ]
  },
  {
   "cell_type": "code",
   "execution_count": null,
   "id": "36ab2613",
   "metadata": {},
   "outputs": [],
   "source": [
    "treg_hpap  <- readRDS(\"../../230927_VN_HPAP_Diabetes_Multiome/data/treg.rds\")"
   ]
  },
  {
   "cell_type": "code",
   "execution_count": null,
   "id": "4889a2e2",
   "metadata": {},
   "outputs": [],
   "source": [
    "seu  <- treg_hpap"
   ]
  },
  {
   "cell_type": "code",
   "execution_count": null,
   "id": "70054465",
   "metadata": {},
   "outputs": [],
   "source": [
    "seu[[\"percent.mt\"]] <- PercentageFeatureSet(seu, pattern = \"^MT-\")\n",
    "seu[[\"percent.rt\"]] <- PercentageFeatureSet(seu, pattern = \"^RP[LS]\")"
   ]
  },
  {
   "cell_type": "code",
   "execution_count": null,
   "id": "00095be3",
   "metadata": {},
   "outputs": [],
   "source": [
    "DimPlot(treg_hpap)"
   ]
  },
  {
   "cell_type": "code",
   "execution_count": null,
   "id": "cb514476",
   "metadata": {},
   "outputs": [],
   "source": [
    "seu"
   ]
  },
  {
   "cell_type": "code",
   "execution_count": null,
   "id": "6e3becc3",
   "metadata": {},
   "outputs": [],
   "source": [
    "# Remove TRAV, TRBV genes: blood young B6\n",
    "seu_annots <- seu@meta.data\n",
    "seu <- seu@assays$RNA[!grepl('TR[AB]V|MT-|RP[LS]|MGP-|IG[KL]V', rownames(seu@assays$RNA)),]\n",
    "seu <- CreateSeuratObject(seu, min.cells = 3, min.features = 200, meta.data = seu_annots)"
   ]
  },
  {
   "cell_type": "code",
   "execution_count": null,
   "id": "5611ed72",
   "metadata": {},
   "outputs": [],
   "source": [
    "options(future.globals.maxSize = 10000 * 1024^2)"
   ]
  },
  {
   "cell_type": "code",
   "execution_count": null,
   "id": "07ae35d1",
   "metadata": {},
   "outputs": [],
   "source": [
    "gc()"
   ]
  },
  {
   "cell_type": "code",
   "execution_count": null,
   "id": "ca06d426",
   "metadata": {},
   "outputs": [],
   "source": [
    "plan(\"sequential\")"
   ]
  },
  {
   "cell_type": "code",
   "execution_count": null,
   "id": "a0198416",
   "metadata": {
    "scrolled": true
   },
   "outputs": [],
   "source": [
    " seu <- NormalizeData(object = seu)\n",
    "  seu <- ScaleData(seu, verbose = FALSE)\n",
    "  seu <- FindVariableFeatures(seu, selection.method = \"vst\", nfeatures = 1000, \n",
    "                                       verbose = FALSE)\n",
    "  seu <- RunPCA(seu, npcs = 20, verbose = FALSE)\n",
    "  seu <- RunUMAP(seu, reduction = \"pca\", dims = 1:20)\n",
    "  seu <- FindNeighbors(seu, dims = 1:20)\n",
    "  seu <- FindClusters(seu, resolution = 0.9)"
   ]
  },
  {
   "cell_type": "code",
   "execution_count": null,
   "id": "0cab2428",
   "metadata": {},
   "outputs": [],
   "source": [
    "DimPlot(seu)"
   ]
  },
  {
   "cell_type": "code",
   "execution_count": null,
   "id": "3f95eb62",
   "metadata": {},
   "outputs": [],
   "source": [
    "options(repr.plot.width = 15)\n",
    "VlnPlot(seu, features = c(\"percent.mt\", \"percent.rp\", \"nCount_RNA\", \"nFeature_RNA\"), ncol = 4, raster = F)"
   ]
  },
  {
   "cell_type": "code",
   "execution_count": null,
   "id": "c8282b20",
   "metadata": {},
   "outputs": [],
   "source": [
    "load(\"../231003_DiabetesV02/data/ref_wherry_new.RData\")"
   ]
  },
  {
   "cell_type": "code",
   "execution_count": null,
   "id": "0877cc9a",
   "metadata": {},
   "outputs": [],
   "source": [
    "hpca.se  <- celldex::HumanPrimaryCellAtlasData()\n",
    "mid.se <- celldex::MonacoImmuneData()"
   ]
  },
  {
   "cell_type": "code",
   "execution_count": null,
   "id": "69b4a796",
   "metadata": {},
   "outputs": [],
   "source": [
    "seu  <- annotate_tcell_data(seu)"
   ]
  },
  {
   "cell_type": "code",
   "execution_count": null,
   "id": "c37943a9",
   "metadata": {},
   "outputs": [],
   "source": [
    "saveRDS(seu, \"../230927_HPAP_Diabetes_Multiome/data/treg.rds\")"
   ]
  },
  {
   "cell_type": "code",
   "execution_count": null,
   "id": "4b3834ea",
   "metadata": {},
   "outputs": [],
   "source": [
    "seu  <- readRDS(\"../230927_HPAP_Diabetes_Multiome/data/treg.rds\")"
   ]
  },
  {
   "cell_type": "code",
   "execution_count": null,
   "id": "3dba24ee",
   "metadata": {},
   "outputs": [],
   "source": [
    "DimPlot(seu)"
   ]
  },
  {
   "cell_type": "code",
   "execution_count": null,
   "id": "fda1be6f",
   "metadata": {},
   "outputs": [],
   "source": [
    "FeaturePlot(seu, features = \"NFKBIA\")"
   ]
  },
  {
   "cell_type": "code",
   "execution_count": null,
   "id": "46e0d6f6",
   "metadata": {},
   "outputs": [],
   "source": [
    "treg_hpap  <- seu"
   ]
  },
  {
   "cell_type": "code",
   "execution_count": null,
   "id": "d59e318a",
   "metadata": {},
   "outputs": [],
   "source": [
    "DimPlot(treg_hpap, group.by = \"Experiment_ID\")"
   ]
  },
  {
   "cell_type": "code",
   "execution_count": null,
   "id": "514e5f70",
   "metadata": {},
   "outputs": [],
   "source": [
    "treg_hpap$Disease  %>% table"
   ]
  },
  {
   "cell_type": "code",
   "execution_count": null,
   "id": "4525b79a",
   "metadata": {},
   "outputs": [],
   "source": [
    "options(repr.plot.width = 7, repr.plot.height = 6)\n",
    "FeaturePlot(treg_hpap, features = \"IL26\", min.cutoff = 0, raster = T)\n",
    "FeaturePlot(treg_hpap, features = \"TNF\", min.cutoff = 0, raster = T)\n",
    "FeaturePlot(treg_hpap, features = \"CD8A\", min.cutoff = 0, raster = T)\n",
    "FeaturePlot(treg_hpap, features = \"MKI67\", min.cutoff = 0, raster = T)\n",
    "FeaturePlot(treg_hpap, features = \"FOXP3\", min.cutoff = 0, raster = T)\n",
    "FeaturePlot(treg_hpap, features = \"ITGAE\", min.cutoff = 0, raster = T)\n",
    "FeaturePlot(treg_hpap, features = \"IL10\", min.cutoff = 0, raster = T)\n",
    "FeaturePlot(treg_hpap, features = \"IKZF2\", min.cutoff = 0, raster = T)\n",
    "FeaturePlot(treg_hpap, features = \"LAG3\", min.cutoff = 0, raster = T)\n",
    "FeaturePlot(treg_hpap, features = \"CD226\", min.cutoff = 0, raster = T)\n",
    "FeaturePlot(treg_hpap, features = \"HAVCR2\", min.cutoff = 0, raster = T)"
   ]
  },
  {
   "cell_type": "code",
   "execution_count": null,
   "id": "2b4f9ab1",
   "metadata": {},
   "outputs": [],
   "source": [
    "FeaturePlot(treg_hpap, features = \"CD69\", min.cutoff = 0, raster = T)"
   ]
  },
  {
   "cell_type": "code",
   "execution_count": null,
   "id": "445b543e",
   "metadata": {},
   "outputs": [],
   "source": [
    "FeaturePlot(treg_hpap, features = \"GZMK\", min.cutoff = 0, raster = T)"
   ]
  },
  {
   "cell_type": "code",
   "execution_count": null,
   "id": "99893add",
   "metadata": {},
   "outputs": [],
   "source": [
    "DimPlot(treg_hpap, group.by = \"Experiment_ID\")"
   ]
  },
  {
   "cell_type": "code",
   "execution_count": null,
   "id": "c617b7bb",
   "metadata": {},
   "outputs": [],
   "source": [
    "merged.list  <- SplitObject(treg_hpap, split.by = \"Experiment_ID\")"
   ]
  },
  {
   "cell_type": "code",
   "execution_count": null,
   "id": "e1b489c8",
   "metadata": {},
   "outputs": [],
   "source": []
  },
  {
   "cell_type": "code",
   "execution_count": null,
   "id": "1a8cf6d6",
   "metadata": {},
   "outputs": [],
   "source": [
    "merged.list <- lapply(X = merged.list, FUN = function(x) {\n",
    "    DefaultAssay(x)  <- \"RNA\"\n",
    "    x$barcode  <- colnames(x)\n",
    "    x <- NormalizeData(x)\n",
    "    x <- FindVariableFeatures(x, selection.method = \"vst\", nfeatures = 2000)\n",
    "})"
   ]
  },
  {
   "cell_type": "code",
   "execution_count": null,
   "id": "fc5593c4",
   "metadata": {},
   "outputs": [],
   "source": [
    "plan(\"sequential\")"
   ]
  },
  {
   "cell_type": "code",
   "execution_count": null,
   "id": "4f7d963b",
   "metadata": {},
   "outputs": [],
   "source": [
    "gc()"
   ]
  },
  {
   "cell_type": "code",
   "execution_count": null,
   "id": "699320f4",
   "metadata": {},
   "outputs": [],
   "source": [
    "new_dia_experiment2 <- Run.STACAS(merged.list, dims = 1:12)\n",
    "new_dia_experiment2 <- RunUMAP(new_dia_experiment2, dims = 1:12) "
   ]
  },
  {
   "cell_type": "code",
   "execution_count": null,
   "id": "438386cd",
   "metadata": {},
   "outputs": [],
   "source": [
    "treg_hpap  <- new_dia_experiment2"
   ]
  },
  {
   "cell_type": "code",
   "execution_count": null,
   "id": "63cfe261",
   "metadata": {},
   "outputs": [],
   "source": [
    "treg_hpap <- FindNeighbors(treg_hpap, reduction = \"pca\", dims = 1:12)"
   ]
  },
  {
   "cell_type": "code",
   "execution_count": null,
   "id": "a02162da",
   "metadata": {
    "scrolled": true
   },
   "outputs": [],
   "source": [
    "treg_hpap <- FindClusters(treg_hpap, resolution = 0.6)"
   ]
  },
  {
   "cell_type": "code",
   "execution_count": null,
   "id": "c39001cc",
   "metadata": {
    "scrolled": true
   },
   "outputs": [],
   "source": [
    "options(repr.plot.width = 6, repr.plot.height = 5)\n",
    "DimPlot(treg_hpap, label = T)"
   ]
  },
  {
   "cell_type": "code",
   "execution_count": null,
   "id": "5eb6568a",
   "metadata": {},
   "outputs": [],
   "source": [
    "DimPlot(treg_hpap, group.by = \"Experiment_ID\")"
   ]
  },
  {
   "cell_type": "code",
   "execution_count": null,
   "id": "6b0114ff",
   "metadata": {},
   "outputs": [],
   "source": [
    "DimPlot(treg_hpap, group.by = \"Disease\")"
   ]
  },
  {
   "cell_type": "code",
   "execution_count": null,
   "id": "5cacb09e",
   "metadata": {},
   "outputs": [],
   "source": [
    "DefaultAssay(treg_hpap)  <- \"RNA\"\n",
    "FeaturePlot(treg_hpap, features = \"FOXP3\", min.cutoff = 0)"
   ]
  },
  {
   "cell_type": "code",
   "execution_count": null,
   "id": "43e2c4fb",
   "metadata": {},
   "outputs": [],
   "source": [
    "FeaturePlot(treg_hpap, features = \"LAG3\", min.cutoff = 0)"
   ]
  },
  {
   "cell_type": "code",
   "execution_count": null,
   "id": "406d6853",
   "metadata": {},
   "outputs": [],
   "source": [
    "options(repr.plot.width = 15, repr.plot.height = 4)\n",
    "DimPlot(treg_hpap, group.by = \"Tissue\", split.by = \"Tissue\")"
   ]
  },
  {
   "cell_type": "code",
   "execution_count": null,
   "id": "87e22778",
   "metadata": {},
   "outputs": [],
   "source": [
    "options(repr.plot.width = 9, repr.plot.height = 4)\n",
    "DimPlot(treg_hpap, group.by = \"seurat_clusters\", split.by = \"Disease\")"
   ]
  },
  {
   "cell_type": "code",
   "execution_count": null,
   "id": "db0c5df6",
   "metadata": {},
   "outputs": [],
   "source": [
    "VlnPlot(treg_hpap, \"FOXP3\", group.by = \"Disease\", pt.size = 0)"
   ]
  },
  {
   "cell_type": "code",
   "execution_count": null,
   "id": "d7c59750",
   "metadata": {},
   "outputs": [],
   "source": [
    "VlnPlot(treg_hpap, \"CD226\", group.by = \"Disease\", pt.size = 0)"
   ]
  },
  {
   "cell_type": "code",
   "execution_count": null,
   "id": "e6c07246",
   "metadata": {},
   "outputs": [],
   "source": [
    "VlnPlot(treg_hpap, \"GZMK\", group.by = \"Disease\", pt.size = 0)"
   ]
  },
  {
   "cell_type": "code",
   "execution_count": null,
   "id": "54ad4b89",
   "metadata": {},
   "outputs": [],
   "source": [
    "VlnPlot(treg_hpap, \"IL2RA\", group.by = \"Disease\", pt.size = 0)"
   ]
  },
  {
   "cell_type": "code",
   "execution_count": null,
   "id": "1ce795db",
   "metadata": {},
   "outputs": [],
   "source": [
    "VlnPlot(treg_hpap, \"TNFRSF9\", group.by = \"Disease\", pt.size = 0)"
   ]
  },
  {
   "cell_type": "code",
   "execution_count": null,
   "id": "885b2cf5",
   "metadata": {},
   "outputs": [],
   "source": [
    "options(repr.plot.width = 7, repr.plot.height = 6)\n",
    "FeaturePlot(treg_hpap, features = \"IL26\", min.cutoff = 0, raster = T)\n",
    "FeaturePlot(treg_hpap, features = \"TNF\", min.cutoff = 0, raster = T)\n",
    "FeaturePlot(treg_hpap, features = \"CD8A\", min.cutoff = 0, raster = T)\n",
    "FeaturePlot(treg_hpap, features = \"MKI67\", min.cutoff = 0, raster = T)\n",
    "FeaturePlot(treg_hpap, features = \"FOXP3\", min.cutoff = 0, raster = T)\n",
    "FeaturePlot(treg_hpap, features = \"ITGAE\", min.cutoff = 0, raster = T)\n",
    "FeaturePlot(treg_hpap, features = \"IL10\", min.cutoff = 0, raster = T)\n",
    "FeaturePlot(treg_hpap, features = \"IKZF2\", min.cutoff = 0, raster = T)\n",
    "FeaturePlot(treg_hpap, features = \"LAG3\", min.cutoff = 0, raster = T)\n",
    "FeaturePlot(treg_hpap, features = \"CD226\", min.cutoff = 0, raster = T)\n",
    "FeaturePlot(treg_hpap, features = \"HAVCR2\", min.cutoff = 0, raster = T)\n",
    "FeaturePlot(treg_hpap, features = \"CD69\", min.cutoff = 0, raster = T)\n",
    "FeaturePlot(treg_hpap, features = \"GZMK\", min.cutoff = 0, raster = T)"
   ]
  },
  {
   "cell_type": "code",
   "execution_count": null,
   "id": "cb142f6d",
   "metadata": {},
   "outputs": [],
   "source": [
    "FeaturePlot(treg_hpap, features = \"PDCD1\", min.cutoff = 0, raster = T)\n",
    "FeaturePlot(treg_hpap, features = \"SELL\", min.cutoff = 0, raster = T)\n",
    "FeaturePlot(treg_hpap, features = \"CCR7\", min.cutoff = 0, raster = T)\n",
    "FeaturePlot(treg_hpap, features = \"NFKBIA\", min.cutoff = 0, raster = T)\n",
    "FeaturePlot(treg_hpap, features = \"PI16\", min.cutoff = 0, raster = T)\n",
    "FeaturePlot(treg_hpap, features = \"CCR10\", min.cutoff = 0, raster = T)\n"
   ]
  },
  {
   "cell_type": "code",
   "execution_count": null,
   "id": "e930f669",
   "metadata": {},
   "outputs": [],
   "source": [
    "DefaultAssay(treg_hpap) <- \"RNA\""
   ]
  },
  {
   "cell_type": "code",
   "execution_count": null,
   "id": "808d4930",
   "metadata": {},
   "outputs": [],
   "source": [
    "options(repr.plot.width = 6, repr.plot.height = 5)\n",
    "\n",
    "Plot_Density_Custom(seurat_object = treg_hpap, features = \"PDCD1\", custom_palette = c(\"lightblue\",\"khaki1\",\"tomato\"))\n",
    "Plot_Density_Custom(seurat_object = treg_hpap, features = \"SELL\", custom_palette = c(\"lightblue\",\"khaki1\",\"tomato\"))\n",
    "Plot_Density_Custom(seurat_object = treg_hpap, features = \"CCR7\", custom_palette = c(\"lightblue\",\"khaki1\",\"tomato\"))\n",
    "Plot_Density_Custom(seurat_object = treg_hpap, features = \"NFKBIA\", custom_palette = c(\"lightblue\",\"khaki1\",\"tomato\"))\n",
    "Plot_Density_Custom(seurat_object = treg_hpap, features = \"PI16\", custom_palette = c(\"lightblue\",\"khaki1\",\"tomato\"))\n",
    "Plot_Density_Custom(seurat_object = treg_hpap, features = \"CCR10\", custom_palette = c(\"lightblue\",\"khaki1\",\"tomato\"))\n"
   ]
  },
  {
   "cell_type": "code",
   "execution_count": null,
   "id": "a53cea55",
   "metadata": {},
   "outputs": [],
   "source": [
    "Plot_Density_Custom(seurat_object = treg_hpap, features = \"CD226\", custom_palette = c(\"lightblue\",\"khaki1\",\"tomato\"))\n",
    "Plot_Density_Custom(seurat_object = treg_hpap, features = \"GZMK\", custom_palette = c(\"lightblue\",\"khaki1\",\"tomato\"))\n",
    "Plot_Density_Custom(seurat_object = treg_hpap, features = \"FOXP3\", custom_palette = c(\"lightblue\",\"khaki1\",\"tomato\"))\n",
    "Plot_Density_Custom(seurat_object = treg_hpap, features = \"IKZF2\", custom_palette = c(\"lightblue\",\"khaki1\",\"tomato\"))\n"
   ]
  },
  {
   "cell_type": "code",
   "execution_count": null,
   "id": "bb1d5876",
   "metadata": {},
   "outputs": [],
   "source": [
    "DefaultAssay(treg_hpap)  <- \"integrated\""
   ]
  },
  {
   "cell_type": "code",
   "execution_count": null,
   "id": "76861609",
   "metadata": {
    "scrolled": true
   },
   "outputs": [],
   "source": [
    "treg_hpap <- FindClusters(treg_hpap, resolution = 0.7)"
   ]
  },
  {
   "cell_type": "code",
   "execution_count": null,
   "id": "97170a80",
   "metadata": {
    "scrolled": true
   },
   "outputs": [],
   "source": [
    "options(repr.plot.width = 6, repr.plot.height = 5)\n",
    "DimPlot(treg_hpap, label = T)"
   ]
  },
  {
   "cell_type": "code",
   "execution_count": null,
   "id": "a6361a7f",
   "metadata": {},
   "outputs": [],
   "source": [
    "mrk  <- FindAllMarkers(treg_hpap)"
   ]
  },
  {
   "cell_type": "code",
   "execution_count": null,
   "id": "e795600b",
   "metadata": {
    "scrolled": true
   },
   "outputs": [],
   "source": [
    "mrk  %>% filter(cluster == 7)"
   ]
  },
  {
   "cell_type": "code",
   "execution_count": null,
   "id": "5880fabc",
   "metadata": {},
   "outputs": [],
   "source": [
    "mrk$duplicate  <- rownames(mrk)"
   ]
  },
  {
   "cell_type": "code",
   "execution_count": null,
   "id": "75524a69",
   "metadata": {},
   "outputs": [],
   "source": [
    "mrk  <-  mrk  %>% separate(duplicate, into = c(NA, \"count\"), sep = \"\\\\.\")"
   ]
  },
  {
   "cell_type": "code",
   "execution_count": null,
   "id": "a1cdf925",
   "metadata": {
    "scrolled": true
   },
   "outputs": [],
   "source": [
    "mrk  %>%  filter(is.na(count) & cluster == 7)"
   ]
  },
  {
   "cell_type": "code",
   "execution_count": null,
   "id": "d356d78c",
   "metadata": {},
   "outputs": [],
   "source": [
    "options(repr.plot.width = 12, repr.plot.height = 5)\n",
    "\n",
    "DefaultAssay(treg_hpap)  <- \"RNA\"\n",
    "Plot_Density_Custom(seurat_object = treg_hpap, features = \"IFNG\", custom_palette = c(\"lightblue\",\"khaki1\",\"tomato\")) +\n",
    "Plot_Density_Custom(seurat_object = treg_hpap, features = \"ZEB1\", custom_palette = c(\"lightblue\",\"khaki1\",\"tomato\"))\n",
    "Plot_Density_Custom(seurat_object = treg_hpap, features = \"TNF\", custom_palette = c(\"lightblue\",\"khaki1\",\"tomato\")) +\n",
    "Plot_Density_Custom(seurat_object = treg_hpap, features = \"KLRG1\", custom_palette = c(\"lightblue\",\"khaki1\",\"tomato\"))\n"
   ]
  },
  {
   "cell_type": "code",
   "execution_count": null,
   "id": "225fb8ff",
   "metadata": {
    "scrolled": true
   },
   "outputs": [],
   "source": [
    "options(repr.plot.width = 12, repr.plot.height = 10)\n",
    "\n",
    "seurat_meta_data <- treg_hpap@meta.data\n",
    "seurat_meta_data$sample  <- seurat_meta_data$source\n",
    "seurat_meta_data$sample  <- paste(seurat_meta_data$Patient_ID, seurat_meta_data$Tissue) \n",
    "\n",
    "# Create grouped dataframe, calculate the frequencies of clusters\n",
    "df4 <- seurat_meta_data %>% group_by(sample, seurat_clusters) %>% \n",
    "  summarise(n = n()) %>% \n",
    "  unique() %>% \n",
    "  mutate(freq = n / sum(n)) \n",
    "\n",
    "\n",
    "# As we've lost non-grouping variables, let's join them back\n",
    "md_to_join <- seurat_meta_data %>% dplyr::select(sample, Disease, Patient_ID, Tissue) %>% unique()\n",
    "df4  <- left_join(df4, md_to_join, by = \"sample\")\n",
    "\n",
    "# The final plot\n",
    "\n",
    "df4 %>% ggplot(aes(x = Disease, y = freq)) + # you can change the x to whatever variable you're interested in\n",
    "  geom_boxplot(outlier.shape = NA) + \n",
    "  geom_dotplot(binaxis='y', stackdir='center', dotsize=0) + \n",
    "  geom_jitter(position=position_jitter(0.2), size = 2, aes(color = Patient_ID, shape = Tissue)) + # in aes, you can also use shape or fill (for the shapes that allow it)\n",
    "  facet_wrap(~seurat_clusters, scales = \"free\") +\n",
    "  ylab(\"Frequency\") +\n",
    "  xlab(\"Condition\") +\n",
    "ggpubr::stat_compare_means() +\n",
    "  ylim(c(0,NA)) + # This ensures that our x axis starts at zero, but feel free to remove this line\n",
    "  theme_classic() +\n",
    "  theme(strip.background = element_blank(), panel.grid = element_blank())\n"
   ]
  },
  {
   "cell_type": "code",
   "execution_count": null,
   "id": "700cc35b",
   "metadata": {
    "scrolled": true
   },
   "outputs": [],
   "source": [
    "options(repr.plot.width = 16, repr.plot.height = 20)\n",
    "\n",
    "seurat_meta_data <- treg_hpap@meta.data\n",
    "seurat_meta_data$sample  <- paste(seurat_meta_data$Patient_ID, seurat_meta_data$Tissue) \n",
    "\n",
    "# Create grouped dataframe, calculate the frequencies of clusters\n",
    "df4 <- seurat_meta_data %>% group_by(sample, seurat_clusters) %>% \n",
    "  summarise(n = n()) %>% \n",
    "  unique() %>% \n",
    "  mutate(freq = n / sum(n)) \n",
    "\n",
    "# As we've lost non-grouping variables, let's join them back\n",
    "md_to_join <- seurat_meta_data %>% dplyr::select(sample, Disease, Patient_ID, Tissue) %>% unique()\n",
    "df4  <- left_join(df4, md_to_join, by = \"sample\")\n",
    "\n",
    "# The final plot\n",
    "\n",
    "df4 %>% ggplot(aes(x = Disease, y = freq)) + # you can change the x to whatever variable you're interested in\n",
    "  geom_boxplot(outlier.shape = NA) + \n",
    "  geom_dotplot(binaxis='y', stackdir='center', dotsize=0) + \n",
    "  geom_jitter(position=position_jitter(0.2), size = 2, aes(color = Patient_ID, shape = Tissue)) + # in aes, you can also use shape or fill (for the shapes that allow it)\n",
    "  facet_grid(rows = vars(seurat_clusters), cols = vars(Tissue), scales = \"free\") +\n",
    "  ylab(\"Frequency\") +\n",
    "  xlab(\"Condition\") +\n",
    "  ylim(c(0,NA)) + # This ensures that our x axis starts at zero, but feel free to remove this line\n",
    "  theme_classic() +\n",
    "  theme(strip.background = element_blank(), panel.grid = element_blank())"
   ]
  },
  {
   "cell_type": "code",
   "execution_count": null,
   "id": "1811360e",
   "metadata": {},
   "outputs": [],
   "source": [
    "treg_hpap"
   ]
  },
  {
   "cell_type": "code",
   "execution_count": null,
   "id": "0834afb6",
   "metadata": {},
   "outputs": [],
   "source": [
    "Idents(treg_hpap)  <- treg_hpap$Disease"
   ]
  },
  {
   "cell_type": "code",
   "execution_count": null,
   "id": "7ec92671",
   "metadata": {},
   "outputs": [],
   "source": [
    "Mrk  <- FindAllMarkers(treg_hpap)"
   ]
  },
  {
   "cell_type": "code",
   "execution_count": null,
   "id": "05168536",
   "metadata": {
    "scrolled": true
   },
   "outputs": [],
   "source": [
    "Mrk  %>% filter(avg_log2FC > 0 & cluster == \"T1DM\")"
   ]
  },
  {
   "cell_type": "code",
   "execution_count": null,
   "id": "4f0beb72",
   "metadata": {},
   "outputs": [],
   "source": [
    "fc.seurat_object <- FindAllMarkers(treg_hpap, \n",
    "                          test.use = \"wilcox\", \n",
    "                          logfc.threshold = -Inf, min.pct = -Inf, min.diff.pct = -Inf,\n",
    "                                   only.pos = F,  \n",
    "                                   min.cells.feature = 1, return.thresh = 1)"
   ]
  },
  {
   "cell_type": "code",
   "execution_count": null,
   "id": "afd1c155",
   "metadata": {
    "scrolled": true
   },
   "outputs": [],
   "source": [
    "fc.seurat_object"
   ]
  },
  {
   "cell_type": "code",
   "execution_count": null,
   "id": "23eb937f",
   "metadata": {},
   "outputs": [],
   "source": [
    "fc.seurat_object  %>% dplyr::filter(gene == \"CIRBP\")"
   ]
  },
  {
   "cell_type": "code",
   "execution_count": null,
   "id": "87f68e18",
   "metadata": {
    "scrolled": true
   },
   "outputs": [],
   "source": [
    "# CD4L1\n",
    "fc.df  <- read_csv(\"../tables/fold_change/cd4_l1_full_filt.csv\")  %>% as.data.frame()\n",
    "fc.df  <- fc.df  %>%  arrange(desc(avg_log2FC)) %>% \n",
    "dplyr::filter(cluster == \"Dia\")  %>% \n",
    "  dplyr::select(gene, avg_log2FC)\n",
    "ranks<- deframe(fc.df)"
   ]
  },
  {
   "cell_type": "code",
   "execution_count": null,
   "id": "4c3fe714",
   "metadata": {},
   "outputs": [],
   "source": [
    "fc.df.lab48$gene  %>% duplicated  %>% table"
   ]
  },
  {
   "cell_type": "code",
   "execution_count": null,
   "id": "0e993fd1",
   "metadata": {
    "scrolled": true
   },
   "outputs": [],
   "source": [
    "fc.df.lab48  <- fc.df"
   ]
  },
  {
   "cell_type": "code",
   "execution_count": null,
   "id": "0a906108",
   "metadata": {
    "scrolled": true
   },
   "outputs": [],
   "source": [
    "fc.df.lab48$rank  <- 1:nrow(fc.df.lab48)"
   ]
  },
  {
   "cell_type": "code",
   "execution_count": null,
   "id": "63f0a107",
   "metadata": {
    "scrolled": true
   },
   "outputs": [],
   "source": [
    "fc.df.lab48"
   ]
  },
  {
   "cell_type": "code",
   "execution_count": null,
   "id": "ee371238",
   "metadata": {},
   "outputs": [],
   "source": [
    "fc.df.hpap$gene  %>% duplicated  %>% table"
   ]
  },
  {
   "cell_type": "code",
   "execution_count": null,
   "id": "7df68b68",
   "metadata": {
    "scrolled": true
   },
   "outputs": [],
   "source": [
    "fc.df.hpap  <-  fc.seurat_object %>%  arrange(desc(avg_log2FC)) %>% \n",
    "dplyr::filter(cluster == \"T1DM\")  %>% \n",
    "  dplyr::select(gene, avg_log2FC)"
   ]
  },
  {
   "cell_type": "code",
   "execution_count": null,
   "id": "936b64ce",
   "metadata": {},
   "outputs": [],
   "source": [
    "fc.seurat_object  %>% nrow"
   ]
  },
  {
   "cell_type": "code",
   "execution_count": null,
   "id": "e0de8ddc",
   "metadata": {},
   "outputs": [],
   "source": [
    "fc.df.hpap %>% nrow"
   ]
  },
  {
   "cell_type": "code",
   "execution_count": null,
   "id": "77c82ecb",
   "metadata": {
    "scrolled": true
   },
   "outputs": [],
   "source": [
    "fc.df.hpap$rank  <- 1:nrow(fc.df.hpap)"
   ]
  },
  {
   "cell_type": "code",
   "execution_count": null,
   "id": "8f09b258",
   "metadata": {},
   "outputs": [],
   "source": [
    "fc.df.hpap  <- fc.df.hpap  %>% transmute(gene = gene, HPAP_avg_log2FC = avg_log2FC,\n",
    "                                        HPAP_rank = rank)"
   ]
  },
  {
   "cell_type": "code",
   "execution_count": null,
   "id": "2b4e2036",
   "metadata": {
    "scrolled": true
   },
   "outputs": [],
   "source": [
    "fc.df.hpap"
   ]
  },
  {
   "cell_type": "code",
   "execution_count": null,
   "id": "fa581283",
   "metadata": {},
   "outputs": [],
   "source": []
  },
  {
   "cell_type": "code",
   "execution_count": null,
   "id": "25d9d209",
   "metadata": {},
   "outputs": [],
   "source": [
    "fc.df.both  <- left_join(fc.df.lab48, fc.df.hpap)"
   ]
  },
  {
   "cell_type": "code",
   "execution_count": null,
   "id": "9b91c9eb",
   "metadata": {
    "scrolled": true
   },
   "outputs": [],
   "source": [
    "fc.df.both"
   ]
  },
  {
   "cell_type": "code",
   "execution_count": null,
   "id": "eb30c3cb",
   "metadata": {},
   "outputs": [],
   "source": [
    "fc.df.both %>%  ggplot(aes(x=avg_log2FC, y=HPAP_avg_log2FC)) +\n",
    "  geom_point(shape = 16, size = 2) +\n",
    " geom_smooth(method=lm) + ggtitle(\"\") +stat_cor() + theme_classic() + ggtheme() +\n",
    " scale_y_continuous() + NoLegend() +\n",
    "geom_hline(yintercept = 1)"
   ]
  },
  {
   "cell_type": "code",
   "execution_count": null,
   "id": "391d68d1",
   "metadata": {
    "scrolled": true
   },
   "outputs": [],
   "source": [
    "fc.df.both %>% mutate(decile_hpap = ntile(HPAP_avg_log2FC, 10),\n",
    "                            decile_our = ntile(avg_log2FC, 10)\n",
    "                            )  %>% group_by(decile_hpap, decile_our)  %>% tally"
   ]
  },
  {
   "cell_type": "code",
   "execution_count": null,
   "id": "3bba0135",
   "metadata": {
    "scrolled": false
   },
   "outputs": [],
   "source": [
    "\n",
    "options(repr.plot.width = 6, repr.plot.height = 5)\n",
    "fc.df.both %>% mutate(decile_hpap = ntile(HPAP_avg_log2FC, 10),\n",
    "                            decile_our = ntile(avg_log2FC, 10)\n",
    "                            )  %>% group_by(decile_hpap, decile_our)  %>% tally  %>% \n",
    "ggplot(aes(decile_hpap, decile_our)) + \n",
    "  geom_point(aes(size = n, colour = n)) + \n",
    "  theme_bw() + scale_size_continuous(range=c(7,12)) +\n",
    "  geom_text(aes(label = n)) + \n",
    "  scale_colour_gradient2(low = \"lightskyblue\", mid = \"lightsteelblue2\", high = \"salmon\", midpoint = 2) +\n",
    "  theme_bw()\n"
   ]
  },
  {
   "cell_type": "code",
   "execution_count": null,
   "id": "421a1719",
   "metadata": {},
   "outputs": [],
   "source": [
    "DimPlot(treg_hpap)"
   ]
  },
  {
   "cell_type": "code",
   "execution_count": null,
   "id": "340a0a60",
   "metadata": {},
   "outputs": [],
   "source": []
  },
  {
   "cell_type": "code",
   "execution_count": null,
   "id": "59e74ceb",
   "metadata": {},
   "outputs": [],
   "source": []
  },
  {
   "cell_type": "code",
   "execution_count": null,
   "id": "f80c37fd",
   "metadata": {},
   "outputs": [],
   "source": [
    "colnames(treg_hpap@meta.data)"
   ]
  },
  {
   "cell_type": "code",
   "execution_count": null,
   "id": "260dd5a0",
   "metadata": {
    "scrolled": true
   },
   "outputs": [],
   "source": [
    "treg_hpap$Tissue  %>% table"
   ]
  },
  {
   "cell_type": "code",
   "execution_count": null,
   "id": "2e18d8d4",
   "metadata": {},
   "outputs": [],
   "source": [
    "treg_hpap$Patient_ID  <- substr(treg_hpap$Patient_ID,1,7)"
   ]
  },
  {
   "cell_type": "code",
   "execution_count": null,
   "id": "f4ea7628",
   "metadata": {},
   "outputs": [],
   "source": [
    "treg_hpap$Patient_ID   %>% table"
   ]
  },
  {
   "cell_type": "code",
   "execution_count": null,
   "id": "ed6461df",
   "metadata": {},
   "outputs": [],
   "source": [
    "treg_hpap$Sample_ID  <- paste(treg_hpap$Patient_ID, treg_hpap$Tissue)"
   ]
  },
  {
   "cell_type": "code",
   "execution_count": null,
   "id": "eceabc17",
   "metadata": {},
   "outputs": [],
   "source": [
    "md  <- treg_hpap@meta.data  %>% dplyr::select(Patient_ID, Sample_ID, Disease, Tissue)"
   ]
  },
  {
   "cell_type": "code",
   "execution_count": null,
   "id": "711d8999",
   "metadata": {},
   "outputs": [],
   "source": [
    "avgexp = AverageExpression(treg_hpap, features = c(\"LST1\", \"TNF\",\"LTA\",\n",
    "                                                     \"IL32\", \"BTN3A2\",\"BTN3A1\"),\n",
    "                           return.seurat = F, group.by = \"Sample_ID\", \n",
    "                          assay = \"RNA\")\n",
    "\n",
    "btn_etc  <- t(avgexp$RNA)  %>% as.data.frame()  %>% \n",
    "rownames_to_column(\"Sample_ID\")  %>% \n",
    "pivot_longer(!Sample_ID, names_to = \"gene\", values_to = \"expression\")   %>% \n",
    "left_join(md)"
   ]
  },
  {
   "cell_type": "code",
   "execution_count": null,
   "id": "3c5863d3",
   "metadata": {
    "scrolled": true
   },
   "outputs": [],
   "source": [
    "btn_etc"
   ]
  },
  {
   "cell_type": "code",
   "execution_count": null,
   "id": "5c3b289e",
   "metadata": {},
   "outputs": [],
   "source": [
    "options(repr.plot.width = 9.5, repr.plot.height = 10)\n",
    "\n",
    "btn_etc  %>%\n",
    "unique  %>% \n",
    "ggplot(aes(x = Disease,\n",
    "             y = expression)) +\n",
    "   geom_dotplot(binaxis='y', stackdir='center', dotsize = 0) + \n",
    "   geom_boxplot(outlier.shape = NA) +\n",
    "    geom_jitter(binaxis='y', position=position_jitter(width = 0.1, height = 0.01), \n",
    "                size = 2, stackdir='center', aes(color = Disease, shape = Tissue)) + \n",
    "    facet_wrap(~gene, scales = \"free\") +\n",
    "  theme_classic() + xlab(\"\") +  \n",
    " xlab(\"\") + ylab(\"Value\") +\n",
    "   scale_y_continuous(expand = expansion(mult = c(0, 0.1))) +\n",
    "  ggpubr::stat_compare_means(label.x = 1.2, label.y.npc = \"top\", size = 5, vjust = 0.3, label = \"p.format\") + \n",
    "      theme(plot.title = element_text(hjust = 0.5, size = 18),\n",
    "          axis.line = element_line(colour = \"black\"), \n",
    "        axis.ticks = element_line(colour = \"black\")) +\n",
    "  ylim(0,NA) + ggtitle(\"Avg Expression by HLA CD4 T cells\")"
   ]
  },
  {
   "cell_type": "code",
   "execution_count": null,
   "id": "373be85c",
   "metadata": {},
   "outputs": [],
   "source": [
    "treg_hpap$Patient_ID  %>% table"
   ]
  },
  {
   "cell_type": "code",
   "execution_count": null,
   "id": "baa29530",
   "metadata": {},
   "outputs": [],
   "source": [
    "hla  <- read_xlsx(\"../data/published_data/HPAP/HPAP_HLA.xlsx\")"
   ]
  },
  {
   "cell_type": "code",
   "execution_count": null,
   "id": "12ea1d99",
   "metadata": {},
   "outputs": [],
   "source": [
    "hla$Patient_ID  <- gsub(hla$donor_ID, pattern = \"-\", replacement = \"\")"
   ]
  },
  {
   "cell_type": "code",
   "execution_count": null,
   "id": "45cf282d",
   "metadata": {},
   "outputs": [],
   "source": [
    "hla2  <- hla  %>% dplyr::filter(Patient_ID %in% treg_hpap$Patient_ID)  %>% \n",
    "dplyr::filter(assay_type == \"NGS\")  %>% \n",
    "pivot_longer(cols = starts_with(\"allele\"), \n",
    "                        names_to = \"allele\", \n",
    "                        values_to = \"value\")  %>% \n",
    "mutate(locus2 = paste0(locus, substr(allele,8,8)))  %>% \n",
    "dplyr::select(locus2, Patient_ID, value)  %>% \n",
    "pivot_wider(names_from = locus2, values_from = value)  "
   ]
  },
  {
   "cell_type": "code",
   "execution_count": null,
   "id": "0cdd1c51",
   "metadata": {},
   "outputs": [],
   "source": [
    "hla2  %>% colnames"
   ]
  },
  {
   "cell_type": "code",
   "execution_count": null,
   "id": "dcc3516d",
   "metadata": {},
   "outputs": [],
   "source": [
    "hla2  <- hla2 %>% dplyr::select(1:7,12:17)  %>% mutate(dq2 = ifelse((DQA11 == \"05:01\" | DQA12 == \"05:01\") &\n",
    "                                   (DQB11 == \"02:01\" | DQB12 == \"02:01\"),\"DQ2\",\n",
    "                                   \"Other\"),\n",
    "                      dq8 = ifelse((DQA11 == \"03:01\" | DQA12 == \"03:01\") &\n",
    "                                   (DQB11 == \"03:02\" | DQB12 == \"03:02\"),\"DQ8\",\n",
    "                                   \"Other\"))  %>% mutate(\n",
    "                      dq2_8 = ifelse(dq2 == \"DQ2\" & dq8 == \"DQ8\",\"DQ2_8\",\n",
    "                                     ifelse(dq2 == \"DQ2\",\"DQ2\", ifelse(dq8 == \"DQ8\",\"DQ8\",\"Other\"))))  %>% \n",
    "mutate(c7_01 = ifelse((C1 == \"07:01\" & C2 == \"07:01\"), \"c7_01_hom\",\n",
    "                                   ifelse(C1 == \"07:01\" | C2 == \"07:01\",\"c7_01_het\",\n",
    "                                   \"Other\")),\n",
    "                      b8_01 = ifelse((B1 == \"08:01\" & B2 == \"08:01\"), \"b8_01_hom\",\n",
    "                                   ifelse(B1 == \"08:01\" | B2 == \"08:01\",\"b8_01_het\",\n",
    "                                   \"Other\")))   %>% mutate(\n",
    "                      c7_b8 = ifelse(b8_01 == \"b8_01_hom\" & c7_01 == \"c7_01_hom\",\n",
    "                                     \"c7_b8_hom\", ifelse(c7_01 == \"c7_01_hom\", \"c7_01_hom\",\n",
    "                              ifelse(b8_01 == \"b8_01_hom\", \"b8_01_hom\", \n",
    "                              ifelse(b8_01 == \"b8_01_het\" & c7_01 == \"c7_01_het\",\n",
    "                                     \"c7_b8_het\", \n",
    "                                     \n",
    "                              ifelse(b8_01 == \"b8_01_het\", \"b8_01_het\", \n",
    "                              ifelse(c7_01 == \"c7_01_het\", \"c7_01_het\", \"Other\" )))))))\n"
   ]
  },
  {
   "cell_type": "code",
   "execution_count": null,
   "id": "0a9f9d94",
   "metadata": {},
   "outputs": [],
   "source": [
    "md  <- left_join(md, hla2)"
   ]
  },
  {
   "cell_type": "code",
   "execution_count": null,
   "id": "88645528",
   "metadata": {},
   "outputs": [],
   "source": [
    "btn_etc  <- t(avgexp$RNA)  %>% as.data.frame()  %>% \n",
    "rownames_to_column(\"Sample_ID\")  %>% \n",
    "pivot_longer(!Sample_ID, names_to = \"gene\", values_to = \"expression\")   %>% \n",
    "left_join(md)"
   ]
  },
  {
   "cell_type": "code",
   "execution_count": null,
   "id": "84470dde",
   "metadata": {},
   "outputs": [],
   "source": [
    "btn_etc"
   ]
  },
  {
   "cell_type": "code",
   "execution_count": null,
   "id": "6da5c9ec",
   "metadata": {
    "scrolled": true
   },
   "outputs": [],
   "source": [
    "options(repr.plot.width = 9.5, repr.plot.height = 10)\n",
    "\n",
    "btn_etc  %>%\n",
    "group_by(Patient_ID, dq2_8, Disease, gene)  %>% \n",
    "summarise(expression = mean(expression))  %>% \n",
    "unique  %>% \n",
    "ggplot(aes(x = dq2_8,\n",
    "             y = expression)) +\n",
    "   geom_dotplot(binaxis='y', stackdir='center', dotsize = 0) + \n",
    "   geom_boxplot(outlier.shape = NA) +\n",
    "    geom_jitter(binaxis='y', position=position_jitter(width = 0.1, height = 0.01), \n",
    "                size = 2, stackdir='center', aes(color = Disease)) + \n",
    "    facet_wrap(~gene, scales = \"free\") +\n",
    "  theme_classic() + xlab(\"\") +  \n",
    " xlab(\"\") + ylab(\"Value\") +\n",
    "   scale_y_continuous(expand = expansion(mult = c(0, 0.1))) +\n",
    "  ggpubr::stat_compare_means(label.x = 1.2, label.y.npc = \"top\", size = 5, vjust = 0.3, label = \"p.format\") + \n",
    "      theme(plot.title = element_text(hjust = 0.5, size = 18),\n",
    "          axis.line = element_line(colour = \"black\"), \n",
    "        axis.ticks = element_line(colour = \"black\")) +\n",
    "  ylim(0,NA) + ggtitle(\"Avg Expression by HLA CD4 T cells\")"
   ]
  },
  {
   "cell_type": "code",
   "execution_count": null,
   "id": "87fd57f3",
   "metadata": {},
   "outputs": [],
   "source": [
    "options(repr.plot.width = 5, repr.plot.height = 4)\n",
    "\n",
    "btn_etc  %>%\n",
    "dplyr::filter(gene == \"BTN3A2\")  %>% \n",
    "group_by(Patient_ID, dq2_8, Disease, gene)  %>% \n",
    "summarise(expression = mean(expression))  %>% \n",
    "unique  %>% \n",
    "ggplot(aes(x = dq2_8,\n",
    "             y = expression)) +\n",
    "   geom_dotplot(binaxis='y', stackdir='center', dotsize = 0) + \n",
    "   geom_boxplot(outlier.shape = NA) +\n",
    "    geom_jitter(binaxis='y', position=position_jitter(width = 0.1, height = 0.01), \n",
    "                size = 2, stackdir='center', aes(color = Disease)) + \n",
    "    facet_wrap(~gene, scales = \"free\") +\n",
    "  theme_classic() + xlab(\"\") +  \n",
    " xlab(\"\") + ylab(\"Value\") +\n",
    "   scale_y_continuous(expand = expansion(mult = c(0, 0.1))) +\n",
    "  ggpubr::stat_compare_means(label.x = 1.2, label.y.npc = \"top\", size = 5, vjust = 0.3, label = \"p.format\") + \n",
    "      theme(plot.title = element_text(hjust = 0.5, size = 18),\n",
    "          axis.line = element_line(colour = \"black\"), \n",
    "        axis.ticks = element_line(colour = \"black\")) +\n",
    "  ylim(0,NA) + ggtitle(\"Avg Expression HPAP Treg\")"
   ]
  },
  {
   "cell_type": "code",
   "execution_count": null,
   "id": "4ed1d7b3",
   "metadata": {},
   "outputs": [],
   "source": [
    "btn_etc  %>%\n",
    "unique  %>% \n",
    "ggplot(aes(x = c7_b8,\n",
    "             y = expression)) +\n",
    "   geom_dotplot(binaxis='y', stackdir='center', dotsize = 0) + \n",
    "   geom_boxplot(outlier.shape = NA) +\n",
    "    geom_jitter(binaxis='y', position=position_jitter(width = 0.1, height = 0.01), \n",
    "                size = 2, stackdir='center', aes(color = Disease, shape = Tissue)) + \n",
    "    facet_wrap(~gene, scales = \"free\") +\n",
    "  theme_classic() + xlab(\"\") +  \n",
    " xlab(\"\") + ylab(\"Value\") +\n",
    "   scale_y_continuous(expand = expansion(mult = c(0, 0.1))) +\n",
    "  ggpubr::stat_compare_means(label.x = 1.2, label.y.npc = \"top\", size = 5, vjust = 0.3, label = \"p.format\") + \n",
    "      theme(plot.title = element_text(hjust = 0.5, size = 18),\n",
    "          axis.line = element_line(colour = \"black\"), \n",
    "        axis.ticks = element_line(colour = \"black\")) +\n",
    "  ylim(0,NA) + ggtitle(\"Avg Expression by HLA CD4 T cells\")"
   ]
  },
  {
   "cell_type": "code",
   "execution_count": null,
   "id": "b08444e0",
   "metadata": {},
   "outputs": [],
   "source": [
    "btn_etc  %>%\n",
    "unique  %>% \n",
    "dplyr::filter(gene == \"BTN3A2\")  %>% \n",
    "ggplot(aes(x = c7_b8,\n",
    "             y = expression)) +\n",
    "   geom_dotplot(binaxis='y', stackdir='center', dotsize = 0) + \n",
    "   geom_boxplot(outlier.shape = NA) +\n",
    "    geom_jitter(binaxis='y', position=position_jitter(width = 0.1, height = 0.01), \n",
    "                size = 2, stackdir='center', aes(color = Disease, shape = Tissue)) + \n",
    "    facet_wrap(~gene, scales = \"free\") +\n",
    "  theme_classic() + xlab(\"\") +  \n",
    " xlab(\"\") + ylab(\"Value\") +\n",
    "   scale_y_continuous(expand = expansion(mult = c(0, 0.1))) +\n",
    "  ggpubr::stat_compare_means(label.x = 1.2, label.y.npc = \"top\", size = 5, vjust = 0.3, label = \"p.format\") + \n",
    "      theme(plot.title = element_text(hjust = 0.5, size = 18),\n",
    "          axis.line = element_line(colour = \"black\"), \n",
    "        axis.ticks = element_line(colour = \"black\")) +\n",
    "  ylim(0,NA) + ggtitle(\"Avg Expression by HLA CD4 T cells\")"
   ]
  },
  {
   "cell_type": "markdown",
   "id": "b8fea271",
   "metadata": {},
   "source": [
    "# Treg Schumann 2020"
   ]
  },
  {
   "cell_type": "code",
   "execution_count": null,
   "id": "d5e2ba9f",
   "metadata": {
    "scrolled": true
   },
   "outputs": [],
   "source": [
    "library(data.table)"
   ]
  },
  {
   "cell_type": "code",
   "execution_count": null,
   "id": "5bd8ba58",
   "metadata": {},
   "outputs": [],
   "source": [
    "schumann  <- fread(\"../data/published_data/Schumann_2020/exprs_mat_raw.csv.gz\")  %>% as.data.frame()"
   ]
  },
  {
   "cell_type": "code",
   "execution_count": null,
   "id": "6a61bddb",
   "metadata": {},
   "outputs": [],
   "source": [
    "schumann[10000:10009,1:5]"
   ]
  },
  {
   "cell_type": "code",
   "execution_count": null,
   "id": "3de1e68a",
   "metadata": {},
   "outputs": [],
   "source": [
    "rownames(schumann)  <- schumann$V1"
   ]
  },
  {
   "cell_type": "code",
   "execution_count": null,
   "id": "303679e4",
   "metadata": {},
   "outputs": [],
   "source": [
    "schumann$V1  <- NULL"
   ]
  },
  {
   "cell_type": "code",
   "execution_count": null,
   "id": "fb5204aa",
   "metadata": {},
   "outputs": [],
   "source": [
    "rownames(schumann[10000:10009,1:5])"
   ]
  },
  {
   "cell_type": "code",
   "execution_count": null,
   "id": "cb2ab441",
   "metadata": {},
   "outputs": [],
   "source": [
    "schumann_seu <- CreateSeuratObject(schumann, min.cells = 3, min.features = 200)\n",
    "  schumann_seu[[\"percent.mt\"]] <- PercentageFeatureSet(schumann_seu, pattern = \"^MT-\")\n",
    "  schumann_seu[[\"percent.rt\"]] <- PercentageFeatureSet(schumann_seu, pattern = \"^RP[LS]\")"
   ]
  },
  {
   "cell_type": "code",
   "execution_count": null,
   "id": "f54ed7d1",
   "metadata": {},
   "outputs": [],
   "source": [
    "  # Remove TRAV, TRBV, mito and ribo genes\n",
    "  seu_annots <- schumann_seu@meta.data\n",
    "  seu_counts <- schumann[!grepl('TR[AB]V|MT-|RP[LS]|\\\\.\\\\d', rownames(schumann_seu)),]\n",
    "\n",
    "  seu <- CreateSeuratObject(counts = seu_counts, \n",
    "                          project = \"seu\", \n",
    "                          min.cells = 3, \n",
    "                          min.features = 200, \n",
    "                          meta.data = seu_annots)"
   ]
  },
  {
   "cell_type": "code",
   "execution_count": null,
   "id": "9863e077",
   "metadata": {},
   "outputs": [],
   "source": []
  },
  {
   "cell_type": "code",
   "execution_count": null,
   "id": "87d3de9b",
   "metadata": {},
   "outputs": [],
   "source": [
    "plan(\"sequential\")"
   ]
  },
  {
   "cell_type": "code",
   "execution_count": null,
   "id": "a60babd4",
   "metadata": {
    "scrolled": true
   },
   "outputs": [],
   "source": [
    "  seu <- NormalizeData(object = seu)\n",
    "  seu <- ScaleData(seu, verbose = FALSE)\n",
    "  seu <- FindVariableFeatures(seu, selection.method = \"vst\", nfeatures = 1000, \n",
    "                                       verbose = FALSE)\n",
    "  seu <- RunPCA(seu, npcs = 20, verbose = FALSE)\n",
    "  seu <- RunUMAP(seu, reduction = \"pca\", dims = 1:20)\n",
    "  seu <- FindNeighbors(seu, dims = 1:20)\n",
    "  seu <- FindClusters(seu, resolution = 0.9)"
   ]
  },
  {
   "cell_type": "code",
   "execution_count": null,
   "id": "1e9d5e43",
   "metadata": {},
   "outputs": [],
   "source": [
    "DimPlot(seu)"
   ]
  },
  {
   "cell_type": "code",
   "execution_count": null,
   "id": "162c531e",
   "metadata": {},
   "outputs": [],
   "source": [
    "saveRDS(seu, \"../data/published_data/Schumann_2020/schumann_treg.rds\")"
   ]
  },
  {
   "cell_type": "code",
   "execution_count": null,
   "id": "b5b3a33e",
   "metadata": {},
   "outputs": [],
   "source": []
  },
  {
   "cell_type": "code",
   "execution_count": null,
   "id": "62dc3c4f",
   "metadata": {},
   "outputs": [],
   "source": [
    "DimPlot(seu, group.by = \"donor\")"
   ]
  },
  {
   "cell_type": "code",
   "execution_count": null,
   "id": "5a65cbaf",
   "metadata": {},
   "outputs": [],
   "source": []
  },
  {
   "cell_type": "code",
   "execution_count": null,
   "id": "8e43bdba",
   "metadata": {},
   "outputs": [],
   "source": []
  },
  {
   "cell_type": "markdown",
   "id": "45877b83",
   "metadata": {},
   "source": [
    "## Add metadata"
   ]
  },
  {
   "cell_type": "code",
   "execution_count": null,
   "id": "3d6ff8b6",
   "metadata": {},
   "outputs": [],
   "source": [
    "md_schumann  <- read_csv(\"../data/published_data/Schumann_2020/mat_metadata.csv\")"
   ]
  },
  {
   "cell_type": "code",
   "execution_count": null,
   "id": "fc467e02",
   "metadata": {},
   "outputs": [],
   "source": [
    "colnames(md_schumann)[1]  <- \"barcode\""
   ]
  },
  {
   "cell_type": "code",
   "execution_count": null,
   "id": "33f14b97",
   "metadata": {},
   "outputs": [],
   "source": [
    "seu$barcode  <- colnames(seu)"
   ]
  },
  {
   "cell_type": "code",
   "execution_count": null,
   "id": "733c1eeb",
   "metadata": {},
   "outputs": [],
   "source": [
    "md_schumann$barcode %in% seu$barcode  %>% table"
   ]
  },
  {
   "cell_type": "code",
   "execution_count": null,
   "id": "5e06b1b5",
   "metadata": {},
   "outputs": [],
   "source": [
    "md  <- seu@meta.data"
   ]
  },
  {
   "cell_type": "code",
   "execution_count": null,
   "id": "78476823",
   "metadata": {},
   "outputs": [],
   "source": [
    "md_schumann$orig.ident  <-  NULL\n",
    "md_schumann$nCount_RNA <-  NULL\n",
    "md_schumann$nFeature_RNA <-  NULL"
   ]
  },
  {
   "cell_type": "code",
   "execution_count": null,
   "id": "65208d2a",
   "metadata": {},
   "outputs": [],
   "source": [
    "md  <- left_join(md, md_schumann)"
   ]
  },
  {
   "cell_type": "code",
   "execution_count": null,
   "id": "eaa66dbc",
   "metadata": {},
   "outputs": [],
   "source": [
    "seu_backup  <- seu"
   ]
  },
  {
   "cell_type": "code",
   "execution_count": null,
   "id": "5288525e",
   "metadata": {},
   "outputs": [],
   "source": [
    "seu@meta.data  <- md\n",
    "rownames(seu@meta.data)  <- colnames(seu)"
   ]
  },
  {
   "cell_type": "code",
   "execution_count": null,
   "id": "481f2b3d",
   "metadata": {},
   "outputs": [],
   "source": [
    "colnames(seu@meta.data)"
   ]
  },
  {
   "cell_type": "code",
   "execution_count": null,
   "id": "5e723d97",
   "metadata": {},
   "outputs": [],
   "source": [
    "DimPlot(seu, group.by = \"ClusterNames_0.45\")"
   ]
  },
  {
   "cell_type": "code",
   "execution_count": null,
   "id": "cb6adb01",
   "metadata": {},
   "outputs": [],
   "source": [
    "DimPlot(seu, group.by = \"KO\")"
   ]
  },
  {
   "cell_type": "code",
   "execution_count": null,
   "id": "b0ba4524",
   "metadata": {},
   "outputs": [],
   "source": [
    "DimPlot(seu, group.by = \"donor\")"
   ]
  },
  {
   "cell_type": "code",
   "execution_count": null,
   "id": "97945aba",
   "metadata": {},
   "outputs": [],
   "source": [
    "DimPlot(seu, group.by = \"stim\")"
   ]
  },
  {
   "cell_type": "code",
   "execution_count": null,
   "id": "a21dce89",
   "metadata": {
    "scrolled": true
   },
   "outputs": [],
   "source": [
    "FeaturePlot(seu, features = \"CD4\")\n",
    "FeaturePlot(seu, features = \"CD3D\")\n",
    "FeaturePlot(seu, features = \"FOXP3\")\n",
    "FeaturePlot(seu, features = \"KLRG1\")\n",
    "FeaturePlot(seu, features = \"CD226\")"
   ]
  },
  {
   "cell_type": "code",
   "execution_count": null,
   "id": "42213c58",
   "metadata": {},
   "outputs": [],
   "source": [
    "FeaturePlot(seu, features = \"TCF7\")"
   ]
  },
  {
   "cell_type": "code",
   "execution_count": null,
   "id": "99673d9a",
   "metadata": {},
   "outputs": [],
   "source": [
    "FeaturePlot(seu, features = \"GZMK\")"
   ]
  },
  {
   "cell_type": "code",
   "execution_count": null,
   "id": "410f4b82",
   "metadata": {},
   "outputs": [],
   "source": []
  },
  {
   "cell_type": "code",
   "execution_count": null,
   "id": "e4bc6927",
   "metadata": {},
   "outputs": [],
   "source": [
    "  seu <- FindClusters(seu, resolution = 0.4)\n",
    "DimPlot(seu, label = T)"
   ]
  },
  {
   "cell_type": "code",
   "execution_count": null,
   "id": "4d202f3f",
   "metadata": {},
   "outputs": [],
   "source": [
    "mrk9  <- FindAllMarkers(seu, logfc.threshold = log(2))"
   ]
  },
  {
   "cell_type": "code",
   "execution_count": null,
   "id": "f5baf9e5",
   "metadata": {},
   "outputs": [],
   "source": [
    "FeaturePlot(seu, features = \"USP18\")"
   ]
  },
  {
   "cell_type": "code",
   "execution_count": null,
   "id": "cbc4b33c",
   "metadata": {
    "scrolled": true
   },
   "outputs": [],
   "source": [
    "mrk9  %>% filter(cluster == 9)"
   ]
  },
  {
   "cell_type": "code",
   "execution_count": null,
   "id": "e93d0fd2",
   "metadata": {},
   "outputs": [],
   "source": [
    "seu$pop  %>% table"
   ]
  },
  {
   "cell_type": "code",
   "execution_count": null,
   "id": "e5fe335f",
   "metadata": {},
   "outputs": [],
   "source": [
    "DimPlot(seu, label = T, group.by = \"pop\")"
   ]
  },
  {
   "cell_type": "code",
   "execution_count": null,
   "id": "626f4f76",
   "metadata": {},
   "outputs": [],
   "source": [
    "seu$KO  %>% table"
   ]
  },
  {
   "cell_type": "code",
   "execution_count": null,
   "id": "b3fc9584",
   "metadata": {
    "scrolled": true
   },
   "outputs": [],
   "source": [
    "for(i in c(1,3:11)){\n",
    "    sub_seu  <- subset(seu, KO %in% c(\"ctrl\", levels(factor(seu$KO))[i]))\n",
    "    Idents(sub_seu)  <- sub_seu$KO\n",
    "    mrk  <- FindAllMarkers(sub_seu)\n",
    "    mrk$knockout  <- levels(factor(seu$KO))[i]\n",
    "    if(i>1){\n",
    "        df_all  <- rbind(df_all, mrk)\n",
    "    } else {\n",
    "        df_all = mrk\n",
    "    }\n",
    "}"
   ]
  },
  {
   "cell_type": "code",
   "execution_count": null,
   "id": "9e46afb5",
   "metadata": {},
   "outputs": [],
   "source": []
  },
  {
   "cell_type": "code",
   "execution_count": null,
   "id": "ac2a66fd",
   "metadata": {},
   "outputs": [],
   "source": [
    "write.csv(df_all, \"../data/published_data/Schumann_2020/ko_DE_genes.csv\")"
   ]
  },
  {
   "cell_type": "code",
   "execution_count": null,
   "id": "15d7d034",
   "metadata": {},
   "outputs": [],
   "source": [
    "plan(\"multisession\", workers = 4)"
   ]
  },
  {
   "cell_type": "markdown",
   "id": "630156f1",
   "metadata": {},
   "source": [
    "## Heatmap Schumann Conditions"
   ]
  },
  {
   "cell_type": "code",
   "execution_count": null,
   "id": "27e1db8b",
   "metadata": {},
   "outputs": [],
   "source": [
    "seu_unstim  <- subset(seu, stim == \"unstim\")"
   ]
  },
  {
   "cell_type": "code",
   "execution_count": null,
   "id": "a89a4958",
   "metadata": {},
   "outputs": [],
   "source": [
    "seu_unstim <- NormalizeData(object = seu_unstim)\n",
    "  seu_unstim <- ScaleData(seu_unstim, verbose = FALSE)\n",
    "  seu_unstim <- FindVariableFeatures(seu_unstim, selection.method = \"vst\", nfeatures = 1000, \n",
    "                                       verbose = FALSE)\n",
    "  seu_unstim <- RunPCA(seu_unstim, npcs = 20, verbose = FALSE)"
   ]
  },
  {
   "cell_type": "code",
   "execution_count": null,
   "id": "214753cd",
   "metadata": {
    "scrolled": true
   },
   "outputs": [],
   "source": [
    "  seu_unstim <- RunUMAP(seu_unstim, reduction = \"pca\", dims = 1:10)\n",
    "  seu_unstim <- FindNeighbors(seu_unstim, dims = 1:10)"
   ]
  },
  {
   "cell_type": "code",
   "execution_count": null,
   "id": "b9616f98",
   "metadata": {
    "scrolled": true
   },
   "outputs": [],
   "source": [
    "  seu_unstim <- FindClusters(seu_unstim, resolution = 0.5)"
   ]
  },
  {
   "cell_type": "code",
   "execution_count": null,
   "id": "9b6499fa",
   "metadata": {},
   "outputs": [],
   "source": [
    "FeaturePlot(seu_unstim, features = \"TCF7\")\n",
    "FeaturePlot(seu_unstim, features = \"LAG3\")\n",
    "FeaturePlot(seu_unstim, features = \"GZMK\")\n",
    "FeaturePlot(seu_unstim, features = \"FOXP3\")\n",
    "FeaturePlot(seu_unstim, features = \"KLRG1\")\n",
    "FeaturePlot(seu_unstim, features = \"CD226\")"
   ]
  },
  {
   "cell_type": "code",
   "execution_count": null,
   "id": "d1a35928",
   "metadata": {},
   "outputs": [],
   "source": [
    "DimPlot(seu_unstim, label = T)"
   ]
  },
  {
   "cell_type": "code",
   "execution_count": null,
   "id": "17e66f37",
   "metadata": {},
   "outputs": [],
   "source": [
    "DimPlot(seu_unstim, group.by = \"seurat_clusters\", split.by = \"KO\", ncol = 5)"
   ]
  },
  {
   "cell_type": "code",
   "execution_count": null,
   "id": "41718902",
   "metadata": {},
   "outputs": [],
   "source": [
    "DimPlot(seu_unstim, group.by = \"donor\")"
   ]
  },
  {
   "cell_type": "code",
   "execution_count": null,
   "id": "92e9e487",
   "metadata": {},
   "outputs": [],
   "source": [
    "seu_unstim$source  <- paste(seu_unstim$donor, seu_unstim$KO)"
   ]
  },
  {
   "cell_type": "code",
   "execution_count": null,
   "id": "ad20880e",
   "metadata": {},
   "outputs": [],
   "source": [
    "seu_unstim$source  %>% table"
   ]
  },
  {
   "cell_type": "code",
   "execution_count": null,
   "id": "6c882fe1",
   "metadata": {},
   "outputs": [],
   "source": [
    "options(repr.plot.width = 12, repr.plot.height = 10)\n",
    "\n",
    "seurat_meta_data <- seu_unstim@meta.data\n",
    "seurat_meta_data$sample  <- seurat_meta_data$source\n",
    "\n",
    "# Create grouped dataframe, calculate the frequencies of clusters\n",
    "df4 <- seurat_meta_data %>% group_by(sample, seurat_clusters) %>% \n",
    "  summarise(n = n()) %>% \n",
    "  unique() %>% \n",
    "  mutate(freq = n / sum(n)) \n",
    "\n",
    "\n",
    "# As we've lost non-grouping variables, let's join them back\n",
    "md_to_join <- seurat_meta_data %>% dplyr::select(sample, donor, pop, KO) %>% unique()\n",
    "df4  <- left_join(df4, md_to_join, by = \"sample\")\n",
    "\n",
    "# The final plot\n",
    "\n",
    "df4 %>% ggplot(aes(x = KO, y = freq)) + # you can change the x to whatever variable you're interested in\n",
    "  geom_boxplot(outlier.shape = NA) + \n",
    "  geom_dotplot(binaxis='y', stackdir='center', dotsize=0) + \n",
    "  geom_jitter(position=position_jitter(0.2), size = 2, aes(color = KO)) + # in aes, you can also use shape or fill (for the shapes that allow it)\n",
    "  facet_wrap(~seurat_clusters, scales = \"free\") +\n",
    "  ylab(\"Frequency\") +\n",
    "  xlab(\"Condition\") +\n",
    "ggpubr::stat_compare_means() +\n",
    "  ylim(c(0,NA)) + # This ensures that our x axis starts at zero, but feel free to remove this line\n",
    "  theme_classic() +\n",
    "  theme(strip.background = element_blank(), panel.grid = element_blank())\n"
   ]
  },
  {
   "cell_type": "code",
   "execution_count": null,
   "id": "d0671027",
   "metadata": {},
   "outputs": [],
   "source": []
  },
  {
   "cell_type": "code",
   "execution_count": null,
   "id": "ed36ce71",
   "metadata": {},
   "outputs": [],
   "source": []
  },
  {
   "cell_type": "code",
   "execution_count": null,
   "id": "40b526d2",
   "metadata": {},
   "outputs": [],
   "source": [
    "avgexp = AverageExpression(seu_unstim, features = rev(str_to_upper(c(\n",
    "    \"CCR7\",\"TCF7\",\"LEF1\",\"SELL\",\"BTG1\",\"IL7R\",\"LAG3\",\"GZMK\",\"CD226\",\"HAVCR2\",\"PDCD1\",\n",
    "    \"STAT5A\",\"TIGIT\",\"IKZF2\",\"TNFRSF18\",\"ENTPD1\",\"IL2RB\",\"IL2RA\",\"TGFB1\",\"FOXP3\",\"TNFRSF9\",\"HLA-DPA1\",\"CTLA4\"\n",
    "    ))), return.seurat = F, \n",
    "                           group.by = \"seurat_clusters\", assays = \"RNA\")\n",
    "\n",
    "library(pheatmap)"
   ]
  },
  {
   "cell_type": "code",
   "execution_count": null,
   "id": "fcfda8d2",
   "metadata": {},
   "outputs": [],
   "source": [
    "options(repr.plot.width = 9, repr.plot.height = 5)\n",
    "pheatmap(t(avgexp$RNA), main = \"\", scale = \"column\", cluster_cols = T, cluster_rows = T,\n",
    "        color=colorRampPalette(c(\"dodgerblue\", \"grey95\", \"indianred2\"))(50), \n",
    "         border_color = \"white\", width = 9, height = 3.3,\n",
    "                  fontsize = 9)"
   ]
  },
  {
   "cell_type": "code",
   "execution_count": null,
   "id": "1abc9f15",
   "metadata": {},
   "outputs": [],
   "source": [
    "avgexp = AverageExpression(seu_unstim, features = rev(str_to_upper(c(\n",
    "    \"CCR7\",\"TCF7\",\"LEF1\",\"SELL\",\"BTG1\",\"IL7R\",\"LAG3\",\"GZMK\",\"CD226\",\"HAVCR2\",\"PDCD1\",\n",
    "    \"STAT5A\",\"TIGIT\",\"IKZF2\",\"TNFRSF18\",\"ENTPD1\",\"IL2RB\",\"IL2RA\",\"TGFB1\",\"FOXP3\",\"TNFRSF9\",\"HLA-DPA1\",\"CTLA4\"\n",
    "    ))), return.seurat = F, \n",
    "                           group.by = \"KO\", assays = \"RNA\")\n",
    "\n",
    "library(pheatmap)\n",
    "\n",
    "options(repr.plot.width = 9, repr.plot.height = 5)\n",
    "pheatmap(t(avgexp$RNA), main = \"\", scale = \"column\", cluster_cols = T, cluster_rows = T,\n",
    "        color=colorRampPalette(c(\"dodgerblue\", \"grey95\", \"indianred2\"))(50), \n",
    "         border_color = \"white\", width = 9, height = 3.3,\n",
    "                  fontsize = 9)"
   ]
  },
  {
   "cell_type": "markdown",
   "id": "8de30c94",
   "metadata": {},
   "source": [
    "## Mapping Treg1 onto TregKO"
   ]
  },
  {
   "cell_type": "code",
   "execution_count": null,
   "id": "a10bc4d3",
   "metadata": {},
   "outputs": [],
   "source": [
    "DimPlot(treg)"
   ]
  },
  {
   "cell_type": "code",
   "execution_count": null,
   "id": "db473d4e",
   "metadata": {},
   "outputs": [],
   "source": [
    "treg1  <- subset(treg, seurat_clusters == 2)"
   ]
  },
  {
   "cell_type": "code",
   "execution_count": null,
   "id": "b4467813",
   "metadata": {},
   "outputs": [],
   "source": [
    "DimPlot(treg1)"
   ]
  },
  {
   "cell_type": "code",
   "execution_count": null,
   "id": "859c234d",
   "metadata": {},
   "outputs": [],
   "source": [
    "library(ProjecTILs)"
   ]
  },
  {
   "cell_type": "code",
   "execution_count": null,
   "id": "9e2ae377",
   "metadata": {},
   "outputs": [],
   "source": [
    "ref.B <- make.reference(ref = seu_unstim, ndim = 10, recalculate.umap = FALSE,\n",
    "    annotation.column = \"seurat_clusters\")\n",
    "DimPlot(ref.B, label = T, repel = T, label.size = 4) + theme(aspect.ratio = 1)"
   ]
  },
  {
   "cell_type": "code",
   "execution_count": null,
   "id": "6b3e2b14",
   "metadata": {},
   "outputs": [],
   "source": [
    "DefaultAssay(treg1)  <- \"RNA\""
   ]
  },
  {
   "cell_type": "code",
   "execution_count": null,
   "id": "46895dbb",
   "metadata": {
    "scrolled": true
   },
   "outputs": [],
   "source": [
    "query <- treg1\n",
    "query.projected <- Run.ProjecTILs(query, ref = ref.B, filter.cell = F, skip.normalize = T)"
   ]
  },
  {
   "cell_type": "code",
   "execution_count": null,
   "id": "aad8bdd8",
   "metadata": {},
   "outputs": [],
   "source": [
    "a <- plot.projection(ref = ref.B, query = query.projected, linesize = 0.5) +\n",
    "    NoLegend() + ggtitle(\"Treg1 on TregKO map\")\n",
    "a"
   ]
  },
  {
   "cell_type": "code",
   "execution_count": null,
   "id": "722072b8",
   "metadata": {},
   "outputs": [],
   "source": [
    "DefaultAssay(treg)  <- \"RNA\"\n",
    "\n",
    "query <- treg\n",
    "query.projected <- Run.ProjecTILs(query, ref = ref.B, filter.cell = F, skip.normalize = T)\n",
    "\n",
    "a <- plot.projection(ref = ref.B, query = query.projected, linesize = 0.5) +\n",
    "    NoLegend() + ggtitle(\"Treg on TregKO map\")\n",
    "a"
   ]
  },
  {
   "cell_type": "markdown",
   "id": "b0e2d34a",
   "metadata": {},
   "source": [
    "### STACAS"
   ]
  },
  {
   "cell_type": "code",
   "execution_count": null,
   "id": "b031bee5",
   "metadata": {},
   "outputs": [],
   "source": [
    "treg$Study  <- \"Lab48\"\n",
    "seu_unstim$Study  <- \"Schumann\"\n",
    "merged.list1  <- SplitObject(treg, split.by = \"Experiment_ID\")\n",
    "merged.list2  <- SplitObject(seu_unstim, split.by = \"donor\")\n",
    "\n",
    "merged.list  <- append(merged.list1, merged.list2)\n",
    "\n",
    "merged.list <- lapply(X = merged.list, FUN = function(x) {\n",
    "    DefaultAssay(x)  <- \"RNA\"\n",
    "    x$barcode  <- colnames(x)\n",
    "    x <- NormalizeData(x)\n",
    "    x <- FindVariableFeatures(x, selection.method = \"vst\", nfeatures = 2000)\n",
    "})\n",
    "\n",
    "new_dia_experiment2 <- Run.STACAS(merged.list, dims = 1:12)\n",
    "new_dia_experiment2 <- RunUMAP(new_dia_experiment2, dims = 1:12) \n",
    "\n",
    "treg_integrated  <- new_dia_experiment2\n",
    "\n",
    "DimPlot(treg_integrated)"
   ]
  },
  {
   "cell_type": "code",
   "execution_count": null,
   "id": "885df15b",
   "metadata": {},
   "outputs": [],
   "source": [
    "DimPlot(treg_integrated, group.by = \"source\")"
   ]
  },
  {
   "cell_type": "code",
   "execution_count": null,
   "id": "80023469",
   "metadata": {},
   "outputs": [],
   "source": []
  },
  {
   "cell_type": "markdown",
   "id": "b2c1f978",
   "metadata": {},
   "source": [
    "## Seurat"
   ]
  },
  {
   "cell_type": "code",
   "execution_count": null,
   "id": "57ae0208",
   "metadata": {},
   "outputs": [],
   "source": [
    "# select features that are repeatedly variable across datasets for integration run PCA on each\n",
    "# dataset using these features\n",
    "features <- SelectIntegrationFeatures(object.list = merged.list)\n",
    "merged.list <- lapply(X = merged.list, FUN = function(x) {\n",
    "    x <- ScaleData(x, features = features, verbose = FALSE)\n",
    "    x <- RunPCA(x, features = features, verbose = FALSE)\n",
    "})"
   ]
  },
  {
   "cell_type": "code",
   "execution_count": null,
   "id": "a2ab9684",
   "metadata": {},
   "outputs": [],
   "source": [
    "immune.anchors <- FindIntegrationAnchors(object.list = merged.list, anchor.features = features, reduction = \"rpca\")"
   ]
  },
  {
   "cell_type": "code",
   "execution_count": null,
   "id": "23f3131a",
   "metadata": {},
   "outputs": [],
   "source": [
    "immune.anchors"
   ]
  },
  {
   "cell_type": "code",
   "execution_count": null,
   "id": "b8fd852e",
   "metadata": {
    "scrolled": true
   },
   "outputs": [],
   "source": [
    "# this command creates an 'integrated' data assay\n",
    "immune.combined <- IntegrateData(anchorset = immune.anchors, k.weight = 20)"
   ]
  },
  {
   "cell_type": "code",
   "execution_count": null,
   "id": "3682d614",
   "metadata": {},
   "outputs": [],
   "source": [
    "# Run the standard workflow for visualization and clustering\n",
    "immune.combined <- ScaleData(immune.combined, verbose = FALSE)"
   ]
  },
  {
   "cell_type": "code",
   "execution_count": null,
   "id": "f0616100",
   "metadata": {
    "scrolled": true
   },
   "outputs": [],
   "source": [
    "immune.combined <- RunPCA(immune.combined, npcs = 12, verbose = FALSE)\n",
    "immune.combined <- RunUMAP(immune.combined, reduction = \"pca\", dims = 1:12)"
   ]
  },
  {
   "cell_type": "code",
   "execution_count": null,
   "id": "7792f963",
   "metadata": {},
   "outputs": [],
   "source": [
    "options(repr.plot.width = 6)\n",
    "DimPlot(immune.combined)"
   ]
  },
  {
   "cell_type": "code",
   "execution_count": null,
   "id": "bacf161c",
   "metadata": {},
   "outputs": [],
   "source": [
    "DimPlot(immune.combined, group.by = \"source\")"
   ]
  },
  {
   "cell_type": "code",
   "execution_count": null,
   "id": "5446da99",
   "metadata": {},
   "outputs": [],
   "source": [
    "DimPlot(immune.combined, group.by = \"annotations_manual\")"
   ]
  },
  {
   "cell_type": "code",
   "execution_count": null,
   "id": "04a2cd76",
   "metadata": {},
   "outputs": [],
   "source": [
    "DimPlot(immune.combined, group.by = \"KO\")"
   ]
  },
  {
   "cell_type": "code",
   "execution_count": null,
   "id": "6f40922a",
   "metadata": {},
   "outputs": [],
   "source": [
    "options(repr.plot.width = 20, repr.plot.height = 6)\n",
    "\n",
    "DimPlot(immune.combined, group.by = \"annotations_manual\", split.by = \"annotations_manual\")"
   ]
  },
  {
   "cell_type": "markdown",
   "id": "27231695",
   "metadata": {},
   "source": [
    "## Foxp3 KO only"
   ]
  },
  {
   "cell_type": "code",
   "execution_count": null,
   "id": "136be90d",
   "metadata": {},
   "outputs": [],
   "source": [
    "foxp3_ko  <- subset(seu_unstim, KO == \"foxp3\")"
   ]
  },
  {
   "cell_type": "code",
   "execution_count": null,
   "id": "bd146c77",
   "metadata": {
    "scrolled": true
   },
   "outputs": [],
   "source": [
    "foxp3_ko <- NormalizeData(object = foxp3_ko)\n",
    "  foxp3_ko <- ScaleData(foxp3_ko, verbose = FALSE)\n",
    "  foxp3_ko <- FindVariableFeatures(foxp3_ko, selection.method = \"vst\", nfeatures = 1000, \n",
    "                                       verbose = FALSE)\n",
    "  foxp3_ko <- RunPCA(foxp3_ko, npcs = 20, verbose = FALSE)\n",
    "\n",
    "  foxp3_ko <- RunUMAP(foxp3_ko, reduction = \"pca\", dims = 1:10)\n",
    "  foxp3_ko <- FindNeighbors(foxp3_ko, dims = 1:10)\n",
    "\n",
    "  foxp3_ko <- FindClusters(foxp3_ko, resolution = 0.3)"
   ]
  },
  {
   "cell_type": "code",
   "execution_count": null,
   "id": "d366df5c",
   "metadata": {},
   "outputs": [],
   "source": [
    "DimPlot(foxp3_ko, label = T)"
   ]
  },
  {
   "cell_type": "code",
   "execution_count": null,
   "id": "02cfeedd",
   "metadata": {},
   "outputs": [],
   "source": [
    "FeaturePlot(foxp3_ko, features = \"TCF7\")\n",
    "FeaturePlot(foxp3_ko, features = \"LAG3\")\n",
    "FeaturePlot(foxp3_ko, features = \"GZMK\")\n",
    "FeaturePlot(foxp3_ko, features = \"FOXP3\")\n",
    "FeaturePlot(foxp3_ko, features = \"KLRG1\")\n",
    "FeaturePlot(foxp3_ko, features = \"CD226\")\n"
   ]
  },
  {
   "cell_type": "code",
   "execution_count": null,
   "id": "60676a99",
   "metadata": {},
   "outputs": [],
   "source": [
    "mrk  <- FindAllMarkers(foxp3_ko)"
   ]
  },
  {
   "cell_type": "markdown",
   "id": "20092624",
   "metadata": {},
   "source": [
    "### DE genes"
   ]
  },
  {
   "cell_type": "code",
   "execution_count": null,
   "id": "b2279622",
   "metadata": {},
   "outputs": [],
   "source": [
    "seu$stim  %>% table"
   ]
  },
  {
   "cell_type": "code",
   "execution_count": null,
   "id": "48ed9a5a",
   "metadata": {
    "scrolled": true
   },
   "outputs": [],
   "source": [
    "for(i in c(1,3:11)){\n",
    "    sub_seu  <- subset(seu, KO %in% c(\"ctrl\", levels(factor(seu$KO))[i]) & stim == \"unstim\")\n",
    "    Idents(sub_seu)  <- sub_seu$KO\n",
    "    mrk  <- FindAllMarkers(sub_seu)\n",
    "    mrk$knockout  <- levels(factor(seu$KO))[i]\n",
    "    mrk$stim  <- \"Unstim\"\n",
    "    if(i>1){\n",
    "        df_all  <- rbind(df_all, mrk)\n",
    "    } else {\n",
    "        df_all = mrk\n",
    "    }\n",
    "    \n",
    "    sub_seu  <- subset(seu, KO %in% c(\"ctrl\", levels(factor(seu$KO))[i]) & stim == \"IL12\")\n",
    "    Idents(sub_seu)  <- sub_seu$KO\n",
    "    mrk  <- FindAllMarkers(sub_seu)\n",
    "    mrk$knockout  <- levels(factor(seu$KO))[i]\n",
    "    mrk$stim  <- \"IL12\"\n",
    "    df_all  <- rbind(df_all, mrk)\n",
    "}"
   ]
  },
  {
   "cell_type": "code",
   "execution_count": null,
   "id": "995729a3",
   "metadata": {
    "scrolled": true
   },
   "outputs": [],
   "source": [
    "df_all"
   ]
  },
  {
   "cell_type": "code",
   "execution_count": null,
   "id": "b22e9256",
   "metadata": {},
   "outputs": [],
   "source": []
  },
  {
   "cell_type": "markdown",
   "id": "dac5e5c0",
   "metadata": {},
   "source": [
    "### Fold changes"
   ]
  },
  {
   "cell_type": "code",
   "execution_count": null,
   "id": "09001983",
   "metadata": {},
   "outputs": [],
   "source": [
    "options(future.globals.maxSize = 10000 * 1024^2)"
   ]
  },
  {
   "cell_type": "code",
   "execution_count": null,
   "id": "0fb6da18",
   "metadata": {
    "scrolled": true
   },
   "outputs": [],
   "source": [
    "for(i in c(1,3:11)){\n",
    "    sub_seu  <- subset(seu, KO %in% c(\"ctrl\", levels(factor(seu$KO))[i]))\n",
    "    Idents(sub_seu)  <- sub_seu$KO\n",
    "    mrk  <- FindAllMarkers(sub_seu, test.use = \"wilcox\", \n",
    "                          logfc.threshold = -Inf, min.pct = -Inf, min.diff.pct = -Inf,\n",
    "                                   only.pos = T,  \n",
    "                                   min.cells.feature = 1, return.thresh = 1)\n",
    "    mrk$knockout  <- levels(factor(seu$KO))[i]\n",
    "    if(i>1){\n",
    "        df_all_all  <- rbind(df_all_all, mrk)\n",
    "    } else {\n",
    "        df_all_all = mrk\n",
    "    }\n",
    "}"
   ]
  },
  {
   "cell_type": "code",
   "execution_count": null,
   "id": "c4ec45e0",
   "metadata": {},
   "outputs": [],
   "source": []
  },
  {
   "cell_type": "code",
   "execution_count": null,
   "id": "86c97253",
   "metadata": {
    "scrolled": true
   },
   "outputs": [],
   "source": [
    "df_all_all"
   ]
  },
  {
   "cell_type": "code",
   "execution_count": null,
   "id": "7b59dbe0",
   "metadata": {},
   "outputs": [],
   "source": [
    "write.csv(df_all_all, \"../data/published_data/Schumann_2020/ko_fold_changes.csv\")"
   ]
  },
  {
   "cell_type": "code",
   "execution_count": null,
   "id": "f656651b",
   "metadata": {},
   "outputs": [],
   "source": [
    "options(future.globals.maxSize = 10000 * 1024^2)"
   ]
  },
  {
   "cell_type": "code",
   "execution_count": null,
   "id": "a978469d",
   "metadata": {},
   "outputs": [],
   "source": [
    "sub_seu  <- subset(seu_unstim, KO %in% c(\"ctrl\", \"foxp3\"))\n",
    "    Idents(sub_seu)  <- sub_seu$KO\n",
    "    fc_foxp3_ko  <- FindAllMarkers(sub_seu, test.use = \"wilcox\", \n",
    "                          logfc.threshold = -Inf, min.pct = -Inf, min.diff.pct = -Inf,\n",
    "                                   only.pos = T,  \n",
    "                                   min.cells.feature = 1, return.thresh = 1)"
   ]
  },
  {
   "cell_type": "code",
   "execution_count": null,
   "id": "8424128a",
   "metadata": {
    "scrolled": true
   },
   "outputs": [],
   "source": [
    "fc_foxp3_ko"
   ]
  },
  {
   "cell_type": "code",
   "execution_count": null,
   "id": "ddeb448d",
   "metadata": {},
   "outputs": [],
   "source": [
    "write.csv(fc_foxp3_ko, \"../data/published_data/Schumann_2020/fc_foxp3_ko.csv\")"
   ]
  },
  {
   "cell_type": "code",
   "execution_count": null,
   "id": "a92278e3",
   "metadata": {},
   "outputs": [],
   "source": []
  },
  {
   "cell_type": "markdown",
   "id": "7afd0801",
   "metadata": {},
   "source": [
    "# Borna 2023"
   ]
  },
  {
   "cell_type": "code",
   "execution_count": null,
   "id": "79f97e42",
   "metadata": {},
   "outputs": [],
   "source": [
    "borna  <- readRDS(\"../../240617_VN_Diabetes_V06//data/published_data/Borna_2023/GSE247274_unstim.rds\")"
   ]
  },
  {
   "cell_type": "code",
   "execution_count": null,
   "id": "3e69ef3b",
   "metadata": {},
   "outputs": [],
   "source": [
    "DimPlot(borna)"
   ]
  },
  {
   "cell_type": "code",
   "execution_count": null,
   "id": "489bbfb6",
   "metadata": {},
   "outputs": [],
   "source": [
    "borna$status  %>% table"
   ]
  },
  {
   "cell_type": "code",
   "execution_count": null,
   "id": "021163c3",
   "metadata": {},
   "outputs": [],
   "source": [
    "borna$Gated_and_FOXP3  %>% table"
   ]
  },
  {
   "cell_type": "code",
   "execution_count": null,
   "id": "d28eea1c",
   "metadata": {},
   "outputs": [],
   "source": [
    "borna$cluster_names_mem  %>% table"
   ]
  },
  {
   "cell_type": "code",
   "execution_count": null,
   "id": "4d1577f8",
   "metadata": {},
   "outputs": [],
   "source": [
    "DimPlot(borna, group.by = \"status\")"
   ]
  },
  {
   "cell_type": "code",
   "execution_count": null,
   "id": "f8d5d50a",
   "metadata": {},
   "outputs": [],
   "source": [
    "FeaturePlot(borna, features = \"ISG15\")\n",
    "FeaturePlot(borna, features = \"CCR10\")\n",
    "FeaturePlot(borna, features = \"TNFRSF9\")"
   ]
  },
  {
   "cell_type": "code",
   "execution_count": null,
   "id": "f828130e",
   "metadata": {
    "scrolled": true
   },
   "outputs": [],
   "source": [
    "FeaturePlot(borna, features = \"TCF7\")\n",
    "FeaturePlot(borna, features = \"LAG3\")\n",
    "FeaturePlot(borna, features = \"GZMK\")\n",
    "FeaturePlot(borna, features = \"FOXP3\")\n",
    "FeaturePlot(borna, features = \"KLRG1\")\n",
    "FeaturePlot(borna, features = \"CD226\")"
   ]
  },
  {
   "cell_type": "code",
   "execution_count": null,
   "id": "22056285",
   "metadata": {},
   "outputs": [],
   "source": [
    "borna_treg  <- subset(borna, cluster_names_mem %in% c(\"Treg memory 2\", \"Treg memory 1\", \"Treg naive\"))"
   ]
  },
  {
   "cell_type": "code",
   "execution_count": null,
   "id": "e04efa06",
   "metadata": {},
   "outputs": [],
   "source": [
    "Idents(borna_treg)  <- borna_treg$status\n",
    "    mrk  <- FindAllMarkers(borna_treg)"
   ]
  },
  {
   "cell_type": "code",
   "execution_count": null,
   "id": "92dbabfb",
   "metadata": {
    "scrolled": true
   },
   "outputs": [],
   "source": [
    "borna_hd_genes  <- mrk  %>% dplyr::filter(avg_log2FC>0 & cluster == \"HD\")  %>% pull(gene)"
   ]
  },
  {
   "cell_type": "code",
   "execution_count": null,
   "id": "bb37b344",
   "metadata": {},
   "outputs": [],
   "source": [
    "borna_ipex_genes  <- mrk  %>% dplyr::filter(avg_log2FC>0 & cluster == \"IPEX\")  %>% pull(gene)"
   ]
  },
  {
   "cell_type": "code",
   "execution_count": null,
   "id": "7ec8979c",
   "metadata": {},
   "outputs": [],
   "source": []
  },
  {
   "cell_type": "code",
   "execution_count": null,
   "id": "8bfca84d",
   "metadata": {},
   "outputs": [],
   "source": [
    "fc.df  <- read_csv(\"../../240617_VN_Diabetes_V06/tables/fold_change/cd4_l3_treg.csv\")  %>% as.data.frame()\n",
    "fc.df  <- fc.df  %>%  arrange(desc(avg_log2FC)) %>% \n",
    "dplyr::filter(cluster == \"Dia\")  %>% \n",
    "  dplyr::select(gene, avg_log2FC)\n",
    "ranks<- deframe(fc.df)\n"
   ]
  },
  {
   "cell_type": "code",
   "execution_count": null,
   "id": "456b9b39",
   "metadata": {},
   "outputs": [],
   "source": [
    "borna_ipex_genes  %>% length"
   ]
  },
  {
   "cell_type": "code",
   "execution_count": null,
   "id": "27852a75",
   "metadata": {},
   "outputs": [],
   "source": [
    "df1  <- data.frame(gene = borna_hd_genes,\n",
    "           direction = \"HD\")\n",
    "\n",
    "df2  <-   data.frame(gene = borna_ipex_genes,\n",
    "                    direction = \"IPEX\")"
   ]
  },
  {
   "cell_type": "code",
   "execution_count": null,
   "id": "aedd2de8",
   "metadata": {},
   "outputs": [],
   "source": [
    "write.csv(rbind(df1,df2),\n",
    "         \"../../240617_VN_Diabetes_V06/data/published_data/Borna_2023/borna_ipex_treg_markers.csv\")"
   ]
  },
  {
   "cell_type": "code",
   "execution_count": null,
   "id": "cc666b85",
   "metadata": {},
   "outputs": [],
   "source": [
    "library(fgsea)"
   ]
  },
  {
   "cell_type": "code",
   "execution_count": null,
   "id": "71e075c7",
   "metadata": {},
   "outputs": [],
   "source": [
    "fgsea_bulk <- fgsea(pathways = list(Borna_UP_in_Ctrl = borna_hd_genes,\n",
    "                                    Borna_UP_in_IPEX = borna_ipex_genes\n",
    "                                    ), \n",
    "                                      stats    = ranks)\n",
    "fgsea_bulk"
   ]
  },
  {
   "cell_type": "code",
   "execution_count": null,
   "id": "6456fe61",
   "metadata": {},
   "outputs": [],
   "source": [
    "plotEnrichment(borna_hd_genes,\n",
    "               ranks) + labs(title=\"Borna enriched in HD\") \n"
   ]
  },
  {
   "cell_type": "code",
   "execution_count": null,
   "id": "c3e6217a",
   "metadata": {},
   "outputs": [],
   "source": [
    "plotEnrichment(borna_ipex_genes,\n",
    "               ranks) + labs(title=\"Borna enriched in HD\") "
   ]
  },
  {
   "cell_type": "code",
   "execution_count": null,
   "id": "489116cb",
   "metadata": {},
   "outputs": [],
   "source": [
    "fgsea_bulk <- fgsea(pathways = list(Borna_UP_in_Ctrl = borna_hd_genes,\n",
    "                                    Borna_UP_in_IPEX = borna_ipex_genes\n",
    "                                    ), \n",
    "                                      stats    = ranks)\n",
    "fgsea_bulk"
   ]
  },
  {
   "cell_type": "code",
   "execution_count": null,
   "id": "d0ae0908",
   "metadata": {},
   "outputs": [],
   "source": [
    "plotEnrichment(borna_hd_genes,\n",
    "               ranks) + labs(title=\"Borna enriched in HD\") \n",
    "\n",
    "ggsave(filename = paste(\"../figures/treg/borna_ctrl.png\"), width = 12, height = 9, units = \"cm\")\n",
    "ggsave(filename = paste(\"../figures/treg/borna_ctrl.svg\"), width = 12, height = 9, units = \"cm\")"
   ]
  },
  {
   "cell_type": "code",
   "execution_count": null,
   "id": "6e212432",
   "metadata": {},
   "outputs": [],
   "source": []
  },
  {
   "cell_type": "code",
   "execution_count": null,
   "id": "1b4783c2",
   "metadata": {},
   "outputs": [],
   "source": [
    "plotEnrichment(borna_ipex_genes,\n",
    "               ranks) + labs(title=\"Borna enriched in HD\") \n",
    "\n",
    "ggsave(filename = paste(\"../figures/treg/borna_ipex.png\"), width = 12, height = 9, units = \"cm\")\n",
    "ggsave(filename = paste(\"../figures/treg/borna_ipex.svg\"), width = 12, height = 9, units = \"cm\")"
   ]
  },
  {
   "cell_type": "markdown",
   "id": "e700bc50",
   "metadata": {},
   "source": [
    "### FOld change"
   ]
  },
  {
   "cell_type": "code",
   "execution_count": null,
   "id": "b864e60b",
   "metadata": {},
   "outputs": [],
   "source": [
    "fc_borna  <- FindAllMarkers(borna_treg, test.use = \"wilcox\", \n",
    "                          logfc.threshold = -Inf, min.pct = -Inf, min.diff.pct = -Inf,\n",
    "                                   only.pos = T,  \n",
    "                                   min.cells.feature = 1, return.thresh = 1)"
   ]
  },
  {
   "cell_type": "code",
   "execution_count": null,
   "id": "c113f64c",
   "metadata": {},
   "outputs": [],
   "source": [
    "write.csv(fc_borna, \"../data/published_data/Borna_2023/fc_hd_vs_ipes.csv\")"
   ]
  },
  {
   "cell_type": "code",
   "execution_count": null,
   "id": "21e414eb",
   "metadata": {},
   "outputs": [],
   "source": []
  },
  {
   "cell_type": "code",
   "execution_count": null,
   "id": "9196ebca",
   "metadata": {
    "scrolled": true
   },
   "outputs": [],
   "source": [
    "fc_borna"
   ]
  },
  {
   "cell_type": "code",
   "execution_count": null,
   "id": "ddec3bf1",
   "metadata": {},
   "outputs": [],
   "source": [
    "fc.df  <- read_csv(\"../tables/fold_change/cd4_l3_treg.csv\")  %>% as.data.frame()\n"
   ]
  },
  {
   "cell_type": "code",
   "execution_count": null,
   "id": "2f287226",
   "metadata": {
    "scrolled": true
   },
   "outputs": [],
   "source": [
    "fc.df"
   ]
  },
  {
   "cell_type": "code",
   "execution_count": null,
   "id": "51d01027",
   "metadata": {},
   "outputs": [],
   "source": [
    "ipex_in_our  <- fc.df  %>% dplyr::filter(cluster == \"Dia\")   %>% \n",
    "mutate(logFC_our = avg_log2FC)  %>% dplyr::select(gene, logFC_our)"
   ]
  },
  {
   "cell_type": "code",
   "execution_count": null,
   "id": "3194f22e",
   "metadata": {
    "scrolled": true
   },
   "outputs": [],
   "source": [
    "ipex_in_our  %>% nrow"
   ]
  },
  {
   "cell_type": "code",
   "execution_count": null,
   "id": "36b1f8fc",
   "metadata": {},
   "outputs": [],
   "source": [
    "ipex_in_borna  <- fc_borna  %>% dplyr::filter(cluster == \"IPEX\")   %>% \n",
    "mutate(logFC_borna = avg_log2FC)  %>% dplyr::select(gene, logFC_borna)"
   ]
  },
  {
   "cell_type": "code",
   "execution_count": null,
   "id": "b40e77ba",
   "metadata": {
    "scrolled": true
   },
   "outputs": [],
   "source": [
    "ipex_in_borna  %>% nrow"
   ]
  },
  {
   "cell_type": "code",
   "execution_count": null,
   "id": "fea0c9e8",
   "metadata": {},
   "outputs": [],
   "source": [
    "ipex_in_our_rank  <- ipex_in_our  %>% left_join(ipex_in_borna)  %>% \n",
    " dplyr::filter(!is.na(logFC_borna))  %>% \n",
    "dplyr::select(logFC_borna, logFC_our)  %>% \n",
    "mutate_each(funs(dense_rank(-.))) "
   ]
  },
  {
   "cell_type": "code",
   "execution_count": null,
   "id": "c1b28866",
   "metadata": {
    "scrolled": true
   },
   "outputs": [],
   "source": [
    "ipex_in_our_rank$gene  <- ipex_in_our  %>% left_join(ipex_in_borna)  %>% \n",
    " dplyr::filter(!is.na(logFC_borna))  %>% \n",
    "pull(gene)  "
   ]
  },
  {
   "cell_type": "code",
   "execution_count": null,
   "id": "d660aeae",
   "metadata": {
    "scrolled": true
   },
   "outputs": [],
   "source": [
    "ipex_in_our_rank "
   ]
  },
  {
   "cell_type": "code",
   "execution_count": null,
   "id": "5a76a3a8",
   "metadata": {
    "scrolled": true
   },
   "outputs": [],
   "source": [
    "ipex_in_our_rank %>% mutate(decile_ipex = ntile(logFC_borna, 10),\n",
    "                            dec_our = ntile(logFC_our, 10)\n",
    "                            )  %>% group_by(decile_ipex, dec_our)  %>% tally"
   ]
  },
  {
   "cell_type": "code",
   "execution_count": null,
   "id": "8a7c539b",
   "metadata": {},
   "outputs": [],
   "source": [
    "\n",
    "options(repr.plot.width = 6, repr.plot.height = 5)\n",
    "ipex_in_our_rank %>% mutate(decile_ipex = ntile(logFC_borna, 10),\n",
    "                            dec_our = ntile(logFC_our, 10)\n",
    "                            )  %>% group_by(decile_ipex, dec_our)  %>% tally  %>% \n",
    "ggplot(aes(decile_ipex, dec_our)) + \n",
    "  geom_point(aes(size = n, colour = n)) + \n",
    "  theme_bw() + scale_size_continuous(range=c(7,12)) +\n",
    "  geom_text(aes(label = n)) + \n",
    "  scale_colour_gradient2(low = \"lightskyblue\", mid = \"lightsteelblue2\", high = \"salmon\", midpoint = 2) +\n",
    "  theme_bw()\n"
   ]
  },
  {
   "cell_type": "code",
   "execution_count": null,
   "id": "0ac274fb",
   "metadata": {},
   "outputs": [],
   "source": [
    "ipex_in_our_rank %>% mutate(decile_ipex = ntile(logFC_borna, 10),\n",
    "                            decile_our = ntile(logFC_our, 10)\n",
    "                            )  %>% dplyr::filter(decile_ipex == 10 & decile_our == 10)"
   ]
  },
  {
   "cell_type": "code",
   "execution_count": null,
   "id": "0af93d2e",
   "metadata": {
    "scrolled": true
   },
   "outputs": [],
   "source": [
    "ipex_in_our_rank %>% mutate(decile_ipex = ntile(logFC_borna, 10),\n",
    "                            decile_our = ntile(logFC_our, 10)\n",
    "                            )  %>% dplyr::filter(decile_ipex == 1 & decile_our == 1)"
   ]
  },
  {
   "cell_type": "code",
   "execution_count": null,
   "id": "9c29f5c9",
   "metadata": {},
   "outputs": [],
   "source": [
    "genes_first_our  <- ipex_in_our_rank %>% mutate(\n",
    "                            decile_our = ntile(logFC_our, 10)\n",
    "                            )  %>% dplyr::filter(decile_our == 1)  %>% pull(gene)\n",
    "genes_last_our  <- ipex_in_our_rank %>% mutate(\n",
    "                            decile_our = ntile(logFC_our, 10)\n",
    "                            )  %>% dplyr::filter(decile_our == 10)  %>% pull(gene)\n",
    "genes_first_borna  <- ipex_in_our_rank %>% mutate(\n",
    "                            decile_borna = ntile(logFC_borna, 10)\n",
    "                            )  %>% dplyr::filter(decile_borna == 1)  %>% pull(gene)\n",
    "genes_last_borna  <- ipex_in_our_rank %>% mutate(\n",
    "                            decile_borna = ntile(logFC_borna, 10)\n",
    "                            )  %>% dplyr::filter(decile_borna == 10)  %>% pull(gene)"
   ]
  },
  {
   "cell_type": "code",
   "execution_count": null,
   "id": "7896f8f8",
   "metadata": {},
   "outputs": [],
   "source": [
    "genes_last_zemmour  <- read_csv(\"../data/published_data/Zemmour_2018/genes_last_zemmour.csv\")  %>% pull(x)"
   ]
  },
  {
   "cell_type": "code",
   "execution_count": null,
   "id": "d0e83875",
   "metadata": {},
   "outputs": [],
   "source": [
    "genes_first_zemmour  <- read_csv(\"../data/published_data/Zemmour_2018/genes_first_zemmour.csv\")  %>% pull(x)"
   ]
  },
  {
   "cell_type": "code",
   "execution_count": null,
   "id": "f89714f6",
   "metadata": {},
   "outputs": [],
   "source": [
    "library(\"ggVennDiagram\")\n",
    "\n",
    "x <- list(\n",
    "  Zemmour = genes_first_zemmour, \n",
    "  Borna = genes_first_borna, \n",
    "  Lab48 = genes_first_our)\n",
    "\n",
    "ggVennDiagram(x)\n",
    "library(svglite)\n",
    "#ggsave(filename = \"../figures/DE_genes/venn_overlap.svg\", width = 3, height = 5)\n",
    "\n",
    "venn <- Venn(x)\n",
    "\n",
    "\n",
    "data <- process_data(venn)\n",
    "dat  <- data@region$item\n",
    "names(dat)  <- data@region$name\n",
    "\n",
    "dat"
   ]
  },
  {
   "cell_type": "code",
   "execution_count": null,
   "id": "66af3901",
   "metadata": {},
   "outputs": [],
   "source": [
    "x <- list(\n",
    "  Zemmour = genes_last_zemmour, \n",
    "  Borna = genes_last_borna, \n",
    "  Lab48 = genes_last_our)\n",
    "\n",
    "ggVennDiagram(x)\n",
    "library(svglite)\n",
    "#ggsave(filename = \"../figures/DE_genes/venn_overlap.svg\", width = 3, height = 5)\n",
    "\n",
    "venn <- Venn(x)\n",
    "\n",
    "\n",
    "data <- process_data(venn)\n",
    "dat  <- data@region$item\n",
    "names(dat)  <- data@region$name\n",
    "\n",
    "dat"
   ]
  },
  {
   "cell_type": "code",
   "execution_count": null,
   "id": "6d6bc882",
   "metadata": {},
   "outputs": [],
   "source": [
    "zemmour  <- read_xlsx(\"../data/published_data/Zemmour_2018/zemmour2.xlsx\")"
   ]
  },
  {
   "cell_type": "code",
   "execution_count": null,
   "id": "78ea4bc5",
   "metadata": {},
   "outputs": [],
   "source": [
    "zemmour  %>% nrow()"
   ]
  },
  {
   "cell_type": "code",
   "execution_count": null,
   "id": "f47e5d69",
   "metadata": {
    "scrolled": true
   },
   "outputs": [],
   "source": [
    "zemmour"
   ]
  },
  {
   "cell_type": "code",
   "execution_count": null,
   "id": "b416fa6c",
   "metadata": {},
   "outputs": [],
   "source": [
    "genes_up_zemmour  <- zemmour  %>% dplyr::filter(Average_FC_in_Treg > 1)  %>% pull(gene)\n",
    "genes_down_zemmour  <- zemmour  %>% dplyr::filter(Average_FC_in_Treg < 1) %>% pull(gene)"
   ]
  },
  {
   "cell_type": "code",
   "execution_count": null,
   "id": "669dcf86",
   "metadata": {},
   "outputs": [],
   "source": [
    "library(\"ggVennDiagram\")\n",
    "\n",
    "x <- list(\n",
    "  Zemmour = genes_up_zemmour, \n",
    "  Borna = genes_first_borna, \n",
    "  Lab48 = genes_first_our)\n",
    "\n",
    "ggVennDiagram(x)\n",
    "library(svglite)\n",
    "#ggsave(filename = \"../figures/DE_genes/venn_overlap.svg\", width = 3, height = 5)\n",
    "\n",
    "venn <- Venn(x)\n",
    "\n",
    "\n",
    "data <- process_data(venn)\n",
    "dat  <- data@region$item\n",
    "names(dat)  <- data@region$name\n",
    "\n",
    "dat"
   ]
  },
  {
   "cell_type": "code",
   "execution_count": null,
   "id": "838973a1",
   "metadata": {},
   "outputs": [],
   "source": [
    "x <- list(\n",
    "  Zemmour = genes_down_zemmour, \n",
    "  Borna = genes_last_borna, \n",
    "  Lab48 = genes_last_our)\n",
    "\n",
    "ggVennDiagram(x)\n",
    "library(svglite)\n",
    "#ggsave(filename = \"../figures/DE_genes/venn_overlap.svg\", width = 3, height = 5)\n",
    "\n",
    "venn <- Venn(x)\n",
    "\n",
    "\n",
    "data <- process_data(venn)\n",
    "dat  <- data@region$item\n",
    "names(dat)  <- data@region$name\n",
    "\n",
    "dat"
   ]
  },
  {
   "cell_type": "code",
   "execution_count": null,
   "id": "fe782920",
   "metadata": {},
   "outputs": [],
   "source": []
  },
  {
   "cell_type": "markdown",
   "id": "945bf10b",
   "metadata": {},
   "source": [
    "# GSEA KOTreg in our Treg"
   ]
  },
  {
   "cell_type": "code",
   "execution_count": null,
   "id": "619fd682",
   "metadata": {},
   "outputs": [],
   "source": [
    "### Treg in Treg\n",
    "\n",
    "library(fgsea)\n",
    "\n",
    "# CD4L1\n",
    "fc.df  <- read_csv(\"../tables/fold_change/cd4_l3_treg.csv\")  %>% as.data.frame()\n",
    "fc.df  <- fc.df  %>%  arrange(desc(avg_log2FC)) %>% \n",
    "dplyr::filter(cluster == \"Dia\")  %>% \n",
    "  dplyr::select(gene, avg_log2FC)\n",
    "ranks<- deframe(fc.df)\n"
   ]
  },
  {
   "cell_type": "code",
   "execution_count": null,
   "id": "583cb713",
   "metadata": {},
   "outputs": [],
   "source": [
    "treg_foxp3ko_up <- df_all  %>% filter(knockout == \"foxp3\" & cluster == \"foxp3\" & avg_log2FC>0)   %>% pull(gene)\n",
    "treg_foxp3ko_down  <- df_all  %>% filter(knockout == \"foxp3\" & cluster == \"ctrl\" & avg_log2FC>0)   %>% pull(gene)"
   ]
  },
  {
   "cell_type": "code",
   "execution_count": null,
   "id": "719f8353",
   "metadata": {},
   "outputs": [],
   "source": [
    "treg_foxp3ko_down"
   ]
  },
  {
   "cell_type": "code",
   "execution_count": null,
   "id": "62e4a1a5",
   "metadata": {},
   "outputs": [],
   "source": [
    "plotEnrichment(treg_foxp3ko_up,\n",
    "               ranks) + labs(title=\"treg_foxp3ko_up\") \n",
    "\n",
    "plotEnrichment(treg_foxp3ko_down,\n",
    "               ranks) + labs(title=\"treg_foxp3ko_down\") \n"
   ]
  },
  {
   "cell_type": "code",
   "execution_count": null,
   "id": "d99d8ea2",
   "metadata": {},
   "outputs": [],
   "source": [
    "options(repr.plot.width = 14, repr.plot.height = 4)\n",
    "\n",
    "for(i in 1:length(levels(factor(df_all$knockout)))){\n",
    "   ko  <- levels(factor(df_all$knockout))[i]\n",
    "treg_ko_up <- df_all  %>% filter(knockout == ko & cluster == ko & avg_log2FC>0)   %>% pull(gene)\n",
    "treg_ko_down  <- df_all  %>% filter(knockout == ko & cluster == \"ctrl\" & avg_log2FC>0)   %>% pull(gene)\n",
    "    \n",
    "fgsea_bulk <- fgsea(pathways = list(UP_in_KO = treg_ko_up,\n",
    "                                    UP_in_Ctrl = treg_ko_down), \n",
    "                                      stats    = ranks)\n",
    "\n",
    "print(plotEnrichment(treg_ko_up,\n",
    "               ranks) + labs(title=paste(ko, \"UP in KO\"),\n",
    "                             subtitle = paste0(\"p-value = \",format.pval(fgsea_bulk$pval[2], digits = 2))) +\n",
    "\n",
    "plotEnrichment(treg_ko_down,\n",
    "               ranks) + labs(title=paste(ko, \"UP in Ctrl\"),\n",
    "                            subtitle = paste0(\"p-value = \",format.pval(fgsea_bulk$pval[1], digits = 2))))\n",
    "\n",
    "}"
   ]
  },
  {
   "cell_type": "code",
   "execution_count": null,
   "id": "4fc1f207",
   "metadata": {},
   "outputs": [],
   "source": [
    "### Unstim only"
   ]
  },
  {
   "cell_type": "code",
   "execution_count": null,
   "id": "064c7133",
   "metadata": {
    "scrolled": true
   },
   "outputs": [],
   "source": [
    "df_all"
   ]
  },
  {
   "cell_type": "code",
   "execution_count": null,
   "id": "7de4e63e",
   "metadata": {},
   "outputs": [],
   "source": [
    "options(repr.plot.width = 14, repr.plot.height = 4)\n",
    "\n",
    "for(i in 1:length(levels(factor(df_all$knockout)))){\n",
    "   ko  <- levels(factor(df_all$knockout))[i]\n",
    "treg_ko_up <- df_all  %>% filter(knockout == ko & cluster == ko & avg_log2FC>0 & stim == \"Unstim\")   %>% pull(gene)\n",
    "treg_ko_down  <- df_all  %>% filter(knockout == ko & cluster == \"ctrl\" & avg_log2FC>0 & stim == \"Unstim\")   %>% pull(gene)\n",
    "    \n",
    "fgsea_bulk <- fgsea(pathways = list(UP_in_KO = treg_ko_up,\n",
    "                                    UP_in_Ctrl = treg_ko_down), \n",
    "                                      stats    = ranks)\n",
    "\n",
    "#print(plotEnrichment(treg_ko_up,\n",
    "#               ranks) + labs(title=paste(ko, \"UP in KO, unstim\"),\n",
    "#                             subtitle = paste0(\"p-value = \",format.pval(fgsea_bulk$pval[2], digits = 2)))) \n",
    "\n",
    "print(plotEnrichment(treg_ko_down,\n",
    "               ranks) + ylim(-0.62, 0.15) + labs(title=paste(ko, \"UP in Ctrl, unstim\"),\n",
    "                            subtitle = paste0(\"p-value = \",format.pval(fgsea_bulk$pval[1], digits = 2))))\n",
    "\n",
    "ggsave(filename = paste(\"../figures/treg/\",ko,\".png\"), width = 12, height = 9, units = \"cm\")\n",
    "ggsave(filename = paste(\"../figures/treg/\",ko,\".svg\"), width = 12, height = 9, units = \"cm\")\n",
    "\n",
    "}"
   ]
  },
  {
   "cell_type": "code",
   "execution_count": null,
   "id": "4be186dc",
   "metadata": {},
   "outputs": [],
   "source": []
  },
  {
   "cell_type": "code",
   "execution_count": null,
   "id": "0c0ddc0f",
   "metadata": {},
   "outputs": [],
   "source": [
    "for(i in 1:length(levels(factor(df_all$knockout)))){\n",
    "   ko  <- levels(factor(df_all$knockout))[i]\n",
    "treg_ko_up <- df_all  %>% filter(knockout == ko & cluster == ko & avg_log2FC>0 & stim == \"IL12\")   %>% pull(gene)\n",
    "treg_ko_down  <- df_all  %>% filter(knockout == ko & cluster == \"ctrl\" & avg_log2FC>0 & stim == \"IL12\")   %>% pull(gene)\n",
    "    \n",
    "fgsea_bulk <- fgsea(pathways = list(UP_in_KO = treg_ko_up,\n",
    "                                    UP_in_Ctrl = treg_ko_down), \n",
    "                                      stats    = ranks)\n",
    "\n",
    "print(plotEnrichment(treg_ko_up,\n",
    "               ranks) + labs(title=paste(ko, \"UP in KO, IL12\"),\n",
    "                             subtitle = paste0(\"p-value = \",format.pval(fgsea_bulk$pval[2], digits = 2))) +\n",
    "\n",
    "plotEnrichment(treg_ko_down,\n",
    "               ranks) + labs(title=paste(ko, \"UP in Ctrl, IL12\"),\n",
    "                            subtitle = paste0(\"p-value = \",format.pval(fgsea_bulk$pval[1], digits = 2))))\n",
    "\n",
    "}"
   ]
  },
  {
   "cell_type": "markdown",
   "id": "17dd99a5",
   "metadata": {},
   "source": [
    "## Naive T cells vs dysfunctional Treg"
   ]
  },
  {
   "cell_type": "code",
   "execution_count": null,
   "id": "a971e6da",
   "metadata": {},
   "outputs": [],
   "source": [
    "cd4_l1_full_filt  <- readRDS(\"../data/processed/L1/cd4_l1_full_filt.rds\")"
   ]
  },
  {
   "cell_type": "code",
   "execution_count": null,
   "id": "51489482",
   "metadata": {},
   "outputs": [],
   "source": [
    "cd4_l1_full_filt$annotations_l2  %>% table"
   ]
  },
  {
   "cell_type": "code",
   "execution_count": null,
   "id": "48097612",
   "metadata": {
    "scrolled": true
   },
   "outputs": [],
   "source": [
    "cd4_l1_full_filt$annotations_l3  %>% table"
   ]
  },
  {
   "cell_type": "code",
   "execution_count": null,
   "id": "1c432c35",
   "metadata": {},
   "outputs": [],
   "source": [
    "cd4_l1_full_filt$annot_for_treg_markers  <- ifelse(cd4_l1_full_filt$annotations_l3 == \"CD4 T cells---Treg---Treg1: TCF7 IL7R NOSIP\", \n",
    "                                                   \"L3: Treg1\",\n",
    "                                            ifelse(cd4_l1_full_filt$annotations_l2 == \"CD4 T cells---Naive\", \"L2: Naive\",\n",
    "                                                   NA_character_))\n",
    "                                                  "
   ]
  },
  {
   "cell_type": "code",
   "execution_count": null,
   "id": "0511bcb5",
   "metadata": {},
   "outputs": [],
   "source": [
    "cd4_l1_full_filt$annot_for_treg_markers  %>% table"
   ]
  },
  {
   "cell_type": "code",
   "execution_count": null,
   "id": "91a19cb5",
   "metadata": {},
   "outputs": [],
   "source": [
    "Idents(cd4_l1_full_filt)  <- cd4_l1_full_filt$annot_for_treg_markers"
   ]
  },
  {
   "cell_type": "code",
   "execution_count": null,
   "id": "19a56a58",
   "metadata": {},
   "outputs": [],
   "source": [
    "Idents(cd4_l1_full_filt)  %>% table"
   ]
  },
  {
   "cell_type": "code",
   "execution_count": null,
   "id": "4d4b2ccb",
   "metadata": {},
   "outputs": [],
   "source": [
    "mrk  <- FindAllMarkers(cd4_l1_full_filt, only.pos = T)"
   ]
  },
  {
   "cell_type": "code",
   "execution_count": null,
   "id": "4b95d8c6",
   "metadata": {
    "scrolled": true
   },
   "outputs": [],
   "source": [
    "fc  <- FindAllMarkers(cd4_l1_full_filt, test.use = \"wilcox\", assay = \"RNA\",\n",
    "                          logfc.threshold = -Inf, min.pct = -Inf, min.diff.pct = -Inf,\n",
    "                                   only.pos = T,  \n",
    "                                   min.cells.feature = 1, return.thresh = 1)"
   ]
  },
  {
   "cell_type": "code",
   "execution_count": null,
   "id": "3f15d7b8",
   "metadata": {},
   "outputs": [],
   "source": [
    "nrow(fc)"
   ]
  },
  {
   "cell_type": "code",
   "execution_count": null,
   "id": "773e9ec7",
   "metadata": {},
   "outputs": [],
   "source": [
    "mrk_treg  <- read_csv(\"../tables/cd4/markers_annotations/mrk_cd4_subcluster.csv\")"
   ]
  },
  {
   "cell_type": "code",
   "execution_count": null,
   "id": "d47aebcf",
   "metadata": {},
   "outputs": [],
   "source": [
    "gc()"
   ]
  },
  {
   "cell_type": "code",
   "execution_count": null,
   "id": "652cdc32",
   "metadata": {},
   "outputs": [],
   "source": [
    "cd4_l2_subcluster  <- readRDS(\"../data/processed/L2/cd4_subcluster.rds\")"
   ]
  },
  {
   "cell_type": "code",
   "execution_count": null,
   "id": "f3f7a0ec",
   "metadata": {},
   "outputs": [],
   "source": [
    "DimPlot(cd4_l2_subcluster, group.by = \"annotations_manual\")"
   ]
  },
  {
   "cell_type": "code",
   "execution_count": null,
   "id": "6bfb94c2",
   "metadata": {},
   "outputs": [],
   "source": [
    "cd4_l2_subcluster  <- subset(cd4_l2_subcluster, annotations_manual %in% c(\"Treg\", \"Naive\"))"
   ]
  },
  {
   "cell_type": "code",
   "execution_count": null,
   "id": "997994b3",
   "metadata": {},
   "outputs": [],
   "source": [
    "Idents(cd4_l2_subcluster)  <- cd4_l2_subcluster$annotations_manual"
   ]
  },
  {
   "cell_type": "code",
   "execution_count": null,
   "id": "1cd98864",
   "metadata": {},
   "outputs": [],
   "source": [
    "DimPlot(cd4_l2_subcluster, group.by = \"annotations_manual\")"
   ]
  },
  {
   "cell_type": "code",
   "execution_count": null,
   "id": "5a7f499b",
   "metadata": {},
   "outputs": [],
   "source": [
    "treg_marker_genes  <- FindAllMarkers(cd4_l2_subcluster, only.pos = T)"
   ]
  },
  {
   "cell_type": "code",
   "execution_count": null,
   "id": "3fe327c8",
   "metadata": {
    "scrolled": true
   },
   "outputs": [],
   "source": [
    "treg_gene_sig  <- treg_marker_genes  %>% filter(cluster == \"Treg\")  %>% pull(gene)"
   ]
  },
  {
   "cell_type": "code",
   "execution_count": null,
   "id": "59ff0890",
   "metadata": {
    "scrolled": true
   },
   "outputs": [],
   "source": [
    "fc2  <- fc  %>% mutate(avg_log2FC = ifelse(cluster == \"L2: Naive\",-1*avg_log2FC, avg_log2FC)) "
   ]
  },
  {
   "cell_type": "code",
   "execution_count": null,
   "id": "7ebba642",
   "metadata": {
    "scrolled": true
   },
   "outputs": [],
   "source": [
    "fc2"
   ]
  },
  {
   "cell_type": "code",
   "execution_count": null,
   "id": "1656b8e5",
   "metadata": {},
   "outputs": [],
   "source": [
    "fc2.df  <- fc2  %>%  arrange(desc(avg_log2FC)) %>% \n",
    "  dplyr::select(gene, avg_log2FC)\n",
    "ranks<- deframe(fc2.df)\n"
   ]
  },
  {
   "cell_type": "code",
   "execution_count": null,
   "id": "1b8e69b5",
   "metadata": {},
   "outputs": [],
   "source": [
    "treg_gene_sig"
   ]
  },
  {
   "cell_type": "code",
   "execution_count": null,
   "id": "3d9fc6ae",
   "metadata": {},
   "outputs": [],
   "source": [
    "options(repr.plot.width = 7)\n",
    "plotEnrichment(treg_gene_sig,\n",
    "               ranks) + labs(title=\"Treg markers in Treg1 vs Naive\") \n"
   ]
  },
  {
   "cell_type": "code",
   "execution_count": null,
   "id": "31efcbb5",
   "metadata": {},
   "outputs": [],
   "source": []
  },
  {
   "cell_type": "code",
   "execution_count": null,
   "id": "3aa9a92b",
   "metadata": {},
   "outputs": [],
   "source": [
    "which(names(ranks) == \"ITGB1\")"
   ]
  },
  {
   "cell_type": "code",
   "execution_count": null,
   "id": "c66d7be7",
   "metadata": {},
   "outputs": [],
   "source": [
    "names(ranks)"
   ]
  },
  {
   "cell_type": "code",
   "execution_count": null,
   "id": "2aca5b9e",
   "metadata": {},
   "outputs": [],
   "source": []
  },
  {
   "cell_type": "code",
   "execution_count": null,
   "id": "fc078c0f",
   "metadata": {},
   "outputs": [],
   "source": [
    "## Vice versa"
   ]
  },
  {
   "cell_type": "code",
   "execution_count": null,
   "id": "8d8cac5e",
   "metadata": {},
   "outputs": [],
   "source": [
    "cd4_l1_full_filt  <- readRDS(\"../data/processed/L1/cd4_l1_full_filt.rds\")"
   ]
  },
  {
   "cell_type": "code",
   "execution_count": null,
   "id": "e59ae343",
   "metadata": {},
   "outputs": [],
   "source": [
    "cd4_l1_full_filt$annotations_l2  %>% table"
   ]
  },
  {
   "cell_type": "code",
   "execution_count": null,
   "id": "b9ccbe8c",
   "metadata": {
    "scrolled": true
   },
   "outputs": [],
   "source": [
    "cd4_l1_full_filt$annotations_l3  %>% table"
   ]
  },
  {
   "cell_type": "code",
   "execution_count": null,
   "id": "b32e9464",
   "metadata": {},
   "outputs": [],
   "source": [
    "CD4 T cells---Treg---Treg1: TCF7 IL7R NOSIP \n",
    "                                                                    2110 \n",
    "                            CD4 T cells---Treg---Treg2: FCER1G NOG CXCR4 \n",
    "                                                                    3375 \n",
    "                            CD4 T cells---Treg---Treg3: TIGIT NCR3 FCRL3 \n",
    "                                                                    2298 \n",
    "                           CD4 T cells---Treg---Treg4: HLA-DR CCR10 PI16 \n",
    "                                                                    2107 "
   ]
  },
  {
   "cell_type": "code",
   "execution_count": null,
   "id": "ccc5ae30",
   "metadata": {},
   "outputs": [],
   "source": [
    "cd4_l1_full_filt$annot_for_treg_markers2  <- ifelse(cd4_l1_full_filt$annotations_l3 %in% c(\n",
    "    \"CD4 T cells---Treg---Treg2: FCER1G NOG CXCR4\", \n",
    "    \"CD4 T cells---Treg---Treg3: TIGIT NCR3 FCRL3\",\n",
    "    \"CD4 T cells---Treg---Treg4: HLA-DR CCR10 PI16\"),\n",
    "                                                   \"L3: Other Treg\",\n",
    "    ifelse(cd4_l1_full_filt$annotations_l3 == \"CD4 T cells---Treg---Treg1: TCF7 IL7R NOSIP\", \"L3: Treg1\",\n",
    "                                                   NA_character_))\n",
    "                                                  "
   ]
  },
  {
   "cell_type": "code",
   "execution_count": null,
   "id": "5171912a",
   "metadata": {},
   "outputs": [],
   "source": [
    "cd4_l1_full_filt$annot_for_treg_markers2  %>% table"
   ]
  },
  {
   "cell_type": "code",
   "execution_count": null,
   "id": "bc47e1a3",
   "metadata": {},
   "outputs": [],
   "source": [
    "Idents(cd4_l1_full_filt)  <- cd4_l1_full_filt$annot_for_treg_markers2"
   ]
  },
  {
   "cell_type": "code",
   "execution_count": null,
   "id": "eb79d6ff",
   "metadata": {},
   "outputs": [],
   "source": [
    "Idents(cd4_l1_full_filt)  %>% table"
   ]
  },
  {
   "cell_type": "code",
   "execution_count": null,
   "id": "1bc61278",
   "metadata": {},
   "outputs": [],
   "source": [
    "mrk  <- FindAllMarkers(cd4_l1_full_filt, only.pos = T)"
   ]
  },
  {
   "cell_type": "code",
   "execution_count": null,
   "id": "ab5020a4",
   "metadata": {
    "scrolled": true
   },
   "outputs": [],
   "source": [
    "fc3  <- FindAllMarkers(cd4_l1_full_filt, test.use = \"wilcox\", assay = \"RNA\",\n",
    "                          logfc.threshold = -Inf, min.pct = -Inf, min.diff.pct = -Inf,\n",
    "                                   only.pos = T,  \n",
    "                                   min.cells.feature = 1, return.thresh = 1)"
   ]
  },
  {
   "cell_type": "code",
   "execution_count": null,
   "id": "a9b40543",
   "metadata": {},
   "outputs": [],
   "source": [
    "nrow(fc3)"
   ]
  },
  {
   "cell_type": "code",
   "execution_count": null,
   "id": "d9282327",
   "metadata": {
    "scrolled": true
   },
   "outputs": [],
   "source": [
    "naive_gene_sig  <- treg_marker_genes  %>% filter(cluster == \"Naive\")  %>% pull(gene)"
   ]
  },
  {
   "cell_type": "code",
   "execution_count": null,
   "id": "abc97081",
   "metadata": {
    "scrolled": true
   },
   "outputs": [],
   "source": [
    "fc4  <- fc3  %>% mutate(avg_log2FC = ifelse(cluster == \"L3: Other Treg\",-1*avg_log2FC, avg_log2FC)) "
   ]
  },
  {
   "cell_type": "code",
   "execution_count": null,
   "id": "fbf37498",
   "metadata": {},
   "outputs": [],
   "source": [
    "fc4.df  <- fc4  %>%  arrange(desc(avg_log2FC)) %>% \n",
    "  dplyr::select(gene, avg_log2FC)\n",
    "ranks<- deframe(fc2.df)\n"
   ]
  },
  {
   "cell_type": "code",
   "execution_count": null,
   "id": "0a87720f",
   "metadata": {},
   "outputs": [],
   "source": [
    "options(repr.plot.width = 7)\n",
    "plotEnrichment(naive_gene_sig,\n",
    "               ranks) + labs(title=\"Naive markers in Treg1 vs Other Treg\") \n"
   ]
  },
  {
   "cell_type": "markdown",
   "id": "f4d74cc3",
   "metadata": {},
   "source": [
    "# Treg data integration"
   ]
  },
  {
   "cell_type": "code",
   "execution_count": null,
   "id": "5eb46e1c",
   "metadata": {},
   "outputs": [],
   "source": [
    "treg48  <- readRDS(\"../../240617_VN_Diabetes_V06/data/processed/L3/cd4_l3_treg.rds\")"
   ]
  },
  {
   "cell_type": "code",
   "execution_count": null,
   "id": "49afa7c8",
   "metadata": {},
   "outputs": [],
   "source": [
    "treg_hpap <- readRDS(\"../../240617_VN_Diabetes_V06/data/published_data/HPAP/240623_treg_hpap_spleen_stacas_v06.rds\")\n",
    "treg_nc  <- readRDS(\"../../../DATA_scRNAseq//Analysis of previously published data/080_Zhong_NatCom_Diabetes/241019_NatComm_merged_filt_treg_noPR.rds\")\n",
    "treg_pb  <- readRDS(\"../../../DATA_scRNAseq//Analysis of previously published data/081_ParseBio_1M_Diabetes/241020_ParseBio_200k_treg.rds\")"
   ]
  },
  {
   "cell_type": "code",
   "execution_count": null,
   "id": "13b5854a",
   "metadata": {},
   "outputs": [],
   "source": [
    "treg_nc  <- treg_nc\n",
    "treg_nc[[\"RNA\"]]  <- as(object = treg_nc[[\"RNA\"]], Class = \"Assay\")"
   ]
  },
  {
   "cell_type": "code",
   "execution_count": null,
   "id": "429b8346",
   "metadata": {},
   "outputs": [],
   "source": [
    "treg_pb  <- treg_pb\n",
    "treg_pb[[\"RNA\"]]  <- as(object = treg_pb[[\"RNA\"]], Class = \"Assay\")"
   ]
  },
  {
   "cell_type": "code",
   "execution_count": null,
   "id": "78a537f5",
   "metadata": {},
   "outputs": [],
   "source": []
  },
  {
   "cell_type": "code",
   "execution_count": null,
   "id": "3c328b18",
   "metadata": {},
   "outputs": [],
   "source": [
    "treg48$Study  <- \"Lab48\"\n",
    "treg_hpap$Study  <- \"HPAP\"\n",
    "treg_nc$Study  <- \"NatCom\"\n",
    "treg_pb$Study  <- \"ParseBio\""
   ]
  },
  {
   "cell_type": "code",
   "execution_count": null,
   "id": "e4f56437",
   "metadata": {},
   "outputs": [],
   "source": [
    "DefaultAssay(treg48)  <- \"RNA\""
   ]
  },
  {
   "cell_type": "code",
   "execution_count": null,
   "id": "026d8099",
   "metadata": {},
   "outputs": [],
   "source": [
    "treg48[[\"Antibodies\"]]  <- NULL\n",
    "treg48[[\"PTPRC\"]]  <- NULL\n",
    "treg48[[\"refAssay\"]]  <- NULL\n",
    "treg48[[\"prediction.score.celltype.l1\"]]  <- NULL\n",
    "treg48[[\"prediction.score.celltype.l2\"]]  <- NULL\n",
    "treg48[[\"prediction.score.celltype.l3\"]]  <- NULL\n",
    "treg48[[\"integrated\"]]  <- NULL\n",
    "treg48[[\"pathwayswmean\"]]  <- NULL\n",
    "treg48[[\"CollecTRI\"]]  <- NULL\n"
   ]
  },
  {
   "cell_type": "code",
   "execution_count": null,
   "id": "5e14d3a3",
   "metadata": {},
   "outputs": [],
   "source": [
    "treg_hpap"
   ]
  },
  {
   "cell_type": "code",
   "execution_count": null,
   "id": "2f0454e6",
   "metadata": {},
   "outputs": [],
   "source": [
    "treg48"
   ]
  },
  {
   "cell_type": "code",
   "execution_count": null,
   "id": "38962046",
   "metadata": {},
   "outputs": [],
   "source": [
    "treg48  <- treg48\n",
    "treg48[[\"RNA\"]]  <- as(object = treg48[[\"RNA\"]], Class = \"Assay\")"
   ]
  },
  {
   "cell_type": "code",
   "execution_count": null,
   "id": "e3fa8125",
   "metadata": {},
   "outputs": [],
   "source": [
    "treg48"
   ]
  },
  {
   "cell_type": "code",
   "execution_count": null,
   "id": "3361d696",
   "metadata": {},
   "outputs": [],
   "source": [
    "treg_hpap[[\"RNA\"]] <- as(object = treg_hpap[[\"RNA\"]], Class = \"Assay\")"
   ]
  },
  {
   "cell_type": "code",
   "execution_count": null,
   "id": "7d7bdb3a",
   "metadata": {},
   "outputs": [],
   "source": [
    "treg_hpap@assays$RNA"
   ]
  },
  {
   "cell_type": "code",
   "execution_count": null,
   "id": "c1d2aad4",
   "metadata": {},
   "outputs": [],
   "source": [
    "treg48$clonotype.repeated  <- NULL"
   ]
  },
  {
   "cell_type": "code",
   "execution_count": null,
   "id": "777a27c1",
   "metadata": {
    "scrolled": true
   },
   "outputs": [],
   "source": [
    "treg_all  <- merge(treg_hpap, treg48)"
   ]
  },
  {
   "cell_type": "code",
   "execution_count": null,
   "id": "5b684db7",
   "metadata": {},
   "outputs": [],
   "source": [
    "treg_all  <- merge(treg_all, c(treg_nc, treg_pb))"
   ]
  },
  {
   "cell_type": "code",
   "execution_count": null,
   "id": "293b54d4",
   "metadata": {},
   "outputs": [],
   "source": [
    "treg_all$Study  %>% table"
   ]
  },
  {
   "cell_type": "code",
   "execution_count": null,
   "id": "d11ba61e",
   "metadata": {},
   "outputs": [],
   "source": [
    "merged.list1  <- SplitObject(treg_all, split.by = \"Study\")"
   ]
  },
  {
   "cell_type": "code",
   "execution_count": null,
   "id": "f1ad858c",
   "metadata": {},
   "outputs": [],
   "source": [
    "merged.list <- lapply(X = merged.list1, FUN = function(x) {\n",
    "    DefaultAssay(x)  <- \"RNA\"\n",
    "    x$barcode  <- colnames(x)\n",
    "    x <- NormalizeData(x)\n",
    "    x <- FindVariableFeatures(x, selection.method = \"vst\", nfeatures = 2000)\n",
    "})"
   ]
  },
  {
   "cell_type": "code",
   "execution_count": null,
   "id": "165a818e",
   "metadata": {
    "scrolled": true
   },
   "outputs": [],
   "source": [
    "immune.anchors <- FindIntegrationAnchors(object.list = merged.list, dims = 1:12)\n",
    "immune.combined <- IntegrateData(anchorset = immune.anchors, dims = 1:12)"
   ]
  },
  {
   "cell_type": "code",
   "execution_count": null,
   "id": "ae570678",
   "metadata": {
    "scrolled": true
   },
   "outputs": [],
   "source": [
    "# Run the standard workflow for visualization and clustering\n",
    "immune.combined <- ScaleData(immune.combined, verbose = FALSE)\n",
    "immune.combined <- RunPCA(immune.combined, npcs = 12, verbose = FALSE)\n",
    "# t-SNE and Clustering\n",
    "immune.combined <- RunUMAP(immune.combined, reduction = \"pca\", dims = 1:12)"
   ]
  },
  {
   "cell_type": "code",
   "execution_count": null,
   "id": "1bf71792",
   "metadata": {},
   "outputs": [],
   "source": [
    "DimPlot(immune.combined)"
   ]
  },
  {
   "cell_type": "code",
   "execution_count": null,
   "id": "1b0beb7f",
   "metadata": {},
   "outputs": [],
   "source": [
    "DimPlot(immune.combined, group.by = \"Study\")"
   ]
  },
  {
   "cell_type": "code",
   "execution_count": null,
   "id": "8e670bf8",
   "metadata": {},
   "outputs": [],
   "source": [
    "immune.combined$Disease  %>% table"
   ]
  },
  {
   "cell_type": "code",
   "execution_count": null,
   "id": "b097543c",
   "metadata": {},
   "outputs": [],
   "source": [
    "options(repr.plot.width = 16, repr.plot.height = 12)\n",
    "FeaturePlot(immune.combined, features = c(\"FOXP3\",\"TIGIT\",\"CD226\",\"GZMK\",\n",
    "                                         \"CCR4\",\"CTLA4\",\"IL7R\",\"SELL\",\n",
    "                                         \"ISG15\",\"LAG3\",\"IL10\",\"TGFB1\",\n",
    "                                         \"TRGC1\",\"TRGV9\",\"ZBTB16\",\"TRDC\"), ncol = 4)"
   ]
  },
  {
   "cell_type": "code",
   "execution_count": null,
   "id": "da8662b7",
   "metadata": {},
   "outputs": [],
   "source": [
    "gc()"
   ]
  },
  {
   "cell_type": "markdown",
   "id": "327f813c",
   "metadata": {},
   "source": [
    "# Treg from other datasets"
   ]
  },
  {
   "cell_type": "code",
   "execution_count": null,
   "id": "23683b80",
   "metadata": {},
   "outputs": [],
   "source": [
    "treg_hpap <- readRDS(\"../../240617_VN_Diabetes_V06/data/published_data/HPAP/240623_treg_hpap_spleen_stacas_v06.rds\")\n",
    "#treg_nc  <- readRDS(\"../../../DATA_scRNAseq//Analysis of previously published data/080_Zhong_NatCom_Diabetes/241019_NatComm_merged_filt_treg_noPR.rds\")\n",
    "treg_pb  <- readRDS(\"../../../DATA_scRNAseq//Analysis of previously published data/081_ParseBio_1M_Diabetes/241020_ParseBio_200k_treg.rds\")"
   ]
  },
  {
   "cell_type": "code",
   "execution_count": null,
   "id": "72e1d4a8",
   "metadata": {},
   "outputs": [],
   "source": []
  }
 ],
 "metadata": {
  "kernelspec": {
   "display_name": "R",
   "language": "R",
   "name": "ir"
  },
  "language_info": {
   "codemirror_mode": "r",
   "file_extension": ".r",
   "mimetype": "text/x-r-source",
   "name": "R",
   "pygments_lexer": "r",
   "version": "4.4.2"
  },
  "toc": {
   "base_numbering": 1,
   "nav_menu": {},
   "number_sections": true,
   "sideBar": true,
   "skip_h1_title": false,
   "title_cell": "Table of Contents",
   "title_sidebar": "Contents",
   "toc_cell": false,
   "toc_position": {
    "height": "calc(100% - 180px)",
    "left": "10px",
    "top": "150px",
    "width": "284.733px"
   },
   "toc_section_display": true,
   "toc_window_display": true
  }
 },
 "nbformat": 4,
 "nbformat_minor": 5
}
