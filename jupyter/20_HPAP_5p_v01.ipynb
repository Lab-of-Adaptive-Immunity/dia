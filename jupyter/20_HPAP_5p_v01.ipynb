{
 "cells": [
  {
   "cell_type": "code",
   "execution_count": null,
   "metadata": {
    "scrolled": true
   },
   "outputs": [],
   "source": [
    "library(\"Matrix\")\n",
    "library(rlang)\n",
    "library(htmltools)\n",
    "library(fastmap)\n",
    "library(pillar)\n",
    "library(celldex);\n",
    "library(reshape);\n",
    "library(cowplot);\n",
    "library(biomaRt);\n",
    "library(vctrs, lib = \"/storage/brno2/home/vercanie/R/x86_64-pc-linux-gnu-library/4.0\")\n",
    "library(Seurat, lib = \"/storage/brno2/home/vercanie/R/x86_64-pc-linux-gnu-library/4.0\");\n",
    "library(ggplot2);\n",
    "library(tidyverse, lib = \"/storage/brno2/home/vercanie/R/x86_64-pc-linux-gnu-library/4.0\");\n",
    "library(\"org.Mm.eg.db\", lib = \"/storage/brno2/home/vercanie/R/x86_64-pc-linux-gnu-library/4.0\");\n",
    "library(readxl, lib = \"/storage/brno2/home/vercanie/R/x86_64-pc-linux-gnu-library/4.0\");\n",
    "library(STACAS, lib = \"/storage/brno2/home/vercanie/R/x86_64-pc-linux-gnu-library/4.0\");\n",
    "library(Azimuth, lib = \"/storage/brno2/home/vercanie/R/x86_64-pc-linux-gnu-library/4.0\");\n",
    "library(SingleR, lib = \"/storage/brno2/home/vercanie/R/x86_64-pc-linux-gnu-library/4.0\");\n",
    "library(scCustomize, lib = \"/storage/brno2/home/vercanie/R/x86_64-pc-linux-gnu-library/4.0\");\n",
    "load(\"/storage/brno2/home/vercanie/CD4_CTL/ref_wherry_new.RData\");\n",
    "mid.se <- celldex::MonacoImmuneData();"
   ]
  },
  {
   "cell_type": "markdown",
   "metadata": {},
   "source": [
    "### Preprocess data"
   ]
  },
  {
   "cell_type": "code",
   "execution_count": null,
   "metadata": {},
   "outputs": [],
   "source": [
    "hpap_files  <- list.files(\"hpapdata/temp_data/\", full.names = T)"
   ]
  },
  {
   "cell_type": "code",
   "execution_count": null,
   "metadata": {},
   "outputs": [],
   "source": [
    "hpap_files"
   ]
  },
  {
   "cell_type": "code",
   "execution_count": null,
   "metadata": {},
   "outputs": [],
   "source": [
    "full_dataset  <- map(.x = hpap_files,  .f = readRDS)"
   ]
  },
  {
   "cell_type": "code",
   "execution_count": null,
   "metadata": {},
   "outputs": [],
   "source": [
    "full_dataset <- Merge_Seurat_List(full_dataset)"
   ]
  },
  {
   "cell_type": "code",
   "execution_count": null,
   "metadata": {},
   "outputs": [],
   "source": [
    "full_dataset"
   ]
  },
  {
   "cell_type": "code",
   "execution_count": null,
   "metadata": {},
   "outputs": [],
   "source": [
    "saveRDS(full_dataset, \"hpap_5p_full.rds\")"
   ]
  },
  {
   "cell_type": "code",
   "execution_count": null,
   "metadata": {},
   "outputs": [],
   "source": [
    "full_dataset <- readRDS(\"hpap_datasets/hpap_5p_full.rds\")"
   ]
  },
  {
   "cell_type": "code",
   "execution_count": null,
   "metadata": {},
   "outputs": [],
   "source": [
    "DimPlot(full_dataset)"
   ]
  },
  {
   "cell_type": "code",
   "execution_count": null,
   "metadata": {},
   "outputs": [],
   "source": [
    "plan(\"multisession\", workers = 2)"
   ]
  },
  {
   "cell_type": "code",
   "execution_count": null,
   "metadata": {},
   "outputs": [],
   "source": [
    "plan(\"sequential\")"
   ]
  },
  {
   "cell_type": "code",
   "execution_count": null,
   "metadata": {},
   "outputs": [],
   "source": [
    "options(future.globals.maxSize = 10000 * 1024^2)\n",
    "full_dataset <- NormalizeData(full_dataset)\n",
    "full_dataset <- ScaleData(full_dataset)\n",
    "\n",
    "full_dataset <- FindVariableFeatures(full_dataset, \n",
    "                                     selection.method = \"vst\", nfeatures =2000)\n",
    "full_dataset <- RunPCA(full_dataset)\n",
    "full_dataset <- RunUMAP(full_dataset, dims = 1:15)\n",
    "full_dataset <- FindNeighbors(full_dataset)\n",
    "full_dataset <- FindClusters(full_dataset, resolution = 0.2)"
   ]
  },
  {
   "cell_type": "code",
   "execution_count": null,
   "metadata": {},
   "outputs": [],
   "source": [
    "DimPlot(full_dataset, raster = T, label = T)"
   ]
  },
  {
   "cell_type": "code",
   "execution_count": null,
   "metadata": {},
   "outputs": [],
   "source": [
    "saveRDS(full_dataset, \"hpap_datasets/hpap_5p_full.rds\")"
   ]
  },
  {
   "cell_type": "code",
   "execution_count": null,
   "metadata": {},
   "outputs": [],
   "source": [
    "FeaturePlot(full_dataset, features = \"CD3D\", raster = F)"
   ]
  },
  {
   "cell_type": "code",
   "execution_count": null,
   "metadata": {},
   "outputs": [],
   "source": [
    "FeaturePlot(full_dataset, features = \"AIRE\", raster = F)"
   ]
  },
  {
   "cell_type": "code",
   "execution_count": null,
   "metadata": {
    "scrolled": true
   },
   "outputs": [],
   "source": [
    "FeaturePlot(full_dataset, features = \"CD14\", raster = F)"
   ]
  },
  {
   "cell_type": "code",
   "execution_count": null,
   "metadata": {},
   "outputs": [],
   "source": [
    "cl8  <- subset(full_dataset, seurat_clusters == 8)"
   ]
  },
  {
   "cell_type": "code",
   "execution_count": null,
   "metadata": {},
   "outputs": [],
   "source": [
    "DimPlot(cl8)"
   ]
  },
  {
   "cell_type": "code",
   "execution_count": null,
   "metadata": {},
   "outputs": [],
   "source": [
    "cl8 <- NormalizeData(cl8)\n",
    "cl8 <- ScaleData(cl8)\n",
    "\n",
    "cl8 <- FindVariableFeatures(cl8, \n",
    "                                     selection.method = \"vst\", nfeatures =2000)\n",
    "cl8 <- RunPCA(cl8)\n",
    "cl8 <- RunUMAP(cl8, dims = 1:15)\n",
    "cl8 <- FindNeighbors(cl8)\n",
    "cl8 <- FindClusters(cl8, resolution = 0.2)"
   ]
  },
  {
   "cell_type": "code",
   "execution_count": null,
   "metadata": {},
   "outputs": [],
   "source": [
    "DimPlot(cl8)"
   ]
  },
  {
   "cell_type": "code",
   "execution_count": null,
   "metadata": {},
   "outputs": [],
   "source": [
    "saveRDS(cl8, \"hpap_datasets/hpap_5p_cluster8.rds\")"
   ]
  },
  {
   "cell_type": "code",
   "execution_count": null,
   "metadata": {},
   "outputs": [],
   "source": [
    "FeaturePlot(cl8, features = \"CCR7\", raster = F)"
   ]
  },
  {
   "cell_type": "code",
   "execution_count": null,
   "metadata": {},
   "outputs": [],
   "source": [
    "FeaturePlot(full_dataset, features = \"CD19\", raster = F)"
   ]
  },
  {
   "cell_type": "code",
   "execution_count": null,
   "metadata": {},
   "outputs": [],
   "source": [
    "FeaturePlot(full_dataset, features = \"MKI67\", raster = F)"
   ]
  },
  {
   "cell_type": "code",
   "execution_count": null,
   "metadata": {},
   "outputs": [],
   "source": [
    "FeaturePlot(full_dataset, features = \"NCR1\", raster = F)"
   ]
  },
  {
   "cell_type": "code",
   "execution_count": null,
   "metadata": {},
   "outputs": [],
   "source": [
    "FeaturePlot(full_dataset, features = \"TRGV2\", raster = F)"
   ]
  },
  {
   "cell_type": "markdown",
   "metadata": {},
   "source": [
    "## T cells\n"
   ]
  },
  {
   "cell_type": "code",
   "execution_count": null,
   "metadata": {},
   "outputs": [],
   "source": [
    "t_nk  <- subset(full_dataset, seurat_clusters %in% c(3:9))"
   ]
  },
  {
   "cell_type": "code",
   "execution_count": null,
   "metadata": {},
   "outputs": [],
   "source": [
    "DimPlot(t_nk, raster = T, label = T)"
   ]
  },
  {
   "cell_type": "code",
   "execution_count": null,
   "metadata": {
    "scrolled": true
   },
   "outputs": [],
   "source": [
    "t_nk <- NormalizeData(t_nk)\n",
    "t_nk <- ScaleData(t_nk)\n",
    "\n",
    "t_nk <- FindVariableFeatures(t_nk, \n",
    "                                     selection.method = \"vst\", nfeatures =2000)\n",
    "t_nk <- RunPCA(t_nk)\n",
    "t_nk <- RunUMAP(t_nk, dims = 1:15)\n",
    "t_nk <- FindNeighbors(t_nk)\n",
    "t_nk <- FindClusters(t_nk, resolution = 0.2)"
   ]
  },
  {
   "cell_type": "code",
   "execution_count": null,
   "metadata": {},
   "outputs": [],
   "source": [
    "DimPlot(t_nk, raster = T, label = T)"
   ]
  },
  {
   "cell_type": "code",
   "execution_count": null,
   "metadata": {},
   "outputs": [],
   "source": [
    "FeaturePlot(t_nk, features = \"CD3D\", raster = F)"
   ]
  },
  {
   "cell_type": "code",
   "execution_count": null,
   "metadata": {},
   "outputs": [],
   "source": [
    "FeaturePlot(t_nk, features = \"CD8A\", raster = F)"
   ]
  },
  {
   "cell_type": "code",
   "execution_count": null,
   "metadata": {},
   "outputs": [],
   "source": [
    "FeaturePlot(t_nk, features = \"CD4\", raster = F)"
   ]
  },
  {
   "cell_type": "code",
   "execution_count": null,
   "metadata": {},
   "outputs": [],
   "source": [
    "FeaturePlot(t_nk, features = \"MKI67\", raster = F)"
   ]
  },
  {
   "cell_type": "code",
   "execution_count": null,
   "metadata": {},
   "outputs": [],
   "source": [
    "FeaturePlot(t_nk, features = \"NCR1\", raster = F)"
   ]
  },
  {
   "cell_type": "code",
   "execution_count": null,
   "metadata": {},
   "outputs": [],
   "source": [
    "FeaturePlot(t_nk, features = \"CCL5\", raster = F)"
   ]
  },
  {
   "cell_type": "code",
   "execution_count": null,
   "metadata": {},
   "outputs": [],
   "source": [
    "FeaturePlot(t_nk, features = \"CCR7\", raster = F)"
   ]
  },
  {
   "cell_type": "code",
   "execution_count": null,
   "metadata": {},
   "outputs": [],
   "source": [
    "DefaultAssay(t_nk)  <- \"ADT\""
   ]
  },
  {
   "cell_type": "code",
   "execution_count": null,
   "metadata": {
    "scrolled": true
   },
   "outputs": [],
   "source": [
    "rownames(t_nk)"
   ]
  },
  {
   "cell_type": "code",
   "execution_count": null,
   "metadata": {},
   "outputs": [],
   "source": [
    "grep(pattern = \"Hu.CD8\", rownames(t_nk), value = TRUE)"
   ]
  },
  {
   "cell_type": "code",
   "execution_count": null,
   "metadata": {},
   "outputs": [],
   "source": [
    "FeaturePlot(t_nk, features = \"Hu.CD4-RPA.T4\", raster = F, max.cutoff = 50)"
   ]
  },
  {
   "cell_type": "code",
   "execution_count": null,
   "metadata": {},
   "outputs": [],
   "source": [
    "FeaturePlot(t_nk, features = \"Hu.CD8\", raster = F, max.cutoff = 50)"
   ]
  },
  {
   "cell_type": "code",
   "execution_count": null,
   "metadata": {},
   "outputs": [],
   "source": [
    "saveRDS(t_nk, \"hpap_5p_t_nk.rds\")"
   ]
  },
  {
   "cell_type": "code",
   "execution_count": null,
   "metadata": {},
   "outputs": [],
   "source": [
    "## Filter"
   ]
  },
  {
   "cell_type": "code",
   "execution_count": null,
   "metadata": {},
   "outputs": [],
   "source": [
    "DimPlot(t_nk, raster = T, label = T)"
   ]
  },
  {
   "cell_type": "code",
   "execution_count": null,
   "metadata": {},
   "outputs": [],
   "source": [
    "options(repr.plot.width = 14, repr.plot.height = 5)\n",
    "\n",
    "VlnPlot(t_nk, features = c(\"percent.mt\", \"percent.rp\", \"nCount_RNA\", \"nFeature_RNA\"), ncol = 4, raster = F, \n",
    "        pt.size = 0)"
   ]
  },
  {
   "cell_type": "code",
   "execution_count": null,
   "metadata": {},
   "outputs": [],
   "source": [
    "DefaultAssay(t_nk)  <- \"RNA\""
   ]
  },
  {
   "cell_type": "code",
   "execution_count": null,
   "metadata": {},
   "outputs": [],
   "source": [
    "options(repr.plot.width = 6, repr.plot.height = 5)\n",
    "FeaturePlot(t_nk, features = \"MS4A1\", raster = F)"
   ]
  },
  {
   "cell_type": "code",
   "execution_count": null,
   "metadata": {},
   "outputs": [],
   "source": [
    "options(repr.plot.width = 6, repr.plot.height = 5)\n",
    "FeaturePlot(t_nk, features = \"CD14\", raster = F)"
   ]
  },
  {
   "cell_type": "markdown",
   "metadata": {},
   "source": [
    "## Remove contaminating and low quality"
   ]
  },
  {
   "cell_type": "code",
   "execution_count": null,
   "metadata": {},
   "outputs": [],
   "source": [
    "t_nk_filt  <- subset(t_nk, seurat_clusters %in% c(0:3,5))"
   ]
  },
  {
   "cell_type": "code",
   "execution_count": null,
   "metadata": {},
   "outputs": [],
   "source": [
    "DimPlot(t_nk_filt, raster = T, label = T)"
   ]
  },
  {
   "cell_type": "code",
   "execution_count": null,
   "metadata": {
    "scrolled": true
   },
   "outputs": [],
   "source": [
    "t_nk_filt <- NormalizeData(t_nk_filt)\n",
    "t_nk_filt <- ScaleData(t_nk_filt)\n",
    "\n",
    "t_nk_filt <- FindVariableFeatures(t_nk_filt, \n",
    "                                     selection.method = \"vst\", nfeatures =2000)\n",
    "t_nk_filt <- RunPCA(t_nk_filt)\n",
    "t_nk_filt <- RunUMAP(t_nk_filt, dims = 1:15)\n",
    "t_nk_filt <- FindNeighbors(t_nk_filt)\n",
    "t_nk_filt <- FindClusters(t_nk_filt, resolution = 0.2)"
   ]
  },
  {
   "cell_type": "code",
   "execution_count": null,
   "metadata": {},
   "outputs": [],
   "source": [
    "DimPlot(t_nk_filt, raster = T, label = T)"
   ]
  },
  {
   "cell_type": "code",
   "execution_count": null,
   "metadata": {},
   "outputs": [],
   "source": [
    "FeaturePlot(t_nk_filt, features = \"CD3D\", raster = F)"
   ]
  },
  {
   "cell_type": "code",
   "execution_count": null,
   "metadata": {},
   "outputs": [],
   "source": [
    "FeaturePlot(t_nk_filt, features = \"CD8A\", raster = F)"
   ]
  },
  {
   "cell_type": "code",
   "execution_count": null,
   "metadata": {},
   "outputs": [],
   "source": [
    "FeaturePlot(t_nk_filt, features = \"CD4\", raster = F)"
   ]
  },
  {
   "cell_type": "code",
   "execution_count": null,
   "metadata": {},
   "outputs": [],
   "source": [
    "saveRDS(t_nk_filt, \"hpap_5p_t_nk_filt.rds\")"
   ]
  },
  {
   "cell_type": "code",
   "execution_count": null,
   "metadata": {},
   "outputs": [],
   "source": [
    "source(\"../CD4_CTL/cd4_t_cell_meta_pipeline_v02.R\")"
   ]
  },
  {
   "cell_type": "code",
   "execution_count": null,
   "metadata": {},
   "outputs": [],
   "source": [
    "library(Azimuth)"
   ]
  },
  {
   "cell_type": "code",
   "execution_count": null,
   "metadata": {
    "scrolled": true
   },
   "outputs": [],
   "source": [
    "hpca.se  <- celldex::HumanPrimaryCellAtlasData()\n",
    "mid.se <- celldex::MonacoImmuneData()"
   ]
  },
  {
   "cell_type": "code",
   "execution_count": null,
   "metadata": {},
   "outputs": [],
   "source": [
    "library(SeuratData, lib = \"/storage/brno2/home/vercanie/R/x86_64-pc-linux-gnu-library/4.0\")"
   ]
  },
  {
   "cell_type": "code",
   "execution_count": null,
   "metadata": {},
   "outputs": [],
   "source": [
    "library(pbmcref.SeuratData, lib = \"/storage/brno2/home/vercanie/R/x86_64-pc-linux-gnu-library/4.0\")"
   ]
  },
  {
   "cell_type": "code",
   "execution_count": null,
   "metadata": {},
   "outputs": [],
   "source": [
    "install.packages(\"SeuratData\")"
   ]
  },
  {
   "cell_type": "code",
   "execution_count": null,
   "metadata": {},
   "outputs": [],
   "source": [
    "SeuratData::InstallData(\"pbmcref\")"
   ]
  },
  {
   "cell_type": "code",
   "execution_count": null,
   "metadata": {},
   "outputs": [],
   "source": [
    "library(Azimuth, lib = \"/storage/brno2/home/vercanie/R/x86_64-pc-linux-gnu-library/4.0\");\n"
   ]
  },
  {
   "cell_type": "code",
   "execution_count": null,
   "metadata": {},
   "outputs": [],
   "source": [
    "SeuratData::AvailableData()"
   ]
  },
  {
   "cell_type": "code",
   "execution_count": null,
   "metadata": {},
   "outputs": [],
   "source": []
  },
  {
   "cell_type": "code",
   "execution_count": null,
   "metadata": {},
   "outputs": [],
   "source": [
    "Azimuth::AzimuthReference"
   ]
  },
  {
   "cell_type": "code",
   "execution_count": null,
   "metadata": {},
   "outputs": [],
   "source": [
    "t_nk_filt  <- annotate_tcell_data(t_nk_filt)"
   ]
  },
  {
   "cell_type": "code",
   "execution_count": null,
   "metadata": {},
   "outputs": [],
   "source": [
    "saveRDS(t_nk_filt, \"hpap_5p_t_nk_filt_annot.rds\")"
   ]
  },
  {
   "cell_type": "code",
   "execution_count": null,
   "metadata": {},
   "outputs": [],
   "source": [
    "options(repr.plot.width = 14)\n",
    "\n",
    "DimPlot(t_nk_filt, group.by = \"Monaco_single\", label = T, repel = T)"
   ]
  },
  {
   "cell_type": "code",
   "execution_count": null,
   "metadata": {},
   "outputs": [],
   "source": [
    "options(repr.plot.width = 10)\n",
    "DimPlot(t_nk_filt, group.by = \"Wherry_main\", label = T, repel = T)"
   ]
  },
  {
   "cell_type": "code",
   "execution_count": null,
   "metadata": {},
   "outputs": [],
   "source": [
    "options(repr.plot.width = 12)\n",
    "DimPlot(t_nk_filt, group.by = \"predicted.celltype.l3\", label = T, repel = T)"
   ]
  },
  {
   "cell_type": "code",
   "execution_count": null,
   "metadata": {},
   "outputs": [],
   "source": []
  },
  {
   "cell_type": "code",
   "execution_count": null,
   "metadata": {},
   "outputs": [],
   "source": []
  },
  {
   "cell_type": "code",
   "execution_count": null,
   "metadata": {},
   "outputs": [],
   "source": []
  },
  {
   "cell_type": "code",
   "execution_count": null,
   "metadata": {},
   "outputs": [],
   "source": []
  },
  {
   "cell_type": "code",
   "execution_count": null,
   "metadata": {},
   "outputs": [],
   "source": []
  },
  {
   "cell_type": "markdown",
   "metadata": {},
   "source": [
    "## QC - removal of dead and contaminating cells"
   ]
  },
  {
   "cell_type": "code",
   "execution_count": null,
   "metadata": {
    "scrolled": true
   },
   "outputs": [],
   "source": [
    "DimPlot(full_dataset, label = T)\n",
    "\n",
    "VlnPlot(full_dataset, features = c(\"nFeature_RNA\", \"nCount_RNA\", \"percent.mt\", \"percent.rp\"), ncol = 2, pt.size = 0)"
   ]
  },
  {
   "cell_type": "code",
   "execution_count": null,
   "metadata": {},
   "outputs": [],
   "source": [
    "DimPlot(full_dataset, group.by = \"source\")\n",
    "\n",
    "VlnPlot(full_dataset, features = c(\"nFeature_RNA\", \"nCount_RNA\", \"percent.mt\", \"percent.rp\"), ncol = 2, pt.size = 0, group.by = \"source\")"
   ]
  },
  {
   "cell_type": "code",
   "execution_count": null,
   "metadata": {},
   "outputs": [],
   "source": [
    "cutoff_nFeature_RNA <- 300\n",
    "cutoff_percent_mt <- 5\n",
    "cluster_exclude <- c()\n",
    "sample_exclude <- c()"
   ]
  },
  {
   "cell_type": "code",
   "execution_count": null,
   "metadata": {},
   "outputs": [],
   "source": [
    "options(repr.plot.width = 10, repr.plot.height = 5)\n",
    "p1 <- ggplot(data.frame(nCount_RNA = full_dataset$nCount_RNA,\n",
    "                  nFeature_RNA = full_dataset$nFeature_RNA,\n",
    "                  percent_mt = full_dataset$percent.mt,\n",
    "                  seurat_clusters = full_dataset$seurat_clusters,\n",
    "                  exclude = ifelse(full_dataset$seurat_clusters %in% cluster_exclude, TRUE, FALSE)), \n",
    "       aes(x = seurat_clusters, y = percent_mt)) +\n",
    "  geom_violin(scale = \"width\", aes(fill = exclude)) + \n",
    "  geom_hline(yintercept = cutoff_percent_mt,\n",
    "               geom = \"line\", \n",
    "               width = 0.5,\n",
    "               colour = \"red\") + \n",
    "  ggtitle(\"Percent mt. cutoff\") + \n",
    "  theme_classic() +\n",
    "  scale_fill_manual(values = c(\"white\",\"red\")) +\n",
    "  theme(panel.background = element_blank(), \n",
    "        axis.text.x = element_text(angle = 0, hjust = 1)) +\n",
    "  annotate(geom = \"rect\", xmin = min(as.numeric(full_dataset$seurat_clusters))-1, \n",
    "           xmax = max(as.numeric(full_dataset$seurat_clusters))+1, \n",
    "           ymin=cutoff_percent_mt,ymax=1.1*(max(full_dataset$percent.mt)), fill = \"red\", alpha = 0.1)\n",
    "\n",
    "p2 <- ggplot(data.frame(nCount_RNA = full_dataset$nCount_RNA,\n",
    "                  nFeature_RNA = full_dataset$nFeature_RNA,\n",
    "                  percent_mt = full_dataset$percent.mt,\n",
    "                  seurat_clusters = full_dataset$seurat_clusters,\n",
    "                        exclude = ifelse(full_dataset$seurat_clusters %in% cluster_exclude, TRUE, FALSE)), \n",
    "       aes(x = seurat_clusters, y = nFeature_RNA)) +\n",
    "  geom_violin(scale = \"width\", aes(fill = exclude)) + \n",
    "  geom_hline(yintercept = cutoff_nFeature_RNA,\n",
    "               geom = \"line\", \n",
    "               width = 0.5,\n",
    "               colour = \"red\") + \n",
    "  ggtitle(\"nFeature RNA cutoff\") + \n",
    "  theme_classic() +\n",
    "  scale_fill_manual(values = c(\"white\",\"red\")) +\n",
    "  theme(panel.background = element_blank(), \n",
    "        axis.text.x = element_text(angle = 0, hjust = 1)) +\n",
    "  annotate(geom = \"rect\", xmin = min(as.numeric(full_dataset$seurat_clusters))-1, \n",
    "           xmax = max(as.numeric(full_dataset$seurat_clusters))+1, \n",
    "           ymin=0, ymax=cutoff_nFeature_RNA, fill = \"red\", alpha = 0.1)\n",
    "\n",
    "\n",
    "\n",
    "p1 + p2"
   ]
  },
  {
   "cell_type": "markdown",
   "metadata": {},
   "source": [
    "Create filtered dataset. "
   ]
  },
  {
   "cell_type": "code",
   "execution_count": null,
   "metadata": {},
   "outputs": [],
   "source": [
    "full_dataset_filt <- subset(full_dataset, ((seurat_clusters %in% cluster_exclude)==F) & \n",
    "                       nFeature_RNA > 300 &\n",
    "                         percent.mt < 5)"
   ]
  },
  {
   "cell_type": "code",
   "execution_count": null,
   "metadata": {},
   "outputs": [],
   "source": [
    "options(future.globals.maxSize = 10000 * 1024^2)\n",
    "options(repr.plot.width = 6, repr.plot.height = 5)\n",
    "\n",
    "\n",
    "full_dataset_filt <- SCTransform(full_dataset_filt)\n",
    "\n",
    "\n",
    "var_features <- VariableFeatures(full_dataset_filt)\n",
    "var_remove  <-  '^HLA-|^IG[HJKL]|^RNA|^MT|^RP|^MTRNR' # remove HLA, immunoglobulin, RNA, MT, and RP genes based on HUGO gene names\n",
    "var_features  <-  grep(var_remove, var_features, invert=T, value=T)\n",
    "\n",
    "full_dataset_filt <- RunPCA(full_dataset_filt, features = var_features)\n",
    "full_dataset_filt <- RunUMAP(full_dataset_filt, dims = 1:12)\n",
    "full_dataset_filt <- FindNeighbors(full_dataset_filt)\n",
    "full_dataset_filt <- FindClusters(full_dataset_filt, resolution = 0.2)\n",
    "\n",
    "DimPlot(full_dataset_filt, group.by = \"source\")\n",
    "DimPlot(full_dataset_filt, label = T)\n",
    "\n",
    "FeaturePlot(full_dataset_filt, features = \"nCount_RNA\")\n",
    "FeaturePlot(full_dataset_filt, features = \"MKI67\")\n",
    "FeaturePlot(full_dataset_filt, features = \"CD4\")\n",
    "FeaturePlot(full_dataset_filt, features = \"CD8A\")\n",
    "FeaturePlot(full_dataset_filt, features = \"CD3D\")"
   ]
  },
  {
   "cell_type": "code",
   "execution_count": null,
   "metadata": {},
   "outputs": [],
   "source": [
    "options(repr.plot.width = 10)\n",
    "\n",
    "DimPlot(full_dataset_filt, group.by = \"Monaco_single\", label = T, repel = T)"
   ]
  },
  {
   "cell_type": "code",
   "execution_count": null,
   "metadata": {},
   "outputs": [],
   "source": [
    "options(repr.plot.width = 10)\n",
    "DimPlot(full_dataset_filt, group.by = \"Wherry_main\", label = T, repel = T)"
   ]
  },
  {
   "cell_type": "code",
   "execution_count": null,
   "metadata": {},
   "outputs": [],
   "source": [
    "options(repr.plot.width = 10)\n",
    "DimPlot(full_dataset_filt, group.by = \"predicted.celltype.l3\", label = T, repel = T)"
   ]
  },
  {
   "cell_type": "code",
   "execution_count": null,
   "metadata": {
    "scrolled": true
   },
   "outputs": [],
   "source": [
    "options(repr.plot.width = 10)\n",
    "DimPlot(full_dataset_filt, group.by = \"predicted.celltype.l2\", label = T, repel = T)"
   ]
  },
  {
   "cell_type": "code",
   "execution_count": null,
   "metadata": {},
   "outputs": [],
   "source": [
    "full_dataset_filt <- FindClusters(full_dataset_filt, resolution = 0.4)\n"
   ]
  },
  {
   "cell_type": "code",
   "execution_count": null,
   "metadata": {},
   "outputs": [],
   "source": [
    "options(repr.plot.width = 6, repr.plot.height = 5)\n",
    "DimPlot(full_dataset_filt, label = T)"
   ]
  },
  {
   "cell_type": "markdown",
   "metadata": {},
   "source": [
    "Second filtering, based on clustering, markers and predicted cell types."
   ]
  },
  {
   "cell_type": "code",
   "execution_count": null,
   "metadata": {},
   "outputs": [],
   "source": [
    "full_dataset_filt <- subset(full_dataset_filt, seurat_clusters %in% c(0:3,7,8,10))"
   ]
  },
  {
   "cell_type": "code",
   "execution_count": null,
   "metadata": {},
   "outputs": [],
   "source": [
    "options(future.globals.maxSize = 10000 * 1024^2)\n",
    "full_dataset_filt <- SCTransform(full_dataset_filt)\n",
    "\n",
    "\n",
    "var_features <- VariableFeatures(full_dataset_filt)\n",
    "var_remove  <-  '^HLA-|^IG[HJKL]|^RNA|^MT|^RP|^MTRNR|^TR[AB]V' # remove HLA, immunoglobulin, RNA, MT, RP and TCR genes based on HUGO gene names\n",
    "var_features  <-  grep(var_remove, var_features, invert=T, value=T)\n",
    "\n",
    "full_dataset_filt <- RunPCA(full_dataset_filt, features = var_features)\n",
    "full_dataset_filt <- RunUMAP(full_dataset_filt, dims = 1:12)\n",
    "full_dataset_filt <- FindNeighbors(full_dataset_filt)\n",
    "full_dataset_filt <- FindClusters(full_dataset_filt, resolution = 0.2)\n",
    "\n",
    "DimPlot(full_dataset_filt, group.by = \"source\")\n",
    "DimPlot(full_dataset_filt, label = T)\n",
    "\n",
    "FeaturePlot(full_dataset_filt, features = \"nCount_RNA\")\n",
    "FeaturePlot(full_dataset_filt, features = \"MKI67\")\n",
    "FeaturePlot(full_dataset_filt, features = \"CD4\")\n",
    "FeaturePlot(full_dataset_filt, features = \"CD8A\")\n",
    "FeaturePlot(full_dataset_filt, features = \"CD3D\")"
   ]
  },
  {
   "cell_type": "code",
   "execution_count": null,
   "metadata": {},
   "outputs": [],
   "source": [
    "options(repr.plot.width = 6)\n",
    "DimPlot(full_dataset_filt, label = T)"
   ]
  },
  {
   "cell_type": "code",
   "execution_count": null,
   "metadata": {
    "scrolled": true
   },
   "outputs": [],
   "source": [
    "options(repr.plot.width = 16, repr.plot.height = 16)\n",
    "\n",
    "FeaturePlot(full_dataset_filt, features = c(\"SELL\", \"CCL5\",\"FOXP3\",\"IL2RA\",\"IFNG\",\n",
    "                                       \"CD160\",\"ZBTB16\",\"IL21R\",\n",
    "                                       \"TBX21\",\"RORC\",\"BCL6\",\"IL26\",\n",
    "                                       \"GNLY\",\"CD8A\",\"CSF2\", \"CD27\", \"HLA-DRB1\",\n",
    "                                       \"IL13\",\"IL4\", \"MKI67\"), ncol = 4)"
   ]
  },
  {
   "cell_type": "code",
   "execution_count": null,
   "metadata": {},
   "outputs": [],
   "source": [
    "options(repr.plot.width = 14, repr.plot.height = 10)\n",
    "\n",
    "DimPlot(full_dataset_filt, group.by = \"Monaco_single\", label = T, repel = T)"
   ]
  },
  {
   "cell_type": "code",
   "execution_count": null,
   "metadata": {},
   "outputs": [],
   "source": [
    "options(repr.plot.width = 14, repr.plot.height = 10)\n",
    "DimPlot(full_dataset_filt, group.by = \"Wherry_main\", label = T, repel = T)"
   ]
  },
  {
   "cell_type": "code",
   "execution_count": null,
   "metadata": {},
   "outputs": [],
   "source": [
    "options(repr.plot.width = 14, repr.plot.height = 10)\n",
    "DimPlot(full_dataset_filt, group.by = \"predicted.celltype.l2\", label = T, repel = T)"
   ]
  },
  {
   "cell_type": "code",
   "execution_count": null,
   "metadata": {},
   "outputs": [],
   "source": [
    "options(repr.plot.width = 14, repr.plot.height = 10)\n",
    "DimPlot(full_dataset_filt, group.by = \"predicted.celltype.l3\", label = T, repel = T)"
   ]
  },
  {
   "cell_type": "code",
   "execution_count": null,
   "metadata": {},
   "outputs": [],
   "source": [
    "DimPlot(full_dataset_filt, group.by = \"source\")\n"
   ]
  },
  {
   "cell_type": "code",
   "execution_count": null,
   "metadata": {},
   "outputs": [],
   "source": []
  }
 ],
 "metadata": {
  "kernelspec": {
   "display_name": "R",
   "language": "R",
   "name": "ir"
  },
  "language_info": {
   "codemirror_mode": "r",
   "file_extension": ".r",
   "mimetype": "text/x-r-source",
   "name": "R",
   "pygments_lexer": "r",
   "version": "4.4.2"
  },
  "toc": {
   "base_numbering": 1,
   "nav_menu": {},
   "number_sections": true,
   "sideBar": true,
   "skip_h1_title": false,
   "title_cell": "Table of Contents",
   "title_sidebar": "Contents",
   "toc_cell": false,
   "toc_position": {},
   "toc_section_display": true,
   "toc_window_display": true
  }
 },
 "nbformat": 4,
 "nbformat_minor": 4
}
