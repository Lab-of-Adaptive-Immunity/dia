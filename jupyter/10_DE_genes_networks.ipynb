{
 "cells": [
  {
   "cell_type": "code",
   "execution_count": null,
   "id": "8704100f",
   "metadata": {
    "scrolled": true
   },
   "outputs": [],
   "source": [
    "source(\"diabetes_analysis_v07.R\")\n",
    "\n",
    "rank_score_func <- function(df){\n",
    "df <- df %>% mutate(score = -1*log(p_val_adj+(10^-310))*avg_log2FC*(pct.1/(pct.2+10^-300)))\n",
    "return(df)\n",
    "}\n",
    "\n"
   ]
  },
  {
   "cell_type": "code",
   "execution_count": null,
   "id": "355a91ec",
   "metadata": {
    "scrolled": true
   },
   "outputs": [],
   "source": [
    "library(msigdbr)\n",
    "library(clusterProfiler)\n",
    "library(org.Hs.eg.db)\n",
    "library(enrichplot)\n",
    "library(EnsDb.Hsapiens.v86)\n",
    "library(fgsea)"
   ]
  },
  {
   "cell_type": "markdown",
   "id": "fc8bc4ff",
   "metadata": {},
   "source": [
    "# Load markers, add EnsID"
   ]
  },
  {
   "cell_type": "code",
   "execution_count": null,
   "id": "3cee88dd",
   "metadata": {
    "scrolled": true
   },
   "outputs": [],
   "source": [
    "markers_cd4  <- read_csv(\"../tables/de_genes/240319_cd4_all_markers_without_sex.csv\")\n",
    "markers_cd8  <- read_csv(\"../tables/de_genes/240319_cd8_all_markers_without_sex.csv\")"
   ]
  },
  {
   "cell_type": "code",
   "execution_count": null,
   "id": "d06018bb",
   "metadata": {},
   "outputs": [],
   "source": [
    "all_markers  <- rbind(markers_cd4, markers_cd8)"
   ]
  },
  {
   "cell_type": "code",
   "execution_count": null,
   "id": "e8bddd28",
   "metadata": {},
   "outputs": [],
   "source": [
    "all_markers$source  %>% table"
   ]
  },
  {
   "cell_type": "code",
   "execution_count": null,
   "id": "0cfe21f1",
   "metadata": {},
   "outputs": [],
   "source": [
    "all_markers  <- all_markers  %>% mutate(\n",
    "direction = case_when(test_type == \"Dia T1 vs Ctrl T0\" & cluster == \"Ctrl T0\" ~ \"Down\",\n",
    "                      test_type == \"Dia T1 vs Ctrl T0\" & cluster == \"Dia T1\" ~ \"Up\",\n",
    "                      \n",
    "                      test_type == \"Dia T0 vs Ctrl T0\" & cluster == \"Ctrl T0\" ~ \"Down\",\n",
    "                      test_type == \"Dia T0 vs Ctrl T0\" & cluster == \"Dia T0\" ~ \"Up\",\n",
    "                      \n",
    "                      test_type == \"Dia T0 vs Dia T1\" & cluster == \"Dia T0\" ~ \"Up\",\n",
    "                      test_type == \"Dia T0 vs Dia T1\" & cluster == \"Dia T1\" ~ \"Down\",\n",
    "                      \n",
    "                      test_type == \"PR_0 T0 vs PR_0 T1\" & cluster == \"PR_0 T0\" ~ \"Up\",\n",
    "                      test_type == \"PR_0 T0 vs PR_0 T1\" & cluster == \"PR_0 T1\" ~ \"Down\",\n",
    "                      \n",
    "                      test_type == \"PR_0 T0 vs PR_1 T0\" & cluster == \"PR_0 T0\" ~ \"Up\",\n",
    "                      test_type == \"PR_0 T0 vs PR_1 T0\" & cluster == \"PR_1 T0\" ~ \"Down\",\n",
    "                      \n",
    "                      test_type == \"PR_0 T1 vs PR_1 T1\" & cluster == \"PR_0 T1\" ~ \"Up\",\n",
    "                      test_type == \"PR_0 T1 vs PR_1 T1\" & cluster == \"PR_1 T1\" ~ \"Down\",\n",
    "                      \n",
    "                      test_type == \"PR_1 T0 vs PR_1 T1\" & cluster == \"PR_1 T0\" ~ \"Up\",\n",
    "                      test_type == \"PR_1 T0 vs PR_1 T1\" & cluster == \"PR_1 T1\" ~ \"Down\",\n",
    "                      \n",
    "                      test_type == \"Keto_1 T0 vs Keto_0 T0\" & cluster == \"Keto_0 T0\" ~ \"Down\",\n",
    "                      test_type == \"Keto_1 T0 vs Keto_0 T0\" & cluster == \"Keto_1 T0\" ~ \"Up\"\n",
    "                      \n",
    "                     ))"
   ]
  },
  {
   "cell_type": "code",
   "execution_count": null,
   "id": "9a8cce13",
   "metadata": {
    "scrolled": true
   },
   "outputs": [],
   "source": [
    "all_markers  %>% group_by(cluster, test_type, direction)  %>% tally"
   ]
  },
  {
   "cell_type": "code",
   "execution_count": null,
   "id": "19d2463a",
   "metadata": {},
   "outputs": [],
   "source": [
    "geneIDs1 <- ensembldb::select(EnsDb.Hsapiens.v86, keys= (all_markers$gene  %>% unique ), \n",
    "                              keytype = \"SYMBOL\", columns = c(\"SYMBOL\",\"ENTREZID\"))"
   ]
  },
  {
   "cell_type": "code",
   "execution_count": null,
   "id": "d246f594",
   "metadata": {},
   "outputs": [],
   "source": [
    "colnames(geneIDs1)  <- c(\"gene\", \"entrezid\")"
   ]
  },
  {
   "cell_type": "code",
   "execution_count": null,
   "id": "710ce0e0",
   "metadata": {},
   "outputs": [],
   "source": [
    "all_markers2  <- all_markers  %>% \n",
    "                    left_join(geneIDs1) "
   ]
  },
  {
   "cell_type": "code",
   "execution_count": null,
   "id": "3fbf3631",
   "metadata": {
    "scrolled": true
   },
   "outputs": [],
   "source": [
    "all_markers2"
   ]
  },
  {
   "cell_type": "code",
   "execution_count": null,
   "id": "4422d52e",
   "metadata": {},
   "outputs": [],
   "source": [
    "all_markers$gene_direction  <- paste(all_markers$gene, all_markers$direction)"
   ]
  },
  {
   "cell_type": "code",
   "execution_count": null,
   "id": "a53f7e59",
   "metadata": {},
   "outputs": [],
   "source": [
    "all_markers2$gene_direction  <- paste(all_markers2$gene, all_markers2$direction)"
   ]
  },
  {
   "cell_type": "markdown",
   "id": "966e8a53",
   "metadata": {},
   "source": [
    "## Gene network"
   ]
  },
  {
   "cell_type": "markdown",
   "id": "bf431eb9",
   "metadata": {},
   "source": [
    "### RNA"
   ]
  },
  {
   "cell_type": "code",
   "execution_count": null,
   "id": "223e0c67",
   "metadata": {
    "scrolled": true
   },
   "outputs": [],
   "source": [
    " all_markers2  %>% dplyr::filter(source == \"scRNAseq_RNA\")  %>% \n",
    "group_by(gene_direction)  %>% tally()  %>% arrange(desc(n))  "
   ]
  },
  {
   "cell_type": "code",
   "execution_count": null,
   "id": "0bb0942c",
   "metadata": {},
   "outputs": [],
   "source": [
    "global_genes  <- all_markers2  %>% dplyr::filter(source == \"scRNAseq_RNA\")  %>% \n",
    "group_by(gene)  %>% tally()  %>% dplyr::filter(n>1)  %>% arrange(desc(n))  %>% pull(gene)"
   ]
  },
  {
   "cell_type": "code",
   "execution_count": null,
   "id": "61cc876a",
   "metadata": {
    "scrolled": true
   },
   "outputs": [],
   "source": [
    "global_genes"
   ]
  },
  {
   "cell_type": "code",
   "execution_count": null,
   "id": "9efcdf1c",
   "metadata": {},
   "outputs": [],
   "source": [
    "global_genes  %>% length"
   ]
  },
  {
   "cell_type": "code",
   "execution_count": null,
   "id": "4daab0b8",
   "metadata": {},
   "outputs": [],
   "source": [
    "lvl  <- all_markers  %>% \n",
    "group_by(gene, cluster)  %>% arrange(cluster)  %>% pull(gene)  %>% unique"
   ]
  },
  {
   "cell_type": "code",
   "execution_count": null,
   "id": "be693c81",
   "metadata": {},
   "outputs": [],
   "source": [
    "is.more.than.one.cluster  <- all_markers  %>% dplyr::filter(source == \"scRNAseq_RNA\")  %>% \n",
    "group_by(gene, direction)  %>% tally  %>% arrange(desc(n))  %>% dplyr::filter(n>1)  %>% pull(gene)"
   ]
  },
  {
   "cell_type": "code",
   "execution_count": null,
   "id": "f4c4e7ba",
   "metadata": {
    "scrolled": true
   },
   "outputs": [],
   "source": [
    "is.more.than.one.cluster"
   ]
  },
  {
   "cell_type": "code",
   "execution_count": null,
   "id": "5d8bc0d1",
   "metadata": {},
   "outputs": [],
   "source": [
    "options(repr.plot.height = 4, repr.plot.width = 30)\n",
    "all_markers  %>% \n",
    "dplyr::filter(gene %in% is.more.than.one.cluster & p_val_adj < 0.01 &\n",
    "              source == \"scRNAseq_RNA\" & direction == \"Up\")  %>%  \n",
    "mutate(cluster_source = paste(cluster, source))  %>% \n",
    "ggplot(aes(factor(gene, levels = lvl), dataset)) + \n",
    "  geom_point(aes(size = -log(p_val_adj, base = 10), colour = test_type)) + \n",
    "  theme_bw()  + scale_size_continuous(range=c(1,4)) +\n",
    "  #scale_colour_gradient2(low = \"lightskyblue\", mid = \"lightsteelblue2\", high = \"salmon\") + \n",
    " theme(axis.text.x = element_text(angle = 90))"
   ]
  },
  {
   "cell_type": "code",
   "execution_count": null,
   "id": "b5f1f50c",
   "metadata": {},
   "outputs": [],
   "source": [
    "options(repr.plot.height = 4, repr.plot.width = 30)\n",
    "all_markers  %>% \n",
    "dplyr::filter(gene %in% is.more.than.one.cluster & p_val_adj < 0.01 &\n",
    "              source == \"scRNAseq_RNA\" & direction == \"Down\")  %>%  \n",
    "mutate(cluster_source = paste(cluster, source))  %>% \n",
    "ggplot(aes(factor(gene, levels = lvl), dataset)) + \n",
    "  geom_point(aes(size = -log(p_val_adj, base = 10), colour = test_type)) + \n",
    "  theme_bw()  + scale_size_continuous(range=c(1,4)) +\n",
    "  #scale_colour_gradient2(low = \"lightskyblue\", mid = \"lightsteelblue2\", high = \"salmon\") + \n",
    " theme(axis.text.x = element_text(angle = 90))"
   ]
  },
  {
   "cell_type": "markdown",
   "id": "fa58023e",
   "metadata": {},
   "source": [
    "# Counts of DE genes"
   ]
  },
  {
   "cell_type": "markdown",
   "id": "b81867de",
   "metadata": {},
   "source": [
    "### RNA"
   ]
  },
  {
   "cell_type": "code",
   "execution_count": null,
   "id": "882d4023",
   "metadata": {},
   "outputs": [],
   "source": [
    "options(repr.plot.width = 10, repr.plot.height = 5)\n",
    "all_markers  %>% \n",
    "group_by(cluster, source, test_type, dataset)  %>% \n",
    "dplyr::filter(source == \"scRNAseq_RNA\")  %>% \n",
    "ggplot(aes(x = dataset)) +\n",
    "geom_bar(aes(fill = test_type), position = \"stack\") + coord_flip() "
   ]
  },
  {
   "cell_type": "code",
   "execution_count": null,
   "id": "fea180f6",
   "metadata": {},
   "outputs": [],
   "source": [
    "options(repr.plot.width = 20, repr.plot.height = 5)\n",
    "all_markers  %>% \n",
    "group_by(cluster, source, test_type, dataset)  %>% \n",
    "dplyr::filter(source == \"scRNAseq_RNA\" & test_type != \"Cpept_HI_T1 vs Cpept_LO_T1\")  %>% \n",
    "ggplot(aes(x = dataset)) +\n",
    "facet_grid(cols = vars(test_type)) +\n",
    "geom_bar(aes(fill = cluster), position = \"stack\") + coord_flip() "
   ]
  },
  {
   "cell_type": "code",
   "execution_count": null,
   "id": "829559b0",
   "metadata": {
    "scrolled": true
   },
   "outputs": [],
   "source": [
    "all_markers  %>% \n",
    "group_by(cluster, source, test_type, dataset)  %>% \n",
    "mutate(dataset = stringr::str_to_upper(gsub(dataset, pattern = \"_\", replacement = \" \")))  %>% \n",
    "dplyr::filter(source == \"scRNAseq_RNA\" & test_type != \"Cpept_HI_T1 vs Cpept_LO_T1\")  %>% \n",
    "ggplot(aes(x = dataset)) +\n",
    "facet_grid(cols = vars(test_type)) +\n",
    "geom_bar(aes(fill = direction), position = \"stack\") + coord_flip() +\n",
    "ggtheme() + \n",
    "theme_bw() + \n",
    "scale_fill_manual(values = c(\"#90c2f1ff\", \"#d0625dff\")) + theme(axis.ticks.y = element_blank())\n"
   ]
  },
  {
   "cell_type": "code",
   "execution_count": null,
   "id": "c79677b5",
   "metadata": {},
   "outputs": [],
   "source": [
    "all_markers$test_type  %>% table"
   ]
  },
  {
   "cell_type": "code",
   "execution_count": null,
   "id": "1efcb3ce",
   "metadata": {},
   "outputs": [],
   "source": [
    "all_markers  %>% \n",
    "group_by(cluster, source, test_type, dataset)  %>% \n",
    "mutate(dataset = stringr::str_to_upper(gsub(dataset, pattern = \"_\", replacement = \" \")))  %>% \n",
    "dplyr::filter(source == \"scRNAseq_RNA\" & test_type != \"Cpept_HI_T1 vs Cpept_LO_T1\" &\n",
    "             test_type != \"PR_0 T0 vs PR_0 T1\" & test_type != \"PR_0 T1 vs PR_1 T1\" &\n",
    "             test_type != \"PR_1 T0 vs PR_1 T1\" )  %>% \n",
    "ggplot(aes(x = dataset)) +\n",
    "facet_grid(cols = vars(test_type)) +\n",
    "geom_bar(aes(fill = direction), position = \"stack\") + coord_flip() +\n",
    "ggtheme() + \n",
    "theme_bw() + \n",
    "scale_fill_manual(values = c(\"#90c2f1ff\", \"#d0625dff\")) + theme(axis.ticks.y = element_blank())\n"
   ]
  },
  {
   "cell_type": "code",
   "execution_count": null,
   "id": "353851d3",
   "metadata": {},
   "outputs": [],
   "source": [
    "library(svglite)\n",
    "dir.create(\"../figures/DE_genes/\")\n",
    "ggsave(filename = \"../figures/DE_genes/count_of_RNA_markers.svg\", width = 11, height = 4)"
   ]
  },
  {
   "cell_type": "markdown",
   "id": "fc446aa8",
   "metadata": {},
   "source": [
    "### CollecTRI"
   ]
  },
  {
   "cell_type": "code",
   "execution_count": null,
   "id": "c353854a",
   "metadata": {},
   "outputs": [],
   "source": [
    "all_markers  %>% \n",
    "group_by(cluster, source, test_type, dataset)  %>% \n",
    "dplyr::filter(source == \"scRNAseq_collecTRI\")  %>% \n",
    "ggplot(aes(x = dataset)) +\n",
    "geom_bar(aes(fill = test_type), position = \"stack\") + coord_flip() "
   ]
  },
  {
   "cell_type": "code",
   "execution_count": null,
   "id": "209aa07e",
   "metadata": {},
   "outputs": [],
   "source": [
    "all_markers  %>% \n",
    "group_by(cluster, source, test_type, dataset)  %>% \n",
    "dplyr::filter(source == \"scRNAseq_collecTRI\")  %>% \n",
    "ggplot(aes(x = dataset)) +\n",
    "facet_grid(cols = vars(test_type)) +\n",
    "geom_bar(aes(fill = cluster), position = \"stack\") + coord_flip() "
   ]
  },
  {
   "cell_type": "code",
   "execution_count": null,
   "id": "136830d9",
   "metadata": {
    "scrolled": true
   },
   "outputs": [],
   "source": [
    "all_markers  %>% dplyr::filter(source == \"scRNAseq_collecTRI\")  %>% \n",
    "mutate(gene_direction = paste(gene, direction))  %>% \n",
    "group_by(gene, gene_direction)  %>% tally  %>% arrange(desc(n))"
   ]
  },
  {
   "cell_type": "markdown",
   "id": "1a967e3b",
   "metadata": {},
   "source": [
    "## Global enrichment"
   ]
  },
  {
   "cell_type": "code",
   "execution_count": null,
   "id": "80df45d3",
   "metadata": {},
   "outputs": [],
   "source": [
    "up_dia_t0_vs_ctrl_t0  <- all_markers2  %>% \n",
    "                        dplyr::filter(test_type == \"Dia T0 vs Ctrl T0\" & cluster == \"Dia T0\" & source == \"scRNAseq_RNA\")  %>% \n",
    "                        group_by(gene)  %>% \n",
    "                        tally()  %>% \n",
    "                        arrange(desc(n))  %>% \n",
    "                        pull(gene)\n",
    "down_dia_t0_vs_ctrl_t0  <- all_markers2  %>% \n",
    "                        dplyr::filter(test_type == \"Dia T0 vs Ctrl T0\" & cluster == \"Ctrl T0\" & source == \"scRNAseq_RNA\")  %>% \n",
    "                        group_by(gene)  %>% \n",
    "                        tally()  %>% \n",
    "                        arrange(desc(n))  %>% \n",
    "                        pull(gene)"
   ]
  },
  {
   "cell_type": "code",
   "execution_count": null,
   "id": "daf7665b",
   "metadata": {},
   "outputs": [],
   "source": [
    "up_dia_t0_vs_ctrl_t0"
   ]
  },
  {
   "cell_type": "code",
   "execution_count": null,
   "id": "bd2d3d94",
   "metadata": {},
   "outputs": [],
   "source": [
    "ego2 <- enrichGO(gene         = up_dia_t0_vs_ctrl_t0,\n",
    "                OrgDb         = org.Hs.eg.db,\n",
    "                keyType       = 'SYMBOL',\n",
    "                ont           = \"ALL\",\n",
    "                pAdjustMethod = \"BH\",\n",
    "                pvalueCutoff  = 0.01,\n",
    "                qvalueCutoff  = 0.05)\n",
    "head(ego2, 3)         "
   ]
  },
  {
   "cell_type": "code",
   "execution_count": null,
   "id": "035846b0",
   "metadata": {},
   "outputs": [],
   "source": [
    "options(repr.plot.width = 23, repr.plot.height = 7)\n",
    "edox2 <- pairwise_termsim(ego2)"
   ]
  },
  {
   "cell_type": "code",
   "execution_count": null,
   "id": "f0a7740f",
   "metadata": {},
   "outputs": [],
   "source": []
  },
  {
   "cell_type": "code",
   "execution_count": null,
   "id": "cdcf83f6",
   "metadata": {
    "scrolled": true
   },
   "outputs": [],
   "source": [
    "edox2"
   ]
  },
  {
   "cell_type": "code",
   "execution_count": null,
   "id": "5394cf61",
   "metadata": {},
   "outputs": [],
   "source": [
    "dir.create(\"../data/gsea/\")"
   ]
  },
  {
   "cell_type": "code",
   "execution_count": null,
   "id": "064062d7",
   "metadata": {
    "scrolled": true
   },
   "outputs": [],
   "source": [
    "saveRDS(edox2, \"../data/gsea/up_dia_t0_vs_ctrl_t0.rds\")\n"
   ]
  },
  {
   "cell_type": "code",
   "execution_count": null,
   "id": "8ff4bd4f",
   "metadata": {},
   "outputs": [],
   "source": [
    "ego2 <- enrichGO(gene         = down_dia_t0_vs_ctrl_t0,\n",
    "                OrgDb         = org.Hs.eg.db,\n",
    "                keyType       = 'SYMBOL',\n",
    "                ont           = \"ALL\",\n",
    "                pAdjustMethod = \"BH\",\n",
    "                pvalueCutoff  = 0.01,\n",
    "                qvalueCutoff  = 0.05)\n",
    "head(ego2, 3)   "
   ]
  },
  {
   "cell_type": "code",
   "execution_count": null,
   "id": "ad3589b8",
   "metadata": {},
   "outputs": [],
   "source": [
    "edox2 <- pairwise_termsim(ego2)\n",
    "saveRDS(edox2, \"../data/gsea/down_dia_t0_vs_ctrl_t0.rds\")\n"
   ]
  },
  {
   "cell_type": "markdown",
   "id": "78b9d48b",
   "metadata": {},
   "source": [
    "# DE genes T0 and T1 in clusters"
   ]
  },
  {
   "cell_type": "code",
   "execution_count": null,
   "id": "6f2c5621",
   "metadata": {},
   "outputs": [],
   "source": [
    "all_markers$test_type  %>% table"
   ]
  },
  {
   "cell_type": "code",
   "execution_count": null,
   "id": "7c6e9fb5",
   "metadata": {},
   "outputs": [],
   "source": [
    "datasets  <- levels(factor(all_markers$dataset))"
   ]
  },
  {
   "cell_type": "code",
   "execution_count": null,
   "id": "58c54a91",
   "metadata": {},
   "outputs": [],
   "source": [
    "datasets"
   ]
  },
  {
   "cell_type": "code",
   "execution_count": null,
   "id": "80ea271d",
   "metadata": {},
   "outputs": [],
   "source": [
    "i = 1"
   ]
  },
  {
   "cell_type": "code",
   "execution_count": null,
   "id": "196eef27",
   "metadata": {},
   "outputs": [],
   "source": [
    " mrk_clust  <- all_markers  %>% dplyr::filter(source == \"scRNAseq_RNA\") %>% \n",
    "mutate(gene_direction = paste(gene, direction))   %>% \n",
    "dplyr::filter(test_type %in% c(\"Dia T0 vs Ctrl T0\", \"Dia T1 vs Ctrl T0\") &\n",
    "             dataset == datasets[1])  %>% group_by(gene_direction)   %>% tally()  %>% arrange(desc(n))  %>% \n",
    "dplyr::filter(n>1)\n",
    "mrk_clust$dataset  <- datasets[1]"
   ]
  },
  {
   "cell_type": "code",
   "execution_count": null,
   "id": "55b26e97",
   "metadata": {},
   "outputs": [],
   "source": [
    "mrk_clust_all  <- mrk_clust"
   ]
  },
  {
   "cell_type": "code",
   "execution_count": null,
   "id": "32de69dd",
   "metadata": {},
   "outputs": [],
   "source": [
    "for(i in 2:length(datasets)){\n",
    "    mrk_clust  <- all_markers  %>% dplyr::filter(source == \"scRNAseq_RNA\") %>% \n",
    "mutate(gene_direction = paste(gene, direction))   %>% \n",
    "dplyr::filter(test_type %in% c(\"Dia T0 vs Ctrl T0\", \"Dia T1 vs Ctrl T0\") &\n",
    "             dataset == datasets[i])  %>% group_by(gene_direction)   %>% tally()  %>% arrange(desc(n))  %>% \n",
    "dplyr::filter(n>1)\n",
    "    mrk_clust$dataset  <- datasets[i]\n",
    "    mrk_clust_all  <- rbind(mrk_clust_all, mrk_clust)\n",
    "    }\n"
   ]
  },
  {
   "cell_type": "code",
   "execution_count": null,
   "id": "1005a4ba",
   "metadata": {
    "scrolled": true
   },
   "outputs": [],
   "source": [
    "mrk_clust_all  %>% nrow"
   ]
  },
  {
   "cell_type": "code",
   "execution_count": null,
   "id": "13e6a66a",
   "metadata": {
    "scrolled": true
   },
   "outputs": [],
   "source": [
    "mrk_clust_all  %>% group_by(gene_direction)  %>% \n",
    "tally  %>% arrange(desc(n))  %>% separate(gene_direction, into = c(\"gene\", \"direction\"),\n",
    "                                          sep = \" \", remove = F)  %>% \n",
    "dplyr::filter(direction == \"Down\")"
   ]
  },
  {
   "cell_type": "code",
   "execution_count": null,
   "id": "9b696334",
   "metadata": {},
   "outputs": [],
   "source": [
    "down_genes  <- mrk_clust_all  %>% group_by(gene_direction)  %>% \n",
    "tally  %>% arrange(desc(n))  %>% separate(gene_direction, into = c(\"gene\", \"direction\"),\n",
    "                                          sep = \" \", remove = F)  %>% \n",
    "dplyr::filter(direction == \"Down\")  %>% pull(gene)"
   ]
  },
  {
   "cell_type": "code",
   "execution_count": null,
   "id": "f9c0d192",
   "metadata": {},
   "outputs": [],
   "source": [
    "down_genes"
   ]
  },
  {
   "cell_type": "code",
   "execution_count": null,
   "id": "26ae7b16",
   "metadata": {
    "scrolled": true
   },
   "outputs": [],
   "source": [
    "up_genesd  <- mrk_clust_all  %>% group_by(gene_direction)  %>% \n",
    "tally  %>% arrange(desc(n))  %>% separate(gene_direction, into = c(\"gene\", \"direction\"),\n",
    "                                          sep = \" \", remove = F)  %>% \n",
    "dplyr::filter(direction == \"Up\")  %>% pull(gene)"
   ]
  },
  {
   "cell_type": "code",
   "execution_count": null,
   "id": "adfa3aa1",
   "metadata": {},
   "outputs": [],
   "source": [
    "up_genesd"
   ]
  },
  {
   "cell_type": "code",
   "execution_count": null,
   "id": "65bd2423",
   "metadata": {},
   "outputs": [],
   "source": [
    "all_markers$dataset  %>% table"
   ]
  },
  {
   "cell_type": "code",
   "execution_count": null,
   "id": "66daf8bb",
   "metadata": {
    "scrolled": true
   },
   "outputs": [],
   "source": [
    "all_markers"
   ]
  },
  {
   "cell_type": "code",
   "execution_count": null,
   "id": "e3ef308b",
   "metadata": {
    "scrolled": true
   },
   "outputs": [],
   "source": [
    "all_markers  %>% dplyr::filter(test_type %in% c(\"Dia T0 vs Ctrl T0\", \"Dia T1 vs Ctrl T0\") & \n",
    "                               source == \"scRNAseq_RNA\")  %>% \n",
    "dplyr::select(p_val_adj, gene, dataset, test_type)  %>% \n",
    "pivot_wider(names_from = \"test_type\", values_from = p_val_adj)"
   ]
  },
  {
   "cell_type": "code",
   "execution_count": null,
   "id": "86bf8019",
   "metadata": {
    "scrolled": true
   },
   "outputs": [],
   "source": [
    "options(repr.plot.width = 16, repr.plot.height = 16)\n",
    "all_markers  %>% dplyr::filter(test_type %in% c(\"Dia T0 vs Ctrl T0\", \"Dia T1 vs Ctrl T0\") & \n",
    "                               source == \"scRNAseq_RNA\" & !(grepl(gene, pattern = \"MTRN\")))  %>% \n",
    "dplyr::select(avg_log2FC, gene, dataset, test_type)  %>% \n",
    "pivot_wider(names_from = \"test_type\", values_from = avg_log2FC)  %>% \n",
    "ggplot(aes(x = `Dia T0 vs Ctrl T0`, y = `Dia T1 vs Ctrl T0`, label = gene, fill = dataset))  +\n",
    "geom_point() + geom_label()"
   ]
  },
  {
   "cell_type": "code",
   "execution_count": null,
   "id": "aec108e3",
   "metadata": {},
   "outputs": [],
   "source": [
    "options(repr.plot.height = 7, repr.plot.width = 25)\n",
    "all_markers  %>% \n",
    "mutate(is_shared  = gene %in% up_genesd | gene %in% down_genes,\n",
    "       direction_t0_t1 = ifelse(gene %in% up_genesd, \"UP\", ifelse(gene %in% down_genes, \"DOWN\", NA_character_)))  %>% \n",
    "dplyr::filter(source == \"scRNAseq_RNA\" & is_shared == T, \n",
    "              test_type %in% c(\"Dia T0 vs Ctrl T0\", \"Dia T1 vs Ctrl T0\"))  %>%  \n",
    "mutate(cluster_source = paste(cluster, source))  %>% \n",
    "ggplot(aes(factor(gene), dataset)) + \n",
    "facet_grid(cols = vars(direction_t0_t1), rows = vars(test_type), space = \"free\", scales = \"free\") +\n",
    "  geom_point(aes(size = -log(p_val_adj, base = 10), colour = direction)) + \n",
    "  theme_bw()  + scale_size_continuous(range=c(1,4)) +\n",
    "  #scale_colour_gradient2(low = \"lightskyblue\", mid = \"lightsteelblue2\", high = \"salmon\") + \n",
    " theme(axis.text.x = element_text(angle = 90))"
   ]
  },
  {
   "cell_type": "code",
   "execution_count": null,
   "id": "c657ea0d",
   "metadata": {},
   "outputs": [],
   "source": [
    "paths_fc  <- list.files(\"../tables/fold_change\", full.names = T)\n",
    "dataset_names  <- list.files(\"../tables/fold_change\", full.names = F)\n"
   ]
  },
  {
   "cell_type": "code",
   "execution_count": null,
   "id": "aac9c49e",
   "metadata": {},
   "outputs": [],
   "source": [
    "paths_fc"
   ]
  },
  {
   "cell_type": "code",
   "execution_count": null,
   "id": "994aae66",
   "metadata": {},
   "outputs": [],
   "source": [
    "paths_fc  <- paths_fc[which(grepl(paths_fc, pattern = \"Ctrl\"))]"
   ]
  },
  {
   "cell_type": "code",
   "execution_count": null,
   "id": "454d65d6",
   "metadata": {},
   "outputs": [],
   "source": [
    "dataset_names  <- dataset_names[which(grepl(dataset_names, pattern = \"Ctrl\"))]"
   ]
  },
  {
   "cell_type": "code",
   "execution_count": null,
   "id": "18519219",
   "metadata": {
    "scrolled": false
   },
   "outputs": [],
   "source": [
    "dataset_names"
   ]
  },
  {
   "cell_type": "code",
   "execution_count": null,
   "id": "00059dfc",
   "metadata": {},
   "outputs": [],
   "source": [
    "paths_fc"
   ]
  },
  {
   "cell_type": "code",
   "execution_count": null,
   "id": "87e061e9",
   "metadata": {},
   "outputs": [],
   "source": [
    "paths_fc  %>% length"
   ]
  },
  {
   "cell_type": "code",
   "execution_count": null,
   "id": "abc1646b",
   "metadata": {},
   "outputs": [],
   "source": [
    "all_fcs1  <- function(j) {\n",
    "  print(j)\n",
    "fc.df  <- read_csv(paths_fc[j])  %>% as.data.frame()\n",
    "  fc.df  <- fc.df  %>%  arrange(desc(avg_log2FC)) %>% \n",
    "dplyr::filter(grepl(cluster, pattern = \"Dia\")) \n",
    " fc.df$dataset  <-   gsub(dataset_names[j], pattern = \".csv\", replacement = \"\")\n",
    " fc.df$dataset  <-   gsub(fc.df$dataset, pattern = \"_Ctrl_vs_DiaT0\", replacement = \"\")\n",
    " fc.df$comaprison = \"DiaT0_vs_Ctrl\"   \n",
    "    \n",
    " return(fc.df)\n",
    "    }"
   ]
  },
  {
   "cell_type": "code",
   "execution_count": null,
   "id": "29f21f2b",
   "metadata": {
    "scrolled": true
   },
   "outputs": [],
   "source": [
    "all_fcs1_result  <- map(seq(from = 1, to = 41, by = 2), all_fcs1)"
   ]
  },
  {
   "cell_type": "code",
   "execution_count": null,
   "id": "d872d46d",
   "metadata": {},
   "outputs": [],
   "source": [
    "all_fcs_result  <- bind_rows(all_fcs1_result)"
   ]
  },
  {
   "cell_type": "code",
   "execution_count": null,
   "id": "8cc48650",
   "metadata": {},
   "outputs": [],
   "source": [
    "all_fcs_result$dataset  %>% table"
   ]
  },
  {
   "cell_type": "code",
   "execution_count": null,
   "id": "65d72bac",
   "metadata": {},
   "outputs": [],
   "source": [
    "all_fcs2  <- function(j) {\n",
    "  print(j)\n",
    "fc.df  <- read_csv(paths_fc[j])  %>% as.data.frame()\n",
    "  fc.df  <- fc.df  %>%  arrange(desc(avg_log2FC)) %>% \n",
    "dplyr::filter(grepl(cluster, pattern = \"Dia\")) \n",
    " fc.df$dataset  <-   gsub(dataset_names[j], pattern = \".csv\", replacement = \"\")\n",
    " fc.df$dataset  <-   gsub(fc.df$dataset, pattern = \"_Ctrl_vs_DiaT1\", replacement = \"\")\n",
    " fc.df$comaprison = \"DiaT1_vs_Ctrl\"\n",
    "    \n",
    " return(fc.df)\n",
    "    }"
   ]
  },
  {
   "cell_type": "code",
   "execution_count": null,
   "id": "120b3236",
   "metadata": {
    "scrolled": true
   },
   "outputs": [],
   "source": [
    "all_fcs2_result  <- map(seq(from = 2, to = 42, by = 2), all_fcs2)"
   ]
  },
  {
   "cell_type": "code",
   "execution_count": null,
   "id": "b5d70f8b",
   "metadata": {},
   "outputs": [],
   "source": [
    "all_fcs2_result  <- bind_rows(all_fcs2_result)"
   ]
  },
  {
   "cell_type": "code",
   "execution_count": null,
   "id": "942e0e43",
   "metadata": {},
   "outputs": [],
   "source": [
    "all_fcs_result  <- rbind(all_fcs_result, all_fcs2_result)"
   ]
  },
  {
   "cell_type": "code",
   "execution_count": null,
   "id": "4515794b",
   "metadata": {
    "scrolled": true
   },
   "outputs": [],
   "source": [
    "all_fcs_result"
   ]
  },
  {
   "cell_type": "code",
   "execution_count": null,
   "id": "b5609357",
   "metadata": {},
   "outputs": [],
   "source": [
    "all_fcs_result$dataset  %>% table"
   ]
  },
  {
   "cell_type": "code",
   "execution_count": null,
   "id": "27579b27",
   "metadata": {},
   "outputs": [],
   "source": [
    "options(repr.plot.height = 7, repr.plot.width = 25)\n",
    "all_fcs_result  %>% \n",
    "mutate(is_shared  = gene %in% up_genesd | gene %in% down_genes,\n",
    "       direction_t0_t1 = ifelse(gene %in% up_genesd, \"UP\", ifelse(gene %in% down_genes, \"DOWN\", NA_character_)))  %>% \n",
    "dplyr::filter(is_shared == TRUE)  %>% \n",
    "ggplot(aes(factor(gene), dataset)) + \n",
    "facet_grid(cols = vars(direction_t0_t1), rows = vars(comaprison), space = \"free\", scales = \"free\") +\n",
    "  geom_point(aes(size = -log(p_val_adj, base = 10), colour = avg_log2FC, alpha = p_val_adj < 0.05)) + \n",
    "  theme_bw()  + scale_size_continuous(range=c(1,4)) +\n",
    "scale_alpha_manual(values = c(0.4,1)) +\n",
    " scale_colour_gradient2(low = \"blue\", mid = \"white\", high = \"red\") + \n",
    " theme(axis.text.x = element_text(angle = 90))"
   ]
  },
  {
   "cell_type": "code",
   "execution_count": null,
   "id": "1579ffbe",
   "metadata": {},
   "outputs": [],
   "source": [
    "options(repr.plot.height = 7, repr.plot.width = 25)\n",
    "all_markers  %>% \n",
    "mutate(is_shared  = gene %in% up_genesd | gene %in% down_genes,\n",
    "       direction_t0_t1 = ifelse(gene %in% up_genesd, \"UP\", ifelse(gene %in% down_genes, \"DOWN\", NA_character_)))  %>% \n",
    "dplyr::filter(source == \"scRNAseq_RNA\" & is_shared == T, \n",
    "              test_type %in% c(\"Dia T0 vs Ctrl T0\", \"Dia T1 vs Ctrl T0\"))  %>%  \n",
    "mutate(cluster_source = paste(cluster, source))  %>% \n",
    "ggplot(aes(factor(gene), dataset)) + \n",
    "facet_grid(cols = vars(direction_t0_t1), rows = vars(test_type), space = \"free\", scales = \"free\") +\n",
    "  geom_point(aes(size = -log(p_val_adj, base = 10), colour = direction)) + \n",
    "  theme_bw()  + scale_size_continuous(range=c(1,4)) +\n",
    "  #scale_colour_gradient2(low = \"lightskyblue\", mid = \"lightsteelblue2\", high = \"salmon\") + \n",
    " theme(axis.text.x = element_text(angle = 90))"
   ]
  },
  {
   "cell_type": "code",
   "execution_count": null,
   "id": "8e1c9639",
   "metadata": {
    "scrolled": true
   },
   "outputs": [],
   "source": [
    "options(repr.plot.width = 16, repr.plot.height = 16)\n",
    "all_markers  %>% dplyr::filter(test_type %in% c(\"Dia T0 vs Ctrl T0\", \"Dia T1 vs Ctrl T0\") & \n",
    "                               source == \"scRNAseq_RNA\" & !(grepl(gene, pattern = \"MTRN\")))  %>% \n",
    "dplyr::select(avg_log2FC, gene, dataset, test_type)  %>% \n",
    "pivot_wider(names_from = \"test_type\", values_from = avg_log2FC)  %>% \n",
    "ggplot(aes(x = `Dia T0 vs Ctrl T0`, y = `Dia T1 vs Ctrl T0`, label = gene, fill = dataset))  +\n",
    "geom_point() "
   ]
  },
  {
   "cell_type": "code",
   "execution_count": null,
   "id": "b1f380ea",
   "metadata": {
    "scrolled": true
   },
   "outputs": [],
   "source": [
    "all_fcs_result"
   ]
  },
  {
   "cell_type": "code",
   "execution_count": null,
   "id": "770c82c0",
   "metadata": {},
   "outputs": [],
   "source": [
    "options(repr.plot.width = 16, repr.plot.height = 16)\n",
    "all_fcs_result  %>% \n",
    "dplyr::filter(p_val_adj < 0.05)  %>% \n",
    "dplyr::filter(!(grepl(gene, pattern = \"MTRN\")))  %>% \n",
    "mutate(gene_in_genes = ifelse(gene %in% c(\"GZMK\",\"GZMA\",\"TNF\",\"CX3CR1\",\"GZMB\"), gene, NA_character_))  %>% \n",
    "dplyr::select(avg_log2FC, gene, gene_in_genes, dataset, comaprison)  %>% \n",
    "pivot_wider(names_from = \"comaprison\", values_from = avg_log2FC)  %>% \n",
    "ggplot(aes(x = DiaT0_vs_Ctrl, y = DiaT1_vs_Ctrl, label = gene_in_genes, color = dataset))  +\n",
    "geom_point() + geom_label()"
   ]
  },
  {
   "cell_type": "code",
   "execution_count": null,
   "id": "3aceba99",
   "metadata": {},
   "outputs": [],
   "source": [
    "colors_of_populations = c(\n",
    "    'cd4_l1_full' = \"#ffa66aff\",\n",
    "    'cd4_l2_subcluster'  = \"#ffa66aff\",\n",
    "    'cd4_l2_unc'  = \"#cd3333ff\",\n",
    "    'cd4_l3_isaghi'  = \"#a46464ff\",\n",
    "    'cd4_l3_naive'  = \"#a58413ff\",\n",
    "    'cd4_l3_nfkb'  = \"#a46c43ff\",\n",
    "    'cd4_l3_proliferating'  = \"#9b3097ff\", \n",
    "    'cd4_l3_temra'  = \"#7d252aff\",\n",
    "    'cd4_l3_tfh'  = \"#8e6a1dff\",\n",
    "    'cd4_l3_th1th17'  = \"#a94e4eff\",\n",
    "    'cd4_l3_th2'  = \"#b36672ff\",\n",
    "    'cd4_l3_treg'  = \"#ba6d8dff\",\n",
    "    'cd8_l1_full'  = \"#67934aff\",\n",
    "    'cd8_l2_nk'  = \"#105292ff\",\n",
    "    'cd8_l2_subcluster' = \"#67934aff\", \n",
    "    'cd8_l2_unc'  = \"#6d00c0ff\",\n",
    "    'cd8_l3_naive'  = \"#004455ff\",\n",
    "    'cd8_l3_prolif'  = \"#5f711aff\",\n",
    "    'cd8_l3_tcm'  = \"#427c39ff\",\n",
    "    'cd8_l3_tem'  = \"#004455ff\",\n",
    "    'cd8_l3_temra'  = \"#16481fff\",\n",
    "    \"grey\" = \"grey88\"\n",
    ")"
   ]
  },
  {
   "cell_type": "code",
   "execution_count": null,
   "id": "9e0fd53a",
   "metadata": {},
   "outputs": [],
   "source": [
    "options(repr.plot.height = 12, repr.plot.width = 14)\n",
    "\n",
    "all_fcs_result  %>% \n",
    "dplyr::filter(gene %in% all_markers$gene)  %>% \n",
    "dplyr::filter(p_val_adj < 0.05)  %>% \n",
    "dplyr::filter(!(grepl(gene, pattern = \"MTRN\")) & \n",
    "              dataset %in% c(\"cd4_l1_full_filt\", \"cd8_l1_full_filt\"))  %>% \n",
    "dplyr::select(avg_log2FC, gene, dataset, comaprison)  %>% \n",
    "pivot_wider(names_from = \"comaprison\", values_from = avg_log2FC)  %>% \n",
    "mutate(gene_in_genes = ifelse(DiaT0_vs_Ctrl > 0.15 & DiaT1_vs_Ctrl > 0.15 |\n",
    "                              DiaT0_vs_Ctrl < -0.2 & DiaT1_vs_Ctrl < -0.2, \n",
    "                              gene, NA_character_))  %>% \n",
    "ggplot(aes(x = DiaT0_vs_Ctrl, y = DiaT1_vs_Ctrl, label = gene_in_genes, color = dataset))  +\n",
    "scale_color_manual(values = c(\"#ffa66aff\",\"#67934aff\"))  +\n",
    "geom_point(aes(shape = dataset)) + \n",
    "scale_shape_manual(values = c(21,22)) +\n",
    "ggrepel::geom_text_repel() +\n",
    "theme_bw() +\n",
    "ggtheme()\n",
    "ggsave(filename = \"../figures/DE_genes/corr_DE_t0_t1.svg\", width = 14, height = 12)"
   ]
  },
  {
   "cell_type": "code",
   "execution_count": null,
   "id": "93ac489d",
   "metadata": {},
   "outputs": [],
   "source": [
    "all_fcs_result  %>% \n",
    "dplyr::filter(gene %in% all_markers$gene)  %>% \n",
    "dplyr::filter(p_val_adj < 0.05)  %>% \n",
    "dplyr::filter(!(grepl(gene, pattern = \"MTRN\")) & \n",
    "              dataset %in% c(\"cd4_l1_full_filt\"))  %>% \n",
    "dplyr::select(avg_log2FC, gene, dataset, comaprison)  %>% \n",
    "pivot_wider(names_from = \"comaprison\", values_from = avg_log2FC)  %>% \n",
    "mutate(gene_in_genes = ifelse(DiaT0_vs_Ctrl > 0.10 & DiaT1_vs_Ctrl > 0.10 |\n",
    "                              DiaT0_vs_Ctrl < -0.2 & DiaT1_vs_Ctrl < -0.2 |\n",
    "                              DiaT0_vs_Ctrl < -0.1 & DiaT1_vs_Ctrl > 0.1 |\n",
    "                              DiaT0_vs_Ctrl > 0.1 & DiaT1_vs_Ctrl < -0.1 |\n",
    "                              DiaT1_vs_Ctrl < -0.5 |\n",
    "                              DiaT1_vs_Ctrl > 0.10, \n",
    "                              gene, NA_character_))  %>% \n",
    "ggplot(aes(x = DiaT0_vs_Ctrl, y = DiaT1_vs_Ctrl, label = gene_in_genes, color = dataset))  +\n",
    "scale_color_manual(values = c(\"#d45500ff\"))  +\n",
    "geom_point(aes(shape = dataset)) + \n",
    "scale_shape_manual(values = c(21,22)) +\n",
    "ggrepel::geom_text_repel() +\n",
    "theme_bw() +\n",
    "ggtheme()\n",
    "ggsave(filename = \"../figures/DE_genes/corr_DE_t0_t1_cd4.svg\", width = 14, height = 12)"
   ]
  },
  {
   "cell_type": "code",
   "execution_count": null,
   "id": "08c219fd",
   "metadata": {},
   "outputs": [],
   "source": [
    "all_fcs_result  %>% \n",
    "dplyr::filter(gene %in% all_markers$gene)  %>% \n",
    "dplyr::filter(p_val_adj < 0.05)  %>% \n",
    "dplyr::filter(!(grepl(gene, pattern = \"MTRN\")) & \n",
    "              dataset %in% c(\"cd8_l1_full_filt\"))  %>% \n",
    "dplyr::select(avg_log2FC, gene, dataset, comaprison)  %>% \n",
    "pivot_wider(names_from = \"comaprison\", values_from = avg_log2FC)  %>% \n",
    "mutate(gene_in_genes = ifelse(DiaT0_vs_Ctrl > 0.20 & DiaT1_vs_Ctrl > 0.20 |\n",
    "                              DiaT0_vs_Ctrl < -0.2 & DiaT1_vs_Ctrl < -0.2 |\n",
    "                              DiaT0_vs_Ctrl < -0.2 & DiaT1_vs_Ctrl > 0.2 |\n",
    "                              DiaT0_vs_Ctrl > 0.1 & DiaT1_vs_Ctrl < -0.1 |\n",
    "                              DiaT1_vs_Ctrl < -0.25 |\n",
    "                             DiaT0_vs_Ctrl < -0.3 |\n",
    "                              DiaT1_vs_Ctrl < -0.1, \n",
    "                              gene, NA_character_))  %>% \n",
    "ggplot(aes(x = DiaT0_vs_Ctrl, y = DiaT1_vs_Ctrl, label = gene_in_genes, color = dataset))  +\n",
    "scale_color_manual(values = c(\"#67934aff\"))  +\n",
    "geom_point(aes(shape = dataset)) + \n",
    "scale_shape_manual(values = c(21,22)) +\n",
    "ggrepel::geom_text_repel() +\n",
    "theme_bw() +\n",
    "ggtheme()\n",
    "ggsave(filename = \"../figures/DE_genes/corr_DE_t0_t1_cd8.svg\", width = 14, height = 12)"
   ]
  },
  {
   "cell_type": "code",
   "execution_count": null,
   "id": "a8845139",
   "metadata": {},
   "outputs": [],
   "source": []
  },
  {
   "cell_type": "code",
   "execution_count": null,
   "id": "6d0e647c",
   "metadata": {},
   "outputs": [],
   "source": [
    "colors_of_populations = c(\n",
    "    'cd4_l1_full' = \"#ffa66aff\",\n",
    "    'cd4_l2_subcluster'  = \"#ffa66aff\",\n",
    "    'cd4_l2_unc'  = \"#cd3333ff\",\n",
    "    'cd4_l3_isaghi'  = \"#a46464ff\",\n",
    "    'cd4_l3_naive'  = \"#a58413ff\",\n",
    "    'cd4_l3_nfkb'  = \"#a46c43ff\",\n",
    "    'cd4_l3_proliferating'  = \"#9b3097ff\", \n",
    "    'cd4_l3_temra'  = \"#7d252aff\",\n",
    "    'cd4_l3_tfh'  = \"#8e6a1dff\",\n",
    "    'cd4_l3_th1th17'  = \"#a94e4eff\",\n",
    "    'cd4_l3_th2'  = \"#b36672ff\",\n",
    "    'cd4_l3_treg'  = \"#ba6d8dff\",\n",
    "    'cd8_l1_full'  = \"#67934aff\",\n",
    "    'cd8_l2_nk'  = \"#105292ff\",\n",
    "    'cd8_l2_subcluster' = \"#67934aff\", \n",
    "    'cd8_l2_unc'  = \"#6d00c0ff\",\n",
    "    'cd8_l3_naive'  = \"#004455ff\",\n",
    "    'cd8_l3_prolif'  = \"#5f711aff\",\n",
    "    'cd8_l3_tcm'  = \"#427c39ff\",\n",
    "    'cd8_l3_tem'  = \"#004455ff\",\n",
    "    'cd8_l3_temra'  = \"#16481fff\",\n",
    "    \"grey\" = \"grey88\"\n",
    ")"
   ]
  },
  {
   "cell_type": "code",
   "execution_count": null,
   "id": "9fe5d1cd",
   "metadata": {},
   "outputs": [],
   "source": [
    "all_fcs_result  %>% \n",
    "dplyr::filter(gene %in% all_markers$gene)  %>% \n",
    "dplyr::filter(p_val_adj < 0.05)  %>% \n",
    "dplyr::filter(!(grepl(gene, pattern = \"MTRN\")) & \n",
    "              grepl(dataset, pattern = \"cd4_l3\"))  %>% \n",
    "dplyr::select(avg_log2FC, gene, dataset, comaprison)  %>% \n",
    "pivot_wider(names_from = \"comaprison\", values_from = avg_log2FC)  %>% \n",
    "mutate(gene_in_genes = ifelse(DiaT0_vs_Ctrl > 0.15 & DiaT1_vs_Ctrl > 0.15 |\n",
    "                              DiaT0_vs_Ctrl < -0.2 & DiaT1_vs_Ctrl < -0.2, \n",
    "                              gene, NA_character_))  %>% \n",
    "ggplot(aes(x = DiaT0_vs_Ctrl, y = DiaT1_vs_Ctrl, label = gene_in_genes, color = dataset))  +\n",
    "scale_color_manual(values = colors_of_populations)  +\n",
    "geom_point(aes(shape = dataset)) + \n",
    "scale_shape_manual(values = c(21:25,21:25)) +\n",
    "ggrepel::geom_text_repel() +\n",
    "theme_bw() +\n",
    "ggtheme()\n",
    "ggsave(filename = \"../figures/DE_genes/corr_DE_cd4_pop_t0_t1.svg\", width = 14, height = 12)"
   ]
  },
  {
   "cell_type": "code",
   "execution_count": null,
   "id": "1a14377a",
   "metadata": {},
   "outputs": [],
   "source": [
    "all_fcs_result  %>% \n",
    "dplyr::filter(gene %in% all_markers$gene)  %>% \n",
    "dplyr::filter(p_val_adj < 0.05)  %>% \n",
    "dplyr::filter(!(grepl(gene, pattern = \"MTRN\")) & \n",
    "              grepl(dataset, pattern = \"cd8_l3\"))  %>% \n",
    "dplyr::select(avg_log2FC, gene, dataset, comaprison)  %>% \n",
    "pivot_wider(names_from = \"comaprison\", values_from = avg_log2FC)  %>% \n",
    "mutate(gene_in_genes = ifelse(DiaT0_vs_Ctrl > 0.15 & DiaT1_vs_Ctrl > 0.15 |\n",
    "                              DiaT0_vs_Ctrl < -0.2 & DiaT1_vs_Ctrl < -0.2, \n",
    "                              gene, NA_character_))  %>% \n",
    "ggplot(aes(x = DiaT0_vs_Ctrl, y = DiaT1_vs_Ctrl, label = gene_in_genes, color = dataset))  +\n",
    "scale_color_manual(values = colors_of_populations)  +\n",
    "geom_point(aes(shape = dataset)) + \n",
    "scale_shape_manual(values = c(21:25,21:25)) +\n",
    "ggrepel::geom_text_repel() +\n",
    "theme_bw() +\n",
    "ggtheme()\n",
    "ggsave(filename = \"../figures/DE_genes/corr_DE_cd8_pop_t0_t1.svg\", width = 14, height = 12)"
   ]
  },
  {
   "cell_type": "code",
   "execution_count": null,
   "id": "8930e68f",
   "metadata": {},
   "outputs": [],
   "source": [
    "options(repr.plot.height = 10, repr.plot.width = 13)\n",
    "\n",
    "all_fcs_result  %>% \n",
    "dplyr::filter(gene %in% all_markers$gene)  %>% \n",
    "dplyr::filter(p_val_adj < 0.05)  %>% \n",
    "dplyr::filter(!(grepl(gene, pattern = \"MTRN\")) & \n",
    "              dataset %in% c(\"cd4_l1_full_filt\", \"cd8_l1_full_filt\"))  %>% \n",
    "dplyr::select(avg_log2FC, gene, dataset, comaprison)  %>% \n",
    "pivot_wider(names_from = \"comaprison\", values_from = avg_log2FC)  %>% \n",
    "mutate(gene_in_genes = ifelse(DiaT0_vs_Ctrl > 0.15 & DiaT1_vs_Ctrl > 0.15 |\n",
    "                              DiaT0_vs_Ctrl > 0.15 & DiaT1_vs_Ctrl < -0.2 |\n",
    "                              DiaT0_vs_Ctrl < -0.2 & DiaT1_vs_Ctrl > 0.15 |\n",
    "                              DiaT0_vs_Ctrl < -0.2 & DiaT1_vs_Ctrl < -0.2, \n",
    "                              gene, NA_character_))  %>% \n",
    "ggplot(aes(x = DiaT0_vs_Ctrl, y = DiaT1_vs_Ctrl, label = gene_in_genes, color = dataset))  +\n",
    "scale_color_manual(values = c(\"#ffa66aff\",\"#67934aff\"))  +\n",
    "geom_point(aes(shape = dataset)) + \n",
    "scale_shape_manual(values = c(21,22)) +\n",
    "ggrepel::geom_text_repel() +\n",
    "theme_bw() +\n",
    "ggtheme()"
   ]
  },
  {
   "cell_type": "markdown",
   "id": "7b3136df",
   "metadata": {},
   "source": [
    "# DE Select genes"
   ]
  },
  {
   "cell_type": "code",
   "execution_count": null,
   "id": "146a0873",
   "metadata": {},
   "outputs": [],
   "source": [
    "options(repr.plot.height = 4, repr.plot.width = 20)\n",
    "all_markers  %>% \n",
    "dplyr::filter(gene %in% up_genesd | gene %in% down_genes &\n",
    "              source == \"scRNAseq_RNA\" & test_type == \"Dia T0 vs Ctrl T0\")  %>%  \n",
    "mutate(cluster_source = paste(cluster, source))  %>% \n",
    "ggplot(aes(factor(gene), dataset)) + \n",
    "  geom_point(aes(size = -log(p_val_adj, base = 10), colour = direction)) + \n",
    "  theme_bw()  + scale_size_continuous(range=c(1,4)) +\n",
    "  #scale_colour_gradient2(low = \"lightskyblue\", mid = \"lightsteelblue2\", high = \"salmon\") + \n",
    " theme(axis.text.x = element_text(angle = 90))"
   ]
  },
  {
   "cell_type": "code",
   "execution_count": null,
   "id": "d87c4d7e",
   "metadata": {},
   "outputs": [],
   "source": [
    "all_markers  %>% \n",
    "dplyr::filter(source == \"scRNAseq_RNA\" & test_type %in% c(\"Dia T0 vs Ctrl T0\", \"Dia T1 vs Ctrl T0\")) "
   ]
  },
  {
   "cell_type": "code",
   "execution_count": null,
   "id": "ce60b7a6",
   "metadata": {},
   "outputs": [],
   "source": [
    "all_markers  %>% \n",
    "dplyr::filter(source == \"scRNAseq_RNA\" & test_type %in% c(\"Dia T0 vs Ctrl T0\", \"Dia T1 vs Ctrl T0\"))  %>%\n"
   ]
  },
  {
   "cell_type": "markdown",
   "id": "f1bd38e0",
   "metadata": {},
   "source": [
    "# DE genes and plots"
   ]
  },
  {
   "cell_type": "markdown",
   "id": "68d4b331",
   "metadata": {},
   "source": [
    "### Global regulators - Dia T0 vs Ctrl T0"
   ]
  },
  {
   "cell_type": "code",
   "execution_count": null,
   "id": "3f4d73ad",
   "metadata": {
    "scrolled": true
   },
   "outputs": [],
   "source": [
    "all_markers  %>% dplyr::filter(source == \"scRNAseq_RNA\")  %>% \n",
    "mutate(gene_direction = paste(gene, direction))  %>% \n",
    "group_by(gene, gene_direction, direction, test_type)  %>% tally  %>% \n",
    "arrange(desc(n))  %>% dplyr::filter(test_type == \"Dia T0 vs Ctrl T0\" & n>1)"
   ]
  },
  {
   "cell_type": "code",
   "execution_count": null,
   "id": "f0b23f79",
   "metadata": {},
   "outputs": [],
   "source": [
    "genes.global.rna <- all_markers  %>% dplyr::filter(source == \"scRNAseq_RNA\")  %>% \n",
    "mutate(gene_direction = paste(gene, direction))  %>% \n",
    "group_by(gene, gene_direction, direction, test_type)  %>% tally  %>% \n",
    "arrange(desc(n))  %>% dplyr::filter(test_type == \"Dia T0 vs Ctrl T0\" & n>1)  %>% pull(gene)"
   ]
  },
  {
   "cell_type": "code",
   "execution_count": null,
   "id": "1436faaf",
   "metadata": {},
   "outputs": [],
   "source": [
    "genes.global.rna.ctrl.diat0 <- all_markers  %>% dplyr::filter(source == \"scRNAseq_RNA\")  %>% \n",
    "mutate(gene_direction = paste(gene, direction))  %>% \n",
    "group_by(gene, gene_direction, direction, test_type)  %>% tally  %>% \n",
    "arrange(desc(n))  %>% dplyr::filter(test_type == \"Dia T0 vs Ctrl T0\" & n>1)  %>% pull(gene_direction)"
   ]
  },
  {
   "cell_type": "code",
   "execution_count": null,
   "id": "bb60635c",
   "metadata": {
    "scrolled": true
   },
   "outputs": [],
   "source": [
    "genes.global.rna"
   ]
  },
  {
   "cell_type": "code",
   "execution_count": null,
   "id": "ec7f3cc4",
   "metadata": {},
   "outputs": [],
   "source": [
    "lvl  <- all_markers  %>% dplyr::filter(source == \"scRNAseq_RNA\")  %>% \n",
    "mutate(gene_direction = paste(gene, direction))  %>% \n",
    "group_by(direction, gene, gene_direction, test_type)  %>% tally  %>% \n",
    "arrange(desc(n))  %>% dplyr::filter(test_type == \"Dia T0 vs Ctrl T0\" & n>1)  %>% \n",
    "arrange(direction) %>% pull(gene)  %>% unique"
   ]
  },
  {
   "cell_type": "code",
   "execution_count": null,
   "id": "05813666",
   "metadata": {},
   "outputs": [],
   "source": [
    "lvl"
   ]
  },
  {
   "cell_type": "code",
   "execution_count": null,
   "id": "311a7aa0",
   "metadata": {},
   "outputs": [],
   "source": [
    "options(repr.plot.height = 4, repr.plot.width = 20)\n",
    "all_markers  %>% \n",
    "dplyr::filter(gene %in% genes.global.rna &\n",
    "              source == \"scRNAseq_RNA\" & test_type == \"Dia T0 vs Ctrl T0\")  %>%  \n",
    "mutate(cluster_source = paste(cluster, source))  %>% \n",
    "ggplot(aes(factor(gene, levels = lvl), dataset)) + \n",
    "  geom_point(aes(size = -log(p_val_adj, base = 10), colour = direction)) + \n",
    "  theme_bw()  + scale_size_continuous(range=c(1,4)) +\n",
    "  #scale_colour_gradient2(low = \"lightskyblue\", mid = \"lightsteelblue2\", high = \"salmon\") + \n",
    " theme(axis.text.x = element_text(angle = 90))"
   ]
  },
  {
   "cell_type": "code",
   "execution_count": null,
   "id": "ffa1a718",
   "metadata": {},
   "outputs": [],
   "source": [
    "genes_up  <- all_markers  %>% dplyr::filter(source == \"scRNAseq_RNA\")  %>% \n",
    "mutate(gene_direction = paste(gene, direction))  %>% \n",
    "group_by(direction, gene, gene_direction, test_type)  %>% \n",
    "dplyr::filter(direction == \"Up\")  %>% tally  %>% \n",
    "arrange(desc(n))  %>% dplyr::filter(test_type == \"Dia T0 vs Ctrl T0\" & n>1)  %>% \n",
    "arrange(direction) %>% pull(gene)  %>% unique"
   ]
  },
  {
   "cell_type": "code",
   "execution_count": null,
   "id": "176315af",
   "metadata": {},
   "outputs": [],
   "source": [
    "genes_up"
   ]
  },
  {
   "cell_type": "markdown",
   "id": "d5a59c5a",
   "metadata": {},
   "source": [
    "\n",
    "### Global regulators - Dia T1 vs Ctrl T0"
   ]
  },
  {
   "cell_type": "code",
   "execution_count": null,
   "id": "f337256f",
   "metadata": {
    "scrolled": true
   },
   "outputs": [],
   "source": [
    "all_markers  %>% dplyr::filter(source == \"scRNAseq_RNA\")  %>% \n",
    "mutate(gene_direction = paste(gene, direction))  %>% \n",
    "group_by(gene, gene_direction, direction, test_type)  %>% tally  %>% \n",
    "arrange(desc(n))  %>% dplyr::filter(test_type == \"Dia T1 vs Ctrl T0\" & n>1)"
   ]
  },
  {
   "cell_type": "code",
   "execution_count": null,
   "id": "46bb2d0b",
   "metadata": {},
   "outputs": [],
   "source": [
    "genes.global.rna <- all_markers  %>% dplyr::filter(source == \"scRNAseq_RNA\")  %>% \n",
    "mutate(gene_direction = paste(gene, direction))  %>% \n",
    "group_by(gene, gene_direction, direction, test_type)  %>% tally  %>% \n",
    "arrange(desc(n))  %>% dplyr::filter(test_type == \"Dia T1 vs Ctrl T0\" & n>1)  %>% pull(gene)"
   ]
  },
  {
   "cell_type": "code",
   "execution_count": null,
   "id": "349da3f5",
   "metadata": {},
   "outputs": [],
   "source": [
    "genes.global.rna.ctrl.diat1 <- all_markers  %>% dplyr::filter(source == \"scRNAseq_RNA\")  %>% \n",
    "mutate(gene_direction = paste(gene, direction))  %>% \n",
    "group_by(gene, gene_direction, direction, test_type)  %>% tally  %>% \n",
    "arrange(desc(n))  %>% dplyr::filter(test_type == \"Dia T1 vs Ctrl T0\" & n>1)  %>% pull(gene_direction)"
   ]
  },
  {
   "cell_type": "code",
   "execution_count": null,
   "id": "42d61573",
   "metadata": {
    "scrolled": false
   },
   "outputs": [],
   "source": [
    "genes.global.rna"
   ]
  },
  {
   "cell_type": "code",
   "execution_count": null,
   "id": "24ca78d1",
   "metadata": {},
   "outputs": [],
   "source": [
    "lvl  <- all_markers  %>% dplyr::filter(source == \"scRNAseq_RNA\")  %>% \n",
    "mutate(gene_direction = paste(gene, direction))  %>% \n",
    "group_by(direction, gene, gene_direction, test_type)  %>% tally  %>% \n",
    "arrange(desc(n))  %>% dplyr::filter(test_type == \"Dia T1 vs Ctrl T0\" & n>1)  %>% \n",
    "arrange(direction) %>% pull(gene)  %>% unique"
   ]
  },
  {
   "cell_type": "code",
   "execution_count": null,
   "id": "574c8d9f",
   "metadata": {},
   "outputs": [],
   "source": [
    "lvl"
   ]
  },
  {
   "cell_type": "code",
   "execution_count": null,
   "id": "7317de93",
   "metadata": {},
   "outputs": [],
   "source": [
    "options(repr.plot.height = 4, repr.plot.width = 20)\n",
    "all_markers  %>% \n",
    "dplyr::filter(gene %in% genes.global.rna &\n",
    "              source == \"scRNAseq_RNA\" & test_type == \"Dia T1 vs Ctrl T0\")  %>%  \n",
    "mutate(cluster_source = paste(cluster, source))  %>% \n",
    "ggplot(aes(factor(gene, levels = lvl), dataset)) + \n",
    "  geom_point(aes(size = -log(p_val_adj, base = 10), colour = direction)) + \n",
    "  theme_bw()  + scale_size_continuous(range=c(1,4)) +\n",
    "  #scale_colour_gradient2(low = \"lightskyblue\", mid = \"lightsteelblue2\", high = \"salmon\") + \n",
    " theme(axis.text.x = element_text(angle = 90))"
   ]
  },
  {
   "cell_type": "markdown",
   "id": "9bef3cc6",
   "metadata": {},
   "source": [
    "\n",
    "### Global regulators - Dia T1 vs Dia T0"
   ]
  },
  {
   "cell_type": "code",
   "execution_count": null,
   "id": "1262d495",
   "metadata": {
    "scrolled": true
   },
   "outputs": [],
   "source": [
    "all_markers  %>% dplyr::filter(source == \"scRNAseq_RNA\")  %>% \n",
    "mutate(gene_direction = paste(gene, direction))  %>% \n",
    "group_by(gene, gene_direction, direction, test_type)  %>% tally  %>% \n",
    "arrange(desc(n))  %>% dplyr::filter(test_type == \"Dia T0 vs Dia T1\" & n>1)"
   ]
  },
  {
   "cell_type": "code",
   "execution_count": null,
   "id": "b603ffea",
   "metadata": {},
   "outputs": [],
   "source": [
    "genes.global.rna <- all_markers  %>% dplyr::filter(source == \"scRNAseq_RNA\")  %>% \n",
    "mutate(gene_direction = paste(gene, direction))  %>% \n",
    "group_by(gene, gene_direction, direction, test_type)  %>% tally  %>% \n",
    "arrange(desc(n))  %>% dplyr::filter(test_type == \"Dia T0 vs Dia T1\" & n>1)  %>% pull(gene)"
   ]
  },
  {
   "cell_type": "code",
   "execution_count": null,
   "id": "4fe2c0d6",
   "metadata": {},
   "outputs": [],
   "source": [
    "genes.global.rna.diat0.t1 <- all_markers  %>% dplyr::filter(source == \"scRNAseq_RNA\")  %>% \n",
    "mutate(gene_direction = paste(gene, direction))  %>% \n",
    "group_by(gene, gene_direction, direction, test_type)  %>% tally  %>% \n",
    "arrange(desc(n))  %>% dplyr::filter(test_type == \"Dia T0 vs Dia T1\" & n>1)  %>% pull(gene_direction)"
   ]
  },
  {
   "cell_type": "code",
   "execution_count": null,
   "id": "ab8aa6ae",
   "metadata": {
    "scrolled": true
   },
   "outputs": [],
   "source": [
    "genes.global.rna"
   ]
  },
  {
   "cell_type": "code",
   "execution_count": null,
   "id": "8844bc9e",
   "metadata": {},
   "outputs": [],
   "source": [
    "lvl  <- all_markers  %>% dplyr::filter(source == \"scRNAseq_RNA\")  %>% \n",
    "mutate(gene_direction = paste(gene, direction))  %>% \n",
    "group_by(direction, gene, gene_direction, test_type)  %>% tally  %>% \n",
    "arrange(desc(n))  %>% dplyr::filter(test_type == \"Dia T0 vs Dia T1\" & n>1)  %>% \n",
    "arrange(direction) %>% pull(gene)  %>% unique"
   ]
  },
  {
   "cell_type": "code",
   "execution_count": null,
   "id": "67456f54",
   "metadata": {},
   "outputs": [],
   "source": [
    "lvl"
   ]
  },
  {
   "cell_type": "code",
   "execution_count": null,
   "id": "d501b7fd",
   "metadata": {},
   "outputs": [],
   "source": [
    "options(repr.plot.height = 4, repr.plot.width = 20)\n",
    "all_markers  %>% \n",
    "dplyr::filter(gene %in% genes.global.rna &\n",
    "              source == \"scRNAseq_RNA\" & test_type == \"Dia T0 vs Dia T1\")  %>%  \n",
    "mutate(cluster_source = paste(cluster, source))  %>% \n",
    "ggplot(aes(factor(gene, levels = lvl), dataset)) + \n",
    "  geom_point(aes(size = -log(p_val_adj, base = 10), colour = direction)) + \n",
    "  theme_bw()  + scale_size_continuous(range=c(1,4)) +\n",
    "  #scale_colour_gradient2(low = \"lightskyblue\", mid = \"lightsteelblue2\", high = \"salmon\") + \n",
    " theme(axis.text.x = element_text(angle = 90))"
   ]
  },
  {
   "cell_type": "markdown",
   "id": "c4dbfce5",
   "metadata": {},
   "source": [
    "# Overlap Venn T0 T1 Ctrl Dia"
   ]
  },
  {
   "cell_type": "code",
   "execution_count": null,
   "id": "23eadefd",
   "metadata": {},
   "outputs": [],
   "source": [
    "library(\"ggVennDiagram\")"
   ]
  },
  {
   "cell_type": "code",
   "execution_count": null,
   "id": "f257e047",
   "metadata": {},
   "outputs": [],
   "source": [
    "x <- list(\n",
    "  Dia_T0_vs_Ctrl_T0 = genes.global.rna.ctrl.diat0, \n",
    "  Dia_T1_vs_Ctrl_T1 = genes.global.rna.ctrl.diat1, \n",
    "  Dia_T0_vs_Dia_T1 = genes.global.rna.diat0.t1)"
   ]
  },
  {
   "cell_type": "code",
   "execution_count": null,
   "id": "4e56316a",
   "metadata": {},
   "outputs": [],
   "source": [
    "ggVennDiagram(x)\n",
    "library(svglite)\n",
    "#ggsave(filename = \"../figures/DE_genes/venn_overlap.svg\", width = 3, height = 5)"
   ]
  },
  {
   "cell_type": "code",
   "execution_count": null,
   "id": "86d9a3b8",
   "metadata": {},
   "outputs": [],
   "source": [
    "venn <- Venn(x)"
   ]
  },
  {
   "cell_type": "code",
   "execution_count": null,
   "id": "b1f584f1",
   "metadata": {},
   "outputs": [],
   "source": [
    "\n",
    "data <- process_data(venn)\n",
    "dat  <- data@region$item\n",
    "names(dat)  <- data@region$name\n",
    "\n",
    "dat"
   ]
  },
  {
   "cell_type": "markdown",
   "id": "5b905cae",
   "metadata": {},
   "source": [
    "# plot"
   ]
  },
  {
   "cell_type": "code",
   "execution_count": null,
   "id": "245f3ad5",
   "metadata": {
    "scrolled": true
   },
   "outputs": [],
   "source": [
    "options(repr.plot.height = 8, repr.plot.width = 20)\n",
    "all_markers  %>% \n",
    "left_join(gene_annot)  %>% \n",
    "dplyr::filter(!is.na(category) &\n",
    "              source == \"scRNAseq_RNA\" & !grepl(pattern = \"Cpeptfff\", x = test_type))  %>%  \n",
    "mutate(cluster_source = paste(cluster, source))  %>% \n",
    "ggplot(aes(factor(gene), dataset)) + \n",
    "  geom_point(aes(size = -log(p_val_adj, base = 10), colour = direction)) + \n",
    "facet_grid(cols = vars(category), rows = vars(test_type),\n",
    "           drop = TRUE, scales = \"free_x\", space='free')+\n",
    "  theme_bw()  + scale_size_continuous(range=c(1,4)) +\n",
    "scale_color_manual(values = c(\"steelblue1\",\"indianred2\"))+\n",
    "  #scale_colour_gradient2(low = \"lightskyblue\", mid = \"lightsteelblue2\", high = \"salmon\") + \n",
    " theme(axis.text.x = element_text(angle = 90), \n",
    "      axis.ticks = element_blank())"
   ]
  },
  {
   "cell_type": "code",
   "execution_count": null,
   "id": "634b49ff",
   "metadata": {},
   "outputs": [],
   "source": [
    "options(repr.plot.height = 8, repr.plot.width = 20)\n",
    "all_markers  %>% \n",
    "left_join(gene_annot)  %>% \n",
    "dplyr::filter(!is.na(category) &\n",
    "              source == \"scRNAseq_RNA\" & !grepl(pattern = \"Cpeptfff\", x = test_type))  %>%  \n",
    "mutate(cluster_source = paste(cluster, source))  %>% \n",
    "ggplot(aes(factor(gene), dataset)) + \n",
    "  geom_point(aes(size = -log(p_val_adj, base = 10), colour = direction)) + \n",
    "facet_grid(cols = vars(category), rows = vars(test_type),\n",
    "           drop = TRUE, scales = \"free_x\", space='free')+\n",
    "  theme_bw()  + scale_size_continuous(range=c(1,4)) +\n",
    "scale_color_manual(values = c(\"steelblue1\",\"indianred2\"))+\n",
    "  #scale_colour_gradient2(low = \"lightskyblue\", mid = \"lightsteelblue2\", high = \"salmon\") + \n",
    " theme(axis.text.x = element_text(angle = 90), \n",
    "      axis.ticks = element_blank())"
   ]
  },
  {
   "cell_type": "code",
   "execution_count": null,
   "id": "813bba46",
   "metadata": {},
   "outputs": [],
   "source": [
    "gene_annot$is_snp  <- gene_annot$gene %in% snp_genes"
   ]
  },
  {
   "cell_type": "code",
   "execution_count": null,
   "id": "35b2f997",
   "metadata": {},
   "outputs": [],
   "source": [
    "options(repr.plot.height = 2, repr.plot.width = 20)\n",
    "\n",
    "gene_annot  %>% \n",
    "ggplot(aes(factor(gene), y = 1)) + \n",
    "  geom_point(size = 2, aes(colour = is_snp)) + \n",
    "facet_grid(cols = vars(category),\n",
    "           drop = F, scales = \"free_x\", space='free')+\n",
    "  theme_bw()  + scale_size_continuous(range=c(1,4)) +\n",
    "scale_color_manual(values = c(\"white\",\"black\")) +\n",
    "  #scale_colour_gradient2(low = \"lightskyblue\", mid = \"lightsteelblue2\", high = \"salmon\") + \n",
    " theme(axis.text.x = element_text(angle = 90))"
   ]
  },
  {
   "cell_type": "markdown",
   "id": "675d9880",
   "metadata": {},
   "source": [
    "## Function in signaling"
   ]
  },
  {
   "cell_type": "code",
   "execution_count": null,
   "id": "949b76b3",
   "metadata": {},
   "outputs": [],
   "source": [
    "gene_annot_nfkb  <- read_xlsx(\"../data/de_genes_annotataions_nfkb.xlsx\")"
   ]
  },
  {
   "cell_type": "code",
   "execution_count": null,
   "id": "137ced0c",
   "metadata": {
    "scrolled": true
   },
   "outputs": [],
   "source": [
    "gene_annot_nfkb"
   ]
  },
  {
   "cell_type": "code",
   "execution_count": null,
   "id": "75ebd7d4",
   "metadata": {
    "scrolled": true
   },
   "outputs": [],
   "source": [
    "options(repr.plot.height = 8, repr.plot.width = 10)\n",
    "all_markers  %>% \n",
    "left_join(gene_annot_nfkb)  %>% \n",
    "dplyr::filter(!is.na(category) &\n",
    "              source == \"scRNAseq_RNA\" & !grepl(pattern = \"Cpept\", x = test_type))  %>%  \n",
    "mutate(cluster_source = paste(cluster, source))  %>% \n",
    "ggplot(aes(factor(gene), dataset)) + \n",
    "  geom_point(aes(size = -log(p_val_adj, base = 10), colour = direction)) + \n",
    "facet_grid(cols = vars(category), rows = vars(test_type),\n",
    "           drop = TRUE, scales = \"free_x\", space='free')+\n",
    "  theme_bw()  + scale_size_continuous(range=c(1,4)) +\n",
    "scale_color_manual(values = c(\"steelblue1\",\"indianred2\"))+\n",
    "  #scale_colour_gradient2(low = \"lightskyblue\", mid = \"lightsteelblue2\", high = \"salmon\") + \n",
    " theme(axis.text.x = element_text(angle = 90), \n",
    "      axis.ticks = element_blank())"
   ]
  },
  {
   "cell_type": "markdown",
   "id": "d3088f0a",
   "metadata": {},
   "source": [
    "## Naive vs cytotox"
   ]
  },
  {
   "cell_type": "code",
   "execution_count": null,
   "id": "a7ea4074",
   "metadata": {},
   "outputs": [],
   "source": [
    "gene_annot  <- read_xlsx(\"../data/de_genes_annotataions2.xlsx\")"
   ]
  },
  {
   "cell_type": "code",
   "execution_count": null,
   "id": "aceb12de",
   "metadata": {
    "scrolled": true
   },
   "outputs": [],
   "source": [
    "gene_annot"
   ]
  },
  {
   "cell_type": "code",
   "execution_count": null,
   "id": "ab24ba82",
   "metadata": {
    "scrolled": true
   },
   "outputs": [],
   "source": [
    "options(repr.plot.height = 8, repr.plot.width = 20)\n",
    "all_markers  %>% \n",
    "left_join(gene_annot)  %>% \n",
    "dplyr::filter(!is.na(category) &\n",
    "              source == \"scRNAseq_RNA\" & !grepl(pattern = \"Cpept\", x = test_type))  %>%  \n",
    "mutate(cluster_source = paste(cluster, source))  %>% \n",
    "ggplot(aes(factor(gene), dataset)) + \n",
    "  geom_point(aes(size = -log(p_val_adj, base = 10), colour = direction)) + \n",
    "facet_grid(cols = vars(category), rows = vars(test_type),\n",
    "           drop = TRUE, scales = \"free_x\", space='free')+\n",
    "  theme_bw()  + scale_size_continuous(range=c(1,4)) +\n",
    "scale_color_manual(values = c(\"steelblue1\",\"indianred2\"))+\n",
    "  #scale_colour_gradient2(low = \"lightskyblue\", mid = \"lightsteelblue2\", high = \"salmon\") + \n",
    " theme(axis.text.x = element_text(angle = 90), \n",
    "      axis.ticks = element_blank())"
   ]
  },
  {
   "cell_type": "code",
   "execution_count": null,
   "id": "f1c2cf18",
   "metadata": {},
   "outputs": [],
   "source": [
    "ggsave(\"../figures/DE_genes/big_gene_table.png\", width = 40, height = 20, units = \"cm\")\n",
    "ggsave(\"../figures/DE_genes/big_gene_table.svg\", width = 40, height = 20, units = \"cm\")"
   ]
  },
  {
   "cell_type": "code",
   "execution_count": null,
   "id": "4c9f4a7a",
   "metadata": {},
   "outputs": [],
   "source": [
    "options(repr.plot.height = 8, repr.plot.width = 20)\n",
    "all_markers  %>% \n",
    "left_join(gene_annot)  %>% \n",
    "dplyr::filter(!is.na(category) &\n",
    "              source == \"scRNAseq_RNA\" & !grepl(pattern = \"Cpept\", x = test_type))  %>%  \n",
    "mutate(cluster_source = paste(cluster, source))  %>% \n",
    "ggplot(aes(factor(gene), dataset)) + \n",
    "  geom_point(aes(size = -log(p_val_adj, base = 10), colour = direction)) + \n",
    "facet_grid(cols = vars(category), rows = vars(test_type),\n",
    "           drop = TRUE, scales = \"free_x\", space='free')+\n",
    "  theme_bw()  + scale_size_continuous(range=c(1,4)) +\n",
    "scale_color_manual(values = c(\"steelblue1\",\"indianred2\"))+\n",
    "  #scale_colour_gradient2(low = \"lightskyblue\", mid = \"lightsteelblue2\", high = \"salmon\") + \n",
    " theme(axis.text.x = element_text(angle = 90), \n",
    "      axis.ticks = element_blank()) + coord_flip()"
   ]
  },
  {
   "cell_type": "code",
   "execution_count": null,
   "id": "7f0c0bb8",
   "metadata": {},
   "outputs": [],
   "source": [
    "ggsave(\"../figures/DE_genes/big_gene_table.png\", width = 40, height = 40, units = \"cm\")\n",
    "ggsave(\"../figures/DE_genes/big_gene_table.svg\", width = 40, height = 40, units = \"cm\")"
   ]
  },
  {
   "cell_type": "code",
   "execution_count": null,
   "id": "961f8a5c",
   "metadata": {},
   "outputs": [],
   "source": [
    "gene_annot$is_snp  <- gene_annot$gene %in% snp_genes"
   ]
  },
  {
   "cell_type": "code",
   "execution_count": null,
   "id": "3c7cd79c",
   "metadata": {},
   "outputs": [],
   "source": [
    "options(repr.plot.height = 2, repr.plot.width = 20)\n",
    "\n",
    "gene_annot  %>% \n",
    "ggplot(aes(factor(gene), y = 1)) + \n",
    "  geom_point(size = 2, aes(colour = is_snp)) + \n",
    "facet_grid(cols = vars(category),\n",
    "           drop = F, scales = \"free_x\", space='free')+\n",
    "  theme_bw()  + scale_size_continuous(range=c(1,4)) +\n",
    "scale_color_manual(values = c(\"white\",\"black\")) +\n",
    "  #scale_colour_gradient2(low = \"lightskyblue\", mid = \"lightsteelblue2\", high = \"salmon\") + \n",
    " theme(axis.text.x = element_text(angle = 90))"
   ]
  },
  {
   "cell_type": "code",
   "execution_count": null,
   "id": "2ede9692",
   "metadata": {},
   "outputs": [],
   "source": [
    "ggsave(\"../figures/DE_genes/big_gene_table_snp.svg\", width = 35, height = 5, units = \"cm\")"
   ]
  },
  {
   "cell_type": "code",
   "execution_count": null,
   "id": "771b292f",
   "metadata": {},
   "outputs": [],
   "source": []
  },
  {
   "cell_type": "markdown",
   "id": "5fd011ee",
   "metadata": {},
   "source": [
    "# Heatmap all comparisons"
   ]
  },
  {
   "cell_type": "code",
   "execution_count": null,
   "id": "c69f4728",
   "metadata": {},
   "outputs": [],
   "source": [
    "hm  <- c(\"LEF1\",\"BACH2\",\"NELL2\",\"TCF7\",\"CXCR4\",\"ZFP36L2\",\"IL7R\",\"KLF2\",\"CCR7\",\"SELL\",\n",
    "            \n",
    "             \n",
    "            rev(c(\"TNFRSF9\",\"PRF1\",\"NKG7\",\"GZMB\",\"CST7\",\"GNLY\",\"GZMA\",\"CX3CR1\",\"CCL5\",\"TNF\",\"TBX21\",\"IFNG\")),\n",
    "             \"TNFAIP3\",\"DUSP1\",\"TSC22D3\",\"NFKBIA\",\"DDIT4\",\"INPP4B\",\n",
    "             rev(c(\"OASL\",\"IFI44L\",\"ISG15\",\"MX1\",\"STAT1\",\"IFI6\",\"IFIT3\")),\n",
    "                  \"BTN3A2\",\"BTN3A3\")"
   ]
  },
  {
   "cell_type": "code",
   "execution_count": null,
   "id": "2a420fa8",
   "metadata": {},
   "outputs": [],
   "source": [
    "get_fc_genes  <- function(j) {\n",
    "  print(j)\n",
    "fc.df  <- read_csv(paths_fc[j])  %>% as.data.frame()\n",
    "    if(grepl(paths_fc[j], pattern = \"Ctrl\")){\n",
    "fc.df  <- fc.df  %>%  arrange(desc(avg_log2FC)) %>% \n",
    "dplyr::filter(grepl(cluster, pattern = \"Dia\"))  %>% \n",
    "dplyr::filter(gene %in% hm) \n",
    "        \n",
    "        } else {\n",
    "        \n",
    "   if(grepl(paths_fc[j], pattern = \"PR_0_T0\")){\n",
    "fc.df  <- fc.df  %>%  arrange(desc(avg_log2FC)) %>% \n",
    "dplyr::filter(grepl(cluster, pattern = \"PR_0 T0\"))  %>% \n",
    "dplyr::filter(gene %in% hm) \n",
    "        } else {\n",
    "       \n",
    "        if(grepl(paths_fc[j], pattern = \"keto\")){\n",
    " fc.df  <- fc.df  %>%  arrange(desc(avg_log2FC)) %>% \n",
    "dplyr::filter(grepl(cluster, pattern = \"Keto_1 T0\"))   %>% \n",
    "dplyr::filter(gene %in% hm) \n",
    "    } else {\n",
    " fc.df  <- fc.df  %>%  arrange(desc(avg_log2FC)) %>% \n",
    "dplyr::filter(grepl(cluster, pattern = \"Dia T0\"))   %>% \n",
    "dplyr::filter(gene %in% hm) \n",
    "    }}}\n",
    "\n",
    "    fc.df$dataset  <-   gsub(dataset_names[j], pattern = \".csv\", replacement = \"\")\n",
    " return(fc.df)\n",
    "    }"
   ]
  },
  {
   "cell_type": "code",
   "execution_count": null,
   "id": "03828573",
   "metadata": {
    "scrolled": true
   },
   "outputs": [],
   "source": [
    "paths_fc  <- list.files(\"../../240617_VN_Diabetes_V06/tables/fold_change/\", full.names = T)\n",
    "dataset_names  <- list.files(\"../../240617_VN_Diabetes_V06/tables/fold_change\", full.names = F)\n",
    "\n",
    "paths_fc  <- paths_fc[grepl(paths_fc, pattern = \"l3\")|grepl(paths_fc, pattern = \"cd8_l2_unc\")|\n",
    "                      grepl(paths_fc, pattern = \"cd4_l2_unc\")|grepl(paths_fc, pattern = \"cd8_l2_nk\") ]\n",
    "\n",
    "dataset_names  <- dataset_names[grepl(dataset_names, pattern = \"l3\")|grepl(dataset_names, pattern = \"cd8_l2_unc\")|\n",
    "                      grepl(dataset_names, pattern = \"cd4_l2_unc\")|grepl(dataset_names, pattern = \"cd8_l2_nk\") ]\n",
    "\n",
    "paths_fc  <- paths_fc[grepl(paths_fc, pattern = \"Ctrl_vs_DiaT0\")|grepl(paths_fc, pattern = \"DiaT0_vs_DiaT1\")|\n",
    "                      grepl(paths_fc, pattern = \"Ctrl_vs_DiaT1\")|\n",
    "                      grepl(paths_fc, pattern = \"PR_0_T0_vs_PR_1_T0\")|grepl(paths_fc, pattern = \"ketoacidosis\")]\n",
    "\n",
    "dataset_names  <- dataset_names[grepl(dataset_names, pattern = \"Ctrl_vs_DiaT0\")|grepl(dataset_names, pattern = \"DiaT0_vs_DiaT1\")|\n",
    "                      grepl(dataset_names, pattern = \"Ctrl_vs_DiaT1\")|\n",
    "                      grepl(dataset_names, pattern = \"PR_0_T0_vs_PR_1_T0\")|grepl(dataset_names, pattern = \"ketoacidosis\")]\n"
   ]
  },
  {
   "cell_type": "code",
   "execution_count": null,
   "id": "db326673",
   "metadata": {
    "scrolled": true
   },
   "outputs": [],
   "source": [
    "fcs  <- purrr::map(1:length(paths_fc), get_fc_genes)"
   ]
  },
  {
   "cell_type": "code",
   "execution_count": null,
   "id": "7127d446",
   "metadata": {},
   "outputs": [],
   "source": [
    "fcs  <- bind_rows(fcs)"
   ]
  },
  {
   "cell_type": "code",
   "execution_count": null,
   "id": "e1c31aba",
   "metadata": {},
   "outputs": [],
   "source": [
    "fcs$population  <- substr(fcs$dataset, 1,11)\n",
    "\n",
    "table(fcs$population)\n",
    "\n",
    "fcs  <- fcs  %>% mutate(population2 = ifelse(grepl(population, pattern = \"_nk_\"), substr(population,1,9), population))\n",
    "\n",
    "fcs$population2  %>% table\n",
    "\n",
    "fcs  <- fcs  %>% mutate(n1 = as.numeric(nchar(dataset)))  %>% \n",
    "mutate(n2 = n1-12)  %>% \n",
    "mutate(test_type = substr(dataset,n2,n1))  \n",
    "\n",
    "\n",
    "fcs$test_type  %>% table"
   ]
  },
  {
   "cell_type": "code",
   "execution_count": null,
   "id": "e41bc291",
   "metadata": {
    "scrolled": true
   },
   "outputs": [],
   "source": [
    "fcs2  <- fcs  %>% mutate(andjus_logFC = ifelse(p_val_adj<0.05,avg_log2FC,avg_log2FC))  %>% \n",
    "dplyr::select(andjus_logFC, gene, dataset)"
   ]
  },
  {
   "cell_type": "code",
   "execution_count": null,
   "id": "b7cc52aa",
   "metadata": {},
   "outputs": [],
   "source": [
    "options(repr.plot.height = 8, repr.plot.width = 24)\n",
    "fcs  %>% \n",
    "ggplot(aes(x = factor(population2, levels = c(\n",
    "'cd8_l3_prol',\n",
    "'cd8_l3_tcm_',\n",
    "'cd4_l3_th1t',\n",
    "'cd4_l3_temr',\n",
    "'cd8_l3_temr',\n",
    "'cd4_l3_tfh_',\n",
    "'cd8_l3_naiv',\n",
    "'cd4_l3_naiv',\n",
    "'cd4_l3_th2_',\n",
    "'cd4_l3_nfkb',\n",
    "'cd4_l2_unc_',\n",
    "'cd4_l3_treg',\n",
    "'cd4_l3_isag',\n",
    "'cd4_l3_prol',\n",
    "'cd8_l3_tem_',\n",
    "'cd8_l2_nk',\n",
    "'cd8_l2_unc_'    \n",
    "))          \n",
    "           , y = factor(gene, levels = rev(hm)))) +\n",
    "geom_point(aes(size = -log(p_val_adj), color = avg_log2FC)) +\n",
    "scale_alpha_manual(values = c(0.5,1)) +\n",
    "scale_size_continuous(range = c(3,8))+\n",
    "ylab(\"\") + xlab(\"\") +\n",
    "facet_grid(cols = vars(test_type), space = \"free\", scales = \"free\") +\n",
    "scale_color_gradientn(colours = c(\"blue\", \"blue\",\"white\", \"red\",\"red\")) + \n",
    "theme_classic() + theme(axis.text.x = element_text(angle = 90)) + ggtheme()"
   ]
  },
  {
   "cell_type": "code",
   "execution_count": null,
   "id": "dba5ca9b",
   "metadata": {},
   "outputs": [],
   "source": [
    "ggsave(\"../figures/DE_genes//heatmap_deg.svg\", width = 45, height = 25, units = \"cm\", create.dir = TRUE)"
   ]
  },
  {
   "cell_type": "code",
   "execution_count": null,
   "id": "3cf47fc8",
   "metadata": {},
   "outputs": [],
   "source": [
    "fcs2_mtx  <- fcs2  %>% pivot_wider(names_from = dataset, values_from = andjus_logFC,\n",
    "                                  values_fill = 0)  %>% column_to_rownames(\"gene\")  %>% \n",
    "as.matrix()"
   ]
  },
  {
   "cell_type": "code",
   "execution_count": null,
   "id": "8c6fd567",
   "metadata": {},
   "outputs": [],
   "source": [
    "order_data  <- paste(c(\"\"))"
   ]
  },
  {
   "cell_type": "code",
   "execution_count": null,
   "id": "48f3aca3",
   "metadata": {},
   "outputs": [],
   "source": [
    "rownames(fcs2_mtx)[match(hm, rownames(fcs2_mtx))]"
   ]
  },
  {
   "cell_type": "code",
   "execution_count": null,
   "id": "7ead2aa9",
   "metadata": {
    "scrolled": true
   },
   "outputs": [],
   "source": [
    "c(seq(from = 1, to = 85, by = 5),seq(from = 2, to = 85, by = 5),\n",
    "  seq(from = 3, to = 85, by = 5),seq(from = 4, to = 85, by = 5),\n",
    "  seq(from = 5, to = 85, by = 5))"
   ]
  },
  {
   "cell_type": "code",
   "execution_count": null,
   "id": "39d0af70",
   "metadata": {},
   "outputs": [],
   "source": [
    "fcs2_mtx_ordered  <- fcs2_mtx[match(hm, rownames(fcs2_mtx)),c(seq(from = 1, to = 85, by = 5),seq(from = 2, to = 85, by = 5),\n",
    "  seq(from = 3, to = 85, by = 5),seq(from = 4, to = 85, by = 5),\n",
    "  seq(from = 5, to = 85, by = 5))]"
   ]
  },
  {
   "cell_type": "code",
   "execution_count": null,
   "id": "9db8f702",
   "metadata": {},
   "outputs": [],
   "source": [
    "options(repr.plot.height = 5, repr.plot.width = 24)\n"
   ]
  },
  {
   "cell_type": "code",
   "execution_count": null,
   "id": "1a325f79",
   "metadata": {},
   "outputs": [],
   "source": [
    "fcs2_mtx_ordered  <- fcs2_mtx[match(hm, rownames(fcs2_mtx)),c(seq(from = 1, to = 85, by = 5))]"
   ]
  },
  {
   "cell_type": "markdown",
   "id": "f5d881f3",
   "metadata": {},
   "source": [
    "# Correlations in populations - loading full dataset"
   ]
  },
  {
   "cell_type": "code",
   "execution_count": null,
   "id": "73deabab",
   "metadata": {},
   "outputs": [],
   "source": [
    "cd4_l1_full  <- readRDS(\"../data/processed/L1/cd4_l1_full_filt.rds\")"
   ]
  },
  {
   "cell_type": "code",
   "execution_count": null,
   "id": "0eb29d08",
   "metadata": {},
   "outputs": [],
   "source": [
    "cd8_l1_full  <- readRDS(\"../data/processed/L1/cd8_l1_full_filt.rds\")"
   ]
  },
  {
   "cell_type": "code",
   "execution_count": null,
   "id": "d8f62651",
   "metadata": {},
   "outputs": [],
   "source": [
    "options(repr.plot.width = 14, repr.plot.height = 4)\n",
    "DimPlot(cd4_l1_full, group.by = \"annotations_l3\", raster = T)"
   ]
  },
  {
   "cell_type": "code",
   "execution_count": null,
   "id": "5729f624",
   "metadata": {},
   "outputs": [],
   "source": [
    "options(repr.plot.height = 4, repr.plot.width = 20)\n",
    "\n",
    "DimPlot(cd8_l1_full, group.by = \"annotations_l3\", raster = T)"
   ]
  },
  {
   "cell_type": "code",
   "execution_count": null,
   "id": "f1a9ee72",
   "metadata": {},
   "outputs": [],
   "source": [
    "full  <- merge(cd4_l1_full, cd8_l1_full)"
   ]
  },
  {
   "cell_type": "code",
   "execution_count": null,
   "id": "0ee1432f",
   "metadata": {},
   "outputs": [],
   "source": [
    "rm(cd8_l1_full)\n",
    "rm(cd4_l1_full)"
   ]
  },
  {
   "cell_type": "code",
   "execution_count": null,
   "id": "c860a7d6",
   "metadata": {},
   "outputs": [],
   "source": [
    "gc()"
   ]
  },
  {
   "cell_type": "code",
   "execution_count": null,
   "id": "10d3ce39",
   "metadata": {},
   "outputs": [],
   "source": [
    "full  <- readRDS(\"../data/processed/full.rds\")"
   ]
  },
  {
   "cell_type": "code",
   "execution_count": null,
   "id": "3acbaff7",
   "metadata": {},
   "outputs": [],
   "source": [
    "full@meta.data  <- full@meta.data  %>% \n",
    "mutate(annotations_l2  = gsub(pattern = \" T cells\", replacement = \"\", x = annotations_l3)) "
   ]
  },
  {
   "cell_type": "code",
   "execution_count": null,
   "id": "02c85d96",
   "metadata": {},
   "outputs": [],
   "source": [
    " %>% \n",
    "separate(annotations_l2, into = c(\"annotations_l1\", \"annotations_l2\", \"annotations_l3\"), sep = \"---\") "
   ]
  },
  {
   "cell_type": "code",
   "execution_count": null,
   "id": "8beaf0d6",
   "metadata": {},
   "outputs": [],
   "source": [
    " %>% \n",
    "mutate(annotations_l2  = gsub(pattern = \"Unconventional_CD8 Unc\", replacement = \"CD8_Unc\", x = annotations_l2))  %>% \n",
    "mutate(annotations_l2  = gsub(pattern = \"Unconventional_Unc\", replacement = \"CD4_Unc_\", x = annotations_l2))  "
   ]
  },
  {
   "cell_type": "code",
   "execution_count": null,
   "id": "d2707351",
   "metadata": {},
   "outputs": [],
   "source": [
    " %>% \n",
    "separate(annotations_l2, into = c(\"Level1\", \"Level2\",NA,NA), sep = \"_\")  "
   ]
  },
  {
   "cell_type": "code",
   "execution_count": null,
   "id": "c68c8a08",
   "metadata": {},
   "outputs": [],
   "source": []
  },
  {
   "cell_type": "code",
   "execution_count": null,
   "id": "68f33ff8",
   "metadata": {},
   "outputs": [],
   "source": []
  },
  {
   "cell_type": "code",
   "execution_count": null,
   "id": "9e286b06",
   "metadata": {},
   "outputs": [],
   "source": [
    "full$annotations_l2   <- paste(full$Level1, full$Level2)"
   ]
  },
  {
   "cell_type": "code",
   "execution_count": null,
   "id": "9c83885a",
   "metadata": {},
   "outputs": [],
   "source": [
    "full$annotations_l3  %>% table"
   ]
  },
  {
   "cell_type": "code",
   "execution_count": null,
   "id": "6f52ada1",
   "metadata": {},
   "outputs": [],
   "source": [
    "saveRDS(full, \"../data/processed/full.rds\")"
   ]
  },
  {
   "cell_type": "markdown",
   "id": "4768d350",
   "metadata": {},
   "source": [
    "## Correlation of Expression with Fast Cpeptide"
   ]
  },
  {
   "cell_type": "code",
   "execution_count": null,
   "id": "8ebc5b63",
   "metadata": {},
   "outputs": [],
   "source": []
  },
  {
   "cell_type": "code",
   "execution_count": null,
   "id": "5fec6a0d",
   "metadata": {},
   "outputs": [],
   "source": [
    "ds  <- readRDS(\"../data/processed/full.rds\")"
   ]
  },
  {
   "cell_type": "code",
   "execution_count": null,
   "id": "a59d2999",
   "metadata": {
    "scrolled": true
   },
   "outputs": [],
   "source": [
    "ds  <- subset(full, fasting_cpept_1 >= 0 & Experiment_ID %in% c(\"Exp16\", \"Exp18\", \"Exp19\", \"Exp20\"))"
   ]
  },
  {
   "cell_type": "code",
   "execution_count": null,
   "id": "5e1a1f7d",
   "metadata": {},
   "outputs": [],
   "source": [
    "ds$Patient_Time  %>% table"
   ]
  },
  {
   "cell_type": "code",
   "execution_count": null,
   "id": "6e12613c",
   "metadata": {},
   "outputs": [],
   "source": [
    "ds@meta.data  <- ds@meta.data  %>% separate(annotations_l2, into = c(\"annotations_l2_part1\",\n",
    "                                                                     \"annotations_l2_part2\",\n",
    "                                                                     \"annotations_l2_part3\"),\n",
    "                                            sep = \"---\", remove = F)  %>% \n",
    "mutate(annotations_l2_new = paste(annotations_l2_part1, annotations_l2_part2))  %>% \n",
    "mutate(annotations_l2_new = gsub(annotations_l2_new, pattern = \"Unconventional Unconventional\", replacement = \"Unc\"))  %>% \n",
    "mutate(annotations_l2_new = gsub(annotations_l2_new, pattern = \"Unconventional\", replacement = \"Unc\"))  %>% \n",
    "mutate(annotations_l2_new = gsub(annotations_l2_new, pattern = \"NK cells NK cells\", replacement = \"NK cells\"))\n",
    "\n"
   ]
  },
  {
   "cell_type": "code",
   "execution_count": null,
   "id": "e6bdbd39",
   "metadata": {},
   "outputs": [],
   "source": [
    "ds$annotations_l2_new  %>% table"
   ]
  },
  {
   "cell_type": "code",
   "execution_count": null,
   "id": "30b00089",
   "metadata": {},
   "outputs": [],
   "source": [
    "ds$Patient_Time_population  <- paste(ds$Patient_Time, ds$annotations_l2_new, sep = \".\")"
   ]
  },
  {
   "cell_type": "code",
   "execution_count": null,
   "id": "fc50f4d1",
   "metadata": {},
   "outputs": [],
   "source": [
    "de_genes  <- all_markers  %>% dplyr::filter(source == \"scRNAseq_RNA\")  %>% pull(gene)  %>% unique"
   ]
  },
  {
   "cell_type": "code",
   "execution_count": null,
   "id": "974cfdf0",
   "metadata": {},
   "outputs": [],
   "source": [
    "ds_mtx  <- AverageExpression(ds, group.by = \"Patient_Time_population\", return.seurat = F, assays = \"RNA\",\n",
    "                            features = de_genes)"
   ]
  },
  {
   "cell_type": "code",
   "execution_count": null,
   "id": "4ac26842",
   "metadata": {
    "scrolled": true
   },
   "outputs": [],
   "source": [
    "fast  <- ds@meta.data  %>% dplyr::select(Patient_Time_population, fasting_cpept_1)  %>% unique"
   ]
  },
  {
   "cell_type": "code",
   "execution_count": null,
   "id": "32b196d9",
   "metadata": {
    "scrolled": true
   },
   "outputs": [],
   "source": [
    "fast"
   ]
  },
  {
   "cell_type": "code",
   "execution_count": null,
   "id": "af122a89",
   "metadata": {
    "scrolled": true
   },
   "outputs": [],
   "source": [
    "rna  <- ds_mtx$RNA  %>% \n",
    "as.data.frame()  %>% \n",
    "rownames_to_column(\"gene\")  %>% \n",
    "pivot_longer(!gene, names_to = \"Patient_Time_population\", values_to = \"expression\")  %>% \n",
    " left_join(fast)  %>% separate(Patient_Time_population, into = c(\"Patient_Time\", \"Population\"),\n",
    "                              sep = \"\\\\.\", remove = F)"
   ]
  },
  {
   "cell_type": "code",
   "execution_count": null,
   "id": "7987ab2f",
   "metadata": {
    "scrolled": true
   },
   "outputs": [],
   "source": [
    "rna"
   ]
  },
  {
   "cell_type": "code",
   "execution_count": null,
   "id": "c3fb4d33",
   "metadata": {},
   "outputs": [],
   "source": [
    "populations_to_test  <- rna  %>% pull(Population)  %>% unique"
   ]
  },
  {
   "cell_type": "code",
   "execution_count": null,
   "id": "1d00b632",
   "metadata": {},
   "outputs": [],
   "source": [
    "populations_to_test"
   ]
  },
  {
   "cell_type": "code",
   "execution_count": null,
   "id": "8f6f4933",
   "metadata": {},
   "outputs": [],
   "source": [
    "calc_one_pop  <- function(select_pop){\n",
    "    \n",
    "    pop  <- select_pop\n",
    "    df  <- rna  %>% dplyr::filter(gene == select_gene & Population == select_pop)\n",
    "    cor  <- cor.test(df$expression, df$fasting_cpept_1)\n",
    "    res_df  <- data.frame(gene = select_gene,\n",
    "                          population = pop,\n",
    "                          cor = cor$estimate, \n",
    "                          pval = cor$p.value, \n",
    "                         padj  = ifelse(cor$p.value*length(de_genes)>1,1,cor$p.value*length(de_genes)))\n",
    "    return(res_df)\n",
    "}\n",
    "\n",
    "calc_correlation  <- function(select_gene){\n",
    "    populations  <- rna  %>% pull(Population)  %>% unique\n",
    "    all_results  <- future_map(.x = populations, .f = calc_one_pop)\n",
    "    test2  <- bind_rows(all_results)\n",
    "    return(test2)\n",
    "}"
   ]
  },
  {
   "cell_type": "code",
   "execution_count": null,
   "id": "9e8aed7a",
   "metadata": {},
   "outputs": [],
   "source": [
    "library(future)\n",
    "plan(multisession, workers = 8)"
   ]
  },
  {
   "cell_type": "code",
   "execution_count": null,
   "id": "9277f57b",
   "metadata": {},
   "outputs": [],
   "source": [
    "rm(full)\n",
    "gc()"
   ]
  },
  {
   "cell_type": "code",
   "execution_count": null,
   "id": "44828e6b",
   "metadata": {},
   "outputs": [],
   "source": [
    "test  <- future_map(.x = de_genes, .f = calc_correlation)"
   ]
  },
  {
   "cell_type": "code",
   "execution_count": null,
   "id": "62affcda",
   "metadata": {},
   "outputs": [],
   "source": [
    "test3  <- bind_rows(test)"
   ]
  },
  {
   "cell_type": "code",
   "execution_count": null,
   "id": "80e53de6",
   "metadata": {
    "scrolled": true
   },
   "outputs": [],
   "source": [
    "test4  <- test3  %>% arrange(pval)"
   ]
  },
  {
   "cell_type": "code",
   "execution_count": null,
   "id": "58fabf75",
   "metadata": {
    "scrolled": true
   },
   "outputs": [],
   "source": [
    "test4"
   ]
  },
  {
   "cell_type": "code",
   "execution_count": null,
   "id": "50fa94a8",
   "metadata": {},
   "outputs": [],
   "source": [
    "options(repr.plot.width = 5, repr.plot.width = 5)\n",
    "for(i in 1:10){\n",
    "gene  <- test4$gene[i]\n",
    "population  <- test4$population[i]\n",
    "df  <- rna  %>% dplyr::filter(gene == test4$gene[i] & Population == population)\n",
    "p <- df %>%  \n",
    " ggplot(aes(x=expression, y=fasting_cpept_1)) +\n",
    " geom_point(shape = 16, size = 2) +\n",
    " geom_smooth(method=lm, alpha = 0.2) + ggtitle(paste(gene, \"in\", population)) + \n",
    "stat_cor(size = 7) + theme_classic() + ggtheme()\n",
    "print(p)\n",
    "    }"
   ]
  },
  {
   "cell_type": "code",
   "execution_count": null,
   "id": "151f346c",
   "metadata": {
    "scrolled": true
   },
   "outputs": [],
   "source": [
    "test5  <- test4  %>% dplyr::filter(population == \"CD4 Treg\")"
   ]
  },
  {
   "cell_type": "code",
   "execution_count": null,
   "id": "804bce69",
   "metadata": {},
   "outputs": [],
   "source": []
  },
  {
   "cell_type": "code",
   "execution_count": null,
   "id": "bd213b74",
   "metadata": {},
   "outputs": [],
   "source": [
    "options(repr.plot.width = 5, repr.plot.width = 5)\n",
    "for(i in 1:10){\n",
    "gene  <- test5$gene[i]\n",
    "population  <- \"CD4 Treg\"\n",
    "df  <- rna  %>% dplyr::filter(gene == test5$gene[i] & Population == population)\n",
    "p <- df %>%  \n",
    " ggplot(aes(x=expression, y=fasting_cpept_1)) +\n",
    " geom_point(shape = 16, size = 2) +\n",
    " geom_smooth(method=lm, alpha = 0.2) + ggtitle(paste(gene, \"in\", population)) + \n",
    "stat_cor(size = 7) + theme_classic() + ggtheme()\n",
    "print(p)\n",
    "    }"
   ]
  },
  {
   "cell_type": "code",
   "execution_count": null,
   "id": "7315d39a",
   "metadata": {},
   "outputs": [],
   "source": [
    "p"
   ]
  },
  {
   "cell_type": "code",
   "execution_count": null,
   "id": "fb793122",
   "metadata": {
    "scrolled": true
   },
   "outputs": [],
   "source": [
    "df"
   ]
  },
  {
   "cell_type": "code",
   "execution_count": null,
   "id": "b4f5b6cd",
   "metadata": {},
   "outputs": [],
   "source": [
    "gene  <- \"IL4R\"\n",
    "population  <- \"CD4 Treg\"\n",
    "df  <- rna  %>% dplyr::filter(gene == gene & Population == population)  %>% unique"
   ]
  },
  {
   "cell_type": "code",
   "execution_count": null,
   "id": "db5b8322",
   "metadata": {
    "scrolled": true
   },
   "outputs": [],
   "source": [
    "df"
   ]
  },
  {
   "cell_type": "code",
   "execution_count": null,
   "id": "0dd3469d",
   "metadata": {},
   "outputs": [],
   "source": [
    "options(repr.plot.width = 4, repr.plot.height = 4)\n",
    "for(i in 96) {\n",
    "   gene  <- test4$gene[i]\n",
    "population  <- test4$population[i]\n",
    "df  <- rna  %>% dplyr::filter(gene == test4$gene[i] & Population == population)\n",
    "p <- df %>%  \n",
    " ggplot(aes(x=expression, y=fasting_cpept_T1)) +\n",
    " geom_point(shape = 16, size = 2) +\n",
    " geom_smooth(method=lm, alpha = 0.2) + ggtitle(paste(test4$gene[i], \"in\", population)) + \n",
    "stat_cor(size = 7) + theme_classic() + ggtheme()\n",
    " ggsave(filename = paste0(\"../figures/correlation_gene_in_populations/\",i,\".svg\"), width = 5, height = 4.5)\n",
    "\n",
    "    print(p)\n",
    "    }"
   ]
  },
  {
   "cell_type": "code",
   "execution_count": null,
   "id": "c7355213",
   "metadata": {},
   "outputs": [],
   "source": [
    "dir.create(\"../figures/correlation_gene_in_populations/\")"
   ]
  },
  {
   "cell_type": "code",
   "execution_count": null,
   "id": "a3d88e81",
   "metadata": {},
   "outputs": [],
   "source": [
    "options(repr.plot.width = 4, repr.plot.height = 4)\n",
    "for(i in 1:30) {\n",
    "   gene  <- test4$gene[i]\n",
    "population  <- test4$population[i]\n",
    "df  <- rna  %>% dplyr::filter(gene == test4$gene[i] & Population == population)\n",
    "p <- df %>%  \n",
    " ggplot(aes(x=expression, y=fasting_cpept_T1)) +\n",
    " geom_point(shape = 16, size = 2) +\n",
    " geom_smooth(method=lm, alpha = 0.2) + ggtitle(paste(test4$gene[i], \"in\", population)) + \n",
    "stat_cor(size = 7) + theme_classic() + ggtheme()\n",
    " ggsave(filename = paste0(\"../figures/correlation_gene_in_populations/\",i,\".svg\"), width = 5, height = 4.5)\n",
    "\n",
    "    print(p)\n",
    "    }"
   ]
  },
  {
   "cell_type": "code",
   "execution_count": null,
   "id": "b314433e",
   "metadata": {},
   "outputs": [],
   "source": []
  },
  {
   "cell_type": "markdown",
   "id": "688d9c8f",
   "metadata": {},
   "source": [
    "## Correlation of Expression with Age"
   ]
  },
  {
   "cell_type": "code",
   "execution_count": null,
   "id": "cbfc891f",
   "metadata": {},
   "outputs": [],
   "source": [
    "full$age"
   ]
  },
  {
   "cell_type": "code",
   "execution_count": null,
   "id": "304dbfcc",
   "metadata": {
    "scrolled": true
   },
   "outputs": [],
   "source": [
    "ds  <- subset(full, Experiment_ID %in% c(\"Exp16\", \"Exp18\", \"Exp19\", \"Exp20\"))"
   ]
  },
  {
   "cell_type": "code",
   "execution_count": null,
   "id": "ba0dda62",
   "metadata": {},
   "outputs": [],
   "source": [
    "ds$Patient_Time_population  <- paste(ds$Patient_Time, ds$annotations_l2, sep = \"-\")"
   ]
  },
  {
   "cell_type": "code",
   "execution_count": null,
   "id": "12bbdf6a",
   "metadata": {},
   "outputs": [],
   "source": [
    "ds_mtx  <- AverageExpression(ds, group.by = \"Patient_Time_population\", return.seurat = F, assays = \"RNA\")"
   ]
  },
  {
   "cell_type": "code",
   "execution_count": null,
   "id": "1f38eb46",
   "metadata": {
    "scrolled": true
   },
   "outputs": [],
   "source": [
    "fast  <- ds@meta.data  %>% dplyr::select(Patient_Time_population, age)  %>% unique"
   ]
  },
  {
   "cell_type": "code",
   "execution_count": null,
   "id": "129a21b5",
   "metadata": {
    "scrolled": true
   },
   "outputs": [],
   "source": [
    "fast"
   ]
  },
  {
   "cell_type": "code",
   "execution_count": null,
   "id": "e1f88814",
   "metadata": {},
   "outputs": [],
   "source": [
    "rna  <- ds_mtx$RNA  %>% \n",
    "as.data.frame()  %>% \n",
    "rownames_to_column(\"gene\")  %>% \n",
    "pivot_longer(!gene, names_to = \"Patient_Time_population\", values_to = \"expression\")  %>% \n",
    " left_join(fast)  %>% \n",
    "separate(Patient_Time_population, into = c(\"Patient_Time\", \"Population\"), sep = \"-\", remove = F)"
   ]
  },
  {
   "cell_type": "code",
   "execution_count": null,
   "id": "b9a3bdc8",
   "metadata": {
    "scrolled": true
   },
   "outputs": [],
   "source": [
    "rna"
   ]
  },
  {
   "cell_type": "code",
   "execution_count": null,
   "id": "b5d5ab3c",
   "metadata": {},
   "outputs": [],
   "source": []
  },
  {
   "cell_type": "code",
   "execution_count": null,
   "id": "546164e2",
   "metadata": {},
   "outputs": [],
   "source": [
    "genes_to_test  <- test4$gene[1:30]  %>% unique"
   ]
  },
  {
   "cell_type": "code",
   "execution_count": null,
   "id": "dd5bcbbe",
   "metadata": {
    "scrolled": true
   },
   "outputs": [],
   "source": [
    "genes_to_test"
   ]
  },
  {
   "cell_type": "code",
   "execution_count": null,
   "id": "22b916e5",
   "metadata": {},
   "outputs": [],
   "source": [
    "populations_to_test  <- rna  %>% pull(Population)  %>% unique"
   ]
  },
  {
   "cell_type": "code",
   "execution_count": null,
   "id": "61c82973",
   "metadata": {},
   "outputs": [],
   "source": [
    "populations_to_test"
   ]
  },
  {
   "cell_type": "code",
   "execution_count": null,
   "id": "34c17c06",
   "metadata": {},
   "outputs": [],
   "source": []
  },
  {
   "cell_type": "code",
   "execution_count": null,
   "id": "b73d4d90",
   "metadata": {},
   "outputs": [],
   "source": [
    "calc_one_pop  <- function(select_pop){\n",
    "    \n",
    "    pop  <- select_pop\n",
    "    df  <- rna  %>% dplyr::filter(gene == select_gene & Population == select_pop)\n",
    "    cor  <- cor.test(df$expression, df$fasting_cpept_T1)\n",
    "    res_df  <- data.frame(gene = select_gene,\n",
    "                          population = pop,\n",
    "                          cor = cor$estimate, \n",
    "                          pval = cor$p.value, \n",
    "                         padj  = ifelse(cor$p.value*length(genes_to_test)>1,1,cor$p.value*length(genes_to_test)))\n",
    "    return(res_df)\n",
    "}\n",
    "\n",
    "calc_correlation  <- function(select_gene){\n",
    "    populations  <- rna  %>% pull(Population)  %>% unique\n",
    "    all_results  <- future_map(.x = populations, .f = calc_one_pop)\n",
    "    test2  <- bind_rows(all_results)\n",
    "    return(test2)\n",
    "}"
   ]
  },
  {
   "cell_type": "code",
   "execution_count": null,
   "id": "288bca7e",
   "metadata": {},
   "outputs": [],
   "source": [
    "library(future)\n",
    "plan(multisession, workers = 8)"
   ]
  },
  {
   "cell_type": "code",
   "execution_count": null,
   "id": "6736868e",
   "metadata": {},
   "outputs": [],
   "source": [
    "rm(cd4_l1_full)\n",
    "rm(cd8_l1_full)\n",
    "rm(full)\n",
    "gc()"
   ]
  },
  {
   "cell_type": "code",
   "execution_count": null,
   "id": "2ed0f4a6",
   "metadata": {},
   "outputs": [],
   "source": [
    "test  <- future_map(.x = global_genes, .f = calc_correlation)"
   ]
  },
  {
   "cell_type": "code",
   "execution_count": null,
   "id": "a3d390d9",
   "metadata": {},
   "outputs": [],
   "source": [
    "test3  <- bind_rows(test)"
   ]
  },
  {
   "cell_type": "code",
   "execution_count": null,
   "id": "78fd935b",
   "metadata": {
    "scrolled": true
   },
   "outputs": [],
   "source": [
    "test4  <- test3  %>% arrange(pval)"
   ]
  },
  {
   "cell_type": "code",
   "execution_count": null,
   "id": "7104e5b3",
   "metadata": {},
   "outputs": [],
   "source": [
    "gc()"
   ]
  },
  {
   "cell_type": "code",
   "execution_count": null,
   "id": "55bce223",
   "metadata": {},
   "outputs": [],
   "source": [
    "i = 1"
   ]
  },
  {
   "cell_type": "code",
   "execution_count": null,
   "id": "3cbb70b4",
   "metadata": {
    "scrolled": true
   },
   "outputs": [],
   "source": [
    "rna"
   ]
  },
  {
   "cell_type": "code",
   "execution_count": null,
   "id": "2d2e2fb4",
   "metadata": {},
   "outputs": [],
   "source": [
    "gene  <- test4$gene[i]\n",
    "population  <- test4$population[i]\n",
    "df  <- rna  %>% dplyr::filter(gene == test4$gene[i] & Population == population)"
   ]
  },
  {
   "cell_type": "code",
   "execution_count": null,
   "id": "ad81dd97",
   "metadata": {
    "scrolled": true
   },
   "outputs": [],
   "source": [
    "df"
   ]
  },
  {
   "cell_type": "code",
   "execution_count": null,
   "id": "5ab3a4bf",
   "metadata": {
    "scrolled": true
   },
   "outputs": [],
   "source": [
    "test4"
   ]
  },
  {
   "cell_type": "code",
   "execution_count": null,
   "id": "b5f95ad1",
   "metadata": {},
   "outputs": [],
   "source": [
    "gene  <- test4$gene[i]\n",
    "population  <- test4$population[i]\n",
    "df  <- rna  %>% dplyr::filter(gene == test4$gene[i] & Population == population)\n",
    "p <- df %>%  \n",
    " ggplot(aes(x=expression, y=fasting_cpept_T1)) +\n",
    " geom_point(shape = 16, size = 2) +\n",
    " geom_smooth(method=lm, alpha = 0.2) + ggtitle(paste(test4$gene[i], \"in\", population)) + \n",
    "stat_cor(size = 7) + theme_classic() + ggtheme()"
   ]
  },
  {
   "cell_type": "code",
   "execution_count": null,
   "id": "11c955d5",
   "metadata": {},
   "outputs": [],
   "source": [
    "p"
   ]
  },
  {
   "cell_type": "code",
   "execution_count": null,
   "id": "51a127de",
   "metadata": {},
   "outputs": [],
   "source": [
    "dir.create(\"../figures/correlation_gene_in_populations/\")"
   ]
  },
  {
   "cell_type": "code",
   "execution_count": null,
   "id": "b27f46e8",
   "metadata": {},
   "outputs": [],
   "source": [
    "options(repr.plot.width = 4, repr.plot.height = 4)\n",
    "for(i in 1:30) {\n",
    "   gene  <- test4$gene[i]\n",
    "population  <- test4$population[i]\n",
    "df  <- rna  %>% dplyr::filter(gene == test4$gene[i] & Population == population)\n",
    "p <- df %>%  \n",
    " ggplot(aes(x=expression, y=fasting_cpept_T1)) +\n",
    " geom_point(shape = 16, size = 2) +\n",
    " geom_smooth(method=lm, alpha = 0.2) + ggtitle(paste(test4$gene[i], \"in\", population)) + \n",
    "stat_cor(size = 7) + theme_classic() + ggtheme()\n",
    " ggsave(filename = paste0(\"../figures/correlation_gene_in_populations/\",i,\".svg\"), width = 5, height = 4.5)\n",
    "\n",
    "    print(p)\n",
    "    }"
   ]
  },
  {
   "cell_type": "code",
   "execution_count": null,
   "id": "5daf6cc8",
   "metadata": {},
   "outputs": [],
   "source": []
  },
  {
   "cell_type": "markdown",
   "id": "ea8a072a",
   "metadata": {},
   "source": [
    "## Correlation v05"
   ]
  },
  {
   "cell_type": "markdown",
   "id": "702f93fb",
   "metadata": {},
   "source": [
    "### Cpeptide"
   ]
  },
  {
   "cell_type": "code",
   "execution_count": null,
   "id": "06d08f86",
   "metadata": {},
   "outputs": [],
   "source": [
    "full  <- readRDS(\"../data/processed/full.rds\")"
   ]
  },
  {
   "cell_type": "code",
   "execution_count": null,
   "id": "a2a825b4",
   "metadata": {},
   "outputs": [],
   "source": [
    "gc()"
   ]
  },
  {
   "cell_type": "code",
   "execution_count": null,
   "id": "25f76524",
   "metadata": {
    "scrolled": true
   },
   "outputs": [],
   "source": [
    "full  <- subset(full, fasting_cpept_1 >= 0 & Experiment_ID %in% c(\"Exp16\", \"Exp18\", \"Exp19\", \"Exp20\"))"
   ]
  },
  {
   "cell_type": "code",
   "execution_count": null,
   "id": "ebb8e150",
   "metadata": {},
   "outputs": [],
   "source": [
    "full$Patient_Time  %>% table"
   ]
  },
  {
   "cell_type": "code",
   "execution_count": null,
   "id": "79da983a",
   "metadata": {},
   "outputs": [],
   "source": [
    "full@meta.data  <- full@meta.data  %>% separate(annotations_l2, into = c(\"annotations_l2_part1\",\n",
    "                                                                     \"annotations_l2_part2\",\n",
    "                                                                     \"annotations_l2_part3\"),\n",
    "                                            sep = \"---\", remove = F)  %>% \n",
    "mutate(annotations_l2_new = paste(annotations_l2_part1, annotations_l2_part2))  %>% \n",
    "mutate(annotations_l2_new = gsub(annotations_l2_new, pattern = \"Unconventional Unconventional\", replacement = \"Unc\"))  %>% \n",
    "mutate(annotations_l2_new = gsub(annotations_l2_new, pattern = \"Unconventional\", replacement = \"Unc\"))  %>% \n",
    "mutate(annotations_l2_new = gsub(annotations_l2_new, pattern = \"NK cells NK cells\", replacement = \"NK cells\"))\n",
    "\n"
   ]
  },
  {
   "cell_type": "code",
   "execution_count": null,
   "id": "4a116564",
   "metadata": {},
   "outputs": [],
   "source": [
    "full$annotations_l2_new  %>% table"
   ]
  },
  {
   "cell_type": "code",
   "execution_count": null,
   "id": "fb94a058",
   "metadata": {},
   "outputs": [],
   "source": [
    "full$Patient_Time_population  <- paste(full$Patient_Time, full$annotations_l2_new, sep = \".\")"
   ]
  },
  {
   "cell_type": "code",
   "execution_count": null,
   "id": "ada732ad",
   "metadata": {
    "scrolled": false
   },
   "outputs": [],
   "source": [
    "markers_cd4  <- read_csv(\"../tables/de_genes/240319_cd4_all_markers_without_sex.csv\")\n",
    "markers_cd8  <- read_csv(\"../tables/de_genes/240319_cd8_all_markers_without_sex.csv\")\n",
    "all_markers  <- rbind(markers_cd4, markers_cd8)"
   ]
  },
  {
   "cell_type": "code",
   "execution_count": null,
   "id": "7cb3db72",
   "metadata": {},
   "outputs": [],
   "source": [
    "de_genes  <- all_markers  %>% dplyr::filter(source == \"scRNAseq_RNA\")  %>% pull(gene)  %>% unique"
   ]
  },
  {
   "cell_type": "code",
   "execution_count": null,
   "id": "eba8c7bd",
   "metadata": {},
   "outputs": [],
   "source": [
    "length(de_genes)"
   ]
  },
  {
   "cell_type": "code",
   "execution_count": null,
   "id": "98d63027",
   "metadata": {},
   "outputs": [],
   "source": [
    "all_markers  %>% dplyr::filter(gene == \"IL4R\")"
   ]
  },
  {
   "cell_type": "code",
   "execution_count": null,
   "id": "cbe98423",
   "metadata": {},
   "outputs": [],
   "source": [
    "which(de_genes == \"IL4R\")"
   ]
  },
  {
   "cell_type": "code",
   "execution_count": null,
   "id": "4215fc14",
   "metadata": {},
   "outputs": [],
   "source": [
    "full_mtx  <- AverageExpression(full, group.by = \"Patient_Time_population\", return.seurat = F, assays = \"RNA\",\n",
    "                            features = de_genes)"
   ]
  },
  {
   "cell_type": "code",
   "execution_count": null,
   "id": "cab4c5bb",
   "metadata": {
    "scrolled": true
   },
   "outputs": [],
   "source": [
    "fast  <- full@meta.data  %>% dplyr::select(Patient_Time_population, fasting_cpept_1)  %>% unique"
   ]
  },
  {
   "cell_type": "code",
   "execution_count": null,
   "id": "7d942ca3",
   "metadata": {
    "scrolled": true
   },
   "outputs": [],
   "source": [
    "fast"
   ]
  },
  {
   "cell_type": "code",
   "execution_count": null,
   "id": "cd16dfea",
   "metadata": {
    "scrolled": true
   },
   "outputs": [],
   "source": [
    "rna  <- full_mtx$RNA  %>% \n",
    "as.data.frame()  %>% \n",
    "rownames_to_column(\"gene\")  %>% \n",
    "pivot_longer(!gene, names_to = \"Patient_Time_population\", values_to = \"expression\")  %>% \n",
    " left_join(fast)  %>% separate(Patient_Time_population, into = c(\"Patient_Time\", \"Population\"),\n",
    "                              sep = \"\\\\.\", remove = F)"
   ]
  },
  {
   "cell_type": "code",
   "execution_count": null,
   "id": "8bcb7fa7",
   "metadata": {},
   "outputs": [],
   "source": [
    "populations_to_test  <- rna  %>% pull(Population)  %>% unique"
   ]
  },
  {
   "cell_type": "code",
   "execution_count": null,
   "id": "22c111d3",
   "metadata": {},
   "outputs": [],
   "source": [
    "populations_to_test"
   ]
  },
  {
   "cell_type": "code",
   "execution_count": null,
   "id": "1df1949e",
   "metadata": {},
   "outputs": [],
   "source": [
    "calc_one_pop  <- function(select_pop){\n",
    "    \n",
    "    pop  <- select_pop\n",
    "    df  <- rna  %>% dplyr::filter(gene == select_gene & Population == select_pop)\n",
    "    cor  <- cor.test(df$expression, df$fasting_cpept_1)\n",
    "    res_df  <- data.frame(gene = select_gene,\n",
    "                          population = pop,\n",
    "                          cor = cor$estimate, \n",
    "                          pval = cor$p.value, \n",
    "                         padj  = ifelse(cor$p.value*length(de_genes)>1,1,cor$p.value*length(de_genes)))\n",
    "    return(res_df)\n",
    "}\n",
    "\n",
    "calc_correlation  <- function(select_gene){\n",
    "    populations  <- rna  %>% pull(Population)  %>% unique\n",
    "    all_results  <- future_map(.x = populations, .f = calc_one_pop)\n",
    "    test2  <- bind_rows(all_results)\n",
    "    return(test2)\n",
    "}"
   ]
  },
  {
   "cell_type": "code",
   "execution_count": null,
   "id": "507afa69",
   "metadata": {},
   "outputs": [],
   "source": [
    "library(future)\n",
    "plan(multisession, workers = 12)"
   ]
  },
  {
   "cell_type": "code",
   "execution_count": null,
   "id": "f3bcadcb",
   "metadata": {},
   "outputs": [],
   "source": [
    "rm(full)\n",
    "gc()"
   ]
  },
  {
   "cell_type": "code",
   "execution_count": null,
   "id": "533ecc2f",
   "metadata": {},
   "outputs": [],
   "source": [
    "test  <- future_map(.x = de_genes, .f = calc_correlation)"
   ]
  },
  {
   "cell_type": "code",
   "execution_count": null,
   "id": "0f269ae8",
   "metadata": {},
   "outputs": [],
   "source": [
    "test3  <- bind_rows(test)"
   ]
  },
  {
   "cell_type": "code",
   "execution_count": null,
   "id": "f76c1362",
   "metadata": {
    "scrolled": true
   },
   "outputs": [],
   "source": [
    "test4  <- test3  %>% arrange(pval)"
   ]
  },
  {
   "cell_type": "code",
   "execution_count": null,
   "id": "f58000ca",
   "metadata": {
    "scrolled": true
   },
   "outputs": [],
   "source": [
    "test4  "
   ]
  },
  {
   "cell_type": "code",
   "execution_count": null,
   "id": "26bb92b1",
   "metadata": {},
   "outputs": [],
   "source": [
    "options(repr.plot.width = 5, repr.plot.width = 5)\n",
    "for(i in 1:10){\n",
    "gene  <- test4$gene[i]\n",
    "population  <- test4$population[i]\n",
    "df  <- rna  %>% dplyr::filter(gene == test4$gene[i] & Population == population)\n",
    "p <- df %>%  \n",
    " ggplot(aes(x=expression, y=fasting_cpept_1)) +\n",
    " geom_point(shape = 16, size = 2) +\n",
    " geom_smooth(method=lm, alpha = 0.2) + ggtitle(paste(gene, \"in\", population)) + \n",
    "stat_cor(size = 7) + theme_classic() + ggtheme()\n",
    "print(p)\n",
    "    }"
   ]
  },
  {
   "cell_type": "code",
   "execution_count": null,
   "id": "f7f7840b",
   "metadata": {},
   "outputs": [],
   "source": [
    "write.csv(test4, \"../tables/correlation_genes_in_populations_fast_cpept.csv\")"
   ]
  },
  {
   "cell_type": "code",
   "execution_count": null,
   "id": "a6a323fc",
   "metadata": {
    "scrolled": true
   },
   "outputs": [],
   "source": [
    "test4"
   ]
  },
  {
   "cell_type": "code",
   "execution_count": null,
   "id": "b03b1daf",
   "metadata": {},
   "outputs": [],
   "source": [
    "test4$abs_cor  <- abs(test4$cor)"
   ]
  },
  {
   "cell_type": "code",
   "execution_count": null,
   "id": "02a3e4e1",
   "metadata": {
    "scrolled": true
   },
   "outputs": [],
   "source": [
    "test4"
   ]
  },
  {
   "cell_type": "code",
   "execution_count": null,
   "id": "33f24b72",
   "metadata": {},
   "outputs": [],
   "source": [
    "options(repr.plot.width = 16, repr.plot.height = 10)\n",
    "test4  %>%  \n",
    "mutate(label = ifelse(abs_cor>0.4,gene,\n",
    "                     NA_character_))  %>% \n",
    "mutate(color = ifelse(abs_cor>0.4,population,\"grey\"))   %>% \n",
    "ggplot(aes(x = cor, y = -log10(padj), color = color, label = label)) + \n",
    "  ggrastr::rasterize(geom_point(aes(shape = color), size = 2)) + \n",
    "        theme_minimal() +\n",
    "        geom_text_repel(size = 6) +\n",
    "        #scale_color_manual(values=colors_of_populations) +\n",
    "        geom_vline(xintercept=c(-0.4, 0.4), col=\"red\") +\n",
    "        geom_hline(yintercept=-log10(0.05), col=\"red\") +\n",
    "    \n",
    "    scale_shape_manual(values = c(21:25,21:25,21:25,21:25)) + \n",
    "ggtitle(\"\") + ggtheme()\n"
   ]
  },
  {
   "cell_type": "markdown",
   "id": "05c37090",
   "metadata": {},
   "source": [
    "### delta Cpeptide"
   ]
  },
  {
   "cell_type": "code",
   "execution_count": null,
   "id": "a2f50d4a",
   "metadata": {},
   "outputs": [],
   "source": [
    "full  <- readRDS(\"../data/processed/full.rds\")"
   ]
  },
  {
   "cell_type": "code",
   "execution_count": null,
   "id": "276cad2e",
   "metadata": {},
   "outputs": [],
   "source": [
    "rm(full)"
   ]
  },
  {
   "cell_type": "code",
   "execution_count": null,
   "id": "e8d25071",
   "metadata": {},
   "outputs": [],
   "source": [
    "gc()"
   ]
  },
  {
   "cell_type": "code",
   "execution_count": null,
   "id": "9f0dbbbd",
   "metadata": {},
   "outputs": [],
   "source": [
    "full$c_peptide_change_perc"
   ]
  },
  {
   "cell_type": "code",
   "execution_count": null,
   "id": "34aff859",
   "metadata": {
    "scrolled": true
   },
   "outputs": [],
   "source": [
    "full  <- subset(full, c_peptide_change_perc >= 0 & Experiment_ID %in% c(\"Exp16\", \"Exp18\", \"Exp19\", \"Exp20\"))"
   ]
  },
  {
   "cell_type": "code",
   "execution_count": null,
   "id": "25911417",
   "metadata": {},
   "outputs": [],
   "source": [
    "full$Patient_Time  %>% table"
   ]
  },
  {
   "cell_type": "code",
   "execution_count": null,
   "id": "6f1fbb4d",
   "metadata": {},
   "outputs": [],
   "source": [
    "full@meta.data  <- full@meta.data  %>% separate(annotations_l2, into = c(\"annotations_l2_part1\",\n",
    "                                                                     \"annotations_l2_part2\",\n",
    "                                                                     \"annotations_l2_part3\"),\n",
    "                                            sep = \"---\", remove = F)  %>% \n",
    "mutate(annotations_l2_new = paste(annotations_l2_part1, annotations_l2_part2))  %>% \n",
    "mutate(annotations_l2_new = gsub(annotations_l2_new, pattern = \"Unconventional Unconventional\", replacement = \"Unc\"))  %>% \n",
    "mutate(annotations_l2_new = gsub(annotations_l2_new, pattern = \"Unconventional\", replacement = \"Unc\"))  %>% \n",
    "mutate(annotations_l2_new = gsub(annotations_l2_new, pattern = \"NK cells NK cells\", replacement = \"NK cells\"))\n",
    "\n"
   ]
  },
  {
   "cell_type": "code",
   "execution_count": null,
   "id": "8dc94840",
   "metadata": {},
   "outputs": [],
   "source": [
    "full$Patient_Time_population  <- paste(full$Patient_Time, full$annotations_l2_new, sep = \".\")"
   ]
  },
  {
   "cell_type": "code",
   "execution_count": null,
   "id": "27e72931",
   "metadata": {},
   "outputs": [],
   "source": [
    "full_mtx  <- AverageExpression(full, group.by = \"Patient_Time_population\", return.seurat = F, assays = \"RNA\",\n",
    "                            features = de_genes)"
   ]
  },
  {
   "cell_type": "code",
   "execution_count": null,
   "id": "c6f312d9",
   "metadata": {
    "scrolled": true
   },
   "outputs": [],
   "source": [
    "fast  <- full@meta.data  %>% dplyr::select(Patient_Time_population, c_peptide_change, c_peptide_change_perc)  %>% unique"
   ]
  },
  {
   "cell_type": "code",
   "execution_count": null,
   "id": "fbae5bd4",
   "metadata": {
    "scrolled": true
   },
   "outputs": [],
   "source": [
    "fast"
   ]
  },
  {
   "cell_type": "code",
   "execution_count": null,
   "id": "9d21d4c7",
   "metadata": {
    "scrolled": true
   },
   "outputs": [],
   "source": [
    "rna  <- full_mtx$RNA  %>% \n",
    "as.data.frame()  %>% \n",
    "rownames_to_column(\"gene\")  %>% \n",
    "pivot_longer(!gene, names_to = \"Patient_Time_population\", values_to = \"expression\")  %>% \n",
    " left_join(fast)  %>% separate(Patient_Time_population, into = c(\"Patient_Time\", \"Population\"),\n",
    "                              sep = \"\\\\.\", remove = F)"
   ]
  },
  {
   "cell_type": "code",
   "execution_count": null,
   "id": "69937be4",
   "metadata": {},
   "outputs": [],
   "source": [
    "populations_to_test  <- rna  %>% pull(Population)  %>% unique"
   ]
  },
  {
   "cell_type": "code",
   "execution_count": null,
   "id": "debc5188",
   "metadata": {},
   "outputs": [],
   "source": [
    "populations_to_test"
   ]
  },
  {
   "cell_type": "code",
   "execution_count": null,
   "id": "c9486530",
   "metadata": {},
   "outputs": [],
   "source": [
    "calc_one_pop  <- function(select_pop){\n",
    "    \n",
    "    pop  <- select_pop\n",
    "    df  <- rna  %>% dplyr::filter(gene == select_gene & Population == select_pop)\n",
    "    cor  <- cor.test(df$expression, df$c_peptide_change)\n",
    "    res_df  <- data.frame(gene = select_gene,\n",
    "                          population = pop,\n",
    "                          cor = cor$estimate, \n",
    "                          pval = cor$p.value, \n",
    "                         padj  = ifelse(cor$p.value*length(de_genes)>1,1,cor$p.value*length(de_genes)))\n",
    "    cor2  <- cor.test(df$expression, df$c_peptide_change_perc)\n",
    "    res_df2  <- data.frame(gene = select_gene,\n",
    "                          population = pop,\n",
    "                          cor = cor2$estimate, \n",
    "                          pval = cor2$p.value, \n",
    "                         padj  = ifelse(cor2$p.value*length(de_genes)>1,1,cor2$p.value*length(de_genes)))\n",
    "    res_df$test  <- \"c_peptide_change\"\n",
    "    res_df2$test  <- \"c_peptide_change_perc\"\n",
    "    res_df  <- rbind(res_df, res_df2)\n",
    "    return(res_df)\n",
    "}\n",
    "\n",
    "calc_correlation  <- function(select_gene){\n",
    "    populations  <- rna  %>% pull(Population)  %>% unique\n",
    "    all_results  <- future_map(.x = populations, .f = calc_one_pop)\n",
    "    test2  <- bind_rows(all_results)\n",
    "    return(test2)\n",
    "}"
   ]
  },
  {
   "cell_type": "code",
   "execution_count": null,
   "id": "f16ce7e2",
   "metadata": {},
   "outputs": [],
   "source": [
    "library(future)\n",
    "plan(multisession, workers = 12)"
   ]
  },
  {
   "cell_type": "code",
   "execution_count": null,
   "id": "e98485a4",
   "metadata": {},
   "outputs": [],
   "source": [
    "rm(full)\n",
    "gc()"
   ]
  },
  {
   "cell_type": "code",
   "execution_count": null,
   "id": "fd12699f",
   "metadata": {
    "scrolled": true
   },
   "outputs": [],
   "source": [
    "test  <- future_map(.x = de_genes, .f = calc_correlation)"
   ]
  },
  {
   "cell_type": "code",
   "execution_count": null,
   "id": "07f75cdb",
   "metadata": {},
   "outputs": [],
   "source": [
    "test3  <- bind_rows(test)"
   ]
  },
  {
   "cell_type": "code",
   "execution_count": null,
   "id": "4a28b221",
   "metadata": {
    "scrolled": true
   },
   "outputs": [],
   "source": [
    "test4  <- test3  %>% arrange(pval)"
   ]
  },
  {
   "cell_type": "code",
   "execution_count": null,
   "id": "52b5c5a1",
   "metadata": {
    "scrolled": true
   },
   "outputs": [],
   "source": [
    "test4  "
   ]
  },
  {
   "cell_type": "code",
   "execution_count": null,
   "id": "a4826cdc",
   "metadata": {},
   "outputs": [],
   "source": [
    "options(repr.plot.width = 5, repr.plot.width = 5)\n",
    "for(i in 1:10){\n",
    "gene  <- test4$gene[i]\n",
    "population  <- test4$population[i]\n",
    "df  <- rna  %>% dplyr::filter(gene == test4$gene[i] & Population == population)\n",
    "p <- df %>%  \n",
    " ggplot(aes(x=expression, y=c_peptide_change_perc)) +\n",
    " geom_point(shape = 16, size = 2) +\n",
    " geom_smooth(method=lm, alpha = 0.2) + ggtitle(paste(gene, \"in\", population)) + \n",
    "stat_cor(size = 7) + theme_classic() + ggtheme()\n",
    "print(p)\n",
    "    }"
   ]
  },
  {
   "cell_type": "code",
   "execution_count": null,
   "id": "083bfed0",
   "metadata": {},
   "outputs": [],
   "source": [
    "write.csv(test4, \"../tables/correlation_genes_in_populations_delta_cpept.csv\")"
   ]
  },
  {
   "cell_type": "code",
   "execution_count": null,
   "id": "ac76422b",
   "metadata": {},
   "outputs": [],
   "source": [
    "test4$abs_cor  <- abs(test4$cor)"
   ]
  },
  {
   "cell_type": "code",
   "execution_count": null,
   "id": "c90fbed7",
   "metadata": {},
   "outputs": [],
   "source": [
    "options(repr.plot.width = 18, repr.plot.height = 10)\n",
    "test4  %>%  \n",
    "dplyr::filter(test == \"c_peptide_change_perc\")  %>% \n",
    "mutate(label = ifelse(abs_cor>0.4,paste(gene, \"in\", population),\n",
    "                     NA_character_))  %>% \n",
    "mutate(color = ifelse(abs_cor>0.4,population,\"grey\"))   %>% \n",
    "ggplot(aes(x = cor, y = -log2(padj), color = color, label = label)) + \n",
    "  ggrastr::rasterize(geom_point(aes(shape = color), size = 2)) + \n",
    "        theme_minimal() +\n",
    "        geom_text_repel(size = 6) +\n",
    "        #scale_color_manual(values=colors_of_populations) +\n",
    "        geom_vline(xintercept=c(-0.4, 0.4), col=\"red\") +\n",
    "        geom_hline(yintercept=-log10(0.05), col=\"red\") +\n",
    "    \n",
    "    scale_shape_manual(values = c(21:25,21:25,21:25,21:25)) + \n",
    "ggtitle(\"\") + ggtheme()\n",
    "\n"
   ]
  },
  {
   "cell_type": "code",
   "execution_count": null,
   "id": "887d05a5",
   "metadata": {},
   "outputs": [],
   "source": [
    "options(repr.plot.width = 18, repr.plot.height = 10)\n",
    "test4  %>%  \n",
    "mutate(label = ifelse(abs_cor>0.4,gene,\n",
    "                     NA_character_))  %>% \n",
    "mutate(color = ifelse(abs_cor>0.4,population,\"grey\"))   %>% \n",
    "ggplot(aes(x = cor, y = -log10(padj), color = color, label = label)) + \n",
    "  ggrastr::rasterize(geom_point(aes(shape = color), size = 2)) + \n",
    "        theme_minimal() +\n",
    "        geom_text_repel(size = 6) +\n",
    "        #scale_color_manual(values=colors_of_populations) +\n",
    "        geom_vline(xintercept=c(-0.4, 0.4), col=\"red\") +\n",
    "        geom_hline(yintercept=-log10(0.05), col=\"red\") +\n",
    "    \n",
    "    scale_shape_manual(values = c(21:25,21:25,21:25,21:25)) + \n",
    "ggtitle(\"\") + ggtheme() "
   ]
  },
  {
   "cell_type": "code",
   "execution_count": null,
   "id": "809ff3ce",
   "metadata": {},
   "outputs": [],
   "source": []
  },
  {
   "cell_type": "code",
   "execution_count": null,
   "id": "0194f077",
   "metadata": {},
   "outputs": [],
   "source": []
  },
  {
   "cell_type": "code",
   "execution_count": null,
   "id": "6375a6c7",
   "metadata": {},
   "outputs": [],
   "source": []
  },
  {
   "cell_type": "code",
   "execution_count": null,
   "id": "8226f095",
   "metadata": {},
   "outputs": [],
   "source": []
  },
  {
   "cell_type": "code",
   "execution_count": null,
   "id": "eea44728",
   "metadata": {},
   "outputs": [],
   "source": [
    "options(repr.plot.width = 5, repr.plot.width = 5)\n",
    "for(i in 1:10){\n",
    "gene  <- test5$gene[i]\n",
    "population  <- \"CD4 Treg\"\n",
    "df  <- rna  %>% dplyr::filter(gene == test5$gene[i] & Population == population)\n",
    "p <- df %>%  \n",
    " ggplot(aes(x=expression, y=fasting_cpept_1)) +\n",
    " geom_point(shape = 16, size = 2) +\n",
    " geom_smooth(method=lm, alpha = 0.2) + ggtitle(paste(gene, \"in\", population)) + \n",
    "stat_cor(size = 7) + theme_classic() + ggtheme()\n",
    "print(p)\n",
    "    }"
   ]
  },
  {
   "cell_type": "code",
   "execution_count": null,
   "id": "ff3f9791",
   "metadata": {
    "scrolled": true
   },
   "outputs": [],
   "source": [
    "df"
   ]
  },
  {
   "cell_type": "code",
   "execution_count": null,
   "id": "7ed01cf3",
   "metadata": {},
   "outputs": [],
   "source": [
    "gene  <- \"IL4R\"\n",
    "population  <- \"CD4 Treg\"\n",
    "df  <- rna  %>% dplyr::filter(gene == gene & Population == population)  %>% unique"
   ]
  },
  {
   "cell_type": "code",
   "execution_count": null,
   "id": "7955bccb",
   "metadata": {
    "scrolled": true
   },
   "outputs": [],
   "source": [
    "df"
   ]
  },
  {
   "cell_type": "code",
   "execution_count": null,
   "id": "8343bc66",
   "metadata": {},
   "outputs": [],
   "source": [
    "options(repr.plot.width = 4, repr.plot.height = 4)\n",
    "for(i in 96) {\n",
    "   gene  <- test4$gene[i]\n",
    "population  <- test4$population[i]\n",
    "df  <- rna  %>% dplyr::filter(gene == test4$gene[i] & Population == population)\n",
    "p <- df %>%  \n",
    " ggplot(aes(x=expression, y=fasting_cpept_T1)) +\n",
    " geom_point(shape = 16, size = 2) +\n",
    " geom_smooth(method=lm, alpha = 0.2) + ggtitle(paste(test4$gene[i], \"in\", population)) + \n",
    "stat_cor(size = 7) + theme_classic() + ggtheme()\n",
    " ggsave(filename = paste0(\"../figures/correlation_gene_in_populations/\",i,\".svg\"), width = 5, height = 4.5)\n",
    "\n",
    "    print(p)\n",
    "    }"
   ]
  },
  {
   "cell_type": "code",
   "execution_count": null,
   "id": "0340fc9a",
   "metadata": {},
   "outputs": [],
   "source": [
    "dir.create(\"../figures/correlation_gene_in_populations/\")"
   ]
  },
  {
   "cell_type": "code",
   "execution_count": null,
   "id": "a5ad1bc7",
   "metadata": {},
   "outputs": [],
   "source": [
    "options(repr.plot.width = 4, repr.plot.height = 4)\n",
    "for(i in 1:30) {\n",
    "   gene  <- test4$gene[i]\n",
    "population  <- test4$population[i]\n",
    "df  <- rna  %>% dplyr::filter(gene == test4$gene[i] & Population == population)\n",
    "p <- df %>%  \n",
    " ggplot(aes(x=expression, y=fasting_cpept_T1)) +\n",
    " geom_point(shape = 16, size = 2) +\n",
    " geom_smooth(method=lm, alpha = 0.2) + ggtitle(paste(test4$gene[i], \"in\", population)) + \n",
    "stat_cor(size = 7) + theme_classic() + ggtheme()\n",
    " ggsave(filename = paste0(\"../figures/correlation_gene_in_populations/\",i,\".svg\"), width = 5, height = 4.5)\n",
    "\n",
    "    print(p)\n",
    "    }"
   ]
  },
  {
   "cell_type": "code",
   "execution_count": null,
   "id": "8b13db6c",
   "metadata": {},
   "outputs": [],
   "source": []
  },
  {
   "cell_type": "code",
   "execution_count": null,
   "id": "1cde95a4",
   "metadata": {},
   "outputs": [],
   "source": []
  },
  {
   "cell_type": "markdown",
   "id": "ca3a7710",
   "metadata": {},
   "source": [
    "# GSEA"
   ]
  },
  {
   "cell_type": "markdown",
   "id": "7b621d06",
   "metadata": {},
   "source": [
    "### Global regulators UP"
   ]
  },
  {
   "cell_type": "code",
   "execution_count": null,
   "id": "2be04de1",
   "metadata": {
    "scrolled": true
   },
   "outputs": [],
   "source": [
    "all_markers2"
   ]
  },
  {
   "cell_type": "code",
   "execution_count": null,
   "id": "3435ed54",
   "metadata": {},
   "outputs": [],
   "source": [
    "global_up_names  <- all_markers2  %>% \n",
    "                        dplyr::filter(source == \"scRNAseq_RNA\" & !is.na(entrezid) & direction == \"Up\")  %>% \n",
    "                        group_by(entrezid)  %>% \n",
    "                        summarise(avg_log2FC = mean(avg_log2FC))   %>% \n",
    "                        arrange(desc(avg_log2FC))  %>% \n",
    "                        pull(entrezid)\n",
    "\n",
    "\n",
    "global_up_values  <- all_markers2  %>% \n",
    "                        dplyr::filter(source == \"scRNAseq_RNA\" & !is.na(entrezid) & direction == \"Up\")  %>% \n",
    "                        group_by(entrezid)  %>% \n",
    "                        summarise(avg_log2FC = mean(avg_log2FC))   %>% \n",
    "                        arrange(desc(avg_log2FC))  %>% \n",
    "                        pull(avg_log2FC)"
   ]
  },
  {
   "cell_type": "code",
   "execution_count": null,
   "id": "32a4b994",
   "metadata": {},
   "outputs": [],
   "source": [
    "names(global_up_values)  <- global_up_names"
   ]
  },
  {
   "cell_type": "code",
   "execution_count": null,
   "id": "69672a3a",
   "metadata": {},
   "outputs": [],
   "source": [
    "global_up_values  <- global_up_values[rev(order(global_up_values))]"
   ]
  },
  {
   "cell_type": "code",
   "execution_count": null,
   "id": "2f885321",
   "metadata": {
    "scrolled": true
   },
   "outputs": [],
   "source": [
    "global_up_values"
   ]
  },
  {
   "cell_type": "markdown",
   "id": "280a3c7f",
   "metadata": {},
   "source": [
    "### C7 category"
   ]
  },
  {
   "cell_type": "code",
   "execution_count": null,
   "id": "85a58a5d",
   "metadata": {
    "scrolled": true
   },
   "outputs": [],
   "source": [
    "msigdbr_collections()"
   ]
  },
  {
   "cell_type": "code",
   "execution_count": null,
   "id": "defa2879",
   "metadata": {},
   "outputs": [],
   "source": [
    "C7_t2g <- msigdbr(species = \"Homo sapiens\", category = \"C7\") %>% \n",
    "  dplyr::select(gs_name, entrez_gene)\n",
    "head(C7_t2g)"
   ]
  },
  {
   "cell_type": "code",
   "execution_count": null,
   "id": "59fdfef9",
   "metadata": {
    "scrolled": true
   },
   "outputs": [],
   "source": [
    "em2 <- GSEA(global_up_values, TERM2GENE = C7_t2g)\n",
    "head(em2)"
   ]
  },
  {
   "cell_type": "code",
   "execution_count": null,
   "id": "2910ecb8",
   "metadata": {},
   "outputs": [],
   "source": [
    "options(repr.plot.width = 8, repr.plot.height = 16)\n",
    "dotplot(em2, showCategory=30) + ggtitle(\"Global Up C7\")"
   ]
  },
  {
   "cell_type": "markdown",
   "id": "6886cb9f",
   "metadata": {},
   "source": [
    "### C2 category"
   ]
  },
  {
   "cell_type": "code",
   "execution_count": null,
   "id": "ba803d67",
   "metadata": {},
   "outputs": [],
   "source": [
    "C2_t2g <- msigdbr(species = \"Homo sapiens\", category = \"C2\") %>% \n",
    "  dplyr::select(gs_name, entrez_gene)\n",
    "head(C2_t2g)"
   ]
  },
  {
   "cell_type": "code",
   "execution_count": null,
   "id": "991b260a",
   "metadata": {
    "scrolled": true
   },
   "outputs": [],
   "source": [
    "em2 <- GSEA(global_up_values, TERM2GENE = C2_t2g)\n"
   ]
  },
  {
   "cell_type": "code",
   "execution_count": null,
   "id": "3e35ede9",
   "metadata": {},
   "outputs": [],
   "source": [
    "options(repr.plot.width = 8, repr.plot.height = 16)\n",
    "dotplot(em2, showCategory=30) + ggtitle(\"Global Up C2\")"
   ]
  },
  {
   "cell_type": "code",
   "execution_count": null,
   "id": "23d56397",
   "metadata": {},
   "outputs": [],
   "source": []
  },
  {
   "cell_type": "markdown",
   "id": "fd6e5a5b",
   "metadata": {},
   "source": [
    "## Global regulators Down"
   ]
  },
  {
   "cell_type": "code",
   "execution_count": null,
   "id": "1a4ce21d",
   "metadata": {},
   "outputs": [],
   "source": [
    "global_down_names  <- all_markers2  %>% \n",
    "                        dplyr::filter(source == \"scRNAseq_RNA\" & !is.na(entrezid) & direction == \"Down\")  %>% \n",
    "                        group_by(entrezid)  %>% \n",
    "                        summarise(avg_log2FC = mean(avg_log2FC))   %>% \n",
    "                        arrange(desc(avg_log2FC))  %>% \n",
    "                        pull(entrezid)\n",
    "\n",
    "\n",
    "global_down_values  <- all_markers2  %>% \n",
    "                        dplyr::filter(source == \"scRNAseq_RNA\" & !is.na(entrezid) & direction == \"Down\")  %>% \n",
    "                        group_by(entrezid)  %>% \n",
    "                        summarise(avg_log2FC = mean(avg_log2FC))   %>% \n",
    "                        arrange(desc(avg_log2FC))  %>% \n",
    "                        pull(avg_log2FC)"
   ]
  },
  {
   "cell_type": "code",
   "execution_count": null,
   "id": "bbcf870b",
   "metadata": {},
   "outputs": [],
   "source": [
    "names(global_down_values)  <- global_down_names"
   ]
  },
  {
   "cell_type": "code",
   "execution_count": null,
   "id": "3cb9f47d",
   "metadata": {},
   "outputs": [],
   "source": [
    "global_down_values  <- global_down_values[rev(order(global_down_values))]"
   ]
  },
  {
   "cell_type": "code",
   "execution_count": null,
   "id": "6307024f",
   "metadata": {
    "scrolled": true
   },
   "outputs": [],
   "source": [
    "global_down_values"
   ]
  },
  {
   "cell_type": "markdown",
   "id": "14cddefa",
   "metadata": {},
   "source": [
    "### C7 category"
   ]
  },
  {
   "cell_type": "code",
   "execution_count": null,
   "id": "f9f598d7",
   "metadata": {
    "scrolled": true
   },
   "outputs": [],
   "source": [
    "em2 <- GSEA(global_down_values, TERM2GENE = C7_t2g)\n",
    "head(em2)"
   ]
  },
  {
   "cell_type": "code",
   "execution_count": null,
   "id": "ffcec4a9",
   "metadata": {},
   "outputs": [],
   "source": []
  },
  {
   "cell_type": "code",
   "execution_count": null,
   "id": "acc199f4",
   "metadata": {},
   "outputs": [],
   "source": [
    "options(repr.plot.width = 8, repr.plot.height = 16)\n",
    "dotplot(em2, showCategory=30) + ggtitle(\"Global Down C7\")"
   ]
  },
  {
   "cell_type": "markdown",
   "id": "ce51a491",
   "metadata": {},
   "source": [
    "### C2 category"
   ]
  },
  {
   "cell_type": "code",
   "execution_count": null,
   "id": "569b531d",
   "metadata": {
    "scrolled": true
   },
   "outputs": [],
   "source": [
    "em2 <- GSEA(global_down_values, TERM2GENE = C2_t2g)"
   ]
  },
  {
   "cell_type": "code",
   "execution_count": null,
   "id": "fc99e330",
   "metadata": {},
   "outputs": [],
   "source": [
    "options(repr.plot.width = 8, repr.plot.height = 16)\n",
    "dotplot(em2, showCategory=30) + ggtitle(\"Global Down C2\")"
   ]
  },
  {
   "cell_type": "markdown",
   "id": "d0ba7f1f",
   "metadata": {},
   "source": [
    "## All categories up and down"
   ]
  },
  {
   "cell_type": "code",
   "execution_count": null,
   "id": "d755e7dd",
   "metadata": {
    "scrolled": true
   },
   "outputs": [],
   "source": [
    "msigdbr_collections()"
   ]
  },
  {
   "cell_type": "code",
   "execution_count": null,
   "id": "1351134d",
   "metadata": {},
   "outputs": [],
   "source": [
    "pathways = msigdbr_collections()  %>% group_by(gs_cat)  %>% tally()  %>% pull(gs_cat)"
   ]
  },
  {
   "cell_type": "code",
   "execution_count": null,
   "id": "2e7d613e",
   "metadata": {},
   "outputs": [],
   "source": [
    "pathways"
   ]
  },
  {
   "cell_type": "code",
   "execution_count": null,
   "id": "63193caa",
   "metadata": {},
   "outputs": [],
   "source": [
    "t2g <- msigdbr(species = \"Homo sapiens\", category = \"C7\") %>% \n",
    "          dplyr::select(gs_name, human_gene_symbol)"
   ]
  },
  {
   "cell_type": "code",
   "execution_count": null,
   "id": "4324208d",
   "metadata": {},
   "outputs": [],
   "source": [
    "msigdbr(species = \"Homo sapiens\", category = \"C7\")"
   ]
  },
  {
   "cell_type": "code",
   "execution_count": null,
   "id": "99e5fea1",
   "metadata": {},
   "outputs": [],
   "source": [
    "get_pathway_df  <- function(pathway){\n",
    "    t2g <- msigdbr(species = \"Homo sapiens\", category = pathway) %>% \n",
    "          dplyr::select(gs_name, entrez_gene)\n",
    "    em2 <- GSEA(global_down_values, TERM2GENE = t2g)\n",
    "    df_down  <- as.data.frame(em2)\n",
    "            \n",
    "    em3 <- GSEA(global_up_values, TERM2GENE = t2g)\n",
    "    df_up  <- as.data.frame(em3)\n",
    "            \n",
    "    if(nrow(df_up)>0&nrow(df_down)>0){\n",
    "        df_down$direction  <- \"Down\"\n",
    "        df_up$direction  <- \"Up\"\n",
    "        df_all  <- rbind(df_down, df_up)\n",
    "        df_all$gs_cat  <- pathway\n",
    "        \n",
    "    } else {\n",
    "        if(nrow(df_up)>0){\n",
    "            df_up$direction  <- \"Up\"\n",
    "            df_all  <- df_up\n",
    "            df_all$gs_cat  <- pathway\n",
    "    \n",
    "    } else {\n",
    "        if(nrow(df_down)>0){\n",
    "            df_down$direction  <- \"Down\"\n",
    "            df_all  <- df_down \n",
    "            df_all$gs_cat  <- pathway\n",
    "    \n",
    "    } else {\n",
    "            df_all  <- NULL \n",
    "        } }}\n",
    "    return(df_all)\n",
    "}"
   ]
  },
  {
   "cell_type": "code",
   "execution_count": null,
   "id": "e363aae4",
   "metadata": {
    "scrolled": true
   },
   "outputs": [],
   "source": [
    "all_pathways  <- map(.x = pathways, .f = get_pathway_df)"
   ]
  },
  {
   "cell_type": "code",
   "execution_count": null,
   "id": "e1402739",
   "metadata": {
    "scrolled": true
   },
   "outputs": [],
   "source": [
    "all_pathways2  <- bind_rows(all_pathways)"
   ]
  },
  {
   "cell_type": "code",
   "execution_count": null,
   "id": "71126da5",
   "metadata": {},
   "outputs": [],
   "source": [
    "all_pathways2$core_enrichment   %>% nchar  %>% table"
   ]
  },
  {
   "cell_type": "code",
   "execution_count": null,
   "id": "38159d9c",
   "metadata": {},
   "outputs": [],
   "source": [
    "711/4"
   ]
  },
  {
   "cell_type": "code",
   "execution_count": null,
   "id": "84ff7461",
   "metadata": {},
   "outputs": [],
   "source": [
    "dir.create(\"../tables/pathways/\")"
   ]
  },
  {
   "cell_type": "code",
   "execution_count": null,
   "id": "2663ab75",
   "metadata": {},
   "outputs": [],
   "source": [
    "write.csv(all_pathways2, \"../tables/pathways/gsea_global.csv\")"
   ]
  },
  {
   "cell_type": "code",
   "execution_count": null,
   "id": "3d128cdf",
   "metadata": {},
   "outputs": [],
   "source": []
  },
  {
   "cell_type": "code",
   "execution_count": null,
   "id": "640be609",
   "metadata": {},
   "outputs": [],
   "source": [
    "enriched_genes  <- all_pathways2  %>% \n",
    "dplyr::select(core_enrichment)  %>% \n",
    "separate(core_enrichment, sep = \"/\",\n",
    "        into = paste0(\"v\",1:138))\n",
    "\n"
   ]
  },
  {
   "cell_type": "code",
   "execution_count": null,
   "id": "d01e347f",
   "metadata": {
    "scrolled": true
   },
   "outputs": [],
   "source": [
    "enriched_genes"
   ]
  },
  {
   "cell_type": "code",
   "execution_count": null,
   "id": "8d183e86",
   "metadata": {
    "scrolled": true
   },
   "outputs": [],
   "source": [
    "geneIDs2  <- geneIDs1  %>% group_by(entrezid)  %>% slice_head(n = 1)"
   ]
  },
  {
   "cell_type": "code",
   "execution_count": null,
   "id": "1ac09d60",
   "metadata": {},
   "outputs": [],
   "source": [
    "geneIDs2  <- geneIDs2  %>% filter(!is.na(entrezid))"
   ]
  },
  {
   "cell_type": "code",
   "execution_count": null,
   "id": "ad204144",
   "metadata": {},
   "outputs": [],
   "source": [
    "df_enriched_genes  <- enriched_genes"
   ]
  },
  {
   "cell_type": "code",
   "execution_count": null,
   "id": "ffdb593e",
   "metadata": {
    "scrolled": true
   },
   "outputs": [],
   "source": [
    "for(i in 1:138){\n",
    "    df1  <- dplyr::select(df_enriched_genes, i)\n",
    "    colnames(df1)  <- \"entrezid\"\n",
    "    df1$entrezid  <- as.integer(df1$entrezid)\n",
    "    df2  <- left_join(df1, geneIDs2)\n",
    "    df_enriched_genes[[paste0(\"v\",i)]]  <- df2$gene\n",
    "}"
   ]
  },
  {
   "cell_type": "code",
   "execution_count": null,
   "id": "eabd43b9",
   "metadata": {},
   "outputs": [],
   "source": [
    "df_enriched_genes"
   ]
  },
  {
   "cell_type": "code",
   "execution_count": null,
   "id": "402b9b19",
   "metadata": {},
   "outputs": [],
   "source": [
    "df_enriched_genes$genes  <- \"\""
   ]
  },
  {
   "cell_type": "code",
   "execution_count": null,
   "id": "701e1cf9",
   "metadata": {},
   "outputs": [],
   "source": [
    "for(i in 1:411){\n",
    "   df_enriched_genes[i, 139]  <-  gsub(pattern =  \" / NA\",\n",
    "        replacement = \"\",\n",
    "        x = paste(df_enriched_genes[i,1:138], collapse=\" / \")) \n",
    "}"
   ]
  },
  {
   "cell_type": "code",
   "execution_count": null,
   "id": "404ae019",
   "metadata": {},
   "outputs": [],
   "source": [
    "df_enriched_genes"
   ]
  },
  {
   "cell_type": "code",
   "execution_count": null,
   "id": "05d7f84d",
   "metadata": {},
   "outputs": [],
   "source": [
    "all_pathways2$genes  <- df_enriched_genes$genes"
   ]
  },
  {
   "cell_type": "code",
   "execution_count": null,
   "id": "e1c131a6",
   "metadata": {},
   "outputs": [],
   "source": [
    "write.csv(all_pathways2, \"../tables/pathways/gsea_global.csv\")"
   ]
  },
  {
   "cell_type": "markdown",
   "id": "b4fd80bf",
   "metadata": {},
   "source": [
    "## Global enrichment"
   ]
  },
  {
   "cell_type": "code",
   "execution_count": null,
   "id": "7ef5ef7e",
   "metadata": {},
   "outputs": [],
   "source": [
    "up_dia  <- all_markers2  %>% \n",
    "                        dplyr::filter(test_type == \"Ctrl T0 vs Dia T0\" & cluster == \"Dia T0\" & source == \"scRNAseq_RNA\")  %>% \n",
    "                        group_by(gene)  %>% \n",
    "                        tally()  %>% \n",
    "                        arrange(desc(n))  %>% \n",
    "                        pull(gene)\n",
    "down_dia  <- all_markers2  %>% \n",
    "                        dplyr::filter(test_type == \"Ctrl T0 vs Dia T0\" & cluster == \"Ctrl T0\" & source == \"scRNAseq_RNA\")  %>% \n",
    "                        group_by(gene)  %>% \n",
    "                        tally()  %>% \n",
    "                        arrange(desc(n))  %>% \n",
    "                        pull(gene)"
   ]
  },
  {
   "cell_type": "code",
   "execution_count": null,
   "id": "45c8e29d",
   "metadata": {},
   "outputs": [],
   "source": [
    "up_dia_t0_vs_ctrl_t0"
   ]
  },
  {
   "cell_type": "code",
   "execution_count": null,
   "id": "8291e810",
   "metadata": {},
   "outputs": [],
   "source": [
    "ego2 <- enrichGO(gene         = up_dia_t0_vs_ctrl_t0,\n",
    "                OrgDb         = org.Hs.eg.db,\n",
    "                keyType       = 'SYMBOL',\n",
    "                ont           = \"ALL\",\n",
    "                pAdjustMethod = \"BH\",\n",
    "                pvalueCutoff  = 0.01,\n",
    "                qvalueCutoff  = 0.05)\n",
    "head(ego2, 3)         "
   ]
  },
  {
   "cell_type": "code",
   "execution_count": null,
   "id": "a696e9cd",
   "metadata": {},
   "outputs": [],
   "source": [
    "options(repr.plot.width = 23, repr.plot.height = 7)\n",
    "edox2 <- pairwise_termsim(ego2)\n",
    "p1 <- treeplot(edox2)\n",
    "p2 <- treeplot(edox2, hclust_method = \"average\")\n",
    "p1 + ggtitle(\"Enriched in Dia\")"
   ]
  },
  {
   "cell_type": "code",
   "execution_count": null,
   "id": "5e6ae605",
   "metadata": {
    "scrolled": true
   },
   "outputs": [],
   "source": [
    "down_dia_t0_vs_ctrl_t0"
   ]
  },
  {
   "cell_type": "code",
   "execution_count": null,
   "id": "1486c352",
   "metadata": {},
   "outputs": [],
   "source": [
    "ego3 <- enrichGO(gene         = down_dia_t0_vs_ctrl_t0,\n",
    "                OrgDb         = org.Hs.eg.db,\n",
    "                keyType       = 'SYMBOL',\n",
    "                ont           = \"ALL\",\n",
    "                pAdjustMethod = \"BH\",\n",
    "                pvalueCutoff  = 0.01,\n",
    "                qvalueCutoff  = 0.05)\n",
    "head(ego3, 10)         "
   ]
  },
  {
   "cell_type": "code",
   "execution_count": null,
   "id": "27c3a2b3",
   "metadata": {
    "scrolled": true
   },
   "outputs": [],
   "source": [
    "options(repr.plot.width = 20, repr.plot.height = 5)\n",
    "\n",
    "edox3 <- pairwise_termsim(ego3)\n",
    "p1 <- treeplot(edox3)\n",
    "p2 <- treeplot(edox3, hclust_method = \"average\")\n",
    "p1 + ggtitle(\"Enriched in Ctrl\")"
   ]
  },
  {
   "cell_type": "markdown",
   "id": "977354f6",
   "metadata": {},
   "source": [
    "### Fold Changes in Our Dataset"
   ]
  },
  {
   "cell_type": "code",
   "execution_count": null,
   "id": "21c98eb3",
   "metadata": {},
   "outputs": [],
   "source": [
    "rm(list = ls())"
   ]
  },
  {
   "cell_type": "code",
   "execution_count": null,
   "id": "e0f3c945",
   "metadata": {},
   "outputs": [],
   "source": [
    "cd8_l3_tem  <- readRDS(\"../data/processed/L3/cd8_l3_tem.rds\")\n",
    "cd8_l3_naive  <- readRDS(\"../data/processed/L3/cd8_l3_naive.rds\")\n",
    "cd8_l3_tcm  <- readRDS(\"../data/processed/L3/cd8_l3_tcm.rds\")\n",
    "cd8_l3_temra  <- readRDS(\"../data/processed/L3/cd8_l3_temra.rds\")\n",
    "cd8_l3_prolif  <- readRDS(\"../data/processed/L3/cd8_l3_prolif.rds\")\n",
    "cd8_l2_subcluster  <- readRDS(\"../data/processed/L2/cd8_l2_subcluster.rds\")\n",
    "cd8_l2_nk  <- readRDS(\"../data/processed/L2/cd8_l2_nk.rds\")\n",
    "cd8_l2_unc  <- readRDS(\"../data/processed/L2/cd8_l2_unc.rds\")\n",
    "cd8_l1_full_filt  <- readRDS(\"../data/processed/L1/cd8_l1_full_filt.rds\")\n",
    "cd4_l3_naive  <- readRDS(\"../data/processed/L3/cd4_l3_naive.rds\")\n",
    "cd4_l3_tfh  <- readRDS(\"../data/processed/L3/cd4_l3_tfh.rds\")\n",
    "cd4_l3_th1th17  <- readRDS(\"../data/processed/L3/cd4_l3_th1_17.rds\")\n",
    "cd4_l3_nfkb  <- readRDS(\"../data/processed/L3/cd4_l3_nfkb.rds\")\n",
    "cd4_l3_th2  <- readRDS(\"../data/processed/L3/cd4_l3_th2.rds\")\n",
    "cd4_l3_treg  <- readRDS(\"../data/processed/L3/cd4_l3_treg.rds\")\n",
    "cd4_l3_isaghi  <- readRDS(\"../data/processed/L3/cd4_l3_isaghi.rds\")\n",
    "cd4_l3_proliferating  <- readRDS(\"../data/processed/L3/cd4_l3_proliferating.rds\")\n",
    "cd4_l3_temra  <- readRDS(\"../data/processed/L3/cd4_l3_temra.rds\")\n",
    "cd4_l2_unc  <- readRDS(\"../data/processed/L2/cd4_l2_unc.rds\")"
   ]
  },
  {
   "cell_type": "code",
   "execution_count": null,
   "id": "eef867e4",
   "metadata": {},
   "outputs": [],
   "source": [
    "cd4_l2_subcluster  <- readRDS(\"../data/processed/L2/cd4_subcluster.rds\")"
   ]
  },
  {
   "cell_type": "code",
   "execution_count": null,
   "id": "36a14041",
   "metadata": {},
   "outputs": [],
   "source": [
    "cd4_l1_full_filt  <- readRDS(\"../data/processed/L1/cd4_l1_full_filt.rds\")\n",
    "cd8_l2_subcluster  <- readRDS(\"../data/processed/L2/cd8_l2_subcluster.rds\")"
   ]
  },
  {
   "cell_type": "code",
   "execution_count": null,
   "id": "142dcdc0",
   "metadata": {},
   "outputs": [],
   "source": [
    "dataset_list  <- list(cd8_l3_tem, cd8_l3_naive, cd8_l3_tcm, cd8_l3_temra, cd8_l3_prolif, \n",
    "                    cd8_l2_nk, cd8_l2_unc, cd8_l1_full_filt,\n",
    "                     cd4_l3_naive, cd4_l3_tfh, cd4_l3_th1th17, cd4_l3_nfkb, cd4_l3_th2,\n",
    "                     cd4_l3_treg, cd4_l3_isaghi, cd4_l3_proliferating, cd4_l3_temra,\n",
    "                     cd4_l2_unc, cd4_l2_subcluster, cd4_l1_full_filt, cd8_l2_subcluster)\n",
    "\n",
    "names(dataset_list) <- c(\"cd8_l3_tem\", \"cd8_l3_naive\", \"cd8_l3_tcm\", \"cd8_l3_temra\", \"cd8_l3_prolif\",\n",
    "                       \"cd8_l2_nk\", \"cd8_l2_unc\", \"cd8_l1_full_filt\",\n",
    "                        \"cd4_l3_naive\", \"cd4_l3_tfh\", \"cd4_l3_th1th17\", \"cd4_l3_nfkb\", \"cd4_l3_th2\",\n",
    "                     \"cd4_l3_treg\", \"cd4_l3_isaghi\", \"cd4_l3_proliferating\", \"cd4_l3_temra\",\n",
    "                     \"cd4_l2_unc\", \"cd4_l2_subcluster\", \"cd4_l1_full_filt\", \"cd8_l2_subcluster\")"
   ]
  },
  {
   "cell_type": "code",
   "execution_count": null,
   "id": "6313f641",
   "metadata": {},
   "outputs": [],
   "source": [
    "options(future.globals.maxSize = 2000 * 1024^2)"
   ]
  },
  {
   "cell_type": "code",
   "execution_count": null,
   "id": "66ef0e93",
   "metadata": {},
   "outputs": [],
   "source": [
    "dir.create(\"../tables/fold_change/\")"
   ]
  },
  {
   "cell_type": "code",
   "execution_count": null,
   "id": "5e813383",
   "metadata": {
    "scrolled": true
   },
   "outputs": [],
   "source": [
    "#plan(\"multisession\", workers = 4)\n",
    "\n",
    "for(i in 1:length(dataset_list)){\n",
    "\n",
    "seurat_object  <- dataset_list[[i]]\n",
    "DefaultAssay(seurat_object)  <- \"RNA\"\n",
    "Idents(seurat_object)  <- seurat_object$Disease\n",
    "\n",
    "fc.seurat_object <- FindAllMarkers(seurat_object, \n",
    "                          test.use = \"wilcox\", \n",
    "                          logfc.threshold = -Inf, min.pct = -Inf, min.diff.pct = -Inf,\n",
    "                                   only.pos = F,  \n",
    "                                   min.cells.feature = 1, return.thresh = 1)\n",
    "\n",
    "write.csv(fc.seurat_object, paste0(\"../tables/fold_change/\", names(dataset_list)[i], \".csv\"))\n",
    "}"
   ]
  },
  {
   "cell_type": "code",
   "execution_count": null,
   "id": "239d5c0b",
   "metadata": {},
   "outputs": [],
   "source": [
    "cd8_l2_subcluster$Condition2  %>% table"
   ]
  },
  {
   "cell_type": "code",
   "execution_count": null,
   "id": "9518a581",
   "metadata": {},
   "outputs": [],
   "source": [
    "#plan(\"multisession\", workers = 8)\n",
    "\n",
    "for(i in 1:length(dataset_list)){\n",
    "###### Ctrl T0 vs Dia T0\n",
    "seurat_object  <- subset(dataset_list[[i]], Condition %in% c(\"Ctrl T0\", \"Dia T0\"))\n",
    "DefaultAssay(seurat_object)  <- \"RNA\"\n",
    "Idents(seurat_object)  <- seurat_object$Condition\n",
    "\n",
    "fc.seurat_object <- FindAllMarkers(seurat_object, \n",
    "                          test.use = \"wilcox\", \n",
    "                          logfc.threshold = -Inf, min.pct = -Inf, min.diff.pct = -Inf,\n",
    "                                   only.pos = F,  \n",
    "                                   min.cells.feature = 1, return.thresh = 1)\n",
    "\n",
    "write.csv(fc.seurat_object, paste0(\"../tables/fold_change/\", names(dataset_list)[i], \"_Ctrl_vs_DiaT0.csv\"))\n",
    "    \n",
    "####### Ctrl T0 vs Dia T1\n",
    "seurat_object  <- subset(dataset_list[[i]], Condition %in% c(\"Ctrl T0\", \"Dia T1\"))\n",
    "DefaultAssay(seurat_object)  <- \"RNA\"\n",
    "Idents(seurat_object)  <- seurat_object$Condition\n",
    "\n",
    "fc.seurat_object <- FindAllMarkers(seurat_object, \n",
    "                          test.use = \"wilcox\", \n",
    "                          logfc.threshold = -Inf, min.pct = -Inf, min.diff.pct = -Inf,\n",
    "                                   only.pos = F,  \n",
    "                                   min.cells.feature = 1, return.thresh = 1)\n",
    "\n",
    "write.csv(fc.seurat_object, paste0(\"../tables/fold_change/\", names(dataset_list)[i], \"_Ctrl_vs_DiaT1.csv\"))\n",
    "    \n",
    "    ####### Dia T0 vs Dia T1\n",
    "seurat_object  <- subset(dataset_list[[i]], Condition %in% c(\"Dia T0\", \"Dia T1\"))\n",
    "DefaultAssay(seurat_object)  <- \"RNA\"\n",
    "Idents(seurat_object)  <- seurat_object$Condition\n",
    "\n",
    "fc.seurat_object <- FindAllMarkers(seurat_object, \n",
    "                          test.use = \"wilcox\", \n",
    "                          logfc.threshold = -Inf, min.pct = -Inf, min.diff.pct = -Inf,\n",
    "                                   only.pos = F,  \n",
    "                                   min.cells.feature = 1, return.thresh = 1)\n",
    "\n",
    "write.csv(fc.seurat_object, paste0(\"../tables/fold_change/\", names(dataset_list)[i], \"_DiaT0_vs_DiaT1.csv\"))\n",
    "    \n",
    "    ####### Part remission\n",
    "seurat_object  <- subset(dataset_list[[i]], Condition2 %in% c(\"Part_remission_0\", \"Part_remission_1\"))\n",
    "DefaultAssay(seurat_object)  <- \"RNA\"\n",
    "Idents(seurat_object)  <- seurat_object$Condition2\n",
    "\n",
    "fc.seurat_object <- FindAllMarkers(seurat_object, \n",
    "                          test.use = \"wilcox\", \n",
    "                          logfc.threshold = -Inf, min.pct = -Inf, min.diff.pct = -Inf,\n",
    "                                   only.pos = F,  \n",
    "                                   min.cells.feature = 1, return.thresh = 1)\n",
    "\n",
    "write.csv(fc.seurat_object, paste0(\"../tables/fold_change/\", names(dataset_list)[i], \"_remission.csv\"))\n",
    "}"
   ]
  },
  {
   "cell_type": "code",
   "execution_count": null,
   "id": "0a0c64f7",
   "metadata": {},
   "outputs": [],
   "source": [
    "md_for_remission  <- cd4_l1_full_filt@meta.data  %>% \n",
    "dplyr::filter(Condition %in% c(\"Dia T0\"))  %>% \n",
    "group_by(Patient_ID, part_remission_y_n)  %>% \n",
    "tally %>% mutate(Condition2 = paste0(\"PR_\",part_remission_y_n))  %>% \n",
    "dplyr::select(-n, -part_remission_y_n)\n",
    "\n",
    "for( i in 1:length(dataset_list)) {\n",
    "    \n",
    "    dataset_list[[i]]$Condition2  <- NULL\n",
    "    dataset_list[[i]]@meta.data  <- dataset_list[[i]]@meta.data  %>% \n",
    "    left_join(md_for_remission)  %>% mutate(Condition2 = paste(Condition2, Time))  %>% \n",
    "    mutate(Condition2 = ifelse(grepl(Condition2, pattern = \"NA\"), NA_character_,Condition2))\n",
    "    \n",
    "    print(dataset_list[[i]]$Condition2  %>% table)\n",
    "    rownames(dataset_list[[i]]@meta.data)  <- colnames(dataset_list[[i]])\n",
    "}"
   ]
  },
  {
   "cell_type": "code",
   "execution_count": null,
   "id": "56e84e28",
   "metadata": {},
   "outputs": [],
   "source": [
    "md_for_ketoacidosis  <- cd4_l1_full_filt@meta.data  %>% \n",
    "dplyr::filter(Condition %in% c(\"Dia T0\"))  %>% \n",
    "group_by(Patient_ID, ph_man)  %>% \n",
    "tally %>% mutate(Ketoacidosis = ifelse(ph_man<7.3,\"Keto_1\",\"Keto_0\"))  %>% \n",
    "dplyr::select(-ph_man, -n)\n",
    "\n",
    "for( i in 1:length(dataset_list)) {\n",
    "    \n",
    "    #dataset_list[[i]]$Ketoacidosis  <- NULL\n",
    "    dataset_list[[i]]@meta.data  <- dataset_list[[i]]@meta.data  %>% \n",
    "    left_join(md_for_ketoacidosis)   %>% mutate(Keto_Time = paste(Ketoacidosis, Time))  %>% \n",
    "    mutate(Keto_Time = ifelse(grepl(Keto_Time, pattern = \"NA\"), NA_character_,Keto_Time))\n",
    "    \n",
    "    print(dataset_list[[i]]$Ketoacidosis  %>% table)\n",
    "    rownames(dataset_list[[i]]@meta.data)  <- colnames(dataset_list[[i]])\n",
    "}"
   ]
  },
  {
   "cell_type": "code",
   "execution_count": null,
   "id": "354a0db9",
   "metadata": {},
   "outputs": [],
   "source": [
    "plan(\"multisession\", workers = 4)\n",
    "\n",
    "for(i in 1:length(dataset_list)){\n",
    "###### Keto_Time\n",
    "seurat_object  <- subset(dataset_list[[i]], Keto_Time %in% c(\"Keto_1 T0\", \"Keto_0 T0\"))\n",
    "DefaultAssay(seurat_object)  <- \"RNA\"\n",
    "Idents(seurat_object)  <- seurat_object$Keto_Time\n",
    "\n",
    "fc.seurat_object <- FindAllMarkers(seurat_object, \n",
    "                          test.use = \"wilcox\", \n",
    "                          logfc.threshold = -Inf, min.pct = -Inf, min.diff.pct = -Inf,\n",
    "                                   only.pos = F,  \n",
    "                                   min.cells.feature = 1, return.thresh = 1)\n",
    "\n",
    "write.csv(fc.seurat_object, paste0(\"../tables/fold_change/\", names(dataset_list)[i], \"_ketoacidosis.csv\"))\n",
    "    \n",
    "####### PR0 T0 vs PR0 T1\n",
    "seurat_object  <- subset(dataset_list[[i]], Condition2 %in% c(\"PR_0 T0\", \"PR_0 T1\"))\n",
    "DefaultAssay(seurat_object)  <- \"RNA\"\n",
    "Idents(seurat_object)  <- seurat_object$Condition2\n",
    "\n",
    "fc.seurat_object <- FindAllMarkers(seurat_object, \n",
    "                          test.use = \"wilcox\", \n",
    "                          logfc.threshold = -Inf, min.pct = -Inf, min.diff.pct = -Inf,\n",
    "                                   only.pos = F,  \n",
    "                                   min.cells.feature = 1, return.thresh = 1)\n",
    "\n",
    "write.csv(fc.seurat_object, paste0(\"../tables/fold_change/\", names(dataset_list)[i], \"_PR_0_T0_vs_PR_0_T1.csv\"))\n",
    "    \n",
    "####### PR1 T0 vs PR1 T1\n",
    "seurat_object  <- subset(dataset_list[[i]], Condition2 %in% c(\"PR_1 T0\", \"PR_1 T1\"))\n",
    "DefaultAssay(seurat_object)  <- \"RNA\"\n",
    "Idents(seurat_object)  <- seurat_object$Condition2\n",
    "\n",
    "fc.seurat_object <- FindAllMarkers(seurat_object, \n",
    "                          test.use = \"wilcox\", \n",
    "                          logfc.threshold = -Inf, min.pct = -Inf, min.diff.pct = -Inf,\n",
    "                                   only.pos = F,  \n",
    "                                   min.cells.feature = 1, return.thresh = 1)\n",
    "\n",
    "write.csv(fc.seurat_object, paste0(\"../tables/fold_change/\", names(dataset_list)[i], \"_PR_1_T0_vs_PR_1_T1.csv\"))\n",
    "    \n",
    "####### PR0 T0 vs PR1 T0\n",
    "seurat_object  <- subset(dataset_list[[i]], Condition2 %in% c(\"PR_0 T0\", \"PR_1 T0\"))\n",
    "DefaultAssay(seurat_object)  <- \"RNA\"\n",
    "Idents(seurat_object)  <- seurat_object$Condition2\n",
    "\n",
    "fc.seurat_object <- FindAllMarkers(seurat_object, \n",
    "                          test.use = \"wilcox\", \n",
    "                          logfc.threshold = -Inf, min.pct = -Inf, min.diff.pct = -Inf,\n",
    "                                   only.pos = F,  \n",
    "                                   min.cells.feature = 1, return.thresh = 1)\n",
    "\n",
    "write.csv(fc.seurat_object, paste0(\"../tables/fold_change/\", names(dataset_list)[i], \"_PR_0_T0_vs_PR_1_T0.csv\"))\n",
    "    \n",
    "    ####### PR0 T1 vs PR1 T1\n",
    "seurat_object  <- subset(dataset_list[[i]], Condition2 %in% c(\"PR_0 T1\", \"PR_1 T1\"))\n",
    "DefaultAssay(seurat_object)  <- \"RNA\"\n",
    "Idents(seurat_object)  <- seurat_object$Condition2\n",
    "\n",
    "fc.seurat_object <- FindAllMarkers(seurat_object, \n",
    "                          test.use = \"wilcox\", \n",
    "                          logfc.threshold = -Inf, min.pct = -Inf, min.diff.pct = -Inf,\n",
    "                                   only.pos = F,  \n",
    "                                   min.cells.feature = 1, return.thresh = 1)\n",
    "\n",
    "write.csv(fc.seurat_object, paste0(\"../tables/fold_change/\", names(dataset_list)[i], \"_PR_0_T1_vs_PR_1_T1.csv\"))\n",
    "    }"
   ]
  },
  {
   "cell_type": "markdown",
   "id": "2bd25e41",
   "metadata": {},
   "source": [
    "## FoldChanges DESeq"
   ]
  },
  {
   "cell_type": "code",
   "execution_count": null,
   "id": "11d87c5f",
   "metadata": {},
   "outputs": [],
   "source": [
    "dir.create(\"../tables/fold_change_deseq/\")"
   ]
  },
  {
   "cell_type": "code",
   "execution_count": null,
   "id": "7bfb97b1",
   "metadata": {},
   "outputs": [],
   "source": [
    "dataset_list"
   ]
  },
  {
   "cell_type": "code",
   "execution_count": null,
   "id": "72a0d591",
   "metadata": {},
   "outputs": [],
   "source": [
    "seu  <- dataset_list[[1]]"
   ]
  },
  {
   "cell_type": "code",
   "execution_count": null,
   "id": "c40ff4c0",
   "metadata": {},
   "outputs": [],
   "source": [
    "seu$Sample_ID  <- paste0(\"Id\",seu$Sample_ID)"
   ]
  },
  {
   "cell_type": "code",
   "execution_count": null,
   "id": "75954963",
   "metadata": {},
   "outputs": [],
   "source": [
    "seu$Sample_ID  %>% table"
   ]
  },
  {
   "cell_type": "code",
   "execution_count": null,
   "id": "bcbc556f",
   "metadata": {},
   "outputs": [],
   "source": [
    "avgexp = AggregateExpression(seu,\n",
    "                           return.seurat = T, group.by = \"Sample_ID\", \n",
    "                          assay = \"RNA\", slot = \"counts\")"
   ]
  },
  {
   "cell_type": "code",
   "execution_count": null,
   "id": "9eccaccd",
   "metadata": {},
   "outputs": [],
   "source": [
    "colnames(avgexp)"
   ]
  },
  {
   "cell_type": "code",
   "execution_count": null,
   "id": "443a19b8",
   "metadata": {},
   "outputs": [],
   "source": [
    "patient_metadata2  <- dataset_list[[i]]@meta.data  %>% \n",
    "    dplyr::select(Sample_ID, Patient_ID, Condition, Disease, Time, Experiment_ID)  %>% \n",
    "    unique  %>% ungroup"
   ]
  },
  {
   "cell_type": "code",
   "execution_count": null,
   "id": "5d1aa633",
   "metadata": {},
   "outputs": [],
   "source": [
    "patient_metadata2$Sample_ID  <- paste0(\"Id\",patient_metadata2$Sample_ID)"
   ]
  },
  {
   "cell_type": "code",
   "execution_count": null,
   "id": "1a27456d",
   "metadata": {},
   "outputs": [],
   "source": [
    "patient_metadata2$Sample_ID  %>% table"
   ]
  },
  {
   "cell_type": "code",
   "execution_count": null,
   "id": "a0cddf0b",
   "metadata": {},
   "outputs": [],
   "source": [
    "colnames(avgexp)"
   ]
  },
  {
   "cell_type": "code",
   "execution_count": null,
   "id": "7ec37661",
   "metadata": {},
   "outputs": [],
   "source": [
    "avgexp$Sample_ID"
   ]
  },
  {
   "cell_type": "code",
   "execution_count": null,
   "id": "d8399eb2",
   "metadata": {},
   "outputs": [],
   "source": [
    "    avgexp@meta.data  <- avgexp@meta.data   %>% left_join(patient_metadata2)\n",
    "    rownames(avgexp@meta.data)  <- avgexp$Sample_ID\n",
    "    "
   ]
  },
  {
   "cell_type": "code",
   "execution_count": null,
   "id": "254685fd",
   "metadata": {
    "scrolled": true
   },
   "outputs": [],
   "source": [
    "avgexp@meta.data"
   ]
  },
  {
   "cell_type": "code",
   "execution_count": null,
   "id": "827f292d",
   "metadata": {},
   "outputs": [],
   "source": [
    "rownames(avgexp@meta.data)"
   ]
  },
  {
   "cell_type": "code",
   "execution_count": null,
   "id": "de998b01",
   "metadata": {},
   "outputs": [],
   "source": [
    "colnames(avgexp)"
   ]
  },
  {
   "cell_type": "code",
   "execution_count": null,
   "id": "9aad9672",
   "metadata": {},
   "outputs": [],
   "source": [
    "seurat_object  <- subset(avgexp, Condition %in% c(\"Ctrl T0\", \"Dia T0\") & \n",
    "                  Experiment_ID %in% c(\"Exp16\", \"Exp18\", \"Exp19\", \"Exp20\"))\n",
    "DefaultAssay(seurat_object)  <- \"RNA\""
   ]
  },
  {
   "cell_type": "code",
   "execution_count": null,
   "id": "21fccaa5",
   "metadata": {},
   "outputs": [],
   "source": [
    "#plan(\"multisession\", workers = 8)\n",
    "\n",
    "for(i in 1:length(dataset_list)){\n",
    "    \n",
    "    ## DESeq2\n",
    "    seu  <- dataset_list[[i]]\n",
    "    patient_metadata2  <- dataset_list[[i]]@meta.data  %>% \n",
    "    dplyr::select(Sample_ID, Patient_ID, Condition, Disease, Time, Experiment_ID)  %>% \n",
    "    unique  %>% ungroup\n",
    "    patient_metadata2$Sample_ID  <- paste0(\"Id\",patient_metadata2$Sample_ID)\n",
    "    seu$Sample_ID  <- paste0(\"Id\",seu$Sample_ID)\n",
    "    avgexp = AggregateExpression(seu,\n",
    "                           return.seurat = T, group.by = \"Sample_ID\", \n",
    "                          assay = \"RNA\", slot = \"counts\")\n",
    "    \n",
    "    avgexp@meta.data  <- avgexp@meta.data   %>% left_join(patient_metadata2)\n",
    "    rownames(avgexp@meta.data)  <- avgexp$Sample_ID\n",
    "    \n",
    "    \n",
    "###### Ctrl T0 vs Dia T0\n",
    "seurat_object  <- subset(avgexp, Condition %in% c(\"Ctrl T0\", \"Dia T0\") & \n",
    "                  Experiment_ID %in% c(\"Exp16\", \"Exp18\", \"Exp19\", \"Exp20\"))\n",
    "DefaultAssay(seurat_object)  <- \"RNA\"\n",
    "\n",
    "    \n",
    "    Idents(seurat_object)  <- seurat_object$Condition\n",
    "\n",
    "fc.seurat_object <- FindAllMarkers(seurat_object, \n",
    "                          test.use = \"DESeq2\", \n",
    "                          logfc.threshold = -Inf, min.pct = -Inf, min.diff.pct = -Inf,\n",
    "                                   only.pos = F,  \n",
    "                                   min.cells.feature = 1, return.thresh = 1)\n",
    "\n",
    "write.csv(fc.seurat_object, paste0(\"../tables/fold_change_deseq/\", names(dataset_list)[i], \"_Ctrl_vs_DiaT0.csv\"))\n",
    "    \n",
    "####### Ctrl T0 vs Dia T1\n",
    "seurat_object  <- subset(avgexp, Condition %in% c(\"Ctrl T0\", \"Dia T1\") & \n",
    "                  Experiment_ID %in% c(\"Exp16\", \"Exp18\", \"Exp19\", \"Exp20\"))\n",
    "DefaultAssay(seurat_object)  <- \"RNA\"\n",
    "Idents(seurat_object)  <- seurat_object$Condition\n",
    "\n",
    "fc.seurat_object <- FindAllMarkers(seurat_object, \n",
    "                          test.use = \"DESeq2\", \n",
    "                          logfc.threshold = -Inf, min.pct = -Inf, min.diff.pct = -Inf,\n",
    "                                   only.pos = F,  \n",
    "                                   min.cells.feature = 1, return.thresh = 1)\n",
    "\n",
    "write.csv(fc.seurat_object, paste0(\"../tables/fold_change_deseq/\", names(dataset_list)[i], \"_Ctrl_vs_DiaT1.csv\"))\n",
    "    \n",
    "    ####### Dia T0 vs Dia T1\n",
    "seurat_object  <- subset(avgexp, Condition %in% c(\"Dia T0\", \"Dia T1\") & \n",
    "                  Experiment_ID %in% c(\"Exp16\", \"Exp18\", \"Exp19\", \"Exp20\"))\n",
    "DefaultAssay(seurat_object)  <- \"RNA\"\n",
    "Idents(seurat_object)  <- seurat_object$Condition\n",
    "\n",
    "fc.seurat_object <- FindAllMarkers(seurat_object, \n",
    "                          test.use = \"DESeq2\", \n",
    "                          logfc.threshold = -Inf, min.pct = -Inf, min.diff.pct = -Inf,\n",
    "                                   only.pos = F,  \n",
    "                                   min.cells.feature = 1, return.thresh = 1)\n",
    "\n",
    "write.csv(fc.seurat_object, paste0(\"../tables/fold_change_deseq/\", names(dataset_list)[i], \"_DiaT0_vs_DiaT1.csv\"))\n",
    " \n",
    "}"
   ]
  },
  {
   "cell_type": "code",
   "execution_count": null,
   "id": "23b6dde7",
   "metadata": {},
   "outputs": [],
   "source": [
    "md_for_remission  <- cd4_l1_full_filt@meta.data  %>% \n",
    "dplyr::filter(Condition %in% c(\"Dia T0\"))  %>% \n",
    "group_by(Patient_ID, part_remission_y_n)  %>% \n",
    "tally %>% mutate(Condition2 = paste0(\"PR_\",part_remission_y_n))  %>% \n",
    "dplyr::select(-n, -part_remission_y_n)\n",
    "\n",
    "for( i in 1:length(dataset_list)) {\n",
    "    \n",
    "    dataset_list[[i]]$Condition2  <- NULL\n",
    "    dataset_list[[i]]@meta.data  <- dataset_list[[i]]@meta.data  %>% \n",
    "    left_join(md_for_remission)  %>% mutate(Condition2 = paste(Condition2, Time))  %>% \n",
    "    mutate(Condition2 = ifelse(grepl(Condition2, pattern = \"NA\"), NA_character_,Condition2))\n",
    "    \n",
    "    print(dataset_list[[i]]$Condition2  %>% table)\n",
    "    rownames(dataset_list[[i]]@meta.data)  <- colnames(dataset_list[[i]])\n",
    "}"
   ]
  },
  {
   "cell_type": "code",
   "execution_count": null,
   "id": "fc216a97",
   "metadata": {
    "scrolled": true
   },
   "outputs": [],
   "source": [
    "md_for_ketoacidosis  <- cd4_l1_full_filt@meta.data  %>% \n",
    "dplyr::filter(Condition %in% c(\"Dia T0\"))  %>% \n",
    "group_by(Patient_ID, ph_man)  %>% \n",
    "tally %>% mutate(Ketoacidosis = ifelse(ph_man<7.3,\"Keto_1\",\"Keto_0\"))  %>% \n",
    "dplyr::select(-ph_man, -n)\n",
    "\n",
    "for( i in 1:length(dataset_list)) {\n",
    "    \n",
    "    #dataset_list[[i]]$Ketoacidosis  <- NULL\n",
    "    dataset_list[[i]]@meta.data  <- dataset_list[[i]]@meta.data  %>% \n",
    "    left_join(md_for_ketoacidosis)   %>% mutate(Keto_Time = paste(Ketoacidosis, Time))  %>% \n",
    "    mutate(Keto_Time = ifelse(grepl(Keto_Time, pattern = \"NA\"), NA_character_,Keto_Time))\n",
    "    \n",
    "    print(dataset_list[[i]]$Ketoacidosis  %>% table)\n",
    "    rownames(dataset_list[[i]]@meta.data)  <- colnames(dataset_list[[i]])\n",
    "}"
   ]
  },
  {
   "cell_type": "code",
   "execution_count": null,
   "id": "56c58c37",
   "metadata": {},
   "outputs": [],
   "source": [
    "plan(\"multisession\", workers = 4)\n",
    "\n",
    "for(i in 1:length(dataset_list)){\n",
    "    \n",
    "       ## DESeq2\n",
    "    seu  <- dataset_list[[i]]\n",
    "    patient_metadata2  <- seu@meta.data  %>% \n",
    "    dplyr::select(Sample_ID, Patient_ID, Condition, Disease, Time, Experiment_ID, Keto_Time, Condition2)  %>% \n",
    "    unique  %>% ungroup\n",
    "    patient_metadata2$Sample_ID  <- paste0(\"Id\",patient_metadata2$Sample_ID)\n",
    "    seu$Sample_ID  <- paste0(\"Id\",seu$Sample_ID)\n",
    "    avgexp = AggregateExpression(seu,\n",
    "                           return.seurat = T, group.by = \"Sample_ID\", \n",
    "                          assay = \"RNA\", slot = \"counts\")\n",
    "    \n",
    "    avgexp@meta.data  <- avgexp@meta.data   %>% left_join(patient_metadata2)\n",
    "    rownames(avgexp@meta.data)  <- avgexp$Sample_ID\n",
    "    \n",
    "###### Keto_Time\n",
    "seurat_object  <- subset(avgexp, Keto_Time %in% c(\"Keto_1 T0\", \"Keto_0 T0\") & \n",
    "                  Experiment_ID %in% c(\"Exp16\", \"Exp18\", \"Exp19\", \"Exp20\"))\n",
    "DefaultAssay(seurat_object)  <- \"RNA\"\n",
    "Idents(seurat_object)  <- seurat_object$Keto_Time\n",
    "\n",
    "fc.seurat_object <- FindAllMarkers(seurat_object, \n",
    "                          test.use = \"DESeq2\", \n",
    "                          logfc.threshold = -Inf, min.pct = -Inf, min.diff.pct = -Inf,\n",
    "                                   only.pos = F,  \n",
    "                                   min.cells.feature = 1, return.thresh = 1)\n",
    "\n",
    "write.csv(fc.seurat_object, paste0(\"../tables/fold_change_deseq/\", names(dataset_list)[i], \"_ketoacidosis.csv\"))\n",
    " \n",
    "####### PR0 T0 vs PR1 T0\n",
    "seurat_object  <- subset(avgexp, Condition2 %in% c(\"PR_0 T0\", \"PR_1 T0\") & \n",
    "                  Experiment_ID %in% c(\"Exp16\", \"Exp18\", \"Exp19\", \"Exp20\"))\n",
    "DefaultAssay(seurat_object)  <- \"RNA\"\n",
    "Idents(seurat_object)  <- seurat_object$Condition2\n",
    "\n",
    "fc.seurat_object <- FindAllMarkers(seurat_object, \n",
    "                          test.use = \"DESeq2\", \n",
    "                          logfc.threshold = -Inf, min.pct = -Inf, min.diff.pct = -Inf,\n",
    "                                   only.pos = F,  \n",
    "                                   min.cells.feature = 1, return.thresh = 1)\n",
    "\n",
    "write.csv(fc.seurat_object, paste0(\"../tables/fold_change_deseq/\", names(dataset_list)[i], \"_PR_0_T0_vs_PR_1_T0.csv\"))\n",
    "    \n",
    "    }"
   ]
  },
  {
   "cell_type": "code",
   "execution_count": null,
   "id": "323e1146",
   "metadata": {},
   "outputs": [],
   "source": [
    "list.files(\"../tables/fold_change_deseq/\")"
   ]
  },
  {
   "cell_type": "code",
   "execution_count": null,
   "id": "b5bb92c1",
   "metadata": {},
   "outputs": [],
   "source": []
  },
  {
   "cell_type": "markdown",
   "id": "b3c46780",
   "metadata": {},
   "source": [
    "## All categories up and down"
   ]
  },
  {
   "cell_type": "code",
   "execution_count": null,
   "id": "3950999a",
   "metadata": {},
   "outputs": [],
   "source": [
    "pathways = msigdbr_collections()  %>% group_by(gs_cat)  %>% tally()  %>% pull(gs_cat)"
   ]
  },
  {
   "cell_type": "code",
   "execution_count": null,
   "id": "f41a9bca",
   "metadata": {},
   "outputs": [],
   "source": [
    "t2g <- msigdbr(species = \"Homo sapiens\", category = \"C7\") %>% \n",
    "          dplyr::select(gs_name, human_gene_symbol)"
   ]
  },
  {
   "cell_type": "code",
   "execution_count": null,
   "id": "117ddd3f",
   "metadata": {},
   "outputs": [],
   "source": []
  },
  {
   "cell_type": "code",
   "execution_count": null,
   "id": "153c3738",
   "metadata": {},
   "outputs": [],
   "source": [
    "get_pathway_df  <- function(pathway){\n",
    "    t2g <- msigdbr(species = \"Homo sapiens\", category = pathway) %>% \n",
    "          dplyr::select(gs_name, human_gene_symbol)\n",
    "    \n",
    "    \n",
    "    \n",
    "    em2 <- GSEA(global_down_values, TERM2GENE = t2g)\n",
    "    df_down  <- as.data.frame(em2)\n",
    "                \n",
    "    if(nrow(df_up)>0&nrow(df_down)>0){\n",
    "        df_down$direction  <- \"Down\"\n",
    "        df_up$direction  <- \"Up\"\n",
    "        df_all  <- rbind(df_down, df_up)\n",
    "        df_all$gs_cat  <- pathway\n",
    "        \n",
    "    } else {\n",
    "        if(nrow(df_up)>0){\n",
    "            df_up$direction  <- \"Up\"\n",
    "            df_all  <- df_up\n",
    "            df_all$gs_cat  <- pathway\n",
    "    \n",
    "    } else {\n",
    "        if(nrow(df_down)>0){\n",
    "            df_down$direction  <- \"Down\"\n",
    "            df_all  <- df_down \n",
    "            df_all$gs_cat  <- pathway\n",
    "    \n",
    "    } else {\n",
    "            df_all  <- NULL \n",
    "        } }}\n",
    "    return(df_all)\n",
    "}"
   ]
  },
  {
   "cell_type": "code",
   "execution_count": null,
   "id": "36404c0e",
   "metadata": {
    "scrolled": true
   },
   "outputs": [],
   "source": [
    "all_pathways  <- map(.x = pathways, .f = get_pathway_df)"
   ]
  },
  {
   "cell_type": "code",
   "execution_count": null,
   "id": "e00514d8",
   "metadata": {
    "scrolled": true
   },
   "outputs": [],
   "source": [
    "all_pathways2  <- bind_rows(all_pathways)"
   ]
  },
  {
   "cell_type": "code",
   "execution_count": null,
   "id": "1e2af91c",
   "metadata": {},
   "outputs": [],
   "source": []
  },
  {
   "cell_type": "code",
   "execution_count": null,
   "id": "a0492a56",
   "metadata": {},
   "outputs": [],
   "source": []
  },
  {
   "cell_type": "code",
   "execution_count": null,
   "id": "7bbda4f0",
   "metadata": {
    "scrolled": true
   },
   "outputs": [],
   "source": [
    "all_pathways  <- map(.x = pathways, .f = get_pathway_df)"
   ]
  },
  {
   "cell_type": "code",
   "execution_count": null,
   "id": "f6d27781",
   "metadata": {
    "scrolled": true
   },
   "outputs": [],
   "source": [
    "all_pathways2  <- bind_rows(all_pathways)"
   ]
  },
  {
   "cell_type": "code",
   "execution_count": null,
   "id": "b5abd640",
   "metadata": {},
   "outputs": [],
   "source": [
    "all_pathways2$core_enrichment   %>% nchar  %>% table"
   ]
  },
  {
   "cell_type": "code",
   "execution_count": null,
   "id": "1c24a733",
   "metadata": {},
   "outputs": [],
   "source": [
    "711/4"
   ]
  },
  {
   "cell_type": "code",
   "execution_count": null,
   "id": "1b15867e",
   "metadata": {},
   "outputs": [],
   "source": [
    "dir.create(\"../tables/pathways/\")"
   ]
  },
  {
   "cell_type": "code",
   "execution_count": null,
   "id": "e1c251b4",
   "metadata": {},
   "outputs": [],
   "source": [
    "write.csv(all_pathways2, \"../tables/pathways/gsea_global.csv\")"
   ]
  },
  {
   "cell_type": "code",
   "execution_count": null,
   "id": "d8355bd0",
   "metadata": {},
   "outputs": [],
   "source": []
  },
  {
   "cell_type": "code",
   "execution_count": null,
   "id": "d741c497",
   "metadata": {},
   "outputs": [],
   "source": [
    "enriched_genes  <- all_pathways2  %>% \n",
    "dplyr::select(core_enrichment)  %>% \n",
    "separate(core_enrichment, sep = \"/\",\n",
    "        into = paste0(\"v\",1:138))\n",
    "\n"
   ]
  },
  {
   "cell_type": "code",
   "execution_count": null,
   "id": "6ff1860c",
   "metadata": {
    "scrolled": true
   },
   "outputs": [],
   "source": [
    "enriched_genes"
   ]
  },
  {
   "cell_type": "code",
   "execution_count": null,
   "id": "651b30aa",
   "metadata": {
    "scrolled": true
   },
   "outputs": [],
   "source": [
    "geneIDs2  <- geneIDs1  %>% group_by(entrezid)  %>% slice_head(n = 1)"
   ]
  },
  {
   "cell_type": "code",
   "execution_count": null,
   "id": "9895f015",
   "metadata": {},
   "outputs": [],
   "source": [
    "geneIDs2  <- geneIDs2  %>% filter(!is.na(entrezid))"
   ]
  },
  {
   "cell_type": "code",
   "execution_count": null,
   "id": "bc89cdc2",
   "metadata": {},
   "outputs": [],
   "source": [
    "df_enriched_genes  <- enriched_genes"
   ]
  },
  {
   "cell_type": "code",
   "execution_count": null,
   "id": "c4c5a6a0",
   "metadata": {
    "scrolled": true
   },
   "outputs": [],
   "source": [
    "for(i in 1:138){\n",
    "    df1  <- dplyr::select(df_enriched_genes, i)\n",
    "    colnames(df1)  <- \"entrezid\"\n",
    "    df1$entrezid  <- as.integer(df1$entrezid)\n",
    "    df2  <- left_join(df1, geneIDs2)\n",
    "    df_enriched_genes[[paste0(\"v\",i)]]  <- df2$gene\n",
    "}"
   ]
  },
  {
   "cell_type": "code",
   "execution_count": null,
   "id": "b8d072fd",
   "metadata": {},
   "outputs": [],
   "source": [
    "df_enriched_genes"
   ]
  },
  {
   "cell_type": "code",
   "execution_count": null,
   "id": "7af63ef4",
   "metadata": {},
   "outputs": [],
   "source": [
    "df_enriched_genes$genes  <- \"\""
   ]
  },
  {
   "cell_type": "code",
   "execution_count": null,
   "id": "10eccec5",
   "metadata": {},
   "outputs": [],
   "source": [
    "for(i in 1:411){\n",
    "   df_enriched_genes[i, 139]  <-  gsub(pattern =  \" / NA\",\n",
    "        replacement = \"\",\n",
    "        x = paste(df_enriched_genes[i,1:138], collapse=\" / \")) \n",
    "}"
   ]
  },
  {
   "cell_type": "code",
   "execution_count": null,
   "id": "6e7a6eb3",
   "metadata": {},
   "outputs": [],
   "source": [
    "df_enriched_genes"
   ]
  },
  {
   "cell_type": "code",
   "execution_count": null,
   "id": "5cc589c8",
   "metadata": {},
   "outputs": [],
   "source": [
    "all_pathways2$genes  <- df_enriched_genes$genes"
   ]
  },
  {
   "cell_type": "code",
   "execution_count": null,
   "id": "36910e36",
   "metadata": {},
   "outputs": [],
   "source": [
    "write.csv(all_pathways2, \"../tables/pathways/gsea_global.csv\")"
   ]
  },
  {
   "cell_type": "code",
   "execution_count": null,
   "id": "42c22348",
   "metadata": {},
   "outputs": [],
   "source": []
  },
  {
   "cell_type": "markdown",
   "id": "90c0fe85",
   "metadata": {},
   "source": [
    "Cluster profiler pathway heatmap"
   ]
  },
  {
   "cell_type": "code",
   "execution_count": null,
   "id": "ed431e40",
   "metadata": {},
   "outputs": [],
   "source": [
    "t2g <- msigdbr(species = \"Homo sapiens\", category = \"C7\") "
   ]
  },
  {
   "cell_type": "code",
   "execution_count": null,
   "id": "ddf4e01b",
   "metadata": {},
   "outputs": [],
   "source": [
    "fgsea_sets<- t2g %>% split(x = .$gene_symbol, f = .$gs_name)"
   ]
  },
  {
   "cell_type": "code",
   "execution_count": null,
   "id": "8e4a7fc8",
   "metadata": {},
   "outputs": [],
   "source": [
    "fc.df  <- read_csv(\"../tables/fold_change/cd4_l1_full_filt.csv\")  %>% as.data.frame()\n",
    "fc.df  <- fc.df  %>%  arrange(desc(avg_log2FC)) %>% \n",
    "dplyr::filter(cluster == \"Dia\")  %>% \n",
    "  dplyr::select(gene, avg_log2FC)\n",
    "ranks<- deframe(fc.df)"
   ]
  },
  {
   "cell_type": "code",
   "execution_count": null,
   "id": "20767be7",
   "metadata": {},
   "outputs": [],
   "source": [
    "edo <- fgsea(pathways=t2g, stats=ranks)"
   ]
  },
  {
   "cell_type": "code",
   "execution_count": null,
   "id": "bd1a80ea",
   "metadata": {},
   "outputs": [],
   "source": [
    "edo"
   ]
  },
  {
   "cell_type": "code",
   "execution_count": null,
   "id": "d6cc15a1",
   "metadata": {},
   "outputs": [],
   "source": [
    "edox <- setReadable(edo, 'org.Hs.eg.db', 'ENTREZID')"
   ]
  },
  {
   "cell_type": "code",
   "execution_count": null,
   "id": "14f3ff99",
   "metadata": {},
   "outputs": [],
   "source": [
    "p2 <- heatplot(edox, foldChange=geneList, showCategory=5)"
   ]
  },
  {
   "cell_type": "code",
   "execution_count": null,
   "id": "86814489",
   "metadata": {},
   "outputs": [],
   "source": []
  },
  {
   "cell_type": "markdown",
   "id": "07bec32c",
   "metadata": {},
   "source": [
    "# GSEA all pathways"
   ]
  },
  {
   "cell_type": "code",
   "execution_count": null,
   "id": "239910ea",
   "metadata": {},
   "outputs": [],
   "source": [
    "m_df<- msigdbr(species = \"Homo sapiens\", category = \"C7\")\n"
   ]
  },
  {
   "cell_type": "code",
   "execution_count": null,
   "id": "c080cb84",
   "metadata": {},
   "outputs": [],
   "source": [
    "fgsea_sets<- m_df %>% split(x = .$gene_symbol, f = .$gs_name)"
   ]
  },
  {
   "cell_type": "code",
   "execution_count": null,
   "id": "8fb67cce",
   "metadata": {},
   "outputs": [],
   "source": [
    "paths_fc  <- list.files(\"../tables/fold_change\", full.names = T)\n",
    "dataset_names  <- list.files(\"../tables/fold_change\", full.names = F)\n"
   ]
  },
  {
   "cell_type": "code",
   "execution_count": null,
   "id": "5ea105e5",
   "metadata": {},
   "outputs": [],
   "source": [
    "paths_fc"
   ]
  },
  {
   "cell_type": "code",
   "execution_count": null,
   "id": "73acb73c",
   "metadata": {},
   "outputs": [],
   "source": [
    "paths_fc  <- paths_fc[which(grepl(paths_fc, pattern = \"Ctrl\")|grepl(paths_fc, pattern = \"DiaT0_vs_DiaT1\"))]"
   ]
  },
  {
   "cell_type": "code",
   "execution_count": null,
   "id": "8ee69544",
   "metadata": {},
   "outputs": [],
   "source": [
    "dataset_names  <- dataset_names[which(grepl(dataset_names, pattern = \"Ctrl\")|grepl(dataset_names, pattern = \"DiaT0_vs_DiaT1\"))]"
   ]
  },
  {
   "cell_type": "code",
   "execution_count": null,
   "id": "18b8978a",
   "metadata": {
    "scrolled": false
   },
   "outputs": [],
   "source": [
    "dataset_names"
   ]
  },
  {
   "cell_type": "code",
   "execution_count": null,
   "id": "8b7ef5e9",
   "metadata": {},
   "outputs": [],
   "source": [
    "paths_fc"
   ]
  },
  {
   "cell_type": "code",
   "execution_count": null,
   "id": "56ef9035",
   "metadata": {},
   "outputs": [],
   "source": [
    "fc.df  <- read_csv(paths_fc[1])  %>% as.data.frame()"
   ]
  },
  {
   "cell_type": "code",
   "execution_count": null,
   "id": "ba781ea2",
   "metadata": {
    "scrolled": true
   },
   "outputs": [],
   "source": [
    "fc.df %>%  arrange(desc(avg_log2FC)) %>% \n",
    "dplyr::filter(grepl(x = cluster, pattern = \"Dia\")) "
   ]
  },
  {
   "cell_type": "markdown",
   "id": "48c4fc9a",
   "metadata": {},
   "source": [
    "## C7 pathways"
   ]
  },
  {
   "cell_type": "code",
   "execution_count": null,
   "id": "11b65871",
   "metadata": {},
   "outputs": [],
   "source": [
    "gsea_all_pathways  <- function(j) {\n",
    "  print(j)\n",
    "fc.df  <- read_csv(paths_fc[j])  %>% as.data.frame()\n",
    "    if(grepl(paths_fc[j], pattern = \"Ctrl\")){\n",
    "fc.df  <- fc.df  %>%  arrange(desc(avg_log2FC)) %>% \n",
    "dplyr::filter(grepl(cluster, pattern = \"Dia\"))  %>% \n",
    "  dplyr::select(gene, avg_log2FC)\n",
    "ranks<- deframe(fc.df)\n",
    "        } else {\n",
    " fc.df  <- fc.df  %>%  arrange(desc(avg_log2FC)) %>% \n",
    "dplyr::filter(grepl(cluster, pattern = \"Dia T0\"))  %>% \n",
    "  dplyr::select(gene, avg_log2FC)\n",
    "ranks<- deframe(fc.df)       \n",
    "    }\n",
    "fgseaRes <- fgsea(pathways = fgsea_sets, \n",
    "                 stats = ranks)\n",
    " fgseaRes$dataset  <-   gsub(dataset_names[j], pattern = \".csv\", replacement = \"\")\n",
    " return(fgseaRes)\n",
    "    }"
   ]
  },
  {
   "cell_type": "code",
   "execution_count": null,
   "id": "a3edbf09",
   "metadata": {
    "scrolled": true
   },
   "outputs": [],
   "source": [
    "gsea  <- map(.x = c(1:length(paths_fc)), .f = gsea_all_pathways)"
   ]
  },
  {
   "cell_type": "code",
   "execution_count": null,
   "id": "f20fe1a5",
   "metadata": {},
   "outputs": [],
   "source": [
    "gseas  <- bind_rows(gsea)"
   ]
  },
  {
   "cell_type": "code",
   "execution_count": null,
   "id": "dc54572c",
   "metadata": {
    "scrolled": true
   },
   "outputs": [],
   "source": [
    "gseas  %>% arrange(padj)"
   ]
  },
  {
   "cell_type": "code",
   "execution_count": null,
   "id": "9c7b375c",
   "metadata": {},
   "outputs": [],
   "source": [
    "dir.create(\"../tables/gsea\")"
   ]
  },
  {
   "cell_type": "code",
   "execution_count": null,
   "id": "af80522e",
   "metadata": {},
   "outputs": [],
   "source": [
    "gseas_df  <- gseas  %>% as.data.frame"
   ]
  },
  {
   "cell_type": "code",
   "execution_count": null,
   "id": "ce8ba81a",
   "metadata": {
    "scrolled": true
   },
   "outputs": [],
   "source": [
    "gseas_df  <- gseas_df  %>% mutate(\n",
    "    leadingEdge2 = paste(leadingEdge))"
   ]
  },
  {
   "cell_type": "code",
   "execution_count": null,
   "id": "71d41793",
   "metadata": {},
   "outputs": [],
   "source": [
    "gseas_df$leadingEdge  <- NULL"
   ]
  },
  {
   "cell_type": "code",
   "execution_count": null,
   "id": "5f161497",
   "metadata": {},
   "outputs": [],
   "source": [
    "write.csv(gseas_df, \"../tables/gsea/gsea_fold_changes_for_heatmap.csv\")"
   ]
  },
  {
   "cell_type": "code",
   "execution_count": null,
   "id": "c74c717b",
   "metadata": {},
   "outputs": [],
   "source": [
    "gseas_df"
   ]
  },
  {
   "cell_type": "markdown",
   "id": "6afd4777",
   "metadata": {},
   "source": [
    "## DESEQ"
   ]
  },
  {
   "cell_type": "code",
   "execution_count": null,
   "id": "81c7e75e",
   "metadata": {},
   "outputs": [],
   "source": [
    "m_df<- msigdbr(species = \"Homo sapiens\", category = \"C7\")\n"
   ]
  },
  {
   "cell_type": "code",
   "execution_count": null,
   "id": "cc24f21d",
   "metadata": {},
   "outputs": [],
   "source": [
    "fgsea_sets<- m_df %>% split(x = .$gene_symbol, f = .$gs_name)"
   ]
  },
  {
   "cell_type": "code",
   "execution_count": null,
   "id": "0763af68",
   "metadata": {},
   "outputs": [],
   "source": [
    "paths_fc  <- list.files(\"../tables/fold_change_deseq/\", full.names = T)\n",
    "dataset_names  <- list.files(\"../tables/fold_change_deseq/\", full.names = F)\n"
   ]
  },
  {
   "cell_type": "code",
   "execution_count": null,
   "id": "169f8d6a",
   "metadata": {},
   "outputs": [],
   "source": [
    "paths_fc"
   ]
  },
  {
   "cell_type": "code",
   "execution_count": null,
   "id": "7275e251",
   "metadata": {},
   "outputs": [],
   "source": [
    "paths_fc  <- paths_fc[which(grepl(paths_fc, pattern = \"Ctrl\")|grepl(paths_fc, pattern = \"DiaT0_vs_DiaT1\"))]"
   ]
  },
  {
   "cell_type": "code",
   "execution_count": null,
   "id": "88acb848",
   "metadata": {},
   "outputs": [],
   "source": [
    "dataset_names  <- dataset_names[which(grepl(dataset_names, pattern = \"Ctrl\")|grepl(dataset_names, pattern = \"DiaT0_vs_DiaT1\"))]"
   ]
  },
  {
   "cell_type": "code",
   "execution_count": null,
   "id": "2e1cb5db",
   "metadata": {
    "scrolled": false
   },
   "outputs": [],
   "source": [
    "dataset_names"
   ]
  },
  {
   "cell_type": "code",
   "execution_count": null,
   "id": "9552efeb",
   "metadata": {},
   "outputs": [],
   "source": [
    "paths_fc"
   ]
  },
  {
   "cell_type": "code",
   "execution_count": null,
   "id": "ac649166",
   "metadata": {},
   "outputs": [],
   "source": [
    "fc.df  <- read_csv(paths_fc[1])  %>% as.data.frame()"
   ]
  },
  {
   "cell_type": "code",
   "execution_count": null,
   "id": "d114c60b",
   "metadata": {
    "scrolled": true
   },
   "outputs": [],
   "source": [
    "fc.df %>%  arrange(desc(avg_log2FC)) %>% \n",
    "dplyr::filter(grepl(x = cluster, pattern = \"Dia\")) "
   ]
  },
  {
   "cell_type": "code",
   "execution_count": null,
   "id": "b49ebad9",
   "metadata": {
    "scrolled": true
   },
   "outputs": [],
   "source": [
    "fc.df %>%  arrange(p_val_adj) \n"
   ]
  },
  {
   "cell_type": "markdown",
   "id": "cab5c95d",
   "metadata": {},
   "source": [
    "## C7 pathways"
   ]
  },
  {
   "cell_type": "code",
   "execution_count": null,
   "id": "fb9051c4",
   "metadata": {},
   "outputs": [],
   "source": [
    "gsea_all_pathways  <- function(j) {\n",
    "  print(j)\n",
    "fc.df  <- read_csv(paths_fc[j])  %>% as.data.frame()\n",
    "    if(grepl(paths_fc[j], pattern = \"Ctrl\")){\n",
    "fc.df  <- fc.df  %>%  arrange(desc(avg_log2FC)) %>% \n",
    "dplyr::filter(grepl(cluster, pattern = \"Dia\"))  %>% \n",
    "  dplyr::select(gene, avg_log2FC)\n",
    "ranks<- deframe(fc.df)\n",
    "        } else {\n",
    " fc.df  <- fc.df  %>%  arrange(desc(avg_log2FC)) %>% \n",
    "dplyr::filter(grepl(cluster, pattern = \"Dia T0\"))  %>% \n",
    "  dplyr::select(gene, avg_log2FC)\n",
    "ranks<- deframe(fc.df)       \n",
    "    }\n",
    "fgseaRes <- fgsea(pathways = fgsea_sets, \n",
    "                 stats = ranks)\n",
    " fgseaRes$dataset  <-   gsub(dataset_names[j], pattern = \".csv\", replacement = \"\")\n",
    " return(fgseaRes)\n",
    "    }"
   ]
  },
  {
   "cell_type": "code",
   "execution_count": null,
   "id": "646ee7b8",
   "metadata": {
    "scrolled": true
   },
   "outputs": [],
   "source": [
    "gsea  <- map(.x = c(1:length(paths_fc)), .f = gsea_all_pathways)"
   ]
  },
  {
   "cell_type": "code",
   "execution_count": null,
   "id": "4221acfb",
   "metadata": {},
   "outputs": [],
   "source": [
    "gseas  <- bind_rows(gsea)"
   ]
  },
  {
   "cell_type": "code",
   "execution_count": null,
   "id": "43adcb22",
   "metadata": {
    "scrolled": true
   },
   "outputs": [],
   "source": [
    "gseas  %>% arrange(padj)"
   ]
  },
  {
   "cell_type": "code",
   "execution_count": null,
   "id": "9fc6e69d",
   "metadata": {},
   "outputs": [],
   "source": [
    "dir.create(\"../tables/gsea\")"
   ]
  },
  {
   "cell_type": "code",
   "execution_count": null,
   "id": "f38df509",
   "metadata": {},
   "outputs": [],
   "source": [
    "gseas_df  <- gseas  %>% as.data.frame"
   ]
  },
  {
   "cell_type": "code",
   "execution_count": null,
   "id": "39811e69",
   "metadata": {
    "scrolled": true
   },
   "outputs": [],
   "source": [
    "gseas_df  <- gseas_df  %>% mutate(\n",
    "    leadingEdge2 = paste(leadingEdge))"
   ]
  },
  {
   "cell_type": "code",
   "execution_count": null,
   "id": "326233ad",
   "metadata": {},
   "outputs": [],
   "source": [
    "gseas_df$leadingEdge  <- NULL"
   ]
  },
  {
   "cell_type": "code",
   "execution_count": null,
   "id": "6adc1c75",
   "metadata": {},
   "outputs": [],
   "source": [
    "write.csv(gseas_df, \"../tables/gsea/gsea_fold_changes_for_heatmap.csv\")"
   ]
  },
  {
   "cell_type": "code",
   "execution_count": null,
   "id": "7e56e11a",
   "metadata": {},
   "outputs": [],
   "source": []
  },
  {
   "cell_type": "markdown",
   "id": "2ccc568b",
   "metadata": {},
   "source": [
    "## Hallmark pathways"
   ]
  },
  {
   "cell_type": "code",
   "execution_count": null,
   "id": "f2a08b94",
   "metadata": {},
   "outputs": [],
   "source": [
    "m_df<- msigdbr(species = \"Homo sapiens\", category = \"H\")\n",
    "\n",
    "\n",
    "fgsea_sets<- m_df %>% split(x = .$gene_symbol, f = .$gs_name)"
   ]
  },
  {
   "cell_type": "code",
   "execution_count": null,
   "id": "8af5a8b8",
   "metadata": {},
   "outputs": [],
   "source": [
    "names(fgsea_sets)"
   ]
  },
  {
   "cell_type": "code",
   "execution_count": null,
   "id": "68171bcd",
   "metadata": {},
   "outputs": [],
   "source": [
    "gsea_all_pathways  <- function(j) {\n",
    "  print(j)\n",
    "fc.df  <- read_csv(paths_fc[j])  %>% as.data.frame()\n",
    "    if(grepl(paths_fc[j], pattern = \"Ctrl\")){\n",
    "fc.df  <- fc.df  %>%  arrange(desc(avg_log2FC)) %>% \n",
    "dplyr::filter(grepl(cluster, pattern = \"Dia\"))  %>% \n",
    "  dplyr::select(gene, avg_log2FC)\n",
    "ranks<- deframe(fc.df)\n",
    "        } else {\n",
    " fc.df  <- fc.df  %>%  arrange(desc(avg_log2FC)) %>% \n",
    "dplyr::filter(grepl(cluster, pattern = \"Dia T0\"))  %>% \n",
    "  dplyr::select(gene, avg_log2FC)\n",
    "ranks<- deframe(fc.df)       \n",
    "    }\n",
    "fgseaRes <- fgsea(pathways = fgsea_sets, \n",
    "                 stats = ranks)\n",
    " fgseaRes$dataset  <-   gsub(dataset_names[j], pattern = \".csv\", replacement = \"\")\n",
    " return(fgseaRes)\n",
    "    }"
   ]
  },
  {
   "cell_type": "code",
   "execution_count": null,
   "id": "1bec8774",
   "metadata": {
    "scrolled": true
   },
   "outputs": [],
   "source": [
    "gsea  <- map(.x = c(1:length(paths_fc)), .f = gsea_all_pathways)"
   ]
  },
  {
   "cell_type": "code",
   "execution_count": null,
   "id": "597e4976",
   "metadata": {},
   "outputs": [],
   "source": [
    "gseas  <- bind_rows(gsea)"
   ]
  },
  {
   "cell_type": "code",
   "execution_count": null,
   "id": "24395778",
   "metadata": {
    "scrolled": true
   },
   "outputs": [],
   "source": [
    "gseas  %>% arrange(padj)"
   ]
  },
  {
   "cell_type": "code",
   "execution_count": null,
   "id": "10d7caec",
   "metadata": {},
   "outputs": [],
   "source": [
    "gseas_df  <- gseas  %>% as.data.frame"
   ]
  },
  {
   "cell_type": "code",
   "execution_count": null,
   "id": "126c3f91",
   "metadata": {
    "scrolled": true
   },
   "outputs": [],
   "source": [
    "gseas_df  <- gseas_df  %>% mutate(\n",
    "    leadingEdge2 = paste(leadingEdge))"
   ]
  },
  {
   "cell_type": "code",
   "execution_count": null,
   "id": "2dd11bbc",
   "metadata": {},
   "outputs": [],
   "source": [
    "gseas_df$leadingEdge  <- NULL"
   ]
  },
  {
   "cell_type": "code",
   "execution_count": null,
   "id": "72c68c0b",
   "metadata": {},
   "outputs": [],
   "source": [
    "write.csv(gseas_df, \"../tables/gsea/gsea_fold_changes_for_heatmap_hallmark.csv\")"
   ]
  },
  {
   "cell_type": "code",
   "execution_count": null,
   "id": "7afae9ff",
   "metadata": {},
   "outputs": [],
   "source": [
    "gseas_df"
   ]
  },
  {
   "cell_type": "markdown",
   "id": "29913021",
   "metadata": {},
   "source": [
    "## Heatmap immune and hallmark"
   ]
  },
  {
   "cell_type": "code",
   "execution_count": null,
   "id": "43a4f0d4",
   "metadata": {},
   "outputs": [],
   "source": [
    "gseas_hallamrk  <- read_csv(\"../tables/gsea/gsea_fold_changes_for_heatmap_hallmark.csv\")"
   ]
  },
  {
   "cell_type": "code",
   "execution_count": null,
   "id": "5bfe14f7",
   "metadata": {},
   "outputs": [],
   "source": [
    "gseas_immune  <- read_csv(\"../tables/gsea/gsea_fold_changes_for_heatmap.csv\")"
   ]
  },
  {
   "cell_type": "code",
   "execution_count": null,
   "id": "08ecf6c9",
   "metadata": {},
   "outputs": [],
   "source": [
    "gseas_both  <- rbind(gseas_immune, gseas_hallamrk)"
   ]
  },
  {
   "cell_type": "code",
   "execution_count": null,
   "id": "ad0479f2",
   "metadata": {},
   "outputs": [],
   "source": [
    "## Enriched at least in 15 population-test_type combinations, padj at least 10-5"
   ]
  },
  {
   "cell_type": "code",
   "execution_count": null,
   "id": "7816331f",
   "metadata": {},
   "outputs": [],
   "source": [
    "gseas_selected  <- gseas_both  %>% dplyr::filter(padj < 0.00001)  %>% group_by(pathway)  %>% tally"
   ]
  },
  {
   "cell_type": "code",
   "execution_count": null,
   "id": "0c545c46",
   "metadata": {
    "scrolled": true
   },
   "outputs": [],
   "source": [
    "gseas_selected"
   ]
  },
  {
   "cell_type": "code",
   "execution_count": null,
   "id": "c05e3eec",
   "metadata": {
    "scrolled": true
   },
   "outputs": [],
   "source": [
    "gseas_selected  <- gseas_selected  %>% dplyr::filter(n>5)  %>% pull(pathway)  %>% unique"
   ]
  },
  {
   "cell_type": "code",
   "execution_count": null,
   "id": "1b1098b6",
   "metadata": {},
   "outputs": [],
   "source": [
    "gseas_selected"
   ]
  },
  {
   "cell_type": "code",
   "execution_count": null,
   "id": "91f30de4",
   "metadata": {},
   "outputs": [],
   "source": [
    "gseas_selected  %>% length"
   ]
  },
  {
   "cell_type": "code",
   "execution_count": null,
   "id": "bc5aadd5",
   "metadata": {
    "scrolled": true
   },
   "outputs": [],
   "source": [
    "gseas_selected2  <- gseas_both  %>% dplyr::filter(pathway %in% gseas_selected)  %>% \n",
    "dplyr::select(NES, dataset, pathway)  %>% \n",
    "mutate(dataset = gsub(dataset, pattern = \"_Ctrl_vs_DiaT0\", replacement = \".Ctrl_vs_DiaT0\"))  %>% \n",
    "mutate(dataset = gsub(dataset, pattern = \"_Ctrl_vs_DiaT1\", replacement = \".Ctrl_vs_DiaT1\"))  %>% \n",
    "mutate(dataset = gsub(dataset, pattern = \"_DiaT0_vs_DiaT1\", replacement = \".DiaT0_vs_DiaT1\"))  %>% \n",
    "separate(dataset, into = c(\"population\", \"test_type\"), sep = \"\\\\.\", remove = F)  %>% \n",
    "pivot_wider(names_from = \"pathway\", values_from = \"NES\", values_fill = 0) "
   ]
  },
  {
   "cell_type": "code",
   "execution_count": null,
   "id": "721b8467",
   "metadata": {},
   "outputs": [],
   "source": [
    "gseas_mtx  <- gseas_selected2  %>% arrange(test_type, population)  %>% \n",
    "dplyr::select(-dataset, -population, -test_type)  %>% \n",
    "as.matrix()"
   ]
  },
  {
   "cell_type": "code",
   "execution_count": null,
   "id": "37bddf90",
   "metadata": {},
   "outputs": [],
   "source": [
    "rownames(gseas_mtx)  <- gseas_selected2  %>% arrange(test_type, population)  %>% pull(dataset)"
   ]
  },
  {
   "cell_type": "code",
   "execution_count": null,
   "id": "2b0b87ea",
   "metadata": {},
   "outputs": [],
   "source": [
    "library(pheatmap)"
   ]
  },
  {
   "cell_type": "code",
   "execution_count": null,
   "id": "5b7c1a16",
   "metadata": {},
   "outputs": [],
   "source": [
    "colnames(gseas_mtx)"
   ]
  },
  {
   "cell_type": "code",
   "execution_count": null,
   "id": "ceb5d738",
   "metadata": {},
   "outputs": [],
   "source": [
    "!which(grepl(rownames(gseas_mtx), pattern = \"subcluster\")|\n",
    "                         grepl(rownames(gseas_mtx), pattern = \"_l1_\"))"
   ]
  },
  {
   "cell_type": "code",
   "execution_count": null,
   "id": "aed86c3f",
   "metadata": {},
   "outputs": [],
   "source": [
    "options(repr.plot.width = 30, repr.plot.height = 18)\n",
    "pheatmap(gseas_mtx[which((grepl(rownames(gseas_mtx), pattern = \"subcluster\")==F) &\n",
    "                         (grepl(rownames(gseas_mtx), pattern = \"_l1_\")==F)),], \n",
    "         main = \"\", scale = \"none\", cluster_cols = T, cluster_rows = F,\n",
    "        color=colorRampPalette(c(\"dodgerblue\", \"grey95\", \"indianred2\"))(50), \n",
    "         border_color = \"white\", width = 9, height = 3.3,\n",
    "                  fontsize = 9)"
   ]
  },
  {
   "cell_type": "code",
   "execution_count": null,
   "id": "94833485",
   "metadata": {},
   "outputs": [],
   "source": []
  },
  {
   "cell_type": "code",
   "execution_count": null,
   "id": "ca19db01",
   "metadata": {},
   "outputs": [],
   "source": [
    "options(repr.plot.width = 30, repr.plot.height = 18)\n",
    "pheatmap(gseas_mtx, main = \"\", scale = \"none\", cluster_cols = T, cluster_rows = F,\n",
    "        color=colorRampPalette(c(\"dodgerblue\", \"grey95\", \"indianred2\"))(50), \n",
    "         border_color = \"white\", width = 40, height = 30,\n",
    "                  fontsize = 9, filename = \"../figures/heatmaps/gsea_heatmap.pdf\")"
   ]
  },
  {
   "cell_type": "code",
   "execution_count": null,
   "id": "554900e3",
   "metadata": {},
   "outputs": [],
   "source": []
  },
  {
   "cell_type": "code",
   "execution_count": null,
   "id": "54c024fc",
   "metadata": {
    "scrolled": true
   },
   "outputs": [],
   "source": [
    "hm_ctrl_diat0  <- pheatmap(gseas_mtx[which((grepl(rownames(gseas_mtx), pattern = \"subcluster\")==F) &\n",
    "                         (grepl(rownames(gseas_mtx), pattern = \"_l1_\")==F) &\n",
    "                        grepl(rownames(gseas_mtx), pattern = \"Ctrl_vs_DiaT0\")),], \n",
    "         main = \"\", scale = \"none\", cluster_cols = T, cluster_rows = T,\n",
    "        color=colorRampPalette(c(\"dodgerblue\", \"grey95\", \"indianred2\"))(50), \n",
    "         border_color = \"white\", width = 9, height = 3.3,\n",
    "                  fontsize = 9)"
   ]
  },
  {
   "cell_type": "code",
   "execution_count": null,
   "id": "816e38f9",
   "metadata": {},
   "outputs": [],
   "source": [
    "rownames(gseas_mtx[which((grepl(rownames(gseas_mtx), pattern = \"subcluster\")==F) &\n",
    "                         (grepl(rownames(gseas_mtx), pattern = \"_l1_\")==F) &\n",
    "                        grepl(rownames(gseas_mtx), pattern = \"Ctrl_vs_DiaT0\")),])[\n",
    "    c(14, 15, 8, 6, 17, 7, 13, 3, 9, 4, 1, 10, 2, 5, 16, 11, 12)]"
   ]
  },
  {
   "cell_type": "code",
   "execution_count": null,
   "id": "ff3f70fc",
   "metadata": {},
   "outputs": [],
   "source": [
    "rownames(gseas_mtx[which((grepl(rownames(gseas_mtx), pattern = \"subcluster\")==F) &\n",
    "                         (grepl(rownames(gseas_mtx), pattern = \"_l1_\")==F) &\n",
    "                        grepl(rownames(gseas_mtx), pattern = \"Ctrl_vs_DiaT1\")),])[\n",
    "    c(14, 15, 8, 6, 17, 7, 13, 3, 9, 4, 1, 10, 2, 5, 16, 11, 12)]"
   ]
  },
  {
   "cell_type": "code",
   "execution_count": null,
   "id": "72821187",
   "metadata": {},
   "outputs": [],
   "source": [
    "options(repr.plot.width = 30, repr.plot.height = 18)\n",
    "pheatmap(gseas_mtx[c(rownames(gseas_mtx[which((grepl(rownames(gseas_mtx), pattern = \"subcluster\")==F) &\n",
    "                         (grepl(rownames(gseas_mtx), pattern = \"_l1_\")==F) &\n",
    "                        grepl(rownames(gseas_mtx), pattern = \"Ctrl_vs_DiaT0\")),])[\n",
    "    c(14, 15, 8, 6, 17, 7, 13, 3, 9, 4, 1, 10, 2, 5, 16, 11, 12)],\n",
    "                    rownames(gseas_mtx[which((grepl(rownames(gseas_mtx), pattern = \"subcluster\")==F) &\n",
    "                         (grepl(rownames(gseas_mtx), pattern = \"_l1_\")==F) &\n",
    "                        grepl(rownames(gseas_mtx), pattern = \"Ctrl_vs_DiaT1\")),])[\n",
    "    c(14, 15, 8, 6, 17, 7, 13, 3, 9, 4, 1, 10, 2, 5, 16, 11, 12)],\n",
    "                    rownames(gseas_mtx[which((grepl(rownames(gseas_mtx), pattern = \"subcluster\")==F) &\n",
    "                         (grepl(rownames(gseas_mtx), pattern = \"_l1_\")==F) &\n",
    "                        grepl(rownames(gseas_mtx), pattern = \"DiaT0_vs_DiaT1\")),])[\n",
    "    c(14, 15, 8, 6, 17, 7, 13, 3, 9, 4, 1, 10, 2, 5, 16, 11, 12)]),], \n",
    "         main = \"\", scale = \"none\", cluster_cols = T, cluster_rows = F,\n",
    "        color=colorRampPalette(c(\"dodgerblue\", \"grey95\", \"indianred2\"))(50), \n",
    "         border_color = \"white\", width = 9, height = 3.3,\n",
    "                  fontsize = 9)"
   ]
  },
  {
   "cell_type": "code",
   "execution_count": null,
   "id": "4600e3e2",
   "metadata": {},
   "outputs": [],
   "source": [
    "options(repr.plot.width = 30, repr.plot.height = 18)\n",
    "\n",
    "pheatmap(gseas_mtx[c(rownames(gseas_mtx[which((grepl(rownames(gseas_mtx), pattern = \"subcluster\")==F) &\n",
    "                         (grepl(rownames(gseas_mtx), pattern = \"_l1_\")==F) &\n",
    "                        grepl(rownames(gseas_mtx), pattern = \"Ctrl_vs_DiaT0\")),])[\n",
    "    c(14, 15, 8, 6, 17, 7, 13, 3, 9, 4, 1, 10, 2, 5, 16, 11, 12)],\n",
    "                    rownames(gseas_mtx[which((grepl(rownames(gseas_mtx), pattern = \"subcluster\")==F) &\n",
    "                         (grepl(rownames(gseas_mtx), pattern = \"_l1_\")==F) &\n",
    "                        grepl(rownames(gseas_mtx), pattern = \"Ctrl_vs_DiaT1\")),])[\n",
    "    c(14, 15, 8, 6, 17, 7, 13, 3, 9, 4, 1, 10, 2, 5, 16, 11, 12)],\n",
    "                    rownames(gseas_mtx[which((grepl(rownames(gseas_mtx), pattern = \"subcluster\")==F) &\n",
    "                         (grepl(rownames(gseas_mtx), pattern = \"_l1_\")==F) &\n",
    "                        grepl(rownames(gseas_mtx), pattern = \"DiaT0_vs_DiaT1\")),])[\n",
    "    c(14, 15, 8, 6, 17, 7, 13, 3, 9, 4, 1, 10, 2, 5, 16, 11, 12)]),], \n",
    "         main = \"\", scale = \"none\", cluster_cols = T, cluster_rows = F,\n",
    "        color=colorRampPalette(c(\"dodgerblue\", \"grey95\", \"indianred2\"))(50), \n",
    "         border_color = \"white\", width = 30, height = 15,\n",
    "                  fontsize = 9, filename = \"../figures/heatmaps/gsea_heatmap_ordered_with_hallmark.pdf\")"
   ]
  },
  {
   "cell_type": "markdown",
   "id": "49783fd5",
   "metadata": {},
   "source": [
    "### Try with insignificant white"
   ]
  },
  {
   "cell_type": "code",
   "execution_count": null,
   "id": "33ac7e97",
   "metadata": {},
   "outputs": [],
   "source": [
    "gseas_hallamrk  <- read_csv(\"../tables/gsea/gsea_fold_changes_for_heatmap_hallmark.csv\")"
   ]
  },
  {
   "cell_type": "code",
   "execution_count": null,
   "id": "8edd6449",
   "metadata": {},
   "outputs": [],
   "source": [
    "gseas_immune  <- read_csv(\"../tables/gsea/gsea_fold_changes_for_heatmap.csv\")"
   ]
  },
  {
   "cell_type": "code",
   "execution_count": null,
   "id": "abd12c1d",
   "metadata": {},
   "outputs": [],
   "source": [
    "gseas_both  <- rbind(gseas_immune, gseas_hallamrk)"
   ]
  },
  {
   "cell_type": "code",
   "execution_count": null,
   "id": "d14e4329",
   "metadata": {},
   "outputs": [],
   "source": [
    "gseas_both"
   ]
  },
  {
   "cell_type": "code",
   "execution_count": null,
   "id": "3fc4232c",
   "metadata": {},
   "outputs": [],
   "source": [
    "## Enriched at least in 15 population-test_type combinations, padj at least 10-5"
   ]
  },
  {
   "cell_type": "code",
   "execution_count": null,
   "id": "2fe5221c",
   "metadata": {},
   "outputs": [],
   "source": [
    "gseas_selected  <- gseas_both  %>% dplyr::filter(padj < 0.01)  %>% group_by(pathway)  %>% tally"
   ]
  },
  {
   "cell_type": "code",
   "execution_count": null,
   "id": "fb6a9e89",
   "metadata": {
    "scrolled": true
   },
   "outputs": [],
   "source": [
    "gseas_selected"
   ]
  },
  {
   "cell_type": "code",
   "execution_count": null,
   "id": "c5357c42",
   "metadata": {
    "scrolled": true
   },
   "outputs": [],
   "source": [
    "gseas_selected  <- gseas_selected  %>% dplyr::filter(n>10)  %>% pull(pathway)  %>% unique"
   ]
  },
  {
   "cell_type": "code",
   "execution_count": null,
   "id": "5cabd43b",
   "metadata": {},
   "outputs": [],
   "source": [
    "gseas_selected"
   ]
  },
  {
   "cell_type": "code",
   "execution_count": null,
   "id": "3876a30d",
   "metadata": {},
   "outputs": [],
   "source": [
    "gseas_selected  %>% length"
   ]
  },
  {
   "cell_type": "code",
   "execution_count": null,
   "id": "36d2f8db",
   "metadata": {},
   "outputs": [],
   "source": [
    "gseas_both"
   ]
  },
  {
   "cell_type": "code",
   "execution_count": null,
   "id": "e3dc0d5f",
   "metadata": {
    "scrolled": true
   },
   "outputs": [],
   "source": [
    "gseas_selected2  <- gseas_both  %>% dplyr::filter(pathway %in% gseas_selected)  %>% \n",
    "mutate(NES = ifelse(padj>0.05,NES/5,NES))  %>% \n",
    "dplyr::select(NES, dataset, pathway)  %>% \n",
    "mutate(dataset = gsub(dataset, pattern = \"_Ctrl_vs_DiaT0\", replacement = \".Ctrl_vs_DiaT0\"))  %>% \n",
    "mutate(dataset = gsub(dataset, pattern = \"_Ctrl_vs_DiaT1\", replacement = \".Ctrl_vs_DiaT1\"))  %>% \n",
    "mutate(dataset = gsub(dataset, pattern = \"_DiaT0_vs_DiaT1\", replacement = \".DiaT0_vs_DiaT1\"))  %>% \n",
    "separate(dataset, into = c(\"population\", \"test_type\"), sep = \"\\\\.\", remove = F)  %>% \n",
    "pivot_wider(names_from = \"pathway\", values_from = \"NES\", values_fill = 0) "
   ]
  },
  {
   "cell_type": "code",
   "execution_count": null,
   "id": "8bad2556",
   "metadata": {},
   "outputs": [],
   "source": [
    "gseas_mtx  <- gseas_selected2  %>% arrange(test_type, population)  %>% \n",
    "dplyr::select(-dataset, -population, -test_type)  %>% \n",
    "as.matrix()"
   ]
  },
  {
   "cell_type": "code",
   "execution_count": null,
   "id": "b4c0df6f",
   "metadata": {},
   "outputs": [],
   "source": [
    "rownames(gseas_mtx)  <- gseas_selected2  %>% arrange(test_type, population)  %>% pull(dataset)"
   ]
  },
  {
   "cell_type": "code",
   "execution_count": null,
   "id": "c1d6da2b",
   "metadata": {},
   "outputs": [],
   "source": [
    "library(pheatmap)"
   ]
  },
  {
   "cell_type": "code",
   "execution_count": null,
   "id": "ceaf8335",
   "metadata": {},
   "outputs": [],
   "source": [
    "colnames(gseas_mtx)"
   ]
  },
  {
   "cell_type": "code",
   "execution_count": null,
   "id": "d5cf73f6",
   "metadata": {
    "scrolled": true
   },
   "outputs": [],
   "source": [
    "options(repr.plot.width = 30, repr.plot.height = 18)\n",
    "hm_ctrl_diat0  <- pheatmap(gseas_mtx[which((grepl(rownames(gseas_mtx), pattern = \"subcluster\")==F) &\n",
    "                         (grepl(rownames(gseas_mtx), pattern = \"_l1_\")==F) &\n",
    "                        grepl(rownames(gseas_mtx), pattern = \"Ctrl_vs_DiaT0\")),], \n",
    "         main = \"\", scale = \"none\", cluster_cols = T, cluster_rows = T,\n",
    "        color=colorRampPalette(c(\"dodgerblue\", \"grey95\", \"indianred2\"))(50), \n",
    "         border_color = \"white\", width = 9, height = 3.3,\n",
    "                  fontsize = 9)"
   ]
  },
  {
   "cell_type": "code",
   "execution_count": null,
   "id": "a1b57d28",
   "metadata": {},
   "outputs": [],
   "source": [
    "rownames(gseas_mtx[which((grepl(rownames(gseas_mtx), pattern = \"subcluster\")==F) &\n",
    "                         (grepl(rownames(gseas_mtx), pattern = \"_l1_\")==F) &\n",
    "                        grepl(rownames(gseas_mtx), pattern = \"Ctrl_vs_DiaT0\")),])[\n",
    "    c(14, 15, 8, 6, 17, 7, 13, 3, 9, 4, 1, 10, 2, 5, 16, 11, 12)]"
   ]
  },
  {
   "cell_type": "code",
   "execution_count": null,
   "id": "7f3bb90b",
   "metadata": {},
   "outputs": [],
   "source": [
    "rownames(gseas_mtx[which((grepl(rownames(gseas_mtx), pattern = \"subcluster\")==F) &\n",
    "                         (grepl(rownames(gseas_mtx), pattern = \"_l1_\")==F) &\n",
    "                        grepl(rownames(gseas_mtx), pattern = \"Ctrl_vs_DiaT1\")),])[\n",
    "    c(14, 15, 8, 6, 17, 7, 13, 3, 9, 4, 1, 10, 2, 5, 16, 11, 12)]"
   ]
  },
  {
   "cell_type": "code",
   "execution_count": null,
   "id": "6578e203",
   "metadata": {},
   "outputs": [],
   "source": [
    "options(repr.plot.width = 30, repr.plot.height = 18)\n",
    "pheatmap(gseas_mtx[c(rownames(gseas_mtx[which((grepl(rownames(gseas_mtx), pattern = \"subcluster\")==F) &\n",
    "                         (grepl(rownames(gseas_mtx), pattern = \"_l1_\")==F) &\n",
    "                        grepl(rownames(gseas_mtx), pattern = \"Ctrl_vs_DiaT0\")),])[\n",
    "    c(14, 15, 8, 6, 17, 7, 13, 3, 9, 4, 1, 10, 2, 5, 16, 11, 12)],\n",
    "                    rownames(gseas_mtx[which((grepl(rownames(gseas_mtx), pattern = \"subcluster\")==F) &\n",
    "                         (grepl(rownames(gseas_mtx), pattern = \"_l1_\")==F) &\n",
    "                        grepl(rownames(gseas_mtx), pattern = \"Ctrl_vs_DiaT1\")),])[\n",
    "    c(14, 15, 8, 6, 17, 7, 13, 3, 9, 4, 1, 10, 2, 5, 16, 11, 12)],\n",
    "                    rownames(gseas_mtx[which((grepl(rownames(gseas_mtx), pattern = \"subcluster\")==F) &\n",
    "                         (grepl(rownames(gseas_mtx), pattern = \"_l1_\")==F) &\n",
    "                        grepl(rownames(gseas_mtx), pattern = \"DiaT0_vs_DiaT1\")),])[\n",
    "    c(14, 15, 8, 6, 17, 7, 13, 3, 9, 4, 1, 10, 2, 5, 16, 11, 12)]),], \n",
    "         main = \"\", scale = \"none\", cluster_cols = T, cluster_rows = F,\n",
    "        color=colorRampPalette(c(\"dodgerblue\", \"grey95\", \"indianred2\"))(50), \n",
    "         border_color = \"white\", width = 9, height = 3.3,\n",
    "                  fontsize = 9)"
   ]
  },
  {
   "cell_type": "code",
   "execution_count": null,
   "id": "ff62930f",
   "metadata": {},
   "outputs": [],
   "source": [
    "options(repr.plot.width = 30, repr.plot.height = 18)\n",
    "pheatmap(gseas_mtx[c(rownames(gseas_mtx[which((grepl(rownames(gseas_mtx), pattern = \"subcluster\")==F) &\n",
    "                         (grepl(rownames(gseas_mtx), pattern = \"_l1_\")==F) &\n",
    "                        grepl(rownames(gseas_mtx), pattern = \"Ctrl_vs_DiaT0\")),])[\n",
    "    c(14, 15, 8, 6, 17, 7, 13, 3, 9, 4, 1, 10, 2, 5, 16, 11, 12)],\n",
    "                    rownames(gseas_mtx[which((grepl(rownames(gseas_mtx), pattern = \"subcluster\")==F) &\n",
    "                         (grepl(rownames(gseas_mtx), pattern = \"_l1_\")==F) &\n",
    "                        grepl(rownames(gseas_mtx), pattern = \"Ctrl_vs_DiaT1\")),])[\n",
    "    c(14, 15, 8, 6, 17, 7, 13, 3, 9, 4, 1, 10, 2, 5, 16, 11, 12)],\n",
    "                    rownames(gseas_mtx[which((grepl(rownames(gseas_mtx), pattern = \"subcluster\")==F) &\n",
    "                         (grepl(rownames(gseas_mtx), pattern = \"_l1_\")==F) &\n",
    "                        grepl(rownames(gseas_mtx), pattern = \"DiaT0_vs_DiaT1\")),])[\n",
    "    c(14, 15, 8, 6, 17, 7, 13, 3, 9, 4, 1, 10, 2, 5, 16, 11, 12)]),], \n",
    "         main = \"\", scale = \"none\", cluster_cols = T, cluster_rows = F,\n",
    "        color=colorRampPalette(c(\"dodgerblue\", \"grey95\", \"indianred2\"))(50), \n",
    "         border_color = \"white\", width = 9, height = 3.3,\n",
    "                  fontsize = 9)"
   ]
  },
  {
   "cell_type": "code",
   "execution_count": null,
   "id": "c338b844",
   "metadata": {},
   "outputs": [],
   "source": [
    "options(repr.plot.width = 30, repr.plot.height = 18)\n",
    "\n",
    "pheatmap(gseas_mtx[c(rownames(gseas_mtx[which((grepl(rownames(gseas_mtx), pattern = \"subcluster\")==F) &\n",
    "                         (grepl(rownames(gseas_mtx), pattern = \"_l1_\")==F) &\n",
    "                        grepl(rownames(gseas_mtx), pattern = \"Ctrl_vs_DiaT0\")),])[\n",
    "    c(14, 15, 8, 6, 17, 7, 13, 3, 9, 4, 1, 10, 2, 5, 16, 11, 12)],\n",
    "                    rownames(gseas_mtx[which((grepl(rownames(gseas_mtx), pattern = \"subcluster\")==F) &\n",
    "                         (grepl(rownames(gseas_mtx), pattern = \"_l1_\")==F) &\n",
    "                        grepl(rownames(gseas_mtx), pattern = \"Ctrl_vs_DiaT1\")),])[\n",
    "    c(14, 15, 8, 6, 17, 7, 13, 3, 9, 4, 1, 10, 2, 5, 16, 11, 12)],\n",
    "                    rownames(gseas_mtx[which((grepl(rownames(gseas_mtx), pattern = \"subcluster\")==F) &\n",
    "                         (grepl(rownames(gseas_mtx), pattern = \"_l1_\")==F) &\n",
    "                        grepl(rownames(gseas_mtx), pattern = \"DiaT0_vs_DiaT1\")),])[\n",
    "    c(14, 15, 8, 6, 17, 7, 13, 3, 9, 4, 1, 10, 2, 5, 16, 11, 12)]),], \n",
    "         main = \"\", scale = \"none\", cluster_cols = T, cluster_rows = F,\n",
    "        color=colorRampPalette(c(\"dodgerblue\", \"grey95\", \"indianred2\"))(50), \n",
    "         border_color = \"white\", width = 45, height = 20,\n",
    "                  fontsize = 9, filename = \"../figures/heatmaps/gsea_heatmap_ordered_with_hallmark_white.pdf\")"
   ]
  },
  {
   "cell_type": "code",
   "execution_count": null,
   "id": "f7a3baa6",
   "metadata": {},
   "outputs": [],
   "source": []
  },
  {
   "cell_type": "markdown",
   "id": "557d7366",
   "metadata": {},
   "source": [
    "## Heatmap"
   ]
  },
  {
   "cell_type": "code",
   "execution_count": null,
   "id": "f00ffdda",
   "metadata": {},
   "outputs": [],
   "source": [
    "gseas_selected  <- gseas_both  %>% dplyr::filter(padj < 0.00000001)  %>% pull(pathway)  %>% unique"
   ]
  },
  {
   "cell_type": "code",
   "execution_count": null,
   "id": "113d7053",
   "metadata": {},
   "outputs": [],
   "source": [
    "gseas_selected  %>% length"
   ]
  },
  {
   "cell_type": "code",
   "execution_count": null,
   "id": "e644827a",
   "metadata": {
    "scrolled": true
   },
   "outputs": [],
   "source": [
    "gseas_selected2  <- gseas  %>% dplyr::filter(pathway %in% gseas_selected)  %>% \n",
    "dplyr::select(NES, dataset, pathway)  %>% \n",
    "mutate(dataset = gsub(dataset, pattern = \"_Ctrl_vs_DiaT0\", replacement = \".Ctrl_vs_DiaT0\"))  %>% \n",
    "mutate(dataset = gsub(dataset, pattern = \"_Ctrl_vs_DiaT1\", replacement = \".Ctrl_vs_DiaT1\"))  %>% \n",
    "mutate(dataset = gsub(dataset, pattern = \"_DiaT0_vs_DiaT1\", replacement = \".DiaT0_vs_DiaT1\"))  %>% \n",
    "separate(dataset, into = c(\"population\", \"test_type\"), sep = \"\\\\.\", remove = F)  %>% \n",
    "pivot_wider(names_from = \"pathway\", values_from = \"NES\", values_fill = 0) "
   ]
  },
  {
   "cell_type": "code",
   "execution_count": null,
   "id": "295bece0",
   "metadata": {},
   "outputs": [],
   "source": [
    "gseas_mtx  <- gseas_selected2  %>% arrange(test_type, population)  %>% \n",
    "dplyr::select(-dataset, -population, -test_type)  %>% \n",
    "as.matrix()"
   ]
  },
  {
   "cell_type": "code",
   "execution_count": null,
   "id": "27e0f8f9",
   "metadata": {},
   "outputs": [],
   "source": [
    "rownames(gseas_mtx)  <- gseas_selected2  %>% arrange(test_type, population)  %>% pull(dataset)"
   ]
  },
  {
   "cell_type": "code",
   "execution_count": null,
   "id": "8c0070f7",
   "metadata": {},
   "outputs": [],
   "source": [
    "library(pheatmap)"
   ]
  },
  {
   "cell_type": "code",
   "execution_count": null,
   "id": "5e206801",
   "metadata": {},
   "outputs": [],
   "source": [
    "colnames(gseas_mtx)"
   ]
  },
  {
   "cell_type": "code",
   "execution_count": null,
   "id": "8a7df0fa",
   "metadata": {},
   "outputs": [],
   "source": [
    "options(repr.plot.width = 30, repr.plot.height = 18)\n",
    "pheatmap(gseas_mtx, main = \"\", scale = \"none\", cluster_cols = T, cluster_rows = F,\n",
    "        color=colorRampPalette(c(\"dodgerblue\", \"grey95\", \"indianred2\"))(50), \n",
    "         border_color = \"white\", width = 9, height = 3.3,\n",
    "                  fontsize = 9)"
   ]
  },
  {
   "cell_type": "code",
   "execution_count": null,
   "id": "f434d63d",
   "metadata": {},
   "outputs": [],
   "source": [
    "options(repr.plot.width = 30, repr.plot.height = 18)\n",
    "pheatmap(gseas_mtx, main = \"\", scale = \"none\", cluster_cols = T, cluster_rows = F,\n",
    "        color=colorRampPalette(c(\"dodgerblue\", \"grey95\", \"indianred2\"))(50), \n",
    "         border_color = \"white\", width = 40, height = 30,\n",
    "                  fontsize = 9, filename = \"../figures/heatmaps/gsea_heatmap.pdf\")"
   ]
  },
  {
   "cell_type": "code",
   "execution_count": null,
   "id": "a050e24e",
   "metadata": {},
   "outputs": [],
   "source": [
    "write.csv(colnames(gseas_mtx), \"../tables/gsea/gseas_top_in_ehatmap_picture.csv\")"
   ]
  },
  {
   "cell_type": "code",
   "execution_count": null,
   "id": "8a156deb",
   "metadata": {},
   "outputs": [],
   "source": [
    "annotation_row = annot1"
   ]
  },
  {
   "cell_type": "code",
   "execution_count": null,
   "id": "3b37fd14",
   "metadata": {},
   "outputs": [],
   "source": [
    "levels = gseas  %>% group_by(dataset)  %>% slice_max(order_by = NES, n = 5) %>% pull(pathway)  %>% unique"
   ]
  },
  {
   "cell_type": "code",
   "execution_count": null,
   "id": "0556d6fe",
   "metadata": {},
   "outputs": [],
   "source": [
    "\n",
    "options(repr.plot.width = 20, repr.plot.height = 25)\n",
    "gseas  %>% group_by(dataset)  %>% slice_max(order_by = NES, n = 5) %>% \n",
    "ggplot(aes(x = factor(pathway, levels = levels), y = NES)) + \n",
    "geom_point(aes(size = size, color = dataset, alpha = -padj)) + coord_flip() +\n",
    "facet_wrap(~dataset, ncol = 1, drop = TRUE, scales = \"free\")"
   ]
  },
  {
   "cell_type": "code",
   "execution_count": null,
   "id": "811565ec",
   "metadata": {},
   "outputs": [],
   "source": [
    "gseas"
   ]
  },
  {
   "cell_type": "code",
   "execution_count": null,
   "id": "105412b6",
   "metadata": {},
   "outputs": [],
   "source": [
    "Labels = gseas  %>% \n",
    "dplyr::filter(dataset == \"cd4_l1_full_filt\")  %>% \n",
    "pull(pathway)"
   ]
  },
  {
   "cell_type": "code",
   "execution_count": null,
   "id": "bb6771e3",
   "metadata": {},
   "outputs": [],
   "source": [
    "Labels = ifelse(grepl(pattern = \"TREG\", Labels), Labels, NA_character_)"
   ]
  },
  {
   "cell_type": "code",
   "execution_count": null,
   "id": "df5c55e8",
   "metadata": {
    "scrolled": true
   },
   "outputs": [],
   "source": [
    "Labels"
   ]
  },
  {
   "cell_type": "code",
   "execution_count": null,
   "id": "cacae389",
   "metadata": {},
   "outputs": [],
   "source": [
    "library(ggrepel)\n",
    "\n",
    "ggrepel::geom_text_repel"
   ]
  },
  {
   "cell_type": "code",
   "execution_count": null,
   "id": "e9300da4",
   "metadata": {},
   "outputs": [],
   "source": [
    "options(repr.plot.width = 20, repr.plot.height = 9)\n",
    "\n",
    "gseas  %>% \n",
    "dplyr::filter(dataset == \"cd4_l1_full_filt\")  %>% \n",
    "ggplot(aes(x = NES, y = padj)) + \n",
    "geom_point(aes(size = size, color = grepl(pathway, pattern = \"TREG\"), alpha = -padj)) +\n",
    "geom_text_repel(aes(label = Labels))"
   ]
  },
  {
   "cell_type": "markdown",
   "id": "deee4c46",
   "metadata": {},
   "source": [
    "## GSEA heatmap v07"
   ]
  },
  {
   "cell_type": "code",
   "execution_count": null,
   "id": "ad70a62f",
   "metadata": {},
   "outputs": [],
   "source": [
    "gseas_mtx  <- gseas_selected2  %>% arrange(test_type, population)  %>% \n",
    "dplyr::select(-dataset, -population, -test_type)  %>% \n",
    "as.matrix()"
   ]
  },
  {
   "cell_type": "code",
   "execution_count": null,
   "id": "a1853f1f",
   "metadata": {},
   "outputs": [],
   "source": [
    "which(colnames(gseas_selected2) %in% c(\"GOLDRATH_EFF_VS_MEMORY_CD8_TCELL_UP\",\n",
    "\"GOLDRATH_NAIVE_VS_EFF_CD8_TCELL_DN\",\n",
    "                                       \"GSE11057_NAIVE_VS_EFF_MEMORY_CD4_TCELL_DN\",\n",
    "                                       \"GSE11057_NAIVE_VS_EFF_MEMORY_CD4_TCELL_UP\"                                       ))"
   ]
  },
  {
   "cell_type": "code",
   "execution_count": null,
   "id": "729ee821",
   "metadata": {
    "scrolled": true
   },
   "outputs": [],
   "source": [
    "gseas_selected2"
   ]
  },
  {
   "cell_type": "code",
   "execution_count": null,
   "id": "5d5e00db",
   "metadata": {},
   "outputs": [],
   "source": [
    "gseas_selected3  <- gseas_selected2  %>% arrange(test_type, population)  %>% \n",
    "dplyr::select(1,2,3,21,22,39,40)  %>% \n",
    "dplyr::select(-dataset, -population, -test_type)  %>% \n",
    "as.matrix()\n"
   ]
  },
  {
   "cell_type": "code",
   "execution_count": null,
   "id": "ba5a15ac",
   "metadata": {
    "scrolled": true
   },
   "outputs": [],
   "source": [
    "gseas_selected3"
   ]
  },
  {
   "cell_type": "code",
   "execution_count": null,
   "id": "897500a6",
   "metadata": {},
   "outputs": [],
   "source": [
    "pheatmap(gseas_selected3, colorRampPalette(c(\"dodgerblue\", \"grey95\", \"indianred2\"))(50))"
   ]
  },
  {
   "cell_type": "markdown",
   "id": "a345ea2d",
   "metadata": {},
   "source": [
    "# GSEA in KetoAcidosis and Remission"
   ]
  },
  {
   "cell_type": "code",
   "execution_count": null,
   "id": "a0c010d4",
   "metadata": {},
   "outputs": [],
   "source": [
    "library(msigdbr)"
   ]
  },
  {
   "cell_type": "code",
   "execution_count": null,
   "id": "f8d73837",
   "metadata": {},
   "outputs": [],
   "source": [
    "m_df<- msigdbr(species = \"Homo sapiens\", category = \"C7\")\n"
   ]
  },
  {
   "cell_type": "code",
   "execution_count": null,
   "id": "86088af5",
   "metadata": {},
   "outputs": [],
   "source": [
    "fgsea_sets<- m_df %>% split(x = .$gene_symbol, f = .$gs_name)"
   ]
  },
  {
   "cell_type": "code",
   "execution_count": null,
   "id": "f199cf8c",
   "metadata": {},
   "outputs": [],
   "source": [
    "paths_fc  <- list.files(\"../tables/fold_change\", full.names = T)\n",
    "dataset_names  <- list.files(\"../tables/fold_change\", full.names = F)\n"
   ]
  },
  {
   "cell_type": "code",
   "execution_count": null,
   "id": "4ea122cd",
   "metadata": {},
   "outputs": [],
   "source": [
    "paths_fc"
   ]
  },
  {
   "cell_type": "code",
   "execution_count": null,
   "id": "b9584a1f",
   "metadata": {},
   "outputs": [],
   "source": [
    "paths_fc  <- paths_fc[which(grepl(paths_fc, pattern = \"ketoacidosis\")|grepl(paths_fc, pattern = \"PR_0_T0_vs_PR_1_T0\"))]"
   ]
  },
  {
   "cell_type": "code",
   "execution_count": null,
   "id": "75d3c489",
   "metadata": {},
   "outputs": [],
   "source": [
    "dataset_names  <- dataset_names[which(grepl(dataset_names, pattern = \"ketoacidosis\")|grepl(dataset_names, pattern = \"PR_0_T0_vs_PR_1_T0\"))]"
   ]
  },
  {
   "cell_type": "code",
   "execution_count": null,
   "id": "e9904a91",
   "metadata": {
    "scrolled": false
   },
   "outputs": [],
   "source": [
    "dataset_names"
   ]
  },
  {
   "cell_type": "code",
   "execution_count": null,
   "id": "f74bfa71",
   "metadata": {},
   "outputs": [],
   "source": [
    "paths_fc"
   ]
  },
  {
   "cell_type": "code",
   "execution_count": null,
   "id": "c9ab1ca0",
   "metadata": {},
   "outputs": [],
   "source": [
    "fc.df  <- read_csv(paths_fc[2])  %>% as.data.frame()"
   ]
  },
  {
   "cell_type": "code",
   "execution_count": null,
   "id": "dfcd92ef",
   "metadata": {
    "scrolled": true
   },
   "outputs": [],
   "source": [
    "fc.df"
   ]
  },
  {
   "cell_type": "markdown",
   "id": "e18e1f01",
   "metadata": {},
   "source": [
    "## C7 pathways"
   ]
  },
  {
   "cell_type": "code",
   "execution_count": null,
   "id": "d7f985f5",
   "metadata": {},
   "outputs": [],
   "source": [
    "gsea_all_pathways  <- function(j) {\n",
    "  print(j)\n",
    "fc.df  <- read_csv(paths_fc[j])  %>% as.data.frame()\n",
    "    if(grepl(paths_fc[j], pattern = \"PR_0_T0\")){\n",
    "fc.df  <- fc.df  %>%  arrange(desc(avg_log2FC)) %>% \n",
    "dplyr::filter(grepl(cluster, pattern = \"PR_0 T0\"))  %>% \n",
    "  dplyr::select(gene, avg_log2FC)\n",
    "ranks<- deframe(fc.df)\n",
    "        } else {\n",
    " fc.df  <- fc.df  %>%  arrange(desc(avg_log2FC)) %>% \n",
    "dplyr::filter(grepl(cluster, pattern = \"Keto_1 T0\"))  %>% \n",
    "  dplyr::select(gene, avg_log2FC)\n",
    "ranks<- deframe(fc.df)       \n",
    "    }\n",
    "fgseaRes <- fgsea(pathways = fgsea_sets, \n",
    "                 stats = ranks)\n",
    " fgseaRes$dataset  <-   gsub(dataset_names[j], pattern = \".csv\", replacement = \"\")\n",
    " return(fgseaRes)\n",
    "    }"
   ]
  },
  {
   "cell_type": "code",
   "execution_count": null,
   "id": "a41d799b",
   "metadata": {
    "scrolled": true
   },
   "outputs": [],
   "source": [
    "gsea  <- map(.x = c(1:length(paths_fc)), .f = gsea_all_pathways)"
   ]
  },
  {
   "cell_type": "code",
   "execution_count": null,
   "id": "5a2d0be4",
   "metadata": {},
   "outputs": [],
   "source": [
    "gseas  <- bind_rows(gsea)"
   ]
  },
  {
   "cell_type": "code",
   "execution_count": null,
   "id": "293a6a8e",
   "metadata": {
    "scrolled": true
   },
   "outputs": [],
   "source": [
    "gseas  %>% arrange(padj)"
   ]
  },
  {
   "cell_type": "code",
   "execution_count": null,
   "id": "e19c9f6e",
   "metadata": {},
   "outputs": [],
   "source": [
    "dir.create(\"../tables/gsea\")"
   ]
  },
  {
   "cell_type": "code",
   "execution_count": null,
   "id": "eafb60db",
   "metadata": {},
   "outputs": [],
   "source": [
    "gseas_df  <- gseas  %>% as.data.frame"
   ]
  },
  {
   "cell_type": "code",
   "execution_count": null,
   "id": "bff7b789",
   "metadata": {
    "scrolled": true
   },
   "outputs": [],
   "source": [
    "gseas_df  <- gseas_df  %>% mutate(\n",
    "    leadingEdge2 = paste(leadingEdge))"
   ]
  },
  {
   "cell_type": "code",
   "execution_count": null,
   "id": "58144411",
   "metadata": {},
   "outputs": [],
   "source": [
    "gseas_df$leadingEdge  <- NULL"
   ]
  },
  {
   "cell_type": "code",
   "execution_count": null,
   "id": "78603eed",
   "metadata": {},
   "outputs": [],
   "source": [
    "write.csv(gseas_df, \"../tables/gsea/gsea_fold_changes_for_heatmap_ketoPR.csv\")"
   ]
  },
  {
   "cell_type": "code",
   "execution_count": null,
   "id": "69b64af2",
   "metadata": {},
   "outputs": [],
   "source": [
    "gseas_df"
   ]
  },
  {
   "cell_type": "markdown",
   "id": "6064c9af",
   "metadata": {},
   "source": [
    "## Hallmark pathways"
   ]
  },
  {
   "cell_type": "code",
   "execution_count": null,
   "id": "4ca844bd",
   "metadata": {},
   "outputs": [],
   "source": [
    "m_df<- msigdbr(species = \"Homo sapiens\", category = \"H\")\n",
    "\n",
    "\n",
    "fgsea_sets<- m_df %>% split(x = .$gene_symbol, f = .$gs_name)"
   ]
  },
  {
   "cell_type": "code",
   "execution_count": null,
   "id": "98d6bee8",
   "metadata": {
    "scrolled": true
   },
   "outputs": [],
   "source": [
    "names(fgsea_sets)"
   ]
  },
  {
   "cell_type": "code",
   "execution_count": null,
   "id": "67c1ba78",
   "metadata": {},
   "outputs": [],
   "source": [
    "gsea_all_pathways  <- function(j) {\n",
    "  print(j)\n",
    "fc.df  <- read_csv(paths_fc[j])  %>% as.data.frame()\n",
    "    if(grepl(paths_fc[j], pattern = \"PR_0_T0\")){\n",
    "fc.df  <- fc.df  %>%  arrange(desc(avg_log2FC)) %>% \n",
    "dplyr::filter(grepl(cluster, pattern = \"PR_0 T0\"))  %>% \n",
    "  dplyr::select(gene, avg_log2FC)\n",
    "ranks<- deframe(fc.df)\n",
    "        } else {\n",
    " fc.df  <- fc.df  %>%  arrange(desc(avg_log2FC)) %>% \n",
    "dplyr::filter(grepl(cluster, pattern = \"Keto_1 T0\"))  %>% \n",
    "  dplyr::select(gene, avg_log2FC)\n",
    "ranks<- deframe(fc.df)       \n",
    "    }\n",
    "fgseaRes <- fgsea(pathways = fgsea_sets, \n",
    "                 stats = ranks)\n",
    " fgseaRes$dataset  <-   gsub(dataset_names[j], pattern = \".csv\", replacement = \"\")\n",
    " return(fgseaRes)\n",
    "    }"
   ]
  },
  {
   "cell_type": "code",
   "execution_count": null,
   "id": "d8d3e27a",
   "metadata": {
    "scrolled": true
   },
   "outputs": [],
   "source": [
    "gsea  <- map(.x = c(1:length(paths_fc)), .f = gsea_all_pathways)"
   ]
  },
  {
   "cell_type": "code",
   "execution_count": null,
   "id": "01d01de4",
   "metadata": {},
   "outputs": [],
   "source": [
    "gseas  <- bind_rows(gsea)"
   ]
  },
  {
   "cell_type": "code",
   "execution_count": null,
   "id": "fcf25613",
   "metadata": {
    "scrolled": true
   },
   "outputs": [],
   "source": [
    "gseas  %>% arrange(padj)"
   ]
  },
  {
   "cell_type": "code",
   "execution_count": null,
   "id": "495a532c",
   "metadata": {},
   "outputs": [],
   "source": [
    "gseas_df  <- gseas  %>% as.data.frame"
   ]
  },
  {
   "cell_type": "code",
   "execution_count": null,
   "id": "e5ae7863",
   "metadata": {
    "scrolled": true
   },
   "outputs": [],
   "source": [
    "gseas_df  <- gseas_df  %>% mutate(\n",
    "    leadingEdge2 = paste(leadingEdge))"
   ]
  },
  {
   "cell_type": "code",
   "execution_count": null,
   "id": "a8e98a9b",
   "metadata": {},
   "outputs": [],
   "source": [
    "gseas_df$leadingEdge  <- NULL"
   ]
  },
  {
   "cell_type": "code",
   "execution_count": null,
   "id": "56ba3a05",
   "metadata": {},
   "outputs": [],
   "source": [
    "write.csv(gseas_df, \"../tables/gsea/gsea_fold_changes_for_heatmap_hallmark_ketoPR.csv\")"
   ]
  },
  {
   "cell_type": "code",
   "execution_count": null,
   "id": "0dc1aa1e",
   "metadata": {},
   "outputs": [],
   "source": [
    "gseas_df"
   ]
  },
  {
   "cell_type": "markdown",
   "id": "e01f8941",
   "metadata": {},
   "source": [
    "## Heatmap of selected GSEAS V07"
   ]
  },
  {
   "cell_type": "code",
   "execution_count": null,
   "id": "6c778859",
   "metadata": {},
   "outputs": [],
   "source": [
    "paths_fc  <- list.files(\"../tables/gsea/\", full.names = T)\n"
   ]
  },
  {
   "cell_type": "code",
   "execution_count": null,
   "id": "38d7fc59",
   "metadata": {},
   "outputs": [],
   "source": [
    "paths_fc  <- paths_fc[grepl(paths_fc, pattern = \"gsea_fold_changes_for_heatmap\")]"
   ]
  },
  {
   "cell_type": "code",
   "execution_count": null,
   "id": "a73e58d6",
   "metadata": {},
   "outputs": [],
   "source": [
    "paths_fc"
   ]
  },
  {
   "cell_type": "code",
   "execution_count": null,
   "id": "4d47a87c",
   "metadata": {},
   "outputs": [],
   "source": [
    "test  <- fread(paths_fc[3])"
   ]
  },
  {
   "cell_type": "code",
   "execution_count": null,
   "id": "0c862ace",
   "metadata": {},
   "outputs": [],
   "source": [
    "test"
   ]
  },
  {
   "cell_type": "code",
   "execution_count": null,
   "id": "ad13b7bb",
   "metadata": {},
   "outputs": [],
   "source": [
    "gseas  <- map(paths_fc, .f = fread)"
   ]
  },
  {
   "cell_type": "code",
   "execution_count": null,
   "id": "5ea2af0e",
   "metadata": {},
   "outputs": [],
   "source": [
    "gseas  <- bind_rows(gseas)"
   ]
  },
  {
   "cell_type": "code",
   "execution_count": null,
   "id": "74d0774c",
   "metadata": {},
   "outputs": [],
   "source": [
    "gseas$population  <- substr(gseas$dataset, 1,11)"
   ]
  },
  {
   "cell_type": "code",
   "execution_count": null,
   "id": "9486ecbd",
   "metadata": {},
   "outputs": [],
   "source": [
    "table(gseas$population)"
   ]
  },
  {
   "cell_type": "code",
   "execution_count": null,
   "id": "9fe67a21",
   "metadata": {},
   "outputs": [],
   "source": [
    "gseas  <- gseas  %>% mutate(population2 = ifelse(grepl(population, pattern = \"_nk_\"), substr(population,1,9), population))"
   ]
  },
  {
   "cell_type": "code",
   "execution_count": null,
   "id": "abdf3c23",
   "metadata": {},
   "outputs": [],
   "source": [
    "gseas$population2  %>% table"
   ]
  },
  {
   "cell_type": "code",
   "execution_count": null,
   "id": "600f4c89",
   "metadata": {},
   "outputs": [],
   "source": [
    "gseas  <- gseas  %>% mutate(n1 = as.numeric(nchar(dataset)))  %>% \n",
    "mutate(n2 = n1-12)  %>% \n",
    "mutate(test_type = substr(dataset,n2,n1))  \n"
   ]
  },
  {
   "cell_type": "code",
   "execution_count": null,
   "id": "dbb54fa7",
   "metadata": {},
   "outputs": [],
   "source": [
    "gseas$test_type  %>% table"
   ]
  },
  {
   "cell_type": "code",
   "execution_count": null,
   "id": "dddcb0b7",
   "metadata": {},
   "outputs": [],
   "source": [
    "gseas"
   ]
  },
  {
   "cell_type": "code",
   "execution_count": null,
   "id": "558af423",
   "metadata": {},
   "outputs": [],
   "source": [
    "gs  <- gseas  %>% group_by(dataset)  %>% slice_max(order_by = -log10(padj), n = 10)"
   ]
  },
  {
   "cell_type": "code",
   "execution_count": null,
   "id": "29e59d67",
   "metadata": {},
   "outputs": [],
   "source": [
    "write.csv(gs, \"../tables/gsea/v07heatmap_top_pathways.csv\")"
   ]
  },
  {
   "cell_type": "code",
   "execution_count": null,
   "id": "8cd5804c",
   "metadata": {},
   "outputs": [],
   "source": [
    "plotEnrichment(fgsea_sets[[\"GOLDRATH_EFF_VS_MEMORY_CD8_TCELL_UP\"]],\n",
    "               ranks) + labs(title=\"GOLDRATH_NAIVE_VS_EFF_CD8_TCELL_DN\") +\n",
    "\n",
    "plotEnrichment(fgsea_sets[[\"GOLDRATH_NAIVE_VS_MEMORY_CD8_TCELL_DN\"]],\n",
    "               ranks) + labs(title=\"GOLDRATH_NAIVE_VS_MEMORY_CD8_TCELL_DN\") +\n",
    "\n",
    "plotEnrichment(fgsea_sets[[\"GSE11057_NAIVE_VS_CENT_MEMORY_CD4_TCELL_DN\"]],\n",
    "               ranks) + labs(title=\"GSE11057_NAIVE_VS_CENT_MEMORY_CD4_TCELL_DN\") \n",
    "\n",
    "\n",
    "\n",
    "\n",
    "plotEnrichment(fgsea_sets[[\"GOLDRATH_EFF_VS_MEMORY_CD8_TCELL_DN\"]],\n",
    "               ranks) + labs(title=\"GOLDRATH_EFF_VS_MEMORY_CD8_TCELL_DN\") + \n",
    "\n",
    "plotEnrichment(fgsea_sets[[\"GOLDRATH_NAIVE_VS_EFF_CD8_TCELL_UP\"]],\n",
    "               ranks) + labs(title=\"GOLDRATH_NAIVE_VS_EFF_CD8_TCELL_UP\") +\n",
    "\n",
    "plotEnrichment(fgsea_sets[[\"GOLDRATH_NAIVE_VS_MEMORY_CD8_TCELL_UP\"]],\n",
    "               ranks) + labs(title=\"GOLDRATH_NAIVE_VS_MEMORY_CD8_TCELL_UP\") +\n",
    "\n",
    "plotEnrichment(fgsea_sets[[\"GSE11057_NAIVE_VS_CENT_MEMORY_CD4_TCELL_UP\"]],\n",
    "               ranks) + labs(title=\"GSE11057_NAIVE_VS_CENT_MEMORY_CD4_TCELL_UP\") \n",
    "\n",
    "\n",
    "\n",
    "plotEnrichment(fgsea_sets[[\"GSE11057_NAIVE_VS_CENT_MEMORY_CD4_TCELL_UP\"]],\n",
    "               ranks) + labs(title=\"GSE11057_NAIVE_VS_CENT_MEMORY_CD4_TCELL_UP\") +\n",
    "\n",
    "plotEnrichment(fgsea_sets[[\"GSE11057_NAIVE_VS_EFF_MEMORY_CD4_TCELL_DN\"]],\n",
    "               ranks) + labs(title=\"GSE11057_NAIVE_VS_EFF_MEMORY_CD4_TCELL_DN\") +\n",
    "\n",
    "plotEnrichment(fgsea_sets[[\"GSE11057_NAIVE_VS_EFF_MEMORY_CD4_TCELL_UP\"]],\n",
    "               ranks) + labs(title=\"GSE11057_NAIVE_VS_EFF_MEMORY_CD4_TCELL_UP\") +\n",
    "\n",
    "plotEnrichment(fgsea_sets[[\"GSE11057_NAIVE_VS_MEMORY_CD4_TCELL_DN\"]],\n",
    "               ranks) + labs(title=\"GSE11057_NAIVE_VS_MEMORY_CD4_TCELL_DN\") \n",
    "\n",
    "\n",
    "options(repr.plot.width = 5, repr.plot.height = 3)\n",
    "plotEnrichment(fgsea_sets[[\"GSE11057_NAIVE_VS_MEMORY_CD4_TCELL_DN\"]],\n",
    "               ranks) + labs(title=\"GSE11057_NAIVE_VS_MEMORY_CD4_TCELL_DN\") \n",
    "\n",
    "plotEnrichment(fgsea_sets[[\"GSE11057_NAIVE_VS_MEMORY_CD4_TCELL_UP\"]],\n",
    "               ranks) + labs(title=\"GSE11057_NAIVE_VS_MEMORY_CD4_TCELL_UP\") \n",
    "\n",
    "plotEnrichment(fgsea_sets[[\"GSE11057_NAIVE_VS_MEMORY_CD4_TCELL_UP\"]],\n",
    "               ranks) + labs(title=\"GSE11057_NAIVE_VS_MEMORY_CD4_TCELL_UP\") +\n",
    "\n",
    "plotEnrichment(fgsea_sets[[\"GSE13738_RESTING_VS_BYSTANDER_ACTIVATED_CD4_TCELL_DN\"]],\n",
    "               ranks) + labs(title=\"GSE13738_RESTING_VS_BYSTANDER_ACTIVATED_CD4_TCELL_DN\") +\n",
    "\n",
    "plotEnrichment(fgsea_sets[[\"GSE17974_0H_VS_24H_IN_VITRO_ACT_CD4_TCELL_DN\"]],\n",
    "               ranks) + labs(title=\"GSE17974_0H_VS_24H_IN_VITRO_ACT_CD4_TCELL_DN\") +\n",
    "\n",
    "plotEnrichment(fgsea_sets[[\"GSE17974_0H_VS_24H_IN_VITRO_ACT_CD4_TCELL_UP\"]],\n",
    "               ranks) + labs(title=\"GSE17974_0H_VS_24H_IN_VITRO_ACT_CD4_TCELL_UP\") \n"
   ]
  },
  {
   "cell_type": "code",
   "execution_count": null,
   "id": "a05d3fd8",
   "metadata": {},
   "outputs": [],
   "source": [
    "selected_pathways  <- c('HALLMARK_TNFA_SIGNALING_VIA_NFKB',\n",
    "'HALLMARK_OXIDATIVE_PHOSPHORYLATION',\n",
    "\n",
    "'HALLMARK_INTERFERON_ALPHA_RESPONSE',\n",
    "'HALLMARK_INTERFERON_GAMMA_RESPONSE',\n",
    "                        \"GSE17974_0H_VS_24H_IN_VITRO_ACT_CD4_TCELL_UP\",\n",
    "                        \"GSE11057_NAIVE_VS_EFF_MEMORY_CD4_TCELL_UP\",\n",
    "                        \n",
    "\"GSE11057_NAIVE_VS_MEMORY_CD4_TCELL_UP\",\n",
    "\"GOLDRATH_NAIVE_VS_MEMORY_CD8_TCELL_DN\",\n",
    "'GOLDRATH_EFF_VS_MEMORY_CD8_TCELL_UP',\n",
    "'GOLDRATH_NAIVE_VS_EFF_CD8_TCELL_DN'\n",
    ")"
   ]
  },
  {
   "cell_type": "code",
   "execution_count": null,
   "id": "9f4ecc0a",
   "metadata": {},
   "outputs": [],
   "source": [
    "names(gseas$population2  %>% table) %in% c(\n",
    "'cd8_l3_prol',\n",
    "'cd8_l3_tcm_',\n",
    "'cd4_l3_th1t7',\n",
    "'cd4_l3_temr',\n",
    "'cd8_l3_temr',\n",
    "'cd4_l3_tfh_',\n",
    "'cd8_l3_naiv',\n",
    "'cd4_l3_naiv',\n",
    "'cd4_l3_th2_',\n",
    "'cd4_l3_nfkb',\n",
    "'cd4_l2_unc_',\n",
    "'cd4_l3_treg',\n",
    "'cd4_l3_isag',\n",
    "'cd4_l3_prol',\n",
    "'cd8_l3_tem_',\n",
    "'cd8_l2_nk',\n",
    "'cd8_l2_unc_'    \n",
    ")"
   ]
  },
  {
   "cell_type": "code",
   "execution_count": null,
   "id": "0a3c66a5",
   "metadata": {},
   "outputs": [],
   "source": [
    "names(gseas$population2  %>% table)[!(names(gseas$population2  %>% table) %in% c(\n",
    "'cd8_l3_prol',\n",
    "'cd8_l3_tcm_',\n",
    "'cd4_l3_th1t7',\n",
    "'cd4_l3_temr',\n",
    "'cd8_l3_temr',\n",
    "'cd4_l3_tfh_',\n",
    "'cd8_l3_naiv',\n",
    "'cd4_l3_naiv',\n",
    "'cd4_l3_th2_',\n",
    "'cd4_l3_nfkb',\n",
    "'cd4_l2_unc_',\n",
    "'cd4_l3_treg',\n",
    "'cd4_l3_isag',\n",
    "'cd4_l3_prol',\n",
    "'cd8_l3_tem_',\n",
    "'cd8_l2_nk',\n",
    "'cd8_l2_unc_'    \n",
    "))]"
   ]
  },
  {
   "cell_type": "code",
   "execution_count": null,
   "id": "1c3802a0",
   "metadata": {},
   "outputs": [],
   "source": [
    "options(repr.plot.height = 8, repr.plot.width = 24)\n",
    "gseas  %>% dplyr::filter(pathway %in% selected_pathways &\n",
    "                        ((population2 %in% c(\"cd8_l1_full\",\"cd4_l1_full\",\"cd4_l2_subc\",\"cd8_l2_subc\")) == F))  %>% \n",
    "ggplot(aes(x = factor(population2, levels = c(\n",
    "'cd8_l3_prol',\n",
    "'cd8_l3_tcm_',\n",
    "'cd4_l3_th1t',\n",
    "'cd4_l3_temr',\n",
    "'cd8_l3_temr',\n",
    "'cd4_l3_tfh_',\n",
    "'cd8_l3_naiv',\n",
    "'cd4_l3_naiv',\n",
    "'cd4_l3_th2_',\n",
    "'cd4_l3_nfkb',\n",
    "'cd4_l2_unc_',\n",
    "'cd4_l3_treg',\n",
    "'cd4_l3_isag',\n",
    "'cd4_l3_prol',\n",
    "'cd8_l3_tem_',\n",
    "'cd8_l2_nk',\n",
    "'cd8_l2_unc_'    \n",
    ")), y = pathway)) +\n",
    "geom_point(aes(size = -log(padj), color = NES, alpha = padj<0.05)) +\n",
    "scale_alpha_manual(values = c(0,1)) +\n",
    "facet_grid(cols = vars(test_type), space = \"free\", scales = \"free\") +\n",
    "scale_color_gradient2(low = \"blue\", mid = \"white\", high = \"red\") + \n",
    "xlab(\"\") + ylab(\"\") +\n",
    "theme_classic() + theme(axis.text.x = element_text(angle = 90),\n",
    "                       axis.ticks.x = element_blank()) + ggtheme()\n",
    "ggsave(\"../figures/gsea/heatmap_gsea.svg\", width = 55, height = 16, units = \"cm\")"
   ]
  },
  {
   "cell_type": "code",
   "execution_count": null,
   "id": "cba9436d",
   "metadata": {},
   "outputs": [],
   "source": [
    "selected_pathways  <- c(\n",
    " 'HALLMARK_INTERFERON_ALPHA_RESPONSE',\n",
    "'HALLMARK_INTERFERON_GAMMA_RESPONSE',\n",
    "'GSE13485_DAY7_VS_DAY21_YF17D_VACCINE_PBMC_UP',\n",
    "'GOLDRATH_EFF_VS_MEMORY_CD8_TCELL_UP',\n",
    "'GOLDRATH_NAIVE_VS_EFF_CD8_TCELL_DN')\n",
    "\n",
    "options(repr.plot.height = 5, repr.plot.width = 24)\n",
    "gseas  %>% dplyr::filter(pathway %in% selected_pathways)  %>% \n",
    "ggplot(aes(x = population, y = factor(pathway, levels = selected_pathways))) +\n",
    "geom_point(aes(size = -log(padj), color = NES, alpha = padj<0.05)) +\n",
    "scale_alpha_manual(values = c(0,1)) +\n",
    "facet_grid(cols = vars(test_type), space = \"free\", scales = \"free\") +\n",
    "scale_color_gradient2(low = \"blue\", mid = \"white\", high = \"red\") + \n",
    "theme_classic() + theme(axis.text.x = element_text(angle = 90)) + ggtheme()"
   ]
  },
  {
   "cell_type": "code",
   "execution_count": null,
   "id": "7335f237",
   "metadata": {},
   "outputs": [],
   "source": [
    "selected_pathways  <- c(\n",
    "    \"GSE25087_FETAL_VS_ADULT_TCONV_UP\",\n",
    "                       \"GSE36476_CTRL_VS_TSST_ACT_40H_MEMORY_CD4_TCELL_YOUNG_DN\",\n",
    "                       \"GSE22886_NAIVE_CD4_TCELL_VS_48H_ACT_TH2_DN\",\n",
    "    \"GSE24634_NAIVE_CD4_TCELL_VS_DAY7_IL4_CONV_TREG_UP\",\n",
    "\"GSE17974_0H_VS_24H_IN_VITRO_ACT_CD4_TCELL_UP\",\n",
    "    \"GSE36476_CTRL_VS_TSST_ACT_72H_MEMORY_CD4_TCELL_YOUNG_UP\")\n",
    "\n",
    "options(repr.plot.height = 5, repr.plot.width = 24)\n",
    "gseas  %>% dplyr::filter(pathway %in% selected_pathways)  %>% \n",
    "ggplot(aes(x = population, y = factor(pathway, levels = selected_pathways))) +\n",
    "geom_point(aes(size = -log(padj), color = NES, alpha = padj<0.05)) +\n",
    "scale_alpha_manual(values = c(0,1)) +\n",
    "facet_grid(cols = vars(test_type), space = \"free\", scales = \"free\") +\n",
    "scale_color_gradient2(low = \"blue\", mid = \"white\", high = \"red\") + \n",
    "theme_classic() + theme(axis.text.x = element_text(angle = 90)) + ggtheme()"
   ]
  },
  {
   "cell_type": "code",
   "execution_count": null,
   "id": "50f10099",
   "metadata": {
    "scrolled": true
   },
   "outputs": [],
   "source": [
    "gseas  %>% dplyr::filter(test_type == \"_ketoacidosis\" & padj < 0.05 & NES > 0)  %>% \n",
    "group_by(pathway)  %>% tally()  %>% arrange(desc(n))"
   ]
  },
  {
   "cell_type": "code",
   "execution_count": null,
   "id": "32172eb3",
   "metadata": {},
   "outputs": [],
   "source": [
    "gseas  %>% dplyr::filter(pathway %in% c(\"HALLMARK_INTERFERON_ALPHA_RESPONSE\"))"
   ]
  },
  {
   "cell_type": "markdown",
   "id": "2bb54102",
   "metadata": {},
   "source": [
    "### GSEA DESeq"
   ]
  },
  {
   "cell_type": "markdown",
   "id": "19930c33",
   "metadata": {},
   "source": [
    "### GSEA NFKB"
   ]
  },
  {
   "cell_type": "code",
   "execution_count": null,
   "id": "38456aaf",
   "metadata": {},
   "outputs": [],
   "source": [
    "paths_pathways  <- list.files(\"../data/nfkb/\", full.names = T)\n",
    "pathway_names  <- list.files(\"../data/nfkb/\", full.names = F)\n"
   ]
  },
  {
   "cell_type": "code",
   "execution_count": null,
   "id": "7a5b994e",
   "metadata": {
    "scrolled": false
   },
   "outputs": [],
   "source": [
    "nfkb_genes1  <- str_to_upper(read_csv(\"../data/nfkb/Paper_I1_cluster.csv\")$Genes)\n",
    "nfkb_genes2  <- str_to_upper(read_csv(\"../data/nfkb/Paper_I2_cluster.csv\")$Genes)\n",
    "nfkb_genes3  <- str_to_upper(read_csv(\"../data/nfkb/Paper_I3_cluster.csv\")$Genes)\n",
    "nfkb_genes6  <- str_to_upper(read_csv(\"../data/nfkb/Paper_I6_cluster.csv\")$Genes)\n",
    "\n",
    "paths_fc  <- list.files(\"../tables/fold_change\", full.names = T)\n",
    "dataset_names  <- list.files(\"../tables/fold_change\", full.names = F)"
   ]
  },
  {
   "cell_type": "code",
   "execution_count": null,
   "id": "4451a94f",
   "metadata": {},
   "outputs": [],
   "source": [
    "gsea_nfkb  <- function(j) {\n",
    "  print(j)\n",
    "fc.df  <- read_csv(paths_fc[j])  %>% as.data.frame()\n",
    "fc.df  <- fc.df  %>%  arrange(desc(avg_log2FC)) %>% \n",
    "dplyr::filter(cluster == \"Dia\")  %>% \n",
    "  dplyr::select(gene, avg_log2FC)\n",
    "ranks<- deframe(fc.df)\n",
    "fgseaRes <- fgsea(pathways = list(nfkb_genes1 = nfkb_genes1, nfkb_genes2 = nfkb_genes2, \n",
    "                                 nfkb_genes3 = nfkb_genes3, nfkb_genes6 = nfkb_genes6), \n",
    "                 stats = ranks)\n",
    " fgseaRes$dataset  <-   gsub(dataset_names[j], pattern = \".csv\", replacement = \"\")   \n",
    " return(fgseaRes)\n",
    "    }\n"
   ]
  },
  {
   "cell_type": "code",
   "execution_count": null,
   "id": "a0ed1afc",
   "metadata": {},
   "outputs": [],
   "source": [
    "paths_fc"
   ]
  },
  {
   "cell_type": "code",
   "execution_count": null,
   "id": "187ade1e",
   "metadata": {
    "scrolled": true
   },
   "outputs": [],
   "source": [
    "gsea  <- purrr::map(c(1:length(paths_fc)), .f = gsea_nfkb)"
   ]
  },
  {
   "cell_type": "code",
   "execution_count": null,
   "id": "5fd70613",
   "metadata": {},
   "outputs": [],
   "source": [
    "gseas_nfkb  <- bind_rows(gsea)"
   ]
  },
  {
   "cell_type": "code",
   "execution_count": null,
   "id": "85f002a2",
   "metadata": {
    "scrolled": true
   },
   "outputs": [],
   "source": [
    "gseas_nfkb  %>% arrange(padj)"
   ]
  },
  {
   "cell_type": "markdown",
   "id": "34397e64",
   "metadata": {},
   "source": [
    "## GSEA Dia vs. Healthy"
   ]
  },
  {
   "cell_type": "markdown",
   "id": "6ce17e67",
   "metadata": {},
   "source": [
    "### CD4"
   ]
  },
  {
   "cell_type": "code",
   "execution_count": null,
   "id": "b6f2f1c9",
   "metadata": {},
   "outputs": [],
   "source": [
    "m_df<- msigdbr(species = \"Homo sapiens\", category = \"C7\")"
   ]
  },
  {
   "cell_type": "code",
   "execution_count": null,
   "id": "a37c5075",
   "metadata": {},
   "outputs": [],
   "source": [
    "fgsea_sets_hs_c7 <- m_df %>% split(x = .$gene_symbol, f = .$gs_name)"
   ]
  },
  {
   "cell_type": "code",
   "execution_count": null,
   "id": "8b9c67f9",
   "metadata": {},
   "outputs": [],
   "source": [
    "paths_fc  <- list.files(\"../tables/fold_change\", full.names = T)\n",
    "dataset_names  <- list.files(\"../tables/fold_change\", full.names = F)"
   ]
  },
  {
   "cell_type": "code",
   "execution_count": null,
   "id": "2cbf22b8",
   "metadata": {},
   "outputs": [],
   "source": [
    "paths_fc"
   ]
  },
  {
   "cell_type": "code",
   "execution_count": null,
   "id": "763b5de3",
   "metadata": {},
   "outputs": [],
   "source": [
    "paths_fc[10]"
   ]
  },
  {
   "cell_type": "code",
   "execution_count": null,
   "id": "99a94ced",
   "metadata": {},
   "outputs": [],
   "source": [
    "fc.df  <- read_csv(paths_fc[10])  %>% as.data.frame()\n",
    "fc.df  <- fc.df  %>%  arrange(desc(avg_log2FC)) %>% \n",
    "dplyr::filter(cluster == \"Dia\")  %>% \n",
    "  dplyr::select(gene, avg_log2FC)\n",
    "ranks_cd4_t0 <- deframe(fc.df)"
   ]
  },
  {
   "cell_type": "code",
   "execution_count": null,
   "id": "be973002",
   "metadata": {
    "scrolled": true
   },
   "outputs": [],
   "source": [
    "ranks_cd4_t0  "
   ]
  },
  {
   "cell_type": "code",
   "execution_count": null,
   "id": "2e30c787",
   "metadata": {},
   "outputs": [],
   "source": [
    "fgseaRes <- fgsea(pathways = fgsea_sets_hs_c7, \n",
    "                 stats = ranks_cd4_t0)"
   ]
  },
  {
   "cell_type": "code",
   "execution_count": null,
   "id": "434df188",
   "metadata": {},
   "outputs": [],
   "source": [
    "fgseaRes <- fgsea(pathways = fgsea_sets_hs_c7, \n",
    "                 stats = ranks_cd4_t0)\n",
    "\n",
    "fgseaRes  %>% dplyr::filter(grepl(pathway, pattern = \"NAIVE_VS_EFF_MEMORY\"))"
   ]
  },
  {
   "cell_type": "code",
   "execution_count": null,
   "id": "141f46e1",
   "metadata": {
    "scrolled": true
   },
   "outputs": [],
   "source": [
    "fgseaRes  %>% arrange(pval)"
   ]
  },
  {
   "cell_type": "code",
   "execution_count": null,
   "id": "58125c5e",
   "metadata": {},
   "outputs": [],
   "source": [
    "options(repr.plot.width = 5, repr.plot.height = 3)\n",
    "plotEnrichment(fgsea_sets_hs_c7[[\"GSE11057_NAIVE_VS_EFF_MEMORY_CD4_TCELL_DN\"]],\n",
    "               ranks_cd4_t0) + labs(title=\"GSE11057_NAIVE_VS_EFF_MEMORY_CD4_TCELL_DN\") +\n",
    "ylim(c(-0.9,0.4))\n",
    "ggsave(filename = paste0(\"../figures/gsea/GSE11057_NAIVE_VS_EFF_MEMORY_CD4_TCELL_DN.svg\"), \n",
    "       width = 9.5, height = 8, units = \"cm\")\n"
   ]
  },
  {
   "cell_type": "code",
   "execution_count": null,
   "id": "df283cba",
   "metadata": {},
   "outputs": [],
   "source": [
    "plotEnrichment(fgsea_sets_hs_c7[[\"GSE11057_NAIVE_VS_EFF_MEMORY_CD4_TCELL_UP\"]],\n",
    "               ranks_cd4_t0) + labs(title=\"GSE11057_NAIVE_VS_EFF_MEMORY_CD4_TCELL_UP\") +\n",
    "ylim(c(-0.9,0.4))\n",
    "\n",
    "ggsave(filename = paste0(\"../figures/gsea/GSE11057_NAIVE_VS_EFF_MEMORY_CD4_TCELL_UP.svg\"), \n",
    "       width = 9.5, height = 8, units = \"cm\")\n"
   ]
  },
  {
   "cell_type": "code",
   "execution_count": null,
   "id": "72119a62",
   "metadata": {},
   "outputs": [],
   "source": [
    "m_df<- msigdbr(species = \"Homo sapiens\", category = \"C2\")\n",
    "fgsea_sets<- m_df %>% split(x = .$gene_symbol, f = .$gs_name)"
   ]
  },
  {
   "cell_type": "code",
   "execution_count": null,
   "id": "7b6a4723",
   "metadata": {},
   "outputs": [],
   "source": [
    "plotEnrichment(fgsea_sets[[\"REACTOME_INTERFERON_ALPHA_BETA_SIGNALING\"]],\n",
    "               ranks_cd4_t0) + labs(title=\"REACTOME_INTERFERON_ALPHA_BETA_SIGNALING\") +\n",
    "ylim(c(-0.9,0.4))\n",
    "ggsave(filename = paste0(\"../figures/gsea/REACTOME_INTERFERON_ALPHA_BETA_SIGNALING_CD4.svg\"), \n",
    "       width = 9.5, height = 8, units = \"cm\")"
   ]
  },
  {
   "cell_type": "markdown",
   "id": "a68e6241",
   "metadata": {},
   "source": [
    "### CD8"
   ]
  },
  {
   "cell_type": "code",
   "execution_count": null,
   "id": "7b195f13",
   "metadata": {},
   "outputs": [],
   "source": [
    "grep(paths_fc, pattern = \"cd8_l1_full_filt\", value = T)"
   ]
  },
  {
   "cell_type": "code",
   "execution_count": null,
   "id": "a6d77651",
   "metadata": {
    "scrolled": true
   },
   "outputs": [],
   "source": [
    "fc.df  <- read_csv(\"../tables/fold_change/cd8_l1_full_filt.csv\")  %>% as.data.frame()\n",
    "fc.df  <- fc.df  %>%  arrange(desc(avg_log2FC)) %>% \n",
    "dplyr::filter(cluster == \"Dia\")  %>% \n",
    "  dplyr::select(gene, avg_log2FC)\n",
    "ranks_cd8_t0 <- deframe(fc.df)\n",
    "\n",
    "ranks_cd8_t0  "
   ]
  },
  {
   "cell_type": "code",
   "execution_count": null,
   "id": "c5d64f2d",
   "metadata": {},
   "outputs": [],
   "source": [
    "fgseaRes <- fgsea(pathways = fgsea_sets_hs_c7, \n",
    "                 stats = ranks_cd8_t0)"
   ]
  },
  {
   "cell_type": "code",
   "execution_count": null,
   "id": "5f298e65",
   "metadata": {},
   "outputs": [],
   "source": [
    "fgseaRes  %>% dplyr::filter(grepl(pathway, pattern = \"GOLDRATH\"))"
   ]
  },
  {
   "cell_type": "code",
   "execution_count": null,
   "id": "3ad5f3fb",
   "metadata": {},
   "outputs": [],
   "source": [
    "options(repr.plot.width = 5, repr.plot.height = 3)\n",
    "plotEnrichment(fgsea_sets_hs_c7[[\"GOLDRATH_NAIVE_VS_EFF_CD8_TCELL_DN\"]],\n",
    "               ranks_cd8_t0) + labs(title=\"GOLDRATH_NAIVE_VS_EFF_CD8_TCELL_DN\") +\n",
    "ylim(c(-0.7,0.4))\n",
    "\n",
    "ggsave(filename = paste0(\"../figures/gsea/GOLDRATH_NAIVE_VS_EFF_CD8_TCELL_DN.svg\"), \n",
    "       width = 9.5, height = 8, units = \"cm\")\n"
   ]
  },
  {
   "cell_type": "code",
   "execution_count": null,
   "id": "530a1072",
   "metadata": {},
   "outputs": [],
   "source": [
    "plotEnrichment(fgsea_sets_hs_c7[[\"GOLDRATH_NAIVE_VS_EFF_CD8_TCELL_UP\"]],\n",
    "               ranks_cd8_t0) + labs(title=\"GOLDRATH_NAIVE_VS_EFF_CD8_TCELL_UP\") +\n",
    "ylim(c(-0.7,0.4))\n",
    "\n",
    "ggsave(filename = paste0(\"../figures/gsea/GOLDRATH_NAIVE_VS_EFF_CD8_TCELL_UP.svg\"), \n",
    "       width = 9.5, height = 8, units = \"cm\")\n"
   ]
  },
  {
   "cell_type": "code",
   "execution_count": null,
   "id": "0b9a8361",
   "metadata": {},
   "outputs": [],
   "source": [
    "m_df<- msigdbr(species = \"Homo sapiens\", category = \"C2\")\n",
    "fgsea_sets<- m_df %>% split(x = .$gene_symbol, f = .$gs_name)"
   ]
  },
  {
   "cell_type": "code",
   "execution_count": null,
   "id": "d6b2d163",
   "metadata": {},
   "outputs": [],
   "source": [
    "plotEnrichment(fgsea_sets[[\"REACTOME_INTERFERON_ALPHA_BETA_SIGNALING\"]],\n",
    "               ranks_cd8_t0) + labs(title=\"REACTOME_INTERFERON_ALPHA_BETA_SIGNALING\") +\n",
    "ylim(c(-0.7,0.4))\n",
    "\n",
    "ggsave(filename = paste0(\"../figures/gsea/REACTOME_INTERFERON_ALPHA_BETA_SIGNALING_CD8.svg\"), \n",
    "       width = 9.5, height = 8, units = \"cm\")\n"
   ]
  },
  {
   "cell_type": "code",
   "execution_count": null,
   "id": "f214b7e5",
   "metadata": {},
   "outputs": [],
   "source": []
  },
  {
   "cell_type": "markdown",
   "id": "1506b8a8",
   "metadata": {},
   "source": [
    "# GSEA v06"
   ]
  },
  {
   "cell_type": "markdown",
   "id": "336e3910",
   "metadata": {},
   "source": [
    "## C2"
   ]
  },
  {
   "cell_type": "markdown",
   "id": "277c8799",
   "metadata": {},
   "source": [
    "### Dia T0 vs Ctrl"
   ]
  },
  {
   "cell_type": "code",
   "execution_count": null,
   "id": "ed466c14",
   "metadata": {},
   "outputs": [],
   "source": [
    "paths_fc  <- list.files(\"../tables/fold_change\", full.names = T)\n",
    "dataset_names  <- list.files(\"../tables/fold_change\", full.names = F)\n",
    "\n",
    "paths_fc  <- paths_fc[grepl(paths_fc, pattern = \"_Ctrl_vs_DiaT0\")]\n",
    "dataset_names  <- dataset_names[grepl(dataset_names, pattern = \"_Ctrl_vs_DiaT0\")]\n",
    "\n",
    "dataset_names\n",
    "paths_fc"
   ]
  },
  {
   "cell_type": "code",
   "execution_count": null,
   "id": "50dd6553",
   "metadata": {},
   "outputs": [],
   "source": [
    "dataset_names[1]"
   ]
  },
  {
   "cell_type": "code",
   "execution_count": null,
   "id": "0aba16dc",
   "metadata": {},
   "outputs": [],
   "source": [
    "dataset_names[13]"
   ]
  },
  {
   "cell_type": "code",
   "execution_count": null,
   "id": "ee017cec",
   "metadata": {},
   "outputs": [],
   "source": [
    "gsea_all_pathways  <- function(j, category) {\n",
    "    \n",
    "     m_df<- msigdbr(species = \"Homo sapiens\", category = category)\n",
    "     fgsea_sets <- m_df %>% split(x = .$gene_symbol, f = .$gs_name)\n",
    "    fc.df  <- read_csv(paths_fc[j])  %>% as.data.frame()\n",
    "    fc.df  <- fc.df  %>%  arrange(desc(avg_log2FC)) %>% \n",
    "    dplyr::filter(grepl(cluster, pattern = \"Dia\"))  %>% \n",
    "      dplyr::select(gene, avg_log2FC)\n",
    "    ranks <- deframe(fc.df)\n",
    "    fgseaRes <- fgsea(pathways = fgsea_sets, \n",
    "                 stats = ranks)\n",
    "     fgseaRes$dataset  <-   gsub(dataset_names[j], pattern = \".csv\", replacement = \"\")\n",
    "     return(fgseaRes)\n",
    "    \n",
    "    }\n"
   ]
  },
  {
   "cell_type": "code",
   "execution_count": null,
   "id": "0b9ad58f",
   "metadata": {},
   "outputs": [],
   "source": [
    "gsea_t0_cd4_c2  <- gsea_all_pathways(1, \"C2\")"
   ]
  },
  {
   "cell_type": "code",
   "execution_count": null,
   "id": "b5e4b8b7",
   "metadata": {
    "scrolled": true
   },
   "outputs": [],
   "source": [
    "gsea_t0_cd4_c2  <- bind_rows(gsea_t0_cd4_c2)\n",
    "gsea_t0_cd4_c2  %>% arrange(padj)"
   ]
  },
  {
   "cell_type": "code",
   "execution_count": null,
   "id": "55341f24",
   "metadata": {},
   "outputs": [],
   "source": [
    "gsea_t0_cd4_c2$leadingEdge  <- NULL"
   ]
  },
  {
   "cell_type": "code",
   "execution_count": null,
   "id": "4c89eb08",
   "metadata": {},
   "outputs": [],
   "source": [
    "write.csv(gsea_t0_cd4_c2  %>% arrange(padj), \"../tables/gsea/gsea_t0_cd4_c2.csv\")"
   ]
  },
  {
   "cell_type": "code",
   "execution_count": null,
   "id": "5216d59f",
   "metadata": {},
   "outputs": [],
   "source": [
    "gsea_t0_cd8_c2 <- gsea_all_pathways(13, \"C2\")"
   ]
  },
  {
   "cell_type": "code",
   "execution_count": null,
   "id": "d0e1140b",
   "metadata": {
    "scrolled": true
   },
   "outputs": [],
   "source": [
    "gsea_t0_cd8_c2  <- bind_rows(gsea_t0_cd8_c2)\n",
    "gsea_t0_cd8_c2  %>% arrange(padj)"
   ]
  },
  {
   "cell_type": "code",
   "execution_count": null,
   "id": "5d492697",
   "metadata": {},
   "outputs": [],
   "source": [
    "gsea_t0_cd8_c2$leadingEdge  <- NULL\n",
    "\n",
    "write.csv(gsea_t0_cd8_c2  %>% arrange(padj), \"../tables/gsea/gsea_t0_cd8_c2.csv\")"
   ]
  },
  {
   "cell_type": "markdown",
   "id": "ddb5044b",
   "metadata": {},
   "source": [
    "### Dia T1 vs Ctrl"
   ]
  },
  {
   "cell_type": "code",
   "execution_count": null,
   "id": "0e12168d",
   "metadata": {},
   "outputs": [],
   "source": [
    "paths_fc  <- list.files(\"../tables/fold_change\", full.names = T)\n",
    "dataset_names  <- list.files(\"../tables/fold_change\", full.names = F)\n",
    "\n",
    "paths_fc  <- paths_fc[grepl(paths_fc, pattern = \"_Ctrl_vs_DiaT1\")]\n",
    "dataset_names  <- dataset_names[grepl(dataset_names, pattern = \"_Ctrl_vs_DiaT1\")]\n",
    "\n",
    "dataset_names\n",
    "paths_fc"
   ]
  },
  {
   "cell_type": "code",
   "execution_count": null,
   "id": "0652835e",
   "metadata": {},
   "outputs": [],
   "source": [
    "dataset_names[1]"
   ]
  },
  {
   "cell_type": "code",
   "execution_count": null,
   "id": "6e6d3ecf",
   "metadata": {},
   "outputs": [],
   "source": [
    "dataset_names[13]"
   ]
  },
  {
   "cell_type": "code",
   "execution_count": null,
   "id": "eba98f4d",
   "metadata": {},
   "outputs": [],
   "source": [
    "gsea_t1_cd4_c2  <- gsea_all_pathways(1, \"C2\")"
   ]
  },
  {
   "cell_type": "code",
   "execution_count": null,
   "id": "a8d4980d",
   "metadata": {
    "scrolled": true
   },
   "outputs": [],
   "source": [
    "gsea_t1_cd4_c2  <- bind_rows(gsea_t1_cd4_c2)\n",
    "gsea_t1_cd4_c2  %>% arrange(padj)"
   ]
  },
  {
   "cell_type": "code",
   "execution_count": null,
   "id": "428b1d64",
   "metadata": {},
   "outputs": [],
   "source": [
    "gsea_t1_cd4_c2$leadingEdge  <- NULL"
   ]
  },
  {
   "cell_type": "code",
   "execution_count": null,
   "id": "8d099601",
   "metadata": {},
   "outputs": [],
   "source": [
    "write.csv(gsea_t1_cd4_c2  %>% arrange(padj), \"../tables/gsea/gsea_t1_cd4_c2.csv\")"
   ]
  },
  {
   "cell_type": "code",
   "execution_count": null,
   "id": "f458ee53",
   "metadata": {},
   "outputs": [],
   "source": [
    "gsea_t1_cd8_c2 <- gsea_all_pathways(13, \"C2\")"
   ]
  },
  {
   "cell_type": "code",
   "execution_count": null,
   "id": "89e12976",
   "metadata": {
    "scrolled": true
   },
   "outputs": [],
   "source": [
    "gsea_t1_cd8_c2  <- bind_rows(gsea_t1_cd8_c2)\n",
    "gsea_t1_cd8_c2  %>% arrange(padj)"
   ]
  },
  {
   "cell_type": "code",
   "execution_count": null,
   "id": "72873d72",
   "metadata": {},
   "outputs": [],
   "source": [
    "gsea_t1_cd8_c2$leadingEdge  <- NULL\n",
    "\n",
    "write.csv(gsea_t1_cd8_c2  %>% arrange(padj), \"../tables/gsea/gsea_t1_cd8_c2.csv\")"
   ]
  },
  {
   "cell_type": "markdown",
   "id": "013136fe",
   "metadata": {},
   "source": [
    "## C7"
   ]
  },
  {
   "cell_type": "markdown",
   "id": "8b707fec",
   "metadata": {},
   "source": [
    "### Dia T0 vs Ctrl"
   ]
  },
  {
   "cell_type": "code",
   "execution_count": null,
   "id": "6d9b1576",
   "metadata": {},
   "outputs": [],
   "source": [
    "paths_fc  <- list.files(\"../tables/fold_change\", full.names = T)\n",
    "dataset_names  <- list.files(\"../tables/fold_change\", full.names = F)\n",
    "\n",
    "paths_fc  <- paths_fc[grepl(paths_fc, pattern = \"_Ctrl_vs_DiaT0\")]\n",
    "dataset_names  <- dataset_names[grepl(dataset_names, pattern = \"_Ctrl_vs_DiaT0\")]\n",
    "\n",
    "dataset_names\n",
    "paths_fc"
   ]
  },
  {
   "cell_type": "code",
   "execution_count": null,
   "id": "7cda0abe",
   "metadata": {},
   "outputs": [],
   "source": [
    "dataset_names[1]"
   ]
  },
  {
   "cell_type": "code",
   "execution_count": null,
   "id": "c5407c17",
   "metadata": {},
   "outputs": [],
   "source": [
    "dataset_names[13]"
   ]
  },
  {
   "cell_type": "code",
   "execution_count": null,
   "id": "9eb508ed",
   "metadata": {},
   "outputs": [],
   "source": [
    "gsea_all_pathways  <- function(j, category) {\n",
    "    \n",
    "     m_df<- msigdbr(species = \"Homo sapiens\", category = category)\n",
    "     fgsea_sets <- m_df %>% split(x = .$gene_symbol, f = .$gs_name)\n",
    "    fc.df  <- read_csv(paths_fc[j])  %>% as.data.frame()\n",
    "    fc.df  <- fc.df  %>%  arrange(desc(avg_log2FC)) %>% \n",
    "    dplyr::filter(grepl(cluster, pattern = \"Dia\"))  %>% \n",
    "      dplyr::select(gene, avg_log2FC)\n",
    "    ranks <- deframe(fc.df)\n",
    "    fgseaRes <- fgsea(pathways = fgsea_sets, \n",
    "                 stats = ranks)\n",
    "     fgseaRes$dataset  <-   gsub(dataset_names[j], pattern = \".csv\", replacement = \"\")\n",
    "     return(fgseaRes)\n",
    "    \n",
    "    }\n"
   ]
  },
  {
   "cell_type": "code",
   "execution_count": null,
   "id": "bb841fc1",
   "metadata": {},
   "outputs": [],
   "source": [
    "gsea_t0_cd4_c7  <- gsea_all_pathways(1, \"C7\")"
   ]
  },
  {
   "cell_type": "code",
   "execution_count": null,
   "id": "64ecd2ca",
   "metadata": {
    "scrolled": true
   },
   "outputs": [],
   "source": [
    "gsea_t0_cd4_c7  <- bind_rows(gsea_t0_cd4_c7)\n",
    "gsea_t0_cd4_c7  %>% arrange(padj)"
   ]
  },
  {
   "cell_type": "code",
   "execution_count": null,
   "id": "131aa915",
   "metadata": {},
   "outputs": [],
   "source": [
    "gsea_t0_cd4_c7$leadingEdge  <- NULL"
   ]
  },
  {
   "cell_type": "code",
   "execution_count": null,
   "id": "85791571",
   "metadata": {},
   "outputs": [],
   "source": [
    "write.csv(gsea_t0_cd4_c7  %>% arrange(padj), \"../tables/gsea/gsea_t0_cd4_c7.csv\")"
   ]
  },
  {
   "cell_type": "code",
   "execution_count": null,
   "id": "b2c4a2eb",
   "metadata": {},
   "outputs": [],
   "source": [
    "gsea_t0_cd8_c7 <- gsea_all_pathways(13, \"C7\")"
   ]
  },
  {
   "cell_type": "code",
   "execution_count": null,
   "id": "df4a6ed9",
   "metadata": {
    "scrolled": true
   },
   "outputs": [],
   "source": [
    "gsea_t0_cd8_c7  <- bind_rows(gsea_t0_cd8_c7)\n",
    "gsea_t0_cd8_c7  %>% arrange(padj)"
   ]
  },
  {
   "cell_type": "code",
   "execution_count": null,
   "id": "92f374ec",
   "metadata": {},
   "outputs": [],
   "source": [
    "gsea_t0_cd8_c7$leadingEdge  <- NULL\n",
    "\n",
    "write.csv(gsea_t0_cd8_c7  %>% arrange(padj), \"../tables/gsea/gsea_t0_cd8_c7.csv\")"
   ]
  },
  {
   "cell_type": "markdown",
   "id": "33cb2fa6",
   "metadata": {},
   "source": [
    "### Dia T1 vs Ctrl"
   ]
  },
  {
   "cell_type": "code",
   "execution_count": null,
   "id": "852aa8f4",
   "metadata": {},
   "outputs": [],
   "source": [
    "paths_fc  <- list.files(\"../tables/fold_change\", full.names = T)\n",
    "dataset_names  <- list.files(\"../tables/fold_change\", full.names = F)\n",
    "\n",
    "paths_fc  <- paths_fc[grepl(paths_fc, pattern = \"_Ctrl_vs_DiaT1\")]\n",
    "dataset_names  <- dataset_names[grepl(dataset_names, pattern = \"_Ctrl_vs_DiaT1\")]\n",
    "\n",
    "dataset_names\n",
    "paths_fc"
   ]
  },
  {
   "cell_type": "code",
   "execution_count": null,
   "id": "14cc59ce",
   "metadata": {},
   "outputs": [],
   "source": [
    "dataset_names[1]"
   ]
  },
  {
   "cell_type": "code",
   "execution_count": null,
   "id": "b5dcd3c1",
   "metadata": {},
   "outputs": [],
   "source": [
    "dataset_names[13]"
   ]
  },
  {
   "cell_type": "code",
   "execution_count": null,
   "id": "7eece7a8",
   "metadata": {},
   "outputs": [],
   "source": [
    "gsea_t1_cd4_c7  <- gsea_all_pathways(1, \"C7\")"
   ]
  },
  {
   "cell_type": "code",
   "execution_count": null,
   "id": "ea0defa2",
   "metadata": {
    "scrolled": true
   },
   "outputs": [],
   "source": [
    "gsea_t1_cd4_c7  <- bind_rows(gsea_t1_cd4_c7)\n",
    "gsea_t1_cd4_c7  %>% arrange(padj)"
   ]
  },
  {
   "cell_type": "code",
   "execution_count": null,
   "id": "a33fd6bb",
   "metadata": {},
   "outputs": [],
   "source": [
    "gsea_t1_cd4_c7$leadingEdge  <- NULL"
   ]
  },
  {
   "cell_type": "code",
   "execution_count": null,
   "id": "7955bb0c",
   "metadata": {},
   "outputs": [],
   "source": [
    "write.csv(gsea_t1_cd4_c7  %>% arrange(padj), \"../tables/gsea/gsea_t1_cd4_c7.csv\")"
   ]
  },
  {
   "cell_type": "code",
   "execution_count": null,
   "id": "c67b2529",
   "metadata": {},
   "outputs": [],
   "source": [
    "gsea_t1_cd8_c7 <- gsea_all_pathways(13, \"C7\")"
   ]
  },
  {
   "cell_type": "code",
   "execution_count": null,
   "id": "f63d2d4e",
   "metadata": {},
   "outputs": [],
   "source": [
    "gsea_t1_cd8_c7  <- bind_rows(gsea_t1_cd8_c7)\n",
    "gsea_t1_cd8_c7  %>% arrange(padj)"
   ]
  },
  {
   "cell_type": "code",
   "execution_count": null,
   "id": "c3864bb9",
   "metadata": {},
   "outputs": [],
   "source": [
    "gsea_t1_cd8_c7$leadingEdge  <- NULL\n",
    "\n",
    "write.csv(gsea_t1_cd8_c7  %>% arrange(padj), \"../tables/gsea/gsea_t1_cd8_c7.csv\")"
   ]
  },
  {
   "cell_type": "markdown",
   "id": "23af7742",
   "metadata": {},
   "source": [
    "# Heatmap"
   ]
  },
  {
   "cell_type": "code",
   "execution_count": null,
   "id": "03fd75f0",
   "metadata": {},
   "outputs": [],
   "source": [
    "paths_fc2  <- list.files(\"../tables/fold_change\", full.names = T)\n",
    "dataset_names2  <- list.files(\"../tables/fold_change\", full.names = F)\n"
   ]
  },
  {
   "cell_type": "code",
   "execution_count": null,
   "id": "0b503001",
   "metadata": {},
   "outputs": [],
   "source": [
    "paths_fc2"
   ]
  },
  {
   "cell_type": "code",
   "execution_count": null,
   "id": "571e7aa1",
   "metadata": {},
   "outputs": [],
   "source": [
    "paths_fc  <- paths_fc2[grepl(paths_fc2, pattern = \"l3\")|grepl(paths_fc2, pattern = \"cd8_l2_unc\")|\n",
    "                      grepl(paths_fc2, pattern = \"cd4_l2_unc\")|grepl(paths_fc2, pattern = \"cd8_l2_nk\")]"
   ]
  },
  {
   "cell_type": "code",
   "execution_count": null,
   "id": "00e5b094",
   "metadata": {
    "scrolled": true
   },
   "outputs": [],
   "source": [
    "paths_fc"
   ]
  },
  {
   "cell_type": "markdown",
   "id": "0b95d0ae",
   "metadata": {},
   "source": [
    "# GSEA figure"
   ]
  },
  {
   "cell_type": "code",
   "execution_count": null,
   "id": "8b5d77be",
   "metadata": {},
   "outputs": [],
   "source": [
    "m_df<- msigdbr(species = \"Homo sapiens\", category = \"C2\")\n",
    "\n",
    "fgsea_sets_hs_c2 <- m_df %>% split(x = .$gene_symbol, f = .$gs_name)"
   ]
  },
  {
   "cell_type": "code",
   "execution_count": null,
   "id": "235649e5",
   "metadata": {},
   "outputs": [],
   "source": [
    "m_df<- msigdbr(species = \"Homo sapiens\", category = \"C7\")\n",
    "\n",
    "fgsea_sets_hs_c7 <- m_df %>% split(x = .$gene_symbol, f = .$gs_name)"
   ]
  },
  {
   "cell_type": "markdown",
   "id": "250e917e",
   "metadata": {},
   "source": [
    "## Ranks T0"
   ]
  },
  {
   "cell_type": "code",
   "execution_count": null,
   "id": "3eb67e0a",
   "metadata": {},
   "outputs": [],
   "source": [
    "paths_fc  <- list.files(\"../tables/fold_change\", full.names = T)\n",
    "dataset_names  <- list.files(\"../tables/fold_change\", full.names = F)\n",
    "\n",
    "\n",
    "paths_fc  <- paths_fc[grepl(paths_fc, pattern = \"_Ctrl_vs_DiaT0\")]\n",
    "dataset_names  <- dataset_names[grepl(dataset_names, pattern = \"_Ctrl_vs_DiaT0\")]\n",
    "\n",
    "dataset_names\n",
    "\n",
    "paths_fc"
   ]
  },
  {
   "cell_type": "code",
   "execution_count": null,
   "id": "eac652ca",
   "metadata": {},
   "outputs": [],
   "source": [
    "fc.df  <- read_csv(paths_fc[1])  %>% as.data.frame()\n",
    "fc.df  <- fc.df  %>%  arrange(desc(avg_log2FC)) %>% \n",
    "dplyr::filter(cluster == \"Dia T0\")  %>% \n",
    "  dplyr::select(gene, avg_log2FC)\n",
    "ranks_cd4_t0 <- deframe(fc.df)"
   ]
  },
  {
   "cell_type": "code",
   "execution_count": null,
   "id": "50185718",
   "metadata": {},
   "outputs": [],
   "source": [
    "fc.df  <- read_csv(paths_fc[13])  %>% as.data.frame()\n",
    "fc.df  <- fc.df  %>%  arrange(desc(avg_log2FC)) %>% \n",
    "dplyr::filter(cluster == \"Dia T0\")  %>% \n",
    "  dplyr::select(gene, avg_log2FC)\n",
    "ranks_cd8_t0 <- deframe(fc.df)"
   ]
  },
  {
   "cell_type": "code",
   "execution_count": null,
   "id": "b5c4c560",
   "metadata": {
    "scrolled": true
   },
   "outputs": [],
   "source": [
    "ranks_cd8_t0"
   ]
  },
  {
   "cell_type": "markdown",
   "id": "6c032f8f",
   "metadata": {},
   "source": [
    "## T1"
   ]
  },
  {
   "cell_type": "code",
   "execution_count": null,
   "id": "1482a0e8",
   "metadata": {},
   "outputs": [],
   "source": [
    "paths_fc2  <- list.files(\"../tables/fold_change\", full.names = T)\n",
    "dataset_names2  <- list.files(\"../tables/fold_change\", full.names = F)\n",
    "\n",
    "\n",
    "paths_fc2  <- paths_fc2[grepl(paths_fc2, pattern = \"_Ctrl_vs_DiaT1\")]\n",
    "dataset_names2  <- dataset_names2[grepl(dataset_names2, pattern = \"_Ctrl_vs_DiaT1\")]"
   ]
  },
  {
   "cell_type": "code",
   "execution_count": null,
   "id": "c0a0bd0e",
   "metadata": {},
   "outputs": [],
   "source": [
    "paths_fc2\n",
    "dataset_names2\n"
   ]
  },
  {
   "cell_type": "code",
   "execution_count": null,
   "id": "046f393e",
   "metadata": {},
   "outputs": [],
   "source": [
    "fc.df  <- read_csv(paths_fc2[1])  %>% as.data.frame()\n",
    "fc.df  <- fc.df  %>%  arrange(desc(avg_log2FC)) %>% \n",
    "dplyr::filter(cluster == \"Dia T1\")  %>% \n",
    "  dplyr::select(gene, avg_log2FC)\n",
    "ranks_cd4_t1 <- deframe(fc.df)\n",
    "\n"
   ]
  },
  {
   "cell_type": "code",
   "execution_count": null,
   "id": "0e322244",
   "metadata": {},
   "outputs": [],
   "source": [
    "fc.df  <- read_csv(paths_fc2[13])  %>% as.data.frame()\n",
    "fc.df  <- fc.df  %>%  arrange(desc(avg_log2FC)) %>% \n",
    "dplyr::filter(cluster == \"Dia T1\")  %>% \n",
    "  dplyr::select(gene, avg_log2FC)\n",
    "ranks_cd8_t1 <- deframe(fc.df)"
   ]
  },
  {
   "cell_type": "code",
   "execution_count": null,
   "id": "7987b816",
   "metadata": {},
   "outputs": [],
   "source": [
    "paths_fc2[13]"
   ]
  },
  {
   "cell_type": "code",
   "execution_count": null,
   "id": "2e482f7a",
   "metadata": {
    "scrolled": true
   },
   "outputs": [],
   "source": [
    "ranks_cd8_t1"
   ]
  },
  {
   "cell_type": "code",
   "execution_count": null,
   "id": "2ada196d",
   "metadata": {},
   "outputs": [],
   "source": [
    "plot_four_gsea_condition  <- function(gsea, fgsea_set){\n",
    "   fgsea_sets  <- fgsea_set\n",
    "    p  <- plotEnrichment(fgsea_sets[[gsea]],\n",
    "               ranks_cd8_t0) + labs(title=\"CD8 Dia T0 vs Ctrl.\") + ylim(-0.8,0.8) + ggtheme() +\n",
    "    plotEnrichment(fgsea_sets[[gsea]],\n",
    "               ranks_cd8_t1) + labs(title=\"CD8 Dia T1 vs Ctrl.\") + ylim(-0.8,0.8) + ggtheme() +\n",
    "    plotEnrichment(fgsea_sets[[gsea]],\n",
    "               ranks_cd4_t0) + labs(title=\"CD4 Dia T0 vs Ctrl.\") + ylim(-0.8,0.8) + ggtheme() +\n",
    "    plotEnrichment(fgsea_sets[[gsea]],\n",
    "               ranks_cd4_t1) + labs(title=\"CD4 Dia T1 vs Ctrl.\") + ylim(-0.8,0.8) +  ggtheme() + \n",
    "    plot_annotation(title = gsea)\n",
    "    \n",
    "    ggsave(p, filename = paste0(\"../figures/gsea/\",gsea,\".svg\"), width = 24, height = 24, units = \"cm\")\n",
    "    return(p)\n",
    "}"
   ]
  },
  {
   "cell_type": "code",
   "execution_count": null,
   "id": "95eaeda2",
   "metadata": {},
   "outputs": [],
   "source": [
    "fgsea_sets_hs_c2[[\"REACTOME_INTERFERON_ALPHA_BETA_SIGNALING\"]]"
   ]
  },
  {
   "cell_type": "code",
   "execution_count": null,
   "id": "c11f3390",
   "metadata": {},
   "outputs": [],
   "source": [
    "fgsea_sets_hs_c7[[\"GSE11057_NAIVE_VS_EFF_MEMORY_CD4_TCELL_DN\"]]"
   ]
  },
  {
   "cell_type": "code",
   "execution_count": null,
   "id": "e1cad1e1",
   "metadata": {},
   "outputs": [],
   "source": [
    "intersect(fgsea_sets_hs_c7[[\"GSE11057_NAIVE_VS_EFF_MEMORY_CD4_TCELL_DN\"]], \n",
    "          fgsea_sets_hs_c2[[\"REACTOME_INTERFERON_ALPHA_BETA_SIGNALING\"]])"
   ]
  },
  {
   "cell_type": "code",
   "execution_count": null,
   "id": "10082d57",
   "metadata": {},
   "outputs": [],
   "source": [
    "plot_four_gsea_condition(\"REACTOME_INTERFERON_ALPHA_BETA_SIGNALING\", fgsea_sets_hs_c2)"
   ]
  },
  {
   "cell_type": "code",
   "execution_count": null,
   "id": "7e07ff36",
   "metadata": {},
   "outputs": [],
   "source": []
  },
  {
   "cell_type": "code",
   "execution_count": null,
   "id": "db70d7b4",
   "metadata": {},
   "outputs": [],
   "source": [
    "plot_four_gsea_condition(\"GSE11057_NAIVE_VS_EFF_MEMORY_CD4_TCELL_UP\", fgsea_sets_hs_c7)"
   ]
  },
  {
   "cell_type": "code",
   "execution_count": null,
   "id": "85da5d07",
   "metadata": {},
   "outputs": [],
   "source": [
    "options(repr.plot.width = 8, repr.plot.height = 6)\n",
    "plot_four_gsea_condition(\"WP_INSULIN_SIGNALING\", fgsea_sets_hs_c2)\n"
   ]
  },
  {
   "cell_type": "code",
   "execution_count": null,
   "id": "5cada961",
   "metadata": {},
   "outputs": [],
   "source": [
    "plot_four_gsea_condition(\"GSE13485_CTRL_VS_DAY7_YF17D_VACCINE_PBMC_DN\", fgsea_sets_hs_c7)\n"
   ]
  },
  {
   "cell_type": "code",
   "execution_count": null,
   "id": "d075eb8a",
   "metadata": {},
   "outputs": [],
   "source": [
    "plot_four_gsea_condition(\"GSE11057_NAIVE_VS_EFF_MEMORY_CD4_TCELL_DN\", fgsea_sets_hs_c7)\n"
   ]
  },
  {
   "cell_type": "code",
   "execution_count": null,
   "id": "c4c22a79",
   "metadata": {},
   "outputs": [],
   "source": [
    "plot_four_gsea_condition(\"GSE11057_NAIVE_VS_EFF_MEMORY_CD4_TCELL_UP\", fgsea_sets_hs_c7)"
   ]
  },
  {
   "cell_type": "code",
   "execution_count": null,
   "id": "05fe9c0c",
   "metadata": {},
   "outputs": [],
   "source": [
    "plot_four_gsea_condition(\"GSE9650_NAIVE_VS_EFF_CD8_TCELL_UP\", fgsea_sets_hs_c7)"
   ]
  },
  {
   "cell_type": "code",
   "execution_count": null,
   "id": "ed72ffae",
   "metadata": {},
   "outputs": [],
   "source": [
    "plot_four_gsea_condition(\"GSE9650_NAIVE_VS_EFF_CD8_TCELL_DN\", fgsea_sets_hs_c7)"
   ]
  },
  {
   "cell_type": "code",
   "execution_count": null,
   "id": "ec4dab40",
   "metadata": {},
   "outputs": [],
   "source": [
    "plot_four_gsea_condition(\"GSE22886_NAIVE_CD8_TCELL_VS_NKCELL_UP\", fgsea_sets_hs_c7)"
   ]
  },
  {
   "cell_type": "code",
   "execution_count": null,
   "id": "3e58b895",
   "metadata": {},
   "outputs": [],
   "source": [
    "plot_four_gsea_condition(\"GSE22886_NAIVE_CD8_TCELL_VS_NKCELL_DN\", fgsea_sets_hs_c7)"
   ]
  },
  {
   "cell_type": "code",
   "execution_count": null,
   "id": "15d6deb8",
   "metadata": {},
   "outputs": [],
   "source": [
    "plot_four_gsea_condition(\"GSE22886_NAIVE_CD4_TCELL_VS_NKCELL_DN\", fgsea_sets_hs_c7)"
   ]
  },
  {
   "cell_type": "code",
   "execution_count": null,
   "id": "b9fc76f2",
   "metadata": {},
   "outputs": [],
   "source": [
    "plot_four_gsea_condition(\"GSE22886_NAIVE_CD4_TCELL_VS_NKCELL_UP\", fgsea_sets_hs_c7)"
   ]
  },
  {
   "cell_type": "code",
   "execution_count": null,
   "id": "a3bb364b",
   "metadata": {},
   "outputs": [],
   "source": [
    "intersect(fgsea_sets_hs_c7[[\"GSE9650_NAIVE_VS_EFF_CD8_TCELL_DN\"]], \n",
    "          fgsea_sets_hs_c2[[\"REACTOME_INTERFERON_ALPHA_BETA_SIGNALING\"]])"
   ]
  },
  {
   "cell_type": "code",
   "execution_count": null,
   "id": "1dddcaa4",
   "metadata": {},
   "outputs": [],
   "source": [
    "\n",
    "    which((fgsea_sets_hs_c7[[\"GSE9650_NAIVE_VS_EFF_CD8_TCELL_DN\"]] %in% \n",
    "      intersect(fgsea_sets_hs_c7[[\"GSE9650_NAIVE_VS_EFF_CD8_TCELL_DN\"]], \n",
    "          fgsea_sets_hs_c2[[\"REACTOME_INTERFERON_ALPHA_BETA_SIGNALING\"]])) == F)"
   ]
  },
  {
   "cell_type": "code",
   "execution_count": null,
   "id": "5a5bbe16",
   "metadata": {},
   "outputs": [],
   "source": [
    "keep  <- \n",
    "    which((fgsea_sets_hs_c7[[\"GSE9650_NAIVE_VS_EFF_CD8_TCELL_DN\"]] %in% \n",
    "      intersect(fgsea_sets_hs_c7[[\"GSE9650_NAIVE_VS_EFF_CD8_TCELL_DN\"]], \n",
    "          fgsea_sets_hs_c2[[\"REACTOME_INTERFERON_ALPHA_BETA_SIGNALING\"]])) == F)"
   ]
  },
  {
   "cell_type": "code",
   "execution_count": null,
   "id": "976f9983",
   "metadata": {},
   "outputs": [],
   "source": [
    "fgsea_sets_hs_c7[[\"GSE9650_NAIVE_VS_EFF_CD8_TCELL_DN\"]][keep]                    "
   ]
  },
  {
   "cell_type": "code",
   "execution_count": null,
   "id": "b1239792",
   "metadata": {},
   "outputs": [],
   "source": [
    "plot_four_gsea_condition  <- function(genes){\n",
    "   #fgsea_sets  <- fgsea_set\n",
    "    p  <- plotEnrichment(genes,\n",
    "               ranks_cd8_t0) + labs(title=\"CD8 Dia T0 vs Ctrl.\") + ylim(-0.8,0.8) + ggtheme() +\n",
    "    plotEnrichment(genes,\n",
    "               ranks_cd8_t1) + labs(title=\"CD8 Dia T1 vs Ctrl.\") + ylim(-0.8,0.8) + ggtheme() +\n",
    "    plotEnrichment(genes,\n",
    "               ranks_cd4_t0) + labs(title=\"CD4 Dia T0 vs Ctrl.\") + ylim(-0.8,0.8) + ggtheme() +\n",
    "    plotEnrichment(genes,\n",
    "               ranks_cd4_t1) + labs(title=\"CD4 Dia T1 vs Ctrl.\") + ylim(-0.8,0.8) +  ggtheme() + \n",
    "    plot_annotation(title = \"\")\n",
    "    \n",
    "    #ggsave(p, filename = paste0(\"../figures/gsea/\",gsea,\".svg\"), width = 24, height = 24, units = \"cm\")\n",
    "    return(p)\n",
    "}"
   ]
  },
  {
   "cell_type": "code",
   "execution_count": null,
   "id": "8ae93a34",
   "metadata": {},
   "outputs": [],
   "source": [
    "genes_cd8  <- fgsea_sets_hs_c7[[\"GSE9650_NAIVE_VS_EFF_CD8_TCELL_DN\"]][keep]                    "
   ]
  },
  {
   "cell_type": "code",
   "execution_count": null,
   "id": "a2133d55",
   "metadata": {},
   "outputs": [],
   "source": [
    "plot_four_gsea_condition(genes_cd8)"
   ]
  },
  {
   "cell_type": "code",
   "execution_count": null,
   "id": "102d74ee",
   "metadata": {},
   "outputs": [],
   "source": [
    "keep  <- \n",
    "    which((fgsea_sets_hs_c7[[\"GSE11057_NAIVE_VS_EFF_MEMORY_CD4_TCELL_DN\"]] %in% \n",
    "      intersect(fgsea_sets_hs_c7[[\"GSE11057_NAIVE_VS_EFF_MEMORY_CD4_TCELL_DN\"]], \n",
    "          fgsea_sets_hs_c2[[\"REACTOME_INTERFERON_ALPHA_BETA_SIGNALING\"]])) == F)"
   ]
  },
  {
   "cell_type": "code",
   "execution_count": null,
   "id": "7d107430",
   "metadata": {},
   "outputs": [],
   "source": [
    "genes_cd4  <- fgsea_sets_hs_c7[[\"GSE11057_NAIVE_VS_EFF_MEMORY_CD4_TCELL_DN\"]][keep]                    "
   ]
  },
  {
   "cell_type": "code",
   "execution_count": null,
   "id": "3274a803",
   "metadata": {},
   "outputs": [],
   "source": [
    "genes_cd4"
   ]
  },
  {
   "cell_type": "code",
   "execution_count": null,
   "id": "68da3bb2",
   "metadata": {},
   "outputs": [],
   "source": [
    "plot_four_gsea_condition(genes_cd4)"
   ]
  },
  {
   "cell_type": "code",
   "execution_count": null,
   "id": "e4ea2ead",
   "metadata": {},
   "outputs": [],
   "source": []
  },
  {
   "cell_type": "code",
   "execution_count": null,
   "id": "d0998af3",
   "metadata": {},
   "outputs": [],
   "source": [
    "keep  <- \n",
    "    which((fgsea_sets_hs_c7[[\"GSE13485_CTRL_VS_DAY7_YF17D_VACCINE_PBMC_DN\"]] %in% \n",
    "      intersect(fgsea_sets_hs_c7[[\"GSE13485_CTRL_VS_DAY7_YF17D_VACCINE_PBMC_DN\"]], \n",
    "          fgsea_sets_hs_c2[[\"REACTOME_INTERFERON_ALPHA_BETA_SIGNALING\"]])) == F)\n",
    "\n",
    "genes_cd4  <- fgsea_sets_hs_c7[[\"GSE13485_CTRL_VS_DAY7_YF17D_VACCINE_PBMC_DN\"]][keep]                    \n",
    "\n",
    "genes_cd4\n",
    "\n",
    "plot_four_gsea_condition(genes_cd4)"
   ]
  },
  {
   "cell_type": "code",
   "execution_count": null,
   "id": "499f2a78",
   "metadata": {},
   "outputs": [],
   "source": [
    "fgsea_sets_hs_c2[[\"REACTOME_INTERFERON_ALPHA_BETA_SIGNALING\"]]"
   ]
  },
  {
   "cell_type": "code",
   "execution_count": null,
   "id": "42b9a6e1",
   "metadata": {},
   "outputs": [],
   "source": [
    "fgsea_sets_hs_c7[[\"GSE13485_CTRL_VS_DAY7_YF17D_VACCINE_PBMC_DN\"]]"
   ]
  },
  {
   "cell_type": "code",
   "execution_count": null,
   "id": "e949a325",
   "metadata": {},
   "outputs": [],
   "source": [
    "intersect(fgsea_sets_hs_c7[[\"GSE13485_CTRL_VS_DAY7_YF17D_VACCINE_PBMC_DN\"]], \n",
    "          fgsea_sets_hs_c2[[\"REACTOME_INTERFERON_ALPHA_BETA_SIGNALING\"]])"
   ]
  },
  {
   "cell_type": "code",
   "execution_count": null,
   "id": "43e7681a",
   "metadata": {},
   "outputs": [],
   "source": []
  },
  {
   "cell_type": "code",
   "execution_count": null,
   "id": "eaf8a680",
   "metadata": {},
   "outputs": [],
   "source": []
  },
  {
   "cell_type": "markdown",
   "id": "8fdc10c5",
   "metadata": {},
   "source": [
    "# GSEA figure DESeq"
   ]
  },
  {
   "cell_type": "code",
   "execution_count": null,
   "id": "996fe762",
   "metadata": {},
   "outputs": [],
   "source": [
    "m_df<- msigdbr(species = \"Homo sapiens\", category = \"C2\")\n",
    "\n",
    "fgsea_sets_hs_c2 <- m_df %>% split(x = .$gene_symbol, f = .$gs_name)"
   ]
  },
  {
   "cell_type": "code",
   "execution_count": null,
   "id": "89ca9c61",
   "metadata": {},
   "outputs": [],
   "source": [
    "m_df<- msigdbr(species = \"Homo sapiens\", category = \"C7\")\n",
    "\n",
    "fgsea_sets_hs_c7 <- m_df %>% split(x = .$gene_symbol, f = .$gs_name)"
   ]
  },
  {
   "cell_type": "markdown",
   "id": "b273a735",
   "metadata": {},
   "source": [
    "## Ranks T0"
   ]
  },
  {
   "cell_type": "code",
   "execution_count": null,
   "id": "380ceff6",
   "metadata": {},
   "outputs": [],
   "source": [
    "paths_fc  <- list.files(\"../tables/fold_change_deseq/\", full.names = T)\n",
    "dataset_names  <- list.files(\"../tables/fold_change_deseq/\", full.names = F)\n",
    "\n",
    "\n",
    "paths_fc  <- paths_fc[grepl(paths_fc, pattern = \"_Ctrl_vs_DiaT0\")]\n",
    "dataset_names  <- dataset_names[grepl(dataset_names, pattern = \"_Ctrl_vs_DiaT0\")]\n",
    "\n",
    "dataset_names\n",
    "\n",
    "paths_fc"
   ]
  },
  {
   "cell_type": "code",
   "execution_count": null,
   "id": "10acf4bd",
   "metadata": {},
   "outputs": [],
   "source": [
    "fc.df  <- read_csv(paths_fc[1])  %>% as.data.frame()\n",
    "fc.df  <- fc.df  %>%  arrange(desc(avg_log2FC)) %>% \n",
    "dplyr::filter(cluster == \"Dia T0\")  %>% \n",
    "  dplyr::select(gene, avg_log2FC)\n",
    "ranks_cd4_t0 <- deframe(fc.df)"
   ]
  },
  {
   "cell_type": "code",
   "execution_count": null,
   "id": "42d55019",
   "metadata": {
    "scrolled": true
   },
   "outputs": [],
   "source": [
    "ranks_cd4_t0  "
   ]
  },
  {
   "cell_type": "code",
   "execution_count": null,
   "id": "fa6d07c1",
   "metadata": {},
   "outputs": [],
   "source": [
    "fgseaRes <- fgsea(pathways = fgsea_sets_hs_c7, \n",
    "                 stats = ranks_cd4_t0)"
   ]
  },
  {
   "cell_type": "code",
   "execution_count": null,
   "id": "5affe05e",
   "metadata": {
    "scrolled": true
   },
   "outputs": [],
   "source": [
    "fgseaRes  %>% arrange(pval)"
   ]
  },
  {
   "cell_type": "code",
   "execution_count": null,
   "id": "8cd16499",
   "metadata": {},
   "outputs": [],
   "source": [
    "fc.df  <- read_csv(paths_fc[13])  %>% as.data.frame()\n",
    "fc.df  <- fc.df  %>%  arrange(desc(avg_log2FC)) %>% \n",
    "dplyr::filter(cluster == \"Dia T0\")  %>% \n",
    "  dplyr::select(gene, avg_log2FC)\n",
    "ranks_cd8_t0 <- deframe(fc.df)"
   ]
  },
  {
   "cell_type": "code",
   "execution_count": null,
   "id": "74b38dfc",
   "metadata": {
    "scrolled": true
   },
   "outputs": [],
   "source": [
    "ranks_cd8_t0"
   ]
  },
  {
   "cell_type": "code",
   "execution_count": null,
   "id": "bc896e8d",
   "metadata": {},
   "outputs": [],
   "source": [
    "gseaRes <- fgsea(pathways = fgsea_sets_hs_c7, \n",
    "                 stats = ranks_cd8_t0)"
   ]
  },
  {
   "cell_type": "code",
   "execution_count": null,
   "id": "e4df4e26",
   "metadata": {
    "scrolled": true
   },
   "outputs": [],
   "source": [
    "gseaRes  %>% arrange(pval)"
   ]
  },
  {
   "cell_type": "markdown",
   "id": "4cae9ae8",
   "metadata": {},
   "source": [
    "## T1"
   ]
  },
  {
   "cell_type": "code",
   "execution_count": null,
   "id": "7290ffc5",
   "metadata": {},
   "outputs": [],
   "source": [
    "paths_fc2  <- list.files(\"../tables/fold_change_deseq/\", full.names = T)\n",
    "dataset_names2  <- list.files(\"../tables/fold_change_deseq/\", full.names = F)\n",
    "\n",
    "\n",
    "paths_fc2  <- paths_fc2[grepl(paths_fc2, pattern = \"_Ctrl_vs_DiaT1\")]\n",
    "dataset_names2  <- dataset_names2[grepl(dataset_names2, pattern = \"_Ctrl_vs_DiaT1\")]"
   ]
  },
  {
   "cell_type": "code",
   "execution_count": null,
   "id": "a05bfcf9",
   "metadata": {},
   "outputs": [],
   "source": [
    "paths_fc2\n",
    "dataset_names2\n"
   ]
  },
  {
   "cell_type": "code",
   "execution_count": null,
   "id": "d1c82409",
   "metadata": {},
   "outputs": [],
   "source": [
    "fc.df  <- read_csv(paths_fc2[1])  %>% as.data.frame()\n",
    "fc.df  <- fc.df  %>%  arrange(desc(avg_log2FC)) %>% \n",
    "dplyr::filter(cluster == \"Dia T1\")  %>% \n",
    "  dplyr::select(gene, avg_log2FC)\n",
    "ranks_cd4_t1 <- deframe(fc.df)\n",
    "\n"
   ]
  },
  {
   "cell_type": "code",
   "execution_count": null,
   "id": "4a2dba23",
   "metadata": {},
   "outputs": [],
   "source": [
    "fc.df  <- read_csv(paths_fc2[13])  %>% as.data.frame()\n",
    "fc.df  <- fc.df  %>%  arrange(desc(avg_log2FC)) %>% \n",
    "dplyr::filter(cluster == \"Dia T1\")  %>% \n",
    "  dplyr::select(gene, avg_log2FC)\n",
    "ranks_cd8_t1 <- deframe(fc.df)"
   ]
  },
  {
   "cell_type": "code",
   "execution_count": null,
   "id": "e4a174c6",
   "metadata": {},
   "outputs": [],
   "source": [
    "paths_fc2[13]"
   ]
  },
  {
   "cell_type": "code",
   "execution_count": null,
   "id": "bec9ee0e",
   "metadata": {
    "scrolled": true
   },
   "outputs": [],
   "source": [
    "ranks_cd8_t1"
   ]
  },
  {
   "cell_type": "code",
   "execution_count": null,
   "id": "10c7c25e",
   "metadata": {},
   "outputs": [],
   "source": [
    "ggtheme <- function() {\n",
    "  theme(\n",
    "    axis.text = element_text(size = 20),\n",
    "    axis.title = element_text(size = 20),\n",
    "    text = element_text(size = 20, colour = \"black\"),\n",
    "    legend.text = element_text(size = 20),\n",
    "    legend.key.size =  unit(10, units = \"points\")\n",
    "    \n",
    "  )\n",
    "}\n"
   ]
  },
  {
   "cell_type": "code",
   "execution_count": null,
   "id": "e4be3f8c",
   "metadata": {},
   "outputs": [],
   "source": [
    "plot_four_gsea_condition  <- function(gsea, fgsea_set){\n",
    "   fgsea_sets  <- fgsea_set\n",
    "    p  <- plotEnrichment(fgsea_sets[[gsea]],\n",
    "               ranks_cd8_t0) + labs(title=\"CD8 Dia T0 vs Ctrl.\") + ylim(-0.8,0.8) + ggtheme() +\n",
    "    plotEnrichment(fgsea_sets[[gsea]],\n",
    "               ranks_cd8_t1) + labs(title=\"CD8 Dia T1 vs Ctrl.\") + ylim(-0.8,0.8) + ggtheme() +\n",
    "    plotEnrichment(fgsea_sets[[gsea]],\n",
    "               ranks_cd4_t0) + labs(title=\"CD4 Dia T0 vs Ctrl.\") + ylim(-0.8,0.8) + ggtheme() +\n",
    "    plotEnrichment(fgsea_sets[[gsea]],\n",
    "               ranks_cd4_t1) + labs(title=\"CD4 Dia T1 vs Ctrl.\") + ylim(-0.8,0.8) +  ggtheme() + \n",
    "    plot_annotation(title = gsea)\n",
    "    \n",
    "    ggsave(p, filename = paste0(\"../figures/gsea/\",gsea,\".svg\"), width = 24, height = 24, units = \"cm\")\n",
    "    return(p)\n",
    "}"
   ]
  },
  {
   "cell_type": "code",
   "execution_count": null,
   "id": "b287fff3",
   "metadata": {},
   "outputs": [],
   "source": [
    "plot_four_gsea_condition(\"REACTOME_INTERFERON_ALPHA_BETA_SIGNALING\", fgsea_sets_hs_c2)"
   ]
  },
  {
   "cell_type": "code",
   "execution_count": null,
   "id": "e917281c",
   "metadata": {},
   "outputs": [],
   "source": []
  },
  {
   "cell_type": "code",
   "execution_count": null,
   "id": "021ca9a7",
   "metadata": {},
   "outputs": [],
   "source": [
    "plot_four_gsea_condition(\"GSE11057_NAIVE_VS_EFF_MEMORY_CD4_TCELL_UP\", fgsea_sets_hs_c7)"
   ]
  },
  {
   "cell_type": "code",
   "execution_count": null,
   "id": "16dd7ca4",
   "metadata": {},
   "outputs": [],
   "source": [
    "options(repr.plot.width = 8, repr.plot.height = 6)\n",
    "plot_four_gsea_condition(\"WP_INSULIN_SIGNALING\", fgsea_sets_hs_c2)\n"
   ]
  },
  {
   "cell_type": "code",
   "execution_count": null,
   "id": "6d3d16ec",
   "metadata": {},
   "outputs": [],
   "source": [
    "plot_four_gsea_condition(\"GSE13485_CTRL_VS_DAY7_YF17D_VACCINE_PBMC_DN\", fgsea_sets_hs_c7)\n"
   ]
  },
  {
   "cell_type": "code",
   "execution_count": null,
   "id": "fe059f01",
   "metadata": {},
   "outputs": [],
   "source": [
    "plot_four_gsea_condition(\"GSE11057_NAIVE_VS_EFF_MEMORY_CD4_TCELL_DN\", fgsea_sets_hs_c7)\n"
   ]
  },
  {
   "cell_type": "code",
   "execution_count": null,
   "id": "ed34acdc",
   "metadata": {},
   "outputs": [],
   "source": [
    "plot_four_gsea_condition(\"GSE11057_NAIVE_VS_EFF_MEMORY_CD4_TCELL_UP\", fgsea_sets_hs_c7)"
   ]
  },
  {
   "cell_type": "code",
   "execution_count": null,
   "id": "961bd6ad",
   "metadata": {},
   "outputs": [],
   "source": [
    "plot_four_gsea_condition(\"GSE9650_NAIVE_VS_EFF_CD8_TCELL_UP\", fgsea_sets_hs_c7)"
   ]
  },
  {
   "cell_type": "code",
   "execution_count": null,
   "id": "ce5f5445",
   "metadata": {},
   "outputs": [],
   "source": [
    "plot_four_gsea_condition(\"GSE9650_NAIVE_VS_EFF_CD8_TCELL_DN\", fgsea_sets_hs_c7)"
   ]
  },
  {
   "cell_type": "code",
   "execution_count": null,
   "id": "ca25aca2",
   "metadata": {},
   "outputs": [],
   "source": [
    "plot_four_gsea_condition(\"GSE22886_NAIVE_CD8_TCELL_VS_NKCELL_UP\", fgsea_sets_hs_c7)"
   ]
  },
  {
   "cell_type": "code",
   "execution_count": null,
   "id": "990d3d8d",
   "metadata": {},
   "outputs": [],
   "source": [
    "plot_four_gsea_condition(\"GSE22886_NAIVE_CD8_TCELL_VS_NKCELL_DN\", fgsea_sets_hs_c7)"
   ]
  },
  {
   "cell_type": "code",
   "execution_count": null,
   "id": "ea690514",
   "metadata": {},
   "outputs": [],
   "source": [
    "plot_four_gsea_condition(\"GSE22886_NAIVE_CD4_TCELL_VS_NKCELL_DN\", fgsea_sets_hs_c7)"
   ]
  },
  {
   "cell_type": "code",
   "execution_count": null,
   "id": "938a1233",
   "metadata": {},
   "outputs": [],
   "source": [
    "plot_four_gsea_condition(\"GSE22886_NAIVE_CD4_TCELL_VS_NKCELL_UP\", fgsea_sets_hs_c7)"
   ]
  },
  {
   "cell_type": "code",
   "execution_count": null,
   "id": "468632d7",
   "metadata": {},
   "outputs": [],
   "source": []
  },
  {
   "cell_type": "markdown",
   "id": "fe1f2b3b",
   "metadata": {},
   "source": [
    "# GSEA heatmap"
   ]
  },
  {
   "cell_type": "markdown",
   "id": "8e0b1902",
   "metadata": {},
   "source": [
    "## GSEA - Dia T0 vs Ctrl T0"
   ]
  },
  {
   "cell_type": "code",
   "execution_count": null,
   "id": "a65e4970",
   "metadata": {},
   "outputs": [],
   "source": [
    "m_df<- msigdbr(species = \"Homo sapiens\", category = \"C7\")\n"
   ]
  },
  {
   "cell_type": "code",
   "execution_count": null,
   "id": "7bbf20e3",
   "metadata": {},
   "outputs": [],
   "source": [
    "fgsea_sets<- m_df %>% split(x = .$gene_symbol, f = .$gs_name)"
   ]
  },
  {
   "cell_type": "code",
   "execution_count": null,
   "id": "d89c2666",
   "metadata": {},
   "outputs": [],
   "source": [
    "paths_fc  <- list.files(\"../tables/fold_change\", full.names = T)\n",
    "dataset_names  <- list.files(\"../tables/fold_change\", full.names = F)\n"
   ]
  },
  {
   "cell_type": "code",
   "execution_count": null,
   "id": "58751443",
   "metadata": {},
   "outputs": [],
   "source": [
    "paths_fc"
   ]
  },
  {
   "cell_type": "code",
   "execution_count": null,
   "id": "f84c80c0",
   "metadata": {},
   "outputs": [],
   "source": [
    "paths_fc  <- paths_fc[grepl(paths_fc, pattern = \"_Ctrl_vs_DiaT0\")]\n",
    "dataset_names  <- dataset_names[grepl(dataset_names, pattern = \"_Ctrl_vs_DiaT0\")]"
   ]
  },
  {
   "cell_type": "code",
   "execution_count": null,
   "id": "acb384dc",
   "metadata": {},
   "outputs": [],
   "source": [
    "dataset_names"
   ]
  },
  {
   "cell_type": "code",
   "execution_count": null,
   "id": "21e9bbd0",
   "metadata": {},
   "outputs": [],
   "source": [
    "paths_fc"
   ]
  },
  {
   "cell_type": "code",
   "execution_count": null,
   "id": "6890106e",
   "metadata": {},
   "outputs": [],
   "source": [
    "gsea_all_pathways  <- function(j) {\n",
    "  print(j)\n",
    "fc.df  <- read_csv(paths_fc[j])  %>% as.data.frame()\n",
    "fc.df  <- fc.df  %>%  arrange(desc(avg_log2FC)) %>% \n",
    "dplyr::filter(cluster == \"Dia T0\")  %>% \n",
    "  dplyr::select(gene, avg_log2FC)\n",
    "ranks<- deframe(fc.df)\n",
    "fgseaRes <- fgsea(pathways = fgsea_sets, \n",
    "                 stats = ranks)\n",
    " fgseaRes$dataset  <-   gsub(dataset_names[j], pattern = \".csv\", replacement = \"\")\n",
    "fgseaRes <- fgseaRes  %>% dplyr::filter(padj < 0.05)\n",
    " return(fgseaRes)\n",
    "    }"
   ]
  },
  {
   "cell_type": "code",
   "execution_count": null,
   "id": "042da8e4",
   "metadata": {
    "scrolled": true
   },
   "outputs": [],
   "source": [
    "gsea_diat0_vs_ctrl  <- map(.x = c(1:length(paths_fc)), .f = gsea_all_pathways)"
   ]
  },
  {
   "cell_type": "code",
   "execution_count": null,
   "id": "674da587",
   "metadata": {},
   "outputs": [],
   "source": [
    "gseas_diat0_vs_ctrl  <- bind_rows(gsea_diat0_vs_ctrl)"
   ]
  },
  {
   "cell_type": "code",
   "execution_count": null,
   "id": "756f7171",
   "metadata": {
    "scrolled": true
   },
   "outputs": [],
   "source": [
    "gseas_diat0_vs_ctrl  %>% arrange(padj)"
   ]
  },
  {
   "cell_type": "code",
   "execution_count": null,
   "id": "6411c788",
   "metadata": {
    "scrolled": true
   },
   "outputs": [],
   "source": [
    "gseas_diat0_vs_ctrl  %>% as.data.frame"
   ]
  },
  {
   "cell_type": "code",
   "execution_count": null,
   "id": "d04469a4",
   "metadata": {},
   "outputs": [],
   "source": [
    "gseas_diat0_vs_ctrl_df  <- gseas_diat0_vs_ctrl  %>% as.data.frame"
   ]
  },
  {
   "cell_type": "code",
   "execution_count": null,
   "id": "2a257c41",
   "metadata": {
    "scrolled": true
   },
   "outputs": [],
   "source": [
    "gseas_diat0_vs_ctrl  <- gseas_diat0_vs_ctrl  %>% mutate(\n",
    "    leadingEdge2 = paste(leadingEdge))"
   ]
  },
  {
   "cell_type": "code",
   "execution_count": null,
   "id": "b87c35ca",
   "metadata": {},
   "outputs": [],
   "source": [
    "gseas_diat0_vs_ctrl$leadingEdge  <- NULL"
   ]
  },
  {
   "cell_type": "code",
   "execution_count": null,
   "id": "ccb4cdde",
   "metadata": {},
   "outputs": [],
   "source": [
    "write.csv(gseas_diat0_vs_ctrl, \"../tables/gsea/gsea_fold_changes_diat0_vsctrl.csv\")"
   ]
  },
  {
   "cell_type": "markdown",
   "id": "cf05811c",
   "metadata": {},
   "source": [
    "## GSEA - Dia T1 vs Ctrl T1"
   ]
  },
  {
   "cell_type": "code",
   "execution_count": null,
   "id": "542bb0d1",
   "metadata": {},
   "outputs": [],
   "source": [
    "m_df<- msigdbr(species = \"Homo sapiens\", category = \"C7\")\n"
   ]
  },
  {
   "cell_type": "code",
   "execution_count": null,
   "id": "63b263c1",
   "metadata": {},
   "outputs": [],
   "source": [
    "fgsea_sets<- m_df %>% split(x = .$gene_symbol, f = .$gs_name)"
   ]
  },
  {
   "cell_type": "code",
   "execution_count": null,
   "id": "7db259b8",
   "metadata": {},
   "outputs": [],
   "source": [
    "paths_fc  <- list.files(\"../tables/fold_change\", full.names = T)\n",
    "dataset_names  <- list.files(\"../tables/fold_change\", full.names = F)\n"
   ]
  },
  {
   "cell_type": "code",
   "execution_count": null,
   "id": "7fc88119",
   "metadata": {},
   "outputs": [],
   "source": [
    "paths_fc  <- paths_fc[grepl(paths_fc, pattern = \"_Ctrl_vs_DiaT1\")]\n",
    "dataset_names  <- dataset_names[grepl(dataset_names, pattern = \"_Ctrl_vs_DiaT1\")]"
   ]
  },
  {
   "cell_type": "code",
   "execution_count": null,
   "id": "4e004e4a",
   "metadata": {},
   "outputs": [],
   "source": [
    "dataset_names"
   ]
  },
  {
   "cell_type": "code",
   "execution_count": null,
   "id": "018cddfc",
   "metadata": {},
   "outputs": [],
   "source": [
    "paths_fc"
   ]
  },
  {
   "cell_type": "code",
   "execution_count": null,
   "id": "827ab0d6",
   "metadata": {},
   "outputs": [],
   "source": [
    "gsea_all_pathways  <- function(j) {\n",
    "  print(j)\n",
    "fc.df  <- read_csv(paths_fc[j])  %>% as.data.frame()\n",
    "fc.df  <- fc.df  %>%  arrange(desc(avg_log2FC)) %>% \n",
    "dplyr::filter(cluster == \"Dia T1\")  %>% \n",
    "  dplyr::select(gene, avg_log2FC)\n",
    "ranks<- deframe(fc.df)\n",
    "fgseaRes <- fgsea(pathways = fgsea_sets, \n",
    "                 stats = ranks)\n",
    " fgseaRes$dataset  <-   gsub(dataset_names[j], pattern = \".csv\", replacement = \"\")\n",
    "fgseaRes <- fgseaRes  %>% dplyr::filter(padj < 0.05)\n",
    " return(fgseaRes)\n",
    "    }"
   ]
  },
  {
   "cell_type": "code",
   "execution_count": null,
   "id": "071c809e",
   "metadata": {
    "scrolled": true
   },
   "outputs": [],
   "source": [
    "gsea_diat1_vs_ctrl  <- map(.x = c(1:length(paths_fc)), .f = gsea_all_pathways)"
   ]
  },
  {
   "cell_type": "code",
   "execution_count": null,
   "id": "7bd05e45",
   "metadata": {},
   "outputs": [],
   "source": [
    "gseas_diat1_vs_ctrl  <- bind_rows(gsea_diat1_vs_ctrl)"
   ]
  },
  {
   "cell_type": "code",
   "execution_count": null,
   "id": "37ee8fe1",
   "metadata": {
    "scrolled": true
   },
   "outputs": [],
   "source": [
    "gseas_diat1_vs_ctrl  %>% arrange(padj)"
   ]
  },
  {
   "cell_type": "code",
   "execution_count": null,
   "id": "e6ccf3d2",
   "metadata": {
    "scrolled": true
   },
   "outputs": [],
   "source": [
    "gseas_diat1_vs_ctrl  %>% as.data.frame"
   ]
  },
  {
   "cell_type": "code",
   "execution_count": null,
   "id": "44c01f7b",
   "metadata": {},
   "outputs": [],
   "source": [
    "gseas_diat1_vs_ctrl_df  <- gseas_diat1_vs_ctrl  %>% as.data.frame"
   ]
  },
  {
   "cell_type": "code",
   "execution_count": null,
   "id": "2b528369",
   "metadata": {
    "scrolled": true
   },
   "outputs": [],
   "source": [
    "gseas_diat1_vs_ctrl  <- gseas_diat1_vs_ctrl  %>% mutate(\n",
    "    leadingEdge2 = paste(leadingEdge))"
   ]
  },
  {
   "cell_type": "code",
   "execution_count": null,
   "id": "7806ad32",
   "metadata": {},
   "outputs": [],
   "source": [
    "gseas_diat1_vs_ctrl$leadingEdge  <- NULL"
   ]
  },
  {
   "cell_type": "code",
   "execution_count": null,
   "id": "179c59db",
   "metadata": {},
   "outputs": [],
   "source": [
    "write.csv(gseas_diat1_vs_ctrl, \"../tables/gsea/gsea_fold_changes_diat1_vsctrl.csv\")"
   ]
  },
  {
   "cell_type": "code",
   "execution_count": null,
   "id": "3d85351b",
   "metadata": {},
   "outputs": [],
   "source": []
  },
  {
   "cell_type": "code",
   "execution_count": null,
   "id": "4e6bce01",
   "metadata": {},
   "outputs": [],
   "source": []
  },
  {
   "cell_type": "code",
   "execution_count": null,
   "id": "ceb53b24",
   "metadata": {},
   "outputs": [],
   "source": []
  },
  {
   "cell_type": "code",
   "execution_count": null,
   "id": "469a9d2f",
   "metadata": {},
   "outputs": [],
   "source": [
    "gseas  <- read_delim(\"../tables/gsea/gsea_fold_changes_dia_vsctrl.csv\")"
   ]
  },
  {
   "cell_type": "code",
   "execution_count": null,
   "id": "b674cdd5",
   "metadata": {},
   "outputs": [],
   "source": [
    "gseas"
   ]
  },
  {
   "cell_type": "code",
   "execution_count": null,
   "id": "59c92427",
   "metadata": {},
   "outputs": [],
   "source": []
  },
  {
   "cell_type": "markdown",
   "id": "15ba345f",
   "metadata": {},
   "source": [
    "## GSEA Naive vs effector"
   ]
  },
  {
   "cell_type": "markdown",
   "id": "004ee141",
   "metadata": {},
   "source": [
    "\n",
    "\n",
    "### CD4"
   ]
  },
  {
   "cell_type": "code",
   "execution_count": null,
   "id": "7ccdbe67",
   "metadata": {},
   "outputs": [],
   "source": [
    "# CD4L1\n",
    "fc.df  <- read_csv(\"../tables/fold_change/cd4_l1_full_filt.csv\")  %>% as.data.frame()\n",
    "fc.df  <- fc.df  %>%  arrange(desc(avg_log2FC)) %>% \n",
    "dplyr::filter(cluster == \"Dia\")  %>% \n",
    "  dplyr::select(gene, avg_log2FC)\n",
    "ranks<- deframe(fc.df)"
   ]
  },
  {
   "cell_type": "code",
   "execution_count": null,
   "id": "d1406877",
   "metadata": {},
   "outputs": [],
   "source": [
    "plotEnrichment(fgsea_sets[[\"GOLDRATH_EFF_VS_MEMORY_CD8_TCELL_UP\"]],\n",
    "               ranks) + labs(title=\"GOLDRATH_EFF_VS_MEMORY_CD8_TCELL_UP\") + \n",
    "\n",
    "plotEnrichment(fgsea_sets[[\"GOLDRATH_NAIVE_VS_EFF_CD8_TCELL_DN\"]],\n",
    "               ranks) + labs(title=\"GOLDRATH_NAIVE_VS_EFF_CD8_TCELL_DN\") +\n",
    "\n",
    "plotEnrichment(fgsea_sets[[\"GOLDRATH_NAIVE_VS_MEMORY_CD8_TCELL_DN\"]],\n",
    "               ranks) + labs(title=\"GOLDRATH_NAIVE_VS_MEMORY_CD8_TCELL_DN\") +\n",
    "\n",
    "plotEnrichment(fgsea_sets[[\"GSE11057_NAIVE_VS_CENT_MEMORY_CD4_TCELL_DN\"]],\n",
    "               ranks) + labs(title=\"GSE11057_NAIVE_VS_CENT_MEMORY_CD4_TCELL_DN\") \n",
    "\n",
    "\n"
   ]
  },
  {
   "cell_type": "code",
   "execution_count": null,
   "id": "e16f83c8",
   "metadata": {},
   "outputs": [],
   "source": [
    "plotEnrichment(fgsea_sets[[\"GOLDRATH_EFF_VS_MEMORY_CD8_TCELL_DN\"]],\n",
    "               ranks) + labs(title=\"GOLDRATH_EFF_VS_MEMORY_CD8_TCELL_DN\") + \n",
    "\n",
    "plotEnrichment(fgsea_sets[[\"GOLDRATH_NAIVE_VS_EFF_CD8_TCELL_UP\"]],\n",
    "               ranks) + labs(title=\"GOLDRATH_NAIVE_VS_EFF_CD8_TCELL_UP\") +\n",
    "\n",
    "plotEnrichment(fgsea_sets[[\"GOLDRATH_NAIVE_VS_MEMORY_CD8_TCELL_UP\"]],\n",
    "               ranks) + labs(title=\"GOLDRATH_NAIVE_VS_MEMORY_CD8_TCELL_UP\") +\n",
    "\n",
    "plotEnrichment(fgsea_sets[[\"GSE11057_NAIVE_VS_CENT_MEMORY_CD4_TCELL_UP\"]],\n",
    "               ranks) + labs(title=\"GSE11057_NAIVE_VS_CENT_MEMORY_CD4_TCELL_UP\") \n",
    "\n"
   ]
  },
  {
   "cell_type": "code",
   "execution_count": null,
   "id": "bbba509f",
   "metadata": {},
   "outputs": [],
   "source": [
    "plotEnrichment(fgsea_sets[[\"GSE11057_NAIVE_VS_CENT_MEMORY_CD4_TCELL_UP\"]],\n",
    "               ranks) + labs(title=\"GSE11057_NAIVE_VS_CENT_MEMORY_CD4_TCELL_UP\") +\n",
    "\n",
    "plotEnrichment(fgsea_sets[[\"GSE11057_NAIVE_VS_EFF_MEMORY_CD4_TCELL_DN\"]],\n",
    "               ranks) + labs(title=\"GSE11057_NAIVE_VS_EFF_MEMORY_CD4_TCELL_DN\") +\n",
    "\n",
    "plotEnrichment(fgsea_sets[[\"GSE11057_NAIVE_VS_EFF_MEMORY_CD4_TCELL_UP\"]],\n",
    "               ranks) + labs(title=\"GSE11057_NAIVE_VS_EFF_MEMORY_CD4_TCELL_UP\") +\n",
    "\n",
    "plotEnrichment(fgsea_sets[[\"GSE11057_NAIVE_VS_MEMORY_CD4_TCELL_DN\"]],\n",
    "               ranks) + labs(title=\"GSE11057_NAIVE_VS_MEMORY_CD4_TCELL_DN\") \n"
   ]
  },
  {
   "cell_type": "code",
   "execution_count": null,
   "id": "5e308e53",
   "metadata": {},
   "outputs": [],
   "source": [
    "options(repr.plot.width = 5, repr.plot.height = 3)\n",
    "plotEnrichment(fgsea_sets[[\"GSE11057_NAIVE_VS_MEMORY_CD4_TCELL_DN\"]],\n",
    "               ranks) + labs(title=\"GSE11057_NAIVE_VS_MEMORY_CD4_TCELL_DN\") "
   ]
  },
  {
   "cell_type": "code",
   "execution_count": null,
   "id": "9d3847ec",
   "metadata": {},
   "outputs": [],
   "source": [
    "plotEnrichment(fgsea_sets[[\"GSE11057_NAIVE_VS_MEMORY_CD4_TCELL_UP\"]],\n",
    "               ranks) + labs(title=\"GSE11057_NAIVE_VS_MEMORY_CD4_TCELL_UP\") "
   ]
  },
  {
   "cell_type": "code",
   "execution_count": null,
   "id": "5e0fc543",
   "metadata": {
    "scrolled": true
   },
   "outputs": [],
   "source": [
    "plotEnrichment(fgsea_sets[[\"GSE11057_NAIVE_VS_MEMORY_CD4_TCELL_UP\"]],\n",
    "               ranks) + labs(title=\"GSE11057_NAIVE_VS_MEMORY_CD4_TCELL_UP\") +\n",
    "\n",
    "plotEnrichment(fgsea_sets[[\"GSE13738_RESTING_VS_BYSTANDER_ACTIVATED_CD4_TCELL_DN\"]],\n",
    "               ranks) + labs(title=\"GSE13738_RESTING_VS_BYSTANDER_ACTIVATED_CD4_TCELL_DN\") +\n",
    "\n",
    "plotEnrichment(fgsea_sets[[\"GSE17974_0H_VS_24H_IN_VITRO_ACT_CD4_TCELL_DN\"]],\n",
    "               ranks) + labs(title=\"GSE17974_0H_VS_24H_IN_VITRO_ACT_CD4_TCELL_DN\") +\n",
    "\n",
    "plotEnrichment(fgsea_sets[[\"GSE17974_0H_VS_24H_IN_VITRO_ACT_CD4_TCELL_UP\"]],\n",
    "               ranks) + labs(title=\"GSE17974_0H_VS_24H_IN_VITRO_ACT_CD4_TCELL_UP\") \n"
   ]
  },
  {
   "cell_type": "markdown",
   "id": "e8bc6839",
   "metadata": {},
   "source": [
    "## T1DM and Lupus signatures"
   ]
  },
  {
   "cell_type": "code",
   "execution_count": null,
   "id": "5998ec4d",
   "metadata": {},
   "outputs": [],
   "source": [
    "i = 11"
   ]
  },
  {
   "cell_type": "code",
   "execution_count": null,
   "id": "8875dd65",
   "metadata": {},
   "outputs": [],
   "source": [
    "seurat_object  <- dataset_list[[i]]\n",
    "DefaultAssay(seurat_object)  <- \"RNA\"\n",
    "Idents(seurat_object)  <- seurat_object$Disease\n",
    "\n",
    "fc.seurat_object <- FindAllMarkers(seurat_object, \n",
    "                          test.use = \"wilcox\", \n",
    "                          logfc.threshold = -Inf, min.pct = -Inf, min.diff.pct = -Inf,\n",
    "                                   only.pos = F,  \n",
    "                                   min.cells.feature = 1, return.thresh = 1)"
   ]
  },
  {
   "cell_type": "code",
   "execution_count": null,
   "id": "ea56c0b2",
   "metadata": {
    "scrolled": true
   },
   "outputs": [],
   "source": [
    "fc.seurat_object"
   ]
  },
  {
   "cell_type": "code",
   "execution_count": null,
   "id": "74557669",
   "metadata": {},
   "outputs": [],
   "source": [
    "# CD4L1\n",
    "fc.df  <- read_csv(\"../tables/fold_change/cd4_l1_full_filt.csv\")  %>% as.data.frame()\n",
    "fc.df  <- fc.df  %>%  arrange(desc(avg_log2FC)) %>% \n",
    "dplyr::filter(cluster == \"Dia\")  %>% \n",
    "  dplyr::select(gene, avg_log2FC)\n",
    "ranks<- deframe(fc.df)"
   ]
  },
  {
   "cell_type": "code",
   "execution_count": null,
   "id": "2be1117b",
   "metadata": {},
   "outputs": [],
   "source": [
    "GOLDRATH_EFF_VS_MEMORY_CD8_TCELL_UP\t5.65E-05\t0.001949647\t0.557332239\t-0.578150085\t-1.721117732\t198\tcd4_l1_full_filt\tc(\"GZMA\", \"GZMB\", \"DUSP2\", \"H2AX\", \"PLAC8\", \"KLRG1\", \"IFITM3\", \"CKS2\", \"SERPINB9\", \"ADAM8\", \"MYADM\", \"DBI\", \"EGR1\", \"MRPL18\", \"BHLHE40\", \"TMEM14C\", \"PDCD1\", \"GZMK\", \"TMEM50B\", \"MT2A\", \"LITAF\", \"TUBA1B\", \"IFNG\", \"NUP62\", \"NR4A1\", \"CASP3\", \"MIS18BP1\", \"LMNB1\", \"ANXA4\", \"PSMA5\", \"DHFR\", \"S100A4\", \"IRF4\", \"GMNN\", \"LAG3\", \"CAPG\", \"ISG20\", \"TYROBP\", \"LXN\", \"UBE2T\", \"CCR2\", \"STMN1\", \"DHRS1\", \"CISD1\", \"TAGLN2\", \"YBX3\", \"TSPAN32\", \"SNX3\", \"FGL2\", \"KPNA2\", \"NFYB\")\n"
   ]
  },
  {
   "cell_type": "code",
   "execution_count": null,
   "id": "a62627bb",
   "metadata": {},
   "outputs": [],
   "source": [
    "plotEnrichment(fgsea_sets[[\"GOLDRATH_EFF_VS_MEMORY_CD8_TCELL_UP\"]],\n",
    "               ranks) + labs(title=\"GOLDRATH_EFF_VS_MEMORY_CD8_TCELL_UP\") "
   ]
  },
  {
   "cell_type": "code",
   "execution_count": null,
   "id": "9e2f84a3",
   "metadata": {},
   "outputs": [],
   "source": [
    "fc.df  <- read_csv(\"../tables/fold_change/cd4_l1_full_filt.csv\")  %>% as.data.frame()\n",
    "fc.df  %>% dplyr::filter(gene %in% c(\"GZMA\", \"GZMB\", \"DUSP2\",\"H2AX\",\"PLAC8\",\"KLRG1\"))"
   ]
  },
  {
   "cell_type": "code",
   "execution_count": null,
   "id": "2045515c",
   "metadata": {
    "scrolled": true
   },
   "outputs": [],
   "source": [
    "plotEnrichment(fgsea_sets[[\"GSE9006_HEALTHY_VS_TYPE_1_DIABETES_PBMC_AT_DX_DN\"]],\n",
    "               ranks) + labs(title=\"GSE9006_HEALTHY_VS_TYPE_1_DIABETES_PBMC_AT_DX_DN\") + \n",
    "\n",
    "plotEnrichment(fgsea_sets[[\"GSE9006_HEALTHY_VS_TYPE_1_DIABETES_PBMC_4MONTH_POST_DX_DN\"]],\n",
    "               ranks) + labs(title=\"GSE9006_HEALTHY_VS_TYPE_1_DIABETES_PBMC_4MONTH_POST_DX_DN\") +\n",
    "\n",
    "plotEnrichment(fgsea_sets[[\"GSE10325_CD4_TCELL_VS_LUPUS_CD4_TCELL_DN\"]],\n",
    "               ranks) + labs(title=\"GSE10325_CD4_TCELL_VS_LUPUS_CD4_TCELL_DN\") +\n",
    "\n",
    "plotEnrichment(fgsea_sets[[\"GSE10325_CD4_TCELL_VS_LUPUS_CD4_TCELL_UP\"]],\n",
    "               ranks) + labs(title=\"GSE10325_CD4_TCELL_VS_LUPUS_CD4_TCELL_UP\") "
   ]
  },
  {
   "cell_type": "code",
   "execution_count": null,
   "id": "2dd1f0ce",
   "metadata": {},
   "outputs": [],
   "source": [
    "GSE10325_CD4_TCELL_VS_LUPUS_CD4_TCELL_DN\n",
    "\n",
    "\n",
    "Healthy vs Lupus\n",
    "UP in Lupus"
   ]
  },
  {
   "cell_type": "code",
   "execution_count": null,
   "id": "d56ea666",
   "metadata": {
    "scrolled": true
   },
   "outputs": [],
   "source": [
    "fc.df  %>% dplyr::filter(gene %in% c(\"XAF1\", \"UBB\", \"IRF7\", \"IFI44L\", \"PSME2\", \"OAS1\", \"ARHGEF3\", \"MX1\", \"OAS2\", \"UBE2L6\", \"GBP1\", \"PSMB9\", \"RALA\", \"MT2A\", \"IFNG\", \"MRPL42\", \"IFI27\", \"IFIT1\", \"ISG15\", \"RAB11FIP1\", \"HERC5\", \"TAPBP\", \"IFI16\", \"C1orf21\", \"CLUAP1\", \"RTP4\", \"TAP1\", \"SNAPC3\", \"TRIM21\", \"OASL\", \"SP110\", \"H2BC12\", \"MX2\", \"PTPN22\", \"ME2\", \"SP100\", \"YARS1\", \"IRF4\", \"CAPZA1\", \"RBCK1\", \"CASP7\", \"LAG3\", \"ISG20\", \"PCYT1A\", \"PTPN2\", \"TNIP2\", \"STAT1\", \"IFI44\", \"TULP4\", \"ATP5MF\", \"PLSCR1\", \"KLF10\", \"YBX3\", \"USP46\", \"SAMD9\", \"TMSB10\", \n",
    "\"CDC5L\", \"UBE2Q1\", \"MYD88\", \"LIPC\", \"APOL1\", \"TRAFD1\", \"GSE1\", \"CD200\", \"PSME1\", \"ATP6V1A\", \"CEACAM1\", \"TLR5\", \"PIK3R3\"))"
   ]
  },
  {
   "cell_type": "code",
   "execution_count": null,
   "id": "619512bb",
   "metadata": {},
   "outputs": [],
   "source": []
  },
  {
   "cell_type": "code",
   "execution_count": null,
   "id": "34c95ac7",
   "metadata": {},
   "outputs": [],
   "source": [
    "GSE9006_HEALTHY_VS_TYPE_1_DIABETES_PBMC_AT_DX_DN\n",
    "Healthy vs Dia\n",
    "Up in Dia\n",
    "c(\"IER2\", \"FOSB\", \"ZFP36\", \"CISH\", \"SOCS3\", \"MYC\", \"RGCC\", \"MCL1\", \n",
    "  \"PNP\", \"IVNS1ABP\", \"CCR7\", \"EGR1\", \"CSNK1D\", \"PIM1\", \"OSTF1\", \"BTG2\", \n",
    "  \"AKTIP\", \"INPP5D\", \"NFYA\", \"GIGYF2\", \"CWC25\", \"SLC25A20\", \"S1PR1\", \"CKAP2\", \n",
    "  \"THRAP3\", \"FRAT2\", \"PPP1R10\", \"NRBF2\", \"CHM\", \"ELL2\", \"IRF4\", \"ST8SIA4\", \n",
    "  \"SELL\", \"MCRS1\", \"CORO1A\", \"ADAM19\", \"BTN2A1\")\n"
   ]
  },
  {
   "cell_type": "code",
   "execution_count": null,
   "id": "86f29de0",
   "metadata": {
    "scrolled": true
   },
   "outputs": [],
   "source": [
    "fc.df  %>% dplyr::filter(gene %in% c(\"IER2\", \"FOSB\", \"ZFP36\", \"CISH\", \"SOCS3\", \"MYC\", \"RGCC\", \"MCL1\", \n",
    "  \"PNP\", \"IVNS1ABP\", \"CCR7\", \"EGR1\", \"CSNK1D\", \"PIM1\", \"OSTF1\", \"BTG2\", \n",
    "  \"AKTIP\", \"INPP5D\", \"NFYA\", \"GIGYF2\", \"CWC25\", \"SLC25A20\", \"S1PR1\", \"CKAP2\", \n",
    "  \"THRAP3\", \"FRAT2\", \"PPP1R10\", \"NRBF2\", \"CHM\", \"ELL2\", \"IRF4\", \"ST8SIA4\", \n",
    "  \"SELL\", \"MCRS1\", \"CORO1A\", \"ADAM19\", \"BTN2A1\"))"
   ]
  },
  {
   "cell_type": "markdown",
   "id": "611df1fe",
   "metadata": {},
   "source": [
    "## Treg signatures"
   ]
  },
  {
   "cell_type": "code",
   "execution_count": null,
   "id": "64ce1f82",
   "metadata": {},
   "outputs": [],
   "source": [
    "plotEnrichment(fgsea_sets[[\"GSE14415_INDUCED_TREG_VS_FAILED_INDUCED_TREG_DN\"]],\n",
    "               ranks) + labs(title=\"GSE14415_INDUCED_TREG_VS_FAILED_INDUCED_TREG_DN\") + \n",
    "\n",
    "plotEnrichment(fgsea_sets[[\"GSE14415_INDUCED_TREG_VS_FOXP3_KO_INDUCED_TREG_DN\"]],\n",
    "               ranks) + labs(title=\"GSE14415_INDUCED_TREG_VS_FOXP3_KO_INDUCED_TREG_DN\") +\n",
    "\n",
    "plotEnrichment(fgsea_sets[[\"GSE14415_INDUCED_TREG_VS_FOXP3_KO_INDUCED_TREG_IL2_CULTURE_UP\"]],\n",
    "               ranks) + labs(title=\"GSE14415_INDUCED_TREG_VS_FOXP3_KO_INDUCED_TREG_IL2_CULTURE_UP\") +\n",
    "\n",
    "plotEnrichment(fgsea_sets[[\"GSE14415_NATURAL_TREG_VS_FOXP3_KO_NATURAL_TREG_UP\"]],\n",
    "               ranks) + labs(title=\"GSE14415_NATURAL_TREG_VS_FOXP3_KO_NATURAL_TREG_UP\") "
   ]
  },
  {
   "cell_type": "code",
   "execution_count": null,
   "id": "cd0309ee",
   "metadata": {},
   "outputs": [],
   "source": [
    "\n",
    "\n",
    "plotEnrichment(fgsea_sets[[\"GSE14415_NATURAL_TREG_VS_TCONV_UP\"]],\n",
    "               ranks) + labs(title=\"GSE14415_NATURAL_TREG_VS_TCONV_UP\") + \n",
    "\n",
    "plotEnrichment(fgsea_sets[[\"GSE14415_ACT_TCONV_VS_ACT_NATURAL_TREG_DN\"]],\n",
    "               ranks) + labs(title=\"GSE14415_ACT_TCONV_VS_ACT_NATURAL_TREG_DN\") +\n",
    "\n",
    "plotEnrichment(fgsea_sets[[\"GSE18893_TCONV_VS_TREG_2H_CULTURE_DN\"]],\n",
    "               ranks) + labs(title=\"GSE18893_TCONV_VS_TREG_2H_CULTURE_DN\") +\n",
    "\n",
    "plotEnrichment(fgsea_sets[[\"GSE27434_WT_VS_DNMT1_KO_TREG_DN\"]],\n",
    "               ranks) + labs(title=\"GSE27434_WT_VS_DNMT1_KO_TREG_DN\") "
   ]
  },
  {
   "cell_type": "code",
   "execution_count": null,
   "id": "5104dbba",
   "metadata": {},
   "outputs": [],
   "source": [
    "\n",
    "plotEnrichment(fgsea_sets[[\"GSE37532_WT_VS_PPARG_KO_LN_TREG_DN\"]],\n",
    "               ranks) + labs(title=\"GSE37532_WT_VS_PPARG_KO_LN_TREG_DN\") + \n",
    "\n",
    "plotEnrichment(fgsea_sets[[\"GSE37533_PPARG1_FOXP3_VS_FOXP3_TRANSDUCED_CD4_TCELL_DN\"]],\n",
    "               ranks) + labs(title=\"GSE37533_PPARG1_FOXP3_VS_FOXP3_TRANSDUCED_CD4_TCELL_DN\") +\n",
    "\n",
    "plotEnrichment(fgsea_sets[[\"GSE37533_PPARG2_FOXP3_VS_FOXP3_TRANSDUCED_CD4_TCELL_DN\"]],\n",
    "               ranks) + labs(title=\"GSE37533_PPARG2_FOXP3_VS_FOXP3_TRANSDUCED_CD4_TCELL_DN\") +\n",
    "\n",
    "plotEnrichment(fgsea_sets[[\"GSE37605_C57BL6_VS_NOD_FOXP3_FUSION_GFP_TREG_DN\"]],\n",
    "               ranks) + labs(title=\"GSE37605_C57BL6_VS_NOD_FOXP3_FUSION_GFP_TREG_DN\") "
   ]
  },
  {
   "cell_type": "code",
   "execution_count": null,
   "id": "ce69e545",
   "metadata": {},
   "outputs": [],
   "source": [
    "plotEnrichment(fgsea_sets[[\"GSE40685_NAIVE_CD4_TCELL_VS_FOXP3_KO_TREG_PRECURSOR_UP\"]],\n",
    "               ranks) + labs(title=\"GSE40685_NAIVE_CD4_TCELL_VS_FOXP3_KO_TREG_PRECURSOR_UP\") + \n",
    "\n",
    "plotEnrichment(fgsea_sets[[\"GSE40685_TREG_VS_FOXP3_KO_TREG_PRECURSOR_DN\"]],\n",
    "               ranks) + labs(title=\"GSE40685_TREG_VS_FOXP3_KO_TREG_PRECURSOR_DN\") +\n",
    "\n",
    "plotEnrichment(fgsea_sets[[\"GSE40685_TREG_VS_FOXP3_KO_TREG_PRECURSOR_UP\"]],\n",
    "               ranks) + labs(title=\"GSE40685_TREG_VS_FOXP3_KO_TREG_PRECURSOR_UP\") +\n",
    "\n",
    "plotEnrichment(fgsea_sets[[\"GSE37605_C57BL6_VS_NOD_FOXP3_FUSION_GFP_TREG_DN\"]],\n",
    "               ranks) + labs(title=\"GSE37605_C57BL6_VS_NOD_FOXP3_FUSION_GFP_TREG_DN\") "
   ]
  },
  {
   "cell_type": "code",
   "execution_count": null,
   "id": "21f519b9",
   "metadata": {
    "scrolled": true
   },
   "outputs": [],
   "source": [
    "gseas"
   ]
  },
  {
   "cell_type": "code",
   "execution_count": null,
   "id": "499d3d92",
   "metadata": {},
   "outputs": [],
   "source": [
    "options(repr.plot.width = 10, repr.plot.height = 15)\n",
    "gseas  %>% arrange(ES)  %>% \n",
    "dplyr::filter(grepl(pathway, pattern = \"TREG\") & dataset == \"cd4_l1_full_filt\")  %>% \n",
    "ggplot(aes(x = pathway, y = ES)) + \n",
    "geom_point(aes(size = size, color = grepl(pathway, pattern = \"UP\"), alpha = -padj)) + coord_flip()"
   ]
  },
  {
   "cell_type": "markdown",
   "id": "bff09043",
   "metadata": {},
   "source": [
    "### IPEX Treg our Treg"
   ]
  },
  {
   "cell_type": "code",
   "execution_count": null,
   "id": "3914ee99",
   "metadata": {},
   "outputs": [],
   "source": [
    "fc.df  <- read_csv(\"../tables/fold_change/cd4_l3_treg.csv\")  %>% as.data.frame()\n"
   ]
  },
  {
   "cell_type": "code",
   "execution_count": null,
   "id": "0d139ed7",
   "metadata": {
    "scrolled": true
   },
   "outputs": [],
   "source": [
    "fc.df"
   ]
  },
  {
   "cell_type": "code",
   "execution_count": null,
   "id": "de2f98df",
   "metadata": {},
   "outputs": [],
   "source": [
    "zemmour  <- read_xlsx(\"../data/published_data/Zemmour_2018/zemmour2.xlsx\")"
   ]
  },
  {
   "cell_type": "code",
   "execution_count": null,
   "id": "5b816d11",
   "metadata": {},
   "outputs": [],
   "source": [
    "table(zemmour$gene %in% fc.df$gene)"
   ]
  },
  {
   "cell_type": "markdown",
   "id": "8d39676b",
   "metadata": {},
   "source": [
    "zemmour is ipex vs healthy"
   ]
  },
  {
   "cell_type": "code",
   "execution_count": null,
   "id": "d02e3868",
   "metadata": {
    "scrolled": true
   },
   "outputs": [],
   "source": [
    "fc.df  %>% dplyr::filter(cluster == \"Dia\")  %>% left_join(zemmour) "
   ]
  },
  {
   "cell_type": "code",
   "execution_count": null,
   "id": "a01b7df3",
   "metadata": {},
   "outputs": [],
   "source": [
    "ipex_in_our  <- fc.df  %>% dplyr::filter(cluster == \"Dia\")  %>% left_join(zemmour)  %>% \n",
    "dplyr::filter(!is.na(Average_FC_in_Treg))"
   ]
  },
  {
   "cell_type": "code",
   "execution_count": null,
   "id": "b13d287d",
   "metadata": {
    "scrolled": true
   },
   "outputs": [],
   "source": [
    "ipex_in_our"
   ]
  },
  {
   "cell_type": "code",
   "execution_count": null,
   "id": "a862e157",
   "metadata": {},
   "outputs": [],
   "source": [
    "ipex_in_our %>%  ggplot(aes(x=avg_log2FC, y=Average_FC_in_Treg)) +\n",
    "  geom_point(shape = 16, size = 2) +\n",
    " geom_smooth(method=lm) + ggtitle(\"\") +stat_cor() + theme_classic() + ggtheme() +\n",
    " scale_y_continuous() + NoLegend() +\n",
    "geom_hline(yintercept = 1)"
   ]
  },
  {
   "cell_type": "code",
   "execution_count": null,
   "id": "5224abd3",
   "metadata": {},
   "outputs": [],
   "source": [
    "treg_ipex_up  <- ipex_in_our  %>% dplyr::filter(Average_FC_in_Treg>1)  %>% pull(gene)"
   ]
  },
  {
   "cell_type": "code",
   "execution_count": null,
   "id": "b1893573",
   "metadata": {},
   "outputs": [],
   "source": [
    "treg_ipex_down  <- ipex_in_our  %>% dplyr::filter(Average_FC_in_Treg<1)  %>% pull(gene)"
   ]
  },
  {
   "cell_type": "code",
   "execution_count": null,
   "id": "1f5ff573",
   "metadata": {},
   "outputs": [],
   "source": [
    "# CD4L1\n",
    "fc.df  <- read_csv(\"../tables/fold_change/cd4_l3_treg.csv\")  %>% as.data.frame()\n",
    "fc.df  <- fc.df  %>%  arrange(desc(avg_log2FC)) %>% \n",
    "dplyr::filter(cluster == \"Dia\")  %>% \n",
    "  dplyr::select(gene, avg_log2FC)\n",
    "ranks<- deframe(fc.df)"
   ]
  },
  {
   "cell_type": "code",
   "execution_count": null,
   "id": "929e7d4a",
   "metadata": {},
   "outputs": [],
   "source": [
    "options(repr.plot.width = 5, repr.plot.height = 3)\n",
    "\n",
    "plotEnrichment(treg_ipex_up,\n",
    "               ranks) + labs(title=\"treg_ipex_up\") \n",
    "\n",
    "plotEnrichment(treg_ipex_down,\n",
    "               ranks) + labs(title=\"treg_ipex_down\") \n"
   ]
  },
  {
   "cell_type": "code",
   "execution_count": null,
   "id": "f05ded98",
   "metadata": {},
   "outputs": [],
   "source": [
    "fgseaRes <- fgsea(pathways = list(treg_ipex_up = treg_ipex_up, treg_ipex_down = treg_ipex_down), \n",
    "                 stats = ranks)"
   ]
  },
  {
   "cell_type": "code",
   "execution_count": null,
   "id": "5ae1edd4",
   "metadata": {},
   "outputs": [],
   "source": [
    "fgseaRes"
   ]
  },
  {
   "cell_type": "code",
   "execution_count": null,
   "id": "b1ddc8b3",
   "metadata": {
    "scrolled": true
   },
   "outputs": [],
   "source": [
    "ipex_in_our"
   ]
  },
  {
   "cell_type": "code",
   "execution_count": null,
   "id": "62bedefa",
   "metadata": {},
   "outputs": [],
   "source": [
    "ipex_in_our_rank  <- ipex_in_our  %>% dplyr::select(avg_log2FC, Average_FC_in_Treg)  %>% \n",
    "mutate_each(funs(dense_rank(-.))) "
   ]
  },
  {
   "cell_type": "code",
   "execution_count": null,
   "id": "2fb9c896",
   "metadata": {
    "scrolled": true
   },
   "outputs": [],
   "source": [
    "ipex_in_our_rank$gene  <- ipex_in_our$gene"
   ]
  },
  {
   "cell_type": "code",
   "execution_count": null,
   "id": "359be6cf",
   "metadata": {
    "scrolled": true
   },
   "outputs": [],
   "source": [
    "ipex_in_our_rank"
   ]
  },
  {
   "cell_type": "code",
   "execution_count": null,
   "id": "12d3e54f",
   "metadata": {
    "scrolled": true
   },
   "outputs": [],
   "source": [
    "ipex_in_our_rank %>% mutate(decile_ipex = ntile(Average_FC_in_Treg, 10),\n",
    "                            dec_our = ntile(avg_log2FC, 10)\n",
    "                            )  %>% group_by(decile_ipex, dec_our)  %>% tally"
   ]
  },
  {
   "cell_type": "code",
   "execution_count": null,
   "id": "1d79bd31",
   "metadata": {},
   "outputs": [],
   "source": [
    "\n",
    "options(repr.plot.width = 6, repr.plot.height = 5)\n",
    "ipex_in_our_rank %>% mutate(decile_ipex = ntile(Average_FC_in_Treg, 8),\n",
    "                            dec_our = ntile(avg_log2FC, 8)\n",
    "                            )  %>% group_by(decile_ipex, dec_our)  %>% tally  %>% \n",
    "ggplot(aes(decile_ipex, dec_our)) + \n",
    "  geom_point(aes(size = n, colour = n)) + \n",
    "  theme_bw() + scale_size_continuous(range=c(7,12)) +\n",
    "  geom_text(aes(label = n)) + \n",
    "  scale_colour_gradient2(low = \"lightskyblue\", mid = \"lightsteelblue2\", high = \"salmon\", midpoint = 2) +\n",
    "  theme_bw()\n"
   ]
  },
  {
   "cell_type": "code",
   "execution_count": null,
   "id": "33cb0d87",
   "metadata": {},
   "outputs": [],
   "source": [
    "ipex_in_our_rank %>% mutate(decile_ipex = ntile(Average_FC_in_Treg, 10),\n",
    "                            decile_our = ntile(avg_log2FC, 10)\n",
    "                            )  %>% dplyr::filter(decile_ipex == 10 & decile_our == 10)"
   ]
  },
  {
   "cell_type": "code",
   "execution_count": null,
   "id": "0af93d2e",
   "metadata": {},
   "outputs": [],
   "source": [
    "genes_first_decile  <- ipex_in_our_rank %>% mutate(decile_ipex = ntile(Average_FC_in_Treg, 10),\n",
    "                            decile_our = ntile(avg_log2FC, 10)\n",
    "                            )  %>% dplyr::filter(decile_ipex == 1 & decile_our == 1)  %>% pull(gene)"
   ]
  },
  {
   "cell_type": "code",
   "execution_count": null,
   "id": "c88838e7",
   "metadata": {
    "scrolled": true
   },
   "outputs": [],
   "source": [
    "ipex_in_our  %>% dplyr::filter(gene %in% genes_first_decile)"
   ]
  },
  {
   "cell_type": "code",
   "execution_count": null,
   "id": "85f86af4",
   "metadata": {},
   "outputs": [],
   "source": [
    "genes_last_decile  <- ipex_in_our_rank %>% mutate(decile_ipex = ntile(Average_FC_in_Treg, 10),\n",
    "                            decile_our = ntile(avg_log2FC, 10)\n",
    "                            )  %>% dplyr::filter(decile_ipex == 10 & decile_our == 10)  %>% pull(gene)"
   ]
  },
  {
   "cell_type": "code",
   "execution_count": null,
   "id": "e40640cc",
   "metadata": {},
   "outputs": [],
   "source": [
    "genes_last_zemmour  <- ipex_in_our_rank %>% mutate(\n",
    "                            decile_ipex = ntile(Average_FC_in_Treg, 10),\n",
    "                            )  %>% dplyr::filter(decile_ipex == 10)  %>% pull(gene)"
   ]
  },
  {
   "cell_type": "code",
   "execution_count": null,
   "id": "1351026b",
   "metadata": {},
   "outputs": [],
   "source": [
    "genes_first_zemmour  <- ipex_in_our_rank %>% mutate(\n",
    "                            decile_ipex = ntile(Average_FC_in_Treg, 10),\n",
    "                            )  %>% dplyr::filter(decile_ipex == 1)  %>% pull(gene)"
   ]
  },
  {
   "cell_type": "code",
   "execution_count": null,
   "id": "b84bef54",
   "metadata": {},
   "outputs": [],
   "source": [
    "genes_first_zemmour"
   ]
  },
  {
   "cell_type": "code",
   "execution_count": null,
   "id": "97940a73",
   "metadata": {},
   "outputs": [],
   "source": [
    "genes_last_zemmour"
   ]
  },
  {
   "cell_type": "code",
   "execution_count": null,
   "id": "2da7e080",
   "metadata": {},
   "outputs": [],
   "source": [
    "write.csv(genes_first_zemmour, \"../data/published_data/Zemmour_2018/genes_first_zemmour.csv\")\n",
    "write.csv(genes_last_zemmour, \"../data/published_data/Zemmour_2018/genes_last_zemmour.csv\")"
   ]
  },
  {
   "cell_type": "markdown",
   "id": "3c824cc1",
   "metadata": {},
   "source": [
    "## IPEX CD4 in CD4"
   ]
  },
  {
   "cell_type": "code",
   "execution_count": null,
   "id": "3a7dbaa4",
   "metadata": {},
   "outputs": [],
   "source": [
    "# CD4L1\n",
    "fc.df  <- read_csv(\"../tables/fold_change/cd4_l1_full_filt.csv\")  %>% as.data.frame()\n",
    "fc.df  <- fc.df  %>%  arrange(desc(avg_log2FC)) %>% \n",
    "dplyr::filter(cluster == \"Dia\")  %>% \n",
    "  dplyr::select(gene, avg_log2FC)\n",
    "ranks<- deframe(fc.df)"
   ]
  },
  {
   "cell_type": "code",
   "execution_count": null,
   "id": "7e63dcd7",
   "metadata": {},
   "outputs": [],
   "source": [
    "zemmour  <- read_xlsx(\"../data/zemmour2.xlsx\")"
   ]
  },
  {
   "cell_type": "code",
   "execution_count": null,
   "id": "359be860",
   "metadata": {},
   "outputs": [],
   "source": [
    "table(zemmour$gene %in% fc.df$gene)"
   ]
  },
  {
   "cell_type": "markdown",
   "id": "2c218de2",
   "metadata": {},
   "source": [
    "zemmour is ipex vs healthy"
   ]
  },
  {
   "cell_type": "code",
   "execution_count": null,
   "id": "70c77e8e",
   "metadata": {},
   "outputs": [],
   "source": [
    "ipex_in_our  <- fc.df  %>% left_join(zemmour)  %>% \n",
    "dplyr::filter(!is.na(Average_FC_in_Tconv))"
   ]
  },
  {
   "cell_type": "code",
   "execution_count": null,
   "id": "aab22ba4",
   "metadata": {
    "scrolled": true
   },
   "outputs": [],
   "source": [
    "ipex_in_our"
   ]
  },
  {
   "cell_type": "code",
   "execution_count": null,
   "id": "433bd1e2",
   "metadata": {},
   "outputs": [],
   "source": [
    "ipex_in_our %>%  ggplot(aes(x=avg_log2FC, y=Average_FC_in_Tconv)) +\n",
    "  geom_point(shape = 16, size = 2) +\n",
    " geom_smooth(method=lm) + ggtitle(\"\") +stat_cor() + theme_classic() + ggtheme() +\n",
    " scale_y_continuous() + NoLegend() +\n",
    "geom_hline(yintercept = 1)"
   ]
  },
  {
   "cell_type": "code",
   "execution_count": null,
   "id": "0182a274",
   "metadata": {},
   "outputs": [],
   "source": [
    "cd4_ipex_up  <- ipex_in_our  %>% dplyr::filter(Average_FC_in_Tconv>1)  %>% pull(gene)"
   ]
  },
  {
   "cell_type": "code",
   "execution_count": null,
   "id": "5e9bf36f",
   "metadata": {},
   "outputs": [],
   "source": [
    "cd4_ipex_down  <- ipex_in_our  %>% dplyr::filter(Average_FC_in_Tconv<1)  %>% pull(gene)"
   ]
  },
  {
   "cell_type": "code",
   "execution_count": null,
   "id": "b13507f3",
   "metadata": {},
   "outputs": [],
   "source": [
    "\n",
    "plotEnrichment(treg_ipex_up,\n",
    "               ranks) + labs(title=\"cd4_ipex_up\") \n",
    "\n",
    "ggsave(filename = \"../figures/gsea/pathway_plot_ipex_in_treg_up.png\", width = 15, height = 9, units = \"cm\")\n",
    "ggsave(filename = \"../figures/gsea/pathway_plot_ipex_in_treg_up.svg\", width = 15, height = 9, units = \"cm\")\n",
    "\n",
    "\n",
    "plotEnrichment(treg_ipex_down,\n",
    "               ranks) + labs(title=\"cd4_ipex_down\") \n",
    "\n",
    "ggsave(filename = \"../figures/gsea/pathway_plot_ipex_in_treg_dn.png\", width = 15, height = 9, units = \"cm\")\n",
    "ggsave(filename = \"../figures/gsea/pathway_plot_ipex_in_treg_dn.svg\", width = 15, height = 9, units = \"cm\")\n"
   ]
  },
  {
   "cell_type": "code",
   "execution_count": null,
   "id": "a1cdb7c4",
   "metadata": {},
   "outputs": [],
   "source": [
    "fgseaRes <- fgsea(pathways = list(cd4_ipex_up = cd4_ipex_up, cd4_ipex_down = cd4_ipex_down), \n",
    "                 stats = ranks)"
   ]
  },
  {
   "cell_type": "code",
   "execution_count": null,
   "id": "b8682d86",
   "metadata": {},
   "outputs": [],
   "source": [
    "fgseaRes$leadingEdge"
   ]
  },
  {
   "cell_type": "markdown",
   "id": "6570bbcd",
   "metadata": {},
   "source": [
    "### Correlation plot"
   ]
  },
  {
   "cell_type": "code",
   "execution_count": null,
   "id": "94801cf0",
   "metadata": {
    "scrolled": true
   },
   "outputs": [],
   "source": [
    "ipex_in_our"
   ]
  },
  {
   "cell_type": "code",
   "execution_count": null,
   "id": "5f2a1b17",
   "metadata": {},
   "outputs": [],
   "source": [
    "ipex_in_our_rank  <- ipex_in_our  %>% dplyr::select(-gene)  %>% \n",
    "mutate_each(funs(dense_rank(-.))) "
   ]
  },
  {
   "cell_type": "code",
   "execution_count": null,
   "id": "2730e1da",
   "metadata": {
    "scrolled": true
   },
   "outputs": [],
   "source": [
    "ipex_in_our_rank$gene  <- ipex_in_our$gene"
   ]
  },
  {
   "cell_type": "code",
   "execution_count": null,
   "id": "bfded701",
   "metadata": {
    "scrolled": true
   },
   "outputs": [],
   "source": [
    "ipex_in_our_rank"
   ]
  },
  {
   "cell_type": "code",
   "execution_count": null,
   "id": "eb30c3cb",
   "metadata": {},
   "outputs": [],
   "source": [
    "ipex_in_our_rank %>%  ggplot(aes(x=avg_log2FC, y=Average_FC_in_Tconv)) +\n",
    "  geom_point(shape = 16, size = 2) +\n",
    " geom_smooth(method=lm) + ggtitle(\"\") +stat_cor() + theme_classic() + ggtheme() +\n",
    " scale_y_continuous() + NoLegend() +\n",
    "geom_hline(yintercept = 1)"
   ]
  },
  {
   "cell_type": "code",
   "execution_count": null,
   "id": "b7e5068b",
   "metadata": {
    "scrolled": true
   },
   "outputs": [],
   "source": [
    "ipex_in_our_rank %>% mutate(eightile_ipex = ntile(Average_FC_in_Tconv, 10),\n",
    "                            eight_our = ntile(avg_log2FC, 10)\n",
    "                            )  %>% group_by(eightile_ipex, eight_our)  %>% tally"
   ]
  },
  {
   "cell_type": "code",
   "execution_count": null,
   "id": "0c884e88",
   "metadata": {},
   "outputs": [],
   "source": [
    "\n",
    "options(repr.plot.width = 6, repr.plot.height = 5)\n",
    "ipex_in_our_rank %>% mutate(eightile_ipex = ntile(Average_FC_in_Tconv, 8),\n",
    "                            eight_our = ntile(avg_log2FC, 8)\n",
    "                            )  %>% group_by(eightile_ipex, eight_our)  %>% tally  %>% \n",
    "ggplot(aes(eightile_ipex, eight_our)) + \n",
    "  geom_point(aes(size = n, colour = n)) + \n",
    "  theme_bw() + scale_size_continuous(range=c(7,12)) +\n",
    "  geom_text(aes(label = n)) + \n",
    "  scale_colour_gradient2(low = \"lightskyblue\", mid = \"lightsteelblue2\", high = \"salmon\", midpoint = 2) +\n",
    "  theme_bw()\n"
   ]
  },
  {
   "cell_type": "code",
   "execution_count": null,
   "id": "2936f4ee",
   "metadata": {},
   "outputs": [],
   "source": [
    "ipex_in_our_rank %>% mutate(eightile_ipex = ntile(Average_FC_in_Tconv, 8),\n",
    "                            eight_our = ntile(avg_log2FC, 8)\n",
    "                            )  %>% dplyr::filter(eightile_ipex == 8 & eight_our == 8)"
   ]
  },
  {
   "cell_type": "code",
   "execution_count": null,
   "id": "b1793e6a",
   "metadata": {},
   "outputs": [],
   "source": [
    "genes_first_decile  <- ipex_in_our_rank %>% mutate(decile_ipex = ntile(Average_FC_in_Tconv, 8),\n",
    "                            decile_our = ntile(avg_log2FC, 8)\n",
    "                            )  %>% dplyr::filter(decile_ipex == 1 & decile_our == 1)  %>% pull(gene)"
   ]
  },
  {
   "cell_type": "code",
   "execution_count": null,
   "id": "dd188965",
   "metadata": {},
   "outputs": [],
   "source": [
    "ipex_in_our  %>% dplyr::filter(gene %in% genes_first_decile)"
   ]
  },
  {
   "cell_type": "code",
   "execution_count": null,
   "id": "b31749ca",
   "metadata": {},
   "outputs": [],
   "source": [
    "genes_last_decile  <- ipex_in_our_rank %>% mutate(decile_ipex = ntile(Average_FC_in_Tconv, 10),\n",
    "                            decile_our = ntile(avg_log2FC, 10)\n",
    "                            )  %>% dplyr::filter(decile_ipex == 10 & decile_our == 10)  %>% pull(gene)"
   ]
  },
  {
   "cell_type": "code",
   "execution_count": null,
   "id": "9d4faa58",
   "metadata": {},
   "outputs": [],
   "source": [
    "ipex_in_our  %>% dplyr::filter(gene %in% genes_last_decile)  %>% dplyr::select(gene) "
   ]
  },
  {
   "cell_type": "markdown",
   "id": "f34662f7",
   "metadata": {},
   "source": [
    "### Treg in Treg"
   ]
  },
  {
   "cell_type": "code",
   "execution_count": null,
   "id": "ba975067",
   "metadata": {},
   "outputs": [],
   "source": [
    "library(fgsea)"
   ]
  },
  {
   "cell_type": "code",
   "execution_count": null,
   "id": "de510dba",
   "metadata": {},
   "outputs": [],
   "source": [
    "# CD4L1\n",
    "fc.df  <- read_csv(\"../tables/fold_change/cd4_l3_treg.csv\")  %>% as.data.frame()\n",
    "fc.df  <- fc.df  %>%  arrange(desc(avg_log2FC)) %>% \n",
    "dplyr::filter(cluster == \"Dia\")  %>% \n",
    "  dplyr::select(gene, avg_log2FC)\n",
    "ranks<- deframe(fc.df)"
   ]
  },
  {
   "cell_type": "code",
   "execution_count": null,
   "id": "ea66737b",
   "metadata": {
    "scrolled": true
   },
   "outputs": [],
   "source": [
    "gseas  <- read_csv(\"../tables/gsea/gsea_fold_changes_dia_vsctrl.csv\")"
   ]
  },
  {
   "cell_type": "code",
   "execution_count": null,
   "id": "2cf73e37",
   "metadata": {
    "scrolled": true
   },
   "outputs": [],
   "source": [
    "gseas  %>% \n",
    "dplyr::filter(dataset == \"cd4_l3_treg\" & grepl(pathway, pattern = \"TREG\"))  %>% \n",
    "dplyr::select(-leadingEdge2)  %>% \n",
    "arrange(padj)"
   ]
  },
  {
   "cell_type": "code",
   "execution_count": null,
   "id": "76948d76",
   "metadata": {},
   "outputs": [],
   "source": [
    "gseas  %>% \n",
    "dplyr::filter(dataset == \"cd4_l3_treg\" & grepl(pathway, pattern = \"GSE40685_TREG_VS_FOXP3_KO_TREG_PRECURSOR\")) "
   ]
  },
  {
   "cell_type": "code",
   "execution_count": null,
   "id": "8453f69b",
   "metadata": {},
   "outputs": [],
   "source": [
    "gseas  %>% \n",
    "dplyr::filter(dataset == \"cd4_l3_treg\" & grepl(pathway, pattern = \"GSE40685_TREG_VS_FOXP3_KO_TREG_PRECURSOR_UP\"))  %>% pull(leadingEdge2) "
   ]
  },
  {
   "cell_type": "code",
   "execution_count": null,
   "id": "c22cb173",
   "metadata": {},
   "outputs": [],
   "source": [
    "gseas  %>% \n",
    "dplyr::filter(dataset == \"cd4_l3_treg\" & grepl(pathway, pattern = \"GSE40685_TREG_VS_FOXP3_KO_TREG_PRECURSOR_DN\"))  %>% pull(leadingEdge2) "
   ]
  },
  {
   "cell_type": "code",
   "execution_count": null,
   "id": "48a664ff",
   "metadata": {},
   "outputs": [],
   "source": [
    "intersect(c(\"HLA-DQB1\", \"IFI44L\", \"SOCS3\", \"EPSTI1\", \"TNFSF10\", \"HLA-DRA\", \"MYO1G\", \"RNF114\", \"OAS2\", \"IL2RA\", \"GLRX\", \"UBB\", \"GBP5\", \"CCDC69\", \"IFITM2\", \"TRANK1\", \"IFIT1\", \"C5orf15\", \"IFIH1\", \"PLAAT4\", \"GIMAP4\", \"JAK3\", \"TNF\", \"STAT2\", \"TBC1D2B\", \"DPYD\", \"GBP4\", \"TRIM69\", \"ORAI2\", \"CISH\", \"IGFLR1\", \"HAPLN3\", \"SP110\", \"SNX10\", \"IL12RB1\", \"WDR48\", \"CD38\", \"MTO1\", \"HELB\", \"NUP58\", \"DAPP1\", \"PARP14\", \"PSME1\", \"APOL3\", \"GCH1\", \"C1RL\", \"LGMN\", \"BATF\", \"IFIT2\", \"HIVEP2\", \"RNF20\", \"CRK\", \"APOL6\", \"PECAM1\", \"ZNFX1\", \"AKAP7\", \"SNRPC\", \"CNIH4\", \"SETBP1\", \"RSAD2\", \"PDE7A\", \"CD74\"),\n",
    "         c(\"BTN3A2\", \"MX1\", \"XAF1\", \"IFI44L\", \"EPSTI1\", \"LY6E\", \"TNFSF10\", \"RNF114\", \"OAS2\", \"SAMD9L\", \"RCSD1\", \"GBP5\", \"TRANK1\", \"PSME2\", \"GIMAP6\", \"TAP1\", \"PLAAT4\", \"HLA-A\", \"GIMAP4\", \"PCYT1A\", \"STAT2\", \"UBE2L6\", \"GBP4\", \"SEC14L1\", \"HAPLN3\", \"KDM6A\", \"VAMP5\", \"SP110\", \"SNX10\", \"ACSS1\", \"OASL\", \"APOL1\", \"PARP14\", \"PSME1\", \"ASPHD2\", \"IL17RA\", \"GCH1\", \"TRIM21\", \"RTP4\", \"WDFY1\", \"SCO2\", \"GRIPAP1\", \"IFIT2\", \"ADAR\", \"SH3GLB1\", \"APOL6\", \"SMCO4\", \"ZNFX1\", \"PIK3R3\", \"IRF9\", \"IFIT3\", \"PARP9\", \"PPP2R2A\", \"RSAD2\", \"CASP7\", \"THEMIS2\"))"
   ]
  },
  {
   "cell_type": "code",
   "execution_count": null,
   "id": "0e876658",
   "metadata": {},
   "outputs": [],
   "source": [
    "gseas  %>% dplyr::filter()"
   ]
  },
  {
   "cell_type": "code",
   "execution_count": null,
   "id": "734a5f10",
   "metadata": {},
   "outputs": [],
   "source": [
    "options(repr.plot.width = 20, repr.plot.height = 8)\n"
   ]
  },
  {
   "cell_type": "code",
   "execution_count": null,
   "id": "4e9ead64",
   "metadata": {},
   "outputs": [],
   "source": [
    "plotEnrichment(fgsea_sets[[\"GSE14415_INDUCED_TREG_VS_FAILED_INDUCED_TREG_DN\"]],\n",
    "               ranks) + labs(title=\"GSE14415_INDUCED_TREG_VS_FAILED_INDUCED_TREG_DN\") + \n",
    "\n",
    "plotEnrichment(fgsea_sets[[\"GSE14415_INDUCED_TREG_VS_FOXP3_KO_INDUCED_TREG_DN\"]],\n",
    "               ranks) + labs(title=\"GSE14415_INDUCED_TREG_VS_FOXP3_KO_INDUCED_TREG_DN\") +\n",
    "\n",
    "plotEnrichment(fgsea_sets[[\"GSE14415_INDUCED_TREG_VS_FOXP3_KO_INDUCED_TREG_IL2_CULTURE_UP\"]],\n",
    "               ranks) + labs(title=\"GSE14415_INDUCED_TREG_VS_FOXP3_KO_INDUCED_TREG_IL2_CULTURE_UP\") +\n",
    "\n",
    "plotEnrichment(fgsea_sets[[\"GSE14415_NATURAL_TREG_VS_FOXP3_KO_NATURAL_TREG_UP\"]],\n",
    "               ranks) + labs(title=\"GSE14415_NATURAL_TREG_VS_FOXP3_KO_NATURAL_TREG_UP\") "
   ]
  },
  {
   "cell_type": "code",
   "execution_count": null,
   "id": "98d98b9f",
   "metadata": {},
   "outputs": [],
   "source": [
    "plotEnrichment(fgsea_sets[[\"GSE14415_NATURAL_TREG_VS_TCONV_UP\"]],\n",
    "               ranks) + labs(title=\"GSE14415_NATURAL_TREG_VS_TCONV_UP\") + \n",
    "\n",
    "plotEnrichment(fgsea_sets[[\"GSE14415_ACT_TCONV_VS_ACT_NATURAL_TREG_DN\"]],\n",
    "               ranks) + labs(title=\"GSE14415_ACT_TCONV_VS_ACT_NATURAL_TREG_DN\") +\n",
    "\n",
    "plotEnrichment(fgsea_sets[[\"GSE18893_TCONV_VS_TREG_2H_CULTURE_DN\"]],\n",
    "               ranks) + labs(title=\"GSE18893_TCONV_VS_TREG_2H_CULTURE_DN\") +\n",
    "\n",
    "plotEnrichment(fgsea_sets[[\"GSE27434_WT_VS_DNMT1_KO_TREG_DN\"]],\n",
    "               ranks) + labs(title=\"GSE27434_WT_VS_DNMT1_KO_TREG_DN\") "
   ]
  },
  {
   "cell_type": "code",
   "execution_count": null,
   "id": "adaa5f31",
   "metadata": {},
   "outputs": [],
   "source": [
    "plotEnrichment(fgsea_sets[[\"GSE37532_WT_VS_PPARG_KO_LN_TREG_DN\"]],\n",
    "               ranks) + labs(title=\"GSE37532_WT_VS_PPARG_KO_LN_TREG_DN\") + \n",
    "\n",
    "plotEnrichment(fgsea_sets[[\"GSE37533_PPARG1_FOXP3_VS_FOXP3_TRANSDUCED_CD4_TCELL_DN\"]],\n",
    "               ranks) + labs(title=\"GSE37533_PPARG1_FOXP3_VS_FOXP3_TRANSDUCED_CD4_TCELL_DN\") +\n",
    "\n",
    "plotEnrichment(fgsea_sets[[\"GSE37533_PPARG2_FOXP3_VS_FOXP3_TRANSDUCED_CD4_TCELL_DN\"]],\n",
    "               ranks) + labs(title=\"GSE37533_PPARG2_FOXP3_VS_FOXP3_TRANSDUCED_CD4_TCELL_DN\") +\n",
    "\n",
    "plotEnrichment(fgsea_sets[[\"GSE37605_C57BL6_VS_NOD_FOXP3_FUSION_GFP_TREG_DN\"]],\n",
    "               ranks) + labs(title=\"GSE37605_C57BL6_VS_NOD_FOXP3_FUSION_GFP_TREG_DN\") "
   ]
  },
  {
   "cell_type": "code",
   "execution_count": null,
   "id": "7767f036",
   "metadata": {},
   "outputs": [],
   "source": [
    "plotEnrichment(fgsea_sets[[\"GSE40685_NAIVE_CD4_TCELL_VS_FOXP3_KO_TREG_PRECURSOR_UP\"]],\n",
    "               ranks) + labs(title=\"GSE40685_NAIVE_CD4_TCELL_VS_FOXP3_KO_TREG_PRECURSOR_UP\") + \n",
    "\n",
    "plotEnrichment(fgsea_sets[[\"GSE40685_TREG_VS_FOXP3_KO_TREG_PRECURSOR_DN\"]],\n",
    "               ranks) + labs(title=\"GSE40685_TREG_VS_FOXP3_KO_TREG_PRECURSOR_DN\") +\n",
    "\n",
    "plotEnrichment(fgsea_sets[[\"GSE40685_TREG_VS_FOXP3_KO_TREG_PRECURSOR_UP\"]],\n",
    "               ranks) + labs(title=\"GSE40685_TREG_VS_FOXP3_KO_TREG_PRECURSOR_UP\") +\n",
    "\n",
    "plotEnrichment(fgsea_sets[[\"GSE37605_C57BL6_VS_NOD_FOXP3_FUSION_GFP_TREG_DN\"]],\n",
    "               ranks) + labs(title=\"GSE37605_C57BL6_VS_NOD_FOXP3_FUSION_GFP_TREG_DN\") "
   ]
  },
  {
   "cell_type": "markdown",
   "id": "aa0ee77e",
   "metadata": {},
   "source": [
    "### GSEA with GeneKitR"
   ]
  },
  {
   "cell_type": "code",
   "execution_count": null,
   "id": "ecbb5246",
   "metadata": {},
   "outputs": [],
   "source": [
    "library(\"genekitr\")"
   ]
  },
  {
   "cell_type": "code",
   "execution_count": null,
   "id": "90d0abbd",
   "metadata": {},
   "outputs": [],
   "source": [
    "gs <- geneset::getMsigdb(org = \"human\",category = 'C7-IMMUNESIGDB')"
   ]
  },
  {
   "cell_type": "code",
   "execution_count": null,
   "id": "65906487",
   "metadata": {},
   "outputs": [],
   "source": [
    "ranks4  <- unlist(ranks, use.names=TRUE)"
   ]
  },
  {
   "cell_type": "code",
   "execution_count": null,
   "id": "421329a8",
   "metadata": {},
   "outputs": [],
   "source": [
    "gse <- genGSEA(genelist = ranks4, geneset = gs)"
   ]
  },
  {
   "cell_type": "code",
   "execution_count": null,
   "id": "1e19b49c",
   "metadata": {},
   "outputs": [],
   "source": []
  },
  {
   "cell_type": "code",
   "execution_count": null,
   "id": "747204bc",
   "metadata": {},
   "outputs": [],
   "source": [
    "options(repr.plot.height = 20)\n",
    "pathways <- c(\"GSE9006_HEALTHY_VS_TYPE_1_DIABETES_PBMC_AT_DX_DN\", \n",
    "              #\"GSE9006_HEALTHY_VS_TYPE_1_DIABETES_PBMC_4MONTH_POST_DX_DN\",\n",
    "              \"GSE10325_CD4_TCELL_VS_LUPUS_CD4_TCELL_DN\",\n",
    "              \"GSE10325_CD4_TCELL_VS_LUPUS_CD4_TCELL_UP\")\n",
    "genes <- c(\"CXCR4\", \"NFKBIA\", \"RBM3\", \"TSC22D3\")\n",
    "plotGSEA(gse, plot_type = \"classic\",  \n",
    "         show_pathway = pathways,\n",
    "            ) + ggtheme()"
   ]
  },
  {
   "cell_type": "markdown",
   "id": "78039a69",
   "metadata": {},
   "source": [
    "## NfKB"
   ]
  },
  {
   "cell_type": "code",
   "execution_count": null,
   "id": "a3d402f9",
   "metadata": {},
   "outputs": [],
   "source": [
    "paths_pathways  <- list.files(\"../data/nfkb/\", full.names = T)\n",
    "pathway_names  <- list.files(\"../data/nfkb/\", full.names = F)\n"
   ]
  },
  {
   "cell_type": "code",
   "execution_count": null,
   "id": "022afa18",
   "metadata": {
    "scrolled": false
   },
   "outputs": [],
   "source": [
    "nfkb_genes1  <- str_to_upper(read_csv(\"../data/nfkb/Paper_I1_cluster.csv\")$Genes)\n",
    "nfkb_genes2  <- str_to_upper(read_csv(\"../data/nfkb/Paper_I2_cluster.csv\")$Genes)\n",
    "nfkb_genes3  <- str_to_upper(read_csv(\"../data/nfkb/Paper_I3_cluster.csv\")$Genes)\n",
    "nfkb_genes6  <- str_to_upper(read_csv(\"../data/nfkb/Paper_I6_cluster.csv\")$Genes)\n",
    "\n",
    "paths_fc  <- list.files(\"../tables/fold_change\", full.names = T)\n",
    "dataset_names  <- list.files(\"../tables/fold_change\", full.names = F)"
   ]
  },
  {
   "cell_type": "code",
   "execution_count": null,
   "id": "fa4267ab",
   "metadata": {},
   "outputs": [],
   "source": [
    "gsea_nfkb  <- function(j) {\n",
    "  print(j)\n",
    "fc.df  <- read_csv(paths_fc[j])  %>% as.data.frame()\n",
    "fc.df  <- fc.df  %>%  arrange(desc(avg_log2FC)) %>% \n",
    "dplyr::filter(cluster == \"Dia\")  %>% \n",
    "  dplyr::select(gene, avg_log2FC)\n",
    "ranks<- deframe(fc.df)\n",
    "fgseaRes <- fgsea(pathways = list(nfkb_genes1 = nfkb_genes1, nfkb_genes2 = nfkb_genes2, \n",
    "                                 nfkb_genes3 = nfkb_genes3, nfkb_genes6 = nfkb_genes6), \n",
    "                 stats = ranks)\n",
    " fgseaRes$dataset  <-   gsub(dataset_names[j], pattern = \".csv\", replacement = \"\")   \n",
    " return(fgseaRes)\n",
    "    }\n"
   ]
  },
  {
   "cell_type": "code",
   "execution_count": null,
   "id": "fdad5520",
   "metadata": {},
   "outputs": [],
   "source": [
    "paths_fc"
   ]
  },
  {
   "cell_type": "code",
   "execution_count": null,
   "id": "fb2f3bba",
   "metadata": {
    "scrolled": true
   },
   "outputs": [],
   "source": [
    "gsea  <- map(.x = c(1:length(paths_fc)), .f = gsea_nfkb)"
   ]
  },
  {
   "cell_type": "code",
   "execution_count": null,
   "id": "460699a5",
   "metadata": {},
   "outputs": [],
   "source": [
    "gseas  <- bind_rows(gsea)"
   ]
  },
  {
   "cell_type": "code",
   "execution_count": null,
   "id": "9740efdf",
   "metadata": {
    "scrolled": true
   },
   "outputs": [],
   "source": [
    "gseas  %>% arrange(padj)"
   ]
  },
  {
   "cell_type": "code",
   "execution_count": null,
   "id": "ab08b20b",
   "metadata": {},
   "outputs": [],
   "source": [
    "nfkb_genes  <- read_csv(\"../data/nfkb/Paper_I3_cluster.csv\")\n",
    "nfkb_genes  <- str_to_upper(nfkb_genes$Genes)\n",
    "\n",
    "fc.df  <- read_csv(\"../tables/fold_change/cd8_l3_temra.csv\")  %>% as.data.frame()\n",
    "fc.df  <- fc.df  %>%  arrange(desc(avg_log2FC)) %>% \n",
    "dplyr::filter(cluster == \"Dia\")  %>% \n",
    "  dplyr::select(gene, avg_log2FC)\n",
    "ranks<- deframe(fc.df)\n",
    "\n",
    "\n",
    "fgseaRes.nfkb1 <- fgsea(pathways = list(our_list = nfkb_genes), \n",
    "                  stats    = ranks)\n",
    "\n",
    "\n",
    "p3 <- plotEnrichment(nfkb_genes, ranks) + \n",
    "labs(title=\"\\nNFkB List3, cd8_l3_temra\", \n",
    "     subtitle = paste0(\"p-value = \",format.pval(fgseaRes.nfkb1$pval, digits = 2))) \n",
    "\n",
    "p3"
   ]
  },
  {
   "cell_type": "code",
   "execution_count": null,
   "id": "d4920ccf",
   "metadata": {},
   "outputs": [],
   "source": [
    "\n",
    "fc.df  <- read_csv(\"../tables/fold_change/cd4_l3_temra.csv\")  %>% as.data.frame()\n",
    "fc.df  <- fc.df  %>%  arrange(desc(avg_log2FC)) %>% \n",
    "dplyr::filter(cluster == \"Dia\")  %>% \n",
    "  dplyr::select(gene, avg_log2FC)\n",
    "ranks<- deframe(fc.df)\n",
    "\n",
    "\n",
    "fgseaRes.nfkb1 <- fgsea(pathways = list(our_list = nfkb_genes), \n",
    "                  stats    = ranks)\n",
    "\n",
    "\n",
    "p3 <- plotEnrichment(nfkb_genes, ranks) + \n",
    "labs(title=\"\\nNFkB List3, cd4_l3_temra\", \n",
    "     subtitle = paste0(\"p-value = \",format.pval(fgseaRes.nfkb1$pval, digits = 2))) \n",
    "\n",
    "p3"
   ]
  },
  {
   "cell_type": "code",
   "execution_count": null,
   "id": "673c4623",
   "metadata": {},
   "outputs": [],
   "source": [
    "\n",
    "fc.df  <- read_csv(\"../tables/fold_change/cd4_l3_treg.csv\")  %>% as.data.frame()\n",
    "fc.df  <- fc.df  %>%  arrange(desc(avg_log2FC)) %>% \n",
    "dplyr::filter(cluster == \"Dia\")  %>% \n",
    "  dplyr::select(gene, avg_log2FC)\n",
    "ranks<- deframe(fc.df)\n",
    "\n",
    "\n",
    "fgseaRes.nfkb1 <- fgsea(pathways = list(our_list = nfkb_genes6), \n",
    "                  stats    = ranks)\n",
    "\n",
    "\n",
    "p3 <- plotEnrichment(nfkb_genes, ranks) + \n",
    "labs(title=\"\\nNFkB List6, cd4_l3_treg\", \n",
    "     subtitle = paste0(\"p-value = \",format.pval(fgseaRes.nfkb1$pval, digits = 2))) \n",
    "\n",
    "p3"
   ]
  },
  {
   "cell_type": "code",
   "execution_count": null,
   "id": "bf20413d",
   "metadata": {},
   "outputs": [],
   "source": []
  },
  {
   "cell_type": "markdown",
   "id": "c8c06f3b",
   "metadata": {},
   "source": [
    "## Akt/Erk"
   ]
  },
  {
   "cell_type": "code",
   "execution_count": null,
   "id": "8998acf0",
   "metadata": {},
   "outputs": [],
   "source": [
    "paths  <- list.files(\"../data/pathways/\", full.names = T)"
   ]
  },
  {
   "cell_type": "code",
   "execution_count": null,
   "id": "1e8ae1ec",
   "metadata": {},
   "outputs": [],
   "source": [
    "paths"
   ]
  },
  {
   "cell_type": "code",
   "execution_count": null,
   "id": "cdfa3669",
   "metadata": {
    "scrolled": true
   },
   "outputs": [],
   "source": [
    "paths_fc  <- list.files(\"../tables/fold_change\", full.names = T)\n",
    "dataset_names  <- list.files(\"../tables/fold_change\", full.names = F)"
   ]
  },
  {
   "cell_type": "code",
   "execution_count": null,
   "id": "b92ad0d9",
   "metadata": {},
   "outputs": [],
   "source": [
    "read_pathway  <- function(path){\n",
    "    pathway  <- fread(path, header = F)\n",
    "    df  <- data.frame(name = pathway$V2[1],\n",
    "                     genes = str_to_upper(pathway$V2[which(pathway$V1 == \"GENE_SYMBOLS\")]))\n",
    "    genes_vector  <- str_split(str_to_upper(pathway$V2[which(pathway$V1 == \"GENE_SYMBOLS\")]),simplify = FALSE,\n",
    "                               pattern = \",\",) %>% unique \n",
    "    genes_vector  <- genes_vector  %>% unlist()\n",
    "    return(genes_vector)\n",
    "}"
   ]
  },
  {
   "cell_type": "code",
   "execution_count": null,
   "id": "cf852d0a",
   "metadata": {},
   "outputs": [],
   "source": [
    "read_pathway_name  <- function(path){\n",
    "    pathway  <- fread(path, header = F)\n",
    "    df  <- data.frame(name = pathway$V2[1],\n",
    "                     genes = str_to_upper(pathway$V2[which(pathway$V1 == \"GENE_SYMBOLS\")]))\n",
    "    genes_vector  <- str_split(str_to_upper(pathway$V2[which(pathway$V1 == \"GENE_SYMBOLS\")]),simplify = FALSE,\n",
    "                               pattern = \",\",) %>% unique \n",
    "    genes_vector  <- genes_vector  %>% unlist()\n",
    "    name = pathway$V2[1]\n",
    "    return(name)\n",
    "}"
   ]
  },
  {
   "cell_type": "code",
   "execution_count": null,
   "id": "cfd34b36",
   "metadata": {},
   "outputs": [],
   "source": [
    "pathways  <- map(paths, .f = read_pathway)"
   ]
  },
  {
   "cell_type": "code",
   "execution_count": null,
   "id": "5d7ff4d8",
   "metadata": {},
   "outputs": [],
   "source": [
    "names_pathways  <- map(paths, .f = read_pathway_name)"
   ]
  },
  {
   "cell_type": "code",
   "execution_count": null,
   "id": "32aa9614",
   "metadata": {},
   "outputs": [],
   "source": [
    "names_pathways  %>% unlist()"
   ]
  },
  {
   "cell_type": "code",
   "execution_count": null,
   "id": "74785ef2",
   "metadata": {},
   "outputs": [],
   "source": [
    "names(pathways)  <- unlist(names_pathways)"
   ]
  },
  {
   "cell_type": "code",
   "execution_count": null,
   "id": "81d512d0",
   "metadata": {
    "scrolled": true
   },
   "outputs": [],
   "source": [
    "pathways"
   ]
  },
  {
   "cell_type": "code",
   "execution_count": null,
   "id": "79bc6a72",
   "metadata": {},
   "outputs": [],
   "source": [
    "gsea_akt_erkb  <- function(j) {\n",
    "  print(j)\n",
    "fc.df  <- read_csv(paths_fc[j])  %>% as.data.frame()\n",
    "fc.df  <- fc.df  %>%  arrange(desc(avg_log2FC)) %>% \n",
    "dplyr::filter(cluster == \"Dia T0\")  %>% \n",
    "  dplyr::select(gene, avg_log2FC)\n",
    "ranks<- deframe(fc.df)\n",
    "fgseaRes <- fgsea(pathways = pathways, \n",
    "                 stats = ranks)\n",
    " fgseaRes$dataset  <-   gsub(dataset_names[j], pattern = \".csv\", replacement = \"\")   \n",
    " return(fgseaRes)\n",
    "    }"
   ]
  },
  {
   "cell_type": "code",
   "execution_count": null,
   "id": "91e837dd",
   "metadata": {},
   "outputs": [],
   "source": [
    "paths_fc  <- paths_fc[which(grepl(paths_fc, pattern = \"Ctrl_vs_DiaT0\"))]"
   ]
  },
  {
   "cell_type": "code",
   "execution_count": null,
   "id": "74b7b507",
   "metadata": {},
   "outputs": [],
   "source": [
    "dataset_names = paths_fc"
   ]
  },
  {
   "cell_type": "code",
   "execution_count": null,
   "id": "08af7fad",
   "metadata": {},
   "outputs": [],
   "source": [
    "fc.df  <- read_csv(paths_fc[1])  %>% as.data.frame()\n"
   ]
  },
  {
   "cell_type": "code",
   "execution_count": null,
   "id": "c65e84f4",
   "metadata": {
    "scrolled": true
   },
   "outputs": [],
   "source": [
    "fc.df"
   ]
  },
  {
   "cell_type": "code",
   "execution_count": null,
   "id": "79ef4360",
   "metadata": {
    "scrolled": true
   },
   "outputs": [],
   "source": [
    "gsea  <- map(.x = c(1:length(paths_fc)), .f = gsea_akt_erkb)"
   ]
  },
  {
   "cell_type": "code",
   "execution_count": null,
   "id": "7dc0eecd",
   "metadata": {
    "scrolled": true
   },
   "outputs": [],
   "source": [
    "gseas  <- bind_rows(gsea)\n",
    "\n",
    "gseas  %>% arrange(padj)"
   ]
  },
  {
   "cell_type": "code",
   "execution_count": null,
   "id": "63b747fe",
   "metadata": {},
   "outputs": [],
   "source": []
  },
  {
   "cell_type": "code",
   "execution_count": null,
   "id": "9ae9e8b9",
   "metadata": {},
   "outputs": [],
   "source": [
    "\n",
    "fc.df  <- read_csv(\"../tables/fold_change/cd4_l1_full_filt.csv\")  %>% as.data.frame()\n",
    "fc.df  <- fc.df  %>%  arrange(desc(avg_log2FC)) %>% \n",
    "dplyr::filter(cluster == \"Dia\")  %>% \n",
    "  dplyr::select(gene, avg_log2FC)\n",
    "ranks<- deframe(fc.df)\n",
    "\n",
    "\n",
    "fgseaRes <- fgsea(pathways = list(pathways = pathways$WP_FOCAL_ADHESION_PI3K_AKT_MTOR_SIGNALING_PATHWAY), \n",
    "                  stats    = ranks)\n",
    "\n",
    "\n",
    "p3 <- plotEnrichment(pathways$WP_FOCAL_ADHESION_PI3K_AKT_MTOR_SIGNALING_PATHWAY, ranks) + \n",
    "labs(title=\"\\nWP_FOCAL_ADHESION_PI3K_AKT_MTOR_SIGNALING_PATHWAY, \\ncd4_l1_full_filt.csv\", \n",
    "     subtitle = paste0(\"p-value = \",format.pval(fgseaRes$pval, digits = 2))) \n",
    "\n",
    "p3"
   ]
  },
  {
   "cell_type": "markdown",
   "id": "630de45c",
   "metadata": {},
   "source": [
    "# PI3K"
   ]
  },
  {
   "cell_type": "code",
   "execution_count": null,
   "id": "2296a661",
   "metadata": {},
   "outputs": [],
   "source": [
    "plotEnrichment(treg_ipex_up,\n",
    "               ranks) + labs(title=\"cd4_ipex_up\") "
   ]
  },
  {
   "cell_type": "code",
   "execution_count": null,
   "id": "fee670b9",
   "metadata": {},
   "outputs": [],
   "source": [
    "plotEnrichment(treg_ipex_up,\n",
    "               ranks) + labs(title=\"cd4_ipex_up\") "
   ]
  },
  {
   "cell_type": "markdown",
   "id": "4d106806",
   "metadata": {},
   "source": [
    "## Spider plot"
   ]
  },
  {
   "cell_type": "code",
   "execution_count": null,
   "id": "9c3c9e34",
   "metadata": {},
   "outputs": [],
   "source": [
    "paths_fc  <- list.files(\"../tables/fold_change\", full.names = T)\n",
    "dataset_names  <- list.files(\"../tables/fold_change\", full.names = F)"
   ]
  },
  {
   "cell_type": "code",
   "execution_count": null,
   "id": "0f5a99c9",
   "metadata": {},
   "outputs": [],
   "source": [
    "load_fold_changes  <- function(j) {\n",
    "  print(j)\n",
    "fc.df  <- read_csv(paths_fc[j])  %>% as.data.frame()\n",
    "fc.df  <- fc.df  %>%  arrange(desc(avg_log2FC)) \n",
    " fc.df$dataset  <-   gsub(dataset_names[j], pattern = \".csv\", replacement = \"\")\n",
    " return(fc.df)\n",
    "    }"
   ]
  },
  {
   "cell_type": "code",
   "execution_count": null,
   "id": "c73da5cf",
   "metadata": {},
   "outputs": [],
   "source": [
    "fold_changes  <- map(1:210, .f = load_fold_changes)"
   ]
  },
  {
   "cell_type": "code",
   "execution_count": null,
   "id": "1e589c26",
   "metadata": {},
   "outputs": [],
   "source": [
    "fold_changes2  <- bind_rows(fold_changes)"
   ]
  },
  {
   "cell_type": "code",
   "execution_count": null,
   "id": "158b862a",
   "metadata": {
    "scrolled": true
   },
   "outputs": [],
   "source": [
    "fold_changes2"
   ]
  },
  {
   "cell_type": "code",
   "execution_count": null,
   "id": "17a64f08",
   "metadata": {},
   "outputs": [],
   "source": [
    "fc_selected  <- fold_changes2  %>% dplyr::filter(gene %in% c(\"IER2\",\"GADD45B\",\"BTN3A2\", \"GZMB\",\"XAF1\",\n",
    "                                            \"RBM3\",\"CD69\",\"CXCR4\",\"DDIT4\",\"ACTG1\"))  %>% \n",
    "dplyr::filter(grepl(dataset, pattern = \"_Ctrl_vs_DiaT0\")|\n",
    "              grepl(dataset, pattern = \"_Ctrl_vs_DiaT1\"))  %>% \n",
    "dplyr::filter((grepl(dataset, pattern = \"_Ctrl_vs_DiaT1\") & cluster == \"Dia T1\") |\n",
    "       (grepl(dataset, pattern = \"_Ctrl_vs_DiaT0\"))) "
   ]
  },
  {
   "cell_type": "code",
   "execution_count": null,
   "id": "a865b582",
   "metadata": {},
   "outputs": [],
   "source": [
    "fc_selected$cluster  %>% table"
   ]
  },
  {
   "cell_type": "code",
   "execution_count": null,
   "id": "f018f441",
   "metadata": {
    "scrolled": true
   },
   "outputs": [],
   "source": [
    "fc_for_spider  <-  fc_selected  %>% dplyr::select(dataset, cluster, gene, avg_log2FC)  %>% \n",
    "mutate(dataset = paste(cluster, gsub(dataset, pattern = \"_Ctrl_vs_DiaT0\", replacement = \"\"), sep = \"---\"))  %>% \n",
    "mutate(dataset = gsub(dataset, pattern = \"_Ctrl_vs_DiaT1\", replacement = \"\"))  %>% \n",
    "       dplyr::select(-cluster)  %>% pivot_wider(names_from = gene, values_from = avg_log2FC, values_fill = 0)  %>% \n",
    "column_to_rownames(\"dataset\")"
   ]
  },
  {
   "cell_type": "code",
   "execution_count": null,
   "id": "7a8fdd5f",
   "metadata": {},
   "outputs": [],
   "source": [
    "fc_for_spider "
   ]
  },
  {
   "cell_type": "code",
   "execution_count": null,
   "id": "540146c5",
   "metadata": {},
   "outputs": [],
   "source": [
    "colors_in = ifelse(grepl(rownames(fc_for_spider), pattern = \"Ctrl T0\"), \"dodgerblue2\", \n",
    "                   ifelse(grepl(rownames(fc_for_spider), pattern = \"Dia T0\"),\"indianred3\",\"goldenrod\"))"
   ]
  },
  {
   "cell_type": "code",
   "execution_count": null,
   "id": "1b1d2925",
   "metadata": {
    "scrolled": true
   },
   "outputs": [],
   "source": [
    "colors_in"
   ]
  },
  {
   "cell_type": "code",
   "execution_count": null,
   "id": "b4f363f9",
   "metadata": {},
   "outputs": [],
   "source": [
    "mins = (fc_for_spider  %>% mutate_all(.funs = min))[1,]"
   ]
  },
  {
   "cell_type": "code",
   "execution_count": null,
   "id": "993edc2e",
   "metadata": {},
   "outputs": [],
   "source": [
    "maxs = (fc_for_spider  %>% mutate_all(.funs = max))[1,]"
   ]
  },
  {
   "cell_type": "code",
   "execution_count": null,
   "id": "c259db5c",
   "metadata": {},
   "outputs": [],
   "source": [
    "fc_for_spider2  <- rbind(mins, maxs, fc_for_spider)"
   ]
  },
  {
   "cell_type": "code",
   "execution_count": null,
   "id": "44c0aef0",
   "metadata": {},
   "outputs": [],
   "source": [
    "rownames(fc_for_spider2)[c(1,2)]  <- c(\"min\",\"max\")"
   ]
  },
  {
   "cell_type": "code",
   "execution_count": null,
   "id": "df179d3d",
   "metadata": {},
   "outputs": [],
   "source": [
    "fc_for_spider2"
   ]
  },
  {
   "cell_type": "code",
   "execution_count": null,
   "id": "67d0df07",
   "metadata": {},
   "outputs": [],
   "source": [
    "radarchart(fc_for_spider2, pcol = colors_in)\n",
    "legend(x=2, y=1, legend = rownames(fc_for_spider), \n",
    "       col = colors_in,\n",
    "       bty = \"n\", pch=20 , text.col = \"black\", cex=1.2, pt.cex=3)"
   ]
  },
  {
   "cell_type": "code",
   "execution_count": null,
   "id": "92c794d4",
   "metadata": {
    "scrolled": true
   },
   "outputs": [],
   "source": [
    "radarchart(fc_for_spider2, pcol = colors_in)\n",
    "legend(x=2, y=1, legend = rownames(fc_for_spider), \n",
    "       col = colors_in,\n",
    "       bty = \"n\", pch=20 , text.col = \"black\", cex=1.2, pt.cex=3)"
   ]
  },
  {
   "cell_type": "code",
   "execution_count": null,
   "id": "c80b70ba",
   "metadata": {
    "scrolled": true
   },
   "outputs": [],
   "source": [
    "fc_for_spider3  <- fc_for_spider2[3:nrow(fc_for_spider3),]"
   ]
  },
  {
   "cell_type": "code",
   "execution_count": null,
   "id": "5b83950e",
   "metadata": {},
   "outputs": [],
   "source": [
    "fc_for_spider3$group  <- ifelse(grepl(rownames(fc_for_spider), pattern = \"Ctrl T0\"), \"Ctrl T0\", \n",
    "                   ifelse(grepl(rownames(fc_for_spider), pattern = \"Dia T0\"),\"Dia T0\",\"Tia T1\"))"
   ]
  },
  {
   "cell_type": "code",
   "execution_count": null,
   "id": "b831f673",
   "metadata": {},
   "outputs": [],
   "source": [
    "fc_for_spider3  %>% ncol"
   ]
  },
  {
   "cell_type": "code",
   "execution_count": null,
   "id": "5bb35b55",
   "metadata": {},
   "outputs": [],
   "source": [
    "fc_for_spider3"
   ]
  },
  {
   "cell_type": "code",
   "execution_count": null,
   "id": "71696b30",
   "metadata": {},
   "outputs": [],
   "source": [
    "library(GGally)\n",
    "data <- fc_for_spider3\n",
    "\n",
    "data %>% \n",
    "  ggparcoord(\n",
    "    columns = 1:10, groupColumn = 11, \n",
    "    showPoints = TRUE, \n",
    "    title = \"Parallel Coordinate Plot for the Iris Data\",\n",
    "    alphaLines = 0.3\n",
    "    ) + \n",
    "  scale_color_manual(values = c(\"dodgerblue2\",\"red3\",\"goldenrod\")) "
   ]
  },
  {
   "cell_type": "code",
   "execution_count": null,
   "id": "029396f5",
   "metadata": {},
   "outputs": [],
   "source": [
    "gene\tgene_direction\tdirection\ttest_type\tn\n",
    "IER2 \tIER2 Down \tDown \tDia T0 vs Ctrl T0\t19\n",
    "GADD45B \tGADD45B Down \tDown \tDia T0 vs Ctrl T0\t18\n",
    "BTN3A2 \tBTN3A2 Down \tDown \tDia T0 vs Ctrl T0\t13\n",
    "CENPK \tCENPK Down \tDown \tDia T0 vs Ctrl T0\t13\n",
    "XAF1 \tXAF1 Down \tDown \tDia T0 vs Ctrl T0\t13\n",
    "RBM3 \tRBM3 Up \tUp \tDia T0 vs Ctrl T0\t10\n",
    "SOCS3 \tSOCS3 Down \tDown \tDia T0 vs Ctrl T0\t8\n",
    "ACTG1 \tACTG1 Up \tUp \tDia T0 vs Ctrl T0\t7\n",
    "CD69 \tCD69 Up \tUp \tDia T0 vs Ctrl T0\t7\n",
    "CXCR4 \tCXCR4 Up \tUp \tDia T0 vs Ctrl T0\t7\n",
    "ISG15 \tISG15 Down \tDown \tDia T0 vs Ctrl T0\t7\n",
    "JUN \tJUN Down \tDown \tDia T0 vs Ctrl T0\t7\n",
    "MX1 \tMX1 Down \tDown \tDia T0 vs Ctrl T0\t7\n",
    "DDIT4 \tDDIT4 Up \tUp \tDia T0 vs Ctrl T0\t6\n",
    "DUSP1 \tDUSP1 Up \tUp \tDia T0 vs Ctrl T0\t6\n",
    "EPSTI1 \tEPSTI1 Down \tDown \tDia T0 vs Ctrl T0\t6\n",
    "IFITM2 \tIFITM2 Down \tDown \tDia T0 vs Ctrl T0\t6\n",
    "CDK11A \tCDK11A Up \tUp \tDia T0 vs Ctrl T0\t5\n",
    "CRIP1 \tCRIP1 Down \tDown \tDia T0 vs Ctrl T0\t5\n",
    "DUSP2 \tDUSP2 Down \tDown \tDia T0 vs Ctrl T0\t5\n",
    "FOS \tFOS Down \tDown \tDia T0 vs Ctrl T0\t5\n",
    "FOSB \tFOSB Down \tDown \tDia T0 vs Ctrl T0\t5\n",
    "HLA-DQB1 \tHLA-DQB1 Down \tDown \tDia T0 vs Ctrl T0\t5\n",
    "IFI44L \tIFI44L Down \tDown \tDia T0 vs Ctrl T0\t5\n",
    "IFITM3 \tIFITM3 Down \tDown \tDia T0 vs Ctrl T0\t5\n",
    "PTGDR \tPTGDR Up \tUp \tDia T0 vs Ctrl T0\t5\n",
    "BCL2 \tBCL2 Up \tUp \tDia T0 vs Ctrl T0\t4\n",
    "CCL5 \tCCL5 Down \tDown \tDia T0 vs Ctrl T0\t4\n",
    "GSTM1 \tGSTM1 Down \tDown \tDia T0 vs Ctrl T0\t4 "
   ]
  },
  {
   "cell_type": "markdown",
   "id": "6395b399",
   "metadata": {},
   "source": [
    "# DE genes visualization"
   ]
  },
  {
   "cell_type": "code",
   "execution_count": null,
   "id": "88d7d973",
   "metadata": {},
   "outputs": [],
   "source": [
    "full  <- readRDS(\"../data/processed/full.rds\")"
   ]
  },
  {
   "cell_type": "code",
   "execution_count": null,
   "id": "240d501d",
   "metadata": {},
   "outputs": [],
   "source": [
    "full@meta.data  <- full@meta.data  %>% \n",
    "mutate(annotations_l2  = gsub(pattern = \" T cells\", replacement = \"\", x = annotations_l3))  %>% \n",
    "separate(annotations_l2, into = c(\"annotations_l1\", \"annotations_l2\", \"annotations_l3\"), sep = \"---\") %>% \n",
    "mutate(annotations_l2  = gsub(pattern = \"Unconventional_CD8 Unc\", replacement = \"CD8_Unc\", x = annotations_l2))  %>% \n",
    "mutate(annotations_l2  = gsub(pattern = \"Unconventional_Unc\", replacement = \"CD4_Unc_\", x = annotations_l2)) %>% \n",
    "separate(annotations_l2, into = c(\"Level1\", \"Level2\",NA,NA), sep = \"_\")  "
   ]
  },
  {
   "cell_type": "code",
   "execution_count": null,
   "id": "e8f7d6f3",
   "metadata": {},
   "outputs": [],
   "source": [
    "cd4_l1_full  <- readRDS(\"../data/processed/L1/cd4_l1_full_filt.rds\")"
   ]
  },
  {
   "cell_type": "code",
   "execution_count": null,
   "id": "2159f512",
   "metadata": {},
   "outputs": [],
   "source": [
    "cd8_l1_full  <- readRDS(\"../data/processed/L1/cd8_l1_full_filt.rds\")"
   ]
  },
  {
   "cell_type": "code",
   "execution_count": null,
   "id": "16e2613d",
   "metadata": {},
   "outputs": [],
   "source": [
    "options(repr.plot.width = 14, repr.plot.height = 4)\n",
    "DimPlot(cd4_l1_full, group.by = \"annotations_l3\", raster = T)"
   ]
  },
  {
   "cell_type": "code",
   "execution_count": null,
   "id": "2628d503",
   "metadata": {},
   "outputs": [],
   "source": [
    "options(repr.plot.height = 4, repr.plot.width = 20)\n",
    "\n",
    "DimPlot(cd8_l1_full, group.by = \"annotations_l3\", raster = T)"
   ]
  },
  {
   "cell_type": "code",
   "execution_count": null,
   "id": "14322a06",
   "metadata": {},
   "outputs": [],
   "source": [
    "rm(full)"
   ]
  },
  {
   "cell_type": "code",
   "execution_count": null,
   "id": "2affbb8e",
   "metadata": {},
   "outputs": [],
   "source": [
    "markers  <- rev(c(\"BTN3A2\", \"IL32\",\"AMICA1\"))"
   ]
  },
  {
   "cell_type": "markdown",
   "id": "82ab5f63",
   "metadata": {},
   "source": [
    "### All cell types CD8"
   ]
  },
  {
   "cell_type": "code",
   "execution_count": null,
   "id": "6cfb77d0",
   "metadata": {},
   "outputs": [],
   "source": [
    "md  <- cd8_l1_full@meta.data  %>% dplyr::select(Patient_ID, Time, \n",
    "                                                Sample_ID, Disease, \n",
    "                                                Condition, Experiment_ID, Age_group)  %>% unique  %>% \n",
    "mutate(prelim_final = ifelse(Experiment_ID %in% c(\"Exp08\", \"Exp10\",\"Exp11\"), \"Prelim\",\"Final\"))"
   ]
  },
  {
   "cell_type": "code",
   "execution_count": null,
   "id": "e8e6e4e9",
   "metadata": {
    "scrolled": true
   },
   "outputs": [],
   "source": [
    "md"
   ]
  },
  {
   "cell_type": "code",
   "execution_count": null,
   "id": "f6c893ca",
   "metadata": {
    "scrolled": true
   },
   "outputs": [],
   "source": [
    "avgexp = AverageExpression(cd8_l1_full, features = markers,\n",
    "                           return.seurat = F, group.by = \"Sample_ID\", \n",
    "                          assay = \"RNA\")"
   ]
  },
  {
   "cell_type": "code",
   "execution_count": null,
   "id": "8a516c4a",
   "metadata": {},
   "outputs": [],
   "source": [
    "btn_etc  <- t(avgexp$RNA)  %>% as.data.frame()  %>% \n",
    "rownames_to_column(\"Sample_ID\")  %>% \n",
    "pivot_longer(!Sample_ID, names_to = \"gene\", values_to = \"expression\")  %>% \n",
    "mutate(Sample_ID = as.numeric(Sample_ID))  %>% \n",
    "left_join(md)  %>% mutate(Condition = paste(Disease, Time))"
   ]
  },
  {
   "cell_type": "code",
   "execution_count": null,
   "id": "27662a26",
   "metadata": {
    "scrolled": true
   },
   "outputs": [],
   "source": [
    "btn_etc"
   ]
  },
  {
   "cell_type": "code",
   "execution_count": null,
   "id": "314da2ed",
   "metadata": {},
   "outputs": [],
   "source": [
    "options(repr.plot.width = 9.5, repr.plot.height = 3.5)\n",
    "\n",
    "btn_etc  %>% ggplot(aes(x = Condition,\n",
    "             y = expression)) +\n",
    "   geom_dotplot(binaxis='y', stackdir='center', dotsize = 0) + \n",
    "   geom_boxplot(outlier.shape = NA) +\n",
    "    geom_jitter(binaxis='y', position=position_jitter(width = 0.1, height = 0.01), \n",
    "                size = 2, stackdir='center', aes(color = prelim_final)) + \n",
    "    facet_wrap(~gene, scales = \"free\") +\n",
    "  theme_classic() + xlab(\"\") +  \n",
    " xlab(\"\") + ylab(\"Value\") +\n",
    "   scale_y_continuous(expand = expansion(mult = c(0, 0.1))) +\n",
    "  ggpubr::stat_compare_means(label.x = 1.2, label.y.npc = \"top\", size = 5, vjust = 0.3, label = \"p.format\") + \n",
    "      theme(plot.title = element_text(hjust = 0.5, size = 18),\n",
    "          axis.line = element_line(colour = \"black\"), \n",
    "        axis.ticks = element_line(colour = \"black\")) +\n",
    "  ylim(0,NA) + ggtitle(\"Avg Expression all cell types CD8 T cells\")"
   ]
  },
  {
   "cell_type": "code",
   "execution_count": null,
   "id": "f1b93af3",
   "metadata": {},
   "outputs": [],
   "source": [
    "cd8_l1_full$annotations_l2  %>% table"
   ]
  },
  {
   "cell_type": "markdown",
   "id": "9e122e9a",
   "metadata": {},
   "source": [
    "### CD8 types by annotation"
   ]
  },
  {
   "cell_type": "code",
   "execution_count": null,
   "id": "d8eedfcb",
   "metadata": {
    "scrolled": true
   },
   "outputs": [],
   "source": [
    "cd8_l1_full$SampleID_Annotation  <- paste(cd8_l1_full$Sample_ID, gsub(cd8_l1_full$annotations_l2, pattern = \" \", replacement = \"_\"))\n",
    "avgexp = AverageExpression(cd8_l1_full, features = markers,\n",
    "                           return.seurat = F, group.by = \"SampleID_Annotation\", \n",
    "                          assay = \"RNA\")"
   ]
  },
  {
   "cell_type": "code",
   "execution_count": null,
   "id": "396ee4a7",
   "metadata": {},
   "outputs": [],
   "source": [
    "btn_etc  <- t(avgexp$RNA)  %>% as.data.frame()  %>% \n",
    "rownames_to_column(\"SampleID_Annotation\")  %>% \n",
    "pivot_longer(!SampleID_Annotation, names_to = \"gene\", values_to = \"expression\")  %>% \n",
    "separate(SampleID_Annotation, into = c(\"Sample_ID\",\"Annot\"), sep = \" \", remove = F)  %>% \n",
    "mutate(Sample_ID = as.numeric(Sample_ID))  %>% \n",
    "left_join(md)  %>% mutate(Condition = paste(Disease, Time))"
   ]
  },
  {
   "cell_type": "code",
   "execution_count": null,
   "id": "12e53c89",
   "metadata": {
    "scrolled": true
   },
   "outputs": [],
   "source": [
    "btn_etc"
   ]
  },
  {
   "cell_type": "code",
   "execution_count": null,
   "id": "c6dfa8bd",
   "metadata": {},
   "outputs": [],
   "source": [
    "options(repr.plot.width = 16, repr.plot.height = 5)\n",
    "\n",
    "btn_etc  %>% ggplot(aes(x = Condition,\n",
    "             y = expression)) +\n",
    "   geom_dotplot(binaxis='y', stackdir='center', dotsize = 0) + \n",
    "   geom_boxplot(outlier.shape = NA) +\n",
    "    geom_jitter(binaxis='y', position=position_jitter(width = 0.1, height = 0.01), \n",
    "                size = 2, stackdir='center', aes(color = Condition)) + \n",
    "    facet_grid(rows = vars(gene), cols = vars(Annot), scales = \"free\") +\n",
    "  theme_classic() + xlab(\"\") +  \n",
    " xlab(\"\") + ylab(\"Value\") +\n",
    "   scale_y_continuous(expand = expansion(mult = c(0, 0.1))) +\n",
    "  ggpubr::stat_compare_means(label.x = 1.2, label.y.npc = \"top\", size = 5, vjust = 0.3, label = \"p.format\") + \n",
    "      theme(plot.title = element_text(hjust = 0.5, size = 18),\n",
    "          axis.line = element_line(colour = \"black\"), \n",
    "        axis.ticks = element_line(colour = \"black\")) +\n",
    "  ylim(0,NA) + ggtitle(\"Avg Expression in CD8 T cell subtypes\")"
   ]
  },
  {
   "cell_type": "markdown",
   "id": "f2998c6e",
   "metadata": {},
   "source": [
    "### All cell types CD4"
   ]
  },
  {
   "cell_type": "code",
   "execution_count": null,
   "id": "b23b8bcc",
   "metadata": {},
   "outputs": [],
   "source": [
    "md  <- cd4_l1_full@meta.data  %>% dplyr::select(Patient_ID, Time, \n",
    "                                                Sample_ID, Disease, \n",
    "                                                Condition, Experiment_ID, Age_group)  %>% unique  %>% \n",
    "mutate(prelim_final = ifelse(Experiment_ID %in% c(\"Exp08\", \"Exp10\",\"Exp11\"), \"Prelim\",\"Final\"))"
   ]
  },
  {
   "cell_type": "code",
   "execution_count": null,
   "id": "9531df3d",
   "metadata": {
    "scrolled": true
   },
   "outputs": [],
   "source": [
    "md"
   ]
  },
  {
   "cell_type": "code",
   "execution_count": null,
   "id": "cdcb4339",
   "metadata": {
    "scrolled": true
   },
   "outputs": [],
   "source": [
    "avgexp = AverageExpression(cd4_l1_full, features = markers,\n",
    "                           return.seurat = F, group.by = \"Sample_ID\", \n",
    "                          assay = \"RNA\")"
   ]
  },
  {
   "cell_type": "code",
   "execution_count": null,
   "id": "8f72132a",
   "metadata": {},
   "outputs": [],
   "source": [
    "btn_etc  <- t(avgexp$RNA)  %>% as.data.frame()  %>% \n",
    "rownames_to_column(\"Sample_ID\")  %>% \n",
    "pivot_longer(!Sample_ID, names_to = \"gene\", values_to = \"expression\")  %>% \n",
    "mutate(Sample_ID = as.numeric(Sample_ID))  %>% \n",
    "left_join(md)  %>% mutate(Condition = paste(Disease, Time))"
   ]
  },
  {
   "cell_type": "code",
   "execution_count": null,
   "id": "2b18ccf0",
   "metadata": {
    "scrolled": true
   },
   "outputs": [],
   "source": [
    "btn_etc"
   ]
  },
  {
   "cell_type": "code",
   "execution_count": null,
   "id": "789c6592",
   "metadata": {},
   "outputs": [],
   "source": [
    "options(repr.plot.width = 9.5, repr.plot.height = 3.5)\n",
    "\n",
    "btn_etc  %>% ggplot(aes(x = Condition,\n",
    "             y = expression)) +\n",
    "   geom_dotplot(binaxis='y', stackdir='center', dotsize = 0) + \n",
    "   geom_boxplot(outlier.shape = NA) +\n",
    "    geom_jitter(binaxis='y', position=position_jitter(width = 0.1, height = 0.01), \n",
    "                size = 2, stackdir='center', aes(color = prelim_final)) + \n",
    "    facet_wrap(~gene, scales = \"free\") +\n",
    "  theme_classic() + xlab(\"\") +  \n",
    " xlab(\"\") + ylab(\"Value\") +\n",
    "   scale_y_continuous(expand = expansion(mult = c(0, 0.1))) +\n",
    "  ggpubr::stat_compare_means(label.x = 1.2, label.y.npc = \"top\", size = 5, vjust = 0.3, label = \"p.format\") + \n",
    "      theme(plot.title = element_text(hjust = 0.5, size = 18),\n",
    "          axis.line = element_line(colour = \"black\"), \n",
    "        axis.ticks = element_line(colour = \"black\")) +\n",
    "  ylim(0,NA) + ggtitle(\"Avg Expression all cell types CD4 T cells\")"
   ]
  },
  {
   "cell_type": "code",
   "execution_count": null,
   "id": "7c0d988b",
   "metadata": {},
   "outputs": [],
   "source": [
    "cd4_l1_full$annotations_l2  %>% table"
   ]
  },
  {
   "cell_type": "markdown",
   "id": "e855829b",
   "metadata": {},
   "source": [
    "### CD4 types by annotation"
   ]
  },
  {
   "cell_type": "code",
   "execution_count": null,
   "id": "963895fd",
   "metadata": {
    "scrolled": true
   },
   "outputs": [],
   "source": [
    "cd4_l1_full$SampleID_Annotation  <- paste(cd4_l1_full$Sample_ID, gsub(cd4_l1_full$annotations_l2, pattern = \" \", replacement = \"_\"))\n",
    "avgexp = AverageExpression(cd4_l1_full, features = markers,\n",
    "                           return.seurat = F, group.by = \"SampleID_Annotation\", \n",
    "                          assay = \"RNA\")"
   ]
  },
  {
   "cell_type": "code",
   "execution_count": null,
   "id": "3a94dcb3",
   "metadata": {},
   "outputs": [],
   "source": [
    "btn_etc  <- t(avgexp$RNA)  %>% as.data.frame()  %>% \n",
    "rownames_to_column(\"SampleID_Annotation\")  %>% \n",
    "pivot_longer(!SampleID_Annotation, names_to = \"gene\", values_to = \"expression\")  %>% \n",
    "separate(SampleID_Annotation, into = c(\"Sample_ID\",\"Annot\"), sep = \" \", remove = F)  %>% \n",
    "mutate(Sample_ID = as.numeric(Sample_ID))  %>% \n",
    "left_join(md)  %>% mutate(Condition = paste(Disease, Time))"
   ]
  },
  {
   "cell_type": "code",
   "execution_count": null,
   "id": "b86cf8b8",
   "metadata": {
    "scrolled": true
   },
   "outputs": [],
   "source": [
    "btn_etc"
   ]
  },
  {
   "cell_type": "code",
   "execution_count": null,
   "id": "ca406347",
   "metadata": {},
   "outputs": [],
   "source": [
    "options(repr.plot.width = 16, repr.plot.height = 5)\n",
    "\n",
    "btn_etc  %>% ggplot(aes(x = Condition,\n",
    "             y = expression)) +\n",
    "   geom_dotplot(binaxis='y', stackdir='center', dotsize = 0) + \n",
    "   geom_boxplot(outlier.shape = NA) +\n",
    "    geom_jitter(binaxis='y', position=position_jitter(width = 0.1, height = 0.01), \n",
    "                size = 2, stackdir='center', aes(color = Condition)) + \n",
    "    facet_grid(rows = vars(gene), cols = vars(Annot), scales = \"free\") +\n",
    "  theme_classic() + xlab(\"\") +  \n",
    " xlab(\"\") + ylab(\"Value\") +\n",
    "   scale_y_continuous(expand = expansion(mult = c(0, 0.1))) +\n",
    "  ggpubr::stat_compare_means(label.x = 1.2, label.y.npc = \"top\", size = 5, vjust = 0.3, label = \"p.format\") + \n",
    "      theme(plot.title = element_text(hjust = 0.5, size = 18),\n",
    "          axis.line = element_line(colour = \"black\"), \n",
    "        axis.ticks = element_line(colour = \"black\")) +\n",
    "  ylim(0,NA) + ggtitle(\"Avg Expression in CD4 T cell subtypes\")"
   ]
  },
  {
   "cell_type": "markdown",
   "id": "393e9fcf",
   "metadata": {},
   "source": [
    "### CD4 by HLA"
   ]
  },
  {
   "cell_type": "code",
   "execution_count": null,
   "id": "aa0da6dd",
   "metadata": {},
   "outputs": [],
   "source": []
  },
  {
   "cell_type": "code",
   "execution_count": null,
   "id": "106a010f",
   "metadata": {},
   "outputs": [],
   "source": [
    "md  <- cd4_l1_full@meta.data  %>% dplyr::select(Patient_ID, Time, \n",
    "                                                Sample_ID, Disease, \n",
    "                                                Condition, Experiment_ID, Age_group)  %>% unique  %>% \n",
    "mutate(prelim_final = ifelse(Experiment_ID %in% c(\"Exp08\", \"Exp10\",\"Exp11\"), \"Prelim\",\"Final\"))"
   ]
  },
  {
   "cell_type": "code",
   "execution_count": null,
   "id": "847a4544",
   "metadata": {},
   "outputs": [],
   "source": [
    "md5  <- read_xlsx(\"../data/metadata_v05.xlsx\")"
   ]
  },
  {
   "cell_type": "code",
   "execution_count": null,
   "id": "ffca7f57",
   "metadata": {},
   "outputs": [],
   "source": [
    "md5  <- md5  %>% mutate(dq2 = ifelse((HLA_DQA11 == \"DQA1*05:01:01\" | HLA_DQA12 == \"DQA1*05:01:01\") &\n",
    "                                   (HLA_DQB11 == \"DQB1*02:01:01\" | HLA_DQB12 == \"DQB1*02:01:01\"),\"DQ2\",\n",
    "                                   \"Other\"),\n",
    "                      dq8 = ifelse((HLA_DQA11 == \"DQA1*03:01:01\" | HLA_DQA12 == \"DQA1*03:01:01\") &\n",
    "                                   (HLA_DQB11 == \"DQB1*03:02:01\" | HLA_DQB12 == \"DQB1*03:02:01\"),\"DQ8\",\n",
    "                                   \"Other\"))  %>% mutate(\n",
    "                      dq2_8 = ifelse(dq2 == \"DQ2\" & dq8 == \"DQ8\",\"DQ2_8\",\n",
    "                                     ifelse(dq2 == \"DQ2\",\"DQ2\", ifelse(dq8 == \"DQ8\",\"DQ8\",\"Other\"))))  %>% \n",
    "mutate(c7_01 = ifelse((HLA_C1 == \"C*07:01:01\" & HLA_C2 == \"C*07:01:01\"), \"c7_01_hom\",\n",
    "                                   ifelse(HLA_C1 == \"C*07:01:01\" | HLA_C2 == \"C*07:01:01\",\"c7_01_het\",\n",
    "                                   \"Other\")),\n",
    "                      b8_01 = ifelse((HLA_B1 == \"B*08:01:01\" & HLA_B2 == \"B*08:01:01\"), \"b8_01_hom\",\n",
    "                                   ifelse(HLA_B1 == \"B*08:01:01\" | HLA_B2 == \"B*08:01:01\",\"b8_01_het\",\n",
    "                                   \"Other\")))   %>% mutate(\n",
    "                      c7_b8 = ifelse(b8_01 == \"b8_01_hom\" & c7_01 == \"c7_01_hom\",\n",
    "                                     \"c7_b8_hom\", ifelse(c7_01 == \"c7_01_hom\", \"c7_01_hom\",\n",
    "                              ifelse(b8_01 == \"b8_01_hom\", \"b8_01_hom\", \n",
    "                              ifelse(b8_01 == \"b8_01_het\" & c7_01 == \"c7_01_het\",\n",
    "                                     \"c7_b8_het\", \n",
    "                                     \n",
    "                              ifelse(b8_01 == \"b8_01_het\", \"b8_01_het\", \n",
    "                              ifelse(c7_01 == \"c7_01_het\", \"c7_01_het\", \"Other\" )))))))"
   ]
  },
  {
   "cell_type": "code",
   "execution_count": null,
   "id": "77d6586a",
   "metadata": {
    "scrolled": true
   },
   "outputs": [],
   "source": [
    "md5  %>% colnames"
   ]
  },
  {
   "cell_type": "code",
   "execution_count": null,
   "id": "6c3da3bc",
   "metadata": {},
   "outputs": [],
   "source": [
    "md_HLA  <- md5  %>% dplyr::select(Patient_Time, dq2_8)"
   ]
  },
  {
   "cell_type": "code",
   "execution_count": null,
   "id": "3ae0517d",
   "metadata": {},
   "outputs": [],
   "source": [
    "avgexp = AverageExpression(cd4_l1_full, features = markers,\n",
    "                           return.seurat = F, group.by = \"Sample_ID\", \n",
    "                          assay = \"RNA\")\n",
    "\n",
    "btn_etc  <- t(avgexp$RNA)  %>% as.data.frame()  %>% \n",
    "rownames_to_column(\"Sample_ID\")  %>% \n",
    "pivot_longer(!Sample_ID, names_to = \"gene\", values_to = \"expression\")  %>% \n",
    "mutate(Sample_ID = as.numeric(Sample_ID))  %>% \n",
    "left_join(md)  %>% \n",
    "mutate(Patient_Time = paste(Patient_ID, Time))  %>% \n",
    "left_join(md_HLA)  %>% \n",
    "mutate(Condition = paste(Disease, Time))"
   ]
  },
  {
   "cell_type": "code",
   "execution_count": null,
   "id": "1a96198d",
   "metadata": {
    "scrolled": true
   },
   "outputs": [],
   "source": [
    "btn_etc"
   ]
  },
  {
   "cell_type": "code",
   "execution_count": null,
   "id": "5bc79406",
   "metadata": {},
   "outputs": [],
   "source": [
    "options(repr.plot.width = 9.5, repr.plot.height = 3.5)\n",
    "\n",
    "btn_etc  %>% ggplot(aes(x = dq2_8,\n",
    "             y = expression)) +\n",
    "   geom_dotplot(binaxis='y', stackdir='center', dotsize = 0) + \n",
    "   geom_boxplot(outlier.shape = NA) +\n",
    "    geom_jitter(binaxis='y', position=position_jitter(width = 0.1, height = 0.01), \n",
    "                size = 2, stackdir='center', aes(color = Disease, shape = prelim_final)) + \n",
    "    facet_wrap(~gene, scales = \"free\") +\n",
    "  theme_classic() + xlab(\"\") +  \n",
    " xlab(\"\") + ylab(\"Value\") +\n",
    "   scale_y_continuous(expand = expansion(mult = c(0, 0.1))) +\n",
    "  ggpubr::stat_compare_means(label.x = 1.2, label.y.npc = \"top\", size = 5, vjust = 0.3, label = \"p.format\") + \n",
    "      theme(plot.title = element_text(hjust = 0.5, size = 18),\n",
    "          axis.line = element_line(colour = \"black\"), \n",
    "        axis.ticks = element_line(colour = \"black\")) +\n",
    "  ylim(0,NA) + ggtitle(\"Avg Expression by HLA CD4 T cells\")"
   ]
  },
  {
   "cell_type": "code",
   "execution_count": null,
   "id": "5bc16b98",
   "metadata": {
    "scrolled": true
   },
   "outputs": [],
   "source": [
    "md5  %>% dplyr::select(starts_with(\"HLA\"))"
   ]
  },
  {
   "cell_type": "code",
   "execution_count": null,
   "id": "c10c815a",
   "metadata": {
    "scrolled": true
   },
   "outputs": [],
   "source": [
    "md_HLA  <- md5  %>% dplyr::select(Patient_Time, c7_b8, b8_01, c7_01)\n",
    "\n",
    "avgexp = AverageExpression(cd4_l1_full, features = markers,\n",
    "                           return.seurat = F, group.by = \"Sample_ID\", \n",
    "                          assay = \"RNA\")\n",
    "\n",
    "btn_etc  <- t(avgexp$RNA)  %>% as.data.frame()  %>% \n",
    "rownames_to_column(\"Sample_ID\")  %>% \n",
    "pivot_longer(!Sample_ID, names_to = \"gene\", values_to = \"expression\")  %>% \n",
    "mutate(Sample_ID = as.numeric(Sample_ID))  %>% \n",
    "left_join(md)  %>% \n",
    "mutate(Patient_Time = paste(Patient_ID, Time))  %>% \n",
    "left_join(md_HLA)  %>% \n",
    "mutate(Condition = paste(Disease, Time))\n",
    "\n",
    "btn_etc"
   ]
  },
  {
   "cell_type": "code",
   "execution_count": null,
   "id": "1610faaf",
   "metadata": {
    "scrolled": true
   },
   "outputs": [],
   "source": [
    "options(repr.plot.width = 9.5, repr.plot.height = 3.5)\n",
    "\n",
    "btn_etc  %>% ggplot(aes(x = c7_b8,\n",
    "             y = expression)) +\n",
    "   geom_dotplot(binaxis='y', stackdir='center', dotsize = 0) + \n",
    "   geom_boxplot(outlier.shape = NA) +\n",
    "    geom_jitter(binaxis='y', position=position_jitter(width = 0.1, height = 0.01), \n",
    "                size = 2, stackdir='center', aes(color = Disease, shape = prelim_final)) + \n",
    "    facet_wrap(~gene, scales = \"free\") +\n",
    "  theme_classic() + xlab(\"\") +  \n",
    " xlab(\"\") + ylab(\"Value\") +\n",
    "   scale_y_continuous(expand = expansion(mult = c(0, 0.1))) +\n",
    "  ggpubr::stat_compare_means(label.x = 1.2, label.y.npc = \"top\", size = 5, vjust = 0.3, label = \"p.format\") + \n",
    "      theme(plot.title = element_text(hjust = 0.5, size = 18),\n",
    "          axis.line = element_line(colour = \"black\"), \n",
    "        axis.ticks = element_line(colour = \"black\")) +\n",
    "  ylim(0,NA) + ggtitle(\"Avg Expression by HLA CD4 T cells\")"
   ]
  },
  {
   "cell_type": "code",
   "execution_count": null,
   "id": "86372206",
   "metadata": {
    "scrolled": true
   },
   "outputs": [],
   "source": [
    "md_HLA  <- md5  %>% dplyr::select(Patient_Time, c7_b8, b8_01, c7_01, dq2_8)\n",
    "\n",
    "avgexp = AverageExpression(cd4_l1_full, features = c(\"NOTCH4\",\"TABP\",\"TAP2\",\"LMP7\",\"TAP1\",\"LMP2\",\"LST1\",\n",
    "                                                     \"LTB\",\"TNF\",\"LTA\",\"NFKBIL1\", \"BTN3A2\",\"BTN3A1\"),\n",
    "                           return.seurat = F, group.by = \"Sample_ID\", \n",
    "                          assay = \"RNA\")\n",
    "\n",
    "btn_etc  <- t(avgexp$RNA)  %>% as.data.frame()  %>% \n",
    "rownames_to_column(\"Sample_ID\")  %>% \n",
    "pivot_longer(!Sample_ID, names_to = \"gene\", values_to = \"expression\")  %>% \n",
    "mutate(Sample_ID = as.numeric(Sample_ID))  %>% \n",
    "left_join(md)  %>% \n",
    "mutate(Patient_Time = paste(Patient_ID, Time))  %>% \n",
    "left_join(md_HLA)  %>% \n",
    "mutate(Condition = paste(Disease, Time))\n",
    "\n",
    "btn_etc"
   ]
  },
  {
   "cell_type": "code",
   "execution_count": null,
   "id": "02fe3339",
   "metadata": {},
   "outputs": [],
   "source": [
    "options(repr.plot.width = 16, repr.plot.height = 12)\n",
    "\n",
    "btn_etc  %>% ggplot(aes(x = dq2_8,\n",
    "             y = expression)) +\n",
    "   geom_dotplot(binaxis='y', stackdir='center', dotsize = 0) + \n",
    "   geom_boxplot(outlier.shape = NA) +\n",
    "    geom_jitter(binaxis='y', position=position_jitter(width = 0.1, height = 0.01), \n",
    "                size = 2, stackdir='center', aes(color = Disease, shape = prelim_final)) + \n",
    "    facet_wrap(~gene, scales = \"free\") +\n",
    "  theme_classic() + xlab(\"\") +  \n",
    " xlab(\"\") + ylab(\"Value\") +\n",
    "   scale_y_continuous(expand = expansion(mult = c(0, 0.1))) +\n",
    "  ggpubr::stat_compare_means(label.x = 1.2, label.y.npc = \"top\", size = 5, vjust = 0.3, label = \"p.format\") + \n",
    "      theme(plot.title = element_text(hjust = 0.5, size = 18),\n",
    "          axis.line = element_line(colour = \"black\"), \n",
    "        axis.ticks = element_line(colour = \"black\")) +\n",
    "  ylim(0,NA) + ggtitle(\"Avg Expression by HLA CD4 T cells\")"
   ]
  },
  {
   "cell_type": "code",
   "execution_count": null,
   "id": "b0cc7f32",
   "metadata": {},
   "outputs": [],
   "source": [
    "btn_etc  %>% ggplot(aes(x = c7_b8,\n",
    "             y = expression)) +\n",
    "   geom_dotplot(binaxis='y', stackdir='center', dotsize = 0) + \n",
    "   geom_boxplot(outlier.shape = NA) +\n",
    "    geom_jitter(binaxis='y', position=position_jitter(width = 0.1, height = 0.01), \n",
    "                size = 2, stackdir='center', aes(color = Disease, shape = prelim_final)) + \n",
    "    facet_wrap(~gene, scales = \"free\") +\n",
    "  theme_classic() + xlab(\"\") +  \n",
    " xlab(\"\") + ylab(\"Value\") +\n",
    "   scale_y_continuous(expand = expansion(mult = c(0, 0.1))) +\n",
    "  ggpubr::stat_compare_means(label.x = 1.2, label.y.npc = \"top\", size = 5, vjust = 0.3, label = \"p.format\") + \n",
    "      theme(plot.title = element_text(hjust = 0.5, size = 18),\n",
    "          axis.line = element_line(colour = \"black\"), \n",
    "        axis.ticks = element_line(colour = \"black\")) +\n",
    "  ylim(0,NA) + ggtitle(\"Avg Expression by HLA CD4 T cells\")"
   ]
  },
  {
   "cell_type": "markdown",
   "id": "e2c09b3e",
   "metadata": {},
   "source": [
    "### CD8 by HLA"
   ]
  },
  {
   "cell_type": "code",
   "execution_count": null,
   "id": "f92597af",
   "metadata": {
    "scrolled": true
   },
   "outputs": [],
   "source": [
    "md  <- cd8_l1_full@meta.data  %>% dplyr::select(Patient_ID, Time, \n",
    "                                                Sample_ID, Disease, \n",
    "                                                Condition, Experiment_ID, Age_group)  %>% unique  %>% \n",
    "mutate(prelim_final = ifelse(Experiment_ID %in% c(\"Exp08\", \"Exp10\",\"Exp11\"), \"Prelim\",\"Final\"))"
   ]
  },
  {
   "cell_type": "code",
   "execution_count": null,
   "id": "13531a81",
   "metadata": {},
   "outputs": [],
   "source": [
    "avgexp = AverageExpression(cd8_l1_full, features = markers,\n",
    "                           return.seurat = F, group.by = \"Sample_ID\", \n",
    "                          assay = \"RNA\")\n",
    "\n",
    "btn_etc  <- t(avgexp$RNA)  %>% as.data.frame()  %>% \n",
    "rownames_to_column(\"Sample_ID\")  %>% \n",
    "pivot_longer(!Sample_ID, names_to = \"gene\", values_to = \"expression\")  %>% \n",
    "mutate(Sample_ID = as.numeric(Sample_ID))  %>% \n",
    "left_join(md)  %>% \n",
    "mutate(Patient_Time = paste(Patient_ID, Time))  %>% \n",
    "left_join(md_HLA)  %>% \n",
    "mutate(Condition = paste(Disease, Time))"
   ]
  },
  {
   "cell_type": "code",
   "execution_count": null,
   "id": "3b719622",
   "metadata": {
    "scrolled": true
   },
   "outputs": [],
   "source": [
    "btn_etc"
   ]
  },
  {
   "cell_type": "code",
   "execution_count": null,
   "id": "f7c2c015",
   "metadata": {},
   "outputs": [],
   "source": [
    "options(repr.plot.width = 9.5, repr.plot.height = 3.5)\n",
    "\n",
    "btn_etc  %>% ggplot(aes(x = dq2_8,\n",
    "             y = expression)) +\n",
    "   geom_dotplot(binaxis='y', stackdir='center', dotsize = 0) + \n",
    "   geom_boxplot(outlier.shape = NA) +\n",
    "    geom_jitter(binaxis='y', position=position_jitter(width = 0.1, height = 0.01), \n",
    "                size = 2, stackdir='center', aes(color = Disease, shape = prelim_final)) + \n",
    "    facet_wrap(~gene, scales = \"free\") +\n",
    "  theme_classic() + xlab(\"\") +  \n",
    " xlab(\"\") + ylab(\"Value\") +\n",
    "   scale_y_continuous(expand = expansion(mult = c(0, 0.1))) +\n",
    "  ggpubr::stat_compare_means(label.x = 1.2, label.y.npc = \"top\", size = 5, vjust = 0.3, label = \"p.format\") + \n",
    "      theme(plot.title = element_text(hjust = 0.5, size = 18),\n",
    "          axis.line = element_line(colour = \"black\"), \n",
    "        axis.ticks = element_line(colour = \"black\")) +\n",
    "  ylim(0,NA) + ggtitle(\"Avg Expression by HLA CD8 T cells\")"
   ]
  },
  {
   "cell_type": "code",
   "execution_count": null,
   "id": "8aa5e0b8",
   "metadata": {
    "scrolled": true
   },
   "outputs": [],
   "source": [
    "md_HLA  <- md5  %>% dplyr::select(Patient_Time, c7_b8, b8_01, c7_01)\n",
    "\n",
    "avgexp = AverageExpression(cd4_l1_full, features = markers,\n",
    "                           return.seurat = F, group.by = \"Sample_ID\", \n",
    "                          assay = \"RNA\")\n",
    "\n",
    "btn_etc  <- t(avgexp$RNA)  %>% as.data.frame()  %>% \n",
    "rownames_to_column(\"Sample_ID\")  %>% \n",
    "pivot_longer(!Sample_ID, names_to = \"gene\", values_to = \"expression\")  %>% \n",
    "mutate(Sample_ID = as.numeric(Sample_ID))  %>% \n",
    "left_join(md)  %>% \n",
    "mutate(Patient_Time = paste(Patient_ID, Time))  %>% \n",
    "left_join(md_HLA)  %>% \n",
    "mutate(Condition = paste(Disease, Time))\n",
    "\n",
    "btn_etc"
   ]
  },
  {
   "cell_type": "code",
   "execution_count": null,
   "id": "cba8a5d0",
   "metadata": {
    "scrolled": true
   },
   "outputs": [],
   "source": [
    "options(repr.plot.width = 9.5, repr.plot.height = 3.5)\n",
    "\n",
    "btn_etc  %>% ggplot(aes(x = c7_b8,\n",
    "             y = expression)) +\n",
    "   geom_dotplot(binaxis='y', stackdir='center', dotsize = 0) + \n",
    "   geom_boxplot(outlier.shape = NA) +\n",
    "    geom_jitter(binaxis='y', position=position_jitter(width = 0.1, height = 0.01), \n",
    "                size = 2, stackdir='center', aes(color = Disease, shape = prelim_final)) + \n",
    "    facet_wrap(~gene, scales = \"free\") +\n",
    "  theme_classic() + xlab(\"\") +  \n",
    " xlab(\"\") + ylab(\"Value\") +\n",
    "   scale_y_continuous(expand = expansion(mult = c(0, 0.1))) +\n",
    "  ggpubr::stat_compare_means(label.x = 1.2, label.y.npc = \"top\", size = 5, vjust = 0.3, label = \"p.format\") + \n",
    "      theme(plot.title = element_text(hjust = 0.5, size = 18),\n",
    "          axis.line = element_line(colour = \"black\"), \n",
    "        axis.ticks = element_line(colour = \"black\")) +\n",
    "  ylim(0,NA) + ggtitle(\"Avg Expression by HLA CD4 T cells\")"
   ]
  },
  {
   "cell_type": "code",
   "execution_count": null,
   "id": "fb5600d0",
   "metadata": {},
   "outputs": [],
   "source": [
    "colnames(md5)"
   ]
  },
  {
   "cell_type": "code",
   "execution_count": null,
   "id": "84be273c",
   "metadata": {
    "scrolled": true
   },
   "outputs": [],
   "source": [
    "md5  %>% mutate(group = substr(patient,1,1))  %>% group_by(HLA_DQA11, HLA_DQA12, HLA_DQB11, HLA_DQB12, group, dq2_8)  %>% tally"
   ]
  },
  {
   "cell_type": "markdown",
   "id": "c1fa9e5c",
   "metadata": {},
   "source": [
    "# DE genes visualization 3 VOLCANO"
   ]
  },
  {
   "cell_type": "code",
   "execution_count": null,
   "id": "426f225d",
   "metadata": {},
   "outputs": [],
   "source": [
    "library(tidytext)"
   ]
  },
  {
   "cell_type": "code",
   "execution_count": null,
   "id": "0f88d8cc",
   "metadata": {},
   "outputs": [],
   "source": [
    "all_markers$dataset  %>% table"
   ]
  },
  {
   "cell_type": "code",
   "execution_count": null,
   "id": "192187d5",
   "metadata": {
    "scrolled": true
   },
   "outputs": [],
   "source": [
    "all_markers  %>% \n",
    "dplyr::filter(source == \"scRNAseq_RNA\")  %>% \n",
    "dplyr::filter(test_type == \"Dia T0 vs Ctrl T0\" &\n",
    "             dataset == \"cd4_l3_proliferating\")  %>% \n",
    "mutate(abs_avg_log2fc = abs(avg_log2FC))  %>% \n",
    "group_by( direction)  %>% \n",
    "slice_max(n = 10, order_by = abs_avg_log2fc) "
   ]
  },
  {
   "cell_type": "code",
   "execution_count": null,
   "id": "d8bc3378",
   "metadata": {},
   "outputs": [],
   "source": [
    "test  <- all_markers  %>% \n",
    "dplyr::filter(source == \"scRNAseq_RNA\")  %>% \n",
    "group_by(test_type, dataset)  %>% tally  %>% \n",
    "pivot_wider(names_from = dataset, values_from = n)"
   ]
  },
  {
   "cell_type": "code",
   "execution_count": null,
   "id": "dc18fb86",
   "metadata": {},
   "outputs": [],
   "source": [
    "write.csv(test, \"../tables/fc_test_counts.csv\")"
   ]
  },
  {
   "cell_type": "code",
   "execution_count": null,
   "id": "f293ae56",
   "metadata": {},
   "outputs": [],
   "source": [
    "options(repr.plot.width = 24, repr.plot.height = 68)\n",
    "all_markers  %>% \n",
    "dplyr::filter(source == \"scRNAseq_RNA\")  %>% \n",
    "mutate(abs_avg_log2fc = abs(avg_log2FC))  %>% \n",
    "group_by(test_type, direction)  %>% \n",
    "slice_max(n = 50, order_by = abs_avg_log2fc)  %>% \n",
    "ggplot(aes(x = dataset, y = reorder_within(gene, avg_log2FC, test_type))) + \n",
    "  geom_point(aes(size = -log(p_val_adj, base = 10), colour = direction)) + \n",
    "facet_grid(rows = vars(test_type), cols = vars(dataset),\n",
    "           scales = \"free\", space = \"free\") +\n",
    "scale_x_reordered() +\n",
    "      theme_bw()  + scale_size_continuous(range=c(1,4)) +\n",
    "  #scale_colour_gradient2(low = \"lightskyblue\", mid = \"lightsteelblue2\", high = \"salmon\") + \n",
    " theme(axis.text.x = element_text(angle = 90))"
   ]
  },
  {
   "cell_type": "code",
   "execution_count": null,
   "id": "6eda70e2",
   "metadata": {
    "scrolled": true
   },
   "outputs": [],
   "source": [
    "list.files(\"../tables/fold_change/\")"
   ]
  },
  {
   "cell_type": "code",
   "execution_count": null,
   "id": "5ad5f61e",
   "metadata": {},
   "outputs": [],
   "source": [
    "paths_fc  <- list.files(\"../tables/fold_change\", full.names = T)\n",
    "dataset_names  <- list.files(\"../tables/fold_change\", full.names = F)\n"
   ]
  },
  {
   "cell_type": "code",
   "execution_count": null,
   "id": "5a9659da",
   "metadata": {},
   "outputs": [],
   "source": []
  },
  {
   "cell_type": "code",
   "execution_count": null,
   "id": "86c9cae9",
   "metadata": {},
   "outputs": [],
   "source": [
    "read_fc  <- function(j) {\n",
    "fc.df  <- read_csv(paths_fc[j])  %>% as.data.frame()\n",
    "fc.df  <- fc.df  %>%  arrange(desc(avg_log2FC))\n",
    "fc.df$dataset  <-   gsub(dataset_names[j], pattern = \".csv\", replacement = \"\")\n",
    "   \n",
    "    return(fc.df)\n",
    "    }"
   ]
  },
  {
   "cell_type": "code",
   "execution_count": null,
   "id": "06ae7b90",
   "metadata": {},
   "outputs": [],
   "source": [
    "paths_fc"
   ]
  },
  {
   "cell_type": "code",
   "execution_count": null,
   "id": "0d64e453",
   "metadata": {},
   "outputs": [],
   "source": []
  },
  {
   "cell_type": "code",
   "execution_count": null,
   "id": "3f5b3957",
   "metadata": {
    "scrolled": true
   },
   "outputs": [],
   "source": [
    "all_fcs  <- map(1:length(paths_fc), .f = read_fc)"
   ]
  },
  {
   "cell_type": "code",
   "execution_count": null,
   "id": "1ad4293e",
   "metadata": {},
   "outputs": [],
   "source": [
    "all_fcs2  <- bind_rows(all_fcs)"
   ]
  },
  {
   "cell_type": "code",
   "execution_count": null,
   "id": "62d995bc",
   "metadata": {},
   "outputs": [],
   "source": [
    "all_fcs2  %>% head"
   ]
  },
  {
   "cell_type": "code",
   "execution_count": null,
   "id": "f9d9daa0",
   "metadata": {},
   "outputs": [],
   "source": [
    "all_fcs2$`...1`  <- NULL"
   ]
  },
  {
   "cell_type": "code",
   "execution_count": null,
   "id": "da688de1",
   "metadata": {},
   "outputs": [],
   "source": [
    "all_fcs2$dataset   <- gsub(all_fcs2$dataset, pattern = \"full_filt\", replacement = \"full\")"
   ]
  },
  {
   "cell_type": "code",
   "execution_count": null,
   "id": "7ca42b7e",
   "metadata": {},
   "outputs": [],
   "source": [
    "all_fcs2  %>% dplyr::filter(grepl(dataset, pattern = \"cd4_l1_full\"))  %>% \n",
    "group_by(dataset) %>% tally"
   ]
  },
  {
   "cell_type": "code",
   "execution_count": null,
   "id": "0ad1ce5d",
   "metadata": {},
   "outputs": [],
   "source": [
    "all_fcs3"
   ]
  },
  {
   "cell_type": "code",
   "execution_count": null,
   "id": "50519ea5",
   "metadata": {},
   "outputs": [],
   "source": [
    "test2  <- all_fcs3  %>% \n",
    "group_by(Comparison, Dataset)  %>% tally  %>% \n",
    "pivot_wider(names_from = Dataset, values_from = n)\n",
    "\n",
    "write.csv(test2, \"../tables/fc_test_count2.csv\")"
   ]
  },
  {
   "cell_type": "code",
   "execution_count": null,
   "id": "d7c554ee",
   "metadata": {},
   "outputs": [],
   "source": [
    "all_fcs2$dataset   <- gsub(all_fcs2$dataset, pattern = \"_Ctrl_vs_DiaT0\", replacement = \"--DiaT0 vs. Ctrl\")"
   ]
  },
  {
   "cell_type": "code",
   "execution_count": null,
   "id": "1340ee98",
   "metadata": {},
   "outputs": [],
   "source": [
    "all_fcs2  %>% dplyr::filter(grepl(dataset, pattern = \"cd4_l1_full\"))  %>% \n",
    "group_by(dataset) %>% tally"
   ]
  },
  {
   "cell_type": "code",
   "execution_count": null,
   "id": "311632ec",
   "metadata": {},
   "outputs": [],
   "source": [
    "gsub(grep(all_fcs2$dataset,pattern = \"0_T1_vs_PR_1_T1\", value = T)  %>% head, \n",
    "     pattern = \"_PR_0_T1_vs_PR_1_T1\", replacement = \"--PR0_T1 vs. PR1_T1\")"
   ]
  },
  {
   "cell_type": "code",
   "execution_count": null,
   "id": "0d1dacc5",
   "metadata": {},
   "outputs": [],
   "source": []
  },
  {
   "cell_type": "code",
   "execution_count": null,
   "id": "37cea9c3",
   "metadata": {},
   "outputs": [],
   "source": [
    "all_fcs2$dataset   <- gsub(all_fcs2$dataset, pattern = \"_Ctrl_vs_DiaT1\", replacement = \"--DiaT1 vs. Ctrl\")\n",
    "all_fcs2$dataset   <- gsub(all_fcs2$dataset, pattern = \"_ketoacidosis\", replacement = \"--Keto+ vs. Keto-\")\n",
    "all_fcs2$dataset   <- gsub(all_fcs2$dataset, pattern = \"_PR_0_T0_vs_PR_0_T1\", replacement = \"--PR0_T0 vs. PR0_T1\")\n",
    "all_fcs2$dataset   <- gsub(all_fcs2$dataset, pattern = \"_PR_0_T0_vs_PR_1_T0\", replacement = \"--PR0_T0 vs. PR1_T0\")\n",
    "all_fcs2$dataset   <- gsub(all_fcs2$dataset, pattern = \"_PR_1_T0_vs_PR_1_T1\", replacement = \"--PR1_T0 vs. PR1_T1\")\n",
    "all_fcs2$dataset   <- gsub(all_fcs2$dataset, pattern = \"_Ctrl_vs_DiaT0\", replacement = \"--DiaT0 vs. Ctrl\")\n",
    "all_fcs2$dataset   <- gsub(all_fcs2$dataset, pattern = \"_DiaT0_vs_DiaT1\", replacement = \"--DiaT0 vs. DiaT1\")"
   ]
  },
  {
   "cell_type": "code",
   "execution_count": null,
   "id": "2697e1f1",
   "metadata": {},
   "outputs": [],
   "source": [
    "all_fcs2$dataset   <- gsub(all_fcs2$dataset, pattern = \"_PR_0_T1_vs_PR_1_T1\", replacement = \"--PR0_T1 vs. PR1_T1\")"
   ]
  },
  {
   "cell_type": "code",
   "execution_count": null,
   "id": "a03e697c",
   "metadata": {},
   "outputs": [],
   "source": []
  },
  {
   "cell_type": "code",
   "execution_count": null,
   "id": "9aa28903",
   "metadata": {},
   "outputs": [],
   "source": [
    "all_fcs2  %>% dplyr::filter(grepl(dataset, pattern = \"cd4_l1_full\"))  %>% \n",
    "group_by(dataset) %>% tally"
   ]
  },
  {
   "cell_type": "code",
   "execution_count": null,
   "id": "b71ba20f",
   "metadata": {},
   "outputs": [],
   "source": [
    "all_fcs2  <- all_fcs2  %>% separate(dataset, into = c(\"Dataset\", \"Comparison\"), sep = \"--\", remove = F)"
   ]
  },
  {
   "cell_type": "code",
   "execution_count": null,
   "id": "eb168656",
   "metadata": {},
   "outputs": [],
   "source": [
    "all_fcs2  <- all_fcs2  %>% dplyr::filter(!is.na(Comparison))"
   ]
  },
  {
   "cell_type": "code",
   "execution_count": null,
   "id": "531405e0",
   "metadata": {},
   "outputs": [],
   "source": [
    "dataset_comparison  <- levels(factor(all_fcs2$dataset))"
   ]
  },
  {
   "cell_type": "code",
   "execution_count": null,
   "id": "dbc9ada9",
   "metadata": {},
   "outputs": [],
   "source": [
    "all_fcs2$Comparison  %>% table"
   ]
  },
  {
   "cell_type": "code",
   "execution_count": null,
   "id": "62861f58",
   "metadata": {},
   "outputs": [],
   "source": [
    "all_fcs2$dataset  %>% table"
   ]
  },
  {
   "cell_type": "code",
   "execution_count": null,
   "id": "8b383f3b",
   "metadata": {},
   "outputs": [],
   "source": [
    "all_fcs2$Comparison  %>% table"
   ]
  },
  {
   "cell_type": "code",
   "execution_count": null,
   "id": "6eb7cdde",
   "metadata": {
    "scrolled": true
   },
   "outputs": [],
   "source": [
    "all_fcs2  <- all_fcs2  %>% mutate(\n",
    "direction = case_when(Comparison == \"DiaT1 vs. Ctrl\" & cluster == \"Ctrl T0\" ~ \"Down\",\n",
    "                      Comparison == \"DiaT1 vs. Ctrl\" & cluster == \"Dia T1\" ~ \"Up\",\n",
    "                      \n",
    "                      Comparison == \"DiaT0 vs. Ctrl\" & cluster == \"Ctrl T0\" ~ \"Down\",\n",
    "                      Comparison == \"DiaT0 vs. Ctrl\" & cluster == \"Dia T0\" ~ \"Up\",\n",
    "                      \n",
    "                      Comparison == \"DiaT0 vs. DiaT1\" & cluster == \"Dia T0\" ~ \"Up\",\n",
    "                      Comparison == \"DiaT0 vs. DiaT1\" & cluster == \"Dia T1\" ~ \"Down\",\n",
    "                      \n",
    "                      Comparison == \"PR0_T0 vs. PR0_T1\" & cluster == \"PR_0 T0\" ~ \"Up\",\n",
    "                      Comparison == \"PR0_T0 vs. PR0_T1\" & cluster == \"PR_0 T1\" ~ \"Down\",\n",
    "                      \n",
    "                      Comparison == \"PR0_T0 vs. PR1_T0\" & cluster == \"PR_0 T0\" ~ \"Up\",\n",
    "                      Comparison == \"PR0_T0 vs. PR1_T0\" & cluster == \"PR_1 T0\" ~ \"Down\",\n",
    "                      \n",
    "                      Comparison == \"PR0_T1 vs. PR1_T1\" & cluster == \"PR_0 T1\" ~ \"Up\",\n",
    "                      Comparison == \"PR0_T1 vs. PR1_T1\" & cluster == \"PR_1 T1\" ~ \"Down\",\n",
    "                      \n",
    "                      Comparison == \"PR1_T0 vs. PR1_T1\" & cluster == \"PR_1 T0\" ~ \"Up\",\n",
    "                      Comparison == \"PR1_T0 vs. PR1_T1\" & cluster == \"PR_1 T1\" ~ \"Down\",\n",
    "                      \n",
    "                      Comparison == \"Keto+ vs. Keto-\" & cluster == \"Keto_0 T0\" ~ \"Down\",\n",
    "                      Comparison == \"Keto+ vs. Keto-\" & cluster == \"Keto_1 T0\" ~ \"Up\"\n",
    "                      \n",
    "                     ))"
   ]
  },
  {
   "cell_type": "code",
   "execution_count": null,
   "id": "0fa9eda3",
   "metadata": {},
   "outputs": [],
   "source": [
    "gc()"
   ]
  },
  {
   "cell_type": "code",
   "execution_count": null,
   "id": "5be95e75",
   "metadata": {},
   "outputs": [],
   "source": [
    "head(all_fcs2)"
   ]
  },
  {
   "cell_type": "code",
   "execution_count": null,
   "id": "55e26ced",
   "metadata": {},
   "outputs": [],
   "source": [
    "dataset_list  <- levels(factor(all_fcs2$dataset))\n"
   ]
  },
  {
   "cell_type": "code",
   "execution_count": null,
   "id": "6ac280b3",
   "metadata": {},
   "outputs": [],
   "source": [
    "dataset_list"
   ]
  },
  {
   "cell_type": "code",
   "execution_count": null,
   "id": "acb5b881",
   "metadata": {},
   "outputs": [],
   "source": [
    "i = dataset_list[1]"
   ]
  },
  {
   "cell_type": "code",
   "execution_count": null,
   "id": "f3188420",
   "metadata": {
    "scrolled": true
   },
   "outputs": [],
   "source": [
    "all_fcs2  %>% dplyr::filter(dataset == i & p_val_adj < 0.01)  %>% \n",
    "    group_by(direction)  "
   ]
  },
  {
   "cell_type": "code",
   "execution_count": null,
   "id": "65363aa7",
   "metadata": {},
   "outputs": [],
   "source": [
    "Comparison_list  <- levels(factor(all_fcs2$Comparison))"
   ]
  },
  {
   "cell_type": "code",
   "execution_count": null,
   "id": "03c31f3b",
   "metadata": {},
   "outputs": [],
   "source": [
    "i = Comparison_list[1]"
   ]
  },
  {
   "cell_type": "code",
   "execution_count": null,
   "id": "cd53ac84",
   "metadata": {},
   "outputs": [],
   "source": [
    "genes  <- all_fcs2  %>% dplyr::filter(Comparison == i & p_val_adj < 0.01)  %>% \n",
    "    group_by(direction, Dataset)  %>% slice_max(n = 10, order_by = avg_log2FC)   %>% pull(gene)"
   ]
  },
  {
   "cell_type": "code",
   "execution_count": null,
   "id": "d75d49a8",
   "metadata": {},
   "outputs": [],
   "source": [
    "genes"
   ]
  },
  {
   "cell_type": "code",
   "execution_count": null,
   "id": "27a62ab8",
   "metadata": {},
   "outputs": [],
   "source": [
    "all_fcs2$signif = ifelse(all_fcs2$p_val_adj < 0.05, \"y\", \"n\")"
   ]
  },
  {
   "cell_type": "code",
   "execution_count": null,
   "id": "1125995e",
   "metadata": {},
   "outputs": [],
   "source": [
    "all_fcs2  <- all_fcs2  %>% mutate(p_val_adj = if_else(p_val_adj == 0, 1e-294,p_val_adj))"
   ]
  },
  {
   "cell_type": "code",
   "execution_count": null,
   "id": "2133b0c1",
   "metadata": {},
   "outputs": [],
   "source": [
    "library(tidytext)"
   ]
  },
  {
   "cell_type": "code",
   "execution_count": null,
   "id": "44873355",
   "metadata": {},
   "outputs": [],
   "source": [
    "Datasets_list  <- levels(factor(all_fcs2$Dataset))"
   ]
  },
  {
   "cell_type": "code",
   "execution_count": null,
   "id": "0ec6145a",
   "metadata": {},
   "outputs": [],
   "source": [
    "i = Datasets_list[1]"
   ]
  },
  {
   "cell_type": "code",
   "execution_count": null,
   "id": "a5d8640e",
   "metadata": {},
   "outputs": [],
   "source": [
    "all_fcs2  %>% head"
   ]
  },
  {
   "cell_type": "code",
   "execution_count": null,
   "id": "601e0c28",
   "metadata": {},
   "outputs": [],
   "source": [
    " genes  <- all_fcs2  %>% dplyr::filter(Dataset == i & Comparison == \"DiaT0 vs. Ctrl\")  %>% \n",
    "    group_by(direction)  %>% slice_max(n = 10, order_by = avg_log2FC)   %>% pull(gene)\n",
    "    df  <- all_fcs2  %>% dplyr::filter(Dataset == i & direction == \"Up\" & gene %in% genes & \n",
    "                                       Comparison == \"DiaT0 vs. Ctrl\"                                      )"
   ]
  },
  {
   "cell_type": "code",
   "execution_count": null,
   "id": "9564a00b",
   "metadata": {},
   "outputs": [],
   "source": [
    "genes"
   ]
  },
  {
   "cell_type": "code",
   "execution_count": null,
   "id": "a288527c",
   "metadata": {},
   "outputs": [],
   "source": [
    "df"
   ]
  },
  {
   "cell_type": "code",
   "execution_count": null,
   "id": "b54ff62e",
   "metadata": {
    "scrolled": true
   },
   "outputs": [],
   "source": [
    "j = 0\n"
   ]
  },
  {
   "cell_type": "code",
   "execution_count": null,
   "id": "edaf1664",
   "metadata": {},
   "outputs": [],
   "source": [
    "plot_list[[i]]"
   ]
  },
  {
   "cell_type": "code",
   "execution_count": null,
   "id": "96528293",
   "metadata": {},
   "outputs": [],
   "source": [
    "plot_list"
   ]
  },
  {
   "cell_type": "code",
   "execution_count": null,
   "id": "60652e5b",
   "metadata": {},
   "outputs": [],
   "source": [
    "Comaprisons_list  <- levels(factor(all_fcs2$Comparison  ))"
   ]
  },
  {
   "cell_type": "code",
   "execution_count": null,
   "id": "14fae87e",
   "metadata": {},
   "outputs": [],
   "source": [
    "dir.create(\"../figures/DE_genes/pdf/\")"
   ]
  },
  {
   "cell_type": "code",
   "execution_count": null,
   "id": "4cc3a47f",
   "metadata": {
    "scrolled": true
   },
   "outputs": [],
   "source": [
    "j = Comparison_list[2]\n",
    "    \n",
    "plot_list  <- list()    \n",
    "  \n",
    "for(i in Datasets_list){\n",
    "    genes  <- all_fcs2  %>% dplyr::filter(Dataset == i & Comparison == j)  %>% \n",
    "    group_by(direction)  %>% slice_max(n = 10, order_by = avg_log2FC)   %>% pull(gene)\n",
    "    df  <- all_fcs2  %>% dplyr::filter(Dataset == i & direction == \"Up\" & \n",
    "                                       gene %in% genes & Comparison == j)\n",
    "    p  <- df  %>% ggplot(aes(x = Dataset, y = reorder(gene, avg_log2FC))) + \n",
    "  geom_point(aes(size = -log(p_val_adj, base = 10), colour = avg_log2FC < 0)) + \n",
    "    scale_size_manual() + \n",
    "#facet_grid(rows = vars(test_type), cols = vars(dataset),\n",
    "#           scales = \"free\", space = \"free\") +\n",
    "scale_x_reordered() +\n",
    "      theme_bw()  + scale_size_continuous(range=c(1,4)) +\n",
    "  #scale_colour_gradient2(low = \"lightskyblue\", mid = \"lightsteelblue2\", high = \"salmon\") + \n",
    " theme(axis.text.x = element_blank(),\n",
    "       axis.ticks.x = element_blank()) + NoLegend() + ylab(\"\") + xlab(\"\") +\n",
    "    ggtitle(i)\n",
    "    plot_list[[i]]  <- p\n",
    "}  \n",
    "    \n",
    "pdf(file = paste0(\"../figures/DE_genes/pdf/\",j,\".pdf\"), width = 15, height = 18)\n",
    "title <- ggdraw() + \n",
    "  draw_label(\n",
    "   j,\n",
    "    fontface = 'bold',\n",
    "    x = 0,\n",
    "    hjust = 0\n",
    "  ) +\n",
    "  theme(\n",
    "    # add margin on the left of the drawing canvas,\n",
    "    # so title is aligned with left edge of first plot\n",
    "    plot.margin = margin(0, 0, 0, 7)\n",
    "  )\n",
    "plot_grid(\n",
    "  title, cowplot::plot_grid(plotlist = plot_list, ncol = 7) ,\n",
    "  ncol = 1,\n",
    "  # rel_heights values control vertical title margins\n",
    "  rel_heights = c(0.05,1)\n",
    ")\n",
    "dev.off()\n",
    "    \n",
    "\n"
   ]
  },
  {
   "cell_type": "code",
   "execution_count": null,
   "id": "da951f12",
   "metadata": {},
   "outputs": [],
   "source": [
    "all_fcs2  %>% dplyr::filter(Comparison == j)  %>% \n",
    "  ggplot(aes(x = avg_log2FC, y = -log10(p_val_adj), color = Dataset)) + \n",
    "  geom_point() + \n",
    "        theme_minimal() +\n",
    "        #geom_text_repel() +\n",
    "        #scale_color_manual(values=c(\"blue\", \"black\", \"red\")) +\n",
    "        geom_vline(xintercept=c(-0.6, 0.6), col=\"red\") +\n",
    "        geom_hline(yintercept=-log10(0.05), col=\"red\")"
   ]
  },
  {
   "cell_type": "code",
   "execution_count": null,
   "id": "1eb83b91",
   "metadata": {},
   "outputs": [],
   "source": [
    "library(ggrepel)\n",
    "# plot adding up all layers we have seen so far\n",
    "       "
   ]
  },
  {
   "cell_type": "code",
   "execution_count": null,
   "id": "e3cf12f2",
   "metadata": {},
   "outputs": [],
   "source": [
    "head(all_fcs2)"
   ]
  },
  {
   "cell_type": "code",
   "execution_count": null,
   "id": "0228d419",
   "metadata": {},
   "outputs": [],
   "source": [
    "gc()"
   ]
  },
  {
   "cell_type": "code",
   "execution_count": null,
   "id": "d385f83d",
   "metadata": {},
   "outputs": [],
   "source": [
    "rm(all_fcs)"
   ]
  },
  {
   "cell_type": "code",
   "execution_count": null,
   "id": "544e03d8",
   "metadata": {},
   "outputs": [],
   "source": [
    "ls()"
   ]
  },
  {
   "cell_type": "code",
   "execution_count": null,
   "id": "8b6b7680",
   "metadata": {},
   "outputs": [],
   "source": [
    "all_fcs3  <- all_fcs2  %>% \n",
    "dplyr::filter(avg_log2FC)>0  %>% \n",
    "mutate(avg_log2FC2 = ifelse(direction == \"Down\",avg_log2FC*-1,avg_log2FC))  %>% \n",
    "mutate(abs_avg_log2FC2 = abs(avg_log2FC2))  %>% \n",
    "mutate(label = ifelse(abs_avg_log2FC2>0.9&p_val_adj<0.05,gene,NA_character_))  %>% \n",
    "mutate(color = ifelse(abs_avg_log2FC2>0.6&p_val_adj<0.05,Dataset,\"grey\"))       "
   ]
  },
  {
   "cell_type": "code",
   "execution_count": null,
   "id": "e09099e5",
   "metadata": {},
   "outputs": [],
   "source": [
    "all_fcs3  %>% head"
   ]
  },
  {
   "cell_type": "code",
   "execution_count": null,
   "id": "429e4ea4",
   "metadata": {
    "scrolled": true
   },
   "outputs": [],
   "source": []
  },
  {
   "cell_type": "code",
   "execution_count": null,
   "id": "822a7c2b",
   "metadata": {},
   "outputs": [],
   "source": [
    "all_fcs3  <- all_fcs2  %>% \n",
    "dplyr::filter(avg_log2FC>0 & !grepl(gene, pattern = \"^MTRN\"))  %>% \n",
    "mutate(avg_log2FC2 = ifelse(direction == \"Down\",avg_log2FC*-1,avg_log2FC))  %>% \n",
    "mutate(abs_avg_log2FC2 = abs(avg_log2FC2))  %>% \n",
    "mutate(label = ifelse(abs_avg_log2FC2>1&p_val_adj<0.05,gene,\n",
    "                     ifelse(abs_avg_log2FC2>0.6&p_val_adj<10e-100,gene,NA_character_)))  %>% \n",
    "mutate(color = ifelse(abs_avg_log2FC2>0.6&p_val_adj<0.05,Dataset,\"grey\"))       "
   ]
  },
  {
   "cell_type": "code",
   "execution_count": null,
   "id": "6e31f952",
   "metadata": {},
   "outputs": [],
   "source": [
    "all_fcs3  %>% head"
   ]
  },
  {
   "cell_type": "code",
   "execution_count": null,
   "id": "b3f82da7",
   "metadata": {},
   "outputs": [],
   "source": [
    "all_fcs3  %>% dplyr::filter(Comparison == j)  %>% \n",
    "  ggplot(aes(x = avg_log2FC2, y = -log10(p_val_adj), color = color, label = label)) + \n",
    "  geom_point() + \n",
    "        theme_minimal() +\n",
    "        geom_text_repel() +\n",
    "        #scale_color_manual(values=c(\"blue\", \"black\", \"red\")) +\n",
    "        geom_vline(xintercept=c(-0.6, 0.6), col=\"red\") +\n",
    "        geom_hline(yintercept=-log10(0.05), col=\"red\")"
   ]
  },
  {
   "cell_type": "code",
   "execution_count": null,
   "id": "76f5760e",
   "metadata": {
    "scrolled": true
   },
   "outputs": [],
   "source": [
    "all_fcs3  %>% dplyr::filter(Comparison == j)  %>% \n",
    "  ggplot(aes(x = avg_log2FC2, y = -log10(p_val_adj), color = color, label = label)) + \n",
    "  geom_point() + \n",
    "        theme_minimal() +\n",
    "        geom_text_repel() +\n",
    "        #scale_color_manual(values=c(\"blue\", \"black\", \"red\")) +\n",
    "        geom_vline(xintercept=c(-0.6, 0.6), col=\"red\") +\n",
    "        geom_hline(yintercept=-log10(0.05), col=\"red\")"
   ]
  },
  {
   "cell_type": "code",
   "execution_count": null,
   "id": "c4027df2",
   "metadata": {},
   "outputs": [],
   "source": [
    "all_fcs3$Dataset  %>% table  %>% length"
   ]
  },
  {
   "cell_type": "code",
   "execution_count": null,
   "id": "6d49b85d",
   "metadata": {},
   "outputs": [],
   "source": [
    "options(repr.plot.width = 13, repr.plot.height = 7)\n",
    "all_fcs3  %>% dplyr::filter(Comparison == j)  %>% \n",
    "  ggplot(aes(x = avg_log2FC2, y = -log10(p_val_adj), color = color, label = label, shape = color)) + \n",
    "  geom_point() + \n",
    "        theme_minimal() +\n",
    "        geom_text_repel() +\n",
    "        scale_color_manual(values=c(scales::hue_pal()(17), \"grey88\")) +\n",
    "        geom_vline(xintercept=c(-0.6, 0.6), col=\"red\") +\n",
    "        geom_hline(yintercept=-log10(0.05), col=\"red\") +\n",
    "    scale_shape_manual(values = c(21:25,21:25,21:25,21:25))"
   ]
  },
  {
   "cell_type": "code",
   "execution_count": null,
   "id": "17f22ed5",
   "metadata": {},
   "outputs": [],
   "source": [
    "options(repr.plot.width = 13, repr.plot.height = 7)\n",
    "all_fcs3  %>% dplyr::filter(Comparison == j)  %>% \n",
    "  ggplot(aes(x = avg_log2FC2, y = -log10(p_val_adj), color = color, label = label, shape = color)) + \n",
    "  geom_point() + \n",
    "        theme_minimal() +\n",
    "        geom_text_repel() +\n",
    "        scale_color_manual(values=c(scales::hue_pal()(17), \"grey88\")) +\n",
    "        geom_vline(xintercept=c(-0.6, 0.6), col=\"red\") +\n",
    "        geom_hline(yintercept=-log10(0.05), col=\"red\") +\n",
    "    scale_shape_manual(values = c(21:25,21:25,21:25,21:25))"
   ]
  },
  {
   "cell_type": "code",
   "execution_count": null,
   "id": "86f86b2a",
   "metadata": {},
   "outputs": [],
   "source": [
    "all_fcs3$cd4_vs_cd8  <- substr(all_fcs3$Dataset,1,3)"
   ]
  },
  {
   "cell_type": "code",
   "execution_count": null,
   "id": "a96310fe",
   "metadata": {},
   "outputs": [],
   "source": [
    "j"
   ]
  },
  {
   "cell_type": "code",
   "execution_count": null,
   "id": "08190d02",
   "metadata": {},
   "outputs": [],
   "source": [
    "options(repr.plot.width = 18, repr.plot.height = 6)\n",
    "df10  <- all_fcs3  %>% dplyr::filter(Comparison == j) \n",
    "df10  %>%  ggplot(aes(x = avg_log2FC2, y = -log10(p_val_adj), color = color, label = label, shape = color)) + \n",
    "  geom_point() + \n",
    "        theme_minimal() +\n",
    "        geom_text_repel(size = 6) +\n",
    "facet_wrap(~cd4_vs_cd8) +\n",
    "        scale_color_manual(values=c(scales::hue_pal()(length(levels(factor(df10$color)))-1), \"grey88\")) +\n",
    "        geom_vline(xintercept=c(-0.6, 0.6), col=\"red\") +\n",
    "        geom_hline(yintercept=-log10(0.05), col=\"red\") +\n",
    "    scale_shape_manual(values = c(21:25,21:25,21:25,21:25)) + \n",
    "ggtitle(j) + ggtheme()"
   ]
  },
  {
   "cell_type": "code",
   "execution_count": null,
   "id": "709ebd48",
   "metadata": {},
   "outputs": [],
   "source": [
    "Comparison_list"
   ]
  },
  {
   "cell_type": "code",
   "execution_count": null,
   "id": "abc607ea",
   "metadata": {},
   "outputs": [],
   "source": [
    "all_fcs3  <- all_fcs2  %>% \n",
    "dplyr::filter(avg_log2FC>0 & !grepl(gene, pattern = \"^MTRN\"))  %>% \n",
    "mutate(avg_log2FC2 = ifelse(direction == \"Down\",avg_log2FC*-1,avg_log2FC))  %>% \n",
    "mutate(abs_avg_log2FC2 = abs(avg_log2FC2))  %>% \n",
    "mutate(label = ifelse(abs_avg_log2FC2>0.9&p_val_adj<0.05,gene,\n",
    "                     ifelse(abs_avg_log2FC2>0.6&p_val_adj<10e-100,gene,NA_character_)))  %>% \n",
    "mutate(color = ifelse(abs_avg_log2FC2>0.6&p_val_adj<0.05,Dataset,\"grey\"))       "
   ]
  },
  {
   "cell_type": "code",
   "execution_count": null,
   "id": "531a05cf",
   "metadata": {},
   "outputs": [],
   "source": [
    "all_fcs3$cd4_vs_cd8  <- substr(all_fcs3$Dataset,1,3)"
   ]
  },
  {
   "cell_type": "code",
   "execution_count": null,
   "id": "66fe9b12",
   "metadata": {},
   "outputs": [],
   "source": [
    "options(repr.plot.width = 22, repr.plot.height = 8)\n",
    "\n",
    "for(j in Comparison_list){\n",
    "    df10  <- all_fcs3  %>% dplyr::filter(Comparison == j) \n",
    "p  <- df10  %>%  ggplot(aes(x = avg_log2FC2, y = -log10(p_val_adj), color = color, label = label)) + \n",
    "  ggrastr::rasterize(geom_point(aes(shape = color), size = 2)) + \n",
    "        theme_minimal() +\n",
    "        geom_text_repel(size = 6) +\n",
    "facet_wrap(~cd4_vs_cd8) +\n",
    "        scale_color_manual(values=c(scales::hue_pal()(length(levels(factor(df10$color)))-1), \"grey88\")) +\n",
    "        geom_vline(xintercept=c(-0.6, 0.6), col=\"red\") +\n",
    "        geom_hline(yintercept=-log10(0.05), col=\"red\") +\n",
    "    \n",
    "    scale_shape_manual(values = c(21:25,21:25,21:25,21:25)) + \n",
    "ggtitle(j) + ggtheme()\n",
    "    print(p)\n",
    "}"
   ]
  },
  {
   "cell_type": "code",
   "execution_count": null,
   "id": "893825e8",
   "metadata": {},
   "outputs": [],
   "source": [
    "for(j in Comparison_list){\n",
    "    df10  <- all_fcs3  %>% dplyr::filter(Comparison == j) \n",
    " print(df10  %>%  group_by(Dataset)  %>% tally)\n",
    " \n",
    "}"
   ]
  },
  {
   "cell_type": "markdown",
   "id": "0838e896",
   "metadata": {},
   "source": [
    "### Correct Colors"
   ]
  },
  {
   "cell_type": "code",
   "execution_count": null,
   "id": "b79b3eaf",
   "metadata": {},
   "outputs": [],
   "source": [
    "colors_of_populations = c(\"Mazda RX4\" = \"red\", \"Mazda RX4 Wag\" = \"blue\", \"Datsun 710\" = \"green\")"
   ]
  },
  {
   "cell_type": "code",
   "execution_count": null,
   "id": "12f096b4",
   "metadata": {},
   "outputs": [],
   "source": [
    "levels(factor(all_fcs3$Dataset))"
   ]
  },
  {
   "cell_type": "code",
   "execution_count": null,
   "id": "26a1138c",
   "metadata": {},
   "outputs": [],
   "source": [
    "all_fcs3  <- all_fcs2  %>% \n",
    "dplyr::filter(avg_log2FC>0 & !grepl(gene, pattern = \"^MTRN\"))  %>% \n",
    "mutate(avg_log2FC2 = ifelse(direction == \"Down\",avg_log2FC*-1,avg_log2FC))  %>% \n",
    "mutate(abs_avg_log2FC2 = abs(avg_log2FC2))  %>% \n",
    "mutate(label = ifelse(abs_avg_log2FC2>0.585&p_val_adj<0.05,gene,\n",
    "                     ifelse(abs_avg_log2FC2>0.585&p_val_adj<10e-100,gene,NA_character_)))  %>% \n",
    "mutate(color = ifelse(abs_avg_log2FC2>0.585&p_val_adj<0.05,Dataset,\"grey\"))   %>% \n",
    "mutate(cd4_vs_cd8 = substr(Dataset,1,3))"
   ]
  },
  {
   "cell_type": "code",
   "execution_count": null,
   "id": "c889b96c",
   "metadata": {},
   "outputs": [],
   "source": [
    "colors_of_populations = c(\n",
    "    'cd4_l1_full' = \"#ffa66aff\",\n",
    "    'cd4_l2_subcluster'  = \"#ffa66aff\",\n",
    "    'cd4_l2_unc'  = \"#cd3333ff\",\n",
    "    'cd4_l3_isaghi'  = \"#a46464ff\",\n",
    "    'cd4_l3_naive'  = \"#a58413ff\",\n",
    "    'cd4_l3_nfkb'  = \"#a46c43ff\",\n",
    "    'cd4_l3_proliferating'  = \"#9b3097ff\", \n",
    "    'cd4_l3_temra'  = \"#7d252aff\",\n",
    "    'cd4_l3_tfh'  = \"#8e6a1dff\",\n",
    "    'cd4_l3_th1th17'  = \"#a94e4eff\",\n",
    "    'cd4_l3_th2'  = \"#b36672ff\",\n",
    "    'cd4_l3_treg'  = \"#ba6d8dff\",\n",
    "    'cd8_l1_full'  = \"#67934aff\",\n",
    "    'cd8_l2_nk'  = \"#105292ff\",\n",
    "    'cd8_l2_subcluster' = \"#67934aff\", \n",
    "    'cd8_l2_unc'  = \"#6d00c0ff\",\n",
    "    'cd8_l3_naive'  = \"#004455ff\",\n",
    "    'cd8_l3_prolif'  = \"#5f711aff\",\n",
    "    'cd8_l3_tcm'  = \"#427c39ff\",\n",
    "    'cd8_l3_tem'  = \"#004455ff\",\n",
    "    'cd8_l3_temra'  = \"#16481fff\",\n",
    "    \"grey\" = \"grey88\"\n",
    ")"
   ]
  },
  {
   "cell_type": "code",
   "execution_count": null,
   "id": "aa0b16b1",
   "metadata": {
    "scrolled": true
   },
   "outputs": [],
   "source": [
    "for(j in Comparison_list){\n",
    "    df10  <- all_fcs3  %>% dplyr::filter(Comparison == j & !(Dataset %in% c(\"cd4_l1_full\", \"cd8_l2_subcluster\", \n",
    "                                                                            \"cd4_l2_subcluster\", \"cd8_l1_full\",\n",
    "                                                                           \"cd8_l2_nk\"))) \n",
    "p  <- df10  %>%  ggplot(aes(x = avg_log2FC2, y = -log10(p_val_adj), color = color, label = label)) + \n",
    "  ggrastr::rasterize(geom_point(aes(shape = color), size = 2)) + \n",
    "        theme_minimal() +\n",
    "        geom_text_repel(size = 6) +\n",
    "facet_wrap(~cd4_vs_cd8) +\n",
    "        scale_color_manual(values=colors_of_populations) +\n",
    "        geom_vline(xintercept=c(-0.585, 0.585), col=\"red\") +\n",
    "        geom_hline(yintercept=-log10(0.05), col=\"red\") +\n",
    "    \n",
    "    scale_shape_manual(values = c(21:25,21:25,21:25,21:25)) + \n",
    "ggtitle(j) + ggtheme()\n",
    "    print(p)\n",
    "}"
   ]
  },
  {
   "cell_type": "code",
   "execution_count": null,
   "id": "7c82ca56",
   "metadata": {},
   "outputs": [],
   "source": []
  },
  {
   "cell_type": "code",
   "execution_count": null,
   "id": "3e9e1dc7",
   "metadata": {},
   "outputs": [],
   "source": [
    "all_fcs4  <- all_fcs2  %>% \n",
    "dplyr::filter(avg_log2FC>0 & !grepl(gene, pattern = \"^MTRN\"))  %>% \n",
    "mutate(avg_log2FC2 = ifelse(direction == \"Down\",avg_log2FC*-1,avg_log2FC))  %>% \n",
    "mutate(abs_avg_log2FC2 = abs(avg_log2FC2))  %>% \n",
    "mutate(label = ifelse(abs_avg_log2FC2>0.322&p_val_adj<0.05,gene,\n",
    "                     ifelse(abs_avg_log2FC2>0.322&p_val_adj<10e-100,gene,NA_character_)))  %>% \n",
    "mutate(color = ifelse(abs_avg_log2FC2>0.322&p_val_adj<0.05,Dataset,\"grey\"))   %>% \n",
    "mutate(cd4_vs_cd8 = substr(Dataset,1,3))"
   ]
  },
  {
   "cell_type": "code",
   "execution_count": null,
   "id": "8cd8687f",
   "metadata": {},
   "outputs": [],
   "source": [
    "options(repr.plot.width = 12, repr.plot.height = 6)\n",
    "\n",
    "for(j in Comparison_list){\n",
    "    df10  <- all_fcs4  %>% dplyr::filter(Comparison == j & (Dataset %in% c(\"cd4_l1_full\", \"cd8_l2_subcluster\", \n",
    "                                                                          \"cd8_l2_nk\"))) \n",
    "p  <- df10  %>%  ggplot(aes(x = avg_log2FC2, y = -log10(p_val_adj), color = color, label = label)) + \n",
    "  ggrastr::rasterize(geom_point(aes(shape = color), size = 2)) + \n",
    "        theme_minimal() +\n",
    "        geom_text_repel(size = 6) +\n",
    "        scale_color_manual(values=colors_of_populations) +\n",
    "        geom_vline(xintercept=c(-0.322, 0.322), col=\"red\") +\n",
    "        geom_hline(yintercept=-log10(0.05), col=\"red\") +\n",
    "    \n",
    "    scale_shape_manual(values = c(21:25,21:25,21:25,21:25)) + \n",
    "ggtitle(j) + ggtheme()\n",
    "    print(p)\n",
    "}"
   ]
  },
  {
   "cell_type": "markdown",
   "id": "3651b8d9",
   "metadata": {},
   "source": [
    "### Without Y genes"
   ]
  },
  {
   "cell_type": "code",
   "execution_count": null,
   "id": "b3b67395",
   "metadata": {},
   "outputs": [],
   "source": [
    "library(biomaRt)\n",
    "mart <- useMart(biomart=\"ensembl\", dataset=\"hsapiens_gene_ensembl\")"
   ]
  },
  {
   "cell_type": "code",
   "execution_count": null,
   "id": "5e8c2d68",
   "metadata": {},
   "outputs": [],
   "source": [
    "results <- getBM(attributes = c(\"chromosome_name\", \"hgnc_symbol\"),\n",
    "           filters = \"chromosome_name\", values = \"Y\", mart = mart)"
   ]
  },
  {
   "cell_type": "code",
   "execution_count": null,
   "id": "a2d142cf",
   "metadata": {
    "scrolled": true
   },
   "outputs": [],
   "source": [
    "results"
   ]
  },
  {
   "cell_type": "code",
   "execution_count": null,
   "id": "7d49f89c",
   "metadata": {},
   "outputs": [],
   "source": [
    "all_fcs4  <- all_fcs2  %>% \n",
    "dplyr::filter(avg_log2FC>0 \n",
    "              & !grepl(gene, pattern = \"^MTRN\")\n",
    "             & !grepl(gene, pattern = \"^HLA-\")\n",
    "             & !grepl(gene, pattern = \"orf\")\n",
    "             & !grepl(gene, pattern = \"^AP0\")\n",
    "             & !grepl(gene, pattern = \"^H1-\"))  %>% \n",
    "dplyr::filter(!(gene %in% results$hgnc_symbol))  %>% \n",
    "mutate(avg_log2FC2 = ifelse(direction == \"Down\",avg_log2FC*-1,avg_log2FC))  %>% \n",
    "mutate(abs_avg_log2FC2 = abs(avg_log2FC2))  %>% \n",
    "mutate(label = ifelse(abs_avg_log2FC2>0.322&p_val_adj<0.05,gene,\n",
    "                     ifelse(abs_avg_log2FC2>0.322&p_val_adj<10e-100,gene,NA_character_)))  %>% \n",
    "mutate(color = ifelse(abs_avg_log2FC2>0.322&p_val_adj<0.05,Dataset,\"grey\"))   %>% \n",
    "mutate(cd4_vs_cd8 = substr(Dataset,1,3))"
   ]
  },
  {
   "cell_type": "code",
   "execution_count": null,
   "id": "d8b9b4e1",
   "metadata": {},
   "outputs": [],
   "source": [
    "all_fcs4  %>% dplyr::filter(gene == \"ASCL2\")"
   ]
  },
  {
   "cell_type": "code",
   "execution_count": null,
   "id": "e4cb3816",
   "metadata": {},
   "outputs": [],
   "source": [
    "options(repr.plot.width = 12, repr.plot.height = 6)\n",
    "\n",
    "for(j in Comparison_list){\n",
    "    df10  <- all_fcs4  %>% dplyr::filter(Comparison == j & (Dataset %in% c(\"cd4_l1_full\", \"cd8_l2_subcluster\"))) \n",
    "p  <- df10  %>%  ggplot(aes(x = avg_log2FC2, y = -log10(p_val_adj), color = color, label = label)) + \n",
    "  ggrastr::rasterize(geom_point(aes(shape = color), size = 2), dpi = 300) + \n",
    "        theme_minimal() +\n",
    "        geom_vline(xintercept=c(-0.322, 0.322), col=\"red\") +\n",
    "        geom_hline(yintercept=-log10(0.05), col=\"red\") +geom_text_repel(size = 3) +\n",
    "        scale_color_manual(values=colors_of_populations) +\n",
    "        scale_shape_manual(values = c(21:25,21:25,21:25,21:25)) + \n",
    "ggtitle(j) + ggtheme()\n",
    "    print(p)\n",
    "    ggsave(paste0(\"../figures/volcano/cd4_and_cd8_\",j,\".svg\"), width = 10, height = 6)\n",
    "}"
   ]
  },
  {
   "cell_type": "code",
   "execution_count": null,
   "id": "0b85f0dc",
   "metadata": {},
   "outputs": [],
   "source": [
    "library(ggrepel)"
   ]
  },
  {
   "cell_type": "code",
   "execution_count": null,
   "id": "bcf99c64",
   "metadata": {},
   "outputs": [],
   "source": [
    "all_fcs5  <- all_fcs2  %>% \n",
    "dplyr::filter(avg_log2FC>0 \n",
    "              & !grepl(gene, pattern = \"^MTRN\")\n",
    "             & !grepl(gene, pattern = \"^HLA-\")\n",
    "             & !grepl(gene, pattern = \"orf\")\n",
    "             & !grepl(gene, pattern = \"^AP0\")\n",
    "             & !grepl(gene, pattern = \"^H1-\"))  %>% \n",
    "dplyr::filter(!(gene %in% results$hgnc_symbol))  %>% \n",
    "mutate(avg_log2FC2 = ifelse(direction == \"Down\",avg_log2FC*-1,avg_log2FC))  %>% \n",
    "mutate(abs_avg_log2FC2 = abs(avg_log2FC2))  %>% \n",
    "mutate(label = ifelse(abs_avg_log2FC2>0.2&p_val_adj<0.05,gene,\n",
    "                     ifelse(abs_avg_log2FC2>0.2&p_val_adj<10e-100,gene,NA_character_)))  %>% \n",
    "mutate(color = ifelse(abs_avg_log2FC2>0.2&p_val_adj<0.05,Dataset,\"grey\"))   %>% \n",
    "mutate(cd4_vs_cd8 = substr(Dataset,1,3))"
   ]
  },
  {
   "cell_type": "code",
   "execution_count": null,
   "id": "590a7ec5",
   "metadata": {
    "scrolled": false
   },
   "outputs": [],
   "source": [
    "options(repr.plot.width = 12, repr.plot.height = 6)\n",
    "\n",
    "for(j in Comparison_list){\n",
    "    df10  <- all_fcs5 %>% dplyr::filter(Comparison == j & (Dataset %in% c(\"cd4_l3_treg\"))) \n",
    "p  <- df10  %>%  ggplot(aes(x = avg_log2FC2, y = -log10(p_val_adj), color = color, label = label)) + \n",
    "  ggrastr::rasterize(geom_point(aes(shape = color), size = 2), dpi = 300) + \n",
    "        theme_minimal() +\n",
    "        geom_vline(xintercept=c(-0.2, 0.2), col=\"red\") +\n",
    "        geom_hline(yintercept=-log10(0.05), col=\"red\") +geom_text_repel(size = 6, max.overlaps = 15) +\n",
    "        scale_color_manual(values=c(\"#ff5599ff\",\"grey88\")) +\n",
    "        scale_shape_manual(values = c(21:25,21:25,21:25,21:25)) + \n",
    "ggtitle(j) + ggtheme()\n",
    "    print(p)\n",
    "    ggsave(paste0(\"../figures/volcano/treg_\",j,\".svg\"), width = 10, height = 6)\n",
    "}"
   ]
  },
  {
   "cell_type": "code",
   "execution_count": null,
   "id": "6169d125",
   "metadata": {},
   "outputs": [],
   "source": [
    "for(j in Comparison_list){\n",
    "    df10  <- all_fcs5 %>% dplyr::filter(Comparison == j & (Dataset %in% c(\"cd8_l2_unc\"))) \n",
    "p  <- df10  %>%  ggplot(aes(x = avg_log2FC2, y = -log10(p_val_adj), color = color, label = label)) + \n",
    "  ggrastr::rasterize(geom_point(aes(shape = color), size = 2), dpi = 300) + \n",
    "        theme_minimal() +\n",
    "        geom_vline(xintercept=c(-0.2, 0.2), col=\"red\") +\n",
    "        geom_hline(yintercept=-log10(0.05), col=\"red\") +geom_text_repel(size = 6) +\n",
    "        scale_color_manual(values=c(\"#306aa3ff\",\"grey88\")) +\n",
    "        scale_shape_manual(values = c(21:25,21:25,21:25,21:25)) + \n",
    "ggtitle(j) + ggtheme()\n",
    "    print(p)\n",
    "    ggsave(paste0(\"../figures/volcano/unc_\",j,\".svg\"), width = 10, height = 6)\n",
    "}"
   ]
  },
  {
   "cell_type": "code",
   "execution_count": null,
   "id": "df55ab86",
   "metadata": {},
   "outputs": [],
   "source": [
    "cd4  <- readRDS(\"../data/processed/L1/cd4_l1_full_filt.rds\")\n",
    "\n",
    "avgexp = AggregateExpression(subset(cd4, Experiment_ID %in% c(\"Exp16\",\"Exp18\",\"Exp19\",\"Exp20\")), \n",
    "                             return.seurat = F, group.by = \"Patient_Time\", \n",
    "                          assay = \"RNA\")"
   ]
  },
  {
   "cell_type": "code",
   "execution_count": null,
   "id": "ba0ae7fe",
   "metadata": {},
   "outputs": [],
   "source": []
  },
  {
   "cell_type": "code",
   "execution_count": null,
   "id": "72950151",
   "metadata": {},
   "outputs": [],
   "source": [
    "avgexp  <- NormalizeData(avgexp)\n",
    "avgexp  <- ScaleData(avgexp)"
   ]
  },
  {
   "cell_type": "code",
   "execution_count": null,
   "id": "25780388",
   "metadata": {},
   "outputs": [],
   "source": [
    "dir.create(\"../figures/volcano\")"
   ]
  },
  {
   "cell_type": "code",
   "execution_count": null,
   "id": "e2f68e69",
   "metadata": {},
   "outputs": [],
   "source": [
    "options(repr.plot.width = 22, repr.plot.height = 8)\n",
    "\n",
    "for(j in Comparison_list){\n",
    "    df10  <- all_fcs4  %>% dplyr::filter(Comparison == j & !(Dataset %in% c(\"cd4_l1_full\", \"cd8_l2_subcluster\", \n",
    "                                                                            \"cd4_l2_subcluster\", \"cd8_l1_full\",\n",
    "                                                                           \"cd8_l2_nk\"))) \n",
    "p  <- df10  %>%  ggplot(aes(x = avg_log2FC2, y = -log10(p_val_adj), color = color, label = label)) + \n",
    "  ggrastr::rasterize(geom_point(aes(shape = color), size = 2)) + \n",
    "        theme_minimal() +\n",
    "        geom_text_repel(size = 6) +\n",
    "facet_wrap(~cd4_vs_cd8) +\n",
    "        scale_color_manual(values=colors_of_populations) +\n",
    "        geom_vline(xintercept=c(-0.322, 0.322), col=\"red\") +\n",
    "        geom_hline(yintercept=-log10(0.05), col=\"red\") +\n",
    "    \n",
    "    scale_shape_manual(values = c(21:25,21:25,21:25,21:25)) + \n",
    "ggtitle(j) + ggtheme()\n",
    "    print(p)\n",
    "    ggsave(paste0(\"../figures/volcano/all_populations_\",j,\".svg\"), width = 17, height = 6)\n",
    "}"
   ]
  },
  {
   "cell_type": "markdown",
   "id": "32c66c5d",
   "metadata": {},
   "source": [
    "## DESeq gene markers"
   ]
  },
  {
   "cell_type": "code",
   "execution_count": null,
   "id": "a2732e06",
   "metadata": {
    "scrolled": true
   },
   "outputs": [],
   "source": [
    "all_markers"
   ]
  },
  {
   "cell_type": "code",
   "execution_count": null,
   "id": "69827365",
   "metadata": {},
   "outputs": [],
   "source": [
    "deseq_markers  <- read_csv(\"../../240218_VN_Diabetes_V05/tables/DESeq_markers/cd4_deseq.csv\")"
   ]
  },
  {
   "cell_type": "code",
   "execution_count": null,
   "id": "7ea1cc2c",
   "metadata": {},
   "outputs": [],
   "source": [
    "deseq_markers_cd4  <- deseq_markers"
   ]
  },
  {
   "cell_type": "code",
   "execution_count": null,
   "id": "8cccdb81",
   "metadata": {},
   "outputs": [],
   "source": [
    "deseq_markers  <- read_csv(\"../tables/DESeq_markers/cd8_deseq.csv\")"
   ]
  },
  {
   "cell_type": "code",
   "execution_count": null,
   "id": "d022678b",
   "metadata": {},
   "outputs": [],
   "source": [
    "deseq_markers_cd8  <- deseq_markers"
   ]
  },
  {
   "cell_type": "code",
   "execution_count": null,
   "id": "1165f067",
   "metadata": {},
   "outputs": [],
   "source": [
    "deseq_markers  <- rbind(deseq_markers_cd4, deseq_markers_cd8)"
   ]
  },
  {
   "cell_type": "code",
   "execution_count": null,
   "id": "e7955805",
   "metadata": {},
   "outputs": [],
   "source": [
    "deseq_markers$`...1`  <- NULL"
   ]
  },
  {
   "cell_type": "code",
   "execution_count": null,
   "id": "14b9036f",
   "metadata": {
    "scrolled": true
   },
   "outputs": [],
   "source": [
    "deseq_markers"
   ]
  },
  {
   "cell_type": "code",
   "execution_count": null,
   "id": "3da6a25f",
   "metadata": {},
   "outputs": [],
   "source": [
    "deseq_markers  <- deseq_markers  %>% mutate(\n",
    "direction = case_when(test_type == \"Dia T1 vs Ctrl T0\" & cluster == \"Ctrl T0\" ~ \"Down\",\n",
    "                      test_type == \"Dia T1 vs Ctrl T0\" & cluster == \"Dia T1\" ~ \"Up\",\n",
    "                      \n",
    "                      test_type == \"Dia T0 vs Ctrl T0\" & cluster == \"Ctrl T0\" ~ \"Down\",\n",
    "                      test_type == \"Dia T0 vs Ctrl T0\" & cluster == \"Dia T0\" ~ \"Up\",\n",
    "                      \n",
    "                      test_type == \"Dia T0 vs Dia T1\" & cluster == \"Dia T0\" ~ \"Up\",\n",
    "                      test_type == \"Dia T0 vs Dia T1\" & cluster == \"Dia T1\" ~ \"Down\",\n",
    "                      \n",
    "                      test_type == \"PR_0 T0 vs PR_0 T1\" & cluster == \"PR_0 T0\" ~ \"Up\",\n",
    "                      test_type == \"PR_0 T0 vs PR_0 T1\" & cluster == \"PR_0 T1\" ~ \"Down\",\n",
    "                      \n",
    "                      test_type == \"PR_0 T0 vs PR_1 T0\" & cluster == \"PR_0 T0\" ~ \"Up\",\n",
    "                      test_type == \"PR_0 T0 vs PR_1 T0\" & cluster == \"PR_1 T0\" ~ \"Down\",\n",
    "                      \n",
    "                      test_type == \"PR_0 T1 vs PR_1 T1\" & cluster == \"PR_0 T1\" ~ \"Up\",\n",
    "                      test_type == \"PR_0 T1 vs PR_1 T1\" & cluster == \"PR_1 T1\" ~ \"Down\",\n",
    "                      \n",
    "                      test_type == \"PR_1 T0 vs PR_1 T1\" & cluster == \"PR_1 T0\" ~ \"Up\",\n",
    "                      test_type == \"PR_1 T0 vs PR_1 T1\" & cluster == \"PR_1 T1\" ~ \"Down\",\n",
    "                      \n",
    "                      test_type == \"Keto_1 T0 vs Keto_0 T0\" & cluster == \"Keto_0 T0\" ~ \"Down\",\n",
    "                      test_type == \"Keto_1 T0 vs Keto_0 T0\" & cluster == \"Keto_1 T0\" ~ \"Up\"\n",
    "                      \n",
    "                     ))"
   ]
  },
  {
   "cell_type": "code",
   "execution_count": null,
   "id": "98bc4694",
   "metadata": {},
   "outputs": [],
   "source": [
    "deseq_markers  %>% group_by(cluster, test_type, direction)  %>% tally"
   ]
  },
  {
   "cell_type": "code",
   "execution_count": null,
   "id": "13feb81d",
   "metadata": {},
   "outputs": [],
   "source": [
    "deseq_markers$gene_direction  <- paste(deseq_markers$gene, deseq_markers$direction)"
   ]
  },
  {
   "cell_type": "code",
   "execution_count": null,
   "id": "76e3daa2",
   "metadata": {},
   "outputs": [],
   "source": [
    "colnames(deseq_markers)"
   ]
  },
  {
   "cell_type": "code",
   "execution_count": null,
   "id": "4d5eb67f",
   "metadata": {},
   "outputs": [],
   "source": [
    "colnames(all_markers)"
   ]
  },
  {
   "cell_type": "code",
   "execution_count": null,
   "id": "75456866",
   "metadata": {},
   "outputs": [],
   "source": [
    "mrk_sc_deseq  <- rbind(deseq_markers, all_markers)"
   ]
  }
 ],
 "metadata": {
  "kernelspec": {
   "display_name": "R",
   "language": "R",
   "name": "ir"
  },
  "language_info": {
   "codemirror_mode": "r",
   "file_extension": ".r",
   "mimetype": "text/x-r-source",
   "name": "R",
   "pygments_lexer": "r",
   "version": "4.4.2"
  },
  "toc": {
   "base_numbering": 1,
   "nav_menu": {},
   "number_sections": true,
   "sideBar": true,
   "skip_h1_title": false,
   "title_cell": "Table of Contents",
   "title_sidebar": "Contents",
   "toc_cell": false,
   "toc_position": {
    "height": "calc(100% - 180px)",
    "left": "10px",
    "top": "150px",
    "width": "393.767px"
   },
   "toc_section_display": true,
   "toc_window_display": true
  }
 },
 "nbformat": 4,
 "nbformat_minor": 5
}
