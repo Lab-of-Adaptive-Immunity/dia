{
 "cells": [
  {
   "cell_type": "markdown",
   "id": "8acf0022",
   "metadata": {},
   "source": [
    "# Part 10: DEG analysis "
   ]
  },
  {
   "cell_type": "markdown",
   "id": "3bff94e3",
   "metadata": {},
   "source": [
    "In this document, we will focus on the analysis of differential expressed genes (DEG). We have already obtained the DEG before in parts 6 and 7 of the analysis. The results will be loaded and built upon.  "
   ]
  },
  {
   "cell_type": "code",
   "execution_count": null,
   "id": "8704100f",
   "metadata": {
    "scrolled": true
   },
   "outputs": [],
   "source": [
    "source(\"diabetes_analysis_v07.R\")\n",
    "\n",
    "rank_score_func <- function(df){\n",
    "df <- df %>% mutate(score = -1*log(p_val_adj+(10^-310))*avg_log2FC*(pct.1/(pct.2+10^-300)))\n",
    "return(df)\n",
    "}\n",
    "\n"
   ]
  },
  {
   "cell_type": "markdown",
   "id": "a819f953",
   "metadata": {},
   "source": [
    "We will be using some additional libraries:"
   ]
  },
  {
   "cell_type": "code",
   "execution_count": null,
   "id": "355a91ec",
   "metadata": {
    "scrolled": true
   },
   "outputs": [],
   "source": [
    "library(msigdbr)\n",
    "library(clusterProfiler)\n",
    "library(org.Hs.eg.db)\n",
    "library(enrichplot)\n",
    "library(EnsDb.Hsapiens.v86)\n",
    "library(fgsea)"
   ]
  },
  {
   "cell_type": "markdown",
   "id": "fc8bc4ff",
   "metadata": {},
   "source": [
    "# Load markers, add EnsID"
   ]
  },
  {
   "cell_type": "markdown",
   "id": "6d2f21ee",
   "metadata": {},
   "source": [
    "We will now load the markers we calculated in parts 6 and 7 of the analysis pipeline. As we have the The precalculated gene tables can be also downloaded from Zenodo: [DOI: 10.5281/zenodo.14222418](https://zenodo.org/records/14222418) "
   ]
  },
  {
   "cell_type": "code",
   "execution_count": null,
   "id": "0a77e3c8",
   "metadata": {},
   "outputs": [],
   "source": [
    "markers_cd4  <- read_csv(\"../tables/de_genes/240319_cd4_all_markers_without_sex.csv\")\n",
    "markers_cd8  <- read_csv(\"../tables/de_genes/240319_cd8_all_markers_without_sex.csv\")"
   ]
  },
  {
   "cell_type": "markdown",
   "id": "c1a8915e",
   "metadata": {},
   "source": [
    "As we have the sample information stored, we can bind markers all toghether. "
   ]
  },
  {
   "cell_type": "code",
   "execution_count": null,
   "id": "d06018bb",
   "metadata": {},
   "outputs": [],
   "source": [
    "all_markers  <- rbind(markers_cd4, markers_cd8)"
   ]
  },
  {
   "cell_type": "code",
   "execution_count": null,
   "id": "e8bddd28",
   "metadata": {},
   "outputs": [],
   "source": [
    "all_markers$source  %>% table"
   ]
  },
  {
   "cell_type": "markdown",
   "id": "3d16050e",
   "metadata": {},
   "source": [
    "We will now clean the metadata of the DEG a bit and add the Up or Down direction, which indicated the direction of the change. Up means a gene is expressed more in the worse condition, i.e. T1D compared to Healthy, T1D T0 compared to T1D T1, no partial remission at T1 compared to partial remission at T1, etc. "
   ]
  },
  {
   "cell_type": "code",
   "execution_count": null,
   "id": "0cfe21f1",
   "metadata": {},
   "outputs": [],
   "source": [
    "all_markers  <- all_markers  %>% mutate(\n",
    "direction = case_when(test_type == \"Dia T1 vs Ctrl T0\" & cluster == \"Ctrl T0\" ~ \"Down\",\n",
    "                      test_type == \"Dia T1 vs Ctrl T0\" & cluster == \"Dia T1\" ~ \"Up\",\n",
    "                      \n",
    "                      test_type == \"Dia T0 vs Ctrl T0\" & cluster == \"Ctrl T0\" ~ \"Down\",\n",
    "                      test_type == \"Dia T0 vs Ctrl T0\" & cluster == \"Dia T0\" ~ \"Up\",\n",
    "                      \n",
    "                      test_type == \"Dia T0 vs Dia T1\" & cluster == \"Dia T0\" ~ \"Up\",\n",
    "                      test_type == \"Dia T0 vs Dia T1\" & cluster == \"Dia T1\" ~ \"Down\",\n",
    "                      \n",
    "                      test_type == \"PR_0 T0 vs PR_0 T1\" & cluster == \"PR_0 T0\" ~ \"Up\",\n",
    "                      test_type == \"PR_0 T0 vs PR_0 T1\" & cluster == \"PR_0 T1\" ~ \"Down\",\n",
    "                      \n",
    "                      test_type == \"PR_0 T0 vs PR_1 T0\" & cluster == \"PR_0 T0\" ~ \"Up\",\n",
    "                      test_type == \"PR_0 T0 vs PR_1 T0\" & cluster == \"PR_1 T0\" ~ \"Down\",\n",
    "                      \n",
    "                      test_type == \"PR_0 T1 vs PR_1 T1\" & cluster == \"PR_0 T1\" ~ \"Up\",\n",
    "                      test_type == \"PR_0 T1 vs PR_1 T1\" & cluster == \"PR_1 T1\" ~ \"Down\",\n",
    "                      \n",
    "                      test_type == \"PR_1 T0 vs PR_1 T1\" & cluster == \"PR_1 T0\" ~ \"Up\",\n",
    "                      test_type == \"PR_1 T0 vs PR_1 T1\" & cluster == \"PR_1 T1\" ~ \"Down\",\n",
    "                      \n",
    "                      test_type == \"Keto_1 T0 vs Keto_0 T0\" & cluster == \"Keto_0 T0\" ~ \"Down\",\n",
    "                      test_type == \"Keto_1 T0 vs Keto_0 T0\" & cluster == \"Keto_1 T0\" ~ \"Up\"\n",
    "                      \n",
    "                     ))"
   ]
  },
  {
   "cell_type": "code",
   "execution_count": null,
   "id": "9a8cce13",
   "metadata": {
    "scrolled": true
   },
   "outputs": [],
   "source": [
    "all_markers  %>% group_by(cluster, test_type, direction)  %>% tally"
   ]
  },
  {
   "cell_type": "markdown",
   "id": "1fd50aed",
   "metadata": {},
   "source": [
    "Add Ensembl IDs for each gene as they are needed for some analyses."
   ]
  },
  {
   "cell_type": "code",
   "execution_count": null,
   "id": "19d2463a",
   "metadata": {},
   "outputs": [],
   "source": [
    "geneIDs1 <- ensembldb::select(EnsDb.Hsapiens.v86, keys= (all_markers$gene  %>% unique ), \n",
    "                              keytype = \"SYMBOL\", columns = c(\"SYMBOL\",\"ENTREZID\"))"
   ]
  },
  {
   "cell_type": "code",
   "execution_count": null,
   "id": "d246f594",
   "metadata": {},
   "outputs": [],
   "source": [
    "colnames(geneIDs1)  <- c(\"gene\", \"entrezid\")"
   ]
  },
  {
   "cell_type": "code",
   "execution_count": null,
   "id": "710ce0e0",
   "metadata": {},
   "outputs": [],
   "source": [
    "all_markers2  <- all_markers  %>% \n",
    "                    left_join(geneIDs1) "
   ]
  },
  {
   "cell_type": "code",
   "execution_count": null,
   "id": "3fbf3631",
   "metadata": {
    "scrolled": true
   },
   "outputs": [],
   "source": [
    "all_markers2"
   ]
  },
  {
   "cell_type": "code",
   "execution_count": null,
   "id": "4422d52e",
   "metadata": {},
   "outputs": [],
   "source": [
    "all_markers$gene_direction  <- paste(all_markers$gene, all_markers$direction)"
   ]
  },
  {
   "cell_type": "code",
   "execution_count": null,
   "id": "a53f7e59",
   "metadata": {},
   "outputs": [],
   "source": [
    "all_markers2$gene_direction  <- paste(all_markers2$gene, all_markers2$direction)"
   ]
  },
  {
   "cell_type": "markdown",
   "id": "fa58023e",
   "metadata": {},
   "source": [
    "# Counts of DE genes"
   ]
  },
  {
   "cell_type": "markdown",
   "id": "b81867de",
   "metadata": {},
   "source": [
    "### RNA"
   ]
  },
  {
   "cell_type": "markdown",
   "id": "d8deee63",
   "metadata": {},
   "source": [
    "Let's visualize the counts of DEG in all clusters."
   ]
  },
  {
   "cell_type": "code",
   "execution_count": null,
   "id": "882d4023",
   "metadata": {},
   "outputs": [],
   "source": [
    "options(repr.plot.width = 10, repr.plot.height = 5)\n",
    "all_markers  %>% \n",
    "group_by(cluster, source, test_type, dataset)  %>% \n",
    "dplyr::filter(source == \"scRNAseq_RNA\")  %>% \n",
    "ggplot(aes(x = dataset)) +\n",
    "geom_bar(aes(fill = test_type), position = \"stack\") + coord_flip() "
   ]
  },
  {
   "cell_type": "markdown",
   "id": "55d89eaf",
   "metadata": {},
   "source": [
    "Split up different comparisons:"
   ]
  },
  {
   "cell_type": "code",
   "execution_count": null,
   "id": "fea180f6",
   "metadata": {},
   "outputs": [],
   "source": [
    "options(repr.plot.width = 20, repr.plot.height = 5)\n",
    "all_markers  %>% \n",
    "group_by(cluster, source, test_type, dataset)  %>% \n",
    "dplyr::filter(source == \"scRNAseq_RNA\" & test_type != \"Cpept_HI_T1 vs Cpept_LO_T1\")  %>% \n",
    "ggplot(aes(x = dataset)) +\n",
    "facet_grid(cols = vars(test_type)) +\n",
    "geom_bar(aes(fill = cluster), position = \"stack\") + coord_flip() "
   ]
  },
  {
   "cell_type": "markdown",
   "id": "430c22e5",
   "metadata": {},
   "source": [
    "Add a bit of formating."
   ]
  },
  {
   "cell_type": "code",
   "execution_count": null,
   "id": "829559b0",
   "metadata": {
    "scrolled": true
   },
   "outputs": [],
   "source": [
    "all_markers  %>% \n",
    "group_by(cluster, source, test_type, dataset)  %>% \n",
    "mutate(dataset = stringr::str_to_upper(gsub(dataset, pattern = \"_\", replacement = \" \")))  %>% \n",
    "dplyr::filter(source == \"scRNAseq_RNA\" & test_type != \"Cpept_HI_T1 vs Cpept_LO_T1\")  %>% \n",
    "ggplot(aes(x = dataset)) +\n",
    "facet_grid(cols = vars(test_type)) +\n",
    "geom_bar(aes(fill = direction), position = \"stack\") + coord_flip() +\n",
    "ggtheme() + \n",
    "theme_bw() + \n",
    "scale_fill_manual(values = c(\"#90c2f1ff\", \"#d0625dff\")) + theme(axis.ticks.y = element_blank())\n"
   ]
  },
  {
   "cell_type": "code",
   "execution_count": null,
   "id": "1efcb3ce",
   "metadata": {},
   "outputs": [],
   "source": [
    "all_markers  %>% \n",
    "group_by(cluster, source, test_type, dataset)  %>% \n",
    "mutate(dataset = stringr::str_to_upper(gsub(dataset, pattern = \"_\", replacement = \" \")))  %>% \n",
    "dplyr::filter(source == \"scRNAseq_RNA\" & test_type != \"Cpept_HI_T1 vs Cpept_LO_T1\" &\n",
    "             test_type != \"PR_0 T0 vs PR_0 T1\" & test_type != \"PR_0 T1 vs PR_1 T1\" &\n",
    "             test_type != \"PR_1 T0 vs PR_1 T1\" )  %>% \n",
    "ggplot(aes(x = dataset)) +\n",
    "facet_grid(cols = vars(test_type)) +\n",
    "geom_bar(aes(fill = direction), position = \"stack\") + coord_flip() +\n",
    "ggtheme() + \n",
    "theme_bw() + \n",
    "scale_fill_manual(values = c(\"#90c2f1ff\", \"#d0625dff\")) + theme(axis.ticks.y = element_blank())\n"
   ]
  },
  {
   "cell_type": "code",
   "execution_count": null,
   "id": "353851d3",
   "metadata": {},
   "outputs": [],
   "source": [
    "library(svglite)\n",
    "dir.create(\"../figures/DE_genes/\")\n",
    "ggsave(filename = \"../figures/DE_genes/count_of_RNA_markers.svg\", width = 11, height = 4)"
   ]
  },
  {
   "cell_type": "markdown",
   "id": "fc446aa8",
   "metadata": {},
   "source": [
    "### CollecTRI"
   ]
  },
  {
   "cell_type": "markdown",
   "id": "291842bc",
   "metadata": {},
   "source": [
    "We can do the same thing of differentially active transcriptional factors estimated by DecoupleR package:"
   ]
  },
  {
   "cell_type": "code",
   "execution_count": null,
   "id": "c353854a",
   "metadata": {},
   "outputs": [],
   "source": [
    "all_markers  %>% \n",
    "group_by(cluster, source, test_type, dataset)  %>% \n",
    "dplyr::filter(source == \"scRNAseq_collecTRI\")  %>% \n",
    "ggplot(aes(x = dataset)) +\n",
    "geom_bar(aes(fill = test_type), position = \"stack\") + coord_flip() "
   ]
  },
  {
   "cell_type": "code",
   "execution_count": null,
   "id": "209aa07e",
   "metadata": {},
   "outputs": [],
   "source": [
    "all_markers  %>% \n",
    "group_by(cluster, source, test_type, dataset)  %>% \n",
    "dplyr::filter(source == \"scRNAseq_collecTRI\")  %>% \n",
    "ggplot(aes(x = dataset)) +\n",
    "facet_grid(cols = vars(test_type)) +\n",
    "geom_bar(aes(fill = cluster), position = \"stack\") + coord_flip() "
   ]
  },
  {
   "cell_type": "code",
   "execution_count": null,
   "id": "136830d9",
   "metadata": {
    "scrolled": true
   },
   "outputs": [],
   "source": [
    "all_markers  %>% dplyr::filter(source == \"scRNAseq_collecTRI\")  %>% \n",
    "mutate(gene_direction = paste(gene, direction))  %>% \n",
    "group_by(gene, gene_direction)  %>% tally  %>% arrange(desc(n))"
   ]
  },
  {
   "cell_type": "markdown",
   "id": "1a967e3b",
   "metadata": {},
   "source": [
    "# Genes with similar DE in T0 and T1"
   ]
  },
  {
   "cell_type": "markdown",
   "id": "8d33fba0",
   "metadata": {},
   "source": [
    "In this part, we will look at the markers and check which of them are consistently up- or downregulated at both T0 and T1. "
   ]
  },
  {
   "cell_type": "code",
   "execution_count": null,
   "id": "80ea271d",
   "metadata": {},
   "outputs": [],
   "source": [
    "i = 1"
   ]
  },
  {
   "cell_type": "code",
   "execution_count": null,
   "id": "196eef27",
   "metadata": {},
   "outputs": [],
   "source": [
    " mrk_clust  <- all_markers  %>% dplyr::filter(source == \"scRNAseq_RNA\") %>% \n",
    "mutate(gene_direction = paste(gene, direction))   %>% \n",
    "dplyr::filter(test_type %in% c(\"Dia T0 vs Ctrl T0\", \"Dia T1 vs Ctrl T0\") &\n",
    "             dataset == datasets[1])  %>% group_by(gene_direction)   %>% tally()  %>% arrange(desc(n))  %>% \n",
    "dplyr::filter(n>1)\n",
    "mrk_clust$dataset  <- datasets[1]"
   ]
  },
  {
   "cell_type": "code",
   "execution_count": null,
   "id": "55b26e97",
   "metadata": {},
   "outputs": [],
   "source": [
    "mrk_clust_all  <- mrk_clust"
   ]
  },
  {
   "cell_type": "code",
   "execution_count": null,
   "id": "32de69dd",
   "metadata": {},
   "outputs": [],
   "source": [
    "for(i in 2:length(datasets)){\n",
    "    mrk_clust  <- all_markers  %>% dplyr::filter(source == \"scRNAseq_RNA\") %>% \n",
    "mutate(gene_direction = paste(gene, direction))   %>% \n",
    "dplyr::filter(test_type %in% c(\"Dia T0 vs Ctrl T0\", \"Dia T1 vs Ctrl T0\") &\n",
    "             dataset == datasets[i])  %>% group_by(gene_direction)   %>% tally()  %>% arrange(desc(n))  %>% \n",
    "dplyr::filter(n>1)\n",
    "    mrk_clust$dataset  <- datasets[i]\n",
    "    mrk_clust_all  <- rbind(mrk_clust_all, mrk_clust)\n",
    "    }\n"
   ]
  },
  {
   "cell_type": "code",
   "execution_count": null,
   "id": "1005a4ba",
   "metadata": {
    "scrolled": true
   },
   "outputs": [],
   "source": [
    "mrk_clust_all  %>% nrow"
   ]
  },
  {
   "cell_type": "code",
   "execution_count": null,
   "id": "13e6a66a",
   "metadata": {
    "scrolled": true
   },
   "outputs": [],
   "source": [
    "mrk_clust_all  %>% group_by(gene_direction)  %>% \n",
    "tally  %>% arrange(desc(n))  %>% separate(gene_direction, into = c(\"gene\", \"direction\"),\n",
    "                                          sep = \" \", remove = F)  %>% \n",
    "dplyr::filter(direction == \"Down\")"
   ]
  },
  {
   "cell_type": "code",
   "execution_count": null,
   "id": "9b696334",
   "metadata": {},
   "outputs": [],
   "source": [
    "down_genes  <- mrk_clust_all  %>% group_by(gene_direction)  %>% \n",
    "tally  %>% arrange(desc(n))  %>% separate(gene_direction, into = c(\"gene\", \"direction\"),\n",
    "                                          sep = \" \", remove = F)  %>% \n",
    "dplyr::filter(direction == \"Down\")  %>% pull(gene)"
   ]
  },
  {
   "cell_type": "code",
   "execution_count": null,
   "id": "f9c0d192",
   "metadata": {},
   "outputs": [],
   "source": [
    "down_genes"
   ]
  },
  {
   "cell_type": "code",
   "execution_count": null,
   "id": "26ae7b16",
   "metadata": {
    "scrolled": true
   },
   "outputs": [],
   "source": [
    "up_genesd  <- mrk_clust_all  %>% group_by(gene_direction)  %>% \n",
    "tally  %>% arrange(desc(n))  %>% separate(gene_direction, into = c(\"gene\", \"direction\"),\n",
    "                                          sep = \" \", remove = F)  %>% \n",
    "dplyr::filter(direction == \"Up\")  %>% pull(gene)"
   ]
  },
  {
   "cell_type": "code",
   "execution_count": null,
   "id": "adfa3aa1",
   "metadata": {},
   "outputs": [],
   "source": [
    "up_genesd"
   ]
  },
  {
   "cell_type": "code",
   "execution_count": null,
   "id": "65bd2423",
   "metadata": {},
   "outputs": [],
   "source": [
    "all_markers$dataset  %>% table"
   ]
  },
  {
   "cell_type": "code",
   "execution_count": null,
   "id": "66daf8bb",
   "metadata": {
    "scrolled": true
   },
   "outputs": [],
   "source": [
    "all_markers"
   ]
  },
  {
   "cell_type": "code",
   "execution_count": null,
   "id": "e3ef308b",
   "metadata": {
    "scrolled": true
   },
   "outputs": [],
   "source": [
    "all_markers  %>% dplyr::filter(test_type %in% c(\"Dia T0 vs Ctrl T0\", \"Dia T1 vs Ctrl T0\") & \n",
    "                               source == \"scRNAseq_RNA\")  %>% \n",
    "dplyr::select(p_val_adj, gene, dataset, test_type)  %>% \n",
    "pivot_wider(names_from = \"test_type\", values_from = p_val_adj)"
   ]
  },
  {
   "cell_type": "code",
   "execution_count": null,
   "id": "86bf8019",
   "metadata": {
    "scrolled": true
   },
   "outputs": [],
   "source": [
    "options(repr.plot.width = 16, repr.plot.height = 16)\n",
    "all_markers  %>% dplyr::filter(test_type %in% c(\"Dia T0 vs Ctrl T0\", \"Dia T1 vs Ctrl T0\") & \n",
    "                               source == \"scRNAseq_RNA\" & !(grepl(gene, pattern = \"MTRN\")))  %>% \n",
    "dplyr::select(avg_log2FC, gene, dataset, test_type)  %>% \n",
    "pivot_wider(names_from = \"test_type\", values_from = avg_log2FC)  %>% \n",
    "ggplot(aes(x = `Dia T0 vs Ctrl T0`, y = `Dia T1 vs Ctrl T0`, label = gene, fill = dataset))  +\n",
    "geom_point() + geom_label()"
   ]
  },
  {
   "cell_type": "code",
   "execution_count": null,
   "id": "aec108e3",
   "metadata": {},
   "outputs": [],
   "source": [
    "options(repr.plot.height = 7, repr.plot.width = 25)\n",
    "all_markers  %>% \n",
    "mutate(is_shared  = gene %in% up_genesd | gene %in% down_genes,\n",
    "       direction_t0_t1 = ifelse(gene %in% up_genesd, \"UP\", ifelse(gene %in% down_genes, \"DOWN\", NA_character_)))  %>% \n",
    "dplyr::filter(source == \"scRNAseq_RNA\" & is_shared == T, \n",
    "              test_type %in% c(\"Dia T0 vs Ctrl T0\", \"Dia T1 vs Ctrl T0\"))  %>%  \n",
    "mutate(cluster_source = paste(cluster, source))  %>% \n",
    "ggplot(aes(factor(gene), dataset)) + \n",
    "facet_grid(cols = vars(direction_t0_t1), rows = vars(test_type), space = \"free\", scales = \"free\") +\n",
    "  geom_point(aes(size = -log(p_val_adj, base = 10), colour = direction)) + \n",
    "  theme_bw()  + scale_size_continuous(range=c(1,4)) +\n",
    "  #scale_colour_gradient2(low = \"lightskyblue\", mid = \"lightsteelblue2\", high = \"salmon\") + \n",
    " theme(axis.text.x = element_text(angle = 90))"
   ]
  },
  {
   "cell_type": "code",
   "execution_count": null,
   "id": "c657ea0d",
   "metadata": {},
   "outputs": [],
   "source": [
    "paths_fc  <- list.files(\"../tables/fold_change\", full.names = T)\n",
    "dataset_names  <- list.files(\"../tables/fold_change\", full.names = F)\n"
   ]
  },
  {
   "cell_type": "code",
   "execution_count": null,
   "id": "aac9c49e",
   "metadata": {},
   "outputs": [],
   "source": [
    "paths_fc"
   ]
  },
  {
   "cell_type": "code",
   "execution_count": null,
   "id": "994aae66",
   "metadata": {},
   "outputs": [],
   "source": [
    "paths_fc  <- paths_fc[which(grepl(paths_fc, pattern = \"Ctrl\"))]"
   ]
  },
  {
   "cell_type": "code",
   "execution_count": null,
   "id": "454d65d6",
   "metadata": {},
   "outputs": [],
   "source": [
    "dataset_names  <- dataset_names[which(grepl(dataset_names, pattern = \"Ctrl\"))]"
   ]
  },
  {
   "cell_type": "code",
   "execution_count": null,
   "id": "18519219",
   "metadata": {
    "scrolled": false
   },
   "outputs": [],
   "source": [
    "dataset_names"
   ]
  },
  {
   "cell_type": "code",
   "execution_count": null,
   "id": "00059dfc",
   "metadata": {},
   "outputs": [],
   "source": [
    "paths_fc"
   ]
  },
  {
   "cell_type": "code",
   "execution_count": null,
   "id": "87e061e9",
   "metadata": {},
   "outputs": [],
   "source": [
    "paths_fc  %>% length"
   ]
  },
  {
   "cell_type": "code",
   "execution_count": null,
   "id": "abc1646b",
   "metadata": {},
   "outputs": [],
   "source": [
    "all_fcs1  <- function(j) {\n",
    "  print(j)\n",
    "fc.df  <- read_csv(paths_fc[j])  %>% as.data.frame()\n",
    "  fc.df  <- fc.df  %>%  arrange(desc(avg_log2FC)) %>% \n",
    "dplyr::filter(grepl(cluster, pattern = \"Dia\")) \n",
    " fc.df$dataset  <-   gsub(dataset_names[j], pattern = \".csv\", replacement = \"\")\n",
    " fc.df$dataset  <-   gsub(fc.df$dataset, pattern = \"_Ctrl_vs_DiaT0\", replacement = \"\")\n",
    " fc.df$comaprison = \"DiaT0_vs_Ctrl\"   \n",
    "    \n",
    " return(fc.df)\n",
    "    }"
   ]
  },
  {
   "cell_type": "code",
   "execution_count": null,
   "id": "29f21f2b",
   "metadata": {
    "scrolled": true
   },
   "outputs": [],
   "source": [
    "all_fcs1_result  <- map(seq(from = 1, to = 41, by = 2), all_fcs1)"
   ]
  },
  {
   "cell_type": "code",
   "execution_count": null,
   "id": "d872d46d",
   "metadata": {},
   "outputs": [],
   "source": [
    "all_fcs_result  <- bind_rows(all_fcs1_result)"
   ]
  },
  {
   "cell_type": "code",
   "execution_count": null,
   "id": "8cc48650",
   "metadata": {},
   "outputs": [],
   "source": [
    "all_fcs_result$dataset  %>% table"
   ]
  },
  {
   "cell_type": "code",
   "execution_count": null,
   "id": "65d72bac",
   "metadata": {},
   "outputs": [],
   "source": [
    "all_fcs2  <- function(j) {\n",
    "  print(j)\n",
    "fc.df  <- read_csv(paths_fc[j])  %>% as.data.frame()\n",
    "  fc.df  <- fc.df  %>%  arrange(desc(avg_log2FC)) %>% \n",
    "dplyr::filter(grepl(cluster, pattern = \"Dia\")) \n",
    " fc.df$dataset  <-   gsub(dataset_names[j], pattern = \".csv\", replacement = \"\")\n",
    " fc.df$dataset  <-   gsub(fc.df$dataset, pattern = \"_Ctrl_vs_DiaT1\", replacement = \"\")\n",
    " fc.df$comaprison = \"DiaT1_vs_Ctrl\"\n",
    "    \n",
    " return(fc.df)\n",
    "    }"
   ]
  },
  {
   "cell_type": "code",
   "execution_count": null,
   "id": "120b3236",
   "metadata": {
    "scrolled": true
   },
   "outputs": [],
   "source": [
    "all_fcs2_result  <- map(seq(from = 2, to = 42, by = 2), all_fcs2)"
   ]
  },
  {
   "cell_type": "code",
   "execution_count": null,
   "id": "b5d70f8b",
   "metadata": {},
   "outputs": [],
   "source": [
    "all_fcs2_result  <- bind_rows(all_fcs2_result)"
   ]
  },
  {
   "cell_type": "code",
   "execution_count": null,
   "id": "942e0e43",
   "metadata": {},
   "outputs": [],
   "source": [
    "all_fcs_result  <- rbind(all_fcs_result, all_fcs2_result)"
   ]
  },
  {
   "cell_type": "code",
   "execution_count": null,
   "id": "4515794b",
   "metadata": {
    "scrolled": true
   },
   "outputs": [],
   "source": [
    "all_fcs_result"
   ]
  },
  {
   "cell_type": "code",
   "execution_count": null,
   "id": "b5609357",
   "metadata": {},
   "outputs": [],
   "source": [
    "all_fcs_result$dataset  %>% table"
   ]
  },
  {
   "cell_type": "code",
   "execution_count": null,
   "id": "27579b27",
   "metadata": {},
   "outputs": [],
   "source": [
    "options(repr.plot.height = 7, repr.plot.width = 25)\n",
    "all_fcs_result  %>% \n",
    "mutate(is_shared  = gene %in% up_genesd | gene %in% down_genes,\n",
    "       direction_t0_t1 = ifelse(gene %in% up_genesd, \"UP\", ifelse(gene %in% down_genes, \"DOWN\", NA_character_)))  %>% \n",
    "dplyr::filter(is_shared == TRUE)  %>% \n",
    "ggplot(aes(factor(gene), dataset)) + \n",
    "facet_grid(cols = vars(direction_t0_t1), rows = vars(comaprison), space = \"free\", scales = \"free\") +\n",
    "  geom_point(aes(size = -log(p_val_adj, base = 10), colour = avg_log2FC, alpha = p_val_adj < 0.05)) + \n",
    "  theme_bw()  + scale_size_continuous(range=c(1,4)) +\n",
    "scale_alpha_manual(values = c(0.4,1)) +\n",
    " scale_colour_gradient2(low = \"blue\", mid = \"white\", high = \"red\") + \n",
    " theme(axis.text.x = element_text(angle = 90))"
   ]
  },
  {
   "cell_type": "code",
   "execution_count": null,
   "id": "1579ffbe",
   "metadata": {},
   "outputs": [],
   "source": [
    "options(repr.plot.height = 7, repr.plot.width = 25)\n",
    "all_markers  %>% \n",
    "mutate(is_shared  = gene %in% up_genesd | gene %in% down_genes,\n",
    "       direction_t0_t1 = ifelse(gene %in% up_genesd, \"UP\", ifelse(gene %in% down_genes, \"DOWN\", NA_character_)))  %>% \n",
    "dplyr::filter(source == \"scRNAseq_RNA\" & is_shared == T, \n",
    "              test_type %in% c(\"Dia T0 vs Ctrl T0\", \"Dia T1 vs Ctrl T0\"))  %>%  \n",
    "mutate(cluster_source = paste(cluster, source))  %>% \n",
    "ggplot(aes(factor(gene), dataset)) + \n",
    "facet_grid(cols = vars(direction_t0_t1), rows = vars(test_type), space = \"free\", scales = \"free\") +\n",
    "  geom_point(aes(size = -log(p_val_adj, base = 10), colour = direction)) + \n",
    "  theme_bw()  + scale_size_continuous(range=c(1,4)) +\n",
    "  #scale_colour_gradient2(low = \"lightskyblue\", mid = \"lightsteelblue2\", high = \"salmon\") + \n",
    " theme(axis.text.x = element_text(angle = 90))"
   ]
  },
  {
   "cell_type": "code",
   "execution_count": null,
   "id": "8e1c9639",
   "metadata": {
    "scrolled": true
   },
   "outputs": [],
   "source": [
    "options(repr.plot.width = 16, repr.plot.height = 16)\n",
    "all_markers  %>% dplyr::filter(test_type %in% c(\"Dia T0 vs Ctrl T0\", \"Dia T1 vs Ctrl T0\") & \n",
    "                               source == \"scRNAseq_RNA\" & !(grepl(gene, pattern = \"MTRN\")))  %>% \n",
    "dplyr::select(avg_log2FC, gene, dataset, test_type)  %>% \n",
    "pivot_wider(names_from = \"test_type\", values_from = avg_log2FC)  %>% \n",
    "ggplot(aes(x = `Dia T0 vs Ctrl T0`, y = `Dia T1 vs Ctrl T0`, label = gene, fill = dataset))  +\n",
    "geom_point() "
   ]
  },
  {
   "cell_type": "code",
   "execution_count": null,
   "id": "b1f380ea",
   "metadata": {
    "scrolled": true
   },
   "outputs": [],
   "source": [
    "all_fcs_result"
   ]
  },
  {
   "cell_type": "code",
   "execution_count": null,
   "id": "770c82c0",
   "metadata": {},
   "outputs": [],
   "source": [
    "options(repr.plot.width = 16, repr.plot.height = 16)\n",
    "all_fcs_result  %>% \n",
    "dplyr::filter(p_val_adj < 0.05)  %>% \n",
    "dplyr::filter(!(grepl(gene, pattern = \"MTRN\")))  %>% \n",
    "mutate(gene_in_genes = ifelse(gene %in% c(\"GZMK\",\"GZMA\",\"TNF\",\"CX3CR1\",\"GZMB\"), gene, NA_character_))  %>% \n",
    "dplyr::select(avg_log2FC, gene, gene_in_genes, dataset, comaprison)  %>% \n",
    "pivot_wider(names_from = \"comaprison\", values_from = avg_log2FC)  %>% \n",
    "ggplot(aes(x = DiaT0_vs_Ctrl, y = DiaT1_vs_Ctrl, label = gene_in_genes, color = dataset))  +\n",
    "geom_point() + geom_label()"
   ]
  },
  {
   "cell_type": "code",
   "execution_count": null,
   "id": "3aceba99",
   "metadata": {},
   "outputs": [],
   "source": [
    "colors_of_populations = c(\n",
    "    'cd4_l1_full' = \"#ffa66aff\",\n",
    "    'cd4_l2_subcluster'  = \"#ffa66aff\",\n",
    "    'cd4_l2_unc'  = \"#cd3333ff\",\n",
    "    'cd4_l3_isaghi'  = \"#a46464ff\",\n",
    "    'cd4_l3_naive'  = \"#a58413ff\",\n",
    "    'cd4_l3_nfkb'  = \"#a46c43ff\",\n",
    "    'cd4_l3_proliferating'  = \"#9b3097ff\", \n",
    "    'cd4_l3_temra'  = \"#7d252aff\",\n",
    "    'cd4_l3_tfh'  = \"#8e6a1dff\",\n",
    "    'cd4_l3_th1th17'  = \"#a94e4eff\",\n",
    "    'cd4_l3_th2'  = \"#b36672ff\",\n",
    "    'cd4_l3_treg'  = \"#ba6d8dff\",\n",
    "    'cd8_l1_full'  = \"#67934aff\",\n",
    "    'cd8_l2_nk'  = \"#105292ff\",\n",
    "    'cd8_l2_subcluster' = \"#67934aff\", \n",
    "    'cd8_l2_unc'  = \"#6d00c0ff\",\n",
    "    'cd8_l3_naive'  = \"#004455ff\",\n",
    "    'cd8_l3_prolif'  = \"#5f711aff\",\n",
    "    'cd8_l3_tcm'  = \"#427c39ff\",\n",
    "    'cd8_l3_tem'  = \"#004455ff\",\n",
    "    'cd8_l3_temra'  = \"#16481fff\",\n",
    "    \"grey\" = \"grey88\"\n",
    ")"
   ]
  },
  {
   "cell_type": "code",
   "execution_count": null,
   "id": "9e0fd53a",
   "metadata": {},
   "outputs": [],
   "source": [
    "options(repr.plot.height = 12, repr.plot.width = 14)\n",
    "\n",
    "all_fcs_result  %>% \n",
    "dplyr::filter(gene %in% all_markers$gene)  %>% \n",
    "dplyr::filter(p_val_adj < 0.05)  %>% \n",
    "dplyr::filter(!(grepl(gene, pattern = \"MTRN\")) & \n",
    "              dataset %in% c(\"cd4_l1_full_filt\", \"cd8_l1_full_filt\"))  %>% \n",
    "dplyr::select(avg_log2FC, gene, dataset, comaprison)  %>% \n",
    "pivot_wider(names_from = \"comaprison\", values_from = avg_log2FC)  %>% \n",
    "mutate(gene_in_genes = ifelse(DiaT0_vs_Ctrl > 0.15 & DiaT1_vs_Ctrl > 0.15 |\n",
    "                              DiaT0_vs_Ctrl < -0.2 & DiaT1_vs_Ctrl < -0.2, \n",
    "                              gene, NA_character_))  %>% \n",
    "ggplot(aes(x = DiaT0_vs_Ctrl, y = DiaT1_vs_Ctrl, label = gene_in_genes, color = dataset))  +\n",
    "scale_color_manual(values = c(\"#ffa66aff\",\"#67934aff\"))  +\n",
    "geom_point(aes(shape = dataset)) + \n",
    "scale_shape_manual(values = c(21,22)) +\n",
    "ggrepel::geom_text_repel() +\n",
    "theme_bw() +\n",
    "ggtheme()\n",
    "ggsave(filename = \"../figures/DE_genes/corr_DE_t0_t1.svg\", width = 14, height = 12)"
   ]
  },
  {
   "cell_type": "code",
   "execution_count": null,
   "id": "93ac489d",
   "metadata": {},
   "outputs": [],
   "source": [
    "all_fcs_result  %>% \n",
    "dplyr::filter(gene %in% all_markers$gene)  %>% \n",
    "dplyr::filter(p_val_adj < 0.05)  %>% \n",
    "dplyr::filter(!(grepl(gene, pattern = \"MTRN\")) & \n",
    "              dataset %in% c(\"cd4_l1_full_filt\"))  %>% \n",
    "dplyr::select(avg_log2FC, gene, dataset, comaprison)  %>% \n",
    "pivot_wider(names_from = \"comaprison\", values_from = avg_log2FC)  %>% \n",
    "mutate(gene_in_genes = ifelse(DiaT0_vs_Ctrl > 0.10 & DiaT1_vs_Ctrl > 0.10 |\n",
    "                              DiaT0_vs_Ctrl < -0.2 & DiaT1_vs_Ctrl < -0.2 |\n",
    "                              DiaT0_vs_Ctrl < -0.1 & DiaT1_vs_Ctrl > 0.1 |\n",
    "                              DiaT0_vs_Ctrl > 0.1 & DiaT1_vs_Ctrl < -0.1 |\n",
    "                              DiaT1_vs_Ctrl < -0.5 |\n",
    "                              DiaT1_vs_Ctrl > 0.10, \n",
    "                              gene, NA_character_))  %>% \n",
    "ggplot(aes(x = DiaT0_vs_Ctrl, y = DiaT1_vs_Ctrl, label = gene_in_genes, color = dataset))  +\n",
    "scale_color_manual(values = c(\"#d45500ff\"))  +\n",
    "geom_point(aes(shape = dataset)) + \n",
    "scale_shape_manual(values = c(21,22)) +\n",
    "ggrepel::geom_text_repel() +\n",
    "theme_bw() +\n",
    "ggtheme()\n",
    "ggsave(filename = \"../figures/DE_genes/corr_DE_t0_t1_cd4.svg\", width = 14, height = 12)"
   ]
  },
  {
   "cell_type": "code",
   "execution_count": null,
   "id": "08c219fd",
   "metadata": {},
   "outputs": [],
   "source": [
    "all_fcs_result  %>% \n",
    "dplyr::filter(gene %in% all_markers$gene)  %>% \n",
    "dplyr::filter(p_val_adj < 0.05)  %>% \n",
    "dplyr::filter(!(grepl(gene, pattern = \"MTRN\")) & \n",
    "              dataset %in% c(\"cd8_l1_full_filt\"))  %>% \n",
    "dplyr::select(avg_log2FC, gene, dataset, comaprison)  %>% \n",
    "pivot_wider(names_from = \"comaprison\", values_from = avg_log2FC)  %>% \n",
    "mutate(gene_in_genes = ifelse(DiaT0_vs_Ctrl > 0.20 & DiaT1_vs_Ctrl > 0.20 |\n",
    "                              DiaT0_vs_Ctrl < -0.2 & DiaT1_vs_Ctrl < -0.2 |\n",
    "                              DiaT0_vs_Ctrl < -0.2 & DiaT1_vs_Ctrl > 0.2 |\n",
    "                              DiaT0_vs_Ctrl > 0.1 & DiaT1_vs_Ctrl < -0.1 |\n",
    "                              DiaT1_vs_Ctrl < -0.25 |\n",
    "                             DiaT0_vs_Ctrl < -0.3 |\n",
    "                              DiaT1_vs_Ctrl < -0.1, \n",
    "                              gene, NA_character_))  %>% \n",
    "ggplot(aes(x = DiaT0_vs_Ctrl, y = DiaT1_vs_Ctrl, label = gene_in_genes, color = dataset))  +\n",
    "scale_color_manual(values = c(\"#67934aff\"))  +\n",
    "geom_point(aes(shape = dataset)) + \n",
    "scale_shape_manual(values = c(21,22)) +\n",
    "ggrepel::geom_text_repel() +\n",
    "theme_bw() +\n",
    "ggtheme()\n",
    "ggsave(filename = \"../figures/DE_genes/corr_DE_t0_t1_cd8.svg\", width = 14, height = 12)"
   ]
  },
  {
   "cell_type": "code",
   "execution_count": null,
   "id": "a8845139",
   "metadata": {},
   "outputs": [],
   "source": []
  },
  {
   "cell_type": "code",
   "execution_count": null,
   "id": "6d0e647c",
   "metadata": {},
   "outputs": [],
   "source": [
    "colors_of_populations = c(\n",
    "    'cd4_l1_full' = \"#ffa66aff\",\n",
    "    'cd4_l2_subcluster'  = \"#ffa66aff\",\n",
    "    'cd4_l2_unc'  = \"#cd3333ff\",\n",
    "    'cd4_l3_isaghi'  = \"#a46464ff\",\n",
    "    'cd4_l3_naive'  = \"#a58413ff\",\n",
    "    'cd4_l3_nfkb'  = \"#a46c43ff\",\n",
    "    'cd4_l3_proliferating'  = \"#9b3097ff\", \n",
    "    'cd4_l3_temra'  = \"#7d252aff\",\n",
    "    'cd4_l3_tfh'  = \"#8e6a1dff\",\n",
    "    'cd4_l3_th1th17'  = \"#a94e4eff\",\n",
    "    'cd4_l3_th2'  = \"#b36672ff\",\n",
    "    'cd4_l3_treg'  = \"#ba6d8dff\",\n",
    "    'cd8_l1_full'  = \"#67934aff\",\n",
    "    'cd8_l2_nk'  = \"#105292ff\",\n",
    "    'cd8_l2_subcluster' = \"#67934aff\", \n",
    "    'cd8_l2_unc'  = \"#6d00c0ff\",\n",
    "    'cd8_l3_naive'  = \"#004455ff\",\n",
    "    'cd8_l3_prolif'  = \"#5f711aff\",\n",
    "    'cd8_l3_tcm'  = \"#427c39ff\",\n",
    "    'cd8_l3_tem'  = \"#004455ff\",\n",
    "    'cd8_l3_temra'  = \"#16481fff\",\n",
    "    \"grey\" = \"grey88\"\n",
    ")"
   ]
  },
  {
   "cell_type": "code",
   "execution_count": null,
   "id": "9fe5d1cd",
   "metadata": {},
   "outputs": [],
   "source": [
    "all_fcs_result  %>% \n",
    "dplyr::filter(gene %in% all_markers$gene)  %>% \n",
    "dplyr::filter(p_val_adj < 0.05)  %>% \n",
    "dplyr::filter(!(grepl(gene, pattern = \"MTRN\")) & \n",
    "              grepl(dataset, pattern = \"cd4_l3\"))  %>% \n",
    "dplyr::select(avg_log2FC, gene, dataset, comaprison)  %>% \n",
    "pivot_wider(names_from = \"comaprison\", values_from = avg_log2FC)  %>% \n",
    "mutate(gene_in_genes = ifelse(DiaT0_vs_Ctrl > 0.15 & DiaT1_vs_Ctrl > 0.15 |\n",
    "                              DiaT0_vs_Ctrl < -0.2 & DiaT1_vs_Ctrl < -0.2, \n",
    "                              gene, NA_character_))  %>% \n",
    "ggplot(aes(x = DiaT0_vs_Ctrl, y = DiaT1_vs_Ctrl, label = gene_in_genes, color = dataset))  +\n",
    "scale_color_manual(values = colors_of_populations)  +\n",
    "geom_point(aes(shape = dataset)) + \n",
    "scale_shape_manual(values = c(21:25,21:25)) +\n",
    "ggrepel::geom_text_repel() +\n",
    "theme_bw() +\n",
    "ggtheme()\n",
    "ggsave(filename = \"../figures/DE_genes/corr_DE_cd4_pop_t0_t1.svg\", width = 14, height = 12)"
   ]
  },
  {
   "cell_type": "code",
   "execution_count": null,
   "id": "1a14377a",
   "metadata": {},
   "outputs": [],
   "source": [
    "all_fcs_result  %>% \n",
    "dplyr::filter(gene %in% all_markers$gene)  %>% \n",
    "dplyr::filter(p_val_adj < 0.05)  %>% \n",
    "dplyr::filter(!(grepl(gene, pattern = \"MTRN\")) & \n",
    "              grepl(dataset, pattern = \"cd8_l3\"))  %>% \n",
    "dplyr::select(avg_log2FC, gene, dataset, comaprison)  %>% \n",
    "pivot_wider(names_from = \"comaprison\", values_from = avg_log2FC)  %>% \n",
    "mutate(gene_in_genes = ifelse(DiaT0_vs_Ctrl > 0.15 & DiaT1_vs_Ctrl > 0.15 |\n",
    "                              DiaT0_vs_Ctrl < -0.2 & DiaT1_vs_Ctrl < -0.2, \n",
    "                              gene, NA_character_))  %>% \n",
    "ggplot(aes(x = DiaT0_vs_Ctrl, y = DiaT1_vs_Ctrl, label = gene_in_genes, color = dataset))  +\n",
    "scale_color_manual(values = colors_of_populations)  +\n",
    "geom_point(aes(shape = dataset)) + \n",
    "scale_shape_manual(values = c(21:25,21:25)) +\n",
    "ggrepel::geom_text_repel() +\n",
    "theme_bw() +\n",
    "ggtheme()\n",
    "ggsave(filename = \"../figures/DE_genes/corr_DE_cd8_pop_t0_t1.svg\", width = 14, height = 12)"
   ]
  },
  {
   "cell_type": "code",
   "execution_count": null,
   "id": "8930e68f",
   "metadata": {},
   "outputs": [],
   "source": [
    "options(repr.plot.height = 10, repr.plot.width = 13)\n",
    "\n",
    "all_fcs_result  %>% \n",
    "dplyr::filter(gene %in% all_markers$gene)  %>% \n",
    "dplyr::filter(p_val_adj < 0.05)  %>% \n",
    "dplyr::filter(!(grepl(gene, pattern = \"MTRN\")) & \n",
    "              dataset %in% c(\"cd4_l1_full_filt\", \"cd8_l1_full_filt\"))  %>% \n",
    "dplyr::select(avg_log2FC, gene, dataset, comaprison)  %>% \n",
    "pivot_wider(names_from = \"comaprison\", values_from = avg_log2FC)  %>% \n",
    "mutate(gene_in_genes = ifelse(DiaT0_vs_Ctrl > 0.15 & DiaT1_vs_Ctrl > 0.15 |\n",
    "                              DiaT0_vs_Ctrl > 0.15 & DiaT1_vs_Ctrl < -0.2 |\n",
    "                              DiaT0_vs_Ctrl < -0.2 & DiaT1_vs_Ctrl > 0.15 |\n",
    "                              DiaT0_vs_Ctrl < -0.2 & DiaT1_vs_Ctrl < -0.2, \n",
    "                              gene, NA_character_))  %>% \n",
    "ggplot(aes(x = DiaT0_vs_Ctrl, y = DiaT1_vs_Ctrl, label = gene_in_genes, color = dataset))  +\n",
    "scale_color_manual(values = c(\"#ffa66aff\",\"#67934aff\"))  +\n",
    "geom_point(aes(shape = dataset)) + \n",
    "scale_shape_manual(values = c(21,22)) +\n",
    "ggrepel::geom_text_repel() +\n",
    "theme_bw() +\n",
    "ggtheme()"
   ]
  },
  {
   "cell_type": "markdown",
   "id": "5fd011ee",
   "metadata": {},
   "source": [
    "# Heatmap all comparisons"
   ]
  },
  {
   "cell_type": "code",
   "execution_count": null,
   "id": "c69f4728",
   "metadata": {},
   "outputs": [],
   "source": [
    "hm  <- c(\"LEF1\",\"BACH2\",\"NELL2\",\"TCF7\",\"CXCR4\",\"ZFP36L2\",\"IL7R\",\"KLF2\",\"CCR7\",\"SELL\",\n",
    "            \n",
    "             \n",
    "            rev(c(\"TNFRSF9\",\"PRF1\",\"NKG7\",\"GZMB\",\"CST7\",\"GNLY\",\"GZMA\",\"CX3CR1\",\"CCL5\",\"TNF\",\"TBX21\",\"IFNG\")),\n",
    "             \"TNFAIP3\",\"DUSP1\",\"TSC22D3\",\"NFKBIA\",\"DDIT4\",\"INPP4B\",\n",
    "             rev(c(\"OASL\",\"IFI44L\",\"ISG15\",\"MX1\",\"STAT1\",\"IFI6\",\"IFIT3\")),\n",
    "                  \"BTN3A2\",\"BTN3A3\")"
   ]
  },
  {
   "cell_type": "code",
   "execution_count": null,
   "id": "2a420fa8",
   "metadata": {},
   "outputs": [],
   "source": [
    "get_fc_genes  <- function(j) {\n",
    "  print(j)\n",
    "fc.df  <- read_csv(paths_fc[j])  %>% as.data.frame()\n",
    "    if(grepl(paths_fc[j], pattern = \"Ctrl\")){\n",
    "fc.df  <- fc.df  %>%  arrange(desc(avg_log2FC)) %>% \n",
    "dplyr::filter(grepl(cluster, pattern = \"Dia\"))  %>% \n",
    "dplyr::filter(gene %in% hm) \n",
    "        \n",
    "        } else {\n",
    "        \n",
    "   if(grepl(paths_fc[j], pattern = \"PR_0_T0\")){\n",
    "fc.df  <- fc.df  %>%  arrange(desc(avg_log2FC)) %>% \n",
    "dplyr::filter(grepl(cluster, pattern = \"PR_0 T0\"))  %>% \n",
    "dplyr::filter(gene %in% hm) \n",
    "        } else {\n",
    "       \n",
    "        if(grepl(paths_fc[j], pattern = \"keto\")){\n",
    " fc.df  <- fc.df  %>%  arrange(desc(avg_log2FC)) %>% \n",
    "dplyr::filter(grepl(cluster, pattern = \"Keto_1 T0\"))   %>% \n",
    "dplyr::filter(gene %in% hm) \n",
    "    } else {\n",
    " fc.df  <- fc.df  %>%  arrange(desc(avg_log2FC)) %>% \n",
    "dplyr::filter(grepl(cluster, pattern = \"Dia T0\"))   %>% \n",
    "dplyr::filter(gene %in% hm) \n",
    "    }}}\n",
    "\n",
    "    fc.df$dataset  <-   gsub(dataset_names[j], pattern = \".csv\", replacement = \"\")\n",
    " return(fc.df)\n",
    "    }"
   ]
  },
  {
   "cell_type": "code",
   "execution_count": null,
   "id": "03828573",
   "metadata": {
    "scrolled": true
   },
   "outputs": [],
   "source": [
    "paths_fc  <- list.files(\"../../240617_VN_Diabetes_V06/tables/fold_change/\", full.names = T)\n",
    "dataset_names  <- list.files(\"../../240617_VN_Diabetes_V06/tables/fold_change\", full.names = F)\n",
    "\n",
    "paths_fc  <- paths_fc[grepl(paths_fc, pattern = \"l3\")|grepl(paths_fc, pattern = \"cd8_l2_unc\")|\n",
    "                      grepl(paths_fc, pattern = \"cd4_l2_unc\")|grepl(paths_fc, pattern = \"cd8_l2_nk\") ]\n",
    "\n",
    "dataset_names  <- dataset_names[grepl(dataset_names, pattern = \"l3\")|grepl(dataset_names, pattern = \"cd8_l2_unc\")|\n",
    "                      grepl(dataset_names, pattern = \"cd4_l2_unc\")|grepl(dataset_names, pattern = \"cd8_l2_nk\") ]\n",
    "\n",
    "paths_fc  <- paths_fc[grepl(paths_fc, pattern = \"Ctrl_vs_DiaT0\")|grepl(paths_fc, pattern = \"DiaT0_vs_DiaT1\")|\n",
    "                      grepl(paths_fc, pattern = \"Ctrl_vs_DiaT1\")|\n",
    "                      grepl(paths_fc, pattern = \"PR_0_T0_vs_PR_1_T0\")|grepl(paths_fc, pattern = \"ketoacidosis\")]\n",
    "\n",
    "dataset_names  <- dataset_names[grepl(dataset_names, pattern = \"Ctrl_vs_DiaT0\")|grepl(dataset_names, pattern = \"DiaT0_vs_DiaT1\")|\n",
    "                      grepl(dataset_names, pattern = \"Ctrl_vs_DiaT1\")|\n",
    "                      grepl(dataset_names, pattern = \"PR_0_T0_vs_PR_1_T0\")|grepl(dataset_names, pattern = \"ketoacidosis\")]\n"
   ]
  },
  {
   "cell_type": "code",
   "execution_count": null,
   "id": "db326673",
   "metadata": {
    "scrolled": true
   },
   "outputs": [],
   "source": [
    "fcs  <- purrr::map(1:length(paths_fc), get_fc_genes)"
   ]
  },
  {
   "cell_type": "code",
   "execution_count": null,
   "id": "7127d446",
   "metadata": {},
   "outputs": [],
   "source": [
    "fcs  <- bind_rows(fcs)"
   ]
  },
  {
   "cell_type": "code",
   "execution_count": null,
   "id": "e1c31aba",
   "metadata": {},
   "outputs": [],
   "source": [
    "fcs$population  <- substr(fcs$dataset, 1,11)\n",
    "\n",
    "table(fcs$population)\n",
    "\n",
    "fcs  <- fcs  %>% mutate(population2 = ifelse(grepl(population, pattern = \"_nk_\"), substr(population,1,9), population))\n",
    "\n",
    "fcs$population2  %>% table\n",
    "\n",
    "fcs  <- fcs  %>% mutate(n1 = as.numeric(nchar(dataset)))  %>% \n",
    "mutate(n2 = n1-12)  %>% \n",
    "mutate(test_type = substr(dataset,n2,n1))  \n",
    "\n",
    "\n",
    "fcs$test_type  %>% table"
   ]
  },
  {
   "cell_type": "code",
   "execution_count": null,
   "id": "e41bc291",
   "metadata": {
    "scrolled": true
   },
   "outputs": [],
   "source": [
    "fcs2  <- fcs  %>% mutate(andjus_logFC = ifelse(p_val_adj<0.05,avg_log2FC,avg_log2FC))  %>% \n",
    "dplyr::select(andjus_logFC, gene, dataset)"
   ]
  },
  {
   "cell_type": "code",
   "execution_count": null,
   "id": "b7cc52aa",
   "metadata": {},
   "outputs": [],
   "source": [
    "options(repr.plot.height = 8, repr.plot.width = 24)\n",
    "fcs  %>% \n",
    "ggplot(aes(x = factor(population2, levels = c(\n",
    "'cd8_l3_prol',\n",
    "'cd8_l3_tcm_',\n",
    "'cd4_l3_th1t',\n",
    "'cd4_l3_temr',\n",
    "'cd8_l3_temr',\n",
    "'cd4_l3_tfh_',\n",
    "'cd8_l3_naiv',\n",
    "'cd4_l3_naiv',\n",
    "'cd4_l3_th2_',\n",
    "'cd4_l3_nfkb',\n",
    "'cd4_l2_unc_',\n",
    "'cd4_l3_treg',\n",
    "'cd4_l3_isag',\n",
    "'cd4_l3_prol',\n",
    "'cd8_l3_tem_',\n",
    "'cd8_l2_nk',\n",
    "'cd8_l2_unc_'    \n",
    "))          \n",
    "           , y = factor(gene, levels = rev(hm)))) +\n",
    "geom_point(aes(size = -log(p_val_adj), color = avg_log2FC)) +\n",
    "scale_alpha_manual(values = c(0.5,1)) +\n",
    "scale_size_continuous(range = c(3,8))+\n",
    "ylab(\"\") + xlab(\"\") +\n",
    "facet_grid(cols = vars(test_type), space = \"free\", scales = \"free\") +\n",
    "scale_color_gradientn(colours = c(\"blue\", \"blue\",\"white\", \"red\",\"red\")) + \n",
    "theme_classic() + theme(axis.text.x = element_text(angle = 90)) + ggtheme()"
   ]
  },
  {
   "cell_type": "code",
   "execution_count": null,
   "id": "dba5ca9b",
   "metadata": {},
   "outputs": [],
   "source": [
    "ggsave(\"../figures/DE_genes//heatmap_deg.svg\", width = 45, height = 25, units = \"cm\", create.dir = TRUE)"
   ]
  },
  {
   "cell_type": "markdown",
   "id": "ca3a7710",
   "metadata": {},
   "source": [
    "# Fold changes between comparisons"
   ]
  },
  {
   "cell_type": "markdown",
   "id": "0544618e",
   "metadata": {},
   "source": [
    "## FoldChanges by Seurat"
   ]
  },
  {
   "cell_type": "code",
   "execution_count": null,
   "id": "21c98eb3",
   "metadata": {},
   "outputs": [],
   "source": [
    "rm(list = ls())"
   ]
  },
  {
   "cell_type": "code",
   "execution_count": null,
   "id": "e0f3c945",
   "metadata": {},
   "outputs": [],
   "source": [
    "cd8_l3_tem  <- readRDS(\"../data/processed/L3/cd8_l3_tem.rds\")\n",
    "cd8_l3_naive  <- readRDS(\"../data/processed/L3/cd8_l3_naive.rds\")\n",
    "cd8_l3_tcm  <- readRDS(\"../data/processed/L3/cd8_l3_tcm.rds\")\n",
    "cd8_l3_temra  <- readRDS(\"../data/processed/L3/cd8_l3_temra.rds\")\n",
    "cd8_l3_prolif  <- readRDS(\"../data/processed/L3/cd8_l3_prolif.rds\")\n",
    "cd8_l2_subcluster  <- readRDS(\"../data/processed/L2/cd8_l2_subcluster.rds\")\n",
    "cd8_l2_nk  <- readRDS(\"../data/processed/L2/cd8_l2_nk.rds\")\n",
    "cd8_l2_unc  <- readRDS(\"../data/processed/L2/cd8_l2_unc.rds\")\n",
    "cd8_l1_full_filt  <- readRDS(\"../data/processed/L1/cd8_l1_full_filt.rds\")\n",
    "cd4_l3_naive  <- readRDS(\"../data/processed/L3/cd4_l3_naive.rds\")\n",
    "cd4_l3_tfh  <- readRDS(\"../data/processed/L3/cd4_l3_tfh.rds\")\n",
    "cd4_l3_th1th17  <- readRDS(\"../data/processed/L3/cd4_l3_th1_17.rds\")\n",
    "cd4_l3_nfkb  <- readRDS(\"../data/processed/L3/cd4_l3_nfkb.rds\")\n",
    "cd4_l3_th2  <- readRDS(\"../data/processed/L3/cd4_l3_th2.rds\")\n",
    "cd4_l3_treg  <- readRDS(\"../data/processed/L3/cd4_l3_treg.rds\")\n",
    "cd4_l3_isaghi  <- readRDS(\"../data/processed/L3/cd4_l3_isaghi.rds\")\n",
    "cd4_l3_proliferating  <- readRDS(\"../data/processed/L3/cd4_l3_proliferating.rds\")\n",
    "cd4_l3_temra  <- readRDS(\"../data/processed/L3/cd4_l3_temra.rds\")\n",
    "cd4_l2_unc  <- readRDS(\"../data/processed/L2/cd4_l2_unc.rds\")"
   ]
  },
  {
   "cell_type": "code",
   "execution_count": null,
   "id": "eef867e4",
   "metadata": {},
   "outputs": [],
   "source": [
    "cd4_l2_subcluster  <- readRDS(\"../data/processed/L2/cd4_subcluster.rds\")"
   ]
  },
  {
   "cell_type": "code",
   "execution_count": null,
   "id": "36a14041",
   "metadata": {},
   "outputs": [],
   "source": [
    "cd4_l1_full_filt  <- readRDS(\"../data/processed/L1/cd4_l1_full_filt.rds\")\n",
    "cd8_l2_subcluster  <- readRDS(\"../data/processed/L2/cd8_l2_subcluster.rds\")"
   ]
  },
  {
   "cell_type": "code",
   "execution_count": null,
   "id": "142dcdc0",
   "metadata": {},
   "outputs": [],
   "source": [
    "dataset_list  <- list(cd8_l3_tem, cd8_l3_naive, cd8_l3_tcm, cd8_l3_temra, cd8_l3_prolif, \n",
    "                    cd8_l2_nk, cd8_l2_unc, cd8_l1_full_filt,\n",
    "                     cd4_l3_naive, cd4_l3_tfh, cd4_l3_th1th17, cd4_l3_nfkb, cd4_l3_th2,\n",
    "                     cd4_l3_treg, cd4_l3_isaghi, cd4_l3_proliferating, cd4_l3_temra,\n",
    "                     cd4_l2_unc, cd4_l2_subcluster, cd4_l1_full_filt, cd8_l2_subcluster)\n",
    "\n",
    "names(dataset_list) <- c(\"cd8_l3_tem\", \"cd8_l3_naive\", \"cd8_l3_tcm\", \"cd8_l3_temra\", \"cd8_l3_prolif\",\n",
    "                       \"cd8_l2_nk\", \"cd8_l2_unc\", \"cd8_l1_full_filt\",\n",
    "                        \"cd4_l3_naive\", \"cd4_l3_tfh\", \"cd4_l3_th1th17\", \"cd4_l3_nfkb\", \"cd4_l3_th2\",\n",
    "                     \"cd4_l3_treg\", \"cd4_l3_isaghi\", \"cd4_l3_proliferating\", \"cd4_l3_temra\",\n",
    "                     \"cd4_l2_unc\", \"cd4_l2_subcluster\", \"cd4_l1_full_filt\", \"cd8_l2_subcluster\")"
   ]
  },
  {
   "cell_type": "code",
   "execution_count": null,
   "id": "6313f641",
   "metadata": {},
   "outputs": [],
   "source": [
    "options(future.globals.maxSize = 2000 * 1024^2)"
   ]
  },
  {
   "cell_type": "code",
   "execution_count": null,
   "id": "66ef0e93",
   "metadata": {},
   "outputs": [],
   "source": [
    "dir.create(\"../tables/fold_change/\")"
   ]
  },
  {
   "cell_type": "code",
   "execution_count": null,
   "id": "5e813383",
   "metadata": {
    "scrolled": true
   },
   "outputs": [],
   "source": [
    "#plan(\"multisession\", workers = 4)\n",
    "\n",
    "for(i in 1:length(dataset_list)){\n",
    "\n",
    "seurat_object  <- dataset_list[[i]]\n",
    "DefaultAssay(seurat_object)  <- \"RNA\"\n",
    "Idents(seurat_object)  <- seurat_object$Disease\n",
    "\n",
    "fc.seurat_object <- FindAllMarkers(seurat_object, \n",
    "                          test.use = \"wilcox\", \n",
    "                          logfc.threshold = -Inf, min.pct = -Inf, min.diff.pct = -Inf,\n",
    "                                   only.pos = F,  \n",
    "                                   min.cells.feature = 1, return.thresh = 1)\n",
    "\n",
    "write.csv(fc.seurat_object, paste0(\"../tables/fold_change/\", names(dataset_list)[i], \".csv\"))\n",
    "}"
   ]
  },
  {
   "cell_type": "code",
   "execution_count": null,
   "id": "239d5c0b",
   "metadata": {},
   "outputs": [],
   "source": [
    "cd8_l2_subcluster$Condition2  %>% table"
   ]
  },
  {
   "cell_type": "code",
   "execution_count": null,
   "id": "9518a581",
   "metadata": {},
   "outputs": [],
   "source": [
    "#plan(\"multisession\", workers = 8)\n",
    "\n",
    "for(i in 1:length(dataset_list)){\n",
    "###### Ctrl T0 vs Dia T0\n",
    "seurat_object  <- subset(dataset_list[[i]], Condition %in% c(\"Ctrl T0\", \"Dia T0\"))\n",
    "DefaultAssay(seurat_object)  <- \"RNA\"\n",
    "Idents(seurat_object)  <- seurat_object$Condition\n",
    "\n",
    "fc.seurat_object <- FindAllMarkers(seurat_object, \n",
    "                          test.use = \"wilcox\", \n",
    "                          logfc.threshold = -Inf, min.pct = -Inf, min.diff.pct = -Inf,\n",
    "                                   only.pos = F,  \n",
    "                                   min.cells.feature = 1, return.thresh = 1)\n",
    "\n",
    "write.csv(fc.seurat_object, paste0(\"../tables/fold_change/\", names(dataset_list)[i], \"_Ctrl_vs_DiaT0.csv\"))\n",
    "    \n",
    "####### Ctrl T0 vs Dia T1\n",
    "seurat_object  <- subset(dataset_list[[i]], Condition %in% c(\"Ctrl T0\", \"Dia T1\"))\n",
    "DefaultAssay(seurat_object)  <- \"RNA\"\n",
    "Idents(seurat_object)  <- seurat_object$Condition\n",
    "\n",
    "fc.seurat_object <- FindAllMarkers(seurat_object, \n",
    "                          test.use = \"wilcox\", \n",
    "                          logfc.threshold = -Inf, min.pct = -Inf, min.diff.pct = -Inf,\n",
    "                                   only.pos = F,  \n",
    "                                   min.cells.feature = 1, return.thresh = 1)\n",
    "\n",
    "write.csv(fc.seurat_object, paste0(\"../tables/fold_change/\", names(dataset_list)[i], \"_Ctrl_vs_DiaT1.csv\"))\n",
    "    \n",
    "    ####### Dia T0 vs Dia T1\n",
    "seurat_object  <- subset(dataset_list[[i]], Condition %in% c(\"Dia T0\", \"Dia T1\"))\n",
    "DefaultAssay(seurat_object)  <- \"RNA\"\n",
    "Idents(seurat_object)  <- seurat_object$Condition\n",
    "\n",
    "fc.seurat_object <- FindAllMarkers(seurat_object, \n",
    "                          test.use = \"wilcox\", \n",
    "                          logfc.threshold = -Inf, min.pct = -Inf, min.diff.pct = -Inf,\n",
    "                                   only.pos = F,  \n",
    "                                   min.cells.feature = 1, return.thresh = 1)\n",
    "\n",
    "write.csv(fc.seurat_object, paste0(\"../tables/fold_change/\", names(dataset_list)[i], \"_DiaT0_vs_DiaT1.csv\"))\n",
    "    \n",
    "    ####### Part remission\n",
    "seurat_object  <- subset(dataset_list[[i]], Condition2 %in% c(\"Part_remission_0\", \"Part_remission_1\"))\n",
    "DefaultAssay(seurat_object)  <- \"RNA\"\n",
    "Idents(seurat_object)  <- seurat_object$Condition2\n",
    "\n",
    "fc.seurat_object <- FindAllMarkers(seurat_object, \n",
    "                          test.use = \"wilcox\", \n",
    "                          logfc.threshold = -Inf, min.pct = -Inf, min.diff.pct = -Inf,\n",
    "                                   only.pos = F,  \n",
    "                                   min.cells.feature = 1, return.thresh = 1)\n",
    "\n",
    "write.csv(fc.seurat_object, paste0(\"../tables/fold_change/\", names(dataset_list)[i], \"_remission.csv\"))\n",
    "}"
   ]
  },
  {
   "cell_type": "code",
   "execution_count": null,
   "id": "0a0c64f7",
   "metadata": {},
   "outputs": [],
   "source": [
    "md_for_remission  <- cd4_l1_full_filt@meta.data  %>% \n",
    "dplyr::filter(Condition %in% c(\"Dia T0\"))  %>% \n",
    "group_by(Patient_ID, part_remission_y_n)  %>% \n",
    "tally %>% mutate(Condition2 = paste0(\"PR_\",part_remission_y_n))  %>% \n",
    "dplyr::select(-n, -part_remission_y_n)\n",
    "\n",
    "for( i in 1:length(dataset_list)) {\n",
    "    \n",
    "    dataset_list[[i]]$Condition2  <- NULL\n",
    "    dataset_list[[i]]@meta.data  <- dataset_list[[i]]@meta.data  %>% \n",
    "    left_join(md_for_remission)  %>% mutate(Condition2 = paste(Condition2, Time))  %>% \n",
    "    mutate(Condition2 = ifelse(grepl(Condition2, pattern = \"NA\"), NA_character_,Condition2))\n",
    "    \n",
    "    print(dataset_list[[i]]$Condition2  %>% table)\n",
    "    rownames(dataset_list[[i]]@meta.data)  <- colnames(dataset_list[[i]])\n",
    "}"
   ]
  },
  {
   "cell_type": "code",
   "execution_count": null,
   "id": "56e84e28",
   "metadata": {},
   "outputs": [],
   "source": [
    "md_for_ketoacidosis  <- cd4_l1_full_filt@meta.data  %>% \n",
    "dplyr::filter(Condition %in% c(\"Dia T0\"))  %>% \n",
    "group_by(Patient_ID, ph_man)  %>% \n",
    "tally %>% mutate(Ketoacidosis = ifelse(ph_man<7.3,\"Keto_1\",\"Keto_0\"))  %>% \n",
    "dplyr::select(-ph_man, -n)\n",
    "\n",
    "for( i in 1:length(dataset_list)) {\n",
    "    \n",
    "    #dataset_list[[i]]$Ketoacidosis  <- NULL\n",
    "    dataset_list[[i]]@meta.data  <- dataset_list[[i]]@meta.data  %>% \n",
    "    left_join(md_for_ketoacidosis)   %>% mutate(Keto_Time = paste(Ketoacidosis, Time))  %>% \n",
    "    mutate(Keto_Time = ifelse(grepl(Keto_Time, pattern = \"NA\"), NA_character_,Keto_Time))\n",
    "    \n",
    "    print(dataset_list[[i]]$Ketoacidosis  %>% table)\n",
    "    rownames(dataset_list[[i]]@meta.data)  <- colnames(dataset_list[[i]])\n",
    "}"
   ]
  },
  {
   "cell_type": "code",
   "execution_count": null,
   "id": "354a0db9",
   "metadata": {},
   "outputs": [],
   "source": [
    "plan(\"multisession\", workers = 4)\n",
    "\n",
    "for(i in 1:length(dataset_list)){\n",
    "###### Keto_Time\n",
    "seurat_object  <- subset(dataset_list[[i]], Keto_Time %in% c(\"Keto_1 T0\", \"Keto_0 T0\"))\n",
    "DefaultAssay(seurat_object)  <- \"RNA\"\n",
    "Idents(seurat_object)  <- seurat_object$Keto_Time\n",
    "\n",
    "fc.seurat_object <- FindAllMarkers(seurat_object, \n",
    "                          test.use = \"wilcox\", \n",
    "                          logfc.threshold = -Inf, min.pct = -Inf, min.diff.pct = -Inf,\n",
    "                                   only.pos = F,  \n",
    "                                   min.cells.feature = 1, return.thresh = 1)\n",
    "\n",
    "write.csv(fc.seurat_object, paste0(\"../tables/fold_change/\", names(dataset_list)[i], \"_ketoacidosis.csv\"))\n",
    "    \n",
    "####### PR0 T0 vs PR0 T1\n",
    "seurat_object  <- subset(dataset_list[[i]], Condition2 %in% c(\"PR_0 T0\", \"PR_0 T1\"))\n",
    "DefaultAssay(seurat_object)  <- \"RNA\"\n",
    "Idents(seurat_object)  <- seurat_object$Condition2\n",
    "\n",
    "fc.seurat_object <- FindAllMarkers(seurat_object, \n",
    "                          test.use = \"wilcox\", \n",
    "                          logfc.threshold = -Inf, min.pct = -Inf, min.diff.pct = -Inf,\n",
    "                                   only.pos = F,  \n",
    "                                   min.cells.feature = 1, return.thresh = 1)\n",
    "\n",
    "write.csv(fc.seurat_object, paste0(\"../tables/fold_change/\", names(dataset_list)[i], \"_PR_0_T0_vs_PR_0_T1.csv\"))\n",
    "    \n",
    "####### PR1 T0 vs PR1 T1\n",
    "seurat_object  <- subset(dataset_list[[i]], Condition2 %in% c(\"PR_1 T0\", \"PR_1 T1\"))\n",
    "DefaultAssay(seurat_object)  <- \"RNA\"\n",
    "Idents(seurat_object)  <- seurat_object$Condition2\n",
    "\n",
    "fc.seurat_object <- FindAllMarkers(seurat_object, \n",
    "                          test.use = \"wilcox\", \n",
    "                          logfc.threshold = -Inf, min.pct = -Inf, min.diff.pct = -Inf,\n",
    "                                   only.pos = F,  \n",
    "                                   min.cells.feature = 1, return.thresh = 1)\n",
    "\n",
    "write.csv(fc.seurat_object, paste0(\"../tables/fold_change/\", names(dataset_list)[i], \"_PR_1_T0_vs_PR_1_T1.csv\"))\n",
    "    \n",
    "####### PR0 T0 vs PR1 T0\n",
    "seurat_object  <- subset(dataset_list[[i]], Condition2 %in% c(\"PR_0 T0\", \"PR_1 T0\"))\n",
    "DefaultAssay(seurat_object)  <- \"RNA\"\n",
    "Idents(seurat_object)  <- seurat_object$Condition2\n",
    "\n",
    "fc.seurat_object <- FindAllMarkers(seurat_object, \n",
    "                          test.use = \"wilcox\", \n",
    "                          logfc.threshold = -Inf, min.pct = -Inf, min.diff.pct = -Inf,\n",
    "                                   only.pos = F,  \n",
    "                                   min.cells.feature = 1, return.thresh = 1)\n",
    "\n",
    "write.csv(fc.seurat_object, paste0(\"../tables/fold_change/\", names(dataset_list)[i], \"_PR_0_T0_vs_PR_1_T0.csv\"))\n",
    "    \n",
    "    ####### PR0 T1 vs PR1 T1\n",
    "seurat_object  <- subset(dataset_list[[i]], Condition2 %in% c(\"PR_0 T1\", \"PR_1 T1\"))\n",
    "DefaultAssay(seurat_object)  <- \"RNA\"\n",
    "Idents(seurat_object)  <- seurat_object$Condition2\n",
    "\n",
    "fc.seurat_object <- FindAllMarkers(seurat_object, \n",
    "                          test.use = \"wilcox\", \n",
    "                          logfc.threshold = -Inf, min.pct = -Inf, min.diff.pct = -Inf,\n",
    "                                   only.pos = F,  \n",
    "                                   min.cells.feature = 1, return.thresh = 1)\n",
    "\n",
    "write.csv(fc.seurat_object, paste0(\"../tables/fold_change/\", names(dataset_list)[i], \"_PR_0_T1_vs_PR_1_T1.csv\"))\n",
    "    }"
   ]
  },
  {
   "cell_type": "markdown",
   "id": "2bd25e41",
   "metadata": {},
   "source": [
    "## FoldChanges DESeq"
   ]
  },
  {
   "cell_type": "code",
   "execution_count": null,
   "id": "11d87c5f",
   "metadata": {},
   "outputs": [],
   "source": [
    "dir.create(\"../tables/fold_change_deseq/\")"
   ]
  },
  {
   "cell_type": "code",
   "execution_count": null,
   "id": "7bfb97b1",
   "metadata": {},
   "outputs": [],
   "source": [
    "dataset_list"
   ]
  },
  {
   "cell_type": "code",
   "execution_count": null,
   "id": "72a0d591",
   "metadata": {},
   "outputs": [],
   "source": [
    "seu  <- dataset_list[[1]]"
   ]
  },
  {
   "cell_type": "code",
   "execution_count": null,
   "id": "c40ff4c0",
   "metadata": {},
   "outputs": [],
   "source": [
    "seu$Sample_ID  <- paste0(\"Id\",seu$Sample_ID)"
   ]
  },
  {
   "cell_type": "code",
   "execution_count": null,
   "id": "75954963",
   "metadata": {},
   "outputs": [],
   "source": [
    "seu$Sample_ID  %>% table"
   ]
  },
  {
   "cell_type": "code",
   "execution_count": null,
   "id": "bcbc556f",
   "metadata": {},
   "outputs": [],
   "source": [
    "avgexp = AggregateExpression(seu,\n",
    "                           return.seurat = T, group.by = \"Sample_ID\", \n",
    "                          assay = \"RNA\", slot = \"counts\")"
   ]
  },
  {
   "cell_type": "code",
   "execution_count": null,
   "id": "9eccaccd",
   "metadata": {},
   "outputs": [],
   "source": [
    "colnames(avgexp)"
   ]
  },
  {
   "cell_type": "code",
   "execution_count": null,
   "id": "443a19b8",
   "metadata": {},
   "outputs": [],
   "source": [
    "patient_metadata2  <- dataset_list[[i]]@meta.data  %>% \n",
    "    dplyr::select(Sample_ID, Patient_ID, Condition, Disease, Time, Experiment_ID)  %>% \n",
    "    unique  %>% ungroup"
   ]
  },
  {
   "cell_type": "code",
   "execution_count": null,
   "id": "5d1aa633",
   "metadata": {},
   "outputs": [],
   "source": [
    "patient_metadata2$Sample_ID  <- paste0(\"Id\",patient_metadata2$Sample_ID)"
   ]
  },
  {
   "cell_type": "code",
   "execution_count": null,
   "id": "1a27456d",
   "metadata": {},
   "outputs": [],
   "source": [
    "patient_metadata2$Sample_ID  %>% table"
   ]
  },
  {
   "cell_type": "code",
   "execution_count": null,
   "id": "a0cddf0b",
   "metadata": {},
   "outputs": [],
   "source": [
    "colnames(avgexp)"
   ]
  },
  {
   "cell_type": "code",
   "execution_count": null,
   "id": "7ec37661",
   "metadata": {},
   "outputs": [],
   "source": [
    "avgexp$Sample_ID"
   ]
  },
  {
   "cell_type": "code",
   "execution_count": null,
   "id": "d8399eb2",
   "metadata": {},
   "outputs": [],
   "source": [
    "    avgexp@meta.data  <- avgexp@meta.data   %>% left_join(patient_metadata2)\n",
    "    rownames(avgexp@meta.data)  <- avgexp$Sample_ID\n",
    "    "
   ]
  },
  {
   "cell_type": "code",
   "execution_count": null,
   "id": "254685fd",
   "metadata": {
    "scrolled": true
   },
   "outputs": [],
   "source": [
    "avgexp@meta.data"
   ]
  },
  {
   "cell_type": "code",
   "execution_count": null,
   "id": "827f292d",
   "metadata": {},
   "outputs": [],
   "source": [
    "rownames(avgexp@meta.data)"
   ]
  },
  {
   "cell_type": "code",
   "execution_count": null,
   "id": "de998b01",
   "metadata": {},
   "outputs": [],
   "source": [
    "colnames(avgexp)"
   ]
  },
  {
   "cell_type": "code",
   "execution_count": null,
   "id": "9aad9672",
   "metadata": {},
   "outputs": [],
   "source": [
    "seurat_object  <- subset(avgexp, Condition %in% c(\"Ctrl T0\", \"Dia T0\") & \n",
    "                  Experiment_ID %in% c(\"Exp16\", \"Exp18\", \"Exp19\", \"Exp20\"))\n",
    "DefaultAssay(seurat_object)  <- \"RNA\""
   ]
  },
  {
   "cell_type": "code",
   "execution_count": null,
   "id": "21fccaa5",
   "metadata": {},
   "outputs": [],
   "source": [
    "#plan(\"multisession\", workers = 8)\n",
    "\n",
    "for(i in 1:length(dataset_list)){\n",
    "    \n",
    "    ## DESeq2\n",
    "    seu  <- dataset_list[[i]]\n",
    "    patient_metadata2  <- dataset_list[[i]]@meta.data  %>% \n",
    "    dplyr::select(Sample_ID, Patient_ID, Condition, Disease, Time, Experiment_ID)  %>% \n",
    "    unique  %>% ungroup\n",
    "    patient_metadata2$Sample_ID  <- paste0(\"Id\",patient_metadata2$Sample_ID)\n",
    "    seu$Sample_ID  <- paste0(\"Id\",seu$Sample_ID)\n",
    "    avgexp = AggregateExpression(seu,\n",
    "                           return.seurat = T, group.by = \"Sample_ID\", \n",
    "                          assay = \"RNA\", slot = \"counts\")\n",
    "    \n",
    "    avgexp@meta.data  <- avgexp@meta.data   %>% left_join(patient_metadata2)\n",
    "    rownames(avgexp@meta.data)  <- avgexp$Sample_ID\n",
    "    \n",
    "    \n",
    "###### Ctrl T0 vs Dia T0\n",
    "seurat_object  <- subset(avgexp, Condition %in% c(\"Ctrl T0\", \"Dia T0\") & \n",
    "                  Experiment_ID %in% c(\"Exp16\", \"Exp18\", \"Exp19\", \"Exp20\"))\n",
    "DefaultAssay(seurat_object)  <- \"RNA\"\n",
    "\n",
    "    \n",
    "    Idents(seurat_object)  <- seurat_object$Condition\n",
    "\n",
    "fc.seurat_object <- FindAllMarkers(seurat_object, \n",
    "                          test.use = \"DESeq2\", \n",
    "                          logfc.threshold = -Inf, min.pct = -Inf, min.diff.pct = -Inf,\n",
    "                                   only.pos = F,  \n",
    "                                   min.cells.feature = 1, return.thresh = 1)\n",
    "\n",
    "write.csv(fc.seurat_object, paste0(\"../tables/fold_change_deseq/\", names(dataset_list)[i], \"_Ctrl_vs_DiaT0.csv\"))\n",
    "    \n",
    "####### Ctrl T0 vs Dia T1\n",
    "seurat_object  <- subset(avgexp, Condition %in% c(\"Ctrl T0\", \"Dia T1\") & \n",
    "                  Experiment_ID %in% c(\"Exp16\", \"Exp18\", \"Exp19\", \"Exp20\"))\n",
    "DefaultAssay(seurat_object)  <- \"RNA\"\n",
    "Idents(seurat_object)  <- seurat_object$Condition\n",
    "\n",
    "fc.seurat_object <- FindAllMarkers(seurat_object, \n",
    "                          test.use = \"DESeq2\", \n",
    "                          logfc.threshold = -Inf, min.pct = -Inf, min.diff.pct = -Inf,\n",
    "                                   only.pos = F,  \n",
    "                                   min.cells.feature = 1, return.thresh = 1)\n",
    "\n",
    "write.csv(fc.seurat_object, paste0(\"../tables/fold_change_deseq/\", names(dataset_list)[i], \"_Ctrl_vs_DiaT1.csv\"))\n",
    "    \n",
    "    ####### Dia T0 vs Dia T1\n",
    "seurat_object  <- subset(avgexp, Condition %in% c(\"Dia T0\", \"Dia T1\") & \n",
    "                  Experiment_ID %in% c(\"Exp16\", \"Exp18\", \"Exp19\", \"Exp20\"))\n",
    "DefaultAssay(seurat_object)  <- \"RNA\"\n",
    "Idents(seurat_object)  <- seurat_object$Condition\n",
    "\n",
    "fc.seurat_object <- FindAllMarkers(seurat_object, \n",
    "                          test.use = \"DESeq2\", \n",
    "                          logfc.threshold = -Inf, min.pct = -Inf, min.diff.pct = -Inf,\n",
    "                                   only.pos = F,  \n",
    "                                   min.cells.feature = 1, return.thresh = 1)\n",
    "\n",
    "write.csv(fc.seurat_object, paste0(\"../tables/fold_change_deseq/\", names(dataset_list)[i], \"_DiaT0_vs_DiaT1.csv\"))\n",
    " \n",
    "}"
   ]
  },
  {
   "cell_type": "code",
   "execution_count": null,
   "id": "23b6dde7",
   "metadata": {},
   "outputs": [],
   "source": [
    "md_for_remission  <- cd4_l1_full_filt@meta.data  %>% \n",
    "dplyr::filter(Condition %in% c(\"Dia T0\"))  %>% \n",
    "group_by(Patient_ID, part_remission_y_n)  %>% \n",
    "tally %>% mutate(Condition2 = paste0(\"PR_\",part_remission_y_n))  %>% \n",
    "dplyr::select(-n, -part_remission_y_n)\n",
    "\n",
    "for( i in 1:length(dataset_list)) {\n",
    "    \n",
    "    dataset_list[[i]]$Condition2  <- NULL\n",
    "    dataset_list[[i]]@meta.data  <- dataset_list[[i]]@meta.data  %>% \n",
    "    left_join(md_for_remission)  %>% mutate(Condition2 = paste(Condition2, Time))  %>% \n",
    "    mutate(Condition2 = ifelse(grepl(Condition2, pattern = \"NA\"), NA_character_,Condition2))\n",
    "    \n",
    "    print(dataset_list[[i]]$Condition2  %>% table)\n",
    "    rownames(dataset_list[[i]]@meta.data)  <- colnames(dataset_list[[i]])\n",
    "}"
   ]
  },
  {
   "cell_type": "code",
   "execution_count": null,
   "id": "fc216a97",
   "metadata": {
    "scrolled": true
   },
   "outputs": [],
   "source": [
    "md_for_ketoacidosis  <- cd4_l1_full_filt@meta.data  %>% \n",
    "dplyr::filter(Condition %in% c(\"Dia T0\"))  %>% \n",
    "group_by(Patient_ID, ph_man)  %>% \n",
    "tally %>% mutate(Ketoacidosis = ifelse(ph_man<7.3,\"Keto_1\",\"Keto_0\"))  %>% \n",
    "dplyr::select(-ph_man, -n)\n",
    "\n",
    "for( i in 1:length(dataset_list)) {\n",
    "    \n",
    "    #dataset_list[[i]]$Ketoacidosis  <- NULL\n",
    "    dataset_list[[i]]@meta.data  <- dataset_list[[i]]@meta.data  %>% \n",
    "    left_join(md_for_ketoacidosis)   %>% mutate(Keto_Time = paste(Ketoacidosis, Time))  %>% \n",
    "    mutate(Keto_Time = ifelse(grepl(Keto_Time, pattern = \"NA\"), NA_character_,Keto_Time))\n",
    "    \n",
    "    print(dataset_list[[i]]$Ketoacidosis  %>% table)\n",
    "    rownames(dataset_list[[i]]@meta.data)  <- colnames(dataset_list[[i]])\n",
    "}"
   ]
  },
  {
   "cell_type": "code",
   "execution_count": null,
   "id": "56c58c37",
   "metadata": {},
   "outputs": [],
   "source": [
    "plan(\"multisession\", workers = 4)\n",
    "\n",
    "for(i in 1:length(dataset_list)){\n",
    "    \n",
    "       ## DESeq2\n",
    "    seu  <- dataset_list[[i]]\n",
    "    patient_metadata2  <- seu@meta.data  %>% \n",
    "    dplyr::select(Sample_ID, Patient_ID, Condition, Disease, Time, Experiment_ID, Keto_Time, Condition2)  %>% \n",
    "    unique  %>% ungroup\n",
    "    patient_metadata2$Sample_ID  <- paste0(\"Id\",patient_metadata2$Sample_ID)\n",
    "    seu$Sample_ID  <- paste0(\"Id\",seu$Sample_ID)\n",
    "    avgexp = AggregateExpression(seu,\n",
    "                           return.seurat = T, group.by = \"Sample_ID\", \n",
    "                          assay = \"RNA\", slot = \"counts\")\n",
    "    \n",
    "    avgexp@meta.data  <- avgexp@meta.data   %>% left_join(patient_metadata2)\n",
    "    rownames(avgexp@meta.data)  <- avgexp$Sample_ID\n",
    "    \n",
    "###### Keto_Time\n",
    "seurat_object  <- subset(avgexp, Keto_Time %in% c(\"Keto_1 T0\", \"Keto_0 T0\") & \n",
    "                  Experiment_ID %in% c(\"Exp16\", \"Exp18\", \"Exp19\", \"Exp20\"))\n",
    "DefaultAssay(seurat_object)  <- \"RNA\"\n",
    "Idents(seurat_object)  <- seurat_object$Keto_Time\n",
    "\n",
    "fc.seurat_object <- FindAllMarkers(seurat_object, \n",
    "                          test.use = \"DESeq2\", \n",
    "                          logfc.threshold = -Inf, min.pct = -Inf, min.diff.pct = -Inf,\n",
    "                                   only.pos = F,  \n",
    "                                   min.cells.feature = 1, return.thresh = 1)\n",
    "\n",
    "write.csv(fc.seurat_object, paste0(\"../tables/fold_change_deseq/\", names(dataset_list)[i], \"_ketoacidosis.csv\"))\n",
    " \n",
    "####### PR0 T0 vs PR1 T0\n",
    "seurat_object  <- subset(avgexp, Condition2 %in% c(\"PR_0 T0\", \"PR_1 T0\") & \n",
    "                  Experiment_ID %in% c(\"Exp16\", \"Exp18\", \"Exp19\", \"Exp20\"))\n",
    "DefaultAssay(seurat_object)  <- \"RNA\"\n",
    "Idents(seurat_object)  <- seurat_object$Condition2\n",
    "\n",
    "fc.seurat_object <- FindAllMarkers(seurat_object, \n",
    "                          test.use = \"DESeq2\", \n",
    "                          logfc.threshold = -Inf, min.pct = -Inf, min.diff.pct = -Inf,\n",
    "                                   only.pos = F,  \n",
    "                                   min.cells.feature = 1, return.thresh = 1)\n",
    "\n",
    "write.csv(fc.seurat_object, paste0(\"../tables/fold_change_deseq/\", names(dataset_list)[i], \"_PR_0_T0_vs_PR_1_T0.csv\"))\n",
    "    \n",
    "    }"
   ]
  },
  {
   "cell_type": "code",
   "execution_count": null,
   "id": "323e1146",
   "metadata": {},
   "outputs": [],
   "source": [
    "list.files(\"../tables/fold_change_deseq/\")"
   ]
  },
  {
   "cell_type": "code",
   "execution_count": null,
   "id": "b5bb92c1",
   "metadata": {},
   "outputs": [],
   "source": []
  },
  {
   "cell_type": "markdown",
   "id": "b3c46780",
   "metadata": {},
   "source": [
    "## All categories up and down"
   ]
  },
  {
   "cell_type": "code",
   "execution_count": null,
   "id": "3950999a",
   "metadata": {},
   "outputs": [],
   "source": [
    "pathways = msigdbr_collections()  %>% group_by(gs_cat)  %>% tally()  %>% pull(gs_cat)"
   ]
  },
  {
   "cell_type": "code",
   "execution_count": null,
   "id": "f41a9bca",
   "metadata": {},
   "outputs": [],
   "source": [
    "t2g <- msigdbr(species = \"Homo sapiens\", category = \"C7\") %>% \n",
    "          dplyr::select(gs_name, human_gene_symbol)"
   ]
  },
  {
   "cell_type": "code",
   "execution_count": null,
   "id": "117ddd3f",
   "metadata": {},
   "outputs": [],
   "source": []
  },
  {
   "cell_type": "code",
   "execution_count": null,
   "id": "153c3738",
   "metadata": {},
   "outputs": [],
   "source": [
    "get_pathway_df  <- function(pathway){\n",
    "    t2g <- msigdbr(species = \"Homo sapiens\", category = pathway) %>% \n",
    "          dplyr::select(gs_name, human_gene_symbol)\n",
    "    \n",
    "    \n",
    "    \n",
    "    em2 <- GSEA(global_down_values, TERM2GENE = t2g)\n",
    "    df_down  <- as.data.frame(em2)\n",
    "                \n",
    "    if(nrow(df_up)>0&nrow(df_down)>0){\n",
    "        df_down$direction  <- \"Down\"\n",
    "        df_up$direction  <- \"Up\"\n",
    "        df_all  <- rbind(df_down, df_up)\n",
    "        df_all$gs_cat  <- pathway\n",
    "        \n",
    "    } else {\n",
    "        if(nrow(df_up)>0){\n",
    "            df_up$direction  <- \"Up\"\n",
    "            df_all  <- df_up\n",
    "            df_all$gs_cat  <- pathway\n",
    "    \n",
    "    } else {\n",
    "        if(nrow(df_down)>0){\n",
    "            df_down$direction  <- \"Down\"\n",
    "            df_all  <- df_down \n",
    "            df_all$gs_cat  <- pathway\n",
    "    \n",
    "    } else {\n",
    "            df_all  <- NULL \n",
    "        } }}\n",
    "    return(df_all)\n",
    "}"
   ]
  },
  {
   "cell_type": "code",
   "execution_count": null,
   "id": "36404c0e",
   "metadata": {
    "scrolled": true
   },
   "outputs": [],
   "source": [
    "all_pathways  <- map(.x = pathways, .f = get_pathway_df)"
   ]
  },
  {
   "cell_type": "code",
   "execution_count": null,
   "id": "e00514d8",
   "metadata": {
    "scrolled": true
   },
   "outputs": [],
   "source": [
    "all_pathways2  <- bind_rows(all_pathways)"
   ]
  },
  {
   "cell_type": "code",
   "execution_count": null,
   "id": "1e2af91c",
   "metadata": {},
   "outputs": [],
   "source": []
  },
  {
   "cell_type": "code",
   "execution_count": null,
   "id": "a0492a56",
   "metadata": {},
   "outputs": [],
   "source": []
  },
  {
   "cell_type": "code",
   "execution_count": null,
   "id": "7bbda4f0",
   "metadata": {
    "scrolled": true
   },
   "outputs": [],
   "source": [
    "all_pathways  <- map(.x = pathways, .f = get_pathway_df)"
   ]
  },
  {
   "cell_type": "code",
   "execution_count": null,
   "id": "f6d27781",
   "metadata": {
    "scrolled": true
   },
   "outputs": [],
   "source": [
    "all_pathways2  <- bind_rows(all_pathways)"
   ]
  },
  {
   "cell_type": "code",
   "execution_count": null,
   "id": "b5abd640",
   "metadata": {},
   "outputs": [],
   "source": [
    "all_pathways2$core_enrichment   %>% nchar  %>% table"
   ]
  },
  {
   "cell_type": "code",
   "execution_count": null,
   "id": "1c24a733",
   "metadata": {},
   "outputs": [],
   "source": [
    "711/4"
   ]
  },
  {
   "cell_type": "code",
   "execution_count": null,
   "id": "1b15867e",
   "metadata": {},
   "outputs": [],
   "source": [
    "dir.create(\"../tables/pathways/\")"
   ]
  },
  {
   "cell_type": "code",
   "execution_count": null,
   "id": "e1c251b4",
   "metadata": {},
   "outputs": [],
   "source": [
    "write.csv(all_pathways2, \"../tables/pathways/gsea_global.csv\")"
   ]
  },
  {
   "cell_type": "code",
   "execution_count": null,
   "id": "d8355bd0",
   "metadata": {},
   "outputs": [],
   "source": []
  },
  {
   "cell_type": "code",
   "execution_count": null,
   "id": "d741c497",
   "metadata": {},
   "outputs": [],
   "source": [
    "enriched_genes  <- all_pathways2  %>% \n",
    "dplyr::select(core_enrichment)  %>% \n",
    "separate(core_enrichment, sep = \"/\",\n",
    "        into = paste0(\"v\",1:138))\n",
    "\n"
   ]
  },
  {
   "cell_type": "code",
   "execution_count": null,
   "id": "6ff1860c",
   "metadata": {
    "scrolled": true
   },
   "outputs": [],
   "source": [
    "enriched_genes"
   ]
  },
  {
   "cell_type": "code",
   "execution_count": null,
   "id": "651b30aa",
   "metadata": {
    "scrolled": true
   },
   "outputs": [],
   "source": [
    "geneIDs2  <- geneIDs1  %>% group_by(entrezid)  %>% slice_head(n = 1)"
   ]
  },
  {
   "cell_type": "code",
   "execution_count": null,
   "id": "9895f015",
   "metadata": {},
   "outputs": [],
   "source": [
    "geneIDs2  <- geneIDs2  %>% filter(!is.na(entrezid))"
   ]
  },
  {
   "cell_type": "code",
   "execution_count": null,
   "id": "bc89cdc2",
   "metadata": {},
   "outputs": [],
   "source": [
    "df_enriched_genes  <- enriched_genes"
   ]
  },
  {
   "cell_type": "code",
   "execution_count": null,
   "id": "c4c5a6a0",
   "metadata": {
    "scrolled": true
   },
   "outputs": [],
   "source": [
    "for(i in 1:138){\n",
    "    df1  <- dplyr::select(df_enriched_genes, i)\n",
    "    colnames(df1)  <- \"entrezid\"\n",
    "    df1$entrezid  <- as.integer(df1$entrezid)\n",
    "    df2  <- left_join(df1, geneIDs2)\n",
    "    df_enriched_genes[[paste0(\"v\",i)]]  <- df2$gene\n",
    "}"
   ]
  },
  {
   "cell_type": "code",
   "execution_count": null,
   "id": "b8d072fd",
   "metadata": {},
   "outputs": [],
   "source": [
    "df_enriched_genes"
   ]
  },
  {
   "cell_type": "code",
   "execution_count": null,
   "id": "7af63ef4",
   "metadata": {},
   "outputs": [],
   "source": [
    "df_enriched_genes$genes  <- \"\""
   ]
  },
  {
   "cell_type": "code",
   "execution_count": null,
   "id": "10eccec5",
   "metadata": {},
   "outputs": [],
   "source": [
    "for(i in 1:411){\n",
    "   df_enriched_genes[i, 139]  <-  gsub(pattern =  \" / NA\",\n",
    "        replacement = \"\",\n",
    "        x = paste(df_enriched_genes[i,1:138], collapse=\" / \")) \n",
    "}"
   ]
  },
  {
   "cell_type": "code",
   "execution_count": null,
   "id": "6e7a6eb3",
   "metadata": {},
   "outputs": [],
   "source": [
    "df_enriched_genes"
   ]
  },
  {
   "cell_type": "code",
   "execution_count": null,
   "id": "5cc589c8",
   "metadata": {},
   "outputs": [],
   "source": [
    "all_pathways2$genes  <- df_enriched_genes$genes"
   ]
  },
  {
   "cell_type": "code",
   "execution_count": null,
   "id": "36910e36",
   "metadata": {},
   "outputs": [],
   "source": [
    "write.csv(all_pathways2, \"../tables/pathways/gsea_global.csv\")"
   ]
  },
  {
   "cell_type": "code",
   "execution_count": null,
   "id": "42c22348",
   "metadata": {},
   "outputs": [],
   "source": []
  },
  {
   "cell_type": "markdown",
   "id": "90c0fe85",
   "metadata": {},
   "source": [
    "Cluster profiler pathway heatmap"
   ]
  },
  {
   "cell_type": "code",
   "execution_count": null,
   "id": "ed431e40",
   "metadata": {},
   "outputs": [],
   "source": [
    "t2g <- msigdbr(species = \"Homo sapiens\", category = \"C7\") "
   ]
  },
  {
   "cell_type": "code",
   "execution_count": null,
   "id": "ddf4e01b",
   "metadata": {},
   "outputs": [],
   "source": [
    "fgsea_sets<- t2g %>% split(x = .$gene_symbol, f = .$gs_name)"
   ]
  },
  {
   "cell_type": "code",
   "execution_count": null,
   "id": "8e4a7fc8",
   "metadata": {},
   "outputs": [],
   "source": [
    "fc.df  <- read_csv(\"../tables/fold_change/cd4_l1_full_filt.csv\")  %>% as.data.frame()\n",
    "fc.df  <- fc.df  %>%  arrange(desc(avg_log2FC)) %>% \n",
    "dplyr::filter(cluster == \"Dia\")  %>% \n",
    "  dplyr::select(gene, avg_log2FC)\n",
    "ranks<- deframe(fc.df)"
   ]
  },
  {
   "cell_type": "code",
   "execution_count": null,
   "id": "20767be7",
   "metadata": {},
   "outputs": [],
   "source": [
    "edo <- fgsea(pathways=t2g, stats=ranks)"
   ]
  },
  {
   "cell_type": "code",
   "execution_count": null,
   "id": "bd1a80ea",
   "metadata": {},
   "outputs": [],
   "source": [
    "edo"
   ]
  },
  {
   "cell_type": "code",
   "execution_count": null,
   "id": "d6cc15a1",
   "metadata": {},
   "outputs": [],
   "source": [
    "edox <- setReadable(edo, 'org.Hs.eg.db', 'ENTREZID')"
   ]
  },
  {
   "cell_type": "code",
   "execution_count": null,
   "id": "14f3ff99",
   "metadata": {},
   "outputs": [],
   "source": [
    "p2 <- heatplot(edox, foldChange=geneList, showCategory=5)"
   ]
  },
  {
   "cell_type": "code",
   "execution_count": null,
   "id": "86814489",
   "metadata": {},
   "outputs": [],
   "source": []
  },
  {
   "cell_type": "markdown",
   "id": "07bec32c",
   "metadata": {},
   "source": [
    "# GSEA all pathways"
   ]
  },
  {
   "cell_type": "code",
   "execution_count": null,
   "id": "239910ea",
   "metadata": {},
   "outputs": [],
   "source": [
    "m_df<- msigdbr(species = \"Homo sapiens\", category = \"C7\")\n"
   ]
  },
  {
   "cell_type": "code",
   "execution_count": null,
   "id": "c080cb84",
   "metadata": {},
   "outputs": [],
   "source": [
    "fgsea_sets<- m_df %>% split(x = .$gene_symbol, f = .$gs_name)"
   ]
  },
  {
   "cell_type": "code",
   "execution_count": null,
   "id": "8fb67cce",
   "metadata": {},
   "outputs": [],
   "source": [
    "paths_fc  <- list.files(\"../tables/fold_change\", full.names = T)\n",
    "dataset_names  <- list.files(\"../tables/fold_change\", full.names = F)\n"
   ]
  },
  {
   "cell_type": "code",
   "execution_count": null,
   "id": "5ea105e5",
   "metadata": {},
   "outputs": [],
   "source": [
    "paths_fc"
   ]
  },
  {
   "cell_type": "code",
   "execution_count": null,
   "id": "73acb73c",
   "metadata": {},
   "outputs": [],
   "source": [
    "paths_fc  <- paths_fc[which(grepl(paths_fc, pattern = \"Ctrl\")|grepl(paths_fc, pattern = \"DiaT0_vs_DiaT1\"))]"
   ]
  },
  {
   "cell_type": "code",
   "execution_count": null,
   "id": "8ee69544",
   "metadata": {},
   "outputs": [],
   "source": [
    "dataset_names  <- dataset_names[which(grepl(dataset_names, pattern = \"Ctrl\")|grepl(dataset_names, pattern = \"DiaT0_vs_DiaT1\"))]"
   ]
  },
  {
   "cell_type": "code",
   "execution_count": null,
   "id": "18b8978a",
   "metadata": {
    "scrolled": false
   },
   "outputs": [],
   "source": [
    "dataset_names"
   ]
  },
  {
   "cell_type": "code",
   "execution_count": null,
   "id": "8b7ef5e9",
   "metadata": {},
   "outputs": [],
   "source": [
    "paths_fc"
   ]
  },
  {
   "cell_type": "code",
   "execution_count": null,
   "id": "56ef9035",
   "metadata": {},
   "outputs": [],
   "source": [
    "fc.df  <- read_csv(paths_fc[1])  %>% as.data.frame()"
   ]
  },
  {
   "cell_type": "code",
   "execution_count": null,
   "id": "ba781ea2",
   "metadata": {
    "scrolled": true
   },
   "outputs": [],
   "source": [
    "fc.df %>%  arrange(desc(avg_log2FC)) %>% \n",
    "dplyr::filter(grepl(x = cluster, pattern = \"Dia\")) "
   ]
  },
  {
   "cell_type": "markdown",
   "id": "48c4fc9a",
   "metadata": {},
   "source": [
    "## C7 pathways"
   ]
  },
  {
   "cell_type": "code",
   "execution_count": null,
   "id": "11b65871",
   "metadata": {},
   "outputs": [],
   "source": [
    "gsea_all_pathways  <- function(j) {\n",
    "  print(j)\n",
    "fc.df  <- read_csv(paths_fc[j])  %>% as.data.frame()\n",
    "    if(grepl(paths_fc[j], pattern = \"Ctrl\")){\n",
    "fc.df  <- fc.df  %>%  arrange(desc(avg_log2FC)) %>% \n",
    "dplyr::filter(grepl(cluster, pattern = \"Dia\"))  %>% \n",
    "  dplyr::select(gene, avg_log2FC)\n",
    "ranks<- deframe(fc.df)\n",
    "        } else {\n",
    " fc.df  <- fc.df  %>%  arrange(desc(avg_log2FC)) %>% \n",
    "dplyr::filter(grepl(cluster, pattern = \"Dia T0\"))  %>% \n",
    "  dplyr::select(gene, avg_log2FC)\n",
    "ranks<- deframe(fc.df)       \n",
    "    }\n",
    "fgseaRes <- fgsea(pathways = fgsea_sets, \n",
    "                 stats = ranks)\n",
    " fgseaRes$dataset  <-   gsub(dataset_names[j], pattern = \".csv\", replacement = \"\")\n",
    " return(fgseaRes)\n",
    "    }"
   ]
  },
  {
   "cell_type": "code",
   "execution_count": null,
   "id": "a3edbf09",
   "metadata": {
    "scrolled": true
   },
   "outputs": [],
   "source": [
    "gsea  <- map(.x = c(1:length(paths_fc)), .f = gsea_all_pathways)"
   ]
  },
  {
   "cell_type": "code",
   "execution_count": null,
   "id": "f20fe1a5",
   "metadata": {},
   "outputs": [],
   "source": [
    "gseas  <- bind_rows(gsea)"
   ]
  },
  {
   "cell_type": "code",
   "execution_count": null,
   "id": "dc54572c",
   "metadata": {
    "scrolled": true
   },
   "outputs": [],
   "source": [
    "gseas  %>% arrange(padj)"
   ]
  },
  {
   "cell_type": "code",
   "execution_count": null,
   "id": "9c7b375c",
   "metadata": {},
   "outputs": [],
   "source": [
    "dir.create(\"../tables/gsea\")"
   ]
  },
  {
   "cell_type": "code",
   "execution_count": null,
   "id": "af80522e",
   "metadata": {},
   "outputs": [],
   "source": [
    "gseas_df  <- gseas  %>% as.data.frame"
   ]
  },
  {
   "cell_type": "code",
   "execution_count": null,
   "id": "ce8ba81a",
   "metadata": {
    "scrolled": true
   },
   "outputs": [],
   "source": [
    "gseas_df  <- gseas_df  %>% mutate(\n",
    "    leadingEdge2 = paste(leadingEdge))"
   ]
  },
  {
   "cell_type": "code",
   "execution_count": null,
   "id": "71d41793",
   "metadata": {},
   "outputs": [],
   "source": [
    "gseas_df$leadingEdge  <- NULL"
   ]
  },
  {
   "cell_type": "code",
   "execution_count": null,
   "id": "5f161497",
   "metadata": {},
   "outputs": [],
   "source": [
    "write.csv(gseas_df, \"../tables/gsea/gsea_fold_changes_for_heatmap.csv\")"
   ]
  },
  {
   "cell_type": "code",
   "execution_count": null,
   "id": "c74c717b",
   "metadata": {},
   "outputs": [],
   "source": [
    "gseas_df"
   ]
  },
  {
   "cell_type": "markdown",
   "id": "6afd4777",
   "metadata": {},
   "source": [
    "## DESEQ"
   ]
  },
  {
   "cell_type": "code",
   "execution_count": null,
   "id": "81c7e75e",
   "metadata": {},
   "outputs": [],
   "source": [
    "m_df<- msigdbr(species = \"Homo sapiens\", category = \"C7\")\n"
   ]
  },
  {
   "cell_type": "code",
   "execution_count": null,
   "id": "cc24f21d",
   "metadata": {},
   "outputs": [],
   "source": [
    "fgsea_sets<- m_df %>% split(x = .$gene_symbol, f = .$gs_name)"
   ]
  },
  {
   "cell_type": "code",
   "execution_count": null,
   "id": "0763af68",
   "metadata": {},
   "outputs": [],
   "source": [
    "paths_fc  <- list.files(\"../tables/fold_change_deseq/\", full.names = T)\n",
    "dataset_names  <- list.files(\"../tables/fold_change_deseq/\", full.names = F)\n"
   ]
  },
  {
   "cell_type": "code",
   "execution_count": null,
   "id": "169f8d6a",
   "metadata": {},
   "outputs": [],
   "source": [
    "paths_fc"
   ]
  },
  {
   "cell_type": "code",
   "execution_count": null,
   "id": "7275e251",
   "metadata": {},
   "outputs": [],
   "source": [
    "paths_fc  <- paths_fc[which(grepl(paths_fc, pattern = \"Ctrl\")|grepl(paths_fc, pattern = \"DiaT0_vs_DiaT1\"))]"
   ]
  },
  {
   "cell_type": "code",
   "execution_count": null,
   "id": "88acb848",
   "metadata": {},
   "outputs": [],
   "source": [
    "dataset_names  <- dataset_names[which(grepl(dataset_names, pattern = \"Ctrl\")|grepl(dataset_names, pattern = \"DiaT0_vs_DiaT1\"))]"
   ]
  },
  {
   "cell_type": "code",
   "execution_count": null,
   "id": "2e1cb5db",
   "metadata": {
    "scrolled": false
   },
   "outputs": [],
   "source": [
    "dataset_names"
   ]
  },
  {
   "cell_type": "code",
   "execution_count": null,
   "id": "9552efeb",
   "metadata": {},
   "outputs": [],
   "source": [
    "paths_fc"
   ]
  },
  {
   "cell_type": "code",
   "execution_count": null,
   "id": "ac649166",
   "metadata": {},
   "outputs": [],
   "source": [
    "fc.df  <- read_csv(paths_fc[1])  %>% as.data.frame()"
   ]
  },
  {
   "cell_type": "code",
   "execution_count": null,
   "id": "d114c60b",
   "metadata": {
    "scrolled": true
   },
   "outputs": [],
   "source": [
    "fc.df %>%  arrange(desc(avg_log2FC)) %>% \n",
    "dplyr::filter(grepl(x = cluster, pattern = \"Dia\")) "
   ]
  },
  {
   "cell_type": "code",
   "execution_count": null,
   "id": "b49ebad9",
   "metadata": {
    "scrolled": true
   },
   "outputs": [],
   "source": [
    "fc.df %>%  arrange(p_val_adj) \n"
   ]
  },
  {
   "cell_type": "markdown",
   "id": "cab5c95d",
   "metadata": {},
   "source": [
    "## C7 pathways"
   ]
  },
  {
   "cell_type": "code",
   "execution_count": null,
   "id": "fb9051c4",
   "metadata": {},
   "outputs": [],
   "source": [
    "gsea_all_pathways  <- function(j) {\n",
    "  print(j)\n",
    "fc.df  <- read_csv(paths_fc[j])  %>% as.data.frame()\n",
    "    if(grepl(paths_fc[j], pattern = \"Ctrl\")){\n",
    "fc.df  <- fc.df  %>%  arrange(desc(avg_log2FC)) %>% \n",
    "dplyr::filter(grepl(cluster, pattern = \"Dia\"))  %>% \n",
    "  dplyr::select(gene, avg_log2FC)\n",
    "ranks<- deframe(fc.df)\n",
    "        } else {\n",
    " fc.df  <- fc.df  %>%  arrange(desc(avg_log2FC)) %>% \n",
    "dplyr::filter(grepl(cluster, pattern = \"Dia T0\"))  %>% \n",
    "  dplyr::select(gene, avg_log2FC)\n",
    "ranks<- deframe(fc.df)       \n",
    "    }\n",
    "fgseaRes <- fgsea(pathways = fgsea_sets, \n",
    "                 stats = ranks)\n",
    " fgseaRes$dataset  <-   gsub(dataset_names[j], pattern = \".csv\", replacement = \"\")\n",
    " return(fgseaRes)\n",
    "    }"
   ]
  },
  {
   "cell_type": "code",
   "execution_count": null,
   "id": "646ee7b8",
   "metadata": {
    "scrolled": true
   },
   "outputs": [],
   "source": [
    "gsea  <- map(.x = c(1:length(paths_fc)), .f = gsea_all_pathways)"
   ]
  },
  {
   "cell_type": "code",
   "execution_count": null,
   "id": "4221acfb",
   "metadata": {},
   "outputs": [],
   "source": [
    "gseas  <- bind_rows(gsea)"
   ]
  },
  {
   "cell_type": "code",
   "execution_count": null,
   "id": "43adcb22",
   "metadata": {
    "scrolled": true
   },
   "outputs": [],
   "source": [
    "gseas  %>% arrange(padj)"
   ]
  },
  {
   "cell_type": "code",
   "execution_count": null,
   "id": "9fc6e69d",
   "metadata": {},
   "outputs": [],
   "source": [
    "dir.create(\"../tables/gsea\")"
   ]
  },
  {
   "cell_type": "code",
   "execution_count": null,
   "id": "f38df509",
   "metadata": {},
   "outputs": [],
   "source": [
    "gseas_df  <- gseas  %>% as.data.frame"
   ]
  },
  {
   "cell_type": "code",
   "execution_count": null,
   "id": "39811e69",
   "metadata": {
    "scrolled": true
   },
   "outputs": [],
   "source": [
    "gseas_df  <- gseas_df  %>% mutate(\n",
    "    leadingEdge2 = paste(leadingEdge))"
   ]
  },
  {
   "cell_type": "code",
   "execution_count": null,
   "id": "326233ad",
   "metadata": {},
   "outputs": [],
   "source": [
    "gseas_df$leadingEdge  <- NULL"
   ]
  },
  {
   "cell_type": "code",
   "execution_count": null,
   "id": "6adc1c75",
   "metadata": {},
   "outputs": [],
   "source": [
    "write.csv(gseas_df, \"../tables/gsea/gsea_fold_changes_for_heatmap.csv\")"
   ]
  },
  {
   "cell_type": "code",
   "execution_count": null,
   "id": "7e56e11a",
   "metadata": {},
   "outputs": [],
   "source": []
  },
  {
   "cell_type": "markdown",
   "id": "2ccc568b",
   "metadata": {},
   "source": [
    "## Hallmark pathways"
   ]
  },
  {
   "cell_type": "code",
   "execution_count": null,
   "id": "f2a08b94",
   "metadata": {},
   "outputs": [],
   "source": [
    "m_df<- msigdbr(species = \"Homo sapiens\", category = \"H\")\n",
    "\n",
    "\n",
    "fgsea_sets<- m_df %>% split(x = .$gene_symbol, f = .$gs_name)"
   ]
  },
  {
   "cell_type": "code",
   "execution_count": null,
   "id": "8af5a8b8",
   "metadata": {},
   "outputs": [],
   "source": [
    "names(fgsea_sets)"
   ]
  },
  {
   "cell_type": "code",
   "execution_count": null,
   "id": "68171bcd",
   "metadata": {},
   "outputs": [],
   "source": [
    "gsea_all_pathways  <- function(j) {\n",
    "  print(j)\n",
    "fc.df  <- read_csv(paths_fc[j])  %>% as.data.frame()\n",
    "    if(grepl(paths_fc[j], pattern = \"Ctrl\")){\n",
    "fc.df  <- fc.df  %>%  arrange(desc(avg_log2FC)) %>% \n",
    "dplyr::filter(grepl(cluster, pattern = \"Dia\"))  %>% \n",
    "  dplyr::select(gene, avg_log2FC)\n",
    "ranks<- deframe(fc.df)\n",
    "        } else {\n",
    " fc.df  <- fc.df  %>%  arrange(desc(avg_log2FC)) %>% \n",
    "dplyr::filter(grepl(cluster, pattern = \"Dia T0\"))  %>% \n",
    "  dplyr::select(gene, avg_log2FC)\n",
    "ranks<- deframe(fc.df)       \n",
    "    }\n",
    "fgseaRes <- fgsea(pathways = fgsea_sets, \n",
    "                 stats = ranks)\n",
    " fgseaRes$dataset  <-   gsub(dataset_names[j], pattern = \".csv\", replacement = \"\")\n",
    " return(fgseaRes)\n",
    "    }"
   ]
  },
  {
   "cell_type": "code",
   "execution_count": null,
   "id": "1bec8774",
   "metadata": {
    "scrolled": true
   },
   "outputs": [],
   "source": [
    "gsea  <- map(.x = c(1:length(paths_fc)), .f = gsea_all_pathways)"
   ]
  },
  {
   "cell_type": "code",
   "execution_count": null,
   "id": "597e4976",
   "metadata": {},
   "outputs": [],
   "source": [
    "gseas  <- bind_rows(gsea)"
   ]
  },
  {
   "cell_type": "code",
   "execution_count": null,
   "id": "24395778",
   "metadata": {
    "scrolled": true
   },
   "outputs": [],
   "source": [
    "gseas  %>% arrange(padj)"
   ]
  },
  {
   "cell_type": "code",
   "execution_count": null,
   "id": "10d7caec",
   "metadata": {},
   "outputs": [],
   "source": [
    "gseas_df  <- gseas  %>% as.data.frame"
   ]
  },
  {
   "cell_type": "code",
   "execution_count": null,
   "id": "126c3f91",
   "metadata": {
    "scrolled": true
   },
   "outputs": [],
   "source": [
    "gseas_df  <- gseas_df  %>% mutate(\n",
    "    leadingEdge2 = paste(leadingEdge))"
   ]
  },
  {
   "cell_type": "code",
   "execution_count": null,
   "id": "2dd11bbc",
   "metadata": {},
   "outputs": [],
   "source": [
    "gseas_df$leadingEdge  <- NULL"
   ]
  },
  {
   "cell_type": "code",
   "execution_count": null,
   "id": "72c68c0b",
   "metadata": {},
   "outputs": [],
   "source": [
    "write.csv(gseas_df, \"../tables/gsea/gsea_fold_changes_for_heatmap_hallmark.csv\")"
   ]
  },
  {
   "cell_type": "code",
   "execution_count": null,
   "id": "7afae9ff",
   "metadata": {},
   "outputs": [],
   "source": [
    "gseas_df"
   ]
  },
  {
   "cell_type": "markdown",
   "id": "29913021",
   "metadata": {},
   "source": [
    "## Heatmap immune and hallmark"
   ]
  },
  {
   "cell_type": "code",
   "execution_count": null,
   "id": "43a4f0d4",
   "metadata": {},
   "outputs": [],
   "source": [
    "gseas_hallamrk  <- read_csv(\"../tables/gsea/gsea_fold_changes_for_heatmap_hallmark.csv\")"
   ]
  },
  {
   "cell_type": "code",
   "execution_count": null,
   "id": "5bfe14f7",
   "metadata": {},
   "outputs": [],
   "source": [
    "gseas_immune  <- read_csv(\"../tables/gsea/gsea_fold_changes_for_heatmap.csv\")"
   ]
  },
  {
   "cell_type": "code",
   "execution_count": null,
   "id": "08ecf6c9",
   "metadata": {},
   "outputs": [],
   "source": [
    "gseas_both  <- rbind(gseas_immune, gseas_hallamrk)"
   ]
  },
  {
   "cell_type": "code",
   "execution_count": null,
   "id": "ad0479f2",
   "metadata": {},
   "outputs": [],
   "source": [
    "## Enriched at least in 15 population-test_type combinations, padj at least 10-5"
   ]
  },
  {
   "cell_type": "code",
   "execution_count": null,
   "id": "7816331f",
   "metadata": {},
   "outputs": [],
   "source": [
    "gseas_selected  <- gseas_both  %>% dplyr::filter(padj < 0.00001)  %>% group_by(pathway)  %>% tally"
   ]
  },
  {
   "cell_type": "code",
   "execution_count": null,
   "id": "0c545c46",
   "metadata": {
    "scrolled": true
   },
   "outputs": [],
   "source": [
    "gseas_selected"
   ]
  },
  {
   "cell_type": "code",
   "execution_count": null,
   "id": "c05e3eec",
   "metadata": {
    "scrolled": true
   },
   "outputs": [],
   "source": [
    "gseas_selected  <- gseas_selected  %>% dplyr::filter(n>5)  %>% pull(pathway)  %>% unique"
   ]
  },
  {
   "cell_type": "code",
   "execution_count": null,
   "id": "1b1098b6",
   "metadata": {},
   "outputs": [],
   "source": [
    "gseas_selected"
   ]
  },
  {
   "cell_type": "code",
   "execution_count": null,
   "id": "91f30de4",
   "metadata": {},
   "outputs": [],
   "source": [
    "gseas_selected  %>% length"
   ]
  },
  {
   "cell_type": "code",
   "execution_count": null,
   "id": "bc5aadd5",
   "metadata": {
    "scrolled": true
   },
   "outputs": [],
   "source": [
    "gseas_selected2  <- gseas_both  %>% dplyr::filter(pathway %in% gseas_selected)  %>% \n",
    "dplyr::select(NES, dataset, pathway)  %>% \n",
    "mutate(dataset = gsub(dataset, pattern = \"_Ctrl_vs_DiaT0\", replacement = \".Ctrl_vs_DiaT0\"))  %>% \n",
    "mutate(dataset = gsub(dataset, pattern = \"_Ctrl_vs_DiaT1\", replacement = \".Ctrl_vs_DiaT1\"))  %>% \n",
    "mutate(dataset = gsub(dataset, pattern = \"_DiaT0_vs_DiaT1\", replacement = \".DiaT0_vs_DiaT1\"))  %>% \n",
    "separate(dataset, into = c(\"population\", \"test_type\"), sep = \"\\\\.\", remove = F)  %>% \n",
    "pivot_wider(names_from = \"pathway\", values_from = \"NES\", values_fill = 0) "
   ]
  },
  {
   "cell_type": "code",
   "execution_count": null,
   "id": "721b8467",
   "metadata": {},
   "outputs": [],
   "source": [
    "gseas_mtx  <- gseas_selected2  %>% arrange(test_type, population)  %>% \n",
    "dplyr::select(-dataset, -population, -test_type)  %>% \n",
    "as.matrix()"
   ]
  },
  {
   "cell_type": "code",
   "execution_count": null,
   "id": "37bddf90",
   "metadata": {},
   "outputs": [],
   "source": [
    "rownames(gseas_mtx)  <- gseas_selected2  %>% arrange(test_type, population)  %>% pull(dataset)"
   ]
  },
  {
   "cell_type": "code",
   "execution_count": null,
   "id": "2b0b87ea",
   "metadata": {},
   "outputs": [],
   "source": [
    "library(pheatmap)"
   ]
  },
  {
   "cell_type": "code",
   "execution_count": null,
   "id": "5b7c1a16",
   "metadata": {},
   "outputs": [],
   "source": [
    "colnames(gseas_mtx)"
   ]
  },
  {
   "cell_type": "code",
   "execution_count": null,
   "id": "ceb5d738",
   "metadata": {},
   "outputs": [],
   "source": [
    "!which(grepl(rownames(gseas_mtx), pattern = \"subcluster\")|\n",
    "                         grepl(rownames(gseas_mtx), pattern = \"_l1_\"))"
   ]
  },
  {
   "cell_type": "code",
   "execution_count": null,
   "id": "aed86c3f",
   "metadata": {},
   "outputs": [],
   "source": [
    "options(repr.plot.width = 30, repr.plot.height = 18)\n",
    "pheatmap(gseas_mtx[which((grepl(rownames(gseas_mtx), pattern = \"subcluster\")==F) &\n",
    "                         (grepl(rownames(gseas_mtx), pattern = \"_l1_\")==F)),], \n",
    "         main = \"\", scale = \"none\", cluster_cols = T, cluster_rows = F,\n",
    "        color=colorRampPalette(c(\"dodgerblue\", \"grey95\", \"indianred2\"))(50), \n",
    "         border_color = \"white\", width = 9, height = 3.3,\n",
    "                  fontsize = 9)"
   ]
  },
  {
   "cell_type": "code",
   "execution_count": null,
   "id": "94833485",
   "metadata": {},
   "outputs": [],
   "source": []
  },
  {
   "cell_type": "code",
   "execution_count": null,
   "id": "ca19db01",
   "metadata": {},
   "outputs": [],
   "source": [
    "options(repr.plot.width = 30, repr.plot.height = 18)\n",
    "pheatmap(gseas_mtx, main = \"\", scale = \"none\", cluster_cols = T, cluster_rows = F,\n",
    "        color=colorRampPalette(c(\"dodgerblue\", \"grey95\", \"indianred2\"))(50), \n",
    "         border_color = \"white\", width = 40, height = 30,\n",
    "                  fontsize = 9, filename = \"../figures/heatmaps/gsea_heatmap.pdf\")"
   ]
  },
  {
   "cell_type": "code",
   "execution_count": null,
   "id": "554900e3",
   "metadata": {},
   "outputs": [],
   "source": []
  },
  {
   "cell_type": "code",
   "execution_count": null,
   "id": "54c024fc",
   "metadata": {
    "scrolled": true
   },
   "outputs": [],
   "source": [
    "hm_ctrl_diat0  <- pheatmap(gseas_mtx[which((grepl(rownames(gseas_mtx), pattern = \"subcluster\")==F) &\n",
    "                         (grepl(rownames(gseas_mtx), pattern = \"_l1_\")==F) &\n",
    "                        grepl(rownames(gseas_mtx), pattern = \"Ctrl_vs_DiaT0\")),], \n",
    "         main = \"\", scale = \"none\", cluster_cols = T, cluster_rows = T,\n",
    "        color=colorRampPalette(c(\"dodgerblue\", \"grey95\", \"indianred2\"))(50), \n",
    "         border_color = \"white\", width = 9, height = 3.3,\n",
    "                  fontsize = 9)"
   ]
  },
  {
   "cell_type": "code",
   "execution_count": null,
   "id": "816e38f9",
   "metadata": {},
   "outputs": [],
   "source": [
    "rownames(gseas_mtx[which((grepl(rownames(gseas_mtx), pattern = \"subcluster\")==F) &\n",
    "                         (grepl(rownames(gseas_mtx), pattern = \"_l1_\")==F) &\n",
    "                        grepl(rownames(gseas_mtx), pattern = \"Ctrl_vs_DiaT0\")),])[\n",
    "    c(14, 15, 8, 6, 17, 7, 13, 3, 9, 4, 1, 10, 2, 5, 16, 11, 12)]"
   ]
  },
  {
   "cell_type": "code",
   "execution_count": null,
   "id": "ff3f70fc",
   "metadata": {},
   "outputs": [],
   "source": [
    "rownames(gseas_mtx[which((grepl(rownames(gseas_mtx), pattern = \"subcluster\")==F) &\n",
    "                         (grepl(rownames(gseas_mtx), pattern = \"_l1_\")==F) &\n",
    "                        grepl(rownames(gseas_mtx), pattern = \"Ctrl_vs_DiaT1\")),])[\n",
    "    c(14, 15, 8, 6, 17, 7, 13, 3, 9, 4, 1, 10, 2, 5, 16, 11, 12)]"
   ]
  },
  {
   "cell_type": "code",
   "execution_count": null,
   "id": "72821187",
   "metadata": {},
   "outputs": [],
   "source": [
    "options(repr.plot.width = 30, repr.plot.height = 18)\n",
    "pheatmap(gseas_mtx[c(rownames(gseas_mtx[which((grepl(rownames(gseas_mtx), pattern = \"subcluster\")==F) &\n",
    "                         (grepl(rownames(gseas_mtx), pattern = \"_l1_\")==F) &\n",
    "                        grepl(rownames(gseas_mtx), pattern = \"Ctrl_vs_DiaT0\")),])[\n",
    "    c(14, 15, 8, 6, 17, 7, 13, 3, 9, 4, 1, 10, 2, 5, 16, 11, 12)],\n",
    "                    rownames(gseas_mtx[which((grepl(rownames(gseas_mtx), pattern = \"subcluster\")==F) &\n",
    "                         (grepl(rownames(gseas_mtx), pattern = \"_l1_\")==F) &\n",
    "                        grepl(rownames(gseas_mtx), pattern = \"Ctrl_vs_DiaT1\")),])[\n",
    "    c(14, 15, 8, 6, 17, 7, 13, 3, 9, 4, 1, 10, 2, 5, 16, 11, 12)],\n",
    "                    rownames(gseas_mtx[which((grepl(rownames(gseas_mtx), pattern = \"subcluster\")==F) &\n",
    "                         (grepl(rownames(gseas_mtx), pattern = \"_l1_\")==F) &\n",
    "                        grepl(rownames(gseas_mtx), pattern = \"DiaT0_vs_DiaT1\")),])[\n",
    "    c(14, 15, 8, 6, 17, 7, 13, 3, 9, 4, 1, 10, 2, 5, 16, 11, 12)]),], \n",
    "         main = \"\", scale = \"none\", cluster_cols = T, cluster_rows = F,\n",
    "        color=colorRampPalette(c(\"dodgerblue\", \"grey95\", \"indianred2\"))(50), \n",
    "         border_color = \"white\", width = 9, height = 3.3,\n",
    "                  fontsize = 9)"
   ]
  },
  {
   "cell_type": "code",
   "execution_count": null,
   "id": "4600e3e2",
   "metadata": {},
   "outputs": [],
   "source": [
    "options(repr.plot.width = 30, repr.plot.height = 18)\n",
    "\n",
    "pheatmap(gseas_mtx[c(rownames(gseas_mtx[which((grepl(rownames(gseas_mtx), pattern = \"subcluster\")==F) &\n",
    "                         (grepl(rownames(gseas_mtx), pattern = \"_l1_\")==F) &\n",
    "                        grepl(rownames(gseas_mtx), pattern = \"Ctrl_vs_DiaT0\")),])[\n",
    "    c(14, 15, 8, 6, 17, 7, 13, 3, 9, 4, 1, 10, 2, 5, 16, 11, 12)],\n",
    "                    rownames(gseas_mtx[which((grepl(rownames(gseas_mtx), pattern = \"subcluster\")==F) &\n",
    "                         (grepl(rownames(gseas_mtx), pattern = \"_l1_\")==F) &\n",
    "                        grepl(rownames(gseas_mtx), pattern = \"Ctrl_vs_DiaT1\")),])[\n",
    "    c(14, 15, 8, 6, 17, 7, 13, 3, 9, 4, 1, 10, 2, 5, 16, 11, 12)],\n",
    "                    rownames(gseas_mtx[which((grepl(rownames(gseas_mtx), pattern = \"subcluster\")==F) &\n",
    "                         (grepl(rownames(gseas_mtx), pattern = \"_l1_\")==F) &\n",
    "                        grepl(rownames(gseas_mtx), pattern = \"DiaT0_vs_DiaT1\")),])[\n",
    "    c(14, 15, 8, 6, 17, 7, 13, 3, 9, 4, 1, 10, 2, 5, 16, 11, 12)]),], \n",
    "         main = \"\", scale = \"none\", cluster_cols = T, cluster_rows = F,\n",
    "        color=colorRampPalette(c(\"dodgerblue\", \"grey95\", \"indianred2\"))(50), \n",
    "         border_color = \"white\", width = 30, height = 15,\n",
    "                  fontsize = 9, filename = \"../figures/heatmaps/gsea_heatmap_ordered_with_hallmark.pdf\")"
   ]
  },
  {
   "cell_type": "markdown",
   "id": "557d7366",
   "metadata": {},
   "source": [
    "## Heatmap"
   ]
  },
  {
   "cell_type": "code",
   "execution_count": null,
   "id": "f00ffdda",
   "metadata": {},
   "outputs": [],
   "source": [
    "gseas_selected  <- gseas_both  %>% dplyr::filter(padj < 0.00000001)  %>% pull(pathway)  %>% unique"
   ]
  },
  {
   "cell_type": "code",
   "execution_count": null,
   "id": "113d7053",
   "metadata": {},
   "outputs": [],
   "source": [
    "gseas_selected  %>% length"
   ]
  },
  {
   "cell_type": "code",
   "execution_count": null,
   "id": "e644827a",
   "metadata": {
    "scrolled": true
   },
   "outputs": [],
   "source": [
    "gseas_selected2  <- gseas  %>% dplyr::filter(pathway %in% gseas_selected)  %>% \n",
    "dplyr::select(NES, dataset, pathway)  %>% \n",
    "mutate(dataset = gsub(dataset, pattern = \"_Ctrl_vs_DiaT0\", replacement = \".Ctrl_vs_DiaT0\"))  %>% \n",
    "mutate(dataset = gsub(dataset, pattern = \"_Ctrl_vs_DiaT1\", replacement = \".Ctrl_vs_DiaT1\"))  %>% \n",
    "mutate(dataset = gsub(dataset, pattern = \"_DiaT0_vs_DiaT1\", replacement = \".DiaT0_vs_DiaT1\"))  %>% \n",
    "separate(dataset, into = c(\"population\", \"test_type\"), sep = \"\\\\.\", remove = F)  %>% \n",
    "pivot_wider(names_from = \"pathway\", values_from = \"NES\", values_fill = 0) "
   ]
  },
  {
   "cell_type": "code",
   "execution_count": null,
   "id": "295bece0",
   "metadata": {},
   "outputs": [],
   "source": [
    "gseas_mtx  <- gseas_selected2  %>% arrange(test_type, population)  %>% \n",
    "dplyr::select(-dataset, -population, -test_type)  %>% \n",
    "as.matrix()"
   ]
  },
  {
   "cell_type": "code",
   "execution_count": null,
   "id": "27e0f8f9",
   "metadata": {},
   "outputs": [],
   "source": [
    "rownames(gseas_mtx)  <- gseas_selected2  %>% arrange(test_type, population)  %>% pull(dataset)"
   ]
  },
  {
   "cell_type": "code",
   "execution_count": null,
   "id": "8c0070f7",
   "metadata": {},
   "outputs": [],
   "source": [
    "library(pheatmap)"
   ]
  },
  {
   "cell_type": "code",
   "execution_count": null,
   "id": "5e206801",
   "metadata": {},
   "outputs": [],
   "source": [
    "colnames(gseas_mtx)"
   ]
  },
  {
   "cell_type": "code",
   "execution_count": null,
   "id": "8a7df0fa",
   "metadata": {},
   "outputs": [],
   "source": [
    "options(repr.plot.width = 30, repr.plot.height = 18)\n",
    "pheatmap(gseas_mtx, main = \"\", scale = \"none\", cluster_cols = T, cluster_rows = F,\n",
    "        color=colorRampPalette(c(\"dodgerblue\", \"grey95\", \"indianred2\"))(50), \n",
    "         border_color = \"white\", width = 9, height = 3.3,\n",
    "                  fontsize = 9)"
   ]
  },
  {
   "cell_type": "code",
   "execution_count": null,
   "id": "f434d63d",
   "metadata": {},
   "outputs": [],
   "source": [
    "options(repr.plot.width = 30, repr.plot.height = 18)\n",
    "pheatmap(gseas_mtx, main = \"\", scale = \"none\", cluster_cols = T, cluster_rows = F,\n",
    "        color=colorRampPalette(c(\"dodgerblue\", \"grey95\", \"indianred2\"))(50), \n",
    "         border_color = \"white\", width = 40, height = 30,\n",
    "                  fontsize = 9, filename = \"../figures/heatmaps/gsea_heatmap.pdf\")"
   ]
  },
  {
   "cell_type": "code",
   "execution_count": null,
   "id": "a050e24e",
   "metadata": {},
   "outputs": [],
   "source": [
    "write.csv(colnames(gseas_mtx), \"../tables/gsea/gseas_top_in_ehatmap_picture.csv\")"
   ]
  },
  {
   "cell_type": "code",
   "execution_count": null,
   "id": "8a156deb",
   "metadata": {},
   "outputs": [],
   "source": [
    "annotation_row = annot1"
   ]
  },
  {
   "cell_type": "code",
   "execution_count": null,
   "id": "3b37fd14",
   "metadata": {},
   "outputs": [],
   "source": [
    "levels = gseas  %>% group_by(dataset)  %>% slice_max(order_by = NES, n = 5) %>% pull(pathway)  %>% unique"
   ]
  },
  {
   "cell_type": "code",
   "execution_count": null,
   "id": "0556d6fe",
   "metadata": {},
   "outputs": [],
   "source": [
    "\n",
    "options(repr.plot.width = 20, repr.plot.height = 25)\n",
    "gseas  %>% group_by(dataset)  %>% slice_max(order_by = NES, n = 5) %>% \n",
    "ggplot(aes(x = factor(pathway, levels = levels), y = NES)) + \n",
    "geom_point(aes(size = size, color = dataset, alpha = -padj)) + coord_flip() +\n",
    "facet_wrap(~dataset, ncol = 1, drop = TRUE, scales = \"free\")"
   ]
  },
  {
   "cell_type": "code",
   "execution_count": null,
   "id": "811565ec",
   "metadata": {},
   "outputs": [],
   "source": [
    "gseas"
   ]
  },
  {
   "cell_type": "code",
   "execution_count": null,
   "id": "105412b6",
   "metadata": {},
   "outputs": [],
   "source": [
    "Labels = gseas  %>% \n",
    "dplyr::filter(dataset == \"cd4_l1_full_filt\")  %>% \n",
    "pull(pathway)"
   ]
  },
  {
   "cell_type": "code",
   "execution_count": null,
   "id": "bb6771e3",
   "metadata": {},
   "outputs": [],
   "source": [
    "Labels = ifelse(grepl(pattern = \"TREG\", Labels), Labels, NA_character_)"
   ]
  },
  {
   "cell_type": "code",
   "execution_count": null,
   "id": "df5c55e8",
   "metadata": {
    "scrolled": true
   },
   "outputs": [],
   "source": [
    "Labels"
   ]
  },
  {
   "cell_type": "code",
   "execution_count": null,
   "id": "cacae389",
   "metadata": {},
   "outputs": [],
   "source": [
    "library(ggrepel)\n",
    "\n",
    "ggrepel::geom_text_repel"
   ]
  },
  {
   "cell_type": "code",
   "execution_count": null,
   "id": "e9300da4",
   "metadata": {},
   "outputs": [],
   "source": [
    "options(repr.plot.width = 20, repr.plot.height = 9)\n",
    "\n",
    "gseas  %>% \n",
    "dplyr::filter(dataset == \"cd4_l1_full_filt\")  %>% \n",
    "ggplot(aes(x = NES, y = padj)) + \n",
    "geom_point(aes(size = size, color = grepl(pathway, pattern = \"TREG\"), alpha = -padj)) +\n",
    "geom_text_repel(aes(label = Labels))"
   ]
  },
  {
   "cell_type": "markdown",
   "id": "deee4c46",
   "metadata": {},
   "source": [
    "## GSEA heatmap v07"
   ]
  },
  {
   "cell_type": "code",
   "execution_count": null,
   "id": "ad70a62f",
   "metadata": {},
   "outputs": [],
   "source": [
    "gseas_mtx  <- gseas_selected2  %>% arrange(test_type, population)  %>% \n",
    "dplyr::select(-dataset, -population, -test_type)  %>% \n",
    "as.matrix()"
   ]
  },
  {
   "cell_type": "code",
   "execution_count": null,
   "id": "a1853f1f",
   "metadata": {},
   "outputs": [],
   "source": [
    "which(colnames(gseas_selected2) %in% c(\"GOLDRATH_EFF_VS_MEMORY_CD8_TCELL_UP\",\n",
    "\"GOLDRATH_NAIVE_VS_EFF_CD8_TCELL_DN\",\n",
    "                                       \"GSE11057_NAIVE_VS_EFF_MEMORY_CD4_TCELL_DN\",\n",
    "                                       \"GSE11057_NAIVE_VS_EFF_MEMORY_CD4_TCELL_UP\"                                       ))"
   ]
  },
  {
   "cell_type": "code",
   "execution_count": null,
   "id": "729ee821",
   "metadata": {
    "scrolled": true
   },
   "outputs": [],
   "source": [
    "gseas_selected2"
   ]
  },
  {
   "cell_type": "code",
   "execution_count": null,
   "id": "5d5e00db",
   "metadata": {},
   "outputs": [],
   "source": [
    "gseas_selected3  <- gseas_selected2  %>% arrange(test_type, population)  %>% \n",
    "dplyr::select(1,2,3,21,22,39,40)  %>% \n",
    "dplyr::select(-dataset, -population, -test_type)  %>% \n",
    "as.matrix()\n"
   ]
  },
  {
   "cell_type": "code",
   "execution_count": null,
   "id": "ba5a15ac",
   "metadata": {
    "scrolled": true
   },
   "outputs": [],
   "source": [
    "gseas_selected3"
   ]
  },
  {
   "cell_type": "code",
   "execution_count": null,
   "id": "897500a6",
   "metadata": {},
   "outputs": [],
   "source": [
    "pheatmap(gseas_selected3, colorRampPalette(c(\"dodgerblue\", \"grey95\", \"indianred2\"))(50))"
   ]
  },
  {
   "cell_type": "markdown",
   "id": "a345ea2d",
   "metadata": {},
   "source": [
    "# GSEA in KetoAcidosis and Remission"
   ]
  },
  {
   "cell_type": "code",
   "execution_count": null,
   "id": "a0c010d4",
   "metadata": {},
   "outputs": [],
   "source": [
    "library(msigdbr)"
   ]
  },
  {
   "cell_type": "code",
   "execution_count": null,
   "id": "f8d73837",
   "metadata": {},
   "outputs": [],
   "source": [
    "m_df<- msigdbr(species = \"Homo sapiens\", category = \"C7\")\n"
   ]
  },
  {
   "cell_type": "code",
   "execution_count": null,
   "id": "86088af5",
   "metadata": {},
   "outputs": [],
   "source": [
    "fgsea_sets<- m_df %>% split(x = .$gene_symbol, f = .$gs_name)"
   ]
  },
  {
   "cell_type": "code",
   "execution_count": null,
   "id": "f199cf8c",
   "metadata": {},
   "outputs": [],
   "source": [
    "paths_fc  <- list.files(\"../tables/fold_change\", full.names = T)\n",
    "dataset_names  <- list.files(\"../tables/fold_change\", full.names = F)\n"
   ]
  },
  {
   "cell_type": "code",
   "execution_count": null,
   "id": "4ea122cd",
   "metadata": {},
   "outputs": [],
   "source": [
    "paths_fc"
   ]
  },
  {
   "cell_type": "code",
   "execution_count": null,
   "id": "b9584a1f",
   "metadata": {},
   "outputs": [],
   "source": [
    "paths_fc  <- paths_fc[which(grepl(paths_fc, pattern = \"ketoacidosis\")|grepl(paths_fc, pattern = \"PR_0_T0_vs_PR_1_T0\"))]"
   ]
  },
  {
   "cell_type": "code",
   "execution_count": null,
   "id": "75d3c489",
   "metadata": {},
   "outputs": [],
   "source": [
    "dataset_names  <- dataset_names[which(grepl(dataset_names, pattern = \"ketoacidosis\")|grepl(dataset_names, pattern = \"PR_0_T0_vs_PR_1_T0\"))]"
   ]
  },
  {
   "cell_type": "code",
   "execution_count": null,
   "id": "e9904a91",
   "metadata": {
    "scrolled": false
   },
   "outputs": [],
   "source": [
    "dataset_names"
   ]
  },
  {
   "cell_type": "code",
   "execution_count": null,
   "id": "f74bfa71",
   "metadata": {},
   "outputs": [],
   "source": [
    "paths_fc"
   ]
  },
  {
   "cell_type": "code",
   "execution_count": null,
   "id": "c9ab1ca0",
   "metadata": {},
   "outputs": [],
   "source": [
    "fc.df  <- read_csv(paths_fc[2])  %>% as.data.frame()"
   ]
  },
  {
   "cell_type": "code",
   "execution_count": null,
   "id": "dfcd92ef",
   "metadata": {
    "scrolled": true
   },
   "outputs": [],
   "source": [
    "fc.df"
   ]
  },
  {
   "cell_type": "markdown",
   "id": "e18e1f01",
   "metadata": {},
   "source": [
    "## C7 pathways"
   ]
  },
  {
   "cell_type": "code",
   "execution_count": null,
   "id": "d7f985f5",
   "metadata": {},
   "outputs": [],
   "source": [
    "gsea_all_pathways  <- function(j) {\n",
    "  print(j)\n",
    "fc.df  <- read_csv(paths_fc[j])  %>% as.data.frame()\n",
    "    if(grepl(paths_fc[j], pattern = \"PR_0_T0\")){\n",
    "fc.df  <- fc.df  %>%  arrange(desc(avg_log2FC)) %>% \n",
    "dplyr::filter(grepl(cluster, pattern = \"PR_0 T0\"))  %>% \n",
    "  dplyr::select(gene, avg_log2FC)\n",
    "ranks<- deframe(fc.df)\n",
    "        } else {\n",
    " fc.df  <- fc.df  %>%  arrange(desc(avg_log2FC)) %>% \n",
    "dplyr::filter(grepl(cluster, pattern = \"Keto_1 T0\"))  %>% \n",
    "  dplyr::select(gene, avg_log2FC)\n",
    "ranks<- deframe(fc.df)       \n",
    "    }\n",
    "fgseaRes <- fgsea(pathways = fgsea_sets, \n",
    "                 stats = ranks)\n",
    " fgseaRes$dataset  <-   gsub(dataset_names[j], pattern = \".csv\", replacement = \"\")\n",
    " return(fgseaRes)\n",
    "    }"
   ]
  },
  {
   "cell_type": "code",
   "execution_count": null,
   "id": "a41d799b",
   "metadata": {
    "scrolled": true
   },
   "outputs": [],
   "source": [
    "gsea  <- map(.x = c(1:length(paths_fc)), .f = gsea_all_pathways)"
   ]
  },
  {
   "cell_type": "code",
   "execution_count": null,
   "id": "5a2d0be4",
   "metadata": {},
   "outputs": [],
   "source": [
    "gseas  <- bind_rows(gsea)"
   ]
  },
  {
   "cell_type": "code",
   "execution_count": null,
   "id": "293a6a8e",
   "metadata": {
    "scrolled": true
   },
   "outputs": [],
   "source": [
    "gseas  %>% arrange(padj)"
   ]
  },
  {
   "cell_type": "code",
   "execution_count": null,
   "id": "e19c9f6e",
   "metadata": {},
   "outputs": [],
   "source": [
    "dir.create(\"../tables/gsea\")"
   ]
  },
  {
   "cell_type": "code",
   "execution_count": null,
   "id": "eafb60db",
   "metadata": {},
   "outputs": [],
   "source": [
    "gseas_df  <- gseas  %>% as.data.frame"
   ]
  },
  {
   "cell_type": "code",
   "execution_count": null,
   "id": "bff7b789",
   "metadata": {
    "scrolled": true
   },
   "outputs": [],
   "source": [
    "gseas_df  <- gseas_df  %>% mutate(\n",
    "    leadingEdge2 = paste(leadingEdge))"
   ]
  },
  {
   "cell_type": "code",
   "execution_count": null,
   "id": "58144411",
   "metadata": {},
   "outputs": [],
   "source": [
    "gseas_df$leadingEdge  <- NULL"
   ]
  },
  {
   "cell_type": "code",
   "execution_count": null,
   "id": "78603eed",
   "metadata": {},
   "outputs": [],
   "source": [
    "write.csv(gseas_df, \"../tables/gsea/gsea_fold_changes_for_heatmap_ketoPR.csv\")"
   ]
  },
  {
   "cell_type": "code",
   "execution_count": null,
   "id": "69b64af2",
   "metadata": {},
   "outputs": [],
   "source": [
    "gseas_df"
   ]
  },
  {
   "cell_type": "markdown",
   "id": "6064c9af",
   "metadata": {},
   "source": [
    "## Hallmark pathways"
   ]
  },
  {
   "cell_type": "code",
   "execution_count": null,
   "id": "4ca844bd",
   "metadata": {},
   "outputs": [],
   "source": [
    "m_df<- msigdbr(species = \"Homo sapiens\", category = \"H\")\n",
    "\n",
    "\n",
    "fgsea_sets<- m_df %>% split(x = .$gene_symbol, f = .$gs_name)"
   ]
  },
  {
   "cell_type": "code",
   "execution_count": null,
   "id": "98d6bee8",
   "metadata": {
    "scrolled": true
   },
   "outputs": [],
   "source": [
    "names(fgsea_sets)"
   ]
  },
  {
   "cell_type": "code",
   "execution_count": null,
   "id": "67c1ba78",
   "metadata": {},
   "outputs": [],
   "source": [
    "gsea_all_pathways  <- function(j) {\n",
    "  print(j)\n",
    "fc.df  <- read_csv(paths_fc[j])  %>% as.data.frame()\n",
    "    if(grepl(paths_fc[j], pattern = \"PR_0_T0\")){\n",
    "fc.df  <- fc.df  %>%  arrange(desc(avg_log2FC)) %>% \n",
    "dplyr::filter(grepl(cluster, pattern = \"PR_0 T0\"))  %>% \n",
    "  dplyr::select(gene, avg_log2FC)\n",
    "ranks<- deframe(fc.df)\n",
    "        } else {\n",
    " fc.df  <- fc.df  %>%  arrange(desc(avg_log2FC)) %>% \n",
    "dplyr::filter(grepl(cluster, pattern = \"Keto_1 T0\"))  %>% \n",
    "  dplyr::select(gene, avg_log2FC)\n",
    "ranks<- deframe(fc.df)       \n",
    "    }\n",
    "fgseaRes <- fgsea(pathways = fgsea_sets, \n",
    "                 stats = ranks)\n",
    " fgseaRes$dataset  <-   gsub(dataset_names[j], pattern = \".csv\", replacement = \"\")\n",
    " return(fgseaRes)\n",
    "    }"
   ]
  },
  {
   "cell_type": "code",
   "execution_count": null,
   "id": "d8d3e27a",
   "metadata": {
    "scrolled": true
   },
   "outputs": [],
   "source": [
    "gsea  <- map(.x = c(1:length(paths_fc)), .f = gsea_all_pathways)"
   ]
  },
  {
   "cell_type": "code",
   "execution_count": null,
   "id": "01d01de4",
   "metadata": {},
   "outputs": [],
   "source": [
    "gseas  <- bind_rows(gsea)"
   ]
  },
  {
   "cell_type": "code",
   "execution_count": null,
   "id": "fcf25613",
   "metadata": {
    "scrolled": true
   },
   "outputs": [],
   "source": [
    "gseas  %>% arrange(padj)"
   ]
  },
  {
   "cell_type": "code",
   "execution_count": null,
   "id": "495a532c",
   "metadata": {},
   "outputs": [],
   "source": [
    "gseas_df  <- gseas  %>% as.data.frame"
   ]
  },
  {
   "cell_type": "code",
   "execution_count": null,
   "id": "e5ae7863",
   "metadata": {
    "scrolled": true
   },
   "outputs": [],
   "source": [
    "gseas_df  <- gseas_df  %>% mutate(\n",
    "    leadingEdge2 = paste(leadingEdge))"
   ]
  },
  {
   "cell_type": "code",
   "execution_count": null,
   "id": "a8e98a9b",
   "metadata": {},
   "outputs": [],
   "source": [
    "gseas_df$leadingEdge  <- NULL"
   ]
  },
  {
   "cell_type": "code",
   "execution_count": null,
   "id": "56ba3a05",
   "metadata": {},
   "outputs": [],
   "source": [
    "write.csv(gseas_df, \"../tables/gsea/gsea_fold_changes_for_heatmap_hallmark_ketoPR.csv\")"
   ]
  },
  {
   "cell_type": "code",
   "execution_count": null,
   "id": "0dc1aa1e",
   "metadata": {},
   "outputs": [],
   "source": [
    "gseas_df"
   ]
  },
  {
   "cell_type": "markdown",
   "id": "e01f8941",
   "metadata": {},
   "source": [
    "## Heatmap of selected GSEAS V07"
   ]
  },
  {
   "cell_type": "code",
   "execution_count": null,
   "id": "6c778859",
   "metadata": {},
   "outputs": [],
   "source": [
    "paths_fc  <- list.files(\"../tables/gsea/\", full.names = T)\n"
   ]
  },
  {
   "cell_type": "code",
   "execution_count": null,
   "id": "38d7fc59",
   "metadata": {},
   "outputs": [],
   "source": [
    "paths_fc  <- paths_fc[grepl(paths_fc, pattern = \"gsea_fold_changes_for_heatmap\")]"
   ]
  },
  {
   "cell_type": "code",
   "execution_count": null,
   "id": "a73e58d6",
   "metadata": {},
   "outputs": [],
   "source": [
    "paths_fc"
   ]
  },
  {
   "cell_type": "code",
   "execution_count": null,
   "id": "4d47a87c",
   "metadata": {},
   "outputs": [],
   "source": [
    "test  <- fread(paths_fc[3])"
   ]
  },
  {
   "cell_type": "code",
   "execution_count": null,
   "id": "0c862ace",
   "metadata": {},
   "outputs": [],
   "source": [
    "test"
   ]
  },
  {
   "cell_type": "code",
   "execution_count": null,
   "id": "ad13b7bb",
   "metadata": {},
   "outputs": [],
   "source": [
    "gseas  <- map(paths_fc, .f = fread)"
   ]
  },
  {
   "cell_type": "code",
   "execution_count": null,
   "id": "5ea2af0e",
   "metadata": {},
   "outputs": [],
   "source": [
    "gseas  <- bind_rows(gseas)"
   ]
  },
  {
   "cell_type": "code",
   "execution_count": null,
   "id": "74d0774c",
   "metadata": {},
   "outputs": [],
   "source": [
    "gseas$population  <- substr(gseas$dataset, 1,11)"
   ]
  },
  {
   "cell_type": "code",
   "execution_count": null,
   "id": "9486ecbd",
   "metadata": {},
   "outputs": [],
   "source": [
    "table(gseas$population)"
   ]
  },
  {
   "cell_type": "code",
   "execution_count": null,
   "id": "9fe67a21",
   "metadata": {},
   "outputs": [],
   "source": [
    "gseas  <- gseas  %>% mutate(population2 = ifelse(grepl(population, pattern = \"_nk_\"), substr(population,1,9), population))"
   ]
  },
  {
   "cell_type": "code",
   "execution_count": null,
   "id": "abdf3c23",
   "metadata": {},
   "outputs": [],
   "source": [
    "gseas$population2  %>% table"
   ]
  },
  {
   "cell_type": "code",
   "execution_count": null,
   "id": "600f4c89",
   "metadata": {},
   "outputs": [],
   "source": [
    "gseas  <- gseas  %>% mutate(n1 = as.numeric(nchar(dataset)))  %>% \n",
    "mutate(n2 = n1-12)  %>% \n",
    "mutate(test_type = substr(dataset,n2,n1))  \n"
   ]
  },
  {
   "cell_type": "code",
   "execution_count": null,
   "id": "dbb54fa7",
   "metadata": {},
   "outputs": [],
   "source": [
    "gseas$test_type  %>% table"
   ]
  },
  {
   "cell_type": "code",
   "execution_count": null,
   "id": "dddcb0b7",
   "metadata": {},
   "outputs": [],
   "source": [
    "gseas"
   ]
  },
  {
   "cell_type": "code",
   "execution_count": null,
   "id": "558af423",
   "metadata": {},
   "outputs": [],
   "source": [
    "gs  <- gseas  %>% group_by(dataset)  %>% slice_max(order_by = -log10(padj), n = 10)"
   ]
  },
  {
   "cell_type": "code",
   "execution_count": null,
   "id": "29e59d67",
   "metadata": {},
   "outputs": [],
   "source": [
    "write.csv(gs, \"../tables/gsea/v07heatmap_top_pathways.csv\")"
   ]
  },
  {
   "cell_type": "code",
   "execution_count": null,
   "id": "8cd5804c",
   "metadata": {},
   "outputs": [],
   "source": [
    "plotEnrichment(fgsea_sets[[\"GOLDRATH_EFF_VS_MEMORY_CD8_TCELL_UP\"]],\n",
    "               ranks) + labs(title=\"GOLDRATH_NAIVE_VS_EFF_CD8_TCELL_DN\") +\n",
    "\n",
    "plotEnrichment(fgsea_sets[[\"GOLDRATH_NAIVE_VS_MEMORY_CD8_TCELL_DN\"]],\n",
    "               ranks) + labs(title=\"GOLDRATH_NAIVE_VS_MEMORY_CD8_TCELL_DN\") +\n",
    "\n",
    "plotEnrichment(fgsea_sets[[\"GSE11057_NAIVE_VS_CENT_MEMORY_CD4_TCELL_DN\"]],\n",
    "               ranks) + labs(title=\"GSE11057_NAIVE_VS_CENT_MEMORY_CD4_TCELL_DN\") \n",
    "\n",
    "\n",
    "\n",
    "\n",
    "plotEnrichment(fgsea_sets[[\"GOLDRATH_EFF_VS_MEMORY_CD8_TCELL_DN\"]],\n",
    "               ranks) + labs(title=\"GOLDRATH_EFF_VS_MEMORY_CD8_TCELL_DN\") + \n",
    "\n",
    "plotEnrichment(fgsea_sets[[\"GOLDRATH_NAIVE_VS_EFF_CD8_TCELL_UP\"]],\n",
    "               ranks) + labs(title=\"GOLDRATH_NAIVE_VS_EFF_CD8_TCELL_UP\") +\n",
    "\n",
    "plotEnrichment(fgsea_sets[[\"GOLDRATH_NAIVE_VS_MEMORY_CD8_TCELL_UP\"]],\n",
    "               ranks) + labs(title=\"GOLDRATH_NAIVE_VS_MEMORY_CD8_TCELL_UP\") +\n",
    "\n",
    "plotEnrichment(fgsea_sets[[\"GSE11057_NAIVE_VS_CENT_MEMORY_CD4_TCELL_UP\"]],\n",
    "               ranks) + labs(title=\"GSE11057_NAIVE_VS_CENT_MEMORY_CD4_TCELL_UP\") \n",
    "\n",
    "\n",
    "\n",
    "plotEnrichment(fgsea_sets[[\"GSE11057_NAIVE_VS_CENT_MEMORY_CD4_TCELL_UP\"]],\n",
    "               ranks) + labs(title=\"GSE11057_NAIVE_VS_CENT_MEMORY_CD4_TCELL_UP\") +\n",
    "\n",
    "plotEnrichment(fgsea_sets[[\"GSE11057_NAIVE_VS_EFF_MEMORY_CD4_TCELL_DN\"]],\n",
    "               ranks) + labs(title=\"GSE11057_NAIVE_VS_EFF_MEMORY_CD4_TCELL_DN\") +\n",
    "\n",
    "plotEnrichment(fgsea_sets[[\"GSE11057_NAIVE_VS_EFF_MEMORY_CD4_TCELL_UP\"]],\n",
    "               ranks) + labs(title=\"GSE11057_NAIVE_VS_EFF_MEMORY_CD4_TCELL_UP\") +\n",
    "\n",
    "plotEnrichment(fgsea_sets[[\"GSE11057_NAIVE_VS_MEMORY_CD4_TCELL_DN\"]],\n",
    "               ranks) + labs(title=\"GSE11057_NAIVE_VS_MEMORY_CD4_TCELL_DN\") \n",
    "\n",
    "\n",
    "options(repr.plot.width = 5, repr.plot.height = 3)\n",
    "plotEnrichment(fgsea_sets[[\"GSE11057_NAIVE_VS_MEMORY_CD4_TCELL_DN\"]],\n",
    "               ranks) + labs(title=\"GSE11057_NAIVE_VS_MEMORY_CD4_TCELL_DN\") \n",
    "\n",
    "plotEnrichment(fgsea_sets[[\"GSE11057_NAIVE_VS_MEMORY_CD4_TCELL_UP\"]],\n",
    "               ranks) + labs(title=\"GSE11057_NAIVE_VS_MEMORY_CD4_TCELL_UP\") \n",
    "\n",
    "plotEnrichment(fgsea_sets[[\"GSE11057_NAIVE_VS_MEMORY_CD4_TCELL_UP\"]],\n",
    "               ranks) + labs(title=\"GSE11057_NAIVE_VS_MEMORY_CD4_TCELL_UP\") +\n",
    "\n",
    "plotEnrichment(fgsea_sets[[\"GSE13738_RESTING_VS_BYSTANDER_ACTIVATED_CD4_TCELL_DN\"]],\n",
    "               ranks) + labs(title=\"GSE13738_RESTING_VS_BYSTANDER_ACTIVATED_CD4_TCELL_DN\") +\n",
    "\n",
    "plotEnrichment(fgsea_sets[[\"GSE17974_0H_VS_24H_IN_VITRO_ACT_CD4_TCELL_DN\"]],\n",
    "               ranks) + labs(title=\"GSE17974_0H_VS_24H_IN_VITRO_ACT_CD4_TCELL_DN\") +\n",
    "\n",
    "plotEnrichment(fgsea_sets[[\"GSE17974_0H_VS_24H_IN_VITRO_ACT_CD4_TCELL_UP\"]],\n",
    "               ranks) + labs(title=\"GSE17974_0H_VS_24H_IN_VITRO_ACT_CD4_TCELL_UP\") \n"
   ]
  },
  {
   "cell_type": "code",
   "execution_count": null,
   "id": "a05d3fd8",
   "metadata": {},
   "outputs": [],
   "source": [
    "selected_pathways  <- c('HALLMARK_TNFA_SIGNALING_VIA_NFKB',\n",
    "'HALLMARK_OXIDATIVE_PHOSPHORYLATION',\n",
    "\n",
    "'HALLMARK_INTERFERON_ALPHA_RESPONSE',\n",
    "'HALLMARK_INTERFERON_GAMMA_RESPONSE',\n",
    "                        \"GSE17974_0H_VS_24H_IN_VITRO_ACT_CD4_TCELL_UP\",\n",
    "                        \"GSE11057_NAIVE_VS_EFF_MEMORY_CD4_TCELL_UP\",\n",
    "                        \n",
    "\"GSE11057_NAIVE_VS_MEMORY_CD4_TCELL_UP\",\n",
    "\"GOLDRATH_NAIVE_VS_MEMORY_CD8_TCELL_DN\",\n",
    "'GOLDRATH_EFF_VS_MEMORY_CD8_TCELL_UP',\n",
    "'GOLDRATH_NAIVE_VS_EFF_CD8_TCELL_DN'\n",
    ")"
   ]
  },
  {
   "cell_type": "code",
   "execution_count": null,
   "id": "9f4ecc0a",
   "metadata": {},
   "outputs": [],
   "source": [
    "names(gseas$population2  %>% table) %in% c(\n",
    "'cd8_l3_prol',\n",
    "'cd8_l3_tcm_',\n",
    "'cd4_l3_th1t7',\n",
    "'cd4_l3_temr',\n",
    "'cd8_l3_temr',\n",
    "'cd4_l3_tfh_',\n",
    "'cd8_l3_naiv',\n",
    "'cd4_l3_naiv',\n",
    "'cd4_l3_th2_',\n",
    "'cd4_l3_nfkb',\n",
    "'cd4_l2_unc_',\n",
    "'cd4_l3_treg',\n",
    "'cd4_l3_isag',\n",
    "'cd4_l3_prol',\n",
    "'cd8_l3_tem_',\n",
    "'cd8_l2_nk',\n",
    "'cd8_l2_unc_'    \n",
    ")"
   ]
  },
  {
   "cell_type": "code",
   "execution_count": null,
   "id": "0a3c66a5",
   "metadata": {},
   "outputs": [],
   "source": [
    "names(gseas$population2  %>% table)[!(names(gseas$population2  %>% table) %in% c(\n",
    "'cd8_l3_prol',\n",
    "'cd8_l3_tcm_',\n",
    "'cd4_l3_th1t7',\n",
    "'cd4_l3_temr',\n",
    "'cd8_l3_temr',\n",
    "'cd4_l3_tfh_',\n",
    "'cd8_l3_naiv',\n",
    "'cd4_l3_naiv',\n",
    "'cd4_l3_th2_',\n",
    "'cd4_l3_nfkb',\n",
    "'cd4_l2_unc_',\n",
    "'cd4_l3_treg',\n",
    "'cd4_l3_isag',\n",
    "'cd4_l3_prol',\n",
    "'cd8_l3_tem_',\n",
    "'cd8_l2_nk',\n",
    "'cd8_l2_unc_'    \n",
    "))]"
   ]
  },
  {
   "cell_type": "code",
   "execution_count": null,
   "id": "1c3802a0",
   "metadata": {},
   "outputs": [],
   "source": [
    "options(repr.plot.height = 8, repr.plot.width = 24)\n",
    "gseas  %>% dplyr::filter(pathway %in% selected_pathways &\n",
    "                        ((population2 %in% c(\"cd8_l1_full\",\"cd4_l1_full\",\"cd4_l2_subc\",\"cd8_l2_subc\")) == F))  %>% \n",
    "ggplot(aes(x = factor(population2, levels = c(\n",
    "'cd8_l3_prol',\n",
    "'cd8_l3_tcm_',\n",
    "'cd4_l3_th1t',\n",
    "'cd4_l3_temr',\n",
    "'cd8_l3_temr',\n",
    "'cd4_l3_tfh_',\n",
    "'cd8_l3_naiv',\n",
    "'cd4_l3_naiv',\n",
    "'cd4_l3_th2_',\n",
    "'cd4_l3_nfkb',\n",
    "'cd4_l2_unc_',\n",
    "'cd4_l3_treg',\n",
    "'cd4_l3_isag',\n",
    "'cd4_l3_prol',\n",
    "'cd8_l3_tem_',\n",
    "'cd8_l2_nk',\n",
    "'cd8_l2_unc_'    \n",
    ")), y = pathway)) +\n",
    "geom_point(aes(size = -log(padj), color = NES, alpha = padj<0.05)) +\n",
    "scale_alpha_manual(values = c(0,1)) +\n",
    "facet_grid(cols = vars(test_type), space = \"free\", scales = \"free\") +\n",
    "scale_color_gradient2(low = \"blue\", mid = \"white\", high = \"red\") + \n",
    "xlab(\"\") + ylab(\"\") +\n",
    "theme_classic() + theme(axis.text.x = element_text(angle = 90),\n",
    "                       axis.ticks.x = element_blank()) + ggtheme()\n",
    "ggsave(\"../figures/gsea/heatmap_gsea.svg\", width = 55, height = 16, units = \"cm\")"
   ]
  },
  {
   "cell_type": "code",
   "execution_count": null,
   "id": "cba9436d",
   "metadata": {},
   "outputs": [],
   "source": [
    "selected_pathways  <- c(\n",
    " 'HALLMARK_INTERFERON_ALPHA_RESPONSE',\n",
    "'HALLMARK_INTERFERON_GAMMA_RESPONSE',\n",
    "'GSE13485_DAY7_VS_DAY21_YF17D_VACCINE_PBMC_UP',\n",
    "'GOLDRATH_EFF_VS_MEMORY_CD8_TCELL_UP',\n",
    "'GOLDRATH_NAIVE_VS_EFF_CD8_TCELL_DN')\n",
    "\n",
    "options(repr.plot.height = 5, repr.plot.width = 24)\n",
    "gseas  %>% dplyr::filter(pathway %in% selected_pathways)  %>% \n",
    "ggplot(aes(x = population, y = factor(pathway, levels = selected_pathways))) +\n",
    "geom_point(aes(size = -log(padj), color = NES, alpha = padj<0.05)) +\n",
    "scale_alpha_manual(values = c(0,1)) +\n",
    "facet_grid(cols = vars(test_type), space = \"free\", scales = \"free\") +\n",
    "scale_color_gradient2(low = \"blue\", mid = \"white\", high = \"red\") + \n",
    "theme_classic() + theme(axis.text.x = element_text(angle = 90)) + ggtheme()"
   ]
  },
  {
   "cell_type": "code",
   "execution_count": null,
   "id": "7335f237",
   "metadata": {},
   "outputs": [],
   "source": [
    "selected_pathways  <- c(\n",
    "    \"GSE25087_FETAL_VS_ADULT_TCONV_UP\",\n",
    "                       \"GSE36476_CTRL_VS_TSST_ACT_40H_MEMORY_CD4_TCELL_YOUNG_DN\",\n",
    "                       \"GSE22886_NAIVE_CD4_TCELL_VS_48H_ACT_TH2_DN\",\n",
    "    \"GSE24634_NAIVE_CD4_TCELL_VS_DAY7_IL4_CONV_TREG_UP\",\n",
    "\"GSE17974_0H_VS_24H_IN_VITRO_ACT_CD4_TCELL_UP\",\n",
    "    \"GSE36476_CTRL_VS_TSST_ACT_72H_MEMORY_CD4_TCELL_YOUNG_UP\")\n",
    "\n",
    "options(repr.plot.height = 5, repr.plot.width = 24)\n",
    "gseas  %>% dplyr::filter(pathway %in% selected_pathways)  %>% \n",
    "ggplot(aes(x = population, y = factor(pathway, levels = selected_pathways))) +\n",
    "geom_point(aes(size = -log(padj), color = NES, alpha = padj<0.05)) +\n",
    "scale_alpha_manual(values = c(0,1)) +\n",
    "facet_grid(cols = vars(test_type), space = \"free\", scales = \"free\") +\n",
    "scale_color_gradient2(low = \"blue\", mid = \"white\", high = \"red\") + \n",
    "theme_classic() + theme(axis.text.x = element_text(angle = 90)) + ggtheme()"
   ]
  },
  {
   "cell_type": "markdown",
   "id": "34397e64",
   "metadata": {},
   "source": [
    "## GSEA Dia vs. Healthy"
   ]
  },
  {
   "cell_type": "markdown",
   "id": "6ce17e67",
   "metadata": {},
   "source": [
    "### CD4"
   ]
  },
  {
   "cell_type": "code",
   "execution_count": null,
   "id": "b6f2f1c9",
   "metadata": {},
   "outputs": [],
   "source": [
    "m_df<- msigdbr(species = \"Homo sapiens\", category = \"C7\")"
   ]
  },
  {
   "cell_type": "code",
   "execution_count": null,
   "id": "a37c5075",
   "metadata": {},
   "outputs": [],
   "source": [
    "fgsea_sets_hs_c7 <- m_df %>% split(x = .$gene_symbol, f = .$gs_name)"
   ]
  },
  {
   "cell_type": "code",
   "execution_count": null,
   "id": "8b9c67f9",
   "metadata": {},
   "outputs": [],
   "source": [
    "paths_fc  <- list.files(\"../tables/fold_change\", full.names = T)\n",
    "dataset_names  <- list.files(\"../tables/fold_change\", full.names = F)"
   ]
  },
  {
   "cell_type": "code",
   "execution_count": null,
   "id": "2cbf22b8",
   "metadata": {},
   "outputs": [],
   "source": [
    "paths_fc"
   ]
  },
  {
   "cell_type": "code",
   "execution_count": null,
   "id": "763b5de3",
   "metadata": {},
   "outputs": [],
   "source": [
    "paths_fc[10]"
   ]
  },
  {
   "cell_type": "code",
   "execution_count": null,
   "id": "99a94ced",
   "metadata": {},
   "outputs": [],
   "source": [
    "fc.df  <- read_csv(paths_fc[10])  %>% as.data.frame()\n",
    "fc.df  <- fc.df  %>%  arrange(desc(avg_log2FC)) %>% \n",
    "dplyr::filter(cluster == \"Dia\")  %>% \n",
    "  dplyr::select(gene, avg_log2FC)\n",
    "ranks_cd4_t0 <- deframe(fc.df)"
   ]
  },
  {
   "cell_type": "code",
   "execution_count": null,
   "id": "be973002",
   "metadata": {
    "scrolled": true
   },
   "outputs": [],
   "source": [
    "ranks_cd4_t0  "
   ]
  },
  {
   "cell_type": "code",
   "execution_count": null,
   "id": "2e30c787",
   "metadata": {},
   "outputs": [],
   "source": [
    "fgseaRes <- fgsea(pathways = fgsea_sets_hs_c7, \n",
    "                 stats = ranks_cd4_t0)"
   ]
  },
  {
   "cell_type": "code",
   "execution_count": null,
   "id": "434df188",
   "metadata": {},
   "outputs": [],
   "source": [
    "fgseaRes <- fgsea(pathways = fgsea_sets_hs_c7, \n",
    "                 stats = ranks_cd4_t0)\n",
    "\n",
    "fgseaRes  %>% dplyr::filter(grepl(pathway, pattern = \"NAIVE_VS_EFF_MEMORY\"))"
   ]
  },
  {
   "cell_type": "code",
   "execution_count": null,
   "id": "141f46e1",
   "metadata": {
    "scrolled": true
   },
   "outputs": [],
   "source": [
    "fgseaRes  %>% arrange(pval)"
   ]
  },
  {
   "cell_type": "code",
   "execution_count": null,
   "id": "58125c5e",
   "metadata": {},
   "outputs": [],
   "source": [
    "options(repr.plot.width = 5, repr.plot.height = 3)\n",
    "plotEnrichment(fgsea_sets_hs_c7[[\"GSE11057_NAIVE_VS_EFF_MEMORY_CD4_TCELL_DN\"]],\n",
    "               ranks_cd4_t0) + labs(title=\"GSE11057_NAIVE_VS_EFF_MEMORY_CD4_TCELL_DN\") +\n",
    "ylim(c(-0.9,0.4))\n",
    "ggsave(filename = paste0(\"../figures/gsea/GSE11057_NAIVE_VS_EFF_MEMORY_CD4_TCELL_DN.svg\"), \n",
    "       width = 9.5, height = 8, units = \"cm\")\n"
   ]
  },
  {
   "cell_type": "code",
   "execution_count": null,
   "id": "df283cba",
   "metadata": {},
   "outputs": [],
   "source": [
    "plotEnrichment(fgsea_sets_hs_c7[[\"GSE11057_NAIVE_VS_EFF_MEMORY_CD4_TCELL_UP\"]],\n",
    "               ranks_cd4_t0) + labs(title=\"GSE11057_NAIVE_VS_EFF_MEMORY_CD4_TCELL_UP\") +\n",
    "ylim(c(-0.9,0.4))\n",
    "\n",
    "ggsave(filename = paste0(\"../figures/gsea/GSE11057_NAIVE_VS_EFF_MEMORY_CD4_TCELL_UP.svg\"), \n",
    "       width = 9.5, height = 8, units = \"cm\")\n"
   ]
  },
  {
   "cell_type": "code",
   "execution_count": null,
   "id": "72119a62",
   "metadata": {},
   "outputs": [],
   "source": [
    "m_df<- msigdbr(species = \"Homo sapiens\", category = \"C2\")\n",
    "fgsea_sets<- m_df %>% split(x = .$gene_symbol, f = .$gs_name)"
   ]
  },
  {
   "cell_type": "code",
   "execution_count": null,
   "id": "7b6a4723",
   "metadata": {},
   "outputs": [],
   "source": [
    "plotEnrichment(fgsea_sets[[\"REACTOME_INTERFERON_ALPHA_BETA_SIGNALING\"]],\n",
    "               ranks_cd4_t0) + labs(title=\"REACTOME_INTERFERON_ALPHA_BETA_SIGNALING\") +\n",
    "ylim(c(-0.9,0.4))\n",
    "ggsave(filename = paste0(\"../figures/gsea/REACTOME_INTERFERON_ALPHA_BETA_SIGNALING_CD4.svg\"), \n",
    "       width = 9.5, height = 8, units = \"cm\")"
   ]
  },
  {
   "cell_type": "markdown",
   "id": "a68e6241",
   "metadata": {},
   "source": [
    "### CD8"
   ]
  },
  {
   "cell_type": "code",
   "execution_count": null,
   "id": "7b195f13",
   "metadata": {},
   "outputs": [],
   "source": [
    "grep(paths_fc, pattern = \"cd8_l1_full_filt\", value = T)"
   ]
  },
  {
   "cell_type": "code",
   "execution_count": null,
   "id": "a6d77651",
   "metadata": {
    "scrolled": true
   },
   "outputs": [],
   "source": [
    "fc.df  <- read_csv(\"../tables/fold_change/cd8_l1_full_filt.csv\")  %>% as.data.frame()\n",
    "fc.df  <- fc.df  %>%  arrange(desc(avg_log2FC)) %>% \n",
    "dplyr::filter(cluster == \"Dia\")  %>% \n",
    "  dplyr::select(gene, avg_log2FC)\n",
    "ranks_cd8_t0 <- deframe(fc.df)\n",
    "\n",
    "ranks_cd8_t0  "
   ]
  },
  {
   "cell_type": "code",
   "execution_count": null,
   "id": "c5d64f2d",
   "metadata": {},
   "outputs": [],
   "source": [
    "fgseaRes <- fgsea(pathways = fgsea_sets_hs_c7, \n",
    "                 stats = ranks_cd8_t0)"
   ]
  },
  {
   "cell_type": "code",
   "execution_count": null,
   "id": "5f298e65",
   "metadata": {},
   "outputs": [],
   "source": [
    "fgseaRes  %>% dplyr::filter(grepl(pathway, pattern = \"GOLDRATH\"))"
   ]
  },
  {
   "cell_type": "code",
   "execution_count": null,
   "id": "3ad5f3fb",
   "metadata": {},
   "outputs": [],
   "source": [
    "options(repr.plot.width = 5, repr.plot.height = 3)\n",
    "plotEnrichment(fgsea_sets_hs_c7[[\"GOLDRATH_NAIVE_VS_EFF_CD8_TCELL_DN\"]],\n",
    "               ranks_cd8_t0) + labs(title=\"GOLDRATH_NAIVE_VS_EFF_CD8_TCELL_DN\") +\n",
    "ylim(c(-0.7,0.4))\n",
    "\n",
    "ggsave(filename = paste0(\"../figures/gsea/GOLDRATH_NAIVE_VS_EFF_CD8_TCELL_DN.svg\"), \n",
    "       width = 9.5, height = 8, units = \"cm\")\n"
   ]
  },
  {
   "cell_type": "code",
   "execution_count": null,
   "id": "530a1072",
   "metadata": {},
   "outputs": [],
   "source": [
    "plotEnrichment(fgsea_sets_hs_c7[[\"GOLDRATH_NAIVE_VS_EFF_CD8_TCELL_UP\"]],\n",
    "               ranks_cd8_t0) + labs(title=\"GOLDRATH_NAIVE_VS_EFF_CD8_TCELL_UP\") +\n",
    "ylim(c(-0.7,0.4))\n",
    "\n",
    "ggsave(filename = paste0(\"../figures/gsea/GOLDRATH_NAIVE_VS_EFF_CD8_TCELL_UP.svg\"), \n",
    "       width = 9.5, height = 8, units = \"cm\")\n"
   ]
  },
  {
   "cell_type": "code",
   "execution_count": null,
   "id": "0b9a8361",
   "metadata": {},
   "outputs": [],
   "source": [
    "m_df<- msigdbr(species = \"Homo sapiens\", category = \"C2\")\n",
    "fgsea_sets<- m_df %>% split(x = .$gene_symbol, f = .$gs_name)"
   ]
  },
  {
   "cell_type": "code",
   "execution_count": null,
   "id": "d6b2d163",
   "metadata": {},
   "outputs": [],
   "source": [
    "plotEnrichment(fgsea_sets[[\"REACTOME_INTERFERON_ALPHA_BETA_SIGNALING\"]],\n",
    "               ranks_cd8_t0) + labs(title=\"REACTOME_INTERFERON_ALPHA_BETA_SIGNALING\") +\n",
    "ylim(c(-0.7,0.4))\n",
    "\n",
    "ggsave(filename = paste0(\"../figures/gsea/REACTOME_INTERFERON_ALPHA_BETA_SIGNALING_CD8.svg\"), \n",
    "       width = 9.5, height = 8, units = \"cm\")\n"
   ]
  },
  {
   "cell_type": "code",
   "execution_count": null,
   "id": "f214b7e5",
   "metadata": {},
   "outputs": [],
   "source": []
  },
  {
   "cell_type": "markdown",
   "id": "c1fa9e5c",
   "metadata": {},
   "source": [
    "# DE genes visualization 3 VOLCANO"
   ]
  },
  {
   "cell_type": "code",
   "execution_count": null,
   "id": "426f225d",
   "metadata": {},
   "outputs": [],
   "source": [
    "library(tidytext)"
   ]
  },
  {
   "cell_type": "code",
   "execution_count": null,
   "id": "0f88d8cc",
   "metadata": {},
   "outputs": [],
   "source": [
    "all_markers$dataset  %>% table"
   ]
  },
  {
   "cell_type": "code",
   "execution_count": null,
   "id": "192187d5",
   "metadata": {
    "scrolled": true
   },
   "outputs": [],
   "source": [
    "all_markers  %>% \n",
    "dplyr::filter(source == \"scRNAseq_RNA\")  %>% \n",
    "dplyr::filter(test_type == \"Dia T0 vs Ctrl T0\" &\n",
    "             dataset == \"cd4_l3_proliferating\")  %>% \n",
    "mutate(abs_avg_log2fc = abs(avg_log2FC))  %>% \n",
    "group_by( direction)  %>% \n",
    "slice_max(n = 10, order_by = abs_avg_log2fc) "
   ]
  },
  {
   "cell_type": "code",
   "execution_count": null,
   "id": "d8bc3378",
   "metadata": {},
   "outputs": [],
   "source": [
    "test  <- all_markers  %>% \n",
    "dplyr::filter(source == \"scRNAseq_RNA\")  %>% \n",
    "group_by(test_type, dataset)  %>% tally  %>% \n",
    "pivot_wider(names_from = dataset, values_from = n)"
   ]
  },
  {
   "cell_type": "code",
   "execution_count": null,
   "id": "dc18fb86",
   "metadata": {},
   "outputs": [],
   "source": [
    "write.csv(test, \"../tables/fc_test_counts.csv\")"
   ]
  },
  {
   "cell_type": "code",
   "execution_count": null,
   "id": "f293ae56",
   "metadata": {},
   "outputs": [],
   "source": [
    "options(repr.plot.width = 24, repr.plot.height = 68)\n",
    "all_markers  %>% \n",
    "dplyr::filter(source == \"scRNAseq_RNA\")  %>% \n",
    "mutate(abs_avg_log2fc = abs(avg_log2FC))  %>% \n",
    "group_by(test_type, direction)  %>% \n",
    "slice_max(n = 50, order_by = abs_avg_log2fc)  %>% \n",
    "ggplot(aes(x = dataset, y = reorder_within(gene, avg_log2FC, test_type))) + \n",
    "  geom_point(aes(size = -log(p_val_adj, base = 10), colour = direction)) + \n",
    "facet_grid(rows = vars(test_type), cols = vars(dataset),\n",
    "           scales = \"free\", space = \"free\") +\n",
    "scale_x_reordered() +\n",
    "      theme_bw()  + scale_size_continuous(range=c(1,4)) +\n",
    "  #scale_colour_gradient2(low = \"lightskyblue\", mid = \"lightsteelblue2\", high = \"salmon\") + \n",
    " theme(axis.text.x = element_text(angle = 90))"
   ]
  },
  {
   "cell_type": "code",
   "execution_count": null,
   "id": "6eda70e2",
   "metadata": {
    "scrolled": true
   },
   "outputs": [],
   "source": [
    "list.files(\"../tables/fold_change/\")"
   ]
  },
  {
   "cell_type": "code",
   "execution_count": null,
   "id": "5ad5f61e",
   "metadata": {},
   "outputs": [],
   "source": [
    "paths_fc  <- list.files(\"../tables/fold_change\", full.names = T)\n",
    "dataset_names  <- list.files(\"../tables/fold_change\", full.names = F)\n"
   ]
  },
  {
   "cell_type": "code",
   "execution_count": null,
   "id": "5a9659da",
   "metadata": {},
   "outputs": [],
   "source": []
  },
  {
   "cell_type": "code",
   "execution_count": null,
   "id": "86c9cae9",
   "metadata": {},
   "outputs": [],
   "source": [
    "read_fc  <- function(j) {\n",
    "fc.df  <- read_csv(paths_fc[j])  %>% as.data.frame()\n",
    "fc.df  <- fc.df  %>%  arrange(desc(avg_log2FC))\n",
    "fc.df$dataset  <-   gsub(dataset_names[j], pattern = \".csv\", replacement = \"\")\n",
    "   \n",
    "    return(fc.df)\n",
    "    }"
   ]
  },
  {
   "cell_type": "code",
   "execution_count": null,
   "id": "06ae7b90",
   "metadata": {},
   "outputs": [],
   "source": [
    "paths_fc"
   ]
  },
  {
   "cell_type": "code",
   "execution_count": null,
   "id": "0d64e453",
   "metadata": {},
   "outputs": [],
   "source": []
  },
  {
   "cell_type": "code",
   "execution_count": null,
   "id": "3f5b3957",
   "metadata": {
    "scrolled": true
   },
   "outputs": [],
   "source": [
    "all_fcs  <- map(1:length(paths_fc), .f = read_fc)"
   ]
  },
  {
   "cell_type": "code",
   "execution_count": null,
   "id": "1ad4293e",
   "metadata": {},
   "outputs": [],
   "source": [
    "all_fcs2  <- bind_rows(all_fcs)"
   ]
  },
  {
   "cell_type": "code",
   "execution_count": null,
   "id": "62d995bc",
   "metadata": {},
   "outputs": [],
   "source": [
    "all_fcs2  %>% head"
   ]
  },
  {
   "cell_type": "code",
   "execution_count": null,
   "id": "f9d9daa0",
   "metadata": {},
   "outputs": [],
   "source": [
    "all_fcs2$`...1`  <- NULL"
   ]
  },
  {
   "cell_type": "code",
   "execution_count": null,
   "id": "da688de1",
   "metadata": {},
   "outputs": [],
   "source": [
    "all_fcs2$dataset   <- gsub(all_fcs2$dataset, pattern = \"full_filt\", replacement = \"full\")"
   ]
  },
  {
   "cell_type": "code",
   "execution_count": null,
   "id": "7ca42b7e",
   "metadata": {},
   "outputs": [],
   "source": [
    "all_fcs2  %>% dplyr::filter(grepl(dataset, pattern = \"cd4_l1_full\"))  %>% \n",
    "group_by(dataset) %>% tally"
   ]
  },
  {
   "cell_type": "code",
   "execution_count": null,
   "id": "0ad1ce5d",
   "metadata": {},
   "outputs": [],
   "source": [
    "all_fcs3"
   ]
  },
  {
   "cell_type": "code",
   "execution_count": null,
   "id": "50519ea5",
   "metadata": {},
   "outputs": [],
   "source": [
    "test2  <- all_fcs3  %>% \n",
    "group_by(Comparison, Dataset)  %>% tally  %>% \n",
    "pivot_wider(names_from = Dataset, values_from = n)\n",
    "\n",
    "write.csv(test2, \"../tables/fc_test_count2.csv\")"
   ]
  },
  {
   "cell_type": "code",
   "execution_count": null,
   "id": "d7c554ee",
   "metadata": {},
   "outputs": [],
   "source": [
    "all_fcs2$dataset   <- gsub(all_fcs2$dataset, pattern = \"_Ctrl_vs_DiaT0\", replacement = \"--DiaT0 vs. Ctrl\")"
   ]
  },
  {
   "cell_type": "code",
   "execution_count": null,
   "id": "1340ee98",
   "metadata": {},
   "outputs": [],
   "source": [
    "all_fcs2  %>% dplyr::filter(grepl(dataset, pattern = \"cd4_l1_full\"))  %>% \n",
    "group_by(dataset) %>% tally"
   ]
  },
  {
   "cell_type": "code",
   "execution_count": null,
   "id": "311632ec",
   "metadata": {},
   "outputs": [],
   "source": [
    "gsub(grep(all_fcs2$dataset,pattern = \"0_T1_vs_PR_1_T1\", value = T)  %>% head, \n",
    "     pattern = \"_PR_0_T1_vs_PR_1_T1\", replacement = \"--PR0_T1 vs. PR1_T1\")"
   ]
  },
  {
   "cell_type": "code",
   "execution_count": null,
   "id": "0d1dacc5",
   "metadata": {},
   "outputs": [],
   "source": []
  },
  {
   "cell_type": "code",
   "execution_count": null,
   "id": "37cea9c3",
   "metadata": {},
   "outputs": [],
   "source": [
    "all_fcs2$dataset   <- gsub(all_fcs2$dataset, pattern = \"_Ctrl_vs_DiaT1\", replacement = \"--DiaT1 vs. Ctrl\")\n",
    "all_fcs2$dataset   <- gsub(all_fcs2$dataset, pattern = \"_ketoacidosis\", replacement = \"--Keto+ vs. Keto-\")\n",
    "all_fcs2$dataset   <- gsub(all_fcs2$dataset, pattern = \"_PR_0_T0_vs_PR_0_T1\", replacement = \"--PR0_T0 vs. PR0_T1\")\n",
    "all_fcs2$dataset   <- gsub(all_fcs2$dataset, pattern = \"_PR_0_T0_vs_PR_1_T0\", replacement = \"--PR0_T0 vs. PR1_T0\")\n",
    "all_fcs2$dataset   <- gsub(all_fcs2$dataset, pattern = \"_PR_1_T0_vs_PR_1_T1\", replacement = \"--PR1_T0 vs. PR1_T1\")\n",
    "all_fcs2$dataset   <- gsub(all_fcs2$dataset, pattern = \"_Ctrl_vs_DiaT0\", replacement = \"--DiaT0 vs. Ctrl\")\n",
    "all_fcs2$dataset   <- gsub(all_fcs2$dataset, pattern = \"_DiaT0_vs_DiaT1\", replacement = \"--DiaT0 vs. DiaT1\")"
   ]
  },
  {
   "cell_type": "code",
   "execution_count": null,
   "id": "2697e1f1",
   "metadata": {},
   "outputs": [],
   "source": [
    "all_fcs2$dataset   <- gsub(all_fcs2$dataset, pattern = \"_PR_0_T1_vs_PR_1_T1\", replacement = \"--PR0_T1 vs. PR1_T1\")"
   ]
  },
  {
   "cell_type": "code",
   "execution_count": null,
   "id": "a03e697c",
   "metadata": {},
   "outputs": [],
   "source": []
  },
  {
   "cell_type": "code",
   "execution_count": null,
   "id": "9aa28903",
   "metadata": {},
   "outputs": [],
   "source": [
    "all_fcs2  %>% dplyr::filter(grepl(dataset, pattern = \"cd4_l1_full\"))  %>% \n",
    "group_by(dataset) %>% tally"
   ]
  },
  {
   "cell_type": "code",
   "execution_count": null,
   "id": "b71ba20f",
   "metadata": {},
   "outputs": [],
   "source": [
    "all_fcs2  <- all_fcs2  %>% separate(dataset, into = c(\"Dataset\", \"Comparison\"), sep = \"--\", remove = F)"
   ]
  },
  {
   "cell_type": "code",
   "execution_count": null,
   "id": "eb168656",
   "metadata": {},
   "outputs": [],
   "source": [
    "all_fcs2  <- all_fcs2  %>% dplyr::filter(!is.na(Comparison))"
   ]
  },
  {
   "cell_type": "code",
   "execution_count": null,
   "id": "531405e0",
   "metadata": {},
   "outputs": [],
   "source": [
    "dataset_comparison  <- levels(factor(all_fcs2$dataset))"
   ]
  },
  {
   "cell_type": "code",
   "execution_count": null,
   "id": "dbc9ada9",
   "metadata": {},
   "outputs": [],
   "source": [
    "all_fcs2$Comparison  %>% table"
   ]
  },
  {
   "cell_type": "code",
   "execution_count": null,
   "id": "62861f58",
   "metadata": {},
   "outputs": [],
   "source": [
    "all_fcs2$dataset  %>% table"
   ]
  },
  {
   "cell_type": "code",
   "execution_count": null,
   "id": "8b383f3b",
   "metadata": {},
   "outputs": [],
   "source": [
    "all_fcs2$Comparison  %>% table"
   ]
  },
  {
   "cell_type": "code",
   "execution_count": null,
   "id": "6eb7cdde",
   "metadata": {
    "scrolled": true
   },
   "outputs": [],
   "source": [
    "all_fcs2  <- all_fcs2  %>% mutate(\n",
    "direction = case_when(Comparison == \"DiaT1 vs. Ctrl\" & cluster == \"Ctrl T0\" ~ \"Down\",\n",
    "                      Comparison == \"DiaT1 vs. Ctrl\" & cluster == \"Dia T1\" ~ \"Up\",\n",
    "                      \n",
    "                      Comparison == \"DiaT0 vs. Ctrl\" & cluster == \"Ctrl T0\" ~ \"Down\",\n",
    "                      Comparison == \"DiaT0 vs. Ctrl\" & cluster == \"Dia T0\" ~ \"Up\",\n",
    "                      \n",
    "                      Comparison == \"DiaT0 vs. DiaT1\" & cluster == \"Dia T0\" ~ \"Up\",\n",
    "                      Comparison == \"DiaT0 vs. DiaT1\" & cluster == \"Dia T1\" ~ \"Down\",\n",
    "                      \n",
    "                      Comparison == \"PR0_T0 vs. PR0_T1\" & cluster == \"PR_0 T0\" ~ \"Up\",\n",
    "                      Comparison == \"PR0_T0 vs. PR0_T1\" & cluster == \"PR_0 T1\" ~ \"Down\",\n",
    "                      \n",
    "                      Comparison == \"PR0_T0 vs. PR1_T0\" & cluster == \"PR_0 T0\" ~ \"Up\",\n",
    "                      Comparison == \"PR0_T0 vs. PR1_T0\" & cluster == \"PR_1 T0\" ~ \"Down\",\n",
    "                      \n",
    "                      Comparison == \"PR0_T1 vs. PR1_T1\" & cluster == \"PR_0 T1\" ~ \"Up\",\n",
    "                      Comparison == \"PR0_T1 vs. PR1_T1\" & cluster == \"PR_1 T1\" ~ \"Down\",\n",
    "                      \n",
    "                      Comparison == \"PR1_T0 vs. PR1_T1\" & cluster == \"PR_1 T0\" ~ \"Up\",\n",
    "                      Comparison == \"PR1_T0 vs. PR1_T1\" & cluster == \"PR_1 T1\" ~ \"Down\",\n",
    "                      \n",
    "                      Comparison == \"Keto+ vs. Keto-\" & cluster == \"Keto_0 T0\" ~ \"Down\",\n",
    "                      Comparison == \"Keto+ vs. Keto-\" & cluster == \"Keto_1 T0\" ~ \"Up\"\n",
    "                      \n",
    "                     ))"
   ]
  },
  {
   "cell_type": "code",
   "execution_count": null,
   "id": "0fa9eda3",
   "metadata": {},
   "outputs": [],
   "source": [
    "gc()"
   ]
  },
  {
   "cell_type": "code",
   "execution_count": null,
   "id": "5be95e75",
   "metadata": {},
   "outputs": [],
   "source": [
    "head(all_fcs2)"
   ]
  },
  {
   "cell_type": "code",
   "execution_count": null,
   "id": "55e26ced",
   "metadata": {},
   "outputs": [],
   "source": [
    "dataset_list  <- levels(factor(all_fcs2$dataset))\n"
   ]
  },
  {
   "cell_type": "code",
   "execution_count": null,
   "id": "6ac280b3",
   "metadata": {},
   "outputs": [],
   "source": [
    "dataset_list"
   ]
  },
  {
   "cell_type": "code",
   "execution_count": null,
   "id": "acb5b881",
   "metadata": {},
   "outputs": [],
   "source": [
    "i = dataset_list[1]"
   ]
  },
  {
   "cell_type": "code",
   "execution_count": null,
   "id": "f3188420",
   "metadata": {
    "scrolled": true
   },
   "outputs": [],
   "source": [
    "all_fcs2  %>% dplyr::filter(dataset == i & p_val_adj < 0.01)  %>% \n",
    "    group_by(direction)  "
   ]
  },
  {
   "cell_type": "code",
   "execution_count": null,
   "id": "65363aa7",
   "metadata": {},
   "outputs": [],
   "source": [
    "Comparison_list  <- levels(factor(all_fcs2$Comparison))"
   ]
  },
  {
   "cell_type": "code",
   "execution_count": null,
   "id": "03c31f3b",
   "metadata": {},
   "outputs": [],
   "source": [
    "i = Comparison_list[1]"
   ]
  },
  {
   "cell_type": "code",
   "execution_count": null,
   "id": "cd53ac84",
   "metadata": {},
   "outputs": [],
   "source": [
    "genes  <- all_fcs2  %>% dplyr::filter(Comparison == i & p_val_adj < 0.01)  %>% \n",
    "    group_by(direction, Dataset)  %>% slice_max(n = 10, order_by = avg_log2FC)   %>% pull(gene)"
   ]
  },
  {
   "cell_type": "code",
   "execution_count": null,
   "id": "d75d49a8",
   "metadata": {},
   "outputs": [],
   "source": [
    "genes"
   ]
  },
  {
   "cell_type": "code",
   "execution_count": null,
   "id": "27a62ab8",
   "metadata": {},
   "outputs": [],
   "source": [
    "all_fcs2$signif = ifelse(all_fcs2$p_val_adj < 0.05, \"y\", \"n\")"
   ]
  },
  {
   "cell_type": "code",
   "execution_count": null,
   "id": "1125995e",
   "metadata": {},
   "outputs": [],
   "source": [
    "all_fcs2  <- all_fcs2  %>% mutate(p_val_adj = if_else(p_val_adj == 0, 1e-294,p_val_adj))"
   ]
  },
  {
   "cell_type": "code",
   "execution_count": null,
   "id": "2133b0c1",
   "metadata": {},
   "outputs": [],
   "source": [
    "library(tidytext)"
   ]
  },
  {
   "cell_type": "code",
   "execution_count": null,
   "id": "44873355",
   "metadata": {},
   "outputs": [],
   "source": [
    "Datasets_list  <- levels(factor(all_fcs2$Dataset))"
   ]
  },
  {
   "cell_type": "code",
   "execution_count": null,
   "id": "0ec6145a",
   "metadata": {},
   "outputs": [],
   "source": [
    "i = Datasets_list[1]"
   ]
  },
  {
   "cell_type": "code",
   "execution_count": null,
   "id": "a5d8640e",
   "metadata": {},
   "outputs": [],
   "source": [
    "all_fcs2  %>% head"
   ]
  },
  {
   "cell_type": "code",
   "execution_count": null,
   "id": "601e0c28",
   "metadata": {},
   "outputs": [],
   "source": [
    " genes  <- all_fcs2  %>% dplyr::filter(Dataset == i & Comparison == \"DiaT0 vs. Ctrl\")  %>% \n",
    "    group_by(direction)  %>% slice_max(n = 10, order_by = avg_log2FC)   %>% pull(gene)\n",
    "    df  <- all_fcs2  %>% dplyr::filter(Dataset == i & direction == \"Up\" & gene %in% genes & \n",
    "                                       Comparison == \"DiaT0 vs. Ctrl\"                                      )"
   ]
  },
  {
   "cell_type": "code",
   "execution_count": null,
   "id": "9564a00b",
   "metadata": {},
   "outputs": [],
   "source": [
    "genes"
   ]
  },
  {
   "cell_type": "code",
   "execution_count": null,
   "id": "a288527c",
   "metadata": {},
   "outputs": [],
   "source": [
    "df"
   ]
  },
  {
   "cell_type": "code",
   "execution_count": null,
   "id": "b54ff62e",
   "metadata": {
    "scrolled": true
   },
   "outputs": [],
   "source": [
    "j = 0\n"
   ]
  },
  {
   "cell_type": "code",
   "execution_count": null,
   "id": "edaf1664",
   "metadata": {},
   "outputs": [],
   "source": [
    "plot_list[[i]]"
   ]
  },
  {
   "cell_type": "code",
   "execution_count": null,
   "id": "96528293",
   "metadata": {},
   "outputs": [],
   "source": [
    "plot_list"
   ]
  },
  {
   "cell_type": "code",
   "execution_count": null,
   "id": "60652e5b",
   "metadata": {},
   "outputs": [],
   "source": [
    "Comaprisons_list  <- levels(factor(all_fcs2$Comparison  ))"
   ]
  },
  {
   "cell_type": "code",
   "execution_count": null,
   "id": "14fae87e",
   "metadata": {},
   "outputs": [],
   "source": [
    "dir.create(\"../figures/DE_genes/pdf/\")"
   ]
  },
  {
   "cell_type": "code",
   "execution_count": null,
   "id": "4cc3a47f",
   "metadata": {
    "scrolled": true
   },
   "outputs": [],
   "source": [
    "j = Comparison_list[2]\n",
    "    \n",
    "plot_list  <- list()    \n",
    "  \n",
    "for(i in Datasets_list){\n",
    "    genes  <- all_fcs2  %>% dplyr::filter(Dataset == i & Comparison == j)  %>% \n",
    "    group_by(direction)  %>% slice_max(n = 10, order_by = avg_log2FC)   %>% pull(gene)\n",
    "    df  <- all_fcs2  %>% dplyr::filter(Dataset == i & direction == \"Up\" & \n",
    "                                       gene %in% genes & Comparison == j)\n",
    "    p  <- df  %>% ggplot(aes(x = Dataset, y = reorder(gene, avg_log2FC))) + \n",
    "  geom_point(aes(size = -log(p_val_adj, base = 10), colour = avg_log2FC < 0)) + \n",
    "    scale_size_manual() + \n",
    "#facet_grid(rows = vars(test_type), cols = vars(dataset),\n",
    "#           scales = \"free\", space = \"free\") +\n",
    "scale_x_reordered() +\n",
    "      theme_bw()  + scale_size_continuous(range=c(1,4)) +\n",
    "  #scale_colour_gradient2(low = \"lightskyblue\", mid = \"lightsteelblue2\", high = \"salmon\") + \n",
    " theme(axis.text.x = element_blank(),\n",
    "       axis.ticks.x = element_blank()) + NoLegend() + ylab(\"\") + xlab(\"\") +\n",
    "    ggtitle(i)\n",
    "    plot_list[[i]]  <- p\n",
    "}  \n",
    "    \n",
    "pdf(file = paste0(\"../figures/DE_genes/pdf/\",j,\".pdf\"), width = 15, height = 18)\n",
    "title <- ggdraw() + \n",
    "  draw_label(\n",
    "   j,\n",
    "    fontface = 'bold',\n",
    "    x = 0,\n",
    "    hjust = 0\n",
    "  ) +\n",
    "  theme(\n",
    "    # add margin on the left of the drawing canvas,\n",
    "    # so title is aligned with left edge of first plot\n",
    "    plot.margin = margin(0, 0, 0, 7)\n",
    "  )\n",
    "plot_grid(\n",
    "  title, cowplot::plot_grid(plotlist = plot_list, ncol = 7) ,\n",
    "  ncol = 1,\n",
    "  # rel_heights values control vertical title margins\n",
    "  rel_heights = c(0.05,1)\n",
    ")\n",
    "dev.off()\n",
    "    \n",
    "\n"
   ]
  },
  {
   "cell_type": "code",
   "execution_count": null,
   "id": "da951f12",
   "metadata": {},
   "outputs": [],
   "source": [
    "all_fcs2  %>% dplyr::filter(Comparison == j)  %>% \n",
    "  ggplot(aes(x = avg_log2FC, y = -log10(p_val_adj), color = Dataset)) + \n",
    "  geom_point() + \n",
    "        theme_minimal() +\n",
    "        #geom_text_repel() +\n",
    "        #scale_color_manual(values=c(\"blue\", \"black\", \"red\")) +\n",
    "        geom_vline(xintercept=c(-0.6, 0.6), col=\"red\") +\n",
    "        geom_hline(yintercept=-log10(0.05), col=\"red\")"
   ]
  },
  {
   "cell_type": "code",
   "execution_count": null,
   "id": "1eb83b91",
   "metadata": {},
   "outputs": [],
   "source": [
    "library(ggrepel)\n",
    "# plot adding up all layers we have seen so far\n",
    "       "
   ]
  },
  {
   "cell_type": "code",
   "execution_count": null,
   "id": "e3cf12f2",
   "metadata": {},
   "outputs": [],
   "source": [
    "head(all_fcs2)"
   ]
  },
  {
   "cell_type": "code",
   "execution_count": null,
   "id": "0228d419",
   "metadata": {},
   "outputs": [],
   "source": [
    "gc()"
   ]
  },
  {
   "cell_type": "code",
   "execution_count": null,
   "id": "d385f83d",
   "metadata": {},
   "outputs": [],
   "source": [
    "rm(all_fcs)"
   ]
  },
  {
   "cell_type": "code",
   "execution_count": null,
   "id": "544e03d8",
   "metadata": {},
   "outputs": [],
   "source": [
    "ls()"
   ]
  },
  {
   "cell_type": "code",
   "execution_count": null,
   "id": "8b6b7680",
   "metadata": {},
   "outputs": [],
   "source": [
    "all_fcs3  <- all_fcs2  %>% \n",
    "dplyr::filter(avg_log2FC)>0  %>% \n",
    "mutate(avg_log2FC2 = ifelse(direction == \"Down\",avg_log2FC*-1,avg_log2FC))  %>% \n",
    "mutate(abs_avg_log2FC2 = abs(avg_log2FC2))  %>% \n",
    "mutate(label = ifelse(abs_avg_log2FC2>0.9&p_val_adj<0.05,gene,NA_character_))  %>% \n",
    "mutate(color = ifelse(abs_avg_log2FC2>0.6&p_val_adj<0.05,Dataset,\"grey\"))       "
   ]
  },
  {
   "cell_type": "code",
   "execution_count": null,
   "id": "e09099e5",
   "metadata": {},
   "outputs": [],
   "source": [
    "all_fcs3  %>% head"
   ]
  },
  {
   "cell_type": "code",
   "execution_count": null,
   "id": "429e4ea4",
   "metadata": {
    "scrolled": true
   },
   "outputs": [],
   "source": []
  },
  {
   "cell_type": "code",
   "execution_count": null,
   "id": "822a7c2b",
   "metadata": {},
   "outputs": [],
   "source": [
    "all_fcs3  <- all_fcs2  %>% \n",
    "dplyr::filter(avg_log2FC>0 & !grepl(gene, pattern = \"^MTRN\"))  %>% \n",
    "mutate(avg_log2FC2 = ifelse(direction == \"Down\",avg_log2FC*-1,avg_log2FC))  %>% \n",
    "mutate(abs_avg_log2FC2 = abs(avg_log2FC2))  %>% \n",
    "mutate(label = ifelse(abs_avg_log2FC2>1&p_val_adj<0.05,gene,\n",
    "                     ifelse(abs_avg_log2FC2>0.6&p_val_adj<10e-100,gene,NA_character_)))  %>% \n",
    "mutate(color = ifelse(abs_avg_log2FC2>0.6&p_val_adj<0.05,Dataset,\"grey\"))       "
   ]
  },
  {
   "cell_type": "code",
   "execution_count": null,
   "id": "6e31f952",
   "metadata": {},
   "outputs": [],
   "source": [
    "all_fcs3  %>% head"
   ]
  },
  {
   "cell_type": "code",
   "execution_count": null,
   "id": "b3f82da7",
   "metadata": {},
   "outputs": [],
   "source": [
    "all_fcs3  %>% dplyr::filter(Comparison == j)  %>% \n",
    "  ggplot(aes(x = avg_log2FC2, y = -log10(p_val_adj), color = color, label = label)) + \n",
    "  geom_point() + \n",
    "        theme_minimal() +\n",
    "        geom_text_repel() +\n",
    "        #scale_color_manual(values=c(\"blue\", \"black\", \"red\")) +\n",
    "        geom_vline(xintercept=c(-0.6, 0.6), col=\"red\") +\n",
    "        geom_hline(yintercept=-log10(0.05), col=\"red\")"
   ]
  },
  {
   "cell_type": "code",
   "execution_count": null,
   "id": "76f5760e",
   "metadata": {
    "scrolled": true
   },
   "outputs": [],
   "source": [
    "all_fcs3  %>% dplyr::filter(Comparison == j)  %>% \n",
    "  ggplot(aes(x = avg_log2FC2, y = -log10(p_val_adj), color = color, label = label)) + \n",
    "  geom_point() + \n",
    "        theme_minimal() +\n",
    "        geom_text_repel() +\n",
    "        #scale_color_manual(values=c(\"blue\", \"black\", \"red\")) +\n",
    "        geom_vline(xintercept=c(-0.6, 0.6), col=\"red\") +\n",
    "        geom_hline(yintercept=-log10(0.05), col=\"red\")"
   ]
  },
  {
   "cell_type": "code",
   "execution_count": null,
   "id": "c4027df2",
   "metadata": {},
   "outputs": [],
   "source": [
    "all_fcs3$Dataset  %>% table  %>% length"
   ]
  },
  {
   "cell_type": "code",
   "execution_count": null,
   "id": "6d49b85d",
   "metadata": {},
   "outputs": [],
   "source": [
    "options(repr.plot.width = 13, repr.plot.height = 7)\n",
    "all_fcs3  %>% dplyr::filter(Comparison == j)  %>% \n",
    "  ggplot(aes(x = avg_log2FC2, y = -log10(p_val_adj), color = color, label = label, shape = color)) + \n",
    "  geom_point() + \n",
    "        theme_minimal() +\n",
    "        geom_text_repel() +\n",
    "        scale_color_manual(values=c(scales::hue_pal()(17), \"grey88\")) +\n",
    "        geom_vline(xintercept=c(-0.6, 0.6), col=\"red\") +\n",
    "        geom_hline(yintercept=-log10(0.05), col=\"red\") +\n",
    "    scale_shape_manual(values = c(21:25,21:25,21:25,21:25))"
   ]
  },
  {
   "cell_type": "code",
   "execution_count": null,
   "id": "17f22ed5",
   "metadata": {},
   "outputs": [],
   "source": [
    "options(repr.plot.width = 13, repr.plot.height = 7)\n",
    "all_fcs3  %>% dplyr::filter(Comparison == j)  %>% \n",
    "  ggplot(aes(x = avg_log2FC2, y = -log10(p_val_adj), color = color, label = label, shape = color)) + \n",
    "  geom_point() + \n",
    "        theme_minimal() +\n",
    "        geom_text_repel() +\n",
    "        scale_color_manual(values=c(scales::hue_pal()(17), \"grey88\")) +\n",
    "        geom_vline(xintercept=c(-0.6, 0.6), col=\"red\") +\n",
    "        geom_hline(yintercept=-log10(0.05), col=\"red\") +\n",
    "    scale_shape_manual(values = c(21:25,21:25,21:25,21:25))"
   ]
  },
  {
   "cell_type": "code",
   "execution_count": null,
   "id": "86f86b2a",
   "metadata": {},
   "outputs": [],
   "source": [
    "all_fcs3$cd4_vs_cd8  <- substr(all_fcs3$Dataset,1,3)"
   ]
  },
  {
   "cell_type": "code",
   "execution_count": null,
   "id": "a96310fe",
   "metadata": {},
   "outputs": [],
   "source": [
    "j"
   ]
  },
  {
   "cell_type": "code",
   "execution_count": null,
   "id": "08190d02",
   "metadata": {},
   "outputs": [],
   "source": [
    "options(repr.plot.width = 18, repr.plot.height = 6)\n",
    "df10  <- all_fcs3  %>% dplyr::filter(Comparison == j) \n",
    "df10  %>%  ggplot(aes(x = avg_log2FC2, y = -log10(p_val_adj), color = color, label = label, shape = color)) + \n",
    "  geom_point() + \n",
    "        theme_minimal() +\n",
    "        geom_text_repel(size = 6) +\n",
    "facet_wrap(~cd4_vs_cd8) +\n",
    "        scale_color_manual(values=c(scales::hue_pal()(length(levels(factor(df10$color)))-1), \"grey88\")) +\n",
    "        geom_vline(xintercept=c(-0.6, 0.6), col=\"red\") +\n",
    "        geom_hline(yintercept=-log10(0.05), col=\"red\") +\n",
    "    scale_shape_manual(values = c(21:25,21:25,21:25,21:25)) + \n",
    "ggtitle(j) + ggtheme()"
   ]
  },
  {
   "cell_type": "code",
   "execution_count": null,
   "id": "709ebd48",
   "metadata": {},
   "outputs": [],
   "source": [
    "Comparison_list"
   ]
  },
  {
   "cell_type": "code",
   "execution_count": null,
   "id": "abc607ea",
   "metadata": {},
   "outputs": [],
   "source": [
    "all_fcs3  <- all_fcs2  %>% \n",
    "dplyr::filter(avg_log2FC>0 & !grepl(gene, pattern = \"^MTRN\"))  %>% \n",
    "mutate(avg_log2FC2 = ifelse(direction == \"Down\",avg_log2FC*-1,avg_log2FC))  %>% \n",
    "mutate(abs_avg_log2FC2 = abs(avg_log2FC2))  %>% \n",
    "mutate(label = ifelse(abs_avg_log2FC2>0.9&p_val_adj<0.05,gene,\n",
    "                     ifelse(abs_avg_log2FC2>0.6&p_val_adj<10e-100,gene,NA_character_)))  %>% \n",
    "mutate(color = ifelse(abs_avg_log2FC2>0.6&p_val_adj<0.05,Dataset,\"grey\"))       "
   ]
  },
  {
   "cell_type": "code",
   "execution_count": null,
   "id": "531a05cf",
   "metadata": {},
   "outputs": [],
   "source": [
    "all_fcs3$cd4_vs_cd8  <- substr(all_fcs3$Dataset,1,3)"
   ]
  },
  {
   "cell_type": "code",
   "execution_count": null,
   "id": "66fe9b12",
   "metadata": {},
   "outputs": [],
   "source": [
    "options(repr.plot.width = 22, repr.plot.height = 8)\n",
    "\n",
    "for(j in Comparison_list){\n",
    "    df10  <- all_fcs3  %>% dplyr::filter(Comparison == j) \n",
    "p  <- df10  %>%  ggplot(aes(x = avg_log2FC2, y = -log10(p_val_adj), color = color, label = label)) + \n",
    "  ggrastr::rasterize(geom_point(aes(shape = color), size = 2)) + \n",
    "        theme_minimal() +\n",
    "        geom_text_repel(size = 6) +\n",
    "facet_wrap(~cd4_vs_cd8) +\n",
    "        scale_color_manual(values=c(scales::hue_pal()(length(levels(factor(df10$color)))-1), \"grey88\")) +\n",
    "        geom_vline(xintercept=c(-0.6, 0.6), col=\"red\") +\n",
    "        geom_hline(yintercept=-log10(0.05), col=\"red\") +\n",
    "    \n",
    "    scale_shape_manual(values = c(21:25,21:25,21:25,21:25)) + \n",
    "ggtitle(j) + ggtheme()\n",
    "    print(p)\n",
    "}"
   ]
  },
  {
   "cell_type": "code",
   "execution_count": null,
   "id": "893825e8",
   "metadata": {},
   "outputs": [],
   "source": [
    "for(j in Comparison_list){\n",
    "    df10  <- all_fcs3  %>% dplyr::filter(Comparison == j) \n",
    " print(df10  %>%  group_by(Dataset)  %>% tally)\n",
    " \n",
    "}"
   ]
  },
  {
   "cell_type": "markdown",
   "id": "0838e896",
   "metadata": {},
   "source": [
    "### Correct Colors"
   ]
  },
  {
   "cell_type": "code",
   "execution_count": null,
   "id": "b79b3eaf",
   "metadata": {},
   "outputs": [],
   "source": [
    "colors_of_populations = c(\"Mazda RX4\" = \"red\", \"Mazda RX4 Wag\" = \"blue\", \"Datsun 710\" = \"green\")"
   ]
  },
  {
   "cell_type": "code",
   "execution_count": null,
   "id": "12f096b4",
   "metadata": {},
   "outputs": [],
   "source": [
    "levels(factor(all_fcs3$Dataset))"
   ]
  },
  {
   "cell_type": "code",
   "execution_count": null,
   "id": "26a1138c",
   "metadata": {},
   "outputs": [],
   "source": [
    "all_fcs3  <- all_fcs2  %>% \n",
    "dplyr::filter(avg_log2FC>0 & !grepl(gene, pattern = \"^MTRN\"))  %>% \n",
    "mutate(avg_log2FC2 = ifelse(direction == \"Down\",avg_log2FC*-1,avg_log2FC))  %>% \n",
    "mutate(abs_avg_log2FC2 = abs(avg_log2FC2))  %>% \n",
    "mutate(label = ifelse(abs_avg_log2FC2>0.585&p_val_adj<0.05,gene,\n",
    "                     ifelse(abs_avg_log2FC2>0.585&p_val_adj<10e-100,gene,NA_character_)))  %>% \n",
    "mutate(color = ifelse(abs_avg_log2FC2>0.585&p_val_adj<0.05,Dataset,\"grey\"))   %>% \n",
    "mutate(cd4_vs_cd8 = substr(Dataset,1,3))"
   ]
  },
  {
   "cell_type": "code",
   "execution_count": null,
   "id": "c889b96c",
   "metadata": {},
   "outputs": [],
   "source": [
    "colors_of_populations = c(\n",
    "    'cd4_l1_full' = \"#ffa66aff\",\n",
    "    'cd4_l2_subcluster'  = \"#ffa66aff\",\n",
    "    'cd4_l2_unc'  = \"#cd3333ff\",\n",
    "    'cd4_l3_isaghi'  = \"#a46464ff\",\n",
    "    'cd4_l3_naive'  = \"#a58413ff\",\n",
    "    'cd4_l3_nfkb'  = \"#a46c43ff\",\n",
    "    'cd4_l3_proliferating'  = \"#9b3097ff\", \n",
    "    'cd4_l3_temra'  = \"#7d252aff\",\n",
    "    'cd4_l3_tfh'  = \"#8e6a1dff\",\n",
    "    'cd4_l3_th1th17'  = \"#a94e4eff\",\n",
    "    'cd4_l3_th2'  = \"#b36672ff\",\n",
    "    'cd4_l3_treg'  = \"#ba6d8dff\",\n",
    "    'cd8_l1_full'  = \"#67934aff\",\n",
    "    'cd8_l2_nk'  = \"#105292ff\",\n",
    "    'cd8_l2_subcluster' = \"#67934aff\", \n",
    "    'cd8_l2_unc'  = \"#6d00c0ff\",\n",
    "    'cd8_l3_naive'  = \"#004455ff\",\n",
    "    'cd8_l3_prolif'  = \"#5f711aff\",\n",
    "    'cd8_l3_tcm'  = \"#427c39ff\",\n",
    "    'cd8_l3_tem'  = \"#004455ff\",\n",
    "    'cd8_l3_temra'  = \"#16481fff\",\n",
    "    \"grey\" = \"grey88\"\n",
    ")"
   ]
  },
  {
   "cell_type": "code",
   "execution_count": null,
   "id": "aa0b16b1",
   "metadata": {
    "scrolled": true
   },
   "outputs": [],
   "source": [
    "for(j in Comparison_list){\n",
    "    df10  <- all_fcs3  %>% dplyr::filter(Comparison == j & !(Dataset %in% c(\"cd4_l1_full\", \"cd8_l2_subcluster\", \n",
    "                                                                            \"cd4_l2_subcluster\", \"cd8_l1_full\",\n",
    "                                                                           \"cd8_l2_nk\"))) \n",
    "p  <- df10  %>%  ggplot(aes(x = avg_log2FC2, y = -log10(p_val_adj), color = color, label = label)) + \n",
    "  ggrastr::rasterize(geom_point(aes(shape = color), size = 2)) + \n",
    "        theme_minimal() +\n",
    "        geom_text_repel(size = 6) +\n",
    "facet_wrap(~cd4_vs_cd8) +\n",
    "        scale_color_manual(values=colors_of_populations) +\n",
    "        geom_vline(xintercept=c(-0.585, 0.585), col=\"red\") +\n",
    "        geom_hline(yintercept=-log10(0.05), col=\"red\") +\n",
    "    \n",
    "    scale_shape_manual(values = c(21:25,21:25,21:25,21:25)) + \n",
    "ggtitle(j) + ggtheme()\n",
    "    print(p)\n",
    "}"
   ]
  },
  {
   "cell_type": "code",
   "execution_count": null,
   "id": "7c82ca56",
   "metadata": {},
   "outputs": [],
   "source": []
  },
  {
   "cell_type": "code",
   "execution_count": null,
   "id": "3e9e1dc7",
   "metadata": {},
   "outputs": [],
   "source": [
    "all_fcs4  <- all_fcs2  %>% \n",
    "dplyr::filter(avg_log2FC>0 & !grepl(gene, pattern = \"^MTRN\"))  %>% \n",
    "mutate(avg_log2FC2 = ifelse(direction == \"Down\",avg_log2FC*-1,avg_log2FC))  %>% \n",
    "mutate(abs_avg_log2FC2 = abs(avg_log2FC2))  %>% \n",
    "mutate(label = ifelse(abs_avg_log2FC2>0.322&p_val_adj<0.05,gene,\n",
    "                     ifelse(abs_avg_log2FC2>0.322&p_val_adj<10e-100,gene,NA_character_)))  %>% \n",
    "mutate(color = ifelse(abs_avg_log2FC2>0.322&p_val_adj<0.05,Dataset,\"grey\"))   %>% \n",
    "mutate(cd4_vs_cd8 = substr(Dataset,1,3))"
   ]
  },
  {
   "cell_type": "code",
   "execution_count": null,
   "id": "8cd8687f",
   "metadata": {},
   "outputs": [],
   "source": [
    "options(repr.plot.width = 12, repr.plot.height = 6)\n",
    "\n",
    "for(j in Comparison_list){\n",
    "    df10  <- all_fcs4  %>% dplyr::filter(Comparison == j & (Dataset %in% c(\"cd4_l1_full\", \"cd8_l2_subcluster\", \n",
    "                                                                          \"cd8_l2_nk\"))) \n",
    "p  <- df10  %>%  ggplot(aes(x = avg_log2FC2, y = -log10(p_val_adj), color = color, label = label)) + \n",
    "  ggrastr::rasterize(geom_point(aes(shape = color), size = 2)) + \n",
    "        theme_minimal() +\n",
    "        geom_text_repel(size = 6) +\n",
    "        scale_color_manual(values=colors_of_populations) +\n",
    "        geom_vline(xintercept=c(-0.322, 0.322), col=\"red\") +\n",
    "        geom_hline(yintercept=-log10(0.05), col=\"red\") +\n",
    "    \n",
    "    scale_shape_manual(values = c(21:25,21:25,21:25,21:25)) + \n",
    "ggtitle(j) + ggtheme()\n",
    "    print(p)\n",
    "}"
   ]
  },
  {
   "cell_type": "markdown",
   "id": "3651b8d9",
   "metadata": {},
   "source": [
    "### Without Y genes"
   ]
  },
  {
   "cell_type": "code",
   "execution_count": null,
   "id": "b3b67395",
   "metadata": {},
   "outputs": [],
   "source": [
    "library(biomaRt)\n",
    "mart <- useMart(biomart=\"ensembl\", dataset=\"hsapiens_gene_ensembl\")"
   ]
  },
  {
   "cell_type": "code",
   "execution_count": null,
   "id": "5e8c2d68",
   "metadata": {},
   "outputs": [],
   "source": [
    "results <- getBM(attributes = c(\"chromosome_name\", \"hgnc_symbol\"),\n",
    "           filters = \"chromosome_name\", values = \"Y\", mart = mart)"
   ]
  },
  {
   "cell_type": "code",
   "execution_count": null,
   "id": "a2d142cf",
   "metadata": {
    "scrolled": true
   },
   "outputs": [],
   "source": [
    "results"
   ]
  },
  {
   "cell_type": "code",
   "execution_count": null,
   "id": "7d49f89c",
   "metadata": {},
   "outputs": [],
   "source": [
    "all_fcs4  <- all_fcs2  %>% \n",
    "dplyr::filter(avg_log2FC>0 \n",
    "              & !grepl(gene, pattern = \"^MTRN\")\n",
    "             & !grepl(gene, pattern = \"^HLA-\")\n",
    "             & !grepl(gene, pattern = \"orf\")\n",
    "             & !grepl(gene, pattern = \"^AP0\")\n",
    "             & !grepl(gene, pattern = \"^H1-\"))  %>% \n",
    "dplyr::filter(!(gene %in% results$hgnc_symbol))  %>% \n",
    "mutate(avg_log2FC2 = ifelse(direction == \"Down\",avg_log2FC*-1,avg_log2FC))  %>% \n",
    "mutate(abs_avg_log2FC2 = abs(avg_log2FC2))  %>% \n",
    "mutate(label = ifelse(abs_avg_log2FC2>0.322&p_val_adj<0.05,gene,\n",
    "                     ifelse(abs_avg_log2FC2>0.322&p_val_adj<10e-100,gene,NA_character_)))  %>% \n",
    "mutate(color = ifelse(abs_avg_log2FC2>0.322&p_val_adj<0.05,Dataset,\"grey\"))   %>% \n",
    "mutate(cd4_vs_cd8 = substr(Dataset,1,3))"
   ]
  },
  {
   "cell_type": "code",
   "execution_count": null,
   "id": "d8b9b4e1",
   "metadata": {},
   "outputs": [],
   "source": [
    "all_fcs4  %>% dplyr::filter(gene == \"ASCL2\")"
   ]
  },
  {
   "cell_type": "code",
   "execution_count": null,
   "id": "e4cb3816",
   "metadata": {},
   "outputs": [],
   "source": [
    "options(repr.plot.width = 12, repr.plot.height = 6)\n",
    "\n",
    "for(j in Comparison_list){\n",
    "    df10  <- all_fcs4  %>% dplyr::filter(Comparison == j & (Dataset %in% c(\"cd4_l1_full\", \"cd8_l2_subcluster\"))) \n",
    "p  <- df10  %>%  ggplot(aes(x = avg_log2FC2, y = -log10(p_val_adj), color = color, label = label)) + \n",
    "  ggrastr::rasterize(geom_point(aes(shape = color), size = 2), dpi = 300) + \n",
    "        theme_minimal() +\n",
    "        geom_vline(xintercept=c(-0.322, 0.322), col=\"red\") +\n",
    "        geom_hline(yintercept=-log10(0.05), col=\"red\") +geom_text_repel(size = 3) +\n",
    "        scale_color_manual(values=colors_of_populations) +\n",
    "        scale_shape_manual(values = c(21:25,21:25,21:25,21:25)) + \n",
    "ggtitle(j) + ggtheme()\n",
    "    print(p)\n",
    "    ggsave(paste0(\"../figures/volcano/cd4_and_cd8_\",j,\".svg\"), width = 10, height = 6)\n",
    "}"
   ]
  },
  {
   "cell_type": "code",
   "execution_count": null,
   "id": "0b85f0dc",
   "metadata": {},
   "outputs": [],
   "source": [
    "library(ggrepel)"
   ]
  },
  {
   "cell_type": "code",
   "execution_count": null,
   "id": "bcf99c64",
   "metadata": {},
   "outputs": [],
   "source": [
    "all_fcs5  <- all_fcs2  %>% \n",
    "dplyr::filter(avg_log2FC>0 \n",
    "              & !grepl(gene, pattern = \"^MTRN\")\n",
    "             & !grepl(gene, pattern = \"^HLA-\")\n",
    "             & !grepl(gene, pattern = \"orf\")\n",
    "             & !grepl(gene, pattern = \"^AP0\")\n",
    "             & !grepl(gene, pattern = \"^H1-\"))  %>% \n",
    "dplyr::filter(!(gene %in% results$hgnc_symbol))  %>% \n",
    "mutate(avg_log2FC2 = ifelse(direction == \"Down\",avg_log2FC*-1,avg_log2FC))  %>% \n",
    "mutate(abs_avg_log2FC2 = abs(avg_log2FC2))  %>% \n",
    "mutate(label = ifelse(abs_avg_log2FC2>0.2&p_val_adj<0.05,gene,\n",
    "                     ifelse(abs_avg_log2FC2>0.2&p_val_adj<10e-100,gene,NA_character_)))  %>% \n",
    "mutate(color = ifelse(abs_avg_log2FC2>0.2&p_val_adj<0.05,Dataset,\"grey\"))   %>% \n",
    "mutate(cd4_vs_cd8 = substr(Dataset,1,3))"
   ]
  },
  {
   "cell_type": "code",
   "execution_count": null,
   "id": "590a7ec5",
   "metadata": {
    "scrolled": false
   },
   "outputs": [],
   "source": [
    "options(repr.plot.width = 12, repr.plot.height = 6)\n",
    "\n",
    "for(j in Comparison_list){\n",
    "    df10  <- all_fcs5 %>% dplyr::filter(Comparison == j & (Dataset %in% c(\"cd4_l3_treg\"))) \n",
    "p  <- df10  %>%  ggplot(aes(x = avg_log2FC2, y = -log10(p_val_adj), color = color, label = label)) + \n",
    "  ggrastr::rasterize(geom_point(aes(shape = color), size = 2), dpi = 300) + \n",
    "        theme_minimal() +\n",
    "        geom_vline(xintercept=c(-0.2, 0.2), col=\"red\") +\n",
    "        geom_hline(yintercept=-log10(0.05), col=\"red\") +geom_text_repel(size = 6, max.overlaps = 15) +\n",
    "        scale_color_manual(values=c(\"#ff5599ff\",\"grey88\")) +\n",
    "        scale_shape_manual(values = c(21:25,21:25,21:25,21:25)) + \n",
    "ggtitle(j) + ggtheme()\n",
    "    print(p)\n",
    "    ggsave(paste0(\"../figures/volcano/treg_\",j,\".svg\"), width = 10, height = 6)\n",
    "}"
   ]
  },
  {
   "cell_type": "code",
   "execution_count": null,
   "id": "6169d125",
   "metadata": {},
   "outputs": [],
   "source": [
    "for(j in Comparison_list){\n",
    "    df10  <- all_fcs5 %>% dplyr::filter(Comparison == j & (Dataset %in% c(\"cd8_l2_unc\"))) \n",
    "p  <- df10  %>%  ggplot(aes(x = avg_log2FC2, y = -log10(p_val_adj), color = color, label = label)) + \n",
    "  ggrastr::rasterize(geom_point(aes(shape = color), size = 2), dpi = 300) + \n",
    "        theme_minimal() +\n",
    "        geom_vline(xintercept=c(-0.2, 0.2), col=\"red\") +\n",
    "        geom_hline(yintercept=-log10(0.05), col=\"red\") +geom_text_repel(size = 6) +\n",
    "        scale_color_manual(values=c(\"#306aa3ff\",\"grey88\")) +\n",
    "        scale_shape_manual(values = c(21:25,21:25,21:25,21:25)) + \n",
    "ggtitle(j) + ggtheme()\n",
    "    print(p)\n",
    "    ggsave(paste0(\"../figures/volcano/unc_\",j,\".svg\"), width = 10, height = 6)\n",
    "}"
   ]
  },
  {
   "cell_type": "code",
   "execution_count": null,
   "id": "df55ab86",
   "metadata": {},
   "outputs": [],
   "source": [
    "cd4  <- readRDS(\"../data/processed/L1/cd4_l1_full_filt.rds\")\n",
    "\n",
    "avgexp = AggregateExpression(subset(cd4, Experiment_ID %in% c(\"Exp16\",\"Exp18\",\"Exp19\",\"Exp20\")), \n",
    "                             return.seurat = F, group.by = \"Patient_Time\", \n",
    "                          assay = \"RNA\")"
   ]
  },
  {
   "cell_type": "code",
   "execution_count": null,
   "id": "ba0ae7fe",
   "metadata": {},
   "outputs": [],
   "source": []
  },
  {
   "cell_type": "code",
   "execution_count": null,
   "id": "72950151",
   "metadata": {},
   "outputs": [],
   "source": [
    "avgexp  <- NormalizeData(avgexp)\n",
    "avgexp  <- ScaleData(avgexp)"
   ]
  },
  {
   "cell_type": "code",
   "execution_count": null,
   "id": "25780388",
   "metadata": {},
   "outputs": [],
   "source": [
    "dir.create(\"../figures/volcano\")"
   ]
  },
  {
   "cell_type": "code",
   "execution_count": null,
   "id": "e2f68e69",
   "metadata": {},
   "outputs": [],
   "source": [
    "options(repr.plot.width = 22, repr.plot.height = 8)\n",
    "\n",
    "for(j in Comparison_list){\n",
    "    df10  <- all_fcs4  %>% dplyr::filter(Comparison == j & !(Dataset %in% c(\"cd4_l1_full\", \"cd8_l2_subcluster\", \n",
    "                                                                            \"cd4_l2_subcluster\", \"cd8_l1_full\",\n",
    "                                                                           \"cd8_l2_nk\"))) \n",
    "p  <- df10  %>%  ggplot(aes(x = avg_log2FC2, y = -log10(p_val_adj), color = color, label = label)) + \n",
    "  ggrastr::rasterize(geom_point(aes(shape = color), size = 2)) + \n",
    "        theme_minimal() +\n",
    "        geom_text_repel(size = 6) +\n",
    "facet_wrap(~cd4_vs_cd8) +\n",
    "        scale_color_manual(values=colors_of_populations) +\n",
    "        geom_vline(xintercept=c(-0.322, 0.322), col=\"red\") +\n",
    "        geom_hline(yintercept=-log10(0.05), col=\"red\") +\n",
    "    \n",
    "    scale_shape_manual(values = c(21:25,21:25,21:25,21:25)) + \n",
    "ggtitle(j) + ggtheme()\n",
    "    print(p)\n",
    "    ggsave(paste0(\"../figures/volcano/all_populations_\",j,\".svg\"), width = 17, height = 6)\n",
    "}"
   ]
  }
 ],
 "metadata": {
  "kernelspec": {
   "display_name": "R",
   "language": "R",
   "name": "ir"
  },
  "language_info": {
   "codemirror_mode": "r",
   "file_extension": ".r",
   "mimetype": "text/x-r-source",
   "name": "R",
   "pygments_lexer": "r",
   "version": "4.4.2"
  },
  "toc": {
   "base_numbering": 1,
   "nav_menu": {},
   "number_sections": true,
   "sideBar": true,
   "skip_h1_title": false,
   "title_cell": "Table of Contents",
   "title_sidebar": "Contents",
   "toc_cell": false,
   "toc_position": {
    "height": "calc(100% - 180px)",
    "left": "10px",
    "top": "150px",
    "width": "393.767px"
   },
   "toc_section_display": true,
   "toc_window_display": true
  }
 },
 "nbformat": 4,
 "nbformat_minor": 5
}
