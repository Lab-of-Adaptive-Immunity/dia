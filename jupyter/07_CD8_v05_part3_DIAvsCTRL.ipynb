{
 "cells": [
  {
   "cell_type": "code",
   "execution_count": null,
   "id": "f55665e7",
   "metadata": {
    "scrolled": true
   },
   "outputs": [],
   "source": [
    "source(\"diabetes_analysis_v07.R\")"
   ]
  },
  {
   "cell_type": "code",
   "execution_count": null,
   "id": "2e509f1b",
   "metadata": {},
   "outputs": [],
   "source": [
    "rank_score_func <- function(df){\n",
    "df <- df %>% mutate(score = -1*log(p_val_adj+(10^-310))*avg_log2FC*(pct.1/(pct.2+10^-300)))\n",
    "return(df)\n",
    "}"
   ]
  },
  {
   "cell_type": "markdown",
   "id": "fc2994ab",
   "metadata": {},
   "source": [
    "# Analysis of subsets"
   ]
  },
  {
   "cell_type": "code",
   "execution_count": null,
   "id": "4fe2c36c",
   "metadata": {},
   "outputs": [],
   "source": [
    "cd8_l3_tem  <- readRDS(\"../data/processed/L3/cd8_l3_tem.rds\")\n",
    "cd8_l3_naive  <- readRDS(\"../data/processed/L3/cd8_l3_naive.rds\")\n",
    "cd8_l3_tcm  <- readRDS(\"../data/processed/L3/cd8_l3_tcm.rds\")\n",
    "cd8_l3_temra  <- readRDS(\"../data/processed/L3/cd8_l3_temra.rds\")"
   ]
  },
  {
   "cell_type": "code",
   "execution_count": null,
   "id": "77c474bb",
   "metadata": {},
   "outputs": [],
   "source": [
    "cd8_l3_prolif  <- readRDS(\"../data/processed/L3/cd8_l3_prolif.rds\")"
   ]
  },
  {
   "cell_type": "code",
   "execution_count": null,
   "id": "0dcc9a22",
   "metadata": {},
   "outputs": [],
   "source": [
    "cd8_l2_subcluster  <- readRDS(\"../data/processed/L2/cd8_l2_subcluster.rds\")"
   ]
  },
  {
   "cell_type": "code",
   "execution_count": null,
   "id": "e8592190",
   "metadata": {},
   "outputs": [],
   "source": [
    "cd8_l2_nk  <- readRDS(\"../data/processed/L2/cd8_l2_nk.rds\")\n",
    "cd8_l2_unc  <- readRDS(\"../data/processed/L2/cd8_l2_unc.rds\")"
   ]
  },
  {
   "cell_type": "code",
   "execution_count": null,
   "id": "a7ccec6b",
   "metadata": {},
   "outputs": [],
   "source": [
    "cd8_l1_full_filt  <- readRDS(\"../../240218_VN_Diabetes_V05/data/processed/L1/cd8_l1_full_filt.rds\")"
   ]
  },
  {
   "cell_type": "code",
   "execution_count": null,
   "id": "a68d36b7",
   "metadata": {},
   "outputs": [],
   "source": [
    "cd8_l1_full_filt@meta.data"
   ]
  },
  {
   "cell_type": "code",
   "execution_count": null,
   "id": "d1aea37a",
   "metadata": {
    "scrolled": true
   },
   "outputs": [],
   "source": [
    "DimPlot(cd8_l1_full_filt, group.by = \"annotations_l2\")"
   ]
  },
  {
   "cell_type": "code",
   "execution_count": null,
   "id": "a1779be6",
   "metadata": {},
   "outputs": [],
   "source": [
    "cd8_l3_list  <- list(cd8_l3_tem, cd8_l3_naive, cd8_l3_tcm, cd8_l3_temra, cd8_l3_prolif, \n",
    "                    cd8_l2_nk, cd8_l2_unc, cd8_l2_subcluster, cd8_l1_full_filt)\n",
    "\n",
    "names(cd8_l3_list) <- c(\"cd8_l3_tem\", \"cd8_l3_naive\", \"cd8_l3_tcm\", \"cd8_l3_temra\", \"cd8_l3_prolif\",\n",
    "                       \"cd8_l2_nk\", \"cd8_l2_unc\", \"cd8_l2_subcluster\", \"cd8_l1_full_filt\")"
   ]
  },
  {
   "cell_type": "code",
   "execution_count": null,
   "id": "bcc2dc45",
   "metadata": {},
   "outputs": [],
   "source": [
    "cd8_l2_unc"
   ]
  },
  {
   "cell_type": "code",
   "execution_count": null,
   "id": "32c7f5f9",
   "metadata": {},
   "outputs": [],
   "source": [
    "cd8_l3_list[[1]][[\"Antibodies\"]]"
   ]
  },
  {
   "cell_type": "code",
   "execution_count": null,
   "id": "d5ffffb7",
   "metadata": {},
   "outputs": [],
   "source": [
    " x[[\"PTPRC\"]]\n",
    "    "
   ]
  },
  {
   "cell_type": "code",
   "execution_count": null,
   "id": "b3f2c812",
   "metadata": {},
   "outputs": [],
   "source": [
    "cd8_l3_prolif"
   ]
  },
  {
   "cell_type": "code",
   "execution_count": null,
   "id": "e2288178",
   "metadata": {},
   "outputs": [],
   "source": [
    "for(i in 1:length(cd8_l3_list)){\n",
    "    x  <- cd8_l3_list[[i]]\n",
    "    DefaultAssay(x)  <- \"RNA\"\n",
    "    x[['Antibodies']]  <- NULL\n",
    "    x[['refAssay']]  <- NULL\n",
    "    x[['prediction.score.celltype.l1']]  <- NULL\n",
    "    x[['prediction.score.celltype.l2']]  <- NULL\n",
    "    x[['prediction.score.celltype.l3']]  <- NULL\n",
    "    x[['pathwayswmean']]  <- NULL\n",
    "    x[['CollecTRI']]  <- NULL\n",
    "    \n",
    "    x$barcode  <- colnames(x)\n",
    "    if(grepl(names(cd8_l3_list)[i], pattern = \"_l3\")){\n",
    "        x  <- subset(x, barcode %in% sample(colnames(x), size = 2000))\n",
    "        } else {\n",
    "        x  <- subset(x, barcode %in% sample(colnames(x), size = 7000))\n",
    "          }\n",
    "    saveRDS(x,paste0(\"../data/processed/diet/\",names(cd8_l3_list)[i],\".rds\"))\n",
    "}"
   ]
  },
  {
   "cell_type": "markdown",
   "id": "afb4e624",
   "metadata": {},
   "source": [
    "# Plot of Unconventional populations"
   ]
  },
  {
   "cell_type": "code",
   "execution_count": null,
   "id": "def62c01",
   "metadata": {},
   "outputs": [],
   "source": [
    "options(repr.plot.width = 6, repr.plot.height = 6)\n",
    "DimPlot(cd8_l1_full_filt, raster = T, pt.size = 2, group.by = \"annotations_l2\", cols = c(\"dodgerblue3\",\"grey88\",\"grey88\",\"grey88\",\"grey88\",\"grey88\",\n",
    "                                                                c(scales::hue_pal() (8))[c(7,8)]\n",
    ")) + NoLegend()\n",
    "\n",
    "\n",
    "ggsave(filename = paste0(paste0(\"../figures/Dimplots_unconventional/unconventional_cd8.png\")), width = 12, height = 12, units = \"cm\")\n",
    "ggsave(filename = paste0(paste0(\"../figures/Dimplots_unconventional/unconventional_cd8.svg\")), width = 12, height = 12, units = \"cm\")"
   ]
  },
  {
   "cell_type": "code",
   "execution_count": null,
   "id": "d7865acc",
   "metadata": {},
   "outputs": [],
   "source": [
    "cd8_l1_full_filt$annotations_l2  %>% table"
   ]
  },
  {
   "cell_type": "code",
   "execution_count": null,
   "id": "dba22da4",
   "metadata": {},
   "outputs": [],
   "source": [
    "Idents(cd8_l1_full_filt)  <- cd8_l1_full_filt$annotations_l2\n",
    "mrk1  <- FindMarkers(cd8_l1_full_filt, `ident.1` = \"CD8 Unconventional T cells---gd T cells\")\n",
    "mrk2  <- FindMarkers(cd8_l1_full_filt, `ident.1` = \"CD8 Unconventional T cells---MAIT cells\")\n",
    "mrk3  <- FindMarkers(cd8_l1_full_filt, `ident.1` = \"CD8 NK cells---NK cells\")\n"
   ]
  },
  {
   "cell_type": "code",
   "execution_count": null,
   "id": "53ea68fd",
   "metadata": {
    "scrolled": true
   },
   "outputs": [],
   "source": [
    "mrk3"
   ]
  },
  {
   "cell_type": "code",
   "execution_count": null,
   "id": "2affbb8e",
   "metadata": {},
   "outputs": [],
   "source": [
    "markers  <- rev(c(\"CD3D\",\"TRAC\", \"TRGC1\", 'TRDC',\"NKG7\",\"CXCR6\",\n",
    "                  \"LTB\",\"FCER1G\",\"IL7R\",\n",
    "                  \"PTGDS\",\"CCL4\",\"GNLY\",\"KLRB1\",\n",
    "                  \"CD8A\",\"CD8B\",\"NCR1\",\"ZBTB16\",\n",
    "                  \"GZMK\",\"GZMB\",\n",
    "                 \"KLRG1\",\n",
    "                  \"TNF\",\"CX3CR1\"))"
   ]
  },
  {
   "cell_type": "code",
   "execution_count": null,
   "id": "f6c893ca",
   "metadata": {
    "scrolled": true
   },
   "outputs": [],
   "source": [
    "avgexp = AverageExpression(cd8_l1_full_filt, features = markers,\n",
    "                           return.seurat = F, group.by = \"annotations_l2\", \n",
    "                          assay = \"RNA\")"
   ]
  },
  {
   "cell_type": "code",
   "execution_count": null,
   "id": "14b1dfc7",
   "metadata": {},
   "outputs": [],
   "source": [
    "options(repr.plot.width = 9.5, repr.plot.height = 3.5)\n",
    "pheatmap(t(avgexp$RNA)[c(1,7,8,6,5,4,2,3),], main = \"\", \n",
    "         scale = \"column\", cluster_cols = T, cluster_rows = F,\n",
    "        color=colorRampPalette(c(\"dodgerblue\", \"grey95\", \"indianred2\"))(50), \n",
    "         border_color = \"white\",\n",
    "                  fontsize = 12)"
   ]
  },
  {
   "cell_type": "code",
   "execution_count": null,
   "id": "ce8ad6f1",
   "metadata": {},
   "outputs": [],
   "source": [
    "options(repr.plot.width = 9.5, repr.plot.height = 3.5)\n",
    "pheatmap(t(avgexp$RNA)[c(1,7,8,6,5,4,2,3),], main = \"\", \n",
    "         scale = \"column\", cluster_cols = T, cluster_rows = F,\n",
    "        color=colorRampPalette(c(\"dodgerblue\", \"grey95\", \"indianred2\"))(50), \n",
    "         border_color = \"white\",\n",
    "         filename = \"../figures/heatmaps/heatmap_cd8_unconventional.pdf\",\n",
    "         width = 8, height = 3,\n",
    "                  fontsize = 12) \n",
    "         "
   ]
  },
  {
   "cell_type": "code",
   "execution_count": null,
   "id": "632c40f0",
   "metadata": {},
   "outputs": [],
   "source": [
    "DefaultAssay(cd8_l1_full_filt)  <- \"CollecTRI\""
   ]
  },
  {
   "cell_type": "code",
   "execution_count": null,
   "id": "795b0773",
   "metadata": {},
   "outputs": [],
   "source": [
    "Idents(cd8_l1_full_filt)  <- cd8_l1_full_filt$annotations_manual"
   ]
  },
  {
   "cell_type": "code",
   "execution_count": null,
   "id": "84faa491",
   "metadata": {},
   "outputs": [],
   "source": [
    "mrk  <- FindAllMarkers(cd8_l1_full_filt, only.pos = T)"
   ]
  },
  {
   "cell_type": "code",
   "execution_count": null,
   "id": "c72c2443",
   "metadata": {
    "scrolled": true
   },
   "outputs": [],
   "source": [
    "mrk  %>% filter(cluster == \"CD8 T cells\")"
   ]
  },
  {
   "cell_type": "code",
   "execution_count": null,
   "id": "747bf5f9",
   "metadata": {},
   "outputs": [],
   "source": [
    "markers  <- rev(c(\"SPIC\",\"ZFPM1\",  \"CEBPZ\", \"EOMES\", 'SPI1',\"ZNF395\",\n",
    "                  \"RORC\",\"MAFB\",\"CREB3\",\n",
    "                  \"STAT5A\",\"NFIL3\",\"FOXA2\",\n",
    "                  \"CREB1\",\"NFKB1\",\"NFIL3\",\n",
    "                  \"FOXA2\",\"NR3C1\",\"BRD4\",\"ZBTB17\",\n",
    "                  \"ETS1\",\"HIF1A\",\"NFKB2\",\"ZBTB16\"\n",
    "                 ))"
   ]
  },
  {
   "cell_type": "code",
   "execution_count": null,
   "id": "00f16dbb",
   "metadata": {
    "scrolled": true
   },
   "outputs": [],
   "source": [
    "avgexp = AverageExpression(cd8_l1_full_filt, features = markers,\n",
    "                           return.seurat = F, group.by = \"annotations_l2\", \n",
    "                          assay = \"CollecTRI\")"
   ]
  },
  {
   "cell_type": "code",
   "execution_count": null,
   "id": "7917f53a",
   "metadata": {},
   "outputs": [],
   "source": [
    "options(repr.plot.width = 7, repr.plot.height = 3.5)\n",
    "pheatmap(t(avgexp$CollecTRI)[c(1,7,8,6,5,4,2,3),], main = \"\", \n",
    "         scale = \"column\", cluster_cols = T, cluster_rows = F,\n",
    "        color=colorRampPalette(c(\"dodgerblue\", \"grey95\", \"indianred2\"))(50), \n",
    "         border_color = \"white\",\n",
    "                  fontsize = 12)"
   ]
  },
  {
   "cell_type": "code",
   "execution_count": null,
   "id": "5528acd2",
   "metadata": {},
   "outputs": [],
   "source": [
    "options(repr.plot.width = 9.5, repr.plot.height = 3.5)\n",
    "pheatmap(t(avgexp$CollecTRI)[c(1,7,8,6,5,4,2,3),], main = \"\", \n",
    "         scale = \"column\", cluster_cols = T, cluster_rows = F,\n",
    "        color=colorRampPalette(c(\"dodgerblue\", \"grey95\", \"indianred2\"))(50), \n",
    "         border_color = \"white\",\n",
    "         filename = \"../figures/heatmaps/heatmap_cd8_unconventional_collectri.pdf\",\n",
    "         width = 8, height = 3,\n",
    "                  fontsize = 12) "
   ]
  },
  {
   "cell_type": "markdown",
   "id": "be2abf68",
   "metadata": {},
   "source": [
    "## Heatmaps of marker genes"
   ]
  },
  {
   "cell_type": "code",
   "execution_count": null,
   "id": "243cc376",
   "metadata": {
    "scrolled": true
   },
   "outputs": [],
   "source": [
    "options(repr.plot.width = 7, repr.plot.height = 6)\n",
    "DimPlot(cd8_l2_subcluster, group.by = \"annotations_manual\")"
   ]
  },
  {
   "cell_type": "code",
   "execution_count": null,
   "id": "8a5aa280",
   "metadata": {},
   "outputs": [],
   "source": [
    "markers  <- rev(c(\"CCR7\",\"SELL\",  \"TCF7\", \"LEF1\", 'BACH2',\n",
    "                  \"XCL1\",\"KLRC2\",\"IL2RB\",\"ZNF683\", \"ITGAM\",\n",
    "                  \"CXCR3\",\"ITGA4\",\"GZMK\", \"CD28\",\n",
    "                  \"CCL5\", \"EOMES\",\"ITGB1\", \"KLRB1\",\"KLRG1\",\n",
    "                  \"CCL4\",\"ZEB2\",\"PRF1\",\"TBX21\",\"TOX\",\"IFNG\",\n",
    "                  \"GZMA\",\"TNF\",\"GZMB\",\"CX3CR1\",\"HLA-DRA\", \n",
    "                  \"MKI67\", \"PCNA\", \"MCM6\" ))"
   ]
  },
  {
   "cell_type": "code",
   "execution_count": null,
   "id": "d1d9a1b4",
   "metadata": {
    "scrolled": true
   },
   "outputs": [],
   "source": [
    "avgexp = AverageExpression(cd8_l2_subcluster, features = markers,\n",
    "                           return.seurat = F, group.by = \"annotations_manual\", \n",
    "                          assay = \"RNA\")"
   ]
  },
  {
   "cell_type": "code",
   "execution_count": null,
   "id": "75c6aaf8",
   "metadata": {
    "scrolled": true
   },
   "outputs": [],
   "source": [
    "avgexp$RNA"
   ]
  },
  {
   "cell_type": "code",
   "execution_count": null,
   "id": "56f0f0d3",
   "metadata": {},
   "outputs": [],
   "source": [
    "options(repr.plot.width = 9.5, repr.plot.height = 2.5)\n",
    "pheatmap(t(avgexp$RNA[,c(2,1,4,3,5)]), main = \"\", \n",
    "         scale = \"column\", cluster_cols = F, cluster_rows = F,\n",
    "        color=colorRampPalette(c(\"dodgerblue\", \"grey95\", \"indianred2\"))(50), \n",
    "         border_color = \"white\",\n",
    "                  fontsize = 12)"
   ]
  },
  {
   "cell_type": "code",
   "execution_count": null,
   "id": "113e2362",
   "metadata": {},
   "outputs": [],
   "source": [
    "dir.create(\"../figures/heatmaps/\")"
   ]
  },
  {
   "cell_type": "code",
   "execution_count": null,
   "id": "b20438ee",
   "metadata": {},
   "outputs": [],
   "source": [
    "pheatmap(t(avgexp$RNA[,c(2,1,4,3,5)]), main = \"\", \n",
    "         scale = \"column\", cluster_cols = F, cluster_rows = F,\n",
    "        color=colorRampPalette(c(\"dodgerblue\", \"grey95\", \"indianred2\"))(50), \n",
    "         border_color = \"white\", filename = \"../figures/heatmaps/heatmap_cd8_l2.pdf\",\n",
    "         width = 8, height = 3,\n",
    "                  fontsize = 9)"
   ]
  },
  {
   "cell_type": "markdown",
   "id": "7d28263a",
   "metadata": {},
   "source": [
    "## Genes in top populations"
   ]
  },
  {
   "cell_type": "code",
   "execution_count": null,
   "id": "ef533c1d",
   "metadata": {},
   "outputs": [],
   "source": [
    "full_bulk  <- AverageExpression(cd8_l1_full_filt, assays = \"integrated\", \n",
    "                                         return.seurat = T, group.by = \"annotations_l3\")"
   ]
  },
  {
   "cell_type": "code",
   "execution_count": null,
   "id": "332a9aaa",
   "metadata": {},
   "outputs": [],
   "source": [
    "full_bulk$annotations_l3  <- colnames(full_bulk)"
   ]
  },
  {
   "cell_type": "code",
   "execution_count": null,
   "id": "c67caa01",
   "metadata": {},
   "outputs": [],
   "source": [
    "avgexp = AverageExpression(cd8_l1_full_filt, features = str_to_upper(c(\"Ccr7\", \"Lef1\",\"Sell\", \"Tcf7\", \"Il7r\",  \n",
    "           \"Isg15\", \"Irf7\", \"Oas3\", \"Ifit3\", \"Mki67\", \"Pcna\", \"Mcm6\",\n",
    "            \"Klrg1\", \"Cxcr3\",\"Cxcr6\",\"Gzma\", \"Gzmk\", \"Cx3cr1\",\"Il2rb\", \"Ifng\",\n",
    "                                                                       \"Trgc1\",\"Tbx21\",\"Eomes\",\"Prdm1\",\"Il2\",\n",
    "                                                                       \"Tnf\", \n",
    "               \"Trdc\", \"Cd3d\", \"Cd8a\", \"Ncr1\", \"Klrb1\"\n",
    "                                             )), return.seurat = F, group.by = \"annotations_l3\", assays = \"RNA\")"
   ]
  },
  {
   "cell_type": "code",
   "execution_count": null,
   "id": "1b8f8727",
   "metadata": {},
   "outputs": [],
   "source": [
    "library(pheatmap)"
   ]
  },
  {
   "cell_type": "code",
   "execution_count": null,
   "id": "b311b676",
   "metadata": {},
   "outputs": [],
   "source": [
    "options(repr.plot.width = 9, repr.plot.height = 8)\n",
    "pheatmap(t(avgexp$RNA), main = \"\", scale = \"column\", cluster_cols = T, cluster_rows = F,\n",
    "        color=colorRampPalette(c(\"dodgerblue3\", \"grey95\", \"indianred2\"))(50), \n",
    "         border_color = \"white\",\n",
    "                  fontsize = 9)"
   ]
  },
  {
   "cell_type": "code",
   "execution_count": null,
   "id": "79b9d5d7",
   "metadata": {},
   "outputs": [],
   "source": [
    "options(repr.plot.width = 9, repr.plot.height = 10)\n",
    "pheatmap(t(avgexp$RNA), main = \"\", scale = \"column\", cluster_cols = T, cluster_rows = F,\n",
    "        color=colorRampPalette(c(\"dodgerblue3\", \"grey95\", \"indianred2\"))(50), \n",
    "         border_color = \"white\", filename = \"heatmap_cd8_l3.pdf\", width = 9, height = 8,\n",
    "                  fontsize = 9)"
   ]
  },
  {
   "cell_type": "markdown",
   "id": "95f16028",
   "metadata": {},
   "source": [
    "## Heatmap Dorothea"
   ]
  },
  {
   "cell_type": "code",
   "execution_count": null,
   "id": "3992badf",
   "metadata": {},
   "outputs": [],
   "source": [
    "cd8_l2_subcluster  <- readRDS(\"../data/processed/L2/cd8_l2_subcluster.rds\")"
   ]
  },
  {
   "cell_type": "code",
   "execution_count": null,
   "id": "ff4cc9c2",
   "metadata": {},
   "outputs": [],
   "source": [
    "cd8_l2_nk  <- readRDS(\"../data/processed/L2/cd8_l2_nk.rds\")\n",
    "cd8_l2_unc  <- readRDS(\"../data/processed/L2/cd8_l2_unc.rds\")"
   ]
  },
  {
   "cell_type": "code",
   "execution_count": null,
   "id": "d1196acf",
   "metadata": {},
   "outputs": [],
   "source": [
    "cd8_l3_tem  <- readRDS(\"../data/processed/L3/cd8_l3_tem.rds\")\n",
    "cd8_l3_naive  <- readRDS(\"../data/processed/L3/cd8_l3_naive.rds\")\n",
    "cd8_l3_tcm  <- readRDS(\"../data/processed/L3/cd8_l3_tcm.rds\")\n",
    "cd8_l3_temra  <- readRDS(\"../data/processed/L3/cd8_l3_temra.rds\")\n",
    "cd8_l3_prolif  <- readRDS(\"../data/processed/L3/cd8_l3_prolif.rds\")"
   ]
  },
  {
   "cell_type": "code",
   "execution_count": null,
   "id": "4b862e6e",
   "metadata": {},
   "outputs": [],
   "source": [
    "cd8_l2_subcluster  <- readRDS(\"../data/processed/L2/cd8_l2_subcluster.rds\")\n",
    "cd8_l2_nk  <- readRDS(\"../data/processed/L2/cd8_l2_nk.rds\")\n",
    "cd8_l2_unc  <- readRDS(\"../data/processed/L2/cd8_l2_unc.rds\")\n",
    "cd8_l1_full_filt  <- readRDS(\"../data/processed/L1/cd8_l1_full_filt.rds\")"
   ]
  },
  {
   "cell_type": "code",
   "execution_count": null,
   "id": "c96d176b",
   "metadata": {},
   "outputs": [],
   "source": [
    "DefaultAssay(cd8_l2_subcluster)  <- \"CollecTRI\""
   ]
  },
  {
   "cell_type": "code",
   "execution_count": null,
   "id": "7477250a",
   "metadata": {},
   "outputs": [],
   "source": [
    "Idents(cd8_l2_subcluster)  <- cd8_l2_subcluster$annotations_manual"
   ]
  },
  {
   "cell_type": "code",
   "execution_count": null,
   "id": "855c0208",
   "metadata": {},
   "outputs": [],
   "source": [
    "coll  <- FindAllMarkers(cd8_l2_subcluster, only.pos = T)"
   ]
  },
  {
   "cell_type": "code",
   "execution_count": null,
   "id": "2d54b279",
   "metadata": {
    "scrolled": true
   },
   "outputs": [],
   "source": [
    "genes  <- coll  %>% group_by(cluster)  %>% slice_head(n = 10)  %>% pull(gene)"
   ]
  },
  {
   "cell_type": "code",
   "execution_count": null,
   "id": "fed2300a",
   "metadata": {},
   "outputs": [],
   "source": [
    "dir.create(\"../tables/cd8/collectri_annotations/\")"
   ]
  },
  {
   "cell_type": "code",
   "execution_count": null,
   "id": "c9615070",
   "metadata": {},
   "outputs": [],
   "source": [
    "write.csv(coll, file = \"../tables/cd8/collectri_annotations/cd8_l2_subcluster.csv\")"
   ]
  },
  {
   "cell_type": "code",
   "execution_count": null,
   "id": "34f85c5f",
   "metadata": {
    "scrolled": true
   },
   "outputs": [],
   "source": [
    "avgexp = AverageExpression(cd8_l2_subcluster, features = genes,\n",
    "                           return.seurat = F, group.by = \"annotations_manual\", \n",
    "                          assay = \"CollecTRI\")\n",
    "\n",
    "avgexp$CollecTRI"
   ]
  },
  {
   "cell_type": "code",
   "execution_count": null,
   "id": "be193c6c",
   "metadata": {},
   "outputs": [],
   "source": [
    "genes2  <- c('ZFP42',\n",
    "'KLF3',\n",
    "'STAT6',\n",
    "'ATF2',\n",
    "'NR4A2',\n",
    "'RBPJ',\n",
    "'JUND',\n",
    "'ATF3',\n",
    "'JUN',\n",
    "'NFAT5',\n",
    "'SMAD3',\n",
    "'ID3',\n",
    "'RELA',\n",
    "'STAT1',\n",
    "'NOTCH1',\n",
    "'FOS',\n",
    "'NFKB',\n",
    "'ZBTB16',\n",
    "'TCF7',\n",
    "'RORB',\n",
    "'CTCFL',\n",
    "'TCF4',\n",
    "'KLF2',\n",
    "'BACH2',\n",
    "'NR4A3',\n",
    "'CEBPZ',\n",
    "'ZNF395',\n",
    "'IRF5',\n",
    "'EOMES',\n",
    "'RUNX3',\n",
    "'STAT4',\n",
    "'RORC',\n",
    "'CEBPD',\n",
    "'IRF8',\n",
    "'TBX21',\n",
    "'RUNX1',\n",
    "'PRDM1',\n",
    "'ID2',\n",
    "'IRF6',\n",
    "'NFKB1',\n",
    "'RELB',\n",
    "'KLF13',\n",
    "'NFKB2',\n",
    "'NFKBIB',\n",
    "'CEBPA',\n",
    "'E2F4',\n",
    "'MYC',\n",
    "'TP53',\n",
    "'IRF2',\n",
    "'IRF7','LEF1','CTCF','ZEB1'\n",
    ")\n",
    "avgexp = AverageExpression(cd8_l2_subcluster, features = genes2,\n",
    "                           return.seurat = F, group.by = \"annotations_manual\", \n",
    "                          assay = \"CollecTRI\")"
   ]
  },
  {
   "cell_type": "code",
   "execution_count": null,
   "id": "d3f95ff6",
   "metadata": {},
   "outputs": [],
   "source": [
    "genes2  <- rev(c(\"TCF7\", \"LEF1\", \"CTCFL\", \"KLF2\",\"NR4A3\",\"BACH2\",\n",
    "             \"CTCF\",\"NOTCH1\",\"KLF3\",\"RBPJ\",\"SMAD3\",\"NFAT5\",\"ID3\",\n",
    "             \"STAT6\",\"FOS\",\"JUN\",\"RELB\",\"IRF6\",\"CEBPA\", \"CEBPD\",\n",
    "             \"TBX21\",\"PRDM1\",\"ZNF395\",\"ID2\",\"EOMES\",\"STAT4\",\n",
    "             \"RUNX3\",\"IRF2\",\"NFKB\",\"TP53\",\"MYC\",\"E2F4\",\"ZEB1\"\n",
    "))\n",
    "avgexp = AverageExpression(cd8_l2_subcluster, features = genes2,\n",
    "                           return.seurat = F, group.by = \"annotations_manual\", \n",
    "                          assay = \"CollecTRI\")"
   ]
  },
  {
   "cell_type": "code",
   "execution_count": null,
   "id": "4d8f7b96",
   "metadata": {},
   "outputs": [],
   "source": [
    "length(genes2)"
   ]
  },
  {
   "cell_type": "code",
   "execution_count": null,
   "id": "e5d3e685",
   "metadata": {},
   "outputs": [],
   "source": [
    "options(repr.plot.width = 9.5, repr.plot.height = 2.5)\n",
    "pheatmap(t(avgexp$CollecTRI[,c(2,1,4,3,5)]), main = \"\", \n",
    "         scale = \"column\", cluster_cols = F, cluster_rows = F,\n",
    "        color=colorRampPalette(c(\"dodgerblue\", \"grey95\", \"indianred2\"))(50), \n",
    "         border_color = \"white\",\n",
    "                  fontsize = 12)"
   ]
  },
  {
   "cell_type": "code",
   "execution_count": null,
   "id": "3f86bc9d",
   "metadata": {},
   "outputs": [],
   "source": [
    "pheatmap(t(avgexp$CollecTRI[,c(2,1,4,3,5)]), main = \"\", \n",
    "         scale = \"column\", cluster_cols = F, cluster_rows = F,\n",
    "        color=colorRampPalette(c(\"dodgerblue\", \"grey95\", \"indianred2\"))(50), \n",
    "         border_color = \"white\", filename = \"../figures/heatmaps/heatmap_cd8_l2_collecTRI.pdf\",\n",
    "         width = 8, height = 2,\n",
    "                  fontsize = 9)"
   ]
  },
  {
   "cell_type": "markdown",
   "id": "7d37d105",
   "metadata": {},
   "source": [
    "# Frequencies L2"
   ]
  },
  {
   "cell_type": "code",
   "execution_count": null,
   "id": "f510f016",
   "metadata": {
    "scrolled": true
   },
   "outputs": [],
   "source": [
    "df4  <- create_df4(cd8_l2_subcluster)"
   ]
  },
  {
   "cell_type": "code",
   "execution_count": null,
   "id": "649bbfe8",
   "metadata": {
    "scrolled": true
   },
   "outputs": [],
   "source": [
    "df4"
   ]
  },
  {
   "cell_type": "code",
   "execution_count": null,
   "id": "29abd4f8",
   "metadata": {},
   "outputs": [],
   "source": [
    " p5  <-   df4  %>% \n",
    "filter(Experiment_ID %in% c(\"Exp16\", \"Exp18\", \"Exp19\", \"Exp20\"))  %>% \n",
    "  ggplot(aes(x = Condition, y = freq*100)) + # you can change the x to whatever variable you're interested in\n",
    "   geom_violin(alpha = 0.3, aes(fill = Condition)) +\n",
    "  stat_summary(fun = \"median\",\n",
    "               geom = \"crossbar\", \n",
    "               width = 0.75,\n",
    "               color = \"grey30\") +\n",
    "   scale_fill_manual(values = c(\"#1874cdff\",  \"#ee6363ff\", \"#c41515ff\",\"#eeb4b4ff\")) +\n",
    "scale_color_manual(values = c(\"dodgerblue3\",  \"#e54c4cff\", \"#aa2a2aff\",\"#e88989ff\")) +\n",
    "geom_beeswarm(size = 3, cex = 3, \n",
    "              color = \"black\", method = \"center\",\n",
    "             aes(fill = Condition), shape = 21) +\n",
    "   facet_wrap(~annotations_manual, scales = \"free\", ncol = 9) +\n",
    "  ylab(\"Frequency\") +\n",
    "  xlab(\"Condition\") +\n",
    "  theme_classic() +\n",
    "ggtheme() +\n",
    "ggpubr::stat_compare_means(label.x= 1.5, \n",
    "                           size = 7, vjust = -1, label = \"p.format\", comparisons = list(c(1,2)))+\n",
    "ggtheme() +\n",
    " scale_y_continuous(limits = c(0,NA), expand = c(0.05,0,0,10)) +\n",
    "  theme(strip.background = element_blank(), panel.grid = element_blank()) + \n",
    "  theme(axis.text = element_text(color = \"black\"),\n",
    "        axis.text.x = element_text(angle = 90),\n",
    "       axis.line = element_line(color = \"black\", size = 0.5),\n",
    "        axis.ticks.x = element_blank()) + NoLegend() + ggtitle(\"Final data all groups\")\n",
    "ncols = length(levels(factor(df4$annotations_manual)))"
   ]
  },
  {
   "cell_type": "code",
   "execution_count": null,
   "id": "8390d9b2",
   "metadata": {},
   "outputs": [],
   "source": [
    "options(repr.plot.width = 9, repr.plot.height = 7)\n",
    "p5"
   ]
  },
  {
   "cell_type": "code",
   "execution_count": null,
   "id": "d1f04566",
   "metadata": {},
   "outputs": [],
   "source": [
    "ggsave(\"../figures/subset_characterization/cd8_subsets_in_condition.svg\",\n",
    "       width = 25, height = 12, units = \"cm\")"
   ]
  },
  {
   "cell_type": "code",
   "execution_count": null,
   "id": "028aefb1",
   "metadata": {},
   "outputs": [],
   "source": [
    "    p5  <-   df4  %>% \n",
    "filter(Experiment_ID %in% c(\"Exp16\", \"Exp18\", \"Exp19\", \"Exp20\"))  %>% \n",
    "dplyr::filter(Patient_ID != \"116\")  %>% \n",
    "  ggplot(aes(x = Condition, y = freq*100)) + # you can change the x to whatever variable you're interested in\n",
    "   geom_violin(alpha = 0.3, aes(fill = Condition)) +\n",
    "  stat_summary(fun = \"median\",\n",
    "               geom = \"crossbar\", \n",
    "               width = 0.75,\n",
    "               color = \"grey30\") +\n",
    "   scale_fill_manual(values = c(\"#1874cdff\",  \"#ee6363ff\", \"#c41515ff\",\"#eeb4b4ff\")) +\n",
    "scale_color_manual(values = c(\"dodgerblue3\",  \"#e54c4cff\", \"#aa2a2aff\",\"#e88989ff\")) +\n",
    "geom_beeswarm(size = 3, cex = 3, \n",
    "              color = \"black\", method = \"center\",\n",
    "             aes(fill = Condition), shape = 21) +\n",
    "   facet_wrap(~annotations_manual, scales = \"free\", ncol = 9) +\n",
    "  ylab(\"Frequency\") +\n",
    "  xlab(\"Condition\") +\n",
    "  theme_classic() +\n",
    "ggtheme() +\n",
    "ggpubr::stat_compare_means(label.x= 1.5, \n",
    "                           size = 7, vjust = -1, label = \"p.format\", comparisons = list(c(2,3)), paired = TRUE)+\n",
    "ggtheme() +\n",
    " scale_y_continuous(limits = c(0,NA), expand = c(0.05,0,0,10)) +\n",
    "  theme(strip.background = element_blank(), panel.grid = element_blank()) + \n",
    "  theme(axis.text = element_text(color = \"black\"),\n",
    "        axis.text.x = element_text(angle = 90),\n",
    "       axis.line = element_line(color = \"black\", size = 0.5),\n",
    "        axis.ticks.x = element_blank()) + NoLegend() + ggtitle(\"Final data all groups\")\n",
    "ncols = length(levels(factor(df4$annotations_manual)))"
   ]
  },
  {
   "cell_type": "code",
   "execution_count": null,
   "id": "004de707",
   "metadata": {},
   "outputs": [],
   "source": [
    "options(repr.plot.width = 9, repr.plot.height = 7)\n",
    "p5"
   ]
  },
  {
   "cell_type": "markdown",
   "id": "ae2bee30",
   "metadata": {},
   "source": [
    "### Unconventional and L2"
   ]
  },
  {
   "cell_type": "code",
   "execution_count": null,
   "id": "1f9b19cf",
   "metadata": {},
   "outputs": [],
   "source": [
    "cd8_l1_full_filt$annotations_manual  %>% table"
   ]
  },
  {
   "cell_type": "code",
   "execution_count": null,
   "id": "1b5c7810",
   "metadata": {},
   "outputs": [],
   "source": [
    "cd8_l1_full_filt$annotations_manual  <- ifelse(cd8_l1_full_filt$annotations_manual == \"Unconventional T cells\",\n",
    "                                              cd8_l1_full_filt$annotations_l2, cd8_l1_full_filt$annotations_manual)"
   ]
  },
  {
   "cell_type": "code",
   "execution_count": null,
   "id": "775761ab",
   "metadata": {},
   "outputs": [],
   "source": [
    "DimPlot(cd8_l1_full_filt, group.by = \"annotations_manual\")"
   ]
  },
  {
   "cell_type": "code",
   "execution_count": null,
   "id": "4afe3cdb",
   "metadata": {},
   "outputs": [],
   "source": [
    "grep(rownames(cd8_l1_full_filt@assays$RNA@counts), pattern = \"TRG\", value = T)"
   ]
  },
  {
   "cell_type": "code",
   "execution_count": null,
   "id": "d3432da1",
   "metadata": {},
   "outputs": [],
   "source": [
    "dir.create(\"../figures/Feature_unconventional/\")\n",
    "FeaturePlot(cd8_l1_full_filt, features = c(\"TRGV9\"), min.cutoff = 0, max.cutoff = 1, \n",
    "            raster = T, raster.dpi = c(900,900), pt.size = 2)"
   ]
  },
  {
   "cell_type": "code",
   "execution_count": null,
   "id": "a8d6ef4d",
   "metadata": {},
   "outputs": [],
   "source": [
    "ggsave(filename = paste0(paste0(\"../figures/Feature_unconventional/Trgv9_cd8.png\")), width = 14, height = 12, units = \"cm\")\n",
    "ggsave(filename = paste0(paste0(\"../figures/Feature_unconventional/Trgv9_cd8.svg\")), width = 14, height = 12, units = \"cm\")"
   ]
  },
  {
   "cell_type": "code",
   "execution_count": null,
   "id": "41ec55e7",
   "metadata": {},
   "outputs": [],
   "source": [
    "dir.create(\"../figures/Feature_unconventional/\")\n",
    "FeaturePlot(cd8_l1_full_filt, features = c(\"TRGC1\"), min.cutoff = 0, max.cutoff = 1, \n",
    "            raster = T, raster.dpi = c(900,900), pt.size = 2)"
   ]
  },
  {
   "cell_type": "code",
   "execution_count": null,
   "id": "c2791718",
   "metadata": {},
   "outputs": [],
   "source": [
    "ggsave(filename = paste0(paste0(\"../figures/Feature_unconventional/Trgc1_cd8.png\")), width = 14, height = 12, units = \"cm\")\n",
    "ggsave(filename = paste0(paste0(\"../figures/Feature_unconventional/Trgc1_cd8.svg\")), width = 14, height = 12, units = \"cm\")"
   ]
  },
  {
   "cell_type": "code",
   "execution_count": null,
   "id": "d0526352",
   "metadata": {},
   "outputs": [],
   "source": [
    "FeaturePlot(cd8_l1_full_filt, features = c(\"TRDC\"), min.cutoff = 0, max.cutoff = 2, \n",
    "            raster = T, raster.dpi = c(900,900), pt.size = 2)\n",
    "ggsave(filename = paste0(paste0(\"../figures/Feature_unconventional/Trdc_cd8.png\")), width = 14, height = 12, units = \"cm\")\n",
    "ggsave(filename = paste0(paste0(\"../figures/Feature_unconventional/Trdc_cd8.svg\")), width = 14, height = 12, units = \"cm\")"
   ]
  },
  {
   "cell_type": "code",
   "execution_count": null,
   "id": "9cc260b3",
   "metadata": {},
   "outputs": [],
   "source": [
    "FeaturePlot(cd8_l1_full_filt, features = c(\"TRDC\"), min.cutoff = 0, max.cutoff = 2)"
   ]
  },
  {
   "cell_type": "code",
   "execution_count": null,
   "id": "4d280be5",
   "metadata": {
    "scrolled": true
   },
   "outputs": [],
   "source": [
    "df4  <- create_df4(cd8_l1_full_filt)"
   ]
  },
  {
   "cell_type": "code",
   "execution_count": null,
   "id": "21ac068d",
   "metadata": {
    "scrolled": true
   },
   "outputs": [],
   "source": [
    "df4"
   ]
  },
  {
   "cell_type": "code",
   "execution_count": null,
   "id": "23cfa36a",
   "metadata": {},
   "outputs": [],
   "source": [
    " p5  <-   df4  %>% \n",
    "filter(Experiment_ID %in% c(\"Exp16\", \"Exp18\", \"Exp19\", \"Exp20\"))  %>% \n",
    "  ggplot(aes(x = Condition, y = freq*100)) + # you can change the x to whatever variable you're interested in\n",
    "   geom_violin(alpha = 0.3, aes(fill = Condition)) +\n",
    "  stat_summary(fun = \"median\",\n",
    "               geom = \"crossbar\", \n",
    "               width = 0.75,\n",
    "               color = \"grey30\") +\n",
    "   scale_fill_manual(values = c(\"#1874cdff\",  \"#ee6363ff\", \"#c41515ff\",\"#eeb4b4ff\")) +\n",
    "scale_color_manual(values = c(\"dodgerblue3\",  \"#e54c4cff\", \"#aa2a2aff\",\"#e88989ff\")) +\n",
    "geom_beeswarm(size = 3, cex = 3, \n",
    "              color = \"black\", method = \"center\",\n",
    "             aes(fill = Condition), shape = 21) +\n",
    "   facet_wrap(~annotations_manual, scales = \"free\", ncol = 9) +\n",
    "  ylab(\"Frequency\") +\n",
    "  xlab(\"Condition\") +\n",
    "  theme_classic() +\n",
    "ggtheme() +\n",
    "ggpubr::stat_compare_means(label.x= 1.5, \n",
    "                           size = 7, vjust = -1, label = \"p.format\", comparisons = list(c(1,2)))+\n",
    "ggtheme() +\n",
    " scale_y_continuous(limits = c(0,NA), expand = c(0.05,0,0,10)) +\n",
    "  theme(strip.background = element_blank(), panel.grid = element_blank()) + \n",
    "  theme(axis.text = element_text(color = \"black\"),\n",
    "        axis.text.x = element_text(angle = 90),\n",
    "       axis.line = element_line(color = \"black\", size = 0.5),\n",
    "        axis.ticks.x = element_blank()) + NoLegend() + ggtitle(\"Final data all groups\")\n",
    "ncols = length(levels(factor(df4$annotations_manual)))"
   ]
  },
  {
   "cell_type": "code",
   "execution_count": null,
   "id": "c1629e2a",
   "metadata": {},
   "outputs": [],
   "source": [
    "options(repr.plot.width = 9, repr.plot.height = 7)\n",
    "p5"
   ]
  },
  {
   "cell_type": "code",
   "execution_count": null,
   "id": "bc74b381",
   "metadata": {},
   "outputs": [],
   "source": [
    "ggsave(\"../figures/subset_characterization/cd8_unc_subsets_in_condition.svg\",\n",
    "       width = 18, height = 12, units = \"cm\")"
   ]
  },
  {
   "cell_type": "code",
   "execution_count": null,
   "id": "a9543009",
   "metadata": {},
   "outputs": [],
   "source": [
    "    p5  <-   df4  %>% \n",
    "filter(Experiment_ID %in% c(\"Exp16\", \"Exp18\", \"Exp19\", \"Exp20\"))  %>% \n",
    "dplyr::filter(Patient_ID != \"116\")  %>% \n",
    "  ggplot(aes(x = Condition, y = freq*100)) + # you can change the x to whatever variable you're interested in\n",
    "   geom_violin(alpha = 0.3, aes(fill = Condition)) +\n",
    "  stat_summary(fun = \"median\",\n",
    "               geom = \"crossbar\", \n",
    "               width = 0.75,\n",
    "               color = \"grey30\") +\n",
    "   scale_fill_manual(values = c(\"#1874cdff\",  \"#ee6363ff\", \"#c41515ff\",\"#eeb4b4ff\")) +\n",
    "scale_color_manual(values = c(\"dodgerblue3\",  \"#e54c4cff\", \"#aa2a2aff\",\"#e88989ff\")) +\n",
    "geom_beeswarm(size = 3, cex = 3, \n",
    "              color = \"black\", method = \"center\",\n",
    "             aes(fill = Condition), shape = 21) +\n",
    "   facet_wrap(~annotations_manual, scales = \"free\", ncol = 9) +\n",
    "  ylab(\"Frequency\") +\n",
    "  xlab(\"Condition\") +\n",
    "  theme_classic() +\n",
    "ggtheme() +\n",
    "ggpubr::stat_compare_means(label.x= 1.5, \n",
    "                           size = 7, vjust = -1, label = \"p.format\", comparisons = list(c(2,3)), paired = TRUE)+\n",
    "ggtheme() +\n",
    " scale_y_continuous(limits = c(0,NA), expand = c(0.05,0,0,10)) +\n",
    "  theme(strip.background = element_blank(), panel.grid = element_blank()) + \n",
    "  theme(axis.text = element_text(color = \"black\"),\n",
    "        axis.text.x = element_text(angle = 90),\n",
    "       axis.line = element_line(color = \"black\", size = 0.5),\n",
    "        axis.ticks.x = element_blank()) + NoLegend() + ggtitle(\"Final data all groups\")\n",
    "ncols = length(levels(factor(df4$annotations_manual)))"
   ]
  },
  {
   "cell_type": "code",
   "execution_count": null,
   "id": "7629f4ca",
   "metadata": {},
   "outputs": [],
   "source": [
    "options(repr.plot.width = 9, repr.plot.height = 7)\n",
    "p5"
   ]
  },
  {
   "cell_type": "code",
   "execution_count": null,
   "id": "6a035764",
   "metadata": {},
   "outputs": [],
   "source": []
  },
  {
   "cell_type": "markdown",
   "id": "78232a94",
   "metadata": {},
   "source": [
    "# Frequencies and counts of all populations"
   ]
  },
  {
   "cell_type": "code",
   "execution_count": null,
   "id": "dea7c562",
   "metadata": {},
   "outputs": [],
   "source": [
    "cd8_l1_full_filt"
   ]
  },
  {
   "cell_type": "code",
   "execution_count": null,
   "id": "48b82771",
   "metadata": {},
   "outputs": [],
   "source": [
    "all_counts  <- read_csv(\"../tables/populations_freq/all_levels_counts_cd8.csv\")"
   ]
  },
  {
   "cell_type": "code",
   "execution_count": null,
   "id": "6a64d198",
   "metadata": {},
   "outputs": [],
   "source": [
    "all_counts$Experiment_ID  %>% table"
   ]
  },
  {
   "cell_type": "code",
   "execution_count": null,
   "id": "2428e709",
   "metadata": {},
   "outputs": [],
   "source": [
    "all_counts"
   ]
  },
  {
   "cell_type": "code",
   "execution_count": null,
   "id": "dec87adb",
   "metadata": {},
   "outputs": [],
   "source": [
    "df3  <- all_counts %>% \n",
    "  group_by(Sample_ID, Level) %>% \n",
    "  mutate(freq_from_total = n / sum(n)) "
   ]
  },
  {
   "cell_type": "code",
   "execution_count": null,
   "id": "a21e59ba",
   "metadata": {},
   "outputs": [],
   "source": [
    "df3"
   ]
  },
  {
   "cell_type": "code",
   "execution_count": null,
   "id": "caf5f00e",
   "metadata": {},
   "outputs": [],
   "source": [
    "## Set parent population"
   ]
  },
  {
   "cell_type": "code",
   "execution_count": null,
   "id": "e9082aed",
   "metadata": {},
   "outputs": [],
   "source": [
    "df3  <- df3  %>% separate(annotations, into = c(\"annot_l1\",\"annot_l2\",NA), sep = \"---\", remove = F)  %>% \n",
    "mutate(Parent_annotation = case_when(\n",
    "Level == \"L1\" ~ \"CD8\",\n",
    "Level == \"L2\" ~ annot_l1,\n",
    "Level == \"L3\" ~ paste0(annot_l1, \"---\" ,annot_l2)\n",
    "))"
   ]
  },
  {
   "cell_type": "code",
   "execution_count": null,
   "id": "a53625cf",
   "metadata": {},
   "outputs": [],
   "source": [
    "df3"
   ]
  },
  {
   "cell_type": "code",
   "execution_count": null,
   "id": "c1c80a91",
   "metadata": {},
   "outputs": [],
   "source": [
    "## For each level and each patient calculate the total count per parent population"
   ]
  },
  {
   "cell_type": "code",
   "execution_count": null,
   "id": "1637cf18",
   "metadata": {},
   "outputs": [],
   "source": [
    "levels_l1  <- all_counts %>% \n",
    "  filter(Level == \"L1\")  %>% \n",
    "pull(annotations)  %>% unique\n",
    "levels_l2  <- all_counts %>% \n",
    "  filter(Level == \"L2\")  %>% \n",
    "pull(annotations)  %>% unique"
   ]
  },
  {
   "cell_type": "code",
   "execution_count": null,
   "id": "c050d686",
   "metadata": {},
   "outputs": [],
   "source": [
    "\n",
    "for(i in 1:length(levels_l1)) {\n",
    "    \n",
    "    df_filt  <- df3  %>% filter(grepl(annotations, pattern = levels_l1[i]) & Level == \"L2\")\n",
    "\n",
    "    df_filt  <- df_filt  %>% \n",
    "            group_by(Sample_ID)  %>% \n",
    "        summarise(total_per_patient = sum(n))\n",
    "\n",
    "    df_filt$Level = \"L2\"\n",
    "\n",
    "    df_filt$Parent_annotation = levels_l1[i]\n",
    "\n",
    "    if(i > 1){\n",
    "       \n",
    "        df_sum_of_parent  <- rbind(df_sum_of_parent, df_filt)\n",
    "        \n",
    "    } else {\n",
    "        df_sum_of_parent  <- df_filt\n",
    "        \n",
    "        \n",
    "    }\n",
    "\n",
    "}\n",
    "\n",
    "for(i in 1:length(levels_l2)) {\n",
    "    \n",
    "    df_filt  <- df3  %>% filter(grepl(annotations, pattern = levels_l2[i]) & Level == \"L3\")\n",
    "\n",
    "    df_filt  <- df_filt  %>% \n",
    "            group_by(Sample_ID)  %>% \n",
    "        summarise(total_per_patient = sum(n))\n",
    "\n",
    "    df_filt$Level = \"L3\"\n",
    "\n",
    "    df_filt$Parent_annotation = levels_l2[i]\n",
    "\n",
    "    df_sum_of_parent  <- rbind(df_sum_of_parent, df_filt)\n",
    "   \n",
    "\n",
    "}"
   ]
  },
  {
   "cell_type": "code",
   "execution_count": null,
   "id": "93739127",
   "metadata": {
    "scrolled": true
   },
   "outputs": [],
   "source": [
    "df_sum_of_parent"
   ]
  },
  {
   "cell_type": "code",
   "execution_count": null,
   "id": "e8331d61",
   "metadata": {},
   "outputs": [],
   "source": [
    "dim(df3)"
   ]
  },
  {
   "cell_type": "code",
   "execution_count": null,
   "id": "8bf0975c",
   "metadata": {},
   "outputs": [],
   "source": [
    "df4  <- left_join(df3, df_sum_of_parent)"
   ]
  },
  {
   "cell_type": "code",
   "execution_count": null,
   "id": "7d73bbff",
   "metadata": {},
   "outputs": [],
   "source": [
    "dim(df4)"
   ]
  },
  {
   "cell_type": "code",
   "execution_count": null,
   "id": "8b37d919",
   "metadata": {},
   "outputs": [],
   "source": [
    "df4"
   ]
  },
  {
   "cell_type": "code",
   "execution_count": null,
   "id": "6ae5c8b0",
   "metadata": {},
   "outputs": [],
   "source": [
    "df4$freq_from_parent  <- df4$n/df4$total_per_patient"
   ]
  },
  {
   "cell_type": "code",
   "execution_count": null,
   "id": "0ffb78c2",
   "metadata": {},
   "outputs": [],
   "source": [
    "df4"
   ]
  },
  {
   "cell_type": "code",
   "execution_count": null,
   "id": "897c8aed",
   "metadata": {},
   "outputs": [],
   "source": [
    "df4$pct_from_total  <- df4$freq_from_total*100\n",
    "df4$pct_from_parent  <- df4$freq_from_parent*100\n"
   ]
  },
  {
   "cell_type": "code",
   "execution_count": null,
   "id": "12e163ec",
   "metadata": {},
   "outputs": [],
   "source": [
    "df4$freq_from_parent <- ifelse(is.na(df4$freq_from_parent) & df4$Level != \"L1\", 0, df4$freq_from_parent)\n",
    "df4$pct_from_parent  <- ifelse(is.na(df4$pct_from_parent) & df4$Level != \"L1\", 0, df4$pct_from_parent)"
   ]
  },
  {
   "cell_type": "markdown",
   "id": "bdab3c75",
   "metadata": {},
   "source": [
    "## Ordered frequency plots"
   ]
  },
  {
   "cell_type": "code",
   "execution_count": null,
   "id": "c203fd6c",
   "metadata": {},
   "outputs": [],
   "source": [
    "options(repr.plot.width = 16, repr.plot.height = 20)\n",
    "\n",
    "df4   %>% \n",
    "ggplot(aes(x = Condition,\n",
    "             y = pct_from_parent)) +\n",
    "   geom_dotplot(binaxis='y', stackdir='center', dotsize = 0) + \n",
    "   geom_boxplot(outlier.shape = NA) +\n",
    "    geom_jitter(binaxis='y', position=position_jitter(width = 0, height = 0), \n",
    "                size = 1, stackdir='center', aes(color = Condition)) + \n",
    "  theme_classic() + xlab(\"\") + ylab(\"Value\") +\n",
    "facet_wrap(~factor(annotations, labels = gsub(levels(factor(annotations)), \n",
    "                                              pattern = \"---\", replacement = \"\\n\")),\n",
    "           scales = \"free\", ncol = 6) +\n",
    " ylim(0,NA) +\n",
    "ggpubr::stat_compare_means(label.x = 1.2, label.y.npc = \"top\", size = 3, vjust = 0.3, label = \"p.format\") + \n",
    "      theme(plot.title = element_text(hjust = 0.5, size = 22),\n",
    "          axis.line = element_line(colour = \"black\"), \n",
    "        axis.ticks = element_line(colour = \"black\")) + ggtitle(\"CD8 Pct from parent\")"
   ]
  },
  {
   "cell_type": "code",
   "execution_count": null,
   "id": "529c60da",
   "metadata": {},
   "outputs": [],
   "source": [
    "options(repr.plot.width = 16, repr.plot.height = 20)\n",
    "\n",
    "df4   %>% \n",
    "ggplot(aes(x = Condition,\n",
    "             y = pct_from_total)) +\n",
    "   geom_dotplot(binaxis='y', stackdir='center', dotsize = 0) + \n",
    "   geom_boxplot(outlier.shape = NA) +\n",
    "    geom_jitter(binaxis='y', position=position_jitter(width = 0, height = 0), \n",
    "                size = 1, stackdir='center', aes(color = Condition)) + \n",
    "  theme_classic() + xlab(\"\") + ylab(\"Value\") +\n",
    "facet_wrap(~factor(annotations, labels = gsub(levels(factor(annotations)), \n",
    "                                              pattern = \"---\", replacement = \"\\n\")),\n",
    "           scales = \"free\", ncol = 6) +\n",
    " ylim(0,NA) +\n",
    "ggpubr::stat_compare_means(label.x = 1.2, label.y.npc = \"top\", size = 3, vjust = 0.3, label = \"p.format\") + \n",
    "      theme(plot.title = element_text(hjust = 0.5, size = 22),\n",
    "          axis.line = element_line(colour = \"black\"), \n",
    "        axis.ticks = element_line(colour = \"black\")) + ggtitle(\"CD8 Pct from total\")"
   ]
  },
  {
   "cell_type": "markdown",
   "id": "64025d68",
   "metadata": {},
   "source": [
    "## Plot of differences in Conditions"
   ]
  },
  {
   "cell_type": "code",
   "execution_count": null,
   "id": "4eb0cdb9",
   "metadata": {
    "scrolled": true
   },
   "outputs": [],
   "source": [
    "annotations_to_test  <- df4$annotations  %>% unique()\n",
    "comparisons_to_test  <- c(\"Ctrl T0\", \"Dia T0\", \"Dia T1\")"
   ]
  },
  {
   "cell_type": "code",
   "execution_count": null,
   "id": "96dd68ca",
   "metadata": {
    "scrolled": true
   },
   "outputs": [],
   "source": [
    "annotations_to_test"
   ]
  },
  {
   "cell_type": "markdown",
   "id": "ba23716a",
   "metadata": {},
   "source": [
    "### Freq from total"
   ]
  },
  {
   "cell_type": "code",
   "execution_count": null,
   "id": "e35f31c1",
   "metadata": {},
   "outputs": [],
   "source": [
    "for(i in 1:length(annotations_to_test)){\n",
    "\n",
    "\n",
    "## Comparison Dia T0 vs Dia T1\n",
    "    j = 2\n",
    "    k = 3\n",
    "df  <- df4  %>% \n",
    "    filter(annotations == annotations_to_test[i] & Condition %in% c(comparisons_to_test[j], comparisons_to_test[k]))  %>% \n",
    "    dplyr::select(Condition, value = pct_from_total)  %>% mutate(value = as.numeric(value))\n",
    "    wcx  <- wilcox.test(df$value ~ df$Condition, conf.int = T)\n",
    "    df2  <- df  %>% group_by(Condition)  %>% summarise(mean = mean(value), sd = sd(value))\n",
    "    df_all  <- data.frame(name = annotations_to_test[i], \n",
    "                          comparison = \"Dia T0 vs Dia T1\",\n",
    "                          estimate = wcx$estimate,\n",
    "                          pval = wcx$p.value, \n",
    "                          mean_dia = df2$mean[1],\n",
    "                         mean_ctrl = df2$mean[2], \n",
    "                         upper = wcx$conf.int[2],\n",
    "                         lower = wcx$conf.int[1]\n",
    "                         )  %>% \n",
    "mutate(ratio = (mean_dia)/(mean_ctrl))\n",
    "    \n",
    "if(i == 1){\n",
    "    df_final  <- df_all\n",
    "} else {\n",
    "    df_final  <- rbind(df_final, df_all)\n",
    "}\n",
    "\n",
    "## Comparison of Dia vs controls in both times\n",
    "\n",
    "    j = 2\n",
    "    k = 1\n",
    "df  <- df4  %>% \n",
    "    filter(annotations == annotations_to_test[i] & Condition %in% c(comparisons_to_test[j], comparisons_to_test[k]))  %>% \n",
    "    dplyr::select(Condition, value = pct_from_total)  %>% mutate(value = as.numeric(value))\n",
    "    wcx  <- wilcox.test(df$value ~ df$Condition, conf.int = T)\n",
    "    df2  <- df  %>% group_by(Condition)  %>% summarise(mean = mean(value), sd = sd(value))\n",
    "    df_all  <- data.frame(name = annotations_to_test[i], \n",
    "                          comparison = paste(comparisons_to_test[j], \"vs\", comparisons_to_test[k]),\n",
    "                          estimate = wcx$estimate,\n",
    "                          pval = wcx$p.value, \n",
    "                          mean_dia = df2$mean[2],\n",
    "                         mean_ctrl = df2$mean[1], \n",
    "                         upper = wcx$conf.int[2],\n",
    "                         lower = wcx$conf.int[1]\n",
    "                         )  %>% mutate(ratio = (mean_dia)/(mean_ctrl))\n",
    "    df_final  <- rbind(df_final, df_all)\n",
    "    \n",
    "\n",
    "    j = 3\n",
    "    k = 1\n",
    "df  <- df4  %>% \n",
    "    filter(annotations == annotations_to_test[i] & Condition %in% c(comparisons_to_test[j], comparisons_to_test[k]))  %>% \n",
    "    dplyr::select(Condition, value = pct_from_total)  %>% mutate(value = as.numeric(value))\n",
    "    wcx  <- wilcox.test(df$value ~ df$Condition, conf.int = T)\n",
    "    df2  <- df  %>% group_by(Condition)  %>% summarise(mean = mean(value), sd = sd(value))\n",
    "    df_all  <- data.frame(name = annotations_to_test[i], \n",
    "                          comparison = paste(comparisons_to_test[j], \"vs\", comparisons_to_test[k]),\n",
    "                         estimate = wcx$estimate,\n",
    "                          pval = wcx$p.value, \n",
    "                          mean_dia = df2$mean[2],\n",
    "                         mean_ctrl = df2$mean[1], \n",
    "                         upper = wcx$conf.int[2],\n",
    "                         lower = wcx$conf.int[1]\n",
    "                         )  %>% mutate(ratio = (mean_dia)/(mean_ctrl))\n",
    "    df_final  <- rbind(df_final, df_all)\n",
    "\n",
    "\n",
    "## Comparison of Dia - partial remission vs. no remission\n",
    "\n",
    "df  <- df4  %>% \n",
    "    filter(annotations == annotations_to_test[i] & Disease == \"Dia\" & !is.na(Condition2))  %>% \n",
    "    dplyr::select(Condition = Condition2, value = pct_from_total)  %>% mutate(value = as.numeric(value))\n",
    "    wcx  <- wilcox.test(df$value ~ df$Condition, conf.int = T)\n",
    "    df2  <- df  %>% group_by(Condition)  %>% summarise(mean = mean(value), sd = sd(value))\n",
    "    df_all  <- data.frame(name = annotations_to_test[i], \n",
    "                          comparison = \"PR_0 vs PR_1\",\n",
    "                          estimate = wcx$estimate,\n",
    "                          pval = wcx$p.value, \n",
    "                          mean_dia = df2$mean[1],\n",
    "                         mean_ctrl = df2$mean[2], \n",
    "                         upper = wcx$conf.int[2],\n",
    "                         lower = wcx$conf.int[1]\n",
    "                         )  %>% mutate(ratio = (mean_dia)/(mean_ctrl))\n",
    "     \n",
    "    df_final  <- rbind(df_final, df_all)\n",
    "    \n",
    "    }"
   ]
  },
  {
   "cell_type": "code",
   "execution_count": null,
   "id": "a153f2d4",
   "metadata": {},
   "outputs": [],
   "source": [
    "df_final  %>% arrange(pval)"
   ]
  },
  {
   "cell_type": "code",
   "execution_count": null,
   "id": "267f5f2a",
   "metadata": {},
   "outputs": [],
   "source": [
    "options(repr.plot.width = 16, repr.plot.height = 20)\n",
    "df_final  %>% \n",
    "mutate(color = ifelse(estimate < 0 & upper < 0, \n",
    "                      \"1\", \n",
    "                      ifelse(estimate > 0 & lower > 0, \"2\", \"3\")))  %>% \n",
    "  ggplot(aes(estimate, name, color = color)) +\n",
    "  geom_vline(xintercept = 0, color = \"gray75\") +\n",
    "  geom_linerange(aes(xmin = lower, xmax = upper),\n",
    "                 size = 1.5,\n",
    "                 alpha = 0.5) +\n",
    "  geom_point(size = 4) +\n",
    "  theme_minimal(base_size = 16) +\n",
    "  scale_color_manual(values = c(\"green4\", \"red3\", \"grey\"), guide = \"none\") +\n",
    "facet_wrap(~comparison, ncol = 4) +\n",
    "  labs(title = \"\", y = NULL,\n",
    "       x = \"Probability \\n(95% Confidence Intervals)\") +\n",
    "  theme(axis.text.y = element_text(hjust = 0, size = 18),\n",
    "        panel.grid = element_blank()) + ggtitle(\"Pct from Total\")"
   ]
  },
  {
   "cell_type": "code",
   "execution_count": null,
   "id": "e73ddfe3",
   "metadata": {},
   "outputs": [],
   "source": [
    "write.csv(df_final, \"../tables/populations_freq/cd8_pct_from_total.csv\")"
   ]
  },
  {
   "cell_type": "markdown",
   "id": "216ac2b5",
   "metadata": {},
   "source": [
    "### Freq from parent"
   ]
  },
  {
   "cell_type": "code",
   "execution_count": null,
   "id": "61c7d1df",
   "metadata": {},
   "outputs": [],
   "source": [
    "annotations_to_test  <- df4$annotations  %>% unique()\n",
    "annotations_to_test  <- annotations_to_test[3:length(annotations_to_test)]"
   ]
  },
  {
   "cell_type": "code",
   "execution_count": null,
   "id": "f47f76d5",
   "metadata": {},
   "outputs": [],
   "source": [
    "annotations_to_test "
   ]
  },
  {
   "cell_type": "code",
   "execution_count": null,
   "id": "c4ae4fee",
   "metadata": {},
   "outputs": [],
   "source": [
    "df_final  <- NULL"
   ]
  },
  {
   "cell_type": "code",
   "execution_count": null,
   "id": "5fe1afff",
   "metadata": {},
   "outputs": [],
   "source": [
    "df5  <- df4  %>% filter(Level != \"L1\")\n",
    "\n",
    "for(i in c(5:length(annotations_to_test))){\n",
    "print(i)\n",
    "\n",
    "## Comparison Dia T0 vs Dia T1\n",
    "    j = 2\n",
    "    k = 3\n",
    "df  <- df5  %>% \n",
    "    filter(annotations == annotations_to_test[i] & Condition %in% c(comparisons_to_test[j], comparisons_to_test[k]))  %>% \n",
    "    dplyr::select(Condition, value = pct_from_parent)  %>% mutate(value = as.numeric(value))\n",
    "    wcx  <- wilcox.test(df$value ~ df$Condition, conf.int = T)\n",
    "    df2  <- df  %>% group_by(Condition)  %>% summarise(mean = mean(value), sd = sd(value))\n",
    "    df_all  <- data.frame(name = annotations_to_test[i], \n",
    "                          comparison = \"Dia T0 vs Dia T1\",\n",
    "                          estimate = wcx$estimate,\n",
    "                          pval = wcx$p.value, \n",
    "                          mean_dia = df2$mean[1],\n",
    "                         mean_ctrl = df2$mean[2], \n",
    "                         upper = wcx$conf.int[2],\n",
    "                         lower = wcx$conf.int[1]\n",
    "                         )  %>% \n",
    "mutate(ratio = (mean_dia)/(mean_ctrl))\n",
    "    \n",
    "if(i == 1){\n",
    "    df_final  <- df_all\n",
    "} else {\n",
    "    df_final  <- rbind(df_final, df_all)\n",
    "}\n",
    "\n",
    "## Comparison of Dia vs controls in both times\n",
    "\n",
    "    j = 2\n",
    "    k = 1\n",
    "df  <- df5  %>% \n",
    "    filter(annotations == annotations_to_test[i] & Condition %in% c(comparisons_to_test[j], comparisons_to_test[k]))  %>% \n",
    "    dplyr::select(Condition, value = pct_from_parent)  %>% mutate(value = as.numeric(value))\n",
    "    wcx  <- wilcox.test(df$value ~ df$Condition, conf.int = T)\n",
    "    df2  <- df  %>% group_by(Condition)  %>% summarise(mean = mean(value), sd = sd(value))\n",
    "    df_all  <- data.frame(name = annotations_to_test[i], \n",
    "                          comparison = paste(comparisons_to_test[j], \"vs\", comparisons_to_test[k]),\n",
    "                          estimate = wcx$estimate,\n",
    "                          pval = wcx$p.value, \n",
    "                          mean_dia = df2$mean[2],\n",
    "                         mean_ctrl = df2$mean[1], \n",
    "                         upper = wcx$conf.int[2],\n",
    "                         lower = wcx$conf.int[1]\n",
    "                         )  %>% mutate(ratio = (mean_dia)/(mean_ctrl))\n",
    "    df_final  <- rbind(df_final, df_all)\n",
    "    \n",
    "\n",
    "    j = 3\n",
    "    k = 1\n",
    "df  <- df5  %>% \n",
    "    filter(annotations == annotations_to_test[i] & Condition %in% c(comparisons_to_test[j], comparisons_to_test[k]))  %>% \n",
    "    dplyr::select(Condition, value = pct_from_parent)  %>% mutate(value = as.numeric(value))\n",
    "    wcx  <- wilcox.test(df$value ~ df$Condition, conf.int = T)\n",
    "    df2  <- df  %>% group_by(Condition)  %>% summarise(mean = mean(value), sd = sd(value))\n",
    "    df_all  <- data.frame(name = annotations_to_test[i], \n",
    "                          comparison = paste(comparisons_to_test[j], \"vs\", comparisons_to_test[k]),\n",
    "                         estimate = wcx$estimate,\n",
    "                          pval = wcx$p.value, \n",
    "                          mean_dia = df2$mean[2],\n",
    "                         mean_ctrl = df2$mean[1], \n",
    "                         upper = wcx$conf.int[2],\n",
    "                         lower = wcx$conf.int[1]\n",
    "                         )  %>% mutate(ratio = (mean_dia)/(mean_ctrl))\n",
    "    df_final  <- rbind(df_final, df_all)\n",
    "\n",
    "\n",
    "## Comparison of Dia - partial remission vs. no remission\n",
    "\n",
    "df  <- df5  %>% \n",
    "    filter(annotations == annotations_to_test[i] & Disease == \"Dia\" & !is.na(Condition2))  %>% \n",
    "    dplyr::select(Condition = Condition2, value = pct_from_parent)  %>% mutate(value = as.numeric(value))\n",
    "    wcx  <- wilcox.test(df$value ~ df$Condition, conf.int = T)\n",
    "    df2  <- df  %>% group_by(Condition)  %>% summarise(mean = mean(value), sd = sd(value))\n",
    "    df_all  <- data.frame(name = annotations_to_test[i], \n",
    "                          comparison = \"PR_0 vs PR_1\",\n",
    "                          estimate = wcx$estimate,\n",
    "                          pval = wcx$p.value, \n",
    "                          mean_dia = df2$mean[1],\n",
    "                         mean_ctrl = df2$mean[2], \n",
    "                         upper = wcx$conf.int[2],\n",
    "                         lower = wcx$conf.int[1]\n",
    "                         )  %>% mutate(ratio = (mean_dia)/(mean_ctrl))\n",
    "     \n",
    "    df_final  <- rbind(df_final, df_all)\n",
    "    \n",
    "    }\n",
    "\n",
    "df_final  %>% arrange(pval)"
   ]
  },
  {
   "cell_type": "code",
   "execution_count": null,
   "id": "8af2f1c1",
   "metadata": {},
   "outputs": [],
   "source": [
    "options(repr.plot.width = 16, repr.plot.height = 20)\n",
    "df_final  %>% \n",
    "mutate(color = ifelse(estimate < 0 & upper < 0, \n",
    "                      \"1\", \n",
    "                      ifelse(estimate > 0 & lower > 0, \"2\", \"3\")))  %>% \n",
    "  ggplot(aes(estimate, name, color = color)) +\n",
    "  geom_vline(xintercept = 0, color = \"gray75\") +\n",
    "  geom_linerange(aes(xmin = lower, xmax = upper),\n",
    "                 size = 1.5,\n",
    "                 alpha = 0.5) +\n",
    "  geom_point(size = 4) +\n",
    "  theme_minimal(base_size = 16) +\n",
    "  scale_color_manual(values = c(\"green4\", \"red3\", \"grey\"), guide = \"none\") +\n",
    "facet_wrap(~comparison, ncol = 4) +\n",
    "  labs(title = \"\", y = NULL,\n",
    "       x = \"Probability \\n(95% Confidence Intervals)\") +\n",
    "  theme(axis.text.y = element_text(hjust = 0, size = 18),\n",
    "        panel.grid = element_blank())\n",
    "\n",
    "write.csv(df_final, \"../tables/populations_freq/cd8_pct_from_parent.csv\")"
   ]
  },
  {
   "cell_type": "markdown",
   "id": "40e98320",
   "metadata": {},
   "source": [
    "# PCA populations"
   ]
  },
  {
   "cell_type": "code",
   "execution_count": null,
   "id": "ccea7051",
   "metadata": {},
   "outputs": [],
   "source": [
    "model_table"
   ]
  },
  {
   "cell_type": "code",
   "execution_count": null,
   "id": "dba8e591",
   "metadata": {},
   "outputs": [],
   "source": [
    "colnames(model_table)"
   ]
  },
  {
   "cell_type": "code",
   "execution_count": null,
   "id": "0b60053b",
   "metadata": {},
   "outputs": [],
   "source": [
    "pca_cd8_cluster  <- model_table  %>% \n",
    "dplyr::select(11:51,Sample_ID)  %>% \n",
    "column_to_rownames(var = \"Sample_ID\")  %>% t"
   ]
  },
  {
   "cell_type": "code",
   "execution_count": null,
   "id": "d3b07c13",
   "metadata": {},
   "outputs": [],
   "source": [
    "pca_cd8_cluster"
   ]
  },
  {
   "cell_type": "code",
   "execution_count": null,
   "id": "f295adcc",
   "metadata": {},
   "outputs": [],
   "source": [
    "pca_cd8_cluster  %>% as.matrix"
   ]
  },
  {
   "cell_type": "code",
   "execution_count": null,
   "id": "61f1cf7f",
   "metadata": {},
   "outputs": [],
   "source": [
    "library(\"factoextra\")\n",
    "library(\"FactoMineR\")"
   ]
  },
  {
   "cell_type": "code",
   "execution_count": null,
   "id": "f6cd5945",
   "metadata": {},
   "outputs": [],
   "source": [
    "res.pca <- PCA(t(pca_cd8_cluster),  graph = FALSE, ncp = 20)"
   ]
  },
  {
   "cell_type": "code",
   "execution_count": null,
   "id": "c4c92879",
   "metadata": {},
   "outputs": [],
   "source": [
    "fviz_screeplot(res.pca, addlabels = TRUE, ylim = c(0, 50), ncp = 20)"
   ]
  },
  {
   "cell_type": "code",
   "execution_count": null,
   "id": "6062eccd",
   "metadata": {
    "scrolled": true
   },
   "outputs": [],
   "source": [
    "res.pca$ind$coord"
   ]
  },
  {
   "cell_type": "code",
   "execution_count": null,
   "id": "28ce8257",
   "metadata": {},
   "outputs": [],
   "source": [
    "var <- get_pca_var(res.pca)\n",
    "head(var$contrib)"
   ]
  },
  {
   "cell_type": "code",
   "execution_count": null,
   "id": "0efb3920",
   "metadata": {},
   "outputs": [],
   "source": [
    "fviz_pca_var(res.pca, col.var=\"contrib\",\n",
    "             gradient.cols = c(\"#00AFBB\", \"#E7B800\", \"#FC4E07\"),\n",
    "             repel = TRUE # Avoid text overlapping\n",
    "             )"
   ]
  },
  {
   "cell_type": "code",
   "execution_count": null,
   "id": "89d105e5",
   "metadata": {},
   "outputs": [],
   "source": [
    "colnames(pca_cd8_cluster)"
   ]
  },
  {
   "cell_type": "code",
   "execution_count": null,
   "id": "a7ec5796",
   "metadata": {},
   "outputs": [],
   "source": [
    "model_table  %>% colnames"
   ]
  },
  {
   "cell_type": "code",
   "execution_count": null,
   "id": "d3f5213c",
   "metadata": {},
   "outputs": [],
   "source": [
    "metadata_pca  <- model_table  %>% \n",
    "dplyr::select(1:10)"
   ]
  },
  {
   "cell_type": "code",
   "execution_count": null,
   "id": "eb0cb28e",
   "metadata": {},
   "outputs": [],
   "source": [
    "options(repr.plot.width = 6, repr.plot.height = 5)\n",
    "fviz_pca_ind(res.pca, col.ind = metadata_pca$Experiment_ID)"
   ]
  },
  {
   "cell_type": "code",
   "execution_count": null,
   "id": "ca11c443",
   "metadata": {},
   "outputs": [],
   "source": [
    "fviz_pca_ind(res.pca, col.ind = metadata_pca$Age_group)"
   ]
  },
  {
   "cell_type": "code",
   "execution_count": null,
   "id": "c7461a57",
   "metadata": {},
   "outputs": [],
   "source": [
    "fviz_pca_ind(res.pca, col.ind = metadata_pca$Experiment_ID)"
   ]
  },
  {
   "cell_type": "code",
   "execution_count": null,
   "id": "dc1cd721",
   "metadata": {},
   "outputs": [],
   "source": [
    "fviz_pca_ind(res.pca, col.ind = metadata_pca$Disease, axes = c(1,2))"
   ]
  },
  {
   "cell_type": "code",
   "execution_count": null,
   "id": "c388e9eb",
   "metadata": {},
   "outputs": [],
   "source": [
    "fviz_pca_ind(res.pca, col.ind = metadata_pca$Age_group, axes = c(3,4))"
   ]
  },
  {
   "cell_type": "code",
   "execution_count": null,
   "id": "5175676e",
   "metadata": {
    "scrolled": true
   },
   "outputs": [],
   "source": [
    "fviz_pca_ind(res.pca, col.ind = metadata_pca$Disease, axes = c(3,4))"
   ]
  },
  {
   "cell_type": "code",
   "execution_count": null,
   "id": "59119dfa",
   "metadata": {},
   "outputs": [],
   "source": [
    "df_pca  <- res.pca$ind$coord"
   ]
  },
  {
   "cell_type": "code",
   "execution_count": null,
   "id": "75550cc0",
   "metadata": {
    "scrolled": true
   },
   "outputs": [],
   "source": [
    "df_pca  <- cbind(df_pca, metadata_pca)"
   ]
  },
  {
   "cell_type": "code",
   "execution_count": null,
   "id": "da3376b6",
   "metadata": {},
   "outputs": [],
   "source": [
    "df_pca"
   ]
  },
  {
   "cell_type": "code",
   "execution_count": null,
   "id": "4ee7b22f",
   "metadata": {
    "scrolled": true
   },
   "outputs": [],
   "source": [
    "df_pca   <- df_pca %>% pivot_longer(starts_with(\"Dim\"), names_to = \"Dim\", values_to = \"value\")"
   ]
  },
  {
   "cell_type": "code",
   "execution_count": null,
   "id": "d4994bff",
   "metadata": {
    "scrolled": true
   },
   "outputs": [],
   "source": [
    "df_pca"
   ]
  },
  {
   "cell_type": "code",
   "execution_count": null,
   "id": "5bbfc9a3",
   "metadata": {},
   "outputs": [],
   "source": [
    "options(repr.plot.width = 26, repr.plot.height = 25)\n",
    "\n",
    "df_pca  %>% \n",
    "ggplot(aes(x = Disease, y = value)) + \n",
    "geom_boxplot(outlier.shape = NA, \n",
    "           alpha = 0.5, width = 0.9, aes(fill = Disease)) +\n",
    "   geom_dotplot(binaxis='y', stackdir='center', dotsize=0) + \n",
    "   geom_jitter(binaxis='y', position=position_jitter(width = 0.1, height = 0), \n",
    "  size = 3, stackdir='center', aes(fill = Disease, shape = Disease), color = \"black\") + \n",
    "  facet_wrap(~Dim, scales = \"free\", ncol = 4) +\n",
    "scale_shape_manual(values = c(21,22,22))+\n",
    "scale_fill_manual(values = c(\"lightsteelblue1\",\"rosybrown1\", \"purple\"))+\n",
    "  ylab(\"Frequency\") +\n",
    "  xlab(\"Condition\") +\n",
    "  theme_classic() +\n",
    "ggtheme() +\n",
    "ggpubr::stat_compare_means(label.x= 1.1, label.y.npc = 1, size = 7.025, vjust = 0.3, label = \"p.format\")+\n",
    "  theme(strip.background = element_blank(), panel.grid = element_blank()) + \n",
    "  theme(axis.text = element_text(color = \"black\"),\n",
    "        axis.line = element_line(color = \"black\"),\n",
    "        axis.text.x = element_text(angle = 90))"
   ]
  },
  {
   "cell_type": "code",
   "execution_count": null,
   "id": "b8f8718c",
   "metadata": {},
   "outputs": [],
   "source": [
    "options(repr.plot.width = 26, repr.plot.height = 25)\n",
    "\n",
    "df_pca  %>% \n",
    "filter(Time == \"T0\")  %>% \n",
    "ggplot(aes(x = Disease, y = value)) + \n",
    "geom_boxplot(outlier.shape = NA, \n",
    "           alpha = 0.5, width = 0.9, aes(fill = Disease)) +\n",
    "   geom_dotplot(binaxis='y', stackdir='center', dotsize=0) + \n",
    "   geom_jitter(binaxis='y', position=position_jitter(width = 0.1, height = 0), \n",
    "  size = 3, stackdir='center', aes(fill = Disease, shape = Disease), color = \"black\") + \n",
    "  facet_wrap(~Dim, scales = \"free\", ncol = 4) +\n",
    "scale_shape_manual(values = c(21,22,22))+\n",
    "scale_fill_manual(values = c(\"lightsteelblue1\",\"rosybrown1\", \"purple\"))+\n",
    "  ylab(\"Frequency\") +\n",
    "  xlab(\"Condition\") +\n",
    "  theme_classic() +\n",
    "ggtheme() +\n",
    "ggpubr::stat_compare_means(label.x= 1.1, label.y.npc = 1, size = 7.025, vjust = 0.3, label = \"p.format\")+\n",
    "  theme(strip.background = element_blank(), panel.grid = element_blank()) + \n",
    "  theme(axis.text = element_text(color = \"black\"),\n",
    "        axis.line = element_line(color = \"black\"),\n",
    "        axis.text.x = element_text(angle = 90))"
   ]
  },
  {
   "cell_type": "code",
   "execution_count": null,
   "id": "461f24e6",
   "metadata": {},
   "outputs": [],
   "source": [
    "options(repr.plot.width = 26, repr.plot.height = 25)\n",
    "\n",
    "df_pca  %>% \n",
    "filter(Condition %in% c(\"Dia T1\", \"Ctrl T0\"))  %>% \n",
    "ggplot(aes(x = Condition, y = value)) + \n",
    "geom_boxplot(outlier.shape = NA, \n",
    "           alpha = 0.5, width = 0.9, aes(fill = Disease)) +\n",
    "   geom_dotplot(binaxis='y', stackdir='center', dotsize=0) + \n",
    "   geom_jitter(binaxis='y', position=position_jitter(width = 0.1, height = 0), \n",
    "  size = 3, stackdir='center', aes(fill = Disease, shape = Disease), color = \"black\") + \n",
    "  facet_wrap(~Dim, scales = \"free\", ncol = 4) +\n",
    "scale_shape_manual(values = c(21,22,22))+\n",
    "scale_fill_manual(values = c(\"lightsteelblue1\",\"rosybrown1\", \"purple\"))+\n",
    "  ylab(\"Frequency\") +\n",
    "  xlab(\"Condition\") +\n",
    "  theme_classic() +\n",
    "ggtheme() +\n",
    "ggpubr::stat_compare_means(label.x= 1.1, label.y.npc = 1, size = 7.025, vjust = 0.3, label = \"p.format\")+\n",
    "  theme(strip.background = element_blank(), panel.grid = element_blank()) + \n",
    "  theme(axis.text = element_text(color = \"black\"),\n",
    "        axis.line = element_line(color = \"black\"),\n",
    "        axis.text.x = element_text(angle = 90))"
   ]
  },
  {
   "cell_type": "code",
   "execution_count": null,
   "id": "3724e320",
   "metadata": {},
   "outputs": [],
   "source": [
    "options(repr.plot.width = 26, repr.plot.height = 25)\n",
    "\n",
    "df_pca  %>% \n",
    "filter(Condition %in% c(\"Dia T0\"))  %>% \n",
    "ggplot(aes(x = Condition2, y = value)) + \n",
    "geom_boxplot(outlier.shape = NA, \n",
    "           alpha = 0.5, width = 0.9, aes(fill = Disease)) +\n",
    "   geom_dotplot(binaxis='y', stackdir='center', dotsize=0) + \n",
    "   geom_jitter(binaxis='y', position=position_jitter(width = 0.1, height = 0), \n",
    "  size = 3, stackdir='center', aes(fill = Disease, shape = Disease), color = \"black\") + \n",
    "  facet_wrap(~Dim, scales = \"free\", ncol = 4) +\n",
    "scale_shape_manual(values = c(21,22,22))+\n",
    "scale_fill_manual(values = c(\"lightsteelblue1\",\"rosybrown1\", \"purple\"))+\n",
    "  ylab(\"Frequency\") +\n",
    "  xlab(\"Condition\") +\n",
    "  theme_classic() +\n",
    "ggtheme() +\n",
    "ggpubr::stat_compare_means(label.x= 1.1, label.y.npc = 1, size = 7.025, vjust = 0.3, label = \"p.format\")+\n",
    "  theme(strip.background = element_blank(), panel.grid = element_blank()) + \n",
    "  theme(axis.text = element_text(color = \"black\"),\n",
    "        axis.line = element_line(color = \"black\"),\n",
    "        axis.text.x = element_text(angle = 90))"
   ]
  },
  {
   "cell_type": "markdown",
   "id": "92a32b11",
   "metadata": {},
   "source": [
    "# Populations - correlations with C-peptide"
   ]
  },
  {
   "cell_type": "code",
   "execution_count": null,
   "id": "5bd676d6",
   "metadata": {},
   "outputs": [],
   "source": [
    "fast  <- cd8_l1_full_filt@meta.data  %>% dplyr::select(Sample_ID, fasting_cpept_T1)  %>% unique"
   ]
  },
  {
   "cell_type": "code",
   "execution_count": null,
   "id": "69e45c69",
   "metadata": {},
   "outputs": [],
   "source": [
    "model_table"
   ]
  },
  {
   "cell_type": "code",
   "execution_count": null,
   "id": "aa2f2d97",
   "metadata": {},
   "outputs": [],
   "source": [
    "populations  <- model_table  %>% \n",
    " left_join(fast)"
   ]
  },
  {
   "cell_type": "code",
   "execution_count": null,
   "id": "6f8b9f83",
   "metadata": {
    "scrolled": true
   },
   "outputs": [],
   "source": [
    "populations"
   ]
  },
  {
   "cell_type": "code",
   "execution_count": null,
   "id": "7faa3039",
   "metadata": {},
   "outputs": [],
   "source": [
    "calc_correlation  <- function(i){\n",
    "    df  <- populations  %>% dplyr::select(i,52)  %>% filter(!is.na(52))\n",
    "    colnames(df)  <- c(\"value\",\"fasting_cpept_T1\")\n",
    "    cor  <- cor.test(df$value, df$fasting_cpept_T1)\n",
    "    res_df  <- data.frame(population = colnames(populations)[i], \n",
    "                          cor = cor$estimate, \n",
    "                          pval = cor$p.value, \n",
    "                         padj  = ifelse(cor$p.value*40>1,1,cor$p.value*40))\n",
    "    return(res_df)\n",
    "}"
   ]
  },
  {
   "cell_type": "code",
   "execution_count": null,
   "id": "2673379a",
   "metadata": {},
   "outputs": [],
   "source": [
    "test  <- future_map(11:51, calc_correlation)"
   ]
  },
  {
   "cell_type": "code",
   "execution_count": null,
   "id": "7acbf44b",
   "metadata": {},
   "outputs": [],
   "source": [
    "test2  <- bind_rows(test)"
   ]
  },
  {
   "cell_type": "code",
   "execution_count": null,
   "id": "51410dd8",
   "metadata": {
    "scrolled": true
   },
   "outputs": [],
   "source": [
    "test2  %>% arrange(pval)"
   ]
  },
  {
   "cell_type": "code",
   "execution_count": null,
   "id": "3c8a02e6",
   "metadata": {},
   "outputs": [],
   "source": [
    "options(repr.plot.width = 4, repr.plot.height = 4)\n",
    "for(i in (test2  %>% arrange(pval)  %>% pull(population))[1:10]){\n",
    "    df2 <- populations  %>% dplyr::select(which(colnames(populations)==i),fasting_cpept_T1 = 52) \n",
    "    colnames(df2)  <- c(\"value\", \"fasting_cpept_T1\")\n",
    "    p  <- df2 %>%  ggplot(aes(x=value, y=fasting_cpept_T1)) +\n",
    "  geom_point(shape = 16, size = 2) +\n",
    " geom_smooth(method=lm) + ggtitle(i) \n",
    "    print(p)\n",
    "    }"
   ]
  },
  {
   "cell_type": "code",
   "execution_count": null,
   "id": "695969cf",
   "metadata": {},
   "outputs": [],
   "source": [
    "cd8_l1_full_filt@meta.data  %>% group_by(Patient_ID, Experiment_ID, Disease)  %>% tally  %>% dplyr::select(-n)  %>% \n",
    "ungroup  %>% group_by(Experiment_ID, Disease)  %>% tally  %>% arrange(Experiment_ID)"
   ]
  },
  {
   "cell_type": "markdown",
   "id": "18baf548",
   "metadata": {},
   "source": [
    "# Populations - correlations with age"
   ]
  },
  {
   "cell_type": "code",
   "execution_count": null,
   "id": "4c078135",
   "metadata": {},
   "outputs": [],
   "source": [
    "calc_correlation  <- function(i){\n",
    "    df  <- populations  %>% dplyr::select(i,6)  %>% filter(!is.na(6))\n",
    "    colnames(df)  <- c(\"value\",\"age\")\n",
    "    cor  <- cor.test(df$value, df$age)\n",
    "    res_df  <- data.frame(population = colnames(populations)[i], \n",
    "                          cor = cor$estimate, \n",
    "                          pval = cor$p.value, \n",
    "                         padj  = ifelse(cor$p.value*40>1,1,cor$p.value*40))\n",
    "    return(res_df)\n",
    "}"
   ]
  },
  {
   "cell_type": "code",
   "execution_count": null,
   "id": "0158ba57",
   "metadata": {},
   "outputs": [],
   "source": [
    "test  <- future_map(11:51, calc_correlation)"
   ]
  },
  {
   "cell_type": "code",
   "execution_count": null,
   "id": "3de32acc",
   "metadata": {},
   "outputs": [],
   "source": [
    "test2  <- bind_rows(test)"
   ]
  },
  {
   "cell_type": "code",
   "execution_count": null,
   "id": "b3a8a036",
   "metadata": {
    "scrolled": true
   },
   "outputs": [],
   "source": [
    "test2  %>% arrange(pval)"
   ]
  },
  {
   "cell_type": "code",
   "execution_count": null,
   "id": "ad16c44e",
   "metadata": {},
   "outputs": [],
   "source": [
    "options(repr.plot.width = 4, repr.plot.height = 4)\n",
    "for(i in (test2  %>% arrange(pval)  %>% pull(population))[1:10]){\n",
    "    df2 <- populations  %>% dplyr::select(which(colnames(populations)==i),age = 6) \n",
    "    colnames(df2)  <- c(\"value\", \"age\")\n",
    "    p  <- df2 %>%  ggplot(aes(x=value, y=age)) +\n",
    "  geom_point(shape = 16, size = 2) +\n",
    " geom_smooth(method=lm) + ggtitle(i) \n",
    "    print(p)\n",
    "    }"
   ]
  },
  {
   "cell_type": "code",
   "execution_count": null,
   "id": "512749b3",
   "metadata": {},
   "outputs": [],
   "source": []
  },
  {
   "cell_type": "code",
   "execution_count": null,
   "id": "611ab7c7",
   "metadata": {},
   "outputs": [],
   "source": []
  },
  {
   "cell_type": "markdown",
   "id": "fc70accd",
   "metadata": {},
   "source": [
    "# DE genes in CD8 populations"
   ]
  },
  {
   "cell_type": "code",
   "execution_count": null,
   "id": "84c552c4",
   "metadata": {},
   "outputs": [],
   "source": [
    "cd8_l3_list  <- list(cd8_l3_tem, cd8_l3_naive, cd8_l3_tcm, cd8_l3_temra, cd8_l3_prolif, \n",
    "                    cd8_l2_nk, cd8_l2_unc, cd8_l2_subcluster, cd8_l1_full_filt)\n",
    "\n",
    "names(cd8_l3_list) <- c(\"cd8_l3_tem\", \"cd8_l3_naive\", \"cd8_l3_tcm\", \"cd8_l3_temra\", \"cd8_l3_prolif\",\n",
    "                       \"cd8_l2_nk\", \"cd8_l2_unc\", \"cd8_l2_subcluster\", \"cd8_l1_full_filt\")"
   ]
  },
  {
   "cell_type": "code",
   "execution_count": null,
   "id": "8a2c71c3",
   "metadata": {},
   "outputs": [],
   "source": [
    "md_for_remission  <- cd8_l1_full_filt@meta.data  %>% \n",
    "dplyr::filter(Condition %in% c(\"Dia T0\"))  %>% \n",
    "group_by(Patient_ID, part_remission_y_n)  %>% \n",
    "tally %>% mutate(Condition2 = paste0(\"PR_\",part_remission_y_n))  %>% \n",
    "dplyr::select(-n, -part_remission_y_n)"
   ]
  },
  {
   "cell_type": "code",
   "execution_count": null,
   "id": "2c8cf5e2",
   "metadata": {},
   "outputs": [],
   "source": [
    "cd8_l1_full_filt@meta.data  %>% group_by(Patient_ID, Disease, Sample_ID, Experiment_ID)  %>% tally  %>% \n",
    "ungroup  %>% \n",
    "dplyr::select(-n)  %>% \n",
    "group_by(Experiment_ID, Disease)  %>%\n",
    "tally()"
   ]
  },
  {
   "cell_type": "code",
   "execution_count": null,
   "id": "5cec1375",
   "metadata": {
    "scrolled": true
   },
   "outputs": [],
   "source": [
    "md_for_remission"
   ]
  },
  {
   "cell_type": "code",
   "execution_count": null,
   "id": "630d2d01",
   "metadata": {
    "scrolled": true
   },
   "outputs": [],
   "source": [
    "for( i in 1:length(cd8_l3_list)) {\n",
    "    \n",
    "    cd8_l3_list[[i]]$Condition2  <- NULL\n",
    "    cd8_l3_list[[i]]@meta.data  <- cd8_l3_list[[i]]@meta.data  %>% \n",
    "    left_join(md_for_remission)  %>% mutate(Condition2 = paste(Condition2, Time))  %>% \n",
    "    mutate(Condition2 = ifelse(grepl(Condition2, pattern = \"NA\"), NA_character_,Condition2))\n",
    "    \n",
    "    print(cd8_l3_list[[i]]$Condition2  %>% table)\n",
    "    rownames(cd8_l3_list[[i]]@meta.data)  <- colnames(cd8_l3_list[[i]])\n",
    "}"
   ]
  },
  {
   "cell_type": "markdown",
   "id": "66f662b0",
   "metadata": {},
   "source": [
    "### Remission and non-remission in T0 vs T1 and Ketoacidosis"
   ]
  },
  {
   "cell_type": "code",
   "execution_count": null,
   "id": "4a7b9235",
   "metadata": {},
   "outputs": [],
   "source": [
    "md_for_ketoacidosis  <- cd8_l1_full_filt@meta.data  %>% \n",
    "dplyr::filter(Condition %in% c(\"Dia T0\"))  %>% \n",
    "group_by(Patient_ID, ph_man)  %>% \n",
    "tally %>% mutate(Ketoacidosis = ifelse(ph_man<7.3,\"Keto_1\",\"Keto_0\"))  %>% \n",
    "dplyr::select(-ph_man, -n)"
   ]
  },
  {
   "cell_type": "code",
   "execution_count": null,
   "id": "c1517814",
   "metadata": {
    "scrolled": true
   },
   "outputs": [],
   "source": [
    "md_for_ketoacidosis"
   ]
  },
  {
   "cell_type": "code",
   "execution_count": null,
   "id": "4a07dc00",
   "metadata": {
    "scrolled": true
   },
   "outputs": [],
   "source": [
    "for( i in 1:length(cd8_l3_list)) {\n",
    "    \n",
    "    #cd8_l3_list[[i]]$Ketoacidosis  <- NULL\n",
    "    cd8_l3_list[[i]]@meta.data  <- cd8_l3_list[[i]]@meta.data  %>% \n",
    "    left_join(md_for_ketoacidosis)   %>% mutate(Keto_Time = paste(Ketoacidosis, Time))  %>% \n",
    "    mutate(Keto_Time = ifelse(grepl(Keto_Time, pattern = \"NA\"), NA_character_,Keto_Time))\n",
    "    \n",
    "    print(cd8_l3_list[[i]]$Ketoacidosis  %>% table)\n",
    "    rownames(cd8_l3_list[[i]]@meta.data)  <- colnames(cd8_l3_list[[i]])\n",
    "}"
   ]
  },
  {
   "cell_type": "code",
   "execution_count": null,
   "id": "6167184d",
   "metadata": {},
   "outputs": [],
   "source": [
    "cd8_l3_list[[i]]$Keto_Time  %>% table"
   ]
  },
  {
   "cell_type": "markdown",
   "id": "292a9700",
   "metadata": {},
   "source": [
    "### Ketoacidosis in T0"
   ]
  },
  {
   "cell_type": "code",
   "execution_count": null,
   "id": "46e714ba",
   "metadata": {},
   "outputs": [],
   "source": [
    "Conditions  <- list(c(\"Dia T0\", \"Ctrl T0\"),\n",
    "                    c(\"Dia T0\", \"Dia T1\"),\n",
    "                    c(\"Dia T1\", \"Ctrl T0\"),\n",
    "                    c(\"PR_0 T0\", \"PR_1 T0\"),\n",
    "                    c(\"PR_0 T1\", \"PR_1 T1\"),\n",
    "                    c(\"PR_0 T0\", \"PR_0 T1\"),\n",
    "                    c(\"PR_1 T0\", \"PR_1 T1\"),\n",
    "                    c(\"Keto_1 T0\", \"Keto_0 T0\"))"
   ]
  },
  {
   "cell_type": "code",
   "execution_count": null,
   "id": "22500213",
   "metadata": {},
   "outputs": [],
   "source": [
    "Conditions  %>% length"
   ]
  },
  {
   "cell_type": "code",
   "execution_count": null,
   "id": "30e5841f",
   "metadata": {},
   "outputs": [],
   "source": [
    "dataset_list  <- cd8_l3_list"
   ]
  },
  {
   "cell_type": "code",
   "execution_count": null,
   "id": "84a567a3",
   "metadata": {},
   "outputs": [],
   "source": [
    "# Function to calculate markers for a subsetted da for given conditions\n",
    "\n",
    "Create_Markers_DataFrame  <- function(j){\n",
    "    print(\"#######################\")\n",
    "    print(i)\n",
    "    print(j)\n",
    "    Condition_1 = Conditions[[j]][1]\n",
    "    Condition_2 = Conditions[[j]][2]\n",
    "    \n",
    "    seurat_obj  <- dataset_list[[i]]\n",
    "        \n",
    "    if(grepl(Condition_1, pattern = \"PR\")){\n",
    "      seurat_obj$Condition  <- seurat_obj$Condition2\n",
    "    }\n",
    "    \n",
    "    if(grepl(Condition_1, pattern = \"Keto\")){\n",
    "      seurat_obj$Condition  <- seurat_obj$Keto_Time\n",
    "    }\n",
    "    \n",
    "    ## Create subsetted df\n",
    "        ds  <- subset(seurat_obj, Condition %in% c(Condition_1, Condition_2) & \n",
    "                  Experiment_ID %in% c(\"Exp16\", \"Exp18\", \"Exp19\", \"Exp20\"))\n",
    "        print(ds$Condition  %>% table)\n",
    "    \n",
    "    ## scRNAseq - RNA\n",
    "    DefaultAssay(ds)  <- \"RNA\"\n",
    "        Idents(ds)  <- ds$Condition\n",
    "        markers_sc  <- FindAllMarkers(ds, only.pos = T)\n",
    "        markers_sc$source  <- \"scRNAseq_RNA\"\n",
    "        rownames(markers_sc)  <- NULL\n",
    "    print(paste(\"DE RNA: \", nrow(markers_sc)))\n",
    "    \n",
    "    ## scRNAseq - collecTRI\n",
    "    DefaultAssay(ds)  <- \"CollecTRI\"\n",
    "        Idents(ds)  <- ds$Condition\n",
    "        markers_sc2  <- FindAllMarkers(ds, only.pos = T)\n",
    "        markers_sc2$source  <- \"scRNAseq_collecTRI\"\n",
    "        rownames(markers_sc2)  <- NULL\n",
    "    print(paste(\"DE CollecTRI: \", nrow(markers_sc2)))\n",
    "    \n",
    "    if(nrow(markers_sc2)>0 & nrow(markers_sc)>0){ \n",
    "            markers2 <- rbind(markers_sc, markers_sc2) } else {\n",
    "        if(nrow(markers_sc)>0){\n",
    "            markers2  <- markers_sc\n",
    "            } else {\n",
    "            if(nrow(markers_sc2)>0){\n",
    "                markers2  <- markers_sc2\n",
    "            \n",
    "            } else {\n",
    "                markers2  <- NULL\n",
    "                }\n",
    "        }\n",
    "        }\n",
    "    \n",
    "        markers2$test_type  <- paste(Conditions[[j]][1], \"vs\", Conditions[[j]][2])\n",
    "        print(\"..\")\n",
    "        markers2$dataset  <- names(dataset_list)[i]\n",
    "        return(markers2)\n",
    "}\n"
   ]
  },
  {
   "cell_type": "code",
   "execution_count": null,
   "id": "9e3a6f56",
   "metadata": {
    "scrolled": true
   },
   "outputs": [],
   "source": [
    "for(i in 1:length(dataset_list)){\n",
    "\n",
    "print(\"######################################################################\")\n",
    "if(i > 1){\n",
    "suppressWarnings(rm(markers_sc, markers, markers1, markers_sc2, markers_sc_predia, markers_bulk, markers_bulk2))    \n",
    "}\n",
    "    \n",
    "mrk  <- map(.x = 1:8, Create_Markers_DataFrame)\n",
    "\n",
    "mrk  <- bind_rows(mrk) \n",
    "    \n",
    "if(i>1){ \n",
    "    all_markers  <- rbind(all_markers, mrk)\n",
    "} else {\n",
    "    all_markers  <- mrk\n",
    "}\n",
    "    \n",
    "    \n",
    "}"
   ]
  },
  {
   "cell_type": "markdown",
   "id": "d090ba83",
   "metadata": {},
   "source": [
    "## DeSeq2"
   ]
  },
  {
   "cell_type": "code",
   "execution_count": null,
   "id": "ffb99337",
   "metadata": {},
   "outputs": [],
   "source": [
    "Conditions  <- list(c(\"Dia T0\", \"Ctrl T0\"),\n",
    "                    c(\"Dia T0\", \"Dia T1\"),\n",
    "                    c(\"Dia T1\", \"Ctrl T0\"),\n",
    "                    c(\"PR_0 T0\", \"PR_1 T0\"),\n",
    "                    c(\"PR_0 T1\", \"PR_1 T1\"),\n",
    "                    c(\"PR_0 T0\", \"PR_0 T1\"),\n",
    "                    c(\"PR_1 T0\", \"PR_1 T1\"),\n",
    "                    c(\"Keto_1 T0\", \"Keto_0 T0\"))\n",
    "\n",
    "Conditions  %>% length\n",
    "\n",
    "dataset_list  <- cd8_l3_list\n",
    "\n",
    "# Function to calculate markers for a subsetted da for given conditions"
   ]
  },
  {
   "cell_type": "code",
   "execution_count": null,
   "id": "d2a5dcd1",
   "metadata": {},
   "outputs": [],
   "source": [
    "Create_Markers_DataFrame  <- function(j){\n",
    "     print(\"#######################\")\n",
    "    print(i)\n",
    "    print(j)\n",
    "    \n",
    "    Condition_1 = Conditions[[j]][1]\n",
    "    Condition_2 = Conditions[[j]][2]\n",
    "    \n",
    "    seurat_obj  <- dataset_list[[i]]\n",
    "        \n",
    "    if(grepl(Condition_1, pattern = \"PR\")){\n",
    "      seurat_obj$Condition  <- seurat_obj$Condition2\n",
    "    }\n",
    "    \n",
    "    if(grepl(Condition_1, pattern = \"Keto\")){\n",
    "      seurat_obj$Condition  <- seurat_obj$Keto_Time\n",
    "    }\n",
    "    \n",
    "    ## Create subsetted df\n",
    "        ds  <- subset(seurat_obj, Condition %in% c(Condition_1, Condition_2) & \n",
    "                  Experiment_ID %in% c(\"Exp16\", \"Exp18\", \"Exp19\", \"Exp20\"))\n",
    "        print(ds$Condition  %>% table)\n",
    "    \n",
    "    ## DESeq2\n",
    "     patient_metadata2  <- ds@meta.data  %>% \n",
    "    dplyr::select(Sample_ID, Patient_ID, Condition, Disease, Time, Experiment_ID)  %>% \n",
    "    unique  %>% ungroup\n",
    "    avgexp = AggregateExpression(ds,\n",
    "                           return.seurat = T, group.by = \"Sample_ID\", \n",
    "                          assay = \"RNA\", slot = \"counts\")\n",
    "    avgexp$Sample_ID  <- as.numeric(colnames(avgexp))\n",
    "    avgexp@meta.data  <- avgexp@meta.data   %>% left_join(patient_metadata2)\n",
    "    rownames(avgexp@meta.data)  <- colnames(avgexp)\n",
    "\n",
    "    Idents(avgexp)  <- avgexp$Condition\n",
    "\n",
    "    mrk_deseq  <- FindAllMarkers(avgexp, min.pct = 0.05, test.use = \"DESeq2\", only.pos = T)\n",
    "    \n",
    "    print(paste(\"DE RNA: \", nrow(mrk_deseq)))\n",
    "    \n",
    "        if(nrow(mrk_deseq)>0){\n",
    "            markers2  <- mrk_deseq\n",
    "           \n",
    "            } else {\n",
    "          markers2  <- data.frame(p_val = NA_integer_, avg_log2FC = NA_integer_, pct.1 = NA_integer_,\n",
    "                                        pct.2 = NA_integer_, p_val_adj = NA_integer_, cluster = \"\", gene = \"\")\n",
    "                }\n",
    "        markers2$source  <- \"DESeq2\"\n",
    "        rownames(markers2)  <- NULL\n",
    "       markers2$test_type  <- paste(Conditions[[j]][1], \"vs\", Conditions[[j]][2])\n",
    "       print(\"..\")\n",
    "       markers2$dataset  <- names(dataset_list)[i]\n",
    "       return(markers2)\n",
    "}"
   ]
  },
  {
   "cell_type": "code",
   "execution_count": null,
   "id": "5d67744b",
   "metadata": {},
   "outputs": [],
   "source": [
    "for(i in 1:length(dataset_list)){\n",
    "\n",
    "print(\"######################################################################\")\n",
    "if(i > 1){\n",
    "suppressWarnings(rm(markers_sc, markers, markers1, markers_sc2, markers_sc_predia, markers_bulk, markers_bulk2))    \n",
    "}\n",
    "    \n",
    "mrk  <- map(.x = 1:8, Create_Markers_DataFrame)\n",
    "\n",
    "mrk  <- bind_rows(mrk) \n",
    "    \n",
    "if(i>1){ \n",
    "    all_markers  <- rbind(all_markers, mrk)\n",
    "} else {\n",
    "    all_markers  <- mrk\n",
    "}\n",
    "    \n",
    "    \n",
    "}"
   ]
  },
  {
   "cell_type": "code",
   "execution_count": null,
   "id": "60914fe8",
   "metadata": {
    "scrolled": true
   },
   "outputs": [],
   "source": [
    "all_markers  %>% arrange(p_val_adj) "
   ]
  },
  {
   "cell_type": "code",
   "execution_count": null,
   "id": "9e2466ab",
   "metadata": {},
   "outputs": [],
   "source": [
    "dir.create(\"../tables/DESeq_markers/\")"
   ]
  },
  {
   "cell_type": "code",
   "execution_count": null,
   "id": "5978c01d",
   "metadata": {},
   "outputs": [],
   "source": [
    "write.csv(all_markers  %>% arrange(p_val_adj), \"../tables/DESeq_markers/cd8_deseq.csv\")"
   ]
  },
  {
   "cell_type": "code",
   "execution_count": null,
   "id": "24f44f75",
   "metadata": {},
   "outputs": [],
   "source": []
  },
  {
   "cell_type": "markdown",
   "id": "c97ad171",
   "metadata": {},
   "source": [
    "## DE genes with correction for sex-related genes"
   ]
  },
  {
   "cell_type": "code",
   "execution_count": null,
   "id": "66ce77b7",
   "metadata": {},
   "outputs": [],
   "source": [
    "# Function to calculate markers for a subsetted da for given conditions\n",
    "\n",
    "Create_Sex_Markers_DataFrame  <- function(i){\n",
    "    \n",
    "    ds  <- dataset_list[[i]]\n",
    "   \n",
    "    ## scRNAseq - RNA\n",
    "    DefaultAssay(ds)  <- \"RNA\"\n",
    "        Idents(ds)  <- ds$Sex\n",
    "        markers_sc  <- FindAllMarkers(ds, only.pos = T)\n",
    "        markers_sc$source  <- \"Sex_RNA\"\n",
    "        rownames(markers_sc)  <- NULL\n",
    "    print(paste(\"DE RNA: \", nrow(markers_sc)))\n",
    "    \n",
    "    ## scRNAseq - collecTRI\n",
    "    DefaultAssay(ds)  <- \"CollecTRI\"\n",
    "        Idents(ds)  <- ds$Sex\n",
    "        markers_sc2  <- FindAllMarkers(ds, only.pos = T)\n",
    "        markers_sc2$source  <- \"Sex_collecTRI\"\n",
    "        rownames(markers_sc2)  <- NULL\n",
    "    print(paste(\"DE CollecTRI: \", nrow(markers_sc2)))\n",
    "    \n",
    "    if(nrow(markers_sc2)>0 & nrow(markers_sc)>0){ \n",
    "            markers2 <- rbind(markers_sc, markers_sc2) } else {\n",
    "        if(nrow(markers_sc)>0){\n",
    "            markers2  <- markers_sc\n",
    "            } else {\n",
    "            if(nrow(markers_sc2)>0){\n",
    "                markers2  <- markers_sc2\n",
    "            \n",
    "            } else {\n",
    "                markers2  <- NULL\n",
    "                }\n",
    "        }\n",
    "        }\n",
    "    \n",
    "        markers2$test_type  <- \"Sex\"\n",
    "        print(\"..\")\n",
    "        markers2$dataset  <- names(dataset_list)[i]\n",
    "        return(markers2)\n",
    "}\n"
   ]
  },
  {
   "cell_type": "code",
   "execution_count": null,
   "id": "110938df",
   "metadata": {
    "scrolled": true
   },
   "outputs": [],
   "source": [
    "\n",
    "    \n",
    "mrk  <- map(.x = 1:length(dataset_list), Create_Sex_Markers_DataFrame)\n",
    "\n",
    "mrk  <- bind_rows(mrk) \n"
   ]
  },
  {
   "cell_type": "code",
   "execution_count": null,
   "id": "12eadd3a",
   "metadata": {
    "scrolled": true
   },
   "outputs": [],
   "source": [
    "mrk"
   ]
  },
  {
   "cell_type": "code",
   "execution_count": null,
   "id": "f7d7ad6d",
   "metadata": {},
   "outputs": [],
   "source": [
    "dir.create(\"../tables/de_genes\")\n",
    "\n",
    "write.csv(all_markers, \"../tables/de_genes/240319_markers_full_cd8_with_collecTRI.csv\", row.names = F)"
   ]
  },
  {
   "cell_type": "code",
   "execution_count": null,
   "id": "006e347d",
   "metadata": {},
   "outputs": [],
   "source": [
    "write.csv(mrk, \"../tables/de_genes/240319_markers_full_cd8_sex.csv\", row.names = F)"
   ]
  },
  {
   "cell_type": "code",
   "execution_count": null,
   "id": "971b6024",
   "metadata": {},
   "outputs": [],
   "source": [
    "# Create filtered marker list without Sex genes\n",
    "\n",
    "for(i in 1:length(dataset_list)){\n",
    "\n",
    "filt_df  <- all_markers  %>% dplyr::filter(dataset == names(dataset_list)[i])\n",
    "genes_to_remove  <- mrk  %>% dplyr::filter(dataset == names(dataset_list)[i])  %>% pull(gene) \n",
    "\n",
    "markers_without_sex  <- dplyr::filter(filt_df, !(gene %in% genes_to_remove))\n",
    "     \n",
    "if(i>1){ \n",
    "    all_markers_without_sex  <- rbind(all_markers_without_sex, markers_without_sex)\n",
    "} else {\n",
    "    all_markers_without_sex  <- markers_without_sex\n",
    "}\n",
    "    \n",
    "    \n",
    "}"
   ]
  },
  {
   "cell_type": "code",
   "execution_count": null,
   "id": "3d478600",
   "metadata": {},
   "outputs": [],
   "source": [
    "nrow(all_markers)"
   ]
  },
  {
   "cell_type": "code",
   "execution_count": null,
   "id": "1b0b13cc",
   "metadata": {},
   "outputs": [],
   "source": [
    "nrow(all_markers_without_sex)"
   ]
  },
  {
   "cell_type": "code",
   "execution_count": null,
   "id": "b1c243de",
   "metadata": {},
   "outputs": [],
   "source": [
    "write.csv(all_markers_without_sex, \"../tables/de_genes/240319_cd8_all_markers_without_sex.csv\", row.names = F)"
   ]
  },
  {
   "cell_type": "code",
   "execution_count": null,
   "id": "0281f088",
   "metadata": {
    "scrolled": true
   },
   "outputs": [],
   "source": [
    "all_markers_without_sex$dataset %>% table"
   ]
  },
  {
   "cell_type": "code",
   "execution_count": null,
   "id": "01cac6ad",
   "metadata": {},
   "outputs": [],
   "source": []
  },
  {
   "cell_type": "markdown",
   "id": "2906123a",
   "metadata": {},
   "source": [
    "## DE genes in SNP variant"
   ]
  },
  {
   "cell_type": "code",
   "execution_count": null,
   "id": "dcfaa385",
   "metadata": {},
   "outputs": [],
   "source": [
    "snp_meta  <- read_csv(\"../data/snp_meta_our_paitents.csv\")"
   ]
  },
  {
   "cell_type": "code",
   "execution_count": null,
   "id": "87c72133",
   "metadata": {},
   "outputs": [],
   "source": [
    "snp_meta$`...1`  <- NULL"
   ]
  },
  {
   "cell_type": "code",
   "execution_count": null,
   "id": "95e00316",
   "metadata": {
    "scrolled": true
   },
   "outputs": [],
   "source": [
    "snp_meta"
   ]
  },
  {
   "cell_type": "code",
   "execution_count": null,
   "id": "9b87bd1e",
   "metadata": {},
   "outputs": [],
   "source": [
    "snp_meta$PTPN22_rs2476601 %>% table\n",
    "snp_meta$IFIH1_rs1990760 %>% table\n",
    "snp_meta$CD226_rs763361 %>% table\n",
    "snp_meta$CD69_rs4763879 %>% table\n",
    "snp_meta$TYK2_rs2304256 %>% table\n",
    "snp_meta$UBASH3A_rs876498 %>% table"
   ]
  },
  {
   "cell_type": "code",
   "execution_count": null,
   "id": "a918e92f",
   "metadata": {},
   "outputs": [],
   "source": [
    "snp_meta  <- snp_meta  %>% dplyr::select(Patient_ID, PTPN22_rs2476601, IFIH1_rs1990760,\n",
    "                                         CD226_rs763361, CD69_rs4763879,\n",
    "                                        TYK2_rs2304256, UBASH3A_rs876498)"
   ]
  },
  {
   "cell_type": "code",
   "execution_count": null,
   "id": "9cf9837b",
   "metadata": {},
   "outputs": [],
   "source": [
    "snp_meta$PTPN22_rs2476601   <- ifelse(snp_meta$PTPN22_rs2476601 %in% c(\"AA\",\"AG\",\"GG\"), snp_meta$PTPN22_rs2476601, NA_character_)"
   ]
  },
  {
   "cell_type": "code",
   "execution_count": null,
   "id": "74f5a973",
   "metadata": {},
   "outputs": [],
   "source": [
    "snp_meta$TYK2_rs2304256 %>% table"
   ]
  },
  {
   "cell_type": "code",
   "execution_count": null,
   "id": "aa5940c1",
   "metadata": {},
   "outputs": [],
   "source": [
    "snp_meta$TYK2_rs2304256   <- ifelse(snp_meta$TYK2_rs2304256 %in% c(\"AA\",\"AC\",\"CC\"), snp_meta$TYK2_rs2304256, NA_character_)"
   ]
  },
  {
   "cell_type": "code",
   "execution_count": null,
   "id": "8bb18a43",
   "metadata": {},
   "outputs": [],
   "source": [
    "snp_meta$CD226_rs763361  <- ifelse(snp_meta$CD226_rs763361 %in% c(\"CC\",\"CT\",\"TT\"), snp_meta$CD226_rs763361, NA_character_)"
   ]
  },
  {
   "cell_type": "code",
   "execution_count": null,
   "id": "91af27dc",
   "metadata": {},
   "outputs": [],
   "source": [
    "snp_meta$CD69_rs4763879  <- ifelse(snp_meta$CD69_rs4763879 %in% c(\"AA\",\"AG\",\"GG\"), snp_meta$CD69_rs4763879, NA_character_)"
   ]
  },
  {
   "cell_type": "code",
   "execution_count": null,
   "id": "f1b89a8f",
   "metadata": {},
   "outputs": [],
   "source": [
    "snp_meta$UBASH3A_rs876498 %>% table"
   ]
  },
  {
   "cell_type": "code",
   "execution_count": null,
   "id": "fd534297",
   "metadata": {},
   "outputs": [],
   "source": [
    "snp_meta$UBASH3A_rs876498  <- ifelse(snp_meta$UBASH3A_rs876498 %in% c(\"AA\",\"AG\",\"GG\"), snp_meta$UBASH3A_rs876498, NA_character_)"
   ]
  },
  {
   "cell_type": "code",
   "execution_count": null,
   "id": "fc505413",
   "metadata": {},
   "outputs": [],
   "source": [
    "snp_meta$PTPN22_rs2476601 %>% table\n",
    "snp_meta$IFIH1_rs1990760 %>% table\n",
    "snp_meta$CD226_rs763361 %>% table\n",
    "snp_meta$CD69_rs4763879 %>% table\n",
    "snp_meta$TYK2_rs2304256 %>% table\n",
    "snp_meta$UBASH3A_rs876498 %>% table"
   ]
  },
  {
   "cell_type": "code",
   "execution_count": null,
   "id": "b1e6c9dc",
   "metadata": {
    "scrolled": true
   },
   "outputs": [],
   "source": [
    "snp_meta"
   ]
  },
  {
   "cell_type": "code",
   "execution_count": null,
   "id": "2d4f584d",
   "metadata": {},
   "outputs": [],
   "source": [
    "# Function to calculate markers for a subsetted da for given conditions\n",
    "\n",
    "Create_SNP_Markers_DataFrame  <- function(i){\n",
    "    \n",
    "    ds  <- dataset_list[[i]]\n",
    "    \n",
    "    for(j in 2:ncol(snp_meta)){\n",
    "        \n",
    "    one_snp_meta  <- dplyr::select(snp_meta, 1,j)\n",
    "    one_snp_meta$Patient_ID  <- as.character(one_snp_meta$Patient_ID)\n",
    "        colnames(one_snp_meta)[2]  <- \"variant\"\n",
    "    ds@meta.data  <- left_join(ds@meta.data, one_snp_meta)\n",
    "    rownames(ds@meta.data)  <- colnames(ds)\n",
    "    \n",
    "    ## scRNAseq - RNA\n",
    "    DefaultAssay(ds)  <- \"RNA\"\n",
    "        Idents(ds)  <- ds$variant\n",
    "        markers_sc  <- FindAllMarkers(ds, only.pos = F)\n",
    "        markers_sc$source  <- paste(colnames(snp_meta)[j], \"RNA\")\n",
    "        rownames(markers_sc)  <- NULL\n",
    "    print(paste(\"DE RNA: \", nrow(markers_sc)))\n",
    "    \n",
    "    ## scRNAseq - collecTRI\n",
    "    DefaultAssay(ds)  <- \"CollecTRI\"\n",
    "       Idents(ds)  <- ds$variant\n",
    "        markers_sc2  <- FindAllMarkers(ds, only.pos = F)\n",
    "        markers_sc2$source  <- paste(colnames(snp_meta)[j], \"CollecTRI\")\n",
    "        rownames(markers_sc2)  <- NULL\n",
    "    print(paste(\"DE CollecTRI: \", nrow(markers_sc2)))\n",
    "    \n",
    "    if(nrow(markers_sc2)>0 & nrow(markers_sc)>0){ \n",
    "            markers2 <- rbind(markers_sc, markers_sc2) } else {\n",
    "        if(nrow(markers_sc)>0){\n",
    "            markers2  <- markers_sc\n",
    "            } else {\n",
    "            if(nrow(markers_sc2)>0){\n",
    "                markers2  <- markers_sc2\n",
    "            \n",
    "            } else {\n",
    "                markers2  <- NULL\n",
    "                }\n",
    "        }\n",
    "        }\n",
    "        \n",
    "        if(j>2){\n",
    "            markers3  <- rbind(markers3, markers2)\n",
    "        } else {\n",
    "        markers3  <- markers2    \n",
    "        }\n",
    "        \n",
    "        ds$variant  <- NULL\n",
    "        \n",
    "        }\n",
    "    \n",
    "        markers3$test_type  <- \"SNP\"\n",
    "        print(\"..\")\n",
    "        markers3$dataset  <- names(dataset_list)[i]\n",
    "        return(markers3)\n",
    "}\n"
   ]
  },
  {
   "cell_type": "code",
   "execution_count": null,
   "id": "c6edc752",
   "metadata": {},
   "outputs": [],
   "source": [
    "dataset_list  <- cd8_l3_list"
   ]
  },
  {
   "cell_type": "code",
   "execution_count": null,
   "id": "faedfed0",
   "metadata": {
    "scrolled": true
   },
   "outputs": [],
   "source": [
    "\n",
    "    \n",
    "mrk  <- map(.x = 1:length(dataset_list), Create_SNP_Markers_DataFrame)\n",
    "\n",
    "mrk  <- bind_rows(mrk) \n"
   ]
  },
  {
   "cell_type": "code",
   "execution_count": null,
   "id": "18c3d21e",
   "metadata": {
    "scrolled": true
   },
   "outputs": [],
   "source": [
    "mrk"
   ]
  },
  {
   "cell_type": "code",
   "execution_count": null,
   "id": "4b127411",
   "metadata": {},
   "outputs": [],
   "source": [
    "write.csv(mrk, \"../tables/de_genes/240315_snp_cd8.csv\")"
   ]
  },
  {
   "cell_type": "code",
   "execution_count": null,
   "id": "25c639be",
   "metadata": {
    "scrolled": true
   },
   "outputs": [],
   "source": [
    "mrk  %>% dplyr::filter(gene %in% c(\"PTPN22\",\"IFIH1\",\"CD69\",\"CD226\",\"UBASH3A\",\"TYK2\"))"
   ]
  },
  {
   "cell_type": "code",
   "execution_count": null,
   "id": "e3aed326",
   "metadata": {
    "scrolled": true
   },
   "outputs": [],
   "source": [
    "mrk  %>% group_by(cluster, source)  %>% tally  %>% arrange(source)"
   ]
  },
  {
   "cell_type": "code",
   "execution_count": null,
   "id": "3757a7f0",
   "metadata": {
    "scrolled": true
   },
   "outputs": [],
   "source": [
    "mrk  %>% filter(grepl(source, pattern = \"RNA\")) %>% group_by(gene)  %>% tally  %>% arrange(desc(n)) "
   ]
  },
  {
   "cell_type": "code",
   "execution_count": null,
   "id": "faa40c35",
   "metadata": {},
   "outputs": [],
   "source": []
  },
  {
   "cell_type": "markdown",
   "id": "4daaf2e8",
   "metadata": {},
   "source": [
    "## Analysis of DE genes"
   ]
  },
  {
   "cell_type": "code",
   "execution_count": null,
   "id": "8c45488b",
   "metadata": {
    "scrolled": true
   },
   "outputs": [],
   "source": [
    "library(EnsDb.Hsapiens.v86)"
   ]
  },
  {
   "cell_type": "code",
   "execution_count": null,
   "id": "19d2463a",
   "metadata": {},
   "outputs": [],
   "source": [
    "geneIDs1 <- ensembldb::select(EnsDb.Hsapiens.v86, keys= all_markers_without_sex$gene, \n",
    "                              keytype = \"SYMBOL\", columns = c(\"SYMBOL\",\"ENTREZID\"))"
   ]
  },
  {
   "cell_type": "code",
   "execution_count": null,
   "id": "37804f82",
   "metadata": {
    "scrolled": true
   },
   "outputs": [],
   "source": [
    "geneIDs1"
   ]
  },
  {
   "cell_type": "code",
   "execution_count": null,
   "id": "d246f594",
   "metadata": {},
   "outputs": [],
   "source": [
    "colnames(geneIDs1)  <- c(\"gene\", \"entrezid\")"
   ]
  },
  {
   "cell_type": "code",
   "execution_count": null,
   "id": "b4b4426e",
   "metadata": {
    "scrolled": true
   },
   "outputs": [],
   "source": [
    "all_markers_without_sex"
   ]
  },
  {
   "cell_type": "markdown",
   "id": "3a2bd427",
   "metadata": {},
   "source": [
    "## Ctrl vs Dia T0"
   ]
  },
  {
   "cell_type": "markdown",
   "id": "bf431eb9",
   "metadata": {},
   "source": [
    "### RNA"
   ]
  },
  {
   "cell_type": "code",
   "execution_count": null,
   "id": "0bb0942c",
   "metadata": {},
   "outputs": [],
   "source": [
    "genes_Dia_vs_Ctrl_T0  <- all_markers_without_sex  %>% \n",
    "dplyr::filter(test_type == \"Ctrl T0 vs Dia T0\" & source == \"scRNAseq_RNA\")  %>% \n",
    "group_by(gene)  %>% tally()  %>% arrange(desc(n))  %>% pull(gene)"
   ]
  },
  {
   "cell_type": "code",
   "execution_count": null,
   "id": "61cc876a",
   "metadata": {},
   "outputs": [],
   "source": [
    "genes_Dia_vs_Ctrl_T0"
   ]
  },
  {
   "cell_type": "code",
   "execution_count": null,
   "id": "9efcdf1c",
   "metadata": {},
   "outputs": [],
   "source": [
    "genes_Dia_vs_Ctrl_T0  %>% length"
   ]
  },
  {
   "cell_type": "code",
   "execution_count": null,
   "id": "4daab0b8",
   "metadata": {},
   "outputs": [],
   "source": [
    "lvl  <- all_markers_without_sex  %>% dplyr::filter(test_type == \"Ctrl T0 vs Dia T0\" & source == \"scRNAseq_RNA\")  %>% \n",
    "group_by(gene, cluster)  %>% arrange(cluster)  %>% pull(gene)  %>% unique"
   ]
  },
  {
   "cell_type": "code",
   "execution_count": null,
   "id": "3dab12e9",
   "metadata": {
    "scrolled": true
   },
   "outputs": [],
   "source": [
    "all_markers_without_sex  %>% dplyr::filter(test_type == \"Ctrl T0 vs Dia T0\" & source == \"scRNAseq_RNA\")  %>% \n",
    "group_by(gene)  %>% tally  %>% arrange(desc(n))"
   ]
  },
  {
   "cell_type": "code",
   "execution_count": null,
   "id": "be693c81",
   "metadata": {},
   "outputs": [],
   "source": [
    "is.more.than.one.cluster  <- all_markers_without_sex  %>% \n",
    "dplyr::filter(test_type == \"Ctrl T0 vs Dia T0\" & source == \"scRNAseq_RNA\")  %>% \n",
    "group_by(gene)  %>% tally  %>% arrange(desc(n))  %>% dplyr::filter(n>1)  %>% pull(gene)"
   ]
  },
  {
   "cell_type": "code",
   "execution_count": null,
   "id": "f4c4e7ba",
   "metadata": {
    "scrolled": true
   },
   "outputs": [],
   "source": [
    "is.more.than.one.cluster"
   ]
  },
  {
   "cell_type": "code",
   "execution_count": null,
   "id": "5d8bc0d1",
   "metadata": {},
   "outputs": [],
   "source": [
    "options(repr.plot.height = 4, repr.plot.width = 20)\n",
    "all_markers_without_sex  %>% \n",
    "dplyr::filter(test_type == \"Ctrl T0 vs Dia T0\" & \n",
    "              gene %in% genes_Dia_vs_Ctrl_T0 & \n",
    "              source == \"scRNAseq_RNA\" )  %>%  \n",
    "mutate(cluster_source = paste(cluster, source))  %>% \n",
    "ggplot(aes(factor(gene, levels = lvl), dataset)) + \n",
    "  geom_point(aes(size = -log(p_val_adj, base = 10), colour = cluster_source)) + \n",
    "  theme_bw()  + scale_size_continuous(range=c(1,4)) +\n",
    "  #scale_colour_gradient2(low = \"lightskyblue\", mid = \"lightsteelblue2\", high = \"salmon\") + \n",
    " theme(axis.text.x = element_text(angle = 90))"
   ]
  },
  {
   "cell_type": "code",
   "execution_count": null,
   "id": "b5f1f50c",
   "metadata": {},
   "outputs": [],
   "source": [
    "options(repr.plot.height = 4, repr.plot.width = 20)\n",
    "all_markers_without_sex  %>% \n",
    "dplyr::filter(test_type == \"Ctrl T0 vs Dia T0\" & \n",
    "              gene %in% genes_Dia_vs_Ctrl_T0 & \n",
    "              source == \"scRNAseq_RNA\" & gene %in% is.more.than.one.cluster)  %>%  \n",
    "mutate(cluster_source = paste(cluster, source))  %>% \n",
    "ggplot(aes(factor(gene, levels = lvl), dataset)) + \n",
    "  geom_point(aes(size = -log(p_val_adj, base = 10), colour = cluster_source)) + \n",
    "  theme_bw()  + scale_size_continuous(range=c(1,4)) +\n",
    "  #scale_colour_gradient2(low = \"lightskyblue\", mid = \"lightsteelblue2\", high = \"salmon\") + \n",
    " theme(axis.text.x = element_text(angle = 90))"
   ]
  },
  {
   "cell_type": "markdown",
   "id": "22b131fb",
   "metadata": {},
   "source": [
    "### CollecTRI"
   ]
  },
  {
   "cell_type": "code",
   "execution_count": null,
   "id": "2cec2f6f",
   "metadata": {},
   "outputs": [],
   "source": [
    "genes_Dia_vs_Ctrl_T0  <- all_markers_without_sex  %>% dplyr::filter(test_type == \"Ctrl T0 vs Dia T0\" & source == \"scRNAseq_collecTRI\")  %>% \n",
    "group_by(gene)  %>% tally()  %>% arrange(desc(n))  %>% pull(gene)"
   ]
  },
  {
   "cell_type": "code",
   "execution_count": null,
   "id": "a619ecb7",
   "metadata": {},
   "outputs": [],
   "source": [
    "genes_Dia_vs_Ctrl_T0"
   ]
  },
  {
   "cell_type": "code",
   "execution_count": null,
   "id": "55966e43",
   "metadata": {},
   "outputs": [],
   "source": [
    "lvl  <- all_markers_without_sex  %>% dplyr::filter(test_type == \"Ctrl T0 vs Dia T0\" & source == \"scRNAseq_collecTRI\")  %>% \n",
    "group_by(gene, cluster)  %>% arrange(cluster)  %>% pull(gene)  %>% unique"
   ]
  },
  {
   "cell_type": "code",
   "execution_count": null,
   "id": "5b09da33",
   "metadata": {
    "scrolled": true
   },
   "outputs": [],
   "source": [
    "all_markers_without_sex  %>% dplyr::filter(test_type == \"Ctrl T0 vs Dia T0\" & source == \"scRNAseq_collecTRI\")  %>% \n",
    "group_by(gene)  %>% tally  %>% arrange(desc(n))"
   ]
  },
  {
   "cell_type": "code",
   "execution_count": null,
   "id": "5982318e",
   "metadata": {},
   "outputs": [],
   "source": []
  },
  {
   "cell_type": "code",
   "execution_count": null,
   "id": "f684ca3b",
   "metadata": {},
   "outputs": [],
   "source": [
    "is.more.than.one.cluster  <- all_markers_without_sex  %>% \n",
    "dplyr::filter(test_type == \"Ctrl T0 vs Dia T0\" & source == \"scRNAseq_collecTRI\")  %>% \n",
    "group_by(gene)  %>% tally  %>% arrange(desc(n))  %>% dplyr::filter(n>1)  %>% pull(gene)"
   ]
  },
  {
   "cell_type": "code",
   "execution_count": null,
   "id": "44d4775d",
   "metadata": {
    "scrolled": true
   },
   "outputs": [],
   "source": [
    "is.more.than.one.cluster"
   ]
  },
  {
   "cell_type": "code",
   "execution_count": null,
   "id": "98c8f6b1",
   "metadata": {},
   "outputs": [],
   "source": [
    "options(repr.plot.height = 4, repr.plot.width = 20)\n",
    "all_markers_without_sex  %>% \n",
    "dplyr::filter(test_type == \"Ctrl T0 vs Dia T0\" & \n",
    "              gene %in% genes_Dia_vs_Ctrl_T0 & \n",
    "              source == \"scRNAseq_collecTRI\" )  %>%  \n",
    "mutate(cluster_source = paste(cluster, source))  %>% \n",
    "ggplot(aes(factor(gene, levels = lvl), dataset)) + \n",
    "  geom_point(aes(size = -log(p_val_adj, base = 10), colour = cluster_source)) + \n",
    "  theme_bw()  + scale_size_continuous(range=c(1,4)) +\n",
    "  #scale_colour_gradient2(low = \"lightskyblue\", mid = \"lightsteelblue2\", high = \"salmon\") + \n",
    " theme(axis.text.x = element_text(angle = 90))"
   ]
  },
  {
   "cell_type": "code",
   "execution_count": null,
   "id": "93a814b4",
   "metadata": {},
   "outputs": [],
   "source": [
    "options(repr.plot.height = 4, repr.plot.width = 18)\n",
    "all_markers_without_sex  %>% \n",
    "dplyr::filter(test_type == \"Ctrl T0 vs Dia T0\" & \n",
    "              gene %in% genes_Dia_vs_Ctrl_T0 & \n",
    "              source == \"scRNAseq_collecTRI\" & gene %in% is.more.than.one.cluster)  %>%  \n",
    "mutate(cluster_source = paste(cluster, source))  %>% \n",
    "ggplot(aes(factor(gene, levels = lvl), dataset)) + \n",
    "  geom_point(aes(size = -log(p_val_adj, base = 10), colour = cluster_source)) + \n",
    "  theme_bw()  + scale_size_continuous(range=c(1,4)) +\n",
    "  #scale_colour_gradient2(low = \"lightskyblue\", mid = \"lightsteelblue2\", high = \"salmon\") + \n",
    " theme(axis.text.x = element_text(angle = 90))"
   ]
  },
  {
   "cell_type": "markdown",
   "id": "fa781878",
   "metadata": {},
   "source": [
    "# DE gd vs CD8 Naive\n"
   ]
  },
  {
   "cell_type": "code",
   "execution_count": null,
   "id": "500acc53",
   "metadata": {},
   "outputs": [],
   "source": [
    "options(repr.plot.width = 6, repr.plot.height = 5)\n",
    "DimPlot(cd8_l1_full_filt, group.by = \"annotations_l2\")"
   ]
  },
  {
   "cell_type": "code",
   "execution_count": null,
   "id": "5b5facf8",
   "metadata": {},
   "outputs": [],
   "source": [
    "Idents(cd8_l1_full_filt)  <- cd8_l1_full_filt$annotations_l2"
   ]
  },
  {
   "cell_type": "code",
   "execution_count": null,
   "id": "32d6c50f",
   "metadata": {},
   "outputs": [],
   "source": [
    "table(cd8_l1_full_filt$annotations_l2)"
   ]
  },
  {
   "cell_type": "code",
   "execution_count": null,
   "id": "13b097c8",
   "metadata": {},
   "outputs": [],
   "source": [
    "mrk  <- FindMarkers(cd8_l1_full_filt,\n",
    "                   `ident.1` = \"CD8 Unconventional T cells---gd T cells\",\n",
    "                   `ident.2` = \"CD8 T cells---Naive\")"
   ]
  },
  {
   "cell_type": "code",
   "execution_count": null,
   "id": "caf4ecdb",
   "metadata": {},
   "outputs": [],
   "source": [
    "DefaultAssay(cd8_l1_full_filt)  <- \"RNA\""
   ]
  },
  {
   "cell_type": "code",
   "execution_count": null,
   "id": "1f19a75b",
   "metadata": {
    "scrolled": true
   },
   "outputs": [],
   "source": [
    "fc  <- FoldChange(cd8_l1_full_filt,\n",
    "                   `ident.1` = \"CD8 Unconventional T cells---gd T cells\",\n",
    "                   `ident.2` = \"CD8 T cells---Naive\")"
   ]
  },
  {
   "cell_type": "code",
   "execution_count": null,
   "id": "06ed28d7",
   "metadata": {},
   "outputs": [],
   "source": [
    "fc  <- fc  %>% arrange(avg_log2FC)  %>% rownames_to_column(\"gene\")"
   ]
  },
  {
   "cell_type": "code",
   "execution_count": null,
   "id": "d5982bcd",
   "metadata": {
    "scrolled": true
   },
   "outputs": [],
   "source": [
    "fc  %>% dplyr::filter(gene %in% treg_gene_sig)"
   ]
  },
  {
   "cell_type": "code",
   "execution_count": null,
   "id": "b00aee27",
   "metadata": {},
   "outputs": [],
   "source": [
    "treg_gene_sig  <- c('S100A4', 'FOXP3', 'ITGB1', 'AHNAK', 'TIGIT', 'ANXA2', 'IL10RA', \n",
    "                    'TNFRSF1B', 'GBP5', 'LGALS1', 'RTKN2', 'CTLA4', 'S100A10', 'IL32', \n",
    "                    'FCRL3', 'IL2RA', 'CLIC1', 'KLF6', 'ANXA5', 'SYNE2', 'S100A11', \n",
    "                    'CD74', 'CRIP1', 'EZR', 'NIBAN1', 'FLNA', 'NCF4', 'PRDM1', 'LGALS3', \n",
    "                    'CAPN2', 'ARID5B', 'SH3BGRL3', 'CST7', 'ISG20', 'MYO1F', 'LMNA', \n",
    "                    'HLA-DRB5', 'TENT5C', 'GAPDH', 'MTHFD2', 'FANK1', 'HLA-DQA1', \n",
    "                    'IL2RB', 'IKZF2', 'SRGN', 'STAM', 'CLDND1', 'DUSP4', 'BIRC3', \n",
    "                    'SAT1', 'PBXIP1', 'HLA-DRB1', 'HLA-DPA1', 'TNFRSF4', 'SHMT2', \n",
    "                    'TAGLN2', 'PLP2', 'ACTN4', 'DUSP1', 'RORA', 'CD99', 'GLCCI1', \n",
    "                    'CARD16', 'PTTG1', 'TSPAN5', 'TAP1', 'OPTN', 'EIF3A', 'ELOVL5', \n",
    "                    'LSR', 'GSTK1', 'ZFP36', 'TIFA', 'BATF', 'EMP3', 'TSC22D3', 'OGDH', \n",
    "                    'HLA-DPB1', 'CCDC50', 'LIMS1', 'RAB11FIP1', 'TRAC', 'CD84', 'CAST', \n",
    "                    'PYHIN1', 'JPT1', 'MPST', 'SAMSN1', 'ZC2HC1A', 'PMAIP1', 'S100A6', \n",
    "                    'PI16', 'OAS1', 'PPP1R18', 'NCR3', 'CD58', 'DOK2', 'BCL2L11', \n",
    "                    'SMAD3', 'GBP2', 'SYT11', 'PPP2R5C', 'PPP1R15A', 'RGS1', 'RAB37', \n",
    "                    'REEP5', 'IKZF3', 'RNF214', 'IRF1', 'ANTKMT', 'PRDX1', 'IQGAP2', 'MT2A', \n",
    "                    'TNFRSF18', 'FAS', 'DUSP2', 'CCDC167', 'HLA-DRA', 'PELI1', 'JUNB', 'LGALS9', \n",
    "                    'ZBTB38', 'SPTAN1', 'SMS', 'PARP1', 'MCL1', 'DYNLL1', 'HERC5', 'CDC25B', \n",
    "                    'SLC9A3R1', 'MYO1G', 'TPR', 'JUN', 'ID3', 'TPI1', 'RILPL2', 'CCR6', \n",
    "                    'YWHAH', 'PTGER2', 'HNRNPLL', 'PREX1', 'PSMB9', 'MYH9', 'CORO1B', 'SLAMF1', \n",
    "                    'SIT1', 'NPDC1', 'PHACTR2', 'ST8SIA6', 'ATP2B4', 'IL18R1', 'TRIM22', 'HLA-DQB1', \n",
    "                    'F5', 'TBC1D4', 'MAF', 'ATP2B1', 'C4orf48', 'GALM', 'C12orf75', 'CPA5', \n",
    "                    'PPP1CA', 'S1PR4', 'PDE4DIP', 'GATA3', 'GLIPR2', 'CHST7', 'CXCR4', 'H1-4', \n",
    "                    'GADD45B', 'RESF1', 'IER2', 'ISG15', 'CDC42EP3', 'PCBD1', 'LYST', 'TPM4', \n",
    "                    'TAB2', 'NINJ2', 'ALOX5AP', 'CCR4', 'FCER1G', 'MAP3K1', 'CXCR3', 'CD59', \n",
    "                    'SLFN5', 'CCNG2', 'ITGA4', 'SESN1', 'SPATS2L', 'HPGD', 'EFHD2', 'LIMA1', \n",
    "                    'BCL2', 'RABGAP1L', 'TOX', 'SAMD9', 'TXN', 'IFI16', 'IDS', 'TRIB2', 'CDHR3', \n",
    "                    'PALM2AKAP2', 'ICA1', 'LPAR6', 'KLRB1', 'SMC6', 'ITM2C', 'CEACAM4', 'PRF1', \n",
    "                    'CD63', 'AHR', 'IQGAP1', 'GADD45A', 'ADAM8', 'GLIPR1', 'VAV3', 'EPSTI1', \n",
    "                    'GPRIN3', 'POU2F2', 'SH2D2A', 'DENND10', 'MAP4', 'CCR10', 'PTPN18', 'IER5', \n",
    "                    'GPR183', 'LAIR2', 'CTSC', 'TTN', 'NR4A2', 'SESN3', 'CPNE2', 'MX1')\n"
   ]
  },
  {
   "cell_type": "code",
   "execution_count": null,
   "id": "5be61a84",
   "metadata": {},
   "outputs": [],
   "source": [
    "fc.df  <- fc  %>%   dplyr::select(gene, avg_log2FC)\n",
    "ranks<- deframe(fc.df)"
   ]
  },
  {
   "cell_type": "code",
   "execution_count": null,
   "id": "d02259e5",
   "metadata": {},
   "outputs": [],
   "source": [
    "library(fgsea)"
   ]
  },
  {
   "cell_type": "code",
   "execution_count": null,
   "id": "eb61cead",
   "metadata": {},
   "outputs": [],
   "source": [
    "options(repr.plot.width = 5, repr.plot.height = 3)\n",
    "\n",
    "plotEnrichment(treg_gene_sig,\n",
    "               ranks) + labs(title=\"treg_gene_sig in Tgd\") \n"
   ]
  },
  {
   "cell_type": "code",
   "execution_count": null,
   "id": "2c22162f",
   "metadata": {},
   "outputs": [],
   "source": [
    "fg  <- fgsea(pathways = list(\"treg_gene_sig\" = treg_gene_sig),\n",
    "               ranks)"
   ]
  },
  {
   "cell_type": "code",
   "execution_count": null,
   "id": "3da26da6",
   "metadata": {},
   "outputs": [],
   "source": [
    "fg$leadingEdge"
   ]
  },
  {
   "cell_type": "code",
   "execution_count": null,
   "id": "7f2dfd1f",
   "metadata": {},
   "outputs": [],
   "source": [
    "cd8_l1_full_filt  <- AddModuleScore(cd8_l1_full_filt, features = treg_gene_sig,\n",
    "                                   search = F,\n",
    "  ctrl = 50,\n",
    "  nbin = 50,\n",
    "  assay = \"RNA\",\n",
    "  name = 'treg_gene_sig')"
   ]
  },
  {
   "cell_type": "code",
   "execution_count": null,
   "id": "a82d10df",
   "metadata": {},
   "outputs": [],
   "source": [
    "cd8_l1_full_filt$treg_gene_sig1"
   ]
  },
  {
   "cell_type": "code",
   "execution_count": null,
   "id": "968f0ca2",
   "metadata": {},
   "outputs": [],
   "source": [
    "options(repr.plot.width = 10, repr.plot.height = 8)\n",
    "\n",
    "VlnPlot(cd8_l1_full_filt, features = \"treg_gene_sig1\", pt.size = 0)"
   ]
  },
  {
   "cell_type": "code",
   "execution_count": null,
   "id": "6416ea5c",
   "metadata": {},
   "outputs": [],
   "source": [
    "library(GEOquery)"
   ]
  },
  {
   "cell_type": "code",
   "execution_count": null,
   "id": "4b8cefc8",
   "metadata": {},
   "outputs": [],
   "source": [
    "gset <- getGEO(\"GSE106082\", GSEMatrix =TRUE, getGPL=TRUE, AnnotGPL=TRUE)"
   ]
  },
  {
   "cell_type": "code",
   "execution_count": null,
   "id": "06f066ae",
   "metadata": {},
   "outputs": [],
   "source": [
    "library(readr)"
   ]
  },
  {
   "cell_type": "code",
   "execution_count": null,
   "id": "f08ebe8c",
   "metadata": {},
   "outputs": [],
   "source": [
    "metadata <- data.frame(geo_id = gset$GSE106082_series_matrix.txt.gz$geo_accession,\n",
    "                       cell_type = gset$GSE106082_series_matrix.txt.gz$`characteristics_ch1.1`\n",
    "                       )"
   ]
  },
  {
   "cell_type": "code",
   "execution_count": null,
   "id": "6538d163",
   "metadata": {},
   "outputs": [],
   "source": [
    "mtx_tr356  <- read_csv(\"../../240218_VN_Diabetes_V05/data/published_data/Terrazzano_2020/tr356_df_sum.csv\")"
   ]
  },
  {
   "cell_type": "code",
   "execution_count": null,
   "id": "ea5424de",
   "metadata": {},
   "outputs": [],
   "source": [
    "mtx_tr356$`...1`  <- NULL"
   ]
  },
  {
   "cell_type": "code",
   "execution_count": null,
   "id": "20959dfa",
   "metadata": {},
   "outputs": [],
   "source": [
    "mtx_tr356  <- mtx_tr356  %>% column_to_rownames(\"SYMBOL\")"
   ]
  },
  {
   "cell_type": "code",
   "execution_count": null,
   "id": "214f7a39",
   "metadata": {
    "scrolled": true
   },
   "outputs": [],
   "source": [
    "mtx_tr356"
   ]
  },
  {
   "cell_type": "code",
   "execution_count": null,
   "id": "24eca43e",
   "metadata": {},
   "outputs": [],
   "source": [
    "plan(\"multisession\")"
   ]
  },
  {
   "cell_type": "code",
   "execution_count": null,
   "id": "2cc668f2",
   "metadata": {},
   "outputs": [],
   "source": [
    "pred <- SingleR(test = cd8_l1_full_filt@assays$RNA@counts, \n",
    "                ref=mtx_tr356, labels=metadata$cell_type, de.method=\"wilcox\",fine.tune = F,num.threads = 4\n",
    "       )"
   ]
  },
  {
   "cell_type": "code",
   "execution_count": null,
   "id": "8b440ef1",
   "metadata": {
    "scrolled": true
   },
   "outputs": [],
   "source": [
    "cd8_diet  <- subset(cd8_l1_full_filt, barcode %in% c(sample(colnames(cd8_l1_full_filt), size = 5000)))"
   ]
  },
  {
   "cell_type": "code",
   "execution_count": null,
   "id": "6881be77",
   "metadata": {},
   "outputs": [],
   "source": [
    "cd8_diet"
   ]
  },
  {
   "cell_type": "code",
   "execution_count": null,
   "id": "ad0465c8",
   "metadata": {
    "scrolled": true
   },
   "outputs": [],
   "source": [
    "mtx_tr356"
   ]
  },
  {
   "cell_type": "code",
   "execution_count": null,
   "id": "9288ad1d",
   "metadata": {},
   "outputs": [],
   "source": [
    "mtx_tr356  <- mtx_tr356  %>% mutate_all(.funs = as.numeric)"
   ]
  },
  {
   "cell_type": "code",
   "execution_count": null,
   "id": "df8ebb86",
   "metadata": {
    "scrolled": true
   },
   "outputs": [],
   "source": [
    "mtx_tr356"
   ]
  },
  {
   "cell_type": "code",
   "execution_count": null,
   "id": "55691868",
   "metadata": {},
   "outputs": [],
   "source": [
    "ref_tr3_56 <- list(matrix = mtx_tr356[,c(1:6,10:12)], \n",
    "                       labels = metadata$cell_type[c(1:6,10:12)])\n"
   ]
  },
  {
   "cell_type": "code",
   "execution_count": null,
   "id": "7f537736",
   "metadata": {
    "scrolled": true
   },
   "outputs": [],
   "source": [
    "mtx_tr356"
   ]
  },
  {
   "cell_type": "code",
   "execution_count": null,
   "id": "3415c294",
   "metadata": {},
   "outputs": [],
   "source": [
    "ref_tr3_56$labels"
   ]
  },
  {
   "cell_type": "code",
   "execution_count": null,
   "id": "ae9d8593",
   "metadata": {},
   "outputs": [],
   "source": [
    "ref_tr3_56$matrix  <- as.matrix(ref_tr3_56$matrix)"
   ]
  },
  {
   "cell_type": "code",
   "execution_count": null,
   "id": "0d9f9e9c",
   "metadata": {},
   "outputs": [],
   "source": [
    "head(rownames(ref_tr3_56$matrix))"
   ]
  },
  {
   "cell_type": "code",
   "execution_count": null,
   "id": "d3096e1c",
   "metadata": {
    "scrolled": true
   },
   "outputs": [],
   "source": [
    "pred <- SingleR(test = cd8_l1_full_filt@assays$RNA@counts, \n",
    "                ref=ref_tr3_56$matrix, labels=ref_tr3_56$labels, \n",
    "                fine.tune = T,num.threads = 4\n",
    "       )"
   ]
  },
  {
   "cell_type": "code",
   "execution_count": null,
   "id": "9b0b9807",
   "metadata": {
    "scrolled": true
   },
   "outputs": [],
   "source": [
    "pred\n"
   ]
  },
  {
   "cell_type": "code",
   "execution_count": null,
   "id": "a37e7b9d",
   "metadata": {},
   "outputs": [],
   "source": [
    "cd8_l1_full_filt$singler  <- pred$labels"
   ]
  },
  {
   "cell_type": "code",
   "execution_count": null,
   "id": "2f85afe2",
   "metadata": {},
   "outputs": [],
   "source": [
    "DimPlot(cd8_l1_full_filt, group.by = \"annotations_l2\")"
   ]
  },
  {
   "cell_type": "code",
   "execution_count": null,
   "id": "9ca3190a",
   "metadata": {},
   "outputs": [],
   "source": [
    "options(repr.plot.width = 6, repr.plot.height = 4.5)\n",
    "DimPlot(cd8_l1_full_filt, group.by = \"singler\", shuffle = T, cols = c(\"grey88\",\"skyblue1\",\"red\"))"
   ]
  },
  {
   "cell_type": "code",
   "execution_count": null,
   "id": "10203523",
   "metadata": {},
   "outputs": [],
   "source": [
    "cd8_l1_full_filt$  <- pred$labels"
   ]
  },
  {
   "cell_type": "code",
   "execution_count": null,
   "id": "b51e16f0",
   "metadata": {
    "scrolled": true
   },
   "outputs": [],
   "source": [
    "cd8_l1_full_filt@meta.data  <- cd8_l1_full_filt@meta.data  %>% \n",
    "mutate(Annotation = gsub(cd8_l1_full_filt$annotations_l2, pattern = \"---\", replacement = \"\"))  %>% \n",
    "mutate(Annotation = gsub(Annotation, pattern = \"CD8 T cells\", replacement = \"\"))  %>% \n",
    "mutate(Annotation = gsub(Annotation, pattern = \"CD8 Unconventional T cells\", replacement = \"\"))  %>% \n",
    "mutate(Annotation = gsub(Annotation, pattern = \"CD8 NK cells\", replacement = \"\"))  %>% \n",
    "mutate(annot2 = case_when(Annotation %in% c(\"Tem\",\"Tcm\",\"Temra\",\"Proliferating\") ~ \"NonNaive\", \n",
    "                          TRUE ~ Annotation)) "
   ]
  },
  {
   "cell_type": "code",
   "execution_count": null,
   "id": "b37e78aa",
   "metadata": {},
   "outputs": [],
   "source": [
    "test  <- data.frame(annotation = cd8_l1_full_filt$annot2,\n",
    "                    pred = cd8_l1_full_filt$singler)"
   ]
  },
  {
   "cell_type": "code",
   "execution_count": null,
   "id": "3f28dc11",
   "metadata": {},
   "outputs": [],
   "source": [
    "df2 <- test %>% group_by(annotation, pred) %>% \n",
    "  summarise(n = n()) %>%\n",
    "  mutate(freq = n / sum(n))"
   ]
  },
  {
   "cell_type": "code",
   "execution_count": null,
   "id": "85d06c3b",
   "metadata": {},
   "outputs": [],
   "source": [
    "options(repr.plot.width = 8, repr.plot.height = 4.5)\n",
    "ggplot(test) +\n",
    "  aes(x = annotation, fill = factor(pred)) +\n",
    "  geom_bar(position = \"fill\") + \n",
    "theme_classic() + \n",
    "ggtheme() +\n",
    "coord_flip() + \n",
    "scale_fill_manual(values = c(\"#d6ebd2ff\", \"lightskyblue1\", \"red2\"))\n",
    "#scale_fill_manual(values = c(\"grey\",\"#74bc68ff\", \"dodgerblue3\", \"red2\"))"
   ]
  },
  {
   "cell_type": "code",
   "execution_count": null,
   "id": "eb1e3b95",
   "metadata": {
    "scrolled": true
   },
   "outputs": [],
   "source": [
    "options(repr.plot.width = 8, repr.plot.height = 4.5)\n",
    "ggplot(test) +\n",
    "  aes(x = annotation, fill = factor(pred)) +\n",
    "  geom_bar(position = \"fill\") + \n",
    "theme_classic() + \n",
    "ggtheme() +\n",
    "scale_fill_manual(values = c(\"white\", \"white\", \"red2\"))\n",
    "#scale_fill_manual(values = c(\"grey\",\"#74bc68ff\", \"dodgerblue3\", \"red2\"))"
   ]
  },
  {
   "cell_type": "code",
   "execution_count": null,
   "id": "11ffb0d2",
   "metadata": {},
   "outputs": [],
   "source": [
    "options(repr.plot.width = 7, repr.plot.height = 30)\n",
    "\n",
    "ggplot(test) +\n",
    "  aes(x = annotation, fill = factor(pred)) +\n",
    "  geom_bar(position = \"fill\") + \n",
    "theme_classic() + \n",
    "ggtheme() +\n",
    "scale_fill_manual(values = c(\"white\", \"white\", \"red2\")) + \n",
    "scale_y_continuous(n.breaks = 40, expand = c(0,NA)) +\n",
    " theme(legend.title = element_blank(),axis.text.x = element_text(angle = 90)) \n",
    "\n",
    "ggsave(\"../figures/cd8_temra_pct.svg\", width = 15, height = 45, units = \"cm\")"
   ]
  },
  {
   "cell_type": "code",
   "execution_count": null,
   "id": "4b08b073",
   "metadata": {},
   "outputs": [],
   "source": [
    "options(repr.plot.width = 6, repr.plot.height = 4.5)\n",
    "DimPlot(cd8_l1_full_filt, group.by = \"annot2\", cols = c(\"#c77cffff\",\"#da56b3ff\",\"#92c0dfff\", \"#2078cdff\",\"#74bc68ff\"))"
   ]
  },
  {
   "cell_type": "code",
   "execution_count": null,
   "id": "493e3401",
   "metadata": {},
   "outputs": [],
   "source": [
    "\n",
    "DimPlot(cd8_l1_full_filt, group.by = \"annot2\", cols = c(\"#6599caff\",\"#f66ecdff\",\n",
    "                                                        \"#6ee8bfff\", \"#9ad5ffff\",\"#a4d034ff\"))"
   ]
  },
  {
   "cell_type": "code",
   "execution_count": null,
   "id": "b4117fd7",
   "metadata": {},
   "outputs": [],
   "source": [
    "\n",
    "DimPlot(cd8_l1_full_filt, group.by = \"annot2\", cols = c(\"#6294c3ff\",\"#c861c4ff\",\n",
    "                                                        \"#8cd8bfff\", \"#9ad5ffff\",\"#b2d164ff\"))"
   ]
  },
  {
   "cell_type": "code",
   "execution_count": null,
   "id": "33357662",
   "metadata": {},
   "outputs": [],
   "source": [
    "options(repr.plot.width = 5, repr.plot.height = 4)\n",
    "\n",
    "DimPlot(cd8_l1_full_filt, group.by = \"annot2\", cols = c(\"#c861c4ff\",\"#c861c4ff\",\n",
    "                                                        \"grey78\", \"grey78\",\"grey78\"))"
   ]
  },
  {
   "cell_type": "code",
   "execution_count": null,
   "id": "70d6ea36",
   "metadata": {},
   "outputs": [],
   "source": []
  },
  {
   "cell_type": "code",
   "execution_count": null,
   "id": "3212e32d",
   "metadata": {},
   "outputs": [],
   "source": [
    "cd8_l1_full_filt$score_tr356  <- pred$scores[,3]"
   ]
  },
  {
   "cell_type": "code",
   "execution_count": null,
   "id": "e9ee97fb",
   "metadata": {},
   "outputs": [],
   "source": [
    "VlnPlot(cd8_l1_full_filt, features = \"score_tr356\", group.by = \"annotations_l2\")"
   ]
  },
  {
   "cell_type": "code",
   "execution_count": null,
   "id": "810252cb",
   "metadata": {},
   "outputs": [],
   "source": [
    "options(repr.plot.width = 14, repr.plot.height = 6)\n",
    "data.frame(Score = cd8_l1_full_filt$score_tr356,\n",
    "                  Annotation = gsub(cd8_l1_full_filt$annotations_l2, pattern = \"---\", replacement = \"\\n\"))  %>% \n",
    "mutate(Annotation = gsub(Annotation, pattern = \"CD8 T cells\", replacement = \"\"))  %>% \n",
    "mutate(Annotation = gsub(Annotation, pattern = \"CD8 Unconventional T cells\", replacement = \"\"))  %>% \n",
    "mutate(Annotation = gsub(Annotation, pattern = \"CD8 NK cells\", replacement = \"\"))  %>% \n",
    "ggplot(aes(x = fct_reorder(Annotation, Score), y = Score)) +\n",
    "  geom_violin() + \n",
    "  stat_summary(fun = \"mean\",\n",
    "               geom = \"crossbar\", \n",
    "               width = 0.5,\n",
    "               colour = \"red\") + ggtitle(\"TR3-56 score\") + theme_classic() + ggtheme() + xlab(\"\")"
   ]
  },
  {
   "cell_type": "code",
   "execution_count": null,
   "id": "5e14a5ba",
   "metadata": {},
   "outputs": [],
   "source": [
    "data.frame(Score = cd8_l1_full_filt$score_tr356,\n",
    "                  Annotation = gsub(cd8_l1_full_filt$annotations_l2, pattern = \"---\", replacement = \"\"))  %>% \n",
    "mutate(Annotation = gsub(Annotation, pattern = \"CD8 T cells\", replacement = \"\"))  %>% \n",
    "mutate(Annotation = gsub(Annotation, pattern = \"CD8 Unconventional T cells\", replacement = \"\"))  %>% \n",
    "mutate(Annotation = gsub(Annotation, pattern = \"CD8 NK cells\", replacement = \"\"))  %>% \n",
    "mutate(annot2 = case_when(Annotation %in% c(\"Tem\",\"Tcm\",\"Temra\",\"Proliferating\") ~ \"NonNaive\", \n",
    "                          TRUE ~ Annotation))  %>% \n",
    "ggplot(aes(x = fct_reorder(annot2, Score), y = Score)) +\n",
    "  geom_violin() + \n",
    "  stat_summary(fun = \"mean\",\n",
    "               geom = \"crossbar\", \n",
    "               width = 0.5,\n",
    "               colour = \"red\") + ggtitle(\"TR3-56 score\") + theme_classic() + ggtheme() + xlab(\"\")"
   ]
  },
  {
   "cell_type": "markdown",
   "id": "daa870f0",
   "metadata": {},
   "source": [
    "### Score per patient"
   ]
  },
  {
   "cell_type": "code",
   "execution_count": null,
   "id": "d6f92ef2",
   "metadata": {},
   "outputs": [],
   "source": [
    "options(repr.plot.width = 6, repr.plot.height = 8)\n",
    "\n",
    "data.frame(Score = cd8_l1_full_filt$score_tr356,\n",
    "                  Annotation = gsub(cd8_l1_full_filt$annotations_l2, pattern = \"---\", replacement = \"\"),\n",
    "          Patient_ID = cd8_l1_full_filt$Patient_ID,\n",
    "          Patient_Time = cd8_l1_full_filt$Patient_Time,\n",
    "          Disease = cd8_l1_full_filt$Disease,\n",
    "           Condition = cd8_l1_full_filt$Condition\n",
    "          )  %>% \n",
    "mutate(Annotation = gsub(Annotation, pattern = \"CD8 T cells\", replacement = \"\"))  %>% \n",
    "mutate(Annotation = gsub(Annotation, pattern = \"CD8 Unconventional T cells\", replacement = \"\"))  %>% \n",
    "mutate(Annotation = gsub(Annotation, pattern = \"CD8 NK cells\", replacement = \"\"))  %>% \n",
    "mutate(annot2 = case_when(Annotation %in% c(\"Tem\",\"Tcm\",\"Temra\",\"Proliferating\") ~ \"NonNaive\", \n",
    "                          TRUE ~ Annotation))  %>% \n",
    "ggplot(aes(x = Condition, y = Score)) +\n",
    "  geom_violin() + \n",
    "stat_compare_means(comparisons = list(c(1,2),c(2,3),c(1,3))) +\n",
    "  stat_summary(fun = \"mean\",\n",
    "               geom = \"crossbar\", \n",
    "               width = 0.5,\n",
    "               colour = \"red\") + ggtitle(\"TR3-56 score\") + theme_classic() + ggtheme() + xlab(\"\")"
   ]
  },
  {
   "cell_type": "code",
   "execution_count": null,
   "id": "5d548f39",
   "metadata": {},
   "outputs": [],
   "source": [
    "\n",
    "data.frame(Score = cd8_l1_full_filt$score_tr356,\n",
    "                  Annotation = gsub(cd8_l1_full_filt$annotations_l2, pattern = \"---\", replacement = \"\"),\n",
    "          Patient_ID = cd8_l1_full_filt$Patient_ID,\n",
    "          Patient_Time = cd8_l1_full_filt$Patient_Time,\n",
    "          Disease = cd8_l1_full_filt$Disease, \n",
    "           Condition = cd8_l1_full_filt$Condition\n",
    "          )  %>% \n",
    "mutate(Annotation = gsub(Annotation, pattern = \"CD8 T cells\", replacement = \"\"))  %>% \n",
    "mutate(Annotation = gsub(Annotation, pattern = \"CD8 Unconventional T cells\", replacement = \"\"))  %>% \n",
    "mutate(Annotation = gsub(Annotation, pattern = \"CD8 NK cells\", replacement = \"\"))  %>% \n",
    "mutate(annot2 = case_when(Annotation %in% c(\"Tem\",\"Tcm\",\"Temra\",\"Proliferating\") ~ \"NonNaive\", \n",
    "                          TRUE ~ Annotation))  %>% \n",
    "group_by(Condition, Patient_Time)  %>% \n",
    "summarize(Score = mean(Score))  %>% \n",
    "ggplot(aes(x = Condition, y = Score)) +\n",
    "  geom_violin() + \n",
    "geom_point()+\n",
    "stat_compare_means(comparisons = list(c(1,2),c(2,3))) +\n",
    "  stat_summary(fun = \"mean\",\n",
    "               geom = \"crossbar\", \n",
    "               width = 0.5,\n",
    "               colour = \"red\") + ggtitle(\"TR3-56 score All CD8 cells\") + theme_classic() + ggtheme() + xlab(\"\")"
   ]
  },
  {
   "cell_type": "code",
   "execution_count": null,
   "id": "ce2df877",
   "metadata": {
    "scrolled": true
   },
   "outputs": [],
   "source": [
    "options(repr.plot.width = 6, repr.plot.height = 6)\n",
    "\n",
    "data.frame(Score = cd8_l1_full_filt$score_tr356,\n",
    "                  Annotation = gsub(cd8_l1_full_filt$annotations_l2, pattern = \"---\", replacement = \"\"),\n",
    "          Patient_ID = cd8_l1_full_filt$Patient_ID,\n",
    "          Patient_Time = cd8_l1_full_filt$Patient_Time,\n",
    "          Disease = cd8_l1_full_filt$Disease, \n",
    "           Condition = cd8_l1_full_filt$Condition\n",
    "          )  %>% \n",
    "dplyr::filter(Patient_ID != 116)  %>% \n",
    "mutate(Annotation = gsub(Annotation, pattern = \"CD8 T cells\", replacement = \"\"))  %>% \n",
    "mutate(Annotation = gsub(Annotation, pattern = \"CD8 Unconventional T cells\", replacement = \"\"))  %>% \n",
    "mutate(Annotation = gsub(Annotation, pattern = \"CD8 NK cells\", replacement = \"\"))  %>% \n",
    "mutate(annot2 = case_when(Annotation %in% c(\"Tem\",\"Tcm\",\"Temra\",\"Proliferating\") ~ \"NonNaive\", \n",
    "                          TRUE ~ Annotation))  %>% \n",
    "group_by(Condition, Patient_Time)  %>% \n",
    "summarize(Score = mean(Score))  %>% \n",
    "ggplot(aes(x = Condition, y = Score)) +\n",
    "   geom_violin(alpha = 0.3, aes(fill = Condition)) +\n",
    "  stat_summary(fun = \"median\",\n",
    "               geom = \"crossbar\", \n",
    "               width = 0.75,\n",
    "               color = \"grey30\") +\n",
    "   scale_fill_manual(values = c(\"#1874cdff\",  \"#ee6363ff\", \"#c41515ff\",\"#eeb4b4ff\")) +\n",
    "scale_color_manual(values = c(\"dodgerblue3\",  \"#e54c4cff\", \"#aa2a2aff\",\"#e88989ff\")) +\n",
    "geom_beeswarm(size = 3, cex = 3, \n",
    "              color = \"black\", method = \"center\",\n",
    "             aes(fill = Condition), shape = 21) +\n",
    "stat_compare_means(comparisons = list(c(2,3)), paired = T) +\n",
    "   ggtitle(\"TR3-56 score All CD8 cells\") + theme_classic() + ggtheme() + xlab(\"\")"
   ]
  },
  {
   "cell_type": "code",
   "execution_count": null,
   "id": "8bf6e2dd",
   "metadata": {},
   "outputs": [],
   "source": [
    "ggsave(\"../figures/subset_characterization/tr3_56_score_in_condition.svg\",\n",
    "       width = 10, height = 9.5, units = \"cm\")"
   ]
  },
  {
   "cell_type": "code",
   "execution_count": null,
   "id": "cfaa826e",
   "metadata": {},
   "outputs": [],
   "source": [
    "options(repr.plot.width = 6, repr.plot.height = 6)\n",
    "\n",
    "data.frame(Score = cd8_l1_full_filt$score_tr356,\n",
    "                  Annotation = gsub(cd8_l1_full_filt$annotations_l2, pattern = \"---\", replacement = \"\"),\n",
    "          Patient_ID = cd8_l1_full_filt$Patient_ID,\n",
    "          Patient_Time = cd8_l1_full_filt$Patient_Time,\n",
    "          Disease = cd8_l1_full_filt$Disease, \n",
    "           Condition = cd8_l1_full_filt$Condition\n",
    "          )  %>% \n",
    "dplyr::filter(Patient_ID != 116)  %>% \n",
    "mutate(Annotation = gsub(Annotation, pattern = \"CD8 T cells\", replacement = \"\"))  %>% \n",
    "mutate(Annotation = gsub(Annotation, pattern = \"CD8 Unconventional T cells\", replacement = \"\"))  %>% \n",
    "mutate(Annotation = gsub(Annotation, pattern = \"CD8 NK cells\", replacement = \"\"))  %>% \n",
    "mutate(annot2 = case_when(Annotation %in% c(\"Tem\",\"Tcm\",\"Temra\",\"Proliferating\") ~ \"NonNaive\", \n",
    "                          TRUE ~ Annotation))  %>% \n",
    "group_by(Condition, Patient_Time)  %>% \n",
    "summarize(Score = mean(Score))  %>% \n",
    "ggplot(aes(x = Condition, y = Score)) +\n",
    "   geom_violin(alpha = 0.3, aes(fill = Condition)) +\n",
    "  stat_summary(fun = \"median\",\n",
    "               geom = \"crossbar\", \n",
    "               width = 0.75,\n",
    "               color = \"grey30\") +\n",
    "   scale_fill_manual(values = c(\"#1874cdff\",  \"#ee6363ff\", \"#c41515ff\",\"#eeb4b4ff\")) +\n",
    "scale_color_manual(values = c(\"dodgerblue3\",  \"#e54c4cff\", \"#aa2a2aff\",\"#e88989ff\")) +\n",
    "geom_beeswarm(size = 3, cex = 3, \n",
    "              color = \"black\", method = \"center\",\n",
    "             aes(fill = Condition), shape = 21) +\n",
    "stat_compare_means(comparisons = list(c(2,3)), paired = T) +\n",
    "   ggtitle(\"TR3-56 score All CD8 cells\") + theme_classic() + ggtheme() + xlab(\"\")"
   ]
  },
  {
   "cell_type": "code",
   "execution_count": null,
   "id": "51159a0b",
   "metadata": {},
   "outputs": [],
   "source": []
  },
  {
   "cell_type": "code",
   "execution_count": null,
   "id": "08ea455d",
   "metadata": {},
   "outputs": [],
   "source": [
    "data.frame(Score = cd8_l1_full_filt$score_tr356,\n",
    "                  Annotation = gsub(cd8_l1_full_filt$annotations_l2, pattern = \"---\", replacement = \"\"),\n",
    "          Patient_ID = cd8_l1_full_filt$Patient_ID,\n",
    "          Patient_Time = cd8_l1_full_filt$Patient_Time,\n",
    "          Disease = cd8_l1_full_filt$Disease, \n",
    "           Condition = cd8_l1_full_filt$Condition\n",
    "          )  %>% \n",
    "mutate(Annotation = gsub(Annotation, pattern = \"CD8 T cells\", replacement = \"\"))  %>% \n",
    "mutate(Annotation = gsub(Annotation, pattern = \"CD8 Unconventional T cells\", replacement = \"\"))  %>% \n",
    "mutate(Annotation = gsub(Annotation, pattern = \"CD8 NK cells\", replacement = \"\"))  %>% \n",
    "mutate(annot2 = case_when(Annotation %in% c(\"Tem\",\"Tcm\",\"Temra\",\"Proliferating\") ~ \"NonNaive\", \n",
    "                          TRUE ~ Annotation))  %>% \n",
    "group_by(Condition, Patient_Time)  %>% \n",
    "summarize(Score = mean(Score))  %>% \n",
    "ggplot(aes(x = Condition, y = Score)) +\n",
    "  geom_violin() + \n",
    "geom_point()+\n",
    "stat_compare_means(comparisons = list(c(1,2),c(2,3))) +\n",
    "  stat_summary(fun = \"mean\",\n",
    "               geom = \"crossbar\", \n",
    "               width = 0.5,\n",
    "               colour = \"red\") + ggtitle(\"TR3-56 score All CD8 cells\") + theme_classic() + ggtheme() + xlab(\"\")"
   ]
  },
  {
   "cell_type": "code",
   "execution_count": null,
   "id": "ea8a40bd",
   "metadata": {},
   "outputs": [],
   "source": [
    "data.frame(Score = cd8_l1_full_filt$score_tr356,\n",
    "                  Annotation = gsub(cd8_l1_full_filt$annotations_l2, pattern = \"---\", replacement = \"\"))  %>% \n",
    "mutate(Annotation = gsub(Annotation, pattern = \"CD8 T cells\", replacement = \"\"))  %>% \n",
    "mutate(Annotation = gsub(Annotation, pattern = \"CD8 Unconventional T cells\", replacement = \"\"))  %>% \n",
    "mutate(Annotation = gsub(Annotation, pattern = \"CD8 NK cells\", replacement = \"\"))  %>% \n",
    "mutate(annot2 = case_when(Annotation %in% c(\"Tem\",\"Tcm\",\"Temra\",\"Proliferating\") ~ \"NonNaive\", \n",
    "                          TRUE ~ Annotation))  %>% \n",
    "ggplot(aes(x = fct_reorder(annot2, Score), y = Score)) +\n",
    "  geom_violin() + \n",
    "  stat_summary(fun = \"mean\",\n",
    "               geom = \"crossbar\", \n",
    "               width = 0.5,\n",
    "               colour = \"red\") + ggtitle(\"TR3-56 score\") + theme_classic() + ggtheme() + xlab(\"\")\n",
    "ggsave(\"../figures/cd356_score.svg\", width = 4, height = 3.5)"
   ]
  },
  {
   "cell_type": "markdown",
   "id": "fd20aa3d",
   "metadata": {},
   "source": [
    "### Scre in Unconventional"
   ]
  },
  {
   "cell_type": "code",
   "execution_count": null,
   "id": "345af362",
   "metadata": {},
   "outputs": [],
   "source": [
    "cd8_l2_unc_orig  <- readRDS(\"../../240617_VN_Diabetes_V06/data/processed/L2/cd8_l2_unc.rds\")"
   ]
  },
  {
   "cell_type": "code",
   "execution_count": null,
   "id": "7c04e159",
   "metadata": {},
   "outputs": [],
   "source": [
    "cd8_l2_unc_orig$Patient_ID  %>% table"
   ]
  },
  {
   "cell_type": "code",
   "execution_count": null,
   "id": "137aa583",
   "metadata": {},
   "outputs": [],
   "source": [
    "cd8_l2_unc  <- cd8_l2_unc_orig"
   ]
  },
  {
   "cell_type": "code",
   "execution_count": null,
   "id": "2f2a0a93",
   "metadata": {},
   "outputs": [],
   "source": [
    "colnames(cd8_l2_unc) %in% colnames(cd8_l1_full_filt)  %>% table"
   ]
  },
  {
   "cell_type": "code",
   "execution_count": null,
   "id": "628ee856",
   "metadata": {},
   "outputs": [],
   "source": [
    "cd8_l2_unc$barcode  <- colnames(cd8_l2_unc)"
   ]
  },
  {
   "cell_type": "code",
   "execution_count": null,
   "id": "121cadf3",
   "metadata": {},
   "outputs": [],
   "source": [
    "md_unc  <- cd8_l2_unc@meta.data"
   ]
  },
  {
   "cell_type": "code",
   "execution_count": null,
   "id": "0bcb0a00",
   "metadata": {},
   "outputs": [],
   "source": [
    "md_unc"
   ]
  },
  {
   "cell_type": "code",
   "execution_count": null,
   "id": "cc1eded0",
   "metadata": {},
   "outputs": [],
   "source": [
    "md_unc2  <- md_unc   %>% \n",
    "left_join(cd8_l1_full_filt@meta.data  %>% dplyr::select(barcode, score_tr356, singler))"
   ]
  },
  {
   "cell_type": "code",
   "execution_count": null,
   "id": "0c89b36e",
   "metadata": {},
   "outputs": [],
   "source": [
    "rownames(md_unc2)  <- colnames(cd8_l2_unc)"
   ]
  },
  {
   "cell_type": "code",
   "execution_count": null,
   "id": "9adc9b91",
   "metadata": {
    "scrolled": true
   },
   "outputs": [],
   "source": [
    "md_unc2"
   ]
  },
  {
   "cell_type": "code",
   "execution_count": null,
   "id": "fc8c8023",
   "metadata": {},
   "outputs": [],
   "source": [
    "colnames(cd8_l2_unc)"
   ]
  },
  {
   "cell_type": "code",
   "execution_count": null,
   "id": "41c06e20",
   "metadata": {},
   "outputs": [],
   "source": [
    "cd8_l2_unc@meta.data  <- md_unc2"
   ]
  },
  {
   "cell_type": "code",
   "execution_count": null,
   "id": "4db575df",
   "metadata": {},
   "outputs": [],
   "source": [
    "cd8_l2_unc@meta.data"
   ]
  },
  {
   "cell_type": "code",
   "execution_count": null,
   "id": "0125d11e",
   "metadata": {},
   "outputs": [],
   "source": [
    "colnames(cd8_l2_unc)"
   ]
  },
  {
   "cell_type": "code",
   "execution_count": null,
   "id": "2083e281",
   "metadata": {},
   "outputs": [],
   "source": [
    "options(repr.plot.width = 5, repr.plot.height = 4.5)\n",
    "\n",
    "FeaturePlot(cd8_l2_unc, features = \"score_tr356\", min.cutoff = 0.2, max.cutoff = 0.32)"
   ]
  },
  {
   "cell_type": "code",
   "execution_count": null,
   "id": "abcb3d2a",
   "metadata": {},
   "outputs": [],
   "source": [
    "options(repr.plot.width = 10, repr.plot.height = 6 )\n",
    "DimPlot(cd8_l2_unc, group.by = \"singler\", cols = c(\"grey88\", \"blue\", \"red\"))"
   ]
  },
  {
   "cell_type": "code",
   "execution_count": null,
   "id": "b4671e3f",
   "metadata": {},
   "outputs": [],
   "source": []
  },
  {
   "cell_type": "code",
   "execution_count": null,
   "id": "1b3929fe",
   "metadata": {},
   "outputs": [],
   "source": [
    "DimPlot(cd8_l2_unc)"
   ]
  },
  {
   "cell_type": "code",
   "execution_count": null,
   "id": "004396ee",
   "metadata": {},
   "outputs": [],
   "source": [
    "cd8_l2_unc$annotations_manual  %>% table"
   ]
  },
  {
   "cell_type": "code",
   "execution_count": null,
   "id": "6b2f9dd8",
   "metadata": {},
   "outputs": [],
   "source": [
    "test  <- data.frame(annotation = cd8_l2_unc$seurat_clusters,\n",
    "                    pred = cd8_l2_unc$singler)\n",
    "\n",
    "df2 <- test %>% group_by(annotation, pred) %>% \n",
    "  summarise(n = n()) %>%\n",
    "  mutate(freq = n / sum(n))\n",
    "\n",
    "df2\n",
    "\n",
    "options(repr.plot.width = 8, repr.plot.height = 4.5)\n",
    "ggplot(test) +\n",
    "  aes(x = annotation, fill = factor(pred)) +\n",
    "  geom_bar(position = \"fill\") + \n",
    "theme_classic() + \n",
    "ggtheme() +\n",
    "coord_flip() + \n",
    "scale_fill_manual(values = c(\"grey88\", \"lightskyblue1\", \"red2\"))\n"
   ]
  },
  {
   "cell_type": "code",
   "execution_count": null,
   "id": "3fc791e7",
   "metadata": {},
   "outputs": [],
   "source": [
    "options(repr.plot.width = 8, repr.plot.height = 6)\n",
    "\n",
    "data.frame(Score = cd8_l2_unc$score_tr356,\n",
    "                  Annotation = cd8_l2_unc$annotations_manual,\n",
    "          Patient_ID = cd8_l2_unc$Patient_ID,\n",
    "          Patient_Time = cd8_l2_unc$Patient_Time,\n",
    "          Disease = cd8_l2_unc$Disease,\n",
    "           Condition = cd8_l2_unc$Condition\n",
    "          )  %>% \n",
    "mutate(Annotation = gsub(Annotation, pattern = \"CD8 T cells\", replacement = \"\"))  %>% \n",
    "mutate(Annotation = gsub(Annotation, pattern = \"CD8 Unconventional T cells\", replacement = \"\"))  %>% \n",
    "mutate(Annotation = gsub(Annotation, pattern = \"CD8 NK cells\", replacement = \"\"))  %>% \n",
    "mutate(annot2 = case_when(Annotation %in% c(\"Tem\",\"Tcm\",\"Temra\",\"Proliferating\") ~ \"NonNaive\", \n",
    "                          TRUE ~ Annotation))  %>% \n",
    "ggplot(aes(x = Condition, y = Score)) +\n",
    "  geom_violin() + \n",
    "stat_compare_means(comparisons = list(c(1,2),c(2,3))) +\n",
    "  stat_summary(fun = \"mean\",\n",
    "               geom = \"crossbar\", \n",
    "               width = 0.5,\n",
    "               colour = \"red\") + ggtitle(\"TR3-56 score\") + theme_classic() + ggtheme() + xlab(\"\")"
   ]
  },
  {
   "cell_type": "code",
   "execution_count": null,
   "id": "c7bc2751",
   "metadata": {},
   "outputs": [],
   "source": [
    "\n",
    "data.frame(Score = cd8_l2_unc$score_tr356,\n",
    "                  Annotation = cd8_l2_unc$annotations_manual,\n",
    "          Patient_ID = cd8_l2_unc$Patient_ID,\n",
    "          Patient_Time = cd8_l2_unc$Patient_Time,\n",
    "          Disease = cd8_l2_unc$Disease, \n",
    "           Condition = cd8_l2_unc$Condition\n",
    "          )  %>% \n",
    "mutate(Annotation = gsub(Annotation, pattern = \"CD8 T cells\", replacement = \"\"))  %>% \n",
    "mutate(Annotation = gsub(Annotation, pattern = \"CD8 Unconventional T cells\", replacement = \"\"))  %>% \n",
    "mutate(Annotation = gsub(Annotation, pattern = \"CD8 NK cells\", replacement = \"\"))  %>% \n",
    "mutate(annot2 = case_when(Annotation %in% c(\"Tem\",\"Tcm\",\"Temra\",\"Proliferating\") ~ \"NonNaive\", \n",
    "                          TRUE ~ Annotation))  %>% \n",
    "group_by(Condition, Patient_Time)  %>% \n",
    "summarize(Score = mean(Score))  %>% \n",
    "ggplot(aes(x = Condition, y = Score)) +\n",
    "  geom_violin() + \n",
    "geom_point()+\n",
    "stat_compare_means(comparisons = list(c(1,2),c(2,3))) +\n",
    "  stat_summary(fun = \"mean\",\n",
    "               geom = \"crossbar\", \n",
    "               width = 0.5,\n",
    "               colour = \"red\") + ggtitle(\"TR3-56 score CD8 unconventional\") + theme_classic() + ggtheme() + xlab(\"\")"
   ]
  },
  {
   "cell_type": "code",
   "execution_count": null,
   "id": "6861b026",
   "metadata": {},
   "outputs": [],
   "source": [
    "data.frame(Score = cd8_l2_unc$score_tr356,\n",
    "                  Annotation = gsub(cd8_l2_unc$annotations_l2, pattern = \"---\", replacement = \"\"))  %>% \n",
    "mutate(Annotation = gsub(Annotation, pattern = \"CD8 T cells\", replacement = \"\"))  %>% \n",
    "mutate(Annotation = gsub(Annotation, pattern = \"CD8 Unconventional T cells\", replacement = \"\"))  %>% \n",
    "mutate(Annotation = gsub(Annotation, pattern = \"CD8 NK cells\", replacement = \"\"))  %>% \n",
    "mutate(annot2 = case_when(Annotation %in% c(\"Tem\",\"Tcm\",\"Temra\",\"Proliferating\") ~ \"NonNaive\", \n",
    "                          TRUE ~ Annotation))  %>% \n",
    "ggplot(aes(x = fct_reorder(annot2, Score), y = Score)) +\n",
    "  geom_violin() + \n",
    "  stat_summary(fun = \"mean\",\n",
    "               geom = \"crossbar\", \n",
    "               width = 0.5,\n",
    "               colour = \"red\") + ggtitle(\"TR3-56 score\") + theme_classic() + ggtheme() + xlab(\"\")\n",
    "ggsave(\"../figures/cd356_score.svg\", width = 4, height = 3.5)"
   ]
  },
  {
   "cell_type": "code",
   "execution_count": null,
   "id": "60981cff",
   "metadata": {},
   "outputs": [],
   "source": []
  },
  {
   "cell_type": "code",
   "execution_count": null,
   "id": "a9871f66",
   "metadata": {},
   "outputs": [],
   "source": [
    "cd8_l1_full_filt@meta.data  <- cd8_l1_full_filt@meta.data  %>% \n",
    "mutate(Annotation = gsub(cd8_l1_full_filt$annotations_l2, pattern = \"---\", replacement = \"\"))  %>% \n",
    "mutate(Annotation = gsub(Annotation, pattern = \"CD8 T cells\", replacement = \"\"))  %>% \n",
    "mutate(Annotation = gsub(Annotation, pattern = \"CD8 Unconventional T cells\", replacement = \"\"))  %>% \n",
    "mutate(Annotation = gsub(Annotation, pattern = \"CD8 NK cells\", replacement = \"\"))  %>% \n",
    "mutate(annot2 = case_when(Annotation %in% c(\"Tem\",\"Tcm\",\"Temra\",\"Proliferating\") ~ \"NonNaive\", \n",
    "                          TRUE ~ Annotation)) "
   ]
  },
  {
   "cell_type": "code",
   "execution_count": null,
   "id": "0355bc81",
   "metadata": {},
   "outputs": [],
   "source": [
    "cd8_l1_full_filt$annotations_l2_sample  <- paste(cd8_l1_full_filt$annot2, cd8_l1_full_filt$Sample_ID)"
   ]
  },
  {
   "cell_type": "code",
   "execution_count": null,
   "id": "fac45084",
   "metadata": {},
   "outputs": [],
   "source": [
    "cd8_l1_full_filt$annotations_l2_sample   %>% table"
   ]
  },
  {
   "cell_type": "code",
   "execution_count": null,
   "id": "4bd53e9a",
   "metadata": {
    "scrolled": true
   },
   "outputs": [],
   "source": [
    "# Extract the dataframe with seurat metadata\n",
    "seurat_meta_data <- cd8_l1_full_filt@meta.data\n",
    "seurat_meta_data$sample <- seurat_meta_data$annotations_l2_sample\n",
    "\n",
    "# Select genes of interest\n",
    "# The script only works for two or more genes, you can't select just one!\n",
    "gene_hits <- c(\"NCAM1\", \"TRGC1\", \"CD8A\", \"CD8B\", \n",
    "               \"FCGR3A\",\"CD3D\",\"CD3G\",\"CD3Z\")\n",
    "\n",
    "# By default the percentage of calculated cells is computed for whole sample\n",
    "# Optionally, you can select a cluster that you're interested in by subsetting:\n",
    "# pbmc_small <- subset(pbmc_small, seurat_clusters == 3)\n",
    "\n",
    "\n",
    "# Now we will calculate the percentage of expressing cells for each sample and we will merge the resulting dataframes\n",
    "expr_data4 <- data.frame(genes = gene_hits)\n",
    "\n",
    "# We will need a function that will convert any non-zero count to value 1\n",
    "fns_replace <- function(x){ifelse(x>0,1,0)}\n",
    "\n",
    "for(j in (pull(seurat_meta_data, sample)  %>% unique)){\n",
    "  \n",
    "  # subset only selected cell type\n",
    "  seu_sub_sample <- subset(cd8_l1_full_filt, annotations_l2_sample == j) \n",
    "  \n",
    "  # select the rows corresponding to genes of interest\n",
    "  index_subset <- which(rownames(seu_sub_sample@assays$RNA@counts) %in% gene_hits)\n",
    "  \n",
    "  # create a dataframe with genes of interest and cells of interest\n",
    "  expr_data <- as.data.frame(seu_sub_sample@assays$RNA@counts[index_subset,]) \n",
    "  \n",
    "  # convert expression to binary values\n",
    "  expr_data2 <- expr_data %>% mutate(across(.fns = fns_replace))\n",
    "  rownames(expr_data2) <- rownames(expr_data)\n",
    "  \n",
    "  # calculate average expresion (percentage of cells expressing the gene)\n",
    "  expr_data3 <- rowMeans(expr_data2)\n",
    "  \n",
    "  # add zeroes in cases of no expression\n",
    "  for(k in gene_hits){\n",
    "    if(k %in% names(expr_data3) == F){expr_data3[[k]] <- 0}\n",
    "  }\n",
    "  \n",
    "  expr_data3 <- as.data.frame(expr_data3)\n",
    "  colnames(expr_data3) <- j\n",
    "  expr_data3$genes <- rownames(expr_data3)\n",
    "  \n",
    "  # final dataframe with values in correct order (all cell type, loop results)\n",
    "  expr_data4 <- left_join(expr_data4, expr_data3, by=\"genes\")\n",
    "  \n",
    "}\n",
    "\n",
    "# Now we have the whole dataframe, we just need to tidy it a bit, add metadata and visualize\n",
    "\n",
    "expr_data5 <- as.data.frame(t(expr_data4))\n",
    "colnames(expr_data5) <- expr_data5[1,]\n",
    "expr_data5 <- expr_data5[2:nrow(expr_data5),]\n",
    "expr_data5$sample <- rownames(expr_data5)\n",
    "expr_data5 <- expr_data5 %>% pivot_longer( !sample, names_to = \"gene\", values_to = \"pct_express\")\n",
    "\n",
    "# Add metadata per sample - select those that you will use in the plot below\n",
    "md_to_join <- seurat_meta_data %>% dplyr::select(sample = annotations_l2_sample)  %>% \n",
    "unique() %>% mutate(sample = as.character(sample))\n",
    "md2 <- left_join(expr_data5, md_to_join, by = \"sample\") %>% ungroup %>% unique\n",
    "\n"
   ]
  },
  {
   "cell_type": "code",
   "execution_count": null,
   "id": "623feb9b",
   "metadata": {
    "scrolled": true
   },
   "outputs": [],
   "source": [
    "md2"
   ]
  },
  {
   "cell_type": "code",
   "execution_count": null,
   "id": "bc64b8cb",
   "metadata": {
    "scrolled": true
   },
   "outputs": [],
   "source": [
    "md2 %>% \n",
    "mutate(Sample_ID = substr(sample,nchar(sample)-3,nchar(sample)))  %>% \n",
    "mutate(population = substr(sample,1,nchar(sample)-3)) "
   ]
  },
  {
   "cell_type": "code",
   "execution_count": null,
   "id": "b592426b",
   "metadata": {},
   "outputs": [],
   "source": [
    "options(repr.plot.width = 20, repr.plot.height = 12)\n",
    "\n",
    "md2 %>% \n",
    "dplyr::filter(gene != \"CD3Z\")  %>% \n",
    "pivot_wider(names_from = \"gene\", values_from = \"pct_express\", values_fill = \"0\")  %>% \n",
    "pivot_longer(cols = c(2:8), names_to = \"gene\", values_to = \"pct_express\")  %>% \n",
    "mutate(Sample_ID = substr(sample,nchar(sample)-3,nchar(sample)))  %>% \n",
    "mutate(population = substr(sample,1,nchar(sample)-3))  %>% \n",
    "ggplot(aes(x = population, y = as.numeric(pct_express))) + \n",
    " geom_violin(alpha = 0.3, aes(fill = population), scale = \"width\") + \n",
    " \n",
    "geom_beeswarm(size = 1.5, aes(fill = population), cex = 2, \n",
    "                shape = 21, color = \"grey40\",corral = \"random\") +\n",
    " stat_summary(fun = \"median\",\n",
    "               geom = \"crossbar\", \n",
    "               width = 0.75,\n",
    "               color = \"grey30\") +\n",
    " #stat_compare_means(label = \"p.format\", comparisons = list(c(1,2))) +\n",
    "  theme_minimal() + \n",
    "  facet_wrap(~gene, scales = \"free\", ncol = 5) + \n",
    "  ylim(c(0,NA)) +\n",
    "#ggpubr::stat_compare_means()+\n",
    "  ylab(\"Percentage of expressing cells\") +\n",
    "  theme_classic() + ggtheme() +\n",
    " theme(legend.title = element_blank(),axis.text.x = element_text(angle = 90)) \n",
    "\n",
    "ggsave(\"../figures/scRNAseq_gd_characterization.svg\", width = 13, height = 9)"
   ]
  },
  {
   "cell_type": "code",
   "execution_count": null,
   "id": "bbc1f9f6",
   "metadata": {},
   "outputs": [],
   "source": [
    "options(repr.plot.width = 15, repr.plot.height = 8)\n",
    "\n",
    "md2 %>% \n",
    "pivot_wider(names_from = \"gene\", values_from = \"pct_express\", values_fill = \"0\")  %>% \n",
    "pivot_longer(cols = c(2:9), names_to = \"gene\", values_to = \"pct_express\")  %>% \n",
    "mutate(Sample_ID = substr(sample,nchar(sample)-3,nchar(sample)))  %>% \n",
    "mutate(population = substr(sample,1,nchar(sample)-3))  %>% \n",
    "ggplot(aes(x = population, y = as.numeric(pct_express))) + \n",
    "  geom_boxplot(outlier.shape = NA) +\n",
    "  geom_dotplot(binaxis='y', stackdir='center', dotsize=0) + \n",
    "  geom_jitter(position=position_jitter(0.2), size = 2, aes(color = factor(population))) +\n",
    "  theme_minimal() + \n",
    "  facet_wrap(~gene, scales = \"free\", ncol = 5) + \n",
    "  ylim(c(0,NA)) +\n",
    "ggpubr::stat_compare_means()+\n",
    "  ylab(\"Percentage of expressing cells\") +\n",
    "  theme(legend.title = element_blank())"
   ]
  },
  {
   "cell_type": "code",
   "execution_count": null,
   "id": "7e3e216e",
   "metadata": {},
   "outputs": [],
   "source": []
  },
  {
   "cell_type": "code",
   "execution_count": null,
   "id": "e0f29f5c",
   "metadata": {},
   "outputs": [],
   "source": [
    "FeaturePlot(cd8_l1_full_filt, features = \"score_tr356\", min.cutoff = 0.2, cols = c(\"#2d95ffff\",\"#ff4140ff\",\"#ff4140ff\"))"
   ]
  },
  {
   "cell_type": "code",
   "execution_count": null,
   "id": "3c75b7df",
   "metadata": {},
   "outputs": [],
   "source": [
    "FeaturePlot(cd8_l1_full_filt, features = \"score_tr356\", min.cutoff = 0.2, cols = c(\"white\",\"white\",\"#ff4140ff\"))"
   ]
  },
  {
   "cell_type": "code",
   "execution_count": null,
   "id": "39351853",
   "metadata": {},
   "outputs": [],
   "source": [
    "FeaturePlot(cd8_l1_full_filt, features = \"score_tr356\", min.cutoff = 0.2, cols = c(\"grey88\",\"red\",\"#ff4140ff\"))"
   ]
  },
  {
   "cell_type": "markdown",
   "id": "5dadc4a2",
   "metadata": {},
   "source": [
    "### Without CD3+CD56- "
   ]
  },
  {
   "cell_type": "code",
   "execution_count": null,
   "id": "6d2dfc8a",
   "metadata": {},
   "outputs": [],
   "source": [
    "library(GEOquery)"
   ]
  },
  {
   "cell_type": "code",
   "execution_count": null,
   "id": "5548bc98",
   "metadata": {},
   "outputs": [],
   "source": [
    "gset <- getGEO(\"GSE106082\", GSEMatrix =TRUE, getGPL=TRUE, AnnotGPL=TRUE)"
   ]
  },
  {
   "cell_type": "code",
   "execution_count": null,
   "id": "5c8c6d98",
   "metadata": {},
   "outputs": [],
   "source": [
    "library(readr)"
   ]
  },
  {
   "cell_type": "code",
   "execution_count": null,
   "id": "1ebb8049",
   "metadata": {},
   "outputs": [],
   "source": [
    "metadata <- data.frame(geo_id = gset$GSE106082_series_matrix.txt.gz$geo_accession,\n",
    "                       cell_type = gset$GSE106082_series_matrix.txt.gz$`characteristics_ch1.1`\n",
    "                       )"
   ]
  },
  {
   "cell_type": "code",
   "execution_count": null,
   "id": "35e99dca",
   "metadata": {},
   "outputs": [],
   "source": [
    "mtx_tr356  <- read_csv(\"../data/published_data/Terrazzano_2020/tr356_df_sum.csv\")"
   ]
  },
  {
   "cell_type": "code",
   "execution_count": null,
   "id": "3bceb57e",
   "metadata": {},
   "outputs": [],
   "source": [
    "mtx_tr356$`...1`  <- NULL"
   ]
  },
  {
   "cell_type": "code",
   "execution_count": null,
   "id": "deb5e48e",
   "metadata": {},
   "outputs": [],
   "source": [
    "mtx_tr356  <- mtx_tr356  %>% column_to_rownames(\"SYMBOL\")"
   ]
  },
  {
   "cell_type": "code",
   "execution_count": null,
   "id": "65c4f352",
   "metadata": {},
   "outputs": [],
   "source": [
    "mtx_tr356  <- mtx_tr356  %>% mutate_all(.funs = as.numeric)"
   ]
  },
  {
   "cell_type": "code",
   "execution_count": null,
   "id": "bbfe1c08",
   "metadata": {
    "scrolled": true
   },
   "outputs": [],
   "source": [
    "mtx_tr356"
   ]
  },
  {
   "cell_type": "code",
   "execution_count": null,
   "id": "d9265835",
   "metadata": {},
   "outputs": [],
   "source": [
    "ref_tr3_56 <- list(matrix = mtx_tr356, \n",
    "                       labels = metadata$cell_type)\n"
   ]
  },
  {
   "cell_type": "code",
   "execution_count": null,
   "id": "6ed76510",
   "metadata": {
    "scrolled": true
   },
   "outputs": [],
   "source": [
    "mtx_tr356"
   ]
  },
  {
   "cell_type": "code",
   "execution_count": null,
   "id": "91ed2f16",
   "metadata": {},
   "outputs": [],
   "source": [
    "ref_tr3_56$labels"
   ]
  },
  {
   "cell_type": "code",
   "execution_count": null,
   "id": "99d37bc3",
   "metadata": {},
   "outputs": [],
   "source": [
    "ref_tr3_56$matrix  <- as.matrix(ref_tr3_56$matrix)"
   ]
  },
  {
   "cell_type": "code",
   "execution_count": null,
   "id": "24abd94c",
   "metadata": {},
   "outputs": [],
   "source": [
    "head(rownames(ref_tr3_56$matrix))"
   ]
  },
  {
   "cell_type": "code",
   "execution_count": null,
   "id": "ad8d891f",
   "metadata": {
    "scrolled": true
   },
   "outputs": [],
   "source": [
    "pred <- SingleR(test = cd8_l1_full_filt@assays$RNA@counts, \n",
    "                ref=ref_tr3_56$matrix, labels=ref_tr3_56$labels, \n",
    "                fine.tune = T,num.threads = 4\n",
    "       )"
   ]
  },
  {
   "cell_type": "code",
   "execution_count": null,
   "id": "67ebfb38",
   "metadata": {
    "scrolled": true
   },
   "outputs": [],
   "source": [
    "pred\n"
   ]
  },
  {
   "cell_type": "code",
   "execution_count": null,
   "id": "3fb454f5",
   "metadata": {},
   "outputs": [],
   "source": [
    "cd8_l1_full_filt$singler  <- pred$labels"
   ]
  },
  {
   "cell_type": "code",
   "execution_count": null,
   "id": "06a61ca2",
   "metadata": {},
   "outputs": [],
   "source": [
    "DimPlot(cd8_l1_full_filt, group.by = \"annotations_l2\")"
   ]
  },
  {
   "cell_type": "code",
   "execution_count": null,
   "id": "26bc1124",
   "metadata": {},
   "outputs": [],
   "source": [
    "DimPlot(cd8_l1_full_filt, group.by = \"singler\", shuffle = T, cols = c(\"purple\",\"grey88\",\"dodgerblue\",\"red\"))"
   ]
  },
  {
   "cell_type": "code",
   "execution_count": null,
   "id": "099c583b",
   "metadata": {},
   "outputs": [],
   "source": [
    "test  <- data.frame(annotation = cd8_l1_full_filt$annotations_l2,\n",
    "                    pred = cd8_l1_full_filt$singler)"
   ]
  },
  {
   "cell_type": "code",
   "execution_count": null,
   "id": "16e8d189",
   "metadata": {},
   "outputs": [],
   "source": [
    "df2 <- test %>% group_by(annotation, pred) %>% \n",
    "  summarise(n = n()) %>%\n",
    "  mutate(freq = n / sum(n))"
   ]
  },
  {
   "cell_type": "code",
   "execution_count": null,
   "id": "b8ba3eb4",
   "metadata": {},
   "outputs": [],
   "source": [
    "df2"
   ]
  },
  {
   "cell_type": "code",
   "execution_count": null,
   "id": "32a84667",
   "metadata": {},
   "outputs": [],
   "source": [
    "df2"
   ]
  },
  {
   "cell_type": "code",
   "execution_count": null,
   "id": "23466884",
   "metadata": {},
   "outputs": [],
   "source": [
    "cd8_l1_full_filt$score_tr356  <- pred$scores[,4]"
   ]
  },
  {
   "cell_type": "code",
   "execution_count": null,
   "id": "dc501dc6",
   "metadata": {},
   "outputs": [],
   "source": [
    "VlnPlot(cd8_l1_full_filt, features = \"score_tr356\", group.by = \"annotations_l2\")"
   ]
  },
  {
   "cell_type": "code",
   "execution_count": null,
   "id": "3f4fab5c",
   "metadata": {},
   "outputs": [],
   "source": [
    "options(repr.plot.width = 14, repr.plot.height = 6)\n",
    "data.frame(Score = cd8_l1_full_filt$score_tr356,\n",
    "                  Annotation = gsub(cd8_l1_full_filt$annotations_l2, pattern = \"---\", replacement = \"\\n\"))  %>% \n",
    "mutate(Annotation = gsub(Annotation, pattern = \"CD8 T cells\", replacement = \"\"))  %>% \n",
    "mutate(Annotation = gsub(Annotation, pattern = \"CD8 Unconventional T cells\", replacement = \"\"))  %>% \n",
    "mutate(Annotation = gsub(Annotation, pattern = \"CD8 NK cells\", replacement = \"\"))  %>% \n",
    "ggplot(aes(x = fct_reorder(Annotation, Score), y = Score)) +\n",
    "  geom_violin() + \n",
    "  stat_summary(fun = \"mean\",\n",
    "               geom = \"crossbar\", \n",
    "               width = 0.5,\n",
    "               colour = \"red\") + ggtitle(\"TR3-56 score\") + theme_classic() + ggtheme() + xlab(\"\")"
   ]
  },
  {
   "cell_type": "code",
   "execution_count": null,
   "id": "eb5fdedd",
   "metadata": {},
   "outputs": [],
   "source": [
    "FeaturePlot(cd8_l1_full_filt, features = \"NCAM1\", min.cutoff = 0.2)"
   ]
  },
  {
   "cell_type": "code",
   "execution_count": null,
   "id": "8a90b7f2",
   "metadata": {},
   "outputs": [],
   "source": [
    "FeaturePlot(cd8_l1_full_filt, features = \"NCAM1\", min.cutoff = 0.2)"
   ]
  },
  {
   "cell_type": "code",
   "execution_count": null,
   "id": "2f12718c",
   "metadata": {},
   "outputs": [],
   "source": [
    "VlnPlot(cd8_l1_full_filt, features = \"NCAM1\", group.by = \"annotations_l2\")"
   ]
  },
  {
   "cell_type": "code",
   "execution_count": null,
   "id": "371fbb4f",
   "metadata": {},
   "outputs": [],
   "source": [
    "cd8_l1_full_filt$annotations_l2_sample  <- paste(cd8_l1_full_filt$annotations_l2, cd8_l1_full_filt$Sample_ID)"
   ]
  },
  {
   "cell_type": "code",
   "execution_count": null,
   "id": "1221ac74",
   "metadata": {},
   "outputs": [],
   "source": [
    "cd8_l1_full_filt$annotations_l2_sample   %>% table"
   ]
  },
  {
   "cell_type": "code",
   "execution_count": null,
   "id": "bb7166bf",
   "metadata": {
    "scrolled": true
   },
   "outputs": [],
   "source": [
    "# Extract the dataframe with seurat metadata\n",
    "seurat_meta_data <- cd8_l1_full_filt@meta.data\n",
    "seurat_meta_data$sample <- seurat_meta_data$annotations_l2_sample\n",
    "\n",
    "# Select genes of interest\n",
    "# The script only works for two or more genes, you can't select just one!\n",
    "gene_hits <- c(\"NCAM1\", \"TRGC1\", \"CD8A\", \"CD8B\", \n",
    "               \"FCGR3A\",\"CD3D\",\"CD3G\",\"CD3Z\")\n",
    "\n",
    "# By default the percentage of calculated cells is computed for whole sample\n",
    "# Optionally, you can select a cluster that you're interested in by subsetting:\n",
    "# pbmc_small <- subset(pbmc_small, seurat_clusters == 3)\n",
    "\n",
    "\n",
    "# Now we will calculate the percentage of expressing cells for each sample and we will merge the resulting dataframes\n",
    "expr_data4 <- data.frame(genes = gene_hits)\n",
    "\n",
    "# We will need a function that will convert any non-zero count to value 1\n",
    "fns_replace <- function(x){ifelse(x>0,1,0)}\n",
    "\n",
    "for(j in (pull(seurat_meta_data, sample)  %>% unique)){\n",
    "  \n",
    "  # subset only selected cell type\n",
    "  seu_sub_sample <- subset(cd8_l1_full_filt, annotations_l2_sample == j) \n",
    "  \n",
    "  # select the rows corresponding to genes of interest\n",
    "  index_subset <- which(rownames(seu_sub_sample@assays$RNA@counts) %in% gene_hits)\n",
    "  \n",
    "  # create a dataframe with genes of interest and cells of interest\n",
    "  expr_data <- as.data.frame(seu_sub_sample@assays$RNA@counts[index_subset,]) \n",
    "  \n",
    "  # convert expression to binary values\n",
    "  expr_data2 <- expr_data %>% mutate(across(.fns = fns_replace))\n",
    "  rownames(expr_data2) <- rownames(expr_data)\n",
    "  \n",
    "  # calculate average expresion (percentage of cells expressing the gene)\n",
    "  expr_data3 <- rowMeans(expr_data2)\n",
    "  \n",
    "  # add zeroes in cases of no expression\n",
    "  for(k in gene_hits){\n",
    "    if(k %in% names(expr_data3) == F){expr_data3[[k]] <- 0}\n",
    "  }\n",
    "  \n",
    "  expr_data3 <- as.data.frame(expr_data3)\n",
    "  colnames(expr_data3) <- j\n",
    "  expr_data3$genes <- rownames(expr_data3)\n",
    "  \n",
    "  # final dataframe with values in correct order (all cell type, loop results)\n",
    "  expr_data4 <- left_join(expr_data4, expr_data3, by=\"genes\")\n",
    "  \n",
    "}\n",
    "\n",
    "# Now we have the whole dataframe, we just need to tidy it a bit, add metadata and visualize\n",
    "\n",
    "expr_data5 <- as.data.frame(t(expr_data4))\n",
    "colnames(expr_data5) <- expr_data5[1,]\n",
    "expr_data5 <- expr_data5[2:nrow(expr_data5),]\n",
    "expr_data5$sample <- rownames(expr_data5)\n",
    "expr_data5 <- expr_data5 %>% pivot_longer( !sample, names_to = \"gene\", values_to = \"pct_express\")\n",
    "\n",
    "# Add metadata per sample - select those that you will use in the plot below\n",
    "md_to_join <- seurat_meta_data %>% dplyr::select(sample = annotations_l2_sample)  %>% \n",
    "unique() %>% mutate(sample = as.character(sample))\n",
    "md2 <- left_join(expr_data5, md_to_join, by = \"sample\") %>% ungroup %>% unique\n",
    "\n"
   ]
  },
  {
   "cell_type": "code",
   "execution_count": null,
   "id": "d25b7df9",
   "metadata": {
    "scrolled": true
   },
   "outputs": [],
   "source": [
    "md2"
   ]
  },
  {
   "cell_type": "code",
   "execution_count": null,
   "id": "8f025a21",
   "metadata": {
    "scrolled": true
   },
   "outputs": [],
   "source": [
    "md2 %>% \n",
    "mutate(Sample_ID = substr(sample,nchar(sample)-3,nchar(sample)))  %>% \n",
    "mutate(population = substr(sample,1,nchar(sample)-3)) "
   ]
  },
  {
   "cell_type": "code",
   "execution_count": null,
   "id": "fc28c306",
   "metadata": {},
   "outputs": [],
   "source": [
    "options(repr.plot.width = 15, repr.plot.height = 8)\n",
    "\n",
    "md2 %>% \n",
    "pivot_wider(names_from = \"gene\", values_from = \"pct_express\", values_fill = \"0\")  %>% \n",
    "pivot_longer(cols = c(2:9), names_to = \"gene\", values_to = \"pct_express\")  %>% \n",
    "mutate(Sample_ID = substr(sample,nchar(sample)-3,nchar(sample)))  %>% \n",
    "mutate(population = substr(sample,1,nchar(sample)-3))  %>% \n",
    "ggplot(aes(x = population, y = as.numeric(pct_express))) + \n",
    "  geom_boxplot(outlier.shape = NA) +\n",
    "  geom_dotplot(binaxis='y', stackdir='center', dotsize=0) + \n",
    "  geom_jitter(position=position_jitter(0.2), size = 2, aes(color = factor(population))) +\n",
    "  theme_minimal() + \n",
    "  facet_wrap(~gene, scales = \"free\", ncol = 5) + \n",
    "  ylim(c(0,NA)) +\n",
    "ggpubr::stat_compare_means()+\n",
    "  ylab(\"Percentage of expressing cells\") +\n",
    "  theme(legend.title = element_blank())"
   ]
  },
  {
   "cell_type": "code",
   "execution_count": null,
   "id": "7dd1aaa8",
   "metadata": {},
   "outputs": [],
   "source": [
    "ggplot(test) +\n",
    "  aes(x = annotation, fill = factor(pred)) +\n",
    "  geom_bar(position = \"fill\") + \n",
    "theme_classic() + \n",
    "ggtheme() +\n",
    "coord_flip() + \n",
    "scale_fill_manual(values = c(\"#74bc68ff\",\"#d6ebd2ff\", \"#bde0f7ff\", \"red2\"))\n",
    "#scale_fill_manual(values = c(\"grey\",\"#74bc68ff\", \"dodgerblue3\", \"red2\"))"
   ]
  },
  {
   "cell_type": "code",
   "execution_count": null,
   "id": "e1a6b880",
   "metadata": {},
   "outputs": [],
   "source": [
    "cd8_l1_full_filt"
   ]
  },
  {
   "cell_type": "markdown",
   "id": "a3a87bda",
   "metadata": {},
   "source": [
    "# DE genes heatmap avg."
   ]
  },
  {
   "cell_type": "code",
   "execution_count": null,
   "id": "d9552d68",
   "metadata": {},
   "outputs": [],
   "source": []
  },
  {
   "cell_type": "code",
   "execution_count": null,
   "id": "eed8c2b7",
   "metadata": {},
   "outputs": [],
   "source": [
    "avgexp = AverageExpression(subset(cd8_l1_full_filt, Experiment_ID %in% c(\"Exp16\",\"Exp18\",\"Exp19\",\"Exp20\")), \n",
    "                             return.seurat = F, group.by = \"Patient_Time\", \n",
    "                          assay = \"RNA\")"
   ]
  },
  {
   "cell_type": "code",
   "execution_count": null,
   "id": "c9fd7931",
   "metadata": {
    "scrolled": true
   },
   "outputs": [],
   "source": [
    "avgexp$RNA[which(rownames(avgexp$RNA)==\"GNLY\"),]  %>% as.data.frame()"
   ]
  },
  {
   "cell_type": "markdown",
   "id": "ceef9110",
   "metadata": {},
   "source": [
    "## Heatmap"
   ]
  },
  {
   "cell_type": "markdown",
   "id": "37ddd12a",
   "metadata": {},
   "source": [
    "### All cells"
   ]
  },
  {
   "cell_type": "code",
   "execution_count": null,
   "id": "cfe7695a",
   "metadata": {},
   "outputs": [],
   "source": [
    "cd8_l1_full_filt$Patient_Time_Disease  <- paste(cd8_l1_full_filt$Patient_ID, cd8_l1_full_filt$Time, \n",
    "                                               cd8_l1_full_filt$Disease)"
   ]
  },
  {
   "cell_type": "code",
   "execution_count": null,
   "id": "9a9a977b",
   "metadata": {},
   "outputs": [],
   "source": [
    "cd8_l1_full_filt$Patient_Time_Disease   %>% table"
   ]
  },
  {
   "cell_type": "code",
   "execution_count": null,
   "id": "c188da67",
   "metadata": {},
   "outputs": [],
   "source": [
    "cd8_l1_full_filt$Disease_time  <- paste(\n",
    "                                               cd8_l1_full_filt$Disease,\n",
    "cd8_l1_full_filt$Time)"
   ]
  },
  {
   "cell_type": "code",
   "execution_count": null,
   "id": "95d1bc5b",
   "metadata": {},
   "outputs": [],
   "source": [
    "avgexp = AverageExpression(subset(cd8_l1_full_filt, Experiment_ID %in% c(\"Exp16\",\"Exp18\",\"Exp19\",\"Exp20\")), \n",
    "                             return.seurat = F, group.by = \"Disease_time\", \n",
    "                          assay = \"RNA\")"
   ]
  },
  {
   "cell_type": "code",
   "execution_count": null,
   "id": "22d1b4e0",
   "metadata": {},
   "outputs": [],
   "source": [
    "genes  <- c(\"PCBP2\",\"PCBP1\",\n",
    "            \"CX3CR1\",\"TNF\",\"GZMB\",\"GZMA\",\"PRF1\",\"NKG7\",\"GNLY\",\"CCL5\",\"CST7\",\n",
    "            \"BTG1\",\"SELL\",\"IL7R\",\"CCR7\",\"BTG2\",\"SLAMF6\",\"LEF1\",\n",
    "             \"TNFAIP3\",\"TSC22D3\",\"NKFBIA\",\"DUSP1\")"
   ]
  },
  {
   "cell_type": "code",
   "execution_count": null,
   "id": "10d5a52b",
   "metadata": {},
   "outputs": [],
   "source": [
    "avgexp  <- avgexp$RNA[which(rownames(avgexp$RNA) %in% genes),]"
   ]
  },
  {
   "cell_type": "code",
   "execution_count": null,
   "id": "f0d03a1e",
   "metadata": {
    "scrolled": false
   },
   "outputs": [],
   "source": [
    "library(pheatmap)\n",
    "\n",
    "options(repr.plot.width = 4, repr.plot.height = 9)\n",
    "pheatmap(avgexp, main = \"\", scale = \"row\", cluster_cols = F, cluster_rows = T,\n",
    "        color=colorRampPalette(c(\"dodgerblue\", \"grey95\", \"indianred2\"))(50), \n",
    "         border_color = \"white\", width = 9, height = 3.3,\n",
    "                  fontsize = 9)"
   ]
  },
  {
   "cell_type": "code",
   "execution_count": null,
   "id": "b1cee297",
   "metadata": {},
   "outputs": [],
   "source": [
    "dir.create(\"../tables/avg_heatmap/\")\n",
    "write.csv(avgexp, \"../tables/avg_heatmap/cd8_avg.csv\")"
   ]
  },
  {
   "cell_type": "markdown",
   "id": "42b89e96",
   "metadata": {},
   "source": [
    "### Average of patient"
   ]
  },
  {
   "cell_type": "code",
   "execution_count": null,
   "id": "235bf86b",
   "metadata": {},
   "outputs": [],
   "source": [
    "cd8_l1_full_filt$Patient_Time_Disease  <- paste(cd8_l1_full_filt$Patient_ID, cd8_l1_full_filt$Time, \n",
    "                                               cd8_l1_full_filt$Disease)"
   ]
  },
  {
   "cell_type": "code",
   "execution_count": null,
   "id": "df16c010",
   "metadata": {},
   "outputs": [],
   "source": [
    "avgexp = AverageExpression(subset(cd8_l1_full_filt, Experiment_ID %in% c(\"Exp16\",\"Exp18\",\"Exp19\",\"Exp20\")), \n",
    "                             return.seurat = T, group.by = \"Patient_Time_Disease\", \n",
    "                          assay = \"RNA\")"
   ]
  },
  {
   "cell_type": "code",
   "execution_count": null,
   "id": "82ceac2f",
   "metadata": {},
   "outputs": [],
   "source": [
    "avgexp$Patient_Time_Disease  <- colnames(avgexp)\n",
    "avgexp@meta.data  <- avgexp@meta.data  %>% \n",
    "separate(Patient_Time_Disease, into = c(\"Patient\", \"Time\", \"Disease\"), sep = \" \", remove = F)"
   ]
  },
  {
   "cell_type": "code",
   "execution_count": null,
   "id": "f04b204a",
   "metadata": {},
   "outputs": [],
   "source": [
    "avgexp$Disease_Time  <- paste(avgexp$Disease, avgexp$Time)"
   ]
  },
  {
   "cell_type": "code",
   "execution_count": null,
   "id": "c7308334",
   "metadata": {},
   "outputs": [],
   "source": [
    "avgexp2 = AverageExpression(avgexp, \n",
    "                             return.seurat = F, group.by = \"Disease_Time\")"
   ]
  },
  {
   "cell_type": "code",
   "execution_count": null,
   "id": "6039f76d",
   "metadata": {},
   "outputs": [],
   "source": []
  },
  {
   "cell_type": "code",
   "execution_count": null,
   "id": "5b6176d4",
   "metadata": {},
   "outputs": [],
   "source": [
    "genes4  <- c(\"LEF1\",\"BACH2\",\"NELL2\",\"TCF7\",\"CXCR4\",\"ZFP36L2\",\"IL7R\",\"KLF2\",\"CCR7\",\"SELL\",\n",
    "            \n",
    "             \n",
    "            rev(c(\"TNFRSF9\",\"PRF1\",\"NKG7\",\"GZMB\",\"CST7\",\"GNLY\",\"GZMA\",\"CX3CR1\",\"CCL5\",\"TNF\",\"TBX21\",\"IFNG\")),\n",
    "             \"TNFAIP3\",\"DUSP1\",\"TSC22D3\",\"NFKBIA\",\"DDIT4\",\"INPP4B\",\n",
    "             rev(c(\"OASL\",\"IFI44L\",\"ISG15\",\"MX1\",\"STAT1\",\"IFI6\",\"IFIT3\")),\n",
    "                  \"BTN3A2\",\"BTN3A3\",\"HLA-C\",\"HLA-DQA1\",\"HLA-DQB1\")"
   ]
  },
  {
   "cell_type": "code",
   "execution_count": null,
   "id": "a6010a5d",
   "metadata": {},
   "outputs": [],
   "source": [
    "avgexp3  <- avgexp2$RNA[which(rownames(avgexp2$RNA) %in% genes4),]"
   ]
  },
  {
   "cell_type": "code",
   "execution_count": null,
   "id": "1b976894",
   "metadata": {},
   "outputs": [],
   "source": [
    "options(repr.plot.width = 4, repr.plot.height = 9)\n",
    "pheatmap(avgexp3[match(genes4, rownames(avgexp3)),], \n",
    "         main = \"\", scale = \"row\", cluster_cols = F, cluster_rows = F,\n",
    "        color=colorRampPalette(c(\"dodgerblue\", \"grey95\", \"indianred2\"))(50), \n",
    "         border_color = \"white\", width = 9, height = 3.3,\n",
    "                  fontsize = 9)"
   ]
  },
  {
   "cell_type": "code",
   "execution_count": null,
   "id": "175aebde",
   "metadata": {},
   "outputs": [],
   "source": [
    "options(repr.plot.width = 4, repr.plot.height = 9)\n",
    "pheatmap(avgexp3[match(genes4, rownames(avgexp3)),], \n",
    "         main = \"\", scale = \"row\", cluster_cols = F, cluster_rows = F,\n",
    "        color=colorRampPalette(c(\"dodgerblue\", \"grey95\", \"indianred2\"))(50), \n",
    "         border_color = \"white\", width = 3.3, height = 9,\n",
    "                  fontsize = 9, filename = \"../figures/heatmaps/fig2_cd8.pdf\")"
   ]
  },
  {
   "cell_type": "code",
   "execution_count": null,
   "id": "a0ce9a81",
   "metadata": {},
   "outputs": [],
   "source": []
  },
  {
   "cell_type": "code",
   "execution_count": null,
   "id": "b44e6d98",
   "metadata": {},
   "outputs": [],
   "source": [
    "plot_gene  <- function(gene){\n",
    "    options(repr.plot.width = 8.5, repr.plot.height = 6)\n",
    "    df  <- as.data.frame(avgexp$RNA[which(rownames(avgexp$RNA)==gene),])  %>% rownames_to_column(\"Patient_Time\")\n",
    "    colnames(df)[2]  <- \"gene2\"\n",
    "    df  <-  df  %>% separate(Patient_Time, into = c(\"Patient\",\"Time\"), sep = \" \", remove = F)  %>% \n",
    "    mutate(group = ifelse(substr(Patient,1,1)==\"1\",\"Dia\",\"Ctrl\"))  %>% \n",
    "    mutate(Condition = paste(group, Time))\n",
    "   # print(df)\n",
    " p  <-    df  %>% ggplot(aes(x = Condition, y = gene2)) + \n",
    " geom_violin(alpha = 0.3, aes(fill = Condition), scale = \"width\") + \n",
    "stat_summary(fun = \"median\",\n",
    "               geom = \"crossbar\", \n",
    "               width = 0.75,\n",
    "               color = \"grey30\") +\n",
    "geom_beeswarm(size = 3, aes(fill = Condition), cex = 3, \n",
    "                shape = 21, color = \"black\", corral = \"random\") +\n",
    " stat_compare_means(label = \"p.format\", comparisons = list(c(1,2))) +\n",
    "scale_fill_manual(values = c(\"#1874cdff\",  \"#ee6363ff\", \"#c41515ff\",\"#eeb4b4ff\")) +\n",
    "scale_color_manual(values = c(\"dodgerblue3\",  \"#e54c4cff\", \"#aa2a2aff\",\"#e88989ff\")) +\n",
    "ylab(\"\") +\n",
    "  xlab(\"\") +\n",
    "  ylim(0,NA) +\n",
    "  theme_classic() +\n",
    "theme(strip.background = element_blank(), panel.grid = element_blank()) + \n",
    "  theme(axis.text = element_text(color = \"black\"),\n",
    "        axis.text.x = element_text(angle = 90),\n",
    "       axis.line = element_line(color = \"black\", size = 0.5),\n",
    "        axis.ticks.x = element_blank()) +\n",
    "  ggtitle(gene) + ggtheme()\n",
    "    \n",
    "    p2  <-    df  %>% dplyr::filter(Patient != 116)  %>% ggplot(aes(x = Condition, y = gene2)) + \n",
    " geom_violin(alpha = 0.3, aes(fill = Condition), scale = \"width\") + \n",
    "stat_summary(fun = \"median\",\n",
    "               geom = \"crossbar\", \n",
    "               width = 0.75,\n",
    "               color = \"grey30\") +\n",
    "geom_beeswarm(size = 3, aes(fill = Condition), cex = 3, \n",
    "                shape = 21, color = \"black\", corral = \"random\") +\n",
    " stat_compare_means(label = \"p.format\", comparisons = list(c(2,3)), paired = TRUE) +\n",
    "scale_fill_manual(values = c(\"#1874cdff\",  \"#ee6363ff\", \"#c41515ff\",\"#eeb4b4ff\")) +\n",
    "scale_color_manual(values = c(\"dodgerblue3\",  \"#e54c4cff\", \"#aa2a2aff\",\"#e88989ff\")) +\n",
    "ylab(\"\") +\n",
    "  xlab(\"\") +\n",
    "  ylim(0,NA) +\n",
    "  theme_classic() +\n",
    "theme(strip.background = element_blank(), panel.grid = element_blank()) + \n",
    "  theme(axis.text = element_text(color = \"black\"),\n",
    "        axis.text.x = element_text(angle = 90),\n",
    "       axis.line = element_line(color = \"black\", size = 0.5),\n",
    "        axis.ticks.x = element_blank()) +\n",
    "  ggtitle(gene) + ggtheme()\n",
    "    p  <- p + p2\n",
    "    return(p)\n",
    "    }"
   ]
  },
  {
   "cell_type": "code",
   "execution_count": null,
   "id": "2167dba8",
   "metadata": {},
   "outputs": [],
   "source": [
    "ls()"
   ]
  },
  {
   "cell_type": "code",
   "execution_count": null,
   "id": "8bc7962e",
   "metadata": {},
   "outputs": [],
   "source": [
    "plot_gene2  <- function(gene){\n",
    "    options(repr.plot.width = 2.5, repr.plot.height = 4)\n",
    "    df  <- as.data.frame(avgexp$RNA[which(rownames(avgexp$RNA)==gene),])  %>% rownames_to_column(\"Patient_Time\")\n",
    "    colnames(df)[2]  <- \"gene2\"\n",
    "    df  <-  df  %>% separate(Patient_Time, into = c(\"Patient\",\"Time\"), sep = \" \", remove = F)  %>% \n",
    "    mutate(group = ifelse(substr(Patient,1,1)==\"1\",\"Dia\",\"Ctrl\"))  %>% \n",
    "    mutate(Condition = paste(group, Time))\n",
    "   # print(df)\n",
    " p  <-    df  %>% ggplot(aes(x = Condition, y = gene2)) + \n",
    " geom_violin(alpha = 0.3, aes(fill = Condition), scale = \"width\") + \n",
    "stat_summary(fun = \"median\",\n",
    "               geom = \"crossbar\", \n",
    "               width = 0.75,\n",
    "               color = \"grey30\") +\n",
    "geom_beeswarm(size = 3, aes(fill = Condition), cex = 3, \n",
    "                shape = 21, color = \"black\", corral = \"random\") +\n",
    " stat_compare_means(label = \"p.format\", comparisons = list(c(1,2))) +\n",
    "scale_fill_manual(values = c(\"#1874cdff\",  \"#ee6363ff\", \"#c41515ff\",\"#eeb4b4ff\")) +\n",
    "scale_color_manual(values = c(\"dodgerblue3\",  \"#e54c4cff\", \"#aa2a2aff\",\"#e88989ff\")) +\n",
    "ylab(\"\") +\n",
    "  xlab(\"\") +\n",
    "  ylim(0,NA) +\n",
    "  theme_classic() +\n",
    "theme(strip.background = element_blank(), panel.grid = element_blank()) + \n",
    "  theme(axis.text = element_text(color = \"black\"),\n",
    "        axis.text.x = element_blank(),\n",
    "       axis.line = element_line(color = \"black\", size = 0.5),\n",
    "        axis.ticks.x = element_blank()) +\n",
    "  ggtitle(gene) + ggtheme() + NoLegend()\n",
    "  \n",
    "    return(p)\n",
    "    }"
   ]
  },
  {
   "cell_type": "code",
   "execution_count": null,
   "id": "e820ec68",
   "metadata": {},
   "outputs": [],
   "source": [
    "avgexp"
   ]
  },
  {
   "cell_type": "code",
   "execution_count": null,
   "id": "323f69e6",
   "metadata": {},
   "outputs": [],
   "source": [
    "plot_gene(\"IFI44L\")"
   ]
  },
  {
   "cell_type": "code",
   "execution_count": null,
   "id": "86d4df3b",
   "metadata": {
    "scrolled": true
   },
   "outputs": [],
   "source": [
    "plot_gene(\"ASCL2\")"
   ]
  },
  {
   "cell_type": "code",
   "execution_count": null,
   "id": "35c30dcb",
   "metadata": {},
   "outputs": [],
   "source": []
  },
  {
   "cell_type": "code",
   "execution_count": null,
   "id": "5eb63cc5",
   "metadata": {},
   "outputs": [],
   "source": [
    "plot_gene2(\"BTN3A2\")"
   ]
  },
  {
   "cell_type": "code",
   "execution_count": null,
   "id": "c70e0651",
   "metadata": {},
   "outputs": [],
   "source": [
    "plot_gene(\"ASCL2\")"
   ]
  },
  {
   "cell_type": "code",
   "execution_count": null,
   "id": "e93fa2c8",
   "metadata": {},
   "outputs": [],
   "source": [
    "plot_gene(\"DUSP1\")"
   ]
  },
  {
   "cell_type": "code",
   "execution_count": null,
   "id": "e6d5d1b7",
   "metadata": {},
   "outputs": [],
   "source": [
    "plot_gene(\"TSC22D3\")"
   ]
  },
  {
   "cell_type": "code",
   "execution_count": null,
   "id": "fe1825d0",
   "metadata": {},
   "outputs": [],
   "source": [
    "plot_gene(\"TRGV9\")"
   ]
  },
  {
   "cell_type": "code",
   "execution_count": null,
   "id": "668bdd02",
   "metadata": {},
   "outputs": [],
   "source": [
    "FeaturePlot(cd8_l2_subcluster, features = c(\"PTPRC-RA\"), max.cutoff = 4, \n",
    "        raster = TRUE, raster.dpi = c(900,900), pt.size = 4) + ggtheme()\n"
   ]
  },
  {
   "cell_type": "code",
   "execution_count": null,
   "id": "ee608d2c",
   "metadata": {},
   "outputs": [],
   "source": [
    "plot_gene(\"IL7R\")"
   ]
  },
  {
   "cell_type": "code",
   "execution_count": null,
   "id": "d05db933",
   "metadata": {
    "scrolled": true
   },
   "outputs": [],
   "source": [
    "plot_gene(\"GADD45B\")"
   ]
  }
 ],
 "metadata": {
  "kernelspec": {
   "display_name": "R",
   "language": "R",
   "name": "ir"
  },
  "language_info": {
   "codemirror_mode": "r",
   "file_extension": ".r",
   "mimetype": "text/x-r-source",
   "name": "R",
   "pygments_lexer": "r",
   "version": "4.4.2"
  },
  "toc": {
   "base_numbering": 1,
   "nav_menu": {},
   "number_sections": true,
   "sideBar": true,
   "skip_h1_title": false,
   "title_cell": "Table of Contents",
   "title_sidebar": "Contents",
   "toc_cell": false,
   "toc_position": {
    "height": "calc(100% - 180px)",
    "left": "10px",
    "top": "150px",
    "width": "300.767px"
   },
   "toc_section_display": false,
   "toc_window_display": true
  }
 },
 "nbformat": 4,
 "nbformat_minor": 5
}
