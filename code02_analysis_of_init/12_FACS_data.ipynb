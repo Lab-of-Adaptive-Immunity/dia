{
 "cells": [
  {
   "cell_type": "markdown",
   "id": "b2e1934a",
   "metadata": {},
   "source": [
    "# Part 12: Analysis of FACS data"
   ]
  },
  {
   "cell_type": "markdown",
   "id": "2274757e",
   "metadata": {},
   "source": [
    "This document contains the code used for downstream analysis of Flow Cytometry results, i.e. frequency tables. Upstream analysis was performed in FLowJo software. For details of the flow cytometry analysis, please see the methods section of the manuscript. "
   ]
  },
  {
   "cell_type": "code",
   "execution_count": null,
   "id": "a334a9d2",
   "metadata": {
    "scrolled": true
   },
   "outputs": [],
   "source": [
    "source(\"diabetes_analysis_v07.R\")\n"
   ]
  },
  {
   "cell_type": "markdown",
   "id": "dad49d80",
   "metadata": {},
   "source": [
    "## Proportions of Naive and Effector cells"
   ]
  },
  {
   "cell_type": "markdown",
   "id": "854029f5",
   "metadata": {},
   "source": [
    "First, we will see what are the proportions of Naive and Effector cells. We will load the frequencies of populations stored in the metadata file. "
   ]
  },
  {
   "cell_type": "code",
   "execution_count": null,
   "id": "33d78ae5",
   "metadata": {},
   "outputs": [],
   "source": [
    "md <- read_excel(\"../data/metadata_v07.xlsx\")\n",
    "df <- as.data.frame(md)\n",
    "df"
   ]
  },
  {
   "cell_type": "code",
   "execution_count": null,
   "id": "2c67ea44",
   "metadata": {},
   "outputs": [],
   "source": [
    "df  <- df  %>%  mutate(eff_to_naive_ratio_cd4 = df$pct_eff_of_CD4/df$pct_naive_of_CD4,\n",
    "                       eff_to_naive_ratio_cd8 = df$pct_eff_of_CD8/df$pct_naive_of_CD8)"
   ]
  },
  {
   "cell_type": "markdown",
   "id": "c0bab162",
   "metadata": {},
   "source": [
    "Let's plot the ratios ofeffector to naive populations in Cd4 and Cd8 cells. "
   ]
  },
  {
   "cell_type": "code",
   "execution_count": null,
   "id": "e8869f0a",
   "metadata": {},
   "outputs": [],
   "source": [
    "for(i in c(77,78)){\n",
    "    \n",
    "# Plot difference between groups (Statistics = Dia T0 vs Ctrl)\n",
    "  df_filt <- df %>% mutate(Condition = if_else(substr(patient,1,1)==\"1\",\"Dia\",\"Ctrl\")) %>% \n",
    "    mutate(Condition = paste(Condition, time_taken))\n",
    "     df_filt <- df_filt[,c(1:10,79,i)]\n",
    "  colnames(df_filt) <- c(colnames(df_filt[1:10]), \"Condition\",\"value\")\n",
    "  df_filt$value <- as.numeric(df_filt$value)\n",
    "\n",
    "    plot  <- df_filt  %>% \n",
    " ggplot(aes(x = Condition, y = value)) + \n",
    " geom_violin(alpha = 0.3, aes(fill = Condition), scale = \"width\") + \n",
    "stat_summary(fun = \"median\",\n",
    "               geom = \"crossbar\", \n",
    "               width = 0.75,\n",
    "               color = \"grey30\") +\n",
    "geom_beeswarm(size = 3, aes(fill = Condition), cex = 3, \n",
    "                shape = 21, color = \"black\", corral = \"random\") +\n",
    "ggpubr::stat_compare_means(label.x = 1.2, label.y.npc = \"top\", comparisons = list(c(1,2)), \n",
    "                           size = 5, vjust = 0.3, label = \"p.format\") +\n",
    "    scale_fill_manual(values = c(\"#1874cdff\",  \"#ee6363ff\", \"#c41515ff\",\"#eeb4b4ff\")) +\n",
    "scale_color_manual(values = c(\"dodgerblue3\",  \"#e54c4cff\", \"#aa2a2aff\",\"#e88989ff\")) +\n",
    "ylab(\"\") +\n",
    "  xlab(\"\") +\n",
    "  ylim(0,NA) +\n",
    "  theme_classic() +\n",
    "theme(strip.background = element_blank(), panel.grid = element_blank()) + \n",
    "  theme(axis.text = element_text(color = \"black\"),\n",
    "        axis.text.x = element_text(angle = 90),\n",
    "       axis.line = element_line(color = \"black\", size = 0.5),\n",
    "        axis.ticks.x = element_blank()) +\n",
    "  ggtitle(colnames(df)[i]) + ggtheme() + NoLegend()\n",
    "    \n",
    "# Plot difference between Dia T0 and Dia T1 (Statistics = Dia T0 vs Dia T1)\n",
    "        df_filt <- df %>% mutate(Condition = if_else(substr(patient,1,1)==\"1\",\"Dia\",\"Ctrl\")) %>% \n",
    "    mutate(Condition = paste(Condition, time_taken))  %>% \n",
    "    dplyr::filter(Condition %in% c(\"Dia T0\", \"Dia T1\"))\n",
    "     df_filt <- df_filt[,c(1:10,79,i)]\n",
    "  colnames(df_filt) <- c(colnames(df_filt[1:10]), \"Condition\",\"value\")\n",
    "  df_filt$value <- as.numeric(df_filt$value)\n",
    "    \n",
    "df_filt <- df_filt  %>% dplyr::select(patient, time_taken, value)  %>% \n",
    "pivot_wider(names_from = time_taken, values_from = value) \n",
    "colnames(df_filt)  <- c(\"Patient_ID\",\"Time0\",\"Time1\")\n",
    " df_filt <- df_filt %>% dplyr::filter(!is.na(Time1)&(!is.na(Time0)))\n",
    "    df_filt <- df_filt  %>% pivot_longer(!Patient_ID, names_to = \"TimePoint\", values_to = \"value\")\n",
    "    \n",
    "plot2 <- df_filt  %>% \n",
    "  ggplot(aes(x = TimePoint,\n",
    "             y = value)) +\n",
    "geom_violin(alpha = 0.3, scale = \"width\") + \n",
    "stat_summary(fun = \"median\",\n",
    "               geom = \"crossbar\", \n",
    "               width = 0.75,\n",
    "               color = \"grey30\") +\n",
    "geom_beeswarm(size = 3, cex = 3, \n",
    "                shape = 21, color = \"black\", corral = \"random\") +\n",
    "ggpubr::stat_compare_means(label.x = 1.2, label.y.npc = \"top\", paired = TRUE, \n",
    "                           size = 5, vjust = 0.3, label = \"p.format\") +\n",
    "scale_fill_manual(values = c(\"#ee6363ff\", \"#c41515ff\",\"#eeb4b4ff\")) +\n",
    "scale_color_manual(values = c(\"#e54c4cff\", \"#aa2a2aff\",\"#e88989ff\")) +\n",
    "ylab(\"\") +\n",
    "  xlab(\"\") +\n",
    "  ylim(0,NA) +\n",
    "  theme_classic() +\n",
    "theme(strip.background = element_blank(), panel.grid = element_blank()) + \n",
    "  theme(axis.text = element_text(color = \"black\"),\n",
    "        axis.text.x = element_text(angle = 90),\n",
    "       axis.line = element_line(color = \"black\", size = 0.5),\n",
    "        axis.ticks.x = element_blank()) +\n",
    "  ylim(0,NA)+\n",
    "  plot_annotation(\n",
    "    title = paste(stringr::str_replace_all(string = colnames(df)[i], pattern = \"/\", replacement = \"\\n\")) ,\n",
    "    theme = theme(plot.title = element_text(size = 8), \n",
    "                  plot.subtitle = element_text(size = 8),\n",
    "                 axis.text.x = element_blank())) + ggtheme() + NoLegend()\n",
    "   \n",
    "  # Combine the two plots together\n",
    "   plot  <- plot + plot2 \n",
    "    \n",
    "   # Render the plot\n",
    "   print( plot)\n",
    " \n",
    "   # Save the plot \n",
    "   # ggsave(paste0(\"../figures/cohort_characterization/sort_percentages/png/\",paste0(\"plot_\",i),\".png\"), \n",
    "   #    width = 12, height = 10, units = \"cm\", create.dir = T)\n",
    "   # ggsave(paste0(\"../figures/cohort_characterization/sort_percentages/svg/\",paste0(\"plot_\",i),\".svg\"), \n",
    "   #    width = 12, height = 10, units = \"cm\", create.dir = T)\n",
    "}"
   ]
  },
  {
   "cell_type": "markdown",
   "id": "bbef2dac",
   "metadata": {},
   "source": [
    "### Analysis in Age groups"
   ]
  },
  {
   "cell_type": "markdown",
   "id": "b92ea17b",
   "metadata": {},
   "source": [
    "The metadata contain age as well as age groups which we will use to summarize differences between age groups. "
   ]
  },
  {
   "cell_type": "code",
   "execution_count": null,
   "id": "1db4bc0d",
   "metadata": {},
   "outputs": [],
   "source": [
    "rstat_cd4  <- df  %>% \n",
    "mutate(Condition = if_else(substr(patient,1,1)==\"1\",\"Dia\",\"Ctrl\")) %>% \n",
    "dplyr::filter(time_taken == \"T0\")  %>% \n",
    "group_by(age_group)  %>% \n",
    "rstatix::wilcox_test(eff_to_naive_ratio_cd4~Condition, detailed = T)"
   ]
  },
  {
   "cell_type": "code",
   "execution_count": null,
   "id": "58913dc9",
   "metadata": {},
   "outputs": [],
   "source": [
    "rstat_cd8  <- df  %>% \n",
    "mutate(Condition = if_else(substr(patient,1,1)==\"1\",\"Dia\",\"Ctrl\")) %>% \n",
    "dplyr::filter(time_taken == \"T0\")  %>% \n",
    "group_by(age_group)  %>% \n",
    "rstatix::wilcox_test(eff_to_naive_ratio_cd8~Condition, detailed = T)"
   ]
  },
  {
   "cell_type": "code",
   "execution_count": null,
   "id": "4622f6a6",
   "metadata": {},
   "outputs": [],
   "source": [
    "rstat_age_groups  <- rbind(rstat_cd4, rstat_cd8)"
   ]
  },
  {
   "cell_type": "code",
   "execution_count": null,
   "id": "14d4b165",
   "metadata": {},
   "outputs": [],
   "source": [
    "rstat_age_groups"
   ]
  },
  {
   "cell_type": "code",
   "execution_count": null,
   "id": "d14b5adc",
   "metadata": {},
   "outputs": [],
   "source": []
  },
  {
   "cell_type": "markdown",
   "id": "ad386e73",
   "metadata": {},
   "source": [
    "### Analysis in sex groups"
   ]
  },
  {
   "cell_type": "markdown",
   "id": "2b298d24",
   "metadata": {},
   "source": [
    "The metadata contain age as well as age groups which we will use to summarize differences between age groups. "
   ]
  },
  {
   "cell_type": "code",
   "execution_count": null,
   "id": "f44574c8",
   "metadata": {},
   "outputs": [],
   "source": [
    "rstat_cd4_sex  <- df  %>% \n",
    "mutate(Condition = if_else(substr(patient,1,1)==\"1\",\"Dia\",\"Ctrl\")) %>% \n",
    "dplyr::filter(time_taken == \"T0\")  %>% \n",
    "group_by(sex)  %>% \n",
    "rstatix::wilcox_test(eff_to_naive_ratio_cd4~Condition, detailed = T)"
   ]
  },
  {
   "cell_type": "code",
   "execution_count": null,
   "id": "7c8b1c20",
   "metadata": {},
   "outputs": [],
   "source": [
    "rstat_cd8_sex  <- df  %>% \n",
    "mutate(Condition = if_else(substr(patient,1,1)==\"1\",\"Dia\",\"Ctrl\")) %>% \n",
    "dplyr::filter(time_taken == \"T0\")  %>% \n",
    "group_by(sex)  %>% \n",
    "rstatix::wilcox_test(eff_to_naive_ratio_cd8~Condition, detailed = T)"
   ]
  },
  {
   "cell_type": "code",
   "execution_count": null,
   "id": "57d7054d",
   "metadata": {},
   "outputs": [],
   "source": [
    "rstat_sex  <- rbind(rstat_cd4_sex, rstat_cd8_sex)"
   ]
  },
  {
   "cell_type": "code",
   "execution_count": null,
   "id": "556950cf",
   "metadata": {},
   "outputs": [],
   "source": [
    "rstat_sex"
   ]
  },
  {
   "cell_type": "code",
   "execution_count": null,
   "id": "525e02d1",
   "metadata": {},
   "outputs": [],
   "source": []
  },
  {
   "cell_type": "markdown",
   "id": "34fa9433",
   "metadata": {},
   "source": [
    "## Flow cytometry extracellular panel"
   ]
  },
  {
   "cell_type": "markdown",
   "id": "ded70460",
   "metadata": {},
   "source": [
    "Read the results from flow cytometry experiment. "
   ]
  },
  {
   "cell_type": "code",
   "execution_count": null,
   "id": "799e38c2",
   "metadata": {},
   "outputs": [],
   "source": [
    "dir.create(\"../figures/flow/extracellular_240604_v06/\")"
   ]
  },
  {
   "cell_type": "code",
   "execution_count": null,
   "id": "16280113",
   "metadata": {},
   "outputs": [],
   "source": [
    "extra_gating  <- read_xlsx(\"../tables/flow/240603_Extracellular.xlsx\")"
   ]
  },
  {
   "cell_type": "code",
   "execution_count": null,
   "id": "e5be16a2",
   "metadata": {},
   "outputs": [],
   "source": [
    "extra_gating$Condition  <- paste(extra_gating$Disease, extra_gating$TimePoint)"
   ]
  },
  {
   "cell_type": "markdown",
   "id": "23e4119e",
   "metadata": {},
   "source": [
    "Create new columns containing ratios of Naive and NonNaive"
   ]
  },
  {
   "cell_type": "code",
   "execution_count": null,
   "id": "7a4193ba",
   "metadata": {},
   "outputs": [],
   "source": [
    "extra_gating$Naive_to_Eff_CD8  <- extra_gating$CD8_Naive/extra_gating$CD8_NonNaive\n",
    "extra_gating$Naive_to_Eff_CD4  <- extra_gating$CD4_Naive/extra_gating$CD4_NonNaive\n",
    "extra_gating$Naive_to_Eff_CD8_10  <- extra_gating$CD8_Naive10/extra_gating$CD8_NonNaive10\n",
    "extra_gating$Naive_to_Eff_CD4_10  <- extra_gating$CD4_Naive10/extra_gating$CD4_NonNaive10\n"
   ]
  },
  {
   "cell_type": "code",
   "execution_count": null,
   "id": "d02e2ef9",
   "metadata": {},
   "outputs": [],
   "source": [
    "colnames(extra_gating)"
   ]
  },
  {
   "cell_type": "markdown",
   "id": "9aa9aeb0",
   "metadata": {},
   "source": [
    "Print plots and save. "
   ]
  },
  {
   "cell_type": "code",
   "execution_count": null,
   "id": "62a3bf60",
   "metadata": {},
   "outputs": [],
   "source": [
    "for(i in c(6:33)){\n",
    "  print(i)\n",
    "  df_filt <- extra_gating %>% \n",
    "    dplyr::select(1:5,36,i)\n",
    "  colnames(df_filt) <- c(colnames(df_filt[c(1:6)]), \"value\")\n",
    "  df_filt$value <- as.numeric(df_filt$value)\n",
    "\n",
    "# Plot difference between Dia T0 and Healthy (Statistics = Dia T0 vs HD)\n",
    "   \n",
    "    plot <- df_filt %>% \n",
    "  ggplot(aes(x = Condition,\n",
    "             y = value)) +\n",
    "geom_violin(alpha = 0.3, aes(fill = Condition), scale = \"width\") + \n",
    "stat_summary(fun = \"median\",\n",
    "               geom = \"crossbar\", \n",
    "               width = 0.75,\n",
    "               color = \"grey30\") +\n",
    "geom_beeswarm(size = 3, aes(fill = Condition), cex = 3, \n",
    "                shape = 21, color = \"black\", corral = \"random\") +\n",
    "ggpubr::stat_compare_means(label.x = 1.2, label.y.npc = \"top\", comparisons = list(c(1,2)), \n",
    "                           size = 5, vjust = 0.3, label = \"p.format\") +\n",
    "    scale_fill_manual(values = c(\"#1874cdff\",  \"#ee6363ff\", \"#c41515ff\",\"#eeb4b4ff\")) +\n",
    "scale_color_manual(values = c(\"dodgerblue3\",  \"#e54c4cff\", \"#aa2a2aff\",\"#e88989ff\")) +\n",
    "ylab(\"\") +\n",
    "  xlab(\"\") +\n",
    "  ylim(0,NA) +\n",
    "  theme_classic() +\n",
    "theme(strip.background = element_blank(), panel.grid = element_blank()) + \n",
    "  theme(axis.text = element_text(color = \"black\"),\n",
    "        axis.text.x = element_text(angle = 90),\n",
    "       axis.line = element_line(color = \"black\", size = 0.5),\n",
    "        axis.ticks.x = element_blank()) +\n",
    "  ylim(0,NA)+\n",
    "  plot_annotation(\n",
    "    title = paste(stringr::str_replace_all(string = colnames(extra_gating)[i], pattern = \"/\", replacement = \"\\n\")) ,\n",
    "    theme = theme(plot.title = element_text(size = 8), \n",
    "                  plot.subtitle = element_text(size = 8),\n",
    "                 axis.text.x = element_blank())) + ggtheme() + NoLegend()\n",
    "    \n",
    "      df_filt <- extra_gating %>% \n",
    "    filter(Condition != \"0 0\")   %>% \n",
    "    dplyr::select(4,5,i) \n",
    "  colnames(df_filt) <- c(colnames(df_filt[c(1:2)]), \"value\")\n",
    "  df_filt$value <- as.numeric(df_filt$value)\n",
    "df_filt <- df_filt  %>% pivot_wider(names_from = TimePoint, values_from = value) \n",
    "colnames(df_filt)  <- c(\"Patient_ID\",\"Time1\",\"Time0\")\n",
    " df_filt <- df_filt %>% dplyr::filter(!is.na(Time1)&(!is.na(Time0)))\n",
    "    df_filt <- df_filt  %>% pivot_longer(!Patient_ID, names_to = \"TimePoint\", values_to = \"value\")\n",
    " \n",
    "# Plot difference between Dia T0 and Dia T1 (Statistics = Dia T0 vs Dia T1)\n",
    "    \n",
    "plot2 <- df_filt  %>% \n",
    "  ggplot(aes(x = TimePoint,\n",
    "             y = value)) +\n",
    "geom_violin(alpha = 0.3, scale = \"width\") + \n",
    "stat_summary(fun = \"median\",\n",
    "               geom = \"crossbar\", \n",
    "               width = 0.75,\n",
    "               color = \"grey30\") +\n",
    "geom_beeswarm(size = 3, cex = 3, \n",
    "                shape = 21, color = \"black\", corral = \"random\") +\n",
    "ggpubr::stat_compare_means(label.x = 1.2, label.y.npc = \"top\", paired = TRUE, \n",
    "                           size = 5, vjust = 0.3, label = \"p.format\") +\n",
    "scale_fill_manual(values = c(\"#ee6363ff\", \"#c41515ff\",\"#eeb4b4ff\")) +\n",
    "scale_color_manual(values = c(\"#e54c4cff\", \"#aa2a2aff\",\"#e88989ff\")) +\n",
    "ylab(\"\") +\n",
    "  xlab(\"\") +\n",
    "  ylim(0,NA) +\n",
    "  theme_classic() +\n",
    "theme(strip.background = element_blank(), panel.grid = element_blank()) + \n",
    "  theme(axis.text = element_text(color = \"black\"),\n",
    "        axis.text.x = element_text(angle = 90),\n",
    "       axis.line = element_line(color = \"black\", size = 0.5),\n",
    "        axis.ticks.x = element_blank()) +\n",
    "  ylim(0,NA)+\n",
    "  plot_annotation(\n",
    "    title = paste(stringr::str_replace_all(string = colnames(extra_gating)[i], pattern = \"/\", replacement = \"\\n\")) ,\n",
    "    theme = theme(plot.title = element_text(size = 8), \n",
    "                  plot.subtitle = element_text(size = 8),\n",
    "                 axis.text.x = element_blank())) + ggtheme() + NoLegend()\n",
    "\n",
    "    plot  <- plot + plot2\n",
    "    plot\n",
    "   \n",
    "    ggsave(create.dir = TRUE, paste0(\"../figures/flow/extracellular_240604_v06/\",paste0(\"plot_\",i),\".png\"), \n",
    "         width = 13, height = 10, units = \"cm\")\n",
    "   ggsave(create.dir = TRUE, paste0(\"../figures/flow/extracellular_240604_v06/\",paste0(\"plot_\",i),\".svg\"), \n",
    "        width = 13, height = 10, units = \"cm\")\n",
    "}\n"
   ]
  },
  {
   "cell_type": "markdown",
   "id": "3f2b1425",
   "metadata": {},
   "source": [
    "## Characterization of TCRgd and Cd8low cells"
   ]
  },
  {
   "cell_type": "markdown",
   "id": "50869cd2",
   "metadata": {},
   "source": [
    "For characterization of Tr3-56 cells by flow cytometry, we will need to see the abundance of selected markers in different subpopulations. "
   ]
  },
  {
   "cell_type": "code",
   "execution_count": null,
   "id": "97fbbe63",
   "metadata": {},
   "outputs": [],
   "source": [
    "extra_gating"
   ]
  },
  {
   "cell_type": "markdown",
   "id": "442692ff",
   "metadata": {},
   "source": [
    "We will be using the columns containing Geometric mean values of the intensities of CD56, TCRgd and CD16. "
   ]
  },
  {
   "cell_type": "code",
   "execution_count": null,
   "id": "b557a257",
   "metadata": {},
   "outputs": [],
   "source": [
    "geomean_values  <- c(\"CD56\",\"TCRgd\",\"CD16\")"
   ]
  },
  {
   "cell_type": "markdown",
   "id": "efe7d684",
   "metadata": {},
   "source": [
    "In the following script, we will extract the columns containing the geomean values and visualize them per each of the populations: Naive, NonNaive, Cd8low and NK cells. "
   ]
  },
  {
   "cell_type": "code",
   "execution_count": null,
   "id": "4e19b0d0",
   "metadata": {
    "scrolled": true
   },
   "outputs": [],
   "source": [
    "for(i in geomean_values){\n",
    "    \n",
    "# Extrace selected columns from the table\n",
    "  df_filt <- extra_gating %>% \n",
    "    dplyr::select(1:5,30,which(grepl(colnames(extra_gating), pattern = paste0(\"Geometric Mean \\\\(\",i))))\n",
    "    \n",
    "# Rename column names to populations\n",
    "colnames(df_filt) <- c(colnames(df_filt[c(1:6)]), \"CD8Naive\", \"CD8NonNaive\", \"CD8low\", \"NK\")\n",
    " \n",
    "# Reshape data.frame\n",
    "    df_filt <- df_filt %>% \n",
    "    pivot_longer(cols = c(7:10), names_to = \"Population\", values_to = \"value\")\n",
    "\n",
    "# Prepare the plot    \n",
    "    plot <- df_filt %>% \n",
    "  ggplot(aes(x = Population,\n",
    "             y = value)) +\n",
    "geom_violin(alpha = 0.3, aes(fill = Population), scale = \"width\") + \n",
    "geom_beeswarm(size = 3, aes(fill = Population), cex = 3, \n",
    "                shape = 21, color = \"black\", corral = \"random\") +\n",
    "stat_summary(fun = \"median\",\n",
    "               geom = \"crossbar\", \n",
    "               width = 0.75,\n",
    "               color = \"grey30\") +\n",
    "ylab(\"\") +\n",
    "  xlab(\"\") +\n",
    "  ylim(0,NA) +\n",
    "  theme_classic() +\n",
    "theme(strip.background = element_blank(), panel.grid = element_blank()) + \n",
    "  theme(axis.text = element_text(color = \"black\"),\n",
    "        axis.text.x = element_text(angle = 90),\n",
    "       axis.line = element_line(color = \"black\", size = 0.5),\n",
    "        axis.ticks.x = element_blank()) +\n",
    "  ylim(0,NA)+\n",
    "  plot_annotation(\n",
    "    title = i ,\n",
    "    theme = theme(plot.title = element_text(size = 8), \n",
    "                  plot.subtitle = element_text(size = 8),\n",
    "                 axis.text.x = element_blank())) + ggtheme() + NoLegend()\n",
    "    print(plot)\n",
    "    \n",
    "# Save the plot \n",
    "    ggsave(create.dir = TRUE, paste0(\"../figures/flow/cd8_low_Tgd_char/\",paste0(\"plot_\",i),\".png\"), \n",
    "         width = 13, height = 20, units = \"cm\")\n",
    "    ggsave(create.dir = TRUE, paste0(\"../figures/flow/cd8_low_Tgd_char/\",paste0(\"plot_\",i),\".svg\"), \n",
    "         width = 13, height = 20, units = \"cm\")\n",
    "}"
   ]
  },
  {
   "cell_type": "markdown",
   "id": "a12bf141",
   "metadata": {},
   "source": [
    "## Analysis of Treg cells"
   ]
  },
  {
   "cell_type": "markdown",
   "id": "a6037830",
   "metadata": {},
   "source": [
    "First, let's load file with percentages of Treg cells from flow data. "
   ]
  },
  {
   "cell_type": "code",
   "execution_count": null,
   "id": "61742345",
   "metadata": {},
   "outputs": [],
   "source": [
    "intra02_All2  <- read_xlsx(\"../tables/flow/240915_Intracellular_Treg.xlsx\")"
   ]
  },
  {
   "cell_type": "code",
   "execution_count": null,
   "id": "fc950ae2",
   "metadata": {},
   "outputs": [],
   "source": [
    "intra02_All2"
   ]
  },
  {
   "cell_type": "markdown",
   "id": "3b6e6f89",
   "metadata": {},
   "source": [
    "We'll create new column Condition based on Disease and Timepoint. "
   ]
  },
  {
   "cell_type": "code",
   "execution_count": null,
   "id": "c14c6eb3",
   "metadata": {},
   "outputs": [],
   "source": [
    "intra02_All2$Condition  <- paste(intra02_All2$Disease, intra02_All2$TimePoint)"
   ]
  },
  {
   "cell_type": "markdown",
   "id": "28159bb9",
   "metadata": {},
   "source": [
    "Plot the violin plots for figure. Statistics is provided to compare T1D T0 and Healthy. "
   ]
  },
  {
   "cell_type": "code",
   "execution_count": null,
   "id": "32ae1ff4",
   "metadata": {
    "scrolled": true
   },
   "outputs": [],
   "source": [
    "for(i in c(6:9)){\n",
    "  \n",
    "  df_filt <- intra02_All2 %>% \n",
    "    dplyr::select(1:5,10,i)\n",
    "  colnames(df_filt) <- c(colnames(df_filt[c(1:6)]), \"value\")\n",
    "  df_filt$value <- as.numeric(df_filt$value)\n",
    "\n",
    "plot <- df_filt %>% \n",
    "  ggplot(aes(x = Condition,\n",
    "             y = value)) +\n",
    "    geom_violin(alpha = 0.3, aes(fill = Condition), scale = \"width\") + \n",
    "stat_summary(fun = \"median\",\n",
    "               geom = \"crossbar\", \n",
    "               width = 0.75,\n",
    "               color = \"grey30\") +\n",
    "geom_beeswarm(size = 3, aes(fill = Condition), cex = 3, \n",
    "                shape = 21, color = \"black\", corral = \"random\") +\n",
    "ggpubr::stat_compare_means(size = 7, label = \"p.format\", comparisons = list(c(1,2)))+\n",
    "scale_fill_manual(values = c(\"#1874cdff\",  \"#ee6363ff\", \"#c41515ff\",\"#eeb4b4ff\")) +\n",
    "scale_color_manual(values = c(\"dodgerblue3\",  \"#e54c4cff\", \"#aa2a2aff\",\"#e88989ff\")) +\n",
    "ylab(\"\") +\n",
    "  xlab(\"\") +\n",
    "  ylim(0,NA) +\n",
    "  theme_classic() +\n",
    "theme(strip.background = element_blank(), panel.grid = element_blank()) + \n",
    "  theme(axis.text = element_text(color = \"black\"),\n",
    "        axis.text.x = element_text(angle = 90),\n",
    "       axis.line = element_line(color = \"black\", size = 0.5),\n",
    "        axis.ticks.x = element_blank()) +\n",
    "  ylim(0,NA)+\n",
    "  plot_annotation(\n",
    "    title = paste(stringr::str_replace_all(string = colnames(intra02_All2)[i], pattern = \"/\", replacement = \"\\n\")) ,\n",
    "    theme = theme(plot.title = element_text(size = 8), \n",
    "                  plot.subtitle = element_text(size = 8),\n",
    "                 axis.text.x = element_blank())) + ggtheme() + NoLegend()\n",
    "    \n",
    "  ggsave(paste0(\"../figures/flow/250401_treg_dia_vs_hd/\",paste0(\"plot_\",i),\".png\"), \n",
    "         create.dir = TRUE, width = 7.5, height = 15, units = \"cm\")\n",
    "  ggsave(paste0(\"../figures/flow/250401_treg_dia_vs_hd/\",paste0(\"plot_\",i),\".svg\"), \n",
    "         width = 7.5, height = 10, units = \"cm\")\n",
    "    }"
   ]
  },
  {
   "cell_type": "markdown",
   "id": "7ceb5f71",
   "metadata": {},
   "source": [
    "Plot the violin plots for figure. Statistics is provided to compare T1D T0 and T1D T1. "
   ]
  },
  {
   "cell_type": "code",
   "execution_count": null,
   "id": "aff0d776",
   "metadata": {},
   "outputs": [],
   "source": [
    "for(i in c(6:29)){\n",
    "  \n",
    "  df_filt <- intra02_All2 %>% \n",
    "    dplyr::select(1:5,30,i)\n",
    "  colnames(df_filt) <- c(colnames(df_filt[c(1:6)]), \"value\")\n",
    "  df_filt$value <- as.numeric(df_filt$value)\n",
    "\n",
    "plot <- df_filt %>% \n",
    "  ggplot(aes(x = Condition,\n",
    "             y = value)) +\n",
    "    geom_violin(alpha = 0.3, aes(fill = Condition), scale = \"width\") + \n",
    "stat_summary(fun = \"median\",\n",
    "               geom = \"crossbar\", \n",
    "               width = 0.75,\n",
    "               color = \"grey30\") +\n",
    "geom_beeswarm(size = 3, aes(fill = Condition), cex = 3, \n",
    "                shape = 21, color = \"black\", corral = \"random\") +\n",
    "ggpubr::stat_compare_means(size = 7, label = \"p.format\", comparisons = list(c(2,3)))+\n",
    "scale_fill_manual(values = c(\"#1874cdff\",  \"#ee6363ff\", \"#c41515ff\",\"#eeb4b4ff\")) +\n",
    "scale_color_manual(values = c(\"dodgerblue3\",  \"#e54c4cff\", \"#aa2a2aff\",\"#e88989ff\")) +\n",
    "ylab(\"\") +\n",
    "  xlab(\"\") +\n",
    "  #ylim(0,NA) +\n",
    "  theme_classic() +\n",
    "theme(strip.background = element_blank(), panel.grid = element_blank()) + \n",
    "  theme(axis.text = element_text(color = \"black\"),\n",
    "        axis.text.x = element_text(angle = 90),\n",
    "       axis.line = element_line(color = \"black\", size = 0.5),\n",
    "        axis.ticks.x = element_blank()) +\n",
    "  #ylim(0,NA)+\n",
    "  plot_annotation(\n",
    "    title = paste(stringr::str_replace_all(string = colnames(intra02_All2)[i], pattern = \"/\", replacement = \"\\n\")) ,\n",
    "    theme = theme(plot.title = element_text(size = 8), \n",
    "                  plot.subtitle = element_text(size = 8),\n",
    "                 axis.text.x = element_blank())) + ggtheme() + NoLegend()\n",
    "    \n",
    "   ggsave(paste0(\"../figures/flow/250401_treg_t0_vs_t1/\",paste0(\"plot_\",i),\".png\"), \n",
    "        create.dir = TRUE, width = 7.5, height = 16, units = \"cm\")\n",
    "   ggsave(paste0(\"../figures/flow/250401_treg_t0_vs_t1/\",paste0(\"plot_\",i),\".svg\"), \n",
    "         width = 7.5, height = 16, units = \"cm\")\n",
    "    }"
   ]
  },
  {
   "cell_type": "markdown",
   "id": "496a47ab",
   "metadata": {},
   "source": [
    "## Flow cytometry intracellular panel"
   ]
  },
  {
   "cell_type": "markdown",
   "id": "9de13816",
   "metadata": {},
   "source": [
    "Read the data from intracellular flow cytometry."
   ]
  },
  {
   "cell_type": "code",
   "execution_count": null,
   "id": "3890f9f2",
   "metadata": {},
   "outputs": [],
   "source": [
    "intra02_All2  <- read_xlsx(\"../tables/flow/240516_Intracellular_CD8.xlsx\")"
   ]
  },
  {
   "cell_type": "markdown",
   "id": "585692ad",
   "metadata": {},
   "source": [
    "Create a new column with Condition. "
   ]
  },
  {
   "cell_type": "code",
   "execution_count": null,
   "id": "100cc841",
   "metadata": {},
   "outputs": [],
   "source": [
    "intra02_All2$Condition  <- paste(intra02_All2$Disease, intra02_All2$TimePoint)"
   ]
  },
  {
   "cell_type": "markdown",
   "id": "46e0cedf",
   "metadata": {},
   "source": [
    "Plots for figure. "
   ]
  },
  {
   "cell_type": "code",
   "execution_count": null,
   "id": "cac2ef33",
   "metadata": {},
   "outputs": [],
   "source": [
    "for(i in c(6:21)){\n",
    "  df_filt <- intra02_All2 %>% \n",
    "    dplyr::select(1:5,22,i)\n",
    "  colnames(df_filt) <- c(colnames(df_filt[c(1:6)]), \"value\")\n",
    "  df_filt$value <- as.numeric(df_filt$value)\n",
    "\n",
    "#print(df_filt)\n",
    "plot <- df_filt %>% \n",
    "  ggplot(aes(x = Condition,\n",
    "             y = value)) +\n",
    "geom_violin(alpha = 0.3, aes(fill = Condition), scale = \"width\") + \n",
    "stat_summary(fun = \"median\",\n",
    "               geom = \"crossbar\", \n",
    "               width = 0.75,\n",
    "               color = \"grey30\") +\n",
    "geom_beeswarm(size = 3, aes(fill = Condition), cex = 3, \n",
    "                shape = 21, color = \"black\", corral = \"random\") +\n",
    "ggpubr::stat_compare_means(label.x = 1.2, label.y.npc = \"top\", comparisons = list(c(1,2)), \n",
    "                           size = 5, vjust = 0.3, label = \"p.format\") +\n",
    "    scale_fill_manual(values = c(\"#1874cdff\",  \"#ee6363ff\", \"#c41515ff\",\"#eeb4b4ff\")) +\n",
    "scale_color_manual(values = c(\"dodgerblue3\",  \"#e54c4cff\", \"#aa2a2aff\",\"#e88989ff\")) +\n",
    "ylab(\"\") +\n",
    "  xlab(\"\") +\n",
    "  ylim(0,NA) +\n",
    "  theme_classic() +\n",
    "theme(strip.background = element_blank(), panel.grid = element_blank()) + \n",
    "  theme(axis.text = element_text(color = \"black\"),\n",
    "        axis.text.x = element_text(angle = 90),\n",
    "       axis.line = element_line(color = \"black\", size = 0.5),\n",
    "        axis.ticks.x = element_blank()) +\n",
    "  ylim(0,NA)+\n",
    "  plot_annotation(\n",
    "    title = paste(stringr::str_replace_all(string = colnames(intra02_All2)[i], pattern = \"/\", replacement = \"\\n\")) ,\n",
    "    theme = theme(plot.title = element_text(size = 8), \n",
    "                  plot.subtitle = element_text(size = 8),\n",
    "                 axis.text.x = element_blank())) + ggtheme() + NoLegend()\n",
    "    \n",
    "      df_filt <- intra02_All2 %>% \n",
    "    filter(Condition != \"0 0\")   %>% \n",
    "    dplyr::select(4,5,i) \n",
    "  colnames(df_filt) <- c(colnames(df_filt[c(1:2)]), \"value\")\n",
    "  df_filt$value <- as.numeric(df_filt$value)\n",
    "df_filt <- df_filt  %>% pivot_wider(names_from = TimePoint, values_from = value) \n",
    "colnames(df_filt)  <- c(\"Patient_ID\",\"Time1\",\"Time0\")\n",
    " df_filt <- df_filt %>% dplyr::filter(!is.na(Time1)&(!is.na(Time0)))\n",
    "    df_filt <- df_filt  %>% pivot_longer(!Patient_ID, names_to = \"TimePoint\", values_to = \"value\")\n",
    "    \n",
    "plot2 <- df_filt  %>% \n",
    "  ggplot(aes(x = TimePoint,\n",
    "             y = value)) +\n",
    "geom_violin(alpha = 0.3, scale = \"width\") + \n",
    "stat_summary(fun = \"median\",\n",
    "               geom = \"crossbar\", \n",
    "               width = 0.75,\n",
    "               color = \"grey30\") +\n",
    "geom_beeswarm(size = 3, cex = 3, \n",
    "                shape = 21, color = \"black\", corral = \"random\") +\n",
    "ggpubr::stat_compare_means(label.x = 1.2, label.y.npc = \"top\", paired = TRUE, \n",
    "                           size = 5, vjust = 0.3, label = \"p.format\") +\n",
    "scale_fill_manual(values = c(\"#ee6363ff\", \"#c41515ff\",\"#eeb4b4ff\")) +\n",
    "scale_color_manual(values = c(\"#e54c4cff\", \"#aa2a2aff\",\"#e88989ff\")) +\n",
    "ylab(\"\") +\n",
    "  xlab(\"\") +\n",
    "  ylim(0,NA) +\n",
    "  theme_classic() +\n",
    "theme(strip.background = element_blank(), panel.grid = element_blank()) + \n",
    "  theme(axis.text = element_text(color = \"black\"),\n",
    "        axis.text.x = element_text(angle = 90),\n",
    "       axis.line = element_line(color = \"black\", size = 0.5),\n",
    "        axis.ticks.x = element_blank()) +\n",
    "  ylim(0,NA)+\n",
    "  plot_annotation(\n",
    "    title = paste(stringr::str_replace_all(string = colnames(intra02_All2)[i], pattern = \"/\", replacement = \"\\n\")) ,\n",
    "    theme = theme(plot.title = element_text(size = 8), \n",
    "                  plot.subtitle = element_text(size = 8),\n",
    "                 axis.text.x = element_blank())) + ggtheme() + NoLegend()\n",
    "\n",
    "    plot  <- plot + plot2\n",
    "    plot\n",
    "  ggsave(paste0(\"../figures/flow/250401_intracellular/\",paste0(\"plot_\",i),\".png\"), \n",
    "          width = 14, height = 9.5, units = \"cm\")\n",
    "  ggsave(paste0(\"../figures/flow/250401_intracellular/\",paste0(\"plot_\",i),\".svg\"), \n",
    "         width = 14, height = 9.5, units = \"cm\")\n",
    "}"
   ]
  },
  {
   "cell_type": "markdown",
   "id": "6f1a3e2a",
   "metadata": {},
   "source": [
    "### Analysis in Age groups"
   ]
  },
  {
   "cell_type": "code",
   "execution_count": null,
   "id": "fb10dcaf",
   "metadata": {},
   "outputs": [],
   "source": [
    "intra02_All2"
   ]
  },
  {
   "cell_type": "code",
   "execution_count": null,
   "id": "c9f3292a",
   "metadata": {},
   "outputs": [],
   "source": [
    "df1  <- intra02_All2  %>% \n",
    "dplyr::filter(TimePoint == 0)  %>% \n",
    "mutate(Disease = ifelse(Disease == 0, \"Ctrl\",\"Dia\"))  %>% \n",
    "dplyr::select(patient = Patient_ID, Disease, cd4_gzmb = 17, cd8_gzmb = 19, cd8low_gzmb = 21)  %>% \n",
    "left_join(df  %>% dplyr::select(patient,age_group))  %>% \n",
    "unique()"
   ]
  },
  {
   "cell_type": "code",
   "execution_count": null,
   "id": "826f4ce5",
   "metadata": {
    "scrolled": true
   },
   "outputs": [],
   "source": [
    "df1"
   ]
  },
  {
   "cell_type": "code",
   "execution_count": null,
   "id": "35ca9bda",
   "metadata": {},
   "outputs": [],
   "source": [
    "rstat_cd8_gzmb  <- df1  %>% \n",
    "group_by(age_group)  %>% \n",
    "rstatix::wilcox_test(cd8_gzmb~Disease, detailed = T)"
   ]
  },
  {
   "cell_type": "code",
   "execution_count": null,
   "id": "0d2b904f",
   "metadata": {},
   "outputs": [],
   "source": [
    "rstat_cd4_gzmb  <- df1  %>% \n",
    "group_by(age_group)  %>% \n",
    "rstatix::wilcox_test(cd4_gzmb~Disease, detailed = T)"
   ]
  },
  {
   "cell_type": "code",
   "execution_count": null,
   "id": "9d8a70d9",
   "metadata": {},
   "outputs": [],
   "source": [
    "rstat_cd8low_gzmb  <- df1  %>% \n",
    "group_by(age_group)  %>% \n",
    "rstatix::wilcox_test(cd8low_gzmb~Disease, detailed = T)"
   ]
  },
  {
   "cell_type": "code",
   "execution_count": null,
   "id": "7c450597",
   "metadata": {},
   "outputs": [],
   "source": [
    "rstat_age_groups  <- rbind(rstat_age_groups, rstat_cd8_gzmb, rstat_cd4_gzmb, rstat_cd8low_gzmb)"
   ]
  },
  {
   "cell_type": "code",
   "execution_count": null,
   "id": "73ee8078",
   "metadata": {},
   "outputs": [],
   "source": [
    "colnames(rstat_age_groups)[3]  <- \"variable_tested\""
   ]
  },
  {
   "cell_type": "markdown",
   "id": "2d4f82f7",
   "metadata": {},
   "source": [
    "### Analysis in Sex"
   ]
  },
  {
   "cell_type": "code",
   "execution_count": null,
   "id": "f6b0aff3",
   "metadata": {},
   "outputs": [],
   "source": [
    "df1  <- intra02_All2  %>% \n",
    "dplyr::filter(TimePoint == 0)  %>% \n",
    "mutate(Disease = ifelse(Disease == 0, \"Ctrl\",\"Dia\"))  %>% \n",
    "dplyr::select(patient = Patient_ID, Disease, cd4_gzmb = 17, cd8_gzmb = 19, cd8low_gzmb = 21)  %>% \n",
    "left_join(df  %>% dplyr::select(patient,sex))  %>% \n",
    "unique"
   ]
  },
  {
   "cell_type": "code",
   "execution_count": null,
   "id": "55676657",
   "metadata": {
    "scrolled": true
   },
   "outputs": [],
   "source": [
    "df1"
   ]
  },
  {
   "cell_type": "code",
   "execution_count": null,
   "id": "db5e6db9",
   "metadata": {},
   "outputs": [],
   "source": [
    "rstat_cd8_gzmb_sex  <- df1  %>% \n",
    "group_by(sex)  %>% \n",
    "rstatix::wilcox_test(cd8_gzmb~Disease, detailed = T)"
   ]
  },
  {
   "cell_type": "code",
   "execution_count": null,
   "id": "6c26c0ae",
   "metadata": {},
   "outputs": [],
   "source": [
    "rstat_cd4_gzmb_sex  <- df1  %>% \n",
    "group_by(sex)  %>% \n",
    "rstatix::wilcox_test(cd4_gzmb~Disease, detailed = T)"
   ]
  },
  {
   "cell_type": "code",
   "execution_count": null,
   "id": "0076c7ad",
   "metadata": {},
   "outputs": [],
   "source": [
    "rstat_cd8low_gzmb_sex  <- df1  %>% \n",
    "group_by(sex)  %>% \n",
    "rstatix::wilcox_test(cd8low_gzmb~Disease, detailed = T)"
   ]
  },
  {
   "cell_type": "code",
   "execution_count": null,
   "id": "92bdfa37",
   "metadata": {},
   "outputs": [],
   "source": [
    "rstat_sex  <- rbind(rstat_sex, rstat_cd8_gzmb_sex, rstat_cd4_gzmb_sex, rstat_cd8low_gzmb_sex)"
   ]
  },
  {
   "cell_type": "code",
   "execution_count": null,
   "id": "8006cb52",
   "metadata": {},
   "outputs": [],
   "source": [
    "colnames(rstat_sex)[3]  <- \"variable_tested\""
   ]
  },
  {
   "cell_type": "markdown",
   "id": "de5e7fec",
   "metadata": {},
   "source": [
    "## Plot Flow differences in age groups"
   ]
  },
  {
   "cell_type": "code",
   "execution_count": null,
   "id": "9992ddf9",
   "metadata": {},
   "outputs": [],
   "source": [
    "options(repr.plot.width = 15, repr.plot.height = 4)\n",
    "rstat_age_groups  %>% \n",
    "ggplot(aes(x = factor(age_group), y = estimate)) +\n",
    "geom_point() +\n",
    "geom_pointrange(aes(ymin = conf.low, ymax = conf.high, color = conf.low>0)) +\n",
    "facet_wrap(~variable_tested, scales = \"free\", ncol = 5) +\n",
    "scale_color_manual(values = c(\"grey60\",\"darkred\")) +\n",
    "theme_bw() +\n",
    "ggtheme()  +\n",
    "geom_hline(yintercept = 0, color = 'blue')"
   ]
  },
  {
   "cell_type": "code",
   "execution_count": null,
   "id": "9241d19e",
   "metadata": {},
   "outputs": [],
   "source": [
    "ggsave(\"../figures/age_groups/flow_in_age_groups.svg\", create.dir = TRUE, width = 45, height = 9, units = \"cm\")"
   ]
  },
  {
   "cell_type": "markdown",
   "id": "c2947ab2",
   "metadata": {},
   "source": [
    "## Plot flow differences in sex groups"
   ]
  },
  {
   "cell_type": "code",
   "execution_count": null,
   "id": "f9257102",
   "metadata": {},
   "outputs": [],
   "source": [
    "options(repr.plot.width = 15, repr.plot.height = 4)\n",
    "rstat_sex  %>% \n",
    "ggplot(aes(x = factor(sex), y = estimate)) +\n",
    "geom_point() +\n",
    "geom_pointrange(aes(ymin = conf.low, ymax = conf.high, color = conf.low>0)) +\n",
    "facet_wrap(~variable_tested, scales = \"free\", ncol = 5) +\n",
    "scale_color_manual(values = c(\"grey60\",\"darkred\")) +\n",
    "theme_bw() +\n",
    "ggtheme()  +\n",
    "geom_hline(yintercept = 0, color = 'blue')"
   ]
  },
  {
   "cell_type": "code",
   "execution_count": null,
   "id": "3e7a9940",
   "metadata": {},
   "outputs": [],
   "source": [
    "ggsave(\"../figures/sex/flow_in_sex.svg\", create.dir = TRUE, width = 45, height = 9, units = \"cm\")"
   ]
  },
  {
   "cell_type": "markdown",
   "id": "026b3087",
   "metadata": {},
   "source": [
    "# Correlation with scRNAseq frequencies"
   ]
  },
  {
   "cell_type": "markdown",
   "id": "06f0bfeb",
   "metadata": {},
   "source": [
    "In this part, we will evaluate the correlation between frequencies of populations in scRNAseq dataset and the same populations measured by flow cytometry. "
   ]
  },
  {
   "cell_type": "markdown",
   "id": "a24b12f2",
   "metadata": {},
   "source": [
    "Let's start by loading frequencies of CD4+ populations. "
   ]
  },
  {
   "cell_type": "code",
   "execution_count": null,
   "id": "5ae0168e",
   "metadata": {},
   "outputs": [],
   "source": [
    "population_freq  <- read_csv(\"../tables/populations_freq/freq_for_model_cd4.csv\")"
   ]
  },
  {
   "cell_type": "code",
   "execution_count": null,
   "id": "c1363310",
   "metadata": {},
   "outputs": [],
   "source": [
    "population_freq$prelim_final  <- ifelse(population_freq$Experiment_ID %in% c(\"Exp10\", \"Exp11\"), \"Prelim\", \"Final\")"
   ]
  },
  {
   "cell_type": "markdown",
   "id": "513b6324",
   "metadata": {},
   "source": [
    "First, let's focus on Naive CD4+ T cells. "
   ]
  },
  {
   "cell_type": "markdown",
   "id": "f9b68a55",
   "metadata": {},
   "source": [
    "### Naive CD4"
   ]
  },
  {
   "cell_type": "code",
   "execution_count": null,
   "id": "20355369",
   "metadata": {
    "scrolled": true
   },
   "outputs": [],
   "source": [
    "freq_cd4_naive  <- population_freq  %>% dplyr::filter(Level == \"l2\" & grepl(annotations_manual, pattern = \"Naive\"))  %>% \n",
    "dplyr::select(annotations_manual, Level, freq, Patient_ID, Time, prelim_final)  %>% unique  %>% \n",
    "mutate(Patient_Time = paste(Patient_ID, Time))"
   ]
  },
  {
   "cell_type": "code",
   "execution_count": null,
   "id": "551c8880",
   "metadata": {
    "scrolled": true
   },
   "outputs": [],
   "source": [
    "freq_cd4_naive"
   ]
  },
  {
   "cell_type": "markdown",
   "id": "f0cdc4af",
   "metadata": {},
   "source": [
    "The FACS percentages will be taken from the flow cytometry tables from above. "
   ]
  },
  {
   "cell_type": "code",
   "execution_count": null,
   "id": "51d203b0",
   "metadata": {},
   "outputs": [],
   "source": [
    "extra_gating$Patient_Time  <- paste0(extra_gating$Patient_ID, \" T\", extra_gating$TimePoint)"
   ]
  },
  {
   "cell_type": "markdown",
   "id": "657a8db9",
   "metadata": {},
   "source": [
    "Join the FACS percentages and the scRNAseq percentages. "
   ]
  },
  {
   "cell_type": "code",
   "execution_count": null,
   "id": "e08f1723",
   "metadata": {},
   "outputs": [],
   "source": [
    "df2 <- extra_gating  %>% dplyr::select(Patient_Time, CD4_Naive)  %>% left_join(freq_cd4_naive)"
   ]
  },
  {
   "cell_type": "code",
   "execution_count": null,
   "id": "279655aa",
   "metadata": {
    "scrolled": true
   },
   "outputs": [],
   "source": [
    "df2"
   ]
  },
  {
   "cell_type": "markdown",
   "id": "44ff0577",
   "metadata": {},
   "source": [
    "Plot the correlation. "
   ]
  },
  {
   "cell_type": "code",
   "execution_count": null,
   "id": "0d1d5f05",
   "metadata": {
    "scrolled": true
   },
   "outputs": [],
   "source": [
    "options(repr.plot.width = 8, repr.plot.height = 6)\n",
    "\n",
    "df2 %>% \n",
    "dplyr::filter(prelim_final == \"Prelim\")  %>% \n",
    "ggplot(aes(x=CD4_Naive, y=freq*100)) +\n",
    "  geom_point(shape = 16, size = 2, aes(color = prelim_final)) +\n",
    "  geom_smooth(method=lm, alpha = 0.2) + ggtitle(\"scRNAseq CD4 naive vs FACS CD4 naive\") + \n",
    "stat_cor(size = 7) + theme_classic() + ggtheme() +\n",
    "#facet_wrap(~prelim_final, scales = \"free\") + \n",
    "NoLegend()"
   ]
  },
  {
   "cell_type": "code",
   "execution_count": null,
   "id": "e6e2a94d",
   "metadata": {},
   "outputs": [],
   "source": [
    "ggsave(\"../figures/correlation_facs_scRNAseq/cd4_naive.png\", \n",
    "       create.dir = TRUE,\n",
    "       width = 10, height = 10, units = \"cm\")\n",
    "ggsave(\"../figures/correlation_facs_scRNAseq/cd4_naive.svg\", \n",
    "       width = 10, height = 10, units = \"cm\")"
   ]
  },
  {
   "cell_type": "markdown",
   "id": "79f1edb7",
   "metadata": {},
   "source": [
    "### Treg"
   ]
  },
  {
   "cell_type": "markdown",
   "id": "da399723",
   "metadata": {},
   "source": [
    "We will repeat the process for Treg cells. "
   ]
  },
  {
   "cell_type": "code",
   "execution_count": null,
   "id": "c245e4d9",
   "metadata": {},
   "outputs": [],
   "source": [
    "freq_cd4_treg  <- population_freq  %>% dplyr::filter(Level == \"l2\" & grepl(annotations_manual, pattern = \"Treg\"))  %>% \n",
    "dplyr::select(annotations_manual, Level, freq, Patient_ID, Time, prelim_final)  %>% unique  %>% \n",
    "mutate(Patient_Time = paste(Patient_ID, Time))"
   ]
  },
  {
   "cell_type": "code",
   "execution_count": null,
   "id": "5a5ccc7d",
   "metadata": {
    "scrolled": true
   },
   "outputs": [],
   "source": [
    "freq_cd4_treg"
   ]
  },
  {
   "cell_type": "code",
   "execution_count": null,
   "id": "8b6897e9",
   "metadata": {},
   "outputs": [],
   "source": [
    "intra02_All2"
   ]
  },
  {
   "cell_type": "code",
   "execution_count": null,
   "id": "4692c84f",
   "metadata": {},
   "outputs": [],
   "source": [
    "df2  <-  intra02_All2  %>% \n",
    "mutate(Patient_Time = paste0(extra_gating$Patient_ID, \" T\", extra_gating$TimePoint))  %>% \n",
    "dplyr::select(Patient_Time, CD4_Treg = 6)  %>% left_join(freq_cd4_treg)"
   ]
  },
  {
   "cell_type": "code",
   "execution_count": null,
   "id": "8ec23537",
   "metadata": {
    "scrolled": true
   },
   "outputs": [],
   "source": [
    "df2"
   ]
  },
  {
   "cell_type": "code",
   "execution_count": null,
   "id": "6289eb2e",
   "metadata": {
    "scrolled": true
   },
   "outputs": [],
   "source": [
    "options(repr.plot.width = 8, repr.plot.height = 6)\n",
    " df2 %>% \n",
    "dplyr::filter(prelim_final == \"Prelim\")  %>% \n",
    "ggplot(aes(x=CD4_Treg, y=freq)) +\n",
    "  geom_point(shape = 16, size = 2, aes(color = prelim_final)) +\n",
    "  geom_smooth(method=lm, alpha = 0.2) + ggtitle(\"scRNAseq CD4 Treg vs FACS CD4 Treg\") + \n",
    "stat_cor(size = 7) + theme_classic() + ggtheme()"
   ]
  },
  {
   "cell_type": "code",
   "execution_count": null,
   "id": "a29f20b4",
   "metadata": {
    "scrolled": true
   },
   "outputs": [],
   "source": [
    "options(repr.plot.width = 8, repr.plot.height = 6)\n",
    " df2 %>% \n",
    "dplyr::filter(prelim_final == \"Prelim\")  %>% \n",
    "ggplot(aes(x=CD4_Treg, y=freq*100)) +\n",
    "geom_point(shape = 16, size = 2, aes(color = factor(prelim_final))) +\n",
    " geom_smooth(method=lm) + ggtitle(\"\") +stat_cor() + theme_classic() + ggtheme() +\n",
    " scale_y_continuous() + NoLegend() \n",
    "\n",
    "ggsave(\"../figures/correlation_facs_scRNAseq/treg.png\", \n",
    "       create.dir = TRUE,\n",
    "       width = 10, height = 10, units = \"cm\")\n",
    "ggsave(\"../figures/correlation_facs_scRNAseq/treg.svg\", \n",
    "       width = 10, height = 10, units = \"cm\")"
   ]
  },
  {
   "cell_type": "markdown",
   "id": "c0ada251",
   "metadata": {},
   "source": [
    "### Naive CD8"
   ]
  },
  {
   "cell_type": "markdown",
   "id": "3393a501",
   "metadata": {},
   "source": [
    "We will repeat the process for Naive CD8 cells. "
   ]
  },
  {
   "cell_type": "code",
   "execution_count": null,
   "id": "879da873",
   "metadata": {},
   "outputs": [],
   "source": [
    "population_freq_cd8  <- read_csv(\"../tables/populations_freq/cd8_freq.csv\")"
   ]
  },
  {
   "cell_type": "code",
   "execution_count": null,
   "id": "ae4b5af5",
   "metadata": {},
   "outputs": [],
   "source": [
    "population_freq_cd8"
   ]
  },
  {
   "cell_type": "code",
   "execution_count": null,
   "id": "d9ea8d62",
   "metadata": {},
   "outputs": [],
   "source": [
    "population_freq_cd8$prelim_final  <- ifelse(population_freq_cd8$Experiment_ID %in% c(\"Exp10\", \"Exp11\"), \"Prelim\", \"Final\")"
   ]
  },
  {
   "cell_type": "code",
   "execution_count": null,
   "id": "1d2bade5",
   "metadata": {},
   "outputs": [],
   "source": [
    "md <- read_excel(\"../data/metadata_v07.xlsx\")\n",
    "df <- as.data.frame(md)\n",
    "df"
   ]
  },
  {
   "cell_type": "code",
   "execution_count": null,
   "id": "88431303",
   "metadata": {},
   "outputs": [],
   "source": [
    "cd8_naive  <- data.frame(pct_naive_of_CD8 = df$pct_naive_of_CD8, \n",
    "                         Patient_Time = paste(df$patient, df$time_taken))"
   ]
  },
  {
   "cell_type": "code",
   "execution_count": null,
   "id": "e2c4280c",
   "metadata": {
    "scrolled": true
   },
   "outputs": [],
   "source": [
    "population_freq_cd8_naive  <- population_freq_cd8  %>% dplyr::filter(Level == \"L2\" & annot_l2 == \"Naive\")  %>% \n",
    "mutate(Patient_Time = paste(Patient_ID, Time))  %>% \n",
    "dplyr::select(Patient_Time, pct_from_parent, prelim_final)"
   ]
  },
  {
   "cell_type": "code",
   "execution_count": null,
   "id": "c4951879",
   "metadata": {
    "scrolled": true
   },
   "outputs": [],
   "source": [
    "population_freq_cd8_naive"
   ]
  },
  {
   "cell_type": "code",
   "execution_count": null,
   "id": "0b6a831b",
   "metadata": {},
   "outputs": [],
   "source": [
    "cd8_naive  <- left_join(cd8_naive, population_freq_cd8_naive)"
   ]
  },
  {
   "cell_type": "code",
   "execution_count": null,
   "id": "999a4438",
   "metadata": {
    "scrolled": true
   },
   "outputs": [],
   "source": [
    "cd8_naive"
   ]
  },
  {
   "cell_type": "code",
   "execution_count": null,
   "id": "dfd54aa1",
   "metadata": {
    "scrolled": true
   },
   "outputs": [],
   "source": [
    "options(repr.plot.width = 8, repr.plot.height = 6)\n",
    " cd8_naive %>% \n",
    "dplyr::filter(prelim_final == \"Prelim\")  %>% \n",
    "ggplot(aes(x=pct_naive_of_CD8, y=pct_from_parent)) +\n",
    "geom_point(shape = 16, size = 2, aes(color = factor(prelim_final))) +\n",
    " geom_smooth(method=lm) + ggtitle(\"\") +stat_cor() + theme_classic() + ggtheme() +\n",
    " scale_y_continuous() + NoLegend() "
   ]
  },
  {
   "cell_type": "code",
   "execution_count": null,
   "id": "376467e4",
   "metadata": {},
   "outputs": [],
   "source": [
    "ggsave(\"../figures/correlation_facs_scRNAseq/cd8_naive.png\", \n",
    "       create.dir = TRUE,\n",
    "       width = 10, height = 10, units = \"cm\")\n",
    "ggsave(\"../figures/correlation_facs_scRNAseq/cd8_naive.svg\", \n",
    "       width = 10, height = 10, units = \"cm\")"
   ]
  },
  {
   "cell_type": "markdown",
   "id": "f0594c97",
   "metadata": {},
   "source": [
    "### Tgd"
   ]
  },
  {
   "cell_type": "markdown",
   "id": "82488e14",
   "metadata": {},
   "source": [
    "We will repeat the process for Tgd cells. "
   ]
  },
  {
   "cell_type": "code",
   "execution_count": null,
   "id": "86383429",
   "metadata": {},
   "outputs": [],
   "source": [
    "cd8_tgd  <- data.frame(pct_tgd_of_CD8 = extra_gating$`FlowAIGoodEvents/Lymphocytes/Single Cells/Single Cells/Via, SSC-A subset/CD3, SSC-A subset/gdT | Freq. of Parent`, \n",
    "                         Patient_Time = paste0(extra_gating$Patient_ID, \" T\",extra_gating$TimePoint))"
   ]
  },
  {
   "cell_type": "code",
   "execution_count": null,
   "id": "932a86f5",
   "metadata": {
    "scrolled": true
   },
   "outputs": [],
   "source": [
    "population_freq_cd8"
   ]
  },
  {
   "cell_type": "code",
   "execution_count": null,
   "id": "d6b43d39",
   "metadata": {
    "scrolled": true
   },
   "outputs": [],
   "source": [
    "population_freq_cd8_tgd  <- population_freq_cd8  %>% dplyr::filter(Level == \"L1\" & annot_l1 == \"CD8 Unconventional T cells\")  %>% \n",
    "mutate(Patient_Time = paste(Patient_ID, Time))  %>% \n",
    "dplyr::select(Patient_Time, pct_from_total, prelim_final)"
   ]
  },
  {
   "cell_type": "code",
   "execution_count": null,
   "id": "eb20b1b5",
   "metadata": {
    "scrolled": true
   },
   "outputs": [],
   "source": [
    "population_freq_cd8_tgd"
   ]
  },
  {
   "cell_type": "code",
   "execution_count": null,
   "id": "7e21d3c7",
   "metadata": {},
   "outputs": [],
   "source": [
    "cd8_tgd  <- left_join(cd8_tgd, population_freq_cd8_tgd)"
   ]
  },
  {
   "cell_type": "code",
   "execution_count": null,
   "id": "6d43360b",
   "metadata": {
    "scrolled": true
   },
   "outputs": [],
   "source": [
    "cd8_tgd"
   ]
  },
  {
   "cell_type": "code",
   "execution_count": null,
   "id": "19149b34",
   "metadata": {
    "scrolled": true
   },
   "outputs": [],
   "source": [
    "options(repr.plot.width = 8, repr.plot.height = 6)\n",
    " cd8_tgd %>% \n",
    "dplyr::filter(prelim_final == \"Prelim\")  %>% \n",
    "ggplot(aes(x=pct_tgd_of_CD8, y=pct_from_total)) +\n",
    "geom_point(shape = 16, size = 2, aes(color = factor(prelim_final))) +\n",
    " geom_smooth(method=lm) + ggtitle(\"\") +stat_cor() + theme_classic() + ggtheme() +\n",
    " scale_y_continuous() + NoLegend() "
   ]
  },
  {
   "cell_type": "code",
   "execution_count": null,
   "id": "44e54f24",
   "metadata": {},
   "outputs": [],
   "source": [
    "ggsave(\"../figures/correlation_facs_scRNAseq/cd8_tgd.png\", \n",
    "       create.dir = TRUE,\n",
    "       width = 10, height = 10, units = \"cm\")\n",
    "ggsave(\"../figures/correlation_facs_scRNAseq/cd8_tgd.svg\", \n",
    "       width = 10, height = 10, units = \"cm\")"
   ]
  }
 ],
 "metadata": {
  "kernelspec": {
   "display_name": "R",
   "language": "R",
   "name": "ir"
  },
  "language_info": {
   "codemirror_mode": "r",
   "file_extension": ".r",
   "mimetype": "text/x-r-source",
   "name": "R",
   "pygments_lexer": "r",
   "version": "4.5.1"
  },
  "toc": {
   "base_numbering": 1,
   "nav_menu": {},
   "number_sections": true,
   "sideBar": true,
   "skip_h1_title": false,
   "title_cell": "Table of Contents",
   "title_sidebar": "Contents",
   "toc_cell": false,
   "toc_position": {
    "height": "calc(100% - 180px)",
    "left": "10px",
    "top": "150px",
    "width": "312.25px"
   },
   "toc_section_display": true,
   "toc_window_display": true
  }
 },
 "nbformat": 4,
 "nbformat_minor": 5
}
