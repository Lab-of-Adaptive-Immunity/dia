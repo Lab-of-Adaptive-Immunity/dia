{
 "cells": [
  {
   "cell_type": "code",
   "execution_count": null,
   "id": "a334a9d2",
   "metadata": {
    "scrolled": true
   },
   "outputs": [],
   "source": [
    "source(\"diabetes_analysis_v06.R\")\n"
   ]
  },
  {
   "cell_type": "markdown",
   "id": "b450d5a1",
   "metadata": {},
   "source": [
    "# Extracellular panel v06"
   ]
  },
  {
   "cell_type": "code",
   "execution_count": null,
   "id": "9a5fbc9c",
   "metadata": {},
   "outputs": [],
   "source": [
    "extra_gating  <- list.files(\"../../../Project Diabetes Motol/FACS validation/Final_Analysis_VN/Extracellular/05_Results/Tables/\",\n",
    "full.names = TRUE)"
   ]
  },
  {
   "cell_type": "code",
   "execution_count": null,
   "id": "32100482",
   "metadata": {},
   "outputs": [],
   "source": [
    "extra_gating"
   ]
  },
  {
   "cell_type": "code",
   "execution_count": null,
   "id": "36856391",
   "metadata": {},
   "outputs": [],
   "source": [
    "dir.create(\"../../../Project Diabetes Motol/FACS validation/Final_Analysis_VN/Extracellular/05_Results/R_plots/240604_v06/\")"
   ]
  },
  {
   "cell_type": "code",
   "execution_count": null,
   "id": "2198d55d",
   "metadata": {},
   "outputs": [],
   "source": [
    "extra_gating  <- read_xlsx(extra_gating[9])"
   ]
  },
  {
   "cell_type": "code",
   "execution_count": null,
   "id": "2f14edac",
   "metadata": {},
   "outputs": [],
   "source": [
    "extra_gating$Condition  <- paste(extra_gating$Disease, extra_gating$TimePoint)"
   ]
  },
  {
   "cell_type": "code",
   "execution_count": null,
   "id": "12e24847",
   "metadata": {},
   "outputs": [],
   "source": [
    "extra_gating  %>% ncol"
   ]
  },
  {
   "cell_type": "code",
   "execution_count": null,
   "id": "d6cfe655",
   "metadata": {},
   "outputs": [],
   "source": [
    "extra_gating$Naive_to_Eff_CD8  <- extra_gating$CD8_Naive/extra_gating$CD8_NonNaive\n",
    "extra_gating$Naive_to_Eff_CD4  <- extra_gating$CD4_Naive/extra_gating$CD4_NonNaive\n",
    "extra_gating$Naive_to_Eff_CD8_10  <- extra_gating$CD8_Naive10/extra_gating$CD8_NonNaive10\n",
    "extra_gating$Naive_to_Eff_CD4_10  <- extra_gating$CD4_Naive10/extra_gating$CD4_NonNaive10\n"
   ]
  },
  {
   "cell_type": "code",
   "execution_count": null,
   "id": "639a19dd",
   "metadata": {},
   "outputs": [],
   "source": [
    "ncol(extra_gating)"
   ]
  },
  {
   "cell_type": "code",
   "execution_count": null,
   "id": "29b5b746",
   "metadata": {},
   "outputs": [],
   "source": [
    "colnames(extra_gating)"
   ]
  },
  {
   "cell_type": "code",
   "execution_count": null,
   "id": "41011773",
   "metadata": {},
   "outputs": [],
   "source": [
    "for(i in c(37,38)){\n",
    "  print(i)\n",
    "  df_filt <- extra_gating %>% \n",
    "    dplyr::select(1:5,34,i)\n",
    "  colnames(df_filt) <- c(colnames(df_filt[c(1:6)]), \"value\")\n",
    "  df_filt$value <- as.numeric(df_filt$value)\n",
    "#print(df_filt)\n",
    "plot <- df_filt %>% \n",
    "  ggplot(aes(x = Condition,\n",
    "             y = value)) +\n",
    "geom_violin(alpha = 0.3, aes(fill = Condition), scale = \"width\") + \n",
    "stat_summary(fun = \"median\",\n",
    "               geom = \"crossbar\", \n",
    "               width = 0.75,\n",
    "               color = \"grey30\") +\n",
    "geom_beeswarm(size = 3, aes(fill = Condition), cex = 3, \n",
    "                shape = 21, color = \"black\", corral = \"random\") +\n",
    "ggpubr::stat_compare_means(label.x = 1.2, label.y.npc = \"top\", comparisons = list(c(1,2)), \n",
    "                           size = 5, vjust = 0.3, label = \"p.format\") +\n",
    "    scale_fill_manual(values = c(\"#1874cdff\",  \"#ee6363ff\", \"#c41515ff\",\"#eeb4b4ff\")) +\n",
    "scale_color_manual(values = c(\"dodgerblue3\",  \"#e54c4cff\", \"#aa2a2aff\",\"#e88989ff\")) +\n",
    "ylab(\"\") +\n",
    "  xlab(\"\") +\n",
    "  ylim(0,NA) +\n",
    "  theme_classic() +\n",
    "theme(strip.background = element_blank(), panel.grid = element_blank()) + \n",
    "  theme(axis.text = element_text(color = \"black\"),\n",
    "        axis.text.x = element_text(angle = 90),\n",
    "       axis.line = element_line(color = \"black\", size = 0.5),\n",
    "        axis.ticks.x = element_blank()) +\n",
    "  ylim(0,NA)+\n",
    "  plot_annotation(\n",
    "    title = paste(stringr::str_replace_all(string = colnames(extra_gating)[i], pattern = \"/\", replacement = \"\\n\")) ,\n",
    "    theme = theme(plot.title = element_text(size = 8), \n",
    "                  plot.subtitle = element_text(size = 8),\n",
    "                 axis.text.x = element_blank())) + ggtheme() + NoLegend()\n",
    "    \n",
    "      df_filt <- extra_gating %>% \n",
    "    filter(Condition != \"0 0\")   %>% \n",
    "    dplyr::select(4,5,i) \n",
    "  colnames(df_filt) <- c(colnames(df_filt[c(1:2)]), \"value\")\n",
    "  df_filt$value <- as.numeric(df_filt$value)\n",
    "df_filt <- df_filt  %>% pivot_wider(names_from = TimePoint, values_from = value) \n",
    "colnames(df_filt)  <- c(\"Patient_ID\",\"Time1\",\"Time0\")\n",
    " df_filt <- df_filt %>% dplyr::filter(!is.na(Time1)&(!is.na(Time0)))\n",
    "    df_filt <- df_filt  %>% pivot_longer(!Patient_ID, names_to = \"TimePoint\", values_to = \"value\")\n",
    "    \n",
    "plot2 <- df_filt  %>% \n",
    "  ggplot(aes(x = TimePoint,\n",
    "             y = value)) +\n",
    "geom_violin(alpha = 0.3, scale = \"width\") + \n",
    "stat_summary(fun = \"median\",\n",
    "               geom = \"crossbar\", \n",
    "               width = 0.75,\n",
    "               color = \"grey30\") +\n",
    "geom_beeswarm(size = 3, cex = 3, \n",
    "                shape = 21, color = \"black\", corral = \"random\") +\n",
    "ggpubr::stat_compare_means(label.x = 1.2, label.y.npc = \"top\", paired = TRUE, \n",
    "                           size = 5, vjust = 0.3, label = \"p.format\") +\n",
    "scale_fill_manual(values = c(\"#ee6363ff\", \"#c41515ff\",\"#eeb4b4ff\")) +\n",
    "scale_color_manual(values = c(\"#e54c4cff\", \"#aa2a2aff\",\"#e88989ff\")) +\n",
    "ylab(\"\") +\n",
    "  xlab(\"\") +\n",
    "  ylim(0,NA) +\n",
    "  theme_classic() +\n",
    "theme(strip.background = element_blank(), panel.grid = element_blank()) + \n",
    "  theme(axis.text = element_text(color = \"black\"),\n",
    "        axis.text.x = element_text(angle = 90),\n",
    "       axis.line = element_line(color = \"black\", size = 0.5),\n",
    "        axis.ticks.x = element_blank()) +\n",
    "  ylim(0,NA)+\n",
    "  plot_annotation(\n",
    "    title = paste(stringr::str_replace_all(string = colnames(extra_gating)[i], pattern = \"/\", replacement = \"\\n\")) ,\n",
    "    theme = theme(plot.title = element_text(size = 8), \n",
    "                  plot.subtitle = element_text(size = 8),\n",
    "                 axis.text.x = element_blank())) + ggtheme() + NoLegend()\n",
    "\n",
    "    plot  <- plot + plot2\n",
    "    plot\n",
    "  ggsave(create.dir = TRUE, paste0(\"../../../Project Diabetes Motol/FACS validation/Final_Analysis_VN/Extracellular/05_Results/R_plots/240604_v06/\",paste0(\"plot_\",i),\".png\"), \n",
    "         width = 13, height = 10, units = \"cm\")\n",
    "    ggsave(create.dir = TRUE, paste0(\"../../../Project Diabetes Motol/FACS validation/Final_Analysis_VN/Extracellular/05_Results/R_plots/240604_v06/\",paste0(\"plot_\",i),\".svg\"), \n",
    "         width = 13, height = 10, units = \"cm\")\n",
    "}\n"
   ]
  },
  {
   "cell_type": "markdown",
   "id": "13d36e7a",
   "metadata": {},
   "source": [
    "### Characterize TCRgd vs CD8"
   ]
  },
  {
   "cell_type": "code",
   "execution_count": null,
   "id": "c43493e6",
   "metadata": {},
   "outputs": [],
   "source": [
    "extra_gating"
   ]
  },
  {
   "cell_type": "code",
   "execution_count": null,
   "id": "35c044af",
   "metadata": {},
   "outputs": [],
   "source": [
    "geomean_values  <- c(\"CD56\",\"TCRgd\",\"CD16\")"
   ]
  },
  {
   "cell_type": "code",
   "execution_count": null,
   "id": "d1a10715",
   "metadata": {},
   "outputs": [],
   "source": [
    "geomean_values"
   ]
  },
  {
   "cell_type": "code",
   "execution_count": null,
   "id": "92d7220b",
   "metadata": {},
   "outputs": [],
   "source": [
    "grep(colnames(extra_gating), pattern = \"Geo\", value = T)"
   ]
  },
  {
   "cell_type": "code",
   "execution_count": null,
   "id": "c45d8d29",
   "metadata": {},
   "outputs": [],
   "source": [
    "i = \"CD56\""
   ]
  },
  {
   "cell_type": "code",
   "execution_count": null,
   "id": "6e26f5fb",
   "metadata": {},
   "outputs": [],
   "source": [
    "which(grepl(colnames(extra_gating), pattern = i))"
   ]
  },
  {
   "cell_type": "code",
   "execution_count": null,
   "id": "09721b73",
   "metadata": {},
   "outputs": [],
   "source": [
    "colnames(extra_gating)"
   ]
  },
  {
   "cell_type": "code",
   "execution_count": null,
   "id": "c416c17d",
   "metadata": {},
   "outputs": [],
   "source": [
    "## CD16\n",
    "\n",
    "\n",
    "## CD56\n",
    "\n",
    "\n",
    "## TCRgd\n"
   ]
  },
  {
   "cell_type": "code",
   "execution_count": null,
   "id": "7caf461f",
   "metadata": {},
   "outputs": [],
   "source": [
    "which(grepl(colnames(extra_gating), pattern = \"Geometric Mean \\\\(CD16\\\\)\"))"
   ]
  },
  {
   "cell_type": "code",
   "execution_count": null,
   "id": "a168007c",
   "metadata": {},
   "outputs": [],
   "source": [
    " df_filt <- extra_gating %>% \n",
    "    dplyr::select(1:5,30,which(grepl(colnames(extra_gating), pattern = \"Geometric Mean \\\\(CD16\\\\)\")))"
   ]
  },
  {
   "cell_type": "code",
   "execution_count": null,
   "id": "1f47c2b0",
   "metadata": {},
   "outputs": [],
   "source": [
    "df_filt"
   ]
  },
  {
   "cell_type": "code",
   "execution_count": null,
   "id": "265b746b",
   "metadata": {},
   "outputs": [],
   "source": [
    "  colnames(df_filt) <- c(colnames(df_filt[c(1:6)]), \"CD8Naive\", \"CD8NonNaive\", \"CD8low\", \"NK\")\n",
    " \n",
    "    df_filt <- df_filt %>% \n",
    "    pivot_longer(cols = c(7:10), names_to = \"Population\", values_to = \"value\")"
   ]
  },
  {
   "cell_type": "code",
   "execution_count": null,
   "id": "12f28983",
   "metadata": {
    "scrolled": true
   },
   "outputs": [],
   "source": [
    "df_filt"
   ]
  },
  {
   "cell_type": "code",
   "execution_count": null,
   "id": "e28b4fb8",
   "metadata": {},
   "outputs": [],
   "source": [
    "for(i in geomean_values){\n",
    "  df_filt <- extra_gating %>% \n",
    "    dplyr::select(1:5,30,which(grepl(colnames(extra_gating), pattern = paste0(\"Geometric Mean \\\\(\",i))))\n",
    "colnames(df_filt) <- c(colnames(df_filt[c(1:6)]), \"CD8Naive\", \"CD8NonNaive\", \"CD8low\", \"NK\")\n",
    " \n",
    "    df_filt <- df_filt %>% \n",
    "    pivot_longer(cols = c(7:10), names_to = \"Population\", values_to = \"value\")\n",
    "plot <- df_filt %>% \n",
    "  ggplot(aes(x = Population,\n",
    "             y = value)) +\n",
    "geom_violin(alpha = 0.3, aes(fill = Population), scale = \"width\") + \n",
    "geom_beeswarm(size = 3, aes(fill = Population), cex = 3, \n",
    "                shape = 21, color = \"black\", corral = \"random\") +\n",
    "stat_summary(fun = \"median\",\n",
    "               geom = \"crossbar\", \n",
    "               width = 0.75,\n",
    "               color = \"grey30\") +\n",
    "#ggpubr::stat_compare_means(label.x = 1.2, label.y.npc = \"top\", comparisons = list(c(1,2)), \n",
    "#                           size = 5, vjust = 0.3, label = \"p.format\") +\n",
    "#   scale_fill_manual(values = c(\"#1874cdff\",  \"#ee6363ff\", \"#c41515ff\",\"#eeb4b4ff\")) +\n",
    "#scale_color_manual(values = c(\"dodgerblue3\",  \"#e54c4cff\", \"#aa2a2aff\",\"#e88989ff\")) +\n",
    "ylab(\"\") +\n",
    "  xlab(\"\") +\n",
    "  ylim(0,NA) +\n",
    "  theme_classic() +\n",
    "theme(strip.background = element_blank(), panel.grid = element_blank()) + \n",
    "  theme(axis.text = element_text(color = \"black\"),\n",
    "        axis.text.x = element_text(angle = 90),\n",
    "       axis.line = element_line(color = \"black\", size = 0.5),\n",
    "        axis.ticks.x = element_blank()) +\n",
    "  ylim(0,NA)+\n",
    "  plot_annotation(\n",
    "    title = i ,\n",
    "    theme = theme(plot.title = element_text(size = 8), \n",
    "                  plot.subtitle = element_text(size = 8),\n",
    "                 axis.text.x = element_blank())) + ggtheme() + NoLegend()\n",
    "    plot\n",
    "  ggsave(create.dir = TRUE, paste0(\"../../../Project Diabetes Motol/FACS validation/Final_Analysis_VN/Extracellular/05_Results/R_plots/240604_v06_TCRgd_char/\",paste0(\"plot_\",i),\".png\"), \n",
    "         width = 13, height = 20, units = \"cm\")\n",
    "    ggsave(create.dir = TRUE, paste0(\"../../../Project Diabetes Motol/FACS validation/Final_Analysis_VN/Extracellular/05_Results/R_plots/240604_v06_TCRgd_char/\",paste0(\"plot_\",i),\".svg\"), \n",
    "         width = 13, height = 20, units = \"cm\")\n",
    "}"
   ]
  },
  {
   "cell_type": "code",
   "execution_count": null,
   "id": "8fd8a3be",
   "metadata": {},
   "outputs": [],
   "source": []
  },
  {
   "cell_type": "code",
   "execution_count": null,
   "id": "d9d1e03f",
   "metadata": {},
   "outputs": [],
   "source": [
    "intra02_files"
   ]
  },
  {
   "cell_type": "code",
   "execution_count": null,
   "id": "6697313b",
   "metadata": {},
   "outputs": [],
   "source": [
    "intra02_All2  <- read_xlsx(intra02_files[9])"
   ]
  },
  {
   "cell_type": "code",
   "execution_count": null,
   "id": "1896c416",
   "metadata": {},
   "outputs": [],
   "source": [
    "intra02_All2"
   ]
  },
  {
   "cell_type": "code",
   "execution_count": null,
   "id": "8a4d7eaa",
   "metadata": {},
   "outputs": [],
   "source": [
    "ncol(intra02_All2)"
   ]
  },
  {
   "cell_type": "code",
   "execution_count": null,
   "id": "fac646f7",
   "metadata": {},
   "outputs": [],
   "source": [
    "intra02_All2$Condition  <- paste(intra02_All2$Disease, intra02_All2$TimePoint)"
   ]
  },
  {
   "cell_type": "code",
   "execution_count": null,
   "id": "cd002058",
   "metadata": {},
   "outputs": [],
   "source": [
    "intra02_All2"
   ]
  },
  {
   "cell_type": "code",
   "execution_count": null,
   "id": "45ad4b3b",
   "metadata": {},
   "outputs": [],
   "source": [
    "dir.create(\"../../../Project Diabetes Motol/FACS validation/Final_Analysis_VN/Intracellular02_CD8/05_Results/R_plots/results_240603_v6/\")"
   ]
  },
  {
   "cell_type": "code",
   "execution_count": null,
   "id": "463aed06",
   "metadata": {
    "scrolled": true
   },
   "outputs": [],
   "source": [
    "for(i in c(6:37)){\n",
    "  \n",
    "  df_filt <- intra02_All2 %>% \n",
    "    dplyr::select(1:5,38,i)\n",
    "  colnames(df_filt) <- c(colnames(df_filt[c(1:6)]), \"value\")\n",
    "  df_filt$value <- as.numeric(df_filt$value)\n",
    "\n",
    "plot <- df_filt %>% \n",
    "  ggplot(aes(x = Condition,\n",
    "             y = value)) +\n",
    "   geom_dotplot(binaxis='y', stackdir='center', dotsize = 0) + \n",
    "   geom_boxplot(outlier.shape = NA) +\n",
    "    geom_jitter(binaxis='y', position=position_jitter(width = 0.1, height = 0.01), \n",
    "                size = 3, stackdir='center', aes(color = Condition)) + \n",
    "  theme_classic() + xlab(\"\") +  \n",
    " xlab(\"\") + ylab(\"Value\") +\n",
    "   scale_y_continuous(expand = expansion(mult = c(0, 0.1))) +\n",
    "  ggpubr::stat_compare_means(label.x = 1.2, label.y.npc = \"top\", size = 5, vjust = 0.3, label = \"p.format\") + \n",
    "      theme(plot.title = element_text(hjust = 0.5, size = 22),\n",
    "          axis.line = element_line(colour = \"black\"), \n",
    "        axis.ticks = element_line(colour = \"black\")) +\n",
    "  ylim(0,NA)+\n",
    "  plot_annotation(\n",
    "    title = paste(stringr::str_replace_all(string = colnames(intra02_All2)[i], pattern = \"/\", replacement = \"\\n\")) ,\n",
    "    theme = theme(plot.title = element_text(size = 8), plot.subtitle = element_text(size = 8)))\n",
    "\n",
    "  ggsave(paste0(\"../../../Project Diabetes Motol/FACS validation/Final_Analysis_VN/Intracellular02_CD8/05_Results/R_plots/results_240603_v6/\",paste0(\"plot_\",i),\".png\"), \n",
    "         width = 15, height = 12, units = \"cm\")\n",
    "}\n"
   ]
  },
  {
   "cell_type": "code",
   "execution_count": null,
   "id": "a54146dd",
   "metadata": {},
   "outputs": [],
   "source": [
    "samples  <- read_xlsx(\"../../../Project Diabetes Motol/FACS validation/240229 Analysis/Diabetes3/table_of_samples.xlsx\")\n",
    "intra02_All2$Sample_ID  <- ifelse(intra02_All2$TimePoint == 1, paste0(intra02_All2$Patient_ID,\"b\"),intra02_All2$Patient_ID)\n",
    "colnames(samples)[2]  <- \"Sample_ID\"\n",
    "intra02_All2  <- left_join(intra02_All2, samples)\n",
    "intra02_All2$Experiment  <- ifelse(is.na(intra02_All2$Experiment), \"Run1\", intra02_All2$Experiment)"
   ]
  },
  {
   "cell_type": "code",
   "execution_count": null,
   "id": "c131f0ee",
   "metadata": {},
   "outputs": [],
   "source": [
    "columns_to_normalize  <- grep(colnames(intra02_All2), pattern = \" \\\\(IkBa\\\\)\")\n",
    "columns_to_normalize2  <- grep(colnames(intra02_All2), pattern = \" \\\\(CXCR4\\\\)\")\n",
    "columns_to_normalize  <- c(columns_to_normalize, columns_to_normalize2)\n",
    "intra02_All2_copy  <- intra02_All2"
   ]
  },
  {
   "cell_type": "code",
   "execution_count": null,
   "id": "e0f374c5",
   "metadata": {},
   "outputs": [],
   "source": [
    "grep(colnames(intra02_All2), pattern = \" \\\\(IkBa\\\\)\", value = T)"
   ]
  },
  {
   "cell_type": "code",
   "execution_count": null,
   "id": "26f2b602",
   "metadata": {},
   "outputs": [],
   "source": [
    "\n",
    "for(i in columns_to_normalize){\n",
    "   j  <- ncol(intra02_All2_copy)+1\n",
    "     df2  <- intra02_All2_copy  %>% dplyr::select(value = i, batch = Experiment, Condition)\n",
    "    df2$sample_id  <- 1:nrow(df2)\n",
    "    level_batch1 = levels(factor(df2$batch))[1]\n",
    "    level_batch2 = levels(factor(df2$batch))[2]\n",
    "        \n",
    "    min_batch1  <- min(df2  %>% dplyr::filter(batch == level_batch1)  %>% pull(value))\n",
    "    min_batch2  <- min(df2  %>% dplyr::filter(batch == level_batch2)  %>% pull(value))\n",
    "    df2 <- df2  %>%  mutate(norm_value = if_else(batch == level_batch1, \n",
    "                              log(value),\n",
    "                              log(value+5000)))  %>% dplyr::select(norm_value)\n",
    "    \n",
    "    intra02_All2_copy  <- cbind(intra02_All2_copy, df2)\n",
    "    colnames(intra02_All2_copy)[j]  <- paste(\"Norm3.\", colnames(intra02_All2_copy)[i])\n",
    "}"
   ]
  },
  {
   "cell_type": "code",
   "execution_count": null,
   "id": "c7b06b79",
   "metadata": {},
   "outputs": [],
   "source": [
    "colnames(intra02_All2_copy)[285]"
   ]
  },
  {
   "cell_type": "code",
   "execution_count": null,
   "id": "5ca368a4",
   "metadata": {},
   "outputs": [],
   "source": [
    "ncol(intra02_All2_copy)"
   ]
  },
  {
   "cell_type": "code",
   "execution_count": null,
   "id": "b1c6724e",
   "metadata": {},
   "outputs": [],
   "source": [
    "colnames(intra02_All2_copy)"
   ]
  },
  {
   "cell_type": "code",
   "execution_count": null,
   "id": "261f7bda",
   "metadata": {},
   "outputs": [],
   "source": [
    "for(i in c(336:383)){\n",
    "  \n",
    "  df_filt <- intra02_All2_copy  %>% \n",
    "    filter(Condition != \"1 1\")  %>% \n",
    "    dplyr::select(1:5,285,i,287)\n",
    "  colnames(df_filt) <- c(colnames(df_filt[c(1:6)]), \"value\", \"Experiment\")\n",
    "  df_filt$value <- as.numeric(df_filt$value)\n",
    "\n",
    "plot <- df_filt %>% \n",
    "  ggplot(aes(x = Condition,\n",
    "             y = value)) +\n",
    "   geom_dotplot(binaxis='y', stackdir='center', dotsize = 0) + \n",
    "   geom_boxplot(outlier.shape = NA) +\n",
    "    geom_jitter(binaxis='y', position=position_jitter(width = 0.1, height = 0.01), \n",
    "                size = 3, stackdir='center', aes(color = Experiment)) + \n",
    "  theme_classic() + xlab(\"\") +  \n",
    " xlab(\"\") + ylab(\"Value\") +\n",
    "   scale_y_continuous(expand = expansion(mult = c(0, 0.1))) +\n",
    "  ggpubr::stat_compare_means(label.x = 1.2, label.y.npc = \"top\", size = 5, vjust = 0.3, label = \"p.format\") + \n",
    "      theme(plot.title = element_text(hjust = 0.5, size = 22),\n",
    "          axis.line = element_line(colour = \"black\"), \n",
    "        axis.ticks = element_line(colour = \"black\")) +\n",
    "  #ylim(0,NA)+\n",
    "  plot_annotation(\n",
    "    title = paste(stringr::str_replace_all(string = colnames(intra02_All2_copy)[i], pattern = \"/\", replacement = \"\\n\")) ,\n",
    "    theme = theme(plot.title = element_text(size = 8), plot.subtitle = element_text(size = 8)))\n",
    "\n",
    "  ggsave(paste0(\"../../../Project Diabetes Motol/FACS validation/Final_Analysis_VN/Intracellular02_CD8/05_Results/R_plots/results_2400516_6/\",paste0(\"plot_\",i),\".png\"), \n",
    "         width = 15, height = 12, units = \"cm\")\n",
    "}"
   ]
  },
  {
   "cell_type": "code",
   "execution_count": null,
   "id": "e5ecbfc4",
   "metadata": {},
   "outputs": [],
   "source": []
  },
  {
   "cell_type": "code",
   "execution_count": null,
   "id": "464316a1",
   "metadata": {},
   "outputs": [],
   "source": []
  },
  {
   "cell_type": "markdown",
   "id": "a3357889",
   "metadata": {},
   "source": [
    "### Everything together"
   ]
  },
  {
   "cell_type": "code",
   "execution_count": null,
   "id": "414e4cab",
   "metadata": {},
   "outputs": [],
   "source": [
    "## Find files with tables from FlowJo and read their paths"
   ]
  },
  {
   "cell_type": "code",
   "execution_count": null,
   "id": "56af9687",
   "metadata": {},
   "outputs": [],
   "source": [
    "extra_files  <- list.files(\"../../../Project Diabetes Motol/FACS validation/Final_Analysis_VN/Extracellular/05_Results/Tables/\",\n",
    "                          full.names = TRUE)"
   ]
  },
  {
   "cell_type": "code",
   "execution_count": null,
   "id": "7969e300",
   "metadata": {},
   "outputs": [],
   "source": [
    "path  <- extra_files[1]"
   ]
  },
  {
   "cell_type": "code",
   "execution_count": null,
   "id": "36f6aa99",
   "metadata": {},
   "outputs": [],
   "source": [
    "path"
   ]
  },
  {
   "cell_type": "code",
   "execution_count": null,
   "id": "9104f68f",
   "metadata": {},
   "outputs": [],
   "source": [
    "high_dim2 <- t(read_xlsx(path)) "
   ]
  },
  {
   "cell_type": "code",
   "execution_count": null,
   "id": "5cf73dbb",
   "metadata": {
    "scrolled": true
   },
   "outputs": [],
   "source": [
    "high_dim2 <- high_dim2 %>% as.data.frame() %>% rownames_to_column(\"sample\")"
   ]
  },
  {
   "cell_type": "code",
   "execution_count": null,
   "id": "747f0c9a",
   "metadata": {},
   "outputs": [],
   "source": [
    "high_dim2 <- high_dim2[2:nrow(high_dim2),]"
   ]
  },
  {
   "cell_type": "code",
   "execution_count": null,
   "id": "956f6539",
   "metadata": {
    "scrolled": true
   },
   "outputs": [],
   "source": [
    "high_dim2"
   ]
  },
  {
   "cell_type": "code",
   "execution_count": null,
   "id": "85cfa668",
   "metadata": {},
   "outputs": [],
   "source": [
    "colnames(high_dim2) <- c(\"population\", \"value\")"
   ]
  },
  {
   "cell_type": "code",
   "execution_count": null,
   "id": "7a517e3d",
   "metadata": {},
   "outputs": [],
   "source": [
    "high_dim2$population <- sub(pattern = \"X-shift_\", \n",
    "                           replacement = \"cluster\",\n",
    "                            x = high_dim2$population)"
   ]
  },
  {
   "cell_type": "code",
   "execution_count": null,
   "id": "9007ec9f",
   "metadata": {
    "scrolled": true
   },
   "outputs": [],
   "source": [
    "high_dim2"
   ]
  },
  {
   "cell_type": "code",
   "execution_count": null,
   "id": "5bf862f5",
   "metadata": {},
   "outputs": [],
   "source": [
    "high_dim2$population <- sub(pattern = \"\\\\| Freq. of Parent\", \n",
    "                           replacement = \"\",\n",
    "                            x = high_dim2$population)"
   ]
  },
  {
   "cell_type": "code",
   "execution_count": null,
   "id": "bf0e7389",
   "metadata": {},
   "outputs": [],
   "source": [
    "high_dim3 <- high_dim2 %>% \n",
    "separate(population, into = c(\"Sample\",\"Cluster\"), \n",
    "                                  sep = \"\\\\.0\\\\/\", remove = F) "
   ]
  },
  {
   "cell_type": "code",
   "execution_count": null,
   "id": "f9edb547",
   "metadata": {
    "scrolled": true
   },
   "outputs": [],
   "source": [
    "high_dim3"
   ]
  },
  {
   "cell_type": "code",
   "execution_count": null,
   "id": "b9a64e9f",
   "metadata": {},
   "outputs": [],
   "source": [
    "high_dim3 <- high_dim3 %>% filter(!is.na(Cluster))\n",
    "high_dim4  <- high_dim3  %>% dplyr::select(-population)  %>% \n",
    "mutate(value = as.numeric(value))  %>% \n",
    "pivot_wider(names_from = \"Cluster\", values_from = \"value\", values_fill = 0)"
   ]
  },
  {
   "cell_type": "code",
   "execution_count": null,
   "id": "b59f638c",
   "metadata": {},
   "outputs": [],
   "source": [
    "high_dim4"
   ]
  },
  {
   "cell_type": "code",
   "execution_count": null,
   "id": "149c0830",
   "metadata": {},
   "outputs": [],
   "source": [
    "high_dim4  <-  high_dim4  %>% separate(Sample, into = c(NA, \"SpecimenID\"), sep = \"_\", remove = F)\n",
    "high_dim4$SpecimenID  <- as.numeric(high_dim4$SpecimenID)\n",
    "return(high_dim4)"
   ]
  },
  {
   "cell_type": "code",
   "execution_count": null,
   "id": "a5e8b5e5",
   "metadata": {},
   "outputs": [],
   "source": [
    "## Apply loading code for each of the file paths"
   ]
  },
  {
   "cell_type": "code",
   "execution_count": null,
   "id": "e5942614",
   "metadata": {},
   "outputs": [],
   "source": [
    "process_file_facs  <- function(path) {\n",
    "    \n",
    "high_dim2 <- t(read_xlsx(path)) %>% as.data.frame() %>% rownames_to_column(\"sample\")\n",
    "high_dim2 <- high_dim2[2:nrow(high_dim2),]\n",
    "colnames(high_dim2) <- c(\"population\", \"value\")\n",
    "\n",
    "high_dim2$population <- sub(pattern = \"X-shift_\", \n",
    "                           replacement = \"cluster\",\n",
    "                            x = high_dim2$population)\n",
    "high_dim2$population <- sub(pattern = \"\\\\| Freq. of Parent\", \n",
    "                           replacement = \"\",\n",
    "                            x = high_dim2$population)\n",
    "high_dim3 <- high_dim2 %>% \n",
    "mutate()  %>% \n",
    "separate(population, into = c(\"Sample\",\"Cluster\"), \n",
    "                                  sep = \"\\\\.0\\\\/\", remove = F) \n",
    "high_dim3 <- high_dim3 %>% filter(!is.na(Cluster))\n",
    "high_dim4  <- high_dim3  %>% dplyr::select(-population)  %>% \n",
    "mutate(value = as.numeric(value))  %>% \n",
    "pivot_wider(names_from = \"Cluster\", values_from = \"value\", values_fill = 0)\n",
    "high_dim4  <-  high_dim4  %>% separate(Sample, into = c(NA, \"SpecimenID\"), sep = \"_\", remove = F)\n",
    "high_dim4$SpecimenID  <- as.numeric(high_dim4$SpecimenID)\n",
    "return(high_dim4)\n",
    "    }"
   ]
  },
  {
   "cell_type": "code",
   "execution_count": null,
   "id": "d5843f66",
   "metadata": {},
   "outputs": [],
   "source": [
    "extra_files"
   ]
  },
  {
   "cell_type": "code",
   "execution_count": null,
   "id": "6b2597b9",
   "metadata": {},
   "outputs": [],
   "source": [
    "Extra_CD3_or_CD16  <- process_file_facs(extra_files[[1]])\n",
    "Extra_CD3  <- process_file_facs(extra_files[[2]])\n",
    "Extra_TCRgd  <- process_file_facs(extra_files[[4]])"
   ]
  },
  {
   "cell_type": "code",
   "execution_count": null,
   "id": "9b5c68ac",
   "metadata": {},
   "outputs": [],
   "source": [
    "Extra_CD3$SpecimenID  <- substr(Extra_CD3$Sample,11,13)"
   ]
  },
  {
   "cell_type": "code",
   "execution_count": null,
   "id": "6de7c4b7",
   "metadata": {},
   "outputs": [],
   "source": [
    "Extra_TCRgd"
   ]
  },
  {
   "cell_type": "code",
   "execution_count": null,
   "id": "14f29279",
   "metadata": {},
   "outputs": [],
   "source": [
    "Extra_CD3$Sample  <- NULL\n",
    "Extra_CD3_or_CD16$Sample  <- NULL\n",
    "Extra_TCRgd$Sample <- NULL"
   ]
  },
  {
   "cell_type": "code",
   "execution_count": null,
   "id": "1b233878",
   "metadata": {
    "scrolled": true
   },
   "outputs": [],
   "source": [
    "Extra_TCRgd"
   ]
  },
  {
   "cell_type": "code",
   "execution_count": null,
   "id": "d3a21127",
   "metadata": {},
   "outputs": [],
   "source": [
    "Extra_CD3$SpecimenID  <- as.numeric(Extra_CD3$SpecimenID)\n",
    "Extra_CD3_or_CD16$SpecimenID  <- as.numeric(Extra_CD3_or_CD16$SpecimenID)\n",
    "Extra_TCRgd$SpecimenID <- as.numeric(Extra_TCRgd$SpecimenID)"
   ]
  },
  {
   "cell_type": "code",
   "execution_count": null,
   "id": "1f5fb957",
   "metadata": {},
   "outputs": [],
   "source": [
    "Extra_All  <- left_join(Extra_CD3, Extra_CD3_or_CD16)\n",
    "Extra_All  <- left_join(Extra_All, Extra_TCRgd)"
   ]
  },
  {
   "cell_type": "code",
   "execution_count": null,
   "id": "a8589e6a",
   "metadata": {
    "scrolled": true
   },
   "outputs": [],
   "source": [
    "Extra_All  %>% nrow"
   ]
  },
  {
   "cell_type": "code",
   "execution_count": null,
   "id": "601a5992",
   "metadata": {},
   "outputs": [],
   "source": [
    "metadata  <- high_dim1[,c(2:4)]"
   ]
  },
  {
   "cell_type": "code",
   "execution_count": null,
   "id": "ab0a8aaa",
   "metadata": {
    "scrolled": true
   },
   "outputs": [],
   "source": [
    "Extra_All2  <- cbind(Extra_All, metadata)"
   ]
  },
  {
   "cell_type": "code",
   "execution_count": null,
   "id": "80f50741",
   "metadata": {},
   "outputs": [],
   "source": [
    "Extra_All2$Condition  <- paste(Extra_All2$Disease, Extra_All2$TimePoint)"
   ]
  },
  {
   "cell_type": "code",
   "execution_count": null,
   "id": "9e533c23",
   "metadata": {},
   "outputs": [],
   "source": [
    "Extra_All2  %>% ncol"
   ]
  },
  {
   "cell_type": "code",
   "execution_count": null,
   "id": "d4cbbf32",
   "metadata": {
    "scrolled": true
   },
   "outputs": [],
   "source": [
    "Extra_All2"
   ]
  },
  {
   "cell_type": "code",
   "execution_count": null,
   "id": "65aa7f3c",
   "metadata": {},
   "outputs": [],
   "source": []
  },
  {
   "cell_type": "code",
   "execution_count": null,
   "id": "e27389fa",
   "metadata": {
    "scrolled": true
   },
   "outputs": [],
   "source": [
    "for(i in c(2:65)){\n",
    "  \n",
    "  df_filt <- Extra_All2 %>% \n",
    "    dplyr::select(1,66:69,i)\n",
    "  colnames(df_filt) <- c(colnames(df_filt[c(1:5)]), \"value\")\n",
    "  df_filt$value <- as.numeric(df_filt$value)\n",
    "\n",
    "plot <- df_filt %>% \n",
    "  ggplot(aes(x = Condition,\n",
    "             y = value)) +\n",
    "   geom_dotplot(binaxis='y', stackdir='center', dotsize = 0) + \n",
    "   geom_boxplot(outlier.shape = NA) +\n",
    "    geom_jitter(binaxis='y', position=position_jitter(width = 0.1, height = 0.01), \n",
    "                size = 3, stackdir='center', aes(color = Condition)) + \n",
    "  theme_classic() + xlab(\"\") +  \n",
    " xlab(\"\") + ylab(\"Value\") +\n",
    "   scale_y_continuous(expand = expansion(mult = c(0, 0.1))) +\n",
    "  ggpubr::stat_compare_means(label.x = 1.2, label.y.npc = \"top\", size = 5, vjust = 0.3, label = \"p.format\") + \n",
    "      theme(plot.title = element_text(hjust = 0.5, size = 22),\n",
    "          axis.line = element_line(colour = \"black\"), \n",
    "        axis.ticks = element_line(colour = \"black\")) +\n",
    "  ylim(0,NA)+\n",
    "  plot_annotation(\n",
    "    title = paste(stringr::str_replace_all(string = colnames(Extra_All2)[i], pattern = \"/\", replacement = \"\\n\")) ,\n",
    "    theme = theme(plot.title = element_text(size = 8), plot.subtitle = element_text(size = 8)))\n",
    "\n",
    "  ggsave(paste0(\"../../../Project Diabetes Motol/FACS validation/Final_Analysis_VN/Extracellular/05_Results/R_plots/results_240328_Extra/\",paste0(\"plot_\",i),\".png\"), \n",
    "         width = 15, height = 12, units = \"cm\")\n",
    "}\n"
   ]
  },
  {
   "cell_type": "markdown",
   "id": "403e83de",
   "metadata": {},
   "source": [
    "### Separated Experiments"
   ]
  },
  {
   "cell_type": "code",
   "execution_count": null,
   "id": "79d73be2",
   "metadata": {},
   "outputs": [],
   "source": [
    "samples  <- read_xlsx(\"../../../Project Diabetes Motol/FACS validation/240229 Analysis/Diabetes3/table_of_samples.xlsx\")"
   ]
  },
  {
   "cell_type": "code",
   "execution_count": null,
   "id": "14ac208f",
   "metadata": {},
   "outputs": [],
   "source": [
    "Extra_All2$Sample_ID  <- ifelse(Extra_All2$TimePoint == 1, paste0(Extra_All2$Patient_ID,\"b\"),Extra_All2$Patient_ID)"
   ]
  },
  {
   "cell_type": "code",
   "execution_count": null,
   "id": "df6eee81",
   "metadata": {
    "scrolled": true
   },
   "outputs": [],
   "source": [
    "Extra_All2$Sample_ID"
   ]
  },
  {
   "cell_type": "code",
   "execution_count": null,
   "id": "704b3d51",
   "metadata": {},
   "outputs": [],
   "source": [
    "colnames(samples)[2]  <- \"Sample_ID\""
   ]
  },
  {
   "cell_type": "code",
   "execution_count": null,
   "id": "7246273e",
   "metadata": {
    "scrolled": true
   },
   "outputs": [],
   "source": [
    "samples"
   ]
  },
  {
   "cell_type": "code",
   "execution_count": null,
   "id": "87ad25fe",
   "metadata": {},
   "outputs": [],
   "source": [
    "Extra_All2  <- left_join(Extra_All2, samples)"
   ]
  },
  {
   "cell_type": "code",
   "execution_count": null,
   "id": "65e1ec7c",
   "metadata": {
    "scrolled": true
   },
   "outputs": [],
   "source": [
    "Extra_All2"
   ]
  },
  {
   "cell_type": "code",
   "execution_count": null,
   "id": "e8fdae7e",
   "metadata": {},
   "outputs": [],
   "source": [
    "Extra_All2$Experiment  <- ifelse(is.na(Extra_All2$Experiment), \"Run1\", Extra_All2$Experiment)"
   ]
  },
  {
   "cell_type": "code",
   "execution_count": null,
   "id": "0b50d9af",
   "metadata": {},
   "outputs": [],
   "source": []
  },
  {
   "cell_type": "code",
   "execution_count": null,
   "id": "f6d2e137",
   "metadata": {},
   "outputs": [],
   "source": [
    "for(i in c(2:65)){\n",
    "  \n",
    "  df_filt <- Extra_All2 %>% \n",
    "    dplyr::select(1,66:71,i)\n",
    "  colnames(df_filt) <- c(colnames(df_filt[c(1:7)]), \"value\")\n",
    "  df_filt$value <- as.numeric(df_filt$value)\n",
    "\n",
    "plot <- df_filt %>% \n",
    "  ggplot(aes(x = Condition,\n",
    "             y = value)) +\n",
    "   geom_dotplot(binaxis='y', stackdir='center', dotsize = 0) + \n",
    "   geom_boxplot(outlier.shape = NA) +\n",
    "    geom_jitter(binaxis='y', position=position_jitter(width = 0.1, height = 0.01), \n",
    "                size = 3, stackdir='center', aes(color = Condition)) + \n",
    "    facet_wrap(~Experiment) +\n",
    "  theme_classic() + xlab(\"\") +  \n",
    " xlab(\"\") + ylab(\"Value\") +\n",
    "   scale_y_continuous(expand = expansion(mult = c(0, 0.1))) +\n",
    "  ggpubr::stat_compare_means(label.x = 1.2, label.y.npc = \"top\", size = 5, vjust = 0.3, label = \"p.format\") + \n",
    "      theme(plot.title = element_text(hjust = 0.5, size = 22),\n",
    "          axis.line = element_line(colour = \"black\"), \n",
    "        axis.ticks = element_line(colour = \"black\")) +\n",
    "  ylim(0,NA)+\n",
    "  plot_annotation(\n",
    "    title = paste(stringr::str_replace_all(string = colnames(Extra_All2)[i], pattern = \"/\", replacement = \"\\n\")) ,\n",
    "    theme = theme(plot.title = element_text(size = 8), plot.subtitle = element_text(size = 8)))\n",
    "\n",
    "  ggsave(paste0(\"../../../Project Diabetes Motol/FACS validation/Final_Analysis_VN/Extracellular/05_Results/R_plots/results_240328_Extra_facet/\",paste0(\"plot_\",i),\".png\"), \n",
    "         width = 25, height = 12, units = \"cm\")\n",
    "}"
   ]
  },
  {
   "cell_type": "markdown",
   "id": "63b41e4d",
   "metadata": {},
   "source": [
    "### Tables with comparison and p-values"
   ]
  },
  {
   "cell_type": "code",
   "execution_count": null,
   "id": "60ee8f8c",
   "metadata": {},
   "outputs": [],
   "source": [
    "calc_pval_fd  <- function(i){\n",
    "    df  <- Extra_All2 %>% \n",
    "    dplyr::select(1:4,138,139,140,i)\n",
    "    colnames(df_filt) <- c(colnames(df_filt[c(1:7)]), \"value\")\n",
    "    df_filt$value <- as.numeric(df_filt$value)\n",
    "    \n",
    "    ## Dia T0 vs Ctrl\n",
    "    df_filt_comp1  <- Extra_All2 %>% \n",
    "    dplyr::filter(Condition %in% c(\"1 0\", \"0 0\"))  %>% \n",
    "    mutate(Condition = ifelse(Condition == \"1 0\"), \"Dia T0\", \"Ctrl\")\n",
    "    \n",
    "    \n",
    "    ## Dia T1 vs Ctrl\n",
    "    df_filt_comp1  <- Extra_All2 %>% \n",
    "    dplyr::filter(Condition %in% c(\"1 1\", \"0 0\")) %>% \n",
    "    mutate(Condition = ifelse(Condition == \"1 1\"), \"Dia T1\", \"Ctrl\")\n",
    "    \n",
    "    ## Dia T0 vs T1\n",
    "    df_filt_comp1  <- Extra_All2 %>% \n",
    "    dplyr::filter(Condition %in% c(\"1 1\", \"1 0\")) %>% \n",
    "    mutate(Condition = ifelse(Condition == \"1 0\"), \"Dia T0\", \"Dia T1\")\n",
    "    \n",
    "    \n",
    "    \n",
    "    \n",
    "    cor  <- cor.test(df$value, df$fasting_cpept_t1)\n",
    "    res_df  <- data.frame(population = colnames(md4)[i], \n",
    "                          cor = cor$estimate, \n",
    "                          pval = cor$p.value, \n",
    "                         padj  = ifelse(cor$p.value*102>1,1,cor$p.value*102))\n",
    "    return(res_df)\n",
    "}"
   ]
  },
  {
   "cell_type": "code",
   "execution_count": null,
   "id": "bc361cd1",
   "metadata": {},
   "outputs": [],
   "source": [
    "populations_corr  <- future_map(population_colnames, calc_correlation)"
   ]
  },
  {
   "cell_type": "code",
   "execution_count": null,
   "id": "acfb8199",
   "metadata": {},
   "outputs": [],
   "source": [
    "for(i in c(5:137)){\n",
    "  \n",
    "  df_filt <- Extra_All2 %>% \n",
    "    dplyr::select(1:4,138,139,140,i)\n",
    "  colnames(df_filt) <- c(colnames(df_filt[c(1:7)]), \"value\")\n",
    "  df_filt$value <- as.numeric(df_filt$value)\n",
    "\n",
    "plot <- df_filt %>% \n",
    "  ggplot(aes(x = Condition,\n",
    "             y = value)) +\n",
    "   geom_dotplot(binaxis='y', stackdir='center', dotsize = 0) + \n",
    "   geom_boxplot(outlier.shape = NA) +\n",
    "    geom_jitter(binaxis='y', position=position_jitter(width = 0.1, height = 0.01), \n",
    "                size = 3, stackdir='center', aes(color = Condition)) + \n",
    "    facet_wrap(~Experiment) +\n",
    "  theme_classic() + xlab(\"\") +  \n",
    " xlab(\"\") + ylab(\"Value\") +\n",
    "   scale_y_continuous(expand = expansion(mult = c(0, 0.1))) +\n",
    "  ggpubr::stat_compare_means(label.x = 1.2, label.y.npc = \"top\", size = 5, vjust = 0.3, label = \"p.format\") + \n",
    "      theme(plot.title = element_text(hjust = 0.5, size = 22),\n",
    "          axis.line = element_line(colour = \"black\"), \n",
    "        axis.ticks = element_line(colour = \"black\")) +\n",
    "  ylim(0,NA)+\n",
    "  plot_annotation(\n",
    "    title = paste(stringr::str_replace_all(string = colnames(Extra_All2)[i], pattern = \"/\", replacement = \"\\n\")) ,\n",
    "    theme = theme(plot.title = element_text(size = 8), plot.subtitle = element_text(size = 8)))\n",
    "\n",
    "  ggsave(paste0(\"../../../Project Diabetes Motol/FACS validation/Final_Analysis_VN/Extracellular/05_Results/R_plots/results_240328_Extra_facet/\",paste0(\"plot_\",i),\".png\"), \n",
    "         width = 25, height = 12, units = \"cm\")\n",
    "}"
   ]
  },
  {
   "cell_type": "markdown",
   "id": "4f793e95",
   "metadata": {},
   "source": [
    "## Extracellular panel v3 240410"
   ]
  },
  {
   "cell_type": "markdown",
   "id": "285a29cc",
   "metadata": {},
   "source": [
    "### Everything together"
   ]
  },
  {
   "cell_type": "code",
   "execution_count": null,
   "id": "9e7c2038",
   "metadata": {},
   "outputs": [],
   "source": [
    "## Find files with tables from FlowJo and read their paths"
   ]
  },
  {
   "cell_type": "code",
   "execution_count": null,
   "id": "60413686",
   "metadata": {},
   "outputs": [],
   "source": [
    "extra_files  <- list.files(\"../../../Project Diabetes Motol/FACS validation/Final_Analysis_VN/Extracellular/05_Results/Tables/\",\n",
    "                          full.names = TRUE)"
   ]
  },
  {
   "cell_type": "code",
   "execution_count": null,
   "id": "07ac7d29",
   "metadata": {},
   "outputs": [],
   "source": [
    "path  <- extra_files[1]"
   ]
  },
  {
   "cell_type": "code",
   "execution_count": null,
   "id": "88bcf94c",
   "metadata": {},
   "outputs": [],
   "source": [
    "path"
   ]
  },
  {
   "cell_type": "code",
   "execution_count": null,
   "id": "43716b94",
   "metadata": {},
   "outputs": [],
   "source": [
    "high_dim2 <- t(read_xlsx(path)) "
   ]
  },
  {
   "cell_type": "code",
   "execution_count": null,
   "id": "cd5504a9",
   "metadata": {
    "scrolled": true
   },
   "outputs": [],
   "source": [
    "high_dim2 <- high_dim2 %>% as.data.frame() %>% rownames_to_column(\"sample\")"
   ]
  },
  {
   "cell_type": "code",
   "execution_count": null,
   "id": "ed0f40e9",
   "metadata": {},
   "outputs": [],
   "source": [
    "high_dim2 <- high_dim2[2:nrow(high_dim2),]"
   ]
  },
  {
   "cell_type": "code",
   "execution_count": null,
   "id": "b7b6a0f6",
   "metadata": {
    "scrolled": true
   },
   "outputs": [],
   "source": [
    "high_dim2"
   ]
  },
  {
   "cell_type": "code",
   "execution_count": null,
   "id": "5a342874",
   "metadata": {},
   "outputs": [],
   "source": [
    "colnames(high_dim2) <- c(\"population\", \"value\")"
   ]
  },
  {
   "cell_type": "code",
   "execution_count": null,
   "id": "dbda3100",
   "metadata": {},
   "outputs": [],
   "source": [
    "high_dim2$population <- sub(pattern = \"X-shift_\", \n",
    "                           replacement = \"cluster\",\n",
    "                            x = high_dim2$population)"
   ]
  },
  {
   "cell_type": "code",
   "execution_count": null,
   "id": "37f488de",
   "metadata": {
    "scrolled": true
   },
   "outputs": [],
   "source": [
    "high_dim2"
   ]
  },
  {
   "cell_type": "code",
   "execution_count": null,
   "id": "506f534b",
   "metadata": {},
   "outputs": [],
   "source": [
    "high_dim2$population <- sub(pattern = \"\\\\| Freq. of Parent\", \n",
    "                           replacement = \"\",\n",
    "                            x = high_dim2$population)"
   ]
  },
  {
   "cell_type": "code",
   "execution_count": null,
   "id": "a3adffd6",
   "metadata": {},
   "outputs": [],
   "source": [
    "high_dim3 <- high_dim2 %>% \n",
    "separate(population, into = c(\"Sample\",\"Cluster\"), \n",
    "                                  sep = \"\\\\.0\\\\/\", remove = F) "
   ]
  },
  {
   "cell_type": "code",
   "execution_count": null,
   "id": "cf25b34d",
   "metadata": {
    "scrolled": true
   },
   "outputs": [],
   "source": [
    "high_dim3"
   ]
  },
  {
   "cell_type": "code",
   "execution_count": null,
   "id": "cb448416",
   "metadata": {},
   "outputs": [],
   "source": [
    "high_dim3 <- high_dim3 %>% filter(!is.na(Cluster))\n",
    "high_dim4  <- high_dim3  %>% dplyr::select(-population)  %>% \n",
    "mutate(value = as.numeric(value))  %>% \n",
    "pivot_wider(names_from = \"Cluster\", values_from = \"value\", values_fill = 0)"
   ]
  },
  {
   "cell_type": "code",
   "execution_count": null,
   "id": "1c8fb1f0",
   "metadata": {},
   "outputs": [],
   "source": [
    "high_dim4"
   ]
  },
  {
   "cell_type": "code",
   "execution_count": null,
   "id": "c317d177",
   "metadata": {},
   "outputs": [],
   "source": [
    "high_dim4  <-  high_dim4  %>% separate(Sample, into = c(NA, \"SpecimenID\"), sep = \"_\", remove = F)\n",
    "high_dim4$SpecimenID  <- as.numeric(high_dim4$SpecimenID)\n",
    "return(high_dim4)"
   ]
  },
  {
   "cell_type": "code",
   "execution_count": null,
   "id": "06809706",
   "metadata": {},
   "outputs": [],
   "source": [
    "## Apply loading code for each of the file paths"
   ]
  },
  {
   "cell_type": "code",
   "execution_count": null,
   "id": "72160f2a",
   "metadata": {},
   "outputs": [],
   "source": [
    "process_file_facs  <- function(path) {\n",
    "    \n",
    "high_dim2 <- t(read_xlsx(path)) %>% as.data.frame() %>% rownames_to_column(\"sample\")\n",
    "high_dim2 <- high_dim2[2:nrow(high_dim2),]\n",
    "colnames(high_dim2) <- c(\"population\", \"value\")\n",
    "\n",
    "high_dim2$population <- sub(pattern = \"X-shift_\", \n",
    "                           replacement = \"cluster\",\n",
    "                            x = high_dim2$population)\n",
    "high_dim2$population <- sub(pattern = \"\\\\| Freq. of Parent\", \n",
    "                           replacement = \"\",\n",
    "                            x = high_dim2$population)\n",
    "high_dim3 <- high_dim2 %>% \n",
    "mutate()  %>% \n",
    "separate(population, into = c(\"Sample\",\"Cluster\"), \n",
    "                                  sep = \"\\\\.0\\\\/\", remove = F) \n",
    "high_dim3 <- high_dim3 %>% filter(!is.na(Cluster))\n",
    "high_dim4  <- high_dim3  %>% dplyr::select(-population)  %>% \n",
    "mutate(value = as.numeric(value))  %>% \n",
    "pivot_wider(names_from = \"Cluster\", values_from = \"value\", values_fill = 0)\n",
    "high_dim4  <-  high_dim4  %>% separate(Sample, into = c(NA, \"SpecimenID\"), sep = \"_\", remove = F)\n",
    "high_dim4$SpecimenID  <- as.numeric(high_dim4$SpecimenID)\n",
    "return(high_dim4)\n",
    "    }"
   ]
  },
  {
   "cell_type": "code",
   "execution_count": null,
   "id": "66c464bc",
   "metadata": {},
   "outputs": [],
   "source": [
    "extra_files"
   ]
  },
  {
   "cell_type": "code",
   "execution_count": null,
   "id": "c83cc3bd",
   "metadata": {},
   "outputs": [],
   "source": [
    "Extra_CD3_or_CD16  <- process_file_facs(extra_files[[1]])\n",
    "Extra_CD3  <- process_file_facs(extra_files[[2]])\n",
    "Extra_TCRgd  <- process_file_facs(extra_files[[4]])"
   ]
  },
  {
   "cell_type": "code",
   "execution_count": null,
   "id": "4cd1fd1d",
   "metadata": {},
   "outputs": [],
   "source": [
    "Extra_CD3$SpecimenID  <- substr(Extra_CD3$Sample,11,13)"
   ]
  },
  {
   "cell_type": "code",
   "execution_count": null,
   "id": "d4335529",
   "metadata": {},
   "outputs": [],
   "source": [
    "Extra_TCRgd"
   ]
  },
  {
   "cell_type": "code",
   "execution_count": null,
   "id": "18867419",
   "metadata": {},
   "outputs": [],
   "source": [
    "Extra_CD3$Sample  <- NULL\n",
    "Extra_CD3_or_CD16$Sample  <- NULL\n",
    "Extra_TCRgd$Sample <- NULL"
   ]
  },
  {
   "cell_type": "code",
   "execution_count": null,
   "id": "5e1f57be",
   "metadata": {
    "scrolled": true
   },
   "outputs": [],
   "source": [
    "Extra_TCRgd"
   ]
  },
  {
   "cell_type": "code",
   "execution_count": null,
   "id": "2005ae13",
   "metadata": {},
   "outputs": [],
   "source": [
    "Extra_CD3$SpecimenID  <- as.numeric(Extra_CD3$SpecimenID)\n",
    "Extra_CD3_or_CD16$SpecimenID  <- as.numeric(Extra_CD3_or_CD16$SpecimenID)\n",
    "Extra_TCRgd$SpecimenID <- as.numeric(Extra_TCRgd$SpecimenID)"
   ]
  },
  {
   "cell_type": "code",
   "execution_count": null,
   "id": "191b33d4",
   "metadata": {},
   "outputs": [],
   "source": [
    "Extra_All  <- left_join(Extra_CD3, Extra_CD3_or_CD16)\n",
    "Extra_All  <- left_join(Extra_All, Extra_TCRgd)"
   ]
  },
  {
   "cell_type": "code",
   "execution_count": null,
   "id": "692611dc",
   "metadata": {
    "scrolled": true
   },
   "outputs": [],
   "source": [
    "Extra_All  %>% nrow"
   ]
  },
  {
   "cell_type": "code",
   "execution_count": null,
   "id": "59808048",
   "metadata": {},
   "outputs": [],
   "source": []
  },
  {
   "cell_type": "code",
   "execution_count": null,
   "id": "691bcdde",
   "metadata": {},
   "outputs": [],
   "source": [
    "extra_gating  <- read_xlsx(\"../../../Project Diabetes Motol/FACS validation/Final_Analysis_VN/Extracellular/05_Results/Tables/240411_Extra_Gating.xlsx\")"
   ]
  },
  {
   "cell_type": "code",
   "execution_count": null,
   "id": "63b5c4c1",
   "metadata": {
    "scrolled": true
   },
   "outputs": [],
   "source": [
    "Extra_All2  <- cbind(extra_gating, Extra_All)"
   ]
  },
  {
   "cell_type": "code",
   "execution_count": null,
   "id": "423dd0f3",
   "metadata": {},
   "outputs": [],
   "source": [
    "Extra_All2$Condition  <- paste(Extra_All2$Disease, Extra_All2$TimePoint)"
   ]
  },
  {
   "cell_type": "code",
   "execution_count": null,
   "id": "1c43e73a",
   "metadata": {},
   "outputs": [],
   "source": [
    "Extra_All2  %>% ncol"
   ]
  },
  {
   "cell_type": "code",
   "execution_count": null,
   "id": "fe761bd2",
   "metadata": {},
   "outputs": [],
   "source": [
    "colnames(Extra_All2)[57]"
   ]
  },
  {
   "cell_type": "code",
   "execution_count": null,
   "id": "89cb2d57",
   "metadata": {
    "scrolled": true
   },
   "outputs": [],
   "source": [
    "for(i in c(6:67,69:132)){\n",
    "  print(i)\n",
    "  df_filt <- Extra_All2 %>% \n",
    "    dplyr::select(1:5,133,,i)\n",
    "  colnames(df_filt) <- c(colnames(df_filt[c(1:6)]), \"value\")\n",
    "  df_filt$value <- as.numeric(df_filt$value)\n",
    "\n",
    "plot <- df_filt %>% \n",
    "  ggplot(aes(x = Condition,\n",
    "             y = value)) +\n",
    "   geom_dotplot(binaxis='y', stackdir='center', dotsize = 0) + \n",
    "   geom_boxplot(outlier.shape = NA) +\n",
    "    geom_jitter(binaxis='y', position=position_jitter(width = 0.1, height = 0.01), \n",
    "                size = 3, stackdir='center', aes(color = Condition)) + \n",
    "  theme_classic() + xlab(\"\") +  \n",
    " xlab(\"\") + ylab(\"Value\") +\n",
    "   scale_y_continuous(expand = expansion(mult = c(0, 0.1))) +\n",
    "  ggpubr::stat_compare_means(label.x = 1.2, label.y.npc = \"top\", size = 5, vjust = 0.3, label = \"p.format\") + \n",
    "      theme(plot.title = element_text(hjust = 0.5, size = 22),\n",
    "          axis.line = element_line(colour = \"black\"), \n",
    "        axis.ticks = element_line(colour = \"black\")) +\n",
    "  ylim(0,NA)+\n",
    "  plot_annotation(\n",
    "    title = paste(stringr::str_replace_all(string = colnames(Extra_All2)[i], pattern = \"/\", replacement = \"\\n\")) ,\n",
    "    theme = theme(plot.title = element_text(size = 8), plot.subtitle = element_text(size = 8)))\n",
    "\n",
    "  ggsave(paste0(\"../../../Project Diabetes Motol/FACS validation/Final_Analysis_VN/Extracellular/05_Results/R_plots/results_240411_Extra/\",paste0(\"plot_\",i),\".png\"), \n",
    "         width = 15, height = 12, units = \"cm\")\n",
    "}\n"
   ]
  },
  {
   "cell_type": "code",
   "execution_count": null,
   "id": "eb038424",
   "metadata": {},
   "outputs": [],
   "source": [
    "for(i in c(6:67,69:132)){\n",
    "  print(i)\n",
    "  df_filt <- Extra_All2 %>% \n",
    "    dplyr::select(1:5,133,,i)\n",
    "  colnames(df_filt) <- c(colnames(df_filt[c(1:6)]), \"value\")\n",
    "  df_filt$value <- as.numeric(df_filt$value)\n",
    "\n",
    "plot <- df_filt %>% \n",
    "  ggplot(aes(x = Condition,\n",
    "             y = value)) +\n",
    "geom_violin(alpha = 0.3, aes(fill = Condition), scale = \"width\") + \n",
    "stat_summary(fun = \"median\",\n",
    "               geom = \"crossbar\", \n",
    "               width = 0.75,\n",
    "               color = \"grey30\") +\n",
    "geom_beeswarm(size = 3, aes(fill = Condition), cex = 3, \n",
    "                shape = 21, color = \"black\", corral = \"random\") +\n",
    " stat_compare_means(label = \"p.format\")+\n",
    "scale_fill_manual(values = c(\"#1874cdff\",  \"#ee6363ff\", \"#c41515ff\",\"#eeb4b4ff\")) +\n",
    "scale_color_manual(values = c(\"dodgerblue3\",  \"#e54c4cff\", \"#aa2a2aff\",\"#e88989ff\")) +\n",
    "ylab(\"\") +\n",
    "  xlab(\"\") +\n",
    "  ylim(0,NA) +\n",
    "  theme_classic() +\n",
    "theme(strip.background = element_blank(), panel.grid = element_blank()) + \n",
    "  theme(axis.text = element_text(color = \"black\"),\n",
    "        axis.text.x = element_text(angle = 90),\n",
    "       axis.line = element_line(color = \"black\", size = 0.5),\n",
    "        axis.ticks.x = element_blank()) +\n",
    "  ylim(0,NA)+\n",
    "  plot_annotation(\n",
    "    title = paste(stringr::str_replace_all(string = colnames(Extra_All2)[i], pattern = \"/\", replacement = \"\\n\")) ,\n",
    "    theme = theme(plot.title = element_text(size = 8), \n",
    "                  plot.subtitle = element_text(size = 8),\n",
    "                 axis.text.x = element_blank())) + ggtheme() + NoLegend()\n",
    "    \n",
    "  ggsave(paste0(\"../../../Project Diabetes Motol/FACS validation/Final_Analysis_VN/Extracellular/05_Results/R_plots/results_240411_Extra_figure/\",paste0(\"plot_\",i),\".png\"), \n",
    "         width = 7.5, height = 10, units = \"cm\")\n",
    "    ggsave(paste0(\"../../../Project Diabetes Motol/FACS validation/Final_Analysis_VN/Extracellular/05_Results/R_plots/results_240411_Extra_figure/\",paste0(\"plot_\",i),\".svg\"), \n",
    "         width = 7.5, height = 10, units = \"cm\")\n",
    "}\n"
   ]
  },
  {
   "cell_type": "markdown",
   "id": "e524ae69",
   "metadata": {},
   "source": [
    "### Clustering heatmap"
   ]
  },
  {
   "cell_type": "code",
   "execution_count": null,
   "id": "60ae3094",
   "metadata": {},
   "outputs": [],
   "source": [
    "hm  <- read_xlsx(\"../../../Project Diabetes Motol/FACS validation/Final_Analysis_VN/Extracellular/05_Results/Tables/240411_Extra_CLustering_Heatmap.xlsx\")"
   ]
  },
  {
   "cell_type": "code",
   "execution_count": null,
   "id": "851fa061",
   "metadata": {},
   "outputs": [],
   "source": [
    "hm   <- hm  %>% column_to_rownames(\"Cluster\")  %>% as.matrix"
   ]
  },
  {
   "cell_type": "code",
   "execution_count": null,
   "id": "882cc427",
   "metadata": {},
   "outputs": [],
   "source": [
    "library(pheatmap)\n",
    "\n",
    "options(repr.plot.width = 3.2, repr.plot.height = 3)\n",
    "pheatmap(hm[,c(1,7,8,9,3,6,12,11,2,4)], main = \"\", scale = \"column\", cluster_cols = F, cluster_rows = T,\n",
    "        color=colorRampPalette(c(\"dodgerblue\", \"grey95\", \"indianred2\"))(50), \n",
    "         border_color = \"white\",\n",
    "                  fontsize = 9)"
   ]
  },
  {
   "cell_type": "markdown",
   "id": "bfa3844a",
   "metadata": {},
   "source": [
    "# Extra v06"
   ]
  },
  {
   "cell_type": "code",
   "execution_count": null,
   "id": "7ebbe5c7",
   "metadata": {},
   "outputs": [],
   "source": [
    "extra_gating  <- read_xlsx(\"../../../Project Diabetes Motol/FACS validation/Final_Analysis_VN/Extracellular/05_Results/Tables/240411_Extra_Gating.xlsx\")"
   ]
  },
  {
   "cell_type": "code",
   "execution_count": null,
   "id": "627af8f0",
   "metadata": {},
   "outputs": [],
   "source": [
    "extra_gating"
   ]
  },
  {
   "cell_type": "code",
   "execution_count": null,
   "id": "a19f9a90",
   "metadata": {},
   "outputs": [],
   "source": [
    "extra_gating  %>% ncol"
   ]
  },
  {
   "cell_type": "code",
   "execution_count": null,
   "id": "e1dc1238",
   "metadata": {},
   "outputs": [],
   "source": [
    "extra_gating$Condition  <- paste(extra_gating$Disease, extra_gating$TimePoint)"
   ]
  },
  {
   "cell_type": "code",
   "execution_count": null,
   "id": "c337c2f2",
   "metadata": {},
   "outputs": [],
   "source": [
    "dir.create(\"../../../Project Diabetes Motol/FACS validation/Final_Analysis_VN/Extracellular/05_Results/R_plots/240603_v06/\")"
   ]
  },
  {
   "cell_type": "code",
   "execution_count": null,
   "id": "2cc895e5",
   "metadata": {},
   "outputs": [],
   "source": [
    "  df_filt <- extra_gating %>% \n",
    "    filter(Condition != \"0 0\")   %>% \n",
    "    dplyr::select(4,5,7) \n",
    "  colnames(df_filt) <- c(colnames(df_filt[c(1:2)]), \"value\")\n",
    "  df_filt$value <- as.numeric(df_filt$value)\n",
    "df_filt <- df_filt  %>% pivot_wider(names_from = TimePoint, values_from = value) \n",
    "colnames(df_filt)  <- c(\"Patient_ID\",\"Time1\",\"Time0\")\n",
    " df_filt <- df_filt %>% dplyr::filter(!is.na(Time1)&(!is.na(Time0)))"
   ]
  },
  {
   "cell_type": "code",
   "execution_count": null,
   "id": "ff263e29",
   "metadata": {},
   "outputs": [],
   "source": [
    "df_filt "
   ]
  },
  {
   "cell_type": "code",
   "execution_count": null,
   "id": "b472e204",
   "metadata": {},
   "outputs": [],
   "source": [
    "extra_gating %>%\n",
    "  dplyr::group_by(Patient_ID, TimePoint) %>%\n",
    "  dplyr::summarise(n = dplyr::n(), .groups = \"drop\") %>%\n",
    "  dplyr::filter(n > 1L)"
   ]
  },
  {
   "cell_type": "code",
   "execution_count": null,
   "id": "f0bdb3ca",
   "metadata": {
    "scrolled": true
   },
   "outputs": [],
   "source": [
    "extra_gating %>% \n",
    "\n",
    "    dplyr::select(1:5,68,7, -Condition)  %>% \n",
    "    filter(Condition != \"0 0\")   %>% \n",
    "pivot_wider(names_from = TimePoint, values_from = )"
   ]
  },
  {
   "cell_type": "code",
   "execution_count": null,
   "id": "4900e2d3",
   "metadata": {},
   "outputs": [],
   "source": [
    "for(i in c(6:67)){\n",
    "  print(i)\n",
    "  df_filt <- extra_gating %>% \n",
    "    dplyr::select(1:5,68,i)\n",
    "  colnames(df_filt) <- c(colnames(df_filt[c(1:6)]), \"value\")\n",
    "  df_filt$value <- as.numeric(df_filt$value)\n",
    "\n",
    "plot <- df_filt %>% \n",
    "  ggplot(aes(x = Condition,\n",
    "             y = value)) +\n",
    "geom_violin(alpha = 0.3, aes(fill = Condition), scale = \"width\") + \n",
    "stat_summary(fun = \"median\",\n",
    "               geom = \"crossbar\", \n",
    "               width = 0.75,\n",
    "               color = \"grey30\") +\n",
    "geom_beeswarm(size = 3, aes(fill = Condition), cex = 3, \n",
    "                shape = 21, color = \"black\", corral = \"random\") +\n",
    "ggpubr::stat_compare_means(label.x = 1.2, label.y.npc = \"top\", comparisons = list(c(1,2)), \n",
    "                           size = 5, vjust = 0.3, label = \"p.format\") +\n",
    "    scale_fill_manual(values = c(\"#1874cdff\",  \"#ee6363ff\", \"#c41515ff\",\"#eeb4b4ff\")) +\n",
    "scale_color_manual(values = c(\"dodgerblue3\",  \"#e54c4cff\", \"#aa2a2aff\",\"#e88989ff\")) +\n",
    "ylab(\"\") +\n",
    "  xlab(\"\") +\n",
    "  ylim(0,NA) +\n",
    "  theme_classic() +\n",
    "theme(strip.background = element_blank(), panel.grid = element_blank()) + \n",
    "  theme(axis.text = element_text(color = \"black\"),\n",
    "        axis.text.x = element_text(angle = 90),\n",
    "       axis.line = element_line(color = \"black\", size = 0.5),\n",
    "        axis.ticks.x = element_blank()) +\n",
    "  ylim(0,NA)+\n",
    "  plot_annotation(\n",
    "    title = paste(stringr::str_replace_all(string = colnames(extra_gating)[i], pattern = \"/\", replacement = \"\\n\")) ,\n",
    "    theme = theme(plot.title = element_text(size = 8), \n",
    "                  plot.subtitle = element_text(size = 8),\n",
    "                 axis.text.x = element_blank())) + ggtheme() + NoLegend()\n",
    "    \n",
    "      df_filt <- extra_gating %>% \n",
    "    filter(Condition != \"0 0\")   %>% \n",
    "    dplyr::select(4,5,i) \n",
    "  colnames(df_filt) <- c(colnames(df_filt[c(1:2)]), \"value\")\n",
    "  df_filt$value <- as.numeric(df_filt$value)\n",
    "df_filt <- df_filt  %>% pivot_wider(names_from = TimePoint, values_from = value) \n",
    "colnames(df_filt)  <- c(\"Patient_ID\",\"Time1\",\"Time0\")\n",
    " df_filt <- df_filt %>% dplyr::filter(!is.na(Time1)&(!is.na(Time0)))\n",
    "    df_filt <- df_filt  %>% pivot_longer(!Patient_ID, names_to = \"TimePoint\", values_to = \"value\")\n",
    "    \n",
    "plot2 <- df_filt  %>% \n",
    "  ggplot(aes(x = TimePoint,\n",
    "             y = value)) +\n",
    "geom_violin(alpha = 0.3, scale = \"width\") + \n",
    "stat_summary(fun = \"median\",\n",
    "               geom = \"crossbar\", \n",
    "               width = 0.75,\n",
    "               color = \"grey30\") +\n",
    "geom_beeswarm(size = 3, cex = 3, \n",
    "                shape = 21, color = \"black\", corral = \"random\") +\n",
    "ggpubr::stat_compare_means(label.x = 1.2, label.y.npc = \"top\", paired = TRUE, \n",
    "                           size = 5, vjust = 0.3, label = \"p.format\") +\n",
    "scale_fill_manual(values = c(\"#ee6363ff\", \"#c41515ff\",\"#eeb4b4ff\")) +\n",
    "scale_color_manual(values = c(\"#e54c4cff\", \"#aa2a2aff\",\"#e88989ff\")) +\n",
    "ylab(\"\") +\n",
    "  xlab(\"\") +\n",
    "  ylim(0,NA) +\n",
    "  theme_classic() +\n",
    "theme(strip.background = element_blank(), panel.grid = element_blank()) + \n",
    "  theme(axis.text = element_text(color = \"black\"),\n",
    "        axis.text.x = element_text(angle = 90),\n",
    "       axis.line = element_line(color = \"black\", size = 0.5),\n",
    "        axis.ticks.x = element_blank()) +\n",
    "  ylim(0,NA)+\n",
    "  plot_annotation(\n",
    "    title = paste(stringr::str_replace_all(string = colnames(extra_gating)[i], pattern = \"/\", replacement = \"\\n\")) ,\n",
    "    theme = theme(plot.title = element_text(size = 8), \n",
    "                  plot.subtitle = element_text(size = 8),\n",
    "                 axis.text.x = element_blank())) + ggtheme() + NoLegend()\n",
    "\n",
    "    plot  <- plot + plot2\n",
    "    plot\n",
    "  ggsave(create.dir = TRUE, paste0(\"../../../Project Diabetes Motol/FACS validation/Final_Analysis_VN/Extracellular/05_Results/R_plots/240603_v06/\",paste0(\"plot_\",i),\".png\"), \n",
    "         width = 13, height = 10, units = \"cm\")\n",
    "    ggsave(create.dir = TRUE, paste0(\"../../../Project Diabetes Motol/FACS validation/Final_Analysis_VN/Extracellular/05_Results/R_plots/240603_v06/\",paste0(\"plot_\",i),\".svg\"), \n",
    "         width = 13, height = 10, units = \"cm\")\n",
    "}\n"
   ]
  },
  {
   "cell_type": "markdown",
   "id": "c0a3163a",
   "metadata": {},
   "source": [
    "## Correlation of populations"
   ]
  },
  {
   "cell_type": "code",
   "execution_count": null,
   "id": "20a4b963",
   "metadata": {},
   "outputs": [],
   "source": []
  },
  {
   "cell_type": "code",
   "execution_count": null,
   "id": "79bcc085",
   "metadata": {},
   "outputs": [],
   "source": [
    "extra_gating  <- read_xlsx(\"../../../Project Diabetes Motol/FACS validation/Final_Analysis_VN/Extracellular/05_Results/Tables/240411_Extra_Gating.xlsx\")"
   ]
  },
  {
   "cell_type": "code",
   "execution_count": null,
   "id": "487a82e3",
   "metadata": {
    "scrolled": true
   },
   "outputs": [],
   "source": [
    "colnames(Extra_All2)"
   ]
  },
  {
   "cell_type": "code",
   "execution_count": null,
   "id": "d7b92094",
   "metadata": {},
   "outputs": [],
   "source": [
    "facs_clusters  <- Extra_All2  %>% dplyr::select(1:5,which(grepl(colnames(Extra_All2), pattern = \"cf96\")))"
   ]
  },
  {
   "cell_type": "code",
   "execution_count": null,
   "id": "87f93a0a",
   "metadata": {},
   "outputs": [],
   "source": [
    "populations_2  <- read_csv(\"../tables/populations_2.csv\")\n",
    "\n",
    "populations_2$`...1`  <- NULL\n",
    "\n",
    "\n",
    "\n",
    "populations_2$prelim_final  <- ifelse(populations_2$Experiment_ID %in% c(\"Exp08\",\"Exp10\",\"Exp11\"), \n",
    "                                     \"Prelim\",\"Final\")"
   ]
  },
  {
   "cell_type": "code",
   "execution_count": null,
   "id": "af5ffa2b",
   "metadata": {},
   "outputs": [],
   "source": [
    "populations_3  <- populations_2  %>% filter(Level == \"L2\" & \n",
    "                                            annotations != \"CD8 NK cells---NK cells\" &\n",
    "                                            annotations != \"CD8 Unconventional T cells---MAIT cells\"\n",
    "                                            )  %>% \n",
    "mutate(annotations_facs = case_when(\n",
    "        annotations %in% c(\"CD4 T cells---ISAGhi\",\n",
    "                           \"CD4 T cells---Naive\",\n",
    "                           \"CD4 T cells---Nfkb\") ~ \"CD4 Naive\",\n",
    "        annotations %in% c(\"CD4 T cells---Th1Th17\",\n",
    "                           \"CD4 T cells---Th2\",\n",
    "                           \"CD4 T cells---Temra\",\n",
    "                           \"CD4 T cells---Proliferating\",\n",
    "                          \"CD4 Unconventional T cells---Unconventional\") ~ \"CD4 Effector\",\n",
    "    \n",
    "        annotations %in% c(\"CD4 T cells---Tfh\") ~ \"CD4 Tfh\",\n",
    "        annotations %in% c(\"CD4 T cells---Treg\") ~ \"CD4 Treg\",\n",
    "        annotations %in% c(\"CD8 T cells---Naive\") ~ \"CD8 Naive\",\n",
    "        annotations %in% c(\"CD8 T cells---Tcm\") ~ \"CD8 Tcm\",\n",
    "    annotations %in% c(\"CD8 T cells---Tem\", \"CD8 T cells---Temra\") ~ \"CD8 Tem\",\n",
    "    annotations %in% c(\"CD8 T cells---Proliferating\") ~ \"CD8 Effector\",\n",
    "    annotations %in% c(\"CD8 Unconventional T cells---gd T cells\") ~ \"CD8 gdT\"\n",
    "    \n",
    "    \n",
    "        ))"
   ]
  },
  {
   "cell_type": "code",
   "execution_count": null,
   "id": "d0639334",
   "metadata": {},
   "outputs": [],
   "source": [
    "table(is.na(populations_3$annotations_facs))"
   ]
  },
  {
   "cell_type": "code",
   "execution_count": null,
   "id": "38e139c5",
   "metadata": {
    "scrolled": true
   },
   "outputs": [],
   "source": [
    "populations_4  <- populations_3  %>% group_by(Patient_ID, Time, prelim_final, annotations_facs)  %>% \n",
    "summarise(sum_population = sum(n))  %>% ungroup  %>% \n",
    "group_by(Patient_ID, Time, prelim_final)  %>% \n",
    "summarise(freq = sum_population/sum(sum_population), annotation_facs = annotations_facs)  %>% \n",
    "ungroup  %>% \n",
    "group_by(Patient_ID, Time, prelim_final)"
   ]
  },
  {
   "cell_type": "code",
   "execution_count": null,
   "id": "27761ad4",
   "metadata": {
    "scrolled": true
   },
   "outputs": [],
   "source": [
    "populations_4$freq_scRNAseq = populations_4$freq"
   ]
  },
  {
   "cell_type": "code",
   "execution_count": null,
   "id": "b7e9ba78",
   "metadata": {
    "scrolled": true
   },
   "outputs": [],
   "source": [
    "populations_4"
   ]
  },
  {
   "cell_type": "code",
   "execution_count": null,
   "id": "b68bffb7",
   "metadata": {},
   "outputs": [],
   "source": [
    "facs_clusters"
   ]
  },
  {
   "cell_type": "code",
   "execution_count": null,
   "id": "fdebe074",
   "metadata": {},
   "outputs": [],
   "source": [
    "facs_clusters2  <- facs_clusters  %>% pivot_longer(cols = starts_with(\"cluster\"), \n",
    "                                                   names_to = \"annotation_cluster\",\n",
    "                                                  values_to = \"freq_facs\")  %>% \n",
    "dplyr::select(-1, -2)  "
   ]
  },
  {
   "cell_type": "code",
   "execution_count": null,
   "id": "abd5f3cd",
   "metadata": {
    "scrolled": true
   },
   "outputs": [],
   "source": [
    "facs_clusters2"
   ]
  },
  {
   "cell_type": "code",
   "execution_count": null,
   "id": "58437b43",
   "metadata": {},
   "outputs": [],
   "source": [
    "populations_4$annotation_facs  %>% table"
   ]
  },
  {
   "cell_type": "code",
   "execution_count": null,
   "id": "657cb8ea",
   "metadata": {},
   "outputs": [],
   "source": [
    "facs_clusters3  <- facs_clusters2  %>% \n",
    "mutate(annotation_cluster = as.factor(annotation_cluster))  %>% \n",
    "mutate(Time = paste0(\"T\",TimePoint),\n",
    "    annotation_facs = forcats::fct_recode(annotation_cluster,\n",
    "                                   \"CD4 Tfh\" = \"clusterAngu_K75_cf96d2_1 \",\n",
    "                                    \"CD8 gdT\" = \"clusterAngu_K75_cf96d2_2 \",\n",
    "                                    \"CD4 Treg\" = \"clusterAngu_K75_cf96d2_3 \",\n",
    "                                    \"CD4 Naive\" = \"clusterAngu_K75_cf96d2_4 \",\n",
    "                                    \"CD8 gdT\" = \"clusterAngu_K75_cf96d2_5 \",\n",
    "                                    \"CD8 gdT\" = \"clusterAngu_K75_cf96d2_6 \",\n",
    "                                    \"CD8 Tcm\" = \"clusterAngu_K75_cf96d2_7 \",\n",
    "                                    \"CD8 Effector\" = \"clusterAngu_K75_cf96d2_8 \",\n",
    "                                    \"CD4 Tfh\" = \"clusterAngu_K75_cf96d2_9 \",\n",
    "                                   \"CD8 Effector\" = \"clusterAngu_K75_cf96d2_10 \",\n",
    "                                    \"CD4 Effector\" = \"clusterAngu_K75_cf96d2_11 \",\n",
    "                                    \"CD8 Tem\" = \"clusterAngu_K75_cf96d2_12 \",\n",
    "                                    \"CD8 Naive\" = \"clusterAngu_K75_cf96d2_13 \"\n",
    "                                   )\n",
    ")  %>% dplyr::select(-3, -4)"
   ]
  },
  {
   "cell_type": "code",
   "execution_count": null,
   "id": "d93f7f13",
   "metadata": {
    "scrolled": true
   },
   "outputs": [],
   "source": [
    "facs_clusters3"
   ]
  },
  {
   "cell_type": "code",
   "execution_count": null,
   "id": "da893f0d",
   "metadata": {
    "scrolled": true
   },
   "outputs": [],
   "source": [
    "facs_clusters4  <- facs_clusters3  %>% \n",
    "group_by(annotation_facs, Patient_ID, Time)  %>% \n",
    "summarise(freq_facs = sum(freq_facs), Patient_ID, Time, annotation_facs)   %>% \n",
    "unique"
   ]
  },
  {
   "cell_type": "code",
   "execution_count": null,
   "id": "0860e39f",
   "metadata": {
    "scrolled": true
   },
   "outputs": [],
   "source": [
    "facs_clusters4"
   ]
  },
  {
   "cell_type": "code",
   "execution_count": null,
   "id": "870db28a",
   "metadata": {},
   "outputs": [],
   "source": [
    "facs_and_sc  <- left_join(populations_4, facs_clusters4)"
   ]
  },
  {
   "cell_type": "code",
   "execution_count": null,
   "id": "8c39c375",
   "metadata": {
    "scrolled": true
   },
   "outputs": [],
   "source": [
    "facs_and_sc  %>% dplyr::filter(is.na(freq_facs))"
   ]
  },
  {
   "cell_type": "code",
   "execution_count": null,
   "id": "45b75125",
   "metadata": {},
   "outputs": [],
   "source": []
  },
  {
   "cell_type": "code",
   "execution_count": null,
   "id": "aba81af4",
   "metadata": {},
   "outputs": [],
   "source": [
    "options(repr.plot.width= 20, repr.plot.height = 15)\n",
    "facs_and_sc %>% \n",
    "dplyr::filter(!is.na(freq_facs))  %>% \n",
    "ggplot(aes(x=freq_facs, y=freq_scRNAseq)) +\n",
    "  geom_point(shape = 16, alpha = 1, size = 2, aes(color = as.factor(annotation_facs))) +\n",
    " geom_smooth(method=lm) + theme(legend.position = \"bottom\") + \n",
    "ggpubr::stat_cor()"
   ]
  },
  {
   "cell_type": "code",
   "execution_count": null,
   "id": "1eb6b0e4",
   "metadata": {},
   "outputs": [],
   "source": [
    "facs_and_sc %>% \n",
    "dplyr::filter(!is.na(freq_facs))  %>% \n",
    "ggplot(aes(x=freq_facs, y=freq_scRNAseq)) +\n",
    "facet_wrap(~annotation_facs, ncol = 4, scales = \"free\")+\n",
    "#  geom_point(shape = 16, alpha = 1, size = 2, aes(color = as.factor(annotations))) +\n",
    " geom_smooth(method=lm, alpha = 0.2) + theme(legend.position = \"bottom\") + \n",
    "ggpubr::stat_cor(size = 5) +\n",
    "theme(axis.text.x = element_text(angle = 90)) + \n",
    "geom_point(size=3,                                aes(fill = as.factor(annotation_facs),\n",
    "                                                          shape = as.factor(annotation_facs))) + \n",
    "scale_shape_manual(values = c(21:25,21:25,21:25,21:25)) +\n",
    "theme_classic() +\n",
    "ggtheme() + NoLegend()"
   ]
  },
  {
   "cell_type": "markdown",
   "id": "5d740108",
   "metadata": {},
   "source": [
    "### Separated Experiments"
   ]
  },
  {
   "cell_type": "code",
   "execution_count": null,
   "id": "9c23c4e0",
   "metadata": {},
   "outputs": [],
   "source": [
    "samples  <- read_xlsx(\"../../../Project Diabetes Motol/FACS validation/240229 Analysis/Diabetes3/table_of_samples.xlsx\")"
   ]
  },
  {
   "cell_type": "code",
   "execution_count": null,
   "id": "7a10000e",
   "metadata": {},
   "outputs": [],
   "source": [
    "Extra_All2$Sample_ID  <- ifelse(Extra_All2$TimePoint == 1, paste0(Extra_All2$Patient_ID,\"b\"),Extra_All2$Patient_ID)"
   ]
  },
  {
   "cell_type": "code",
   "execution_count": null,
   "id": "e50b7236",
   "metadata": {
    "scrolled": true
   },
   "outputs": [],
   "source": [
    "Extra_All2$Sample_ID"
   ]
  },
  {
   "cell_type": "code",
   "execution_count": null,
   "id": "55f97865",
   "metadata": {},
   "outputs": [],
   "source": [
    "colnames(samples)[2]  <- \"Sample_ID\""
   ]
  },
  {
   "cell_type": "code",
   "execution_count": null,
   "id": "86ac7873",
   "metadata": {
    "scrolled": true
   },
   "outputs": [],
   "source": [
    "samples"
   ]
  },
  {
   "cell_type": "code",
   "execution_count": null,
   "id": "878f862e",
   "metadata": {},
   "outputs": [],
   "source": [
    "Extra_All2  <- left_join(Extra_All2, samples)"
   ]
  },
  {
   "cell_type": "code",
   "execution_count": null,
   "id": "00b74970",
   "metadata": {
    "scrolled": true
   },
   "outputs": [],
   "source": [
    "Extra_All2"
   ]
  },
  {
   "cell_type": "code",
   "execution_count": null,
   "id": "442bc6a6",
   "metadata": {},
   "outputs": [],
   "source": [
    "Extra_All2$Experiment  <- ifelse(is.na(Extra_All2$Experiment), \"Run1\", Extra_All2$Experiment)"
   ]
  },
  {
   "cell_type": "code",
   "execution_count": null,
   "id": "66a5f96e",
   "metadata": {},
   "outputs": [],
   "source": []
  },
  {
   "cell_type": "code",
   "execution_count": null,
   "id": "59d5ee4a",
   "metadata": {},
   "outputs": [],
   "source": [
    "for(i in c(6:120)){\n",
    "  \n",
    "  df_filt <- Extra_All2 %>% \n",
    "    dplyr::select(1:5,121,,i)\n",
    "  colnames(df_filt) <- c(colnames(df_filt[c(1:6)]), \"value\")\n",
    "  df_filt$value <- as.numeric(df_filt$value)\n",
    "\n",
    "plot <- df_filt %>% \n",
    "  ggplot(aes(x = Condition,\n",
    "             y = value)) +\n",
    "   geom_dotplot(binaxis='y', stackdir='center', dotsize = 0) + \n",
    "   geom_boxplot(outlier.shape = NA) +\n",
    "    geom_jitter(binaxis='y', position=position_jitter(width = 0.1, height = 0.01), \n",
    "                size = 3, stackdir='center', aes(color = Condition)) + \n",
    "    facet_wrap(~Experiment) +\n",
    "  theme_classic() + xlab(\"\") +  \n",
    " xlab(\"\") + ylab(\"Value\") +\n",
    "   scale_y_continuous(expand = expansion(mult = c(0, 0.1))) +\n",
    "  ggpubr::stat_compare_means(label.x = 1.2, label.y.npc = \"top\", size = 5, vjust = 0.3, label = \"p.format\") + \n",
    "      theme(plot.title = element_text(hjust = 0.5, size = 22),\n",
    "          axis.line = element_line(colour = \"black\"), \n",
    "        axis.ticks = element_line(colour = \"black\")) +\n",
    "  ylim(0,NA)+\n",
    "  plot_annotation(\n",
    "    title = paste(stringr::str_replace_all(string = colnames(Extra_All2)[i], pattern = \"/\", replacement = \"\\n\")) ,\n",
    "    theme = theme(plot.title = element_text(size = 8), plot.subtitle = element_text(size = 8)))\n",
    "\n",
    "  ggsave(paste0(\"../../../Project Diabetes Motol/FACS validation/Final_Analysis_VN/Extracellular/05_Results/R_plots/results_240410_Extra_facet/\",paste0(\"plot_\",i),\".png\"), \n",
    "         width = 25, height = 12, units = \"cm\")\n",
    "}"
   ]
  },
  {
   "cell_type": "markdown",
   "id": "0aae1ce0",
   "metadata": {},
   "source": [
    "### Tables with comparison and p-values"
   ]
  },
  {
   "cell_type": "code",
   "execution_count": null,
   "id": "8c65e42b",
   "metadata": {},
   "outputs": [],
   "source": [
    "calc_pval_fd  <- function(i){\n",
    "    df  <- Extra_All2 %>% \n",
    "    dplyr::select(1:4,138,139,140,i)\n",
    "    colnames(df_filt) <- c(colnames(df_filt[c(1:7)]), \"value\")\n",
    "    df_filt$value <- as.numeric(df_filt$value)\n",
    "    \n",
    "    ## Dia T0 vs Ctrl\n",
    "    df_filt_comp1  <- Extra_All2 %>% \n",
    "    dplyr::filter(Condition %in% c(\"1 0\", \"0 0\"))  %>% \n",
    "    mutate(Condition = ifelse(Condition == \"1 0\"), \"Dia T0\", \"Ctrl\")\n",
    "    \n",
    "    \n",
    "    ## Dia T1 vs Ctrl\n",
    "    df_filt_comp1  <- Extra_All2 %>% \n",
    "    dplyr::filter(Condition %in% c(\"1 1\", \"0 0\")) %>% \n",
    "    mutate(Condition = ifelse(Condition == \"1 1\"), \"Dia T1\", \"Ctrl\")\n",
    "    \n",
    "    ## Dia T0 vs T1\n",
    "    df_filt_comp1  <- Extra_All2 %>% \n",
    "    dplyr::filter(Condition %in% c(\"1 1\", \"1 0\")) %>% \n",
    "    mutate(Condition = ifelse(Condition == \"1 0\"), \"Dia T0\", \"Dia T1\")\n",
    "    \n",
    "    \n",
    "    \n",
    "    \n",
    "    cor  <- cor.test(df$value, df$fasting_cpept_t1)\n",
    "    res_df  <- data.frame(population = colnames(md4)[i], \n",
    "                          cor = cor$estimate, \n",
    "                          pval = cor$p.value, \n",
    "                         padj  = ifelse(cor$p.value*102>1,1,cor$p.value*102))\n",
    "    return(res_df)\n",
    "}"
   ]
  },
  {
   "cell_type": "code",
   "execution_count": null,
   "id": "de0f58da",
   "metadata": {},
   "outputs": [],
   "source": [
    "populations_corr  <- future_map(population_colnames, calc_correlation)"
   ]
  },
  {
   "cell_type": "code",
   "execution_count": null,
   "id": "c889662f",
   "metadata": {},
   "outputs": [],
   "source": [
    "for(i in c(5:137)){\n",
    "  \n",
    "  df_filt <- Extra_All2 %>% \n",
    "    dplyr::select(1:4,138,139,140,i)\n",
    "  colnames(df_filt) <- c(colnames(df_filt[c(1:7)]), \"value\")\n",
    "  df_filt$value <- as.numeric(df_filt$value)\n",
    "\n",
    "plot <- df_filt %>% \n",
    "  ggplot(aes(x = Condition,\n",
    "             y = value)) +\n",
    "   geom_dotplot(binaxis='y', stackdir='center', dotsize = 0) + \n",
    "   geom_boxplot(outlier.shape = NA) +\n",
    "    geom_jitter(binaxis='y', position=position_jitter(width = 0.1, height = 0.01), \n",
    "                size = 3, stackdir='center', aes(color = Condition)) + \n",
    "    facet_wrap(~Experiment) +\n",
    "  theme_classic() + xlab(\"\") +  \n",
    " xlab(\"\") + ylab(\"Value\") +\n",
    "   scale_y_continuous(expand = expansion(mult = c(0, 0.1))) +\n",
    "  ggpubr::stat_compare_means(label.x = 1.2, label.y.npc = \"top\", size = 5, vjust = 0.3, label = \"p.format\") + \n",
    "      theme(plot.title = element_text(hjust = 0.5, size = 22),\n",
    "          axis.line = element_line(colour = \"black\"), \n",
    "        axis.ticks = element_line(colour = \"black\")) +\n",
    "  ylim(0,NA)+\n",
    "  plot_annotation(\n",
    "    title = paste(stringr::str_replace_all(string = colnames(Extra_All2)[i], pattern = \"/\", replacement = \"\\n\")) ,\n",
    "    theme = theme(plot.title = element_text(size = 8), plot.subtitle = element_text(size = 8)))\n",
    "\n",
    "  ggsave(paste0(\"../../../Project Diabetes Motol/FACS validation/Final_Analysis_VN/Extracellular/05_Results/R_plots/results_240328_Extra_facet/\",paste0(\"plot_\",i),\".png\"), \n",
    "         width = 25, height = 12, units = \"cm\")\n",
    "}"
   ]
  },
  {
   "cell_type": "code",
   "execution_count": null,
   "id": "4a754765",
   "metadata": {},
   "outputs": [],
   "source": []
  },
  {
   "cell_type": "markdown",
   "id": "318231b5",
   "metadata": {},
   "source": [
    "## Treg"
   ]
  },
  {
   "cell_type": "code",
   "execution_count": null,
   "id": "2886312d",
   "metadata": {},
   "outputs": [],
   "source": [
    "treg_files  <- list.files(\"../../../Project Diabetes Motol/FACS validation/Final_Analysis_VN/Intracellular01_Treg/05_Results/Tables/\",\n",
    "                          full.names = TRUE)"
   ]
  },
  {
   "cell_type": "code",
   "execution_count": null,
   "id": "0f166ee4",
   "metadata": {},
   "outputs": [],
   "source": [
    "treg_files"
   ]
  },
  {
   "cell_type": "code",
   "execution_count": null,
   "id": "cc104ecc",
   "metadata": {},
   "outputs": [],
   "source": [
    "process_file_facs  <- function(path) {\n",
    "    \n",
    "    high_dim2 <- t(read_xlsx(path)) %>% as.data.frame() %>% rownames_to_column(\"sample\")\n",
    "high_dim2 <- high_dim2[2:nrow(high_dim2),]\n",
    "colnames(high_dim2) <- c(\"population\", \"value\")\n",
    "\n",
    "high_dim2$population <- sub(pattern = \"X-shift_\", \n",
    "                           replacement = \"cluster\",\n",
    "                            x = high_dim2$population)\n",
    "high_dim2$population <- sub(pattern = \"\\\\| Freq. of Parent\", \n",
    "                           replacement = \"\",\n",
    "                            x = high_dim2$population)\n",
    "high_dim3 <- high_dim2 %>% \n",
    "mutate()  %>% \n",
    "separate(population, into = c(\"Sample\",\"Cluster\"), \n",
    "                                  sep = \"\\\\.0\\\\/\", remove = F) \n",
    "high_dim3 <- high_dim3 %>% filter(!is.na(Cluster))\n",
    "high_dim4  <- high_dim3  %>% dplyr::select(-population)  %>% \n",
    "mutate(value = as.numeric(value))  %>% \n",
    "pivot_wider(names_from = \"Cluster\", values_from = \"value\", values_fill = 0)\n",
    "high_dim4  <-  high_dim4  %>% separate(Sample, into = c(NA, \"SpecimenID\"), sep = \"_\", remove = F)\n",
    "high_dim4$SpecimenID  <- as.numeric(high_dim4$SpecimenID)\n",
    "return(high_dim4)\n",
    "    }"
   ]
  },
  {
   "cell_type": "code",
   "execution_count": null,
   "id": "826a4483",
   "metadata": {},
   "outputs": [],
   "source": [
    "treg_files"
   ]
  },
  {
   "cell_type": "code",
   "execution_count": null,
   "id": "9ac6b33b",
   "metadata": {},
   "outputs": [],
   "source": [
    "treg_CD4  <- process_file_facs(treg_files[[1]])\n",
    "treg_Prolif  <- process_file_facs(treg_files[[3]])\n",
    "treg_Treg  <- process_file_facs(treg_files[[4]])"
   ]
  },
  {
   "cell_type": "code",
   "execution_count": null,
   "id": "ebd323ce",
   "metadata": {},
   "outputs": [],
   "source": []
  },
  {
   "cell_type": "code",
   "execution_count": null,
   "id": "7b7be3bd",
   "metadata": {},
   "outputs": [],
   "source": [
    "treg_Prolif$SpecimenID  <- substr(treg_Prolif$Sample,13,15)"
   ]
  },
  {
   "cell_type": "code",
   "execution_count": null,
   "id": "e737a779",
   "metadata": {},
   "outputs": [],
   "source": [
    "treg_CD4$Sample  <- NULL\n",
    "treg_Prolif$Sample  <- NULL\n",
    "treg_Treg$Sample <- NULL"
   ]
  },
  {
   "cell_type": "code",
   "execution_count": null,
   "id": "731a8b4f",
   "metadata": {},
   "outputs": [],
   "source": [
    "treg_CD4$SpecimenID  <- as.numeric(treg_CD4$SpecimenID)\n",
    "treg_Prolif$SpecimenID  <- as.numeric(treg_Prolif$SpecimenID)\n",
    "treg_Treg$SpecimenID <- as.numeric(treg_Treg$SpecimenID)"
   ]
  },
  {
   "cell_type": "code",
   "execution_count": null,
   "id": "140b778b",
   "metadata": {},
   "outputs": [],
   "source": [
    "colnames(treg_CD4)  <- paste0(\"CD4_\", colnames(treg_CD4))"
   ]
  },
  {
   "cell_type": "code",
   "execution_count": null,
   "id": "8ad806cf",
   "metadata": {
    "scrolled": true
   },
   "outputs": [],
   "source": [
    "treg_CD4$SpecimenID  <- treg_CD4$CD4_SpecimenID"
   ]
  },
  {
   "cell_type": "code",
   "execution_count": null,
   "id": "cea54b86",
   "metadata": {},
   "outputs": [],
   "source": [
    "treg_All  <- left_join(treg_CD4, treg_Prolif)\n",
    "treg_All  <- left_join(treg_All, treg_Treg)"
   ]
  },
  {
   "cell_type": "code",
   "execution_count": null,
   "id": "df7cb1c9",
   "metadata": {
    "scrolled": true
   },
   "outputs": [],
   "source": [
    "treg_All"
   ]
  },
  {
   "cell_type": "code",
   "execution_count": null,
   "id": "f8797d08",
   "metadata": {
    "scrolled": true
   },
   "outputs": [],
   "source": [
    "treg_All  %>% nrow"
   ]
  },
  {
   "cell_type": "code",
   "execution_count": null,
   "id": "559fbd30",
   "metadata": {},
   "outputs": [],
   "source": [
    "high_dim1  <- read_xlsx(treg_files[2])"
   ]
  },
  {
   "cell_type": "code",
   "execution_count": null,
   "id": "bb4a13f2",
   "metadata": {},
   "outputs": [],
   "source": [
    "high_dim1$SpecimenID  <- NULL"
   ]
  },
  {
   "cell_type": "code",
   "execution_count": null,
   "id": "9229d95b",
   "metadata": {},
   "outputs": [],
   "source": [
    "treg_All2  <- cbind(high_dim1, treg_All)"
   ]
  },
  {
   "cell_type": "code",
   "execution_count": null,
   "id": "1e16add9",
   "metadata": {},
   "outputs": [],
   "source": [
    "treg_All2$Condition  <- paste(treg_All2$Disease, treg_All2$TimePoint)"
   ]
  },
  {
   "cell_type": "code",
   "execution_count": null,
   "id": "89f76684",
   "metadata": {},
   "outputs": [],
   "source": [
    "treg_All2  %>% ncol"
   ]
  },
  {
   "cell_type": "code",
   "execution_count": null,
   "id": "53bc004b",
   "metadata": {},
   "outputs": [],
   "source": [
    "treg_All2"
   ]
  },
  {
   "cell_type": "code",
   "execution_count": null,
   "id": "03640dbe",
   "metadata": {
    "scrolled": true
   },
   "outputs": [],
   "source": [
    "for(i in c(5:59)){\n",
    "  \n",
    "  df_filt <- treg_All2 %>% \n",
    "    dplyr::select(1:4,60,i)\n",
    "  colnames(df_filt) <- c(colnames(df_filt[c(1:5)]), \"value\")\n",
    "  df_filt$value <- as.numeric(df_filt$value)\n",
    "\n",
    "plot <- df_filt %>% \n",
    "  ggplot(aes(x = Condition,\n",
    "             y = value)) +\n",
    "   geom_dotplot(binaxis='y', stackdir='center', dotsize = 0) + \n",
    "   geom_boxplot(outlier.shape = NA) +\n",
    "    geom_jitter(binaxis='y', position=position_jitter(width = 0.1, height = 0.01), \n",
    "                size = 3, stackdir='center', aes(color = Condition)) + \n",
    "  theme_classic() + xlab(\"\") +  \n",
    " xlab(\"\") + ylab(\"Value\") +\n",
    "   scale_y_continuous(expand = expansion(mult = c(0, 0.1))) +\n",
    "  ggpubr::stat_compare_means(label.x = 1.2, label.y.npc = \"top\", size = 5, vjust = 0.3, label = \"p.format\") + \n",
    "      theme(plot.title = element_text(hjust = 0.5, size = 22),\n",
    "          axis.line = element_line(colour = \"black\"), \n",
    "        axis.ticks = element_line(colour = \"black\")) +\n",
    "  ylim(0,NA)+\n",
    "  plot_annotation(\n",
    "    title = paste(stringr::str_replace_all(string = colnames(treg_All2)[i], pattern = \"/\", replacement = \"\\n\")) ,\n",
    "    theme = theme(plot.title = element_text(size = 8), plot.subtitle = element_text(size = 8)))\n",
    "\n",
    "  ggsave(paste0(\"../../../Project Diabetes Motol/FACS validation/Final_Analysis_VN/Intracellular01_Treg/05_Results/R_plots/results_240328_treg/\",paste0(\"plot_\",i),\".png\"), \n",
    "         width = 15, height = 12, units = \"cm\")\n",
    "}\n"
   ]
  },
  {
   "cell_type": "markdown",
   "id": "89f24d2a",
   "metadata": {},
   "source": [
    "## Treg v3 240412"
   ]
  },
  {
   "cell_type": "code",
   "execution_count": null,
   "id": "451ff828",
   "metadata": {},
   "outputs": [],
   "source": [
    "treg_files  <- list.files(\"../../../Project Diabetes Motol/FACS validation/Final_Analysis_VN/Intracellular01_Treg/05_Results/Tables/\",\n",
    "                          full.names = TRUE)"
   ]
  },
  {
   "cell_type": "code",
   "execution_count": null,
   "id": "b2185715",
   "metadata": {},
   "outputs": [],
   "source": [
    "treg_files"
   ]
  },
  {
   "cell_type": "code",
   "execution_count": null,
   "id": "1f77e68d",
   "metadata": {},
   "outputs": [],
   "source": [
    "process_file_facs  <- function(path) {\n",
    "    \n",
    "    high_dim2 <- t(read_xlsx(path)) %>% as.data.frame() %>% rownames_to_column(\"sample\")\n",
    "high_dim2 <- high_dim2[2:nrow(high_dim2),]\n",
    "colnames(high_dim2) <- c(\"population\", \"value\")\n",
    "\n",
    "high_dim2$population <- sub(pattern = \"X-shift_\", \n",
    "                           replacement = \"cluster\",\n",
    "                            x = high_dim2$population)\n",
    "high_dim2$population <- sub(pattern = \"\\\\| Freq. of Parent\", \n",
    "                           replacement = \"\",\n",
    "                            x = high_dim2$population)\n",
    "high_dim3 <- high_dim2 %>% \n",
    "mutate()  %>% \n",
    "separate(population, into = c(\"Sample\",\"Cluster\"), \n",
    "                                  sep = \"\\\\.0\\\\/\", remove = F) \n",
    "high_dim3 <- high_dim3 %>% filter(!is.na(Cluster))\n",
    "high_dim4  <- high_dim3  %>% dplyr::select(-population)  %>% \n",
    "mutate(value = as.numeric(value))  %>% \n",
    "pivot_wider(names_from = \"Cluster\", values_from = \"value\", values_fill = 0)\n",
    "high_dim4  <-  high_dim4  %>% separate(Sample, into = c(NA, \"SpecimenID\"), sep = \"_\", remove = F)\n",
    "high_dim4$SpecimenID  <- as.numeric(high_dim4$SpecimenID)\n",
    "return(high_dim4)\n",
    "    }"
   ]
  },
  {
   "cell_type": "code",
   "execution_count": null,
   "id": "8854098e",
   "metadata": {},
   "outputs": [],
   "source": [
    "treg_files"
   ]
  },
  {
   "cell_type": "code",
   "execution_count": null,
   "id": "e62bf63a",
   "metadata": {},
   "outputs": [],
   "source": [
    "treg_CD4  <- process_file_facs(treg_files[[3]])\n",
    "treg_Prolif  <- process_file_facs(treg_files[[5]])\n",
    "treg_Treg  <- process_file_facs(treg_files[[6]])"
   ]
  },
  {
   "cell_type": "code",
   "execution_count": null,
   "id": "03b4be1a",
   "metadata": {},
   "outputs": [],
   "source": [
    "treg_Prolif$SpecimenID  <- substr(treg_Prolif$Sample,13,15)"
   ]
  },
  {
   "cell_type": "code",
   "execution_count": null,
   "id": "b299f04e",
   "metadata": {},
   "outputs": [],
   "source": [
    "treg_CD4$Sample  <- NULL\n",
    "treg_Prolif$Sample  <- NULL\n",
    "treg_Treg$Sample <- NULL"
   ]
  },
  {
   "cell_type": "code",
   "execution_count": null,
   "id": "34ffa4a4",
   "metadata": {},
   "outputs": [],
   "source": [
    "treg_CD4$SpecimenID  <- as.numeric(treg_CD4$SpecimenID)\n",
    "treg_Prolif$SpecimenID  <- as.numeric(treg_Prolif$SpecimenID)\n",
    "treg_Treg$SpecimenID <- as.numeric(treg_Treg$SpecimenID)"
   ]
  },
  {
   "cell_type": "code",
   "execution_count": null,
   "id": "463a232a",
   "metadata": {},
   "outputs": [],
   "source": [
    "colnames(treg_CD4)  <- paste0(\"CD4_\", colnames(treg_CD4))"
   ]
  },
  {
   "cell_type": "code",
   "execution_count": null,
   "id": "a0701c9f",
   "metadata": {
    "scrolled": true
   },
   "outputs": [],
   "source": [
    "treg_CD4$SpecimenID  <- as.numeric(treg_CD4$CD4_SpecimenID)"
   ]
  },
  {
   "cell_type": "code",
   "execution_count": null,
   "id": "4198b5cf",
   "metadata": {},
   "outputs": [],
   "source": [
    "treg_All  <- left_join(treg_CD4, treg_Prolif)\n",
    "treg_All  <- left_join(treg_All, treg_Treg)"
   ]
  },
  {
   "cell_type": "code",
   "execution_count": null,
   "id": "081fa05c",
   "metadata": {
    "scrolled": true
   },
   "outputs": [],
   "source": [
    "treg_All"
   ]
  },
  {
   "cell_type": "code",
   "execution_count": null,
   "id": "22ffcf8a",
   "metadata": {
    "scrolled": true
   },
   "outputs": [],
   "source": [
    "treg_All  %>% nrow"
   ]
  },
  {
   "cell_type": "code",
   "execution_count": null,
   "id": "8f4d2dc7",
   "metadata": {},
   "outputs": [],
   "source": [
    "treg_files"
   ]
  },
  {
   "cell_type": "code",
   "execution_count": null,
   "id": "c6bf2b5e",
   "metadata": {},
   "outputs": [],
   "source": [
    "high_dim1  <- read_xlsx(treg_files[2])"
   ]
  },
  {
   "cell_type": "code",
   "execution_count": null,
   "id": "bce68c51",
   "metadata": {},
   "outputs": [],
   "source": [
    "high_dim1$SpecimenID  <- NULL"
   ]
  },
  {
   "cell_type": "code",
   "execution_count": null,
   "id": "fada1077",
   "metadata": {},
   "outputs": [],
   "source": [
    "treg_All2  <- cbind(high_dim1, treg_All)"
   ]
  },
  {
   "cell_type": "code",
   "execution_count": null,
   "id": "8bc3d262",
   "metadata": {},
   "outputs": [],
   "source": [
    "treg_All2$Condition  <- paste(treg_All2$Disease, treg_All2$TimePoint)"
   ]
  },
  {
   "cell_type": "code",
   "execution_count": null,
   "id": "d0ddaf00",
   "metadata": {},
   "outputs": [],
   "source": [
    "treg_All2  %>% ncol"
   ]
  },
  {
   "cell_type": "code",
   "execution_count": null,
   "id": "12be59e0",
   "metadata": {},
   "outputs": [],
   "source": [
    "treg_All2$Condition  %>% table"
   ]
  },
  {
   "cell_type": "code",
   "execution_count": null,
   "id": "5e3a0067",
   "metadata": {},
   "outputs": [],
   "source": [
    "treg_All2"
   ]
  },
  {
   "cell_type": "code",
   "execution_count": null,
   "id": "3f85a859",
   "metadata": {
    "scrolled": true
   },
   "outputs": [],
   "source": [
    "for(i in c(5:97)){\n",
    "  \n",
    "  df_filt <- treg_All2 %>% \n",
    "    dplyr::select(1:4,98,i)\n",
    "  colnames(df_filt) <- c(colnames(df_filt[c(1:5)]), \"value\")\n",
    "  df_filt$value <- as.numeric(df_filt$value)\n",
    "\n",
    "plot <- df_filt %>% \n",
    "  ggplot(aes(x = Condition,\n",
    "             y = value)) +\n",
    "   geom_dotplot(binaxis='y', stackdir='center', dotsize = 0) + \n",
    "   geom_boxplot(outlier.shape = NA) +\n",
    "    geom_jitter(binaxis='y', position=position_jitter(width = 0.1, height = 0.01), \n",
    "                size = 3, stackdir='center', aes(color = Condition)) + \n",
    "  theme_classic() + xlab(\"\") +  \n",
    " xlab(\"\") + ylab(\"Value\") +\n",
    "   scale_y_continuous(expand = expansion(mult = c(0, 0.1))) +\n",
    "  ggpubr::stat_compare_means(label.x = 1.2, label.y.npc = \"top\", size = 5, vjust = 0.3, label = \"p.format\") + \n",
    "      theme(plot.title = element_text(hjust = 0.5, size = 22),\n",
    "          axis.line = element_line(colour = \"black\"), \n",
    "        axis.ticks = element_line(colour = \"black\")) +\n",
    "  ylim(0,NA)+\n",
    "  plot_annotation(\n",
    "    title = paste(stringr::str_replace_all(string = colnames(treg_All2)[i], pattern = \"/\", replacement = \"\\n\")) ,\n",
    "    theme = theme(plot.title = element_text(size = 8), plot.subtitle = element_text(size = 8)))\n",
    "\n",
    "  ggsave(paste0(\"../../../Project Diabetes Motol/FACS validation/Final_Analysis_VN/Intracellular01_Treg/05_Results/R_plots/results_240515_treg/\",paste0(\"plot_\",i),\".png\"), \n",
    "         width = 15, height = 12, units = \"cm\")\n",
    "}\n"
   ]
  },
  {
   "cell_type": "code",
   "execution_count": null,
   "id": "216b0343",
   "metadata": {},
   "outputs": [],
   "source": []
  },
  {
   "cell_type": "markdown",
   "id": "3fac02bf",
   "metadata": {},
   "source": [
    "## Treg v05 240527"
   ]
  },
  {
   "cell_type": "code",
   "execution_count": null,
   "id": "5ccfdba8",
   "metadata": {},
   "outputs": [],
   "source": [
    "intra01_files  <- list.files(\"../../../Project Diabetes Motol/FACS validation/Final_Analysis_VN/Intracellular01_Treg/05_Results/Tables/\",\n",
    "                          full.names = TRUE)"
   ]
  },
  {
   "cell_type": "code",
   "execution_count": null,
   "id": "102c7f23",
   "metadata": {},
   "outputs": [],
   "source": [
    "intra01_files"
   ]
  },
  {
   "cell_type": "code",
   "execution_count": null,
   "id": "ffd6faa3",
   "metadata": {},
   "outputs": [],
   "source": [
    "intra02_All2  <- read_xlsx(intra01_files[3])"
   ]
  },
  {
   "cell_type": "code",
   "execution_count": null,
   "id": "c81a3069",
   "metadata": {},
   "outputs": [],
   "source": [
    "intra02_All2"
   ]
  },
  {
   "cell_type": "code",
   "execution_count": null,
   "id": "2f23faae",
   "metadata": {},
   "outputs": [],
   "source": [
    "ncol(intra02_All2)"
   ]
  },
  {
   "cell_type": "code",
   "execution_count": null,
   "id": "48d06074",
   "metadata": {},
   "outputs": [],
   "source": [
    "intra02_All2$Condition  <- paste(intra02_All2$Disease, intra02_All2$TimePoint)"
   ]
  },
  {
   "cell_type": "code",
   "execution_count": null,
   "id": "30033d10",
   "metadata": {},
   "outputs": [],
   "source": [
    "intra02_All2"
   ]
  },
  {
   "cell_type": "code",
   "execution_count": null,
   "id": "388124b4",
   "metadata": {},
   "outputs": [],
   "source": [
    "dir.create(\"../../../Project Diabetes Motol/FACS validation/Final_Analysis_VN/Intracellular01_Treg/05_Results/R_plots/results_240525_v3\")"
   ]
  },
  {
   "cell_type": "code",
   "execution_count": null,
   "id": "c92def46",
   "metadata": {
    "scrolled": true
   },
   "outputs": [],
   "source": [
    "for(i in c(6:12)){\n",
    "  \n",
    "  df_filt <- intra02_All2 %>% \n",
    "    dplyr::select(1:5,13,i)\n",
    "  colnames(df_filt) <- c(colnames(df_filt[c(1:6)]), \"value\")\n",
    "  df_filt$value <- as.numeric(df_filt$value)\n",
    "\n",
    "plot <- df_filt %>% \n",
    "  ggplot(aes(x = Condition,\n",
    "             y = value)) +\n",
    "   geom_dotplot(binaxis='y', stackdir='center', dotsize = 0) + \n",
    "   geom_boxplot(outlier.shape = NA) +\n",
    "    geom_jitter(binaxis='y', position=position_jitter(width = 0.1, height = 0.01), \n",
    "                size = 3, stackdir='center', aes(color = Condition)) + \n",
    "  theme_classic() + xlab(\"\") +  \n",
    " xlab(\"\") + ylab(\"Value\") +\n",
    "   scale_y_continuous(expand = expansion(mult = c(0, 0.1))) +\n",
    "  ggpubr::stat_compare_means(label.x = 1.2, label.y.npc = \"top\", size = 5, vjust = 0.3, label = \"p.format\") + \n",
    "      theme(plot.title = element_text(hjust = 0.5, size = 22),\n",
    "          axis.line = element_line(colour = \"black\"), \n",
    "        axis.ticks = element_line(colour = \"black\")) +\n",
    "  ylim(0,NA)+\n",
    "  plot_annotation(\n",
    "    title = paste(stringr::str_replace_all(string = colnames(intra02_All2)[i], pattern = \"/\", replacement = \"\\n\")) ,\n",
    "    theme = theme(plot.title = element_text(size = 8), plot.subtitle = element_text(size = 8)))\n",
    "\n",
    "  ggsave(paste0(\"../../../Project Diabetes Motol/FACS validation/Final_Analysis_VN/Intracellular01_Treg/05_Results/R_plots/results_240525_v3/\",paste0(\"plot_\",i),\".png\"), \n",
    "         width = 15, height = 12, units = \"cm\")\n",
    "}\n"
   ]
  },
  {
   "cell_type": "code",
   "execution_count": null,
   "id": "7eda649f",
   "metadata": {},
   "outputs": [],
   "source": [
    "samples  <- read_xlsx(\"../../../Project Diabetes Motol/FACS validation/240229 Analysis/Diabetes3/table_of_samples.xlsx\")\n",
    "intra02_All2$Sample_ID  <- ifelse(intra02_All2$TimePoint == 1, paste0(intra02_All2$Patient_ID,\"b\"),intra02_All2$Patient_ID)\n",
    "colnames(samples)[2]  <- \"Sample_ID\"\n",
    "intra02_All2  <- left_join(intra02_All2, samples)\n",
    "intra02_All2$Experiment  <- ifelse(is.na(intra02_All2$Experiment), \"Run1\", intra02_All2$Experiment)"
   ]
  },
  {
   "cell_type": "code",
   "execution_count": null,
   "id": "1d88e9ae",
   "metadata": {},
   "outputs": [],
   "source": [
    "intra02_All2"
   ]
  },
  {
   "cell_type": "code",
   "execution_count": null,
   "id": "d2aebf09",
   "metadata": {},
   "outputs": [],
   "source": [
    "for(i in c(6:15)){\n",
    "  \n",
    "  df_filt <- intra02_All2  %>% \n",
    "    #filter(Condition != \"1 1\")  %>% \n",
    "    dplyr::select(1:5,16,i,18)\n",
    "  colnames(df_filt) <- c(colnames(df_filt[c(1:6)]), \"value\", \"Experiment\")\n",
    "  df_filt$value <- as.numeric(df_filt$value)\n",
    "\n",
    "plot <- df_filt %>% \n",
    "  ggplot(aes(x = Condition,\n",
    "             y = value)) +\n",
    "   geom_dotplot(binaxis='y', stackdir='center', dotsize = 0) + \n",
    "   geom_boxplot(outlier.shape = NA) +\n",
    "    geom_jitter(binaxis='y', position=position_jitter(width = 0.1, height = 0.01), \n",
    "                size = 3, stackdir='center', aes(color = Experiment)) + \n",
    "  theme_classic() + xlab(\"\") +  \n",
    " xlab(\"\") + ylab(\"Value\") +\n",
    "   scale_y_continuous(expand = expansion(mult = c(0, 0.1))) +\n",
    "  ggpubr::stat_compare_means(label.x = 1.2, label.y.npc = \"top\", size = 5, vjust = 0.3, label = \"p.format\") + \n",
    "      theme(plot.title = element_text(hjust = 0.5, size = 22),\n",
    "          axis.line = element_line(colour = \"black\"), \n",
    "        axis.ticks = element_line(colour = \"black\")) +\n",
    "  #ylim(0,NA)+\n",
    "  plot_annotation(\n",
    "    title = paste(stringr::str_replace_all(string = colnames(intra02_All2)[i], pattern = \"/\", replacement = \"\\n\")) ,\n",
    "    theme = theme(plot.title = element_text(size = 8), plot.subtitle = element_text(size = 8)))\n",
    "\n",
    "  ggsave(paste0(\"../../../Project Diabetes Motol/FACS validation/Final_Analysis_VN/Intracellular01_Treg/05_Results/R_plots/results_240525_v3/\",paste0(\"plot_\",i),\".png\"), \n",
    "         width = 15, height = 12, units = \"cm\")\n",
    "}"
   ]
  },
  {
   "cell_type": "code",
   "execution_count": null,
   "id": "3f980d4a",
   "metadata": {},
   "outputs": [],
   "source": []
  },
  {
   "cell_type": "markdown",
   "id": "f1268307",
   "metadata": {},
   "source": [
    "## Intra02"
   ]
  },
  {
   "cell_type": "code",
   "execution_count": null,
   "id": "b43ed390",
   "metadata": {},
   "outputs": [],
   "source": [
    "intra02_files  <- list.files(\"../../../Project Diabetes Motol/FACS validation/Final_Analysis_VN/Intracellular02_CD8/05_Results/Tables/\",\n",
    "                          full.names = TRUE)"
   ]
  },
  {
   "cell_type": "code",
   "execution_count": null,
   "id": "cdc56413",
   "metadata": {},
   "outputs": [],
   "source": [
    "intra02_files"
   ]
  },
  {
   "cell_type": "code",
   "execution_count": null,
   "id": "c1a251b9",
   "metadata": {},
   "outputs": [],
   "source": [
    "intra02_All2  <- read_xlsx(intra02_files[2])"
   ]
  },
  {
   "cell_type": "code",
   "execution_count": null,
   "id": "0254c4ad",
   "metadata": {},
   "outputs": [],
   "source": [
    "intra02_All2"
   ]
  },
  {
   "cell_type": "code",
   "execution_count": null,
   "id": "89de7584",
   "metadata": {},
   "outputs": [],
   "source": [
    "ncol(intra02_All2)"
   ]
  },
  {
   "cell_type": "code",
   "execution_count": null,
   "id": "cd1d545f",
   "metadata": {},
   "outputs": [],
   "source": [
    "intra02_All2$Condition  <- paste(intra02_All2$Disease, intra02_All2$TimePoint)"
   ]
  },
  {
   "cell_type": "code",
   "execution_count": null,
   "id": "76f32b05",
   "metadata": {
    "scrolled": true
   },
   "outputs": [],
   "source": [
    "for(i in c(6:92)){\n",
    "  \n",
    "  df_filt <- intra02_All2 %>% \n",
    "    dplyr::select(1:5,93,i)\n",
    "  colnames(df_filt) <- c(colnames(df_filt[c(1:6)]), \"value\")\n",
    "  df_filt$value <- as.numeric(df_filt$value)\n",
    "\n",
    "plot <- df_filt %>% \n",
    "  ggplot(aes(x = Condition,\n",
    "             y = value)) +\n",
    "   geom_dotplot(binaxis='y', stackdir='center', dotsize = 0) + \n",
    "   geom_boxplot(outlier.shape = NA) +\n",
    "    geom_jitter(binaxis='y', position=position_jitter(width = 0.1, height = 0.01), \n",
    "                size = 3, stackdir='center', aes(color = Condition)) + \n",
    "  theme_classic() + xlab(\"\") +  \n",
    " xlab(\"\") + ylab(\"Value\") +\n",
    "   scale_y_continuous(expand = expansion(mult = c(0, 0.1))) +\n",
    "  ggpubr::stat_compare_means(label.x = 1.2, label.y.npc = \"top\", size = 5, vjust = 0.3, label = \"p.format\") + \n",
    "      theme(plot.title = element_text(hjust = 0.5, size = 22),\n",
    "          axis.line = element_line(colour = \"black\"), \n",
    "        axis.ticks = element_line(colour = \"black\")) +\n",
    "  ylim(0,NA)+\n",
    "  plot_annotation(\n",
    "    title = paste(stringr::str_replace_all(string = colnames(intra02_All2)[i], pattern = \"/\", replacement = \"\\n\")) ,\n",
    "    theme = theme(plot.title = element_text(size = 8), plot.subtitle = element_text(size = 8)))\n",
    "\n",
    "  ggsave(paste0(\"../../../Project Diabetes Motol/FACS validation/Final_Analysis_VN/Intracellular02_CD8/05_Results/R_plots/results_240412_intra02/\",paste0(\"plot_\",i),\".png\"), \n",
    "         width = 15, height = 12, units = \"cm\")\n",
    "}\n"
   ]
  },
  {
   "cell_type": "code",
   "execution_count": null,
   "id": "c89d932e",
   "metadata": {},
   "outputs": [],
   "source": []
  },
  {
   "cell_type": "markdown",
   "id": "16c9d7fe",
   "metadata": {},
   "source": [
    "### Separated by Experiment"
   ]
  },
  {
   "cell_type": "code",
   "execution_count": null,
   "id": "5a878d64",
   "metadata": {},
   "outputs": [],
   "source": [
    "samples  <- read_xlsx(\"../../../Project Diabetes Motol/FACS validation/240229 Analysis/Diabetes3/table_of_samples.xlsx\")"
   ]
  },
  {
   "cell_type": "code",
   "execution_count": null,
   "id": "d833ef5b",
   "metadata": {},
   "outputs": [],
   "source": [
    "intra02_All2$Sample_ID  <- ifelse(intra02_All2$TimePoint == 1, paste0(intra02_All2$Patient_ID,\"b\"),intra02_All2$Patient_ID)"
   ]
  },
  {
   "cell_type": "code",
   "execution_count": null,
   "id": "2703073e",
   "metadata": {
    "scrolled": true
   },
   "outputs": [],
   "source": [
    "intra02_All2$Sample_ID"
   ]
  },
  {
   "cell_type": "code",
   "execution_count": null,
   "id": "30eece91",
   "metadata": {},
   "outputs": [],
   "source": [
    "colnames(samples)[2]  <- \"Sample_ID\""
   ]
  },
  {
   "cell_type": "code",
   "execution_count": null,
   "id": "78baaaaf",
   "metadata": {
    "scrolled": true
   },
   "outputs": [],
   "source": [
    "samples"
   ]
  },
  {
   "cell_type": "code",
   "execution_count": null,
   "id": "25812072",
   "metadata": {},
   "outputs": [],
   "source": [
    "intra02_All2  <- left_join(intra02_All2, samples)"
   ]
  },
  {
   "cell_type": "code",
   "execution_count": null,
   "id": "237b0550",
   "metadata": {},
   "outputs": [],
   "source": [
    "intra02_All2"
   ]
  },
  {
   "cell_type": "code",
   "execution_count": null,
   "id": "4bfa30c1",
   "metadata": {},
   "outputs": [],
   "source": [
    "intra02_All2$Experiment  <- ifelse(is.na(intra02_All2$Experiment), \"Run1\", intra02_All2$Experiment)"
   ]
  },
  {
   "cell_type": "code",
   "execution_count": null,
   "id": "e7d2de31",
   "metadata": {},
   "outputs": [],
   "source": [
    "for(i in c(5:72)){\n",
    "  \n",
    "  df_filt <- intra02_All2 %>% \n",
    "    dplyr::select(1:4,73,74,75,i)\n",
    "  colnames(df_filt) <- c(colnames(df_filt[c(1:7)]), \"value\")\n",
    "  df_filt$value <- as.numeric(df_filt$value)\n",
    "\n",
    "plot <- df_filt %>% \n",
    "  ggplot(aes(x = Condition,\n",
    "             y = value)) +\n",
    "   geom_dotplot(binaxis='y', stackdir='center', dotsize = 0) + \n",
    "   geom_boxplot(outlier.shape = NA) +\n",
    "    geom_jitter(binaxis='y', position=position_jitter(width = 0.1, height = 0.01), \n",
    "                size = 3, stackdir='center', aes(color = Condition)) + \n",
    "    facet_wrap(~Experiment) +\n",
    "  theme_classic() + xlab(\"\") +  \n",
    " xlab(\"\") + ylab(\"Value\") +\n",
    "   scale_y_continuous(expand = expansion(mult = c(0, 0.1))) +\n",
    "  ggpubr::stat_compare_means(label.x = 1.2, label.y.npc = \"top\", size = 5, vjust = 0.3, label = \"p.format\") + \n",
    "      theme(plot.title = element_text(hjust = 0.5, size = 22),\n",
    "          axis.line = element_line(colour = \"black\"), \n",
    "        axis.ticks = element_line(colour = \"black\")) +\n",
    "  ylim(0,NA)+\n",
    "  plot_annotation(\n",
    "    title = paste(stringr::str_replace_all(string = colnames(intra02_All2)[i], pattern = \"/\", replacement = \"\\n\")) ,\n",
    "    theme = theme(plot.title = element_text(size = 8), plot.subtitle = element_text(size = 8)))\n",
    "\n",
    "  ggsave(paste0(\"../../../Project Diabetes Motol/FACS validation/Final_Analysis_VN/Intracellular02_CD8/05_Results/R_plots/results_240328_intra02_facet/\",paste0(\"plot_\",i),\".png\"), \n",
    "         width = 25, height = 12, units = \"cm\")\n",
    "}"
   ]
  },
  {
   "cell_type": "code",
   "execution_count": null,
   "id": "a1a5f30d",
   "metadata": {},
   "outputs": [],
   "source": [
    "intra02_All2$Experiment  <- ifelse(is.na(intra02_All2$Experiment), \"Run2\",intra02_All2$Experiment)"
   ]
  },
  {
   "cell_type": "markdown",
   "id": "e7d6ee0f",
   "metadata": {},
   "source": [
    "## Treg v07 240915"
   ]
  },
  {
   "cell_type": "code",
   "execution_count": null,
   "id": "8b888dff",
   "metadata": {},
   "outputs": [],
   "source": [
    "intra01_files  <- list.files(\"../../../Project Diabetes Motol/FACS validation/Final_Analysis_VN/Intracellular01_Treg/05_Results/Tables/\",\n",
    "                          full.names = TRUE)"
   ]
  },
  {
   "cell_type": "code",
   "execution_count": null,
   "id": "48e0f393",
   "metadata": {},
   "outputs": [],
   "source": [
    "intra01_files"
   ]
  },
  {
   "cell_type": "code",
   "execution_count": null,
   "id": "5a345f97",
   "metadata": {},
   "outputs": [],
   "source": [
    "intra02_All2  <- read_xlsx(intra01_files[3])"
   ]
  },
  {
   "cell_type": "code",
   "execution_count": null,
   "id": "20a24ace",
   "metadata": {},
   "outputs": [],
   "source": [
    "intra02_All2"
   ]
  },
  {
   "cell_type": "code",
   "execution_count": null,
   "id": "8d8f5d1a",
   "metadata": {},
   "outputs": [],
   "source": [
    "ncol(intra02_All2)"
   ]
  },
  {
   "cell_type": "code",
   "execution_count": null,
   "id": "4979c4fd",
   "metadata": {},
   "outputs": [],
   "source": [
    "intra02_All2$Condition  <- paste(intra02_All2$Disease, intra02_All2$TimePoint)"
   ]
  },
  {
   "cell_type": "code",
   "execution_count": null,
   "id": "941e6b34",
   "metadata": {},
   "outputs": [],
   "source": [
    "intra02_All2"
   ]
  },
  {
   "cell_type": "code",
   "execution_count": null,
   "id": "9b399d39",
   "metadata": {
    "scrolled": true
   },
   "outputs": [],
   "source": [
    "for(i in c(6:29)){\n",
    "  \n",
    "  df_filt <- intra02_All2 %>% \n",
    "    dplyr::select(1:5,30,i)\n",
    "  colnames(df_filt) <- c(colnames(df_filt[c(1:6)]), \"value\")\n",
    "  df_filt$value <- as.numeric(df_filt$value)\n",
    "\n",
    "plot <- df_filt %>% \n",
    "  ggplot(aes(x = Condition,\n",
    "             y = value)) +\n",
    "   geom_dotplot(binaxis='y', stackdir='center', dotsize = 0) + \n",
    "   geom_boxplot(outlier.shape = NA) +\n",
    "    geom_jitter(binaxis='y', position=position_jitter(width = 0.1, height = 0.01), \n",
    "                size = 3, stackdir='center', aes(color = Condition)) + \n",
    "  theme_classic() + xlab(\"\") +  \n",
    " xlab(\"\") + ylab(\"Value\") +\n",
    "   scale_y_continuous(expand = expansion(mult = c(0, 0.1))) +\n",
    "  ggpubr::stat_compare_means(label.x = 1.2, label.y.npc = \"top\", size = 5, vjust = 0.3, label = \"p.format\") + \n",
    "      theme(plot.title = element_text(hjust = 0.5, size = 22),\n",
    "          axis.line = element_line(colour = \"black\"), \n",
    "        axis.ticks = element_line(colour = \"black\")) +\n",
    "  ylim(0,NA)+\n",
    "  plot_annotation(\n",
    "    title = paste(stringr::str_replace_all(string = colnames(intra02_All2)[i], pattern = \"/\", replacement = \"\\n\")) ,\n",
    "    theme = theme(plot.title = element_text(size = 8), plot.subtitle = element_text(size = 8)))\n",
    "\n",
    "  ggsave(paste0(\"../../../Project Diabetes Motol/FACS validation/Final_Analysis_VN/Intracellular01_Treg/05_Results/R_plots/results_240915_v6/\",paste0(\"plot_\",i),\".png\"), \n",
    "        create.dir = TRUE,  width = 15, height = 12, units = \"cm\")\n",
    "}\n"
   ]
  },
  {
   "cell_type": "markdown",
   "id": "3cf09975",
   "metadata": {},
   "source": [
    "### For figure"
   ]
  },
  {
   "cell_type": "code",
   "execution_count": null,
   "id": "349031d3",
   "metadata": {},
   "outputs": [],
   "source": [
    "for(i in c(6:29)){\n",
    "  \n",
    "  df_filt <- intra02_All2 %>% \n",
    "    dplyr::select(1:5,30,i)\n",
    "  colnames(df_filt) <- c(colnames(df_filt[c(1:6)]), \"value\")\n",
    "  df_filt$value <- as.numeric(df_filt$value)\n",
    "\n",
    "plot <- df_filt %>% \n",
    "  ggplot(aes(x = Condition,\n",
    "             y = value)) +\n",
    "    geom_violin(alpha = 0.3, aes(fill = Condition), scale = \"width\") + \n",
    "stat_summary(fun = \"median\",\n",
    "               geom = \"crossbar\", \n",
    "               width = 0.75,\n",
    "               color = \"grey30\") +\n",
    "geom_beeswarm(size = 3, aes(fill = Condition), cex = 3, \n",
    "                shape = 21, color = \"black\", corral = \"random\") +\n",
    "ggpubr::stat_compare_means(size = 7, label = \"p.format\", comparisons = list(c(1,2)))+\n",
    "scale_fill_manual(values = c(\"#1874cdff\",  \"#ee6363ff\", \"#c41515ff\",\"#eeb4b4ff\")) +\n",
    "scale_color_manual(values = c(\"dodgerblue3\",  \"#e54c4cff\", \"#aa2a2aff\",\"#e88989ff\")) +\n",
    "ylab(\"\") +\n",
    "  xlab(\"\") +\n",
    "  ylim(0,NA) +\n",
    "  theme_classic() +\n",
    "theme(strip.background = element_blank(), panel.grid = element_blank()) + \n",
    "  theme(axis.text = element_text(color = \"black\"),\n",
    "        axis.text.x = element_text(angle = 90),\n",
    "       axis.line = element_line(color = \"black\", size = 0.5),\n",
    "        axis.ticks.x = element_blank()) +\n",
    "  ylim(0,NA)+\n",
    "  plot_annotation(\n",
    "    title = paste(stringr::str_replace_all(string = colnames(intra02_All2)[i], pattern = \"/\", replacement = \"\\n\")) ,\n",
    "    theme = theme(plot.title = element_text(size = 8), \n",
    "                  plot.subtitle = element_text(size = 8),\n",
    "                 axis.text.x = element_blank())) + ggtheme() + NoLegend()\n",
    "    \n",
    "  ggsave(paste0(\"../../../Project Diabetes Motol/FACS validation/Final_Analysis_VN/Intracellular01_Treg/05_Results/R_plots/results_240915_v6_figure/\",paste0(\"plot_\",i),\".png\"), \n",
    "         create.dir = TRUE, width = 7.5, height = 10, units = \"cm\")\n",
    "    ggsave(paste0(\"../../../Project Diabetes Motol/FACS validation/Final_Analysis_VN/Intracellular01_Treg/05_Results/R_plots/results_240915_v6_figure/\",paste0(\"plot_\",i),\".svg\"), \n",
    "         width = 7.5, height = 10, units = \"cm\")\n",
    "    }"
   ]
  },
  {
   "cell_type": "code",
   "execution_count": null,
   "id": "f857b92b",
   "metadata": {},
   "outputs": [],
   "source": [
    "duplicated(intra02_All2$Patient_ID)"
   ]
  },
  {
   "cell_type": "code",
   "execution_count": null,
   "id": "efa97c1a",
   "metadata": {},
   "outputs": [],
   "source": [
    "for(i in c(6:29)){\n",
    "  \n",
    "  df_filt <- intra02_All2 %>% \n",
    "    dplyr::select(1:5,30,i)\n",
    "  colnames(df_filt) <- c(colnames(df_filt[c(1:6)]), \"value\")\n",
    "  df_filt$value <- as.numeric(df_filt$value)\n",
    "\n",
    "plot <- df_filt %>% \n",
    "  ggplot(aes(x = Condition,\n",
    "             y = value)) +\n",
    "    geom_violin(alpha = 0.3, aes(fill = Condition), scale = \"width\") + \n",
    "stat_summary(fun = \"median\",\n",
    "               geom = \"crossbar\", \n",
    "               width = 0.75,\n",
    "               color = \"grey30\") +\n",
    "geom_beeswarm(size = 3, aes(fill = Condition), cex = 3, \n",
    "                shape = 21, color = \"black\", corral = \"random\") +\n",
    "ggpubr::stat_compare_means(size = 7, label = \"p.format\", comparisons = list(c(2,3)))+\n",
    "scale_fill_manual(values = c(\"#1874cdff\",  \"#ee6363ff\", \"#c41515ff\",\"#eeb4b4ff\")) +\n",
    "scale_color_manual(values = c(\"dodgerblue3\",  \"#e54c4cff\", \"#aa2a2aff\",\"#e88989ff\")) +\n",
    "ylab(\"\") +\n",
    "  xlab(\"\") +\n",
    "  #ylim(0,NA) +\n",
    "  theme_classic() +\n",
    "theme(strip.background = element_blank(), panel.grid = element_blank()) + \n",
    "  theme(axis.text = element_text(color = \"black\"),\n",
    "        axis.text.x = element_text(angle = 90),\n",
    "       axis.line = element_line(color = \"black\", size = 0.5),\n",
    "        axis.ticks.x = element_blank()) +\n",
    "  #ylim(0,NA)+\n",
    "  plot_annotation(\n",
    "    title = paste(stringr::str_replace_all(string = colnames(intra02_All2)[i], pattern = \"/\", replacement = \"\\n\")) ,\n",
    "    theme = theme(plot.title = element_text(size = 8), \n",
    "                  plot.subtitle = element_text(size = 8),\n",
    "                 axis.text.x = element_blank())) + ggtheme() + NoLegend()\n",
    "    \n",
    "  ggsave(paste0(\"../../../Project Diabetes Motol/FACS validation/Final_Analysis_VN/Intracellular01_Treg/05_Results/R_plots/results_241008_v6_figure/\",paste0(\"plot_\",i),\".png\"), \n",
    "         create.dir = TRUE, width = 7.5, height = 16, units = \"cm\")\n",
    "    #ggsave(paste0(\"../../../Project Diabetes Motol/FACS validation/Final_Analysis_VN/Intracellular01_Treg/05_Results/R_plots/results_241008_v6_figure/\",paste0(\"plot_\",i),\".svg\"), \n",
    "    #     width = 7.5, height = 16, units = \"cm\")\n",
    "    }"
   ]
  },
  {
   "cell_type": "code",
   "execution_count": null,
   "id": "556b6ff6",
   "metadata": {
    "scrolled": true
   },
   "outputs": [],
   "source": [
    "for(i in c(6:14)){\n",
    "  \n",
    "  df_filt <- intra02_All2 %>% \n",
    "    filter(`CD4, SSC-A subset/Foxp3, SSC-A subset | Count` > 79)  %>% \n",
    "    dplyr::select(1:5,15,i)\n",
    "  colnames(df_filt) <- c(colnames(df_filt[c(1:6)]), \"value\")\n",
    "  df_filt$value <- as.numeric(df_filt$value)\n",
    "\n",
    "plot <- df_filt %>% \n",
    "  ggplot(aes(x = Condition,\n",
    "             y = value)) +\n",
    "   geom_dotplot(binaxis='y', stackdir='center', dotsize = 0) + \n",
    "   geom_boxplot(outlier.shape = NA) +\n",
    "    geom_jitter(binaxis='y', position=position_jitter(width = 0.1, height = 0.01), \n",
    "                size = 3, stackdir='center', aes(color = Condition)) + \n",
    "  theme_classic() + xlab(\"\") +  \n",
    " xlab(\"\") + ylab(\"Value\") +\n",
    "   scale_y_continuous(expand = expansion(mult = c(0, 0.1))) +\n",
    "  ggpubr::stat_compare_means(label.x = 1.2, label.y.npc = \"top\", size = 5, vjust = 0.3, label = \"p.format\") + \n",
    "      theme(plot.title = element_text(hjust = 0.5, size = 22),\n",
    "          axis.line = element_line(colour = \"black\"), \n",
    "        axis.ticks = element_line(colour = \"black\")) +\n",
    "  ylim(0,NA)+\n",
    "  plot_annotation(\n",
    "    title = paste(stringr::str_replace_all(string = colnames(intra02_All2)[i], pattern = \"/\", replacement = \"\\n\")) ,\n",
    "    theme = theme(plot.title = element_text(size = 8), plot.subtitle = element_text(size = 8)))\n",
    "\n",
    "  ggsave(paste0(\"../../../Project Diabetes Motol/FACS validation/Final_Analysis_VN/Intracellular01_Treg/05_Results/R_plots/results_240915_filter_more_than_80/\",paste0(\"plot_\",i),\".png\"), \n",
    "         width = 15, create.dir = TRUE, height = 12, units = \"cm\")\n",
    "}\n"
   ]
  },
  {
   "cell_type": "code",
   "execution_count": null,
   "id": "bb615306",
   "metadata": {},
   "outputs": [],
   "source": [
    "samples  <- read_xlsx(\"../../../Project Diabetes Motol/FACS validation/240229 Analysis/Diabetes3/table_of_samples.xlsx\")\n",
    "intra02_All2$Sample_ID  <- ifelse(intra02_All2$TimePoint == 1, paste0(intra02_All2$Patient_ID,\"b\"),intra02_All2$Patient_ID)\n",
    "colnames(samples)[2]  <- \"Sample_ID\"\n",
    "intra02_All2  <- left_join(intra02_All2, samples)\n",
    "intra02_All2$Experiment  <- ifelse(is.na(intra02_All2$Experiment), \"Run1\", intra02_All2$Experiment)"
   ]
  },
  {
   "cell_type": "code",
   "execution_count": null,
   "id": "fd96fcfe",
   "metadata": {},
   "outputs": [],
   "source": [
    "intra02_All2"
   ]
  },
  {
   "cell_type": "code",
   "execution_count": null,
   "id": "80d90396",
   "metadata": {},
   "outputs": [],
   "source": [
    "for(i in c(6:15)){\n",
    "  \n",
    "  df_filt <- intra02_All2  %>% \n",
    "    #filter(Condition != \"1 1\")  %>% \n",
    "    dplyr::select(1:5,16,i,18)\n",
    "  colnames(df_filt) <- c(colnames(df_filt[c(1:6)]), \"value\", \"Experiment\")\n",
    "  df_filt$value <- as.numeric(df_filt$value)\n",
    "\n",
    "plot <- df_filt %>% \n",
    "  ggplot(aes(x = Condition,\n",
    "             y = value)) +\n",
    "   geom_dotplot(binaxis='y', stackdir='center', dotsize = 0) + \n",
    "   geom_boxplot(outlier.shape = NA) +\n",
    "    geom_jitter(binaxis='y', position=position_jitter(width = 0.1, height = 0.01), \n",
    "                size = 3, stackdir='center', aes(color = Experiment)) + \n",
    "  theme_classic() + xlab(\"\") +  \n",
    " xlab(\"\") + ylab(\"Value\") +\n",
    "   scale_y_continuous(expand = expansion(mult = c(0, 0.1))) +\n",
    "  ggpubr::stat_compare_means(label.x = 1.2, label.y.npc = \"top\", size = 5, vjust = 0.3, label = \"p.format\") + \n",
    "      theme(plot.title = element_text(hjust = 0.5, size = 22),\n",
    "          axis.line = element_line(colour = \"black\"), \n",
    "        axis.ticks = element_line(colour = \"black\")) +\n",
    "  #ylim(0,NA)+\n",
    "  plot_annotation(\n",
    "    title = paste(stringr::str_replace_all(string = colnames(intra02_All2)[i], pattern = \"/\", replacement = \"\\n\")) ,\n",
    "    theme = theme(plot.title = element_text(size = 8), plot.subtitle = element_text(size = 8)))\n",
    "\n",
    "  ggsave(paste0(\"../../../Project Diabetes Motol/FACS validation/Final_Analysis_VN/Intracellular01_Treg/05_Results/R_plots/results_240525_v3/\",paste0(\"plot_\",i),\".png\"), \n",
    "         width = 15, height = 12, units = \"cm\")\n",
    "}"
   ]
  },
  {
   "cell_type": "code",
   "execution_count": null,
   "id": "d73a7ced",
   "metadata": {},
   "outputs": [],
   "source": []
  },
  {
   "cell_type": "code",
   "execution_count": null,
   "id": "9004f3e4",
   "metadata": {},
   "outputs": [],
   "source": []
  },
  {
   "cell_type": "markdown",
   "id": "7bfcab1e",
   "metadata": {},
   "source": [
    "## Version 03"
   ]
  },
  {
   "cell_type": "code",
   "execution_count": null,
   "id": "ebe335ac",
   "metadata": {},
   "outputs": [],
   "source": [
    "intra02_files  <- list.files(\"../../../Project Diabetes Motol/FACS validation/Final_Analysis_VN/Intracellular02_CD8/05_Results/Tables/\",\n",
    "                          full.names = TRUE)"
   ]
  },
  {
   "cell_type": "code",
   "execution_count": null,
   "id": "54de9290",
   "metadata": {},
   "outputs": [],
   "source": [
    "intra02_files"
   ]
  },
  {
   "cell_type": "code",
   "execution_count": null,
   "id": "c97f49dc",
   "metadata": {},
   "outputs": [],
   "source": [
    "intra02_All2  <- read_xlsx(intra02_files[4])"
   ]
  },
  {
   "cell_type": "code",
   "execution_count": null,
   "id": "56577610",
   "metadata": {},
   "outputs": [],
   "source": [
    "intra02_All2"
   ]
  },
  {
   "cell_type": "code",
   "execution_count": null,
   "id": "d1766a37",
   "metadata": {},
   "outputs": [],
   "source": [
    "ncol(intra02_All2)"
   ]
  },
  {
   "cell_type": "code",
   "execution_count": null,
   "id": "54778753",
   "metadata": {},
   "outputs": [],
   "source": [
    "intra02_All2$Condition  <- paste(intra02_All2$Disease, intra02_All2$TimePoint)"
   ]
  },
  {
   "cell_type": "code",
   "execution_count": null,
   "id": "3b558dd8",
   "metadata": {},
   "outputs": [],
   "source": [
    "intra02_All2"
   ]
  },
  {
   "cell_type": "code",
   "execution_count": null,
   "id": "9f3c38b6",
   "metadata": {},
   "outputs": [],
   "source": []
  },
  {
   "cell_type": "code",
   "execution_count": null,
   "id": "768d0d46",
   "metadata": {
    "scrolled": true
   },
   "outputs": [],
   "source": [
    "for(i in c(6:21)){\n",
    "  \n",
    "  df_filt <- intra02_All2 %>% \n",
    "    dplyr::select(1:5,22,i)\n",
    "  colnames(df_filt) <- c(colnames(df_filt[c(1:6)]), \"value\")\n",
    "  df_filt$value <- as.numeric(df_filt$value)\n",
    "\n",
    "plot <- df_filt %>% \n",
    "  ggplot(aes(x = Condition,\n",
    "             y = value)) +\n",
    "   geom_dotplot(binaxis='y', stackdir='center', dotsize = 0) + \n",
    "   geom_boxplot(outlier.shape = NA) +\n",
    "    geom_jitter(binaxis='y', position=position_jitter(width = 0.1, height = 0.01), \n",
    "                size = 3, stackdir='center', aes(color = Condition)) + \n",
    "  theme_classic() + xlab(\"\") +  \n",
    " xlab(\"\") + ylab(\"Value\") +\n",
    "   scale_y_continuous(expand = expansion(mult = c(0, 0.1))) +\n",
    "  ggpubr::stat_compare_means(label.x = 1.2, label.y.npc = \"top\", size = 5, vjust = 0.3, label = \"p.format\") + \n",
    "      theme(plot.title = element_text(hjust = 0.5, size = 22),\n",
    "          axis.line = element_line(colour = \"black\"), \n",
    "        axis.ticks = element_line(colour = \"black\")) +\n",
    "  ylim(0,NA)+\n",
    "  plot_annotation(\n",
    "    title = paste(stringr::str_replace_all(string = colnames(intra02_All2)[i], pattern = \"/\", replacement = \"\\n\")) ,\n",
    "    theme = theme(plot.title = element_text(size = 8), plot.subtitle = element_text(size = 8)))\n",
    "\n",
    "  ggsave(create.dir = TRUE, paste0(\"../../../Project Diabetes Motol/FACS validation/Final_Analysis_VN/Intracellular02_CD8/05_Results/R_plots/results_240604_v7/\",paste0(\"plot_\",i),\".png\"), \n",
    "         width = 15, height = 12, units = \"cm\")\n",
    "}\n"
   ]
  },
  {
   "cell_type": "code",
   "execution_count": null,
   "id": "7873bdaf",
   "metadata": {},
   "outputs": [],
   "source": [
    "for(i in c(6:21)){\n",
    "  df_filt <- intra02_All2 %>% \n",
    "    dplyr::select(1:5,22,i)\n",
    "  colnames(df_filt) <- c(colnames(df_filt[c(1:6)]), \"value\")\n",
    "  df_filt$value <- as.numeric(df_filt$value)\n",
    "\n",
    "#print(df_filt)\n",
    "plot <- df_filt %>% \n",
    "  ggplot(aes(x = Condition,\n",
    "             y = value)) +\n",
    "geom_violin(alpha = 0.3, aes(fill = Condition), scale = \"width\") + \n",
    "stat_summary(fun = \"median\",\n",
    "               geom = \"crossbar\", \n",
    "               width = 0.75,\n",
    "               color = \"grey30\") +\n",
    "geom_beeswarm(size = 3, aes(fill = Condition), cex = 3, \n",
    "                shape = 21, color = \"black\", corral = \"random\") +\n",
    "ggpubr::stat_compare_means(label.x = 1.2, label.y.npc = \"top\", comparisons = list(c(1,2)), \n",
    "                           size = 5, vjust = 0.3, label = \"p.format\") +\n",
    "    scale_fill_manual(values = c(\"#1874cdff\",  \"#ee6363ff\", \"#c41515ff\",\"#eeb4b4ff\")) +\n",
    "scale_color_manual(values = c(\"dodgerblue3\",  \"#e54c4cff\", \"#aa2a2aff\",\"#e88989ff\")) +\n",
    "ylab(\"\") +\n",
    "  xlab(\"\") +\n",
    "  ylim(0,NA) +\n",
    "  theme_classic() +\n",
    "theme(strip.background = element_blank(), panel.grid = element_blank()) + \n",
    "  theme(axis.text = element_text(color = \"black\"),\n",
    "        axis.text.x = element_text(angle = 90),\n",
    "       axis.line = element_line(color = \"black\", size = 0.5),\n",
    "        axis.ticks.x = element_blank()) +\n",
    "  ylim(0,NA)+\n",
    "  plot_annotation(\n",
    "    title = paste(stringr::str_replace_all(string = colnames(intra02_All2)[i], pattern = \"/\", replacement = \"\\n\")) ,\n",
    "    theme = theme(plot.title = element_text(size = 8), \n",
    "                  plot.subtitle = element_text(size = 8),\n",
    "                 axis.text.x = element_blank())) + ggtheme() + NoLegend()\n",
    "    \n",
    "      df_filt <- intra02_All2 %>% \n",
    "    filter(Condition != \"0 0\")   %>% \n",
    "    dplyr::select(4,5,i) \n",
    "  colnames(df_filt) <- c(colnames(df_filt[c(1:2)]), \"value\")\n",
    "  df_filt$value <- as.numeric(df_filt$value)\n",
    "df_filt <- df_filt  %>% pivot_wider(names_from = TimePoint, values_from = value) \n",
    "colnames(df_filt)  <- c(\"Patient_ID\",\"Time1\",\"Time0\")\n",
    " df_filt <- df_filt %>% dplyr::filter(!is.na(Time1)&(!is.na(Time0)))\n",
    "    df_filt <- df_filt  %>% pivot_longer(!Patient_ID, names_to = \"TimePoint\", values_to = \"value\")\n",
    "    \n",
    "plot2 <- df_filt  %>% \n",
    "  ggplot(aes(x = TimePoint,\n",
    "             y = value)) +\n",
    "geom_violin(alpha = 0.3, scale = \"width\") + \n",
    "stat_summary(fun = \"median\",\n",
    "               geom = \"crossbar\", \n",
    "               width = 0.75,\n",
    "               color = \"grey30\") +\n",
    "geom_beeswarm(size = 3, cex = 3, \n",
    "                shape = 21, color = \"black\", corral = \"random\") +\n",
    "ggpubr::stat_compare_means(label.x = 1.2, label.y.npc = \"top\", paired = TRUE, \n",
    "                           size = 5, vjust = 0.3, label = \"p.format\") +\n",
    "scale_fill_manual(values = c(\"#ee6363ff\", \"#c41515ff\",\"#eeb4b4ff\")) +\n",
    "scale_color_manual(values = c(\"#e54c4cff\", \"#aa2a2aff\",\"#e88989ff\")) +\n",
    "ylab(\"\") +\n",
    "  xlab(\"\") +\n",
    "  ylim(0,NA) +\n",
    "  theme_classic() +\n",
    "theme(strip.background = element_blank(), panel.grid = element_blank()) + \n",
    "  theme(axis.text = element_text(color = \"black\"),\n",
    "        axis.text.x = element_text(angle = 90),\n",
    "       axis.line = element_line(color = \"black\", size = 0.5),\n",
    "        axis.ticks.x = element_blank()) +\n",
    "  ylim(0,NA)+\n",
    "  plot_annotation(\n",
    "    title = paste(stringr::str_replace_all(string = colnames(intra02_All2)[i], pattern = \"/\", replacement = \"\\n\")) ,\n",
    "    theme = theme(plot.title = element_text(size = 8), \n",
    "                  plot.subtitle = element_text(size = 8),\n",
    "                 axis.text.x = element_blank())) + ggtheme() + NoLegend()\n",
    "\n",
    "    plot  <- plot + plot2\n",
    "    plot\n",
    "  ggsave(create.dir = TRUE, paste0(\"../../../Project Diabetes Motol/FACS validation/Final_Analysis_VN/Intracellular02_CD8/05_Results/R_plots/results_240604_v7/\",paste0(\"plot_\",i),\".png\"), \n",
    "         width = 14, height = 9.5, units = \"cm\")\n",
    "    ggsave(create.dir = TRUE, paste0(\"../../../Project Diabetes Motol/FACS validation/Final_Analysis_VN/Intracellular02_CD8/05_Results/R_plots/results_240604_v7/\",paste0(\"plot_\",i),\".svg\"), \n",
    "         width = 14, height = 9.5, units = \"cm\")\n",
    "}\n"
   ]
  },
  {
   "cell_type": "code",
   "execution_count": null,
   "id": "efde0bc6",
   "metadata": {},
   "outputs": [],
   "source": []
  },
  {
   "cell_type": "code",
   "execution_count": null,
   "id": "11b2489c",
   "metadata": {},
   "outputs": [],
   "source": []
  },
  {
   "cell_type": "code",
   "execution_count": null,
   "id": "660f614e",
   "metadata": {},
   "outputs": [],
   "source": []
  },
  {
   "cell_type": "code",
   "execution_count": null,
   "id": "caaec3dc",
   "metadata": {},
   "outputs": [],
   "source": [
    "samples  <- read_xlsx(\"../../../Project Diabetes Motol/FACS validation/240229 Analysis/Diabetes3/table_of_samples.xlsx\")\n",
    "intra02_All2$Sample_ID  <- ifelse(intra02_All2$TimePoint == 1, paste0(intra02_All2$Patient_ID,\"b\"),intra02_All2$Patient_ID)\n",
    "colnames(samples)[2]  <- \"Sample_ID\"\n",
    "intra02_All2  <- left_join(intra02_All2, samples)\n",
    "intra02_All2$Experiment  <- ifelse(is.na(intra02_All2$Experiment), \"Run1\", intra02_All2$Experiment)"
   ]
  },
  {
   "cell_type": "code",
   "execution_count": null,
   "id": "b09d7c51",
   "metadata": {},
   "outputs": [],
   "source": [
    "columns_to_normalize  <- grep(colnames(intra02_All2), pattern = \" \\\\(IkBa\\\\)\")\n",
    "columns_to_normalize2  <- grep(colnames(intra02_All2), pattern = \" \\\\(CXCR4\\\\)\")\n",
    "columns_to_normalize  <- c(columns_to_normalize, columns_to_normalize2)\n",
    "intra02_All2_copy  <- intra02_All2"
   ]
  },
  {
   "cell_type": "code",
   "execution_count": null,
   "id": "b606b750",
   "metadata": {},
   "outputs": [],
   "source": [
    "grep(colnames(intra02_All2), pattern = \" \\\\(IkBa\\\\)\", value = T)"
   ]
  },
  {
   "cell_type": "code",
   "execution_count": null,
   "id": "4d4d9bbb",
   "metadata": {},
   "outputs": [],
   "source": [
    "\n",
    "for(i in columns_to_normalize){\n",
    "   j  <- ncol(intra02_All2_copy)+1\n",
    "     df2  <- intra02_All2_copy  %>% dplyr::select(value = i, batch = Experiment, Condition)\n",
    "    df2$sample_id  <- 1:nrow(df2)\n",
    "    level_batch1 = levels(factor(df2$batch))[1]\n",
    "    level_batch2 = levels(factor(df2$batch))[2]\n",
    "        \n",
    "    min_batch1  <- min(df2  %>% dplyr::filter(batch == level_batch1)  %>% pull(value))\n",
    "    min_batch2  <- min(df2  %>% dplyr::filter(batch == level_batch2)  %>% pull(value))\n",
    "    df2 <- df2  %>%  mutate(norm_value = if_else(batch == level_batch1, \n",
    "                              log(value),\n",
    "                              log(value+5000)))  %>% dplyr::select(norm_value)\n",
    "    \n",
    "    intra02_All2_copy  <- cbind(intra02_All2_copy, df2)\n",
    "    colnames(intra02_All2_copy)[j]  <- paste(\"Norm3.\", colnames(intra02_All2_copy)[i])\n",
    "}"
   ]
  },
  {
   "cell_type": "code",
   "execution_count": null,
   "id": "a31d193b",
   "metadata": {},
   "outputs": [],
   "source": [
    "colnames(intra02_All2_copy)[285]"
   ]
  },
  {
   "cell_type": "code",
   "execution_count": null,
   "id": "7b17e3ad",
   "metadata": {},
   "outputs": [],
   "source": [
    "ncol(intra02_All2_copy)"
   ]
  },
  {
   "cell_type": "code",
   "execution_count": null,
   "id": "1553d1ad",
   "metadata": {},
   "outputs": [],
   "source": [
    "colnames(intra02_All2_copy)"
   ]
  },
  {
   "cell_type": "code",
   "execution_count": null,
   "id": "3ba328ea",
   "metadata": {},
   "outputs": [],
   "source": [
    "for(i in c(336:383)){\n",
    "  \n",
    "  df_filt <- intra02_All2_copy  %>% \n",
    "    filter(Condition != \"1 1\")  %>% \n",
    "    dplyr::select(1:5,285,i,287)\n",
    "  colnames(df_filt) <- c(colnames(df_filt[c(1:6)]), \"value\", \"Experiment\")\n",
    "  df_filt$value <- as.numeric(df_filt$value)\n",
    "\n",
    "plot <- df_filt %>% \n",
    "  ggplot(aes(x = Condition,\n",
    "             y = value)) +\n",
    "   geom_dotplot(binaxis='y', stackdir='center', dotsize = 0) + \n",
    "   geom_boxplot(outlier.shape = NA) +\n",
    "    geom_jitter(binaxis='y', position=position_jitter(width = 0.1, height = 0.01), \n",
    "                size = 3, stackdir='center', aes(color = Experiment)) + \n",
    "  theme_classic() + xlab(\"\") +  \n",
    " xlab(\"\") + ylab(\"Value\") +\n",
    "   scale_y_continuous(expand = expansion(mult = c(0, 0.1))) +\n",
    "  ggpubr::stat_compare_means(label.x = 1.2, label.y.npc = \"top\", size = 5, vjust = 0.3, label = \"p.format\") + \n",
    "      theme(plot.title = element_text(hjust = 0.5, size = 22),\n",
    "          axis.line = element_line(colour = \"black\"), \n",
    "        axis.ticks = element_line(colour = \"black\")) +\n",
    "  #ylim(0,NA)+\n",
    "  plot_annotation(\n",
    "    title = paste(stringr::str_replace_all(string = colnames(intra02_All2_copy)[i], pattern = \"/\", replacement = \"\\n\")) ,\n",
    "    theme = theme(plot.title = element_text(size = 8), plot.subtitle = element_text(size = 8)))\n",
    "\n",
    "  ggsave(paste0(\"../../../Project Diabetes Motol/FACS validation/Final_Analysis_VN/Intracellular02_CD8/05_Results/R_plots/results_2400516_6/\",paste0(\"plot_\",i),\".png\"), \n",
    "         width = 15, height = 12, units = \"cm\")\n",
    "}"
   ]
  },
  {
   "cell_type": "markdown",
   "id": "7bce7efa",
   "metadata": {},
   "source": [
    "### Separated by Experiment"
   ]
  },
  {
   "cell_type": "code",
   "execution_count": null,
   "id": "db76bf62",
   "metadata": {},
   "outputs": [],
   "source": [
    "samples  <- read_xlsx(\"../../../Project Diabetes Motol/FACS validation/240229 Analysis/Diabetes3/table_of_samples.xlsx\")"
   ]
  },
  {
   "cell_type": "code",
   "execution_count": null,
   "id": "0526eb20",
   "metadata": {},
   "outputs": [],
   "source": [
    "intra02_All2$Sample_ID  <- ifelse(intra02_All2$TimePoint == 1, paste0(intra02_All2$Patient_ID,\"b\"),intra02_All2$Patient_ID)"
   ]
  },
  {
   "cell_type": "code",
   "execution_count": null,
   "id": "e28ed194",
   "metadata": {
    "scrolled": true
   },
   "outputs": [],
   "source": [
    "intra02_All2$Sample_ID"
   ]
  },
  {
   "cell_type": "code",
   "execution_count": null,
   "id": "c27a8bfe",
   "metadata": {},
   "outputs": [],
   "source": [
    "colnames(samples)[2]  <- \"Sample_ID\""
   ]
  },
  {
   "cell_type": "code",
   "execution_count": null,
   "id": "eca41bb9",
   "metadata": {
    "scrolled": true
   },
   "outputs": [],
   "source": [
    "samples"
   ]
  },
  {
   "cell_type": "code",
   "execution_count": null,
   "id": "75ba2bf7",
   "metadata": {},
   "outputs": [],
   "source": [
    "intra02_All2  <- left_join(intra02_All2, samples)"
   ]
  },
  {
   "cell_type": "code",
   "execution_count": null,
   "id": "c853a282",
   "metadata": {},
   "outputs": [],
   "source": [
    "intra02_All2"
   ]
  },
  {
   "cell_type": "code",
   "execution_count": null,
   "id": "c826fca2",
   "metadata": {},
   "outputs": [],
   "source": [
    "intra02_All2$Experiment  <- ifelse(is.na(intra02_All2$Experiment), \"Run1\", intra02_All2$Experiment)"
   ]
  },
  {
   "cell_type": "code",
   "execution_count": null,
   "id": "cfebde41",
   "metadata": {},
   "outputs": [],
   "source": [
    "for(i in c(5:72)){\n",
    "  \n",
    "  df_filt <- intra02_All2 %>% \n",
    "    dplyr::select(1:4,73,74,75,i)\n",
    "  colnames(df_filt) <- c(colnames(df_filt[c(1:7)]), \"value\")\n",
    "  df_filt$value <- as.numeric(df_filt$value)\n",
    "\n",
    "plot <- df_filt %>% \n",
    "  ggplot(aes(x = Condition,\n",
    "             y = value)) +\n",
    "   geom_dotplot(binaxis='y', stackdir='center', dotsize = 0) + \n",
    "   geom_boxplot(outlier.shape = NA) +\n",
    "    geom_jitter(binaxis='y', position=position_jitter(width = 0.1, height = 0.01), \n",
    "                size = 3, stackdir='center', aes(color = Condition)) + \n",
    "    facet_wrap(~Experiment) +\n",
    "  theme_classic() + xlab(\"\") +  \n",
    " xlab(\"\") + ylab(\"Value\") +\n",
    "   scale_y_continuous(expand = expansion(mult = c(0, 0.1))) +\n",
    "  ggpubr::stat_compare_means(label.x = 1.2, label.y.npc = \"top\", size = 5, vjust = 0.3, label = \"p.format\") + \n",
    "      theme(plot.title = element_text(hjust = 0.5, size = 22),\n",
    "          axis.line = element_line(colour = \"black\"), \n",
    "        axis.ticks = element_line(colour = \"black\")) +\n",
    "  ylim(0,NA)+\n",
    "  plot_annotation(\n",
    "    title = paste(stringr::str_replace_all(string = colnames(intra02_All2)[i], pattern = \"/\", replacement = \"\\n\")) ,\n",
    "    theme = theme(plot.title = element_text(size = 8), plot.subtitle = element_text(size = 8)))\n",
    "\n",
    "  ggsave(paste0(\"../../../Project Diabetes Motol/FACS validation/Final_Analysis_VN/Intracellular02_CD8/05_Results/R_plots/results_240328_intra02_facet/\",paste0(\"plot_\",i),\".png\"), \n",
    "         width = 25, height = 12, units = \"cm\")\n",
    "}"
   ]
  },
  {
   "cell_type": "code",
   "execution_count": null,
   "id": "06b72655",
   "metadata": {},
   "outputs": [],
   "source": [
    "intra02_All2$Experiment  <- ifelse(is.na(intra02_All2$Experiment), \"Run2\",intra02_All2$Experiment)"
   ]
  },
  {
   "cell_type": "code",
   "execution_count": null,
   "id": "f22e9e36",
   "metadata": {},
   "outputs": [],
   "source": []
  },
  {
   "cell_type": "markdown",
   "id": "c55853f9",
   "metadata": {},
   "source": [
    "### Normalize ikb"
   ]
  },
  {
   "cell_type": "code",
   "execution_count": null,
   "id": "dff56056",
   "metadata": {},
   "outputs": [],
   "source": [
    "fct_normalize_ikb_column  <- function(number_of_column){\n",
    "    i  <- ncol(intra02_All2)+1\n",
    "     df  <- dplyr::select(intra02_All2, i, Experiment)\n",
    "    colnames(df)  <- c(\"value\", \"batch\")\n",
    "    min_batch1  <- df  %>% dplyr::filter(batch == levels(factor(batch))[1])  %>% pull(value)  %>% min\n",
    "    min_batch2  <- df  %>% dplyr::filter(batch == levels(factor(batch))[2])  %>% pull(value)  %>% min\n",
    "    df$norm_value  <- if_else(df$batch == levels(factor(batch))[1], \n",
    "                              value/min_batch1,\n",
    "                              value/min_batch2)\n",
    "    \n",
    "}"
   ]
  },
  {
   "cell_type": "code",
   "execution_count": null,
   "id": "67c75c9a",
   "metadata": {},
   "outputs": [],
   "source": [
    "grep(colnames(intra02_All2), pattern = \"Mean \\\\(IkBa\\\\)\", value = T)"
   ]
  },
  {
   "cell_type": "code",
   "execution_count": null,
   "id": "2b778ebe",
   "metadata": {},
   "outputs": [],
   "source": [
    "grep(colnames(intra02_All2), pattern = \"CXCR4\", value = T)"
   ]
  },
  {
   "cell_type": "code",
   "execution_count": null,
   "id": "5498e275",
   "metadata": {},
   "outputs": [],
   "source": [
    "columns_to_normalize  <- grep(colnames(intra02_All2), pattern = \"Mean \\\\(IkBa\\\\)\")"
   ]
  },
  {
   "cell_type": "code",
   "execution_count": null,
   "id": "1f50d9f3",
   "metadata": {},
   "outputs": [],
   "source": [
    "columns_to_normalize2  <- grep(colnames(intra02_All2), pattern = \"Mean \\\\(CXCR4\\\\)\")"
   ]
  },
  {
   "cell_type": "code",
   "execution_count": null,
   "id": "37184b2a",
   "metadata": {},
   "outputs": [],
   "source": [
    "columns_to_normalize  <- c(columns_to_normalize, columns_to_normalize2)"
   ]
  },
  {
   "cell_type": "code",
   "execution_count": null,
   "id": "b44944e1",
   "metadata": {},
   "outputs": [],
   "source": [
    "intra02_All2_copy  <- intra02_All2"
   ]
  },
  {
   "cell_type": "markdown",
   "id": "e32bbddd",
   "metadata": {},
   "source": [
    "#### Normalization by min of the batch"
   ]
  },
  {
   "cell_type": "code",
   "execution_count": null,
   "id": "69f0b13f",
   "metadata": {},
   "outputs": [],
   "source": [
    "for(i in columns_to_normalize){\n",
    "   j  <- ncol(intra02_All2_copy)+1\n",
    "     df2  <- intra02_All2_copy  %>% dplyr::select(value = i, batch = Experiment)\n",
    "    print(ncol(df2))\n",
    "    print(df2)\n",
    "    level_batch1 = levels(factor(df2$batch))[1]\n",
    "    level_batch2 = levels(factor(df2$batch))[2]\n",
    "     print(level_batch1)\n",
    "    print(level_batch2)\n",
    "    \n",
    "    min_batch1  <- min(df2  %>% dplyr::filter(batch == level_batch1)  %>% pull(value))\n",
    "    min_batch2  <- min(df2  %>% dplyr::filter(batch == level_batch2)  %>% pull(value))\n",
    "    df2 <- df2  %>%  mutate(norm_value = if_else(batch == level_batch1, \n",
    "                              value/min_batch1,\n",
    "                              value/min_batch2))  %>% dplyr::select(norm_value)\n",
    "    \n",
    "    intra02_All2_copy  <- cbind(intra02_All2_copy, df2)\n",
    "    colnames(intra02_All2_copy)[j]  <- paste(\"Norm.\", colnames(intra02_All2_copy)[i])\n",
    "}"
   ]
  },
  {
   "cell_type": "code",
   "execution_count": null,
   "id": "8a9a05e0",
   "metadata": {},
   "outputs": [],
   "source": [
    "intra02_All2_copy"
   ]
  },
  {
   "cell_type": "code",
   "execution_count": null,
   "id": "c17760e6",
   "metadata": {},
   "outputs": [],
   "source": [
    "ncol(intra02_All2_copy)"
   ]
  },
  {
   "cell_type": "code",
   "execution_count": null,
   "id": "a8421204",
   "metadata": {},
   "outputs": [],
   "source": [
    "colnames(intra02_All2_copy)[c(96:107)]"
   ]
  },
  {
   "cell_type": "code",
   "execution_count": null,
   "id": "d2230dad",
   "metadata": {
    "scrolled": true
   },
   "outputs": [],
   "source": [
    "for(i in c(96:107)){\n",
    "  \n",
    "  df_filt <- intra02_All2_copy %>% \n",
    "    dplyr::select(1:5,93,i)\n",
    "  colnames(df_filt) <- c(colnames(df_filt[c(1:6)]), \"value\")\n",
    "  df_filt$value <- as.numeric(df_filt$value)\n",
    "\n",
    "plot <- df_filt %>% \n",
    "  ggplot(aes(x = Condition,\n",
    "             y = value)) +\n",
    "   geom_dotplot(binaxis='y', stackdir='center', dotsize = 0) + \n",
    "   geom_boxplot(outlier.shape = NA) +\n",
    "    geom_jitter(binaxis='y', position=position_jitter(width = 0.1, height = 0.01), \n",
    "                size = 3, stackdir='center', aes(color = Condition)) + \n",
    "  theme_classic() + xlab(\"\") +  \n",
    " xlab(\"\") + ylab(\"Value\") +\n",
    "   scale_y_continuous(expand = expansion(mult = c(0, 0.1))) +\n",
    "  ggpubr::stat_compare_means(label.x = 1.2, label.y.npc = \"top\", size = 5, vjust = 0.3, label = \"p.format\") + \n",
    "      theme(plot.title = element_text(hjust = 0.5, size = 22),\n",
    "          axis.line = element_line(colour = \"black\"), \n",
    "        axis.ticks = element_line(colour = \"black\")) +\n",
    "  ylim(0,NA)+\n",
    "  plot_annotation(\n",
    "    title = paste(stringr::str_replace_all(string = colnames(intra02_All2_copy)[i], pattern = \"/\", replacement = \"\\n\")) ,\n",
    "    theme = theme(plot.title = element_text(size = 8), plot.subtitle = element_text(size = 8)))\n",
    "\n",
    "  ggsave(paste0(\"../../../Project Diabetes Motol/FACS validation/Final_Analysis_VN/Intracellular02_CD8/05_Results/R_plots/results_240515_intra02/\",paste0(\"plot_\",i),\".png\"), \n",
    "         width = 15, height = 12, units = \"cm\")\n",
    "}\n"
   ]
  },
  {
   "cell_type": "markdown",
   "id": "b7e0a5f6",
   "metadata": {},
   "source": [
    "#### Normalization by zscore"
   ]
  },
  {
   "cell_type": "code",
   "execution_count": null,
   "id": "68f8d20a",
   "metadata": {},
   "outputs": [],
   "source": [
    "intra02_All2_copy  <- intra02_All2"
   ]
  },
  {
   "cell_type": "code",
   "execution_count": null,
   "id": "ce1d6764",
   "metadata": {},
   "outputs": [],
   "source": [
    "intra02_All2_copy"
   ]
  },
  {
   "cell_type": "code",
   "execution_count": null,
   "id": "ea461d37",
   "metadata": {},
   "outputs": [],
   "source": [
    "columns_to_normalize  <- grep(colnames(intra02_All2), pattern = \"Mean \\\\(IkBa\\\\)\")\n",
    "columns_to_normalize2  <- grep(colnames(intra02_All2), pattern = \"Mean \\\\(CXCR4\\\\)\")\n",
    "columns_to_normalize  <- c(columns_to_normalize, columns_to_normalize2)"
   ]
  },
  {
   "cell_type": "code",
   "execution_count": null,
   "id": "1cfcbe0a",
   "metadata": {},
   "outputs": [],
   "source": [
    "columns_to_normalize"
   ]
  },
  {
   "cell_type": "code",
   "execution_count": null,
   "id": "67f4f256",
   "metadata": {},
   "outputs": [],
   "source": [
    "grep(colnames(intra02_All2), pattern = \"Mean \\\\(IkBa\\\\)\", value = T)"
   ]
  },
  {
   "cell_type": "code",
   "execution_count": null,
   "id": "30ac3896",
   "metadata": {
    "scrolled": true
   },
   "outputs": [],
   "source": [
    "for(i in columns_to_normalize){\n",
    "   j  <- ncol(intra02_All2_copy)+1\n",
    "     df2  <- intra02_All2_copy  %>% dplyr::select(value = i, batch = Experiment)\n",
    "    df2$sample_id  <- 1:nrow(df2)\n",
    "    level_batch1 = levels(factor(df2$batch))[1]\n",
    "    level_batch2 = levels(factor(df2$batch))[2]\n",
    "        \n",
    "    df2_1  <- df2  %>% dplyr::filter(batch == level_batch1)\n",
    "    df2_2  <- df2  %>% dplyr::filter(batch == level_batch2)\n",
    "    \n",
    "    df2_1$norm_value  <- 2/(max(df2_1$value)-min(df2_1$value))*(df2_1$value-max(df2_1$value))+1\n",
    "    df2_2$norm_value  <- 2/(max(df2_2$value)-min(df2_2$value))*(df2_2$value-max(df2_2$value))+1\n",
    "    \n",
    "    df2_3  <- rbind(df2_1, df2_2)  %>% dplyr::select(sample_id, norm_value)\n",
    "    df2  <- df2  %>% left_join(df2_3)  %>% dplyr::select(norm_value)\n",
    "    intra02_All2_copy  <- cbind(intra02_All2_copy, df2)\n",
    "    colnames(intra02_All2_copy)[j]  <- paste(\"Norm.\", colnames(intra02_All2_copy)[i])\n",
    "}"
   ]
  },
  {
   "cell_type": "code",
   "execution_count": null,
   "id": "f7913a3d",
   "metadata": {},
   "outputs": [],
   "source": [
    "intra02_All2_copy"
   ]
  },
  {
   "cell_type": "code",
   "execution_count": null,
   "id": "49e7d2f2",
   "metadata": {},
   "outputs": [],
   "source": [
    "ncol(intra02_All2_copy)"
   ]
  },
  {
   "cell_type": "code",
   "execution_count": null,
   "id": "961190d8",
   "metadata": {},
   "outputs": [],
   "source": [
    "colnames(intra02_All2_copy)[257]"
   ]
  },
  {
   "cell_type": "code",
   "execution_count": null,
   "id": "9c403397",
   "metadata": {},
   "outputs": [],
   "source": [
    "for(i in c(258:323)){\n",
    "  \n",
    "  df_filt <- intra02_All2_copy %>% \n",
    "    dplyr::select(1:5,255,i)\n",
    "  colnames(df_filt) <- c(colnames(df_filt[c(1:6)]), \"value\")\n",
    "  df_filt$value <- as.numeric(df_filt$value)\n",
    "\n",
    "plot <- df_filt %>% \n",
    "  ggplot(aes(x = Condition,\n",
    "             y = value)) +\n",
    "   geom_dotplot(binaxis='y', stackdir='center', dotsize = 0) + \n",
    "   geom_boxplot(outlier.shape = NA) +\n",
    "    geom_jitter(binaxis='y', position=position_jitter(width = 0.1, height = 0.01), \n",
    "                size = 3, stackdir='center', aes(color = Condition)) + \n",
    "  theme_classic() + xlab(\"\") +  \n",
    " xlab(\"\") + ylab(\"Value\") +\n",
    "   scale_y_continuous(expand = expansion(mult = c(0, 0.1))) +\n",
    "  ggpubr::stat_compare_means(label.x = 1.2, label.y.npc = \"top\", size = 5, vjust = 0.3, label = \"p.format\") + \n",
    "      theme(plot.title = element_text(hjust = 0.5, size = 22),\n",
    "          axis.line = element_line(colour = \"black\"), \n",
    "        axis.ticks = element_line(colour = \"black\")) +\n",
    "  #ylim(0,NA)+\n",
    "  plot_annotation(\n",
    "    title = paste(stringr::str_replace_all(string = colnames(intra02_All2_copy)[i], pattern = \"/\", replacement = \"\\n\")) ,\n",
    "    theme = theme(plot.title = element_text(size = 8), plot.subtitle = element_text(size = 8)))\n",
    "\n",
    "  ggsave(paste0(\"../../../Project Diabetes Motol/FACS validation/Final_Analysis_VN/Intracellular02_CD8/05_Results/R_plots/results_2400516/\",paste0(\"plot_\",i),\".png\"), \n",
    "         width = 15, height = 12, units = \"cm\")\n",
    "}"
   ]
  },
  {
   "cell_type": "markdown",
   "id": "496a47ab",
   "metadata": {},
   "source": [
    "## Version 04"
   ]
  },
  {
   "cell_type": "code",
   "execution_count": null,
   "id": "19eb8e5a",
   "metadata": {},
   "outputs": [],
   "source": [
    "intra02_files  <- list.files(\"../../../Project Diabetes Motol/FACS validation/Final_Analysis_VN/Intracellular02_CD8/05_Results/Tables/\",\n",
    "                          full.names = TRUE)"
   ]
  },
  {
   "cell_type": "code",
   "execution_count": null,
   "id": "3890f9f2",
   "metadata": {},
   "outputs": [],
   "source": [
    "intra02_All2  <- read_xlsx(intra02_files[5])"
   ]
  },
  {
   "cell_type": "code",
   "execution_count": null,
   "id": "100cc841",
   "metadata": {},
   "outputs": [],
   "source": [
    "intra02_All2$Condition  <- paste(intra02_All2$Disease, intra02_All2$TimePoint)"
   ]
  },
  {
   "cell_type": "code",
   "execution_count": null,
   "id": "bb294819",
   "metadata": {},
   "outputs": [],
   "source": [
    "samples  <- read_xlsx(\"../../../Project Diabetes Motol/FACS validation/240229 Analysis/Diabetes3/table_of_samples.xlsx\")\n",
    "intra02_All2$Sample_ID  <- ifelse(intra02_All2$TimePoint == 1, paste0(intra02_All2$Patient_ID,\"b\"),intra02_All2$Patient_ID)\n",
    "colnames(samples)[2]  <- \"Sample_ID\"\n",
    "intra02_All2  <- left_join(intra02_All2, samples)\n",
    "intra02_All2$Experiment  <- ifelse(is.na(intra02_All2$Experiment), \"Run1\", intra02_All2$Experiment)"
   ]
  },
  {
   "cell_type": "code",
   "execution_count": null,
   "id": "fa6cfee6",
   "metadata": {},
   "outputs": [],
   "source": [
    "intra02_All2"
   ]
  },
  {
   "cell_type": "code",
   "execution_count": null,
   "id": "5b6911f2",
   "metadata": {},
   "outputs": [],
   "source": [
    "ncol(intra02_All2)"
   ]
  },
  {
   "cell_type": "code",
   "execution_count": null,
   "id": "5bcf0358",
   "metadata": {
    "scrolled": true
   },
   "outputs": [],
   "source": [
    "for(i in c(6:15)){\n",
    "  \n",
    "  df_filt <- intra02_All2 %>% \n",
    "  #  dplyr::filter(Condition != \"1 1\")  %>% \n",
    "    dplyr::select(1:5,16,18,i)\n",
    "  colnames(df_filt) <- c(colnames(df_filt[c(1:7)]), \"value\")\n",
    "  df_filt$value <- as.numeric(df_filt$value)\n",
    "\n",
    "plot <- df_filt %>% \n",
    "  ggplot(aes(x = Condition,\n",
    "             y = value)) +\n",
    "   geom_dotplot(binaxis='y', stackdir='center', dotsize = 0) + \n",
    "   geom_boxplot(outlier.shape = NA) +\n",
    "    geom_jitter(binaxis='y', position=position_jitter(width = 0.1, height = 0.01), \n",
    "                size = 3, stackdir='center', aes(color = Experiment)) + \n",
    "    #facet_wrap(~Experiment) +\n",
    "  theme_classic() + xlab(\"\") +  \n",
    " xlab(\"\") + ylab(\"Value\") +\n",
    "   scale_y_continuous(expand = expansion(mult = c(0, 0.1))) +\n",
    "  ggpubr::stat_compare_means(label.x = 1.2, label.y.npc = \"top\", size = 5, vjust = 0.3, label = \"p.format\") + \n",
    "      theme(plot.title = element_text(hjust = 0.5, size = 22),\n",
    "          axis.line = element_line(colour = \"black\"), \n",
    "        axis.ticks = element_line(colour = \"black\")) +\n",
    "  ylim(0,NA)+\n",
    "  plot_annotation(\n",
    "    title = paste(stringr::str_replace_all(string = colnames(intra02_All2)[i], pattern = \"/\", replacement = \"\\n\")) ,\n",
    "    theme = theme(plot.title = element_text(size = 8), plot.subtitle = element_text(size = 8)))\n",
    "\n",
    "    ggsave(paste0(\"../../../Project Diabetes Motol/FACS validation/Final_Analysis_VN/Intracellular02_CD8/05_Results/R_plots/results_2400516_v10/\",paste0(\"plot_\",i),\".png\"), \n",
    "         width = 15, height = 12, units = \"cm\")\n",
    "}\n"
   ]
  },
  {
   "cell_type": "markdown",
   "id": "46e0cedf",
   "metadata": {},
   "source": [
    "### Plots for figure"
   ]
  },
  {
   "cell_type": "code",
   "execution_count": null,
   "id": "cac2ef33",
   "metadata": {},
   "outputs": [],
   "source": [
    "for(i in c(6:15)){\n",
    "df_filt <- intra02_All2 %>% \n",
    "  #  dplyr::filter(Condition != \"1 1\")  %>% \n",
    "    dplyr::select(1:5,16,18,i)\n",
    "  colnames(df_filt) <- c(colnames(df_filt[c(1:7)]), \"value\")\n",
    "  df_filt$value <- as.numeric(df_filt$value)\n",
    "\n",
    "plot <- df_filt %>% \n",
    "  ggplot(aes(x = Condition,\n",
    "             y = value)) +\n",
    "geom_violin(alpha = 0.3, aes(fill = Condition), scale = \"width\") + \n",
    "stat_summary(fun = \"median\",\n",
    "               geom = \"crossbar\", \n",
    "               width = 0.75,\n",
    "               color = \"grey30\") +\n",
    "geom_beeswarm(size = 3, aes(fill = Condition), cex = 3, \n",
    "                shape = 21, color = \"black\", corral = \"random\") +\n",
    " stat_compare_means(label = \"p.format\")+\n",
    "scale_fill_manual(values = c(\"#1874cdff\",  \"#ee6363ff\", \"#c41515ff\",\"#eeb4b4ff\")) +\n",
    "scale_color_manual(values = c(\"dodgerblue3\",  \"#e54c4cff\", \"#aa2a2aff\",\"#e88989ff\")) +\n",
    "ylab(\"\") +\n",
    "  xlab(\"\") +\n",
    "  ylim(0,NA) +\n",
    "  theme_classic() +\n",
    "theme(strip.background = element_blank(), panel.grid = element_blank()) + \n",
    "  theme(axis.text = element_text(color = \"black\"),\n",
    "        axis.text.x = element_text(angle = 90),\n",
    "       axis.line = element_line(color = \"black\", size = 0.5),\n",
    "        axis.ticks.x = element_blank()) +\n",
    "  ylim(0,NA)+\n",
    "  plot_annotation(\n",
    "    title = paste(stringr::str_replace_all(string = colnames(intra02_All2)[i], pattern = \"/\", replacement = \"\\n\")) ,\n",
    "    theme = theme(plot.title = element_text(size = 8), \n",
    "                  plot.subtitle = element_text(size = 8),\n",
    "                 axis.text.x = element_blank())) + ggtheme() + NoLegend()\n",
    "    \n",
    "  ggsave(paste0(\"../../../Project Diabetes Motol/FACS validation/Final_Analysis_VN/Intracellular02_CD8/05_Results/R_plots/results_2400516_v10_figure/\",paste0(\"plot_\",i),\".png\"), \n",
    "         width = 7.5, height = 10, units = \"cm\")\n",
    "    ggsave(paste0(\"../../../Project Diabetes Motol/FACS validation/Final_Analysis_VN/Intracellular02_CD8/05_Results/R_plots/results_2400516_v10_figure/\",paste0(\"plot_\",i),\".svg\"), \n",
    "         width = 7.5, height = 10, units = \"cm\")\n",
    "}"
   ]
  },
  {
   "cell_type": "code",
   "execution_count": null,
   "id": "1204cf6d",
   "metadata": {},
   "outputs": [],
   "source": [
    "columns_to_normalize  <- grep(colnames(intra02_All2), pattern = \" \\\\(IkBa\\\\)\")\n",
    "columns_to_normalize2  <- grep(colnames(intra02_All2), pattern = \" \\\\(CXCR4\\\\)\")\n",
    "columns_to_normalize  <- c(columns_to_normalize, columns_to_normalize2)\n",
    "intra02_All2_copy  <- intra02_All2"
   ]
  },
  {
   "cell_type": "code",
   "execution_count": null,
   "id": "188c8a90",
   "metadata": {},
   "outputs": [],
   "source": [
    "grep(colnames(intra02_All2), pattern = \" \\\\(IkBa\\\\)\", value = T)"
   ]
  },
  {
   "cell_type": "code",
   "execution_count": null,
   "id": "2974237d",
   "metadata": {},
   "outputs": [],
   "source": [
    "columns_to_normalize"
   ]
  },
  {
   "cell_type": "code",
   "execution_count": null,
   "id": "043dc9b3",
   "metadata": {},
   "outputs": [],
   "source": [
    "\n",
    "for(i in columns_to_normalize){\n",
    "   j  <- ncol(intra02_All2_copy)+1\n",
    "     df2  <- intra02_All2_copy  %>% dplyr::select(value = i, batch = Experiment, Condition)\n",
    "    df2$sample_id  <- 1:nrow(df2)\n",
    "    level_batch1 = levels(factor(df2$batch))[1]\n",
    "    level_batch2 = levels(factor(df2$batch))[2]\n",
    "        \n",
    "    min_batch1  <- min(df2  %>% dplyr::filter(batch == level_batch1)  %>% pull(value))\n",
    "    min_batch2  <- min(df2  %>% dplyr::filter(batch == level_batch2)  %>% pull(value))\n",
    "    df2 <- df2  %>%  mutate(norm_value = if_else(batch == level_batch1, \n",
    "                              log(value),\n",
    "                              log(value+5000)))  %>% dplyr::select(norm_value)\n",
    "    \n",
    "    intra02_All2_copy  <- cbind(intra02_All2_copy, df2)\n",
    "    colnames(intra02_All2_copy)[j]  <- paste(\"Norm3.\", colnames(intra02_All2_copy)[i])\n",
    "}"
   ]
  },
  {
   "cell_type": "code",
   "execution_count": null,
   "id": "cbfcc253",
   "metadata": {},
   "outputs": [],
   "source": [
    "colnames(intra02_All2_copy)"
   ]
  },
  {
   "cell_type": "code",
   "execution_count": null,
   "id": "4b0e4254",
   "metadata": {},
   "outputs": [],
   "source": [
    "ncol(intra02_All2_copy)"
   ]
  },
  {
   "cell_type": "code",
   "execution_count": null,
   "id": "fcd8747b",
   "metadata": {},
   "outputs": [],
   "source": [
    "colnames(intra02_All2_copy)"
   ]
  },
  {
   "cell_type": "code",
   "execution_count": null,
   "id": "47a55565",
   "metadata": {},
   "outputs": [],
   "source": [
    "for(i in c(70:81)){\n",
    "  \n",
    "  df_filt <- intra02_All2_copy  %>% \n",
    "       dplyr::select(1:5,67,69,i)\n",
    "  colnames(df_filt) <- c(colnames(df_filt[c(1:7)]), \"value\")\n",
    "  df_filt$value <- as.numeric(df_filt$value)\n",
    "\n",
    "plot <- df_filt %>% \n",
    "  ggplot(aes(x = Condition,\n",
    "             y = value)) +\n",
    "   geom_dotplot(binaxis='y', stackdir='center', dotsize = 0) + \n",
    "   geom_boxplot(outlier.shape = NA) +\n",
    "    geom_jitter(binaxis='y', position=position_jitter(width = 0.1, height = 0.01), \n",
    "                size = 3, stackdir='center', aes(color = Experiment)) + \n",
    "  theme_classic() + xlab(\"\") +  \n",
    " xlab(\"\") + ylab(\"Value\") +\n",
    "   scale_y_continuous(expand = expansion(mult = c(0, 0.1))) +\n",
    "  ggpubr::stat_compare_means(label.x = 1.2, label.y.npc = \"top\", size = 5, vjust = 0.3, label = \"p.format\") + \n",
    "      theme(plot.title = element_text(hjust = 0.5, size = 22),\n",
    "          axis.line = element_line(colour = \"black\"), \n",
    "        axis.ticks = element_line(colour = \"black\")) +\n",
    "  #ylim(0,NA)+\n",
    "  plot_annotation(\n",
    "    title = paste(stringr::str_replace_all(string = colnames(intra02_All2_copy)[i], pattern = \"/\", replacement = \"\\n\")) ,\n",
    "    theme = theme(plot.title = element_text(size = 8), plot.subtitle = element_text(size = 8)))\n",
    "\n",
    " ggsave(paste0(\"../../../Project Diabetes Motol/FACS validation/Final_Analysis_VN/Intracellular02_CD8/05_Results/R_plots/results_2400516_v9/\",paste0(\"plot_\",i),\".png\"), \n",
    "         width = 15, height = 12, units = \"cm\")\n",
    "}"
   ]
  },
  {
   "cell_type": "markdown",
   "id": "f007ce3a",
   "metadata": {},
   "source": [
    "### Separated by Experiment"
   ]
  },
  {
   "cell_type": "code",
   "execution_count": null,
   "id": "4c2b3f16",
   "metadata": {},
   "outputs": [],
   "source": [
    "samples  <- read_xlsx(\"../../../Project Diabetes Motol/FACS validation/240229 Analysis/Diabetes3/table_of_samples.xlsx\")"
   ]
  },
  {
   "cell_type": "code",
   "execution_count": null,
   "id": "1fa09056",
   "metadata": {},
   "outputs": [],
   "source": [
    "intra02_All2$Sample_ID  <- ifelse(intra02_All2$TimePoint == 1, paste0(intra02_All2$Patient_ID,\"b\"),intra02_All2$Patient_ID)"
   ]
  },
  {
   "cell_type": "code",
   "execution_count": null,
   "id": "b3a10576",
   "metadata": {
    "scrolled": true
   },
   "outputs": [],
   "source": [
    "intra02_All2$Sample_ID"
   ]
  },
  {
   "cell_type": "code",
   "execution_count": null,
   "id": "25d40faf",
   "metadata": {},
   "outputs": [],
   "source": [
    "colnames(samples)[2]  <- \"Sample_ID\""
   ]
  },
  {
   "cell_type": "code",
   "execution_count": null,
   "id": "a4f3b7f5",
   "metadata": {
    "scrolled": true
   },
   "outputs": [],
   "source": [
    "samples"
   ]
  },
  {
   "cell_type": "code",
   "execution_count": null,
   "id": "06a82ba0",
   "metadata": {},
   "outputs": [],
   "source": [
    "intra02_All2  <- left_join(intra02_All2, samples)"
   ]
  },
  {
   "cell_type": "code",
   "execution_count": null,
   "id": "83122e3a",
   "metadata": {},
   "outputs": [],
   "source": [
    "intra02_All2"
   ]
  },
  {
   "cell_type": "code",
   "execution_count": null,
   "id": "87297862",
   "metadata": {},
   "outputs": [],
   "source": [
    "intra02_All2$Experiment  <- ifelse(is.na(intra02_All2$Experiment), \"Run1\", intra02_All2$Experiment)"
   ]
  },
  {
   "cell_type": "code",
   "execution_count": null,
   "id": "1c4cd080",
   "metadata": {},
   "outputs": [],
   "source": [
    "for(i in c(5:72)){\n",
    "  \n",
    "  df_filt <- intra02_All2 %>% \n",
    "    dplyr::select(1:4,73,74,75,i)\n",
    "  colnames(df_filt) <- c(colnames(df_filt[c(1:7)]), \"value\")\n",
    "  df_filt$value <- as.numeric(df_filt$value)\n",
    "\n",
    "plot <- df_filt %>% \n",
    "  ggplot(aes(x = Condition,\n",
    "             y = value)) +\n",
    "   geom_dotplot(binaxis='y', stackdir='center', dotsize = 0) + \n",
    "   geom_boxplot(outlier.shape = NA) +\n",
    "    geom_jitter(binaxis='y', position=position_jitter(width = 0.1, height = 0.01), \n",
    "                size = 3, stackdir='center', aes(color = Condition)) + \n",
    "    facet_wrap(~Experiment) +\n",
    "  theme_classic() + xlab(\"\") +  \n",
    " xlab(\"\") + ylab(\"Value\") +\n",
    "   scale_y_continuous(expand = expansion(mult = c(0, 0.1))) +\n",
    "  ggpubr::stat_compare_means(label.x = 1.2, label.y.npc = \"top\", size = 5, vjust = 0.3, label = \"p.format\") + \n",
    "      theme(plot.title = element_text(hjust = 0.5, size = 22),\n",
    "          axis.line = element_line(colour = \"black\"), \n",
    "        axis.ticks = element_line(colour = \"black\")) +\n",
    "  ylim(0,NA)+\n",
    "  plot_annotation(\n",
    "    title = paste(stringr::str_replace_all(string = colnames(intra02_All2)[i], pattern = \"/\", replacement = \"\\n\")) ,\n",
    "    theme = theme(plot.title = element_text(size = 8), plot.subtitle = element_text(size = 8)))\n",
    "\n",
    "  ggsave(paste0(\"../../../Project Diabetes Motol/FACS validation/Final_Analysis_VN/Intracellular02_CD8/05_Results/R_plots/results_240328_intra02_facet/\",paste0(\"plot_\",i),\".png\"), \n",
    "         width = 25, height = 12, units = \"cm\")\n",
    "}"
   ]
  },
  {
   "cell_type": "code",
   "execution_count": null,
   "id": "ca04788d",
   "metadata": {},
   "outputs": [],
   "source": [
    "intra02_All2$Experiment  <- ifelse(is.na(intra02_All2$Experiment), \"Run2\",intra02_All2$Experiment)"
   ]
  },
  {
   "cell_type": "code",
   "execution_count": null,
   "id": "122042dc",
   "metadata": {},
   "outputs": [],
   "source": []
  },
  {
   "cell_type": "markdown",
   "id": "c68bc359",
   "metadata": {},
   "source": [
    "### Normalize ikb"
   ]
  },
  {
   "cell_type": "code",
   "execution_count": null,
   "id": "4ef0901f",
   "metadata": {},
   "outputs": [],
   "source": [
    "intra02_All2_copy"
   ]
  },
  {
   "cell_type": "code",
   "execution_count": null,
   "id": "d7a46fb2",
   "metadata": {},
   "outputs": [],
   "source": [
    "for(i in c()){\n",
    "    i  <- ncol(intra02_All2_copy)+1\n",
    "     df  <- dplyr::select(intra02_All2_copy, i, Experiment)\n",
    "    colnames(df)  <- c(\"value\", \"batch\")\n",
    "    min_batch1  <- df  %>% dplyr::filter(batch == levels(factor(batch))[1])  %>% pull(value)  %>% min\n",
    "    min_batch2  <- df  %>% dplyr::filter(batch == levels(factor(batch))[2])  %>% pull(value)  %>% min\n",
    "    df$norm_value  <- if_else(df$batch == levels(factor(batch))[1], \n",
    "                              value/min_batch1,\n",
    "                              value/min_batch2)\n",
    "    intra02_All2_copy  <- cbind(intra02_All2_copy, df2)\n",
    "    colnames(intra02_All2_copy)[j]  <- paste(\"Norm.\", colnames(intra02_All2_copy)[i])\n",
    "    \n",
    "}"
   ]
  },
  {
   "cell_type": "code",
   "execution_count": null,
   "id": "6ffda626",
   "metadata": {
    "scrolled": true
   },
   "outputs": [],
   "source": [
    "grep(colnames(intra02_All2), pattern = \"Mean \\\\(IkBa\\\\)\", value = T)"
   ]
  },
  {
   "cell_type": "code",
   "execution_count": null,
   "id": "de429e80",
   "metadata": {
    "scrolled": true
   },
   "outputs": [],
   "source": [
    "grep(colnames(intra02_All2), pattern = \"CXCR4\", value = T)"
   ]
  },
  {
   "cell_type": "code",
   "execution_count": null,
   "id": "5207802a",
   "metadata": {},
   "outputs": [],
   "source": [
    "columns_to_normalize  <- grep(colnames(intra02_All2), pattern = \"Mean \\\\(IkBa\\\\)\")"
   ]
  },
  {
   "cell_type": "code",
   "execution_count": null,
   "id": "d5566472",
   "metadata": {},
   "outputs": [],
   "source": [
    "columns_to_normalize2  <- grep(colnames(intra02_All2), pattern = \"Mean \\\\(CXCR4\\\\)\")"
   ]
  },
  {
   "cell_type": "code",
   "execution_count": null,
   "id": "cb8ab6b9",
   "metadata": {},
   "outputs": [],
   "source": [
    "columns_to_normalize  <- c(columns_to_normalize, columns_to_normalize2)"
   ]
  },
  {
   "cell_type": "code",
   "execution_count": null,
   "id": "ec2cca6d",
   "metadata": {},
   "outputs": [],
   "source": [
    "intra02_All2_copy  <- intra02_All2"
   ]
  },
  {
   "cell_type": "code",
   "execution_count": null,
   "id": "8d34df1d",
   "metadata": {},
   "outputs": [],
   "source": []
  },
  {
   "cell_type": "markdown",
   "id": "4e2f1bfa",
   "metadata": {},
   "source": [
    "## Correlation with metadata sort PCT"
   ]
  },
  {
   "cell_type": "code",
   "execution_count": null,
   "id": "fe07e08d",
   "metadata": {},
   "outputs": [],
   "source": [
    "md  <- read_xlsx(\"../data/metadata_v05.xlsx\")"
   ]
  },
  {
   "cell_type": "code",
   "execution_count": null,
   "id": "bc20426b",
   "metadata": {
    "scrolled": true
   },
   "outputs": [],
   "source": [
    "md"
   ]
  },
  {
   "cell_type": "code",
   "execution_count": null,
   "id": "9b7d3e0b",
   "metadata": {},
   "outputs": [],
   "source": [
    "high_dim6$Patient_Time  <- paste(high_dim6$PatientID, high_dim6$Time)"
   ]
  },
  {
   "cell_type": "code",
   "execution_count": null,
   "id": "00362b55",
   "metadata": {},
   "outputs": [],
   "source": [
    "high_dim7  <- left_join(high_dim6, md)"
   ]
  },
  {
   "cell_type": "code",
   "execution_count": null,
   "id": "3fe0a2b7",
   "metadata": {},
   "outputs": [],
   "source": [
    "high_dim7"
   ]
  },
  {
   "cell_type": "code",
   "execution_count": null,
   "id": "95136cf1",
   "metadata": {},
   "outputs": [],
   "source": [
    "df2  <- data.frame(facs_cd4_eff = high_dim7$`CD3+/TCRgd-/CD4+/Eff `,\n",
    "                   sort_cd4_eff = high_dim7$pct_eff_of_CD4,\n",
    "                   facs_cd8_eff = high_dim7$`CD3+/TCRgd-/CD8+/Eff `,\n",
    "                   sort_cd8_eff = high_dim7$pct_eff_of_CD8,\n",
    "                   facs_cd4_naive = high_dim7$`CD3+/TCRgd-/CD4+/Naive `,\n",
    "                   sort_cd4_naive = high_dim7$pct_naive_of_CD4,\n",
    "                   facs_cd8_naive = high_dim7$`CD3+/TCRgd-/CD8+/Naive `,\n",
    "                   sort_cd8_naive = high_dim7$pct_naive_of_CD8,\n",
    "                   Patient_Time = high_dim7$Patient_Time\n",
    "                   )"
   ]
  },
  {
   "cell_type": "code",
   "execution_count": null,
   "id": "6fc37ef3",
   "metadata": {},
   "outputs": [],
   "source": [
    "options(repr.plot.width = 6, repr.plot.height = 6)\n",
    " df2 %>%  ggplot(aes(x=facs_cd4_eff, y=sort_cd4_eff)) +\n",
    "  geom_point(shape = 16, size = 2) +\n",
    "  geom_smooth(method=lm, alpha = 0.2) + ggtitle(\"Sort CD4 eff. vs FACS CD4 eff.\") + \n",
    "stat_cor(size = 7) + theme_classic() + ggtheme() \n"
   ]
  },
  {
   "cell_type": "code",
   "execution_count": null,
   "id": "524f5602",
   "metadata": {},
   "outputs": [],
   "source": [
    "options(repr.plot.width = 6, repr.plot.height = 6)\n",
    " df2 %>%  ggplot(aes(x=facs_cd8_eff, y=sort_cd8_eff)) +\n",
    "  geom_point(shape = 16, size = 2) +\n",
    "  geom_smooth(method=lm, alpha = 0.2) + ggtitle(\"Sort CD8 eff. vs FACS CD8 eff.\") + \n",
    "stat_cor(size = 7) + theme_classic() + ggtheme() \n"
   ]
  },
  {
   "cell_type": "code",
   "execution_count": null,
   "id": "286121bc",
   "metadata": {},
   "outputs": [],
   "source": [
    "options(repr.plot.width = 6, repr.plot.height = 6)\n",
    " df2 %>%  ggplot(aes(x=facs_cd8_naive, y=sort_cd8_naive)) +\n",
    "  geom_point(shape = 16, size = 2) +\n",
    "  geom_smooth(method=lm, alpha = 0.2) + ggtitle(\"Sort CD8 naive vs FACS CD8 naive\") + \n",
    "stat_cor(size = 7) + theme_classic() + ggtheme() \n"
   ]
  },
  {
   "cell_type": "code",
   "execution_count": null,
   "id": "b2485aee",
   "metadata": {},
   "outputs": [],
   "source": [
    "options(repr.plot.width = 6, repr.plot.height = 6)\n",
    " df2 %>%  ggplot(aes(x=facs_cd4_naive, y=sort_cd4_naive)) +\n",
    "  geom_point(shape = 16, size = 2) +\n",
    "  geom_smooth(method=lm, alpha = 0.2) + ggtitle(\"Sort CD4 naive vs FACS CD4 naive\") + \n",
    "stat_cor(size = 7) + theme_classic() + ggtheme() \n"
   ]
  },
  {
   "cell_type": "markdown",
   "id": "026b3087",
   "metadata": {},
   "source": [
    "## Correlation with scRNAseq frequencies"
   ]
  },
  {
   "cell_type": "code",
   "execution_count": null,
   "id": "5ae0168e",
   "metadata": {},
   "outputs": [],
   "source": [
    "population_freq  <- read_csv(\"../tables/populations_freq/freq_for_model_cd4.csv\")"
   ]
  },
  {
   "cell_type": "code",
   "execution_count": null,
   "id": "c1363310",
   "metadata": {},
   "outputs": [],
   "source": [
    "population_freq$prelim_final  <- ifelse(population_freq$Experiment_ID %in% c(\"Exp10\", \"Exp11\"), \"Prelim\", \"Final\")"
   ]
  },
  {
   "cell_type": "code",
   "execution_count": null,
   "id": "20355369",
   "metadata": {
    "scrolled": true
   },
   "outputs": [],
   "source": [
    "freq_cd4_naive  <- population_freq  %>% dplyr::filter(Level == \"l2\" & grepl(annotations_manual, pattern = \"Naive\"))  %>% \n",
    "dplyr::select(annotations_manual, Level, freq, Patient_ID, Time, prelim_final)  %>% unique  %>% \n",
    "mutate(Patient_Time = paste(Patient_ID, Time))"
   ]
  },
  {
   "cell_type": "code",
   "execution_count": null,
   "id": "e08f1723",
   "metadata": {},
   "outputs": [],
   "source": [
    "df2  <-  df2  %>% left_join(freq_cd4_naive)"
   ]
  },
  {
   "cell_type": "code",
   "execution_count": null,
   "id": "0d1d5f05",
   "metadata": {},
   "outputs": [],
   "source": [
    "options(repr.plot.width = 8, repr.plot.height = 6)\n",
    "\n",
    "df2 %>%  ggplot(aes(x=facs_cd4_naive, y=freq)) +\n",
    "  geom_point(shape = 16, size = 2, aes(color = prelim_final)) +\n",
    "  geom_smooth(method=lm, alpha = 0.2) + ggtitle(\"scRNAseq CD4 naive vs FACS CD4 naive\") + \n",
    "stat_cor(size = 7) + theme_classic() + ggtheme() "
   ]
  },
  {
   "cell_type": "code",
   "execution_count": null,
   "id": "6289eb2e",
   "metadata": {},
   "outputs": [],
   "source": [
    "options(repr.plot.width = 8, repr.plot.height = 6)\n",
    " df2 %>%  ggplot(aes(x=sort_cd4_naive, y=freq)) +\n",
    "  geom_point(shape = 16, size = 2, aes(color = prelim_final)) +\n",
    "  geom_smooth(method=lm, alpha = 0.2) + ggtitle(\"scRNAseq CD4 naive vs sort CD4 naive\") + \n",
    "stat_cor(size = 7) + theme_classic() + ggtheme()"
   ]
  },
  {
   "cell_type": "code",
   "execution_count": null,
   "id": "84a2243a",
   "metadata": {},
   "outputs": [],
   "source": [
    "# Correlation of gd"
   ]
  }
 ],
 "metadata": {
  "kernelspec": {
   "display_name": "R",
   "language": "R",
   "name": "ir"
  },
  "language_info": {
   "codemirror_mode": "r",
   "file_extension": ".r",
   "mimetype": "text/x-r-source",
   "name": "R",
   "pygments_lexer": "r",
   "version": "4.4.2"
  },
  "toc": {
   "base_numbering": 1,
   "nav_menu": {},
   "number_sections": true,
   "sideBar": true,
   "skip_h1_title": false,
   "title_cell": "Table of Contents",
   "title_sidebar": "Contents",
   "toc_cell": false,
   "toc_position": {
    "height": "calc(100% - 180px)",
    "left": "10px",
    "top": "150px",
    "width": "312.25px"
   },
   "toc_section_display": true,
   "toc_window_display": true
  }
 },
 "nbformat": 4,
 "nbformat_minor": 5
}
