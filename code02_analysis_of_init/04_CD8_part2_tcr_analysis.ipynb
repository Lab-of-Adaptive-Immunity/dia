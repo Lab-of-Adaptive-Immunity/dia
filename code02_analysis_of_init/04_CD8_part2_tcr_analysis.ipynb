{
 "cells": [
  {
   "cell_type": "markdown",
   "metadata": {},
   "source": [
    "# Part 4: Analysis of TCR repertoires in CD8 T cells"
   ]
  },
  {
   "cell_type": "markdown",
   "metadata": {},
   "source": [
    "In this notebook, we will focus on analysis of TCR repertoires from the CD8 T cells. "
   ]
  },
  {
   "cell_type": "code",
   "execution_count": null,
   "metadata": {},
   "outputs": [],
   "source": [
    ".libPaths(\"~/R/x86_64-pc-linux-gnu-library/4.4/\")\n",
    "source(\"diabetes_analysis_v07.R\")"
   ]
  },
  {
   "cell_type": "markdown",
   "metadata": {},
   "source": [
    "The first part will be performed on the full dataset, i.e., including unconventional cells. "
   ]
  },
  {
   "cell_type": "markdown",
   "id": "0e21d244",
   "metadata": {},
   "source": [
    "# Full dataset"
   ]
  },
  {
   "cell_type": "markdown",
   "metadata": {},
   "source": [
    "Load the full CD8 dataset. "
   ]
  },
  {
   "cell_type": "code",
   "execution_count": null,
   "metadata": {},
   "outputs": [],
   "source": [
    "cd8_l1_full_filt  <- readRDS(\"../data/processed/L1/cd8_l1_full_filt.rds\")"
   ]
  },
  {
   "cell_type": "markdown",
   "id": "99e25550",
   "metadata": {},
   "source": [
    "## TCR analysis"
   ]
  },
  {
   "cell_type": "markdown",
   "metadata": {},
   "source": [
    "For repertoire analyses, we will now work only with the metadata. "
   ]
  },
  {
   "cell_type": "code",
   "execution_count": null,
   "id": "2111e71e",
   "metadata": {},
   "outputs": [],
   "source": [
    "metadata_6 <- cd8_l1_full_filt@meta.data "
   ]
  },
  {
   "cell_type": "code",
   "execution_count": null,
   "id": "ae0f6804",
   "metadata": {},
   "outputs": [],
   "source": [
    "metadata_6 <- metadata_6 %>% mutate(\n",
    "  clone_nt = paste(cdr3_B_nt,cdr3_A1_nt,cdr3_A2_nt),\n",
    "  clone_aa = paste(\"CDR3b\",cdr3_B,\"CDR3a\",cdr3_A1)\n",
    ")"
   ]
  },
  {
   "cell_type": "code",
   "execution_count": null,
   "metadata": {},
   "outputs": [],
   "source": [
    "cd8_l1_full_filt@meta.data  <- metadata_6\n",
    "rownames(cd8_l1_full_filt@meta.data)  <- colnames(cd8_l1_full_filt)"
   ]
  },
  {
   "cell_type": "markdown",
   "metadata": {},
   "source": [
    "Let's create a table of clones with their counts in the dataset. "
   ]
  },
  {
   "cell_type": "code",
   "execution_count": null,
   "id": "689124f9",
   "metadata": {
    "scrolled": true
   },
   "outputs": [],
   "source": [
    "clone_table <- metadata_6 %>%\n",
    "  dplyr::group_by(clone_aa) %>%\n",
    "          dplyr::summarize(n = n(), sum = sum()) %>%\n",
    "    arrange(desc(n))\n",
    "\n",
    "clone_table"
   ]
  },
  {
   "cell_type": "markdown",
   "metadata": {},
   "source": [
    "Now we will add the clone counts (clone abundance) to the metadata of the Seurat object. We will add log clone abundance and clone abundance group. "
   ]
  },
  {
   "cell_type": "code",
   "execution_count": null,
   "id": "6e1191d7",
   "metadata": {
    "scrolled": true
   },
   "outputs": [],
   "source": [
    "metadata_6$test <- 0\n",
    "metadata_6 <- metadata_6 %>% group_by(test, clone_aa) %>% mutate(clone_abundance = as.numeric(n()))\n",
    "\n",
    "\n",
    "metadata_6 <- as.data.frame(metadata_6 %>% mutate(clone_abundance = as.numeric(ifelse(clone_abundance>1000,NA_integer_,clone_abundance))) %>%\n",
    "  mutate(log_clone_abundance = log(clone_abundance, base = 2)))\n",
    "rownames(metadata_6) <- colnames(cd8_l1_full_filt)\n",
    "\n",
    "cd8_l1_full_filt@meta.data <- metadata_6\n",
    "rownames(cd8_l1_full_filt@meta.data) <- colnames(cd8_l1_full_filt)\n",
    "\n",
    "cd8_l1_full_filt <- AddMetaData(cd8_l1_full_filt, as.numeric(metadata_6$clone_abundance), \"clone_abundance\")\n",
    "rownames(cd8_l1_full_filt@meta.data) <- colnames(cd8_l1_full_filt)\n",
    "\n",
    "FeaturePlot(cd8_l1_full_filt, reduction = \"umap\", features = \"log_clone_abundance\", raster = F)\n",
    "\n",
    "FeaturePlot(subset(cd8_l1_full_filt, clone_abundance >=1 & clone_abundance < 2000), \n",
    "            reduction = \"umap\", features = \"log_clone_abundance\", cols = c(\"lightblue\",\"firebrick\")) + theme_classic() + theme(plot.title = element_text(hjust = 0.5)) + ggtitle(\"Log2 clone abundance\")\n",
    "\n",
    "DimPlot(cd8_l1_full_filt)\n",
    "\n",
    "# Clone abundance bar graph\n",
    "metadata_6 <- metadata_6 %>%\n",
    "  mutate( clone_abundance_group = case_when(clone_abundance>30 ~ \">30\",\n",
    "                                            clone_abundance>10&clone_abundance<=30 ~ \"11-30\",\n",
    "                                            clone_abundance>6&clone_abundance<=10 ~ \"6-10\",\n",
    "                                            clone_abundance>2&clone_abundance<=5 ~ \"3-5\",\n",
    "                                            clone_abundance==2 ~ \"2\",\n",
    "                                            clone_abundance==1 ~ \"1\",\n",
    "                                            TRUE ~ \"1\"\n",
    "                                            ))\n",
    "\n"
   ]
  },
  {
   "cell_type": "markdown",
   "metadata": {},
   "source": [
    "We will plot the top 100 most abundant clones in the dataset. "
   ]
  },
  {
   "cell_type": "code",
   "execution_count": null,
   "id": "4cbe7eef",
   "metadata": {},
   "outputs": [],
   "source": [
    "for(i in 2:100){\n",
    "  DimPlot(cd8_l1_full_filt, raster = F, \n",
    "          cells.highlight = colnames(cd8_l1_full_filt)[grep(cd8_l1_full_filt$clone_aa, \n",
    "                                                       pattern = pull(clone_table, clone_aa)[i])]) +\n",
    "    ggtitle(pull(clone_table, clone_aa)[i])\n",
    "    #ggsave(paste0(\"../figures/tcr/cd8_tcr/tcr_plots_cd8_full/tcr_clone_\",i,\".png\"), create.dir = TRUE, width = 13, height = 10, units = \"cm\")\n",
    "\n",
    "}"
   ]
  },
  {
   "cell_type": "markdown",
   "id": "57f977c8",
   "metadata": {},
   "source": [
    "## iNKT and MAIT sequences"
   ]
  },
  {
   "cell_type": "markdown",
   "metadata": {},
   "source": [
    "We will now plot the iNKT and MAIT sequences to show where these cells are located on our UMAP plot. "
   ]
  },
  {
   "cell_type": "code",
   "execution_count": null,
   "metadata": {},
   "outputs": [],
   "source": [
    "DimPlot(cd8_l1_full_filt, cells.highlight = colnames(cd8_l1_full_filt)[grep(cd8_l1_full_filt$cdr3_A1, pattern = \"CVVSDRGSTLGRLYF\")], raster = F)"
   ]
  },
  {
   "cell_type": "markdown",
   "metadata": {},
   "source": [
    "The following lists of MAIT/iNKT were obtained from 10x webpage and from the literature. "
   ]
  },
  {
   "cell_type": "code",
   "execution_count": null,
   "id": "b1714fc4",
   "metadata": {},
   "outputs": [],
   "source": [
    "options(repr.plot.width = 6, repr.plot.height = 5)\n",
    "for(i in c('CAVRDSNYQLIW', 'CAVMDSNYQLIW', 'CAVLDSNYQLIW', 'CAVMDSSYKLIF', 'CAVTDSNYQLIW', 'CAVRDGDYKLSF', 'CAVKDSNYQLIW', 'CAAMDSNYQLIW', 'CAALDSNYQLIW', 'CALNDYKLSF', 'CAVVDSNYQLIW', 'CVVSDRGSTLGRLYF', 'CAVIDSNYQLIW', 'CAENTGGFKTIF', 'CAVSDSNYQLIW', 'CALSGGSNYKLTF', 'CAVEDQTGANNLFF', 'CALSDSGGGADGLTF', 'CAVRDRDYKLSF', 'CAGMDSNYQLIW', 'CAVNDYKLSF', 'CAPMDSNYQLIW', 'CASMDSNYQLIW', 'CAVNRDDKIIF', 'CAENSGGSNYKLTF', 'CAPLDSNYQLIW', 'CALNSGGSNYKLTF', 'CVVNDYKLSF', 'CALSSNDYKLSF', 'CAASNQAGTALIF', 'CVVNTGNQFYF', 'CVVNTNAGKSTF', 'CAVEDTGGFKTIF', 'CAVEDSNYQLIW', 'CAVDNYGQNFVF', 'CALSDSGGSNYKLTF', 'CAVMDSSYKLIF', 'CAVNTGGFKTIF', 'CAVRDGNYQLIW', 'CALNTGFQKLVF', 'CAENTGTASKLTF', 'CAATDSNYQLIW', 'CAVNQAGTALIF', 'CAENYGGSQGNLIF', 'CAVLNRDDKIIF', 'CAVEDNYGQNFVF', 'CAVNDYKLSF', 'CVVNNARLMF', 'CAVDNYGQNFVF', 'CAVDSSASKIIF', 'CALIYNQGGKLIF', 'CALNTGGFKTIF', 'CAENNAGNMLTF', 'CAVLDSSYKLIF', 'CAAMDSSYKLIF')){\n",
    "   print(DimPlot(cd8_l1_full_filt, raster = F, cells.highlight = colnames(cd8_l1_full_filt)[grep(cd8_l1_full_filt$cdr3_A1, pattern = i)]) + NoLegend() + ggtitle(i))\n",
    "   #ggsave(create.dir = TRUE, paste0(\"../figures/tcr/cd8_tcr/invariant_sequences2_cd8_full/\",i,\".png\"), width = 18, height = 16, units = \"cm\")\n",
    "}    \n",
    "    "
   ]
  },
  {
   "cell_type": "code",
   "execution_count": null,
   "id": "07e1af33",
   "metadata": {},
   "outputs": [],
   "source": [
    "options(repr.plot.width = 6, repr.plot.height = 5)\n",
    "for(i in c(\n",
    "\"CASARGVNEQYF\",\n",
    "\"CASRGQGLGEQYF\",\n",
    "\"CASRYYSVQGRTDTQYF\",\n",
    "\"CASSAMDTEAFF\",\n",
    "\"CASSAPLAGHYEQYF\",\n",
    "\"CASSAWDGYEQYF\",\n",
    "\"CASSDGFTDTQYF\",\n",
    "\"CASSDLGLAGVIEQFF\",\n",
    "\"CASSDLMGPDNYEQYF\",\n",
    "\"CASSDLPETQYF\",\n",
    "\"CASSDQNTEAFF\",\n",
    "\"CASSDRANEQFF\",\n",
    "\"CASSDRLAGDTQYF\",\n",
    "\"CASSDRRQGAHQPQHF\",\n",
    "\"CASSEAGSGEKLFF\",\n",
    "\"CASSEALILFF\",\n",
    "\"CASSEAPWRDSGNTIYF\",\n",
    "\"CASSEEGALKESVGTQYF\",\n",
    "\"CASSEEGALKESVGTQYF\",\n",
    "\"CASSEFDGGQETQYF\",\n",
    "\"CASSEFGGTERTQETQYF\",\n",
    "\"CASSEFGGTERTQETQYF\",\n",
    "\"CASSEFGQSADEQFF\",\n",
    "\"CASSEGGQDYEQYF\",\n",
    "\"CASSEGTAGTDTQYF\",\n",
    "\"CASSEGTGPNSPLHF\",\n",
    "\"CASSEGWEQYF\",\n",
    "\"CASSELLRGQGRTGELFF\",\n",
    "\"CASSELTDTQYF\",\n",
    "\"CASSEMGQGVYTF\",\n",
    "\"CASSENSGTGRIYEQYF\",\n",
    "\"CASSEPSSGNTIYF\",\n",
    "\"CASSEPTGLGTDTQYF\",\n",
    "\"CASSESATGFSPLHF\",\n",
    "\"CASSESGGSTEAFF\",\n",
    "\"CASSESLAGGYNEQFF\",\n",
    "\"CASSESVETQYF\",\n",
    "\"CASSEWAGGQETQYF\",\n",
    "\"CASSEWEDITDTQYF\",\n",
    "\"CASSEWGRTQETQYF\",\n",
    "\"CASSEWGTNEKLFF\",\n",
    "\"CASSEYESTNEKLFF\",\n",
    "\"CASSEYESTNEKLFF\",\n",
    "\"CASSEYFAGFNEQYF\",\n",
    "\"CASSEYGTLQETYF\",\n",
    "\"CASSEYMEAGIPTDTQYF\",\n",
    "\"CASSEYMEGGEKLFF\",\n",
    "\"CASSEYRRRSGEKLFF\",\n",
    "\"CASSFGGETQYF\",\n",
    "\"CASSGDRRQGAHQPQHF\",\n",
    "\"CASSGLLTGPDTQYF\",\n",
    "\"CASSGLRDRGLYEQYF\",\n",
    "\"CASSGTGGAFDEQFF\",\n",
    "\"CASSGTVTEAFF\",\n",
    "\"CASSGYQGGGETQYF\",\n",
    "\"CASSPIGGHGYEQYF\",\n",
    "\"CASSPRDRWHEQYF\",\n",
    "\"CASSRGGFDEQYF\",\n",
    "\"CASSRGGGTEAFF\",\n",
    "\"CASSRGGYTEAFF\",\n",
    "\"CASSTGGADEKLFF\",\n",
    "\"CASSVPLRDYEQYF\",\n",
    "\"CASTGASGTYEQYF\",\n",
    "\"CASTPRKGTDVGNTIYF\",\n",
    "\"CASTPSGGWSSDTQYF\",\n",
    "\"CASTSLETSQYF\"\n",
    ")){\n",
    "   print(DimPlot(cd8_l1_full_filt, raster = F, cells.highlight = colnames(cd8_l1_full_filt)[grep(cd8_l1_full_filt$cdr3_A1, pattern = i)]) + NoLegend() + ggtitle(i))\n",
    "   #ggsave(create.dir = TRUE, paste0(\"../figures/tcr/cd8_tcr/nkt_sequences_cd8/\",i,\".png\"), width = 18, height = 16, units = \"cm\")\n",
    "}"
   ]
  },
  {
   "cell_type": "code",
   "execution_count": null,
   "id": "7253af41",
   "metadata": {},
   "outputs": [],
   "source": [
    "options(repr.plot.width = 6, repr.plot.height = 5)\n",
    "for(i in c(\n",
    "\"CAALDSNYQLIW\",\n",
    "\"CAAMDSNYQLIW\",\n",
    "\"CARSDSNYQLIW\",\n",
    "\"CASMDSNYQLIW\",\n",
    "\"CASSDSGESGTEAFF\",\n",
    "\"CASSPSGGDYNEQFF\",\n",
    "\"CASSQIAGGQQETQYF\",\n",
    "\"CAVLDSNYQLIW\",\n",
    "\"CAVMDSNYQLIW\",\n",
    "\"CAVNGDDYKLSF\",\n",
    "\"CAVRDGDYKLSF\",\n",
    "\"CAVRDSDYKLSF\",\n",
    "\"CAVRDSNYQLIQW\",\n",
    "\"CAVRDSNYQLIW\",\n",
    "\"CAVSDSNYQLIW\",\n",
    "\"CAVSLQDYKLSF\",\n",
    "\"CSARQGAESREQYF\"\n",
    "\n",
    ")){\n",
    "   DimPlot(cd8_l1_full_filt, raster = F, pt.size = 0.5, \n",
    "           cells.highlight = colnames(cd8_l1_full_filt)[grep(cd8_l1_full_filt$cdr3_A1, pattern = i)]) + \n",
    "    ggtitle(i) + NoLegend() + theme(axis.text = element_text(size = 25), title = element_text(size = 25))\n",
    "   #ggsave(create.dir = TRUE, paste0(\"../figures/tcr/cd8_tcr/mait_sequences_cd8/\",i,\".png\"), width = 18, height = 18, units = \"cm\")\n",
    "}"
   ]
  },
  {
   "cell_type": "markdown",
   "id": "d9ff18f2",
   "metadata": {},
   "source": [
    "### Sequencing sufficiency"
   ]
  },
  {
   "cell_type": "markdown",
   "metadata": {},
   "source": [
    "Next, we will check what was the efficiency of TRA/TRB detection. "
   ]
  },
  {
   "cell_type": "code",
   "execution_count": null,
   "id": "9e5b17c1",
   "metadata": {},
   "outputs": [],
   "source": [
    "cd8_l1_full_filt@meta.data <- cd8_l1_full_filt@meta.data %>% mutate(clone_status_tra = ifelse(is.na(cdr3_A1), \n",
    "                                                      ifelse(is.na(cdr3_A2),\"NA\", \"OK\"), \n",
    "                                                      ifelse(is.na(cdr3_A2),\"OK\", \"OK\")),\n",
    "                            clone_status_trb = ifelse(is.na(cdr3_B), \"NA\", \"OK\"))\n",
    "                 \n",
    "DimPlot(cd8_l1_full_filt, group.by = \"clone_status_tra\", cols = c(\"indianred2\", \"palegreen3\"), raster = T) + \n",
    "ggtitle(\"Clone status TRA\")      \n",
    "#ggsave(create.dir = TRUE, \"../figures/tcr/cd8_tcr/seq_sufficiency/do_we_have_data_tra.png\", width = 14, height = 10, units = \"cm\", dpi = 120)\n",
    "\n",
    "DimPlot(cd8_l1_full_filt, group.by = \"clone_status_trb\", cols = c(\"indianred2\", \"palegreen3\"), raster = T) + \n",
    "ggtitle(\"Clone status TRB\")      \n",
    "#ggsave(\"../figures/tcr/cd8_tcr/seq_sufficiency/do_we_have_data_trb.png\", width = 14, height = 10, units = \"cm\", dpi = 120)\n",
    "\n",
    "\n",
    "cd8_l1_full_filt@meta.data %>% group_by(clone_status_tra) %>% summarize(n = n()) %>% \n",
    "  mutate(freq = n / sum(n))\n",
    "\n",
    "cd8_l1_full_filt@meta.data %>% group_by(clone_status_trb) %>% summarize(n = n()) %>% \n",
    "  mutate(freq = n / sum(n))"
   ]
  },
  {
   "cell_type": "code",
   "execution_count": null,
   "metadata": {},
   "outputs": [],
   "source": []
  },
  {
   "cell_type": "markdown",
   "metadata": {},
   "source": [
    "## CDR3 length"
   ]
  },
  {
   "cell_type": "markdown",
   "metadata": {},
   "source": [
    "Below, we will focus on the length of CDR3 as it has been proposed previously that T1D [Gomez-Tourino et al.](https://www.nature.com/articles/s41467-017-01925-2). "
   ]
  },
  {
   "cell_type": "code",
   "execution_count": null,
   "metadata": {},
   "outputs": [],
   "source": [
    "metadata_6$cdr3_B_nchar  <- nchar(metadata_6$cdr3_B)"
   ]
  },
  {
   "cell_type": "code",
   "execution_count": null,
   "metadata": {},
   "outputs": [],
   "source": [
    "metadata_6$Condition  %>% table"
   ]
  },
  {
   "cell_type": "code",
   "execution_count": null,
   "metadata": {
    "scrolled": false
   },
   "outputs": [],
   "source": [
    "options(repr.plot.width = 17)\n",
    "metadata_6 %>% \n",
    "filter(Condition %in% c(\"Ctrl T0\", \"Dia T0\", \"Dia T1\"))  %>% \n",
    "mutate(Disease == ifelse(grepl(pattern = \"Ctrl\", x = Condition), \"Ctrl\", \"Dia\"))  %>% \n",
    "group_by(Disease, Sample_ID, cdr3_B_nchar)  %>% \n",
    "tally  %>% \n",
    "filter(!is.na(cdr3_B_nchar))  %>% \n",
    "ggplot(aes(x = Disease, y = n)) + \n",
    "  geom_boxplot(outlier.shape = NA, aes(fill = Disease), alpha = 0.4) + \n",
    "  geom_dotplot(binaxis='y', stackdir='center', dotsize=0) +\n",
    "  geom_jitter(width = 0.2, height = 0.5, size = 0.5, alpha = 1, aes(color = Disease)) +  # in aes, you can also use shape or fill (for the shapes that allow it)\n",
    "  facet_wrap(~factor(cdr3_B_nchar),\n",
    "             scales = \"fixed\", ncol = 19, drop = T) +\n",
    " ylab(\"Log2 clonal abundance\") +\n",
    "  xlab(\"CDR3 beta length\") +\n",
    "  theme_classic() + \n",
    "  ggpubr::stat_compare_means(label.x.npc = 0.3, label = \"p.format\") + \n",
    "theme(strip.background = element_blank(), axis.text.x = element_blank(), \n",
    "     axis.ticks.x = element_blank())"
   ]
  },
  {
   "cell_type": "markdown",
   "metadata": {},
   "source": [
    "## CDR3 beta length"
   ]
  },
  {
   "cell_type": "markdown",
   "metadata": {},
   "source": [
    "Let's now focus on CDR3 of the TRB chain. "
   ]
  },
  {
   "cell_type": "code",
   "execution_count": null,
   "metadata": {},
   "outputs": [],
   "source": [
    "metadata_6$cdr3_B_nchar  <- nchar(metadata_6$cdr3_B)"
   ]
  },
  {
   "cell_type": "code",
   "execution_count": null,
   "metadata": {},
   "outputs": [],
   "source": [
    "options(repr.plot.width = 17)\n",
    "metadata_6 %>% \n",
    "filter(Condition %in% c(\"Ctrl T0\", \"Dia T0\", \"Dia T1\"))  %>% \n",
    "mutate(Disease == ifelse(grepl(pattern = \"Ctrl\", x = Condition), \"Ctrl\", \"Dia\"))  %>% \n",
    "group_by(Disease, Sample_ID, cdr3_B_nchar)  %>% \n",
    "tally  %>% \n",
    "filter(!is.na(cdr3_B_nchar))  %>% \n",
    "ggplot(aes(x = Disease, y = n)) + \n",
    "  geom_boxplot(outlier.shape = NA, aes(fill = Disease), alpha = 0.4) + \n",
    "  geom_dotplot(binaxis='y', stackdir='center', dotsize=0) +\n",
    "  geom_jitter(width = 0.2, height = 0.5, size = 0.5, alpha = 1, aes(color = Disease)) +  # in aes, you can also use shape or fill (for the shapes that allow it)\n",
    "  facet_wrap(~factor(cdr3_B_nchar),\n",
    "             scales = \"fixed\", ncol = 19, drop = T) +\n",
    " ylab(\"Log2 clonal abundance\") +\n",
    "  xlab(\"CDR3 beta length\") +\n",
    "  theme_classic() + \n",
    "  ggpubr::stat_compare_means(label.x.npc = 0.3, label = \"p.format\") + \n",
    "theme(strip.background = element_blank(), axis.text.x = element_blank(), \n",
    "     axis.ticks.x = element_blank())"
   ]
  },
  {
   "cell_type": "markdown",
   "metadata": {},
   "source": [
    "* Count each sequence for one patient as many times as it occurs\n",
    "* I count the number of sequences of a given length for one patient\n",
    "* Then I plot the frequency of that length for the given patient"
   ]
  },
  {
   "cell_type": "code",
   "execution_count": null,
   "metadata": {
    "scrolled": true
   },
   "outputs": [],
   "source": [
    "options(repr.plot.width = 17)\n",
    "test_length  <- metadata_6 %>% \n",
    "filter(Condition %in% c(\"Ctrl T0\", \"Dia T0\", \"Ctrl T1\", \"Dia T1\"))  %>% \n",
    "mutate(Disease == ifelse(grepl(pattern = \"Ctrl\", x = Condition), \"Ctrl\", \"Dia\"))  %>% \n",
    "group_by(Disease, Patient_ID, cdr3_B_nchar)  %>%\n",
    "  summarise(n = n()) %>%\n",
    "  mutate(freq = n / sum(n))\n",
    "\n",
    "test_length  %>% group_by(Patient_ID)  %>% summarise(sum = sum(freq))"
   ]
  },
  {
   "cell_type": "code",
   "execution_count": null,
   "metadata": {
    "scrolled": true
   },
   "outputs": [],
   "source": [
    "test_length"
   ]
  },
  {
   "cell_type": "code",
   "execution_count": null,
   "metadata": {},
   "outputs": [],
   "source": [
    "test_length  %>% \n",
    "filter(!is.na(cdr3_B_nchar))  %>% \n",
    "ggplot(aes(x = Disease, y = freq)) + \n",
    "  geom_boxplot(outlier.shape = NA, aes(fill = Disease), alpha = 0.4) + \n",
    "  geom_dotplot(binaxis='y', stackdir='center', dotsize=0) +\n",
    "  geom_jitter(width = 0.2, height = 0, size = 0.5, alpha = 1, aes(color = Disease)) +  # in aes, you can also use shape or fill (for the shapes that allow it)\n",
    "  facet_wrap(~factor(cdr3_B_nchar),\n",
    "             scales = \"fixed\", ncol = 19, drop = T) +\n",
    " ylab(\"Frequency\") +\n",
    "  xlab(\"CDR3 beta length\") +\n",
    "  theme_classic() + \n",
    "  ggpubr::stat_compare_means(label.x.npc = 0.3, label = \"p.format\") + \n",
    "theme(strip.background = element_blank(), axis.text.x = element_blank(), \n",
    "     axis.ticks.x = element_blank())"
   ]
  },
  {
   "cell_type": "markdown",
   "metadata": {},
   "source": [
    "* Count each sequence for one patient only once\n",
    "\n",
    "* I count the number of sequences of a given length for one patient\n",
    "\n",
    "* Then I plot the frequency of that length for the given patient"
   ]
  },
  {
   "cell_type": "code",
   "execution_count": null,
   "metadata": {
    "scrolled": true
   },
   "outputs": [],
   "source": [
    "options(repr.plot.width = 17)\n",
    "test_length  <- metadata_6 %>% \n",
    "dplyr::select(Disease, Condition, Patient_ID, cdr3_B_nchar, cdr3_B)  %>% \n",
    "unique  %>% \n",
    "filter(Condition %in% c(\"Ctrl T0\", \"Dia T0\", \"Ctrl T1\", \"Dia T1\"))  %>% \n",
    "mutate(Disease == ifelse(grepl(pattern = \"Ctrl\", x = Condition), \"Ctrl\", \"Dia\"))  %>% \n",
    "group_by(Disease, Patient_ID, cdr3_B_nchar)  %>%\n",
    "  summarise(n = n()) %>%\n",
    "  mutate(freq = n / sum(n))\n",
    "\n",
    "test_length  %>% group_by(Patient_ID)  %>% summarise(sum = sum(freq))"
   ]
  },
  {
   "cell_type": "code",
   "execution_count": null,
   "metadata": {},
   "outputs": [],
   "source": [
    "test_length  %>% \n",
    "filter(!is.na(cdr3_B_nchar))  %>% \n",
    "ggplot(aes(x = Disease, y = freq)) + \n",
    "  geom_boxplot(outlier.shape = NA, aes(fill = Disease), alpha = 0.4) + \n",
    "  geom_dotplot(binaxis='y', stackdir='center', dotsize=0) +\n",
    "  geom_jitter(width = 0.2, height = 0, size = 0.5, alpha = 1, aes(color = Disease)) +  # in aes, you can also use shape or fill (for the shapes that allow it)\n",
    "  facet_wrap(~factor(cdr3_B_nchar),\n",
    "             scales = \"fixed\", ncol = 19, drop = T) +\n",
    " ylab(\"Frequency\") +\n",
    "  xlab(\"CDR3 beta length\") +\n",
    "  theme_classic() + \n",
    "  ggpubr::stat_compare_means(label.x.npc = 0.3, label = \"p.format\") + \n",
    "theme(strip.background = element_blank(), axis.text.x = element_blank(), \n",
    "     axis.ticks.x = element_blank())"
   ]
  },
  {
   "cell_type": "code",
   "execution_count": null,
   "metadata": {},
   "outputs": [],
   "source": [
    "metadata_6$cdr3_B_nchar_nucl  <- nchar(metadata_6$cdr3_B_nt)"
   ]
  },
  {
   "cell_type": "markdown",
   "metadata": {},
   "source": [
    "* Count each sequence for one patient only once\n",
    "\n",
    "* I count the number of sequences of a given length *in nucleotides* for one patient\n",
    "\n",
    "* Then I plot the frequency of that length for the given patient"
   ]
  },
  {
   "cell_type": "code",
   "execution_count": null,
   "metadata": {
    "scrolled": true
   },
   "outputs": [],
   "source": [
    "options(repr.plot.width = 17)\n",
    "test_length  <- metadata_6 %>% \n",
    "dplyr::select(Disease, Condition, Patient_ID, cdr3_B_nchar_nucl, cdr3_B_nt)  %>% \n",
    "unique  %>% \n",
    "filter(Condition %in% c(\"Ctrl T0\", \"Dia T0\", \"Ctrl T1\", \"Dia T1\"))  %>% \n",
    "mutate(Disease == ifelse(grepl(pattern = \"Ctrl\", x = Condition), \"Ctrl\", \"Dia\"))  %>% \n",
    "group_by(Disease, Patient_ID, cdr3_B_nchar_nucl)  %>%\n",
    "  summarise(n = n()) %>%\n",
    "  mutate(freq = n / sum(n))\n",
    "\n",
    "test_length  %>% \n",
    "filter(!is.na(cdr3_B_nchar_nucl))  %>% \n",
    "ggplot(aes(x = Disease, y = freq)) + \n",
    "  geom_boxplot(outlier.shape = NA, aes(fill = Disease), alpha = 0.4) + \n",
    "  geom_dotplot(binaxis='y', stackdir='center', dotsize=0) +\n",
    "  geom_jitter(width = 0.2, height = 0, size = 0.5, alpha = 1, aes(color = Disease)) +  # in aes, you can also use shape or fill (for the shapes that allow it)\n",
    "  facet_wrap(~factor(cdr3_B_nchar_nucl),\n",
    "             scales = \"fixed\", ncol = 19, drop = T) +\n",
    " ylab(\"Frequency\") +\n",
    "  xlab(\"CDR3 beta length\") +\n",
    "  theme_classic() + \n",
    "  ggpubr::stat_compare_means(label.x.npc = 0.3, label = \"p.format\") + \n",
    "theme(strip.background = element_blank(), axis.text.x = element_blank(), \n",
    "     axis.ticks.x = element_blank())"
   ]
  },
  {
   "cell_type": "code",
   "execution_count": null,
   "metadata": {
    "scrolled": true
   },
   "outputs": [],
   "source": [
    "options(repr.plot.width = 17)\n",
    "test_length  <- metadata_6 %>% \n",
    "dplyr::select(Disease, Condition, Patient_ID, cdr3_B_nchar, cdr3_B)  %>% \n",
    "unique  %>% \n",
    "filter(Condition %in% c(\"Ctrl T0\", \"Dia T0\", \"Ctrl T1\", \"Dia T1\"))  %>% \n",
    "mutate(Disease == ifelse(grepl(pattern = \"Ctrl\", x = Condition), \"Ctrl\", \"Dia\"))  %>% \n",
    "group_by(Disease, Patient_ID, cdr3_B_nchar)  %>%\n",
    "  summarise(n = n()) %>%\n",
    "  mutate(freq = n / sum(n))\n",
    "\n",
    "test_length  %>% group_by(Patient_ID)  %>% summarise(sum = sum(freq))"
   ]
  },
  {
   "cell_type": "code",
   "execution_count": null,
   "metadata": {
    "scrolled": true
   },
   "outputs": [],
   "source": [
    "test_length  %>% \n",
    "filter(!is.na(cdr3_B_nchar))  %>% \n",
    "ggplot(aes(x = Disease, y = freq)) + \n",
    "  geom_boxplot(outlier.shape = NA, aes(fill = Disease), alpha = 0.4) + \n",
    "  geom_dotplot(binaxis='y', stackdir='center', dotsize=0) +\n",
    "  geom_jitter(width = 0.2, height = 0, size = 0.7, shape = 21, alpha = 0.7, aes(fill = Disease)) +  # in aes, you can also use shape or fill (for the shapes that allow it)\n",
    "  facet_wrap(~factor(cdr3_B_nchar),\n",
    "             scales = \"fixed\", ncol = 19, drop = T) +\n",
    " scale_fill_manual(values = c(\"dodgerblue\", \"red2\"))  +\n",
    "ylab(\"Frequency\") +\n",
    "  xlab(\"CDR3 beta length\") +\n",
    "  theme_classic() + \n",
    "  ggpubr::stat_compare_means(label.x.npc = 0.3, label = \"p.format\", size = 7) + \n",
    "theme(strip.background = element_blank(), axis.text.x = element_blank(), \n",
    "     axis.ticks.x = element_blank()) + ggtheme()\n",
    "#ggsave(filename = \"../figures/tcr/cd8_tcr/tcr_length/cd8_with_unconv.png\", width = 22, height = 10, units = \"cm\")\n",
    "#ggsave(filename = \"../figures/tcr/cd8_tcr/tcr_length/cd8_with_unconv.svg\", width = 22, height = 10, units = \"cm\")"
   ]
  },
  {
   "cell_type": "markdown",
   "id": "45a4c773",
   "metadata": {},
   "source": [
    "# CD8 subcluster"
   ]
  },
  {
   "cell_type": "markdown",
   "metadata": {},
   "source": [
    "Now let's repeat the analyses in the dataset that contains only conventional CD8+ T cells. "
   ]
  },
  {
   "cell_type": "code",
   "execution_count": null,
   "id": "0cac5c7a",
   "metadata": {},
   "outputs": [],
   "source": [
    "cd8_l2_subcluster  <- readRDS(\"../data/processed/L2/cd8_l2_subcluster.rds\")"
   ]
  },
  {
   "cell_type": "code",
   "execution_count": null,
   "id": "2111e71e",
   "metadata": {},
   "outputs": [],
   "source": [
    "metadata_6 <- cd8_l2_subcluster@meta.data "
   ]
  },
  {
   "cell_type": "code",
   "execution_count": null,
   "id": "ae0f6804",
   "metadata": {},
   "outputs": [],
   "source": [
    "metadata_6 <- metadata_6 %>% mutate(\n",
    "  clone_nt = paste(cdr3_B_nt,cdr3_A1_nt,cdr3_A2_nt),\n",
    "  clone_aa = paste(\"CDR3b\",cdr3_B,\"CDR3a\",cdr3_A1)\n",
    ")"
   ]
  },
  {
   "cell_type": "code",
   "execution_count": null,
   "metadata": {},
   "outputs": [],
   "source": [
    "cd8_l2_subcluster@meta.data  <- metadata_6\n",
    "rownames(cd8_l2_subcluster@meta.data)  <- colnames(cd8_l2_subcluster)"
   ]
  },
  {
   "cell_type": "code",
   "execution_count": null,
   "id": "689124f9",
   "metadata": {
    "scrolled": true
   },
   "outputs": [],
   "source": [
    "clone_table <- metadata_6 %>%\n",
    "  dplyr::group_by(clone_aa) %>%\n",
    "          dplyr::summarize(n = n(), sum = sum()) %>%\n",
    "    arrange(desc(n))\n",
    "\n",
    "clone_table"
   ]
  },
  {
   "cell_type": "code",
   "execution_count": null,
   "metadata": {},
   "outputs": [],
   "source": [
    "cd8_l2_subcluster@meta.data  <- cd8_l2_subcluster@meta.data  %>% mutate(\n",
    "  clone_nt = paste(cdr3_B_nt,cdr3_A1_nt,cdr3_A2_nt),\n",
    "  clone_aa = paste(\"CDR3b\",cdr3_B,\"CDR3a\",cdr3_A1)\n",
    ")"
   ]
  },
  {
   "cell_type": "code",
   "execution_count": null,
   "id": "6e1191d7",
   "metadata": {
    "scrolled": true
   },
   "outputs": [],
   "source": [
    "metadata_6$test <- 0\n",
    "metadata_6 <- metadata_6 %>% group_by(test, clone_aa) %>% mutate(clone_abundance = as.numeric(n()))\n",
    "\n",
    "\n",
    "metadata_6 <- as.data.frame(metadata_6 %>% mutate(clone_abundance = as.numeric(ifelse(clone_abundance>1000,NA_integer_,clone_abundance))) %>%\n",
    "  mutate(log_clone_abundance = log(clone_abundance, base = 2)))\n",
    "rownames(metadata_6) <- colnames(cd8_l2_subcluster)\n",
    "\n",
    "cd8_l2_subcluster@meta.data <- metadata_6\n",
    "rownames(cd8_l2_subcluster@meta.data) <- colnames(cd8_l2_subcluster)\n",
    "\n",
    "cd8_l2_subcluster <- AddMetaData(cd8_l2_subcluster, as.numeric(metadata_6$clone_abundance), \"clone_abundance\")\n",
    "rownames(cd8_l2_subcluster@meta.data) <- colnames(cd8_l2_subcluster)\n",
    "\n",
    "FeaturePlot(cd8_l2_subcluster, reduction = \"umap\", features = \"log_clone_abundance\", raster = F)\n",
    "\n",
    "FeaturePlot(subset(cd8_l2_subcluster, clone_abundance >=1 & clone_abundance < 2000), \n",
    "            reduction = \"umap\", features = \"log_clone_abundance\", cols = c(\"lightblue\",\"firebrick\")) + theme_classic() + theme(plot.title = element_text(hjust = 0.5)) + ggtitle(\"Log2 clone abundance\")\n",
    "\n",
    "DimPlot(cd8_l2_subcluster)\n",
    "\n",
    "# Clone abundance bar graph\n",
    "metadata_6 <- metadata_6 %>%\n",
    "  mutate( clone_abundance_group = case_when(clone_abundance>30 ~ \">30\",\n",
    "                                            clone_abundance>10&clone_abundance<=30 ~ \"11-30\",\n",
    "                                            clone_abundance>6&clone_abundance<=10 ~ \"6-10\",\n",
    "                                            clone_abundance>2&clone_abundance<=5 ~ \"3-5\",\n",
    "                                            clone_abundance==2 ~ \"2\",\n",
    "                                            clone_abundance==1 ~ \"1\",\n",
    "                                            TRUE ~ \"1\"\n",
    "                                            ))\n",
    "\n"
   ]
  },
  {
   "cell_type": "code",
   "execution_count": null,
   "metadata": {},
   "outputs": [],
   "source": [
    "options(repr.plot.width = 5, repr.pot.height = 4)\n",
    "FeaturePlot(subset(cd8_l2_subcluster, clone_abundance >=1 & clone_abundance < 2000), \n",
    "            reduction = \"umap\", features = \"log_clone_abundance\", cols = c(\"lightblue\",\"firebrick\")) + theme_classic() + theme(plot.title = element_text(hjust = 0.5)) + ggtitle(\"Log2 clone abundance\")\n"
   ]
  },
  {
   "cell_type": "markdown",
   "metadata": {},
   "source": [
    "### Clone dimplots"
   ]
  },
  {
   "cell_type": "code",
   "execution_count": null,
   "metadata": {},
   "outputs": [],
   "source": [
    "for(i in 2:300){\n",
    "  DimPlot(cd8_l2_subcluster, raster = F, \n",
    "          cells.highlight = colnames(cd8_l2_subcluster)[grep(cd8_l2_subcluster$clone_aa, \n",
    "                                                       pattern = pull(clone_table, clone_aa)[i])]) +\n",
    "    ggtitle(pull(clone_table, clone_aa)[i])\n",
    "    #ggsave(paste0(\"../figures/tcr/cd8_tcr/tcr_plots_cd8_l2_subcluster/tcr_clone_\",i,\".png\"), width = 13, height = 10, units = \"cm\")\n",
    "\n",
    "}"
   ]
  },
  {
   "cell_type": "markdown",
   "id": "ae8c4ce9",
   "metadata": {},
   "source": [
    "### Clone abundance bar graph"
   ]
  },
  {
   "cell_type": "code",
   "execution_count": null,
   "id": "0b4430d7",
   "metadata": {},
   "outputs": [],
   "source": [
    "cd8_l2_subcluster$annotations_manual  %>% table"
   ]
  },
  {
   "cell_type": "code",
   "execution_count": null,
   "id": "eab2fc88",
   "metadata": {},
   "outputs": [],
   "source": [
    "options(repr.plot.width = 3.5, repr.plot.height = 3)\n",
    "\n",
    "metadata_6 <- metadata_6 %>%\n",
    "  mutate( clone_abundance_group = ifelse(clone_abundance>50, \"50+\",\n",
    "                                          ifelse(clone_abundance>10, \"11-49\",\n",
    "                                             ifelse(clone_abundance>5, \"6-10\",\n",
    "                                             ifelse(clone_abundance>1, \"2-5\",\n",
    "                                             ifelse(clone_abundance==1, \"1\",\"1\"))))))\n",
    "\n",
    "metadata_6 %>% \n",
    "  filter(!is.na(clone_abundance_group)) %>% \n",
    "  ggplot(aes(x = factor(annotations_manual, levels = rev(c(\"Naive\",\"Tem\",\"Tcm\",\"Proliferating\", \"Temra\"))))) + \n",
    "  geom_bar(aes(fill = factor(clone_abundance_group, levels = c(\"1\",\"2-5\",\"6-10\",\"11-49\",\"50+\"))), position = \"fill\") + \n",
    "  coord_flip() +\n",
    "  scale_fill_brewer(palette = \"Blues\") + xlab(\"Frequency\")+\n",
    "  ylab(\"\") + \n",
    "  theme_classic() + \n",
    "  theme(plot.title = element_text(hjust = 0.5), \n",
    "        legend.position=\"right\", \n",
    "        panel.border = element_blank(), \n",
    "        legend.title = element_blank()) + \n",
    "  ggtitle(\"Clone abundance in clusters\")\n",
    "\n",
    "#ggsave(\"../figures/tcr/Log2CloneAbundance_bar_clusters_cd8.png\", width = 14, height = 6, units = \"cm\", dpi = 120)\n",
    "#ggsave(\"../figures/tcr/Log2CloneAbundance_bar_clusters_cd8.svg\", width = 14, height = 6, units = \"cm\", dpi = 120)"
   ]
  },
  {
   "cell_type": "markdown",
   "id": "03ec0d10",
   "metadata": {},
   "source": [
    "### Size of clones - cluster"
   ]
  },
  {
   "cell_type": "code",
   "execution_count": null,
   "id": "33e8a064",
   "metadata": {
    "scrolled": true
   },
   "outputs": [],
   "source": [
    "options(repr.plot.width = 8, repr.plot.height = 5)\n",
    "\n",
    "metadata_6 %>% \n",
    "  group_by(clone_aa, annotations_manual) %>% \n",
    "  ggplot(aes(x = reorder(annotations_manual, log_clone_abundance, mean, na.rm = TRUE), y = log_clone_abundance)) + \n",
    "  geom_boxplot(outlier.shape = NA) + \n",
    "  geom_dotplot(binaxis='y', stackdir='center', dotsize=0) +\n",
    "  #scale_color_manual(values = c(\"indianred2\",\"dodgerblue2\",\"green4\")) +\n",
    "  geom_jitter(width = 0.2, height = 0.5, size = 0.5, alpha = 0.2) +  # in aes, you can also use shape or fill (for the shapes that allow it)\n",
    "  #facet_wrap(~Annotations, scales = \"free\", ncol = 4) +\n",
    "  ylab(\"Log2 clonal abundance\") +\n",
    "  xlab(\"Cluster\") +\n",
    "  theme_classic() + \n",
    "  ylim(c(0,8))+\n",
    "  ggpubr::stat_compare_means(label.x.npc = 0.3)\n",
    "\n",
    "#ggsave(\"../figures/tcr/size_of_clones1.png\", width = 11, height = 8, units = \"cm\", dpi = 120)"
   ]
  },
  {
   "cell_type": "code",
   "execution_count": null,
   "id": "e6ed7fce",
   "metadata": {
    "scrolled": true
   },
   "outputs": [],
   "source": [
    "options(repr.plot.width = 14, repr.plot.height = 4)\n",
    "\n",
    "metadata_6 %>% \n",
    "filter(Condition %in% c(\"Ctrl T0\", \"Dia T0\"))  %>% \n",
    "  group_by(clone_aa, annotations_manual, Condition) %>% \n",
    "  ggplot(aes(x = Condition, y = log_clone_abundance)) + \n",
    "  geom_boxplot(outlier.shape = NA, aes(fill = Condition), alpha = 0.4) + \n",
    "  geom_dotplot(binaxis='y', stackdir='center', dotsize=0) +\n",
    "  geom_jitter(width = 0.2, height = 0.5, size = 0.5, alpha = 0.2, aes(color = Condition)) +  # in aes, you can also use shape or fill (for the shapes that allow it)\n",
    "  facet_wrap(~factor(annotations_manual, levels = levels(factor(reorder(annotations_manual, log_clone_abundance, mean, na.rm = TRUE)))),\n",
    "             scales = \"fixed\", ncol = 11, drop = T) +\n",
    "  scale_color_manual(values = c(\"green4\", \"indianred2\")) +\n",
    "  scale_fill_manual(values = c(\"green4\", \"indianred2\")) +\n",
    "  ylab(\"Log2 clonal abundance\") +\n",
    "  xlab(\"Cluster\") +\n",
    "  theme_classic() + \n",
    "  ylim(c(0,8))+\n",
    "  ggpubr::stat_compare_means(label.x.npc = 0.3, label = \"p.format\") + \n",
    "theme(strip.background = element_blank(), axis.text.x = element_blank(), \n",
    "     axis.ticks.x = element_blank())\n",
    "\n",
    "#ggsave(\"../figures/tcr/size_of_clones2.png\", width = 11, height = 8, units = \"cm\", dpi = 120)"
   ]
  },
  {
   "cell_type": "code",
   "execution_count": null,
   "metadata": {},
   "outputs": [],
   "source": [
    "options(repr.plot.width = 14, repr.plot.height = 4)\n",
    "\n",
    "metadata_6 %>% \n",
    "filter(Condition %in% c(\"Ctrl T0\", \"Dia T0\"))  %>% \n",
    "  group_by(annotations_manual, Condition, Patient_Time) %>%\n",
    "summarize(mean_log_clone_abundance = mean(log_clone_abundance, na.rm = T))  %>% \n",
    "ggplot(aes(x = Condition, y = mean_log_clone_abundance)) + \n",
    "  geom_boxplot(outlier.shape = NA, aes(fill = Condition), alpha = 0.4) + \n",
    "  geom_dotplot(binaxis='y', stackdir='center', dotsize=0) +\n",
    "  geom_jitter(width = 0.2, height = 0.5, size = 0.5, alpha = 1, aes(color = Condition)) +  # in aes, you can also use shape or fill (for the shapes that allow it)\n",
    "  facet_wrap(~factor(annotations_manual, levels = levels(factor(reorder(annotations_manual, mean_log_clone_abundance, mean, na.rm = TRUE)))),\n",
    "             scales = \"fixed\", ncol = 11, drop = T) +\n",
    "  scale_color_manual(values = c(\"green4\", \"indianred2\")) +\n",
    "  scale_fill_manual(values = c(\"green4\", \"indianred2\")) +\n",
    "  ylab(\"Log2 clonal abundance\") +\n",
    "  xlab(\"Cluster\") +\n",
    "  theme_classic() + \n",
    "  ylim(c(0,5))+\n",
    "  ggpubr::stat_compare_means(label.x.npc = 0.3, label = \"p.format\") + \n",
    "theme(strip.background = element_blank(), axis.text.x = element_blank(), \n",
    "     axis.ticks.x = element_blank())\n",
    "\n",
    "#ggsave(\"../figures/tcr/size_of_clones3.png\", width = 11, height = 8, units = \"cm\", dpi = 120)"
   ]
  },
  {
   "cell_type": "markdown",
   "metadata": {},
   "source": [
    "## CDR3 length"
   ]
  },
  {
   "cell_type": "code",
   "execution_count": null,
   "metadata": {},
   "outputs": [],
   "source": [
    "metadata_6$cdr3_B_nchar  <- nchar(metadata_6$cdr3_B)"
   ]
  },
  {
   "cell_type": "code",
   "execution_count": null,
   "metadata": {},
   "outputs": [],
   "source": [
    "metadata_6$Condition  %>% table"
   ]
  },
  {
   "cell_type": "code",
   "execution_count": null,
   "metadata": {
    "scrolled": false
   },
   "outputs": [],
   "source": [
    "options(repr.plot.width = 17)\n",
    "metadata_6 %>% \n",
    "filter(Condition %in% c(\"Ctrl T0\", \"Dia T0\", \"Dia T1\"))  %>% \n",
    "mutate(Disease == ifelse(grepl(pattern = \"Ctrl\", x = Condition), \"Ctrl\", \"Dia\"))  %>% \n",
    "group_by(Disease, Sample_ID, cdr3_B_nchar)  %>% \n",
    "tally  %>% \n",
    "filter(!is.na(cdr3_B_nchar))  %>% \n",
    "ggplot(aes(x = Disease, y = n)) + \n",
    "  geom_boxplot(outlier.shape = NA, aes(fill = Disease), alpha = 0.4) + \n",
    "  geom_dotplot(binaxis='y', stackdir='center', dotsize=0) +\n",
    "  geom_jitter(width = 0.2, height = 0.5, size = 0.5, alpha = 1, aes(color = Disease)) +  # in aes, you can also use shape or fill (for the shapes that allow it)\n",
    "  facet_wrap(~factor(cdr3_B_nchar),\n",
    "             scales = \"fixed\", ncol = 19, drop = T) +\n",
    " ylab(\"Log2 clonal abundance\") +\n",
    "  xlab(\"CDR3 beta length\") +\n",
    "  theme_classic() + \n",
    "  ggpubr::stat_compare_means(label.x.npc = 0.3, label = \"p.format\") + \n",
    "theme(strip.background = element_blank(), axis.text.x = element_blank(), \n",
    "     axis.ticks.x = element_blank())"
   ]
  },
  {
   "cell_type": "markdown",
   "metadata": {},
   "source": [
    "## CDR3 beta length"
   ]
  },
  {
   "cell_type": "code",
   "execution_count": null,
   "metadata": {},
   "outputs": [],
   "source": [
    "metadata_6$cdr3_B_nchar  <- nchar(metadata_6$cdr3_B)"
   ]
  },
  {
   "cell_type": "code",
   "execution_count": null,
   "metadata": {},
   "outputs": [],
   "source": [
    "options(repr.plot.width = 17)\n",
    "metadata_6 %>% \n",
    "filter(Condition %in% c(\"Ctrl T0\", \"Dia T0\", \"Dia T1\"))  %>% \n",
    "mutate(Disease == ifelse(grepl(pattern = \"Ctrl\", x = Condition), \"Ctrl\", \"Dia\"))  %>% \n",
    "group_by(Disease, Sample_ID, cdr3_B_nchar)  %>% \n",
    "tally  %>% \n",
    "filter(!is.na(cdr3_B_nchar))  %>% \n",
    "ggplot(aes(x = Disease, y = n)) + \n",
    "  geom_boxplot(outlier.shape = NA, aes(fill = Disease), alpha = 0.4) + \n",
    "  geom_dotplot(binaxis='y', stackdir='center', dotsize=0) +\n",
    "  geom_jitter(width = 0.2, height = 0.5, size = 0.5, alpha = 1, aes(color = Disease)) +  # in aes, you can also use shape or fill (for the shapes that allow it)\n",
    "  facet_wrap(~factor(cdr3_B_nchar),\n",
    "             scales = \"fixed\", ncol = 19, drop = T) +\n",
    " ylab(\"Log2 clonal abundance\") +\n",
    "  xlab(\"CDR3 beta length\") +\n",
    "  theme_classic() + \n",
    "  ggpubr::stat_compare_means(label.x.npc = 0.3, label = \"p.format\") + \n",
    "theme(strip.background = element_blank(), axis.text.x = element_blank(), \n",
    "     axis.ticks.x = element_blank())"
   ]
  },
  {
   "cell_type": "markdown",
   "metadata": {},
   "source": [
    "* Count each sequence for one patient as many times as it occurs\n",
    "* I count the number of sequences of a given length for one patient\n",
    "* Then I plot the frequency of that length for the given patient"
   ]
  },
  {
   "cell_type": "code",
   "execution_count": null,
   "metadata": {
    "scrolled": true
   },
   "outputs": [],
   "source": [
    "options(repr.plot.width = 17)\n",
    "test_length  <- metadata_6 %>% \n",
    "filter(Condition %in% c(\"Ctrl T0\", \"Dia T0\", \"Ctrl T1\", \"Dia T1\"))  %>% \n",
    "mutate(Disease == ifelse(grepl(pattern = \"Ctrl\", x = Condition), \"Ctrl\", \"Dia\"))  %>% \n",
    "group_by(Disease, Patient_ID, cdr3_B_nchar)  %>%\n",
    "  summarise(n = n()) %>%\n",
    "  mutate(freq = n / sum(n))\n",
    "\n",
    "test_length  %>% group_by(Patient_ID)  %>% summarise(sum = sum(freq))"
   ]
  },
  {
   "cell_type": "code",
   "execution_count": null,
   "metadata": {
    "scrolled": true
   },
   "outputs": [],
   "source": [
    "test_length"
   ]
  },
  {
   "cell_type": "code",
   "execution_count": null,
   "metadata": {},
   "outputs": [],
   "source": [
    "test_length  %>% \n",
    "filter(!is.na(cdr3_B_nchar))  %>% \n",
    "ggplot(aes(x = Disease, y = freq)) + \n",
    "  geom_boxplot(outlier.shape = NA, aes(fill = Disease), alpha = 0.4) + \n",
    "  geom_dotplot(binaxis='y', stackdir='center', dotsize=0) +\n",
    "  geom_jitter(width = 0.2, height = 0, size = 0.5, alpha = 1, aes(color = Disease)) +  # in aes, you can also use shape or fill (for the shapes that allow it)\n",
    "  facet_wrap(~factor(cdr3_B_nchar),\n",
    "             scales = \"fixed\", ncol = 19, drop = T) +\n",
    " ylab(\"Frequency\") +\n",
    "  xlab(\"CDR3 beta length\") +\n",
    "  theme_classic() + \n",
    "  ggpubr::stat_compare_means(label.x.npc = 0.3, label = \"p.format\") + \n",
    "theme(strip.background = element_blank(), axis.text.x = element_blank(), \n",
    "     axis.ticks.x = element_blank())"
   ]
  },
  {
   "cell_type": "markdown",
   "metadata": {},
   "source": [
    "* Count each sequence for one patient only once\n",
    "\n",
    "* I count the number of sequences of a given length for one patient\n",
    "\n",
    "* Then I plot the frequency of that length for the given patient"
   ]
  },
  {
   "cell_type": "code",
   "execution_count": null,
   "metadata": {
    "scrolled": true
   },
   "outputs": [],
   "source": [
    "options(repr.plot.width = 17)\n",
    "test_length  <- metadata_6 %>% \n",
    "dplyr::select(Disease, Condition, Patient_ID, cdr3_B_nchar, cdr3_B)  %>% \n",
    "unique  %>% \n",
    "filter(Condition %in% c(\"Ctrl T0\", \"Dia T0\", \"Ctrl T1\", \"Dia T1\"))  %>% \n",
    "mutate(Disease == ifelse(grepl(pattern = \"Ctrl\", x = Condition), \"Ctrl\", \"Dia\"))  %>% \n",
    "group_by(Disease, Patient_ID, cdr3_B_nchar)  %>%\n",
    "  summarise(n = n()) %>%\n",
    "  mutate(freq = n / sum(n))\n",
    "\n",
    "test_length  %>% group_by(Patient_ID)  %>% summarise(sum = sum(freq))"
   ]
  },
  {
   "cell_type": "code",
   "execution_count": null,
   "metadata": {},
   "outputs": [],
   "source": [
    "test_length  %>% \n",
    "filter(!is.na(cdr3_B_nchar))  %>% \n",
    "ggplot(aes(x = Disease, y = freq)) + \n",
    "  geom_boxplot(outlier.shape = NA, aes(fill = Disease), alpha = 0.4) + \n",
    "  geom_dotplot(binaxis='y', stackdir='center', dotsize=0) +\n",
    "  geom_jitter(width = 0.2, height = 0, size = 0.5, alpha = 1, aes(color = Disease)) +  # in aes, you can also use shape or fill (for the shapes that allow it)\n",
    "  facet_wrap(~factor(cdr3_B_nchar),\n",
    "             scales = \"fixed\", ncol = 19, drop = T) +\n",
    " ylab(\"Frequency\") +\n",
    "  xlab(\"CDR3 beta length\") +\n",
    "  theme_classic() + \n",
    "  ggpubr::stat_compare_means(label.x.npc = 0.3, label = \"p.format\") + \n",
    "theme(strip.background = element_blank(), axis.text.x = element_blank(), \n",
    "     axis.ticks.x = element_blank())"
   ]
  },
  {
   "cell_type": "code",
   "execution_count": null,
   "metadata": {},
   "outputs": [],
   "source": [
    "metadata_6$cdr3_B_nchar_nucl  <- nchar(metadata_6$cdr3_B_nt)"
   ]
  },
  {
   "cell_type": "markdown",
   "metadata": {},
   "source": [
    "* Count each sequence for one patient only once\n",
    "\n",
    "* I count the number of sequences of a given length *in nucleotides* for one patient\n",
    "\n",
    "* Then I plot the frequency of that length for the given patient"
   ]
  },
  {
   "cell_type": "code",
   "execution_count": null,
   "metadata": {
    "scrolled": true
   },
   "outputs": [],
   "source": [
    "options(repr.plot.width = 17)\n",
    "test_length  <- metadata_6 %>% \n",
    "dplyr::select(Disease, Condition, Patient_ID, cdr3_B_nchar_nucl, cdr3_B_nt)  %>% \n",
    "unique  %>% \n",
    "filter(Condition %in% c(\"Ctrl T0\", \"Dia T0\", \"Ctrl T1\", \"Dia T1\"))  %>% \n",
    "mutate(Disease == ifelse(grepl(pattern = \"Ctrl\", x = Condition), \"Ctrl\", \"Dia\"))  %>% \n",
    "group_by(Disease, Patient_ID, cdr3_B_nchar_nucl)  %>%\n",
    "  summarise(n = n()) %>%\n",
    "  mutate(freq = n / sum(n))\n",
    "\n",
    "test_length  %>% \n",
    "filter(!is.na(cdr3_B_nchar_nucl))  %>% \n",
    "ggplot(aes(x = Disease, y = freq)) + \n",
    "  geom_boxplot(outlier.shape = NA, aes(fill = Disease), alpha = 0.4) + \n",
    "  geom_dotplot(binaxis='y', stackdir='center', dotsize=0) +\n",
    "  geom_jitter(width = 0.2, height = 0, size = 0.5, alpha = 1, aes(color = Disease)) +  # in aes, you can also use shape or fill (for the shapes that allow it)\n",
    "  facet_wrap(~factor(cdr3_B_nchar_nucl),\n",
    "             scales = \"fixed\", ncol = 19, drop = T) +\n",
    " ylab(\"Frequency\") +\n",
    "  xlab(\"CDR3 beta length\") +\n",
    "  theme_classic() + \n",
    "  ggpubr::stat_compare_means(label.x.npc = 0.3, label = \"p.format\") + \n",
    "theme(strip.background = element_blank(), axis.text.x = element_blank(), \n",
    "     axis.ticks.x = element_blank())"
   ]
  },
  {
   "cell_type": "code",
   "execution_count": null,
   "metadata": {
    "scrolled": true
   },
   "outputs": [],
   "source": [
    "options(repr.plot.width = 17)\n",
    "test_length  <- metadata_6 %>% \n",
    "dplyr::select(Disease, Condition, Patient_ID, cdr3_B_nchar, cdr3_B)  %>% \n",
    "unique  %>% \n",
    "filter(Condition %in% c(\"Ctrl T0\", \"Dia T0\", \"Ctrl T1\", \"Dia T1\"))  %>% \n",
    "mutate(Disease == ifelse(grepl(pattern = \"Ctrl\", x = Condition), \"Ctrl\", \"Dia\"))  %>% \n",
    "group_by(Disease, Patient_ID, cdr3_B_nchar)  %>%\n",
    "  summarise(n = n()) %>%\n",
    "  mutate(freq = n / sum(n))\n",
    "\n",
    "test_length  %>% group_by(Patient_ID)  %>% summarise(sum = sum(freq))"
   ]
  },
  {
   "cell_type": "code",
   "execution_count": null,
   "metadata": {},
   "outputs": [],
   "source": [
    "test_length  %>% \n",
    "filter(!is.na(cdr3_B_nchar))  %>% \n",
    "ggplot(aes(x = Disease, y = freq)) + \n",
    "  geom_boxplot(outlier.shape = NA, aes(fill = Disease), alpha = 0.4) + \n",
    "  geom_dotplot(binaxis='y', stackdir='center', dotsize=0) +\n",
    "  geom_jitter(width = 0.2, height = 0, size = 0.7, shape = 21, alpha = 0.7, aes(fill = Disease)) +  # in aes, you can also use shape or fill (for the shapes that allow it)\n",
    "  facet_wrap(~factor(cdr3_B_nchar),\n",
    "             scales = \"fixed\", ncol = 19, drop = T) +\n",
    " scale_fill_manual(values = c(\"dodgerblue\", \"red2\"))  +\n",
    "ylab(\"Frequency\") +\n",
    "  xlab(\"CDR3 beta length\") +\n",
    "  theme_classic() + \n",
    "  ggpubr::stat_compare_means(label.x.npc = 0.3, label = \"p.format\", size = 7) + \n",
    "theme(strip.background = element_blank(), axis.text.x = element_blank(), \n",
    "     axis.ticks.x = element_blank()) + ggtheme()\n",
    "#ggsave(filename = \"../figures/tcr/cd8_tcr/tcr_length/cd8.png\", width = 22, height = 10, units = \"cm\")\n",
    "#ggsave(filename = \"../figures/tcr/cd8_tcr/tcr_length/cd8.svg\", width = 22, height = 10, units = \"cm\")"
   ]
  },
  {
   "cell_type": "markdown",
   "metadata": {},
   "source": [
    "# TRAV and TRBV usage"
   ]
  },
  {
   "cell_type": "markdown",
   "metadata": {},
   "source": [
    "In the next section, we will focus on the TRAV/TRBV repertoire. "
   ]
  },
  {
   "cell_type": "markdown",
   "metadata": {},
   "source": [
    "### TRAV"
   ]
  },
  {
   "cell_type": "code",
   "execution_count": null,
   "metadata": {},
   "outputs": [],
   "source": [
    "trav_usage <- metadata_6 %>%\n",
    "filter(!is.na(v_gene_A1))  %>% \n",
    "  dplyr::group_by(Patient_ID, v_gene_A1) %>%\n",
    "  summarise(n = n()) %>%\n",
    "  mutate(freq = n / sum(n))  %>% arrange(desc(freq))  %>% \n",
    "dplyr::select(-n)  %>% \n",
    "pivot_wider(names_from = \"v_gene_A1\", values_from = \"freq\", values_fill = 0)  %>% \n",
    "pivot_longer(!Patient_ID, names_to = \"v_gene_A1\", values_to = \"freq\")"
   ]
  },
  {
   "cell_type": "code",
   "execution_count": null,
   "metadata": {
    "scrolled": true
   },
   "outputs": [],
   "source": [
    "trav_usage  <- trav_usage  %>% mutate(Disease = ifelse((substr(Patient_ID, 1,1)==\"1\"), \"Dia\",\"Ctrl\"))"
   ]
  },
  {
   "cell_type": "code",
   "execution_count": null,
   "metadata": {},
   "outputs": [],
   "source": [
    "trav_usage <- metadata_6 %>%\n",
    "filter(!is.na(v_gene_A1))  %>% \n",
    "  dplyr::group_by(Patient_ID, v_gene_A1) %>%\n",
    "  summarise(n = n()) %>%\n",
    "  mutate(freq = n / sum(n))  %>% arrange(desc(freq))  %>% \n",
    "dplyr::select(-n)  %>% \n",
    "pivot_wider(names_from = \"v_gene_A1\", values_from = \"freq\", values_fill = 0)  %>% \n",
    "pivot_longer(!Patient_ID, names_to = \"v_gene_A1\", values_to = \"freq\")\n",
    "\n",
    "trav_usage\n",
    "\n",
    "trav_usage  <- trav_usage  %>% mutate(Disease = ifelse((substr(Patient_ID, 1,1)==\"1\"), \"Dia\",\"Ctrl\"))\n",
    "\n",
    "trav_usage"
   ]
  },
  {
   "cell_type": "code",
   "execution_count": null,
   "metadata": {
    "scrolled": true
   },
   "outputs": [],
   "source": [
    "options(repr.plot.height = 25, repr.plot.width = 10)\n",
    "trav_usage  %>% \n",
    "filter(grepl(v_gene_A1, pattern = \"TRD\")==F)  %>% \n",
    "group_by(v_gene_A1, Disease)  %>% \n",
    "summarise(freq2 = mean(freq, na.rm = TRUE),\n",
    "          min = min(freq, na.rm = TRUE),\n",
    "          max = max(freq, na.rm = TRUE))  %>% \n",
    "#filter(freq2>0.005)  %>% \n",
    "mutate(v_gene_A1 = fct_reorder(v_gene_A1, desc(freq2))) %>%\n",
    "  ggplot(aes(x = Disease, y = freq2, color = Disease)) + \n",
    "facet_grid(rows = vars(fct_reorder(v_gene_A1, desc(freq2)))) +\n",
    "geom_point(size = 2) + coord_flip() + \n",
    "geom_linerange(aes(ymin = min, ymax = max, color = Disease),\n",
    "                 alpha = 0.5, linewidth = 1) +\n",
    "ggtheme()  +\n",
    "theme(strip.text.y = element_text(\n",
    "        angle = 0), \n",
    "     axis.ticks.y = element_blank(),\n",
    "     axis.text.y = element_blank(),\n",
    "      strip.background = element_blank(),\n",
    "      panel.background = element_blank(),\n",
    "  panel.grid.major = element_line(size = 0.3, linetype = 'solid',\n",
    "                                colour = \"grey92\"), \n",
    "  panel.grid.minor = element_line(size = 0.3, linetype = 'solid',\n",
    "                                colour = \"grey92\")\n",
    "     ) +\n",
    "ggpubr::stat_compare_means(label.x.npc = 0.3, label = \"p.format\") +\n",
    "scale_color_manual(values = c(\"dodgerblue\", \"red3\"))"
   ]
  },
  {
   "cell_type": "code",
   "execution_count": null,
   "metadata": {},
   "outputs": [],
   "source": [
    "#ggsave(\"../figures/tcr/vdj_usage/cd8_trav.png\", width = 20, height = 50, units = \"cm\")\n",
    "#ggsave(\"../figures/tcr/vdj_usage/cd8_trav.svg\", width = 20, height = 50, units = \"cm\")"
   ]
  },
  {
   "cell_type": "markdown",
   "metadata": {},
   "source": [
    "### TRAJ"
   ]
  },
  {
   "cell_type": "code",
   "execution_count": null,
   "metadata": {},
   "outputs": [],
   "source": [
    "traj_usage <- metadata_6 %>%\n",
    "filter(!is.na(j_gene_A1))  %>% \n",
    "  dplyr::group_by(Patient_ID, j_gene_A1) %>%\n",
    "  summarise(n = n()) %>%\n",
    "  mutate(freq = n / sum(n))  %>% arrange(desc(freq))  %>% \n",
    "dplyr::select(-n)  %>% \n",
    "pivot_wider(names_from = \"j_gene_A1\", values_from = \"freq\", values_fill = 0)  %>% \n",
    "pivot_longer(!Patient_ID, names_to = \"j_gene_A1\", values_to = \"freq\")"
   ]
  },
  {
   "cell_type": "code",
   "execution_count": null,
   "metadata": {
    "scrolled": true
   },
   "outputs": [],
   "source": [
    "traj_usage  <- traj_usage %>% mutate(Disease = ifelse((substr(Patient_ID, 1,1)==\"1\"), \"Dia\",\"Ctrl\"))"
   ]
  },
  {
   "cell_type": "code",
   "execution_count": null,
   "metadata": {},
   "outputs": [],
   "source": [
    "options(repr.plot.height = 15, repr.plot.width = 10)\n",
    "traj_usage  %>% \n",
    "filter(grepl(j_gene_A1, pattern = \"TRD\")==F)  %>% \n",
    "group_by(j_gene_A1, Disease)  %>% \n",
    "summarise(freq2 = mean(freq, na.rm = TRUE),\n",
    "          min = min(freq, na.rm = TRUE),\n",
    "          max = max(freq, na.rm = TRUE))  %>% \n",
    "#filter(freq2>0.005)  %>% \n",
    "mutate(j_gene_A1 = fct_reorder(j_gene_A1, desc(freq2))) %>%\n",
    "  ggplot(aes(x = Disease, y = freq2, color = Disease)) + \n",
    "facet_grid(rows = vars(fct_reorder(j_gene_A1, desc(freq2)))) +\n",
    "geom_point(size = 2) + coord_flip() + \n",
    "geom_linerange(aes(ymin = min, ymax = max, color = Disease),\n",
    "                 alpha = 0.5, linewidth = 1) +\n",
    "ggtheme()  +\n",
    "theme(strip.text.y = element_text(\n",
    "        angle = 0), \n",
    "     axis.ticks.y = element_blank(),\n",
    "     axis.text.y = element_blank(),\n",
    "      strip.background = element_blank(),\n",
    "      panel.background = element_blank(),\n",
    "  panel.grid.major = element_line(size = 0.3, linetype = 'solid',\n",
    "                                colour = \"grey92\"), \n",
    "  panel.grid.minor = element_line(size = 0.3, linetype = 'solid',\n",
    "                                colour = \"grey92\")\n",
    "     ) +\n",
    "ggpubr::stat_compare_means(label.x.npc = 0.3, label = \"p.format\") +\n",
    "scale_color_manual(values = c(\"dodgerblue\", \"red3\"))"
   ]
  },
  {
   "cell_type": "code",
   "execution_count": null,
   "metadata": {},
   "outputs": [],
   "source": [
    "#ggsave(\"../figures/tcr/vdj_usage/cd8_traj.png\", width = 15, height = 35, units = \"cm\")\n",
    "#ggsave(\"../figures/tcr/vdj_usage/cd8_traj.svg\", width = 15, height = 35, units = \"cm\")"
   ]
  },
  {
   "cell_type": "markdown",
   "metadata": {},
   "source": [
    "### TRBV"
   ]
  },
  {
   "cell_type": "code",
   "execution_count": null,
   "metadata": {},
   "outputs": [],
   "source": [
    "metadata_6$v_gene_B  %>% table"
   ]
  },
  {
   "cell_type": "code",
   "execution_count": null,
   "metadata": {},
   "outputs": [],
   "source": [
    "trbv_usage <- metadata_6 %>%\n",
    "filter(!is.na(v_gene_B))  %>% \n",
    "  dplyr::group_by(Patient_ID, v_gene_B) %>%\n",
    "  summarise(n = n()) %>%\n",
    "  mutate(freq = n / sum(n))  %>% arrange(desc(freq))  %>% \n",
    "dplyr::select(-n)  %>% \n",
    "pivot_wider(names_from = \"v_gene_B\", values_from = \"freq\", values_fill = 0)  %>% \n",
    "pivot_longer(!Patient_ID, names_to = \"v_gene_B\", values_to = \"freq\")"
   ]
  },
  {
   "cell_type": "code",
   "execution_count": null,
   "metadata": {
    "scrolled": true
   },
   "outputs": [],
   "source": [
    "trbv_usage  <- trbv_usage %>% mutate(Disease = ifelse((substr(Patient_ID, 1,1)==\"1\"), \"Dia\",\"Ctrl\"))"
   ]
  },
  {
   "cell_type": "code",
   "execution_count": null,
   "metadata": {},
   "outputs": [],
   "source": [
    "options(repr.plot.height = 15, repr.plot.width = 10)\n",
    "trbv_usage  %>% \n",
    "filter(grepl(v_gene_B, pattern = \"TRD\")==F)  %>% \n",
    "group_by(v_gene_B, Disease)  %>% \n",
    "summarise(freq2 = mean(freq, na.rm = TRUE),\n",
    "          min = min(freq, na.rm = TRUE),\n",
    "          max = max(freq, na.rm = TRUE))  %>% \n",
    "#filter(freq2>0.005)  %>% \n",
    "mutate(v_gene_B = fct_reorder(v_gene_B, desc(freq2))) %>%\n",
    "  ggplot(aes(x = Disease, y = freq2, color = Disease)) + \n",
    "facet_grid(rows = vars(fct_reorder(v_gene_B, desc(freq2)))) +\n",
    "geom_point(size = 2) + coord_flip() + \n",
    "geom_linerange(aes(ymin = min, ymax = max, color = Disease),\n",
    "                 alpha = 0.5, linewidth = 1) +\n",
    "ggtheme()  +\n",
    "theme(strip.text.y = element_text(\n",
    "        angle = 0), \n",
    "     axis.ticks.y = element_blank(),\n",
    "     axis.text.y = element_blank(),\n",
    "      strip.background = element_blank(),\n",
    "      panel.background = element_blank(),\n",
    "  panel.grid.major = element_line(size = 0.3, linetype = 'solid',\n",
    "                                colour = \"grey92\"), \n",
    "  panel.grid.minor = element_line(size = 0.3, linetype = 'solid',\n",
    "                                colour = \"grey92\")\n",
    "     ) +\n",
    "ggpubr::stat_compare_means(label.x.npc = 0.3, label = \"p.format\") +\n",
    "scale_color_manual(values = c(\"dodgerblue\", \"red3\"))"
   ]
  },
  {
   "cell_type": "code",
   "execution_count": null,
   "metadata": {},
   "outputs": [],
   "source": [
    "#ggsave(\"../figures/tcr/vdj_usage/cd8_trbv.png\", width = 15, height = 35, units = \"cm\")\n",
    "#ggsave(\"../figures/tcr/vdj_usage/cd8_trbv.svg\", width = 15, height = 35, units = \"cm\")"
   ]
  },
  {
   "cell_type": "markdown",
   "metadata": {},
   "source": [
    "### TRBJ"
   ]
  },
  {
   "cell_type": "code",
   "execution_count": null,
   "metadata": {},
   "outputs": [],
   "source": [
    "metadata_6$j_gene_B  %>% table"
   ]
  },
  {
   "cell_type": "code",
   "execution_count": null,
   "metadata": {},
   "outputs": [],
   "source": [
    "trbj_usage <- metadata_6 %>%\n",
    "filter(!is.na(j_gene_B))  %>% \n",
    "  dplyr::group_by(Patient_ID, j_gene_B) %>%\n",
    "  summarise(n = n()) %>%\n",
    "  mutate(freq = n / sum(n))  %>% arrange(desc(freq))  %>% \n",
    "dplyr::select(-n)  %>% \n",
    "pivot_wider(names_from = \"j_gene_B\", values_from = \"freq\", values_fill = 0)  %>% \n",
    "pivot_longer(!Patient_ID, names_to = \"j_gene_B\", values_to = \"freq\")"
   ]
  },
  {
   "cell_type": "code",
   "execution_count": null,
   "metadata": {
    "scrolled": true
   },
   "outputs": [],
   "source": [
    "trbj_usage  <- trbj_usage %>% mutate(Disease = ifelse((substr(Patient_ID, 1,1)==\"1\"), \"Dia\",\"Ctrl\"))"
   ]
  },
  {
   "cell_type": "code",
   "execution_count": null,
   "metadata": {},
   "outputs": [],
   "source": [
    "options(repr.plot.height = 15, repr.plot.width = 10)\n",
    "trbj_usage  %>% \n",
    "filter(grepl(j_gene_B, pattern = \"TRD\")==F)  %>% \n",
    "group_by(j_gene_B, Disease)  %>% \n",
    "summarise(freq2 = mean(freq, na.rm = TRUE),\n",
    "          min = min(freq, na.rm = TRUE),\n",
    "          max = max(freq, na.rm = TRUE))  %>% \n",
    "#filter(freq2>0.005)  %>% \n",
    "mutate(j_gene_B = fct_reorder(j_gene_B, desc(freq2))) %>%\n",
    "  ggplot(aes(x = Disease, y = freq2, color = Disease)) + \n",
    "facet_grid(rows = vars(fct_reorder(j_gene_B, desc(freq2)))) +\n",
    "geom_point(size = 2) + coord_flip() + \n",
    "geom_linerange(aes(ymin = min, ymax = max, color = Disease),\n",
    "                 alpha = 0.5, linewidth = 1) +\n",
    "ggtheme()  +\n",
    "theme(strip.text.y = element_text(\n",
    "        angle = 0), \n",
    "     axis.ticks.y = element_blank(),\n",
    "     axis.text.y = element_blank(),\n",
    "      strip.background = element_blank(),\n",
    "      panel.background = element_blank(),\n",
    "  panel.grid.major = element_line(size = 0.3, linetype = 'solid',\n",
    "                                colour = \"grey92\"), \n",
    "  panel.grid.minor = element_line(size = 0.3, linetype = 'solid',\n",
    "                                colour = \"grey92\")\n",
    "     ) +\n",
    "ggpubr::stat_compare_means(label.x.npc = 0.3, label = \"p.format\") +\n",
    "scale_color_manual(values = c(\"dodgerblue\", \"red3\"))"
   ]
  },
  {
   "cell_type": "code",
   "execution_count": null,
   "metadata": {},
   "outputs": [],
   "source": [
    "#ggsave(\"../figures/tcr/vdj_usage/cd8_trbj.png\", width = 15, height = 10, units = \"cm\")\n",
    "#ggsave(\"../figures/tcr/vdj_usage/cd8_trbj.svg\", width = 15, height = 10, units = \"cm\")"
   ]
  },
  {
   "cell_type": "markdown",
   "id": "e077be6a",
   "metadata": {},
   "source": [
    "# Clones shared between samples"
   ]
  },
  {
   "cell_type": "markdown",
   "metadata": {},
   "source": [
    "In the next section, we will check if there are any clones that overlap between samples and between patients. "
   ]
  },
  {
   "cell_type": "code",
   "execution_count": null,
   "id": "9faf706e",
   "metadata": {},
   "outputs": [],
   "source": [
    "cd8_l2_subcluster$Sample_char  <- paste(cd8_l2_subcluster$Patient_ID, \n",
    "                                  cd8_l2_subcluster$Disease,\n",
    "                                  cd8_l2_subcluster$Time,\n",
    "                                  cd8_l2_subcluster$Age_group,\n",
    "                                  cd8_l2_subcluster$Sex,\n",
    "                                  cd8_l2_subcluster$Experiment_ID)"
   ]
  },
  {
   "cell_type": "code",
   "execution_count": null,
   "id": "e5f6da4a",
   "metadata": {},
   "outputs": [],
   "source": [
    "clone_table <- metadata_6 %>%\n",
    "filter(clone_aa != \"CDR3b NA CDR3a NA\")  %>% \n",
    "  dplyr::group_by(Sample_char, clone_aa) %>%\n",
    "  summarise(n = n()) %>%\n",
    "  mutate(freq = n / sum(n))"
   ]
  },
  {
   "cell_type": "code",
   "execution_count": null,
   "id": "d39eb316",
   "metadata": {},
   "outputs": [],
   "source": [
    "clone_table_individual <- metadata_6 %>%\n",
    "  dplyr::group_by(clone_aa, Sample_char) %>%\n",
    "          dplyr::summarize(n = n()) %>%\n",
    "    arrange(desc(n)) %>% pivot_wider(names_from = Sample_char, values_from = n) "
   ]
  },
  {
   "cell_type": "code",
   "execution_count": null,
   "id": "f28c63bc",
   "metadata": {},
   "outputs": [],
   "source": [
    "is_positive <- function(number){\n",
    "  number2 <- ifelse(is.na(number),0,ifelse(number==0,0,1))\n",
    "  return(number2)\n",
    "}"
   ]
  },
  {
   "cell_type": "code",
   "execution_count": null,
   "id": "a2e05412",
   "metadata": {},
   "outputs": [],
   "source": [
    "dim(clone_table_individual)"
   ]
  },
  {
   "cell_type": "code",
   "execution_count": null,
   "id": "e0ce1697",
   "metadata": {},
   "outputs": [],
   "source": [
    "clone_table_individual_binary <- clone_table_individual %>% mutate_at(vars(2:88), is_positive)\n",
    "clone_table_individual$sum <- rowSums(clone_table_individual_binary[,2:88])\n",
    "\n",
    "clone_table_individual %>% arrange(desc(sum))"
   ]
  },
  {
   "cell_type": "code",
   "execution_count": null,
   "metadata": {},
   "outputs": [],
   "source": [
    "clone_table_individual  <- (clone_table_individual %>% arrange(desc(sum)))[2:nrow(clone_table_individual),]"
   ]
  },
  {
   "cell_type": "code",
   "execution_count": null,
   "metadata": {},
   "outputs": [],
   "source": [
    "clone_table_individual_binary  <- (clone_table_individual_binary)[c(1,3:nrow(clone_table_individual_binary)),]"
   ]
  },
  {
   "cell_type": "code",
   "execution_count": null,
   "metadata": {},
   "outputs": [],
   "source": [
    "write.csv(clone_table_individual %>% arrange(desc(sum)), \"../tables/tcr/overlapping_clones_cd8.csv\")"
   ]
  },
  {
   "cell_type": "code",
   "execution_count": null,
   "metadata": {},
   "outputs": [],
   "source": [
    "clone_table_individual_small  <- clone_table_individual  %>% filter(sum > 1)"
   ]
  },
  {
   "cell_type": "code",
   "execution_count": null,
   "id": "30056551",
   "metadata": {},
   "outputs": [],
   "source": [
    "write.csv(clone_table_individual_small %>% arrange(desc(sum)), \"../tables/tcr/overlapping_clones_cd8_small.csv\")"
   ]
  },
  {
   "cell_type": "markdown",
   "id": "4f30e069",
   "metadata": {},
   "source": [
    "### Repertoire overlap table"
   ]
  },
  {
   "cell_type": "code",
   "execution_count": null,
   "metadata": {},
   "outputs": [],
   "source": [
    "dim(clone_table_individual_binary)"
   ]
  },
  {
   "cell_type": "code",
   "execution_count": null,
   "id": "dd1562b2",
   "metadata": {},
   "outputs": [],
   "source": [
    "order_cols  <- order((colnames(clone_table_individual_binary)[2:88]))+1"
   ]
  },
  {
   "cell_type": "code",
   "execution_count": null,
   "id": "326ecd30",
   "metadata": {},
   "outputs": [],
   "source": [
    "clone_table_individual_binary  <- clone_table_individual_binary[,\n",
    "                                                                c(1,order_cols)]"
   ]
  },
  {
   "cell_type": "code",
   "execution_count": null,
   "id": "c8966cdb",
   "metadata": {},
   "outputs": [],
   "source": [
    "df_all4 <- data.frame(\"\")\n",
    "\n",
    "for(j in 2:88){\n",
    "  subset1 <- clone_table_individual_binary[,c(1,j)]\n",
    " colnames(subset1)  <- c(\"aa\", \"sub1\")\n",
    "  vector_overlap <- c()\n",
    "    subset1  <- subset1  %>% dplyr::filter(sub1 >0)\n",
    "    \n",
    "  for(i in 2:88){\n",
    "    subset2 <- clone_table_individual_binary[,c(1,i)]\n",
    "    colnames(subset2)  <- c(\"aa\", \"sub2\")\n",
    "    subset2  <- subset2  %>%  dplyr::filter(sub2 >0)\n",
    "    is_in_second_patient <- nrow(subset1[subset1$aa %in% subset2$aa,])\n",
    "    total <- nrow(subset1)\n",
    "    vector_overlap <- c(vector_overlap,is_in_second_patient/total)\n",
    "  }\n",
    "  df <- as.data.frame(x = vector_overlap)\n",
    "  colnames(df) <- colnames(clone_table_individual_binary)[j]\n",
    "  df\n",
    "  df_all4 <- cbind(df_all4, df)\n",
    "}\n",
    "\n"
   ]
  },
  {
   "cell_type": "code",
   "execution_count": null,
   "id": "c314e783",
   "metadata": {},
   "outputs": [],
   "source": [
    "df_all4 <- df_all4[,2:88]\n",
    "rownames(df_all4) <- colnames(df_all4)\n",
    "\n"
   ]
  },
  {
   "cell_type": "code",
   "execution_count": null,
   "id": "1d136997",
   "metadata": {},
   "outputs": [],
   "source": [
    "df24 <- df_all4\n",
    "df24[df24 == 1] <- 0\n"
   ]
  },
  {
   "cell_type": "code",
   "execution_count": null,
   "id": "afecce6b",
   "metadata": {},
   "outputs": [],
   "source": [
    "matrix_4  <- as.matrix(df24)"
   ]
  },
  {
   "cell_type": "code",
   "execution_count": null,
   "id": "0e291434",
   "metadata": {
    "scrolled": true
   },
   "outputs": [],
   "source": [
    "options(repr.plot.height = 17, repr.plot.width = 17)\n",
    "pheatmap::pheatmap(matrix_4, cluster_rows = F, cluster_cols = F)"
   ]
  },
  {
   "cell_type": "code",
   "execution_count": null,
   "id": "741471f5",
   "metadata": {
    "scrolled": true
   },
   "outputs": [],
   "source": [
    "matrix_5  <- log(matrix_4+0.0001)\n",
    "\n",
    "options(repr.plot.height = 17, repr.plot.width = 17)\n",
    "pheatmap::pheatmap(matrix_5, cluster_rows = F, cluster_cols = F)"
   ]
  },
  {
   "cell_type": "markdown",
   "metadata": {},
   "source": [
    "## TRB shared by patients"
   ]
  },
  {
   "cell_type": "markdown",
   "metadata": {},
   "source": [
    "We will repeat the analysis using just TCRb. "
   ]
  },
  {
   "cell_type": "code",
   "execution_count": null,
   "id": "e5f6da4a",
   "metadata": {},
   "outputs": [],
   "source": [
    "clone_table <- metadata_6 %>%\n",
    "filter(clone_aa != \"CDR3b NA CDR3a NA\")  %>% \n",
    "  dplyr::group_by(Sample_char, cdr3_B) %>%\n",
    "  summarise(n = n()) %>%\n",
    "  mutate(freq = n / sum(n))"
   ]
  },
  {
   "cell_type": "code",
   "execution_count": null,
   "id": "d39eb316",
   "metadata": {},
   "outputs": [],
   "source": [
    "clone_table_individual <- metadata_6 %>%\n",
    "  dplyr::group_by(cdr3_B, Sample_char) %>%\n",
    "          dplyr::summarize(n = n()) %>%\n",
    "    arrange(desc(n)) %>% pivot_wider(names_from = Sample_char, values_from = n, values_fill = 0) "
   ]
  },
  {
   "cell_type": "code",
   "execution_count": null,
   "id": "e0ce1697",
   "metadata": {},
   "outputs": [],
   "source": [
    "clone_table_individual_binary <- clone_table_individual %>% mutate_at(vars(2:88), is_positive)\n",
    "clone_table_individual$sum <- rowSums(clone_table_individual_binary[,2:88])\n",
    "\n",
    "clone_table_individual %>% arrange(desc(sum))"
   ]
  },
  {
   "cell_type": "code",
   "execution_count": null,
   "metadata": {},
   "outputs": [],
   "source": [
    "clone_table_individual  <- (clone_table_individual %>% arrange(desc(sum)))[2:nrow(clone_table_individual),]"
   ]
  },
  {
   "cell_type": "code",
   "execution_count": null,
   "metadata": {},
   "outputs": [],
   "source": [
    "clone_table_individual_binary  <- (clone_table_individual_binary)[c(2:nrow(clone_table_individual_binary)),]"
   ]
  },
  {
   "cell_type": "code",
   "execution_count": null,
   "metadata": {},
   "outputs": [],
   "source": [
    "write.csv(clone_table_individual %>% arrange(desc(sum)), \"../tables/tcr/overlapping_trb_cd8.csv\")"
   ]
  },
  {
   "cell_type": "code",
   "execution_count": null,
   "metadata": {},
   "outputs": [],
   "source": [
    "clone_table_individual_small  <- clone_table_individual  %>% filter(sum > 1)"
   ]
  },
  {
   "cell_type": "code",
   "execution_count": null,
   "id": "30056551",
   "metadata": {},
   "outputs": [],
   "source": [
    "write.csv(clone_table_individual_small %>% arrange(desc(sum)), \"../tables/tcr/overlapping_trb_cd8_small.csv\")"
   ]
  },
  {
   "cell_type": "markdown",
   "id": "4f30e069",
   "metadata": {},
   "source": [
    "### Repertoire overlap table"
   ]
  },
  {
   "cell_type": "code",
   "execution_count": null,
   "metadata": {},
   "outputs": [],
   "source": [
    "clone_table_individual_binary"
   ]
  },
  {
   "cell_type": "code",
   "execution_count": null,
   "id": "dd1562b2",
   "metadata": {},
   "outputs": [],
   "source": [
    "order_cols  <- order((colnames(clone_table_individual_binary)[2:88]))+1"
   ]
  },
  {
   "cell_type": "code",
   "execution_count": null,
   "id": "326ecd30",
   "metadata": {},
   "outputs": [],
   "source": [
    "clone_table_individual_binary  <- clone_table_individual_binary[,\n",
    "                                                                c(1,order_cols)]"
   ]
  },
  {
   "cell_type": "code",
   "execution_count": null,
   "id": "c8966cdb",
   "metadata": {},
   "outputs": [],
   "source": [
    "df_all4 <- data.frame(\"\")\n",
    "\n",
    "for(j in 2:88){\n",
    "  subset1 <- clone_table_individual_binary[,c(1,j)]\n",
    " colnames(subset1)  <- c(\"aa\", \"sub1\")\n",
    "  vector_overlap <- c()\n",
    "    subset1  <- subset1  %>% dplyr::filter(sub1 >0)\n",
    "    \n",
    "  for(i in 2:88){\n",
    "    subset2 <- clone_table_individual_binary[,c(1,i)]\n",
    "    colnames(subset2)  <- c(\"aa\", \"sub2\")\n",
    "    subset2  <- subset2  %>%  dplyr::filter(sub2 >0)\n",
    "    is_in_second_patient <- nrow(subset1[subset1$aa %in% subset2$aa,])\n",
    "    total <- nrow(subset1)\n",
    "    vector_overlap <- c(vector_overlap,is_in_second_patient/total)\n",
    "  }\n",
    "  df <- as.data.frame(x = vector_overlap)\n",
    "  colnames(df) <- colnames(clone_table_individual_binary)[j]\n",
    "  df\n",
    "  df_all4 <- cbind(df_all4, df)\n",
    "}\n"
   ]
  },
  {
   "cell_type": "code",
   "execution_count": null,
   "id": "c314e783",
   "metadata": {},
   "outputs": [],
   "source": [
    "df_all4 <- df_all4[,2:88]\n",
    "rownames(df_all4) <- colnames(df_all4)\n"
   ]
  },
  {
   "cell_type": "code",
   "execution_count": null,
   "id": "1d136997",
   "metadata": {},
   "outputs": [],
   "source": [
    "df24 <- df_all4\n",
    "df24[df24 == 1] <- 0\n"
   ]
  },
  {
   "cell_type": "code",
   "execution_count": null,
   "id": "afecce6b",
   "metadata": {},
   "outputs": [],
   "source": [
    "matrix_4  <- as.matrix(df24)"
   ]
  },
  {
   "cell_type": "code",
   "execution_count": null,
   "id": "0e291434",
   "metadata": {
    "scrolled": true
   },
   "outputs": [],
   "source": [
    "options(repr.plot.height = 17, repr.plot.width = 17)\n",
    "pheatmap::pheatmap(matrix_4, cluster_rows = F, cluster_cols = F)"
   ]
  },
  {
   "cell_type": "code",
   "execution_count": null,
   "id": "741471f5",
   "metadata": {
    "scrolled": true
   },
   "outputs": [],
   "source": [
    "matrix_5  <- log(matrix_4+0.0001)\n",
    "\n",
    "options(repr.plot.height = 17, repr.plot.width = 17)\n",
    "pheatmap::pheatmap(matrix_5, cluster_rows = F, cluster_cols = F)"
   ]
  },
  {
   "cell_type": "markdown",
   "id": "1b223ce8",
   "metadata": {},
   "source": [
    "## Overlap by patient"
   ]
  },
  {
   "cell_type": "markdown",
   "metadata": {},
   "source": [
    "Now we will repeat the analysis, but focusing on individual donors instead of individual samples. "
   ]
  },
  {
   "cell_type": "markdown",
   "metadata": {},
   "source": [
    "### Clone_aa"
   ]
  },
  {
   "cell_type": "code",
   "execution_count": null,
   "id": "d49002fc",
   "metadata": {},
   "outputs": [],
   "source": [
    "clone_table_individual <- metadata_6 %>%\n",
    "mutate(Condition = paste(Patient_ID, Disease))  %>% \n",
    "  dplyr::group_by(clone_aa, Condition) %>%\n",
    "          dplyr::summarize(n = n()) %>%\n",
    "    arrange(desc(n)) %>% pivot_wider(names_from = Condition, values_from = n) "
   ]
  },
  {
   "cell_type": "code",
   "execution_count": null,
   "id": "03c3f9a1",
   "metadata": {},
   "outputs": [],
   "source": [
    "is_positive <- function(number){\n",
    "  number2 <- ifelse(is.na(number),0,ifelse(number==0,0,1))\n",
    "  return(number2)\n",
    "}"
   ]
  },
  {
   "cell_type": "code",
   "execution_count": null,
   "id": "e0ce1697",
   "metadata": {},
   "outputs": [],
   "source": [
    "clone_table_individual_binary <- clone_table_individual %>% mutate_at(vars(2:44), is_positive)\n",
    "clone_table_individual$sum <- rowSums(clone_table_individual_binary[,2:44])\n",
    "\n",
    "clone_table_individual %>% arrange(desc(sum))"
   ]
  },
  {
   "cell_type": "code",
   "execution_count": null,
   "metadata": {},
   "outputs": [],
   "source": [
    "clone_table_individual  <- (clone_table_individual %>% arrange(desc(sum)))[2:nrow(clone_table_individual),]"
   ]
  },
  {
   "cell_type": "code",
   "execution_count": null,
   "metadata": {},
   "outputs": [],
   "source": [
    "clone_table_individual_binary  <- (clone_table_individual_binary)[c(2:nrow(clone_table_individual_binary)),]"
   ]
  },
  {
   "cell_type": "code",
   "execution_count": null,
   "id": "4f85be4a",
   "metadata": {},
   "outputs": [],
   "source": [
    "write.csv(clone_table_individual %>% arrange(desc(sum)), \"../tables/tcr/overlapping_clones_cd8_by_patient.csv\")"
   ]
  },
  {
   "cell_type": "markdown",
   "id": "5220e233",
   "metadata": {},
   "source": [
    "### Repertoire overlap table"
   ]
  },
  {
   "cell_type": "code",
   "execution_count": null,
   "id": "ccaa0679",
   "metadata": {},
   "outputs": [],
   "source": [
    "clone_table_individual_binary  <- clone_table_individual_binary[,\n",
    "                                                                c(1,order((colnames(clone_table_individual_binary)[2:44]))+1)]"
   ]
  },
  {
   "cell_type": "code",
   "execution_count": null,
   "metadata": {},
   "outputs": [],
   "source": [
    "clone_table_individual_binary"
   ]
  },
  {
   "cell_type": "code",
   "execution_count": null,
   "id": "8a27863c",
   "metadata": {
    "scrolled": true
   },
   "outputs": [],
   "source": [
    "df_all5 <- data.frame(\"\")\n",
    "\n",
    "for(j in 2:44){\n",
    "  subset1 <- clone_table_individual_binary[,c(1,j)]\n",
    " colnames(subset1)  <- c(\"aa\", \"sub1\")\n",
    "  vector_overlap <- c()\n",
    "    subset1  <- subset1  %>% dplyr::filter(sub1 >0)\n",
    "    \n",
    "  for(i in 2:44){\n",
    "    subset2 <- clone_table_individual_binary[,c(1,i)]\n",
    "    colnames(subset2)  <- c(\"aa\", \"sub2\")\n",
    "    subset2  <- subset2  %>%  dplyr::filter(sub2 >0)\n",
    "    is_in_second_patient <- nrow(subset1[subset1$aa %in% subset2$aa,])\n",
    "    total <- nrow(subset1)\n",
    "    vector_overlap <- c(vector_overlap,is_in_second_patient/total)\n",
    "  }\n",
    "  df <- as.data.frame(x = vector_overlap)\n",
    "  colnames(df) <- colnames(clone_table_individual_binary)[j]\n",
    "  df\n",
    "  df_all5 <- cbind(df_all5, df)\n",
    "}"
   ]
  },
  {
   "cell_type": "code",
   "execution_count": null,
   "id": "1cdb7248",
   "metadata": {},
   "outputs": [],
   "source": [
    "df_all5 <- df_all5[,2:44]\n",
    "rownames(df_all5) <- colnames(df_all5)"
   ]
  },
  {
   "cell_type": "code",
   "execution_count": null,
   "id": "c21ae9df",
   "metadata": {},
   "outputs": [],
   "source": [
    "df25 <- df_all5\n",
    "df25[df25 == 1] <- 0\n"
   ]
  },
  {
   "cell_type": "code",
   "execution_count": null,
   "id": "7908b40f",
   "metadata": {},
   "outputs": [],
   "source": [
    "matrix_6  <- as.matrix(df25)"
   ]
  },
  {
   "cell_type": "code",
   "execution_count": null,
   "id": "d944f8a0",
   "metadata": {
    "scrolled": true
   },
   "outputs": [],
   "source": [
    "options(repr.plot.height = 12, repr.plot.width = 12)\n",
    "pheatmap::pheatmap(matrix_6, cluster_rows = F, cluster_cols = F)"
   ]
  },
  {
   "cell_type": "code",
   "execution_count": null,
   "id": "0cbf5d93",
   "metadata": {
    "scrolled": true
   },
   "outputs": [],
   "source": [
    "pheatmap::pheatmap(matrix_6, cluster_rows = T, cluster_cols = T)"
   ]
  },
  {
   "cell_type": "markdown",
   "metadata": {},
   "source": [
    "## TCRb"
   ]
  },
  {
   "cell_type": "code",
   "execution_count": null,
   "id": "d49002fc",
   "metadata": {
    "scrolled": true
   },
   "outputs": [],
   "source": [
    "clone_table_individual <- metadata_6 %>%\n",
    "mutate(Condition = paste(Patient_ID, Disease))  %>% \n",
    "  dplyr::group_by(cdr3_B, Condition) %>%\n",
    "          dplyr::summarize(n = n()) %>%\n",
    "    arrange(desc(n)) %>% pivot_wider(names_from = Condition, values_from = n) "
   ]
  },
  {
   "cell_type": "code",
   "execution_count": null,
   "id": "5494b886",
   "metadata": {
    "scrolled": true
   },
   "outputs": [],
   "source": [
    "clone_table_individual"
   ]
  },
  {
   "cell_type": "code",
   "execution_count": null,
   "id": "e0ce1697",
   "metadata": {},
   "outputs": [],
   "source": [
    "clone_table_individual_binary <- clone_table_individual %>% mutate_at(vars(2:44), is_positive)\n",
    "clone_table_individual$sum <- rowSums(clone_table_individual_binary[,2:44])\n",
    "\n",
    "clone_table_individual %>% arrange(desc(sum))"
   ]
  },
  {
   "cell_type": "code",
   "execution_count": null,
   "metadata": {},
   "outputs": [],
   "source": [
    "clone_table_individual  <- (clone_table_individual %>% arrange(desc(sum)))[2:nrow(clone_table_individual),]"
   ]
  },
  {
   "cell_type": "code",
   "execution_count": null,
   "metadata": {},
   "outputs": [],
   "source": [
    "clone_table_individual_binary  <- (clone_table_individual_binary)[c(2:nrow(clone_table_individual_binary)),]"
   ]
  },
  {
   "cell_type": "code",
   "execution_count": null,
   "metadata": {},
   "outputs": [],
   "source": [
    "write.csv(clone_table_individual %>% arrange(desc(sum)), \"../tables/tcr/overlapping_trb_cd8_by_patient.csv\")"
   ]
  },
  {
   "cell_type": "code",
   "execution_count": null,
   "metadata": {},
   "outputs": [],
   "source": [
    "clone_table_individual_small  <- clone_table_individual  %>% filter(sum > 1)"
   ]
  },
  {
   "cell_type": "code",
   "execution_count": null,
   "metadata": {
    "scrolled": true
   },
   "outputs": [],
   "source": [
    "clone_table_individual_small"
   ]
  },
  {
   "cell_type": "code",
   "execution_count": null,
   "id": "30056551",
   "metadata": {},
   "outputs": [],
   "source": [
    "write.csv(clone_table_individual_small %>% arrange(desc(sum)), \"../tables/tcr/overlapping_trb_cd8_small_by_patient.csv\")"
   ]
  },
  {
   "cell_type": "markdown",
   "id": "5220e233",
   "metadata": {},
   "source": [
    "### Repertoire overlap table"
   ]
  },
  {
   "cell_type": "code",
   "execution_count": null,
   "id": "ccaa0679",
   "metadata": {},
   "outputs": [],
   "source": [
    "clone_table_individual_binary  <- clone_table_individual_binary[,\n",
    "                                                                c(1,order((colnames(clone_table_individual_binary)[2:44]))+1)]"
   ]
  },
  {
   "cell_type": "code",
   "execution_count": null,
   "id": "8a27863c",
   "metadata": {
    "scrolled": true
   },
   "outputs": [],
   "source": [
    "df_all5 <- data.frame(\"\")\n",
    "\n",
    "for(j in 2:44){\n",
    "  subset1 <- clone_table_individual_binary[,c(1,j)]\n",
    " colnames(subset1)  <- c(\"aa\", \"sub1\")\n",
    "  vector_overlap <- c()\n",
    "    subset1  <- subset1  %>% dplyr::filter(sub1 >0)\n",
    "    \n",
    "  for(i in 2:44){\n",
    "    subset2 <- clone_table_individual_binary[,c(1,i)]\n",
    "    colnames(subset2)  <- c(\"aa\", \"sub2\")\n",
    "    subset2  <- subset2  %>%  dplyr::filter(sub2 >0)\n",
    "    is_in_second_patient <- nrow(subset1[subset1$aa %in% subset2$aa,])\n",
    "    total <- nrow(subset1)\n",
    "    vector_overlap <- c(vector_overlap,is_in_second_patient/total)\n",
    "  }\n",
    "  df <- as.data.frame(x = vector_overlap)\n",
    "  colnames(df) <- colnames(clone_table_individual_binary)[j]\n",
    "  df\n",
    "  df_all5 <- cbind(df_all5, df)\n",
    "}\n",
    "\n"
   ]
  },
  {
   "cell_type": "code",
   "execution_count": null,
   "id": "1cdb7248",
   "metadata": {},
   "outputs": [],
   "source": [
    "df_all5 <- df_all5[,2:44]\n",
    "rownames(df_all5) <- colnames(df_all5)"
   ]
  },
  {
   "cell_type": "code",
   "execution_count": null,
   "id": "c21ae9df",
   "metadata": {},
   "outputs": [],
   "source": [
    "df25 <- df_all5\n",
    "df25[df25 == 1] <- 0"
   ]
  },
  {
   "cell_type": "code",
   "execution_count": null,
   "id": "7908b40f",
   "metadata": {},
   "outputs": [],
   "source": [
    "matrix_6  <- as.matrix(df25)"
   ]
  },
  {
   "cell_type": "code",
   "execution_count": null,
   "id": "d944f8a0",
   "metadata": {
    "scrolled": true
   },
   "outputs": [],
   "source": [
    "options(repr.plot.height = 12, repr.plot.width = 12)\n",
    "pheatmap::pheatmap(matrix_6, cluster_rows = F, cluster_cols = F)"
   ]
  },
  {
   "cell_type": "code",
   "execution_count": null,
   "id": "0cbf5d93",
   "metadata": {
    "scrolled": true
   },
   "outputs": [],
   "source": [
    "pheatmap::pheatmap(matrix_6, cluster_rows = T, cluster_cols = T)"
   ]
  },
  {
   "cell_type": "markdown",
   "metadata": {},
   "source": [
    "## TCRa"
   ]
  },
  {
   "cell_type": "code",
   "execution_count": null,
   "id": "d49002fc",
   "metadata": {},
   "outputs": [],
   "source": [
    "clone_table_individual <- metadata_6 %>%\n",
    "mutate(Condition = paste(Patient_ID, Disease))  %>% \n",
    "  dplyr::group_by(cdr3_A1, Condition) %>%\n",
    "          dplyr::summarize(n = n()) %>%\n",
    "    arrange(desc(n)) %>% pivot_wider(names_from = Condition, values_from = n) "
   ]
  },
  {
   "cell_type": "code",
   "execution_count": null,
   "id": "e0ce1697",
   "metadata": {},
   "outputs": [],
   "source": [
    "clone_table_individual_binary <- clone_table_individual %>% mutate_at(vars(2:44), is_positive)\n",
    "clone_table_individual$sum <- rowSums(clone_table_individual_binary[,2:44])\n",
    "\n",
    "clone_table_individual %>% arrange(desc(sum))"
   ]
  },
  {
   "cell_type": "code",
   "execution_count": null,
   "metadata": {},
   "outputs": [],
   "source": [
    "clone_table_individual  <- (clone_table_individual %>% arrange(desc(sum)))[2:nrow(clone_table_individual),]"
   ]
  },
  {
   "cell_type": "code",
   "execution_count": null,
   "metadata": {},
   "outputs": [],
   "source": [
    "clone_table_individual_binary  <- (clone_table_individual_binary)[c(2:nrow(clone_table_individual_binary)),]"
   ]
  },
  {
   "cell_type": "code",
   "execution_count": null,
   "metadata": {},
   "outputs": [],
   "source": [
    "write.csv(clone_table_individual %>% arrange(desc(sum)), \"../tables/tcr/overlapping_tra_cd8_by_patient.csv\")"
   ]
  },
  {
   "cell_type": "code",
   "execution_count": null,
   "metadata": {},
   "outputs": [],
   "source": [
    "clone_table_individual_small  <- clone_table_individual  %>% filter(sum > 1)"
   ]
  },
  {
   "cell_type": "code",
   "execution_count": null,
   "id": "30056551",
   "metadata": {},
   "outputs": [],
   "source": [
    "write.csv(clone_table_individual_small %>% arrange(desc(sum)), \"../tables/tcr/overlapping_tra_cd8_small_by_patient.csv\")"
   ]
  },
  {
   "cell_type": "markdown",
   "id": "5220e233",
   "metadata": {},
   "source": [
    "### Repertoire overlap table"
   ]
  },
  {
   "cell_type": "code",
   "execution_count": null,
   "id": "ccaa0679",
   "metadata": {},
   "outputs": [],
   "source": [
    "clone_table_individual_binary  <- clone_table_individual_binary[,\n",
    "                                                                c(1,order((colnames(clone_table_individual_binary)[2:44]))+1)]"
   ]
  },
  {
   "cell_type": "code",
   "execution_count": null,
   "id": "8a27863c",
   "metadata": {
    "scrolled": true
   },
   "outputs": [],
   "source": [
    "df_all5 <- data.frame(\"\")\n",
    "\n",
    "for(j in 2:44){\n",
    "  subset1 <- clone_table_individual_binary[,c(1,j)]\n",
    " colnames(subset1)  <- c(\"aa\", \"sub1\")\n",
    "  vector_overlap <- c()\n",
    "    subset1  <- subset1  %>% dplyr::filter(sub1 >0)\n",
    "    \n",
    "  for(i in 2:44){\n",
    "    subset2 <- clone_table_individual_binary[,c(1,i)]\n",
    "    colnames(subset2)  <- c(\"aa\", \"sub2\")\n",
    "    subset2  <- subset2  %>%  dplyr::filter(sub2 >0)\n",
    "    is_in_second_patient <- nrow(subset1[subset1$aa %in% subset2$aa,])\n",
    "    total <- nrow(subset1)\n",
    "    vector_overlap <- c(vector_overlap,is_in_second_patient/total)\n",
    "  }\n",
    "  df <- as.data.frame(x = vector_overlap)\n",
    "  colnames(df) <- colnames(clone_table_individual_binary)[j]\n",
    "  df\n",
    "  df_all5 <- cbind(df_all5, df)\n",
    "}"
   ]
  },
  {
   "cell_type": "code",
   "execution_count": null,
   "id": "1cdb7248",
   "metadata": {},
   "outputs": [],
   "source": [
    "df_all5 <- df_all5[,2:44]\n",
    "rownames(df_all5) <- colnames(df_all5)"
   ]
  },
  {
   "cell_type": "code",
   "execution_count": null,
   "id": "c21ae9df",
   "metadata": {},
   "outputs": [],
   "source": [
    "df25 <- df_all5\n",
    "df25[df25 == 1] <- 0"
   ]
  },
  {
   "cell_type": "code",
   "execution_count": null,
   "id": "7908b40f",
   "metadata": {},
   "outputs": [],
   "source": [
    "matrix_6  <- as.matrix(df25)"
   ]
  },
  {
   "cell_type": "code",
   "execution_count": null,
   "id": "d944f8a0",
   "metadata": {
    "scrolled": true
   },
   "outputs": [],
   "source": [
    "options(repr.plot.height = 12, repr.plot.width = 12)\n",
    "pheatmap::pheatmap(matrix_6, cluster_rows = F, cluster_cols = F)"
   ]
  },
  {
   "cell_type": "code",
   "execution_count": null,
   "id": "0cbf5d93",
   "metadata": {
    "scrolled": true
   },
   "outputs": [],
   "source": [
    "pheatmap::pheatmap(matrix_6, cluster_rows = T, cluster_cols = T)"
   ]
  },
  {
   "cell_type": "markdown",
   "metadata": {},
   "source": [
    "# TCR properties peptides"
   ]
  },
  {
   "cell_type": "markdown",
   "metadata": {},
   "source": [
    "Finally, we will evaluate the biochemical properties of TCR sequences by the peptides package. "
   ]
  },
  {
   "cell_type": "code",
   "execution_count": null,
   "metadata": {},
   "outputs": [],
   "source": [
    "cd8_l2_subcluster  <- readRDS(\"../data/processed/L2/cd8_l2_subcluster.rds\")"
   ]
  },
  {
   "cell_type": "code",
   "execution_count": null,
   "metadata": {},
   "outputs": [],
   "source": [
    "library(Peptides)\n",
    "library(Seurat)\n",
    "library(dplyr)\n",
    "library(ggpubr)"
   ]
  },
  {
   "cell_type": "code",
   "execution_count": null,
   "metadata": {},
   "outputs": [],
   "source": [
    "add_TCR_properties  <- function(seurat){\n",
    "    seurat@meta.data  <- seurat@meta.data  %>% mutate(pI_cdr3_B = ifelse(is.na(cdr3_B),NA_integer_,pI(cdr3_B)),\n",
    "           boman_cdr3_B = ifelse(is.na(cdr3_B),NA_integer_,boman(cdr3_B)),\n",
    "          charge_cdr3_B = ifelse(is.na(cdr3_B),NA_integer_,charge(cdr3_B)),\n",
    "          hmoment_cdr3_B = ifelse(is.na(cdr3_B),NA_integer_,hmoment(cdr3_B)),\n",
    "          hydrophobicity_cdr3_B = ifelse(is.na(cdr3_B),NA_integer_,hydrophobicity(cdr3_B)),\n",
    "          mw_cdr3_B = ifelse(is.na(cdr3_B),NA_integer_,mw(cdr3_B)),\n",
    "          mz_cdr3_B = ifelse(is.na(cdr3_B),NA_integer_,mz(cdr3_B)),\n",
    "          pI_cdr3_A1 = ifelse(is.na(cdr3_A1),NA_integer_,pI(cdr3_A1)),\n",
    "           boman_cdr3_A1 = ifelse(is.na(cdr3_A1),NA_integer_,boman(cdr3_A1)),\n",
    "          charge_cdr3_A1 = ifelse(is.na(cdr3_A1),NA_integer_,charge(cdr3_A1)),\n",
    "          hmoment_cdr3_A1 = ifelse(is.na(cdr3_A1),NA_integer_,hmoment(cdr3_A1)),\n",
    "          hydrophobicity_cdr3_A1 = ifelse(is.na(cdr3_A1),NA_integer_,hydrophobicity(cdr3_A1)),\n",
    "          mw_cdr3_A1 = ifelse(is.na(cdr3_A1),NA_integer_,mw(cdr3_A1)),\n",
    "          mz_cdr3_A1 = ifelse(is.na(cdr3_A1),NA_integer_,mz(cdr3_A1)),\n",
    "          pI_cdr3_clone = ifelse(is.na(cdr3_B)|is.na(cdr3_A1),NA_integer_,pI(paste0(cdr3_B,cdr3_A1))),\n",
    "           boman_cdr3_clone = ifelse(is.na(cdr3_B)|is.na(cdr3_A1),NA_integer_,boman(paste0(cdr3_B,cdr3_A1))),\n",
    "          charge_cdr3_clone = ifelse(is.na(cdr3_B)|is.na(cdr3_A1),NA_integer_,charge(paste0(cdr3_B,cdr3_A1))),\n",
    "          hmoment_cdr3_clone = ifelse(is.na(cdr3_B)|is.na(cdr3_A1),NA_integer_,hmoment(paste0(cdr3_B,cdr3_A1))),\n",
    "          hydrophobicity_cdr3_clone = ifelse(is.na(cdr3_B)|is.na(cdr3_A1),NA_integer_,hydrophobicity(paste0(cdr3_B,cdr3_A1))),\n",
    "          mw_cdr3_clone = ifelse(is.na(cdr3_B)|is.na(cdr3_A1),NA_integer_,mw(paste0(cdr3_B,cdr3_A1))),\n",
    "          mz_cdr3_clone = ifelse(is.na(cdr3_B)|is.na(cdr3_A1),NA_integer_,mz(paste0(cdr3_B,cdr3_A1))))\n",
    "    return(seurat)\n",
    "    }"
   ]
  },
  {
   "cell_type": "code",
   "execution_count": null,
   "metadata": {},
   "outputs": [],
   "source": [
    "cd8_l2_subcluster  <- add_TCR_properties(cd8_l2_subcluster)"
   ]
  },
  {
   "cell_type": "code",
   "execution_count": null,
   "metadata": {},
   "outputs": [],
   "source": [
    "colnames(cd8_l2_subcluster@meta.data[,180:200])"
   ]
  },
  {
   "cell_type": "code",
   "execution_count": null,
   "metadata": {},
   "outputs": [],
   "source": [
    "cd8_l2_subcluster@meta.data[,180:200]"
   ]
  },
  {
   "cell_type": "code",
   "execution_count": null,
   "metadata": {},
   "outputs": [],
   "source": [
    "dir.create(\"../figures/tcr/peptides_cd8_allclones/\")"
   ]
  },
  {
   "cell_type": "markdown",
   "metadata": {},
   "source": [
    "## All clones"
   ]
  },
  {
   "cell_type": "code",
   "execution_count": null,
   "metadata": {
    "scrolled": true
   },
   "outputs": [],
   "source": [
    "options(repr.plot.width = 4, repr.plot.height = 6.5)\n",
    "\n",
    "\n",
    "for(i in 185:205){\n",
    "   df  <- data.frame(Score = cd8_l2_subcluster@meta.data[,i],\n",
    "                  Annotation = cd8_l2_subcluster$Disease)\n",
    "    dataMedian <- summarise(group_by(df, Annotation), MD = 1.2*median(Score, na.rm = T))\n",
    "       \n",
    "p  <- ggplot(df, aes(x = Annotation, y = Score)) +\n",
    "    ggrastr::rasterise(geom_jitter(position=position_jitter(0.2), size = 1, color = \"grey70\", alpha = 0.7)) +\n",
    "    geom_violin(aes(color = Annotation), scale = \"width\", alpha = 0.7) +  theme_classic() + \n",
    "   NoLegend() + theme(axis.text.x = element_text(angle = 45, vjust = 0.8, hjust =0.8)) +\n",
    "    scale_color_manual(values = c(\"blue\", \"#c41515ff\")) + \n",
    "    stat_summary(fun = \"median\",\n",
    "                   geom = \"crossbar\", \n",
    "                   width = 0.6,\n",
    "                   colour = \"grey20\") +\n",
    "    geom_text(data = dataMedian, aes(Annotation, MD, label = round(MD, digits = 2)), \n",
    "             size = 7) +\n",
    "    xlab(\"\") +\n",
    "    scale_fill_continuous(guide=FALSE) +\n",
    "   #scale_y_continuous(limits = c(NA, max())) +\n",
    "   ggpubr::stat_compare_means(size = 7, label = \"p.format\", label.x = 1.3,\n",
    "                              label.y.npc = 0.9) +\n",
    "  ggtitle(colnames(cd8_l2_subcluster@meta.data)[i]) + \n",
    "  theme(panel.background = element_blank(), axis.text.x = element_text(angle = 90),\n",
    "      axis.ticks.x = element_blank()) + ggtheme()\n",
    "   print(p)\n",
    "    ggsave(paste0(\"../figures/tcr/peptides_cd8_allclones/\",colnames(cd8_l2_subcluster@meta.data)[i], \".svg\"), width = 7, height = 14, units = \"cm\")\n",
    "    ggsave(paste0(\"../figures/tcr/peptides_cd8_allclones/\",colnames(cd8_l2_subcluster@meta.data)[i], \".png\"), width = 7, height = 14, units = \"cm\")\n",
    "}"
   ]
  },
  {
   "cell_type": "markdown",
   "metadata": {},
   "source": [
    "## All clones by patient"
   ]
  },
  {
   "cell_type": "code",
   "execution_count": null,
   "metadata": {},
   "outputs": [],
   "source": [
    "dir.create(\"../figures/tcr/peptides_cd8_bypatient/\")"
   ]
  },
  {
   "cell_type": "code",
   "execution_count": null,
   "metadata": {},
   "outputs": [],
   "source": [
    "for(i in 180:200){\n",
    "        \n",
    "df  <- data.frame(Score = cd8_l2_subcluster@meta.data[,i],\n",
    "                  Condition = cd8_l2_subcluster$Condition, \n",
    "                 Sample_ID = cd8_l2_subcluster$Sample_ID, \n",
    "                 Patient_ID = cd8_l2_subcluster$Patient_ID, \n",
    "                  \n",
    "                 Disease = cd8_l2_subcluster$Disease) \n",
    "    \n",
    " p  <-    df  %>% \n",
    "    group_by(Patient_ID, Disease)  %>% \n",
    "    summarise(avg_score = mean(Score, na.rm = TRUE))  %>% \n",
    "    ggplot(aes(x = Disease, y = avg_score)) + # you can change the x to whatever variable you're interested in\n",
    "   geom_violin(alpha = 0.3, aes(fill = Disease), scale = \"width\") + \n",
    "stat_summary(fun = \"median\",\n",
    "               geom = \"crossbar\", \n",
    "               width = 0.75,\n",
    "               color = \"grey30\") +\n",
    "geom_beeswarm(size = 3, aes(fill = Disease), cex = 3, \n",
    "                shape = 21, color = \"black\", corral = \"random\") +\n",
    "scale_fill_manual(values = c(\"#1874cdff\",   \"#c41515ff\",\"#eeb4b4ff\")) +\n",
    "scale_color_manual(values = c(\"dodgerblue3\",   \"#aa2a2aff\",\"#e88989ff\")) + #ggpubr::stat_compare_means(comparisons = list( c(1,3), c(2,3), c(1,2)), size = 7)+\n",
    "    ggpubr::stat_compare_means(size = 7, label = \"p.format\") +\n",
    "  ggtitle(colnames(cd8_l2_subcluster@meta.data)[i]) + \n",
    "   theme_classic() +\n",
    "    xlab(\"\") + ylab(\"\") +\n",
    "  theme(panel.background = element_blank(),\n",
    "       axis.ticks.x = element_blank()) + ggtheme()\n",
    "   print(p)\n",
    "    \n",
    "    ggsave(paste0(\"../figures/tcr/peptides_cd8_bypatient/\",colnames(cd8_l2_subcluster@meta.data)[i], \".svg\"), width = 9, height = 9, units = \"cm\")\n",
    "    ggsave(paste0(\"../figures/tcr/peptides_cd8_bypatient/\",colnames(cd8_l2_subcluster@meta.data)[i], \".png\"), width = 9, height = 9, units = \"cm\")\n",
    "      \n",
    "}"
   ]
  },
  {
   "cell_type": "markdown",
   "metadata": {},
   "source": [
    "## One clone counted just once"
   ]
  },
  {
   "cell_type": "code",
   "execution_count": null,
   "metadata": {},
   "outputs": [],
   "source": [
    "one_random_clone  <- function(seurat){\n",
    "    seurat$barcode  <- colnames(seurat)\n",
    "metadata_1  <- seurat@meta.data %>% mutate(clone_nt = paste(cdr3_B_nt,cdr3_A1_nt,cdr3_A2_nt),\n",
    "  clone_aa = paste(\"CDR3b\",cdr3_B,\"CDR3a\",cdr3_A1))\n",
    "metadata_one_clone  <- metadata_1  %>% group_by(clone_aa, Patient_Time)  %>% slice_sample(n = 1)\n",
    "seurat  <- subset(seurat, barcode %in% metadata_one_clone$barcode)\n",
    "    return(seurat)\n",
    "    }"
   ]
  },
  {
   "cell_type": "code",
   "execution_count": null,
   "metadata": {},
   "outputs": [],
   "source": [
    "cd8_l2_subcluster_one_random_clone  <- one_random_clone(cd8_l2_subcluster)"
   ]
  },
  {
   "cell_type": "code",
   "execution_count": null,
   "metadata": {},
   "outputs": [],
   "source": [
    "dir.create(\"../figures/tcr/peptides_cd8_one_random_clone/\")"
   ]
  },
  {
   "cell_type": "code",
   "execution_count": null,
   "metadata": {},
   "outputs": [],
   "source": [
    "options(repr.plot.width = 4, repr.plot.height = 6.5)\n",
    "for(i in 180:200){\n",
    "    df  <- data.frame(Score = cd8_l2_subcluster_one_random_clone@meta.data[,i],\n",
    "                  Annotation = cd8_l2_subcluster_one_random_clone$Disease)\n",
    "    dataMedian <- summarise(group_by(df, Annotation), MD = 1.2*median(Score, na.rm = T))\n",
    "       \n",
    "p  <- ggplot(df, aes(x = Annotation, y = Score)) +\n",
    "    ggrastr::rasterise(geom_jitter(position=position_jitter(0.2), size = 1, color = \"grey70\", alpha = 0.7)) +\n",
    "    geom_violin(aes(color = Annotation), scale = \"width\", alpha = 0.7) +  theme_classic() + \n",
    "   NoLegend() + theme(axis.text.x = element_text(angle = 45, vjust = 0.8, hjust =0.8)) +\n",
    "    scale_color_manual(values = c(\"blue\", \"#c41515ff\", \"#d87f7fff\")) + \n",
    "    stat_summary(fun = \"median\",\n",
    "                   geom = \"crossbar\", \n",
    "                   width = 0.6,\n",
    "                   colour = \"grey20\") +\n",
    "    geom_text(data = dataMedian, aes(Annotation, MD, label = round(MD, digits = 2)), \n",
    "             size = 7) +\n",
    "    xlab(\"\") +\n",
    "   #scale_y_continuous(limits = c(NA, max())) +\n",
    "    ggpubr::stat_compare_means(size = 7, label = \"p.format\", label.x = 1.3,\n",
    "                              label.y.npc = 0.9) +\n",
    "  ggtitle(colnames(cd8_l2_subcluster_one_random_clone@meta.data)[i]) + \n",
    "  theme(panel.background = element_blank(), axis.text.x = element_text(angle = 90),\n",
    "      axis.ticks.x = element_blank()) + ggtheme()\n",
    "   print(p)\n",
    "    \n",
    "    print(p)\n",
    "    ggsave(paste0(\"../figures/tcr/peptides_cd8_one_random_clone/\",colnames(cd8_l2_subcluster_one_random_clone@meta.data[i]), \".svg\"), width = 7, height = 14, units = \"cm\")\n",
    "    ggsave(paste0(\"../figures/tcr/peptides_cd8_one_random_clone/\",colnames(cd8_l2_subcluster_one_random_clone@meta.data[i]), \".png\"), width = 7, height = 14, units = \"cm\")\n",
    "    \n",
    "}"
   ]
  },
  {
   "cell_type": "markdown",
   "metadata": {},
   "source": [
    "## One clone counted just once by patient"
   ]
  },
  {
   "cell_type": "code",
   "execution_count": null,
   "metadata": {},
   "outputs": [],
   "source": [
    "dir.create(\"../figures/tcr/peptides_cd8_one_random_bypatient/\")"
   ]
  },
  {
   "cell_type": "code",
   "execution_count": null,
   "metadata": {},
   "outputs": [],
   "source": [
    "for(i in 180:200){\n",
    "        \n",
    "df  <- data.frame(Score = cd8_l2_subcluster_one_random_clone@meta.data[,i],\n",
    "                  Condition = cd8_l2_subcluster_one_random_clone$Condition, \n",
    "                  Sample_ID = cd8_l2_subcluster_one_random_clone$Sample_ID, \n",
    "                  Patient_ID = cd8_l2_subcluster_one_random_clone$Patient_ID, \n",
    "                  Disease = cd8_l2_subcluster_one_random_clone$Disease) \n",
    "    \n",
    " p  <-    df  %>% \n",
    "    group_by(Patient_ID, Disease)  %>% \n",
    "    summarise(avg_score = mean(Score, na.rm = TRUE))  %>% \n",
    "    ggplot(aes(x = Disease, y = avg_score)) + # you can change the x to whatever variable you're interested in\n",
    "   geom_violin(alpha = 0.3, aes(fill = Disease), scale = \"width\") + \n",
    "stat_summary(fun = \"median\",\n",
    "               geom = \"crossbar\", \n",
    "               width = 0.75,\n",
    "               color = \"grey30\") +\n",
    "geom_beeswarm(size = 3, aes(fill = Disease), cex = 3, \n",
    "                shape = 21, color = \"black\", corral = \"random\") +\n",
    "scale_fill_manual(values = c(\"#1874cdff\",   \"#c41515ff\",\"#eeb4b4ff\")) +\n",
    "scale_color_manual(values = c(\"dodgerblue3\",   \"#aa2a2aff\",\"#e88989ff\")) + #ggpubr::stat_compare_means(comparisons = list( c(1,3), c(2,3), c(1,2)), size = 7)+\n",
    "    ggpubr::stat_compare_means(size = 7, label = \"p.format\") +\n",
    "  ggtitle(colnames(cd8_l2_subcluster_one_random_clone@meta.data)[i]) + \n",
    "  theme(panel.background = element_blank()) + ggtheme()\n",
    "   print(p)\n",
    "    \n",
    "    ggsave(paste0(\"../figures/tcr/peptides_cd8_one_random_bypatient/\",colnames(cd8_l2_subcluster_one_random_clone@meta.data)[i], \".svg\"), width = 12, height = 14, units = \"cm\")\n",
    "    ggsave(paste0(\"../figures/tcr/peptides_cd8_one_random_bypatient/\",colnames(cd8_l2_subcluster_one_random_clone@meta.data)[i], \".png\"), width = 12, height = 14, units = \"cm\")\n",
    "      \n",
    "}"
   ]
  },
  {
   "cell_type": "markdown",
   "metadata": {},
   "source": [
    "## TCR properties table"
   ]
  },
  {
   "cell_type": "code",
   "execution_count": null,
   "metadata": {},
   "outputs": [],
   "source": [
    "i = 185"
   ]
  },
  {
   "cell_type": "code",
   "execution_count": null,
   "metadata": {},
   "outputs": [],
   "source": [
    "get_tcr_prop_table  <- function(i) {\n",
    "    \n",
    "    # All clones\n",
    "      df  <- data.frame(Score = cd8_l2_subcluster@meta.data[,i],\n",
    "                  Annotation = cd8_l2_subcluster$Disease)  %>% \n",
    "    dplyr::filter(!is.na(Score))\n",
    "    \n",
    "    wcx  <- wilcox.test(df$Score ~ df$Annotation, conf.int = T)\n",
    "\n",
    "    df2  <- df  %>% group_by(Annotation)  %>% summarise(mean = mean(Score), sd = sd(Score))\n",
    "\n",
    "     df_all  <- data.frame(name = colnames(cd8_l2_subcluster@meta.data)[i], \n",
    "                          cell_type = \"CD8\",\n",
    "                          test_type = \"All clones\",\n",
    "                          estimate = wcx$estimate,\n",
    "                          pval = wcx$p.value, \n",
    "                          mean_dia = df2$mean[2],\n",
    "                         mean_ctrl = df2$mean[1], \n",
    "                         upper = wcx$conf.int[2],\n",
    "                         lower = wcx$conf.int[1]\n",
    "                         ) \n",
    "    \n",
    "        df_final  <-  df_all\n",
    "    \n",
    "    # Random clones\n",
    "       df  <- data.frame(Score = cd8_l2_subcluster_one_random_clone@meta.data[,i],\n",
    "                  Annotation = cd8_l2_subcluster_one_random_clone$Disease)  %>% \n",
    "    dplyr::filter(!is.na(Score))\n",
    "    \n",
    "    wcx  <- wilcox.test(df$Score ~ df$Annotation, conf.int = T)\n",
    "\n",
    "    df2  <- df  %>% group_by(Annotation)  %>% summarise(mean = mean(Score), sd = sd(Score))\n",
    "\n",
    "     df_all  <- data.frame(name = colnames(cd8_l2_subcluster_one_random_clone@meta.data)[i], \n",
    "                          cell_type = \"CD8\",\n",
    "                          test_type = \"Random clones\",\n",
    "                          estimate = wcx$estimate,\n",
    "                          pval = wcx$p.value, \n",
    "                          mean_dia = df2$mean[2],\n",
    "                         mean_ctrl = df2$mean[1], \n",
    "                         upper = wcx$conf.int[2],\n",
    "                         lower = wcx$conf.int[1]\n",
    "                         ) \n",
    "    \n",
    "        df_final  <- rbind(df_final, df_all)\n",
    "    \n",
    "    \n",
    "    # All clones by patient\n",
    "    \n",
    "       df  <- data.frame(Score = cd8_l2_subcluster@meta.data[,i],\n",
    "                  Disease = cd8_l2_subcluster$Disease,\n",
    "                    Patient_ID = cd8_l2_subcluster$Patient_ID   )  %>% \n",
    "    dplyr::filter(!is.na(Score))  %>% group_by(Patient_ID, Disease)  %>% \n",
    "    summarise(Score = mean(Score)) \n",
    "    \n",
    "    wcx  <- wilcox.test(df$Score ~ df$Disease, conf.int = T)\n",
    "\n",
    "    df2  <- df  %>% group_by(Disease)  %>% summarise(mean = mean(Score), sd = sd(Score))\n",
    "\n",
    "     df_all  <- data.frame(name = colnames(cd8_l2_subcluster@meta.data)[i], \n",
    "                          cell_type = \"CD8\",\n",
    "                          test_type = \"All clones by patient\",\n",
    "                          estimate = wcx$estimate,\n",
    "                          pval = wcx$p.value, \n",
    "                          mean_dia = df2$mean[2],\n",
    "                         mean_ctrl = df2$mean[1], \n",
    "                         upper = wcx$conf.int[2],\n",
    "                         lower = wcx$conf.int[1]\n",
    "                         ) \n",
    "    \n",
    "        df_final  <- rbind(df_final, df_all)\n",
    "    \n",
    "    # Random clones by patient\n",
    "    \n",
    "      df  <- data.frame(Score = cd8_l2_subcluster_one_random_clone@meta.data[,i],\n",
    "                  Disease = cd8_l2_subcluster_one_random_clone$Disease,\n",
    "                    Patient_ID = cd8_l2_subcluster_one_random_clone$Patient_ID   )  %>% \n",
    "    dplyr::filter(!is.na(Score))  %>% group_by(Patient_ID, Disease)  %>% \n",
    "    summarise(Score = mean(Score)) \n",
    "    \n",
    "    wcx  <- wilcox.test(df$Score ~ df$Disease, conf.int = T)\n",
    "\n",
    "    df2  <- df  %>% group_by(Disease)  %>% summarise(mean = mean(Score), sd = sd(Score))\n",
    "\n",
    "     df_all  <- data.frame(name = colnames(cd8_l2_subcluster_one_random_clone@meta.data)[i], \n",
    "                          cell_type = \"CD8\",\n",
    "                          test_type = \"Random clones by patient\",\n",
    "                          estimate = wcx$estimate,\n",
    "                          pval = wcx$p.value, \n",
    "                          mean_dia = df2$mean[2],\n",
    "                         mean_ctrl = df2$mean[1], \n",
    "                         upper = wcx$conf.int[2],\n",
    "                         lower = wcx$conf.int[1]\n",
    "                         ) \n",
    "    \n",
    "        df_final  <- rbind(df_final, df_all)\n",
    "    return(df_final)\n",
    "}"
   ]
  },
  {
   "cell_type": "code",
   "execution_count": null,
   "metadata": {
    "scrolled": true
   },
   "outputs": [],
   "source": [
    "tcr_all_props_table  <- map(.x = 180:200, .f = get_tcr_prop_table)"
   ]
  },
  {
   "cell_type": "code",
   "execution_count": null,
   "metadata": {},
   "outputs": [],
   "source": [
    "tcr_all_props_table2  <- bind_rows(tcr_all_props_table)"
   ]
  },
  {
   "cell_type": "code",
   "execution_count": null,
   "metadata": {},
   "outputs": [],
   "source": [
    "tcr_all_props_table2  %>% arrange(pval)"
   ]
  },
  {
   "cell_type": "code",
   "execution_count": null,
   "metadata": {},
   "outputs": [],
   "source": [
    "dir.create( \"../tables/tcr/peptides/\")"
   ]
  },
  {
   "cell_type": "code",
   "execution_count": null,
   "metadata": {},
   "outputs": [],
   "source": [
    "write.csv(tcr_all_props_table2, \"../tables/tcr/peptides/cd8_tcr_all_props_table.csv\")"
   ]
  }
 ],
 "metadata": {
  "kernelspec": {
   "display_name": "R",
   "language": "R",
   "name": "ir"
  },
  "language_info": {
   "codemirror_mode": "r",
   "file_extension": ".r",
   "mimetype": "text/x-r-source",
   "name": "R",
   "pygments_lexer": "r",
   "version": "4.5.1"
  },
  "toc": {
   "base_numbering": 1,
   "nav_menu": {},
   "number_sections": true,
   "sideBar": true,
   "skip_h1_title": false,
   "title_cell": "Table of Contents",
   "title_sidebar": "Contents",
   "toc_cell": false,
   "toc_position": {
    "height": "calc(100% - 180px)",
    "left": "10px",
    "top": "150px",
    "width": "391.917px"
   },
   "toc_section_display": true,
   "toc_window_display": true
  }
 },
 "nbformat": 4,
 "nbformat_minor": 4
}
