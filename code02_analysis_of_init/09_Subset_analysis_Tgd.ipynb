{
 "cells": [
  {
   "cell_type": "markdown",
   "id": "3ea5aecd",
   "metadata": {},
   "source": [
    "# Part 9: Analysis of Unconventional T cells"
   ]
  },
  {
   "cell_type": "markdown",
   "id": "aa7dbc8d",
   "metadata": {},
   "source": [
    "In this document, we focus on Tgd and unconventional cell cluster subsetted from the main CD8 dataset. To recapitulate the analysis, please download the Tgd Seurat object available at Zenodo: [https://doi.org/10.5281/zenodo.14222418](https://doi.org/10.5281/zenodo.14222418)"
   ]
  },
  {
   "cell_type": "code",
   "execution_count": null,
   "id": "853a65d5",
   "metadata": {},
   "outputs": [],
   "source": [
    "ls()"
   ]
  },
  {
   "cell_type": "code",
   "execution_count": null,
   "id": "f741a879",
   "metadata": {
    "scrolled": true
   },
   "outputs": [],
   "source": [
    ".libPaths(\"~/R/x86_64-pc-linux-gnu-library/4.4/\")\n",
    "library(GEOquery)\n",
    "source(\"diabetes_analysis_v07.R\")"
   ]
  },
  {
   "cell_type": "code",
   "execution_count": null,
   "id": "66651646",
   "metadata": {},
   "outputs": [],
   "source": [
    "plan(\"multisession\")"
   ]
  },
  {
   "cell_type": "code",
   "execution_count": null,
   "id": "28494c50",
   "metadata": {},
   "outputs": [],
   "source": [
    "## Load data"
   ]
  },
  {
   "cell_type": "code",
   "execution_count": null,
   "id": "a8876f1c",
   "metadata": {},
   "outputs": [],
   "source": [
    "## CD8 All\n",
    "cd8_l1_full_filt  <- readRDS(\"../../240218_VN_Diabetes_V05/data/processed/L1/cd8_l1_full_filt.rds\")"
   ]
  },
  {
   "cell_type": "code",
   "execution_count": null,
   "id": "ebd42d11",
   "metadata": {},
   "outputs": [],
   "source": [
    "cd8_l1_full_filt"
   ]
  },
  {
   "cell_type": "code",
   "execution_count": null,
   "id": "ec803f5c",
   "metadata": {},
   "outputs": [],
   "source": [
    "## CD8 Tgd\n",
    "gd  <- readRDS(\"../../240218_VN_Diabetes_V05/data/processed/L2/cd8_l2_unc.rds\")"
   ]
  },
  {
   "cell_type": "markdown",
   "id": "fa781878",
   "metadata": {},
   "source": [
    "# DEG and gene signatures Unconventional Tgd vs CD8 Naive\n"
   ]
  },
  {
   "cell_type": "code",
   "execution_count": null,
   "id": "500acc53",
   "metadata": {},
   "outputs": [],
   "source": [
    "options(repr.plot.width = 8, repr.plot.height = 5)\n",
    "DimPlot(cd8_l1_full_filt, group.by = \"annotations_l2\")"
   ]
  },
  {
   "cell_type": "code",
   "execution_count": null,
   "id": "5b5facf8",
   "metadata": {},
   "outputs": [],
   "source": [
    "Idents(cd8_l1_full_filt)  <- cd8_l1_full_filt$annotations_l2"
   ]
  },
  {
   "cell_type": "code",
   "execution_count": null,
   "id": "32d6c50f",
   "metadata": {},
   "outputs": [],
   "source": [
    "table(cd8_l1_full_filt$annotations_l2)"
   ]
  },
  {
   "cell_type": "code",
   "execution_count": null,
   "id": "13b097c8",
   "metadata": {},
   "outputs": [],
   "source": [
    "mrk  <- FindMarkers(cd8_l1_full_filt,\n",
    "                   `ident.1` = \"CD8 Unconventional T cells---gd T cells\",\n",
    "                   `ident.2` = \"CD8 T cells---Naive\")"
   ]
  },
  {
   "cell_type": "code",
   "execution_count": null,
   "id": "caf4ecdb",
   "metadata": {},
   "outputs": [],
   "source": [
    "DefaultAssay(cd8_l1_full_filt)  <- \"RNA\""
   ]
  },
  {
   "cell_type": "code",
   "execution_count": null,
   "id": "1f19a75b",
   "metadata": {
    "scrolled": true
   },
   "outputs": [],
   "source": [
    "fc  <- FoldChange(cd8_l1_full_filt,\n",
    "                   `ident.1` = \"CD8 Unconventional T cells---gd T cells\",\n",
    "                   `ident.2` = \"CD8 T cells---Naive\")"
   ]
  },
  {
   "cell_type": "code",
   "execution_count": null,
   "id": "06ed28d7",
   "metadata": {},
   "outputs": [],
   "source": [
    "fc  <- fc  %>% arrange(avg_log2FC)  %>% rownames_to_column(\"gene\")"
   ]
  },
  {
   "cell_type": "code",
   "execution_count": null,
   "id": "b00aee27",
   "metadata": {},
   "outputs": [],
   "source": [
    "treg_gene_sig  <- c('S100A4', 'FOXP3', 'ITGB1', 'AHNAK', 'TIGIT', 'ANXA2', 'IL10RA', \n",
    "                    'TNFRSF1B', 'GBP5', 'LGALS1', 'RTKN2', 'CTLA4', 'S100A10', 'IL32', \n",
    "                    'FCRL3', 'IL2RA', 'CLIC1', 'KLF6', 'ANXA5', 'SYNE2', 'S100A11', \n",
    "                    'CD74', 'CRIP1', 'EZR', 'NIBAN1', 'FLNA', 'NCF4', 'PRDM1', 'LGALS3', \n",
    "                    'CAPN2', 'ARID5B', 'SH3BGRL3', 'CST7', 'ISG20', 'MYO1F', 'LMNA', \n",
    "                    'HLA-DRB5', 'TENT5C', 'GAPDH', 'MTHFD2', 'FANK1', 'HLA-DQA1', \n",
    "                    'IL2RB', 'IKZF2', 'SRGN', 'STAM', 'CLDND1', 'DUSP4', 'BIRC3', \n",
    "                    'SAT1', 'PBXIP1', 'HLA-DRB1', 'HLA-DPA1', 'TNFRSF4', 'SHMT2', \n",
    "                    'TAGLN2', 'PLP2', 'ACTN4', 'DUSP1', 'RORA', 'CD99', 'GLCCI1', \n",
    "                    'CARD16', 'PTTG1', 'TSPAN5', 'TAP1', 'OPTN', 'EIF3A', 'ELOVL5', \n",
    "                    'LSR', 'GSTK1', 'ZFP36', 'TIFA', 'BATF', 'EMP3', 'TSC22D3', 'OGDH', \n",
    "                    'HLA-DPB1', 'CCDC50', 'LIMS1', 'RAB11FIP1', 'TRAC', 'CD84', 'CAST', \n",
    "                    'PYHIN1', 'JPT1', 'MPST', 'SAMSN1', 'ZC2HC1A', 'PMAIP1', 'S100A6', \n",
    "                    'PI16', 'OAS1', 'PPP1R18', 'NCR3', 'CD58', 'DOK2', 'BCL2L11', \n",
    "                    'SMAD3', 'GBP2', 'SYT11', 'PPP2R5C', 'PPP1R15A', 'RGS1', 'RAB37', \n",
    "                    'REEP5', 'IKZF3', 'RNF214', 'IRF1', 'ANTKMT', 'PRDX1', 'IQGAP2', 'MT2A', \n",
    "                    'TNFRSF18', 'FAS', 'DUSP2', 'CCDC167', 'HLA-DRA', 'PELI1', 'JUNB', 'LGALS9', \n",
    "                    'ZBTB38', 'SPTAN1', 'SMS', 'PARP1', 'MCL1', 'DYNLL1', 'HERC5', 'CDC25B', \n",
    "                    'SLC9A3R1', 'MYO1G', 'TPR', 'JUN', 'ID3', 'TPI1', 'RILPL2', 'CCR6', \n",
    "                    'YWHAH', 'PTGER2', 'HNRNPLL', 'PREX1', 'PSMB9', 'MYH9', 'CORO1B', 'SLAMF1', \n",
    "                    'SIT1', 'NPDC1', 'PHACTR2', 'ST8SIA6', 'ATP2B4', 'IL18R1', 'TRIM22', 'HLA-DQB1', \n",
    "                    'F5', 'TBC1D4', 'MAF', 'ATP2B1', 'C4orf48', 'GALM', 'C12orf75', 'CPA5', \n",
    "                    'PPP1CA', 'S1PR4', 'PDE4DIP', 'GATA3', 'GLIPR2', 'CHST7', 'CXCR4', 'H1-4', \n",
    "                    'GADD45B', 'RESF1', 'IER2', 'ISG15', 'CDC42EP3', 'PCBD1', 'LYST', 'TPM4', \n",
    "                    'TAB2', 'NINJ2', 'ALOX5AP', 'CCR4', 'FCER1G', 'MAP3K1', 'CXCR3', 'CD59', \n",
    "                    'SLFN5', 'CCNG2', 'ITGA4', 'SESN1', 'SPATS2L', 'HPGD', 'EFHD2', 'LIMA1', \n",
    "                    'BCL2', 'RABGAP1L', 'TOX', 'SAMD9', 'TXN', 'IFI16', 'IDS', 'TRIB2', 'CDHR3', \n",
    "                    'PALM2AKAP2', 'ICA1', 'LPAR6', 'KLRB1', 'SMC6', 'ITM2C', 'CEACAM4', 'PRF1', \n",
    "                    'CD63', 'AHR', 'IQGAP1', 'GADD45A', 'ADAM8', 'GLIPR1', 'VAV3', 'EPSTI1', \n",
    "                    'GPRIN3', 'POU2F2', 'SH2D2A', 'DENND10', 'MAP4', 'CCR10', 'PTPN18', 'IER5', \n",
    "                    'GPR183', 'LAIR2', 'CTSC', 'TTN', 'NR4A2', 'SESN3', 'CPNE2', 'MX1')\n"
   ]
  },
  {
   "cell_type": "code",
   "execution_count": null,
   "id": "5be61a84",
   "metadata": {},
   "outputs": [],
   "source": [
    "fc.df  <- fc  %>%   dplyr::select(gene, avg_log2FC)\n",
    "ranks<- deframe(fc.df)"
   ]
  },
  {
   "cell_type": "code",
   "execution_count": null,
   "id": "d02259e5",
   "metadata": {},
   "outputs": [],
   "source": [
    "library(fgsea)"
   ]
  },
  {
   "cell_type": "code",
   "execution_count": null,
   "id": "eb61cead",
   "metadata": {},
   "outputs": [],
   "source": [
    "options(repr.plot.width = 5, repr.plot.height = 3)\n",
    "\n",
    "plotEnrichment(treg_gene_sig,\n",
    "               ranks) + labs(title=\"treg_gene_sig in Tgd\") \n"
   ]
  },
  {
   "cell_type": "code",
   "execution_count": null,
   "id": "2c22162f",
   "metadata": {},
   "outputs": [],
   "source": [
    "fg  <- fgsea(pathways = list(\"treg_gene_sig\" = treg_gene_sig),\n",
    "               ranks)"
   ]
  },
  {
   "cell_type": "code",
   "execution_count": null,
   "id": "3da26da6",
   "metadata": {},
   "outputs": [],
   "source": [
    "fg$leadingEdge"
   ]
  },
  {
   "cell_type": "code",
   "execution_count": null,
   "id": "7f2dfd1f",
   "metadata": {},
   "outputs": [],
   "source": [
    "cd8_l1_full_filt  <- AddModuleScore(cd8_l1_full_filt, features = treg_gene_sig,\n",
    "                                   search = F,\n",
    "  ctrl = 50,\n",
    "  nbin = 50,\n",
    "  assay = \"RNA\",\n",
    "  name = 'treg_gene_sig')"
   ]
  },
  {
   "cell_type": "code",
   "execution_count": null,
   "id": "a82d10df",
   "metadata": {},
   "outputs": [],
   "source": [
    "cd8_l1_full_filt$treg_gene_sig1"
   ]
  },
  {
   "cell_type": "code",
   "execution_count": null,
   "id": "968f0ca2",
   "metadata": {},
   "outputs": [],
   "source": [
    "options(repr.plot.width = 10, repr.plot.height = 8)\n",
    "\n",
    "VlnPlot(cd8_l1_full_filt, features = \"treg_gene_sig1\", pt.size = 0)"
   ]
  },
  {
   "cell_type": "code",
   "execution_count": null,
   "id": "34c308ee",
   "metadata": {},
   "outputs": [],
   "source": [
    "cd8_l1_full_filt@meta.data  %>% \n",
    "ggplot(aes(x = fct_reorder(annot2, treg_gene_sig1), y = treg_gene_sig1)) +\n",
    "  geom_violin() + \n",
    "  stat_summary(fun = \"median\",\n",
    "               geom = \"crossbar\", \n",
    "               width = 0.5,\n",
    "               colour = \"red\") + ggtitle(\"Treg score\") + theme_classic() + ggtheme() + xlab(\"\")\n",
    "# ggsave(\"../figures/cd356_score.svg\", width = 4, height = 3.5)"
   ]
  },
  {
   "cell_type": "code",
   "execution_count": null,
   "id": "1809761f",
   "metadata": {},
   "outputs": [],
   "source": [
    "Idents(cd8_l1_full_filt)  <- cd8_l1_full_filt$annotations_l1\n",
    "\n",
    "table(cd8_l1_full_filt$annotations_l1)"
   ]
  },
  {
   "cell_type": "code",
   "execution_count": null,
   "id": "92b4456c",
   "metadata": {},
   "outputs": [],
   "source": [
    "mrk  <- FindMarkers(cd8_l1_full_filt,\n",
    "                   `ident.1` = \"CD8 T cells\",\n",
    "                   `ident.2` = \"CD8 Unconventional T cells\")"
   ]
  },
  {
   "cell_type": "code",
   "execution_count": null,
   "id": "3a25aa04",
   "metadata": {},
   "outputs": [],
   "source": [
    "DefaultAssay(cd8_l1_full_filt)  <- \"RNA\""
   ]
  },
  {
   "cell_type": "code",
   "execution_count": null,
   "id": "74e5b70e",
   "metadata": {
    "scrolled": true
   },
   "outputs": [],
   "source": [
    "fc  <- FoldChange(cd8_l1_full_filt,\n",
    "                   `ident.1` = \"CD8 T cells\",\n",
    "                   `ident.2` = \"CD8 Unconventional T cells\")"
   ]
  },
  {
   "cell_type": "code",
   "execution_count": null,
   "id": "5fc0221e",
   "metadata": {},
   "outputs": [],
   "source": [
    "fc  <- fc  %>% arrange(avg_log2FC)  %>% rownames_to_column(\"gene\")"
   ]
  },
  {
   "cell_type": "code",
   "execution_count": null,
   "id": "d11e04dc",
   "metadata": {},
   "outputs": [],
   "source": [
    "treg_gene_sig  <- c('S100A4', 'FOXP3', 'ITGB1', 'AHNAK', 'TIGIT', 'ANXA2', 'IL10RA', \n",
    "                    'TNFRSF1B', 'GBP5', 'LGALS1', 'RTKN2', 'CTLA4', 'S100A10', 'IL32', \n",
    "                    'FCRL3', 'IL2RA', 'CLIC1', 'KLF6', 'ANXA5', 'SYNE2', 'S100A11', \n",
    "                    'CD74', 'CRIP1', 'EZR', 'NIBAN1', 'FLNA', 'NCF4', 'PRDM1', 'LGALS3', \n",
    "                    'CAPN2', 'ARID5B', 'SH3BGRL3', 'CST7', 'ISG20', 'MYO1F', 'LMNA', \n",
    "                    'HLA-DRB5', 'TENT5C', 'GAPDH', 'MTHFD2', 'FANK1', 'HLA-DQA1', \n",
    "                    'IL2RB', 'IKZF2', 'SRGN', 'STAM', 'CLDND1', 'DUSP4', 'BIRC3', \n",
    "                    'SAT1', 'PBXIP1', 'HLA-DRB1', 'HLA-DPA1', 'TNFRSF4', 'SHMT2', \n",
    "                    'TAGLN2', 'PLP2', 'ACTN4', 'DUSP1', 'RORA', 'CD99', 'GLCCI1', \n",
    "                    'CARD16', 'PTTG1', 'TSPAN5', 'TAP1', 'OPTN', 'EIF3A', 'ELOVL5', \n",
    "                    'LSR', 'GSTK1', 'ZFP36', 'TIFA', 'BATF', 'EMP3', 'TSC22D3', 'OGDH', \n",
    "                    'HLA-DPB1', 'CCDC50', 'LIMS1', 'RAB11FIP1', 'TRAC', 'CD84', 'CAST', \n",
    "                    'PYHIN1', 'JPT1', 'MPST', 'SAMSN1', 'ZC2HC1A', 'PMAIP1', 'S100A6', \n",
    "                    'PI16', 'OAS1', 'PPP1R18', 'NCR3', 'CD58', 'DOK2', 'BCL2L11', \n",
    "                    'SMAD3', 'GBP2', 'SYT11', 'PPP2R5C', 'PPP1R15A', 'RGS1', 'RAB37', \n",
    "                    'REEP5', 'IKZF3', 'RNF214', 'IRF1', 'ANTKMT', 'PRDX1', 'IQGAP2', 'MT2A', \n",
    "                    'TNFRSF18', 'FAS', 'DUSP2', 'CCDC167', 'HLA-DRA', 'PELI1', 'JUNB', 'LGALS9', \n",
    "                    'ZBTB38', 'SPTAN1', 'SMS', 'PARP1', 'MCL1', 'DYNLL1', 'HERC5', 'CDC25B', \n",
    "                    'SLC9A3R1', 'MYO1G', 'TPR', 'JUN', 'ID3', 'TPI1', 'RILPL2', 'CCR6', \n",
    "                    'YWHAH', 'PTGER2', 'HNRNPLL', 'PREX1', 'PSMB9', 'MYH9', 'CORO1B', 'SLAMF1', \n",
    "                    'SIT1', 'NPDC1', 'PHACTR2', 'ST8SIA6', 'ATP2B4', 'IL18R1', 'TRIM22', 'HLA-DQB1', \n",
    "                    'F5', 'TBC1D4', 'MAF', 'ATP2B1', 'C4orf48', 'GALM', 'C12orf75', 'CPA5', \n",
    "                    'PPP1CA', 'S1PR4', 'PDE4DIP', 'GATA3', 'GLIPR2', 'CHST7', 'CXCR4', 'H1-4', \n",
    "                    'GADD45B', 'RESF1', 'IER2', 'ISG15', 'CDC42EP3', 'PCBD1', 'LYST', 'TPM4', \n",
    "                    'TAB2', 'NINJ2', 'ALOX5AP', 'CCR4', 'FCER1G', 'MAP3K1', 'CXCR3', 'CD59', \n",
    "                    'SLFN5', 'CCNG2', 'ITGA4', 'SESN1', 'SPATS2L', 'HPGD', 'EFHD2', 'LIMA1', \n",
    "                    'BCL2', 'RABGAP1L', 'TOX', 'SAMD9', 'TXN', 'IFI16', 'IDS', 'TRIB2', 'CDHR3', \n",
    "                    'PALM2AKAP2', 'ICA1', 'LPAR6', 'KLRB1', 'SMC6', 'ITM2C', 'CEACAM4', 'PRF1', \n",
    "                    'CD63', 'AHR', 'IQGAP1', 'GADD45A', 'ADAM8', 'GLIPR1', 'VAV3', 'EPSTI1', \n",
    "                    'GPRIN3', 'POU2F2', 'SH2D2A', 'DENND10', 'MAP4', 'CCR10', 'PTPN18', 'IER5', \n",
    "                    'GPR183', 'LAIR2', 'CTSC', 'TTN', 'NR4A2', 'SESN3', 'CPNE2', 'MX1')\n"
   ]
  },
  {
   "cell_type": "code",
   "execution_count": null,
   "id": "62d50a71",
   "metadata": {},
   "outputs": [],
   "source": [
    "fc.df  <- fc  %>%   dplyr::select(gene, avg_log2FC)\n",
    "ranks<- deframe(fc.df)"
   ]
  },
  {
   "cell_type": "code",
   "execution_count": null,
   "id": "ac0afa20",
   "metadata": {},
   "outputs": [],
   "source": [
    "library(fgsea)"
   ]
  },
  {
   "cell_type": "code",
   "execution_count": null,
   "id": "0796febb",
   "metadata": {},
   "outputs": [],
   "source": [
    "options(repr.plot.width = 5, repr.plot.height = 3)\n",
    "\n",
    "plotEnrichment(treg_gene_sig,\n",
    "               ranks) + labs(title=\"treg_gene_sig in Tgd\") \n"
   ]
  },
  {
   "cell_type": "code",
   "execution_count": null,
   "id": "d1c445eb",
   "metadata": {},
   "outputs": [],
   "source": [
    "fg  <- fgsea(pathways = list(\"treg_gene_sig\" = treg_gene_sig),\n",
    "               ranks)"
   ]
  },
  {
   "cell_type": "code",
   "execution_count": null,
   "id": "496f4164",
   "metadata": {},
   "outputs": [],
   "source": [
    "fg$leadingEdge"
   ]
  },
  {
   "cell_type": "code",
   "execution_count": null,
   "id": "1e255b61",
   "metadata": {},
   "outputs": [],
   "source": []
  },
  {
   "cell_type": "markdown",
   "id": "c7bbc92b",
   "metadata": {},
   "source": [
    "# Tr3-56 published data"
   ]
  },
  {
   "cell_type": "markdown",
   "id": "d94fbfb0",
   "metadata": {},
   "source": [
    "We download the published bulk RNAseq dataset characterizing TR3-56 cells from [Terrazzano et al., 2020](https://www.nature.com/articles/s42255-020-0173-1)"
   ]
  },
  {
   "cell_type": "code",
   "execution_count": null,
   "id": "a496ac86",
   "metadata": {},
   "outputs": [],
   "source": [
    "gset <- GEOquery::getGEO('GSE106082')"
   ]
  },
  {
   "cell_type": "code",
   "execution_count": null,
   "id": "9f36a0ac",
   "metadata": {},
   "outputs": [],
   "source": [
    "gset <- readRDS(\"../data//geo//tr356.rds\")"
   ]
  },
  {
   "cell_type": "code",
   "execution_count": null,
   "id": "f08ebe8c",
   "metadata": {},
   "outputs": [],
   "source": [
    "metadata <- data.frame(geo_id = gset$GSE106082_series_matrix.txt.gz$geo_accession,\n",
    "                       cell_type = gset$GSE106082_series_matrix.txt.gz$`characteristics_ch1.1`\n",
    "                       )"
   ]
  },
  {
   "cell_type": "markdown",
   "id": "acddde75",
   "metadata": {},
   "source": [
    "We will load the matrix and use it together with the metadata to identify potential Tr3-56 cells by SingleR. "
   ]
  },
  {
   "cell_type": "code",
   "execution_count": null,
   "id": "6538d163",
   "metadata": {},
   "outputs": [],
   "source": [
    "mtx_tr356  <- read_csv(\"../../240218_VN_Diabetes_V05/data/published_data/Terrazzano_2020/tr356_df_sum.csv\")"
   ]
  },
  {
   "cell_type": "code",
   "execution_count": null,
   "id": "ea5424de",
   "metadata": {},
   "outputs": [],
   "source": [
    "mtx_tr356$`...1`  <- NULL"
   ]
  },
  {
   "cell_type": "code",
   "execution_count": null,
   "id": "20959dfa",
   "metadata": {},
   "outputs": [],
   "source": [
    "mtx_tr356  <- mtx_tr356  %>% column_to_rownames(\"SYMBOL\")"
   ]
  },
  {
   "cell_type": "code",
   "execution_count": null,
   "id": "214f7a39",
   "metadata": {
    "scrolled": true
   },
   "outputs": [],
   "source": [
    "mtx_tr356"
   ]
  },
  {
   "cell_type": "code",
   "execution_count": null,
   "id": "24eca43e",
   "metadata": {},
   "outputs": [],
   "source": [
    "plan(\"multisession\")"
   ]
  },
  {
   "cell_type": "markdown",
   "id": "4bec4cf3",
   "metadata": {},
   "source": [
    "## Annotation of Tr3-56 cells"
   ]
  },
  {
   "cell_type": "code",
   "execution_count": null,
   "id": "2cc668f2",
   "metadata": {},
   "outputs": [],
   "source": [
    "pred <- SingleR(test = cd8_l1_full_filt@assays$RNA@counts, \n",
    "                ref=mtx_tr356, labels=metadata$cell_type, de.method=\"wilcox\",fine.tune = F,num.threads = 4)"
   ]
  },
  {
   "cell_type": "code",
   "execution_count": null,
   "id": "ad0465c8",
   "metadata": {
    "scrolled": true
   },
   "outputs": [],
   "source": [
    "mtx_tr356"
   ]
  },
  {
   "cell_type": "code",
   "execution_count": null,
   "id": "9288ad1d",
   "metadata": {},
   "outputs": [],
   "source": [
    "mtx_tr356  <- mtx_tr356  %>% mutate_all(.funs = as.numeric)"
   ]
  },
  {
   "cell_type": "code",
   "execution_count": null,
   "id": "df8ebb86",
   "metadata": {
    "scrolled": true
   },
   "outputs": [],
   "source": [
    "mtx_tr356"
   ]
  },
  {
   "cell_type": "code",
   "execution_count": null,
   "id": "ca63f81e",
   "metadata": {},
   "outputs": [],
   "source": [
    "metadata$cell_type"
   ]
  },
  {
   "cell_type": "markdown",
   "id": "8a517859",
   "metadata": {},
   "source": [
    "Create a reference without  CD3+CD56- population as this is too broad for our purpose and overlaps with CD8+ population. "
   ]
  },
  {
   "cell_type": "code",
   "execution_count": null,
   "id": "55691868",
   "metadata": {},
   "outputs": [],
   "source": [
    "ref_tr3_56 <- list(matrix = mtx_tr356[,c(1:6,10:12)], \n",
    "                       labels = metadata$cell_type[c(1:6,10:12)])\n"
   ]
  },
  {
   "cell_type": "code",
   "execution_count": null,
   "id": "7f537736",
   "metadata": {
    "scrolled": true
   },
   "outputs": [],
   "source": [
    "mtx_tr356"
   ]
  },
  {
   "cell_type": "code",
   "execution_count": null,
   "id": "3415c294",
   "metadata": {},
   "outputs": [],
   "source": [
    "ref_tr3_56$labels"
   ]
  },
  {
   "cell_type": "code",
   "execution_count": null,
   "id": "ae9d8593",
   "metadata": {},
   "outputs": [],
   "source": [
    "ref_tr3_56$matrix  <- as.matrix(ref_tr3_56$matrix)"
   ]
  },
  {
   "cell_type": "code",
   "execution_count": null,
   "id": "d3096e1c",
   "metadata": {
    "scrolled": true
   },
   "outputs": [],
   "source": [
    "pred <- SingleR(test = cd8_l1_full_filt@assays$RNA@counts, \n",
    "                ref=ref_tr3_56$matrix, labels=ref_tr3_56$labels, \n",
    "                fine.tune = T,num.threads = 4\n",
    "       )"
   ]
  },
  {
   "cell_type": "markdown",
   "id": "3851b9e6",
   "metadata": {},
   "source": [
    "Add labels to the Seurat object. "
   ]
  },
  {
   "cell_type": "code",
   "execution_count": null,
   "id": "a37e7b9d",
   "metadata": {},
   "outputs": [],
   "source": [
    "cd8_l1_full_filt$singler  <- pred$labels"
   ]
  },
  {
   "cell_type": "code",
   "execution_count": null,
   "id": "2f85afe2",
   "metadata": {},
   "outputs": [],
   "source": [
    "options(repr.plot.width = 8, repr.plot.height = 4.5)\n",
    "DimPlot(cd8_l1_full_filt, group.by = \"annotations_l2\")"
   ]
  },
  {
   "cell_type": "code",
   "execution_count": null,
   "id": "9ca3190a",
   "metadata": {},
   "outputs": [],
   "source": [
    "options(repr.plot.width = 6, repr.plot.height = 4.5)\n",
    "DimPlot(cd8_l1_full_filt, group.by = \"singler\", shuffle = T, cols = c(\"darkseagreen1\",\"skyblue1\",\"red\"))"
   ]
  },
  {
   "cell_type": "code",
   "execution_count": null,
   "id": "b51e16f0",
   "metadata": {
    "scrolled": true
   },
   "outputs": [],
   "source": [
    "pred$scores"
   ]
  },
  {
   "cell_type": "markdown",
   "id": "7ef9a8e0",
   "metadata": {},
   "source": [
    "## Quantification of Tr3-56 score in cell types"
   ]
  },
  {
   "cell_type": "code",
   "execution_count": null,
   "id": "b37e78aa",
   "metadata": {},
   "outputs": [],
   "source": [
    "test  <- data.frame(annotation = cd8_l1_full_filt$annotations_l2,\n",
    "                    pred = cd8_l1_full_filt$singler)"
   ]
  },
  {
   "cell_type": "code",
   "execution_count": null,
   "id": "3f28dc11",
   "metadata": {},
   "outputs": [],
   "source": [
    "df2 <- test %>% group_by(annotation, pred) %>% \n",
    "  summarise(n = n()) %>%\n",
    "  mutate(freq = n / sum(n))"
   ]
  },
  {
   "cell_type": "code",
   "execution_count": null,
   "id": "33f2614b",
   "metadata": {
    "scrolled": true
   },
   "outputs": [],
   "source": [
    "df2"
   ]
  },
  {
   "cell_type": "code",
   "execution_count": null,
   "id": "eb1e3b95",
   "metadata": {
    "scrolled": true
   },
   "outputs": [],
   "source": [
    "options(repr.plot.width = 16, repr.plot.height = 4.5)\n",
    "ggplot(test) +\n",
    "  aes(x = annotation, fill = factor(pred)) +\n",
    "  geom_bar(position = \"fill\") + \n",
    "theme_classic() + \n",
    "ggtheme() +\n",
    "coord_flip() + \n",
    "scale_fill_manual(values = c(\"#d6ebd2ff\", \"lightskyblue1\", \"red2\"))\n",
    "#scale_fill_manual(values = c(\"grey\",\"#74bc68ff\", \"dodgerblue3\", \"red2\"))"
   ]
  },
  {
   "cell_type": "code",
   "execution_count": null,
   "id": "39e90b49",
   "metadata": {
    "scrolled": true
   },
   "outputs": [],
   "source": [
    "pred$scores"
   ]
  },
  {
   "cell_type": "code",
   "execution_count": null,
   "id": "3212e32d",
   "metadata": {},
   "outputs": [],
   "source": [
    "cd8_l1_full_filt$score_tr356  <- pred$scores[,3]"
   ]
  },
  {
   "cell_type": "markdown",
   "id": "0dc8b899",
   "metadata": {},
   "source": [
    "We can see that the highest Tr3-56 score is found in Tgd cells and MAIT cells. "
   ]
  },
  {
   "cell_type": "code",
   "execution_count": null,
   "id": "e9ee97fb",
   "metadata": {},
   "outputs": [],
   "source": [
    "options(repr.plot.width = 14, repr.plot.height = 6)\n",
    "VlnPlot(cd8_l1_full_filt, features = \"score_tr356\", group.by = \"annotations_l2\", pt.size = 0)"
   ]
  },
  {
   "cell_type": "code",
   "execution_count": null,
   "id": "810252cb",
   "metadata": {},
   "outputs": [],
   "source": [
    "options(repr.plot.width = 14, repr.plot.height = 6)\n",
    "data.frame(Score = cd8_l1_full_filt$score_tr356,\n",
    "                  Annotation = gsub(cd8_l1_full_filt$annotations_l2, pattern = \"---\", replacement = \"\\n\"))  %>% \n",
    "mutate(Annotation = gsub(Annotation, pattern = \"CD8 T cells\", replacement = \"\"))  %>% \n",
    "mutate(Annotation = gsub(Annotation, pattern = \"CD8 Unconventional T cells\", replacement = \"\"))  %>% \n",
    "mutate(Annotation = gsub(Annotation, pattern = \"CD8 NK cells\", replacement = \"\"))  %>% \n",
    "ggplot(aes(x = fct_reorder(Annotation, Score), y = Score)) +\n",
    "  geom_violin() + \n",
    "  stat_summary(fun = \"mean\",\n",
    "               geom = \"crossbar\", \n",
    "               width = 0.5,\n",
    "               colour = \"red\") + ggtitle(\"TR3-56 score\") + theme_classic() + ggtheme() + xlab(\"\")"
   ]
  },
  {
   "cell_type": "markdown",
   "id": "ca6c0775",
   "metadata": {},
   "source": [
    "Group nonNaive cells together. "
   ]
  },
  {
   "cell_type": "code",
   "execution_count": null,
   "id": "ea8a40bd",
   "metadata": {},
   "outputs": [],
   "source": [
    "data.frame(Score = cd8_l1_full_filt$score_tr356,\n",
    "                  Annotation = gsub(cd8_l1_full_filt$annotations_l2, pattern = \"---\", replacement = \"\"))  %>% \n",
    "mutate(Annotation = gsub(Annotation, pattern = \"CD8 T cells\", replacement = \"\"))  %>% \n",
    "mutate(Annotation = gsub(Annotation, pattern = \"CD8 Unconventional T cells\", replacement = \"\"))  %>% \n",
    "mutate(Annotation = gsub(Annotation, pattern = \"CD8 NK cells\", replacement = \"\"))  %>% \n",
    "mutate(annot2 = case_when(Annotation %in% c(\"Tem\",\"Tcm\",\"Temra\",\"Proliferating\") ~ \"NonNaive\", \n",
    "                          TRUE ~ Annotation))  %>% \n",
    "ggplot(aes(x = fct_reorder(annot2, Score), y = Score)) +\n",
    "  geom_violin() + \n",
    "  stat_summary(fun = \"mean\",\n",
    "               geom = \"crossbar\", \n",
    "               width = 0.5,\n",
    "               colour = \"red\") + ggtitle(\"TR3-56 score\") + theme_classic() + ggtheme() + xlab(\"\")\n",
    "# ggsave(\"../figures/cd356_score.svg\", width = 4, height = 3.5)"
   ]
  },
  {
   "cell_type": "code",
   "execution_count": null,
   "id": "2083e281",
   "metadata": {},
   "outputs": [],
   "source": [
    "options(repr.plot.width = 5, repr.plot.height = 4.5)\n",
    "\n",
    "FeaturePlot(cd8_l1_full_filt, features = \"score_tr356\", min.cutoff = 0.2, max.cutoff = 0.32)"
   ]
  },
  {
   "cell_type": "code",
   "execution_count": null,
   "id": "b6cf30e4",
   "metadata": {},
   "outputs": [],
   "source": [
    "FeaturePlot(cd8_l1_full_filt, features = \"NCAM1\", min.cutoff = 0.2)"
   ]
  },
  {
   "cell_type": "markdown",
   "id": "332ea644",
   "metadata": {},
   "source": [
    "## Phenotype and DEG of Tr3-56 cells"
   ]
  },
  {
   "cell_type": "code",
   "execution_count": null,
   "id": "a58a9d0d",
   "metadata": {},
   "outputs": [],
   "source": [
    "test  <- data.frame(annot2 = cd8_l1_full_filt$annot2,\n",
    "                    annotation = cd8_l1_full_filt$annotations_l2,\n",
    "                    pred = cd8_l1_full_filt$singler, \n",
    "                    score = cd8_l1_full_filt$score_tr356)"
   ]
  },
  {
   "cell_type": "code",
   "execution_count": null,
   "id": "8e595f23",
   "metadata": {
    "scrolled": true
   },
   "outputs": [],
   "source": [
    "test$pred  %>% table"
   ]
  },
  {
   "cell_type": "code",
   "execution_count": null,
   "id": "6b0c6e02",
   "metadata": {},
   "outputs": [],
   "source": []
  },
  {
   "cell_type": "code",
   "execution_count": null,
   "id": "a9d0455a",
   "metadata": {},
   "outputs": [],
   "source": [
    "options(repr.plot.width = 7, repr.plot.height = 10)\n",
    "test  %>% \n",
    "dplyr::filter(pred == \"cell subset: TR3-56\") %>% \n",
    "ggplot(aes(x = fct_reorder(annotation, score), y = score)) +\n",
    "  geom_violin() + \n",
    "geom_jitter(alpha = 0.2) +\n",
    "  stat_summary(fun = \"mean\",\n",
    "               geom = \"crossbar\", \n",
    "               width = 0.5,\n",
    "               colour = \"red\") + ggtitle(\"TR3-56 score\") + theme_classic() + ggtheme() + xlab(\"\") +\n",
    "theme(axis.text.x = element_text(angle = 90))"
   ]
  },
  {
   "cell_type": "code",
   "execution_count": null,
   "id": "3a0e6c3a",
   "metadata": {},
   "outputs": [],
   "source": [
    "options(repr.plot.width = 4, repr.plot.height = 6)\n",
    "test  %>% \n",
    "dplyr::filter(pred == \"cell subset: TR3-56\") %>% \n",
    "ggplot(aes(x = fct_reorder(annot2, score), y = score)) +\n",
    "  geom_violin() + \n",
    "geom_jitter(alpha = 0.2) +\n",
    "  stat_summary(fun = \"mean\",\n",
    "               geom = \"crossbar\", \n",
    "               width = 0.5,\n",
    "               colour = \"red\") + ggtitle(\"TR3-56 score\") + theme_classic() + ggtheme() + xlab(\"\") +\n",
    "theme(axis.text.x = element_text(angle = 90))"
   ]
  },
  {
   "cell_type": "markdown",
   "id": "4e0a6b68",
   "metadata": {},
   "source": [
    "## Gene expression in Unconventional subclusters"
   ]
  },
  {
   "cell_type": "markdown",
   "id": "d63637d0",
   "metadata": {},
   "source": [
    "Create annotations of groups - merge nonNaive cell subclusters together. "
   ]
  },
  {
   "cell_type": "code",
   "execution_count": null,
   "id": "a9871f66",
   "metadata": {},
   "outputs": [],
   "source": [
    "cd8_l1_full_filt@meta.data  <- cd8_l1_full_filt@meta.data  %>% \n",
    "mutate(Annotation = gsub(cd8_l1_full_filt$annotations_l2, pattern = \"---\", replacement = \"\"))  %>% \n",
    "mutate(Annotation = gsub(Annotation, pattern = \"CD8 T cells\", replacement = \"\"))  %>% \n",
    "mutate(Annotation = gsub(Annotation, pattern = \"CD8 Unconventional T cells\", replacement = \"\"))  %>% \n",
    "mutate(Annotation = gsub(Annotation, pattern = \"CD8 NK cells\", replacement = \"\"))  %>% \n",
    "mutate(annot2 = case_when(Annotation %in% c(\"Tem\",\"Tcm\",\"Temra\",\"Proliferating\") ~ \"NonNaive\", \n",
    "                          TRUE ~ Annotation)) "
   ]
  },
  {
   "cell_type": "code",
   "execution_count": null,
   "id": "0355bc81",
   "metadata": {},
   "outputs": [],
   "source": [
    "cd8_l1_full_filt$annotations_l2_sample  <- paste(cd8_l1_full_filt$annot2, cd8_l1_full_filt$Sample_ID)"
   ]
  },
  {
   "cell_type": "code",
   "execution_count": null,
   "id": "fac45084",
   "metadata": {},
   "outputs": [],
   "source": [
    "cd8_l1_full_filt$annotations_l2_sample   %>% table"
   ]
  },
  {
   "cell_type": "markdown",
   "id": "4ecb73f9",
   "metadata": {},
   "source": [
    "Use the script that will quantify the percentage of cells with non-zero expression of a selected genes. "
   ]
  },
  {
   "cell_type": "code",
   "execution_count": null,
   "id": "67d105d6",
   "metadata": {},
   "outputs": [],
   "source": [
    "pct_expressing_boxplot  <- function(seurat_object, gene, group.by = \"annotations_l2\", sample.col = \"sample\"){\n",
    "   rn = which(rownames(seurat_object@assays$RNA)==gene)\n",
    "ggtheme = function() {\n",
    "  theme(\n",
    "    axis.text = element_text(size = 20),\n",
    "    axis.title = element_text(size = 20),\n",
    "    text = element_text(size = 20, colour = \"black\"),\n",
    "    legend.text = element_text(size = 20),\n",
    "    legend.key.size =  unit(10, units = \"points\")\n",
    "    \n",
    "  )\n",
    "}\n",
    "\n",
    "df = data.frame(grouping_var = seurat_object@meta.data[[group.by]],\n",
    "               value = seurat_object@assays$RNA@counts[rn,], \n",
    "               sample = seurat_object@meta.data[[sample.col]])  %>% \n",
    "mutate(expressing = if_else(value>0,1,0))  %>% \n",
    "dplyr::select(-value)  %>% \n",
    "group_by(sample, grouping_var)  %>% \n",
    "summarise(mean_expression = mean(expressing))  %>% \n",
    "pivot_wider(names_from = sample, values_from = mean_expression, values_fill = 0)  %>% \n",
    "pivot_longer(!grouping_var, names_to = \"sample\", values_to = \"expressing\")\n",
    "\n",
    "plt = ggplot(data = df, aes(x = grouping_var, y = expressing)) +\n",
    "#geom_boxplot(outlier.shape = NA, aes(fill = grouping_var), alpha = 0.3) + \n",
    "geom_violin(aes(fill = grouping_var), alpha = 0.3, scale = \"width\") + \n",
    "  geom_dotplot(binaxis='y', stackdir='center', dotsize=0) + \n",
    "  geom_jitter(width = 0.1, height = 0.0, size = 2, aes(color = grouping_var)) +\n",
    "theme_classic() +\n",
    "    theme(plot.title = element_text(hjust = 0.5)) +\n",
    "    theme(axis.text.x = element_text(angle = 90, vjust = 0.5)) +\n",
    "ggtheme() +\n",
    "    ggtitle(gene) +\n",
    "    ylab(\"Pct expressing cells\") +\n",
    "xlab(\"\") + NoLegend()\n",
    "    return(plt)\n",
    "    }\n"
   ]
  },
  {
   "cell_type": "code",
   "execution_count": null,
   "id": "9863b044",
   "metadata": {},
   "outputs": [],
   "source": [
    "options(repr.plot.width=4, repr.plot.height=6)\n",
    "\n",
    "pct_expressing_boxplot(seurat_object = cd8_l1_full_filt, group.by = \"annot2\", gene = \"NCAM1\", \n",
    "                       sample.col = \"Sample_ID\")"
   ]
  },
  {
   "cell_type": "code",
   "execution_count": null,
   "id": "234a152c",
   "metadata": {},
   "outputs": [],
   "source": [
    "options(repr.plot.width=4, repr.plot.height=6)\n",
    "pct_expressing_boxplot(seurat_object = cd8_l1_full_filt, group.by = \"annot2\", gene = \"FOXP3\", \n",
    "                       sample.col = \"Sample_ID\")"
   ]
  },
  {
   "cell_type": "code",
   "execution_count": null,
   "id": "fdd97a6b",
   "metadata": {},
   "outputs": [],
   "source": [
    "cd8_l1_full_filt$Experiment_ID"
   ]
  },
  {
   "cell_type": "code",
   "execution_count": null,
   "id": "46ea39b7",
   "metadata": {},
   "outputs": [],
   "source": [
    "cd8_l1_full_filt_sub  <- subset(cd8_l1_full_filt, Experiment_ID %in% c(\"Exp16\",\"Exp18\",\"Exp19\",\"Exp20\"))"
   ]
  },
  {
   "cell_type": "code",
   "execution_count": null,
   "id": "3125da00",
   "metadata": {},
   "outputs": [],
   "source": [
    "options(repr.plot.width=16, repr.plot.height=6)\n",
    "pct_expressing_boxplot(seurat_object = subset(cd8_l1_full_filt_sub, Experiment_ID %in% c(\"Exp16\",\"Exp18\",\"Exp19\",\"Exp20\")), \n",
    "                       group.by = \"annot2\", gene = \"TGFB1\", \n",
    "                       sample.col = \"Sample_ID\") +\n",
    "pct_expressing_boxplot(seurat_object = subset(cd8_l1_full_filt_sub, Experiment_ID %in% c(\"Exp16\",\"Exp18\",\"Exp19\",\"Exp20\")), \n",
    "                       group.by = \"annot2\", gene = \"ITGAV\", \n",
    "                       sample.col = \"Sample_ID\") +\n",
    "pct_expressing_boxplot(seurat_object = subset(cd8_l1_full_filt_sub, Experiment_ID %in% c(\"Exp16\",\"Exp18\",\"Exp19\",\"Exp20\")), \n",
    "                       group.by = \"annot2\", gene = \"ITGB8\", \n",
    "                       sample.col = \"Sample_ID\") +\n",
    "pct_expressing_boxplot(seurat_object = subset(cd8_l1_full_filt_sub, Experiment_ID %in% c(\"Exp16\",\"Exp18\",\"Exp19\",\"Exp20\")), \n",
    "                       group.by = \"annot2\", gene = \"ENTPD1\", \n",
    "                       sample.col = \"Sample_ID\") +\n",
    "plot_layout(ncol = 4)"
   ]
  },
  {
   "cell_type": "code",
   "execution_count": null,
   "id": "7e81fb99",
   "metadata": {},
   "outputs": [],
   "source": [
    "pct_expressing_boxplot(seurat_object = subset(cd8_l1_full_filt_sub, Experiment_ID %in% c(\"Exp16\",\"Exp18\",\"Exp19\",\"Exp20\")), \n",
    "                       group.by = \"annot2\", gene = \"CTLA4\", \n",
    "                       sample.col = \"Sample_ID\") +\n",
    "pct_expressing_boxplot(seurat_object = subset(cd8_l1_full_filt_sub, Experiment_ID %in% c(\"Exp16\",\"Exp18\",\"Exp19\",\"Exp20\")), \n",
    "                       group.by = \"annot2\", gene = \"TIGIT\", \n",
    "                       sample.col = \"Sample_ID\") +\n",
    "pct_expressing_boxplot(seurat_object = subset(cd8_l1_full_filt_sub, Experiment_ID %in% c(\"Exp16\",\"Exp18\",\"Exp19\",\"Exp20\")), \n",
    "                       group.by = \"annot2\", gene = \"IL10RA\", \n",
    "                       sample.col = \"Sample_ID\") +\n",
    "pct_expressing_boxplot(seurat_object = subset(cd8_l1_full_filt_sub, Experiment_ID %in% c(\"Exp16\",\"Exp18\",\"Exp19\",\"Exp20\")), \n",
    "                       group.by = \"annot2\", gene = \"IL10\", \n",
    "                       sample.col = \"Sample_ID\") +\n",
    "plot_layout(ncol = 4)"
   ]
  },
  {
   "cell_type": "code",
   "execution_count": null,
   "id": "37b04c5d",
   "metadata": {},
   "outputs": [],
   "source": [
    "options(repr.plot.width=16, repr.plot.height=12)\n",
    "pct_expressing_boxplot(seurat_object = subset(cd8_l1_full_filt_sub, Experiment_ID %in% c(\"Exp16\",\"Exp18\",\"Exp19\",\"Exp20\")), \n",
    "                       group.by = \"annotations_l2\", gene = \"TGFB1\", \n",
    "                       sample.col = \"Sample_ID\") +\n",
    "pct_expressing_boxplot(seurat_object = subset(cd8_l1_full_filt_sub, Experiment_ID %in% c(\"Exp16\",\"Exp18\",\"Exp19\",\"Exp20\")), \n",
    "                       group.by = \"annotations_l2\", gene = \"ITGAV\", \n",
    "                       sample.col = \"annotations_l2\") +\n",
    "pct_expressing_boxplot(seurat_object = subset(cd8_l1_full_filt_sub, Experiment_ID %in% c(\"Exp16\",\"Exp18\",\"Exp19\",\"Exp20\")), \n",
    "                       group.by = \"annotations_l2\", gene = \"ITGB8\", \n",
    "                       sample.col = \"Sample_ID\") +\n",
    "pct_expressing_boxplot(seurat_object = subset(cd8_l1_full_filt_sub, Experiment_ID %in% c(\"Exp16\",\"Exp18\",\"Exp19\",\"Exp20\")), \n",
    "                       group.by = \"annotations_l2\", gene = \"ENTPD1\", \n",
    "                       sample.col = \"Sample_ID\") +\n",
    "plot_layout(ncol = 4)"
   ]
  },
  {
   "cell_type": "code",
   "execution_count": null,
   "id": "713454e6",
   "metadata": {},
   "outputs": [],
   "source": [
    "options(repr.plot.width=16, repr.plot.height=12)\n",
    "pct_expressing_boxplot(seurat_object = subset(cd8_l1_full_filt_sub, Experiment_ID %in% c(\"Exp16\",\"Exp18\",\"Exp19\",\"Exp20\")), \n",
    "                       group.by = \"annotations_l2\", gene = \"CTLA4\", \n",
    "                       sample.col = \"Sample_ID\") +\n",
    "pct_expressing_boxplot(seurat_object = subset(cd8_l1_full_filt_sub, Experiment_ID %in% c(\"Exp16\",\"Exp18\",\"Exp19\",\"Exp20\")), \n",
    "                       group.by = \"annotations_l2\", gene = \"TIGIT\", \n",
    "                       sample.col = \"annotations_l2\") +\n",
    "pct_expressing_boxplot(seurat_object = subset(cd8_l1_full_filt_sub, Experiment_ID %in% c(\"Exp16\",\"Exp18\",\"Exp19\",\"Exp20\")), \n",
    "                       group.by = \"annotations_l2\", gene = \"IL10RA\", \n",
    "                       sample.col = \"Sample_ID\") +\n",
    "pct_expressing_boxplot(seurat_object = subset(cd8_l1_full_filt_sub, Experiment_ID %in% c(\"Exp16\",\"Exp18\",\"Exp19\",\"Exp20\")), \n",
    "                       group.by = \"annotations_l2\", gene = \"IL10\", \n",
    "                       sample.col = \"Sample_ID\") +\n",
    "plot_layout(ncol = 4)"
   ]
  },
  {
   "cell_type": "code",
   "execution_count": null,
   "id": "c2a55525",
   "metadata": {},
   "outputs": [],
   "source": [
    "cd8_l1_full_filt_sub$annot2_sample  <- paste(cd8_l1_full_filt_sub$annot2, cd8_l1_full_filt_sub$Sample_ID, sep = \"___\") "
   ]
  },
  {
   "cell_type": "code",
   "execution_count": null,
   "id": "32b8952a",
   "metadata": {},
   "outputs": [],
   "source": [
    "options(future.globals.maxSize = 25000 * 1024^2)"
   ]
  },
  {
   "cell_type": "code",
   "execution_count": null,
   "id": "fd8e628d",
   "metadata": {},
   "outputs": [],
   "source": [
    "avgexp  <- AverageExpression(cd8_l1_full_filt_sub, features = c(\"CTLA4\",\"TIGIT\",\"IL10RA\",\"IL10\",\n",
    "                                                               \"TGFB1\",\"ITGAV\",\"ITGB8\",\"ENTPD1\"), \n",
    "                             group.by = c(\"annot2_sample\"), return.seurat = TRUE, assay = \"RNA\")"
   ]
  },
  {
   "cell_type": "code",
   "execution_count": null,
   "id": "f2c5876a",
   "metadata": {},
   "outputs": [],
   "source": [
    "avgexp@meta.data  <- avgexp@meta.data  %>% separate(annot2_sample, into = c(\"annot2\",\"sample\"), remove = F, sep = \"---\")"
   ]
  },
  {
   "cell_type": "code",
   "execution_count": null,
   "id": "c8acd4f9",
   "metadata": {},
   "outputs": [],
   "source": [
    "VlnPlot(avgexp, features = c(\"CTLA4\",\"TIGIT\",\"IL10RA\",\"IL10\"), group.by = \"annot2\", ncol = 4)"
   ]
  },
  {
   "cell_type": "code",
   "execution_count": null,
   "id": "584701d0",
   "metadata": {},
   "outputs": [],
   "source": [
    "VlnPlot(avgexp, features = c(\"TGFB1\",\"ITGAV\",\"ITGB8\",\"ENTPD1\"), group.by = \"annot2\", ncol = 4)"
   ]
  },
  {
   "cell_type": "markdown",
   "id": "a3a87bda",
   "metadata": {},
   "source": [
    "# DE genes heatmap avg."
   ]
  },
  {
   "cell_type": "code",
   "execution_count": null,
   "id": "d9552d68",
   "metadata": {},
   "outputs": [],
   "source": [
    "rm(cd8_l1_full_filt_sub)"
   ]
  },
  {
   "cell_type": "code",
   "execution_count": null,
   "id": "eed8c2b7",
   "metadata": {},
   "outputs": [],
   "source": [
    "avgexp = AverageExpression(subset(cd8_l1_full_filt, Experiment_ID %in% c(\"Exp16\",\"Exp18\",\"Exp19\",\"Exp20\")), \n",
    "                             return.seurat = F, group.by = \"Patient_Time\", \n",
    "                          assay = \"RNA\")"
   ]
  },
  {
   "cell_type": "code",
   "execution_count": null,
   "id": "c9fd7931",
   "metadata": {
    "scrolled": true
   },
   "outputs": [],
   "source": [
    "avgexp$RNA[which(rownames(avgexp$RNA)==\"GNLY\"),]  %>% as.data.frame()"
   ]
  },
  {
   "cell_type": "markdown",
   "id": "ceef9110",
   "metadata": {},
   "source": [
    "## Heatmap"
   ]
  },
  {
   "cell_type": "markdown",
   "id": "37ddd12a",
   "metadata": {},
   "source": [
    "### All cells"
   ]
  },
  {
   "cell_type": "code",
   "execution_count": null,
   "id": "cfe7695a",
   "metadata": {},
   "outputs": [],
   "source": [
    "cd8_l1_full_filt$Patient_Time_Disease  <- paste(cd8_l1_full_filt$Patient_ID, cd8_l1_full_filt$Time, \n",
    "                                               cd8_l1_full_filt$Disease)"
   ]
  },
  {
   "cell_type": "code",
   "execution_count": null,
   "id": "c188da67",
   "metadata": {},
   "outputs": [],
   "source": [
    "cd8_l1_full_filt$Disease_time  <- paste(\n",
    "                                               cd8_l1_full_filt$Disease,\n",
    "cd8_l1_full_filt$Time)"
   ]
  },
  {
   "cell_type": "code",
   "execution_count": null,
   "id": "95d1bc5b",
   "metadata": {},
   "outputs": [],
   "source": [
    "avgexp = AverageExpression(subset(cd8_l1_full_filt, Experiment_ID %in% c(\"Exp16\",\"Exp18\",\"Exp19\",\"Exp20\")), \n",
    "                             return.seurat = F, group.by = \"Disease_time\", \n",
    "                          assay = \"RNA\")"
   ]
  },
  {
   "cell_type": "code",
   "execution_count": null,
   "id": "22d1b4e0",
   "metadata": {},
   "outputs": [],
   "source": [
    "genes  <- c(\"PCBP2\",\"PCBP1\",\n",
    "            \"CX3CR1\",\"TNF\",\"GZMB\",\"GZMA\",\"PRF1\",\"NKG7\",\"GNLY\",\"CCL5\",\"CST7\",\n",
    "            \"BTG1\",\"SELL\",\"IL7R\",\"CCR7\",\"BTG2\",\"SLAMF6\",\"LEF1\",\n",
    "             \"TNFAIP3\",\"TSC22D3\",\"NKFBIA\",\"DUSP1\")"
   ]
  },
  {
   "cell_type": "code",
   "execution_count": null,
   "id": "10d5a52b",
   "metadata": {},
   "outputs": [],
   "source": [
    "avgexp  <- avgexp$RNA[which(rownames(avgexp$RNA) %in% genes),]"
   ]
  },
  {
   "cell_type": "code",
   "execution_count": null,
   "id": "f0d03a1e",
   "metadata": {
    "scrolled": false
   },
   "outputs": [],
   "source": [
    "library(pheatmap)\n",
    "\n",
    "options(repr.plot.width = 4, repr.plot.height = 9)\n",
    "pheatmap(avgexp, main = \"\", scale = \"row\", cluster_cols = F, cluster_rows = T,\n",
    "        color=colorRampPalette(c(\"dodgerblue\", \"grey95\", \"indianred2\"))(50), \n",
    "         border_color = \"white\", width = 9, height = 3.3,\n",
    "                  fontsize = 9)"
   ]
  },
  {
   "cell_type": "code",
   "execution_count": null,
   "id": "b1cee297",
   "metadata": {},
   "outputs": [],
   "source": [
    "dir.create(\"../tables/avg_heatmap/\")\n",
    "write.csv(avgexp, \"../tables/avg_heatmap/cd8_avg.csv\")"
   ]
  },
  {
   "cell_type": "markdown",
   "id": "42b89e96",
   "metadata": {},
   "source": [
    "### Average of patient"
   ]
  },
  {
   "cell_type": "code",
   "execution_count": null,
   "id": "496c426f",
   "metadata": {},
   "outputs": [],
   "source": [
    "genes  <- c(\"PCBP2\",\"PCBP1\",\n",
    "            \"CX3CR1\",\"TNF\",\"GZMB\",\"GZMA\",\"PRF1\",\"NKG7\",\"GNLY\",\"CCL5\",\"CST7\",\n",
    "            \"BTG1\",\"SELL\",\"IL7R\",\"CCR7\",\"BTG2\",\"SLAMF6\",\"LEF1\",\n",
    "             \"TSC22D3\",\"NKFBIA\",\"DUSP1\",\"CXCR4\",\"PI3KR1\",\"CCL4\", \"IFI44L\",\"EPSTI1\",\"MX1\", \"FOXO1\", \"ISG15\")"
   ]
  },
  {
   "cell_type": "code",
   "execution_count": null,
   "id": "f7883f2c",
   "metadata": {},
   "outputs": [],
   "source": [
    "avgexp = AverageExpression(subset(cd8_l1_full_filt, Experiment_ID %in% c(\"Exp16\",\"Exp18\",\"Exp19\",\"Exp20\")), \n",
    "                             return.seurat = T, group.by = \"Patient_Time_Disease\", \n",
    "                          assay = \"RNA\")"
   ]
  },
  {
   "cell_type": "code",
   "execution_count": null,
   "id": "fa70c402",
   "metadata": {},
   "outputs": [],
   "source": [
    "avgexp$Patient_Time_Disease  <- colnames(avgexp)\n",
    "avgexp@meta.data  <- avgexp@meta.data  %>% \n",
    "separate(Patient_Time_Disease, into = c(\"Patient\", \"Time\", \"Disease\"), sep = \" \", remove = F)"
   ]
  },
  {
   "cell_type": "code",
   "execution_count": null,
   "id": "66500720",
   "metadata": {},
   "outputs": [],
   "source": [
    "avgexp$Disease_Time  <- paste(avgexp$Disease, avgexp$Time)"
   ]
  },
  {
   "cell_type": "code",
   "execution_count": null,
   "id": "69c65de3",
   "metadata": {},
   "outputs": [],
   "source": [
    "avgexp2 = AverageExpression(avgexp, \n",
    "                             return.seurat = F, group.by = \"Disease_Time\")"
   ]
  },
  {
   "cell_type": "code",
   "execution_count": null,
   "id": "e6553b8f",
   "metadata": {
    "scrolled": true
   },
   "outputs": [],
   "source": [
    "avgexp3  <- avgexp2$RNA[which(rownames(avgexp2$RNA) %in% genes),]"
   ]
  },
  {
   "cell_type": "code",
   "execution_count": null,
   "id": "1ca14290",
   "metadata": {
    "scrolled": true
   },
   "outputs": [],
   "source": [
    "avgexp3"
   ]
  },
  {
   "cell_type": "code",
   "execution_count": null,
   "id": "581dd18d",
   "metadata": {},
   "outputs": [],
   "source": [
    "options(repr.plot.width = 4, repr.plot.height = 9)\n",
    "pheatmap(avgexp3, main = \"\", scale = \"row\", cluster_cols = F, cluster_rows = T,\n",
    "        color=colorRampPalette(c(\"dodgerblue\", \"grey95\", \"indianred2\"))(50), \n",
    "         border_color = \"white\", width = 9, height = 3.3,\n",
    "                  fontsize = 9)"
   ]
  },
  {
   "cell_type": "code",
   "execution_count": null,
   "id": "eab56290",
   "metadata": {},
   "outputs": [],
   "source": []
  },
  {
   "cell_type": "code",
   "execution_count": null,
   "id": "582fbbb8",
   "metadata": {},
   "outputs": [],
   "source": []
  },
  {
   "cell_type": "code",
   "execution_count": null,
   "id": "a3384689",
   "metadata": {},
   "outputs": [],
   "source": [
    "write.csv(avgexp3, \"../tables/avg_heatmap/cd8_avg_by_patient.csv\")"
   ]
  },
  {
   "cell_type": "code",
   "execution_count": null,
   "id": "b1d985ae",
   "metadata": {},
   "outputs": [],
   "source": [
    "genes2  <- c(\"PCBP2\",\"PCBP1\",\"CXCR4\",\"FOXO1\",\"IL7R\",\"LEF1\",\"CCR7\",\"SELL\",\n",
    "             \"DUSP1\",\"TSC22D3\",\"NFKBIA\",\"TNFAIP3\",\n",
    "             \"IFI44L\",\"ISG15\",\"MX1\",\"EPSTI1\",\n",
    "            \"PRF1\",\"NKG7\",\"GZMB\",\"CST7\",\"GNLY\",\"GZMA\",\"CX3CR1\",\"CCL5\",\"TNF\"\n",
    "            )"
   ]
  },
  {
   "cell_type": "code",
   "execution_count": null,
   "id": "10a3d95f",
   "metadata": {},
   "outputs": [],
   "source": [
    "avgexp3  <- avgexp2$RNA[which(rownames(avgexp2$RNA) %in% genes2),]"
   ]
  },
  {
   "cell_type": "code",
   "execution_count": null,
   "id": "948883fb",
   "metadata": {},
   "outputs": [],
   "source": [
    "pheatmap(avgexp3[match(genes2,rownames(avgexp3)),], \n",
    "         main = \"\", scale = \"row\", cluster_cols = F, cluster_rows =F,\n",
    "        color=colorRampPalette(c(\"dodgerblue\", \"grey95\", \"indianred2\"))(50), \n",
    "         border_color = \"white\", width = 5, height = 10,\n",
    "                  fontsize = 9)"
   ]
  },
  {
   "cell_type": "code",
   "execution_count": null,
   "id": "ea124406",
   "metadata": {},
   "outputs": [],
   "source": [
    "options(repr.plot.width = 4, repr.plot.height = 9)\n",
    "pheatmap(avgexp3[match(genes2,rownames(avgexp3)),], \n",
    "         main = \"\", scale = \"row\", cluster_cols = F, cluster_rows =F,\n",
    "        color=colorRampPalette(c(\"dodgerblue\", \"grey95\", \"indianred2\"))(50), \n",
    "         border_color = \"white\", width = 5, height = 10,\n",
    "                  fontsize = 9,\n",
    "        filename = \"../figures/heatmaps/de_genes_cd8.pdf\")"
   ]
  },
  {
   "cell_type": "code",
   "execution_count": null,
   "id": "2ad62b0a",
   "metadata": {},
   "outputs": [],
   "source": []
  },
  {
   "cell_type": "code",
   "execution_count": null,
   "id": "b44e6d98",
   "metadata": {},
   "outputs": [],
   "source": [
    "plot_gene  <- function(gene){\n",
    "    df  <- as.data.frame(avgexp$RNA[which(rownames(avgexp$RNA)==gene),])  %>% rownames_to_column(\"Patient_Time\")\n",
    "    colnames(df)[2]  <- \"gene2\"\n",
    "    df  <-  df  %>% separate(Patient_Time, into = c(\"Patient\",\"Time\"), sep = \" \", remove = F)  %>% \n",
    "    mutate(group = ifelse(substr(Patient,1,1)==\"1\",\"Dia\",\"Ctrl\"))  %>% \n",
    "    mutate(Condition = paste(group, Time))\n",
    "   # print(df)\n",
    " p  <-    df  %>% ggplot(aes(x = Condition, y = gene2)) + \n",
    " geom_violin(alpha = 0.3, aes(fill = Condition), scale = \"width\") + \n",
    "stat_summary(fun = \"median\",\n",
    "               geom = \"crossbar\", \n",
    "               width = 0.75,\n",
    "               color = \"grey30\") +\n",
    "geom_beeswarm(size = 3, aes(fill = Condition), cex = 3, \n",
    "                shape = 21, color = \"black\", corral = \"random\") +\n",
    " stat_compare_means(label = \"p.format\", comparisons = list(c(1,2))) +\n",
    "scale_fill_manual(values = c(\"#1874cdff\",  \"#ee6363ff\", \"#c41515ff\",\"#eeb4b4ff\")) +\n",
    "scale_color_manual(values = c(\"dodgerblue3\",  \"#e54c4cff\", \"#aa2a2aff\",\"#e88989ff\")) +\n",
    "ylab(\"\") +\n",
    "  xlab(\"\") +\n",
    "  ylim(0,NA) +\n",
    "  theme_classic() +\n",
    "theme(strip.background = element_blank(), panel.grid = element_blank()) + \n",
    "  theme(axis.text = element_text(color = \"black\"),\n",
    "        axis.text.x = element_text(angle = 90),\n",
    "       axis.line = element_line(color = \"black\", size = 0.5),\n",
    "        axis.ticks.x = element_blank()) +\n",
    "  ggtitle(gene) + ggtheme()\n",
    "    \n",
    "    p2  <-    df  %>% dplyr::filter(Patient != 116)  %>% ggplot(aes(x = Condition, y = gene2)) + \n",
    " geom_violin(alpha = 0.3, aes(fill = Condition), scale = \"width\") + \n",
    "stat_summary(fun = \"median\",\n",
    "               geom = \"crossbar\", \n",
    "               width = 0.75,\n",
    "               color = \"grey30\") +\n",
    "geom_beeswarm(size = 3, aes(fill = Condition), cex = 3, \n",
    "                shape = 21, color = \"black\", corral = \"random\") +\n",
    " stat_compare_means(label = \"p.format\", comparisons = list(c(2,3)), paired = TRUE) +\n",
    "scale_fill_manual(values = c(\"#1874cdff\",  \"#ee6363ff\", \"#c41515ff\",\"#eeb4b4ff\")) +\n",
    "scale_color_manual(values = c(\"dodgerblue3\",  \"#e54c4cff\", \"#aa2a2aff\",\"#e88989ff\")) +\n",
    "ylab(\"\") +\n",
    "  xlab(\"\") +\n",
    "  ylim(0,NA) +\n",
    "  theme_classic() +\n",
    "theme(strip.background = element_blank(), panel.grid = element_blank()) + \n",
    "  theme(axis.text = element_text(color = \"black\"),\n",
    "        axis.text.x = element_text(angle = 90),\n",
    "       axis.line = element_line(color = \"black\", size = 0.5),\n",
    "        axis.ticks.x = element_blank()) +\n",
    "  ggtitle(gene) + ggtheme()\n",
    "    p  <- p + p2\n",
    "    return(p)\n",
    "    }"
   ]
  },
  {
   "cell_type": "code",
   "execution_count": null,
   "id": "8bc7962e",
   "metadata": {},
   "outputs": [],
   "source": [
    "plot_gene2  <- function(gene){\n",
    "    options(repr.plot.width = 2.5, repr.plot.height = 4)\n",
    "    df  <- as.data.frame(avgexp$RNA[which(rownames(avgexp$RNA)==gene),])  %>% rownames_to_column(\"Patient_Time\")\n",
    "    colnames(df)[2]  <- \"gene2\"\n",
    "    df  <-  df  %>% separate(Patient_Time, into = c(\"Patient\",\"Time\"), sep = \" \", remove = F)  %>% \n",
    "    mutate(group = ifelse(substr(Patient,1,1)==\"1\",\"Dia\",\"Ctrl\"))  %>% \n",
    "    mutate(Condition = paste(group, Time))\n",
    "   # print(df)\n",
    " p  <-    df  %>% ggplot(aes(x = Condition, y = gene2)) + \n",
    " geom_violin(alpha = 0.3, aes(fill = Condition), scale = \"width\") + \n",
    "stat_summary(fun = \"median\",\n",
    "               geom = \"crossbar\", \n",
    "               width = 0.75,\n",
    "               color = \"grey30\") +\n",
    "geom_beeswarm(size = 3, aes(fill = Condition), cex = 3, \n",
    "                shape = 21, color = \"black\", corral = \"random\") +\n",
    " stat_compare_means(label = \"p.format\", comparisons = list(c(1,2))) +\n",
    "scale_fill_manual(values = c(\"#1874cdff\",  \"#ee6363ff\", \"#c41515ff\",\"#eeb4b4ff\")) +\n",
    "scale_color_manual(values = c(\"dodgerblue3\",  \"#e54c4cff\", \"#aa2a2aff\",\"#e88989ff\")) +\n",
    "ylab(\"\") +\n",
    "  xlab(\"\") +\n",
    "  ylim(0,NA) +\n",
    "  theme_classic() +\n",
    "theme(strip.background = element_blank(), panel.grid = element_blank()) + \n",
    "  theme(axis.text = element_text(color = \"black\"),\n",
    "        axis.text.x = element_blank(),\n",
    "       axis.line = element_line(color = \"black\", size = 0.5),\n",
    "        axis.ticks.x = element_blank()) +\n",
    "  ggtitle(gene) + ggtheme() + NoLegend()\n",
    "  \n",
    "    return(p)\n",
    "    }"
   ]
  },
  {
   "cell_type": "code",
   "execution_count": null,
   "id": "323f69e6",
   "metadata": {},
   "outputs": [],
   "source": [
    "plot_gene(\"IFI44L\")"
   ]
  },
  {
   "cell_type": "code",
   "execution_count": null,
   "id": "86d4df3b",
   "metadata": {
    "scrolled": true
   },
   "outputs": [],
   "source": [
    "plot_gene2(\"NKG7\")"
   ]
  },
  {
   "cell_type": "code",
   "execution_count": null,
   "id": "5eb63cc5",
   "metadata": {},
   "outputs": [],
   "source": [
    "plot_gene2(\"BTN3A2\")"
   ]
  },
  {
   "cell_type": "code",
   "execution_count": null,
   "id": "c70e0651",
   "metadata": {},
   "outputs": [],
   "source": [
    "plot_gene(\"ASCL2\")"
   ]
  },
  {
   "cell_type": "code",
   "execution_count": null,
   "id": "e93fa2c8",
   "metadata": {},
   "outputs": [],
   "source": [
    "plot_gene(\"DUSP1\")"
   ]
  },
  {
   "cell_type": "code",
   "execution_count": null,
   "id": "e6d5d1b7",
   "metadata": {},
   "outputs": [],
   "source": [
    "plot_gene(\"TSC22D3\")"
   ]
  },
  {
   "cell_type": "code",
   "execution_count": null,
   "id": "ee608d2c",
   "metadata": {},
   "outputs": [],
   "source": [
    "plot_gene(\"RBM3\")"
   ]
  },
  {
   "cell_type": "code",
   "execution_count": null,
   "id": "d05db933",
   "metadata": {
    "scrolled": true
   },
   "outputs": [],
   "source": [
    "plot_gene(\"GADD45B\")"
   ]
  },
  {
   "cell_type": "code",
   "execution_count": null,
   "id": "76e8a7c2",
   "metadata": {},
   "outputs": [],
   "source": []
  },
  {
   "cell_type": "code",
   "execution_count": null,
   "id": "54603f3a",
   "metadata": {},
   "outputs": [],
   "source": [
    "DimPlot(cd8_l2_nk)"
   ]
  },
  {
   "cell_type": "code",
   "execution_count": null,
   "id": "5ed2ceaa",
   "metadata": {},
   "outputs": [],
   "source": [
    "options(repr.plot.width = 4, repr.plot.height = 4)\n",
    "FeaturePlot(cd8_l2_nk, features = \"NCAM1\", min.cutoff = 0)"
   ]
  },
  {
   "cell_type": "code",
   "execution_count": null,
   "id": "3027b06d",
   "metadata": {},
   "outputs": [],
   "source": [
    "FeaturePlot(cd8_l2_nk, features = \"HLA-DRB1\", min.cutoff = 0)"
   ]
  },
  {
   "cell_type": "code",
   "execution_count": null,
   "id": "ea9a4ac4",
   "metadata": {},
   "outputs": [],
   "source": [
    "FeaturePlot(cd8_l2_nk, features = \"CCR7\", min.cutoff = 0)"
   ]
  },
  {
   "cell_type": "markdown",
   "id": "e0246413",
   "metadata": {},
   "source": [
    "## gd CD8"
   ]
  },
  {
   "cell_type": "code",
   "execution_count": null,
   "id": "41b94b85",
   "metadata": {},
   "outputs": [],
   "source": [
    "gd  <- readRDS(\"../../240218_VN_Diabetes_V05/data/processed/L2/cd8_l2_unc.rds\")"
   ]
  },
  {
   "cell_type": "code",
   "execution_count": null,
   "id": "29ef389d",
   "metadata": {},
   "outputs": [],
   "source": [
    "gd"
   ]
  },
  {
   "cell_type": "code",
   "execution_count": null,
   "id": "01c66279",
   "metadata": {},
   "outputs": [],
   "source": [
    "options(repr.plot.width = 8, repr.plot.height = 5)\n",
    "DimPlot(gd, group.by = \"annotations_manual\", cols = gd@misc$cols_annotations)"
   ]
  },
  {
   "cell_type": "code",
   "execution_count": null,
   "id": "0835fd5d",
   "metadata": {},
   "outputs": [],
   "source": [
    "df4  <- create_df4(gd)"
   ]
  },
  {
   "cell_type": "code",
   "execution_count": null,
   "id": "9b35c2f0",
   "metadata": {
    "scrolled": true
   },
   "outputs": [],
   "source": [
    "df4"
   ]
  },
  {
   "cell_type": "code",
   "execution_count": null,
   "id": "22501c77",
   "metadata": {},
   "outputs": [],
   "source": [
    "p5  <-   df4  %>% \n",
    "filter(Experiment_ID %in% c(\"Exp16\", \"Exp18\", \"Exp19\", \"Exp20\"))  %>% \n",
    "  ggplot(aes(x = Condition, y = freq*100)) + # you can change the x to whatever variable you're interested in\n",
    "   geom_violin(alpha = 0.3, aes(fill = Condition)) +\n",
    "  stat_summary(fun = \"median\",\n",
    "               geom = \"crossbar\", \n",
    "               width = 0.75,\n",
    "               color = \"grey30\") +\n",
    "   scale_fill_manual(values = c(\"#1874cdff\",  \"#ee6363ff\", \"#c41515ff\",\"#eeb4b4ff\")) +\n",
    "scale_color_manual(values = c(\"dodgerblue3\",  \"#e54c4cff\", \"#aa2a2aff\",\"#e88989ff\")) +\n",
    "geom_beeswarm(size = 3, cex = 3, \n",
    "              color = \"black\", method = \"center\",\n",
    "             aes(fill = Condition), shape = 21) +\n",
    "   facet_wrap(~annotations_manual, scales = \"free\", ncol = 9) +\n",
    "  ylab(\"Frequency\") +\n",
    "  xlab(\"Condition\") +\n",
    "  theme_classic() +\n",
    "ggtheme() +\n",
    "ggpubr::stat_compare_means(label.x= 1.5, \n",
    "                           size = 7, vjust = -1, label = \"p.format\", comparisons = list(c(1,2)))+\n",
    "ggtheme() +\n",
    " scale_y_continuous(limits = c(0,NA), expand = c(0.05,0,0,10)) +\n",
    "  theme(strip.background = element_blank(), panel.grid = element_blank()) + \n",
    "  theme(axis.text = element_text(color = \"black\"),\n",
    "        axis.text.x = element_text(angle = 90),\n",
    "       axis.line = element_line(color = \"black\", size = 0.5),\n",
    "        axis.ticks.x = element_blank()) + NoLegend() + ggtitle(\"Final data all groups\")\n",
    "ncols = length(levels(factor(df4$annotations_manual)))"
   ]
  },
  {
   "cell_type": "code",
   "execution_count": null,
   "id": "47c84354",
   "metadata": {},
   "outputs": [],
   "source": [
    "p5"
   ]
  },
  {
   "cell_type": "code",
   "execution_count": null,
   "id": "bd7b42dc",
   "metadata": {},
   "outputs": [],
   "source": [
    "options(repr.plot.width = 15, repr.plot.height = 7)\n",
    "\n",
    "p5\n",
    "\n",
    "ggsave(\"../figures/subset_characterization/tgd_subsets_in_condition.svg\",\n",
    "       width = 30, height = 12, units = \"cm\")"
   ]
  },
  {
   "cell_type": "code",
   "execution_count": null,
   "id": "ea4cb8fa",
   "metadata": {},
   "outputs": [],
   "source": [
    "  p5  <-   df4  %>% \n",
    "filter(Experiment_ID %in% c(\"Exp16\", \"Exp18\", \"Exp19\", \"Exp20\"))  %>% \n",
    "dplyr::filter(Patient_ID != \"116\")  %>% \n",
    "  ggplot(aes(x = Condition, y = freq*100)) + # you can change the x to whatever variable you're interested in\n",
    "   geom_violin(alpha = 0.3, aes(fill = Condition)) +\n",
    "  stat_summary(fun = \"median\",\n",
    "               geom = \"crossbar\", \n",
    "               width = 0.75,\n",
    "               color = \"grey30\") +\n",
    "   scale_fill_manual(values = c(\"#1874cdff\",  \"#ee6363ff\", \"#c41515ff\",\"#eeb4b4ff\")) +\n",
    "scale_color_manual(values = c(\"dodgerblue3\",  \"#e54c4cff\", \"#aa2a2aff\",\"#e88989ff\")) +\n",
    "geom_beeswarm(size = 3, cex = 3, \n",
    "              color = \"black\", method = \"center\",\n",
    "             aes(fill = Condition), shape = 21) +\n",
    "   facet_wrap(~annotations_manual, scales = \"free\", ncol = 9) +\n",
    "  ylab(\"Frequency\") +\n",
    "  xlab(\"Condition\") +\n",
    "  theme_classic() +\n",
    "ggtheme() +\n",
    "ggpubr::stat_compare_means(label.x= 1.5, \n",
    "                           size = 7, vjust = -1, label = \"p.format\", comparisons = list(c(2,3)), paired = TRUE)+\n",
    "ggtheme() +\n",
    " scale_y_continuous(limits = c(0,NA), expand = c(0.05,0,0,10)) +\n",
    "  theme(strip.background = element_blank(), panel.grid = element_blank()) + \n",
    "  theme(axis.text = element_text(color = \"black\"),\n",
    "        axis.text.x = element_text(angle = 90),\n",
    "       axis.line = element_line(color = \"black\", size = 0.5),\n",
    "        axis.ticks.x = element_blank()) + NoLegend() + ggtitle(\"Final data all groups\")\n",
    "ncols = length(levels(factor(df4$annotations_manual)))"
   ]
  },
  {
   "cell_type": "code",
   "execution_count": null,
   "id": "d940fce5",
   "metadata": {},
   "outputs": [],
   "source": [
    "p5"
   ]
  },
  {
   "cell_type": "code",
   "execution_count": null,
   "id": "080ffa65",
   "metadata": {
    "scrolled": true
   },
   "outputs": [],
   "source": [
    "scCustomize::Plot_Density_Custom(seurat_object = gd, features = \"CD8A\", custom_palette = c(\"lightblue\",\"khaki1\",\"red\")) "
   ]
  },
  {
   "cell_type": "code",
   "execution_count": null,
   "id": "cd5d8f70",
   "metadata": {},
   "outputs": [],
   "source": [
    "options(repr.plot.width = 8, repr.plot.height = 4)\n",
    "DimPlot(gd, group.by = \"annotations_manual\", \n",
    "        cols = rep(\"grey88\",times = 6))"
   ]
  },
  {
   "cell_type": "code",
   "execution_count": null,
   "id": "b0a19e60",
   "metadata": {},
   "outputs": [],
   "source": [
    "cd8_l1_full_filt  <- readRDS(\"../../240218_VN_Diabetes_V05/data/processed/L1/cd8_l1_full_filt.rds\")"
   ]
  },
  {
   "cell_type": "code",
   "execution_count": null,
   "id": "18818e89",
   "metadata": {},
   "outputs": [],
   "source": [
    "cd8_l1_full_filt@meta.data  <- left_join(cd8_l1_full_filt@meta.data, md_gd)"
   ]
  },
  {
   "cell_type": "code",
   "execution_count": null,
   "id": "6ee46599",
   "metadata": {},
   "outputs": [],
   "source": []
  },
  {
   "cell_type": "code",
   "execution_count": null,
   "id": "68cf9782",
   "metadata": {},
   "outputs": [],
   "source": [
    "md_gd  <- data.frame(barcode = colnames(gd), \n",
    "                     gd$annotations_manual)"
   ]
  },
  {
   "cell_type": "code",
   "execution_count": null,
   "id": "b88e08a0",
   "metadata": {
    "scrolled": true
   },
   "outputs": [],
   "source": [
    "table(md_gd$barcode %in% colnames(cd8_l1_full_filt))"
   ]
  },
  {
   "cell_type": "code",
   "execution_count": null,
   "id": "20c5561b",
   "metadata": {},
   "outputs": [],
   "source": [
    "cd8_l1_full_filt$gd.annotations_manual  %>% table"
   ]
  },
  {
   "cell_type": "code",
   "execution_count": null,
   "id": "0765c07c",
   "metadata": {},
   "outputs": [],
   "source": [
    "rownames(cd8_l1_full_filt@meta.data)  <- colnames(cd8_l1_full_filt)"
   ]
  },
  {
   "cell_type": "code",
   "execution_count": null,
   "id": "b68e8d04",
   "metadata": {},
   "outputs": [],
   "source": [
    "options(repr.plot.width = 10, repr.plot.height = 7.5)\n",
    "DimPlot(cd8_l1_full_filt, group.by = \"gd.annotations_manual\", cols = gd@misc$cols_annotations)"
   ]
  },
  {
   "cell_type": "code",
   "execution_count": null,
   "id": "7aedbdef",
   "metadata": {},
   "outputs": [],
   "source": [
    "FeaturePlot(gd, features = c(\"ISG15\", \"IRF7\",\"MX1\",\"MKI67\"), ncol = 4)"
   ]
  },
  {
   "cell_type": "code",
   "execution_count": null,
   "id": "02f64864",
   "metadata": {},
   "outputs": [],
   "source": [
    "DimPlot(gd, group.by = \"annotations_manual\", split.by = \"Condition\")"
   ]
  },
  {
   "cell_type": "code",
   "execution_count": null,
   "id": "f64fe628",
   "metadata": {
    "scrolled": true
   },
   "outputs": [],
   "source": [
    "options(repr.plot.width = 22, repr.plot.height = 22)\n",
    "\n",
    "DimPlot(gd, group.by = \"annotations_manual\", split.by = \"Patient_ID\", ncol = 5)"
   ]
  },
  {
   "cell_type": "code",
   "execution_count": null,
   "id": "49ad7c03",
   "metadata": {
    "scrolled": true
   },
   "outputs": [],
   "source": [
    "gd_subset  <- subset(gd, Experiment_ID %in% c(\"Exp16\", \"Exp18\", \"Exp19\", \"Exp20\")) \n",
    "\n",
    "density  <- gd_subset@meta.data  %>% dplyr::select(Sample_ID, Condition)\n",
    "\n",
    "density$x_umap  <- gd_subset@reductions$umap@cell.embeddings[,1]\n",
    "density$y_umap  <- gd_subset@reductions$umap@cell.embeddings[,2]\n",
    "\n",
    "\n",
    "library(ggplot2)\n",
    "library(dplyr)\n",
    "library(viridis)\n",
    "\n",
    "colfunc <- colorRampPalette(c(\"white\", \"grey85\",\"grey75\",\"dodgerblue\",\"green\",\"yellow\",\"red\"))\n",
    "\n",
    "\n",
    "options(repr.plot.width = 22, repr.plot.height = 5)\n",
    "\n",
    "p1  <- density %>%\n",
    "dplyr::filter(Condition == \"Dia T0\")  %>% \n",
    "  ggplot(aes(x=x_umap, y= y_umap)) + \n",
    " geom_point(shape = \"\")  + geom_density_2d_filled(bins = 40)  + \n",
    "theme_classic() + ggtheme() +\n",
    "xlim(-10,7)+  ylim(-7,5) +\n",
    "scale_fill_manual(values = colfunc(40))  + \n",
    "ggtitle(\"Dia T0\") + NoLegend()\n",
    "\n",
    "p2   <-   density %>%\n",
    "dplyr::filter(Condition == \"Ctrl T0\")  %>% \n",
    "  ggplot(aes(x=x_umap, y= y_umap)) + \n",
    " geom_point(shape = \"\")  + geom_density_2d_filled(bins = 40)  + \n",
    "theme_classic() + ggtheme() +\n",
    "xlim(-10,7)+  ylim(-7,5) +\n",
    "scale_fill_manual(values = colfunc(40))  + \n",
    "ggtitle(\"Ctrl T0\") + NoLegend()\n",
    "\n",
    "p3  <-   density %>%\n",
    "dplyr::filter(Condition == \"Dia T1\")  %>% \n",
    "  ggplot(aes(x=x_umap, y= y_umap)) + \n",
    " geom_point(shape = \"\")  + geom_density_2d_filled(bins = 40)  + \n",
    "theme_classic() + ggtheme() +\n",
    "xlim(-10,7)+  ylim(-7,5) +\n",
    "scale_fill_manual(values = colfunc(40))  + \n",
    "ggtitle(\"Dia T1\") \n",
    "\n",
    "p1 + p2 + p3"
   ]
  },
  {
   "cell_type": "code",
   "execution_count": null,
   "id": "f0bc1d2b",
   "metadata": {},
   "outputs": [],
   "source": [
    "gd_subset  <- subset(gd, annotations_manual %in% c(\"CD8Tgd1: FGFBP2 GZMH GZMB\",\"CD8Tgd2: TRDV2 SELL COTL1\") &\n",
    "                    )\n"
   ]
  },
  {
   "cell_type": "code",
   "execution_count": null,
   "id": "8692c37f",
   "metadata": {
    "scrolled": true
   },
   "outputs": [],
   "source": [
    "density  <- gd_subset@meta.data  %>% dplyr::select(Sample_ID, Condition)\n",
    "\n",
    "density$x_umap  <- gd_subset@reductions$umap@cell.embeddings[,1]\n",
    "density$y_umap  <- gd_subset@reductions$umap@cell.embeddings[,2]\n",
    "\n",
    "density"
   ]
  },
  {
   "cell_type": "code",
   "execution_count": null,
   "id": "3f266ccc",
   "metadata": {},
   "outputs": [],
   "source": [
    "options(repr.plot.width = 16, repr.plot.height = 5)\n",
    "\n",
    "p1  <- density %>%\n",
    "dplyr::filter(Condition == \"Dia T0\")  %>% \n",
    "  ggplot(aes(x=x_umap, y= y_umap)) + \n",
    " geom_point(shape = \"\")  + geom_density_2d_filled(bins = 40)  + \n",
    "theme_classic() + ggtheme() +\n",
    "xlim(-10,5)+ \n",
    "#ylim(-12,6) +\n",
    "scale_fill_manual(values = colfunc(40))  + \n",
    "ggtitle(\"Dia T0\") + NoLegend()\n",
    "\n",
    "p2   <-   density %>%\n",
    "dplyr::filter(Condition == \"Dia T1\")  %>% \n",
    "  ggplot(aes(x=x_umap, y= y_umap)) + \n",
    " geom_point(shape = \"\")  + geom_density_2d_filled(bins = 40)  + \n",
    "theme_classic() + ggtheme() +\n",
    "xlim(-10,5)+  \n",
    "#ylim(-12,6) +\n",
    "scale_fill_manual(values = colfunc(40))  + \n",
    "ggtitle(\"Dia T1\") + NoLegend()\n",
    "\n",
    "p3  <-   density %>%\n",
    "dplyr::filter(Condition == \"Ctrl T0\")  %>% \n",
    "  ggplot(aes(x=x_umap, y= y_umap)) + \n",
    " geom_point(shape = \"\")  + geom_density_2d_filled(bins = 40)  + \n",
    "theme_classic() + ggtheme() +\n",
    "xlim(-10,5)+  \n",
    "#ylim(-12,6) +\n",
    "scale_fill_manual(values = colfunc(40))  + \n",
    "ggtitle(\"Ctrl\")  + NoLegend()\n",
    "\n",
    "p1 + p2 + p3"
   ]
  },
  {
   "cell_type": "code",
   "execution_count": null,
   "id": "23036648",
   "metadata": {},
   "outputs": [],
   "source": [
    "ggsave(\"../figures/density_plot_gd.png\", width = 30, height = 10, units = \"cm\")\n",
    "ggsave(\"../figures/density_plot_gd.svg\", width = 30, height = 10, units = \"cm\")"
   ]
  },
  {
   "cell_type": "code",
   "execution_count": null,
   "id": "3c403f73",
   "metadata": {},
   "outputs": [],
   "source": [
    "all_markers  <- read_csv(\"../tables/de_genes/240319_cd4_all_markers_without_sex.csv\")"
   ]
  },
  {
   "cell_type": "code",
   "execution_count": null,
   "id": "28a1ba15",
   "metadata": {
    "scrolled": true
   },
   "outputs": [],
   "source": [
    "all_markers"
   ]
  },
  {
   "cell_type": "code",
   "execution_count": null,
   "id": "0ef3ec91",
   "metadata": {
    "scrolled": true
   },
   "outputs": [],
   "source": [
    "all_markers  %>% dplyr::filter(source == \"scRNAseq_RNA\" \n",
    "              & dataset == \"cd4_l2_unc\")    %>% \n",
    "group_by(test_type)  %>%\n",
    "arrange(p_val_adj)  "
   ]
  },
  {
   "cell_type": "code",
   "execution_count": null,
   "id": "79fd018b",
   "metadata": {},
   "outputs": [],
   "source": [
    "cd4_l2_unc_genes  <- all_markers  %>% dplyr::filter(source == \"scRNAseq_RNA\" \n",
    "              & dataset == \"cd4_l2_unc\")    %>% \n",
    "group_by(test_type)  %>%\n",
    "slice_head(n = 5)  %>% \n",
    "pull(gene)\n"
   ]
  },
  {
   "cell_type": "code",
   "execution_count": null,
   "id": "b9540586",
   "metadata": {},
   "outputs": [],
   "source": [
    "cd4_l2_unc_genes"
   ]
  },
  {
   "cell_type": "code",
   "execution_count": null,
   "id": "2307ea3e",
   "metadata": {},
   "outputs": [],
   "source": [
    "options(repr.plot.width = 20, repr.plot.height = 25)\n",
    "DefaultAssay(gd)  <- \"RNA\"\n",
    "FeaturePlot(gd, features = cd4_l2_unc_genes, ncol = 5, min.cutoff = 0)"
   ]
  },
  {
   "cell_type": "code",
   "execution_count": null,
   "id": "83c9b83e",
   "metadata": {},
   "outputs": [],
   "source": [
    "md2  <- get_gene_pct_expression(gd, c(\"GZMB\",\"CTLA4\"))"
   ]
  },
  {
   "cell_type": "code",
   "execution_count": null,
   "id": "0e390bff",
   "metadata": {},
   "outputs": [],
   "source": [
    "options(repr.plot.width = 8, repr.plot.height = 5)\n",
    "# Plot the results\n",
    "md2 %>% \n",
    "dplyr::filter(Condition %in% c(\"Ctrl T0\", \"Dia T0\", \"Dia T1\") & \n",
    "              Experiment_ID %in% c(\"Exp16\", \"Exp18\", \"Exp19\", \"Exp20\"))  %>% \n",
    "ggplot(aes(x = Condition, y = as.numeric(pct_express))) + \n",
    "  geom_boxplot(outlier.shape = NA) +\n",
    "  geom_dotplot(binaxis='y', stackdir='center', dotsize=0) + \n",
    "  geom_jitter(position=position_jitter(0.2), size = 2, aes(color = factor(Condition))) +\n",
    "  theme_minimal() + \n",
    "  facet_wrap(~gene, scales = \"free\", ncol = 5) + \n",
    "  ylim(c(0,NA)) +\n",
    "  ylab(\"Percentage of expressing cells\") +\n",
    "  theme(legend.title = element_blank()) + stat_compare_means(label = \"p.format\")"
   ]
  },
  {
   "cell_type": "code",
   "execution_count": null,
   "id": "0a74074f",
   "metadata": {},
   "outputs": [],
   "source": [
    "gd_t0  <- subset(gd, \n",
    "                            Condition %in% c(\"Ctrl T0\", \"Dia T0\") & \n",
    "                            Experiment_ID_2 %in% c(\"Exp16\", \"Exp18\", \"Exp19\", \"Exp20\"))\n",
    "gd_t0$Condition_ID  <- paste(gd_t0$Condition, gd_t0$Sample_ID)"
   ]
  },
  {
   "cell_type": "code",
   "execution_count": null,
   "id": "d3f95ff6",
   "metadata": {
    "scrolled": true
   },
   "outputs": [],
   "source": [
    "avgexp = AggregateExpression(gd_t0, \n",
    "                                       features = rownames(gd_t0),\n",
    "                           return.seurat = T, group.by = \"Condition_ID\", \n",
    "                          assay = \"RNA\")\n",
    "\n"
   ]
  },
  {
   "cell_type": "code",
   "execution_count": null,
   "id": "87c71b9d",
   "metadata": {},
   "outputs": [],
   "source": [
    "colnames(avgexp)"
   ]
  },
  {
   "cell_type": "code",
   "execution_count": null,
   "id": "5e408426",
   "metadata": {},
   "outputs": [],
   "source": [
    "avgexp$sample  <- colnames(avgexp)"
   ]
  },
  {
   "cell_type": "code",
   "execution_count": null,
   "id": "7511175f",
   "metadata": {},
   "outputs": [],
   "source": [
    "avgexp@meta.data  <- avgexp@meta.data  %>% separate(sample, \n",
    "                                                    into = c(\"Condition\", \"Time\",\"Sample_ID\"), \n",
    "                                                    remove = F,\n",
    "                                                    sep = \" \")"
   ]
  },
  {
   "cell_type": "code",
   "execution_count": null,
   "id": "d87e1bd4",
   "metadata": {},
   "outputs": [],
   "source": [
    "Idents(avgexp)  <- avgexp$Condition"
   ]
  },
  {
   "cell_type": "code",
   "execution_count": null,
   "id": "e863d4c4",
   "metadata": {},
   "outputs": [],
   "source": [
    "mrk  <- FindAllMarkers(avgexp, only.pos = T)"
   ]
  },
  {
   "cell_type": "code",
   "execution_count": null,
   "id": "4c40aef9",
   "metadata": {
    "scrolled": true
   },
   "outputs": [],
   "source": [
    "mrk"
   ]
  },
  {
   "cell_type": "code",
   "execution_count": null,
   "id": "bbe97a83",
   "metadata": {},
   "outputs": [],
   "source": [
    "md3  <- get_gene_pct_expression(gd, mrk$gene)"
   ]
  },
  {
   "cell_type": "code",
   "execution_count": null,
   "id": "0e03445a",
   "metadata": {},
   "outputs": [],
   "source": [
    "options(repr.plot.width = 10, repr.plot.height = 12)\n",
    "# Plot the results\n",
    "md3 %>% \n",
    "dplyr::filter(Condition %in% c(\"Ctrl T0\", \"Dia T0\") & \n",
    "              Experiment_ID %in% c(\"Exp16\", \"Exp18\", \"Exp19\", \"Exp20\"))  %>% \n",
    "ggplot(aes(x = Condition, y = as.numeric(pct_express))) + \n",
    "  geom_boxplot(outlier.shape = NA) +\n",
    "  geom_dotplot(binaxis='y', stackdir='center', dotsize=0) + \n",
    "  geom_jitter(position=position_jitter(0.2), size = 2, aes(color = factor(Condition))) +\n",
    "  theme_minimal() + \n",
    "  facet_wrap(~gene, scales = \"free\", ncol = 5) + \n",
    "  ylim(c(0,NA)) +\n",
    "  ylab(\"Percentage of expressing cells\") +\n",
    "  theme(legend.title = element_blank()) + stat_compare_means(label = \"p.format\")"
   ]
  },
  {
   "cell_type": "code",
   "execution_count": null,
   "id": "bd4ed368",
   "metadata": {},
   "outputs": [],
   "source": [
    "options(repr.plot.width = 10, repr.plot.height = 12)\n",
    "# Plot the results\n",
    "md3 %>% \n",
    "dplyr::filter(Condition %in% c(\"Ctrl T0\", \"Dia T0\", \"Dia T1\") & \n",
    "              Experiment_ID %in% c(\"Exp16\", \"Exp18\", \"Exp19\", \"Exp20\"))  %>% \n",
    "ggplot(aes(x = Condition, y = as.numeric(pct_express))) + \n",
    "  geom_boxplot(outlier.shape = NA) +\n",
    "  geom_dotplot(binaxis='y', stackdir='center', dotsize=0) + \n",
    "  geom_jitter(position=position_jitter(0.2), size = 2, aes(color = factor(Condition))) +\n",
    "  theme_minimal() + \n",
    "  facet_wrap(~gene, scales = \"free\", ncol = 5) + \n",
    "  ylim(c(0,NA)) +\n",
    "  ylab(\"Percentage of expressing cells\") +\n",
    "  theme(legend.title = element_blank()) + stat_compare_means(label = \"p.format\")\n"
   ]
  },
  {
   "cell_type": "code",
   "execution_count": null,
   "id": "b6ad4b87",
   "metadata": {},
   "outputs": [],
   "source": [
    "options(repr.plot.width = 20, repr.plot.height = 12)\n",
    "DefaultAssay(gd)  <- \"RNA\"\n",
    "FeaturePlot(gd, features = mrk$gene, ncol = 5, min.cutoff = 0)"
   ]
  },
  {
   "cell_type": "code",
   "execution_count": null,
   "id": "961274d5",
   "metadata": {},
   "outputs": [],
   "source": [
    "options(repr.plot.width = 6, repr.plot.height = 5)\n",
    "DimPlot(gd, label = T)"
   ]
  },
  {
   "cell_type": "code",
   "execution_count": null,
   "id": "0a67b905",
   "metadata": {},
   "outputs": [],
   "source": [
    "gd  <- subset(gd, seurat_clusters %in% c(2,3))"
   ]
  },
  {
   "cell_type": "code",
   "execution_count": null,
   "id": "1e1c2493",
   "metadata": {},
   "outputs": [],
   "source": [
    "DefaultAssay(gd)  <- \"RNA\""
   ]
  },
  {
   "cell_type": "code",
   "execution_count": null,
   "id": "05b43c2d",
   "metadata": {
    "scrolled": true
   },
   "outputs": [],
   "source": [
    "FeaturePlot(gd, features = \"CTLA4\", ncol = 5, min.cutoff = 0)"
   ]
  },
  {
   "cell_type": "code",
   "execution_count": null,
   "id": "d2d09d2b",
   "metadata": {},
   "outputs": [],
   "source": []
  },
  {
   "cell_type": "code",
   "execution_count": null,
   "id": "72ac2e6f",
   "metadata": {
    "scrolled": true
   },
   "outputs": [],
   "source": [
    "scCustomize::Plot_Density_Custom(gd, features = \"CTLA4\", custom_palette = c(\"lightblue\",\"khaki1\",\"red\"))"
   ]
  },
  {
   "cell_type": "code",
   "execution_count": null,
   "id": "0e9af5d3",
   "metadata": {
    "scrolled": true
   },
   "outputs": [],
   "source": [
    "FeaturePlot(gd, features = \"IL19\", ncol = 5, min.cutoff = 4)"
   ]
  },
  {
   "cell_type": "code",
   "execution_count": null,
   "id": "aa286a8f",
   "metadata": {},
   "outputs": [],
   "source": [
    "FeaturePlot(gd, features = \"NCAM1\", min.cutoff = 0, ncol = 4)"
   ]
  },
  {
   "cell_type": "code",
   "execution_count": null,
   "id": "a8807932",
   "metadata": {},
   "outputs": [],
   "source": [
    "FeaturePlot(gd, features = \"GZMK\", min.cutoff = 0, ncol = 4)"
   ]
  },
  {
   "cell_type": "code",
   "execution_count": null,
   "id": "9bed7206",
   "metadata": {},
   "outputs": [],
   "source": [
    "FeaturePlot(gd, features = \"GZMB\", min.cutoff = 0, ncol = 4)"
   ]
  },
  {
   "cell_type": "code",
   "execution_count": null,
   "id": "85876fbe",
   "metadata": {},
   "outputs": [],
   "source": [
    "FeaturePlot(gd, features = \"GZMK\", min.cutoff = 0, ncol = 4)"
   ]
  },
  {
   "cell_type": "code",
   "execution_count": null,
   "id": "8a3ced6e",
   "metadata": {},
   "outputs": [],
   "source": [
    "FeaturePlot(gd, features = \"\", min.cutoff = 0)"
   ]
  },
  {
   "cell_type": "code",
   "execution_count": null,
   "id": "8930360d",
   "metadata": {},
   "outputs": [],
   "source": [
    "FeaturePlot(gd, features = \"IL13A\", min.cutoff = 0)"
   ]
  },
  {
   "cell_type": "code",
   "execution_count": null,
   "id": "bc41ee71",
   "metadata": {},
   "outputs": [],
   "source": [
    "genes  <- grep(rownames(gd@assays$RNA@counts), pattern = \"^IL\", value = T)"
   ]
  },
  {
   "cell_type": "code",
   "execution_count": null,
   "id": "56b844d0",
   "metadata": {},
   "outputs": [],
   "source": [
    "genes"
   ]
  },
  {
   "cell_type": "code",
   "execution_count": null,
   "id": "fcd69518",
   "metadata": {},
   "outputs": [],
   "source": [
    "for(i in genes){\n",
    "    print(FeaturePlot(gd, features = i, min.cutoff = 0))\n",
    "}"
   ]
  },
  {
   "cell_type": "code",
   "execution_count": null,
   "id": "7c6bae46",
   "metadata": {},
   "outputs": [],
   "source": [
    "options(repr.plot.width = 6, repr.plot.height = 5)\n",
    "FeaturePlot(gd, features = \"GZMH\", min.cutoff = 0)"
   ]
  },
  {
   "cell_type": "code",
   "execution_count": null,
   "id": "01179153",
   "metadata": {},
   "outputs": [],
   "source": [
    "options(repr.plot.width = 6, repr.plot.height = 5)\n",
    "FeaturePlot(gd, features = \"GZMB\", min.cutoff = 0)"
   ]
  },
  {
   "cell_type": "code",
   "execution_count": null,
   "id": "6f9181bf",
   "metadata": {},
   "outputs": [],
   "source": [
    "Idents(gd)  <- gd$annotations_manual"
   ]
  },
  {
   "cell_type": "code",
   "execution_count": null,
   "id": "f8b2c830",
   "metadata": {},
   "outputs": [],
   "source": [
    "mrk  <- FindAllMarkers(gd, only.pos = T)"
   ]
  },
  {
   "cell_type": "code",
   "execution_count": null,
   "id": "f7cf350a",
   "metadata": {
    "scrolled": true
   },
   "outputs": [],
   "source": [
    "mrk  %>% group_by(cluster)  %>% slice_head(n = 5)"
   ]
  },
  {
   "cell_type": "code",
   "execution_count": null,
   "id": "c613d8df",
   "metadata": {},
   "outputs": [],
   "source": [
    "mrk  %>% dplyr::filter(cluster == \"CD8Tgd2: TRDV2 SELL COTL1\") "
   ]
  },
  {
   "cell_type": "code",
   "execution_count": null,
   "id": "cddd2a7d",
   "metadata": {
    "scrolled": true
   },
   "outputs": [],
   "source": [
    "avgexp = AverageExpression(gd, features = rev(str_to_upper(c(\n",
    "    \"LTB\",\"CEBPD\",\"CXCR6\",\"DUSP1\",\"NFKBIA\",\"CTLA4\",\"HAVCR2\",\"PDCD1\",\"PDE4D\",\n",
    "    \"TRGC1\",\"CX3CR1\",\"GZMH\",\"GZMB\",\"GZMK\",\"GNLY\",\"CCL4\",\"ITGB2\",\"TENT5C\",\n",
    "    \"SELL\",\"CXCR4\",\"IFI44L\",\"IFI6\",\"ISG15\",\"MX1\",\"IL7R\",\"IL1R\",\"KIT\",\"IL23R\",\"TRDC\"\n",
    "    ))), return.seurat = F, \n",
    "                           group.by = \"annotations_manual\", assays = \"RNA\")\n",
    "\n",
    "avgexp\n",
    "\n",
    "library(pheatmap)"
   ]
  },
  {
   "cell_type": "code",
   "execution_count": null,
   "id": "bb08cb5a",
   "metadata": {},
   "outputs": [],
   "source": [
    "DimPlot(gd, group.by = \"annotations_manual\")"
   ]
  },
  {
   "cell_type": "code",
   "execution_count": null,
   "id": "b061b323",
   "metadata": {},
   "outputs": [],
   "source": [
    "avgexp = AverageExpression(gd, features = rev(str_to_upper(c(\n",
    "    \"SELL\",\"TRDC\",\"TRGC1\",\"GNLY\",\"CCL4\",\"CX3CR1\",\"GZMB\",\"HAVCR2\",\"CTLA4\",\n",
    "    \"GZMK\",\"IL7R\",\"IL23R\",\"LTB\",\"KIT\",\"CXCR6\",\"CEBPD\",\n",
    "    \"NFKBIA\",\"DUSP1\",\"TENT5C\",\"CXCR4\",\"PDE4D\",\"MX1\",\"ISG15\",\"IFI44L\"\n",
    "   ))), return.seurat = F, \n",
    "                           group.by = \"annotations_manual\", assays = \"RNA\")"
   ]
  },
  {
   "cell_type": "code",
   "execution_count": null,
   "id": "55fb405a",
   "metadata": {},
   "outputs": [],
   "source": [
    "options(repr.plot.width = 9, repr.plot.height = 4)\n",
    "pheatmap(t(avgexp$RNA)[c(3,4,1,2,5,6),], main = \"\", scale = \"column\", cluster_cols = F, cluster_rows = F,\n",
    "        color=colorRampPalette(c(\"dodgerblue\", \"grey95\", \"indianred2\"))(50), \n",
    "         border_color = \"white\", width = 9, height = 3.3,\n",
    "                  fontsize = 9)"
   ]
  },
  {
   "cell_type": "code",
   "execution_count": null,
   "id": "eaf492d4",
   "metadata": {},
   "outputs": [],
   "source": [
    "options(repr.plot.width = 9, repr.plot.height = 4)\n",
    "pheatmap(t(avgexp$RNA)[c(3,4,1,2,5,6),], main = \"\", scale = \"column\", cluster_cols = F, cluster_rows = F,\n",
    "        color=colorRampPalette(c(\"dodgerblue\", \"grey95\", \"indianred2\"))(50), \n",
    "         border_color = \"white\", width = 9, height = 3.3,filename = \"../figures/heatmaps/heatmap_gd.pdf\",\n",
    "                  fontsize = 9)"
   ]
  },
  {
   "cell_type": "code",
   "execution_count": null,
   "id": "b0d9829a",
   "metadata": {},
   "outputs": [],
   "source": [
    "cd8_prolif  <- readRDS(\"../../240218_VN_Diabetes_V05/data/processed/L3/cd8_l3_prolif.rds\")"
   ]
  },
  {
   "cell_type": "code",
   "execution_count": null,
   "id": "5244cc81",
   "metadata": {},
   "outputs": [],
   "source": [
    "DimPlot(cd8_prolif)"
   ]
  },
  {
   "cell_type": "code",
   "execution_count": null,
   "id": "50c4d83f",
   "metadata": {},
   "outputs": [],
   "source": [
    "FeaturePlot(cd8_prolif, features = c(\"TRGV9\",\"CD3D\",\"TRAC\",\"TRDC\"))"
   ]
  },
  {
   "cell_type": "code",
   "execution_count": null,
   "id": "f3ffd658",
   "metadata": {},
   "outputs": [],
   "source": [
    "FeaturePlot(cd8_prolif, features = c(\"TRGC1\",\"TRDV2\",\"NCAM1\",\"FCER1G\"))"
   ]
  },
  {
   "cell_type": "markdown",
   "id": "8d2bfca3",
   "metadata": {},
   "source": [
    "# TCR gd clones from MIXCR"
   ]
  },
  {
   "cell_type": "markdown",
   "id": "595e3f7c",
   "metadata": {},
   "source": [
    "We will  now load and analyze the TCR repertoire data from Tgd cells recovered from the gene expression reads by Mixcr. "
   ]
  },
  {
   "cell_type": "code",
   "execution_count": null,
   "id": "e04effa3",
   "metadata": {},
   "outputs": [],
   "source": [
    "paths_clones  <- paste0(list.dirs(\"../data/mixcr\", recursive = F), \"/clones.tsv\")"
   ]
  },
  {
   "cell_type": "code",
   "execution_count": null,
   "id": "a043aa93",
   "metadata": {},
   "outputs": [],
   "source": [
    "donor_ids  <- list.dirs(\"../data/mixcr\", recursive = F, full.names = F)"
   ]
  },
  {
   "cell_type": "code",
   "execution_count": null,
   "id": "b5850af8",
   "metadata": {},
   "outputs": [],
   "source": [
    "paths_clones"
   ]
  },
  {
   "cell_type": "code",
   "execution_count": null,
   "id": "ff2ca586",
   "metadata": {},
   "outputs": [],
   "source": [
    "md  <- cd8_l1_full_filt@meta.data"
   ]
  },
  {
   "cell_type": "code",
   "execution_count": null,
   "id": "454cb4df",
   "metadata": {},
   "outputs": [],
   "source": [
    "md$raw_barcode  <- substr(rownames(md),1,16)"
   ]
  },
  {
   "cell_type": "code",
   "execution_count": null,
   "id": "36ba1720",
   "metadata": {},
   "outputs": [],
   "source": [
    "md$barcode  <- rownames(md)"
   ]
  },
  {
   "cell_type": "markdown",
   "id": "55ae24f3",
   "metadata": {},
   "source": [
    "Prepare function to read and process TCRG and TCRD data. "
   ]
  },
  {
   "cell_type": "code",
   "execution_count": null,
   "id": "940c5dbb",
   "metadata": {},
   "outputs": [],
   "source": [
    "read_and_prep_trgd  <- function(i){\n",
    "    # read mixcr clone output file\n",
    "    clone  <- read_tsv(file = paths_clones[i])\n",
    "    \n",
    "    # filter the metadata of the currently processed donor\n",
    "    md_filt  <- md  %>% dplyr::filter(Patient_ID == donor_ids[i])\n",
    "    \n",
    "    # extract chain information\n",
    "    clone$chain  <- substr(clone$allVHitsWithScore,1,3)\n",
    "    \n",
    "    # filter TRG, TRD chains and select relevant columns    \n",
    "    clone_filt  <- clone  %>% dplyr::filter(chain %in% c(\"TRG\",\"TRD\"))  %>% \n",
    "    group_by(tagValueCELL, chain)  %>% \n",
    "    slice_max(n = 1, order_by = uniqueMoleculeCount, with_ties = F)  %>% \n",
    "    dplyr::select(raw_barcode = tagValueCELL, aaSeqCDR3, chain)  %>% \n",
    "    pivot_wider(names_from = chain, names_prefix = \"cdr3_\", values_from = aaSeqCDR3)\n",
    "    \n",
    "    # join to metadata\n",
    "    md_with_trg  <- md_filt  %>% left_join(clone_filt)\n",
    "}"
   ]
  },
  {
   "cell_type": "markdown",
   "id": "dbc16a50",
   "metadata": {},
   "source": [
    "Map function to all outputs. "
   ]
  },
  {
   "cell_type": "code",
   "execution_count": null,
   "id": "e38f022d",
   "metadata": {
    "scrolled": true
   },
   "outputs": [],
   "source": [
    "md_with_trgd  <- map(1:length(paths_clones), .f = read_and_prep_trgd)"
   ]
  },
  {
   "cell_type": "code",
   "execution_count": null,
   "id": "d17d7642",
   "metadata": {},
   "outputs": [],
   "source": [
    "md_with_trgd  <- bind_rows(md_with_trgd)"
   ]
  },
  {
   "cell_type": "code",
   "execution_count": null,
   "id": "962fd5e4",
   "metadata": {},
   "outputs": [],
   "source": [
    "md_with_trgd"
   ]
  },
  {
   "cell_type": "markdown",
   "id": "0441e205",
   "metadata": {},
   "source": [
    "Fix rownames."
   ]
  },
  {
   "cell_type": "code",
   "execution_count": null,
   "id": "b77fc6cd",
   "metadata": {},
   "outputs": [],
   "source": [
    "rownames(md_with_trgd)  <- md_with_trgd$barcode"
   ]
  },
  {
   "cell_type": "code",
   "execution_count": null,
   "id": "2d5da842",
   "metadata": {},
   "outputs": [],
   "source": [
    "new_md  <- md  %>% dplyr::select(barcode)  %>% left_join(md_with_trgd)"
   ]
  },
  {
   "cell_type": "code",
   "execution_count": null,
   "id": "311e16da",
   "metadata": {},
   "outputs": [],
   "source": [
    "all.equal(new_md$barcode, colnames(cd8_l1_full_filt))"
   ]
  },
  {
   "cell_type": "code",
   "execution_count": null,
   "id": "5177a927",
   "metadata": {},
   "outputs": [],
   "source": [
    "rownames(new_md)  <- colnames(cd8_l1_full_filt)"
   ]
  },
  {
   "cell_type": "code",
   "execution_count": null,
   "id": "014ef514",
   "metadata": {},
   "outputs": [],
   "source": [
    "cd8_l1_full_filt@meta.data  <- new_md"
   ]
  },
  {
   "cell_type": "code",
   "execution_count": null,
   "id": "1433a23d",
   "metadata": {},
   "outputs": [],
   "source": [
    "cd8_l1_full_filt$has_trg  <- ifelse(is.na(cd8_l1_full_filt$cdr3_TRG), \"No\",\"Yes\")\n",
    "cd8_l1_full_filt$has_trd  <- ifelse(is.na(cd8_l1_full_filt$cdr3_TRD), \"No\",\"Yes\")\n"
   ]
  },
  {
   "cell_type": "code",
   "execution_count": null,
   "id": "4a09c11b",
   "metadata": {},
   "outputs": [],
   "source": [
    "options(repr.plot.width = 7, repr.plot.height = 6)\n",
    "DimPlot(cd8_l1_full_filt, group.by = \"has_trg\", order = \"Yes\", cols = c(\"grey88\",\"darkred\"))"
   ]
  },
  {
   "cell_type": "code",
   "execution_count": null,
   "id": "21777cf9",
   "metadata": {},
   "outputs": [],
   "source": [
    "DimPlot(cd8_l1_full_filt, group.by = \"has_trd\", order = \"Yes\", cols = c(\"grey88\",\"darkred\"))"
   ]
  },
  {
   "cell_type": "code",
   "execution_count": null,
   "id": "c79f2e0a",
   "metadata": {},
   "outputs": [],
   "source": [
    "cd8_l1_full_filt@meta.data  %>% \n",
    "mutate(cdr3_TRG = if_else(is.na(cdr3_TRG),0,1))  %>% \n",
    "mutate(cdr3_TRD = if_else(is.na(cdr3_TRD),0,1))  %>% \n",
    "mutate(bothGD = if_else(cdr3_TRG==1&cdr3_TRD==1,1,0))  %>% \n",
    "\n",
    "group_by(annotations_l2)  %>% summarise(mean_trg = mean(cdr3_TRG),\n",
    "                                        mean_bothGD = mean(bothGD),\n",
    "                                        mean_trd = mean(cdr3_TRD)\n",
    "                                        )  %>% \n",
    "arrange(desc(mean_trg))"
   ]
  },
  {
   "cell_type": "code",
   "execution_count": null,
   "id": "41a397ad",
   "metadata": {},
   "outputs": [],
   "source": []
  },
  {
   "cell_type": "code",
   "execution_count": null,
   "id": "045afee7",
   "metadata": {},
   "outputs": [],
   "source": []
  },
  {
   "cell_type": "code",
   "execution_count": null,
   "id": "ed19204e",
   "metadata": {},
   "outputs": [],
   "source": []
  },
  {
   "cell_type": "code",
   "execution_count": null,
   "id": "e86ada9a",
   "metadata": {},
   "outputs": [],
   "source": []
  }
 ],
 "metadata": {
  "kernelspec": {
   "display_name": "R",
   "language": "R",
   "name": "ir"
  },
  "language_info": {
   "codemirror_mode": "r",
   "file_extension": ".r",
   "mimetype": "text/x-r-source",
   "name": "R",
   "pygments_lexer": "r",
   "version": "4.5.0"
  },
  "toc": {
   "base_numbering": 1,
   "nav_menu": {},
   "number_sections": true,
   "sideBar": true,
   "skip_h1_title": false,
   "title_cell": "Table of Contents",
   "title_sidebar": "Contents",
   "toc_cell": false,
   "toc_position": {},
   "toc_section_display": true,
   "toc_window_display": true
  }
 },
 "nbformat": 4,
 "nbformat_minor": 5
}
