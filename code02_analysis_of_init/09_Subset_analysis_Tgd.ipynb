{
 "cells": [
  {
   "cell_type": "markdown",
   "id": "3ea5aecd",
   "metadata": {},
   "source": [
    "# Part 9: Analysis of Unconventional T cells"
   ]
  },
  {
   "cell_type": "markdown",
   "id": "aa7dbc8d",
   "metadata": {},
   "source": [
    "In this document, we focus on Tgd and unconventional cell cluster subsetted from the main CD8 dataset. To recapitulate the analysis, please download the Tgd Seurat object available at Zenodo: [https://doi.org/10.5281/zenodo.14222418](https://doi.org/10.5281/zenodo.14222418)"
   ]
  },
  {
   "cell_type": "code",
   "execution_count": null,
   "id": "f741a879",
   "metadata": {
    "scrolled": true
   },
   "outputs": [],
   "source": [
    ".libPaths(\"~/R/x86_64-pc-linux-gnu-library/4.4/\")\n",
    "library(GEOquery)\n",
    "source(\"diabetes_analysis_v07.R\")"
   ]
  },
  {
   "cell_type": "markdown",
   "id": "2f7d1873",
   "metadata": {},
   "source": [
    "## Load data"
   ]
  },
  {
   "cell_type": "code",
   "execution_count": null,
   "id": "a8876f1c",
   "metadata": {},
   "outputs": [],
   "source": [
    "## CD8 All\n",
    "cd8_l1_full_filt  <- readRDS(\"../../240218_VN_Diabetes_V05/data/processed/L1/cd8_l1_full_filt.rds\")"
   ]
  },
  {
   "cell_type": "code",
   "execution_count": null,
   "id": "ebd42d11",
   "metadata": {},
   "outputs": [],
   "source": [
    "cd8_l1_full_filt"
   ]
  },
  {
   "cell_type": "code",
   "execution_count": null,
   "id": "ec803f5c",
   "metadata": {},
   "outputs": [],
   "source": [
    "## CD8 Tgd\n",
    "gd  <- readRDS(\"../../240218_VN_Diabetes_V05/data/processed/L2/cd8_l2_unc.rds\")"
   ]
  },
  {
   "cell_type": "markdown",
   "id": "c7bbc92b",
   "metadata": {},
   "source": [
    "# Tr3-56 published data"
   ]
  },
  {
   "cell_type": "markdown",
   "id": "883484b1",
   "metadata": {},
   "source": [
    "We download the published bulk RNAseq dataset characterizing TR3-56 cells from [Terrazzano et al., 2020](https://www.nature.com/articles/s42255-020-0173-1)"
   ]
  },
  {
   "cell_type": "code",
   "execution_count": null,
   "id": "1881f081",
   "metadata": {},
   "outputs": [],
   "source": [
    "gset <- GEOquery::getGEO('GSE106082')"
   ]
  },
  {
   "cell_type": "code",
   "execution_count": null,
   "id": "e391703f",
   "metadata": {},
   "outputs": [],
   "source": [
    "gset <- readRDS(\"../data//geo//tr356.rds\")"
   ]
  },
  {
   "cell_type": "code",
   "execution_count": null,
   "id": "f08ebe8c",
   "metadata": {},
   "outputs": [],
   "source": [
    "metadata <- data.frame(geo_id = gset$GSE106082_series_matrix.txt.gz$geo_accession,\n",
    "                       cell_type = gset$GSE106082_series_matrix.txt.gz$`characteristics_ch1.1`\n",
    "                       )"
   ]
  },
  {
   "cell_type": "markdown",
   "id": "c3d70fc2",
   "metadata": {},
   "source": [
    "We will load the matrix and use it together with the metadata to identify potential Tr3-56 cells by SingleR. "
   ]
  },
  {
   "cell_type": "code",
   "execution_count": null,
   "id": "6538d163",
   "metadata": {},
   "outputs": [],
   "source": [
    "mtx_tr356  <- read_csv(\"../../240218_VN_Diabetes_V05/data/published_data/Terrazzano_2020/tr356_df_sum.csv\")"
   ]
  },
  {
   "cell_type": "code",
   "execution_count": null,
   "id": "ea5424de",
   "metadata": {},
   "outputs": [],
   "source": [
    "mtx_tr356$`...1`  <- NULL"
   ]
  },
  {
   "cell_type": "code",
   "execution_count": null,
   "id": "20959dfa",
   "metadata": {},
   "outputs": [],
   "source": [
    "mtx_tr356  <- mtx_tr356  %>% column_to_rownames(\"SYMBOL\")"
   ]
  },
  {
   "cell_type": "code",
   "execution_count": null,
   "id": "214f7a39",
   "metadata": {
    "scrolled": true
   },
   "outputs": [],
   "source": [
    "mtx_tr356"
   ]
  },
  {
   "cell_type": "markdown",
   "id": "64ca003f",
   "metadata": {},
   "source": [
    "## Annotation of Tr3-56 cells"
   ]
  },
  {
   "cell_type": "code",
   "execution_count": null,
   "id": "db029c16",
   "metadata": {},
   "outputs": [],
   "source": [
    "library(SingleR)"
   ]
  },
  {
   "cell_type": "code",
   "execution_count": null,
   "id": "2cc668f2",
   "metadata": {},
   "outputs": [],
   "source": [
    "pred <- SingleR(test = cd8_l1_full_filt@assays$RNA@counts, \n",
    "                ref=mtx_tr356, labels=metadata$cell_type, de.method=\"wilcox\",fine.tune = F,num.threads = 4)"
   ]
  },
  {
   "cell_type": "code",
   "execution_count": null,
   "id": "ad0465c8",
   "metadata": {
    "scrolled": true
   },
   "outputs": [],
   "source": [
    "mtx_tr356"
   ]
  },
  {
   "cell_type": "code",
   "execution_count": null,
   "id": "9288ad1d",
   "metadata": {},
   "outputs": [],
   "source": [
    "mtx_tr356  <- mtx_tr356  %>% mutate_all(.funs = as.numeric)"
   ]
  },
  {
   "cell_type": "code",
   "execution_count": null,
   "id": "df8ebb86",
   "metadata": {
    "scrolled": true
   },
   "outputs": [],
   "source": [
    "mtx_tr356"
   ]
  },
  {
   "cell_type": "code",
   "execution_count": null,
   "id": "6790e647",
   "metadata": {},
   "outputs": [],
   "source": [
    "metadata$cell_type"
   ]
  },
  {
   "cell_type": "markdown",
   "id": "f4a70c69",
   "metadata": {},
   "source": [
    "Create a reference without  CD3+CD56- population as this is too broad for our purpose and overlaps with CD8+ population. "
   ]
  },
  {
   "cell_type": "code",
   "execution_count": null,
   "id": "55691868",
   "metadata": {},
   "outputs": [],
   "source": [
    "ref_tr3_56 <- list(matrix = mtx_tr356[,c(1:6,10:12)], \n",
    "                       labels = metadata$cell_type[c(1:6,10:12)])\n"
   ]
  },
  {
   "cell_type": "code",
   "execution_count": null,
   "id": "7f537736",
   "metadata": {
    "scrolled": true
   },
   "outputs": [],
   "source": [
    "mtx_tr356"
   ]
  },
  {
   "cell_type": "code",
   "execution_count": null,
   "id": "3415c294",
   "metadata": {},
   "outputs": [],
   "source": [
    "ref_tr3_56$labels"
   ]
  },
  {
   "cell_type": "code",
   "execution_count": null,
   "id": "ae9d8593",
   "metadata": {},
   "outputs": [],
   "source": [
    "ref_tr3_56$matrix  <- as.matrix(ref_tr3_56$matrix)"
   ]
  },
  {
   "cell_type": "code",
   "execution_count": null,
   "id": "d3096e1c",
   "metadata": {
    "scrolled": true
   },
   "outputs": [],
   "source": [
    "pred <- SingleR(test = cd8_l1_full_filt@assays$RNA@counts, \n",
    "                ref=ref_tr3_56$matrix, labels=ref_tr3_56$labels, \n",
    "                fine.tune = T,num.threads = 4\n",
    "       )"
   ]
  },
  {
   "cell_type": "markdown",
   "id": "e0372231",
   "metadata": {},
   "source": [
    "Add labels to the Seurat object. "
   ]
  },
  {
   "cell_type": "code",
   "execution_count": null,
   "id": "a37e7b9d",
   "metadata": {},
   "outputs": [],
   "source": [
    "cd8_l1_full_filt$singler  <- pred$labels"
   ]
  },
  {
   "cell_type": "code",
   "execution_count": null,
   "id": "e501fd32",
   "metadata": {
    "scrolled": true
   },
   "outputs": [],
   "source": [
    "library(Seurat)"
   ]
  },
  {
   "cell_type": "code",
   "execution_count": null,
   "id": "2f85afe2",
   "metadata": {},
   "outputs": [],
   "source": [
    "options(repr.plot.width = 8, repr.plot.height = 4.5)\n",
    "DimPlot(cd8_l1_full_filt, group.by = \"annotations_l2\")"
   ]
  },
  {
   "cell_type": "code",
   "execution_count": null,
   "id": "9ca3190a",
   "metadata": {},
   "outputs": [],
   "source": [
    "options(repr.plot.width = 6, repr.plot.height = 4.5)\n",
    "DimPlot(cd8_l1_full_filt, group.by = \"singler\", shuffle = T, cols = c(\"darkseagreen1\",\"skyblue1\",\"red\"))"
   ]
  },
  {
   "cell_type": "code",
   "execution_count": null,
   "id": "b51e16f0",
   "metadata": {
    "scrolled": true
   },
   "outputs": [],
   "source": [
    "pred$scores"
   ]
  },
  {
   "cell_type": "markdown",
   "id": "780b7a3d",
   "metadata": {},
   "source": [
    "## Quantification of Tr3-56 score in cell types"
   ]
  },
  {
   "cell_type": "code",
   "execution_count": null,
   "id": "b37e78aa",
   "metadata": {},
   "outputs": [],
   "source": [
    "test  <- data.frame(annotation = cd8_l1_full_filt$annotations_l2,\n",
    "                    pred = cd8_l1_full_filt$singler)"
   ]
  },
  {
   "cell_type": "code",
   "execution_count": null,
   "id": "3f28dc11",
   "metadata": {},
   "outputs": [],
   "source": [
    "df2 <- test %>% group_by(annotation, pred) %>% \n",
    "  summarise(n = n()) %>%\n",
    "  mutate(freq = n / sum(n))"
   ]
  },
  {
   "cell_type": "code",
   "execution_count": null,
   "id": "33f2614b",
   "metadata": {
    "scrolled": true
   },
   "outputs": [],
   "source": [
    "df2"
   ]
  },
  {
   "cell_type": "code",
   "execution_count": null,
   "id": "48c4e04c",
   "metadata": {},
   "outputs": [],
   "source": [
    "ggtheme <- function() {\n",
    "  theme(\n",
    "    axis.text = element_text(size = 20),\n",
    "    axis.title = element_text(size = 20),\n",
    "    text = element_text(size = 20, colour = \"black\"),\n",
    "    legend.text = element_text(size = 20),\n",
    "    legend.key.size =  unit(10, units = \"points\")\n",
    "    \n",
    "  )\n",
    "}\n"
   ]
  },
  {
   "cell_type": "code",
   "execution_count": null,
   "id": "eb1e3b95",
   "metadata": {
    "scrolled": true
   },
   "outputs": [],
   "source": [
    "options(repr.plot.width = 16, repr.plot.height = 4.5)\n",
    "ggplot(test) +\n",
    "  aes(x = annotation, fill = factor(pred)) +\n",
    "  geom_bar(position = \"fill\") + \n",
    "theme_classic() + \n",
    "ggtheme() +\n",
    "coord_flip() + \n",
    "scale_fill_manual(values = c(\"#d6ebd2ff\", \"lightskyblue1\", \"red2\"))\n",
    "#scale_fill_manual(values = c(\"grey\",\"#74bc68ff\", \"dodgerblue3\", \"red2\"))"
   ]
  },
  {
   "cell_type": "code",
   "execution_count": null,
   "id": "7762d4f8",
   "metadata": {
    "scrolled": true
   },
   "outputs": [],
   "source": [
    "pred$scores"
   ]
  },
  {
   "cell_type": "code",
   "execution_count": null,
   "id": "3212e32d",
   "metadata": {},
   "outputs": [],
   "source": [
    "cd8_l1_full_filt$score_tr356  <- pred$scores[,3]"
   ]
  },
  {
   "cell_type": "markdown",
   "id": "42f58522",
   "metadata": {},
   "source": [
    "We can see that the highest Tr3-56 score is found in Tgd cells and MAIT cells. "
   ]
  },
  {
   "cell_type": "code",
   "execution_count": null,
   "id": "e9ee97fb",
   "metadata": {},
   "outputs": [],
   "source": [
    "options(repr.plot.width = 14, repr.plot.height = 6)\n",
    "VlnPlot(cd8_l1_full_filt, features = \"score_tr356\", group.by = \"annotations_l2\", pt.size = 0)"
   ]
  },
  {
   "cell_type": "code",
   "execution_count": null,
   "id": "810252cb",
   "metadata": {},
   "outputs": [],
   "source": [
    "options(repr.plot.width = 14, repr.plot.height = 6)\n",
    "data.frame(Score = cd8_l1_full_filt$score_tr356,\n",
    "                  Annotation = gsub(cd8_l1_full_filt$annotations_l2, pattern = \"---\", replacement = \"\\n\"))  %>% \n",
    "mutate(Annotation = gsub(Annotation, pattern = \"CD8 T cells\", replacement = \"\"))  %>% \n",
    "mutate(Annotation = gsub(Annotation, pattern = \"CD8 Unconventional T cells\", replacement = \"\"))  %>% \n",
    "mutate(Annotation = gsub(Annotation, pattern = \"CD8 NK cells\", replacement = \"\"))  %>% \n",
    "ggplot(aes(x = fct_reorder(Annotation, Score), y = Score)) +\n",
    "  geom_violin() + \n",
    "  stat_summary(fun = \"mean\",\n",
    "               geom = \"crossbar\", \n",
    "               width = 0.5,\n",
    "               colour = \"red\") + ggtitle(\"TR3-56 score\") + theme_classic() + ggtheme() + xlab(\"\")"
   ]
  },
  {
   "cell_type": "markdown",
   "id": "283674b9",
   "metadata": {},
   "source": [
    "Group nonNaive cells together. "
   ]
  },
  {
   "cell_type": "code",
   "execution_count": null,
   "id": "ea8a40bd",
   "metadata": {},
   "outputs": [],
   "source": [
    "data.frame(Score = cd8_l1_full_filt$score_tr356,\n",
    "                  Annotation = gsub(cd8_l1_full_filt$annotations_l2, pattern = \"---\", replacement = \"\"))  %>% \n",
    "mutate(Annotation = gsub(Annotation, pattern = \"CD8 T cells\", replacement = \"\"))  %>% \n",
    "mutate(Annotation = gsub(Annotation, pattern = \"CD8 Unconventional T cells\", replacement = \"\"))  %>% \n",
    "mutate(Annotation = gsub(Annotation, pattern = \"CD8 NK cells\", replacement = \"\"))  %>% \n",
    "mutate(annot2 = case_when(Annotation %in% c(\"Tem\",\"Tcm\",\"Temra\",\"Proliferating\") ~ \"NonNaive\", \n",
    "                          TRUE ~ Annotation))  %>% \n",
    "ggplot(aes(x = fct_reorder(annot2, Score), y = Score)) +\n",
    "  geom_violin() + \n",
    "  stat_summary(fun = \"mean\",\n",
    "               geom = \"crossbar\", \n",
    "               width = 0.5,\n",
    "               colour = \"red\") + ggtitle(\"TR3-56 score\") + theme_classic() + ggtheme() + xlab(\"\")\n",
    "# ggsave(\"../figures/cd356_score.svg\", width = 4, height = 3.5)"
   ]
  },
  {
   "cell_type": "code",
   "execution_count": null,
   "id": "2083e281",
   "metadata": {},
   "outputs": [],
   "source": [
    "options(repr.plot.width = 5, repr.plot.height = 4.5)\n",
    "\n",
    "FeaturePlot(cd8_l1_full_filt, features = \"score_tr356\", min.cutoff = 0.2, max.cutoff = 0.32)"
   ]
  },
  {
   "cell_type": "code",
   "execution_count": null,
   "id": "b6cf30e4",
   "metadata": {},
   "outputs": [],
   "source": [
    "FeaturePlot(cd8_l1_full_filt, features = \"NCAM1\", min.cutoff = 0.2)"
   ]
  },
  {
   "cell_type": "markdown",
   "id": "daa870f0",
   "metadata": {},
   "source": [
    "### Score per patient"
   ]
  },
  {
   "cell_type": "code",
   "execution_count": null,
   "id": "d6f92ef2",
   "metadata": {},
   "outputs": [],
   "source": [
    "options(repr.plot.width = 6, repr.plot.height = 8)\n",
    "\n",
    "data.frame(Score = cd8_l1_full_filt$score_tr356,\n",
    "                  Annotation = gsub(cd8_l1_full_filt$annotations_l2, pattern = \"---\", replacement = \"\"),\n",
    "          Patient_ID = cd8_l1_full_filt$Patient_ID,\n",
    "          Patient_Time = cd8_l1_full_filt$Patient_Time,\n",
    "          Disease = cd8_l1_full_filt$Disease,\n",
    "           Condition = cd8_l1_full_filt$Condition\n",
    "          )  %>% \n",
    "mutate(Annotation = gsub(Annotation, pattern = \"CD8 T cells\", replacement = \"\"))  %>% \n",
    "mutate(Annotation = gsub(Annotation, pattern = \"CD8 Unconventional T cells\", replacement = \"\"))  %>% \n",
    "mutate(Annotation = gsub(Annotation, pattern = \"CD8 NK cells\", replacement = \"\"))  %>% \n",
    "mutate(annot2 = case_when(Annotation %in% c(\"Tem\",\"Tcm\",\"Temra\",\"Proliferating\") ~ \"NonNaive\", \n",
    "                          TRUE ~ Annotation))  %>% \n",
    "ggplot(aes(x = Condition, y = Score)) +\n",
    "  geom_violin() + \n",
    "stat_compare_means(comparisons = list(c(1,2),c(2,3),c(1,3))) +\n",
    "  stat_summary(fun = \"mean\",\n",
    "               geom = \"crossbar\", \n",
    "               width = 0.5,\n",
    "               colour = \"red\") + ggtitle(\"TR3-56 score\") + theme_classic() + ggtheme() + xlab(\"\")"
   ]
  },
  {
   "cell_type": "code",
   "execution_count": null,
   "id": "5d548f39",
   "metadata": {},
   "outputs": [],
   "source": [
    "\n",
    "data.frame(Score = cd8_l1_full_filt$score_tr356,\n",
    "                  Annotation = gsub(cd8_l1_full_filt$annotations_l2, pattern = \"---\", replacement = \"\"),\n",
    "          Patient_ID = cd8_l1_full_filt$Patient_ID,\n",
    "          Patient_Time = cd8_l1_full_filt$Patient_Time,\n",
    "          Disease = cd8_l1_full_filt$Disease, \n",
    "           Condition = cd8_l1_full_filt$Condition\n",
    "          )  %>% \n",
    "mutate(Annotation = gsub(Annotation, pattern = \"CD8 T cells\", replacement = \"\"))  %>% \n",
    "mutate(Annotation = gsub(Annotation, pattern = \"CD8 Unconventional T cells\", replacement = \"\"))  %>% \n",
    "mutate(Annotation = gsub(Annotation, pattern = \"CD8 NK cells\", replacement = \"\"))  %>% \n",
    "mutate(annot2 = case_when(Annotation %in% c(\"Tem\",\"Tcm\",\"Temra\",\"Proliferating\") ~ \"NonNaive\", \n",
    "                          TRUE ~ Annotation))  %>% \n",
    "group_by(Condition, Patient_Time)  %>% \n",
    "summarize(Score = mean(Score))  %>% \n",
    "ggplot(aes(x = Condition, y = Score)) +\n",
    "  geom_violin() + \n",
    "geom_point()+\n",
    "stat_compare_means(comparisons = list(c(1,2),c(2,3))) +\n",
    "  stat_summary(fun = \"mean\",\n",
    "               geom = \"crossbar\", \n",
    "               width = 0.5,\n",
    "               colour = \"red\") + ggtitle(\"TR3-56 score All CD8 cells\") + theme_classic() + ggtheme() + xlab(\"\")"
   ]
  },
  {
   "cell_type": "code",
   "execution_count": null,
   "id": "ce2df877",
   "metadata": {
    "scrolled": true
   },
   "outputs": [],
   "source": [
    "options(repr.plot.width = 6, repr.plot.height = 6)\n",
    "\n",
    "data.frame(Score = cd8_l1_full_filt$score_tr356,\n",
    "                  Annotation = gsub(cd8_l1_full_filt$annotations_l2, pattern = \"---\", replacement = \"\"),\n",
    "          Patient_ID = cd8_l1_full_filt$Patient_ID,\n",
    "          Patient_Time = cd8_l1_full_filt$Patient_Time,\n",
    "          Disease = cd8_l1_full_filt$Disease, \n",
    "           Condition = cd8_l1_full_filt$Condition\n",
    "          )  %>% \n",
    "dplyr::filter(Patient_ID != 116)  %>% \n",
    "mutate(Annotation = gsub(Annotation, pattern = \"CD8 T cells\", replacement = \"\"))  %>% \n",
    "mutate(Annotation = gsub(Annotation, pattern = \"CD8 Unconventional T cells\", replacement = \"\"))  %>% \n",
    "mutate(Annotation = gsub(Annotation, pattern = \"CD8 NK cells\", replacement = \"\"))  %>% \n",
    "mutate(annot2 = case_when(Annotation %in% c(\"Tem\",\"Tcm\",\"Temra\",\"Proliferating\") ~ \"NonNaive\", \n",
    "                          TRUE ~ Annotation))  %>% \n",
    "group_by(Condition, Patient_Time)  %>% \n",
    "summarize(Score = mean(Score))  %>% \n",
    "ggplot(aes(x = Condition, y = Score)) +\n",
    "   geom_violin(alpha = 0.3, aes(fill = Condition)) +\n",
    "  stat_summary(fun = \"median\",\n",
    "               geom = \"crossbar\", \n",
    "               width = 0.75,\n",
    "               color = \"grey30\") +\n",
    "   scale_fill_manual(values = c(\"#1874cdff\",  \"#ee6363ff\", \"#c41515ff\",\"#eeb4b4ff\")) +\n",
    "scale_color_manual(values = c(\"dodgerblue3\",  \"#e54c4cff\", \"#aa2a2aff\",\"#e88989ff\")) +\n",
    "geom_beeswarm(size = 3, cex = 3, \n",
    "              color = \"black\", method = \"center\",\n",
    "             aes(fill = Condition), shape = 21) +\n",
    "stat_compare_means(comparisons = list(c(2,3)), paired = T) +\n",
    "   ggtitle(\"TR3-56 score All CD8 cells\") + theme_classic() + ggtheme() + xlab(\"\")"
   ]
  },
  {
   "cell_type": "code",
   "execution_count": null,
   "id": "8bf6e2dd",
   "metadata": {},
   "outputs": [],
   "source": [
    "ggsave(\"../figures/subset_characterization/tr3_56_score_in_condition.svg\",\n",
    "       width = 10, height = 9.5, units = \"cm\")"
   ]
  },
  {
   "cell_type": "code",
   "execution_count": null,
   "id": "cfaa826e",
   "metadata": {},
   "outputs": [],
   "source": [
    "options(repr.plot.width = 6, repr.plot.height = 6)\n",
    "\n",
    "data.frame(Score = cd8_l1_full_filt$score_tr356,\n",
    "                  Annotation = gsub(cd8_l1_full_filt$annotations_l2, pattern = \"---\", replacement = \"\"),\n",
    "          Patient_ID = cd8_l1_full_filt$Patient_ID,\n",
    "          Patient_Time = cd8_l1_full_filt$Patient_Time,\n",
    "          Disease = cd8_l1_full_filt$Disease, \n",
    "           Condition = cd8_l1_full_filt$Condition\n",
    "          )  %>% \n",
    "dplyr::filter(Patient_ID != 116)  %>% \n",
    "mutate(Annotation = gsub(Annotation, pattern = \"CD8 T cells\", replacement = \"\"))  %>% \n",
    "mutate(Annotation = gsub(Annotation, pattern = \"CD8 Unconventional T cells\", replacement = \"\"))  %>% \n",
    "mutate(Annotation = gsub(Annotation, pattern = \"CD8 NK cells\", replacement = \"\"))  %>% \n",
    "mutate(annot2 = case_when(Annotation %in% c(\"Tem\",\"Tcm\",\"Temra\",\"Proliferating\") ~ \"NonNaive\", \n",
    "                          TRUE ~ Annotation))  %>% \n",
    "group_by(Condition, Patient_Time)  %>% \n",
    "summarize(Score = mean(Score))  %>% \n",
    "ggplot(aes(x = Condition, y = Score)) +\n",
    "   geom_violin(alpha = 0.3, aes(fill = Condition)) +\n",
    "  stat_summary(fun = \"median\",\n",
    "               geom = \"crossbar\", \n",
    "               width = 0.75,\n",
    "               color = \"grey30\") +\n",
    "   scale_fill_manual(values = c(\"#1874cdff\",  \"#ee6363ff\", \"#c41515ff\",\"#eeb4b4ff\")) +\n",
    "scale_color_manual(values = c(\"dodgerblue3\",  \"#e54c4cff\", \"#aa2a2aff\",\"#e88989ff\")) +\n",
    "geom_beeswarm(size = 3, cex = 3, \n",
    "              color = \"black\", method = \"center\",\n",
    "             aes(fill = Condition), shape = 21) +\n",
    "stat_compare_means(comparisons = list(c(2,3)), paired = T) +\n",
    "   ggtitle(\"TR3-56 score All CD8 cells\") + theme_classic() + ggtheme() + xlab(\"\")"
   ]
  },
  {
   "cell_type": "code",
   "execution_count": null,
   "id": "51159a0b",
   "metadata": {},
   "outputs": [],
   "source": []
  },
  {
   "cell_type": "code",
   "execution_count": null,
   "id": "08ea455d",
   "metadata": {},
   "outputs": [],
   "source": [
    "data.frame(Score = cd8_l1_full_filt$score_tr356,\n",
    "                  Annotation = gsub(cd8_l1_full_filt$annotations_l2, pattern = \"---\", replacement = \"\"),\n",
    "          Patient_ID = cd8_l1_full_filt$Patient_ID,\n",
    "          Patient_Time = cd8_l1_full_filt$Patient_Time,\n",
    "          Disease = cd8_l1_full_filt$Disease, \n",
    "           Condition = cd8_l1_full_filt$Condition\n",
    "          )  %>% \n",
    "mutate(Annotation = gsub(Annotation, pattern = \"CD8 T cells\", replacement = \"\"))  %>% \n",
    "mutate(Annotation = gsub(Annotation, pattern = \"CD8 Unconventional T cells\", replacement = \"\"))  %>% \n",
    "mutate(Annotation = gsub(Annotation, pattern = \"CD8 NK cells\", replacement = \"\"))  %>% \n",
    "mutate(annot2 = case_when(Annotation %in% c(\"Tem\",\"Tcm\",\"Temra\",\"Proliferating\") ~ \"NonNaive\", \n",
    "                          TRUE ~ Annotation))  %>% \n",
    "group_by(Condition, Patient_Time)  %>% \n",
    "summarize(Score = mean(Score))  %>% \n",
    "ggplot(aes(x = Condition, y = Score)) +\n",
    "  geom_violin() + \n",
    "geom_point()+\n",
    "stat_compare_means(comparisons = list(c(1,2),c(2,3))) +\n",
    "  stat_summary(fun = \"mean\",\n",
    "               geom = \"crossbar\", \n",
    "               width = 0.5,\n",
    "               colour = \"red\") + ggtitle(\"TR3-56 score All CD8 cells\") + theme_classic() + ggtheme() + xlab(\"\")"
   ]
  },
  {
   "cell_type": "code",
   "execution_count": null,
   "id": "46b1ebc6",
   "metadata": {},
   "outputs": [],
   "source": [
    "data.frame(Score = cd8_l1_full_filt$score_tr356,\n",
    "                  Annotation = gsub(cd8_l1_full_filt$annotations_l2, pattern = \"---\", replacement = \"\"))  %>% \n",
    "mutate(Annotation = gsub(Annotation, pattern = \"CD8 T cells\", replacement = \"\"))  %>% \n",
    "mutate(Annotation = gsub(Annotation, pattern = \"CD8 Unconventional T cells\", replacement = \"\"))  %>% \n",
    "mutate(Annotation = gsub(Annotation, pattern = \"CD8 NK cells\", replacement = \"\"))  %>% \n",
    "mutate(annot2 = case_when(Annotation %in% c(\"Tem\",\"Tcm\",\"Temra\",\"Proliferating\") ~ \"NonNaive\", \n",
    "                          TRUE ~ Annotation))  %>% \n",
    "ggplot(aes(x = fct_reorder(annot2, Score), y = Score)) +\n",
    "  geom_violin() + \n",
    "  stat_summary(fun = \"mean\",\n",
    "               geom = \"crossbar\", \n",
    "               width = 0.5,\n",
    "               colour = \"red\") + ggtitle(\"TR3-56 score\") + theme_classic() + ggtheme() + xlab(\"\")\n",
    "ggsave(\"../figures/cd356_score.svg\", width = 4, height = 3.5)"
   ]
  },
  {
   "cell_type": "code",
   "execution_count": null,
   "id": "8e634910",
   "metadata": {},
   "outputs": [],
   "source": []
  },
  {
   "cell_type": "markdown",
   "id": "86d4812f",
   "metadata": {},
   "source": [
    "## Phenotype and DEG of Tr3-56 cells"
   ]
  },
  {
   "cell_type": "markdown",
   "id": "bb5706ed",
   "metadata": {},
   "source": [
    "Next, we will evaluate which cells are the most likely true TR3-56 cells. "
   ]
  },
  {
   "cell_type": "code",
   "execution_count": null,
   "id": "542f4276",
   "metadata": {},
   "outputs": [],
   "source": [
    "cd8_l1_full_filt@meta.data  <- cd8_l1_full_filt@meta.data  %>% mutate(\n",
    "    Annotation = gsub(cd8_l1_full_filt$annotations_l2, pattern = \"---\", replacement = \"\"))  %>% \n",
    "mutate(Annotation = gsub(Annotation, pattern = \"CD8 T cells\", replacement = \"\"))  %>% \n",
    "mutate(Annotation = gsub(Annotation, pattern = \"CD8 Unconventional T cells\", replacement = \"\"))  %>% \n",
    "mutate(Annotation = gsub(Annotation, pattern = \"CD8 NK cells\", replacement = \"\"))  %>% \n",
    "mutate(annot2 = case_when(Annotation %in% c(\"Tem\",\"Tcm\",\"Temra\",\"Proliferating\") ~ \"NonNaive\", \n",
    "                          TRUE ~ Annotation))"
   ]
  },
  {
   "cell_type": "code",
   "execution_count": null,
   "id": "3af03f7c",
   "metadata": {},
   "outputs": [],
   "source": [
    "test  <- data.frame(annot2 = cd8_l1_full_filt$annot2,\n",
    "                    annotation = cd8_l1_full_filt$annotations_manual,\n",
    "                    pred = cd8_l1_full_filt$singler, \n",
    "                    score = cd8_l1_full_filt$score_tr356)"
   ]
  },
  {
   "cell_type": "code",
   "execution_count": null,
   "id": "6513d308",
   "metadata": {},
   "outputs": [],
   "source": [
    "options(repr.plot.width = 7, repr.plot.height = 10)\n",
    "test  %>% \n",
    "dplyr::filter(pred == \"cell subset: TR3-56\") %>% \n",
    "ggplot(aes(x = fct_reorder(annotation, score), y = score)) +\n",
    "  geom_violin() + \n",
    "geom_jitter(alpha = 0.2) +\n",
    "  stat_summary(fun = \"mean\",\n",
    "               geom = \"crossbar\", \n",
    "               width = 0.5,\n",
    "               colour = \"red\") + ggtitle(\"TR3-56 score\") + theme_classic() + ggtheme() + xlab(\"\") +\n",
    "theme(axis.text.x = element_text(angle = 90))"
   ]
  },
  {
   "cell_type": "code",
   "execution_count": null,
   "id": "57b630e3",
   "metadata": {},
   "outputs": [],
   "source": [
    "options(repr.plot.width = 4, repr.plot.height = 6)\n",
    "test  %>% \n",
    "dplyr::filter(pred == \"cell subset: TR3-56\") %>% \n",
    "ggplot(aes(x = fct_reorder(annot2, score), y = score)) +\n",
    "  geom_violin() + \n",
    "geom_jitter(alpha = 0.2) +\n",
    "  stat_summary(fun = \"mean\",\n",
    "               geom = \"crossbar\", \n",
    "               width = 0.5,\n",
    "               colour = \"red\") + ggtitle(\"TR3-56 score\") + theme_classic() + ggtheme() + xlab(\"\") +\n",
    "theme(axis.text.x = element_text(angle = 90))"
   ]
  },
  {
   "cell_type": "code",
   "execution_count": null,
   "id": "3081fc28",
   "metadata": {},
   "outputs": [],
   "source": [
    "options(repr.plot.width = 4, repr.plot.height = 6)\n",
    "test  %>% \n",
    "dplyr::filter(pred == \"cell subset: TR3-56\") %>% \n",
    "ggplot(aes(x = fct_reorder(annot2, score), y = score)) +\n",
    "  geom_violin() + \n",
    "#geom_jitter(alpha = 0.2) +\n",
    "  stat_summary(fun = \"mean\",\n",
    "               geom = \"crossbar\", \n",
    "               width = 0.5,\n",
    "               colour = \"red\") + ggtitle(\"TR3-56 score\") + theme_classic() + ggtheme() + xlab(\"\") +\n",
    "theme(axis.text.x = element_text(angle = 90))"
   ]
  },
  {
   "cell_type": "code",
   "execution_count": null,
   "id": "223a2559",
   "metadata": {},
   "outputs": [],
   "source": [
    "ggsave(\"../figures/tr356_score_in_tr356.svg\", width = 8, height = 12, units = \"cm\")"
   ]
  },
  {
   "cell_type": "markdown",
   "id": "c5db995d",
   "metadata": {},
   "source": [
    "# Unique DEG of TR3-56 cells"
   ]
  },
  {
   "cell_type": "markdown",
   "id": "5d3dafdb",
   "metadata": {},
   "source": [
    "TR3-56 cells are found in multiple clusters, so let's figure out what makes their signature unique. "
   ]
  },
  {
   "cell_type": "code",
   "execution_count": null,
   "id": "ed6617b0",
   "metadata": {},
   "outputs": [],
   "source": [
    "cd8_l1_full_filt$annot_with_tr356  <- ifelse(cd8_l1_full_filt$singler == \"cell subset: TR3-56\", \"TR3-56\", \n",
    "                                             cd8_l1_full_filt$annot2)"
   ]
  },
  {
   "cell_type": "code",
   "execution_count": null,
   "id": "6d0715b7",
   "metadata": {},
   "outputs": [],
   "source": [
    "cd8_l1_full_filt$annot_with_tr356  %>% table"
   ]
  },
  {
   "cell_type": "markdown",
   "id": "5b30a92c",
   "metadata": {},
   "source": [
    "What defines TR3-56 cells?"
   ]
  },
  {
   "cell_type": "code",
   "execution_count": null,
   "id": "2f7b72e6",
   "metadata": {},
   "outputs": [],
   "source": [
    "DefaultAssay(cd8_l1_full_filt)  <- \"RNA\""
   ]
  },
  {
   "cell_type": "code",
   "execution_count": null,
   "id": "53676188",
   "metadata": {},
   "outputs": [],
   "source": [
    "Idents(cd8_l1_full_filt)  <- cd8_l1_full_filt$annot_with_tr356"
   ]
  },
  {
   "cell_type": "markdown",
   "id": "8ca43605",
   "metadata": {},
   "source": [
    "Find markers compared to all other cells. "
   ]
  },
  {
   "cell_type": "code",
   "execution_count": null,
   "id": "716fb91c",
   "metadata": {},
   "outputs": [],
   "source": [
    "mrk_tr356  <- FindMarkers(cd8_l1_full_filt, `ident.1` = \"TR3-56\")"
   ]
  },
  {
   "cell_type": "markdown",
   "id": "da9f5ad3",
   "metadata": {},
   "source": [
    "Find markers over other gd cells. "
   ]
  },
  {
   "cell_type": "code",
   "execution_count": null,
   "id": "b494aedf",
   "metadata": {},
   "outputs": [],
   "source": [
    "mrk_tr356_over_tgd  <- FindMarkers(cd8_l1_full_filt, `ident.1` = \"TR3-56\", `ident.2` = \"gd T cells\")"
   ]
  },
  {
   "cell_type": "code",
   "execution_count": null,
   "id": "340c2691",
   "metadata": {
    "scrolled": true
   },
   "outputs": [],
   "source": [
    "mrk_tr356_over_tgd"
   ]
  },
  {
   "cell_type": "markdown",
   "id": "89688a9a",
   "metadata": {},
   "source": [
    "Find markers over other MAIT cells. "
   ]
  },
  {
   "cell_type": "code",
   "execution_count": null,
   "id": "7f8dc549",
   "metadata": {},
   "outputs": [],
   "source": [
    "mrk_tr356_over_mait  <- FindMarkers(cd8_l1_full_filt, `ident.1` = \"TR3-56\", `ident.2` = \"MAIT cells\")"
   ]
  },
  {
   "cell_type": "code",
   "execution_count": null,
   "id": "116dc71e",
   "metadata": {
    "scrolled": true
   },
   "outputs": [],
   "source": [
    "mrk_tr356_over_mait"
   ]
  },
  {
   "cell_type": "markdown",
   "id": "a75f75f5",
   "metadata": {},
   "source": [
    "Find markers over other nonNaive cells. "
   ]
  },
  {
   "cell_type": "code",
   "execution_count": null,
   "id": "2b89c84c",
   "metadata": {},
   "outputs": [],
   "source": [
    "mrk_tr356_over_nonNaive  <- FindMarkers(cd8_l1_full_filt, `ident.1` = \"TR3-56\", `ident.2` = \"NonNaive\")"
   ]
  },
  {
   "cell_type": "markdown",
   "id": "45c3a529",
   "metadata": {},
   "source": [
    "Create intersection of these markers. "
   ]
  },
  {
   "cell_type": "code",
   "execution_count": null,
   "id": "c22a5473",
   "metadata": {},
   "outputs": [],
   "source": [
    "mrk_tr356_over_tgd_genes  <- rownames(mrk_tr356_over_tgd  %>% dplyr::filter(p_val_adj< 0.05 & avg_log2FC > 0))\n",
    "mrk_tr356_over_mait_genes  <- rownames(mrk_tr356_over_mait  %>% dplyr::filter(p_val_adj< 0.05 & avg_log2FC > 0))\n",
    "mrk_tr356_over_nonNaive_genes  <- rownames(mrk_tr356_over_nonNaive  %>% dplyr::filter(p_val_adj< 0.05 & avg_log2FC > 0))\n"
   ]
  },
  {
   "cell_type": "code",
   "execution_count": null,
   "id": "b535abfe",
   "metadata": {},
   "outputs": [],
   "source": [
    "mrk_tr356  <- intersect(mrk_tr356_over_tgd_genes[1:150], \n",
    "                        intersect(mrk_tr356_over_mait_genes[1:150],\n",
    "                                                                   mrk_tr356_over_nonNaive_genes[1:150]))"
   ]
  },
  {
   "cell_type": "code",
   "execution_count": null,
   "id": "f6c893ca",
   "metadata": {
    "scrolled": true
   },
   "outputs": [],
   "source": [
    "avgexp = AverageExpression(cd8_l1_full_filt, features = mrk_tr356,\n",
    "                           return.seurat = F, group.by = \"annot_with_tr356\", \n",
    "                          assay = \"RNA\")"
   ]
  },
  {
   "cell_type": "code",
   "execution_count": null,
   "id": "5d07df8f",
   "metadata": {},
   "outputs": [],
   "source": [
    "options(repr.plot.width = 9.5, repr.plot.height = 3.5)\n",
    "pheatmap::pheatmap(t(avgexp$RNA), main = \"\", \n",
    "         scale = \"column\", cluster_cols = T, cluster_rows = T,\n",
    "        color=colorRampPalette(c(\"dodgerblue\", \"grey95\", \"indianred2\"))(50), \n",
    "         border_color = \"white\",\n",
    "                  fontsize = 12)"
   ]
  },
  {
   "cell_type": "code",
   "execution_count": null,
   "id": "77314546",
   "metadata": {},
   "outputs": [],
   "source": [
    "mrk_tr356_all"
   ]
  },
  {
   "cell_type": "code",
   "execution_count": null,
   "id": "97353852",
   "metadata": {
    "scrolled": true
   },
   "outputs": [],
   "source": [
    "avgexp = AverageExpression(cd8_l1_full_filt, features = c(\"ID1\",\"ID2\",\"CD44\",\"NR4A2\",\"NR4A3\",\"RUNX3\",\"BHLHE40\",\n",
    "                                                         \"DUSP1\", \"DUSP2\", \"DUSP5\", \"DUSP8\",\"CCR6\",\"ITGB1\"),\n",
    "                           return.seurat = F, group.by = \"annot_with_tr356\", \n",
    "                          assay = \"RNA\")"
   ]
  },
  {
   "cell_type": "code",
   "execution_count": null,
   "id": "35e2bd9e",
   "metadata": {},
   "outputs": [],
   "source": [
    "mrk_tr356"
   ]
  },
  {
   "cell_type": "code",
   "execution_count": null,
   "id": "e692b880",
   "metadata": {},
   "outputs": [],
   "source": [
    "FeaturePlot(cd8_l1_full_filt, features = \"NR4A2\")"
   ]
  },
  {
   "cell_type": "code",
   "execution_count": null,
   "id": "73c5b2f2",
   "metadata": {},
   "outputs": [],
   "source": [
    "options(repr.plot.width = 4.5, repr.plot.height = 5)\n",
    "pheatmap::pheatmap(avgexp$RNA, main = \"\", \n",
    "         scale = \"row\", cluster_cols = T, cluster_rows = T,\n",
    "        color=colorRampPalette(c(\"dodgerblue\", \"grey95\", \"indianred2\"))(50), \n",
    "         border_color = \"white\",\n",
    "                  fontsize = 12)"
   ]
  },
  {
   "cell_type": "code",
   "execution_count": null,
   "id": "0c099eee",
   "metadata": {},
   "outputs": [],
   "source": [
    "options(repr.plot.width = 4.5, repr.plot.height = 5)\n",
    "pheatmap::pheatmap(avgexp$RNA, main = \"\", \n",
    "         scale = \"row\", cluster_cols = T, cluster_rows = T,\n",
    "        color=colorRampPalette(c(\"dodgerblue\", \"grey95\", \"indianred2\"))(50), \n",
    "         border_color = \"white\",\n",
    "                  fontsize = 12,\n",
    "                  filename = \"../figures/heatmaps/tr356_tgd_hm.pdf\", width = 4.5, height = 5)"
   ]
  },
  {
   "cell_type": "markdown",
   "id": "6d61083d",
   "metadata": {},
   "source": [
    "## DEG regulatory signature"
   ]
  },
  {
   "cell_type": "markdown",
   "id": "edeba5c6",
   "metadata": {},
   "source": [
    "Let's try to see if TR3-56 cells have higher Treg signature than other cell types. "
   ]
  },
  {
   "cell_type": "code",
   "execution_count": null,
   "id": "2bd584ae",
   "metadata": {},
   "outputs": [],
   "source": [
    "treg_gene_sig  <- c('S100A4', 'FOXP3', 'ITGB1', 'AHNAK', 'TIGIT', 'ANXA2', 'IL10RA', \n",
    "                    'TNFRSF1B', 'GBP5', 'LGALS1', 'RTKN2', 'CTLA4', 'S100A10', 'IL32', \n",
    "                    'FCRL3', 'IL2RA', 'CLIC1', 'KLF6', 'ANXA5', 'SYNE2', 'S100A11', \n",
    "                    'CD74', 'CRIP1', 'EZR', 'NIBAN1', 'FLNA', 'NCF4', 'PRDM1', 'LGALS3', \n",
    "                    'CAPN2', 'ARID5B', 'SH3BGRL3', 'CST7', 'ISG20', 'MYO1F', 'LMNA', \n",
    "                    'HLA-DRB5', 'TENT5C', 'GAPDH', 'MTHFD2', 'FANK1', 'HLA-DQA1', \n",
    "                    'IL2RB', 'IKZF2', 'SRGN', 'STAM', 'CLDND1', 'DUSP4', 'BIRC3', \n",
    "                    'SAT1', 'PBXIP1', 'HLA-DRB1', 'HLA-DPA1', 'TNFRSF4', 'SHMT2', \n",
    "                    'TAGLN2', 'PLP2', 'ACTN4', 'DUSP1', 'RORA', 'CD99', 'GLCCI1', \n",
    "                    'CARD16', 'PTTG1', 'TSPAN5', 'TAP1', 'OPTN', 'EIF3A', 'ELOVL5', \n",
    "                    'LSR', 'GSTK1', 'ZFP36', 'TIFA', 'BATF', 'EMP3', 'TSC22D3', 'OGDH', \n",
    "                    'HLA-DPB1', 'CCDC50', 'LIMS1', 'RAB11FIP1', 'TRAC', 'CD84', 'CAST', \n",
    "                    'PYHIN1', 'JPT1', 'MPST', 'SAMSN1', 'ZC2HC1A', 'PMAIP1', 'S100A6', \n",
    "                    'PI16', 'OAS1', 'PPP1R18', 'NCR3', 'CD58', 'DOK2', 'BCL2L11', \n",
    "                    'SMAD3', 'GBP2', 'SYT11', 'PPP2R5C', 'PPP1R15A', 'RGS1', 'RAB37', \n",
    "                    'REEP5', 'IKZF3', 'RNF214', 'IRF1', 'ANTKMT', 'PRDX1', 'IQGAP2', 'MT2A', \n",
    "                    'TNFRSF18', 'FAS', 'DUSP2', 'CCDC167', 'HLA-DRA', 'PELI1', 'JUNB', 'LGALS9', \n",
    "                    'ZBTB38', 'SPTAN1', 'SMS', 'PARP1', 'MCL1', 'DYNLL1', 'HERC5', 'CDC25B', \n",
    "                    'SLC9A3R1', 'MYO1G', 'TPR', 'JUN', 'ID3', 'TPI1', 'RILPL2', 'CCR6', \n",
    "                    'YWHAH', 'PTGER2', 'HNRNPLL', 'PREX1', 'PSMB9', 'MYH9', 'CORO1B', 'SLAMF1', \n",
    "                    'SIT1', 'NPDC1', 'PHACTR2', 'ST8SIA6', 'ATP2B4', 'IL18R1', 'TRIM22', 'HLA-DQB1', \n",
    "                    'F5', 'TBC1D4', 'MAF', 'ATP2B1', 'C4orf48', 'GALM', 'C12orf75', 'CPA5', \n",
    "                    'PPP1CA', 'S1PR4', 'PDE4DIP', 'GATA3', 'GLIPR2', 'CHST7', 'CXCR4', 'H1-4', \n",
    "                    'GADD45B', 'RESF1', 'IER2', 'ISG15', 'CDC42EP3', 'PCBD1', 'LYST', 'TPM4', \n",
    "                    'TAB2', 'NINJ2', 'ALOX5AP', 'CCR4', 'FCER1G', 'MAP3K1', 'CXCR3', 'CD59', \n",
    "                    'SLFN5', 'CCNG2', 'ITGA4', 'SESN1', 'SPATS2L', 'HPGD', 'EFHD2', 'LIMA1', \n",
    "                    'BCL2', 'RABGAP1L', 'TOX', 'SAMD9', 'TXN', 'IFI16', 'IDS', 'TRIB2', 'CDHR3', \n",
    "                    'PALM2AKAP2', 'ICA1', 'LPAR6', 'KLRB1', 'SMC6', 'ITM2C', 'CEACAM4', 'PRF1', \n",
    "                    'CD63', 'AHR', 'IQGAP1', 'GADD45A', 'ADAM8', 'GLIPR1', 'VAV3', 'EPSTI1', \n",
    "                    'GPRIN3', 'POU2F2', 'SH2D2A', 'DENND10', 'MAP4', 'CCR10', 'PTPN18', 'IER5', \n",
    "                    'GPR183', 'LAIR2', 'CTSC', 'TTN', 'NR4A2', 'SESN3', 'CPNE2', 'MX1')\n"
   ]
  },
  {
   "cell_type": "code",
   "execution_count": null,
   "id": "d780686a",
   "metadata": {},
   "outputs": [],
   "source": [
    "cd8_l1_full_filt  <- AddModuleScore(cd8_l1_full_filt, features = list(treg_gene_sig),\n",
    "                                   search = F,\n",
    "  ctrl = 50,\n",
    "  nbin = 50,\n",
    "  assay = \"RNA\",\n",
    "  name = 'treg_gene_sig')"
   ]
  },
  {
   "cell_type": "code",
   "execution_count": null,
   "id": "a78adc44",
   "metadata": {},
   "outputs": [],
   "source": [
    "FeaturePlot(cd8_l1_full_filt, features = \"treg_gene_sig1\")"
   ]
  },
  {
   "cell_type": "code",
   "execution_count": null,
   "id": "0f693b04",
   "metadata": {},
   "outputs": [],
   "source": [
    "VlnPlot(cd8_l1_full_filt, features = \"treg_gene_sig1\", group.by = \"annot_with_tr356\", pt.size = 0)"
   ]
  },
  {
   "cell_type": "code",
   "execution_count": null,
   "id": "2205ace8",
   "metadata": {},
   "outputs": [],
   "source": [
    "options(repr.plot.width = 9, repr.plot.height = 7)\n",
    "cd8_l1_full_filt@meta.data  %>% dplyr::select(treg_gene_sig1, annot_with_tr356)  %>% \n",
    "ggplot(aes(x = fct_reorder(annot_with_tr356, treg_gene_sig1), y = treg_gene_sig1)) +\n",
    "  geom_violin() + \n",
    "#geom_jitter(alpha = 0.2) +\n",
    "  stat_summary(fun = \"mean\",\n",
    "               geom = \"crossbar\", \n",
    "               width = 0.5,\n",
    "               colour = \"red\") + ggtitle(\"TR3-56 score\") + theme_classic() + ggtheme() + xlab(\"\") +\n",
    "theme(axis.text.x = element_text(angle = 90)) +\n",
    "ggpubr::stat_compare_means(comparisons = list(c(5,6),c(4,6)))"
   ]
  },
  {
   "cell_type": "code",
   "execution_count": null,
   "id": "2823f365",
   "metadata": {},
   "outputs": [],
   "source": [
    "ggsave(\"../figures/treg_score_in_tr356.svg\", width = 9, height = 12, units = \"cm\")"
   ]
  },
  {
   "cell_type": "markdown",
   "id": "4eae4544",
   "metadata": {},
   "source": [
    "### DEG parent clusters"
   ]
  },
  {
   "cell_type": "markdown",
   "id": "87225fd2",
   "metadata": {},
   "source": [
    "Now let's see what are the differences between TR3-56 cells within MAIT, gd and CD8+ clusters. "
   ]
  },
  {
   "cell_type": "code",
   "execution_count": null,
   "id": "735ad594",
   "metadata": {},
   "outputs": [],
   "source": [
    "tr356  <- subset(cd8_l1_full_filt, annot_with_tr356 == \"TR3-56\" )"
   ]
  },
  {
   "cell_type": "code",
   "execution_count": null,
   "id": "bbb3777b",
   "metadata": {},
   "outputs": [],
   "source": [
    "tr356  <- subset(tr356, annot2 != \"NK cells\" )"
   ]
  },
  {
   "cell_type": "code",
   "execution_count": null,
   "id": "288886b2",
   "metadata": {},
   "outputs": [],
   "source": [
    "Idents(tr356)  <- tr356$annot2"
   ]
  },
  {
   "cell_type": "code",
   "execution_count": null,
   "id": "cf4a833c",
   "metadata": {},
   "outputs": [],
   "source": [
    "tr356$annot2  %>% table"
   ]
  },
  {
   "cell_type": "code",
   "execution_count": null,
   "id": "a04fbd99",
   "metadata": {},
   "outputs": [],
   "source": [
    "tr356$annot2  <- ifelse(tr356$annot2 == \"NonNaive\", \"Conventional_CD8\",tr356$annot2)"
   ]
  },
  {
   "cell_type": "code",
   "execution_count": null,
   "id": "c814f99d",
   "metadata": {},
   "outputs": [],
   "source": [
    "Idents(tr356)  <- tr356$annot2"
   ]
  },
  {
   "cell_type": "code",
   "execution_count": null,
   "id": "eea7ccf4",
   "metadata": {},
   "outputs": [],
   "source": [
    "mrk_tr356_in_cluster  <- FindAllMarkers(tr356, only.pos = TRUE)"
   ]
  },
  {
   "cell_type": "code",
   "execution_count": null,
   "id": "959115a0",
   "metadata": {
    "scrolled": true
   },
   "outputs": [],
   "source": [
    "mrk_tr356_in_cluster"
   ]
  },
  {
   "cell_type": "code",
   "execution_count": null,
   "id": "96196417",
   "metadata": {
    "scrolled": true
   },
   "outputs": [],
   "source": [
    "mrk_tr356_in_cluster_genes  <- mrk_tr356_in_cluster  %>% group_by(cluster)  %>% \n",
    "dplyr::filter(p_val_adj < 0.05)  %>%  slice_head(n = 7)  %>% pull(gene)"
   ]
  },
  {
   "cell_type": "code",
   "execution_count": null,
   "id": "07d24af1",
   "metadata": {
    "scrolled": true
   },
   "outputs": [],
   "source": [
    "avgexp = AverageExpression(tr356, features = mrk_tr356_in_cluster_genes,\n",
    "                           return.seurat = F, group.by = \"annot2\", \n",
    "                          assay = \"RNA\")"
   ]
  },
  {
   "cell_type": "code",
   "execution_count": null,
   "id": "90b2ab33",
   "metadata": {},
   "outputs": [],
   "source": [
    "options(repr.plot.width = 9.5, repr.plot.height = 3.5)\n",
    "pheatmap::pheatmap(t(avgexp$RNA), main = \"\", \n",
    "         scale = \"column\", cluster_cols = T, cluster_rows = T,\n",
    "        color=colorRampPalette(c(\"dodgerblue\", \"grey95\", \"indianred2\"))(50), \n",
    "         border_color = \"white\",\n",
    "                  fontsize = 12)"
   ]
  },
  {
   "cell_type": "markdown",
   "id": "d68651fa",
   "metadata": {},
   "source": [
    "## Gene expression in Unconventional subclusters"
   ]
  },
  {
   "cell_type": "markdown",
   "id": "c13e0116",
   "metadata": {},
   "source": [
    "Create annotations of groups - merge nonNaive cell subclusters together. "
   ]
  },
  {
   "cell_type": "code",
   "execution_count": null,
   "id": "a9871f66",
   "metadata": {},
   "outputs": [],
   "source": [
    "cd8_l1_full_filt@meta.data  <- cd8_l1_full_filt@meta.data  %>% \n",
    "mutate(Annotation = gsub(cd8_l1_full_filt$annotations_l2, pattern = \"---\", replacement = \"\"))  %>% \n",
    "mutate(Annotation = gsub(Annotation, pattern = \"CD8 T cells\", replacement = \"\"))  %>% \n",
    "mutate(Annotation = gsub(Annotation, pattern = \"CD8 Unconventional T cells\", replacement = \"\"))  %>% \n",
    "mutate(Annotation = gsub(Annotation, pattern = \"CD8 NK cells\", replacement = \"\"))  %>% \n",
    "mutate(annot2 = case_when(Annotation %in% c(\"Tem\",\"Tcm\",\"Temra\",\"Proliferating\") ~ \"NonNaive\", \n",
    "                          TRUE ~ Annotation)) "
   ]
  },
  {
   "cell_type": "code",
   "execution_count": null,
   "id": "0355bc81",
   "metadata": {},
   "outputs": [],
   "source": [
    "cd8_l1_full_filt$annotations_l2_sample  <- paste(cd8_l1_full_filt$annot2, cd8_l1_full_filt$Sample_ID)"
   ]
  },
  {
   "cell_type": "code",
   "execution_count": null,
   "id": "fac45084",
   "metadata": {},
   "outputs": [],
   "source": [
    "cd8_l1_full_filt$annotations_l2_sample   %>% table"
   ]
  },
  {
   "cell_type": "markdown",
   "id": "e8fc5a2a",
   "metadata": {},
   "source": [
    "Use the script that will quantify the percentage of cells with non-zero expression of a selected genes. "
   ]
  },
  {
   "cell_type": "code",
   "execution_count": null,
   "id": "1b1f376a",
   "metadata": {},
   "outputs": [],
   "source": [
    "pct_expressing_boxplot  <- function(seurat_object, gene, group.by = \"annotations_l2\", sample.col = \"sample\"){\n",
    "   rn = which(rownames(seurat_object@assays$RNA)==gene)\n",
    "ggtheme = function() {\n",
    "  theme(\n",
    "    axis.text = element_text(size = 20),\n",
    "    axis.title = element_text(size = 20),\n",
    "    text = element_text(size = 20, colour = \"black\"),\n",
    "    legend.text = element_text(size = 20),\n",
    "    legend.key.size =  unit(10, units = \"points\")\n",
    "    \n",
    "  )\n",
    "}\n",
    "\n",
    "df = data.frame(grouping_var = seurat_object@meta.data[[group.by]],\n",
    "               value = seurat_object@assays$RNA@counts[rn,], \n",
    "               sample = seurat_object@meta.data[[sample.col]])  %>% \n",
    "mutate(expressing = if_else(value>0,1,0))  %>% \n",
    "dplyr::select(-value)  %>% \n",
    "group_by(sample, grouping_var)  %>% \n",
    "summarise(mean_expression = mean(expressing))  %>% \n",
    "pivot_wider(names_from = sample, values_from = mean_expression, values_fill = 0)  %>% \n",
    "pivot_longer(!grouping_var, names_to = \"sample\", values_to = \"expressing\")\n",
    "\n",
    "plt = ggplot(data = df, aes(x = reorder(x = grouping_var, X = expressing, FUN = median), y = expressing)) +\n",
    "#geom_boxplot(outlier.shape = NA, aes(fill = grouping_var), alpha = 0.3) + \n",
    "geom_violin(aes(fill = grouping_var), alpha = 0.3, scale = \"width\") + \n",
    "  geom_dotplot(binaxis='y', stackdir='center', dotsize=0) + \n",
    "  geom_jitter(width = 0.1, height = 0.0, size = 2, aes(color = grouping_var)) + \n",
    "  stat_summary(fun = \"mean\",\n",
    "               geom = \"crossbar\", \n",
    "               width = 0.5,\n",
    "               colour = \"grey30\") +\n",
    "theme_classic() +\n",
    "    theme(plot.title = element_text(hjust = 0.5)) +\n",
    "    theme(axis.text.x = element_text(angle = 90, vjust = 0.5)) +\n",
    "ggtheme() +\n",
    "    ggtitle(gene) +\n",
    "    ylab(\"Pct expressing cells\") +\n",
    "xlab(\"\") + NoLegend()\n",
    "    return(plt)\n",
    "    }\n"
   ]
  },
  {
   "cell_type": "code",
   "execution_count": null,
   "id": "84f902ea",
   "metadata": {},
   "outputs": [],
   "source": []
  },
  {
   "cell_type": "code",
   "execution_count": null,
   "id": "4b9ed26b",
   "metadata": {},
   "outputs": [],
   "source": [
    "options(repr.plot.width=4, repr.plot.height=6)\n",
    "\n",
    "pct_expressing_boxplot(seurat_object = cd8_l1_full_filt, group.by = \"annot2\", gene = \"NCAM1\", \n",
    "                       sample.col = \"Sample_ID\")"
   ]
  },
  {
   "cell_type": "code",
   "execution_count": null,
   "id": "907f7404",
   "metadata": {},
   "outputs": [],
   "source": [
    "options(repr.plot.width=4, repr.plot.height=6)\n",
    "pct_expressing_boxplot(seurat_object = cd8_l1_full_filt, group.by = \"annot2\", gene = \"FOXP3\", \n",
    "                       sample.col = \"Sample_ID\")"
   ]
  },
  {
   "cell_type": "code",
   "execution_count": null,
   "id": "3c2b0486",
   "metadata": {},
   "outputs": [],
   "source": [
    "cd8_l1_full_filt_sub  <- subset(cd8_l1_full_filt, Experiment_ID %in% c(\"Exp16\",\"Exp18\",\"Exp19\",\"Exp20\"))"
   ]
  },
  {
   "cell_type": "code",
   "execution_count": null,
   "id": "8889abe7",
   "metadata": {},
   "outputs": [],
   "source": [
    "library(patchwork)"
   ]
  },
  {
   "cell_type": "code",
   "execution_count": null,
   "id": "cb8b78a6",
   "metadata": {},
   "outputs": [],
   "source": [
    "options(repr.plot.width=16, repr.plot.height=12)\n",
    "pct_expressing_boxplot(seurat_object = cd8_l1_full_filt_sub, \n",
    "                       group.by = \"annotations_l2\", gene = \"TGFB1\", \n",
    "                       sample.col = \"Sample_ID\") +\n",
    "pct_expressing_boxplot(seurat_object = cd8_l1_full_filt_sub, \n",
    "                       group.by = \"annotations_l2\", gene = \"TIGIT\", \n",
    "                       sample.col = \"Sample_ID\") +\n",
    "pct_expressing_boxplot(seurat_object = cd8_l1_full_filt_sub, \n",
    "                       group.by = \"annotations_l2\", gene = \"ITGB1\", \n",
    "                       sample.col = \"Sample_ID\") +\n",
    "pct_expressing_boxplot(seurat_object = cd8_l1_full_filt_sub, \n",
    "                       group.by = \"annotations_l2\", gene = \"TNFRSF4\", \n",
    "                       sample.col = \"Sample_ID\") +\n",
    "plot_layout(ncol = 4)"
   ]
  },
  {
   "cell_type": "code",
   "execution_count": null,
   "id": "41f27dad",
   "metadata": {},
   "outputs": [],
   "source": [
    "pct_expressing_boxplot(seurat_object = cd8_l1_full_filt_sub, \n",
    "                       group.by = \"annotations_l2\", gene = \"IL2RA\", \n",
    "                       sample.col = \"Sample_ID\") +\n",
    "pct_expressing_boxplot(seurat_object = cd8_l1_full_filt_sub, \n",
    "                       group.by = \"annotations_l2\", gene = \"IL2RB\", \n",
    "                       sample.col = \"Sample_ID\") +\n",
    "pct_expressing_boxplot(seurat_object = cd8_l1_full_filt_sub, \n",
    "                       group.by = \"annotations_l2\", gene = \"IL10RA\", \n",
    "                       sample.col = \"Sample_ID\") +\n",
    "pct_expressing_boxplot(seurat_object = cd8_l1_full_filt_sub, \n",
    "                       group.by = \"annotations_l2\", gene = \"CCR10\", \n",
    "                       sample.col = \"Sample_ID\") +\n",
    "plot_layout(ncol = 4)"
   ]
  },
  {
   "cell_type": "code",
   "execution_count": null,
   "id": "88c00f56",
   "metadata": {},
   "outputs": [],
   "source": [
    "options(repr.plot.width=16, repr.plot.height=12)\n",
    "pct_expressing_boxplot(seurat_object = subset(, Experiment_ID %in% c(\"Exp16\",\"Exp18\",\"Exp19\",\"Exp20\")), \n",
    "                       group.by = \"annotations_l2\", gene = \"CTLA4\", \n",
    "                       sample.col = \"Sample_ID\") +\n",
    "pct_expressing_boxplot(seurat_object = cd8_l1_full_filt_sub), \n",
    "                       group.by = \"annotations_l2\", gene = \"TIGIT\", \n",
    "                       sample.col = \"annotations_l2\") +\n",
    "pct_expressing_boxplot(seurat_object = cd8_l1_full_filt_sub), \n",
    "                       group.by = \"annotations_l2\", gene = \"IL10RA\", \n",
    "                       sample.col = \"Sample_ID\") +\n",
    "pct_expressing_boxplot(seurat_object = cd8_l1_full_filt_sub), \n",
    "                       group.by = \"annotations_l2\", gene = \"IL10\", \n",
    "                       sample.col = \"Sample_ID\") +\n",
    "plot_layout(ncol = 4)"
   ]
  },
  {
   "cell_type": "code",
   "execution_count": null,
   "id": "ee2b7bab",
   "metadata": {},
   "outputs": [],
   "source": [
    "options(repr.plot.width=16, repr.plot.height=12)\n",
    "pct_expressing_boxplot(seurat_object = cd8_l1_full_filt_sub, \n",
    "                       group.by = \"annotations_l2\", gene = \"TNFRSF18\", \n",
    "                       sample.col = \"Sample_ID\") +\n",
    "pct_expressing_boxplot(seurat_object = cd8_l1_full_filt_sub, \n",
    "                       group.by = \"annotations_l2\", gene = \"CCR4\", \n",
    "                       sample.col = \"annotations_l2\") +\n",
    "pct_expressing_boxplot(seurat_object = cd8_l1_full_filt_sub, \n",
    "                       group.by = \"annotations_l2\", gene = \"CCR6\", \n",
    "                       sample.col = \"Sample_ID\") +\n",
    "pct_expressing_boxplot(seurat_object = cd8_l1_full_filt_sub, \n",
    "                       group.by = \"annotations_l2\", gene = \"TNFRSF14\", \n",
    "                       sample.col = \"Sample_ID\") +\n",
    "plot_layout(ncol = 4)"
   ]
  },
  {
   "cell_type": "code",
   "execution_count": null,
   "id": "87338e7d",
   "metadata": {},
   "outputs": [],
   "source": [
    "options(repr.plot.width=16, repr.plot.height=12)\n",
    "pct_expressing_boxplot(seurat_object = cd8_l1_full_filt_sub, \n",
    "                       group.by = \"annotations_l2\", gene = \"CTLA4\", \n",
    "                       sample.col = \"Sample_ID\") +\n",
    "pct_expressing_boxplot(seurat_object = cd8_l1_full_filt_sub, \n",
    "                       group.by = \"annotations_l2\", gene = \"TIGIT\", \n",
    "                       sample.col = \"annotations_l2\") +\n",
    "pct_expressing_boxplot(seurat_object = cd8_l1_full_filt_sub, \n",
    "                       group.by = \"annotations_l2\", gene = \"IL10RA\", \n",
    "                       sample.col = \"Sample_ID\") +\n",
    "pct_expressing_boxplot(seurat_object = cd8_l1_full_filt_sub, \n",
    "                       group.by = \"annotations_l2\", gene = \"IL10\", \n",
    "                       sample.col = \"Sample_ID\") +\n",
    "plot_layout(ncol = 4)"
   ]
  }
 ],
 "metadata": {
  "kernelspec": {
   "display_name": "R",
   "language": "R",
   "name": "ir"
  },
  "language_info": {
   "codemirror_mode": "r",
   "file_extension": ".r",
   "mimetype": "text/x-r-source",
   "name": "R",
   "pygments_lexer": "r",
   "version": "4.5.1"
  },
  "toc": {
   "base_numbering": 1,
   "nav_menu": {},
   "number_sections": true,
   "sideBar": true,
   "skip_h1_title": false,
   "title_cell": "Table of Contents",
   "title_sidebar": "Contents",
   "toc_cell": false,
   "toc_position": {},
   "toc_section_display": true,
   "toc_window_display": true
  }
 },
 "nbformat": 4,
 "nbformat_minor": 5
}
