{
 "cells": [
  {
   "cell_type": "markdown",
   "id": "199eb33d",
   "metadata": {},
   "source": [
    "# Part 17: Analysis of scRNAseq data from Honardoost et al., 2024"
   ]
  },
  {
   "cell_type": "markdown",
   "id": "b8491ea4",
   "metadata": {},
   "source": [
    "This is a reanalysis of data published in [Honardoost et al., 2024](https://genomemedicine.biomedcentral.com/articles/10.1186/s13073-024-01300-z). We work with the Seurat object provided by the authors of the study. "
   ]
  },
  {
   "cell_type": "code",
   "execution_count": null,
   "id": "44a0c518",
   "metadata": {},
   "outputs": [],
   "source": [
    "source(\"diabetes_analysis_v07.R\")\n"
   ]
  },
  {
   "cell_type": "markdown",
   "id": "58e09cea",
   "metadata": {},
   "source": [
    "Let's load the downloaded object. If you are trying to recapitulate the analysis, please download the object from the Synapse database: [syn53641849](https://www.synapse.org/#!Synapse:syn53641849). The downloaded object should be saved in the folder: `../data/published_data/Honardoost_2024/`. "
   ]
  },
  {
   "cell_type": "code",
   "execution_count": null,
   "id": "b0d20ccc",
   "metadata": {},
   "outputs": [],
   "source": [
    "honardoost  <- readRDS(\"../data/published_data/Honardoost_2024/T1D_Seurat_Object_Final.rds\")"
   ]
  },
  {
   "cell_type": "markdown",
   "id": "a36a0a7d",
   "metadata": {},
   "source": [
    "Process data using our pipeline. "
   ]
  },
  {
   "cell_type": "code",
   "execution_count": null,
   "id": "88ed868f",
   "metadata": {
    "scrolled": true
   },
   "outputs": [],
   "source": [
    "honardoost <- NormalizeData(honardoost, verbose = FALSE)\n",
    "honardoost <- FindVariableFeatures(honardoost, nfeatures = 1000, verbose = FALSE)\n",
    "honardoost <- ScaleData(honardoost, verbose = FALSE)\n",
    "honardoost <- RunPCA(honardoost, npcs = 20, verbose = FALSE)\n",
    "honardoost <- RunUMAP(honardoost, reduction = \"pca\", dims = 1:20)"
   ]
  },
  {
   "cell_type": "code",
   "execution_count": null,
   "id": "b2efcab6",
   "metadata": {},
   "outputs": [],
   "source": [
    "honardoost <- FindNeighbors(honardoost, dims = 1:12)\n",
    "honardoost <- FindClusters(honardoost, resolution = 0.3)"
   ]
  },
  {
   "cell_type": "markdown",
   "id": "e33ce401",
   "metadata": {},
   "source": [
    "Keep only T-cell clusters. "
   ]
  },
  {
   "cell_type": "code",
   "execution_count": null,
   "id": "6c30c14c",
   "metadata": {},
   "outputs": [],
   "source": [
    "honardoostT  <- subset(honardoost, seurat_clusters %in% c(0,1,3,5,6))"
   ]
  },
  {
   "cell_type": "code",
   "execution_count": null,
   "id": "d4457142",
   "metadata": {
    "scrolled": true
   },
   "outputs": [],
   "source": [
    "honardoostT <- NormalizeData(honardoostT, verbose = FALSE)\n",
    "honardoostT <- FindVariableFeatures(honardoostT, nfeatures = 1000, verbose = FALSE)\n",
    "honardoostT <- ScaleData(honardoostT, verbose = FALSE)\n",
    "honardoostT <- RunPCA(honardoostT, npcs = 20, verbose = FALSE)\n",
    "honardoostT <- RunUMAP(honardoostT, reduction = \"pca\", dims = 1:20)\n",
    "honardoostT <- FindNeighbors(honardoostT, dims = 1:12)\n",
    "honardoostT <- FindClusters(honardoostT, resolution = 0.3)"
   ]
  },
  {
   "cell_type": "code",
   "execution_count": null,
   "id": "14b4094e",
   "metadata": {},
   "outputs": [],
   "source": [
    "saveRDS(honardoostT, \"../data/published_data/Honardoost_2024/honardoost_tcells.rds\")"
   ]
  },
  {
   "cell_type": "markdown",
   "id": "a65245f4",
   "metadata": {},
   "source": [
    "# Analysis of T cells"
   ]
  },
  {
   "cell_type": "code",
   "execution_count": null,
   "id": "3e88ec6d",
   "metadata": {},
   "outputs": [],
   "source": [
    "honardoostT  <- readRDS(\"../data/published_data/Honardoost_2024/honardoost_tcells.rds\")"
   ]
  },
  {
   "cell_type": "markdown",
   "id": "538ffd29",
   "metadata": {},
   "source": [
    "Annotations provided by authors. "
   ]
  },
  {
   "cell_type": "code",
   "execution_count": null,
   "id": "e21ceb83",
   "metadata": {},
   "outputs": [],
   "source": [
    "DimPlot(honardoostT, raster = T, label = T, group.by = \"Cluster_Annotation_Merged\")"
   ]
  },
  {
   "cell_type": "code",
   "execution_count": null,
   "id": "10e72d25",
   "metadata": {},
   "outputs": [],
   "source": [
    "options(repr.plot.width = 20, repr.plot.height = 16)\n",
    "\n",
    "DimPlot(honardoostT, raster = T, label = T, group.by = \"Sample_ID\")"
   ]
  },
  {
   "cell_type": "code",
   "execution_count": null,
   "id": "362b4493",
   "metadata": {},
   "outputs": [],
   "source": [
    "honardoostT <- FindClusters(honardoostT, resolution = 0.23)"
   ]
  },
  {
   "cell_type": "code",
   "execution_count": null,
   "id": "0d19861f",
   "metadata": {},
   "outputs": [],
   "source": [
    "options(repr.plot.width = 6, repr.plot.height = 5)\n",
    "DimPlot(honardoostT, raster = T, label = T)"
   ]
  },
  {
   "cell_type": "markdown",
   "id": "bdd16706",
   "metadata": {},
   "source": [
    "Clustering and cluster markers. "
   ]
  },
  {
   "cell_type": "code",
   "execution_count": null,
   "id": "4cd006c9",
   "metadata": {},
   "outputs": [],
   "source": [
    "mrk  <- FindAllMarkers(honardoostT, logfc.threshold = log(2))"
   ]
  },
  {
   "cell_type": "code",
   "execution_count": null,
   "id": "5e670f90",
   "metadata": {
    "scrolled": true
   },
   "outputs": [],
   "source": [
    "mrk  %>% filter(cluster ==0 & avg_log2FC >0)"
   ]
  },
  {
   "cell_type": "code",
   "execution_count": null,
   "id": "ae423001",
   "metadata": {},
   "outputs": [],
   "source": [
    "options(repr.plot.width = 20)\n",
    "VlnPlot(honardoostT, features = c(\"percent.mt\", \"percent.rp\", \"nCount_RNA\", \"nFeature_RNA\"), ncol = 4, raster = F)"
   ]
  },
  {
   "cell_type": "code",
   "execution_count": null,
   "id": "c7d807e9",
   "metadata": {},
   "outputs": [],
   "source": [
    "options(repr.plot.width = 6)\n",
    "\n",
    "FeaturePlot(honardoostT, features = \"FOXP3\", min.cutoff = 0, raster = T, max.cutoff = 1)\n"
   ]
  },
  {
   "cell_type": "markdown",
   "id": "4cd1411c",
   "metadata": {},
   "source": [
    "We see that many cluster markers are unwanted genes. We will proceed with filtering out unwanted genes, such as mitochondrial and ribosomal genes, unannotated genes etc. "
   ]
  },
  {
   "cell_type": "code",
   "execution_count": null,
   "id": "dac1ccad",
   "metadata": {},
   "outputs": [],
   "source": [
    "mtx  <- honardoostT@assays$RNA@counts[which(!(grepl(rownames(honardoostT@assays$RNA@counts), pattern = \"MT-\")|\n",
    "             grepl(rownames(honardoostT@assays$RNA@counts), pattern = \"\\\\.\")|\n",
    "             grepl(rownames(honardoostT@assays$RNA@counts), pattern = \"^MIR\")|\n",
    "             grepl(rownames(honardoostT@assays$RNA@counts), pattern = \"^MT[RN]\")|\n",
    "             grepl(rownames(honardoostT@assays$RNA@counts), pattern = \"-AS\")|\n",
    "             grepl(rownames(honardoostT@assays$RNA@counts), pattern = \"LINC\")|\n",
    "             grepl(rownames(honardoostT@assays$RNA@counts), pattern = \"ORF\")|\n",
    "             grepl(rownames(honardoostT@assays$RNA@counts), pattern = \"^TR[AB]\")|\n",
    "             grepl(rownames(honardoostT@assays$RNA@counts), pattern = \"^RP[LS]\")|\n",
    "             grepl(rownames(honardoostT@assays$RNA@counts), pattern = \"\\\\-\")|\n",
    "             grepl(rownames(honardoostT@assays$RNA@counts), pattern = \"\\\\.\")|\n",
    "             grepl(rownames(honardoostT@assays$RNA@counts), pattern = \"mir\")) ),]"
   ]
  },
  {
   "cell_type": "markdown",
   "id": "bebafa6a",
   "metadata": {},
   "source": [
    "Create new Seurat object. "
   ]
  },
  {
   "cell_type": "code",
   "execution_count": null,
   "id": "bbeb9cd9",
   "metadata": {},
   "outputs": [],
   "source": [
    "honar2  <- CreateSeuratObject(counts = mtx, meta.data = honardoostT@meta.data, min.cells = 3, min.features = 200)"
   ]
  },
  {
   "cell_type": "code",
   "execution_count": null,
   "id": "60c3a7f3",
   "metadata": {
    "scrolled": true
   },
   "outputs": [],
   "source": [
    "honar2 <- NormalizeData(honar2, verbose = FALSE)\n",
    "honar2 <- FindVariableFeatures(honar2, nfeatures = 1000, verbose = FALSE)\n",
    "honar2 <- ScaleData(honar2, verbose = FALSE)\n",
    "honar2 <- RunPCA(honar2, npcs = 20, verbose = FALSE)\n",
    "honar2 <- RunUMAP(honar2, reduction = \"pca\", dims = 1:20)\n",
    "honar2 <- FindNeighbors(honar2, dims = 1:12)\n",
    "honar2 <- FindClusters(honar2, resolution = 0.3)"
   ]
  },
  {
   "cell_type": "code",
   "execution_count": null,
   "id": "40937d82",
   "metadata": {},
   "outputs": [],
   "source": [
    "DimPlot(honar2, group.by = \"Cluster_Annotation_Merged\")"
   ]
  },
  {
   "cell_type": "code",
   "execution_count": null,
   "id": "6af4d767",
   "metadata": {
    "scrolled": true
   },
   "outputs": [],
   "source": [
    "DimPlot(honar2)"
   ]
  },
  {
   "cell_type": "markdown",
   "id": "3cb1ce5d",
   "metadata": {},
   "source": [
    "New markers. "
   ]
  },
  {
   "cell_type": "code",
   "execution_count": null,
   "id": "fa695cc9",
   "metadata": {},
   "outputs": [],
   "source": [
    "mrk  <- FindAllMarkers(honar2)"
   ]
  },
  {
   "cell_type": "code",
   "execution_count": null,
   "id": "48f212ee",
   "metadata": {},
   "outputs": [],
   "source": [
    "options(repr.plot.height = 15, repr.plot.width = 20)\n",
    "for(i in 0:6){\n",
    "    print(paste(\"Cluster\",i))\n",
    "    genes  <- mrk  %>% dplyr::filter(cluster == i)  %>% slice_head(n = 12)  %>% pull(gene)\n",
    "    print(FeaturePlot(honar2, features = genes, ncol = 4))\n",
    "    }"
   ]
  },
  {
   "cell_type": "markdown",
   "id": "b66b877d",
   "metadata": {},
   "source": [
    "# STACAS"
   ]
  },
  {
   "cell_type": "markdown",
   "id": "f7f07c99",
   "metadata": {},
   "source": [
    "Remove batch effect by integration using STACAS. "
   ]
  },
  {
   "cell_type": "code",
   "execution_count": null,
   "id": "5db504fc",
   "metadata": {},
   "outputs": [],
   "source": [
    "honar2  <- SplitObject(honar2, split.by = \"LIB\")"
   ]
  },
  {
   "cell_type": "code",
   "execution_count": null,
   "id": "f81a27b2",
   "metadata": {
    "scrolled": true
   },
   "outputs": [],
   "source": [
    "# normalize and identify variable features for each dataset independently\n",
    "merged.list <- lapply(X = honar2, FUN = function(x) {\n",
    "    DefaultAssay(x)  <- \"RNA\"\n",
    "    x$barcode  <- colnames(x)\n",
    "    x <- NormalizeData(x)\n",
    "    x <- FindVariableFeatures(x, selection.method = \"vst\", nfeatures = 800)\n",
    "})\n",
    "\n",
    "honar2_stacas <- Run.STACAS(merged.list, dims = 1:12)\n",
    "honar2_stacas <- RunUMAP(honar2_stacas, dims = 1:12) "
   ]
  },
  {
   "cell_type": "code",
   "execution_count": null,
   "id": "6fbf10d9",
   "metadata": {},
   "outputs": [],
   "source": [
    "DimPlot(honar2_stacas)"
   ]
  },
  {
   "cell_type": "code",
   "execution_count": null,
   "id": "670fe291",
   "metadata": {},
   "outputs": [],
   "source": [
    "DimPlot(honar2_stacas, group.by = \"Cluster_Annotation_Merged\")"
   ]
  },
  {
   "cell_type": "code",
   "execution_count": null,
   "id": "45cb7b78",
   "metadata": {
    "scrolled": true
   },
   "outputs": [],
   "source": [
    "DimPlot(honar2_stacas, group.by = \"Cluster_Annotation_All\")"
   ]
  },
  {
   "cell_type": "code",
   "execution_count": null,
   "id": "80c87900",
   "metadata": {},
   "outputs": [],
   "source": [
    "FeaturePlot(honar2_stacas, features = \"FOXP3\", min.cutoff = 0)\n",
    "FeaturePlot(honar2_stacas, features = \"CD226\", min.cutoff = 0)\n",
    "FeaturePlot(honar2_stacas, features = \"CCR7\", min.cutoff = 0)\n",
    "FeaturePlot(honar2_stacas, features = \"TNFRSF9\", min.cutoff = 0)\n",
    "FeaturePlot(honar2_stacas, features = \"CCR10\", min.cutoff = 0)"
   ]
  },
  {
   "cell_type": "code",
   "execution_count": null,
   "id": "58a89e0a",
   "metadata": {},
   "outputs": [],
   "source": [
    "FeaturePlot(honar2_stacas, features = \"MKI67\", min.cutoff = 0)"
   ]
  },
  {
   "cell_type": "code",
   "execution_count": null,
   "id": "5dcec23a",
   "metadata": {},
   "outputs": [],
   "source": [
    "saveRDS(honar2_stacas, \"../data/published_data/Honardoost_2024/honar2_stacas.rds\")"
   ]
  }
 ],
 "metadata": {
  "kernelspec": {
   "display_name": "R",
   "language": "R",
   "name": "ir"
  },
  "language_info": {
   "codemirror_mode": "r",
   "file_extension": ".r",
   "mimetype": "text/x-r-source",
   "name": "R",
   "pygments_lexer": "r",
   "version": "4.5.1"
  },
  "toc": {
   "base_numbering": 1,
   "nav_menu": {},
   "number_sections": true,
   "sideBar": true,
   "skip_h1_title": false,
   "title_cell": "Table of Contents",
   "title_sidebar": "Contents",
   "toc_cell": false,
   "toc_position": {},
   "toc_section_display": true,
   "toc_window_display": true
  }
 },
 "nbformat": 4,
 "nbformat_minor": 5
}
