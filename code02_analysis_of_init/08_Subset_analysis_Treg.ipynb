{
 "cells": [
  {
   "cell_type": "markdown",
   "id": "2d5b570c",
   "metadata": {},
   "source": [
    "# Part 8: Analysis of Treg cells"
   ]
  },
  {
   "cell_type": "markdown",
   "id": "a2771f89",
   "metadata": {},
   "source": [
    "In this document, we focus on Treg cluster subsetted from the main CD4 dataset. To recapitulate the analysis, please download the Treg Seurat object available at Zenodo: [https://doi.org/10.5281/zenodo.14222418](https://doi.org/10.5281/zenodo.14222418)"
   ]
  },
  {
   "cell_type": "code",
   "execution_count": null,
   "id": "f741a879",
   "metadata": {
    "scrolled": true
   },
   "outputs": [],
   "source": [
    "source(\"diabetes_analysis_v07.R\")"
   ]
  },
  {
   "cell_type": "code",
   "execution_count": null,
   "id": "66651646",
   "metadata": {},
   "outputs": [],
   "source": [
    "plan(\"multisession\")"
   ]
  },
  {
   "cell_type": "markdown",
   "id": "477aded5",
   "metadata": {},
   "source": [
    "We will load the datasets of all CD4 cells and Treg cells."
   ]
  },
  {
   "cell_type": "code",
   "execution_count": null,
   "id": "a77ef980",
   "metadata": {},
   "outputs": [],
   "source": [
    "### CD4 All\n",
    "cd4_l2  <- readRDS(\"../../240218_VN_Diabetes_V05/data/processed/L2/cd4_subcluster.rds\")"
   ]
  },
  {
   "cell_type": "code",
   "execution_count": null,
   "id": "eac1f071",
   "metadata": {},
   "outputs": [],
   "source": [
    "## CD4 Treg\n",
    "treg  <- readRDS(\"../../240218_VN_Diabetes_V05/data/processed/L3/cd4_l3_treg.rds\")"
   ]
  },
  {
   "cell_type": "markdown",
   "id": "b4eedeca",
   "metadata": {},
   "source": [
    "We will add the colors and metadata for future use. "
   ]
  },
  {
   "cell_type": "code",
   "execution_count": null,
   "id": "d6e65e28",
   "metadata": {},
   "outputs": [],
   "source": [
    "treg@misc$cols_annotations  <- c( \"#e56381ff\",\"#fbca93ff\",   \"#a93d60ff\", \"#ffbdcbff\",\n",
    "                                 \"#f9dd60ff\", \"#66033cff\")[c(2,4,5,1)]\n",
    "\n",
    "treg@misc$dataset_name  <- \"treg\"\n",
    "\n",
    "treg@misc$all_md  <- cd4_l2@meta.data  %>% \n",
    "                            dplyr::select(Sample_ID, Condition,  \n",
    "                                          Disease, \n",
    "                                          Sex, Age, Age_group, Patient_ID, \n",
    "                                          Time, Experiment_ID)   %>% unique"
   ]
  },
  {
   "cell_type": "markdown",
   "id": "a9c64d5a",
   "metadata": {},
   "source": [
    "## Projection on L2 CD4 subcluster"
   ]
  },
  {
   "cell_type": "markdown",
   "id": "abd3d3b4",
   "metadata": {},
   "source": [
    "Here, we will create a visualization showing Treg subclusters on the whole Cd4 dataset. "
   ]
  },
  {
   "cell_type": "code",
   "execution_count": null,
   "id": "21d1c1c8",
   "metadata": {},
   "outputs": [],
   "source": [
    "md_to_join  <- treg@meta.data  %>% dplyr::select(barcode, treg_annotations = annotations_manual)"
   ]
  },
  {
   "cell_type": "code",
   "execution_count": null,
   "id": "fe4b4a66",
   "metadata": {
    "scrolled": true
   },
   "outputs": [],
   "source": [
    "table(md_to_join$barcode %in% cd4_l2$barcode)"
   ]
  },
  {
   "cell_type": "code",
   "execution_count": null,
   "id": "df78ea6e",
   "metadata": {},
   "outputs": [],
   "source": [
    "head(colnames(treg))"
   ]
  },
  {
   "cell_type": "code",
   "execution_count": null,
   "id": "9fc26314",
   "metadata": {},
   "outputs": [],
   "source": [
    "md_to_join  <- cd4_l2@meta.data  %>% left_join(md_to_join)\n",
    "rownames(md_to_join)  <- colnames(cd4_l2)\n",
    "\n",
    "cd4_l2@meta.data  <- md_to_join"
   ]
  },
  {
   "cell_type": "code",
   "execution_count": null,
   "id": "9e00888d",
   "metadata": {},
   "outputs": [],
   "source": [
    "cd4_l2$treg_annotations  %>% table"
   ]
  },
  {
   "cell_type": "code",
   "execution_count": null,
   "id": "c01d1a1c",
   "metadata": {
    "scrolled": true
   },
   "outputs": [],
   "source": [
    "options(repr.plot.width = 10, repr.plot.height = 7.5)\n",
    "\n",
    "DimPlot(cd4_l2, group.by = \"treg_annotations\", cols = treg@misc$cols_annotations)"
   ]
  },
  {
   "cell_type": "markdown",
   "id": "6a56a01a",
   "metadata": {},
   "source": [
    "## Percentage of expressing cells violin plots"
   ]
  },
  {
   "cell_type": "markdown",
   "id": "7d6cc234",
   "metadata": {},
   "source": [
    "In this section we will calculate the percentage of cells with non-zero expression of classical Treg markers. "
   ]
  },
  {
   "cell_type": "markdown",
   "id": "c18e1d66",
   "metadata": {},
   "source": [
    "We will start by creating an annotation column containing L2 annotations for non-Treg cells and L3 annotations for Treg cells."
   ]
  },
  {
   "cell_type": "code",
   "execution_count": null,
   "id": "c4b1d32d",
   "metadata": {},
   "outputs": [],
   "source": [
    "cd4_l2@meta.data  <- cd4_l2@meta.data  %>% mutate(\n",
    "    annotations_treg_and_all = if_else(annotations_manual == \"Treg\",\n",
    "                                          treg_annotations,\n",
    "                                          annotations_manual)) "
   ]
  },
  {
   "cell_type": "markdown",
   "id": "a92233ba",
   "metadata": {},
   "source": [
    "Next, we will calculate the percentage of expressing cells in each subset (L2 or L3 annotations) in each sample. "
   ]
  },
  {
   "cell_type": "code",
   "execution_count": null,
   "id": "6d453c86",
   "metadata": {},
   "outputs": [],
   "source": [
    "pct_expressing_boxplot  <- function(seurat_object, gene, group.by = \"annotations_l2\", sample.col = \"sample\"){\n",
    "   rn = which(rownames(seurat_object@assays$RNA)==gene)\n",
    "ggtheme = function() {\n",
    "  theme(\n",
    "    axis.text = element_text(size = 20),\n",
    "    axis.title = element_text(size = 20),\n",
    "    text = element_text(size = 20, colour = \"black\"),\n",
    "    legend.text = element_text(size = 20),\n",
    "    legend.key.size =  unit(10, units = \"points\")\n",
    "    \n",
    "  )\n",
    "}\n",
    "\n",
    "df = data.frame(grouping_var = seurat_object@meta.data[[group.by]],\n",
    "               value = seurat_object@assays$RNA@counts[rn,], \n",
    "               sample = seurat_object@meta.data[[sample.col]])  %>% \n",
    "mutate(expressing = if_else(value>0,1,0))  %>% \n",
    "dplyr::select(-value)  %>% \n",
    "group_by(sample, grouping_var)  %>% \n",
    "summarise(mean_expression = mean(expressing))  %>% \n",
    "pivot_wider(names_from = sample, values_from = mean_expression, values_fill = 0)  %>% \n",
    "pivot_longer(!grouping_var, names_to = \"sample\", values_to = \"expressing\")\n",
    "\n",
    "plt = ggplot(data = df, aes(x = grouping_var, y = expressing)) +\n",
    "#geom_boxplot(outlier.shape = NA, aes(fill = grouping_var), alpha = 0.3) + \n",
    "geom_violin(aes(fill = grouping_var), alpha = 0.3, scale = \"width\") + \n",
    "  geom_dotplot(binaxis='y', stackdir='center', dotsize=0) + \n",
    "  geom_jitter(width = 0.1, height = 0.0, size = 2, aes(color = grouping_var)) +\n",
    "theme_classic() +\n",
    "    theme(plot.title = element_text(hjust = 0.5)) +\n",
    "    theme(axis.text.x = element_text(angle = 90, vjust = 0.5)) +\n",
    "ggtheme() +\n",
    "    ggtitle(gene) +\n",
    "    ylab(\"Pct expressing cells\") +\n",
    "xlab(\"\") + NoLegend()\n",
    "    return(plt)\n",
    "    }\n"
   ]
  },
  {
   "cell_type": "code",
   "execution_count": null,
   "id": "6b1cb276",
   "metadata": {},
   "outputs": [],
   "source": [
    "options(repr.plot.width=7, repr.plot.height=9)\n",
    "\n",
    "pct_expressing_boxplot(seurat_object = cd4_l2, group.by = \"annotations_treg_and_all\", gene = \"FOXP3\", \n",
    "                       sample.col = \"Sample_ID\") "
   ]
  },
  {
   "cell_type": "markdown",
   "id": "fc95395f",
   "metadata": {},
   "source": [
    "Visualize genes of interest in Treg subpopulations and naive T cells."
   ]
  },
  {
   "cell_type": "code",
   "execution_count": null,
   "id": "c476f895",
   "metadata": {},
   "outputs": [],
   "source": [
    "cd4_l2$annotations_manual  %>% table"
   ]
  },
  {
   "cell_type": "code",
   "execution_count": null,
   "id": "53bd9c3e",
   "metadata": {},
   "outputs": [],
   "source": [
    "treg_and_naive  <- subset(cd4_l2, annotations_manual %in% c(\"Treg\",\"Naive\"))"
   ]
  },
  {
   "cell_type": "code",
   "execution_count": null,
   "id": "d29b840e",
   "metadata": {},
   "outputs": [],
   "source": [
    "options(repr.plot.width=16, repr.plot.height=7)\n",
    "pct_expressing_boxplot(seurat_object = treg_and_naive, group.by = \"annotations_treg_and_all\", gene = \"CTLA4\", \n",
    "                       sample.col = \"Sample_ID\") +\n",
    "pct_expressing_boxplot(seurat_object = treg_and_naive, group.by = \"annotations_treg_and_all\", gene = \"FOXP3\", \n",
    "                       sample.col = \"Sample_ID\") +\n",
    "pct_expressing_boxplot(seurat_object = treg_and_naive, group.by = \"annotations_treg_and_all\", gene = \"IL10RA\", \n",
    "                       sample.col = \"Sample_ID\") +\n",
    "pct_expressing_boxplot(seurat_object = treg_and_naive, group.by = \"annotations_treg_and_all\", gene = \"IL2RA\", \n",
    "                       sample.col = \"Sample_ID\") +\n",
    "pct_expressing_boxplot(seurat_object = treg_and_naive, group.by = \"annotations_treg_and_all\", gene = \"TIGIT\", \n",
    "                       sample.col = \"Sample_ID\") +\n",
    "plot_layout(ncol = 5)"
   ]
  },
  {
   "cell_type": "code",
   "execution_count": null,
   "id": "2ecad2e8",
   "metadata": {},
   "outputs": [],
   "source": [
    "ggsave(filename = \"../figures/subset_characterization/treg_genes_violin.svg\", \n",
    "      width = 50, height = 18, units = \"cm\", create.dir = TRUE)"
   ]
  },
  {
   "cell_type": "markdown",
   "id": "f110d262",
   "metadata": {},
   "source": [
    "## Frequency plot figure"
   ]
  },
  {
   "cell_type": "markdown",
   "id": "713787c3",
   "metadata": {},
   "source": [
    "In this part we will visualize the frequency of Treg subpopulations. "
   ]
  },
  {
   "cell_type": "markdown",
   "id": "709a8f7d",
   "metadata": {},
   "source": [
    "We will only be using cells from the final experiment. "
   ]
  },
  {
   "cell_type": "code",
   "execution_count": null,
   "id": "14e97ab9",
   "metadata": {},
   "outputs": [],
   "source": [
    "treg_subset  <- subset(treg, Condition %in% c(\"Ctrl T0\", \"Dia T0\", \"Dia T1\") & Experiment_ID %in% c(\"Exp16\", \"Exp18\", \"Exp19\", \"Exp20\")) "
   ]
  },
  {
   "cell_type": "code",
   "execution_count": null,
   "id": "f510f016",
   "metadata": {
    "scrolled": true
   },
   "outputs": [],
   "source": [
    "df4  <- create_df4(treg_subset)"
   ]
  },
  {
   "cell_type": "code",
   "execution_count": null,
   "id": "649bbfe8",
   "metadata": {
    "scrolled": true
   },
   "outputs": [],
   "source": [
    "df4"
   ]
  },
  {
   "cell_type": "code",
   "execution_count": null,
   "id": "29abd4f8",
   "metadata": {},
   "outputs": [],
   "source": [
    " p5  <-   df4  %>% \n",
    "filter(Experiment_ID %in% c(\"Exp16\", \"Exp18\", \"Exp19\", \"Exp20\"))  %>% \n",
    "  ggplot(aes(x = Condition, y = freq*100)) + # you can change the x to whatever variable you're interested in\n",
    "   geom_violin(alpha = 0.3, aes(fill = Condition)) +\n",
    "  stat_summary(fun = \"median\",\n",
    "               geom = \"crossbar\", \n",
    "               width = 0.75,\n",
    "               color = \"grey30\") +\n",
    "   scale_fill_manual(values = c(\"#1874cdff\",  \"#ee6363ff\", \"#c41515ff\",\"#eeb4b4ff\")) +\n",
    "scale_color_manual(values = c(\"dodgerblue3\",  \"#e54c4cff\", \"#aa2a2aff\",\"#e88989ff\")) +\n",
    "geom_beeswarm(size = 3, cex = 3, \n",
    "              color = \"black\", method = \"center\",\n",
    "             aes(fill = Condition), shape = 21) +\n",
    "   facet_wrap(~annotations_manual, scales = \"free\", ncol = 9) +\n",
    "  ylab(\"Frequency\") +\n",
    "  xlab(\"Condition\") +\n",
    "  theme_classic() +\n",
    "ggtheme() +\n",
    "ggpubr::stat_compare_means(label.x= 1.5, \n",
    "                           size = 7, vjust = -1, label = \"p.format\", comparisons = list(c(1,2)))+\n",
    "ggtheme() +\n",
    " scale_y_continuous(limits = c(0,NA), expand = c(0.05,0,0,10)) +\n",
    "  theme(strip.background = element_blank(), panel.grid = element_blank()) + \n",
    "  theme(axis.text = element_text(color = \"black\"),\n",
    "        axis.text.x = element_text(angle = 90),\n",
    "       axis.line = element_line(color = \"black\", size = 0.5),\n",
    "        axis.ticks.x = element_blank()) + NoLegend() + ggtitle(\"Final data all groups\")\n",
    "ncols = length(levels(factor(df4$annotations_manual)))"
   ]
  },
  {
   "cell_type": "code",
   "execution_count": null,
   "id": "8390d9b2",
   "metadata": {},
   "outputs": [],
   "source": [
    "options(repr.plot.width = 9, repr.plot.height = 7)\n",
    "p5"
   ]
  },
  {
   "cell_type": "code",
   "execution_count": null,
   "id": "d1f04566",
   "metadata": {},
   "outputs": [],
   "source": [
    "ggsave(\"../figures/subset_characterization/treg_subsets_in_condition.svg\",\n",
    "       width = 25, height = 12, units = \"cm\")"
   ]
  },
  {
   "cell_type": "code",
   "execution_count": null,
   "id": "cccf530a",
   "metadata": {
    "scrolled": true
   },
   "outputs": [],
   "source": [
    "df4"
   ]
  },
  {
   "cell_type": "code",
   "execution_count": null,
   "id": "028aefb1",
   "metadata": {},
   "outputs": [],
   "source": [
    "    p5  <-   df4  %>% \n",
    "filter(Experiment_ID %in% c(\"Exp16\", \"Exp18\", \"Exp19\", \"Exp20\"))  %>% \n",
    "dplyr::filter(Patient_ID != \"116\")  %>% \n",
    "  ggplot(aes(x = Condition, y = freq*100)) + # you can change the x to whatever variable you're interested in\n",
    "   geom_violin(alpha = 0.3, aes(fill = Condition)) +\n",
    "  stat_summary(fun = \"median\",\n",
    "               geom = \"crossbar\", \n",
    "               width = 0.75,\n",
    "               color = \"grey30\") +\n",
    "   scale_fill_manual(values = c(\"#1874cdff\",  \"#ee6363ff\", \"#c41515ff\",\"#eeb4b4ff\")) +\n",
    "scale_color_manual(values = c(\"dodgerblue3\",  \"#e54c4cff\", \"#aa2a2aff\",\"#e88989ff\")) +\n",
    "geom_beeswarm(size = 3, cex = 3, \n",
    "              color = \"black\", method = \"center\",\n",
    "             aes(fill = Condition), shape = 21) +\n",
    "   facet_wrap(~annotations_manual, scales = \"free\", ncol = 9) +\n",
    "  ylab(\"Frequency\") +\n",
    "  xlab(\"Condition\") +\n",
    "  theme_classic() +\n",
    "ggtheme() +\n",
    "ggpubr::stat_compare_means(label.x= 1.5, \n",
    "                           size = 7, vjust = -1, label = \"p.format\", comparisons = list(c(2,3)), paired = TRUE)+\n",
    "ggtheme() +\n",
    " scale_y_continuous(limits = c(0,NA), expand = c(0.05,0,0,10)) +\n",
    "  theme(strip.background = element_blank(), panel.grid = element_blank()) + \n",
    "  theme(axis.text = element_text(color = \"black\"),\n",
    "        axis.text.x = element_text(angle = 90),\n",
    "       axis.line = element_line(color = \"black\", size = 0.5),\n",
    "        axis.ticks.x = element_blank()) + NoLegend() + ggtitle(\"Final data all groups\")\n",
    "ncols = length(levels(factor(df4$annotations_manual)))"
   ]
  },
  {
   "cell_type": "code",
   "execution_count": null,
   "id": "004de707",
   "metadata": {},
   "outputs": [],
   "source": [
    "options(repr.plot.width = 9, repr.plot.height = 7)\n",
    "p5"
   ]
  },
  {
   "cell_type": "markdown",
   "id": "3eaae0de",
   "metadata": {},
   "source": [
    "## Treg density"
   ]
  },
  {
   "cell_type": "markdown",
   "id": "1b86c464",
   "metadata": {},
   "source": [
    "We will visualize the density of Treg cells coming from different contidions on the UMAP plot. "
   ]
  },
  {
   "cell_type": "code",
   "execution_count": null,
   "id": "c919d32a",
   "metadata": {},
   "outputs": [],
   "source": [
    "density  <- treg_subset@meta.data  %>% dplyr::select(Sample_ID, Condition)\n",
    "\n",
    "density$x_umap  <- treg_subset@reductions$umap@cell.embeddings[,1]\n",
    "density$y_umap  <- treg_subset@reductions$umap@cell.embeddings[,2]\n",
    "\n",
    "\n",
    "library(ggplot2)\n",
    "library(dplyr)\n",
    "library(viridis)\n",
    "\n",
    "colfunc <- colorRampPalette(c(\"white\", \"grey85\",\"grey75\",\"dodgerblue\",\"green\",\"yellow\",\"red\"))"
   ]
  },
  {
   "cell_type": "code",
   "execution_count": null,
   "id": "fbf56dfc",
   "metadata": {},
   "outputs": [],
   "source": [
    "options(repr.plot.width = 10, repr.plot.height = 5)\n",
    "\n",
    "p1  <- density %>%\n",
    "filter(Condition == \"Dia T0\")  %>% \n",
    "  ggplot(aes(x=x_umap, y= y_umap)) + \n",
    " geom_point(shape = \"\")  + geom_density_2d_filled(bins = 30)  + \n",
    "theme_classic() + ggtheme() +\n",
    "xlim(-10,10)+  ylim(-8,8) +\n",
    "scale_fill_manual(values = colfunc(30))  + \n",
    "ggtitle(\"Dia T0\") + NoLegend()\n",
    "\n",
    "p2   <-   density %>%\n",
    "filter(Condition == \"Ctrl T0\")  %>% \n",
    "  ggplot(aes(x=x_umap, y= y_umap)) + \n",
    " geom_point(shape = \"\")  + geom_density_2d_filled(bins = 30)  + \n",
    "theme_classic() + ggtheme() +\n",
    "xlim(-10,10)+  ylim(-8,8) +\n",
    "scale_fill_manual(values = colfunc(30))  + \n",
    "ggtitle(\"Ctrl T0\") + NoLegend()\n",
    "\n",
    "\n",
    "p1 + p2"
   ]
  },
  {
   "cell_type": "code",
   "execution_count": null,
   "id": "e38c79b1",
   "metadata": {},
   "outputs": [],
   "source": [
    "options(repr.plot.width = 14, repr.plot.height = 5)\n",
    "\n",
    "p1  <- density %>%\n",
    "filter(Condition == \"Dia T0\")  %>% \n",
    "  ggplot(aes(x=x_umap, y= y_umap)) + \n",
    " geom_point(shape = \"\")  + geom_density_2d_filled(bins = 30)  + \n",
    "theme_classic() + ggtheme() +\n",
    "xlim(-10,10)+  ylim(-8,8) +\n",
    "scale_fill_manual(values = colfunc(30))  + \n",
    "ggtitle(\"Dia T0\") + NoLegend()"
   ]
  },
  {
   "cell_type": "code",
   "execution_count": null,
   "id": "a1c67b18",
   "metadata": {},
   "outputs": [],
   "source": [
    "p2   <-   density %>%\n",
    "filter(Condition == \"Ctrl T0\")  %>% \n",
    "  ggplot(aes(x=x_umap, y= y_umap)) + \n",
    " geom_point(shape = \"\")  + geom_density_2d_filled(bins = 30)  + \n",
    "theme_classic() + ggtheme() +\n",
    "xlim(-10,10)+  ylim(-8,8) +\n",
    "scale_fill_manual(values = colfunc(30))  + \n",
    "ggtitle(\"Ctrl T0\") + NoLegend()"
   ]
  },
  {
   "cell_type": "code",
   "execution_count": null,
   "id": "7301d9f9",
   "metadata": {},
   "outputs": [],
   "source": [
    "p3  <-  density %>%\n",
    "filter(Condition == \"Dia T1\")  %>% \n",
    "  ggplot(aes(x=x_umap, y= y_umap)) + \n",
    " geom_point(shape = \"\")  + geom_density_2d_filled(bins = 30)  + \n",
    "theme_classic() + ggtheme() +\n",
    "xlim(-10,10)+  ylim(-8,8) +\n",
    "scale_fill_manual(values = colfunc(30))  + \n",
    "ggtitle(\"Dia T1\") + NoLegend()"
   ]
  },
  {
   "cell_type": "code",
   "execution_count": null,
   "id": "5fc91948",
   "metadata": {},
   "outputs": [],
   "source": [
    "options(repr.plot.width = 14, repr.plot.height = 5)\n",
    "p1 + p2 + p3"
   ]
  },
  {
   "cell_type": "markdown",
   "id": "9a201d31",
   "metadata": {},
   "source": [
    "We will create a manual gate that will be used for quantification of Treg1 cells. "
   ]
  },
  {
   "cell_type": "code",
   "execution_count": null,
   "id": "b98afbd2",
   "metadata": {},
   "outputs": [],
   "source": [
    "options(repr.plot.width = 14, repr.plot.height = 5)\n",
    "\n",
    "p1 + geom_vline(xintercept = 6.8) + \n",
    "geom_vline(xintercept = 2.8) + \n",
    "geom_hline(yintercept = -1.5) + \n",
    "geom_hline(yintercept = -5) + p2 + \n",
    "geom_vline(xintercept = 6.8) + \n",
    "geom_vline(xintercept = 2.8) + \n",
    "geom_hline(yintercept = -1.5) + \n",
    "geom_hline(yintercept = -5) + p3 +\n",
    "geom_vline(xintercept = 6.8) + \n",
    "geom_vline(xintercept = 2.8) + \n",
    "geom_hline(yintercept = -1.5) + \n",
    "geom_hline(yintercept = -5) "
   ]
  },
  {
   "cell_type": "code",
   "execution_count": null,
   "id": "d081b37f",
   "metadata": {},
   "outputs": [],
   "source": [
    "ggsave(\"../figures/treg/density_plot.png\", width = 20, height = 10, units = \"cm\")\n",
    "ggsave(\"../figures/treg/density_plot.svg\", width = 20, height = 10, units = \"cm\")"
   ]
  },
  {
   "cell_type": "code",
   "execution_count": null,
   "id": "7139e38c",
   "metadata": {},
   "outputs": [],
   "source": [
    "treg_subset$umap1  <- treg_subset@reductions$umap@cell.embeddings[,1]\n",
    "treg_subset$umap2  <- treg_subset@reductions$umap@cell.embeddings[,2]\n"
   ]
  },
  {
   "cell_type": "code",
   "execution_count": null,
   "id": "3138bf66",
   "metadata": {},
   "outputs": [],
   "source": [
    "treg_subset$cells_in_gate  <- ifelse(treg_subset$umap1 < 6.8 & treg_subset$umap1 > 2.8 &\n",
    "                                     treg_subset$umap2 < -1.5 & treg_subset$umap2 > -5,\n",
    "                                     \"gate\",\"no_gate\")"
   ]
  },
  {
   "cell_type": "code",
   "execution_count": null,
   "id": "5e4ba651",
   "metadata": {},
   "outputs": [],
   "source": [
    "DimPlot(treg_subset, group.by = \"cells_in_gate\")"
   ]
  },
  {
   "cell_type": "code",
   "execution_count": null,
   "id": "fbbd8599",
   "metadata": {
    "scrolled": true
   },
   "outputs": [],
   "source": [
    "df4"
   ]
  },
  {
   "cell_type": "markdown",
   "id": "4c4edeee",
   "metadata": {},
   "source": [
    "Quantification of cells in gate. "
   ]
  },
  {
   "cell_type": "code",
   "execution_count": null,
   "id": "36b9e2a9",
   "metadata": {},
   "outputs": [],
   "source": [
    "seurat_meta_data <- treg_subset@meta.data\n",
    "\n",
    "# Create grouped dataframe, calculate the frequencies of clusters\n",
    "df4 <- seurat_meta_data %>% group_by(Sample_ID, cells_in_gate) %>% \n",
    "  summarise(n = n()) %>% \n",
    "  unique() %>% \n",
    "  mutate(freq = n / sum(n)) \n",
    "\n",
    "# Control - all sums should be one\n",
    "#df4 %>% group_by(Sample_ID) %>% summarise(sum = sum(freq))\n",
    "\n",
    "# As we've lost non-grouping variables, let's join them back\n",
    "md_to_join <- seurat_meta_data %>% dplyr::select(Sample_ID, Condition, Disease, Patient_ID) %>% unique()\n",
    "df4  <- left_join(df4, md_to_join, by = \"Sample_ID\")\n",
    "\n",
    "# add zero which was not added to table\n",
    "pt_454_gate  <- df4  %>% filter(freq == 1)\n",
    "pt_454_gate$cells_in_gate  <- \"gate\"\n",
    "pt_454_gate$n  <- 0\n",
    "pt_454_gate$freq  <- 0\n",
    "\n",
    "df4  <- rbind(df4, pt_454_gate)"
   ]
  },
  {
   "cell_type": "code",
   "execution_count": null,
   "id": "be6e3df2",
   "metadata": {},
   "outputs": [],
   "source": [
    "options(repr.plot.width = 7.5, repr.plot.height = 4)\n",
    "# The final plot\n",
    "\n",
    "df4 %>% ggplot(aes(x = Condition, y = freq)) + # you can change the x to whatever variable you're interested in\n",
    "    geom_violin(alpha = 0.3, aes(fill = Condition)) +\n",
    "  stat_summary(fun = \"median\",\n",
    "               geom = \"crossbar\", \n",
    "               width = 0.75,\n",
    "               color = \"grey30\") +\n",
    "   scale_fill_manual(values = c(\"#1874cdff\",  \"#ee6363ff\", \"#c41515ff\",\"#eeb4b4ff\")) +\n",
    "scale_color_manual(values = c(\"dodgerblue3\",  \"#e54c4cff\", \"#aa2a2aff\",\"#e88989ff\")) +\n",
    "geom_beeswarm(size = 3, cex = 3, \n",
    "              color = \"black\", method = \"center\",\n",
    "             aes(fill = Condition), shape = 21) +\n",
    "facet_wrap(~cells_in_gate, scales = \"free\") +\n",
    "  ylab(\"Frequency\") +\n",
    "  xlab(\"Condition\") +\n",
    "  ylim(c(-0.001,NA)) + # This ensures that our x axis starts at zero, but feel free to remove this line\n",
    "  theme_classic() +\n",
    "  theme(strip.background = element_blank(), panel.grid = element_blank()) + \n",
    "stat_compare_means(comparisons = list(c(1,2))) + ggtheme() + NoLegend()\n",
    "#ggsave(\"../figures/subset_characterization/treg_gate.svg\",\n",
    "#       width = 14, height = 10, units = \"cm\")"
   ]
  },
  {
   "cell_type": "code",
   "execution_count": null,
   "id": "266158ae",
   "metadata": {},
   "outputs": [],
   "source": [
    "df4 %>% dplyr::filter(Patient_ID != 116)  %>% \n",
    "ggplot(aes(x = Condition, y = freq)) + # you can change the x to whatever variable you're interested in\n",
    "    geom_violin(alpha = 0.3, aes(fill = Condition)) +\n",
    "  stat_summary(fun = \"median\",\n",
    "               geom = \"crossbar\", \n",
    "               width = 0.75,\n",
    "               color = \"grey30\") +\n",
    "   scale_fill_manual(values = c(\"#1874cdff\",  \"#ee6363ff\", \"#c41515ff\",\"#eeb4b4ff\")) +\n",
    "scale_color_manual(values = c(\"dodgerblue3\",  \"#e54c4cff\", \"#aa2a2aff\",\"#e88989ff\")) +\n",
    "geom_beeswarm(size = 3, cex = 3, \n",
    "              color = \"black\", method = \"center\",\n",
    "             aes(fill = Condition), shape = 21) +\n",
    "facet_wrap(~cells_in_gate, scales = \"free\") +\n",
    "  ylab(\"Frequency\") +\n",
    "  xlab(\"Condition\") +\n",
    "  ylim(c(-0.001,NA)) + # This ensures that our x axis starts at zero, but feel free to remove this line\n",
    "  theme_classic() +\n",
    "  theme(strip.background = element_blank(), panel.grid = element_blank()) + \n",
    "stat_compare_means(comparisons = list(c(2,3)), paired = TRUE) + ggtheme()"
   ]
  },
  {
   "cell_type": "code",
   "execution_count": null,
   "id": "266c4cdc",
   "metadata": {},
   "outputs": [],
   "source": [
    "ggsave(filename = \"../figures/treg/treg_density_quantification.svg\", width = 3, height = 5)"
   ]
  },
  {
   "cell_type": "markdown",
   "id": "08dabdfa",
   "metadata": {},
   "source": [
    "# GSEA Resting vs Activated Treg"
   ]
  },
  {
   "cell_type": "markdown",
   "id": "b6786bfd",
   "metadata": {},
   "source": [
    "We will estimate the activation score of Treg cells in the dataset using a gene set from the following study: GSE15659_RESTING_VS_ACTIVATED_TREG_DN. The gene set will be used to calculate module score in the Treg Seurat object. "
   ]
  },
  {
   "cell_type": "code",
   "execution_count": null,
   "id": "09c4af0d",
   "metadata": {},
   "outputs": [],
   "source": [
    "# GSE15659_RESTING_VS_ACTIVATED_TREG_DN\n",
    "\n",
    "genes  <- c('LMNTD2-AS1', 'POLR2F', 'POLR3F', 'POP7', 'PPHLN1', 'PPM1B', 'PPM1K', 'PPP2CA', 'PPP2R1A', \n",
    "'PPP2R5A', 'DESI2', 'PPY', 'PRAM1', 'PRDX3', 'PRDX4', 'PRG3', 'PRKAG3', 'PRKX', '', 'PROCR', 'PSEN1', \n",
    "'PSMA2', 'PSMG2', 'PSPN', 'PSRC1', 'PTK2B', 'HACD4', 'PTPN23', 'NECTIN4', 'PYGL', 'PYHIN1', 'RAB2B', \n",
    "'RAB9A', 'RAMP1', 'RAN', 'RANBP9', 'RANGRF', 'RAP2B', 'RBCK1', 'RBM41', 'RCOR1', 'RD3', 'RGS17', \n",
    "'RGS4', 'RHOC', 'RHOU', 'RIT1', 'RNF10', 'RNF150', 'RNF167', 'RNF214', 'ROCK1', 'ROS1', 'RPL26L1', \n",
    "'RRM1', 'RSPH1', 'RSPH10B2', 'RSPH3', 'RTP1', 'RUSC1', 'S100P', 'S1PR2', 'SAGE1', 'SAP30BP', \n",
    "'SARS2', 'SCN8A', 'SCO2', 'SDC3', 'SEC24D', 'SEC61B', 'SEPHS2', 'SEPTIN3', 'SF3B1', '', 'SGO2', \n",
    "'SH2D1A', 'SHISA6', 'SLC16A4', 'SLC22A18', 'SLC24A5', 'SLC25A3', 'SLC25A46', 'SLC26A6', 'SLC35F3', \n",
    "'SLC39A1', 'SLC43A3', 'SLC44A3', 'SLC4A9', 'SLC6A7', 'SLC9A6', 'SLC9A8', 'SLFNL1', 'SMAP2', 'SNAP91', \n",
    "'SNORA65', 'SNX3', 'SOX11', 'SOX2-OT', 'SPATA2', 'SPATA22', 'SPATA5L1', 'SPATC1', 'SPATS2L', 'SRL', \n",
    "'DENND2B', 'ST7-AS1', 'STARD4', 'STK25', 'STK32A', 'STK36', 'STX10', 'SUMO4', 'SUSD1', 'SYN2', \n",
    "'TBC1D1', 'TBC1D4', 'TDRD7', 'TEX12', 'TFF2', 'THAP1', 'THRB', 'TIFAB', 'TIPRL', 'TK1', 'TMBIM1', \n",
    "'TMEM126A', 'TMEM139', 'TMEM208', 'TMEM70', 'EMC4', 'TNF', 'TNFAIP3', 'TNFSF12', 'TOMM22', 'TOP1', \n",
    "'TOR1AIP1', 'TP53INP2', 'TPI1', 'TPMT', 'TRABD', 'TRIM16', 'TRIM55', 'TRIML1', 'TRIP12', 'TRIP6', \n",
    "'TRPM6', 'TSNAX', 'EIPR1', 'GFUS', 'TTC33', 'EMC2', 'TTC7A', 'TTL', 'TTTY13', 'TULP2', 'TUSC2', \n",
    "'TYK2', 'U2AF1', 'UBA3', 'UBE2D1', 'UBE2U', 'UBFD1', 'UBL7', 'UBR5', 'UGGT1', 'UGT2B17', 'UNC13D', \n",
    "'UTS2B', 'VAMP3', 'VCPIP1', 'VPS28', 'WARS1', 'WDHD1', 'DNAAF10', 'CCN6', 'GET1', 'XAF1', 'YY1', \n",
    "'ZAN', 'ZBED6', 'ZC3H13', 'ZCCHC9', 'ZDHHC8BP', 'ZFAND5', 'ZFC3H1', 'ZMIZ2', 'ZNF28', 'ZNF287', 'ZNF324B', \n",
    "'ZNF34', 'ZNF385D', 'ZNF394', 'ZNF414', 'ZNF596', 'ZNF618', 'ZNF663P', 'ZNF678', 'POLR1H', 'ZNRF2', 'ZPBP2')\n",
    "\n",
    "\n",
    "\n",
    "treg <- AddModuleScore(\n",
    "  object = treg,\n",
    "  features = list(c(genes)),\n",
    "  search = F,\n",
    "  ctrl = 50,\n",
    "  nbin = 50,\n",
    "  assay = \"RNA\",\n",
    "  name = 'GSE15659_RESTING_VS_ACTIVATED_TREG_DN_')"
   ]
  },
  {
   "cell_type": "code",
   "execution_count": null,
   "id": "7aaa903d",
   "metadata": {},
   "outputs": [],
   "source": [
    "options(repr.plot.width = 5, repr.plot.height = 4)\n",
    "\n",
    "FeaturePlot(treg, features = \"GSE15659_RESTING_VS_ACTIVATED_TREG_DN_1\", cols = c(\"#2d95ffff\",\"white\",\"#ff4140ff\"),\n",
    "           pt.size = 3, raster = T)\n",
    "\n"
   ]
  },
  {
   "cell_type": "markdown",
   "id": "ab717897",
   "metadata": {},
   "source": [
    "# Trajectory analysis"
   ]
  },
  {
   "cell_type": "markdown",
   "id": "d6398b71",
   "metadata": {},
   "source": [
    "To analyze the trajectory of Treg cells, we will use the [Slingshot package](https://www.bioconductor.org/packages/release/bioc/vignettes/slingshot/inst/doc/vignette.html)."
   ]
  },
  {
   "cell_type": "code",
   "execution_count": null,
   "id": "2b3ee1d1",
   "metadata": {},
   "outputs": [],
   "source": [
    "library(grDevices)\n",
    "library(RColorBrewer)\n",
    "library(slingshot)"
   ]
  },
  {
   "cell_type": "markdown",
   "id": "c82d3be8",
   "metadata": {},
   "source": [
    "As the input for the Slingshot analysis is SCE object, we need to convert our Seurat object first. We found that integrated assay causes problems upon conversion, so we will remove it and then add just the UMAP coordinates. "
   ]
  },
  {
   "cell_type": "code",
   "execution_count": null,
   "id": "7a376392",
   "metadata": {},
   "outputs": [],
   "source": [
    "DefaultAssay(treg) <- \"RNA\"\n",
    "\n",
    "treg_no_integrated <- treg\n",
    "treg_no_integrated[[\"integrated\"]] <- NULL\n",
    "\n",
    "Idents(treg_no_integrated) <- treg_no_integrated$seurat_clusters\n",
    "\n",
    "sce <- as.SingleCellExperiment(treg_no_integrated)\n",
    "\n",
    "reducedDim(sce, \"PCA\", withDimnames=TRUE) <- treg[['pca']]@cell.embeddings\n",
    "reducedDim(sce, \"UMAP\", withDimnames=TRUE) <- treg_no_integrated[['umap']]@cell.embeddings"
   ]
  },
  {
   "cell_type": "markdown",
   "id": "2af9d780",
   "metadata": {},
   "source": [
    "Run the Slingshot algotirhm:"
   ]
  },
  {
   "cell_type": "code",
   "execution_count": null,
   "id": "77b256d6",
   "metadata": {},
   "outputs": [],
   "source": [
    "sce <- slingshot(sce, clusterLabels = 'seurat_clusters', reducedDim = 'UMAP')"
   ]
  },
  {
   "cell_type": "code",
   "execution_count": null,
   "id": "2c7c98b9",
   "metadata": {},
   "outputs": [],
   "source": [
    "colors <- rev(colorRampPalette(brewer.pal(11,'Spectral')[-6])(100))\n",
    "plotcol <- colors[cut(sce$slingPseudotime_1, breaks=100)]"
   ]
  },
  {
   "cell_type": "code",
   "execution_count": null,
   "id": "d1bf6c5e",
   "metadata": {},
   "outputs": [],
   "source": [
    "options(repr.plot.width = 6, repr.plot.height = 6)\n",
    "plot(reducedDims(sce)$UMAP, col = plotcol, pch=16, asp = 1)\n",
    "lines(SlingshotDataSet(sce), lwd=2, col='black')"
   ]
  },
  {
   "cell_type": "markdown",
   "id": "1c9ab5fc",
   "metadata": {},
   "source": [
    "For visualization purposes we will add the Slingshot pseudotime score back to the Seurat object."
   ]
  },
  {
   "cell_type": "code",
   "execution_count": null,
   "id": "a3a49b78",
   "metadata": {},
   "outputs": [],
   "source": [
    "treg$slingPseudotime_1  <- sce$slingPseudotime_1"
   ]
  },
  {
   "cell_type": "code",
   "execution_count": null,
   "id": "04b24d30",
   "metadata": {},
   "outputs": [],
   "source": [
    "options(repr.plot.width = 6, repr.plot.height = 4)\n",
    "\n",
    "VlnPlot(subset(treg, Condition %in% c(\"Ctrl T0\", \"Dia T0\") & Experiment_ID %in% c(\"Exp16\", \"Exp18\", \"Exp19\", \"Exp20\")),\n",
    "        group.by = \"Condition\", features = \"slingPseudotime_1\", pt.size = 0) + ggpubr::stat_compare_means()"
   ]
  },
  {
   "cell_type": "code",
   "execution_count": null,
   "id": "903b48bf",
   "metadata": {},
   "outputs": [],
   "source": [
    "treg@meta.data %>% \n",
    "filter(Condition %in% c(\"Ctrl T0\", \"Dia T0\", \"Dia T1\") & Experiment_ID %in% c(\"Exp16\", \"Exp18\", \"Exp19\", \"Exp20\"))  %>% \n",
    "  ggplot(aes(x = Condition, y = slingPseudotime_1)) + # you can change the x to whatever variable you're interested in\n",
    "  geom_boxplot(alpha = 0.3, aes(fill = Condition), outlier.shape = NA) +\n",
    "  stat_summary(fun = \"median\",\n",
    "               geom = \"crossbar\", \n",
    "               width = 0.75,\n",
    "               color = \"grey30\")"
   ]
  },
  {
   "cell_type": "code",
   "execution_count": null,
   "id": "6df5d8c7",
   "metadata": {},
   "outputs": [],
   "source": [
    "options(repr.plot.width =4, repr.plot.height =6)\n",
    "treg@meta.data %>% \n",
    "group_by(Patient_ID, Condition, Experiment_ID)  %>% \n",
    "dplyr::filter(Patient_ID != \"116\")  %>% \n",
    "summarize(mean_Sling = mean(slingPseudotime_1))  %>% \n",
    "filter(Condition %in% c(\"Ctrl T0\", \"Dia T0\", \"Dia T1\") & Experiment_ID %in% c(\"Exp16\", \"Exp18\", \"Exp19\", \"Exp20\"))  %>% \n",
    "  ggplot(aes(x = Condition, y = mean_Sling)) + # you can change the x to whatever variable you're interested in\n",
    "  geom_violin(alpha = 0.3, aes(fill = Condition)) +\n",
    "  stat_summary(fun = \"median\",\n",
    "               geom = \"crossbar\", \n",
    "               width = 0.75,\n",
    "               color = \"grey30\") +\n",
    "geom_beeswarm(size = 3, aes(fill = Condition), cex = 3, \n",
    "                shape = 21, color = \"black\", method = \"center\") +\n",
    "scale_shape_manual(values = c(21,22))+\n",
    "  ylab(\"\") +\n",
    "  xlab(\"\") +\n",
    "  theme_classic() +\n",
    "   scale_fill_manual(values = c(\"#1874cdff\",  \"#ee6363ff\", \"#c41515ff\",\"#eeb4b4ff\")) +\n",
    "scale_color_manual(values = c(\"dodgerblue3\",  \"#e54c4cff\", \"#aa2a2aff\",\"#e88989ff\")) +\n",
    "ggpubr::stat_compare_means(label.x= 1.2, label.y.npc = 0.9,\n",
    "                           size = 7, label = \"p.format\", \n",
    "                          comparison = list(c(2,3)), paired = TRUE)+\n",
    "ggtheme() +\n",
    " scale_y_continuous(limits = c(0,NA)) +\n",
    "theme(strip.background = element_blank(), panel.grid = element_blank()) + \n",
    "  theme(axis.text = element_text(color = \"black\"),\n",
    "        axis.text.x = element_text(angle = 90),\n",
    "       axis.line = element_line(color = \"black\", size = 0.5),\n",
    "        axis.ticks.x = element_blank()) + NoLegend() + ggtitle(\"Final data\")"
   ]
  },
  {
   "cell_type": "code",
   "execution_count": null,
   "id": "fff15afa",
   "metadata": {},
   "outputs": [],
   "source": [
    "options(repr.plot.width = 6, repr.plot.height = 4)\n",
    "treg@meta.data %>% \n",
    "group_by(Patient_ID, Condition, Experiment_ID)  %>% \n",
    "summarize(median_Sling = median(slingPseudotime_1))  %>% \n",
    "filter(Condition %in% c(\"Ctrl T0\", \"Dia T0\", \"Dia T1\") & Experiment_ID %in% c(\"Exp16\", \"Exp18\", \"Exp19\", \"Exp20\"))  %>% \n",
    "  ggplot(aes(x = Condition, y = median_Sling)) + # you can change the x to whatever variable you're interested in\n",
    "  geom_violin(alpha = 0.3, aes(fill = Condition)) +\n",
    "  stat_summary(fun = \"median\",\n",
    "               geom = \"crossbar\", \n",
    "               width = 0.75,\n",
    "               color = \"grey30\") +\n",
    "geom_beeswarm(size = 3, aes(fill = Condition), cex = 3, \n",
    "                shape = 21, color = \"black\", method = \"center\") +\n",
    "scale_shape_manual(values = c(21,22))+\n",
    "  ylab(\"\") +\n",
    "  xlab(\"\") +\n",
    "  theme_classic() +\n",
    "   scale_fill_manual(values = c(\"#1874cdff\",  \"#ee6363ff\", \"#c41515ff\",\"#eeb4b4ff\")) +\n",
    "scale_color_manual(values = c(\"dodgerblue3\",  \"#e54c4cff\", \"#aa2a2aff\",\"#e88989ff\")) +\n",
    "ggpubr::stat_compare_means(label.x= 1.2, label.y.npc = 0.9,\n",
    "                           size = 7, label = \"p.format\", \n",
    "                          comparisons = list(c(1,2)))+\n",
    "ggtheme() +\n",
    " scale_y_continuous(limits = c(0,NA)) +\n",
    "theme(strip.background = element_blank(), panel.grid = element_blank()) + \n",
    "  theme(axis.text = element_text(color = \"black\"),\n",
    "        axis.text.x = element_text(angle = 90),\n",
    "       axis.line = element_line(color = \"black\", size = 0.5),\n",
    "        axis.ticks.x = element_blank()) + NoLegend() + ggtitle(\"Final data\")\n",
    "\n",
    "ggsave(\"../figures/subset_characterization/treg_pseudotime_in_condition.svg\",\n",
    "       width = 10, create.dir = TRUE, height = 12, units = \"cm\")"
   ]
  },
  {
   "cell_type": "code",
   "execution_count": null,
   "id": "267e5be4",
   "metadata": {},
   "outputs": [],
   "source": [
    "options(repr.plot.width = 6, repr.plot.height = 4)\n",
    "treg@meta.data %>% \n",
    "group_by(Patient_ID, Condition, Experiment_ID)  %>% \n",
    "summarize(median_Sling = median(slingPseudotime_1))  %>% \n",
    "filter(Condition %in% c(\"Ctrl T0\", \"Dia T0\", \"Dia T1\") & Experiment_ID %in% c(\"Exp16\", \"Exp18\", \"Exp19\", \"Exp20\"))  %>% \n",
    "  ggplot(aes(x = Condition, y = median_Sling)) + # you can change the x to whatever variable you're interested in\n",
    "  geom_violin(alpha = 0.3, aes(fill = Condition)) +\n",
    "  stat_summary(fun = \"median\",\n",
    "               geom = \"crossbar\", \n",
    "               width = 0.75,\n",
    "               color = \"grey30\") +\n",
    "geom_beeswarm(size = 3, aes(fill = Condition), cex = 3, \n",
    "                shape = 21, color = \"black\", method = \"center\") +\n",
    "scale_shape_manual(values = c(21,22))+\n",
    "  ylab(\"\") +\n",
    "  xlab(\"\") +\n",
    "  theme_classic() +\n",
    "#scale_fill_manual(values = c(\"#1874cdff\",\"#c41515ff\"))+\n",
    "ggpubr::stat_compare_means(label.x= 1.2, label.y.npc = 0.9,\n",
    "                           size = 7, label = \"p.format\", \n",
    "                          comparisons = list(c(1,2)))+\n",
    "ggtheme() +\n",
    " scale_y_continuous(limits = c(0,NA)) +\n",
    "theme(strip.background = element_blank(), panel.grid = element_blank()) + \n",
    "  theme(axis.text = element_text(color = \"black\"),\n",
    "        axis.text.x = element_text(angle = 90),\n",
    "       axis.line = element_line(color = \"black\", size = 0.5),\n",
    "        axis.ticks.x = element_blank()) + NoLegend() + ggtitle(\"Final data\")"
   ]
  },
  {
   "cell_type": "code",
   "execution_count": null,
   "id": "5f69972b",
   "metadata": {},
   "outputs": [],
   "source": [
    "options(repr.plot.width = 6, repr.plot.height = 5)\n",
    "treg_pseudotime  <- treg@meta.data %>% \n",
    "mutate(ntile_sling = ntile(slingPseudotime_1, n = 20))  %>% \n",
    "group_by(Condition, ntile_sling) %>% \n",
    "  summarise(n = n()) %>%\n",
    "  mutate(freq = n / sum(n))  %>% \n",
    "dplyr::select(-n)  %>% \n",
    "pivot_wider(names_from = \"ntile_sling\", values_from = \"freq\", values_fill = 0) \n",
    "\n",
    "treg_pseudotime2  <- treg_pseudotime  %>% pivot_longer(3:ncol(treg_pseudotime), names_to = \"ntile_sling\", values_to = \"freq\")  "
   ]
  },
  {
   "cell_type": "code",
   "execution_count": null,
   "id": "154f4811",
   "metadata": {
    "scrolled": true
   },
   "outputs": [],
   "source": [
    "treg_pseudotime2"
   ]
  },
  {
   "cell_type": "code",
   "execution_count": null,
   "id": "9035628b",
   "metadata": {},
   "outputs": [],
   "source": []
  },
  {
   "cell_type": "code",
   "execution_count": null,
   "id": "c2dc890c",
   "metadata": {},
   "outputs": [],
   "source": [
    "mtx  <- treg@meta.data %>% \n",
    "mutate(ntile_sling = ntile(slingPseudotime_1, n = 20),\n",
    "       ntile_score = ntile(GSE15659_RESTING_VS_ACTIVATED_TREG_DN_1, n = 20))  %>% \n",
    "ungroup  %>% \n",
    "group_by(ntile_sling, ntile_score)  %>% \n",
    "tally()  %>% \n",
    "pivot_wider(names_from = ntile_score, values_from = n, values_fill = 0)  %>% \n",
    "column_to_rownames(\"ntile_sling\")  %>% \n",
    "as.matrix()"
   ]
  },
  {
   "cell_type": "code",
   "execution_count": null,
   "id": "0c1ec8ce",
   "metadata": {},
   "outputs": [],
   "source": [
    "options(repr.plot.width = 6, repr.plot.height = 5)\n",
    "pheatmap::pheatmap(mtx, cluster_rows = F, cluster_cols = F, \n",
    "                  color=colorRampPalette(c(\"white\", \"grey95\", \"indianred2\",\"darkred\"))(50), \n",
    "         border_color = \"white\", width = 9, height = 3.3,\n",
    "                  fontsize = 9)\n",
    "\n",
    "options(repr.plot.width = 6, repr.plot.height = 5)\n",
    "pheatmap::pheatmap(mtx, cluster_rows = F, cluster_cols = F, \n",
    "                  color=colorRampPalette(c(\"white\", \"grey95\", \"indianred2\",\"darkred\"))(50), \n",
    "         border_color = \"white\", width = 6, height = 5,\n",
    "                  fontsize = 9, filename = \"../figures/treg_validation/trajectory_correlation_hm.pdf\")"
   ]
  },
  {
   "cell_type": "code",
   "execution_count": null,
   "id": "37d5193e",
   "metadata": {},
   "outputs": [],
   "source": [
    "options(warn = -1)"
   ]
  },
  {
   "cell_type": "code",
   "execution_count": null,
   "id": "c5d17fce",
   "metadata": {},
   "outputs": [],
   "source": [
    "treg@meta.data  <- treg@meta.data %>% \n",
    "mutate(ntile_sling = ntile(slingPseudotime_1, n = 20))"
   ]
  },
  {
   "cell_type": "code",
   "execution_count": null,
   "id": "f9d8cc67",
   "metadata": {},
   "outputs": [],
   "source": [
    "avgexp  <- AggregateExpression(treg, group.by = c(\"ntile_sling\"), \n",
    "                             features = c(\"NELL2\",\"IL7R\",\"CCR7\",\"TCF7\",\"SELL\",\n",
    "                                          \"CTLA4\",\"IL10RA\",\"IL2RA\",\"ENTPD1\",\n",
    "                                          \"TNFRSF9\",\"CCR4\"),\n",
    "                             assay = \"RNA\", return.seurat = F)"
   ]
  },
  {
   "cell_type": "code",
   "execution_count": null,
   "id": "f1212c0e",
   "metadata": {},
   "outputs": [],
   "source": [
    "pheatmap::pheatmap(avgexp$RNA, cluster_rows = F, cluster_cols = F, scale = \"row\",\n",
    "                  color=colorRampPalette(c(\"dodgerblue\", \"grey95\", \"indianred2\"))(50), \n",
    "         border_color = \"white\", width = 6, height = 5)"
   ]
  },
  {
   "cell_type": "markdown",
   "id": "7015997d",
   "metadata": {},
   "source": [
    "## Trajectories in healthy and Dia"
   ]
  },
  {
   "cell_type": "code",
   "execution_count": null,
   "id": "11faf7f2",
   "metadata": {},
   "outputs": [],
   "source": [
    "library(tradeSeq)\n",
    "library(condiments)\n",
    "theme_set(theme_classic())"
   ]
  },
  {
   "cell_type": "code",
   "execution_count": null,
   "id": "20ac7c6b",
   "metadata": {},
   "outputs": [],
   "source": [
    "umap_coord  <- treg@reductions$umap@cell.embeddings"
   ]
  },
  {
   "cell_type": "code",
   "execution_count": null,
   "id": "b42e04ee",
   "metadata": {},
   "outputs": [],
   "source": [
    "treg$umap_1 = unname(umap_coord[,1])"
   ]
  },
  {
   "cell_type": "code",
   "execution_count": null,
   "id": "8ddacb26",
   "metadata": {},
   "outputs": [],
   "source": [
    "treg$umap_2 = unname(umap_coord[,2])"
   ]
  },
  {
   "cell_type": "code",
   "execution_count": null,
   "id": "01addf6a",
   "metadata": {
    "scrolled": true
   },
   "outputs": [],
   "source": [
    "df  <- treg@meta.data  %>% dplyr::select(Condition, Sample_ID, Experiment_ID, Dim1 = umap_1, Dim2 = umap_2, cl = seurat_clusters)\n",
    "df_filt  <- df  %>% dplyr::filter(Experiment_ID %in% c(\"Exp16\",\"Exp18\",\"Exp19\",\"Exp20\"))\n"
   ]
  },
  {
   "cell_type": "code",
   "execution_count": null,
   "id": "6e287faf",
   "metadata": {
    "scrolled": true
   },
   "outputs": [],
   "source": [
    "df"
   ]
  },
  {
   "cell_type": "code",
   "execution_count": null,
   "id": "5d5b0d9b",
   "metadata": {},
   "outputs": [],
   "source": [
    "df$Condition2  <- substr(df$Condition, 1,3)"
   ]
  },
  {
   "cell_type": "code",
   "execution_count": null,
   "id": "1c27bde8",
   "metadata": {},
   "outputs": [],
   "source": [
    "scores <- imbalance_score(Object = df_filt %>% dplyr::select(Dim1, Dim2) %>% as.matrix(),\n",
    "                          conditions = df_filt$Condition)"
   ]
  },
  {
   "cell_type": "code",
   "execution_count": null,
   "id": "7c6bc091",
   "metadata": {},
   "outputs": [],
   "source": [
    "df_filt$scores <- scores$scores\n",
    "df_filt$scaled_scores <- scores$scaled_scores"
   ]
  },
  {
   "cell_type": "code",
   "execution_count": null,
   "id": "bf6dd9de",
   "metadata": {},
   "outputs": [],
   "source": [
    "ggplot(df_filt, aes(x = Dim1, y = Dim2, col = scores)) +\n",
    "  geom_point() +\n",
    "  scale_color_viridis_c(option = \"C\")"
   ]
  },
  {
   "cell_type": "code",
   "execution_count": null,
   "id": "02573125",
   "metadata": {},
   "outputs": [],
   "source": [
    "options(repr.plot.width = 7.5, repr.plot.height = 5)\n",
    "ggplot(df_filt, aes(x = Dim1, y = Dim2, col = scaled_scores)) +\n",
    "  geom_point() +\n",
    "  scale_color_viridis_c(option = \"C\")"
   ]
  },
  {
   "cell_type": "code",
   "execution_count": null,
   "id": "1bcc5bb6",
   "metadata": {},
   "outputs": [],
   "source": [
    "rm(list = ls())"
   ]
  },
  {
   "cell_type": "code",
   "execution_count": null,
   "id": "e0d30ccc",
   "metadata": {},
   "outputs": [],
   "source": []
  },
  {
   "cell_type": "code",
   "execution_count": null,
   "id": "7bc1eae4",
   "metadata": {},
   "outputs": [],
   "source": [
    "pseudotime_test  <- slingPseudotime(sce)"
   ]
  },
  {
   "cell_type": "code",
   "execution_count": null,
   "id": "ab45ae7c",
   "metadata": {
    "scrolled": true
   },
   "outputs": [],
   "source": [
    "df_filt"
   ]
  },
  {
   "cell_type": "code",
   "execution_count": null,
   "id": "4adfffc4",
   "metadata": {
    "scrolled": true
   },
   "outputs": [],
   "source": [
    "df_filt$cells  <- rownames(df_filt)"
   ]
  },
  {
   "cell_type": "code",
   "execution_count": null,
   "id": "539edde9",
   "metadata": {
    "scrolled": true
   },
   "outputs": [],
   "source": [
    "pseudotime_test"
   ]
  },
  {
   "cell_type": "code",
   "execution_count": null,
   "id": "9de6fb6b",
   "metadata": {},
   "outputs": [],
   "source": [
    "psts <- slingPseudotime(sce) %>%\n",
    "  as.data.frame() %>%\n",
    "  mutate(cells = rownames(.),\n",
    "         conditions = df$Condition,\n",
    "         Condition2 = df$Condition2,\n",
    "         ) %>%\n",
    "dplyr::filter(cells %in% df_filt$cells)  %>% \n",
    "  pivot_longer(starts_with(\"Lineage\"), values_to = \"pseudotime\", names_to = \"lineages\")"
   ]
  },
  {
   "cell_type": "code",
   "execution_count": null,
   "id": "addebfaa",
   "metadata": {
    "scrolled": true
   },
   "outputs": [],
   "source": [
    "psts "
   ]
  },
  {
   "cell_type": "code",
   "execution_count": null,
   "id": "43cb56a0",
   "metadata": {},
   "outputs": [],
   "source": [
    "options(repr.plot.width = 8, repr.plot.height = 6)\n",
    "ggplot(psts, aes(x = pseudotime, color = conditions, fill = conditions)) +\n",
    "  geom_density(alpha = .02) +\n",
    "  #scale_fill_brewer(type = \"qual\") +\n",
    "  facet_wrap(~lineages) +\n",
    "  theme(legend.position = \"bottom\") +\n",
    "ggtheme() +\n",
    "   scale_fill_manual(values = c(\"#1874cdff\",  \"#ee6363ff\", \"#c41515ff\",\"#eeb4b4ff\")) +\n",
    "scale_color_manual(values = c(\"dodgerblue3\",  \"#e54c4cff\", \"#aa2a2aff\",\"#e88989ff\")) "
   ]
  },
  {
   "cell_type": "code",
   "execution_count": null,
   "id": "b9878ba9",
   "metadata": {},
   "outputs": [],
   "source": [
    "ggsave(\"../figures/treg_validation/trajectory_progression.svg\", width = 20, height = 13, units = \"cm\")"
   ]
  },
  {
   "cell_type": "code",
   "execution_count": null,
   "id": "2f2e656f",
   "metadata": {},
   "outputs": [],
   "source": []
  },
  {
   "cell_type": "code",
   "execution_count": null,
   "id": "522c7711",
   "metadata": {},
   "outputs": [],
   "source": [
    "psts2  <- left_join(psts, treg@meta.data  %>% dplyr::select(cells = barcode, Sample_char, Sample_ID))"
   ]
  },
  {
   "cell_type": "code",
   "execution_count": null,
   "id": "262eca8b",
   "metadata": {},
   "outputs": [],
   "source": [
    "p  <- psts2  %>% \n",
    "dplyr::filter(Sample_ID != \"454\")  %>% \n",
    "ggplot(aes(x = pseudotime, color = conditions, fill = as.factor(Sample_ID))) +\n",
    "  geom_density(alpha = .02) +\n",
    "  #scale_fill_brewer(type = \"qual\") +\n",
    "  facet_wrap(~lineages) +\n",
    "  theme(legend.position = \"bottom\") +\n",
    "ggtheme() \n",
    "#   scale_fill_manual(values = c(\"#1874cdff\",  \"#ee6363ff\", \"#c41515ff\",\"#eeb4b4ff\")) +\n",
    "#scale_color_manual(values = c(\"dodgerblue3\",  \"#e54c4cff\", \"#aa2a2aff\",\"#e88989ff\")) \n",
    "plot(p)"
   ]
  },
  {
   "cell_type": "code",
   "execution_count": null,
   "id": "34d37c00",
   "metadata": {},
   "outputs": [],
   "source": [
    "p2  <- psts2  %>% \n",
    "dplyr::filter(Sample_ID != \"454\")  %>% \n",
    "ggplot(aes(x = pseudotime, color = conditions, fill = as.factor(Sample_ID))) +\n",
    "  geom_density(alpha = .02) +\n",
    "  #scale_fill_brewer(type = \"qual\") +\n",
    "  facet_wrap(~Sample_ID) \n",
    "\n",
    "\n",
    "p <- ggplot_build(p2)\n",
    "\n",
    "# These are the columns of interest    \n",
    "p$data[[1]]$x\n",
    "p$data[[1]]$density\n",
    "p$data[[1]]$fill\n"
   ]
  },
  {
   "cell_type": "code",
   "execution_count": null,
   "id": "9c1d7854",
   "metadata": {},
   "outputs": [],
   "source": [
    "options(repr.plot.width = 3, repr.plot.height = 5)\n",
    "\n",
    "p$data[[1]]  %>% \n",
    "group_by(PANEL, colour)  %>% \n",
    "slice_max(order_by = density, n = 1)  %>% \n",
    "mutate(colour = recode_factor(colour, \"#00BA38\" = \"Dia T1\", \"#619CFF\" = \"Dia T0\", \"#F8766D\" = \"Ctrl T0\"))  %>% \n",
    "mutate(colour = factor(colour, levels = c(\"Ctrl T0\", \"Dia T0\", \"Dia T1\")))  %>% \n",
    "ggplot(aes(x = colour, y = x, fill = colour)) +\n",
    " geom_violin(alpha = 0.3, aes(fill = colour), scale = \"width\") +\n",
    "  stat_summary(fun = \"median\",\n",
    "               geom = \"crossbar\", \n",
    "               width = 0.75,\n",
    "               color = \"grey30\") +\n",
    "   scale_fill_manual(values = c(\"#1874cdff\",  \"#ee6363ff\", \"#c41515ff\",\"#eeb4b4ff\")) +\n",
    "scale_color_manual(values = c(\"dodgerblue3\",  \"#e54c4cff\", \"#aa2a2aff\",\"#e88989ff\")) +\n",
    "geom_beeswarm(size = 3, cex = 3, \n",
    "              color = \"black\", method = \"center\",\n",
    "             aes(fill = colour), shape = 21) +\n",
    "  ylab(\"Frequency\") +\n",
    "  xlab(\"Condition\") +\n",
    "  theme_classic() +\n",
    "ggtheme() +\n",
    "ggpubr::stat_compare_means(label.x= 1.5, \n",
    "                           size = 7, label = \"p.format\", comparisons = list(c(1,2),c(2,3)))+\n",
    "ggtheme() +\n",
    " scale_y_continuous(limits = c(0,NA)) +\n",
    "  theme(strip.background = element_blank(), panel.grid = element_blank()) + \n",
    "  theme(axis.text = element_text(color = \"black\"),\n",
    "        axis.text.x = element_text(angle = 90),\n",
    "       axis.line = element_line(color = \"black\", size = 0.5),\n",
    "        axis.ticks.x = element_blank()) + NoLegend() \n"
   ]
  },
  {
   "cell_type": "code",
   "execution_count": null,
   "id": "884b2f54",
   "metadata": {},
   "outputs": [],
   "source": [
    "ggsave(\"../figures/treg_validation/trajectory_max_density.svg\", width = 7.5, height = 9.5, units = \"cm\")"
   ]
  },
  {
   "cell_type": "code",
   "execution_count": null,
   "id": "abb1c120",
   "metadata": {},
   "outputs": [],
   "source": []
  },
  {
   "cell_type": "code",
   "execution_count": null,
   "id": "96b40f27",
   "metadata": {},
   "outputs": [],
   "source": [
    "treg_sub  <- subset(treg_no_integrated, Experiment_ID %in% c(\"Exp16\", \"Exp18\", \"Exp19\", \"Exp20\"))"
   ]
  },
  {
   "cell_type": "code",
   "execution_count": null,
   "id": "54161c51",
   "metadata": {},
   "outputs": [],
   "source": [
    "sce_filtered <- as.SingleCellExperiment(treg_sub)\n",
    "\n",
    "reducedDim(sce_filtered, \"PCA\", withDimnames=TRUE) <- treg_sub[['pca']]@cell.embeddings\n",
    "reducedDim(sce_filtered, \"UMAP\", withDimnames=TRUE) <- treg_sub[['umap']]@cell.embeddings"
   ]
  },
  {
   "cell_type": "code",
   "execution_count": null,
   "id": "df09ce39",
   "metadata": {},
   "outputs": [],
   "source": [
    "sce_filtered <- slingshot(sce_filtered, clusterLabels = 'seurat_clusters', reducedDim = 'UMAP')"
   ]
  },
  {
   "cell_type": "code",
   "execution_count": null,
   "id": "daeed259",
   "metadata": {},
   "outputs": [],
   "source": [
    "sce_filtered"
   ]
  },
  {
   "cell_type": "code",
   "execution_count": null,
   "id": "0e1a5b45",
   "metadata": {},
   "outputs": [],
   "source": [
    "pseudotime_test <- slingPseudotime(sce_filtered)"
   ]
  },
  {
   "cell_type": "code",
   "execution_count": null,
   "id": "d3b41dd8",
   "metadata": {
    "scrolled": true
   },
   "outputs": [],
   "source": [
    "pseudotime_test"
   ]
  },
  {
   "cell_type": "code",
   "execution_count": null,
   "id": "0aaf7b2a",
   "metadata": {},
   "outputs": [],
   "source": []
  },
  {
   "cell_type": "code",
   "execution_count": null,
   "id": "2fd67580",
   "metadata": {},
   "outputs": [],
   "source": [
    "df_p  <- data.frame(sling1 = sce$slingPseudotime_1\n",
    "                   sling1_ntile = ntile(sce$slingPseudotime_1, n = 10),\n",
    "                   sling2_ntile = ntile(sce$slingPseudotime_2, n = 10),\n",
    "                   sling3_ntile = ntile(sce$slingPseudotime_3, n = 10),\n",
    "                   sling4_ntile = ntile(sce$slingPseudotime_4, n = 10),\n",
    "                   sling5_ntile = ntile(sce$slingPseudotime_5, n = 10),\n",
    "                   clone_ntile = ntile(gut_cdn$clone_abundance, n = 10)\n",
    "                   )\n",
    "\n",
    "df_p  %>% \n",
    "dplyr::filter(!is.na(sling1_ntile) & !is.na(clone_ntile))  %>% \n",
    "group_by(sling1_ntile, clone_ntile)  %>% \n",
    "  summarise(n = n()) %>%\n",
    "  mutate(freq = n / sum(n))\n",
    "\n",
    "df_p  %>% \n",
    "dplyr::filter(!is.na(sling1_ntile) & !is.na(clone_ntile))  %>% \n",
    "group_by(sling1_ntile, clone_ntile)  %>% \n",
    "  summarise(n = n()) %>%\n",
    "  mutate(freq = n / sum(n))  %>% \n",
    "ggplot(aes(x = sling1_ntile, y = clone_ntile)) +\n",
    "geom_point(aes(size = freq*100, colour = freq*100)) + \n",
    "  theme_bw() + scale_size_continuous(range=c(7,12)) +\n",
    "  geom_text(aes(label = round(freq*100, digits = 1))) + \n",
    "  scale_colour_gradient2(low = \"lightskyblue\", mid = \"lightsteelblue2\", high = \"salmon\", midpoint = 2) "
   ]
  },
  {
   "cell_type": "code",
   "execution_count": null,
   "id": "acca8ee5",
   "metadata": {},
   "outputs": [],
   "source": [
    "scores <- imbalance_score(Object = df %>% select(Dim1, Dim2) %>% as.matrix(),\n",
    "                          conditions = df$conditions)\n",
    "df$scores <- scores$scores\n",
    "df$scaled_scores <- scores$scaled_scores"
   ]
  },
  {
   "cell_type": "code",
   "execution_count": null,
   "id": "1d6cb560",
   "metadata": {},
   "outputs": [],
   "source": [
    "df_p  <- data.frame(sling1 = sce$slingPseudotime_1, \n",
    "                  sling2 = sce$slingPseudotime_2,\n",
    "                 sling3 = sce$slingPseudotime_3,\n",
    "                  sling4 = sce$slingPseudotime_4,\n",
    "                  sling5 = sce$slingPseudotime_5,\n",
    "                 clone_ab = gut_cdn$clone_abundance,\n",
    "                 log_clone_ab = gut_cdn$log_clone_abundance,\n",
    "                   sling1_ntile = ntile(sce$slingPseudotime_1, n = 10),\n",
    "                   sling2_ntile = ntile(sce$slingPseudotime_2, n = 10),\n",
    "                   sling3_ntile = ntile(sce$slingPseudotime_3, n = 10),\n",
    "                   sling4_ntile = ntile(sce$slingPseudotime_4, n = 10),\n",
    "                   sling5_ntile = ntile(sce$slingPseudotime_5, n = 10),\n",
    "                   clone_ntile = ntile(gut_cdn$clone_abundance, n = 10)\n",
    "                   )\n",
    "\n",
    "df_p  %>% \n",
    "dplyr::filter(!is.na(sling1_ntile) & !is.na(clone_ntile))  %>% \n",
    "group_by(sling1_ntile, clone_ntile)  %>% \n",
    "  summarise(n = n()) %>%\n",
    "  mutate(freq = n / sum(n))\n",
    "\n",
    "df_p  %>% \n",
    "dplyr::filter(!is.na(sling1_ntile) & !is.na(clone_ntile))  %>% \n",
    "group_by(sling1_ntile, clone_ntile)  %>% \n",
    "  summarise(n = n()) %>%\n",
    "  mutate(freq = n / sum(n))  %>% \n",
    "ggplot(aes(x = sling1_ntile, y = clone_ntile)) +\n",
    "geom_point(aes(size = freq*100, colour = freq*100)) + \n",
    "  theme_bw() + scale_size_continuous(range=c(7,12)) +\n",
    "  geom_text(aes(label = round(freq*100, digits = 1))) + \n",
    "  scale_colour_gradient2(low = \"lightskyblue\", mid = \"lightsteelblue2\", high = \"salmon\", midpoint = 2) "
   ]
  },
  {
   "cell_type": "code",
   "execution_count": null,
   "id": "35de711e",
   "metadata": {},
   "outputs": [],
   "source": []
  },
  {
   "cell_type": "markdown",
   "id": "b31c6243",
   "metadata": {},
   "source": [
    "# Gene correlation"
   ]
  },
  {
   "cell_type": "code",
   "execution_count": null,
   "id": "6a0ddf90",
   "metadata": {},
   "outputs": [],
   "source": [
    "md_cpept  <- read_xlsx(\"../data/metadata_v07.xlsx\")  %>% \n",
    "mutate(Patient_Time = paste(patient, time_taken))  %>% \n",
    "       dplyr::select(Patient_Time, fasting_cpept_T1, fasting_cpept_1, c_peptide_change)  %>% unique\n",
    "\n",
    "md_cpept   <- md_cpept  %>% mutate(group = substr(Patient_Time,1,1))  %>% filter(group == 1)"
   ]
  },
  {
   "cell_type": "code",
   "execution_count": null,
   "id": "c7dd4674",
   "metadata": {
    "scrolled": true
   },
   "outputs": [],
   "source": [
    "md_cpept$Patient_Time  <- paste0(\"g\", md_cpept$Patient_Time)"
   ]
  },
  {
   "cell_type": "code",
   "execution_count": null,
   "id": "69336935",
   "metadata": {},
   "outputs": [],
   "source": [
    "treg"
   ]
  },
  {
   "cell_type": "code",
   "execution_count": null,
   "id": "974cfdf0",
   "metadata": {},
   "outputs": [],
   "source": [
    "ds_mtx  <- AverageExpression(treg, group.by = \"Patient_Time\", return.seurat = F, assays = \"RNA\",\n",
    "                            features = c(\"IL10RA\",\"IL4R\"))"
   ]
  },
  {
   "cell_type": "code",
   "execution_count": null,
   "id": "041cf76f",
   "metadata": {},
   "outputs": [],
   "source": [
    "ds_mtx$RNA"
   ]
  },
  {
   "cell_type": "code",
   "execution_count": null,
   "id": "af122a89",
   "metadata": {
    "scrolled": true
   },
   "outputs": [],
   "source": [
    "rna  <- ds_mtx$RNA  %>% \n",
    "as.data.frame()  %>% \n",
    "rownames_to_column(\"gene\")  %>% \n",
    "pivot_longer(!gene, names_to = \"Patient_Time\", values_to = \"expression\")  %>% \n",
    " left_join(md_cpept)  "
   ]
  },
  {
   "cell_type": "code",
   "execution_count": null,
   "id": "7987ab2f",
   "metadata": {
    "scrolled": true
   },
   "outputs": [],
   "source": [
    "rna"
   ]
  },
  {
   "cell_type": "code",
   "execution_count": null,
   "id": "8f6f4933",
   "metadata": {},
   "outputs": [],
   "source": [
    "calc_one_pop  <- function(select_gene){\n",
    "    \n",
    "    df  <- rna  %>% dplyr::filter(gene == select_gene)\n",
    "    cor  <- cor.test(df$expression, df$fasting_cpept_1)\n",
    "    res_df  <- data.frame(gene = select_gene,\n",
    "                           cor = cor$estimate, \n",
    "                          pval = cor$p.value, \n",
    "                         padj  = ifelse(cor$p.value*2>1,1,cor$p.value*2))\n",
    "    return(res_df)\n",
    "}\n"
   ]
  },
  {
   "cell_type": "code",
   "execution_count": null,
   "id": "f9db784d",
   "metadata": {},
   "outputs": [],
   "source": [
    "calc_one_pop(\"IL10RA\")"
   ]
  },
  {
   "cell_type": "code",
   "execution_count": null,
   "id": "f31f2589",
   "metadata": {},
   "outputs": [],
   "source": [
    "df  <- rna  %>% dplyr::filter(gene == \"IL10RA\")\n",
    "p <- df %>%  \n",
    " ggplot(aes(x=expression, y=fasting_cpept_T1)) +\n",
    " geom_point(shape = 16, size = 2) +\n",
    " geom_smooth(method=lm, alpha = 0.2) + ggtitle(paste(\"IL10RA\", \"in\", \"Treg\")) + \n",
    "stat_cor(size = 7) + theme_classic() + ggtheme()\n",
    "print(p)\n",
    "\n",
    "#ggsave(filename = paste0(\"../figures/correlation_populations/IL10RinTreg.svg\"), width = 9, height = 4)\n"
   ]
  },
  {
   "cell_type": "code",
   "execution_count": null,
   "id": "a6640870",
   "metadata": {},
   "outputs": [],
   "source": [
    "df  <- rna  %>% dplyr::filter(gene == \"IL4R\")\n",
    "p <- df %>%  \n",
    " ggplot(aes(x=expression, y=fasting_cpept_T1)) +\n",
    " geom_point(shape = 16, size = 2) +\n",
    " geom_smooth(method=lm, alpha = 0.2) + ggtitle(paste(\"IL4R\", \"in\", \"Treg\")) + \n",
    "stat_cor(size = 7) + theme_classic() + ggtheme()\n",
    "print(p)\n",
    "\n",
    "#ggsave(filename = paste0(\"../figures/correlation_populations/IL4RRinTreg.svg\"), width = 4.5, height = 4)\n"
   ]
  },
  {
   "cell_type": "markdown",
   "id": "66716269",
   "metadata": {},
   "source": [
    "# GSEA"
   ]
  },
  {
   "cell_type": "markdown",
   "id": "bff09043",
   "metadata": {},
   "source": [
    "## GSEA - Zemmour et al. IPEX"
   ]
  },
  {
   "cell_type": "code",
   "execution_count": null,
   "id": "3914ee99",
   "metadata": {},
   "outputs": [],
   "source": [
    "fc.df  <- read_csv(\"../../240218_VN_Diabetes_V05/tables/fold_change/cd4_l3_treg.csv\")  %>% as.data.frame()\n"
   ]
  },
  {
   "cell_type": "code",
   "execution_count": null,
   "id": "0d139ed7",
   "metadata": {
    "scrolled": true
   },
   "outputs": [],
   "source": [
    "fc.df"
   ]
  },
  {
   "cell_type": "code",
   "execution_count": null,
   "id": "de2f98df",
   "metadata": {},
   "outputs": [],
   "source": [
    "zemmour  <- read_xlsx(\"../../240218_VN_Diabetes_V05/data/published_data/Zemmour_2018/zemmour2.xlsx\")"
   ]
  },
  {
   "cell_type": "markdown",
   "id": "8d39676b",
   "metadata": {},
   "source": [
    "zemmour is ipex vs healthy"
   ]
  },
  {
   "cell_type": "code",
   "execution_count": null,
   "id": "d02e3868",
   "metadata": {
    "scrolled": true
   },
   "outputs": [],
   "source": [
    "fc.df  %>% dplyr::filter(cluster == \"Dia\")  %>% left_join(zemmour) "
   ]
  },
  {
   "cell_type": "code",
   "execution_count": null,
   "id": "a01b7df3",
   "metadata": {},
   "outputs": [],
   "source": [
    "ipex_in_our  <- fc.df  %>% dplyr::filter(cluster == \"Dia\")  %>% left_join(zemmour)  %>% \n",
    "dplyr::filter(!is.na(Average_FC_in_Treg))"
   ]
  },
  {
   "cell_type": "code",
   "execution_count": null,
   "id": "b13d287d",
   "metadata": {
    "scrolled": true
   },
   "outputs": [],
   "source": [
    "ipex_in_our"
   ]
  },
  {
   "cell_type": "code",
   "execution_count": null,
   "id": "5224abd3",
   "metadata": {},
   "outputs": [],
   "source": [
    "treg_ipex_up  <- ipex_in_our  %>% dplyr::filter(Average_FC_in_Treg>1)  %>% pull(gene)"
   ]
  },
  {
   "cell_type": "code",
   "execution_count": null,
   "id": "b1893573",
   "metadata": {},
   "outputs": [],
   "source": [
    "treg_ipex_down  <- ipex_in_our  %>% dplyr::filter(Average_FC_in_Treg<1)  %>% pull(gene)"
   ]
  },
  {
   "cell_type": "code",
   "execution_count": null,
   "id": "1f5ff573",
   "metadata": {},
   "outputs": [],
   "source": [
    "# CD4L1\n",
    "fc.df  <- read_csv(\"../../240218_VN_Diabetes_V05/tables/fold_change/cd4_l3_treg.csv\")  %>% as.data.frame()\n",
    "fc.df  <- fc.df  %>%  arrange(desc(avg_log2FC)) %>% \n",
    "dplyr::filter(cluster == \"Dia\")  %>% \n",
    "  dplyr::select(gene, avg_log2FC)\n",
    "ranks<- deframe(fc.df)"
   ]
  },
  {
   "cell_type": "code",
   "execution_count": null,
   "id": "d7c186f0",
   "metadata": {},
   "outputs": [],
   "source": [
    "library(fgsea)"
   ]
  },
  {
   "cell_type": "code",
   "execution_count": null,
   "id": "929e7d4a",
   "metadata": {},
   "outputs": [],
   "source": [
    "options(repr.plot.width = 5, repr.plot.height = 3)\n",
    "\n",
    "p  <- plotEnrichment(treg_ipex_up,\n",
    "               ranks) + labs(title=\"treg_ipex_up\") + ylim(-0.7,0.7) + ggtheme() +\n",
    "\n",
    "plotEnrichment(treg_ipex_down,\n",
    "               ranks) + labs(title=\"treg_ipex_down\") + ylim(-0.7,0.7) + ggtheme()\n"
   ]
  },
  {
   "cell_type": "code",
   "execution_count": null,
   "id": "99c855ea",
   "metadata": {},
   "outputs": [],
   "source": [
    "p"
   ]
  },
  {
   "cell_type": "code",
   "execution_count": null,
   "id": "3f53b0ea",
   "metadata": {},
   "outputs": [],
   "source": [
    "dir.create(\"../figures/gsea/\")"
   ]
  },
  {
   "cell_type": "code",
   "execution_count": null,
   "id": "6b0526b0",
   "metadata": {},
   "outputs": [],
   "source": [
    "ggsave(p, filename = paste0(\"../figures/gsea/treg_zemmour.svg\"), width = 24, height = 12, units = \"cm\")"
   ]
  },
  {
   "cell_type": "code",
   "execution_count": null,
   "id": "0073a829",
   "metadata": {},
   "outputs": [],
   "source": []
  },
  {
   "cell_type": "code",
   "execution_count": null,
   "id": "f05ded98",
   "metadata": {},
   "outputs": [],
   "source": [
    "fgseaRes <- fgsea(pathways = list(treg_ipex_up = treg_ipex_up, treg_ipex_down = treg_ipex_down), \n",
    "                 stats = ranks)"
   ]
  },
  {
   "cell_type": "code",
   "execution_count": null,
   "id": "5ae1edd4",
   "metadata": {},
   "outputs": [],
   "source": [
    "fgseaRes"
   ]
  },
  {
   "cell_type": "code",
   "execution_count": null,
   "id": "b1ddc8b3",
   "metadata": {
    "scrolled": true
   },
   "outputs": [],
   "source": [
    "ipex_in_our"
   ]
  },
  {
   "cell_type": "code",
   "execution_count": null,
   "id": "62bedefa",
   "metadata": {},
   "outputs": [],
   "source": [
    "ipex_in_our_rank  <- ipex_in_our  %>% dplyr::select(avg_log2FC, Average_FC_in_Treg)  %>% \n",
    "mutate_each(funs(dense_rank(-.))) "
   ]
  },
  {
   "cell_type": "code",
   "execution_count": null,
   "id": "2fb9c896",
   "metadata": {
    "scrolled": true
   },
   "outputs": [],
   "source": [
    "ipex_in_our_rank$gene  <- ipex_in_our$gene"
   ]
  },
  {
   "cell_type": "code",
   "execution_count": null,
   "id": "359be6cf",
   "metadata": {
    "scrolled": true
   },
   "outputs": [],
   "source": [
    "ipex_in_our_rank"
   ]
  },
  {
   "cell_type": "code",
   "execution_count": null,
   "id": "12d3e54f",
   "metadata": {
    "scrolled": true
   },
   "outputs": [],
   "source": [
    "ipex_in_our_rank %>% mutate(decile_ipex = ntile(Average_FC_in_Treg, 10),\n",
    "                            dec_our = ntile(avg_log2FC, 10)\n",
    "                            )  %>% group_by(decile_ipex, dec_our)  %>% tally"
   ]
  },
  {
   "cell_type": "code",
   "execution_count": null,
   "id": "ce60fd6a",
   "metadata": {
    "scrolled": true
   },
   "outputs": [],
   "source": [
    "ipex_in_our_rank"
   ]
  },
  {
   "cell_type": "code",
   "execution_count": null,
   "id": "1d79bd31",
   "metadata": {},
   "outputs": [],
   "source": [
    "\n",
    "options(repr.plot.width = 6, repr.plot.height = 5)\n",
    "ipex_in_our_rank %>% mutate(decile_ipex = ntile(Average_FC_in_Treg, 8),\n",
    "                            dec_our = ntile(avg_log2FC, 8)\n",
    "                            )  %>% group_by(decile_ipex, dec_our)  %>% tally  %>% \n",
    "ggplot(aes(decile_ipex, dec_our)) + \n",
    "  geom_point(aes(size = n, colour = n)) + \n",
    "  theme_bw() + scale_size_continuous(range=c(7,12)) +\n",
    "scale_y_reverse()+\n",
    "scale_x_reverse()+\n",
    "coord_flip()+\n",
    "  geom_text(aes(label = n), size = 5) + \n",
    "  scale_colour_gradient2(low = \"lightskyblue\", mid = \"lightsteelblue2\", high = \"#B07AA1\", midpoint = 2) +\n",
    "  theme_bw() + ggtheme()\n",
    "\n",
    "ggsave(\"../figures/gsea/zemmour_treg_genes_corr.svg\", width = 13, height = 11, units = \"cm\")"
   ]
  },
  {
   "cell_type": "code",
   "execution_count": null,
   "id": "33cb0d87",
   "metadata": {},
   "outputs": [],
   "source": [
    "ipex_in_our_rank %>% mutate(decile_ipex = ntile(Average_FC_in_Treg, 8),\n",
    "                            decile_our = ntile(avg_log2FC, 8)\n",
    "                            )  %>% dplyr::filter(decile_ipex == 8 & decile_our == 8)  %>% pull(gene)"
   ]
  },
  {
   "cell_type": "markdown",
   "id": "6a0b1647",
   "metadata": {},
   "source": [
    "## GSEA - Borna et al. IPEX\n"
   ]
  },
  {
   "cell_type": "code",
   "execution_count": null,
   "id": "49edcbb7",
   "metadata": {},
   "outputs": [],
   "source": [
    "borna  <- readRDS(\"../../240218_VN_Diabetes_V05/data/published_data/Borna_2023/GSE247274_unstim.rds\")"
   ]
  },
  {
   "cell_type": "code",
   "execution_count": null,
   "id": "c10793d6",
   "metadata": {},
   "outputs": [],
   "source": [
    "DimPlot(borna)"
   ]
  },
  {
   "cell_type": "code",
   "execution_count": null,
   "id": "97176df9",
   "metadata": {},
   "outputs": [],
   "source": [
    "borna$Gated_and_FOXP3  %>% table"
   ]
  },
  {
   "cell_type": "code",
   "execution_count": null,
   "id": "207b8c57",
   "metadata": {},
   "outputs": [],
   "source": [
    "borna$Gated_and_FOXP3  %>% table"
   ]
  },
  {
   "cell_type": "code",
   "execution_count": null,
   "id": "07aa7d8f",
   "metadata": {},
   "outputs": [],
   "source": [
    "borna$cluster_names_mem  %>% table"
   ]
  },
  {
   "cell_type": "code",
   "execution_count": null,
   "id": "4d3b1670",
   "metadata": {},
   "outputs": [],
   "source": [
    "DimPlot(borna, group.by = \"status\")"
   ]
  },
  {
   "cell_type": "code",
   "execution_count": null,
   "id": "d41bea2a",
   "metadata": {},
   "outputs": [],
   "source": [
    "DimPlot(borna, group.by = \"Gated_and_FOXP3\")"
   ]
  },
  {
   "cell_type": "markdown",
   "id": "7d9a175a",
   "metadata": {},
   "source": [
    "### Cells clustering as Tregs"
   ]
  },
  {
   "cell_type": "code",
   "execution_count": null,
   "id": "0000b044",
   "metadata": {},
   "outputs": [],
   "source": [
    "borna_treg  <- subset(borna, cluster_names_mem %in% c(\"Treg memory 2\", \"Treg memory 1\", \"Treg naive\"))"
   ]
  },
  {
   "cell_type": "code",
   "execution_count": null,
   "id": "e7f5ca02",
   "metadata": {},
   "outputs": [],
   "source": [
    "Idents(borna_treg)  <- borna_treg$status\n",
    "    mrk  <- FindAllMarkers(borna_treg)"
   ]
  },
  {
   "cell_type": "code",
   "execution_count": null,
   "id": "34b8b49c",
   "metadata": {
    "scrolled": true
   },
   "outputs": [],
   "source": [
    "borna_hd_genes  <- mrk  %>% dplyr::filter(avg_log2FC>0 & cluster == \"HD\")  %>% pull(gene)"
   ]
  },
  {
   "cell_type": "code",
   "execution_count": null,
   "id": "2ab45432",
   "metadata": {},
   "outputs": [],
   "source": [
    "borna_hd_genes  %>% length"
   ]
  },
  {
   "cell_type": "code",
   "execution_count": null,
   "id": "2cceb974",
   "metadata": {},
   "outputs": [],
   "source": [
    "borna_ipex_genes  <- mrk  %>% dplyr::filter(avg_log2FC>0 & cluster == \"IPEX\")  %>% pull(gene) "
   ]
  },
  {
   "cell_type": "code",
   "execution_count": null,
   "id": "d76c5832",
   "metadata": {},
   "outputs": [],
   "source": [
    "borna_ipex_genes  %>% length"
   ]
  },
  {
   "cell_type": "code",
   "execution_count": null,
   "id": "0b050d3b",
   "metadata": {},
   "outputs": [],
   "source": [
    "fc.df  <- read_csv(\"../../240218_VN_Diabetes_V05/tables/fold_change/cd4_l3_treg.csv\")  %>% as.data.frame()\n",
    "fc.df  <- fc.df  %>%  arrange(desc(avg_log2FC)) %>% \n",
    "dplyr::filter(cluster == \"Dia\")  %>% \n",
    "  dplyr::select(gene, avg_log2FC)\n",
    "ranks<- deframe(fc.df)\n"
   ]
  },
  {
   "cell_type": "code",
   "execution_count": null,
   "id": "6c153f0a",
   "metadata": {},
   "outputs": [],
   "source": [
    "fgsea_bulk <- fgsea(pathways = list(Borna_UP_in_Ctrl = borna_hd_genes,\n",
    "                                    Borna_UP_in_IPEX = borna_ipex_genes\n",
    "                                    ), \n",
    "                                      stats    = ranks)\n",
    "fgsea_bulk"
   ]
  },
  {
   "cell_type": "code",
   "execution_count": null,
   "id": "b42d9a7a",
   "metadata": {},
   "outputs": [],
   "source": [
    "fgsea_bulk$leadingEdge"
   ]
  },
  {
   "cell_type": "code",
   "execution_count": null,
   "id": "b44e21cb",
   "metadata": {},
   "outputs": [],
   "source": [
    "options(repr.plot.width = 5, repr.plot.height = 3)\n",
    "\n",
    "p  <- plotEnrichment(borna_hd_genes,\n",
    "               ranks) + labs(title=\"borna_hd_genes\") + ylim(-0.7,0.7) + ggtheme() +\n",
    "\n",
    "plotEnrichment(borna_ipex_genes,\n",
    "               ranks) + labs(title=\"borna_ipex_genes\") + ylim(-0.7,0.7) + ggtheme()\n",
    "\n",
    "\n",
    "p\n",
    "\n",
    "dir.create(\"../figures/gsea/\")\n",
    "\n",
    "ggsave(p, filename = paste0(\"../figures/gsea/treg_borna.svg\"), width = 24, height = 12, units = \"cm\")"
   ]
  },
  {
   "cell_type": "markdown",
   "id": "893668ec",
   "metadata": {},
   "source": [
    "### Only cells sorted as Tregs"
   ]
  },
  {
   "cell_type": "code",
   "execution_count": null,
   "id": "31977be1",
   "metadata": {},
   "outputs": [],
   "source": [
    "options(repr.plot.width = 10, repr.plot.height = 6)\n",
    "\n",
    "DimPlot(borna, group.by = \"Gated_and_FOXP3\")"
   ]
  },
  {
   "cell_type": "code",
   "execution_count": null,
   "id": "1ea6732f",
   "metadata": {},
   "outputs": [],
   "source": [
    "options(repr.plot.width = 16, repr.plot.height = 12)\n",
    "\n",
    "DimPlot(borna, group.by = \"cluster_names_mem\", split.by = \"Gated_and_FOXP3\", ncol = 3)"
   ]
  },
  {
   "cell_type": "code",
   "execution_count": null,
   "id": "e0f3454e",
   "metadata": {},
   "outputs": [],
   "source": [
    "borna_treg  <- subset(borna, Gated_and_FOXP3 %in% c(\"FOXP3_plus_Treg\", \"FOXP3_minus_Treg\"))"
   ]
  },
  {
   "cell_type": "code",
   "execution_count": null,
   "id": "ff68887b",
   "metadata": {},
   "outputs": [],
   "source": [
    "Idents(borna_treg)  <- borna_treg$status\n",
    "    mrk  <- FindAllMarkers(borna_treg)"
   ]
  },
  {
   "cell_type": "code",
   "execution_count": null,
   "id": "8332f7e4",
   "metadata": {
    "scrolled": true
   },
   "outputs": [],
   "source": [
    "borna_hd_genes  <- mrk  %>% dplyr::filter(avg_log2FC>0 & cluster == \"HD\")  %>% pull(gene)"
   ]
  },
  {
   "cell_type": "code",
   "execution_count": null,
   "id": "73f38a91",
   "metadata": {},
   "outputs": [],
   "source": [
    "borna_ipex_genes  <- mrk  %>% dplyr::filter(avg_log2FC>0 & cluster == \"IPEX\")  %>% pull(gene)"
   ]
  },
  {
   "cell_type": "code",
   "execution_count": null,
   "id": "1b37684a",
   "metadata": {},
   "outputs": [],
   "source": [
    "fc.df  <- read_csv(\"../../240218_VN_Diabetes_V05/tables/fold_change/cd4_l3_treg.csv\")  %>% as.data.frame()\n",
    "fc.df  <- fc.df  %>%  arrange(desc(avg_log2FC)) %>% \n",
    "dplyr::filter(cluster == \"Dia\")  %>% \n",
    "  dplyr::select(gene, avg_log2FC)\n",
    "ranks<- deframe(fc.df)\n"
   ]
  },
  {
   "cell_type": "code",
   "execution_count": null,
   "id": "6a53990f",
   "metadata": {},
   "outputs": [],
   "source": [
    "fgsea_bulk <- fgsea(pathways = list(Borna_UP_in_Ctrl = borna_hd_genes,\n",
    "                                    Borna_UP_in_IPEX = borna_ipex_genes\n",
    "                                    ), \n",
    "                                      stats    = ranks)\n",
    "fgsea_bulk"
   ]
  },
  {
   "cell_type": "code",
   "execution_count": null,
   "id": "a49f1d75",
   "metadata": {},
   "outputs": [],
   "source": [
    "fgsea_bulk$leadingEdge"
   ]
  },
  {
   "cell_type": "code",
   "execution_count": null,
   "id": "5252df16",
   "metadata": {},
   "outputs": [],
   "source": [
    "options(repr.plot.width = 5, repr.plot.height = 3)\n",
    "\n",
    "p  <- plotEnrichment(borna_hd_genes,\n",
    "               ranks) + labs(title=\"borna_hd_genes\") + ylim(-0.7,0.7) + ggtheme() +\n",
    "\n",
    "plotEnrichment(borna_ipex_genes,\n",
    "               ranks) + labs(title=\"borna_ipex_genes\") + ylim(-0.7,0.7) + ggtheme()\n",
    "\n",
    "\n",
    "p"
   ]
  },
  {
   "cell_type": "code",
   "execution_count": null,
   "id": "49039a2a",
   "metadata": {},
   "outputs": [],
   "source": [
    "ggsave(p, filename = paste0(\"../figures/gsea/treg_borna.svg\"), width = 24, height = 12, units = \"cm\")"
   ]
  },
  {
   "cell_type": "markdown",
   "id": "346edc55",
   "metadata": {},
   "source": [
    "# Analysis of Treg cells from HPAP"
   ]
  },
  {
   "cell_type": "code",
   "execution_count": null,
   "id": "3a1b1738",
   "metadata": {},
   "outputs": [],
   "source": [
    "treg_hpap_spleen  <- readRDS(\"../data/published_data/HPAP/240623_treg_hpap_spleen_stacas_v06.rds\")"
   ]
  },
  {
   "cell_type": "code",
   "execution_count": null,
   "id": "71d8d4ae",
   "metadata": {},
   "outputs": [],
   "source": [
    "DimPlot(treg_hpap_spleen)"
   ]
  },
  {
   "cell_type": "markdown",
   "id": "57f928e3",
   "metadata": {},
   "source": [
    "### Density"
   ]
  },
  {
   "cell_type": "code",
   "execution_count": null,
   "id": "df11e53b",
   "metadata": {},
   "outputs": [],
   "source": [
    "density  <- treg_hpap_spleen@meta.data  %>% dplyr::select(Patient_ID, Disease)\n",
    "\n",
    "density$x_umap  <- treg_hpap_spleen@reductions$umap@cell.embeddings[,1]\n",
    "density$y_umap  <- treg_hpap_spleen@reductions$umap@cell.embeddings[,2]\n",
    "\n",
    "\n",
    "library(ggplot2)\n",
    "library(dplyr)\n",
    "library(viridis)\n",
    "\n",
    "colfunc <- colorRampPalette(c(\"white\", \"grey85\",\"grey75\",\"dodgerblue\",\"green\",\"yellow\",\"red\"))\n"
   ]
  },
  {
   "cell_type": "code",
   "execution_count": null,
   "id": "334e9620",
   "metadata": {},
   "outputs": [],
   "source": [
    "options(repr.plot.width = 10, repr.plot.height = 5)\n",
    "\n",
    "p1  <- density %>%\n",
    "filter(Disease == \"T1DM\")  %>% \n",
    "  ggplot(aes(x=x_umap, y= y_umap)) + \n",
    " geom_point(shape = \"\")  + geom_density_2d_filled(bins = 30)  + \n",
    "theme_classic() + ggtheme() +\n",
    "xlim(-10,10)+  ylim(-5,5) +\n",
    "scale_fill_manual(values = colfunc(30))  + \n",
    "ggtitle(\"T1DM\") + NoLegend()\n",
    "\n",
    "p2   <-   density %>%\n",
    "filter(Disease == \"Ctrl\")  %>% \n",
    "  ggplot(aes(x=x_umap, y= y_umap)) + \n",
    " geom_point(shape = \"\")  + geom_density_2d_filled(bins = 30)  + \n",
    "theme_classic() + ggtheme() +\n",
    "xlim(-10,10)+  ylim(-5,5) +\n",
    "scale_fill_manual(values = colfunc(30))  + \n",
    "ggtitle(\"Ctrl\") + NoLegend()\n",
    "\n",
    "\n",
    "p1 + p2"
   ]
  },
  {
   "cell_type": "code",
   "execution_count": null,
   "id": "84433ca9",
   "metadata": {},
   "outputs": [],
   "source": [
    "DefaultAssay(treg_hpap_spleen)  <- 'integrated'"
   ]
  },
  {
   "cell_type": "code",
   "execution_count": null,
   "id": "7461dee0",
   "metadata": {},
   "outputs": [],
   "source": [
    "treg_hpap_spleen <- FindClusters(treg_hpap_spleen, resolution = 0.1)"
   ]
  },
  {
   "cell_type": "code",
   "execution_count": null,
   "id": "2baee812",
   "metadata": {},
   "outputs": [],
   "source": [
    "options(repr.plot.width = 6, repr.plot.height = 4.5)\n",
    "DimPlot(treg_hpap_spleen, group.by = \"seurat_clusters\") + ggtitle(\"\")"
   ]
  },
  {
   "cell_type": "code",
   "execution_count": null,
   "id": "d2774512",
   "metadata": {},
   "outputs": [],
   "source": [
    "library(ragg)"
   ]
  },
  {
   "cell_type": "code",
   "execution_count": null,
   "id": "f9e37f3c",
   "metadata": {},
   "outputs": [],
   "source": [
    "DimPlot(treg_hpap_spleen, group.by = \"seurat_clusters\") + ggtitle(\"\") +\n",
    "theme(axis.text.x = element_blank(),\n",
    "        axis.text.y = element_blank(),\n",
    "        plot.title = element_text(hjust = 0.5, face = \"italic\"),\n",
    "        \n",
    "        axis.title = element_blank(),\n",
    "        axis.line = element_blank(), \n",
    "        axis.ticks = element_blank()) +\n",
    "  NoLegend()\n",
    "\n",
    "ggsave(\"../figures/treg_hpap_dimplot.png\", width = 9, height = 7, units = \"cm\")\n",
    "ggsave(\"../figures/treg_hpap_dimplot.svg\", width = 9, height = 7, units = \"cm\")"
   ]
  },
  {
   "cell_type": "code",
   "execution_count": null,
   "id": "e352e038",
   "metadata": {},
   "outputs": [],
   "source": [
    "options(repr.plot.width = 8, repr.plot.height = 5)\n",
    "\n",
    "seurat_meta_data <- treg_hpap_spleen@meta.data\n",
    "seurat_meta_data$sample  <- seurat_meta_data$source\n",
    "seurat_meta_data$sample  <- paste(seurat_meta_data$Patient_ID, seurat_meta_data$Tissue) \n",
    "\n",
    "# Create grouped dataframe, calculate the frequencies of clusters\n",
    "df4 <- seurat_meta_data %>% group_by(sample, seurat_clusters) %>% \n",
    "  summarise(n = n()) %>% \n",
    "  unique() %>% \n",
    "  mutate(freq = n / sum(n)) \n",
    "\n",
    "\n",
    "# As we've lost non-grouping variables, let's join them back\n",
    "md_to_join <- seurat_meta_data %>% dplyr::select(sample, Disease, Patient_ID, Tissue) %>% unique()\n",
    "df4  <- left_join(df4, md_to_join, by = \"sample\")"
   ]
  },
  {
   "cell_type": "code",
   "execution_count": null,
   "id": "22f79672",
   "metadata": {},
   "outputs": [],
   "source": [
    "options(repr.plot.width = 6, repr.plot.height = 4)\n",
    "\n",
    "seurat_meta_data <- treg_hpap_spleen@meta.data\n",
    "seurat_meta_data$sample  <- seurat_meta_data$source\n",
    "seurat_meta_data$sample  <- paste(seurat_meta_data$Patient_ID, seurat_meta_data$Tissue) \n",
    "\n",
    "# Create grouped dataframe, calculate the frequencies of clusters\n",
    "df4 <- seurat_meta_data %>% group_by(sample, seurat_clusters) %>% \n",
    "  summarise(n = n()) %>% \n",
    "  unique() %>% \n",
    "  mutate(freq = n / sum(n)) \n",
    "\n",
    "\n",
    "# As we've lost non-grouping variables, let's join them back\n",
    "md_to_join <- seurat_meta_data %>% dplyr::select(sample, Disease, Patient_ID, Tissue) %>% unique()\n",
    "df4  <- left_join(df4, md_to_join, by = \"sample\")\n",
    "\n",
    "# The final plot\n",
    "\n",
    "df4 %>% ggplot(aes(x = Disease, y = freq*100)) + # you can change the x to whatever variable you're interested in\n",
    " geom_violin(alpha = 0.3, aes(fill = Disease)) +\n",
    "  stat_summary(fun = \"median\",\n",
    "               geom = \"crossbar\", \n",
    "               width = 0.75,\n",
    "               color = \"grey30\") +\n",
    "   scale_fill_manual(values = c(\"#1874cdff\",  \"#ee6363ff\", \"#c41515ff\",\"#eeb4b4ff\")) +\n",
    "scale_color_manual(values = c(\"dodgerblue3\",  \"#e54c4cff\", \"#aa2a2aff\",\"#e88989ff\")) +\n",
    "geom_beeswarm(size = 3, cex = 3, \n",
    "              color = \"black\", method = \"center\",\n",
    "             aes(fill = Disease), shape = 21) +  \n",
    "facet_wrap(~seurat_clusters, scales = \"free\") +\n",
    "scale_color_manual(values = c(\"dodgerblue\",\"indianred2\")) +\n",
    "scale_fill_manual(values = c(\"dodgerblue\",\"indianred2\")) +\n",
    "\n",
    "  ylab(\"Frequency\") +\n",
    "  xlab(\"Condition\") +\n",
    "ggpubr::stat_compare_means(label = \"p.format\", size = 5) +\n",
    "  ylim(c(0,NA)) + # This ensures that our x axis starts at zero, but feel free to remove this line\n",
    "  theme_classic() +\n",
    "  theme(strip.background = element_blank(), panel.grid = element_blank()) + NoLegend() +ggtheme() \n"
   ]
  },
  {
   "cell_type": "code",
   "execution_count": null,
   "id": "2db3243d",
   "metadata": {},
   "outputs": [],
   "source": [
    "ggsave(\"../figures/subset_characterization/treg_HPAP_violin.svg\",\n",
    "       width = 14, height = 8, units = \"cm\")"
   ]
  },
  {
   "cell_type": "code",
   "execution_count": null,
   "id": "fc453cfd",
   "metadata": {},
   "outputs": [],
   "source": [
    "options(repr.plot.width = 8, repr.plot.height = 5)\n",
    "\n",
    "seurat_meta_data <- treg_hpap_spleen@meta.data\n",
    "seurat_meta_data$sample  <- seurat_meta_data$source\n",
    "seurat_meta_data$sample  <- paste(seurat_meta_data$Patient_ID, seurat_meta_data$Tissue) \n",
    "\n",
    "# Create grouped dataframe, calculate the frequencies of clusters\n",
    "df4 <- seurat_meta_data %>% group_by(sample, seurat_clusters2) %>% \n",
    "  summarise(n = n()) %>% \n",
    "  unique() %>% \n",
    "  mutate(freq = n / sum(n)) \n",
    "\n",
    "\n",
    "# As we've lost non-grouping variables, let's join them back\n",
    "md_to_join <- seurat_meta_data %>% dplyr::select(sample, Disease, Patient_ID, Tissue) %>% unique()\n",
    "df4  <- left_join(df4, md_to_join, by = \"sample\")\n",
    "\n",
    "# The final plot\n",
    "\n",
    "df4 %>% ggplot(aes(x = Disease, y = freq*100)) + # you can change the x to whatever variable you're interested in\n",
    "  geom_boxplot(outlier.shape = NA, alpha = 0.7, aes(fill = Disease)) + \n",
    "  geom_dotplot(binaxis='y', stackdir='center', dotsize=0) + \n",
    "  geom_jitter(position=position_jitter(0.05), size = 3, aes(fill = Disease), shape = 21) + # in aes, you can also use shape or fill (for the shapes that allow it)\n",
    "  facet_wrap(~seurat_clusters2, scales = \"free\", ncol = 4) +\n",
    "scale_color_manual(values = c(\"dodgerblue\",\"indianred2\")) +\n",
    "scale_fill_manual(values = c(\"dodgerblue\",\"indianred2\")) +\n",
    "\n",
    "  ylab(\"Frequency\") +\n",
    "  xlab(\"Condition\") +\n",
    "ggpubr::stat_compare_means(label = \"p.format\", size = 5) +\n",
    "  ylim(c(0,NA)) + # This ensures that our x axis starts at zero, but feel free to remove this line\n",
    "  theme_classic() +\n",
    "  theme(strip.background = element_blank(), panel.grid = element_blank()) + NoLegend() +ggtheme() \n"
   ]
  },
  {
   "cell_type": "code",
   "execution_count": null,
   "id": "c2087acd",
   "metadata": {},
   "outputs": [],
   "source": [
    "\n",
    "df4 %>% \n",
    "mutate(Disease = ifelse(Disease == \"Ctrl\", \"Ctrl\",\"Dia\"))  %>% \n",
    "ggplot(aes(x = Disease, y = freq*100)) + # you can change the x to whatever variable you're interested in\n",
    "  geom_boxplot(outlier.shape = NA, alpha = 0.3, aes(fill = Disease)) + \n",
    "  geom_dotplot(binaxis='y', stackdir='center', dotsize=0) + \n",
    "geom_beeswarm(size = 3, cex = 3, \n",
    "              color = \"black\", method = \"center\",\n",
    "             aes(fill = Disease), shape = 21) +\n",
    "facet_wrap(~seurat_clusters2, scales = \"free\", ncol = 5) +\n",
    "   scale_fill_manual(values = c(\"#1874cdff\",  \"#ee6363ff\", \"#c41515ff\",\"#eeb4b4ff\")) +\n",
    "scale_color_manual(values = c(\"dodgerblue3\",  \"#e54c4cff\", \"#aa2a2aff\",\"#e88989ff\")) +\n",
    "  ylab(\"Frequency\") +\n",
    "  xlab(\"Condition\") +\n",
    "#ggpubr::stat_compare_means() +\n",
    "  ylim(c(0,NA)) + # This ensures that our x axis starts at zero, but feel free to remove this line\n",
    "  theme_classic() +\n",
    "  theme(strip.background = element_blank(), panel.grid = element_blank()) + \n",
    "ggtheme()\n",
    "\n",
    "ggsave(\"../../240617_VN_Diabetes_V06/figures/treg_validation/hpap_treg_subsets_in_condition.svg\",\n",
    "       width = 16, height = 8, units = \"cm\")"
   ]
  },
  {
   "cell_type": "code",
   "execution_count": null,
   "id": "0099affd",
   "metadata": {},
   "outputs": [],
   "source": [
    "VlnPlot(treg_hpap_spleen, features = c(\"IL2RA\"), cols = c(\"dodgerblue\",\"indianred2\")) + \n",
    "ggpubr::stat_compare_means()"
   ]
  },
  {
   "cell_type": "code",
   "execution_count": null,
   "id": "b123e7a6",
   "metadata": {},
   "outputs": [],
   "source": [
    "VlnPlot(treg_hpap_spleen, features = c(\"CD226\"), cols = c(\"dodgerblue\",\"indianred2\")) + \n",
    "ggpubr::stat_compare_means(method = \"t.test\")"
   ]
  },
  {
   "cell_type": "code",
   "execution_count": null,
   "id": "9c4b63a9",
   "metadata": {},
   "outputs": [],
   "source": [
    "VlnPlot(treg_hpap_spleen, features = c(\"IL2RA\",\"CD226\"), cols = c(\"dodgerblue\",\"indianred2\"))"
   ]
  },
  {
   "cell_type": "code",
   "execution_count": null,
   "id": "0ad34ead",
   "metadata": {},
   "outputs": [],
   "source": [
    "ggsave(\"../figures/subset_characterization/treg_hpap_il2ra_cd226.svg\",\n",
    "      width = 20, height = 12, units = \"cm\")\n",
    "\n",
    "ggsave(\"../figures/subset_characterization/treg_hpap_il2ra_cd226.png\",\n",
    "      width = 20, height = 12, units = \"cm\")"
   ]
  },
  {
   "cell_type": "code",
   "execution_count": null,
   "id": "01c40736",
   "metadata": {},
   "outputs": [],
   "source": [
    "VlnPlot(treg_hpap_spleen, features = c(\"IL4R\",\"IL10RA\"), cols = c(\"dodgerblue\",\"indianred2\"))"
   ]
  },
  {
   "cell_type": "code",
   "execution_count": null,
   "id": "7a49729c",
   "metadata": {},
   "outputs": [],
   "source": [
    "treg_hpap_spleen$Sample_ID  <- as.character(treg_hpap_spleen$Patient_ID)"
   ]
  },
  {
   "cell_type": "code",
   "execution_count": null,
   "id": "62a1d23b",
   "metadata": {},
   "outputs": [],
   "source": [
    "# Extract the dataframe with seurat metadata\n",
    "seurat_meta_data <- treg_hpap_spleen@meta.data\n",
    "seurat_meta_data$sample  <- seurat_meta_data$Sample_ID\n",
    "\n",
    "# Select genes of interest\n",
    "gene_hits <- c(\"IL2RA\",\"FOXP3\",\"GZMK\",\"TNFRSF9\",\"CD226\",\"IL4R\",\"IL10RA\",\"SELL\",\"CCR7\",\"TIGIT\")\n",
    "\n",
    "# Now we will calculate the percentage of expressing cells for each sample and we will merge the resulting dataframes\n",
    "expr_data4 <- data.frame(genes = gene_hits)\n",
    "\n",
    "# We will need a function that will convert any non-zero count to value 1\n",
    "fns_replace <- function(x){ifelse(x>0,1,0)}\n",
    "\n",
    "for(j in levels(factor(seurat_meta_data$sample))){\n",
    "  \n",
    "  # subset only selected cell type\n",
    "  seu_sub_sample <- subset(treg_hpap_spleen, Sample_ID == j) \n",
    "  \n",
    "  # select the rows corresponding to genes of interest\n",
    "  index_subset <- which(rownames(seu_sub_sample@assays$RNA@counts) %in% gene_hits)\n",
    "  \n",
    "  # create a dataframe with genes of interest and cells of interest\n",
    "  expr_data <- as.data.frame(seu_sub_sample@assays$RNA@counts[index_subset,]) \n",
    "  \n",
    "  # convert expression to binary values\n",
    "  expr_data2 <- expr_data %>% mutate(across(.fns = fns_replace))\n",
    "  rownames(expr_data2) <- rownames(expr_data)\n",
    "  \n",
    "  # calculate average expresion (percentage of cells expressing the gene)\n",
    "  expr_data3 <- rowMeans(expr_data2)\n",
    "  \n",
    "  # add zeroes in cases of no expression\n",
    "  for(k in gene_hits){\n",
    "    if(k %in% names(expr_data3) == F){expr_data3[[k]] <- 0}\n",
    "  }\n",
    "  \n",
    "  expr_data3 <- as.data.frame(expr_data3)\n",
    "  colnames(expr_data3) <- j\n",
    "  expr_data3$genes <- rownames(expr_data3)\n",
    "  \n",
    "  # final dataframe with values in correct order (all cell type, loop results)\n",
    "  expr_data4 <- left_join(expr_data4, expr_data3, by=\"genes\")\n",
    "  \n",
    "}"
   ]
  },
  {
   "cell_type": "code",
   "execution_count": null,
   "id": "58b761c3",
   "metadata": {},
   "outputs": [],
   "source": [
    "expr_data4"
   ]
  },
  {
   "cell_type": "code",
   "execution_count": null,
   "id": "83e0976e",
   "metadata": {},
   "outputs": [],
   "source": [
    "expr_data5 <- as.data.frame(t(expr_data4))\n",
    "colnames(expr_data5) <- expr_data5[1,]\n",
    "expr_data5 <- expr_data5[2:nrow(expr_data5),]\n",
    "expr_data5$sample <- rownames(expr_data5)\n",
    "expr_data5 <- expr_data5 %>% pivot_longer( !sample, names_to = \"gene\", values_to = \"pct_express\")\n",
    "expr_data5$Sample_ID  <- expr_data5$sample"
   ]
  },
  {
   "cell_type": "code",
   "execution_count": null,
   "id": "37aac38c",
   "metadata": {},
   "outputs": [],
   "source": [
    "# Add metadata per sample - select those that you will use in the plot below\n",
    "md_to_join <- seurat_meta_data %>% dplyr::select(Sample_ID, Disease) %>% \n",
    "    ungroup %>% unique\n",
    "expr_data5$Sample_ID  <- as.character(expr_data5$Sample_ID)\n",
    "md2 <- left_join(expr_data5, md_to_join, by = \"Sample_ID\") %>% ungroup %>% unique"
   ]
  },
  {
   "cell_type": "code",
   "execution_count": null,
   "id": "0a961c03",
   "metadata": {},
   "outputs": [],
   "source": [
    "options(repr.plot.width = 10, repr.plot.height = 12)\n",
    "# Plot the results\n",
    "md2 %>% \n",
    "\n",
    "ggplot(aes(x = Disease, y = as.numeric(pct_express))) + \n",
    "  geom_boxplot(outlier.shape = NA) +\n",
    "  geom_dotplot(binaxis='y', stackdir='center', dotsize=0) + \n",
    "  geom_jitter(position=position_jitter(0.2), size = 2, aes(color = factor(Disease))) +\n",
    "  theme_minimal() + \n",
    "  facet_wrap(~gene, scales = \"free\", ncol = 5) + \n",
    "  ylim(c(0,NA)) +\n",
    "  ylab(\"Percentage of expressing cells\") +\n",
    "  theme(legend.title = element_blank()) + stat_compare_means(label = \"p.format\")"
   ]
  },
  {
   "cell_type": "markdown",
   "id": "551bcbb7",
   "metadata": {},
   "source": [
    "### Marker heatmap"
   ]
  },
  {
   "cell_type": "code",
   "execution_count": null,
   "id": "d869d1d3",
   "metadata": {},
   "outputs": [],
   "source": [
    "genes_treg  <-  c(\"CCR7\",\"TCF7\",\"LEF1\",\"SELL\",\"BTG1\",\"IL7R\",\"CD226\",\"LAG3\",\n",
    "                  \"GZMK\",\"HAVCR2\",\"ICOS\",\n",
    "    \"CTLA4\",\"TIGIT\",\"IL10RA\",\"IL2RB\",\"IL2RA\",\"FOXP3\",\"IKZF2\",\"TNFRSF18\",\n",
    "                  \"ENTPD1\",\n",
    "                  \"TNFRSF9\",\"HLA-DPA1\")"
   ]
  },
  {
   "cell_type": "code",
   "execution_count": null,
   "id": "ba3c9f86",
   "metadata": {},
   "outputs": [],
   "source": [
    "avgexp = AverageExpression(treg_hpap_spleen, features = genes_treg, return.seurat = F, \n",
    "                           group.by = \"seurat_clusters\", assays = \"RNA\")"
   ]
  },
  {
   "cell_type": "code",
   "execution_count": null,
   "id": "2ef4ca3c",
   "metadata": {},
   "outputs": [],
   "source": [
    "options(repr.plot.width = 9, repr.plot.height = 3.2)\n",
    "pheatmap(t(avgexp$RNA), main = \"\", scale = \"column\", cluster_cols = T, cluster_rows = T,\n",
    "        color=colorRampPalette(c(\"dodgerblue\", \"grey95\", \"indianred2\"))(50), \n",
    "         border_color = \"white\", width = 9, height = 3.3,\n",
    "                  fontsize = 14)"
   ]
  },
  {
   "cell_type": "code",
   "execution_count": null,
   "id": "57714e63",
   "metadata": {},
   "outputs": [],
   "source": []
  },
  {
   "cell_type": "code",
   "execution_count": null,
   "id": "b0baa22d",
   "metadata": {},
   "outputs": [],
   "source": [
    "\n",
    "    options(repr.plot.width = 9, repr.plot.height = 3.2)\n",
    "pheatmap(t(avgexp$RNA), main = \"\", scale = \"column\", cluster_cols = T, cluster_rows = T,\n",
    "        color=colorRampPalette(c(\"dodgerblue\", \"grey95\", \"indianred2\"))(50), \n",
    "         border_color = \"white\", width = 9, height = 3.3,\n",
    "                  fontsize = 14, \n",
    "        filename = \"../figures/treg_heatmap.pdf\")"
   ]
  },
  {
   "cell_type": "code",
   "execution_count": null,
   "id": "036da578",
   "metadata": {},
   "outputs": [],
   "source": [
    "genes_treg  <-  c(\"TCF7\",\"LEF1\",\"NELL2\",\"IL7R\",\"IL4R\",\"GZMK\",\"CD226\",\n",
    "    \"CCR4\",\"CTLA4\",\"TNFRSF9\",\"FOXP3\",\"IL2RA\")"
   ]
  },
  {
   "cell_type": "code",
   "execution_count": null,
   "id": "98b16083",
   "metadata": {},
   "outputs": [],
   "source": [
    "avgexp = AverageExpression(treg_hpap_spleen, features = genes_treg, return.seurat = F, \n",
    "                           group.by = \"seurat_clusters2\", assays = \"RNA\")"
   ]
  },
  {
   "cell_type": "code",
   "execution_count": null,
   "id": "7c757a3d",
   "metadata": {},
   "outputs": [],
   "source": [
    "options(repr.plot.width = 5, repr.plot.height = 3)\n",
    "pheatmap(t(avgexp$RNA[match(c(\"TCF7\",\"LEF1\",\"NELL2\",\"IL7R\",\"IL4R\",\"GZMK\",\"CD226\",\n",
    "    \"CCR4\",\"CTLA4\",\"TNFRSF9\",\"FOXP3\",\"IL2RA\"),\n",
    "rownames(avgexp$RNA)),]), main = \"\", scale = \"column\", cluster_cols = F, cluster_rows = F,\n",
    "        color=colorRampPalette(c(\"dodgerblue\", \"grey95\", \"indianred2\"))(50), \n",
    "         border_color = \"white\", width = 9, height = 3.3,\n",
    "                  fontsize = 9)"
   ]
  },
  {
   "cell_type": "code",
   "execution_count": null,
   "id": "bd6bae55",
   "metadata": {},
   "outputs": [],
   "source": [
    "pheatmap(t(avgexp$RNA[match(c(\"TCF7\",\"LEF1\",\"NELL2\",\"IL7R\",\"IL4R\",\"GZMK\",\"CD226\",\n",
    "    \"CCR4\",\"CTLA4\",\"TNFRSF9\",\"FOXP3\",\"IL2RA\"),\n",
    "rownames(avgexp$RNA)),]), main = \"\", scale = \"column\", cluster_cols = F, cluster_rows = F,\n",
    "        color=colorRampPalette(c(\"dodgerblue\", \"grey95\", \"indianred2\"))(50), \n",
    "         border_color = \"white\", width = 5, height = 3.3,\n",
    "                  fontsize = 9, filename = \"../../240617_VN_Diabetes_V06/figures/treg_validation/hpap_heatmap.pdf\")"
   ]
  },
  {
   "cell_type": "markdown",
   "id": "0eeebfce",
   "metadata": {},
   "source": [
    "# FOXP3 deficient Treg cells"
   ]
  },
  {
   "cell_type": "markdown",
   "id": "b8fea271",
   "metadata": {},
   "source": [
    "## Analysis of Treg cells from Schumann et al., 2020"
   ]
  },
  {
   "cell_type": "code",
   "execution_count": null,
   "id": "d5e2ba9f",
   "metadata": {
    "scrolled": true
   },
   "outputs": [],
   "source": [
    "library(data.table)"
   ]
  },
  {
   "cell_type": "code",
   "execution_count": null,
   "id": "5bd8ba58",
   "metadata": {},
   "outputs": [],
   "source": [
    "schumann  <- fread(\"../data/published_data/Schumann_2020/exprs_mat_raw.csv.gz\")  %>% as.data.frame()"
   ]
  },
  {
   "cell_type": "code",
   "execution_count": null,
   "id": "6a61bddb",
   "metadata": {},
   "outputs": [],
   "source": [
    "schumann[10000:10009,1:5]"
   ]
  },
  {
   "cell_type": "code",
   "execution_count": null,
   "id": "3de1e68a",
   "metadata": {},
   "outputs": [],
   "source": [
    "rownames(schumann)  <- schumann$V1"
   ]
  },
  {
   "cell_type": "code",
   "execution_count": null,
   "id": "303679e4",
   "metadata": {},
   "outputs": [],
   "source": [
    "schumann$V1  <- NULL"
   ]
  },
  {
   "cell_type": "code",
   "execution_count": null,
   "id": "fb5204aa",
   "metadata": {},
   "outputs": [],
   "source": [
    "rownames(schumann[10000:10009,1:5])"
   ]
  },
  {
   "cell_type": "code",
   "execution_count": null,
   "id": "cb2ab441",
   "metadata": {},
   "outputs": [],
   "source": [
    "schumann_seu <- CreateSeuratObject(schumann, min.cells = 3, min.features = 200)\n",
    "  schumann_seu[[\"percent.mt\"]] <- PercentageFeatureSet(schumann_seu, pattern = \"^MT-\")\n",
    "  schumann_seu[[\"percent.rt\"]] <- PercentageFeatureSet(schumann_seu, pattern = \"^RP[LS]\")"
   ]
  },
  {
   "cell_type": "code",
   "execution_count": null,
   "id": "f54ed7d1",
   "metadata": {},
   "outputs": [],
   "source": [
    "  # Remove TRAV, TRBV, mito and ribo genes\n",
    "  seu_annots <- schumann_seu@meta.data\n",
    "  seu_counts <- schumann[!grepl('TR[AB]V|MT-|RP[LS]|\\\\.\\\\d', rownames(schumann_seu)),]\n",
    "\n",
    "  seu <- CreateSeuratObject(counts = seu_counts, \n",
    "                          project = \"seu\", \n",
    "                          min.cells = 3, \n",
    "                          min.features = 200, \n",
    "                          meta.data = seu_annots)"
   ]
  },
  {
   "cell_type": "code",
   "execution_count": null,
   "id": "9863e077",
   "metadata": {},
   "outputs": [],
   "source": []
  },
  {
   "cell_type": "code",
   "execution_count": null,
   "id": "87d3de9b",
   "metadata": {},
   "outputs": [],
   "source": [
    "plan(\"sequential\")"
   ]
  },
  {
   "cell_type": "code",
   "execution_count": null,
   "id": "a60babd4",
   "metadata": {
    "scrolled": true
   },
   "outputs": [],
   "source": [
    "  seu <- NormalizeData(object = seu)\n",
    "  seu <- ScaleData(seu, verbose = FALSE)\n",
    "  seu <- FindVariableFeatures(seu, selection.method = \"vst\", nfeatures = 1000, \n",
    "                                       verbose = FALSE)\n",
    "  seu <- RunPCA(seu, npcs = 20, verbose = FALSE)\n",
    "  seu <- RunUMAP(seu, reduction = \"pca\", dims = 1:20)\n",
    "  seu <- FindNeighbors(seu, dims = 1:20)\n",
    "  seu <- FindClusters(seu, resolution = 0.9)"
   ]
  },
  {
   "cell_type": "code",
   "execution_count": null,
   "id": "1e9d5e43",
   "metadata": {},
   "outputs": [],
   "source": [
    "DimPlot(seu)"
   ]
  },
  {
   "cell_type": "code",
   "execution_count": null,
   "id": "162c531e",
   "metadata": {},
   "outputs": [],
   "source": [
    "saveRDS(seu, \"../data/published_data/Schumann_2020/schumann_treg.rds\")"
   ]
  },
  {
   "cell_type": "code",
   "execution_count": null,
   "id": "62dc3c4f",
   "metadata": {},
   "outputs": [],
   "source": [
    "DimPlot(seu, group.by = \"donor\")"
   ]
  },
  {
   "cell_type": "markdown",
   "id": "45877b83",
   "metadata": {},
   "source": [
    "Add metadata."
   ]
  },
  {
   "cell_type": "code",
   "execution_count": null,
   "id": "3d6ff8b6",
   "metadata": {},
   "outputs": [],
   "source": [
    "md_schumann  <- read_csv(\"../data/published_data/Schumann_2020/mat_metadata.csv\")"
   ]
  },
  {
   "cell_type": "code",
   "execution_count": null,
   "id": "fc467e02",
   "metadata": {},
   "outputs": [],
   "source": [
    "colnames(md_schumann)[1]  <- \"barcode\""
   ]
  },
  {
   "cell_type": "code",
   "execution_count": null,
   "id": "33f14b97",
   "metadata": {},
   "outputs": [],
   "source": [
    "seu$barcode  <- colnames(seu)"
   ]
  },
  {
   "cell_type": "code",
   "execution_count": null,
   "id": "733c1eeb",
   "metadata": {},
   "outputs": [],
   "source": [
    "md_schumann$barcode %in% seu$barcode  %>% table"
   ]
  },
  {
   "cell_type": "code",
   "execution_count": null,
   "id": "5e06b1b5",
   "metadata": {},
   "outputs": [],
   "source": [
    "md  <- seu@meta.data"
   ]
  },
  {
   "cell_type": "code",
   "execution_count": null,
   "id": "78476823",
   "metadata": {},
   "outputs": [],
   "source": [
    "md_schumann$orig.ident  <-  NULL\n",
    "md_schumann$nCount_RNA <-  NULL\n",
    "md_schumann$nFeature_RNA <-  NULL"
   ]
  },
  {
   "cell_type": "code",
   "execution_count": null,
   "id": "65208d2a",
   "metadata": {},
   "outputs": [],
   "source": [
    "md  <- left_join(md, md_schumann)"
   ]
  },
  {
   "cell_type": "code",
   "execution_count": null,
   "id": "eaa66dbc",
   "metadata": {},
   "outputs": [],
   "source": [
    "seu_backup  <- seu"
   ]
  },
  {
   "cell_type": "code",
   "execution_count": null,
   "id": "5288525e",
   "metadata": {},
   "outputs": [],
   "source": [
    "seu@meta.data  <- md\n",
    "rownames(seu@meta.data)  <- colnames(seu)"
   ]
  },
  {
   "cell_type": "code",
   "execution_count": null,
   "id": "481f2b3d",
   "metadata": {},
   "outputs": [],
   "source": [
    "colnames(seu@meta.data)"
   ]
  },
  {
   "cell_type": "code",
   "execution_count": null,
   "id": "5e723d97",
   "metadata": {},
   "outputs": [],
   "source": [
    "DimPlot(seu, group.by = \"ClusterNames_0.45\")"
   ]
  },
  {
   "cell_type": "code",
   "execution_count": null,
   "id": "cb6adb01",
   "metadata": {},
   "outputs": [],
   "source": [
    "DimPlot(seu, group.by = \"KO\")"
   ]
  },
  {
   "cell_type": "code",
   "execution_count": null,
   "id": "b0ba4524",
   "metadata": {},
   "outputs": [],
   "source": [
    "DimPlot(seu, group.by = \"donor\")"
   ]
  },
  {
   "cell_type": "code",
   "execution_count": null,
   "id": "97945aba",
   "metadata": {},
   "outputs": [],
   "source": [
    "DimPlot(seu, group.by = \"stim\")"
   ]
  },
  {
   "cell_type": "code",
   "execution_count": null,
   "id": "a21dce89",
   "metadata": {
    "scrolled": true
   },
   "outputs": [],
   "source": [
    "FeaturePlot(seu, features = \"CD4\")\n",
    "FeaturePlot(seu, features = \"CD3D\")\n",
    "FeaturePlot(seu, features = \"FOXP3\")\n",
    "FeaturePlot(seu, features = \"KLRG1\")\n",
    "FeaturePlot(seu, features = \"CD226\")"
   ]
  },
  {
   "cell_type": "code",
   "execution_count": null,
   "id": "42213c58",
   "metadata": {},
   "outputs": [],
   "source": [
    "FeaturePlot(seu, features = \"TCF7\")"
   ]
  },
  {
   "cell_type": "code",
   "execution_count": null,
   "id": "99673d9a",
   "metadata": {},
   "outputs": [],
   "source": [
    "FeaturePlot(seu, features = \"GZMK\")"
   ]
  },
  {
   "cell_type": "code",
   "execution_count": null,
   "id": "410f4b82",
   "metadata": {},
   "outputs": [],
   "source": []
  },
  {
   "cell_type": "code",
   "execution_count": null,
   "id": "e4bc6927",
   "metadata": {},
   "outputs": [],
   "source": [
    "  seu <- FindClusters(seu, resolution = 0.4)\n",
    "DimPlot(seu, label = T)"
   ]
  },
  {
   "cell_type": "code",
   "execution_count": null,
   "id": "4d202f3f",
   "metadata": {},
   "outputs": [],
   "source": [
    "mrk9  <- FindAllMarkers(seu, logfc.threshold = log(2))"
   ]
  },
  {
   "cell_type": "code",
   "execution_count": null,
   "id": "f5baf9e5",
   "metadata": {},
   "outputs": [],
   "source": [
    "FeaturePlot(seu, features = \"USP18\")"
   ]
  },
  {
   "cell_type": "code",
   "execution_count": null,
   "id": "cbc4b33c",
   "metadata": {
    "scrolled": true
   },
   "outputs": [],
   "source": [
    "mrk9  %>% filter(cluster == 9)"
   ]
  },
  {
   "cell_type": "code",
   "execution_count": null,
   "id": "e93d0fd2",
   "metadata": {},
   "outputs": [],
   "source": [
    "seu$pop  %>% table"
   ]
  },
  {
   "cell_type": "code",
   "execution_count": null,
   "id": "e5fe335f",
   "metadata": {},
   "outputs": [],
   "source": [
    "DimPlot(seu, label = T, group.by = \"pop\")"
   ]
  },
  {
   "cell_type": "code",
   "execution_count": null,
   "id": "626f4f76",
   "metadata": {},
   "outputs": [],
   "source": [
    "seu$KO  %>% table"
   ]
  },
  {
   "cell_type": "code",
   "execution_count": null,
   "id": "b3fc9584",
   "metadata": {
    "scrolled": true
   },
   "outputs": [],
   "source": [
    "for(i in c(1,3:11)){\n",
    "    sub_seu  <- subset(seu, KO %in% c(\"ctrl\", levels(factor(seu$KO))[i]))\n",
    "    Idents(sub_seu)  <- sub_seu$KO\n",
    "    mrk  <- FindAllMarkers(sub_seu)\n",
    "    mrk$knockout  <- levels(factor(seu$KO))[i]\n",
    "    if(i>1){\n",
    "        df_all  <- rbind(df_all, mrk)\n",
    "    } else {\n",
    "        df_all = mrk\n",
    "    }\n",
    "}"
   ]
  },
  {
   "cell_type": "code",
   "execution_count": null,
   "id": "9e46afb5",
   "metadata": {},
   "outputs": [],
   "source": []
  },
  {
   "cell_type": "code",
   "execution_count": null,
   "id": "ac2a66fd",
   "metadata": {},
   "outputs": [],
   "source": [
    "write.csv(df_all, \"../data/published_data/Schumann_2020/ko_DE_genes.csv\")"
   ]
  },
  {
   "cell_type": "code",
   "execution_count": null,
   "id": "15d7d034",
   "metadata": {},
   "outputs": [],
   "source": [
    "plan(\"multisession\", workers = 4)"
   ]
  },
  {
   "cell_type": "markdown",
   "id": "dac5e5c0",
   "metadata": {},
   "source": [
    "### Fold changes for GSEA"
   ]
  },
  {
   "cell_type": "code",
   "execution_count": null,
   "id": "09001983",
   "metadata": {},
   "outputs": [],
   "source": [
    "options(future.globals.maxSize = 10000 * 1024^2)"
   ]
  },
  {
   "cell_type": "code",
   "execution_count": null,
   "id": "0fb6da18",
   "metadata": {
    "scrolled": true
   },
   "outputs": [],
   "source": [
    "for(i in c(1,3:11)){\n",
    "    sub_seu  <- subset(seu, KO %in% c(\"ctrl\", levels(factor(seu$KO))[i]))\n",
    "    Idents(sub_seu)  <- sub_seu$KO\n",
    "    mrk  <- FindAllMarkers(sub_seu, test.use = \"wilcox\", \n",
    "                          logfc.threshold = -Inf, min.pct = -Inf, min.diff.pct = -Inf,\n",
    "                                   only.pos = T,  \n",
    "                                   min.cells.feature = 1, return.thresh = 1)\n",
    "    mrk$knockout  <- levels(factor(seu$KO))[i]\n",
    "    if(i>1){\n",
    "        df_all_all  <- rbind(df_all_all, mrk)\n",
    "    } else {\n",
    "        df_all_all = mrk\n",
    "    }\n",
    "}"
   ]
  },
  {
   "cell_type": "code",
   "execution_count": null,
   "id": "7b59dbe0",
   "metadata": {},
   "outputs": [],
   "source": [
    "write.csv(df_all_all, \"../data/published_data/Schumann_2020/ko_fold_changes.csv\")"
   ]
  },
  {
   "cell_type": "code",
   "execution_count": null,
   "id": "f656651b",
   "metadata": {},
   "outputs": [],
   "source": [
    "options(future.globals.maxSize = 10000 * 1024^2)"
   ]
  },
  {
   "cell_type": "code",
   "execution_count": null,
   "id": "a978469d",
   "metadata": {},
   "outputs": [],
   "source": [
    "sub_seu  <- subset(seu_unstim, KO %in% c(\"ctrl\", \"foxp3\"))\n",
    "    Idents(sub_seu)  <- sub_seu$KO\n",
    "    fc_foxp3_ko  <- FindAllMarkers(sub_seu, test.use = \"wilcox\", \n",
    "                          logfc.threshold = -Inf, min.pct = -Inf, min.diff.pct = -Inf,\n",
    "                                   only.pos = T,  \n",
    "                                   min.cells.feature = 1, return.thresh = 1)"
   ]
  },
  {
   "cell_type": "code",
   "execution_count": null,
   "id": "ddeb448d",
   "metadata": {},
   "outputs": [],
   "source": [
    "write.csv(fc_foxp3_ko, \"../data/published_data/Schumann_2020/fc_foxp3_ko.csv\")"
   ]
  },
  {
   "cell_type": "markdown",
   "id": "7afd0801",
   "metadata": {},
   "source": [
    "# Borna 2023"
   ]
  },
  {
   "cell_type": "code",
   "execution_count": null,
   "id": "79f97e42",
   "metadata": {},
   "outputs": [],
   "source": [
    "borna  <- readRDS(\"../../240617_VN_Diabetes_V06//data/published_data/Borna_2023/GSE247274_unstim.rds\")"
   ]
  },
  {
   "cell_type": "code",
   "execution_count": null,
   "id": "22056285",
   "metadata": {},
   "outputs": [],
   "source": [
    "borna_treg  <- subset(borna, cluster_names_mem %in% c(\"Treg memory 2\", \"Treg memory 1\", \"Treg naive\"))"
   ]
  },
  {
   "cell_type": "code",
   "execution_count": null,
   "id": "e04efa06",
   "metadata": {},
   "outputs": [],
   "source": [
    "Idents(borna_treg)  <- borna_treg$status\n",
    "    mrk  <- FindAllMarkers(borna_treg)"
   ]
  },
  {
   "cell_type": "code",
   "execution_count": null,
   "id": "92dbabfb",
   "metadata": {
    "scrolled": true
   },
   "outputs": [],
   "source": [
    "borna_hd_genes  <- mrk  %>% dplyr::filter(avg_log2FC>0 & cluster == \"HD\")  %>% pull(gene)"
   ]
  },
  {
   "cell_type": "code",
   "execution_count": null,
   "id": "bb37b344",
   "metadata": {},
   "outputs": [],
   "source": [
    "borna_ipex_genes  <- mrk  %>% dplyr::filter(avg_log2FC>0 & cluster == \"IPEX\")  %>% pull(gene)"
   ]
  },
  {
   "cell_type": "code",
   "execution_count": null,
   "id": "8bfca84d",
   "metadata": {},
   "outputs": [],
   "source": [
    "fc.df  <- read_csv(\"../../240617_VN_Diabetes_V06/tables/fold_change/cd4_l3_treg.csv\")  %>% as.data.frame()\n",
    "fc.df  <- fc.df  %>%  arrange(desc(avg_log2FC)) %>% \n",
    "dplyr::filter(cluster == \"Dia\")  %>% \n",
    "  dplyr::select(gene, avg_log2FC)\n",
    "ranks<- deframe(fc.df)\n"
   ]
  },
  {
   "cell_type": "code",
   "execution_count": null,
   "id": "27852a75",
   "metadata": {},
   "outputs": [],
   "source": [
    "df1  <- data.frame(gene = borna_hd_genes,\n",
    "           direction = \"HD\")\n",
    "\n",
    "df2  <-   data.frame(gene = borna_ipex_genes,\n",
    "                    direction = \"IPEX\")"
   ]
  },
  {
   "cell_type": "code",
   "execution_count": null,
   "id": "aedd2de8",
   "metadata": {},
   "outputs": [],
   "source": [
    "write.csv(rbind(df1,df2),\n",
    "         \"../../240617_VN_Diabetes_V06/data/published_data/Borna_2023/borna_ipex_treg_markers.csv\")"
   ]
  },
  {
   "cell_type": "code",
   "execution_count": null,
   "id": "cc666b85",
   "metadata": {},
   "outputs": [],
   "source": [
    "library(fgsea)"
   ]
  },
  {
   "cell_type": "code",
   "execution_count": null,
   "id": "71e075c7",
   "metadata": {},
   "outputs": [],
   "source": [
    "fgsea_bulk <- fgsea(pathways = list(Borna_UP_in_Ctrl = borna_hd_genes,\n",
    "                                    Borna_UP_in_IPEX = borna_ipex_genes\n",
    "                                    ), \n",
    "                                      stats    = ranks)\n",
    "fgsea_bulk"
   ]
  },
  {
   "cell_type": "code",
   "execution_count": null,
   "id": "6456fe61",
   "metadata": {},
   "outputs": [],
   "source": [
    "plotEnrichment(borna_hd_genes,\n",
    "               ranks) + labs(title=\"Borna enriched in HD\") \n"
   ]
  },
  {
   "cell_type": "code",
   "execution_count": null,
   "id": "c3e6217a",
   "metadata": {},
   "outputs": [],
   "source": [
    "plotEnrichment(borna_ipex_genes,\n",
    "               ranks) + labs(title=\"Borna enriched in HD\") "
   ]
  },
  {
   "cell_type": "code",
   "execution_count": null,
   "id": "489116cb",
   "metadata": {},
   "outputs": [],
   "source": [
    "fgsea_bulk <- fgsea(pathways = list(Borna_UP_in_Ctrl = borna_hd_genes,\n",
    "                                    Borna_UP_in_IPEX = borna_ipex_genes\n",
    "                                    ), \n",
    "                                      stats    = ranks)\n",
    "fgsea_bulk"
   ]
  },
  {
   "cell_type": "code",
   "execution_count": null,
   "id": "d0ae0908",
   "metadata": {},
   "outputs": [],
   "source": [
    "plotEnrichment(borna_hd_genes,\n",
    "               ranks) + labs(title=\"Borna enriched in HD\") \n",
    "\n",
    "ggsave(filename = paste(\"../figures/treg/borna_ctrl.png\"), width = 12, height = 9, units = \"cm\")\n",
    "ggsave(filename = paste(\"../figures/treg/borna_ctrl.svg\"), width = 12, height = 9, units = \"cm\")"
   ]
  },
  {
   "cell_type": "code",
   "execution_count": null,
   "id": "1b4783c2",
   "metadata": {},
   "outputs": [],
   "source": [
    "plotEnrichment(borna_ipex_genes,\n",
    "               ranks) + labs(title=\"Borna enriched in HD\") \n",
    "\n",
    "ggsave(filename = paste(\"../figures/treg/borna_ipex.png\"), width = 12, height = 9, units = \"cm\")\n",
    "ggsave(filename = paste(\"../figures/treg/borna_ipex.svg\"), width = 12, height = 9, units = \"cm\")"
   ]
  },
  {
   "cell_type": "markdown",
   "id": "945bf10b",
   "metadata": {},
   "source": [
    "# GSEA Treg from FOXP3- mice"
   ]
  },
  {
   "cell_type": "code",
   "execution_count": null,
   "id": "619fd682",
   "metadata": {},
   "outputs": [],
   "source": [
    "### Treg in Treg\n",
    "\n",
    "library(fgsea)\n",
    "\n",
    "# CD4L1\n",
    "fc.df  <- read_csv(\"../tables/fold_change/cd4_l3_treg.csv\")  %>% as.data.frame()\n",
    "fc.df  <- fc.df  %>%  arrange(desc(avg_log2FC)) %>% \n",
    "dplyr::filter(cluster == \"Dia\")  %>% \n",
    "  dplyr::select(gene, avg_log2FC)\n",
    "ranks<- deframe(fc.df)\n"
   ]
  },
  {
   "cell_type": "code",
   "execution_count": null,
   "id": "583cb713",
   "metadata": {},
   "outputs": [],
   "source": [
    "treg_foxp3ko_up <- df_all  %>% filter(knockout == \"foxp3\" & cluster == \"foxp3\" & avg_log2FC>0)   %>% pull(gene)\n",
    "treg_foxp3ko_down  <- df_all  %>% filter(knockout == \"foxp3\" & cluster == \"ctrl\" & avg_log2FC>0)   %>% pull(gene)"
   ]
  },
  {
   "cell_type": "code",
   "execution_count": null,
   "id": "719f8353",
   "metadata": {},
   "outputs": [],
   "source": [
    "treg_foxp3ko_down"
   ]
  },
  {
   "cell_type": "code",
   "execution_count": null,
   "id": "62e4a1a5",
   "metadata": {},
   "outputs": [],
   "source": [
    "plotEnrichment(treg_foxp3ko_up,\n",
    "               ranks) + labs(title=\"treg_foxp3ko_up\") \n",
    "\n",
    "plotEnrichment(treg_foxp3ko_down,\n",
    "               ranks) + labs(title=\"treg_foxp3ko_down\") \n"
   ]
  },
  {
   "cell_type": "code",
   "execution_count": null,
   "id": "d99d8ea2",
   "metadata": {},
   "outputs": [],
   "source": [
    "options(repr.plot.width = 14, repr.plot.height = 4)\n",
    "\n",
    "for(i in 1:length(levels(factor(df_all$knockout)))){\n",
    "   ko  <- levels(factor(df_all$knockout))[i]\n",
    "treg_ko_up <- df_all  %>% filter(knockout == ko & cluster == ko & avg_log2FC>0)   %>% pull(gene)\n",
    "treg_ko_down  <- df_all  %>% filter(knockout == ko & cluster == \"ctrl\" & avg_log2FC>0)   %>% pull(gene)\n",
    "    \n",
    "fgsea_bulk <- fgsea(pathways = list(UP_in_KO = treg_ko_up,\n",
    "                                    UP_in_Ctrl = treg_ko_down), \n",
    "                                      stats    = ranks)\n",
    "\n",
    "print(plotEnrichment(treg_ko_up,\n",
    "               ranks) + labs(title=paste(ko, \"UP in KO\"),\n",
    "                             subtitle = paste0(\"p-value = \",format.pval(fgsea_bulk$pval[2], digits = 2))) +\n",
    "\n",
    "plotEnrichment(treg_ko_down,\n",
    "               ranks) + labs(title=paste(ko, \"UP in Ctrl\"),\n",
    "                            subtitle = paste0(\"p-value = \",format.pval(fgsea_bulk$pval[1], digits = 2))))\n",
    "\n",
    "}"
   ]
  },
  {
   "cell_type": "code",
   "execution_count": null,
   "id": "4fc1f207",
   "metadata": {},
   "outputs": [],
   "source": [
    "### Unstim only"
   ]
  },
  {
   "cell_type": "code",
   "execution_count": null,
   "id": "064c7133",
   "metadata": {
    "scrolled": true
   },
   "outputs": [],
   "source": [
    "df_all"
   ]
  },
  {
   "cell_type": "code",
   "execution_count": null,
   "id": "7de4e63e",
   "metadata": {},
   "outputs": [],
   "source": [
    "options(repr.plot.width = 14, repr.plot.height = 4)\n",
    "\n",
    "for(i in 1:length(levels(factor(df_all$knockout)))){\n",
    "   ko  <- levels(factor(df_all$knockout))[i]\n",
    "treg_ko_up <- df_all  %>% filter(knockout == ko & cluster == ko & avg_log2FC>0 & stim == \"Unstim\")   %>% pull(gene)\n",
    "treg_ko_down  <- df_all  %>% filter(knockout == ko & cluster == \"ctrl\" & avg_log2FC>0 & stim == \"Unstim\")   %>% pull(gene)\n",
    "    \n",
    "fgsea_bulk <- fgsea(pathways = list(UP_in_KO = treg_ko_up,\n",
    "                                    UP_in_Ctrl = treg_ko_down), \n",
    "                                      stats    = ranks)\n",
    "\n",
    "#print(plotEnrichment(treg_ko_up,\n",
    "#               ranks) + labs(title=paste(ko, \"UP in KO, unstim\"),\n",
    "#                             subtitle = paste0(\"p-value = \",format.pval(fgsea_bulk$pval[2], digits = 2)))) \n",
    "\n",
    "print(plotEnrichment(treg_ko_down,\n",
    "               ranks) + ylim(-0.62, 0.15) + labs(title=paste(ko, \"UP in Ctrl, unstim\"),\n",
    "                            subtitle = paste0(\"p-value = \",format.pval(fgsea_bulk$pval[1], digits = 2))))\n",
    "\n",
    "ggsave(filename = paste(\"../figures/treg/\",ko,\".png\"), width = 12, height = 9, units = \"cm\")\n",
    "ggsave(filename = paste(\"../figures/treg/\",ko,\".svg\"), width = 12, height = 9, units = \"cm\")\n",
    "\n",
    "}"
   ]
  },
  {
   "cell_type": "code",
   "execution_count": null,
   "id": "4be186dc",
   "metadata": {},
   "outputs": [],
   "source": []
  },
  {
   "cell_type": "code",
   "execution_count": null,
   "id": "0c0ddc0f",
   "metadata": {},
   "outputs": [],
   "source": [
    "for(i in 1:length(levels(factor(df_all$knockout)))){\n",
    "   ko  <- levels(factor(df_all$knockout))[i]\n",
    "treg_ko_up <- df_all  %>% filter(knockout == ko & cluster == ko & avg_log2FC>0 & stim == \"IL12\")   %>% pull(gene)\n",
    "treg_ko_down  <- df_all  %>% filter(knockout == ko & cluster == \"ctrl\" & avg_log2FC>0 & stim == \"IL12\")   %>% pull(gene)\n",
    "    \n",
    "fgsea_bulk <- fgsea(pathways = list(UP_in_KO = treg_ko_up,\n",
    "                                    UP_in_Ctrl = treg_ko_down), \n",
    "                                      stats    = ranks)\n",
    "\n",
    "print(plotEnrichment(treg_ko_up,\n",
    "               ranks) + labs(title=paste(ko, \"UP in KO, IL12\"),\n",
    "                             subtitle = paste0(\"p-value = \",format.pval(fgsea_bulk$pval[2], digits = 2))) +\n",
    "\n",
    "plotEnrichment(treg_ko_down,\n",
    "               ranks) + labs(title=paste(ko, \"UP in Ctrl, IL12\"),\n",
    "                            subtitle = paste0(\"p-value = \",format.pval(fgsea_bulk$pval[1], digits = 2))))\n",
    "\n",
    "}"
   ]
  }
 ],
 "metadata": {
  "kernelspec": {
   "display_name": "R",
   "language": "R",
   "name": "ir"
  },
  "language_info": {
   "codemirror_mode": "r",
   "file_extension": ".r",
   "mimetype": "text/x-r-source",
   "name": "R",
   "pygments_lexer": "r",
   "version": "4.5.1"
  },
  "toc": {
   "base_numbering": 1,
   "nav_menu": {},
   "number_sections": true,
   "sideBar": true,
   "skip_h1_title": false,
   "title_cell": "Table of Contents",
   "title_sidebar": "Contents",
   "toc_cell": false,
   "toc_position": {
    "height": "calc(100% - 180px)",
    "left": "10px",
    "top": "150px",
    "width": "284.733px"
   },
   "toc_section_display": false,
   "toc_window_display": true
  }
 },
 "nbformat": 4,
 "nbformat_minor": 5
}
