{
 "cells": [
  {
   "cell_type": "code",
   "execution_count": null,
   "metadata": {
    "scrolled": true
   },
   "outputs": [],
   "source": [
    "source(\"diabetes_analysis_v07.R\")"
   ]
  },
  {
   "cell_type": "markdown",
   "id": "4bf7fd61",
   "metadata": {},
   "source": [
    "# Full dataset"
   ]
  },
  {
   "cell_type": "code",
   "execution_count": null,
   "id": "5d13d4b2",
   "metadata": {},
   "outputs": [],
   "source": [
    "new_dia_cd4  <- readRDS(\"../data/processed/L1/cd4_l1_full_filt.rds\")"
   ]
  },
  {
   "cell_type": "markdown",
   "id": "99e25550",
   "metadata": {},
   "source": [
    "## TCR analysis"
   ]
  },
  {
   "cell_type": "code",
   "execution_count": null,
   "id": "2111e71e",
   "metadata": {},
   "outputs": [],
   "source": [
    "metadata_6 <- new_dia_cd4@meta.data "
   ]
  },
  {
   "cell_type": "code",
   "execution_count": null,
   "id": "ae0f6804",
   "metadata": {},
   "outputs": [],
   "source": [
    "metadata_6 <- metadata_6 %>% mutate(\n",
    "  clone_nt = paste(cdr3_B_nt,cdr3_A1_nt,cdr3_A2_nt),\n",
    "  clone_aa = paste(\"CDR3b\",cdr3_B,\"CDR3a\",cdr3_A1)\n",
    ")"
   ]
  },
  {
   "cell_type": "code",
   "execution_count": null,
   "id": "689124f9",
   "metadata": {
    "scrolled": true
   },
   "outputs": [],
   "source": [
    "clone_table <- metadata_6 %>%\n",
    "  dplyr::group_by(clone_aa) %>%\n",
    "          dplyr::summarize(n = n(), sum = sum()) %>%\n",
    "    arrange(desc(n))\n",
    "\n",
    "clone_table"
   ]
  },
  {
   "cell_type": "code",
   "execution_count": null,
   "id": "6e1191d7",
   "metadata": {
    "scrolled": true
   },
   "outputs": [],
   "source": [
    "metadata_6$test <- 0\n",
    "metadata_6 <- metadata_6 %>% group_by(test, clone_aa) %>% mutate(clone_abundance = as.numeric(n()))\n",
    "\n",
    "\n",
    "metadata_6 <- as.data.frame(metadata_6 %>% mutate(clone_abundance = as.numeric(ifelse(clone_abundance>1000,NA_integer_,clone_abundance))) %>%\n",
    "  mutate(log_clone_abundance = log(clone_abundance, base = 2)))\n",
    "rownames(metadata_6) <- colnames(new_dia_cd4)\n",
    "\n",
    "new_dia_cd4@meta.data <- metadata_6\n",
    "rownames(new_dia_cd4@meta.data) <- colnames(new_dia_cd4)\n",
    "\n",
    "new_dia_cd4 <- AddMetaData(new_dia_cd4, as.numeric(metadata_6$clone_abundance), \"clone_abundance\")\n",
    "rownames(new_dia_cd4@meta.data) <- colnames(new_dia_cd4)\n",
    "\n",
    "FeaturePlot(new_dia_cd4, reduction = \"umap\", features = \"log_clone_abundance\", raster = T)\n",
    "\n",
    "FeaturePlot(subset(new_dia_cd4, clone_abundance >=1 & clone_abundance < 2000), \n",
    "            reduction = \"umap\", features = \"log_clone_abundance\", cols = c(\"lightblue\",\"firebrick\")) + theme_classic() + theme(plot.title = element_text(hjust = 0.5)) + ggtitle(\"Log2 clone abundance\")\n",
    "\n",
    "DimPlot(new_dia_cd4, raster =T)\n",
    "\n",
    "# Clone abundance bar graph\n",
    "metadata_6 <- metadata_6 %>%\n",
    "  mutate( clone_abundance_group = case_when(clone_abundance>30 ~ \">30\",\n",
    "                                            clone_abundance>10&clone_abundance<=30 ~ \"11-30\",\n",
    "                                            clone_abundance>6&clone_abundance<=10 ~ \"6-10\",\n",
    "                                            clone_abundance>2&clone_abundance<=5 ~ \"3-5\",\n",
    "                                            clone_abundance==2 ~ \"2\",\n",
    "                                            clone_abundance==1 ~ \"1\",\n",
    "                                            TRUE ~ \"1\"\n",
    "                                            ))"
   ]
  },
  {
   "cell_type": "code",
   "execution_count": null,
   "id": "4cbe7eef",
   "metadata": {},
   "outputs": [],
   "source": [
    "for(i in 2:100){\n",
    "  DimPlot(new_dia_cd4, \n",
    "          cells.highlight = colnames(new_dia_cd4)[grep(new_dia_cd4$clone_aa, \n",
    "                                                       pattern = pull(clone_table, clone_aa)[i])], raster = F) +\n",
    "    ggtitle(pull(clone_table, clone_aa)[i])\n",
    "    ggsave(create.dir = TRUE, paste0(\"../figures/tcr/cd4_tcr/tcr_plots_cd4_full/tcr_clone_\",i,\".png\"), width = 13, height = 10, units = \"cm\")\n",
    "\n",
    "}"
   ]
  },
  {
   "cell_type": "markdown",
   "id": "57f977c8",
   "metadata": {},
   "source": [
    "## iNKT and MAIT sequences"
   ]
  },
  {
   "cell_type": "code",
   "execution_count": null,
   "id": "91bbccfb",
   "metadata": {},
   "outputs": [],
   "source": [
    "options(repr.plot.width = 6, repr.plot.height = 4.5)\n",
    "\n",
    "DimPlot(new_dia_cd4, cells.highlight = colnames(new_dia_cd4)[grep(new_dia_cd4$cdr3_A1, pattern = \"CVVSDRGSTLGRLYF\")])"
   ]
  },
  {
   "cell_type": "code",
   "execution_count": null,
   "id": "07e1af33",
   "metadata": {
    "scrolled": true
   },
   "outputs": [],
   "source": [
    "options(repr.plot.width = 6, repr.plot.height = 5)\n",
    "for(i in c(\n",
    "\"CASARGVNEQYF\",\"CASRGQGLGEQYF\",\"CASRYYSVQGRTDTQYF\",\"CASSAMDTEAFF\",\n",
    "\"CASSAPLAGHYEQYF\",\"CASSAWDGYEQYF\",\"CASSDGFTDTQYF\",\"CASSDLGLAGVIEQFF\",\n",
    "\"CASSDLMGPDNYEQYF\",\"CASSDLPETQYF\",\"CASSDQNTEAFF\",\"CASSDRANEQFF\",\n",
    "\"CASSDRLAGDTQYF\",\"CASSDRRQGAHQPQHF\",\"CASTSLETSQYF\",\n",
    "\"CASSEAGSGEKLFF\",\"CASSEALILFF\",\"CASSEAPWRDSGNTIYF\",\n",
    "\"CASSEEGALKESVGTQYF\",\"CASSEEGALKESVGTQYF\",\"CASSEFDGGQETQYF\",\"CASSEFGGTERTQETQYF\",\n",
    "\"CASSEFGGTERTQETQYF\",\"CASSEFGQSADEQFF\",\"CASSEGGQDYEQYF\",\"CASSEGTAGTDTQYF\",\n",
    "\"CASSEGTGPNSPLHF\",\"CASSEGWEQYF\",\"CASSELLRGQGRTGELFF\",\"CASSELTDTQYF\",\n",
    "\"CASSEMGQGVYTF\",\"CASSENSGTGRIYEQYF\",\"CASSEPSSGNTIYF\",\"CASSEPTGLGTDTQYF\",\n",
    "\"CASSESATGFSPLHF\",\"CASSESGGSTEAFF\",\"CASSESLAGGYNEQFF\",\"CASSESVETQYF\",\n",
    "\"CASSEWAGGQETQYF\",\"CASSEWEDITDTQYF\",\"CASSEWGRTQETQYF\",\"CASSEWGTNEKLFF\",\n",
    "\"CASSEYESTNEKLFF\",\"CASSEYESTNEKLFF\",\"CASSEYFAGFNEQYF\",\"CASSEYGTLQETYF\",\n",
    "\"CASSEYMEAGIPTDTQYF\",\"CASSEYMEGGEKLFF\",\"CASSEYRRRSGEKLFF\",\"CASSFGGETQYF\",\n",
    "\"CASSGDRRQGAHQPQHF\",\"CASSGLLTGPDTQYF\",\"CASSGLRDRGLYEQYF\",\"CASSGTGGAFDEQFF\",\n",
    "\"CASSGTVTEAFF\",\"CASSGYQGGGETQYF\",\"CASSPIGGHGYEQYF\",\"CASSPRDRWHEQYF\",\n",
    "\"CASSRGGFDEQYF\",\"CASSRGGGTEAFF\",\"CASSRGGYTEAFF\",\"CASSTGGADEKLFF\",\n",
    "\"CASSVPLRDYEQYF\",\"CASTGASGTYEQYF\",\"CASTPRKGTDVGNTIYF\",\"CASTPSGGWSSDTQYF\",\n",
    "'CAVRDSNYQLIW', 'CAVMDSNYQLIW', 'CAVLDSNYQLIW', 'CAVMDSSYKLIF', 'CAVTDSNYQLIW', \n",
    "    'CAVRDGDYKLSF', 'CAVKDSNYQLIW', 'CAAMDSNYQLIW', 'CAALDSNYQLIW', 'CALNDYKLSF', \n",
    "    'CAVVDSNYQLIW', 'CVVSDRGSTLGRLYF', 'CAVIDSNYQLIW', 'CAENTGGFKTIF', 'CAVSDSNYQLIW', \n",
    "    'CALSGGSNYKLTF', 'CAVEDQTGANNLFF', 'CALSDSGGGADGLTF', 'CAVRDRDYKLSF', 'CAGMDSNYQLIW', \n",
    "    'CAVNDYKLSF', 'CAPMDSNYQLIW', 'CASMDSNYQLIW', 'CAVNRDDKIIF', 'CAENSGGSNYKLTF', \n",
    "    'CAPLDSNYQLIW', 'CALNSGGSNYKLTF', 'CVVNDYKLSF', 'CALSSNDYKLSF', 'CAASNQAGTALIF', \n",
    "    'CVVNTGNQFYF', 'CVVNTNAGKSTF', 'CAVEDTGGFKTIF', 'CAVEDSNYQLIW', 'CAVDNYGQNFVF', \n",
    "    'CALSDSGGSNYKLTF', 'CAVMDSSYKLIF', 'CAVNTGGFKTIF', 'CAVRDGNYQLIW', \n",
    "    'CALNTGFQKLVF', 'CAENTGTASKLTF', 'CAATDSNYQLIW', 'CAVNQAGTALIF', \n",
    "    'CAENYGGSQGNLIF', 'CAVLNRDDKIIF', 'CAVEDNYGQNFVF', 'CAVNDYKLSF', \n",
    "    'CVVNNARLMF', 'CAVDNYGQNFVF', 'CAVDSSASKIIF', 'CALIYNQGGKLIF', \n",
    "    'CALNTGGFKTIF', 'CAENNAGNMLTF', 'CAVLDSSYKLIF', 'CAAMDSSYKLIF'))\n",
    "\n",
    "{\n",
    "   print(DimPlot(new_dia_cd4, cells.highlight = colnames(new_dia_cd4)[grep(new_dia_cd4$cdr3_A1, pattern = i)]) + ggtitle(i))\n",
    "   ggsave(create.dir = TRUE, paste0(\"../figures/tcr/cd4_tcr/invariant_sequences2_cd4_full/\",i,\".png\"), width = 20, height = 16, units = \"cm\")\n",
    "}"
   ]
  },
  {
   "cell_type": "code",
   "execution_count": null,
   "id": "7253af41",
   "metadata": {},
   "outputs": [],
   "source": [
    "options(repr.plot.width = 6, repr.plot.height = 5)\n",
    "for(i in c(\n",
    "\"CAALDSNYQLIW\",\n",
    "\"CAAMDSNYQLIW\",\n",
    "\"CARSDSNYQLIW\",\n",
    "\"CASMDSNYQLIW\",\n",
    "\"CASSDSGESGTEAFF\",\n",
    "\"CASSPSGGDYNEQFF\",\n",
    "\"CASSQIAGGQQETQYF\",\n",
    "\"CAVLDSNYQLIW\",\n",
    "\"CAVMDSNYQLIW\",\n",
    "\"CAVNGDDYKLSF\",\n",
    "\"CAVRDGDYKLSF\",\n",
    "\"CAVRDSDYKLSF\",\n",
    "\"CAVRDSNYQLIQW\",\n",
    "\"CAVRDSNYQLIW\",\n",
    "\"CAVSDSNYQLIW\",\n",
    "\"CAVSLQDYKLSF\",\n",
    "\"CSARQGAESREQYF\"\n",
    "\n",
    ")){\n",
    "   DimPlot(new_dia_cd4, pt.size = 0.5, \n",
    "           cells.highlight = colnames(new_dia_cd4)[grep(new_dia_cd4$cdr3_A1, pattern = i)]) + \n",
    "    ggtitle(i) + NoLegend() + theme(axis.text = element_text(size = 25), title = element_text(size = 25))\n",
    "   ggsave(create.dir = TRUE, paste0(\"./figures/tcr/cd4_tcr/mait_sequences_cd4/\",i,\".png\"), width = 18, height = 18, units = \"cm\")\n",
    "}"
   ]
  },
  {
   "cell_type": "markdown",
   "id": "d9ff18f2",
   "metadata": {},
   "source": [
    "### Sequencing sufficiency"
   ]
  },
  {
   "cell_type": "code",
   "execution_count": null,
   "id": "9e5b17c1",
   "metadata": {},
   "outputs": [],
   "source": [
    "new_dia_cd4@meta.data <- new_dia_cd4@meta.data %>% mutate(clone_status_tra = ifelse(is.na(cdr3_A1), \n",
    "                                                      ifelse(is.na(cdr3_A2),\"NA\", \"OK\"), \n",
    "                                                      ifelse(is.na(cdr3_A2),\"OK\", \"OK\")),\n",
    "                            clone_status_trb = ifelse(is.na(cdr3_B), \"NA\", \"OK\"))\n",
    "                 \n",
    "DimPlot(new_dia_cd4, group.by = \"clone_status_tra\", cols = c(\"indianred2\", \"palegreen3\")) + ggtitle(\"Clone status TRA\")      \n",
    "ggsave(create.dir = TRUE, \"../figures/tcr/cd4_tcr/seq_sufficiency/do_we_have_data_tra.png\", width = 14, height = 10, units = \"cm\", dpi = 120)\n",
    "\n",
    "DimPlot(new_dia_cd4, group.by = \"clone_status_trb\", cols = c(\"indianred2\", \"palegreen3\")) + ggtitle(\"Clone status TRB\")      \n",
    "ggsave(\"../figures/tcr/cd4_tcr/seq_sufficiency/do_we_have_data_trb.png\", width = 14, height = 10, units = \"cm\", dpi = 120)\n",
    "\n",
    "\n",
    "new_dia_cd4@meta.data %>% group_by(clone_status_tra) %>% summarize(n = n()) %>% \n",
    "  mutate(freq = n / sum(n))\n",
    "\n",
    "new_dia_cd4@meta.data %>% group_by(clone_status_trb) %>% summarize(n = n()) %>% \n",
    "  mutate(freq = n / sum(n))"
   ]
  },
  {
   "cell_type": "markdown",
   "id": "1e04f870",
   "metadata": {},
   "source": [
    "# CD4 subcluster"
   ]
  },
  {
   "cell_type": "code",
   "execution_count": null,
   "id": "1dc6b30e",
   "metadata": {},
   "outputs": [],
   "source": [
    "cd4_subcluster  <- readRDS(\"../data/processed/L2/cd4_subcluster.rds\")"
   ]
  },
  {
   "cell_type": "code",
   "execution_count": null,
   "id": "2111e71e",
   "metadata": {},
   "outputs": [],
   "source": [
    "metadata_6 <- cd4_subcluster@meta.data "
   ]
  },
  {
   "cell_type": "code",
   "execution_count": null,
   "id": "ae0f6804",
   "metadata": {},
   "outputs": [],
   "source": [
    "metadata_6 <- metadata_6 %>% mutate(\n",
    "  clone_nt = paste(cdr3_B_nt,cdr3_A1_nt,cdr3_A2_nt),\n",
    "  clone_aa = paste(\"CDR3b\",cdr3_B,\"CDR3a\",cdr3_A1)\n",
    ")"
   ]
  },
  {
   "cell_type": "code",
   "execution_count": null,
   "id": "689124f9",
   "metadata": {
    "scrolled": true
   },
   "outputs": [],
   "source": [
    "clone_table <- metadata_6 %>%\n",
    "  dplyr::group_by(clone_aa) %>%\n",
    "          dplyr::summarize(n = n(), sum = sum()) %>%\n",
    "    arrange(desc(n))\n",
    "\n",
    "clone_table"
   ]
  },
  {
   "cell_type": "code",
   "execution_count": null,
   "metadata": {},
   "outputs": [],
   "source": [
    "cd4_subcluster@meta.data  <- metadata_6\n",
    "rownames(cd4_subcluster@meta.data)  <- colnames(cd4_subcluster)"
   ]
  },
  {
   "cell_type": "code",
   "execution_count": null,
   "id": "6e1191d7",
   "metadata": {
    "scrolled": true
   },
   "outputs": [],
   "source": [
    "metadata_6$test <- 0\n",
    "metadata_6 <- metadata_6 %>% group_by(test, clone_aa) %>% mutate(clone_abundance = as.numeric(n()))\n",
    "\n",
    "\n",
    "metadata_6 <- as.data.frame(metadata_6 %>% mutate(clone_abundance = as.numeric(ifelse(clone_abundance>1000,NA_integer_,clone_abundance))) %>%\n",
    "  mutate(log_clone_abundance = log(clone_abundance, base = 2)))\n",
    "rownames(metadata_6) <- colnames(cd4_subcluster)\n",
    "\n",
    "cd4_subcluster@meta.data <- metadata_6\n",
    "rownames(cd4_subcluster@meta.data) <- colnames(cd4_subcluster)\n",
    "\n",
    "cd4_subcluster <- AddMetaData(cd4_subcluster, as.numeric(metadata_6$clone_abundance), \"clone_abundance\")\n",
    "rownames(cd4_subcluster@meta.data) <- colnames(cd4_subcluster)\n",
    "\n",
    "FeaturePlot(cd4_subcluster, reduction = \"umap\", features = \"log_clone_abundance\", raster = T)\n",
    "\n",
    "FeaturePlot(subset(cd4_subcluster, clone_abundance >=1 & clone_abundance < 2000), \n",
    "            reduction = \"umap\", features = \"log_clone_abundance\", cols = c(\"lightblue\",\"firebrick\")) + theme_classic() + theme(plot.title = element_text(hjust = 0.5)) + ggtitle(\"Log2 clone abundance\")\n",
    "\n",
    "DimPlot(cd4_subcluster, raster =T)\n",
    "\n",
    "# Clone abundance bar graph\n",
    "metadata_6 <- metadata_6 %>%\n",
    "  mutate( clone_abundance_group = case_when(clone_abundance>30 ~ \">30\",\n",
    "                                            clone_abundance>10&clone_abundance<=30 ~ \"11-30\",\n",
    "                                            clone_abundance>6&clone_abundance<=10 ~ \"6-10\",\n",
    "                                            clone_abundance>2&clone_abundance<=5 ~ \"3-5\",\n",
    "                                            clone_abundance==2 ~ \"2\",\n",
    "                                            clone_abundance==1 ~ \"1\",\n",
    "                                            TRUE ~ \"1\"\n",
    "                                            ))"
   ]
  },
  {
   "cell_type": "code",
   "execution_count": null,
   "metadata": {},
   "outputs": [],
   "source": [
    "options(repr.plot.width = 4, repr.plot.height = 3)\n",
    "\n",
    "FeaturePlot(subset(cd4_subcluster, clone_abundance >=1 & clone_abundance < 1000), \n",
    "            reduction = \"umap\", features = \"log_clone_abundance\", \n",
    "            cols = c(\"aliceblue\",\"firebrick\")) + theme_classic() + theme(plot.title = element_text(hjust = 0.5)) + \n",
    "ggtitle(\"Log2 clone abundance\")\n"
   ]
  },
  {
   "cell_type": "markdown",
   "id": "ae8c4ce9",
   "metadata": {},
   "source": [
    "### Clones dotplots dimplots"
   ]
  },
  {
   "cell_type": "code",
   "execution_count": null,
   "metadata": {},
   "outputs": [],
   "source": [
    "cd4_subcluster@meta.data <- cd4_subcluster@meta.data %>% mutate(\n",
    "  clone_nt = paste(cdr3_B_nt,cdr3_A1_nt,cdr3_A2_nt),\n",
    "  clone_aa = paste(\"CDR3b\",cdr3_B,\"CDR3a\",cdr3_A1)\n",
    ")"
   ]
  },
  {
   "cell_type": "code",
   "execution_count": null,
   "metadata": {},
   "outputs": [],
   "source": [
    "for(i in 2:300){\n",
    "  DimPlot(cd4_subcluster, raster = F, \n",
    "          cells.highlight = colnames(cd4_subcluster)[grep(cd4_subcluster$clone_aa, \n",
    "                                                       pattern = pull(clone_table, clone_aa)[i])]) +\n",
    "    ggtitle(pull(clone_table, clone_aa)[i])\n",
    "    ggsave(paste0(\"../figures/tcr_plots/tcr_plots_cd4_subcluster/tcr_clone_\",i,\".png\"), width = 13, height = 10, units = \"cm\")\n",
    "\n",
    "}"
   ]
  },
  {
   "cell_type": "markdown",
   "metadata": {},
   "source": [
    "### Clone abundance bar graph"
   ]
  },
  {
   "cell_type": "code",
   "execution_count": null,
   "id": "eab2fc88",
   "metadata": {},
   "outputs": [],
   "source": [
    "options(repr.plot.width = 3.5, repr.plot.height = 3)\n",
    "\n",
    "metadata_6 <- metadata_6 %>%\n",
    "  mutate( clone_abundance_group = ifelse(clone_abundance>10, \"10+\",\n",
    "                                          ifelse(clone_abundance>5, \"6-9\",\n",
    "                                             ifelse(clone_abundance>3, \"4-5\",\n",
    "                                             ifelse(clone_abundance>1, \"2-3\",\n",
    "                                             ifelse(clone_abundance==1, \"1\",\"1\"))))))\n",
    "\n",
    "metadata_6 %>% \n",
    "  filter(!is.na(clone_abundance_group)) %>% \n",
    "  ggplot(aes(x = factor(annotations_manual, \n",
    "                        levels = levels(factor(annotations_manual))[c(9,3,5,8,6,4,1,2,7)]))) + \n",
    "  geom_bar(aes(fill = factor(clone_abundance_group, levels = c(\"1\",\"2-3\",\"4-5\",\"6-9\",\"10+\"))), position = \"fill\") + \n",
    "  coord_flip() +\n",
    "  scale_fill_brewer(palette = \"Blues\") + xlab(\"Frequency\")+\n",
    "  ylab(\"\") + \n",
    "  theme_classic() + \n",
    "  theme(plot.title = element_text(hjust = 0.5), \n",
    "        legend.position=\"right\", \n",
    "        panel.border = element_blank(), \n",
    "        legend.title = element_blank()) + \n",
    "  ggtitle(\"Clone abundance in clusters\")\n",
    "\n",
    "ggsave(create.dir = TRUE, \"../figures/tcr_plots/Log2CloneAbundance_bar_clusters_cd4.png\", width = 14, height = 6, units = \"cm\", dpi = 120)\n",
    "ggsave(\"../figures/tcr_plots/Log2CloneAbundance_bar_clusters_cd4.svg\", width = 14, height = 6, units = \"cm\", dpi = 120)"
   ]
  },
  {
   "cell_type": "markdown",
   "metadata": {},
   "source": [
    "## CDR3 beta length"
   ]
  },
  {
   "cell_type": "code",
   "execution_count": null,
   "metadata": {},
   "outputs": [],
   "source": [
    "metadata_6$cdr3_B_nchar  <- nchar(metadata_6$cdr3_B)"
   ]
  },
  {
   "cell_type": "code",
   "execution_count": null,
   "metadata": {},
   "outputs": [],
   "source": [
    "options(repr.plot.width = 17)\n",
    "metadata_6 %>% \n",
    "filter(Condition %in% c(\"Ctrl T0\", \"Dia T0\", \"Ctrl T1\", \"Dia T1\"))  %>% \n",
    "mutate(Disease == ifelse(grepl(pattern = \"Ctrl\", x = Condition), \"Ctrl\", \"Dia\"))  %>% \n",
    "group_by(Disease, Sample_ID, cdr3_B_nchar)  %>% \n",
    "tally  %>% \n",
    "filter(!is.na(cdr3_B_nchar))  %>% \n",
    "ggplot(aes(x = Disease, y = n)) + \n",
    "  geom_boxplot(outlier.shape = NA, aes(fill = Disease), alpha = 0.4) + \n",
    "  geom_dotplot(binaxis='y', stackdir='center', dotsize=0) +\n",
    "  geom_jitter(width = 0.2, height = 0.5, size = 0.5, alpha = 1, aes(color = Disease)) +  # in aes, you can also use shape or fill (for the shapes that allow it)\n",
    "  facet_wrap(~factor(cdr3_B_nchar),\n",
    "             scales = \"fixed\", ncol = 19, drop = T) +\n",
    " ylab(\"Log2 clonal abundance\") +\n",
    "  xlab(\"CDR3 beta length\") +\n",
    "  theme_classic() + \n",
    "  ggpubr::stat_compare_means(label.x.npc = 0.3, label = \"p.format\") + \n",
    "theme(strip.background = element_blank(), axis.text.x = element_blank(), \n",
    "     axis.ticks.x = element_blank())"
   ]
  },
  {
   "cell_type": "markdown",
   "metadata": {},
   "source": [
    "- každou sekvenci u jednoho pacienta počítat tolikrát, kolikrát tam je\n",
    "- počítám počet dané délky pro jednoho pacienta\n",
    "- potom plotuji frekvenci dané délky u daného pacienta\n",
    "- ctrl and dia both from T0 and T1"
   ]
  },
  {
   "cell_type": "code",
   "execution_count": null,
   "metadata": {
    "scrolled": true
   },
   "outputs": [],
   "source": [
    "options(repr.plot.width = 17)\n",
    "test_length  <- metadata_6 %>% \n",
    "filter(Condition %in% c(\"Ctrl T0\", \"Dia T0\", \"Ctrl T1\", \"Dia T1\"))  %>% \n",
    "mutate(Disease == ifelse(grepl(pattern = \"Ctrl\", x = Condition), \"Ctrl\", \"Dia\"))  %>% \n",
    "group_by(Disease, Patient_ID, cdr3_B_nchar)  %>%\n",
    "  summarise(n = n()) %>%\n",
    "  mutate(freq = n / sum(n))\n",
    "\n",
    "#test_length  %>% group_by(Patient_ID)  %>% summarise(sum = sum(freq))\n",
    "\n",
    "test_length  %>% \n",
    "filter(!is.na(cdr3_B_nchar))  %>% \n",
    "ggplot(aes(x = Disease, y = freq)) + \n",
    "  geom_boxplot(outlier.shape = NA, aes(fill = Disease), alpha = 0.4) + \n",
    "  geom_dotplot(binaxis='y', stackdir='center', dotsize=0) +\n",
    "  geom_jitter(width = 0.2, height = 0, size = 0.5, alpha = 1, aes(color = Disease)) +  # in aes, you can also use shape or fill (for the shapes that allow it)\n",
    "  facet_wrap(~factor(cdr3_B_nchar),\n",
    "             scales = \"fixed\", ncol = 19, drop = T) +\n",
    " ylab(\"Frequency\") +\n",
    "  xlab(\"CDR3 beta length\") +\n",
    "  theme_classic() + \n",
    "  ggpubr::stat_compare_means(label.x.npc = 0.3, label = \"p.format\") + \n",
    "theme(strip.background = element_blank(), axis.text.x = element_blank(), \n",
    "     axis.ticks.x = element_blank())"
   ]
  },
  {
   "cell_type": "markdown",
   "metadata": {},
   "source": [
    "- každou sekvenci u jednoho pacienta počítat pouze jednou\n",
    "- počítám počet dané délky pro jednoho pacienta\n",
    "- potom plotuji frekvenci dané délky u daného pacienta"
   ]
  },
  {
   "cell_type": "code",
   "execution_count": null,
   "metadata": {
    "scrolled": true
   },
   "outputs": [],
   "source": [
    "options(repr.plot.width = 17)\n",
    "test_length  <- metadata_6 %>% \n",
    "dplyr::select(Disease, Condition, Patient_ID, cdr3_B_nchar, cdr3_B)  %>% \n",
    "unique  %>% \n",
    "filter(Condition %in% c(\"Ctrl T0\", \"Dia T0\", \"Ctrl T1\", \"Dia T1\"))  %>% \n",
    "mutate(Disease == ifelse(grepl(pattern = \"Ctrl\", x = Condition), \"Ctrl\", \"Dia\"))  %>% \n",
    "group_by(Disease, Patient_ID, cdr3_B_nchar)  %>%\n",
    "  summarise(n = n()) %>%\n",
    "  mutate(freq = n / sum(n))\n",
    "\n",
    "test_length  %>% group_by(Patient_ID)  %>% summarise(sum = sum(freq))"
   ]
  },
  {
   "cell_type": "code",
   "execution_count": null,
   "metadata": {},
   "outputs": [],
   "source": [
    "options(repr.plot.width = 27, repr.plot.height = 10)\n",
    "test_length  %>% \n",
    "filter(!is.na(cdr3_B_nchar))  %>% \n",
    "ggplot(aes(x = Disease, y = freq)) + \n",
    "  geom_boxplot(outlier.shape = NA, aes(fill = Disease), alpha = 0.4) + \n",
    "  geom_dotplot(binaxis='y', stackdir='center', dotsize=0) +\n",
    "  geom_jitter(width = 0.2, height = 0, size = 0.7, shape = 21, alpha = 0.7, aes(fill = Disease)) +  # in aes, you can also use shape or fill (for the shapes that allow it)\n",
    "  facet_wrap(~factor(cdr3_B_nchar),\n",
    "             scales = \"fixed\", ncol = 19, drop = T) +\n",
    " scale_fill_manual(values = c(\"dodgerblue\", \"red2\"))  +\n",
    "ylab(\"Frequency\") +\n",
    "  xlab(\"CDR3 beta length\") +\n",
    "  theme_classic() + \n",
    "  ggpubr::stat_compare_means(label.x.npc = 0.3, label = \"p.format\", size = 7) + \n",
    "theme(strip.background = element_blank(), axis.text.x = element_blank(), \n",
    "     axis.ticks.x = element_blank()) + ggtheme()\n",
    "ggsave(create.dir = TRUE, filename = \"../figures/tcr_plots/tcr_length/cd4.png\", width = 20, height = 10, units = \"cm\")\n",
    "ggsave(filename = \"../figures/tcr_plots/tcr_length/cd4.svg\", width = 20, height = 10, units = \"cm\")"
   ]
  },
  {
   "cell_type": "code",
   "execution_count": null,
   "metadata": {},
   "outputs": [],
   "source": []
  },
  {
   "cell_type": "markdown",
   "id": "03ec0d10",
   "metadata": {},
   "source": [
    "### Size of clones - cluster"
   ]
  },
  {
   "cell_type": "code",
   "execution_count": null,
   "id": "33e8a064",
   "metadata": {},
   "outputs": [],
   "source": [
    "options(repr.plot.width = 8, repr.plot.height = 5)\n",
    "\n",
    "metadata_6 %>% \n",
    "  group_by(clone_aa, annotations_manual) %>% \n",
    "  ggplot(aes(x = reorder(annotations_manual, log_clone_abundance, mean, na.rm = TRUE), y = log_clone_abundance)) + \n",
    "  geom_boxplot(outlier.shape = NA) + \n",
    "  geom_dotplot(binaxis='y', stackdir='center', dotsize=0) +\n",
    "  #scale_color_manual(values = c(\"indianred2\",\"dodgerblue2\",\"green4\")) +\n",
    "  geom_jitter(width = 0.2, height = 0.5, size = 0.5, alpha = 0.2) +  # in aes, you can also use shape or fill (for the shapes that allow it)\n",
    "  #facet_wrap(~Annotations, scales = \"free\", ncol = 4) +\n",
    "  ylab(\"Log2 clonal abundance\") +\n",
    "  xlab(\"Cluster\") +\n",
    "  theme_classic() + \n",
    "  ylim(c(0,8))+\n",
    "  ggpubr::stat_compare_means(label.x.npc = 0.3)\n",
    "\n",
    "#ggsave(\"v01_clones/plots_cd4/size_of_clones1.png\", width = 11, height = 8, units = \"cm\", dpi = 120)"
   ]
  },
  {
   "cell_type": "code",
   "execution_count": null,
   "metadata": {
    "scrolled": true
   },
   "outputs": [],
   "source": [
    "options(repr.plot.width = 14, repr.plot.height = 4)\n",
    "\n",
    "metadata_6 %>% \n",
    "filter(Condition %in% c(\"Ctrl T0\", \"Dia T0\"))  %>% \n",
    "  group_by(clone_aa, annotations_manual, Condition) %>% \n",
    "  ggplot(aes(x = Condition, y = log_clone_abundance)) + \n",
    "  geom_boxplot(outlier.shape = NA, aes(fill = Condition), alpha = 0.4) + \n",
    "  geom_dotplot(binaxis='y', stackdir='center', dotsize=0) +\n",
    "  geom_jitter(width = 0.2, height = 0.5, size = 0.5, alpha = 0.2, aes(color = Condition)) +  # in aes, you can also use shape or fill (for the shapes that allow it)\n",
    "  facet_wrap(~factor(annotations_manual, \n",
    "                     levels = levels(factor(reorder(annotations_manual, log_clone_abundance, mean, na.rm = TRUE)))),\n",
    "             scales = \"fixed\", ncol = 11, drop = T) +\n",
    "  scale_color_manual(values = c(\"green4\", \"indianred2\")) +\n",
    "  scale_fill_manual(values = c(\"green4\", \"indianred2\")) +\n",
    "  ylab(\"Log2 clonal abundance\") +\n",
    "  xlab(\"Cluster\") +\n",
    "  theme_classic() + \n",
    "  ylim(c(0,8))+\n",
    "  ggpubr::stat_compare_means(label.x.npc = 0.3, label = \"p.format\") + \n",
    "theme(strip.background = element_blank(), axis.text.x = element_blank(), \n",
    "     axis.ticks.x = element_blank())\n",
    "\n",
    "#ggsave(\"v01_clones/plots_cd4/size_of_clones2.png\", width = 11, height = 8, units = \"cm\", dpi = 120)"
   ]
  },
  {
   "cell_type": "code",
   "execution_count": null,
   "metadata": {
    "scrolled": true
   },
   "outputs": [],
   "source": [
    "options(repr.plot.width = 14, repr.plot.height = 4)\n",
    "\n",
    "metadata_6 %>% \n",
    "filter(Condition %in% c(\"Ctrl T0\", \"Dia T0\"))  %>% \n",
    "  group_by(annotations_manual, Condition, Patient_Time) %>%\n",
    "summarize(mean_log_clone_abundance = mean(log_clone_abundance, na.rm = T))  %>% \n",
    "ggplot(aes(x = Condition, y = mean_log_clone_abundance)) + \n",
    "  geom_boxplot(outlier.shape = NA, aes(fill = Condition), alpha = 0.4) + \n",
    "  geom_dotplot(binaxis='y', stackdir='center', dotsize=0) +\n",
    "  geom_jitter(width = 0.2, height = 0.5, size = 0.5, alpha = 1, aes(color = Condition)) +  # in aes, you can also use shape or fill (for the shapes that allow it)\n",
    "  facet_wrap(~factor(annotations_manual, \n",
    "                     levels = levels(factor(reorder(annotations_manual, mean_log_clone_abundance, mean, na.rm = TRUE)))),\n",
    "             scales = \"fixed\", ncol = 11, drop = T) +\n",
    "  scale_color_manual(values = c(\"green4\", \"indianred2\")) +\n",
    "  scale_fill_manual(values = c(\"green4\", \"indianred2\")) +\n",
    "  ylab(\"Log2 clonal abundance\") +\n",
    "  xlab(\"Cluster\") +\n",
    "  theme_classic() + \n",
    "  ylim(c(0,5))+\n",
    "  ggpubr::stat_compare_means(label.x.npc = 0.3, label = \"p.format\") + \n",
    "theme(strip.background = element_blank(), axis.text.x = element_blank(), \n",
    "     axis.ticks.x = element_blank())\n",
    "\n",
    "#ggsave(\"v01_clones/plots_cd4/size_of_clones3.png\", width = 11, height = 8, units = \"cm\", dpi = 120)"
   ]
  },
  {
   "cell_type": "markdown",
   "metadata": {},
   "source": [
    "# TRAV and TRBV usage"
   ]
  },
  {
   "cell_type": "markdown",
   "metadata": {},
   "source": [
    "### TRAV"
   ]
  },
  {
   "cell_type": "code",
   "execution_count": null,
   "metadata": {},
   "outputs": [],
   "source": [
    "trav_usage <- metadata_6 %>%\n",
    "filter(!is.na(v_gene_A1))  %>% \n",
    "  dplyr::group_by(Patient_ID, v_gene_A1) %>%\n",
    "  summarise(n = n()) %>%\n",
    "  mutate(freq = n / sum(n))  %>% arrange(desc(freq))  %>% \n",
    "dplyr::select(-n)  %>% \n",
    "pivot_wider(names_from = \"v_gene_A1\", values_from = \"freq\", values_fill = 0)  %>% \n",
    "pivot_longer(!Patient_ID, names_to = \"v_gene_A1\", values_to = \"freq\")"
   ]
  },
  {
   "cell_type": "code",
   "execution_count": null,
   "metadata": {
    "scrolled": true
   },
   "outputs": [],
   "source": [
    "trav_usage"
   ]
  },
  {
   "cell_type": "code",
   "execution_count": null,
   "metadata": {
    "scrolled": true
   },
   "outputs": [],
   "source": [
    "trav_usage  <- trav_usage  %>% mutate(Disease = ifelse((substr(Patient_ID, 1,1)==\"1\"), \"Dia\",\"Ctrl\"))"
   ]
  },
  {
   "cell_type": "code",
   "execution_count": null,
   "metadata": {
    "scrolled": true
   },
   "outputs": [],
   "source": [
    "trav_usage"
   ]
  },
  {
   "cell_type": "code",
   "execution_count": null,
   "metadata": {},
   "outputs": [],
   "source": [
    "trav_usage <- metadata_6 %>%\n",
    "filter(!is.na(v_gene_A1))  %>% \n",
    "  dplyr::group_by(Patient_ID, v_gene_A1) %>%\n",
    "  summarise(n = n()) %>%\n",
    "  mutate(freq = n / sum(n))  %>% arrange(desc(freq))  %>% \n",
    "dplyr::select(-n)  %>% \n",
    "pivot_wider(names_from = \"v_gene_A1\", values_from = \"freq\", values_fill = 0)  %>% \n",
    "pivot_longer(!Patient_ID, names_to = \"v_gene_A1\", values_to = \"freq\")\n",
    "\n",
    "trav_usage\n",
    "\n",
    "trav_usage  <- trav_usage  %>% mutate(Disease = ifelse((substr(Patient_ID, 1,1)==\"1\"), \"Dia\",\"Ctrl\"))\n",
    "\n",
    "trav_usage"
   ]
  },
  {
   "cell_type": "code",
   "execution_count": null,
   "metadata": {
    "scrolled": true
   },
   "outputs": [],
   "source": [
    "options(repr.plot.height = 25, repr.plot.width = 10)\n",
    "trav_usage  %>% \n",
    "filter(grepl(v_gene_A1, pattern = \"TRD\")==F)  %>% \n",
    "group_by(v_gene_A1, Disease)  %>% \n",
    "summarise(freq2 = mean(freq, na.rm = TRUE),\n",
    "          min = min(freq, na.rm = TRUE),\n",
    "          max = max(freq, na.rm = TRUE))  %>% \n",
    "#filter(freq2>0.005)  %>% \n",
    "mutate(v_gene_A1 = fct_reorder(v_gene_A1, desc(freq2))) %>%\n",
    "  ggplot(aes(x = Disease, y = freq2, color = Disease)) + \n",
    "facet_grid(rows = vars(fct_reorder(v_gene_A1, desc(freq2)))) +\n",
    "geom_point(size = 2) + coord_flip() + \n",
    "geom_linerange(aes(ymin = min, ymax = max, color = Disease),\n",
    "                 alpha = 0.5, linewidth = 1) +\n",
    "ggtheme()  +\n",
    "theme(strip.text.y = element_text(\n",
    "        angle = 0), \n",
    "     axis.ticks.y = element_blank(),\n",
    "     axis.text.y = element_blank(),\n",
    "      strip.background = element_blank(),\n",
    "      panel.background = element_blank(),\n",
    "  panel.grid.major = element_line(size = 0.3, linetype = 'solid',\n",
    "                                colour = \"grey92\"), \n",
    "  panel.grid.minor = element_line(size = 0.3, linetype = 'solid',\n",
    "                                colour = \"grey92\")\n",
    "     ) +\n",
    "ggpubr::stat_compare_means(label.x.npc = 0.3, label = \"p.format\") +\n",
    "scale_color_manual(values = c(\"dodgerblue\", \"red3\"))"
   ]
  },
  {
   "cell_type": "code",
   "execution_count": null,
   "metadata": {},
   "outputs": [],
   "source": [
    "#ggsave(\"../figures/tcr/vdj_usage/cd4_trav.png\", width = 20, height = 50, units = \"cm\")\n",
    "#ggsave(\"../figures/tcr/vdj_usage/cd4_trav.svg\", width = 20, height = 50, units = \"cm\")"
   ]
  },
  {
   "cell_type": "markdown",
   "metadata": {},
   "source": [
    "### TRAJ"
   ]
  },
  {
   "cell_type": "code",
   "execution_count": null,
   "metadata": {},
   "outputs": [],
   "source": [
    "traj_usage <- metadata_6 %>%\n",
    "filter(!is.na(j_gene_A1))  %>% \n",
    "  dplyr::group_by(Patient_ID, j_gene_A1) %>%\n",
    "  summarise(n = n()) %>%\n",
    "  mutate(freq = n / sum(n))  %>% arrange(desc(freq))  %>% \n",
    "dplyr::select(-n)  %>% \n",
    "pivot_wider(names_from = \"j_gene_A1\", values_from = \"freq\", values_fill = 0)  %>% \n",
    "pivot_longer(!Patient_ID, names_to = \"j_gene_A1\", values_to = \"freq\")"
   ]
  },
  {
   "cell_type": "code",
   "execution_count": null,
   "metadata": {
    "scrolled": true
   },
   "outputs": [],
   "source": [
    "traj_usage"
   ]
  },
  {
   "cell_type": "code",
   "execution_count": null,
   "metadata": {
    "scrolled": true
   },
   "outputs": [],
   "source": [
    "traj_usage  <- traj_usage %>% mutate(Disease = ifelse((substr(Patient_ID, 1,1)==\"1\"), \"Dia\",\"Ctrl\"))"
   ]
  },
  {
   "cell_type": "code",
   "execution_count": null,
   "metadata": {
    "scrolled": true
   },
   "outputs": [],
   "source": [
    "traj_usage"
   ]
  },
  {
   "cell_type": "code",
   "execution_count": null,
   "metadata": {},
   "outputs": [],
   "source": [
    "options(repr.plot.height = 15, repr.plot.width = 10)\n",
    "traj_usage  %>% \n",
    "filter(grepl(j_gene_A1, pattern = \"TRD\")==F)  %>% \n",
    "group_by(j_gene_A1, Disease)  %>% \n",
    "summarise(freq2 = mean(freq, na.rm = TRUE),\n",
    "          min = min(freq, na.rm = TRUE),\n",
    "          max = max(freq, na.rm = TRUE))  %>% \n",
    "#filter(freq2>0.005)  %>% \n",
    "mutate(j_gene_A1 = fct_reorder(j_gene_A1, desc(freq2))) %>%\n",
    "  ggplot(aes(x = Disease, y = freq2, color = Disease)) + \n",
    "facet_grid(rows = vars(fct_reorder(j_gene_A1, desc(freq2)))) +\n",
    "geom_point(size = 2) + coord_flip() + \n",
    "geom_linerange(aes(ymin = min, ymax = max, color = Disease),\n",
    "                 alpha = 0.5, linewidth = 1) +\n",
    "ggtheme()  +\n",
    "theme(strip.text.y = element_text(\n",
    "        angle = 0), \n",
    "     axis.ticks.y = element_blank(),\n",
    "     axis.text.y = element_blank(),\n",
    "      strip.background = element_blank(),\n",
    "      panel.background = element_blank(),\n",
    "  panel.grid.major = element_line(size = 0.3, linetype = 'solid',\n",
    "                                colour = \"grey92\"), \n",
    "  panel.grid.minor = element_line(size = 0.3, linetype = 'solid',\n",
    "                                colour = \"grey92\")\n",
    "     ) +\n",
    "ggpubr::stat_compare_means(label.x.npc = 0.3, label = \"p.format\") +\n",
    "scale_color_manual(values = c(\"dodgerblue\", \"red3\"))"
   ]
  },
  {
   "cell_type": "code",
   "execution_count": null,
   "metadata": {},
   "outputs": [],
   "source": [
    "#ggsave(\"../figures/tcr/vdj_usage/cd4_traj.png\", width = 15, height = 35, units = \"cm\")\n",
    "#ggsave(\"../figures/tcr/vdj_usage/cd4_traj.svg\", width = 15, height = 35, units = \"cm\")"
   ]
  },
  {
   "cell_type": "markdown",
   "metadata": {},
   "source": [
    "### TRBV"
   ]
  },
  {
   "cell_type": "code",
   "execution_count": null,
   "metadata": {},
   "outputs": [],
   "source": [
    "metadata_6$v_gene_B  %>% table"
   ]
  },
  {
   "cell_type": "code",
   "execution_count": null,
   "metadata": {},
   "outputs": [],
   "source": [
    "trbv_usage <- metadata_6 %>%\n",
    "filter(!is.na(v_gene_B))  %>% \n",
    "  dplyr::group_by(Patient_ID, v_gene_B) %>%\n",
    "  summarise(n = n()) %>%\n",
    "  mutate(freq = n / sum(n))  %>% arrange(desc(freq))  %>% \n",
    "dplyr::select(-n)  %>% \n",
    "pivot_wider(names_from = \"v_gene_B\", values_from = \"freq\", values_fill = 0)  %>% \n",
    "pivot_longer(!Patient_ID, names_to = \"v_gene_B\", values_to = \"freq\")"
   ]
  },
  {
   "cell_type": "code",
   "execution_count": null,
   "metadata": {
    "scrolled": true
   },
   "outputs": [],
   "source": [
    "trbv_usage"
   ]
  },
  {
   "cell_type": "code",
   "execution_count": null,
   "metadata": {
    "scrolled": true
   },
   "outputs": [],
   "source": [
    "trbv_usage  <- trbv_usage %>% mutate(Disease = ifelse((substr(Patient_ID, 1,1)==\"1\"), \"Dia\",\"Ctrl\"))"
   ]
  },
  {
   "cell_type": "code",
   "execution_count": null,
   "metadata": {
    "scrolled": true
   },
   "outputs": [],
   "source": [
    "trbv_usage"
   ]
  },
  {
   "cell_type": "code",
   "execution_count": null,
   "metadata": {},
   "outputs": [],
   "source": [
    "options(repr.plot.height = 15, repr.plot.width = 10)\n",
    "trbv_usage  %>% \n",
    "filter(grepl(v_gene_B, pattern = \"TRD\")==F)  %>% \n",
    "group_by(v_gene_B, Disease)  %>% \n",
    "summarise(freq2 = mean(freq, na.rm = TRUE),\n",
    "          min = min(freq, na.rm = TRUE),\n",
    "          max = max(freq, na.rm = TRUE))  %>% \n",
    "#filter(freq2>0.005)  %>% \n",
    "mutate(v_gene_B = fct_reorder(v_gene_B, desc(freq2))) %>%\n",
    "  ggplot(aes(x = Disease, y = freq2, color = Disease)) + \n",
    "facet_grid(rows = vars(fct_reorder(v_gene_B, desc(freq2)))) +\n",
    "geom_point(size = 2) + coord_flip() + \n",
    "geom_linerange(aes(ymin = min, ymax = max, color = Disease),\n",
    "                 alpha = 0.5, linewidth = 1) +\n",
    "ggtheme()  +\n",
    "theme(strip.text.y = element_text(\n",
    "        angle = 0), \n",
    "     axis.ticks.y = element_blank(),\n",
    "     axis.text.y = element_blank(),\n",
    "      strip.background = element_blank(),\n",
    "      panel.background = element_blank(),\n",
    "  panel.grid.major = element_line(size = 0.3, linetype = 'solid',\n",
    "                                colour = \"grey92\"), \n",
    "  panel.grid.minor = element_line(size = 0.3, linetype = 'solid',\n",
    "                                colour = \"grey92\")\n",
    "     ) +\n",
    "ggpubr::stat_compare_means(label.x.npc = 0.3, label = \"p.format\") +\n",
    "scale_color_manual(values = c(\"dodgerblue\", \"red3\"))"
   ]
  },
  {
   "cell_type": "code",
   "execution_count": null,
   "metadata": {},
   "outputs": [],
   "source": [
    "#ggsave(\"../figures/tcr/vdj_usage/cd4_trbv.png\", width = 15, height = 35, units = \"cm\")\n",
    "#ggsave(\"../figures/tcr/vdj_usage/cd4_trbv.svg\", width = 15, height = 35, units = \"cm\")"
   ]
  },
  {
   "cell_type": "markdown",
   "metadata": {},
   "source": [
    "### TRBJ"
   ]
  },
  {
   "cell_type": "code",
   "execution_count": null,
   "metadata": {},
   "outputs": [],
   "source": [
    "metadata_6$j_gene_B  %>% table"
   ]
  },
  {
   "cell_type": "code",
   "execution_count": null,
   "metadata": {},
   "outputs": [],
   "source": [
    "trbj_usage <- metadata_6 %>%\n",
    "filter(!is.na(j_gene_B))  %>% \n",
    "  dplyr::group_by(Patient_ID, j_gene_B) %>%\n",
    "  summarise(n = n()) %>%\n",
    "  mutate(freq = n / sum(n))  %>% arrange(desc(freq))  %>% \n",
    "dplyr::select(-n)  %>% \n",
    "pivot_wider(names_from = \"j_gene_B\", values_from = \"freq\", values_fill = 0)  %>% \n",
    "pivot_longer(!Patient_ID, names_to = \"j_gene_B\", values_to = \"freq\")"
   ]
  },
  {
   "cell_type": "code",
   "execution_count": null,
   "metadata": {
    "scrolled": true
   },
   "outputs": [],
   "source": [
    "trbj_usage"
   ]
  },
  {
   "cell_type": "code",
   "execution_count": null,
   "metadata": {
    "scrolled": true
   },
   "outputs": [],
   "source": [
    "trbj_usage  <- trbj_usage %>% mutate(Disease = ifelse((substr(Patient_ID, 1,1)==\"1\"), \"Dia\",\"Ctrl\"))"
   ]
  },
  {
   "cell_type": "code",
   "execution_count": null,
   "metadata": {
    "scrolled": true
   },
   "outputs": [],
   "source": [
    "trbj_usage"
   ]
  },
  {
   "cell_type": "code",
   "execution_count": null,
   "metadata": {},
   "outputs": [],
   "source": [
    "options(repr.plot.height = 15, repr.plot.width = 10)\n",
    "trbj_usage  %>% \n",
    "filter(grepl(j_gene_B, pattern = \"TRD\")==F)  %>% \n",
    "group_by(j_gene_B, Disease)  %>% \n",
    "summarise(freq2 = mean(freq, na.rm = TRUE),\n",
    "          min = min(freq, na.rm = TRUE),\n",
    "          max = max(freq, na.rm = TRUE))  %>% \n",
    "#filter(freq2>0.005)  %>% \n",
    "mutate(j_gene_B = fct_reorder(j_gene_B, desc(freq2))) %>%\n",
    "  ggplot(aes(x = Disease, y = freq2, color = Disease)) + \n",
    "facet_grid(rows = vars(fct_reorder(j_gene_B, desc(freq2)))) +\n",
    "geom_point(size = 2) + coord_flip() + \n",
    "geom_linerange(aes(ymin = min, ymax = max, color = Disease),\n",
    "                 alpha = 0.5, linewidth = 1) +\n",
    "ggtheme()  +\n",
    "theme(strip.text.y = element_text(\n",
    "        angle = 0), \n",
    "     axis.ticks.y = element_blank(),\n",
    "     axis.text.y = element_blank(),\n",
    "      strip.background = element_blank(),\n",
    "      panel.background = element_blank(),\n",
    "  panel.grid.major = element_line(size = 0.3, linetype = 'solid',\n",
    "                                colour = \"grey92\"), \n",
    "  panel.grid.minor = element_line(size = 0.3, linetype = 'solid',\n",
    "                                colour = \"grey92\")\n",
    "     ) +\n",
    "ggpubr::stat_compare_means(label.x.npc = 0.3, label = \"p.format\") +\n",
    "scale_color_manual(values = c(\"dodgerblue\", \"red3\"))"
   ]
  },
  {
   "cell_type": "code",
   "execution_count": null,
   "metadata": {},
   "outputs": [],
   "source": [
    "#ggsave(\"../figures/tcr/vdj_usage/cd4_trbj.png\", width = 15, height = 10, units = \"cm\")\n",
    "#ggsave(\"../figures/tcr/vdj_usage/cd4_trbj.svg\", width = 15, height = 10, units = \"cm\")"
   ]
  },
  {
   "cell_type": "code",
   "execution_count": null,
   "metadata": {},
   "outputs": [],
   "source": []
  },
  {
   "cell_type": "markdown",
   "id": "e077be6a",
   "metadata": {},
   "source": [
    "### Clones shared between samples"
   ]
  },
  {
   "cell_type": "code",
   "execution_count": null,
   "id": "9faf706e",
   "metadata": {},
   "outputs": [],
   "source": [
    "cd4_subcluster$Sample_char  <- paste(cd4_subcluster$Patient_ID, \n",
    "                                  cd4_subcluster$Disease,\n",
    "                                  cd4_subcluster$Time,\n",
    "                                  cd4_subcluster$Age_group,\n",
    "                                  cd4_subcluster$Sex,\n",
    "                                  cd4_subcluster$Experiment_ID)"
   ]
  },
  {
   "cell_type": "code",
   "execution_count": null,
   "id": "e5f6da4a",
   "metadata": {},
   "outputs": [],
   "source": [
    "clone_table <- metadata_6 %>%\n",
    "filter(clone_aa != \"CDR3b NA CDR3a NA\")  %>% \n",
    "  dplyr::group_by(Sample_char, clone_aa) %>%\n",
    "  summarise(n = n()) %>%\n",
    "  mutate(freq = n / sum(n))"
   ]
  },
  {
   "cell_type": "code",
   "execution_count": null,
   "id": "d39eb316",
   "metadata": {},
   "outputs": [],
   "source": [
    "clone_table_individual <- metadata_6 %>%\n",
    "  dplyr::group_by(clone_aa, Sample_char) %>%\n",
    "          dplyr::summarize(n = n()) %>%\n",
    "    arrange(desc(n)) %>% pivot_wider(names_from = Sample_char, values_from = n, values_fill = 0) "
   ]
  },
  {
   "cell_type": "code",
   "execution_count": null,
   "id": "a2e05412",
   "metadata": {},
   "outputs": [],
   "source": [
    "dim(clone_table_individual)"
   ]
  },
  {
   "cell_type": "code",
   "execution_count": null,
   "id": "e0ce1697",
   "metadata": {},
   "outputs": [],
   "source": [
    "clone_table_individual_binary <- clone_table_individual %>% mutate_at(vars(2:88), is_positive)\n",
    "clone_table_individual$sum <- rowSums(clone_table_individual_binary[,2:88])\n",
    "\n",
    "clone_table_individual %>% arrange(desc(sum))"
   ]
  },
  {
   "cell_type": "code",
   "execution_count": null,
   "metadata": {},
   "outputs": [],
   "source": [
    "clone_table_individual  <- clone_table_individual %>% arrange(desc(sum))"
   ]
  },
  {
   "cell_type": "code",
   "execution_count": null,
   "metadata": {},
   "outputs": [],
   "source": [
    "clone_table_individual  <- clone_table_individual[2:nrow(clone_table_individual),]"
   ]
  },
  {
   "cell_type": "code",
   "execution_count": null,
   "metadata": {},
   "outputs": [],
   "source": [
    "clone_table_individual_small  <- clone_table_individual  %>% filter(sum > 1)"
   ]
  },
  {
   "cell_type": "code",
   "execution_count": null,
   "metadata": {},
   "outputs": [],
   "source": [
    "clone_table_individual_small"
   ]
  },
  {
   "cell_type": "code",
   "execution_count": null,
   "metadata": {},
   "outputs": [],
   "source": [
    "dir.create(\"../tables/tcr/\")"
   ]
  },
  {
   "cell_type": "code",
   "execution_count": null,
   "id": "30056551",
   "metadata": {},
   "outputs": [],
   "source": [
    "write.csv(clone_table_individual_small %>% arrange(desc(sum)), \"../tables/tcr/overlapping_clones_cd4_small.csv\")"
   ]
  },
  {
   "cell_type": "code",
   "execution_count": null,
   "metadata": {},
   "outputs": [],
   "source": [
    "write.csv(clone_table_individual %>% arrange(desc(sum)), \"../tables/tcr/overlapping_clones_cd4.csv\")"
   ]
  },
  {
   "cell_type": "markdown",
   "id": "4f30e069",
   "metadata": {},
   "source": [
    "### Repertoire overlap table"
   ]
  },
  {
   "cell_type": "code",
   "execution_count": null,
   "id": "d4d00e9f",
   "metadata": {},
   "outputs": [],
   "source": [
    "clone_table_individual_binary"
   ]
  },
  {
   "cell_type": "code",
   "execution_count": null,
   "id": "dd1562b2",
   "metadata": {},
   "outputs": [],
   "source": [
    "order((colnames(clone_table_individual_binary)[2:88]))+1"
   ]
  },
  {
   "cell_type": "code",
   "execution_count": null,
   "id": "326ecd30",
   "metadata": {},
   "outputs": [],
   "source": [
    "clone_table_individual_binary  <- clone_table_individual_binary[2:nrow(clone_table_individual_binary),\n",
    "                                                                c(1,order((colnames(clone_table_individual_binary)[2:88]))+1)]"
   ]
  },
  {
   "cell_type": "code",
   "execution_count": null,
   "id": "c8966cdb",
   "metadata": {},
   "outputs": [],
   "source": [
    "## TRB shared by patients\n",
    "\n",
    "clone_table <- metadata_6 %>%\n",
    "filter(clone_aa != \"CDR3b NA CDR3a NA\")  %>% \n",
    "  dplyr::group_by(Sample_char, cdr3_B) %>%\n",
    "  summarise(n = n()) %>%\n",
    "  mutate(freq = n / sum(n))\n",
    "\n",
    "clone_table_individual <- metadata_6 %>%\n",
    "  dplyr::group_by(cdr3_B, Sample_char) %>%\n",
    "          dplyr::summarize(n = n()) %>%\n",
    "    arrange(desc(n)) %>% pivot_wider(names_from = Sample_char, values_from = n, values_fill = 0) \n",
    "\n",
    "clone_table_individual\n",
    "\n",
    "clone_table_individual_binary <- clone_table_individual %>% mutate_at(vars(2:88), is_positive)\n",
    "clone_table_individual$sum <- rowSums(clone_table_individual_binary[,2:88])\n",
    "\n",
    "clone_table_individual %>% arrange(desc(sum))\n",
    "\n",
    "clone_table_individual_binary\n",
    "\n",
    "clone_table_individual  <- (clone_table_individual %>% arrange(desc(sum)))[2:nrow(clone_table_individual),]\n",
    "\n",
    "clone_table_individual_binary  <- (clone_table_individual_binary)[c(2:nrow(clone_table_individual_binary)),]\n",
    "\n",
    "write.csv(clone_table_individual %>% arrange(desc(sum)), \"../tables/tcr/overlapping_trb_cd4.csv\")\n",
    "\n",
    "clone_table_individual_small  <- clone_table_individual  %>% filter(sum > 1)\n",
    "\n",
    "clone_table_individual_small\n",
    "\n",
    "write.csv(clone_table_individual_small %>% arrange(desc(sum)), \"overlapping_trb_cd8_small.csv\")\n",
    "\n",
    "### Repertoire overlap table\n",
    "\n",
    "clone_table_individual_binary\n",
    "\n",
    "order_cols  <- order((colnames(clone_table_individual_binary)[2:98]))+1\n",
    "\n",
    "order_cols\n",
    "\n",
    "clone_table_individual_binary  <- clone_table_individual_binary[,\n",
    "                                                                c(1,order_cols)]\n",
    "\n",
    "clone_table_individual_binary\n",
    "\n",
    "df_all4 <- data.frame(\"\")\n",
    "\n",
    "for(j in 2:88){\n",
    "  subset1 <- clone_table_individual_binary[,c(1,j)]\n",
    " colnames(subset1)  <- c(\"aa\", \"sub1\")\n",
    "  vector_overlap <- c()\n",
    "    subset1  <- subset1  %>% dplyr::filter(sub1 >0)\n",
    "    \n",
    "  for(i in 2:88){\n",
    "    subset2 <- clone_table_individual_binary[,c(1,i)]\n",
    "    colnames(subset2)  <- c(\"aa\", \"sub2\")\n",
    "    subset2  <- subset2  %>%  dplyr::filter(sub2 >0)\n",
    "    is_in_second_patient <- nrow(subset1[subset1$aa %in% subset2$aa,])\n",
    "    total <- nrow(subset1)\n",
    "    vector_overlap <- c(vector_overlap,is_in_second_patient/total)\n",
    "  }\n",
    "  df <- as.data.frame(x = vector_overlap)\n",
    "  colnames(df) <- colnames(clone_table_individual_binary)[j]\n",
    "  df\n",
    "  df_all4 <- cbind(df_all4, df)\n",
    "}\n",
    "\n",
    "df_all4\n",
    "\n",
    "df_all4\n",
    "\n",
    "df_all4 <- df_all4[,2:88]\n",
    "rownames(df_all4) <- colnames(df_all4)\n",
    "\n",
    "df_all4\n",
    "\n",
    "df24 <- df_all4\n",
    "df24[df24 == 1] <- 0\n",
    "\n",
    "\n",
    "\n",
    "\n",
    "matrix_4  <- as.matrix(df24)\n",
    "\n",
    "options(repr.plot.height = 17, repr.plot.width = 17)\n",
    "pheatmap::pheatmap(matrix_4, cluster_rows = F, cluster_cols = F)\n",
    "\n",
    "matrix_5  <- log(matrix_4+0.0001)\n",
    "\n",
    "options(repr.plot.height = 17, repr.plot.width = 17)\n",
    "pheatmap::pheatmap(matrix_5, cluster_rows = F, cluster_cols = F)\n",
    "\n",
    "\n",
    "\n",
    "df_all4 <- data.frame(\"\")\n",
    "\n",
    "for(j in 2:88){\n",
    "  subset1 <- clone_table_individual_binary[,c(1,j)]\n",
    " colnames(subset1)  <- c(\"aa\", \"sub1\")\n",
    "  vector_overlap <- c()\n",
    "    subset1  <- subset1  %>% dplyr::filter(sub1 >0)\n",
    "    \n",
    "  for(i in 2:88){\n",
    "    subset2 <- clone_table_individual_binary[,c(1,i)]\n",
    "    colnames(subset2)  <- c(\"aa\", \"sub2\")\n",
    "    subset2  <- subset2  %>%  dplyr::filter(sub2 >0)\n",
    "    is_in_second_patient <- nrow(subset1[subset1$aa %in% subset2$aa,])\n",
    "    total <- nrow(subset1)\n",
    "    vector_overlap <- c(vector_overlap,is_in_second_patient/total)\n",
    "  }\n",
    "  df <- as.data.frame(x = vector_overlap)\n",
    "  colnames(df) <- colnames(clone_table_individual_binary)[j]\n",
    "  df\n",
    "  df_all4 <- cbind(df_all4, df)\n",
    "}\n",
    "\n",
    "df_all4"
   ]
  },
  {
   "cell_type": "code",
   "execution_count": null,
   "id": "00b7bda1",
   "metadata": {},
   "outputs": [],
   "source": [
    "df_all4"
   ]
  },
  {
   "cell_type": "code",
   "execution_count": null,
   "id": "c314e783",
   "metadata": {},
   "outputs": [],
   "source": [
    "df_all4 <- df_all4[,2:98]\n",
    "rownames(df_all4) <- colnames(df_all4)\n",
    "\n",
    "df_all4"
   ]
  },
  {
   "cell_type": "code",
   "execution_count": null,
   "id": "1d136997",
   "metadata": {},
   "outputs": [],
   "source": [
    "df24 <- df_all4\n",
    "df24[df24 == 1] <- 0\n"
   ]
  },
  {
   "cell_type": "code",
   "execution_count": null,
   "id": "d994b47c",
   "metadata": {},
   "outputs": [],
   "source": []
  },
  {
   "cell_type": "code",
   "execution_count": null,
   "id": "afecce6b",
   "metadata": {},
   "outputs": [],
   "source": [
    "matrix_4  <- as.matrix(df24)"
   ]
  },
  {
   "cell_type": "code",
   "execution_count": null,
   "id": "0e291434",
   "metadata": {
    "scrolled": true
   },
   "outputs": [],
   "source": [
    "options(repr.plot.height = 17, repr.plot.width = 17)\n",
    "pheatmap::pheatmap(matrix_4, cluster_rows = F, cluster_cols = F)"
   ]
  },
  {
   "cell_type": "code",
   "execution_count": null,
   "id": "741471f5",
   "metadata": {
    "scrolled": false
   },
   "outputs": [],
   "source": [
    "matrix_5  <- log(matrix_4+0.0001)\n",
    "\n",
    "options(repr.plot.height = 17, repr.plot.width = 17)\n",
    "pheatmap::pheatmap(matrix_5, cluster_rows = F, cluster_cols = F)"
   ]
  },
  {
   "cell_type": "markdown",
   "metadata": {},
   "source": [
    "## TRB shared by patients"
   ]
  },
  {
   "cell_type": "code",
   "execution_count": null,
   "metadata": {},
   "outputs": [],
   "source": []
  },
  {
   "cell_type": "code",
   "execution_count": null,
   "id": "e5f6da4a",
   "metadata": {},
   "outputs": [],
   "source": [
    "clone_table <- metadata_6 %>%\n",
    "filter(clone_aa != \"CDR3b NA CDR3a NA\")  %>% \n",
    "  dplyr::group_by(Sample_char, cdr3_B) %>%\n",
    "  summarise(n = n()) %>%\n",
    "  mutate(freq = n / sum(n))"
   ]
  },
  {
   "cell_type": "code",
   "execution_count": null,
   "id": "d39eb316",
   "metadata": {},
   "outputs": [],
   "source": [
    "clone_table_individual <- metadata_6 %>%\n",
    "  dplyr::group_by(cdr3_B, Sample_char) %>%\n",
    "          dplyr::summarize(n = n()) %>%\n",
    "    arrange(desc(n)) %>% pivot_wider(names_from = Sample_char, values_from = n, values_fill = 0) "
   ]
  },
  {
   "cell_type": "code",
   "execution_count": null,
   "metadata": {
    "scrolled": true
   },
   "outputs": [],
   "source": [
    "clone_table_individual"
   ]
  },
  {
   "cell_type": "code",
   "execution_count": null,
   "id": "e0ce1697",
   "metadata": {},
   "outputs": [],
   "source": [
    "clone_table_individual_binary <- clone_table_individual %>% mutate_at(vars(2:88), is_positive)\n",
    "clone_table_individual$sum <- rowSums(clone_table_individual_binary[,2:88])\n",
    "\n",
    "clone_table_individual %>% arrange(desc(sum))"
   ]
  },
  {
   "cell_type": "code",
   "execution_count": null,
   "metadata": {},
   "outputs": [],
   "source": [
    "clone_table_individual_binary"
   ]
  },
  {
   "cell_type": "code",
   "execution_count": null,
   "metadata": {},
   "outputs": [],
   "source": [
    "clone_table_individual  <- (clone_table_individual %>% arrange(desc(sum)))[2:nrow(clone_table_individual),]"
   ]
  },
  {
   "cell_type": "code",
   "execution_count": null,
   "metadata": {},
   "outputs": [],
   "source": [
    "clone_table_individual_binary  <- (clone_table_individual_binary)[c(2:nrow(clone_table_individual_binary)),]"
   ]
  },
  {
   "cell_type": "code",
   "execution_count": null,
   "metadata": {},
   "outputs": [],
   "source": [
    "write.csv(clone_table_individual %>% arrange(desc(sum)), \"../tables/tcr/overlapping_trb_cd4.csv\")"
   ]
  },
  {
   "cell_type": "code",
   "execution_count": null,
   "metadata": {},
   "outputs": [],
   "source": [
    "clone_table_individual_small  <- clone_table_individual  %>% filter(sum > 1)"
   ]
  },
  {
   "cell_type": "code",
   "execution_count": null,
   "metadata": {},
   "outputs": [],
   "source": [
    "clone_table_individual_small"
   ]
  },
  {
   "cell_type": "code",
   "execution_count": null,
   "id": "30056551",
   "metadata": {},
   "outputs": [],
   "source": [
    "write.csv(clone_table_individual_small %>% arrange(desc(sum)), \"../tables/tcr/overlapping_trb_cd4_small.csv\")"
   ]
  },
  {
   "cell_type": "markdown",
   "id": "4f30e069",
   "metadata": {},
   "source": [
    "### Repertoire overlap table"
   ]
  },
  {
   "cell_type": "code",
   "execution_count": null,
   "metadata": {},
   "outputs": [],
   "source": [
    "clone_table_individual_binary"
   ]
  },
  {
   "cell_type": "code",
   "execution_count": null,
   "id": "dd1562b2",
   "metadata": {},
   "outputs": [],
   "source": [
    "order_cols  <- order((colnames(clone_table_individual_binary)[2:88]))+1"
   ]
  },
  {
   "cell_type": "code",
   "execution_count": null,
   "metadata": {},
   "outputs": [],
   "source": [
    "order_cols"
   ]
  },
  {
   "cell_type": "code",
   "execution_count": null,
   "id": "326ecd30",
   "metadata": {},
   "outputs": [],
   "source": [
    "clone_table_individual_binary  <- clone_table_individual_binary[,\n",
    "                                                                c(1,order_cols)]"
   ]
  },
  {
   "cell_type": "code",
   "execution_count": null,
   "metadata": {},
   "outputs": [],
   "source": [
    "clone_table_individual_binary"
   ]
  },
  {
   "cell_type": "code",
   "execution_count": null,
   "metadata": {},
   "outputs": [],
   "source": [
    "dim(clone_table_individual_binary)"
   ]
  },
  {
   "cell_type": "code",
   "execution_count": null,
   "id": "c8966cdb",
   "metadata": {},
   "outputs": [],
   "source": [
    "df_all4 <- data.frame(\"\")\n",
    "\n",
    "for(j in 2:88){\n",
    "  subset1 <- clone_table_individual_binary[,c(1,j)]\n",
    " colnames(subset1)  <- c(\"aa\", \"sub1\")\n",
    "  vector_overlap <- c()\n",
    "    subset1  <- subset1  %>% dplyr::filter(sub1 >0)\n",
    "    \n",
    "  for(i in 2:88){\n",
    "    subset2 <- clone_table_individual_binary[,c(1,i)]\n",
    "    colnames(subset2)  <- c(\"aa\", \"sub2\")\n",
    "    subset2  <- subset2  %>%  dplyr::filter(sub2 >0)\n",
    "    is_in_second_patient <- nrow(subset1[subset1$aa %in% subset2$aa,])\n",
    "    total <- nrow(subset1)\n",
    "    vector_overlap <- c(vector_overlap,is_in_second_patient/total)\n",
    "  }\n",
    "  df <- as.data.frame(x = vector_overlap)\n",
    "  colnames(df) <- colnames(clone_table_individual_binary)[j]\n",
    "  df\n",
    "  df_all4 <- cbind(df_all4, df)\n",
    "}\n",
    "\n",
    "df_all4"
   ]
  },
  {
   "cell_type": "code",
   "execution_count": null,
   "id": "00b7bda1",
   "metadata": {},
   "outputs": [],
   "source": [
    "df_all4"
   ]
  },
  {
   "cell_type": "code",
   "execution_count": null,
   "id": "c314e783",
   "metadata": {},
   "outputs": [],
   "source": [
    "df_all4 <- df_all4[,2:88]\n",
    "rownames(df_all4) <- colnames(df_all4)\n",
    "\n",
    "df_all4"
   ]
  },
  {
   "cell_type": "code",
   "execution_count": null,
   "id": "1d136997",
   "metadata": {},
   "outputs": [],
   "source": [
    "df24 <- df_all4\n",
    "df24[df24 == 1] <- 0\n"
   ]
  },
  {
   "cell_type": "code",
   "execution_count": null,
   "id": "d994b47c",
   "metadata": {},
   "outputs": [],
   "source": []
  },
  {
   "cell_type": "code",
   "execution_count": null,
   "id": "afecce6b",
   "metadata": {},
   "outputs": [],
   "source": [
    "matrix_4  <- as.matrix(df24)"
   ]
  },
  {
   "cell_type": "code",
   "execution_count": null,
   "id": "0e291434",
   "metadata": {
    "scrolled": true
   },
   "outputs": [],
   "source": [
    "options(repr.plot.height = 17, repr.plot.width = 17)\n",
    "pheatmap::pheatmap(matrix_4, cluster_rows = F, cluster_cols = F)"
   ]
  },
  {
   "cell_type": "code",
   "execution_count": null,
   "id": "741471f5",
   "metadata": {
    "scrolled": true
   },
   "outputs": [],
   "source": [
    "matrix_5  <- log(matrix_4+0.0001)\n",
    "\n",
    "options(repr.plot.height = 17, repr.plot.width = 17)\n",
    "pheatmap::pheatmap(matrix_5, cluster_rows = F, cluster_cols = F)"
   ]
  },
  {
   "cell_type": "code",
   "execution_count": null,
   "metadata": {},
   "outputs": [],
   "source": []
  },
  {
   "cell_type": "code",
   "execution_count": null,
   "metadata": {},
   "outputs": [],
   "source": []
  },
  {
   "cell_type": "code",
   "execution_count": null,
   "id": "bc526de0",
   "metadata": {},
   "outputs": [],
   "source": []
  },
  {
   "cell_type": "markdown",
   "id": "1b223ce8",
   "metadata": {},
   "source": [
    "## Overlap by patient"
   ]
  },
  {
   "cell_type": "code",
   "execution_count": null,
   "id": "d49002fc",
   "metadata": {},
   "outputs": [],
   "source": [
    "clone_table_individual <- metadata_6 %>%\n",
    "mutate(Condition = paste(Patient_ID, Disease))  %>% \n",
    "  dplyr::group_by(clone_aa, Condition) %>%\n",
    "          dplyr::summarize(n = n()) %>%\n",
    "    arrange(desc(n)) %>% pivot_wider(names_from = Condition, values_from = n, values_fill = 0) "
   ]
  },
  {
   "cell_type": "code",
   "execution_count": null,
   "id": "5494b886",
   "metadata": {},
   "outputs": [],
   "source": [
    "clone_table_individual"
   ]
  },
  {
   "cell_type": "code",
   "execution_count": null,
   "metadata": {},
   "outputs": [],
   "source": [
    "clone_table_individual  <- clone_table_individual[2:nrow(clone_table_individual),]"
   ]
  },
  {
   "cell_type": "code",
   "execution_count": null,
   "id": "83852c8a",
   "metadata": {},
   "outputs": [],
   "source": [
    "clone_table_individual_binary <- clone_table_individual %>% mutate_at(vars(2:44), is_positive)\n",
    "clone_table_individual$sum <- rowSums(clone_table_individual_binary[,2:44])\n",
    "\n",
    "clone_table_individual %>% arrange(desc(sum))"
   ]
  },
  {
   "cell_type": "code",
   "execution_count": null,
   "metadata": {},
   "outputs": [],
   "source": [
    "clone_table_individual_small  <- clone_table_individual  %>% filter(sum > 1)"
   ]
  },
  {
   "cell_type": "code",
   "execution_count": null,
   "id": "4f85be4a",
   "metadata": {},
   "outputs": [],
   "source": [
    "write.csv(clone_table_individual_small %>% arrange(desc(sum)), \"../tables/tcr/overlapping_clones_cd4_by_patient_small.csv\")"
   ]
  },
  {
   "cell_type": "code",
   "execution_count": null,
   "metadata": {},
   "outputs": [],
   "source": [
    "write.csv(clone_table_individual %>% arrange(desc(sum)), \"../tables/tcr/overlapping_clones_cd4_by_patient.csv\")"
   ]
  },
  {
   "cell_type": "markdown",
   "id": "5220e233",
   "metadata": {},
   "source": [
    "### Repertoire overlap table"
   ]
  },
  {
   "cell_type": "code",
   "execution_count": null,
   "metadata": {},
   "outputs": [],
   "source": [
    "clone_table_individual_binary$sum  <- rowSums(clone_table_individual_binary[,2:44])"
   ]
  },
  {
   "cell_type": "code",
   "execution_count": null,
   "id": "24e449dd",
   "metadata": {
    "scrolled": true
   },
   "outputs": [],
   "source": [
    "clone_table_individual_binary_small  <- clone_table_individual_binary  %>% filter(sum > 1)"
   ]
  },
  {
   "cell_type": "code",
   "execution_count": null,
   "metadata": {},
   "outputs": [],
   "source": [
    "clone_table_individual_binary_small"
   ]
  },
  {
   "cell_type": "code",
   "execution_count": null,
   "metadata": {},
   "outputs": [],
   "source": []
  },
  {
   "cell_type": "code",
   "execution_count": null,
   "id": "ccaa0679",
   "metadata": {},
   "outputs": [],
   "source": [
    "clone_table_individual_binary_small  <- clone_table_individual_binary_small[,\n",
    "                                                                c(1,c(order(colnames(clone_table_individual_binary_small)[2:44])+1),45)]"
   ]
  },
  {
   "cell_type": "code",
   "execution_count": null,
   "metadata": {},
   "outputs": [],
   "source": [
    "clone_table_individual_binary_small  %>% arrange(desc(sum))"
   ]
  },
  {
   "cell_type": "code",
   "execution_count": null,
   "id": "8a27863c",
   "metadata": {
    "scrolled": true
   },
   "outputs": [],
   "source": [
    "df_all5 <- data.frame(\"\")\n",
    "\n",
    "for(j in 2:44){\n",
    "  subset1 <- clone_table_individual_binary[,c(1,j)]\n",
    " colnames(subset1)  <- c(\"aa\", \"sub1\")\n",
    "  vector_overlap <- c()\n",
    "    subset1  <- subset1  %>% dplyr::filter(sub1 >0)\n",
    "    \n",
    "  for(i in 2:44){\n",
    "    subset2 <- clone_table_individual_binary[,c(1,i)]\n",
    "    colnames(subset2)  <- c(\"aa\", \"sub2\")\n",
    "    subset2  <- subset2  %>%  dplyr::filter(sub2 >0)\n",
    "    is_in_second_patient <- nrow(subset1[subset1$aa %in% subset2$aa,])\n",
    "    total <- nrow(subset1)\n",
    "    vector_overlap <- c(vector_overlap,is_in_second_patient/total)\n",
    "  }\n",
    "  df <- as.data.frame(x = vector_overlap)\n",
    "  colnames(df) <- colnames(clone_table_individual_binary)[j]\n",
    "  df\n",
    "  df_all5 <- cbind(df_all5, df)\n",
    "}\n",
    "\n",
    "df_all5"
   ]
  },
  {
   "cell_type": "code",
   "execution_count": null,
   "id": "1cdb7248",
   "metadata": {},
   "outputs": [],
   "source": [
    "df_all5 <- df_all5[,2:44]\n",
    "rownames(df_all5) <- colnames(df_all5)\n",
    "\n",
    "df_all5"
   ]
  },
  {
   "cell_type": "code",
   "execution_count": null,
   "id": "c21ae9df",
   "metadata": {},
   "outputs": [],
   "source": [
    "df25 <- df_all5\n",
    "df25[df25 == 1] <- 0\n"
   ]
  },
  {
   "cell_type": "code",
   "execution_count": null,
   "id": "f47cc614",
   "metadata": {},
   "outputs": [],
   "source": []
  },
  {
   "cell_type": "code",
   "execution_count": null,
   "id": "7908b40f",
   "metadata": {},
   "outputs": [],
   "source": [
    "matrix_6  <- as.matrix(df25)"
   ]
  },
  {
   "cell_type": "code",
   "execution_count": null,
   "id": "d944f8a0",
   "metadata": {
    "scrolled": true
   },
   "outputs": [],
   "source": [
    "options(repr.plot.height = 12, repr.plot.width = 12)\n",
    "pheatmap::pheatmap(matrix_6, cluster_rows = F, cluster_cols = F)"
   ]
  },
  {
   "cell_type": "code",
   "execution_count": null,
   "id": "0cbf5d93",
   "metadata": {},
   "outputs": [],
   "source": [
    "pheatmap::pheatmap(matrix_6, cluster_rows = T, cluster_cols = T)"
   ]
  },
  {
   "cell_type": "code",
   "execution_count": null,
   "metadata": {},
   "outputs": [],
   "source": []
  },
  {
   "cell_type": "markdown",
   "metadata": {},
   "source": [
    "## TCRb"
   ]
  },
  {
   "cell_type": "code",
   "execution_count": null,
   "id": "d49002fc",
   "metadata": {},
   "outputs": [],
   "source": [
    "clone_table_individual <- metadata_6 %>%\n",
    "mutate(Condition = paste(Patient_ID, Disease))  %>% \n",
    "  dplyr::group_by(cdr3_B, Condition) %>%\n",
    "          dplyr::summarize(n = n()) %>%\n",
    "    arrange(desc(n)) %>% pivot_wider(names_from = Condition, values_from = n) "
   ]
  },
  {
   "cell_type": "code",
   "execution_count": null,
   "id": "5494b886",
   "metadata": {
    "scrolled": true
   },
   "outputs": [],
   "source": [
    "clone_table_individual"
   ]
  },
  {
   "cell_type": "code",
   "execution_count": null,
   "id": "e0ce1697",
   "metadata": {},
   "outputs": [],
   "source": [
    "clone_table_individual_binary <- clone_table_individual %>% mutate_at(vars(2:44), is_positive)\n",
    "clone_table_individual$sum <- rowSums(clone_table_individual_binary[,2:44])\n",
    "\n",
    "clone_table_individual %>% arrange(desc(sum))"
   ]
  },
  {
   "cell_type": "code",
   "execution_count": null,
   "metadata": {},
   "outputs": [],
   "source": [
    "clone_table_individual  <- (clone_table_individual %>% arrange(desc(sum)))[2:nrow(clone_table_individual),]"
   ]
  },
  {
   "cell_type": "code",
   "execution_count": null,
   "metadata": {},
   "outputs": [],
   "source": [
    "clone_table_individual_binary  <- (clone_table_individual_binary)[c(2:nrow(clone_table_individual_binary)),]"
   ]
  },
  {
   "cell_type": "code",
   "execution_count": null,
   "metadata": {},
   "outputs": [],
   "source": [
    "write.csv(clone_table_individual %>% arrange(desc(sum)), \"../tables/tcr/overlapping_trb_cd4_by_patient.csv\")"
   ]
  },
  {
   "cell_type": "code",
   "execution_count": null,
   "metadata": {},
   "outputs": [],
   "source": [
    "clone_table_individual_small  <- clone_table_individual  %>% filter(sum > 1)"
   ]
  },
  {
   "cell_type": "code",
   "execution_count": null,
   "metadata": {
    "scrolled": true
   },
   "outputs": [],
   "source": [
    "clone_table_individual_small"
   ]
  },
  {
   "cell_type": "code",
   "execution_count": null,
   "id": "30056551",
   "metadata": {},
   "outputs": [],
   "source": [
    "write.csv(clone_table_individual_small %>% arrange(desc(sum)), \"../tables/tcr/overlapping_trb_cd4_small_by_patient.csv\")"
   ]
  },
  {
   "cell_type": "code",
   "execution_count": null,
   "metadata": {},
   "outputs": [],
   "source": []
  },
  {
   "cell_type": "markdown",
   "id": "5220e233",
   "metadata": {},
   "source": [
    "### Repertoire overlap table"
   ]
  },
  {
   "cell_type": "code",
   "execution_count": null,
   "id": "24e449dd",
   "metadata": {
    "scrolled": true
   },
   "outputs": [],
   "source": [
    "clone_table_individual_binary"
   ]
  },
  {
   "cell_type": "code",
   "execution_count": null,
   "id": "ccaa0679",
   "metadata": {},
   "outputs": [],
   "source": [
    "clone_table_individual_binary  <- clone_table_individual_binary[,\n",
    "                                                                c(1,order((colnames(clone_table_individual_binary)[2:44]))+1)]"
   ]
  },
  {
   "cell_type": "code",
   "execution_count": null,
   "id": "8a27863c",
   "metadata": {
    "scrolled": true
   },
   "outputs": [],
   "source": [
    "df_all5 <- data.frame(\"\")\n",
    "\n",
    "for(j in 2:44){\n",
    "  subset1 <- clone_table_individual_binary[,c(1,j)]\n",
    " colnames(subset1)  <- c(\"aa\", \"sub1\")\n",
    "  vector_overlap <- c()\n",
    "    subset1  <- subset1  %>% dplyr::filter(sub1 >0)\n",
    "    \n",
    "  for(i in 2:44){\n",
    "    subset2 <- clone_table_individual_binary[,c(1,i)]\n",
    "    colnames(subset2)  <- c(\"aa\", \"sub2\")\n",
    "    subset2  <- subset2  %>%  dplyr::filter(sub2 >0)\n",
    "    is_in_second_patient <- nrow(subset1[subset1$aa %in% subset2$aa,])\n",
    "    total <- nrow(subset1)\n",
    "    vector_overlap <- c(vector_overlap,is_in_second_patient/total)\n",
    "  }\n",
    "  df <- as.data.frame(x = vector_overlap)\n",
    "  colnames(df) <- colnames(clone_table_individual_binary)[j]\n",
    "  df\n",
    "  df_all5 <- cbind(df_all5, df)\n",
    "}\n",
    "\n",
    "df_all5"
   ]
  },
  {
   "cell_type": "code",
   "execution_count": null,
   "id": "1cdb7248",
   "metadata": {},
   "outputs": [],
   "source": [
    "df_all5 <- df_all5[,2:44]\n",
    "rownames(df_all5) <- colnames(df_all5)\n",
    "\n",
    "df_all5"
   ]
  },
  {
   "cell_type": "code",
   "execution_count": null,
   "id": "c21ae9df",
   "metadata": {},
   "outputs": [],
   "source": [
    "df25 <- df_all5\n",
    "df25[df25 == 1] <- 0\n"
   ]
  },
  {
   "cell_type": "code",
   "execution_count": null,
   "id": "7908b40f",
   "metadata": {},
   "outputs": [],
   "source": [
    "matrix_6  <- as.matrix(df25)"
   ]
  },
  {
   "cell_type": "code",
   "execution_count": null,
   "id": "d944f8a0",
   "metadata": {
    "scrolled": true
   },
   "outputs": [],
   "source": [
    "options(repr.plot.height = 12, repr.plot.width = 12)\n",
    "pheatmap::pheatmap(matrix_6, cluster_rows = F, cluster_cols = F)"
   ]
  },
  {
   "cell_type": "code",
   "execution_count": null,
   "id": "0cbf5d93",
   "metadata": {
    "scrolled": true
   },
   "outputs": [],
   "source": [
    "pheatmap::pheatmap(matrix_6, cluster_rows = T, cluster_cols = T)"
   ]
  },
  {
   "cell_type": "markdown",
   "id": "cb9ad9f8",
   "metadata": {},
   "source": [
    "# Published clones"
   ]
  },
  {
   "cell_type": "code",
   "execution_count": null,
   "id": "34f1cbc3",
   "metadata": {},
   "outputs": [],
   "source": [
    "published_clones  <- read_excel(\"../data/published_clones.xlsx\")"
   ]
  },
  {
   "cell_type": "code",
   "execution_count": null,
   "id": "f18adc99",
   "metadata": {},
   "outputs": [],
   "source": [
    "published_tra  <- published_clones$CDR3a[which(!is.na(published_clones$CDR3a))]"
   ]
  },
  {
   "cell_type": "code",
   "execution_count": null,
   "id": "fefb7213",
   "metadata": {},
   "outputs": [],
   "source": [
    "published_trb  <- published_clones$CDR3b[which(!is.na(published_clones$CDR3b))]"
   ]
  },
  {
   "cell_type": "markdown",
   "id": "1b43ddfc",
   "metadata": {},
   "source": [
    "### TRA"
   ]
  },
  {
   "cell_type": "code",
   "execution_count": null,
   "id": "16da04b3",
   "metadata": {},
   "outputs": [],
   "source": [
    "table(cd4_subcluster$cdr3_A1 %in% published_tra)"
   ]
  },
  {
   "cell_type": "code",
   "execution_count": null,
   "id": "c92be09f",
   "metadata": {},
   "outputs": [],
   "source": [
    "clones_detected_cd4  <- published_clones  %>% filter(CDR3a %in% cd4_subcluster$cdr3_A1)  %>% filter(!is.na(CDR3a) & grepl(`Source of T cells`, pattern = \"CD4\"))"
   ]
  },
  {
   "cell_type": "code",
   "execution_count": null,
   "id": "c1791a96",
   "metadata": {},
   "outputs": [],
   "source": [
    "clones_detected_cd4"
   ]
  },
  {
   "cell_type": "code",
   "execution_count": null,
   "id": "0ed0509d",
   "metadata": {},
   "outputs": [],
   "source": [
    "cd4_subcluster@meta.data  %>% \n",
    "dplyr::select(Patient_ID, Condition, Experiment_ID, cdr3_A1, cdr3_B)  %>% \n",
    "filter(cdr3_A1 %in% clones_detected_cd4$CDR3a)"
   ]
  },
  {
   "cell_type": "code",
   "execution_count": null,
   "id": "bf784f18",
   "metadata": {},
   "outputs": [],
   "source": [
    "options(repr.plot.width = 3, repr.plot.height = 3)\n",
    "for(i in pull(clones_detected_cd4, CDR3a)){\n",
    "    print(DimPlot(cd4_subcluster, \n",
    "                  raster = F, \n",
    "                  cells.highlight = colnames(cd4_subcluster)[grep(cd4_subcluster$cdr3_A1, pattern = i)],\n",
    "                 sizes.highlight = c(2,1)) + NoLegend() + ggtitle(i))}"
   ]
  },
  {
   "cell_type": "markdown",
   "metadata": {},
   "source": [
    "### TRB"
   ]
  },
  {
   "cell_type": "code",
   "execution_count": null,
   "id": "9488e47b",
   "metadata": {},
   "outputs": [],
   "source": [
    "table(cd4_subcluster$cdr3_B %in% published_trb)"
   ]
  },
  {
   "cell_type": "code",
   "execution_count": null,
   "id": "a94af230",
   "metadata": {},
   "outputs": [],
   "source": [
    "published_clones  %>% filter(CDR3b %in% cd4_subcluster$cdr3_B)  %>% filter(!is.na(CDR3b))"
   ]
  },
  {
   "cell_type": "code",
   "execution_count": null,
   "id": "3ecafdd0",
   "metadata": {},
   "outputs": [],
   "source": [
    "cd4_subcluster@meta.data  %>% \n",
    "dplyr::select(Patient_ID, Condition, Experiment_ID,cdr3_A1, cdr3_B)  %>% \n",
    "filter(cdr3_B %in% published_trb)"
   ]
  },
  {
   "cell_type": "markdown",
   "id": "c79ca315",
   "metadata": {},
   "source": [
    "HLA of our patients:"
   ]
  },
  {
   "cell_type": "markdown",
   "id": "1ff27fa1",
   "metadata": {},
   "source": [
    "### Kmers"
   ]
  },
  {
   "cell_type": "code",
   "execution_count": null,
   "id": "f4d1e582",
   "metadata": {
    "scrolled": true
   },
   "outputs": [],
   "source": [
    "library(kebabs)"
   ]
  },
  {
   "cell_type": "code",
   "execution_count": null,
   "id": "7026ac11",
   "metadata": {},
   "outputs": [],
   "source": [
    "published_trb2  <- published_clones$CDR3b[which(!is.na(published_clones$CDR3b))]"
   ]
  },
  {
   "cell_type": "code",
   "execution_count": null,
   "id": "ab22d4b3",
   "metadata": {},
   "outputs": [],
   "source": [
    "published_trb2  <- published_clones  %>% filter(!is.na(CDR3b) & grepl(`Source of T cells`, pattern = \"CD4\"))  %>% pull(CDR3b)"
   ]
  },
  {
   "cell_type": "code",
   "execution_count": null,
   "id": "cf8e2056",
   "metadata": {},
   "outputs": [],
   "source": [
    "published_trb2"
   ]
  },
  {
   "cell_type": "code",
   "execution_count": null,
   "id": "21f4dbb0",
   "metadata": {},
   "outputs": [],
   "source": [
    "kebabs::AAVector(published_trb)"
   ]
  },
  {
   "cell_type": "code",
   "execution_count": null,
   "id": "29cf63ba",
   "metadata": {},
   "outputs": [],
   "source": [
    "s1 <- kebabs::AAVector(published_trb)"
   ]
  },
  {
   "cell_type": "code",
   "execution_count": null,
   "id": "d085a235",
   "metadata": {},
   "outputs": [],
   "source": [
    "sk14 <- spectrumKernel(k=4, normalized=T)"
   ]
  },
  {
   "cell_type": "code",
   "execution_count": null,
   "id": "127b0e4c",
   "metadata": {},
   "outputs": [],
   "source": [
    "kmers_trb  <- as.data.frame(colSums(as.data.frame(drop(getExRep(s1, sk14)))))"
   ]
  },
  {
   "cell_type": "code",
   "execution_count": null,
   "id": "99da1878",
   "metadata": {
    "scrolled": true
   },
   "outputs": [],
   "source": [
    "kmers_trb"
   ]
  },
  {
   "cell_type": "code",
   "execution_count": null,
   "id": "ac786220",
   "metadata": {
    "scrolled": true
   },
   "outputs": [],
   "source": [
    "kmers_trb$kmer  <- rownames(kmers_trb)"
   ]
  },
  {
   "cell_type": "code",
   "execution_count": null,
   "id": "fd040100",
   "metadata": {},
   "outputs": [],
   "source": [
    "colnames(kmers_trb)  <- c(\"ref\", \"kmer\")"
   ]
  },
  {
   "cell_type": "code",
   "execution_count": null,
   "id": "f2d379fa",
   "metadata": {},
   "outputs": [],
   "source": [
    "rownames(kmers_trb)  <- NULL"
   ]
  },
  {
   "cell_type": "code",
   "execution_count": null,
   "id": "7564dc61",
   "metadata": {
    "scrolled": true
   },
   "outputs": [],
   "source": [
    "kmers_trb"
   ]
  },
  {
   "cell_type": "code",
   "execution_count": null,
   "id": "ec6bc11c",
   "metadata": {},
   "outputs": [],
   "source": [
    "metadata_y  <- metadata_6  %>% filter(Time == \"T0\")"
   ]
  },
  {
   "cell_type": "code",
   "execution_count": null,
   "id": "3e4b82fc",
   "metadata": {
    "scrolled": true
   },
   "outputs": [],
   "source": [
    "df_all  <- kmers_trb\n",
    "\n",
    "for(i in 1:length(levels(factor(metadata_y$Patient_ID)))){\n",
    "    pt1_betas  <- metadata_y %>%\n",
    "    filter(Patient_ID == levels(factor(metadata_y$Patient_ID))[i])  %>% \n",
    "      dplyr::group_by(cdr3_B) %>%\n",
    "          dplyr::summarize(n = n()) %>%\n",
    "    arrange(desc(n))\n",
    "    \n",
    "    rep_pt  <- rep(pt1_betas$cdr3_B[2:nrow(pt1_betas)], pt1_betas$n[2:nrow(pt1_betas)])\n",
    "    \n",
    "    s1 <- kebabs::AAVector(rep_pt)\n",
    "    sk14 <- spectrumKernel(k=4, normalized=TRUE)  \n",
    "  \n",
    "    kmers_trb  <- as.data.frame(colSums(as.data.frame(drop(getExRep(s1, sk14)))))\n",
    "    kmers_trb$kmer  <- rownames(kmers_trb)\n",
    "    colnames(kmers_trb)  <- c(levels(factor(metadata_y$Patient_ID))[i], \"kmer\")\n",
    "    rownames(kmers_trb)  <- NULL\n",
    "    \n",
    "    df_all  <- left_join(df_all, kmers_trb)\n",
    "}"
   ]
  },
  {
   "cell_type": "code",
   "execution_count": null,
   "id": "9f411e9f",
   "metadata": {},
   "outputs": [],
   "source": [
    "df_all"
   ]
  },
  {
   "cell_type": "code",
   "execution_count": null,
   "id": "987ac0bc",
   "metadata": {},
   "outputs": [],
   "source": [
    "df_all[is.na(df_all)] <- 0"
   ]
  },
  {
   "cell_type": "code",
   "execution_count": null,
   "id": "f37eec3b",
   "metadata": {
    "scrolled": false
   },
   "outputs": [],
   "source": [
    "df_all$ref  <- NULL"
   ]
  },
  {
   "cell_type": "code",
   "execution_count": null,
   "id": "0c107cba",
   "metadata": {},
   "outputs": [],
   "source": [
    "df_all2  <- df_all  %>% pivot_longer(!kmer, names_to = \"Patient_ID\", values_to = \"freq\")  %>% mutate(group = substr(Patient_ID, 1,1))"
   ]
  },
  {
   "cell_type": "code",
   "execution_count": null,
   "id": "dd881f8c",
   "metadata": {
    "scrolled": true
   },
   "outputs": [],
   "source": [
    "df_all2"
   ]
  },
  {
   "cell_type": "code",
   "execution_count": null,
   "id": "ba83349a",
   "metadata": {},
   "outputs": [],
   "source": [
    "m_w  <- data.frame(kmer = \"kmer\", pvalue = \"pvalue\")"
   ]
  },
  {
   "cell_type": "code",
   "execution_count": null,
   "id": "4b2ba7c4",
   "metadata": {},
   "outputs": [],
   "source": [
    "for(i in 2:726){\n",
    "    df3  <- df_all2  %>% filter(kmer == levels(factor(df_all2$kmer))[i] & group %in% c(1,2))\n",
    "    df3$group  <- factor(df3$group, levels = c(1,2))\n",
    "    df4  <- data.frame(kmer = levels(factor(df_all2$kmer))[i], \n",
    "                       pvalue = wilcox.test(freq~group, data = df3)$p.value)\n",
    "    m_w  <- rbind(m_w, df4)\n",
    "}"
   ]
  },
  {
   "cell_type": "code",
   "execution_count": null,
   "id": "56991ace",
   "metadata": {},
   "outputs": [],
   "source": [
    "m_w2 <- m_w[2:nrow(m_w),] "
   ]
  },
  {
   "cell_type": "code",
   "execution_count": null,
   "id": "9b042ea1",
   "metadata": {
    "scrolled": true
   },
   "outputs": [],
   "source": [
    "m_w  %>% arrange(pvalue)"
   ]
  },
  {
   "cell_type": "code",
   "execution_count": null,
   "id": "5fc2519e",
   "metadata": {
    "scrolled": true
   },
   "outputs": [],
   "source": [
    "options(repr.plot.width = 20, repr.plot.height = 16)\n",
    "df_all2  %>% filter(kmer %in% (m_w  %>% arrange(pvalue))$kmer[1:24])  %>% \n",
    "ggplot(aes(x = group, y = freq)) + # you can change the x to whatever variable you're interested in\n",
    "  geom_boxplot(outlier.shape = NA, \n",
    "           alpha = 0.7, width = 0.9, aes(fill = group)) +\n",
    "   geom_dotplot(binaxis='y', stackdir='center', dotsize=0) + \n",
    "   geom_jitter(binaxis='y', position=position_jitter(width = 0.1, height = 0), \n",
    "  size = 3, shape = 21, stackdir='center', aes(fill = group), color = \"black\") + \n",
    "  facet_wrap(~kmer, scales = \"free\", ncol = 6) +\n",
    "  ylab(\"Frequency\") +\n",
    "  xlab(\"Condition\") +\n",
    "  theme_classic() +\n",
    " ylim(0,NA) +\n",
    "  theme(strip.background = element_blank(), panel.grid = element_blank()) "
   ]
  },
  {
   "cell_type": "markdown",
   "id": "0c6652b5",
   "metadata": {},
   "source": [
    "### HPAP Kmers"
   ]
  },
  {
   "cell_type": "code",
   "execution_count": null,
   "metadata": {},
   "outputs": [],
   "source": [
    "hpap_kmers  <- read_csv(\"../../231003_VN_DiabetesV02/signif_kmers_HPAP.csv\")"
   ]
  },
  {
   "cell_type": "code",
   "execution_count": null,
   "metadata": {},
   "outputs": [],
   "source": [
    "hpap_kmers  <- hpap_kmers$x"
   ]
  },
  {
   "cell_type": "code",
   "execution_count": null,
   "metadata": {},
   "outputs": [],
   "source": [
    "our_kmers  <-  m_w  %>% dplyr::filter(pvalue < 0.05)  %>% pull(kmer)"
   ]
  },
  {
   "cell_type": "code",
   "execution_count": null,
   "metadata": {},
   "outputs": [],
   "source": [
    "our_kmers"
   ]
  },
  {
   "cell_type": "code",
   "execution_count": null,
   "metadata": {
    "scrolled": true
   },
   "outputs": [],
   "source": [
    "hpap_kmers"
   ]
  },
  {
   "cell_type": "code",
   "execution_count": null,
   "metadata": {},
   "outputs": [],
   "source": [
    "our_kmers %in% hpap_kmers"
   ]
  },
  {
   "cell_type": "code",
   "execution_count": null,
   "metadata": {},
   "outputs": [],
   "source": [
    "options(repr.plot.width = 7, repr.plot.height = 4)\n",
    "df_all2  %>% filter(kmer %in% our_kmers[our_kmers %in% hpap_kmers])  %>% \n",
    "ggplot(aes(x = factor(group, levels = c(2,1), labels = c(\"Ctrl\", \"T1DM\")), y = freq)) + # you can change the x to whatever variable you're interested in\n",
    "  geom_boxplot(outlier.shape = NA, \n",
    "           alpha = 0.7, width = 0.9, aes(fill = group)) +\n",
    "   geom_dotplot(binaxis='y', stackdir='center', dotsize=0) + \n",
    "   geom_jitter(binaxis='y', position=position_jitter(width = 0.1, height = 0), \n",
    "  size = 3, shape = 21, stackdir='center', aes(fill = group), color = \"black\") + \n",
    "  facet_wrap(~kmer, scales = \"free\", ncol = 6) +\n",
    "  ylab(\"Frequency\") +\n",
    "  xlab(\"Condition\") +\n",
    "  theme_classic() +\n",
    "scale_fill_manual(values = c(\"indianred\", \"dodgerblue\"))+\n",
    "ggpubr::stat_compare_means(size = 7, label = \"p.format\", label.x = 1.3,\n",
    "                              label.y.npc = 0.9) +\n",
    "ggtheme() +\n",
    " ylim(0,NA) +\n",
    "  theme(strip.background = element_blank(), panel.grid = element_blank()) "
   ]
  },
  {
   "cell_type": "markdown",
   "metadata": {},
   "source": [
    "## Are Panc Kmers enriched in Dia in general?"
   ]
  },
  {
   "cell_type": "code",
   "execution_count": null,
   "metadata": {},
   "outputs": [],
   "source": [
    "options(repr.plot.width = 15, repr.plot.height = 4)\n",
    "df_all2  %>% \n",
    "ggplot(aes(x = factor(group, levels = c(2,1), labels = c(\"Ctrl\", \"T1DM\")), \n",
    "           y = freq)) + # you can change the x to whatever variable you're interested in\n",
    "  geom_boxplot(outlier.shape = NA, \n",
    "           alpha = 0.7, width = 0.9, aes(fill = group)) +\n",
    "   geom_dotplot(binaxis='y', stackdir='center', dotsize=0) + \n",
    "   geom_jitter(binaxis='y', position=position_jitter(width = 0.1, height = 0), \n",
    "  size = 3, shape = 21, stackdir='center', aes(fill = group), color = \"black\") + \n",
    "  ylab(\"Frequency\") +\n",
    "  xlab(\"Condition\") +\n",
    "  theme_classic() +\n",
    "scale_fill_manual(values = c(\"indianred\", \"dodgerblue\"))+\n",
    "ggpubr::stat_compare_means(size = 7, label = \"p.format\", label.x = 1.3,\n",
    "                              label.y.npc = 0.9) +\n",
    "ggtheme() +\n",
    " ylim(0,NA) +\n",
    "  theme(strip.background = element_blank(), panel.grid = element_blank()) "
   ]
  },
  {
   "cell_type": "code",
   "execution_count": null,
   "metadata": {},
   "outputs": [],
   "source": [
    "options(repr.plot.width = 15, repr.plot.height = 4)\n",
    "df_all2  %>% \n",
    "ggplot(aes(x = factor(group, levels = c(2,1), labels = c(\"Ctrl\", \"T1DM\")), \n",
    "           y = log(freq+0.0001))) + # you can change the x to whatever variable you're interested in\n",
    "  geom_boxplot(outlier.shape = NA, \n",
    "           alpha = 0.7, width = 0.9, aes(fill = group)) +\n",
    "   geom_dotplot(binaxis='y', stackdir='center', dotsize=0) + \n",
    "   geom_jitter(binaxis='y', position=position_jitter(width = 0.1, height = 0), \n",
    "  size = 3, shape = 21, stackdir='center', aes(fill = group), color = \"black\") + \n",
    "  ylab(\"Frequency\") +\n",
    "  xlab(\"Condition\") +\n",
    "  theme_classic() +\n",
    "scale_fill_manual(values = c(\"indianred\", \"dodgerblue\"))+\n",
    "ggpubr::stat_compare_means(size = 7, label = \"p.format\", label.x = 1.3,\n",
    "                              label.y.npc = 0.9) +\n",
    "ggtheme() +\n",
    " ylim(0,NA) +\n",
    "  theme(strip.background = element_blank(), panel.grid = element_blank()) "
   ]
  },
  {
   "cell_type": "markdown",
   "id": "7427b768",
   "metadata": {},
   "source": [
    "### Percentage occupied by 10 largest clones"
   ]
  },
  {
   "cell_type": "code",
   "execution_count": null,
   "id": "bfb80b46",
   "metadata": {},
   "outputs": [],
   "source": [
    "clone_table <- metadata_6 %>%\n",
    "filter(clone_aa != \"CDR3b NA CDR3a NA\")  %>% \n",
    "  dplyr::group_by(Sample_char, clone_aa) %>%\n",
    "  summarise(n = n()) %>%\n",
    "  mutate(freq = n / sum(n))"
   ]
  },
  {
   "cell_type": "code",
   "execution_count": null,
   "id": "00e4a844",
   "metadata": {
    "scrolled": true
   },
   "outputs": [],
   "source": [
    "clone_table  %>% arrange(desc(freq))"
   ]
  },
  {
   "cell_type": "code",
   "execution_count": null,
   "id": "a43e4127",
   "metadata": {
    "scrolled": true
   },
   "outputs": [],
   "source": [
    "options(repr.plot.width = 12, repr.plot.height = 4)\n",
    "\n",
    "clone_table  %>% ungroup()  %>% \n",
    "  dplyr::group_by(Sample_char) %>%\n",
    "slice_max(order_by = freq, n = 10, with_ties = F)  %>% \n",
    "ungroup()  %>% \n",
    " dplyr::group_by(Sample_char) %>%\n",
    "summarize(freq_top10 = sum(freq))  %>% \n",
    "separate(Sample_char, into = c(\"Patient_ID\", \"Disease\", \"Time\", \"Age_group\", \"Sex\", \"Exp\"), remove = F, sep = \" \")  %>% \n",
    "mutate(Condition = paste(Disease, Time))  %>% \n",
    "ggplot(aes(x = Condition, y = freq_top10)) + # you can change the x to whatever variable you're interested in\n",
    "  geom_boxplot(outlier.shape = NA, \n",
    "           alpha = 0.7, width = 0.9, aes(fill = Condition)) +\n",
    "   geom_dotplot(binaxis='y', stackdir='center', dotsize=0) + \n",
    "   geom_jitter(binaxis='y', position=position_jitter(width = 0.1, height = 0), \n",
    "  size = 3, shape = 21, stackdir='center', aes(fill = Condition), color = \"black\") + \n",
    "   ylab(\"Frequency\") +\n",
    "  xlab(\"Condition\") +\n",
    "facet_wrap(~Age_group, scales = \"free\") +\n",
    "  theme_classic() +\n",
    "ggpubr::stat_compare_means()+\n",
    " ylim(0,NA) +\n",
    "  theme(strip.background = element_blank(), panel.grid = element_blank()) + \n",
    "  theme(axis.text.x = element_text(angle = 90)) + ggtitle(\"Frequency of top10 clones\")"
   ]
  },
  {
   "cell_type": "code",
   "execution_count": null,
   "id": "39950e8c",
   "metadata": {},
   "outputs": [],
   "source": [
    "    clone_table  %>% ungroup()  %>% \n",
    "  dplyr::group_by(Sample_char) %>%\n",
    "slice_max(order_by = freq, n = 10, with_ties = F)  %>% \n",
    "ungroup()  %>% \n",
    " dplyr::group_by(Sample_char) %>%\n",
    "summarize(freq_top10 = sum(freq))  %>% \n",
    "separate(Sample_char, into = c(\"Patient_ID\", \"Disease\", \"Time\", \"Age_group\", \"Sex\", \"Exp\"), remove = F, sep = \" \")  %>% \n",
    "mutate(Condition = paste(Disease, Time))  %>% \n",
    "filter(Condition %in% c(\"Ctrl T0\", \"Dia T0\"))  %>% \n",
    "ggplot(aes(x = Condition, y = freq_top10)) + # you can change the x to whatever variable you're interested in\n",
    "  geom_boxplot(outlier.shape = NA, \n",
    "           alpha = 0.7, width = 0.9, aes(fill = Condition)) +\n",
    "   geom_dotplot(binaxis='y', stackdir='center', dotsize=0) + \n",
    "   geom_jitter(binaxis='y', position=position_jitter(width = 0.1, height = 0), \n",
    "  size = 3, shape = 21, stackdir='center', aes(fill = Condition), color = \"black\") + \n",
    "   ylab(\"Frequency\") +\n",
    "  xlab(\"Condition\") +\n",
    "facet_wrap(~Age_group, scales = \"free\") +\n",
    "  theme_classic() +\n",
    "ggpubr::stat_compare_means()+\n",
    " ylim(0,NA) +\n",
    "  theme(strip.background = element_blank(), panel.grid = element_blank()) + \n",
    "  theme(axis.text.x = element_text(angle = 90)) + ggtitle(\"Frequency of top10 clones\")"
   ]
  },
  {
   "cell_type": "code",
   "execution_count": null,
   "id": "301377d6",
   "metadata": {},
   "outputs": [],
   "source": []
  },
  {
   "cell_type": "markdown",
   "metadata": {},
   "source": [
    "## Function to generate overlap heatmap"
   ]
  },
  {
   "cell_type": "code",
   "execution_count": null,
   "metadata": {},
   "outputs": [],
   "source": [
    "cd4_l2_subcluster  <- readRDS(\"../../240617_VN_Diabetes_V06/data/processed/L2/cd4_subcluster.rds\")"
   ]
  },
  {
   "cell_type": "code",
   "execution_count": null,
   "metadata": {},
   "outputs": [],
   "source": [
    "source(\"diabetes_analysis_v07.R\")"
   ]
  },
  {
   "cell_type": "code",
   "execution_count": null,
   "metadata": {},
   "outputs": [],
   "source": [
    "metadata_6  <- cd4_l2_subcluster@meta.data"
   ]
  },
  {
   "cell_type": "code",
   "execution_count": null,
   "metadata": {},
   "outputs": [],
   "source": [
    "dir.create(\"../figures/tcr/\")"
   ]
  },
  {
   "cell_type": "code",
   "execution_count": null,
   "metadata": {},
   "outputs": [],
   "source": [
    "## CDR3_B"
   ]
  },
  {
   "cell_type": "code",
   "execution_count": null,
   "metadata": {},
   "outputs": [],
   "source": [
    "clone_table_individual <- metadata_6 %>%\n",
    "  dplyr::group_by(cdr3_B, Sample_char) %>%\n",
    "          dplyr::summarize(n = n()) %>%\n",
    "    arrange(desc(n)) %>% pivot_wider(names_from = Sample_char, values_from = n, values_fill = 0) "
   ]
  },
  {
   "cell_type": "code",
   "execution_count": null,
   "metadata": {},
   "outputs": [],
   "source": []
  },
  {
   "cell_type": "code",
   "execution_count": null,
   "metadata": {},
   "outputs": [],
   "source": [
    "df_all4  <- get_df_all4_for_tcr_analysis(clone_table_individual)"
   ]
  },
  {
   "cell_type": "code",
   "execution_count": null,
   "metadata": {
    "scrolled": true
   },
   "outputs": [],
   "source": [
    "plot_tcr_overlap_matrix(df_all4 = df_all4, sample_name = \"cdr3b_CD4\")"
   ]
  },
  {
   "cell_type": "code",
   "execution_count": null,
   "metadata": {},
   "outputs": [],
   "source": [
    "## CDR3_both\n",
    "\n",
    "metadata_6 <- metadata_6 %>% mutate(\n",
    "  clone_nt = paste(cdr3_B_nt,cdr3_A1_nt,cdr3_A2_nt),\n",
    "  clone_aa = paste(cdr3_B,cdr3_A1)\n",
    ")\n",
    "\n",
    "clone_table_individual <- metadata_6 %>%\n",
    "  dplyr::group_by(clone_aa, Sample_char) %>%\n",
    "          dplyr::summarize(n = n()) %>%\n",
    "    arrange(desc(n)) %>% pivot_wider(names_from = Sample_char, values_from = n, values_fill = 0) \n",
    "\n",
    "source(\"diabetes_analysis_v07.R\")\n",
    "\n",
    "df_all4  <- get_df_all4_for_tcr_analysis(clone_table_individual)\n",
    "\n",
    "plot_tcr_overlap_matrix(df_all4 = df_all4, sample_name = \"clone_aa_CD8\")\n",
    "\n",
    "plot_overlap_index(df_all4, \"clone_aa_CD8\")    \n",
    "\n",
    "tcr_overlap_heatmap(clone_table_individual = clone_table_individual, sample = \"clone_aa_CD8\")plot_overlap_index(df_all4, \"cdr3b_CD4\")    "
   ]
  },
  {
   "cell_type": "code",
   "execution_count": null,
   "metadata": {
    "scrolled": true
   },
   "outputs": [],
   "source": [
    "tcr_overlap_heatmap(clone_table_individual = clone_table_individual, sample = \"cdr3b_CD4\")"
   ]
  },
  {
   "cell_type": "code",
   "execution_count": null,
   "metadata": {},
   "outputs": [],
   "source": [
    "## CDR3_A1"
   ]
  },
  {
   "cell_type": "code",
   "execution_count": null,
   "metadata": {},
   "outputs": [],
   "source": [
    "clone_table_individual <- metadata_6 %>%\n",
    "  dplyr::group_by(cdr3_A1, Sample_char) %>%\n",
    "          dplyr::summarize(n = n()) %>%\n",
    "    arrange(desc(n)) %>% pivot_wider(names_from = Sample_char, values_from = n, values_fill = 0) "
   ]
  },
  {
   "cell_type": "code",
   "execution_count": null,
   "metadata": {},
   "outputs": [],
   "source": [
    "df_all4  <- get_df_all4_for_tcr_analysis(clone_table_individual)"
   ]
  },
  {
   "cell_type": "code",
   "execution_count": null,
   "metadata": {
    "scrolled": true
   },
   "outputs": [],
   "source": [
    "plot_tcr_overlap_matrix(df_all4 = df_all4, sample_name = \"cdr3a1_CD4\")"
   ]
  },
  {
   "cell_type": "code",
   "execution_count": null,
   "metadata": {},
   "outputs": [],
   "source": [
    "plot_overlap_index(df_all4, \"cdr3a1_CD4\")    "
   ]
  },
  {
   "cell_type": "code",
   "execution_count": null,
   "metadata": {
    "scrolled": true
   },
   "outputs": [],
   "source": [
    "tcr_overlap_heatmap(clone_table_individual = clone_table_individual, sample = \"cdr3a1_CD4\")"
   ]
  },
  {
   "cell_type": "code",
   "execution_count": null,
   "metadata": {},
   "outputs": [],
   "source": [
    "## CDR3_both"
   ]
  },
  {
   "cell_type": "code",
   "execution_count": null,
   "metadata": {},
   "outputs": [],
   "source": [
    "metadata_6 <- metadata_6 %>% mutate(\n",
    "  clone_nt = paste(cdr3_B_nt,cdr3_A1_nt,cdr3_A2_nt),\n",
    "  clone_aa = paste(cdr3_B,cdr3_A1)\n",
    ")"
   ]
  },
  {
   "cell_type": "code",
   "execution_count": null,
   "metadata": {},
   "outputs": [],
   "source": [
    "clone_table_individual <- metadata_6 %>%\n",
    "  dplyr::group_by(clone_aa, Sample_char) %>%\n",
    "          dplyr::summarize(n = n()) %>%\n",
    "    arrange(desc(n)) %>% pivot_wider(names_from = Sample_char, values_from = n, values_fill = 0) "
   ]
  },
  {
   "cell_type": "code",
   "execution_count": null,
   "metadata": {},
   "outputs": [],
   "source": [
    "source(\"diabetes_analysis_v07.R\")"
   ]
  },
  {
   "cell_type": "code",
   "execution_count": null,
   "metadata": {},
   "outputs": [],
   "source": [
    "df_all4  <- get_df_all4_for_tcr_analysis(clone_table_individual)"
   ]
  },
  {
   "cell_type": "code",
   "execution_count": null,
   "metadata": {
    "scrolled": true
   },
   "outputs": [],
   "source": [
    "plot_tcr_overlap_matrix(df_all4 = df_all4, sample_name = \"clone_aa_CD4\")"
   ]
  },
  {
   "cell_type": "code",
   "execution_count": null,
   "metadata": {},
   "outputs": [],
   "source": [
    "plot_overlap_index(df_all4, \"clone_aa_CD4\")    "
   ]
  },
  {
   "cell_type": "code",
   "execution_count": null,
   "metadata": {
    "scrolled": true
   },
   "outputs": [],
   "source": [
    "tcr_overlap_heatmap(clone_table_individual = clone_table_individual, sample = \"clone_aa_CD4\")"
   ]
  },
  {
   "cell_type": "code",
   "execution_count": null,
   "metadata": {},
   "outputs": [],
   "source": []
  },
  {
   "cell_type": "code",
   "execution_count": null,
   "metadata": {},
   "outputs": [],
   "source": []
  },
  {
   "cell_type": "code",
   "execution_count": null,
   "metadata": {},
   "outputs": [],
   "source": [
    "tcr_overlap_heatmap_patient  <- function(clone_table_individual = clone_table_individual, \n",
    "                                 sample, md = md){\n",
    "clone_table_individual_binary <- clone_table_individual %>% mutate_at(vars(2:ncol(clone_table_individual)), is_positive)\n",
    "clone_table_individual$sum <- rowSums(clone_table_individual_binary[,2:ncol(clone_table_individual)])\n",
    "\n",
    "clone_table_individual  <- (clone_table_individual %>% arrange(desc(sum)))[2:nrow(clone_table_individual),]\n",
    "clone_table_individual_binary  <- (clone_table_individual_binary)[c(2:nrow(clone_table_individual_binary)),]\n",
    "order_cols  <- order((colnames(clone_table_individual_binary)[2:ncol(clone_table_individual_binary)]))+1\n",
    "clone_table_individual_binary  <- clone_table_individual_binary[,c(1,order_cols)]\n",
    "df_all4 <- data.frame(\"\")\n",
    "\n",
    "for(j in 2:ncol(clone_table_individual_binary)){\n",
    "  subset1 <- clone_table_individual_binary[,c(1,j)]\n",
    " colnames(subset1)  <- c(\"aa\", \"sub1\")\n",
    "  vector_overlap <- c()\n",
    "    subset1  <- subset1  %>% dplyr::filter(sub1 >0)\n",
    "  for(i in 2:ncol(clone_table_individual_binary)){\n",
    "    subset2 <- clone_table_individual_binary[,c(1,i)]\n",
    "    colnames(subset2)  <- c(\"aa\", \"sub2\")\n",
    "    subset2  <- subset2  %>%  dplyr::filter(sub2 >0)\n",
    "    is_in_second_patient <- nrow(subset1[subset1$aa %in% subset2$aa,])\n",
    "    total <- nrow(subset1)\n",
    "    vector_overlap <- c(vector_overlap,is_in_second_patient/total)\n",
    "  }\n",
    "  df <- as.data.frame(x = vector_overlap)\n",
    "  colnames(df) <- colnames(clone_table_individual_binary)[j]\n",
    "  df_all4 <- cbind(df_all4, df)\n",
    "}\n",
    "\n",
    "df_all4 <- df_all4[,2:ncol(clone_table_individual_binary)]\n",
    "rownames(df_all4) <- colnames(df_all4)\n",
    "df24 <- df_all4\n",
    "df24[df24 == 1] <- 0\n",
    "\n",
    "    matrix_4  <- as.matrix(df24)\n",
    "    \n",
    "sample_annot <- data.frame(row.names = rownames(matrix_4), \n",
    "                         rn = rownames(matrix_4))  %>% \n",
    "    left_join(md) %>% \n",
    "mutate(Disease = ifelse(Disease == \"Pre-Dia\", \"PreDia\", Disease))  %>% dplyr::select(-rn)\n",
    "rownames(sample_annot)  <- rownames(matrix_4)\n",
    "    \n",
    "ann_colors = list(\n",
    "    Sex = c(F = \"indianred2\", M = \"dodgerblue\"),\n",
    "Disease = c(Dia = \"indianred2\", Ctrl = \"dodgerblue1\", PreDia = \"rosybrown1\"))\n",
    "    \n",
    "    pheatmap::pheatmap(matrix_4, \n",
    "                       cluster_rows = F, \n",
    "                       cluster_cols = F, \n",
    "                       filename = paste0(\"../figures/tcr/\",sample,\"_heatmap_by_patient.png\"), \n",
    "                   width = 12, \n",
    "                   height = 12)\n",
    "    \n",
    "    pheatmap::pheatmap(matrix_4, \n",
    "                   cluster_rows = T, \n",
    "                   cluster_cols = T, \n",
    "                   filename = paste0(\"../figures/tcr/\",sample,\"_heatmap_cluster_by_patient.png\"), \n",
    "                   width = 12, \n",
    "                   height = 13,\n",
    "                  annotation_col = sample_annot,\n",
    "                  annotation_colors = ann_colors)\n",
    "\n",
    "    matrix_5  <- log(matrix_4+0.0001)\n",
    "    \n",
    "    pheatmap::pheatmap(matrix_5, \n",
    "                       cluster_rows = F, \n",
    "                       cluster_cols = F, \n",
    "                       filename = paste0(\"../figures/tcr/\",sample,\"_heatmap_log_by_patient.png\"), \n",
    "                   width = 12, \n",
    "                   height = 12)\n",
    "    \n",
    "    pheatmap::pheatmap(matrix_5, \n",
    "                   cluster_rows = T, \n",
    "                   cluster_cols = T, \n",
    "                   filename = paste0(\"../figures/tcr/\",sample,\"_heatmap_log_cluster_by_patient.png\"), \n",
    "                   width = 12, \n",
    "                   height = 13,\n",
    "                  annotation_col = sample_annot,\n",
    "                  annotation_colors = ann_colors) \n",
    "    \n",
    "    overlap_index  <- df_all4  %>% \n",
    "rownames_to_column(\"var1\")  %>% \n",
    "pivot_longer(!var1, names_to = \"var2\", values_to = \"overlap\")  %>% \n",
    "unique  %>% \n",
    "mutate(Disease_1 = substr(var1,1,1))  %>% \n",
    "mutate(Disease_2 = substr(var2,1,1))  %>% \n",
    "mutate(comparison_type = ifelse(\n",
    "var1 == var2, \"SELF - SELF\", ifelse(\n",
    "Disease_1 == \"1\" & Disease_2 == \"1\", \"DIA - DIA\", ifelse(\n",
    "Disease_1 == \"2\" & Disease_2 == \"2\", \"CTRL - CTRL\", ifelse(\n",
    "Disease_1 == \"3\" & Disease_2 == \"3\", \"Pre-Dia - Pre-Dia\", ifelse(\n",
    "Disease_1 == \"3\" & Disease_2 == \"1\" | Disease_2 == \"3\" & Disease_1 == \"1\", \"Dia - Pre-Dia\", ifelse(\n",
    "Disease_1 == \"3\" & Disease_2 == \"2\" | Disease_2 == \"3\" & Disease_1 == \"2\", \"Ctrl - Pre-Dia\",\n",
    "    \"DIA - CTRL\"\n",
    ")))))))\n",
    "\n",
    "overlap_index %>% \n",
    "filter(comparison_type != \"SELF - SELF\")  %>% \n",
    "ggplot(aes(x = comparison_type, y = overlap)) +  \n",
    "geom_dotplot(binaxis='y', stackdir='center', dotsize=0) + \n",
    "  geom_jitter(position=position_jitter(0.2), size = 1, color = \"grey70\", alpha = 0.1) +\n",
    "   geom_violin(aes(color = comparison_type), scale = \"width\", alpha = 0.7) +  theme_classic() + \n",
    "\n",
    "   NoLegend() + theme(axis.text.x = element_text(angle = 45, vjust = 0.8, hjust =0.8)) +\n",
    "  ggtitle(\"Overlap between diagnoses\") + \n",
    "  xlab(\"Compared diagnoses\") +\n",
    "  ylab(\"Percentage of shared\") \n",
    "\n",
    "#ggsave(paste0(\"../figures/tcr/\",sample, \"_overlap1_by_patient.png\"), width = 15, height = 11, units = \"cm\")\n",
    "#ggsave(paste0(\"../figures/tcr/\",sample, \"_overlap1_by_patient.svg\"), width = 15, height = 11, units = \"cm\")\n",
    "\n",
    "}"
   ]
  },
  {
   "cell_type": "markdown",
   "metadata": {},
   "source": [
    "# TCR properties peptides"
   ]
  },
  {
   "cell_type": "code",
   "execution_count": null,
   "metadata": {},
   "outputs": [],
   "source": [
    "library(Peptides)\n",
    "library(Seurat)\n",
    "library(dplyr)\n",
    "    \n",
    "add_TCR_properties  <- function(seurat){\n",
    "    seurat@meta.data  <- seurat@meta.data  %>% mutate(pI_cdr3_B = ifelse(is.na(cdr3_B),NA_integer_,pI(cdr3_B)),\n",
    "           boman_cdr3_B = ifelse(is.na(cdr3_B),NA_integer_,boman(cdr3_B)),\n",
    "          charge_cdr3_B = ifelse(is.na(cdr3_B),NA_integer_,charge(cdr3_B)),\n",
    "          hmoment_cdr3_B = ifelse(is.na(cdr3_B),NA_integer_,hmoment(cdr3_B)),\n",
    "          hydrophobicity_cdr3_B = ifelse(is.na(cdr3_B),NA_integer_,hydrophobicity(cdr3_B)),\n",
    "          mw_cdr3_B = ifelse(is.na(cdr3_B),NA_integer_,mw(cdr3_B)),\n",
    "          mz_cdr3_B = ifelse(is.na(cdr3_B),NA_integer_,mz(cdr3_B)),\n",
    "          pI_cdr3_A1 = ifelse(is.na(cdr3_A1),NA_integer_,pI(cdr3_A1)),\n",
    "           boman_cdr3_A1 = ifelse(is.na(cdr3_A1),NA_integer_,boman(cdr3_A1)),\n",
    "          charge_cdr3_A1 = ifelse(is.na(cdr3_A1),NA_integer_,charge(cdr3_A1)),\n",
    "          hmoment_cdr3_A1 = ifelse(is.na(cdr3_A1),NA_integer_,hmoment(cdr3_A1)),\n",
    "          hydrophobicity_cdr3_A1 = ifelse(is.na(cdr3_A1),NA_integer_,hydrophobicity(cdr3_A1)),\n",
    "          mw_cdr3_A1 = ifelse(is.na(cdr3_A1),NA_integer_,mw(cdr3_A1)),\n",
    "          mz_cdr3_A1 = ifelse(is.na(cdr3_A1),NA_integer_,mz(cdr3_A1)),\n",
    "          pI_cdr3_clone = ifelse(is.na(cdr3_B)|is.na(cdr3_A1),NA_integer_,pI(paste0(cdr3_B,cdr3_A1))),\n",
    "           boman_cdr3_clone = ifelse(is.na(cdr3_B)|is.na(cdr3_A1),NA_integer_,boman(paste0(cdr3_B,cdr3_A1))),\n",
    "          charge_cdr3_clone = ifelse(is.na(cdr3_B)|is.na(cdr3_A1),NA_integer_,charge(paste0(cdr3_B,cdr3_A1))),\n",
    "          hmoment_cdr3_clone = ifelse(is.na(cdr3_B)|is.na(cdr3_A1),NA_integer_,hmoment(paste0(cdr3_B,cdr3_A1))),\n",
    "          hydrophobicity_cdr3_clone = ifelse(is.na(cdr3_B)|is.na(cdr3_A1),NA_integer_,hydrophobicity(paste0(cdr3_B,cdr3_A1))),\n",
    "          mw_cdr3_clone = ifelse(is.na(cdr3_B)|is.na(cdr3_A1),NA_integer_,mw(paste0(cdr3_B,cdr3_A1))),\n",
    "          mz_cdr3_clone = ifelse(is.na(cdr3_B)|is.na(cdr3_A1),NA_integer_,mz(paste0(cdr3_B,cdr3_A1))))\n",
    "    return(seurat)\n",
    "    }"
   ]
  },
  {
   "cell_type": "code",
   "execution_count": null,
   "metadata": {},
   "outputs": [],
   "source": [
    "cd4_l2_subcluster  <- readRDS(\"../data/processed/L2/cd4_subcluster.rds\")"
   ]
  },
  {
   "cell_type": "code",
   "execution_count": null,
   "metadata": {},
   "outputs": [],
   "source": [
    "cd4_l2_subcluster  <- add_TCR_properties(cd4_l2_subcluster)"
   ]
  },
  {
   "cell_type": "code",
   "execution_count": null,
   "metadata": {},
   "outputs": [],
   "source": [
    "dim(cd4_l2_subcluster@meta.data)"
   ]
  },
  {
   "cell_type": "code",
   "execution_count": null,
   "metadata": {
    "scrolled": true
   },
   "outputs": [],
   "source": [
    "cd4_l2_subcluster@meta.data[,177:197]"
   ]
  },
  {
   "cell_type": "code",
   "execution_count": null,
   "metadata": {},
   "outputs": [],
   "source": [
    "library(ggpubr)"
   ]
  },
  {
   "cell_type": "code",
   "execution_count": null,
   "metadata": {},
   "outputs": [],
   "source": [
    "dir.create(\"../figures/tcr/peptides_cd4_allclones/\")"
   ]
  },
  {
   "cell_type": "markdown",
   "metadata": {},
   "source": [
    "## All clones"
   ]
  },
  {
   "cell_type": "code",
   "execution_count": null,
   "metadata": {
    "scrolled": true
   },
   "outputs": [],
   "source": [
    "options(repr.plot.width = 4, repr.plot.height = 6.5)\n",
    "\n",
    "\n",
    "for(i in 177:197){\n",
    "   df  <- data.frame(Score = cd4_l2_subcluster@meta.data[,i],\n",
    "                  Annotation = cd4_l2_subcluster$Disease)\n",
    "    dataMedian <- summarise(group_by(df, Annotation), MD = 1.2*median(Score, na.rm = T))\n",
    "       \n",
    "p  <- ggplot(df, aes(x = Annotation, y = Score)) +\n",
    "    ggrastr::rasterise(geom_jitter(position=position_jitter(0.2), size = 1, color = \"grey70\", alpha = 0.7)) +\n",
    "    geom_violin(aes(color = Annotation), scale = \"width\", alpha = 0.7) +  theme_classic() + \n",
    "   NoLegend() + theme(axis.text.x = element_text(angle = 45, vjust = 0.8, hjust =0.8)) +\n",
    "    scale_color_manual(values = c(\"blue\", \"#c41515ff\")) + \n",
    "    stat_summary(fun = \"median\",\n",
    "                   geom = \"crossbar\", \n",
    "                   width = 0.6,\n",
    "                   colour = \"grey20\") +\n",
    "    geom_text(data = dataMedian, aes(Annotation, MD, label = round(MD, digits = 2)), \n",
    "             size = 7) +\n",
    "    xlab(\"\") +\n",
    "    scale_fill_continuous(guide=FALSE) +\n",
    "   #scale_y_continuous(limits = c(NA, max())) +\n",
    "   ggpubr::stat_compare_means(size = 7, label = \"p.format\", label.x = 1.3,\n",
    "                              label.y.npc = 0.9) +\n",
    "  ggtitle(colnames(cd4_l2_subcluster@meta.data)[i]) + \n",
    "  theme(panel.background = element_blank(), axis.text.x = element_text(angle = 90),\n",
    "      axis.ticks.x = element_blank()) + ggtheme()\n",
    "   print(p)\n",
    "    ggsave(paste0(\"../figures/tcr/peptides_cd4_allclones/\",colnames(cd4_l2_subcluster@meta.data)[i], \".svg\"), width = 7, height = 14, units = \"cm\")\n",
    "    ggsave(paste0(\"../figures/tcr/peptides_cd4_allclones/\",colnames(cd4_l2_subcluster@meta.data)[i], \".png\"), width = 7, height = 14, units = \"cm\")\n",
    "}"
   ]
  },
  {
   "cell_type": "code",
   "execution_count": null,
   "metadata": {},
   "outputs": [],
   "source": [
    "library(ggbeeswarm)"
   ]
  },
  {
   "cell_type": "markdown",
   "metadata": {},
   "source": [
    "## All clones by patient"
   ]
  },
  {
   "cell_type": "code",
   "execution_count": null,
   "metadata": {},
   "outputs": [],
   "source": [
    "dir.create(\"../figures/tcr/peptides_cd4_bypatient/\")"
   ]
  },
  {
   "cell_type": "code",
   "execution_count": null,
   "metadata": {},
   "outputs": [],
   "source": [
    "for(i in 177:197){\n",
    "        \n",
    "df  <- data.frame(Score = cd4_l2_subcluster@meta.data[,i],\n",
    "                  Condition = cd4_l2_subcluster$Condition, \n",
    "                 Sample_ID = cd4_l2_subcluster$Sample_ID, \n",
    "                 Patient_ID = cd4_l2_subcluster$Patient_ID, \n",
    "                  \n",
    "                 Disease = cd4_l2_subcluster$Disease) \n",
    "    \n",
    " p  <-    df  %>% \n",
    "    group_by(Patient_ID, Disease)  %>% \n",
    "    summarise(avg_score = mean(Score, na.rm = TRUE))  %>% \n",
    "    ggplot(aes(x = Disease, y = avg_score)) + # you can change the x to whatever variable you're interested in\n",
    "   geom_violin(alpha = 0.3, aes(fill = Disease), scale = \"width\") + \n",
    "stat_summary(fun = \"median\",\n",
    "               geom = \"crossbar\", \n",
    "               width = 0.75,\n",
    "               color = \"grey30\") +\n",
    "geom_beeswarm(size = 3, aes(fill = Disease), cex = 3, \n",
    "                shape = 21, color = \"black\", corral = \"random\") +\n",
    "scale_fill_manual(values = c(\"#1874cdff\",   \"#c41515ff\",\"#eeb4b4ff\")) +\n",
    "scale_color_manual(values = c(\"dodgerblue3\",   \"#aa2a2aff\",\"#e88989ff\")) + #ggpubr::stat_compare_means(comparisons = list( c(1,3), c(2,3), c(1,2)), size = 7)+\n",
    "    ggpubr::stat_compare_means(size = 7, label = \"p.format\") +\n",
    "  ggtitle(colnames(cd4_l2_subcluster@meta.data)[i]) + \n",
    "    theme_classic() +\n",
    "    xlab(\"\") + ylab(\"\") +\n",
    "  theme(panel.background = element_blank(),\n",
    "       axis.ticks.x = element_blank()) + ggtheme()\n",
    "   print(p)\n",
    "    \n",
    "    ggsave(paste0(\"../figures/tcr/peptides_cd4_bypatient/\",colnames(cd4_l2_subcluster@meta.data)[i], \".svg\"), width = 9, height = 9, units = \"cm\")\n",
    "    ggsave(paste0(\"../figures/tcr/peptides_cd4_bypatient/\",colnames(cd4_l2_subcluster@meta.data)[i], \".png\"), width = 9, height = 9, units = \"cm\")\n",
    "      \n",
    "}"
   ]
  },
  {
   "cell_type": "markdown",
   "metadata": {},
   "source": [
    "## One clone counted just once"
   ]
  },
  {
   "cell_type": "code",
   "execution_count": null,
   "metadata": {},
   "outputs": [],
   "source": [
    "one_random_clone  <- function(seurat){\n",
    "    seurat$barcode  <- colnames(seurat)\n",
    "metadata_1  <- seurat@meta.data %>% mutate(clone_nt = paste(cdr3_B_nt,cdr3_A1_nt,cdr3_A2_nt),\n",
    "  clone_aa = paste(\"CDR3b\",cdr3_B,\"CDR3a\",cdr3_A1))\n",
    "metadata_one_clone  <- metadata_1  %>% group_by(clone_aa, Patient_Time)  %>% slice_sample(n = 1)\n",
    "seurat  <- subset(seurat, barcode %in% metadata_one_clone$barcode)\n",
    "    return(seurat)\n",
    "    }"
   ]
  },
  {
   "cell_type": "code",
   "execution_count": null,
   "metadata": {},
   "outputs": [],
   "source": [
    "cd4_l2_subcluster_one_random_clone  <- one_random_clone(cd4_l2_subcluster)"
   ]
  },
  {
   "cell_type": "code",
   "execution_count": null,
   "metadata": {},
   "outputs": [],
   "source": [
    "dir.create(\"../figures/tcr/peptides_cd4_one_random_clone/\")"
   ]
  },
  {
   "cell_type": "code",
   "execution_count": null,
   "metadata": {},
   "outputs": [],
   "source": [
    "options(repr.plot.width = 4, repr.plot.height = 6.5)\n",
    "for(i in 177:197){\n",
    "    df  <- data.frame(Score = cd4_l2_subcluster_one_random_clone@meta.data[,i],\n",
    "                  Annotation = cd4_l2_subcluster_one_random_clone$Disease)\n",
    "    dataMedian <- summarise(group_by(df, Annotation), MD = 1.2*median(Score, na.rm = T))\n",
    "       \n",
    "p  <- ggplot(df, aes(x = Annotation, y = Score)) +\n",
    "    ggrastr::rasterise(geom_jitter(position=position_jitter(0.2), size = 1, color = \"grey70\", alpha = 0.7)) +\n",
    "    geom_violin(aes(color = Annotation), scale = \"width\", alpha = 0.7) +  theme_classic() + \n",
    "   NoLegend() + theme(axis.text.x = element_text(angle = 45, vjust = 0.8, hjust =0.8)) +\n",
    "    scale_color_manual(values = c(\"blue\", \"#c41515ff\", \"#d87f7fff\")) + \n",
    "    stat_summary(fun = \"median\",\n",
    "                   geom = \"crossbar\", \n",
    "                   width = 0.6,\n",
    "                   colour = \"grey20\") +\n",
    "    geom_text(data = dataMedian, aes(Annotation, MD, label = round(MD, digits = 2)), \n",
    "             size = 7) +\n",
    "    xlab(\"\") +\n",
    "   #scale_y_continuous(limits = c(NA, max())) +\n",
    "    ggpubr::stat_compare_means(size = 7, label = \"p.format\", label.x = 1.3,\n",
    "                              label.y.npc = 0.9) +\n",
    "  ggtitle(colnames(cd4_l2_subcluster_one_random_clone@meta.data)[i]) + \n",
    "  theme(panel.background = element_blank(), axis.text.x = element_text(angle = 90),\n",
    "      axis.ticks.x = element_blank()) + ggtheme()\n",
    "   print(p)\n",
    "    \n",
    "    print(p)\n",
    "    ggsave(paste0(\"../figures/tcr/peptides_cd4_one_random_clone/\",colnames(cd4_l2_subcluster_one_random_clone@meta.data)[i], \".svg\"), width = 7, height = 14, units = \"cm\")\n",
    "    ggsave(paste0(\"../figures/tcr/peptides_cd4_one_random_clone/\",colnames(cd4_l2_subcluster_one_random_clone@meta.data)[i], \".png\"), width = 7, height = 14, units = \"cm\")\n",
    "    \n",
    "}"
   ]
  },
  {
   "cell_type": "markdown",
   "metadata": {},
   "source": [
    "## One clone counted just once by patient"
   ]
  },
  {
   "cell_type": "code",
   "execution_count": null,
   "metadata": {},
   "outputs": [],
   "source": [
    "dir.create(\"../figures/tcr/peptides_cd4_one_random_bypatient/\")"
   ]
  },
  {
   "cell_type": "code",
   "execution_count": null,
   "metadata": {},
   "outputs": [],
   "source": [
    "for(i in 177:197){\n",
    "        \n",
    "df  <- data.frame(Score = cd4_l2_subcluster_one_random_clone@meta.data[,i],\n",
    "                  Condition = cd4_l2_subcluster_one_random_clone$Condition, \n",
    "                 Sample_ID = cd4_l2_subcluster_one_random_clone$Sample_ID, \n",
    "                 Patient_ID = cd4_l2_subcluster_one_random_clone$Patient_ID, \n",
    "                  \n",
    "                 Disease = cd4_l2_subcluster_one_random_clone$Disease) \n",
    "    \n",
    " p  <-    df  %>% \n",
    "    group_by(Patient_ID, Disease)  %>% \n",
    "    summarise(avg_score = mean(Score, na.rm = TRUE))  %>% \n",
    "    ggplot(aes(x = Disease, y = avg_score)) + # you can change the x to whatever variable you're interested in\n",
    "   geom_violin(alpha = 0.3, aes(fill = Disease), scale = \"width\") + \n",
    "stat_summary(fun = \"median\",\n",
    "               geom = \"crossbar\", \n",
    "               width = 0.75,\n",
    "               color = \"grey30\") +\n",
    "geom_beeswarm(size = 3, aes(fill = Disease), cex = 3, \n",
    "                shape = 21, color = \"black\", corral = \"random\") +\n",
    "scale_fill_manual(values = c(\"#1874cdff\",   \"#c41515ff\",\"#eeb4b4ff\")) +\n",
    "scale_color_manual(values = c(\"dodgerblue3\",   \"#aa2a2aff\",\"#e88989ff\")) + #ggpubr::stat_compare_means(comparisons = list( c(1,3), c(2,3), c(1,2)), size = 7)+\n",
    "    ggpubr::stat_compare_means(size = 7, label = \"p.format\") +\n",
    "  ggtitle(colnames(cd4_l2_subcluster_one_random_clone@meta.data)[i]) + \n",
    "  theme(panel.background = element_blank()) + ggtheme()\n",
    "   print(p)\n",
    "    \n",
    "    ggsave(paste0(\"../figures/tcr/peptides_cd4_one_random_bypatient/\",colnames(cd4_l2_subcluster_one_random_clone@meta.data)[i], \".svg\"), width = 12, height = 14, units = \"cm\")\n",
    "    ggsave(paste0(\"../figures/tcr/peptides_cd4_one_random_bypatient/\",colnames(cd4_l2_subcluster_one_random_clone@meta.data)[i], \".png\"), width = 12, height = 14, units = \"cm\")\n",
    "      \n",
    "}"
   ]
  },
  {
   "cell_type": "markdown",
   "metadata": {},
   "source": [
    "## TCR properties table"
   ]
  },
  {
   "cell_type": "code",
   "execution_count": null,
   "metadata": {},
   "outputs": [],
   "source": [
    "get_tcr_prop_table  <- function(i) {\n",
    "    \n",
    "    # All clones\n",
    "      df  <- data.frame(Score = cd4_l2_subcluster@meta.data[,i],\n",
    "                  Annotation = cd4_l2_subcluster$Disease)  %>% \n",
    "    dplyr::filter(!is.na(Score))\n",
    "    \n",
    "    wcx  <- wilcox.test(df$Score ~ df$Annotation, conf.int = T)\n",
    "\n",
    "    df2  <- df  %>% group_by(Annotation)  %>% summarise(mean = mean(Score), sd = sd(Score))\n",
    "\n",
    "     df_all  <- data.frame(name = colnames(cd4_l2_subcluster@meta.data)[i], \n",
    "                          cell_type = \"CD4\",\n",
    "                          test_type = \"All clones\",\n",
    "                          estimate = wcx$estimate,\n",
    "                          pval = wcx$p.value, \n",
    "                          mean_dia = df2$mean[2],\n",
    "                         mean_ctrl = df2$mean[1], \n",
    "                         upper = wcx$conf.int[2],\n",
    "                         lower = wcx$conf.int[1]\n",
    "                         ) \n",
    "    \n",
    "        df_final  <-  df_all\n",
    "    \n",
    "    # Random clones\n",
    "       df  <- data.frame(Score = cd4_l2_subcluster_one_random_clone@meta.data[,i],\n",
    "                  Annotation = cd4_l2_subcluster_one_random_clone$Disease)  %>% \n",
    "    dplyr::filter(!is.na(Score))\n",
    "    \n",
    "    wcx  <- wilcox.test(df$Score ~ df$Annotation, conf.int = T)\n",
    "\n",
    "    df2  <- df  %>% group_by(Annotation)  %>% summarise(mean = mean(Score), sd = sd(Score))\n",
    "\n",
    "     df_all  <- data.frame(name = colnames(cd4_l2_subcluster_one_random_clone@meta.data)[i], \n",
    "                          cell_type = \"CD4\",\n",
    "                          test_type = \"Random clones\",\n",
    "                          estimate = wcx$estimate,\n",
    "                          pval = wcx$p.value, \n",
    "                          mean_dia = df2$mean[2],\n",
    "                         mean_ctrl = df2$mean[1], \n",
    "                         upper = wcx$conf.int[2],\n",
    "                         lower = wcx$conf.int[1]\n",
    "                         ) \n",
    "    \n",
    "        df_final  <- rbind(df_final, df_all)\n",
    "    \n",
    "    \n",
    "    # All clones by patient\n",
    "    \n",
    "       df  <- data.frame(Score = cd4_l2_subcluster@meta.data[,i],\n",
    "                  Disease = cd4_l2_subcluster$Disease,\n",
    "                    Patient_ID = cd4_l2_subcluster$Patient_ID   )  %>% \n",
    "    dplyr::filter(!is.na(Score))  %>% group_by(Patient_ID, Disease)  %>% \n",
    "    summarise(Score = mean(Score)) \n",
    "    \n",
    "    wcx  <- wilcox.test(df$Score ~ df$Disease, conf.int = T)\n",
    "\n",
    "    df2  <- df  %>% group_by(Disease)  %>% summarise(mean = mean(Score), sd = sd(Score))\n",
    "\n",
    "     df_all  <- data.frame(name = colnames(cd4_l2_subcluster@meta.data)[i], \n",
    "                          cell_type = \"CD4\",\n",
    "                          test_type = \"All clones by patient\",\n",
    "                          estimate = wcx$estimate,\n",
    "                          pval = wcx$p.value, \n",
    "                          mean_dia = df2$mean[2],\n",
    "                         mean_ctrl = df2$mean[1], \n",
    "                         upper = wcx$conf.int[2],\n",
    "                         lower = wcx$conf.int[1]\n",
    "                         ) \n",
    "    \n",
    "        df_final  <- rbind(df_final, df_all)\n",
    "    \n",
    "    # Random clones by patient\n",
    "    \n",
    "      df  <- data.frame(Score = cd4_l2_subcluster_one_random_clone@meta.data[,i],\n",
    "                  Disease = cd4_l2_subcluster_one_random_clone$Disease,\n",
    "                    Patient_ID = cd4_l2_subcluster_one_random_clone$Patient_ID   )  %>% \n",
    "    dplyr::filter(!is.na(Score))  %>% group_by(Patient_ID, Disease)  %>% \n",
    "    summarise(Score = mean(Score)) \n",
    "    \n",
    "    wcx  <- wilcox.test(df$Score ~ df$Disease, conf.int = T)\n",
    "\n",
    "    df2  <- df  %>% group_by(Disease)  %>% summarise(mean = mean(Score), sd = sd(Score))\n",
    "\n",
    "     df_all  <- data.frame(name = colnames(cd4_l2_subcluster_one_random_clone@meta.data)[i], \n",
    "                          cell_type = \"CD4\",\n",
    "                          test_type = \"Random clones by patient\",\n",
    "                          estimate = wcx$estimate,\n",
    "                          pval = wcx$p.value, \n",
    "                          mean_dia = df2$mean[2],\n",
    "                         mean_ctrl = df2$mean[1], \n",
    "                         upper = wcx$conf.int[2],\n",
    "                         lower = wcx$conf.int[1]\n",
    "                         ) \n",
    "    \n",
    "        df_final  <- rbind(df_final, df_all)\n",
    "    return(df_final)\n",
    "}"
   ]
  },
  {
   "cell_type": "code",
   "execution_count": null,
   "metadata": {
    "scrolled": true
   },
   "outputs": [],
   "source": [
    "tcr_all_props_table  <- map(.x = 177:197, .f = get_tcr_prop_table)"
   ]
  },
  {
   "cell_type": "code",
   "execution_count": null,
   "metadata": {},
   "outputs": [],
   "source": [
    "tcr_all_props_table2  <- bind_rows(tcr_all_props_table)"
   ]
  },
  {
   "cell_type": "code",
   "execution_count": null,
   "metadata": {},
   "outputs": [],
   "source": [
    "tcr_all_props_table2  %>% arrange(pval)"
   ]
  },
  {
   "cell_type": "code",
   "execution_count": null,
   "metadata": {},
   "outputs": [],
   "source": [
    "dir.create( \"../tables/tcr/peptides/\")"
   ]
  },
  {
   "cell_type": "code",
   "execution_count": null,
   "metadata": {},
   "outputs": [],
   "source": [
    "write.csv(tcr_all_props_table2, \"../tables/tcr/peptides/cd4_tcr_all_props_table.csv\")"
   ]
  },
  {
   "cell_type": "code",
   "execution_count": null,
   "metadata": {},
   "outputs": [],
   "source": [
    "tcr_all_props_table2  <- "
   ]
  }
 ],
 "metadata": {
  "kernelspec": {
   "display_name": "R",
   "language": "R",
   "name": "ir"
  },
  "language_info": {
   "codemirror_mode": "r",
   "file_extension": ".r",
   "mimetype": "text/x-r-source",
   "name": "R",
   "pygments_lexer": "r",
   "version": "4.4.2"
  },
  "toc": {
   "base_numbering": 1,
   "nav_menu": {},
   "number_sections": true,
   "sideBar": true,
   "skip_h1_title": false,
   "title_cell": "Table of Contents",
   "title_sidebar": "Contents",
   "toc_cell": false,
   "toc_position": {},
   "toc_section_display": true,
   "toc_window_display": true
  }
 },
 "nbformat": 4,
 "nbformat_minor": 4
}
