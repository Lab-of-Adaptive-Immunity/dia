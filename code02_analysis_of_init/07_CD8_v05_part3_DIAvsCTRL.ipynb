{
 "cells": [
  {
   "cell_type": "markdown",
   "id": "e3013f63",
   "metadata": {},
   "source": [
    "# Part 7: Analysis of CD8 T cell subsets"
   ]
  },
  {
   "cell_type": "markdown",
   "id": "9575a083",
   "metadata": {},
   "source": [
    "In this part, we focus on the subpopulations of CD8+ T cells. We analyze the frequencies of these populations and calculate differentially expressed genes between T1D and helathy donors. \n"
   ]
  },
  {
   "cell_type": "code",
   "execution_count": null,
   "id": "f55665e7",
   "metadata": {
    "scrolled": true
   },
   "outputs": [],
   "source": [
    "source(\"diabetes_analysis_v07.R\")"
   ]
  },
  {
   "cell_type": "code",
   "execution_count": null,
   "id": "2e509f1b",
   "metadata": {},
   "outputs": [],
   "source": [
    "rank_score_func <- function(df){\n",
    "df <- df %>% mutate(score = -1*log(p_val_adj+(10^-310))*avg_log2FC*(pct.1/(pct.2+10^-300)))\n",
    "return(df)\n",
    "}"
   ]
  },
  {
   "cell_type": "markdown",
   "id": "fc2994ab",
   "metadata": {},
   "source": [
    "# Analysis of subsets"
   ]
  },
  {
   "cell_type": "markdown",
   "id": "f16b2c88",
   "metadata": {},
   "source": [
    "We will load the preprocessed datasets of CD8 T cells. "
   ]
  },
  {
   "cell_type": "code",
   "execution_count": null,
   "id": "4fe2c36c",
   "metadata": {},
   "outputs": [],
   "source": [
    "cd8_l3_tem  <- readRDS(\"../data/processed/L3/cd8_l3_tem.rds\")\n",
    "cd8_l3_naive  <- readRDS(\"../data/processed/L3/cd8_l3_naive.rds\")\n",
    "cd8_l3_tcm  <- readRDS(\"../data/processed/L3/cd8_l3_tcm.rds\")\n",
    "cd8_l3_temra  <- readRDS(\"../data/processed/L3/cd8_l3_temra.rds\")"
   ]
  },
  {
   "cell_type": "code",
   "execution_count": null,
   "id": "77c474bb",
   "metadata": {},
   "outputs": [],
   "source": [
    "cd8_l3_prolif  <- readRDS(\"../data/processed/L3/cd8_l3_prolif.rds\")"
   ]
  },
  {
   "cell_type": "code",
   "execution_count": null,
   "id": "0dcc9a22",
   "metadata": {},
   "outputs": [],
   "source": [
    "cd8_l2_subcluster  <- readRDS(\"../data/processed/L2/cd8_l2_subcluster.rds\")"
   ]
  },
  {
   "cell_type": "code",
   "execution_count": null,
   "id": "e8592190",
   "metadata": {},
   "outputs": [],
   "source": [
    "cd8_l2_nk  <- readRDS(\"../data/processed/L2/cd8_l2_nk.rds\")\n",
    "cd8_l2_unc  <- readRDS(\"../data/processed/L2/cd8_l2_unc.rds\")"
   ]
  },
  {
   "cell_type": "code",
   "execution_count": null,
   "id": "a7ccec6b",
   "metadata": {},
   "outputs": [],
   "source": [
    "cd8_l1_full_filt  <- readRDS(\"../../240218_VN_Diabetes_V05/data/processed/L1/cd8_l1_full_filt.rds\")"
   ]
  },
  {
   "cell_type": "code",
   "execution_count": null,
   "id": "a68d36b7",
   "metadata": {},
   "outputs": [],
   "source": [
    "cd8_l1_full_filt@meta.data"
   ]
  },
  {
   "cell_type": "code",
   "execution_count": null,
   "id": "d1aea37a",
   "metadata": {
    "scrolled": true
   },
   "outputs": [],
   "source": [
    "DimPlot(cd8_l1_full_filt, group.by = \"annotations_l2\")"
   ]
  },
  {
   "cell_type": "code",
   "execution_count": null,
   "id": "a1779be6",
   "metadata": {},
   "outputs": [],
   "source": [
    "cd8_l3_list  <- list(cd8_l3_tem, cd8_l3_naive, cd8_l3_tcm, cd8_l3_temra, cd8_l3_prolif, \n",
    "                    cd8_l2_nk, cd8_l2_unc, cd8_l2_subcluster, cd8_l1_full_filt)\n",
    "\n",
    "names(cd8_l3_list) <- c(\"cd8_l3_tem\", \"cd8_l3_naive\", \"cd8_l3_tcm\", \"cd8_l3_temra\", \"cd8_l3_prolif\",\n",
    "                       \"cd8_l2_nk\", \"cd8_l2_unc\", \"cd8_l2_subcluster\", \"cd8_l1_full_filt\")"
   ]
  },
  {
   "cell_type": "markdown",
   "id": "afb4e624",
   "metadata": {},
   "source": [
    "# Plots of Unconventional populations"
   ]
  },
  {
   "cell_type": "markdown",
   "id": "2b406ba4",
   "metadata": {},
   "source": [
    "We will create some additional analyses of unconventional populations. "
   ]
  },
  {
   "cell_type": "code",
   "execution_count": null,
   "id": "def62c01",
   "metadata": {},
   "outputs": [],
   "source": [
    "options(repr.plot.width = 6, repr.plot.height = 6)\n",
    "DimPlot(cd8_l1_full_filt, raster = T, pt.size = 2, group.by = \"annotations_l2\", cols = c(\"dodgerblue3\",\"grey88\",\"grey88\",\"grey88\",\"grey88\",\"grey88\",\n",
    "                                                                c(scales::hue_pal() (8))[c(7,8)]\n",
    ")) + NoLegend()\n",
    "\n",
    "\n",
    "ggsave(filename = paste0(paste0(\"../figures/Dimplots_unconventional/unconventional_cd8.png\")), width = 12, height = 12, units = \"cm\")\n",
    "ggsave(filename = paste0(paste0(\"../figures/Dimplots_unconventional/unconventional_cd8.svg\")), width = 12, height = 12, units = \"cm\")"
   ]
  },
  {
   "cell_type": "code",
   "execution_count": null,
   "id": "d7865acc",
   "metadata": {},
   "outputs": [],
   "source": [
    "cd8_l1_full_filt$annotations_l2  %>% table"
   ]
  },
  {
   "cell_type": "markdown",
   "id": "45734653",
   "metadata": {},
   "source": [
    "Let's calculate and plot the markers of unconventional cells. "
   ]
  },
  {
   "cell_type": "code",
   "execution_count": null,
   "id": "dba22da4",
   "metadata": {},
   "outputs": [],
   "source": [
    "Idents(cd8_l1_full_filt)  <- cd8_l1_full_filt$annotations_l2\n",
    "mrk1  <- FindMarkers(cd8_l1_full_filt, `ident.1` = \"CD8 Unconventional T cells---gd T cells\")\n",
    "mrk2  <- FindMarkers(cd8_l1_full_filt, `ident.1` = \"CD8 Unconventional T cells---MAIT cells\")\n",
    "mrk3  <- FindMarkers(cd8_l1_full_filt, `ident.1` = \"CD8 NK cells---NK cells\")\n"
   ]
  },
  {
   "cell_type": "code",
   "execution_count": null,
   "id": "2affbb8e",
   "metadata": {},
   "outputs": [],
   "source": [
    "markers  <- rev(c(\"CD3D\",\"TRAC\", \"TRGC1\", 'TRDC',\"NKG7\",\"CXCR6\",\n",
    "                  \"LTB\",\"FCER1G\",\"IL7R\",\n",
    "                  \"PTGDS\",\"CCL4\",\"GNLY\",\"KLRB1\",\n",
    "                  \"CD8A\",\"CD8B\",\"NCR1\",\"ZBTB16\",\n",
    "                  \"GZMK\",\"GZMB\",\n",
    "                 \"KLRG1\",\n",
    "                  \"TNF\",\"CX3CR1\"))"
   ]
  },
  {
   "cell_type": "code",
   "execution_count": null,
   "id": "f6c893ca",
   "metadata": {
    "scrolled": true
   },
   "outputs": [],
   "source": [
    "avgexp = AverageExpression(cd8_l1_full_filt, features = markers,\n",
    "                           return.seurat = F, group.by = \"annotations_l2\", \n",
    "                          assay = \"RNA\")"
   ]
  },
  {
   "cell_type": "code",
   "execution_count": null,
   "id": "14b1dfc7",
   "metadata": {},
   "outputs": [],
   "source": [
    "options(repr.plot.width = 9.5, repr.plot.height = 3.5)\n",
    "pheatmap(t(avgexp$RNA)[c(1,7,8,6,5,4,2,3),], main = \"\", \n",
    "         scale = \"column\", cluster_cols = T, cluster_rows = F,\n",
    "        color=colorRampPalette(c(\"dodgerblue\", \"grey95\", \"indianred2\"))(50), \n",
    "         border_color = \"white\",\n",
    "                  fontsize = 12)"
   ]
  },
  {
   "cell_type": "code",
   "execution_count": null,
   "id": "ce8ad6f1",
   "metadata": {},
   "outputs": [],
   "source": [
    "options(repr.plot.width = 9.5, repr.plot.height = 3.5)\n",
    "pheatmap(t(avgexp$RNA)[c(1,7,8,6,5,4,2,3),], main = \"\", \n",
    "         scale = \"column\", cluster_cols = T, cluster_rows = F,\n",
    "        color=colorRampPalette(c(\"dodgerblue\", \"grey95\", \"indianred2\"))(50), \n",
    "         border_color = \"white\",\n",
    "         filename = \"../figures/heatmaps/heatmap_cd8_unconventional.pdf\",\n",
    "         width = 8, height = 3,\n",
    "                  fontsize = 12) \n",
    "         "
   ]
  },
  {
   "cell_type": "markdown",
   "id": "11be0a58",
   "metadata": {},
   "source": [
    "Next, we will plot the CollecTRI transcription factors. "
   ]
  },
  {
   "cell_type": "code",
   "execution_count": null,
   "id": "632c40f0",
   "metadata": {},
   "outputs": [],
   "source": [
    "DefaultAssay(cd8_l1_full_filt)  <- \"CollecTRI\""
   ]
  },
  {
   "cell_type": "code",
   "execution_count": null,
   "id": "795b0773",
   "metadata": {},
   "outputs": [],
   "source": [
    "Idents(cd8_l1_full_filt)  <- cd8_l1_full_filt$annotations_manual"
   ]
  },
  {
   "cell_type": "code",
   "execution_count": null,
   "id": "84faa491",
   "metadata": {},
   "outputs": [],
   "source": [
    "mrk  <- FindAllMarkers(cd8_l1_full_filt, only.pos = T)"
   ]
  },
  {
   "cell_type": "code",
   "execution_count": null,
   "id": "c72c2443",
   "metadata": {
    "scrolled": true
   },
   "outputs": [],
   "source": [
    "mrk  %>% filter(cluster == \"CD8 T cells\")"
   ]
  },
  {
   "cell_type": "code",
   "execution_count": null,
   "id": "747bf5f9",
   "metadata": {},
   "outputs": [],
   "source": [
    "markers  <- rev(c(\"SPIC\",\"ZFPM1\",  \"CEBPZ\", \"EOMES\", 'SPI1',\"ZNF395\",\n",
    "                  \"RORC\",\"MAFB\",\"CREB3\",\n",
    "                  \"STAT5A\",\"NFIL3\",\"FOXA2\",\n",
    "                  \"CREB1\",\"NFKB1\",\"NFIL3\",\n",
    "                  \"FOXA2\",\"NR3C1\",\"BRD4\",\"ZBTB17\",\n",
    "                  \"ETS1\",\"HIF1A\",\"NFKB2\",\"ZBTB16\"\n",
    "                 ))"
   ]
  },
  {
   "cell_type": "code",
   "execution_count": null,
   "id": "00f16dbb",
   "metadata": {
    "scrolled": true
   },
   "outputs": [],
   "source": [
    "avgexp = AverageExpression(cd8_l1_full_filt, features = markers,\n",
    "                           return.seurat = F, group.by = \"annotations_l2\", \n",
    "                          assay = \"CollecTRI\")"
   ]
  },
  {
   "cell_type": "code",
   "execution_count": null,
   "id": "7917f53a",
   "metadata": {},
   "outputs": [],
   "source": [
    "options(repr.plot.width = 7, repr.plot.height = 3.5)\n",
    "pheatmap(t(avgexp$CollecTRI)[c(1,7,8,6,5,4,2,3),], main = \"\", \n",
    "         scale = \"column\", cluster_cols = T, cluster_rows = F,\n",
    "        color=colorRampPalette(c(\"dodgerblue\", \"grey95\", \"indianred2\"))(50), \n",
    "         border_color = \"white\",\n",
    "                  fontsize = 12)"
   ]
  },
  {
   "cell_type": "code",
   "execution_count": null,
   "id": "5528acd2",
   "metadata": {},
   "outputs": [],
   "source": [
    "options(repr.plot.width = 9.5, repr.plot.height = 3.5)\n",
    "pheatmap(t(avgexp$CollecTRI)[c(1,7,8,6,5,4,2,3),], main = \"\", \n",
    "         scale = \"column\", cluster_cols = T, cluster_rows = F,\n",
    "        color=colorRampPalette(c(\"dodgerblue\", \"grey95\", \"indianred2\"))(50), \n",
    "         border_color = \"white\",\n",
    "         filename = \"../figures/heatmaps/heatmap_cd8_unconventional_collectri.pdf\",\n",
    "         width = 8, height = 3,\n",
    "                  fontsize = 12) "
   ]
  },
  {
   "cell_type": "markdown",
   "id": "be2abf68",
   "metadata": {},
   "source": [
    "## Heatmaps of marker genes"
   ]
  },
  {
   "cell_type": "code",
   "execution_count": null,
   "id": "243cc376",
   "metadata": {
    "scrolled": true
   },
   "outputs": [],
   "source": [
    "options(repr.plot.width = 7, repr.plot.height = 6)\n",
    "DimPlot(cd8_l2_subcluster, group.by = \"annotations_manual\")"
   ]
  },
  {
   "cell_type": "code",
   "execution_count": null,
   "id": "8a5aa280",
   "metadata": {},
   "outputs": [],
   "source": [
    "markers  <- rev(c(\"CCR7\",\"SELL\",  \"TCF7\", \"LEF1\", 'BACH2',\n",
    "                  \"XCL1\",\"KLRC2\",\"IL2RB\",\"ZNF683\", \"ITGAM\",\n",
    "                  \"CXCR3\",\"ITGA4\",\"GZMK\", \"CD28\",\n",
    "                  \"CCL5\", \"EOMES\",\"ITGB1\", \"KLRB1\",\"KLRG1\",\n",
    "                  \"CCL4\",\"ZEB2\",\"PRF1\",\"TBX21\",\"TOX\",\"IFNG\",\n",
    "                  \"GZMA\",\"TNF\",\"GZMB\",\"CX3CR1\",\"HLA-DRA\", \n",
    "                  \"MKI67\", \"PCNA\", \"MCM6\" ))"
   ]
  },
  {
   "cell_type": "code",
   "execution_count": null,
   "id": "d1d9a1b4",
   "metadata": {
    "scrolled": true
   },
   "outputs": [],
   "source": [
    "avgexp = AverageExpression(cd8_l2_subcluster, features = markers,\n",
    "                           return.seurat = F, group.by = \"annotations_manual\", \n",
    "                          assay = \"RNA\")"
   ]
  },
  {
   "cell_type": "code",
   "execution_count": null,
   "id": "75c6aaf8",
   "metadata": {
    "scrolled": true
   },
   "outputs": [],
   "source": [
    "avgexp$RNA"
   ]
  },
  {
   "cell_type": "code",
   "execution_count": null,
   "id": "56f0f0d3",
   "metadata": {},
   "outputs": [],
   "source": [
    "options(repr.plot.width = 9.5, repr.plot.height = 2.5)\n",
    "pheatmap(t(avgexp$RNA[,c(2,1,4,3,5)]), main = \"\", \n",
    "         scale = \"column\", cluster_cols = F, cluster_rows = F,\n",
    "        color=colorRampPalette(c(\"dodgerblue\", \"grey95\", \"indianred2\"))(50), \n",
    "         border_color = \"white\",\n",
    "                  fontsize = 12)"
   ]
  },
  {
   "cell_type": "code",
   "execution_count": null,
   "id": "113e2362",
   "metadata": {},
   "outputs": [],
   "source": [
    "dir.create(\"../figures/heatmaps/\")"
   ]
  },
  {
   "cell_type": "code",
   "execution_count": null,
   "id": "b20438ee",
   "metadata": {},
   "outputs": [],
   "source": [
    "pheatmap(t(avgexp$RNA[,c(2,1,4,3,5)]), main = \"\", \n",
    "         scale = \"column\", cluster_cols = F, cluster_rows = F,\n",
    "        color=colorRampPalette(c(\"dodgerblue\", \"grey95\", \"indianred2\"))(50), \n",
    "         border_color = \"white\", filename = \"../figures/heatmaps/heatmap_cd8_l2.pdf\",\n",
    "         width = 8, height = 3,\n",
    "                  fontsize = 9)"
   ]
  },
  {
   "cell_type": "markdown",
   "id": "95f16028",
   "metadata": {},
   "source": [
    "## Heatmap Dorothea"
   ]
  },
  {
   "cell_type": "code",
   "execution_count": null,
   "id": "3992badf",
   "metadata": {},
   "outputs": [],
   "source": [
    "cd8_l2_subcluster  <- readRDS(\"../data/processed/L2/cd8_l2_subcluster.rds\")"
   ]
  },
  {
   "cell_type": "code",
   "execution_count": null,
   "id": "ff4cc9c2",
   "metadata": {},
   "outputs": [],
   "source": [
    "cd8_l2_nk  <- readRDS(\"../data/processed/L2/cd8_l2_nk.rds\")\n",
    "cd8_l2_unc  <- readRDS(\"../data/processed/L2/cd8_l2_unc.rds\")"
   ]
  },
  {
   "cell_type": "code",
   "execution_count": null,
   "id": "d1196acf",
   "metadata": {},
   "outputs": [],
   "source": [
    "cd8_l3_tem  <- readRDS(\"../data/processed/L3/cd8_l3_tem.rds\")\n",
    "cd8_l3_naive  <- readRDS(\"../data/processed/L3/cd8_l3_naive.rds\")\n",
    "cd8_l3_tcm  <- readRDS(\"../data/processed/L3/cd8_l3_tcm.rds\")\n",
    "cd8_l3_temra  <- readRDS(\"../data/processed/L3/cd8_l3_temra.rds\")\n",
    "cd8_l3_prolif  <- readRDS(\"../data/processed/L3/cd8_l3_prolif.rds\")"
   ]
  },
  {
   "cell_type": "code",
   "execution_count": null,
   "id": "4b862e6e",
   "metadata": {},
   "outputs": [],
   "source": [
    "cd8_l2_subcluster  <- readRDS(\"../data/processed/L2/cd8_l2_subcluster.rds\")\n",
    "cd8_l2_nk  <- readRDS(\"../data/processed/L2/cd8_l2_nk.rds\")\n",
    "cd8_l2_unc  <- readRDS(\"../data/processed/L2/cd8_l2_unc.rds\")\n",
    "cd8_l1_full_filt  <- readRDS(\"../data/processed/L1/cd8_l1_full_filt.rds\")"
   ]
  },
  {
   "cell_type": "code",
   "execution_count": null,
   "id": "c96d176b",
   "metadata": {},
   "outputs": [],
   "source": [
    "DefaultAssay(cd8_l2_subcluster)  <- \"CollecTRI\""
   ]
  },
  {
   "cell_type": "code",
   "execution_count": null,
   "id": "7477250a",
   "metadata": {},
   "outputs": [],
   "source": [
    "Idents(cd8_l2_subcluster)  <- cd8_l2_subcluster$annotations_manual"
   ]
  },
  {
   "cell_type": "code",
   "execution_count": null,
   "id": "855c0208",
   "metadata": {},
   "outputs": [],
   "source": [
    "coll  <- FindAllMarkers(cd8_l2_subcluster, only.pos = T)"
   ]
  },
  {
   "cell_type": "code",
   "execution_count": null,
   "id": "2d54b279",
   "metadata": {
    "scrolled": true
   },
   "outputs": [],
   "source": [
    "genes  <- coll  %>% group_by(cluster)  %>% slice_head(n = 10)  %>% pull(gene)"
   ]
  },
  {
   "cell_type": "code",
   "execution_count": null,
   "id": "fed2300a",
   "metadata": {},
   "outputs": [],
   "source": [
    "dir.create(\"../tables/cd8/collectri_annotations/\")"
   ]
  },
  {
   "cell_type": "code",
   "execution_count": null,
   "id": "c9615070",
   "metadata": {},
   "outputs": [],
   "source": [
    "write.csv(coll, file = \"../tables/cd8/collectri_annotations/cd8_l2_subcluster.csv\")"
   ]
  },
  {
   "cell_type": "code",
   "execution_count": null,
   "id": "34f85c5f",
   "metadata": {
    "scrolled": true
   },
   "outputs": [],
   "source": [
    "avgexp = AverageExpression(cd8_l2_subcluster, features = genes,\n",
    "                           return.seurat = F, group.by = \"annotations_manual\", \n",
    "                          assay = \"CollecTRI\")\n",
    "\n",
    "avgexp$CollecTRI"
   ]
  },
  {
   "cell_type": "code",
   "execution_count": null,
   "id": "d3f95ff6",
   "metadata": {},
   "outputs": [],
   "source": [
    "genes2  <- rev(c(\"TCF7\", \"LEF1\", \"CTCFL\", \"KLF2\",\"NR4A3\",\"BACH2\",\n",
    "             \"CTCF\",\"NOTCH1\",\"KLF3\",\"RBPJ\",\"SMAD3\",\"NFAT5\",\"ID3\",\n",
    "             \"STAT6\",\"FOS\",\"JUN\",\"RELB\",\"IRF6\",\"CEBPA\", \"CEBPD\",\n",
    "             \"TBX21\",\"PRDM1\",\"ZNF395\",\"ID2\",\"EOMES\",\"STAT4\",\n",
    "             \"RUNX3\",\"IRF2\",\"NFKB\",\"TP53\",\"MYC\",\"E2F4\",\"ZEB1\"\n",
    "))\n",
    "avgexp = AverageExpression(cd8_l2_subcluster, features = genes2,\n",
    "                           return.seurat = F, group.by = \"annotations_manual\", \n",
    "                          assay = \"CollecTRI\")"
   ]
  },
  {
   "cell_type": "code",
   "execution_count": null,
   "id": "e5d3e685",
   "metadata": {},
   "outputs": [],
   "source": [
    "options(repr.plot.width = 9.5, repr.plot.height = 2.5)\n",
    "pheatmap(t(avgexp$CollecTRI[,c(2,1,4,3,5)]), main = \"\", \n",
    "         scale = \"column\", cluster_cols = F, cluster_rows = F,\n",
    "        color=colorRampPalette(c(\"dodgerblue\", \"grey95\", \"indianred2\"))(50), \n",
    "         border_color = \"white\",\n",
    "                  fontsize = 12)"
   ]
  },
  {
   "cell_type": "code",
   "execution_count": null,
   "id": "3f86bc9d",
   "metadata": {},
   "outputs": [],
   "source": [
    "pheatmap(t(avgexp$CollecTRI[,c(2,1,4,3,5)]), main = \"\", \n",
    "         scale = \"column\", cluster_cols = F, cluster_rows = F,\n",
    "        color=colorRampPalette(c(\"dodgerblue\", \"grey95\", \"indianred2\"))(50), \n",
    "         border_color = \"white\", filename = \"../figures/heatmaps/heatmap_cd8_l2_collecTRI.pdf\",\n",
    "         width = 8, height = 2,\n",
    "                  fontsize = 9)"
   ]
  },
  {
   "cell_type": "markdown",
   "id": "7d37d105",
   "metadata": {},
   "source": [
    "# Frequencies L2"
   ]
  },
  {
   "cell_type": "code",
   "execution_count": null,
   "id": "f510f016",
   "metadata": {
    "scrolled": true
   },
   "outputs": [],
   "source": [
    "df4  <- create_df4(cd8_l2_subcluster)"
   ]
  },
  {
   "cell_type": "code",
   "execution_count": null,
   "id": "649bbfe8",
   "metadata": {
    "scrolled": true
   },
   "outputs": [],
   "source": [
    "df4"
   ]
  },
  {
   "cell_type": "code",
   "execution_count": null,
   "id": "29abd4f8",
   "metadata": {},
   "outputs": [],
   "source": [
    " p5  <-   df4  %>% \n",
    "filter(Experiment_ID %in% c(\"Exp16\", \"Exp18\", \"Exp19\", \"Exp20\"))  %>% \n",
    "  ggplot(aes(x = Condition, y = freq*100)) + # you can change the x to whatever variable you're interested in\n",
    "   geom_violin(alpha = 0.3, aes(fill = Condition)) +\n",
    "  stat_summary(fun = \"median\",\n",
    "               geom = \"crossbar\", \n",
    "               width = 0.75,\n",
    "               color = \"grey30\") +\n",
    "   scale_fill_manual(values = c(\"#1874cdff\",  \"#ee6363ff\", \"#c41515ff\",\"#eeb4b4ff\")) +\n",
    "scale_color_manual(values = c(\"dodgerblue3\",  \"#e54c4cff\", \"#aa2a2aff\",\"#e88989ff\")) +\n",
    "geom_beeswarm(size = 3, cex = 3, \n",
    "              color = \"black\", method = \"center\",\n",
    "             aes(fill = Condition), shape = 21) +\n",
    "   facet_wrap(~annotations_manual, scales = \"free\", ncol = 9) +\n",
    "  ylab(\"Frequency\") +\n",
    "  xlab(\"Condition\") +\n",
    "  theme_classic() +\n",
    "ggtheme() +\n",
    "ggpubr::stat_compare_means(label.x= 1.5, \n",
    "                           size = 7, vjust = -1, label = \"p.format\", comparisons = list(c(1,2)))+\n",
    "ggtheme() +\n",
    " scale_y_continuous(limits = c(0,NA), expand = c(0.05,0,0,10)) +\n",
    "  theme(strip.background = element_blank(), panel.grid = element_blank()) + \n",
    "  theme(axis.text = element_text(color = \"black\"),\n",
    "        axis.text.x = element_text(angle = 90),\n",
    "       axis.line = element_line(color = \"black\", size = 0.5),\n",
    "        axis.ticks.x = element_blank()) + NoLegend() + ggtitle(\"Final data all groups\")\n",
    "ncols = length(levels(factor(df4$annotations_manual)))"
   ]
  },
  {
   "cell_type": "code",
   "execution_count": null,
   "id": "8390d9b2",
   "metadata": {},
   "outputs": [],
   "source": [
    "options(repr.plot.width = 9, repr.plot.height = 7)\n",
    "p5"
   ]
  },
  {
   "cell_type": "code",
   "execution_count": null,
   "id": "d1f04566",
   "metadata": {},
   "outputs": [],
   "source": [
    "ggsave(\"../figures/subset_characterization/cd8_subsets_in_condition.svg\",\n",
    "       width = 25, height = 12, units = \"cm\")"
   ]
  },
  {
   "cell_type": "code",
   "execution_count": null,
   "id": "028aefb1",
   "metadata": {},
   "outputs": [],
   "source": [
    "    p5  <-   df4  %>% \n",
    "filter(Experiment_ID %in% c(\"Exp16\", \"Exp18\", \"Exp19\", \"Exp20\"))  %>% \n",
    "dplyr::filter(Patient_ID != \"116\")  %>% \n",
    "  ggplot(aes(x = Condition, y = freq*100)) + # you can change the x to whatever variable you're interested in\n",
    "   geom_violin(alpha = 0.3, aes(fill = Condition)) +\n",
    "  stat_summary(fun = \"median\",\n",
    "               geom = \"crossbar\", \n",
    "               width = 0.75,\n",
    "               color = \"grey30\") +\n",
    "   scale_fill_manual(values = c(\"#1874cdff\",  \"#ee6363ff\", \"#c41515ff\",\"#eeb4b4ff\")) +\n",
    "scale_color_manual(values = c(\"dodgerblue3\",  \"#e54c4cff\", \"#aa2a2aff\",\"#e88989ff\")) +\n",
    "geom_beeswarm(size = 3, cex = 3, \n",
    "              color = \"black\", method = \"center\",\n",
    "             aes(fill = Condition), shape = 21) +\n",
    "   facet_wrap(~annotations_manual, scales = \"free\", ncol = 9) +\n",
    "  ylab(\"Frequency\") +\n",
    "  xlab(\"Condition\") +\n",
    "  theme_classic() +\n",
    "ggtheme() +\n",
    "ggpubr::stat_compare_means(label.x= 1.5, \n",
    "                           size = 7, vjust = -1, label = \"p.format\", comparisons = list(c(2,3)), paired = TRUE)+\n",
    "ggtheme() +\n",
    " scale_y_continuous(limits = c(0,NA), expand = c(0.05,0,0,10)) +\n",
    "  theme(strip.background = element_blank(), panel.grid = element_blank()) + \n",
    "  theme(axis.text = element_text(color = \"black\"),\n",
    "        axis.text.x = element_text(angle = 90),\n",
    "       axis.line = element_line(color = \"black\", size = 0.5),\n",
    "        axis.ticks.x = element_blank()) + NoLegend() + ggtitle(\"Final data all groups\")\n",
    "ncols = length(levels(factor(df4$annotations_manual)))"
   ]
  },
  {
   "cell_type": "code",
   "execution_count": null,
   "id": "004de707",
   "metadata": {},
   "outputs": [],
   "source": [
    "options(repr.plot.width = 9, repr.plot.height = 7)\n",
    "p5"
   ]
  },
  {
   "cell_type": "markdown",
   "id": "ae2bee30",
   "metadata": {},
   "source": [
    "### Unconventional and L2"
   ]
  },
  {
   "cell_type": "code",
   "execution_count": null,
   "id": "1f9b19cf",
   "metadata": {},
   "outputs": [],
   "source": [
    "cd8_l1_full_filt$annotations_manual  %>% table"
   ]
  },
  {
   "cell_type": "code",
   "execution_count": null,
   "id": "1b5c7810",
   "metadata": {},
   "outputs": [],
   "source": [
    "cd8_l1_full_filt$annotations_manual  <- ifelse(cd8_l1_full_filt$annotations_manual == \"Unconventional T cells\",\n",
    "                                              cd8_l1_full_filt$annotations_l2, cd8_l1_full_filt$annotations_manual)"
   ]
  },
  {
   "cell_type": "code",
   "execution_count": null,
   "id": "775761ab",
   "metadata": {},
   "outputs": [],
   "source": [
    "DimPlot(cd8_l1_full_filt, group.by = \"annotations_manual\")"
   ]
  },
  {
   "cell_type": "code",
   "execution_count": null,
   "id": "4afe3cdb",
   "metadata": {},
   "outputs": [],
   "source": [
    "grep(rownames(cd8_l1_full_filt@assays$RNA@counts), pattern = \"TRG\", value = T)"
   ]
  },
  {
   "cell_type": "code",
   "execution_count": null,
   "id": "d3432da1",
   "metadata": {},
   "outputs": [],
   "source": [
    "dir.create(\"../figures/Feature_unconventional/\")\n",
    "FeaturePlot(cd8_l1_full_filt, features = c(\"TRGV9\"), min.cutoff = 0, max.cutoff = 1, \n",
    "            raster = T, raster.dpi = c(900,900), pt.size = 2)"
   ]
  },
  {
   "cell_type": "code",
   "execution_count": null,
   "id": "a8d6ef4d",
   "metadata": {},
   "outputs": [],
   "source": [
    "ggsave(filename = paste0(paste0(\"../figures/Feature_unconventional/Trgv9_cd8.png\")), width = 14, height = 12, units = \"cm\")\n",
    "ggsave(filename = paste0(paste0(\"../figures/Feature_unconventional/Trgv9_cd8.svg\")), width = 14, height = 12, units = \"cm\")"
   ]
  },
  {
   "cell_type": "code",
   "execution_count": null,
   "id": "41ec55e7",
   "metadata": {},
   "outputs": [],
   "source": [
    "dir.create(\"../figures/Feature_unconventional/\")\n",
    "FeaturePlot(cd8_l1_full_filt, features = c(\"TRGC1\"), min.cutoff = 0, max.cutoff = 1, \n",
    "            raster = T, raster.dpi = c(900,900), pt.size = 2)"
   ]
  },
  {
   "cell_type": "code",
   "execution_count": null,
   "id": "c2791718",
   "metadata": {},
   "outputs": [],
   "source": [
    "ggsave(filename = paste0(paste0(\"../figures/Feature_unconventional/Trgc1_cd8.png\")), width = 14, height = 12, units = \"cm\")\n",
    "ggsave(filename = paste0(paste0(\"../figures/Feature_unconventional/Trgc1_cd8.svg\")), width = 14, height = 12, units = \"cm\")"
   ]
  },
  {
   "cell_type": "code",
   "execution_count": null,
   "id": "d0526352",
   "metadata": {},
   "outputs": [],
   "source": [
    "FeaturePlot(cd8_l1_full_filt, features = c(\"TRDC\"), min.cutoff = 0, max.cutoff = 2, \n",
    "            raster = T, raster.dpi = c(900,900), pt.size = 2)\n",
    "ggsave(filename = paste0(paste0(\"../figures/Feature_unconventional/Trdc_cd8.png\")), width = 14, height = 12, units = \"cm\")\n",
    "ggsave(filename = paste0(paste0(\"../figures/Feature_unconventional/Trdc_cd8.svg\")), width = 14, height = 12, units = \"cm\")"
   ]
  },
  {
   "cell_type": "code",
   "execution_count": null,
   "id": "9cc260b3",
   "metadata": {},
   "outputs": [],
   "source": [
    "FeaturePlot(cd8_l1_full_filt, features = c(\"TRDC\"), min.cutoff = 0, max.cutoff = 2)"
   ]
  },
  {
   "cell_type": "code",
   "execution_count": null,
   "id": "4d280be5",
   "metadata": {
    "scrolled": true
   },
   "outputs": [],
   "source": [
    "df4  <- create_df4(cd8_l1_full_filt)"
   ]
  },
  {
   "cell_type": "code",
   "execution_count": null,
   "id": "21ac068d",
   "metadata": {
    "scrolled": true
   },
   "outputs": [],
   "source": [
    "df4"
   ]
  },
  {
   "cell_type": "code",
   "execution_count": null,
   "id": "23cfa36a",
   "metadata": {},
   "outputs": [],
   "source": [
    " p5  <-   df4  %>% \n",
    "filter(Experiment_ID %in% c(\"Exp16\", \"Exp18\", \"Exp19\", \"Exp20\"))  %>% \n",
    "  ggplot(aes(x = Condition, y = freq*100)) + # you can change the x to whatever variable you're interested in\n",
    "   geom_violin(alpha = 0.3, aes(fill = Condition)) +\n",
    "  stat_summary(fun = \"median\",\n",
    "               geom = \"crossbar\", \n",
    "               width = 0.75,\n",
    "               color = \"grey30\") +\n",
    "   scale_fill_manual(values = c(\"#1874cdff\",  \"#ee6363ff\", \"#c41515ff\",\"#eeb4b4ff\")) +\n",
    "scale_color_manual(values = c(\"dodgerblue3\",  \"#e54c4cff\", \"#aa2a2aff\",\"#e88989ff\")) +\n",
    "geom_beeswarm(size = 3, cex = 3, \n",
    "              color = \"black\", method = \"center\",\n",
    "             aes(fill = Condition), shape = 21) +\n",
    "   facet_wrap(~annotations_manual, scales = \"free\", ncol = 9) +\n",
    "  ylab(\"Frequency\") +\n",
    "  xlab(\"Condition\") +\n",
    "  theme_classic() +\n",
    "ggtheme() +\n",
    "ggpubr::stat_compare_means(label.x= 1.5, \n",
    "                           size = 7, vjust = -1, label = \"p.format\", comparisons = list(c(1,2)))+\n",
    "ggtheme() +\n",
    " scale_y_continuous(limits = c(0,NA), expand = c(0.05,0,0,10)) +\n",
    "  theme(strip.background = element_blank(), panel.grid = element_blank()) + \n",
    "  theme(axis.text = element_text(color = \"black\"),\n",
    "        axis.text.x = element_text(angle = 90),\n",
    "       axis.line = element_line(color = \"black\", size = 0.5),\n",
    "        axis.ticks.x = element_blank()) + NoLegend() + ggtitle(\"Final data all groups\")\n",
    "ncols = length(levels(factor(df4$annotations_manual)))"
   ]
  },
  {
   "cell_type": "code",
   "execution_count": null,
   "id": "c1629e2a",
   "metadata": {},
   "outputs": [],
   "source": [
    "options(repr.plot.width = 9, repr.plot.height = 7)\n",
    "p5"
   ]
  },
  {
   "cell_type": "code",
   "execution_count": null,
   "id": "bc74b381",
   "metadata": {},
   "outputs": [],
   "source": [
    "ggsave(\"../figures/subset_characterization/cd8_unc_subsets_in_condition.svg\",\n",
    "       width = 18, height = 12, units = \"cm\")"
   ]
  },
  {
   "cell_type": "code",
   "execution_count": null,
   "id": "a9543009",
   "metadata": {},
   "outputs": [],
   "source": [
    "    p5  <-   df4  %>% \n",
    "filter(Experiment_ID %in% c(\"Exp16\", \"Exp18\", \"Exp19\", \"Exp20\"))  %>% \n",
    "dplyr::filter(Patient_ID != \"116\")  %>% \n",
    "  ggplot(aes(x = Condition, y = freq*100)) + # you can change the x to whatever variable you're interested in\n",
    "   geom_violin(alpha = 0.3, aes(fill = Condition)) +\n",
    "  stat_summary(fun = \"median\",\n",
    "               geom = \"crossbar\", \n",
    "               width = 0.75,\n",
    "               color = \"grey30\") +\n",
    "   scale_fill_manual(values = c(\"#1874cdff\",  \"#ee6363ff\", \"#c41515ff\",\"#eeb4b4ff\")) +\n",
    "scale_color_manual(values = c(\"dodgerblue3\",  \"#e54c4cff\", \"#aa2a2aff\",\"#e88989ff\")) +\n",
    "geom_beeswarm(size = 3, cex = 3, \n",
    "              color = \"black\", method = \"center\",\n",
    "             aes(fill = Condition), shape = 21) +\n",
    "   facet_wrap(~annotations_manual, scales = \"free\", ncol = 9) +\n",
    "  ylab(\"Frequency\") +\n",
    "  xlab(\"Condition\") +\n",
    "  theme_classic() +\n",
    "ggtheme() +\n",
    "ggpubr::stat_compare_means(label.x= 1.5, \n",
    "                           size = 7, vjust = -1, label = \"p.format\", comparisons = list(c(2,3)), paired = TRUE)+\n",
    "ggtheme() +\n",
    " scale_y_continuous(limits = c(0,NA), expand = c(0.05,0,0,10)) +\n",
    "  theme(strip.background = element_blank(), panel.grid = element_blank()) + \n",
    "  theme(axis.text = element_text(color = \"black\"),\n",
    "        axis.text.x = element_text(angle = 90),\n",
    "       axis.line = element_line(color = \"black\", size = 0.5),\n",
    "        axis.ticks.x = element_blank()) + NoLegend() + ggtitle(\"Final data all groups\")\n",
    "ncols = length(levels(factor(df4$annotations_manual)))"
   ]
  },
  {
   "cell_type": "code",
   "execution_count": null,
   "id": "7629f4ca",
   "metadata": {},
   "outputs": [],
   "source": [
    "options(repr.plot.width = 9, repr.plot.height = 7)\n",
    "p5"
   ]
  },
  {
   "cell_type": "code",
   "execution_count": null,
   "id": "6a035764",
   "metadata": {},
   "outputs": [],
   "source": []
  },
  {
   "cell_type": "markdown",
   "id": "78232a94",
   "metadata": {},
   "source": [
    "# Frequencies and counts of all populations"
   ]
  },
  {
   "cell_type": "code",
   "execution_count": null,
   "id": "dea7c562",
   "metadata": {},
   "outputs": [],
   "source": [
    "cd8_l1_full_filt"
   ]
  },
  {
   "cell_type": "code",
   "execution_count": null,
   "id": "48b82771",
   "metadata": {},
   "outputs": [],
   "source": [
    "all_counts  <- read_csv(\"../tables/populations_freq/all_levels_counts_cd8.csv\")"
   ]
  },
  {
   "cell_type": "code",
   "execution_count": null,
   "id": "6a64d198",
   "metadata": {},
   "outputs": [],
   "source": [
    "all_counts$Experiment_ID  %>% table"
   ]
  },
  {
   "cell_type": "code",
   "execution_count": null,
   "id": "2428e709",
   "metadata": {},
   "outputs": [],
   "source": [
    "all_counts"
   ]
  },
  {
   "cell_type": "code",
   "execution_count": null,
   "id": "dec87adb",
   "metadata": {},
   "outputs": [],
   "source": [
    "df3  <- all_counts %>% \n",
    "  group_by(Sample_ID, Level) %>% \n",
    "  mutate(freq_from_total = n / sum(n)) "
   ]
  },
  {
   "cell_type": "code",
   "execution_count": null,
   "id": "a21e59ba",
   "metadata": {},
   "outputs": [],
   "source": [
    "df3"
   ]
  },
  {
   "cell_type": "code",
   "execution_count": null,
   "id": "caf5f00e",
   "metadata": {},
   "outputs": [],
   "source": [
    "## Set parent population"
   ]
  },
  {
   "cell_type": "code",
   "execution_count": null,
   "id": "e9082aed",
   "metadata": {},
   "outputs": [],
   "source": [
    "df3  <- df3  %>% separate(annotations, into = c(\"annot_l1\",\"annot_l2\",NA), sep = \"---\", remove = F)  %>% \n",
    "mutate(Parent_annotation = case_when(\n",
    "Level == \"L1\" ~ \"CD8\",\n",
    "Level == \"L2\" ~ annot_l1,\n",
    "Level == \"L3\" ~ paste0(annot_l1, \"---\" ,annot_l2)\n",
    "))"
   ]
  },
  {
   "cell_type": "code",
   "execution_count": null,
   "id": "a53625cf",
   "metadata": {},
   "outputs": [],
   "source": [
    "df3"
   ]
  },
  {
   "cell_type": "code",
   "execution_count": null,
   "id": "c1c80a91",
   "metadata": {},
   "outputs": [],
   "source": [
    "## For each level and each patient calculate the total count per parent population"
   ]
  },
  {
   "cell_type": "code",
   "execution_count": null,
   "id": "1637cf18",
   "metadata": {},
   "outputs": [],
   "source": [
    "levels_l1  <- all_counts %>% \n",
    "  filter(Level == \"L1\")  %>% \n",
    "pull(annotations)  %>% unique\n",
    "levels_l2  <- all_counts %>% \n",
    "  filter(Level == \"L2\")  %>% \n",
    "pull(annotations)  %>% unique"
   ]
  },
  {
   "cell_type": "code",
   "execution_count": null,
   "id": "c050d686",
   "metadata": {},
   "outputs": [],
   "source": [
    "\n",
    "for(i in 1:length(levels_l1)) {\n",
    "    \n",
    "    df_filt  <- df3  %>% filter(grepl(annotations, pattern = levels_l1[i]) & Level == \"L2\")\n",
    "\n",
    "    df_filt  <- df_filt  %>% \n",
    "            group_by(Sample_ID)  %>% \n",
    "        summarise(total_per_patient = sum(n))\n",
    "\n",
    "    df_filt$Level = \"L2\"\n",
    "\n",
    "    df_filt$Parent_annotation = levels_l1[i]\n",
    "\n",
    "    if(i > 1){\n",
    "       \n",
    "        df_sum_of_parent  <- rbind(df_sum_of_parent, df_filt)\n",
    "        \n",
    "    } else {\n",
    "        df_sum_of_parent  <- df_filt\n",
    "        \n",
    "        \n",
    "    }\n",
    "\n",
    "}\n",
    "\n",
    "for(i in 1:length(levels_l2)) {\n",
    "    \n",
    "    df_filt  <- df3  %>% filter(grepl(annotations, pattern = levels_l2[i]) & Level == \"L3\")\n",
    "\n",
    "    df_filt  <- df_filt  %>% \n",
    "            group_by(Sample_ID)  %>% \n",
    "        summarise(total_per_patient = sum(n))\n",
    "\n",
    "    df_filt$Level = \"L3\"\n",
    "\n",
    "    df_filt$Parent_annotation = levels_l2[i]\n",
    "\n",
    "    df_sum_of_parent  <- rbind(df_sum_of_parent, df_filt)\n",
    "   \n",
    "\n",
    "}"
   ]
  },
  {
   "cell_type": "code",
   "execution_count": null,
   "id": "93739127",
   "metadata": {
    "scrolled": true
   },
   "outputs": [],
   "source": [
    "df_sum_of_parent"
   ]
  },
  {
   "cell_type": "code",
   "execution_count": null,
   "id": "e8331d61",
   "metadata": {},
   "outputs": [],
   "source": [
    "dim(df3)"
   ]
  },
  {
   "cell_type": "code",
   "execution_count": null,
   "id": "8bf0975c",
   "metadata": {},
   "outputs": [],
   "source": [
    "df4  <- left_join(df3, df_sum_of_parent)"
   ]
  },
  {
   "cell_type": "code",
   "execution_count": null,
   "id": "7d73bbff",
   "metadata": {},
   "outputs": [],
   "source": [
    "dim(df4)"
   ]
  },
  {
   "cell_type": "code",
   "execution_count": null,
   "id": "8b37d919",
   "metadata": {},
   "outputs": [],
   "source": [
    "df4"
   ]
  },
  {
   "cell_type": "code",
   "execution_count": null,
   "id": "6ae5c8b0",
   "metadata": {},
   "outputs": [],
   "source": [
    "df4$freq_from_parent  <- df4$n/df4$total_per_patient"
   ]
  },
  {
   "cell_type": "code",
   "execution_count": null,
   "id": "0ffb78c2",
   "metadata": {},
   "outputs": [],
   "source": [
    "df4"
   ]
  },
  {
   "cell_type": "code",
   "execution_count": null,
   "id": "897c8aed",
   "metadata": {},
   "outputs": [],
   "source": [
    "df4$pct_from_total  <- df4$freq_from_total*100\n",
    "df4$pct_from_parent  <- df4$freq_from_parent*100\n"
   ]
  },
  {
   "cell_type": "code",
   "execution_count": null,
   "id": "12e163ec",
   "metadata": {},
   "outputs": [],
   "source": [
    "df4$freq_from_parent <- ifelse(is.na(df4$freq_from_parent) & df4$Level != \"L1\", 0, df4$freq_from_parent)\n",
    "df4$pct_from_parent  <- ifelse(is.na(df4$pct_from_parent) & df4$Level != \"L1\", 0, df4$pct_from_parent)"
   ]
  },
  {
   "cell_type": "markdown",
   "id": "bdab3c75",
   "metadata": {},
   "source": [
    "## Ordered frequency plots"
   ]
  },
  {
   "cell_type": "code",
   "execution_count": null,
   "id": "c203fd6c",
   "metadata": {},
   "outputs": [],
   "source": [
    "options(repr.plot.width = 16, repr.plot.height = 20)\n",
    "\n",
    "df4   %>% \n",
    "ggplot(aes(x = Condition,\n",
    "             y = pct_from_parent)) +\n",
    "   geom_dotplot(binaxis='y', stackdir='center', dotsize = 0) + \n",
    "   geom_boxplot(outlier.shape = NA) +\n",
    "    geom_jitter(binaxis='y', position=position_jitter(width = 0, height = 0), \n",
    "                size = 1, stackdir='center', aes(color = Condition)) + \n",
    "  theme_classic() + xlab(\"\") + ylab(\"Value\") +\n",
    "facet_wrap(~factor(annotations, labels = gsub(levels(factor(annotations)), \n",
    "                                              pattern = \"---\", replacement = \"\\n\")),\n",
    "           scales = \"free\", ncol = 6) +\n",
    " ylim(0,NA) +\n",
    "ggpubr::stat_compare_means(label.x = 1.2, label.y.npc = \"top\", size = 3, vjust = 0.3, label = \"p.format\") + \n",
    "      theme(plot.title = element_text(hjust = 0.5, size = 22),\n",
    "          axis.line = element_line(colour = \"black\"), \n",
    "        axis.ticks = element_line(colour = \"black\")) + ggtitle(\"CD8 Pct from parent\")"
   ]
  },
  {
   "cell_type": "code",
   "execution_count": null,
   "id": "529c60da",
   "metadata": {},
   "outputs": [],
   "source": [
    "options(repr.plot.width = 16, repr.plot.height = 20)\n",
    "\n",
    "df4   %>% \n",
    "ggplot(aes(x = Condition,\n",
    "             y = pct_from_total)) +\n",
    "   geom_dotplot(binaxis='y', stackdir='center', dotsize = 0) + \n",
    "   geom_boxplot(outlier.shape = NA) +\n",
    "    geom_jitter(binaxis='y', position=position_jitter(width = 0, height = 0), \n",
    "                size = 1, stackdir='center', aes(color = Condition)) + \n",
    "  theme_classic() + xlab(\"\") + ylab(\"Value\") +\n",
    "facet_wrap(~factor(annotations, labels = gsub(levels(factor(annotations)), \n",
    "                                              pattern = \"---\", replacement = \"\\n\")),\n",
    "           scales = \"free\", ncol = 6) +\n",
    " ylim(0,NA) +\n",
    "ggpubr::stat_compare_means(label.x = 1.2, label.y.npc = \"top\", size = 3, vjust = 0.3, label = \"p.format\") + \n",
    "      theme(plot.title = element_text(hjust = 0.5, size = 22),\n",
    "          axis.line = element_line(colour = \"black\"), \n",
    "        axis.ticks = element_line(colour = \"black\")) + ggtitle(\"CD8 Pct from total\")"
   ]
  },
  {
   "cell_type": "markdown",
   "id": "64025d68",
   "metadata": {},
   "source": [
    "## Plot of differences in Conditions"
   ]
  },
  {
   "cell_type": "code",
   "execution_count": null,
   "id": "4eb0cdb9",
   "metadata": {
    "scrolled": true
   },
   "outputs": [],
   "source": [
    "annotations_to_test  <- df4$annotations  %>% unique()\n",
    "comparisons_to_test  <- c(\"Ctrl T0\", \"Dia T0\", \"Dia T1\")"
   ]
  },
  {
   "cell_type": "code",
   "execution_count": null,
   "id": "96dd68ca",
   "metadata": {
    "scrolled": true
   },
   "outputs": [],
   "source": [
    "annotations_to_test"
   ]
  },
  {
   "cell_type": "markdown",
   "id": "ba23716a",
   "metadata": {},
   "source": [
    "### Freq from total"
   ]
  },
  {
   "cell_type": "code",
   "execution_count": null,
   "id": "e35f31c1",
   "metadata": {},
   "outputs": [],
   "source": [
    "for(i in 1:length(annotations_to_test)){\n",
    "\n",
    "\n",
    "## Comparison Dia T0 vs Dia T1\n",
    "    j = 2\n",
    "    k = 3\n",
    "df  <- df4  %>% \n",
    "    filter(annotations == annotations_to_test[i] & Condition %in% c(comparisons_to_test[j], comparisons_to_test[k]))  %>% \n",
    "    dplyr::select(Condition, value = pct_from_total)  %>% mutate(value = as.numeric(value))\n",
    "    wcx  <- wilcox.test(df$value ~ df$Condition, conf.int = T)\n",
    "    df2  <- df  %>% group_by(Condition)  %>% summarise(mean = mean(value), sd = sd(value))\n",
    "    df_all  <- data.frame(name = annotations_to_test[i], \n",
    "                          comparison = \"Dia T0 vs Dia T1\",\n",
    "                          estimate = wcx$estimate,\n",
    "                          pval = wcx$p.value, \n",
    "                          mean_dia = df2$mean[1],\n",
    "                         mean_ctrl = df2$mean[2], \n",
    "                         upper = wcx$conf.int[2],\n",
    "                         lower = wcx$conf.int[1]\n",
    "                         )  %>% \n",
    "mutate(ratio = (mean_dia)/(mean_ctrl))\n",
    "    \n",
    "if(i == 1){\n",
    "    df_final  <- df_all\n",
    "} else {\n",
    "    df_final  <- rbind(df_final, df_all)\n",
    "}\n",
    "\n",
    "## Comparison of Dia vs controls in both times\n",
    "\n",
    "    j = 2\n",
    "    k = 1\n",
    "df  <- df4  %>% \n",
    "    filter(annotations == annotations_to_test[i] & Condition %in% c(comparisons_to_test[j], comparisons_to_test[k]))  %>% \n",
    "    dplyr::select(Condition, value = pct_from_total)  %>% mutate(value = as.numeric(value))\n",
    "    wcx  <- wilcox.test(df$value ~ df$Condition, conf.int = T)\n",
    "    df2  <- df  %>% group_by(Condition)  %>% summarise(mean = mean(value), sd = sd(value))\n",
    "    df_all  <- data.frame(name = annotations_to_test[i], \n",
    "                          comparison = paste(comparisons_to_test[j], \"vs\", comparisons_to_test[k]),\n",
    "                          estimate = wcx$estimate,\n",
    "                          pval = wcx$p.value, \n",
    "                          mean_dia = df2$mean[2],\n",
    "                         mean_ctrl = df2$mean[1], \n",
    "                         upper = wcx$conf.int[2],\n",
    "                         lower = wcx$conf.int[1]\n",
    "                         )  %>% mutate(ratio = (mean_dia)/(mean_ctrl))\n",
    "    df_final  <- rbind(df_final, df_all)\n",
    "    \n",
    "\n",
    "    j = 3\n",
    "    k = 1\n",
    "df  <- df4  %>% \n",
    "    filter(annotations == annotations_to_test[i] & Condition %in% c(comparisons_to_test[j], comparisons_to_test[k]))  %>% \n",
    "    dplyr::select(Condition, value = pct_from_total)  %>% mutate(value = as.numeric(value))\n",
    "    wcx  <- wilcox.test(df$value ~ df$Condition, conf.int = T)\n",
    "    df2  <- df  %>% group_by(Condition)  %>% summarise(mean = mean(value), sd = sd(value))\n",
    "    df_all  <- data.frame(name = annotations_to_test[i], \n",
    "                          comparison = paste(comparisons_to_test[j], \"vs\", comparisons_to_test[k]),\n",
    "                         estimate = wcx$estimate,\n",
    "                          pval = wcx$p.value, \n",
    "                          mean_dia = df2$mean[2],\n",
    "                         mean_ctrl = df2$mean[1], \n",
    "                         upper = wcx$conf.int[2],\n",
    "                         lower = wcx$conf.int[1]\n",
    "                         )  %>% mutate(ratio = (mean_dia)/(mean_ctrl))\n",
    "    df_final  <- rbind(df_final, df_all)\n",
    "\n",
    "\n",
    "## Comparison of Dia - partial remission vs. no remission\n",
    "\n",
    "df  <- df4  %>% \n",
    "    filter(annotations == annotations_to_test[i] & Disease == \"Dia\" & !is.na(Condition2))  %>% \n",
    "    dplyr::select(Condition = Condition2, value = pct_from_total)  %>% mutate(value = as.numeric(value))\n",
    "    wcx  <- wilcox.test(df$value ~ df$Condition, conf.int = T)\n",
    "    df2  <- df  %>% group_by(Condition)  %>% summarise(mean = mean(value), sd = sd(value))\n",
    "    df_all  <- data.frame(name = annotations_to_test[i], \n",
    "                          comparison = \"PR_0 vs PR_1\",\n",
    "                          estimate = wcx$estimate,\n",
    "                          pval = wcx$p.value, \n",
    "                          mean_dia = df2$mean[1],\n",
    "                         mean_ctrl = df2$mean[2], \n",
    "                         upper = wcx$conf.int[2],\n",
    "                         lower = wcx$conf.int[1]\n",
    "                         )  %>% mutate(ratio = (mean_dia)/(mean_ctrl))\n",
    "     \n",
    "    df_final  <- rbind(df_final, df_all)\n",
    "    \n",
    "    }"
   ]
  },
  {
   "cell_type": "code",
   "execution_count": null,
   "id": "a153f2d4",
   "metadata": {},
   "outputs": [],
   "source": [
    "df_final  %>% arrange(pval)"
   ]
  },
  {
   "cell_type": "code",
   "execution_count": null,
   "id": "267f5f2a",
   "metadata": {},
   "outputs": [],
   "source": [
    "options(repr.plot.width = 16, repr.plot.height = 20)\n",
    "df_final  %>% \n",
    "mutate(color = ifelse(estimate < 0 & upper < 0, \n",
    "                      \"1\", \n",
    "                      ifelse(estimate > 0 & lower > 0, \"2\", \"3\")))  %>% \n",
    "  ggplot(aes(estimate, name, color = color)) +\n",
    "  geom_vline(xintercept = 0, color = \"gray75\") +\n",
    "  geom_linerange(aes(xmin = lower, xmax = upper),\n",
    "                 size = 1.5,\n",
    "                 alpha = 0.5) +\n",
    "  geom_point(size = 4) +\n",
    "  theme_minimal(base_size = 16) +\n",
    "  scale_color_manual(values = c(\"green4\", \"red3\", \"grey\"), guide = \"none\") +\n",
    "facet_wrap(~comparison, ncol = 4) +\n",
    "  labs(title = \"\", y = NULL,\n",
    "       x = \"Probability \\n(95% Confidence Intervals)\") +\n",
    "  theme(axis.text.y = element_text(hjust = 0, size = 18),\n",
    "        panel.grid = element_blank()) + ggtitle(\"Pct from Total\")"
   ]
  },
  {
   "cell_type": "code",
   "execution_count": null,
   "id": "e73ddfe3",
   "metadata": {},
   "outputs": [],
   "source": [
    "write.csv(df_final, \"../tables/populations_freq/cd8_pct_from_total.csv\")"
   ]
  },
  {
   "cell_type": "markdown",
   "id": "216ac2b5",
   "metadata": {},
   "source": [
    "### Freq from parent"
   ]
  },
  {
   "cell_type": "code",
   "execution_count": null,
   "id": "61c7d1df",
   "metadata": {},
   "outputs": [],
   "source": [
    "annotations_to_test  <- df4$annotations  %>% unique()\n",
    "annotations_to_test  <- annotations_to_test[3:length(annotations_to_test)]"
   ]
  },
  {
   "cell_type": "code",
   "execution_count": null,
   "id": "f47f76d5",
   "metadata": {},
   "outputs": [],
   "source": [
    "annotations_to_test "
   ]
  },
  {
   "cell_type": "code",
   "execution_count": null,
   "id": "c4ae4fee",
   "metadata": {},
   "outputs": [],
   "source": [
    "df_final  <- NULL"
   ]
  },
  {
   "cell_type": "code",
   "execution_count": null,
   "id": "5fe1afff",
   "metadata": {},
   "outputs": [],
   "source": [
    "df5  <- df4  %>% filter(Level != \"L1\")\n",
    "\n",
    "for(i in c(5:length(annotations_to_test))){\n",
    "print(i)\n",
    "\n",
    "## Comparison Dia T0 vs Dia T1\n",
    "    j = 2\n",
    "    k = 3\n",
    "df  <- df5  %>% \n",
    "    filter(annotations == annotations_to_test[i] & Condition %in% c(comparisons_to_test[j], comparisons_to_test[k]))  %>% \n",
    "    dplyr::select(Condition, value = pct_from_parent)  %>% mutate(value = as.numeric(value))\n",
    "    wcx  <- wilcox.test(df$value ~ df$Condition, conf.int = T)\n",
    "    df2  <- df  %>% group_by(Condition)  %>% summarise(mean = mean(value), sd = sd(value))\n",
    "    df_all  <- data.frame(name = annotations_to_test[i], \n",
    "                          comparison = \"Dia T0 vs Dia T1\",\n",
    "                          estimate = wcx$estimate,\n",
    "                          pval = wcx$p.value, \n",
    "                          mean_dia = df2$mean[1],\n",
    "                         mean_ctrl = df2$mean[2], \n",
    "                         upper = wcx$conf.int[2],\n",
    "                         lower = wcx$conf.int[1]\n",
    "                         )  %>% \n",
    "mutate(ratio = (mean_dia)/(mean_ctrl))\n",
    "    \n",
    "if(i == 1){\n",
    "    df_final  <- df_all\n",
    "} else {\n",
    "    df_final  <- rbind(df_final, df_all)\n",
    "}\n",
    "\n",
    "## Comparison of Dia vs controls in both times\n",
    "\n",
    "    j = 2\n",
    "    k = 1\n",
    "df  <- df5  %>% \n",
    "    filter(annotations == annotations_to_test[i] & Condition %in% c(comparisons_to_test[j], comparisons_to_test[k]))  %>% \n",
    "    dplyr::select(Condition, value = pct_from_parent)  %>% mutate(value = as.numeric(value))\n",
    "    wcx  <- wilcox.test(df$value ~ df$Condition, conf.int = T)\n",
    "    df2  <- df  %>% group_by(Condition)  %>% summarise(mean = mean(value), sd = sd(value))\n",
    "    df_all  <- data.frame(name = annotations_to_test[i], \n",
    "                          comparison = paste(comparisons_to_test[j], \"vs\", comparisons_to_test[k]),\n",
    "                          estimate = wcx$estimate,\n",
    "                          pval = wcx$p.value, \n",
    "                          mean_dia = df2$mean[2],\n",
    "                         mean_ctrl = df2$mean[1], \n",
    "                         upper = wcx$conf.int[2],\n",
    "                         lower = wcx$conf.int[1]\n",
    "                         )  %>% mutate(ratio = (mean_dia)/(mean_ctrl))\n",
    "    df_final  <- rbind(df_final, df_all)\n",
    "    \n",
    "\n",
    "    j = 3\n",
    "    k = 1\n",
    "df  <- df5  %>% \n",
    "    filter(annotations == annotations_to_test[i] & Condition %in% c(comparisons_to_test[j], comparisons_to_test[k]))  %>% \n",
    "    dplyr::select(Condition, value = pct_from_parent)  %>% mutate(value = as.numeric(value))\n",
    "    wcx  <- wilcox.test(df$value ~ df$Condition, conf.int = T)\n",
    "    df2  <- df  %>% group_by(Condition)  %>% summarise(mean = mean(value), sd = sd(value))\n",
    "    df_all  <- data.frame(name = annotations_to_test[i], \n",
    "                          comparison = paste(comparisons_to_test[j], \"vs\", comparisons_to_test[k]),\n",
    "                         estimate = wcx$estimate,\n",
    "                          pval = wcx$p.value, \n",
    "                          mean_dia = df2$mean[2],\n",
    "                         mean_ctrl = df2$mean[1], \n",
    "                         upper = wcx$conf.int[2],\n",
    "                         lower = wcx$conf.int[1]\n",
    "                         )  %>% mutate(ratio = (mean_dia)/(mean_ctrl))\n",
    "    df_final  <- rbind(df_final, df_all)\n",
    "\n",
    "\n",
    "## Comparison of Dia - partial remission vs. no remission\n",
    "\n",
    "df  <- df5  %>% \n",
    "    filter(annotations == annotations_to_test[i] & Disease == \"Dia\" & !is.na(Condition2))  %>% \n",
    "    dplyr::select(Condition = Condition2, value = pct_from_parent)  %>% mutate(value = as.numeric(value))\n",
    "    wcx  <- wilcox.test(df$value ~ df$Condition, conf.int = T)\n",
    "    df2  <- df  %>% group_by(Condition)  %>% summarise(mean = mean(value), sd = sd(value))\n",
    "    df_all  <- data.frame(name = annotations_to_test[i], \n",
    "                          comparison = \"PR_0 vs PR_1\",\n",
    "                          estimate = wcx$estimate,\n",
    "                          pval = wcx$p.value, \n",
    "                          mean_dia = df2$mean[1],\n",
    "                         mean_ctrl = df2$mean[2], \n",
    "                         upper = wcx$conf.int[2],\n",
    "                         lower = wcx$conf.int[1]\n",
    "                         )  %>% mutate(ratio = (mean_dia)/(mean_ctrl))\n",
    "     \n",
    "    df_final  <- rbind(df_final, df_all)\n",
    "    \n",
    "    }\n",
    "\n",
    "df_final  %>% arrange(pval)"
   ]
  },
  {
   "cell_type": "code",
   "execution_count": null,
   "id": "8af2f1c1",
   "metadata": {},
   "outputs": [],
   "source": [
    "options(repr.plot.width = 16, repr.plot.height = 20)\n",
    "df_final  %>% \n",
    "mutate(color = ifelse(estimate < 0 & upper < 0, \n",
    "                      \"1\", \n",
    "                      ifelse(estimate > 0 & lower > 0, \"2\", \"3\")))  %>% \n",
    "  ggplot(aes(estimate, name, color = color)) +\n",
    "  geom_vline(xintercept = 0, color = \"gray75\") +\n",
    "  geom_linerange(aes(xmin = lower, xmax = upper),\n",
    "                 size = 1.5,\n",
    "                 alpha = 0.5) +\n",
    "  geom_point(size = 4) +\n",
    "  theme_minimal(base_size = 16) +\n",
    "  scale_color_manual(values = c(\"green4\", \"red3\", \"grey\"), guide = \"none\") +\n",
    "facet_wrap(~comparison, ncol = 4) +\n",
    "  labs(title = \"\", y = NULL,\n",
    "       x = \"Probability \\n(95% Confidence Intervals)\") +\n",
    "  theme(axis.text.y = element_text(hjust = 0, size = 18),\n",
    "        panel.grid = element_blank())\n",
    "\n",
    "write.csv(df_final, \"../tables/populations_freq/cd8_pct_from_parent.csv\")"
   ]
  },
  {
   "cell_type": "markdown",
   "id": "92a32b11",
   "metadata": {},
   "source": [
    "# Populations - correlations with C-peptide"
   ]
  },
  {
   "cell_type": "code",
   "execution_count": null,
   "id": "5bd676d6",
   "metadata": {},
   "outputs": [],
   "source": [
    "fast  <- cd8_l1_full_filt@meta.data  %>% dplyr::select(Sample_ID, fasting_cpept_T1)  %>% unique"
   ]
  },
  {
   "cell_type": "code",
   "execution_count": null,
   "id": "69e45c69",
   "metadata": {},
   "outputs": [],
   "source": [
    "model_table"
   ]
  },
  {
   "cell_type": "code",
   "execution_count": null,
   "id": "aa2f2d97",
   "metadata": {},
   "outputs": [],
   "source": [
    "populations  <- model_table  %>% \n",
    " left_join(fast)"
   ]
  },
  {
   "cell_type": "code",
   "execution_count": null,
   "id": "6f8b9f83",
   "metadata": {
    "scrolled": true
   },
   "outputs": [],
   "source": [
    "populations"
   ]
  },
  {
   "cell_type": "code",
   "execution_count": null,
   "id": "7faa3039",
   "metadata": {},
   "outputs": [],
   "source": [
    "calc_correlation  <- function(i){\n",
    "    df  <- populations  %>% dplyr::select(i,52)  %>% filter(!is.na(52))\n",
    "    colnames(df)  <- c(\"value\",\"fasting_cpept_T1\")\n",
    "    cor  <- cor.test(df$value, df$fasting_cpept_T1)\n",
    "    res_df  <- data.frame(population = colnames(populations)[i], \n",
    "                          cor = cor$estimate, \n",
    "                          pval = cor$p.value, \n",
    "                         padj  = ifelse(cor$p.value*40>1,1,cor$p.value*40))\n",
    "    return(res_df)\n",
    "}"
   ]
  },
  {
   "cell_type": "code",
   "execution_count": null,
   "id": "2673379a",
   "metadata": {},
   "outputs": [],
   "source": [
    "test  <- future_map(11:51, calc_correlation)"
   ]
  },
  {
   "cell_type": "code",
   "execution_count": null,
   "id": "7acbf44b",
   "metadata": {},
   "outputs": [],
   "source": [
    "test2  <- bind_rows(test)"
   ]
  },
  {
   "cell_type": "code",
   "execution_count": null,
   "id": "51410dd8",
   "metadata": {
    "scrolled": true
   },
   "outputs": [],
   "source": [
    "test2  %>% arrange(pval)"
   ]
  },
  {
   "cell_type": "code",
   "execution_count": null,
   "id": "3c8a02e6",
   "metadata": {},
   "outputs": [],
   "source": [
    "options(repr.plot.width = 4, repr.plot.height = 4)\n",
    "for(i in (test2  %>% arrange(pval)  %>% pull(population))[1:10]){\n",
    "    df2 <- populations  %>% dplyr::select(which(colnames(populations)==i),fasting_cpept_T1 = 52) \n",
    "    colnames(df2)  <- c(\"value\", \"fasting_cpept_T1\")\n",
    "    p  <- df2 %>%  ggplot(aes(x=value, y=fasting_cpept_T1)) +\n",
    "  geom_point(shape = 16, size = 2) +\n",
    " geom_smooth(method=lm) + ggtitle(i) \n",
    "    print(p)\n",
    "    }"
   ]
  },
  {
   "cell_type": "code",
   "execution_count": null,
   "id": "695969cf",
   "metadata": {},
   "outputs": [],
   "source": [
    "cd8_l1_full_filt@meta.data  %>% group_by(Patient_ID, Experiment_ID, Disease)  %>% tally  %>% dplyr::select(-n)  %>% \n",
    "ungroup  %>% group_by(Experiment_ID, Disease)  %>% tally  %>% arrange(Experiment_ID)"
   ]
  },
  {
   "cell_type": "markdown",
   "id": "18baf548",
   "metadata": {},
   "source": [
    "# Populations - correlations with age"
   ]
  },
  {
   "cell_type": "code",
   "execution_count": null,
   "id": "4c078135",
   "metadata": {},
   "outputs": [],
   "source": [
    "calc_correlation  <- function(i){\n",
    "    df  <- populations  %>% dplyr::select(i,6)  %>% filter(!is.na(6))\n",
    "    colnames(df)  <- c(\"value\",\"age\")\n",
    "    cor  <- cor.test(df$value, df$age)\n",
    "    res_df  <- data.frame(population = colnames(populations)[i], \n",
    "                          cor = cor$estimate, \n",
    "                          pval = cor$p.value, \n",
    "                         padj  = ifelse(cor$p.value*40>1,1,cor$p.value*40))\n",
    "    return(res_df)\n",
    "}"
   ]
  },
  {
   "cell_type": "code",
   "execution_count": null,
   "id": "0158ba57",
   "metadata": {},
   "outputs": [],
   "source": [
    "test  <- future_map(11:51, calc_correlation)"
   ]
  },
  {
   "cell_type": "code",
   "execution_count": null,
   "id": "3de32acc",
   "metadata": {},
   "outputs": [],
   "source": [
    "test2  <- bind_rows(test)"
   ]
  },
  {
   "cell_type": "code",
   "execution_count": null,
   "id": "b3a8a036",
   "metadata": {
    "scrolled": true
   },
   "outputs": [],
   "source": [
    "test2  %>% arrange(pval)"
   ]
  },
  {
   "cell_type": "code",
   "execution_count": null,
   "id": "ad16c44e",
   "metadata": {},
   "outputs": [],
   "source": [
    "options(repr.plot.width = 4, repr.plot.height = 4)\n",
    "for(i in (test2  %>% arrange(pval)  %>% pull(population))[1:10]){\n",
    "    df2 <- populations  %>% dplyr::select(which(colnames(populations)==i),age = 6) \n",
    "    colnames(df2)  <- c(\"value\", \"age\")\n",
    "    p  <- df2 %>%  ggplot(aes(x=value, y=age)) +\n",
    "  geom_point(shape = 16, size = 2) +\n",
    " geom_smooth(method=lm) + ggtitle(i) \n",
    "    print(p)\n",
    "    }"
   ]
  },
  {
   "cell_type": "code",
   "execution_count": null,
   "id": "512749b3",
   "metadata": {},
   "outputs": [],
   "source": []
  },
  {
   "cell_type": "code",
   "execution_count": null,
   "id": "611ab7c7",
   "metadata": {},
   "outputs": [],
   "source": []
  },
  {
   "cell_type": "markdown",
   "id": "fc70accd",
   "metadata": {},
   "source": [
    "# DE genes in CD8 populations"
   ]
  },
  {
   "cell_type": "code",
   "execution_count": null,
   "id": "84c552c4",
   "metadata": {},
   "outputs": [],
   "source": [
    "cd8_l3_list  <- list(cd8_l3_tem, cd8_l3_naive, cd8_l3_tcm, cd8_l3_temra, cd8_l3_prolif, \n",
    "                    cd8_l2_nk, cd8_l2_unc, cd8_l2_subcluster, cd8_l1_full_filt)\n",
    "\n",
    "names(cd8_l3_list) <- c(\"cd8_l3_tem\", \"cd8_l3_naive\", \"cd8_l3_tcm\", \"cd8_l3_temra\", \"cd8_l3_prolif\",\n",
    "                       \"cd8_l2_nk\", \"cd8_l2_unc\", \"cd8_l2_subcluster\", \"cd8_l1_full_filt\")"
   ]
  },
  {
   "cell_type": "code",
   "execution_count": null,
   "id": "8a2c71c3",
   "metadata": {},
   "outputs": [],
   "source": [
    "md_for_remission  <- cd8_l1_full_filt@meta.data  %>% \n",
    "dplyr::filter(Condition %in% c(\"Dia T0\"))  %>% \n",
    "group_by(Patient_ID, part_remission_y_n)  %>% \n",
    "tally %>% mutate(Condition2 = paste0(\"PR_\",part_remission_y_n))  %>% \n",
    "dplyr::select(-n, -part_remission_y_n)"
   ]
  },
  {
   "cell_type": "code",
   "execution_count": null,
   "id": "2c8cf5e2",
   "metadata": {},
   "outputs": [],
   "source": [
    "cd8_l1_full_filt@meta.data  %>% group_by(Patient_ID, Disease, Sample_ID, Experiment_ID)  %>% tally  %>% \n",
    "ungroup  %>% \n",
    "dplyr::select(-n)  %>% \n",
    "group_by(Experiment_ID, Disease)  %>%\n",
    "tally()"
   ]
  },
  {
   "cell_type": "code",
   "execution_count": null,
   "id": "5cec1375",
   "metadata": {
    "scrolled": true
   },
   "outputs": [],
   "source": [
    "md_for_remission"
   ]
  },
  {
   "cell_type": "code",
   "execution_count": null,
   "id": "630d2d01",
   "metadata": {
    "scrolled": true
   },
   "outputs": [],
   "source": [
    "for( i in 1:length(cd8_l3_list)) {\n",
    "    \n",
    "    cd8_l3_list[[i]]$Condition2  <- NULL\n",
    "    cd8_l3_list[[i]]@meta.data  <- cd8_l3_list[[i]]@meta.data  %>% \n",
    "    left_join(md_for_remission)  %>% mutate(Condition2 = paste(Condition2, Time))  %>% \n",
    "    mutate(Condition2 = ifelse(grepl(Condition2, pattern = \"NA\"), NA_character_,Condition2))\n",
    "    \n",
    "    print(cd8_l3_list[[i]]$Condition2  %>% table)\n",
    "    rownames(cd8_l3_list[[i]]@meta.data)  <- colnames(cd8_l3_list[[i]])\n",
    "}"
   ]
  },
  {
   "cell_type": "markdown",
   "id": "66f662b0",
   "metadata": {},
   "source": [
    "### Remission and non-remission in T0 vs T1 and Ketoacidosis"
   ]
  },
  {
   "cell_type": "code",
   "execution_count": null,
   "id": "4a7b9235",
   "metadata": {},
   "outputs": [],
   "source": [
    "md_for_ketoacidosis  <- cd8_l1_full_filt@meta.data  %>% \n",
    "dplyr::filter(Condition %in% c(\"Dia T0\"))  %>% \n",
    "group_by(Patient_ID, ph_man)  %>% \n",
    "tally %>% mutate(Ketoacidosis = ifelse(ph_man<7.3,\"Keto_1\",\"Keto_0\"))  %>% \n",
    "dplyr::select(-ph_man, -n)"
   ]
  },
  {
   "cell_type": "code",
   "execution_count": null,
   "id": "c1517814",
   "metadata": {
    "scrolled": true
   },
   "outputs": [],
   "source": [
    "md_for_ketoacidosis"
   ]
  },
  {
   "cell_type": "code",
   "execution_count": null,
   "id": "4a07dc00",
   "metadata": {
    "scrolled": true
   },
   "outputs": [],
   "source": [
    "for( i in 1:length(cd8_l3_list)) {\n",
    "    \n",
    "    #cd8_l3_list[[i]]$Ketoacidosis  <- NULL\n",
    "    cd8_l3_list[[i]]@meta.data  <- cd8_l3_list[[i]]@meta.data  %>% \n",
    "    left_join(md_for_ketoacidosis)   %>% mutate(Keto_Time = paste(Ketoacidosis, Time))  %>% \n",
    "    mutate(Keto_Time = ifelse(grepl(Keto_Time, pattern = \"NA\"), NA_character_,Keto_Time))\n",
    "    \n",
    "    print(cd8_l3_list[[i]]$Ketoacidosis  %>% table)\n",
    "    rownames(cd8_l3_list[[i]]@meta.data)  <- colnames(cd8_l3_list[[i]])\n",
    "}"
   ]
  },
  {
   "cell_type": "code",
   "execution_count": null,
   "id": "6167184d",
   "metadata": {},
   "outputs": [],
   "source": [
    "cd8_l3_list[[i]]$Keto_Time  %>% table"
   ]
  },
  {
   "cell_type": "markdown",
   "id": "292a9700",
   "metadata": {},
   "source": [
    "### Ketoacidosis in T0"
   ]
  },
  {
   "cell_type": "code",
   "execution_count": null,
   "id": "46e714ba",
   "metadata": {},
   "outputs": [],
   "source": [
    "Conditions  <- list(c(\"Dia T0\", \"Ctrl T0\"),\n",
    "                    c(\"Dia T0\", \"Dia T1\"),\n",
    "                    c(\"Dia T1\", \"Ctrl T0\"),\n",
    "                    c(\"PR_0 T0\", \"PR_1 T0\"),\n",
    "                    c(\"PR_0 T1\", \"PR_1 T1\"),\n",
    "                    c(\"PR_0 T0\", \"PR_0 T1\"),\n",
    "                    c(\"PR_1 T0\", \"PR_1 T1\"),\n",
    "                    c(\"Keto_1 T0\", \"Keto_0 T0\"))"
   ]
  },
  {
   "cell_type": "code",
   "execution_count": null,
   "id": "22500213",
   "metadata": {},
   "outputs": [],
   "source": [
    "Conditions  %>% length"
   ]
  },
  {
   "cell_type": "code",
   "execution_count": null,
   "id": "30e5841f",
   "metadata": {},
   "outputs": [],
   "source": [
    "dataset_list  <- cd8_l3_list"
   ]
  },
  {
   "cell_type": "code",
   "execution_count": null,
   "id": "84a567a3",
   "metadata": {},
   "outputs": [],
   "source": [
    "# Function to calculate markers for a subsetted da for given conditions\n",
    "\n",
    "Create_Markers_DataFrame  <- function(j){\n",
    "    print(\"#######################\")\n",
    "    print(i)\n",
    "    print(j)\n",
    "    Condition_1 = Conditions[[j]][1]\n",
    "    Condition_2 = Conditions[[j]][2]\n",
    "    \n",
    "    seurat_obj  <- dataset_list[[i]]\n",
    "        \n",
    "    if(grepl(Condition_1, pattern = \"PR\")){\n",
    "      seurat_obj$Condition  <- seurat_obj$Condition2\n",
    "    }\n",
    "    \n",
    "    if(grepl(Condition_1, pattern = \"Keto\")){\n",
    "      seurat_obj$Condition  <- seurat_obj$Keto_Time\n",
    "    }\n",
    "    \n",
    "    ## Create subsetted df\n",
    "        ds  <- subset(seurat_obj, Condition %in% c(Condition_1, Condition_2) & \n",
    "                  Experiment_ID %in% c(\"Exp16\", \"Exp18\", \"Exp19\", \"Exp20\"))\n",
    "        print(ds$Condition  %>% table)\n",
    "    \n",
    "    ## scRNAseq - RNA\n",
    "    DefaultAssay(ds)  <- \"RNA\"\n",
    "        Idents(ds)  <- ds$Condition\n",
    "        markers_sc  <- FindAllMarkers(ds, only.pos = T)\n",
    "        markers_sc$source  <- \"scRNAseq_RNA\"\n",
    "        rownames(markers_sc)  <- NULL\n",
    "    print(paste(\"DE RNA: \", nrow(markers_sc)))\n",
    "    \n",
    "    ## scRNAseq - collecTRI\n",
    "    DefaultAssay(ds)  <- \"CollecTRI\"\n",
    "        Idents(ds)  <- ds$Condition\n",
    "        markers_sc2  <- FindAllMarkers(ds, only.pos = T)\n",
    "        markers_sc2$source  <- \"scRNAseq_collecTRI\"\n",
    "        rownames(markers_sc2)  <- NULL\n",
    "    print(paste(\"DE CollecTRI: \", nrow(markers_sc2)))\n",
    "    \n",
    "    if(nrow(markers_sc2)>0 & nrow(markers_sc)>0){ \n",
    "            markers2 <- rbind(markers_sc, markers_sc2) } else {\n",
    "        if(nrow(markers_sc)>0){\n",
    "            markers2  <- markers_sc\n",
    "            } else {\n",
    "            if(nrow(markers_sc2)>0){\n",
    "                markers2  <- markers_sc2\n",
    "            \n",
    "            } else {\n",
    "                markers2  <- NULL\n",
    "                }\n",
    "        }\n",
    "        }\n",
    "    \n",
    "        markers2$test_type  <- paste(Conditions[[j]][1], \"vs\", Conditions[[j]][2])\n",
    "        print(\"..\")\n",
    "        markers2$dataset  <- names(dataset_list)[i]\n",
    "        return(markers2)\n",
    "}\n"
   ]
  },
  {
   "cell_type": "code",
   "execution_count": null,
   "id": "9e3a6f56",
   "metadata": {
    "scrolled": true
   },
   "outputs": [],
   "source": [
    "for(i in 1:length(dataset_list)){\n",
    "\n",
    "print(\"######################################################################\")\n",
    "if(i > 1){\n",
    "suppressWarnings(rm(markers_sc, markers, markers1, markers_sc2, markers_sc_predia, markers_bulk, markers_bulk2))    \n",
    "}\n",
    "    \n",
    "mrk  <- map(.x = 1:8, Create_Markers_DataFrame)\n",
    "\n",
    "mrk  <- bind_rows(mrk) \n",
    "    \n",
    "if(i>1){ \n",
    "    all_markers  <- rbind(all_markers, mrk)\n",
    "} else {\n",
    "    all_markers  <- mrk\n",
    "}\n",
    "    \n",
    "    \n",
    "}"
   ]
  },
  {
   "cell_type": "markdown",
   "id": "c97ad171",
   "metadata": {},
   "source": [
    "## DE genes with correction for sex-related genes"
   ]
  },
  {
   "cell_type": "code",
   "execution_count": null,
   "id": "66ce77b7",
   "metadata": {},
   "outputs": [],
   "source": [
    "# Function to calculate markers for a subsetted da for given conditions\n",
    "\n",
    "Create_Sex_Markers_DataFrame  <- function(i){\n",
    "    \n",
    "    ds  <- dataset_list[[i]]\n",
    "   \n",
    "    ## scRNAseq - RNA\n",
    "    DefaultAssay(ds)  <- \"RNA\"\n",
    "        Idents(ds)  <- ds$Sex\n",
    "        markers_sc  <- FindAllMarkers(ds, only.pos = T)\n",
    "        markers_sc$source  <- \"Sex_RNA\"\n",
    "        rownames(markers_sc)  <- NULL\n",
    "    print(paste(\"DE RNA: \", nrow(markers_sc)))\n",
    "    \n",
    "    ## scRNAseq - collecTRI\n",
    "    DefaultAssay(ds)  <- \"CollecTRI\"\n",
    "        Idents(ds)  <- ds$Sex\n",
    "        markers_sc2  <- FindAllMarkers(ds, only.pos = T)\n",
    "        markers_sc2$source  <- \"Sex_collecTRI\"\n",
    "        rownames(markers_sc2)  <- NULL\n",
    "    print(paste(\"DE CollecTRI: \", nrow(markers_sc2)))\n",
    "    \n",
    "    if(nrow(markers_sc2)>0 & nrow(markers_sc)>0){ \n",
    "            markers2 <- rbind(markers_sc, markers_sc2) } else {\n",
    "        if(nrow(markers_sc)>0){\n",
    "            markers2  <- markers_sc\n",
    "            } else {\n",
    "            if(nrow(markers_sc2)>0){\n",
    "                markers2  <- markers_sc2\n",
    "            \n",
    "            } else {\n",
    "                markers2  <- NULL\n",
    "                }\n",
    "        }\n",
    "        }\n",
    "    \n",
    "        markers2$test_type  <- \"Sex\"\n",
    "        print(\"..\")\n",
    "        markers2$dataset  <- names(dataset_list)[i]\n",
    "        return(markers2)\n",
    "}\n"
   ]
  },
  {
   "cell_type": "code",
   "execution_count": null,
   "id": "110938df",
   "metadata": {
    "scrolled": true
   },
   "outputs": [],
   "source": [
    "\n",
    "    \n",
    "mrk  <- map(.x = 1:length(dataset_list), Create_Sex_Markers_DataFrame)\n",
    "\n",
    "mrk  <- bind_rows(mrk) \n"
   ]
  },
  {
   "cell_type": "code",
   "execution_count": null,
   "id": "12eadd3a",
   "metadata": {
    "scrolled": true
   },
   "outputs": [],
   "source": [
    "mrk"
   ]
  },
  {
   "cell_type": "code",
   "execution_count": null,
   "id": "f7d7ad6d",
   "metadata": {},
   "outputs": [],
   "source": [
    "dir.create(\"../tables/de_genes\")\n",
    "\n",
    "write.csv(all_markers, \"../tables/de_genes/240319_markers_full_cd8_with_collecTRI.csv\", row.names = F)"
   ]
  },
  {
   "cell_type": "code",
   "execution_count": null,
   "id": "006e347d",
   "metadata": {},
   "outputs": [],
   "source": [
    "write.csv(mrk, \"../tables/de_genes/240319_markers_full_cd8_sex.csv\", row.names = F)"
   ]
  },
  {
   "cell_type": "code",
   "execution_count": null,
   "id": "971b6024",
   "metadata": {},
   "outputs": [],
   "source": [
    "# Create filtered marker list without Sex genes\n",
    "\n",
    "for(i in 1:length(dataset_list)){\n",
    "\n",
    "filt_df  <- all_markers  %>% dplyr::filter(dataset == names(dataset_list)[i])\n",
    "genes_to_remove  <- mrk  %>% dplyr::filter(dataset == names(dataset_list)[i])  %>% pull(gene) \n",
    "\n",
    "markers_without_sex  <- dplyr::filter(filt_df, !(gene %in% genes_to_remove))\n",
    "     \n",
    "if(i>1){ \n",
    "    all_markers_without_sex  <- rbind(all_markers_without_sex, markers_without_sex)\n",
    "} else {\n",
    "    all_markers_without_sex  <- markers_without_sex\n",
    "}\n",
    "    \n",
    "    \n",
    "}"
   ]
  },
  {
   "cell_type": "code",
   "execution_count": null,
   "id": "3d478600",
   "metadata": {},
   "outputs": [],
   "source": [
    "nrow(all_markers)"
   ]
  },
  {
   "cell_type": "code",
   "execution_count": null,
   "id": "1b0b13cc",
   "metadata": {},
   "outputs": [],
   "source": [
    "nrow(all_markers_without_sex)"
   ]
  },
  {
   "cell_type": "code",
   "execution_count": null,
   "id": "b1c243de",
   "metadata": {},
   "outputs": [],
   "source": [
    "write.csv(all_markers_without_sex, \"../tables/de_genes/240319_cd8_all_markers_without_sex.csv\", row.names = F)"
   ]
  },
  {
   "cell_type": "code",
   "execution_count": null,
   "id": "0281f088",
   "metadata": {
    "scrolled": true
   },
   "outputs": [],
   "source": [
    "all_markers_without_sex$dataset %>% table"
   ]
  },
  {
   "cell_type": "code",
   "execution_count": null,
   "id": "01cac6ad",
   "metadata": {},
   "outputs": [],
   "source": []
  },
  {
   "cell_type": "markdown",
   "id": "a3a87bda",
   "metadata": {},
   "source": [
    "# DE genes heatmap avg."
   ]
  },
  {
   "cell_type": "code",
   "execution_count": null,
   "id": "d9552d68",
   "metadata": {},
   "outputs": [],
   "source": [
    "cd8_l1_full_filt  <- readRDS(\"../data/processed/L1/cd8_l1_full_filt.rds\")"
   ]
  },
  {
   "cell_type": "code",
   "execution_count": null,
   "id": "eed8c2b7",
   "metadata": {},
   "outputs": [],
   "source": [
    "avgexp = AverageExpression(subset(cd8_l1_full_filt, Experiment_ID %in% c(\"Exp16\",\"Exp18\",\"Exp19\",\"Exp20\")), \n",
    "                             return.seurat = F, group.by = c(\"Patient_Time\",\"Disease\",\"age_group\"), \n",
    "                          assay = \"RNA\")"
   ]
  },
  {
   "cell_type": "code",
   "execution_count": null,
   "id": "c9fd7931",
   "metadata": {
    "scrolled": true
   },
   "outputs": [],
   "source": [
    "avgexp$RNA[which(rownames(avgexp$RNA)==\"GNLY\"),]  %>% as.data.frame()"
   ]
  },
  {
   "cell_type": "markdown",
   "id": "ceef9110",
   "metadata": {},
   "source": [
    "## Heatmap"
   ]
  },
  {
   "cell_type": "markdown",
   "id": "37ddd12a",
   "metadata": {},
   "source": [
    "### All cells"
   ]
  },
  {
   "cell_type": "code",
   "execution_count": null,
   "id": "cfe7695a",
   "metadata": {},
   "outputs": [],
   "source": [
    "cd8_l1_full_filt$Patient_Time_Disease  <- paste(cd8_l1_full_filt$Patient_ID, cd8_l1_full_filt$Time, \n",
    "                                               cd8_l1_full_filt$Disease)"
   ]
  },
  {
   "cell_type": "code",
   "execution_count": null,
   "id": "9a9a977b",
   "metadata": {},
   "outputs": [],
   "source": [
    "cd8_l1_full_filt$Patient_Time_Disease   %>% table"
   ]
  },
  {
   "cell_type": "code",
   "execution_count": null,
   "id": "c188da67",
   "metadata": {},
   "outputs": [],
   "source": [
    "cd8_l1_full_filt$Disease_time  <- paste(\n",
    "                                               cd8_l1_full_filt$Disease,\n",
    "cd8_l1_full_filt$Time)"
   ]
  },
  {
   "cell_type": "code",
   "execution_count": null,
   "id": "95d1bc5b",
   "metadata": {},
   "outputs": [],
   "source": [
    "avgexp = AverageExpression(subset(cd8_l1_full_filt, Experiment_ID %in% c(\"Exp16\",\"Exp18\",\"Exp19\",\"Exp20\")), \n",
    "                             return.seurat = F, group.by = \"Disease_time\", \n",
    "                          assay = \"RNA\")"
   ]
  },
  {
   "cell_type": "code",
   "execution_count": null,
   "id": "22d1b4e0",
   "metadata": {},
   "outputs": [],
   "source": [
    "genes  <- c(\"PCBP2\",\"PCBP1\",\n",
    "            \"CX3CR1\",\"TNF\",\"GZMB\",\"GZMA\",\"PRF1\",\"NKG7\",\"GNLY\",\"CCL5\",\"CST7\",\n",
    "            \"BTG1\",\"SELL\",\"IL7R\",\"CCR7\",\"BTG2\",\"SLAMF6\",\"LEF1\",\n",
    "             \"TNFAIP3\",\"TSC22D3\",\"NKFBIA\",\"DUSP1\")"
   ]
  },
  {
   "cell_type": "code",
   "execution_count": null,
   "id": "10d5a52b",
   "metadata": {},
   "outputs": [],
   "source": [
    "avgexp  <- avgexp$RNA[which(rownames(avgexp$RNA) %in% genes),]"
   ]
  },
  {
   "cell_type": "code",
   "execution_count": null,
   "id": "f0d03a1e",
   "metadata": {
    "scrolled": false
   },
   "outputs": [],
   "source": [
    "library(pheatmap)\n",
    "\n",
    "options(repr.plot.width = 4, repr.plot.height = 9)\n",
    "pheatmap(avgexp, main = \"\", scale = \"row\", cluster_cols = F, cluster_rows = T,\n",
    "        color=colorRampPalette(c(\"dodgerblue\", \"grey95\", \"indianred2\"))(50), \n",
    "         border_color = \"white\", width = 9, height = 3.3,\n",
    "                  fontsize = 9)"
   ]
  },
  {
   "cell_type": "code",
   "execution_count": null,
   "id": "b1cee297",
   "metadata": {},
   "outputs": [],
   "source": [
    "dir.create(\"../tables/avg_heatmap/\")\n",
    "write.csv(avgexp, \"../tables/avg_heatmap/cd8_avg.csv\")"
   ]
  },
  {
   "cell_type": "markdown",
   "id": "42b89e96",
   "metadata": {},
   "source": [
    "### Average of patient"
   ]
  },
  {
   "cell_type": "code",
   "execution_count": null,
   "id": "235bf86b",
   "metadata": {},
   "outputs": [],
   "source": [
    "cd8_l1_full_filt$Patient_Time_Disease  <- paste(cd8_l1_full_filt$Patient_ID, cd8_l1_full_filt$Time, \n",
    "                                               cd8_l1_full_filt$Disease)"
   ]
  },
  {
   "cell_type": "code",
   "execution_count": null,
   "id": "df16c010",
   "metadata": {},
   "outputs": [],
   "source": [
    "avgexp = AverageExpression(subset(cd8_l1_full_filt, Experiment_ID %in% c(\"Exp16\",\"Exp18\",\"Exp19\",\"Exp20\")), \n",
    "                             return.seurat = T, group.by = \"Patient_Time_Disease\", \n",
    "                          assay = \"RNA\")"
   ]
  },
  {
   "cell_type": "code",
   "execution_count": null,
   "id": "82ceac2f",
   "metadata": {},
   "outputs": [],
   "source": [
    "avgexp$Patient_Time_Disease  <- colnames(avgexp)\n",
    "avgexp@meta.data  <- avgexp@meta.data  %>% \n",
    "separate(Patient_Time_Disease, into = c(\"Patient\", \"Time\", \"Disease\"), sep = \" \", remove = F)"
   ]
  },
  {
   "cell_type": "code",
   "execution_count": null,
   "id": "f04b204a",
   "metadata": {},
   "outputs": [],
   "source": [
    "avgexp$Disease_Time  <- paste(avgexp$Disease, avgexp$Time)"
   ]
  },
  {
   "cell_type": "code",
   "execution_count": null,
   "id": "c7308334",
   "metadata": {},
   "outputs": [],
   "source": [
    "avgexp2 = AverageExpression(avgexp, \n",
    "                             return.seurat = F, group.by = \"Disease_Time\")"
   ]
  },
  {
   "cell_type": "code",
   "execution_count": null,
   "id": "6039f76d",
   "metadata": {},
   "outputs": [],
   "source": []
  },
  {
   "cell_type": "code",
   "execution_count": null,
   "id": "5b6176d4",
   "metadata": {},
   "outputs": [],
   "source": [
    "genes4  <- c(\"LEF1\",\"BACH2\",\"NELL2\",\"TCF7\",\"CXCR4\",\"ZFP36L2\",\"IL7R\",\"KLF2\",\"CCR7\",\"SELL\",\n",
    "            \n",
    "             \n",
    "            rev(c(\"TNFRSF9\",\"PRF1\",\"NKG7\",\"GZMB\",\"CST7\",\"GNLY\",\"GZMA\",\"CX3CR1\",\"CCL5\",\"TNF\",\"TBX21\",\"IFNG\")),\n",
    "             \"NFATC2\",\"NFATC3\",\"ORAI1\", \"ITPR3\",\n",
    "             \"TNFAIP3\",\"DUSP1\",\"TSC22D3\",\"NFKBIA\",\"DDIT4\",\"INPP4B\",\"PTPN6\",\"RCAN3\",\n",
    "             rev(c(\"OASL\",\"IFI44L\",\"ISG15\",\"MX1\",\"STAT1\",\"IFI6\",\"IFIT3\")),\n",
    "                  \"BTN3A2\",\"BTN3A3\",\"HLA-C\",\"HLA-DQA1\",\"HLA-DQB1\")"
   ]
  },
  {
   "cell_type": "code",
   "execution_count": null,
   "id": "92f4b576",
   "metadata": {
    "scrolled": true
   },
   "outputs": [],
   "source": [
    "as.data.frame(genes4)"
   ]
  },
  {
   "cell_type": "code",
   "execution_count": null,
   "id": "a6010a5d",
   "metadata": {},
   "outputs": [],
   "source": [
    "avgexp3  <- avgexp2$RNA[which(rownames(avgexp2$RNA) %in% genes4),]"
   ]
  },
  {
   "cell_type": "code",
   "execution_count": null,
   "id": "1b976894",
   "metadata": {},
   "outputs": [],
   "source": [
    "options(repr.plot.width = 4, repr.plot.height = 9)\n",
    "pheatmap(avgexp3[match(genes4, rownames(avgexp3)),], \n",
    "         main = \"\", scale = \"row\", cluster_cols = F, cluster_rows = F,\n",
    "        color=colorRampPalette(c(\"dodgerblue\", \"grey95\", \"indianred2\"))(50), \n",
    "         border_color = \"white\", width = 9, height = 3.3,\n",
    "                  fontsize = 9)"
   ]
  },
  {
   "cell_type": "code",
   "execution_count": null,
   "id": "175aebde",
   "metadata": {},
   "outputs": [],
   "source": [
    "options(repr.plot.width = 4, repr.plot.height = 9)\n",
    "pheatmap(avgexp3[match(genes4, rownames(avgexp3)),], \n",
    "         main = \"\", scale = \"row\", cluster_cols = F, cluster_rows = F,\n",
    "        color=colorRampPalette(c(\"dodgerblue\", \"grey95\", \"indianred2\"))(50), \n",
    "         border_color = \"white\", width = 3.3, height = 9,\n",
    "                  fontsize = 9, filename = \"../figures/heatmaps/fig2_cd8.pdf\")"
   ]
  }
 ],
 "metadata": {
  "kernelspec": {
   "display_name": "R",
   "language": "R",
   "name": "ir"
  },
  "language_info": {
   "codemirror_mode": "r",
   "file_extension": ".r",
   "mimetype": "text/x-r-source",
   "name": "R",
   "pygments_lexer": "r",
   "version": "4.5.1"
  },
  "toc": {
   "base_numbering": 1,
   "nav_menu": {},
   "number_sections": true,
   "sideBar": true,
   "skip_h1_title": false,
   "title_cell": "Table of Contents",
   "title_sidebar": "Contents",
   "toc_cell": false,
   "toc_position": {
    "height": "calc(100% - 180px)",
    "left": "10px",
    "top": "150px",
    "width": "300.767px"
   },
   "toc_section_display": true,
   "toc_window_display": true
  }
 },
 "nbformat": 4,
 "nbformat_minor": 5
}
