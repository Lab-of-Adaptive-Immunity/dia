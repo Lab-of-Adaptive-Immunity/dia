{
 "cells": [
  {
   "cell_type": "markdown",
   "id": "8d90b0e4",
   "metadata": {},
   "source": [
    "# Part 21: Validation of findings in other T1D datasets\n"
   ]
  },
  {
   "cell_type": "markdown",
   "id": "53af84d1",
   "metadata": {},
   "source": [
    "In this notebook, we will describe how we obtained and processed transcriptomics data from publicly available sources. "
   ]
  },
  {
   "cell_type": "markdown",
   "id": "9500645a",
   "metadata": {},
   "source": [
    "Please note that we deposited on Zenodo:\n",
    "* a full matrix of counts from each of those datasets\n",
    "* a merged count matrix from all samples across datasets\n",
    "* rds files where applicable \n",
    "Downloading those instead of running the code will save you time and effort. PLease note that other datasets are described in previous parts 16-20.  "
   ]
  },
  {
   "cell_type": "code",
   "execution_count": null,
   "id": "843baf63",
   "metadata": {},
   "outputs": [],
   "source": [
    "ggtheme <- function() {\n",
    "  theme(\n",
    "    axis.text = element_text(size = 20),\n",
    "    axis.title = element_text(size = 20),\n",
    "    text = element_text(size = 20, colour = \"black\"),\n",
    "    legend.text = element_text(size = 20),\n",
    "    legend.key.size =  unit(10, units = \"points\")\n",
    "    \n",
    "  )\n",
    "}\n"
   ]
  },
  {
   "cell_type": "code",
   "execution_count": null,
   "id": "69abbfe9",
   "metadata": {
    "scrolled": true
   },
   "outputs": [],
   "source": [
    "library(GEOquery)\n",
    "source(\"diabetes_analysis_v07.R\")"
   ]
  },
  {
   "cell_type": "markdown",
   "id": "60d17d28",
   "metadata": {},
   "source": [
    "# GSE237218 Newman"
   ]
  },
  {
   "cell_type": "markdown",
   "id": "b618c979",
   "metadata": {},
   "source": [
    "The GSE237218 dataset is from the publication by [Newman et al, 2023](https://www.nature.com/articles/s42003-023-05327-7)."
   ]
  },
  {
   "cell_type": "markdown",
   "id": "d1c9d91f",
   "metadata": {},
   "source": [
    "We will obtain the dataset and metadata from GEO. "
   ]
  },
  {
   "cell_type": "code",
   "execution_count": null,
   "id": "bce89760",
   "metadata": {
    "scrolled": true
   },
   "outputs": [],
   "source": [
    "gset <- getGEO(\"GSE237218\", GSEMatrix =TRUE, getGPL=TRUE, AnnotGPL=TRUE)"
   ]
  },
  {
   "cell_type": "code",
   "execution_count": null,
   "id": "a6da992f",
   "metadata": {},
   "outputs": [],
   "source": [
    "str(gset$GSE237218_series_matrix.txt.gz)"
   ]
  },
  {
   "cell_type": "code",
   "execution_count": null,
   "id": "94070691",
   "metadata": {},
   "outputs": [],
   "source": [
    "gset$GSE237218_series_matrix.txt.gz$`cell type:ch1`"
   ]
  },
  {
   "cell_type": "code",
   "execution_count": null,
   "id": "a1add38b",
   "metadata": {},
   "outputs": [],
   "source": [
    "gset$GSE237218_series_matrix.txt.gz$`disease status:ch1`"
   ]
  },
  {
   "cell_type": "code",
   "execution_count": null,
   "id": "83b6ba1b",
   "metadata": {},
   "outputs": [],
   "source": [
    "metadata <- data.frame(geo_id = gset$GSE237218_series_matrix.txt.gz$geo_accession,\n",
    "                       disease = gset$GSE237218_series_matrix.txt.gz$`disease status:ch1`, \n",
    "                       cell_type = gset$GSE237218_series_matrix.txt.gz$`cell type:ch1`,\n",
    "                      subject_id = gset$GSE237218_series_matrix.txt.gz$`subject id:ch1`,\n",
    "                      sample_id = gset$GSE237218_series_matrix.txt.gz$description,\n",
    "                      Age = gset$GSE237218_series_matrix.txt.gz$`age:ch1`,\n",
    "                      Sex = gset$GSE237218_series_matrix.txt.gz$`Sex:ch1`\n",
    "                      )\n",
    "\n"
   ]
  },
  {
   "cell_type": "code",
   "execution_count": null,
   "id": "99f8fc31",
   "metadata": {},
   "outputs": [],
   "source": [
    "mtx  <- read_delim(\"../../240617_VN_Diabetes_V06/data/published_data/Newman_2023/data/GSE237218_processedCounts_log_TPM.tsv.gz\")"
   ]
  },
  {
   "cell_type": "code",
   "execution_count": null,
   "id": "ab77ce52",
   "metadata": {},
   "outputs": [],
   "source": [
    "fct_minus_one  <- function(x){\n",
    "    x  <- x+1\n",
    "    return(x)\n",
    "}"
   ]
  },
  {
   "cell_type": "code",
   "execution_count": null,
   "id": "3d4dae6e",
   "metadata": {},
   "outputs": [],
   "source": [
    "mtx2  <- mtx  %>% dplyr::select(-transcript_id)  %>% \n",
    "mutate_at(.vars = vars(-gene_id), .funs = fct_minus_one)  %>% \n",
    "dplyr::filter(!is.na(gene_id))"
   ]
  },
  {
   "cell_type": "code",
   "execution_count": null,
   "id": "88ca1786",
   "metadata": {},
   "outputs": [],
   "source": [
    "mtx3  <- mtx2  %>% group_by(gene_id)  %>% \n",
    "summarise_all(.funs = sum)"
   ]
  },
  {
   "cell_type": "code",
   "execution_count": null,
   "id": "2e852477",
   "metadata": {},
   "outputs": [],
   "source": [
    "mtx4  <- as.matrix(mtx3[,2:443])"
   ]
  },
  {
   "cell_type": "code",
   "execution_count": null,
   "id": "fc8f5eff",
   "metadata": {
    "scrolled": true
   },
   "outputs": [],
   "source": [
    "rownames(mtx4)  <- mtx3$gene_id"
   ]
  },
  {
   "cell_type": "code",
   "execution_count": null,
   "id": "c9322ac4",
   "metadata": {
    "scrolled": true
   },
   "outputs": [],
   "source": [
    "colnames(mtx4) == metadata$sample_id"
   ]
  },
  {
   "cell_type": "code",
   "execution_count": null,
   "id": "be541a3d",
   "metadata": {
    "scrolled": true
   },
   "outputs": [],
   "source": [
    "match(metadata$sample_id, colnames(mtx3)[2:443])"
   ]
  },
  {
   "cell_type": "code",
   "execution_count": null,
   "id": "8c39013c",
   "metadata": {},
   "outputs": [],
   "source": [
    "mtx4  <- mtx4[,match(metadata$sample_id, colnames(mtx3)[2:443])]"
   ]
  },
  {
   "cell_type": "code",
   "execution_count": null,
   "id": "a4e161c4",
   "metadata": {
    "scrolled": true
   },
   "outputs": [],
   "source": [
    "colnames(mtx4) == metadata$sample_id"
   ]
  },
  {
   "cell_type": "markdown",
   "id": "78a87d50",
   "metadata": {},
   "source": [
    "Testing our genes."
   ]
  },
  {
   "cell_type": "code",
   "execution_count": null,
   "id": "bb1640c8",
   "metadata": {},
   "outputs": [],
   "source": [
    "df  <- metadata"
   ]
  },
  {
   "cell_type": "code",
   "execution_count": null,
   "id": "0db1f6c8",
   "metadata": {},
   "outputs": [],
   "source": [
    "df$NFKBIA  <- mtx4[which(rownames(mtx4)==\"NFKBIA\"),]"
   ]
  },
  {
   "cell_type": "code",
   "execution_count": null,
   "id": "4f4424d9",
   "metadata": {},
   "outputs": [],
   "source": [
    "df$GZMB  <- mtx4[which(rownames(mtx4)==\"GZMB\"),]"
   ]
  },
  {
   "cell_type": "code",
   "execution_count": null,
   "id": "2bf66722",
   "metadata": {},
   "outputs": [],
   "source": [
    "df$CXCR4  <- mtx4[which(rownames(mtx4)==\"CXCR4\"),]"
   ]
  },
  {
   "cell_type": "code",
   "execution_count": null,
   "id": "c1bf7f1e",
   "metadata": {
    "scrolled": true
   },
   "outputs": [],
   "source": [
    "df  %>% filter(NFKBIA>0)  %>% \n",
    "ggplot(aes(x = disease,\n",
    "             y = NFKBIA)) +\n",
    "   geom_dotplot(binaxis='y', stackdir='center', dotsize = 0) + \n",
    "   geom_boxplot(outlier.shape = NA) +\n",
    "    geom_jitter(binaxis='y', position=position_jitter(width = 0.1, height = 0.01), \n",
    "                size = 2, stackdir='center', aes(color = disease)) + \n",
    "    facet_wrap(~cell_type, ncol = 4) +\n",
    "  theme_classic() + xlab(\"\") +  \n",
    " xlab(\"\") + ylab(\"Value\") +\n",
    "   scale_y_continuous(expand = expansion(mult = c(0, 0.1))) +\n",
    "     scale_color_manual(values = c(\"dodgerblue\", \"indianred3\")) +\n",
    "  ggpubr::stat_compare_means(label.x = 1.2, label.y.npc = \"top\", size = 3.5, vjust = 0.3, label = \"p.format\") + \n",
    "      theme(plot.title = element_text(hjust = 0.5, size = 18),\n",
    "          axis.line = element_line(colour = \"black\"), \n",
    "            axis.text.x = element_text(angle = 90),\n",
    "        axis.ticks = element_line(colour = \"black\"))"
   ]
  },
  {
   "cell_type": "code",
   "execution_count": null,
   "id": "3881065d",
   "metadata": {},
   "outputs": [],
   "source": [
    "df  %>% \n",
    "ggplot(aes(x = disease,\n",
    "             y = GZMB)) +\n",
    "   geom_dotplot(binaxis='y', stackdir='center', dotsize = 0) + \n",
    "   geom_boxplot(outlier.shape = NA) +\n",
    "    geom_jitter(binaxis='y', position=position_jitter(width = 0.1, height = 0.01), \n",
    "                size = 2, stackdir='center', aes(color = disease)) + \n",
    "    facet_wrap(~cell_type, ncol = 4) +\n",
    "  theme_classic() + xlab(\"\") +  \n",
    " xlab(\"\") + ylab(\"Value\") +\n",
    "   scale_y_continuous(expand = expansion(mult = c(0, 0.1))) +\n",
    "     scale_color_manual(values = c(\"dodgerblue\", \"indianred3\")) +\n",
    "  ggpubr::stat_compare_means(label.x = 1.2, label.y.npc = \"top\", size = 3.5, vjust = 0.3, label = \"p.format\") + \n",
    "      theme(plot.title = element_text(hjust = 0.5, size = 18),\n",
    "          axis.line = element_line(colour = \"black\"), \n",
    "            axis.text.x = element_text(angle = 90),\n",
    "        axis.ticks = element_line(colour = \"black\"))"
   ]
  },
  {
   "cell_type": "code",
   "execution_count": null,
   "id": "df6215cf",
   "metadata": {},
   "outputs": [],
   "source": [
    "df  %>%  filter(CXCR4>0)  %>% \n",
    "ggplot(aes(x = disease,\n",
    "             y = CXCR4)) +\n",
    "   geom_dotplot(binaxis='y', stackdir='center', dotsize = 0) + \n",
    "   geom_boxplot(outlier.shape = NA) +\n",
    "    geom_jitter(binaxis='y', position=position_jitter(width = 0.1, height = 0.01), \n",
    "                size = 2, stackdir='center', aes(color = disease)) + \n",
    "    facet_wrap(~cell_type, ncol = 4) +\n",
    "  theme_classic() + xlab(\"\") +  \n",
    " xlab(\"\") + ylab(\"Value\") +\n",
    "   scale_y_continuous(expand = expansion(mult = c(0, 0.1))) +\n",
    "     scale_color_manual(values = c(\"dodgerblue\", \"indianred3\")) +\n",
    "  ggpubr::stat_compare_means(label.x = 1.2, label.y.npc = \"top\", size = 3.5, vjust = 0.3, label = \"p.format\") + \n",
    "      theme(plot.title = element_text(hjust = 0.5, size = 18),\n",
    "          axis.line = element_line(colour = \"black\"), \n",
    "            axis.text.x = element_text(angle = 90),\n",
    "        axis.ticks = element_line(colour = \"black\"))"
   ]
  },
  {
   "cell_type": "code",
   "execution_count": null,
   "id": "4bb4a0a0",
   "metadata": {},
   "outputs": [],
   "source": [
    "mtx_newman  <- mtx4"
   ]
  },
  {
   "cell_type": "code",
   "execution_count": null,
   "id": "8afe1ea6",
   "metadata": {},
   "outputs": [],
   "source": [
    "md_newman  <- metadata"
   ]
  },
  {
   "cell_type": "code",
   "execution_count": null,
   "id": "bd63d1ef",
   "metadata": {},
   "outputs": [],
   "source": [
    "md_newman$sample_id == colnames(mtx_newman)"
   ]
  },
  {
   "cell_type": "markdown",
   "id": "1353499a",
   "metadata": {},
   "source": [
    "# GSE123658 Transimmunom"
   ]
  },
  {
   "cell_type": "code",
   "execution_count": null,
   "id": "ae06ad13",
   "metadata": {},
   "outputs": [],
   "source": [
    "md_transimmunome  <- read_xlsx(\"../../240617_VN_Diabetes_V06/data/published_data/Transimmunome_2018/transimmunome_metadata.xlsx\")"
   ]
  },
  {
   "cell_type": "code",
   "execution_count": null,
   "id": "350c861b",
   "metadata": {},
   "outputs": [],
   "source": [
    "mtx_transimmunom  <- read_delim(\"../data/published_data/Transimmunome_2018/GSE123658_read_counts.gene_level.txt\")"
   ]
  },
  {
   "cell_type": "code",
   "execution_count": null,
   "id": "b0e19582",
   "metadata": {
    "scrolled": true
   },
   "outputs": [],
   "source": [
    "mtx_transimmunom"
   ]
  },
  {
   "cell_type": "code",
   "execution_count": null,
   "id": "133cf66c",
   "metadata": {},
   "outputs": [],
   "source": [
    "library(\"AnnotationDbi\")\n",
    "library(\"org.Hs.eg.db\")"
   ]
  },
  {
   "cell_type": "code",
   "execution_count": null,
   "id": "8a354127",
   "metadata": {},
   "outputs": [],
   "source": [
    "gene_annotations = mapIds(org.Hs.eg.db,\n",
    "                    keys=mtx_transimmunom$Samples, \n",
    "                    column=\"SYMBOL\",\n",
    "                    keytype=\"ENSEMBL\",\n",
    "                    multiVals=\"first\")  %>% as.data.frame()  %>% \n",
    "rownames_to_column(\"Samples\")\n",
    "colnames(gene_annotations)[2]  <- \"Gene\""
   ]
  },
  {
   "cell_type": "code",
   "execution_count": null,
   "id": "2a390783",
   "metadata": {
    "scrolled": false
   },
   "outputs": [],
   "source": [
    "head(gene_annotations)"
   ]
  },
  {
   "cell_type": "code",
   "execution_count": null,
   "id": "e3627d24",
   "metadata": {},
   "outputs": [],
   "source": [
    "mtx_transimmunom2  <- mtx_transimmunom  %>% left_join(gene_annotations)"
   ]
  },
  {
   "cell_type": "code",
   "execution_count": null,
   "id": "c9907975",
   "metadata": {},
   "outputs": [],
   "source": [
    "mtx_transimmunom2  <-  mtx_transimmunom2   %>% dplyr::filter(!is.na(Gene))  %>% \n",
    "dplyr::select(-Samples)  %>% \n",
    "group_by(Gene)  %>% \n",
    "summarise_all(.funs = sum)"
   ]
  },
  {
   "cell_type": "code",
   "execution_count": null,
   "id": "a92fa5a1",
   "metadata": {
    "scrolled": true
   },
   "outputs": [],
   "source": [
    "mtx_transimmunom2  %>% dplyr::filter(Gene == \"BTN3A2\")"
   ]
  },
  {
   "cell_type": "code",
   "execution_count": null,
   "id": "eb8e51da",
   "metadata": {
    "scrolled": true
   },
   "outputs": [],
   "source": [
    "write.csv(mtx_transimmunom2, \"../data/published_data/Transimmunome_2018/GSE123658_processed.csv\")"
   ]
  },
  {
   "cell_type": "code",
   "execution_count": null,
   "id": "d75187ea",
   "metadata": {},
   "outputs": [],
   "source": [
    "mtx_transimmunom2  <- read.csv(\"../../240617_VN_Diabetes_V06/data/published_data/Transimmunome_2018/GSE123658_processed.csv\")"
   ]
  },
  {
   "cell_type": "code",
   "execution_count": null,
   "id": "d3c564b4",
   "metadata": {},
   "outputs": [],
   "source": [
    "mtx_transimmunom2$X  <- NULL"
   ]
  },
  {
   "cell_type": "code",
   "execution_count": null,
   "id": "7af070b3",
   "metadata": {
    "scrolled": true
   },
   "outputs": [],
   "source": [
    "mtx_transimmunom2  %>% as.data.frame"
   ]
  },
  {
   "cell_type": "code",
   "execution_count": null,
   "id": "c74ed847",
   "metadata": {},
   "outputs": [],
   "source": [
    "mtx_transimmunom  <- mtx_transimmunom2"
   ]
  },
  {
   "cell_type": "markdown",
   "id": "b6e2da76",
   "metadata": {},
   "source": [
    "Testing our genes. "
   ]
  },
  {
   "cell_type": "code",
   "execution_count": null,
   "id": "16a7e1b4",
   "metadata": {},
   "outputs": [],
   "source": [
    "df4  <- mtx_transimmunom2  %>% as.data.frame()  %>% \n",
    "pivot_longer(!Gene, names_to = \"Patient_ID\", values_to = \"expression\") "
   ]
  },
  {
   "cell_type": "code",
   "execution_count": null,
   "id": "a3a3f4b5",
   "metadata": {},
   "outputs": [],
   "source": [
    "md_transimmunome$Patient_ID  <- gsub(md_transimmunome$Patient_ID , pattern = \"ID\\\\:\", replacement = \"\")"
   ]
  },
  {
   "cell_type": "code",
   "execution_count": null,
   "id": "fdd53d22",
   "metadata": {},
   "outputs": [],
   "source": [
    "df4$Patient_ID  <- gsub(df4$Patient_ID , pattern = \"X\", replacement = \"\")"
   ]
  },
  {
   "cell_type": "code",
   "execution_count": null,
   "id": "0bb1c70a",
   "metadata": {},
   "outputs": [],
   "source": [
    "df5  <- left_join(df4, md_transimmunome)"
   ]
  },
  {
   "cell_type": "code",
   "execution_count": null,
   "id": "f243f5e9",
   "metadata": {},
   "outputs": [],
   "source": [
    "df5  %>%  \n",
    "filter(Gene == \"NFKBIA\")  %>% \n",
    "ggplot(aes(x = Disease,\n",
    "             y = expression)) +\n",
    "   geom_dotplot(binaxis='y', stackdir='center', dotsize = 0) + \n",
    "   geom_boxplot(outlier.shape = NA) +\n",
    "    geom_jitter(binaxis='y', position=position_jitter(width = 0.1, height = 0.01), \n",
    "                size = 2, stackdir='center', aes(color = Disease)) + \n",
    "  #  facet_wrap(~cell_type, ncol = 4) +\n",
    "  theme_classic() + xlab(\"\") +  \n",
    " xlab(\"\") + ylab(\"Value\") +\n",
    "   scale_y_continuous(expand = expansion(mult = c(0, 0.1))) +\n",
    "     scale_color_manual(values = c(\"dodgerblue\", \"indianred3\")) +\n",
    "  ggpubr::stat_compare_means(label.x = 1.2, label.y.npc = \"top\", size = 3.5, vjust = 0.3, label = \"p.format\") + \n",
    "      theme(plot.title = element_text(hjust = 0.5, size = 18),\n",
    "          axis.line = element_line(colour = \"black\"), \n",
    "            axis.text.x = element_text(angle = 90),\n",
    "        axis.ticks = element_line(colour = \"black\"))"
   ]
  },
  {
   "cell_type": "code",
   "execution_count": null,
   "id": "68918f5b",
   "metadata": {},
   "outputs": [],
   "source": [
    "df5  %>%  \n",
    "filter(Gene == \"CXCR4\")  %>% \n",
    "ggplot(aes(x = Disease,\n",
    "             y = expression)) +\n",
    "   geom_dotplot(binaxis='y', stackdir='center', dotsize = 0) + \n",
    "   geom_boxplot(outlier.shape = NA) +\n",
    "    geom_jitter(binaxis='y', position=position_jitter(width = 0.1, height = 0.01), \n",
    "                size = 2, stackdir='center', aes(color = Disease)) + \n",
    "  #  facet_wrap(~cell_type, ncol = 4) +\n",
    "  theme_classic() + xlab(\"\") +  \n",
    " xlab(\"\") + ylab(\"Value\") +\n",
    "   scale_y_continuous(expand = expansion(mult = c(0, 0.1))) +\n",
    "     scale_color_manual(values = c(\"dodgerblue\", \"indianred3\")) +\n",
    "  ggpubr::stat_compare_means(label.x = 1.2, label.y.npc = \"top\", size = 3.5, vjust = 0.3, label = \"p.format\") + \n",
    "      theme(plot.title = element_text(hjust = 0.5, size = 18),\n",
    "          axis.line = element_line(colour = \"black\"), \n",
    "            axis.text.x = element_text(angle = 90),\n",
    "        axis.ticks = element_line(colour = \"black\"))"
   ]
  },
  {
   "cell_type": "code",
   "execution_count": null,
   "id": "7b7cac9f",
   "metadata": {},
   "outputs": [],
   "source": [
    "df5  %>%  \n",
    "filter(Gene == \"GZMB\")  %>% \n",
    "ggplot(aes(x = Disease,\n",
    "             y = expression)) +\n",
    "   geom_dotplot(binaxis='y', stackdir='center', dotsize = 0) + \n",
    "   geom_boxplot(outlier.shape = NA) +\n",
    "    geom_jitter(binaxis='y', position=position_jitter(width = 0.1, height = 0.01), \n",
    "                size = 2, stackdir='center', aes(color = Disease)) + \n",
    "  #  facet_wrap(~cell_type, ncol = 4) +\n",
    "  theme_classic() + xlab(\"\") +  \n",
    " xlab(\"\") + ylab(\"Value\") +\n",
    "   scale_y_continuous(expand = expansion(mult = c(0, 0.1))) +\n",
    "     scale_color_manual(values = c(\"dodgerblue\", \"indianred3\")) +\n",
    "  ggpubr::stat_compare_means(label.x = 1.2, label.y.npc = \"top\", size = 3.5, vjust = 0.3, label = \"p.format\") + \n",
    "      theme(plot.title = element_text(hjust = 0.5, size = 18),\n",
    "          axis.line = element_line(colour = \"black\"), \n",
    "            axis.text.x = element_text(angle = 90),\n",
    "        axis.ticks = element_line(colour = \"black\"))"
   ]
  },
  {
   "cell_type": "code",
   "execution_count": null,
   "id": "fc340049",
   "metadata": {
    "scrolled": true
   },
   "outputs": [],
   "source": [
    "df6  <- df5  %>% pivot_wider(names_from = \"Gene\", values_from = \"expression\", values_fill = 0)"
   ]
  },
  {
   "cell_type": "code",
   "execution_count": null,
   "id": "08e149d0",
   "metadata": {},
   "outputs": [],
   "source": [
    "mtx_6  <- df6  %>% column_to_rownames(\"Patient_ID\")  %>% dplyr::select(-geo_id, -Disease)  %>% as.matrix()  %>% t()"
   ]
  },
  {
   "cell_type": "code",
   "execution_count": null,
   "id": "e48fc14b",
   "metadata": {},
   "outputs": [],
   "source": [
    "df6_md  <- df6  %>% dplyr::select(Disease)"
   ]
  },
  {
   "cell_type": "markdown",
   "id": "536f9913",
   "metadata": {},
   "source": [
    "Test the differential expression by DESeq2. "
   ]
  },
  {
   "cell_type": "code",
   "execution_count": null,
   "id": "3a2fddf6",
   "metadata": {
    "scrolled": true
   },
   "outputs": [],
   "source": [
    "library(DESeq2)\n",
    "\n",
    "\n",
    "# Create a DESeq dataset\n",
    "dds <- DESeqDataSetFromMatrix(countData = mtx_6,\n",
    "                              colData = df6_md,\n",
    "                              design= ~ Disease) \n",
    "\n",
    "dds <- estimateSizeFactors(dds)\n",
    "idx <- rowSums(counts(dds, normalized=TRUE) >= 5 ) >= 3\n",
    "\n",
    "\n",
    "# Run the DESeq2 algorithm, which will give us the differentially expressed genes\n",
    "dds <- dds[idx,]\n",
    "dds <- DESeq(dds)\n",
    "\n",
    "# Access and evaluate the results\n",
    "res <- results(dds)\n",
    "res\n",
    "\n",
    "## Order results based on the adjusted p.value and show the first 30 genes\n",
    "resOrdered.pval <- res[order(res$padj),]\n",
    "rownames(resOrdered.pval)[1:30]"
   ]
  },
  {
   "cell_type": "code",
   "execution_count": null,
   "id": "8f4e62c3",
   "metadata": {
    "scrolled": true
   },
   "outputs": [],
   "source": [
    "dds <- estimateSizeFactors(dds)"
   ]
  },
  {
   "cell_type": "code",
   "execution_count": null,
   "id": "d11dff79",
   "metadata": {},
   "outputs": [],
   "source": [
    "mtx_transimmunome  <- counts(dds, normalized=TRUE)"
   ]
  },
  {
   "cell_type": "code",
   "execution_count": null,
   "id": "503f28dd",
   "metadata": {
    "scrolled": true
   },
   "outputs": [],
   "source": [
    "plotCounts(dds, gene=\"GZMB\", intgroup=\"Disease\") "
   ]
  },
  {
   "cell_type": "code",
   "execution_count": null,
   "id": "9260a97a",
   "metadata": {},
   "outputs": [],
   "source": [
    "genes  <- c('BTN3A2','CENPK','JUN','CRIP1','FOS','FOSB','HLA-DQB1','IFITM2','IFITM3','CCL5','GSTM1',\n",
    "'PPP1R15A','GBP5','GZMA','HLA-DRB1','IER2','GADD45B','DUSP2','EPSTI1','GZMB','NFKBIA','CD69',\n",
    "'TSC22D3','ID3','IER5','JUNB','MYC','PASK','TNF','TUBB4B','AOAH','BTG2','C11orf98','CCNL1',\n",
    "'CST7','CX3CR1','FGFBP2','GIMAP4','GIMAP5','GIMAP7','GZMH','HLA-C','ID2','MTRNR2L8','MYADM',\n",
    "'NEU1','PRF1','RGCC','SERTAD1','SLC2A3','SRSF7','TNFSF10','ZFP36','ZNF683','RBM3','CXCR4',\n",
    "'CDK11A','DDIT4','MYOM2','TSPO','TYROBP','ANXA2','ERAP2','KLRF1','MTRNR2L12','RCC1','RNASET2','ZFP36L2')"
   ]
  },
  {
   "cell_type": "code",
   "execution_count": null,
   "id": "f1146089",
   "metadata": {},
   "outputs": [],
   "source": [
    "select_genes  <- res  %>% as.data.frame()  %>% \n",
    "rownames_to_column(\"Gene\")  %>%  \n",
    "filter(Gene %in% genes)  %>% dplyr::select(Gene, log2FoldChange)  %>% \n",
    "column_to_rownames(\"Gene\")  %>% as.matrix"
   ]
  },
  {
   "cell_type": "code",
   "execution_count": null,
   "id": "a17b7b7f",
   "metadata": {},
   "outputs": [],
   "source": [
    "options(repr.plot.width = 20, repr.plot.height = 20)\n",
    "pheatmap(select_genes, cluster_rows = T, show_rownames = T,\n",
    "         cluster_cols = F, scale = 'column', cellwidth = 10, cellheight = 10,\n",
    "         width = 5, height = 7, color=colorRampPalette(c(\"navy\", \"white\", \"red\"))(50))"
   ]
  },
  {
   "cell_type": "code",
   "execution_count": null,
   "id": "5bc7b4b3",
   "metadata": {},
   "outputs": [],
   "source": [
    "ti  <- mtx_transimmunome  %>% as.data.frame()  %>% \n",
    "rownames_to_column(\"gene\")  %>% \n",
    "pivot_longer(!gene, names_to = \"Patient_ID\", values_to = \"value\")  %>% left_join(md_transimmunome)"
   ]
  },
  {
   "cell_type": "code",
   "execution_count": null,
   "id": "1f2dac1d",
   "metadata": {},
   "outputs": [],
   "source": [
    "rownames(resOrdered.pval)[1:100]"
   ]
  },
  {
   "cell_type": "code",
   "execution_count": null,
   "id": "d69d652c",
   "metadata": {},
   "outputs": [],
   "source": [
    "options(repr.plot.width = 6, repr.plot.height = 5)\n",
    "\n",
    "for(i in rownames(resOrdered.pval)[1:100]){\n",
    "print(ti  %>%  \n",
    "filter(gene == i)  %>% \n",
    "ggplot(aes(x = Disease,\n",
    "             y = value)) +\n",
    "   geom_dotplot(binaxis='y', stackdir='center', dotsize = 0) + \n",
    "   geom_boxplot(outlier.shape = NA) +\n",
    "    geom_jitter(binaxis='y', position=position_jitter(width = 0.1, height = 0.01), \n",
    "                size = 2, stackdir='center', aes(color = Disease)) + \n",
    "  #  facet_wrap(~cell_type, ncol = 4) +\n",
    "  theme_classic() + xlab(\"\") +  \n",
    " xlab(\"\") + ylab(\"Value\") +\n",
    "      ggtitle(i)+\n",
    "   scale_y_continuous(expand = expansion(mult = c(0, 0.1))) +\n",
    "     scale_color_manual(values = c(\"dodgerblue\", \"indianred3\")) +\n",
    "  ggpubr::stat_compare_means(label.x = 1.2, label.y.npc = \"top\", size = 3.5, vjust = 0.3, label = \"p.format\") + \n",
    "      theme(plot.title = element_text(hjust = 0.5, size = 18),\n",
    "          axis.line = element_line(colour = \"black\"), \n",
    "            axis.text.x = element_text(angle = 90),\n",
    "        axis.ticks = element_line(colour = \"black\")))\n",
    "    \n",
    "      }"
   ]
  },
  {
   "cell_type": "code",
   "execution_count": null,
   "id": "36dc95a2",
   "metadata": {},
   "outputs": [],
   "source": []
  },
  {
   "cell_type": "code",
   "execution_count": null,
   "id": "55f0203d",
   "metadata": {},
   "outputs": [],
   "source": [
    "\n",
    "for(i in genes){\n",
    "print(ti  %>%  \n",
    "filter(gene == i)  %>% \n",
    "ggplot(aes(x = Disease,\n",
    "             y = value)) +\n",
    "   geom_dotplot(binaxis='y', stackdir='center', dotsize = 0) + \n",
    "   geom_boxplot(outlier.shape = NA) +\n",
    "    geom_jitter(binaxis='y', position=position_jitter(width = 0.1, height = 0.01), \n",
    "                size = 2, stackdir='center', aes(color = Disease)) + \n",
    "  #  facet_wrap(~cell_type, ncol = 4) +\n",
    "  theme_classic() + xlab(\"\") +  \n",
    " xlab(\"\") + ylab(\"Value\") +\n",
    "      ggtitle(i)+\n",
    "   scale_y_continuous(expand = expansion(mult = c(0, 0.1))) +\n",
    "     scale_color_manual(values = c(\"dodgerblue\", \"indianred3\")) +\n",
    "  ggpubr::stat_compare_means(label.x = 1.2, label.y.npc = \"top\", size = 3.5, vjust = 0.3, label = \"p.format\") + \n",
    "      theme(plot.title = element_text(hjust = 0.5, size = 18),\n",
    "          axis.line = element_line(colour = \"black\"), \n",
    "            axis.text.x = element_text(angle = 90),\n",
    "        axis.ticks = element_line(colour = \"black\")))\n",
    "    \n",
    "      }"
   ]
  },
  {
   "cell_type": "markdown",
   "id": "d9aef044",
   "metadata": {},
   "source": [
    "Let's check the expression of BTN3A2. "
   ]
  },
  {
   "cell_type": "code",
   "execution_count": null,
   "id": "ec2fdf3a",
   "metadata": {},
   "outputs": [],
   "source": [
    "## BTN3A2"
   ]
  },
  {
   "cell_type": "code",
   "execution_count": null,
   "id": "12dc3310",
   "metadata": {},
   "outputs": [],
   "source": [
    "expression_matrix  <- t(mtx_transimmunom2  %>% dplyr::filter(Gene == \"BTN3A2\"))  %>% as.data.frame()  %>% \n",
    "rownames_to_column(\"Patient_ID\")"
   ]
  },
  {
   "cell_type": "code",
   "execution_count": null,
   "id": "71e88608",
   "metadata": {},
   "outputs": [],
   "source": [
    "expression_matrix  <- expression_matrix[2:nrow(expression_matrix),]"
   ]
  },
  {
   "cell_type": "code",
   "execution_count": null,
   "id": "4027d84e",
   "metadata": {},
   "outputs": [],
   "source": [
    "colnames(expression_matrix)[2]  <- \"BTN3A2\""
   ]
  },
  {
   "cell_type": "code",
   "execution_count": null,
   "id": "1ff558fd",
   "metadata": {},
   "outputs": [],
   "source": [
    "md_transimmunome$Patient_ID  <- gsub(md_transimmunome$Patient_ID , pattern = \"ID\\\\:\", replacement = \"\")"
   ]
  },
  {
   "cell_type": "code",
   "execution_count": null,
   "id": "7d50a47b",
   "metadata": {},
   "outputs": [],
   "source": [
    "md_transimmunome$Patient_ID == expression_matrix$Patient_ID"
   ]
  },
  {
   "cell_type": "code",
   "execution_count": null,
   "id": "ec6cb0bd",
   "metadata": {},
   "outputs": [],
   "source": [
    "expression_matrix2  <- left_join(md_transimmunome, expression_matrix)"
   ]
  },
  {
   "cell_type": "code",
   "execution_count": null,
   "id": "62af9983",
   "metadata": {},
   "outputs": [],
   "source": [
    "sra_metadata  <- read_delim(\"../data/published_data/Transimmunome_2018/SraRunTable_metadata.txt\")"
   ]
  },
  {
   "cell_type": "code",
   "execution_count": null,
   "id": "0ce5ad34",
   "metadata": {},
   "outputs": [],
   "source": [
    "sra_metadata2  <- sra_metadata  %>% dplyr::select(Run, Age, sex, geo_id = `Sample Name`)"
   ]
  },
  {
   "cell_type": "code",
   "execution_count": null,
   "id": "d5f98aca",
   "metadata": {},
   "outputs": [],
   "source": [
    "expression_matrix3  <- left_join(expression_matrix2, sra_metadata2)"
   ]
  },
  {
   "cell_type": "code",
   "execution_count": null,
   "id": "c35050a1",
   "metadata": {},
   "outputs": [],
   "source": [
    "hla_transimmunome  <- read_delim(\"../data/published_data/Transimmunome_2018/genotypes.tsv\")"
   ]
  },
  {
   "cell_type": "code",
   "execution_count": null,
   "id": "f300048b",
   "metadata": {},
   "outputs": [],
   "source": [
    "hla_transimmunome  <- hla_transimmunome  %>% separate(subject, into = c(\"Run\", \"Read\"), sep = \"_\")"
   ]
  },
  {
   "cell_type": "code",
   "execution_count": null,
   "id": "e567a8ef",
   "metadata": {
    "scrolled": true
   },
   "outputs": [],
   "source": [
    "expression_matrix_4  <- hla_transimmunome  %>% dplyr::filter(Read == 1)  %>% left_join(expression_matrix3)"
   ]
  },
  {
   "cell_type": "code",
   "execution_count": null,
   "id": "8a5677df",
   "metadata": {},
   "outputs": [],
   "source": [
    "write.csv(expression_matrix_4, \"../data/published_data/Transimmunome_2018/BTN3A2_expression_by_HLA_transimmunome.csv\")"
   ]
  },
  {
   "cell_type": "code",
   "execution_count": null,
   "id": "53dae04b",
   "metadata": {},
   "outputs": [],
   "source": [
    "transimmunome_all_counts  <- colSums(mtx_transimmunom2[2:ncol(mtx_transimmunom2)])"
   ]
  },
  {
   "cell_type": "code",
   "execution_count": null,
   "id": "6befc3d9",
   "metadata": {},
   "outputs": [],
   "source": [
    "write.csv(transimmunome_all_counts, \"../data/published_data/Transimmunome_2018/transimmunome_allcounts_for_normalization.csv\")"
   ]
  },
  {
   "cell_type": "code",
   "execution_count": null,
   "id": "629fc1f2",
   "metadata": {
    "scrolled": true
   },
   "outputs": [],
   "source": [
    "transimmunome_all_counts  <- read.csv(\"../data/published_data/Transimmunome_2018/transimmunome_allcounts_for_normalization.csv\")"
   ]
  },
  {
   "cell_type": "markdown",
   "id": "0541b63f",
   "metadata": {},
   "source": [
    "# GSE10586 Jailwala"
   ]
  },
  {
   "cell_type": "code",
   "execution_count": null,
   "id": "f6223da4",
   "metadata": {
    "scrolled": true
   },
   "outputs": [],
   "source": [
    "seurats  <- map(1:length(file_paths), .f = process_dataset)"
   ]
  },
  {
   "cell_type": "code",
   "execution_count": null,
   "id": "5838af27",
   "metadata": {},
   "outputs": [],
   "source": [
    "library(GEOquery)"
   ]
  },
  {
   "cell_type": "code",
   "execution_count": null,
   "id": "2e8c1907",
   "metadata": {},
   "outputs": [],
   "source": [
    "gset <- getGEO(\"GSE10586\", GSEMatrix =TRUE, getGPL=TRUE, AnnotGPL=TRUE)"
   ]
  },
  {
   "cell_type": "code",
   "execution_count": null,
   "id": "0c9e05fe",
   "metadata": {},
   "outputs": [],
   "source": [
    "varLabels(gset$GSE10586_series_matrix.txt.gz)"
   ]
  },
  {
   "cell_type": "code",
   "execution_count": null,
   "id": "1d955085",
   "metadata": {},
   "outputs": [],
   "source": [
    "gset$GSE10586_series_matrix.txt.gz$`characteristics_ch1.4`"
   ]
  },
  {
   "cell_type": "code",
   "execution_count": null,
   "id": "45e03bc0",
   "metadata": {},
   "outputs": [],
   "source": [
    "gset$GSE10586_series_matrix.txt.gz$`characteristics_ch1.5`"
   ]
  },
  {
   "cell_type": "code",
   "execution_count": null,
   "id": "1d0f0fe5",
   "metadata": {},
   "outputs": [],
   "source": [
    "gset$GSE10586_series_matrix.txt.gz$title"
   ]
  },
  {
   "cell_type": "code",
   "execution_count": null,
   "id": "86d51acc",
   "metadata": {},
   "outputs": [],
   "source": [
    "substr(gset$GSE10586_series_matrix.txt.gz$title,1,1)  %>% table"
   ]
  },
  {
   "cell_type": "code",
   "execution_count": null,
   "id": "f0292734",
   "metadata": {
    "scrolled": true
   },
   "outputs": [],
   "source": [
    "gset$GSE10586_series_matrix.txt.gz$supplementary_file"
   ]
  },
  {
   "cell_type": "code",
   "execution_count": null,
   "id": "ada825b6",
   "metadata": {},
   "outputs": [],
   "source": [
    "exprs(gset$GSE10586_series_matrix.txt.gz)"
   ]
  },
  {
   "cell_type": "code",
   "execution_count": null,
   "id": "66d4d394",
   "metadata": {
    "scrolled": true
   },
   "outputs": [],
   "source": [
    "grep(\"FOXP3\", rownames(exprs(gset$GSE10586_series_matrix.txt.gz)))"
   ]
  },
  {
   "cell_type": "code",
   "execution_count": null,
   "id": "a4ae0310",
   "metadata": {
    "scrolled": true
   },
   "outputs": [],
   "source": [
    "library(\"hgu133a.db\")"
   ]
  },
  {
   "cell_type": "code",
   "execution_count": null,
   "id": "43028084",
   "metadata": {},
   "outputs": [],
   "source": [
    "gene_annotations  <- select(hgu133a.db, rownames(exprs(gset$GSE10586_series_matrix.txt.gz)), c(\"SYMBOL\",\"ENTREZID\", \"GENENAME\"))"
   ]
  },
  {
   "cell_type": "code",
   "execution_count": null,
   "id": "51e19f9b",
   "metadata": {},
   "outputs": [],
   "source": [
    "table(is.na(gene_annotations$SYMBOL))"
   ]
  },
  {
   "cell_type": "code",
   "execution_count": null,
   "id": "747a202c",
   "metadata": {},
   "outputs": [],
   "source": [
    "varLabels(gset$GSE10586_series_matrix.txt.gz)"
   ]
  },
  {
   "cell_type": "code",
   "execution_count": null,
   "id": "1cc6a884",
   "metadata": {},
   "outputs": [],
   "source": [
    "gset$GSE10586_series_matrix.txt.gz$`subject id:ch1`"
   ]
  },
  {
   "cell_type": "code",
   "execution_count": null,
   "id": "1321b2bb",
   "metadata": {},
   "outputs": [],
   "source": [
    "subject_id = gset$GSE10586_series_matrix.txt.gz$su  %>% length"
   ]
  },
  {
   "cell_type": "code",
   "execution_count": null,
   "id": "92de5e98",
   "metadata": {},
   "outputs": [],
   "source": [
    "metadata <- data.frame(geo_id = gset$GSE10586_series_matrix.txt.gz$geo_accession,\n",
    "                       disease = gset$GSE10586_series_matrix.txt.gz$title, \n",
    "                       hla_risk = gset$GSE10586_series_matrix.txt.gz$`HLA risk:ch1`,\n",
    "                      glucose = gset$GSE10586_series_matrix.txt.gz$`Glucose:ch1`,\n",
    "                      hba1c = gset$GSE10586_series_matrix.txt.gz$`HbA1c:ch1`)\n"
   ]
  },
  {
   "cell_type": "code",
   "execution_count": null,
   "id": "a1d33c04",
   "metadata": {},
   "outputs": [],
   "source": [
    "metadata$Disease  <- ifelse(grepl(metadata$disease, pattern = \"Healthy\"), \"Ctrl\", \"Dia\")"
   ]
  },
  {
   "cell_type": "code",
   "execution_count": null,
   "id": "f9ff094b",
   "metadata": {
    "scrolled": true
   },
   "outputs": [],
   "source": [
    "metadata"
   ]
  },
  {
   "cell_type": "code",
   "execution_count": null,
   "id": "92ad91fa",
   "metadata": {},
   "outputs": [],
   "source": [
    "gene_annotations  %>% filter(SYMBOL == \"BTN3A2\")"
   ]
  },
  {
   "cell_type": "code",
   "execution_count": null,
   "id": "d42db79e",
   "metadata": {},
   "outputs": [],
   "source": [
    "jail_df  <- as.data.frame(exprs(gset$GSE10586_series_matrix.txt.gz))  %>% \n",
    "rownames_to_column(\"PROBEID\")  %>% left_join(gene_annotations)"
   ]
  },
  {
   "cell_type": "code",
   "execution_count": null,
   "id": "c595915b",
   "metadata": {},
   "outputs": [],
   "source": [
    "jail_df  %>% filter(!is.na(SYMBOL))"
   ]
  },
  {
   "cell_type": "code",
   "execution_count": null,
   "id": "78959505",
   "metadata": {},
   "outputs": [],
   "source": [
    "jail_df_sum  <- jail_df  %>% filter(!is.na(SYMBOL))  %>% \n",
    "dplyr::select(-ENTREZID, -GENENAME, -PROBEID)  %>% \n",
    "group_by(SYMBOL)  %>% \n",
    "summarise_all(.funs = sum)"
   ]
  },
  {
   "cell_type": "code",
   "execution_count": null,
   "id": "de9299ec",
   "metadata": {
    "scrolled": true
   },
   "outputs": [],
   "source": [
    "jail_df_sum"
   ]
  },
  {
   "cell_type": "code",
   "execution_count": null,
   "id": "e5966cee",
   "metadata": {},
   "outputs": [],
   "source": [
    "df  <- metadata"
   ]
  },
  {
   "cell_type": "code",
   "execution_count": null,
   "id": "e8d01a73",
   "metadata": {},
   "outputs": [],
   "source": [
    "df$geo_id == colnames(jail_df_sum2)"
   ]
  },
  {
   "cell_type": "code",
   "execution_count": null,
   "id": "c96e4977",
   "metadata": {},
   "outputs": [],
   "source": [
    "jail_df_sum2  <- jail_df_sum  %>% column_to_rownames(\"SYMBOL\")"
   ]
  },
  {
   "cell_type": "code",
   "execution_count": null,
   "id": "5282f1b8",
   "metadata": {},
   "outputs": [],
   "source": [
    "which((jail_df_sum$SYMBOL)==\"NFKBIA\")\n"
   ]
  },
  {
   "cell_type": "code",
   "execution_count": null,
   "id": "eedb86ca",
   "metadata": {},
   "outputs": [],
   "source": [
    "jail_df_sum2[which((jail_df_sum$SYMBOL)==\"NFKBIA\"),]"
   ]
  },
  {
   "cell_type": "code",
   "execution_count": null,
   "id": "f58029a7",
   "metadata": {},
   "outputs": [],
   "source": [
    "df$NFKBIA  <- as.numeric(jail_df_sum2[which((jail_df_sum$SYMBOL)==\"NFKBIA\"),])"
   ]
  },
  {
   "cell_type": "code",
   "execution_count": null,
   "id": "a886a5c9",
   "metadata": {},
   "outputs": [],
   "source": [
    "df$GZMB  <- as.numeric(jail_df_sum2[which((jail_df_sum$SYMBOL)==\"GZMB\"),])"
   ]
  },
  {
   "cell_type": "code",
   "execution_count": null,
   "id": "df55051d",
   "metadata": {},
   "outputs": [],
   "source": [
    "df$CXCR4  <- as.numeric(jail_df_sum2[which((jail_df_sum$SYMBOL)==\"CXCR4\"),])"
   ]
  },
  {
   "cell_type": "code",
   "execution_count": null,
   "id": "8f3dfc94",
   "metadata": {
    "scrolled": true
   },
   "outputs": [],
   "source": [
    "df$BTN3A2  <- as.numeric(jail_df_sum2[which((jail_df_sum$SYMBOL)==\"BTN3A2\"),])"
   ]
  },
  {
   "cell_type": "code",
   "execution_count": null,
   "id": "a1e5a834",
   "metadata": {
    "scrolled": true
   },
   "outputs": [],
   "source": [
    "df  %>% filter(NFKBIA>0)  %>% \n",
    "ggplot(aes(x = Disease,\n",
    "             y = NFKBIA)) +\n",
    "   geom_dotplot(binaxis='y', stackdir='center', dotsize = 0) + \n",
    "   geom_boxplot(outlier.shape = NA) +\n",
    "    geom_jitter(binaxis='y', position=position_jitter(width = 0.1, height = 0.01), \n",
    "                size = 2, stackdir='center', aes(color = Disease)) + \n",
    "  #  facet_wrap(~cell_type, ncol = 4) +\n",
    "  theme_classic() + xlab(\"\") +  \n",
    " xlab(\"\") + ylab(\"Value\") +\n",
    "   scale_y_continuous(expand = expansion(mult = c(0, 0.1))) +\n",
    "     scale_color_manual(values = c(\"dodgerblue\", \"indianred3\")) +\n",
    "  ggpubr::stat_compare_means(label.x = 1.2, label.y.npc = \"top\", size = 3.5, vjust = 0.3, label = \"p.format\") + \n",
    "      theme(plot.title = element_text(hjust = 0.5, size = 18),\n",
    "          axis.line = element_line(colour = \"black\"), \n",
    "            axis.text.x = element_text(angle = 90),\n",
    "        axis.ticks = element_line(colour = \"black\"))"
   ]
  },
  {
   "cell_type": "code",
   "execution_count": null,
   "id": "9700db4f",
   "metadata": {},
   "outputs": [],
   "source": [
    "df  %>% \n",
    "ggplot(aes(x = Disease,\n",
    "             y = GZMB)) +\n",
    "   geom_dotplot(binaxis='y', stackdir='center', dotsize = 0) + \n",
    "   geom_boxplot(outlier.shape = NA) +\n",
    "    geom_jitter(binaxis='y', position=position_jitter(width = 0.1, height = 0.01), \n",
    "                size = 2, stackdir='center', aes(color = Disease)) + \n",
    "  #  facet_wrap(~cell_type, ncol = 4) +\n",
    "  theme_classic() + xlab(\"\") +  \n",
    " xlab(\"\") + ylab(\"Value\") +\n",
    "   scale_y_continuous(expand = expansion(mult = c(0, 0.1))) +\n",
    "     scale_color_manual(values = c(\"dodgerblue\", \"indianred3\")) +\n",
    "  ggpubr::stat_compare_means(label.x = 1.2, label.y.npc = \"top\", size = 3.5, vjust = 0.3, label = \"p.format\") + \n",
    "      theme(plot.title = element_text(hjust = 0.5, size = 18),\n",
    "          axis.line = element_line(colour = \"black\"), \n",
    "            axis.text.x = element_text(angle = 90),\n",
    "        axis.ticks = element_line(colour = \"black\"))"
   ]
  },
  {
   "cell_type": "code",
   "execution_count": null,
   "id": "46f0970c",
   "metadata": {},
   "outputs": [],
   "source": [
    "df  %>% \n",
    "ggplot(aes(x = Disease,\n",
    "             y = CXCR4)) +\n",
    "   geom_dotplot(binaxis='y', stackdir='center', dotsize = 0) + \n",
    "   geom_boxplot(outlier.shape = NA) +\n",
    "    geom_jitter(binaxis='y', position=position_jitter(width = 0.1, height = 0.01), \n",
    "                size = 2, stackdir='center', aes(color = Disease)) + \n",
    "  #  facet_wrap(~cell_type, ncol = 4) +\n",
    "  theme_classic() + xlab(\"\") +  \n",
    " xlab(\"\") + ylab(\"Value\") +\n",
    "   scale_y_continuous(expand = expansion(mult = c(0, 0.1))) +\n",
    "     scale_color_manual(values = c(\"dodgerblue\", \"indianred3\")) +\n",
    "  ggpubr::stat_compare_means(label.x = 1.2, label.y.npc = \"top\", size = 3.5, vjust = 0.3, label = \"p.format\") + \n",
    "      theme(plot.title = element_text(hjust = 0.5, size = 18),\n",
    "          axis.line = element_line(colour = \"black\"), \n",
    "            axis.text.x = element_text(angle = 90),\n",
    "        axis.ticks = element_line(colour = \"black\"))"
   ]
  },
  {
   "cell_type": "code",
   "execution_count": null,
   "id": "aa4d206a",
   "metadata": {},
   "outputs": [],
   "source": [
    "df  %>% \n",
    "ggplot(aes(x = Disease,\n",
    "             y = BTN3A2)) +\n",
    "   geom_dotplot(binaxis='y', stackdir='center', dotsize = 0) + \n",
    "   geom_boxplot(outlier.shape = NA) +\n",
    "    geom_jitter(binaxis='y', position=position_jitter(width = 0.1, height = 0.01), \n",
    "                size = 2, stackdir='center', aes(color = Disease)) + \n",
    "  #  facet_wrap(~cell_type, ncol = 4) +\n",
    "  theme_classic() + xlab(\"\") +  \n",
    " xlab(\"\") + ylab(\"Value\") +\n",
    "   scale_y_continuous(expand = expansion(mult = c(0, 0.1))) +\n",
    "     scale_color_manual(values = c(\"dodgerblue\", \"indianred3\")) +\n",
    "  ggpubr::stat_compare_means(label.x = 1.2, label.y.npc = \"top\", size = 3.5, vjust = 0.3, label = \"p.format\") + \n",
    "      theme(plot.title = element_text(hjust = 0.5, size = 18),\n",
    "          axis.line = element_line(colour = \"black\"), \n",
    "            axis.text.x = element_text(angle = 90),\n",
    "        axis.ticks = element_line(colour = \"black\"))"
   ]
  },
  {
   "cell_type": "code",
   "execution_count": null,
   "id": "838d93f4",
   "metadata": {},
   "outputs": [],
   "source": [
    "mtx_jailwala  <- jail_df_sum  %>% column_to_rownames(\"SYMBOL\")  %>% as.matrix()\n",
    "md_jailwala  <- df"
   ]
  },
  {
   "cell_type": "code",
   "execution_count": null,
   "id": "7cf9418b",
   "metadata": {
    "scrolled": true
   },
   "outputs": [],
   "source": [
    "mtx_jailwala"
   ]
  },
  {
   "cell_type": "code",
   "execution_count": null,
   "id": "b3993c3e",
   "metadata": {},
   "outputs": [],
   "source": []
  },
  {
   "cell_type": "markdown",
   "id": "e84a1519",
   "metadata": {},
   "source": [
    "# Kallionpaa bulk"
   ]
  },
  {
   "cell_type": "code",
   "execution_count": null,
   "id": "6dd43dec",
   "metadata": {},
   "outputs": [],
   "source": [
    "kallion_matrix  <- read_csv(\"../../../DATA_scRNAseq/Analysis of previously published data/068_Kallionpaa_diabimmune/bulk_count_matrix/DIA_bulk_agg.csv\")"
   ]
  },
  {
   "cell_type": "code",
   "execution_count": null,
   "id": "c704e3d9",
   "metadata": {},
   "outputs": [],
   "source": [
    "rownames(kallion_matrix)  <- kallion_matrix$`...1`"
   ]
  },
  {
   "cell_type": "code",
   "execution_count": null,
   "id": "4dd0d214",
   "metadata": {},
   "outputs": [],
   "source": [
    "mtx  <- kallion_matrix[!(grepl(kallion_matrix$`...1`, pattern = \"^MIR\")  | \n",
    "                         grepl(kallion_matrix$`...1`, pattern = \"^MT\")  | \n",
    "                         grepl(kallion_matrix$`...1`, pattern = \"^RP[LS]\")  | \n",
    "                         grepl(kallion_matrix$`...1`, pattern = \"^AL\")  |\n",
    "                         grepl(kallion_matrix$`...1`, pattern = \"^AC\")  |\n",
    "                         grepl(kallion_matrix$`...1`, pattern = \"\\\\.[1234567890]\")  |\n",
    "                         grepl(kallion_matrix$`...1`, pattern = \"\\\\-[A1234567890]\")  |\n",
    "                         grepl(kallion_matrix$`...1`, pattern = \"LINC\")  |\n",
    "                         grepl(kallion_matrix$`...1`, pattern = \"^RNU\")),\n",
    "                      ]"
   ]
  },
  {
   "cell_type": "code",
   "execution_count": null,
   "id": "cacd6bc7",
   "metadata": {},
   "outputs": [],
   "source": [
    "mtx2  <- mtx[,2:ncol(mtx)]"
   ]
  },
  {
   "cell_type": "code",
   "execution_count": null,
   "id": "ec05a37b",
   "metadata": {},
   "outputs": [],
   "source": [
    "rownames(mtx2)  <- mtx$`...1`"
   ]
  },
  {
   "cell_type": "code",
   "execution_count": null,
   "id": "d47630f8",
   "metadata": {
    "scrolled": true
   },
   "outputs": [],
   "source": [
    "mtx2  <- as.matrix(mtx2)"
   ]
  },
  {
   "cell_type": "code",
   "execution_count": null,
   "id": "0ce68c23",
   "metadata": {},
   "outputs": [],
   "source": [
    "md  <- data.frame(sample = colnames(mtx2))  %>% \n",
    "mutate(sample = gsub(sample, pattern = \"10_1_\", replacement = \"10.1_\"))  %>% \n",
    "mutate(sample = gsub(sample, pattern = \"10_2_\", replacement = \"10.2_\"))  %>% \n",
    "separate(sample, into = c(NA,\"Sample_ID\",\"Patient_ID\",\"TimePoint\",\"CellType\",\"Index\"), sep = \"_\", remove = F)  %>% \n",
    "mutate(Disease = ifelse(grepl(Patient_ID, pattern = \"Control\"),\"Ctrl\",\"Dia\"))"
   ]
  },
  {
   "cell_type": "markdown",
   "id": "0fb61eec",
   "metadata": {},
   "source": [
    "Run DESeq2 workflow. "
   ]
  },
  {
   "cell_type": "code",
   "execution_count": null,
   "id": "ce3a8f82",
   "metadata": {},
   "outputs": [],
   "source": [
    "library(DESeq2)"
   ]
  },
  {
   "cell_type": "code",
   "execution_count": null,
   "id": "c2ac72a2",
   "metadata": {},
   "outputs": [],
   "source": [
    "# Create a DESeq dataset\n",
    "dds <- DESeqDataSetFromMatrix(countData = mtx2,\n",
    "                              colData = md,\n",
    "                              design= ~ CellType + TimePoint + Disease) "
   ]
  },
  {
   "cell_type": "code",
   "execution_count": null,
   "id": "61ba9dbf",
   "metadata": {},
   "outputs": [],
   "source": [
    "keep <- rowSums(counts(dds) >= 10) >= 3\n",
    "dds <- dds[keep,]"
   ]
  },
  {
   "cell_type": "code",
   "execution_count": null,
   "id": "09afefe5",
   "metadata": {},
   "outputs": [],
   "source": [
    "# Run the DESeq2 algorithm, which will give us the differentially expressed genes\n",
    "dds <- DESeq(dds)\n",
    "dds"
   ]
  },
  {
   "cell_type": "code",
   "execution_count": null,
   "id": "aec67553",
   "metadata": {},
   "outputs": [],
   "source": [
    "res <- results(dds)"
   ]
  },
  {
   "cell_type": "code",
   "execution_count": null,
   "id": "c3f241c2",
   "metadata": {},
   "outputs": [],
   "source": [
    "res <- results(dds, contrast=c(\"Disease\", \"Dia\",\"Ctrl\"))"
   ]
  },
  {
   "cell_type": "code",
   "execution_count": null,
   "id": "856d6e22",
   "metadata": {},
   "outputs": [],
   "source": []
  },
  {
   "cell_type": "code",
   "execution_count": null,
   "id": "aec0d058",
   "metadata": {},
   "outputs": [],
   "source": [
    "counts_all <- counts(dds, normalized=TRUE)\n",
    "counts_all <- counts_all %>% as.data.frame "
   ]
  },
  {
   "cell_type": "code",
   "execution_count": null,
   "id": "ef3e94a5",
   "metadata": {
    "scrolled": true
   },
   "outputs": [],
   "source": [
    "md$sample  <- gsub(md$sample, pattern = \"10.\", replacement = \"10_\")"
   ]
  },
  {
   "cell_type": "code",
   "execution_count": null,
   "id": "7a43c643",
   "metadata": {},
   "outputs": [],
   "source": [
    "mtx_kallionpaa  <- counts_all"
   ]
  },
  {
   "cell_type": "code",
   "execution_count": null,
   "id": "daa938b1",
   "metadata": {},
   "outputs": [],
   "source": [
    "md_kallionpaa  <- md"
   ]
  },
  {
   "cell_type": "code",
   "execution_count": null,
   "id": "e076ccdf",
   "metadata": {},
   "outputs": [],
   "source": [
    "md$sample == colnames(counts_all)"
   ]
  },
  {
   "cell_type": "code",
   "execution_count": null,
   "id": "bbc60099",
   "metadata": {
    "scrolled": true
   },
   "outputs": [],
   "source": [
    "counts_all2 <- counts_all %>% rownames_to_column(\"gene\")  %>% \n",
    "pivot_longer(!gene, names_to = \"sample\") %>% \n",
    "mutate(sample = gsub(sample, pattern = \"10_1_\", replacement = \"10.1_\"))  %>% \n",
    "mutate(sample = gsub(sample, pattern = \"10_2_\", replacement = \"10.2_\"))  %>% \n",
    "left_join(md)\n",
    "counts_all2"
   ]
  },
  {
   "cell_type": "code",
   "execution_count": null,
   "id": "76115c3e",
   "metadata": {},
   "outputs": [],
   "source": [
    "hla  <- read_delim(\"../data/published_data/Kallionpaa_2019/genotypes.tsv\")"
   ]
  },
  {
   "cell_type": "code",
   "execution_count": null,
   "id": "1c0a2328",
   "metadata": {},
   "outputs": [],
   "source": [
    "hla2  <- hla  %>% \n",
    "mutate(sample = gsub(subject, pattern = \"10_1_\", replacement = \"10.1_\"))  %>% \n",
    "mutate(sample = gsub(sample, pattern = \"10_2_\", replacement = \"10.2_\"))  %>% \n",
    "separate(sample, into = c(\"Sample_ID\",\"Patient_ID\",\"TimePoint\",\"CellType\",\"Index\"), sep = \"_\", remove = F)"
   ]
  },
  {
   "cell_type": "code",
   "execution_count": null,
   "id": "616dd587",
   "metadata": {
    "scrolled": true
   },
   "outputs": [],
   "source": [
    "hla3  <- hla2  %>% filter(CellType == \"PBMC\")  %>% group_by(Patient_ID)  %>% \n",
    "slice_head(n = 1)  %>% mutate(dq2 = ifelse((DQA11 == \"DQA1*05:01:01\" | DQA12 == \"DQA1*05:01:01\") &\n",
    "                                   (DQB11 == \"DQB1*02:01:01\" | DQB12 == \"DQB1*02:01:01\"),\"DQ2\",\n",
    "                                   \"Other\"),\n",
    "                      dq8 = ifelse((DQA11 == \"DQA1*03:01:01\" | DQA12 == \"DQA1*03:01:01\") &\n",
    "                                   (DQB11 == \"DQB1*03:02:01\" | DQB12 == \"DQB1*03:02:01\"),\"DQ8\",\n",
    "                                   \"Other\"))  %>% mutate(\n",
    "                      dq2_8 = ifelse(dq2 == \"DQ2\" & dq8 == \"DQ8\",\"DQ2_8\",\n",
    "                                     ifelse(dq2 == \"DQ2\",\"DQ2\", ifelse(dq8 == \"DQ8\",\"DQ8\",\"Other\"))))  %>% \n",
    "mutate(c7_01 = ifelse((C1 == \"C*07:01:01\" & C2 == \"C*07:01:01\"), \"c7_01_hom\",\n",
    "                                   ifelse(C1 == \"C*07:01:01\" | C2 == \"C*07:01:01\",\"c7_01_het\",\n",
    "                                   \"Other\")),\n",
    "                      b8_01 = ifelse((B1 == \"B*08:01:01\" & B2 == \"B*08:01:01\"), \"b8_01_hom\",\n",
    "                                   ifelse(B1 == \"B*08:01:01\" | B2 == \"B*08:01:01\",\"b8_01_het\",\n",
    "                                   \"Other\")))   %>% mutate(\n",
    "                      c7_b8 = ifelse(b8_01 == \"b8_01_hom\" & c7_01 == \"c7_01_hom\",\n",
    "                                     \"c7_b8_hom\", ifelse(c7_01 == \"c7_01_hom\", \"c7_01_hom\",\n",
    "                              ifelse(b8_01 == \"b8_01_hom\", \"b8_01_hom\", \n",
    "                              ifelse(b8_01 == \"b8_01_het\" & c7_01 == \"c7_01_het\",\n",
    "                                     \"c7_b8_het\", \n",
    "                                     \n",
    "                              ifelse(b8_01 == \"b8_01_het\", \"b8_01_het\", \n",
    "                              ifelse(c7_01 == \"c7_01_het\", \"c7_01_het\", \"Other\" ))))))) %>%\n",
    "dplyr::select(Patient_ID, dq2_8, c7_b8)"
   ]
  },
  {
   "cell_type": "code",
   "execution_count": null,
   "id": "6f0d1069",
   "metadata": {},
   "outputs": [],
   "source": [
    "hla3  <- hla3  %>% mutate(Patient_ID = gsub(Patient_ID, pattern = \"Ctrll\", replacement = \"Control\"))  %>% \n",
    "mutate(Patient_ID = gsub(Patient_ID, pattern = \"Ctrl\", replacement = \"Control\"))  %>% unique"
   ]
  },
  {
   "cell_type": "code",
   "execution_count": null,
   "id": "0229fe76",
   "metadata": {},
   "outputs": [],
   "source": [
    "counts_all3  <- counts_all2  %>% left_join(hla3)"
   ]
  },
  {
   "cell_type": "code",
   "execution_count": null,
   "id": "2af9835c",
   "metadata": {},
   "outputs": [],
   "source": [
    "#write.csv(counts_all3, \"table_shiny_41BB_2.csv\")\n",
    "\n",
    "options(repr.plot.width = 5, repr.plot.height = 4)\n",
    "\n",
    "plot_bulk <- function(gene2){\n",
    "    df <- counts_all3 %>% dplyr::filter(gene == gene2)\n",
    " p  <-  df %>% mutate(CellType_Disease = paste(CellType, Disease))  %>% \n",
    "    ggplot(aes(x = CellType_Disease, y = value)) + \n",
    "geom_boxplot(outlier.shape = NA, aes(color = Disease)) +\n",
    " geom_dotplot(binaxis='y', stackdir='center', dotsize=0) + \n",
    "    geom_jitter(shape=16, position=position_jitter(0.05), aes(colour = Disease)) \n",
    "    return(p)\n",
    "  }"
   ]
  },
  {
   "cell_type": "code",
   "execution_count": null,
   "id": "34870983",
   "metadata": {},
   "outputs": [],
   "source": [
    "\n",
    "plot_bulk2 <- function(gene2){\n",
    "    options(repr.plot.width = 7, repr.plot.height = 4)\n",
    "    df <- counts_all3 %>% dplyr::filter(gene == gene2)\n",
    " p  <-  df %>% mutate(CellType_Disease = paste(CellType, Disease))  %>% \n",
    "    ggplot(aes(x = dq2_8, y = value)) + \n",
    "geom_boxplot(outlier.shape = NA, aes(color = dq2_8)) +\n",
    " geom_dotplot(binaxis='y', stackdir='center', dotsize=0) + \n",
    "    geom_jitter(shape=16, position=position_jitter(0.05), aes(colour = Disease)) +\n",
    "    facet_wrap(~CellType)\n",
    "    return(p)\n",
    "  }"
   ]
  },
  {
   "cell_type": "code",
   "execution_count": null,
   "id": "566cd18f",
   "metadata": {},
   "outputs": [],
   "source": [
    "plot_bulk2(\"BTN3A2\")"
   ]
  },
  {
   "cell_type": "code",
   "execution_count": null,
   "id": "b69f22fa",
   "metadata": {},
   "outputs": [],
   "source": [
    "plot_bulk3 <- function(gene2){\n",
    "    options(repr.plot.width = 7, repr.plot.height = 4)\n",
    "    df <- counts_all3 %>% dplyr::filter(gene == gene2)\n",
    " p  <-  df %>% mutate(CellType_Disease = paste(CellType, Disease))  %>% \n",
    "    ggplot(aes(x = c7_b8, y = value)) + \n",
    "geom_boxplot(outlier.shape = NA) +\n",
    "    ggnewscale::new_scale_colour()+\n",
    " geom_dotplot(binaxis='y', stackdir='center', dotsize=0) + \n",
    "    geom_jitter(shape=16, position=position_jitter(0.1), size = 2, aes(colour = Disease)) +\n",
    "    facet_wrap(~CellType)\n",
    "    return(p)\n",
    "  }"
   ]
  },
  {
   "cell_type": "code",
   "execution_count": null,
   "id": "64cefe7b",
   "metadata": {},
   "outputs": [],
   "source": [
    "write.csv(counts_all3, \"../data/published_data/Kallionpaa_2019/bulk_seq_counts_with_md.csv\")"
   ]
  },
  {
   "cell_type": "code",
   "execution_count": null,
   "id": "fd590928",
   "metadata": {},
   "outputs": [],
   "source": [
    "counts_all3  <- read_csv( \"../data/published_data/Kallionpaa_2019/bulk_seq_counts_with_md.csv\")"
   ]
  },
  {
   "cell_type": "code",
   "execution_count": null,
   "id": "225abc0f",
   "metadata": {},
   "outputs": [],
   "source": [
    "plot_bulk3(\"BTN3A2\")"
   ]
  },
  {
   "cell_type": "code",
   "execution_count": null,
   "id": "6dcc898f",
   "metadata": {},
   "outputs": [],
   "source": [
    "plot_bulk(\"SOCS3\")"
   ]
  },
  {
   "cell_type": "code",
   "execution_count": null,
   "id": "8c08108f",
   "metadata": {},
   "outputs": [],
   "source": [
    "df <- counts_all3 %>% dplyr::filter(gene == gene)\n",
    "  df %>% mutate(CellType_Disease = paste(CellType, Disease))  %>% \n",
    "    ggplot(aes(x = Disease, y = value)) + \n",
    " geom_dotplot(binaxis='y', stackdir='center', dotsize=0) + \n",
    "    geom_jitter(shape=16, position=position_jitter(0.05), aes(colour = CellType)) "
   ]
  },
  {
   "cell_type": "code",
   "execution_count": null,
   "id": "0d624ac5",
   "metadata": {},
   "outputs": [],
   "source": [
    " options(repr.plot.width = 5, repr.plot.height = 4)\n",
    " df %>% mutate(CellType_Disease = paste(CellType, Disease))  %>% \n",
    "    ggplot(aes(x = CellType_Disease, y = value)) + \n",
    "geom_boxplot(outlier.shape = NA, aes(color = Disease)) +\n",
    " geom_dotplot(binaxis='y', stackdir='center', dotsize=0) + \n",
    "    geom_jitter(shape=16, position=position_jitter(0.05), aes(colour = Disease)) "
   ]
  },
  {
   "cell_type": "code",
   "execution_count": null,
   "id": "d23b040a",
   "metadata": {},
   "outputs": [],
   "source": [
    "plot_bulk2 <- function(gene){\n",
    "    df <- counts_all3 %>% dplyr::filter(gene == gene)\n",
    "  df %>% mutate(CellType_Disease = paste(CellType, Disease))  %>% \n",
    "    group_by(Patient_ID)  %>% \n",
    "    summarise(sum = )\n",
    "    ggplot(aes(x = Disease, y = value)) + \n",
    " geom_dotplot(binaxis='y', stackdir='center', dotsize=0) + \n",
    "    geom_jitter(shape=16, position=position_jitter(0.05), aes(colour = CellType)) \n",
    "  }"
   ]
  },
  {
   "cell_type": "code",
   "execution_count": null,
   "id": "0a7509b7",
   "metadata": {},
   "outputs": [],
   "source": [
    "options(repr.plot.width = 5, repr.plot.height = 4)\n",
    "\n",
    "plot_bulk2(\"BTN3A2\")"
   ]
  },
  {
   "cell_type": "markdown",
   "id": "bd016867",
   "metadata": {},
   "source": [
    "# HPAP"
   ]
  },
  {
   "cell_type": "markdown",
   "id": "ea5a6563",
   "metadata": {},
   "source": [
    "Data from HPAP were preprocessed earlier in part 20 of this manual. "
   ]
  },
  {
   "cell_type": "code",
   "execution_count": null,
   "id": "3fb81b8b",
   "metadata": {},
   "outputs": [],
   "source": [
    "hpap  <- readRDS(\"../../240617_VN_Diabetes_V06/data/published_data/HPAP/hpap_5p_t_nk_filt.rds\")"
   ]
  },
  {
   "cell_type": "code",
   "execution_count": null,
   "id": "ad1ed267",
   "metadata": {},
   "outputs": [],
   "source": [
    "DimPlot(hpap, raster = T)"
   ]
  },
  {
   "cell_type": "code",
   "execution_count": null,
   "id": "f259d1de",
   "metadata": {},
   "outputs": [],
   "source": [
    "hpap  <- FindClusters(hpap, resolution = 1)"
   ]
  },
  {
   "cell_type": "code",
   "execution_count": null,
   "id": "c2d9faa6",
   "metadata": {},
   "outputs": [],
   "source": [
    "DimPlot(hpap, raster = T, label = T)"
   ]
  },
  {
   "cell_type": "markdown",
   "id": "8ad072c7",
   "metadata": {},
   "source": [
    "Add patient IDs. "
   ]
  },
  {
   "cell_type": "code",
   "execution_count": null,
   "id": "615f64de",
   "metadata": {},
   "outputs": [],
   "source": [
    "hpap$Patient_ID  <- substr(hpap$source, 1,7)"
   ]
  },
  {
   "cell_type": "code",
   "execution_count": null,
   "id": "2e7ea2d9",
   "metadata": {},
   "outputs": [],
   "source": [
    "hpap$Patient_ID  %>% table"
   ]
  },
  {
   "cell_type": "markdown",
   "id": "442be988",
   "metadata": {},
   "source": [
    "Read and merge metadata. "
   ]
  },
  {
   "cell_type": "code",
   "execution_count": null,
   "id": "649685d4",
   "metadata": {
    "scrolled": true
   },
   "outputs": [],
   "source": [
    "patient_metadata  <- read_delim(\"../../../DATA_scRNAseq/Analysis_of_previously_published_data//069_HPANCDB_Immune_TCRseq/hpap_medatata.csv\")"
   ]
  },
  {
   "cell_type": "code",
   "execution_count": null,
   "id": "062dcaec",
   "metadata": {},
   "outputs": [],
   "source": [
    "patient_metadata2  <- patient_metadata  %>% dplyr::select(donor_ID, gender, age_years, clinical_diagnosis)  %>% \n",
    "mutate(Patient_ID = gsub(donor_ID, pattern = \"-\", replacement = \"\")) %>% \n",
    "mutate(Disease = ifelse(grepl(clinical_diagnosis, pattern = \"control\"),\"Ctrl\",\"Dia\"))"
   ]
  },
  {
   "cell_type": "code",
   "execution_count": null,
   "id": "f56ec5f6",
   "metadata": {},
   "outputs": [],
   "source": [
    "md  <- hpap@meta.data  %>% left_join(patient_metadata2)"
   ]
  },
  {
   "cell_type": "code",
   "execution_count": null,
   "id": "8cc8daea",
   "metadata": {},
   "outputs": [],
   "source": [
    "rownames(md)  <- colnames(hpap)"
   ]
  },
  {
   "cell_type": "code",
   "execution_count": null,
   "id": "e2c5cdb5",
   "metadata": {},
   "outputs": [],
   "source": [
    "hpap@meta.data  <- md\n",
    "#rownames(hpap@meta.data)  <- colnames(hpap)"
   ]
  },
  {
   "cell_type": "code",
   "execution_count": null,
   "id": "2f49d383",
   "metadata": {},
   "outputs": [],
   "source": [
    "DimPlot(hpap, raster = T, label = T, group.by = \"Disease\")"
   ]
  },
  {
   "cell_type": "code",
   "execution_count": null,
   "id": "41d1a8c3",
   "metadata": {},
   "outputs": [],
   "source": [
    "DimPlot(hpap, raster = T, label = T, group.by = \"source\")"
   ]
  },
  {
   "cell_type": "code",
   "execution_count": null,
   "id": "0fcc71a8",
   "metadata": {},
   "outputs": [],
   "source": [
    "hpap@meta.data  <- hpap@meta.data %>% \n",
    "separate(source, into = c(NA, \"Tissue\", NA, NA, \"Run\", NA, NA), remove = F, sep = \"_\")"
   ]
  },
  {
   "cell_type": "code",
   "execution_count": null,
   "id": "79014b10",
   "metadata": {},
   "outputs": [],
   "source": [
    "hpap$Tissue2  <- ifelse(grepl(hpap$Tissue, pattern = \"LN\"),\"LN\",\"SPL\")"
   ]
  },
  {
   "cell_type": "markdown",
   "id": "1a05e383",
   "metadata": {},
   "source": [
    "Creaate aggregated matrix. "
   ]
  },
  {
   "cell_type": "code",
   "execution_count": null,
   "id": "704255a3",
   "metadata": {},
   "outputs": [],
   "source": [
    "avgexp = AverageExpression(hpap, features = c(\"BTN3A2\", \"IL32\", \"CXCR4\", \"NFKBIA\", \"GADD45B\",\n",
    "                                              \"IER2\", \"GZMB\", \"GIMAP5\",\"GIMAP7\",\"RBM3\"),\n",
    "                           return.seurat = F, group.by = \"Patient_ID\", \n",
    "                          assay = \"RNA\")\n",
    "\n",
    "expression_matrix  <- t(avgexp$RNA)  %>% as.data.frame()  %>% \n",
    "rownames_to_column(\"Patient_ID\")  %>% \n",
    "left_join(patient_metadata2)"
   ]
  },
  {
   "cell_type": "code",
   "execution_count": null,
   "id": "7990f069",
   "metadata": {},
   "outputs": [],
   "source": [
    "hpap_ln  <- subset(hpap, Tissue2 == \"LN\")\n",
    "hpap_spl  <- subset(hpap, Tissue2 == \"SPL\")"
   ]
  },
  {
   "cell_type": "code",
   "execution_count": null,
   "id": "d481d223",
   "metadata": {},
   "outputs": [],
   "source": [
    "Idents(hpap_ln)  <- hpap_ln$Disease\n",
    "Idents(hpap_spl)  <- hpap_spl$Disease\n"
   ]
  },
  {
   "cell_type": "markdown",
   "id": "9ef123a9",
   "metadata": {},
   "source": [
    "Calculate log fold changes. "
   ]
  },
  {
   "cell_type": "code",
   "execution_count": null,
   "id": "92ff829c",
   "metadata": {},
   "outputs": [],
   "source": [
    "fc_hpap_ln  <- FoldChange(hpap_ln,  `ident.1` = \"Dia\", `ident.2` = \"Ctrl\",\n",
    "                      slot = \"data\")\n",
    "    fc_hpap_ln$Study_CellType = 'HPAP LN'"
   ]
  },
  {
   "cell_type": "code",
   "execution_count": null,
   "id": "65d8516f",
   "metadata": {},
   "outputs": [],
   "source": [
    "    fc_hpap_ln$decile = ntile(fc_hpap_ln$avg_log2FC, 20)\n",
    "    fc_hpap_ln$gene  <- rownames(fc_hpap_ln)"
   ]
  },
  {
   "cell_type": "code",
   "execution_count": null,
   "id": "ef74d496",
   "metadata": {},
   "outputs": [],
   "source": [
    "fc_hpap_spl  <- FoldChange(hpap_spl,  `ident.1` = \"Dia\", `ident.2` = \"Ctrl\",\n",
    "                      slot = \"data\")\n",
    "    fc_hpap_spl$Study_CellType = 'HPAP Spleen'"
   ]
  },
  {
   "cell_type": "code",
   "execution_count": null,
   "id": "5efa8775",
   "metadata": {},
   "outputs": [],
   "source": [
    "    fc_hpap_spl$decile = ntile(fc_hpap_spl$avg_log2FC, 20)\n",
    "    fc_hpap_spl$gene  <- rownames(fc_hpap_spl)"
   ]
  },
  {
   "cell_type": "code",
   "execution_count": null,
   "id": "8c454cc5",
   "metadata": {},
   "outputs": [],
   "source": [
    "colnames(hpap@meta.data)\n",
    "\n",
    "hpap$Patient_ID  <- substr(hpap$source, 1,7)\n",
    "\n",
    "patient_metadata  <- read_delim(\"../../../DATA_scRNAseq/Analysis_of_previously_published_data/069_HPANCDB_Immune_TCRseq/hpap_medatata.csv\")\n",
    "\n",
    "patient_metadata2  <- patient_metadata  %>% dplyr::select(donor_ID, gender, age_years, clinical_diagnosis,\n",
    "                                                         disease_duration)  %>% \n",
    "mutate(Patient_ID = gsub(donor_ID, pattern = \"-\", replacement = \"\")) %>% \n",
    "mutate(Disease = ifelse(grepl(clinical_diagnosis, pattern = \"control\"),\"Ctrl\",\"Dia\"))\n",
    "\n",
    "md  <- hpap@meta.data  %>% left_join(patient_metadata2)\n",
    "\n",
    "colnames(md)\n",
    "\n",
    "md$Patient_ID  %>% table"
   ]
  },
  {
   "cell_type": "code",
   "execution_count": null,
   "id": "4d20086c",
   "metadata": {},
   "outputs": [],
   "source": [
    "md$source  %>% table"
   ]
  },
  {
   "cell_type": "code",
   "execution_count": null,
   "id": "346f7868",
   "metadata": {},
   "outputs": [],
   "source": [
    "md  <- md %>% \n",
    "separate(source, into = c(NA, \"Tissue\", NA, NA, \"Run\", NA, NA), remove = F, sep = \"_\")"
   ]
  },
  {
   "cell_type": "code",
   "execution_count": null,
   "id": "25216f99",
   "metadata": {},
   "outputs": [],
   "source": [
    "md$Study  <- \"HPAP\""
   ]
  },
  {
   "cell_type": "code",
   "execution_count": null,
   "id": "9b545d2f",
   "metadata": {},
   "outputs": [],
   "source": [
    "hpap@meta.data  <- md  %>% \n",
    "dplyr::select(\n",
    "orig.ident,\n",
    "nCount_RNA, \n",
    "nFeature_RNA,\n",
    "percent.mt,\n",
    "Batch = Run,\n",
    "Tissue = Tissue,\n",
    "Sample_ID = source,\n",
    "Patient_ID = Patient_ID,\n",
    "Sex = gender,\n",
    "Age = age_years,\n",
    "Disease = Disease,\n",
    "Study,\n",
    "Disease_Duration = disease_duration,\n",
    ")\n",
    "\n",
    "rownames(hpap@meta.data)  <- colnames(hpap)"
   ]
  },
  {
   "cell_type": "code",
   "execution_count": null,
   "id": "2aea22ca",
   "metadata": {},
   "outputs": [],
   "source": [
    "hpap$Tissue  %>% table"
   ]
  },
  {
   "cell_type": "code",
   "execution_count": null,
   "id": "3670f4d2",
   "metadata": {},
   "outputs": [],
   "source": [
    "hpap$Patient_ID_Tissue  <- paste(hpap$Patient_ID, hpap$Tissue)"
   ]
  },
  {
   "cell_type": "code",
   "execution_count": null,
   "id": "ec7e4e76",
   "metadata": {},
   "outputs": [],
   "source": [
    "avgexp = AggregateExpression(hpap, return.seurat = T, group.by = \"Patient_ID_Tissue\", \n",
    "                          assay = \"RNA\")"
   ]
  },
  {
   "cell_type": "code",
   "execution_count": null,
   "id": "924652cc",
   "metadata": {},
   "outputs": [],
   "source": [
    "avgexp  <- NormalizeData(avgexp)\n",
    "avgexp  <- ScaleData(avgexp)\n"
   ]
  },
  {
   "cell_type": "code",
   "execution_count": null,
   "id": "ab99e186",
   "metadata": {},
   "outputs": [],
   "source": [
    "mtx_seurat  <- avgexp@assays$RNA@layers$scale.data"
   ]
  },
  {
   "cell_type": "code",
   "execution_count": null,
   "id": "a58869cf",
   "metadata": {},
   "outputs": [],
   "source": [
    "rownames(mtx_seurat)  <- rownames(avgexp@assays$RNA)\n",
    "colnames(mtx_seurat)  <- colnames(avgexp)"
   ]
  },
  {
   "cell_type": "code",
   "execution_count": null,
   "id": "82c04ab6",
   "metadata": {},
   "outputs": [],
   "source": [
    "expression_matrix  <- t(mtx_seurat)  %>% \n",
    "as.data.frame()  %>% \n",
    "rownames_to_column(\"Patient_ID\")  "
   ]
  },
  {
   "cell_type": "code",
   "execution_count": null,
   "id": "4800569d",
   "metadata": {
    "scrolled": true
   },
   "outputs": [],
   "source": [
    "expression_matrix2  <- expression_matrix[,which(!(grepl(colnames(expression_matrix), pattern = \"MT-\")|\n",
    "             grepl(colnames(expression_matrix), pattern = \"\\\\.\")|\n",
    "             grepl(colnames(expression_matrix), pattern = \"^MIR\")|\n",
    "             grepl(colnames(expression_matrix), pattern = \"-AS\")|\n",
    "             grepl(colnames(expression_matrix), pattern = \"LINC\")|\n",
    "             grepl(colnames(expression_matrix), pattern = \"ORF\")|\n",
    "             grepl(colnames(expression_matrix), pattern = \"^TR[AB]\")|\n",
    "             grepl(colnames(expression_matrix), pattern = \"^RP[LS]\")) )]"
   ]
  },
  {
   "cell_type": "code",
   "execution_count": null,
   "id": "3f13956b",
   "metadata": {},
   "outputs": [],
   "source": [
    "ncol(expression_matrix2)"
   ]
  },
  {
   "cell_type": "code",
   "execution_count": null,
   "id": "de67a268",
   "metadata": {},
   "outputs": [],
   "source": [
    "expression_matrix2"
   ]
  },
  {
   "cell_type": "code",
   "execution_count": null,
   "id": "330ca41a",
   "metadata": {},
   "outputs": [],
   "source": [
    "expression_matrix3  <- expression_matrix2  %>% column_to_rownames(\"Patient_ID\")  %>% \n",
    "t()  %>% as.matrix()"
   ]
  },
  {
   "cell_type": "code",
   "execution_count": null,
   "id": "c47aabf1",
   "metadata": {
    "scrolled": true
   },
   "outputs": [],
   "source": [
    "expression_matrix3"
   ]
  },
  {
   "cell_type": "code",
   "execution_count": null,
   "id": "b2847770",
   "metadata": {},
   "outputs": [],
   "source": [
    "mtx_hpap  <- expression_matrix3"
   ]
  },
  {
   "cell_type": "code",
   "execution_count": null,
   "id": "4e5fc702",
   "metadata": {},
   "outputs": [],
   "source": [
    "md_hpap  <- data.frame(Patient_ID_Tissue = colnames(expression_matrix3))"
   ]
  },
  {
   "cell_type": "code",
   "execution_count": null,
   "id": "d0529a6f",
   "metadata": {},
   "outputs": [],
   "source": [
    "md_hpap  <- md_hpap  %>% separate(Patient_ID_Tissue, \n",
    "                                  into = c(\"Patient_ID\", \"Tissue\"), \n",
    "                                 sep = \" \", remove = F)"
   ]
  },
  {
   "cell_type": "code",
   "execution_count": null,
   "id": "e8457bce",
   "metadata": {
    "scrolled": true
   },
   "outputs": [],
   "source": [
    "md_hpap"
   ]
  },
  {
   "cell_type": "code",
   "execution_count": null,
   "id": "97ac834b",
   "metadata": {},
   "outputs": [],
   "source": [
    "md  <- hpap@meta.data %>% \n",
    "dplyr::select(\n",
    "Patient_ID,\n",
    "Sex,\n",
    "Age,\n",
    "Disease,\n",
    "Study,\n",
    "Disease_Duration,\n",
    ")  %>% unique\n"
   ]
  },
  {
   "cell_type": "code",
   "execution_count": null,
   "id": "df30e7b3",
   "metadata": {
    "scrolled": true
   },
   "outputs": [],
   "source": [
    "md"
   ]
  },
  {
   "cell_type": "code",
   "execution_count": null,
   "id": "7b293f61",
   "metadata": {},
   "outputs": [],
   "source": [
    "rownames(md)  <- NULL"
   ]
  },
  {
   "cell_type": "code",
   "execution_count": null,
   "id": "5cf8fb6b",
   "metadata": {},
   "outputs": [],
   "source": [
    "rownames(md)"
   ]
  },
  {
   "cell_type": "code",
   "execution_count": null,
   "id": "6ae895fc",
   "metadata": {},
   "outputs": [],
   "source": [
    "md_hpap  <- md_hpap  %>% left_join(md)"
   ]
  },
  {
   "cell_type": "code",
   "execution_count": null,
   "id": "fe71d2ae",
   "metadata": {},
   "outputs": [],
   "source": [
    "md_hpap$Patient_ID_Tissue == colnames(mtx_hpap)"
   ]
  },
  {
   "cell_type": "code",
   "execution_count": null,
   "id": "04e05622",
   "metadata": {
    "scrolled": true
   },
   "outputs": [],
   "source": [
    "md_hpap"
   ]
  },
  {
   "cell_type": "markdown",
   "id": "643c0229",
   "metadata": {},
   "source": [
    "# Lab48"
   ]
  },
  {
   "cell_type": "markdown",
   "id": "2a8db03f",
   "metadata": {},
   "source": [
    "Load datasets from the current study for comparison with other datasets. "
   ]
  },
  {
   "cell_type": "markdown",
   "id": "f9265dda",
   "metadata": {},
   "source": [
    "## CD4 T cells"
   ]
  },
  {
   "cell_type": "code",
   "execution_count": null,
   "id": "fc4ee158",
   "metadata": {},
   "outputs": [],
   "source": [
    "cd4  <- readRDS(\"../data/processed/L1/cd4_l1_full_filt.rds\")"
   ]
  },
  {
   "cell_type": "code",
   "execution_count": null,
   "id": "b5be30af",
   "metadata": {},
   "outputs": [],
   "source": [
    "avgexp = AggregateExpression(subset(cd4, Experiment_ID %in% c(\"Exp16\",\"Exp18\",\"Exp19\",\"Exp20\")), \n",
    "                             return.seurat = T, group.by = \"Patient_ID\", \n",
    "                          assay = \"RNA\")"
   ]
  },
  {
   "cell_type": "code",
   "execution_count": null,
   "id": "b5e9ec77",
   "metadata": {},
   "outputs": [],
   "source": [
    "avgexp  <- NormalizeData(avgexp)\n",
    "avgexp  <- ScaleData(avgexp)\n"
   ]
  },
  {
   "cell_type": "code",
   "execution_count": null,
   "id": "23ecd308",
   "metadata": {},
   "outputs": [],
   "source": [
    "expression_matrix  <- t(avgexp@assays$RNA@scale.data)  %>% \n",
    "as.data.frame()  %>% \n",
    "rownames_to_column(\"Patient_ID\")  "
   ]
  },
  {
   "cell_type": "code",
   "execution_count": null,
   "id": "b23f60fe",
   "metadata": {
    "scrolled": true
   },
   "outputs": [],
   "source": [
    "expression_matrix"
   ]
  },
  {
   "cell_type": "code",
   "execution_count": null,
   "id": "bf7e68d5",
   "metadata": {},
   "outputs": [],
   "source": [
    "expression_matrix3  <- expression_matrix  %>% column_to_rownames(\"Patient_ID\")  %>% \n",
    "t()  %>% as.matrix()"
   ]
  },
  {
   "cell_type": "code",
   "execution_count": null,
   "id": "298d7918",
   "metadata": {
    "scrolled": true
   },
   "outputs": [],
   "source": [
    "expression_matrix3"
   ]
  },
  {
   "cell_type": "code",
   "execution_count": null,
   "id": "a8a17399",
   "metadata": {},
   "outputs": [],
   "source": [
    "mtx_lab48_cd4  <- expression_matrix3"
   ]
  },
  {
   "cell_type": "code",
   "execution_count": null,
   "id": "a738bfa5",
   "metadata": {},
   "outputs": [],
   "source": [
    "md_lab48_cd4  <- data.frame(Patient_ID = colnames(expression_matrix3))"
   ]
  },
  {
   "cell_type": "code",
   "execution_count": null,
   "id": "e7a0d528",
   "metadata": {},
   "outputs": [],
   "source": [
    "md  <- cd4@meta.data %>% \n",
    "dplyr::select(\n",
    "Patient_ID,\n",
    "Sex,\n",
    "Age,\n",
    "Disease\n",
    ")  %>% unique\n"
   ]
  },
  {
   "cell_type": "code",
   "execution_count": null,
   "id": "6be8f42e",
   "metadata": {},
   "outputs": [],
   "source": [
    "md$Study  <- \"Lab48\"\n",
    "md$cell_type  <- \"CD4\""
   ]
  },
  {
   "cell_type": "code",
   "execution_count": null,
   "id": "5b569124",
   "metadata": {},
   "outputs": [],
   "source": [
    "md_lab48_cd4  <- left_join(md_lab48_cd4, md)"
   ]
  },
  {
   "cell_type": "code",
   "execution_count": null,
   "id": "a21dcb2c",
   "metadata": {},
   "outputs": [],
   "source": [
    "colnames(mtx_lab48_cd4)  <- paste(\"CD4\", colnames(mtx_lab48_cd4))"
   ]
  },
  {
   "cell_type": "code",
   "execution_count": null,
   "id": "f155b587",
   "metadata": {},
   "outputs": [],
   "source": [
    "md_lab48_cd4$Sample_ID  <- paste(\"CD4\", md_lab48_cd4$Patient_ID)"
   ]
  },
  {
   "cell_type": "markdown",
   "id": "1b2dd777",
   "metadata": {},
   "source": [
    "## CD8 T cells"
   ]
  },
  {
   "cell_type": "code",
   "execution_count": null,
   "id": "a95f6147",
   "metadata": {},
   "outputs": [],
   "source": [
    "cd8  <- readRDS(\"../data/processed/L2/cd8_l2_subcluster.rds\")"
   ]
  },
  {
   "cell_type": "code",
   "execution_count": null,
   "id": "aa29517b",
   "metadata": {},
   "outputs": [],
   "source": [
    "avgexp = AggregateExpression(subset(cd8, Experiment_ID %in% c(\"Exp16\",\"Exp18\",\"Exp19\",\"Exp20\")), \n",
    "                             return.seurat = T, group.by = \"Patient_ID\", \n",
    "                          assay = \"RNA\")"
   ]
  },
  {
   "cell_type": "code",
   "execution_count": null,
   "id": "f8d7765e",
   "metadata": {},
   "outputs": [],
   "source": [
    "avgexp  <- NormalizeData(avgexp)\n",
    "avgexp  <- ScaleData(avgexp)\n"
   ]
  },
  {
   "cell_type": "code",
   "execution_count": null,
   "id": "ff6c8960",
   "metadata": {},
   "outputs": [],
   "source": [
    "expression_matrix  <- t(avgexp@assays$RNA@scale.data)  %>% \n",
    "as.data.frame()  %>% \n",
    "rownames_to_column(\"Patient_ID\")  "
   ]
  },
  {
   "cell_type": "code",
   "execution_count": null,
   "id": "e54b7da3",
   "metadata": {},
   "outputs": [],
   "source": [
    "expression_matrix3  <- expression_matrix  %>% column_to_rownames(\"Patient_ID\")  %>% \n",
    "t()  %>% as.matrix()"
   ]
  },
  {
   "cell_type": "code",
   "execution_count": null,
   "id": "bf5a74b8",
   "metadata": {},
   "outputs": [],
   "source": [
    "mtx_lab48_cd8  <- expression_matrix3"
   ]
  },
  {
   "cell_type": "code",
   "execution_count": null,
   "id": "ec34cffc",
   "metadata": {},
   "outputs": [],
   "source": [
    "md_lab48_cd8  <- data.frame(Patient_ID = colnames(expression_matrix3))"
   ]
  },
  {
   "cell_type": "code",
   "execution_count": null,
   "id": "9f4cc6a6",
   "metadata": {},
   "outputs": [],
   "source": [
    "md  <- cd8@meta.data %>% \n",
    "dplyr::select(\n",
    "Patient_ID,\n",
    "Sex,\n",
    "Age,\n",
    "Disease\n",
    ")  %>% unique\n"
   ]
  },
  {
   "cell_type": "code",
   "execution_count": null,
   "id": "8b355b57",
   "metadata": {},
   "outputs": [],
   "source": [
    "md$Study  <- \"Lab48\"\n",
    "md$cell_type  <- \"CD8\""
   ]
  },
  {
   "cell_type": "code",
   "execution_count": null,
   "id": "0bdfd4b3",
   "metadata": {},
   "outputs": [],
   "source": [
    "md_lab48_cd8  <- left_join(md_lab48_cd8, md)"
   ]
  },
  {
   "cell_type": "markdown",
   "id": "062daf11",
   "metadata": {},
   "source": [
    "# Honardoost"
   ]
  },
  {
   "cell_type": "code",
   "execution_count": null,
   "id": "b2c5a981",
   "metadata": {},
   "outputs": [],
   "source": [
    "honar  <- readRDS(\"../../240617_VN_Diabetes_V06/data/published_data/Honardoost_2024/honar2_stacas_filt.rds\")"
   ]
  },
  {
   "cell_type": "code",
   "execution_count": null,
   "id": "920ae6f1",
   "metadata": {},
   "outputs": [],
   "source": [
    "DimPlot(honar, group.by = \"Patient_ID\")"
   ]
  },
  {
   "cell_type": "code",
   "execution_count": null,
   "id": "467ccb85",
   "metadata": {},
   "outputs": [],
   "source": [
    "DimPlot(honar, group.by = \"Disease\")"
   ]
  },
  {
   "cell_type": "code",
   "execution_count": null,
   "id": "1949afb0",
   "metadata": {},
   "outputs": [],
   "source": [
    "Idents(honar)  <- honar$Disease"
   ]
  },
  {
   "cell_type": "code",
   "execution_count": null,
   "id": "4f7171a0",
   "metadata": {},
   "outputs": [],
   "source": [
    "fc_honar  <- FoldChange(honar,  `ident.1` = \"T1D\", `ident.2` = \"H\",\n",
    "                      slot = \"data\")\n",
    "    fc_honar$Study_CellType = 'Honardoost'\n",
    "    fc_honar$decile = ntile(fc_honar$avg_log2FC, 20)\n",
    "    fc_honar$gene  <- rownames(fc_honar)"
   ]
  },
  {
   "cell_type": "code",
   "execution_count": null,
   "id": "b86dc66b",
   "metadata": {},
   "outputs": [],
   "source": [
    "honar@meta.data  %>% \n",
    "group_by(Patient_ID, Disease)  %>% \n",
    "tally  %>% \n",
    "dplyr::select(-n)  %>% \n",
    "group_by(Disease)  %>% \n",
    "tally"
   ]
  },
  {
   "cell_type": "code",
   "execution_count": null,
   "id": "38793820",
   "metadata": {},
   "outputs": [],
   "source": [
    "DefaultAssay(honar)  <- \"RNA\""
   ]
  },
  {
   "cell_type": "code",
   "execution_count": null,
   "id": "d455d441",
   "metadata": {},
   "outputs": [],
   "source": [
    "avgexp = AverageExpression(honar, return.seurat = T, group.by = \"Sample_ID\", \n",
    "                          assay = \"RNA\")\n",
    "\n",
    "\n",
    "Idents(honar)  <- honar$Disease"
   ]
  },
  {
   "cell_type": "code",
   "execution_count": null,
   "id": "ed27a3f2",
   "metadata": {},
   "outputs": [],
   "source": [
    "avgexp"
   ]
  },
  {
   "cell_type": "code",
   "execution_count": null,
   "id": "c7618d84",
   "metadata": {},
   "outputs": [],
   "source": [
    "mtx_honar <- avgexp$RNA\n",
    "md_honar  <- data.frame(Sample_ID = colnames(avgexp$RNA))"
   ]
  },
  {
   "cell_type": "code",
   "execution_count": null,
   "id": "31cc0522",
   "metadata": {},
   "outputs": [],
   "source": [
    "honar$Disease  <- ifelse(honar$Disease == \"T1D\", \"Dia\",\"Ctrl\")"
   ]
  },
  {
   "cell_type": "code",
   "execution_count": null,
   "id": "21433cab",
   "metadata": {},
   "outputs": [],
   "source": [
    "honar$Disease  %>% table"
   ]
  },
  {
   "cell_type": "code",
   "execution_count": null,
   "id": "e5f2b971",
   "metadata": {},
   "outputs": [],
   "source": [
    "md  <- honar@meta.data %>% \n",
    "dplyr::select(\n",
    "Sample_ID,\n",
    "Sex = Gender,\n",
    "Age = Age_at_profiling,\n",
    "Disease\n",
    ")  %>% unique"
   ]
  },
  {
   "cell_type": "code",
   "execution_count": null,
   "id": "a1ab97a9",
   "metadata": {},
   "outputs": [],
   "source": [
    "md$Study  <- \"Honardoost\"\n",
    "md$cell_type  <- \"T cells\"\n",
    "\n",
    "md_honar  <- left_join(md_honar, md)"
   ]
  },
  {
   "cell_type": "code",
   "execution_count": null,
   "id": "bf9fa93c",
   "metadata": {
    "scrolled": true
   },
   "outputs": [],
   "source": [
    "md_honar  %>% arrange(Sample_ID)"
   ]
  },
  {
   "cell_type": "code",
   "execution_count": null,
   "id": "a1dc8cf4",
   "metadata": {},
   "outputs": [],
   "source": [
    "mtx_honar  %>% nrow"
   ]
  },
  {
   "cell_type": "code",
   "execution_count": null,
   "id": "21795080",
   "metadata": {},
   "outputs": [],
   "source": [
    "write.csv(mtx_honar, \"../data/published_data/Honardoost_2024/mtx_honar.csv\")"
   ]
  },
  {
   "cell_type": "code",
   "execution_count": null,
   "id": "182f83f8",
   "metadata": {},
   "outputs": [],
   "source": [
    "write.csv(md_honar, \"../data/published_data/Honardoost_2024/md_honar.csv\")"
   ]
  },
  {
   "cell_type": "markdown",
   "id": "559954db",
   "metadata": {},
   "source": [
    "# Comparison of all datasets"
   ]
  },
  {
   "cell_type": "code",
   "execution_count": null,
   "id": "009ce91d",
   "metadata": {
    "scrolled": true
   },
   "outputs": [],
   "source": [
    "library(data.table)"
   ]
  },
  {
   "cell_type": "code",
   "execution_count": null,
   "id": "7b34c592",
   "metadata": {},
   "outputs": [],
   "source": [
    "dt_mtx_kallionpaa  <- as.data.table(mtx_kallionpaa, keep.rownames = T)\n",
    "dt_mtx_transimmunome  <- as.data.table(mtx_transimmunome, keep.rownames = T)\n",
    "dt_mtx_hpap  <- as.data.table(mtx_hpap, keep.rownames = T)\n",
    "dt_mtx_jailwala <- as.data.table(mtx_jailwala, keep.rownames = T)\n",
    "dt_mtx_newman <- as.data.table(mtx_newman, keep.rownames = T)"
   ]
  },
  {
   "cell_type": "code",
   "execution_count": null,
   "id": "df74d8f6",
   "metadata": {},
   "outputs": [],
   "source": [
    "colnames(mtx_lab48_cd4) = paste(\"CD4\", colnames(mtx_lab48_cd4))\n",
    "colnames(mtx_lab48_cd8) = paste(\"CD8\", colnames(mtx_lab48_cd8))\n"
   ]
  },
  {
   "cell_type": "code",
   "execution_count": null,
   "id": "f1965e72",
   "metadata": {},
   "outputs": [],
   "source": [
    "dt_mtx_48_cd4  <- as.data.table(mtx_lab48_cd4, keep.rownames = T)\n",
    "dt_mtx_48_cd8  <- as.data.table(mtx_lab48_cd8, keep.rownames = T)"
   ]
  },
  {
   "cell_type": "code",
   "execution_count": null,
   "id": "c84c41f3",
   "metadata": {},
   "outputs": [],
   "source": [
    "merged <- merge(dt_mtx_kallionpaa, dt_mtx_transimmunome, by = \"rn\", all = TRUE)"
   ]
  },
  {
   "cell_type": "code",
   "execution_count": null,
   "id": "3c58804d",
   "metadata": {},
   "outputs": [],
   "source": [
    "merged <- merge(merged, dt_mtx_hpap, by = \"rn\", all = TRUE)\n",
    "merged <- merge(merged, dt_mtx_newman, by = \"rn\", all = TRUE)\n",
    "merged <- merge(merged, dt_mtx_jailwala, by = \"rn\", all = TRUE)\n",
    "merged <- merge(merged, dt_mtx_48_cd4, by = \"rn\", all = TRUE)\n",
    "merged <- merge(merged, dt_mtx_48_cd8, by = \"rn\", all = TRUE)"
   ]
  },
  {
   "cell_type": "markdown",
   "id": "af26b964",
   "metadata": {},
   "source": [
    "## Correct and unify metadata"
   ]
  },
  {
   "cell_type": "code",
   "execution_count": null,
   "id": "ea6e573a",
   "metadata": {},
   "outputs": [],
   "source": [
    "md_lab48_cd4$Patient_ID  <- paste(\"CD4\", md_lab48_cd4$Patient_ID)\n",
    "md_lab48_cd8$Patient_ID  <- paste(\"CD8\", md_lab48_cd8$Patient_ID)"
   ]
  },
  {
   "cell_type": "code",
   "execution_count": null,
   "id": "695c2e79",
   "metadata": {
    "scrolled": true
   },
   "outputs": [],
   "source": [
    "md_kallionpaa  <- md_kallionpaa  %>% transmute(\n",
    "Sample_ID = sample, Patient_ID = Patient_ID, \n",
    "Age = TimePoint, CellType = CellType, Disease = Disease)"
   ]
  },
  {
   "cell_type": "code",
   "execution_count": null,
   "id": "83a578c8",
   "metadata": {
    "scrolled": true
   },
   "outputs": [],
   "source": [
    "md_transimmunome  <- md_transimmunome  %>% \n",
    "transmute(\n",
    "Sample_ID = geo_id, Patient_ID = Patient_ID, \n",
    "Disease = Disease)"
   ]
  },
  {
   "cell_type": "code",
   "execution_count": null,
   "id": "ddbb5586",
   "metadata": {
    "scrolled": true
   },
   "outputs": [],
   "source": [
    "md_jailwala2  <- data.frame(geo_id =gset$GSE10586_series_matrix.txt.gz$geo_accession ,\n",
    "                           Age = gset$GSE10586_series_matrix.txt.gz$`characteristics_ch1.4`,\n",
    "Sex = gset$GSE10586_series_matrix.txt.gz$`characteristics_ch1.5`)"
   ]
  },
  {
   "cell_type": "code",
   "execution_count": null,
   "id": "d238ed23",
   "metadata": {
    "scrolled": true
   },
   "outputs": [],
   "source": [
    "md_jailwala2"
   ]
  },
  {
   "cell_type": "code",
   "execution_count": null,
   "id": "c5397388",
   "metadata": {
    "scrolled": true
   },
   "outputs": [],
   "source": [
    "md_jailwala3 <- md_jailwala  %>% left_join(md_jailwala2)  %>% transmute(\n",
    "Sample_ID = geo_id, \n",
    "    Age = gsub(gsub(Age, pattern = \" years\", replacement = \"\"), pattern = \"Age: \", replacement = \"\"),\n",
    "    Sex = ifelse(grepl(Sex, pattern = \"F\"),\"F\",\"M\"),\n",
    "Disease = Disease)"
   ]
  },
  {
   "cell_type": "code",
   "execution_count": null,
   "id": "db4c1e4a",
   "metadata": {
    "scrolled": true
   },
   "outputs": [],
   "source": [
    "md_jailwala3$CellType  <- \"CD4+ CD25+\""
   ]
  },
  {
   "cell_type": "code",
   "execution_count": null,
   "id": "b48580e9",
   "metadata": {},
   "outputs": [],
   "source": [
    "md_transimmunome$CellType  <- \"Whole blood\""
   ]
  },
  {
   "cell_type": "code",
   "execution_count": null,
   "id": "b93270a9",
   "metadata": {
    "scrolled": true
   },
   "outputs": [],
   "source": [
    "gset <- getGEO(\"GSE123658\", GSEMatrix =TRUE, getGPL=TRUE, AnnotGPL=TRUE)"
   ]
  },
  {
   "cell_type": "code",
   "execution_count": null,
   "id": "197de173",
   "metadata": {},
   "outputs": [],
   "source": [
    "test  <-  gset$`GSE123658-GPL20301_series_matrix.txt.gz`"
   ]
  },
  {
   "cell_type": "code",
   "execution_count": null,
   "id": "e6c0ed92",
   "metadata": {},
   "outputs": [],
   "source": [
    "test2  <- gset$`GSE123658-GPL18573_series_matrix.txt.gz`"
   ]
  },
  {
   "cell_type": "code",
   "execution_count": null,
   "id": "caa4684f",
   "metadata": {},
   "outputs": [],
   "source": [
    "md1  <- data.frame(Sample_ID = test$geo_accession,\n",
    "                   Sex = test$`characteristics_ch1.2`,\n",
    "                  Age = substr(test$`characteristics_ch1.3`,6,7))  %>% \n",
    "mutate(Sex = ifelse(grepl(Sex,pattern = \"F\"),\"F\",\"M\"))"
   ]
  },
  {
   "cell_type": "code",
   "execution_count": null,
   "id": "fe50851c",
   "metadata": {},
   "outputs": [],
   "source": [
    "md2  <- data.frame(Sample_ID = test2$geo_accession,\n",
    "                   Sex = test2$`characteristics_ch1.2`,\n",
    "                  Age = substr(test2$`characteristics_ch1.3`,6,7))  %>% \n",
    "mutate(Sex = ifelse(grepl(Sex,pattern = \"F\"),\"F\",\"M\"))"
   ]
  },
  {
   "cell_type": "code",
   "execution_count": null,
   "id": "e11794d9",
   "metadata": {},
   "outputs": [],
   "source": [
    "md3  <- rbind(md1,md2)"
   ]
  },
  {
   "cell_type": "code",
   "execution_count": null,
   "id": "2d54e6f5",
   "metadata": {},
   "outputs": [],
   "source": [
    "md_transimmunome2  <- left_join(md_transimmunome, md3)"
   ]
  },
  {
   "cell_type": "code",
   "execution_count": null,
   "id": "bf7f811e",
   "metadata": {},
   "outputs": [],
   "source": [
    "md_transimmunome2$Sample_ID = md_transimmunome2$Patient_ID"
   ]
  },
  {
   "cell_type": "code",
   "execution_count": null,
   "id": "ea586c7a",
   "metadata": {},
   "outputs": [],
   "source": [
    "colnames(mtx_transimmunome) == md_transimmunome2$Patient_ID"
   ]
  },
  {
   "cell_type": "code",
   "execution_count": null,
   "id": "af532376",
   "metadata": {},
   "outputs": [],
   "source": [
    "test$geo_accession == md_transimmunome$Sample_ID"
   ]
  },
  {
   "cell_type": "markdown",
   "id": "012b7475",
   "metadata": {},
   "source": [
    "Newman"
   ]
  },
  {
   "cell_type": "code",
   "execution_count": null,
   "id": "a79de4e2",
   "metadata": {
    "scrolled": true
   },
   "outputs": [],
   "source": [
    "md_newman  <- metadata"
   ]
  },
  {
   "cell_type": "code",
   "execution_count": null,
   "id": "4789105d",
   "metadata": {},
   "outputs": [],
   "source": [
    "md_newman3  <- md_newman  %>% transmute(\n",
    "Sample_ID = sample_id, \n",
    "   CellType = cell_type,\n",
    "Disease = ifelse(disease == \"CTL\", \"Ctrl\", \"Dia\"),\n",
    "    Age = Age,\n",
    "    Sex = Sex\n",
    ")"
   ]
  },
  {
   "cell_type": "code",
   "execution_count": null,
   "id": "b50ec159",
   "metadata": {},
   "outputs": [],
   "source": [
    "md_newman3$Sample_ID == colnames(mtx_newman)"
   ]
  },
  {
   "cell_type": "markdown",
   "id": "d9559dc7",
   "metadata": {},
   "source": [
    "HPAP"
   ]
  },
  {
   "cell_type": "code",
   "execution_count": null,
   "id": "48de15e3",
   "metadata": {},
   "outputs": [],
   "source": [
    "md_hpap3  <- md_hpap  %>% transmute(\n",
    "Sample_ID = Patient_ID_Tissue, \n",
    "    Patient_ID = Patient_ID,\n",
    "   CellType = paste(Tissue, \"T cells\"),\n",
    "Disease = Disease, Sex = ifelse(grepl(Sex, pattern = \"F\"), \"F\", \"M\"), \n",
    "    Age)"
   ]
  },
  {
   "cell_type": "code",
   "execution_count": null,
   "id": "a09608f6",
   "metadata": {},
   "outputs": [],
   "source": [
    "colnames(mtx_hpap) == md_hpap3$Sample_ID"
   ]
  },
  {
   "cell_type": "code",
   "execution_count": null,
   "id": "f5a30566",
   "metadata": {},
   "outputs": [],
   "source": [
    "colnames(mtx_kallionpaa) == md_kallionpaa$Sample_ID"
   ]
  },
  {
   "cell_type": "code",
   "execution_count": null,
   "id": "edf247bf",
   "metadata": {},
   "outputs": [],
   "source": [
    "colnames(mtx_jailwala) == md_jailwala3$Sample_ID"
   ]
  },
  {
   "cell_type": "markdown",
   "id": "7c8faae4",
   "metadata": {},
   "source": [
    "Current study. "
   ]
  },
  {
   "cell_type": "code",
   "execution_count": null,
   "id": "0fc3cabf",
   "metadata": {},
   "outputs": [],
   "source": [
    "colnames(mtx_lab48_cd4) == md_lab48_cd4$Patient_ID"
   ]
  },
  {
   "cell_type": "code",
   "execution_count": null,
   "id": "b58cda97",
   "metadata": {
    "scrolled": true
   },
   "outputs": [],
   "source": [
    "md_lab48_cd4  <- md_lab48_cd4  %>% group_by(Patient_ID, Sex, Disease, CellType, Study)  %>% \n",
    "summarise(Age = mean(as.numeric(Age)))"
   ]
  },
  {
   "cell_type": "code",
   "execution_count": null,
   "id": "07d798af",
   "metadata": {
    "scrolled": true
   },
   "outputs": [],
   "source": [
    "md_lab48_cd4$Sample_ID  <- paste(\"CD4\", md_lab48_cd4$Patient_ID)"
   ]
  },
  {
   "cell_type": "code",
   "execution_count": null,
   "id": "f393b1fc",
   "metadata": {},
   "outputs": [],
   "source": [
    "colnames(mtx_lab48_cd4)  == md_lab48_cd4$Sample_ID"
   ]
  },
  {
   "cell_type": "code",
   "execution_count": null,
   "id": "c71ab2e1",
   "metadata": {},
   "outputs": [],
   "source": [
    "md_lab48_cd8$Sample_ID  <- gsub(md_lab48_cd8$Sample_ID, pattern = \"CD8 CD8\", replacement = \"CD8\")"
   ]
  },
  {
   "cell_type": "code",
   "execution_count": null,
   "id": "493fddd2",
   "metadata": {},
   "outputs": [],
   "source": [
    "md_lab48_cd8  <- md_lab48_cd8  %>% group_by(Patient_ID, Sex, Disease, CellType, Study)  %>% \n",
    "summarise(Age = mean(as.numeric(Age)))\n",
    "\n",
    "md_lab48_cd8$Sample_ID  <- paste(\"CD8\", md_lab48_cd8$Patient_ID)"
   ]
  },
  {
   "cell_type": "code",
   "execution_count": null,
   "id": "6909b50c",
   "metadata": {},
   "outputs": [],
   "source": [
    "colnames(mtx_lab48_cd8)  == md_lab48_cd8$Sample_ID"
   ]
  },
  {
   "cell_type": "markdown",
   "id": "73ae89e7",
   "metadata": {},
   "source": [
    "Add Study and Cell type metadata. "
   ]
  },
  {
   "cell_type": "code",
   "execution_count": null,
   "id": "9d8b1ac4",
   "metadata": {},
   "outputs": [],
   "source": [
    "md_lab48_cd8$Study  <- \"Lab48 CD8\"\n",
    "md_lab48_cd4$Study  <- \"Lab48 CD4\""
   ]
  },
  {
   "cell_type": "code",
   "execution_count": null,
   "id": "6b31b02f",
   "metadata": {},
   "outputs": [],
   "source": [
    "md_lab48_cd4$CellType  <- \"CD4\"\n",
    "md_lab48_cd8$CellType  <- \"CD8\"\n",
    "md_lab48_cd4$cell_type  <- NULL\n",
    "md_lab48_cd8$cell_type  <- NULL\n",
    "md_lab48_cd4$Study  <- NULL\n",
    "md_lab48_cd8$Study  <- NULL\n"
   ]
  },
  {
   "cell_type": "code",
   "execution_count": null,
   "id": "209b1392",
   "metadata": {},
   "outputs": [],
   "source": [
    "merged <- merge(dt_mtx_kallionpaa, dt_mtx_transimmunome, by = \"rn\", all = TRUE)\n",
    "\n",
    "merged <- merge(merged, dt_mtx_hpap, by = \"rn\", all = TRUE)\n",
    "merged <- merge(merged, dt_mtx_newman, by = \"rn\", all = TRUE)\n",
    "merged <- merge(merged, dt_mtx_jailwala, by = \"rn\", all = TRUE)\n",
    "merged <- merge(merged, dt_mtx_48_cd4, by = \"rn\", all = TRUE)\n",
    "merged <- merge(merged, dt_mtx_48_cd8, by = \"rn\", all = TRUE)"
   ]
  },
  {
   "cell_type": "code",
   "execution_count": null,
   "id": "cb79e035",
   "metadata": {},
   "outputs": [],
   "source": [
    "md_kallionpaa$Study  <- \"Kallionpaa\"\n",
    "md_transimmunome$Study  <- \"Transimmunome\"\n",
    "md_hpap3$Study  <- \"HPAP\"\n",
    "md_newman$Study  <- \"Newman\"\n",
    "md_jailwala3$Study  <- \"Jailwala\"\n",
    "md_lab48_cd8$Study  <- \"Lab48 CD8\"\n",
    "md_lab48_cd4$Study  <- \"Lab48 CD4\""
   ]
  },
  {
   "cell_type": "code",
   "execution_count": null,
   "id": "6e353b1b",
   "metadata": {},
   "outputs": [],
   "source": [
    "md_merged  <- bind_rows(md_kallionpaa, md_transimmunome)"
   ]
  },
  {
   "cell_type": "code",
   "execution_count": null,
   "id": "55cb3d75",
   "metadata": {},
   "outputs": [],
   "source": [
    "md_kallionpaa$Study  <- \"Kallionpaa\"\n",
    "md_transimmunome$Study  <- \"Transimmunome\"\n",
    "md_hpap3$Study  <- \"HPAP\"\n",
    "md_newman$Study  <- \"Newman\"\n",
    "md_jailwala3$Study  <- \"Jailwala\"\n",
    "md_lab48_cd8$Study  <- \"Lab48 CD8\"\n",
    "md_lab48_cd4$Study  <- \"Lab48 CD4\""
   ]
  },
  {
   "cell_type": "code",
   "execution_count": null,
   "id": "d2c0fd1e",
   "metadata": {},
   "outputs": [],
   "source": [
    "md_hpap3$Age  <- as.character(md_hpap3$Age)"
   ]
  },
  {
   "cell_type": "code",
   "execution_count": null,
   "id": "954c5610",
   "metadata": {},
   "outputs": [],
   "source": [
    "md_merged  <- bind_rows(md_merged, md_hpap3)"
   ]
  },
  {
   "cell_type": "code",
   "execution_count": null,
   "id": "a5f4bf88",
   "metadata": {},
   "outputs": [],
   "source": [
    "md_newman$Age  <- NA_character_"
   ]
  },
  {
   "cell_type": "code",
   "execution_count": null,
   "id": "4daf480d",
   "metadata": {},
   "outputs": [],
   "source": [
    "md_jailwala3$Age  <- as.character(md_jailwala3$Age)\n",
    "md_lab48_cd4$Age  <- as.character(md_lab48_cd4$Age)\n",
    "md_lab48_cd8$Age  <- as.character(md_lab48_cd8$Age)"
   ]
  },
  {
   "cell_type": "code",
   "execution_count": null,
   "id": "2441b922",
   "metadata": {},
   "outputs": [],
   "source": [
    "md_merged  <- bind_rows(md_merged, md_newman)\n",
    "md_merged  <- bind_rows(md_merged, md_jailwala3)\n",
    "md_merged  <- bind_rows(md_merged, md_lab48_cd4)\n",
    "md_merged  <- bind_rows(md_merged, md_lab48_cd8)"
   ]
  },
  {
   "cell_type": "code",
   "execution_count": null,
   "id": "2858aaa2",
   "metadata": {},
   "outputs": [],
   "source": [
    "md_merged$Sample_ID == colnames(mtx)"
   ]
  },
  {
   "cell_type": "code",
   "execution_count": null,
   "id": "161ddaa0",
   "metadata": {
    "scrolled": true
   },
   "outputs": [],
   "source": [
    "table(colnames(merged) %in% md_merged$Sample_ID)"
   ]
  },
  {
   "cell_type": "code",
   "execution_count": null,
   "id": "e728a3e5",
   "metadata": {},
   "outputs": [],
   "source": [
    "colnames(mtx_hpap) == md_hpap3$Sample_ID"
   ]
  },
  {
   "cell_type": "code",
   "execution_count": null,
   "id": "1e228434",
   "metadata": {
    "scrolled": true
   },
   "outputs": [],
   "source": [
    "colnames(mtx_newman) == md_newman3$Sample_ID"
   ]
  },
  {
   "cell_type": "code",
   "execution_count": null,
   "id": "f9b49b8e",
   "metadata": {},
   "outputs": [],
   "source": [
    "colnames(mtx_hpap) == md_hpap3$Sample_ID"
   ]
  },
  {
   "cell_type": "code",
   "execution_count": null,
   "id": "c8b09698",
   "metadata": {},
   "outputs": [],
   "source": [
    "colnames(mtx_jailwala) == md_jailwala3$Sample_ID"
   ]
  },
  {
   "cell_type": "code",
   "execution_count": null,
   "id": "39dd90dc",
   "metadata": {},
   "outputs": [],
   "source": [
    "colnames(mtx_newman) == md_newman3$Sample_ID"
   ]
  },
  {
   "cell_type": "code",
   "execution_count": null,
   "id": "8bc68167",
   "metadata": {},
   "outputs": [],
   "source": [
    "colnames(mtx_kallionpaa) == md_kallionpaa$Sample_ID"
   ]
  },
  {
   "cell_type": "code",
   "execution_count": null,
   "id": "cedbc647",
   "metadata": {},
   "outputs": [],
   "source": [
    "colnames(mtx_transimmunome) == md_transimmunome2$Sample_ID"
   ]
  },
  {
   "cell_type": "code",
   "execution_count": null,
   "id": "ae3cdcc4",
   "metadata": {},
   "outputs": [],
   "source": [
    "colnames(mtx_lab48_cd4) == md_lab48_cd4$Sample_ID"
   ]
  },
  {
   "cell_type": "code",
   "execution_count": null,
   "id": "ac0afa31",
   "metadata": {},
   "outputs": [],
   "source": [
    "colnames(mtx_lab48_cd8) == md_lab48_cd8$Sample_ID"
   ]
  },
  {
   "cell_type": "code",
   "execution_count": null,
   "id": "3c292b33",
   "metadata": {},
   "outputs": [],
   "source": [
    "dt_mtx_kallionpaa  <- as.data.table(mtx_kallionpaa, keep.rownames = T)\n",
    "dt_mtx_transimmunome  <- as.data.table(mtx_transimmunome, keep.rownames = T)\n",
    "dt_mtx_hpap  <- as.data.table(mtx_hpap, keep.rownames = T)\n",
    "dt_mtx_jailwala <- as.data.table(mtx_jailwala, keep.rownames = T)\n",
    "dt_mtx_newman <- as.data.table(mtx_newman, keep.rownames = T)\n",
    "dt_mtx_48_cd4  <- as.data.table(mtx_lab48_cd4, keep.rownames = T)\n",
    "dt_mtx_48_cd8  <- as.data.table(mtx_lab48_cd8, keep.rownames = T)"
   ]
  },
  {
   "cell_type": "code",
   "execution_count": null,
   "id": "f06c4b8e",
   "metadata": {
    "scrolled": true
   },
   "outputs": [],
   "source": [
    "merged <- merge(dt_mtx_kallionpaa, dt_mtx_transimmunome, by = \"rn\", all = TRUE)\n",
    "merged <- merge(merged, dt_mtx_hpap, by = \"rn\", all = TRUE)\n",
    "merged <- merge(merged, dt_mtx_newman, by = \"rn\", all = TRUE)\n",
    "merged <- merge(merged, dt_mtx_jailwala, by = \"rn\", all = TRUE)\n",
    "merged <- merge(merged, dt_mtx_48_cd4, by = \"rn\", all = TRUE)\n",
    "merged <- merge(merged, dt_mtx_48_cd8, by = \"rn\", all = TRUE)"
   ]
  },
  {
   "cell_type": "code",
   "execution_count": null,
   "id": "35dd154c",
   "metadata": {
    "scrolled": true
   },
   "outputs": [],
   "source": [
    "merged"
   ]
  },
  {
   "cell_type": "code",
   "execution_count": null,
   "id": "238ec339",
   "metadata": {},
   "outputs": [],
   "source": [
    "colnames(merged)"
   ]
  },
  {
   "cell_type": "markdown",
   "id": "b55d9b3b",
   "metadata": {},
   "source": [
    "Add age metadata. "
   ]
  },
  {
   "cell_type": "code",
   "execution_count": null,
   "id": "1d5b6e6c",
   "metadata": {},
   "outputs": [],
   "source": [
    "md_kallionpaa2  <- mutate(md_kallionpaa, Age=\n",
    "                        case_when(Age == '12months' ~ 1,\n",
    "                                  Age == '18months' ~ 1.5,\n",
    "                                  Age == '24months' ~ 2,\n",
    "                                  Age == '36months' ~ 3,\n",
    "                                  Age == '3months' ~ 0.25,\n",
    "                                  Age == '6months' ~ 0.5\n",
    "                                  ))"
   ]
  },
  {
   "cell_type": "code",
   "execution_count": null,
   "id": "69249bb0",
   "metadata": {},
   "outputs": [],
   "source": [
    "md_kallionpaa2$Age  <- as.numeric(md_kallionpaa2$Age)\n",
    "md_transimmunome2$Age  <- as.numeric(md_transimmunome2$Age)\n",
    "md_newman3$Age  <- as.numeric(md_newman3$Age)\n",
    "md_jailwala3$Age  <- as.numeric(md_jailwala3$Age)"
   ]
  },
  {
   "cell_type": "code",
   "execution_count": null,
   "id": "9e87e51c",
   "metadata": {},
   "outputs": [],
   "source": [
    "md_lab48_cd4$Age  <- as.numeric(md_lab48_cd4$Age)\n",
    "md_lab48_cd8$Age  <- as.numeric(md_lab48_cd8$Age)"
   ]
  },
  {
   "cell_type": "code",
   "execution_count": null,
   "id": "9114302e",
   "metadata": {
    "scrolled": true
   },
   "outputs": [],
   "source": [
    "md_hpap3$Age  <- as.numeric(md_hpap3$Age)"
   ]
  },
  {
   "cell_type": "code",
   "execution_count": null,
   "id": "17dbe34a",
   "metadata": {},
   "outputs": [],
   "source": [
    "md_merged  <- bind_rows(md_kallionpaa2, md_transimmunome2)\n",
    "md_merged  <- bind_rows(md_merged, md_hpap3)\n",
    "md_merged  <- bind_rows(md_merged, md_newman3)\n",
    "md_merged  <- bind_rows(md_merged, md_jailwala3)\n",
    "md_merged  <- bind_rows(md_merged, md_lab48_cd4)\n",
    "md_merged  <- bind_rows(md_merged, md_lab48_cd8)"
   ]
  },
  {
   "cell_type": "code",
   "execution_count": null,
   "id": "c8bdcfcc",
   "metadata": {},
   "outputs": [],
   "source": [
    "merged <- merge(dt_mtx_kallionpaa, dt_mtx_transimmunome, by = \"rn\", all = TRUE)\n",
    "merged <- merge(merged, dt_mtx_hpap, by = \"rn\", all = TRUE)\n",
    "merged <- merge(merged, dt_mtx_newman, by = \"rn\", all = TRUE)\n",
    "merged <- merge(merged, dt_mtx_jailwala, by = \"rn\", all = TRUE)\n",
    "merged <- merge(merged, dt_mtx_48_cd4, by = \"rn\", all = TRUE)\n",
    "merged <- merge(merged, dt_mtx_48_cd8, by = \"rn\", all = TRUE)"
   ]
  },
  {
   "cell_type": "code",
   "execution_count": null,
   "id": "e2a5fc8c",
   "metadata": {
    "scrolled": true
   },
   "outputs": [],
   "source": [
    "colnames(merged)[2:ncol(merged)] == md_merged$Sample_ID"
   ]
  },
  {
   "cell_type": "markdown",
   "id": "47ae0f8a",
   "metadata": {},
   "source": [
    "Save the final matrix. "
   ]
  },
  {
   "cell_type": "code",
   "execution_count": null,
   "id": "56518d8e",
   "metadata": {},
   "outputs": [],
   "source": [
    "write.csv(merged, \"../data/matrix_allstudies.csv\")"
   ]
  },
  {
   "cell_type": "code",
   "execution_count": null,
   "id": "49ea262c",
   "metadata": {},
   "outputs": [],
   "source": [
    "write.csv(md_merged, \"../data/md_allstudies.csv\")"
   ]
  },
  {
   "cell_type": "code",
   "execution_count": null,
   "id": "7e9135dd",
   "metadata": {},
   "outputs": [],
   "source": []
  },
  {
   "cell_type": "code",
   "execution_count": null,
   "id": "034076a9",
   "metadata": {},
   "outputs": [],
   "source": [
    "merged  <- read_csv(\"../data/matrix_allstudies.csv\")\n",
    "md_merged  <- read_csv(\"../data/md_allstudies.csv\")"
   ]
  },
  {
   "cell_type": "code",
   "execution_count": null,
   "id": "ca0cd152",
   "metadata": {},
   "outputs": [],
   "source": [
    "merged$`...1`  <- NULL\n",
    "md_merged$`...1`  <- NULL\n"
   ]
  },
  {
   "cell_type": "markdown",
   "id": "3ede5779",
   "metadata": {},
   "source": [
    "## Add Honardoost"
   ]
  },
  {
   "cell_type": "markdown",
   "id": "8cef760e",
   "metadata": {},
   "source": [
    "As the study by Honardoost et al., was added later, we added it separately. "
   ]
  },
  {
   "cell_type": "code",
   "execution_count": null,
   "id": "453c8f13",
   "metadata": {
    "scrolled": true
   },
   "outputs": [],
   "source": [
    "library(data.table)"
   ]
  },
  {
   "cell_type": "code",
   "execution_count": null,
   "id": "e4f424b8",
   "metadata": {},
   "outputs": [],
   "source": [
    "dt_mtx_honar  <- as.data.table(mtx_honar, keep.rownames = T)"
   ]
  },
  {
   "cell_type": "code",
   "execution_count": null,
   "id": "b6e90c72",
   "metadata": {},
   "outputs": [],
   "source": [
    "merged  <- left_join(merged, dt_mtx_honar)"
   ]
  },
  {
   "cell_type": "code",
   "execution_count": null,
   "id": "4d4a9294",
   "metadata": {
    "scrolled": true
   },
   "outputs": [],
   "source": [
    "md_honar$Patient_ID  <- md_honar$Sample_ID"
   ]
  },
  {
   "cell_type": "code",
   "execution_count": null,
   "id": "32ce2d0f",
   "metadata": {},
   "outputs": [],
   "source": [
    "md_honar$CellType  <- \"T cells\"\n",
    "md_honar$cell_type  <- NULL"
   ]
  },
  {
   "cell_type": "code",
   "execution_count": null,
   "id": "36a12267",
   "metadata": {
    "scrolled": true
   },
   "outputs": [],
   "source": [
    "md_honar$Study_CellType  <- \"Honardoost T cells\""
   ]
  },
  {
   "cell_type": "code",
   "execution_count": null,
   "id": "bc7ecab0",
   "metadata": {},
   "outputs": [],
   "source": [
    "md_honar$Sex  <- ifelse(md_honar$Sex == \"female\",\"F\",\"M\")"
   ]
  },
  {
   "cell_type": "code",
   "execution_count": null,
   "id": "fb132901",
   "metadata": {},
   "outputs": [],
   "source": [
    "md_merged2  <- bind_rows(md_merged,md_honar)"
   ]
  },
  {
   "cell_type": "code",
   "execution_count": null,
   "id": "27ad07d6",
   "metadata": {},
   "outputs": [],
   "source": [
    "write.csv(merged, \"../data/matrix_allstudies_with_Honardoost.csv\")\n",
    "write.csv(md_merged2, \"../data/md_allstudies_with_Honardoost.csv\")"
   ]
  },
  {
   "cell_type": "markdown",
   "id": "fcfbf503",
   "metadata": {},
   "source": [
    "## Gene directions in different datasets"
   ]
  },
  {
   "cell_type": "code",
   "execution_count": null,
   "id": "7ecd0b1b",
   "metadata": {},
   "outputs": [],
   "source": [
    "md_merged  <- md_merged %>% \n",
    "    mutate(Study_CellType = paste(Study, CellType))  %>% \n",
    "    mutate(Study_CellType = ifelse(grepl(Study_CellType, pattern = \"HPAP LN\"), \"HPAP LN\", Study_CellType)) "
   ]
  },
  {
   "cell_type": "code",
   "execution_count": null,
   "id": "c8bf7e48",
   "metadata": {},
   "outputs": [],
   "source": [
    "   df  <- dt_mtx_transimmunome  %>% dplyr::filter(rn == \"TRGV9\")  %>% t\n",
    "    colnames(df)  <- \"gene\"\n",
    "    md_merged$gene  <- df[2:nrow(df)]\n",
    "    options(repr.plot.width = 12, repr.plot.height = 7)\n",
    "    plot1  <- md_merged  %>% \n",
    "       ggplot(aes(x = Disease,\n",
    "             y = as.numeric(gene))) +\n",
    "   geom_dotplot(binaxis='y', stackdir='center', dotsize = 0) + \n",
    "   geom_boxplot(outlier.shape = NA) +\n",
    "    geom_jitter(binaxis='y', position=position_jitter(width = 0.1, height = 0.01), \n",
    "                size = 2, stackdir='center', aes(color = Disease)) + \n",
    "    facet_wrap(~Study_CellType, scales = \"free\", ncol = 6) +\n",
    "  theme_classic() + xlab(\"\") +  \n",
    " xlab(\"\") + ylab(\"Value\") + ggtitle(gene) +\n",
    "   scale_y_continuous(expand = expansion(mult = c(0, 0.1))) +\n",
    "    scale_color_manual(values = c(\"dodgerblue\", \"indianred3\")) +\n",
    "  ggpubr::stat_compare_means(label.x = 1.2, label.y.npc = \"top\", size = 3.5, vjust = 0.3, label = \"p.format\") + \n",
    "      theme(plot.title = element_text(hjust = 0.5, size = 18),\n",
    "          axis.line = element_line(colour = \"black\"), \n",
    "            axis.text.x = element_text(angle = 90),\n",
    "        axis.ticks = element_line(colour = \"black\"))"
   ]
  },
  {
   "cell_type": "markdown",
   "id": "4d17c75e",
   "metadata": {},
   "source": [
    "## Function to plot one gene"
   ]
  },
  {
   "cell_type": "code",
   "execution_count": null,
   "id": "aba2cd43",
   "metadata": {},
   "outputs": [],
   "source": [
    "plot_one_gene  <- function(gene){\n",
    "    df  <- merged  %>% dplyr::filter(rn == gene)  %>% t\n",
    "    colnames(df)  <- \"gene\"\n",
    "    md_merged$gene  <- df[2:nrow(df)]\n",
    "    options(repr.plot.width = 12, repr.plot.height = 7)\n",
    "    plot1  <- md_merged  %>% \n",
    "       ggplot(aes(x = Disease,\n",
    "             y = as.numeric(gene))) +\n",
    "   geom_dotplot(binaxis='y', stackdir='center', dotsize = 0) + \n",
    "   geom_boxplot(outlier.shape = NA) +\n",
    "    geom_jitter(binaxis='y', position=position_jitter(width = 0.1, height = 0.01), \n",
    "                size = 2, stackdir='center', aes(color = Disease)) + \n",
    "    facet_wrap(~Study_CellType, scales = \"free\", ncol = 6) +\n",
    "  theme_classic() + xlab(\"\") +  \n",
    " xlab(\"\") + ylab(\"Value\") + ggtitle(gene) +\n",
    "   scale_y_continuous(expand = expansion(mult = c(0, 0.1))) +\n",
    "    scale_color_manual(values = c(\"dodgerblue\", \"indianred3\")) +\n",
    "  ggpubr::stat_compare_means(label.x = 1.2, label.y.npc = \"top\", size = 3.5, vjust = 0.3, label = \"p.format\") + \n",
    "      theme(plot.title = element_text(hjust = 0.5, size = 18),\n",
    "          axis.line = element_line(colour = \"black\"), \n",
    "            axis.text.x = element_text(angle = 90),\n",
    "        axis.ticks = element_line(colour = \"black\"))\n",
    "    return(plot1)\n",
    "}"
   ]
  },
  {
   "cell_type": "code",
   "execution_count": null,
   "id": "a1c19a8c",
   "metadata": {},
   "outputs": [],
   "source": [
    "plot_one_gene(\"GZMB\")"
   ]
  },
  {
   "cell_type": "code",
   "execution_count": null,
   "id": "6de7054f",
   "metadata": {},
   "outputs": [],
   "source": [
    "genes_to_test = c(\"ISG15\",\"MX1\",\"IFI44L\",\n",
    "                   \"IFNG\",\"PRF1\",\"CX3CR1\",\"BTN3A2\",\"HLA-DQB1\",\n",
    "                   \"DUSP1\",\"CD69\",\"NFKBIA\",\n",
    "                   \"GIMAP4\",\"GIMAP5\",\"GIMAP7\",\n",
    "                   \"TRGV9\",\"ZBTB16\",\"IFNGR1\")"
   ]
  },
  {
   "cell_type": "code",
   "execution_count": null,
   "id": "5174bc0a",
   "metadata": {},
   "outputs": [],
   "source": [
    "studies_to_test = c(levels(factor(md_merged$Study_CellType))[c(1,2,3,4,5,6,7,11,12)])"
   ]
  },
  {
   "cell_type": "code",
   "execution_count": null,
   "id": "1270f526",
   "metadata": {},
   "outputs": [],
   "source": [
    "studies_to_test"
   ]
  },
  {
   "cell_type": "code",
   "execution_count": null,
   "id": "38149716",
   "metadata": {},
   "outputs": [],
   "source": [
    "go_wilcox  <- function(df_filt){\n",
    "    tryCatch(\n",
    "        {\n",
    "            wilcox = wilcox.test(as.numeric(df_filt$gene)~df_filt$Disease, conf.int = T)      \n",
    "           return(\"y\")\n",
    "        },\n",
    "        error = function(cond) {\n",
    "          return(\"n\")\n",
    "        }\n",
    "    )\n",
    "    }"
   ]
  },
  {
   "cell_type": "code",
   "execution_count": null,
   "id": "5fa9d7cb",
   "metadata": {
    "scrolled": true
   },
   "outputs": [],
   "source": [
    "for(i in genes_to_test){\n",
    "    for(j in studies_to_test){\n",
    "       df_filt  <- md_merged  %>% dplyr::filter(Study_CellType == j)\n",
    "        df  <- merged  %>% dplyr::filter(rn == i)  %>% t() %>% as.data.frame()  %>% rownames_to_column(\"sample\")\n",
    "        colnames(df)  <- c(\"sample\",\"gene\")\n",
    "        df  <-  df  %>% dplyr::filter(sample %in% df_filt$Sample_ID)\n",
    "        df_filt$gene  <- df$gene\n",
    "        \n",
    "        wilcox_possible = go_wilcox(df_filt)\n",
    "        \n",
    "        if(wilcox_possible == \"y\"){\n",
    "            wilcox = wilcox.test(as.numeric(df_filt$gene)~df_filt$Disease, conf.int = T) \n",
    "            res_df  <- data.frame(gene = i, \n",
    "                             study = j,\n",
    "                             pval = wilcox$p.value,\n",
    "                             estimate = wilcox$estimate,\n",
    "                             ci_upper = wilcox$conf.int[2],\n",
    "                             ci_lower = wilcox$conf.int[1]\n",
    "                             )\n",
    "        \n",
    "        } else {\n",
    "             res_df  <- data.frame(gene = i, \n",
    "                             study = j,\n",
    "                             pval = NA_integer_,\n",
    "                             estimate = NA_integer_,\n",
    "                             ci_upper = NA_integer_,\n",
    "                             ci_lower = NA_integer_\n",
    "                             )\n",
    "        }\n",
    "        \n",
    "        if(i == genes_to_test[1] & j == studies_to_test[1]){\n",
    "            df_res_all = res_df\n",
    "        } else {\n",
    "            df_res_all = rbind(df_res_all, res_df)\n",
    "        }\n",
    "    }\n",
    "}\n"
   ]
  },
  {
   "cell_type": "code",
   "execution_count": null,
   "id": "50958e86",
   "metadata": {
    "scrolled": true
   },
   "outputs": [],
   "source": [
    "df_res_all  %>% arrange(pval)"
   ]
  },
  {
   "cell_type": "code",
   "execution_count": null,
   "id": "48b2b960",
   "metadata": {},
   "outputs": [],
   "source": [
    "\n",
    "markers_cd4  <- read_csv(\"../tables/de_genes/240306_cd4_all_markers_without_sex.csv\")\n",
    "markers_cd8  <- read_csv(\"../tables/de_genes/240306_cd8_all_markers_without_sex.csv\")\n",
    "\n",
    "all_markers  <- rbind(markers_cd4, markers_cd8)\n",
    "\n",
    "all_markers  <- all_markers  %>% pull(gene)  %>% unique\n"
   ]
  },
  {
   "cell_type": "code",
   "execution_count": null,
   "id": "0738e35d",
   "metadata": {},
   "outputs": [],
   "source": [
    "all_markers"
   ]
  },
  {
   "cell_type": "code",
   "execution_count": null,
   "id": "961c7014",
   "metadata": {},
   "outputs": [],
   "source": [
    "genes_to_test = all_markers"
   ]
  },
  {
   "cell_type": "code",
   "execution_count": null,
   "id": "d0608046",
   "metadata": {},
   "outputs": [],
   "source": [
    "studies_to_test = c(levels(factor(md_merged$Study_CellType))[c(1,2,3,4,5,6,7,11,12)])"
   ]
  },
  {
   "cell_type": "code",
   "execution_count": null,
   "id": "4dd26717",
   "metadata": {},
   "outputs": [],
   "source": [
    " for(i in genes_to_test){\n",
    "    for(j in studies_to_test){\n",
    "        print(i)\n",
    "        print(j)\n",
    "       df_filt  <- md_merged  %>% dplyr::filter(Study_CellType == j)\n",
    "        df  <- merged  %>% dplyr::filter(rn == i)  %>% t() %>% as.data.frame()  %>% rownames_to_column(\"sample\")\n",
    "        if(ncol(df)>1){\n",
    "           \n",
    "                    colnames(df)  <- c(\"sample\",\"gene\")\n",
    "        df  <-  df  %>% dplyr::filter(sample %in% df_filt$Sample_ID)\n",
    "        df_filt$gene  <- df$gene\n",
    "        \n",
    "        wilcox_possible = go_wilcox(df_filt)\n",
    "        \n",
    "        if(wilcox_possible == \"y\"){\n",
    "            wilcox = wilcox.test(as.numeric(df_filt$gene)~df_filt$Disease, conf.int = T) \n",
    "            res_df  <- data.frame(gene = i, \n",
    "                             study = j,\n",
    "                             pval = wilcox$p.value,\n",
    "                             estimate = wilcox$estimate,\n",
    "                             ci_upper = wilcox$conf.int[2],\n",
    "                             ci_lower = wilcox$conf.int[1],\n",
    "                             mean_dia = mean(as.numeric((df_filt  %>% filter(Disease == \"Dia\"))$gene), na.rm = T),\n",
    "                            mean_ctrl = mean(as.numeric((df_filt  %>% filter(Disease == \"Ctrl\"))$gene), na.rm = T),\n",
    "                                  fc =  mean(as.numeric((df_filt  %>% filter(Disease == \"Ctrl\"))$gene), na.rm = T)/\n",
    "                                   mean(as.numeric((df_filt  %>% filter(Disease == \"Dia\"))$gene), na.rm = T)\n",
    "                             )\n",
    "        \n",
    "        } else {\n",
    "             res_df  <- data.frame(gene = i, \n",
    "                             study = j,\n",
    "                             pval = NA_integer_,\n",
    "                             estimate = NA_integer_,\n",
    "                             ci_upper = NA_integer_,\n",
    "                             ci_lower = NA_integer_,\n",
    "                             mean_dia = NA_integer_,\n",
    "                             mean_ctrl = NA_integer_,\n",
    "                             fc = NA_integer_\n",
    "                             )\n",
    "        }\n",
    "        \n",
    "        if(i == genes_to_test[1] & j == studies_to_test[1]){\n",
    "            df_res_all = res_df\n",
    "        } else {\n",
    "            df_res_all = rbind(df_res_all, res_df)\n",
    "        }\n",
    "            \n",
    "        } else {\n",
    "            \n",
    "            res_df  <- data.frame(gene = i, \n",
    "                             study = j,\n",
    "                             pval = NA_integer_,\n",
    "                             estimate = NA_integer_,\n",
    "                             ci_upper = NA_integer_,\n",
    "                             ci_lower = NA_integer_,\n",
    "                              mean_dia = NA_integer_,\n",
    "                             mean_ctrl = NA_integer_,\n",
    "                             fc = NA_integer_\n",
    "                             )\n",
    "        }\n",
    "        \n",
    "\n",
    "    }\n",
    "}\n"
   ]
  },
  {
   "cell_type": "code",
   "execution_count": null,
   "id": "4739801b",
   "metadata": {},
   "outputs": [],
   "source": [
    "df_res_all"
   ]
  },
  {
   "cell_type": "code",
   "execution_count": null,
   "id": "bdf7f90d",
   "metadata": {
    "scrolled": true
   },
   "outputs": [],
   "source": [
    "genes  <- df_res_all  %>% dplyr::filter(pval < 0.1)  %>% group_by(gene)  %>% tally  %>% arrange(desc(n))  %>% gene"
   ]
  },
  {
   "cell_type": "code",
   "execution_count": null,
   "id": "bbdab45a",
   "metadata": {},
   "outputs": [],
   "source": [
    "for(i in genes[21:50]){\n",
    "    print(plot_one_gene(i))\n",
    "}"
   ]
  },
  {
   "cell_type": "code",
   "execution_count": null,
   "id": "627e9987",
   "metadata": {
    "scrolled": true
   },
   "outputs": [],
   "source": [
    "mtx  <- df_res_all  %>% dplyr::filter(gene %in% genes3)  %>% \n",
    "dplyr::select(gene, study, estimate)  %>% \n",
    "pivot_wider(names_from = study, values_from = estimate)  %>% column_to_rownames(\"gene\")  %>% as.matrix"
   ]
  },
  {
   "cell_type": "code",
   "execution_count": null,
   "id": "5f399e79",
   "metadata": {},
   "outputs": [],
   "source": [
    "plot_one_gene(\"ZBTB10\")"
   ]
  },
  {
   "cell_type": "code",
   "execution_count": null,
   "id": "27123e12",
   "metadata": {},
   "outputs": [],
   "source": []
  },
  {
   "cell_type": "code",
   "execution_count": null,
   "id": "5e208548",
   "metadata": {},
   "outputs": [],
   "source": [
    "pheatmap(mtx, main = \"\", \n",
    "         scale = \"column\", cluster_cols = T, cluster_rows = T,\n",
    "        color=colorRampPalette(c(\"dodgerblue\", \"grey95\", \"indianred2\"))(50), \n",
    "         border_color = \"white\",\n",
    "                  fontsize = 9)"
   ]
  },
  {
   "cell_type": "code",
   "execution_count": null,
   "id": "c27a55bc",
   "metadata": {},
   "outputs": [],
   "source": [
    "genes3  <- c('CCL5',\n",
    "'HLA-DQB1',\n",
    "'HLA-DRB1',\n",
    "'GZMA',\n",
    "'IER2',\n",
    "'EPSTI1',\n",
    "'GZMB',\n",
    "'NFKBIA',\n",
    "'CD69',\n",
    "'ID3',\n",
    "'IER5',\n",
    "'TNF',\n",
    "'AOAH',\n",
    "'CX3CR1',\n",
    "'GZMH',\n",
    "'MTRNR2L8',\n",
    "'NEU1')"
   ]
  },
  {
   "cell_type": "code",
   "execution_count": null,
   "id": "4827b491",
   "metadata": {},
   "outputs": [],
   "source": [
    "colnames(merged)[233:275]  <- md_merged$Sample_ID[232:274]"
   ]
  },
  {
   "cell_type": "code",
   "execution_count": null,
   "id": "95416a54",
   "metadata": {},
   "outputs": [],
   "source": [
    "md_merged$Sample_ID[232:274]"
   ]
  },
  {
   "cell_type": "code",
   "execution_count": null,
   "id": "eabc715b",
   "metadata": {},
   "outputs": [],
   "source": [
    "for(i in genes3){\n",
    "    print(plot_one_gene(i))\n",
    "}"
   ]
  },
  {
   "cell_type": "code",
   "execution_count": null,
   "id": "2dc83a6d",
   "metadata": {},
   "outputs": [],
   "source": [
    "genes4  <- c(\"ISG15\",\"MX1\",\"IFI44L\",\"XAF1\",\"EPSTI1\",\n",
    "                   \"IFNG\",\"BTN3A2\",\"HLA-DQB1\",\"HLA-DRB1\",\n",
    "                   \"DUSP1\",\"NFKBIA\",\"RBM3\",\"TNF\",\n",
    "                   \"CCR7\",\"SELL\",\"LEF1\",\"IL7R\",\n",
    "                   \"TNFAIP3\",  \"TSC22D3\",\"IER2\",\"BTG1\",\n",
    "                   \"FOXP1\",\"PIK3IP1\")"
   ]
  },
  {
   "cell_type": "code",
   "execution_count": null,
   "id": "eeeb960a",
   "metadata": {},
   "outputs": [],
   "source": [
    "for(i in genes[21:50]){\n",
    "    print(plot_one_gene(i))\n",
    "}"
   ]
  },
  {
   "cell_type": "markdown",
   "id": "26d4bf34",
   "metadata": {},
   "source": [
    "# Processing count matrices with Seurat"
   ]
  },
  {
   "cell_type": "markdown",
   "id": "2f1b08fe",
   "metadata": {},
   "source": [
    "We will process all bulk RNAseq matrices using Seurat. "
   ]
  },
  {
   "cell_type": "markdown",
   "id": "52585635",
   "metadata": {},
   "source": [
    "Fix metadata in Kallionpaa study. "
   ]
  },
  {
   "cell_type": "code",
   "execution_count": null,
   "id": "43ff0ea1",
   "metadata": {},
   "outputs": [],
   "source": [
    "md_kallionpaa  <- md_merged  %>% dplyr::filter(Study == \"Kallionpaa\")"
   ]
  },
  {
   "cell_type": "code",
   "execution_count": null,
   "id": "ceb082a7",
   "metadata": {
    "scrolled": true
   },
   "outputs": [],
   "source": [
    "mtx_kallion  <- merged[,which(colnames(merged) %in% md_kallionpaa$Sample_ID)]"
   ]
  },
  {
   "cell_type": "code",
   "execution_count": null,
   "id": "4578f6d1",
   "metadata": {},
   "outputs": [],
   "source": [
    "mtx_kallion[is.na(mtx_kallion)]  <- 0"
   ]
  },
  {
   "cell_type": "code",
   "execution_count": null,
   "id": "d4ae681c",
   "metadata": {
    "scrolled": true
   },
   "outputs": [],
   "source": [
    "rownames(mtx_kallion)  <- merged$rn"
   ]
  },
  {
   "cell_type": "code",
   "execution_count": null,
   "id": "0a32479f",
   "metadata": {},
   "outputs": [],
   "source": [
    "seu_mtx_kallionpaa  <- CreateSeuratObject(mtx_kallion, min.cells = 1, min.features = 2)"
   ]
  },
  {
   "cell_type": "code",
   "execution_count": null,
   "id": "0e7307bd",
   "metadata": {},
   "outputs": [],
   "source": [
    "md_kallionpaa  <- md_merged  %>% dplyr::filter(Study == \"Kallionpaa\")\n",
    "mtx_kallionpaa  <- merged[,which(colnames(merged) %in% md_kallionpaa$Sample_ID)]\n",
    "mtx_kallionpaa[is.na(mtx_kallionpaa)]  <- 0\n",
    "rownames(mtx_kallionpaa)  <- merged$rn\n",
    "seu_mtx_kallionpaa  <- CreateSeuratObject(mtx_kallionpaa, min.cells = 1, min.features = 0)\n",
    "seu_mtx_kallionpaa  <- NormalizeData(seu_mtx_kallionpaa)\n",
    "seu_mtx_kallionpaa  <- ScaleData(seu_mtx_kallionpaa)\n",
    "seu_mtx_kallionpaa$Sample_ID  <- colnames(seu_mtx_kallionpaa)\n",
    "seu_mtx_kallionpaa@meta.data  <- left_join(seu_mtx_kallionpaa@meta.data, md_kallionpaa)"
   ]
  },
  {
   "cell_type": "code",
   "execution_count": null,
   "id": "2738176a",
   "metadata": {},
   "outputs": [],
   "source": [
    "md_merged$Study_CellType  %>% table "
   ]
  },
  {
   "cell_type": "code",
   "execution_count": null,
   "id": "8072050c",
   "metadata": {},
   "outputs": [],
   "source": [
    "which(colnames(merged)[2:length(colnames(merged))] != md_merged$Sample_ID)"
   ]
  },
  {
   "cell_type": "code",
   "execution_count": null,
   "id": "8a3519e8",
   "metadata": {},
   "outputs": [],
   "source": [
    "colnames(merged)[233]"
   ]
  },
  {
   "cell_type": "code",
   "execution_count": null,
   "id": "14c95ce5",
   "metadata": {
    "scrolled": true
   },
   "outputs": [],
   "source": [
    "colnames(merged)[2:length(colnames(merged))] == md_merged$Sample_ID\n"
   ]
  },
  {
   "cell_type": "markdown",
   "id": "f71aaffc",
   "metadata": {},
   "source": [
    "Next, we will create a function which will help us convert bulk matrix to a seurat object. "
   ]
  },
  {
   "cell_type": "code",
   "execution_count": null,
   "id": "a3af8b85",
   "metadata": {},
   "outputs": [],
   "source": [
    "bulk_to_seurat  <- function(i){\n",
    "    \n",
    "md_kallionpaa  <- md_merged  %>% dplyr::filter(Study_CellType == levels(factor(md_merged$Study_CellType))[i])\n",
    "mtx_kallionpaa  <- merged[,colnames(merged) %in% md_kallionpaa$Sample_ID]\n",
    "mtx_kallionpaa[is.na(mtx_kallionpaa)]  <- 0\n",
    "rownames(mtx_kallionpaa)  <- merged$rn\n",
    "seu_mtx_kallionpaa  <- CreateSeuratObject(mtx_kallionpaa, min.cells = 1, min.features = 0)\n",
    "seu_mtx_kallionpaa  <- NormalizeData(seu_mtx_kallionpaa)\n",
    "seu_mtx_kallionpaa  <- ScaleData(seu_mtx_kallionpaa)\n",
    "seu_mtx_kallionpaa$Sample_ID  <- colnames(seu_mtx_kallionpaa)\n",
    "seu_mtx_kallionpaa@meta.data  <- cbind(seu_mtx_kallionpaa@meta.data, md_kallionpaa)\n",
    "    rownames(seu_mtx_kallionpaa@meta.data)  <- colnames(seu_mtx_kallionpaa)\n",
    "    Idents(seu_mtx_kallionpaa)  <- seu_mtx_kallionpaa$Disease\n",
    "    fc  <- FoldChange(seu_mtx_kallionpaa, `ident.1` = \"Dia\", `ident.2` = \"Ctrl\",\n",
    "                      slot = \"data\", pseudocount.use = 0.001)\n",
    "    fc$Study_CellType = levels(factor(md_merged$Study_CellType))[i]\n",
    "    fc$decile = ntile(fc$avg_log2FC, 10)\n",
    "    fc$gene  <- rownames(fc)\n",
    "   seu_mtx_kallionpaa@misc$fc  <- fc\n",
    "    return(seu_mtx_kallionpaa)\n",
    "    }"
   ]
  },
  {
   "cell_type": "markdown",
   "id": "3064d78b",
   "metadata": {},
   "source": [
    "We will map the function to all datasets / studies that we have. "
   ]
  },
  {
   "cell_type": "code",
   "execution_count": null,
   "id": "7b270d1d",
   "metadata": {
    "scrolled": true
   },
   "outputs": [],
   "source": [
    "seurats  <- map(.x = 1:12, .f = bulk_to_seurat)"
   ]
  },
  {
   "cell_type": "markdown",
   "id": "43e9be17",
   "metadata": {},
   "source": [
    "We will add the log fold changes as Seurat meta data. "
   ]
  },
  {
   "cell_type": "code",
   "execution_count": null,
   "id": "6b476dc4",
   "metadata": {},
   "outputs": [],
   "source": [
    "fc_merged  <- seurats[[1]]@misc$fc\n",
    "for(i in 2:length(levels(factor(md_merged$Study_CellType)))){\n",
    "    fc_merged  <- rbind(fc_merged, seurats[[i]]@misc$fc)\n",
    "}"
   ]
  },
  {
   "cell_type": "code",
   "execution_count": null,
   "id": "8f96a76f",
   "metadata": {},
   "outputs": [],
   "source": [
    "for(i in 1:length(levels(factor(md_merged$Study_CellType)))){\n",
    " print(i)\n",
    "    print(seurats[[i]]$Study_CellType[1])\n",
    "}"
   ]
  },
  {
   "cell_type": "code",
   "execution_count": null,
   "id": "18cfeaa5",
   "metadata": {},
   "outputs": [],
   "source": [
    "list.files(\"../tables/fold_change\", full.names = T)"
   ]
  },
  {
   "cell_type": "markdown",
   "id": "0524a3f4",
   "metadata": {},
   "source": [
    "For some studies, we will add the log FC from original Seurat calculation. "
   ]
  },
  {
   "cell_type": "code",
   "execution_count": null,
   "id": "fc5cb967",
   "metadata": {},
   "outputs": [],
   "source": [
    "cd4_fc  <- read_csv(\"../tables/fold_change/cd4_l1_full_filt.csv\")"
   ]
  },
  {
   "cell_type": "code",
   "execution_count": null,
   "id": "d516fa6a",
   "metadata": {
    "scrolled": true
   },
   "outputs": [],
   "source": [
    "cd4_fc  <- cd4_fc  %>% dplyr::filter(cluster == \"Dia\")  "
   ]
  },
  {
   "cell_type": "code",
   "execution_count": null,
   "id": "e8f46a2d",
   "metadata": {},
   "outputs": [],
   "source": [
    "cd4_fc$decile = ntile(cd4_fc$avg_log2FC, 10)"
   ]
  },
  {
   "cell_type": "code",
   "execution_count": null,
   "id": "732f8ed0",
   "metadata": {},
   "outputs": [],
   "source": [
    "cd4_fc  <- cd4_fc  %>% dplyr::filter(cluster == \"Dia\")  "
   ]
  },
  {
   "cell_type": "code",
   "execution_count": null,
   "id": "61fae31a",
   "metadata": {},
   "outputs": [],
   "source": [
    "cd4_fc$Study_CellType  <- \"Lab48 CD4\""
   ]
  },
  {
   "cell_type": "code",
   "execution_count": null,
   "id": "55816771",
   "metadata": {
    "scrolled": true
   },
   "outputs": [],
   "source": [
    "seurats[[6]]@misc$fc  <- cd4_fc"
   ]
  },
  {
   "cell_type": "code",
   "execution_count": null,
   "id": "c517e55e",
   "metadata": {
    "scrolled": true
   },
   "outputs": [],
   "source": [
    "seurats[[6]]@misc$fc"
   ]
  },
  {
   "cell_type": "code",
   "execution_count": null,
   "id": "905a77b1",
   "metadata": {},
   "outputs": [],
   "source": [
    "cd8_fc  <- read_csv(\"../tables/fold_change/cd8_l1_full_filt.csv\")"
   ]
  },
  {
   "cell_type": "code",
   "execution_count": null,
   "id": "ca23c351",
   "metadata": {
    "scrolled": true
   },
   "outputs": [],
   "source": [
    "cd8_fc  <- cd8_fc  %>% dplyr::filter(cluster == \"Dia\")  "
   ]
  },
  {
   "cell_type": "code",
   "execution_count": null,
   "id": "5d1e7445",
   "metadata": {},
   "outputs": [],
   "source": [
    "cd8_fc$decile = ntile(cd8_fc$avg_log2FC, 10)"
   ]
  },
  {
   "cell_type": "code",
   "execution_count": null,
   "id": "8a242b48",
   "metadata": {
    "scrolled": true
   },
   "outputs": [],
   "source": [
    "cd8_fc$Study_CellType  <- \"Lab48 CD8\""
   ]
  },
  {
   "cell_type": "code",
   "execution_count": null,
   "id": "6b026d33",
   "metadata": {},
   "outputs": [],
   "source": []
  },
  {
   "cell_type": "code",
   "execution_count": null,
   "id": "9544b476",
   "metadata": {},
   "outputs": [],
   "source": [
    "seurats[[7]]@misc$fc  <- cd8_fc"
   ]
  },
  {
   "cell_type": "code",
   "execution_count": null,
   "id": "d98dcaec",
   "metadata": {
    "scrolled": true
   },
   "outputs": [],
   "source": [
    "fc_hpap_ln"
   ]
  },
  {
   "cell_type": "code",
   "execution_count": null,
   "id": "c8cd1706",
   "metadata": {},
   "outputs": [],
   "source": [
    "seurats[[1]]@misc$fc  <- fc_hpap_ln"
   ]
  },
  {
   "cell_type": "code",
   "execution_count": null,
   "id": "e9621d1b",
   "metadata": {},
   "outputs": [],
   "source": [
    "seurats[[2]]@misc$fc  <- fc_hpap_spl"
   ]
  },
  {
   "cell_type": "code",
   "execution_count": null,
   "id": "04dd1d11",
   "metadata": {},
   "outputs": [],
   "source": [
    "fc_merged  <- seurats[[1]]@misc$fc\n",
    "for(i in 2:length(levels(factor(md_merged$Study_CellType)))){\n",
    "    fc_merged  <- bind_rows(fc_merged, seurats[[i]]@misc$fc)\n",
    "}"
   ]
  },
  {
   "cell_type": "markdown",
   "id": "da3a8507",
   "metadata": {},
   "source": [
    "# ParseBio"
   ]
  },
  {
   "cell_type": "markdown",
   "id": "a8918ab6",
   "metadata": {},
   "source": [
    "We will add data from ParseBio. "
   ]
  },
  {
   "cell_type": "code",
   "execution_count": null,
   "id": "168c7355",
   "metadata": {},
   "outputs": [],
   "source": [
    "pb_cd4  <- readRDS(\"../../../DATA_scRNAseq//Analysis of previously published data/081_ParseBio_1M_Diabetes/241020_ParseBio_200k_CD4.rds\")\n",
    "pb_cd8_nk  <- readRDS(\"../../../DATA_scRNAseq//Analysis of previously published data/081_ParseBio_1M_Diabetes/241020_ParseBio_200k_CD8_and_NK.rds\")\n"
   ]
  },
  {
   "cell_type": "markdown",
   "id": "23208337",
   "metadata": {},
   "source": [
    "## ParseBio CD4"
   ]
  },
  {
   "cell_type": "code",
   "execution_count": null,
   "id": "415c1a11",
   "metadata": {},
   "outputs": [],
   "source": [
    "avgexp = AggregateExpression(pb_cd4, return.seurat = T, group.by = c(\"sample\", \"Disease\"),\n",
    "                          assay = \"RNA\")"
   ]
  },
  {
   "cell_type": "code",
   "execution_count": null,
   "id": "8296f940",
   "metadata": {},
   "outputs": [],
   "source": [
    "avgexp  <- NormalizeData(avgexp)\n",
    "avgexp  <- ScaleData(avgexp)\n"
   ]
  },
  {
   "cell_type": "code",
   "execution_count": null,
   "id": "9ecbca28",
   "metadata": {},
   "outputs": [],
   "source": [
    "expression_matrix  <- t(avgexp@assays$RNA$scale.data)  %>% \n",
    "as.data.frame()  %>% \n",
    "rownames_to_column(\"Patient_ID\")  "
   ]
  },
  {
   "cell_type": "code",
   "execution_count": null,
   "id": "ddb2864e",
   "metadata": {},
   "outputs": [],
   "source": [
    "expression_matrix3  <- expression_matrix  %>% column_to_rownames(\"Patient_ID\")  %>% \n",
    "t()  %>% as.matrix()"
   ]
  },
  {
   "cell_type": "code",
   "execution_count": null,
   "id": "3b4b54a0",
   "metadata": {},
   "outputs": [],
   "source": [
    "mtx_pb_cd4  <- expression_matrix3"
   ]
  },
  {
   "cell_type": "code",
   "execution_count": null,
   "id": "e47424cc",
   "metadata": {},
   "outputs": [],
   "source": [
    "md_pb_cd4  <- data.frame(Patient_ID = colnames(expression_matrix3),\n",
    "                         Disease = ifelse(substr(colnames(expression_matrix3),1,1)==\"H\",  \"Ctrl\", \"Dia\"))"
   ]
  },
  {
   "cell_type": "code",
   "execution_count": null,
   "id": "9ebbac12",
   "metadata": {},
   "outputs": [],
   "source": [
    "md_pb_cd4$Study  <- \"ParseBio\"\n",
    "md_pb_cd4$cell_type  <- \"CD4\""
   ]
  },
  {
   "cell_type": "code",
   "execution_count": null,
   "id": "ec39b47e",
   "metadata": {},
   "outputs": [],
   "source": [
    "colnames(mtx_pb_cd4)  <- paste(\"CD4\", colnames(mtx_pb_cd4))"
   ]
  },
  {
   "cell_type": "code",
   "execution_count": null,
   "id": "dea3a5fd",
   "metadata": {},
   "outputs": [],
   "source": [
    "md_pb_cd4$Sample_ID  <- paste(\"CD4\", md_pb_cd4$Patient_ID)"
   ]
  },
  {
   "cell_type": "markdown",
   "id": "d745f3bb",
   "metadata": {},
   "source": [
    "## ParseBio CD8"
   ]
  },
  {
   "cell_type": "code",
   "execution_count": null,
   "id": "c24a92cf",
   "metadata": {},
   "outputs": [],
   "source": [
    "avgexp = AggregateExpression(pb_cd8_nk, return.seurat = T, group.by = c(\"sample\", \"Disease\"),\n",
    "                          assay = \"RNA\")"
   ]
  },
  {
   "cell_type": "code",
   "execution_count": null,
   "id": "033f04da",
   "metadata": {},
   "outputs": [],
   "source": [
    "avgexp  <- NormalizeData(avgexp)\n",
    "avgexp  <- ScaleData(avgexp)"
   ]
  },
  {
   "cell_type": "code",
   "execution_count": null,
   "id": "db84fe15",
   "metadata": {},
   "outputs": [],
   "source": [
    "expression_matrix  <- t(avgexp@assays$RNA$scale.data)  %>% \n",
    "as.data.frame()  %>% \n",
    "rownames_to_column(\"Patient_ID\")  "
   ]
  },
  {
   "cell_type": "code",
   "execution_count": null,
   "id": "8e7fec4b",
   "metadata": {},
   "outputs": [],
   "source": [
    "expression_matrix3  <- expression_matrix  %>% column_to_rownames(\"Patient_ID\")  %>% \n",
    "t()  %>% as.matrix()"
   ]
  },
  {
   "cell_type": "code",
   "execution_count": null,
   "id": "e3afce89",
   "metadata": {},
   "outputs": [],
   "source": [
    "mtx_pb_cd8_nk  <- expression_matrix3"
   ]
  },
  {
   "cell_type": "code",
   "execution_count": null,
   "id": "11f1d63d",
   "metadata": {},
   "outputs": [],
   "source": [
    "md_pb_cd8_nk  <- data.frame(Patient_ID = colnames(expression_matrix3),\n",
    "                         Disease = ifelse(substr(colnames(expression_matrix3),1,1)==\"H\",  \"Ctrl\", \"Dia\"))"
   ]
  },
  {
   "cell_type": "code",
   "execution_count": null,
   "id": "1c67374f",
   "metadata": {},
   "outputs": [],
   "source": [
    "md_pb_cd8_nk$Study  <- \"ParseBio\"\n",
    "md_pb_cd8_nk$cell_type  <- \"CD8_NK\""
   ]
  },
  {
   "cell_type": "code",
   "execution_count": null,
   "id": "92eed284",
   "metadata": {},
   "outputs": [],
   "source": [
    "colnames(mtx_pb_cd8_nk)  <- paste(\"CD8_NK\", colnames(mtx_pb_cd8_nk))"
   ]
  },
  {
   "cell_type": "code",
   "execution_count": null,
   "id": "09442a0c",
   "metadata": {},
   "outputs": [],
   "source": [
    "md_pb_cd8_nk$Sample_ID  <- paste(\"CD8_NK\", md_pb_cd8_nk$Patient_ID)"
   ]
  },
  {
   "cell_type": "markdown",
   "id": "6cb79fc4",
   "metadata": {},
   "source": [
    "# Add data from GSE221297"
   ]
  },
  {
   "cell_type": "markdown",
   "id": "30922e69",
   "metadata": {},
   "source": [
    "Add data from the following study: [Zhong et al., 2024](https://www.nature.com/articles/s41467-024-53264-8)"
   ]
  },
  {
   "cell_type": "code",
   "execution_count": null,
   "id": "17c6281e",
   "metadata": {},
   "outputs": [],
   "source": [
    "nc_cd8_nk  <- readRDS(\"../../../DATA_scRNAseq//Analysis of previously published data/080_Zhong_NatCom_Diabetes/241019_NatComm_merged_filt_cd8_and_nk.rds\")\n",
    "nc_cd4  <- readRDS(\"../../../DATA_scRNAseq//Analysis of previously published data/080_Zhong_NatCom_Diabetes/241019_NatComm_merged_filt_cd4_noPR.rds\")"
   ]
  },
  {
   "cell_type": "code",
   "execution_count": null,
   "id": "0ee8a16f",
   "metadata": {},
   "outputs": [],
   "source": [
    "nc_cd8_nk$source  %>% table"
   ]
  },
  {
   "cell_type": "code",
   "execution_count": null,
   "id": "d76c20e4",
   "metadata": {},
   "outputs": [],
   "source": [
    "nc_cd4  <- subset(nc_cd4, source != \"GSM6857965_P6_YSQ\")\n",
    "nc_cd8_nk  <- subset(nc_cd8_nk, source != \"GSM6857965_P6_YSQ\" )"
   ]
  },
  {
   "cell_type": "code",
   "execution_count": null,
   "id": "31157fef",
   "metadata": {},
   "outputs": [],
   "source": [
    "nc_cd8_nk$source  %>% table"
   ]
  },
  {
   "cell_type": "code",
   "execution_count": null,
   "id": "67f0bd1b",
   "metadata": {
    "scrolled": true
   },
   "outputs": [],
   "source": [
    "nc_cd4$source  %>% table"
   ]
  },
  {
   "cell_type": "markdown",
   "id": "e5e7f1b9",
   "metadata": {},
   "source": [
    "## GSE221297 CD4+ T cells"
   ]
  },
  {
   "cell_type": "code",
   "execution_count": null,
   "id": "ad1f5f3e",
   "metadata": {},
   "outputs": [],
   "source": [
    "avgexp = AggregateExpression(nc_cd4, return.seurat = T, group.by = c(\"source\", \"Disease\"),\n",
    "                          assay = \"RNA\")"
   ]
  },
  {
   "cell_type": "code",
   "execution_count": null,
   "id": "506cf572",
   "metadata": {},
   "outputs": [],
   "source": [
    "avgexp  <- NormalizeData(avgexp)\n",
    "avgexp  <- ScaleData(avgexp)\n"
   ]
  },
  {
   "cell_type": "code",
   "execution_count": null,
   "id": "423dd193",
   "metadata": {},
   "outputs": [],
   "source": [
    "expression_matrix  <- t(avgexp@assays$RNA$scale.data)  %>% \n",
    "as.data.frame()  %>% \n",
    "rownames_to_column(\"Patient_ID\")  "
   ]
  },
  {
   "cell_type": "code",
   "execution_count": null,
   "id": "9c80824c",
   "metadata": {},
   "outputs": [],
   "source": [
    "expression_matrix3  <- expression_matrix  %>% column_to_rownames(\"Patient_ID\")  %>% \n",
    "t()  %>% as.matrix()"
   ]
  },
  {
   "cell_type": "code",
   "execution_count": null,
   "id": "2ec0cfb3",
   "metadata": {},
   "outputs": [],
   "source": [
    "mtx_nc_cd4  <- expression_matrix3"
   ]
  },
  {
   "cell_type": "code",
   "execution_count": null,
   "id": "91abefab",
   "metadata": {},
   "outputs": [],
   "source": [
    "md_nc_cd4  <- avgexp@meta.data  %>% dplyr::select(-orig.ident, Patient_ID = source)  %>%\n",
    "mutate(Disease = ifelse(Disease == \"N\",\"Ctrl\",\"Dia\"))"
   ]
  },
  {
   "cell_type": "code",
   "execution_count": null,
   "id": "00dbe982",
   "metadata": {},
   "outputs": [],
   "source": [
    "md_nc_cd4$Study  <- \"NatComm\"\n",
    "md_nc_cd4$cell_type  <- \"CD4\""
   ]
  },
  {
   "cell_type": "code",
   "execution_count": null,
   "id": "56374345",
   "metadata": {},
   "outputs": [],
   "source": [
    "colnames(mtx_nc_cd4)  <- paste(\"CD4\", colnames(mtx_nc_cd4))"
   ]
  },
  {
   "cell_type": "code",
   "execution_count": null,
   "id": "d4b1b676",
   "metadata": {},
   "outputs": [],
   "source": [
    "md_nc_cd4$Sample_ID  <- paste(\"CD4\", md_nc_cd4$Patient_ID)"
   ]
  },
  {
   "cell_type": "markdown",
   "id": "37a69dba",
   "metadata": {},
   "source": [
    "## NatComm CD8"
   ]
  },
  {
   "cell_type": "code",
   "execution_count": null,
   "id": "7400b596",
   "metadata": {},
   "outputs": [],
   "source": [
    "avgexp = AggregateExpression(nc_cd8_nk, return.seurat = T, group.by = c(\"source\", \"Disease\"),\n",
    "                          assay = \"RNA\")"
   ]
  },
  {
   "cell_type": "code",
   "execution_count": null,
   "id": "a058eeaf",
   "metadata": {},
   "outputs": [],
   "source": [
    "avgexp  <- NormalizeData(avgexp)\n",
    "avgexp  <- ScaleData(avgexp)\n"
   ]
  },
  {
   "cell_type": "code",
   "execution_count": null,
   "id": "18535ebe",
   "metadata": {},
   "outputs": [],
   "source": [
    "expression_matrix  <- t(avgexp@assays$RNA$scale.data)  %>% \n",
    "as.data.frame()  %>% \n",
    "rownames_to_column(\"Patient_ID\")  "
   ]
  },
  {
   "cell_type": "code",
   "execution_count": null,
   "id": "e17ab74d",
   "metadata": {},
   "outputs": [],
   "source": [
    "expression_matrix3  <- expression_matrix  %>% column_to_rownames(\"Patient_ID\")  %>% \n",
    "t()  %>% as.matrix()"
   ]
  },
  {
   "cell_type": "code",
   "execution_count": null,
   "id": "728a2e37",
   "metadata": {},
   "outputs": [],
   "source": [
    "mtx_nc_cd8_nk  <- expression_matrix3"
   ]
  },
  {
   "cell_type": "code",
   "execution_count": null,
   "id": "9fc2d21a",
   "metadata": {},
   "outputs": [],
   "source": [
    "md_nc_cd8_nk  <- avgexp@meta.data  %>% dplyr::select(-orig.ident, Patient_ID = source)  %>%\n",
    "mutate(Disease = ifelse(Disease == \"N\",\"Ctrl\",\"Dia\"))"
   ]
  },
  {
   "cell_type": "code",
   "execution_count": null,
   "id": "dd674e1b",
   "metadata": {},
   "outputs": [],
   "source": [
    "md_nc_cd8_nk$Study  <- \"NatComm\"\n",
    "md_nc_cd8_nk$cell_type  <- \"CD8_NK\""
   ]
  },
  {
   "cell_type": "code",
   "execution_count": null,
   "id": "605f500d",
   "metadata": {},
   "outputs": [],
   "source": [
    "colnames(mtx_nc_cd8_nk)  <- paste(\"CD8_NK\", colnames(mtx_nc_cd8_nk))"
   ]
  },
  {
   "cell_type": "code",
   "execution_count": null,
   "id": "b17b80e7",
   "metadata": {},
   "outputs": [],
   "source": [
    "md_nc_cd8_nk$Sample_ID  <- paste(\"CD8_NK\", md_nc_cd8_nk$Patient_ID)"
   ]
  },
  {
   "cell_type": "markdown",
   "id": "1ce54aa5",
   "metadata": {},
   "source": [
    "# Heatmaps figure"
   ]
  },
  {
   "cell_type": "markdown",
   "id": "dc9ac5a6",
   "metadata": {},
   "source": [
    "We will load the prepared merged matrices and metadata for all studies. "
   ]
  },
  {
   "cell_type": "code",
   "execution_count": null,
   "id": "2b65523b",
   "metadata": {},
   "outputs": [],
   "source": [
    "merged  <- read_csv(\"../data/published_studies/matrix_allstudies.csv\")\n",
    "md_merged  <- read_csv(\"../data/published_studies/md_allstudies.csv\")"
   ]
  },
  {
   "cell_type": "code",
   "execution_count": null,
   "id": "eca55d75",
   "metadata": {},
   "outputs": [],
   "source": [
    "merged$`...1`  <- NULL\n",
    "md_merged$`...1`  <- NULL"
   ]
  },
  {
   "cell_type": "code",
   "execution_count": null,
   "id": "6eb25a68",
   "metadata": {},
   "outputs": [],
   "source": [
    "md_merged  <- md_merged %>% \n",
    "    mutate(Study_CellType = paste(Study, CellType))  %>% \n",
    "    mutate(Study_CellType = ifelse(grepl(Study_CellType, pattern = \"HPAP LN\"), \"HPAP LN\", Study_CellType)) "
   ]
  },
  {
   "cell_type": "code",
   "execution_count": null,
   "id": "f5e873fe",
   "metadata": {},
   "outputs": [],
   "source": []
  },
  {
   "cell_type": "markdown",
   "id": "571898d2",
   "metadata": {},
   "source": [
    "Let's fix the metadata for Kallionpaa study. "
   ]
  },
  {
   "cell_type": "code",
   "execution_count": null,
   "id": "9d9da5e0",
   "metadata": {},
   "outputs": [],
   "source": [
    "md_kallionpaa  <- md_merged  %>% dplyr::filter(Study == \"Kallionpaa\")"
   ]
  },
  {
   "cell_type": "code",
   "execution_count": null,
   "id": "4ed56c82",
   "metadata": {
    "scrolled": true
   },
   "outputs": [],
   "source": [
    "mtx_kallion  <- merged[,which(colnames(merged) %in% md_kallionpaa$Sample_ID)]"
   ]
  },
  {
   "cell_type": "code",
   "execution_count": null,
   "id": "7b466ffe",
   "metadata": {},
   "outputs": [],
   "source": [
    "mtx_kallion[is.na(mtx_kallion)]  <- 0"
   ]
  },
  {
   "cell_type": "code",
   "execution_count": null,
   "id": "71a6d86a",
   "metadata": {},
   "outputs": [],
   "source": [
    "mtx_kallion  <- as.data.frame(mtx_kallion)"
   ]
  },
  {
   "cell_type": "code",
   "execution_count": null,
   "id": "10ad4086",
   "metadata": {
    "scrolled": true
   },
   "outputs": [],
   "source": [
    "rownames(mtx_kallion)  <- merged$rn"
   ]
  },
  {
   "cell_type": "code",
   "execution_count": null,
   "id": "290db4be",
   "metadata": {},
   "outputs": [],
   "source": [
    "seu_mtx_kallionpaa  <- CreateSeuratObject(mtx_kallion, min.cells = 1, min.features = 2)"
   ]
  },
  {
   "cell_type": "code",
   "execution_count": null,
   "id": "a20304c8",
   "metadata": {},
   "outputs": [],
   "source": [
    "md_kallionpaa  <- md_merged  %>% dplyr::filter(Study == \"Kallionpaa\")\n",
    "mtx_kallionpaa  <- merged[,which(colnames(merged) %in% md_kallionpaa$Sample_ID)]\n",
    "mtx_kallionpaa[is.na(mtx_kallionpaa)]  <- 0\n",
    "rownames(mtx_kallionpaa)  <- merged$rn\n",
    "seu_mtx_kallionpaa  <- CreateSeuratObject(mtx_kallionpaa, min.cells = 1, min.features = 0)\n",
    "seu_mtx_kallionpaa  <- NormalizeData(seu_mtx_kallionpaa)\n",
    "seu_mtx_kallionpaa  <- ScaleData(seu_mtx_kallionpaa)\n",
    "seu_mtx_kallionpaa$Sample_ID  <- colnames(seu_mtx_kallionpaa)\n",
    "seu_mtx_kallionpaa@meta.data  <- left_join(seu_mtx_kallionpaa@meta.data, md_kallionpaa)"
   ]
  },
  {
   "cell_type": "markdown",
   "id": "5ad6e1b3",
   "metadata": {},
   "source": [
    "Let's check that the Sample cell types order is correct. "
   ]
  },
  {
   "cell_type": "code",
   "execution_count": null,
   "id": "443ff10e",
   "metadata": {},
   "outputs": [],
   "source": [
    "md_merged$Study_CellType  %>% table "
   ]
  },
  {
   "cell_type": "code",
   "execution_count": null,
   "id": "5b16479c",
   "metadata": {},
   "outputs": [],
   "source": [
    "which(colnames(merged)[2:length(colnames(merged))] != md_merged$Sample_ID)"
   ]
  },
  {
   "cell_type": "code",
   "execution_count": null,
   "id": "47664293",
   "metadata": {},
   "outputs": [],
   "source": [
    "colnames(merged)[233]"
   ]
  },
  {
   "cell_type": "code",
   "execution_count": null,
   "id": "ed4db58b",
   "metadata": {
    "scrolled": true
   },
   "outputs": [],
   "source": [
    "colnames(merged)[2:length(colnames(merged))] == md_merged$Sample_ID\n"
   ]
  },
  {
   "cell_type": "markdown",
   "id": "8522bc1b",
   "metadata": {},
   "source": [
    "Convert bulk to seurat. "
   ]
  },
  {
   "cell_type": "code",
   "execution_count": null,
   "id": "89e17d92",
   "metadata": {},
   "outputs": [],
   "source": [
    "bulk_to_seurat  <- function(i){\n",
    "    \n",
    "md_kallionpaa  <- md_merged  %>% dplyr::filter(Study_CellType == levels(factor(md_merged$Study_CellType))[i])\n",
    "mtx_kallionpaa  <- merged[,colnames(merged) %in% md_kallionpaa$Sample_ID]\n",
    "mtx_kallionpaa[is.na(mtx_kallionpaa)]  <- 0\n",
    "rownames(mtx_kallionpaa)  <- merged$rn\n",
    "seu_mtx_kallionpaa  <- CreateSeuratObject(mtx_kallionpaa, min.cells = 1, min.features = 0)\n",
    "seu_mtx_kallionpaa  <- NormalizeData(seu_mtx_kallionpaa)\n",
    "seu_mtx_kallionpaa  <- ScaleData(seu_mtx_kallionpaa)\n",
    "seu_mtx_kallionpaa$Sample_ID  <- colnames(seu_mtx_kallionpaa)\n",
    "seu_mtx_kallionpaa@meta.data  <- cbind(seu_mtx_kallionpaa@meta.data, md_kallionpaa)\n",
    "    rownames(seu_mtx_kallionpaa@meta.data)  <- colnames(seu_mtx_kallionpaa)\n",
    "    Idents(seu_mtx_kallionpaa)  <- seu_mtx_kallionpaa$Disease\n",
    "    fc  <- FoldChange(seu_mtx_kallionpaa, `ident.1` = \"Dia\", `ident.2` = \"Ctrl\",\n",
    "                      slot = \"data\", pseudocount.use = 0.001)\n",
    "    fc$Study_CellType = levels(factor(md_merged$Study_CellType))[i]\n",
    "    fc$decile = ntile(fc$avg_log2FC, 10)\n",
    "    fc$gene  <- rownames(fc)\n",
    "   seu_mtx_kallionpaa@misc$fc  <- fc\n",
    "    return(seu_mtx_kallionpaa)\n",
    "    }"
   ]
  },
  {
   "cell_type": "code",
   "execution_count": null,
   "id": "2bee15ba",
   "metadata": {
    "scrolled": true
   },
   "outputs": [],
   "source": [
    "seurats  <- map(.x = 1:12, .f = bulk_to_seurat)"
   ]
  },
  {
   "cell_type": "code",
   "execution_count": null,
   "id": "28875865",
   "metadata": {},
   "outputs": [],
   "source": [
    "fc_merged  <- seurats[[1]]@misc$fc\n",
    "for(i in 2:length(levels(factor(md_merged$Study_CellType)))){\n",
    "    fc_merged  <- rbind(fc_merged, seurats[[i]]@misc$fc)\n",
    "}"
   ]
  },
  {
   "cell_type": "code",
   "execution_count": null,
   "id": "b6946d6e",
   "metadata": {},
   "outputs": [],
   "source": [
    "for(i in 1:length(levels(factor(md_merged$Study_CellType)))){\n",
    " print(i)\n",
    "    print(seurats[[i]]$Study_CellType[1])\n",
    "}"
   ]
  },
  {
   "cell_type": "code",
   "execution_count": null,
   "id": "a7f5e5f8",
   "metadata": {},
   "outputs": [],
   "source": [
    "list.files(\"../tables/fold_change\", full.names = T)"
   ]
  },
  {
   "cell_type": "code",
   "execution_count": null,
   "id": "89ae00b7",
   "metadata": {},
   "outputs": [],
   "source": [
    "cd4_fc  <- read_csv(\"../tables/fold_change/cd4_l1_full_filt.csv\")"
   ]
  },
  {
   "cell_type": "code",
   "execution_count": null,
   "id": "d8b9e3d2",
   "metadata": {
    "scrolled": true
   },
   "outputs": [],
   "source": [
    "cd4_fc  <- cd4_fc  %>% dplyr::filter(cluster == \"Dia\")  "
   ]
  },
  {
   "cell_type": "code",
   "execution_count": null,
   "id": "2b507e08",
   "metadata": {},
   "outputs": [],
   "source": [
    "cd4_fc$decile = ntile(cd4_fc$avg_log2FC, 10)"
   ]
  },
  {
   "cell_type": "code",
   "execution_count": null,
   "id": "453086d6",
   "metadata": {},
   "outputs": [],
   "source": [
    "cd4_fc  <- cd4_fc  %>% dplyr::filter(cluster == \"Dia\")  "
   ]
  },
  {
   "cell_type": "code",
   "execution_count": null,
   "id": "6170bfa4",
   "metadata": {},
   "outputs": [],
   "source": [
    "cd4_fc$Study_CellType  <- \"Lab48 CD4\""
   ]
  },
  {
   "cell_type": "code",
   "execution_count": null,
   "id": "c89a9590",
   "metadata": {
    "scrolled": true
   },
   "outputs": [],
   "source": [
    "seurats[[6]]@misc$fc  <- cd4_fc"
   ]
  },
  {
   "cell_type": "code",
   "execution_count": null,
   "id": "26d1f6f0",
   "metadata": {
    "scrolled": true
   },
   "outputs": [],
   "source": [
    "seurats[[6]]@misc$fc"
   ]
  },
  {
   "cell_type": "code",
   "execution_count": null,
   "id": "19e2bfb7",
   "metadata": {},
   "outputs": [],
   "source": [
    "cd8_fc  <- read_csv(\"../tables/fold_change/cd8_l1_full_filt.csv\")"
   ]
  },
  {
   "cell_type": "code",
   "execution_count": null,
   "id": "f8c6d5ed",
   "metadata": {
    "scrolled": true
   },
   "outputs": [],
   "source": [
    "cd8_fc  <- cd8_fc  %>% dplyr::filter(cluster == \"Dia\")  "
   ]
  },
  {
   "cell_type": "code",
   "execution_count": null,
   "id": "0205deb6",
   "metadata": {},
   "outputs": [],
   "source": [
    "cd8_fc$decile = ntile(cd8_fc$avg_log2FC, 10)"
   ]
  },
  {
   "cell_type": "code",
   "execution_count": null,
   "id": "76e3f5ab",
   "metadata": {
    "scrolled": true
   },
   "outputs": [],
   "source": [
    "cd8_fc$Study_CellType  <- \"Lab48 CD8\""
   ]
  },
  {
   "cell_type": "code",
   "execution_count": null,
   "id": "882a7e71",
   "metadata": {},
   "outputs": [],
   "source": []
  },
  {
   "cell_type": "code",
   "execution_count": null,
   "id": "790f2b57",
   "metadata": {},
   "outputs": [],
   "source": [
    "seurats[[7]]@misc$fc  <- cd8_fc"
   ]
  },
  {
   "cell_type": "code",
   "execution_count": null,
   "id": "ca66eebd",
   "metadata": {},
   "outputs": [],
   "source": [
    "seurats[[1]]@misc$fc  <- fc_hpap_ln"
   ]
  },
  {
   "cell_type": "code",
   "execution_count": null,
   "id": "87b78eb1",
   "metadata": {},
   "outputs": [],
   "source": [
    "seurats[[2]]@misc$fc  <- fc_hpap_spl"
   ]
  },
  {
   "cell_type": "code",
   "execution_count": null,
   "id": "046363bf",
   "metadata": {},
   "outputs": [],
   "source": [
    "fc_merged  <- seurats[[1]]@misc$fc\n",
    "for(i in 2:length(levels(factor(md_merged$Study_CellType)))){\n",
    "    fc_merged  <- bind_rows(fc_merged, seurats[[i]]@misc$fc)\n",
    "}"
   ]
  },
  {
   "cell_type": "markdown",
   "id": "fb8c68c7",
   "metadata": {},
   "source": [
    "### Only CD4 and CD8 studies\n"
   ]
  },
  {
   "cell_type": "markdown",
   "id": "28c03311",
   "metadata": {},
   "source": [
    "We will exclude studies which don't contain CD4/CD8 T cells. "
   ]
  },
  {
   "cell_type": "code",
   "execution_count": null,
   "id": "944d695a",
   "metadata": {
    "scrolled": true
   },
   "outputs": [],
   "source": [
    "fc_merged  %>% \n",
    "dplyr::filter(Study_CellType != \"Newman CD19+/CD27- B cells\" &\n",
    "              Study_CellType != \"Newman Memory CD4+\"\n",
    "              )  %>% \n",
    "group_by(gene, Study_CellType, decile)  %>% dplyr::filter(decile %in% c(1))   %>% \n",
    "group_by(gene)  %>% tally()  %>% arrange(desc(n)) "
   ]
  },
  {
   "cell_type": "code",
   "execution_count": null,
   "id": "feb22d42",
   "metadata": {
    "scrolled": true
   },
   "outputs": [],
   "source": [
    "fc_merged  %>% \n",
    "dplyr::filter(Study_CellType != \"Newman CD19+/CD27- B cells\" &\n",
    "              Study_CellType != \"Newman Memory CD4+\"\n",
    "              )  %>% \n",
    "group_by(gene, Study_CellType, decile)  %>% dplyr::filter(decile %in% c(10))   %>% \n",
    "group_by(gene)  %>% tally()  %>% arrange(desc(n)) "
   ]
  },
  {
   "cell_type": "code",
   "execution_count": null,
   "id": "d5e578b6",
   "metadata": {},
   "outputs": [],
   "source": [
    "genes1  <- fc_merged  %>% \n",
    "dplyr::filter(Study_CellType != \"Newman CD19+/CD27- B cells\" &\n",
    "              Study_CellType != \"Newman Memory CD4+\"\n",
    "              )  %>% \n",
    "group_by(gene, Study_CellType, decile)  %>% dplyr::filter(decile %in% c(1))   %>% \n",
    "group_by(gene)  %>% tally()  %>% arrange(desc(n))   %>% \n",
    "dplyr::filter(n>6) %>% pull(gene)"
   ]
  },
  {
   "cell_type": "code",
   "execution_count": null,
   "id": "fadad8f2",
   "metadata": {},
   "outputs": [],
   "source": [
    "genes2  <- fc_merged  %>% \n",
    "dplyr::filter(Study_CellType != \"Newman CD19+/CD27- B cells\" &\n",
    "              Study_CellType != \"Newman Memory CD4+\"\n",
    "              )  %>% \n",
    "group_by(gene, Study_CellType, decile)  %>% dplyr::filter(decile %in% c(10))   %>% \n",
    "group_by(gene)  %>% tally()  %>% arrange(desc(n))  %>% \n",
    "dplyr::filter(n>6) %>% pull(gene)"
   ]
  },
  {
   "cell_type": "code",
   "execution_count": null,
   "id": "fbc90682",
   "metadata": {},
   "outputs": [],
   "source": [
    "mtx_all_studies_deciles  <- fc_merged  %>% \n",
    "dplyr::filter(!is.na(Study_CellType))  %>%  \n",
    "dplyr::filter(Study_CellType != \"Newman CD19+/CD27- B cells\" &\n",
    "              Study_CellType != \"Newman Memory CD4+\"\n",
    "              )  %>% filter(gene %in% c(genes1, genes2))  %>% \n",
    "dplyr::select(gene, Study_CellType, decile)  %>% \n",
    "pivot_wider(names_from = Study_CellType, values_from = decile)  %>% \n",
    "column_to_rownames(\"gene\")   %>% as.matrix()"
   ]
  },
  {
   "cell_type": "code",
   "execution_count": null,
   "id": "ccf0f1f4",
   "metadata": {},
   "outputs": [],
   "source": [
    "options(repr.plot.width = 18, repr.plot.height = 6)\n",
    "pheatmap(t(mtx_all_studies_deciles), scale = \"row\",\n",
    "        color=colorRampPalette(c(\"dodgerblue\", \"grey95\", \"indianred2\"))(50), \n",
    "         border_color = \"white\",\n",
    "                  fontsize = 12)"
   ]
  },
  {
   "cell_type": "code",
   "execution_count": null,
   "id": "8ac11371",
   "metadata": {},
   "outputs": [],
   "source": []
  },
  {
   "cell_type": "code",
   "execution_count": null,
   "id": "73a844b9",
   "metadata": {},
   "outputs": [],
   "source": [
    "genes1  <- fc_merged  %>% \n",
    "dplyr::filter(Study_CellType != \"Newman CD19+/CD27- B cells\" &\n",
    "              Study_CellType != \"Newman Memory CD4+\"\n",
    "              )  %>% \n",
    "group_by(gene, Study_CellType, decile)  %>% dplyr::filter(decile %in% c(1))   %>% \n",
    "group_by(gene)  %>% tally()  %>% arrange(desc(n))   %>% \n",
    "dplyr::filter(n>5) %>% pull(gene)\n",
    "\n",
    "genes2  <- fc_merged  %>% \n",
    "dplyr::filter(Study_CellType != \"Newman CD19+/CD27- B cells\" &\n",
    "              Study_CellType != \"Newman Memory CD4+\"\n",
    "              )  %>% \n",
    "group_by(gene, Study_CellType, decile)  %>% dplyr::filter(decile %in% c(10))   %>% \n",
    "group_by(gene)  %>% tally()  %>% arrange(desc(n))  %>% \n",
    "dplyr::filter(n>5) %>% pull(gene)\n",
    "\n",
    "mtx_all_studies_deciles  <- fc_merged  %>% \n",
    "dplyr::filter(!is.na(Study_CellType))  %>%  \n",
    "dplyr::filter(Study_CellType != \"Newman CD19+/CD27- B cells\" &\n",
    "              Study_CellType != \"Newman Memory CD4+\"\n",
    "              )  %>% filter(gene %in% c(genes1, genes2))  %>% \n",
    "dplyr::select(gene, Study_CellType, decile)  %>% \n",
    "pivot_wider(names_from = Study_CellType, values_from = decile)  %>% \n",
    "column_to_rownames(\"gene\")   %>% as.matrix()\n",
    "\n",
    "options(repr.plot.width = 18, repr.plot.height = 6)\n",
    "pheatmap(t(mtx_all_studies_deciles), scale = \"row\",\n",
    "        color=colorRampPalette(c(\"dodgerblue\", \"grey95\", \"indianred2\"))(50), \n",
    "         border_color = \"white\",\n",
    "                  fontsize = 12)"
   ]
  },
  {
   "cell_type": "code",
   "execution_count": null,
   "id": "b0eb6a22",
   "metadata": {},
   "outputs": [],
   "source": [
    "genes1  <- fc_merged  %>% \n",
    "\n",
    "group_by(gene, Study_CellType, decile)  %>% dplyr::filter(decile %in% c(1,2))   %>% \n",
    "group_by(gene)  %>% tally()  %>% arrange(desc(n))   %>% \n",
    "dplyr::filter(n>7) %>% pull(gene)\n",
    "\n",
    "genes2  <- fc_merged  %>% \n",
    "\n",
    "group_by(gene, Study_CellType, decile)  %>% dplyr::filter(decile %in% c(10,9))   %>% \n",
    "group_by(gene)  %>% tally()  %>% arrange(desc(n))  %>% \n",
    "dplyr::filter(n>7) %>% pull(gene)\n",
    "\n",
    "mtx_all_studies_deciles  <- fc_merged  %>% \n",
    "dplyr::filter(!is.na(Study_CellType))  %>%  \n",
    "filter(gene %in% c(genes1, genes2))  %>% \n",
    "dplyr::select(gene, Study_CellType, decile)  %>% \n",
    "pivot_wider(names_from = Study_CellType, values_from = decile)  %>% \n",
    "column_to_rownames(\"gene\")   %>% as.matrix()\n",
    "\n",
    "options(repr.plot.width = 18, repr.plot.height = 6)\n",
    "pheatmap(t(mtx_all_studies_deciles), scale = \"row\",\n",
    "        color=colorRampPalette(c(\"dodgerblue\", \"grey95\", \"indianred2\"))(50), \n",
    "         border_color = \"white\",\n",
    "                  fontsize = 12)"
   ]
  },
  {
   "cell_type": "markdown",
   "id": "cebe69ad",
   "metadata": {},
   "source": [
    "# Dodecile norm. "
   ]
  },
  {
   "cell_type": "markdown",
   "id": "c81c9a91",
   "metadata": {},
   "source": [
    "To fix different distributions of data in different datasets, we will encode the log fold changes in quantiles with n = 20. The highest quantile will represent genes which are the most upregulated in T1D and the lowest quantile will represent genes which are most upregulated in healthy. "
   ]
  },
  {
   "cell_type": "code",
   "execution_count": null,
   "id": "41e16044",
   "metadata": {},
   "outputs": [],
   "source": [
    "bulk_to_seurat  <- function(i){\n",
    "    \n",
    "md_kallionpaa  <- md_merged  %>% dplyr::filter(Study_CellType == levels(factor(md_merged$Study_CellType))[i])\n",
    "mtx_kallionpaa  <- merged[,colnames(merged) %in% md_kallionpaa$Sample_ID]\n",
    "mtx_kallionpaa[is.na(mtx_kallionpaa)]  <- 0\n",
    "rownames(mtx_kallionpaa)  <- merged$rn\n",
    "seu_mtx_kallionpaa  <- CreateSeuratObject(mtx_kallionpaa, min.cells = 1, min.features = 0)\n",
    "seu_mtx_kallionpaa  <- NormalizeData(seu_mtx_kallionpaa)\n",
    "seu_mtx_kallionpaa  <- ScaleData(seu_mtx_kallionpaa)\n",
    "seu_mtx_kallionpaa$Sample_ID  <- colnames(seu_mtx_kallionpaa)\n",
    "seu_mtx_kallionpaa@meta.data  <- cbind(seu_mtx_kallionpaa@meta.data, md_kallionpaa)\n",
    "    rownames(seu_mtx_kallionpaa@meta.data)  <- colnames(seu_mtx_kallionpaa)\n",
    "    Idents(seu_mtx_kallionpaa)  <- seu_mtx_kallionpaa$Disease\n",
    "    fc  <- FoldChange(seu_mtx_kallionpaa, `ident.1` = \"Dia\", `ident.2` = \"Ctrl\",\n",
    "                      slot = \"data\", pseudocount.use = 0.001)\n",
    "    fc$Study_CellType = levels(factor(md_merged$Study_CellType))[i]\n",
    "    fc$decile = ntile(fc$avg_log2FC, 20)\n",
    "    fc$gene  <- rownames(fc)\n",
    "   seu_mtx_kallionpaa@misc$fc  <- fc\n",
    "    return(seu_mtx_kallionpaa)\n",
    "    }"
   ]
  },
  {
   "cell_type": "code",
   "execution_count": null,
   "id": "5076108c",
   "metadata": {
    "scrolled": true
   },
   "outputs": [],
   "source": [
    "seurats  <- map(.x = 1:12, .f = bulk_to_seurat)"
   ]
  },
  {
   "cell_type": "code",
   "execution_count": null,
   "id": "c70b4722",
   "metadata": {},
   "outputs": [],
   "source": [
    "fc_merged  <- seurats[[1]]@misc$fc\n",
    "for(i in 2:length(levels(factor(md_merged$Study_CellType)))){\n",
    "    fc_merged  <- rbind(fc_merged, seurats[[i]]@misc$fc)\n",
    "}"
   ]
  },
  {
   "cell_type": "code",
   "execution_count": null,
   "id": "cff03ffc",
   "metadata": {},
   "outputs": [],
   "source": [
    "for(i in 1:length(levels(factor(md_merged$Study_CellType)))){\n",
    " print(i)\n",
    "    print(seurats[[i]]$Study_CellType[1])\n",
    "}"
   ]
  },
  {
   "cell_type": "markdown",
   "id": "ff1c2113",
   "metadata": {},
   "source": [
    "Add fold changes from original calculation in case of our study. "
   ]
  },
  {
   "cell_type": "code",
   "execution_count": null,
   "id": "bc30b678",
   "metadata": {},
   "outputs": [],
   "source": [
    "list.files(\"../tables/fold_change\", full.names = T)"
   ]
  },
  {
   "cell_type": "code",
   "execution_count": null,
   "id": "9e26a104",
   "metadata": {},
   "outputs": [],
   "source": [
    "cd4_fc  <- read_csv(\"../tables/fold_change/cd4_l1_full_filt.csv\")"
   ]
  },
  {
   "cell_type": "code",
   "execution_count": null,
   "id": "8fbc0842",
   "metadata": {
    "scrolled": true
   },
   "outputs": [],
   "source": [
    "cd4_fc  <- cd4_fc  %>% dplyr::filter(cluster == \"Dia\")  "
   ]
  },
  {
   "cell_type": "code",
   "execution_count": null,
   "id": "7ee2f815",
   "metadata": {},
   "outputs": [],
   "source": [
    "cd4_fc$decile = ntile(cd4_fc$avg_log2FC, 20)"
   ]
  },
  {
   "cell_type": "code",
   "execution_count": null,
   "id": "0651537a",
   "metadata": {},
   "outputs": [],
   "source": [
    "cd4_fc  <- cd4_fc  %>% dplyr::filter(cluster == \"Dia\")  "
   ]
  },
  {
   "cell_type": "code",
   "execution_count": null,
   "id": "d6cc79de",
   "metadata": {},
   "outputs": [],
   "source": [
    "cd4_fc$Study_CellType  <- \"Lab48 CD4\""
   ]
  },
  {
   "cell_type": "code",
   "execution_count": null,
   "id": "38737457",
   "metadata": {
    "scrolled": true
   },
   "outputs": [],
   "source": [
    "seurats[[6]]@misc$fc  <- cd4_fc"
   ]
  },
  {
   "cell_type": "code",
   "execution_count": null,
   "id": "4b5ff1ca",
   "metadata": {
    "scrolled": true
   },
   "outputs": [],
   "source": [
    "seurats[[6]]@misc$fc"
   ]
  },
  {
   "cell_type": "code",
   "execution_count": null,
   "id": "2bb935bb",
   "metadata": {},
   "outputs": [],
   "source": [
    "cd8_fc  <- read_csv(\"../tables/fold_change/cd8_l1_full_filt.csv\")"
   ]
  },
  {
   "cell_type": "code",
   "execution_count": null,
   "id": "5059286d",
   "metadata": {
    "scrolled": true
   },
   "outputs": [],
   "source": [
    "cd8_fc  <- cd8_fc  %>% dplyr::filter(cluster == \"Dia\")  "
   ]
  },
  {
   "cell_type": "code",
   "execution_count": null,
   "id": "29d8043c",
   "metadata": {},
   "outputs": [],
   "source": [
    "cd8_fc$decile = ntile(cd8_fc$avg_log2FC, 20)"
   ]
  },
  {
   "cell_type": "code",
   "execution_count": null,
   "id": "1afb468f",
   "metadata": {
    "scrolled": true
   },
   "outputs": [],
   "source": [
    "cd8_fc$Study_CellType  <- \"Lab48 CD8\""
   ]
  },
  {
   "cell_type": "code",
   "execution_count": null,
   "id": "e5480167",
   "metadata": {},
   "outputs": [],
   "source": [
    "seurats[[7]]@misc$fc  <- cd8_fc"
   ]
  },
  {
   "cell_type": "markdown",
   "id": "c1051886",
   "metadata": {},
   "source": [
    "For HPAP, use cell-level logFC as well. "
   ]
  },
  {
   "cell_type": "code",
   "execution_count": null,
   "id": "1e910f24",
   "metadata": {
    "scrolled": true
   },
   "outputs": [],
   "source": [
    "fc_hpap_ln"
   ]
  },
  {
   "cell_type": "code",
   "execution_count": null,
   "id": "01800fa1",
   "metadata": {},
   "outputs": [],
   "source": [
    "seurats[[1]]@misc$fc  <- fc_hpap_ln"
   ]
  },
  {
   "cell_type": "code",
   "execution_count": null,
   "id": "b99d8ad7",
   "metadata": {},
   "outputs": [],
   "source": [
    "seurats[[2]]@misc$fc  <- fc_hpap_spl"
   ]
  },
  {
   "cell_type": "code",
   "execution_count": null,
   "id": "a3335a4b",
   "metadata": {},
   "outputs": [],
   "source": [
    "fc_merged  <- seurats[[1]]@misc$fc\n",
    "for(i in 2:length(levels(factor(md_merged$Study_CellType)))){\n",
    "    fc_merged  <- bind_rows(fc_merged, seurats[[i]]@misc$fc)\n",
    "}"
   ]
  },
  {
   "cell_type": "code",
   "execution_count": null,
   "id": "e1ae8a44",
   "metadata": {},
   "outputs": [],
   "source": [
    "fc_merged$Study_CellType  %>% table"
   ]
  },
  {
   "cell_type": "code",
   "execution_count": null,
   "id": "4865abc5",
   "metadata": {
    "scrolled": true
   },
   "outputs": [],
   "source": [
    "genes1  <- fc_merged  %>% dplyr::filter(Study_CellType != \"Newman CD19+/CD27- B cells\")  %>% \n",
    "group_by(gene, Study_CellType, decile)  %>% dplyr::filter(decile %in% c(1,2,3,4))   %>% \n",
    "group_by(gene)  %>% tally()  %>% arrange(desc(n))   %>% dplyr::filter(n>7)  %>% pull(gene)"
   ]
  },
  {
   "cell_type": "code",
   "execution_count": null,
   "id": "5935c3a2",
   "metadata": {
    "scrolled": true
   },
   "outputs": [],
   "source": [
    "fc_merged  %>% dplyr::filter(Study_CellType != \"Newman CD19+/CD27- B cells\") %>% \n",
    "group_by(gene, Study_CellType, decile)  %>% dplyr::filter(decile %in% c(1,2,3,4))   %>% \n",
    "group_by(gene)  %>% tally()  %>% arrange(desc(n)) "
   ]
  },
  {
   "cell_type": "code",
   "execution_count": null,
   "id": "1be7829b",
   "metadata": {
    "scrolled": true
   },
   "outputs": [],
   "source": [
    "fc_merged  %>% dplyr::filter(Study_CellType != \"Newman CD19+/CD27- B cells\") %>% \n",
    "group_by(gene, Study_CellType, decile)  %>% dplyr::filter(decile %in% c(17,18,19,20))   %>% \n",
    "group_by(gene)  %>% tally()  %>% arrange(desc(n)) "
   ]
  },
  {
   "cell_type": "code",
   "execution_count": null,
   "id": "2a2291dc",
   "metadata": {},
   "outputs": [],
   "source": [
    "genes2  <- fc_merged  %>% group_by(gene, Study_CellType, decile)  %>% dplyr::filter(decile %in% c(17,18,19,20))   %>% \n",
    "group_by(gene)  %>% tally()  %>% arrange(desc(n))  %>% dplyr::filter(n>6)  %>% pull(gene)"
   ]
  },
  {
   "cell_type": "code",
   "execution_count": null,
   "id": "7cbf5d3d",
   "metadata": {},
   "outputs": [],
   "source": [
    "mtx_all_studies_deciles  <- fc_merged  %>% \n",
    "dplyr::filter(Study_CellType != \"Newman CD19+/CD27- B cells\") %>% \n",
    "dplyr::filter(!is.na(Study_CellType))  %>%  \n",
    "filter(gene %in% c(genes1, genes2))  %>% \n",
    "dplyr::select(gene, Study_CellType, decile)  %>% \n",
    "pivot_wider(names_from = Study_CellType, values_from = decile)  %>% \n",
    "column_to_rownames(\"gene\")   %>% as.matrix()"
   ]
  },
  {
   "cell_type": "code",
   "execution_count": null,
   "id": "168c8a71",
   "metadata": {},
   "outputs": [],
   "source": [
    "options(repr.plot.width = 14, repr.plot.height = 4)\n",
    "pheatmap(t(mtx_all_studies_deciles), scale = \"row\",\n",
    "        color=colorRampPalette(c(\"dodgerblue\", \"grey95\", \"indianred2\"))(50), \n",
    "         border_color = \"white\", width = 14, height = 4, \n",
    "                  fontsize = 12, filename = \"../figures/heatmaps/published_data.pdf\")"
   ]
  },
  {
   "cell_type": "code",
   "execution_count": null,
   "id": "ff33aad3",
   "metadata": {},
   "outputs": [],
   "source": [
    "mtx_all_studies_deciles  <- fc_merged  %>% \n",
    "dplyr::filter(Study_CellType != \"Newman CD19+/CD27- B cells\") %>% \n",
    "dplyr::filter(!is.na(Study_CellType))  %>%  \n",
    "filter(gene %in% c(\"RASA2\",\"IRS2\",\"NELL2\",\"BACH2\",\"CCL5\",\"NKG7\",\"CST7\",\"TBX21\"))  %>% \n",
    "dplyr::select(gene, Study_CellType, decile)  %>% \n",
    "pivot_wider(names_from = Study_CellType, values_from = decile)  %>% \n",
    "column_to_rownames(\"gene\")   %>% as.matrix()\n",
    "options(repr.plot.width = 14, repr.plot.height = 4)\n",
    "pheatmap(t(mtx_all_studies_deciles), scale = \"row\",\n",
    "        color=colorRampPalette(c(\"dodgerblue\", \"grey95\", \"indianred2\"))(50), \n",
    "         border_color = \"white\", width = 7, height = 6, \n",
    "                  fontsize = 12, filename = \"../figures/heatmaps/published_data2.pdf\")"
   ]
  },
  {
   "cell_type": "markdown",
   "id": "b03ca0c8",
   "metadata": {},
   "source": [
    "## With Honardoost"
   ]
  },
  {
   "cell_type": "markdown",
   "id": "06cb2053",
   "metadata": {},
   "source": [
    "We will now recapitulate the analysis with Honardoost et al. study included. "
   ]
  },
  {
   "cell_type": "code",
   "execution_count": null,
   "id": "f09de0f6",
   "metadata": {},
   "outputs": [],
   "source": [
    "merged  <- read_csv(\"../../240617_VN_Diabetes_V06/data/published_studies/matrix_allstudies_with_Honardoost.csv\")\n",
    "md_merged  <- read_csv(\"../../240617_VN_Diabetes_V06/data/published_studies/md_allstudies_with_Honardoost.csv\")"
   ]
  },
  {
   "cell_type": "code",
   "execution_count": null,
   "id": "45878c61",
   "metadata": {},
   "outputs": [],
   "source": [
    "merged$`...1`  <- NULL\n",
    "md_merged$`...1`  <- NULL"
   ]
  },
  {
   "cell_type": "code",
   "execution_count": null,
   "id": "99fbc696",
   "metadata": {},
   "outputs": [],
   "source": [
    "md_merged  <- md_merged %>% \n",
    "    mutate(Study_CellType = paste(Study, CellType))  %>% \n",
    "    mutate(Study_CellType = ifelse(grepl(Study_CellType, pattern = \"HPAP LN\"), \"HPAP LN\", Study_CellType)) "
   ]
  },
  {
   "cell_type": "markdown",
   "id": "d3313062",
   "metadata": {},
   "source": [
    "Fix metadata for Kallionpaa study. "
   ]
  },
  {
   "cell_type": "code",
   "execution_count": null,
   "id": "ebbe6890",
   "metadata": {},
   "outputs": [],
   "source": [
    "md_kallionpaa  <- md_merged  %>% dplyr::filter(Study == \"Kallionpaa\")"
   ]
  },
  {
   "cell_type": "code",
   "execution_count": null,
   "id": "2a7bfa66",
   "metadata": {
    "scrolled": true
   },
   "outputs": [],
   "source": [
    "mtx_kallion  <- merged[,which(colnames(merged) %in% md_kallionpaa$Sample_ID)]"
   ]
  },
  {
   "cell_type": "code",
   "execution_count": null,
   "id": "a27b726b",
   "metadata": {},
   "outputs": [],
   "source": [
    "mtx_kallion[is.na(mtx_kallion)]  <- 0"
   ]
  },
  {
   "cell_type": "code",
   "execution_count": null,
   "id": "0f91dad6",
   "metadata": {},
   "outputs": [],
   "source": [
    "mtx_kallion  <- as.data.frame(mtx_kallion)"
   ]
  },
  {
   "cell_type": "code",
   "execution_count": null,
   "id": "1dd73b6a",
   "metadata": {
    "scrolled": true
   },
   "outputs": [],
   "source": [
    "rownames(mtx_kallion)  <- merged$rn"
   ]
  },
  {
   "cell_type": "code",
   "execution_count": null,
   "id": "097dd328",
   "metadata": {},
   "outputs": [],
   "source": [
    "seu_mtx_kallionpaa  <- CreateSeuratObject(mtx_kallion, min.cells = 1, min.features = 2)"
   ]
  },
  {
   "cell_type": "code",
   "execution_count": null,
   "id": "377e6ba1",
   "metadata": {},
   "outputs": [],
   "source": [
    "md_kallionpaa  <- md_merged  %>% dplyr::filter(Study == \"Kallionpaa\")\n",
    "mtx_kallionpaa  <- merged[,which(colnames(merged) %in% md_kallionpaa$Sample_ID)]\n",
    "mtx_kallionpaa[is.na(mtx_kallionpaa)]  <- 0\n",
    "rownames(mtx_kallionpaa)  <- merged$rn\n",
    "seu_mtx_kallionpaa  <- CreateSeuratObject(mtx_kallionpaa, min.cells = 1, min.features = 0)\n",
    "seu_mtx_kallionpaa  <- NormalizeData(seu_mtx_kallionpaa)\n",
    "seu_mtx_kallionpaa  <- ScaleData(seu_mtx_kallionpaa)\n",
    "seu_mtx_kallionpaa$Sample_ID  <- colnames(seu_mtx_kallionpaa)\n",
    "seu_mtx_kallionpaa@meta.data  <- left_join(seu_mtx_kallionpaa@meta.data, md_kallionpaa)"
   ]
  },
  {
   "cell_type": "markdown",
   "id": "20abe926",
   "metadata": {},
   "source": [
    "Check the order of Study Celltype. "
   ]
  },
  {
   "cell_type": "code",
   "execution_count": null,
   "id": "f4dadf38",
   "metadata": {},
   "outputs": [],
   "source": [
    "md_merged$Study_CellType  %>% table "
   ]
  },
  {
   "cell_type": "code",
   "execution_count": null,
   "id": "36aae807",
   "metadata": {},
   "outputs": [],
   "source": [
    "which(colnames(merged)[2:length(colnames(merged))] != md_merged$Sample_ID)"
   ]
  },
  {
   "cell_type": "code",
   "execution_count": null,
   "id": "697be5f8",
   "metadata": {},
   "outputs": [],
   "source": [
    "colnames(merged)[233]"
   ]
  },
  {
   "cell_type": "code",
   "execution_count": null,
   "id": "b930818c",
   "metadata": {
    "scrolled": true
   },
   "outputs": [],
   "source": [
    "colnames(merged)[2:length(colnames(merged))] == md_merged$Sample_ID\n"
   ]
  },
  {
   "cell_type": "markdown",
   "id": "cdca55b0",
   "metadata": {},
   "source": [
    "Convert Bulk to Seurat. "
   ]
  },
  {
   "cell_type": "code",
   "execution_count": null,
   "id": "75ad79c6",
   "metadata": {},
   "outputs": [],
   "source": [
    "bulk_to_seurat  <- function(i){\n",
    "    \n",
    "md_kallionpaa  <- md_merged  %>% dplyr::filter(Study_CellType == levels(factor(md_merged$Study_CellType))[i])\n",
    "mtx_kallionpaa  <- merged[,colnames(merged) %in% md_kallionpaa$Sample_ID]\n",
    "mtx_kallionpaa[is.na(mtx_kallionpaa)]  <- 0\n",
    "rownames(mtx_kallionpaa)  <- merged$rn\n",
    "seu_mtx_kallionpaa  <- CreateSeuratObject(mtx_kallionpaa, min.cells = 1, min.features = 0)\n",
    "seu_mtx_kallionpaa  <- NormalizeData(seu_mtx_kallionpaa)\n",
    "seu_mtx_kallionpaa  <- ScaleData(seu_mtx_kallionpaa)\n",
    "seu_mtx_kallionpaa$Sample_ID  <- colnames(seu_mtx_kallionpaa)\n",
    "seu_mtx_kallionpaa@meta.data  <- cbind(seu_mtx_kallionpaa@meta.data, md_kallionpaa)\n",
    "    rownames(seu_mtx_kallionpaa@meta.data)  <- colnames(seu_mtx_kallionpaa)\n",
    "    Idents(seu_mtx_kallionpaa)  <- seu_mtx_kallionpaa$Disease\n",
    "    fc  <- FoldChange(seu_mtx_kallionpaa, `ident.1` = \"Dia\", `ident.2` = \"Ctrl\",\n",
    "                      slot = \"data\", pseudocount.use = 0.001)\n",
    "    fc$Study_CellType = levels(factor(md_merged$Study_CellType))[i]\n",
    "    fc$decile = ntile(fc$avg_log2FC, 20)\n",
    "    fc$gene  <- rownames(fc)\n",
    "   seu_mtx_kallionpaa@misc$fc  <- fc\n",
    "    return(seu_mtx_kallionpaa)\n",
    "    }"
   ]
  },
  {
   "cell_type": "code",
   "execution_count": null,
   "id": "8cdadb46",
   "metadata": {
    "scrolled": true
   },
   "outputs": [],
   "source": [
    "seurats  <- map(.x = 1:13, .f = bulk_to_seurat)"
   ]
  },
  {
   "cell_type": "code",
   "execution_count": null,
   "id": "f1df3974",
   "metadata": {},
   "outputs": [],
   "source": [
    "fc_merged  <- seurats[[1]]@misc$fc\n",
    "for(i in 2:length(levels(factor(md_merged$Study_CellType)))){\n",
    "    fc_merged  <- rbind(fc_merged, seurats[[i]]@misc$fc)\n",
    "}"
   ]
  },
  {
   "cell_type": "code",
   "execution_count": null,
   "id": "fe5ca568",
   "metadata": {},
   "outputs": [],
   "source": [
    "for(i in 1:length(levels(factor(md_merged$Study_CellType)))){\n",
    " print(i)\n",
    "    print(seurats[[i]]$Study_CellType[1])\n",
    "}"
   ]
  },
  {
   "cell_type": "code",
   "execution_count": null,
   "id": "a463ce84",
   "metadata": {},
   "outputs": [],
   "source": [
    "list.files(\"../tables/fold_change\", full.names = T)"
   ]
  },
  {
   "cell_type": "markdown",
   "id": "44cfc602",
   "metadata": {},
   "source": [
    "Add fold changes from the current study - CD4 T cells. "
   ]
  },
  {
   "cell_type": "code",
   "execution_count": null,
   "id": "78451f5e",
   "metadata": {},
   "outputs": [],
   "source": [
    "cd4_fc  <- read_csv(\"../../240617_VN_Diabetes_V06/tables/fold_change/cd4_l1_full_filt.csv\")"
   ]
  },
  {
   "cell_type": "code",
   "execution_count": null,
   "id": "fdbc589a",
   "metadata": {},
   "outputs": [],
   "source": [
    "cd4_fc$`...1`  <- NULL"
   ]
  },
  {
   "cell_type": "code",
   "execution_count": null,
   "id": "a8f98831",
   "metadata": {
    "scrolled": true
   },
   "outputs": [],
   "source": [
    "cd4_fc  <- cd4_fc  %>% dplyr::filter(cluster == \"Dia\")  "
   ]
  },
  {
   "cell_type": "code",
   "execution_count": null,
   "id": "ca1feb6f",
   "metadata": {},
   "outputs": [],
   "source": [
    "cd4_fc$decile = ntile(cd4_fc$avg_log2FC, 20)"
   ]
  },
  {
   "cell_type": "code",
   "execution_count": null,
   "id": "5f1fd88a",
   "metadata": {},
   "outputs": [],
   "source": [
    "cd4_fc  <- cd4_fc  %>% dplyr::filter(cluster == \"Dia\")  "
   ]
  },
  {
   "cell_type": "code",
   "execution_count": null,
   "id": "ab6b1192",
   "metadata": {},
   "outputs": [],
   "source": [
    "cd4_fc$Study_CellType  <- \"Lab48 CD4\""
   ]
  },
  {
   "cell_type": "code",
   "execution_count": null,
   "id": "92c0d465",
   "metadata": {
    "scrolled": true
   },
   "outputs": [],
   "source": [
    "seurats[[7]]@misc$fc  <- cd4_fc"
   ]
  },
  {
   "cell_type": "code",
   "execution_count": null,
   "id": "30c9525e",
   "metadata": {
    "scrolled": true
   },
   "outputs": [],
   "source": [
    "seurats[[7]]@misc$fc"
   ]
  },
  {
   "cell_type": "markdown",
   "id": "962f26c6",
   "metadata": {},
   "source": [
    "Add fold changes from the current study - CD8 T cells. "
   ]
  },
  {
   "cell_type": "code",
   "execution_count": null,
   "id": "9c635241",
   "metadata": {},
   "outputs": [],
   "source": [
    "cd8_fc  <- read_csv(\"../../240617_VN_Diabetes_V06/tables/fold_change/cd8_l1_full_filt.csv\")"
   ]
  },
  {
   "cell_type": "code",
   "execution_count": null,
   "id": "6868a6fc",
   "metadata": {},
   "outputs": [],
   "source": [
    "cd8_fc$`...1`  <- NULL"
   ]
  },
  {
   "cell_type": "code",
   "execution_count": null,
   "id": "7af9323e",
   "metadata": {
    "scrolled": true
   },
   "outputs": [],
   "source": [
    "cd8_fc  <- cd8_fc  %>% dplyr::filter(cluster == \"Dia\")  "
   ]
  },
  {
   "cell_type": "code",
   "execution_count": null,
   "id": "8e35c788",
   "metadata": {},
   "outputs": [],
   "source": [
    "cd8_fc$decile = ntile(cd8_fc$avg_log2FC, 20)"
   ]
  },
  {
   "cell_type": "code",
   "execution_count": null,
   "id": "a0e5cdc6",
   "metadata": {
    "scrolled": true
   },
   "outputs": [],
   "source": [
    "cd8_fc$Study_CellType  <- \"Lab48 CD8\""
   ]
  },
  {
   "cell_type": "code",
   "execution_count": null,
   "id": "3d0bc8f9",
   "metadata": {},
   "outputs": [],
   "source": [
    "seurats[[8]]@misc$fc  <- cd8_fc"
   ]
  },
  {
   "cell_type": "markdown",
   "id": "31207182",
   "metadata": {},
   "source": [
    "Add HPAP FC LN. "
   ]
  },
  {
   "cell_type": "code",
   "execution_count": null,
   "id": "86c41b71",
   "metadata": {},
   "outputs": [],
   "source": [
    "seurats[[2]]@misc$fc  <- fc_hpap_ln"
   ]
  },
  {
   "cell_type": "markdown",
   "id": "e9699ecb",
   "metadata": {},
   "source": [
    "Add HPAP FC SPL. "
   ]
  },
  {
   "cell_type": "code",
   "execution_count": null,
   "id": "83273b1f",
   "metadata": {},
   "outputs": [],
   "source": [
    "seurats[[3]]@misc$fc  <- fc_hpap_spl"
   ]
  },
  {
   "cell_type": "markdown",
   "id": "02980457",
   "metadata": {
    "scrolled": true
   },
   "source": [
    "Add Honardoost FC. "
   ]
  },
  {
   "cell_type": "code",
   "execution_count": null,
   "id": "8a970aff",
   "metadata": {},
   "outputs": [],
   "source": [
    "seurats[[1]]@misc$fc  <- fc_honar"
   ]
  },
  {
   "cell_type": "code",
   "execution_count": null,
   "id": "d6c94498",
   "metadata": {},
   "outputs": [],
   "source": [
    "for(i in 1:length(levels(factor(md_merged$Study_CellType)))){\n",
    " print(i)\n",
    "    print(seurats[[i]]$Study_CellType[1])\n",
    "    print(max(seurats[[i]]@misc$fc$decile))\n",
    "    \n",
    "}"
   ]
  },
  {
   "cell_type": "code",
   "execution_count": null,
   "id": "1de0af88",
   "metadata": {
    "scrolled": true
   },
   "outputs": [],
   "source": [
    "for(i in 1:length(levels(factor(md_merged$Study_CellType)))){\n",
    " print(i)\n",
    "    print(seurats[[i]]$Study_CellType[1])\n",
    "    print(max(seurats[[i]]@misc$fc$decile))\n",
    "    print(colnames(seurats[[i]]@misc$fc))\n",
    "    \n",
    "}"
   ]
  },
  {
   "cell_type": "code",
   "execution_count": null,
   "id": "bf7c6066",
   "metadata": {},
   "outputs": [],
   "source": [
    "fc_merged  <- seurats[[1]]@misc$fc\n",
    "for(i in 2:length(levels(factor(md_merged$Study_CellType)))){\n",
    "    fc_merged  <- bind_rows(fc_merged, seurats[[i]]@misc$fc)\n",
    "}"
   ]
  },
  {
   "cell_type": "markdown",
   "id": "6630d022",
   "metadata": {},
   "source": [
    "Check which genes are in the top deciles:"
   ]
  },
  {
   "cell_type": "code",
   "execution_count": null,
   "id": "7f4791a0",
   "metadata": {
    "scrolled": true
   },
   "outputs": [],
   "source": [
    "genes1  <- fc_merged  %>% dplyr::filter(Study_CellType != \"Newman CD19+/CD27- B cells\")  %>% \n",
    "group_by(gene, Study_CellType, decile)  %>% dplyr::filter(decile %in% c(1,2))   %>% \n",
    "group_by(gene)  %>% tally()  %>% arrange(desc(n))   %>% dplyr::filter(n>4)  %>% pull(gene)"
   ]
  },
  {
   "cell_type": "code",
   "execution_count": null,
   "id": "a81d114d",
   "metadata": {},
   "outputs": [],
   "source": [
    "genes1"
   ]
  },
  {
   "cell_type": "code",
   "execution_count": null,
   "id": "53f78e37",
   "metadata": {
    "scrolled": true
   },
   "outputs": [],
   "source": [
    "fc_merged  %>% dplyr::filter(Study_CellType != \"Newman CD19+/CD27- B cells\") %>% \n",
    "group_by(gene, Study_CellType, decile)  %>% dplyr::filter(decile %in% c(1,2))   %>% \n",
    "group_by(gene)  %>% tally()  %>% arrange(desc(n)) "
   ]
  },
  {
   "cell_type": "markdown",
   "id": "7992887b",
   "metadata": {},
   "source": [
    "Check which genes are in the bottom deciles:"
   ]
  },
  {
   "cell_type": "code",
   "execution_count": null,
   "id": "5fd537fa",
   "metadata": {
    "scrolled": true
   },
   "outputs": [],
   "source": [
    "fc_merged  %>% dplyr::filter(Study_CellType != \"Newman CD19+/CD27- B cells\") %>% \n",
    "group_by(gene, Study_CellType, decile)  %>% dplyr::filter(decile %in% c(19,20))   %>% \n",
    "group_by(gene)  %>% tally()  %>% arrange(desc(n)) "
   ]
  },
  {
   "cell_type": "code",
   "execution_count": null,
   "id": "be4362c1",
   "metadata": {},
   "outputs": [],
   "source": [
    "genes2  <- fc_merged  %>% group_by(gene, Study_CellType, decile)  %>% dplyr::filter(decile %in% c(19,20))   %>% \n",
    "group_by(gene)  %>% tally()  %>% arrange(desc(n))  %>% dplyr::filter(n>4)  %>% pull(gene)"
   ]
  },
  {
   "cell_type": "code",
   "execution_count": null,
   "id": "ee1f10f6",
   "metadata": {},
   "outputs": [],
   "source": [
    "genes2"
   ]
  },
  {
   "cell_type": "markdown",
   "id": "a5549604",
   "metadata": {},
   "source": [
    "Prepare heatmap with the genes from top and bottom decile. "
   ]
  },
  {
   "cell_type": "code",
   "execution_count": null,
   "id": "ee4f34ca",
   "metadata": {},
   "outputs": [],
   "source": [
    "mtx_all_studies_deciles  <- fc_merged  %>% \n",
    "dplyr::filter(Study_CellType != \"Newman CD19+/CD27- B cells\") %>% \n",
    "dplyr::filter(!is.na(Study_CellType))  %>%  \n",
    "filter(gene %in% c(genes1, genes2))  %>% \n",
    "dplyr::select(gene, Study_CellType, decile)  %>% \n",
    "pivot_wider(names_from = Study_CellType, values_from = decile)  %>% \n",
    "column_to_rownames(\"gene\")   %>% as.matrix()\n",
    "\n",
    "options(repr.plot.width = 14, repr.plot.height = 4)\n",
    "pheatmap(t(mtx_all_studies_deciles), scale = \"row\",\n",
    "        color=colorRampPalette(c(\"dodgerblue\", \"grey95\", \"indianred2\"))(50), \n",
    "         border_color = \"white\", width = 14, height = 4, \n",
    "                  fontsize = 12)"
   ]
  },
  {
   "cell_type": "code",
   "execution_count": null,
   "id": "7596181d",
   "metadata": {},
   "outputs": [],
   "source": [
    "mtx_all_studies_deciles  <- fc_merged  %>% \n",
    "dplyr::filter(Study_CellType != \"Newman CD19+/CD27- B cells\") %>% \n",
    "dplyr::filter(!is.na(Study_CellType))  %>%  \n",
    "filter(gene %in% c(genes1, genes2))  %>% \n",
    "dplyr::select(gene, Study_CellType, decile)  %>% \n",
    "pivot_wider(names_from = Study_CellType, values_from = decile)  %>% \n",
    "column_to_rownames(\"gene\")   %>% as.matrix()\n",
    "\n",
    "options(repr.plot.width = 14, repr.plot.height = 4)\n",
    "pheatmap(t(mtx_all_studies_deciles), scale = \"row\",\n",
    "        color=colorRampPalette(c(\"dodgerblue\", \"grey95\", \"indianred2\"))(50), \n",
    "         border_color = \"white\", width = 14, height = 4, \n",
    "                  fontsize = 12)"
   ]
  },
  {
   "cell_type": "code",
   "execution_count": null,
   "id": "b0ca4e40",
   "metadata": {},
   "outputs": [],
   "source": [
    "mtx_all_studies_deciles  <- fc_merged  %>% \n",
    "dplyr::filter(Study_CellType != \"Newman CD19+/CD27- B cells\") %>% \n",
    "dplyr::filter(!is.na(Study_CellType))  %>%  \n",
    "filter(gene %in% c(genes1, genes2))  %>% \n",
    "dplyr::select(gene, Study_CellType, decile)  %>% \n",
    "pivot_wider(names_from = Study_CellType, values_from = decile)  %>% \n",
    "column_to_rownames(\"gene\")   %>% as.matrix()"
   ]
  },
  {
   "cell_type": "code",
   "execution_count": null,
   "id": "a3cfa8ad",
   "metadata": {},
   "outputs": [],
   "source": [
    "options(repr.plot.width = 14, repr.plot.height = 4)\n",
    "pheatmap(t(mtx_all_studies_deciles), scale = \"none\",\n",
    "        color=colorRampPalette(c(\"indianred2\", \"grey95\", \"steelblue2\"))(50), \n",
    "         border_color = \"white\", width = 14, height = 4, \n",
    "                  fontsize = 12)"
   ]
  },
  {
   "cell_type": "code",
   "execution_count": null,
   "id": "3909a54e",
   "metadata": {},
   "outputs": [],
   "source": []
  },
  {
   "cell_type": "code",
   "execution_count": null,
   "id": "30b31d97",
   "metadata": {},
   "outputs": [],
   "source": [
    "options(repr.plot.width = 14, repr.plot.height = 4)\n",
    "pheatmap(t(mtx_all_studies_deciles), scale = \"none\",\n",
    "        color=colorRampPalette(c(\"indianred2\", \"grey95\", \"steelblue2\"))(50), \n",
    "         border_color = \"white\", width = 14, height = 4, \n",
    "                  fontsize = 12,\n",
    "        filename = \"../figures/heatmap_other_studies2.pdf\")"
   ]
  },
  {
   "cell_type": "markdown",
   "id": "94191506",
   "metadata": {},
   "source": [
    "# With NatCom and PacBio"
   ]
  },
  {
   "cell_type": "markdown",
   "id": "29fd20ea",
   "metadata": {},
   "source": [
    "We will need to add the two single cell datasets to the heatmap. "
   ]
  },
  {
   "cell_type": "code",
   "execution_count": null,
   "id": "a181a88b",
   "metadata": {},
   "outputs": [],
   "source": [
    "merged  <- read_csv(\"../../240617_VN_Diabetes_V06/data/published_studies/matrix_allstudies_with_Honardoost.csv\")\n",
    "md_merged  <- read_csv(\"../../240617_VN_Diabetes_V06/data/published_studies/md_allstudies_with_Honardoost.csv\")\n",
    "\n",
    "merged$`...1`  <- NULL\n",
    "md_merged$`...1`  <- NULL\n"
   ]
  },
  {
   "cell_type": "code",
   "execution_count": null,
   "id": "f796d9d8",
   "metadata": {},
   "outputs": [],
   "source": [
    "table(colnames(merged)[2:907] == md_merged$Sample_ID)"
   ]
  },
  {
   "cell_type": "code",
   "execution_count": null,
   "id": "816f6da2",
   "metadata": {
    "scrolled": true
   },
   "outputs": [],
   "source": [
    "library(data.table)"
   ]
  },
  {
   "cell_type": "code",
   "execution_count": null,
   "id": "e350fa1b",
   "metadata": {},
   "outputs": [],
   "source": [
    "mtx_nc_cd4  <- mtx_nc_cd4[!(grepl(rownames(mtx_nc_cd4), pattern = \"^MT\")|\n",
    "                            grepl(rownames(mtx_nc_cd4), pattern = \"\\\\.\")|\n",
    "                            grepl(rownames(mtx_nc_cd4), pattern = \"LINC\")|\n",
    "                            grepl(rownames(mtx_nc_cd4), pattern = \"^MIR\")|\n",
    "                            grepl(rownames(mtx_nc_cd4), pattern = \"^MT\")|\n",
    "                            grepl(rownames(mtx_nc_cd4), pattern = \"HNRNP\")|\n",
    "                            grepl(rownames(mtx_nc_cd4), pattern = \"^RP[LS]\")|\n",
    "                            grepl(rownames(mtx_nc_cd4), pattern = \"\\\\-\")|\n",
    "                            grepl(rownames(mtx_nc_cd4), pattern = \"orf\"))\n",
    "                            ]"
   ]
  },
  {
   "cell_type": "code",
   "execution_count": null,
   "id": "4960839e",
   "metadata": {},
   "outputs": [],
   "source": [
    "mtx_nc_cd8_nk  <- mtx_nc_cd8_nk[!(grepl(rownames(mtx_nc_cd8_nk), pattern = \"^MT\")|\n",
    "                            grepl(rownames(mtx_nc_cd8_nk), pattern = \"\\\\.\")|\n",
    "                            grepl(rownames(mtx_nc_cd8_nk), pattern = \"LINC\")|\n",
    "                            grepl(rownames(mtx_nc_cd8_nk), pattern = \"^MIR\")|\n",
    "                            grepl(rownames(mtx_nc_cd8_nk), pattern = \"^MT\")|\n",
    "                            grepl(rownames(mtx_nc_cd8_nk), pattern = \"HNRNP\")|\n",
    "                            grepl(rownames(mtx_nc_cd8_nk), pattern = \"^RP[LS]\")|\n",
    "                            grepl(rownames(mtx_nc_cd8_nk), pattern = \"\\\\-\")|\n",
    "                            grepl(rownames(mtx_nc_cd8_nk), pattern = \"orf\")) \n",
    "                            ]"
   ]
  },
  {
   "cell_type": "code",
   "execution_count": null,
   "id": "cd07dd18",
   "metadata": {},
   "outputs": [],
   "source": [
    "mtx_pb_cd4  <- mtx_pb_cd4[!(grepl(rownames(mtx_pb_cd4), pattern = \"^MT\")|\n",
    "                            grepl(rownames(mtx_pb_cd4), pattern = \"\\\\.\")|\n",
    "                            grepl(rownames(mtx_pb_cd4), pattern = \"LINC\")|\n",
    "                            grepl(rownames(mtx_pb_cd4), pattern = \"^MIR\")|\n",
    "                            grepl(rownames(mtx_pb_cd4), pattern = \"^MT\")|\n",
    "                            grepl(rownames(mtx_pb_cd4), pattern = \"HNRNP\")|\n",
    "                            grepl(rownames(mtx_pb_cd4), pattern = \"^RP[LS]\")|\n",
    "                            grepl(rownames(mtx_pb_cd4), pattern = \"\\\\-\")|\n",
    "                            grepl(rownames(mtx_pb_cd4), pattern = \"orf\")) \n",
    "                            ]"
   ]
  },
  {
   "cell_type": "code",
   "execution_count": null,
   "id": "d15ebaef",
   "metadata": {},
   "outputs": [],
   "source": [
    "mtx_pb_cd8_nk  <- mtx_pb_cd8_nk[!(grepl(rownames(mtx_pb_cd8_nk), pattern = \"^MT\")|\n",
    "                            grepl(rownames(mtx_pb_cd8_nk), pattern = \"\\\\.\")|\n",
    "                            grepl(rownames(mtx_pb_cd8_nk), pattern = \"LINC\")|\n",
    "                            grepl(rownames(mtx_pb_cd8_nk), pattern = \"^MIR\")|\n",
    "                            grepl(rownames(mtx_pb_cd8_nk), pattern = \"^MT\")|\n",
    "                            grepl(rownames(mtx_pb_cd8_nk), pattern = \"HNRNP\")|\n",
    "                            grepl(rownames(mtx_pb_cd8_nk), pattern = \"^RP[LS]\")|\n",
    "                            grepl(rownames(mtx_pb_cd8_nk), pattern = \"\\\\-\")|\n",
    "                            grepl(rownames(mtx_pb_cd8_nk), pattern = \"orf\")) \n",
    "                            ]"
   ]
  },
  {
   "cell_type": "code",
   "execution_count": null,
   "id": "e81cd8f4",
   "metadata": {},
   "outputs": [],
   "source": [
    "dt_mtx_nc_cd4  <- as.data.table(mtx_nc_cd4, keep.rownames = T)\n",
    "dt_mtx_nc_cd8  <- as.data.table(mtx_nc_cd8_nk, keep.rownames = T)\n",
    "dt_mtx_pb_cd4  <- as.data.table(mtx_pb_cd4, keep.rownames = T)\n",
    "dt_mtx_pb_cd8  <- as.data.table(mtx_pb_cd8_nk, keep.rownames = T)\n",
    "\n",
    "merged <- merge(merged, dt_mtx_nc_cd4, by = \"rn\", all.x = TRUE)\n",
    "merged <- merge(merged, dt_mtx_nc_cd8, by = \"rn\", all.x = TRUE)\n",
    "merged <- merge(merged, dt_mtx_pb_cd4, by = \"rn\", all.x = TRUE)\n",
    "merged <- merge(merged, dt_mtx_pb_cd8, by = \"rn\", all.x = TRUE)\n"
   ]
  },
  {
   "cell_type": "code",
   "execution_count": null,
   "id": "af553f7b",
   "metadata": {},
   "outputs": [],
   "source": [
    "md_merged_new  <- rbind(md_nc_cd4, md_nc_cd8_nk, md_pb_cd4, md_pb_cd8_nk)"
   ]
  },
  {
   "cell_type": "code",
   "execution_count": null,
   "id": "86f08448",
   "metadata": {},
   "outputs": [],
   "source": [
    "md_merged_new2  <- data.frame(Sample_ID = md_merged_new$Sample_ID, \n",
    "                              Patient_ID = md_merged_new$Patient_ID, \n",
    "                              Age = NA_character_,\n",
    "                              CellType = md_merged_new$cell_type, \n",
    "                              Disease = md_merged_new$Disease,\n",
    "                              Study = md_merged_new$Study, \n",
    "                              Sex = NA_character_,\n",
    "                              gene = NA_character_)  %>% \n",
    "mutate(Study_CellType = paste(Study, CellType))"
   ]
  },
  {
   "cell_type": "code",
   "execution_count": null,
   "id": "173b6bc2",
   "metadata": {},
   "outputs": [],
   "source": [
    "md_merged_old_and_new  <- rbind(md_merged, md_merged_new2)"
   ]
  },
  {
   "cell_type": "code",
   "execution_count": null,
   "id": "156535d0",
   "metadata": {},
   "outputs": [],
   "source": [
    "colnames(merged)[908:923]  <- gsub(colnames(merged)[908:923], pattern = \"_N\", replacement = \"\")\n",
    "colnames(merged)[908:923]  <- gsub(colnames(merged)[908:923], pattern = \"_P\", replacement = \"\")"
   ]
  },
  {
   "cell_type": "code",
   "execution_count": null,
   "id": "8845d66e",
   "metadata": {},
   "outputs": [],
   "source": [
    "colnames(merged)[908:923]  <- gsub(colnames(merged)[908:923], pattern = \"CD8K\", replacement = \"CD8_NK\")"
   ]
  },
  {
   "cell_type": "code",
   "execution_count": null,
   "id": "d46874bd",
   "metadata": {},
   "outputs": [],
   "source": [
    "md_merged_new2$Sample_ID[1:16]"
   ]
  },
  {
   "cell_type": "code",
   "execution_count": null,
   "id": "10202b9c",
   "metadata": {},
   "outputs": [],
   "source": [
    "colnames(merged)[908:923]"
   ]
  },
  {
   "cell_type": "code",
   "execution_count": null,
   "id": "ccae9250",
   "metadata": {},
   "outputs": [],
   "source": [
    "md_merged_new2$Sample_ID[1:16] == colnames(merged)[908:923]"
   ]
  },
  {
   "cell_type": "code",
   "execution_count": null,
   "id": "fc3bb6ca",
   "metadata": {},
   "outputs": [],
   "source": [
    "colnames(merged)[924:971] "
   ]
  },
  {
   "cell_type": "code",
   "execution_count": null,
   "id": "47e89965",
   "metadata": {},
   "outputs": [],
   "source": [
    "md_merged_new2$Sample_ID[17:64]"
   ]
  },
  {
   "cell_type": "code",
   "execution_count": null,
   "id": "c5353a34",
   "metadata": {},
   "outputs": [],
   "source": [
    "colnames(merged)[924:971] == md_merged_new2$Sample_ID[17:64]"
   ]
  },
  {
   "cell_type": "code",
   "execution_count": null,
   "id": "103a522e",
   "metadata": {},
   "outputs": [],
   "source": [
    "table(colnames(merged)[2:971] == md_merged_old_and_new$Sample_ID)"
   ]
  },
  {
   "cell_type": "code",
   "execution_count": null,
   "id": "a1687f19",
   "metadata": {},
   "outputs": [],
   "source": [
    "md_merged  <- md_merged_old_and_new"
   ]
  },
  {
   "cell_type": "code",
   "execution_count": null,
   "id": "7522db8a",
   "metadata": {},
   "outputs": [],
   "source": [
    "write.csv(merged, \"../../240617_VN_Diabetes_V06/data/published_studies/matrix_allstudies_with_Honardoost_NC_PB.csv\")\n",
    "write.csv(md_merged, \"../../240617_VN_Diabetes_V06/data/published_studies/md_allstudies_with_Honardoost_NC_PB.csv\")"
   ]
  },
  {
   "cell_type": "code",
   "execution_count": null,
   "id": "3f037670",
   "metadata": {},
   "outputs": [],
   "source": [
    "merged  <- read_csv(\"../../240617_VN_Diabetes_V06/data/published_studies/matrix_allstudies_with_Honardoost_NC_PB.csv\")\n",
    "md_merged  <- read_csv(\"../../240617_VN_Diabetes_V06/data/published_studies/md_allstudies_with_Honardoost_NC_PB.csv\")"
   ]
  },
  {
   "cell_type": "code",
   "execution_count": null,
   "id": "b3edbe15",
   "metadata": {},
   "outputs": [],
   "source": [
    "merged$`...1`  <- NULL\n",
    "md_merged$`...1`  <- NULL"
   ]
  },
  {
   "cell_type": "code",
   "execution_count": null,
   "id": "c302bac2",
   "metadata": {},
   "outputs": [],
   "source": [
    "newman_samples  <- md_merged  %>% dplyr::filter(grepl(Study_CellType, pattern = \"Newman\"))  %>% pull(Sample_ID)"
   ]
  },
  {
   "cell_type": "code",
   "execution_count": null,
   "id": "02d37ee7",
   "metadata": {},
   "outputs": [],
   "source": [
    "which(!(colnames(merged) %in% newman_samples))"
   ]
  },
  {
   "cell_type": "code",
   "execution_count": null,
   "id": "a19cd952",
   "metadata": {},
   "outputs": [],
   "source": [
    "md_merged_without_newman <- md_merged  %>% dplyr::filter(!grepl(Study_CellType, pattern = \"Newman\"))"
   ]
  },
  {
   "cell_type": "code",
   "execution_count": null,
   "id": "c22c2a9b",
   "metadata": {},
   "outputs": [],
   "source": [
    "merged_without_newman  <- merged[,which(!(colnames(merged) %in% newman_samples))]"
   ]
  },
  {
   "cell_type": "code",
   "execution_count": null,
   "id": "01044bf8",
   "metadata": {},
   "outputs": [],
   "source": [
    "all.equal(md_merged_without_newman$Sample_ID, colnames(merged_without_newman)[2:529])"
   ]
  },
  {
   "cell_type": "code",
   "execution_count": null,
   "id": "91076ee0",
   "metadata": {
    "scrolled": true
   },
   "outputs": [],
   "source": [
    "library(data.table)"
   ]
  },
  {
   "cell_type": "code",
   "execution_count": null,
   "id": "8ce7501f",
   "metadata": {},
   "outputs": [],
   "source": [
    "dt_mtx_newman  <- as.data.table(mtx_newman)"
   ]
  },
  {
   "cell_type": "code",
   "execution_count": null,
   "id": "ba6c9945",
   "metadata": {
    "scrolled": true
   },
   "outputs": [],
   "source": [
    "dt_mtx_newman$rn  <- rownames(mtx_newman)"
   ]
  },
  {
   "cell_type": "code",
   "execution_count": null,
   "id": "ff8009a8",
   "metadata": {},
   "outputs": [],
   "source": [
    "merged <- merge(merged_without_newman, dt_mtx_newman, by = \"rn\", all = TRUE)"
   ]
  },
  {
   "cell_type": "code",
   "execution_count": null,
   "id": "cd2a8452",
   "metadata": {
    "scrolled": true
   },
   "outputs": [],
   "source": [
    "md_newman4  <- md_newman3  %>%  mutate(Patient_ID = \"\", Study = \"Newman\", gene = 0)  %>% \n",
    "mutate(Study_CellType = paste(Study, CellType))  %>% \n",
    "dplyr::select(Sample_ID, Patient_ID, Age, CellType, Disease, Study, Sex, gene, Study_CellType)"
   ]
  },
  {
   "cell_type": "code",
   "execution_count": null,
   "id": "97c5e550",
   "metadata": {},
   "outputs": [],
   "source": [
    "md_merged4  <- rbind(md_merged_without_newman, md_newman4)"
   ]
  },
  {
   "cell_type": "markdown",
   "id": "f5302ffc",
   "metadata": {},
   "source": [
    "Check that all sample IDs are equal in the matrix and metadata. "
   ]
  },
  {
   "cell_type": "code",
   "execution_count": null,
   "id": "46fdb9c2",
   "metadata": {},
   "outputs": [],
   "source": [
    "all.equal(colnames(merged)[2:length(colnames(merged))],md_merged4$Sample_ID)"
   ]
  },
  {
   "cell_type": "markdown",
   "id": "11fe3712",
   "metadata": {},
   "source": [
    "# Heatmap with Honardoost, NatCom and ParseBio"
   ]
  },
  {
   "cell_type": "code",
   "execution_count": null,
   "id": "3c391778",
   "metadata": {},
   "outputs": [],
   "source": [
    "md_merged  <- md_merged4"
   ]
  },
  {
   "cell_type": "code",
   "execution_count": null,
   "id": "c83fba2c",
   "metadata": {
    "scrolled": true
   },
   "outputs": [],
   "source": [
    "md_merged  %>% group_by(Study, CellType, Disease)  %>% tally  %>% mutate(n = ifelse(Disease == \"Dia\",n*-1,n))"
   ]
  },
  {
   "cell_type": "code",
   "execution_count": null,
   "id": "640eeeae",
   "metadata": {},
   "outputs": [],
   "source": [
    "options(repr.plot.width = 12, repr.plot.height = 6)\n",
    "\n",
    "md_merged  %>% \n",
    "mutate(Study_CellType = gsub(paste(Study, CellType), pattern = \"-mes\", replacement = \"\"))  %>% \n",
    "mutate(Study_CellType = gsub(Study_CellType, pattern = \"-sma\", replacement = \"\"))  %>% \n",
    "mutate(Study_CellType = gsub(Study_CellType, pattern = \"-pct\", replacement = \"\"))  %>% \n",
    "mutate(Study_CellType = gsub(Study_CellType, pattern = \"-pch\", replacement = \"\"))  %>% \n",
    "group_by(Study_CellType, Disease)  %>% tally  %>%\n",
    "ggplot(aes(x = n, y = reorder(Study_CellType, n), fill = Disease)) + \n",
    "  geom_bar(stat=\"identity\", position=\"stack\") + ggtheme() + xlab(\"\") + ylab(\"\")"
   ]
  },
  {
   "cell_type": "code",
   "execution_count": null,
   "id": "cbd57c20",
   "metadata": {},
   "outputs": [],
   "source": [
    "md_merged  %>% group_by(Study, CellType, Disease)  %>% tally  %>%\n",
    " mutate(n = ifelse(Disease == \"Dia\",n*-1,n)) %>% \n",
    "mutate(Study_CellType = paste(Study, CellType))  %>% \n",
    "ggplot(aes(x = n, y = Study_CellType, fill = Disease)) + \n",
    "  geom_bar(stat=\"identity\", position=\"identity\") "
   ]
  },
  {
   "cell_type": "markdown",
   "id": "3651b8d9",
   "metadata": {},
   "source": [
    "### Without Y genes"
   ]
  },
  {
   "cell_type": "code",
   "execution_count": null,
   "id": "b3b67395",
   "metadata": {},
   "outputs": [],
   "source": [
    "library(biomaRt)\n",
    "mart <- useMart(biomart=\"ensembl\", dataset=\"hsapiens_gene_ensembl\")"
   ]
  },
  {
   "cell_type": "code",
   "execution_count": null,
   "id": "5e8c2d68",
   "metadata": {},
   "outputs": [],
   "source": [
    "results <- getBM(attributes = c(\"chromosome_name\", \"hgnc_symbol\"),\n",
    "           filters = \"chromosome_name\", values = \"Y\", mart = mart)"
   ]
  },
  {
   "cell_type": "code",
   "execution_count": null,
   "id": "a2d142cf",
   "metadata": {
    "scrolled": true
   },
   "outputs": [],
   "source": [
    "results"
   ]
  },
  {
   "cell_type": "code",
   "execution_count": null,
   "id": "02af17ab",
   "metadata": {},
   "outputs": [],
   "source": [
    "merged"
   ]
  },
  {
   "cell_type": "code",
   "execution_count": null,
   "id": "83498b09",
   "metadata": {},
   "outputs": [],
   "source": [
    "bulk_to_seurat  <- function(i){\n",
    "    \n",
    "md_kallionpaa  <- md_merged  %>% dplyr::filter(Study_CellType == levels(factor(md_merged$Study_CellType))[i])\n",
    "mtx_kallionpaa  <- merged[,colnames(merged) %in% md_kallionpaa$Sample_ID]\n",
    "mtx_kallionpaa[is.na(mtx_kallionpaa)]  <- 0\n",
    "rownames(mtx_kallionpaa)  <- merged$rn\n",
    "mtx_kallionpaa  <- mtx_kallionpaa[!(grepl(rownames(mtx_kallionpaa), pattern = \"^MT\")|\n",
    "                            grepl(rownames(mtx_kallionpaa), pattern = \"\\\\.\")|\n",
    "                            rownames(mtx_kallionpaa) %in% results$hgnc_symbol |\n",
    "                            grepl(rownames(mtx_kallionpaa), pattern = \"LINC\")|\n",
    "                            grepl(rownames(mtx_kallionpaa), pattern = \"^MIR\")|\n",
    "                            grepl(rownames(mtx_kallionpaa), pattern = \"^MT\")|\n",
    "                            grepl(rownames(mtx_kallionpaa), pattern = \"HNRNP\")|\n",
    "                            grepl(rownames(mtx_kallionpaa), pattern = \"^RP[LS]\")|\n",
    "                            grepl(rownames(mtx_kallionpaa), pattern = \"\\\\-\")|\n",
    "                            grepl(rownames(mtx_kallionpaa), pattern = \"orf\")), ]    \n",
    "    \n",
    "seu_mtx_kallionpaa  <- CreateSeuratObject(mtx_kallionpaa, min.cells = 0, min.features = 0)\n",
    "seu_mtx_kallionpaa  <- NormalizeData(seu_mtx_kallionpaa)\n",
    "seu_mtx_kallionpaa  <- ScaleData(seu_mtx_kallionpaa)\n",
    "seu_mtx_kallionpaa$Sample_ID  <- colnames(seu_mtx_kallionpaa)\n",
    "seu_mtx_kallionpaa@meta.data  <- cbind(seu_mtx_kallionpaa@meta.data, md_kallionpaa)\n",
    "    rownames(seu_mtx_kallionpaa@meta.data)  <- colnames(seu_mtx_kallionpaa)\n",
    "    Idents(seu_mtx_kallionpaa)  <- seu_mtx_kallionpaa$Disease\n",
    "    fc  <- FoldChange(seu_mtx_kallionpaa, `ident.1` = \"Dia\", `ident.2` = \"Ctrl\",\n",
    "                      slot = \"data\", pseudocount.use = 0.001)\n",
    "    fc$Study_CellType = levels(factor(md_merged$Study_CellType))[i]\n",
    "    fc$decile = ntile(fc$avg_log2FC, 20)\n",
    "    fc$gene  <- rownames(fc)\n",
    "   seu_mtx_kallionpaa@misc$fc  <- fc\n",
    "    return(seu_mtx_kallionpaa)\n",
    "    }"
   ]
  },
  {
   "cell_type": "code",
   "execution_count": null,
   "id": "7ab27f3f",
   "metadata": {},
   "outputs": [],
   "source": [
    "levels(factor(md_merged$Study_CellType))  "
   ]
  },
  {
   "cell_type": "code",
   "execution_count": null,
   "id": "b645410a",
   "metadata": {
    "scrolled": true
   },
   "outputs": [],
   "source": [
    "seurats  <- map(.x = 1:17, .f = bulk_to_seurat)"
   ]
  },
  {
   "cell_type": "code",
   "execution_count": null,
   "id": "571e0980",
   "metadata": {},
   "outputs": [],
   "source": [
    "seurats"
   ]
  },
  {
   "cell_type": "markdown",
   "id": "59b94363",
   "metadata": {},
   "source": [
    "### Add CD4 Lab48 FC"
   ]
  },
  {
   "cell_type": "code",
   "execution_count": null,
   "id": "3f8ea20d",
   "metadata": {},
   "outputs": [],
   "source": [
    "cd4_fc  <- read_csv(\"../../240617_VN_Diabetes_V06/tables/fold_change/cd4_l1_full_filt.csv\")"
   ]
  },
  {
   "cell_type": "code",
   "execution_count": null,
   "id": "e2a5a873",
   "metadata": {},
   "outputs": [],
   "source": [
    "cd4_fc$`...1`  <- NULL"
   ]
  },
  {
   "cell_type": "code",
   "execution_count": null,
   "id": "a1894540",
   "metadata": {
    "scrolled": true
   },
   "outputs": [],
   "source": [
    "cd4_fc  <- cd4_fc  %>% dplyr::filter(cluster == \"Dia\")  "
   ]
  },
  {
   "cell_type": "code",
   "execution_count": null,
   "id": "8e67dd41",
   "metadata": {},
   "outputs": [],
   "source": [
    "cd4_fc$decile = ntile(cd4_fc$avg_log2FC, 20)"
   ]
  },
  {
   "cell_type": "code",
   "execution_count": null,
   "id": "73452ac1",
   "metadata": {},
   "outputs": [],
   "source": [
    "cd4_fc  <- cd4_fc  %>% dplyr::filter(cluster == \"Dia\")  "
   ]
  },
  {
   "cell_type": "code",
   "execution_count": null,
   "id": "30cfca7d",
   "metadata": {},
   "outputs": [],
   "source": [
    "cd4_fc$Study_CellType  <- \"Lab48 CD4\""
   ]
  },
  {
   "cell_type": "code",
   "execution_count": null,
   "id": "021882d1",
   "metadata": {},
   "outputs": [],
   "source": [
    "cd4_fc  <- cd4_fc  %>% dplyr::filter(\n",
    " !(grepl(gene, pattern = \"^MT\")|\n",
    "                            grepl(gene, pattern = \"\\\\.\")|\n",
    "                            grepl(gene, pattern = \"LINC\")|\n",
    "                            grepl(gene, pattern = \"^MIR\")|\n",
    "                            grepl(gene, pattern = \"^MT\")|\n",
    "                            grepl(gene, pattern = \"HNRNP\")|\n",
    "                            grepl(gene, pattern = \"^RP[LS]\")|\n",
    "                            grepl(gene, pattern = \"\\\\-\")|\n",
    "                            gene %in% results$hgnc_symbol |\n",
    "                            grepl(gene, pattern = \"orf\"))) "
   ]
  },
  {
   "cell_type": "code",
   "execution_count": null,
   "id": "0cdc4e2d",
   "metadata": {
    "scrolled": true
   },
   "outputs": [],
   "source": [
    "seurats[[7]]@misc$fc  <- cd4_fc"
   ]
  },
  {
   "cell_type": "code",
   "execution_count": null,
   "id": "baa56494",
   "metadata": {
    "scrolled": true
   },
   "outputs": [],
   "source": [
    "seurats[[7]]@misc$fc"
   ]
  },
  {
   "cell_type": "markdown",
   "id": "89f1dae6",
   "metadata": {},
   "source": [
    "### Add CD8 Lab48 FC"
   ]
  },
  {
   "cell_type": "code",
   "execution_count": null,
   "id": "d80bda1e",
   "metadata": {},
   "outputs": [],
   "source": [
    "cd8_fc  <- read_csv(\"../../240617_VN_Diabetes_V06/tables/fold_change/cd8_l1_full_filt.csv\")"
   ]
  },
  {
   "cell_type": "code",
   "execution_count": null,
   "id": "701dd1cb",
   "metadata": {},
   "outputs": [],
   "source": [
    "cd8_fc$`...1`  <- NULL"
   ]
  },
  {
   "cell_type": "code",
   "execution_count": null,
   "id": "83ad1101",
   "metadata": {
    "scrolled": true
   },
   "outputs": [],
   "source": [
    "cd8_fc  <- cd8_fc  %>% dplyr::filter(cluster == \"Dia\")  "
   ]
  },
  {
   "cell_type": "code",
   "execution_count": null,
   "id": "3a4187ad",
   "metadata": {},
   "outputs": [],
   "source": [
    "cd8_fc  <- cd8_fc  %>% dplyr::filter(\n",
    " !(grepl(gene, pattern = \"^MT\")|\n",
    "                            grepl(gene, pattern = \"\\\\.\")|\n",
    "                            grepl(gene, pattern = \"LINC\")|\n",
    "                            grepl(gene, pattern = \"^MIR\")|\n",
    "                            grepl(gene, pattern = \"^MT\")|\n",
    "                            grepl(gene, pattern = \"HNRNP\")|\n",
    "                            grepl(gene, pattern = \"^RP[LS]\")|\n",
    "                            grepl(gene, pattern = \"\\\\-\")|\n",
    "                            gene %in% results$hgnc_symbol |\n",
    "                            grepl(gene, pattern = \"orf\")))"
   ]
  },
  {
   "cell_type": "code",
   "execution_count": null,
   "id": "37d01495",
   "metadata": {},
   "outputs": [],
   "source": [
    "cd8_fc$decile = ntile(cd8_fc$avg_log2FC, 20)"
   ]
  },
  {
   "cell_type": "code",
   "execution_count": null,
   "id": "3252f952",
   "metadata": {
    "scrolled": true
   },
   "outputs": [],
   "source": [
    "cd8_fc$Study_CellType  <- \"Lab48 CD8\""
   ]
  },
  {
   "cell_type": "code",
   "execution_count": null,
   "id": "64e122f7",
   "metadata": {},
   "outputs": [],
   "source": [
    "seurats[[8]]@misc$fc  <- cd8_fc"
   ]
  },
  {
   "cell_type": "markdown",
   "id": "38c263a2",
   "metadata": {},
   "source": [
    "### Add HPAP FC LN"
   ]
  },
  {
   "cell_type": "code",
   "execution_count": null,
   "id": "5fb477f1",
   "metadata": {
    "scrolled": true
   },
   "outputs": [],
   "source": [
    "fc_hpap_ln"
   ]
  },
  {
   "cell_type": "code",
   "execution_count": null,
   "id": "fcc49f38",
   "metadata": {},
   "outputs": [],
   "source": [
    "fc_hpap_ln  <- fc_hpap_ln  %>% dplyr::filter(\n",
    " !(grepl(gene, pattern = \"^MT\")|\n",
    "                            grepl(gene, pattern = \"\\\\.\")|\n",
    "                            grepl(gene, pattern = \"LINC\")|\n",
    "                            grepl(gene, pattern = \"^MIR\")|\n",
    "                            grepl(gene, pattern = \"^MT\")|\n",
    "                            grepl(gene, pattern = \"^OR4F\")|\n",
    "                            grepl(gene, pattern = \"^MT\")|\n",
    "                            grepl(gene, pattern = \"HNRNP\")|\n",
    "                            grepl(gene, pattern = \"^RP[LS]\")|\n",
    "                            gene %in% results$hgnc_symbol |\n",
    "                            grepl(gene, pattern = \"\\\\-\")|\n",
    "                            grepl(gene, pattern = \"orf\")))"
   ]
  },
  {
   "cell_type": "code",
   "execution_count": null,
   "id": "6a910c2f",
   "metadata": {
    "scrolled": true
   },
   "outputs": [],
   "source": [
    "fc_hpap_ln$decile = ntile(fc_hpap_ln$avg_log2FC, 20)"
   ]
  },
  {
   "cell_type": "code",
   "execution_count": null,
   "id": "f924d3e1",
   "metadata": {},
   "outputs": [],
   "source": [
    "seurats[[2]]@misc$fc  <- fc_hpap_ln"
   ]
  },
  {
   "cell_type": "markdown",
   "id": "d9218bbb",
   "metadata": {},
   "source": [
    "### Add HPAP FC SPL"
   ]
  },
  {
   "cell_type": "code",
   "execution_count": null,
   "id": "88c8620d",
   "metadata": {},
   "outputs": [],
   "source": [
    "fc_hpap_spl  <- fc_hpap_spl  %>% dplyr::filter(\n",
    " !(grepl(gene, pattern = \"^MT\")|\n",
    "                            grepl(gene, pattern = \"\\\\.\")|\n",
    "                            grepl(gene, pattern = \"LINC\")|\n",
    "                            grepl(gene, pattern = \"^MIR\")|\n",
    "                            grepl(gene, pattern = \"^MT\")|\n",
    "                            grepl(gene, pattern = \"^OR4F\")|\n",
    "                            grepl(gene, pattern = \"^MT\")|\n",
    "                            grepl(gene, pattern = \"HNRNP\")|\n",
    "                            grepl(gene, pattern = \"^RP[LS]\")|\n",
    "                            gene %in% results$hgnc_symbol |\n",
    "                            grepl(gene, pattern = \"\\\\-\")|\n",
    "                            grepl(gene, pattern = \"orf\")))"
   ]
  },
  {
   "cell_type": "code",
   "execution_count": null,
   "id": "890f5985",
   "metadata": {
    "scrolled": true
   },
   "outputs": [],
   "source": [
    "fc_hpap_spl$decile = ntile(fc_hpap_spl$avg_log2FC, 20)"
   ]
  },
  {
   "cell_type": "code",
   "execution_count": null,
   "id": "0e02a8ee",
   "metadata": {},
   "outputs": [],
   "source": [
    "seurats[[3]]@misc$fc  <- fc_hpap_spl"
   ]
  },
  {
   "cell_type": "markdown",
   "id": "c7c863f0",
   "metadata": {
    "scrolled": true
   },
   "source": [
    "### Add Honardoost FC"
   ]
  },
  {
   "cell_type": "code",
   "execution_count": null,
   "id": "8a5ac194",
   "metadata": {},
   "outputs": [],
   "source": [
    "fc_honar  <- fc_honar  %>% dplyr::filter(\n",
    " !(grepl(gene, pattern = \"^MT\")|\n",
    "                            grepl(gene, pattern = \"\\\\.\")|\n",
    "                            grepl(gene, pattern = \"LINC\")|\n",
    "                            grepl(gene, pattern = \"^MIR\")|\n",
    "                            grepl(gene, pattern = \"^MT\")|\n",
    "                            grepl(gene, pattern = \"^OR4F\")|\n",
    "                            grepl(gene, pattern = \"^MT\")|\n",
    "                            grepl(gene, pattern = \"HNRNP\")|\n",
    "                            grepl(gene, pattern = \"^RP[LS]\")|\n",
    "                            gene %in% results$hgnc_symbol |\n",
    "                            grepl(gene, pattern = \"\\\\-\")|\n",
    "                            grepl(gene, pattern = \"orf\")))"
   ]
  },
  {
   "cell_type": "code",
   "execution_count": null,
   "id": "4f8eaf2e",
   "metadata": {
    "scrolled": true
   },
   "outputs": [],
   "source": [
    "fc_honar$decile = ntile(fc_honar$avg_log2FC, 20)"
   ]
  },
  {
   "cell_type": "code",
   "execution_count": null,
   "id": "b18d6b7e",
   "metadata": {},
   "outputs": [],
   "source": [
    "seurats[[1]]@misc$fc  <- fc_honar"
   ]
  },
  {
   "cell_type": "markdown",
   "id": "09b72045",
   "metadata": {},
   "source": [
    "### Add ParseBio FC "
   ]
  },
  {
   "cell_type": "code",
   "execution_count": null,
   "id": "90a4a74a",
   "metadata": {},
   "outputs": [],
   "source": [
    "pb_cd4$Disease  <- ifelse(substr(pb_cd4$sample,1,1)==\"H\",\"Ctrl\",\"Dia\")\n",
    "pb_cd8_nk$Disease  <- ifelse(substr(pb_cd8_nk$sample,1,1)==\"H\",\"Ctrl\",\"Dia\")"
   ]
  },
  {
   "cell_type": "code",
   "execution_count": null,
   "id": "c790455c",
   "metadata": {},
   "outputs": [],
   "source": [
    "Idents(pb_cd4)  <- pb_cd4$Disease\n",
    "Idents(pb_cd8_nk)  <- pb_cd8_nk$Disease"
   ]
  },
  {
   "cell_type": "code",
   "execution_count": null,
   "id": "7f8ee9d2",
   "metadata": {},
   "outputs": [],
   "source": [
    "fc_pb_cd8_nk  <- FoldChange(pb_cd8_nk,  `ident.1` = \"Dia\", `ident.2` = \"Ctrl\",\n",
    "                      slot = \"data\") \n",
    "    fc_pb_cd8_nk$gene  <- rownames(fc_pb_cd8_nk)"
   ]
  },
  {
   "cell_type": "code",
   "execution_count": null,
   "id": "a850d683",
   "metadata": {},
   "outputs": [],
   "source": [
    "fc_pb_cd8_nk  <- fc_pb_cd8_nk  %>% dplyr::filter(\n",
    " !(grepl(gene, pattern = \"^MT\")|\n",
    "                            grepl(gene, pattern = \"\\\\.\")|\n",
    "                            grepl(gene, pattern = \"LINC\")|\n",
    "                            grepl(gene, pattern = \"^MIR\")|\n",
    "                            grepl(gene, pattern = \"^MT\")|\n",
    "                            grepl(gene, pattern = \"^OR4F\")|\n",
    "                            grepl(gene, pattern = \"^MT\")|\n",
    "                            grepl(gene, pattern = \"HNRNP\")|\n",
    "                            grepl(gene, pattern = \"^RP[LS]\")|\n",
    "                            gene %in% results$hgnc_symbol |\n",
    "                            grepl(gene, pattern = \"\\\\-\")|\n",
    "                            grepl(gene, pattern = \"orf\")))"
   ]
  },
  {
   "cell_type": "code",
   "execution_count": null,
   "id": "1b197c91",
   "metadata": {},
   "outputs": [],
   "source": [
    "    fc_pb_cd8_nk$Study_CellType = 'ParseBio CD8_NK'\n",
    "    fc_pb_cd8_nk$decile = ntile(fc_pb_cd8_nk$avg_log2FC, 20)"
   ]
  },
  {
   "cell_type": "code",
   "execution_count": null,
   "id": "b99be54e",
   "metadata": {},
   "outputs": [],
   "source": [
    "fc_pb_cd4  <- FoldChange(pb_cd4,  `ident.1` = \"Dia\", `ident.2` = \"Ctrl\",\n",
    "                      slot = \"data\") \n",
    "    fc_pb_cd4$gene  <- rownames(fc_pb_cd4)\n",
    "\n",
    "fc_pb_cd4  <- fc_pb_cd4  %>% dplyr::filter(\n",
    " !(grepl(gene, pattern = \"^MT\")|\n",
    "                            grepl(gene, pattern = \"\\\\.\")|\n",
    "                            grepl(gene, pattern = \"LINC\")|\n",
    "                            grepl(gene, pattern = \"^MIR\")|\n",
    "                            grepl(gene, pattern = \"^MT\")|\n",
    "                            grepl(gene, pattern = \"^OR4F\")|\n",
    "                            grepl(gene, pattern = \"^MT\")|\n",
    "                            grepl(gene, pattern = \"HNRNP\")|\n",
    "                            grepl(gene, pattern = \"^RP[LS]\")|\n",
    "                            gene %in% results$hgnc_symbol |\n",
    "                            grepl(gene, pattern = \"\\\\-\")|\n",
    "                            grepl(gene, pattern = \"orf\")))\n",
    "\n",
    "    fc_pb_cd4$Study_CellType = 'ParseBio CD4'\n",
    "    fc_pb_cd4$decile = ntile(fc_pb_cd4$avg_log2FC, 20)"
   ]
  },
  {
   "cell_type": "code",
   "execution_count": null,
   "id": "057cb78b",
   "metadata": {
    "scrolled": true
   },
   "outputs": [],
   "source": [
    "seurats[[15]]@misc$fc  <- fc_pb_cd4\n",
    "seurats[[16]]@misc$fc  <- fc_pb_cd8_nk"
   ]
  },
  {
   "cell_type": "markdown",
   "id": "6f4bde97",
   "metadata": {},
   "source": [
    "### Add NatCom FC"
   ]
  },
  {
   "cell_type": "code",
   "execution_count": null,
   "id": "2a292c37",
   "metadata": {},
   "outputs": [],
   "source": [
    "nc_cd4$Disease  <- ifelse(nc_cd4$Disease==\"N\",\"Ctrl\",\"Dia\")\n",
    "nc_cd8_nk$Disease  <- ifelse(nc_cd8_nk$Disease==\"N\",\"Ctrl\",\"Dia\")"
   ]
  },
  {
   "cell_type": "code",
   "execution_count": null,
   "id": "e790ff5b",
   "metadata": {},
   "outputs": [],
   "source": [
    "nc_cd4$Disease   %>% table"
   ]
  },
  {
   "cell_type": "code",
   "execution_count": null,
   "id": "00ed92c2",
   "metadata": {},
   "outputs": [],
   "source": [
    "Idents(nc_cd4)  <- nc_cd4$Disease\n",
    "Idents(nc_cd8_nk)  <- nc_cd8_nk$Disease"
   ]
  },
  {
   "cell_type": "code",
   "execution_count": null,
   "id": "73163e87",
   "metadata": {},
   "outputs": [],
   "source": [
    "fc_nc_cd4  <- FoldChange(nc_cd4,  `ident.1` = \"Dia\", `ident.2` = \"Ctrl\",\n",
    "                      slot = \"data\")"
   ]
  },
  {
   "cell_type": "code",
   "execution_count": null,
   "id": "0f76fb67",
   "metadata": {},
   "outputs": [],
   "source": [
    "grep(rownames(fc_nc_cd4), pattern = \"CX3CR1\", value = T)"
   ]
  },
  {
   "cell_type": "code",
   "execution_count": null,
   "id": "becd6fc7",
   "metadata": {},
   "outputs": [],
   "source": [
    "    fc_nc_cd4$gene  <- rownames(fc_nc_cd4)"
   ]
  },
  {
   "cell_type": "code",
   "execution_count": null,
   "id": "ded6d6e3",
   "metadata": {},
   "outputs": [],
   "source": [
    "fc_nc_cd4  <- fc_nc_cd4   %>% dplyr::filter(\n",
    "                             !(grepl(gene, pattern = \"^MT\")|\n",
    "                            grepl(gene, pattern = \"\\\\.\")|\n",
    "                            grepl(gene, pattern = \"LINC\")|\n",
    "                            grepl(gene, pattern = \"^MIR\")|\n",
    "                            grepl(gene, pattern = \"^MT\")|\n",
    "                            grepl(gene, pattern = \"^OR4F\")|\n",
    "                            grepl(gene, pattern = \"^MT\")|\n",
    "                            grepl(gene, pattern = \"HNRNP\")|\n",
    "                            grepl(gene, pattern = \"^RP[LS]\")|\n",
    "                            gene %in% results$hgnc_symbol |\n",
    "                            grepl(gene, pattern = \"\\\\-\")|\n",
    "                            grepl(gene, pattern = \"orf\")) &\n",
    "                                            (pct.1 > 0 | pct.2 > 0))\n",
    "\n",
    "    fc_nc_cd4$Study_CellType = 'NatComm CD4'\n",
    "    fc_nc_cd4$decile = ntile(fc_nc_cd4$avg_log2FC, 20)\n",
    "    fc_nc_cd4$gene  <- rownames(fc_nc_cd4)"
   ]
  },
  {
   "cell_type": "code",
   "execution_count": null,
   "id": "6e307ea2",
   "metadata": {
    "scrolled": true
   },
   "outputs": [],
   "source": [
    "fc_nc_cd4  %>% dplyr::filter(gene == \"CX3CR1\")"
   ]
  },
  {
   "cell_type": "code",
   "execution_count": null,
   "id": "85a09acf",
   "metadata": {},
   "outputs": [],
   "source": [
    "fc_nc_cd8_nk  <- FoldChange(nc_cd8_nk,  `ident.1` = \"Dia\", `ident.2` = \"Ctrl\",\n",
    "                      slot = \"data\")\n",
    "    fc_nc_cd8_nk$gene  <- rownames(fc_nc_cd8_nk)\n",
    "fc_nc_cd8_nk  <- fc_nc_cd8_nk   %>% dplyr::filter(\n",
    "      !(grepl(gene, pattern = \"^MT\")|\n",
    "                            grepl(gene, pattern = \"\\\\.\")|\n",
    "                            grepl(gene, pattern = \"LINC\")|\n",
    "                            grepl(gene, pattern = \"^MIR\")|\n",
    "                            grepl(gene, pattern = \"^MT\")|\n",
    "                            grepl(gene, pattern = \"^OR4F\")|\n",
    "                            grepl(gene, pattern = \"^MT\")|\n",
    "                            grepl(gene, pattern = \"HNRNP\")|\n",
    "                            grepl(gene, pattern = \"^RP[LS]\")|\n",
    "                            gene %in% results$hgnc_symbol |\n",
    "                            grepl(gene, pattern = \"\\\\-\")|\n",
    "                            grepl(gene, pattern = \"orf\")) &\n",
    "                                            (pct.1 > 0 | pct.2 > 0))\n",
    "\n",
    "    fc_nc_cd8_nk$Study_CellType = 'NatComm CD8_NK'\n",
    "    fc_nc_cd8_nk$decile = ntile(fc_nc_cd8_nk$avg_log2FC, 20)\n",
    "    fc_nc_cd8_nk$gene  <- rownames(fc_nc_cd8_nk)"
   ]
  },
  {
   "cell_type": "code",
   "execution_count": null,
   "id": "ac70d34e",
   "metadata": {
    "scrolled": true
   },
   "outputs": [],
   "source": [
    "seurats[[9]]@misc$fc  <- fc_nc_cd4\n",
    "seurats[[10]]@misc$fc  <- fc_nc_cd8_nk"
   ]
  },
  {
   "cell_type": "code",
   "execution_count": null,
   "id": "88cc5faf",
   "metadata": {
    "scrolled": true
   },
   "outputs": [],
   "source": [
    "for(i in 1:length(levels(factor(md_merged$Study_CellType)))){\n",
    " print(i)\n",
    "    print(seurats[[i]]$Study_CellType[1])\n",
    "    print(max(seurats[[i]]@misc$fc$decile))\n",
    "    \n",
    "}"
   ]
  },
  {
   "cell_type": "code",
   "execution_count": null,
   "id": "2d7b2381",
   "metadata": {},
   "outputs": [],
   "source": [
    "fc_merged  <- seurats[[1]]@misc$fc\n",
    "for(i in 2:length(levels(factor(md_merged$Study_CellType)))){\n",
    "    fc_merged  <- bind_rows(fc_merged, seurats[[i]]@misc$fc)\n",
    "}"
   ]
  },
  {
   "cell_type": "markdown",
   "id": "1da7b445",
   "metadata": {},
   "source": [
    "# Final version - all studies"
   ]
  },
  {
   "cell_type": "code",
   "execution_count": null,
   "id": "9a1a90a3",
   "metadata": {},
   "outputs": [],
   "source": [
    "md_merged  <- read_csv(\"../tables/other_data_matrix_metadata.csv\")\n",
    "merged  <- read_csv(\"../tables/other_data_matrix.csv\")\n",
    "\n",
    "merged$`...1`  <- NULL\n",
    "\n",
    "md_merged$`...1`  <- NULL"
   ]
  },
  {
   "cell_type": "markdown",
   "id": "0a5ce803",
   "metadata": {},
   "source": [
    "### Honardoost "
   ]
  },
  {
   "cell_type": "code",
   "execution_count": null,
   "id": "75a23c3e",
   "metadata": {},
   "outputs": [],
   "source": [
    "honar  <- readRDS(\"../../240617_VN_Diabetes_V06/data/published_data/Honardoost_2024/honar2_stacas_filt.rds\")"
   ]
  },
  {
   "cell_type": "code",
   "execution_count": null,
   "id": "21042668",
   "metadata": {},
   "outputs": [],
   "source": [
    "aggexp = AggregateExpression(honar, return.seurat = F, group.by = \"Sample_ID\", \n",
    "                          assay = \"RNA\")\n"
   ]
  },
  {
   "cell_type": "code",
   "execution_count": null,
   "id": "306ba191",
   "metadata": {},
   "outputs": [],
   "source": [
    "colnames(aggexp$RNA) %in% md_merged$Sample_ID  %>% table"
   ]
  },
  {
   "cell_type": "code",
   "execution_count": null,
   "id": "76b46f69",
   "metadata": {},
   "outputs": [],
   "source": [
    "mtx_honar  <- aggexp$RNA"
   ]
  },
  {
   "cell_type": "markdown",
   "id": "ed9410de",
   "metadata": {},
   "source": [
    "### Lab48"
   ]
  },
  {
   "cell_type": "code",
   "execution_count": null,
   "id": "a53bf9f9",
   "metadata": {},
   "outputs": [],
   "source": [
    "cd4_full_filt  <- readRDS(\"../../240617_VN_Diabetes_V06/data/processed/L1/cd4_l1_full_filt.rds\")\n",
    "cd8_full_filt  <- readRDS(\"../../240617_VN_Diabetes_V06/data/processed/L1/cd8_l1_full_filt.rds\")"
   ]
  },
  {
   "cell_type": "code",
   "execution_count": null,
   "id": "7da69bbb",
   "metadata": {},
   "outputs": [],
   "source": [
    "cd4_full_filt$Celltype_Patient  <- paste(\"CD4\", cd4_full_filt$Patient_ID)"
   ]
  },
  {
   "cell_type": "code",
   "execution_count": null,
   "id": "510f1b65",
   "metadata": {},
   "outputs": [],
   "source": [
    "aggexp = AggregateExpression(cd4_full_filt, return.seurat = F, group.by = \"Celltype_Patient\", \n",
    "                          assay = \"RNA\")\n"
   ]
  },
  {
   "cell_type": "code",
   "execution_count": null,
   "id": "b638fd6d",
   "metadata": {},
   "outputs": [],
   "source": [
    "aggexp"
   ]
  },
  {
   "cell_type": "code",
   "execution_count": null,
   "id": "2b9645f1",
   "metadata": {},
   "outputs": [],
   "source": [
    "colnames(aggexp$RNA) %in% md_merged$Sample_ID  %>% table"
   ]
  },
  {
   "cell_type": "code",
   "execution_count": null,
   "id": "68f8d24f",
   "metadata": {},
   "outputs": [],
   "source": [
    "mtx_cd4_lab48  <- aggexp$RNA"
   ]
  },
  {
   "cell_type": "code",
   "execution_count": null,
   "id": "641543b7",
   "metadata": {},
   "outputs": [],
   "source": [
    "cd8_full_filt$Celltype_Patient  <- paste(\"CD8\", cd8_full_filt$Patient_ID)"
   ]
  },
  {
   "cell_type": "code",
   "execution_count": null,
   "id": "6650e412",
   "metadata": {},
   "outputs": [],
   "source": [
    "aggexp = AggregateExpression(cd8_full_filt, return.seurat = F, group.by = \"Celltype_Patient\", \n",
    "                          assay = \"RNA\")"
   ]
  },
  {
   "cell_type": "code",
   "execution_count": null,
   "id": "a927827a",
   "metadata": {},
   "outputs": [],
   "source": [
    "colnames(aggexp$RNA) %in% md_merged$Sample_ID  %>% table"
   ]
  },
  {
   "cell_type": "code",
   "execution_count": null,
   "id": "80d58c01",
   "metadata": {},
   "outputs": [],
   "source": [
    "mtx_cd8_lab48  <- aggexp$RNA"
   ]
  },
  {
   "cell_type": "code",
   "execution_count": null,
   "id": "de7aafbd",
   "metadata": {},
   "outputs": [],
   "source": []
  },
  {
   "cell_type": "markdown",
   "id": "88a972e2",
   "metadata": {},
   "source": [
    "### NatCom"
   ]
  },
  {
   "cell_type": "code",
   "execution_count": null,
   "id": "15aecf12",
   "metadata": {},
   "outputs": [],
   "source": [
    "nc_cd8_nk  <- readRDS(\"../../../DATA_scRNAseq/Analysis_of_previously_published_data/080_Zhong_NatCom_Diabetes/241019_NatComm_merged_filt_cd8_and_nk.rds\")\n",
    "nc_cd4  <- readRDS(\"../../../DATA_scRNAseq/Analysis_of_previously_published_data/080_Zhong_NatCom_Diabetes/241019_NatComm_merged_filt_cd4_noPR.rds\")"
   ]
  },
  {
   "cell_type": "code",
   "execution_count": null,
   "id": "05e7baad",
   "metadata": {},
   "outputs": [],
   "source": [
    "aggexp = AggregateExpression(nc_cd4, return.seurat = F, group.by = \"source\", \n",
    "                          assay = \"RNA\")\n"
   ]
  },
  {
   "cell_type": "code",
   "execution_count": null,
   "id": "3dd3433a",
   "metadata": {},
   "outputs": [],
   "source": []
  },
  {
   "cell_type": "code",
   "execution_count": null,
   "id": "f51398a8",
   "metadata": {},
   "outputs": [],
   "source": [
    "colnames(aggexp$RNA)  <- paste(\"CD4\", colnames(aggexp$RNA))"
   ]
  },
  {
   "cell_type": "code",
   "execution_count": null,
   "id": "fafe251a",
   "metadata": {},
   "outputs": [],
   "source": [
    "colnames(aggexp$RNA) %in% md_merged$Sample_ID  %>% table"
   ]
  },
  {
   "cell_type": "code",
   "execution_count": null,
   "id": "7726d6c7",
   "metadata": {},
   "outputs": [],
   "source": [
    "(colnames(aggexp$RNA) %in% md_merged$Sample_ID )"
   ]
  },
  {
   "cell_type": "code",
   "execution_count": null,
   "id": "55c39e7d",
   "metadata": {},
   "outputs": [],
   "source": [
    "colnames(aggexp$RNA) "
   ]
  },
  {
   "cell_type": "code",
   "execution_count": null,
   "id": "4ee6452f",
   "metadata": {},
   "outputs": [],
   "source": [
    "mtx_nc_cd4  <- aggexp$RNA[,which(colnames(aggexp$RNA) %in% md_merged$Sample_ID )]"
   ]
  },
  {
   "cell_type": "code",
   "execution_count": null,
   "id": "fa1b067a",
   "metadata": {},
   "outputs": [],
   "source": []
  },
  {
   "cell_type": "code",
   "execution_count": null,
   "id": "c42bb56f",
   "metadata": {},
   "outputs": [],
   "source": [
    "aggexp = AggregateExpression(nc_cd8_nk, return.seurat = F, group.by = \"source\", \n",
    "                          assay = \"RNA\")\n"
   ]
  },
  {
   "cell_type": "code",
   "execution_count": null,
   "id": "46f83145",
   "metadata": {},
   "outputs": [],
   "source": [
    "colnames(aggexp$RNA)  <- paste(\"CD8_NK\", colnames(aggexp$RNA))"
   ]
  },
  {
   "cell_type": "code",
   "execution_count": null,
   "id": "e63b4725",
   "metadata": {},
   "outputs": [],
   "source": [
    "colnames(aggexp$RNA) %in% md_merged$Sample_ID  %>% table"
   ]
  },
  {
   "cell_type": "code",
   "execution_count": null,
   "id": "521404dd",
   "metadata": {},
   "outputs": [],
   "source": [
    "(colnames(aggexp$RNA) %in% md_merged$Sample_ID )"
   ]
  },
  {
   "cell_type": "code",
   "execution_count": null,
   "id": "456f3f9a",
   "metadata": {},
   "outputs": [],
   "source": [
    "colnames(aggexp$RNA) "
   ]
  },
  {
   "cell_type": "code",
   "execution_count": null,
   "id": "ac552752",
   "metadata": {},
   "outputs": [],
   "source": [
    "mtx_nc_cd8  <- aggexp$RNA[,which(colnames(aggexp$RNA) %in% md_merged$Sample_ID )]"
   ]
  },
  {
   "cell_type": "code",
   "execution_count": null,
   "id": "f03b3867",
   "metadata": {},
   "outputs": [],
   "source": []
  },
  {
   "cell_type": "markdown",
   "id": "a3a5af65",
   "metadata": {},
   "source": [
    "### ParseBio"
   ]
  },
  {
   "cell_type": "code",
   "execution_count": null,
   "id": "4d91d6b2",
   "metadata": {},
   "outputs": [],
   "source": [
    "pb_cd4  <- readRDS(\"../../../DATA_scRNAseq/Analysis_of_previously_published_data/081_ParseBio_1M_Diabetes/241020_ParseBio_200k_CD4.rds\")\n",
    "pb_cd8_nk  <- readRDS(\"../../../DATA_scRNAseq/Analysis_of_previously_published_data/081_ParseBio_1M_Diabetes/241020_ParseBio_200k_CD8_and_NK.rds\")\n"
   ]
  },
  {
   "cell_type": "code",
   "execution_count": null,
   "id": "3234a08d",
   "metadata": {},
   "outputs": [],
   "source": [
    "aggexp = AggregateExpression(pb_cd4, return.seurat = F, group.by = \"sample\", \n",
    "                          assay = \"RNA\")\n"
   ]
  },
  {
   "cell_type": "code",
   "execution_count": null,
   "id": "14feaf62",
   "metadata": {},
   "outputs": [],
   "source": [
    "colnames(aggexp$RNA)  <- paste(\"CD4\", colnames(aggexp$RNA))"
   ]
  },
  {
   "cell_type": "code",
   "execution_count": null,
   "id": "a8c359dc",
   "metadata": {},
   "outputs": [],
   "source": [
    "colnames(aggexp$RNA) %in% md_merged$Sample_ID  %>% table"
   ]
  },
  {
   "cell_type": "code",
   "execution_count": null,
   "id": "ef25fdb9",
   "metadata": {},
   "outputs": [],
   "source": [
    "colnames(aggexp$RNA) "
   ]
  },
  {
   "cell_type": "code",
   "execution_count": null,
   "id": "3daa6553",
   "metadata": {},
   "outputs": [],
   "source": []
  },
  {
   "cell_type": "code",
   "execution_count": null,
   "id": "9c27bbf3",
   "metadata": {},
   "outputs": [],
   "source": [
    "mtx_pb_cd4  <- aggexp$RNA"
   ]
  },
  {
   "cell_type": "code",
   "execution_count": null,
   "id": "46e02811",
   "metadata": {},
   "outputs": [],
   "source": [
    "aggexp = AggregateExpression(pb_cd8_nk, return.seurat = F, group.by = \"sample\", \n",
    "                          assay = \"RNA\")\n"
   ]
  },
  {
   "cell_type": "code",
   "execution_count": null,
   "id": "7bea74b9",
   "metadata": {},
   "outputs": [],
   "source": [
    "colnames(aggexp$RNA)  <- paste(\"CD8_NK\", colnames(aggexp$RNA))"
   ]
  },
  {
   "cell_type": "code",
   "execution_count": null,
   "id": "cbee4650",
   "metadata": {
    "scrolled": true
   },
   "outputs": [],
   "source": [
    "md_merged  %>% dplyr::filter(Study == \"ParseBio\")"
   ]
  },
  {
   "cell_type": "code",
   "execution_count": null,
   "id": "cdea597e",
   "metadata": {},
   "outputs": [],
   "source": [
    "test  <- paste0(colnames(aggexp$RNA), c(\"_D\",\"_D\",\"_D\",\"_D\",\"_D\",\"_D\",\"_D\",\"_D\",\n",
    "                                       \"_D\",\"_D\",\"_D\",\"_D\",\n",
    "                                        \"_H\",\"_H\",\"_H\",\"_H\", \"_H\",\"_H\",\"_H\",\"_H\",\n",
    "                                         \"_H\",\"_H\",\"_H\",\"_H\"\n",
    "                                       ))"
   ]
  },
  {
   "cell_type": "code",
   "execution_count": null,
   "id": "72038584",
   "metadata": {},
   "outputs": [],
   "source": [
    "test %in% md_merged$Sample_ID  %>% table"
   ]
  },
  {
   "cell_type": "code",
   "execution_count": null,
   "id": "4bc6c2b5",
   "metadata": {},
   "outputs": [],
   "source": [
    "colnames(aggexp$RNA)  <- test"
   ]
  },
  {
   "cell_type": "code",
   "execution_count": null,
   "id": "ce771eca",
   "metadata": {},
   "outputs": [],
   "source": [
    "mtx_pb_cd8  <- aggexp$RNA"
   ]
  },
  {
   "cell_type": "markdown",
   "id": "30da8861",
   "metadata": {},
   "source": [
    "### HPAP"
   ]
  },
  {
   "cell_type": "code",
   "execution_count": null,
   "id": "a9a2825b",
   "metadata": {},
   "outputs": [],
   "source": [
    "hpap_ln$Tissue  %>% table"
   ]
  },
  {
   "cell_type": "code",
   "execution_count": null,
   "id": "0a520f04",
   "metadata": {},
   "outputs": [],
   "source": [
    "hpap_ln$Sample_ID  <- paste(hpap_ln$Patient_ID, hpap_ln$Tissue)"
   ]
  },
  {
   "cell_type": "code",
   "execution_count": null,
   "id": "a194009d",
   "metadata": {},
   "outputs": [],
   "source": [
    "aggexp = AggregateExpression(hpap_ln, return.seurat = F, group.by = \"Sample_ID\", \n",
    "                          assay = \"RNA\")"
   ]
  },
  {
   "cell_type": "code",
   "execution_count": null,
   "id": "fb7126c0",
   "metadata": {},
   "outputs": [],
   "source": [
    "mtx_hpap_ln  <- aggexp$RNA"
   ]
  },
  {
   "cell_type": "code",
   "execution_count": null,
   "id": "0fd861eb",
   "metadata": {},
   "outputs": [],
   "source": [
    "hpap_spl$Sample_ID  <- paste(hpap_spl$Patient_ID, hpap_spl$Tissue)"
   ]
  },
  {
   "cell_type": "code",
   "execution_count": null,
   "id": "e56a31b4",
   "metadata": {},
   "outputs": [],
   "source": [
    "aggexp = AggregateExpression(hpap_spl, return.seurat = F, group.by = \"Sample_ID\", \n",
    "                          assay = \"RNA\")"
   ]
  },
  {
   "cell_type": "code",
   "execution_count": null,
   "id": "da70becc",
   "metadata": {},
   "outputs": [],
   "source": [
    "mtx_hpap_spl  <- aggexp$RNA"
   ]
  },
  {
   "cell_type": "markdown",
   "id": "2b543e91",
   "metadata": {},
   "source": [
    "### Matrix of sc studies "
   ]
  },
  {
   "cell_type": "code",
   "execution_count": null,
   "id": "87944b73",
   "metadata": {
    "scrolled": true
   },
   "outputs": [],
   "source": [
    "library(data.table)"
   ]
  },
  {
   "cell_type": "code",
   "execution_count": null,
   "id": "d90e08d3",
   "metadata": {},
   "outputs": [],
   "source": [
    "dt_hpap_spl  <- as.data.table(mtx_hpap_spl, keep.rownames = TRUE)\n",
    "dt_hpap_ln <- as.data.table(mtx_hpap_ln, keep.rownames = TRUE)\n",
    "dt_nc_cd8 <- as.data.table(mtx_nc_cd8, keep.rownames = TRUE)\n",
    "dt_nc_cd4 <- as.data.table(mtx_nc_cd4, keep.rownames = TRUE)\n",
    "dt_pc_cd8 <- as.data.table(mtx_pb_cd8, keep.rownames = TRUE)\n",
    "dt_pb_cd4 <- as.data.table(mtx_pb_cd4, keep.rownames = TRUE)\n",
    "dt_honar <- as.data.table(mtx_honar, keep.rownames = TRUE)\n",
    "dt_48_cd4 <- as.data.table(mtx_cd4_lab48, keep.rownames = TRUE)\n",
    "dt_48_cd8 <- as.data.table(mtx_cd8_lab48, keep.rownames = TRUE)"
   ]
  },
  {
   "cell_type": "code",
   "execution_count": null,
   "id": "cdcf275c",
   "metadata": {},
   "outputs": [],
   "source": [
    "merged <- merge(dt_hpap_spl, dt_hpap_ln, by = \"rn\", all = TRUE)"
   ]
  },
  {
   "cell_type": "code",
   "execution_count": null,
   "id": "e6a7cf64",
   "metadata": {},
   "outputs": [],
   "source": [
    "merged <- merge(merged, dt_nc_cd8, by = \"rn\", all = TRUE)\n",
    "merged <- merge(merged, dt_nc_cd4, by = \"rn\", all = TRUE)\n",
    "merged <- merge(merged, dt_pc_cd8, by = \"rn\", all = TRUE)\n",
    "merged <- merge(merged, dt_pb_cd4, by = \"rn\", all = TRUE)\n",
    "merged <- merge(merged, dt_honar, by = \"rn\", all = TRUE)\n",
    "merged <- merge(merged, dt_48_cd4, by = \"rn\", all = TRUE)\n",
    "merged <- merge(merged, dt_48_cd8, by = \"rn\", all = TRUE)"
   ]
  },
  {
   "cell_type": "code",
   "execution_count": null,
   "id": "a5f80fbb",
   "metadata": {},
   "outputs": [],
   "source": [
    "md_merged_sc  <- md_merged  %>% dplyr::filter(Sample_ID %in% colnames(merged))"
   ]
  },
  {
   "cell_type": "code",
   "execution_count": null,
   "id": "f3ddd4dc",
   "metadata": {},
   "outputs": [],
   "source": [
    "test  <- colnames(merged)[c(1,match(md_merged_sc$Sample_ID, colnames(merged)))]"
   ]
  },
  {
   "cell_type": "code",
   "execution_count": null,
   "id": "3b31d30c",
   "metadata": {
    "scrolled": true
   },
   "outputs": [],
   "source": [
    "(test[2:length(test)] == md_merged_sc$Sample_ID)  %>% table"
   ]
  },
  {
   "cell_type": "code",
   "execution_count": null,
   "id": "8c4ba48e",
   "metadata": {},
   "outputs": [],
   "source": [
    "merged_sc  <- as.data.frame(merged)[,c(1,match(md_merged_sc$Sample_ID, colnames(merged)))]"
   ]
  },
  {
   "cell_type": "code",
   "execution_count": null,
   "id": "7e7a5e2e",
   "metadata": {},
   "outputs": [],
   "source": [
    "all.equal(colnames(merged_sc)[2:271], md_merged_sc$Sample_ID)"
   ]
  },
  {
   "cell_type": "markdown",
   "id": "e398a822",
   "metadata": {},
   "source": [
    "### Matrix of bulk studies"
   ]
  },
  {
   "cell_type": "code",
   "execution_count": null,
   "id": "4b2bdafc",
   "metadata": {},
   "outputs": [],
   "source": [
    "md_merged  <- read_csv(\"../tables/other_data_matrix_metadata.csv\")\n",
    "merged  <- read_csv(\"../tables/other_data_matrix.csv\")\n",
    "\n",
    "merged$`...1`  <- NULL\n",
    "\n",
    "md_merged$`...1`  <- NULL"
   ]
  },
  {
   "cell_type": "code",
   "execution_count": null,
   "id": "2b3a895e",
   "metadata": {},
   "outputs": [],
   "source": [
    "md_without_sc  <- md_merged  %>% dplyr::filter(Study_CellType %in% c(\"Jailwala CD4+ CD25+\", \"Kallionpaa CD4\",\n",
    "                                                                    \"Kallionpaa CD8\", \"Newman CD19+/CD27- B cells\",\n",
    "                                                                    \"Newman Memory CD4+\", \"Newman Memory CD4+/CD25- T cells\",\n",
    "                                                                    \"Newman Memory CD4+/CD25+ regulatory T cells\",\n",
    "                                                                    \"Transimmunome Whole blood\"))"
   ]
  },
  {
   "cell_type": "code",
   "execution_count": null,
   "id": "2fa66094",
   "metadata": {},
   "outputs": [],
   "source": [
    "md_without_sc$Study_CellType  %>% table"
   ]
  },
  {
   "cell_type": "code",
   "execution_count": null,
   "id": "6301a6d1",
   "metadata": {},
   "outputs": [],
   "source": [
    "colnames(merged) %in% md_without_sc$Sample_ID  %>% table"
   ]
  },
  {
   "cell_type": "code",
   "execution_count": null,
   "id": "59b340ac",
   "metadata": {},
   "outputs": [],
   "source": [
    "merged_without_sc  <- as.data.frame(merged)[,c(1,which(colnames(merged) %in% md_without_sc$Sample_ID))]"
   ]
  },
  {
   "cell_type": "markdown",
   "id": "6244e853",
   "metadata": {},
   "source": [
    "### Matrix bulk and sc"
   ]
  },
  {
   "cell_type": "code",
   "execution_count": null,
   "id": "f7d41901",
   "metadata": {},
   "outputs": [],
   "source": [
    "merged_all  <- full_join(merged_without_sc, merged_sc, by = \"rn\")"
   ]
  },
  {
   "cell_type": "code",
   "execution_count": null,
   "id": "2f9e58d0",
   "metadata": {},
   "outputs": [],
   "source": [
    "merged_all"
   ]
  },
  {
   "cell_type": "code",
   "execution_count": null,
   "id": "e5335bf4",
   "metadata": {},
   "outputs": [],
   "source": [
    "md_all  <- rbind(md_without_sc, md_merged_sc)"
   ]
  },
  {
   "cell_type": "code",
   "execution_count": null,
   "id": "c2d17cc3",
   "metadata": {},
   "outputs": [],
   "source": [
    "all.equal(md_all$Sample_ID , colnames(merged_all)[2:971])"
   ]
  },
  {
   "cell_type": "markdown",
   "id": "8adb6dc4",
   "metadata": {},
   "source": [
    "### Filter genes"
   ]
  },
  {
   "cell_type": "code",
   "execution_count": null,
   "id": "d127c687",
   "metadata": {
    "scrolled": true
   },
   "outputs": [],
   "source": [
    "library(biomaRt)\n",
    "mart <- useMart(biomart=\"ensembl\", dataset=\"hsapiens_gene_ensembl\")\n",
    "\n",
    "all_genes <- getBM(attributes = c(\"chromosome_name\", \"hgnc_symbol\"), mart = mart)\n",
    "\n",
    "all_genes  %>% group_by(chromosome_name)  %>% tally\n",
    "\n",
    "all_genes_without_Y  <-  all_genes %>% dplyr::filter(chromosome_name %in% c(1:22,\"X\")) "
   ]
  },
  {
   "cell_type": "code",
   "execution_count": null,
   "id": "9b2b7d55",
   "metadata": {
    "scrolled": true
   },
   "outputs": [],
   "source": [
    "all_genes_without_Y"
   ]
  },
  {
   "cell_type": "code",
   "execution_count": null,
   "id": "2c6ff4fd",
   "metadata": {},
   "outputs": [],
   "source": []
  },
  {
   "cell_type": "code",
   "execution_count": null,
   "id": "b3db58ce",
   "metadata": {},
   "outputs": [],
   "source": [
    "merged_all_filt  <- merged_all  %>% dplyr::filter(rn %in% all_genes_without_Y$hgnc_symbol &\n",
    "                            !(grepl(rn, pattern = \"^MT\")|\n",
    "                            grepl(rn, pattern = \"\\\\.\")|\n",
    "                            grepl(rn, pattern = \"LINC\")|\n",
    "                            grepl(rn, pattern = \"^MIR\")|\n",
    "                            grepl(rn, pattern = \"^MT\")|\n",
    "                            grepl(rn, pattern = \"^OR4F\")|\n",
    "                            grepl(rn, pattern = \"^MT\")|\n",
    "                            grepl(rn, pattern = \"HNRNP\")|\n",
    "                            grepl(rn, pattern = \"^RP[LS]\")|\n",
    "                            grepl(rn, pattern = \"\\\\-\")|\n",
    "                            grepl(rn, pattern = \"orf\")) )"
   ]
  },
  {
   "cell_type": "code",
   "execution_count": null,
   "id": "86b989c8",
   "metadata": {},
   "outputs": [],
   "source": [
    "merged_all_filt2   <- merged_all_filt  %>% column_to_rownames(\"rn\")"
   ]
  },
  {
   "cell_type": "code",
   "execution_count": null,
   "id": "cc2fe63e",
   "metadata": {
    "scrolled": true
   },
   "outputs": [],
   "source": [
    "md_all"
   ]
  },
  {
   "cell_type": "markdown",
   "id": "454af901",
   "metadata": {},
   "source": [
    "### Mtx fc Seurat no gene filtering"
   ]
  },
  {
   "cell_type": "code",
   "execution_count": null,
   "id": "bccb5c95",
   "metadata": {},
   "outputs": [],
   "source": [
    "bulk_to_seurat_wilcox_FC  <- function(i){\n",
    "    \n",
    "md_select_study  <- md_all  %>% dplyr::filter(Study_CellType == levels(factor(md_all$Study_CellType))[i])\n",
    "mtx_select_study  <- merged_all_filt2[,colnames(merged_all_filt2) %in% md_select_study$Sample_ID]\n",
    "mtx_select_study[is.na(mtx_select_study)]  <- 0\n",
    "seu_mtx_select_study  <- CreateSeuratObject(mtx_select_study, min.cells = 3, min.features = 0)\n",
    "seu_mtx_select_study  <- NormalizeData(seu_mtx_select_study)\n",
    "seu_mtx_select_study  <- ScaleData(seu_mtx_select_study)\n",
    "seu_mtx_select_study$Sample_ID  <- colnames(seu_mtx_select_study)\n",
    "seu_mtx_select_study@meta.data  <- cbind(seu_mtx_select_study@meta.data, md_select_study)\n",
    "    rownames(seu_mtx_select_study@meta.data)  <- colnames(seu_mtx_select_study)\n",
    "    Idents(seu_mtx_select_study)  <- seu_mtx_select_study$Disease\n",
    "    fc  <- FoldChange(seu_mtx_select_study, `ident.1` = \"Dia\", `ident.2` = \"Ctrl\", pseudocount.use = 0.1)\n",
    "    fc$Study_CellType = levels(factor(md_all$Study_CellType))[i]\n",
    "    fc$decile = ntile(fc$avg_log2FC, 20)\n",
    "    fc$gene  <- rownames(fc)\n",
    "   seu_mtx_select_study@misc$fc  <- fc\n",
    "    return(seu_mtx_select_study)\n",
    "    }"
   ]
  },
  {
   "cell_type": "code",
   "execution_count": null,
   "id": "5bdf0210",
   "metadata": {
    "scrolled": true
   },
   "outputs": [],
   "source": [
    "seurats_wilcox_FC  <- map(1:17, .f = bulk_to_seurat_wilcox_FC)"
   ]
  },
  {
   "cell_type": "code",
   "execution_count": null,
   "id": "d842e848",
   "metadata": {},
   "outputs": [],
   "source": [
    "fc_merged  <- seurats_wilcox_FC[[1]]@misc$fc\n",
    "for(i in 2:length(levels(factor(md_all$Study_CellType)))){\n",
    "    fc_merged  <- bind_rows(fc_merged, seurats_wilcox_FC[[i]]@misc$fc)\n",
    "}"
   ]
  },
  {
   "cell_type": "code",
   "execution_count": null,
   "id": "69ab2d61",
   "metadata": {
    "scrolled": true
   },
   "outputs": [],
   "source": [
    "fc_merged  %>% dplyr::filter(Study_CellType != \"Newman CD19+/CD27- B cells\") %>% \n",
    "group_by(gene, Study_CellType, decile)  %>% dplyr::filter(decile %in% c(1,2))   %>% \n",
    "group_by(gene)  %>% tally()  %>% arrange(desc(n)) "
   ]
  },
  {
   "cell_type": "code",
   "execution_count": null,
   "id": "1b7e360f",
   "metadata": {
    "scrolled": true
   },
   "outputs": [],
   "source": [
    "fc_merged  %>% dplyr::filter(Study_CellType != \"Newman CD19+/CD27- B cells\") %>% \n",
    "group_by(gene, Study_CellType, decile)  %>% dplyr::filter(decile %in% c(19,20))   %>% \n",
    "group_by(gene)  %>% tally()  %>% arrange(desc(n))  "
   ]
  },
  {
   "cell_type": "code",
   "execution_count": null,
   "id": "e6829462",
   "metadata": {},
   "outputs": [],
   "source": []
  },
  {
   "cell_type": "code",
   "execution_count": null,
   "id": "8e772f4f",
   "metadata": {
    "scrolled": true
   },
   "outputs": [],
   "source": [
    "genes1  <- fc_merged  %>% dplyr::filter(Study_CellType != \"Newman CD19+/CD27- B cells\")  %>% \n",
    "group_by(gene, Study_CellType, decile)  %>% dplyr::filter(decile %in% c(1,2))   %>% \n",
    "group_by(gene)  %>% tally()  %>% arrange(desc(n))   %>% dplyr::filter(n>6)  %>% pull(gene)"
   ]
  },
  {
   "cell_type": "code",
   "execution_count": null,
   "id": "4e3028c7",
   "metadata": {},
   "outputs": [],
   "source": [
    "genes1"
   ]
  },
  {
   "cell_type": "code",
   "execution_count": null,
   "id": "a15807c1",
   "metadata": {},
   "outputs": [],
   "source": [
    "genes2  <- fc_merged  %>% group_by(gene, Study_CellType, decile)  %>% dplyr::filter(decile %in% c(19,20))   %>% \n",
    "group_by(gene)  %>% tally()  %>% arrange(desc(n))  %>% dplyr::filter(n>6)  %>% pull(gene)"
   ]
  },
  {
   "cell_type": "code",
   "execution_count": null,
   "id": "e8d75091",
   "metadata": {},
   "outputs": [],
   "source": [
    "genes2"
   ]
  },
  {
   "cell_type": "code",
   "execution_count": null,
   "id": "08bdff46",
   "metadata": {},
   "outputs": [],
   "source": [
    "mtx_all_studies_deciles  <- fc_merged  %>% \n",
    "dplyr::filter(Study_CellType != \"Newman CD19+/CD27- B cells\") %>% \n",
    "dplyr::filter(!is.na(Study_CellType))  %>%  \n",
    "filter(gene %in% c(genes1, genes2))  %>% \n",
    "dplyr::select(gene, Study_CellType, decile)  %>% \n",
    "pivot_wider(names_from = Study_CellType, values_from = decile)  %>% \n",
    "column_to_rownames(\"gene\")   %>% as.matrix()"
   ]
  },
  {
   "cell_type": "code",
   "execution_count": null,
   "id": "0f7b009b",
   "metadata": {},
   "outputs": [],
   "source": [
    "library(pheatmap)"
   ]
  },
  {
   "cell_type": "code",
   "execution_count": null,
   "id": "5e92c37d",
   "metadata": {},
   "outputs": [],
   "source": [
    "options(repr.plot.width = 20, repr.plot.height = 5)\n",
    "pheatmap(t(mtx_all_studies_deciles), scale = \"row\",\n",
    "        color=colorRampPalette(c(\"dodgerblue\", \"white\", \"indianred2\"))(50), \n",
    "         border_color = \"white\", width = 14, height = 4, \n",
    "                  fontsize = 12)"
   ]
  },
  {
   "cell_type": "code",
   "execution_count": null,
   "id": "7c05eb64",
   "metadata": {},
   "outputs": [],
   "source": [
    "options(repr.plot.width = 20, repr.plot.height = 5)\n",
    "pheatmap(t(mtx_all_studies_deciles), scale = \"none\",\n",
    "        color=colorRampPalette(c(\"dodgerblue\", \"white\", \"indianred2\"))(50), \n",
    "         border_color = \"white\", width = 14, height = 4, \n",
    "                  fontsize = 12)"
   ]
  },
  {
   "cell_type": "code",
   "execution_count": null,
   "id": "a4b4a4f3",
   "metadata": {},
   "outputs": [],
   "source": [
    "genes  <- c(genes1, genes2)"
   ]
  },
  {
   "cell_type": "code",
   "execution_count": null,
   "id": "bf1cd3f2",
   "metadata": {},
   "outputs": [],
   "source": [
    "genes1"
   ]
  },
  {
   "cell_type": "code",
   "execution_count": null,
   "id": "9e5598af",
   "metadata": {},
   "outputs": [],
   "source": [
    "genes2"
   ]
  },
  {
   "cell_type": "code",
   "execution_count": null,
   "id": "a62d897b",
   "metadata": {},
   "outputs": [],
   "source": [
    "pheatmap(t(mtx_all_studies_deciles[match(genes, rownames(mtx_all_studies_deciles)),]), scale = \"none\", \n",
    "         cluster_cols = F,\n",
    "        color=colorRampPalette(c(\"dodgerblue\", \"white\", \"indianred2\"))(50), \n",
    "         border_color = \"white\", width = 14, height = 4, \n",
    "                  fontsize = 12, na_col = \"grey50\")"
   ]
  },
  {
   "cell_type": "code",
   "execution_count": null,
   "id": "874e6545",
   "metadata": {},
   "outputs": [],
   "source": [
    "pheatmap(t(mtx_all_studies_deciles[match(genes2, rownames(mtx_all_studies_deciles)),]), scale = \"none\", \n",
    "         cluster_cols = T, cluster_rows = T,\n",
    "        color=colorRampPalette(c(\"dodgerblue\", \"white\", \"indianred2\"))(50), \n",
    "         border_color = \"white\", width = 14, height = 4, \n",
    "                  fontsize = 12, na_col = \"grey50\")"
   ]
  },
  {
   "cell_type": "code",
   "execution_count": null,
   "id": "dfd98b07",
   "metadata": {},
   "outputs": [],
   "source": [
    "colnames(mtx_all_studies_deciles)"
   ]
  },
  {
   "cell_type": "code",
   "execution_count": null,
   "id": "62120762",
   "metadata": {},
   "outputs": [],
   "source": [
    "pheatmap(t(mtx_all_studies_deciles[match(genes2, rownames(mtx_all_studies_deciles)),]), scale = \"none\", \n",
    "         cluster_cols = T, cluster_rows = T,\n",
    "        color=colorRampPalette(c(\"dodgerblue\", \"white\", \"indianred2\"))(50), \n",
    "         border_color = \"white\", width = 14, height = 4, \n",
    "                  fontsize = 12, na_col = \"grey50\", filename = \"../figures/heatmaps/all_datasets_up.pdf\")"
   ]
  },
  {
   "cell_type": "code",
   "execution_count": null,
   "id": "599db6e7",
   "metadata": {},
   "outputs": [],
   "source": [
    "pheatmap(t(mtx_all_studies_deciles[match(genes1, rownames(mtx_all_studies_deciles)),\n",
    "                                  match(c(\n",
    "         'ParseBio CD4','ParseBio CD8_NK',\n",
    "          'HPAP LN','HPAP Spleen T cells',                        \n",
    "          'Honardoost T cells', 'Kallionpaa CD4','Kallionpaa CD8' ,\n",
    "           'NatComm CD4','NatComm CD8_NK' ,\n",
    "           'Lab48 CD4 CD4','Lab48 CD8 CD8'   ,\n",
    "                                      'Transimmunome Whole blood',\n",
    "             'Jailwala CD4+ CD25+',  'Newman Memory CD4+','Newman Memory CD4+/CD25- T cells','Newman Memory CD4+/CD25+ regulatory T cells'                        \n",
    "                                  ), \n",
    "                                        colnames(mtx_all_studies_deciles))]), scale = \"none\", \n",
    "         cluster_cols = T,cluster_rows = F,\n",
    "        color=colorRampPalette(c(\"dodgerblue\", \"white\", \"indianred2\"))(50), \n",
    "         border_color = \"white\", width = 14, height = 4, \n",
    "                  fontsize = 12, na_col = \"grey50\")"
   ]
  },
  {
   "cell_type": "code",
   "execution_count": null,
   "id": "383df4e9",
   "metadata": {},
   "outputs": [],
   "source": [
    "pheatmap(t(mtx_all_studies_deciles[match(genes1, rownames(mtx_all_studies_deciles)),\n",
    "                                  match(c(\n",
    "         'ParseBio CD4','ParseBio CD8_NK',\n",
    "          'HPAP LN','HPAP Spleen T cells',                        \n",
    "          'Honardoost T cells', 'Kallionpaa CD4','Kallionpaa CD8' ,\n",
    "           'NatComm CD4','NatComm CD8_NK' ,\n",
    "           'Lab48 CD4 CD4','Lab48 CD8 CD8'   ,\n",
    "                                      'Transimmunome Whole blood',\n",
    "             'Jailwala CD4+ CD25+',  'Newman Memory CD4+','Newman Memory CD4+/CD25- T cells','Newman Memory CD4+/CD25+ regulatory T cells'                        \n",
    "                                  ), \n",
    "                                        colnames(mtx_all_studies_deciles))]), scale = \"none\", \n",
    "         cluster_cols = T,cluster_rows = F,\n",
    "        color=colorRampPalette(c(\"dodgerblue\", \"white\", \"indianred2\"))(50), \n",
    "         border_color = \"white\", width = 14, height = 4, \n",
    "                  fontsize = 12, na_col = \"grey50\",\n",
    "        filename = \"../figures/heatmaps/all_datasets_down.pdf\")"
   ]
  },
  {
   "cell_type": "markdown",
   "id": "db5deef8",
   "metadata": {},
   "source": [
    "Save data for upload to Zenodo:"
   ]
  },
  {
   "cell_type": "code",
   "execution_count": null,
   "id": "4a1c5f64",
   "metadata": {},
   "outputs": [],
   "source": []
  },
  {
   "cell_type": "markdown",
   "id": "74eb2086",
   "metadata": {},
   "source": [
    "## PCA of genes in datasets - revisions"
   ]
  },
  {
   "cell_type": "code",
   "execution_count": null,
   "id": "3a2da50f",
   "metadata": {},
   "outputs": [],
   "source": [
    "fc_merged_without_na  <- fc_merged  %>% dplyr::filter(Study_CellType != \"Newman CD19+/CD27- B cells\") %>% \n",
    "dplyr::select(Study_CellType, decile, gene)  %>% \n",
    "pivot_wider(names_from = Study_CellType, values_from = decile) %>%\n",
    "  filter(if_all(everything(), ~ !is.na(.)))\n"
   ]
  },
  {
   "cell_type": "code",
   "execution_count": null,
   "id": "0507fe92",
   "metadata": {},
   "outputs": [],
   "source": [
    "fc_merged_without_na_mtx  <- fc_merged_without_na  %>% column_to_rownames(\"gene\")  %>% \n",
    "as.matrix()"
   ]
  },
  {
   "cell_type": "code",
   "execution_count": null,
   "id": "ab6aa9ee",
   "metadata": {
    "scrolled": true
   },
   "outputs": [],
   "source": [
    "fc_merged_without_na_mtx"
   ]
  },
  {
   "cell_type": "code",
   "execution_count": null,
   "id": "d8d0ef4d",
   "metadata": {},
   "outputs": [],
   "source": [
    "# Perform PCA\n",
    "pca_res <- prcomp(fc_merged_without_na_mtx, scale. = T)\n",
    "\n",
    "# Check summary\n",
    "summary(pca_res)\n",
    "\n",
    "# View loadings (rotation)\n",
    "pca_res$rotation\n",
    "\n",
    "# View principal component scores\n",
    "pca_res$x"
   ]
  },
  {
   "cell_type": "code",
   "execution_count": null,
   "id": "57c3d133",
   "metadata": {},
   "outputs": [],
   "source": [
    "library(factoextra)\n",
    "\n",
    "options(repr.plot.width = 10, repr.plot.height = 10)\n",
    "# Plot variables\n",
    "fviz_pca_var(pca_res)"
   ]
  },
  {
   "cell_type": "code",
   "execution_count": null,
   "id": "4dffd1ef",
   "metadata": {},
   "outputs": [],
   "source": [
    "fviz_pca_var(pca_res, repel = TRUE, col.var = \"black\", labelsize = 4) +\n",
    "ggtheme()\n",
    "\n",
    "ggsave(\"../figures/pca_genes.svg\", width = 20, height = 20, units = \"cm\")"
   ]
  },
  {
   "cell_type": "code",
   "execution_count": null,
   "id": "7f7aceb1",
   "metadata": {},
   "outputs": [],
   "source": [
    "\n",
    "# Define genes you want to label\n",
    "genes_to_highlight <- c(\"CX3CR1\", \"GNLY\", \"NKG7\",\"PLEK\",\"AZU1\")\n",
    "\n",
    "# Create a vector of labels: gene name if in selected, \"\" otherwise\n",
    "gene_labels <- ifelse(rownames(fc_merged_without_na_mtx) %in% genes_to_highlight, rownames(fc_merged_without_na_mtx), \"\")\n",
    "\n",
    "coords <- as.data.frame(pca_res$x)\n",
    "coords$label <- gene_labels\n",
    "\n",
    "ggplot(coords, aes(PC1, PC2)) +\n",
    "geom_hline(yintercept = 0, color = \"black\") +\n",
    "geom_vline(xintercept = 0, color = \"black\") +\n",
    "  geom_point(color = \"grey\", size = 1.5) +\n",
    "  geom_point(data = subset(coords, label != \"\"), color = \"red\", size = 2) +\n",
    "  geom_text(data = subset(coords, label != \"\"), aes(label = label), \n",
    "            vjust = -1, color = \"red\", size = 6) +\n",
    "  labs(title = \"PCA analysis of gene changes in T1D vs healthy\") +\n",
    "  theme_minimal() +\n",
    "ggtheme()\n"
   ]
  }
 ],
 "metadata": {
  "kernelspec": {
   "display_name": "R",
   "language": "R",
   "name": "ir"
  },
  "language_info": {
   "codemirror_mode": "r",
   "file_extension": ".r",
   "mimetype": "text/x-r-source",
   "name": "R",
   "pygments_lexer": "r",
   "version": "4.5.1"
  },
  "toc": {
   "base_numbering": 1,
   "nav_menu": {},
   "number_sections": true,
   "sideBar": true,
   "skip_h1_title": false,
   "title_cell": "Table of Contents",
   "title_sidebar": "Contents",
   "toc_cell": false,
   "toc_position": {
    "height": "calc(100% - 180px)",
    "left": "10px",
    "top": "150px",
    "width": "391.817px"
   },
   "toc_section_display": false,
   "toc_window_display": true
  }
 },
 "nbformat": 4,
 "nbformat_minor": 5
}
