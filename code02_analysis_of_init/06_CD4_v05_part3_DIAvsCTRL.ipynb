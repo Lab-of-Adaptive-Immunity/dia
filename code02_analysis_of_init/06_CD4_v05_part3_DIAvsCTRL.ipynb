{
 "cells": [
  {
   "cell_type": "markdown",
   "id": "eac11ad5",
   "metadata": {},
   "source": [
    "# Part 6: Analysis of CD4 T cell subsets"
   ]
  },
  {
   "cell_type": "markdown",
   "id": "4331fac1",
   "metadata": {},
   "source": [
    "In this part, we focus on the subpopulations of CD4 T cells. We analyze the frequencies of these populations and calculate differentially expressed genes between T1D and helathy donors. \n"
   ]
  },
  {
   "cell_type": "code",
   "execution_count": null,
   "id": "f55665e7",
   "metadata": {
    "scrolled": true
   },
   "outputs": [],
   "source": [
    "source(\"diabetes_analysis_v07.R\")"
   ]
  },
  {
   "cell_type": "code",
   "execution_count": null,
   "id": "df3187cc",
   "metadata": {},
   "outputs": [],
   "source": [
    "rank_score_func <- function(df){\n",
    "df <- df %>% mutate(score = -1*log(p_val_adj+(10^-310))*avg_log2FC*(pct.1/(pct.2+10^-300)))\n",
    "return(df)\n",
    "}"
   ]
  },
  {
   "cell_type": "markdown",
   "id": "e0646fc5",
   "metadata": {},
   "source": [
    "# Analysis of subsets"
   ]
  },
  {
   "cell_type": "markdown",
   "id": "3ea56ad3",
   "metadata": {},
   "source": [
    "We will load the preprocessed datasets of CD4 T cells. "
   ]
  },
  {
   "cell_type": "code",
   "execution_count": null,
   "id": "445b9382",
   "metadata": {},
   "outputs": [],
   "source": [
    "cd4_l3_naive  <- readRDS(\"../data/processed/L3/cd4_l3_naive.rds\")\n",
    "cd4_l3_tfh  <- readRDS(\"../data/processed/L3/cd4_l3_tfh.rds\")\n",
    "cd4_l3_th1th17  <- readRDS(\"../data/processed/L3/cd4_l3_th1_17.rds\")\n",
    "cd4_l3_nfkb  <- readRDS(\"../data/processed/L3/cd4_l3_nfkb.rds\")\n",
    "cd4_l3_th2  <- readRDS(\"../data/processed/L3/cd4_l3_th2.rds\")\n",
    "cd4_l3_isaghi  <- readRDS(\"../data/processed/L3/cd4_l3_isaghi.rds\")\n",
    "cd4_l3_proliferating  <- readRDS(\"../data/processed/L3/cd4_l3_proliferating.rds\")\n",
    "cd4_l3_temra  <- readRDS(\"../data/processed/L3/cd4_l3_temra.rds\")\n",
    "cd4_l3_treg  <- readRDS(\"../data/processed/L3/cd4_l3_treg.rds\")\n",
    "cd4_l2_unc  <- readRDS(\"../data/processed/L2/cd4_l2_unc.rds\")\n",
    "cd4_l2_subcluster  <- readRDS(\"../data/processed/L2/cd4_subcluster.rds\")\n",
    "cd4_l1_full_filt  <- readRDS(\"../data/processed/L1/cd4_l1_full_filt.rds\")"
   ]
  },
  {
   "cell_type": "code",
   "execution_count": null,
   "id": "c944441e",
   "metadata": {},
   "outputs": [],
   "source": [
    "cd4_l1_full_filt@meta.data  %>% group_by(Patient_ID, Experiment_ID, Disease)  %>% tally  %>% dplyr::select(-n)  %>% \n",
    "ungroup  %>% group_by(Experiment_ID, Disease)  %>% tally  %>% arrange(Experiment_ID)"
   ]
  },
  {
   "cell_type": "code",
   "execution_count": null,
   "id": "915ddb0a",
   "metadata": {},
   "outputs": [],
   "source": [
    "cd4_l1_full_filt"
   ]
  },
  {
   "cell_type": "code",
   "execution_count": null,
   "id": "4d645606",
   "metadata": {},
   "outputs": [],
   "source": [
    "cd4_l3_list  <- list(cd4_l3_naive, cd4_l3_tfh, cd4_l3_th1th17, cd4_l3_nfkb, cd4_l3_th2,\n",
    "                     cd4_l3_treg, cd4_l3_isaghi, cd4_l3_proliferating, cd4_l3_temra,\n",
    "                     cd4_l2_unc, cd4_l2_subcluster, cd4_l1_full_filt)\n",
    "\n",
    "names(cd4_l3_list)  <- c(\"cd4_l3_naive\", \"cd4_l3_tfh\", \"cd4_l3_th1th17\", \"cd4_l3_nfkb\", \"cd4_l3_th2\",\n",
    "                     \"cd4_l3_treg\", \"cd4_l3_isaghi\", \"cd4_l3_proliferating\", \"cd4_l3_temra\",\n",
    "                     \"cd4_l2_unc\", \"cd4_l2_subcluster\", \"cd4_l1_full_filt\")"
   ]
  },
  {
   "cell_type": "markdown",
   "id": "2d20aad1",
   "metadata": {},
   "source": [
    "# Plots of Unconventional populations"
   ]
  },
  {
   "cell_type": "markdown",
   "id": "c2a053b4",
   "metadata": {},
   "source": [
    "We will create some additional analyses of unconventional populations. "
   ]
  },
  {
   "cell_type": "code",
   "execution_count": null,
   "id": "15a3827d",
   "metadata": {},
   "outputs": [],
   "source": [
    "DimPlot(cd4_l1_full_filt, cols = c(\"grey88\",\"brown3\"), pt.size = 2, raster = T) + NoLegend()"
   ]
  },
  {
   "cell_type": "code",
   "execution_count": null,
   "id": "5eaead14",
   "metadata": {},
   "outputs": [],
   "source": [
    "ggsave(filename = paste0(paste0(\"../figures/Dimplots_unconventional/unconventional_cd4.png\")), width = 12, height = 12, units = \"cm\")\n",
    "ggsave(filename = paste0(paste0(\"../figures/Dimplots_unconventional/unconventional_cd4.svg\")), width = 12, height = 12, units = \"cm\")"
   ]
  },
  {
   "cell_type": "code",
   "execution_count": null,
   "id": "5bb0bcdf",
   "metadata": {},
   "outputs": [],
   "source": [
    "options(repr.plot.width = 6, repr.plot.height = 5)\n",
    "FeaturePlot(cd4_l1_full_filt, features = \"PTPRC-RA\", max.cutoff = 5)"
   ]
  },
  {
   "cell_type": "code",
   "execution_count": null,
   "id": "411069f3",
   "metadata": {},
   "outputs": [],
   "source": [
    "cd4_l2_subcluster@meta.data  %>% group_by(Patient_ID, Condition)  %>% tally  %>% dplyr::select(-n)  %>% \n",
    "group_by(Condition)  %>% tally"
   ]
  },
  {
   "cell_type": "code",
   "execution_count": null,
   "id": "c1fca5f3",
   "metadata": {},
   "outputs": [],
   "source": [
    "DefaultAssay(cd4_l1_full_filt)  <- \"RNA\""
   ]
  },
  {
   "cell_type": "markdown",
   "id": "dcbd389c",
   "metadata": {},
   "source": [
    "Let's calculate and plot the markers of unconventional cells. "
   ]
  },
  {
   "cell_type": "code",
   "execution_count": null,
   "id": "0e4c04cc",
   "metadata": {},
   "outputs": [],
   "source": [
    "mrk  <- FindAllMarkers(cd4_l1_full_filt, only.pos = T)"
   ]
  },
  {
   "cell_type": "code",
   "execution_count": null,
   "id": "8f052a5d",
   "metadata": {
    "scrolled": true
   },
   "outputs": [],
   "source": [
    "mrk  %>% filter(cluster == \"Unconventional T cells\")"
   ]
  },
  {
   "cell_type": "code",
   "execution_count": null,
   "id": "019a7dc4",
   "metadata": {},
   "outputs": [],
   "source": [
    "markers2  <- rev(c(\"CD4\",\"TRAC\",\n",
    "              \"TRDC\",\"CD79A\",\"ZBTB16\",\"CR1\",\"FAM13A\",\n",
    "                   \"PTGER2\", \"PRKD3\",\"ADAM23\",\"AUTS2\",\"ANXA1\",\"RTKN2\",\n",
    "                   \"ZNF462\",\"NCR3\",\"CYB561\",\"LTB\",\"PTGDR\",\"LY6E\",\"TRGC1\"\n",
    "))\n",
    "\n",
    "avgexp = AverageExpression(cd4_l1_full_filt, features = markers2,\n",
    "                           return.seurat = F, group.by = \"annotations_l2\", \n",
    "                          assay = \"RNA\")"
   ]
  },
  {
   "cell_type": "code",
   "execution_count": null,
   "id": "15dc1e7b",
   "metadata": {},
   "outputs": [],
   "source": [
    "options(repr.plot.width = 8, repr.plot.height = 3.7)\n",
    "pheatmap(t(avgexp$RNA)[c(10,5,7,8,4,9,1,2,3,6),], main = \"\", \n",
    "         scale = \"column\", cluster_cols = T, cluster_rows = F,\n",
    "        color=colorRampPalette(c(\"dodgerblue\", \"grey95\", \"indianred2\"))(50), \n",
    "         border_color = \"white\",\n",
    "         width = 8, height = 3,\n",
    "                  fontsize = 9)"
   ]
  },
  {
   "cell_type": "code",
   "execution_count": null,
   "id": "b7a9c9b1",
   "metadata": {},
   "outputs": [],
   "source": [
    "options(repr.plot.width = 8, repr.plot.height = 3.7)\n",
    "pheatmap(t(avgexp$RNA)[c(10,5,7,8,4,9,1,2,3,6),], main = \"\", \n",
    "         scale = \"column\", cluster_cols = T, cluster_rows = F,\n",
    "        color=colorRampPalette(c(\"dodgerblue\", \"grey95\", \"indianred2\"))(50), \n",
    "        border_color = \"white\",filename = \"../figures/heatmaps/heatmap_cd4_unconventional.pdf\",\n",
    "         width = 8, height = 3,\n",
    "                  fontsize = 9)"
   ]
  },
  {
   "cell_type": "markdown",
   "id": "e1684fe4",
   "metadata": {},
   "source": [
    "Next, we will plot the CollecTRI transcription factors. "
   ]
  },
  {
   "cell_type": "code",
   "execution_count": null,
   "id": "9d3c90b7",
   "metadata": {},
   "outputs": [],
   "source": [
    "DefaultAssay(cd4_l1_full_filt)  <- \"CollecTRI\""
   ]
  },
  {
   "cell_type": "code",
   "execution_count": null,
   "id": "76eddbfe",
   "metadata": {},
   "outputs": [],
   "source": [
    "Idents(cd4_l1_full_filt)  <- cd4_l1_full_filt$annotations_manual"
   ]
  },
  {
   "cell_type": "code",
   "execution_count": null,
   "id": "96198ff7",
   "metadata": {},
   "outputs": [],
   "source": [
    "mrk  <- FindAllMarkers(cd4_l1_full_filt, only.pos = T)"
   ]
  },
  {
   "cell_type": "code",
   "execution_count": null,
   "id": "626982ef",
   "metadata": {
    "scrolled": true
   },
   "outputs": [],
   "source": [
    "mrk  %>% filter(cluster == \"Unconventional T cells\")"
   ]
  },
  {
   "cell_type": "code",
   "execution_count": null,
   "id": "92498a32",
   "metadata": {},
   "outputs": [],
   "source": [
    "markers2  <- rev(c(\"ASCL2\", \"ETV5\", \"SETBP1\", \n",
    "              \"POU3F1\",\"SMARCA4\",\"FOXH1\",\n",
    "                  \"DACH1\",\"CREB3\", \"ARNT\",\n",
    "                   \"MECOM\",\"RUNX1\",\n",
    "                  \"ELF2\",\"NEUROD1\",\"EBF1\",\n",
    "                  \"ID2\",\"STAT5A\",\"PURA\",\"GTF2I\",\"STAT3\",\"STAT6\"                 \n",
    "))\n",
    "\n",
    "avgexp = AverageExpression(cd4_l1_full_filt, features = markers2,\n",
    "                           return.seurat = F, group.by = \"annotations_l2\", \n",
    "                          assay = \"CollecTRI\")"
   ]
  },
  {
   "cell_type": "code",
   "execution_count": null,
   "id": "8aa6f592",
   "metadata": {},
   "outputs": [],
   "source": [
    "options(repr.plot.width = 7, repr.plot.height = 3.7)\n",
    "pheatmap(t(avgexp$CollecTRI)[c(10,5,7,8,4,9,1,2,3,6),], main = \"\", \n",
    "         scale = \"column\", cluster_cols = T, cluster_rows = F,\n",
    "        color=colorRampPalette(c(\"dodgerblue\", \"grey95\", \"indianred2\"))(50), \n",
    "         border_color = \"white\",\n",
    "                  fontsize = 9)"
   ]
  },
  {
   "cell_type": "code",
   "execution_count": null,
   "id": "fd702a1c",
   "metadata": {},
   "outputs": [],
   "source": [
    "options(repr.plot.width = 7, repr.plot.height = 3.7)\n",
    "pheatmap(t(avgexp$CollecTRI)[c(10,5,7,8,4,9,1,2,3,6),], main = \"\", \n",
    "         scale = \"column\", cluster_cols = T, cluster_rows = F,\n",
    "        color=colorRampPalette(c(\"dodgerblue\", \"grey95\", \"indianred2\"))(50), \n",
    "         border_color = \"white\",\n",
    "          filename = \"../figures/heatmaps/heatmap_cd4_unconventional_collecTRI.pdf\",\n",
    "         width = 8, height = 3,\n",
    "                           fontsize = 9)"
   ]
  },
  {
   "cell_type": "markdown",
   "id": "bb627575",
   "metadata": {},
   "source": [
    "Let's plot the conserved semivariable gene segments characterizing unconventional populations. "
   ]
  },
  {
   "cell_type": "code",
   "execution_count": null,
   "id": "8e732043",
   "metadata": {},
   "outputs": [],
   "source": [
    "options(repr.plot.width = 6, repr.plot.height = 5)\n",
    "DimPlot(cd4_l1_full_filt, \n",
    "        cells.highlight = colnames(cd4_l1_full_filt)[cd4_l1_full_filt$v_gene_A1 == \"TRAV10\" & \n",
    "                                                    cd4_l1_full_filt$j_gene_A1 == \"TRAJ18\"]) + NoLegend()"
   ]
  },
  {
   "cell_type": "code",
   "execution_count": null,
   "id": "f38fd978",
   "metadata": {},
   "outputs": [],
   "source": [
    "ggsave(filename = paste0(paste0(\"../figures/Dimplots_unconventional/trav10_traj18_cd4.png\")), create.dir = TRUE, width = 12, height = 12, units = \"cm\")\n",
    "ggsave(filename = paste0(paste0(\"../figures/Dimplots_unconventional/trav10_traj18_cd4.svg\")), width = 12, height = 12, units = \"cm\")"
   ]
  },
  {
   "cell_type": "markdown",
   "id": "da7f7738",
   "metadata": {},
   "source": [
    "And the expression of PLZF1 - ZBTB16. "
   ]
  },
  {
   "cell_type": "code",
   "execution_count": null,
   "id": "a4de268e",
   "metadata": {},
   "outputs": [],
   "source": [
    "options(repr.plot.width = 6, repr.plot.height = 5)\n",
    "FeaturePlot(cd4_l1_full_filt, features = \"ZBTB16\", min.cutoff = 0, max.cutoff = 2, raster = T, pt.size = 2,\n",
    "           raster.dpi = c(900,900))"
   ]
  },
  {
   "cell_type": "code",
   "execution_count": null,
   "id": "7fa1c695",
   "metadata": {},
   "outputs": [],
   "source": [
    "ggsave(filename = paste0(paste0(\"../figures/Dimplots_unconventional/zbtb16.png\")), create.dir = TRUE, width = 14, height = 12, units = \"cm\")\n",
    "ggsave(filename = paste0(paste0(\"../figures/Dimplots_unconventional/zbtb16.svg\")), width = 14, height = 12, units = \"cm\")"
   ]
  },
  {
   "cell_type": "code",
   "execution_count": null,
   "id": "676f546f",
   "metadata": {},
   "outputs": [],
   "source": [
    "cd4_l2_subcluster"
   ]
  },
  {
   "cell_type": "code",
   "execution_count": null,
   "id": "d054c4ef",
   "metadata": {},
   "outputs": [],
   "source": [
    "rm(cd4_l2_subcluster)"
   ]
  },
  {
   "cell_type": "code",
   "execution_count": null,
   "id": "3ec1e935",
   "metadata": {},
   "outputs": [],
   "source": [
    "gc()"
   ]
  },
  {
   "cell_type": "code",
   "execution_count": null,
   "id": "d44fa191",
   "metadata": {
    "scrolled": true
   },
   "outputs": [],
   "source": [
    "options(repr.plot.width = 6, repr.plot.height = 5)\n",
    "FeaturePlot(cd4_l2_subcluster, features = c(\"PTPRC-RA\"), cols = c(\"grey88\",\"grey88\",\"blue\"), max.cutoff = 2,\n",
    "        raster = TRUE, raster.dpi = c(900,900), pt.size = 4) + ggtheme()\n",
    "#ggsave(\"../figures/prelim/cd4_ptprc_ra.svg\", width = 13, height = 12, units = \"cm\", create.dir = TRUE)"
   ]
  },
  {
   "cell_type": "markdown",
   "id": "7be68b2e",
   "metadata": {},
   "source": [
    "## Heatmaps of marker genes"
   ]
  },
  {
   "cell_type": "code",
   "execution_count": null,
   "id": "46b4c73e",
   "metadata": {},
   "outputs": [],
   "source": [
    "Idents(cd4_l2_subcluster)  <- cd4_l2_subcluster$annotations_manual\n",
    "\n",
    "mrk  <- FindAllMarkers(cd4_l2_subcluster, only.pos = TRUE)\n",
    "\n",
    "mrk  <- rank_score_func(mrk)\n",
    "\n",
    "markers  <- mrk  %>% arrange(desc(score))  %>% group_by(cluster)  %>% slice_head(n = 8)  %>% pull(gene)"
   ]
  },
  {
   "cell_type": "code",
   "execution_count": null,
   "id": "8155109c",
   "metadata": {},
   "outputs": [],
   "source": [
    "avgexp = AverageExpression(cd4_l2_subcluster, features = markers,\n",
    "                           return.seurat = F, group.by = \"annotations_manual\", \n",
    "                          assay = \"RNA\")\n",
    "\n",
    "avgexp$RNA"
   ]
  },
  {
   "cell_type": "code",
   "execution_count": null,
   "id": "2043a962",
   "metadata": {},
   "outputs": [],
   "source": [
    "options(repr.plot.width = 14, repr.plot.height = 3.7)\n",
    "pheatmap(t(avgexp$RNA), main = \"\", \n",
    "         scale = \"column\", cluster_cols = T, cluster_rows = T,\n",
    "        color=colorRampPalette(c(\"dodgerblue\", \"grey95\", \"indianred2\"))(50), \n",
    "         border_color = \"white\",\n",
    "                  fontsize = 9)"
   ]
  },
  {
   "cell_type": "code",
   "execution_count": null,
   "id": "aac26255",
   "metadata": {},
   "outputs": [],
   "source": [
    "markers2  <- rev(c(\"SELL\", \"CCR7\", \"LEF1\", \"TCF7\", \n",
    "              \"CXCR5\", \"GPR183\", \"PRKCB\",\"PPP2R5C\",\n",
    "              \"CD69\",\"TNFAIP3\",\"JUN\",\"FOS\",\n",
    "              \"ISG15\", \"IFIT1\", \"OAS3\",\n",
    "              \"FOXP3\", \"IKZF2\",\"IL2RA\",\n",
    "              \"GATA3\", \"IL13\",\"NEFL\",\"PLP2\",\"IL4\", \"ZBTB16\",\n",
    "              \"CCR6\", \"RORC\" ,\n",
    "              \"ITGB1\",\"S100A4\",\"S100A6\",\n",
    "                   \"IL23R\",\"KLRB1\",\"CCL5\", \"TBX21\", \"IFNG\",\n",
    "               \"MKI67\", \"PCNA\", \"MCM6\" ))"
   ]
  },
  {
   "cell_type": "code",
   "execution_count": null,
   "id": "f6c893ca",
   "metadata": {
    "scrolled": true
   },
   "outputs": [],
   "source": [
    "avgexp = AverageExpression(cd4_l2_subcluster, features = markers2,\n",
    "                           return.seurat = F, group.by = \"annotations_manual\", \n",
    "                          assay = \"RNA\")"
   ]
  },
  {
   "cell_type": "code",
   "execution_count": null,
   "id": "c38fad5e",
   "metadata": {
    "scrolled": true
   },
   "outputs": [],
   "source": [
    "avgexp$RNA"
   ]
  },
  {
   "cell_type": "code",
   "execution_count": null,
   "id": "14b1dfc7",
   "metadata": {},
   "outputs": [],
   "source": [
    "options(repr.plot.width = 8, repr.plot.height = 3.7)\n",
    "pheatmap(t(avgexp$RNA[,c(2,1,7,6,4,3,5,9,8)]), main = \"\", \n",
    "         scale = \"column\", cluster_cols = F, cluster_rows = F,\n",
    "        color=colorRampPalette(c(\"dodgerblue\", \"grey95\", \"indianred2\"))(50), \n",
    "         border_color = \"white\",\n",
    "                  fontsize = 9)"
   ]
  },
  {
   "cell_type": "code",
   "execution_count": null,
   "id": "5afdcffd",
   "metadata": {},
   "outputs": [],
   "source": [
    "dir.create(\"../figures/heatmaps/\")"
   ]
  },
  {
   "cell_type": "code",
   "execution_count": null,
   "id": "35718231",
   "metadata": {},
   "outputs": [],
   "source": [
    "options(repr.plot.width = 8, repr.plot.height = 3.7)\n",
    "pheatmap(t(avgexp$RNA[,c(2,1,7,6,4,3,5,9,8)]), main = \"\", \n",
    "         scale = \"column\", cluster_cols = F, cluster_rows = F,\n",
    "        color=colorRampPalette(c(\"dodgerblue\", \"grey95\", \"indianred2\"))(50), \n",
    "         border_color = \"white\", filename = \"../figures/heatmaps/heatmap_cd4_l2.pdf\",\n",
    "         width = 8, height = 3,\n",
    "                  fontsize = 9)"
   ]
  },
  {
   "cell_type": "markdown",
   "id": "b94a489f",
   "metadata": {},
   "source": [
    "## Heatmap CollecTRI"
   ]
  },
  {
   "cell_type": "code",
   "execution_count": null,
   "id": "c96d176b",
   "metadata": {},
   "outputs": [],
   "source": [
    "DefaultAssay(cd4_l2_subcluster)  <- \"CollecTRI\""
   ]
  },
  {
   "cell_type": "code",
   "execution_count": null,
   "id": "7477250a",
   "metadata": {},
   "outputs": [],
   "source": [
    "Idents(cd4_l2_subcluster)  <- cd4_l2_subcluster$annotations_manual"
   ]
  },
  {
   "cell_type": "code",
   "execution_count": null,
   "id": "855c0208",
   "metadata": {},
   "outputs": [],
   "source": [
    "coll  <- FindAllMarkers(cd4_l2_subcluster, only.pos = T)"
   ]
  },
  {
   "cell_type": "code",
   "execution_count": null,
   "id": "2d54b279",
   "metadata": {
    "scrolled": true
   },
   "outputs": [],
   "source": [
    "genes  <- coll  %>% group_by(cluster)  %>% slice_head(n = 10)  %>% pull(gene)"
   ]
  },
  {
   "cell_type": "code",
   "execution_count": null,
   "id": "fed2300a",
   "metadata": {},
   "outputs": [],
   "source": [
    "dir.create(\"../tables/cd4/collectri_annotations/\")"
   ]
  },
  {
   "cell_type": "code",
   "execution_count": null,
   "id": "c9615070",
   "metadata": {},
   "outputs": [],
   "source": [
    "write.csv(coll, file = \"../tables/cd4/collectri_annotations/cd4_l2_subcluster.csv\")"
   ]
  },
  {
   "cell_type": "code",
   "execution_count": null,
   "id": "565ad0a4",
   "metadata": {
    "scrolled": true
   },
   "outputs": [],
   "source": [
    "coll  %>% group_by(cluster)  %>% slice_head(n = 20 )  %>% dplyr::filter(cluster == \"Proliferating\")"
   ]
  },
  {
   "cell_type": "code",
   "execution_count": null,
   "id": "cd7bbb5d",
   "metadata": {},
   "outputs": [],
   "source": []
  },
  {
   "cell_type": "code",
   "execution_count": null,
   "id": "34f85c5f",
   "metadata": {
    "scrolled": true
   },
   "outputs": [],
   "source": [
    "avgexp = AverageExpression(cd4_l2_subcluster, features = genes,\n",
    "                           return.seurat = F, group.by = \"annotations_manual\", \n",
    "                          assay = \"CollecTRI\")\n",
    "\n",
    "avgexp$CollecTRI"
   ]
  },
  {
   "cell_type": "code",
   "execution_count": null,
   "id": "45848d82",
   "metadata": {},
   "outputs": [],
   "source": [
    "options(repr.plot.width = 16, repr.plot.height = 3.7)\n",
    "pheatmap(t(avgexp$CollecTRI[,c(2,1,7,6,4,3,5,9,8)]), main = \"\", \n",
    "         scale = \"column\", cluster_cols = T, cluster_rows = F,\n",
    "        color=colorRampPalette(c(\"dodgerblue\", \"grey95\", \"indianred2\"))(50), \n",
    "         border_color = \"white\",\n",
    "                  fontsize = 9)"
   ]
  },
  {
   "cell_type": "code",
   "execution_count": null,
   "id": "cfe5fd30",
   "metadata": {},
   "outputs": [],
   "source": [
    "genes2  <- rev(c(\"TBX18\", \"PRRX1\", \"PRDM4\", \n",
    "                 \"ID1\",\"ETV7\",\"PROX1\",\n",
    "                    \"NFATC3\",\"ELK4\",\"ATF1\",\n",
    "                 \"STAT1\",\"STAT2\",\"IRF3\",\"IRF1\",\n",
    "             \"IKZF2\",\"BCL11B\",\"KAT2B\", \"FOXP3\",\n",
    "              \"KLF12\",\"MAF\",\"MYB\",\"ZBTB4\",\n",
    "                 \"RELB\",\"RORC\",\"PAX6\",\"IRF6\",\n",
    "             \"NFKBIB\",\"SPIC\",\"EOMES\",\n",
    "                \"RFXAP\",\"CIITA\",\"NFKB\",\"TP53\",\n",
    "             \"E2F4\",\"HES6\",\"HEYL\"))"
   ]
  },
  {
   "cell_type": "code",
   "execution_count": null,
   "id": "8f77b8b5",
   "metadata": {
    "scrolled": true
   },
   "outputs": [],
   "source": [
    "avgexp = AverageExpression(cd4_l2_subcluster, features = genes2,\n",
    "                           return.seurat = F, group.by = \"annotations_manual\", \n",
    "                          assay = \"CollecTRI\")\n",
    "\n",
    "avgexp$CollecTRI"
   ]
  },
  {
   "cell_type": "code",
   "execution_count": null,
   "id": "b8b254af",
   "metadata": {},
   "outputs": [],
   "source": [
    "options(repr.plot.width = 8, repr.plot.height = 3.7)\n",
    "pheatmap(t(avgexp$CollecTRI[,c(2,1,7,6,4,3,5,9,8)]), main = \"\", \n",
    "         scale = \"column\", cluster_cols = F, cluster_rows = F,\n",
    "        color=colorRampPalette(c(\"dodgerblue\", \"grey95\", \"indianred2\"))(50), \n",
    "         border_color = \"white\",\n",
    "                  fontsize = 9)"
   ]
  },
  {
   "cell_type": "code",
   "execution_count": null,
   "id": "f5e23d0e",
   "metadata": {},
   "outputs": [],
   "source": [
    "pheatmap(t(avgexp$CollecTRI[,c(2,1,7,6,4,3,5,9,8)]), main = \"\", \n",
    "         scale = \"column\", cluster_cols = F, cluster_rows = F,\n",
    "        color=colorRampPalette(c(\"dodgerblue\", \"grey95\", \"indianred2\"))(50), \n",
    "         border_color = \"white\", filename = \"../figures/heatmaps/heatmap_cd4_l2_collectri.pdf\",\n",
    "         width = 8, height = 3,\n",
    "                  fontsize = 9)"
   ]
  },
  {
   "cell_type": "markdown",
   "id": "6fc08681",
   "metadata": {},
   "source": [
    "# Frequencies L2"
   ]
  },
  {
   "cell_type": "code",
   "execution_count": null,
   "id": "f510f016",
   "metadata": {
    "scrolled": true
   },
   "outputs": [],
   "source": [
    "df4  <- create_df4(cd4_l2_subcluster)"
   ]
  },
  {
   "cell_type": "code",
   "execution_count": null,
   "id": "649bbfe8",
   "metadata": {
    "scrolled": true
   },
   "outputs": [],
   "source": [
    "df4"
   ]
  },
  {
   "cell_type": "code",
   "execution_count": null,
   "id": "29abd4f8",
   "metadata": {},
   "outputs": [],
   "source": [
    " p5  <-   df4  %>% \n",
    "filter(Experiment_ID %in% c(\"Exp16\", \"Exp18\", \"Exp19\", \"Exp20\"))  %>% \n",
    "  ggplot(aes(x = Condition, y = freq*100)) + # you can change the x to whatever variable you're interested in\n",
    "   geom_violin(alpha = 0.3, aes(fill = Condition)) +\n",
    "  stat_summary(fun = \"median\",\n",
    "               geom = \"crossbar\", \n",
    "               width = 0.75,\n",
    "               color = \"grey30\") +\n",
    "   scale_fill_manual(values = c(\"#1874cdff\",  \"#ee6363ff\", \"#c41515ff\",\"#eeb4b4ff\")) +\n",
    "scale_color_manual(values = c(\"dodgerblue3\",  \"#e54c4cff\", \"#aa2a2aff\",\"#e88989ff\")) +\n",
    "geom_beeswarm(size = 3, cex = 3, \n",
    "              color = \"black\", method = \"center\",\n",
    "             aes(fill = Condition), shape = 21) +\n",
    "   facet_wrap(~annotations_manual, scales = \"free\", ncol = 9) +\n",
    "  ylab(\"Frequency\") +\n",
    "  xlab(\"Condition\") +\n",
    "  theme_classic() +\n",
    "ggtheme() +\n",
    "ggpubr::stat_compare_means(label.x= 1.5, \n",
    "                           size = 7, vjust = -1, label = \"p.format\", comparisons = list(c(1,2)))+\n",
    "ggtheme() +\n",
    " scale_y_continuous(limits = c(0,NA), expand = c(0.05,0,0,10)) +\n",
    "  theme(strip.background = element_blank(), panel.grid = element_blank()) + \n",
    "  theme(axis.text = element_text(color = \"black\"),\n",
    "        axis.text.x = element_text(angle = 90),\n",
    "       axis.line = element_line(color = \"black\", size = 0.5),\n",
    "        axis.ticks.x = element_blank()) + NoLegend() + ggtitle(\"Final data all groups\")\n",
    "ncols = length(levels(factor(df4$annotations_manual)))"
   ]
  },
  {
   "cell_type": "code",
   "execution_count": null,
   "id": "8390d9b2",
   "metadata": {},
   "outputs": [],
   "source": [
    "options(repr.plot.width = 20, repr.plot.height = 6)\n",
    "p5"
   ]
  },
  {
   "cell_type": "code",
   "execution_count": null,
   "id": "d1f04566",
   "metadata": {},
   "outputs": [],
   "source": [
    "ggsave(\"../figures/subset_characterization/cd4_subsets_in_condition.svg\",\n",
    "       width = 40, height = 12, units = \"cm\")"
   ]
  },
  {
   "cell_type": "code",
   "execution_count": null,
   "id": "028aefb1",
   "metadata": {},
   "outputs": [],
   "source": [
    "    p5  <-   df4  %>% \n",
    "filter(Experiment_ID %in% c(\"Exp16\", \"Exp18\", \"Exp19\", \"Exp20\"))  %>% \n",
    "dplyr::filter(Patient_ID != \"116\")  %>% \n",
    "  ggplot(aes(x = Condition, y = freq*100)) + # you can change the x to whatever variable you're interested in\n",
    "   geom_violin(alpha = 0.3, aes(fill = Condition)) +\n",
    "  stat_summary(fun = \"median\",\n",
    "               geom = \"crossbar\", \n",
    "               width = 0.75,\n",
    "               color = \"grey30\") +\n",
    "   scale_fill_manual(values = c(\"#1874cdff\",  \"#ee6363ff\", \"#c41515ff\",\"#eeb4b4ff\")) +\n",
    "scale_color_manual(values = c(\"dodgerblue3\",  \"#e54c4cff\", \"#aa2a2aff\",\"#e88989ff\")) +\n",
    "geom_beeswarm(size = 3, cex = 3, \n",
    "              color = \"black\", method = \"center\",\n",
    "             aes(fill = Condition), shape = 21) +\n",
    "   facet_wrap(~annotations_manual, scales = \"free\", ncol = 9) +\n",
    "  ylab(\"Frequency\") +\n",
    "  xlab(\"Condition\") +\n",
    "  theme_classic() +\n",
    "ggtheme() +\n",
    "ggpubr::stat_compare_means(label.x= 1.5, \n",
    "                           size = 7, vjust = -1, label = \"p.format\", comparisons = list(c(2,3)), paired = TRUE)+\n",
    "ggtheme() +\n",
    " scale_y_continuous(limits = c(0,NA), expand = c(0.05,0,0,10)) +\n",
    "  theme(strip.background = element_blank(), panel.grid = element_blank()) + \n",
    "  theme(axis.text = element_text(color = \"black\"),\n",
    "        axis.text.x = element_text(angle = 90),\n",
    "       axis.line = element_line(color = \"black\", size = 0.5),\n",
    "        axis.ticks.x = element_blank()) + NoLegend() + ggtitle(\"Final data all groups\")\n",
    "ncols = length(levels(factor(df4$annotations_manual)))"
   ]
  },
  {
   "cell_type": "code",
   "execution_count": null,
   "id": "004de707",
   "metadata": {},
   "outputs": [],
   "source": [
    "options(repr.plot.width = 30, repr.plot.height = 7)\n",
    "p5"
   ]
  },
  {
   "cell_type": "markdown",
   "id": "0480ca1c",
   "metadata": {},
   "source": [
    "### Unconventional and L2"
   ]
  },
  {
   "cell_type": "code",
   "execution_count": null,
   "id": "52cefbe0",
   "metadata": {
    "scrolled": true
   },
   "outputs": [],
   "source": [
    "df4  <- create_df4(cd4_l1_full_filt)"
   ]
  },
  {
   "cell_type": "code",
   "execution_count": null,
   "id": "033de330",
   "metadata": {
    "scrolled": true
   },
   "outputs": [],
   "source": [
    "df4"
   ]
  },
  {
   "cell_type": "code",
   "execution_count": null,
   "id": "81f37d57",
   "metadata": {},
   "outputs": [],
   "source": [
    " p5  <-   df4  %>% \n",
    "filter(Experiment_ID %in% c(\"Exp16\", \"Exp18\", \"Exp19\", \"Exp20\"))  %>% \n",
    "  ggplot(aes(x = Condition, y = freq*100)) + # you can change the x to whatever variable you're interested in\n",
    "   geom_violin(alpha = 0.3, aes(fill = Condition)) +\n",
    "  stat_summary(fun = \"median\",\n",
    "               geom = \"crossbar\", \n",
    "               width = 0.75,\n",
    "               color = \"grey30\") +\n",
    "   scale_fill_manual(values = c(\"#1874cdff\",  \"#ee6363ff\", \"#c41515ff\",\"#eeb4b4ff\")) +\n",
    "scale_color_manual(values = c(\"dodgerblue3\",  \"#e54c4cff\", \"#aa2a2aff\",\"#e88989ff\")) +\n",
    "geom_beeswarm(size = 3, cex = 3, \n",
    "              color = \"black\", method = \"center\",\n",
    "             aes(fill = Condition), shape = 21) +\n",
    "   facet_wrap(~annotations_manual, scales = \"free\", ncol = 9) +\n",
    "  ylab(\"Frequency\") +\n",
    "  xlab(\"Condition\") +\n",
    "  theme_classic() +\n",
    "ggtheme() +\n",
    "ggpubr::stat_compare_means(label.x= 1.5, \n",
    "                           size = 7, vjust = -1, label = \"p.format\", comparisons = list(c(1,2)))+\n",
    "ggtheme() +\n",
    " scale_y_continuous(limits = c(0,NA), expand = c(0.05,0,0,10)) +\n",
    "  theme(strip.background = element_blank(), panel.grid = element_blank()) + \n",
    "  theme(axis.text = element_text(color = \"black\"),\n",
    "        axis.text.x = element_text(angle = 90),\n",
    "       axis.line = element_line(color = \"black\", size = 0.5),\n",
    "        axis.ticks.x = element_blank()) + NoLegend() + ggtitle(\"Final data all groups\")\n",
    "ncols = length(levels(factor(df4$annotations_manual)))"
   ]
  },
  {
   "cell_type": "code",
   "execution_count": null,
   "id": "e228d8d1",
   "metadata": {},
   "outputs": [],
   "source": [
    "options(repr.plot.width = 9, repr.plot.height = 7)\n",
    "p5"
   ]
  },
  {
   "cell_type": "code",
   "execution_count": null,
   "id": "67d3060f",
   "metadata": {},
   "outputs": [],
   "source": [
    "ggsave(\"../figures/subset_characterization/cd4_unc_subsets_in_condition.svg\",\n",
    "       width = 10, height = 12, units = \"cm\")"
   ]
  },
  {
   "cell_type": "code",
   "execution_count": null,
   "id": "f7e5914f",
   "metadata": {},
   "outputs": [],
   "source": [
    "    p5  <-   df4  %>% \n",
    "filter(Experiment_ID %in% c(\"Exp16\", \"Exp18\", \"Exp19\", \"Exp20\"))  %>% \n",
    "dplyr::filter(Patient_ID != \"116\")  %>% \n",
    "  ggplot(aes(x = Condition, y = freq*100)) + # you can change the x to whatever variable you're interested in\n",
    "   geom_violin(alpha = 0.3, aes(fill = Condition)) +\n",
    "  stat_summary(fun = \"median\",\n",
    "               geom = \"crossbar\", \n",
    "               width = 0.75,\n",
    "               color = \"grey30\") +\n",
    "   scale_fill_manual(values = c(\"#1874cdff\",  \"#ee6363ff\", \"#c41515ff\",\"#eeb4b4ff\")) +\n",
    "scale_color_manual(values = c(\"dodgerblue3\",  \"#e54c4cff\", \"#aa2a2aff\",\"#e88989ff\")) +\n",
    "geom_beeswarm(size = 3, cex = 3, \n",
    "              color = \"black\", method = \"center\",\n",
    "             aes(fill = Condition), shape = 21) +\n",
    "   facet_wrap(~annotations_manual, scales = \"free\", ncol = 9) +\n",
    "  ylab(\"Frequency\") +\n",
    "  xlab(\"Condition\") +\n",
    "  theme_classic() +\n",
    "ggtheme() +\n",
    "ggpubr::stat_compare_means(label.x= 1.5, \n",
    "                           size = 7, vjust = -1, label = \"p.format\", comparisons = list(c(2,3)), paired = TRUE)+\n",
    "ggtheme() +\n",
    " scale_y_continuous(limits = c(0,NA), expand = c(0.05,0,0,10)) +\n",
    "  theme(strip.background = element_blank(), panel.grid = element_blank()) + \n",
    "  theme(axis.text = element_text(color = \"black\"),\n",
    "        axis.text.x = element_text(angle = 90),\n",
    "       axis.line = element_line(color = \"black\", size = 0.5),\n",
    "        axis.ticks.x = element_blank()) + NoLegend() + ggtitle(\"Final data all groups\")\n",
    "ncols = length(levels(factor(df4$annotations_manual)))"
   ]
  },
  {
   "cell_type": "code",
   "execution_count": null,
   "id": "0e2ee81b",
   "metadata": {},
   "outputs": [],
   "source": [
    "options(repr.plot.width = 9, repr.plot.height = 7)\n",
    "p5"
   ]
  },
  {
   "cell_type": "markdown",
   "id": "cc023b30",
   "metadata": {},
   "source": [
    "# Frequencies and counts of all populations"
   ]
  },
  {
   "cell_type": "code",
   "execution_count": null,
   "id": "7a3e6b68",
   "metadata": {},
   "outputs": [],
   "source": [
    "cd4_l1_full_filt"
   ]
  },
  {
   "cell_type": "code",
   "execution_count": null,
   "id": "c3be2cc4",
   "metadata": {},
   "outputs": [],
   "source": [
    "all_counts  <- read_csv(\"../tables/populations_freq/all_levels_counts_cd4.csv\")"
   ]
  },
  {
   "cell_type": "code",
   "execution_count": null,
   "id": "4765217d",
   "metadata": {},
   "outputs": [],
   "source": [
    "all_counts$Experiment_ID  %>% table"
   ]
  },
  {
   "cell_type": "code",
   "execution_count": null,
   "id": "bdadaebf",
   "metadata": {
    "scrolled": true
   },
   "outputs": [],
   "source": [
    "all_counts"
   ]
  },
  {
   "cell_type": "code",
   "execution_count": null,
   "id": "6d8282e6",
   "metadata": {},
   "outputs": [],
   "source": [
    "df3  <- all_counts %>% \n",
    "  group_by(Sample_ID, Level) %>% \n",
    "  mutate(freq_from_total = n / sum(n)) "
   ]
  },
  {
   "cell_type": "code",
   "execution_count": null,
   "id": "5a5d978d",
   "metadata": {},
   "outputs": [],
   "source": [
    "df3"
   ]
  },
  {
   "cell_type": "code",
   "execution_count": null,
   "id": "fe80d01c",
   "metadata": {},
   "outputs": [],
   "source": [
    "## Set parent population"
   ]
  },
  {
   "cell_type": "code",
   "execution_count": null,
   "id": "16631aac",
   "metadata": {},
   "outputs": [],
   "source": [
    "df3  <- df3  %>% separate(annotations, into = c(\"annot_l1\",\"annot_l2\",NA), sep = \"---\", remove = F)  %>% \n",
    "mutate(Parent_annotation = case_when(\n",
    "Level == \"L1\" ~ \"CD4\",\n",
    "Level == \"L2\" ~ annot_l1,\n",
    "Level == \"L3\" ~ paste0(annot_l1, \"---\" ,annot_l2)\n",
    "))"
   ]
  },
  {
   "cell_type": "code",
   "execution_count": null,
   "id": "c07c46f8",
   "metadata": {},
   "outputs": [],
   "source": [
    "df3"
   ]
  },
  {
   "cell_type": "code",
   "execution_count": null,
   "id": "82eb48bc",
   "metadata": {},
   "outputs": [],
   "source": [
    "## For each level and each patient calculate the total count per parent population"
   ]
  },
  {
   "cell_type": "code",
   "execution_count": null,
   "id": "9f9c53d6",
   "metadata": {},
   "outputs": [],
   "source": [
    "levels_l1  <- all_counts %>% \n",
    "  filter(Level == \"L1\")  %>% \n",
    "pull(annotations)  %>% unique\n",
    "levels_l2  <- all_counts %>% \n",
    "  filter(Level == \"L2\")  %>% \n",
    "pull(annotations)  %>% unique"
   ]
  },
  {
   "cell_type": "code",
   "execution_count": null,
   "id": "f3bdf70e",
   "metadata": {},
   "outputs": [],
   "source": [
    "\n",
    "for(i in 1:length(levels_l1)) {\n",
    "    \n",
    "    df_filt  <- df3  %>% filter(grepl(annotations, pattern = levels_l1[i]) & Level == \"L2\")\n",
    "\n",
    "    df_filt  <- df_filt  %>% \n",
    "            group_by(Sample_ID)  %>% \n",
    "        summarise(total_per_patient = sum(n))\n",
    "\n",
    "    df_filt$Level = \"L2\"\n",
    "\n",
    "    df_filt$Parent_annotation = levels_l1[i]\n",
    "\n",
    "    if(i > 1){\n",
    "       \n",
    "        df_sum_of_parent  <- rbind(df_sum_of_parent, df_filt)\n",
    "        \n",
    "    } else {\n",
    "        df_sum_of_parent  <- df_filt\n",
    "        \n",
    "        \n",
    "    }\n",
    "\n",
    "}\n",
    "\n",
    "for(i in 1:length(levels_l2)) {\n",
    "    \n",
    "    df_filt  <- df3  %>% filter(grepl(annotations, pattern = levels_l2[i]) & Level == \"L3\")\n",
    "\n",
    "    df_filt  <- df_filt  %>% \n",
    "            group_by(Sample_ID)  %>% \n",
    "        summarise(total_per_patient = sum(n))\n",
    "\n",
    "    df_filt$Level = \"L3\"\n",
    "\n",
    "    df_filt$Parent_annotation = levels_l2[i]\n",
    "\n",
    "    df_sum_of_parent  <- rbind(df_sum_of_parent, df_filt)\n",
    "   \n",
    "\n",
    "}"
   ]
  },
  {
   "cell_type": "code",
   "execution_count": null,
   "id": "733f3318",
   "metadata": {
    "scrolled": true
   },
   "outputs": [],
   "source": [
    "df_sum_of_parent"
   ]
  },
  {
   "cell_type": "code",
   "execution_count": null,
   "id": "d4bfa06c",
   "metadata": {},
   "outputs": [],
   "source": [
    "dim(df3)"
   ]
  },
  {
   "cell_type": "code",
   "execution_count": null,
   "id": "96359ba4",
   "metadata": {},
   "outputs": [],
   "source": [
    "df4  <- left_join(df3, df_sum_of_parent)"
   ]
  },
  {
   "cell_type": "code",
   "execution_count": null,
   "id": "e3be82f0",
   "metadata": {},
   "outputs": [],
   "source": [
    "dim(df4)"
   ]
  },
  {
   "cell_type": "code",
   "execution_count": null,
   "id": "824ed34e",
   "metadata": {},
   "outputs": [],
   "source": [
    "df4"
   ]
  },
  {
   "cell_type": "code",
   "execution_count": null,
   "id": "a8f7c606",
   "metadata": {},
   "outputs": [],
   "source": [
    "df4$freq_from_parent  <- df4$n/df4$total_per_patient"
   ]
  },
  {
   "cell_type": "code",
   "execution_count": null,
   "id": "dd8a55c2",
   "metadata": {},
   "outputs": [],
   "source": [
    "df4"
   ]
  },
  {
   "cell_type": "code",
   "execution_count": null,
   "id": "59b4205f",
   "metadata": {},
   "outputs": [],
   "source": [
    "df4$pct_from_total  <- df4$freq_from_total*100\n",
    "df4$pct_from_parent  <- df4$freq_from_parent*100"
   ]
  },
  {
   "cell_type": "code",
   "execution_count": null,
   "id": "b1a1ef35",
   "metadata": {},
   "outputs": [],
   "source": [
    "df4$freq_from_parent <- ifelse(is.na(df4$freq_from_parent) & df4$Level != \"L1\", 0, df4$freq_from_parent)\n",
    "df4$pct_from_parent  <- ifelse(is.na(df4$pct_from_parent) & df4$Level != \"L1\", 0, df4$pct_from_parent)"
   ]
  },
  {
   "cell_type": "markdown",
   "id": "b368dc30",
   "metadata": {},
   "source": [
    "## Ordered frequency plots"
   ]
  },
  {
   "cell_type": "code",
   "execution_count": null,
   "id": "e9e6cfb8",
   "metadata": {},
   "outputs": [],
   "source": [
    "geom_violin(alpha = 0.3, aes(fill = Condition), scale = \"width\") + \n",
    "stat_summary(fun = \"median\",\n",
    "               geom = \"crossbar\", \n",
    "               width = 0.75,\n",
    "               color = \"grey30\") +\n",
    "geom_beeswarm(size = 3, aes(fill = Condition), cex = 3, \n",
    "                shape = 21, color = \"black\", corral = \"random\") +\n",
    " stat_compare_means(label = \"p.format\")+\n",
    "scale_fill_manual(values = c(\"#1874cdff\",  \"#ee6363ff\", \"#c41515ff\",\"#eeb4b4ff\")) +\n",
    "scale_color_manual(values = c(\"dodgerblue3\",  \"#e54c4cff\", \"#aa2a2aff\",\"#e88989ff\")) +\n",
    "ylab(\"\") +\n",
    "  xlab(\"\") +\n",
    "  ylim(0,NA) +\n",
    "  theme_classic() +\n",
    "theme(strip.background = element_blank(), panel.grid = element_blank()) + \n",
    "  theme(axis.text = element_text(color = \"black\"),\n",
    "        axis.text.x = element_text(angle = 90),\n",
    "       axis.line = element_line(color = \"black\", size = 0.5),\n",
    "        axis.ticks.x = element_blank()) +\n",
    "  ylim(0,NA)+\n",
    "  plot_annotation(\n",
    "    title = paste(stringr::str_replace_all(string = colnames(intra02_All2)[i], pattern = \"/\", replacement = \"\\n\")) ,\n",
    "    theme = theme(plot.title = element_text(size = 8), \n",
    "                  plot.subtitle = element_text(size = 8),\n",
    "                 axis.text.x = element_blank())) + ggtheme() + NoLegend()"
   ]
  },
  {
   "cell_type": "code",
   "execution_count": null,
   "id": "35419e1c",
   "metadata": {},
   "outputs": [],
   "source": [
    "options(repr.plot.width = 20, repr.plot.height = 28)\n",
    "\n",
    "df4   %>% \n",
    "ggplot(aes(x = Condition,\n",
    "             y = pct_from_parent)) +\n",
    "geom_violin(alpha = 0.3, aes(fill = Condition), scale = \"width\") + \n",
    "stat_summary(fun = \"median\",\n",
    "               geom = \"crossbar\", \n",
    "               width = 0.75,\n",
    "               color = \"grey30\") +\n",
    "geom_beeswarm(size = 3, aes(fill = Condition), cex = 3, \n",
    "                shape = 21, color = \"black\", corral = \"random\") +\n",
    "# stat_compare_means(label = \"p.format\")+\n",
    "scale_fill_manual(values = c(\"#1874cdff\",  \"#ee6363ff\", \"#c41515ff\",\"#eeb4b4ff\")) +\n",
    "scale_color_manual(values = c(\"dodgerblue3\",  \"#e54c4cff\", \"#aa2a2aff\",\"#e88989ff\")) +\n",
    "ylab(\"\") +\n",
    "  xlab(\"\") +\n",
    "  ylim(0,NA) +\n",
    "facet_wrap(~factor(annotations, labels = gsub(levels(factor(annotations)), \n",
    "                                              pattern = \"---\", replacement = \"\\n\")),\n",
    "           scales = \"free\", ncol = 6) +\n",
    "ggpubr::stat_compare_means(label.x = 1.2, label.y.npc = \"top\", comparisons = list(c(1,2),\n",
    "                                                                                  c(2,3)),\n",
    "                           size = 3, vjust = 0.3, label = \"p.format\",\n",
    "                          ) + \n",
    "      ggtitle(\"CD4 Pct from parent\") +\n",
    " theme_classic() + ggtheme() + NoLegend() + theme(plot.title = element_text(hjust = 0.5, size = 22),\n",
    "          axis.line = element_line(colour = \"black\"), \n",
    "        axis.ticks = element_line(colour = \"black\"),\n",
    "           axis.ticks.x = element_blank(),\n",
    "           axis.text.x = element_blank())\n"
   ]
  },
  {
   "cell_type": "code",
   "execution_count": null,
   "id": "b51a7f92",
   "metadata": {},
   "outputs": [],
   "source": [
    "options(repr.plot.width = 16, repr.plot.height = 20)\n",
    "\n",
    "df4   %>% \n",
    "ggplot(aes(x = Condition,\n",
    "             y = pct_from_parent)) +\n",
    "   geom_dotplot(binaxis='y', stackdir='center', dotsize = 0) + \n",
    "   geom_boxplot(outlier.shape = NA) +\n",
    "    geom_jitter(binaxis='y', position=position_jitter(width = 0, height = 0), \n",
    "                size = 1, stackdir='center', aes(color = Condition)) + \n",
    "  theme_classic() + xlab(\"\") + ylab(\"Value\") +\n",
    "facet_wrap(~factor(annotations, labels = gsub(levels(factor(annotations)), \n",
    "                                              pattern = \"---\", replacement = \"\\n\")),\n",
    "           scales = \"free\", ncol = 6) +\n",
    " ylim(0,NA) +\n",
    "ggpubr::stat_compare_means(label.x = 1.2, label.y.npc = \"top\", size = 3, vjust = 0.3, label = \"p.format\") + \n",
    "      theme(plot.title = element_text(hjust = 0.5, size = 22),\n",
    "          axis.line = element_line(colour = \"black\"), \n",
    "        axis.ticks = element_line(colour = \"black\")) + ggtitle(\"CD4 Pct from parent\")"
   ]
  },
  {
   "cell_type": "code",
   "execution_count": null,
   "id": "a78e0068",
   "metadata": {
    "scrolled": true
   },
   "outputs": [],
   "source": [
    "options(repr.plot.width = 16, repr.plot.height = 20)\n",
    "\n",
    "df4   %>% \n",
    "ggplot(aes(x = Condition,\n",
    "             y = pct_from_total)) +\n",
    "   geom_dotplot(binaxis='y', stackdir='center', dotsize = 0) + \n",
    "   geom_boxplot(outlier.shape = NA) +\n",
    "    geom_jitter(binaxis='y', position=position_jitter(width = 0, height = 0), \n",
    "                size = 1, stackdir='center', aes(color = Condition)) + \n",
    "  theme_classic() + xlab(\"\") + ylab(\"Value\") +\n",
    "facet_wrap(~factor(annotations, labels = gsub(levels(factor(annotations)), \n",
    "                                              pattern = \"---\", replacement = \"\\n\")),\n",
    "           scales = \"free\", ncol = 6) +\n",
    " ylim(0,NA) +\n",
    "ggpubr::stat_compare_means(label.x = 1.2, label.y.npc = \"top\", size = 3, vjust = 0.3, label = \"p.format\") + \n",
    "      theme(plot.title = element_text(hjust = 0.5, size = 22),\n",
    "          axis.line = element_line(colour = \"black\"), \n",
    "        axis.ticks = element_line(colour = \"black\")) + ggtitle(\"CD4 Pct from total\")"
   ]
  },
  {
   "cell_type": "code",
   "execution_count": null,
   "id": "240e1dd9",
   "metadata": {
    "scrolled": true
   },
   "outputs": [],
   "source": [
    "options(repr.plot.width = 20, repr.plot.height = 28)\n",
    "\n",
    "df4   %>% \n",
    "ggplot(aes(x = Condition,\n",
    "             y = pct_from_total)) +\n",
    "geom_violin(alpha = 0.3, aes(fill = Condition), scale = \"width\") + \n",
    "stat_summary(fun = \"median\",\n",
    "               geom = \"crossbar\", \n",
    "               width = 0.75,\n",
    "               color = \"grey30\") +\n",
    "geom_beeswarm(size = 2, aes(fill = Condition), cex = 3, \n",
    "                shape = 21, color = \"black\", corral = \"random\") +\n",
    "# stat_compare_means(label = \"p.format\")+\n",
    "scale_fill_manual(values = c(\"#1874cdff\",  \"#ee6363ff\", \"#c41515ff\",\"#eeb4b4ff\")) +\n",
    "scale_color_manual(values = c(\"dodgerblue3\",  \"#e54c4cff\", \"#aa2a2aff\",\"#e88989ff\")) +\n",
    "ylab(\"\") +\n",
    "  xlab(\"\") +\n",
    "  ylim(0,NA) +\n",
    "facet_wrap(~factor(annotations, labels = gsub(levels(factor(annotations)), \n",
    "                                              pattern = \"---\", replacement = \"\\n\")),\n",
    "           scales = \"free\", ncol = 6) +\n",
    "ggpubr::stat_compare_means(label.x = 1.2, label.y.npc = \"top\", comparisons = list(c(1,2),\n",
    "                                                                                  c(2,3)),\n",
    "                           size = 3, vjust = 0.3, label = \"p.format\",\n",
    "                          ) + \n",
    "      ggtitle(\"CD4 Pct from parent\") +\n",
    " theme_classic() + ggtheme() + NoLegend() + theme(plot.title = element_text(hjust = 0.5, size = 22),\n",
    "          axis.line = element_line(colour = \"black\"), \n",
    "        axis.ticks = element_line(colour = \"black\"),\n",
    "           axis.ticks.x = element_blank(),\n",
    "           axis.text.x = element_blank())\n"
   ]
  },
  {
   "cell_type": "code",
   "execution_count": null,
   "id": "8f0610b9",
   "metadata": {},
   "outputs": [],
   "source": [
    "dir.create(\"../figures/populations/\")"
   ]
  },
  {
   "cell_type": "code",
   "execution_count": null,
   "id": "e14bd047",
   "metadata": {
    "scrolled": true
   },
   "outputs": [],
   "source": [
    "library(svglite)\n",
    "ggsave(\"../figures/populations/cd4_from_total.svg\", width = 40, height = 68, units = \"cm\")"
   ]
  },
  {
   "cell_type": "markdown",
   "id": "a32ace07",
   "metadata": {},
   "source": [
    "## Plot of differences in Conditions"
   ]
  },
  {
   "cell_type": "code",
   "execution_count": null,
   "id": "ba6fa057",
   "metadata": {
    "scrolled": true
   },
   "outputs": [],
   "source": [
    "annotations_to_test  <- df4$annotations  %>% unique()\n",
    "comparisons_to_test  <- c(\"Ctrl T0\", \"Dia T0\", \"Dia T1\")"
   ]
  },
  {
   "cell_type": "code",
   "execution_count": null,
   "id": "36c641a7",
   "metadata": {
    "scrolled": true
   },
   "outputs": [],
   "source": [
    "annotations_to_test"
   ]
  },
  {
   "cell_type": "markdown",
   "id": "38fd90dc",
   "metadata": {},
   "source": [
    "### Freq from total"
   ]
  },
  {
   "cell_type": "code",
   "execution_count": null,
   "id": "2e4e8548",
   "metadata": {},
   "outputs": [],
   "source": [
    "for(i in 1:length(annotations_to_test)){\n",
    "\n",
    "\n",
    "## Comparison Dia T0 vs Dia T1\n",
    "    j = 2\n",
    "    k = 3\n",
    "df  <- df4  %>% \n",
    "    filter(annotations == annotations_to_test[i] & Condition %in% c(comparisons_to_test[j], comparisons_to_test[k]))  %>% \n",
    "    dplyr::select(Condition, value = pct_from_total)  %>% mutate(value = as.numeric(value))\n",
    "    wcx  <- wilcox.test(df$value ~ df$Condition, conf.int = T)\n",
    "    df2  <- df  %>% group_by(Condition)  %>% summarise(mean = mean(value), sd = sd(value))\n",
    "    df_all  <- data.frame(name = annotations_to_test[i], \n",
    "                          comparison = \"Dia T0 vs Dia T1\",\n",
    "                          estimate = wcx$estimate,\n",
    "                          pval = wcx$p.value, \n",
    "                          mean_dia = df2$mean[1],\n",
    "                         mean_ctrl = df2$mean[2], \n",
    "                         upper = wcx$conf.int[2],\n",
    "                         lower = wcx$conf.int[1]\n",
    "                         )  %>% \n",
    "mutate(ratio = (mean_dia)/(mean_ctrl))\n",
    "    \n",
    "if(i == 1){\n",
    "    df_final  <- df_all\n",
    "} else {\n",
    "    df_final  <- rbind(df_final, df_all)\n",
    "}\n",
    "\n",
    "## Comparison of Dia vs controls in both times\n",
    "\n",
    "    j = 2\n",
    "    k = 1\n",
    "df  <- df4  %>% \n",
    "    filter(annotations == annotations_to_test[i] & Condition %in% c(comparisons_to_test[j], comparisons_to_test[k]))  %>% \n",
    "    dplyr::select(Condition, value = pct_from_total)  %>% mutate(value = as.numeric(value))\n",
    "    wcx  <- wilcox.test(df$value ~ df$Condition, conf.int = T)\n",
    "    df2  <- df  %>% group_by(Condition)  %>% summarise(mean = mean(value), sd = sd(value))\n",
    "    df_all  <- data.frame(name = annotations_to_test[i], \n",
    "                          comparison = paste(comparisons_to_test[j], \"vs\", comparisons_to_test[k]),\n",
    "                          estimate = wcx$estimate,\n",
    "                          pval = wcx$p.value, \n",
    "                          mean_dia = df2$mean[2],\n",
    "                         mean_ctrl = df2$mean[1], \n",
    "                         upper = wcx$conf.int[2],\n",
    "                         lower = wcx$conf.int[1]\n",
    "                         )  %>% mutate(ratio = (mean_dia)/(mean_ctrl))\n",
    "    df_final  <- rbind(df_final, df_all)\n",
    "    \n",
    "\n",
    "    j = 3\n",
    "    k = 1\n",
    "df  <- df4  %>% \n",
    "    filter(annotations == annotations_to_test[i] & Condition %in% c(comparisons_to_test[j], comparisons_to_test[k]))  %>% \n",
    "    dplyr::select(Condition, value = pct_from_total)  %>% mutate(value = as.numeric(value))\n",
    "    wcx  <- wilcox.test(df$value ~ df$Condition, conf.int = T)\n",
    "    df2  <- df  %>% group_by(Condition)  %>% summarise(mean = mean(value), sd = sd(value))\n",
    "    df_all  <- data.frame(name = annotations_to_test[i], \n",
    "                          comparison = paste(comparisons_to_test[j], \"vs\", comparisons_to_test[k]),\n",
    "                         estimate = wcx$estimate,\n",
    "                          pval = wcx$p.value, \n",
    "                          mean_dia = df2$mean[2],\n",
    "                         mean_ctrl = df2$mean[1], \n",
    "                         upper = wcx$conf.int[2],\n",
    "                         lower = wcx$conf.int[1]\n",
    "                         )  %>% mutate(ratio = (mean_dia)/(mean_ctrl))\n",
    "    df_final  <- rbind(df_final, df_all)\n",
    "\n",
    "\n",
    "## Comparison of Dia - partial remission vs. no remission\n",
    "\n",
    "df  <- df4  %>% \n",
    "    filter(annotations == annotations_to_test[i] & Disease == \"Dia\" & !is.na(Condition2))  %>% \n",
    "    dplyr::select(Condition = Condition2, value = pct_from_total)  %>% mutate(value = as.numeric(value))\n",
    "    wcx  <- wilcox.test(df$value ~ df$Condition, conf.int = T)\n",
    "    df2  <- df  %>% group_by(Condition)  %>% summarise(mean = mean(value), sd = sd(value))\n",
    "    df_all  <- data.frame(name = annotations_to_test[i], \n",
    "                          comparison = \"PR_0 vs PR_1\",\n",
    "                          estimate = wcx$estimate,\n",
    "                          pval = wcx$p.value, \n",
    "                          mean_dia = df2$mean[1],\n",
    "                         mean_ctrl = df2$mean[2], \n",
    "                         upper = wcx$conf.int[2],\n",
    "                         lower = wcx$conf.int[1]\n",
    "                         )  %>% mutate(ratio = (mean_dia)/(mean_ctrl))\n",
    "     \n",
    "    df_final  <- rbind(df_final, df_all)\n",
    "    \n",
    "    }"
   ]
  },
  {
   "cell_type": "code",
   "execution_count": null,
   "id": "5de3e334",
   "metadata": {},
   "outputs": [],
   "source": [
    "df_final  %>% arrange(pval)"
   ]
  },
  {
   "cell_type": "code",
   "execution_count": null,
   "id": "6aecdabd",
   "metadata": {},
   "outputs": [],
   "source": [
    "options(repr.plot.width = 16, repr.plot.height = 20)\n",
    "df_final  %>% \n",
    "mutate(color = ifelse(estimate < 0 & upper < 0, \n",
    "                      \"1\", \n",
    "                      ifelse(estimate > 0 & lower > 0, \"2\", \"3\")))  %>% \n",
    "  ggplot(aes(estimate, name, color = color)) +\n",
    "  geom_vline(xintercept = 0, color = \"gray75\") +\n",
    "  geom_linerange(aes(xmin = lower, xmax = upper),\n",
    "                 size = 1.5,\n",
    "                 alpha = 0.5) +\n",
    "  geom_point(size = 4) +\n",
    "  theme_minimal(base_size = 16) +\n",
    "  scale_color_manual(values = c(\"green4\", \"red3\", \"grey\"), guide = \"none\") +\n",
    "facet_wrap(~comparison, ncol = 4) +\n",
    "  labs(title = \"\", y = NULL,\n",
    "       x = \"Probability \\n(95% Confidence Intervals)\") +\n",
    "  theme(axis.text.y = element_text(hjust = 0, size = 18),\n",
    "        panel.grid = element_blank()) + ggtitle(\"Pct from Total\")"
   ]
  },
  {
   "cell_type": "code",
   "execution_count": null,
   "id": "0822f9bf",
   "metadata": {},
   "outputs": [],
   "source": [
    "write.csv(df_final, \"../tables/populations_freq/cd4_pct_from_total.csv\")"
   ]
  },
  {
   "cell_type": "markdown",
   "id": "4a810676",
   "metadata": {},
   "source": [
    "### Freq from parent"
   ]
  },
  {
   "cell_type": "code",
   "execution_count": null,
   "id": "5b1aa837",
   "metadata": {},
   "outputs": [],
   "source": [
    "annotations_to_test  <- df4$annotations  %>% unique()\n",
    "annotations_to_test  <- annotations_to_test[3:length(annotations_to_test)]"
   ]
  },
  {
   "cell_type": "code",
   "execution_count": null,
   "id": "74d446b1",
   "metadata": {},
   "outputs": [],
   "source": [
    "df5  <- df4  %>% filter(Level != \"L1\")\n",
    "\n",
    "for(i in c(1:9,11:length(annotations_to_test))){\n",
    "print(i)\n",
    "\n",
    "## Comparison Dia T0 vs Dia T1\n",
    "    j = 2\n",
    "    k = 3\n",
    "df  <- df5  %>% \n",
    "    filter(annotations == annotations_to_test[i] & Condition %in% c(comparisons_to_test[j], comparisons_to_test[k]))  %>% \n",
    "    dplyr::select(Condition, value = pct_from_parent)  %>% mutate(value = as.numeric(value))\n",
    "    wcx  <- wilcox.test(df$value ~ df$Condition, conf.int = T)\n",
    "    df2  <- df  %>% group_by(Condition)  %>% summarise(mean = mean(value), sd = sd(value))\n",
    "    df_all  <- data.frame(name = annotations_to_test[i], \n",
    "                          comparison = \"Dia T0 vs Dia T1\",\n",
    "                          estimate = wcx$estimate,\n",
    "                          pval = wcx$p.value, \n",
    "                          mean_dia = df2$mean[1],\n",
    "                         mean_ctrl = df2$mean[2], \n",
    "                         upper = wcx$conf.int[2],\n",
    "                         lower = wcx$conf.int[1]\n",
    "                         )  %>% \n",
    "mutate(ratio = (mean_dia)/(mean_ctrl))\n",
    "    \n",
    "if(i == 1){\n",
    "    df_final  <- df_all\n",
    "} else {\n",
    "    df_final  <- rbind(df_final, df_all)\n",
    "}\n",
    "\n",
    "## Comparison of Dia vs controls in both times\n",
    "\n",
    "    j = 2\n",
    "    k = 1\n",
    "df  <- df5  %>% \n",
    "    filter(annotations == annotations_to_test[i] & Condition %in% c(comparisons_to_test[j], comparisons_to_test[k]))  %>% \n",
    "    dplyr::select(Condition, value = pct_from_parent)  %>% mutate(value = as.numeric(value))\n",
    "    wcx  <- wilcox.test(df$value ~ df$Condition, conf.int = T)\n",
    "    df2  <- df  %>% group_by(Condition)  %>% summarise(mean = mean(value), sd = sd(value))\n",
    "    df_all  <- data.frame(name = annotations_to_test[i], \n",
    "                          comparison = paste(comparisons_to_test[j], \"vs\", comparisons_to_test[k]),\n",
    "                          estimate = wcx$estimate,\n",
    "                          pval = wcx$p.value, \n",
    "                          mean_dia = df2$mean[2],\n",
    "                         mean_ctrl = df2$mean[1], \n",
    "                         upper = wcx$conf.int[2],\n",
    "                         lower = wcx$conf.int[1]\n",
    "                         )  %>% mutate(ratio = (mean_dia)/(mean_ctrl))\n",
    "    df_final  <- rbind(df_final, df_all)\n",
    "    \n",
    "\n",
    "    j = 3\n",
    "    k = 1\n",
    "df  <- df5  %>% \n",
    "    filter(annotations == annotations_to_test[i] & Condition %in% c(comparisons_to_test[j], comparisons_to_test[k]))  %>% \n",
    "    dplyr::select(Condition, value = pct_from_parent)  %>% mutate(value = as.numeric(value))\n",
    "    wcx  <- wilcox.test(df$value ~ df$Condition, conf.int = T)\n",
    "    df2  <- df  %>% group_by(Condition)  %>% summarise(mean = mean(value), sd = sd(value))\n",
    "    df_all  <- data.frame(name = annotations_to_test[i], \n",
    "                          comparison = paste(comparisons_to_test[j], \"vs\", comparisons_to_test[k]),\n",
    "                         estimate = wcx$estimate,\n",
    "                          pval = wcx$p.value, \n",
    "                          mean_dia = df2$mean[2],\n",
    "                         mean_ctrl = df2$mean[1], \n",
    "                         upper = wcx$conf.int[2],\n",
    "                         lower = wcx$conf.int[1]\n",
    "                         )  %>% mutate(ratio = (mean_dia)/(mean_ctrl))\n",
    "    df_final  <- rbind(df_final, df_all)\n",
    "\n",
    "\n",
    "## Comparison of Dia - partial remission vs. no remission\n",
    "\n",
    "df  <- df5  %>% \n",
    "    filter(annotations == annotations_to_test[i] & Disease == \"Dia\" & !is.na(Condition2))  %>% \n",
    "    dplyr::select(Condition = Condition2, value = pct_from_parent)  %>% mutate(value = as.numeric(value))\n",
    "    wcx  <- wilcox.test(df$value ~ df$Condition, conf.int = T)\n",
    "    df2  <- df  %>% group_by(Condition)  %>% summarise(mean = mean(value), sd = sd(value))\n",
    "    df_all  <- data.frame(name = annotations_to_test[i], \n",
    "                          comparison = \"PR_0 vs PR_1\",\n",
    "                          estimate = wcx$estimate,\n",
    "                          pval = wcx$p.value, \n",
    "                          mean_dia = df2$mean[1],\n",
    "                         mean_ctrl = df2$mean[2], \n",
    "                         upper = wcx$conf.int[2],\n",
    "                         lower = wcx$conf.int[1]\n",
    "                         )  %>% mutate(ratio = (mean_dia)/(mean_ctrl))\n",
    "     \n",
    "    df_final  <- rbind(df_final, df_all)\n",
    "    \n",
    "    }\n",
    "\n",
    "df_final  %>% arrange(pval)\n",
    "\n",
    "options(repr.plot.width = 20, repr.plot.height = 20)\n",
    "df_final  %>% \n",
    "mutate(color = ifelse(estimate < 0 & upper < 0, \n",
    "                      \"1\", \n",
    "                      ifelse(estimate > 0 & lower > 0, \"2\", \"3\")))  %>% \n",
    "  ggplot(aes(estimate, name, color = color)) +\n",
    "  geom_vline(xintercept = 0, color = \"gray75\") +\n",
    "  geom_linerange(aes(xmin = lower, xmax = upper),\n",
    "                 size = 1.5,\n",
    "                 alpha = 0.5) +\n",
    "  geom_point(size = 4) +\n",
    "  theme_minimal(base_size = 16) +\n",
    "  scale_color_manual(values = c(\"green4\", \"red3\", \"grey\"), guide = \"none\") +\n",
    "facet_wrap(~comparison, ncol = 4) +\n",
    "  labs(title = \"\", y = NULL,\n",
    "       x = \"Probability \\n(95% Confidence Intervals)\") +\n",
    "  theme(axis.text.y = element_text(hjust = 0, size = 18),\n",
    "        panel.grid = element_blank())\n",
    "\n",
    "write.csv(df_final, \"../tables/populations_freq/cd4_pct_from_parent.csv\")"
   ]
  },
  {
   "cell_type": "code",
   "execution_count": null,
   "id": "11e615ad",
   "metadata": {},
   "outputs": [],
   "source": [
    "options(repr.plot.width = 16, repr.plot.height = 20)\n",
    "df_final  %>% \n",
    "mutate(color = ifelse(estimate < 0 & upper < 0, \n",
    "                      \"1\", \n",
    "                      ifelse(estimate > 0 & lower > 0, \"2\", \"3\")))  %>% \n",
    "  ggplot(aes(estimate, name, color = color)) +\n",
    "  geom_vline(xintercept = 0, color = \"gray75\") +\n",
    "  geom_linerange(aes(xmin = lower, xmax = upper),\n",
    "                 size = 1.5,\n",
    "                 alpha = 0.5) +\n",
    "  geom_point(size = 4) +\n",
    "  theme_minimal(base_size = 16) +\n",
    "  scale_color_manual(values = c(\"green4\", \"red3\", \"grey\"), guide = \"none\") +\n",
    "facet_wrap(~comparison, ncol = 4) +\n",
    "  labs(title = \"\", y = NULL,\n",
    "       x = \"Probability \\n(95% Confidence Intervals)\") +\n",
    "  theme(axis.text.y = element_text(hjust = 0, size = 18),\n",
    "        panel.grid = element_blank()) + ggtitle(\"Pct from Parent\")"
   ]
  },
  {
   "cell_type": "markdown",
   "id": "d19ecfe6",
   "metadata": {},
   "source": [
    "# DE genes in CD4 populations"
   ]
  },
  {
   "cell_type": "markdown",
   "id": "a4eb8cee",
   "metadata": {},
   "source": [
    "## Calculation of DE genes"
   ]
  },
  {
   "cell_type": "code",
   "execution_count": null,
   "id": "a5bae8b0",
   "metadata": {},
   "outputs": [],
   "source": [
    "cd4_l3_list  <- list(cd4_l3_naive, cd4_l3_tfh, cd4_l3_th1th17, cd4_l3_nfkb, cd4_l3_th2,\n",
    "                     cd4_l3_treg, cd4_l3_isaghi, cd4_l3_proliferating, cd4_l3_temra,\n",
    "                     cd4_l2_unc, cd4_l2_subcluster, cd4_l1_full_filt)\n",
    "\n",
    "names(cd4_l3_list)  <- c(\"cd4_l3_naive\", \"cd4_l3_tfh\", \"cd4_l3_th1th17\", \"cd4_l3_nfkb\", \"cd4_l3_th2\",\n",
    "                     \"cd4_l3_treg\", \"cd4_l3_isaghi\", \"cd4_l3_proliferating\", \"cd4_l3_temra\",\n",
    "                     \"cd4_l2_unc\", \"cd4_l2_subcluster\", \"cd4_l1_full_filt\")"
   ]
  },
  {
   "cell_type": "code",
   "execution_count": null,
   "id": "bc95af16",
   "metadata": {},
   "outputs": [],
   "source": [
    "md_for_remission  <- cd4_l1_full_filt@meta.data  %>% \n",
    "dplyr::filter(Condition %in% c(\"Dia T0\"))  %>% \n",
    "group_by(Patient_ID, part_remission_y_n)  %>% \n",
    "tally %>% mutate(Condition2 = paste0(\"PR_\",part_remission_y_n))  %>% \n",
    "dplyr::select(-n, -part_remission_y_n)"
   ]
  },
  {
   "cell_type": "code",
   "execution_count": null,
   "id": "e9409bb9",
   "metadata": {
    "scrolled": true
   },
   "outputs": [],
   "source": [
    "md_for_remission"
   ]
  },
  {
   "cell_type": "code",
   "execution_count": null,
   "id": "e591c59c",
   "metadata": {
    "scrolled": true
   },
   "outputs": [],
   "source": [
    "for( i in 1:length(cd4_l3_list)) {\n",
    "    \n",
    "    cd4_l3_list[[i]]$Condition2  <- NULL\n",
    "    cd4_l3_list[[i]]@meta.data  <- cd4_l3_list[[i]]@meta.data  %>% \n",
    "    left_join(md_for_remission)  %>% mutate(Condition2 = paste(Condition2, Time))  %>% \n",
    "    mutate(Condition2 = ifelse(grepl(Condition2, pattern = \"NA\"), NA_character_,Condition2))\n",
    "    \n",
    "    print(cd4_l3_list[[i]]$Condition2  %>% table)\n",
    "    rownames(cd4_l3_list[[i]]@meta.data)  <- colnames(cd4_l3_list[[i]])\n",
    "}"
   ]
  },
  {
   "cell_type": "markdown",
   "id": "1b9367be",
   "metadata": {},
   "source": [
    "### PR in T0 vs T1 and Ketoacidosis"
   ]
  },
  {
   "cell_type": "code",
   "execution_count": null,
   "id": "0486f4a6",
   "metadata": {},
   "outputs": [],
   "source": [
    "md_for_ketoacidosis  <- cd4_l1_full_filt@meta.data  %>% \n",
    "dplyr::filter(Condition %in% c(\"Dia T0\"))  %>% \n",
    "group_by(Patient_ID, ph_man)  %>% \n",
    "tally %>% mutate(Ketoacidosis = ifelse(ph_man<7.3,\"Keto_1\",\"Keto_0\"))  %>% \n",
    "dplyr::select(-ph_man, -n)"
   ]
  },
  {
   "cell_type": "code",
   "execution_count": null,
   "id": "a1c57af8",
   "metadata": {
    "scrolled": true
   },
   "outputs": [],
   "source": [
    "md_for_ketoacidosis"
   ]
  },
  {
   "cell_type": "code",
   "execution_count": null,
   "id": "7b4b8cfb",
   "metadata": {
    "scrolled": true
   },
   "outputs": [],
   "source": [
    "for( i in 1:length(cd4_l3_list)) {\n",
    "    \n",
    "    #cd4_l3_list[[i]]$Ketoacidosis  <- NULL\n",
    "    cd4_l3_list[[i]]@meta.data  <- cd4_l3_list[[i]]@meta.data  %>% \n",
    "    left_join(md_for_ketoacidosis)   %>% mutate(Keto_Time = paste(Ketoacidosis, Time))  %>% \n",
    "    mutate(Keto_Time = ifelse(grepl(Keto_Time, pattern = \"NA\"), NA_character_,Keto_Time))\n",
    "    \n",
    "    print(cd4_l3_list[[i]]$Ketoacidosis  %>% table)\n",
    "    rownames(cd4_l3_list[[i]]@meta.data)  <- colnames(cd4_l3_list[[i]])\n",
    "}"
   ]
  },
  {
   "cell_type": "code",
   "execution_count": null,
   "id": "b3543e99",
   "metadata": {},
   "outputs": [],
   "source": [
    "cd4_l3_list[[i]]$Keto_Time  %>% table"
   ]
  },
  {
   "cell_type": "markdown",
   "id": "3595e5e9",
   "metadata": {},
   "source": [
    "### Ketoacidosis in T0"
   ]
  },
  {
   "cell_type": "code",
   "execution_count": null,
   "id": "ea31fe85",
   "metadata": {},
   "outputs": [],
   "source": [
    "Conditions  <- list(c(\"Dia T0\", \"Ctrl T0\"),\n",
    "                    c(\"Dia T0\", \"Dia T1\"),\n",
    "                    c(\"Dia T1\", \"Ctrl T0\"),\n",
    "                    c(\"PR_0 T0\", \"PR_1 T0\"),\n",
    "                    c(\"PR_0 T1\", \"PR_1 T1\"),\n",
    "                    c(\"PR_0 T0\", \"PR_0 T1\"),\n",
    "                    c(\"PR_1 T0\", \"PR_1 T1\"),\n",
    "                    c(\"Keto_1 T0\", \"Keto_0 T0\"))"
   ]
  },
  {
   "cell_type": "code",
   "execution_count": null,
   "id": "c6ad6242",
   "metadata": {},
   "outputs": [],
   "source": [
    "Conditions  %>% length"
   ]
  },
  {
   "cell_type": "code",
   "execution_count": null,
   "id": "5ac7e602",
   "metadata": {},
   "outputs": [],
   "source": [
    "dataset_list  <- cd4_l3_list"
   ]
  },
  {
   "cell_type": "code",
   "execution_count": null,
   "id": "84a567a3",
   "metadata": {},
   "outputs": [],
   "source": [
    "# Function to calculate markers for a subsetted da for given conditions\n",
    "\n",
    "Create_Markers_DataFrame  <- function(j){\n",
    "     print(\"#######################\")\n",
    "    print(i)\n",
    "    print(j)\n",
    "    \n",
    "    Condition_1 = Conditions[[j]][1]\n",
    "    Condition_2 = Conditions[[j]][2]\n",
    "    \n",
    "    seurat_obj  <- dataset_list[[i]]\n",
    "        \n",
    "    if(grepl(Condition_1, pattern = \"PR\")){\n",
    "      seurat_obj$Condition  <- seurat_obj$Condition2\n",
    "    }\n",
    "    \n",
    "    if(grepl(Condition_1, pattern = \"Keto\")){\n",
    "      seurat_obj$Condition  <- seurat_obj$Keto_Time\n",
    "    }\n",
    "    \n",
    "    ## Create subsetted df\n",
    "        ds  <- subset(seurat_obj, Condition %in% c(Condition_1, Condition_2) & \n",
    "                  Experiment_ID %in% c(\"Exp16\", \"Exp18\", \"Exp19\", \"Exp20\"))\n",
    "        print(ds$Condition  %>% table)\n",
    "    \n",
    "    ## scRNAseq - RNA\n",
    "    DefaultAssay(ds)  <- \"RNA\"\n",
    "        Idents(ds)  <- ds$Condition\n",
    "        markers_sc  <- FindAllMarkers(ds, only.pos = T)\n",
    "        markers_sc$source  <- \"scRNAseq_RNA\"\n",
    "        rownames(markers_sc)  <- NULL\n",
    "    print(paste(\"DE RNA: \", nrow(markers_sc)))\n",
    "    \n",
    "    ## scRNAseq - collecTRI\n",
    "    DefaultAssay(ds)  <- \"CollecTRI\"\n",
    "        Idents(ds)  <- ds$Condition\n",
    "        markers_sc2  <- FindAllMarkers(ds, only.pos = T)\n",
    "        markers_sc2$source  <- \"scRNAseq_collecTRI\"\n",
    "        rownames(markers_sc2)  <- NULL\n",
    "    print(paste(\"DE CollecTRI: \", nrow(markers_sc2)))\n",
    "    \n",
    "    if(nrow(markers_sc2)>0 & nrow(markers_sc)>0){ \n",
    "            markers2 <- rbind(markers_sc, markers_sc2) } else {\n",
    "        if(nrow(markers_sc)>0){\n",
    "            markers2  <- markers_sc\n",
    "            } else {\n",
    "            if(nrow(markers_sc2)>0){\n",
    "                markers2  <- markers_sc2\n",
    "            \n",
    "            } else {\n",
    "                markers2  <- NULL\n",
    "                }\n",
    "        }\n",
    "        }\n",
    "    \n",
    "        markers2$test_type  <- paste(Conditions[[j]][1], \"vs\", Conditions[[j]][2])\n",
    "        print(\"..\")\n",
    "        markers2$dataset  <- names(dataset_list)[i]\n",
    "        return(markers2)\n",
    "}\n"
   ]
  },
  {
   "cell_type": "code",
   "execution_count": null,
   "id": "9e3a6f56",
   "metadata": {
    "scrolled": true
   },
   "outputs": [],
   "source": [
    "for(i in 1:length(dataset_list)){\n",
    "\n",
    "print(\"######################################################################\")\n",
    "if(i > 1){\n",
    "suppressWarnings(rm(markers_sc, markers, markers1, markers_sc2, markers_sc_predia, markers_bulk, markers_bulk2))    \n",
    "}\n",
    "    \n",
    "mrk  <- map(.x = 1:8, Create_Markers_DataFrame)\n",
    "\n",
    "mrk  <- bind_rows(mrk) \n",
    "    \n",
    "if(i>1){ \n",
    "    all_markers  <- rbind(all_markers, mrk)\n",
    "} else {\n",
    "    all_markers  <- mrk\n",
    "}\n",
    "    \n",
    "    \n",
    "}"
   ]
  },
  {
   "cell_type": "code",
   "execution_count": null,
   "id": "ca265036",
   "metadata": {},
   "outputs": [],
   "source": []
  },
  {
   "cell_type": "markdown",
   "id": "c97ad171",
   "metadata": {},
   "source": [
    "## DE genes with correction for sex-related genes"
   ]
  },
  {
   "cell_type": "code",
   "execution_count": null,
   "id": "66ce77b7",
   "metadata": {},
   "outputs": [],
   "source": [
    "# Function to calculate markers for a subsetted da for given conditions\n",
    "\n",
    "Create_Sex_Markers_DataFrame  <- function(i){\n",
    "    \n",
    "    ds  <- dataset_list[[i]]\n",
    "   \n",
    "    ## scRNAseq - RNA\n",
    "    DefaultAssay(ds)  <- \"RNA\"\n",
    "        Idents(ds)  <- ds$Sex\n",
    "        markers_sc  <- FindAllMarkers(ds, only.pos = T)\n",
    "        markers_sc$source  <- \"Sex_RNA\"\n",
    "        rownames(markers_sc)  <- NULL\n",
    "    print(paste(\"DE RNA: \", nrow(markers_sc)))\n",
    "    \n",
    "    ## scRNAseq - collecTRI\n",
    "    DefaultAssay(ds)  <- \"CollecTRI\"\n",
    "        Idents(ds)  <- ds$Sex\n",
    "        markers_sc2  <- FindAllMarkers(ds, only.pos = T)\n",
    "        markers_sc2$source  <- \"Sex_collecTRI\"\n",
    "        rownames(markers_sc2)  <- NULL\n",
    "    print(paste(\"DE CollecTRI: \", nrow(markers_sc2)))\n",
    "    \n",
    "    if(nrow(markers_sc2)>0 & nrow(markers_sc)>0){ \n",
    "            markers2 <- rbind(markers_sc, markers_sc2) } else {\n",
    "        if(nrow(markers_sc)>0){\n",
    "            markers2  <- markers_sc\n",
    "            } else {\n",
    "            if(nrow(markers_sc2)>0){\n",
    "                markers2  <- markers_sc2\n",
    "            \n",
    "            } else {\n",
    "                markers2  <- NULL\n",
    "                }\n",
    "        }\n",
    "        }\n",
    "    \n",
    "        markers2$test_type  <- \"Sex\"\n",
    "        print(\"..\")\n",
    "        markers2$dataset  <- names(dataset_list)[i]\n",
    "        return(markers2)\n",
    "}\n"
   ]
  },
  {
   "cell_type": "code",
   "execution_count": null,
   "id": "110938df",
   "metadata": {
    "scrolled": true
   },
   "outputs": [],
   "source": [
    "\n",
    "    \n",
    "mrk  <- map(.x = 1:length(dataset_list), Create_Sex_Markers_DataFrame)\n",
    "\n",
    "mrk  <- bind_rows(mrk) \n"
   ]
  },
  {
   "cell_type": "code",
   "execution_count": null,
   "id": "12eadd3a",
   "metadata": {
    "scrolled": true
   },
   "outputs": [],
   "source": [
    "mrk"
   ]
  },
  {
   "cell_type": "code",
   "execution_count": null,
   "id": "f7d7ad6d",
   "metadata": {},
   "outputs": [],
   "source": [
    "dir.create(\"../tables/de_genes\")\n",
    "\n",
    "write.csv(all_markers, \"../tables/de_genes/240319_markers_full_cd4_with_collecTRI.csv\", row.names = F)"
   ]
  },
  {
   "cell_type": "code",
   "execution_count": null,
   "id": "006e347d",
   "metadata": {},
   "outputs": [],
   "source": [
    "write.csv(mrk, \"../tables/de_genes/240319_markers_full_cd4_sex.csv\", row.names = F)"
   ]
  },
  {
   "cell_type": "code",
   "execution_count": null,
   "id": "971b6024",
   "metadata": {},
   "outputs": [],
   "source": [
    "# Create filtered marker list without Sex genes\n",
    "\n",
    "for(i in 1:length(dataset_list)){\n",
    "\n",
    "filt_df  <- all_markers  %>% dplyr::filter(dataset == names(dataset_list)[i])\n",
    "genes_to_remove  <- mrk  %>% dplyr::filter(dataset == names(dataset_list)[i])  %>% pull(gene) \n",
    "\n",
    "markers_without_sex  <- dplyr::filter(filt_df, !(gene %in% genes_to_remove))\n",
    "     \n",
    "if(i>1){ \n",
    "    all_markers_without_sex  <- rbind(all_markers_without_sex, markers_without_sex)\n",
    "} else {\n",
    "    all_markers_without_sex  <- markers_without_sex\n",
    "}\n",
    "    \n",
    "    \n",
    "}"
   ]
  },
  {
   "cell_type": "code",
   "execution_count": null,
   "id": "3d478600",
   "metadata": {},
   "outputs": [],
   "source": [
    "nrow(all_markers)"
   ]
  },
  {
   "cell_type": "code",
   "execution_count": null,
   "id": "1b0b13cc",
   "metadata": {},
   "outputs": [],
   "source": [
    "nrow(all_markers_without_sex)"
   ]
  },
  {
   "cell_type": "code",
   "execution_count": null,
   "id": "b1c243de",
   "metadata": {},
   "outputs": [],
   "source": [
    "write.csv(all_markers_without_sex, \"../tables/de_genes/240319_cd4_all_markers_without_sex.csv\", row.names = F)"
   ]
  },
  {
   "cell_type": "code",
   "execution_count": null,
   "id": "87206c7d",
   "metadata": {
    "scrolled": true
   },
   "outputs": [],
   "source": [
    "all_markers_without_sex$dataset %>% table"
   ]
  },
  {
   "cell_type": "markdown",
   "id": "92a32b11",
   "metadata": {},
   "source": [
    "# Populations - correlations with C-peptide"
   ]
  },
  {
   "cell_type": "code",
   "execution_count": null,
   "id": "5bd676d6",
   "metadata": {},
   "outputs": [],
   "source": [
    "fast  <- cd4_l1_full_filt@meta.data  %>% dplyr::select(Sample_ID, fasting_cpept_T1)  %>% unique"
   ]
  },
  {
   "cell_type": "code",
   "execution_count": null,
   "id": "963f399d",
   "metadata": {
    "scrolled": true
   },
   "outputs": [],
   "source": [
    "fast"
   ]
  },
  {
   "cell_type": "code",
   "execution_count": null,
   "id": "69e45c69",
   "metadata": {},
   "outputs": [],
   "source": [
    "mtx3"
   ]
  },
  {
   "cell_type": "code",
   "execution_count": null,
   "id": "aa2f2d97",
   "metadata": {},
   "outputs": [],
   "source": [
    "populations  <- mtx3  %>% \n",
    " left_join(fast)"
   ]
  },
  {
   "cell_type": "code",
   "execution_count": null,
   "id": "5075c734",
   "metadata": {},
   "outputs": [],
   "source": [
    "colnames(populations)"
   ]
  },
  {
   "cell_type": "code",
   "execution_count": null,
   "id": "6f8b9f83",
   "metadata": {
    "scrolled": true
   },
   "outputs": [],
   "source": [
    "populations"
   ]
  },
  {
   "cell_type": "code",
   "execution_count": null,
   "id": "7faa3039",
   "metadata": {},
   "outputs": [],
   "source": [
    "calc_correlation  <- function(i){\n",
    "    df  <- populations  %>% dplyr::select(i,57)  %>% dplyr::filter(!is.na(57))\n",
    "    colnames(df)  <- c(\"value\",\"fasting_cpept_T1\")\n",
    "    cor  <- cor.test(df$value, df$fasting_cpept_T1)\n",
    "    res_df  <- data.frame(population = colnames(populations)[i], \n",
    "                          cor = cor$estimate, \n",
    "                          pval = cor$p.value, \n",
    "                         padj  = ifelse(cor$p.value*46>1,1,cor$p.value*46))\n",
    "    return(res_df)\n",
    "}"
   ]
  },
  {
   "cell_type": "code",
   "execution_count": null,
   "id": "2673379a",
   "metadata": {},
   "outputs": [],
   "source": [
    "test  <- future_map(11:56, calc_correlation)"
   ]
  },
  {
   "cell_type": "code",
   "execution_count": null,
   "id": "7acbf44b",
   "metadata": {},
   "outputs": [],
   "source": [
    "test2  <- bind_rows(test)"
   ]
  },
  {
   "cell_type": "code",
   "execution_count": null,
   "id": "51410dd8",
   "metadata": {
    "scrolled": true
   },
   "outputs": [],
   "source": [
    "test2  %>% arrange(pval)"
   ]
  },
  {
   "cell_type": "code",
   "execution_count": null,
   "id": "3c8a02e6",
   "metadata": {},
   "outputs": [],
   "source": [
    "options(repr.plot.width = 4, repr.plot.height = 4)\n",
    "for(i in (test2  %>% arrange(pval)  %>% pull(population))[1:10]){\n",
    "    df2 <- populations  %>% dplyr::select(which(colnames(populations)==i),fasting_cpept_T1 = 57)  %>% \n",
    "     dplyr::filter(!is.na(fasting_cpept_T1))\n",
    "    colnames(df2)  <- c(\"value\", \"fasting_cpept_T1\")\n",
    "    p  <- df2 %>%  ggplot(aes(x=value, y=fasting_cpept_T1)) +\n",
    "  geom_point(shape = 16, size = 2) +\n",
    " geom_smooth(method=lm) + ggtitle(i) \n",
    "    print(p)\n",
    "    }"
   ]
  },
  {
   "cell_type": "code",
   "execution_count": null,
   "id": "0aeda0dc",
   "metadata": {},
   "outputs": [],
   "source": [
    "df2 <- populations  %>% dplyr::select(which(colnames(populations)==3),fasting_cpept_T1 = 57) "
   ]
  },
  {
   "cell_type": "code",
   "execution_count": null,
   "id": "68471964",
   "metadata": {},
   "outputs": [],
   "source": [
    "    colnames(df2)  <- c(\"value\", \"fasting_cpept_T1\")"
   ]
  },
  {
   "cell_type": "code",
   "execution_count": null,
   "id": "695969cf",
   "metadata": {},
   "outputs": [],
   "source": [
    "    p  <- df2 %>%  ggplot(aes(x=value, y=fasting_cpept_T1)) +\n",
    "  geom_point(shape = 16, size = 2) +\n",
    " geom_smooth(method=lm) + ggtitle(i) "
   ]
  },
  {
   "cell_type": "markdown",
   "id": "18baf548",
   "metadata": {},
   "source": [
    "# Populations - correlations with age"
   ]
  },
  {
   "cell_type": "code",
   "execution_count": null,
   "id": "4c078135",
   "metadata": {},
   "outputs": [],
   "source": [
    "calc_correlation  <- function(i){\n",
    "    df  <- populations  %>% dplyr::select(i,6)  %>% filter(!is.na(6))\n",
    "    colnames(df)  <- c(\"value\",\"age\")\n",
    "    cor  <- cor.test(df$value, df$age)\n",
    "    res_df  <- data.frame(population = colnames(populations)[i], \n",
    "                          cor = cor$estimate, \n",
    "                          pval = cor$p.value, \n",
    "                         padj  = ifelse(cor$p.value*49>1,1,cor$p.value*49))\n",
    "    return(res_df)\n",
    "}"
   ]
  },
  {
   "cell_type": "code",
   "execution_count": null,
   "id": "0158ba57",
   "metadata": {},
   "outputs": [],
   "source": [
    "test  <- future_map(11:59, calc_correlation)"
   ]
  },
  {
   "cell_type": "code",
   "execution_count": null,
   "id": "3de32acc",
   "metadata": {},
   "outputs": [],
   "source": [
    "test2  <- bind_rows(test)"
   ]
  },
  {
   "cell_type": "code",
   "execution_count": null,
   "id": "b3a8a036",
   "metadata": {
    "scrolled": true
   },
   "outputs": [],
   "source": [
    "test2  %>% arrange(pval)"
   ]
  },
  {
   "cell_type": "code",
   "execution_count": null,
   "id": "ad16c44e",
   "metadata": {},
   "outputs": [],
   "source": [
    "options(repr.plot.width = 4, repr.plot.height = 4)\n",
    "for(i in (test2  %>% arrange(pval)  %>% pull(population))[1:10]){\n",
    "    df2 <- populations  %>% dplyr::select(which(colnames(populations)==i),age = 6) \n",
    "    colnames(df2)  <- c(\"value\", \"age\")\n",
    "    p  <- df2 %>%  ggplot(aes(x=value, y=age)) +\n",
    "  geom_point(shape = 16, size = 2) +\n",
    " geom_smooth(method=lm) + ggtitle(i) \n",
    "    print(p)\n",
    "    }"
   ]
  },
  {
   "cell_type": "markdown",
   "id": "6f103dbe",
   "metadata": {},
   "source": [
    "# iNKT and CD3-56"
   ]
  },
  {
   "cell_type": "code",
   "execution_count": null,
   "id": "8de50b6c",
   "metadata": {},
   "outputs": [],
   "source": [
    "cd4_l1_full_filt  <- readRDS(\"../../240218_VN_Diabetes_V05/data/processed/L1/cd4_l1_full_filt.rds\")"
   ]
  },
  {
   "cell_type": "code",
   "execution_count": null,
   "id": "2ae255df",
   "metadata": {},
   "outputs": [],
   "source": [
    "library(GEOquery)"
   ]
  },
  {
   "cell_type": "code",
   "execution_count": null,
   "id": "55203144",
   "metadata": {},
   "outputs": [],
   "source": [
    "packageVersion('matrixStats')"
   ]
  },
  {
   "cell_type": "code",
   "execution_count": null,
   "id": "1b9c83e8",
   "metadata": {},
   "outputs": [],
   "source": [
    "gset <- getGEO(\"GSE106082\", GSEMatrix =TRUE, getGPL=TRUE, AnnotGPL=TRUE)"
   ]
  },
  {
   "cell_type": "code",
   "execution_count": null,
   "id": "0da7ba66",
   "metadata": {},
   "outputs": [],
   "source": [
    "gset <- readRDS(\"../data//geo//tr356.rds\")"
   ]
  },
  {
   "cell_type": "code",
   "execution_count": null,
   "id": "61993e63",
   "metadata": {},
   "outputs": [],
   "source": [
    "library(readr)"
   ]
  },
  {
   "cell_type": "code",
   "execution_count": null,
   "id": "ab143825",
   "metadata": {},
   "outputs": [],
   "source": [
    "metadata <- data.frame(geo_id = gset$GSE106082_series_matrix.txt.gz$geo_accession,\n",
    "                       cell_type = gset$GSE106082_series_matrix.txt.gz$`characteristics_ch1.1`\n",
    "                       )"
   ]
  },
  {
   "cell_type": "code",
   "execution_count": null,
   "id": "bfc089c7",
   "metadata": {},
   "outputs": [],
   "source": [
    "mtx_tr356  <- read_csv(\"../../240218_VN_Diabetes_V05/data/published_data/Terrazzano_2020/tr356_df_sum.csv\")"
   ]
  },
  {
   "cell_type": "code",
   "execution_count": null,
   "id": "dfeffdb0",
   "metadata": {},
   "outputs": [],
   "source": [
    "mtx_tr356$`...1`  <- NULL"
   ]
  },
  {
   "cell_type": "code",
   "execution_count": null,
   "id": "dbc92b0c",
   "metadata": {},
   "outputs": [],
   "source": [
    "mtx_tr356  <- mtx_tr356  %>% column_to_rownames(\"SYMBOL\")"
   ]
  },
  {
   "cell_type": "code",
   "execution_count": null,
   "id": "9be5ec38",
   "metadata": {
    "scrolled": true
   },
   "outputs": [],
   "source": [
    "mtx_tr356"
   ]
  },
  {
   "cell_type": "code",
   "execution_count": null,
   "id": "b0f2f19c",
   "metadata": {},
   "outputs": [],
   "source": [
    "plan(\"multisession\")"
   ]
  },
  {
   "cell_type": "code",
   "execution_count": null,
   "id": "e8d2d142",
   "metadata": {},
   "outputs": [],
   "source": [
    "library(tidyverse)"
   ]
  },
  {
   "cell_type": "code",
   "execution_count": null,
   "id": "2a599cf5",
   "metadata": {},
   "outputs": [],
   "source": [
    "mtx_tr356  <- mtx_tr356  %>% mutate_all(.funs = as.numeric)"
   ]
  },
  {
   "cell_type": "code",
   "execution_count": null,
   "id": "ef523e3c",
   "metadata": {
    "scrolled": true
   },
   "outputs": [],
   "source": [
    "mtx_tr356"
   ]
  },
  {
   "cell_type": "code",
   "execution_count": null,
   "id": "09885b60",
   "metadata": {},
   "outputs": [],
   "source": [
    "ref_tr3_56 <- list(matrix = mtx_tr356, \n",
    "                       labels = metadata$cell_type)\n"
   ]
  },
  {
   "cell_type": "code",
   "execution_count": null,
   "id": "da469b1f",
   "metadata": {},
   "outputs": [],
   "source": [
    "ref_tr3_56$matrix  <- as.matrix(ref_tr3_56$matrix)"
   ]
  },
  {
   "cell_type": "code",
   "execution_count": null,
   "id": "324f2a41",
   "metadata": {
    "scrolled": true
   },
   "outputs": [],
   "source": [
    "library(SingleR)"
   ]
  },
  {
   "cell_type": "code",
   "execution_count": null,
   "id": "81072dc5",
   "metadata": {
    "scrolled": true
   },
   "outputs": [],
   "source": [
    "pred <- SingleR(test = cd4_l1_full_filt@assays$RNA@counts, \n",
    "                ref=ref_tr3_56$matrix, labels=ref_tr3_56$labels, \n",
    "                fine.tune = T,num.threads = 4\n",
    "       )"
   ]
  },
  {
   "cell_type": "code",
   "execution_count": null,
   "id": "bf402371",
   "metadata": {
    "scrolled": false
   },
   "outputs": [],
   "source": [
    "pred"
   ]
  },
  {
   "cell_type": "code",
   "execution_count": null,
   "id": "d1a8cfc6",
   "metadata": {
    "scrolled": true
   },
   "outputs": [],
   "source": [
    "cd4_l1_full_filt$singler  <- pred$labels"
   ]
  },
  {
   "cell_type": "code",
   "execution_count": null,
   "id": "28a6a5e6",
   "metadata": {},
   "outputs": [],
   "source": [
    "DimPlot(cd4_l1_full_filt, group.by = \"annotations_l2\")"
   ]
  },
  {
   "cell_type": "code",
   "execution_count": null,
   "id": "fc756529",
   "metadata": {},
   "outputs": [],
   "source": [
    "DimPlot(cd4_l1_full_filt, group.by = \"singler\", shuffle = T, cols = c(\"purple\",\"grey88\",\"dodgerblue\",\"red\"))"
   ]
  },
  {
   "cell_type": "code",
   "execution_count": null,
   "id": "a07e067c",
   "metadata": {},
   "outputs": [],
   "source": [
    "options(repr.plot.width = 6.5, repr.plot.height = 4.5)\n",
    "DimPlot(cd4_l1_full_filt, group.by = \"annot2\",\n",
    "       cols = c(\"#d4a323ff\", \"#f1c07dff\", \"#7d262bff\", \"#d04f4fff\"))"
   ]
  },
  {
   "cell_type": "code",
   "execution_count": null,
   "id": "ddac6206",
   "metadata": {},
   "outputs": [],
   "source": [
    "DimPlot(cd4_l1_full_filt, group.by = \"annot2\",\n",
    "       cols = c(\"grey78\", \"grey78\", \"#7d262bff\", \"grey78\"))"
   ]
  },
  {
   "cell_type": "markdown",
   "id": "daa870f0",
   "metadata": {},
   "source": [
    "### Score per patient"
   ]
  },
  {
   "cell_type": "code",
   "execution_count": null,
   "id": "c15af87f",
   "metadata": {},
   "outputs": [],
   "source": [
    "cd4_l1_full_filt$score_tr356  <- pred$scores[,3]"
   ]
  },
  {
   "cell_type": "code",
   "execution_count": null,
   "id": "d6f92ef2",
   "metadata": {
    "scrolled": true
   },
   "outputs": [],
   "source": [
    "options(repr.plot.width = 6, repr.plot.height = 8)\n",
    "\n",
    "data.frame(Score = cd4_l1_full_filt$score_tr356,\n",
    "                  Annotation = gsub(cd4_l1_full_filt$annotations_l2, pattern = \"---\", replacement = \"\"),\n",
    "          Patient_ID = cd4_l1_full_filt$Patient_ID,\n",
    "          Patient_Time = cd4_l1_full_filt$Patient_Time,\n",
    "          Disease = cd4_l1_full_filt$Disease,\n",
    "           Condition = cd4_l1_full_filt$Condition\n",
    "          )  %>% \n",
    "mutate(Annotation = gsub(Annotation, pattern = \"cd4 T cells\", replacement = \"\"))  %>% \n",
    "mutate(Annotation = gsub(Annotation, pattern = \"cd4 Unconventional T cells\", replacement = \"\"))  %>% \n",
    "mutate(Annotation = gsub(Annotation, pattern = \"cd4 NK cells\", replacement = \"\"))  %>% \n",
    "mutate(annot2 = case_when(Annotation %in% c(\"Tem\",\"Tcm\",\"Temra\",\"Proliferating\") ~ \"NonNaive\", \n",
    "                          TRUE ~ Annotation))  %>% \n",
    "ggplot(aes(x = Condition, y = Score)) +\n",
    "  geom_violin() + \n",
    "stat_compare_means(comparisons = list(c(1,2),c(2,3),c(1,3))) +\n",
    "  stat_summary(fun = \"mean\",\n",
    "               geom = \"crossbar\", \n",
    "               width = 0.5,\n",
    "               colour = \"red\") + ggtitle(\"TR3-56 score\") + theme_classic() + ggtheme() + xlab(\"\")"
   ]
  },
  {
   "cell_type": "code",
   "execution_count": null,
   "id": "5d548f39",
   "metadata": {},
   "outputs": [],
   "source": [
    "\n",
    "data.frame(Score = cd4_l1_full_filt$score_tr356,\n",
    "                  Annotation = gsub(cd4_l1_full_filt$annotations_l2, pattern = \"---\", replacement = \"\"),\n",
    "          Patient_ID = cd4_l1_full_filt$Patient_ID,\n",
    "          Patient_Time = cd4_l1_full_filt$Patient_Time,\n",
    "          Disease = cd4_l1_full_filt$Disease, \n",
    "           Condition = cd4_l1_full_filt$Condition\n",
    "          )  %>% \n",
    "mutate(Annotation = gsub(Annotation, pattern = \"cd4 T cells\", replacement = \"\"))  %>% \n",
    "mutate(Annotation = gsub(Annotation, pattern = \"cd4 Unconventional T cells\", replacement = \"\"))  %>% \n",
    "mutate(Annotation = gsub(Annotation, pattern = \"cd4 NK cells\", replacement = \"\"))  %>% \n",
    "mutate(annot2 = case_when(Annotation %in% c(\"Tem\",\"Tcm\",\"Temra\",\"Proliferating\") ~ \"NonNaive\", \n",
    "                          TRUE ~ Annotation))  %>% \n",
    "group_by(Condition, Patient_Time)  %>% \n",
    "summarize(Score = mean(Score))  %>% \n",
    "ggplot(aes(x = Condition, y = Score)) +\n",
    "  geom_violin() + \n",
    "geom_point()+\n",
    "stat_compare_means(comparisons = list(c(1,2),c(2,3))) +\n",
    "  stat_summary(fun = \"mean\",\n",
    "               geom = \"crossbar\", \n",
    "               width = 0.5,\n",
    "               colour = \"red\") + ggtitle(\"TR3-56 score All cd4 cells\") + theme_classic() + ggtheme() + xlab(\"\")"
   ]
  },
  {
   "cell_type": "code",
   "execution_count": null,
   "id": "26496055",
   "metadata": {},
   "outputs": [],
   "source": [
    "options(repr.plot.width = 6, repr.plot.height = 6)\n",
    "\n",
    "data.frame(Score = cd4_l1_full_filt$score_tr356,\n",
    "                  Annotation = gsub(cd4_l1_full_filt$annotations_l2, pattern = \"---\", replacement = \"\"),\n",
    "          Patient_ID = cd4_l1_full_filt$Patient_ID,\n",
    "          Patient_Time = cd4_l1_full_filt$Patient_Time,\n",
    "          Disease = cd4_l1_full_filt$Disease, \n",
    "           Condition = cd4_l1_full_filt$Condition\n",
    "          )  %>% \n",
    "dplyr::filter(Patient_ID != 116)  %>% \n",
    "mutate(Annotation = gsub(Annotation, pattern = \"cd4 T cells\", replacement = \"\"))  %>% \n",
    "mutate(Annotation = gsub(Annotation, pattern = \"cd4 Unconventional T cells\", replacement = \"\"))  %>% \n",
    "mutate(Annotation = gsub(Annotation, pattern = \"cd4 NK cells\", replacement = \"\"))  %>% \n",
    "mutate(annot2 = case_when(Annotation %in% c(\"Tem\",\"Tcm\",\"Temra\",\"Proliferating\") ~ \"NonNaive\", \n",
    "                          TRUE ~ Annotation))  %>% \n",
    "group_by(Condition, Patient_Time)  %>% \n",
    "summarize(Score = mean(Score))  %>% \n",
    "ggplot(aes(x = Condition, y = Score)) +\n",
    "   geom_violin(alpha = 0.3, aes(fill = Condition)) +\n",
    "  stat_summary(fun = \"median\",\n",
    "               geom = \"crossbar\", \n",
    "               width = 0.75,\n",
    "               color = \"grey30\") +\n",
    "   scale_fill_manual(values = c(\"#1874cdff\",  \"#ee6363ff\", \"#c41515ff\",\"#eeb4b4ff\")) +\n",
    "scale_color_manual(values = c(\"dodgerblue3\",  \"#e54c4cff\", \"#aa2a2aff\",\"#e88989ff\")) +\n",
    "geom_beeswarm(size = 3, cex = 3, \n",
    "              color = \"black\", method = \"center\",\n",
    "             aes(fill = Condition), shape = 21) +\n",
    "stat_compare_means(comparisons = list(c(2,3)), paired = T) +\n",
    "   ggtitle(\"TR3-56 score All cd4 cells\") + theme_classic() + ggtheme() + xlab(\"\")\n",
    "\n",
    "ggsave(\"../figures/subset_characterization/tr3_56_score_in_condition_cd4.svg\",\n",
    "       width = 10, height = 9.5, units = \"cm\")"
   ]
  },
  {
   "cell_type": "code",
   "execution_count": null,
   "id": "ea8a40bd",
   "metadata": {},
   "outputs": [],
   "source": [
    "data.frame(Score = cd4_l1_full_filt$score_tr356,\n",
    "                  Annotation = gsub(cd4_l1_full_filt$annotations_l2, pattern = \"---\", replacement = \"\"))  %>% \n",
    "mutate(Annotation = gsub(Annotation, pattern = \"cd4 T cells\", replacement = \"\"))  %>% \n",
    "mutate(Annotation = gsub(Annotation, pattern = \"cd4 Unconventional T cells\", replacement = \"\"))  %>% \n",
    "mutate(Annotation = gsub(Annotation, pattern = \"cd4 NK cells\", replacement = \"\"))  %>% \n",
    "mutate(annot2 = case_when(Annotation %in% c(\"Tem\",\"Tcm\",\"Temra\",\"Proliferating\") ~ \"NonNaive\", \n",
    "                          TRUE ~ Annotation))  %>% \n",
    "ggplot(aes(x = fct_reorder(annot2, Score), y = Score)) +\n",
    "  geom_violin() + \n",
    "  stat_summary(fun = \"mean\",\n",
    "               geom = \"crossbar\", \n",
    "               width = 0.5,\n",
    "               colour = \"red\") + ggtitle(\"TR3-56 score\") + theme_classic() + ggtheme() + xlab(\"\")\n",
    "ggsave(\"../figures/cd356_score.svg\", width = 4, height = 3.5)"
   ]
  },
  {
   "cell_type": "code",
   "execution_count": null,
   "id": "2d9d77c6",
   "metadata": {},
   "outputs": [],
   "source": []
  },
  {
   "cell_type": "code",
   "execution_count": null,
   "id": "abb16376",
   "metadata": {},
   "outputs": [],
   "source": [
    "options(repr.plot.width = 6.5, repr.plot.height = 4.5)\n",
    "DimPlot(cd4_l1_full_filt, group.by = \"singler\", order = \"cell subset: TR3-56\",\n",
    "        shuffle = F, cols = c(\"grey88\",\"grey88\",\"grey88\",\"red\"))"
   ]
  },
  {
   "cell_type": "code",
   "execution_count": null,
   "id": "f6b39a87",
   "metadata": {},
   "outputs": [],
   "source": [
    "DimPlot(cd4_l1_full_filt, group.by = \"singler\", shuffle = T, cols = c(\"purple\",\"grey88\",\"dodgerblue\",\"red\"))"
   ]
  },
  {
   "cell_type": "code",
   "execution_count": null,
   "id": "e16d2199",
   "metadata": {},
   "outputs": [],
   "source": [
    "test  <- data.frame(annotation = cd4_l1_full_filt$annotations_l2,\n",
    "                    pred = cd4_l1_full_filt$singler)"
   ]
  },
  {
   "cell_type": "code",
   "execution_count": null,
   "id": "ea51ca04",
   "metadata": {},
   "outputs": [],
   "source": [
    "df2 <- test %>% group_by(annotation, pred) %>% \n",
    "  summarise(n = n()) %>%\n",
    "  mutate(freq = n / sum(n))"
   ]
  },
  {
   "cell_type": "code",
   "execution_count": null,
   "id": "e78784d6",
   "metadata": {
    "scrolled": true
   },
   "outputs": [],
   "source": [
    "df2"
   ]
  },
  {
   "cell_type": "code",
   "execution_count": null,
   "id": "5cfaa7b7",
   "metadata": {},
   "outputs": [],
   "source": [
    "df2"
   ]
  },
  {
   "cell_type": "code",
   "execution_count": null,
   "id": "20c37ad1",
   "metadata": {},
   "outputs": [],
   "source": [
    "cd4_l1_full_filt$score_tr356  <- pred$scores[,4]"
   ]
  },
  {
   "cell_type": "code",
   "execution_count": null,
   "id": "4cc7bf3b",
   "metadata": {},
   "outputs": [],
   "source": [
    "VlnPlot(cd4_l1_full_filt, features = \"score_tr356\", group.by = \"annotations_l2\")"
   ]
  },
  {
   "cell_type": "code",
   "execution_count": null,
   "id": "32ff84e7",
   "metadata": {},
   "outputs": [],
   "source": [
    "options(repr.plot.width = 14, repr.plot.height = 6)\n",
    "data.frame(Score = cd4_l1_full_filt$score_tr356,\n",
    "                  Annotation = gsub(cd4_l1_full_filt$annotations_l2, pattern = \"---\", replacement = \"\\n\"))  %>% \n",
    "#mutate(Annotation = gsub(Annotation, pattern = \"cd4 T cells\", replacement = \"\"))  %>% \n",
    "#mutate(Annotation = gsub(Annotation, pattern = \"cd4 Unconventional T cells\", replacement = \"\"))  %>% \n",
    "#mutate(Annotation = gsub(Annotation, pattern = \"cd4 NK cells\", replacement = \"\"))  %>% \n",
    "ggplot(aes(x = fct_reorder(Annotation, Score), y = Score)) +\n",
    "  geom_violin() + \n",
    "  stat_summary(fun = \"mean\",\n",
    "               geom = \"crossbar\", \n",
    "               width = 0.5,\n",
    "               colour = \"red\") + ggtitle(\"TR3-56 score\") + \n",
    "ggtheme() + theme_classic()  + theme(axis.ticks.x = element_blank()) + xlab(\"\")"
   ]
  },
  {
   "cell_type": "code",
   "execution_count": null,
   "id": "02db6eab",
   "metadata": {},
   "outputs": [],
   "source": [
    "data.frame(Score = cd4_l1_full_filt$score_tr356,\n",
    "                  Annotation = gsub(cd4_l1_full_filt$annotations_l2, pattern = \"---\", replacement = \"\"))  %>% \n",
    "mutate(Annotation = gsub(Annotation, pattern = \"CD4 T cells\", replacement = \"\"))  %>% \n",
    "mutate(Annotation = gsub(Annotation, pattern = \"CD4 Unconventional T cells\", replacement = \"\"))  %>% \n",
    "mutate(annot2 = case_when(Annotation %in% c(\"Treg\",\"Tfh\",\"ISAGhi\",\"Th2\",\"Nfkb\",\"Th1Th17\",\"Proliferating\") ~ \"NonNaive\", \n",
    "                          TRUE ~ Annotation))  %>% \n",
    "ggplot(aes(x = fct_reorder(annot2, Score), y = Score)) +\n",
    "  geom_violin() + \n",
    "  stat_summary(fun = \"mean\",\n",
    "               geom = \"crossbar\", \n",
    "               width = 0.5,\n",
    "               colour = \"red\") + ggtitle(\"TR3-56 score\") + theme_classic() + ggtheme() + xlab(\"\")\n",
    "ggsave(\"../figures/cd356_score_cd4.svg\", width = 3, height = 3.5)"
   ]
  },
  {
   "cell_type": "code",
   "execution_count": null,
   "id": "c259d850",
   "metadata": {},
   "outputs": [],
   "source": [
    "options(repr.plot.width = 6, repr.plot.height = 5)\n",
    "\n",
    "DefaultAssay(cd4_l1_full_filt)  <- \"RNA\"\n",
    "FeaturePlot(cd4_l1_full_filt, features = \"NCAM1\", min.cutoff = 0, max.cutoff = 2)"
   ]
  },
  {
   "cell_type": "code",
   "execution_count": null,
   "id": "26fc6867",
   "metadata": {},
   "outputs": [],
   "source": [
    "cd4_l1_full_filt@meta.data  <- cd4_l1_full_filt@meta.data  %>% mutate(\n",
    "                  Annotation = gsub(cd4_l1_full_filt$annotations_l2, pattern = \"---\", replacement = \"\"))  %>% \n",
    "mutate(Annotation = gsub(Annotation, pattern = \"CD4 T cells\", replacement = \"\"))  %>% \n",
    "mutate(Annotation = gsub(Annotation, pattern = \"CD4 Unconventional T cells\", replacement = \"\"))  %>% \n",
    "mutate(annot2 = case_when(Annotation %in% c(\"Treg\",\"Tfh\",\"ISAGhi\",\"Th2\",\"Nfkb\",\"Th1Th17\",\"Proliferating\") ~ \"NonNaive\", \n",
    "                          TRUE ~ Annotation))"
   ]
  },
  {
   "cell_type": "code",
   "execution_count": null,
   "id": "1be7406b",
   "metadata": {},
   "outputs": [],
   "source": [
    "cd4_l1_full_filt$annotations_l2_sample  <- paste(cd4_l1_full_filt$annot2, cd4_l1_full_filt$Sample_ID)"
   ]
  },
  {
   "cell_type": "code",
   "execution_count": null,
   "id": "1b32b2b8",
   "metadata": {},
   "outputs": [],
   "source": [
    "cd4_l1_full_filt@meta.data  <- cd4_l1_full_filt@meta.data  %>%  group_by(Patient_Time)  %>% tally"
   ]
  },
  {
   "cell_type": "code",
   "execution_count": null,
   "id": "c749c7f2",
   "metadata": {},
   "outputs": [],
   "source": [
    "# Extract the dataframe with seurat metadata\n",
    "seurat_meta_data <- cd4_l1_full_filt@meta.data\n",
    "seurat_meta_data$sample <- seurat_meta_data$annotations_l2_sample\n",
    "\n",
    "# Select genes of interest\n",
    "# The script only works for two or more genes, you can't select just one!\n",
    "gene_hits <- c(\"NCAM1\", \"TRGC1\", \"CD8A\", \"CD8B\", \n",
    "               \"FCGR3A\",\"CD3D\",\"CD3G\",\"CD3Z\", \"ZBTB16\", \n",
    "              \"CD4\",\"GZMB\")\n",
    "\n",
    "# By default the percentage of calculated cells is computed for whole sample\n",
    "# Optionally, you can select a cluster that you're interested in by subsetting:\n",
    "# pbmc_small <- subset(pbmc_small, seurat_clusters == 3)\n",
    "\n",
    "\n",
    "# Now we will calculate the percentage of expressing cells for each sample and we will merge the resulting dataframes\n",
    "expr_data4 <- data.frame(genes = gene_hits)\n",
    "\n",
    "# We will need a function that will convert any non-zero count to value 1\n",
    "fns_replace <- function(x){ifelse(x>0,1,0)}\n",
    "\n",
    "for(j in (pull(seurat_meta_data, sample)  %>% unique)){\n",
    "  \n",
    "  # subset only selected cell type\n",
    "  seu_sub_sample <- subset(cd4_l1_full_filt, annotations_l2_sample == j) \n",
    "  \n",
    "  # select the rows corresponding to genes of interest\n",
    "  index_subset <- which(rownames(seu_sub_sample@assays$RNA@counts) %in% gene_hits)\n",
    "  \n",
    "  # create a dataframe with genes of interest and cells of interest\n",
    "  expr_data <- as.data.frame(seu_sub_sample@assays$RNA@counts[index_subset,]) \n",
    "  \n",
    "  # convert expression to binary values\n",
    "  expr_data2 <- expr_data %>% mutate(across(.fns = fns_replace))\n",
    "  rownames(expr_data2) <- rownames(expr_data)\n",
    "  \n",
    "  # calculate average expresion (percentage of cells expressing the gene)\n",
    "  expr_data3 <- rowMeans(expr_data2)\n",
    "  \n",
    "  # add zeroes in cases of no expression\n",
    "  for(k in gene_hits){\n",
    "    if(k %in% names(expr_data3) == F){expr_data3[[k]] <- 0}\n",
    "  }\n",
    "  \n",
    "  expr_data3 <- as.data.frame(expr_data3)\n",
    "  colnames(expr_data3) <- j\n",
    "  expr_data3$genes <- rownames(expr_data3)\n",
    "  \n",
    "  # final dataframe with values in correct order (all cell type, loop results)\n",
    "  expr_data4 <- left_join(expr_data4, expr_data3, by=\"genes\")\n",
    "  \n",
    "}"
   ]
  },
  {
   "cell_type": "code",
   "execution_count": null,
   "id": "9105bbd8",
   "metadata": {},
   "outputs": [],
   "source": [
    "expr_data4 "
   ]
  },
  {
   "cell_type": "code",
   "execution_count": null,
   "id": "811f6c4e",
   "metadata": {},
   "outputs": [],
   "source": [
    "# Now we have the whole dataframe, we just need to tidy it a bit, add metadata and visualize\n",
    "\n",
    "expr_data5 <- as.data.frame(t(expr_data4))\n",
    "colnames(expr_data5) <- expr_data5[1,]\n",
    "expr_data5 <- expr_data5[2:nrow(expr_data5),]\n",
    "expr_data5$sample <- rownames(expr_data5)\n",
    "expr_data5 <- expr_data5 %>% pivot_longer( !sample, names_to = \"gene\", values_to = \"pct_express\")\n",
    "\n",
    "# Add metadata per sample - select those that you will use in the plot below\n",
    "md_to_join <- seurat_meta_data %>% dplyr::select(sample = annotations_l2_sample)  %>% \n",
    "unique() %>% mutate(sample = as.character(sample))\n",
    "md2 <- left_join(expr_data5, md_to_join, by = \"sample\") %>% ungroup %>% unique"
   ]
  },
  {
   "cell_type": "code",
   "execution_count": null,
   "id": "ae6bd4fd",
   "metadata": {},
   "outputs": [],
   "source": [
    "md2\n",
    "\n",
    "md2 %>% \n",
    "mutate(Sample_ID = substr(sample,nchar(sample)-3,nchar(sample)))  %>% \n",
    "mutate(population = substr(sample,1,nchar(sample)-3)) \n",
    "\n",
    "options(repr.plot.width = 20, repr.plot.height = 12)\n",
    "\n",
    "md2 %>% \n",
    "dplyr::filter(gene != \"CD3Z\")  %>% \n",
    "pivot_wider(names_from = \"gene\", values_from = \"pct_express\", values_fill = \"0\")  %>% \n",
    "pivot_longer(cols = c(2:11), names_to = \"gene\", values_to = \"pct_express\")  %>% \n",
    "mutate(Sample_ID = substr(sample,nchar(sample)-3,nchar(sample)))  %>% \n",
    "mutate(population = substr(sample,1,nchar(sample)-3))  %>% \n",
    "ggplot(aes(x = population, y = as.numeric(pct_express))) + \n",
    " geom_violin(alpha = 0.3, aes(fill = population), scale = \"width\") + \n",
    " \n",
    "geom_beeswarm(size = 1.5, aes(fill = population), cex = 2, \n",
    "                shape = 21, color = \"grey40\",corral = \"random\") +\n",
    " stat_summary(fun = \"median\",\n",
    "               geom = \"crossbar\", \n",
    "               width = 0.75,\n",
    "               color = \"grey30\") +\n",
    " #stat_compare_means(label = \"p.format\", comparisons = list(c(1,2))) +\n",
    "  theme_minimal() + \n",
    "  facet_wrap(~gene, scales = \"free\", ncol = 5) + \n",
    "  ylim(c(0,NA)) +\n",
    "#ggpubr::stat_compare_means()+\n",
    "  ylab(\"Percentage of expressing cells\") +\n",
    "  theme_classic() + ggtheme() +\n",
    " theme(legend.title = element_blank(),axis.text.x = element_text(angle = 90)) \n",
    "\n",
    "#ggsave(\"../figures/scRNAseq_gd_characterization.svg\", width = 13, height = 9)"
   ]
  },
  {
   "cell_type": "code",
   "execution_count": null,
   "id": "e6836d82",
   "metadata": {},
   "outputs": [],
   "source": [
    "options(repr.plot.width = 15, repr.plot.height = 8)\n",
    "\n",
    "md2 %>% \n",
    "pivot_wider(names_from = \"gene\", values_from = \"pct_express\", values_fill = \"0\")  %>% \n",
    "pivot_longer(cols = c(2:11), names_to = \"gene\", values_to = \"pct_express\")  %>% \n",
    "mutate(Sample_ID = substr(sample,nchar(sample)-3,nchar(sample)))  %>% \n",
    "mutate(population = substr(sample,1,nchar(sample)-3))  %>% \n",
    "ggplot(aes(x = population, y = as.numeric(pct_express))) + \n",
    "  geom_boxplot(outlier.shape = NA) +\n",
    "  geom_dotplot(binaxis='y', stackdir='center', dotsize=0) + \n",
    "  geom_jitter(position=position_jitter(0.2), size = 2, aes(color = factor(population))) +\n",
    "  theme_minimal() + \n",
    "  facet_wrap(~gene, scales = \"free\", ncol = 5) + \n",
    "  ylim(c(0,NA)) +\n",
    "ggpubr::stat_compare_means()+\n",
    "  ylab(\"Percentage of expressing cells\") +\n",
    "  theme(legend.title = element_blank())"
   ]
  },
  {
   "cell_type": "code",
   "execution_count": null,
   "id": "069c58b7",
   "metadata": {},
   "outputs": [],
   "source": [
    "options(repr.plot.width = 20, repr.plot.height = 12)\n",
    "\n",
    "md2 %>% \n",
    "dplyr::filter(gene != \"CD3Z\" & gene != \"CD8A\")  %>% \n",
    "pivot_wider(names_from = \"gene\", values_from = \"pct_express\", values_fill = \"0\")  %>% \n",
    "pivot_longer(cols = c(2:10), names_to = \"gene\", values_to = \"pct_express\")  %>% \n",
    "mutate(Sample_ID = substr(sample,nchar(sample)-3,nchar(sample)))  %>% \n",
    "mutate(population = substr(sample,1,nchar(sample)-3))  %>% \n",
    "ggplot(aes(x = population, y = as.numeric(pct_express))) + \n",
    " geom_violin(alpha = 0.4, aes(fill = population), scale = \"width\") + \n",
    "scale_fill_manual(values = c(\"#d4a323ff\", \"#f1c07dff\", \"#800000b4\",\"#dd665bff\")) + \n",
    "#geom_beeswarm(size = 1.5, aes(fill = population), cex = 2, \n",
    "#                shape = 21, color = \"grey40\",corral = \"random\") +\n",
    " stat_summary(fun = \"median\",\n",
    "               geom = \"crossbar\", \n",
    "               width = 0.75,\n",
    "               color = \"grey30\") +\n",
    " #stat_compare_means(label = \"p.format\", comparisons = list(c(1,2))) +\n",
    "  theme_minimal() + \n",
    "  facet_wrap(~gene, scales = \"free\", ncol = 5) + \n",
    "  ylim(c(0,NA)) +\n",
    "#ggpubr::stat_compare_means()+\n",
    "  ylab(\"Percentage of expressing cells\") +\n",
    "  theme_classic() + ggtheme() +\n",
    " theme(legend.title = element_blank(),axis.text.x = element_text(angle = 90)) \n",
    "\n",
    "ggsave(\"../figures/scRNAseq_CD4Temra_characterization.svg\", width = 13, height = 9)"
   ]
  },
  {
   "cell_type": "code",
   "execution_count": null,
   "id": "caa9f749",
   "metadata": {
    "scrolled": true
   },
   "outputs": [],
   "source": [
    "test"
   ]
  },
  {
   "cell_type": "code",
   "execution_count": null,
   "id": "8673d539",
   "metadata": {},
   "outputs": [],
   "source": [
    "ggplot(test) +\n",
    "  aes(x = annotation, fill = factor(pred)) +\n",
    "  geom_bar(position = \"fill\") + \n",
    "theme_classic() + \n",
    "ggtheme() +\n",
    "scale_fill_manual(values = c(\"white\",\"white\", \"white\", \"red2\")) + \n",
    " theme(legend.title = element_blank(),axis.text.x = element_text(angle = 90)) "
   ]
  },
  {
   "cell_type": "code",
   "execution_count": null,
   "id": "27b54cf0",
   "metadata": {},
   "outputs": [],
   "source": [
    "options(repr.plot.width = 7, repr.plot.height = 23)\n",
    "test2  <- test  %>% mutate(\n",
    "                  Annotation = gsub(annotation, pattern = \"---\", replacement = \"\"))  %>% \n",
    "mutate(Annotation = gsub(Annotation, pattern = \"CD4 T cells\", replacement = \"\"))  %>% \n",
    "mutate(Annotation = gsub(Annotation, pattern = \"CD4 Unconventional T cells\", replacement = \"\"))  %>% \n",
    "mutate(annot2 = case_when(Annotation %in% c(\"Treg\",\"Tfh\",\"ISAGhi\",\"Th2\",\"Nfkb\",\"Th1Th17\",\"Proliferating\") ~ \"NonNaive\", \n",
    "                          TRUE ~ Annotation))"
   ]
  },
  {
   "cell_type": "code",
   "execution_count": null,
   "id": "85fc4452",
   "metadata": {
    "scrolled": true
   },
   "outputs": [],
   "source": [
    "test2  %>% unique"
   ]
  },
  {
   "cell_type": "code",
   "execution_count": null,
   "id": "14f7bf30",
   "metadata": {},
   "outputs": [],
   "source": [
    "options(repr.plot.width = 7, repr.plot.height = 30)\n",
    "\n",
    "ggplot(test2) +\n",
    "  aes(x = annot2, fill = factor(pred)) +\n",
    "  geom_bar(position = \"fill\") + \n",
    "theme_classic() + \n",
    "ggtheme() +\n",
    "scale_fill_manual(values = c(\"white\",\"white\", \"white\", \"red2\")) + \n",
    "scale_y_continuous(n.breaks = 40, expand = c(0,NA)) +\n",
    " theme(legend.title = element_blank(),axis.text.x = element_text(angle = 90)) \n",
    "\n",
    "ggsave(\"../figures/cd4_temra_pct.svg\", width = 15, height = 45, units = \"cm\")"
   ]
  },
  {
   "cell_type": "markdown",
   "id": "48448340",
   "metadata": {},
   "source": [
    "## Temra subclustering"
   ]
  },
  {
   "cell_type": "code",
   "execution_count": null,
   "id": "071d1594",
   "metadata": {},
   "outputs": [],
   "source": [
    "cd4_l3_temra  <- readRDS(\"../../240218_VN_Diabetes_V05/data/processed/L3/cd4_l3_temra.rds\")"
   ]
  },
  {
   "cell_type": "code",
   "execution_count": null,
   "id": "e32149f8",
   "metadata": {},
   "outputs": [],
   "source": [
    "### Temra\n",
    "options(repr.plot.width = 6, repr.plot.height = 5)\n",
    "\n",
    "DimPlot(cd4_l3_temra, label = T)"
   ]
  },
  {
   "cell_type": "code",
   "execution_count": null,
   "id": "8cbe6a3f",
   "metadata": {
    "scrolled": true
   },
   "outputs": [],
   "source": [
    "mrk  <- FindAllMarkers(cd4_l3_temra)"
   ]
  },
  {
   "cell_type": "code",
   "execution_count": null,
   "id": "cd0e8baf",
   "metadata": {},
   "outputs": [],
   "source": [
    "options(repr.plot.width = 12, repr.plot.height = 6)\n",
    "\n",
    "FeaturePlot(cd4_l3_temra, features = c(\"CD4\",\"TRGV2\",\"TRDC\",\"CD8A\",\"NCAM1\",\"GZMB\"), ncol = 3)"
   ]
  },
  {
   "cell_type": "code",
   "execution_count": null,
   "id": "1a1e5f69",
   "metadata": {},
   "outputs": [],
   "source": [
    "FeaturePlot(cd4_l3_temra, features = c(\"CD4\",\"TRGV2\",\"NCR1\",\"MKI67\",\"CD3D\"), ncol = 3)"
   ]
  },
  {
   "cell_type": "code",
   "execution_count": null,
   "id": "c3ddc7c1",
   "metadata": {},
   "outputs": [],
   "source": [
    "options(repr.plot.width = 4, repr.plot.height = 3.5)\n",
    "DimPlot(cd4_l3_temra, label = F, shuffle = TRUE, \n",
    "        group.by = \"annotations_manual\", \n",
    "       cols = c(\"#af3d3db4\", \"#640000ff\", \"#b124cdff\", \"#9ad5ffff\",\"#ebc6d3ff\" )) + NoLegend()"
   ]
  },
  {
   "cell_type": "code",
   "execution_count": null,
   "id": "42377827",
   "metadata": {},
   "outputs": [],
   "source": [
    "options(repr.plot.width = 6, repr.plot.height = 3.5)\n",
    "\n",
    "DimPlot(cd4_l3_temra, label = F, shuffle = TRUE, \n",
    "        group.by = \"annotations_manual\", \n",
    "       cols = c(\"#af3d3db4\", \"#640000ff\", \"#b124cdff\", \"#9ad5ffff\",\"#ebc6d3ff\" )) "
   ]
  },
  {
   "cell_type": "code",
   "execution_count": null,
   "id": "ead6d4f7",
   "metadata": {},
   "outputs": [],
   "source": [
    "df4  <- create_df4(cd4_l3_temra)"
   ]
  },
  {
   "cell_type": "code",
   "execution_count": null,
   "id": "e1aa5578",
   "metadata": {},
   "outputs": [],
   "source": [
    "p5  <-   df4  %>% \n",
    "filter(Experiment_ID %in% c(\"Exp16\", \"Exp18\", \"Exp19\", \"Exp20\"))  %>% \n",
    "  ggplot(aes(x = Condition, y = freq*100)) + # you can change the x to whatever variable you're interested in\n",
    "   geom_violin(alpha = 0.3, aes(fill = Condition)) +\n",
    "  stat_summary(fun = \"median\",\n",
    "               geom = \"crossbar\", \n",
    "               width = 0.75,\n",
    "               color = \"grey30\") +\n",
    "   scale_fill_manual(values = c(\"#1874cdff\",  \"#ee6363ff\", \"#c41515ff\",\"#eeb4b4ff\")) +\n",
    "scale_color_manual(values = c(\"dodgerblue3\",  \"#e54c4cff\", \"#aa2a2aff\",\"#e88989ff\")) +\n",
    "geom_beeswarm(size = 3, cex = 3, \n",
    "              color = \"black\", method = \"center\",\n",
    "             aes(fill = Condition), shape = 21) +\n",
    "   facet_wrap(~annotations_manual, scales = \"free\", ncol = 9) +\n",
    "  ylab(\"Frequency\") +\n",
    "  xlab(\"Condition\") +\n",
    "  theme_classic() +\n",
    "ggtheme() +\n",
    "ggpubr::stat_compare_means(label.x= 1.5, \n",
    "                           size = 7, vjust = -1, label = \"p.format\", comparisons = list(c(1,2)))+\n",
    "ggtheme() +\n",
    " scale_y_continuous(limits = c(0,NA), expand = c(0.05,0,0,10)) +\n",
    "  theme(strip.background = element_blank(), panel.grid = element_blank()) + \n",
    "  theme(axis.text = element_text(color = \"black\"),\n",
    "        axis.text.x = element_text(angle = 90),\n",
    "       axis.line = element_line(color = \"black\", size = 0.5),\n",
    "        axis.ticks.x = element_blank()) + NoLegend() + ggtitle(\"Final data all groups\")\n",
    "ncols = length(levels(factor(df4$annotations_manual)))"
   ]
  },
  {
   "cell_type": "code",
   "execution_count": null,
   "id": "0b9e76db",
   "metadata": {},
   "outputs": [],
   "source": [
    "options(repr.plot.width = 15, repr.plot.height = 7)\n",
    "p5"
   ]
  },
  {
   "cell_type": "code",
   "execution_count": null,
   "id": "a65d3154",
   "metadata": {},
   "outputs": [],
   "source": [
    "options(repr.plot.width = 15, repr.plot.height = 7)\n",
    "p5  <-   df4  %>% \n",
    "filter(Experiment_ID %in% c(\"Exp16\", \"Exp18\", \"Exp19\", \"Exp20\"))  %>% \n",
    "  ggplot(aes(x = Condition, y = freq*100)) + # you can change the x to whatever variable you're interested in\n",
    "   geom_violin(alpha = 0.3, aes(fill = Condition)) +\n",
    "  stat_summary(fun = \"median\",\n",
    "               geom = \"crossbar\", \n",
    "               width = 0.75,\n",
    "               color = \"grey30\") +\n",
    "   scale_fill_manual(values = c(\"#1874cdff\",  \"#ee6363ff\", \"#c41515ff\",\"#eeb4b4ff\")) +\n",
    "scale_color_manual(values = c(\"dodgerblue3\",  \"#e54c4cff\", \"#aa2a2aff\",\"#e88989ff\")) +\n",
    "geom_beeswarm(size = 3, cex = 3, \n",
    "              color = \"black\", method = \"center\",\n",
    "             aes(fill = Condition), shape = 21) +\n",
    "   facet_wrap(~annotations_manual, scales = \"free\", ncol = 9) +\n",
    "  ylab(\"Frequency\") +\n",
    "  xlab(\"Condition\") +\n",
    "  theme_classic() +\n",
    "ggtheme() +\n",
    "ggpubr::stat_compare_means(label.x= 1.5, \n",
    "                           size = 7, vjust = -1, label = \"p.format\", comparisons = list(c(2,3)))+\n",
    "ggtheme() +\n",
    " scale_y_continuous(limits = c(0,NA), expand = c(0.05,0,0,10)) +\n",
    "  theme(strip.background = element_blank(), panel.grid = element_blank()) + \n",
    "  theme(axis.text = element_text(color = \"black\"),\n",
    "        axis.text.x = element_text(angle = 90),\n",
    "       axis.line = element_line(color = \"black\", size = 0.5),\n",
    "        axis.ticks.x = element_blank()) + NoLegend() + ggtitle(\"Final data all groups\")\n",
    "ncols = length(levels(factor(df4$annotations_manual)))\n",
    "p5\n",
    "\n",
    "ggsave(\"../figures/subset_characterization/temra_subsets_in_condition.svg\",\n",
    "       width = 30, height = 12, units = \"cm\")"
   ]
  },
  {
   "cell_type": "markdown",
   "id": "9642b4d3",
   "metadata": {},
   "source": [
    "## Temra without NK"
   ]
  },
  {
   "cell_type": "code",
   "execution_count": null,
   "id": "8a1af615",
   "metadata": {},
   "outputs": [],
   "source": [
    "cd4_l3_temra"
   ]
  },
  {
   "cell_type": "code",
   "execution_count": null,
   "id": "4ddc08d2",
   "metadata": {},
   "outputs": [],
   "source": [
    "cd4_l3_temra  <- subset(cd4_l3_temra, seurat_clusters %in% c(0,1,2,4))"
   ]
  },
  {
   "cell_type": "code",
   "execution_count": null,
   "id": "1f1e5225",
   "metadata": {},
   "outputs": [],
   "source": [
    "DefaultAssay(cd4_l3_temra)  <- \"integrated\"\n"
   ]
  },
  {
   "cell_type": "code",
   "execution_count": null,
   "id": "e66cfbf3",
   "metadata": {
    "scrolled": true
   },
   "outputs": [],
   "source": [
    "cd4_l3_temra <- RunUMAP(cd4_l3_temra, dims = 1:12)\n"
   ]
  },
  {
   "cell_type": "code",
   "execution_count": null,
   "id": "2d8ba27e",
   "metadata": {},
   "outputs": [],
   "source": [
    "cd4_l3_temra <- FindNeighbors(cd4_l3_temra, reduction = \"pca\", dims = 1:12)"
   ]
  },
  {
   "cell_type": "code",
   "execution_count": null,
   "id": "93b3d2ec",
   "metadata": {},
   "outputs": [],
   "source": [
    "cd4_l3_temra <- FindClusters(cd4_l3_temra, resolution = 0.5)\n",
    "\n",
    "DimPlot(cd4_l3_temra, label = T)"
   ]
  },
  {
   "cell_type": "code",
   "execution_count": null,
   "id": "8448cc50",
   "metadata": {},
   "outputs": [],
   "source": [
    "mrk  <- FindAllMarkers(cd4_l3_temra, logfc.threshold = log(2))"
   ]
  },
  {
   "cell_type": "code",
   "execution_count": null,
   "id": "3844ea67",
   "metadata": {
    "scrolled": true
   },
   "outputs": [],
   "source": [
    "mrk  %>% dplyr::filter(cluster == 3 & avg_log2FC > 1)"
   ]
  },
  {
   "cell_type": "code",
   "execution_count": null,
   "id": "ae5f2a0b",
   "metadata": {},
   "outputs": [],
   "source": [
    "markers  <- c(\"IL7R\",\"TRDC\",\"GZMK\",\"GZMB\",\"CD244\",\"TRGV9\",\"LTB\",\"KLRB1\",\"CXCR6\",\"CX3CR1\",\"ZEB2\",\"GNLY\",\n",
    "             \"ANXA1\",\"ITGB1\",\"CD27\",\"TCF7\",\"SELL\",\"XCL2\",\"NELL2\",\"CD160\",\"TIGIT\",\"CTLA4\")"
   ]
  },
  {
   "cell_type": "code",
   "execution_count": null,
   "id": "efb93577",
   "metadata": {},
   "outputs": [],
   "source": [
    "avgexp = AverageExpression(cd4_l3_temra, features = markers,\n",
    "                           return.seurat = F, group.by = \"seurat_clusters\", \n",
    "                          assay = \"RNA\")\n",
    "\n",
    "avgexp$RNA"
   ]
  },
  {
   "cell_type": "code",
   "execution_count": null,
   "id": "61d1eb26",
   "metadata": {},
   "outputs": [],
   "source": [
    "markers  <- c(\"IL7R\",\"SELL\",\"KLRB1\",\"CX3CR1\",\"ANXA1\",\"ITGB1\",\"GZMB\",\"GNLY\",\"ZEB2\",\"LTB\",\"CXCR6\",\"GZMK\",\n",
    "             \"NELL2\",\"TCF7\",\"CD27\",\"XCL2\",\"CD160\")\n",
    "avgexp = AverageExpression(cd4_l3_temra, features = markers,\n",
    "                           return.seurat = F, group.by = \"seurat_clusters\", \n",
    "                          assay = \"RNA\")\n"
   ]
  },
  {
   "cell_type": "code",
   "execution_count": null,
   "id": "aa4e1b3d",
   "metadata": {},
   "outputs": [],
   "source": [
    "options(repr.plot.width = 14, repr.plot.height = 3.7)\n",
    "pheatmap(t(avgexp$RNA), main = \"\", \n",
    "         scale = \"column\", cluster_cols = F, cluster_rows = T,\n",
    "        color=colorRampPalette(c(\"dodgerblue\", \"grey95\", \"indianred2\"))(50), \n",
    "         border_color = \"white\",\n",
    "                  fontsize = 9,\n",
    "      #  filename = \"../figures/subset_characterization/cd4_temra_heatmap.pdf\",\n",
    "        width = 8, height = 3)"
   ]
  },
  {
   "cell_type": "code",
   "execution_count": null,
   "id": "2f3e3ffe",
   "metadata": {},
   "outputs": [],
   "source": [
    "options(repr.plot.width = 14, repr.plot.height = 3.7)\n",
    "pheatmap(t(avgexp$RNA), main = \"\", \n",
    "         scale = \"column\", cluster_cols = F, cluster_rows = T,\n",
    "        color=colorRampPalette(c(\"dodgerblue\", \"grey95\", \"indianred2\"))(50), \n",
    "         border_color = \"white\",\n",
    "                  fontsize = 9,\n",
    "        filename = \"../figures/subset_characterization/cd4_temra_heatmap.pdf\",\n",
    "        width = 8, height = 3)"
   ]
  },
  {
   "cell_type": "code",
   "execution_count": null,
   "id": "8f5da93d",
   "metadata": {
    "scrolled": true
   },
   "outputs": [],
   "source": [
    "options(repr.plot.width = 6, repr.plot.height = 5)\n",
    "\n",
    "DimPlot(cd4_l3_temra, , pt.size = 7, raster = T, raster.dpi = c(600,600),\n",
    "        cols = c(\"#c86f6fff\", \"#640000ff\", \"#e29bb3ff\", \"#f4d7d7ff\" ))\n",
    "#ggsave(\"../figures/subset_characterization/DimPlot_temra_subsets.svg\", \n",
    "#      width = 10, height = 7.5, units = \"cm\")"
   ]
  },
  {
   "cell_type": "code",
   "execution_count": null,
   "id": "578e82f4",
   "metadata": {},
   "outputs": [],
   "source": [
    "options(repr.plot.width = 6, repr.plot.height = 5)\n",
    "\n",
    "FeaturePlot(cd4_l3_temra, \"TIGIT\", min.cutoff = 0)"
   ]
  },
  {
   "cell_type": "code",
   "execution_count": null,
   "id": "b49280ac",
   "metadata": {},
   "outputs": [],
   "source": [
    "FeaturePlot(cd4_l3_temra, \"GZMK\", min.cutoff = 0)"
   ]
  },
  {
   "cell_type": "code",
   "execution_count": null,
   "id": "50fc313f",
   "metadata": {},
   "outputs": [],
   "source": [
    "FeaturePlot(cd4_l3_temra, \"ZBTB16\", min.cutoff = 0)"
   ]
  },
  {
   "cell_type": "code",
   "execution_count": null,
   "id": "eae03d40",
   "metadata": {},
   "outputs": [],
   "source": [
    "FeaturePlot(cd4_l3_temra, \"TRGV9\", min.cutoff = 0)"
   ]
  },
  {
   "cell_type": "code",
   "execution_count": null,
   "id": "9e5d309c",
   "metadata": {},
   "outputs": [],
   "source": [
    "FeaturePlot(cd4_l3_temra, \"CD4\", min.cutoff = 0)"
   ]
  },
  {
   "cell_type": "code",
   "execution_count": null,
   "id": "e80580da",
   "metadata": {},
   "outputs": [],
   "source": [
    "FeaturePlot(cd4_l3_temra, \"CD8B\", min.cutoff = 0)"
   ]
  },
  {
   "cell_type": "code",
   "execution_count": null,
   "id": "f46d42a6",
   "metadata": {},
   "outputs": [],
   "source": [
    "FeaturePlot(cd4_l3_temra, \"CD8B\", min.cutoff = 0)"
   ]
  },
  {
   "cell_type": "code",
   "execution_count": null,
   "id": "4f627b8a",
   "metadata": {},
   "outputs": [],
   "source": [
    "options(repr.plot.width = 6, repr.plot.height = 5)\n",
    "DimPlot(cd4_l3_temra, \n",
    "        cells.highlight = colnames(cd4_l3_temra)[cd4_l3_temra$v_gene_A1 == \"TRAV10\" & \n",
    "                                                    cd4_l3_temra$j_gene_A1 == \"TRAJ18\"]) + NoLegend()\n"
   ]
  },
  {
   "cell_type": "code",
   "execution_count": null,
   "id": "a04f3182",
   "metadata": {},
   "outputs": [],
   "source": [
    "cd4_l3_temra$annotations_manual  <- cd4_l3_temra$seurat_clusters"
   ]
  },
  {
   "cell_type": "code",
   "execution_count": null,
   "id": "f12efb9d",
   "metadata": {},
   "outputs": [],
   "source": [
    "df4  <- create_df4(cd4_l3_temra)"
   ]
  },
  {
   "cell_type": "code",
   "execution_count": null,
   "id": "22501c77",
   "metadata": {},
   "outputs": [],
   "source": [
    "p5  <-   df4  %>% \n",
    "filter(Experiment_ID %in% c(\"Exp16\", \"Exp18\", \"Exp19\", \"Exp20\"))  %>% \n",
    "  ggplot(aes(x = Condition, y = freq*100)) + # you can change the x to whatever variable you're interested in\n",
    "   geom_violin(alpha = 0.3, aes(fill = Condition)) +\n",
    "  stat_summary(fun = \"median\",\n",
    "               geom = \"crossbar\", \n",
    "               width = 0.75,\n",
    "               color = \"grey30\") +\n",
    "   scale_fill_manual(values = c(\"#1874cdff\",  \"#ee6363ff\", \"#c41515ff\",\"#eeb4b4ff\")) +\n",
    "scale_color_manual(values = c(\"dodgerblue3\",  \"#e54c4cff\", \"#aa2a2aff\",\"#e88989ff\")) +\n",
    "geom_beeswarm(size = 3, cex = 3, \n",
    "              color = \"black\", method = \"center\",\n",
    "             aes(fill = Condition), shape = 21) +\n",
    "   facet_wrap(~annotations_manual, scales = \"free\", ncol = 9) +\n",
    "  ylab(\"Frequency\") +\n",
    "  xlab(\"Condition\") +\n",
    "  theme_classic() +\n",
    "ggtheme() +\n",
    "ggpubr::stat_compare_means(label.x= 1.5, \n",
    "                           size = 7, vjust = -1, label = \"p.format\", comparisons = list(c(2,3)))+\n",
    "ggtheme() +\n",
    " scale_y_continuous(limits = c(0,NA), expand = c(0.05,0,0,15)) +\n",
    "  theme(strip.background = element_blank(), panel.grid = element_blank()) + \n",
    "  theme(axis.text = element_text(color = \"black\"),\n",
    "        axis.text.x = element_text(angle = 90),\n",
    "       axis.line = element_line(color = \"black\", size = 0.5),\n",
    "        axis.ticks.x = element_blank()) + NoLegend() + ggtitle(\"Final data all groups\")\n",
    "ncols = length(levels(factor(df4$annotations_manual)))"
   ]
  },
  {
   "cell_type": "code",
   "execution_count": null,
   "id": "0d529221",
   "metadata": {},
   "outputs": [],
   "source": [
    "options(repr.plot.width = 14, repr.plot.height = 6)\n",
    "p5"
   ]
  },
  {
   "cell_type": "code",
   "execution_count": null,
   "id": "e452416e",
   "metadata": {},
   "outputs": [],
   "source": [
    "ggsave(\"../figures/subset_characterization/temra_subsets_in_condition.svg\",\n",
    "       width = 30, height = 12, units = \"cm\")"
   ]
  },
  {
   "cell_type": "markdown",
   "id": "bdf56225",
   "metadata": {},
   "source": [
    "# DE genes heatmap avg."
   ]
  },
  {
   "cell_type": "markdown",
   "id": "db487cfd",
   "metadata": {},
   "source": [
    "## Heatmap"
   ]
  },
  {
   "cell_type": "code",
   "execution_count": null,
   "id": "c7e441bd",
   "metadata": {},
   "outputs": [],
   "source": [
    "cd4_l1_full_filt  <- readRDS(\"../data/processed/L1/cd4_l1_full_filt.rds\")"
   ]
  },
  {
   "cell_type": "markdown",
   "id": "1db11a7e",
   "metadata": {},
   "source": [
    "### All cells"
   ]
  },
  {
   "cell_type": "code",
   "execution_count": null,
   "id": "aad8e3db",
   "metadata": {},
   "outputs": [],
   "source": [
    "cd4_l1_full_filt$Patient_Time_Disease  <- paste(cd4_l1_full_filt$Patient_ID, cd4_l1_full_filt$Time, \n",
    "                                               cd4_l1_full_filt$Disease)"
   ]
  },
  {
   "cell_type": "code",
   "execution_count": null,
   "id": "4022892f",
   "metadata": {},
   "outputs": [],
   "source": [
    "cd4_l1_full_filt$Disease_time  <- paste(\n",
    "                                               cd4_l1_full_filt$Disease,\n",
    "cd4_l1_full_filt$Time)"
   ]
  },
  {
   "cell_type": "code",
   "execution_count": null,
   "id": "f56ac1ed",
   "metadata": {},
   "outputs": [],
   "source": [
    "avgexp = AverageExpression(subset(cd4_l1_full_filt, Experiment_ID %in% c(\"Exp16\",\"Exp18\",\"Exp19\",\"Exp20\")), \n",
    "                             return.seurat = F, group.by = \"Disease_time\", \n",
    "                          assay = \"RNA\")"
   ]
  },
  {
   "cell_type": "code",
   "execution_count": null,
   "id": "46b71665",
   "metadata": {},
   "outputs": [],
   "source": [
    "genes  <- c(\"PCBP2\",\"PCBP1\",\n",
    "            \"CX3CR1\",\"TNF\",\"GZMB\",\"GZMA\",\"PRF1\",\"NKG7\",\"GNLY\",\"CCL5\",\"CST7\",\n",
    "            \"BTG1\",\"SELL\",\"IL7R\",\"CCR7\",\"BTG2\",\"SLAMF6\",\"LEF1\",\n",
    "             \"TNFAIP3\",\"TSC22D3\",\"NKFBIA\",\"DUSP1\")"
   ]
  },
  {
   "cell_type": "code",
   "execution_count": null,
   "id": "b50bf43a",
   "metadata": {},
   "outputs": [],
   "source": [
    "avgexp  <- avgexp$RNA[which(rownames(avgexp$RNA) %in% genes),]"
   ]
  },
  {
   "cell_type": "code",
   "execution_count": null,
   "id": "2bca6c01",
   "metadata": {
    "scrolled": false
   },
   "outputs": [],
   "source": [
    "library(pheatmap)\n",
    "\n",
    "options(repr.plot.width = 4, repr.plot.height = 9)\n",
    "pheatmap(avgexp, main = \"\", scale = \"row\", cluster_cols = F, cluster_rows = T,\n",
    "        color=colorRampPalette(c(\"dodgerblue\", \"grey95\", \"indianred2\"))(50), \n",
    "         border_color = \"white\", width = 9, height = 3.3,\n",
    "                  fontsize = 9)"
   ]
  },
  {
   "cell_type": "markdown",
   "id": "4102f7ef",
   "metadata": {},
   "source": [
    "### Average of patient"
   ]
  },
  {
   "cell_type": "code",
   "execution_count": null,
   "id": "426cd4e0",
   "metadata": {},
   "outputs": [],
   "source": [
    "cd4_l1_full_filt$Patient_Time_Disease  <- paste(cd4_l1_full_filt$Patient_ID, cd4_l1_full_filt$Time, \n",
    "                                               cd4_l1_full_filt$Disease)"
   ]
  },
  {
   "cell_type": "code",
   "execution_count": null,
   "id": "b9b7f901",
   "metadata": {},
   "outputs": [],
   "source": [
    "avgexp = AverageExpression(subset(cd4_l1_full_filt, Experiment_ID %in% c(\"Exp16\",\"Exp18\",\"Exp19\",\"Exp20\")), \n",
    "                             return.seurat = T, group.by = \"Patient_Time_Disease\", \n",
    "                          assay = \"RNA\")"
   ]
  },
  {
   "cell_type": "code",
   "execution_count": null,
   "id": "82ceac2f",
   "metadata": {},
   "outputs": [],
   "source": [
    "avgexp$Patient_Time_Disease  <- colnames(avgexp)\n",
    "avgexp@meta.data  <- avgexp@meta.data  %>% \n",
    "separate(Patient_Time_Disease, into = c(\"Patient\", \"Time\", \"Disease\"), sep = \" \", remove = F)"
   ]
  },
  {
   "cell_type": "code",
   "execution_count": null,
   "id": "f04b204a",
   "metadata": {},
   "outputs": [],
   "source": [
    "avgexp$Disease_Time  <- paste(avgexp$Disease, avgexp$Time)"
   ]
  },
  {
   "cell_type": "code",
   "execution_count": null,
   "id": "c7308334",
   "metadata": {},
   "outputs": [],
   "source": [
    "avgexp2 = AverageExpression(avgexp, \n",
    "                             return.seurat = F, group.by = \"Disease_Time\")"
   ]
  },
  {
   "cell_type": "code",
   "execution_count": null,
   "id": "130a0b3f",
   "metadata": {},
   "outputs": [],
   "source": []
  },
  {
   "cell_type": "code",
   "execution_count": null,
   "id": "5b6176d4",
   "metadata": {},
   "outputs": [],
   "source": [
    "genes4  <- c(\"LEF1\",\"BACH2\",\"NELL2\",\"TCF7\",\"CXCR4\",\"ZFP36L2\",\"IL7R\",\"KLF2\",\"CCR7\",\"SELL\",\n",
    "            \n",
    "             \n",
    "            rev(c(\"TNFRSF9\",\"PRF1\",\"NKG7\",\"GZMB\",\"CST7\",\"GNLY\",\"GZMA\",\"CX3CR1\",\"CCL5\",\"TNF\",\"TBX21\",\"IFNG\")),\n",
    "             \"NFATC2\",\"NFATC3\",\"ORAI1\", \"ITPR3\",\n",
    "             \"TNFAIP3\",\"DUSP1\",\"TSC22D3\",\"NFKBIA\",\"DDIT4\",\"INPP4B\",\"PTPN6\",\"RCAN3\",\n",
    "             rev(c(\"OASL\",\"IFI44L\",\"ISG15\",\"MX1\",\"STAT1\",\"IFI6\",\"IFIT3\")),\n",
    "                  \"BTN3A2\",\"BTN3A3\",\"HLA-C\",\"HLA-DQA1\",\"HLA-DQB1\")"
   ]
  },
  {
   "cell_type": "code",
   "execution_count": null,
   "id": "955b0782",
   "metadata": {},
   "outputs": [],
   "source": [
    "genes4"
   ]
  },
  {
   "cell_type": "code",
   "execution_count": null,
   "id": "a6010a5d",
   "metadata": {},
   "outputs": [],
   "source": [
    "avgexp3  <- avgexp2$RNA[which(rownames(avgexp2$RNA) %in% genes4),]"
   ]
  },
  {
   "cell_type": "code",
   "execution_count": null,
   "id": "33086e24",
   "metadata": {
    "scrolled": true
   },
   "outputs": [],
   "source": [
    "options(repr.plot.width = 4, repr.plot.height = 9)\n",
    "pheatmap(avgexp3[match(genes4, rownames(avgexp3)),], \n",
    "         main = \"\", scale = \"row\", cluster_cols = F, cluster_rows = F,\n",
    "        color=colorRampPalette(c(\"dodgerblue\", \"grey95\", \"indianred2\"))(50), \n",
    "         border_color = \"white\", width = 9, height = 3.3,\n",
    "                  fontsize = 9)"
   ]
  },
  {
   "cell_type": "code",
   "execution_count": null,
   "id": "8f97a964",
   "metadata": {},
   "outputs": [],
   "source": [
    "dir.create(\"../figures/heatmaps/\")"
   ]
  },
  {
   "cell_type": "code",
   "execution_count": null,
   "id": "48a89b35",
   "metadata": {},
   "outputs": [],
   "source": [
    "options(repr.plot.width = 4, repr.plot.height = 9)\n",
    "pheatmap(avgexp3[match(genes4, rownames(avgexp3)),], \n",
    "         main = \"\", scale = \"row\", cluster_cols = F, cluster_rows = F,\n",
    "        color=colorRampPalette(c(\"dodgerblue\", \"grey95\", \"indianred2\"))(50), \n",
    "         border_color = \"white\", width = 3.3, height = 9,\n",
    "                  fontsize = 9, filename = \"../figures/heatmaps/fig2_cd4.pdf\")"
   ]
  }
 ],
 "metadata": {
  "kernelspec": {
   "display_name": "R",
   "language": "R",
   "name": "ir"
  },
  "language_info": {
   "codemirror_mode": "r",
   "file_extension": ".r",
   "mimetype": "text/x-r-source",
   "name": "R",
   "pygments_lexer": "r",
   "version": "4.5.1"
  },
  "toc": {
   "base_numbering": 1,
   "nav_menu": {},
   "number_sections": true,
   "sideBar": true,
   "skip_h1_title": false,
   "title_cell": "Table of Contents",
   "title_sidebar": "Contents",
   "toc_cell": false,
   "toc_position": {
    "height": "calc(100% - 180px)",
    "left": "10px",
    "top": "150px",
    "width": "321.4px"
   },
   "toc_section_display": true,
   "toc_window_display": true
  }
 },
 "nbformat": 4,
 "nbformat_minor": 5
}
