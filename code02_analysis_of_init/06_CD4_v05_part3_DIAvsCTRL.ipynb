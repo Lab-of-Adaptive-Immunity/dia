{
 "cells": [
  {
   "cell_type": "code",
   "execution_count": null,
   "id": "f55665e7",
   "metadata": {
    "scrolled": true
   },
   "outputs": [],
   "source": [
    "source(\"diabetes_analysis_v07.R\")"
   ]
  },
  {
   "cell_type": "code",
   "execution_count": null,
   "id": "df3187cc",
   "metadata": {},
   "outputs": [],
   "source": [
    "rank_score_func <- function(df){\n",
    "df <- df %>% mutate(score = -1*log(p_val_adj+(10^-310))*avg_log2FC*(pct.1/(pct.2+10^-300)))\n",
    "return(df)\n",
    "}"
   ]
  },
  {
   "cell_type": "markdown",
   "id": "e0646fc5",
   "metadata": {},
   "source": [
    "# Analysis of subsets"
   ]
  },
  {
   "cell_type": "code",
   "execution_count": null,
   "id": "c5c3264c",
   "metadata": {},
   "outputs": [],
   "source": [
    "full  <- readRDS(\"../../240218_VN_Diabetes_V05/data/processed/full.rds\")"
   ]
  },
  {
   "cell_type": "code",
   "execution_count": null,
   "id": "72d06287",
   "metadata": {},
   "outputs": [],
   "source": []
  },
  {
   "cell_type": "code",
   "execution_count": null,
   "id": "eda9e92d",
   "metadata": {},
   "outputs": [],
   "source": [
    "full$nCount_RNA  %>% summary()"
   ]
  },
  {
   "cell_type": "code",
   "execution_count": null,
   "id": "e66f4c97",
   "metadata": {},
   "outputs": [],
   "source": [
    "full$nFeature_RNA  %>% summary()"
   ]
  },
  {
   "cell_type": "code",
   "execution_count": null,
   "id": "445b9382",
   "metadata": {},
   "outputs": [],
   "source": [
    "cd4_l3_naive  <- readRDS(\"../data/processed/L3/cd4_l3_naive.rds\")\n",
    "cd4_l3_tfh  <- readRDS(\"../data/processed/L3/cd4_l3_tfh.rds\")\n",
    "cd4_l3_th1th17  <- readRDS(\"../data/processed/L3/cd4_l3_th1_17.rds\")\n",
    "cd4_l3_nfkb  <- readRDS(\"../data/processed/L3/cd4_l3_nfkb.rds\")\n",
    "cd4_l3_th2  <- readRDS(\"../data/processed/L3/cd4_l3_th2.rds\")\n",
    "cd4_l3_isaghi  <- readRDS(\"../data/processed/L3/cd4_l3_isaghi.rds\")\n",
    "cd4_l3_proliferating  <- readRDS(\"../data/processed/L3/cd4_l3_proliferating.rds\")"
   ]
  },
  {
   "cell_type": "code",
   "execution_count": null,
   "id": "b8a9fd2a",
   "metadata": {},
   "outputs": [],
   "source": [
    "cd4_l3_temra  <- readRDS(\"../data/processed/L3/cd4_l3_temra.rds\")"
   ]
  },
  {
   "cell_type": "code",
   "execution_count": null,
   "id": "b30ef02c",
   "metadata": {},
   "outputs": [],
   "source": [
    "cd4_l3_treg  <- readRDS(\"../data/processed/L3/cd4_l3_treg.rds\")"
   ]
  },
  {
   "cell_type": "code",
   "execution_count": null,
   "id": "77ce6330",
   "metadata": {},
   "outputs": [],
   "source": [
    "cd4_l2_unc  <- readRDS(\"../data/processed/L2/cd4_l2_unc.rds\")"
   ]
  },
  {
   "cell_type": "code",
   "execution_count": null,
   "id": "d5781728",
   "metadata": {},
   "outputs": [],
   "source": [
    "cd4_l2_subcluster  <- readRDS(\"../data/processed/L2/cd4_subcluster.rds\")"
   ]
  },
  {
   "cell_type": "code",
   "execution_count": null,
   "id": "a07af9aa",
   "metadata": {},
   "outputs": [],
   "source": [
    "cd4_l1_full_filt  <- readRDS(\"../data/processed/L1/cd4_l1_full_filt.rds\")"
   ]
  },
  {
   "cell_type": "code",
   "execution_count": null,
   "id": "c944441e",
   "metadata": {},
   "outputs": [],
   "source": [
    "cd4_l1_full_filt@meta.data  %>% group_by(Patient_ID, Experiment_ID, Disease)  %>% tally  %>% dplyr::select(-n)  %>% \n",
    "ungroup  %>% group_by(Experiment_ID, Disease)  %>% tally  %>% arrange(Experiment_ID)"
   ]
  },
  {
   "cell_type": "code",
   "execution_count": null,
   "id": "915ddb0a",
   "metadata": {},
   "outputs": [],
   "source": [
    "cd4_l1_full_filt"
   ]
  },
  {
   "cell_type": "code",
   "execution_count": null,
   "id": "4d645606",
   "metadata": {},
   "outputs": [],
   "source": [
    "cd4_l3_list  <- list(cd4_l3_naive, cd4_l3_tfh, cd4_l3_th1th17, cd4_l3_nfkb, cd4_l3_th2,\n",
    "                     cd4_l3_treg, cd4_l3_isaghi, cd4_l3_proliferating, cd4_l3_temra,\n",
    "                     cd4_l2_unc, cd4_l2_subcluster, cd4_l1_full_filt)\n",
    "\n",
    "names(cd4_l3_list)  <- c(\"cd4_l3_naive\", \"cd4_l3_tfh\", \"cd4_l3_th1th17\", \"cd4_l3_nfkb\", \"cd4_l3_th2\",\n",
    "                     \"cd4_l3_treg\", \"cd4_l3_isaghi\", \"cd4_l3_proliferating\", \"cd4_l3_temra\",\n",
    "                     \"cd4_l2_unc\", \"cd4_l2_subcluster\", \"cd4_l1_full_filt\")"
   ]
  },
  {
   "cell_type": "markdown",
   "id": "2d20aad1",
   "metadata": {},
   "source": [
    "# Plot of Unconventional populations"
   ]
  },
  {
   "cell_type": "code",
   "execution_count": null,
   "id": "15a3827d",
   "metadata": {},
   "outputs": [],
   "source": [
    "DimPlot(cd4_l1_full_filt, cols = c(\"grey88\",\"brown3\"), pt.size = 2, raster = T) + NoLegend()"
   ]
  },
  {
   "cell_type": "code",
   "execution_count": null,
   "id": "5eaead14",
   "metadata": {},
   "outputs": [],
   "source": [
    "ggsave(filename = paste0(paste0(\"../figures/Dimplots_unconventional/unconventional_cd4.png\")), width = 12, height = 12, units = \"cm\")\n",
    "ggsave(filename = paste0(paste0(\"../figures/Dimplots_unconventional/unconventional_cd4.svg\")), width = 12, height = 12, units = \"cm\")"
   ]
  },
  {
   "cell_type": "code",
   "execution_count": null,
   "id": "5bb0bcdf",
   "metadata": {},
   "outputs": [],
   "source": [
    "options(repr.plot.width = 6, repr.plot.height = 5)\n",
    "FeaturePlot(cd4_l1_full_filt, features = \"PTPRC-RA\", max.cutoff = 5)"
   ]
  },
  {
   "cell_type": "code",
   "execution_count": null,
   "id": "411069f3",
   "metadata": {},
   "outputs": [],
   "source": [
    "cd4_l2_subcluster@meta.data  %>% group_by(Patient_ID, Condition)  %>% tally  %>% dplyr::select(-n)  %>% \n",
    "group_by(Condition)  %>% tally"
   ]
  },
  {
   "cell_type": "code",
   "execution_count": null,
   "id": "c1fca5f3",
   "metadata": {},
   "outputs": [],
   "source": [
    "DefaultAssay(cd4_l1_full_filt)  <- \"RNA\""
   ]
  },
  {
   "cell_type": "code",
   "execution_count": null,
   "id": "0e4c04cc",
   "metadata": {},
   "outputs": [],
   "source": [
    "mrk  <- FindAllMarkers(cd4_l1_full_filt, only.pos = T)"
   ]
  },
  {
   "cell_type": "code",
   "execution_count": null,
   "id": "8f052a5d",
   "metadata": {
    "scrolled": true
   },
   "outputs": [],
   "source": [
    "mrk  %>% filter(cluster == \"Unconventional T cells\")"
   ]
  },
  {
   "cell_type": "code",
   "execution_count": null,
   "id": "019a7dc4",
   "metadata": {},
   "outputs": [],
   "source": [
    "markers2  <- rev(c(\"CD4\",\"TRAC\",\n",
    "              \"TRDC\",\"CD79A\",\"ZBTB16\",\"CR1\",\"FAM13A\",\n",
    "                   \"PTGER2\", \"PRKD3\",\"ADAM23\",\"AUTS2\",\"ANXA1\",\"RTKN2\",\n",
    "                   \"ZNF462\",\"NCR3\",\"CYB561\",\"LTB\",\"PTGDR\",\"LY6E\",\"TRGC1\"\n",
    "))\n",
    "\n",
    "avgexp = AverageExpression(cd4_l1_full_filt, features = markers2,\n",
    "                           return.seurat = F, group.by = \"annotations_l2\", \n",
    "                          assay = \"RNA\")"
   ]
  },
  {
   "cell_type": "code",
   "execution_count": null,
   "id": "15dc1e7b",
   "metadata": {},
   "outputs": [],
   "source": [
    "options(repr.plot.width = 8, repr.plot.height = 3.7)\n",
    "pheatmap(t(avgexp$RNA)[c(10,5,7,8,4,9,1,2,3,6),], main = \"\", \n",
    "         scale = \"column\", cluster_cols = T, cluster_rows = F,\n",
    "        color=colorRampPalette(c(\"dodgerblue\", \"grey95\", \"indianred2\"))(50), \n",
    "         border_color = \"white\",\n",
    "         width = 8, height = 3,\n",
    "                  fontsize = 9)"
   ]
  },
  {
   "cell_type": "code",
   "execution_count": null,
   "id": "b7a9c9b1",
   "metadata": {},
   "outputs": [],
   "source": [
    "options(repr.plot.width = 8, repr.plot.height = 3.7)\n",
    "pheatmap(t(avgexp$RNA)[c(10,5,7,8,4,9,1,2,3,6),], main = \"\", \n",
    "         scale = \"column\", cluster_cols = T, cluster_rows = F,\n",
    "        color=colorRampPalette(c(\"dodgerblue\", \"grey95\", \"indianred2\"))(50), \n",
    "        border_color = \"white\",filename = \"../figures/heatmaps/heatmap_cd4_unconventional.pdf\",\n",
    "         width = 8, height = 3,\n",
    "                  fontsize = 9)"
   ]
  },
  {
   "cell_type": "code",
   "execution_count": null,
   "id": "8119010c",
   "metadata": {},
   "outputs": [],
   "source": [
    "cd4_l1_full_filt"
   ]
  },
  {
   "cell_type": "code",
   "execution_count": null,
   "id": "9d3c90b7",
   "metadata": {},
   "outputs": [],
   "source": [
    "DefaultAssay(cd4_l1_full_filt)  <- \"CollecTRI\""
   ]
  },
  {
   "cell_type": "code",
   "execution_count": null,
   "id": "76eddbfe",
   "metadata": {},
   "outputs": [],
   "source": [
    "Idents(cd4_l1_full_filt)  <- cd4_l1_full_filt$annotations_manual"
   ]
  },
  {
   "cell_type": "code",
   "execution_count": null,
   "id": "96198ff7",
   "metadata": {},
   "outputs": [],
   "source": [
    "mrk  <- FindAllMarkers(cd4_l1_full_filt, only.pos = T)"
   ]
  },
  {
   "cell_type": "code",
   "execution_count": null,
   "id": "626982ef",
   "metadata": {
    "scrolled": true
   },
   "outputs": [],
   "source": [
    "mrk  %>% filter(cluster == \"Unconventional T cells\")"
   ]
  },
  {
   "cell_type": "code",
   "execution_count": null,
   "id": "92498a32",
   "metadata": {},
   "outputs": [],
   "source": [
    "markers2  <- rev(c(\"ASCL2\", \"ETV5\", \"SETBP1\", \n",
    "              \"POU3F1\",\"SMARCA4\",\"FOXH1\",\n",
    "                  \"DACH1\",\"CREB3\", \"ARNT\",\n",
    "                   \"MECOM\",\"RUNX1\",\n",
    "                  \"ELF2\",\"NEUROD1\",\"EBF1\",\n",
    "                  \"ID2\",\"STAT5A\",\"PURA\",\"GTF2I\",\"STAT3\",\"STAT6\"                 \n",
    "))\n",
    "\n",
    "avgexp = AverageExpression(cd4_l1_full_filt, features = markers2,\n",
    "                           return.seurat = F, group.by = \"annotations_l2\", \n",
    "                          assay = \"CollecTRI\")"
   ]
  },
  {
   "cell_type": "code",
   "execution_count": null,
   "id": "8aa6f592",
   "metadata": {},
   "outputs": [],
   "source": [
    "options(repr.plot.width = 7, repr.plot.height = 3.7)\n",
    "pheatmap(t(avgexp$CollecTRI)[c(10,5,7,8,4,9,1,2,3,6),], main = \"\", \n",
    "         scale = \"column\", cluster_cols = T, cluster_rows = F,\n",
    "        color=colorRampPalette(c(\"dodgerblue\", \"grey95\", \"indianred2\"))(50), \n",
    "         border_color = \"white\",\n",
    "                  fontsize = 9)"
   ]
  },
  {
   "cell_type": "code",
   "execution_count": null,
   "id": "fd702a1c",
   "metadata": {},
   "outputs": [],
   "source": [
    "options(repr.plot.width = 7, repr.plot.height = 3.7)\n",
    "pheatmap(t(avgexp$CollecTRI)[c(10,5,7,8,4,9,1,2,3,6),], main = \"\", \n",
    "         scale = \"column\", cluster_cols = T, cluster_rows = F,\n",
    "        color=colorRampPalette(c(\"dodgerblue\", \"grey95\", \"indianred2\"))(50), \n",
    "         border_color = \"white\",\n",
    "          filename = \"../figures/heatmaps/heatmap_cd4_unconventional_collecTRI.pdf\",\n",
    "         width = 8, height = 3,\n",
    "                           fontsize = 9)"
   ]
  },
  {
   "cell_type": "code",
   "execution_count": null,
   "id": "60307ba7",
   "metadata": {
    "scrolled": true
   },
   "outputs": [],
   "source": [
    "cd4_l1_full_filt$v_gene_A1  %>% table"
   ]
  },
  {
   "cell_type": "code",
   "execution_count": null,
   "id": "8e732043",
   "metadata": {},
   "outputs": [],
   "source": [
    "options(repr.plot.width = 6, repr.plot.height = 5)\n",
    "DimPlot(cd4_l1_full_filt, \n",
    "        cells.highlight = colnames(cd4_l1_full_filt)[cd4_l1_full_filt$v_gene_A1 == \"TRAV10\" & \n",
    "                                                    cd4_l1_full_filt$j_gene_A1 == \"TRAJ18\"]) + NoLegend()"
   ]
  },
  {
   "cell_type": "code",
   "execution_count": null,
   "id": "f38fd978",
   "metadata": {},
   "outputs": [],
   "source": [
    "ggsave(filename = paste0(paste0(\"../figures/Dimplots_unconventional/trav10_traj18_cd4.png\")), create.dir = TRUE, width = 12, height = 12, units = \"cm\")\n",
    "ggsave(filename = paste0(paste0(\"../figures/Dimplots_unconventional/trav10_traj18_cd4.svg\")), width = 12, height = 12, units = \"cm\")"
   ]
  },
  {
   "cell_type": "code",
   "execution_count": null,
   "id": "a4de268e",
   "metadata": {},
   "outputs": [],
   "source": [
    "options(repr.plot.width = 6, repr.plot.height = 5)\n",
    "FeaturePlot(cd4_l1_full_filt, features = \"ZBTB16\", min.cutoff = 0, max.cutoff = 2, raster = T, pt.size = 2,\n",
    "           raster.dpi = c(900,900))"
   ]
  },
  {
   "cell_type": "code",
   "execution_count": null,
   "id": "7fa1c695",
   "metadata": {},
   "outputs": [],
   "source": [
    "ggsave(filename = paste0(paste0(\"../figures/Dimplots_unconventional/zbtb16.png\")), create.dir = TRUE, width = 14, height = 12, units = \"cm\")\n",
    "ggsave(filename = paste0(paste0(\"../figures/Dimplots_unconventional/zbtb16.svg\")), width = 14, height = 12, units = \"cm\")"
   ]
  },
  {
   "cell_type": "code",
   "execution_count": null,
   "id": "676f546f",
   "metadata": {},
   "outputs": [],
   "source": [
    "cd4_l2_subcluster"
   ]
  },
  {
   "cell_type": "code",
   "execution_count": null,
   "id": "d054c4ef",
   "metadata": {},
   "outputs": [],
   "source": [
    "rm(cd4_l2_subcluster)"
   ]
  },
  {
   "cell_type": "code",
   "execution_count": null,
   "id": "3ec1e935",
   "metadata": {},
   "outputs": [],
   "source": [
    "gc()"
   ]
  },
  {
   "cell_type": "code",
   "execution_count": null,
   "id": "d44fa191",
   "metadata": {
    "scrolled": true
   },
   "outputs": [],
   "source": [
    "options(repr.plot.width = 6, repr.plot.height = 5)\n",
    "FeaturePlot(cd4_l2_subcluster, features = c(\"PTPRC-RA\"), cols = c(\"grey88\",\"grey88\",\"blue\"), max.cutoff = 2,\n",
    "        raster = TRUE, raster.dpi = c(900,900), pt.size = 4) + ggtheme()\n",
    "#ggsave(\"../figures/prelim/cd4_ptprc_ra.svg\", width = 13, height = 12, units = \"cm\", create.dir = TRUE)"
   ]
  },
  {
   "cell_type": "markdown",
   "id": "7be68b2e",
   "metadata": {},
   "source": [
    "## Heatmaps of subsets"
   ]
  },
  {
   "cell_type": "code",
   "execution_count": null,
   "id": "46b4c73e",
   "metadata": {},
   "outputs": [],
   "source": [
    "Idents(cd4_l2_subcluster)  <- cd4_l2_subcluster$annotations_manual\n",
    "\n",
    "mrk  <- FindAllMarkers(cd4_l2_subcluster, only.pos = TRUE)\n",
    "\n",
    "mrk  <- rank_score_func(mrk)\n",
    "\n",
    "markers  <- mrk  %>% arrange(desc(score))  %>% group_by(cluster)  %>% slice_head(n = 8)  %>% pull(gene)"
   ]
  },
  {
   "cell_type": "code",
   "execution_count": null,
   "id": "8155109c",
   "metadata": {},
   "outputs": [],
   "source": [
    "avgexp = AverageExpression(cd4_l2_subcluster, features = markers,\n",
    "                           return.seurat = F, group.by = \"annotations_manual\", \n",
    "                          assay = \"RNA\")\n",
    "\n",
    "avgexp$RNA"
   ]
  },
  {
   "cell_type": "code",
   "execution_count": null,
   "id": "2043a962",
   "metadata": {},
   "outputs": [],
   "source": [
    "options(repr.plot.width = 14, repr.plot.height = 3.7)\n",
    "pheatmap(t(avgexp$RNA), main = \"\", \n",
    "         scale = \"column\", cluster_cols = T, cluster_rows = T,\n",
    "        color=colorRampPalette(c(\"dodgerblue\", \"grey95\", \"indianred2\"))(50), \n",
    "         border_color = \"white\",\n",
    "                  fontsize = 9)"
   ]
  },
  {
   "cell_type": "code",
   "execution_count": null,
   "id": "aac26255",
   "metadata": {},
   "outputs": [],
   "source": [
    "markers2  <- rev(c(\"SELL\", \"CCR7\", \"LEF1\", \"TCF7\", \n",
    "              \"CXCR5\", \"GPR183\", \"PRKCB\",\"PPP2R5C\",\n",
    "              \"CD69\",\"TNFAIP3\",\"JUN\",\"FOS\",\n",
    "              \"ISG15\", \"IFIT1\", \"OAS3\",\n",
    "              \"FOXP3\", \"IKZF2\",\"IL2RA\",\n",
    "              \"GATA3\", \"IL13\",\"NEFL\",\"PLP2\",\"IL4\", \"ZBTB16\",\n",
    "              \"CCR6\", \"RORC\" ,\n",
    "              \"ITGB1\",\"S100A4\",\"S100A6\",\n",
    "                   \"IL23R\",\"KLRB1\",\"CCL5\", \"TBX21\", \"IFNG\",\n",
    "               \"MKI67\", \"PCNA\", \"MCM6\" ))"
   ]
  },
  {
   "cell_type": "code",
   "execution_count": null,
   "id": "f6c893ca",
   "metadata": {
    "scrolled": true
   },
   "outputs": [],
   "source": [
    "avgexp = AverageExpression(cd4_l2_subcluster, features = markers2,\n",
    "                           return.seurat = F, group.by = \"annotations_manual\", \n",
    "                          assay = \"RNA\")"
   ]
  },
  {
   "cell_type": "code",
   "execution_count": null,
   "id": "c38fad5e",
   "metadata": {
    "scrolled": true
   },
   "outputs": [],
   "source": [
    "avgexp$RNA"
   ]
  },
  {
   "cell_type": "code",
   "execution_count": null,
   "id": "14b1dfc7",
   "metadata": {},
   "outputs": [],
   "source": [
    "options(repr.plot.width = 8, repr.plot.height = 3.7)\n",
    "pheatmap(t(avgexp$RNA[,c(2,1,7,6,4,3,5,9,8)]), main = \"\", \n",
    "         scale = \"column\", cluster_cols = F, cluster_rows = F,\n",
    "        color=colorRampPalette(c(\"dodgerblue\", \"grey95\", \"indianred2\"))(50), \n",
    "         border_color = \"white\",\n",
    "                  fontsize = 9)"
   ]
  },
  {
   "cell_type": "code",
   "execution_count": null,
   "id": "5afdcffd",
   "metadata": {},
   "outputs": [],
   "source": [
    "dir.create(\"../figures/heatmaps/\")"
   ]
  },
  {
   "cell_type": "code",
   "execution_count": null,
   "id": "35718231",
   "metadata": {},
   "outputs": [],
   "source": [
    "options(repr.plot.width = 8, repr.plot.height = 3.7)\n",
    "pheatmap(t(avgexp$RNA[,c(2,1,7,6,4,3,5,9,8)]), main = \"\", \n",
    "         scale = \"column\", cluster_cols = F, cluster_rows = F,\n",
    "        color=colorRampPalette(c(\"dodgerblue\", \"grey95\", \"indianred2\"))(50), \n",
    "         border_color = \"white\", filename = \"../figures/heatmaps/heatmap_cd4_l2.pdf\",\n",
    "         width = 8, height = 3,\n",
    "                  fontsize = 9)"
   ]
  },
  {
   "cell_type": "markdown",
   "id": "3e8bd5b0",
   "metadata": {},
   "source": [
    "# Dorothea and CollecTRI"
   ]
  },
  {
   "cell_type": "markdown",
   "id": "b94a489f",
   "metadata": {},
   "source": [
    "## Heatmap of all subsets"
   ]
  },
  {
   "cell_type": "code",
   "execution_count": null,
   "id": "c96d176b",
   "metadata": {},
   "outputs": [],
   "source": [
    "DefaultAssay(cd4_l2_subcluster)  <- \"CollecTRI\""
   ]
  },
  {
   "cell_type": "code",
   "execution_count": null,
   "id": "7477250a",
   "metadata": {},
   "outputs": [],
   "source": [
    "Idents(cd4_l2_subcluster)  <- cd4_l2_subcluster$annotations_manual"
   ]
  },
  {
   "cell_type": "code",
   "execution_count": null,
   "id": "855c0208",
   "metadata": {},
   "outputs": [],
   "source": [
    "coll  <- FindAllMarkers(cd4_l2_subcluster, only.pos = T)"
   ]
  },
  {
   "cell_type": "code",
   "execution_count": null,
   "id": "2d54b279",
   "metadata": {
    "scrolled": true
   },
   "outputs": [],
   "source": [
    "genes  <- coll  %>% group_by(cluster)  %>% slice_head(n = 10)  %>% pull(gene)"
   ]
  },
  {
   "cell_type": "code",
   "execution_count": null,
   "id": "fed2300a",
   "metadata": {},
   "outputs": [],
   "source": [
    "dir.create(\"../tables/cd4/collectri_annotations/\")"
   ]
  },
  {
   "cell_type": "code",
   "execution_count": null,
   "id": "c9615070",
   "metadata": {},
   "outputs": [],
   "source": [
    "write.csv(coll, file = \"../tables/cd4/collectri_annotations/cd4_l2_subcluster.csv\")"
   ]
  },
  {
   "cell_type": "code",
   "execution_count": null,
   "id": "565ad0a4",
   "metadata": {
    "scrolled": true
   },
   "outputs": [],
   "source": [
    "coll  %>% group_by(cluster)  %>% slice_head(n = 20 )  %>% dplyr::filter(cluster == \"Proliferating\")"
   ]
  },
  {
   "cell_type": "code",
   "execution_count": null,
   "id": "cd7bbb5d",
   "metadata": {},
   "outputs": [],
   "source": []
  },
  {
   "cell_type": "code",
   "execution_count": null,
   "id": "34f85c5f",
   "metadata": {
    "scrolled": true
   },
   "outputs": [],
   "source": [
    "avgexp = AverageExpression(cd4_l2_subcluster, features = genes,\n",
    "                           return.seurat = F, group.by = \"annotations_manual\", \n",
    "                          assay = \"CollecTRI\")\n",
    "\n",
    "avgexp$CollecTRI"
   ]
  },
  {
   "cell_type": "code",
   "execution_count": null,
   "id": "45848d82",
   "metadata": {},
   "outputs": [],
   "source": [
    "options(repr.plot.width = 16, repr.plot.height = 3.7)\n",
    "pheatmap(t(avgexp$CollecTRI[,c(2,1,7,6,4,3,5,9,8)]), main = \"\", \n",
    "         scale = \"column\", cluster_cols = T, cluster_rows = F,\n",
    "        color=colorRampPalette(c(\"dodgerblue\", \"grey95\", \"indianred2\"))(50), \n",
    "         border_color = \"white\",\n",
    "                  fontsize = 9)"
   ]
  },
  {
   "cell_type": "code",
   "execution_count": null,
   "id": "cfe5fd30",
   "metadata": {},
   "outputs": [],
   "source": [
    "genes2  <- rev(c(\"TBX18\", \"PRRX1\", \"PRDM4\", \n",
    "                 \"ID1\",\"ETV7\",\"PROX1\",\n",
    "                    \"NFATC3\",\"ELK4\",\"ATF1\",\n",
    "                 \"STAT1\",\"STAT2\",\"IRF3\",\"IRF1\",\n",
    "             \"IKZF2\",\"BCL11B\",\"KAT2B\", \"FOXP3\",\n",
    "              \"KLF12\",\"MAF\",\"MYB\",\"ZBTB4\",\n",
    "                 \"RELB\",\"RORC\",\"PAX6\",\"IRF6\",\n",
    "             \"NFKBIB\",\"SPIC\",\"EOMES\",\n",
    "                \"RFXAP\",\"CIITA\",\"NFKB\",\"TP53\",\n",
    "             \"E2F4\",\"HES6\",\"HEYL\"))"
   ]
  },
  {
   "cell_type": "code",
   "execution_count": null,
   "id": "8f77b8b5",
   "metadata": {
    "scrolled": true
   },
   "outputs": [],
   "source": [
    "avgexp = AverageExpression(cd4_l2_subcluster, features = genes2,\n",
    "                           return.seurat = F, group.by = \"annotations_manual\", \n",
    "                          assay = \"CollecTRI\")\n",
    "\n",
    "avgexp$CollecTRI"
   ]
  },
  {
   "cell_type": "code",
   "execution_count": null,
   "id": "b8b254af",
   "metadata": {},
   "outputs": [],
   "source": [
    "options(repr.plot.width = 8, repr.plot.height = 3.7)\n",
    "pheatmap(t(avgexp$CollecTRI[,c(2,1,7,6,4,3,5,9,8)]), main = \"\", \n",
    "         scale = \"column\", cluster_cols = F, cluster_rows = F,\n",
    "        color=colorRampPalette(c(\"dodgerblue\", \"grey95\", \"indianred2\"))(50), \n",
    "         border_color = \"white\",\n",
    "                  fontsize = 9)"
   ]
  },
  {
   "cell_type": "code",
   "execution_count": null,
   "id": "f5e23d0e",
   "metadata": {},
   "outputs": [],
   "source": [
    "pheatmap(t(avgexp$CollecTRI[,c(2,1,7,6,4,3,5,9,8)]), main = \"\", \n",
    "         scale = \"column\", cluster_cols = F, cluster_rows = F,\n",
    "        color=colorRampPalette(c(\"dodgerblue\", \"grey95\", \"indianred2\"))(50), \n",
    "         border_color = \"white\", filename = \"../figures/heatmaps/heatmap_cd4_l2_collectri.pdf\",\n",
    "         width = 8, height = 3,\n",
    "                  fontsize = 9)"
   ]
  },
  {
   "cell_type": "markdown",
   "id": "6fc08681",
   "metadata": {},
   "source": [
    "# Frequencies L2"
   ]
  },
  {
   "cell_type": "code",
   "execution_count": null,
   "id": "f510f016",
   "metadata": {
    "scrolled": true
   },
   "outputs": [],
   "source": [
    "df4  <- create_df4(cd4_l2_subcluster)"
   ]
  },
  {
   "cell_type": "code",
   "execution_count": null,
   "id": "649bbfe8",
   "metadata": {
    "scrolled": true
   },
   "outputs": [],
   "source": [
    "df4"
   ]
  },
  {
   "cell_type": "code",
   "execution_count": null,
   "id": "29abd4f8",
   "metadata": {},
   "outputs": [],
   "source": [
    " p5  <-   df4  %>% \n",
    "filter(Experiment_ID %in% c(\"Exp16\", \"Exp18\", \"Exp19\", \"Exp20\"))  %>% \n",
    "  ggplot(aes(x = Condition, y = freq*100)) + # you can change the x to whatever variable you're interested in\n",
    "   geom_violin(alpha = 0.3, aes(fill = Condition)) +\n",
    "  stat_summary(fun = \"median\",\n",
    "               geom = \"crossbar\", \n",
    "               width = 0.75,\n",
    "               color = \"grey30\") +\n",
    "   scale_fill_manual(values = c(\"#1874cdff\",  \"#ee6363ff\", \"#c41515ff\",\"#eeb4b4ff\")) +\n",
    "scale_color_manual(values = c(\"dodgerblue3\",  \"#e54c4cff\", \"#aa2a2aff\",\"#e88989ff\")) +\n",
    "geom_beeswarm(size = 3, cex = 3, \n",
    "              color = \"black\", method = \"center\",\n",
    "             aes(fill = Condition), shape = 21) +\n",
    "   facet_wrap(~annotations_manual, scales = \"free\", ncol = 9) +\n",
    "  ylab(\"Frequency\") +\n",
    "  xlab(\"Condition\") +\n",
    "  theme_classic() +\n",
    "ggtheme() +\n",
    "ggpubr::stat_compare_means(label.x= 1.5, \n",
    "                           size = 7, vjust = -1, label = \"p.format\", comparisons = list(c(1,2)))+\n",
    "ggtheme() +\n",
    " scale_y_continuous(limits = c(0,NA), expand = c(0.05,0,0,10)) +\n",
    "  theme(strip.background = element_blank(), panel.grid = element_blank()) + \n",
    "  theme(axis.text = element_text(color = \"black\"),\n",
    "        axis.text.x = element_text(angle = 90),\n",
    "       axis.line = element_line(color = \"black\", size = 0.5),\n",
    "        axis.ticks.x = element_blank()) + NoLegend() + ggtitle(\"Final data all groups\")\n",
    "ncols = length(levels(factor(df4$annotations_manual)))"
   ]
  },
  {
   "cell_type": "code",
   "execution_count": null,
   "id": "8390d9b2",
   "metadata": {},
   "outputs": [],
   "source": [
    "options(repr.plot.width = 20, repr.plot.height = 6)\n",
    "p5"
   ]
  },
  {
   "cell_type": "code",
   "execution_count": null,
   "id": "d1f04566",
   "metadata": {},
   "outputs": [],
   "source": [
    "ggsave(\"../figures/subset_characterization/cd4_subsets_in_condition.svg\",\n",
    "       width = 40, height = 12, units = \"cm\")"
   ]
  },
  {
   "cell_type": "code",
   "execution_count": null,
   "id": "028aefb1",
   "metadata": {},
   "outputs": [],
   "source": [
    "    p5  <-   df4  %>% \n",
    "filter(Experiment_ID %in% c(\"Exp16\", \"Exp18\", \"Exp19\", \"Exp20\"))  %>% \n",
    "dplyr::filter(Patient_ID != \"116\")  %>% \n",
    "  ggplot(aes(x = Condition, y = freq*100)) + # you can change the x to whatever variable you're interested in\n",
    "   geom_violin(alpha = 0.3, aes(fill = Condition)) +\n",
    "  stat_summary(fun = \"median\",\n",
    "               geom = \"crossbar\", \n",
    "               width = 0.75,\n",
    "               color = \"grey30\") +\n",
    "   scale_fill_manual(values = c(\"#1874cdff\",  \"#ee6363ff\", \"#c41515ff\",\"#eeb4b4ff\")) +\n",
    "scale_color_manual(values = c(\"dodgerblue3\",  \"#e54c4cff\", \"#aa2a2aff\",\"#e88989ff\")) +\n",
    "geom_beeswarm(size = 3, cex = 3, \n",
    "              color = \"black\", method = \"center\",\n",
    "             aes(fill = Condition), shape = 21) +\n",
    "   facet_wrap(~annotations_manual, scales = \"free\", ncol = 9) +\n",
    "  ylab(\"Frequency\") +\n",
    "  xlab(\"Condition\") +\n",
    "  theme_classic() +\n",
    "ggtheme() +\n",
    "ggpubr::stat_compare_means(label.x= 1.5, \n",
    "                           size = 7, vjust = -1, label = \"p.format\", comparisons = list(c(2,3)), paired = TRUE)+\n",
    "ggtheme() +\n",
    " scale_y_continuous(limits = c(0,NA), expand = c(0.05,0,0,10)) +\n",
    "  theme(strip.background = element_blank(), panel.grid = element_blank()) + \n",
    "  theme(axis.text = element_text(color = \"black\"),\n",
    "        axis.text.x = element_text(angle = 90),\n",
    "       axis.line = element_line(color = \"black\", size = 0.5),\n",
    "        axis.ticks.x = element_blank()) + NoLegend() + ggtitle(\"Final data all groups\")\n",
    "ncols = length(levels(factor(df4$annotations_manual)))"
   ]
  },
  {
   "cell_type": "code",
   "execution_count": null,
   "id": "004de707",
   "metadata": {},
   "outputs": [],
   "source": [
    "options(repr.plot.width = 30, repr.plot.height = 7)\n",
    "p5"
   ]
  },
  {
   "cell_type": "markdown",
   "id": "0480ca1c",
   "metadata": {},
   "source": [
    "### Unconventional and L2"
   ]
  },
  {
   "cell_type": "code",
   "execution_count": null,
   "id": "52cefbe0",
   "metadata": {
    "scrolled": true
   },
   "outputs": [],
   "source": [
    "df4  <- create_df4(cd4_l1_full_filt)"
   ]
  },
  {
   "cell_type": "code",
   "execution_count": null,
   "id": "033de330",
   "metadata": {
    "scrolled": true
   },
   "outputs": [],
   "source": [
    "df4"
   ]
  },
  {
   "cell_type": "code",
   "execution_count": null,
   "id": "81f37d57",
   "metadata": {},
   "outputs": [],
   "source": [
    " p5  <-   df4  %>% \n",
    "filter(Experiment_ID %in% c(\"Exp16\", \"Exp18\", \"Exp19\", \"Exp20\"))  %>% \n",
    "  ggplot(aes(x = Condition, y = freq*100)) + # you can change the x to whatever variable you're interested in\n",
    "   geom_violin(alpha = 0.3, aes(fill = Condition)) +\n",
    "  stat_summary(fun = \"median\",\n",
    "               geom = \"crossbar\", \n",
    "               width = 0.75,\n",
    "               color = \"grey30\") +\n",
    "   scale_fill_manual(values = c(\"#1874cdff\",  \"#ee6363ff\", \"#c41515ff\",\"#eeb4b4ff\")) +\n",
    "scale_color_manual(values = c(\"dodgerblue3\",  \"#e54c4cff\", \"#aa2a2aff\",\"#e88989ff\")) +\n",
    "geom_beeswarm(size = 3, cex = 3, \n",
    "              color = \"black\", method = \"center\",\n",
    "             aes(fill = Condition), shape = 21) +\n",
    "   facet_wrap(~annotations_manual, scales = \"free\", ncol = 9) +\n",
    "  ylab(\"Frequency\") +\n",
    "  xlab(\"Condition\") +\n",
    "  theme_classic() +\n",
    "ggtheme() +\n",
    "ggpubr::stat_compare_means(label.x= 1.5, \n",
    "                           size = 7, vjust = -1, label = \"p.format\", comparisons = list(c(1,2)))+\n",
    "ggtheme() +\n",
    " scale_y_continuous(limits = c(0,NA), expand = c(0.05,0,0,10)) +\n",
    "  theme(strip.background = element_blank(), panel.grid = element_blank()) + \n",
    "  theme(axis.text = element_text(color = \"black\"),\n",
    "        axis.text.x = element_text(angle = 90),\n",
    "       axis.line = element_line(color = \"black\", size = 0.5),\n",
    "        axis.ticks.x = element_blank()) + NoLegend() + ggtitle(\"Final data all groups\")\n",
    "ncols = length(levels(factor(df4$annotations_manual)))"
   ]
  },
  {
   "cell_type": "code",
   "execution_count": null,
   "id": "e228d8d1",
   "metadata": {},
   "outputs": [],
   "source": [
    "options(repr.plot.width = 9, repr.plot.height = 7)\n",
    "p5"
   ]
  },
  {
   "cell_type": "code",
   "execution_count": null,
   "id": "67d3060f",
   "metadata": {},
   "outputs": [],
   "source": [
    "ggsave(\"../figures/subset_characterization/cd4_unc_subsets_in_condition.svg\",\n",
    "       width = 10, height = 12, units = \"cm\")"
   ]
  },
  {
   "cell_type": "code",
   "execution_count": null,
   "id": "f7e5914f",
   "metadata": {},
   "outputs": [],
   "source": [
    "    p5  <-   df4  %>% \n",
    "filter(Experiment_ID %in% c(\"Exp16\", \"Exp18\", \"Exp19\", \"Exp20\"))  %>% \n",
    "dplyr::filter(Patient_ID != \"116\")  %>% \n",
    "  ggplot(aes(x = Condition, y = freq*100)) + # you can change the x to whatever variable you're interested in\n",
    "   geom_violin(alpha = 0.3, aes(fill = Condition)) +\n",
    "  stat_summary(fun = \"median\",\n",
    "               geom = \"crossbar\", \n",
    "               width = 0.75,\n",
    "               color = \"grey30\") +\n",
    "   scale_fill_manual(values = c(\"#1874cdff\",  \"#ee6363ff\", \"#c41515ff\",\"#eeb4b4ff\")) +\n",
    "scale_color_manual(values = c(\"dodgerblue3\",  \"#e54c4cff\", \"#aa2a2aff\",\"#e88989ff\")) +\n",
    "geom_beeswarm(size = 3, cex = 3, \n",
    "              color = \"black\", method = \"center\",\n",
    "             aes(fill = Condition), shape = 21) +\n",
    "   facet_wrap(~annotations_manual, scales = \"free\", ncol = 9) +\n",
    "  ylab(\"Frequency\") +\n",
    "  xlab(\"Condition\") +\n",
    "  theme_classic() +\n",
    "ggtheme() +\n",
    "ggpubr::stat_compare_means(label.x= 1.5, \n",
    "                           size = 7, vjust = -1, label = \"p.format\", comparisons = list(c(2,3)), paired = TRUE)+\n",
    "ggtheme() +\n",
    " scale_y_continuous(limits = c(0,NA), expand = c(0.05,0,0,10)) +\n",
    "  theme(strip.background = element_blank(), panel.grid = element_blank()) + \n",
    "  theme(axis.text = element_text(color = \"black\"),\n",
    "        axis.text.x = element_text(angle = 90),\n",
    "       axis.line = element_line(color = \"black\", size = 0.5),\n",
    "        axis.ticks.x = element_blank()) + NoLegend() + ggtitle(\"Final data all groups\")\n",
    "ncols = length(levels(factor(df4$annotations_manual)))"
   ]
  },
  {
   "cell_type": "code",
   "execution_count": null,
   "id": "0e2ee81b",
   "metadata": {},
   "outputs": [],
   "source": [
    "options(repr.plot.width = 9, repr.plot.height = 7)\n",
    "p5"
   ]
  },
  {
   "cell_type": "markdown",
   "id": "cc023b30",
   "metadata": {},
   "source": [
    "# Frequencies and counts of all populations"
   ]
  },
  {
   "cell_type": "code",
   "execution_count": null,
   "id": "7a3e6b68",
   "metadata": {},
   "outputs": [],
   "source": [
    "cd4_l1_full_filt"
   ]
  },
  {
   "cell_type": "code",
   "execution_count": null,
   "id": "c3be2cc4",
   "metadata": {},
   "outputs": [],
   "source": [
    "all_counts  <- read_csv(\"../tables/populations_freq/all_levels_counts_cd4.csv\")"
   ]
  },
  {
   "cell_type": "code",
   "execution_count": null,
   "id": "4765217d",
   "metadata": {},
   "outputs": [],
   "source": [
    "all_counts$Experiment_ID  %>% table"
   ]
  },
  {
   "cell_type": "code",
   "execution_count": null,
   "id": "bdadaebf",
   "metadata": {
    "scrolled": true
   },
   "outputs": [],
   "source": [
    "all_counts"
   ]
  },
  {
   "cell_type": "code",
   "execution_count": null,
   "id": "6d8282e6",
   "metadata": {},
   "outputs": [],
   "source": [
    "df3  <- all_counts %>% \n",
    "  group_by(Sample_ID, Level) %>% \n",
    "  mutate(freq_from_total = n / sum(n)) "
   ]
  },
  {
   "cell_type": "code",
   "execution_count": null,
   "id": "5a5d978d",
   "metadata": {},
   "outputs": [],
   "source": [
    "df3"
   ]
  },
  {
   "cell_type": "code",
   "execution_count": null,
   "id": "fe80d01c",
   "metadata": {},
   "outputs": [],
   "source": [
    "## Set parent population"
   ]
  },
  {
   "cell_type": "code",
   "execution_count": null,
   "id": "16631aac",
   "metadata": {},
   "outputs": [],
   "source": [
    "df3  <- df3  %>% separate(annotations, into = c(\"annot_l1\",\"annot_l2\",NA), sep = \"---\", remove = F)  %>% \n",
    "mutate(Parent_annotation = case_when(\n",
    "Level == \"L1\" ~ \"CD4\",\n",
    "Level == \"L2\" ~ annot_l1,\n",
    "Level == \"L3\" ~ paste0(annot_l1, \"---\" ,annot_l2)\n",
    "))"
   ]
  },
  {
   "cell_type": "code",
   "execution_count": null,
   "id": "c07c46f8",
   "metadata": {},
   "outputs": [],
   "source": [
    "df3"
   ]
  },
  {
   "cell_type": "code",
   "execution_count": null,
   "id": "82eb48bc",
   "metadata": {},
   "outputs": [],
   "source": [
    "## For each level and each patient calculate the total count per parent population"
   ]
  },
  {
   "cell_type": "code",
   "execution_count": null,
   "id": "9f9c53d6",
   "metadata": {},
   "outputs": [],
   "source": [
    "levels_l1  <- all_counts %>% \n",
    "  filter(Level == \"L1\")  %>% \n",
    "pull(annotations)  %>% unique\n",
    "levels_l2  <- all_counts %>% \n",
    "  filter(Level == \"L2\")  %>% \n",
    "pull(annotations)  %>% unique"
   ]
  },
  {
   "cell_type": "code",
   "execution_count": null,
   "id": "f3bdf70e",
   "metadata": {},
   "outputs": [],
   "source": [
    "\n",
    "for(i in 1:length(levels_l1)) {\n",
    "    \n",
    "    df_filt  <- df3  %>% filter(grepl(annotations, pattern = levels_l1[i]) & Level == \"L2\")\n",
    "\n",
    "    df_filt  <- df_filt  %>% \n",
    "            group_by(Sample_ID)  %>% \n",
    "        summarise(total_per_patient = sum(n))\n",
    "\n",
    "    df_filt$Level = \"L2\"\n",
    "\n",
    "    df_filt$Parent_annotation = levels_l1[i]\n",
    "\n",
    "    if(i > 1){\n",
    "       \n",
    "        df_sum_of_parent  <- rbind(df_sum_of_parent, df_filt)\n",
    "        \n",
    "    } else {\n",
    "        df_sum_of_parent  <- df_filt\n",
    "        \n",
    "        \n",
    "    }\n",
    "\n",
    "}\n",
    "\n",
    "for(i in 1:length(levels_l2)) {\n",
    "    \n",
    "    df_filt  <- df3  %>% filter(grepl(annotations, pattern = levels_l2[i]) & Level == \"L3\")\n",
    "\n",
    "    df_filt  <- df_filt  %>% \n",
    "            group_by(Sample_ID)  %>% \n",
    "        summarise(total_per_patient = sum(n))\n",
    "\n",
    "    df_filt$Level = \"L3\"\n",
    "\n",
    "    df_filt$Parent_annotation = levels_l2[i]\n",
    "\n",
    "    df_sum_of_parent  <- rbind(df_sum_of_parent, df_filt)\n",
    "   \n",
    "\n",
    "}"
   ]
  },
  {
   "cell_type": "code",
   "execution_count": null,
   "id": "733f3318",
   "metadata": {
    "scrolled": true
   },
   "outputs": [],
   "source": [
    "df_sum_of_parent"
   ]
  },
  {
   "cell_type": "code",
   "execution_count": null,
   "id": "d4bfa06c",
   "metadata": {},
   "outputs": [],
   "source": [
    "dim(df3)"
   ]
  },
  {
   "cell_type": "code",
   "execution_count": null,
   "id": "96359ba4",
   "metadata": {},
   "outputs": [],
   "source": [
    "df4  <- left_join(df3, df_sum_of_parent)"
   ]
  },
  {
   "cell_type": "code",
   "execution_count": null,
   "id": "e3be82f0",
   "metadata": {},
   "outputs": [],
   "source": [
    "dim(df4)"
   ]
  },
  {
   "cell_type": "code",
   "execution_count": null,
   "id": "824ed34e",
   "metadata": {},
   "outputs": [],
   "source": [
    "df4"
   ]
  },
  {
   "cell_type": "code",
   "execution_count": null,
   "id": "a8f7c606",
   "metadata": {},
   "outputs": [],
   "source": [
    "df4$freq_from_parent  <- df4$n/df4$total_per_patient"
   ]
  },
  {
   "cell_type": "code",
   "execution_count": null,
   "id": "dd8a55c2",
   "metadata": {},
   "outputs": [],
   "source": [
    "df4"
   ]
  },
  {
   "cell_type": "code",
   "execution_count": null,
   "id": "59b4205f",
   "metadata": {},
   "outputs": [],
   "source": [
    "df4$pct_from_total  <- df4$freq_from_total*100\n",
    "df4$pct_from_parent  <- df4$freq_from_parent*100"
   ]
  },
  {
   "cell_type": "code",
   "execution_count": null,
   "id": "b1a1ef35",
   "metadata": {},
   "outputs": [],
   "source": [
    "df4$freq_from_parent <- ifelse(is.na(df4$freq_from_parent) & df4$Level != \"L1\", 0, df4$freq_from_parent)\n",
    "df4$pct_from_parent  <- ifelse(is.na(df4$pct_from_parent) & df4$Level != \"L1\", 0, df4$pct_from_parent)"
   ]
  },
  {
   "cell_type": "markdown",
   "id": "b368dc30",
   "metadata": {},
   "source": [
    "## Ordered frequency plots"
   ]
  },
  {
   "cell_type": "code",
   "execution_count": null,
   "id": "e9e6cfb8",
   "metadata": {},
   "outputs": [],
   "source": [
    "geom_violin(alpha = 0.3, aes(fill = Condition), scale = \"width\") + \n",
    "stat_summary(fun = \"median\",\n",
    "               geom = \"crossbar\", \n",
    "               width = 0.75,\n",
    "               color = \"grey30\") +\n",
    "geom_beeswarm(size = 3, aes(fill = Condition), cex = 3, \n",
    "                shape = 21, color = \"black\", corral = \"random\") +\n",
    " stat_compare_means(label = \"p.format\")+\n",
    "scale_fill_manual(values = c(\"#1874cdff\",  \"#ee6363ff\", \"#c41515ff\",\"#eeb4b4ff\")) +\n",
    "scale_color_manual(values = c(\"dodgerblue3\",  \"#e54c4cff\", \"#aa2a2aff\",\"#e88989ff\")) +\n",
    "ylab(\"\") +\n",
    "  xlab(\"\") +\n",
    "  ylim(0,NA) +\n",
    "  theme_classic() +\n",
    "theme(strip.background = element_blank(), panel.grid = element_blank()) + \n",
    "  theme(axis.text = element_text(color = \"black\"),\n",
    "        axis.text.x = element_text(angle = 90),\n",
    "       axis.line = element_line(color = \"black\", size = 0.5),\n",
    "        axis.ticks.x = element_blank()) +\n",
    "  ylim(0,NA)+\n",
    "  plot_annotation(\n",
    "    title = paste(stringr::str_replace_all(string = colnames(intra02_All2)[i], pattern = \"/\", replacement = \"\\n\")) ,\n",
    "    theme = theme(plot.title = element_text(size = 8), \n",
    "                  plot.subtitle = element_text(size = 8),\n",
    "                 axis.text.x = element_blank())) + ggtheme() + NoLegend()"
   ]
  },
  {
   "cell_type": "code",
   "execution_count": null,
   "id": "35419e1c",
   "metadata": {},
   "outputs": [],
   "source": [
    "options(repr.plot.width = 20, repr.plot.height = 28)\n",
    "\n",
    "df4   %>% \n",
    "ggplot(aes(x = Condition,\n",
    "             y = pct_from_parent)) +\n",
    "geom_violin(alpha = 0.3, aes(fill = Condition), scale = \"width\") + \n",
    "stat_summary(fun = \"median\",\n",
    "               geom = \"crossbar\", \n",
    "               width = 0.75,\n",
    "               color = \"grey30\") +\n",
    "geom_beeswarm(size = 3, aes(fill = Condition), cex = 3, \n",
    "                shape = 21, color = \"black\", corral = \"random\") +\n",
    "# stat_compare_means(label = \"p.format\")+\n",
    "scale_fill_manual(values = c(\"#1874cdff\",  \"#ee6363ff\", \"#c41515ff\",\"#eeb4b4ff\")) +\n",
    "scale_color_manual(values = c(\"dodgerblue3\",  \"#e54c4cff\", \"#aa2a2aff\",\"#e88989ff\")) +\n",
    "ylab(\"\") +\n",
    "  xlab(\"\") +\n",
    "  ylim(0,NA) +\n",
    "facet_wrap(~factor(annotations, labels = gsub(levels(factor(annotations)), \n",
    "                                              pattern = \"---\", replacement = \"\\n\")),\n",
    "           scales = \"free\", ncol = 6) +\n",
    "ggpubr::stat_compare_means(label.x = 1.2, label.y.npc = \"top\", comparisons = list(c(1,2),\n",
    "                                                                                  c(2,3)),\n",
    "                           size = 3, vjust = 0.3, label = \"p.format\",\n",
    "                          ) + \n",
    "      ggtitle(\"CD4 Pct from parent\") +\n",
    " theme_classic() + ggtheme() + NoLegend() + theme(plot.title = element_text(hjust = 0.5, size = 22),\n",
    "          axis.line = element_line(colour = \"black\"), \n",
    "        axis.ticks = element_line(colour = \"black\"),\n",
    "           axis.ticks.x = element_blank(),\n",
    "           axis.text.x = element_blank())\n"
   ]
  },
  {
   "cell_type": "code",
   "execution_count": null,
   "id": "b51a7f92",
   "metadata": {},
   "outputs": [],
   "source": [
    "options(repr.plot.width = 16, repr.plot.height = 20)\n",
    "\n",
    "df4   %>% \n",
    "ggplot(aes(x = Condition,\n",
    "             y = pct_from_parent)) +\n",
    "   geom_dotplot(binaxis='y', stackdir='center', dotsize = 0) + \n",
    "   geom_boxplot(outlier.shape = NA) +\n",
    "    geom_jitter(binaxis='y', position=position_jitter(width = 0, height = 0), \n",
    "                size = 1, stackdir='center', aes(color = Condition)) + \n",
    "  theme_classic() + xlab(\"\") + ylab(\"Value\") +\n",
    "facet_wrap(~factor(annotations, labels = gsub(levels(factor(annotations)), \n",
    "                                              pattern = \"---\", replacement = \"\\n\")),\n",
    "           scales = \"free\", ncol = 6) +\n",
    " ylim(0,NA) +\n",
    "ggpubr::stat_compare_means(label.x = 1.2, label.y.npc = \"top\", size = 3, vjust = 0.3, label = \"p.format\") + \n",
    "      theme(plot.title = element_text(hjust = 0.5, size = 22),\n",
    "          axis.line = element_line(colour = \"black\"), \n",
    "        axis.ticks = element_line(colour = \"black\")) + ggtitle(\"CD4 Pct from parent\")"
   ]
  },
  {
   "cell_type": "code",
   "execution_count": null,
   "id": "a78e0068",
   "metadata": {
    "scrolled": true
   },
   "outputs": [],
   "source": [
    "options(repr.plot.width = 16, repr.plot.height = 20)\n",
    "\n",
    "df4   %>% \n",
    "ggplot(aes(x = Condition,\n",
    "             y = pct_from_total)) +\n",
    "   geom_dotplot(binaxis='y', stackdir='center', dotsize = 0) + \n",
    "   geom_boxplot(outlier.shape = NA) +\n",
    "    geom_jitter(binaxis='y', position=position_jitter(width = 0, height = 0), \n",
    "                size = 1, stackdir='center', aes(color = Condition)) + \n",
    "  theme_classic() + xlab(\"\") + ylab(\"Value\") +\n",
    "facet_wrap(~factor(annotations, labels = gsub(levels(factor(annotations)), \n",
    "                                              pattern = \"---\", replacement = \"\\n\")),\n",
    "           scales = \"free\", ncol = 6) +\n",
    " ylim(0,NA) +\n",
    "ggpubr::stat_compare_means(label.x = 1.2, label.y.npc = \"top\", size = 3, vjust = 0.3, label = \"p.format\") + \n",
    "      theme(plot.title = element_text(hjust = 0.5, size = 22),\n",
    "          axis.line = element_line(colour = \"black\"), \n",
    "        axis.ticks = element_line(colour = \"black\")) + ggtitle(\"CD4 Pct from total\")"
   ]
  },
  {
   "cell_type": "code",
   "execution_count": null,
   "id": "240e1dd9",
   "metadata": {
    "scrolled": true
   },
   "outputs": [],
   "source": [
    "options(repr.plot.width = 20, repr.plot.height = 28)\n",
    "\n",
    "df4   %>% \n",
    "ggplot(aes(x = Condition,\n",
    "             y = pct_from_total)) +\n",
    "geom_violin(alpha = 0.3, aes(fill = Condition), scale = \"width\") + \n",
    "stat_summary(fun = \"median\",\n",
    "               geom = \"crossbar\", \n",
    "               width = 0.75,\n",
    "               color = \"grey30\") +\n",
    "geom_beeswarm(size = 2, aes(fill = Condition), cex = 3, \n",
    "                shape = 21, color = \"black\", corral = \"random\") +\n",
    "# stat_compare_means(label = \"p.format\")+\n",
    "scale_fill_manual(values = c(\"#1874cdff\",  \"#ee6363ff\", \"#c41515ff\",\"#eeb4b4ff\")) +\n",
    "scale_color_manual(values = c(\"dodgerblue3\",  \"#e54c4cff\", \"#aa2a2aff\",\"#e88989ff\")) +\n",
    "ylab(\"\") +\n",
    "  xlab(\"\") +\n",
    "  ylim(0,NA) +\n",
    "facet_wrap(~factor(annotations, labels = gsub(levels(factor(annotations)), \n",
    "                                              pattern = \"---\", replacement = \"\\n\")),\n",
    "           scales = \"free\", ncol = 6) +\n",
    "ggpubr::stat_compare_means(label.x = 1.2, label.y.npc = \"top\", comparisons = list(c(1,2),\n",
    "                                                                                  c(2,3)),\n",
    "                           size = 3, vjust = 0.3, label = \"p.format\",\n",
    "                          ) + \n",
    "      ggtitle(\"CD4 Pct from parent\") +\n",
    " theme_classic() + ggtheme() + NoLegend() + theme(plot.title = element_text(hjust = 0.5, size = 22),\n",
    "          axis.line = element_line(colour = \"black\"), \n",
    "        axis.ticks = element_line(colour = \"black\"),\n",
    "           axis.ticks.x = element_blank(),\n",
    "           axis.text.x = element_blank())\n"
   ]
  },
  {
   "cell_type": "code",
   "execution_count": null,
   "id": "8f0610b9",
   "metadata": {},
   "outputs": [],
   "source": [
    "dir.create(\"../figures/populations/\")"
   ]
  },
  {
   "cell_type": "code",
   "execution_count": null,
   "id": "e14bd047",
   "metadata": {
    "scrolled": true
   },
   "outputs": [],
   "source": [
    "library(svglite)\n",
    "ggsave(\"../figures/populations/cd4_from_total.svg\", width = 40, height = 68, units = \"cm\")"
   ]
  },
  {
   "cell_type": "markdown",
   "id": "a32ace07",
   "metadata": {},
   "source": [
    "## Plot of differences in Conditions"
   ]
  },
  {
   "cell_type": "code",
   "execution_count": null,
   "id": "ba6fa057",
   "metadata": {
    "scrolled": true
   },
   "outputs": [],
   "source": [
    "annotations_to_test  <- df4$annotations  %>% unique()\n",
    "comparisons_to_test  <- c(\"Ctrl T0\", \"Dia T0\", \"Dia T1\")"
   ]
  },
  {
   "cell_type": "code",
   "execution_count": null,
   "id": "36c641a7",
   "metadata": {
    "scrolled": true
   },
   "outputs": [],
   "source": [
    "annotations_to_test"
   ]
  },
  {
   "cell_type": "markdown",
   "id": "38fd90dc",
   "metadata": {},
   "source": [
    "### Freq from total"
   ]
  },
  {
   "cell_type": "code",
   "execution_count": null,
   "id": "2e4e8548",
   "metadata": {},
   "outputs": [],
   "source": [
    "for(i in 1:length(annotations_to_test)){\n",
    "\n",
    "\n",
    "## Comparison Dia T0 vs Dia T1\n",
    "    j = 2\n",
    "    k = 3\n",
    "df  <- df4  %>% \n",
    "    filter(annotations == annotations_to_test[i] & Condition %in% c(comparisons_to_test[j], comparisons_to_test[k]))  %>% \n",
    "    dplyr::select(Condition, value = pct_from_total)  %>% mutate(value = as.numeric(value))\n",
    "    wcx  <- wilcox.test(df$value ~ df$Condition, conf.int = T)\n",
    "    df2  <- df  %>% group_by(Condition)  %>% summarise(mean = mean(value), sd = sd(value))\n",
    "    df_all  <- data.frame(name = annotations_to_test[i], \n",
    "                          comparison = \"Dia T0 vs Dia T1\",\n",
    "                          estimate = wcx$estimate,\n",
    "                          pval = wcx$p.value, \n",
    "                          mean_dia = df2$mean[1],\n",
    "                         mean_ctrl = df2$mean[2], \n",
    "                         upper = wcx$conf.int[2],\n",
    "                         lower = wcx$conf.int[1]\n",
    "                         )  %>% \n",
    "mutate(ratio = (mean_dia)/(mean_ctrl))\n",
    "    \n",
    "if(i == 1){\n",
    "    df_final  <- df_all\n",
    "} else {\n",
    "    df_final  <- rbind(df_final, df_all)\n",
    "}\n",
    "\n",
    "## Comparison of Dia vs controls in both times\n",
    "\n",
    "    j = 2\n",
    "    k = 1\n",
    "df  <- df4  %>% \n",
    "    filter(annotations == annotations_to_test[i] & Condition %in% c(comparisons_to_test[j], comparisons_to_test[k]))  %>% \n",
    "    dplyr::select(Condition, value = pct_from_total)  %>% mutate(value = as.numeric(value))\n",
    "    wcx  <- wilcox.test(df$value ~ df$Condition, conf.int = T)\n",
    "    df2  <- df  %>% group_by(Condition)  %>% summarise(mean = mean(value), sd = sd(value))\n",
    "    df_all  <- data.frame(name = annotations_to_test[i], \n",
    "                          comparison = paste(comparisons_to_test[j], \"vs\", comparisons_to_test[k]),\n",
    "                          estimate = wcx$estimate,\n",
    "                          pval = wcx$p.value, \n",
    "                          mean_dia = df2$mean[2],\n",
    "                         mean_ctrl = df2$mean[1], \n",
    "                         upper = wcx$conf.int[2],\n",
    "                         lower = wcx$conf.int[1]\n",
    "                         )  %>% mutate(ratio = (mean_dia)/(mean_ctrl))\n",
    "    df_final  <- rbind(df_final, df_all)\n",
    "    \n",
    "\n",
    "    j = 3\n",
    "    k = 1\n",
    "df  <- df4  %>% \n",
    "    filter(annotations == annotations_to_test[i] & Condition %in% c(comparisons_to_test[j], comparisons_to_test[k]))  %>% \n",
    "    dplyr::select(Condition, value = pct_from_total)  %>% mutate(value = as.numeric(value))\n",
    "    wcx  <- wilcox.test(df$value ~ df$Condition, conf.int = T)\n",
    "    df2  <- df  %>% group_by(Condition)  %>% summarise(mean = mean(value), sd = sd(value))\n",
    "    df_all  <- data.frame(name = annotations_to_test[i], \n",
    "                          comparison = paste(comparisons_to_test[j], \"vs\", comparisons_to_test[k]),\n",
    "                         estimate = wcx$estimate,\n",
    "                          pval = wcx$p.value, \n",
    "                          mean_dia = df2$mean[2],\n",
    "                         mean_ctrl = df2$mean[1], \n",
    "                         upper = wcx$conf.int[2],\n",
    "                         lower = wcx$conf.int[1]\n",
    "                         )  %>% mutate(ratio = (mean_dia)/(mean_ctrl))\n",
    "    df_final  <- rbind(df_final, df_all)\n",
    "\n",
    "\n",
    "## Comparison of Dia - partial remission vs. no remission\n",
    "\n",
    "df  <- df4  %>% \n",
    "    filter(annotations == annotations_to_test[i] & Disease == \"Dia\" & !is.na(Condition2))  %>% \n",
    "    dplyr::select(Condition = Condition2, value = pct_from_total)  %>% mutate(value = as.numeric(value))\n",
    "    wcx  <- wilcox.test(df$value ~ df$Condition, conf.int = T)\n",
    "    df2  <- df  %>% group_by(Condition)  %>% summarise(mean = mean(value), sd = sd(value))\n",
    "    df_all  <- data.frame(name = annotations_to_test[i], \n",
    "                          comparison = \"PR_0 vs PR_1\",\n",
    "                          estimate = wcx$estimate,\n",
    "                          pval = wcx$p.value, \n",
    "                          mean_dia = df2$mean[1],\n",
    "                         mean_ctrl = df2$mean[2], \n",
    "                         upper = wcx$conf.int[2],\n",
    "                         lower = wcx$conf.int[1]\n",
    "                         )  %>% mutate(ratio = (mean_dia)/(mean_ctrl))\n",
    "     \n",
    "    df_final  <- rbind(df_final, df_all)\n",
    "    \n",
    "    }"
   ]
  },
  {
   "cell_type": "code",
   "execution_count": null,
   "id": "5de3e334",
   "metadata": {},
   "outputs": [],
   "source": [
    "df_final  %>% arrange(pval)"
   ]
  },
  {
   "cell_type": "code",
   "execution_count": null,
   "id": "6aecdabd",
   "metadata": {},
   "outputs": [],
   "source": [
    "options(repr.plot.width = 16, repr.plot.height = 20)\n",
    "df_final  %>% \n",
    "mutate(color = ifelse(estimate < 0 & upper < 0, \n",
    "                      \"1\", \n",
    "                      ifelse(estimate > 0 & lower > 0, \"2\", \"3\")))  %>% \n",
    "  ggplot(aes(estimate, name, color = color)) +\n",
    "  geom_vline(xintercept = 0, color = \"gray75\") +\n",
    "  geom_linerange(aes(xmin = lower, xmax = upper),\n",
    "                 size = 1.5,\n",
    "                 alpha = 0.5) +\n",
    "  geom_point(size = 4) +\n",
    "  theme_minimal(base_size = 16) +\n",
    "  scale_color_manual(values = c(\"green4\", \"red3\", \"grey\"), guide = \"none\") +\n",
    "facet_wrap(~comparison, ncol = 4) +\n",
    "  labs(title = \"\", y = NULL,\n",
    "       x = \"Probability \\n(95% Confidence Intervals)\") +\n",
    "  theme(axis.text.y = element_text(hjust = 0, size = 18),\n",
    "        panel.grid = element_blank()) + ggtitle(\"Pct from Total\")"
   ]
  },
  {
   "cell_type": "code",
   "execution_count": null,
   "id": "0822f9bf",
   "metadata": {},
   "outputs": [],
   "source": [
    "write.csv(df_final, \"../tables/populations_freq/cd4_pct_from_total.csv\")"
   ]
  },
  {
   "cell_type": "markdown",
   "id": "4a810676",
   "metadata": {},
   "source": [
    "### Freq from parent"
   ]
  },
  {
   "cell_type": "code",
   "execution_count": null,
   "id": "5b1aa837",
   "metadata": {},
   "outputs": [],
   "source": [
    "annotations_to_test  <- df4$annotations  %>% unique()\n",
    "annotations_to_test  <- annotations_to_test[3:length(annotations_to_test)]"
   ]
  },
  {
   "cell_type": "code",
   "execution_count": null,
   "id": "74d446b1",
   "metadata": {},
   "outputs": [],
   "source": [
    "df5  <- df4  %>% filter(Level != \"L1\")\n",
    "\n",
    "for(i in c(1:9,11:length(annotations_to_test))){\n",
    "print(i)\n",
    "\n",
    "## Comparison Dia T0 vs Dia T1\n",
    "    j = 2\n",
    "    k = 3\n",
    "df  <- df5  %>% \n",
    "    filter(annotations == annotations_to_test[i] & Condition %in% c(comparisons_to_test[j], comparisons_to_test[k]))  %>% \n",
    "    dplyr::select(Condition, value = pct_from_parent)  %>% mutate(value = as.numeric(value))\n",
    "    wcx  <- wilcox.test(df$value ~ df$Condition, conf.int = T)\n",
    "    df2  <- df  %>% group_by(Condition)  %>% summarise(mean = mean(value), sd = sd(value))\n",
    "    df_all  <- data.frame(name = annotations_to_test[i], \n",
    "                          comparison = \"Dia T0 vs Dia T1\",\n",
    "                          estimate = wcx$estimate,\n",
    "                          pval = wcx$p.value, \n",
    "                          mean_dia = df2$mean[1],\n",
    "                         mean_ctrl = df2$mean[2], \n",
    "                         upper = wcx$conf.int[2],\n",
    "                         lower = wcx$conf.int[1]\n",
    "                         )  %>% \n",
    "mutate(ratio = (mean_dia)/(mean_ctrl))\n",
    "    \n",
    "if(i == 1){\n",
    "    df_final  <- df_all\n",
    "} else {\n",
    "    df_final  <- rbind(df_final, df_all)\n",
    "}\n",
    "\n",
    "## Comparison of Dia vs controls in both times\n",
    "\n",
    "    j = 2\n",
    "    k = 1\n",
    "df  <- df5  %>% \n",
    "    filter(annotations == annotations_to_test[i] & Condition %in% c(comparisons_to_test[j], comparisons_to_test[k]))  %>% \n",
    "    dplyr::select(Condition, value = pct_from_parent)  %>% mutate(value = as.numeric(value))\n",
    "    wcx  <- wilcox.test(df$value ~ df$Condition, conf.int = T)\n",
    "    df2  <- df  %>% group_by(Condition)  %>% summarise(mean = mean(value), sd = sd(value))\n",
    "    df_all  <- data.frame(name = annotations_to_test[i], \n",
    "                          comparison = paste(comparisons_to_test[j], \"vs\", comparisons_to_test[k]),\n",
    "                          estimate = wcx$estimate,\n",
    "                          pval = wcx$p.value, \n",
    "                          mean_dia = df2$mean[2],\n",
    "                         mean_ctrl = df2$mean[1], \n",
    "                         upper = wcx$conf.int[2],\n",
    "                         lower = wcx$conf.int[1]\n",
    "                         )  %>% mutate(ratio = (mean_dia)/(mean_ctrl))\n",
    "    df_final  <- rbind(df_final, df_all)\n",
    "    \n",
    "\n",
    "    j = 3\n",
    "    k = 1\n",
    "df  <- df5  %>% \n",
    "    filter(annotations == annotations_to_test[i] & Condition %in% c(comparisons_to_test[j], comparisons_to_test[k]))  %>% \n",
    "    dplyr::select(Condition, value = pct_from_parent)  %>% mutate(value = as.numeric(value))\n",
    "    wcx  <- wilcox.test(df$value ~ df$Condition, conf.int = T)\n",
    "    df2  <- df  %>% group_by(Condition)  %>% summarise(mean = mean(value), sd = sd(value))\n",
    "    df_all  <- data.frame(name = annotations_to_test[i], \n",
    "                          comparison = paste(comparisons_to_test[j], \"vs\", comparisons_to_test[k]),\n",
    "                         estimate = wcx$estimate,\n",
    "                          pval = wcx$p.value, \n",
    "                          mean_dia = df2$mean[2],\n",
    "                         mean_ctrl = df2$mean[1], \n",
    "                         upper = wcx$conf.int[2],\n",
    "                         lower = wcx$conf.int[1]\n",
    "                         )  %>% mutate(ratio = (mean_dia)/(mean_ctrl))\n",
    "    df_final  <- rbind(df_final, df_all)\n",
    "\n",
    "\n",
    "## Comparison of Dia - partial remission vs. no remission\n",
    "\n",
    "df  <- df5  %>% \n",
    "    filter(annotations == annotations_to_test[i] & Disease == \"Dia\" & !is.na(Condition2))  %>% \n",
    "    dplyr::select(Condition = Condition2, value = pct_from_parent)  %>% mutate(value = as.numeric(value))\n",
    "    wcx  <- wilcox.test(df$value ~ df$Condition, conf.int = T)\n",
    "    df2  <- df  %>% group_by(Condition)  %>% summarise(mean = mean(value), sd = sd(value))\n",
    "    df_all  <- data.frame(name = annotations_to_test[i], \n",
    "                          comparison = \"PR_0 vs PR_1\",\n",
    "                          estimate = wcx$estimate,\n",
    "                          pval = wcx$p.value, \n",
    "                          mean_dia = df2$mean[1],\n",
    "                         mean_ctrl = df2$mean[2], \n",
    "                         upper = wcx$conf.int[2],\n",
    "                         lower = wcx$conf.int[1]\n",
    "                         )  %>% mutate(ratio = (mean_dia)/(mean_ctrl))\n",
    "     \n",
    "    df_final  <- rbind(df_final, df_all)\n",
    "    \n",
    "    }\n",
    "\n",
    "df_final  %>% arrange(pval)\n",
    "\n",
    "options(repr.plot.width = 20, repr.plot.height = 20)\n",
    "df_final  %>% \n",
    "mutate(color = ifelse(estimate < 0 & upper < 0, \n",
    "                      \"1\", \n",
    "                      ifelse(estimate > 0 & lower > 0, \"2\", \"3\")))  %>% \n",
    "  ggplot(aes(estimate, name, color = color)) +\n",
    "  geom_vline(xintercept = 0, color = \"gray75\") +\n",
    "  geom_linerange(aes(xmin = lower, xmax = upper),\n",
    "                 size = 1.5,\n",
    "                 alpha = 0.5) +\n",
    "  geom_point(size = 4) +\n",
    "  theme_minimal(base_size = 16) +\n",
    "  scale_color_manual(values = c(\"green4\", \"red3\", \"grey\"), guide = \"none\") +\n",
    "facet_wrap(~comparison, ncol = 4) +\n",
    "  labs(title = \"\", y = NULL,\n",
    "       x = \"Probability \\n(95% Confidence Intervals)\") +\n",
    "  theme(axis.text.y = element_text(hjust = 0, size = 18),\n",
    "        panel.grid = element_blank())\n",
    "\n",
    "write.csv(df_final, \"../tables/populations_freq/cd4_pct_from_parent.csv\")"
   ]
  },
  {
   "cell_type": "code",
   "execution_count": null,
   "id": "11e615ad",
   "metadata": {},
   "outputs": [],
   "source": [
    "options(repr.plot.width = 16, repr.plot.height = 20)\n",
    "df_final  %>% \n",
    "mutate(color = ifelse(estimate < 0 & upper < 0, \n",
    "                      \"1\", \n",
    "                      ifelse(estimate > 0 & lower > 0, \"2\", \"3\")))  %>% \n",
    "  ggplot(aes(estimate, name, color = color)) +\n",
    "  geom_vline(xintercept = 0, color = \"gray75\") +\n",
    "  geom_linerange(aes(xmin = lower, xmax = upper),\n",
    "                 size = 1.5,\n",
    "                 alpha = 0.5) +\n",
    "  geom_point(size = 4) +\n",
    "  theme_minimal(base_size = 16) +\n",
    "  scale_color_manual(values = c(\"green4\", \"red3\", \"grey\"), guide = \"none\") +\n",
    "facet_wrap(~comparison, ncol = 4) +\n",
    "  labs(title = \"\", y = NULL,\n",
    "       x = \"Probability \\n(95% Confidence Intervals)\") +\n",
    "  theme(axis.text.y = element_text(hjust = 0, size = 18),\n",
    "        panel.grid = element_blank()) + ggtitle(\"Pct from Parent\")"
   ]
  },
  {
   "cell_type": "markdown",
   "id": "d71e9f4f",
   "metadata": {},
   "source": [
    "# Frequencies in youngest patients"
   ]
  },
  {
   "cell_type": "code",
   "execution_count": null,
   "id": "981573b6",
   "metadata": {},
   "outputs": [],
   "source": [
    "options(repr.plot.width = 16, repr.plot.height = 20)\n",
    "\n",
    "df4   %>% \n",
    "filter(Age_group == 1)  %>% \n",
    "ggplot(aes(x = Condition,\n",
    "             y = pct_from_parent)) +\n",
    "   geom_dotplot(binaxis='y', stackdir='center', dotsize = 0) + \n",
    "   geom_boxplot(outlier.shape = NA) +\n",
    "    geom_jitter(binaxis='y', position=position_jitter(width = 0, height = 0), \n",
    "                size = 1, stackdir='center', aes(color = Condition)) + \n",
    "  theme_classic() + xlab(\"\") + ylab(\"Value\") +\n",
    "facet_wrap(~factor(annotations, labels = gsub(levels(factor(annotations)), \n",
    "                                              pattern = \"---\", replacement = \"\\n\")),\n",
    "           scales = \"free\", ncol = 6) +\n",
    " ylim(0,NA) +\n",
    "ggpubr::stat_compare_means(label.x = 1.2, label.y.npc = \"top\", size = 3, vjust = 0.3, label = \"p.format\") + \n",
    "      theme(plot.title = element_text(hjust = 0.5, size = 22),\n",
    "          axis.line = element_line(colour = \"black\"), \n",
    "        axis.ticks = element_line(colour = \"black\")) + ggtitle(\"CD4 Pct from parent - youngest only\")"
   ]
  },
  {
   "cell_type": "code",
   "execution_count": null,
   "id": "847253f9",
   "metadata": {},
   "outputs": [],
   "source": [
    "options(repr.plot.width = 16, repr.plot.height = 20)\n",
    "\n",
    "df4   %>% \n",
    "filter(Age_group == 1)  %>% \n",
    "ggplot(aes(x = Condition,\n",
    "             y = pct_from_total)) +\n",
    "   geom_dotplot(binaxis='y', stackdir='center', dotsize = 0) + \n",
    "   geom_boxplot(outlier.shape = NA) +\n",
    "    geom_jitter(binaxis='y', position=position_jitter(width = 0, height = 0), \n",
    "                size = 1, stackdir='center', aes(color = Condition)) + \n",
    "  theme_classic() + xlab(\"\") + ylab(\"Value\") +\n",
    "facet_wrap(~factor(annotations, labels = gsub(levels(factor(annotations)), \n",
    "                                              pattern = \"---\", replacement = \"\\n\")),\n",
    "           scales = \"free\", ncol = 6) +\n",
    " ylim(0,NA) +\n",
    "ggpubr::stat_compare_means(label.x = 1.2, label.y.npc = \"top\", size = 3, vjust = 0.3, label = \"p.format\") + \n",
    "      theme(plot.title = element_text(hjust = 0.5, size = 22),\n",
    "          axis.line = element_line(colour = \"black\"), \n",
    "        axis.ticks = element_line(colour = \"black\")) + ggtitle(\"CD4 Pct from total  - youngest only\")"
   ]
  },
  {
   "cell_type": "markdown",
   "id": "d19ecfe6",
   "metadata": {},
   "source": [
    "# DE genes in CD4 populations"
   ]
  },
  {
   "cell_type": "markdown",
   "id": "a4eb8cee",
   "metadata": {},
   "source": [
    "## Calculation of DE genes"
   ]
  },
  {
   "cell_type": "code",
   "execution_count": null,
   "id": "a5bae8b0",
   "metadata": {},
   "outputs": [],
   "source": [
    "cd4_l3_list  <- list(cd4_l3_naive, cd4_l3_tfh, cd4_l3_th1th17, cd4_l3_nfkb, cd4_l3_th2,\n",
    "                     cd4_l3_treg, cd4_l3_isaghi, cd4_l3_proliferating, cd4_l3_temra,\n",
    "                     cd4_l2_unc, cd4_l2_subcluster, cd4_l1_full_filt)\n",
    "\n",
    "names(cd4_l3_list)  <- c(\"cd4_l3_naive\", \"cd4_l3_tfh\", \"cd4_l3_th1th17\", \"cd4_l3_nfkb\", \"cd4_l3_th2\",\n",
    "                     \"cd4_l3_treg\", \"cd4_l3_isaghi\", \"cd4_l3_proliferating\", \"cd4_l3_temra\",\n",
    "                     \"cd4_l2_unc\", \"cd4_l2_subcluster\", \"cd4_l1_full_filt\")"
   ]
  },
  {
   "cell_type": "code",
   "execution_count": null,
   "id": "bc95af16",
   "metadata": {},
   "outputs": [],
   "source": [
    "md_for_remission  <- cd4_l1_full_filt@meta.data  %>% \n",
    "dplyr::filter(Condition %in% c(\"Dia T0\"))  %>% \n",
    "group_by(Patient_ID, part_remission_y_n)  %>% \n",
    "tally %>% mutate(Condition2 = paste0(\"PR_\",part_remission_y_n))  %>% \n",
    "dplyr::select(-n, -part_remission_y_n)"
   ]
  },
  {
   "cell_type": "code",
   "execution_count": null,
   "id": "e9409bb9",
   "metadata": {
    "scrolled": true
   },
   "outputs": [],
   "source": [
    "md_for_remission"
   ]
  },
  {
   "cell_type": "code",
   "execution_count": null,
   "id": "e591c59c",
   "metadata": {
    "scrolled": true
   },
   "outputs": [],
   "source": [
    "for( i in 1:length(cd4_l3_list)) {\n",
    "    \n",
    "    cd4_l3_list[[i]]$Condition2  <- NULL\n",
    "    cd4_l3_list[[i]]@meta.data  <- cd4_l3_list[[i]]@meta.data  %>% \n",
    "    left_join(md_for_remission)  %>% mutate(Condition2 = paste(Condition2, Time))  %>% \n",
    "    mutate(Condition2 = ifelse(grepl(Condition2, pattern = \"NA\"), NA_character_,Condition2))\n",
    "    \n",
    "    print(cd4_l3_list[[i]]$Condition2  %>% table)\n",
    "    rownames(cd4_l3_list[[i]]@meta.data)  <- colnames(cd4_l3_list[[i]])\n",
    "}"
   ]
  },
  {
   "cell_type": "markdown",
   "id": "1b9367be",
   "metadata": {},
   "source": [
    "### PR in T0 vs T1 and Ketoacidosis"
   ]
  },
  {
   "cell_type": "code",
   "execution_count": null,
   "id": "0486f4a6",
   "metadata": {},
   "outputs": [],
   "source": [
    "md_for_ketoacidosis  <- cd4_l1_full_filt@meta.data  %>% \n",
    "dplyr::filter(Condition %in% c(\"Dia T0\"))  %>% \n",
    "group_by(Patient_ID, ph_man)  %>% \n",
    "tally %>% mutate(Ketoacidosis = ifelse(ph_man<7.3,\"Keto_1\",\"Keto_0\"))  %>% \n",
    "dplyr::select(-ph_man, -n)"
   ]
  },
  {
   "cell_type": "code",
   "execution_count": null,
   "id": "a1c57af8",
   "metadata": {
    "scrolled": true
   },
   "outputs": [],
   "source": [
    "md_for_ketoacidosis"
   ]
  },
  {
   "cell_type": "code",
   "execution_count": null,
   "id": "7b4b8cfb",
   "metadata": {
    "scrolled": true
   },
   "outputs": [],
   "source": [
    "for( i in 1:length(cd4_l3_list)) {\n",
    "    \n",
    "    #cd4_l3_list[[i]]$Ketoacidosis  <- NULL\n",
    "    cd4_l3_list[[i]]@meta.data  <- cd4_l3_list[[i]]@meta.data  %>% \n",
    "    left_join(md_for_ketoacidosis)   %>% mutate(Keto_Time = paste(Ketoacidosis, Time))  %>% \n",
    "    mutate(Keto_Time = ifelse(grepl(Keto_Time, pattern = \"NA\"), NA_character_,Keto_Time))\n",
    "    \n",
    "    print(cd4_l3_list[[i]]$Ketoacidosis  %>% table)\n",
    "    rownames(cd4_l3_list[[i]]@meta.data)  <- colnames(cd4_l3_list[[i]])\n",
    "}"
   ]
  },
  {
   "cell_type": "code",
   "execution_count": null,
   "id": "b3543e99",
   "metadata": {},
   "outputs": [],
   "source": [
    "cd4_l3_list[[i]]$Keto_Time  %>% table"
   ]
  },
  {
   "cell_type": "markdown",
   "id": "3595e5e9",
   "metadata": {},
   "source": [
    "### Ketoacidosis in T0"
   ]
  },
  {
   "cell_type": "code",
   "execution_count": null,
   "id": "ea31fe85",
   "metadata": {},
   "outputs": [],
   "source": [
    "Conditions  <- list(c(\"Dia T0\", \"Ctrl T0\"),\n",
    "                    c(\"Dia T0\", \"Dia T1\"),\n",
    "                    c(\"Dia T1\", \"Ctrl T0\"),\n",
    "                    c(\"PR_0 T0\", \"PR_1 T0\"),\n",
    "                    c(\"PR_0 T1\", \"PR_1 T1\"),\n",
    "                    c(\"PR_0 T0\", \"PR_0 T1\"),\n",
    "                    c(\"PR_1 T0\", \"PR_1 T1\"),\n",
    "                    c(\"Keto_1 T0\", \"Keto_0 T0\"))"
   ]
  },
  {
   "cell_type": "code",
   "execution_count": null,
   "id": "c6ad6242",
   "metadata": {},
   "outputs": [],
   "source": [
    "Conditions  %>% length"
   ]
  },
  {
   "cell_type": "code",
   "execution_count": null,
   "id": "5ac7e602",
   "metadata": {},
   "outputs": [],
   "source": [
    "dataset_list  <- cd4_l3_list"
   ]
  },
  {
   "cell_type": "code",
   "execution_count": null,
   "id": "84a567a3",
   "metadata": {},
   "outputs": [],
   "source": [
    "# Function to calculate markers for a subsetted da for given conditions\n",
    "\n",
    "Create_Markers_DataFrame  <- function(j){\n",
    "     print(\"#######################\")\n",
    "    print(i)\n",
    "    print(j)\n",
    "    \n",
    "    Condition_1 = Conditions[[j]][1]\n",
    "    Condition_2 = Conditions[[j]][2]\n",
    "    \n",
    "    seurat_obj  <- dataset_list[[i]]\n",
    "        \n",
    "    if(grepl(Condition_1, pattern = \"PR\")){\n",
    "      seurat_obj$Condition  <- seurat_obj$Condition2\n",
    "    }\n",
    "    \n",
    "    if(grepl(Condition_1, pattern = \"Keto\")){\n",
    "      seurat_obj$Condition  <- seurat_obj$Keto_Time\n",
    "    }\n",
    "    \n",
    "    ## Create subsetted df\n",
    "        ds  <- subset(seurat_obj, Condition %in% c(Condition_1, Condition_2) & \n",
    "                  Experiment_ID %in% c(\"Exp16\", \"Exp18\", \"Exp19\", \"Exp20\"))\n",
    "        print(ds$Condition  %>% table)\n",
    "    \n",
    "    ## scRNAseq - RNA\n",
    "    DefaultAssay(ds)  <- \"RNA\"\n",
    "        Idents(ds)  <- ds$Condition\n",
    "        markers_sc  <- FindAllMarkers(ds, only.pos = T)\n",
    "        markers_sc$source  <- \"scRNAseq_RNA\"\n",
    "        rownames(markers_sc)  <- NULL\n",
    "    print(paste(\"DE RNA: \", nrow(markers_sc)))\n",
    "    \n",
    "    ## scRNAseq - collecTRI\n",
    "    DefaultAssay(ds)  <- \"CollecTRI\"\n",
    "        Idents(ds)  <- ds$Condition\n",
    "        markers_sc2  <- FindAllMarkers(ds, only.pos = T)\n",
    "        markers_sc2$source  <- \"scRNAseq_collecTRI\"\n",
    "        rownames(markers_sc2)  <- NULL\n",
    "    print(paste(\"DE CollecTRI: \", nrow(markers_sc2)))\n",
    "    \n",
    "    if(nrow(markers_sc2)>0 & nrow(markers_sc)>0){ \n",
    "            markers2 <- rbind(markers_sc, markers_sc2) } else {\n",
    "        if(nrow(markers_sc)>0){\n",
    "            markers2  <- markers_sc\n",
    "            } else {\n",
    "            if(nrow(markers_sc2)>0){\n",
    "                markers2  <- markers_sc2\n",
    "            \n",
    "            } else {\n",
    "                markers2  <- NULL\n",
    "                }\n",
    "        }\n",
    "        }\n",
    "    \n",
    "        markers2$test_type  <- paste(Conditions[[j]][1], \"vs\", Conditions[[j]][2])\n",
    "        print(\"..\")\n",
    "        markers2$dataset  <- names(dataset_list)[i]\n",
    "        return(markers2)\n",
    "}\n"
   ]
  },
  {
   "cell_type": "code",
   "execution_count": null,
   "id": "9e3a6f56",
   "metadata": {
    "scrolled": true
   },
   "outputs": [],
   "source": [
    "for(i in 1:length(dataset_list)){\n",
    "\n",
    "print(\"######################################################################\")\n",
    "if(i > 1){\n",
    "suppressWarnings(rm(markers_sc, markers, markers1, markers_sc2, markers_sc_predia, markers_bulk, markers_bulk2))    \n",
    "}\n",
    "    \n",
    "mrk  <- map(.x = 1:8, Create_Markers_DataFrame)\n",
    "\n",
    "mrk  <- bind_rows(mrk) \n",
    "    \n",
    "if(i>1){ \n",
    "    all_markers  <- rbind(all_markers, mrk)\n",
    "} else {\n",
    "    all_markers  <- mrk\n",
    "}\n",
    "    \n",
    "    \n",
    "}"
   ]
  },
  {
   "cell_type": "markdown",
   "id": "d090ba83",
   "metadata": {},
   "source": [
    "## DeSeq2"
   ]
  },
  {
   "cell_type": "code",
   "execution_count": null,
   "id": "ffb99337",
   "metadata": {},
   "outputs": [],
   "source": [
    "Conditions  <- list(c(\"Dia T0\", \"Ctrl T0\"),\n",
    "                    c(\"Dia T0\", \"Dia T1\"),\n",
    "                    c(\"Dia T1\", \"Ctrl T0\"),\n",
    "                    c(\"PR_0 T0\", \"PR_1 T0\"),\n",
    "                    c(\"PR_0 T1\", \"PR_1 T1\"),\n",
    "                    c(\"PR_0 T0\", \"PR_0 T1\"),\n",
    "                    c(\"PR_1 T0\", \"PR_1 T1\"),\n",
    "                    c(\"Keto_1 T0\", \"Keto_0 T0\"))\n",
    "\n",
    "Conditions  %>% length\n",
    "\n",
    "dataset_list  <- cd4_l3_list\n",
    "\n",
    "# Function to calculate markers for a subsetted da for given conditions"
   ]
  },
  {
   "cell_type": "code",
   "execution_count": null,
   "id": "d2a5dcd1",
   "metadata": {},
   "outputs": [],
   "source": [
    "Create_Markers_DataFrame  <- function(j){\n",
    "     print(\"#######################\")\n",
    "    print(i)\n",
    "    print(j)\n",
    "    \n",
    "    Condition_1 = Conditions[[j]][1]\n",
    "    Condition_2 = Conditions[[j]][2]\n",
    "    \n",
    "    seurat_obj  <- dataset_list[[i]]\n",
    "        \n",
    "    if(grepl(Condition_1, pattern = \"PR\")){\n",
    "      seurat_obj$Condition  <- seurat_obj$Condition2\n",
    "    }\n",
    "    \n",
    "    if(grepl(Condition_1, pattern = \"Keto\")){\n",
    "      seurat_obj$Condition  <- seurat_obj$Keto_Time\n",
    "    }\n",
    "    \n",
    "    ## Create subsetted df\n",
    "        ds  <- subset(seurat_obj, Condition %in% c(Condition_1, Condition_2) & \n",
    "                  Experiment_ID %in% c(\"Exp16\", \"Exp18\", \"Exp19\", \"Exp20\"))\n",
    "        print(ds$Condition  %>% table)\n",
    "    \n",
    "    ## DESeq2\n",
    "     patient_metadata2  <- ds@meta.data  %>% \n",
    "    dplyr::select(Sample_ID, Patient_ID, Condition, Disease, Time, Experiment_ID)  %>% \n",
    "    unique  %>% ungroup\n",
    "    avgexp = AggregateExpression(ds,\n",
    "                           return.seurat = T, group.by = \"Sample_ID\", \n",
    "                          assay = \"RNA\", slot = \"counts\")\n",
    "    avgexp$Sample_ID  <- as.numeric(colnames(avgexp))\n",
    "    avgexp@meta.data  <- avgexp@meta.data   %>% left_join(patient_metadata2)\n",
    "    rownames(avgexp@meta.data)  <- colnames(avgexp)\n",
    "\n",
    "    Idents(avgexp)  <- avgexp$Condition\n",
    "\n",
    "    mrk_deseq  <- FindAllMarkers(avgexp, min.pct = 0.05, test.use = \"DESeq2\", only.pos = T)\n",
    "    \n",
    "    print(paste(\"DE RNA: \", nrow(mrk_deseq)))\n",
    "    \n",
    "        if(nrow(mrk_deseq)>0){\n",
    "            markers2  <- mrk_deseq\n",
    "           \n",
    "            } else {\n",
    "          markers2  <- data.frame(p_val = NA_integer_, avg_log2FC = NA_integer_, pct.1 = NA_integer_,\n",
    "                                        pct.2 = NA_integer_, p_val_adj = NA_integer_, cluster = \"\", gene = \"\")\n",
    "                }\n",
    "        markers2$source  <- \"DESeq2\"\n",
    "        rownames(markers2)  <- NULL\n",
    "       markers2$test_type  <- paste(Conditions[[j]][1], \"vs\", Conditions[[j]][2])\n",
    "       print(\"..\")\n",
    "       markers2$dataset  <- names(dataset_list)[i]\n",
    "       return(markers2)\n",
    "}"
   ]
  },
  {
   "cell_type": "code",
   "execution_count": null,
   "id": "5d67744b",
   "metadata": {},
   "outputs": [],
   "source": [
    "for(i in 1:length(dataset_list)){\n",
    "\n",
    "print(\"######################################################################\")\n",
    "if(i > 1){\n",
    "suppressWarnings(rm(markers_sc, markers, markers1, markers_sc2, markers_sc_predia, markers_bulk, markers_bulk2))    \n",
    "}\n",
    "    \n",
    "mrk  <- map(.x = 1:8, Create_Markers_DataFrame)\n",
    "\n",
    "mrk  <- bind_rows(mrk) \n",
    "    \n",
    "if(i>1){ \n",
    "    all_markers  <- rbind(all_markers, mrk)\n",
    "} else {\n",
    "    all_markers  <- mrk\n",
    "}\n",
    "    \n",
    "    \n",
    "}"
   ]
  },
  {
   "cell_type": "code",
   "execution_count": null,
   "id": "60914fe8",
   "metadata": {
    "scrolled": true
   },
   "outputs": [],
   "source": [
    "all_markers  %>% arrange(p_val_adj)  %>% dplyr::filter(dataset == \"cd4_l1_full_filt\" & test_type == \"Dia T0 vs Ctrl T0\")"
   ]
  },
  {
   "cell_type": "code",
   "execution_count": null,
   "id": "eecfcc00",
   "metadata": {},
   "outputs": [],
   "source": [
    "dir.create(\"../tables/DESeq_markers/\")"
   ]
  },
  {
   "cell_type": "code",
   "execution_count": null,
   "id": "b1babefd",
   "metadata": {},
   "outputs": [],
   "source": [
    "write.csv(all_markers  %>% arrange(p_val_adj), \"../tables/DESeq_markers/cd4_deseq.csv\")"
   ]
  },
  {
   "cell_type": "code",
   "execution_count": null,
   "id": "4bdac8e4",
   "metadata": {},
   "outputs": [],
   "source": []
  },
  {
   "cell_type": "code",
   "execution_count": null,
   "id": "ad69c2bb",
   "metadata": {},
   "outputs": [],
   "source": [
    "avgexp = AverageExpression(subset(cd4_l1_full_filt, Experiment_ID %in% c(\"Exp16\",\"Exp18\",\"Exp19\",\"Exp20\")), \n",
    "                             return.seurat = F, group.by = \"Patient_Time\", \n",
    "                          assay = \"RNA\")\n",
    "\n"
   ]
  },
  {
   "cell_type": "code",
   "execution_count": null,
   "id": "c381e7bd",
   "metadata": {},
   "outputs": [],
   "source": [
    "plot_gene  <- function(gene){\n",
    "    df  <- as.data.frame(avgexp$RNA[which(rownames(avgexp$RNA)==gene),])  %>% rownames_to_column(\"Patient_Time\")\n",
    "    colnames(df)[2]  <- \"gene2\"\n",
    "    df  <-  df  %>% separate(Patient_Time, into = c(\"Patient\",\"Time\"), sep = \" \", remove = F)  %>% \n",
    "    mutate(group = ifelse(substr(Patient,1,1)==\"1\",\"Dia\",\"Ctrl\"))  %>% \n",
    "    mutate(Condition = paste(group, Time))\n",
    "   # print(df)\n",
    " p  <-    df  %>% ggplot(aes(x = Condition, y = gene2)) + \n",
    " geom_violin(alpha = 0.3, aes(fill = Condition), scale = \"width\") + \n",
    "stat_summary(fun = \"median\",\n",
    "               geom = \"crossbar\", \n",
    "               width = 0.75,\n",
    "               color = \"grey30\") +\n",
    "geom_beeswarm(size = 3, aes(fill = Condition), cex = 3, \n",
    "                shape = 21, color = \"black\", corral = \"random\") +\n",
    " stat_compare_means(label = \"p.format\", comparisons = list(c(1,2))) +\n",
    "scale_fill_manual(values = c(\"#1874cdff\",  \"#ee6363ff\", \"#c41515ff\",\"#eeb4b4ff\")) +\n",
    "scale_color_manual(values = c(\"dodgerblue3\",  \"#e54c4cff\", \"#aa2a2aff\",\"#e88989ff\")) +\n",
    "ylab(\"\") +\n",
    "  xlab(\"\") +\n",
    "  ylim(0,NA) +\n",
    "  theme_classic() +\n",
    "theme(strip.background = element_blank(), panel.grid = element_blank()) + \n",
    "  theme(axis.text = element_text(color = \"black\"),\n",
    "        axis.text.x = element_text(angle = 90),\n",
    "       axis.line = element_line(color = \"black\", size = 0.5),\n",
    "        axis.ticks.x = element_blank()) +\n",
    "  ggtitle(gene) + ggtheme()\n",
    "    \n",
    "    p2  <-    df  %>% dplyr::filter(Patient != 116)  %>% ggplot(aes(x = Condition, y = gene2)) + \n",
    " geom_violin(alpha = 0.3, aes(fill = Condition), scale = \"width\") + \n",
    "stat_summary(fun = \"median\",\n",
    "               geom = \"crossbar\", \n",
    "               width = 0.75,\n",
    "               color = \"grey30\") +\n",
    "geom_beeswarm(size = 3, aes(fill = Condition), cex = 3, \n",
    "                shape = 21, color = \"black\", corral = \"random\") +\n",
    " stat_compare_means(label = \"p.format\", comparisons = list(c(2,3)), paired = TRUE) +\n",
    "scale_fill_manual(values = c(\"#1874cdff\",  \"#ee6363ff\", \"#c41515ff\",\"#eeb4b4ff\")) +\n",
    "scale_color_manual(values = c(\"dodgerblue3\",  \"#e54c4cff\", \"#aa2a2aff\",\"#e88989ff\")) +\n",
    "ylab(\"\") +\n",
    "  xlab(\"\") +\n",
    "  ylim(0,NA) +\n",
    "  theme_classic() +\n",
    "theme(strip.background = element_blank(), panel.grid = element_blank()) + \n",
    "  theme(axis.text = element_text(color = \"black\"),\n",
    "        axis.text.x = element_text(angle = 90),\n",
    "       axis.line = element_line(color = \"black\", size = 0.5),\n",
    "        axis.ticks.x = element_blank()) +\n",
    "  ggtitle(gene) + ggtheme()\n",
    "    p  <- p + p2\n",
    "    return(p)\n",
    "    }"
   ]
  },
  {
   "cell_type": "code",
   "execution_count": null,
   "id": "7e19e9a2",
   "metadata": {},
   "outputs": [],
   "source": []
  },
  {
   "cell_type": "code",
   "execution_count": null,
   "id": "c7593125",
   "metadata": {},
   "outputs": [],
   "source": [
    "plot_gene(\"CCL4\")"
   ]
  },
  {
   "cell_type": "code",
   "execution_count": null,
   "id": "4b52e5a5",
   "metadata": {},
   "outputs": [],
   "source": [
    "plot_gene(\"ASCL2\")"
   ]
  },
  {
   "cell_type": "code",
   "execution_count": null,
   "id": "c2b28e3b",
   "metadata": {},
   "outputs": [],
   "source": [
    "plot_gene(\"NFKBID\")"
   ]
  },
  {
   "cell_type": "code",
   "execution_count": null,
   "id": "ca265036",
   "metadata": {},
   "outputs": [],
   "source": []
  },
  {
   "cell_type": "markdown",
   "id": "c97ad171",
   "metadata": {},
   "source": [
    "## DE genes with correction for sex-related genes"
   ]
  },
  {
   "cell_type": "code",
   "execution_count": null,
   "id": "66ce77b7",
   "metadata": {},
   "outputs": [],
   "source": [
    "# Function to calculate markers for a subsetted da for given conditions\n",
    "\n",
    "Create_Sex_Markers_DataFrame  <- function(i){\n",
    "    \n",
    "    ds  <- dataset_list[[i]]\n",
    "   \n",
    "    ## scRNAseq - RNA\n",
    "    DefaultAssay(ds)  <- \"RNA\"\n",
    "        Idents(ds)  <- ds$Sex\n",
    "        markers_sc  <- FindAllMarkers(ds, only.pos = T)\n",
    "        markers_sc$source  <- \"Sex_RNA\"\n",
    "        rownames(markers_sc)  <- NULL\n",
    "    print(paste(\"DE RNA: \", nrow(markers_sc)))\n",
    "    \n",
    "    ## scRNAseq - collecTRI\n",
    "    DefaultAssay(ds)  <- \"CollecTRI\"\n",
    "        Idents(ds)  <- ds$Sex\n",
    "        markers_sc2  <- FindAllMarkers(ds, only.pos = T)\n",
    "        markers_sc2$source  <- \"Sex_collecTRI\"\n",
    "        rownames(markers_sc2)  <- NULL\n",
    "    print(paste(\"DE CollecTRI: \", nrow(markers_sc2)))\n",
    "    \n",
    "    if(nrow(markers_sc2)>0 & nrow(markers_sc)>0){ \n",
    "            markers2 <- rbind(markers_sc, markers_sc2) } else {\n",
    "        if(nrow(markers_sc)>0){\n",
    "            markers2  <- markers_sc\n",
    "            } else {\n",
    "            if(nrow(markers_sc2)>0){\n",
    "                markers2  <- markers_sc2\n",
    "            \n",
    "            } else {\n",
    "                markers2  <- NULL\n",
    "                }\n",
    "        }\n",
    "        }\n",
    "    \n",
    "        markers2$test_type  <- \"Sex\"\n",
    "        print(\"..\")\n",
    "        markers2$dataset  <- names(dataset_list)[i]\n",
    "        return(markers2)\n",
    "}\n"
   ]
  },
  {
   "cell_type": "code",
   "execution_count": null,
   "id": "110938df",
   "metadata": {
    "scrolled": true
   },
   "outputs": [],
   "source": [
    "\n",
    "    \n",
    "mrk  <- map(.x = 1:length(dataset_list), Create_Sex_Markers_DataFrame)\n",
    "\n",
    "mrk  <- bind_rows(mrk) \n"
   ]
  },
  {
   "cell_type": "code",
   "execution_count": null,
   "id": "12eadd3a",
   "metadata": {
    "scrolled": true
   },
   "outputs": [],
   "source": [
    "mrk"
   ]
  },
  {
   "cell_type": "code",
   "execution_count": null,
   "id": "f7d7ad6d",
   "metadata": {},
   "outputs": [],
   "source": [
    "dir.create(\"../tables/de_genes\")\n",
    "\n",
    "write.csv(all_markers, \"../tables/de_genes/240319_markers_full_cd4_with_collecTRI.csv\", row.names = F)"
   ]
  },
  {
   "cell_type": "code",
   "execution_count": null,
   "id": "006e347d",
   "metadata": {},
   "outputs": [],
   "source": [
    "write.csv(mrk, \"../tables/de_genes/240319_markers_full_cd4_sex.csv\", row.names = F)"
   ]
  },
  {
   "cell_type": "code",
   "execution_count": null,
   "id": "971b6024",
   "metadata": {},
   "outputs": [],
   "source": [
    "# Create filtered marker list without Sex genes\n",
    "\n",
    "for(i in 1:length(dataset_list)){\n",
    "\n",
    "filt_df  <- all_markers  %>% dplyr::filter(dataset == names(dataset_list)[i])\n",
    "genes_to_remove  <- mrk  %>% dplyr::filter(dataset == names(dataset_list)[i])  %>% pull(gene) \n",
    "\n",
    "markers_without_sex  <- dplyr::filter(filt_df, !(gene %in% genes_to_remove))\n",
    "     \n",
    "if(i>1){ \n",
    "    all_markers_without_sex  <- rbind(all_markers_without_sex, markers_without_sex)\n",
    "} else {\n",
    "    all_markers_without_sex  <- markers_without_sex\n",
    "}\n",
    "    \n",
    "    \n",
    "}"
   ]
  },
  {
   "cell_type": "code",
   "execution_count": null,
   "id": "3d478600",
   "metadata": {},
   "outputs": [],
   "source": [
    "nrow(all_markers)"
   ]
  },
  {
   "cell_type": "code",
   "execution_count": null,
   "id": "1b0b13cc",
   "metadata": {},
   "outputs": [],
   "source": [
    "nrow(all_markers_without_sex)"
   ]
  },
  {
   "cell_type": "code",
   "execution_count": null,
   "id": "b1c243de",
   "metadata": {},
   "outputs": [],
   "source": [
    "write.csv(all_markers_without_sex, \"../tables/de_genes/240319_cd4_all_markers_without_sex.csv\", row.names = F)"
   ]
  },
  {
   "cell_type": "code",
   "execution_count": null,
   "id": "87206c7d",
   "metadata": {
    "scrolled": true
   },
   "outputs": [],
   "source": [
    "all_markers_without_sex$dataset %>% table"
   ]
  },
  {
   "cell_type": "markdown",
   "id": "b446f76a",
   "metadata": {},
   "source": [
    "## DE genes in SNP variant"
   ]
  },
  {
   "cell_type": "code",
   "execution_count": null,
   "id": "85e1ff5d",
   "metadata": {},
   "outputs": [],
   "source": [
    "snp_meta  <- read_csv(\"../data/snp_meta_our_paitents.csv\")"
   ]
  },
  {
   "cell_type": "code",
   "execution_count": null,
   "id": "e5c3245e",
   "metadata": {},
   "outputs": [],
   "source": [
    "snp_meta$`...1`  <- NULL"
   ]
  },
  {
   "cell_type": "code",
   "execution_count": null,
   "id": "5af95c16",
   "metadata": {
    "scrolled": true
   },
   "outputs": [],
   "source": [
    "snp_meta"
   ]
  },
  {
   "cell_type": "code",
   "execution_count": null,
   "id": "7be6eade",
   "metadata": {},
   "outputs": [],
   "source": [
    "snp_meta$PTPN22_rs2476601 %>% table\n",
    "snp_meta$IFIH1_rs1990760 %>% table\n",
    "snp_meta$CD226_rs763361 %>% table\n",
    "snp_meta$CD69_rs4763879 %>% table\n",
    "snp_meta$TYK2_rs2304256 %>% table\n",
    "snp_meta$UBASH3A_rs876498 %>% table"
   ]
  },
  {
   "cell_type": "code",
   "execution_count": null,
   "id": "2fbc44f2",
   "metadata": {},
   "outputs": [],
   "source": [
    "snp_meta  <- snp_meta  %>% dplyr::select(Patient_ID, PTPN22_rs2476601, IFIH1_rs1990760,\n",
    "                                         CD226_rs763361, CD69_rs4763879,\n",
    "                                        TYK2_rs2304256, UBASH3A_rs876498)"
   ]
  },
  {
   "cell_type": "code",
   "execution_count": null,
   "id": "a6c0ac7a",
   "metadata": {},
   "outputs": [],
   "source": [
    "snp_meta$PTPN22_rs2476601   <- ifelse(snp_meta$PTPN22_rs2476601 %in% c(\"AA\",\"AG\",\"GG\"), snp_meta$PTPN22_rs2476601, NA_character_)"
   ]
  },
  {
   "cell_type": "code",
   "execution_count": null,
   "id": "d32bce8e",
   "metadata": {},
   "outputs": [],
   "source": [
    "snp_meta$TYK2_rs2304256 %>% table"
   ]
  },
  {
   "cell_type": "code",
   "execution_count": null,
   "id": "01e9cbff",
   "metadata": {},
   "outputs": [],
   "source": [
    "snp_meta$TYK2_rs2304256   <- ifelse(snp_meta$TYK2_rs2304256 %in% c(\"AA\",\"AC\",\"CC\"), snp_meta$TYK2_rs2304256, NA_character_)"
   ]
  },
  {
   "cell_type": "code",
   "execution_count": null,
   "id": "c449cb5b",
   "metadata": {},
   "outputs": [],
   "source": [
    "snp_meta$CD226_rs763361  <- ifelse(snp_meta$CD226_rs763361 %in% c(\"CC\",\"CT\",\"TT\"), snp_meta$CD226_rs763361, NA_character_)"
   ]
  },
  {
   "cell_type": "code",
   "execution_count": null,
   "id": "ec1f3c89",
   "metadata": {},
   "outputs": [],
   "source": [
    "snp_meta$CD69_rs4763879  <- ifelse(snp_meta$CD69_rs4763879 %in% c(\"AA\",\"AG\",\"GG\"), snp_meta$CD69_rs4763879, NA_character_)"
   ]
  },
  {
   "cell_type": "code",
   "execution_count": null,
   "id": "438c3e6b",
   "metadata": {},
   "outputs": [],
   "source": [
    "snp_meta$UBASH3A_rs876498 %>% table"
   ]
  },
  {
   "cell_type": "code",
   "execution_count": null,
   "id": "2aa23f58",
   "metadata": {},
   "outputs": [],
   "source": [
    "snp_meta$UBASH3A_rs876498  <- ifelse(snp_meta$UBASH3A_rs876498 %in% c(\"AA\",\"AG\",\"GG\"), snp_meta$UBASH3A_rs876498, NA_character_)"
   ]
  },
  {
   "cell_type": "code",
   "execution_count": null,
   "id": "858cdff4",
   "metadata": {},
   "outputs": [],
   "source": [
    "snp_meta$PTPN22_rs2476601 %>% table\n",
    "snp_meta$IFIH1_rs1990760 %>% table\n",
    "snp_meta$CD226_rs763361 %>% table\n",
    "snp_meta$CD69_rs4763879 %>% table\n",
    "snp_meta$TYK2_rs2304256 %>% table\n",
    "snp_meta$UBASH3A_rs876498 %>% table"
   ]
  },
  {
   "cell_type": "code",
   "execution_count": null,
   "id": "70a84f4b",
   "metadata": {
    "scrolled": true
   },
   "outputs": [],
   "source": [
    "snp_meta"
   ]
  },
  {
   "cell_type": "code",
   "execution_count": null,
   "id": "a919cb4c",
   "metadata": {},
   "outputs": [],
   "source": [
    "# Function to calculate markers for a subsetted da for given conditions\n",
    "\n",
    "Create_SNP_Markers_DataFrame  <- function(i){\n",
    "    \n",
    "    ds  <- dataset_list[[i]]\n",
    "    \n",
    "    for(j in 2:ncol(snp_meta)){\n",
    "        \n",
    "    one_snp_meta  <- dplyr::select(snp_meta, 1,j)\n",
    "    one_snp_meta$Patient_ID  <- as.character(one_snp_meta$Patient_ID)\n",
    "        colnames(one_snp_meta)[2]  <- \"variant\"\n",
    "    ds@meta.data  <- left_join(ds@meta.data, one_snp_meta)\n",
    "    rownames(ds@meta.data)  <- colnames(ds)\n",
    "    \n",
    "    ## scRNAseq - RNA\n",
    "    DefaultAssay(ds)  <- \"RNA\"\n",
    "        Idents(ds)  <- ds$variant\n",
    "        markers_sc  <- FindAllMarkers(ds, only.pos = F)\n",
    "        markers_sc$source  <- paste(colnames(snp_meta)[j], \"RNA\")\n",
    "        rownames(markers_sc)  <- NULL\n",
    "    print(paste(\"DE RNA: \", nrow(markers_sc)))\n",
    "    \n",
    "    ## scRNAseq - collecTRI\n",
    "    DefaultAssay(ds)  <- \"CollecTRI\"\n",
    "       Idents(ds)  <- ds$variant\n",
    "        markers_sc2  <- FindAllMarkers(ds, only.pos = F)\n",
    "        markers_sc2$source  <- paste(colnames(snp_meta)[j], \"CollecTRI\")\n",
    "        rownames(markers_sc2)  <- NULL\n",
    "    print(paste(\"DE CollecTRI: \", nrow(markers_sc2)))\n",
    "    \n",
    "    if(nrow(markers_sc2)>0 & nrow(markers_sc)>0){ \n",
    "            markers2 <- rbind(markers_sc, markers_sc2) } else {\n",
    "        if(nrow(markers_sc)>0){\n",
    "            markers2  <- markers_sc\n",
    "            } else {\n",
    "            if(nrow(markers_sc2)>0){\n",
    "                markers2  <- markers_sc2\n",
    "            \n",
    "            } else {\n",
    "                markers2  <- NULL\n",
    "                }\n",
    "        }\n",
    "        }\n",
    "        \n",
    "        if(j>2){\n",
    "            markers3  <- rbind(markers3, markers2)\n",
    "        } else {\n",
    "        markers3  <- markers2    \n",
    "        }\n",
    "        \n",
    "        ds$variant  <- NULL\n",
    "        \n",
    "        }\n",
    "    \n",
    "        markers3$test_type  <- \"SNP\"\n",
    "        print(\"..\")\n",
    "        markers3$dataset  <- names(dataset_list)[i]\n",
    "        return(markers3)\n",
    "}\n"
   ]
  },
  {
   "cell_type": "code",
   "execution_count": null,
   "id": "cafa6898",
   "metadata": {},
   "outputs": [],
   "source": [
    "dataset_list  <- cd4_l3_list"
   ]
  },
  {
   "cell_type": "code",
   "execution_count": null,
   "id": "6d565e42",
   "metadata": {
    "scrolled": true
   },
   "outputs": [],
   "source": [
    "   \n",
    "mrk  <- map(.x = 1:length(dataset_list), Create_SNP_Markers_DataFrame)\n",
    "\n",
    "mrk  <- bind_rows(mrk) \n"
   ]
  },
  {
   "cell_type": "code",
   "execution_count": null,
   "id": "0035b641",
   "metadata": {
    "scrolled": true
   },
   "outputs": [],
   "source": [
    "mrk"
   ]
  },
  {
   "cell_type": "code",
   "execution_count": null,
   "id": "4b127411",
   "metadata": {},
   "outputs": [],
   "source": [
    "write.csv(mrk, \"../tables/de_genes/240315_snp_cd4.csv\")"
   ]
  },
  {
   "cell_type": "code",
   "execution_count": null,
   "id": "a5bec8dc",
   "metadata": {},
   "outputs": [],
   "source": [
    "mrk  %>% dplyr::filter(gene %in% c(\"PTPN22\",\"IFIH1\",\"CD69\",\"CD226\",\"UBASH3A\",\"TYK2\"))"
   ]
  },
  {
   "cell_type": "code",
   "execution_count": null,
   "id": "132a96d9",
   "metadata": {
    "scrolled": true
   },
   "outputs": [],
   "source": [
    "mrk  %>% group_by(cluster, source)  %>% tally  %>% arrange(source)"
   ]
  },
  {
   "cell_type": "code",
   "execution_count": null,
   "id": "5178f7ca",
   "metadata": {
    "scrolled": true
   },
   "outputs": [],
   "source": [
    "mrk  %>% filter(grepl(source, pattern = \"RNA\")) %>% group_by(gene)  %>% tally  %>% arrange(desc(n)) "
   ]
  },
  {
   "cell_type": "markdown",
   "id": "bd33fa16",
   "metadata": {},
   "source": [
    "## Analysis of DE genes"
   ]
  },
  {
   "cell_type": "code",
   "execution_count": null,
   "id": "8c45488b",
   "metadata": {
    "scrolled": true
   },
   "outputs": [],
   "source": [
    "library(EnsDb.Hsapiens.v86)"
   ]
  },
  {
   "cell_type": "code",
   "execution_count": null,
   "id": "19d2463a",
   "metadata": {},
   "outputs": [],
   "source": [
    "geneIDs1 <- ensembldb::select(EnsDb.Hsapiens.v86, keys= all_markers_without_sex$gene, \n",
    "                              keytype = \"SYMBOL\", columns = c(\"SYMBOL\",\"ENTREZID\"))"
   ]
  },
  {
   "cell_type": "code",
   "execution_count": null,
   "id": "4beed75c",
   "metadata": {
    "scrolled": true
   },
   "outputs": [],
   "source": [
    "geneIDs1"
   ]
  },
  {
   "cell_type": "code",
   "execution_count": null,
   "id": "d246f594",
   "metadata": {},
   "outputs": [],
   "source": [
    "colnames(geneIDs1)  <- c(\"gene\", \"entrezid\")"
   ]
  },
  {
   "cell_type": "code",
   "execution_count": null,
   "id": "cd7659ca",
   "metadata": {
    "scrolled": true
   },
   "outputs": [],
   "source": [
    "all_markers_without_sex"
   ]
  },
  {
   "cell_type": "markdown",
   "id": "3a2bd427",
   "metadata": {},
   "source": [
    "## Ctrl vs Dia T0"
   ]
  },
  {
   "cell_type": "markdown",
   "id": "bf431eb9",
   "metadata": {},
   "source": [
    "### RNA"
   ]
  },
  {
   "cell_type": "code",
   "execution_count": null,
   "id": "0bb0942c",
   "metadata": {},
   "outputs": [],
   "source": [
    "genes_Dia_vs_Ctrl_T0  <- all_markers_without_sex  %>% \n",
    "dplyr::filter(test_type == \"Ctrl T0 vs Dia T0\" & source == \"scRNAseq_RNA\")  %>% \n",
    "group_by(gene)  %>% tally()  %>% arrange(desc(n))  %>% pull(gene)"
   ]
  },
  {
   "cell_type": "code",
   "execution_count": null,
   "id": "61cc876a",
   "metadata": {},
   "outputs": [],
   "source": [
    "genes_Dia_vs_Ctrl_T0"
   ]
  },
  {
   "cell_type": "code",
   "execution_count": null,
   "id": "9efcdf1c",
   "metadata": {},
   "outputs": [],
   "source": [
    "genes_Dia_vs_Ctrl_T0  %>% length"
   ]
  },
  {
   "cell_type": "code",
   "execution_count": null,
   "id": "4daab0b8",
   "metadata": {},
   "outputs": [],
   "source": [
    "lvl  <- all_markers_without_sex  %>% dplyr::filter(test_type == \"Ctrl T0 vs Dia T0\" & source == \"scRNAseq_RNA\")  %>% \n",
    "group_by(gene, cluster)  %>% arrange(cluster)  %>% pull(gene)  %>% unique"
   ]
  },
  {
   "cell_type": "code",
   "execution_count": null,
   "id": "3dab12e9",
   "metadata": {
    "scrolled": true
   },
   "outputs": [],
   "source": [
    "all_markers_without_sex  %>% dplyr::filter(test_type == \"Ctrl T0 vs Dia T0\" & source == \"scRNAseq_RNA\")  %>% \n",
    "group_by(gene)  %>% tally  %>% arrange(desc(n))"
   ]
  },
  {
   "cell_type": "code",
   "execution_count": null,
   "id": "be693c81",
   "metadata": {},
   "outputs": [],
   "source": [
    "is.more.than.one.cluster  <- all_markers_without_sex  %>% \n",
    "dplyr::filter(test_type == \"Ctrl T0 vs Dia T0\" & source == \"scRNAseq_RNA\")  %>% \n",
    "group_by(gene)  %>% tally  %>% arrange(desc(n))  %>% dplyr::filter(n>1)  %>% pull(gene)"
   ]
  },
  {
   "cell_type": "code",
   "execution_count": null,
   "id": "f4c4e7ba",
   "metadata": {
    "scrolled": true
   },
   "outputs": [],
   "source": [
    "is.more.than.one.cluster"
   ]
  },
  {
   "cell_type": "code",
   "execution_count": null,
   "id": "5d8bc0d1",
   "metadata": {},
   "outputs": [],
   "source": [
    "options(repr.plot.height = 4, repr.plot.width = 20)\n",
    "all_markers_without_sex  %>% \n",
    "dplyr::filter(test_type == \"Ctrl T0 vs Dia T0\" & \n",
    "              gene %in% genes_Dia_vs_Ctrl_T0 & \n",
    "              source == \"scRNAseq_RNA\" )  %>%  \n",
    "mutate(cluster_source = paste(cluster, source))  %>% \n",
    "ggplot(aes(factor(gene, levels = lvl), dataset)) + \n",
    "  geom_point(aes(size = -log(p_val_adj, base = 10), colour = cluster_source)) + \n",
    "  theme_bw()  + scale_size_continuous(range=c(1,4)) +\n",
    "  #scale_colour_gradient2(low = \"lightskyblue\", mid = \"lightsteelblue2\", high = \"salmon\") + \n",
    " theme(axis.text.x = element_text(angle = 90))"
   ]
  },
  {
   "cell_type": "code",
   "execution_count": null,
   "id": "b5f1f50c",
   "metadata": {},
   "outputs": [],
   "source": [
    "options(repr.plot.height = 4, repr.plot.width = 20)\n",
    "all_markers_without_sex  %>% \n",
    "dplyr::filter(test_type == \"Ctrl T0 vs Dia T0\" & \n",
    "              gene %in% genes_Dia_vs_Ctrl_T0 & \n",
    "              source == \"scRNAseq_RNA\" & gene %in% is.more.than.one.cluster)  %>%  \n",
    "mutate(cluster_source = paste(cluster, source))  %>% \n",
    "ggplot(aes(factor(gene, levels = lvl), dataset)) + \n",
    "  geom_point(aes(size = -log(p_val_adj, base = 10), colour = cluster_source)) + \n",
    "  theme_bw()  + scale_size_continuous(range=c(1,4)) +\n",
    "  #scale_colour_gradient2(low = \"lightskyblue\", mid = \"lightsteelblue2\", high = \"salmon\") + \n",
    " theme(axis.text.x = element_text(angle = 90))"
   ]
  },
  {
   "cell_type": "markdown",
   "id": "22b131fb",
   "metadata": {},
   "source": [
    "### CollecTRI"
   ]
  },
  {
   "cell_type": "code",
   "execution_count": null,
   "id": "6c9ef40c",
   "metadata": {},
   "outputs": [],
   "source": [
    "genes_Dia_vs_Ctrl_T0  <- all_markers_without_sex  %>% dplyr::filter(test_type == \"Ctrl T0 vs Dia T0\" & source == \"scRNAseq_collecTRI\")  %>% \n",
    "group_by(gene)  %>% tally()  %>% arrange(desc(n))  %>% pull(gene)"
   ]
  },
  {
   "cell_type": "code",
   "execution_count": null,
   "id": "47b59703",
   "metadata": {},
   "outputs": [],
   "source": [
    "genes_Dia_vs_Ctrl_T0"
   ]
  },
  {
   "cell_type": "code",
   "execution_count": null,
   "id": "3e612276",
   "metadata": {},
   "outputs": [],
   "source": [
    "lvl  <- all_markers_without_sex  %>% dplyr::filter(test_type == \"Ctrl T0 vs Dia T0\" & source == \"scRNAseq_collecTRI\")  %>% \n",
    "group_by(gene, cluster)  %>% arrange(cluster)  %>% pull(gene)  %>% unique"
   ]
  },
  {
   "cell_type": "code",
   "execution_count": null,
   "id": "5b09da33",
   "metadata": {
    "scrolled": true
   },
   "outputs": [],
   "source": [
    "all_markers_without_sex  %>% dplyr::filter(test_type == \"Ctrl T0 vs Dia T0\" & source == \"scRNAseq_collecTRI\")  %>% \n",
    "group_by(gene)  %>% tally  %>% arrange(desc(n))"
   ]
  },
  {
   "cell_type": "code",
   "execution_count": null,
   "id": "5982318e",
   "metadata": {},
   "outputs": [],
   "source": []
  },
  {
   "cell_type": "code",
   "execution_count": null,
   "id": "f684ca3b",
   "metadata": {},
   "outputs": [],
   "source": [
    "is.more.than.one.cluster  <- all_markers_without_sex  %>% \n",
    "dplyr::filter(test_type == \"Ctrl T0 vs Dia T0\" & source == \"scRNAseq_collecTRI\")  %>% \n",
    "group_by(gene)  %>% tally  %>% arrange(desc(n))  %>% dplyr::filter(n>1)  %>% pull(gene)"
   ]
  },
  {
   "cell_type": "code",
   "execution_count": null,
   "id": "44d4775d",
   "metadata": {
    "scrolled": true
   },
   "outputs": [],
   "source": [
    "is.more.than.one.cluster"
   ]
  },
  {
   "cell_type": "code",
   "execution_count": null,
   "id": "98c8f6b1",
   "metadata": {},
   "outputs": [],
   "source": [
    "options(repr.plot.height = 4, repr.plot.width = 20)\n",
    "all_markers_without_sex  %>% \n",
    "dplyr::filter(test_type == \"Ctrl T0 vs Dia T0\" & \n",
    "              gene %in% genes_Dia_vs_Ctrl_T0 & \n",
    "              source == \"scRNAseq_collecTRI\" )  %>%  \n",
    "mutate(cluster_source = paste(cluster, source))  %>% \n",
    "ggplot(aes(factor(gene, levels = lvl), dataset)) + \n",
    "  geom_point(aes(size = -log(p_val_adj, base = 10), colour = cluster_source)) + \n",
    "  theme_bw()  + scale_size_continuous(range=c(1,4)) +\n",
    "  #scale_colour_gradient2(low = \"lightskyblue\", mid = \"lightsteelblue2\", high = \"salmon\") + \n",
    " theme(axis.text.x = element_text(angle = 90))"
   ]
  },
  {
   "cell_type": "code",
   "execution_count": null,
   "id": "e4e6ea34",
   "metadata": {},
   "outputs": [],
   "source": [
    "options(repr.plot.height = 4, repr.plot.width = 30)\n",
    "all_markers_without_sex  %>% \n",
    "dplyr::filter(test_type == \"Ctrl T0 vs Dia T0\" & \n",
    "              gene %in% genes_Dia_vs_Ctrl_T0 & \n",
    "              source == \"scRNAseq_collecTRI\" & gene %in% is.more.than.one.cluster)  %>%  \n",
    "mutate(cluster_source = paste(cluster, source))  %>% \n",
    "ggplot(aes(factor(gene, levels = lvl), dataset)) + \n",
    "  geom_point(aes(size = -log(p_val_adj, base = 10), colour = cluster_source)) + \n",
    "  theme_bw()  + scale_size_continuous(range=c(1,4)) +\n",
    "  #scale_colour_gradient2(low = \"lightskyblue\", mid = \"lightsteelblue2\", high = \"salmon\") + \n",
    " theme(axis.text.x = element_text(angle = 90))"
   ]
  },
  {
   "cell_type": "markdown",
   "id": "e89b9cc9",
   "metadata": {},
   "source": [
    "### GSEA"
   ]
  },
  {
   "cell_type": "code",
   "execution_count": null,
   "id": "3435ed54",
   "metadata": {},
   "outputs": [],
   "source": [
    "gsea_dia_t0_vs_ctrl_t0  <- all_markers3  %>% \n",
    "                        dplyr::filter(test_type == \"Ctrl T0 vs Dia T0\" & !is.na(entrezid))  %>% \n",
    "                        group_by(entrezid, avg_log2FC)  %>% \n",
    "                        tally()  %>% \n",
    "                        arrange(desc(n))  %>% \n",
    "                        pull(entrezid)\n",
    "\n",
    "gsea_dia_t0_vs_ctrl_t0_value  <- all_markers3  %>% \n",
    "                        dplyr::filter(test_type == \"Ctrl T0 vs Dia T0\" & !is.na(entrezid))  %>% \n",
    "                        group_by(entrezid, avg_log2FC)  %>% \n",
    "                        tally()  %>% \n",
    "                        arrange(desc(n))  %>% \n",
    "                        pull(avg_log2FC)"
   ]
  },
  {
   "cell_type": "code",
   "execution_count": null,
   "id": "32a4b994",
   "metadata": {},
   "outputs": [],
   "source": [
    "names(gsea_dia_t0_vs_ctrl_t0_value)  <- gsea_dia_t0_vs_ctrl_t0"
   ]
  },
  {
   "cell_type": "code",
   "execution_count": null,
   "id": "69672a3a",
   "metadata": {},
   "outputs": [],
   "source": [
    "gsea_dia_t0_vs_ctrl_t0_value  <- gsea_dia_t0_vs_ctrl_t0_value[rev(order(gsea_dia_t0_vs_ctrl_t0_value))]"
   ]
  },
  {
   "cell_type": "code",
   "execution_count": null,
   "id": "2f885321",
   "metadata": {
    "scrolled": true
   },
   "outputs": [],
   "source": [
    "gsea_dia_t0_vs_ctrl_t0_value"
   ]
  },
  {
   "cell_type": "code",
   "execution_count": null,
   "id": "355a91ec",
   "metadata": {},
   "outputs": [],
   "source": [
    "library(msigdbr)"
   ]
  },
  {
   "cell_type": "code",
   "execution_count": null,
   "id": "defa2879",
   "metadata": {},
   "outputs": [],
   "source": [
    "C3_t2g <- msigdbr(species = \"Homo sapiens\", category = \"C5\") %>% \n",
    "  dplyr::select(gs_name, entrez_gene)\n",
    "head(C3_t2g)"
   ]
  },
  {
   "cell_type": "code",
   "execution_count": null,
   "id": "59fdfef9",
   "metadata": {
    "scrolled": true
   },
   "outputs": [],
   "source": [
    "em2 <- GSEA(gsea_dia_t0_vs_ctrl_t0_value, TERM2GENE = C3_t2g)\n",
    "head(em2)"
   ]
  },
  {
   "cell_type": "code",
   "execution_count": null,
   "id": "3823b28c",
   "metadata": {},
   "outputs": [],
   "source": [
    "em2 "
   ]
  },
  {
   "cell_type": "code",
   "execution_count": null,
   "id": "2910ecb8",
   "metadata": {},
   "outputs": [],
   "source": [
    "options(repr.plot.width = 8, repr.plot.height = 6)\n",
    "dotplot(em2, showCategory=30) + ggtitle(\"CD4 Dia T0 vs Ctrl T0\")"
   ]
  },
  {
   "cell_type": "markdown",
   "id": "acac0167",
   "metadata": {},
   "source": [
    "### Enrichment"
   ]
  },
  {
   "cell_type": "code",
   "execution_count": null,
   "id": "b57062f5",
   "metadata": {},
   "outputs": [],
   "source": [
    "library(clusterProfiler)"
   ]
  },
  {
   "cell_type": "code",
   "execution_count": null,
   "id": "071e651e",
   "metadata": {},
   "outputs": [],
   "source": [
    "library(\"org.Hs.eg.db\")"
   ]
  },
  {
   "cell_type": "code",
   "execution_count": null,
   "id": "80df45d3",
   "metadata": {},
   "outputs": [],
   "source": [
    "up_dia_t0_vs_ctrl_t0  <- all_markers_without_sex  %>% \n",
    "                        dplyr::filter(test_type == \"Ctrl T0 vs Dia T0\" & cluster == \"Dia T0\")  %>% \n",
    "                        group_by(gene)  %>% \n",
    "                        tally()  %>% \n",
    "                        arrange(desc(n))  %>% \n",
    "                        pull(gene)\n",
    "down_dia_t0_vs_ctrl_t0  <- all_markers_without_sex  %>% \n",
    "                        dplyr::filter(test_type == \"Ctrl T0 vs Dia T0\" & cluster == \"Ctrl T0\")  %>% \n",
    "                        group_by(gene)  %>% \n",
    "                        tally()  %>% \n",
    "                        arrange(desc(n))  %>% \n",
    "                        pull(gene)"
   ]
  },
  {
   "cell_type": "code",
   "execution_count": null,
   "id": "daf7665b",
   "metadata": {},
   "outputs": [],
   "source": [
    "up_dia_t0_vs_ctrl_t0"
   ]
  },
  {
   "cell_type": "code",
   "execution_count": null,
   "id": "a696e9cd",
   "metadata": {},
   "outputs": [],
   "source": [
    "ego2 <- enrichGO(gene         = up_dia_t0_vs_ctrl_t0,\n",
    "                OrgDb         = org.Hs.eg.db,\n",
    "                keyType       = 'SYMBOL',\n",
    "                ont           = \"ALL\",\n",
    "                pAdjustMethod = \"BH\",\n",
    "                pvalueCutoff  = 0.01,\n",
    "                qvalueCutoff  = 0.05)\n",
    "head(ego2, 3)         \n",
    "\n",
    "options(repr.plot.width = 20, repr.plot.height = 5)\n",
    "\n",
    "edox2 <- pairwise_termsim(ego2)\n",
    "p1 <- treeplot(edox2)\n",
    "p2 <- treeplot(edox2, hclust_method = \"average\")\n",
    "p1 + ggtitle(\"Enriched in Dia\")"
   ]
  },
  {
   "cell_type": "code",
   "execution_count": null,
   "id": "7e93d814",
   "metadata": {},
   "outputs": [],
   "source": [
    "ego2  %>% as.data.frame()"
   ]
  },
  {
   "cell_type": "code",
   "execution_count": null,
   "id": "5e6ae605",
   "metadata": {},
   "outputs": [],
   "source": [
    "down_dia_t0_vs_ctrl_t0"
   ]
  },
  {
   "cell_type": "code",
   "execution_count": null,
   "id": "27c3a2b3",
   "metadata": {
    "scrolled": true
   },
   "outputs": [],
   "source": [
    "ego2 <- enrichGO(gene         = down_dia_t0_vs_ctrl_t0,\n",
    "                OrgDb         = org.Hs.eg.db,\n",
    "                keyType       = 'SYMBOL',\n",
    "                ont           = \"ALL\",\n",
    "                pAdjustMethod = \"BH\",\n",
    "                pvalueCutoff  = 0.01,\n",
    "                qvalueCutoff  = 0.05)\n",
    "head(ego2, 3)         \n",
    "\n",
    "options(repr.plot.width = 20, repr.plot.height = 5)\n",
    "\n",
    "edox2 <- pairwise_termsim(ego2)\n",
    "p1 <- treeplot(edox2)\n",
    "p2 <- treeplot(edox2, hclust_method = \"average\")\n",
    "p1 + ggtitle(\"Enriched in Ctrl\")"
   ]
  },
  {
   "cell_type": "code",
   "execution_count": null,
   "id": "f51dd55d",
   "metadata": {},
   "outputs": [],
   "source": [
    "ego2  %>% as.data.frame()"
   ]
  },
  {
   "cell_type": "code",
   "execution_count": null,
   "id": "d5034116",
   "metadata": {},
   "outputs": [],
   "source": [
    "edox <- setReadable(ego2, 'org.Hs.eg.db', 'ENTREZID')\n",
    "\n",
    "p3 <- cnetplot(edox, circular = TRUE, colorEdge = TRUE) \n",
    "p3"
   ]
  },
  {
   "cell_type": "code",
   "execution_count": null,
   "id": "47b95dbd",
   "metadata": {},
   "outputs": [],
   "source": [
    "as.data.frame(edox )"
   ]
  },
  {
   "cell_type": "markdown",
   "id": "40066112",
   "metadata": {},
   "source": [
    "## Ctrl vs Dia T1"
   ]
  },
  {
   "cell_type": "code",
   "execution_count": null,
   "id": "425ad36e",
   "metadata": {},
   "outputs": [],
   "source": [
    "genes_Dia_vs_Ctrl_T1  <- all_markers  %>% dplyr::filter(test_type == \"Ctrl T0 vs Dia T1\")  %>% \n",
    "group_by(gene)  %>% tally()  %>% arrange(desc(n))  %>% pull(gene)"
   ]
  },
  {
   "cell_type": "code",
   "execution_count": null,
   "id": "f3845699",
   "metadata": {},
   "outputs": [],
   "source": [
    "genes_Dia_vs_Ctrl_T1"
   ]
  },
  {
   "cell_type": "code",
   "execution_count": null,
   "id": "07ae0c7c",
   "metadata": {},
   "outputs": [],
   "source": [
    "lvl  <- all_markers  %>% dplyr::filter(test_type == \"Ctrl T0 vs Dia T1\")  %>% \n",
    "group_by(gene, cluster)  %>% arrange(cluster)  %>% pull(gene)  %>% unique"
   ]
  },
  {
   "cell_type": "code",
   "execution_count": null,
   "id": "3769725d",
   "metadata": {
    "scrolled": true
   },
   "outputs": [],
   "source": [
    "options(repr.plot.height = 4, repr.plot.width = 20)\n",
    "all_markers  %>% \n",
    "dplyr::filter(test_type == \"Ctrl T0 vs Dia T1\" & gene %in% genes_Dia_vs_Ctrl_T1  & source == \"scRNAseq\")  %>%  \n",
    "mutate(cluster_source = paste(cluster, source))  %>% \n",
    "ggplot(aes(factor(gene, levels = lvl), dataset)) + \n",
    "  geom_point(aes(size = -log(p_val_adj, base = 10), colour = cluster_source)) + \n",
    "  theme_bw()  + scale_size_continuous(range=c(1,4)) +\n",
    "  #scale_colour_gradient2(low = \"lightskyblue\", mid = \"lightsteelblue2\", high = \"salmon\") + \n",
    " theme(axis.text.x = element_text(angle = 90))"
   ]
  },
  {
   "cell_type": "code",
   "execution_count": null,
   "id": "883edec5",
   "metadata": {},
   "outputs": [],
   "source": [
    "up_dia_t1_vs_ctrl_t0  <- all_markers  %>% \n",
    "                        dplyr::filter(test_type == \"Ctrl T0 vs Dia T1\" & cluster == \"Dia T1\")  %>% \n",
    "                        group_by(gene)  %>% \n",
    "                        tally()  %>% \n",
    "                        arrange(desc(n))  %>% \n",
    "                        pull(gene)\n",
    "down_dia_t1_vs_ctrl_t0  <- all_markers  %>% \n",
    "                        dplyr::filter(test_type == \"Ctrl T0 vs Dia T1\" & cluster == \"Ctrl T0\")  %>% \n",
    "                        group_by(gene)  %>% \n",
    "                        tally()  %>% \n",
    "                        arrange(desc(n))  %>% \n",
    "                        pull(gene)"
   ]
  },
  {
   "cell_type": "code",
   "execution_count": null,
   "id": "4e2fb6b0",
   "metadata": {},
   "outputs": [],
   "source": [
    "up_dia_t1_vs_ctrl_t0"
   ]
  },
  {
   "cell_type": "code",
   "execution_count": null,
   "id": "8e4ce6c6",
   "metadata": {},
   "outputs": [],
   "source": [
    "down_dia_t1_vs_ctrl_t0salmo"
   ]
  },
  {
   "cell_type": "markdown",
   "id": "db56c1e1",
   "metadata": {},
   "source": [
    "### Dia T0 vs Dia T1"
   ]
  },
  {
   "cell_type": "code",
   "execution_count": null,
   "id": "e0b257f8",
   "metadata": {},
   "outputs": [],
   "source": [
    "genes_Dia_vs_Dia_T1  <- all_markers  %>% dplyr::filter(test_type == \"Dia T0 vs Dia T1\")  %>% \n",
    "group_by(gene)  %>% tally()  %>% arrange(desc(n))  %>% pull(gene)"
   ]
  },
  {
   "cell_type": "code",
   "execution_count": null,
   "id": "088b4509",
   "metadata": {},
   "outputs": [],
   "source": [
    "genes_Dia_vs_Dia_T1"
   ]
  },
  {
   "cell_type": "code",
   "execution_count": null,
   "id": "fc53b884",
   "metadata": {},
   "outputs": [],
   "source": [
    "lvl  <- all_markers  %>% dplyr::filter(test_type == \"Dia T0 vs Dia T1\")  %>% \n",
    "group_by(gene, cluster)  %>% arrange(cluster)  %>% pull(gene)  %>% unique"
   ]
  },
  {
   "cell_type": "code",
   "execution_count": null,
   "id": "586f5402",
   "metadata": {
    "scrolled": true
   },
   "outputs": [],
   "source": [
    "options(repr.plot.height = 4, repr.plot.width = 20)\n",
    "all_markers  %>% \n",
    "dplyr::filter(test_type == \"Dia T0 vs Dia T1\" & gene %in% genes_Dia_vs_Dia_T1 & source == \"scRNAseq\")  %>%  \n",
    "mutate(cluster_source = paste(cluster, source))  %>% \n",
    "ggplot(aes(factor(gene, levels = lvl), dataset)) + \n",
    "  geom_point(aes(size = -log(p_val_adj, base = 10), colour = cluster_source)) + \n",
    "  theme_bw()  + scale_size_continuous(range=c(1,4)) +\n",
    "  #scale_colour_gradient2(low = \"lightskyblue\", mid = \"lightsteelblue2\", high = \"salmon\") + \n",
    "theme(axis.text.x = element_text(angle = 90))"
   ]
  },
  {
   "cell_type": "code",
   "execution_count": null,
   "id": "11f1a4c5",
   "metadata": {},
   "outputs": [],
   "source": [
    "up_dia_t0_vs_dia_t1  <- all_markers  %>% \n",
    "                        dplyr::filter(test_type == \"Dia T0 vs Dia T1\" & cluster == \"Dia T0\")  %>% \n",
    "                        group_by(gene)  %>% \n",
    "                        tally()  %>% \n",
    "                        arrange(desc(n))  %>% \n",
    "                        pull(gene)\n",
    "down_dia_t0_vs_dia_t1  <- all_markers  %>% \n",
    "                        dplyr::filter(test_type == \"Dia T0 vs Dia T1\" & cluster == \"Dia T1\")  %>% \n",
    "                        group_by(gene)  %>% \n",
    "                        tally()  %>% \n",
    "                        arrange(desc(n))  %>% \n",
    "                        pull(gene)"
   ]
  },
  {
   "cell_type": "markdown",
   "id": "ca70ed8a",
   "metadata": {},
   "source": [
    "## Table with markers"
   ]
  },
  {
   "cell_type": "code",
   "execution_count": null,
   "id": "4a981c3f",
   "metadata": {},
   "outputs": [],
   "source": [
    "markers  <- c('GADD45B',\n",
    "              'DUSP1', 'CD69', 'FOS', \n",
    "              'IFI6', 'ISG15', 'IFI44L', 'LY6E', \n",
    "              'FKBP5','MX1', 'TNFAIP3', 'BTN3A2',\n",
    "              'DUSP2', \n",
    "               'GIMAP7', 'IER2', 'IFIT3', 'IFITM1', 'IRF1', 'JUN', \n",
    "               'OAS1', 'PDE4B', 'PTPRJ', \n",
    "               'SOCS3', \n",
    "              'STAT1', 'GIMAP4',\n",
    "               'BCL11B', 'BCL2', 'BIN3', 'BTG1', \n",
    "               'CALR', 'CCR10', 'CD53', 'CD6', 'CENPK', \n",
    "              'CX3CR1', 'CXCR4', \n",
    "              'TNFSF10', 'CCL4', 'CCL5', \n",
    "              'DUSP5',\n",
    "               'ENTPD6',  'FOSB',  'GZMB', 'ID2', 'ID3', 'NKG7', \n",
    "               'HLA-DPA1', \n",
    "              'HLA-DRB1','IFI44', 'IFIT1', 'IFIT2', 'IRF7', 'ITPKB', \n",
    "              'JUNB',  'LEF1', 'LGALS1', \n",
    "              'TNFSF10', 'NFKBIA', \n",
    "              'NIBAN1',  'PDE4D', 'CD27','GNLY', 'GZMH','TNF','TNFAIP8L2', 'TRAF3IP3', \n",
    "              'IL16', 'IL7R','ORAI1', \n",
    "              'PIK3R1', 'PRSS2', 'PRSS23',  'PTPRCAP', 'S1PR1', 'TCF7', 'TIGIT', 'TMEM256', 'TNIP1', 'TSC22D3')"
   ]
  },
  {
   "cell_type": "code",
   "execution_count": null,
   "id": "3a24c9a3",
   "metadata": {},
   "outputs": [],
   "source": [
    "markers  <- c('TAB1', 'CHUK', 'TAB2', 'TAB3', 'IKBKB', 'NFKB1', 'NFKBIA', 'RELA', 'MAP3K7', \n",
    "                    'TNF', 'TNFRSF1A', 'TRAF2', 'TRAF5', 'IKBKG', 'TRADD', 'RIPK1')[which(c('TAB1', 'CHUK', 'TAB2', 'TAB3', 'IKBKB', 'NFKB1', 'NFKBIA', 'RELA', 'MAP3K7', \n",
    "                    'TNF', 'TNFRSF1A', 'TRAF2', 'TRAF5', 'IKBKG', 'TRADD', 'RIPK1') %in% rownames(cd4_l1_full_filt@assays$RNA))]"
   ]
  },
  {
   "cell_type": "code",
   "execution_count": null,
   "id": "cb8d387d",
   "metadata": {
    "scrolled": true
   },
   "outputs": [],
   "source": [
    "all_markers  %>%\n",
    "    mutate(avg_log2FC = ifelse(cluster == \"Ctrl T0\",-1*avg_log2FC, avg_log2FC))  %>% \n",
    "    dplyr::filter(source == \"scRNAseq\" & test_type != \"Cpept_HI_T1 vs Cpept_LO_T1\" &\n",
    "                 test_type != \"Cpept_HI_T0 vs Cpept_LO_T0\")  %>% \n",
    "pivot_wider(names_from = cluster, values_from = avg_log2FC, values_fn = mean)"
   ]
  },
  {
   "cell_type": "code",
   "execution_count": null,
   "id": "141a1af8",
   "metadata": {},
   "outputs": [],
   "source": [
    "cd4_l1_full_filt"
   ]
  },
  {
   "cell_type": "code",
   "execution_count": null,
   "id": "371fdb1f",
   "metadata": {},
   "outputs": [],
   "source": [
    "Idents(cd4_l1_full_filt)  <- cd4_l1_full_filt$Condition"
   ]
  },
  {
   "cell_type": "code",
   "execution_count": null,
   "id": "e2033a98",
   "metadata": {},
   "outputs": [],
   "source": [
    "fc1  <- FoldChange(cd4_l1_full_filt, assay = \"RNA\",\n",
    "                   `ident.1` = \"Dia T0\", `ident.2` = \"Ctrl T0\", features = markers)"
   ]
  },
  {
   "cell_type": "code",
   "execution_count": null,
   "id": "1bbc7ecf",
   "metadata": {
    "scrolled": true
   },
   "outputs": [],
   "source": [
    "fc1"
   ]
  },
  {
   "cell_type": "code",
   "execution_count": null,
   "id": "9bc71092",
   "metadata": {},
   "outputs": [],
   "source": [
    "fc2  <- FoldChange(cd4_l1_full_filt, assay = \"RNA\",\n",
    "                   `ident.1` = \"Dia T1\", `ident.2` = \"Ctrl T0\", features = markers)"
   ]
  },
  {
   "cell_type": "code",
   "execution_count": null,
   "id": "db81da7c",
   "metadata": {
    "scrolled": true
   },
   "outputs": [],
   "source": [
    "fc2"
   ]
  },
  {
   "cell_type": "code",
   "execution_count": null,
   "id": "f637be13",
   "metadata": {
    "scrolled": true
   },
   "outputs": [],
   "source": [
    "fc3  <- FoldChange(cd4_l1_full_filt, assay = \"RNA\",\n",
    "                   `ident.1` = \"Dia T0\", `ident.2` = \"Dia T1\", features = markers)"
   ]
  },
  {
   "cell_type": "code",
   "execution_count": null,
   "id": "5b15ecf2",
   "metadata": {
    "scrolled": true
   },
   "outputs": [],
   "source": [
    "fc3"
   ]
  },
  {
   "cell_type": "code",
   "execution_count": null,
   "id": "d68c8b45",
   "metadata": {
    "scrolled": true
   },
   "outputs": [],
   "source": [
    "fc4  <- FoldChange(cd4_l1_full_filt, assay = \"RNA\",\n",
    "                   `ident.1` = \"Dia T0\", `ident.2` = \"Pre-Dia T0\", features = markers)\n",
    "\n",
    "fc4"
   ]
  },
  {
   "cell_type": "code",
   "execution_count": null,
   "id": "1027a885",
   "metadata": {
    "scrolled": true
   },
   "outputs": [],
   "source": [
    "fc5  <- FoldChange(cd4_l1_full_filt, assay = \"RNA\",\n",
    "                   `ident.1` = \"Pre-Dia T0\", `ident.2` = \"Ctrl T0\", features = markers)\n",
    "\n",
    "fc5"
   ]
  },
  {
   "cell_type": "code",
   "execution_count": null,
   "id": "97896275",
   "metadata": {},
   "outputs": [],
   "source": [
    "fc_all  <- data.frame(DiaT0_Ctrl = fc1$avg_log2FC, \n",
    "                      DiaT1_Ctrl = fc2$avg_log2FC,\n",
    "                      DiaT0_DiaT1 = fc3$avg_log2FC,\n",
    "                     DiaT0_PreDia = fc4$avg_log2FC,\n",
    "                     PreDia_Ctrl = fc5$avg_log2FC\n",
    "                     )"
   ]
  },
  {
   "cell_type": "code",
   "execution_count": null,
   "id": "5a0592f4",
   "metadata": {},
   "outputs": [],
   "source": [
    "rownames(fc_all)  <- rownames(fc1)"
   ]
  },
  {
   "cell_type": "code",
   "execution_count": null,
   "id": "bd5025af",
   "metadata": {
    "scrolled": true
   },
   "outputs": [],
   "source": [
    "fc_all  %>% as.matrix"
   ]
  },
  {
   "cell_type": "code",
   "execution_count": null,
   "id": "bbe5c0c9",
   "metadata": {},
   "outputs": [],
   "source": [
    "library(pheatmap)"
   ]
  },
  {
   "cell_type": "code",
   "execution_count": null,
   "id": "8b314fee",
   "metadata": {
    "scrolled": true
   },
   "outputs": [],
   "source": [
    "options(repr.plot.width = 4, repr.plot.height = 15)\n",
    "pheatmap(fc_all  %>% as.matrix, main = \"\", scale = \"none\", cluster_cols = F, cluster_rows = T,\n",
    "        color=colorRampPalette(c(\"dodgerblue\", \"grey95\", \"red\"))(50), \n",
    "         border_color = \"white\",\n",
    "                  fontsize = 9)"
   ]
  },
  {
   "cell_type": "markdown",
   "id": "7d2065da",
   "metadata": {},
   "source": [
    "#NFkb"
   ]
  },
  {
   "cell_type": "code",
   "execution_count": null,
   "id": "0c3aaf45",
   "metadata": {},
   "outputs": [],
   "source": [
    "options(repr.plot.width = 4, repr.plot.height = 9)\n",
    "pheatmap(fc_all  %>% as.matrix, main = \"\", scale = \"none\", cluster_cols = F, cluster_rows = T,\n",
    "        color=colorRampPalette(c(\"dodgerblue\", \"grey95\", \"red\"))(50), \n",
    "         border_color = \"white\",\n",
    "                  fontsize = 9)"
   ]
  },
  {
   "cell_type": "markdown",
   "id": "b29ae214",
   "metadata": {},
   "source": [
    "### Dia Cpep T0"
   ]
  },
  {
   "cell_type": "code",
   "execution_count": null,
   "id": "56854cf3",
   "metadata": {},
   "outputs": [],
   "source": [
    "all_markers$test_type  %>% table"
   ]
  },
  {
   "cell_type": "code",
   "execution_count": null,
   "id": "f3c7f4f4",
   "metadata": {},
   "outputs": [],
   "source": [
    "genes_Dia_cpept_T0  <- all_markers  %>% dplyr::filter(test_type == \"Cpept_HI_T0 vs Cpept_LO_T0\")  %>% \n",
    "group_by(gene)  %>% tally()  %>% arrange(desc(n))  %>% pull(gene)"
   ]
  },
  {
   "cell_type": "code",
   "execution_count": null,
   "id": "c0d7d127",
   "metadata": {},
   "outputs": [],
   "source": [
    "genes_Dia_cpept_T0"
   ]
  },
  {
   "cell_type": "code",
   "execution_count": null,
   "id": "7ab0987d",
   "metadata": {},
   "outputs": [],
   "source": [
    "lvl  <- all_markers  %>% dplyr::filter(test_type == \"Cpept_HI_T0 vs Cpept_LO_T0\")  %>% \n",
    "group_by(gene, cluster)  %>% arrange(cluster)  %>% pull(gene)  %>% unique"
   ]
  },
  {
   "cell_type": "code",
   "execution_count": null,
   "id": "eeb690fc",
   "metadata": {
    "scrolled": true
   },
   "outputs": [],
   "source": [
    "options(repr.plot.height = 40, repr.plot.width = 10)\n",
    "all_markers  %>% \n",
    "dplyr::filter(test_type == \"Cpept_HI_T0 vs Cpept_LO_T0\" & gene %in% genes_Dia_cpept_T0)  %>%  \n",
    "mutate(cluster_source = paste(cluster, source))  %>% \n",
    "ggplot(aes(factor(gene, levels = lvl), dataset)) + \n",
    "  geom_point(aes(size = -log(p_val_adj, base = 10), colour = cluster_source)) + \n",
    "  theme_bw()  + scale_size_continuous(range=c(1,4)) +\n",
    "  #scale_colour_gradient2(low = \"lightskyblue\", mid = \"lightsteelblue2\", high = \"salmon\") + \n",
    "coord_flip() + theme(axis.text.x = element_text(angle = 90))"
   ]
  },
  {
   "cell_type": "code",
   "execution_count": null,
   "id": "c260fb74",
   "metadata": {},
   "outputs": [],
   "source": [
    "up_dia_cpept_lo_vs_hi_t0  <- all_markers  %>% \n",
    "                        dplyr::filter(test_type == \"Cpept_HI_T0 vs Cpept_LO_T0\" & cluster == \"Cpept_LO_T0\")  %>% \n",
    "                        group_by(gene)  %>% \n",
    "                        tally()  %>% \n",
    "                        arrange(desc(n))  %>% \n",
    "                        pull(gene)\n",
    "down_dia_cpept_lo_vs_hi_t0  <- all_markers  %>% \n",
    "                        dplyr::filter(test_type == \"Cpept_HI_T0 vs Cpept_LO_T0\" & cluster == \"Cpept_HI_T0\")  %>% \n",
    "                        group_by(gene)  %>% \n",
    "                        tally()  %>% \n",
    "                        arrange(desc(n))  %>% \n",
    "                        pull(gene)"
   ]
  },
  {
   "cell_type": "markdown",
   "id": "435c6f76",
   "metadata": {},
   "source": [
    "### Dia Cpep T1"
   ]
  },
  {
   "cell_type": "code",
   "execution_count": null,
   "id": "ed751107",
   "metadata": {},
   "outputs": [],
   "source": [
    "all_markers$test_type  %>% table"
   ]
  },
  {
   "cell_type": "code",
   "execution_count": null,
   "id": "d1402f3d",
   "metadata": {},
   "outputs": [],
   "source": [
    "genes_Dia_cpept_T1  <- all_markers  %>% dplyr::filter(test_type == \"Cpept_HI_T1 vs Cpept_LO_T1\")  %>% \n",
    "group_by(gene)  %>% tally()  %>% arrange(desc(n))  %>% pull(gene)"
   ]
  },
  {
   "cell_type": "code",
   "execution_count": null,
   "id": "69ebfb08",
   "metadata": {},
   "outputs": [],
   "source": [
    "genes_Dia_cpept_T1"
   ]
  },
  {
   "cell_type": "code",
   "execution_count": null,
   "id": "4154a553",
   "metadata": {},
   "outputs": [],
   "source": [
    "lvl  <- all_markers  %>% dplyr::filter(test_type == \"Cpept_HI_T1 vs Cpept_LO_T1\")  %>% \n",
    "group_by(gene, cluster)  %>% arrange(cluster)  %>% pull(gene)  %>% unique"
   ]
  },
  {
   "cell_type": "code",
   "execution_count": null,
   "id": "e6fcab65",
   "metadata": {
    "scrolled": true
   },
   "outputs": [],
   "source": [
    "options(repr.plot.height = 40, repr.plot.width = 10)\n",
    "all_markers  %>% \n",
    "dplyr::filter(test_type == \"Cpept_HI_T1 vs Cpept_LO_T1\" & gene %in% genes_Dia_cpept_T1)  %>%  \n",
    "mutate(cluster_source = paste(cluster, source))  %>% \n",
    "ggplot(aes(factor(gene, levels = lvl), dataset)) + \n",
    "  geom_point(aes(size = -log(p_val_adj, base = 10), colour = cluster_source)) + \n",
    "  theme_bw()  + scale_size_continuous(range=c(1,4)) +\n",
    "  #scale_colour_gradient2(low = \"lightskyblue\", mid = \"lightsteelblue2\", high = \"salmon\") + \n",
    "coord_flip() + theme(axis.text.x = element_text(angle = 90))"
   ]
  },
  {
   "cell_type": "code",
   "execution_count": null,
   "id": "2dcdadf9",
   "metadata": {},
   "outputs": [],
   "source": [
    "up_dia_cpept_lo_vs_hi_T1  <- all_markers  %>% \n",
    "                        dplyr::filter(test_type == \"Cpept_HI_T1 vs Cpept_LO_T1\" & cluster == \"Cpept_LO_T1\")  %>% \n",
    "                        group_by(gene)  %>% \n",
    "                        tally()  %>% \n",
    "                        arrange(desc(n))  %>% \n",
    "                        pull(gene)\n",
    "down_dia_cpept_lo_vs_hi_T1  <- all_markers  %>% \n",
    "                        dplyr::filter(test_type == \"Cpept_HI_T1 vs Cpept_LO_T1\" & cluster == \"Cpept_HI_T1\")  %>% \n",
    "                        group_by(gene)  %>% \n",
    "                        tally()  %>% \n",
    "                        arrange(desc(n))  %>% \n",
    "                        pull(gene)"
   ]
  },
  {
   "cell_type": "markdown",
   "id": "81d8d608",
   "metadata": {},
   "source": [
    "## Ctrl T0 vs Dia T0 pathways"
   ]
  },
  {
   "cell_type": "code",
   "execution_count": null,
   "id": "c430cd71",
   "metadata": {},
   "outputs": [],
   "source": [
    "all_markers$dataset  %>% table"
   ]
  },
  {
   "cell_type": "code",
   "execution_count": null,
   "id": "9ddbacb0",
   "metadata": {
    "scrolled": true
   },
   "outputs": [],
   "source": [
    "all_mrk1  <- all_markers  %>% dplyr::filter(test_type == \"Ctrl T0 vs Dia T0\")"
   ]
  },
  {
   "cell_type": "code",
   "execution_count": null,
   "id": "0ae70340",
   "metadata": {
    "scrolled": true
   },
   "outputs": [],
   "source": [
    "all_mrk1"
   ]
  },
  {
   "cell_type": "code",
   "execution_count": null,
   "id": "70af7e5b",
   "metadata": {},
   "outputs": [],
   "source": [
    "dia_up  <- all_mrk1  %>% dplyr::filter(cluster == \"Dia T0\")  %>% pull(gene)  %>% unique"
   ]
  },
  {
   "cell_type": "code",
   "execution_count": null,
   "id": "c8be8d6e",
   "metadata": {},
   "outputs": [],
   "source": [
    "dia_up"
   ]
  },
  {
   "cell_type": "code",
   "execution_count": null,
   "id": "c31f9166",
   "metadata": {
    "scrolled": true
   },
   "outputs": [],
   "source": [
    "library(ReactomePA)\n",
    "library(clusterProfiler)\n",
    "library(org.Hs.eg.db)"
   ]
  },
  {
   "cell_type": "code",
   "execution_count": null,
   "id": "56b1970f",
   "metadata": {},
   "outputs": [],
   "source": [
    "\n",
    "ego2 <- enrichGO(gene         = dia_up,\n",
    "                OrgDb         = org.Hs.eg.db,\n",
    "                keyType       = 'SYMBOL',\n",
    "                ont           = \"ALL\",\n",
    "                pAdjustMethod = \"BH\",\n",
    "                pvalueCutoff  = 0.01,\n",
    "                qvalueCutoff  = 0.05)\n",
    "head(ego2, 3)         "
   ]
  },
  {
   "cell_type": "code",
   "execution_count": null,
   "id": "f23c011a",
   "metadata": {
    "scrolled": true
   },
   "outputs": [],
   "source": [
    "dia_down  <- all_mrk1  %>% dplyr::filter(cluster == \"Ctrl T0\")  %>% pull(gene)  %>% unique\n",
    "\n",
    "dia_down\n",
    "\n",
    "library(ReactomePA)\n",
    "library(clusterProfiler)\n",
    "library(org.Hs.eg.db)\n",
    "\n",
    "\n",
    "ego2 <- enrichGO(gene         = dia_down,\n",
    "                OrgDb         = org.Hs.eg.db,\n",
    "                keyType       = 'SYMBOL',\n",
    "                ont           = \"ALL\",\n",
    "                pAdjustMethod = \"BH\",\n",
    "                pvalueCutoff  = 0.01,\n",
    "                qvalueCutoff  = 0.05)\n",
    "head(ego2, 3)         "
   ]
  },
  {
   "cell_type": "code",
   "execution_count": null,
   "id": "413ffe5b",
   "metadata": {},
   "outputs": [],
   "source": [
    "library(DOSE)\n",
    "data(geneList)\n",
    "de <- names(geneList)[abs(geneList) > 2]\n",
    "\n",
    "edo <- enrichDGN(de)"
   ]
  },
  {
   "cell_type": "code",
   "execution_count": null,
   "id": "60f335c6",
   "metadata": {},
   "outputs": [],
   "source": []
  },
  {
   "cell_type": "markdown",
   "id": "92a32b11",
   "metadata": {},
   "source": [
    "# Populations - correlations with C-peptide"
   ]
  },
  {
   "cell_type": "code",
   "execution_count": null,
   "id": "5bd676d6",
   "metadata": {},
   "outputs": [],
   "source": [
    "fast  <- cd4_l1_full_filt@meta.data  %>% dplyr::select(Sample_ID, fasting_cpept_T1)  %>% unique"
   ]
  },
  {
   "cell_type": "code",
   "execution_count": null,
   "id": "963f399d",
   "metadata": {
    "scrolled": true
   },
   "outputs": [],
   "source": [
    "fast"
   ]
  },
  {
   "cell_type": "code",
   "execution_count": null,
   "id": "69e45c69",
   "metadata": {},
   "outputs": [],
   "source": [
    "mtx3"
   ]
  },
  {
   "cell_type": "code",
   "execution_count": null,
   "id": "aa2f2d97",
   "metadata": {},
   "outputs": [],
   "source": [
    "populations  <- mtx3  %>% \n",
    " left_join(fast)"
   ]
  },
  {
   "cell_type": "code",
   "execution_count": null,
   "id": "5075c734",
   "metadata": {},
   "outputs": [],
   "source": [
    "colnames(populations)"
   ]
  },
  {
   "cell_type": "code",
   "execution_count": null,
   "id": "6f8b9f83",
   "metadata": {
    "scrolled": true
   },
   "outputs": [],
   "source": [
    "populations"
   ]
  },
  {
   "cell_type": "code",
   "execution_count": null,
   "id": "7faa3039",
   "metadata": {},
   "outputs": [],
   "source": [
    "calc_correlation  <- function(i){\n",
    "    df  <- populations  %>% dplyr::select(i,57)  %>% dplyr::filter(!is.na(57))\n",
    "    colnames(df)  <- c(\"value\",\"fasting_cpept_T1\")\n",
    "    cor  <- cor.test(df$value, df$fasting_cpept_T1)\n",
    "    res_df  <- data.frame(population = colnames(populations)[i], \n",
    "                          cor = cor$estimate, \n",
    "                          pval = cor$p.value, \n",
    "                         padj  = ifelse(cor$p.value*46>1,1,cor$p.value*46))\n",
    "    return(res_df)\n",
    "}"
   ]
  },
  {
   "cell_type": "code",
   "execution_count": null,
   "id": "2673379a",
   "metadata": {},
   "outputs": [],
   "source": [
    "test  <- future_map(11:56, calc_correlation)"
   ]
  },
  {
   "cell_type": "code",
   "execution_count": null,
   "id": "7acbf44b",
   "metadata": {},
   "outputs": [],
   "source": [
    "test2  <- bind_rows(test)"
   ]
  },
  {
   "cell_type": "code",
   "execution_count": null,
   "id": "51410dd8",
   "metadata": {
    "scrolled": true
   },
   "outputs": [],
   "source": [
    "test2  %>% arrange(pval)"
   ]
  },
  {
   "cell_type": "code",
   "execution_count": null,
   "id": "3c8a02e6",
   "metadata": {},
   "outputs": [],
   "source": [
    "options(repr.plot.width = 4, repr.plot.height = 4)\n",
    "for(i in (test2  %>% arrange(pval)  %>% pull(population))[1:10]){\n",
    "    df2 <- populations  %>% dplyr::select(which(colnames(populations)==i),fasting_cpept_T1 = 57)  %>% \n",
    "     dplyr::filter(!is.na(fasting_cpept_T1))\n",
    "    colnames(df2)  <- c(\"value\", \"fasting_cpept_T1\")\n",
    "    p  <- df2 %>%  ggplot(aes(x=value, y=fasting_cpept_T1)) +\n",
    "  geom_point(shape = 16, size = 2) +\n",
    " geom_smooth(method=lm) + ggtitle(i) \n",
    "    print(p)\n",
    "    }"
   ]
  },
  {
   "cell_type": "code",
   "execution_count": null,
   "id": "0aeda0dc",
   "metadata": {},
   "outputs": [],
   "source": [
    "df2 <- populations  %>% dplyr::select(which(colnames(populations)==3),fasting_cpept_T1 = 57) "
   ]
  },
  {
   "cell_type": "code",
   "execution_count": null,
   "id": "68471964",
   "metadata": {},
   "outputs": [],
   "source": [
    "    colnames(df2)  <- c(\"value\", \"fasting_cpept_T1\")"
   ]
  },
  {
   "cell_type": "code",
   "execution_count": null,
   "id": "695969cf",
   "metadata": {},
   "outputs": [],
   "source": [
    "    p  <- df2 %>%  ggplot(aes(x=value, y=fasting_cpept_T1)) +\n",
    "  geom_point(shape = 16, size = 2) +\n",
    " geom_smooth(method=lm) + ggtitle(i) "
   ]
  },
  {
   "cell_type": "markdown",
   "id": "18baf548",
   "metadata": {},
   "source": [
    "# Populations - correlations with age"
   ]
  },
  {
   "cell_type": "code",
   "execution_count": null,
   "id": "4c078135",
   "metadata": {},
   "outputs": [],
   "source": [
    "calc_correlation  <- function(i){\n",
    "    df  <- populations  %>% dplyr::select(i,6)  %>% filter(!is.na(6))\n",
    "    colnames(df)  <- c(\"value\",\"age\")\n",
    "    cor  <- cor.test(df$value, df$age)\n",
    "    res_df  <- data.frame(population = colnames(populations)[i], \n",
    "                          cor = cor$estimate, \n",
    "                          pval = cor$p.value, \n",
    "                         padj  = ifelse(cor$p.value*49>1,1,cor$p.value*49))\n",
    "    return(res_df)\n",
    "}"
   ]
  },
  {
   "cell_type": "code",
   "execution_count": null,
   "id": "0158ba57",
   "metadata": {},
   "outputs": [],
   "source": [
    "test  <- future_map(11:59, calc_correlation)"
   ]
  },
  {
   "cell_type": "code",
   "execution_count": null,
   "id": "3de32acc",
   "metadata": {},
   "outputs": [],
   "source": [
    "test2  <- bind_rows(test)"
   ]
  },
  {
   "cell_type": "code",
   "execution_count": null,
   "id": "b3a8a036",
   "metadata": {
    "scrolled": true
   },
   "outputs": [],
   "source": [
    "test2  %>% arrange(pval)"
   ]
  },
  {
   "cell_type": "code",
   "execution_count": null,
   "id": "ad16c44e",
   "metadata": {},
   "outputs": [],
   "source": [
    "options(repr.plot.width = 4, repr.plot.height = 4)\n",
    "for(i in (test2  %>% arrange(pval)  %>% pull(population))[1:10]){\n",
    "    df2 <- populations  %>% dplyr::select(which(colnames(populations)==i),age = 6) \n",
    "    colnames(df2)  <- c(\"value\", \"age\")\n",
    "    p  <- df2 %>%  ggplot(aes(x=value, y=age)) +\n",
    "  geom_point(shape = 16, size = 2) +\n",
    " geom_smooth(method=lm) + ggtitle(i) \n",
    "    print(p)\n",
    "    }"
   ]
  },
  {
   "cell_type": "code",
   "execution_count": null,
   "id": "512749b3",
   "metadata": {},
   "outputs": [],
   "source": []
  },
  {
   "cell_type": "markdown",
   "id": "f5a8f766",
   "metadata": {},
   "source": [
    "# Kallionpaa "
   ]
  },
  {
   "cell_type": "code",
   "execution_count": null,
   "id": "6dc45b78",
   "metadata": {},
   "outputs": [],
   "source": [
    "kallion  <- readRDS(\"../../231106_VN_DiabetesV03/kalinopaa_filt_stacas.rds\")"
   ]
  },
  {
   "cell_type": "code",
   "execution_count": null,
   "id": "59227dfd",
   "metadata": {},
   "outputs": [],
   "source": [
    "DimPlot(kallion)"
   ]
  },
  {
   "cell_type": "code",
   "execution_count": null,
   "id": "d354213c",
   "metadata": {},
   "outputs": [],
   "source": [
    "kallion  <- FindNeighbors(kallion)"
   ]
  },
  {
   "cell_type": "code",
   "execution_count": null,
   "id": "8c57e1cf",
   "metadata": {},
   "outputs": [],
   "source": [
    "kallion  <- FindClusters(kallion, res = 0.4)"
   ]
  },
  {
   "cell_type": "code",
   "execution_count": null,
   "id": "b3a9b82c",
   "metadata": {
    "scrolled": true
   },
   "outputs": [],
   "source": [
    "DimPlot(kallion, label = T)"
   ]
  },
  {
   "cell_type": "code",
   "execution_count": null,
   "id": "84583e89",
   "metadata": {},
   "outputs": [],
   "source": [
    "FeaturePlot(kallion, features = \"TGFB1\", min.cutoff = 0)"
   ]
  },
  {
   "cell_type": "code",
   "execution_count": null,
   "id": "4f43111c",
   "metadata": {},
   "outputs": [],
   "source": [
    "kallion_treg  <- subset(kallion, seurat_clusters == 5)"
   ]
  },
  {
   "cell_type": "code",
   "execution_count": null,
   "id": "d8825f0d",
   "metadata": {},
   "outputs": [],
   "source": [
    "DimPlot(kallion_treg, label = T)"
   ]
  },
  {
   "cell_type": "code",
   "execution_count": null,
   "id": "4daa6305",
   "metadata": {},
   "outputs": [],
   "source": [
    "kallion_treg <- SCTransform(kallion_treg)\n",
    "kallion_treg <- RunPCA(kallion_treg)\n",
    "kallion_treg <- RunUMAP(kallion_treg, dims = 1:10)\n",
    "kallion_treg <- FindNeighbors(kallion_treg)"
   ]
  },
  {
   "cell_type": "code",
   "execution_count": null,
   "id": "8d37fd22",
   "metadata": {},
   "outputs": [],
   "source": [
    "kallion_treg <- FindClusters(kallion_treg, resolution = 0.3)"
   ]
  },
  {
   "cell_type": "code",
   "execution_count": null,
   "id": "c904d858",
   "metadata": {},
   "outputs": [],
   "source": [
    "DimPlot(kallion_treg, group.by = \"source\")"
   ]
  },
  {
   "cell_type": "code",
   "execution_count": null,
   "id": "d91d07e1",
   "metadata": {},
   "outputs": [],
   "source": [
    "FeaturePlot(kallion_treg, features = \"GZMK\", min.cutoff = 0)"
   ]
  },
  {
   "cell_type": "code",
   "execution_count": null,
   "id": "a0361ecf",
   "metadata": {},
   "outputs": [],
   "source": [
    "kallion_treg$Condition  <- substr(kallion_treg$Condition,1,4)"
   ]
  },
  {
   "cell_type": "code",
   "execution_count": null,
   "id": "20496b5b",
   "metadata": {},
   "outputs": [],
   "source": [
    "kallion_treg$Condition  %>%  table"
   ]
  },
  {
   "cell_type": "code",
   "execution_count": null,
   "id": "f4b19cf2",
   "metadata": {},
   "outputs": [],
   "source": [
    "Idents(kallion_treg)  <- kallion_treg$Condition"
   ]
  },
  {
   "cell_type": "code",
   "execution_count": null,
   "id": "5b36a795",
   "metadata": {},
   "outputs": [],
   "source": [
    "mrk  <- FindAllMarkers(kallion_treg)"
   ]
  },
  {
   "cell_type": "code",
   "execution_count": null,
   "id": "1ae25871",
   "metadata": {
    "scrolled": true
   },
   "outputs": [],
   "source": [
    "mrk"
   ]
  },
  {
   "cell_type": "code",
   "execution_count": null,
   "id": "9553e2ca",
   "metadata": {
    "scrolled": true
   },
   "outputs": [],
   "source": [
    "mrk  %>% dplyr::filter(cluster == \"Cont\")"
   ]
  },
  {
   "cell_type": "code",
   "execution_count": null,
   "id": "f51ed7df",
   "metadata": {},
   "outputs": [],
   "source": [
    "avgexp = AverageExpression(kallion_treg, features = mrk$gene, return.seurat = F, group.by = \"source\", assays = \"RNA\")\n",
    "\n",
    "options(repr.plot.width = 25, repr.plot.height = 3.5)\n",
    "pheatmap(t(avgexp$RNA), main = \"\", scale = \"column\", cluster_cols = T, cluster_rows = F,\n",
    "        color=colorRampPalette(c(\"dodgerblue\", \"grey95\", \"indianred2\"))(50), \n",
    "         border_color = \"white\", width = 9, height = 3.3,\n",
    "                  fontsize = 9)"
   ]
  },
  {
   "cell_type": "code",
   "execution_count": null,
   "id": "063a40b0",
   "metadata": {},
   "outputs": [],
   "source": [
    "avgexp = AverageExpression(kallion_treg, features = rev(str_to_upper(c(\"TCF7\", \n",
    "            \"LAG3\", \"ID2\",\"TNFAIP3\",\"DUSP2\",\"IER2\",\n",
    "            \"GZMK\",\"CD226\", \"MKI67\",\"TNFRSF1B\",\"PI3KIP1\",\"TMA7\",\"FTH1\"\n",
    "                                                          ))), return.seurat = F, group.by = \"source\", assays = \"RNA\")\n",
    "\n",
    "options(repr.plot.width = 9, repr.plot.height = 3.5)\n",
    "pheatmap(t(avgexp$RNA), main = \"\", scale = \"column\", cluster_cols = T, cluster_rows = F,\n",
    "        color=colorRampPalette(c(\"dodgerblue\", \"grey95\", \"indianred2\"))(50), \n",
    "         border_color = \"white\", width = 9, height = 3.3,\n",
    "                  fontsize = 9)"
   ]
  },
  {
   "cell_type": "code",
   "execution_count": null,
   "id": "611ab7c7",
   "metadata": {},
   "outputs": [],
   "source": [
    "avgexp = AverageExpression(kallion_treg, features = str_to_upper(c(\n",
    "           \"IL4R\", \"IL10RA\" )), return.seurat = F, group.by = \"source\", assays = \"RNA\")\n",
    "\n",
    "options(repr.plot.width = 9, repr.plot.height = 3.5)\n",
    "pheatmap(t(avgexp$RNA), main = \"\", scale = \"column\", cluster_cols = T, cluster_rows = F,\n",
    "        color=colorRampPalette(c(\"dodgerblue\", \"grey95\", \"indianred2\"))(50), \n",
    "         border_color = \"white\", width = 9, height = 3.3,\n",
    "                  fontsize = 9)"
   ]
  },
  {
   "cell_type": "code",
   "execution_count": null,
   "id": "bd7ffcb6",
   "metadata": {},
   "outputs": [],
   "source": [
    "cd4_l3_temra  <- readRDS(\"../data/processed//L3/cd4_l3_temra.rds\")"
   ]
  },
  {
   "cell_type": "code",
   "execution_count": null,
   "id": "b138b5d7",
   "metadata": {},
   "outputs": [],
   "source": [
    "cd4_l2  <- readRDS(\"../data/processed/L2//cd4_l2_subcluster.rds\")"
   ]
  },
  {
   "cell_type": "code",
   "execution_count": null,
   "id": "2941324d",
   "metadata": {},
   "outputs": [],
   "source": [
    "options(repr.plot.width = 5, repr.plot.height = 4)\n",
    "DefaultAssay(cd4_l2_subcluster)  <- \"RNA\"\n",
    "FeaturePlot(cd4_l2_subcluster, features = \"NCAM1\", min.cutoff = 0, max.cutoff = 1)"
   ]
  },
  {
   "cell_type": "code",
   "execution_count": null,
   "id": "0f94135c",
   "metadata": {},
   "outputs": [],
   "source": []
  },
  {
   "cell_type": "code",
   "execution_count": null,
   "id": "2e24f77e",
   "metadata": {},
   "outputs": [],
   "source": [
    "VlnPlot(cd4_l2_subcluster, group.by = \"annotations_manual\", \n",
    "        features = \"NCAM1\") + \n",
    "  stat_summary(fun = \"mean\",\n",
    "               geom = \"crossbar\", \n",
    "               width = 0.5,\n",
    "               colour = \"black\") \n"
   ]
  },
  {
   "cell_type": "code",
   "execution_count": null,
   "id": "6b8b9672",
   "metadata": {},
   "outputs": [],
   "source": [
    "DefaultAssay(cd4_l3_temra)  <- \"integrated\"\n",
    "cd4_l3_temra  <- FindNeighbors(cd4_l3_temra)\n",
    "cd4_l3_temra  <- FindClusters(cd4_l3_temra, resolution = 0.5)"
   ]
  },
  {
   "cell_type": "code",
   "execution_count": null,
   "id": "c1abfffe",
   "metadata": {},
   "outputs": [],
   "source": [
    "DimPlot(cd4_l3_temra)"
   ]
  },
  {
   "cell_type": "code",
   "execution_count": null,
   "id": "c54d7f7b",
   "metadata": {},
   "outputs": [],
   "source": [
    "cd4_l3_temra$annotations_manual  <- cd4_l3_temra$seurat_clusters"
   ]
  },
  {
   "cell_type": "code",
   "execution_count": null,
   "id": "4ad577b9",
   "metadata": {},
   "outputs": [],
   "source": [
    "df4  <- create_df4(cd4_l3_temra)"
   ]
  },
  {
   "cell_type": "code",
   "execution_count": null,
   "id": "5bedef5d",
   "metadata": {
    "scrolled": true
   },
   "outputs": [],
   "source": [
    "df4"
   ]
  },
  {
   "cell_type": "code",
   "execution_count": null,
   "id": "e44379da",
   "metadata": {},
   "outputs": [],
   "source": [
    "df5  <- df4  %>% pivot_wider(names_from = \"annotations_manual\", values_from = \"freq\", names_prefix = \"cl\")  \n",
    "\n",
    "options(repr.plot.width = 3, repr.plot.height = 5)\n",
    "p1  <- df5 %>% \n",
    "filter(Condition %in% c(\"Ctrl T0\", \"Dia T0\") & Experiment_ID %in% c(\"Exp16\", \"Exp18\", \"Exp19\", \"Exp20\"))  %>% \n",
    "  ggplot(aes(x = Condition, y = cl5)) + # you can change the x to whatever variable you're interested in\n",
    "  geom_violin(alpha = 0.3, aes(fill = Condition)) +\n",
    "  stat_summary(fun = \"median\",\n",
    "               geom = \"crossbar\", \n",
    "               width = 0.75,\n",
    "               color = \"grey30\") +\n",
    "geom_beeswarm(size = 3, aes(fill = Condition), cex = 3, \n",
    "                shape = 21, color = \"black\", method = \"center\") +\n",
    "scale_shape_manual(values = c(21,22))+\n",
    "  ylab(\"\") +\n",
    "  xlab(\"\") +\n",
    "  theme_classic() +\n",
    "scale_fill_manual(values = c(\"#1874cdff\",\"#c41515ff\"))+\n",
    "ggpubr::stat_compare_means(label.x= 1.2, label.y.npc = 0.9,\n",
    "                           size = 7, label = \"p.format\")+\n",
    "ggtheme() +\n",
    " scale_y_continuous(limits = c(0,NA)) +\n",
    "theme(strip.background = element_blank(), panel.grid = element_blank()) + \n",
    "  theme(axis.text = element_text(color = \"black\"),\n",
    "        axis.text.x = element_text(angle = 90),\n",
    "       axis.line = element_line(color = \"black\", size = 0.5),\n",
    "        axis.ticks.x = element_blank()) + NoLegend() + ggtitle(\"Final data\")\n",
    "print(p1)\n",
    "library(svglite)\n",
    "#ggsave(filename = \"treg_density_quantification.svg\", width = 3, height = 5)"
   ]
  },
  {
   "cell_type": "code",
   "execution_count": null,
   "id": "4313a9c4",
   "metadata": {},
   "outputs": [],
   "source": [
    "options(repr.plot.width = 6, repr.plot.height = 4)\n",
    "\n",
    "DimPlot(cd4_l2_subcluster, cells.highlight = colnames(cd4_l2_subcluster)[grep(cd4_l2_subcluster$cdr3_A1, pattern = \"CVVSDRGSTLGRLYF\")])"
   ]
  },
  {
   "cell_type": "markdown",
   "id": "6f103dbe",
   "metadata": {},
   "source": [
    "# iNKT and CD3-56"
   ]
  },
  {
   "cell_type": "code",
   "execution_count": null,
   "id": "8de50b6c",
   "metadata": {},
   "outputs": [],
   "source": [
    "cd4_l1_full_filt  <- readRDS(\"../../240218_VN_Diabetes_V05/data/processed/L1/cd4_l1_full_filt.rds\")"
   ]
  },
  {
   "cell_type": "code",
   "execution_count": null,
   "id": "2ae255df",
   "metadata": {},
   "outputs": [],
   "source": [
    "library(GEOquery)"
   ]
  },
  {
   "cell_type": "code",
   "execution_count": null,
   "id": "55203144",
   "metadata": {},
   "outputs": [],
   "source": [
    "packageVersion('matrixStats')"
   ]
  },
  {
   "cell_type": "code",
   "execution_count": null,
   "id": "1b9c83e8",
   "metadata": {},
   "outputs": [],
   "source": [
    "gset <- getGEO(\"GSE106082\", GSEMatrix =TRUE, getGPL=TRUE, AnnotGPL=TRUE)"
   ]
  },
  {
   "cell_type": "code",
   "execution_count": null,
   "id": "f14ab65d",
   "metadata": {},
   "outputs": [],
   "source": [
    "gset <- readRDS(\"../data//geo//tr356.rds\")"
   ]
  },
  {
   "cell_type": "code",
   "execution_count": null,
   "id": "61993e63",
   "metadata": {},
   "outputs": [],
   "source": [
    "library(readr)"
   ]
  },
  {
   "cell_type": "code",
   "execution_count": null,
   "id": "ab143825",
   "metadata": {},
   "outputs": [],
   "source": [
    "metadata <- data.frame(geo_id = gset$GSE106082_series_matrix.txt.gz$geo_accession,\n",
    "                       cell_type = gset$GSE106082_series_matrix.txt.gz$`characteristics_ch1.1`\n",
    "                       )"
   ]
  },
  {
   "cell_type": "code",
   "execution_count": null,
   "id": "bfc089c7",
   "metadata": {},
   "outputs": [],
   "source": [
    "mtx_tr356  <- read_csv(\"../../240218_VN_Diabetes_V05/data/published_data/Terrazzano_2020/tr356_df_sum.csv\")"
   ]
  },
  {
   "cell_type": "code",
   "execution_count": null,
   "id": "dfeffdb0",
   "metadata": {},
   "outputs": [],
   "source": [
    "mtx_tr356$`...1`  <- NULL"
   ]
  },
  {
   "cell_type": "code",
   "execution_count": null,
   "id": "dbc92b0c",
   "metadata": {},
   "outputs": [],
   "source": [
    "mtx_tr356  <- mtx_tr356  %>% column_to_rownames(\"SYMBOL\")"
   ]
  },
  {
   "cell_type": "code",
   "execution_count": null,
   "id": "9be5ec38",
   "metadata": {
    "scrolled": true
   },
   "outputs": [],
   "source": [
    "mtx_tr356"
   ]
  },
  {
   "cell_type": "code",
   "execution_count": null,
   "id": "b0f2f19c",
   "metadata": {},
   "outputs": [],
   "source": [
    "plan(\"multisession\")"
   ]
  },
  {
   "cell_type": "code",
   "execution_count": null,
   "id": "e8d2d142",
   "metadata": {},
   "outputs": [],
   "source": [
    "library(tidyverse)"
   ]
  },
  {
   "cell_type": "code",
   "execution_count": null,
   "id": "2a599cf5",
   "metadata": {},
   "outputs": [],
   "source": [
    "mtx_tr356  <- mtx_tr356  %>% mutate_all(.funs = as.numeric)"
   ]
  },
  {
   "cell_type": "code",
   "execution_count": null,
   "id": "ef523e3c",
   "metadata": {
    "scrolled": true
   },
   "outputs": [],
   "source": [
    "mtx_tr356"
   ]
  },
  {
   "cell_type": "code",
   "execution_count": null,
   "id": "09885b60",
   "metadata": {},
   "outputs": [],
   "source": [
    "ref_tr3_56 <- list(matrix = mtx_tr356, \n",
    "                       labels = metadata$cell_type)\n"
   ]
  },
  {
   "cell_type": "code",
   "execution_count": null,
   "id": "da469b1f",
   "metadata": {},
   "outputs": [],
   "source": [
    "ref_tr3_56$matrix  <- as.matrix(ref_tr3_56$matrix)"
   ]
  },
  {
   "cell_type": "code",
   "execution_count": null,
   "id": "324f2a41",
   "metadata": {
    "scrolled": true
   },
   "outputs": [],
   "source": [
    "library(SingleR)"
   ]
  },
  {
   "cell_type": "code",
   "execution_count": null,
   "id": "81072dc5",
   "metadata": {
    "scrolled": true
   },
   "outputs": [],
   "source": [
    "pred <- SingleR(test = cd4_l1_full_filt@assays$RNA@counts, \n",
    "                ref=ref_tr3_56$matrix, labels=ref_tr3_56$labels, \n",
    "                fine.tune = T,num.threads = 4\n",
    "       )"
   ]
  },
  {
   "cell_type": "code",
   "execution_count": null,
   "id": "bf402371",
   "metadata": {
    "scrolled": false
   },
   "outputs": [],
   "source": [
    "pred"
   ]
  },
  {
   "cell_type": "code",
   "execution_count": null,
   "id": "d1a8cfc6",
   "metadata": {
    "scrolled": true
   },
   "outputs": [],
   "source": [
    "cd4_l1_full_filt$singler  <- pred$labels"
   ]
  },
  {
   "cell_type": "code",
   "execution_count": null,
   "id": "28a6a5e6",
   "metadata": {},
   "outputs": [],
   "source": [
    "DimPlot(cd4_l1_full_filt, group.by = \"annotations_l2\")"
   ]
  },
  {
   "cell_type": "code",
   "execution_count": null,
   "id": "fc756529",
   "metadata": {},
   "outputs": [],
   "source": [
    "DimPlot(cd4_l1_full_filt, group.by = \"singler\", shuffle = T, cols = c(\"purple\",\"grey88\",\"dodgerblue\",\"red\"))"
   ]
  },
  {
   "cell_type": "code",
   "execution_count": null,
   "id": "a07e067c",
   "metadata": {},
   "outputs": [],
   "source": [
    "options(repr.plot.width = 6.5, repr.plot.height = 4.5)\n",
    "DimPlot(cd4_l1_full_filt, group.by = \"annot2\",\n",
    "       cols = c(\"#d4a323ff\", \"#f1c07dff\", \"#7d262bff\", \"#d04f4fff\"))"
   ]
  },
  {
   "cell_type": "code",
   "execution_count": null,
   "id": "ddac6206",
   "metadata": {},
   "outputs": [],
   "source": [
    "DimPlot(cd4_l1_full_filt, group.by = \"annot2\",\n",
    "       cols = c(\"grey78\", \"grey78\", \"#7d262bff\", \"grey78\"))"
   ]
  },
  {
   "cell_type": "markdown",
   "id": "daa870f0",
   "metadata": {},
   "source": [
    "### Score per patient"
   ]
  },
  {
   "cell_type": "code",
   "execution_count": null,
   "id": "c15af87f",
   "metadata": {},
   "outputs": [],
   "source": [
    "cd4_l1_full_filt$score_tr356  <- pred$scores[,3]"
   ]
  },
  {
   "cell_type": "code",
   "execution_count": null,
   "id": "d6f92ef2",
   "metadata": {
    "scrolled": true
   },
   "outputs": [],
   "source": [
    "options(repr.plot.width = 6, repr.plot.height = 8)\n",
    "\n",
    "data.frame(Score = cd4_l1_full_filt$score_tr356,\n",
    "                  Annotation = gsub(cd4_l1_full_filt$annotations_l2, pattern = \"---\", replacement = \"\"),\n",
    "          Patient_ID = cd4_l1_full_filt$Patient_ID,\n",
    "          Patient_Time = cd4_l1_full_filt$Patient_Time,\n",
    "          Disease = cd4_l1_full_filt$Disease,\n",
    "           Condition = cd4_l1_full_filt$Condition\n",
    "          )  %>% \n",
    "mutate(Annotation = gsub(Annotation, pattern = \"cd4 T cells\", replacement = \"\"))  %>% \n",
    "mutate(Annotation = gsub(Annotation, pattern = \"cd4 Unconventional T cells\", replacement = \"\"))  %>% \n",
    "mutate(Annotation = gsub(Annotation, pattern = \"cd4 NK cells\", replacement = \"\"))  %>% \n",
    "mutate(annot2 = case_when(Annotation %in% c(\"Tem\",\"Tcm\",\"Temra\",\"Proliferating\") ~ \"NonNaive\", \n",
    "                          TRUE ~ Annotation))  %>% \n",
    "ggplot(aes(x = Condition, y = Score)) +\n",
    "  geom_violin() + \n",
    "stat_compare_means(comparisons = list(c(1,2),c(2,3),c(1,3))) +\n",
    "  stat_summary(fun = \"mean\",\n",
    "               geom = \"crossbar\", \n",
    "               width = 0.5,\n",
    "               colour = \"red\") + ggtitle(\"TR3-56 score\") + theme_classic() + ggtheme() + xlab(\"\")"
   ]
  },
  {
   "cell_type": "code",
   "execution_count": null,
   "id": "5d548f39",
   "metadata": {},
   "outputs": [],
   "source": [
    "\n",
    "data.frame(Score = cd4_l1_full_filt$score_tr356,\n",
    "                  Annotation = gsub(cd4_l1_full_filt$annotations_l2, pattern = \"---\", replacement = \"\"),\n",
    "          Patient_ID = cd4_l1_full_filt$Patient_ID,\n",
    "          Patient_Time = cd4_l1_full_filt$Patient_Time,\n",
    "          Disease = cd4_l1_full_filt$Disease, \n",
    "           Condition = cd4_l1_full_filt$Condition\n",
    "          )  %>% \n",
    "mutate(Annotation = gsub(Annotation, pattern = \"cd4 T cells\", replacement = \"\"))  %>% \n",
    "mutate(Annotation = gsub(Annotation, pattern = \"cd4 Unconventional T cells\", replacement = \"\"))  %>% \n",
    "mutate(Annotation = gsub(Annotation, pattern = \"cd4 NK cells\", replacement = \"\"))  %>% \n",
    "mutate(annot2 = case_when(Annotation %in% c(\"Tem\",\"Tcm\",\"Temra\",\"Proliferating\") ~ \"NonNaive\", \n",
    "                          TRUE ~ Annotation))  %>% \n",
    "group_by(Condition, Patient_Time)  %>% \n",
    "summarize(Score = mean(Score))  %>% \n",
    "ggplot(aes(x = Condition, y = Score)) +\n",
    "  geom_violin() + \n",
    "geom_point()+\n",
    "stat_compare_means(comparisons = list(c(1,2),c(2,3))) +\n",
    "  stat_summary(fun = \"mean\",\n",
    "               geom = \"crossbar\", \n",
    "               width = 0.5,\n",
    "               colour = \"red\") + ggtitle(\"TR3-56 score All cd4 cells\") + theme_classic() + ggtheme() + xlab(\"\")"
   ]
  },
  {
   "cell_type": "code",
   "execution_count": null,
   "id": "26496055",
   "metadata": {},
   "outputs": [],
   "source": [
    "options(repr.plot.width = 6, repr.plot.height = 6)\n",
    "\n",
    "data.frame(Score = cd4_l1_full_filt$score_tr356,\n",
    "                  Annotation = gsub(cd4_l1_full_filt$annotations_l2, pattern = \"---\", replacement = \"\"),\n",
    "          Patient_ID = cd4_l1_full_filt$Patient_ID,\n",
    "          Patient_Time = cd4_l1_full_filt$Patient_Time,\n",
    "          Disease = cd4_l1_full_filt$Disease, \n",
    "           Condition = cd4_l1_full_filt$Condition\n",
    "          )  %>% \n",
    "dplyr::filter(Patient_ID != 116)  %>% \n",
    "mutate(Annotation = gsub(Annotation, pattern = \"cd4 T cells\", replacement = \"\"))  %>% \n",
    "mutate(Annotation = gsub(Annotation, pattern = \"cd4 Unconventional T cells\", replacement = \"\"))  %>% \n",
    "mutate(Annotation = gsub(Annotation, pattern = \"cd4 NK cells\", replacement = \"\"))  %>% \n",
    "mutate(annot2 = case_when(Annotation %in% c(\"Tem\",\"Tcm\",\"Temra\",\"Proliferating\") ~ \"NonNaive\", \n",
    "                          TRUE ~ Annotation))  %>% \n",
    "group_by(Condition, Patient_Time)  %>% \n",
    "summarize(Score = mean(Score))  %>% \n",
    "ggplot(aes(x = Condition, y = Score)) +\n",
    "   geom_violin(alpha = 0.3, aes(fill = Condition)) +\n",
    "  stat_summary(fun = \"median\",\n",
    "               geom = \"crossbar\", \n",
    "               width = 0.75,\n",
    "               color = \"grey30\") +\n",
    "   scale_fill_manual(values = c(\"#1874cdff\",  \"#ee6363ff\", \"#c41515ff\",\"#eeb4b4ff\")) +\n",
    "scale_color_manual(values = c(\"dodgerblue3\",  \"#e54c4cff\", \"#aa2a2aff\",\"#e88989ff\")) +\n",
    "geom_beeswarm(size = 3, cex = 3, \n",
    "              color = \"black\", method = \"center\",\n",
    "             aes(fill = Condition), shape = 21) +\n",
    "stat_compare_means(comparisons = list(c(2,3)), paired = T) +\n",
    "   ggtitle(\"TR3-56 score All cd4 cells\") + theme_classic() + ggtheme() + xlab(\"\")\n",
    "\n",
    "ggsave(\"../figures/subset_characterization/tr3_56_score_in_condition_cd4.svg\",\n",
    "       width = 10, height = 9.5, units = \"cm\")"
   ]
  },
  {
   "cell_type": "code",
   "execution_count": null,
   "id": "ea8a40bd",
   "metadata": {},
   "outputs": [],
   "source": [
    "data.frame(Score = cd4_l1_full_filt$score_tr356,\n",
    "                  Annotation = gsub(cd4_l1_full_filt$annotations_l2, pattern = \"---\", replacement = \"\"))  %>% \n",
    "mutate(Annotation = gsub(Annotation, pattern = \"cd4 T cells\", replacement = \"\"))  %>% \n",
    "mutate(Annotation = gsub(Annotation, pattern = \"cd4 Unconventional T cells\", replacement = \"\"))  %>% \n",
    "mutate(Annotation = gsub(Annotation, pattern = \"cd4 NK cells\", replacement = \"\"))  %>% \n",
    "mutate(annot2 = case_when(Annotation %in% c(\"Tem\",\"Tcm\",\"Temra\",\"Proliferating\") ~ \"NonNaive\", \n",
    "                          TRUE ~ Annotation))  %>% \n",
    "ggplot(aes(x = fct_reorder(annot2, Score), y = Score)) +\n",
    "  geom_violin() + \n",
    "  stat_summary(fun = \"mean\",\n",
    "               geom = \"crossbar\", \n",
    "               width = 0.5,\n",
    "               colour = \"red\") + ggtitle(\"TR3-56 score\") + theme_classic() + ggtheme() + xlab(\"\")\n",
    "ggsave(\"../figures/cd356_score.svg\", width = 4, height = 3.5)"
   ]
  },
  {
   "cell_type": "code",
   "execution_count": null,
   "id": "2d9d77c6",
   "metadata": {},
   "outputs": [],
   "source": []
  },
  {
   "cell_type": "code",
   "execution_count": null,
   "id": "abb16376",
   "metadata": {},
   "outputs": [],
   "source": [
    "options(repr.plot.width = 6.5, repr.plot.height = 4.5)\n",
    "DimPlot(cd4_l1_full_filt, group.by = \"singler\", order = \"cell subset: TR3-56\",\n",
    "        shuffle = F, cols = c(\"grey88\",\"grey88\",\"grey88\",\"red\"))"
   ]
  },
  {
   "cell_type": "code",
   "execution_count": null,
   "id": "f6b39a87",
   "metadata": {},
   "outputs": [],
   "source": [
    "DimPlot(cd4_l1_full_filt, group.by = \"singler\", shuffle = T, cols = c(\"purple\",\"grey88\",\"dodgerblue\",\"red\"))"
   ]
  },
  {
   "cell_type": "code",
   "execution_count": null,
   "id": "e16d2199",
   "metadata": {},
   "outputs": [],
   "source": [
    "test  <- data.frame(annotation = cd4_l1_full_filt$annotations_l2,\n",
    "                    pred = cd4_l1_full_filt$singler)"
   ]
  },
  {
   "cell_type": "code",
   "execution_count": null,
   "id": "ea51ca04",
   "metadata": {},
   "outputs": [],
   "source": [
    "df2 <- test %>% group_by(annotation, pred) %>% \n",
    "  summarise(n = n()) %>%\n",
    "  mutate(freq = n / sum(n))"
   ]
  },
  {
   "cell_type": "code",
   "execution_count": null,
   "id": "e78784d6",
   "metadata": {
    "scrolled": true
   },
   "outputs": [],
   "source": [
    "df2"
   ]
  },
  {
   "cell_type": "code",
   "execution_count": null,
   "id": "5cfaa7b7",
   "metadata": {},
   "outputs": [],
   "source": [
    "df2"
   ]
  },
  {
   "cell_type": "code",
   "execution_count": null,
   "id": "20c37ad1",
   "metadata": {},
   "outputs": [],
   "source": [
    "cd4_l1_full_filt$score_tr356  <- pred$scores[,4]"
   ]
  },
  {
   "cell_type": "code",
   "execution_count": null,
   "id": "4cc7bf3b",
   "metadata": {},
   "outputs": [],
   "source": [
    "VlnPlot(cd4_l1_full_filt, features = \"score_tr356\", group.by = \"annotations_l2\")"
   ]
  },
  {
   "cell_type": "code",
   "execution_count": null,
   "id": "32ff84e7",
   "metadata": {},
   "outputs": [],
   "source": [
    "options(repr.plot.width = 14, repr.plot.height = 6)\n",
    "data.frame(Score = cd4_l1_full_filt$score_tr356,\n",
    "                  Annotation = gsub(cd4_l1_full_filt$annotations_l2, pattern = \"---\", replacement = \"\\n\"))  %>% \n",
    "#mutate(Annotation = gsub(Annotation, pattern = \"cd4 T cells\", replacement = \"\"))  %>% \n",
    "#mutate(Annotation = gsub(Annotation, pattern = \"cd4 Unconventional T cells\", replacement = \"\"))  %>% \n",
    "#mutate(Annotation = gsub(Annotation, pattern = \"cd4 NK cells\", replacement = \"\"))  %>% \n",
    "ggplot(aes(x = fct_reorder(Annotation, Score), y = Score)) +\n",
    "  geom_violin() + \n",
    "  stat_summary(fun = \"mean\",\n",
    "               geom = \"crossbar\", \n",
    "               width = 0.5,\n",
    "               colour = \"red\") + ggtitle(\"TR3-56 score\") + \n",
    "ggtheme() + theme_classic()  + theme(axis.ticks.x = element_blank()) + xlab(\"\")"
   ]
  },
  {
   "cell_type": "code",
   "execution_count": null,
   "id": "02db6eab",
   "metadata": {},
   "outputs": [],
   "source": [
    "data.frame(Score = cd4_l1_full_filt$score_tr356,\n",
    "                  Annotation = gsub(cd4_l1_full_filt$annotations_l2, pattern = \"---\", replacement = \"\"))  %>% \n",
    "mutate(Annotation = gsub(Annotation, pattern = \"CD4 T cells\", replacement = \"\"))  %>% \n",
    "mutate(Annotation = gsub(Annotation, pattern = \"CD4 Unconventional T cells\", replacement = \"\"))  %>% \n",
    "mutate(annot2 = case_when(Annotation %in% c(\"Treg\",\"Tfh\",\"ISAGhi\",\"Th2\",\"Nfkb\",\"Th1Th17\",\"Proliferating\") ~ \"NonNaive\", \n",
    "                          TRUE ~ Annotation))  %>% \n",
    "ggplot(aes(x = fct_reorder(annot2, Score), y = Score)) +\n",
    "  geom_violin() + \n",
    "  stat_summary(fun = \"mean\",\n",
    "               geom = \"crossbar\", \n",
    "               width = 0.5,\n",
    "               colour = \"red\") + ggtitle(\"TR3-56 score\") + theme_classic() + ggtheme() + xlab(\"\")\n",
    "ggsave(\"../figures/cd356_score_cd4.svg\", width = 3, height = 3.5)"
   ]
  },
  {
   "cell_type": "code",
   "execution_count": null,
   "id": "c259d850",
   "metadata": {},
   "outputs": [],
   "source": [
    "options(repr.plot.width = 6, repr.plot.height = 5)\n",
    "\n",
    "DefaultAssay(cd4_l1_full_filt)  <- \"RNA\"\n",
    "FeaturePlot(cd4_l1_full_filt, features = \"NCAM1\", min.cutoff = 0, max.cutoff = 2)"
   ]
  },
  {
   "cell_type": "code",
   "execution_count": null,
   "id": "26fc6867",
   "metadata": {},
   "outputs": [],
   "source": [
    "cd4_l1_full_filt@meta.data  <- cd4_l1_full_filt@meta.data  %>% mutate(\n",
    "                  Annotation = gsub(cd4_l1_full_filt$annotations_l2, pattern = \"---\", replacement = \"\"))  %>% \n",
    "mutate(Annotation = gsub(Annotation, pattern = \"CD4 T cells\", replacement = \"\"))  %>% \n",
    "mutate(Annotation = gsub(Annotation, pattern = \"CD4 Unconventional T cells\", replacement = \"\"))  %>% \n",
    "mutate(annot2 = case_when(Annotation %in% c(\"Treg\",\"Tfh\",\"ISAGhi\",\"Th2\",\"Nfkb\",\"Th1Th17\",\"Proliferating\") ~ \"NonNaive\", \n",
    "                          TRUE ~ Annotation))"
   ]
  },
  {
   "cell_type": "code",
   "execution_count": null,
   "id": "1be7406b",
   "metadata": {},
   "outputs": [],
   "source": [
    "cd4_l1_full_filt$annotations_l2_sample  <- paste(cd4_l1_full_filt$annot2, cd4_l1_full_filt$Sample_ID)"
   ]
  },
  {
   "cell_type": "code",
   "execution_count": null,
   "id": "1b32b2b8",
   "metadata": {},
   "outputs": [],
   "source": [
    "cd4_l1_full_filt@meta.data  <- cd4_l1_full_filt@meta.data  %>%  group_by(Patient_Time)  %>% tally"
   ]
  },
  {
   "cell_type": "code",
   "execution_count": null,
   "id": "c749c7f2",
   "metadata": {},
   "outputs": [],
   "source": [
    "# Extract the dataframe with seurat metadata\n",
    "seurat_meta_data <- cd4_l1_full_filt@meta.data\n",
    "seurat_meta_data$sample <- seurat_meta_data$annotations_l2_sample\n",
    "\n",
    "# Select genes of interest\n",
    "# The script only works for two or more genes, you can't select just one!\n",
    "gene_hits <- c(\"NCAM1\", \"TRGC1\", \"CD8A\", \"CD8B\", \n",
    "               \"FCGR3A\",\"CD3D\",\"CD3G\",\"CD3Z\", \"ZBTB16\", \n",
    "              \"CD4\",\"GZMB\")\n",
    "\n",
    "# By default the percentage of calculated cells is computed for whole sample\n",
    "# Optionally, you can select a cluster that you're interested in by subsetting:\n",
    "# pbmc_small <- subset(pbmc_small, seurat_clusters == 3)\n",
    "\n",
    "\n",
    "# Now we will calculate the percentage of expressing cells for each sample and we will merge the resulting dataframes\n",
    "expr_data4 <- data.frame(genes = gene_hits)\n",
    "\n",
    "# We will need a function that will convert any non-zero count to value 1\n",
    "fns_replace <- function(x){ifelse(x>0,1,0)}\n",
    "\n",
    "for(j in (pull(seurat_meta_data, sample)  %>% unique)){\n",
    "  \n",
    "  # subset only selected cell type\n",
    "  seu_sub_sample <- subset(cd4_l1_full_filt, annotations_l2_sample == j) \n",
    "  \n",
    "  # select the rows corresponding to genes of interest\n",
    "  index_subset <- which(rownames(seu_sub_sample@assays$RNA@counts) %in% gene_hits)\n",
    "  \n",
    "  # create a dataframe with genes of interest and cells of interest\n",
    "  expr_data <- as.data.frame(seu_sub_sample@assays$RNA@counts[index_subset,]) \n",
    "  \n",
    "  # convert expression to binary values\n",
    "  expr_data2 <- expr_data %>% mutate(across(.fns = fns_replace))\n",
    "  rownames(expr_data2) <- rownames(expr_data)\n",
    "  \n",
    "  # calculate average expresion (percentage of cells expressing the gene)\n",
    "  expr_data3 <- rowMeans(expr_data2)\n",
    "  \n",
    "  # add zeroes in cases of no expression\n",
    "  for(k in gene_hits){\n",
    "    if(k %in% names(expr_data3) == F){expr_data3[[k]] <- 0}\n",
    "  }\n",
    "  \n",
    "  expr_data3 <- as.data.frame(expr_data3)\n",
    "  colnames(expr_data3) <- j\n",
    "  expr_data3$genes <- rownames(expr_data3)\n",
    "  \n",
    "  # final dataframe with values in correct order (all cell type, loop results)\n",
    "  expr_data4 <- left_join(expr_data4, expr_data3, by=\"genes\")\n",
    "  \n",
    "}"
   ]
  },
  {
   "cell_type": "code",
   "execution_count": null,
   "id": "9105bbd8",
   "metadata": {},
   "outputs": [],
   "source": [
    "expr_data4 "
   ]
  },
  {
   "cell_type": "code",
   "execution_count": null,
   "id": "811f6c4e",
   "metadata": {},
   "outputs": [],
   "source": [
    "# Now we have the whole dataframe, we just need to tidy it a bit, add metadata and visualize\n",
    "\n",
    "expr_data5 <- as.data.frame(t(expr_data4))\n",
    "colnames(expr_data5) <- expr_data5[1,]\n",
    "expr_data5 <- expr_data5[2:nrow(expr_data5),]\n",
    "expr_data5$sample <- rownames(expr_data5)\n",
    "expr_data5 <- expr_data5 %>% pivot_longer( !sample, names_to = \"gene\", values_to = \"pct_express\")\n",
    "\n",
    "# Add metadata per sample - select those that you will use in the plot below\n",
    "md_to_join <- seurat_meta_data %>% dplyr::select(sample = annotations_l2_sample)  %>% \n",
    "unique() %>% mutate(sample = as.character(sample))\n",
    "md2 <- left_join(expr_data5, md_to_join, by = \"sample\") %>% ungroup %>% unique"
   ]
  },
  {
   "cell_type": "code",
   "execution_count": null,
   "id": "ae6bd4fd",
   "metadata": {},
   "outputs": [],
   "source": [
    "md2\n",
    "\n",
    "md2 %>% \n",
    "mutate(Sample_ID = substr(sample,nchar(sample)-3,nchar(sample)))  %>% \n",
    "mutate(population = substr(sample,1,nchar(sample)-3)) \n",
    "\n",
    "options(repr.plot.width = 20, repr.plot.height = 12)\n",
    "\n",
    "md2 %>% \n",
    "dplyr::filter(gene != \"CD3Z\")  %>% \n",
    "pivot_wider(names_from = \"gene\", values_from = \"pct_express\", values_fill = \"0\")  %>% \n",
    "pivot_longer(cols = c(2:11), names_to = \"gene\", values_to = \"pct_express\")  %>% \n",
    "mutate(Sample_ID = substr(sample,nchar(sample)-3,nchar(sample)))  %>% \n",
    "mutate(population = substr(sample,1,nchar(sample)-3))  %>% \n",
    "ggplot(aes(x = population, y = as.numeric(pct_express))) + \n",
    " geom_violin(alpha = 0.3, aes(fill = population), scale = \"width\") + \n",
    " \n",
    "geom_beeswarm(size = 1.5, aes(fill = population), cex = 2, \n",
    "                shape = 21, color = \"grey40\",corral = \"random\") +\n",
    " stat_summary(fun = \"median\",\n",
    "               geom = \"crossbar\", \n",
    "               width = 0.75,\n",
    "               color = \"grey30\") +\n",
    " #stat_compare_means(label = \"p.format\", comparisons = list(c(1,2))) +\n",
    "  theme_minimal() + \n",
    "  facet_wrap(~gene, scales = \"free\", ncol = 5) + \n",
    "  ylim(c(0,NA)) +\n",
    "#ggpubr::stat_compare_means()+\n",
    "  ylab(\"Percentage of expressing cells\") +\n",
    "  theme_classic() + ggtheme() +\n",
    " theme(legend.title = element_blank(),axis.text.x = element_text(angle = 90)) \n",
    "\n",
    "#ggsave(\"../figures/scRNAseq_gd_characterization.svg\", width = 13, height = 9)"
   ]
  },
  {
   "cell_type": "code",
   "execution_count": null,
   "id": "e6836d82",
   "metadata": {},
   "outputs": [],
   "source": [
    "options(repr.plot.width = 15, repr.plot.height = 8)\n",
    "\n",
    "md2 %>% \n",
    "pivot_wider(names_from = \"gene\", values_from = \"pct_express\", values_fill = \"0\")  %>% \n",
    "pivot_longer(cols = c(2:11), names_to = \"gene\", values_to = \"pct_express\")  %>% \n",
    "mutate(Sample_ID = substr(sample,nchar(sample)-3,nchar(sample)))  %>% \n",
    "mutate(population = substr(sample,1,nchar(sample)-3))  %>% \n",
    "ggplot(aes(x = population, y = as.numeric(pct_express))) + \n",
    "  geom_boxplot(outlier.shape = NA) +\n",
    "  geom_dotplot(binaxis='y', stackdir='center', dotsize=0) + \n",
    "  geom_jitter(position=position_jitter(0.2), size = 2, aes(color = factor(population))) +\n",
    "  theme_minimal() + \n",
    "  facet_wrap(~gene, scales = \"free\", ncol = 5) + \n",
    "  ylim(c(0,NA)) +\n",
    "ggpubr::stat_compare_means()+\n",
    "  ylab(\"Percentage of expressing cells\") +\n",
    "  theme(legend.title = element_blank())"
   ]
  },
  {
   "cell_type": "code",
   "execution_count": null,
   "id": "069c58b7",
   "metadata": {},
   "outputs": [],
   "source": [
    "options(repr.plot.width = 20, repr.plot.height = 12)\n",
    "\n",
    "md2 %>% \n",
    "dplyr::filter(gene != \"CD3Z\" & gene != \"CD8A\")  %>% \n",
    "pivot_wider(names_from = \"gene\", values_from = \"pct_express\", values_fill = \"0\")  %>% \n",
    "pivot_longer(cols = c(2:10), names_to = \"gene\", values_to = \"pct_express\")  %>% \n",
    "mutate(Sample_ID = substr(sample,nchar(sample)-3,nchar(sample)))  %>% \n",
    "mutate(population = substr(sample,1,nchar(sample)-3))  %>% \n",
    "ggplot(aes(x = population, y = as.numeric(pct_express))) + \n",
    " geom_violin(alpha = 0.4, aes(fill = population), scale = \"width\") + \n",
    "scale_fill_manual(values = c(\"#d4a323ff\", \"#f1c07dff\", \"#800000b4\",\"#dd665bff\")) + \n",
    "#geom_beeswarm(size = 1.5, aes(fill = population), cex = 2, \n",
    "#                shape = 21, color = \"grey40\",corral = \"random\") +\n",
    " stat_summary(fun = \"median\",\n",
    "               geom = \"crossbar\", \n",
    "               width = 0.75,\n",
    "               color = \"grey30\") +\n",
    " #stat_compare_means(label = \"p.format\", comparisons = list(c(1,2))) +\n",
    "  theme_minimal() + \n",
    "  facet_wrap(~gene, scales = \"free\", ncol = 5) + \n",
    "  ylim(c(0,NA)) +\n",
    "#ggpubr::stat_compare_means()+\n",
    "  ylab(\"Percentage of expressing cells\") +\n",
    "  theme_classic() + ggtheme() +\n",
    " theme(legend.title = element_blank(),axis.text.x = element_text(angle = 90)) \n",
    "\n",
    "ggsave(\"../figures/scRNAseq_CD4Temra_characterization.svg\", width = 13, height = 9)"
   ]
  },
  {
   "cell_type": "code",
   "execution_count": null,
   "id": "caa9f749",
   "metadata": {
    "scrolled": true
   },
   "outputs": [],
   "source": [
    "test"
   ]
  },
  {
   "cell_type": "code",
   "execution_count": null,
   "id": "8673d539",
   "metadata": {},
   "outputs": [],
   "source": [
    "ggplot(test) +\n",
    "  aes(x = annotation, fill = factor(pred)) +\n",
    "  geom_bar(position = \"fill\") + \n",
    "theme_classic() + \n",
    "ggtheme() +\n",
    "scale_fill_manual(values = c(\"white\",\"white\", \"white\", \"red2\")) + \n",
    " theme(legend.title = element_blank(),axis.text.x = element_text(angle = 90)) "
   ]
  },
  {
   "cell_type": "code",
   "execution_count": null,
   "id": "27b54cf0",
   "metadata": {},
   "outputs": [],
   "source": [
    "options(repr.plot.width = 7, repr.plot.height = 23)\n",
    "test2  <- test  %>% mutate(\n",
    "                  Annotation = gsub(annotation, pattern = \"---\", replacement = \"\"))  %>% \n",
    "mutate(Annotation = gsub(Annotation, pattern = \"CD4 T cells\", replacement = \"\"))  %>% \n",
    "mutate(Annotation = gsub(Annotation, pattern = \"CD4 Unconventional T cells\", replacement = \"\"))  %>% \n",
    "mutate(annot2 = case_when(Annotation %in% c(\"Treg\",\"Tfh\",\"ISAGhi\",\"Th2\",\"Nfkb\",\"Th1Th17\",\"Proliferating\") ~ \"NonNaive\", \n",
    "                          TRUE ~ Annotation))"
   ]
  },
  {
   "cell_type": "code",
   "execution_count": null,
   "id": "85fc4452",
   "metadata": {
    "scrolled": true
   },
   "outputs": [],
   "source": [
    "test2  %>% unique"
   ]
  },
  {
   "cell_type": "code",
   "execution_count": null,
   "id": "14f7bf30",
   "metadata": {},
   "outputs": [],
   "source": [
    "options(repr.plot.width = 7, repr.plot.height = 30)\n",
    "\n",
    "ggplot(test2) +\n",
    "  aes(x = annot2, fill = factor(pred)) +\n",
    "  geom_bar(position = \"fill\") + \n",
    "theme_classic() + \n",
    "ggtheme() +\n",
    "scale_fill_manual(values = c(\"white\",\"white\", \"white\", \"red2\")) + \n",
    "scale_y_continuous(n.breaks = 40, expand = c(0,NA)) +\n",
    " theme(legend.title = element_blank(),axis.text.x = element_text(angle = 90)) \n",
    "\n",
    "ggsave(\"../figures/cd4_temra_pct.svg\", width = 15, height = 45, units = \"cm\")"
   ]
  },
  {
   "cell_type": "markdown",
   "id": "48448340",
   "metadata": {},
   "source": [
    "## Temra subclustering"
   ]
  },
  {
   "cell_type": "code",
   "execution_count": null,
   "id": "071d1594",
   "metadata": {},
   "outputs": [],
   "source": [
    "cd4_l3_temra  <- readRDS(\"../../240218_VN_Diabetes_V05/data/processed/L3/cd4_l3_temra.rds\")"
   ]
  },
  {
   "cell_type": "code",
   "execution_count": null,
   "id": "e32149f8",
   "metadata": {},
   "outputs": [],
   "source": [
    "### Temra\n",
    "options(repr.plot.width = 6, repr.plot.height = 5)\n",
    "\n",
    "DimPlot(cd4_l3_temra, label = T)"
   ]
  },
  {
   "cell_type": "code",
   "execution_count": null,
   "id": "8cbe6a3f",
   "metadata": {
    "scrolled": true
   },
   "outputs": [],
   "source": [
    "mrk  <- FindAllMarkers(cd4_l3_temra)"
   ]
  },
  {
   "cell_type": "code",
   "execution_count": null,
   "id": "cd0e8baf",
   "metadata": {},
   "outputs": [],
   "source": [
    "options(repr.plot.width = 12, repr.plot.height = 6)\n",
    "\n",
    "FeaturePlot(cd4_l3_temra, features = c(\"CD4\",\"TRGV2\",\"TRDC\",\"CD8A\",\"NCAM1\",\"GZMB\"), ncol = 3)"
   ]
  },
  {
   "cell_type": "code",
   "execution_count": null,
   "id": "1a1e5f69",
   "metadata": {},
   "outputs": [],
   "source": [
    "FeaturePlot(cd4_l3_temra, features = c(\"CD4\",\"TRGV2\",\"NCR1\",\"MKI67\",\"CD3D\"), ncol = 3)"
   ]
  },
  {
   "cell_type": "code",
   "execution_count": null,
   "id": "c3ddc7c1",
   "metadata": {},
   "outputs": [],
   "source": [
    "options(repr.plot.width = 4, repr.plot.height = 3.5)\n",
    "DimPlot(cd4_l3_temra, label = F, shuffle = TRUE, \n",
    "        group.by = \"annotations_manual\", \n",
    "       cols = c(\"#af3d3db4\", \"#640000ff\", \"#b124cdff\", \"#9ad5ffff\",\"#ebc6d3ff\" )) + NoLegend()"
   ]
  },
  {
   "cell_type": "code",
   "execution_count": null,
   "id": "42377827",
   "metadata": {},
   "outputs": [],
   "source": [
    "options(repr.plot.width = 6, repr.plot.height = 3.5)\n",
    "\n",
    "DimPlot(cd4_l3_temra, label = F, shuffle = TRUE, \n",
    "        group.by = \"annotations_manual\", \n",
    "       cols = c(\"#af3d3db4\", \"#640000ff\", \"#b124cdff\", \"#9ad5ffff\",\"#ebc6d3ff\" )) "
   ]
  },
  {
   "cell_type": "code",
   "execution_count": null,
   "id": "ead6d4f7",
   "metadata": {},
   "outputs": [],
   "source": [
    "df4  <- create_df4(cd4_l3_temra)"
   ]
  },
  {
   "cell_type": "code",
   "execution_count": null,
   "id": "e1aa5578",
   "metadata": {},
   "outputs": [],
   "source": [
    "p5  <-   df4  %>% \n",
    "filter(Experiment_ID %in% c(\"Exp16\", \"Exp18\", \"Exp19\", \"Exp20\"))  %>% \n",
    "  ggplot(aes(x = Condition, y = freq*100)) + # you can change the x to whatever variable you're interested in\n",
    "   geom_violin(alpha = 0.3, aes(fill = Condition)) +\n",
    "  stat_summary(fun = \"median\",\n",
    "               geom = \"crossbar\", \n",
    "               width = 0.75,\n",
    "               color = \"grey30\") +\n",
    "   scale_fill_manual(values = c(\"#1874cdff\",  \"#ee6363ff\", \"#c41515ff\",\"#eeb4b4ff\")) +\n",
    "scale_color_manual(values = c(\"dodgerblue3\",  \"#e54c4cff\", \"#aa2a2aff\",\"#e88989ff\")) +\n",
    "geom_beeswarm(size = 3, cex = 3, \n",
    "              color = \"black\", method = \"center\",\n",
    "             aes(fill = Condition), shape = 21) +\n",
    "   facet_wrap(~annotations_manual, scales = \"free\", ncol = 9) +\n",
    "  ylab(\"Frequency\") +\n",
    "  xlab(\"Condition\") +\n",
    "  theme_classic() +\n",
    "ggtheme() +\n",
    "ggpubr::stat_compare_means(label.x= 1.5, \n",
    "                           size = 7, vjust = -1, label = \"p.format\", comparisons = list(c(1,2)))+\n",
    "ggtheme() +\n",
    " scale_y_continuous(limits = c(0,NA), expand = c(0.05,0,0,10)) +\n",
    "  theme(strip.background = element_blank(), panel.grid = element_blank()) + \n",
    "  theme(axis.text = element_text(color = \"black\"),\n",
    "        axis.text.x = element_text(angle = 90),\n",
    "       axis.line = element_line(color = \"black\", size = 0.5),\n",
    "        axis.ticks.x = element_blank()) + NoLegend() + ggtitle(\"Final data all groups\")\n",
    "ncols = length(levels(factor(df4$annotations_manual)))"
   ]
  },
  {
   "cell_type": "code",
   "execution_count": null,
   "id": "0b9e76db",
   "metadata": {},
   "outputs": [],
   "source": [
    "options(repr.plot.width = 15, repr.plot.height = 7)\n",
    "p5"
   ]
  },
  {
   "cell_type": "code",
   "execution_count": null,
   "id": "a65d3154",
   "metadata": {},
   "outputs": [],
   "source": [
    "options(repr.plot.width = 15, repr.plot.height = 7)\n",
    "p5  <-   df4  %>% \n",
    "filter(Experiment_ID %in% c(\"Exp16\", \"Exp18\", \"Exp19\", \"Exp20\"))  %>% \n",
    "  ggplot(aes(x = Condition, y = freq*100)) + # you can change the x to whatever variable you're interested in\n",
    "   geom_violin(alpha = 0.3, aes(fill = Condition)) +\n",
    "  stat_summary(fun = \"median\",\n",
    "               geom = \"crossbar\", \n",
    "               width = 0.75,\n",
    "               color = \"grey30\") +\n",
    "   scale_fill_manual(values = c(\"#1874cdff\",  \"#ee6363ff\", \"#c41515ff\",\"#eeb4b4ff\")) +\n",
    "scale_color_manual(values = c(\"dodgerblue3\",  \"#e54c4cff\", \"#aa2a2aff\",\"#e88989ff\")) +\n",
    "geom_beeswarm(size = 3, cex = 3, \n",
    "              color = \"black\", method = \"center\",\n",
    "             aes(fill = Condition), shape = 21) +\n",
    "   facet_wrap(~annotations_manual, scales = \"free\", ncol = 9) +\n",
    "  ylab(\"Frequency\") +\n",
    "  xlab(\"Condition\") +\n",
    "  theme_classic() +\n",
    "ggtheme() +\n",
    "ggpubr::stat_compare_means(label.x= 1.5, \n",
    "                           size = 7, vjust = -1, label = \"p.format\", comparisons = list(c(2,3)))+\n",
    "ggtheme() +\n",
    " scale_y_continuous(limits = c(0,NA), expand = c(0.05,0,0,10)) +\n",
    "  theme(strip.background = element_blank(), panel.grid = element_blank()) + \n",
    "  theme(axis.text = element_text(color = \"black\"),\n",
    "        axis.text.x = element_text(angle = 90),\n",
    "       axis.line = element_line(color = \"black\", size = 0.5),\n",
    "        axis.ticks.x = element_blank()) + NoLegend() + ggtitle(\"Final data all groups\")\n",
    "ncols = length(levels(factor(df4$annotations_manual)))\n",
    "p5\n",
    "\n",
    "ggsave(\"../figures/subset_characterization/temra_subsets_in_condition.svg\",\n",
    "       width = 30, height = 12, units = \"cm\")"
   ]
  },
  {
   "cell_type": "code",
   "execution_count": null,
   "id": "46a79cf5",
   "metadata": {},
   "outputs": [],
   "source": []
  },
  {
   "cell_type": "code",
   "execution_count": null,
   "id": "4c5046aa",
   "metadata": {},
   "outputs": [],
   "source": []
  },
  {
   "cell_type": "code",
   "execution_count": null,
   "id": "b3d7b628",
   "metadata": {},
   "outputs": [],
   "source": []
  },
  {
   "cell_type": "markdown",
   "id": "9642b4d3",
   "metadata": {},
   "source": [
    "## Temra without NK"
   ]
  },
  {
   "cell_type": "code",
   "execution_count": null,
   "id": "8a1af615",
   "metadata": {},
   "outputs": [],
   "source": [
    "cd4_l3_temra"
   ]
  },
  {
   "cell_type": "code",
   "execution_count": null,
   "id": "4ddc08d2",
   "metadata": {},
   "outputs": [],
   "source": [
    "cd4_l3_temra  <- subset(cd4_l3_temra, seurat_clusters %in% c(0,1,2,4))"
   ]
  },
  {
   "cell_type": "code",
   "execution_count": null,
   "id": "1f1e5225",
   "metadata": {},
   "outputs": [],
   "source": [
    "DefaultAssay(cd4_l3_temra)  <- \"integrated\"\n"
   ]
  },
  {
   "cell_type": "code",
   "execution_count": null,
   "id": "e66cfbf3",
   "metadata": {
    "scrolled": true
   },
   "outputs": [],
   "source": [
    "cd4_l3_temra <- RunUMAP(cd4_l3_temra, dims = 1:12)\n"
   ]
  },
  {
   "cell_type": "code",
   "execution_count": null,
   "id": "2d8ba27e",
   "metadata": {},
   "outputs": [],
   "source": [
    "cd4_l3_temra <- FindNeighbors(cd4_l3_temra, reduction = \"pca\", dims = 1:12)"
   ]
  },
  {
   "cell_type": "code",
   "execution_count": null,
   "id": "93b3d2ec",
   "metadata": {},
   "outputs": [],
   "source": [
    "cd4_l3_temra <- FindClusters(cd4_l3_temra, resolution = 0.5)\n",
    "\n",
    "DimPlot(cd4_l3_temra, label = T)"
   ]
  },
  {
   "cell_type": "code",
   "execution_count": null,
   "id": "8448cc50",
   "metadata": {},
   "outputs": [],
   "source": [
    "mrk  <- FindAllMarkers(cd4_l3_temra, logfc.threshold = log(2))"
   ]
  },
  {
   "cell_type": "code",
   "execution_count": null,
   "id": "3844ea67",
   "metadata": {
    "scrolled": true
   },
   "outputs": [],
   "source": [
    "mrk  %>% dplyr::filter(cluster == 3 & avg_log2FC > 1)"
   ]
  },
  {
   "cell_type": "code",
   "execution_count": null,
   "id": "ae5f2a0b",
   "metadata": {},
   "outputs": [],
   "source": [
    "markers  <- c(\"IL7R\",\"TRDC\",\"GZMK\",\"GZMB\",\"CD244\",\"TRGV9\",\"LTB\",\"KLRB1\",\"CXCR6\",\"CX3CR1\",\"ZEB2\",\"GNLY\",\n",
    "             \"ANXA1\",\"ITGB1\",\"CD27\",\"TCF7\",\"SELL\",\"XCL2\",\"NELL2\",\"CD160\",\"TIGIT\",\"CTLA4\")"
   ]
  },
  {
   "cell_type": "code",
   "execution_count": null,
   "id": "efb93577",
   "metadata": {},
   "outputs": [],
   "source": [
    "avgexp = AverageExpression(cd4_l3_temra, features = markers,\n",
    "                           return.seurat = F, group.by = \"seurat_clusters\", \n",
    "                          assay = \"RNA\")\n",
    "\n",
    "avgexp$RNA"
   ]
  },
  {
   "cell_type": "code",
   "execution_count": null,
   "id": "61d1eb26",
   "metadata": {},
   "outputs": [],
   "source": [
    "markers  <- c(\"IL7R\",\"SELL\",\"KLRB1\",\"CX3CR1\",\"ANXA1\",\"ITGB1\",\"GZMB\",\"GNLY\",\"ZEB2\",\"LTB\",\"CXCR6\",\"GZMK\",\n",
    "             \"NELL2\",\"TCF7\",\"CD27\",\"XCL2\",\"CD160\")\n",
    "avgexp = AverageExpression(cd4_l3_temra, features = markers,\n",
    "                           return.seurat = F, group.by = \"seurat_clusters\", \n",
    "                          assay = \"RNA\")\n"
   ]
  },
  {
   "cell_type": "code",
   "execution_count": null,
   "id": "57a3019a",
   "metadata": {},
   "outputs": [],
   "source": [
    "options(repr.plot.width = 14, repr.plot.height = 3.7)\n",
    "pheatmap(t(avgexp$RNA), main = \"\", \n",
    "         scale = \"column\", cluster_cols = F, cluster_rows = T,\n",
    "        color=colorRampPalette(c(\"dodgerblue\", \"grey95\", \"indianred2\"))(50), \n",
    "         border_color = \"white\",\n",
    "                  fontsize = 9,\n",
    "      #  filename = \"../figures/subset_characterization/cd4_temra_heatmap.pdf\",\n",
    "        width = 8, height = 3)"
   ]
  },
  {
   "cell_type": "code",
   "execution_count": null,
   "id": "2f3e3ffe",
   "metadata": {},
   "outputs": [],
   "source": [
    "options(repr.plot.width = 14, repr.plot.height = 3.7)\n",
    "pheatmap(t(avgexp$RNA), main = \"\", \n",
    "         scale = \"column\", cluster_cols = F, cluster_rows = T,\n",
    "        color=colorRampPalette(c(\"dodgerblue\", \"grey95\", \"indianred2\"))(50), \n",
    "         border_color = \"white\",\n",
    "                  fontsize = 9,\n",
    "        filename = \"../figures/subset_characterization/cd4_temra_heatmap.pdf\",\n",
    "        width = 8, height = 3)"
   ]
  },
  {
   "cell_type": "code",
   "execution_count": null,
   "id": "8f5da93d",
   "metadata": {
    "scrolled": true
   },
   "outputs": [],
   "source": [
    "options(repr.plot.width = 6, repr.plot.height = 5)\n",
    "\n",
    "DimPlot(cd4_l3_temra, , pt.size = 7, raster = T, raster.dpi = c(600,600),\n",
    "        cols = c(\"#c86f6fff\", \"#640000ff\", \"#e29bb3ff\", \"#f4d7d7ff\" ))\n",
    "#ggsave(\"../figures/subset_characterization/DimPlot_temra_subsets.svg\", \n",
    "#      width = 10, height = 7.5, units = \"cm\")"
   ]
  },
  {
   "cell_type": "code",
   "execution_count": null,
   "id": "578e82f4",
   "metadata": {},
   "outputs": [],
   "source": [
    "options(repr.plot.width = 6, repr.plot.height = 5)\n",
    "\n",
    "FeaturePlot(cd4_l3_temra, \"TIGIT\", min.cutoff = 0)"
   ]
  },
  {
   "cell_type": "code",
   "execution_count": null,
   "id": "48957c31",
   "metadata": {},
   "outputs": [],
   "source": [
    "FeaturePlot(cd4_l3_temra, \"GZMK\", min.cutoff = 0)"
   ]
  },
  {
   "cell_type": "code",
   "execution_count": null,
   "id": "50fc313f",
   "metadata": {},
   "outputs": [],
   "source": [
    "FeaturePlot(cd4_l3_temra, \"ZBTB16\", min.cutoff = 0)"
   ]
  },
  {
   "cell_type": "code",
   "execution_count": null,
   "id": "eae03d40",
   "metadata": {},
   "outputs": [],
   "source": [
    "FeaturePlot(cd4_l3_temra, \"TRGV9\", min.cutoff = 0)"
   ]
  },
  {
   "cell_type": "code",
   "execution_count": null,
   "id": "d9f2fc1b",
   "metadata": {},
   "outputs": [],
   "source": [
    "FeaturePlot(cd4_l3_temra, \"CD4\", min.cutoff = 0)"
   ]
  },
  {
   "cell_type": "code",
   "execution_count": null,
   "id": "5a910c8f",
   "metadata": {},
   "outputs": [],
   "source": [
    "FeaturePlot(cd4_l3_temra, \"CD8B\", min.cutoff = 0)"
   ]
  },
  {
   "cell_type": "code",
   "execution_count": null,
   "id": "41effe9f",
   "metadata": {},
   "outputs": [],
   "source": [
    "FeaturePlot(cd4_l3_temra, \"CD8B\", min.cutoff = 0)"
   ]
  },
  {
   "cell_type": "code",
   "execution_count": null,
   "id": "4f627b8a",
   "metadata": {},
   "outputs": [],
   "source": [
    "options(repr.plot.width = 6, repr.plot.height = 5)\n",
    "DimPlot(cd4_l3_temra, \n",
    "        cells.highlight = colnames(cd4_l3_temra)[cd4_l3_temra$v_gene_A1 == \"TRAV10\" & \n",
    "                                                    cd4_l3_temra$j_gene_A1 == \"TRAJ18\"]) + NoLegend()\n"
   ]
  },
  {
   "cell_type": "code",
   "execution_count": null,
   "id": "a04f3182",
   "metadata": {},
   "outputs": [],
   "source": [
    "cd4_l3_temra$annotations_manual  <- cd4_l3_temra$seurat_clusters"
   ]
  },
  {
   "cell_type": "code",
   "execution_count": null,
   "id": "f12efb9d",
   "metadata": {},
   "outputs": [],
   "source": [
    "df4  <- create_df4(cd4_l3_temra)"
   ]
  },
  {
   "cell_type": "code",
   "execution_count": null,
   "id": "22501c77",
   "metadata": {},
   "outputs": [],
   "source": [
    "p5  <-   df4  %>% \n",
    "filter(Experiment_ID %in% c(\"Exp16\", \"Exp18\", \"Exp19\", \"Exp20\"))  %>% \n",
    "  ggplot(aes(x = Condition, y = freq*100)) + # you can change the x to whatever variable you're interested in\n",
    "   geom_violin(alpha = 0.3, aes(fill = Condition)) +\n",
    "  stat_summary(fun = \"median\",\n",
    "               geom = \"crossbar\", \n",
    "               width = 0.75,\n",
    "               color = \"grey30\") +\n",
    "   scale_fill_manual(values = c(\"#1874cdff\",  \"#ee6363ff\", \"#c41515ff\",\"#eeb4b4ff\")) +\n",
    "scale_color_manual(values = c(\"dodgerblue3\",  \"#e54c4cff\", \"#aa2a2aff\",\"#e88989ff\")) +\n",
    "geom_beeswarm(size = 3, cex = 3, \n",
    "              color = \"black\", method = \"center\",\n",
    "             aes(fill = Condition), shape = 21) +\n",
    "   facet_wrap(~annotations_manual, scales = \"free\", ncol = 9) +\n",
    "  ylab(\"Frequency\") +\n",
    "  xlab(\"Condition\") +\n",
    "  theme_classic() +\n",
    "ggtheme() +\n",
    "ggpubr::stat_compare_means(label.x= 1.5, \n",
    "                           size = 7, vjust = -1, label = \"p.format\", comparisons = list(c(2,3)))+\n",
    "ggtheme() +\n",
    " scale_y_continuous(limits = c(0,NA), expand = c(0.05,0,0,15)) +\n",
    "  theme(strip.background = element_blank(), panel.grid = element_blank()) + \n",
    "  theme(axis.text = element_text(color = \"black\"),\n",
    "        axis.text.x = element_text(angle = 90),\n",
    "       axis.line = element_line(color = \"black\", size = 0.5),\n",
    "        axis.ticks.x = element_blank()) + NoLegend() + ggtitle(\"Final data all groups\")\n",
    "ncols = length(levels(factor(df4$annotations_manual)))"
   ]
  },
  {
   "cell_type": "code",
   "execution_count": null,
   "id": "0d529221",
   "metadata": {},
   "outputs": [],
   "source": [
    "options(repr.plot.width = 14, repr.plot.height = 6)\n",
    "p5"
   ]
  },
  {
   "cell_type": "code",
   "execution_count": null,
   "id": "e452416e",
   "metadata": {},
   "outputs": [],
   "source": [
    "ggsave(\"../figures/subset_characterization/temra_subsets_in_condition.svg\",\n",
    "       width = 30, height = 12, units = \"cm\")"
   ]
  },
  {
   "cell_type": "markdown",
   "id": "2b738e70",
   "metadata": {},
   "source": [
    "### CD3-56 score in Temra"
   ]
  },
  {
   "cell_type": "code",
   "execution_count": null,
   "id": "c416461e",
   "metadata": {},
   "outputs": [],
   "source": [
    "colnames(cd4_l3_temra) %in% colnames(cd4_l1_full_filt)  %>% table"
   ]
  },
  {
   "cell_type": "code",
   "execution_count": null,
   "id": "6c985b22",
   "metadata": {},
   "outputs": [],
   "source": [
    "DimPlot(cd4_l3_temra)"
   ]
  },
  {
   "cell_type": "code",
   "execution_count": null,
   "id": "1edfeac6",
   "metadata": {},
   "outputs": [],
   "source": [
    "md_temra  <- cd4_l3_temra@meta.data"
   ]
  },
  {
   "cell_type": "code",
   "execution_count": null,
   "id": "1ff966ee",
   "metadata": {},
   "outputs": [],
   "source": [
    "md_full  <- cd4_l1_full_filt@meta.data  %>% dplyr::select(barcode, score_tr356, singler)"
   ]
  },
  {
   "cell_type": "code",
   "execution_count": null,
   "id": "11800999",
   "metadata": {},
   "outputs": [],
   "source": [
    "md_joint  <- left_join(md_temra, md_full)"
   ]
  },
  {
   "cell_type": "code",
   "execution_count": null,
   "id": "a27315f1",
   "metadata": {},
   "outputs": [],
   "source": [
    "rownames(md_joint)  <- rownames(cd4_l3_temra@meta.data)"
   ]
  },
  {
   "cell_type": "code",
   "execution_count": null,
   "id": "efd6f213",
   "metadata": {},
   "outputs": [],
   "source": [
    "cd4_l3_temra@meta.data  <- md_joint"
   ]
  },
  {
   "cell_type": "code",
   "execution_count": null,
   "id": "f3f92f8e",
   "metadata": {},
   "outputs": [],
   "source": [
    "DimPlot(cd4_l3_temra, group.by = \"singler\", cols = c(\"grey88\", \"blue\", \"red\"))"
   ]
  },
  {
   "cell_type": "code",
   "execution_count": null,
   "id": "c6b4cb51",
   "metadata": {},
   "outputs": [],
   "source": [
    "DimPlot(cd4_l3_temra, label.size = 10, label = T)"
   ]
  },
  {
   "cell_type": "code",
   "execution_count": null,
   "id": "870b2253",
   "metadata": {},
   "outputs": [],
   "source": [
    "test  <- data.frame(annotation = cd4_l3_temra$seurat_clusters,\n",
    "                    pred = cd4_l3_temra$singler)\n",
    "\n",
    "df2 <- test %>% group_by(annotation, pred) %>% \n",
    "  summarise(n = n()) %>%\n",
    "  mutate(freq = n / sum(n))\n",
    "\n",
    "df2\n",
    "\n",
    "options(repr.plot.width = 8, repr.plot.height = 4.5)\n",
    "ggplot(test) +\n",
    "  aes(x = annotation, fill = factor(pred)) +\n",
    "  geom_bar(position = \"fill\") + \n",
    "theme_classic() + \n",
    "ggtheme() +\n",
    "coord_flip() + \n",
    "scale_fill_manual(values = c(\"grey88\", \"lightskyblue1\", \"red2\"))\n"
   ]
  },
  {
   "cell_type": "code",
   "execution_count": null,
   "id": "a6873146",
   "metadata": {},
   "outputs": [],
   "source": [
    "options(repr.plot.width = 5, repr.plot.height = 6)\n",
    "\n",
    "data.frame(Score = cd4_l3_temra$score_tr356,\n",
    "          Patient_ID = cd4_l3_temra$Patient_ID,\n",
    "          Patient_Time = cd4_l3_temra$Patient_Time,\n",
    "          Disease = cd4_l3_temra$Disease, \n",
    "          Cluster = cd4_l3_temra$seurat_clusters, \n",
    "           Condition = cd4_l3_temra$Condition\n",
    "          )   %>% \n",
    "group_by(Cluster, Patient_Time)  %>% \n",
    "summarize(Score = mean(Score))  %>% \n",
    "ggplot(aes(x = Cluster, y = Score)) +\n",
    "  geom_violin() + \n",
    "geom_point()+\n",
    "stat_compare_means(comparisons = list(c(1,2),c(2,3))) +\n",
    "  stat_summary(fun = \"mean\",\n",
    "               geom = \"crossbar\", \n",
    "               width = 0.5,\n",
    "               colour = \"red\") + ggtitle(\"TR3-56 score cd4 Temra cells\") + theme_classic() + ggtheme() + xlab(\"\")"
   ]
  },
  {
   "cell_type": "code",
   "execution_count": null,
   "id": "172e62c1",
   "metadata": {
    "scrolled": true
   },
   "outputs": [],
   "source": [
    "options(repr.plot.width = 5, repr.plot.height = 6)\n",
    "\n",
    "data.frame(Score = cd4_l3_temra$score_tr356,\n",
    "          Patient_ID = cd4_l3_temra$Patient_ID,\n",
    "          Patient_Time = cd4_l3_temra$Patient_Time,\n",
    "          Disease = cd4_l3_temra$Disease, \n",
    "           Condition = cd4_l3_temra$Condition\n",
    "          )   %>% \n",
    "group_by(Condition, Patient_Time)  %>% \n",
    "summarize(Score = mean(Score))  %>% \n",
    "ggplot(aes(x = Condition, y = Score)) +\n",
    "  geom_violin() + \n",
    "geom_point()+\n",
    "stat_compare_means(comparisons = list(c(1,2),c(2,3))) +\n",
    "  stat_summary(fun = \"mean\",\n",
    "               geom = \"crossbar\", \n",
    "               width = 0.5,\n",
    "               colour = \"red\") + ggtitle(\"TR3-56 score cd4 Temra cells\") + theme_classic() + ggtheme() + xlab(\"\")"
   ]
  },
  {
   "cell_type": "code",
   "execution_count": null,
   "id": "fa09e939",
   "metadata": {},
   "outputs": [],
   "source": [
    "data.frame(Score = cd4_l3_temra$score_tr356,\n",
    "          Patient_ID = cd4_l3_temra$Patient_ID,\n",
    "          Patient_Time = cd4_l3_temra$Patient_Time,\n",
    "          Disease = cd4_l3_temra$Disease, \n",
    "           Condition = cd4_l3_temra$Condition\n",
    "          )   %>% \n",
    "ggplot(aes(x = Condition, y = Score)) +\n",
    "  geom_violin() + \n",
    "stat_compare_means(comparisons = list(c(1,2),c(2,3))) +\n",
    "  stat_summary(fun = \"mean\",\n",
    "               geom = \"crossbar\", \n",
    "               width = 0.5,\n",
    "               colour = \"red\") + ggtitle(\"TR3-56 score cd4 Temra cells\") + theme_classic() + ggtheme() + xlab(\"\")"
   ]
  },
  {
   "cell_type": "markdown",
   "id": "d0d6520b",
   "metadata": {},
   "source": [
    "## GZMK in CD4 Temra"
   ]
  },
  {
   "cell_type": "code",
   "execution_count": null,
   "id": "91f7105d",
   "metadata": {},
   "outputs": [],
   "source": [
    "genes  <- rownames(cd4_l3_temra@assays$RNA)"
   ]
  },
  {
   "cell_type": "code",
   "execution_count": null,
   "id": "7fc3e9db",
   "metadata": {},
   "outputs": [],
   "source": [
    "genes_filt  <- genes[!(grepl(genes, pattern = \"^MT\")|\n",
    "                            grepl(genes, pattern = \"\\\\.\")|\n",
    "                            grepl(genes, pattern = \"LINC\")|\n",
    "                            grepl(genes, pattern = \"^MIR\")|\n",
    "                            grepl(genes, pattern = \"^MT\")|\n",
    "                            grepl(genes, pattern = \"HNRNP\")|\n",
    "                            grepl(genes, pattern = \"^IG[KLH]\")|\n",
    "                            grepl(genes, pattern = \"^RP[LS]\")|\n",
    "                            grepl(genes, pattern = \"\\\\-\")|\n",
    "                            grepl(genes, pattern = \"TTTY\")|\n",
    "                            grepl(genes, pattern = \"ORF\")|\n",
    "                            grepl(genes, pattern = \"orf\"))\n",
    "                            ]"
   ]
  },
  {
   "cell_type": "code",
   "execution_count": null,
   "id": "658d1d7c",
   "metadata": {},
   "outputs": [],
   "source": [
    "aggexp_cd4  <- AverageExpression(cd4_l3_temra, group.by = c(\"Sample_ID\"), \n",
    "                                  features = genes_filt, return.seurat = T, assay = \"RNA\")"
   ]
  },
  {
   "cell_type": "code",
   "execution_count": null,
   "id": "0de897e8",
   "metadata": {},
   "outputs": [],
   "source": [
    "md_cd4  <- cd4_l3_temra@meta.data  %>% \n",
    "group_by(Sample_ID, Condition, Condition2, Age, Sex)  %>% tally  %>% dplyr::select(-n)  %>% \n",
    "ungroup  %>% \n",
    "mutate(Sample_ID = as.factor(Sample_ID))\n",
    "\n",
    "md_cd4$Sample_ID  <- paste0(\"g\",md_cd4$Sample_ID)\n",
    "\n",
    "\n",
    "md_cd4  <- left_join(aggexp_cd4@meta.data, md_cd4)\n",
    "rownames(md_cd4)  <- colnames(aggexp_cd4)"
   ]
  },
  {
   "cell_type": "code",
   "execution_count": null,
   "id": "5272793c",
   "metadata": {},
   "outputs": [],
   "source": [
    "aggexp_cd4@meta.data  <- md_cd4"
   ]
  },
  {
   "cell_type": "code",
   "execution_count": null,
   "id": "7561d128",
   "metadata": {},
   "outputs": [],
   "source": [
    "VlnPlot(aggexp_cd4, group.by = \"Condition\", features = \"GZMK\")"
   ]
  },
  {
   "cell_type": "code",
   "execution_count": null,
   "id": "cf4d8785",
   "metadata": {},
   "outputs": [],
   "source": [
    "VlnPlot(aggexp_cd4, group.by = \"Condition\", features = \"GZMK\", slot = \"data\")"
   ]
  },
  {
   "cell_type": "code",
   "execution_count": null,
   "id": "04560d09",
   "metadata": {},
   "outputs": [],
   "source": []
  },
  {
   "cell_type": "markdown",
   "id": "bdf56225",
   "metadata": {},
   "source": [
    "# DE genes heatmap avg."
   ]
  },
  {
   "cell_type": "markdown",
   "id": "db487cfd",
   "metadata": {},
   "source": [
    "## Heatmap"
   ]
  },
  {
   "cell_type": "code",
   "execution_count": null,
   "id": "c7e441bd",
   "metadata": {},
   "outputs": [],
   "source": [
    "cd4_l1_full_filt  <- readRDS(\"../data/processed/L1/cd4_l1_full_filt.rds\")"
   ]
  },
  {
   "cell_type": "markdown",
   "id": "1db11a7e",
   "metadata": {},
   "source": [
    "### All cells"
   ]
  },
  {
   "cell_type": "code",
   "execution_count": null,
   "id": "aad8e3db",
   "metadata": {},
   "outputs": [],
   "source": [
    "cd4_l1_full_filt$Patient_Time_Disease  <- paste(cd4_l1_full_filt$Patient_ID, cd4_l1_full_filt$Time, \n",
    "                                               cd4_l1_full_filt$Disease)"
   ]
  },
  {
   "cell_type": "code",
   "execution_count": null,
   "id": "4022892f",
   "metadata": {},
   "outputs": [],
   "source": [
    "cd4_l1_full_filt$Disease_time  <- paste(\n",
    "                                               cd4_l1_full_filt$Disease,\n",
    "cd4_l1_full_filt$Time)"
   ]
  },
  {
   "cell_type": "code",
   "execution_count": null,
   "id": "f56ac1ed",
   "metadata": {},
   "outputs": [],
   "source": [
    "avgexp = AverageExpression(subset(cd4_l1_full_filt, Experiment_ID %in% c(\"Exp16\",\"Exp18\",\"Exp19\",\"Exp20\")), \n",
    "                             return.seurat = F, group.by = \"Disease_time\", \n",
    "                          assay = \"RNA\")"
   ]
  },
  {
   "cell_type": "code",
   "execution_count": null,
   "id": "46b71665",
   "metadata": {},
   "outputs": [],
   "source": [
    "genes  <- c(\"PCBP2\",\"PCBP1\",\n",
    "            \"CX3CR1\",\"TNF\",\"GZMB\",\"GZMA\",\"PRF1\",\"NKG7\",\"GNLY\",\"CCL5\",\"CST7\",\n",
    "            \"BTG1\",\"SELL\",\"IL7R\",\"CCR7\",\"BTG2\",\"SLAMF6\",\"LEF1\",\n",
    "             \"TNFAIP3\",\"TSC22D3\",\"NKFBIA\",\"DUSP1\")"
   ]
  },
  {
   "cell_type": "code",
   "execution_count": null,
   "id": "b50bf43a",
   "metadata": {},
   "outputs": [],
   "source": [
    "avgexp  <- avgexp$RNA[which(rownames(avgexp$RNA) %in% genes),]"
   ]
  },
  {
   "cell_type": "code",
   "execution_count": null,
   "id": "2bca6c01",
   "metadata": {
    "scrolled": false
   },
   "outputs": [],
   "source": [
    "library(pheatmap)\n",
    "\n",
    "options(repr.plot.width = 4, repr.plot.height = 9)\n",
    "pheatmap(avgexp, main = \"\", scale = \"row\", cluster_cols = F, cluster_rows = T,\n",
    "        color=colorRampPalette(c(\"dodgerblue\", \"grey95\", \"indianred2\"))(50), \n",
    "         border_color = \"white\", width = 9, height = 3.3,\n",
    "                  fontsize = 9)"
   ]
  },
  {
   "cell_type": "markdown",
   "id": "4102f7ef",
   "metadata": {},
   "source": [
    "### Average of patient"
   ]
  },
  {
   "cell_type": "code",
   "execution_count": null,
   "id": "426cd4e0",
   "metadata": {},
   "outputs": [],
   "source": [
    "cd4_l1_full_filt$Patient_Time_Disease  <- paste(cd4_l1_full_filt$Patient_ID, cd4_l1_full_filt$Time, \n",
    "                                               cd4_l1_full_filt$Disease)"
   ]
  },
  {
   "cell_type": "code",
   "execution_count": null,
   "id": "b9b7f901",
   "metadata": {},
   "outputs": [],
   "source": [
    "avgexp = AverageExpression(subset(cd4_l1_full_filt, Experiment_ID %in% c(\"Exp16\",\"Exp18\",\"Exp19\",\"Exp20\")), \n",
    "                             return.seurat = T, group.by = \"Patient_Time_Disease\", \n",
    "                          assay = \"RNA\")"
   ]
  },
  {
   "cell_type": "code",
   "execution_count": null,
   "id": "82ceac2f",
   "metadata": {},
   "outputs": [],
   "source": [
    "avgexp$Patient_Time_Disease  <- colnames(avgexp)\n",
    "avgexp@meta.data  <- avgexp@meta.data  %>% \n",
    "separate(Patient_Time_Disease, into = c(\"Patient\", \"Time\", \"Disease\"), sep = \" \", remove = F)"
   ]
  },
  {
   "cell_type": "code",
   "execution_count": null,
   "id": "f04b204a",
   "metadata": {},
   "outputs": [],
   "source": [
    "avgexp$Disease_Time  <- paste(avgexp$Disease, avgexp$Time)"
   ]
  },
  {
   "cell_type": "code",
   "execution_count": null,
   "id": "c7308334",
   "metadata": {},
   "outputs": [],
   "source": [
    "avgexp2 = AverageExpression(avgexp, \n",
    "                             return.seurat = F, group.by = \"Disease_Time\")"
   ]
  },
  {
   "cell_type": "code",
   "execution_count": null,
   "id": "130a0b3f",
   "metadata": {},
   "outputs": [],
   "source": []
  },
  {
   "cell_type": "code",
   "execution_count": null,
   "id": "5b6176d4",
   "metadata": {},
   "outputs": [],
   "source": [
    "genes4  <- c(\"LEF1\",\"BACH2\",\"NELL2\",\"TCF7\",\"CXCR4\",\"ZFP36L2\",\"IL7R\",\"KLF2\",\"CCR7\",\"SELL\",\n",
    "            \n",
    "             \n",
    "            rev(c(\"TNFRSF9\",\"PRF1\",\"NKG7\",\"GZMB\",\"CST7\",\"GNLY\",\"GZMA\",\"CX3CR1\",\"CCL5\",\"TNF\",\"TBX21\",\"IFNG\")),\n",
    "             \"TNFAIP3\",\"DUSP1\",\"TSC22D3\",\"NFKBIA\",\"DDIT4\",\"INPP4B\",\n",
    "             rev(c(\"OASL\",\"IFI44L\",\"ISG15\",\"MX1\",\"STAT1\",\"IFI6\",\"IFIT3\")),\n",
    "                  \"BTN3A2\",\"BTN3A3\",\"HLA-C\",\"HLA-DQA1\",\"HLA-DQB1\")"
   ]
  },
  {
   "cell_type": "code",
   "execution_count": null,
   "id": "a6010a5d",
   "metadata": {},
   "outputs": [],
   "source": [
    "avgexp3  <- avgexp2$RNA[which(rownames(avgexp2$RNA) %in% genes4),]"
   ]
  },
  {
   "cell_type": "code",
   "execution_count": null,
   "id": "33086e24",
   "metadata": {
    "scrolled": true
   },
   "outputs": [],
   "source": [
    "options(repr.plot.width = 4, repr.plot.height = 9)\n",
    "pheatmap(avgexp3[match(genes4, rownames(avgexp3)),], \n",
    "         main = \"\", scale = \"row\", cluster_cols = F, cluster_rows = F,\n",
    "        color=colorRampPalette(c(\"dodgerblue\", \"grey95\", \"indianred2\"))(50), \n",
    "         border_color = \"white\", width = 9, height = 3.3,\n",
    "                  fontsize = 9)"
   ]
  },
  {
   "cell_type": "code",
   "execution_count": null,
   "id": "8f97a964",
   "metadata": {},
   "outputs": [],
   "source": [
    "dir.create(\"../figures/heatmaps/\")"
   ]
  },
  {
   "cell_type": "code",
   "execution_count": null,
   "id": "48a89b35",
   "metadata": {},
   "outputs": [],
   "source": [
    "options(repr.plot.width = 4, repr.plot.height = 9)\n",
    "pheatmap(avgexp3[match(genes4, rownames(avgexp3)),], \n",
    "         main = \"\", scale = \"row\", cluster_cols = F, cluster_rows = F,\n",
    "        color=colorRampPalette(c(\"dodgerblue\", \"grey95\", \"indianred2\"))(50), \n",
    "         border_color = \"white\", width = 3.3, height = 9,\n",
    "                  fontsize = 9, filename = \"../figures/heatmaps/fig2_cd4.pdf\")"
   ]
  },
  {
   "cell_type": "code",
   "execution_count": null,
   "id": "8a2e9138",
   "metadata": {},
   "outputs": [],
   "source": []
  },
  {
   "cell_type": "markdown",
   "id": "2eef8556",
   "metadata": {},
   "source": [
    "# All clusters"
   ]
  },
  {
   "cell_type": "code",
   "execution_count": null,
   "id": "7b4b4b62",
   "metadata": {},
   "outputs": [],
   "source": [
    "genes  <- c(\"PCBP1\",\"PCBP2\",\"IL7R\",\"LEF1\",\"TCF7\",\"CCR7\",\"SELL\",\"BACH2\",\"NELL2\",\"PRF1\",\n",
    "\"NKG7\",\"GZMB\",\"CST7\",\"GNLY\",\"CX3CR1\",\"CCL5\",\"TNF\",\"KLRG1\",\"TBX21\",\"IFI44L\",\n",
    "\"ISG15\",\"MX1\",\"EPSTI\",\"OAS1\",\"TXNIP\",\"LY6E\",\"DUSP1\",\"TSC22D3\",\"NFKBIA\",\"TNFAIP3\")"
   ]
  },
  {
   "cell_type": "code",
   "execution_count": null,
   "id": "5b673f3b",
   "metadata": {},
   "outputs": [],
   "source": [
    "cd4_l1_full_filt$Patient_Time_Disease_CLuster  <- paste(\n",
    "cd4_l1_full_filt$Patient_Time, cd4_l1_full_filt$Disease, cd4_l1_full_filt$annotations_l2, sep = \"...\")"
   ]
  },
  {
   "cell_type": "code",
   "execution_count": null,
   "id": "365de3ee",
   "metadata": {},
   "outputs": [],
   "source": [
    "avgexp = AverageExpression(subset(cd4_l1_full_filt, Experiment_ID %in% c(\"Exp16\",\"Exp18\",\"Exp19\",\"Exp20\")), \n",
    "                             return.seurat = T, group.by = \"Patient_Time_Disease_CLuster\", \n",
    "                          assay = \"RNA\")"
   ]
  },
  {
   "cell_type": "code",
   "execution_count": null,
   "id": "9d8f842f",
   "metadata": {},
   "outputs": [],
   "source": [
    "colnames(avgexp)  %>% head"
   ]
  },
  {
   "cell_type": "code",
   "execution_count": null,
   "id": "3993c017",
   "metadata": {},
   "outputs": [],
   "source": [
    "avgexp$Patient_Time_Disease_CLuster  <- colnames(avgexp)\n",
    "avgexp@meta.data  <- avgexp@meta.data  %>% \n",
    "separate(Patient_Time_Disease_CLuster, into = c(\"Patient_Time\", \"Disease\", \"Cluster\"), sep = \"\\\\.\\\\.\\\\.\", remove = F)"
   ]
  },
  {
   "cell_type": "code",
   "execution_count": null,
   "id": "d89a5c17",
   "metadata": {},
   "outputs": [],
   "source": [
    "avgexp@meta.data  <- avgexp@meta.data  %>% \n",
    "separate(Patient_Time, into = c(\"Patient\", \"Time\"), sep = \" \", remove = F)\n",
    "avgexp$Disease_Time  <- paste(avgexp$Disease, avgexp$Time)"
   ]
  },
  {
   "cell_type": "code",
   "execution_count": null,
   "id": "e701b3c9",
   "metadata": {},
   "outputs": [],
   "source": [
    "avgexp$Disease_Time_Cluster  <- paste(avgexp$Disease, avgexp$Time, avgexp$Cluster)"
   ]
  },
  {
   "cell_type": "code",
   "execution_count": null,
   "id": "a0bd14f7",
   "metadata": {
    "scrolled": true
   },
   "outputs": [],
   "source": [
    "avgexp$Disease_Time_Cluster  %>% table"
   ]
  },
  {
   "cell_type": "code",
   "execution_count": null,
   "id": "302466a4",
   "metadata": {},
   "outputs": [],
   "source": [
    "avgexp2 = AverageExpression(avgexp, \n",
    "                             return.seurat = F, group.by = \"Disease_Time_Cluster\")"
   ]
  },
  {
   "cell_type": "code",
   "execution_count": null,
   "id": "c624f3b0",
   "metadata": {
    "scrolled": true
   },
   "outputs": [],
   "source": [
    "avgexp3  <- avgexp2$RNA[which(rownames(avgexp2$RNA) %in% genes),]"
   ]
  },
  {
   "cell_type": "code",
   "execution_count": null,
   "id": "f7b28d57",
   "metadata": {
    "scrolled": true
   },
   "outputs": [],
   "source": [
    "rownames(avgexp3)[match(genes, rownames(avgexp3))]"
   ]
  },
  {
   "cell_type": "code",
   "execution_count": null,
   "id": "e99424c6",
   "metadata": {},
   "outputs": [],
   "source": [
    "options(repr.plot.width = 8, repr.plot.height = 9)\n",
    "pheatmap(avgexp3[match(genes, rownames(avgexp3)),], main = \"\", scale = \"row\", cluster_cols = F, cluster_rows = F,\n",
    "        color=colorRampPalette(c(\"dodgerblue\", \"grey95\", \"indianred2\"))(50), \n",
    "         border_color = \"white\", width = 9, height = 3.3,\n",
    "                  fontsize = 9)"
   ]
  },
  {
   "cell_type": "code",
   "execution_count": null,
   "id": "93071810",
   "metadata": {},
   "outputs": [],
   "source": [
    "pheatmap(avgexp3[match(genes, rownames(avgexp3)),c(1,11,21)], main = \"\", scale = \"row\", cluster_cols = F, cluster_rows = F,\n",
    "        color=colorRampPalette(c(\"dodgerblue\", \"grey95\", \"indianred2\"))(50), \n",
    "         border_color = \"white\", width = 9, height = 3.3,\n",
    "                  fontsize = 9)"
   ]
  },
  {
   "cell_type": "code",
   "execution_count": null,
   "id": "d627c139",
   "metadata": {},
   "outputs": [],
   "source": [
    "avgexp"
   ]
  },
  {
   "cell_type": "code",
   "execution_count": null,
   "id": "152d1db6",
   "metadata": {},
   "outputs": [],
   "source": [
    "Idents(avgexp)  <- avgexp$Disease_Time"
   ]
  },
  {
   "cell_type": "code",
   "execution_count": null,
   "id": "a647663a",
   "metadata": {},
   "outputs": [],
   "source": [
    "VlnPlot(avgexp, \"IFI44L\")"
   ]
  },
  {
   "cell_type": "code",
   "execution_count": null,
   "id": "6ed10690",
   "metadata": {},
   "outputs": [],
   "source": [
    "write.csv(avgexp3, \"../tables/avg_heatmap/cd4_avg_by_patient.csv\")"
   ]
  },
  {
   "cell_type": "code",
   "execution_count": null,
   "id": "81f999b7",
   "metadata": {},
   "outputs": [],
   "source": [
    "genes2  <- c(\"PCBP2\",\"PCBP1\",\"CXCR4\",\"FOXO1\",\"IL7R\",\"LEF1\",\"CCR7\",\"SELL\",\n",
    "             \"DUSP1\",\"TSC22D3\",\"NFKBIA\",\"TNFAIP3\",\n",
    "             \"IFI44L\",\"ISG15\",\"MX1\",\"EPSTI1\",\n",
    "            \"PRF1\",\"NKG7\",\"GZMB\",\"CST7\",\"GNLY\",\"GZMA\",\"CX3CR1\",\"CCL5\",\"TNF\"\n",
    "            )"
   ]
  },
  {
   "cell_type": "code",
   "execution_count": null,
   "id": "e520cca3",
   "metadata": {},
   "outputs": [],
   "source": [
    "avgexp3  <- avgexp2$RNA[which(rownames(avgexp2$RNA) %in% genes2),]"
   ]
  },
  {
   "cell_type": "code",
   "execution_count": null,
   "id": "58615e71",
   "metadata": {},
   "outputs": [],
   "source": [
    "pheatmap(avgexp3[match(genes2,rownames(avgexp3)),], \n",
    "         main = \"\", scale = \"row\", cluster_cols = F, cluster_rows =F,\n",
    "        color=colorRampPalette(c(\"dodgerblue\", \"grey95\", \"indianred2\"))(50), \n",
    "         border_color = \"white\", width = 5, height = 10,\n",
    "                  fontsize = 9)"
   ]
  },
  {
   "cell_type": "code",
   "execution_count": null,
   "id": "03a311db",
   "metadata": {},
   "outputs": [],
   "source": [
    "options(repr.plot.width = 4, repr.plot.height = 9)\n",
    "pheatmap(avgexp3[match(genes2,rownames(avgexp3)),], \n",
    "         main = \"\", scale = \"row\", cluster_cols = F, cluster_rows =F,\n",
    "        color=colorRampPalette(c(\"dodgerblue\", \"grey95\", \"indianred2\"))(50), \n",
    "         border_color = \"white\", width = 5, height = 10,\n",
    "                  fontsize = 9,\n",
    "        filename = \"../figures/heatmaps/de_genes_cd4_2.pdf\")"
   ]
  },
  {
   "cell_type": "code",
   "execution_count": null,
   "id": "a7118c50",
   "metadata": {},
   "outputs": [],
   "source": []
  },
  {
   "cell_type": "markdown",
   "id": "48c726cc",
   "metadata": {},
   "source": [
    "## Both heatmaps"
   ]
  },
  {
   "cell_type": "code",
   "execution_count": null,
   "id": "c0725a4d",
   "metadata": {},
   "outputs": [],
   "source": [
    "cd4_avg_by_patient  <- avgexp3"
   ]
  },
  {
   "cell_type": "code",
   "execution_count": null,
   "id": "45afa477",
   "metadata": {},
   "outputs": [],
   "source": [
    "cd8_avg_by_patient  <- read_csv(\"../tables//avg_heatmap/cd8_avg_by_patient.csv\")"
   ]
  },
  {
   "cell_type": "code",
   "execution_count": null,
   "id": "4d40c07b",
   "metadata": {
    "scrolled": true
   },
   "outputs": [],
   "source": [
    "avgexp3"
   ]
  },
  {
   "cell_type": "code",
   "execution_count": null,
   "id": "b17a2d4d",
   "metadata": {},
   "outputs": [],
   "source": [
    "cd8_avg_by_patient$`...1` == rownames(cd4_avg_by_patient)"
   ]
  },
  {
   "cell_type": "code",
   "execution_count": null,
   "id": "054761f8",
   "metadata": {},
   "outputs": [],
   "source": [
    "cd8_avg_by_patient$`...1`  <- NULL"
   ]
  },
  {
   "cell_type": "code",
   "execution_count": null,
   "id": "df06e156",
   "metadata": {},
   "outputs": [],
   "source": [
    "colnames(cd8_avg_by_patient)  <- paste(\"CD8\", colnames(cd8_avg_by_patient))"
   ]
  },
  {
   "cell_type": "code",
   "execution_count": null,
   "id": "f0da3b78",
   "metadata": {},
   "outputs": [],
   "source": [
    "colnames(cd4_avg_by_patient)  <- paste(\"CD4\", colnames(cd4_avg_by_patient))"
   ]
  },
  {
   "cell_type": "code",
   "execution_count": null,
   "id": "706b2a84",
   "metadata": {},
   "outputs": [],
   "source": [
    "all  <- cbind(cd8_avg_by_patient, cd4_avg_by_patient)"
   ]
  },
  {
   "cell_type": "code",
   "execution_count": null,
   "id": "ea2c5250",
   "metadata": {
    "scrolled": true
   },
   "outputs": [],
   "source": [
    "all"
   ]
  },
  {
   "cell_type": "code",
   "execution_count": null,
   "id": "9ac2b36d",
   "metadata": {},
   "outputs": [],
   "source": []
  },
  {
   "cell_type": "code",
   "execution_count": null,
   "id": "aa2604c9",
   "metadata": {},
   "outputs": [],
   "source": [
    "pheatmap(all, main = \"\", scale = \"row\", cluster_cols = T, cluster_rows = T,\n",
    "        color=colorRampPalette(c(\"dodgerblue\", \"grey95\", \"indianred2\"))(50), \n",
    "         border_color = \"white\", width = 9, height = 3.3,\n",
    "                  fontsize = 9)"
   ]
  }
 ],
 "metadata": {
  "kernelspec": {
   "display_name": "R",
   "language": "R",
   "name": "ir"
  },
  "language_info": {
   "codemirror_mode": "r",
   "file_extension": ".r",
   "mimetype": "text/x-r-source",
   "name": "R",
   "pygments_lexer": "r",
   "version": "4.5.0"
  },
  "toc": {
   "base_numbering": 1,
   "nav_menu": {},
   "number_sections": true,
   "sideBar": true,
   "skip_h1_title": false,
   "title_cell": "Table of Contents",
   "title_sidebar": "Contents",
   "toc_cell": false,
   "toc_position": {
    "height": "calc(100% - 180px)",
    "left": "10px",
    "top": "150px",
    "width": "321.4px"
   },
   "toc_section_display": true,
   "toc_window_display": true
  }
 },
 "nbformat": 4,
 "nbformat_minor": 5
}
