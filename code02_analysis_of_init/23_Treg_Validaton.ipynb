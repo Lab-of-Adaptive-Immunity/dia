{
 "cells": [
  {
   "cell_type": "code",
   "execution_count": null,
   "id": "f2fc53fa",
   "metadata": {},
   "outputs": [],
   "source": [
    "source(\"diabetes_analysis_v07.R\")"
   ]
  },
  {
   "cell_type": "markdown",
   "id": "792bd34f",
   "metadata": {},
   "source": [
    "# Treg HPAP"
   ]
  },
  {
   "cell_type": "code",
   "execution_count": null,
   "id": "bce386bb",
   "metadata": {},
   "outputs": [],
   "source": [
    "treg_hpap_spleen  <- readRDS(\"../data/published_data/HPAP/treg_spleen.rds\")"
   ]
  },
  {
   "cell_type": "code",
   "execution_count": null,
   "id": "e6b7891a",
   "metadata": {},
   "outputs": [],
   "source": [
    "DimPlot(treg_hpap_spleen)"
   ]
  },
  {
   "cell_type": "code",
   "execution_count": null,
   "id": "74dc978c",
   "metadata": {},
   "outputs": [],
   "source": [
    "options(repr.plot.width = 6, repr.plot.height = 5)\n",
    "DimPlot(treg_hpap_spleen, group.by = \"seurat_clusters2\", \n",
    "       cols = c(\"#f8766dff\",\"#c77cffff\",\"#00bfc4ff\",\"#99c03aff\"))"
   ]
  },
  {
   "cell_type": "markdown",
   "id": "57f928e3",
   "metadata": {},
   "source": [
    "## Density"
   ]
  },
  {
   "cell_type": "code",
   "execution_count": null,
   "id": "df11e53b",
   "metadata": {},
   "outputs": [],
   "source": [
    "density  <- treg_hpap_spleen@meta.data  %>% dplyr::select(Patient_ID, Disease)\n",
    "\n",
    "density$x_umap  <- treg_hpap_spleen@reductions$umap@cell.embeddings[,1]\n",
    "density$y_umap  <- treg_hpap_spleen@reductions$umap@cell.embeddings[,2]\n",
    "\n",
    "\n",
    "library(ggplot2)\n",
    "library(dplyr)\n",
    "library(viridis)\n",
    "\n",
    "colfunc <- colorRampPalette(c(\"white\", \"grey85\",\"grey75\",\"dodgerblue\",\"green\",\"yellow\",\"red\"))\n"
   ]
  },
  {
   "cell_type": "code",
   "execution_count": null,
   "id": "334e9620",
   "metadata": {},
   "outputs": [],
   "source": [
    "options(repr.plot.width = 10, repr.plot.height = 5)\n",
    "\n",
    "p1  <- density %>%\n",
    "filter(Disease == \"T1DM\")  %>% \n",
    "  ggplot(aes(x=x_umap, y= y_umap)) + \n",
    " geom_point(shape = \"\")  + geom_density_2d_filled(bins = 30)  + \n",
    "theme_classic() + ggtheme() +\n",
    "xlim(-10,10)+  ylim(-5,5) +\n",
    "scale_fill_manual(values = colfunc(30))  + \n",
    "ggtitle(\"T1DM\") + NoLegend()\n",
    "\n",
    "p2   <-   density %>%\n",
    "filter(Disease == \"Ctrl\")  %>% \n",
    "  ggplot(aes(x=x_umap, y= y_umap)) + \n",
    " geom_point(shape = \"\")  + geom_density_2d_filled(bins = 30)  + \n",
    "theme_classic() + ggtheme() +\n",
    "xlim(-10,10)+  ylim(-5,5) +\n",
    "scale_fill_manual(values = colfunc(30))  + \n",
    "ggtitle(\"Ctrl\") + NoLegend()\n",
    "\n",
    "\n",
    "p1 + p2"
   ]
  },
  {
   "cell_type": "markdown",
   "id": "cbb75d8b",
   "metadata": {},
   "source": [
    "## Cluster quantification"
   ]
  },
  {
   "cell_type": "code",
   "execution_count": null,
   "id": "fc453cfd",
   "metadata": {},
   "outputs": [],
   "source": [
    "options(repr.plot.width = 8, repr.plot.height = 5)\n",
    "\n",
    "seurat_meta_data <- treg_hpap_spleen@meta.data\n",
    "seurat_meta_data$sample  <- seurat_meta_data$source\n",
    "seurat_meta_data$sample  <- paste(seurat_meta_data$Patient_ID, seurat_meta_data$Tissue) \n",
    "\n",
    "# Create grouped dataframe, calculate the frequencies of clusters\n",
    "df4 <- seurat_meta_data %>% group_by(sample, seurat_clusters2) %>% \n",
    "  summarise(n = n()) %>% \n",
    "  unique() %>% \n",
    "  mutate(freq = n / sum(n)) \n",
    "\n",
    "\n",
    "# As we've lost non-grouping variables, let's join them back\n",
    "md_to_join <- seurat_meta_data %>% dplyr::select(sample, Disease, Patient_ID, Tissue) %>% unique()\n",
    "df4  <- left_join(df4, md_to_join, by = \"sample\")\n",
    "\n",
    "# The final plot\n",
    "\n",
    "df4 %>% ggplot(aes(x = Disease, y = freq*100)) + # you can change the x to whatever variable you're interested in\n",
    "  geom_boxplot(outlier.shape = NA, alpha = 0.7, aes(fill = Disease)) + \n",
    "  geom_dotplot(binaxis='y', stackdir='center', dotsize=0) + \n",
    "  geom_jitter(position=position_jitter(0.05), size = 3, aes(fill = Disease), shape = 21) + # in aes, you can also use shape or fill (for the shapes that allow it)\n",
    "  facet_wrap(~seurat_clusters2, scales = \"free\", ncol = 4) +\n",
    "scale_color_manual(values = c(\"dodgerblue\",\"indianred2\")) +\n",
    "scale_fill_manual(values = c(\"dodgerblue\",\"indianred2\")) +\n",
    "\n",
    "  ylab(\"Frequency\") +\n",
    "  xlab(\"Condition\") +\n",
    "ggpubr::stat_compare_means(label = \"p.format\", size = 5) +\n",
    "  ylim(c(0,NA)) + # This ensures that our x axis starts at zero, but feel free to remove this line\n",
    "  theme_classic() +\n",
    "  theme(strip.background = element_blank(), panel.grid = element_blank()) + NoLegend() +ggtheme() \n"
   ]
  },
  {
   "cell_type": "code",
   "execution_count": null,
   "id": "ac0ce4e6",
   "metadata": {},
   "outputs": [],
   "source": [
    "\n",
    "df4 %>% \n",
    "mutate(Disease = ifelse(Disease == \"Ctrl\", \"Ctrl\",\"Dia\"))  %>% \n",
    "ggplot(aes(x = Disease, y = freq*100)) + # you can change the x to whatever variable you're interested in\n",
    "  geom_boxplot(outlier.shape = NA, alpha = 0.3, aes(fill = Disease)) + \n",
    "  geom_dotplot(binaxis='y', stackdir='center', dotsize=0) + \n",
    "geom_beeswarm(size = 3, cex = 3, \n",
    "              color = \"black\", method = \"center\",\n",
    "             aes(fill = Disease), shape = 21) +\n",
    "facet_wrap(~seurat_clusters2, scales = \"free\", ncol = 5) +\n",
    "   scale_fill_manual(values = c(\"#1874cdff\",  \"#ee6363ff\", \"#c41515ff\",\"#eeb4b4ff\")) +\n",
    "scale_color_manual(values = c(\"dodgerblue3\",  \"#e54c4cff\", \"#aa2a2aff\",\"#e88989ff\")) +\n",
    "  ylab(\"Frequency\") +\n",
    "  xlab(\"Condition\") +\n",
    "#ggpubr::stat_compare_means() +\n",
    "  ylim(c(0,NA)) + # This ensures that our x axis starts at zero, but feel free to remove this line\n",
    "  theme_classic() +\n",
    "  theme(strip.background = element_blank(), panel.grid = element_blank()) + \n",
    "ggtheme()\n",
    "\n",
    "ggsave(\"../../240617_VN_Diabetes_V06/figures/treg_validation/hpap_treg_subsets_in_condition.svg\",\n",
    "       width = 16, height = 8, units = \"cm\")"
   ]
  },
  {
   "cell_type": "code",
   "execution_count": null,
   "id": "2b273747",
   "metadata": {},
   "outputs": [],
   "source": [
    "df4  %>% group_by(seurat_clusters2, Disease)  %>% \n",
    "summarise(mean_freq = median(freq))"
   ]
  },
  {
   "cell_type": "code",
   "execution_count": null,
   "id": "e328c8a4",
   "metadata": {},
   "outputs": [],
   "source": [
    "df4_mean_hpap  <- df4  %>% group_by(seurat_clusters2, Disease)  %>% \n",
    "summarise(median_freq = median(freq))"
   ]
  },
  {
   "cell_type": "code",
   "execution_count": null,
   "id": "2490f491",
   "metadata": {},
   "outputs": [],
   "source": [
    "df4_mean_hpap$dataset  <- \"HPAP\""
   ]
  },
  {
   "cell_type": "markdown",
   "id": "096604d5",
   "metadata": {},
   "source": [
    "## Heatmap"
   ]
  },
  {
   "cell_type": "code",
   "execution_count": null,
   "id": "d869d1d3",
   "metadata": {},
   "outputs": [],
   "source": [
    "genes_treg  <-  c(\"TCF7\",\"LEF1\",\"NELL2\",\"IL7R\",\"IL4R\",\"GZMK\",\"CD226\",\n",
    "    \"CCR4\",\"CTLA4\",\"TNFRSF9\",\"FOXP3\",\"IL2RA\")"
   ]
  },
  {
   "cell_type": "code",
   "execution_count": null,
   "id": "ba3c9f86",
   "metadata": {},
   "outputs": [],
   "source": [
    "avgexp = AverageExpression(treg_hpap_spleen, features = genes_treg, return.seurat = F, \n",
    "                           group.by = \"seurat_clusters2\", assays = \"RNA\")"
   ]
  },
  {
   "cell_type": "code",
   "execution_count": null,
   "id": "7c757a3d",
   "metadata": {},
   "outputs": [],
   "source": [
    "options(repr.plot.width = 5, repr.plot.height = 3)\n",
    "pheatmap(t(avgexp$RNA[match(c(\"TCF7\",\"LEF1\",\"NELL2\",\"IL7R\",\"IL4R\",\"GZMK\",\"CD226\",\n",
    "    \"CCR4\",\"CTLA4\",\"TNFRSF9\",\"FOXP3\",\"IL2RA\"),\n",
    "rownames(avgexp$RNA)),]), main = \"\", scale = \"column\", cluster_cols = F, cluster_rows = F,\n",
    "        color=colorRampPalette(c(\"dodgerblue\", \"grey95\", \"indianred2\"))(50), \n",
    "         border_color = \"white\", width = 9, height = 3.3,\n",
    "                  fontsize = 9)"
   ]
  },
  {
   "cell_type": "code",
   "execution_count": null,
   "id": "c0210d37",
   "metadata": {},
   "outputs": [],
   "source": [
    "pheatmap(t(avgexp$RNA[match(c(\"TCF7\",\"LEF1\",\"NELL2\",\"IL7R\",\"IL4R\",\"GZMK\",\"CD226\",\n",
    "    \"CCR4\",\"CTLA4\",\"TNFRSF9\",\"FOXP3\",\"IL2RA\"),\n",
    "rownames(avgexp$RNA)),]), main = \"\", scale = \"column\", cluster_cols = F, cluster_rows = F,\n",
    "        color=colorRampPalette(c(\"dodgerblue\", \"grey95\", \"indianred2\"))(50), \n",
    "         border_color = \"white\", width = 5, height = 3.3,\n",
    "                  fontsize = 9, filename = \"../../240617_VN_Diabetes_V06/figures/treg_validation/hpap_heatmap.pdf\")"
   ]
  },
  {
   "cell_type": "code",
   "execution_count": null,
   "id": "208dc1e8",
   "metadata": {},
   "outputs": [],
   "source": []
  },
  {
   "cell_type": "markdown",
   "id": "0a35f32f",
   "metadata": {},
   "source": [
    "# Treg ParseBio"
   ]
  },
  {
   "cell_type": "code",
   "execution_count": null,
   "id": "ad7be0b6",
   "metadata": {},
   "outputs": [],
   "source": [
    "treg_pb  <- readRDS(\"../../../DATA_scRNAseq//Analysis of previously published data/081_ParseBio_1M_Diabetes/241020_ParseBio_200k_treg.rds\")\n",
    "\n",
    "options(repr.plot.width = 6, repr.plot.height = 5)\n",
    "DimPlot(treg_pb)"
   ]
  },
  {
   "cell_type": "code",
   "execution_count": null,
   "id": "711e65ac",
   "metadata": {},
   "outputs": [],
   "source": [
    "treg_pb@meta.data  <- treg_pb@meta.data  %>% mutate(seurat_clusters2 = recode(seurat_clusters, \n",
    "                                                                                               \"0\" = \"3\",\n",
    "                                                                                               \"1\" = \"1\",\n",
    "                                                                                               \"2\" = \"2\",\n",
    "                                                                                               \"3\" = \"0\"))"
   ]
  },
  {
   "cell_type": "code",
   "execution_count": null,
   "id": "1eb86f95",
   "metadata": {},
   "outputs": [],
   "source": [
    "options(repr.plot.width = 6, repr.plot.height = 5)\n",
    "DimPlot(treg_pb, label = F, group.by = \"seurat_clusters2\", \n",
    "       cols = c(\"#f8766dff\",\"#00bfc4ff\",\"#99c03aff\",\"#c77cffff\"))"
   ]
  },
  {
   "cell_type": "code",
   "execution_count": null,
   "id": "aa50b879",
   "metadata": {},
   "outputs": [],
   "source": [
    "options(repr.plot.width = 10, repr.plot.height = 4)\n",
    "\n",
    "seurat_meta_data <- treg_pb@meta.data\n",
    "\n",
    "# Create grouped dataframe, calculate the frequencies of clusters\n",
    "df4 <- seurat_meta_data %>% group_by(sample, seurat_clusters2) %>% \n",
    "  summarise(n = n()) %>% \n",
    "  unique() %>% \n",
    "  mutate(freq = n / sum(n)) \n",
    "\n",
    "\n",
    "# As we've lost non-grouping variables, let's join them back\n",
    "md_to_join <- seurat_meta_data %>% dplyr::select(sample, Disease) %>% unique()\n",
    "df4  <- left_join(df4, md_to_join, by = \"sample\")\n",
    "\n",
    "# The final plot\n",
    "\n",
    "df4 %>% ggplot(aes(x = Disease, y = freq)) + # you can change the x to whatever variable you're interested in\n",
    "  geom_boxplot(outlier.shape = NA) + \n",
    "  geom_dotplot(binaxis='y', stackdir='center', dotsize=0) + \n",
    "  geom_jitter(position=position_jitter(0.2), size = 2, aes(color = Disease)) + # in aes, you can also use shape or fill (for the shapes that allow it)\n",
    "  facet_wrap(~seurat_clusters2, scales = \"free\", ncol = 6) +\n",
    "  ylab(\"Frequency\") +\n",
    "  xlab(\"Condition\") +\n",
    "ggpubr::stat_compare_means() +\n",
    "  ylim(c(0,NA)) + # This ensures that our x axis starts at zero, but feel free to remove this line\n",
    "  theme_classic() +\n",
    "  theme(strip.background = element_blank(), panel.grid = element_blank())\n"
   ]
  },
  {
   "cell_type": "code",
   "execution_count": null,
   "id": "3f173ec6",
   "metadata": {
    "scrolled": true
   },
   "outputs": [],
   "source": [
    "\n",
    "df4 %>% \n",
    "mutate(Disease = ifelse(Disease == \"H\", \"Ctrl\",\"Dia\"))  %>% \n",
    "ggplot(aes(x = Disease, y = freq*100)) + # you can change the x to whatever variable you're interested in\n",
    "  geom_boxplot(outlier.shape = NA, alpha = 0.3, aes(fill = Disease)) + \n",
    "  geom_dotplot(binaxis='y', stackdir='center', dotsize=0) + \n",
    "geom_beeswarm(size = 3, cex = 3, \n",
    "              color = \"black\", method = \"center\",\n",
    "             aes(fill = Disease), shape = 21) +\n",
    "facet_wrap(~seurat_clusters2, scales = \"free\", ncol = 5) +\n",
    "   scale_fill_manual(values = c(\"#1874cdff\",  \"#ee6363ff\", \"#c41515ff\",\"#eeb4b4ff\")) +\n",
    "scale_color_manual(values = c(\"dodgerblue3\",  \"#e54c4cff\", \"#aa2a2aff\",\"#e88989ff\")) +\n",
    "  ylab(\"Frequency\") +\n",
    "  xlab(\"Condition\") +\n",
    "#ggpubr::stat_compare_means() +\n",
    "  ylim(c(0,NA)) + # This ensures that our x axis starts at zero, but feel free to remove this line\n",
    "  theme_classic() +\n",
    "  theme(strip.background = element_blank(), panel.grid = element_blank()) + \n",
    "ggtheme()\n",
    "\n"
   ]
  },
  {
   "cell_type": "code",
   "execution_count": null,
   "id": "b816ab3b",
   "metadata": {},
   "outputs": [],
   "source": [
    "ggsave(\"../figures/treg_validation/pb_treg_subsets_in_condition.svg\",\n",
    "       width = 16, height = 8, units = \"cm\")"
   ]
  },
  {
   "cell_type": "code",
   "execution_count": null,
   "id": "7bf290f2",
   "metadata": {},
   "outputs": [],
   "source": [
    "df4  %>% group_by(seurat_clusters2, Disease)  %>% \n",
    "summarise(median_freq = median(freq))"
   ]
  },
  {
   "cell_type": "code",
   "execution_count": null,
   "id": "bd1df08d",
   "metadata": {},
   "outputs": [],
   "source": [
    "df4_mean_pb  <- df4  %>% group_by(seurat_clusters2, Disease)  %>% \n",
    "summarise(median_freq = median(freq))  %>% mutate(Disease = ifelse(Disease == \"D\", \"Dia\",\"Ctrl\"))"
   ]
  },
  {
   "cell_type": "code",
   "execution_count": null,
   "id": "28b1e7ab",
   "metadata": {},
   "outputs": [],
   "source": [
    "df4_mean_pb$dataset  <- \"PB\""
   ]
  },
  {
   "cell_type": "code",
   "execution_count": null,
   "id": "bed0de41",
   "metadata": {},
   "outputs": [],
   "source": []
  },
  {
   "cell_type": "markdown",
   "id": "9930d6f3",
   "metadata": {},
   "source": [
    "### Heatmap"
   ]
  },
  {
   "cell_type": "code",
   "execution_count": null,
   "id": "f87f8717",
   "metadata": {},
   "outputs": [],
   "source": [
    "avgexp = AverageExpression(treg_pb, features = rev(str_to_upper(c(\n",
    "    \"TCF7\",\"LEF1\",\"NELL2\",\"IL7R\",\"IL4R\",\"GZMK\",\"CD226\",\n",
    "    \"CCR4\",\"CTLA4\",\"TNFRSF9\",\"FOXP3\",\"IL2RA\"   \n",
    "    ))), return.seurat = F, \n",
    "                           group.by = \"seurat_clusters2\", assays = \"RNA\")\n",
    "\n",
    "avgexp"
   ]
  },
  {
   "cell_type": "code",
   "execution_count": null,
   "id": "623e5d2a",
   "metadata": {},
   "outputs": [],
   "source": [
    "options(repr.plot.width = 5, repr.plot.height = 3)\n",
    "pheatmap(t(avgexp$RNA[match(c(\"TCF7\",\"LEF1\",\"NELL2\",\"IL7R\",\"IL4R\",\"GZMK\",\"CD226\",\n",
    "    \"CCR4\",\"CTLA4\",\"TNFRSF9\",\"FOXP3\",\"IL2RA\"),\n",
    "rownames(avgexp$RNA)),]), main = \"\", scale = \"column\", cluster_cols = F, cluster_rows = F,\n",
    "        color=colorRampPalette(c(\"dodgerblue\", \"grey95\", \"indianred2\"))(50), \n",
    "         border_color = \"white\", width = 9, height = 3.3,\n",
    "                  fontsize = 9)"
   ]
  },
  {
   "cell_type": "code",
   "execution_count": null,
   "id": "95ba5ceb",
   "metadata": {},
   "outputs": [],
   "source": [
    "pheatmap(t(avgexp$RNA[match(c(\"TCF7\",\"LEF1\",\"NELL2\",\"IL7R\",\"IL4R\",\"GZMK\",\"CD226\",\n",
    "    \"CCR4\",\"CTLA4\",\"TNFRSF9\",\"FOXP3\",\"IL2RA\"),\n",
    "rownames(avgexp$RNA)),]), main = \"\", scale = \"column\", cluster_cols = F, cluster_rows = F,\n",
    "        color=colorRampPalette(c(\"dodgerblue\", \"grey95\", \"indianred2\"))(50), \n",
    "         border_color = \"white\", width = 5, height = 3.3,\n",
    "                  fontsize = 9, filename = \"../figures/treg_validation/pb_heatmap.pdf\")"
   ]
  },
  {
   "cell_type": "code",
   "execution_count": null,
   "id": "62072b5a",
   "metadata": {},
   "outputs": [],
   "source": []
  },
  {
   "cell_type": "markdown",
   "id": "68bc1ff9",
   "metadata": {},
   "source": [
    "### Density"
   ]
  },
  {
   "cell_type": "code",
   "execution_count": null,
   "id": "c919d32a",
   "metadata": {},
   "outputs": [],
   "source": [
    "density  <- treg@meta.data  %>% dplyr::select(sample, Disease)\n",
    "\n",
    "density$x_umap  <- treg@reductions$umap@cell.embeddings[,1]\n",
    "density$y_umap  <- treg@reductions$umap@cell.embeddings[,2]\n",
    "\n",
    "\n",
    "library(ggplot2)\n",
    "library(dplyr)\n",
    "library(viridis)\n",
    "\n",
    "colfunc <- colorRampPalette(c(\"white\", \"grey85\",\"grey75\",\"dodgerblue\",\"green\",\"yellow\",\"red\"))\n"
   ]
  },
  {
   "cell_type": "code",
   "execution_count": null,
   "id": "fbf56dfc",
   "metadata": {},
   "outputs": [],
   "source": [
    "options(repr.plot.width = 10, repr.plot.height = 5)\n",
    "\n",
    "p1  <- density %>%\n",
    "filter(Disease == \"D\")  %>% \n",
    "  ggplot(aes(x=x_umap, y= y_umap)) + \n",
    " geom_point(shape = \"\")  + geom_density_2d_filled(bins = 30)  + \n",
    "theme_classic() + ggtheme() +\n",
    "xlim(-8,8)+  ylim(-6,6) +\n",
    "scale_fill_manual(values = colfunc(30))  + \n",
    "ggtitle(\"Dia T0\") + NoLegend()\n",
    "\n",
    "p2   <-   density %>%\n",
    "filter(Disease == \"H\")  %>% \n",
    "  ggplot(aes(x=x_umap, y= y_umap)) + \n",
    " geom_point(shape = \"\")  + geom_density_2d_filled(bins = 30)  + \n",
    "theme_classic() + ggtheme() +\n",
    "xlim(-8,8)+  ylim(-6,6) +\n",
    "scale_fill_manual(values = colfunc(30))  + \n",
    "ggtitle(\"Ctrl T0\") + NoLegend()\n",
    "\n",
    "\n",
    "p1 + p2"
   ]
  },
  {
   "cell_type": "code",
   "execution_count": null,
   "id": "1f6f5fca",
   "metadata": {},
   "outputs": [],
   "source": []
  },
  {
   "cell_type": "code",
   "execution_count": null,
   "id": "8dc7d375",
   "metadata": {},
   "outputs": [],
   "source": []
  },
  {
   "cell_type": "markdown",
   "id": "f2a8a77c",
   "metadata": {},
   "source": [
    "# Treg NatCom"
   ]
  },
  {
   "cell_type": "code",
   "execution_count": null,
   "id": "f4791440",
   "metadata": {},
   "outputs": [],
   "source": [
    "treg_nc  <- readRDS(\"../../../DATA_scRNAseq//Analysis of previously published data/080_Zhong_NatCom_Diabetes/241019_NatComm_merged_filt_treg_noPR.rds\")"
   ]
  },
  {
   "cell_type": "code",
   "execution_count": null,
   "id": "0168fb86",
   "metadata": {},
   "outputs": [],
   "source": [
    "Idents(treg_nc)  <- treg_nc$seurat_clusters"
   ]
  },
  {
   "cell_type": "code",
   "execution_count": null,
   "id": "9e126fe5",
   "metadata": {},
   "outputs": [],
   "source": [
    "DimPlot(treg_nc)"
   ]
  },
  {
   "cell_type": "code",
   "execution_count": null,
   "id": "c03f0197",
   "metadata": {},
   "outputs": [],
   "source": [
    "options(repr.plot.width = 6, repr.plot.height = 5)\n",
    "DimPlot(treg_nc, label = F, group.by = \"seurat_clusters\", \n",
    "       cols = c(\"#c77cffff\",\"#00bfc4ff\",\"#99c03aff\",\"#f8766dff\"))"
   ]
  },
  {
   "cell_type": "code",
   "execution_count": null,
   "id": "2ce1418e",
   "metadata": {},
   "outputs": [],
   "source": [
    "options(repr.plot.width = 12, repr.plot.height = 4)\n",
    "\n",
    "seurat_meta_data <- treg_nc@meta.data\n",
    "seurat_meta_data$sample  <- seurat_meta_data$source\n",
    "\n",
    "# Create grouped dataframe, calculate the frequencies of clusters\n",
    "df4 <- seurat_meta_data %>% group_by(sample, seurat_clusters) %>% \n",
    "  summarise(n = n()) %>% \n",
    "  unique() %>% \n",
    "  mutate(freq = n / sum(n)) \n",
    "\n",
    "\n",
    "# As we've lost non-grouping variables, let's join them back\n",
    "md_to_join <- seurat_meta_data %>% dplyr::select(sample, Disease) %>% unique()\n",
    "df4  <- left_join(df4, md_to_join, by = \"sample\")"
   ]
  },
  {
   "cell_type": "code",
   "execution_count": null,
   "id": "dacf10b5",
   "metadata": {},
   "outputs": [],
   "source": [
    "# The final plot\n",
    "\n",
    "df4 %>% \n",
    "mutate(Disease = ifelse(Disease == \"N\", \"Ctrl\",\"Dia\"))  %>% \n",
    "ggplot(aes(x = Disease, y = freq*100)) + # you can change the x to whatever variable you're interested in\n",
    "  geom_boxplot(outlier.shape = NA, alpha = 0.3, aes(fill = Disease)) + \n",
    "  geom_dotplot(binaxis='y', stackdir='center', dotsize=0) + \n",
    "geom_beeswarm(size = 3, cex = 3, \n",
    "              color = \"black\", method = \"center\",\n",
    "             aes(fill = Disease), shape = 21) +\n",
    "facet_wrap(~seurat_clusters, scales = \"free\", ncol = 5) +\n",
    "   scale_fill_manual(values = c(\"#1874cdff\",  \"#ee6363ff\", \"#c41515ff\",\"#eeb4b4ff\")) +\n",
    "scale_color_manual(values = c(\"dodgerblue3\",  \"#e54c4cff\", \"#aa2a2aff\",\"#e88989ff\")) +\n",
    "  ylab(\"Frequency\") +\n",
    "  xlab(\"Condition\") +\n",
    "#ggpubr::stat_compare_means() +\n",
    "  ylim(c(0,NA)) + # This ensures that our x axis starts at zero, but feel free to remove this line\n",
    "  theme_classic() +\n",
    "  theme(strip.background = element_blank(), panel.grid = element_blank()) + \n",
    "ggtheme()\n",
    "\n"
   ]
  },
  {
   "cell_type": "code",
   "execution_count": null,
   "id": "4a761d5f",
   "metadata": {},
   "outputs": [],
   "source": [
    "\n",
    "\n",
    "df4_mean_nc  <- df4  %>% group_by(seurat_clusters, Disease)  %>% \n",
    "summarise(median_freq = median(freq))  %>% \n",
    "mutate(Disease = ifelse(Disease == \"N\", \"Ctrl\",\"Dia\")) \n",
    "\n",
    "\n",
    "df4_mean_nc$dataset  <- \"NC\"\n",
    "\n"
   ]
  },
  {
   "cell_type": "code",
   "execution_count": null,
   "id": "37b66fb5",
   "metadata": {},
   "outputs": [],
   "source": [
    "df4_mean_nc$seurat_clusters2  <- df4_mean_nc$seurat_clusters"
   ]
  },
  {
   "cell_type": "code",
   "execution_count": null,
   "id": "01a68eb5",
   "metadata": {},
   "outputs": [],
   "source": [
    "df4_mean_nc$seurat_clusters  <- NULL"
   ]
  },
  {
   "cell_type": "code",
   "execution_count": null,
   "id": "7f9be20c",
   "metadata": {},
   "outputs": [],
   "source": [
    "df4_mean_nc"
   ]
  },
  {
   "cell_type": "markdown",
   "id": "7a3c7945",
   "metadata": {},
   "source": [
    "## Cross dataset comparison"
   ]
  },
  {
   "cell_type": "code",
   "execution_count": null,
   "id": "f048cfac",
   "metadata": {},
   "outputs": [],
   "source": [
    "df_cross  <- rbind(df4_mean_hpap, df4_mean_nc, df4_mean_pb)"
   ]
  },
  {
   "cell_type": "code",
   "execution_count": null,
   "id": "f01e19b7",
   "metadata": {},
   "outputs": [],
   "source": [
    "df_cross"
   ]
  },
  {
   "cell_type": "code",
   "execution_count": null,
   "id": "ac1d55d2",
   "metadata": {},
   "outputs": [],
   "source": [
    "df_cross  %>% \n",
    "mutate(Disease = gsub(Disease, pattern = \"T1DM\", replacement = \"Dia\"))  %>% \n",
    "ggplot(aes(x = Disease, y = median_freq*100)) + # you can change the x to whatever variable you're interested in\n",
    "#  geom_boxplot(outlier.shape = NA, alpha = 0.3, aes(fill = Disease)) + \n",
    "  geom_dotplot(binaxis='y', stackdir='center', dotsize=0) + \n",
    "geom_beeswarm(size = 3, cex = 3, \n",
    "              color = \"black\", method = \"center\",\n",
    "             aes(fill = Disease), shape = 21) +\n",
    "geom_line(aes(group = dataset, alpha = 0.1)) +\n",
    "facet_wrap(~seurat_clusters2, scales = \"free\", ncol = 5) +\n",
    "   scale_fill_manual(values = c(\"#1874cdff\",  \"#ee6363ff\", \"#c41515ff\",\"#eeb4b4ff\")) +\n",
    "scale_color_manual(values = c(\"dodgerblue3\",  \"#e54c4cff\", \"#aa2a2aff\",\"#e88989ff\")) +\n",
    "  ylab(\"Frequency\") +\n",
    "  xlab(\"Condition\") +\n",
    "#ggpubr::stat_compare_means() +\n",
    "  ylim(c(0,NA)) + # This ensures that our x axis starts at zero, but feel free to remove this line\n",
    "  theme_classic() +\n",
    "  theme(strip.background = element_blank(), panel.grid = element_blank()) + \n",
    "ggtheme()"
   ]
  },
  {
   "cell_type": "markdown",
   "id": "90cd364d",
   "metadata": {},
   "source": [
    "## With our Treg"
   ]
  },
  {
   "cell_type": "code",
   "execution_count": null,
   "id": "48df09aa",
   "metadata": {},
   "outputs": [],
   "source": [
    "treg  <- readRDS(\"../../240617_VN_Diabetes_V06/data/processed/L3/cd4_l3_treg.rds\")"
   ]
  },
  {
   "cell_type": "code",
   "execution_count": null,
   "id": "52910f19",
   "metadata": {},
   "outputs": [],
   "source": [
    "treg_subset  <- subset(treg, Condition %in% c(\"Ctrl T0\", \"Dia T0\", \"Dia T1\") & Experiment_ID %in% c(\"Exp16\", \"Exp18\", \"Exp19\", \"Exp20\")) \n",
    "\n",
    "df4  <- create_df4(treg_subset)\n",
    "\n",
    "df4\n",
    "\n",
    " p5  <-   df4  %>% \n",
    "filter(Experiment_ID %in% c(\"Exp16\", \"Exp18\", \"Exp19\", \"Exp20\"))  %>% \n",
    "  ggplot(aes(x = Condition, y = freq*100)) + # you can change the x to whatever variable you're interested in\n",
    "   geom_violin(alpha = 0.3, aes(fill = Condition)) +\n",
    "  stat_summary(fun = \"median\",\n",
    "               geom = \"crossbar\", \n",
    "               width = 0.75,\n",
    "               color = \"grey30\") +\n",
    "   scale_fill_manual(values = c(\"#1874cdff\",  \"#ee6363ff\", \"#c41515ff\",\"#eeb4b4ff\")) +\n",
    "scale_color_manual(values = c(\"dodgerblue3\",  \"#e54c4cff\", \"#aa2a2aff\",\"#e88989ff\")) +\n",
    "geom_beeswarm(size = 3, cex = 3, \n",
    "              color = \"black\", method = \"center\",\n",
    "             aes(fill = Condition), shape = 21) +\n",
    "   facet_wrap(~annotations_manual, scales = \"free\", ncol = 9) +\n",
    "  ylab(\"Frequency\") +\n",
    "  xlab(\"Condition\") +\n",
    "  theme_classic() +\n",
    "ggtheme() +\n",
    "ggpubr::stat_compare_means(label.x= 1.5, \n",
    "                           size = 7, vjust = -1, label = \"p.format\", comparisons = list(c(1,2)))+\n",
    "ggtheme() +\n",
    " scale_y_continuous(limits = c(0,NA), expand = c(0.05,0,0,10)) +\n",
    "  theme(strip.background = element_blank(), panel.grid = element_blank()) + \n",
    "  theme(axis.text = element_text(color = \"black\"),\n",
    "        axis.text.x = element_text(angle = 90),\n",
    "       axis.line = element_line(color = \"black\", size = 0.5),\n",
    "        axis.ticks.x = element_blank()) + NoLegend() + ggtitle(\"Final data all groups\")\n",
    "ncols = length(levels(factor(df4$annotations_manual)))\n",
    "\n",
    "options(repr.plot.width = 9, repr.plot.height = 7)\n",
    "p5"
   ]
  },
  {
   "cell_type": "code",
   "execution_count": null,
   "id": "e2886776",
   "metadata": {},
   "outputs": [],
   "source": [
    "options(repr.plot.width = 12, repr.plot.height = 4)\n",
    "\n",
    "seurat_meta_data <- treg_subset@meta.data\n",
    "seurat_meta_data$sample  <- seurat_meta_data$source\n",
    "\n",
    "# Create grouped dataframe, calculate the frequencies of clusters\n",
    "df4 <- seurat_meta_data %>% group_by(Patient_ID, seurat_clusters) %>% \n",
    "  summarise(n = n()) %>% \n",
    "  unique() %>% \n",
    "  mutate(freq = n / sum(n)) \n",
    "\n",
    "\n",
    "# As we've lost non-grouping variables, let's join them back\n",
    "md_to_join <- seurat_meta_data %>% dplyr::select(Patient_ID, Disease) %>% unique()\n",
    "df4  <- left_join(df4, md_to_join, by = \"Patient_ID\")\n",
    "\n",
    "# The final plot\n",
    "\n",
    "df4 %>% \n",
    "ggplot(aes(x = Disease, y = freq*100)) + # you can change the x to whatever variable you're interested in\n",
    "  geom_boxplot(outlier.shape = NA, alpha = 0.3, aes(fill = Disease)) + \n",
    "  geom_dotplot(binaxis='y', stackdir='center', dotsize=0) + \n",
    "geom_beeswarm(size = 3, cex = 3, \n",
    "              color = \"black\", method = \"center\",\n",
    "             aes(fill = Disease), shape = 21) +\n",
    "facet_wrap(~seurat_clusters, scales = \"free\", ncol = 5) +\n",
    "   scale_fill_manual(values = c(\"#1874cdff\",  \"#ee6363ff\", \"#c41515ff\",\"#eeb4b4ff\")) +\n",
    "scale_color_manual(values = c(\"dodgerblue3\",  \"#e54c4cff\", \"#aa2a2aff\",\"#e88989ff\")) +\n",
    "  ylab(\"Frequency\") +\n",
    "  xlab(\"Condition\") +\n",
    "#ggpubr::stat_compare_means() +\n",
    "  ylim(c(0,NA)) + # This ensures that our x axis starts at zero, but feel free to remove this line\n",
    "  theme_classic() +\n",
    "  theme(strip.background = element_blank(), panel.grid = element_blank()) + \n",
    "ggtheme()\n",
    "\n"
   ]
  },
  {
   "cell_type": "code",
   "execution_count": null,
   "id": "a15f9855",
   "metadata": {},
   "outputs": [],
   "source": [
    "DimPlot(treg)"
   ]
  },
  {
   "cell_type": "code",
   "execution_count": null,
   "id": "c651f6ac",
   "metadata": {},
   "outputs": [],
   "source": [
    "df4$seurat_clusters2  <- recode(df4$seurat_clusters,                                         \"0\" = \"1\",\n",
    "                                                                                               \"1\" = \"2\",\n",
    "                                                                                               \"2\" = \"0\",\n",
    "                                                                                               \"3\" = \"3\")"
   ]
  },
  {
   "cell_type": "code",
   "execution_count": null,
   "id": "2c52dcf0",
   "metadata": {},
   "outputs": [],
   "source": [
    "\n",
    "\n",
    "df4_mean_48  <- df4  %>% group_by(seurat_clusters2, Disease)  %>% \n",
    "summarise(median_freq = median(freq)) \n",
    "\n",
    "\n",
    "df4_mean_48$dataset  <- \"48\"\n",
    "\n",
    "df4_mean_48"
   ]
  },
  {
   "cell_type": "code",
   "execution_count": null,
   "id": "def55a5a",
   "metadata": {},
   "outputs": [],
   "source": [
    "df_cross  <- rbind(df4_mean_hpap, df4_mean_nc, df4_mean_pb, df4_mean_48)"
   ]
  },
  {
   "cell_type": "code",
   "execution_count": null,
   "id": "62179edf",
   "metadata": {},
   "outputs": [],
   "source": [
    "df_cross"
   ]
  },
  {
   "cell_type": "code",
   "execution_count": null,
   "id": "83d54a05",
   "metadata": {},
   "outputs": [],
   "source": [
    "df_cross  %>% \n",
    "mutate(Disease = gsub(Disease, pattern = \"T1DM\", replacement = \"Dia\"))  %>% \n",
    "ggplot(aes(x = Disease, y = median_freq*100)) + # you can change the x to whatever variable you're interested in\n",
    "#  geom_boxplot(outlier.shape = NA, alpha = 0.3, aes(fill = Disease)) + \n",
    "  geom_dotplot(binaxis='y', stackdir='center', dotsize=0) + \n",
    "geom_beeswarm(size = 3, cex = 3, \n",
    "              color = \"black\", method = \"center\",\n",
    "             aes(fill = Disease, shape = dataset)) +\n",
    "geom_line(aes(group = dataset, alpha = 0.1)) +\n",
    "facet_wrap(~seurat_clusters2, scales = \"free\", ncol = 5) +\n",
    "   scale_fill_manual(values = c(\"#1874cdff\",  \"#ee6363ff\", \"#c41515ff\",\"#eeb4b4ff\")) +\n",
    "scale_color_manual(values = c(\"dodgerblue3\",  \"#e54c4cff\", \"#aa2a2aff\",\"#e88989ff\")) +\n",
    "scale_shape_manual(values = c(21,22,24,25)) +\n",
    "  ylab(\"Frequency\") +\n",
    "  xlab(\"Condition\") +\n",
    "#ggpubr::stat_compare_means() +\n",
    "  ylim(c(0,NA)) + # This ensures that our x axis starts at zero, but feel free to remove this line\n",
    "  theme_classic() +\n",
    "  theme(strip.background = element_blank(), panel.grid = element_blank()) + \n",
    "ggtheme() + stat_compare_means(label = \"p.format\", method = \"t.test\", paired = TRUE)"
   ]
  },
  {
   "cell_type": "code",
   "execution_count": null,
   "id": "0c9e201e",
   "metadata": {},
   "outputs": [],
   "source": [
    "ggsave(\"../figures/treg_validation/all_dataseta_paired_treg_subsets_in_condition.svg\",\n",
    "       create.dir = TRUE,\n",
    "       width = 20, height = 7, units = \"cm\")"
   ]
  },
  {
   "cell_type": "markdown",
   "id": "47fcf0da",
   "metadata": {},
   "source": [
    "# Projection of Treg clusters on our Tregs"
   ]
  },
  {
   "cell_type": "code",
   "execution_count": null,
   "id": "7fdda999",
   "metadata": {},
   "outputs": [],
   "source": [
    "DimPlot(treg_nc, group.by = \"seurat_clusters\")"
   ]
  },
  {
   "cell_type": "code",
   "execution_count": null,
   "id": "4ab8750a",
   "metadata": {},
   "outputs": [],
   "source": [
    "treg_nc_cl0  <- subset(treg_nc, seurat_clusters == 0)"
   ]
  },
  {
   "cell_type": "code",
   "execution_count": null,
   "id": "4bc60af5",
   "metadata": {},
   "outputs": [],
   "source": [
    "treg_nc_cl0  <- JoinLayers(treg_nc_cl0)"
   ]
  },
  {
   "cell_type": "code",
   "execution_count": null,
   "id": "797917ab",
   "metadata": {
    "scrolled": true
   },
   "outputs": [],
   "source": [
    "treg.ref  <- RunUMAP(treg, dims = 1:10, reduction = \"pca\", return.model = TRUE)"
   ]
  },
  {
   "cell_type": "code",
   "execution_count": null,
   "id": "8d9a55c9",
   "metadata": {},
   "outputs": [],
   "source": [
    "DimPlot(treg.ref)"
   ]
  },
  {
   "cell_type": "markdown",
   "id": "29433485",
   "metadata": {},
   "source": [
    "## Reference mapping NatCom"
   ]
  },
  {
   "cell_type": "code",
   "execution_count": null,
   "id": "41aa3c1e",
   "metadata": {},
   "outputs": [],
   "source": [
    " query  <- treg_nc_cl0"
   ]
  },
  {
   "cell_type": "code",
   "execution_count": null,
   "id": "ab00ab09",
   "metadata": {},
   "outputs": [],
   "source": [
    "    treg.anchors <- FindTransferAnchors(reference = treg.ref, query = query,\n",
    "    dims = 1:10, reference.reduction = \"pca\", k.score = 5, k.filter = NA, k.anchor = 5)"
   ]
  },
  {
   "cell_type": "code",
   "execution_count": null,
   "id": "bd7f56af",
   "metadata": {},
   "outputs": [],
   "source": [
    "treg.anchors"
   ]
  },
  {
   "cell_type": "code",
   "execution_count": null,
   "id": "2269ff3a",
   "metadata": {},
   "outputs": [],
   "source": [
    "options(future.globals.maxSize = 65000 * 1024^2)"
   ]
  },
  {
   "cell_type": "code",
   "execution_count": null,
   "id": "d96bc8a7",
   "metadata": {},
   "outputs": [],
   "source": [
    "query  <- JoinLayers(query)"
   ]
  },
  {
   "cell_type": "code",
   "execution_count": null,
   "id": "fdde8132",
   "metadata": {},
   "outputs": [],
   "source": [
    "query@assays$RNA@layers$scale.data  <- NULL"
   ]
  },
  {
   "cell_type": "code",
   "execution_count": null,
   "id": "6f8c9267",
   "metadata": {},
   "outputs": [],
   "source": [
    "query[[\"RNA\"]]  <- as(object = query[[\"RNA\"]], Class = \"Assay\")"
   ]
  },
  {
   "cell_type": "code",
   "execution_count": null,
   "id": "ae950a72",
   "metadata": {},
   "outputs": [],
   "source": [
    "query"
   ]
  },
  {
   "cell_type": "code",
   "execution_count": null,
   "id": "c473c344",
   "metadata": {},
   "outputs": [],
   "source": [
    "treg.ref"
   ]
  },
  {
   "cell_type": "code",
   "execution_count": null,
   "id": "ad62b585",
   "metadata": {},
   "outputs": [],
   "source": [
    "treg.ref[[\"RNA\"]]  <- as(object = treg.ref[[\"RNA\"]], Class = \"Assay\")"
   ]
  },
  {
   "cell_type": "code",
   "execution_count": null,
   "id": "242714e6",
   "metadata": {
    "scrolled": true
   },
   "outputs": [],
   "source": [
    "ref <- MapQuery(anchorset = treg.anchors, reference = treg.ref, query = query,\n",
    "    refdata = treg.ref$seurat_clusters, reference.reduction = \"pca\", reduction.model = \"umap\",\n",
    "               transferdata.args = list(k.weight = 25))"
   ]
  },
  {
   "cell_type": "code",
   "execution_count": null,
   "id": "2e9aa260",
   "metadata": {},
   "outputs": [],
   "source": [
    "df <- as.data.frame(treg.ref@reductions$umap@cell.embeddings)\n",
    "df$source <- \"reference\"\n",
    "\n",
    "df2 <- as.data.frame(ref@reductions$ref.umap@cell.embeddings)\n",
    "df2$source <- \"query\""
   ]
  },
  {
   "cell_type": "code",
   "execution_count": null,
   "id": "1f53a3b2",
   "metadata": {},
   "outputs": [],
   "source": [
    "colnames(df2) <- colnames(df)\n",
    "df3 <- rbind(df, df2)"
   ]
  },
  {
   "cell_type": "code",
   "execution_count": null,
   "id": "19294e1d",
   "metadata": {},
   "outputs": [],
   "source": [
    "options(repr.plot.width = 6, repr.plot.height = 5)\n",
    "\n",
    "df3 %>% ggplot() +\n",
    "  geom_point(aes(x = umap_1, y = umap_2, color = source)) +\n",
    "  scale_color_manual(values = c(\"red\", \"lightgrey\")) + \n",
    "  theme_classic() + \n",
    "  ggtitle(\"Treg NatCom\") + NoLegend()"
   ]
  },
  {
   "cell_type": "markdown",
   "id": "91bc5455",
   "metadata": {},
   "source": [
    "## Reference mapping ParseBio"
   ]
  },
  {
   "cell_type": "code",
   "execution_count": null,
   "id": "23981746",
   "metadata": {},
   "outputs": [],
   "source": [
    " query  <- treg_pb_cl0\n",
    "\n",
    "    treg.anchors <- FindTransferAnchors(reference = treg.ref, query = query,\n",
    "    dims = 1:10, reference.reduction = \"pca\", k.score = 5, k.filter = NA, k.anchor = 5)\n",
    "\n",
    "treg.anchors\n",
    "\n",
    "options(future.globals.maxSize = 65000 * 1024^2)\n",
    "\n",
    "query  <- JoinLayers(query)\n",
    "\n",
    "query@assays$RNA@layers$scale.data  <- NULL\n",
    "\n",
    "query[[\"RNA\"]]  <- as(object = query[[\"RNA\"]], Class = \"Assay\")"
   ]
  },
  {
   "cell_type": "code",
   "execution_count": null,
   "id": "d2cdc2e7",
   "metadata": {},
   "outputs": [],
   "source": [
    "ref <- MapQuery(anchorset = treg.anchors, reference = treg.ref, query = query,\n",
    "    refdata = treg.ref$seurat_clusters, reference.reduction = \"pca\", reduction.model = \"umap\",\n",
    "               transferdata.args = list(k.weight = 25))\n",
    "\n",
    "df <- as.data.frame(treg.ref@reductions$umap@cell.embeddings)\n",
    "df$source <- \"reference\"\n",
    "\n",
    "df2 <- as.data.frame(ref@reductions$ref.umap@cell.embeddings)\n",
    "df2$source <- \"query\"\n",
    "\n",
    "colnames(df2) <- colnames(df)\n",
    "df3 <- rbind(df, df2)\n",
    "\n",
    "options(repr.plot.width = 6, repr.plot.height = 5)\n",
    "\n",
    "df3 %>% ggplot() +\n",
    "  geom_point(aes(x = umap_1, y = umap_2, color = source)) +\n",
    "  scale_color_manual(values = c(\"red\", \"lightgrey\")) + \n",
    "  theme_classic() + \n",
    "  ggtitle(\"Treg ParseBio\") + NoLegend()"
   ]
  },
  {
   "cell_type": "markdown",
   "id": "4761eae1",
   "metadata": {},
   "source": [
    "## Reference mapping HPAP"
   ]
  },
  {
   "cell_type": "code",
   "execution_count": null,
   "id": "d5e30dcf",
   "metadata": {},
   "outputs": [],
   "source": [
    "treg_hpap_spleen_cl0  <- subset(treg_hpap_spleen, seurat_clusters2 == 0)"
   ]
  },
  {
   "cell_type": "code",
   "execution_count": null,
   "id": "809b3cbe",
   "metadata": {},
   "outputs": [],
   "source": [
    " query  <- treg_hpap_spleen_cl0\n",
    "\n",
    "    treg.anchors <- FindTransferAnchors(reference = treg.ref, query = query,\n",
    "    dims = 1:10, reference.reduction = \"pca\", k.score = 5, k.filter = NA, k.anchor = 5)\n",
    "\n",
    "treg.anchors\n",
    "\n",
    "options(future.globals.maxSize = 65000 * 1024^2)\n",
    "\n",
    "\n",
    "query[[\"RNA\"]]  <- as(object = query[[\"RNA\"]], Class = \"Assay\")"
   ]
  },
  {
   "cell_type": "code",
   "execution_count": null,
   "id": "769b9ab9",
   "metadata": {},
   "outputs": [],
   "source": [
    "ref <- MapQuery(anchorset = treg.anchors, reference = treg.ref, query = query,\n",
    "    refdata = treg.ref$seurat_clusters, reference.reduction = \"pca\", reduction.model = \"umap\",\n",
    "               transferdata.args = list(k.weight = 25))\n",
    "\n",
    "df <- as.data.frame(treg.ref@reductions$umap@cell.embeddings)\n",
    "df$source <- \"reference\"\n",
    "\n",
    "df2 <- as.data.frame(ref@reductions$ref.umap@cell.embeddings)\n",
    "df2$source <- \"query\"\n",
    "\n",
    "colnames(df2) <- colnames(df)\n",
    "df3 <- rbind(df, df2)\n",
    "\n",
    "options(repr.plot.width = 6, repr.plot.height = 5)\n",
    "\n",
    "df3 %>% ggplot() +\n",
    "  geom_point(aes(x = umap_1, y = umap_2, color = source)) +\n",
    "  scale_color_manual(values = c(\"red\", \"lightgrey\")) + \n",
    "  theme_classic() + \n",
    "  ggtitle(\"Treg HPAP\") + NoLegend()"
   ]
  },
  {
   "cell_type": "code",
   "execution_count": null,
   "id": "c7f2b712",
   "metadata": {},
   "outputs": [],
   "source": []
  },
  {
   "cell_type": "code",
   "execution_count": null,
   "id": "d1540a8f",
   "metadata": {},
   "outputs": [],
   "source": []
  }
 ],
 "metadata": {
  "kernelspec": {
   "display_name": "R",
   "language": "R",
   "name": "ir"
  },
  "language_info": {
   "codemirror_mode": "r",
   "file_extension": ".r",
   "mimetype": "text/x-r-source",
   "name": "R",
   "pygments_lexer": "r",
   "version": "4.4.2"
  },
  "toc": {
   "base_numbering": 1,
   "nav_menu": {},
   "number_sections": true,
   "sideBar": true,
   "skip_h1_title": false,
   "title_cell": "Table of Contents",
   "title_sidebar": "Contents",
   "toc_cell": false,
   "toc_position": {},
   "toc_section_display": true,
   "toc_window_display": true
  }
 },
 "nbformat": 4,
 "nbformat_minor": 5
}
