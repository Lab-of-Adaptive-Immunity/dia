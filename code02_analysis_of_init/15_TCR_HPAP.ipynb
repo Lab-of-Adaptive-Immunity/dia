{
 "cells": [
  {
   "cell_type": "code",
   "execution_count": null,
   "id": "677c5bad",
   "metadata": {},
   "outputs": [],
   "source": [
    "# Loading libraries\n",
    "library(\"Matrix\")\n",
    "library(Seurat)\n",
    "library(DT)\n",
    "library(dplyr)\n",
    "library(here)\n",
    "library(ggplot2)\n",
    "library(kableExtra)\n",
    "library(cowplot)\n",
    "library(tidyverse)\n",
    "library(reshape)\n",
    "library(SingleR)\n",
    "library(ProjecTILs)\n",
    "library(TILPRED)\n",
    "library(\"SingleCellExperiment\")\n",
    "library(\"AUCell\")\n",
    "#library(ggprism)\n",
    "library(cowplot)\n",
    "library(fgsea)\n",
    "library(org.Mm.eg.db)\n",
    "library(topGO)\n",
    "library(annotate)\n",
    "library(\"org.Mm.eg.db\")\n",
    "library(biomaRt)\n",
    "library(furrr)\n",
    "library(STACAS)\n",
    "\n",
    "ggtheme <- function() {\n",
    "  theme(\n",
    "    axis.text = element_text(size = 20, colour = \"black\"),\n",
    "    axis.title = element_text(size = 20, colour = \"black\"),\n",
    "    text = element_text(size = 20, colour = \"black\"),\n",
    "    legend.text = element_text(size = 20, colour = \"black\"),\n",
    "    legend.key.size =  unit(10, units = \"points\"),\n",
    "    plot.background = element_blank()\n",
    "     )\n",
    "}\n"
   ]
  },
  {
   "cell_type": "code",
   "execution_count": null,
   "id": "d2b27b30",
   "metadata": {},
   "outputs": [],
   "source": [
    "paths  <- list.dirs(\"../../Project scRNAseq/Analysis of previously published data/069_HPANCDB_Immune_TCRseq/raw/hpapdata/hpapdata/\", recursive = F)"
   ]
  },
  {
   "cell_type": "code",
   "execution_count": null,
   "id": "fa82eb8c",
   "metadata": {},
   "outputs": [],
   "source": [
    "paths  <- list.dirs(\"../../Project scRNAseq/Analysis of previously published data/069_HPANCDB_Immune_TCRseq/raw/hpapdata/hpapdata/HPAP-001/T cell studies/T cell receptor repertoire TCRb Vregion seq/HPAP-001_TCRbulk_Spleen_DNA_100ng_Replicate-1.clones_TRB.tsv\", recursive = F)"
   ]
  },
  {
   "cell_type": "code",
   "execution_count": null,
   "id": "c2268b87",
   "metadata": {
    "scrolled": true
   },
   "outputs": [],
   "source": [
    "paths  <- paste0(paths, \"/T cell studies/T cell receptor repertoire TCRb Vregion seq/\")"
   ]
  },
  {
   "cell_type": "code",
   "execution_count": null,
   "id": "fc30ba70",
   "metadata": {},
   "outputs": [],
   "source": [
    "paths"
   ]
  },
  {
   "cell_type": "code",
   "execution_count": null,
   "id": "f5610e7c",
   "metadata": {},
   "outputs": [],
   "source": [
    "get_data  <- function(path){\n",
    "    file_path  <- list.files(path)\n",
    "    file_path1  <- file_path[grepl(file_path, pattern = \"Replicate-1.clones_TRB.tsv\")]\n",
    "    file_path2  <- file_path[grepl(file_path, pattern = \"Replicate-2.clones_TRB.tsv\")]\n",
    "    \n",
    "    dat1  <- fread(file_path1)\n",
    "    dat2  <- fread(file_path2)\n",
    "}"
   ]
  },
  {
   "cell_type": "code",
   "execution_count": null,
   "id": "21cedf76",
   "metadata": {
    "scrolled": true
   },
   "outputs": [],
   "source": [
    "library(data.table)"
   ]
  },
  {
   "cell_type": "code",
   "execution_count": null,
   "id": "493ca234",
   "metadata": {},
   "outputs": [],
   "source": [
    "get_mixcr_tcr_data  <- function(path){\n",
    "    file_path  <- list.files(path, full.names = T)\n",
    "    file_name  <- list.files(path)\n",
    "    \n",
    "    file_path1  <- file_path[grepl(file_path, pattern = \"Replicate-1.clones_TRB.tsv\")]\n",
    "    file_path2  <- file_path[grepl(file_path, pattern = \"Replicate-2.clones_TRB.tsv\")]\n",
    "    \n",
    "    dat1  <- fread(file_path1)\n",
    "    dat2  <- fread(file_path2)\n",
    "\n",
    "    dat1  <- dat1  %>% filter(minQualCDR3 == 58)\n",
    "    dat2  <- dat2  %>% filter(minQualCDR3 == 58)\n",
    "    dat1$Patient_ID  <- substr(file_name[1],1,8)\n",
    "    dat1$Replicate  <- \"Rep1\"\n",
    "\n",
    "    dat2$Patient_ID  <- substr(file_name[1],1,8)\n",
    "    dat2$Replicate  <- \"Rep2\"\n",
    "\n",
    "    dat  <- rbind(dat1, dat2)\n",
    "    return(dat)\n",
    "}\n"
   ]
  },
  {
   "cell_type": "code",
   "execution_count": null,
   "id": "3811cedf",
   "metadata": {},
   "outputs": [],
   "source": [
    "all_tcrs  <- map(.x = paths, .f = get_mixcr_tcr_data)"
   ]
  },
  {
   "cell_type": "code",
   "execution_count": null,
   "id": "942ef641",
   "metadata": {},
   "outputs": [],
   "source": [
    "fct_qual_as_char  <- function(df){\n",
    "    df$minQualCDR2  <- as.character(df$minQualCDR2)\n",
    "    df$minQualFR3  <- as.character(df$minQualFR3)\n",
    "    return(df)\n",
    "}"
   ]
  },
  {
   "cell_type": "code",
   "execution_count": null,
   "id": "db307e69",
   "metadata": {},
   "outputs": [],
   "source": [
    "all_tcrs2  <- map(.x = all_tcrs, .f = fct_qual_as_char)"
   ]
  },
  {
   "cell_type": "code",
   "execution_count": null,
   "id": "a2dfe792",
   "metadata": {},
   "outputs": [],
   "source": [
    "all_tcrs3  <- all_tcrs2  %>% bind_rows"
   ]
  },
  {
   "cell_type": "code",
   "execution_count": null,
   "id": "5eda5b3d",
   "metadata": {
    "scrolled": true
   },
   "outputs": [],
   "source": [
    "all_tcrs3  %>% group_by(Patient_ID)  %>% tally  %>% arrange(n)"
   ]
  },
  {
   "cell_type": "code",
   "execution_count": null,
   "id": "284bb2dd",
   "metadata": {},
   "outputs": [],
   "source": [
    "write.csv(all_tcrs3, \"hpap_tcr.csv\")"
   ]
  },
  {
   "cell_type": "code",
   "execution_count": null,
   "id": "6ff89e1b",
   "metadata": {},
   "outputs": [],
   "source": [
    "all_tcrs3  <- read_csv(\"hpap_tcr.csv\")"
   ]
  },
  {
   "cell_type": "code",
   "execution_count": null,
   "id": "56ee5b79",
   "metadata": {},
   "outputs": [],
   "source": [
    "all_tcrs3"
   ]
  },
  {
   "cell_type": "code",
   "execution_count": null,
   "id": "90562933",
   "metadata": {},
   "outputs": [],
   "source": [
    "patient_metadata  <- read_delim(\"../../Project scRNAseq/Analysis of previously published data/069_HPANCDB_Immune_TCRseq/hpap_medatata.csv\")"
   ]
  },
  {
   "cell_type": "code",
   "execution_count": null,
   "id": "781e9190",
   "metadata": {
    "scrolled": true
   },
   "outputs": [],
   "source": [
    "patient_metadata"
   ]
  },
  {
   "cell_type": "code",
   "execution_count": null,
   "id": "5a18969a",
   "metadata": {},
   "outputs": [],
   "source": [
    "patient_metadata  %>% filter(donor_ID %in% all_tcrs3$Patient_ID)  %>% pull(clinical_diagnosis)  %>% table"
   ]
  },
  {
   "cell_type": "code",
   "execution_count": null,
   "id": "c64f6189",
   "metadata": {},
   "outputs": [],
   "source": [
    "all_tcrs4  <- left_join(all_tcrs3, patient_metadata  %>% mutate(Patient_ID = donor_ID))"
   ]
  },
  {
   "cell_type": "code",
   "execution_count": null,
   "id": "265ed315",
   "metadata": {
    "scrolled": true
   },
   "outputs": [],
   "source": [
    "all_tcrs4"
   ]
  },
  {
   "cell_type": "code",
   "execution_count": null,
   "id": "664c2f29",
   "metadata": {},
   "outputs": [],
   "source": [
    "colnames(all_tcrs4)"
   ]
  },
  {
   "cell_type": "markdown",
   "id": "00ec687e",
   "metadata": {},
   "source": [
    "## CDR3 beta length"
   ]
  },
  {
   "cell_type": "code",
   "execution_count": null,
   "id": "bceaa5f0",
   "metadata": {},
   "outputs": [],
   "source": [
    "metadata_6  <- all_tcrs4"
   ]
  },
  {
   "cell_type": "code",
   "execution_count": null,
   "id": "cefd9d5d",
   "metadata": {},
   "outputs": [],
   "source": [
    "metadata_6$cdr3_B_nchar  <- nchar(metadata_6$aaSeqCDR3)"
   ]
  },
  {
   "cell_type": "code",
   "execution_count": null,
   "id": "1acb75bf",
   "metadata": {},
   "outputs": [],
   "source": [
    "metadata_6$Sample_ID  <- paste(metadata_6$Patient_ID, metadata_6$Replicate)"
   ]
  },
  {
   "cell_type": "code",
   "execution_count": null,
   "id": "0f786cdc",
   "metadata": {},
   "outputs": [],
   "source": [
    "options(repr.plot.width = 17)\n",
    "metadata_6 %>% \n",
    "filter(as.numeric(cdr3_B_nchar) <23)  %>% \n",
    "filter(clinical_diagnosis %in% c(\"T1D control\", \"T1DM\"))  %>% \n",
    "mutate(Disease = ifelse(grepl(pattern = \"control\", x = clinical_diagnosis), \"Ctrl\", \"Dia\"))  %>% \n",
    "group_by(Disease, Sample_ID, cdr3_B_nchar)  %>% \n",
    "tally  %>% \n",
    "filter(!is.na(cdr3_B_nchar))  %>% \n",
    "ggplot(aes(x = Disease, y = n)) + \n",
    "  geom_boxplot(outlier.shape = NA, aes(fill = Disease), alpha = 0.4) + \n",
    "  geom_dotplot(binaxis='y', stackdir='center', dotsize=0) +\n",
    "  geom_jitter(width = 0.2, height = 0.5, size = 0.5, alpha = 1, aes(color = Disease)) +  # in aes, you can also use shape or fill (for the shapes that allow it)\n",
    "  facet_wrap(~factor(cdr3_B_nchar),\n",
    "             scales = \"fixed\", ncol = 19, drop = T) +\n",
    " ylab(\"Log2 clonal abundance\") +\n",
    "  xlab(\"CDR3 beta length\") +\n",
    "  theme_classic() + \n",
    "  ggpubr::stat_compare_means(label.x.npc = 0.3, label = \"p.format\") + \n",
    "theme(strip.background = element_blank(), axis.text.x = element_blank(), \n",
    "     axis.ticks.x = element_blank())"
   ]
  },
  {
   "cell_type": "code",
   "execution_count": null,
   "id": "34091776",
   "metadata": {},
   "outputs": [],
   "source": [
    "options(repr.plot.width = 17)\n",
    "metadata_6 %>% \n",
    "filter(as.numeric(cdr3_B_nchar) <23)  %>% \n",
    "filter(clinical_diagnosis %in% c(\"T1D control\", \"T1DM\"))  %>% \n",
    "mutate(Disease = ifelse(grepl(pattern = \"control\", x = clinical_diagnosis), \"Ctrl\", \"Dia\"))  %>% \n",
    "group_by(Disease, Sample_ID, cdr3_B_nchar)  %>% \n",
    "tally  %>% \n",
    "filter(!is.na(cdr3_B_nchar))  %>% \n",
    "ggplot(aes(x = Disease, y = n)) + \n",
    "  geom_boxplot(outlier.shape = NA, aes(fill = Disease), alpha = 0.4) + \n",
    "  geom_dotplot(binaxis='y', stackdir='center', dotsize=0) +\n",
    "  geom_jitter(width = 0.2, height = 0.5, size = 0.5, alpha = 1, aes(color = Disease)) +  # in aes, you can also use shape or fill (for the shapes that allow it)\n",
    "  facet_wrap(~factor(cdr3_B_nchar),\n",
    "             scales = \"fixed\", ncol = 19, drop = T) +\n",
    " ylab(\"Log2 clonal abundance\") +\n",
    "  xlab(\"CDR3 beta length\") +\n",
    "  theme_classic() + \n",
    "  ggpubr::stat_compare_means(label.x.npc = 0.3, label = \"p.format\") + \n",
    "theme(strip.background = element_blank(), axis.text.x = element_blank(), \n",
    "     axis.ticks.x = element_blank())"
   ]
  },
  {
   "cell_type": "markdown",
   "id": "aeaac2d4",
   "metadata": {},
   "source": [
    "- každou sekvenci u jednoho pacienta počítat tolikrát, kolikrát tam je\n",
    "- počítám počet dané délky pro jednoho pacienta\n",
    "- potom plotuji frekvenci dané délky u daného pacienta"
   ]
  },
  {
   "cell_type": "code",
   "execution_count": null,
   "id": "b5ae4912",
   "metadata": {
    "scrolled": true
   },
   "outputs": [],
   "source": [
    "options(repr.plot.width = 17)\n",
    "test_length  <- metadata_6 %>% \n",
    "filter(as.numeric(cdr3_B_nchar) <23)  %>% \n",
    "filter(clinical_diagnosis %in% c(\"T1D control\", \"T1DM\"))  %>% \n",
    "mutate(Disease = ifelse(grepl(pattern = \"control\", x = clinical_diagnosis), \"Ctrl\", \"Dia\"))  %>% \n",
    "group_by(Disease, Patient_ID, cdr3_B_nchar)  %>%\n",
    "  summarise(n = n()) %>%\n",
    "  mutate(freq = n / sum(n))"
   ]
  },
  {
   "cell_type": "code",
   "execution_count": null,
   "id": "8b6f64cf",
   "metadata": {},
   "outputs": [],
   "source": [
    "test_length  %>% \n",
    "filter(!is.na(cdr3_B_nchar))  %>% \n",
    "ggplot(aes(x = Disease, y = freq)) + \n",
    "  geom_boxplot(outlier.shape = NA, aes(fill = Disease), alpha = 0.4) + \n",
    "  geom_dotplot(binaxis='y', stackdir='center', dotsize=0) +\n",
    "  geom_jitter(width = 0.2, height = 0, size = 0.5, alpha = 1, aes(color = Disease)) +  # in aes, you can also use shape or fill (for the shapes that allow it)\n",
    "  facet_wrap(~factor(cdr3_B_nchar),\n",
    "             scales = \"fixed\", ncol = 19, drop = T) +\n",
    " ylab(\"Frequency\") +\n",
    "  xlab(\"CDR3 beta length\") +\n",
    "  theme_classic() + \n",
    "  ggpubr::stat_compare_means(label.x.npc = 0.3, label = \"p.format\") + \n",
    "theme(strip.background = element_blank(), axis.text.x = element_blank(), \n",
    "     axis.ticks.x = element_blank())"
   ]
  },
  {
   "cell_type": "markdown",
   "id": "1c47f2c2",
   "metadata": {},
   "source": [
    "- každou sekvenci u jednoho pacienta počítat pouze jednou\n",
    "- počítám počet dané délky pro jednoho pacienta\n",
    "- potom plotuji frekvenci dané délky u daného pacienta"
   ]
  },
  {
   "cell_type": "code",
   "execution_count": null,
   "id": "24b3ca9b",
   "metadata": {
    "scrolled": true
   },
   "outputs": [],
   "source": [
    "all_tcrs4"
   ]
  },
  {
   "cell_type": "markdown",
   "id": "c916cee3",
   "metadata": {},
   "source": [
    "## Plot for figure"
   ]
  },
  {
   "cell_type": "code",
   "execution_count": null,
   "id": "06e4c028",
   "metadata": {},
   "outputs": [],
   "source": [
    "options(repr.plot.width = 17)\n",
    "metadata_6 %>% \n",
    "filter(as.numeric(cdr3_B_nchar) <23)  %>% \n",
    "filter(clinical_diagnosis %in% c(\"T1D control\", \"T1DM\"))  %>% \n",
    "mutate(Disease = ifelse(grepl(pattern = \"control\", x = clinical_diagnosis), \"Ctrl\", \"Dia\"))  %>% \n",
    "group_by(Disease, Sample_ID, cdr3_B_nchar)  %>% \n",
    "tally  %>% \n",
    "filter(!is.na(cdr3_B_nchar))  %>% \n",
    "ggplot(aes(x = Disease, y = n)) + \n",
    "  geom_boxplot(outlier.shape = NA, aes(fill = Disease), alpha = 0.4) + \n",
    "  geom_dotplot(binaxis='y', stackdir='center', dotsize=0) +\n",
    "  geom_jitter(width = 0.2, height = 0.5, size = 0.5, alpha = 1, aes(color = Disease)) +  # in aes, you can also use shape or fill (for the shapes that allow it)\n",
    "  facet_wrap(~factor(cdr3_B_nchar),\n",
    "             scales = \"fixed\", ncol = 19, drop = T) +\n",
    " ylab(\"Log2 clonal abundance\") +\n",
    "  xlab(\"CDR3 beta length\") +\n",
    "  theme_classic() + \n",
    "  ggpubr::stat_compare_means(label.x.npc = 0.3, label = \"p.format\") + \n",
    "theme(strip.background = element_blank(), axis.text.x = element_blank(), \n",
    "     axis.ticks.x = element_blank())"
   ]
  },
  {
   "cell_type": "code",
   "execution_count": null,
   "id": "899ef729",
   "metadata": {},
   "outputs": [],
   "source": [
    "metadata_6  %>% colnames"
   ]
  },
  {
   "cell_type": "code",
   "execution_count": null,
   "id": "cffb4c8c",
   "metadata": {
    "scrolled": true
   },
   "outputs": [],
   "source": [
    "options(repr.plot.width = 17)\n",
    "test_length  <- metadata_6 %>% \n",
    "dplyr::select(clinical_diagnosis, Patient_ID, cdr3_B_nchar, aaSeqCDR3)  %>% \n",
    "unique  %>% \n",
    "filter(clinical_diagnosis %in% c(\"T1D control\", \"T1DM\"))  %>% \n",
    "mutate(Disease = ifelse(grepl(pattern = \"control\", x = clinical_diagnosis), \"Ctrl\", \"Dia\"))  %>% \n",
    "group_by(Disease, Patient_ID, cdr3_B_nchar)  %>%\n",
    "  summarise(n = n()) %>%\n",
    "  mutate(freq = n / sum(n))\n",
    "\n",
    "test_length  %>% group_by(Patient_ID)  %>% summarise(sum = sum(freq))"
   ]
  },
  {
   "cell_type": "code",
   "execution_count": null,
   "id": "bd246130",
   "metadata": {
    "scrolled": true
   },
   "outputs": [],
   "source": [
    "test_length  %>% \n",
    "filter(!is.na(cdr3_B_nchar))  %>% \n",
    "filter(as.numeric(cdr3_B_nchar) <26)  %>% \n",
    "ggplot(aes(x = Disease, y = freq)) + \n",
    "  geom_boxplot(outlier.shape = NA, aes(fill = Disease), alpha = 0.4) + \n",
    "  geom_dotplot(binaxis='y', stackdir='center', dotsize=0) +\n",
    "  geom_jitter(width = 0.2, height = 0, size = 0.5, alpha = 1, aes(color = Disease)) +  # in aes, you can also use shape or fill (for the shapes that allow it)\n",
    "  facet_wrap(~factor(cdr3_B_nchar),\n",
    "             scales = \"fixed\", ncol = 21, drop = T) +\n",
    " ylab(\"Frequency\") +\n",
    "  xlab(\"CDR3 beta length\") +\n",
    "  theme_classic() + \n",
    "  ggpubr::stat_compare_means(label.x.npc = 0.3, label = \"p.format\") + \n",
    "theme(strip.background = element_blank(), axis.text.x = element_blank(), \n",
    "     axis.ticks.x = element_blank())"
   ]
  },
  {
   "cell_type": "code",
   "execution_count": null,
   "id": "001b24a2",
   "metadata": {},
   "outputs": [],
   "source": [
    "test_length  %>% \n",
    "filter(!is.na(cdr3_B_nchar))  %>% \n",
    "filter(as.numeric(cdr3_B_nchar) <24)  %>% \n",
    "ggplot(aes(x = Disease, y = freq)) + \n",
    "  geom_boxplot(outlier.shape = NA, aes(fill = Disease), alpha = 0.4) + \n",
    "  geom_dotplot(binaxis='y', stackdir='center', dotsize=0) +\n",
    "  geom_jitter(width = 0.2, height = 0, size = 0.7, shape = 21, alpha = 0.7, aes(fill = Disease)) +  # in aes, you can also use shape or fill (for the shapes that allow it)\n",
    "  facet_wrap(~factor(cdr3_B_nchar),\n",
    "             scales = \"fixed\", ncol = 21, drop = T) +\n",
    " scale_fill_manual(values = c(\"dodgerblue\", \"red2\"))  +\n",
    "ylab(\"Frequency\") +\n",
    "  xlab(\"CDR3 beta length\") +\n",
    "  theme_classic() + \n",
    "  ggpubr::stat_compare_means(label.x.npc = 0.3, label = \"p.format\", size = 7) + \n",
    "theme(strip.background = element_blank(), axis.text.x = element_blank(), \n",
    "     axis.ticks.x = element_blank()) + ggtheme()\n",
    "ggsave(filename = \"../240218_VN_Diabetes_V05/figures/tcr_plots/tcr_length/hpap.png\", width = 22, height = 10, units = \"cm\")\n",
    "ggsave(filename = \"../240218_VN_Diabetes_V05/figures/tcr_plots/tcr_length/hpap.svg\", width = 22, height = 10, units = \"cm\")"
   ]
  },
  {
   "cell_type": "code",
   "execution_count": null,
   "id": "fe3e32cc",
   "metadata": {},
   "outputs": [],
   "source": []
  },
  {
   "cell_type": "markdown",
   "id": "5a9bfa3d",
   "metadata": {},
   "source": [
    "# Change metadata to our format"
   ]
  },
  {
   "cell_type": "code",
   "execution_count": null,
   "id": "4c503c27",
   "metadata": {},
   "outputs": [],
   "source": [
    "source(\"../240218_VN_Diabetes_V05/code/diabetes_analysis_v05.R\")"
   ]
  },
  {
   "cell_type": "code",
   "execution_count": null,
   "id": "f729af19",
   "metadata": {},
   "outputs": [],
   "source": [
    "colnames(all_tcrs4)"
   ]
  },
  {
   "cell_type": "markdown",
   "id": "19e386f1",
   "metadata": {},
   "source": [
    "     'orig.ident' 'nCount_RNA' 'nFeature_RNA' 'percent.mt' 'percent.rp' 'nCount_Antibodies' 'nFeature_Antibodies' 'hashtags' 'Experiment_ID' 'Date_prepared' 'Prepared_by' 'Sample_ID' 'Well' 'Hashtag' 'Hashtag_sequence' 'Hashtag_cat_n' 'Hashtag_dilution' 'Project.code' 'Well_CT_ID' 'Condition' 'Disease' 'Time' 'Species' 'Age' 'Age_group' 'Sex' 'Library_code' 'Patient_ID' 'is_cell' 'chain' 'contig_id' 'high_confidence' 'productive' 'length' 'reads' 'umis' 'vdj_source' 'count_TRA' 'count_TRB' 'count_Multi' 'cdr3_A1' 'cdr3_A1_nt' 'cdr3_A2' 'cdr3_A2_nt' 'cdr3_B' 'cdr3_B_nt' 'cdr3_Multi' 'cdr3_Multi_nt' 'v_gene_A1' 'j_gene_A1' 'v_gene_A2' 'j_gene_A2' 'v_gene_B' 'd_gene_B' 'j_gene_B' 'v_gene_Multi' 'd_gene_Multi' 'j_gene_Multi' 'clonotypes' 'has.VDJ' 'has.complete.VDJ' 'nCount_PTPRC' 'nFeature_PTPRC' 'RNA_snn_res.0.5' 'seurat_clusters' 'clonotype.repeated' 'RNA_snn_res.0.8' 'Patient_Time' 'Sample_char' 'patient' 'rc' 'dat_nar' 'time_taken' 'age_taken' 'age_group' 'sex' 'dat_man' 'age_man' 'hba1c_man' 'ph_man' 'ahco3_man' 'random_cpeptide_man' 'bh_man' 'bh_man_sds' 'bw_man' 'bw_man_sds' 'bmi_man' 'bmi_man_sds' 'gad_man' 'iaa_man' 'ia2_man' 'znt8_man' 'date_taken_1' 'fasting_cpept_1' 'wbc' 'lymph_abs' 'mon_abs' 'neutr_abs' 'eoz_abs' 'baz_abs' 'lymph_perc' 'mon_perc' 'neutr_perc' 'eoz_perc' 'baz_perc' 'tdd_1' 'tdd_per_kg_1' 'fasting_cpept_T1' 'idaa1c' 'part_remission_y_n' 'c_peptide_change' 'c_peptide_change_perc' 'HLA_A1' 'HLA_A2' 'HLA_B1' 'HLA_B2' 'HLA_C1' 'HLA_C2' 'HLA_DMA1' 'HLA_DMA2' 'HLA_DMB1' 'HLA_DMB2' 'HLA_DOA1' 'HLA_DOA2' 'HLA_DPA11' 'HLA_DPA12' 'HLA_DPB11' 'HLA_DPB12' 'HLA_DQA11' 'HLA_DQA12' 'HLA_DQB11' 'HLA_DQB12' 'HLA_DRA1' 'HLA_DRA2' 'HLA_DRB11' 'HLA_DRB12' 'HLA_E1' 'HLA_E2' 'HLA_F1' 'HLA_F2' 'sample' 'pct_CD8_of_live' 'pct_naive_of_CD8' 'pct_eff_of_CD8' 'pct_CD4_of_live' 'pct_naive_of_CD4' 'pct_eff_of_CD4' 'sort_ratio_naive_to_eff_CD8' 'sort_ratio_naive_to_eff_CD4' 'is_old_control' 'RNA_snn_res.1' 'barcode' 'Monaco_single' 'HPCA_single' 'Wherry_main' 'nCount_refAssay' 'nFeature_refAssay' 'predicted.celltype.l1.score' 'predicted.celltype.l1' 'predicted.celltype.l2.score' 'predicted.celltype.l2' 'predicted.celltype.l3.score' 'predicted.celltype.l3' 'mapping.score' 'RNA_snn_res.0.6' 'group_cpept' 'Condition2' 'integrated_snn_res.0.6' 'annotations_manual' 'nCount_pathwayswmean' 'nFeature_pathwayswmean' 'nCount_CollecTRI' 'nFeature_CollecTRI' 'nCount_prediction.score.celltype.l1' 'nFeature_prediction.score.celltype.l1' 'nCount_prediction.score.celltype.l2' 'nFeature_prediction.score.celltype.l2' 'nCount_prediction.score.celltype.l3' 'nFeature_prediction.score.celltype.l3' 'clone_nt' 'clone_aa' 'test' 'clone_abundance' 'log_clone_abundance' 'clone_abundance_group' 'cdr3_B_nchar' 'cdr3_B_nchar_nucl' 'clone_aa_noNA' \n",
    "\n"
   ]
  },
  {
   "cell_type": "code",
   "execution_count": null,
   "id": "cd2fe97b",
   "metadata": {},
   "outputs": [],
   "source": []
  },
  {
   "cell_type": "code",
   "execution_count": null,
   "id": "3b4b3f11",
   "metadata": {},
   "outputs": [],
   "source": []
  },
  {
   "cell_type": "code",
   "execution_count": null,
   "id": "70767aad",
   "metadata": {},
   "outputs": [],
   "source": [
    "all_tcrs4"
   ]
  },
  {
   "cell_type": "code",
   "execution_count": null,
   "id": "2ebb4074",
   "metadata": {},
   "outputs": [],
   "source": [
    "all_tcrs5  <- all_tcrs4  %>% \n",
    "mutate(cdr3_B = aaSeqCDR3,\n",
    "      Sample_char = paste(Patient_ID, clinical_diagnosis))  %>% \n",
    "filter(clinical_diagnosis %in% c(\"T1DM\", \"T1D control\"))"
   ]
  },
  {
   "cell_type": "code",
   "execution_count": null,
   "id": "77578303",
   "metadata": {},
   "outputs": [],
   "source": [
    "all_tcrs5"
   ]
  },
  {
   "cell_type": "code",
   "execution_count": null,
   "id": "8c82c481",
   "metadata": {},
   "outputs": [],
   "source": [
    "clone_table_individual <- all_tcrs5 %>%\n",
    "  dplyr::group_by(cdr3_B, Sample_char) %>%\n",
    "          dplyr::summarize(n = n()) %>%\n",
    "    arrange(desc(n)) %>% pivot_wider(names_from = Sample_char, values_from = n, values_fill = 0) "
   ]
  },
  {
   "cell_type": "code",
   "execution_count": null,
   "id": "10f771bd",
   "metadata": {},
   "outputs": [],
   "source": [
    "clone_table_individual"
   ]
  },
  {
   "cell_type": "code",
   "execution_count": null,
   "id": "98fe861b",
   "metadata": {},
   "outputs": [],
   "source": [
    "is_positive <- function(number){\n",
    "  number2 <- ifelse(is.na(number),0,ifelse(number==0,0,1))\n",
    "  return(number2)\n",
    "}"
   ]
  },
  {
   "cell_type": "code",
   "execution_count": null,
   "id": "e0e4e03b",
   "metadata": {},
   "outputs": [],
   "source": [
    "df_all4  <- get_df_all4_for_tcr_analysis(clone_table_individual)"
   ]
  },
  {
   "cell_type": "code",
   "execution_count": null,
   "id": "de5e6a00",
   "metadata": {},
   "outputs": [],
   "source": [
    "dir.create(\"../figures/tcr/\", recursive = T)"
   ]
  },
  {
   "cell_type": "code",
   "execution_count": null,
   "id": "2b61907f",
   "metadata": {},
   "outputs": [],
   "source": [
    "df_all4"
   ]
  },
  {
   "cell_type": "code",
   "execution_count": null,
   "id": "17963a2d",
   "metadata": {},
   "outputs": [],
   "source": [
    "  df24 <- df_all4\n",
    "    df24[df24 == 1] <- 0\n",
    "\n",
    "    matrix_4  <- as.matrix(df24)\n",
    "    "
   ]
  },
  {
   "cell_type": "code",
   "execution_count": null,
   "id": "50c38d77",
   "metadata": {},
   "outputs": [],
   "source": [
    "    sample_annot <- data.frame(row.names = rownames(matrix_4), \n",
    "                         rn = rownames(matrix_4))  %>% \n",
    "                separate(rn, sep = \" \", \n",
    "                         remove = F,\n",
    "                         into = c(\"Patient_ID\",\"Disease\"))  "
   ]
  },
  {
   "cell_type": "code",
   "execution_count": null,
   "id": "dcaaa9d8",
   "metadata": {
    "scrolled": true
   },
   "outputs": [],
   "source": [
    "sample_annot"
   ]
  },
  {
   "cell_type": "code",
   "execution_count": null,
   "id": "a58e2029",
   "metadata": {},
   "outputs": [],
   "source": [
    "sample_annot  <- sample_annot   %>%  mutate(Disease = ifelse(Disease == \"T1D\", \"Ctrl\", \"T1DM\"))"
   ]
  },
  {
   "cell_type": "code",
   "execution_count": null,
   "id": "35230693",
   "metadata": {
    "scrolled": true
   },
   "outputs": [],
   "source": [
    "sample_annot"
   ]
  },
  {
   "cell_type": "code",
   "execution_count": null,
   "id": "e49d934b",
   "metadata": {},
   "outputs": [],
   "source": [
    "        pheatmap::pheatmap(matrix_4, \n",
    "                           cluster_rows = T, \n",
    "                           cluster_cols = T, \n",
    "                           #filename = paste0(\"../figures/tcr/\",sample_name,\"_heatmap.png\"), \n",
    "                       width = 17, \n",
    "                       height = 17)"
   ]
  },
  {
   "cell_type": "code",
   "execution_count": null,
   "id": "efce0882",
   "metadata": {},
   "outputs": [],
   "source": [
    "overlap_index  <- df_all4  %>% \n",
    "    rownames_to_column(\"var1\")  %>% \n",
    "    pivot_longer(!var1, names_to = \"var2\", values_to = \"overlap\")  %>% \n",
    "    unique  %>% as.data.frame()  %>% \n",
    "separate(var1, sep = \" \", remove = F, into = c(\"Patient_ID\",\"Disease_1\"))  %>% \n",
    "    separate(var2, sep = \" \", remove = F, into = c(\"Patient_ID\",\"Disease_2\"))  %>% \n",
    "    mutate(comparison_type = ifelse(\n",
    "    var1 == var2, \"SELF - SELF\", ifelse(\n",
    "    Disease_1 == \"T1DM\" & Disease_2 == \"T1DM\", \"DIA - DIA\", ifelse(\n",
    "    Disease_1 == \"T1D\" & Disease_2 == \"T1D\", \"CTRL - CTRL\",   \"DIA - CTRL\"\n",
    "    ))))"
   ]
  },
  {
   "cell_type": "code",
   "execution_count": null,
   "id": "a6cd88ce",
   "metadata": {
    "scrolled": true
   },
   "outputs": [],
   "source": [
    "overlap_index "
   ]
  },
  {
   "cell_type": "code",
   "execution_count": null,
   "id": "ed9b8ae0",
   "metadata": {},
   "outputs": [],
   "source": [
    "    overlap_index %>% \n",
    "    filter(comparison_type != \"SELF - SELF\")  %>% \n",
    "    ggplot(aes(x = comparison_type, y = overlap)) +  \n",
    "    geom_dotplot(binaxis='y', stackdir='center', dotsize=0) + \n",
    "      ggrastr::rasterize(geom_jitter(position=position_jitter(0.2), size = 1, color = \"grey70\", alpha = 0.1)) +\n",
    "       geom_violin(aes(color = comparison_type), scale = \"width\", alpha = 0.7) +  theme_classic() + \n",
    "\n",
    "       NoLegend() + theme(axis.text.x = element_text(angle = 45, vjust = 0.8, hjust =0.8)) +\n",
    "      ggtitle(\"Overlap\") + \n",
    "      xlab(\"Compared diagnoses\") +\n",
    "      ylab(\"Percentage of shared\") "
   ]
  },
  {
   "cell_type": "code",
   "execution_count": null,
   "id": "0d8d7277",
   "metadata": {},
   "outputs": [],
   "source": [
    "    ggsave(paste0(\"../figures/tcr/\",sample, \"_overlap1.png\"), width = 15, height = 11, units = \"cm\")\n",
    "    ggsave(paste0(\"../figures/tcr/\",sample, \"_overlap1.svg\"), width = 15, height = 11, units = \"cm\")"
   ]
  },
  {
   "cell_type": "code",
   "execution_count": null,
   "id": "87313386",
   "metadata": {},
   "outputs": [],
   "source": [
    "    overlap_index %>% \n",
    "    filter(comparison_type != \"SELF - SELF\")  %>% \n",
    "    filter(comparison_type != \"SELF T1 - SELF T0\")  %>% \n",
    "    ggplot(aes(x = comparison_type, y = overlap)) +  \n",
    "    geom_dotplot(binaxis='y', stackdir='center', dotsize=0) + \n",
    "      ggrastr::rasterize(geom_jitter(position=position_jitter(0.2), size = 1, color = \"grey70\", alpha = 0.1)) +\n",
    "       geom_violin(aes(color = comparison_type), scale = \"width\", alpha = 0.7) +  theme_classic() + \n",
    "\n",
    "       NoLegend() + theme(axis.text.x = element_text(angle = 45, vjust = 0.8, hjust =0.8)) +\n",
    "      ggtitle(\"Overlap without self self\") + \n",
    "ggpubr::stat_compare_means(comparisons = list( c(1,3), c(2,3), c(1,2)), size = 7)+\n",
    "    ggpubr::stat_compare_means(size = 7, label = \"p.format\") +\n",
    "    \n",
    "      xlab(\"Compared diagnoses\") +\n",
    "      ylab(\"Percentage of shared\") "
   ]
  },
  {
   "cell_type": "code",
   "execution_count": null,
   "id": "6daf2eba",
   "metadata": {},
   "outputs": [],
   "source": [
    "    ggsave(paste0(\"../figures/tcr/\",sample, \"_overlap2.png\"), width = 15, height = 11, units = \"cm\")\n",
    "    ggsave(paste0(\"../figures/tcr/\",sample, \"_overlap2.svg\"), width = 15, height = 11, units = \"cm\")"
   ]
  },
  {
   "cell_type": "code",
   "execution_count": null,
   "id": "469a98ed",
   "metadata": {},
   "outputs": [],
   "source": [
    "    overlap_index %>% \n",
    "    filter(comparison_type %in% c(\"CTRL - CTRL\", \n",
    "                                  \"DIA - CTRL\",\n",
    "                                  \"DIA - DIA\",\n",
    "                                  \"SELF T1 - SELF T0\"))  %>% \n",
    "    ggplot(aes(x = comparison_type, y = log(overlap+0.001))) +  \n",
    "    geom_dotplot(binaxis='y', stackdir='center', dotsize=0) + \n",
    "      ggrastr::rasterize(geom_jitter(position=position_jitter(0.2), size = 1, color = \"grey70\", alpha = 0.7)) +\n",
    "       geom_violin(aes(color = comparison_type), scale = \"width\", alpha = 0.7) +  theme_classic() + \n",
    "\n",
    "       NoLegend() + theme(axis.text.x = element_text(angle = 45, vjust = 0.8, hjust =0.8)) +\n",
    "    scale_color_manual(values = c(\"blue\", \"purple\", \"red\", \"grey20\")) + \n",
    "    stat_summary(fun = \"median\",\n",
    "                   geom = \"crossbar\", \n",
    "                   width = 0.5,\n",
    "                   colour = \"grey44\") + \n",
    "   ggpubr::stat_compare_means(comparisons = list( c(1,3), c(2,3), c(1,2)), size = 7)+\n",
    "    ggpubr::stat_compare_means(size = 7, label = \"p.format\") +\n",
    "    ggtheme() +\n",
    "    theme(axis.ticks.x = element_blank()) +\n",
    "      xlab(\"Compared diagnoses\") +\n",
    "      ylab(\"log(percentage of shared)\") "
   ]
  },
  {
   "cell_type": "code",
   "execution_count": null,
   "id": "6854a17a",
   "metadata": {},
   "outputs": [],
   "source": [
    "    ggsave(paste0(\"../figures/tcr/\",sample, \"_overlap_final.png\"), width = 11, height = 18, units = \"cm\")\n",
    "    ggsave(paste0(\"../figures/tcr/\",sample, \"_overlap_final.svg\"), width = 11, height = 18, units = \"cm\")"
   ]
  },
  {
   "cell_type": "code",
   "execution_count": null,
   "id": "4a5bff14",
   "metadata": {},
   "outputs": [],
   "source": []
  },
  {
   "cell_type": "code",
   "execution_count": null,
   "id": "54d4ab24",
   "metadata": {},
   "outputs": [],
   "source": []
  },
  {
   "cell_type": "markdown",
   "id": "cb9ad9f8",
   "metadata": {},
   "source": [
    "## Published clones"
   ]
  },
  {
   "cell_type": "code",
   "execution_count": null,
   "id": "34f1cbc3",
   "metadata": {},
   "outputs": [],
   "source": [
    "published_clones  <- read_excel(\"..//240218_VN_Diabetes_V05/data/published_clones.xlsx\")"
   ]
  },
  {
   "cell_type": "code",
   "execution_count": null,
   "id": "fefb7213",
   "metadata": {},
   "outputs": [],
   "source": [
    "published_trb  <- published_clones$CDR3b[which(!is.na(published_clones$CDR3b))]"
   ]
  },
  {
   "cell_type": "markdown",
   "id": "1b43ddfc",
   "metadata": {},
   "source": [
    "### TRB"
   ]
  },
  {
   "cell_type": "code",
   "execution_count": null,
   "id": "b1429df7",
   "metadata": {},
   "outputs": [],
   "source": [
    "all_tcrs5"
   ]
  },
  {
   "cell_type": "code",
   "execution_count": null,
   "id": "6fdc71f7",
   "metadata": {},
   "outputs": [],
   "source": [
    "table(all_tcrs5$cdr3_B %in% published_trb)"
   ]
  },
  {
   "cell_type": "code",
   "execution_count": null,
   "id": "17db759b",
   "metadata": {},
   "outputs": [],
   "source": [
    "published_clones  %>% filter(CDR3b %in% all_tcrs5$cdr3_B)  %>% filter(!is.na(CDR3b))"
   ]
  },
  {
   "cell_type": "code",
   "execution_count": null,
   "id": "9488e47b",
   "metadata": {},
   "outputs": [],
   "source": [
    "table(cd8_l2_subcluster$cdr3_B %in% published_trb)"
   ]
  },
  {
   "cell_type": "code",
   "execution_count": null,
   "id": "a94af230",
   "metadata": {},
   "outputs": [],
   "source": [
    "published_clones  %>% filter(CDR3b %in% cd8_l2_subcluster$cdr3_B)  %>% filter(!is.na(CDR3b))"
   ]
  },
  {
   "cell_type": "code",
   "execution_count": null,
   "id": "3ecafdd0",
   "metadata": {},
   "outputs": [],
   "source": [
    "cd8_l2_subcluster@meta.data  %>% \n",
    "dplyr::select(Patient_ID, Condition, Experiment_ID,cdr3_B, cdr3_B)  %>% \n",
    "filter(cdr3_B %in% published_trb)"
   ]
  },
  {
   "cell_type": "markdown",
   "id": "c79ca315",
   "metadata": {},
   "source": [
    "HLA of our patients:"
   ]
  },
  {
   "cell_type": "markdown",
   "id": "1ff27fa1",
   "metadata": {},
   "source": [
    "### Kmers"
   ]
  },
  {
   "cell_type": "code",
   "execution_count": null,
   "id": "f4d1e582",
   "metadata": {
    "scrolled": true
   },
   "outputs": [],
   "source": [
    "library(kebabs)"
   ]
  },
  {
   "cell_type": "code",
   "execution_count": null,
   "id": "7026ac11",
   "metadata": {},
   "outputs": [],
   "source": [
    "published_trb2  <- published_clones$CDR3b[which(!is.na(published_clones$CDR3b))]"
   ]
  },
  {
   "cell_type": "code",
   "execution_count": null,
   "id": "ab22d4b3",
   "metadata": {},
   "outputs": [],
   "source": [
    "published_trb2  <- published_clones  %>% filter(!is.na(CDR3b))  %>% pull(CDR3b)"
   ]
  },
  {
   "cell_type": "code",
   "execution_count": null,
   "id": "cf8e2056",
   "metadata": {},
   "outputs": [],
   "source": [
    "published_trb2"
   ]
  },
  {
   "cell_type": "code",
   "execution_count": null,
   "id": "21f4dbb0",
   "metadata": {},
   "outputs": [],
   "source": [
    "kebabs::AAVector(published_trb)"
   ]
  },
  {
   "cell_type": "code",
   "execution_count": null,
   "id": "29cf63ba",
   "metadata": {},
   "outputs": [],
   "source": [
    "s1 <- kebabs::AAVector(published_trb)"
   ]
  },
  {
   "cell_type": "code",
   "execution_count": null,
   "id": "d085a235",
   "metadata": {},
   "outputs": [],
   "source": [
    "sk14 <- spectrumKernel(k=4, normalized=T)"
   ]
  },
  {
   "cell_type": "code",
   "execution_count": null,
   "id": "127b0e4c",
   "metadata": {},
   "outputs": [],
   "source": [
    "kmers_trb  <- as.data.frame(colSums(as.data.frame(drop(getExRep(s1, sk14)))))"
   ]
  },
  {
   "cell_type": "code",
   "execution_count": null,
   "id": "99da1878",
   "metadata": {
    "scrolled": true
   },
   "outputs": [],
   "source": [
    "kmers_trb"
   ]
  },
  {
   "cell_type": "code",
   "execution_count": null,
   "id": "ac786220",
   "metadata": {
    "scrolled": true
   },
   "outputs": [],
   "source": [
    "kmers_trb$kmer  <- rownames(kmers_trb)"
   ]
  },
  {
   "cell_type": "code",
   "execution_count": null,
   "id": "fd040100",
   "metadata": {},
   "outputs": [],
   "source": [
    "colnames(kmers_trb)  <- c(\"ref\", \"kmer\")"
   ]
  },
  {
   "cell_type": "code",
   "execution_count": null,
   "id": "f2d379fa",
   "metadata": {},
   "outputs": [],
   "source": [
    "rownames(kmers_trb)  <- NULL"
   ]
  },
  {
   "cell_type": "code",
   "execution_count": null,
   "id": "7564dc61",
   "metadata": {
    "scrolled": true
   },
   "outputs": [],
   "source": [
    "kmers_trb"
   ]
  },
  {
   "cell_type": "code",
   "execution_count": null,
   "id": "eac3399e",
   "metadata": {},
   "outputs": [],
   "source": [
    "metadata_y  <- all_tcrs5"
   ]
  },
  {
   "cell_type": "code",
   "execution_count": null,
   "id": "3e4b82fc",
   "metadata": {
    "scrolled": true
   },
   "outputs": [],
   "source": [
    "df_all  <- kmers_trb\n",
    "\n",
    "for(i in 1:length(levels(factor(metadata_y$Patient_ID)))){\n",
    "    pt1_betas  <- metadata_y %>%\n",
    "    filter(Patient_ID == levels(factor(metadata_y$Patient_ID))[i])  %>% \n",
    "      dplyr::group_by(cdr3_B) %>%\n",
    "          dplyr::summarize(n = n()) %>%\n",
    "    arrange(desc(n))\n",
    "    \n",
    "    rep_pt  <- rep(pt1_betas$cdr3_B[1:nrow(pt1_betas)], pt1_betas$n[1:nrow(pt1_betas)])\n",
    "    \n",
    "    s1 <- kebabs::AAVector(rep_pt)\n",
    "    sk14 <- spectrumKernel(k=4, normalized=TRUE)  \n",
    "  \n",
    "    kmers_trb  <- as.data.frame(colSums(as.data.frame(drop(getExRep(s1, sk14)))))\n",
    "    kmers_trb$kmer  <- rownames(kmers_trb)\n",
    "    colnames(kmers_trb)  <- c(levels(factor(metadata_y$Patient_ID))[i], \"kmer\")\n",
    "    rownames(kmers_trb)  <- NULL\n",
    "    \n",
    "    df_all  <- left_join(df_all, kmers_trb)\n",
    "    \n",
    "}"
   ]
  },
  {
   "cell_type": "code",
   "execution_count": null,
   "id": "9f411e9f",
   "metadata": {},
   "outputs": [],
   "source": [
    "df_all"
   ]
  },
  {
   "cell_type": "code",
   "execution_count": null,
   "id": "987ac0bc",
   "metadata": {},
   "outputs": [],
   "source": [
    "df_all[is.na(df_all)] <- 0"
   ]
  },
  {
   "cell_type": "code",
   "execution_count": null,
   "id": "f37eec3b",
   "metadata": {
    "scrolled": false
   },
   "outputs": [],
   "source": [
    "df_all$ref  <- NULL"
   ]
  },
  {
   "cell_type": "code",
   "execution_count": null,
   "id": "508467b5",
   "metadata": {},
   "outputs": [],
   "source": [
    "colnames(all_tcrs5)"
   ]
  },
  {
   "cell_type": "code",
   "execution_count": null,
   "id": "23bd85c4",
   "metadata": {},
   "outputs": [],
   "source": [
    "md  <- all_tcrs5  %>% group_by(Patient_ID, clinical_diagnosis)  %>% tally()  %>% dplyr::select(-n)"
   ]
  },
  {
   "cell_type": "code",
   "execution_count": null,
   "id": "0c107cba",
   "metadata": {},
   "outputs": [],
   "source": [
    "df_all2  <- df_all  %>% pivot_longer(!kmer, names_to = \"Patient_ID\", values_to = \"freq\")   %>% \n",
    "left_join(md)"
   ]
  },
  {
   "cell_type": "code",
   "execution_count": null,
   "id": "dd881f8c",
   "metadata": {
    "scrolled": true
   },
   "outputs": [],
   "source": [
    "df_all2"
   ]
  },
  {
   "cell_type": "code",
   "execution_count": null,
   "id": "ba83349a",
   "metadata": {},
   "outputs": [],
   "source": [
    "m_w  <- data.frame(kmer = \"kmer\", pvalue = \"pvalue\")"
   ]
  },
  {
   "cell_type": "code",
   "execution_count": null,
   "id": "aebbd270",
   "metadata": {},
   "outputs": [],
   "source": [
    "dim(df_all2)"
   ]
  },
  {
   "cell_type": "code",
   "execution_count": null,
   "id": "525b2938",
   "metadata": {},
   "outputs": [],
   "source": [
    "nrow(md)"
   ]
  },
  {
   "cell_type": "code",
   "execution_count": null,
   "id": "cf98bfbb",
   "metadata": {},
   "outputs": [],
   "source": [
    "length(levels(factor(df_all2$kmer)))"
   ]
  },
  {
   "cell_type": "code",
   "execution_count": null,
   "id": "4b2ba7c4",
   "metadata": {},
   "outputs": [],
   "source": [
    "for(i in 1:24531){\n",
    "    \n",
    "    df3  <- df_all2  %>% filter(kmer == levels(factor(df_all2$kmer))[i] & clinical_diagnosis %in% c(\"T1D control\",\"T1DM\"))\n",
    "    df3$clinical_diagnosis  <- factor(df3$clinical_diagnosis, c(\"T1D control\",\"T1DM\"))\n",
    "    df4  <- data.frame(kmer = levels(factor(df_all2$kmer))[i], \n",
    "                       pvalue = wilcox.test(freq~clinical_diagnosis, data = df3)$p.value)\n",
    "    m_w  <- rbind(m_w, df4)\n",
    "    \n",
    "}"
   ]
  },
  {
   "cell_type": "code",
   "execution_count": null,
   "id": "56991ace",
   "metadata": {},
   "outputs": [],
   "source": [
    "m_w2 <- m_w[2:nrow(m_w),] "
   ]
  },
  {
   "cell_type": "code",
   "execution_count": null,
   "id": "9b042ea1",
   "metadata": {
    "scrolled": true
   },
   "outputs": [],
   "source": [
    "m_w  %>% arrange(pvalue)"
   ]
  },
  {
   "cell_type": "code",
   "execution_count": null,
   "id": "5fc2519e",
   "metadata": {
    "scrolled": true
   },
   "outputs": [],
   "source": [
    "options(repr.plot.width = 20, repr.plot.height = 16)\n",
    "df_all2  %>% filter(kmer %in% (m_w  %>% arrange(pvalue))$kmer[1:24])  %>% \n",
    "ggplot(aes(x = clinical_diagnosis, y = freq)) + # you can change the x to whatever variable you're interested in\n",
    "  geom_boxplot(outlier.shape = NA, \n",
    "           alpha = 0.7, width = 0.9, aes(fill = clinical_diagnosis)) +\n",
    "   geom_dotplot(binaxis='y', stackdir='center', dotsize=0) + \n",
    "   geom_jitter(binaxis='y', position=position_jitter(width = 0.1, height = 0), \n",
    "  size = 3, shape = 21, stackdir='center', aes(fill = clinical_diagnosis), color = \"black\") + \n",
    "  facet_wrap(~kmer, scales = \"free\", ncol = 6) +\n",
    "  ylab(\"Frequency\") +\n",
    "  xlab(\"Condition\") +\n",
    "  theme_classic() +\n",
    " ylim(0,NA) +\n",
    "  theme(strip.background = element_blank(), panel.grid = element_blank()) "
   ]
  },
  {
   "cell_type": "code",
   "execution_count": null,
   "id": "b1f7e508",
   "metadata": {},
   "outputs": [],
   "source": [
    "signif_kmers  <- m_w  %>% dplyr::filter(pvalue < 0.05)  %>% pull(kmer)"
   ]
  },
  {
   "cell_type": "code",
   "execution_count": null,
   "id": "feaab05e",
   "metadata": {
    "scrolled": true
   },
   "outputs": [],
   "source": [
    "write.csv(signif_kmers, \"signif_kmers_HPAP.csv\")"
   ]
  },
  {
   "cell_type": "code",
   "execution_count": null,
   "id": "5cff265a",
   "metadata": {},
   "outputs": [],
   "source": [
    "m_w  %>% dplyr::filter(kmer == \"SPTT\")"
   ]
  },
  {
   "cell_type": "code",
   "execution_count": null,
   "id": "cc3d9eba",
   "metadata": {},
   "outputs": [],
   "source": [
    "options(repr.plot.width = 5, repr.plot.height = 4)\n",
    "df_all2  %>% filter(kmer == \"SPTT\")  %>% \n",
    "ggplot(aes(x = clinical_diagnosis, y = freq)) + # you can change the x to whatever variable you're interested in\n",
    "  geom_boxplot(outlier.shape = NA, \n",
    "           alpha = 0.7, width = 0.9, aes(fill = clinical_diagnosis)) +\n",
    "   geom_dotplot(binaxis='y', stackdir='center', dotsize=0) + \n",
    "   geom_jitter(binaxis='y', position=position_jitter(width = 0.1, height = 0), \n",
    "  size = 3, shape = 21, stackdir='center', aes(fill = clinical_diagnosis), color = \"black\") + \n",
    "  facet_wrap(~kmer, scales = \"free\", ncol = 6) +\n",
    "  ylab(\"Frequency\") +\n",
    "  xlab(\"Condition\") +\n",
    "  theme_classic() +\n",
    " ylim(0,NA) +\n",
    "  theme(strip.background = element_blank(), panel.grid = element_blank()) "
   ]
  },
  {
   "cell_type": "code",
   "execution_count": null,
   "id": "9ee8fc9b",
   "metadata": {},
   "outputs": [],
   "source": [
    "m_w  %>% dplyr::filter(kmer == \"GGPT\")"
   ]
  },
  {
   "cell_type": "code",
   "execution_count": null,
   "id": "6f56e6ba",
   "metadata": {},
   "outputs": [],
   "source": [
    "options(repr.plot.width = 5, repr.plot.height = 4)\n",
    "df_all2  %>% filter(kmer == \"GGGS\")  %>% \n",
    "ggplot(aes(x = clinical_diagnosis, y = freq)) + # you can change the x to whatever variable you're interested in\n",
    "  geom_boxplot(outlier.shape = NA, \n",
    "           alpha = 0.7, width = 0.9, aes(fill = clinical_diagnosis)) +\n",
    "   geom_dotplot(binaxis='y', stackdir='center', dotsize=0) + \n",
    "   geom_jitter(binaxis='y', position=position_jitter(width = 0.1, height = 0), \n",
    "  size = 3, shape = 21, stackdir='center', aes(fill = clinical_diagnosis), color = \"black\") + \n",
    "  facet_wrap(~kmer, scales = \"free\", ncol = 6) +\n",
    "  ylab(\"Frequency\") +\n",
    "  xlab(\"Condition\") +\n",
    "  theme_classic() +\n",
    " ylim(0,NA) +\n",
    "  theme(strip.background = element_blank(), panel.grid = element_blank()) "
   ]
  },
  {
   "cell_type": "code",
   "execution_count": null,
   "id": "d4f1fad4",
   "metadata": {},
   "outputs": [],
   "source": [
    "m_w  %>% dplyr::filter(kmer == \"LAAN\")\n",
    "\n",
    "options(repr.plot.width = 5, repr.plot.height = 4)\n",
    "df_all2  %>% filter(kmer == \"LAAN\")  %>% \n",
    "ggplot(aes(x = clinical_diagnosis, y = freq)) + # you can change the x to whatever variable you're interested in\n",
    "  geom_boxplot(outlier.shape = NA, \n",
    "           alpha = 0.7, width = 0.9, aes(fill = clinical_diagnosis)) +\n",
    "   geom_dotplot(binaxis='y', stackdir='center', dotsize=0) + \n",
    "   geom_jitter(binaxis='y', position=position_jitter(width = 0.1, height = 0), \n",
    "  size = 3, shape = 21, stackdir='center', aes(fill = clinical_diagnosis), color = \"black\") + \n",
    "  facet_wrap(~kmer, scales = \"free\", ncol = 6) +\n",
    "  ylab(\"Frequency\") +\n",
    "  xlab(\"Condition\") +\n",
    "  theme_classic() +\n",
    " ylim(0,NA) +\n",
    "  theme(strip.background = element_blank(), panel.grid = element_blank()) "
   ]
  },
  {
   "cell_type": "code",
   "execution_count": null,
   "id": "13212061",
   "metadata": {},
   "outputs": [],
   "source": [
    "options(repr.plot.width = 15, repr.plot.height = 4)\n",
    "df_all2  %>% filter(kmer %in% c(\"GGPP\",\"HEQY\",\"SLRR\",\"SPTT\"))  %>% \n",
    "ggplot(aes(x = factor(clinical_diagnosis, labels = c(\"Ctrl\",\"T1DM\")), y = freq)) + # you can change the x to whatever variable you're interested in\n",
    "  geom_boxplot(outlier.shape = NA, \n",
    "           alpha = 0.7, width = 0.9, aes(fill = clinical_diagnosis)) +\n",
    "   geom_dotplot(binaxis='y', stackdir='center', dotsize=0) + \n",
    "   geom_jitter(binaxis='y', position=position_jitter(width = 0.1, height = 0), \n",
    "  size = 3, shape = 21, stackdir='center', aes(fill = clinical_diagnosis), color = \"black\") + \n",
    "  facet_wrap(~kmer, scales = \"free\", ncol = 6) +\n",
    "scale_fill_manual(values = c(\"dodgerblue\",\"indianred\"))+\n",
    "  ylab(\"Frequency\") +\n",
    "  xlab(\"Condition\") +\n",
    "ggpubr::stat_compare_means(size = 7, label = \"p.format\", label.x = 1.3,\n",
    "                              label.y.npc = 0.9) +\n",
    "  theme_classic() + ggtheme() +\n",
    " ylim(0,NA) +\n",
    "  theme(strip.background = element_blank(), panel.grid = element_blank()) "
   ]
  },
  {
   "cell_type": "code",
   "execution_count": null,
   "id": "1a196821",
   "metadata": {},
   "outputs": [],
   "source": [
    "options(repr.plot.width = 7, repr.plot.height = 4)\n",
    "df_all2  %>% filter(kmer %in% c(\"PGTG\"))  %>% \n",
    "ggplot(aes(x = factor(clinical_diagnosis, labels = c(\"Ctrl\",\"T1DM\")), y = freq)) + # you can change the x to whatever variable you're interested in\n",
    "  geom_boxplot(outlier.shape = NA, \n",
    "           alpha = 0.7, width = 0.9, aes(fill = clinical_diagnosis)) +\n",
    "   geom_dotplot(binaxis='y', stackdir='center', dotsize=0) + \n",
    "   geom_jitter(binaxis='y', position=position_jitter(width = 0.1, height = 0), \n",
    "  size = 3, shape = 21, stackdir='center', aes(fill = clinical_diagnosis), color = \"black\") + \n",
    "  facet_wrap(~kmer, scales = \"free\", ncol = 6) +\n",
    "scale_fill_manual(values = c(\"dodgerblue\",\"indianred\"))+\n",
    "  ylab(\"Frequency\") +\n",
    "  xlab(\"Condition\") +\n",
    "ggpubr::stat_compare_means(size = 7, label = \"p.format\", label.x = 1.3,\n",
    "                              label.y.npc = 0.9) +\n",
    "  theme_classic() + ggtheme() +\n",
    " ylim(0,NA) +\n",
    "  theme(strip.background = element_blank(), panel.grid = element_blank()) "
   ]
  },
  {
   "cell_type": "markdown",
   "id": "c9d3ced3",
   "metadata": {},
   "source": [
    "## Peptides"
   ]
  },
  {
   "cell_type": "markdown",
   "id": "fe6baf2a",
   "metadata": {},
   "source": [
    "# TCR properties peptides"
   ]
  },
  {
   "cell_type": "code",
   "execution_count": null,
   "id": "34fa4d36",
   "metadata": {},
   "outputs": [],
   "source": [
    "all_tcrs5$cdr3_B"
   ]
  },
  {
   "cell_type": "code",
   "execution_count": null,
   "id": "8a03f150",
   "metadata": {},
   "outputs": [],
   "source": [
    "library(Peptides)\n",
    "library(Seurat)\n",
    "library(dplyr)\n",
    "    \n",
    "add_TCR_properties  <- function(df_tcr){\n",
    "    df_tcr1  <- df_tcr  %>% mutate(pI_cdr3_B = ifelse(is.na(cdr3_B),NA_integer_,pI(cdr3_B)),\n",
    "           boman_cdr3_B = ifelse(is.na(cdr3_B),NA_integer_,boman(cdr3_B)),\n",
    "          charge_cdr3_B = ifelse(is.na(cdr3_B),NA_integer_,charge(cdr3_B)),\n",
    "          hmoment_cdr3_B = ifelse(is.na(cdr3_B),NA_integer_,hmoment(cdr3_B)),\n",
    "          hydrophobicity_cdr3_B = ifelse(is.na(cdr3_B),NA_integer_,hydrophobicity(cdr3_B)),\n",
    "          mw_cdr3_B = ifelse(is.na(cdr3_B),NA_integer_,mw(cdr3_B)),\n",
    "          mz_cdr3_B = ifelse(is.na(cdr3_B),NA_integer_,mz(cdr3_B)),\n",
    "          )\n",
    "    return(df_tcr1)\n",
    "    }"
   ]
  },
  {
   "cell_type": "code",
   "execution_count": null,
   "id": "f9ccf732",
   "metadata": {},
   "outputs": [],
   "source": [
    "library(ggpubr)"
   ]
  },
  {
   "cell_type": "code",
   "execution_count": null,
   "id": "b2dd3707",
   "metadata": {},
   "outputs": [],
   "source": []
  },
  {
   "cell_type": "code",
   "execution_count": null,
   "id": "8f54db1c",
   "metadata": {},
   "outputs": [],
   "source": [
    "all_tcrs4_tcr  <- add_TCR_properties(all_tcrs5)"
   ]
  },
  {
   "cell_type": "code",
   "execution_count": null,
   "id": "eeb16654",
   "metadata": {},
   "outputs": [],
   "source": [
    "colnames(all_tcrs4_tcr)[131:137]"
   ]
  },
  {
   "cell_type": "markdown",
   "id": "36dfa47a",
   "metadata": {},
   "source": [
    "## All clones"
   ]
  },
  {
   "cell_type": "code",
   "execution_count": null,
   "id": "e29dc707",
   "metadata": {},
   "outputs": [],
   "source": [
    "dir.create(\"figures_tcr_peptides_HPAP\")"
   ]
  },
  {
   "cell_type": "code",
   "execution_count": null,
   "id": "8c56abc6",
   "metadata": {
    "scrolled": true
   },
   "outputs": [],
   "source": [
    "options(repr.plot.width = 4, repr.plot.height = 6.5)\n",
    "\n",
    "\n",
    "for(i in 131:137){\n",
    "   df  <- data.frame(Score = all_tcrs4_tcr[,i],\n",
    "                  Annotation = all_tcrs4_tcr$clinical_diagnosis) \n",
    "    colnames(df)[1]  <- \"Score\"\n",
    "    dataMedian <- summarise(group_by(df, Annotation), MD = 1.2*median(Score, na.rm = T))\n",
    "       \n",
    "p  <- ggplot(df, aes(x = Annotation, y = Score)) +\n",
    "    ggrastr::rasterise(geom_jitter(position=position_jitter(0.2), size = 1, color = \"grey70\", alpha = 0.7)) +\n",
    "    geom_violin(aes(color = Annotation), scale = \"width\", alpha = 0.7) +  theme_classic() + \n",
    "   NoLegend() + theme(axis.text.x = element_text(angle = 45, vjust = 0.8, hjust =0.8)) +\n",
    "    scale_color_manual(values = c(\"blue\", \"#c41515ff\")) + \n",
    "    stat_summary(fun = \"median\",\n",
    "                   geom = \"crossbar\", \n",
    "                   width = 0.6,\n",
    "                   colour = \"grey20\") +\n",
    "    geom_text(data = dataMedian, aes(Annotation, MD, label = round(MD, digits = 2)), \n",
    "             size = 7) +\n",
    "    xlab(\"\") +\n",
    "    scale_fill_continuous(guide=FALSE) +\n",
    "   #scale_y_continuous(limits = c(NA, max())) +\n",
    "   ggpubr::stat_compare_means(size = 7, label = \"p.format\", label.x = 1.3,\n",
    "                              label.y.npc = 0.9) +\n",
    "  ggtitle(colnames(all_tcrs4_tcr)[i]) + \n",
    "  theme(panel.background = element_blank(), axis.text.x = element_text(angle = 90),\n",
    "      axis.ticks.x = element_blank()) + ggtheme()\n",
    "   print(p)\n",
    "    ggsave(paste0(\"figures_tcr_peptides_HPAP/\",colnames(all_tcrs4_tcr)[i], \".svg\"), width = 7, height = 14, units = \"cm\")\n",
    "    ggsave(paste0(\"figures_tcr_peptides_HPAP/\",colnames(all_tcrs4_tcr)[i], \".png\"), width = 7, height = 14, units = \"cm\")\n",
    "}"
   ]
  },
  {
   "cell_type": "code",
   "execution_count": null,
   "id": "8be34891",
   "metadata": {},
   "outputs": [],
   "source": [
    "library(ggbeeswarm)"
   ]
  },
  {
   "cell_type": "markdown",
   "id": "bb07cb5b",
   "metadata": {},
   "source": [
    "## All clones by patient"
   ]
  },
  {
   "cell_type": "code",
   "execution_count": null,
   "id": "aedafd12",
   "metadata": {
    "scrolled": true
   },
   "outputs": [],
   "source": [
    "\n",
    "for(i in 131:137){\n",
    "   df  <- data.frame(Score = all_tcrs4_tcr[,i],\n",
    "                  Disease = all_tcrs4_tcr$clinical_diagnosis,\n",
    "                    Patient_ID = all_tcrs4_tcr$Patient_ID\n",
    "                 ) \n",
    "    colnames(df)[1]  <- \"Score\"\n",
    "    dataMedian <- summarise(group_by(df, Disease), MD = 1.2*median(Score, na.rm = T))\n",
    "       \n",
    "p  <-    df  %>% \n",
    "    group_by(Patient_ID, Disease)  %>% \n",
    "    summarise(avg_score = mean(Score, na.rm = TRUE))  %>% \n",
    "    ggplot(aes(x = Disease, y = avg_score)) + # you can change the x to whatever variable you're interested in\n",
    "   geom_violin(alpha = 0.3, aes(fill = Disease), scale = \"width\") + \n",
    "stat_summary(fun = \"median\",\n",
    "               geom = \"crossbar\", \n",
    "               width = 0.75,\n",
    "               color = \"grey30\") +\n",
    "geom_beeswarm(size = 3, aes(fill = Disease), cex = 3, \n",
    "                shape = 21, color = \"black\", corral = \"random\") +\n",
    "scale_fill_manual(values = c(\"#1874cdff\",   \"#c41515ff\",\"#eeb4b4ff\")) +\n",
    "scale_color_manual(values = c(\"dodgerblue3\",   \"#aa2a2aff\",\"#e88989ff\")) + #ggpubr::stat_compare_means(comparisons = list( c(1,3), c(2,3), c(1,2)), size = 7)+\n",
    "    ggpubr::stat_compare_means(size = 7, label = \"p.format\") +\n",
    "  ggtitle(colnames(all_tcrs4_tcr)[i]) + \n",
    "  theme(panel.background = element_blank()) + ggtheme()\n",
    "   print(p)\n",
    "    ggsave(paste0(\"figures_tcr_peptides_HPAP/\",colnames(all_tcrs4_tcr)[i], \"_bypatient.svg\"), width = 7, height = 14, units = \"cm\")\n",
    "    ggsave(paste0(\"figures_tcr_peptides_HPAP/\",colnames(all_tcrs4_tcr)[i], \"_bypatient.png\"), width = 7, height = 14, units = \"cm\")\n",
    "}"
   ]
  },
  {
   "cell_type": "markdown",
   "id": "bd55dc2d",
   "metadata": {},
   "source": [
    "## One clone counted just once"
   ]
  },
  {
   "cell_type": "code",
   "execution_count": null,
   "id": "eb055dc9",
   "metadata": {},
   "outputs": [],
   "source": [
    "one_random_clone  <- function(df_all_tcr){\n",
    " \n",
    "df_tcr_oneclone  <- df_all_tcr  %>% group_by(cdr3_B, Patient_ID)  %>% slice_sample(n = 1)\n",
    "\n",
    "    return(df_tcr_oneclone)\n",
    "    }"
   ]
  },
  {
   "cell_type": "code",
   "execution_count": null,
   "id": "0497b4bc",
   "metadata": {},
   "outputs": [],
   "source": [
    "all_tcrs4_tcr_one_random  <- one_random_clone(all_tcrs4_tcr)"
   ]
  },
  {
   "cell_type": "code",
   "execution_count": null,
   "id": "69f1ebc3",
   "metadata": {},
   "outputs": [],
   "source": [
    "\n",
    "for(i in 131:137){\n",
    "   df  <- data.frame(Score = all_tcrs4_tcr_one_random[,i],\n",
    "                  Annotation = all_tcrs4_tcr_one_random$clinical_diagnosis) \n",
    "    colnames(df)[1]  <- \"Score\"\n",
    "    dataMedian <- summarise(group_by(df, Annotation), MD = 1.2*median(Score, na.rm = T))\n",
    "       \n",
    "p  <- ggplot(df, aes(x = Annotation, y = Score)) +\n",
    "    ggrastr::rasterise(geom_jitter(position=position_jitter(0.2), size = 1, color = \"grey70\", alpha = 0.7)) +\n",
    "    geom_violin(aes(color = Annotation), scale = \"width\", alpha = 0.7) +  theme_classic() + \n",
    "   NoLegend() + theme(axis.text.x = element_text(angle = 45, vjust = 0.8, hjust =0.8)) +\n",
    "    scale_color_manual(values = c(\"blue\", \"#c41515ff\")) + \n",
    "    stat_summary(fun = \"median\",\n",
    "                   geom = \"crossbar\", \n",
    "                   width = 0.6,\n",
    "                   colour = \"grey20\") +\n",
    "    geom_text(data = dataMedian, aes(Annotation, MD, label = round(MD, digits = 2)), \n",
    "             size = 7) +\n",
    "    xlab(\"\") +\n",
    "    scale_fill_continuous(guide=FALSE) +\n",
    "   #scale_y_continuous(limits = c(NA, max())) +\n",
    "   ggpubr::stat_compare_means(size = 7, label = \"p.format\", label.x = 1.3,\n",
    "                              label.y.npc = 0.9) +\n",
    "  ggtitle(colnames(all_tcrs4_tcr_one_random)[i]) + \n",
    "  theme(panel.background = element_blank(), axis.text.x = element_text(angle = 90),\n",
    "      axis.ticks.x = element_blank()) + ggtheme()\n",
    "   print(p)\n",
    "    ggsave(paste0(\"figures_tcr_peptides_HPAP/\",colnames(all_tcrs4_tcr)[i], \"_one_random.svg\"), width = 7, height = 14, units = \"cm\")\n",
    "    ggsave(paste0(\"figures_tcr_peptides_HPAP/\",colnames(all_tcrs4_tcr)[i], \"_one_random.png\"), width = 7, height = 14, units = \"cm\")\n",
    "}"
   ]
  },
  {
   "cell_type": "markdown",
   "id": "196bd846",
   "metadata": {},
   "source": [
    "## One clone counted just once by patient"
   ]
  },
  {
   "cell_type": "code",
   "execution_count": null,
   "id": "76f78fd3",
   "metadata": {},
   "outputs": [],
   "source": [
    "dir.create(\"../figures/tcr/peptides_cd4_one_random_bypatient/\")"
   ]
  },
  {
   "cell_type": "code",
   "execution_count": null,
   "id": "8be8fea1",
   "metadata": {
    "scrolled": true
   },
   "outputs": [],
   "source": [
    "\n",
    "for(i in 131:137){\n",
    "   df  <- data.frame(Score = all_tcrs4_tcr_one_random[,i],\n",
    "                  Disease = all_tcrs4_tcr_one_random$clinical_diagnosis,\n",
    "                    Patient_ID = all_tcrs4_tcr_one_random$Patient_ID\n",
    "                 ) \n",
    "    colnames(df)[1]  <- \"Score\"\n",
    "    dataMedian <- summarise(group_by(df, Disease), MD = 1.2*median(Score, na.rm = T))\n",
    "       \n",
    "p  <-    df  %>% \n",
    "    group_by(Patient_ID, Disease)  %>% \n",
    "    summarise(avg_score = mean(Score, na.rm = TRUE))  %>% \n",
    "    ggplot(aes(x = Disease, y = avg_score)) + # you can change the x to whatever variable you're interested in\n",
    "   geom_violin(alpha = 0.3, aes(fill = Disease), scale = \"width\") + \n",
    "stat_summary(fun = \"median\",\n",
    "               geom = \"crossbar\", \n",
    "               width = 0.75,\n",
    "               color = \"grey30\") +\n",
    "geom_beeswarm(size = 3, aes(fill = Disease), cex = 3, \n",
    "                shape = 21, color = \"black\", corral = \"random\") +\n",
    "scale_fill_manual(values = c(\"#1874cdff\",   \"#c41515ff\",\"#eeb4b4ff\")) +\n",
    "scale_color_manual(values = c(\"dodgerblue3\",   \"#aa2a2aff\",\"#e88989ff\")) + #ggpubr::stat_compare_means(comparisons = list( c(1,3), c(2,3), c(1,2)), size = 7)+\n",
    "    ggpubr::stat_compare_means(size = 7, label = \"p.format\") +\n",
    "  ggtitle(colnames(all_tcrs4_tcr_one_random)[i]) + \n",
    "  theme(panel.background = element_blank()) + ggtheme()\n",
    "   print(p)\n",
    "    ggsave(paste0(\"figures_tcr_peptides_HPAP/\",colnames(all_tcrs4_tcr)[i], \"_bypatient_onerandom.svg\"), width = 7, height = 14, units = \"cm\")\n",
    "    ggsave(paste0(\"figures_tcr_peptides_HPAP/\",colnames(all_tcrs4_tcr)[i], \"_bypatient_onerandom.png\"), width = 7, height = 14, units = \"cm\")\n",
    "}"
   ]
  },
  {
   "cell_type": "markdown",
   "id": "9cd09d02",
   "metadata": {},
   "source": [
    "## TCR properties table"
   ]
  },
  {
   "cell_type": "code",
   "execution_count": null,
   "id": "2562d3c9",
   "metadata": {},
   "outputs": [],
   "source": [
    "get_tcr_prop_table  <- function(i) {\n",
    "    \n",
    "    # All clones\n",
    "     df  <- data.frame(Score = all_tcrs4_tcr[,i],\n",
    "                  Annotation = all_tcrs4_tcr$clinical_diagnosis) \n",
    "    colnames(df)[1]  <- \"Score\"\n",
    "    df  <- df  %>% dplyr::filter(!is.na(Score))\n",
    "    \n",
    "    wcx  <- wilcox.test(df$Score ~ df$Annotation, conf.int = T)\n",
    "\n",
    "    df2  <- df  %>% group_by(Annotation)  %>% summarise(mean = mean(Score), sd = sd(Score))\n",
    "\n",
    "    df_all  <- data.frame(name = colnames(all_tcrs4_tcr)[i], \n",
    "                          cell_type = \"HPAP\",\n",
    "                          test_type = \"All clones\",\n",
    "                          estimate = wcx$estimate,\n",
    "                          pval = wcx$p.value, \n",
    "                          mean_dia = df2$mean[2],\n",
    "                         mean_ctrl = df2$mean[1], \n",
    "                         upper = wcx$conf.int[2],\n",
    "                         lower = wcx$conf.int[1]\n",
    "                         ) \n",
    "    \n",
    "     df_final  <-  df_all\n",
    "    \n",
    "    # Random clones\n",
    "    df  <- data.frame(Score = all_tcrs4_tcr_one_random[,i],\n",
    "                  Annotation = all_tcrs4_tcr_one_random$clinical_diagnosis)  \n",
    "     colnames(df)[1]  <- \"Score\"\n",
    "    df  <- df  %>% dplyr::filter(!is.na(Score))\n",
    "    \n",
    "    \n",
    "    wcx  <- wilcox.test(df$Score ~ df$Annotation, conf.int = T)\n",
    "\n",
    "    df2  <- df  %>% group_by(Annotation)  %>% summarise(mean = mean(Score), sd = sd(Score))\n",
    "\n",
    "     df_all  <- data.frame(name = colnames(all_tcrs4_tcr_one_random)[i], \n",
    "                          cell_type = \"HPAP\",\n",
    "                          test_type = \"Random clones\",\n",
    "                          estimate = wcx$estimate,\n",
    "                          pval = wcx$p.value, \n",
    "                          mean_dia = df2$mean[2],\n",
    "                         mean_ctrl = df2$mean[1], \n",
    "                         upper = wcx$conf.int[2],\n",
    "                         lower = wcx$conf.int[1]\n",
    "                         ) \n",
    "    \n",
    "        df_final  <- rbind(df_final, df_all)\n",
    "    \n",
    "    \n",
    "    # All clones by patient\n",
    "    \n",
    "      df  <- data.frame(Score = all_tcrs4_tcr[,i],\n",
    "                  Disease = all_tcrs4_tcr$clinical_diagnosis,\n",
    "                    Patient_ID = all_tcrs4_tcr$Patient_ID\n",
    "                 ) \n",
    "    colnames(df)[1]  <- \"Score\" \n",
    "    \n",
    "    df  <- df  %>% \n",
    "    dplyr::filter(!is.na(Score))  %>% \n",
    "    group_by(Patient_ID, Disease)  %>% \n",
    "    summarise(Score = mean(Score)) \n",
    "    \n",
    "    wcx  <- wilcox.test(df$Score ~ df$Disease, conf.int = T)\n",
    "\n",
    "    df2  <- df  %>% group_by(Disease)  %>% summarise(mean = mean(Score), sd = sd(Score))\n",
    "\n",
    "     df_all  <- data.frame(name = colnames(all_tcrs4_tcr)[i], \n",
    "                          cell_type = \"HPAP\",\n",
    "                          test_type = \"All clones by patient\",\n",
    "                          estimate = wcx$estimate,\n",
    "                          pval = wcx$p.value, \n",
    "                          mean_dia = df2$mean[2],\n",
    "                         mean_ctrl = df2$mean[1], \n",
    "                         upper = wcx$conf.int[2],\n",
    "                         lower = wcx$conf.int[1]\n",
    "                         ) \n",
    "    \n",
    "        df_final  <- rbind(df_final, df_all)\n",
    "    \n",
    "    # Random clones by patient\n",
    "    \n",
    "      df  <- data.frame(Score = all_tcrs4_tcr_one_random[,i],\n",
    "                  Disease = all_tcrs4_tcr_one_random$clinical_diagnosis,\n",
    "                    Patient_ID = all_tcrs4_tcr_one_random$Patient_ID\n",
    "                 ) \n",
    "    colnames(df)[1]  <- \"Score\" \n",
    "    \n",
    "    df  <- df  %>% \n",
    "    dplyr::filter(!is.na(Score))  %>% \n",
    "    group_by(Patient_ID, Disease)  %>% \n",
    "    summarise(Score = mean(Score)) \n",
    "    \n",
    "    wcx  <- wilcox.test(df$Score ~ df$Disease, conf.int = T)\n",
    "\n",
    "    df2  <- df  %>% group_by(Disease)  %>% summarise(mean = mean(Score), sd = sd(Score))\n",
    "\n",
    "     df_all  <- data.frame(name = colnames(all_tcrs4_tcr_one_random)[i], \n",
    "                          cell_type = \"HPAP\",\n",
    "                          test_type = \"Random clones by patient\",\n",
    "                          estimate = wcx$estimate,\n",
    "                          pval = wcx$p.value, \n",
    "                          mean_dia = df2$mean[2],\n",
    "                         mean_ctrl = df2$mean[1], \n",
    "                         upper = wcx$conf.int[2],\n",
    "                         lower = wcx$conf.int[1]\n",
    "                         ) \n",
    "    \n",
    "        df_final  <- rbind(df_final, df_all)\n",
    "    return(df_final)\n",
    "}"
   ]
  },
  {
   "cell_type": "code",
   "execution_count": null,
   "id": "7869b368",
   "metadata": {},
   "outputs": [],
   "source": [
    "for(i in 131:137)    {\n",
    "        # All clones\n",
    "     df  <- data.frame(Score = all_tcrs4_tcr[,i],\n",
    "                  Annotation = all_tcrs4_tcr$clinical_diagnosis) \n",
    "    colnames(df)[1]  <- \"Score\"\n",
    "    df  <- df  %>% dplyr::filter(!is.na(Score))\n",
    "    \n",
    "    wcx  <- wilcox.test(df$Score ~ df$Annotation, conf.int = T)\n",
    "\n",
    "    df2  <- df  %>% group_by(Annotation)  %>% summarise(mean = mean(Score), sd = sd(Score))\n",
    "\n",
    "    df_all  <- data.frame(name = colnames(all_tcrs4_tcr)[i], \n",
    "                          cell_type = \"HPAP\",\n",
    "                          test_type = \"All clones\",\n",
    "                          estimate = wcx$estimate,\n",
    "                          pval = wcx$p.value, \n",
    "                          mean_dia = df2$mean[2],\n",
    "                         mean_ctrl = df2$mean[1], \n",
    "                         upper = wcx$conf.int[2],\n",
    "                         lower = wcx$conf.int[1]\n",
    "                         ) \n",
    "    \n",
    "     df_final  <-  df_all\n",
    "    \n",
    "    # Random clones\n",
    "    df  <- data.frame(Score = all_tcrs4_tcr_one_random[,i],\n",
    "                  Annotation = all_tcrs4_tcr_one_random$clinical_diagnosis)  \n",
    "     colnames(df)[1]  <- \"Score\"\n",
    "    df  <- df  %>% dplyr::filter(!is.na(Score))\n",
    "    \n",
    "    \n",
    "    wcx  <- wilcox.test(df$Score ~ df$Annotation, conf.int = T)\n",
    "\n",
    "    df2  <- df  %>% group_by(Annotation)  %>% summarise(mean = mean(Score), sd = sd(Score))\n",
    "\n",
    "     df_all  <- data.frame(name = colnames(all_tcrs4_tcr_one_random)[i], \n",
    "                          cell_type = \"HPAP\",\n",
    "                          test_type = \"Random clones\",\n",
    "                          estimate = wcx$estimate,\n",
    "                          pval = wcx$p.value, \n",
    "                          mean_dia = df2$mean[2],\n",
    "                         mean_ctrl = df2$mean[1], \n",
    "                         upper = wcx$conf.int[2],\n",
    "                         lower = wcx$conf.int[1]\n",
    "                         ) \n",
    "    \n",
    "        df_final  <- rbind(df_final, df_all)\n",
    "    \n",
    "    \n",
    "    # All clones by patient\n",
    "    \n",
    "      df  <- data.frame(Score = all_tcrs4_tcr[,i],\n",
    "                  Disease = all_tcrs4_tcr$clinical_diagnosis,\n",
    "                    Patient_ID = all_tcrs4_tcr$Patient_ID\n",
    "                 ) \n",
    "    colnames(df)[1]  <- \"Score\" \n",
    "    \n",
    "    df  <- df  %>% \n",
    "    dplyr::filter(!is.na(Score))  %>% \n",
    "    group_by(Patient_ID, Disease)  %>% \n",
    "    summarise(Score = mean(Score)) \n",
    "    \n",
    "    wcx  <- wilcox.test(df$Score ~ df$Disease, conf.int = T)\n",
    "\n",
    "    df2  <- df  %>% group_by(Disease)  %>% summarise(mean = mean(Score), sd = sd(Score))\n",
    "\n",
    "     df_all  <- data.frame(name = colnames(all_tcrs4_tcr)[i], \n",
    "                          cell_type = \"HPAP\",\n",
    "                          test_type = \"All clones by patient\",\n",
    "                          estimate = wcx$estimate,\n",
    "                          pval = wcx$p.value, \n",
    "                          mean_dia = df2$mean[2],\n",
    "                         mean_ctrl = df2$mean[1], \n",
    "                         upper = wcx$conf.int[2],\n",
    "                         lower = wcx$conf.int[1]\n",
    "                         ) \n",
    "    \n",
    "        df_final  <- rbind(df_final, df_all)\n",
    "    \n",
    "    # Random clones by patient\n",
    "    \n",
    "      df  <- data.frame(Score = all_tcrs4_tcr_one_random[,i],\n",
    "                  Disease = all_tcrs4_tcr_one_random$clinical_diagnosis,\n",
    "                    Patient_ID = all_tcrs4_tcr_one_random$Patient_ID\n",
    "                 ) \n",
    "    colnames(df)[1]  <- \"Score\" \n",
    "    \n",
    "    df  <- df  %>% \n",
    "    dplyr::filter(!is.na(Score))  %>% \n",
    "    group_by(Patient_ID, Disease)  %>% \n",
    "    summarise(Score = mean(Score)) \n",
    "    \n",
    "    wcx  <- wilcox.test(df$Score ~ df$Disease, conf.int = T)\n",
    "\n",
    "    df2  <- df  %>% group_by(Disease)  %>% summarise(mean = mean(Score), sd = sd(Score))\n",
    "\n",
    "     df_all  <- data.frame(name = colnames(all_tcrs4_tcr_one_random)[i], \n",
    "                          cell_type = \"HPAP\",\n",
    "                          test_type = \"Random clones by patient\",\n",
    "                          estimate = wcx$estimate,\n",
    "                          pval = wcx$p.value, \n",
    "                          mean_dia = df2$mean[2],\n",
    "                         mean_ctrl = df2$mean[1], \n",
    "                         upper = wcx$conf.int[2],\n",
    "                         lower = wcx$conf.int[1]\n",
    "                         ) \n",
    "    \n",
    "        df_final  <- rbind(df_final, df_all)\n",
    "    \n",
    "    if(i>131){\n",
    "        df_final_final  <- rbind(df_final_final, df_final)\n",
    "    } else {\n",
    "        df_final_final  <- df_final\n",
    "    }\n",
    "}"
   ]
  },
  {
   "cell_type": "code",
   "execution_count": null,
   "id": "a53fb591",
   "metadata": {
    "scrolled": true
   },
   "outputs": [],
   "source": [
    "df_final_final"
   ]
  },
  {
   "cell_type": "code",
   "execution_count": null,
   "id": "6ff9b48c",
   "metadata": {},
   "outputs": [],
   "source": [
    "write.csv(df_final_final, \"../240218_VN_Diabetes_V05/tables/tcr/peptides/hpap_all_props.csv\")"
   ]
  },
  {
   "cell_type": "code",
   "execution_count": null,
   "id": "4edf605b",
   "metadata": {},
   "outputs": [],
   "source": []
  },
  {
   "cell_type": "code",
   "execution_count": null,
   "id": "833411ec",
   "metadata": {
    "scrolled": true
   },
   "outputs": [],
   "source": [
    "cd4_props  <- read_csv(\"../240218_VN_Diabetes_V05/tables/tcr/peptides/cd4_tcr_all_props_table.csv\")\n",
    "cd8_props  <- read_csv(\"../240218_VN_Diabetes_V05/tables/tcr/peptides/cd8_tcr_all_props_table.csv\")\n",
    "hpap_props  <- read_csv(\"../240218_VN_Diabetes_V05/tables/tcr/peptides/hpap_all_props.csv\")"
   ]
  },
  {
   "cell_type": "code",
   "execution_count": null,
   "id": "457ae0b6",
   "metadata": {},
   "outputs": [],
   "source": [
    "all_props  <- rbind(cd8_props, cd4_props, hpap_props)"
   ]
  },
  {
   "cell_type": "code",
   "execution_count": null,
   "id": "5f71aefa",
   "metadata": {},
   "outputs": [],
   "source": [
    "all_props$test  <- \"test\""
   ]
  },
  {
   "cell_type": "code",
   "execution_count": null,
   "id": "422eb5e7",
   "metadata": {},
   "outputs": [],
   "source": [
    "install.packages(\"ggh4x\")"
   ]
  },
  {
   "cell_type": "code",
   "execution_count": null,
   "id": "c8ac6402",
   "metadata": {},
   "outputs": [],
   "source": [
    "options(repr.plot.width = 9, repr.plot.height = 20)\n",
    "\n",
    "all_props  %>% \n",
    "mutate(cell_type_test_type = paste(cell_type, test_type))  %>% \n",
    "dplyr::filter(grepl(name, pattern = \"cdr3_B\"))  %>% \n",
    "ggplot(aes(x = cell_type_test_type, y = estimate), color = 'grey') +\n",
    "# geom_vline(xintercept = 0, color = \"gray75\") +\n",
    " geom_hline(yintercept = 0, color = \"grey\") +\n",
    "  geom_point(aes(color = pval<0.05), size = 2) +\n",
    "  theme_classic() +\n",
    "  scale_color_manual(values = c(\"grey\",\"indianred3\"))+\n",
    "  facet_wrap(~name, scales = \"free\", ncol = 1) +\n",
    "#scale_shape_manual(values=c(\"\\u25BA\",\"\\u25C4\")) +\n",
    "#ggnewscale::new_scale_fill() +\n",
    "geom_linerange(aes(ymin = lower, ymax = upper, color = pval<0.05),\n",
    "                 alpha = 0.5) +\n",
    "#theme(axis.text.x = element_text(angle = 90)) +\n",
    "coord_flip()\n",
    "# ggh4x::facet_nested(test ~ name + test_type, scales = \"free_y\", independent = \"y\") \n",
    " #ggh4x::facet_grid2(rows = vars(test_type), cols = vars(name), scales = \"free_y\", independent = \"y\")"
   ]
  },
  {
   "cell_type": "code",
   "execution_count": null,
   "id": "d7385114",
   "metadata": {},
   "outputs": [],
   "source": [
    "options(repr.plot.width = 9, repr.plot.height = 20)\n",
    "\n",
    "all_props  %>% \n",
    "mutate(cell_type_test_type = paste(cell_type, test_type))  %>% \n",
    "dplyr::filter(grepl(name, pattern = \"cdr3_B\"))  %>% \n",
    "ggplot(aes(x = cell_type_test_type, y = estimate), color = 'grey') +\n",
    "# geom_vline(xintercept = 0, color = \"gray75\") +\n",
    " geom_hline(yintercept = 0, color = \"grey\") +\n",
    "  geom_point(aes(color = pval<0.05), size = 2) +\n",
    "  theme_classic() +\n",
    "  scale_color_manual(values = c(\"grey\",\"indianred3\"))+\n",
    "  facet_wrap(~name, scales = \"free\", ncol = 1) +\n",
    "#scale_shape_manual(values=c(\"\\u25BA\",\"\\u25C4\")) +\n",
    "#ggnewscale::new_scale_fill() +\n",
    "geom_linerange(aes(ymin = lower, ymax = upper, color = pval<0.05),\n",
    "                 alpha = 0.5) +\n",
    "#theme(axis.text.x = element_text(angle = 90)) +\n",
    "coord_flip()\n",
    "# ggh4x::facet_nested(test ~ name + test_type, scales = \"free_y\", independent = \"y\") \n",
    " #ggh4x::facet_grid2(rows = vars(test_type), cols = vars(name), scales = \"free_y\", independent = \"y\")"
   ]
  },
  {
   "cell_type": "code",
   "execution_count": null,
   "id": "91d8dc25",
   "metadata": {},
   "outputs": [],
   "source": [
    "all_props$name  %>% table"
   ]
  },
  {
   "cell_type": "code",
   "execution_count": null,
   "id": "e9bff927",
   "metadata": {},
   "outputs": [],
   "source": [
    "options(repr.plot.width = 9, repr.plot.height = 20)\n",
    "\n",
    "all_props  %>% \n",
    "mutate(cell_type_test_type = paste(cell_type, test_type))  %>% \n",
    "dplyr::filter(grepl(name, pattern = \"cdr3_A1\"))  %>% \n",
    "ggplot(aes(x = cell_type_test_type, y = estimate), color = 'grey') +\n",
    "# geom_vline(xintercept = 0, color = \"gray75\") +\n",
    " geom_hline(yintercept = 0, color = \"grey\") +\n",
    "  geom_point(aes(color = pval<0.05), size = 2) +\n",
    "  theme_classic() +\n",
    "  scale_color_manual(values = c(\"grey\",\"indianred3\"))+\n",
    "  facet_wrap(~name, scales = \"free\", ncol = 1) +\n",
    "#scale_shape_manual(values=c(\"\\u25BA\",\"\\u25C4\")) +\n",
    "#ggnewscale::new_scale_fill() +\n",
    "geom_linerange(aes(ymin = lower, ymax = upper, color = pval<0.05),\n",
    "                 alpha = 0.5) +\n",
    "#theme(axis.text.x = element_text(angle = 90)) +\n",
    "coord_flip()\n",
    "# ggh4x::facet_nested(test ~ name + test_type, scales = \"free_y\", independent = \"y\") \n",
    " #ggh4x::facet_grid2(rows = vars(test_type), cols = vars(name), scales = \"free_y\", independent = \"y\")"
   ]
  },
  {
   "cell_type": "code",
   "execution_count": null,
   "id": "f650aa1b",
   "metadata": {},
   "outputs": [],
   "source": [
    "options(repr.plot.width = 9, repr.plot.height = 20)\n",
    "\n",
    "all_props  %>% \n",
    "mutate(cell_type_test_type = paste(cell_type, test_type))  %>% \n",
    "dplyr::filter(grepl(name, pattern = \"cdr3_clone\"))  %>% \n",
    "ggplot(aes(x = cell_type_test_type, y = estimate), color = 'grey') +\n",
    "# geom_vline(xintercept = 0, color = \"gray75\") +\n",
    " geom_hline(yintercept = 0, color = \"grey\") +\n",
    "  geom_point(aes(color = pval<0.05), size = 2) +\n",
    "  theme_classic() +\n",
    "  scale_color_manual(values = c(\"grey\",\"indianred3\"))+\n",
    "  facet_wrap(~name, scales = \"free\", ncol = 1) +\n",
    "#scale_shape_manual(values=c(\"\\u25BA\",\"\\u25C4\")) +\n",
    "#ggnewscale::new_scale_fill() +\n",
    "geom_linerange(aes(ymin = lower, ymax = upper, color = pval<0.05),\n",
    "                 alpha = 0.5) +\n",
    "#theme(axis.text.x = element_text(angle = 90)) +\n",
    "coord_flip()\n",
    "# ggh4x::facet_nested(test ~ name + test_type, scales = \"free_y\", independent = \"y\") \n",
    " #ggh4x::facet_grid2(rows = vars(test_type), cols = vars(name), scales = \"free_y\", independent = \"y\")"
   ]
  },
  {
   "cell_type": "code",
   "execution_count": null,
   "id": "f941b9a4",
   "metadata": {},
   "outputs": [],
   "source": [
    "all_props$name  %>% table"
   ]
  },
  {
   "cell_type": "code",
   "execution_count": null,
   "id": "8f902ae7",
   "metadata": {},
   "outputs": [],
   "source": [
    "all_props  %>% \n",
    "filter(name %in% c(\"boman_cdr3_B\",\"hmoment_cdr3_B\",\"hydrophobicity_cdr3_B\"))   %>% \n",
    "head"
   ]
  },
  {
   "cell_type": "code",
   "execution_count": null,
   "id": "ff72fe29",
   "metadata": {},
   "outputs": [],
   "source": [
    "ggtheme <- function() {\n",
    "  theme(\n",
    "    axis.text = element_text(size = 20),\n",
    "    axis.title = element_text(size = 20),\n",
    "    text = element_text(size = 20, colour = \"black\"),\n",
    "    legend.text = element_text(size = 20),\n",
    "    legend.key.size =  unit(10, units = \"points\")\n",
    "    \n",
    "  )\n",
    "}\n"
   ]
  },
  {
   "cell_type": "code",
   "execution_count": null,
   "id": "beda3550",
   "metadata": {},
   "outputs": [],
   "source": [
    "options(repr.plot.width = 9, repr.plot.height = 6)\n",
    "\n",
    "all_props  %>% \n",
    "filter(name %in% c(\"boman_cdr3_B\",\"hmoment_cdr3_B\",\"hydrophobicity_cdr3_B\"))  %>% \n",
    "mutate(cell_type_test_type = paste(cell_type, test_type))  %>% \n",
    "dplyr::filter(test_type %in% c(\"All clones\"))  %>% \n",
    "ggplot(aes(x = cell_type_test_type, y = estimate), color = 'grey') +\n",
    "# geom_vline(xintercept = 0, color = \"gray75\") +\n",
    " geom_hline(yintercept = 0, color = \"grey\", linewidth = 1) +\n",
    "  geom_point(aes(color = pval<0.05), size = 4) +\n",
    "  theme_classic() +\n",
    "  scale_color_manual(values = c(\"grey\",\"indianred3\"))+\n",
    "  facet_wrap(~name, scales = \"fixed\", ncol = 1) +\n",
    "#scale_shape_manual(values=c(\"\\u25BA\",\"\\u25C4\")) +\n",
    "#ggnewscale::new_scale_fill() +\n",
    "geom_linerange(aes(ymin = lower, ymax = upper, color = pval<0.05),\n",
    "                 alpha = 0.5, linewidth = 2) + ggtheme() +\n",
    "#theme(axis.text.x = element_text(angle = 90)) +\n",
    "coord_flip()  + xlab(\"\")\n",
    "ggsave(\"../240617_VN_Diabetes_V06/figures/tcr_peptides/peptides.svg\", create.dir = T, \n",
    "      width = 20, height = 15, units = \"cm\")"
   ]
  },
  {
   "cell_type": "code",
   "execution_count": null,
   "id": "1a7f3b13",
   "metadata": {},
   "outputs": [],
   "source": [
    "tcr_all_props_table2  <- bind_rows(tcr_all_props_table)"
   ]
  },
  {
   "cell_type": "code",
   "execution_count": null,
   "id": "49d88d25",
   "metadata": {},
   "outputs": [],
   "source": [
    "tcr_all_props_table2  %>% arrange(pval)"
   ]
  },
  {
   "cell_type": "code",
   "execution_count": null,
   "id": "26b1777e",
   "metadata": {},
   "outputs": [],
   "source": [
    "dir.create( \"../tables/tcr/peptides/\")"
   ]
  },
  {
   "cell_type": "code",
   "execution_count": null,
   "id": "804e04cc",
   "metadata": {},
   "outputs": [],
   "source": [
    "write.csv(tcr_all_props_table2, \"../tables/tcr/peptides/cd4_tcr_all_props_table.csv\")"
   ]
  },
  {
   "cell_type": "code",
   "execution_count": null,
   "id": "ae5129dd",
   "metadata": {},
   "outputs": [],
   "source": []
  },
  {
   "cell_type": "code",
   "execution_count": null,
   "id": "cca03f41",
   "metadata": {},
   "outputs": [],
   "source": []
  }
 ],
 "metadata": {
  "kernelspec": {
   "display_name": "R",
   "language": "R",
   "name": "ir"
  },
  "language_info": {
   "codemirror_mode": "r",
   "file_extension": ".r",
   "mimetype": "text/x-r-source",
   "name": "R",
   "pygments_lexer": "r",
   "version": "4.4.2"
  },
  "toc": {
   "base_numbering": 1,
   "nav_menu": {},
   "number_sections": true,
   "sideBar": true,
   "skip_h1_title": false,
   "title_cell": "Table of Contents",
   "title_sidebar": "Contents",
   "toc_cell": false,
   "toc_position": {
    "height": "calc(100% - 180px)",
    "left": "10px",
    "top": "150px",
    "width": "305.567px"
   },
   "toc_section_display": true,
   "toc_window_display": true
  }
 },
 "nbformat": 4,
 "nbformat_minor": 5
}
