{
 "cells": [
  {
   "cell_type": "code",
   "execution_count": null,
   "id": "f741a879",
   "metadata": {
    "scrolled": true
   },
   "outputs": [],
   "source": [
    "source(\"diabetes_analysis_v06.R\")"
   ]
  },
  {
   "cell_type": "code",
   "execution_count": null,
   "id": "19e2ce4a",
   "metadata": {},
   "outputs": [],
   "source": [
    "options(future.globals.maxSize = 3e+09)"
   ]
  },
  {
   "cell_type": "code",
   "execution_count": null,
   "id": "8bbe8090",
   "metadata": {},
   "outputs": [],
   "source": [
    "library(BPCells)\n",
    "library(ggrepel)\n",
    "# set this option when analyzing large datasets\n",
    "options(future.globals.maxSize = 3e+09)"
   ]
  },
  {
   "cell_type": "code",
   "execution_count": null,
   "id": "66651646",
   "metadata": {},
   "outputs": [],
   "source": [
    "plan(\"multisession\")"
   ]
  },
  {
   "cell_type": "code",
   "execution_count": null,
   "id": "c9d9b5ff",
   "metadata": {},
   "outputs": [],
   "source": [
    "library(pheatmap)"
   ]
  },
  {
   "cell_type": "code",
   "execution_count": null,
   "id": "22f5aa59",
   "metadata": {},
   "outputs": [],
   "source": [
    "library(STACAS)"
   ]
  },
  {
   "cell_type": "markdown",
   "id": "2652506c",
   "metadata": {},
   "source": [
    "# Loading and preprocessing of the data"
   ]
  },
  {
   "cell_type": "code",
   "execution_count": null,
   "id": "342ba695",
   "metadata": {},
   "outputs": [],
   "source": [
    "mat <- ReadParseBio(\"../../../DATA_scRNAseq/Analysis of previously published data/081_ParseBio_1M_Diabetes/Raw/\")"
   ]
  },
  {
   "cell_type": "code",
   "execution_count": null,
   "id": "4cea2eca",
   "metadata": {},
   "outputs": [],
   "source": [
    "cell_metadata <- read.csv(\"../../../DATA_scRNAseq/Analysis of previously published data/081_ParseBio_1M_Diabetes/Raw/cell_metadata.csv\",\n",
    "                         row.names = 1)"
   ]
  },
  {
   "cell_type": "code",
   "execution_count": null,
   "id": "f70109c4",
   "metadata": {},
   "outputs": [],
   "source": [
    "pbmc <- CreateSeuratObject(mat, min.cells = 100, min.features = 100,\n",
    "names.field = 0, meta.data = cell_metadata)"
   ]
  },
  {
   "cell_type": "code",
   "execution_count": null,
   "id": "4f406697",
   "metadata": {},
   "outputs": [],
   "source": [
    "rm(mat)\n",
    "rm(cell_metadata)\n",
    "gc()"
   ]
  },
  {
   "cell_type": "code",
   "execution_count": null,
   "id": "9ca70e6a",
   "metadata": {},
   "outputs": [],
   "source": [
    "pbmc$barcode  <- colnames(pbmc)\n",
    "pbmc  <- subset(pbmc, barcode %in% sample(colnames(pbmc), size = 200000))"
   ]
  },
  {
   "cell_type": "code",
   "execution_count": null,
   "id": "0ae40ece",
   "metadata": {},
   "outputs": [],
   "source": [
    "pbmc <- NormalizeData(pbmc, verbose = FALSE)\n",
    "pbmc <- ScaleData(pbmc, verbose = FALSE)\n",
    "pbmc <- FindVariableFeatures(pbmc, nfeatures = 1000, verbose = FALSE)\n",
    "\n",
    "pbmc <- RunPCA(pbmc, dims = 1:12)\n",
    "pbmc <- RunUMAP(pbmc, reduction = \"pca\", dims = 1:12)\n",
    "  \n",
    "\n",
    "pbmc <- FindNeighbors(pbmc, dims = 1:12)\n",
    "pbmc <- FindClusters(pbmc, resolution = 0.7)\n",
    "print(\"CLustering done!\")\n",
    "\n",
    "saveRDS(pbmc, paste0(\"../../../DATA_scRNAseq//Analysis of previously published data/081_ParseBio_1M_Diabetes/241020_ParseBio_full_200k.rds\"))"
   ]
  },
  {
   "cell_type": "code",
   "execution_count": null,
   "id": "1cad267e",
   "metadata": {},
   "outputs": [],
   "source": [
    "DimPlot(pbmc)"
   ]
  },
  {
   "cell_type": "code",
   "execution_count": null,
   "id": "17a1be21",
   "metadata": {},
   "outputs": [],
   "source": [
    "FeaturePlot(pbmc, features = c(\"CD14\",\"MS4A1\",\"TRAC\",\"LCK\"), ncol = 4)"
   ]
  },
  {
   "cell_type": "code",
   "execution_count": null,
   "id": "9d0dd0ae",
   "metadata": {
    "scrolled": true
   },
   "outputs": [],
   "source": [
    "FeaturePlot(pbmc, features = c(\"CD3D\",\"CD8A\",\"CD4\",\"NCR1\"), ncol = 4)"
   ]
  },
  {
   "cell_type": "code",
   "execution_count": null,
   "id": "53032b7c",
   "metadata": {},
   "outputs": [],
   "source": [
    "FeaturePlot(pbmc, features = c(\"MKI67\",\"NCR1\",\"IL7R\",\"CD4\"), ncol = 4)"
   ]
  },
  {
   "cell_type": "code",
   "execution_count": null,
   "id": "fa1563bc",
   "metadata": {},
   "outputs": [],
   "source": [
    "DimPlot(pbmc, label = T, label.size = 10)"
   ]
  },
  {
   "cell_type": "markdown",
   "id": "e9108a56",
   "metadata": {},
   "source": [
    "# Subsetting T cells"
   ]
  },
  {
   "cell_type": "code",
   "execution_count": null,
   "id": "fe9ae1cb",
   "metadata": {},
   "outputs": [],
   "source": [
    "pbmc  <- subset(pbmc, seurat_clusters %in% c(0,2,3,4,6,9,12,18))\n",
    "\n",
    "DimPlot(pbmc, label = T, label.size = 10)\n",
    "\n",
    "     pbmc <- NormalizeData(pbmc, verbose = FALSE)\n",
    "        pbmc <- ScaleData(pbmc, verbose = FALSE)\n",
    "        pbmc <- FindVariableFeatures(pbmc, nfeatures = 1000, verbose = FALSE)\n",
    "\n",
    "pbmc <- RunPCA(pbmc, dims = 1:12)\n",
    "pbmc <- RunUMAP(pbmc, reduction = \"pca\", dims = 1:12)\n",
    "  \n",
    "\n",
    "pbmc <- FindNeighbors(pbmc, dims = 1:12)\n",
    "pbmc <- FindClusters(pbmc, resolution = 0.7)\n",
    "            print(\"CLustering done!\")"
   ]
  },
  {
   "cell_type": "code",
   "execution_count": null,
   "id": "fd6431a7",
   "metadata": {},
   "outputs": [],
   "source": [
    "saveRDS(pbmc, paste0(\"../../../DATA_scRNAseq//Analysis of previously published data/081_ParseBio_1M_Diabetes/241020_ParseBio_200k_filtT.rds\"))"
   ]
  },
  {
   "cell_type": "code",
   "execution_count": null,
   "id": "1f30189c",
   "metadata": {},
   "outputs": [],
   "source": [
    "pbmc  <- readRDS(\"../../../DATA_scRNAseq//Analysis of previously published data/081_ParseBio_1M_Diabetes/241020_ParseBio_200k_filtT.rds\")"
   ]
  },
  {
   "cell_type": "code",
   "execution_count": null,
   "id": "0e2ca282",
   "metadata": {},
   "outputs": [],
   "source": [
    "DimPlot(pbmc)"
   ]
  },
  {
   "cell_type": "code",
   "execution_count": null,
   "id": "dfff9e5c",
   "metadata": {},
   "outputs": [],
   "source": [
    "options(repr.plot.width = 16, repr.plot.height = 4)\n",
    "FeaturePlot(pbmc, features = c(\"FOXP3\",\"CD8A\",\"CD4\",\"NCR1\"), max.cutoff = c(2,2,2,2), ncol = 4)"
   ]
  },
  {
   "cell_type": "code",
   "execution_count": null,
   "id": "48969e66",
   "metadata": {
    "scrolled": false
   },
   "outputs": [],
   "source": [
    "FeaturePlot(pbmc, features = c(\"MKI67\",\"NCR1\",\"IL7R\",\"CD4\"), ncol = 4)\n",
    "\n",
    "FeaturePlot(pbmc, features = c(\"FOXP3\",\"GATA3\",\"NCAM1\",\"RORG\"), ncol = 4)"
   ]
  },
  {
   "cell_type": "code",
   "execution_count": null,
   "id": "c77019c9",
   "metadata": {},
   "outputs": [],
   "source": [
    "DimPlot(pbmc, group.by = \"sample\")"
   ]
  },
  {
   "cell_type": "code",
   "execution_count": null,
   "id": "5a35bf5f",
   "metadata": {},
   "outputs": [],
   "source": [
    "pbmc$Disease  <- substr(pbmc$sample, 1,1)"
   ]
  },
  {
   "cell_type": "code",
   "execution_count": null,
   "id": "f2ed981d",
   "metadata": {},
   "outputs": [],
   "source": [
    "DimPlot(pbmc, group.by = \"Disease\")"
   ]
  },
  {
   "cell_type": "code",
   "execution_count": null,
   "id": "cf97d221",
   "metadata": {},
   "outputs": [],
   "source": [
    "Idents(pbmc)  <- pbmc$Disease"
   ]
  },
  {
   "cell_type": "code",
   "execution_count": null,
   "id": "23625bbd",
   "metadata": {},
   "outputs": [],
   "source": [
    "mrk  <- FindAllMarkers(pbmc, only.pos = T)"
   ]
  },
  {
   "cell_type": "code",
   "execution_count": null,
   "id": "65557d75",
   "metadata": {
    "scrolled": true
   },
   "outputs": [],
   "source": [
    "mrk  %>% dplyr::filter(cluster == \"H\" & !grepl(gene, pattern = \"^MT\") &\n",
    "                      grepl(gene, pattern = \"GZMB\"))"
   ]
  },
  {
   "cell_type": "code",
   "execution_count": null,
   "id": "87cd1e4f",
   "metadata": {},
   "outputs": [],
   "source": [
    "mrk  %>% dplyr::filter(cluster == \"H\" & !grepl(gene, pattern = \"^MT\") &\n",
    "                      grepl(gene, pattern = \"CCL5\"))"
   ]
  },
  {
   "cell_type": "code",
   "execution_count": null,
   "id": "5f0fddc3",
   "metadata": {},
   "outputs": [],
   "source": [
    "mrk  %>% dplyr::filter(cluster == \"H\" & !grepl(gene, pattern = \"^MT\") &\n",
    "                      grepl(gene, pattern = \"GNLY\"))"
   ]
  },
  {
   "cell_type": "code",
   "execution_count": null,
   "id": "aed1b98f",
   "metadata": {
    "scrolled": true
   },
   "outputs": [],
   "source": [
    "mrk  %>% dplyr::filter(cluster == \"D\" & !grepl(gene, pattern = \"^MT\"))"
   ]
  },
  {
   "cell_type": "code",
   "execution_count": null,
   "id": "16a1df19",
   "metadata": {},
   "outputs": [],
   "source": [
    "mrk_fc  <- FindMarkers(pbmc, `ident.1` = \"D\", `ident.2` = \"H\", \n",
    "                       logfc.threshold = -Inf, min.pct = -Inf, \n",
    "                       min.diff.pct = -Inf,\n",
    "                                   only.pos = F,  \n",
    "                                   min.cells.feature = 1, return.thresh = 1)"
   ]
  },
  {
   "cell_type": "code",
   "execution_count": null,
   "id": "5bcd2160",
   "metadata": {
    "scrolled": true
   },
   "outputs": [],
   "source": [
    "mrk_fc$gene  <- rownames(mrk_fc)"
   ]
  },
  {
   "cell_type": "code",
   "execution_count": null,
   "id": "e3c0ebfd",
   "metadata": {
    "scrolled": true
   },
   "outputs": [],
   "source": [
    "mrk_fc  %>% dplyr::filter(!grepl(gene, pattern = \"^MT\"))  %>% \n",
    "  dplyr::filter(!grepl(gene, pattern = \"\\\\.\"))  %>% \n",
    "  dplyr::filter(!grepl(gene, pattern = \"\\\\-\"))"
   ]
  },
  {
   "cell_type": "code",
   "execution_count": null,
   "id": "f2370b46",
   "metadata": {},
   "outputs": [],
   "source": [
    "mrk_fc  %>% dplyr::filter(!grepl(gene, pattern = \"^MT\"))  %>% \n",
    "dplyr::filter(p_val_adj<0.5)  %>% \n",
    "  dplyr::filter(!grepl(gene, pattern = \"\\\\.\"))  %>% \n",
    "  dplyr::filter(!grepl(gene, pattern = \"\\\\-\"))  %>% \n",
    "mutate(label = ifelse(gene %in% c(\"IL7R\",\n",
    "\"LEF1\",\n",
    "\"TCF7\",\n",
    "\"CCR7\",\n",
    "\"SELL\",\n",
    "\"BACH2\",\n",
    "\"NELL2\",\n",
    "\"PRF1\",\n",
    "\"NKG7\",\n",
    "\"GZMB\",\n",
    "\"CST7\",\n",
    "\"GNLY\",\n",
    "\"CX3CR1\",\n",
    "\"CCL5\",\n",
    "\"TNF\",\n",
    "\"KLRG1\",\n",
    "\"TBX21\"), gene, NA_character_))  %>% \n",
    "  ggplot(aes(x = avg_log2FC, y = -log10(p_val_adj), label = label)) + \n",
    "  geom_point(color = \"white\") + \n",
    "        theme_minimal() +\n",
    "        geom_text_repel() +\n",
    "        #scale_color_manual(values=c(\"blue\", \"black\", \"red\")) +\n",
    "        geom_vline(xintercept=c(-0.6, 0.6), col=\"red\") +\n",
    "        geom_hline(yintercept=-log10(0.05), col=\"red\")"
   ]
  },
  {
   "cell_type": "code",
   "execution_count": null,
   "id": "a5bc5948",
   "metadata": {},
   "outputs": [],
   "source": [
    "pbmc$sample  %>% table"
   ]
  },
  {
   "cell_type": "code",
   "execution_count": null,
   "id": "c3b1ec79",
   "metadata": {},
   "outputs": [],
   "source": [
    "avg_exp  <- AverageExpression(pbmc, return.seurat = F, group.by = \"sample\")"
   ]
  },
  {
   "cell_type": "code",
   "execution_count": null,
   "id": "160e048a",
   "metadata": {},
   "outputs": [],
   "source": [
    "df  <- avg_exp$RNA  %>% \n",
    "as.data.frame  %>% \n",
    "rownames_to_column(\"gene\")  %>%  \n",
    "pivot_longer(!gene, names_to = \"sample\", values_to = \"value\")  %>% \n",
    " mutate(disease = substr(sample, 1, 1))"
   ]
  },
  {
   "cell_type": "code",
   "execution_count": null,
   "id": "cd3c1ac8",
   "metadata": {},
   "outputs": [],
   "source": [
    "options(repr.plot.width = 8, repr.plot.height = 3)\n",
    "df  %>%\n",
    "dplyr::filter(gene %in% c(\n",
    "\"GZMB\",\n",
    "\"GNLY\",\n",
    "\"CX3CR1\",\n",
    "\"CCL5\"\n",
    "))  %>% \n",
    "ggplot(aes(x = disease, y = value)) +\n",
    "facet_wrap(~gene, ncol = 7, scales = \"free\") + \n",
    "geom_boxplot(outlier.shape = NA, aes(fill = disease), alpha = 0.5) +\n",
    "     geom_crossbar(stat='summary', fun='median', alpha = 0.6, width = 0.7) +\n",
    "     geom_dotplot(binaxis='y', stackdir='center', dotsize=0) + \n",
    "     geom_jitter(binaxis='y', position=position_jitter(width = 0.1, height = 0.05), \n",
    "                 size = 2.5, stackdir='center', aes(color = disease)) + \n",
    "     theme_classic() "
   ]
  },
  {
   "cell_type": "code",
   "execution_count": null,
   "id": "c047cbed",
   "metadata": {},
   "outputs": [],
   "source": [
    "options(repr.plot.width = 8, repr.plot.height = 5)\n",
    "df  %>%\n",
    "dplyr::filter(gene %in% c(\"CXCR4\",\n",
    "\"ZFP36L2\",\n",
    "\"TSC22D3\"\n",
    "))  %>% \n",
    "ggplot(aes(x = disease, y = value)) +\n",
    "facet_wrap(~gene, ncol = 7) + \n",
    "geom_boxplot(outlier.shape = NA, aes(fill = disease), alpha = 0.5) +\n",
    "     geom_crossbar(stat='summary', fun='median', alpha = 0.6, width = 0.7) +\n",
    "     geom_dotplot(binaxis='y', stackdir='center', dotsize=0) + \n",
    "     geom_jitter(binaxis='y', position=position_jitter(width = 0.1, height = 0.05), \n",
    "                 size = 2.5, stackdir='center', aes(color = disease)) + \n",
    "     theme_classic() + ggpubr::stat_compare_means()"
   ]
  },
  {
   "cell_type": "code",
   "execution_count": null,
   "id": "db63b466",
   "metadata": {},
   "outputs": [],
   "source": [
    "options(repr.plot.width = 4, repr.plot.height = 3)\n",
    "df  %>%\n",
    "dplyr::filter(gene %in% c(\"BACH2\",\"NELL2\"\n",
    "))  %>% \n",
    "ggplot(aes(x = disease, y = value)) +\n",
    "facet_wrap(~gene, ncol = 7) + \n",
    "geom_boxplot(outlier.shape = NA, aes(fill = disease), alpha = 0.5) +\n",
    "     geom_crossbar(stat='summary', fun='median', alpha = 0.6, width = 0.7) +\n",
    "     geom_dotplot(binaxis='y', stackdir='center', dotsize=0) + \n",
    "     geom_jitter(binaxis='y', position=position_jitter(width = 0.1, height = 0.05), \n",
    "                 size = 2.5, stackdir='center', aes(color = disease)) + \n",
    "     theme_classic() + ggpubr::stat_compare_means() "
   ]
  },
  {
   "cell_type": "code",
   "execution_count": null,
   "id": "c819aeaf",
   "metadata": {},
   "outputs": [],
   "source": [
    "Idents(pbmc)  <- pbmc$seurat_clusters"
   ]
  },
  {
   "cell_type": "code",
   "execution_count": null,
   "id": "b43596fc",
   "metadata": {},
   "outputs": [],
   "source": [
    "options(repr.plot.width = 7, repr.plot.height = 5)\n",
    "DimPlot(pbmc, label  = T, label.size = 10, repel = T)"
   ]
  },
  {
   "cell_type": "code",
   "execution_count": null,
   "id": "eb156804",
   "metadata": {},
   "outputs": [],
   "source": [
    "options(repr.plot.width = 16, repr.plot.height = 4)\n",
    "FeaturePlot(pbmc, features = c(\"FOXP3\",\"CD8A\",\"CD4\",\"NCR1\"), max.cutoff = c(2,2,2,2), ncol = 4)"
   ]
  },
  {
   "cell_type": "markdown",
   "id": "2b05860e",
   "metadata": {},
   "source": [
    "# Separating CD4 and CD8 T cells"
   ]
  },
  {
   "cell_type": "code",
   "execution_count": null,
   "id": "a268f892",
   "metadata": {},
   "outputs": [],
   "source": [
    "which(rownames(pbmc@assays$RNA) == \"CD4\")"
   ]
  },
  {
   "cell_type": "code",
   "execution_count": null,
   "id": "c569ad70",
   "metadata": {},
   "outputs": [],
   "source": [
    "which(rownames(pbmc@assays$RNA) == \"CD8A\")"
   ]
  },
  {
   "cell_type": "code",
   "execution_count": null,
   "id": "d95d6c6b",
   "metadata": {},
   "outputs": [],
   "source": [
    "pbmc$cd4_or_cd8  <- ifelse(pbmc@assays$RNA$counts[245,]>0 & pbmc@assays$RNA$counts[8716,]>0, \"Both\",\n",
    "                               ifelse(pbmc@assays$RNA$counts[245,]>0 & pbmc@assays$RNA$counts[8716,]==0, \"CD4\",\n",
    "                               ifelse(pbmc@assays$RNA$counts[245,]==0 & pbmc@assays$RNA$counts[8716,]>0, \"CD8\",\n",
    "                               \"Unknown\")))"
   ]
  },
  {
   "cell_type": "code",
   "execution_count": null,
   "id": "a9ca4870",
   "metadata": {},
   "outputs": [],
   "source": [
    "pbmc$cd4_or_cd8  %>% table"
   ]
  },
  {
   "cell_type": "code",
   "execution_count": null,
   "id": "8ccefa7f",
   "metadata": {},
   "outputs": [],
   "source": [
    "DimPlot(pbmc, group.by = \"cd4_or_cd8\")"
   ]
  },
  {
   "cell_type": "code",
   "execution_count": null,
   "id": "1f14c4a3",
   "metadata": {},
   "outputs": [],
   "source": [
    "options(future.globals.maxSize = 5e+09)"
   ]
  },
  {
   "cell_type": "code",
   "execution_count": null,
   "id": "8420e6a7",
   "metadata": {},
   "outputs": [],
   "source": [
    "pbmc <- FindNeighbors(pbmc, dims = 1:12)\n",
    "pbmc <- FindClusters(pbmc, resolution = 0.5)\n",
    "options(repr.plot.width = 7, repr.plot.height = 5)\n",
    "DimPlot(pbmc, label  = T, label.size = 10, repel = T)"
   ]
  },
  {
   "cell_type": "code",
   "execution_count": null,
   "id": "6606c64c",
   "metadata": {},
   "outputs": [],
   "source": [
    "options(repr.plot.width = 24, repr.plot.height = 12)\n",
    "\n",
    "FeaturePlot(pbmc, features = c(\"CD8A\"), split.by = \"seurat_clusters\", max.cutoff = 2) + plot_layout(ncol = 5, nrow = 3)"
   ]
  },
  {
   "cell_type": "code",
   "execution_count": null,
   "id": "a9796b30",
   "metadata": {},
   "outputs": [],
   "source": [
    "options(repr.plot.width = 24, repr.plot.height = 12)\n",
    "\n",
    "FeaturePlot(pbmc, features = c(\"CD4\"), split.by = \"seurat_clusters\", max.cutoff = 2) + plot_layout(ncol = 5, nrow = 3)\n"
   ]
  },
  {
   "cell_type": "markdown",
   "id": "20a2786c",
   "metadata": {},
   "source": [
    "### Reclustering cluster 10"
   ]
  },
  {
   "cell_type": "code",
   "execution_count": null,
   "id": "13e26c1f",
   "metadata": {},
   "outputs": [],
   "source": [
    "sub  <- subset(pbmc, seurat_clusters == 10)"
   ]
  },
  {
   "cell_type": "code",
   "execution_count": null,
   "id": "102b575c",
   "metadata": {},
   "outputs": [],
   "source": [
    "     sub <- NormalizeData(sub, verbose = FALSE)\n",
    "        sub <- ScaleData(sub, verbose = FALSE)\n",
    "        sub <- FindVariableFeatures(sub, nfeatures = 1000, verbose = FALSE)\n",
    "\n",
    "sub <- RunPCA(sub, dims = 1:12)\n",
    "sub <- RunUMAP(sub, reduction = \"pca\", dims = 1:12)\n",
    "  \n",
    "\n",
    "sub <- FindNeighbors(sub, dims = 1:12)"
   ]
  },
  {
   "cell_type": "code",
   "execution_count": null,
   "id": "ef8f444e",
   "metadata": {},
   "outputs": [],
   "source": [
    "cl10 <- FindClusters(sub, resolution = 0.7)"
   ]
  },
  {
   "cell_type": "code",
   "execution_count": null,
   "id": "406bac57",
   "metadata": {},
   "outputs": [],
   "source": [
    "options(repr.plot.width = 6, repr.plot.height = 5)\n",
    "DimPlot(cl10, label = T, label.size = 10)"
   ]
  },
  {
   "cell_type": "code",
   "execution_count": null,
   "id": "31a3671c",
   "metadata": {},
   "outputs": [],
   "source": [
    "options(repr.plot.width = 6, repr.plot.height = 5)\n",
    "\n",
    "FeaturePlot(cl10, features = c(\"CD8A\"),  max.cutoff = 2)"
   ]
  },
  {
   "cell_type": "code",
   "execution_count": null,
   "id": "bf812de0",
   "metadata": {},
   "outputs": [],
   "source": [
    "options(repr.plot.width = 6, repr.plot.height = 5)\n",
    "\n",
    "FeaturePlot(cl10, features = c(\"CD4\"),  max.cutoff = 2)"
   ]
  },
  {
   "cell_type": "code",
   "execution_count": null,
   "id": "09d75f7b",
   "metadata": {},
   "outputs": [],
   "source": [
    "options(repr.plot.width = 24, repr.plot.height = 9)\n",
    "\n",
    "FeaturePlot(cl10, features = c(\"CD8A\"), split.by = \"seurat_clusters\", max.cutoff = 2) + plot_layout(ncol = 5, nrow = 2)\n"
   ]
  },
  {
   "cell_type": "code",
   "execution_count": null,
   "id": "22a7ca6e",
   "metadata": {},
   "outputs": [],
   "source": [
    "options(repr.plot.width = 24, repr.plot.height = 9)\n",
    "\n",
    "FeaturePlot(cl10, features = c(\"CD4\"), split.by = \"seurat_clusters\", max.cutoff = 2) + plot_layout(ncol = 5, nrow = 2)\n"
   ]
  },
  {
   "cell_type": "code",
   "execution_count": null,
   "id": "c7cfa195",
   "metadata": {},
   "outputs": [],
   "source": [
    "cl10_cd4  <- subset(cl10, seurat_clusters %in% c(0,1,5))\n",
    "cl10_cd8  <- subset(cl10, seurat_clusters %in% c(2,4,7))\n",
    "cl10_nk  <- subset(cl10, seurat_clusters %in% c(3,6))"
   ]
  },
  {
   "cell_type": "markdown",
   "id": "635cfdbd",
   "metadata": {},
   "source": [
    "### Reclustering cluster 12"
   ]
  },
  {
   "cell_type": "code",
   "execution_count": null,
   "id": "34c36d49",
   "metadata": {},
   "outputs": [],
   "source": [
    "sub  <- subset(pbmc, seurat_clusters == 12)"
   ]
  },
  {
   "cell_type": "code",
   "execution_count": null,
   "id": "10f17586",
   "metadata": {},
   "outputs": [],
   "source": [
    "    sub <- NormalizeData(sub, verbose = FALSE)\n",
    "        sub <- ScaleData(sub, verbose = FALSE)\n",
    "        sub <- FindVariableFeatures(sub, nfeatures = 1000, verbose = FALSE)\n",
    "\n",
    "sub <- RunPCA(sub, dims = 1:12)\n",
    "sub <- RunUMAP(sub, reduction = \"pca\", dims = 1:12)\n",
    "  \n",
    "\n",
    "sub <- FindNeighbors(sub, dims = 1:12)\n",
    "cl12 <- FindClusters(sub, resolution = 0.7)"
   ]
  },
  {
   "cell_type": "code",
   "execution_count": null,
   "id": "ab119f03",
   "metadata": {},
   "outputs": [],
   "source": [
    "options(repr.plot.width = 6, repr.plot.height = 5)\n",
    "DimPlot(cl12)"
   ]
  },
  {
   "cell_type": "code",
   "execution_count": null,
   "id": "d4cda561",
   "metadata": {},
   "outputs": [],
   "source": [
    "options(repr.plot.width = 6, repr.plot.height = 5)\n",
    "DimPlot(cl12)"
   ]
  },
  {
   "cell_type": "code",
   "execution_count": null,
   "id": "32f4d3b4",
   "metadata": {},
   "outputs": [],
   "source": [
    "options(repr.plot.width = 6, repr.plot.height = 5)\n",
    "\n",
    "FeaturePlot(cl12, features = c(\"CD8A\"),  max.cutoff = 2)"
   ]
  },
  {
   "cell_type": "code",
   "execution_count": null,
   "id": "0e459584",
   "metadata": {},
   "outputs": [],
   "source": [
    "options(repr.plot.width = 6, repr.plot.height = 5)\n",
    "\n",
    "FeaturePlot(cl12, features = c(\"CD4\"),  max.cutoff = 2)"
   ]
  },
  {
   "cell_type": "code",
   "execution_count": null,
   "id": "08952b3e",
   "metadata": {},
   "outputs": [],
   "source": [
    "options(repr.plot.width = 24, repr.plot.height = 5)\n",
    "\n",
    "FeaturePlot(cl12, features = c(\"CD8A\"), split.by = \"seurat_clusters\", max.cutoff = 2) + plot_layout(ncol = 5, nrow = 1)\n"
   ]
  },
  {
   "cell_type": "code",
   "execution_count": null,
   "id": "6abe6c4d",
   "metadata": {},
   "outputs": [],
   "source": [
    "options(repr.plot.width = 24, repr.plot.height = 5)\n",
    "\n",
    "FeaturePlot(cl12, features = c(\"CD4\"), split.by = \"seurat_clusters\", max.cutoff = 2) + plot_layout(ncol = 5, nrow = 1)\n"
   ]
  },
  {
   "cell_type": "code",
   "execution_count": null,
   "id": "edaa5d02",
   "metadata": {},
   "outputs": [],
   "source": [
    "cl12_cd4  <- subset(cl12, seurat_clusters %in% c(0,2,3,4))\n",
    "cl12_cd8  <- subset(cl12, seurat_clusters %in% c(1))"
   ]
  },
  {
   "cell_type": "markdown",
   "id": "787ce083",
   "metadata": {},
   "source": [
    "### Reclustering cluster 6"
   ]
  },
  {
   "cell_type": "code",
   "execution_count": null,
   "id": "e668f7aa",
   "metadata": {},
   "outputs": [],
   "source": [
    "sub  <- subset(pbmc, seurat_clusters == 6)"
   ]
  },
  {
   "cell_type": "code",
   "execution_count": null,
   "id": "abe39775",
   "metadata": {},
   "outputs": [],
   "source": [
    "    sub <- NormalizeData(sub, verbose = FALSE)\n",
    "        sub <- ScaleData(sub, verbose = FALSE)\n",
    "        sub <- FindVariableFeatures(sub, nfeatures = 1000, verbose = FALSE)\n",
    "\n",
    "sub <- RunPCA(sub, dims = 1:12)\n",
    "sub <- RunUMAP(sub, reduction = \"pca\", dims = 1:12)\n",
    "  \n",
    "\n",
    "sub <- FindNeighbors(sub, dims = 1:12)"
   ]
  },
  {
   "cell_type": "code",
   "execution_count": null,
   "id": "08f57a16",
   "metadata": {},
   "outputs": [],
   "source": [
    "cl6 <- FindClusters(sub, resolution = 0.8)"
   ]
  },
  {
   "cell_type": "code",
   "execution_count": null,
   "id": "f6c77de1",
   "metadata": {},
   "outputs": [],
   "source": [
    "options(repr.plot.width = 6, repr.plot.height = 5)\n",
    "DimPlot(cl6, label = T, label.size = 10)"
   ]
  },
  {
   "cell_type": "code",
   "execution_count": null,
   "id": "eeadec60",
   "metadata": {},
   "outputs": [],
   "source": [
    "options(repr.plot.width = 6, repr.plot.height = 5)\n",
    "\n",
    "FeaturePlot(cl6, features = c(\"CD8A\"),  max.cutoff = 2)"
   ]
  },
  {
   "cell_type": "code",
   "execution_count": null,
   "id": "d6e162bb",
   "metadata": {},
   "outputs": [],
   "source": [
    "options(repr.plot.width = 6, repr.plot.height = 5)\n",
    "\n",
    "FeaturePlot(cl6, features = c(\"CD4\"),  max.cutoff = 2)"
   ]
  },
  {
   "cell_type": "code",
   "execution_count": null,
   "id": "2df81f7e",
   "metadata": {},
   "outputs": [],
   "source": [
    "options(repr.plot.width = 20, repr.plot.height = 8)\n",
    "\n",
    "FeaturePlot(cl6, features = c(\"CD8A\"), split.by = \"seurat_clusters\", max.cutoff = 2) + plot_layout(ncol = 6, nrow = 2)\n"
   ]
  },
  {
   "cell_type": "code",
   "execution_count": null,
   "id": "a36d1dba",
   "metadata": {},
   "outputs": [],
   "source": [
    "options(repr.plot.width = 20, repr.plot.height = 8)\n",
    "\n",
    "FeaturePlot(cl6, features = c(\"CD4\"), split.by = \"seurat_clusters\", max.cutoff = 2) + plot_layout(ncol = 6, nrow = 2)\n"
   ]
  },
  {
   "cell_type": "code",
   "execution_count": null,
   "id": "ddd8fd3f",
   "metadata": {},
   "outputs": [],
   "source": [
    "cl6_cd4  <-  subset(cl6, seurat_clusters %in% c(0,1,3,5,6,7,9))\n",
    "cl6_cd8  <-  subset(cl6, seurat_clusters %in% c(2,4,8,10))\n"
   ]
  },
  {
   "cell_type": "code",
   "execution_count": null,
   "id": "c80b9e45",
   "metadata": {},
   "outputs": [],
   "source": [
    "md_pbmc  <- pbmc@meta.data"
   ]
  },
  {
   "cell_type": "code",
   "execution_count": null,
   "id": "60e2b2f4",
   "metadata": {},
   "outputs": [],
   "source": [
    "md_pbmc <- md_pbmc  %>% mutate(cd4_or_cd8_2 = \n",
    "                                ifelse(cd4_or_cd8 == \"Unknown\" | cd4_or_cd8 == \"Both\",\n",
    "                                  case_when(seurat_clusters %in% c(0,5,7) ~ \"CD8\",\n",
    "                                            seurat_clusters %in% c(1,2,3,8,9) ~ \"CD4\",\n",
    "                                            seurat_clusters %in% c(4,11) ~ \"NK_DN\",\n",
    "                                            barcode %in% c(cl6_cd4$barcode, \n",
    "                                                           cl10_cd4$barcode,\n",
    "                                                           cl12_cd4$barcode) ~ \"CD4\",\n",
    "                                            barcode %in% c(cl6_cd8$barcode, \n",
    "                                                           cl10_cd8$barcode,\n",
    "                                                           cl12_cd8$barcode) ~ \"CD8\",\n",
    "                                            barcode %in% c(cl10_nk$barcode) ~ \"NK_DN\"),\n",
    "                                   cd4_or_cd8))"
   ]
  },
  {
   "cell_type": "code",
   "execution_count": null,
   "id": "edcbcfa8",
   "metadata": {},
   "outputs": [],
   "source": [
    "md_pbmc$cd4_or_cd8  %>% table"
   ]
  },
  {
   "cell_type": "code",
   "execution_count": null,
   "id": "bf66ba0d",
   "metadata": {},
   "outputs": [],
   "source": [
    "md_pbmc$cd4_or_cd8_2  %>% table"
   ]
  },
  {
   "cell_type": "code",
   "execution_count": null,
   "id": "cc101270",
   "metadata": {},
   "outputs": [],
   "source": [
    "pbmc$cd4_or_cd8_2  <- md_pbmc$cd4_or_cd8_2"
   ]
  },
  {
   "cell_type": "code",
   "execution_count": null,
   "id": "757e0bcb",
   "metadata": {},
   "outputs": [],
   "source": [
    "options(repr.plot.width = 8, repr.plot.height = 6)\n",
    "\n",
    "DimPlot(pbmc, group.by = \"cd4_or_cd8_2\")"
   ]
  },
  {
   "cell_type": "code",
   "execution_count": null,
   "id": "a8c28cd3",
   "metadata": {},
   "outputs": [],
   "source": [
    "saveRDS(pbmc, paste0(\"../../../DATA_scRNAseq//Analysis of previously published data/081_ParseBio_1M_Diabetes/241020_ParseBio_200k_filtT.rds\"))"
   ]
  },
  {
   "cell_type": "markdown",
   "id": "d366fd78",
   "metadata": {},
   "source": [
    "# Analysis of NK DN cells"
   ]
  },
  {
   "cell_type": "code",
   "execution_count": null,
   "id": "35a2b726",
   "metadata": {},
   "outputs": [],
   "source": [
    "sub  <- subset(pbmc, cd4_or_cd8_2 == \"NK_DN\")\n",
    "     sub <- NormalizeData(sub, verbose = FALSE)\n",
    "        sub <- ScaleData(sub, verbose = FALSE)\n",
    "        sub <- FindVariableFeatures(sub, nfeatures = 1000, verbose = FALSE)\n",
    "\n",
    "sub <- RunPCA(sub, dims = 1:12)\n",
    "sub <- RunUMAP(sub, reduction = \"pca\", dims = 1:12)\n",
    "  \n",
    "\n",
    "sub <- FindNeighbors(sub, dims = 1:12)\n",
    "sub <- FindClusters(sub, resolution = 0.7)\n",
    "            print(\"CLustering done!\")\n",
    "nk_dn  <- sub"
   ]
  },
  {
   "cell_type": "code",
   "execution_count": null,
   "id": "c8312ee9",
   "metadata": {},
   "outputs": [],
   "source": [
    "DimPlot(nk_dn)"
   ]
  },
  {
   "cell_type": "markdown",
   "id": "73383b1e",
   "metadata": {},
   "source": [
    "# Analysis of CD4 cells"
   ]
  },
  {
   "cell_type": "code",
   "execution_count": null,
   "id": "714868ca",
   "metadata": {},
   "outputs": [],
   "source": [
    "options(future.globals.maxSize = 10e+09)"
   ]
  },
  {
   "cell_type": "code",
   "execution_count": null,
   "id": "431cab20",
   "metadata": {},
   "outputs": [],
   "source": [
    "plan(\"sequential\")"
   ]
  },
  {
   "cell_type": "code",
   "execution_count": null,
   "id": "901139f6",
   "metadata": {},
   "outputs": [],
   "source": [
    "sub  <- subset(pbmc, cd4_or_cd8_2 == \"CD4\")\n",
    "sub <- NormalizeData(sub, verbose = FALSE)\n",
    "sub <- ScaleData(sub, verbose = FALSE)\n",
    "sub <- FindVariableFeatures(sub, nfeatures = 1000, verbose = FALSE)"
   ]
  },
  {
   "cell_type": "code",
   "execution_count": null,
   "id": "9b73e958",
   "metadata": {},
   "outputs": [],
   "source": [
    "sub <- RunPCA(sub, dims = 1:10)\n",
    "sub <- RunUMAP(sub, reduction = \"pca\", dims = 1:10)\n",
    "  \n",
    "\n",
    "sub <- FindNeighbors(sub, dims = 1:10)\n",
    "sub <- FindClusters(sub, resolution = 0.5)\n",
    "            print(\"Clustering done!\")\n",
    "cd4  <- sub"
   ]
  },
  {
   "cell_type": "code",
   "execution_count": null,
   "id": "3376264e",
   "metadata": {},
   "outputs": [],
   "source": [
    "DimPlot(cd4)"
   ]
  },
  {
   "cell_type": "code",
   "execution_count": null,
   "id": "ba45575a",
   "metadata": {},
   "outputs": [],
   "source": [
    "options(repr.plot.width = 16, repr.plot.height = 16)\n",
    "FeaturePlot(cd4, features = c(\"CD3D\",\"CD8A\",\"RORC\",\"LGALS3\",\n",
    "                                         \"GATA3\",\"MKI67\",\"ISG15\",\"NCAM1\",\n",
    "                                         \"TRGC1\",\"TRDC\",\"FOXP3\",\"CTLA4\",\n",
    "                                         \"IL4\",\"IL5\",\"NFKBIA\",\"CD4\"), ncol = 4)\n"
   ]
  },
  {
   "cell_type": "markdown",
   "id": "06518114",
   "metadata": {},
   "source": [
    "# Analysis of CD8 cells"
   ]
  },
  {
   "cell_type": "code",
   "execution_count": null,
   "id": "a1297872",
   "metadata": {},
   "outputs": [],
   "source": [
    "sub  <- subset(pbmc, cd4_or_cd8_2 == \"CD8\")\n",
    "     sub <- NormalizeData(sub, verbose = FALSE)\n",
    "        sub <- ScaleData(sub, verbose = FALSE)\n",
    "        sub <- FindVariableFeatures(sub, nfeatures = 1000, verbose = FALSE)"
   ]
  },
  {
   "cell_type": "code",
   "execution_count": null,
   "id": "b79b7f39",
   "metadata": {},
   "outputs": [],
   "source": [
    "sub <- RunPCA(sub, dims = 1:10)\n",
    "sub <- RunUMAP(sub, reduction = \"pca\", dims = 1:10)\n",
    "  \n",
    "\n",
    "sub <- FindNeighbors(sub, dims = 1:10)\n",
    "sub <- FindClusters(sub, resolution = 0.5)\n",
    "            print(\"CLustering done!\")\n",
    "cd8  <- sub"
   ]
  },
  {
   "cell_type": "code",
   "execution_count": null,
   "id": "d55d92f3",
   "metadata": {},
   "outputs": [],
   "source": [
    "DimPlot(cd8)"
   ]
  },
  {
   "cell_type": "code",
   "execution_count": null,
   "id": "495316cf",
   "metadata": {},
   "outputs": [],
   "source": [
    "options(repr.plot.width = 16, repr.plot.height = 16)\n",
    "FeaturePlot(cd8, features = c(\"SELL\",\"EOMES\",\"TBX21\",\"LGALS3\",\n",
    "                                         \"IFNG\",\"MKI67\",\"ISG15\",\"NCAM1\",\n",
    "                                         \"TRGC1\",\"TRDC\",\"IKZF2\",\"CTLA4\",\n",
    "                                         \"IL4\",\"IL5\",\"NFKBIA\",\"CD4\"), ncol = 4)"
   ]
  },
  {
   "cell_type": "code",
   "execution_count": null,
   "id": "18ff8597",
   "metadata": {},
   "outputs": [],
   "source": [
    "saveRDS(cd4, \"../../../DATA_scRNAseq//Analysis of previously published data/081_ParseBio_1M_Diabetes/241020_ParseBio_200k_CD4.rds\")\n",
    "saveRDS(cd8, \"../../../DATA_scRNAseq//Analysis of previously published data/081_ParseBio_1M_Diabetes/241020_ParseBio_200k_CD8.rds\")\n",
    "saveRDS(nk_dn, \"../../../DATA_scRNAseq//Analysis of previously published data/081_ParseBio_1M_Diabetes/241020_ParseBio_200k_NK_DN.rds\")"
   ]
  },
  {
   "cell_type": "markdown",
   "id": "6843d1b7",
   "metadata": {},
   "source": [
    "# DE in whole dataset"
   ]
  },
  {
   "cell_type": "code",
   "execution_count": null,
   "id": "630595b0",
   "metadata": {},
   "outputs": [],
   "source": [
    "bulk_pbmc <- AggregateExpression(pbmc, return.seurat = T, slot = \"counts\", \n",
    "                                assays = \"RNA\", group.by = c(\"cd4_or_cd8_2\", \"sample\", \"Disease\"))\n",
    "\n",
    "bulk_pbmc"
   ]
  },
  {
   "cell_type": "code",
   "execution_count": null,
   "id": "1c372b67",
   "metadata": {},
   "outputs": [],
   "source": [
    "  Idents(bulk_pbmc) <- \"Disease\"\n",
    "  de_markers <- FindMarkers(bulk_pbmc, ident.1 = \"D\", ident.2 = \"H\", slot = \"counts\", test.use = \"DESeq2\",\n",
    "      verbose = F)\n",
    "  de_markers$gene <- rownames(de_markers)"
   ]
  },
  {
   "cell_type": "code",
   "execution_count": null,
   "id": "5bd0074b",
   "metadata": {},
   "outputs": [],
   "source": [
    "  ggplot(de_markers, aes(avg_log2FC, -log10(p_val))) + geom_point(size = 0.5, alpha = 0.5) + theme_bw() +\n",
    "      ylab(\"-log10(unadjusted p-value)\") + geom_text_repel(aes(label = ifelse(p_val_adj < 0.01, gene,\n",
    "      \"\")), colour = \"red\", size = 3)"
   ]
  },
  {
   "cell_type": "code",
   "execution_count": null,
   "id": "0c8730ef",
   "metadata": {},
   "outputs": [],
   "source": [
    "de_markers  %>% \n",
    "dplyr::filter(!grepl(gene, pattern = \"^MT\"))  %>% \n",
    "  dplyr::filter(!grepl(gene, pattern = \"\\\\.\"))  %>% \n",
    "  dplyr::filter(!grepl(gene, pattern = \"\\\\-\"))  %>% \n",
    "mutate(label = ifelse(gene %in% c(\"IL7R\",\n",
    "\"LEF1\",\n",
    "\"TCF7\",\n",
    "\"CCR7\",\n",
    "\"SELL\",\n",
    "\"BACH2\",\n",
    "\"NELL2\",\n",
    "\"PRF1\",\n",
    "                                  \"ZFP36L2\",\n",
    "                                  \"CXCR4\",\n",
    "\"NKG7\",\n",
    "\"GZMB\",\n",
    "\"CST7\",\n",
    "\"GNLY\",\n",
    "\"CX3CR1\",\n",
    "\"CCL5\",\n",
    "\"TNF\",\n",
    "\"KLRG1\",\n",
    "\"TBX21\"), gene, NA_character_))  %>% \n",
    "ggplot(aes(avg_log2FC, -log10(p_val))) + geom_point(size = 0.5, alpha = 0.5) + theme_bw() +\n",
    "      ylab(\"-log10(unadjusted p-value)\") + geom_text_repel(aes(label = ifelse(p_val < 0.5, label,\n",
    "      \"\")), colour = \"red\", size = 3)"
   ]
  },
  {
   "cell_type": "code",
   "execution_count": null,
   "id": "c4d8f390",
   "metadata": {
    "scrolled": true
   },
   "outputs": [],
   "source": [
    "fc.df.deseq  <- de_markers  %>% dplyr::filter(!grepl(gene, pattern = \"^MT\"))  %>% \n",
    "  dplyr::filter(!grepl(gene, pattern = \"\\\\.\"))  %>% \n",
    "  dplyr::filter(!grepl(gene, pattern = \"LINC\"))  %>% \n",
    "  dplyr::filter(!grepl(gene, pattern = \"HNRNP\"))  %>% \n",
    "  dplyr::filter(!grepl(gene, pattern = \"^MIR\"))  %>% \n",
    "  dplyr::filter(!grepl(gene, pattern = \"orf\"))  %>% \n",
    "  dplyr::filter(!grepl(gene, pattern = \"^RP[LS]\"))  %>% \n",
    "  dplyr::filter(!grepl(gene, pattern = \"\\\\-\")) %>% \n",
    "arrange(desc(avg_log2FC)) %>% \n",
    "  dplyr::select(gene, avg_log2FC)\n",
    "\n",
    "ranks_pbmc <- deframe(fc.df.deseq)\n",
    "ranks_pbmc  "
   ]
  },
  {
   "cell_type": "code",
   "execution_count": null,
   "id": "eee24a57",
   "metadata": {},
   "outputs": [],
   "source": [
    "library(fgsea)\n",
    "library(msigdbr)"
   ]
  },
  {
   "cell_type": "code",
   "execution_count": null,
   "id": "ed0c7f47",
   "metadata": {
    "scrolled": true
   },
   "outputs": [],
   "source": [
    "fgseaRes <- fgsea(pathways = fgsea_sets_hs_c7, \n",
    "                 stats = ranks_pbmc)"
   ]
  },
  {
   "cell_type": "code",
   "execution_count": null,
   "id": "31359bec",
   "metadata": {},
   "outputs": [],
   "source": [
    "fgseaRes  %>% arrange(pval)  %>% dplyr::filter(NES>0)"
   ]
  },
  {
   "cell_type": "code",
   "execution_count": null,
   "id": "2d6fe7e8",
   "metadata": {},
   "outputs": [],
   "source": [
    "fgseaRes  %>% dplyr::filter(grepl(pathway, pattern = \"NAIVE\"))"
   ]
  },
  {
   "cell_type": "code",
   "execution_count": null,
   "id": "728b2601",
   "metadata": {},
   "outputs": [],
   "source": [
    "options(repr.plot.width = 5, repr.plot.height = 3)\n",
    "plotEnrichment(fgsea_sets_hs_c7[[\"GSE11057_NAIVE_VS_EFF_MEMORY_CD4_TCELL_DN\"]],\n",
    "               ranks_pbmc) + labs(title=\"GSE11057_NAIVE_VS_EFF_MEMORY_CD4_TCELL_DN\") +\n",
    "ylim(c(-0.9,0.4))\n",
    "#ggsave(filename = paste0(\"../figures/gsea/GSE11057_NAIVE_VS_EFF_MEMORY_CD4_TCELL_DN.svg\"), \n",
    "#       width = 9.5, height = 8, units = \"cm\")"
   ]
  },
  {
   "cell_type": "code",
   "execution_count": null,
   "id": "94161d3e",
   "metadata": {},
   "outputs": [],
   "source": [
    "options(repr.plot.width = 5, repr.plot.height = 3)\n",
    "plotEnrichment(fgsea_sets_hs_c7[[\"GSE11057_NAIVE_VS_EFF_MEMORY_CD4_TCELL_UP\"]],\n",
    "               ranks_pbmc) + labs(title=\"GSE11057_NAIVE_VS_EFF_MEMORY_CD4_TCELL_UP\") +\n",
    "ylim(c(-0.9,0.4))\n",
    "#ggsave(filename = paste0(\"../figures/gsea/GSE11057_NAIVE_VS_EFF_MEMORY_CD4_TCELL_DN.svg\"), \n",
    "#       width = 9.5, height = 8, units = \"cm\")"
   ]
  },
  {
   "cell_type": "code",
   "execution_count": null,
   "id": "3bced56b",
   "metadata": {},
   "outputs": [],
   "source": [
    "options(repr.plot.width = 5, repr.plot.height = 3)\n",
    "plotEnrichment(fgsea_sets_hs_c7[[\"KAECH_NAIVE_VS_MEMORY_CD8_TCELL_DN\"]],\n",
    "               ranks_cd8_t0) + labs(title=\"KAECH_NAIVE_VS_MEMORY_CD8_TCELL_DN\") +\n",
    "ylim(c(-0.9,0.4))"
   ]
  },
  {
   "cell_type": "code",
   "execution_count": null,
   "id": "ab3f6e19",
   "metadata": {},
   "outputs": [],
   "source": [
    "options(repr.plot.width = 5, repr.plot.height = 3)\n",
    "plotEnrichment(fgsea_sets_hs_c7[[\"KAECH_NAIVE_VS_MEMORY_CD8_TCELL_UP\"]],\n",
    "               ranks_cd8_t0) + labs(title=\"KAECH_NAIVE_VS_MEMORY_CD8_TCELL_UP\") +\n",
    "ylim(c(-0.9,0.4))"
   ]
  },
  {
   "cell_type": "markdown",
   "id": "7c0809a1",
   "metadata": {},
   "source": [
    "# DE in subpopulations - heatmap"
   ]
  },
  {
   "cell_type": "code",
   "execution_count": null,
   "id": "2264d05f",
   "metadata": {},
   "outputs": [],
   "source": [
    "pbmc$Disease  <- substr(pbmc$sample,1,1)"
   ]
  },
  {
   "cell_type": "code",
   "execution_count": null,
   "id": "0a39f0f3",
   "metadata": {},
   "outputs": [],
   "source": [
    "pbmc$Disease_CellType  <- paste(pbmc$Disease, pbmc$cd4_or_cd8_2)"
   ]
  },
  {
   "cell_type": "code",
   "execution_count": null,
   "id": "f56ac1ed",
   "metadata": {},
   "outputs": [],
   "source": [
    "avgexp = AverageExpression(pbmc,\n",
    "                             return.seurat = F, group.by = \"Disease_CellType\", \n",
    "                          assay = \"RNA\")"
   ]
  },
  {
   "cell_type": "code",
   "execution_count": null,
   "id": "46b71665",
   "metadata": {},
   "outputs": [],
   "source": [
    "genes  <- c(\"PCBP2\",\"PCBP1\",\n",
    "            \"CX3CR1\",\"TNF\",\"GZMB\",\"GZMA\",\"PRF1\",\"NKG7\",\"GNLY\",\"CCL5\",\"CST7\",\n",
    "            \"BTG1\",\"SELL\",\"IL7R\",\"CCR7\",\"BTG2\",\"SLAMF6\",\"LEF1\",\n",
    "             \"TNFAIP3\",\"TSC22D3\",\"NKFBIA\",\"DUSP1\")"
   ]
  },
  {
   "cell_type": "code",
   "execution_count": null,
   "id": "b50bf43a",
   "metadata": {},
   "outputs": [],
   "source": [
    "avgexp  <- avgexp$RNA[which(rownames(avgexp$RNA) %in% genes),]"
   ]
  },
  {
   "cell_type": "code",
   "execution_count": null,
   "id": "2bca6c01",
   "metadata": {
    "scrolled": false
   },
   "outputs": [],
   "source": [
    "library(pheatmap)\n",
    "\n",
    "options(repr.plot.width = 4, repr.plot.height = 9)\n",
    "pheatmap(avgexp, main = \"\", scale = \"row\", cluster_cols = F, cluster_rows = T,\n",
    "        color=colorRampPalette(c(\"dodgerblue\", \"grey95\", \"indianred2\"))(50), \n",
    "         border_color = \"white\", width = 9, height = 3.3,\n",
    "                  fontsize = 9)"
   ]
  },
  {
   "cell_type": "markdown",
   "id": "9fa6e033",
   "metadata": {},
   "source": [
    "## DE CD4"
   ]
  },
  {
   "cell_type": "code",
   "execution_count": null,
   "id": "327b01ec",
   "metadata": {},
   "outputs": [],
   "source": [
    "bulk_pbmc <- AggregateExpression(pbmc, return.seurat = T, slot = \"counts\", \n",
    "                                assays = \"RNA\", group.by = c(\"cd4_or_cd8_2\", \"sample\", \"Disease\"))"
   ]
  },
  {
   "cell_type": "code",
   "execution_count": null,
   "id": "318e9018",
   "metadata": {},
   "outputs": [],
   "source": [
    "bulk_pbmc"
   ]
  },
  {
   "cell_type": "code",
   "execution_count": null,
   "id": "b9d2b1d1",
   "metadata": {},
   "outputs": [],
   "source": [
    "  cd4.bulk <- subset(bulk_pbmc, cd4_or_cd8_2 == \"CD4\")\n",
    "  Idents(cd4.bulk) <- \"Disease\"\n",
    "  de_markers <- FindMarkers(cd4.bulk, ident.1 = \"D\", ident.2 = \"H\", slot = \"counts\", test.use = \"DESeq2\",\n",
    "      verbose = F)\n",
    "  de_markers$gene <- rownames(de_markers)"
   ]
  },
  {
   "cell_type": "code",
   "execution_count": null,
   "id": "77cb0a8b",
   "metadata": {},
   "outputs": [],
   "source": [
    "  ggplot(de_markers, aes(avg_log2FC, -log10(p_val))) + geom_point(size = 0.5, alpha = 0.5) + theme_bw() +\n",
    "      ylab(\"-log10(unadjusted p-value)\") + geom_text_repel(aes(label = ifelse(p_val_adj < 0.01, gene,\n",
    "      \"\")), colour = \"red\", size = 3)"
   ]
  },
  {
   "cell_type": "code",
   "execution_count": null,
   "id": "e64cc282",
   "metadata": {},
   "outputs": [],
   "source": [
    "de_markers  %>% \n",
    "dplyr::filter(!grepl(gene, pattern = \"^MT\"))  %>% \n",
    "  dplyr::filter(!grepl(gene, pattern = \"\\\\.\"))  %>% \n",
    "  dplyr::filter(!grepl(gene, pattern = \"\\\\-\"))  %>% \n",
    "mutate(label = ifelse(gene %in% c(\"IL7R\",\n",
    "\"LEF1\",\n",
    "\"TCF7\",\n",
    "\"CCR7\",\n",
    "\"SELL\",\n",
    "\"BACH2\",\n",
    "\"NELL2\",\n",
    "\"PRF1\",\n",
    "                                  \"ZFP36L2\",\n",
    "                                  \"CXCR4\",\n",
    "\"NKG7\",\n",
    "\"GZMB\",\n",
    "\"CST7\",\n",
    "\"GNLY\",\n",
    "\"CX3CR1\",\n",
    "\"CCL5\",\n",
    "\"TNF\",\n",
    "\"KLRG1\",\n",
    "\"TBX21\"), gene, NA_character_))  %>% \n",
    "ggplot(aes(avg_log2FC, -log10(p_val))) + geom_point(size = 0.5, alpha = 0.5) + theme_bw() +\n",
    "      ylab(\"-log10(unadjusted p-value)\") + geom_text_repel(aes(label = ifelse(p_val < 0.5, label,\n",
    "      \"\")), colour = \"red\", size = 3)"
   ]
  },
  {
   "cell_type": "code",
   "execution_count": null,
   "id": "040748d4",
   "metadata": {
    "scrolled": true
   },
   "outputs": [],
   "source": [
    "fc.df.deseq  <- de_markers  %>% dplyr::filter(!grepl(gene, pattern = \"^MT\"))  %>% \n",
    "  dplyr::filter(!grepl(gene, pattern = \"\\\\.\"))  %>% \n",
    "  dplyr::filter(!grepl(gene, pattern = \"LINC\"))  %>% \n",
    "  dplyr::filter(!grepl(gene, pattern = \"HNRNP\"))  %>% \n",
    "  dplyr::filter(!grepl(gene, pattern = \"^MIR\"))  %>% \n",
    "  dplyr::filter(!grepl(gene, pattern = \"orf\"))  %>% \n",
    "  dplyr::filter(!grepl(gene, pattern = \"^RP[LS]\"))  %>% \n",
    "  dplyr::filter(!grepl(gene, pattern = \"\\\\-\")) %>% \n",
    "arrange(desc(avg_log2FC)) %>% \n",
    "  dplyr::select(gene, avg_log2FC)\n",
    "\n",
    "ranks_cd4_t0 <- deframe(fc.df.deseq)\n",
    "ranks_cd4_t0  "
   ]
  },
  {
   "cell_type": "code",
   "execution_count": null,
   "id": "9079f508",
   "metadata": {},
   "outputs": [],
   "source": [
    "library(fgsea)\n",
    "library(msigdbr)"
   ]
  },
  {
   "cell_type": "code",
   "execution_count": null,
   "id": "903a930d",
   "metadata": {
    "scrolled": true
   },
   "outputs": [],
   "source": [
    "mrk_fc"
   ]
  },
  {
   "cell_type": "code",
   "execution_count": null,
   "id": "1ca3bc30",
   "metadata": {
    "scrolled": true
   },
   "outputs": [],
   "source": [
    "fgseaRes <- fgsea(pathways = fgsea_sets_hs_c7, \n",
    "                 stats = ranks_cd4_t0)"
   ]
  },
  {
   "cell_type": "code",
   "execution_count": null,
   "id": "643e8490",
   "metadata": {},
   "outputs": [],
   "source": [
    "fgseaRes  %>% arrange(pval)"
   ]
  },
  {
   "cell_type": "code",
   "execution_count": null,
   "id": "c2bc4041",
   "metadata": {},
   "outputs": [],
   "source": [
    "fgseaRes  %>% dplyr::filter(grepl(pathway, pattern = \"GSE11057_NAIVE_VS_EFF_MEMORY_CD4_TCELL\"))"
   ]
  },
  {
   "cell_type": "code",
   "execution_count": null,
   "id": "705066a6",
   "metadata": {},
   "outputs": [],
   "source": [
    "options(repr.plot.width = 5, repr.plot.height = 3)\n",
    "plotEnrichment(fgsea_sets_hs_c7[[\"GSE11057_NAIVE_VS_EFF_MEMORY_CD4_TCELL_DN\"]],\n",
    "               ranks_cd4_t0) + labs(title=\"GSE11057_NAIVE_VS_EFF_MEMORY_CD4_TCELL_DN\") +\n",
    "ylim(c(-0.9,0.4))\n",
    "#ggsave(filename = paste0(\"../figures/gsea/GSE11057_NAIVE_VS_EFF_MEMORY_CD4_TCELL_DN.svg\"), \n",
    "#       width = 9.5, height = 8, units = \"cm\")"
   ]
  },
  {
   "cell_type": "code",
   "execution_count": null,
   "id": "6dc1d1aa",
   "metadata": {},
   "outputs": [],
   "source": [
    "options(repr.plot.width = 5, repr.plot.height = 3)\n",
    "plotEnrichment(fgsea_sets_hs_c7[[\"GSE11057_NAIVE_VS_EFF_MEMORY_CD4_TCELL_UP\"]],\n",
    "               ranks_cd4_t0) + labs(title=\"GSE11057_NAIVE_VS_EFF_MEMORY_CD4_TCELL_UP\") +\n",
    "ylim(c(-0.9,0.4))\n",
    "#ggsave(filename = paste0(\"../figures/gsea/GSE11057_NAIVE_VS_EFF_MEMORY_CD4_TCELL_DN.svg\"), \n",
    "#       width = 9.5, height = 8, units = \"cm\")"
   ]
  },
  {
   "cell_type": "code",
   "execution_count": null,
   "id": "a0e8eb2e",
   "metadata": {},
   "outputs": [],
   "source": [
    "options(repr.plot.width = 5, repr.plot.height = 3)\n",
    "plotEnrichment(fgsea_sets_hs_c7[[\"KAECH_NAIVE_VS_MEMORY_CD8_TCELL_DN\"]],\n",
    "               ranks_cd4_t0) + labs(title=\"KAECH_NAIVE_VS_MEMORY_CD8_TCELL_DN\") +\n",
    "ylim(c(-0.9,0.4))"
   ]
  },
  {
   "cell_type": "code",
   "execution_count": null,
   "id": "727441e0",
   "metadata": {},
   "outputs": [],
   "source": [
    "options(repr.plot.width = 5, repr.plot.height = 3)\n",
    "plotEnrichment(fgsea_sets_hs_c7[[\"KAECH_NAIVE_VS_MEMORY_CD8_TCELL_UP\"]],\n",
    "               ranks_cd4_t0) + labs(title=\"KAECH_NAIVE_VS_MEMORY_CD8_TCELL_UP\") +\n",
    "ylim(c(-0.9,0.4))"
   ]
  },
  {
   "cell_type": "markdown",
   "id": "82fe5f0d",
   "metadata": {},
   "source": [
    "## DE CD8"
   ]
  },
  {
   "cell_type": "code",
   "execution_count": null,
   "id": "02aefc15",
   "metadata": {},
   "outputs": [],
   "source": [
    "bulk_pbmc <- AggregateExpression(pbmc, return.seurat = T, slot = \"counts\", \n",
    "                                assays = \"RNA\", group.by = c(\"cd4_or_cd8_2\", \"sample\", \"Disease\"))"
   ]
  },
  {
   "cell_type": "code",
   "execution_count": null,
   "id": "dcba087d",
   "metadata": {},
   "outputs": [],
   "source": [
    "bulk_pbmc"
   ]
  },
  {
   "cell_type": "code",
   "execution_count": null,
   "id": "0a45f7f8",
   "metadata": {},
   "outputs": [],
   "source": [
    "  cd8.bulk <- subset(bulk_pbmc, cd4_or_cd8_2 == \"CD8\")\n",
    "  Idents(cd8.bulk) <- \"Disease\"\n",
    "  de_markers <- FindMarkers(cd8.bulk, ident.1 = \"D\", ident.2 = \"H\", slot = \"counts\", test.use = \"DESeq2\",\n",
    "      verbose = F)\n",
    "  de_markers$gene <- rownames(de_markers)"
   ]
  },
  {
   "cell_type": "code",
   "execution_count": null,
   "id": "c7c9e4c3",
   "metadata": {},
   "outputs": [],
   "source": [
    "  ggplot(de_markers, aes(avg_log2FC, -log10(p_val))) + geom_point(size = 0.5, alpha = 0.5) + theme_bw() +\n",
    "      ylab(\"-log10(unadjusted p-value)\") + geom_text_repel(aes(label = ifelse(p_val_adj < 0.01, gene,\n",
    "      \"\")), colour = \"red\", size = 3)"
   ]
  },
  {
   "cell_type": "code",
   "execution_count": null,
   "id": "77c45d8a",
   "metadata": {},
   "outputs": [],
   "source": [
    "de_markers  %>% \n",
    "dplyr::filter(!grepl(gene, pattern = \"^MT\"))  %>% \n",
    "  dplyr::filter(!grepl(gene, pattern = \"\\\\.\"))  %>% \n",
    "  dplyr::filter(!grepl(gene, pattern = \"\\\\-\"))  %>% \n",
    "mutate(label = ifelse(gene %in% c(\"IL7R\",\n",
    "\"LEF1\",\n",
    "\"TCF7\",\n",
    "\"CCR7\",\n",
    "\"SELL\",\n",
    "\"BACH2\",\n",
    "\"NELL2\",\n",
    "\"PRF1\",\n",
    "                                  \"ZFP36L2\",\n",
    "                                  \"CXCR4\",\n",
    "\"NKG7\",\n",
    "\"GZMB\",\n",
    "\"CST7\",\n",
    "\"GNLY\",\n",
    "\"CX3CR1\",\n",
    "\"CCL5\",\n",
    "\"TNF\",\n",
    "\"KLRG1\",\n",
    "\"TBX21\"), gene, NA_character_))  %>% \n",
    "ggplot(aes(avg_log2FC, -log10(p_val))) + geom_point(size = 0.5, alpha = 0.5) + theme_bw() +\n",
    "      ylab(\"-log10(unadjusted p-value)\") + geom_text_repel(aes(label = ifelse(p_val < 0.5, label,\n",
    "      \"\")), colour = \"red\", size = 3)"
   ]
  },
  {
   "cell_type": "code",
   "execution_count": null,
   "id": "febc6863",
   "metadata": {
    "scrolled": true
   },
   "outputs": [],
   "source": [
    "fc.df.deseq  <- de_markers  %>% dplyr::filter(!grepl(gene, pattern = \"^MT\"))  %>% \n",
    "  dplyr::filter(!grepl(gene, pattern = \"\\\\.\"))  %>% \n",
    "  dplyr::filter(!grepl(gene, pattern = \"LINC\"))  %>% \n",
    "  dplyr::filter(!grepl(gene, pattern = \"HNRNP\"))  %>% \n",
    "  dplyr::filter(!grepl(gene, pattern = \"^MIR\"))  %>% \n",
    "  dplyr::filter(!grepl(gene, pattern = \"orf\"))  %>% \n",
    "  dplyr::filter(!grepl(gene, pattern = \"^RP[LS]\"))  %>% \n",
    "  dplyr::filter(!grepl(gene, pattern = \"\\\\-\")) %>% \n",
    "arrange(desc(avg_log2FC)) %>% \n",
    "  dplyr::select(gene, avg_log2FC)\n",
    "\n",
    "ranks_cd8_t0 <- deframe(fc.df.deseq)\n",
    "ranks_cd8_t0  "
   ]
  },
  {
   "cell_type": "code",
   "execution_count": null,
   "id": "5090ebd1",
   "metadata": {},
   "outputs": [],
   "source": [
    "library(fgsea)\n",
    "library(msigdbr)"
   ]
  },
  {
   "cell_type": "code",
   "execution_count": null,
   "id": "f23499af",
   "metadata": {
    "scrolled": true
   },
   "outputs": [],
   "source": [
    "fgseaRes <- fgsea(pathways = fgsea_sets_hs_c7, \n",
    "                 stats = ranks_cd8_t0)"
   ]
  },
  {
   "cell_type": "code",
   "execution_count": null,
   "id": "55be39f0",
   "metadata": {},
   "outputs": [],
   "source": [
    "fgseaRes  %>% arrange(pval)"
   ]
  },
  {
   "cell_type": "code",
   "execution_count": null,
   "id": "5faa15a0",
   "metadata": {},
   "outputs": [],
   "source": [
    "fgseaRes  %>% dplyr::filter(grepl(pathway, pattern = \"GSE11057_NAIVE_VS_EFF_MEMORY_CD4_TCELL\"))"
   ]
  },
  {
   "cell_type": "code",
   "execution_count": null,
   "id": "3fc7d4e4",
   "metadata": {},
   "outputs": [],
   "source": [
    "options(repr.plot.width = 5, repr.plot.height = 3)\n",
    "plotEnrichment(fgsea_sets_hs_c7[[\"GSE11057_NAIVE_VS_EFF_MEMORY_CD4_TCELL_DN\"]],\n",
    "               ranks_cd8_t0) + labs(title=\"GSE11057_NAIVE_VS_EFF_MEMORY_CD4_TCELL_DN\") +\n",
    "ylim(c(-0.9,0.4))\n",
    "#ggsave(filename = paste0(\"../figures/gsea/GSE11057_NAIVE_VS_EFF_MEMORY_CD4_TCELL_DN.svg\"), \n",
    "#       width = 9.5, height = 8, units = \"cm\")"
   ]
  },
  {
   "cell_type": "code",
   "execution_count": null,
   "id": "170dcb8a",
   "metadata": {},
   "outputs": [],
   "source": [
    "options(repr.plot.width = 5, repr.plot.height = 3)\n",
    "plotEnrichment(fgsea_sets_hs_c7[[\"GSE11057_NAIVE_VS_EFF_MEMORY_CD4_TCELL_UP\"]],\n",
    "               ranks_cd8_t0) + labs(title=\"GSE11057_NAIVE_VS_EFF_MEMORY_CD4_TCELL_UP\") +\n",
    "ylim(c(-0.9,0.4))\n",
    "#ggsave(filename = paste0(\"../figures/gsea/GSE11057_NAIVE_VS_EFF_MEMORY_CD4_TCELL_DN.svg\"), \n",
    "#       width = 9.5, height = 8, units = \"cm\")"
   ]
  },
  {
   "cell_type": "code",
   "execution_count": null,
   "id": "73969c6c",
   "metadata": {},
   "outputs": [],
   "source": [
    "options(repr.plot.width = 5, repr.plot.height = 3)\n",
    "plotEnrichment(fgsea_sets_hs_c7[[\"KAECH_NAIVE_VS_MEMORY_CD8_TCELL_DN\"]],\n",
    "               ranks_cd8_t0) + labs(title=\"KAECH_NAIVE_VS_MEMORY_CD8_TCELL_DN\") +\n",
    "ylim(c(-0.9,0.4))"
   ]
  },
  {
   "cell_type": "code",
   "execution_count": null,
   "id": "891cff51",
   "metadata": {},
   "outputs": [],
   "source": [
    "options(repr.plot.width = 5, repr.plot.height = 3)\n",
    "plotEnrichment(fgsea_sets_hs_c7[[\"KAECH_NAIVE_VS_MEMORY_CD8_TCELL_UP\"]],\n",
    "               ranks_cd8_t0) + labs(title=\"KAECH_NAIVE_VS_MEMORY_CD8_TCELL_UP\") +\n",
    "ylim(c(-0.9,0.4))"
   ]
  },
  {
   "cell_type": "code",
   "execution_count": null,
   "id": "45d18788",
   "metadata": {},
   "outputs": [],
   "source": []
  },
  {
   "cell_type": "markdown",
   "id": "bc0afde9",
   "metadata": {},
   "source": [
    "## DE NK"
   ]
  },
  {
   "cell_type": "code",
   "execution_count": null,
   "id": "a6144c1b",
   "metadata": {},
   "outputs": [],
   "source": [
    "  nk.bulk <- subset(bulk_pbmc, cd4_or_cd8_2 == \"NK-DN\")\n",
    "  Idents(nk.bulk) <- \"Disease\"\n",
    "  de_markers <- FindMarkers(nk.bulk, ident.1 = \"D\", ident.2 = \"H\", slot = \"counts\", test.use = \"DESeq2\",\n",
    "      verbose = F)\n",
    "  de_markers$gene <- rownames(de_markers)"
   ]
  },
  {
   "cell_type": "code",
   "execution_count": null,
   "id": "58a1c733",
   "metadata": {},
   "outputs": [],
   "source": [
    "  ggplot(de_markers, aes(avg_log2FC, -log10(p_val))) + geom_point(size = 0.5, alpha = 0.5) + theme_bw() +\n",
    "      ylab(\"-log10(unadjusted p-value)\") + geom_text_repel(aes(label = ifelse(p_val_adj < 0.01, gene,\n",
    "      \"\")), colour = \"red\", size = 3)"
   ]
  },
  {
   "cell_type": "code",
   "execution_count": null,
   "id": "6377efd6",
   "metadata": {},
   "outputs": [],
   "source": [
    "de_markers  %>% \n",
    "dplyr::filter(!grepl(gene, pattern = \"^MT\"))  %>% \n",
    "  dplyr::filter(!grepl(gene, pattern = \"\\\\.\"))  %>% \n",
    "  dplyr::filter(!grepl(gene, pattern = \"\\\\-\"))  %>% \n",
    "mutate(label = ifelse(gene %in% c(\"IL7R\",\n",
    "\"LEF1\",\n",
    "\"TCF7\",\n",
    "\"CCR7\",\n",
    "\"SELL\",\n",
    "\"BACH2\",\n",
    "\"NELL2\",\n",
    "\"PRF1\",\n",
    "                                  \"ZFP36L2\",\n",
    "                                  \"CXCR4\",\n",
    "\"NKG7\",\n",
    "\"GZMB\",\n",
    "\"CST7\",\n",
    "\"GNLY\",\n",
    "\"CX3CR1\",\n",
    "\"CCL5\",\n",
    "\"TNF\",\n",
    "\"KLRG1\",\n",
    "\"TBX21\"), gene, NA_character_))  %>% \n",
    "ggplot(aes(avg_log2FC, -log10(p_val))) + geom_point(size = 0.5, alpha = 0.5) + theme_bw() +\n",
    "      ylab(\"-log10(unadjusted p-value)\") + geom_text_repel(aes(label = ifelse(p_val < 0.5, label,\n",
    "      \"\")), colour = \"red\", size = 3)"
   ]
  },
  {
   "cell_type": "code",
   "execution_count": null,
   "id": "e45cd365",
   "metadata": {
    "scrolled": true
   },
   "outputs": [],
   "source": [
    "fc.df.deseq  <- de_markers  %>% dplyr::filter(!grepl(gene, pattern = \"^MT\"))  %>% \n",
    "  dplyr::filter(!grepl(gene, pattern = \"\\\\.\"))  %>% \n",
    "  dplyr::filter(!grepl(gene, pattern = \"LINC\"))  %>% \n",
    "  dplyr::filter(!grepl(gene, pattern = \"HNRNP\"))  %>% \n",
    "  dplyr::filter(!grepl(gene, pattern = \"^MIR\"))  %>% \n",
    "  dplyr::filter(!grepl(gene, pattern = \"orf\"))  %>% \n",
    "  dplyr::filter(!grepl(gene, pattern = \"^RP[LS]\"))  %>% \n",
    "  dplyr::filter(!grepl(gene, pattern = \"\\\\-\")) %>% \n",
    "arrange(desc(avg_log2FC)) %>% \n",
    "  dplyr::select(gene, avg_log2FC)\n",
    "\n",
    "ranks_nk_t0 <- deframe(fc.df.deseq)\n",
    "ranks_nk_t0  "
   ]
  },
  {
   "cell_type": "code",
   "execution_count": null,
   "id": "883d8217",
   "metadata": {},
   "outputs": [],
   "source": [
    "library(fgsea)\n",
    "library(msigdbr)"
   ]
  },
  {
   "cell_type": "code",
   "execution_count": null,
   "id": "35afce8f",
   "metadata": {
    "scrolled": true
   },
   "outputs": [],
   "source": [
    "fgseaRes <- fgsea(pathways = fgsea_sets_hs_c7, \n",
    "                 stats = ranks_nk_t0)"
   ]
  },
  {
   "cell_type": "code",
   "execution_count": null,
   "id": "7c92b108",
   "metadata": {},
   "outputs": [],
   "source": [
    "fgseaRes  %>% arrange(pval)"
   ]
  },
  {
   "cell_type": "code",
   "execution_count": null,
   "id": "506d3dd7",
   "metadata": {},
   "outputs": [],
   "source": [
    "fgseaRes  %>% dplyr::filter(grepl(pathway, pattern = \"NAIVE\"))"
   ]
  },
  {
   "cell_type": "code",
   "execution_count": null,
   "id": "355c19b6",
   "metadata": {},
   "outputs": [],
   "source": [
    "options(repr.plot.width = 5, repr.plot.height = 3)\n",
    "plotEnrichment(fgsea_sets_hs_c7[[\"GOLDRATH_NAIVE_VS_EFF_CD8_TCELL_UP\"]],\n",
    "               ranks_nk_t0) + labs(title=\"GOLDRATH_NAIVE_VS_EFF_CD8_TCELL_UP\") +\n",
    "ylim(c(-0.9,0.4))\n",
    "#ggsave(filename = paste0(\"../figures/gsea/GSE11057_NAIVE_VS_EFF_MEMORY_nk_TCELL_DN.svg\"), \n",
    "#       width = 9.5, height = 8, units = \"cm\")"
   ]
  },
  {
   "cell_type": "code",
   "execution_count": null,
   "id": "621a0421",
   "metadata": {},
   "outputs": [],
   "source": [
    "options(repr.plot.width = 5, repr.plot.height = 3)\n",
    "plotEnrichment(fgsea_sets_hs_c7[[\"GOLDRATH_NAIVE_VS_EFF_CD8_TCELL_DN\"]],\n",
    "               ranks_nk_t0) + labs(title=\"GOLDRATH_NAIVE_VS_EFF_CD8_TCELL_DN\") +\n",
    "ylim(c(-0.9,0.4))\n",
    "#ggsave(filename = paste0(\"../figures/gsea/GSE11057_NAIVE_VS_EFF_MEMORY_nk_TCELL_DN.svg\"), \n",
    "#       width = 9.5, height = 8, units = \"cm\")"
   ]
  },
  {
   "cell_type": "code",
   "execution_count": null,
   "id": "0b5b25d2",
   "metadata": {},
   "outputs": [],
   "source": [
    "options(repr.plot.width = 5, repr.plot.height = 3)\n",
    "plotEnrichment(fgsea_sets_hs_c7[[\"GSE9650_NAIVE_VS_EFF_CD8_TCELL_DN\"]],\n",
    "               ranks_nk_t0) + labs(title=\"GSE9650_NAIVE_VS_EFF_CD8_TCELL_DN\") +\n",
    "ylim(c(-0.9,0.4))"
   ]
  },
  {
   "cell_type": "code",
   "execution_count": null,
   "id": "58b48146",
   "metadata": {},
   "outputs": [],
   "source": [
    "options(repr.plot.width = 5, repr.plot.height = 3)\n",
    "plotEnrichment(fgsea_sets_hs_c7[[\"GSE9650_NAIVE_VS_EFF_CD8_TCELL_UP\"]],\n",
    "               ranks_nk_t0) + labs(title=\"GSE9650_NAIVE_VS_EFF_CD8_TCELL_UP\") +\n",
    "ylim(c(-0.9,0.4))"
   ]
  },
  {
   "cell_type": "code",
   "execution_count": null,
   "id": "881bafee",
   "metadata": {},
   "outputs": [],
   "source": []
  },
  {
   "cell_type": "code",
   "execution_count": null,
   "id": "0a05bcfc",
   "metadata": {},
   "outputs": [],
   "source": []
  }
 ],
 "metadata": {
  "kernelspec": {
   "display_name": "R",
   "language": "R",
   "name": "ir"
  },
  "language_info": {
   "codemirror_mode": "r",
   "file_extension": ".r",
   "mimetype": "text/x-r-source",
   "name": "R",
   "pygments_lexer": "r",
   "version": "4.4.2"
  },
  "toc": {
   "base_numbering": 1,
   "nav_menu": {},
   "number_sections": true,
   "sideBar": true,
   "skip_h1_title": false,
   "title_cell": "Table of Contents",
   "title_sidebar": "Contents",
   "toc_cell": false,
   "toc_position": {},
   "toc_section_display": true,
   "toc_window_display": true
  }
 },
 "nbformat": 4,
 "nbformat_minor": 5
}
