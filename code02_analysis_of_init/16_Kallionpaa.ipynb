{
 "cells": [
  {
   "cell_type": "markdown",
   "id": "1076df42",
   "metadata": {},
   "source": [
    "# Part 16: Analysis of scRNAseq data from Kallionpaa et al., 2019"
   ]
  },
  {
   "cell_type": "code",
   "execution_count": null,
   "id": "f741a879",
   "metadata": {
    "scrolled": true
   },
   "outputs": [],
   "source": [
    "source(\"diabetes_analysis_v07.R\")\n",
    "\n",
    "rank_score_func <- function(df){\n",
    "df <- df %>% mutate(score = -1*log(p_val_adj+(10^-310))*avg_log2FC*(pct.1/(pct.2+10^-300)))\n",
    "return(df)\n",
    "}\n",
    "\n"
   ]
  },
  {
   "cell_type": "markdown",
   "id": "09f08092",
   "metadata": {},
   "source": [
    "# Loading and preprocessing data"
   ]
  },
  {
   "cell_type": "markdown",
   "id": "cb38e3fd",
   "metadata": {},
   "source": [
    "This is a reanalysis of data published in [Kallionpaa et al., 2019](https://diabetesjournals.org/diabetes/article-split/68/10/2024/35360/Early-Detection-of-Peripheral-Blood-Cell-Signature). The raw data files were downloaded after approval by the data accession commitee from the EGA archive [EGAD00001005768](https://ega-archive.org/datasets/EGAD00001005768) and mapped and counted using 10x Cellranger software v7.1.0 and the GRCh38 human transcriptome."
   ]
  },
  {
   "cell_type": "code",
   "execution_count": null,
   "id": "91a13ccd",
   "metadata": {},
   "outputs": [],
   "source": [
    "# List paths for reading individual datasets\n",
    "file_paths <- paste0(list.dirs(\"../../../Project scRNAseq/Analysis of previously published data/068_Kallionpaa_diabimmune/scRNAseq/raw/cellranger\", \n",
    "                       recursive = F),\"/outs/filtered_feature_bc_matrix\")"
   ]
  },
  {
   "cell_type": "code",
   "execution_count": null,
   "id": "e9dd0fcf",
   "metadata": {},
   "outputs": [],
   "source": [
    "# Use the short name for sample identification\n",
    "file_paths2  <- list.dirs(\"../../../Project scRNAseq/Analysis of previously published data/068_Kallionpaa_diabimmune/scRNAseq/raw/cellranger\", \n",
    "                       recursive = F, full.names = F)"
   ]
  },
  {
   "cell_type": "code",
   "execution_count": null,
   "id": "8787bea4",
   "metadata": {},
   "outputs": [],
   "source": [
    "file_paths2"
   ]
  },
  {
   "cell_type": "markdown",
   "id": "538f08f9",
   "metadata": {},
   "source": [
    "The function process_dataset takes the input files and file names specified in file_paths and file_paths2, it uses the Read10X function to load the datasets, create Seurat objects, calculate the percentage of mitochondrial and ribosomal genes and SCTransformation.\n",
    "    The individual datasets are saved in a temp_data folder and named with a suffix \"_full.rds\"."
   ]
  },
  {
   "cell_type": "code",
   "execution_count": null,
   "id": "ca3c313a",
   "metadata": {},
   "outputs": [],
   "source": [
    "full_dataset2 <- map(1:length(file_paths2),process_dataset)"
   ]
  },
  {
   "cell_type": "code",
   "execution_count": null,
   "id": "7e513869",
   "metadata": {},
   "outputs": [],
   "source": [
    "full_dataset <- Merge_Seurat_List(full_dataset2)"
   ]
  },
  {
   "cell_type": "code",
   "execution_count": null,
   "id": "6ba15071",
   "metadata": {},
   "outputs": [],
   "source": [
    "options(future.globals.maxSize = 10000 * 1024^2)\n",
    "\n",
    "full_dataset <- NormalizeData(full_dataset, verbose = FALSE)\n",
    "full_dataset <- ScaleData(full_dataset, verbose = FALSE)\n",
    "full_dataset <- FindVariableFeatures(full_dataset, nfeatures = 1000, verbose = FALSE)\n",
    "full_dataset <- RunPCA(full_dataset)\n",
    "full_dataset <- RunUMAP(full_dataset, dims = 1:10)\n",
    "full_dataset <- FindNeighbors(full_dataset)\n",
    "full_dataset <- FindClusters(full_dataset, resolution = 0.2)\n",
    "saveRDS(full_dataset, \"../data/Kallionpaa_2019/kallionpaa_full.rds\")\n",
    "\n",
    "DimPlot(full_dataset, group.by = \"source\")\n",
    "DimPlot(full_dataset, label = T)\n",
    "\n",
    "FeaturePlot(full_dataset, features = \"nCount_RNA\")\n",
    "FeaturePlot(full_dataset, features = \"MKI67\")\n",
    "FeaturePlot(full_dataset, features = \"CD4\")\n",
    "FeaturePlot(full_dataset, features = \"CD8A\")\n",
    "FeaturePlot(full_dataset, features = \"CD3D\")\n",
    "FeaturePlot(full_dataset, features = \"CD3D\")"
   ]
  },
  {
   "cell_type": "markdown",
   "id": "41ea16f5",
   "metadata": {},
   "source": [
    "### Annotation of cell types"
   ]
  },
  {
   "cell_type": "code",
   "execution_count": null,
   "id": "fa33ffb9",
   "metadata": {},
   "outputs": [],
   "source": [
    "mid.se <- celldex::MonacoImmuneData()\n",
    "hpca.se  <- celldex::HumanPrimaryCellAtlasData()\n",
    "\n",
    "load(\"../data/ref_wherry_new.RData\")"
   ]
  },
  {
   "cell_type": "code",
   "execution_count": null,
   "id": "b986fc94",
   "metadata": {},
   "outputs": [],
   "source": [
    "full_dataset  <- annotate_tcell_data(full_dataset)"
   ]
  },
  {
   "cell_type": "code",
   "execution_count": null,
   "id": "00a0b260",
   "metadata": {},
   "outputs": [],
   "source": [
    "saveRDS(full_dataset, \"../data/Kallionpaa_2019/kallionpaa_full.rds\")"
   ]
  },
  {
   "cell_type": "code",
   "execution_count": null,
   "id": "5d4c702e",
   "metadata": {},
   "outputs": [],
   "source": [
    "options(repr.plot.width = 12, repr.plot.height = 9)\n",
    "DimPlot(full_dataset, group.by = \"Monaco_single\", label = T, repel = T)"
   ]
  },
  {
   "cell_type": "code",
   "execution_count": null,
   "id": "bedd2a00",
   "metadata": {},
   "outputs": [],
   "source": [
    "full_dataset_filt  <- subset(full_dataset, seurat_clusters %in% c(0:3,5))"
   ]
  },
  {
   "cell_type": "code",
   "execution_count": null,
   "id": "e6a8a221",
   "metadata": {},
   "outputs": [],
   "source": [
    "options(future.globals.maxSize = 10000 * 1024^2)\n",
    "full_dataset_filt <- SCTransform(full_dataset_filt)\n",
    "full_dataset_filt <- RunPCA(full_dataset_filt)\n",
    "full_dataset_filt <- RunUMAP(full_dataset_filt, dims = 1:10)\n",
    "full_dataset_filt <- FindNeighbors(full_dataset_filt)\n",
    "full_dataset_filt <- FindClusters(full_dataset_filt, resolution = 0.2)\n",
    "saveRDS(full_dataset_filt, \"kalinopaa_full_filt.rds\")\n",
    "\n",
    "DimPlot(full_dataset_filt, group.by = \"source\")\n",
    "DimPlot(full_dataset_filt, label = T)\n",
    "\n",
    "FeaturePlot(full_dataset_filt, features = \"nCount_RNA\")\n",
    "FeaturePlot(full_dataset_filt, features = \"MKI67\")\n",
    "FeaturePlot(full_dataset_filt, features = \"CD4\")\n",
    "FeaturePlot(full_dataset_filt, features = \"CD8A\")\n",
    "FeaturePlot(full_dataset_filt, features = \"CD3D\")\n",
    "FeaturePlot(full_dataset_filt, features = \"CD3D\")"
   ]
  },
  {
   "cell_type": "code",
   "execution_count": null,
   "id": "fd9a9bd6",
   "metadata": {},
   "outputs": [],
   "source": [
    "FeaturePlot(full_dataset_filt, features = c(\"MKI67\", \"CD8A\"))\n"
   ]
  },
  {
   "cell_type": "code",
   "execution_count": null,
   "id": "9cc35d45",
   "metadata": {},
   "outputs": [],
   "source": [
    "full_dataset_filt <- FindClusters(full_dataset_filt, resolution = 0.7)"
   ]
  },
  {
   "cell_type": "code",
   "execution_count": null,
   "id": "90547e8e",
   "metadata": {},
   "outputs": [],
   "source": [
    "DimPlot(full_dataset_filt, label = T)"
   ]
  },
  {
   "cell_type": "code",
   "execution_count": null,
   "id": "30abf6cd",
   "metadata": {},
   "outputs": [],
   "source": [
    "DimPlot(full_dataset_filt, label = T, group.by = \"Monaco_single\", repel = T)"
   ]
  },
  {
   "cell_type": "code",
   "execution_count": null,
   "id": "1fe57d05",
   "metadata": {},
   "outputs": [],
   "source": [
    "options(repr.plot.width = 20)\n",
    "VlnPlot(full_dataset_filt, features = c(\"percent.mt\", \"percent.rp\", \"nCount_RNA\", \"nFeature_RNA\"), ncol = 4)"
   ]
  },
  {
   "cell_type": "markdown",
   "id": "3e0f3f6c",
   "metadata": {},
   "source": [
    "### Remove dead cells"
   ]
  },
  {
   "cell_type": "code",
   "execution_count": null,
   "id": "dd24dc27",
   "metadata": {},
   "outputs": [],
   "source": [
    "cutoff_nFeature_RNA <- 500\n",
    "cutoff_percent_mt <- 7\n",
    "cluster_exclude <- c(5,8)"
   ]
  },
  {
   "cell_type": "code",
   "execution_count": null,
   "id": "266a630d",
   "metadata": {},
   "outputs": [],
   "source": [
    "p1 <- ggplot(data.frame(nCount_RNA = full_dataset_filt$nCount_RNA,\n",
    "                  nFeature_RNA = full_dataset_filt$nFeature_RNA,\n",
    "                  percent_mt = full_dataset_filt$percent.mt,\n",
    "                  seurat_clusters = full_dataset_filt$seurat_clusters,\n",
    "                  exclude = ifelse(full_dataset_filt$seurat_clusters %in% cluster_exclude, TRUE, FALSE)), \n",
    "       aes(x = seurat_clusters, y = percent_mt)) +\n",
    "  geom_violin(scale = \"width\", aes(fill = exclude)) + \n",
    "  geom_hline(yintercept = cutoff_percent_mt,\n",
    "               geom = \"line\", \n",
    "               width = 0.5,\n",
    "               colour = \"red\") + \n",
    "  ggtitle(\"Percent mt. cutoff\") + \n",
    "  theme_classic() +\n",
    "  scale_fill_manual(values = c(\"white\",\"red\")) +\n",
    "  theme(panel.background = element_blank(), \n",
    "        axis.text.x = element_text(angle = 0, hjust = 1)) +\n",
    "  annotate(geom = \"rect\", xmin = min(as.numeric(full_dataset_filt$seurat_clusters))-1, \n",
    "           xmax = max(as.numeric(full_dataset_filt$seurat_clusters))+1, \n",
    "           ymin=cutoff_percent_mt,ymax=1.1*(max(full_dataset_filt$percent.mt)), fill = \"red\", alpha = 0.1)\n",
    "\n",
    "p2 <- ggplot(data.frame(nCount_RNA = full_dataset_filt$nCount_RNA,\n",
    "                  nFeature_RNA = full_dataset_filt$nFeature_RNA,\n",
    "                  percent_mt = full_dataset_filt$percent.mt,\n",
    "                  seurat_clusters = full_dataset_filt$seurat_clusters,\n",
    "                        exclude = ifelse(full_dataset_filt$seurat_clusters %in% cluster_exclude, TRUE, FALSE)), \n",
    "       aes(x = seurat_clusters, y = nFeature_RNA)) +\n",
    "  geom_violin(scale = \"width\", aes(fill = exclude)) + \n",
    "  geom_hline(yintercept = cutoff_nFeature_RNA,\n",
    "               geom = \"line\", \n",
    "               width = 0.5,\n",
    "               colour = \"red\") + \n",
    "  ggtitle(\"nFeature RNA cutoff\") + \n",
    "  theme_classic() +\n",
    "  scale_fill_manual(values = c(\"white\",\"red\")) +\n",
    "  theme(panel.background = element_blank(), \n",
    "        axis.text.x = element_text(angle = 0, hjust = 1)) +\n",
    "  annotate(geom = \"rect\", xmin = min(as.numeric(full_dataset_filt$seurat_clusters))-1, \n",
    "           xmax = max(as.numeric(full_dataset_filt$seurat_clusters))+1, \n",
    "           ymin=0, ymax=cutoff_nFeature_RNA, fill = \"red\", alpha = 0.1)"
   ]
  },
  {
   "cell_type": "code",
   "execution_count": null,
   "id": "3a7ce4a3",
   "metadata": {},
   "outputs": [],
   "source": [
    "options(repr.plot.width = 12, repr.plot.height = 5)\n",
    "p1 + p2"
   ]
  },
  {
   "cell_type": "code",
   "execution_count": null,
   "id": "8b6b8154",
   "metadata": {},
   "outputs": [],
   "source": [
    " full_dataset_filt_stacas <- subset(full_dataset_filt, \n",
    "                       ((seurat_clusters %in% cluster_exclude) == F) &\n",
    "                      percent.mt < cutoff_percent_mt &\n",
    "                      nFeature_RNA > cutoff_nFeature_RNA)"
   ]
  },
  {
   "cell_type": "code",
   "execution_count": null,
   "id": "94c0001d",
   "metadata": {},
   "outputs": [],
   "source": [
    "merged.list  <- SplitObject(full_dataset_filt_stacas, split.by = \"source\")"
   ]
  },
  {
   "cell_type": "markdown",
   "id": "1ba366ce",
   "metadata": {},
   "source": [
    "## STACAS Integration over Patient"
   ]
  },
  {
   "cell_type": "code",
   "execution_count": null,
   "id": "82399b04",
   "metadata": {},
   "outputs": [],
   "source": [
    "plan(\"sequential\")"
   ]
  },
  {
   "cell_type": "code",
   "execution_count": null,
   "id": "49fe928d",
   "metadata": {
    "scrolled": true
   },
   "outputs": [],
   "source": [
    "# normalize and identify variable features for each dataset independently\n",
    "merged.list <- lapply(X = merged.list, FUN = function(x) {\n",
    "    DefaultAssay(x)  <- \"RNA\"\n",
    "    x$barcode  <- colnames(x)\n",
    "    x <- NormalizeData(x)\n",
    "    x <- FindVariableFeatures(x, selection.method = \"vst\", nfeatures = 2000)\n",
    "})\n",
    "\n",
    "library(STACAS)\n",
    "\n",
    "full_dataset_filt_stacas <- Run.STACAS(merged.list, dims = 1:12)\n",
    "full_dataset_filt_stacas <- RunUMAP(full_dataset_filt_stacas, dims = 1:12) "
   ]
  },
  {
   "cell_type": "code",
   "execution_count": null,
   "id": "ecf36669",
   "metadata": {
    "scrolled": true
   },
   "outputs": [],
   "source": [
    "# Visualize\n",
    "\n",
    "DimPlot(full_dataset_filt_stacas, group.by = c(\"source\"))"
   ]
  },
  {
   "cell_type": "code",
   "execution_count": null,
   "id": "0e1d2f45",
   "metadata": {},
   "outputs": [],
   "source": [
    "saveRDS(full_dataset_filt_stacas, \"kalinopaa_filt_stacas.rds\")"
   ]
  },
  {
   "cell_type": "code",
   "execution_count": null,
   "id": "66c63fc4",
   "metadata": {},
   "outputs": [],
   "source": [
    "DefaultAssay(full_dataset_filt_stacas)  <- \"RNA\""
   ]
  },
  {
   "cell_type": "code",
   "execution_count": null,
   "id": "989df1d0",
   "metadata": {},
   "outputs": [],
   "source": [
    "FeaturePlot(full_dataset_filt_stacas, features = \"FOXP3\", min.cutoff = 0, max.cutoff = 1)"
   ]
  },
  {
   "cell_type": "code",
   "execution_count": null,
   "id": "1cbb26e0",
   "metadata": {},
   "outputs": [],
   "source": [
    "FeaturePlot(full_dataset_filt_stacas, features = \"MKI67\", min.cutoff = 0, max.cutoff = 1)"
   ]
  },
  {
   "cell_type": "code",
   "execution_count": null,
   "id": "3bf80e82",
   "metadata": {},
   "outputs": [],
   "source": [
    "FeaturePlot(full_dataset_filt_stacas, features = \"IL32\", min.cutoff = 0, max.cutoff = 1)"
   ]
  },
  {
   "cell_type": "code",
   "execution_count": null,
   "id": "1ae57191",
   "metadata": {
    "scrolled": false
   },
   "outputs": [],
   "source": [
    "options(repr.plot.width = 16, repr.plot.height = 8)\n",
    "\n",
    "FeaturePlot(full_dataset_filt_stacas, features = c(\"CD4\", \"FOXP3\", \"CD44\", \"CCL5\", \"TBX21\", \"IFNG\", \"PDCD1\", \"BCL6\"), ncol = 4)"
   ]
  },
  {
   "cell_type": "code",
   "execution_count": null,
   "id": "078368be",
   "metadata": {},
   "outputs": [],
   "source": [
    "options(repr.plot.width = 16, repr.plot.height = 8)\n",
    "\n",
    "FeaturePlot(full_dataset_filt_stacas, features = c(\"SELL\", \"ZBTB16\", \"BHLHE40\", \"FOXP3\", \"IL2RA\", \"ZEB2\", \"ZEB1\", \"CSF2\"), ncol = 4)"
   ]
  },
  {
   "cell_type": "code",
   "execution_count": null,
   "id": "0b497c37",
   "metadata": {},
   "outputs": [],
   "source": [
    "full_dataset_filt_stacas@meta.data  <- full_dataset_filt_stacas@meta.data  %>% mutate(Condition = substr(source,1,4))"
   ]
  },
  {
   "cell_type": "code",
   "execution_count": null,
   "id": "d3b5d625",
   "metadata": {
    "scrolled": true
   },
   "outputs": [],
   "source": [
    "# Visualize\n",
    "\n",
    "DimPlot(full_dataset_filt_stacas, group.by = c(\"source\"))"
   ]
  },
  {
   "cell_type": "code",
   "execution_count": null,
   "id": "aca9c27d",
   "metadata": {},
   "outputs": [],
   "source": [
    "options(repr.plot.width = 8, repr.plot.height = 5)\n",
    "DimPlot(full_dataset_filt_stacas, group.by = c(\"Condition\"))"
   ]
  },
  {
   "cell_type": "code",
   "execution_count": null,
   "id": "d5da790c",
   "metadata": {},
   "outputs": [],
   "source": [
    "DefaultAssay(full_dataset_filt_stacas)  <- \"RNA\""
   ]
  },
  {
   "cell_type": "code",
   "execution_count": null,
   "id": "0e2a501e",
   "metadata": {},
   "outputs": [],
   "source": [
    "FeaturePlot(full_dataset_filt_stacas, features = \"CD8A\", min.cutoff = 0, max.cutoff = 1)"
   ]
  },
  {
   "cell_type": "code",
   "execution_count": null,
   "id": "b08df810",
   "metadata": {},
   "outputs": [],
   "source": [
    "FeaturePlot(full_dataset_filt_stacas, features = \"FOXP3\", min.cutoff = 0, max.cutoff = 1)"
   ]
  },
  {
   "cell_type": "code",
   "execution_count": null,
   "id": "7954fd2f",
   "metadata": {},
   "outputs": [],
   "source": [
    "FeaturePlot(full_dataset_filt_stacas, features = \"CD4\", min.cutoff = 0, max.cutoff = 1)"
   ]
  },
  {
   "cell_type": "code",
   "execution_count": null,
   "id": "8cc727d6",
   "metadata": {
    "scrolled": false
   },
   "outputs": [],
   "source": [
    "options(repr.plot.width = 16, repr.plot.height = 8)\n",
    "\n",
    "FeaturePlot(full_dataset_filt_stacas, features = c(\"CD4\", \"FOXP3\", \"CD44\", \"CCL5\", \"TBX21\", \"IFNG\", \"PDCD1\", \"BCL6\"), ncol = 4)"
   ]
  },
  {
   "cell_type": "code",
   "execution_count": null,
   "id": "43d5ffc8",
   "metadata": {
    "scrolled": true
   },
   "outputs": [],
   "source": [
    "options(repr.plot.width = 6, repr.plot.height = 5)\n",
    "DimPlot(full_dataset_filt_stacas, label = T)"
   ]
  },
  {
   "cell_type": "code",
   "execution_count": null,
   "id": "5638521f",
   "metadata": {},
   "outputs": [],
   "source": [
    "options(repr.plot.width = 10, repr.plot.height = 6)\n",
    "DimPlot(full_dataset_filt_stacas, label = T, group.by = \"Monaco_single\", repel = T)"
   ]
  },
  {
   "cell_type": "code",
   "execution_count": null,
   "id": "6a02e6ed",
   "metadata": {},
   "outputs": [],
   "source": [
    "saveRDS(full_dataset_filt_stacas, \"kalinopaa_filt_stacas.rds\")"
   ]
  }
 ],
 "metadata": {
  "kernelspec": {
   "display_name": "R",
   "language": "R",
   "name": "ir"
  },
  "language_info": {
   "codemirror_mode": "r",
   "file_extension": ".r",
   "mimetype": "text/x-r-source",
   "name": "R",
   "pygments_lexer": "r",
   "version": "4.5.1"
  },
  "toc": {
   "base_numbering": 1,
   "nav_menu": {},
   "number_sections": true,
   "sideBar": true,
   "skip_h1_title": false,
   "title_cell": "Table of Contents",
   "title_sidebar": "Contents",
   "toc_cell": false,
   "toc_position": {},
   "toc_section_display": true,
   "toc_window_display": true
  }
 },
 "nbformat": 4,
 "nbformat_minor": 5
}
