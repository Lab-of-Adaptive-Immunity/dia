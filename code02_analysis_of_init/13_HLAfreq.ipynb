{
 "cells": [
  {
   "cell_type": "code",
   "execution_count": null,
   "id": "4dc82d68",
   "metadata": {},
   "outputs": [],
   "source": [
    "pip install --trusted-host pypi.python.org --trusted-host files.pythonhosted.org --trusted-host pypi.org --trusted-host pypi.python.org HLAfreq\n"
   ]
  },
  {
   "cell_type": "code",
   "execution_count": null,
   "id": "636b3b2a",
   "metadata": {},
   "outputs": [],
   "source": [
    "import matplotlib.pyplot as plt\n",
    "import HLAfreq\n",
    "from HLAfreq import HLAfreq_pymc\n",
    "base_url = HLAfreq.makeURL(country=\"Mongolia\", standard=\"g\", locus=\"DQB1\")\n",
    "aftab = HLAfreq.getAFdata(base_url)\n",
    "caf = HLAfreq.combineAF(aftab)"
   ]
  },
  {
   "cell_type": "code",
   "execution_count": null,
   "id": "e2ca73c1",
   "metadata": {},
   "outputs": [],
   "source": [
    "hdi = HLAfreq_pymc.AFhdi(aftab)\n",
    "HLAfreq.plotAF(caf, aftab, hdi=hdi, compound_mean=hdi) "
   ]
  },
  {
   "cell_type": "code",
   "execution_count": null,
   "id": "015eeaba",
   "metadata": {},
   "outputs": [],
   "source": [
    "hdi = HLAfreq_pymc.AFhdi(aftab)\n",
    "HLAfreq.plotAF(caf, aftab, hdi=hdi, compound_mean=hdi) \n",
    "base_url = HLAfreq.makeURL(country=\"Czech Republic\", standard=\"g\", locus=\"DQB1\")\n",
    "aftab = HLAfreq.getAFdata(base_url)\n",
    "caf = HLAfreq.combineAF(aftab)"
   ]
  },
  {
   "cell_type": "code",
   "execution_count": null,
   "id": "0416a431",
   "metadata": {},
   "outputs": [],
   "source": [
    "base_url = HLAfreq.makeURL(country=\"Czech Republic\", standard=\"g\", locus=\"DQB1\")"
   ]
  },
  {
   "cell_type": "code",
   "execution_count": null,
   "id": "9bc96545",
   "metadata": {},
   "outputs": [],
   "source": [
    "aftab = HLAfreq.getAFdata(base_url)"
   ]
  },
  {
   "cell_type": "code",
   "execution_count": null,
   "id": "4aba7243",
   "metadata": {},
   "outputs": [],
   "source": [
    "aftab"
   ]
  },
  {
   "cell_type": "code",
   "execution_count": null,
   "id": "e6544bd7",
   "metadata": {},
   "outputs": [],
   "source": [
    "import pandas as pd"
   ]
  },
  {
   "cell_type": "code",
   "execution_count": null,
   "id": "80c5fd31",
   "metadata": {},
   "outputs": [],
   "source": [
    "country = \"Czech Republic\"\n",
    "\n",
    "base_url = HLAfreq.makeURL(country)\n",
    "aftab = HLAfreq.getAFdata(base_url)\n",
    "aftab = HLAfreq.decrease_resolution(aftab, 2)\n",
    "aftab.to_csv(\"%s_raw.csv\" %country, index=False)"
   ]
  },
  {
   "cell_type": "code",
   "execution_count": null,
   "id": "7b445cc8",
   "metadata": {},
   "outputs": [],
   "source": [
    "aftab = HLAfreq.only_complete(aftab)"
   ]
  },
  {
   "cell_type": "code",
   "execution_count": null,
   "id": "d814b695",
   "metadata": {},
   "outputs": [],
   "source": [
    "HLAfreq.check_resolution(aftab)\n",
    "aftab = HLAfreq.decrease_resolution(aftab, 2)"
   ]
  },
  {
   "cell_type": "code",
   "execution_count": null,
   "id": "a6492c8b",
   "metadata": {},
   "outputs": [],
   "source": []
  },
  {
   "cell_type": "code",
   "execution_count": null,
   "id": "417dc370",
   "metadata": {},
   "outputs": [],
   "source": []
  },
  {
   "cell_type": "code",
   "execution_count": null,
   "id": "26174343",
   "metadata": {},
   "outputs": [],
   "source": [
    "caf = HLAfreq.combineAF(aftab)"
   ]
  },
  {
   "cell_type": "code",
   "execution_count": null,
   "id": "452d873b",
   "metadata": {},
   "outputs": [],
   "source": [
    "base_url = HLAfreq.makeURL(country=\"Mongolia\", standard=\"g\", locus=\"DQB1\")\n",
    "aftab = HLAfreq.getAFdata(base_url)\n",
    "caf = HLAfreq.combineAF(aftab)"
   ]
  }
 ],
 "metadata": {
  "kernelspec": {
   "display_name": "celldancer",
   "language": "python",
   "name": "celldancer"
  },
  "language_info": {
   "codemirror_mode": {
    "name": "ipython",
    "version": 3
   },
   "file_extension": ".py",
   "mimetype": "text/x-python",
   "name": "python",
   "nbconvert_exporter": "python",
   "pygments_lexer": "ipython3",
   "version": "3.8.13"
  },
  "toc": {
   "base_numbering": 1,
   "nav_menu": {},
   "number_sections": true,
   "sideBar": true,
   "skip_h1_title": false,
   "title_cell": "Table of Contents",
   "title_sidebar": "Contents",
   "toc_cell": false,
   "toc_position": {},
   "toc_section_display": true,
   "toc_window_display": true
  }
 },
 "nbformat": 4,
 "nbformat_minor": 5
}
