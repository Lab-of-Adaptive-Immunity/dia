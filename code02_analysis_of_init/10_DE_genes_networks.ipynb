{
 "cells": [
  {
   "cell_type": "markdown",
   "id": "a767826f",
   "metadata": {},
   "source": [
    "# Part 10: DEG analysis "
   ]
  },
  {
   "cell_type": "markdown",
   "id": "3bff94e3",
   "metadata": {},
   "source": [
    "In this document, we will focus on the analysis of differential expressed genes (DEG). We have already obtained the DEG before in parts 6 and 7 of the analysis. The results will be loaded and built upon.  "
   ]
  },
  {
   "cell_type": "code",
   "execution_count": null,
   "id": "8704100f",
   "metadata": {
    "scrolled": true
   },
   "outputs": [],
   "source": [
    "source(\"diabetes_analysis_v07.R\")\n",
    "\n",
    "rank_score_func <- function(df){\n",
    "df <- df %>% mutate(score = -1*log(p_val_adj+(10^-310))*avg_log2FC*(pct.1/(pct.2+10^-300)))\n",
    "return(df)\n",
    "}\n",
    "\n"
   ]
  },
  {
   "cell_type": "markdown",
   "id": "a1ee6c0c",
   "metadata": {},
   "source": [
    "We will be using some additional libraries:"
   ]
  },
  {
   "cell_type": "code",
   "execution_count": null,
   "id": "355a91ec",
   "metadata": {
    "scrolled": true
   },
   "outputs": [],
   "source": [
    "library(msigdbr)\n",
    "library(clusterProfiler)\n",
    "library(org.Hs.eg.db)\n",
    "library(enrichplot)\n",
    "library(EnsDb.Hsapiens.v86)\n",
    "library(fgsea)\n",
    "library(pheatmap)"
   ]
  },
  {
   "cell_type": "markdown",
   "id": "e50b23dd",
   "metadata": {},
   "source": [
    "Formating of plots in ggplot:"
   ]
  },
  {
   "cell_type": "code",
   "execution_count": null,
   "id": "b571ab5e",
   "metadata": {},
   "outputs": [],
   "source": [
    "ggtheme <- function() {\n",
    "  theme(\n",
    "    axis.text = element_text(size = 20),\n",
    "    axis.title = element_text(size = 20),\n",
    "    text = element_text(size = 20, colour = \"black\"),\n",
    "    legend.text = element_text(size = 20),\n",
    "    legend.key.size =  unit(10, units = \"points\")\n",
    "    \n",
    "  )\n",
    "}"
   ]
  },
  {
   "cell_type": "markdown",
   "id": "fc8bc4ff",
   "metadata": {},
   "source": [
    "# Load markers, add EnsID"
   ]
  },
  {
   "cell_type": "markdown",
   "id": "01d3a45a",
   "metadata": {},
   "source": [
    "We will now load the markers we calculated in parts 6 and 7 of the analysis pipeline. As we have the The precalculated gene tables can be also downloaded from Zenodo: [DOI: 10.5281/zenodo.14222418](https://zenodo.org/records/14222418) "
   ]
  },
  {
   "cell_type": "code",
   "execution_count": null,
   "id": "3acf83b1",
   "metadata": {},
   "outputs": [],
   "source": [
    "markers_cd4  <- read_csv(\"../tables/de_genes/240319_cd4_all_markers_without_sex.csv\")\n",
    "markers_cd8  <- read_csv(\"../tables/de_genes/240319_cd8_all_markers_without_sex.csv\")"
   ]
  },
  {
   "cell_type": "markdown",
   "id": "9402c586",
   "metadata": {},
   "source": [
    "As we have the sample information stored, we can bind markers all toghether. "
   ]
  },
  {
   "cell_type": "code",
   "execution_count": null,
   "id": "d06018bb",
   "metadata": {},
   "outputs": [],
   "source": [
    "all_markers  <- rbind(markers_cd4, markers_cd8)"
   ]
  },
  {
   "cell_type": "code",
   "execution_count": null,
   "id": "e8bddd28",
   "metadata": {},
   "outputs": [],
   "source": [
    "all_markers$source  %>% table"
   ]
  },
  {
   "cell_type": "markdown",
   "id": "d2a75068",
   "metadata": {},
   "source": [
    "We will now clean the metadata of the DEG a bit and add the Up or Down direction, which indicated the direction of the change. Up means a gene is expressed more in the worse condition, i.e. T1D compared to Healthy, T1D T0 compared to T1D T1, no partial remission at T1 compared to partial remission at T1, etc. "
   ]
  },
  {
   "cell_type": "code",
   "execution_count": null,
   "id": "0cfe21f1",
   "metadata": {},
   "outputs": [],
   "source": [
    "all_markers  <- all_markers  %>% mutate(\n",
    "direction = case_when(test_type == \"Dia T1 vs Ctrl T0\" & cluster == \"Ctrl T0\" ~ \"Down\",\n",
    "                      test_type == \"Dia T1 vs Ctrl T0\" & cluster == \"Dia T1\" ~ \"Up\",\n",
    "                      \n",
    "                      test_type == \"Dia T0 vs Ctrl T0\" & cluster == \"Ctrl T0\" ~ \"Down\",\n",
    "                      test_type == \"Dia T0 vs Ctrl T0\" & cluster == \"Dia T0\" ~ \"Up\",\n",
    "                      \n",
    "                      test_type == \"Dia T0 vs Dia T1\" & cluster == \"Dia T0\" ~ \"Up\",\n",
    "                      test_type == \"Dia T0 vs Dia T1\" & cluster == \"Dia T1\" ~ \"Down\",\n",
    "                      \n",
    "                      test_type == \"PR_0 T0 vs PR_0 T1\" & cluster == \"PR_0 T0\" ~ \"Up\",\n",
    "                      test_type == \"PR_0 T0 vs PR_0 T1\" & cluster == \"PR_0 T1\" ~ \"Down\",\n",
    "                      \n",
    "                      test_type == \"PR_0 T0 vs PR_1 T0\" & cluster == \"PR_0 T0\" ~ \"Up\",\n",
    "                      test_type == \"PR_0 T0 vs PR_1 T0\" & cluster == \"PR_1 T0\" ~ \"Down\",\n",
    "                      \n",
    "                      test_type == \"PR_0 T1 vs PR_1 T1\" & cluster == \"PR_0 T1\" ~ \"Up\",\n",
    "                      test_type == \"PR_0 T1 vs PR_1 T1\" & cluster == \"PR_1 T1\" ~ \"Down\",\n",
    "                      \n",
    "                      test_type == \"PR_1 T0 vs PR_1 T1\" & cluster == \"PR_1 T0\" ~ \"Up\",\n",
    "                      test_type == \"PR_1 T0 vs PR_1 T1\" & cluster == \"PR_1 T1\" ~ \"Down\",\n",
    "                      \n",
    "                      test_type == \"Keto_1 T0 vs Keto_0 T0\" & cluster == \"Keto_0 T0\" ~ \"Down\",\n",
    "                      test_type == \"Keto_1 T0 vs Keto_0 T0\" & cluster == \"Keto_1 T0\" ~ \"Up\"\n",
    "                      \n",
    "                     ))"
   ]
  },
  {
   "cell_type": "code",
   "execution_count": null,
   "id": "9a8cce13",
   "metadata": {
    "scrolled": true
   },
   "outputs": [],
   "source": [
    "all_markers  %>% group_by(cluster, test_type, direction)  %>% tally"
   ]
  },
  {
   "cell_type": "markdown",
   "id": "a10e1487",
   "metadata": {},
   "source": [
    "Add Ensembl IDs for each gene as they are needed for some analyses."
   ]
  },
  {
   "cell_type": "code",
   "execution_count": null,
   "id": "19d2463a",
   "metadata": {},
   "outputs": [],
   "source": [
    "geneIDs1 <- ensembldb::select(EnsDb.Hsapiens.v86, keys= (all_markers$gene  %>% unique ), \n",
    "                              keytype = \"SYMBOL\", columns = c(\"SYMBOL\",\"ENTREZID\"))"
   ]
  },
  {
   "cell_type": "code",
   "execution_count": null,
   "id": "d246f594",
   "metadata": {},
   "outputs": [],
   "source": [
    "colnames(geneIDs1)  <- c(\"gene\", \"entrezid\")"
   ]
  },
  {
   "cell_type": "code",
   "execution_count": null,
   "id": "710ce0e0",
   "metadata": {},
   "outputs": [],
   "source": [
    "all_markers2  <- all_markers  %>% \n",
    "                    left_join(geneIDs1) "
   ]
  },
  {
   "cell_type": "code",
   "execution_count": null,
   "id": "3fbf3631",
   "metadata": {
    "scrolled": true
   },
   "outputs": [],
   "source": [
    "all_markers2"
   ]
  },
  {
   "cell_type": "code",
   "execution_count": null,
   "id": "4422d52e",
   "metadata": {},
   "outputs": [],
   "source": [
    "all_markers$gene_direction  <- paste(all_markers$gene, all_markers$direction)"
   ]
  },
  {
   "cell_type": "code",
   "execution_count": null,
   "id": "a53f7e59",
   "metadata": {},
   "outputs": [],
   "source": [
    "all_markers2$gene_direction  <- paste(all_markers2$gene, all_markers2$direction)"
   ]
  },
  {
   "cell_type": "markdown",
   "id": "fa58023e",
   "metadata": {},
   "source": [
    "# Counts of DE genes"
   ]
  },
  {
   "cell_type": "markdown",
   "id": "b81867de",
   "metadata": {},
   "source": [
    "### RNA"
   ]
  },
  {
   "cell_type": "markdown",
   "id": "7ecac56e",
   "metadata": {},
   "source": [
    "Let's visualize the counts of DEG in all clusters."
   ]
  },
  {
   "cell_type": "code",
   "execution_count": null,
   "id": "882d4023",
   "metadata": {},
   "outputs": [],
   "source": [
    "options(repr.plot.width = 10, repr.plot.height = 5)\n",
    "all_markers  %>% \n",
    "group_by(cluster, source, test_type, dataset)  %>% \n",
    "dplyr::filter(source == \"scRNAseq_RNA\")  %>% \n",
    "ggplot(aes(x = dataset)) +\n",
    "geom_bar(aes(fill = test_type), position = \"stack\") + coord_flip() "
   ]
  },
  {
   "cell_type": "markdown",
   "id": "e26b1f35",
   "metadata": {},
   "source": [
    "Split up different comparisons:"
   ]
  },
  {
   "cell_type": "code",
   "execution_count": null,
   "id": "fea180f6",
   "metadata": {},
   "outputs": [],
   "source": [
    "options(repr.plot.width = 20, repr.plot.height = 5)\n",
    "all_markers  %>% \n",
    "group_by(cluster, source, test_type, dataset)  %>% \n",
    "dplyr::filter(source == \"scRNAseq_RNA\" & test_type != \"Cpept_HI_T1 vs Cpept_LO_T1\")  %>% \n",
    "ggplot(aes(x = dataset)) +\n",
    "facet_grid(cols = vars(test_type)) +\n",
    "geom_bar(aes(fill = cluster), position = \"stack\") + coord_flip() "
   ]
  },
  {
   "cell_type": "markdown",
   "id": "a8988526",
   "metadata": {},
   "source": [
    "Add a bit of formating."
   ]
  },
  {
   "cell_type": "code",
   "execution_count": null,
   "id": "829559b0",
   "metadata": {
    "scrolled": true
   },
   "outputs": [],
   "source": [
    "all_markers  %>% \n",
    "group_by(cluster, source, test_type, dataset)  %>% \n",
    "mutate(dataset = stringr::str_to_upper(gsub(dataset, pattern = \"_\", replacement = \" \")))  %>% \n",
    "dplyr::filter(source == \"scRNAseq_RNA\" & test_type != \"Cpept_HI_T1 vs Cpept_LO_T1\")  %>% \n",
    "ggplot(aes(x = dataset)) +\n",
    "facet_grid(cols = vars(test_type)) +\n",
    "geom_bar(aes(fill = direction), position = \"stack\") + coord_flip() +\n",
    "ggtheme() + \n",
    "theme_bw() + \n",
    "scale_fill_manual(values = c(\"#90c2f1ff\", \"#d0625dff\")) + theme(axis.ticks.y = element_blank())\n"
   ]
  },
  {
   "cell_type": "code",
   "execution_count": null,
   "id": "1efcb3ce",
   "metadata": {},
   "outputs": [],
   "source": [
    "all_markers  %>% \n",
    "group_by(cluster, source, test_type, dataset)  %>% \n",
    "mutate(dataset = stringr::str_to_upper(gsub(dataset, pattern = \"_\", replacement = \" \")))  %>% \n",
    "dplyr::filter(source == \"scRNAseq_RNA\" & test_type != \"Cpept_HI_T1 vs Cpept_LO_T1\" &\n",
    "             test_type != \"PR_0 T0 vs PR_0 T1\" & test_type != \"PR_0 T1 vs PR_1 T1\" &\n",
    "             test_type != \"PR_1 T0 vs PR_1 T1\" )  %>% \n",
    "ggplot(aes(x = dataset)) +\n",
    "facet_grid(cols = vars(test_type)) +\n",
    "geom_bar(aes(fill = direction), position = \"stack\") + coord_flip() +\n",
    "ggtheme() + \n",
    "theme_bw() + \n",
    "scale_fill_manual(values = c(\"#90c2f1ff\", \"#d0625dff\")) + theme(axis.ticks.y = element_blank())\n"
   ]
  },
  {
   "cell_type": "code",
   "execution_count": null,
   "id": "353851d3",
   "metadata": {},
   "outputs": [],
   "source": [
    "library(svglite)\n",
    "dir.create(\"../figures/DE_genes/\")\n",
    "ggsave(filename = \"../figures/DE_genes/count_of_RNA_markers.svg\", width = 11, height = 4)"
   ]
  },
  {
   "cell_type": "markdown",
   "id": "fc446aa8",
   "metadata": {},
   "source": [
    "### CollecTRI"
   ]
  },
  {
   "cell_type": "markdown",
   "id": "90115817",
   "metadata": {},
   "source": [
    "We can do the same thing of differentially active transcriptional factors estimated by DecoupleR package:"
   ]
  },
  {
   "cell_type": "code",
   "execution_count": null,
   "id": "c353854a",
   "metadata": {},
   "outputs": [],
   "source": [
    "all_markers  %>% \n",
    "group_by(cluster, source, test_type, dataset)  %>% \n",
    "dplyr::filter(source == \"scRNAseq_collecTRI\")  %>% \n",
    "ggplot(aes(x = dataset)) +\n",
    "geom_bar(aes(fill = test_type), position = \"stack\") + coord_flip() "
   ]
  },
  {
   "cell_type": "code",
   "execution_count": null,
   "id": "209aa07e",
   "metadata": {},
   "outputs": [],
   "source": [
    "all_markers  %>% \n",
    "group_by(cluster, source, test_type, dataset)  %>% \n",
    "dplyr::filter(source == \"scRNAseq_collecTRI\")  %>% \n",
    "ggplot(aes(x = dataset)) +\n",
    "facet_grid(cols = vars(test_type)) +\n",
    "geom_bar(aes(fill = cluster), position = \"stack\") + coord_flip() "
   ]
  },
  {
   "cell_type": "code",
   "execution_count": null,
   "id": "136830d9",
   "metadata": {
    "scrolled": true
   },
   "outputs": [],
   "source": [
    "all_markers  %>% dplyr::filter(source == \"scRNAseq_collecTRI\")  %>% \n",
    "mutate(gene_direction = paste(gene, direction))  %>% \n",
    "group_by(gene, gene_direction)  %>% tally  %>% arrange(desc(n))"
   ]
  },
  {
   "cell_type": "markdown",
   "id": "1a967e3b",
   "metadata": {},
   "source": [
    "# Genes with similar DE trend in T0 and T1"
   ]
  },
  {
   "cell_type": "markdown",
   "id": "d894ca58",
   "metadata": {},
   "source": [
    "In this part, we will look at the markers and check which of them are consistently up- or downregulated at both T0 and T1. "
   ]
  },
  {
   "cell_type": "markdown",
   "id": "7228ec65",
   "metadata": {},
   "source": [
    "## Overlap of DEG in T0 and T1"
   ]
  },
  {
   "cell_type": "markdown",
   "id": "fd3e18ef",
   "metadata": {},
   "source": [
    "First, we will see which genes show up the most times in our DE results. "
   ]
  },
  {
   "cell_type": "code",
   "execution_count": null,
   "id": "80ea271d",
   "metadata": {},
   "outputs": [],
   "source": [
    "i = 1"
   ]
  },
  {
   "cell_type": "code",
   "execution_count": null,
   "id": "196eef27",
   "metadata": {},
   "outputs": [],
   "source": [
    " mrk_clust  <- all_markers  %>% dplyr::filter(source == \"scRNAseq_RNA\") %>% \n",
    "mutate(gene_direction = paste(gene, direction))   %>% \n",
    "dplyr::filter(test_type %in% c(\"Dia T0 vs Ctrl T0\", \"Dia T1 vs Ctrl T0\") &\n",
    "             dataset == datasets[1])  %>% group_by(gene_direction)   %>% tally()  %>% arrange(desc(n))  %>% \n",
    "dplyr::filter(n>1)\n",
    "mrk_clust$dataset  <- datasets[1]"
   ]
  },
  {
   "cell_type": "code",
   "execution_count": null,
   "id": "55b26e97",
   "metadata": {},
   "outputs": [],
   "source": [
    "mrk_clust_all  <- mrk_clust"
   ]
  },
  {
   "cell_type": "code",
   "execution_count": null,
   "id": "32de69dd",
   "metadata": {},
   "outputs": [],
   "source": [
    "for(i in 2:length(datasets)){\n",
    "    mrk_clust  <- all_markers  %>% dplyr::filter(source == \"scRNAseq_RNA\") %>% \n",
    "mutate(gene_direction = paste(gene, direction))   %>% \n",
    "dplyr::filter(test_type %in% c(\"Dia T0 vs Ctrl T0\", \"Dia T1 vs Ctrl T0\") &\n",
    "             dataset == datasets[i])  %>% group_by(gene_direction)   %>% tally()  %>% arrange(desc(n))  %>% \n",
    "dplyr::filter(n>1)\n",
    "    mrk_clust$dataset  <- datasets[i]\n",
    "    mrk_clust_all  <- rbind(mrk_clust_all, mrk_clust)\n",
    "    }\n"
   ]
  },
  {
   "cell_type": "code",
   "execution_count": null,
   "id": "1005a4ba",
   "metadata": {
    "scrolled": true
   },
   "outputs": [],
   "source": [
    "mrk_clust_all  %>% nrow"
   ]
  },
  {
   "cell_type": "markdown",
   "id": "3e7744b3",
   "metadata": {},
   "source": [
    "In this table, we show the DEG from our analysis with the direction of change and the counts it occurs among significantly up/down regulated genes when looking at the contrasts `\"Dia T0 vs Ctrl T0\"` and `\"Dia T1 vs Ctrl T0\"` across all the subpopulations we have defined.  "
   ]
  },
  {
   "cell_type": "code",
   "execution_count": null,
   "id": "13e6a66a",
   "metadata": {
    "scrolled": true
   },
   "outputs": [],
   "source": [
    "mrk_clust_all  %>% group_by(gene_direction)  %>% \n",
    "tally  %>% arrange(desc(n))  %>% separate(gene_direction, into = c(\"gene\", \"direction\"),\n",
    "                                          sep = \" \", remove = F)  %>% \n",
    "dplyr::filter(direction == \"Down\")"
   ]
  },
  {
   "cell_type": "markdown",
   "id": "25532f68",
   "metadata": {},
   "source": [
    "Let's see what are the top downregulated genes (down in T1D compared to healthy)."
   ]
  },
  {
   "cell_type": "code",
   "execution_count": null,
   "id": "9b696334",
   "metadata": {},
   "outputs": [],
   "source": [
    "down_genes  <- mrk_clust_all  %>% group_by(gene_direction)  %>% \n",
    "tally  %>% arrange(desc(n))  %>% separate(gene_direction, into = c(\"gene\", \"direction\"),\n",
    "                                          sep = \" \", remove = F)  %>% \n",
    "dplyr::filter(direction == \"Down\")  %>% pull(gene)"
   ]
  },
  {
   "cell_type": "code",
   "execution_count": null,
   "id": "f9c0d192",
   "metadata": {},
   "outputs": [],
   "source": [
    "down_genes"
   ]
  },
  {
   "cell_type": "markdown",
   "id": "c799803d",
   "metadata": {},
   "source": [
    "Let's see what are the top upregulated genes (up in T1D compared to healthy)."
   ]
  },
  {
   "cell_type": "code",
   "execution_count": null,
   "id": "26ae7b16",
   "metadata": {
    "scrolled": true
   },
   "outputs": [],
   "source": [
    "up_genesd  <- mrk_clust_all  %>% group_by(gene_direction)  %>% \n",
    "tally  %>% arrange(desc(n))  %>% separate(gene_direction, into = c(\"gene\", \"direction\"),\n",
    "                                          sep = \" \", remove = F)  %>% \n",
    "dplyr::filter(direction == \"Up\")  %>% pull(gene)"
   ]
  },
  {
   "cell_type": "code",
   "execution_count": null,
   "id": "adfa3aa1",
   "metadata": {},
   "outputs": [],
   "source": [
    "up_genesd"
   ]
  },
  {
   "cell_type": "markdown",
   "id": "cda0059e",
   "metadata": {},
   "source": [
    "## Genes in T1 and T0 using fold changes"
   ]
  },
  {
   "cell_type": "markdown",
   "id": "f8cd87bf",
   "metadata": {},
   "source": [
    "To plot all genes, we will use fold changes rather that the list of DEG, as we're interested also in the direction of change, even if it is not significant. "
   ]
  },
  {
   "cell_type": "markdown",
   "id": "dc6ac93e",
   "metadata": {},
   "source": [
    "We will load the fold changes calculated in parts 06 and 07 of the analysis. The precalculated values are saved also on Zenodo. "
   ]
  },
  {
   "cell_type": "code",
   "execution_count": null,
   "id": "b39cbd73",
   "metadata": {},
   "outputs": [],
   "source": [
    "set_path_to_wd = \"../../240218_VN_Diabetes_V05/\""
   ]
  },
  {
   "cell_type": "code",
   "execution_count": null,
   "id": "c657ea0d",
   "metadata": {},
   "outputs": [],
   "source": [
    "paths_fc  <- list.files(paste0(set_path_to_wd, \"tables/fold_change\"), full.names = T)\n",
    "dataset_names  <- list.files(paste0(set_path_to_wd, \"tables/fold_change\"), full.names = F)"
   ]
  },
  {
   "cell_type": "code",
   "execution_count": null,
   "id": "aac9c49e",
   "metadata": {},
   "outputs": [],
   "source": [
    "paths_fc"
   ]
  },
  {
   "cell_type": "code",
   "execution_count": null,
   "id": "994aae66",
   "metadata": {},
   "outputs": [],
   "source": [
    "paths_fc  <- paths_fc[which(grepl(paths_fc, pattern = \"Ctrl\"))]"
   ]
  },
  {
   "cell_type": "code",
   "execution_count": null,
   "id": "454d65d6",
   "metadata": {},
   "outputs": [],
   "source": [
    "dataset_names  <- dataset_names[which(grepl(dataset_names, pattern = \"Ctrl\"))]"
   ]
  },
  {
   "cell_type": "code",
   "execution_count": null,
   "id": "18519219",
   "metadata": {
    "scrolled": false
   },
   "outputs": [],
   "source": [
    "dataset_names"
   ]
  },
  {
   "cell_type": "code",
   "execution_count": null,
   "id": "00059dfc",
   "metadata": {
    "scrolled": true
   },
   "outputs": [],
   "source": [
    "paths_fc"
   ]
  },
  {
   "cell_type": "markdown",
   "id": "fff2d1db",
   "metadata": {},
   "source": [
    "We will create one table containing the fold changes from the DiaT0_vs_Ctrl contrast. "
   ]
  },
  {
   "cell_type": "code",
   "execution_count": null,
   "id": "abc1646b",
   "metadata": {},
   "outputs": [],
   "source": [
    "all_fcs1  <- function(j) {\n",
    "  print(j)\n",
    "fc.df  <- read_csv(paths_fc[j])  %>% as.data.frame()\n",
    "  fc.df  <- fc.df  %>%  arrange(desc(avg_log2FC)) %>% \n",
    "dplyr::filter(grepl(cluster, pattern = \"Dia\")) \n",
    " fc.df$dataset  <-   gsub(dataset_names[j], pattern = \".csv\", replacement = \"\")\n",
    " fc.df$dataset  <-   gsub(fc.df$dataset, pattern = \"_Ctrl_vs_DiaT0\", replacement = \"\")\n",
    " fc.df$comaprison = \"DiaT0_vs_Ctrl\"   \n",
    "    \n",
    " return(fc.df)\n",
    "    }"
   ]
  },
  {
   "cell_type": "code",
   "execution_count": null,
   "id": "29f21f2b",
   "metadata": {
    "scrolled": true
   },
   "outputs": [],
   "source": [
    "all_fcs1_result  <- map(seq(from = 1, to = 41, by = 2), all_fcs1)"
   ]
  },
  {
   "cell_type": "code",
   "execution_count": null,
   "id": "d872d46d",
   "metadata": {},
   "outputs": [],
   "source": [
    "all_fcs_result  <- bind_rows(all_fcs1_result)"
   ]
  },
  {
   "cell_type": "markdown",
   "id": "e9b342b4",
   "metadata": {},
   "source": [
    "We will create another table containing the fold changes from the DiaT1_vs_Ctrl contrast. "
   ]
  },
  {
   "cell_type": "code",
   "execution_count": null,
   "id": "65d72bac",
   "metadata": {},
   "outputs": [],
   "source": [
    "all_fcs2  <- function(j) {\n",
    "  print(j)\n",
    "fc.df  <- read_csv(paths_fc[j])  %>% as.data.frame()\n",
    "  fc.df  <- fc.df  %>%  arrange(desc(avg_log2FC)) %>% \n",
    "dplyr::filter(grepl(cluster, pattern = \"Dia\")) \n",
    " fc.df$dataset  <-   gsub(dataset_names[j], pattern = \".csv\", replacement = \"\")\n",
    " fc.df$dataset  <-   gsub(fc.df$dataset, pattern = \"_Ctrl_vs_DiaT1\", replacement = \"\")\n",
    " fc.df$comaprison = \"DiaT1_vs_Ctrl\"\n",
    "    \n",
    " return(fc.df)\n",
    "    }"
   ]
  },
  {
   "cell_type": "code",
   "execution_count": null,
   "id": "120b3236",
   "metadata": {
    "scrolled": true
   },
   "outputs": [],
   "source": [
    "all_fcs2_result  <- map(seq(from = 2, to = 42, by = 2), all_fcs2)"
   ]
  },
  {
   "cell_type": "code",
   "execution_count": null,
   "id": "b5d70f8b",
   "metadata": {},
   "outputs": [],
   "source": [
    "all_fcs2_result  <- bind_rows(all_fcs2_result)"
   ]
  },
  {
   "cell_type": "markdown",
   "id": "ae25672c",
   "metadata": {},
   "source": [
    "Now let's bind the two tables together. "
   ]
  },
  {
   "cell_type": "code",
   "execution_count": null,
   "id": "942e0e43",
   "metadata": {},
   "outputs": [],
   "source": [
    "all_fcs_result  <- rbind(all_fcs_result, all_fcs2_result)"
   ]
  },
  {
   "cell_type": "markdown",
   "id": "9549b4dd",
   "metadata": {},
   "source": [
    "Now we can visualize the top up/down regulated genes in both time points with all fold change values. "
   ]
  },
  {
   "cell_type": "code",
   "execution_count": null,
   "id": "27579b27",
   "metadata": {},
   "outputs": [],
   "source": [
    "options(repr.plot.height = 7, repr.plot.width = 25)\n",
    "all_fcs_result  %>% \n",
    "mutate(is_shared  = gene %in% up_genesd | gene %in% down_genes,\n",
    "       direction_t0_t1 = ifelse(gene %in% up_genesd, \"UP\", ifelse(gene %in% down_genes, \"DOWN\", NA_character_)))  %>% \n",
    "dplyr::filter(is_shared == TRUE)  %>% \n",
    "ggplot(aes(factor(gene), dataset)) + \n",
    "facet_grid(cols = vars(direction_t0_t1), rows = vars(comaprison), space = \"free\", scales = \"free\") +\n",
    "  geom_point(aes(size = -log(p_val_adj, base = 10), colour = avg_log2FC, alpha = p_val_adj < 0.05)) + \n",
    "  theme_bw()  + scale_size_continuous(range=c(1,4)) +\n",
    "scale_alpha_manual(values = c(0.4,1)) +\n",
    " scale_colour_gradient2(low = \"blue\", mid = \"white\", high = \"red\") + \n",
    " theme(axis.text.x = element_text(angle = 90))"
   ]
  },
  {
   "cell_type": "markdown",
   "id": "4771c39c",
   "metadata": {},
   "source": [
    "Another visualization will be the logFC/logFC plot, which compares the logFC at T0 and at T1. "
   ]
  },
  {
   "cell_type": "markdown",
   "id": "b82bae19",
   "metadata": {},
   "source": [
    "Set the colors."
   ]
  },
  {
   "cell_type": "code",
   "execution_count": null,
   "id": "3aceba99",
   "metadata": {},
   "outputs": [],
   "source": [
    "colors_of_populations = c(\n",
    "    'cd4_l1_full' = \"#ffa66aff\",\n",
    "    'cd4_l2_subcluster'  = \"#ffa66aff\",\n",
    "    'cd4_l2_unc'  = \"#cd3333ff\",\n",
    "    'cd4_l3_isaghi'  = \"#a46464ff\",\n",
    "    'cd4_l3_naive'  = \"#a58413ff\",\n",
    "    'cd4_l3_nfkb'  = \"#a46c43ff\",\n",
    "    'cd4_l3_proliferating'  = \"#9b3097ff\", \n",
    "    'cd4_l3_temra'  = \"#7d252aff\",\n",
    "    'cd4_l3_tfh'  = \"#8e6a1dff\",\n",
    "    'cd4_l3_th1th17'  = \"#a94e4eff\",\n",
    "    'cd4_l3_th2'  = \"#b36672ff\",\n",
    "    'cd4_l3_treg'  = \"#ba6d8dff\",\n",
    "    'cd8_l1_full'  = \"#67934aff\",\n",
    "    'cd8_l2_nk'  = \"#105292ff\",\n",
    "    'cd8_l2_subcluster' = \"#67934aff\", \n",
    "    'cd8_l2_unc'  = \"#6d00c0ff\",\n",
    "    'cd8_l3_naive'  = \"#004455ff\",\n",
    "    'cd8_l3_prolif'  = \"#5f711aff\",\n",
    "    'cd8_l3_tcm'  = \"#427c39ff\",\n",
    "    'cd8_l3_tem'  = \"#004455ff\",\n",
    "    'cd8_l3_temra'  = \"#16481fff\",\n",
    "    \"grey\" = \"grey88\"\n",
    ")"
   ]
  },
  {
   "cell_type": "markdown",
   "id": "75c7d8a6",
   "metadata": {},
   "source": [
    "Plot the logFC/logFC plot for the main datasets of CD4 and CD8 T cells. "
   ]
  },
  {
   "cell_type": "code",
   "execution_count": null,
   "id": "9e0fd53a",
   "metadata": {},
   "outputs": [],
   "source": [
    "options(repr.plot.height = 12, repr.plot.width = 14)\n",
    "\n",
    "all_fcs_result  %>% \n",
    "dplyr::filter(gene %in% all_markers$gene)  %>% \n",
    "dplyr::filter(p_val_adj < 0.05)  %>% \n",
    "dplyr::filter(!(grepl(gene, pattern = \"MTRN\")) & \n",
    "              dataset %in% c(\"cd4_l1_full_filt\", \"cd8_l1_full_filt\"))  %>% \n",
    "dplyr::select(avg_log2FC, gene, dataset, comaprison)  %>% \n",
    "pivot_wider(names_from = \"comaprison\", values_from = avg_log2FC)  %>% \n",
    "mutate(gene_in_genes = ifelse(DiaT0_vs_Ctrl > 0.15 & DiaT1_vs_Ctrl > 0.15 |\n",
    "                              DiaT0_vs_Ctrl < -0.2 & DiaT1_vs_Ctrl < -0.2, \n",
    "                              gene, NA_character_))  %>% \n",
    "ggplot(aes(x = DiaT0_vs_Ctrl, y = DiaT1_vs_Ctrl, label = gene_in_genes, color = dataset))  +\n",
    "scale_color_manual(values = c(\"#ffa66aff\",\"#67934aff\"))  +\n",
    "geom_point(aes(shape = dataset)) + \n",
    "scale_shape_manual(values = c(21,22)) +\n",
    "ggrepel::geom_text_repel() +\n",
    "theme_bw() +\n",
    "ggtheme()\n",
    "ggsave(filename = \"../figures/DE_genes/corr_DE_t0_t1.svg\", width = 14, height = 12)"
   ]
  },
  {
   "cell_type": "markdown",
   "id": "72b19987",
   "metadata": {},
   "source": [
    "Just CD4. "
   ]
  },
  {
   "cell_type": "code",
   "execution_count": null,
   "id": "93ac489d",
   "metadata": {},
   "outputs": [],
   "source": [
    "all_fcs_result  %>% \n",
    "dplyr::filter(gene %in% all_markers$gene)  %>% \n",
    "dplyr::filter(p_val_adj < 0.05)  %>% \n",
    "dplyr::filter(!(grepl(gene, pattern = \"MTRN\")) & \n",
    "              dataset %in% c(\"cd4_l1_full_filt\"))  %>% \n",
    "dplyr::select(avg_log2FC, gene, dataset, comaprison)  %>% \n",
    "pivot_wider(names_from = \"comaprison\", values_from = avg_log2FC)  %>% \n",
    "mutate(gene_in_genes = ifelse(DiaT0_vs_Ctrl > 0.10 & DiaT1_vs_Ctrl > 0.10 |\n",
    "                              DiaT0_vs_Ctrl < -0.2 & DiaT1_vs_Ctrl < -0.2 |\n",
    "                              DiaT0_vs_Ctrl < -0.1 & DiaT1_vs_Ctrl > 0.1 |\n",
    "                              DiaT0_vs_Ctrl > 0.1 & DiaT1_vs_Ctrl < -0.1 |\n",
    "                              DiaT1_vs_Ctrl < -0.5 |\n",
    "                              DiaT1_vs_Ctrl > 0.10, \n",
    "                              gene, NA_character_))  %>% \n",
    "ggplot(aes(x = DiaT0_vs_Ctrl, y = DiaT1_vs_Ctrl, label = gene_in_genes, color = dataset))  +\n",
    "scale_color_manual(values = c(\"#d45500ff\"))  +\n",
    "geom_point(aes(shape = dataset)) + \n",
    "scale_shape_manual(values = c(21,22)) +\n",
    "ggrepel::geom_text_repel() +\n",
    "theme_bw() +\n",
    "ggtheme()\n",
    "ggsave(filename = \"../figures/DE_genes/corr_DE_t0_t1_cd4.svg\", width = 14, height = 12)"
   ]
  },
  {
   "cell_type": "markdown",
   "id": "5d199bf1",
   "metadata": {},
   "source": [
    "Just CD8. "
   ]
  },
  {
   "cell_type": "code",
   "execution_count": null,
   "id": "08c219fd",
   "metadata": {},
   "outputs": [],
   "source": [
    "all_fcs_result  %>% \n",
    "dplyr::filter(gene %in% all_markers$gene)  %>% \n",
    "dplyr::filter(p_val_adj < 0.05)  %>% \n",
    "dplyr::filter(!(grepl(gene, pattern = \"MTRN\")) & \n",
    "              dataset %in% c(\"cd8_l1_full_filt\"))  %>% \n",
    "dplyr::select(avg_log2FC, gene, dataset, comaprison)  %>% \n",
    "pivot_wider(names_from = \"comaprison\", values_from = avg_log2FC)  %>% \n",
    "mutate(gene_in_genes = ifelse(DiaT0_vs_Ctrl > 0.20 & DiaT1_vs_Ctrl > 0.20 |\n",
    "                              DiaT0_vs_Ctrl < -0.2 & DiaT1_vs_Ctrl < -0.2 |\n",
    "                              DiaT0_vs_Ctrl < -0.2 & DiaT1_vs_Ctrl > 0.2 |\n",
    "                              DiaT0_vs_Ctrl > 0.1 & DiaT1_vs_Ctrl < -0.1 |\n",
    "                              DiaT1_vs_Ctrl < -0.25 |\n",
    "                             DiaT0_vs_Ctrl < -0.3 |\n",
    "                              DiaT1_vs_Ctrl < -0.1, \n",
    "                              gene, NA_character_))  %>% \n",
    "ggplot(aes(x = DiaT0_vs_Ctrl, y = DiaT1_vs_Ctrl, label = gene_in_genes, color = dataset))  +\n",
    "scale_color_manual(values = c(\"#67934aff\"))  +\n",
    "geom_point(aes(shape = dataset)) + \n",
    "scale_shape_manual(values = c(21,22)) +\n",
    "ggrepel::geom_text_repel() +\n",
    "theme_bw() +\n",
    "ggtheme()\n",
    "ggsave(filename = \"../figures/DE_genes/corr_DE_t0_t1_cd8.svg\", width = 14, height = 12)"
   ]
  },
  {
   "cell_type": "markdown",
   "id": "c89c89d1",
   "metadata": {},
   "source": [
    "For the L2 populations, we will create one plot for CD4 and one plot for CD8 cells. "
   ]
  },
  {
   "cell_type": "code",
   "execution_count": null,
   "id": "6d0e647c",
   "metadata": {},
   "outputs": [],
   "source": [
    "colors_of_populations = c(\n",
    "    'cd4_l1_full' = \"#ffa66aff\",\n",
    "    'cd4_l2_subcluster'  = \"#ffa66aff\",\n",
    "    'cd4_l2_unc'  = \"#cd3333ff\",\n",
    "    'cd4_l3_isaghi'  = \"#a46464ff\",\n",
    "    'cd4_l3_naive'  = \"#a58413ff\",\n",
    "    'cd4_l3_nfkb'  = \"#a46c43ff\",\n",
    "    'cd4_l3_proliferating'  = \"#9b3097ff\", \n",
    "    'cd4_l3_temra'  = \"#7d252aff\",\n",
    "    'cd4_l3_tfh'  = \"#8e6a1dff\",\n",
    "    'cd4_l3_th1th17'  = \"#a94e4eff\",\n",
    "    'cd4_l3_th2'  = \"#b36672ff\",\n",
    "    'cd4_l3_treg'  = \"#ba6d8dff\",\n",
    "    'cd8_l1_full'  = \"#67934aff\",\n",
    "    'cd8_l2_nk'  = \"#105292ff\",\n",
    "    'cd8_l2_subcluster' = \"#67934aff\", \n",
    "    'cd8_l2_unc'  = \"#6d00c0ff\",\n",
    "    'cd8_l3_naive'  = \"#004455ff\",\n",
    "    'cd8_l3_prolif'  = \"#5f711aff\",\n",
    "    'cd8_l3_tcm'  = \"#427c39ff\",\n",
    "    'cd8_l3_tem'  = \"#004455ff\",\n",
    "    'cd8_l3_temra'  = \"#16481fff\",\n",
    "    \"grey\" = \"grey88\"\n",
    ")"
   ]
  },
  {
   "cell_type": "markdown",
   "id": "4a89ea77",
   "metadata": {},
   "source": [
    "Plot L2 subpopulations in CD4 T cells. "
   ]
  },
  {
   "cell_type": "code",
   "execution_count": null,
   "id": "9fe5d1cd",
   "metadata": {},
   "outputs": [],
   "source": [
    "all_fcs_result  %>% \n",
    "dplyr::filter(gene %in% all_markers$gene)  %>% \n",
    "dplyr::filter(p_val_adj < 0.05)  %>% \n",
    "dplyr::filter(!(grepl(gene, pattern = \"MTRN\")) & \n",
    "              grepl(dataset, pattern = \"cd4_l3\"))  %>% \n",
    "dplyr::select(avg_log2FC, gene, dataset, comaprison)  %>% \n",
    "pivot_wider(names_from = \"comaprison\", values_from = avg_log2FC)  %>% \n",
    "mutate(gene_in_genes = ifelse(DiaT0_vs_Ctrl > 0.15 & DiaT1_vs_Ctrl > 0.15 |\n",
    "                              DiaT0_vs_Ctrl < -0.2 & DiaT1_vs_Ctrl < -0.2, \n",
    "                              gene, NA_character_))  %>% \n",
    "ggplot(aes(x = DiaT0_vs_Ctrl, y = DiaT1_vs_Ctrl, label = gene_in_genes, color = dataset))  +\n",
    "scale_color_manual(values = colors_of_populations)  +\n",
    "geom_point(aes(shape = dataset)) + \n",
    "scale_shape_manual(values = c(21:25,21:25)) +\n",
    "ggrepel::geom_text_repel() +\n",
    "theme_bw() +\n",
    "ggtheme()\n",
    "ggsave(filename = \"../figures/DE_genes/corr_DE_cd4_pop_t0_t1.svg\", width = 14, height = 12)"
   ]
  },
  {
   "cell_type": "markdown",
   "id": "dcc4b4c7",
   "metadata": {},
   "source": [
    "Plot L2 subpopulations in CD8 T cells. "
   ]
  },
  {
   "cell_type": "code",
   "execution_count": null,
   "id": "1a14377a",
   "metadata": {},
   "outputs": [],
   "source": [
    "all_fcs_result  %>% \n",
    "dplyr::filter(gene %in% all_markers$gene)  %>% \n",
    "dplyr::filter(p_val_adj < 0.05)  %>% \n",
    "dplyr::filter(!(grepl(gene, pattern = \"MTRN\")) & \n",
    "              grepl(dataset, pattern = \"cd8_l3\"))  %>% \n",
    "dplyr::select(avg_log2FC, gene, dataset, comaprison)  %>% \n",
    "pivot_wider(names_from = \"comaprison\", values_from = avg_log2FC)  %>% \n",
    "mutate(gene_in_genes = ifelse(DiaT0_vs_Ctrl > 0.15 & DiaT1_vs_Ctrl > 0.15 |\n",
    "                              DiaT0_vs_Ctrl < -0.2 & DiaT1_vs_Ctrl < -0.2, \n",
    "                              gene, NA_character_))  %>% \n",
    "ggplot(aes(x = DiaT0_vs_Ctrl, y = DiaT1_vs_Ctrl, label = gene_in_genes, color = dataset))  +\n",
    "scale_color_manual(values = colors_of_populations)  +\n",
    "geom_point(aes(shape = dataset)) + \n",
    "scale_shape_manual(values = c(21:25,21:25)) +\n",
    "ggrepel::geom_text_repel() +\n",
    "theme_bw() +\n",
    "ggtheme()\n",
    "ggsave(filename = \"../figures/DE_genes/corr_DE_cd8_pop_t0_t1.svg\", width = 14, height = 12)"
   ]
  },
  {
   "cell_type": "code",
   "execution_count": null,
   "id": "8930e68f",
   "metadata": {},
   "outputs": [],
   "source": [
    "options(repr.plot.height = 10, repr.plot.width = 13)\n",
    "\n",
    "all_fcs_result  %>% \n",
    "dplyr::filter(gene %in% all_markers$gene)  %>% \n",
    "dplyr::filter(p_val_adj < 0.05)  %>% \n",
    "dplyr::filter(!(grepl(gene, pattern = \"MTRN\")) & \n",
    "              dataset %in% c(\"cd4_l1_full_filt\", \"cd8_l1_full_filt\"))  %>% \n",
    "dplyr::select(avg_log2FC, gene, dataset, comaprison)  %>% \n",
    "pivot_wider(names_from = \"comaprison\", values_from = avg_log2FC)  %>% \n",
    "mutate(gene_in_genes = ifelse(DiaT0_vs_Ctrl > 0.15 & DiaT1_vs_Ctrl > 0.15 |\n",
    "                              DiaT0_vs_Ctrl > 0.15 & DiaT1_vs_Ctrl < -0.2 |\n",
    "                              DiaT0_vs_Ctrl < -0.2 & DiaT1_vs_Ctrl > 0.15 |\n",
    "                              DiaT0_vs_Ctrl < -0.2 & DiaT1_vs_Ctrl < -0.2, \n",
    "                              gene, NA_character_))  %>% \n",
    "ggplot(aes(x = DiaT0_vs_Ctrl, y = DiaT1_vs_Ctrl, label = gene_in_genes, color = dataset))  +\n",
    "scale_color_manual(values = c(\"#ffa66aff\",\"#67934aff\"))  +\n",
    "geom_point(aes(shape = dataset)) + \n",
    "scale_shape_manual(values = c(21,22)) +\n",
    "ggrepel::geom_text_repel() +\n",
    "theme_bw() +\n",
    "ggtheme()"
   ]
  },
  {
   "cell_type": "markdown",
   "id": "7ab417e6",
   "metadata": {},
   "source": [
    "# Heatmap markers in populations"
   ]
  },
  {
   "cell_type": "markdown",
   "id": "e552485f",
   "metadata": {},
   "source": [
    "In this section, we will create heatmaps showing the DEG between T1D and healthy in the main populations. "
   ]
  },
  {
   "cell_type": "markdown",
   "id": "30567fbe",
   "metadata": {},
   "source": [
    "For each contrast and each l2 subpopulation, we will take the top 5 genes and we will create a heatmap showing the logFCs of these genes. Statistical significance will be showed based on the adjusted p-value."
   ]
  },
  {
   "cell_type": "markdown",
   "id": "64a2744b",
   "metadata": {},
   "source": [
    "## CD4"
   ]
  },
  {
   "cell_type": "markdown",
   "id": "4be61801",
   "metadata": {},
   "source": [
    "### T1D T0 vs Ctrl"
   ]
  },
  {
   "cell_type": "markdown",
   "id": "cefee026",
   "metadata": {},
   "source": [
    "We will check the count of the union of the top 5 DEG in subpopulations and save this marker to a variable called hm. "
   ]
  },
  {
   "cell_type": "code",
   "execution_count": null,
   "id": "d9756ea8",
   "metadata": {},
   "outputs": [],
   "source": [
    "all_markers  %>% \n",
    "separate(dataset, into = c(\"cd4_cd8\", \"Level\", NA, NA), sep = \"_\", remove = F)  %>% \n",
    "dplyr::filter(cd4_cd8 == \"cd4\")  %>% \n",
    "dplyr::filter(!(dataset %in% c(\"cd8_l2_subcluster\",\"cd4_l2_subcluster\")))  %>% \n",
    "mutate(dataset = stringr::str_to_upper(gsub(dataset, pattern = \"_\", replacement = \" \")))  %>% \n",
    "dplyr::filter(source == \"scRNAseq_RNA\" & test_type == \"Dia T0 vs Ctrl T0\" )  %>% \n",
    "group_by(dataset)  %>% \n",
    "slice_max(order_by = avg_log2FC, n = 5)  %>% \n",
    "pull(gene)  %>% unique  %>% length"
   ]
  },
  {
   "cell_type": "code",
   "execution_count": null,
   "id": "c69f4728",
   "metadata": {},
   "outputs": [],
   "source": [
    "hm  <- all_markers  %>% \n",
    "separate(dataset, into = c(\"cd4_cd8\", \"Level\", NA, NA), sep = \"_\", remove = F)  %>% \n",
    "dplyr::filter(cd4_cd8 == \"cd4\")  %>%\n",
    "dplyr::filter(p_val_adj < 0.05)  %>% \n",
    "dplyr::filter(!(dataset %in% c(\"cd8_l2_subcluster\",\"cd4_l2_subcluster\")))  %>% \n",
    "mutate(dataset = stringr::str_to_upper(gsub(dataset, pattern = \"_\", replacement = \" \")))  %>% \n",
    "dplyr::filter(source == \"scRNAseq_RNA\" & test_type == \"Dia T0 vs Ctrl T0\" )  %>% \n",
    "group_by(dataset)  %>% \n",
    "slice_max(order_by = avg_log2FC, n = 5)  %>% \n",
    "pull(gene)  %>% unique "
   ]
  },
  {
   "cell_type": "markdown",
   "id": "82d00a7b",
   "metadata": {},
   "source": [
    "We will use a function to get the fold change for all of the hm genes. "
   ]
  },
  {
   "cell_type": "code",
   "execution_count": null,
   "id": "2a420fa8",
   "metadata": {},
   "outputs": [],
   "source": [
    "get_fc_genes  <- function(j) {\n",
    "  print(j)\n",
    "fc.df  <- read_csv(paths_fc[j])  %>% as.data.frame()\n",
    "    if(grepl(paths_fc[j], pattern = \"Ctrl\")){\n",
    "fc.df  <- fc.df  %>%  arrange(desc(avg_log2FC)) %>% \n",
    "dplyr::filter(grepl(cluster, pattern = \"Dia\"))  %>% \n",
    "dplyr::filter(gene %in% hm) \n",
    "        \n",
    "        } else {\n",
    "        \n",
    "   if(grepl(paths_fc[j], pattern = \"PR_0_T0\")){\n",
    "fc.df  <- fc.df  %>%  arrange(desc(avg_log2FC)) %>% \n",
    "dplyr::filter(grepl(cluster, pattern = \"PR_0 T0\"))  %>% \n",
    "dplyr::filter(gene %in% hm) \n",
    "        } else {\n",
    "       \n",
    "        if(grepl(paths_fc[j], pattern = \"keto\")){\n",
    " fc.df  <- fc.df  %>%  arrange(desc(avg_log2FC)) %>% \n",
    "dplyr::filter(grepl(cluster, pattern = \"Keto_1 T0\"))   %>% \n",
    "dplyr::filter(gene %in% hm) \n",
    "    } else {\n",
    " fc.df  <- fc.df  %>%  arrange(desc(avg_log2FC)) %>% \n",
    "dplyr::filter(grepl(cluster, pattern = \"Dia T0\"))   %>% \n",
    "dplyr::filter(gene %in% hm) \n",
    "    }}}\n",
    "\n",
    "    fc.df$dataset  <-   gsub(dataset_names[j], pattern = \".csv\", replacement = \"\")\n",
    " return(fc.df)\n",
    "    }"
   ]
  },
  {
   "cell_type": "code",
   "execution_count": null,
   "id": "03828573",
   "metadata": {
    "scrolled": true
   },
   "outputs": [],
   "source": [
    "paths_fc  <- list.files(\"../../240617_VN_Diabetes_V06/tables/fold_change/\", full.names = T)\n",
    "dataset_names  <- list.files(\"../../240617_VN_Diabetes_V06/tables/fold_change\", full.names = F)\n",
    "\n",
    "paths_fc  <- paths_fc[grepl(paths_fc, pattern = \"l3\")|grepl(paths_fc, pattern = \"cd8_l2_unc\")|\n",
    "                      grepl(paths_fc, pattern = \"cd4_l2_unc\")|grepl(paths_fc, pattern = \"cd8_l2_nk\") ]\n",
    "\n",
    "dataset_names  <- dataset_names[grepl(dataset_names, pattern = \"l3\")|grepl(dataset_names, pattern = \"cd8_l2_unc\")|\n",
    "                      grepl(dataset_names, pattern = \"cd4_l2_unc\")|grepl(dataset_names, pattern = \"cd8_l2_nk\") ]\n",
    "\n",
    "paths_fc  <- paths_fc[grepl(paths_fc, pattern = \"Ctrl_vs_DiaT0\")|grepl(paths_fc, pattern = \"DiaT0_vs_DiaT1\")|\n",
    "                      grepl(paths_fc, pattern = \"Ctrl_vs_DiaT1\")|\n",
    "                      grepl(paths_fc, pattern = \"PR_0_T0_vs_PR_1_T0\")|grepl(paths_fc, pattern = \"ketoacidosis\")]\n",
    "\n",
    "dataset_names  <- dataset_names[grepl(dataset_names, pattern = \"Ctrl_vs_DiaT0\")|grepl(dataset_names, pattern = \"DiaT0_vs_DiaT1\")|\n",
    "                      grepl(dataset_names, pattern = \"Ctrl_vs_DiaT1\")|\n",
    "                      grepl(dataset_names, pattern = \"PR_0_T0_vs_PR_1_T0\")|grepl(dataset_names, pattern = \"ketoacidosis\")]\n"
   ]
  },
  {
   "cell_type": "code",
   "execution_count": null,
   "id": "db326673",
   "metadata": {
    "scrolled": true
   },
   "outputs": [],
   "source": [
    "fcs  <- purrr::map(1:length(paths_fc), get_fc_genes)"
   ]
  },
  {
   "cell_type": "code",
   "execution_count": null,
   "id": "7127d446",
   "metadata": {},
   "outputs": [],
   "source": [
    "fcs  <- bind_rows(fcs)"
   ]
  },
  {
   "cell_type": "markdown",
   "id": "529d25b3",
   "metadata": {},
   "source": [
    "We now have the full table, so we need to clean the data and plot the heatmap. "
   ]
  },
  {
   "cell_type": "code",
   "execution_count": null,
   "id": "e1c31aba",
   "metadata": {},
   "outputs": [],
   "source": [
    "fcs$population  <- substr(fcs$dataset, 1,11)\n",
    "\n",
    "table(fcs$population)\n",
    "\n",
    "fcs  <- fcs  %>% mutate(population2 = ifelse(grepl(population, pattern = \"_nk_\"), substr(population,1,9), population))\n",
    "\n",
    "fcs$population2  %>% table\n",
    "\n",
    "fcs  <- fcs  %>% mutate(n1 = as.numeric(nchar(dataset)))  %>% \n",
    "mutate(n2 = n1-12)  %>% \n",
    "mutate(test_type = substr(dataset,n2,n1))  \n",
    "\n",
    "\n",
    "fcs$test_type  %>% table"
   ]
  },
  {
   "cell_type": "code",
   "execution_count": null,
   "id": "e41bc291",
   "metadata": {
    "scrolled": true
   },
   "outputs": [],
   "source": [
    "fcs2  <- fcs  %>% mutate(andjus_logFC = ifelse(p_val_adj<0.05,avg_log2FC,avg_log2FC)) %>% \n",
    "dplyr::filter(test_type == \"Ctrl_vs_DiaT0\") "
   ]
  },
  {
   "cell_type": "markdown",
   "id": "840f7b10",
   "metadata": {},
   "source": [
    "Please note, that we are excluding MTRN mitochondrial genes, as they're very noisy. "
   ]
  },
  {
   "cell_type": "code",
   "execution_count": null,
   "id": "9f3b8769",
   "metadata": {
    "scrolled": true
   },
   "outputs": [],
   "source": [
    "fcs2_mtx  <- fcs2  %>% \n",
    "dplyr::filter(!grepl(dataset, pattern = \"cd8\"))  %>% \n",
    "dplyr::filter(!grepl(gene, pattern = \"MTRN\"))  %>% \n",
    "dplyr::select(avg_log2FC, gene, population2)  %>% \n",
    "pivot_wider(names_from = \"population2\", values_from = \"avg_log2FC\")  %>% \n",
    "column_to_rownames(\"gene\")  %>% \n",
    "as.matrix()"
   ]
  },
  {
   "cell_type": "markdown",
   "id": "b5bbf710",
   "metadata": {},
   "source": [
    "We will define a function to recode statistical sifnificance to star. "
   ]
  },
  {
   "cell_type": "code",
   "execution_count": null,
   "id": "b55248b6",
   "metadata": {},
   "outputs": [],
   "source": [
    "pval_to_stars <- function(p) {\n",
    "   ifelse(p < 0.05, \"*\", \"\") \n",
    "}\n",
    "\n",
    "# Apply function to p-value matrix\n",
    "star_matrix <- fcs2  %>% \n",
    "dplyr::filter(!grepl(dataset, pattern = \"cd8\"))  %>% \n",
    "dplyr::filter(!grepl(gene, pattern = \"MTRN\"))  %>% \n",
    "dplyr::select(p_val_adj, gene, population2)  %>% \n",
    "mutate(p_val_adj = pval_to_stars(p_val_adj))  %>% \n",
    "pivot_wider(names_from = \"population2\", values_from = \"p_val_adj\")  %>% \n",
    "column_to_rownames(\"gene\")  %>% \n",
    "as.matrix()\n",
    "\n",
    "rownames(star_matrix) <- rownames(fcs2_mtx)\n",
    "colnames(star_matrix) <- colnames(fcs2_mtx)\n",
    "\n"
   ]
  },
  {
   "cell_type": "markdown",
   "id": "8503ed6a",
   "metadata": {},
   "source": [
    "Save the heatmap. "
   ]
  },
  {
   "cell_type": "code",
   "execution_count": null,
   "id": "5a14c5ae",
   "metadata": {},
   "outputs": [],
   "source": [
    "options(repr.plot.height = 6, repr.plot.width = 3.5)\n",
    "breaks = seq(-2, 2, length.out = 100)\n",
    "pheatmap::pheatmap(fcs2_mtx, scale = \"none\", cluster_cols = T, cluster_rows = T,\n",
    "         #color=colorRampPalette(c(\"dodgerblue\", \"grey95\", \"indianred2\"))(50), \n",
    "         border_color = \"white\", display_numbers = star_matrix, breaks = breaks,\n",
    "         color = colorRampPalette(c(\"blue\", \"white\", \"red\"))(length(breaks)),\n",
    "                   filename = \"../figures/heatmaps/hm_deg_allclusters_cd4_diaT0_ctrl.pdf\",\n",
    "                   width = 3.5, height = 7\n",
    "         )"
   ]
  },
  {
   "cell_type": "markdown",
   "id": "20182394",
   "metadata": {},
   "source": [
    "Repeat this code for each contrast. "
   ]
  },
  {
   "cell_type": "markdown",
   "id": "2257b916",
   "metadata": {},
   "source": [
    "### T1D T1 vs Ctrl"
   ]
  },
  {
   "cell_type": "code",
   "execution_count": null,
   "id": "04795a49",
   "metadata": {},
   "outputs": [],
   "source": [
    "hm  <- all_markers  %>% \n",
    "separate(dataset, into = c(\"cd4_cd8\", \"Level\", NA, NA), sep = \"_\", remove = F)  %>% \n",
    "dplyr::filter(cd4_cd8 == \"cd4\")  %>%\n",
    "dplyr::filter(p_val_adj < 0.05)  %>% \n",
    "dplyr::filter(!(dataset %in% c(\"cd8_l2_subcluster\",\"cd4_l2_subcluster\")))  %>% \n",
    "mutate(dataset = stringr::str_to_upper(gsub(dataset, pattern = \"_\", replacement = \" \")))  %>% \n",
    "dplyr::filter(source == \"scRNAseq_RNA\" & test_type == \"Dia T1 vs Ctrl T0\" )  %>% \n",
    "group_by(dataset)  %>% \n",
    "slice_max(order_by = avg_log2FC, n = 5)  %>% \n",
    "pull(gene)  %>% unique "
   ]
  },
  {
   "cell_type": "code",
   "execution_count": null,
   "id": "e56d620c",
   "metadata": {},
   "outputs": [],
   "source": [
    "fcs  <- purrr::map(1:length(paths_fc), get_fc_genes)"
   ]
  },
  {
   "cell_type": "code",
   "execution_count": null,
   "id": "41ffebe6",
   "metadata": {},
   "outputs": [],
   "source": [
    "fcs  <- bind_rows(fcs)"
   ]
  },
  {
   "cell_type": "code",
   "execution_count": null,
   "id": "a021f927",
   "metadata": {},
   "outputs": [],
   "source": [
    "fcs$population  <- substr(fcs$dataset, 1,11)\n",
    "\n",
    "table(fcs$population)\n",
    "\n",
    "fcs  <- fcs  %>% mutate(population2 = ifelse(grepl(population, pattern = \"_nk_\"), substr(population,1,9), population))\n",
    "\n",
    "fcs$population2  %>% table\n",
    "\n",
    "fcs  <- fcs  %>% mutate(n1 = as.numeric(nchar(dataset)))  %>% \n",
    "mutate(n2 = n1-12)  %>% \n",
    "mutate(test_type = substr(dataset,n2,n1))  \n",
    "\n",
    "\n",
    "fcs$test_type  %>% table"
   ]
  },
  {
   "cell_type": "code",
   "execution_count": null,
   "id": "535b60ac",
   "metadata": {
    "scrolled": true
   },
   "outputs": [],
   "source": [
    "fcs2  <- fcs  %>% mutate(andjus_logFC = ifelse(p_val_adj<0.05,avg_log2FC,avg_log2FC)) %>% \n",
    "dplyr::filter(test_type == \"Ctrl_vs_DiaT1\") "
   ]
  },
  {
   "cell_type": "code",
   "execution_count": null,
   "id": "e370a0e4",
   "metadata": {
    "scrolled": true
   },
   "outputs": [],
   "source": [
    "fcs2_mtx  <- fcs2  %>% \n",
    "dplyr::filter(!grepl(dataset, pattern = \"cd8\"))  %>% \n",
    "dplyr::filter(!grepl(gene, pattern = \"MTRN\"))  %>% \n",
    "dplyr::select(avg_log2FC, gene, population2)  %>% \n",
    "pivot_wider(names_from = \"population2\", values_from = \"avg_log2FC\")  %>% \n",
    "column_to_rownames(\"gene\")  %>% \n",
    "as.matrix()"
   ]
  },
  {
   "cell_type": "code",
   "execution_count": null,
   "id": "ab49c5cb",
   "metadata": {},
   "outputs": [],
   "source": [
    "pval_to_stars <- function(p) {\n",
    "   ifelse(p < 0.05, \"*\", \"\") \n",
    "}\n",
    "\n",
    "# Apply function to p-value matrix\n",
    "star_matrix <- fcs2  %>% \n",
    "dplyr::filter(!grepl(dataset, pattern = \"cd8\"))  %>% \n",
    "dplyr::filter(!grepl(gene, pattern = \"MTRN\"))  %>% \n",
    "dplyr::select(p_val_adj, gene, population2)  %>% \n",
    "mutate(p_val_adj = pval_to_stars(p_val_adj))  %>% \n",
    "pivot_wider(names_from = \"population2\", values_from = \"p_val_adj\")  %>% \n",
    "column_to_rownames(\"gene\")  %>% \n",
    "as.matrix()\n",
    "\n",
    "rownames(star_matrix) <- rownames(fcs2_mtx)\n",
    "colnames(star_matrix) <- colnames(fcs2_mtx)\n",
    "\n"
   ]
  },
  {
   "cell_type": "code",
   "execution_count": null,
   "id": "1792efe5",
   "metadata": {},
   "outputs": [],
   "source": [
    "pheatmap::pheatmap(fcs2_mtx, scale = \"none\", cluster_cols = T, cluster_rows = T,\n",
    "         #color=colorRampPalette(c(\"dodgerblue\", \"grey95\", \"indianred2\"))(50), \n",
    "         border_color = \"white\", display_numbers = star_matrix, breaks = breaks,\n",
    "         color = colorRampPalette(c(\"blue\", \"white\", \"red\"))(length(breaks)),\n",
    "                   #filename = \"../figures/heatmaps/hm_deg_allclusters_cd4_diaT1_ctrl.pdf\",\n",
    "                   width = 3.5, height = 7\n",
    "         )"
   ]
  },
  {
   "cell_type": "code",
   "execution_count": null,
   "id": "a9958cf9",
   "metadata": {
    "scrolled": true
   },
   "outputs": [],
   "source": [
    "options(repr.plot.height = 6, repr.plot.width = 3.5)\n",
    "breaks = seq(-2, 2, length.out = 100)\n",
    "pheatmap::pheatmap(fcs2_mtx, scale = \"none\", cluster_cols = T, cluster_rows = T,\n",
    "         #color=colorRampPalette(c(\"dodgerblue\", \"grey95\", \"indianred2\"))(50), \n",
    "         border_color = \"white\", display_numbers = star_matrix, breaks = breaks,\n",
    "         color = colorRampPalette(c(\"blue\", \"white\", \"red\"))(length(breaks)),\n",
    "                   filename = \"../figures/heatmaps/hm_deg_allclusters_cd4_diaT1_ctrl.pdf\",\n",
    "                   width = 3.5, height = 7\n",
    "         )\n",
    "\n"
   ]
  },
  {
   "cell_type": "markdown",
   "id": "8a73311e",
   "metadata": {},
   "source": [
    "### T1D T1 vs Ctrl"
   ]
  },
  {
   "cell_type": "code",
   "execution_count": null,
   "id": "f145b716",
   "metadata": {},
   "outputs": [],
   "source": [
    "hm  <- all_markers  %>% \n",
    "separate(dataset, into = c(\"cd4_cd8\", \"Level\", NA, NA), sep = \"_\", remove = F)  %>% \n",
    "dplyr::filter(cd4_cd8 == \"cd4\")  %>%\n",
    "dplyr::filter(p_val_adj < 0.05)  %>% \n",
    "dplyr::filter(!(dataset %in% c(\"cd8_l2_subcluster\",\"cd4_l2_subcluster\")))  %>% \n",
    "mutate(dataset = stringr::str_to_upper(gsub(dataset, pattern = \"_\", replacement = \" \")))  %>% \n",
    "dplyr::filter(source == \"scRNAseq_RNA\" & test_type == \"Dia T0 vs Dia T1\" )  %>% \n",
    "group_by(dataset)  %>% \n",
    "slice_max(order_by = avg_log2FC, n = 5)  %>% \n",
    "pull(gene)  %>% unique "
   ]
  },
  {
   "cell_type": "code",
   "execution_count": null,
   "id": "508b2d9c",
   "metadata": {
    "scrolled": true
   },
   "outputs": [],
   "source": [
    "fcs  <- purrr::map(1:length(paths_fc), get_fc_genes)"
   ]
  },
  {
   "cell_type": "code",
   "execution_count": null,
   "id": "62d8a1ea",
   "metadata": {},
   "outputs": [],
   "source": [
    "fcs  <- bind_rows(fcs)"
   ]
  },
  {
   "cell_type": "code",
   "execution_count": null,
   "id": "8d86a035",
   "metadata": {},
   "outputs": [],
   "source": [
    "fcs$population  <- substr(fcs$dataset, 1,11)\n",
    "\n",
    "table(fcs$population)\n",
    "\n",
    "fcs  <- fcs  %>% mutate(population2 = ifelse(grepl(population, pattern = \"_nk_\"), substr(population,1,9), population))\n",
    "\n",
    "fcs$population2  %>% table\n",
    "\n",
    "fcs  <- fcs  %>% mutate(n1 = as.numeric(nchar(dataset)))  %>% \n",
    "mutate(n2 = n1-12)  %>% \n",
    "mutate(test_type = substr(dataset,n2,n1))  \n",
    "\n",
    "\n",
    "fcs$test_type  %>% table"
   ]
  },
  {
   "cell_type": "code",
   "execution_count": null,
   "id": "e681d7e0",
   "metadata": {
    "scrolled": true
   },
   "outputs": [],
   "source": [
    "fcs2  <- fcs  %>% mutate(andjus_logFC = ifelse(p_val_adj<0.05,avg_log2FC,avg_log2FC)) %>% \n",
    "dplyr::filter(test_type == \"iaT0_vs_DiaT1\") "
   ]
  },
  {
   "cell_type": "code",
   "execution_count": null,
   "id": "853064e2",
   "metadata": {
    "scrolled": true
   },
   "outputs": [],
   "source": [
    "fcs2_mtx  <- fcs2  %>% \n",
    "dplyr::filter(!grepl(dataset, pattern = \"cd8\"))  %>% \n",
    "dplyr::filter(!grepl(gene, pattern = \"MTRN\"))  %>% \n",
    "dplyr::select(avg_log2FC, gene, population2)  %>% \n",
    "pivot_wider(names_from = \"population2\", values_from = \"avg_log2FC\")  %>% \n",
    "column_to_rownames(\"gene\")  %>% \n",
    "as.matrix()"
   ]
  },
  {
   "cell_type": "code",
   "execution_count": null,
   "id": "a2dd28e0",
   "metadata": {},
   "outputs": [],
   "source": [
    "pval_to_stars <- function(p) {\n",
    "   ifelse(p < 0.05, \"*\", \"\") \n",
    "}\n",
    "\n",
    "# Apply function to p-value matrix\n",
    "star_matrix <- fcs2  %>% \n",
    "dplyr::filter(!grepl(dataset, pattern = \"cd8\"))  %>% \n",
    "dplyr::filter(!grepl(gene, pattern = \"MTRN\"))  %>% \n",
    "dplyr::select(p_val_adj, gene, population2)  %>% \n",
    "mutate(p_val_adj = pval_to_stars(p_val_adj))  %>% \n",
    "pivot_wider(names_from = \"population2\", values_from = \"p_val_adj\")  %>% \n",
    "column_to_rownames(\"gene\")  %>% \n",
    "as.matrix()\n",
    "\n",
    "rownames(star_matrix) <- rownames(fcs2_mtx)\n",
    "colnames(star_matrix) <- colnames(fcs2_mtx)\n",
    "\n"
   ]
  },
  {
   "cell_type": "code",
   "execution_count": null,
   "id": "82ad1202",
   "metadata": {
    "scrolled": true
   },
   "outputs": [],
   "source": [
    "options(repr.plot.height = 6, repr.plot.width = 4)\n",
    "breaks = seq(-2, 2, length.out = 100)\n",
    "pheatmap::pheatmap(fcs2_mtx, scale = \"none\", cluster_cols = T, cluster_rows = T,\n",
    "         #color=colorRampPalette(c(\"dodgerblue\", \"grey95\", \"indianred2\"))(50), \n",
    "         border_color = \"white\", display_numbers = star_matrix, breaks = breaks,\n",
    "         color = colorRampPalette(c(\"blue\", \"white\", \"red\"))(length(breaks))\n",
    "         )"
   ]
  },
  {
   "cell_type": "code",
   "execution_count": null,
   "id": "d2c88b70",
   "metadata": {},
   "outputs": [],
   "source": [
    "options(repr.plot.height = 6, repr.plot.width = 3.5)\n",
    "breaks = seq(-2, 2, length.out = 100)\n",
    "pheatmap::pheatmap(fcs2_mtx, scale = \"none\", cluster_cols = T, cluster_rows = T,\n",
    "         #color=colorRampPalette(c(\"dodgerblue\", \"grey95\", \"indianred2\"))(50), \n",
    "         border_color = \"white\", display_numbers = star_matrix, breaks = breaks,\n",
    "         color = colorRampPalette(c(\"blue\", \"white\", \"red\"))(length(breaks)),\n",
    "                   filename = \"../figures/heatmaps/hm_deg_allclusters_cd4_dia0_diat1.pdf\",\n",
    "                   width = 3.5, height = 7\n",
    "         )\n",
    "\n"
   ]
  },
  {
   "cell_type": "markdown",
   "id": "a2da165d",
   "metadata": {},
   "source": [
    "### PR 0 at T0 vs PR 1 at T0"
   ]
  },
  {
   "cell_type": "code",
   "execution_count": null,
   "id": "0e81d433",
   "metadata": {},
   "outputs": [],
   "source": [
    "hm  <- all_markers  %>% \n",
    "separate(dataset, into = c(\"cd4_cd8\", \"Level\", NA, NA), sep = \"_\", remove = F)  %>% \n",
    "dplyr::filter(cd4_cd8 == \"cd4\")  %>%\n",
    "dplyr::filter(p_val_adj < 0.05)  %>% \n",
    "dplyr::filter(!(dataset %in% c(\"cd8_l2_subcluster\",\"cd4_l2_subcluster\")))  %>% \n",
    "mutate(dataset = stringr::str_to_upper(gsub(dataset, pattern = \"_\", replacement = \" \")))  %>% \n",
    "dplyr::filter(source == \"scRNAseq_RNA\" & test_type == \"PR_0 T0 vs PR_1 T0\" )  %>% \n",
    "group_by(dataset)  %>% \n",
    "slice_max(order_by = avg_log2FC, n = 5)  %>% \n",
    "pull(gene)  %>% unique "
   ]
  },
  {
   "cell_type": "code",
   "execution_count": null,
   "id": "d34bb5cc",
   "metadata": {
    "scrolled": true
   },
   "outputs": [],
   "source": [
    "fcs  <- purrr::map(1:length(paths_fc), get_fc_genes)"
   ]
  },
  {
   "cell_type": "code",
   "execution_count": null,
   "id": "b1df8cfd",
   "metadata": {},
   "outputs": [],
   "source": [
    "fcs  <- bind_rows(fcs)"
   ]
  },
  {
   "cell_type": "code",
   "execution_count": null,
   "id": "5a985e26",
   "metadata": {},
   "outputs": [],
   "source": [
    "fcs$population  <- substr(fcs$dataset, 1,11)\n",
    "\n",
    "table(fcs$population)\n",
    "\n",
    "fcs  <- fcs  %>% mutate(population2 = ifelse(grepl(population, pattern = \"_nk_\"), substr(population,1,9), population))\n",
    "\n",
    "fcs$population2  %>% table\n",
    "\n",
    "fcs  <- fcs  %>% mutate(n1 = as.numeric(nchar(dataset)))  %>% \n",
    "mutate(n2 = n1-12)  %>% \n",
    "mutate(test_type = substr(dataset,n2,n1))  \n",
    "\n",
    "\n",
    "fcs$test_type  %>% table"
   ]
  },
  {
   "cell_type": "code",
   "execution_count": null,
   "id": "f7bb1fb9",
   "metadata": {
    "scrolled": true
   },
   "outputs": [],
   "source": [
    "fcs2  <- fcs  %>% mutate(andjus_logFC = ifelse(p_val_adj<0.05,avg_log2FC,avg_log2FC)) %>% \n",
    "dplyr::filter(test_type == \"T0_vs_PR_1_T0\") "
   ]
  },
  {
   "cell_type": "code",
   "execution_count": null,
   "id": "c933f9c7",
   "metadata": {
    "scrolled": true
   },
   "outputs": [],
   "source": [
    "fcs2_mtx  <- fcs2  %>% \n",
    "dplyr::filter(!grepl(dataset, pattern = \"cd8\"))  %>% \n",
    "dplyr::filter(!grepl(gene, pattern = \"MTRN\"))  %>% \n",
    "dplyr::select(avg_log2FC, gene, population2)  %>% \n",
    "pivot_wider(names_from = \"population2\", values_from = \"avg_log2FC\")  %>% \n",
    "column_to_rownames(\"gene\")  %>% \n",
    "as.matrix()"
   ]
  },
  {
   "cell_type": "code",
   "execution_count": null,
   "id": "a82f07b3",
   "metadata": {},
   "outputs": [],
   "source": [
    "pval_to_stars <- function(p) {\n",
    "   ifelse(p < 0.05, \"*\", \"\") \n",
    "}\n",
    "\n",
    "# Apply function to p-value matrix\n",
    "star_matrix <- fcs2  %>% \n",
    "dplyr::filter(!grepl(dataset, pattern = \"cd8\"))  %>% \n",
    "dplyr::filter(!grepl(gene, pattern = \"MTRN\"))  %>% \n",
    "dplyr::select(p_val_adj, gene, population2)  %>% \n",
    "mutate(p_val_adj = pval_to_stars(p_val_adj))  %>% \n",
    "pivot_wider(names_from = \"population2\", values_from = \"p_val_adj\")  %>% \n",
    "column_to_rownames(\"gene\")  %>% \n",
    "as.matrix()\n",
    "\n",
    "rownames(star_matrix) <- rownames(fcs2_mtx)\n",
    "colnames(star_matrix) <- colnames(fcs2_mtx)\n",
    "\n"
   ]
  },
  {
   "cell_type": "code",
   "execution_count": null,
   "id": "0b6694e2",
   "metadata": {
    "scrolled": true
   },
   "outputs": [],
   "source": [
    "options(repr.plot.height = 7, repr.plot.width = 4)\n",
    "breaks = seq(-2, 2, length.out = 100)\n",
    "pheatmap::pheatmap(fcs2_mtx, scale = \"none\", cluster_cols = T, cluster_rows = T,\n",
    "         #color=colorRampPalette(c(\"dodgerblue\", \"grey95\", \"indianred2\"))(50), \n",
    "         border_color = \"white\", display_numbers = star_matrix, breaks = breaks,\n",
    "         color = colorRampPalette(c(\"blue\", \"white\", \"red\"))(length(breaks))\n",
    "         )"
   ]
  },
  {
   "cell_type": "code",
   "execution_count": null,
   "id": "8f5ea04d",
   "metadata": {},
   "outputs": [],
   "source": [
    "options(repr.plot.height = 6, repr.plot.width = 3.5)\n",
    "breaks = seq(-2, 2, length.out = 100)\n",
    "pheatmap::pheatmap(fcs2_mtx, scale = \"none\", cluster_cols = T, cluster_rows = T,\n",
    "         #color=colorRampPalette(c(\"dodgerblue\", \"grey95\", \"indianred2\"))(50), \n",
    "         border_color = \"white\", display_numbers = star_matrix, breaks = breaks,\n",
    "         color = colorRampPalette(c(\"blue\", \"white\", \"red\"))(length(breaks)),\n",
    "                   filename = \"../figures/heatmaps/hm_deg_allclusters_cd4_pr0_pr1.pdf\",\n",
    "                   width = 3.5, height = 7\n",
    "         )\n",
    "\n"
   ]
  },
  {
   "cell_type": "markdown",
   "id": "e39f4d8b",
   "metadata": {},
   "source": [
    "### Keto 1 at T0 vs Keto 0 at T0"
   ]
  },
  {
   "cell_type": "code",
   "execution_count": null,
   "id": "f82685ef",
   "metadata": {},
   "outputs": [],
   "source": [
    "hm  <- all_markers  %>% \n",
    "separate(dataset, into = c(\"cd4_cd8\", \"Level\", NA, NA), sep = \"_\", remove = F)  %>% \n",
    "dplyr::filter(cd4_cd8 == \"cd4\")  %>%\n",
    "dplyr::filter(p_val_adj < 0.05)  %>% \n",
    "dplyr::filter(!(dataset %in% c(\"cd8_l2_subcluster\",\"cd4_l2_subcluster\")))  %>% \n",
    "mutate(dataset = stringr::str_to_upper(gsub(dataset, pattern = \"_\", replacement = \" \")))  %>% \n",
    "dplyr::filter(source == \"scRNAseq_RNA\" & test_type == \"Keto_1 T0 vs Keto_0 T0\" )  %>% \n",
    "group_by(dataset)  %>% \n",
    "slice_max(order_by = avg_log2FC, n = 5)  %>% \n",
    "pull(gene)  %>% unique "
   ]
  },
  {
   "cell_type": "code",
   "execution_count": null,
   "id": "1318148f",
   "metadata": {
    "scrolled": true
   },
   "outputs": [],
   "source": [
    "fcs  <- purrr::map(1:length(paths_fc), get_fc_genes)"
   ]
  },
  {
   "cell_type": "code",
   "execution_count": null,
   "id": "c427b061",
   "metadata": {},
   "outputs": [],
   "source": [
    "fcs  <- bind_rows(fcs)"
   ]
  },
  {
   "cell_type": "code",
   "execution_count": null,
   "id": "aa51abac",
   "metadata": {},
   "outputs": [],
   "source": [
    "fcs$population  <- substr(fcs$dataset, 1,11)\n",
    "\n",
    "table(fcs$population)\n",
    "\n",
    "fcs  <- fcs  %>% mutate(population2 = ifelse(grepl(population, pattern = \"_nk_\"), substr(population,1,9), population))\n",
    "\n",
    "fcs$population2  %>% table\n",
    "\n",
    "fcs  <- fcs  %>% mutate(n1 = as.numeric(nchar(dataset)))  %>% \n",
    "mutate(n2 = n1-12)  %>% \n",
    "mutate(test_type = substr(dataset,n2,n1))  \n",
    "\n",
    "\n",
    "fcs$test_type  %>% table"
   ]
  },
  {
   "cell_type": "code",
   "execution_count": null,
   "id": "f54a1e26",
   "metadata": {
    "scrolled": true
   },
   "outputs": [],
   "source": [
    "fcs2  <- fcs  %>% mutate(andjus_logFC = ifelse(p_val_adj<0.05,avg_log2FC,avg_log2FC)) %>% \n",
    "dplyr::filter(test_type == \"_ketoacidosis\") "
   ]
  },
  {
   "cell_type": "code",
   "execution_count": null,
   "id": "5d280352",
   "metadata": {
    "scrolled": true
   },
   "outputs": [],
   "source": [
    "fcs2_mtx  <- fcs2  %>% \n",
    "dplyr::filter(!grepl(dataset, pattern = \"cd8\"))  %>% \n",
    "dplyr::filter(!grepl(gene, pattern = \"MTRN\"))  %>% \n",
    "dplyr::select(avg_log2FC, gene, population2)  %>% \n",
    "pivot_wider(names_from = \"population2\", values_from = \"avg_log2FC\")  %>% \n",
    "column_to_rownames(\"gene\")  %>% \n",
    "as.matrix()"
   ]
  },
  {
   "cell_type": "code",
   "execution_count": null,
   "id": "43df221a",
   "metadata": {},
   "outputs": [],
   "source": [
    "pval_to_stars <- function(p) {\n",
    "   ifelse(p < 0.05, \"*\", \"\") \n",
    "}\n",
    "\n",
    "# Apply function to p-value matrix\n",
    "star_matrix <- fcs2  %>% \n",
    "dplyr::filter(!grepl(dataset, pattern = \"cd8\"))  %>% \n",
    "dplyr::filter(!grepl(gene, pattern = \"MTRN\"))  %>% \n",
    "dplyr::select(p_val_adj, gene, population2)  %>% \n",
    "mutate(p_val_adj = pval_to_stars(p_val_adj))  %>% \n",
    "pivot_wider(names_from = \"population2\", values_from = \"p_val_adj\")  %>% \n",
    "column_to_rownames(\"gene\")  %>% \n",
    "as.matrix()\n",
    "\n",
    "rownames(star_matrix) <- rownames(fcs2_mtx)\n",
    "colnames(star_matrix) <- colnames(fcs2_mtx)\n",
    "\n"
   ]
  },
  {
   "cell_type": "code",
   "execution_count": null,
   "id": "5b91b686",
   "metadata": {
    "scrolled": true
   },
   "outputs": [],
   "source": [
    "options(repr.plot.height = 7, repr.plot.width = 4)\n",
    "breaks = seq(-2, 2, length.out = 100)\n",
    "pheatmap::pheatmap(fcs2_mtx, scale = \"none\", cluster_cols = T, cluster_rows = T,\n",
    "         #color=colorRampPalette(c(\"dodgerblue\", \"grey95\", \"indianred2\"))(50), \n",
    "         border_color = \"white\", display_numbers = star_matrix, breaks = breaks,\n",
    "         color = colorRampPalette(c(\"blue\", \"white\", \"red\"))(length(breaks))\n",
    "         )"
   ]
  },
  {
   "cell_type": "code",
   "execution_count": null,
   "id": "9dadb89a",
   "metadata": {},
   "outputs": [],
   "source": [
    "options(repr.plot.height = 6, repr.plot.width = 3.5)\n",
    "breaks = seq(-2, 2, length.out = 100)\n",
    "pheatmap::pheatmap(fcs2_mtx, scale = \"none\", cluster_cols = T, cluster_rows = T,\n",
    "         #color=colorRampPalette(c(\"dodgerblue\", \"grey95\", \"indianred2\"))(50), \n",
    "         border_color = \"white\", display_numbers = star_matrix, breaks = breaks,\n",
    "         color = colorRampPalette(c(\"blue\", \"white\", \"red\"))(length(breaks)),\n",
    "                   filename = \"../figures/heatmaps/hm_deg_allclusters_cd4_ketoacidosis.pdf\",\n",
    "                   width = 3.5, height = 7\n",
    "         )\n",
    "\n"
   ]
  },
  {
   "cell_type": "markdown",
   "id": "42083b75",
   "metadata": {},
   "source": [
    "## CD8 populations"
   ]
  },
  {
   "cell_type": "markdown",
   "id": "52ac8483",
   "metadata": {},
   "source": [
    "### T1D T0 vs Ctrl"
   ]
  },
  {
   "cell_type": "code",
   "execution_count": null,
   "id": "162677e0",
   "metadata": {},
   "outputs": [],
   "source": [
    "hm  <- all_markers  %>% \n",
    "separate(dataset, into = c(\"cd4_cd8\", \"Level\", NA, NA), sep = \"_\", remove = F)  %>% \n",
    "dplyr::filter(cd4_cd8 == \"cd8\")  %>%\n",
    "dplyr::filter(p_val_adj < 0.05)  %>% \n",
    "dplyr::filter(!(dataset %in% c(\"cd8_l2_subcluster\",\"cd4_l2_subcluster\")))  %>% \n",
    "mutate(dataset = stringr::str_to_upper(gsub(dataset, pattern = \"_\", replacement = \" \")))  %>% \n",
    "dplyr::filter(source == \"scRNAseq_RNA\" & test_type == \"Dia T0 vs Ctrl T0\" )  %>% \n",
    "group_by(dataset)  %>% \n",
    "slice_max(order_by = avg_log2FC, n = 5)  %>% \n",
    "pull(gene)  %>% unique "
   ]
  },
  {
   "cell_type": "code",
   "execution_count": null,
   "id": "ae2b4022",
   "metadata": {},
   "outputs": [],
   "source": [
    "get_fc_genes  <- function(j) {\n",
    "  print(j)\n",
    "fc.df  <- read_csv(paths_fc[j])  %>% as.data.frame()\n",
    "    if(grepl(paths_fc[j], pattern = \"Ctrl\")){\n",
    "fc.df  <- fc.df  %>%  arrange(desc(avg_log2FC)) %>% \n",
    "dplyr::filter(grepl(cluster, pattern = \"Dia\"))  %>% \n",
    "dplyr::filter(gene %in% hm) \n",
    "        \n",
    "        } else {\n",
    "        \n",
    "   if(grepl(paths_fc[j], pattern = \"PR_0_T0\")){\n",
    "fc.df  <- fc.df  %>%  arrange(desc(avg_log2FC)) %>% \n",
    "dplyr::filter(grepl(cluster, pattern = \"PR_0 T0\"))  %>% \n",
    "dplyr::filter(gene %in% hm) \n",
    "        } else {\n",
    "       \n",
    "        if(grepl(paths_fc[j], pattern = \"keto\")){\n",
    " fc.df  <- fc.df  %>%  arrange(desc(avg_log2FC)) %>% \n",
    "dplyr::filter(grepl(cluster, pattern = \"Keto_1 T0\"))   %>% \n",
    "dplyr::filter(gene %in% hm) \n",
    "    } else {\n",
    " fc.df  <- fc.df  %>%  arrange(desc(avg_log2FC)) %>% \n",
    "dplyr::filter(grepl(cluster, pattern = \"Dia T0\"))   %>% \n",
    "dplyr::filter(gene %in% hm) \n",
    "    }}}\n",
    "\n",
    "    fc.df$dataset  <-   gsub(dataset_names[j], pattern = \".csv\", replacement = \"\")\n",
    " return(fc.df)\n",
    "    }"
   ]
  },
  {
   "cell_type": "code",
   "execution_count": null,
   "id": "9e4d8059",
   "metadata": {
    "scrolled": true
   },
   "outputs": [],
   "source": [
    "paths_fc  <- list.files(\"../../240617_VN_Diabetes_V06/tables/fold_change/\", full.names = T)\n",
    "dataset_names  <- list.files(\"../../240617_VN_Diabetes_V06/tables/fold_change\", full.names = F)\n",
    "\n",
    "paths_fc  <- paths_fc[grepl(paths_fc, pattern = \"l3\")|grepl(paths_fc, pattern = \"cd8_l2_unc\")|\n",
    "                      grepl(paths_fc, pattern = \"cd4_l2_unc\")|grepl(paths_fc, pattern = \"cd8_l2_nk\") ]\n",
    "\n",
    "dataset_names  <- dataset_names[grepl(dataset_names, pattern = \"l3\")|grepl(dataset_names, pattern = \"cd8_l2_unc\")|\n",
    "                      grepl(dataset_names, pattern = \"cd4_l2_unc\")|grepl(dataset_names, pattern = \"cd8_l2_nk\") ]\n",
    "\n",
    "paths_fc  <- paths_fc[grepl(paths_fc, pattern = \"Ctrl_vs_DiaT0\")|grepl(paths_fc, pattern = \"DiaT0_vs_DiaT1\")|\n",
    "                      grepl(paths_fc, pattern = \"Ctrl_vs_DiaT1\")|\n",
    "                      grepl(paths_fc, pattern = \"PR_0_T0_vs_PR_1_T0\")|grepl(paths_fc, pattern = \"ketoacidosis\")]\n",
    "\n",
    "dataset_names  <- dataset_names[grepl(dataset_names, pattern = \"Ctrl_vs_DiaT0\")|grepl(dataset_names, pattern = \"DiaT0_vs_DiaT1\")|\n",
    "                      grepl(dataset_names, pattern = \"Ctrl_vs_DiaT1\")|\n",
    "                      grepl(dataset_names, pattern = \"PR_0_T0_vs_PR_1_T0\")|grepl(dataset_names, pattern = \"ketoacidosis\")]\n"
   ]
  },
  {
   "cell_type": "code",
   "execution_count": null,
   "id": "08c762cf",
   "metadata": {
    "scrolled": true
   },
   "outputs": [],
   "source": [
    "fcs  <- purrr::map(1:length(paths_fc), get_fc_genes)"
   ]
  },
  {
   "cell_type": "code",
   "execution_count": null,
   "id": "583b9eac",
   "metadata": {},
   "outputs": [],
   "source": [
    "fcs  <- bind_rows(fcs)"
   ]
  },
  {
   "cell_type": "code",
   "execution_count": null,
   "id": "30cded3c",
   "metadata": {},
   "outputs": [],
   "source": [
    "fcs$population  <- substr(fcs$dataset, 1,11)\n",
    "\n",
    "table(fcs$population)\n",
    "\n",
    "fcs  <- fcs  %>% mutate(population2 = ifelse(grepl(population, pattern = \"_nk_\"), substr(population,1,9), population))\n",
    "\n",
    "fcs$population2  %>% table\n",
    "\n",
    "fcs  <- fcs  %>% mutate(n1 = as.numeric(nchar(dataset)))  %>% \n",
    "mutate(n2 = n1-12)  %>% \n",
    "mutate(test_type = substr(dataset,n2,n1))  \n",
    "\n",
    "\n",
    "fcs$test_type  %>% table"
   ]
  },
  {
   "cell_type": "code",
   "execution_count": null,
   "id": "1b9b682c",
   "metadata": {
    "scrolled": true
   },
   "outputs": [],
   "source": [
    "fcs2  <- fcs  %>% mutate(andjus_logFC = ifelse(p_val_adj<0.05,avg_log2FC,avg_log2FC)) %>% \n",
    "dplyr::filter(test_type == \"Ctrl_vs_DiaT0\") "
   ]
  },
  {
   "cell_type": "code",
   "execution_count": null,
   "id": "bbfebd53",
   "metadata": {
    "scrolled": true
   },
   "outputs": [],
   "source": [
    "fcs2_mtx  <- fcs2  %>% \n",
    "dplyr::filter(!grepl(dataset, pattern = \"cd4\"))  %>% \n",
    "dplyr::filter(!grepl(gene, pattern = \"MTRN\"))  %>% \n",
    "dplyr::select(avg_log2FC, gene, population2)  %>% \n",
    "pivot_wider(names_from = \"population2\", values_from = \"avg_log2FC\")  %>% \n",
    "column_to_rownames(\"gene\")  %>% \n",
    "as.matrix()"
   ]
  },
  {
   "cell_type": "code",
   "execution_count": null,
   "id": "f782d4d7",
   "metadata": {},
   "outputs": [],
   "source": [
    "pval_to_stars <- function(p) {\n",
    "   ifelse(p < 0.05, \"*\", \"\") \n",
    "}\n",
    "\n",
    "# Apply function to p-value matrix\n",
    "star_matrix <- fcs2  %>% \n",
    "dplyr::filter(!grepl(dataset, pattern = \"cd4\"))  %>% \n",
    "dplyr::filter(!grepl(gene, pattern = \"MTRN\"))  %>% \n",
    "dplyr::select(p_val_adj, gene, population2)  %>% \n",
    "mutate(p_val_adj = pval_to_stars(p_val_adj))  %>% \n",
    "pivot_wider(names_from = \"population2\", values_from = \"p_val_adj\")  %>% \n",
    "column_to_rownames(\"gene\")  %>% \n",
    "as.matrix()\n",
    "\n",
    "rownames(star_matrix) <- rownames(fcs2_mtx)\n",
    "colnames(star_matrix) <- colnames(fcs2_mtx)\n",
    "\n"
   ]
  },
  {
   "cell_type": "code",
   "execution_count": null,
   "id": "33d7a89a",
   "metadata": {},
   "outputs": [],
   "source": [
    "options(repr.plot.height = 6, repr.plot.width = 3.5)\n",
    "breaks = seq(-2, 2, length.out = 100)\n",
    "pheatmap::pheatmap(fcs2_mtx, scale = \"none\", cluster_cols = T, cluster_rows = T,\n",
    "         #color=colorRampPalette(c(\"dodgerblue\", \"grey95\", \"indianred2\"))(50), \n",
    "         border_color = \"white\", display_numbers = star_matrix, breaks = breaks,\n",
    "         color = colorRampPalette(c(\"blue\", \"white\", \"red\"))(length(breaks)),\n",
    "                   filename = \"../figures/heatmaps/hm_deg_allclusters_cd8_diaT0_ctrl.pdf\",\n",
    "                   width = 3.5, height = 7\n",
    "         )"
   ]
  },
  {
   "cell_type": "markdown",
   "id": "5c09b4b6",
   "metadata": {},
   "source": [
    "### T1D T1 vs Ctrl"
   ]
  },
  {
   "cell_type": "code",
   "execution_count": null,
   "id": "3816ad8f",
   "metadata": {},
   "outputs": [],
   "source": [
    "hm  <- all_markers  %>% \n",
    "separate(dataset, into = c(\"cd4_cd8\", \"Level\", NA, NA), sep = \"_\", remove = F)  %>% \n",
    "dplyr::filter(cd4_cd8 == \"cd8\")  %>%\n",
    "dplyr::filter(p_val_adj < 0.05)  %>% \n",
    "dplyr::filter(!(dataset %in% c(\"cd8_l2_subcluster\",\"cd4_l2_subcluster\")))  %>% \n",
    "mutate(dataset = stringr::str_to_upper(gsub(dataset, pattern = \"_\", replacement = \" \")))  %>% \n",
    "dplyr::filter(source == \"scRNAseq_RNA\" & test_type == \"Dia T1 vs Ctrl T0\" )  %>% \n",
    "group_by(dataset)  %>% \n",
    "slice_max(order_by = avg_log2FC, n = 5)  %>% \n",
    "pull(gene)  %>% unique "
   ]
  },
  {
   "cell_type": "code",
   "execution_count": null,
   "id": "66018f38",
   "metadata": {},
   "outputs": [],
   "source": [
    "fcs  <- purrr::map(1:length(paths_fc), get_fc_genes)"
   ]
  },
  {
   "cell_type": "code",
   "execution_count": null,
   "id": "2b9c1155",
   "metadata": {},
   "outputs": [],
   "source": [
    "fcs  <- bind_rows(fcs)"
   ]
  },
  {
   "cell_type": "code",
   "execution_count": null,
   "id": "52fc85f2",
   "metadata": {},
   "outputs": [],
   "source": [
    "fcs$population  <- substr(fcs$dataset, 1,11)\n",
    "\n",
    "table(fcs$population)\n",
    "\n",
    "fcs  <- fcs  %>% mutate(population2 = ifelse(grepl(population, pattern = \"_nk_\"), substr(population,1,9), population))\n",
    "\n",
    "fcs$population2  %>% table\n",
    "\n",
    "fcs  <- fcs  %>% mutate(n1 = as.numeric(nchar(dataset)))  %>% \n",
    "mutate(n2 = n1-12)  %>% \n",
    "mutate(test_type = substr(dataset,n2,n1))  \n",
    "\n",
    "\n",
    "fcs$test_type  %>% table"
   ]
  },
  {
   "cell_type": "code",
   "execution_count": null,
   "id": "5a6e99f0",
   "metadata": {
    "scrolled": true
   },
   "outputs": [],
   "source": [
    "fcs2  <- fcs  %>% mutate(andjus_logFC = ifelse(p_val_adj<0.05,avg_log2FC,avg_log2FC)) %>% \n",
    "dplyr::filter(test_type == \"Ctrl_vs_DiaT1\") "
   ]
  },
  {
   "cell_type": "code",
   "execution_count": null,
   "id": "1fe94974",
   "metadata": {
    "scrolled": true
   },
   "outputs": [],
   "source": [
    "fcs2_mtx  <- fcs2  %>% \n",
    "dplyr::filter(!grepl(dataset, pattern = \"cd4\"))  %>% \n",
    "dplyr::filter(!grepl(gene, pattern = \"MTRN\"))  %>% \n",
    "dplyr::select(avg_log2FC, gene, population2)  %>% \n",
    "pivot_wider(names_from = \"population2\", values_from = \"avg_log2FC\")  %>% \n",
    "column_to_rownames(\"gene\")  %>% \n",
    "as.matrix()"
   ]
  },
  {
   "cell_type": "code",
   "execution_count": null,
   "id": "5d849762",
   "metadata": {},
   "outputs": [],
   "source": [
    "pval_to_stars <- function(p) {\n",
    "   ifelse(p < 0.05, \"*\", \"\") \n",
    "}\n",
    "\n",
    "# Apply function to p-value matrix\n",
    "star_matrix <- fcs2  %>% \n",
    "dplyr::filter(!grepl(dataset, pattern = \"cd4\"))  %>% \n",
    "dplyr::filter(!grepl(gene, pattern = \"MTRN\"))  %>% \n",
    "dplyr::select(p_val_adj, gene, population2)  %>% \n",
    "mutate(p_val_adj = pval_to_stars(p_val_adj))  %>% \n",
    "pivot_wider(names_from = \"population2\", values_from = \"p_val_adj\")  %>% \n",
    "column_to_rownames(\"gene\")  %>% \n",
    "as.matrix()\n",
    "\n",
    "rownames(star_matrix) <- rownames(fcs2_mtx)\n",
    "colnames(star_matrix) <- colnames(fcs2_mtx)\n",
    "\n"
   ]
  },
  {
   "cell_type": "code",
   "execution_count": null,
   "id": "c1bcf1e6",
   "metadata": {},
   "outputs": [],
   "source": [
    "pheatmap::pheatmap(fcs2_mtx, scale = \"none\", cluster_cols = T, cluster_rows = T,\n",
    "         #color=colorRampPalette(c(\"dodgerblue\", \"grey95\", \"indianred2\"))(50), \n",
    "         border_color = \"white\", display_numbers = star_matrix, breaks = breaks,\n",
    "         color = colorRampPalette(c(\"blue\", \"white\", \"red\"))(length(breaks)),\n",
    "                   #filename = \"../figures/heatmaps/hm_deg_allclusters_cd8_diaT1_ctrl.pdf\",\n",
    "                   width = 3.5, height = 7\n",
    "         )"
   ]
  },
  {
   "cell_type": "code",
   "execution_count": null,
   "id": "11744a4c",
   "metadata": {
    "scrolled": true
   },
   "outputs": [],
   "source": [
    "options(repr.plot.height = 6, repr.plot.width = 3.5)\n",
    "breaks = seq(-2, 2, length.out = 100)\n",
    "pheatmap::pheatmap(fcs2_mtx, scale = \"none\", cluster_cols = T, cluster_rows = T,\n",
    "         #color=colorRampPalette(c(\"dodgerblue\", \"grey95\", \"indianred2\"))(50), \n",
    "         border_color = \"white\", display_numbers = star_matrix, breaks = breaks,\n",
    "         color = colorRampPalette(c(\"blue\", \"white\", \"red\"))(length(breaks)),\n",
    "                   filename = \"../figures/heatmaps/hm_deg_allclusters_cd8_diaT1_ctrl.pdf\",\n",
    "                   width = 3.5, height = 7\n",
    "         )\n",
    "\n"
   ]
  },
  {
   "cell_type": "markdown",
   "id": "e0c7f650",
   "metadata": {},
   "source": [
    "### T1D T1 vs Ctrl"
   ]
  },
  {
   "cell_type": "code",
   "execution_count": null,
   "id": "bea9a010",
   "metadata": {},
   "outputs": [],
   "source": [
    "hm  <- all_markers  %>% \n",
    "separate(dataset, into = c(\"cd4_cd8\", \"Level\", NA, NA), sep = \"_\", remove = F)  %>% \n",
    "dplyr::filter(cd4_cd8 == \"cd8\")  %>%\n",
    "dplyr::filter(p_val_adj < 0.05)  %>% \n",
    "dplyr::filter(!(dataset %in% c(\"cd8_l2_subcluster\",\"cd4_l2_subcluster\")))  %>% \n",
    "mutate(dataset = stringr::str_to_upper(gsub(dataset, pattern = \"_\", replacement = \" \")))  %>% \n",
    "dplyr::filter(source == \"scRNAseq_RNA\" & test_type == \"Dia T0 vs Dia T1\" )  %>% \n",
    "group_by(dataset)  %>% \n",
    "slice_max(order_by = avg_log2FC, n = 5)  %>% \n",
    "pull(gene)  %>% unique "
   ]
  },
  {
   "cell_type": "code",
   "execution_count": null,
   "id": "7d2f8b52",
   "metadata": {
    "scrolled": true
   },
   "outputs": [],
   "source": [
    "fcs  <- purrr::map(1:length(paths_fc), get_fc_genes)"
   ]
  },
  {
   "cell_type": "code",
   "execution_count": null,
   "id": "0968d6dc",
   "metadata": {},
   "outputs": [],
   "source": [
    "fcs  <- bind_rows(fcs)"
   ]
  },
  {
   "cell_type": "code",
   "execution_count": null,
   "id": "edb69d03",
   "metadata": {},
   "outputs": [],
   "source": [
    "fcs$population  <- substr(fcs$dataset, 1,11)\n",
    "\n",
    "table(fcs$population)\n",
    "\n",
    "fcs  <- fcs  %>% mutate(population2 = ifelse(grepl(population, pattern = \"_nk_\"), substr(population,1,9), population))\n",
    "\n",
    "fcs$population2  %>% table\n",
    "\n",
    "fcs  <- fcs  %>% mutate(n1 = as.numeric(nchar(dataset)))  %>% \n",
    "mutate(n2 = n1-12)  %>% \n",
    "mutate(test_type = substr(dataset,n2,n1))  \n",
    "\n",
    "\n",
    "fcs$test_type  %>% table"
   ]
  },
  {
   "cell_type": "code",
   "execution_count": null,
   "id": "7590e421",
   "metadata": {
    "scrolled": true
   },
   "outputs": [],
   "source": [
    "fcs2  <- fcs  %>% mutate(andjus_logFC = ifelse(p_val_adj<0.05,avg_log2FC,avg_log2FC)) %>% \n",
    "dplyr::filter(test_type == \"iaT0_vs_DiaT1\") "
   ]
  },
  {
   "cell_type": "code",
   "execution_count": null,
   "id": "b0b5c17f",
   "metadata": {
    "scrolled": true
   },
   "outputs": [],
   "source": [
    "fcs2_mtx  <- fcs2  %>% \n",
    "dplyr::filter(!grepl(dataset, pattern = \"cd4\"))  %>% \n",
    "dplyr::filter(!grepl(gene, pattern = \"MTRN\"))  %>% \n",
    "dplyr::select(avg_log2FC, gene, population2)  %>% \n",
    "pivot_wider(names_from = \"population2\", values_from = \"avg_log2FC\")  %>% \n",
    "column_to_rownames(\"gene\")  %>% \n",
    "as.matrix()"
   ]
  },
  {
   "cell_type": "code",
   "execution_count": null,
   "id": "afbc7180",
   "metadata": {},
   "outputs": [],
   "source": [
    "\n",
    "# Apply function to p-value matrix\n",
    "star_matrix <- fcs2  %>% \n",
    "dplyr::filter(!grepl(dataset, pattern = \"cd4\"))  %>% \n",
    "dplyr::filter(!grepl(gene, pattern = \"MTRN\"))  %>% \n",
    "dplyr::select(p_val_adj, gene, population2)  %>% \n",
    "mutate(p_val_adj = pval_to_stars(p_val_adj))  %>% \n",
    "pivot_wider(names_from = \"population2\", values_from = \"p_val_adj\")  %>% \n",
    "column_to_rownames(\"gene\")  %>% \n",
    "as.matrix()\n",
    "\n",
    "rownames(star_matrix) <- rownames(fcs2_mtx)\n",
    "colnames(star_matrix) <- colnames(fcs2_mtx)\n",
    "\n"
   ]
  },
  {
   "cell_type": "code",
   "execution_count": null,
   "id": "992c9aa4",
   "metadata": {
    "scrolled": true
   },
   "outputs": [],
   "source": [
    "options(repr.plot.height = 6, repr.plot.width = 4)\n",
    "breaks = seq(-2, 2, length.out = 100)\n",
    "pheatmap::pheatmap(fcs2_mtx, scale = \"none\", cluster_cols = T, cluster_rows = T,\n",
    "         #color=colorRampPalette(c(\"dodgerblue\", \"grey95\", \"indianred2\"))(50), \n",
    "         border_color = \"white\", display_numbers = star_matrix, breaks = breaks,\n",
    "         color = colorRampPalette(c(\"blue\", \"white\", \"red\"))(length(breaks))\n",
    "         )"
   ]
  },
  {
   "cell_type": "code",
   "execution_count": null,
   "id": "a698fc89",
   "metadata": {},
   "outputs": [],
   "source": [
    "options(repr.plot.height = 6, repr.plot.width = 3.5)\n",
    "breaks = seq(-2, 2, length.out = 100)\n",
    "pheatmap::pheatmap(fcs2_mtx, scale = \"none\", cluster_cols = T, cluster_rows = T,\n",
    "         #color=colorRampPalette(c(\"dodgerblue\", \"grey95\", \"indianred2\"))(50), \n",
    "         border_color = \"white\", display_numbers = star_matrix, breaks = breaks,\n",
    "         color = colorRampPalette(c(\"blue\", \"white\", \"red\"))(length(breaks)),\n",
    "                   filename = \"../figures/heatmaps/hm_deg_allclusters_cd8_dia0_diat1.pdf\",\n",
    "                   width = 3.5, height = 7\n",
    "         )\n",
    "\n"
   ]
  },
  {
   "cell_type": "markdown",
   "id": "991c0053",
   "metadata": {},
   "source": [
    "### PR 0 at T0 vs PR 1 at T0"
   ]
  },
  {
   "cell_type": "code",
   "execution_count": null,
   "id": "0fec36f3",
   "metadata": {},
   "outputs": [],
   "source": [
    "hm  <- all_markers  %>% \n",
    "separate(dataset, into = c(\"cd4_cd8\", \"Level\", NA, NA), sep = \"_\", remove = F)  %>% \n",
    "dplyr::filter(cd4_cd8 == \"cd8\")  %>%\n",
    "dplyr::filter(p_val_adj < 0.05)  %>% \n",
    "dplyr::filter(!(dataset %in% c(\"cd8_l2_subcluster\",\"cd4_l2_subcluster\")))  %>% \n",
    "mutate(dataset = stringr::str_to_upper(gsub(dataset, pattern = \"_\", replacement = \" \")))  %>% \n",
    "dplyr::filter(source == \"scRNAseq_RNA\" & test_type == \"PR_0 T0 vs PR_1 T0\" )  %>% \n",
    "group_by(dataset)  %>% \n",
    "slice_max(order_by = avg_log2FC, n = 5)  %>% \n",
    "pull(gene)  %>% unique "
   ]
  },
  {
   "cell_type": "code",
   "execution_count": null,
   "id": "5efecfd4",
   "metadata": {
    "scrolled": true
   },
   "outputs": [],
   "source": [
    "fcs  <- purrr::map(1:length(paths_fc), get_fc_genes)"
   ]
  },
  {
   "cell_type": "code",
   "execution_count": null,
   "id": "49c2cf62",
   "metadata": {},
   "outputs": [],
   "source": [
    "fcs  <- bind_rows(fcs)"
   ]
  },
  {
   "cell_type": "code",
   "execution_count": null,
   "id": "a90decd8",
   "metadata": {},
   "outputs": [],
   "source": [
    "fcs$population  <- substr(fcs$dataset, 1,11)\n",
    "\n",
    "table(fcs$population)\n",
    "\n",
    "fcs  <- fcs  %>% mutate(population2 = ifelse(grepl(population, pattern = \"_nk_\"), substr(population,1,9), population))\n",
    "\n",
    "fcs$population2  %>% table\n",
    "\n",
    "fcs  <- fcs  %>% mutate(n1 = as.numeric(nchar(dataset)))  %>% \n",
    "mutate(n2 = n1-12)  %>% \n",
    "mutate(test_type = substr(dataset,n2,n1))  \n",
    "\n",
    "\n",
    "fcs$test_type  %>% table"
   ]
  },
  {
   "cell_type": "code",
   "execution_count": null,
   "id": "ada464bd",
   "metadata": {
    "scrolled": true
   },
   "outputs": [],
   "source": [
    "fcs2  <- fcs  %>% mutate(andjus_logFC = ifelse(p_val_adj<0.05,avg_log2FC,avg_log2FC)) %>% \n",
    "dplyr::filter(test_type == \"T0_vs_PR_1_T0\") "
   ]
  },
  {
   "cell_type": "code",
   "execution_count": null,
   "id": "9f6f570d",
   "metadata": {
    "scrolled": true
   },
   "outputs": [],
   "source": [
    "fcs2_mtx  <- fcs2  %>% \n",
    "dplyr::filter(!grepl(dataset, pattern = \"cd4\"))  %>% \n",
    "dplyr::filter(!grepl(gene, pattern = \"MTRN\"))  %>% \n",
    "dplyr::select(avg_log2FC, gene, population2)  %>% \n",
    "pivot_wider(names_from = \"population2\", values_from = \"avg_log2FC\")  %>% \n",
    "column_to_rownames(\"gene\")  %>% \n",
    "as.matrix()"
   ]
  },
  {
   "cell_type": "code",
   "execution_count": null,
   "id": "6a0f8745",
   "metadata": {},
   "outputs": [],
   "source": [
    "# Apply function to p-value matrix\n",
    "star_matrix <- fcs2  %>% \n",
    "dplyr::filter(!grepl(dataset, pattern = \"cd4\"))  %>% \n",
    "dplyr::filter(!grepl(gene, pattern = \"MTRN\"))  %>% \n",
    "dplyr::select(p_val_adj, gene, population2)  %>% \n",
    "mutate(p_val_adj = pval_to_stars(p_val_adj))  %>% \n",
    "pivot_wider(names_from = \"population2\", values_from = \"p_val_adj\")  %>% \n",
    "column_to_rownames(\"gene\")  %>% \n",
    "as.matrix()\n",
    "\n",
    "rownames(star_matrix) <- rownames(fcs2_mtx)\n",
    "colnames(star_matrix) <- colnames(fcs2_mtx)"
   ]
  },
  {
   "cell_type": "code",
   "execution_count": null,
   "id": "ef1d2b1b",
   "metadata": {
    "scrolled": true
   },
   "outputs": [],
   "source": [
    "options(repr.plot.height = 7, repr.plot.width = 4)\n",
    "breaks = seq(-2, 2, length.out = 100)\n",
    "pheatmap::pheatmap(fcs2_mtx, scale = \"none\", cluster_cols = T, cluster_rows = T,\n",
    "         #color=colorRampPalette(c(\"dodgerblue\", \"grey95\", \"indianred2\"))(50), \n",
    "         border_color = \"white\", display_numbers = star_matrix, breaks = breaks,\n",
    "         color = colorRampPalette(c(\"blue\", \"white\", \"red\"))(length(breaks))\n",
    "         )"
   ]
  },
  {
   "cell_type": "code",
   "execution_count": null,
   "id": "58c682bd",
   "metadata": {},
   "outputs": [],
   "source": [
    "options(repr.plot.height = 6, repr.plot.width = 3.5)\n",
    "breaks = seq(-2, 2, length.out = 100)\n",
    "pheatmap::pheatmap(fcs2_mtx, scale = \"none\", cluster_cols = T, cluster_rows = T,\n",
    "         #color=colorRampPalette(c(\"dodgerblue\", \"grey95\", \"indianred2\"))(50), \n",
    "         border_color = \"white\", display_numbers = star_matrix, breaks = breaks,\n",
    "         color = colorRampPalette(c(\"blue\", \"white\", \"red\"))(length(breaks)),\n",
    "                   filename = \"../figures/heatmaps/hm_deg_allclusters_cd8_pr0_pr1.pdf\",\n",
    "                   width = 3.5, height = 7\n",
    "         )\n",
    "\n"
   ]
  },
  {
   "cell_type": "markdown",
   "id": "051da2c3",
   "metadata": {},
   "source": [
    "### Keto 1 at T0 vs Keto 0 at T0"
   ]
  },
  {
   "cell_type": "code",
   "execution_count": null,
   "id": "cf5adee9",
   "metadata": {},
   "outputs": [],
   "source": [
    "hm  <- all_markers  %>% \n",
    "separate(dataset, into = c(\"cd4_cd8\", \"Level\", NA, NA), sep = \"_\", remove = F)  %>% \n",
    "dplyr::filter(cd4_cd8 == \"cd8\")  %>%\n",
    "dplyr::filter(p_val_adj < 0.05)  %>% \n",
    "dplyr::filter(!(dataset %in% c(\"cd8_l2_subcluster\",\"cd4_l2_subcluster\")))  %>% \n",
    "mutate(dataset = stringr::str_to_upper(gsub(dataset, pattern = \"_\", replacement = \" \")))  %>% \n",
    "dplyr::filter(source == \"scRNAseq_RNA\" & test_type == \"Keto_1 T0 vs Keto_0 T0\" )  %>% \n",
    "group_by(dataset)  %>% \n",
    "slice_max(order_by = avg_log2FC, n = 5)  %>% \n",
    "pull(gene)  %>% unique "
   ]
  },
  {
   "cell_type": "code",
   "execution_count": null,
   "id": "9d2afdf1",
   "metadata": {
    "scrolled": true
   },
   "outputs": [],
   "source": [
    "fcs  <- purrr::map(1:length(paths_fc), get_fc_genes)"
   ]
  },
  {
   "cell_type": "code",
   "execution_count": null,
   "id": "a4eea02a",
   "metadata": {},
   "outputs": [],
   "source": [
    "fcs  <- bind_rows(fcs)"
   ]
  },
  {
   "cell_type": "code",
   "execution_count": null,
   "id": "c986fd90",
   "metadata": {},
   "outputs": [],
   "source": [
    "fcs$population  <- substr(fcs$dataset, 1,11)\n",
    "\n",
    "table(fcs$population)\n",
    "\n",
    "fcs  <- fcs  %>% mutate(population2 = ifelse(grepl(population, pattern = \"_nk_\"), substr(population,1,9), population))\n",
    "\n",
    "fcs$population2  %>% table\n",
    "\n",
    "fcs  <- fcs  %>% mutate(n1 = as.numeric(nchar(dataset)))  %>% \n",
    "mutate(n2 = n1-12)  %>% \n",
    "mutate(test_type = substr(dataset,n2,n1))  \n",
    "\n",
    "\n",
    "fcs$test_type  %>% table"
   ]
  },
  {
   "cell_type": "code",
   "execution_count": null,
   "id": "85d2c31a",
   "metadata": {
    "scrolled": true
   },
   "outputs": [],
   "source": [
    "fcs2  <- fcs  %>% mutate(andjus_logFC = ifelse(p_val_adj<0.05,avg_log2FC,avg_log2FC)) %>% \n",
    "dplyr::filter(test_type == \"_ketoacidosis\") "
   ]
  },
  {
   "cell_type": "code",
   "execution_count": null,
   "id": "9873f411",
   "metadata": {
    "scrolled": true
   },
   "outputs": [],
   "source": [
    "fcs2_mtx  <- fcs2  %>% \n",
    "dplyr::filter(!grepl(dataset, pattern = \"cd4\"))  %>%\n",
    "dplyr::filter(!grepl(gene, pattern = \"MTRN\"))  %>% \n",
    "dplyr::filter(!grepl(gene, pattern = \"IGLV\"))  %>% \n",
    "dplyr::select(avg_log2FC, gene, population2)  %>% \n",
    "pivot_wider(names_from = \"population2\", values_from = \"avg_log2FC\")  %>% \n",
    "column_to_rownames(\"gene\")  %>% \n",
    "as.matrix()"
   ]
  },
  {
   "cell_type": "code",
   "execution_count": null,
   "id": "2408f98f",
   "metadata": {},
   "outputs": [],
   "source": [
    "# Apply function to p-value matrix\n",
    "star_matrix <- fcs2  %>% \n",
    "dplyr::filter(!grepl(dataset, pattern = \"cd4\"))  %>% \n",
    "dplyr::filter(!grepl(gene, pattern = \"MTRN\"))  %>% \n",
    "dplyr::filter(!grepl(gene, pattern = \"IGLV\"))  %>% \n",
    "dplyr::select(p_val_adj, gene, population2)  %>% \n",
    "mutate(p_val_adj = pval_to_stars(p_val_adj))  %>% \n",
    "pivot_wider(names_from = \"population2\", values_from = \"p_val_adj\")  %>% \n",
    "column_to_rownames(\"gene\")  %>% \n",
    "as.matrix()\n",
    "\n",
    "rownames(star_matrix) <- rownames(fcs2_mtx)\n",
    "colnames(star_matrix) <- colnames(fcs2_mtx)\n",
    "\n"
   ]
  },
  {
   "cell_type": "code",
   "execution_count": null,
   "id": "4c76776d",
   "metadata": {
    "scrolled": true
   },
   "outputs": [],
   "source": [
    "options(repr.plot.height = 7, repr.plot.width = 4)\n",
    "breaks = seq(-2, 2, length.out = 100)\n",
    "pheatmap::pheatmap(fcs2_mtx, scale = \"none\", cluster_cols = T, cluster_rows = T,\n",
    "         #color=colorRampPalette(c(\"dodgerblue\", \"grey95\", \"indianred2\"))(50), \n",
    "         border_color = \"white\", display_numbers = star_matrix, breaks = breaks,\n",
    "         color = colorRampPalette(c(\"blue\", \"white\", \"red\"))(length(breaks))\n",
    "         )"
   ]
  },
  {
   "cell_type": "code",
   "execution_count": null,
   "id": "200bcdd5",
   "metadata": {},
   "outputs": [],
   "source": [
    "options(repr.plot.height = 6, repr.plot.width = 3.5)\n",
    "breaks = seq(-2, 2, length.out = 100)\n",
    "pheatmap::pheatmap(fcs2_mtx, scale = \"none\", cluster_cols = T, cluster_rows = T,\n",
    "         #color=colorRampPalette(c(\"dodgerblue\", \"grey95\", \"indianred2\"))(50), \n",
    "         border_color = \"white\", display_numbers = star_matrix, breaks = breaks,\n",
    "         color = colorRampPalette(c(\"blue\", \"white\", \"red\"))(length(breaks)),\n",
    "                   filename = \"../figures/heatmaps/hm_deg_allclusters_cd8_ketoacidosis.pdf\",\n",
    "                   width = 3.5, height = 7\n",
    "         )\n",
    "\n"
   ]
  },
  {
   "cell_type": "markdown",
   "id": "5fd011ee",
   "metadata": {},
   "source": [
    "# DotPlot - FoldChanges main genes in all comparisons"
   ]
  },
  {
   "cell_type": "code",
   "execution_count": null,
   "id": "6e4420f3",
   "metadata": {},
   "outputs": [],
   "source": [
    "hm  <- c(\"LEF1\",\"BACH2\",\"NELL2\",\"TCF7\",\"CXCR4\",\"ZFP36L2\",\"IL7R\",\"KLF2\",\"CCR7\",\"SELL\",\n",
    "            \n",
    "             \n",
    "            rev(c(\"TNFRSF9\",\"PRF1\",\"NKG7\",\"GZMB\",\"CST7\",\"GNLY\",\"GZMA\",\"CX3CR1\",\"CCL5\",\"TNF\",\"TBX21\",\"IFNG\")),\n",
    "             \"TNFAIP3\",\"DUSP1\",\"TSC22D3\",\"NFKBIA\",\"DDIT4\",\"INPP4B\",\n",
    "             rev(c(\"OASL\",\"IFI44L\",\"ISG15\",\"MX1\",\"STAT1\",\"IFI6\",\"IFIT3\")),\n",
    "                  \"BTN3A2\",\"BTN3A3\")"
   ]
  },
  {
   "cell_type": "code",
   "execution_count": null,
   "id": "1f794398",
   "metadata": {},
   "outputs": [],
   "source": [
    "get_fc_genes  <- function(j) {\n",
    "  print(j)\n",
    "fc.df  <- read_csv(paths_fc[j])  %>% as.data.frame()\n",
    "    if(grepl(paths_fc[j], pattern = \"Ctrl\")){\n",
    "fc.df  <- fc.df  %>%  arrange(desc(avg_log2FC)) %>% \n",
    "dplyr::filter(grepl(cluster, pattern = \"Dia\"))  %>% \n",
    "dplyr::filter(gene %in% hm) \n",
    "        \n",
    "        } else {\n",
    "        \n",
    "   if(grepl(paths_fc[j], pattern = \"PR_0_T0\")){\n",
    "fc.df  <- fc.df  %>%  arrange(desc(avg_log2FC)) %>% \n",
    "dplyr::filter(grepl(cluster, pattern = \"PR_0 T0\"))  %>% \n",
    "dplyr::filter(gene %in% hm) \n",
    "        } else {\n",
    "       \n",
    "        if(grepl(paths_fc[j], pattern = \"keto\")){\n",
    " fc.df  <- fc.df  %>%  arrange(desc(avg_log2FC)) %>% \n",
    "dplyr::filter(grepl(cluster, pattern = \"Keto_1 T0\"))   %>% \n",
    "dplyr::filter(gene %in% hm) \n",
    "    } else {\n",
    " fc.df  <- fc.df  %>%  arrange(desc(avg_log2FC)) %>% \n",
    "dplyr::filter(grepl(cluster, pattern = \"Dia T0\"))   %>% \n",
    "dplyr::filter(gene %in% hm) \n",
    "    }}}\n",
    "\n",
    "    fc.df$dataset  <-   gsub(dataset_names[j], pattern = \".csv\", replacement = \"\")\n",
    " return(fc.df)\n",
    "    }"
   ]
  },
  {
   "cell_type": "code",
   "execution_count": null,
   "id": "67e39c92",
   "metadata": {
    "scrolled": true
   },
   "outputs": [],
   "source": [
    "paths_fc  <- list.files(\"../../240617_VN_Diabetes_V06/tables/fold_change/\", full.names = T)\n",
    "dataset_names  <- list.files(\"../../240617_VN_Diabetes_V06/tables/fold_change\", full.names = F)\n",
    "\n",
    "paths_fc  <- paths_fc[grepl(paths_fc, pattern = \"l3\")|grepl(paths_fc, pattern = \"cd8_l2_unc\")|\n",
    "                      grepl(paths_fc, pattern = \"cd4_l2_unc\")|grepl(paths_fc, pattern = \"cd8_l2_nk\") ]\n",
    "\n",
    "dataset_names  <- dataset_names[grepl(dataset_names, pattern = \"l3\")|grepl(dataset_names, pattern = \"cd8_l2_unc\")|\n",
    "                      grepl(dataset_names, pattern = \"cd4_l2_unc\")|grepl(dataset_names, pattern = \"cd8_l2_nk\") ]\n",
    "\n",
    "paths_fc  <- paths_fc[grepl(paths_fc, pattern = \"Ctrl_vs_DiaT0\")|grepl(paths_fc, pattern = \"DiaT0_vs_DiaT1\")|\n",
    "                      grepl(paths_fc, pattern = \"Ctrl_vs_DiaT1\")|\n",
    "                      grepl(paths_fc, pattern = \"PR_0_T0_vs_PR_1_T0\")|grepl(paths_fc, pattern = \"ketoacidosis\")]\n",
    "\n",
    "dataset_names  <- dataset_names[grepl(dataset_names, pattern = \"Ctrl_vs_DiaT0\")|grepl(dataset_names, pattern = \"DiaT0_vs_DiaT1\")|\n",
    "                      grepl(dataset_names, pattern = \"Ctrl_vs_DiaT1\")|\n",
    "                      grepl(dataset_names, pattern = \"PR_0_T0_vs_PR_1_T0\")|grepl(dataset_names, pattern = \"ketoacidosis\")]\n"
   ]
  },
  {
   "cell_type": "code",
   "execution_count": null,
   "id": "752c1e1b",
   "metadata": {
    "scrolled": true
   },
   "outputs": [],
   "source": [
    "fcs  <- purrr::map(1:length(paths_fc), get_fc_genes)"
   ]
  },
  {
   "cell_type": "code",
   "execution_count": null,
   "id": "8a8b5ba5",
   "metadata": {},
   "outputs": [],
   "source": [
    "fcs  <- bind_rows(fcs)"
   ]
  },
  {
   "cell_type": "code",
   "execution_count": null,
   "id": "e6b55653",
   "metadata": {},
   "outputs": [],
   "source": [
    "fcs$population  <- substr(fcs$dataset, 1,11)\n",
    "\n",
    "table(fcs$population)\n",
    "\n",
    "fcs  <- fcs  %>% mutate(population2 = ifelse(grepl(population, pattern = \"_nk_\"), substr(population,1,9), population))\n",
    "\n",
    "fcs$population2  %>% table\n",
    "\n",
    "fcs  <- fcs  %>% mutate(n1 = as.numeric(nchar(dataset)))  %>% \n",
    "mutate(n2 = n1-12)  %>% \n",
    "mutate(test_type = substr(dataset,n2,n1))  \n",
    "\n",
    "\n",
    "fcs$test_type  %>% table"
   ]
  },
  {
   "cell_type": "code",
   "execution_count": null,
   "id": "97833ee9",
   "metadata": {
    "scrolled": true
   },
   "outputs": [],
   "source": [
    "fcs2  <- fcs  %>% mutate(andjus_logFC = ifelse(p_val_adj<0.05,avg_log2FC,avg_log2FC))  %>% \n",
    "dplyr::select(andjus_logFC, gene, dataset)"
   ]
  },
  {
   "cell_type": "code",
   "execution_count": null,
   "id": "b7cc52aa",
   "metadata": {},
   "outputs": [],
   "source": [
    "options(repr.plot.height = 8, repr.plot.width = 24)\n",
    "fcs  %>% \n",
    "ggplot(aes(x = factor(population2, levels = c(\n",
    "'cd8_l3_prol',\n",
    "'cd8_l3_tcm_',\n",
    "'cd4_l3_th1t',\n",
    "'cd4_l3_temr',\n",
    "'cd8_l3_temr',\n",
    "'cd4_l3_tfh_',\n",
    "'cd8_l3_naiv',\n",
    "'cd4_l3_naiv',\n",
    "'cd4_l3_th2_',\n",
    "'cd4_l3_nfkb',\n",
    "'cd4_l2_unc_',\n",
    "'cd4_l3_treg',\n",
    "'cd4_l3_isag',\n",
    "'cd4_l3_prol',\n",
    "'cd8_l3_tem_',\n",
    "'cd8_l2_nk',\n",
    "'cd8_l2_unc_'    \n",
    "))          \n",
    "           , y = factor(gene, levels = rev(hm)))) +\n",
    "geom_point(aes(size = -log(p_val_adj), color = avg_log2FC)) +\n",
    "scale_alpha_manual(values = c(0.5,1)) +\n",
    "scale_size_continuous(range = c(3,8))+\n",
    "ylab(\"\") + xlab(\"\") +\n",
    "facet_grid(cols = vars(test_type), space = \"free\", scales = \"free\") +\n",
    "scale_color_gradientn(colours = c(\"blue\", \"blue\",\"white\", \"red\",\"red\")) + \n",
    "theme_classic() + theme(axis.text.x = element_text(angle = 90)) + ggtheme()"
   ]
  },
  {
   "cell_type": "code",
   "execution_count": null,
   "id": "dba5ca9b",
   "metadata": {},
   "outputs": [],
   "source": [
    "ggsave(\"../figures/DE_genes/heatmap_deg.svg\", width = 45, height = 25, units = \"cm\", create.dir = TRUE)"
   ]
  },
  {
   "cell_type": "markdown",
   "id": "92359a0b",
   "metadata": {},
   "source": [
    "For the revisions, we will create the plot separately for CD4 and CD8. "
   ]
  },
  {
   "cell_type": "markdown",
   "id": "51bdc8ea",
   "metadata": {},
   "source": [
    "### CD8"
   ]
  },
  {
   "cell_type": "code",
   "execution_count": null,
   "id": "52212ed9",
   "metadata": {},
   "outputs": [],
   "source": [
    "options(repr.plot.height = 12, repr.plot.width = 16)\n",
    "fcs  %>% \n",
    "dplyr::filter(grepl(population2, pattern = \"cd8\"))  %>% \n",
    "ggplot(aes(x = factor(population2, levels = c(\n",
    "'cd8_l3_prol',\n",
    "'cd8_l3_tcm_',\n",
    "'cd4_l3_th1t',\n",
    "'cd4_l3_temr',\n",
    "'cd8_l3_temr',\n",
    "'cd4_l3_tfh_',\n",
    "'cd8_l3_naiv',\n",
    "'cd4_l3_naiv',\n",
    "'cd4_l3_th2_',\n",
    "'cd4_l3_nfkb',\n",
    "'cd4_l2_unc_',\n",
    "'cd4_l3_treg',\n",
    "'cd4_l3_isag',\n",
    "'cd4_l3_prol',\n",
    "'cd8_l3_tem_',\n",
    "'cd8_l2_nk',\n",
    "'cd8_l2_unc_'    \n",
    "))          \n",
    "           , y = factor(gene, levels = rev(hm)))) +\n",
    "geom_point(aes(size = -log(p_val_adj), color = avg_log2FC)) +\n",
    "scale_alpha_manual(values = c(0.5,1)) +\n",
    "scale_size_continuous(range = c(3,8))+\n",
    "ylab(\"\") + xlab(\"\") +\n",
    "facet_grid(cols = vars(test_type), space = \"free\", scales = \"free\") +\n",
    "scale_color_gradientn(colours = c(\"blue\", \"blue\",\"white\", \"red\",\"red\"),limits = c(-2, 2)) +\n",
    "theme_classic() + theme(axis.text.x = element_text(angle = 90)) + ggtheme()"
   ]
  },
  {
   "cell_type": "code",
   "execution_count": null,
   "id": "9e4e4f3a",
   "metadata": {},
   "outputs": [],
   "source": [
    "ggsave(\"../figures/DE_genes/heatmap_deg_cd8.svg\", width = 34, height = 28, units = \"cm\", create.dir = TRUE)"
   ]
  },
  {
   "cell_type": "markdown",
   "id": "715f27b1",
   "metadata": {},
   "source": [
    "### CD4"
   ]
  },
  {
   "cell_type": "code",
   "execution_count": null,
   "id": "b93ca805",
   "metadata": {},
   "outputs": [],
   "source": [
    "fcs  %>% \n",
    "dplyr::filter(grepl(population2, pattern = \"cd4\"))"
   ]
  },
  {
   "cell_type": "code",
   "execution_count": null,
   "id": "120d0ce1",
   "metadata": {},
   "outputs": [],
   "source": [
    "options(repr.plot.height = 12, repr.plot.width = 16)\n",
    "fcs  %>% \n",
    "dplyr::filter(grepl(population2, pattern = \"cd4\"))  %>% \n",
    "ggplot(aes(x = factor(population2, levels = c(\n",
    "'cd8_l3_prol',\n",
    "'cd8_l3_tcm_',\n",
    "'cd4_l3_th1t',\n",
    "'cd4_l3_temr',\n",
    "'cd8_l3_temr',\n",
    "'cd4_l3_tfh_',\n",
    "'cd8_l3_naiv',\n",
    "'cd4_l3_naiv',\n",
    "'cd4_l3_th2_',\n",
    "'cd4_l3_nfkb',\n",
    "'cd4_l2_unc_',\n",
    "'cd4_l3_treg',\n",
    "'cd4_l3_isag',\n",
    "'cd4_l3_prol',\n",
    "'cd8_l3_tem_',\n",
    "'cd8_l2_nk',\n",
    "'cd8_l2_unc_'    \n",
    "))          \n",
    "           , y = factor(gene, levels = rev(hm)))) +\n",
    "geom_point(aes(size = -log(p_val_adj), color = avg_log2FC)) +\n",
    "scale_alpha_manual(values = c(0.5,1)) +\n",
    "scale_size_continuous(range = c(3,8))+\n",
    "ylab(\"\") + xlab(\"\") +\n",
    "facet_grid(cols = vars(test_type), space = \"free\", scales = \"free\") +\n",
    "scale_color_gradientn(colours = c(\"blue\", \"blue\",\"white\", \"red\",\"red\"),limits = c(-1.5, 1.5)) +\n",
    "theme_classic() + theme(axis.text.x = element_text(angle = 90)) + ggtheme()"
   ]
  },
  {
   "cell_type": "code",
   "execution_count": null,
   "id": "558e2add",
   "metadata": {},
   "outputs": [],
   "source": [
    "ggsave(\"../figures/DE_genes/heatmap_deg_cd4.svg\", width = 40, height = 28, units = \"cm\", create.dir = TRUE)"
   ]
  },
  {
   "cell_type": "markdown",
   "id": "25057713",
   "metadata": {},
   "source": [
    "# Top 100 genes in datasets / comparisons"
   ]
  },
  {
   "cell_type": "code",
   "execution_count": null,
   "id": "8e8636b0",
   "metadata": {},
   "outputs": [],
   "source": [
    "get_fc_genes  <- function(j) {\n",
    "  print(j)\n",
    "fc.df  <- read_csv(paths_fc[j])  %>% as.data.frame()\n",
    "    if(grepl(paths_fc[j], pattern = \"Ctrl\")){\n",
    "fc.df  <- fc.df  %>%  arrange(desc(avg_log2FC)) %>% \n",
    "dplyr::filter(grepl(cluster, pattern = \"Dia\"))  \n",
    "        \n",
    "        } else {\n",
    "        \n",
    "   if(grepl(paths_fc[j], pattern = \"PR_0_T0\")){\n",
    "fc.df  <- fc.df  %>%  arrange(desc(avg_log2FC)) %>% \n",
    "dplyr::filter(grepl(cluster, pattern = \"PR_0 T0\"))  \n",
    "        } else {\n",
    "       \n",
    "        if(grepl(paths_fc[j], pattern = \"keto\")){\n",
    " fc.df  <- fc.df  %>%  arrange(desc(avg_log2FC)) %>% \n",
    "dplyr::filter(grepl(cluster, pattern = \"Keto_1 T0\"))   \n",
    "    } else {\n",
    " fc.df  <- fc.df  %>%  arrange(desc(avg_log2FC)) %>% \n",
    "dplyr::filter(grepl(cluster, pattern = \"Dia T0\"))   \n",
    "    }}}\n",
    "\n",
    "    fc.df$dataset  <-   gsub(dataset_names[j], pattern = \".csv\", replacement = \"\")\n",
    " return(fc.df)\n",
    "    }"
   ]
  },
  {
   "cell_type": "code",
   "execution_count": null,
   "id": "1a47ac2e",
   "metadata": {
    "scrolled": true
   },
   "outputs": [],
   "source": [
    "paths_fc  <- list.files(\"../../240617_VN_Diabetes_V06/tables/fold_change/\", full.names = T)\n",
    "dataset_names  <- list.files(\"../../240617_VN_Diabetes_V06/tables/fold_change\", full.names = F)\n",
    "\n",
    "paths_fc  <- paths_fc[grepl(paths_fc, pattern = \"l3\")|grepl(paths_fc, pattern = \"cd8_l2_unc\")|\n",
    "                      grepl(paths_fc, pattern = \"cd4_l2_unc\")|grepl(paths_fc, pattern = \"cd8_l2_nk\") ]\n",
    "\n",
    "dataset_names  <- dataset_names[grepl(dataset_names, pattern = \"l3\")|grepl(dataset_names, pattern = \"cd8_l2_unc\")|\n",
    "                      grepl(dataset_names, pattern = \"cd4_l2_unc\")|grepl(dataset_names, pattern = \"cd8_l2_nk\") ]\n",
    "\n",
    "paths_fc  <- paths_fc[grepl(paths_fc, pattern = \"Ctrl_vs_DiaT0\")|grepl(paths_fc, pattern = \"DiaT0_vs_DiaT1\")|\n",
    "                      grepl(paths_fc, pattern = \"Ctrl_vs_DiaT1\")|\n",
    "                      grepl(paths_fc, pattern = \"PR_0_T0_vs_PR_1_T0\")|grepl(paths_fc, pattern = \"ketoacidosis\")]\n",
    "\n",
    "dataset_names  <- dataset_names[grepl(dataset_names, pattern = \"Ctrl_vs_DiaT0\")|grepl(dataset_names, pattern = \"DiaT0_vs_DiaT1\")|\n",
    "                      grepl(dataset_names, pattern = \"Ctrl_vs_DiaT1\")|\n",
    "                      grepl(dataset_names, pattern = \"PR_0_T0_vs_PR_1_T0\")|grepl(dataset_names, pattern = \"ketoacidosis\")]\n"
   ]
  },
  {
   "cell_type": "code",
   "execution_count": null,
   "id": "7d6fc36d",
   "metadata": {
    "scrolled": true
   },
   "outputs": [],
   "source": [
    "fcs  <- purrr::map(1:length(paths_fc), get_fc_genes)"
   ]
  },
  {
   "cell_type": "code",
   "execution_count": null,
   "id": "218f6f47",
   "metadata": {},
   "outputs": [],
   "source": [
    "fcs  <- bind_rows(fcs)"
   ]
  },
  {
   "cell_type": "code",
   "execution_count": null,
   "id": "09bb3df2",
   "metadata": {},
   "outputs": [],
   "source": [
    "fcs$population  <- substr(fcs$dataset, 1,11)\n",
    "\n",
    "table(fcs$population)\n",
    "\n",
    "fcs  <- fcs  %>% mutate(population2 = ifelse(grepl(population, pattern = \"_nk_\"), substr(population,1,9), population))\n",
    "\n",
    "fcs$population2  %>% table\n",
    "\n",
    "fcs  <- fcs  %>% mutate(n1 = as.numeric(nchar(dataset)))  %>% \n",
    "mutate(n2 = n1-12)  %>% \n",
    "mutate(test_type = substr(dataset,n2,n1))  \n",
    "\n",
    "\n",
    "fcs$test_type  %>% table"
   ]
  },
  {
   "cell_type": "code",
   "execution_count": null,
   "id": "db3cd5d7",
   "metadata": {},
   "outputs": [],
   "source": [
    "fcs_cd8  <- fcs  %>% dplyr::filter(grepl(dataset, pattern = \"cd8\"))  %>% \n",
    "dplyr::filter(!grepl(gene, pattern = \"^IG\"))  %>% \n",
    "dplyr::filter(!grepl(gene, pattern = \"^MTR\"))  "
   ]
  },
  {
   "cell_type": "code",
   "execution_count": null,
   "id": "7a3e1b65",
   "metadata": {},
   "outputs": [],
   "source": [
    "fcs_cd4  <- fcs  %>% dplyr::filter(grepl(dataset, pattern = \"cd4\")) %>% \n",
    "dplyr::filter(!grepl(gene, pattern = \"^IG\"))  %>% \n",
    "dplyr::filter(!grepl(gene, pattern = \"^MTR\"))  "
   ]
  },
  {
   "cell_type": "markdown",
   "id": "65af17f8",
   "metadata": {},
   "source": [
    "### CD8"
   ]
  },
  {
   "cell_type": "code",
   "execution_count": null,
   "id": "7abea596",
   "metadata": {},
   "outputs": [],
   "source": [
    "fcs_cd8"
   ]
  },
  {
   "cell_type": "code",
   "execution_count": null,
   "id": "b44ab2d5",
   "metadata": {},
   "outputs": [],
   "source": [
    "fcs_cd8  %>% arrange(desc(avg_log2FC))"
   ]
  },
  {
   "cell_type": "code",
   "execution_count": null,
   "id": "3785d86e",
   "metadata": {},
   "outputs": [],
   "source": [
    "for(i in levels(factor(fcs_cd8$population2))){\n",
    "   for(j in levels(factor(fcs_cd8$population2))){\n",
    "    fcs1  <- fcs_cd8  %>% dplyr::filter(population2 == i)  \n",
    "    fcs2  <- fcs_cd8  %>% dplyr::filter(population2 == j) \n",
    "    \n",
    "    for(m in levels(factor(fcs_cd8$test_type))) {\n",
    "        \n",
    "       fcs3  <- fcs1  %>% dplyr::filter(test_type == m)  %>% arrange(desc(avg_log2FC))  %>% pull(gene)\n",
    "       fcs4  <- fcs2  %>% dplyr::filter(test_type == m)  %>% arrange(desc(avg_log2FC))  %>% pull(gene)\n",
    "        \n",
    "        if(m == levels(factor(fcs_cd8$test_type))[1]) {\n",
    "           df1  <- data.frame(population1 = i, \n",
    "                              population2 = j,\n",
    "                              test_type = m,\n",
    "                              overlap = length(intersect(fcs3[1:100],fcs4[1:100]))) \n",
    "            df_all  <-  df1\n",
    "        } else {\n",
    "            df1  <- data.frame(population1 = i, \n",
    "                              population2 = j,\n",
    "                              test_type = m,\n",
    "                              overlap = length(intersect(fcs3[1:100],fcs4[1:100]))) \n",
    "            df_all  <- rbind(df_all, df1)\n",
    "        }\n",
    "        \n",
    "       \n",
    "    }\n",
    "       \n",
    "    if(i == levels(factor(fcs_cd8$population2))[1] & j == levels(factor(fcs_cd8$population2))[1]){\n",
    "     df_all_all  <- df_all\n",
    "        \n",
    "    } else {\n",
    "      df_all_all  <- rbind(df_all_all, df_all)\n",
    "     \n",
    "        \n",
    "    }  \n",
    "       \n",
    "       \n",
    "    } \n",
    "        \n",
    "}\n",
    "\n"
   ]
  },
  {
   "cell_type": "code",
   "execution_count": null,
   "id": "2112fda5",
   "metadata": {
    "scrolled": true
   },
   "outputs": [],
   "source": [
    "df_all_all  %>% dplyr::filter(population1 == population2)"
   ]
  },
  {
   "cell_type": "code",
   "execution_count": null,
   "id": "02cd3c46",
   "metadata": {},
   "outputs": [],
   "source": [
    "breaks = seq(0, 100, length.out = 100)"
   ]
  },
  {
   "cell_type": "code",
   "execution_count": null,
   "id": "7de24e18",
   "metadata": {},
   "outputs": [],
   "source": [
    "dir.create(\"../figures/heatmaps/overlaps_deg/\")"
   ]
  },
  {
   "cell_type": "code",
   "execution_count": null,
   "id": "0d536d1e",
   "metadata": {},
   "outputs": [],
   "source": [
    "options(repr.plot.height = 6, repr.plot.width = 6.3)\n",
    "for(i in levels(factor(fcs_cd8$test_type))){\n",
    "\n",
    "hm  <- df_all_all  %>% \n",
    "dplyr::filter(test_type == i)  %>% \n",
    "    mutate(overlap = if_else(population1 == population2,0,overlap))  %>% \n",
    "pivot_wider(names_from = population2, values_from = overlap)  %>% \n",
    "dplyr::select(-test_type)  %>% \n",
    "column_to_rownames(\"population1\")  %>% \n",
    "    as.matrix()\n",
    "hm  <- hm[]    \n",
    "print(pheatmap::pheatmap(mat = hm, scale = \"none\", cluster_rows = F, cluster_cols = F, \n",
    "                         main = i, fontsize = 20,\n",
    "                        border_color = \"white\", breaks = breaks,\n",
    "         color = colorRampPalette(c(\"white\",\"#e8d7d7ff\", \"red\",\"red4\"))(length(breaks))\n",
    "         ))\n",
    "    \n",
    "pheatmap::pheatmap(mat = hm, scale = \"none\", cluster_rows = F, cluster_cols = F, \n",
    "                         main = i, fontsize = 20,\n",
    "                        border_color = \"white\", breaks = breaks,\n",
    "         color = colorRampPalette(c(\"white\",\"#e8d7d7ff\", \"red\",\"red4\"))(length(breaks)),\n",
    "                   filename = paste0(\"../figures/heatmaps/overlaps_deg/up_\",i,\".pdf\"),\n",
    "                   width = 6.3, height = 6\n",
    "         )    \n",
    "}"
   ]
  },
  {
   "cell_type": "code",
   "execution_count": null,
   "id": "6c633dc3",
   "metadata": {},
   "outputs": [],
   "source": [
    "for(i in levels(factor(fcs_cd8$population2))){\n",
    "   for(j in levels(factor(fcs_cd8$population2))){\n",
    "    fcs1  <- fcs_cd8  %>% dplyr::filter(population2 == i)  \n",
    "    fcs2  <- fcs_cd8  %>% dplyr::filter(population2 == j) \n",
    "    \n",
    "    for(m in levels(factor(fcs_cd8$test_type))) {\n",
    "        \n",
    "       fcs3  <- fcs1  %>% dplyr::filter(test_type == m)  %>% arrange((avg_log2FC))  %>% pull(gene)\n",
    "       fcs4  <- fcs2  %>% dplyr::filter(test_type == m)  %>% arrange((avg_log2FC))  %>% pull(gene)\n",
    "        \n",
    "        if(m == levels(factor(fcs_cd8$test_type))[1]) {\n",
    "           df1  <- data.frame(population1 = i, \n",
    "                              population2 = j,\n",
    "                              test_type = m,\n",
    "                              overlap = length(intersect(fcs3[1:100],fcs4[1:100]))) \n",
    "            df_all  <-  df1\n",
    "        } else {\n",
    "            df1  <- data.frame(population1 = i, \n",
    "                              population2 = j,\n",
    "                              test_type = m,\n",
    "                              overlap = length(intersect(fcs3[1:100],fcs4[1:100]))) \n",
    "            df_all  <- rbind(df_all, df1)\n",
    "        }\n",
    "        \n",
    "       \n",
    "    }\n",
    "       \n",
    "    if(i == levels(factor(fcs_cd8$population2))[1] & j == levels(factor(fcs_cd8$population2))[1]){\n",
    "     df_all_all_down  <- df_all\n",
    "        \n",
    "    } else {\n",
    "      df_all_all_down  <- rbind(df_all_all_down, df_all)\n",
    "     \n",
    "        \n",
    "    }  \n",
    "       \n",
    "       \n",
    "    } \n",
    "        \n",
    "}\n",
    "\n"
   ]
  },
  {
   "cell_type": "code",
   "execution_count": null,
   "id": "688a2889",
   "metadata": {},
   "outputs": [],
   "source": [
    "breaks = seq(0, 100, length.out = 100)"
   ]
  },
  {
   "cell_type": "code",
   "execution_count": null,
   "id": "db626882",
   "metadata": {},
   "outputs": [],
   "source": [
    "options(repr.plot.height = 6, repr.plot.width = 6.3)\n",
    "for(i in levels(factor(fcs_cd8$test_type))){\n",
    "\n",
    "hm  <- df_all_all_down  %>% \n",
    "dplyr::filter(test_type == i)  %>% \n",
    "    mutate(overlap = if_else(population1 == population2,0,overlap))  %>% \n",
    "pivot_wider(names_from = population2, values_from = overlap)  %>% \n",
    "dplyr::select(-test_type)  %>% \n",
    "column_to_rownames(\"population1\")  %>% \n",
    "    as.matrix()\n",
    "hm  <- hm[]    \n",
    "print(pheatmap::pheatmap(mat = hm, scale = \"none\", cluster_rows = F, cluster_cols = F, \n",
    "                         main = i, fontsize = 20,\n",
    "                        border_color = \"white\", breaks = breaks,\n",
    "         color = colorRampPalette(c(\"white\",\"#d1d1e4ff\", \"blue\",\"blue4\"))(length(breaks)),\n",
    "                         ,\n",
    "                   filename = paste0(\"../figures/heatmaps/overlaps_deg/down_\",i,\".pdf\"),\n",
    "                   width = 6.3, height = 6\n",
    "         ))\n",
    "}"
   ]
  },
  {
   "cell_type": "markdown",
   "id": "d07bcb4c",
   "metadata": {},
   "source": [
    "### CD4"
   ]
  },
  {
   "cell_type": "code",
   "execution_count": null,
   "id": "ed8ec24a",
   "metadata": {},
   "outputs": [],
   "source": [
    "for(i in levels(factor(fcs_cd4$population2))){\n",
    "   for(j in levels(factor(fcs_cd4$population2))){\n",
    "    fcs1  <- fcs_cd4  %>% dplyr::filter(population2 == i)  \n",
    "    fcs2  <- fcs_cd4  %>% dplyr::filter(population2 == j) \n",
    "    \n",
    "    for(m in levels(factor(fcs_cd4$test_type))) {\n",
    "        \n",
    "       fcs3  <- fcs1  %>% dplyr::filter(test_type == m)  %>% arrange(desc(avg_log2FC))  %>% pull(gene)\n",
    "       fcs4  <- fcs2  %>% dplyr::filter(test_type == m)  %>% arrange(desc(avg_log2FC))  %>% pull(gene)\n",
    "        \n",
    "        if(m == levels(factor(fcs_cd4$test_type))[1]) {\n",
    "           df1  <- data.frame(population1 = i, \n",
    "                              population2 = j,\n",
    "                              test_type = m,\n",
    "                              overlap = length(intersect(fcs3[1:100],fcs4[1:100]))) \n",
    "            df_all  <-  df1\n",
    "        } else {\n",
    "            df1  <- data.frame(population1 = i, \n",
    "                              population2 = j,\n",
    "                              test_type = m,\n",
    "                              overlap = length(intersect(fcs3[1:100],fcs4[1:100]))) \n",
    "            df_all  <- rbind(df_all, df1)\n",
    "        }\n",
    "        \n",
    "       \n",
    "    }\n",
    "       \n",
    "    if(i == levels(factor(fcs_cd4$population2))[1] & j == levels(factor(fcs_cd4$population2))[1]){\n",
    "     df_all_all  <- df_all\n",
    "        \n",
    "    } else {\n",
    "      df_all_all  <- rbind(df_all_all, df_all)\n",
    "     \n",
    "        \n",
    "    }  \n",
    "       \n",
    "       \n",
    "    } \n",
    "        \n",
    "}\n",
    "\n"
   ]
  },
  {
   "cell_type": "code",
   "execution_count": null,
   "id": "24b43713",
   "metadata": {
    "scrolled": true
   },
   "outputs": [],
   "source": [
    "df_all_all  %>% dplyr::filter(population1 == population2)"
   ]
  },
  {
   "cell_type": "code",
   "execution_count": null,
   "id": "d11e1895",
   "metadata": {},
   "outputs": [],
   "source": [
    "breaks = seq(0, 100, length.out = 100)"
   ]
  },
  {
   "cell_type": "code",
   "execution_count": null,
   "id": "27ff3899",
   "metadata": {},
   "outputs": [],
   "source": [
    "dir.create(\"../figures/heatmaps/overlaps_deg/\")"
   ]
  },
  {
   "cell_type": "code",
   "execution_count": null,
   "id": "9396b8c1",
   "metadata": {},
   "outputs": [],
   "source": [
    "options(repr.plot.height = 6, repr.plot.width = 6.3)\n",
    "for(i in levels(factor(fcs_cd4$test_type))){\n",
    "\n",
    "hm  <- df_all_all  %>% \n",
    "dplyr::filter(test_type == i)  %>% \n",
    "    mutate(overlap = if_else(population1 == population2,0,overlap))  %>% \n",
    "pivot_wider(names_from = population2, values_from = overlap)  %>% \n",
    "dplyr::select(-test_type)  %>% \n",
    "column_to_rownames(\"population1\")  %>% \n",
    "    as.matrix()\n",
    "hm  <- hm[]    \n",
    "print(pheatmap::pheatmap(mat = hm, scale = \"none\", cluster_rows = F, cluster_cols = F, \n",
    "                         main = i, fontsize = 20,\n",
    "                        border_color = \"white\", breaks = breaks,\n",
    "         color = colorRampPalette(c(\"white\",\"#e8d7d7ff\", \"red\",\"red4\"))(length(breaks))\n",
    "         ))\n",
    "    \n",
    "pheatmap::pheatmap(mat = hm, scale = \"none\", cluster_rows = F, cluster_cols = F, \n",
    "                         main = i, fontsize = 20,\n",
    "                        border_color = \"white\", breaks = breaks,\n",
    "         color = colorRampPalette(c(\"white\",\"#e8d7d7ff\", \"red\",\"red4\"))(length(breaks)),\n",
    "                   filename = paste0(\"../figures/heatmaps/overlaps_deg/up_cd4_\",i,\".pdf\"),\n",
    "                   width = 6.3, height = 6\n",
    "         )    \n",
    "}"
   ]
  },
  {
   "cell_type": "code",
   "execution_count": null,
   "id": "cb8e8b4e",
   "metadata": {},
   "outputs": [],
   "source": [
    "for(i in levels(factor(fcs_cd4$population2))){\n",
    "   for(j in levels(factor(fcs_cd4$population2))){\n",
    "    fcs1  <- fcs_cd4  %>% dplyr::filter(population2 == i)  \n",
    "    fcs2  <- fcs_cd4  %>% dplyr::filter(population2 == j) \n",
    "    \n",
    "    for(m in levels(factor(fcs_cd4$test_type))) {\n",
    "        \n",
    "       fcs3  <- fcs1  %>% dplyr::filter(test_type == m)  %>% arrange((avg_log2FC))  %>% pull(gene)\n",
    "       fcs4  <- fcs2  %>% dplyr::filter(test_type == m)  %>% arrange((avg_log2FC))  %>% pull(gene)\n",
    "        \n",
    "        if(m == levels(factor(fcs_cd4$test_type))[1]) {\n",
    "           df1  <- data.frame(population1 = i, \n",
    "                              population2 = j,\n",
    "                              test_type = m,\n",
    "                              overlap = length(intersect(fcs3[1:100],fcs4[1:100]))) \n",
    "            df_all  <-  df1\n",
    "        } else {\n",
    "            df1  <- data.frame(population1 = i, \n",
    "                              population2 = j,\n",
    "                              test_type = m,\n",
    "                              overlap = length(intersect(fcs3[1:100],fcs4[1:100]))) \n",
    "            df_all  <- rbind(df_all, df1)\n",
    "        }\n",
    "        \n",
    "       \n",
    "    }\n",
    "       \n",
    "    if(i == levels(factor(fcs_cd4$population2))[1] & j == levels(factor(fcs_cd4$population2))[1]){\n",
    "     df_all_all_down  <- df_all\n",
    "        \n",
    "    } else {\n",
    "      df_all_all_down  <- rbind(df_all_all_down, df_all)\n",
    "     \n",
    "        \n",
    "    }  \n",
    "       \n",
    "       \n",
    "    } \n",
    "        \n",
    "}\n",
    "\n"
   ]
  },
  {
   "cell_type": "code",
   "execution_count": null,
   "id": "39a59870",
   "metadata": {},
   "outputs": [],
   "source": [
    "breaks = seq(0, 100, length.out = 100)"
   ]
  },
  {
   "cell_type": "code",
   "execution_count": null,
   "id": "6dbf7886",
   "metadata": {},
   "outputs": [],
   "source": [
    "options(repr.plot.height = 6, repr.plot.width = 6.3)\n",
    "for(i in levels(factor(fcs_cd4$test_type))){\n",
    "\n",
    "hm  <- df_all_all_down  %>% \n",
    "dplyr::filter(test_type == i)  %>% \n",
    "    mutate(overlap = if_else(population1 == population2,0,overlap))  %>% \n",
    "pivot_wider(names_from = population2, values_from = overlap)  %>% \n",
    "dplyr::select(-test_type)  %>% \n",
    "column_to_rownames(\"population1\")  %>% \n",
    "    as.matrix()\n",
    "hm  <- hm[]    \n",
    "print(pheatmap::pheatmap(mat = hm, scale = \"none\", cluster_rows = F, cluster_cols = F, \n",
    "                         main = i, fontsize = 20,\n",
    "                        border_color = \"white\", breaks = breaks,\n",
    "         color = colorRampPalette(c(\"white\",\"#d1d1e4ff\", \"blue\",\"blue4\"))(length(breaks)),\n",
    "                         ,\n",
    "                   filename = paste0(\"../figures/heatmaps/overlaps_deg/down_cd4_\",i,\".pdf\"),\n",
    "                   width = 6.3, height = 6\n",
    "         ))\n",
    "}"
   ]
  },
  {
   "cell_type": "markdown",
   "id": "ca3a7710",
   "metadata": {},
   "source": [
    "# GSEA"
   ]
  },
  {
   "cell_type": "markdown",
   "id": "55cc9b92",
   "metadata": {},
   "source": [
    "In this part, we will be focusing on GSEA analyses calculated from the fold changes between T1D patients and healthy donors. First, we will calculate the log fold changes for each dataset and for the following contrasts:\n",
    "\n",
    "* T1D T0 vs Healthy\n",
    "* T1D T1 vs Healthy\n",
    "* T1D T0 vs T1D T1\n",
    "* T1D Partial remission no vs T1D Partial remission yes in T0\n",
    "* T1D Partial remission no vs T1D Partial remission yes in T1\n",
    "* T1D Ketoacidosis no vs T1D Ketoacidosis yes\n",
    "\n",
    "Note that the first condition represents the worse state of (or lack of) disease so positive logFC is generally associated with disease, while negative logFC is generally associated with health."
   ]
  },
  {
   "cell_type": "markdown",
   "id": "977354f6",
   "metadata": {},
   "source": [
    "## Fold Changes in Our Dataset"
   ]
  },
  {
   "cell_type": "markdown",
   "id": "99ec3497",
   "metadata": {},
   "source": [
    "We will load all the datasets in which we will calculate logFCs. Please note that this takes very long time to run, so please download the GSEA tables from the Zenodo and load them if you want to save time. "
   ]
  },
  {
   "cell_type": "code",
   "execution_count": null,
   "id": "e0f3c945",
   "metadata": {},
   "outputs": [],
   "source": [
    "cd8_l3_tem  <- readRDS(\"../data/processed/L3/cd8_l3_tem.rds\")\n",
    "cd8_l3_naive  <- readRDS(\"../data/processed/L3/cd8_l3_naive.rds\")\n",
    "cd8_l3_tcm  <- readRDS(\"../data/processed/L3/cd8_l3_tcm.rds\")\n",
    "cd8_l3_temra  <- readRDS(\"../data/processed/L3/cd8_l3_temra.rds\")\n",
    "cd8_l3_prolif  <- readRDS(\"../data/processed/L3/cd8_l3_prolif.rds\")\n",
    "cd8_l2_subcluster  <- readRDS(\"../data/processed/L2/cd8_l2_subcluster.rds\")\n",
    "cd8_l2_nk  <- readRDS(\"../data/processed/L2/cd8_l2_nk.rds\")\n",
    "cd8_l2_unc  <- readRDS(\"../data/processed/L2/cd8_l2_unc.rds\")\n",
    "cd8_l1_full_filt  <- readRDS(\"../data/processed/L1/cd8_l1_full_filt.rds\")\n",
    "cd4_l3_naive  <- readRDS(\"../data/processed/L3/cd4_l3_naive.rds\")\n",
    "cd4_l3_tfh  <- readRDS(\"../data/processed/L3/cd4_l3_tfh.rds\")\n",
    "cd4_l3_th1th17  <- readRDS(\"../data/processed/L3/cd4_l3_th1_17.rds\")\n",
    "cd4_l3_nfkb  <- readRDS(\"../data/processed/L3/cd4_l3_nfkb.rds\")\n",
    "cd4_l3_th2  <- readRDS(\"../data/processed/L3/cd4_l3_th2.rds\")\n",
    "cd4_l3_treg  <- readRDS(\"../data/processed/L3/cd4_l3_treg.rds\")\n",
    "cd4_l3_isaghi  <- readRDS(\"../data/processed/L3/cd4_l3_isaghi.rds\")\n",
    "cd4_l3_proliferating  <- readRDS(\"../data/processed/L3/cd4_l3_proliferating.rds\")\n",
    "cd4_l3_temra  <- readRDS(\"../data/processed/L3/cd4_l3_temra.rds\")\n",
    "cd4_l2_unc  <- readRDS(\"../data/processed/L2/cd4_l2_unc.rds\")\n",
    "cd4_l2_subcluster  <- readRDS(\"../data/processed/L2/cd4_subcluster.rds\")\n",
    "cd4_l1_full_filt  <- readRDS(\"../data/processed/L1/cd4_l1_full_filt.rds\")\n",
    "cd8_l2_subcluster  <- readRDS(\"../data/processed/L2/cd8_l2_subcluster.rds\")"
   ]
  },
  {
   "cell_type": "markdown",
   "id": "63aa2b77",
   "metadata": {},
   "source": [
    "We will create list of these datasets. "
   ]
  },
  {
   "cell_type": "code",
   "execution_count": null,
   "id": "142dcdc0",
   "metadata": {},
   "outputs": [],
   "source": [
    "dataset_list  <- list(cd8_l3_tem, cd8_l3_naive, cd8_l3_tcm, cd8_l3_temra, cd8_l3_prolif, \n",
    "                    cd8_l2_nk, cd8_l2_unc, cd8_l1_full_filt,\n",
    "                     cd4_l3_naive, cd4_l3_tfh, cd4_l3_th1th17, cd4_l3_nfkb, cd4_l3_th2,\n",
    "                     cd4_l3_treg, cd4_l3_isaghi, cd4_l3_proliferating, cd4_l3_temra,\n",
    "                     cd4_l2_unc, cd4_l2_subcluster, cd4_l1_full_filt, cd8_l2_subcluster)\n",
    "\n",
    "names(dataset_list) <- c(\"cd8_l3_tem\", \"cd8_l3_naive\", \"cd8_l3_tcm\", \"cd8_l3_temra\", \"cd8_l3_prolif\",\n",
    "                       \"cd8_l2_nk\", \"cd8_l2_unc\", \"cd8_l1_full_filt\",\n",
    "                        \"cd4_l3_naive\", \"cd4_l3_tfh\", \"cd4_l3_th1th17\", \"cd4_l3_nfkb\", \"cd4_l3_th2\",\n",
    "                     \"cd4_l3_treg\", \"cd4_l3_isaghi\", \"cd4_l3_proliferating\", \"cd4_l3_temra\",\n",
    "                     \"cd4_l2_unc\", \"cd4_l2_subcluster\", \"cd4_l1_full_filt\", \"cd8_l2_subcluster\")"
   ]
  },
  {
   "cell_type": "code",
   "execution_count": null,
   "id": "6313f641",
   "metadata": {},
   "outputs": [],
   "source": [
    "options(future.globals.maxSize = 2000 * 1024^2)"
   ]
  },
  {
   "cell_type": "code",
   "execution_count": null,
   "id": "66ef0e93",
   "metadata": {},
   "outputs": [],
   "source": [
    "dir.create(\"../tables/fold_change/\")"
   ]
  },
  {
   "cell_type": "markdown",
   "id": "86b660e1",
   "metadata": {},
   "source": [
    "First, let's calculate DEG between T1D (both timepoints) and healthy. "
   ]
  },
  {
   "cell_type": "code",
   "execution_count": null,
   "id": "5e813383",
   "metadata": {
    "scrolled": true
   },
   "outputs": [],
   "source": [
    "#plan(\"multisession\", workers = 4)\n",
    "\n",
    "for(i in 1:length(dataset_list)){\n",
    "\n",
    "seurat_object  <- dataset_list[[i]]\n",
    "DefaultAssay(seurat_object)  <- \"RNA\"\n",
    "Idents(seurat_object)  <- seurat_object$Disease\n",
    "\n",
    "fc.seurat_object <- FindAllMarkers(seurat_object, \n",
    "                          test.use = \"wilcox\", \n",
    "                          logfc.threshold = -Inf, min.pct = -Inf, min.diff.pct = -Inf,\n",
    "                                   only.pos = F,  \n",
    "                                   min.cells.feature = 1, return.thresh = 1)\n",
    "\n",
    "write.csv(fc.seurat_object, paste0(\"../tables/fold_change/\", names(dataset_list)[i], \".csv\"))\n",
    "}"
   ]
  },
  {
   "cell_type": "markdown",
   "id": "4fd3f3fe",
   "metadata": {},
   "source": [
    "Then calculate all DEG in all contrasts. "
   ]
  },
  {
   "cell_type": "code",
   "execution_count": null,
   "id": "9518a581",
   "metadata": {},
   "outputs": [],
   "source": [
    "#plan(\"multisession\", workers = 8)\n",
    "\n",
    "for(i in 1:length(dataset_list)){\n",
    "###### Ctrl T0 vs Dia T0\n",
    "seurat_object  <- subset(dataset_list[[i]], Condition %in% c(\"Ctrl T0\", \"Dia T0\"))\n",
    "DefaultAssay(seurat_object)  <- \"RNA\"\n",
    "Idents(seurat_object)  <- seurat_object$Condition\n",
    "\n",
    "fc.seurat_object <- FindAllMarkers(seurat_object, \n",
    "                          test.use = \"wilcox\", \n",
    "                          logfc.threshold = -Inf, min.pct = -Inf, min.diff.pct = -Inf,\n",
    "                                   only.pos = F,  \n",
    "                                   min.cells.feature = 1, return.thresh = 1)\n",
    "\n",
    "write.csv(fc.seurat_object, paste0(\"../tables/fold_change/\", names(dataset_list)[i], \"_Ctrl_vs_DiaT0.csv\"))\n",
    "    \n",
    "####### Ctrl T0 vs Dia T1\n",
    "seurat_object  <- subset(dataset_list[[i]], Condition %in% c(\"Ctrl T0\", \"Dia T1\"))\n",
    "DefaultAssay(seurat_object)  <- \"RNA\"\n",
    "Idents(seurat_object)  <- seurat_object$Condition\n",
    "\n",
    "fc.seurat_object <- FindAllMarkers(seurat_object, \n",
    "                          test.use = \"wilcox\", \n",
    "                          logfc.threshold = -Inf, min.pct = -Inf, min.diff.pct = -Inf,\n",
    "                                   only.pos = F,  \n",
    "                                   min.cells.feature = 1, return.thresh = 1)\n",
    "\n",
    "write.csv(fc.seurat_object, paste0(\"../tables/fold_change/\", names(dataset_list)[i], \"_Ctrl_vs_DiaT1.csv\"))\n",
    "    \n",
    "    ####### Dia T0 vs Dia T1\n",
    "seurat_object  <- subset(dataset_list[[i]], Condition %in% c(\"Dia T0\", \"Dia T1\"))\n",
    "DefaultAssay(seurat_object)  <- \"RNA\"\n",
    "Idents(seurat_object)  <- seurat_object$Condition\n",
    "\n",
    "fc.seurat_object <- FindAllMarkers(seurat_object, \n",
    "                          test.use = \"wilcox\", \n",
    "                          logfc.threshold = -Inf, min.pct = -Inf, min.diff.pct = -Inf,\n",
    "                                   only.pos = F,  \n",
    "                                   min.cells.feature = 1, return.thresh = 1)\n",
    "\n",
    "write.csv(fc.seurat_object, paste0(\"../tables/fold_change/\", names(dataset_list)[i], \"_DiaT0_vs_DiaT1.csv\"))\n",
    "    \n",
    "    ####### Part remission\n",
    "seurat_object  <- subset(dataset_list[[i]], Condition2 %in% c(\"Part_remission_0\", \"Part_remission_1\"))\n",
    "DefaultAssay(seurat_object)  <- \"RNA\"\n",
    "Idents(seurat_object)  <- seurat_object$Condition2\n",
    "\n",
    "fc.seurat_object <- FindAllMarkers(seurat_object, \n",
    "                          test.use = \"wilcox\", \n",
    "                          logfc.threshold = -Inf, min.pct = -Inf, min.diff.pct = -Inf,\n",
    "                                   only.pos = F,  \n",
    "                                   min.cells.feature = 1, return.thresh = 1)\n",
    "\n",
    "write.csv(fc.seurat_object, paste0(\"../tables/fold_change/\", names(dataset_list)[i], \"_remission.csv\"))\n",
    "}"
   ]
  },
  {
   "cell_type": "markdown",
   "id": "36e4d106",
   "metadata": {},
   "source": [
    "Add metadata to calculate remission and ketoacidosis. "
   ]
  },
  {
   "cell_type": "code",
   "execution_count": null,
   "id": "0a0c64f7",
   "metadata": {},
   "outputs": [],
   "source": [
    "md_for_remission  <- cd4_l1_full_filt@meta.data  %>% \n",
    "dplyr::filter(Condition %in% c(\"Dia T0\"))  %>% \n",
    "group_by(Patient_ID, part_remission_y_n)  %>% \n",
    "tally %>% mutate(Condition2 = paste0(\"PR_\",part_remission_y_n))  %>% \n",
    "dplyr::select(-n, -part_remission_y_n)\n",
    "\n",
    "for( i in 1:length(dataset_list)) {\n",
    "    \n",
    "    dataset_list[[i]]$Condition2  <- NULL\n",
    "    dataset_list[[i]]@meta.data  <- dataset_list[[i]]@meta.data  %>% \n",
    "    left_join(md_for_remission)  %>% mutate(Condition2 = paste(Condition2, Time))  %>% \n",
    "    mutate(Condition2 = ifelse(grepl(Condition2, pattern = \"NA\"), NA_character_,Condition2))\n",
    "    \n",
    "    print(dataset_list[[i]]$Condition2  %>% table)\n",
    "    rownames(dataset_list[[i]]@meta.data)  <- colnames(dataset_list[[i]])\n",
    "}"
   ]
  },
  {
   "cell_type": "code",
   "execution_count": null,
   "id": "56e84e28",
   "metadata": {},
   "outputs": [],
   "source": [
    "md_for_ketoacidosis  <- cd4_l1_full_filt@meta.data  %>% \n",
    "dplyr::filter(Condition %in% c(\"Dia T0\"))  %>% \n",
    "group_by(Patient_ID, ph_man)  %>% \n",
    "tally %>% mutate(Ketoacidosis = ifelse(ph_man<7.3,\"Keto_1\",\"Keto_0\"))  %>% \n",
    "dplyr::select(-ph_man, -n)\n",
    "\n",
    "for( i in 1:length(dataset_list)) {\n",
    "    \n",
    "    #dataset_list[[i]]$Ketoacidosis  <- NULL\n",
    "    dataset_list[[i]]@meta.data  <- dataset_list[[i]]@meta.data  %>% \n",
    "    left_join(md_for_ketoacidosis)   %>% mutate(Keto_Time = paste(Ketoacidosis, Time))  %>% \n",
    "    mutate(Keto_Time = ifelse(grepl(Keto_Time, pattern = \"NA\"), NA_character_,Keto_Time))\n",
    "    \n",
    "    print(dataset_list[[i]]$Ketoacidosis  %>% table)\n",
    "    rownames(dataset_list[[i]]@meta.data)  <- colnames(dataset_list[[i]])\n",
    "}"
   ]
  },
  {
   "cell_type": "code",
   "execution_count": null,
   "id": "354a0db9",
   "metadata": {},
   "outputs": [],
   "source": [
    "plan(\"multisession\", workers = 4)\n",
    "\n",
    "for(i in 1:length(dataset_list)){\n",
    "###### Keto_Time\n",
    "seurat_object  <- subset(dataset_list[[i]], Keto_Time %in% c(\"Keto_1 T0\", \"Keto_0 T0\"))\n",
    "DefaultAssay(seurat_object)  <- \"RNA\"\n",
    "Idents(seurat_object)  <- seurat_object$Keto_Time\n",
    "\n",
    "fc.seurat_object <- FindAllMarkers(seurat_object, \n",
    "                          test.use = \"wilcox\", \n",
    "                          logfc.threshold = -Inf, min.pct = -Inf, min.diff.pct = -Inf,\n",
    "                                   only.pos = F,  \n",
    "                                   min.cells.feature = 1, return.thresh = 1)\n",
    "\n",
    "write.csv(fc.seurat_object, paste0(\"../tables/fold_change/\", names(dataset_list)[i], \"_ketoacidosis.csv\"))\n",
    "    \n",
    "####### PR0 T0 vs PR0 T1\n",
    "seurat_object  <- subset(dataset_list[[i]], Condition2 %in% c(\"PR_0 T0\", \"PR_0 T1\"))\n",
    "DefaultAssay(seurat_object)  <- \"RNA\"\n",
    "Idents(seurat_object)  <- seurat_object$Condition2\n",
    "\n",
    "fc.seurat_object <- FindAllMarkers(seurat_object, \n",
    "                          test.use = \"wilcox\", \n",
    "                          logfc.threshold = -Inf, min.pct = -Inf, min.diff.pct = -Inf,\n",
    "                                   only.pos = F,  \n",
    "                                   min.cells.feature = 1, return.thresh = 1)\n",
    "\n",
    "write.csv(fc.seurat_object, paste0(\"../tables/fold_change/\", names(dataset_list)[i], \"_PR_0_T0_vs_PR_0_T1.csv\"))\n",
    "    \n",
    "####### PR1 T0 vs PR1 T1\n",
    "seurat_object  <- subset(dataset_list[[i]], Condition2 %in% c(\"PR_1 T0\", \"PR_1 T1\"))\n",
    "DefaultAssay(seurat_object)  <- \"RNA\"\n",
    "Idents(seurat_object)  <- seurat_object$Condition2\n",
    "\n",
    "fc.seurat_object <- FindAllMarkers(seurat_object, \n",
    "                          test.use = \"wilcox\", \n",
    "                          logfc.threshold = -Inf, min.pct = -Inf, min.diff.pct = -Inf,\n",
    "                                   only.pos = F,  \n",
    "                                   min.cells.feature = 1, return.thresh = 1)\n",
    "\n",
    "write.csv(fc.seurat_object, paste0(\"../tables/fold_change/\", names(dataset_list)[i], \"_PR_1_T0_vs_PR_1_T1.csv\"))\n",
    "    \n",
    "####### PR0 T0 vs PR1 T0\n",
    "seurat_object  <- subset(dataset_list[[i]], Condition2 %in% c(\"PR_0 T0\", \"PR_1 T0\"))\n",
    "DefaultAssay(seurat_object)  <- \"RNA\"\n",
    "Idents(seurat_object)  <- seurat_object$Condition2\n",
    "\n",
    "fc.seurat_object <- FindAllMarkers(seurat_object, \n",
    "                          test.use = \"wilcox\", \n",
    "                          logfc.threshold = -Inf, min.pct = -Inf, min.diff.pct = -Inf,\n",
    "                                   only.pos = F,  \n",
    "                                   min.cells.feature = 1, return.thresh = 1)\n",
    "\n",
    "write.csv(fc.seurat_object, paste0(\"../tables/fold_change/\", names(dataset_list)[i], \"_PR_0_T0_vs_PR_1_T0.csv\"))\n",
    "    \n",
    "    ####### PR0 T1 vs PR1 T1\n",
    "seurat_object  <- subset(dataset_list[[i]], Condition2 %in% c(\"PR_0 T1\", \"PR_1 T1\"))\n",
    "DefaultAssay(seurat_object)  <- \"RNA\"\n",
    "Idents(seurat_object)  <- seurat_object$Condition2\n",
    "\n",
    "fc.seurat_object <- FindAllMarkers(seurat_object, \n",
    "                          test.use = \"wilcox\", \n",
    "                          logfc.threshold = -Inf, min.pct = -Inf, min.diff.pct = -Inf,\n",
    "                                   only.pos = F,  \n",
    "                                   min.cells.feature = 1, return.thresh = 1)\n",
    "\n",
    "write.csv(fc.seurat_object, paste0(\"../tables/fold_change/\", names(dataset_list)[i], \"_PR_0_T1_vs_PR_1_T1.csv\"))\n",
    "    }"
   ]
  },
  {
   "cell_type": "markdown",
   "id": "07bec32c",
   "metadata": {},
   "source": [
    "## Test GSEA all pathways"
   ]
  },
  {
   "cell_type": "markdown",
   "id": "b56fe8e1",
   "metadata": {},
   "source": [
    "From the calculated fold changes, we will perform GSEA analysis using fgsea. "
   ]
  },
  {
   "cell_type": "code",
   "execution_count": null,
   "id": "239910ea",
   "metadata": {},
   "outputs": [],
   "source": [
    "m_df <- msigdbr(species = \"Homo sapiens\", category = \"C7\")\n"
   ]
  },
  {
   "cell_type": "code",
   "execution_count": null,
   "id": "c080cb84",
   "metadata": {},
   "outputs": [],
   "source": [
    "fgsea_sets <- m_df %>% split(x = .$gene_symbol, f = .$gs_name)"
   ]
  },
  {
   "cell_type": "markdown",
   "id": "7338cca0",
   "metadata": {},
   "source": [
    "Let's read the precalculated fold changes. "
   ]
  },
  {
   "cell_type": "code",
   "execution_count": null,
   "id": "8fb67cce",
   "metadata": {},
   "outputs": [],
   "source": [
    "paths_fc  <- list.files(\"../../240218_VN_Diabetes_V05/tables/fold_change\", full.names = T)\n",
    "dataset_names  <- list.files(\"../../240218_VN_Diabetes_V05/tables/fold_change\", full.names = F)\n"
   ]
  },
  {
   "cell_type": "code",
   "execution_count": null,
   "id": "5ea105e5",
   "metadata": {},
   "outputs": [],
   "source": [
    "paths_fc"
   ]
  },
  {
   "cell_type": "code",
   "execution_count": null,
   "id": "73acb73c",
   "metadata": {},
   "outputs": [],
   "source": [
    "paths_fc  <- paths_fc[which(grepl(paths_fc, pattern = \"Ctrl\")|grepl(paths_fc, pattern = \"DiaT0_vs_DiaT1\"))]"
   ]
  },
  {
   "cell_type": "code",
   "execution_count": null,
   "id": "8ee69544",
   "metadata": {},
   "outputs": [],
   "source": [
    "dataset_names  <- dataset_names[which(grepl(dataset_names, pattern = \"Ctrl\")|grepl(dataset_names, pattern = \"DiaT0_vs_DiaT1\"))]"
   ]
  },
  {
   "cell_type": "markdown",
   "id": "48c4fc9a",
   "metadata": {},
   "source": [
    "## C7 pathways"
   ]
  },
  {
   "cell_type": "code",
   "execution_count": null,
   "id": "11b65871",
   "metadata": {},
   "outputs": [],
   "source": [
    "gsea_all_pathways  <- function(j) {\n",
    "  print(j)\n",
    "fc.df  <- read_csv(paths_fc[j])  %>% as.data.frame()\n",
    "    if(grepl(paths_fc[j], pattern = \"Ctrl\")){\n",
    "fc.df  <- fc.df  %>%  arrange(desc(avg_log2FC)) %>% \n",
    "dplyr::filter(grepl(cluster, pattern = \"Dia\"))  %>% \n",
    "  dplyr::select(gene, avg_log2FC)\n",
    "ranks<- deframe(fc.df)\n",
    "        } else {\n",
    " fc.df  <- fc.df  %>%  arrange(desc(avg_log2FC)) %>% \n",
    "dplyr::filter(grepl(cluster, pattern = \"Dia T0\"))  %>% \n",
    "  dplyr::select(gene, avg_log2FC)\n",
    "ranks<- deframe(fc.df)       \n",
    "    }\n",
    "fgseaRes <- fgsea(pathways = fgsea_sets, \n",
    "                 stats = ranks)\n",
    " fgseaRes$dataset  <-   gsub(dataset_names[j], pattern = \".csv\", replacement = \"\")\n",
    " return(fgseaRes)\n",
    "    }"
   ]
  },
  {
   "cell_type": "code",
   "execution_count": null,
   "id": "a3edbf09",
   "metadata": {
    "scrolled": true
   },
   "outputs": [],
   "source": [
    "gsea  <- map(.x = c(1:length(paths_fc)), .f = gsea_all_pathways)"
   ]
  },
  {
   "cell_type": "code",
   "execution_count": null,
   "id": "f20fe1a5",
   "metadata": {},
   "outputs": [],
   "source": [
    "gseas  <- bind_rows(gsea)"
   ]
  },
  {
   "cell_type": "code",
   "execution_count": null,
   "id": "9c7b375c",
   "metadata": {},
   "outputs": [],
   "source": [
    "dir.create(\"../tables/gsea\")"
   ]
  },
  {
   "cell_type": "code",
   "execution_count": null,
   "id": "af80522e",
   "metadata": {},
   "outputs": [],
   "source": [
    "gseas_df  <- gseas  %>% as.data.frame"
   ]
  },
  {
   "cell_type": "code",
   "execution_count": null,
   "id": "ce8ba81a",
   "metadata": {
    "scrolled": true
   },
   "outputs": [],
   "source": [
    "gseas_df  <- gseas_df  %>% mutate(\n",
    "    leadingEdge2 = paste(leadingEdge))"
   ]
  },
  {
   "cell_type": "code",
   "execution_count": null,
   "id": "71d41793",
   "metadata": {},
   "outputs": [],
   "source": [
    "gseas_df$leadingEdge  <- NULL"
   ]
  },
  {
   "cell_type": "code",
   "execution_count": null,
   "id": "5f161497",
   "metadata": {},
   "outputs": [],
   "source": [
    "write.csv(gseas_df, \"../tables/gsea/gsea_fold_changes_for_heatmap.csv\")"
   ]
  },
  {
   "cell_type": "code",
   "execution_count": null,
   "id": "c74c717b",
   "metadata": {},
   "outputs": [],
   "source": [
    "gseas_df  <- read_csv(\"../../240218_VN_Diabetes_V05/tables/gsea/gsea_fold_changes_for_heatmap.csv\")"
   ]
  },
  {
   "cell_type": "markdown",
   "id": "2ccc568b",
   "metadata": {},
   "source": [
    "## Hallmark pathways"
   ]
  },
  {
   "cell_type": "code",
   "execution_count": null,
   "id": "f2a08b94",
   "metadata": {},
   "outputs": [],
   "source": [
    "m_df<- msigdbr(species = \"Homo sapiens\", category = \"H\")\n",
    "\n",
    "\n",
    "fgsea_sets<- m_df %>% split(x = .$gene_symbol, f = .$gs_name)"
   ]
  },
  {
   "cell_type": "code",
   "execution_count": null,
   "id": "8af5a8b8",
   "metadata": {},
   "outputs": [],
   "source": [
    "names(fgsea_sets)"
   ]
  },
  {
   "cell_type": "code",
   "execution_count": null,
   "id": "68171bcd",
   "metadata": {},
   "outputs": [],
   "source": [
    "gsea_all_pathways  <- function(j) {\n",
    "  print(j)\n",
    "fc.df  <- read_csv(paths_fc[j])  %>% as.data.frame()\n",
    "    if(grepl(paths_fc[j], pattern = \"Ctrl\")){\n",
    "fc.df  <- fc.df  %>%  arrange(desc(avg_log2FC)) %>% \n",
    "dplyr::filter(grepl(cluster, pattern = \"Dia\"))  %>% \n",
    "  dplyr::select(gene, avg_log2FC)\n",
    "ranks<- deframe(fc.df)\n",
    "        } else {\n",
    " fc.df  <- fc.df  %>%  arrange(desc(avg_log2FC)) %>% \n",
    "dplyr::filter(grepl(cluster, pattern = \"Dia T0\"))  %>% \n",
    "  dplyr::select(gene, avg_log2FC)\n",
    "ranks<- deframe(fc.df)       \n",
    "    }\n",
    "fgseaRes <- fgsea(pathways = fgsea_sets, \n",
    "                 stats = ranks)\n",
    " fgseaRes$dataset  <-   gsub(dataset_names[j], pattern = \".csv\", replacement = \"\")\n",
    " return(fgseaRes)\n",
    "    }"
   ]
  },
  {
   "cell_type": "code",
   "execution_count": null,
   "id": "1bec8774",
   "metadata": {
    "scrolled": true
   },
   "outputs": [],
   "source": [
    "gsea  <- map(.x = c(1:length(paths_fc)), .f = gsea_all_pathways)"
   ]
  },
  {
   "cell_type": "code",
   "execution_count": null,
   "id": "597e4976",
   "metadata": {},
   "outputs": [],
   "source": [
    "gseas  <- bind_rows(gsea)"
   ]
  },
  {
   "cell_type": "code",
   "execution_count": null,
   "id": "24395778",
   "metadata": {
    "scrolled": true
   },
   "outputs": [],
   "source": [
    "gseas  %>% arrange(padj)"
   ]
  },
  {
   "cell_type": "code",
   "execution_count": null,
   "id": "10d7caec",
   "metadata": {},
   "outputs": [],
   "source": [
    "gseas_df  <- gseas  %>% as.data.frame"
   ]
  },
  {
   "cell_type": "code",
   "execution_count": null,
   "id": "126c3f91",
   "metadata": {
    "scrolled": true
   },
   "outputs": [],
   "source": [
    "gseas_df  <- gseas_df  %>% mutate(\n",
    "    leadingEdge2 = paste(leadingEdge))"
   ]
  },
  {
   "cell_type": "code",
   "execution_count": null,
   "id": "2dd11bbc",
   "metadata": {},
   "outputs": [],
   "source": [
    "gseas_df$leadingEdge  <- NULL"
   ]
  },
  {
   "cell_type": "code",
   "execution_count": null,
   "id": "72c68c0b",
   "metadata": {},
   "outputs": [],
   "source": [
    "write.csv(gseas_df, \"../tables/gsea/gsea_fold_changes_for_heatmap_hallmark.csv\")"
   ]
  },
  {
   "cell_type": "markdown",
   "id": "0b95d0ae",
   "metadata": {},
   "source": [
    "# Plot GSEA figure"
   ]
  },
  {
   "cell_type": "markdown",
   "id": "73a20fa7",
   "metadata": {},
   "source": [
    "Here, we will prepare the GSEA plots for the figure. "
   ]
  },
  {
   "cell_type": "code",
   "execution_count": null,
   "id": "8b5d77be",
   "metadata": {},
   "outputs": [],
   "source": [
    "m_df<- msigdbr(species = \"Homo sapiens\", category = \"C2\")\n",
    "\n",
    "fgsea_sets_hs_c2 <- m_df %>% split(x = .$gene_symbol, f = .$gs_name)"
   ]
  },
  {
   "cell_type": "code",
   "execution_count": null,
   "id": "235649e5",
   "metadata": {},
   "outputs": [],
   "source": [
    "m_df<- msigdbr(species = \"Homo sapiens\", category = \"C7\")\n",
    "\n",
    "fgsea_sets_hs_c7 <- m_df %>% split(x = .$gene_symbol, f = .$gs_name)"
   ]
  },
  {
   "cell_type": "markdown",
   "id": "250e917e",
   "metadata": {},
   "source": [
    "## Ranks T0"
   ]
  },
  {
   "cell_type": "markdown",
   "id": "f02c4055",
   "metadata": {},
   "source": [
    "First, let's use the fold changes from the contrast Dia T0 vs healthy. "
   ]
  },
  {
   "cell_type": "code",
   "execution_count": null,
   "id": "3eb67e0a",
   "metadata": {},
   "outputs": [],
   "source": [
    "paths_fc  <- list.files(\"../../240218_VN_Diabetes_V05/tables/fold_change\", full.names = T)\n",
    "dataset_names  <- list.files(\"../../240218_VN_Diabetes_V05/tables/fold_change\", full.names = F)\n",
    "\n",
    "\n",
    "paths_fc  <- paths_fc[grepl(paths_fc, pattern = \"_Ctrl_vs_DiaT0\")]\n",
    "dataset_names  <- dataset_names[grepl(dataset_names, pattern = \"_Ctrl_vs_DiaT0\")]\n",
    "\n",
    "dataset_names\n",
    "\n",
    "paths_fc"
   ]
  },
  {
   "cell_type": "code",
   "execution_count": null,
   "id": "dc58bedc",
   "metadata": {},
   "outputs": [],
   "source": [
    "fc.df  <- read_csv(paths_fc[1])  %>% as.data.frame()\n",
    "fc.df  <- fc.df  %>%  arrange(desc(avg_log2FC)) %>% \n",
    "dplyr::filter(cluster == \"Dia T0\")  %>% \n",
    "  dplyr::select(gene, avg_log2FC)\n",
    "ranks_cd4_t0 <- deframe(fc.df)"
   ]
  },
  {
   "cell_type": "code",
   "execution_count": null,
   "id": "707df375",
   "metadata": {},
   "outputs": [],
   "source": [
    "fc.df  <- read_csv(paths_fc[13])  %>% as.data.frame()\n",
    "fc.df  <- fc.df  %>%  arrange(desc(avg_log2FC)) %>% \n",
    "dplyr::filter(cluster == \"Dia T0\")  %>% \n",
    "  dplyr::select(gene, avg_log2FC)\n",
    "ranks_cd8_t0 <- deframe(fc.df)"
   ]
  },
  {
   "cell_type": "code",
   "execution_count": null,
   "id": "33d492af",
   "metadata": {
    "scrolled": true
   },
   "outputs": [],
   "source": [
    "ranks_cd8_t0"
   ]
  },
  {
   "cell_type": "markdown",
   "id": "6c032f8f",
   "metadata": {},
   "source": [
    "## Ranks T1"
   ]
  },
  {
   "cell_type": "markdown",
   "id": "4f31dd5d",
   "metadata": {},
   "source": [
    "Next, let's use the fold changes from the contrast Dia T1 vs healthy. "
   ]
  },
  {
   "cell_type": "code",
   "execution_count": null,
   "id": "1482a0e8",
   "metadata": {},
   "outputs": [],
   "source": [
    "paths_fc2  <- list.files(\"../../240218_VN_Diabetes_V05/tables/fold_change\", full.names = T)\n",
    "dataset_names2  <- list.files(\"../../240218_VN_Diabetes_V05/tables/fold_change\", full.names = F)\n",
    "\n",
    "\n",
    "paths_fc2  <- paths_fc2[grepl(paths_fc2, pattern = \"_Ctrl_vs_DiaT1\")]\n",
    "dataset_names2  <- dataset_names2[grepl(dataset_names2, pattern = \"_Ctrl_vs_DiaT1\")]"
   ]
  },
  {
   "cell_type": "code",
   "execution_count": null,
   "id": "c0a0bd0e",
   "metadata": {},
   "outputs": [],
   "source": [
    "paths_fc2\n",
    "dataset_names2\n"
   ]
  },
  {
   "cell_type": "code",
   "execution_count": null,
   "id": "046f393e",
   "metadata": {},
   "outputs": [],
   "source": [
    "fc.df  <- read_csv(paths_fc2[1])  %>% as.data.frame()\n",
    "fc.df  <- fc.df  %>%  arrange(desc(avg_log2FC)) %>% \n",
    "dplyr::filter(cluster == \"Dia T1\")  %>% \n",
    "  dplyr::select(gene, avg_log2FC)\n",
    "ranks_cd4_t1 <- deframe(fc.df)\n",
    "\n"
   ]
  },
  {
   "cell_type": "code",
   "execution_count": null,
   "id": "0e322244",
   "metadata": {},
   "outputs": [],
   "source": [
    "fc.df  <- read_csv(paths_fc2[13])  %>% as.data.frame()\n",
    "fc.df  <- fc.df  %>%  arrange(desc(avg_log2FC)) %>% \n",
    "dplyr::filter(cluster == \"Dia T1\")  %>% \n",
    "  dplyr::select(gene, avg_log2FC)\n",
    "ranks_cd8_t1 <- deframe(fc.df)"
   ]
  },
  {
   "cell_type": "code",
   "execution_count": null,
   "id": "7987b816",
   "metadata": {},
   "outputs": [],
   "source": [
    "paths_fc2[13]"
   ]
  },
  {
   "cell_type": "code",
   "execution_count": null,
   "id": "2e482f7a",
   "metadata": {
    "scrolled": true
   },
   "outputs": [],
   "source": [
    "ranks_cd8_t1"
   ]
  },
  {
   "cell_type": "markdown",
   "id": "fabe7624",
   "metadata": {},
   "source": [
    "We will plot any pathway in the different contrasts:\n",
    "* CD8 Dia T0 vs Ctrl.\n",
    "* CD8 Dia T1 vs Ctrl.\n",
    "* CD4 Dia T0 vs Ctrl.\n",
    "* CD4 Dia T1 vs Ctrl."
   ]
  },
  {
   "cell_type": "code",
   "execution_count": null,
   "id": "eb08b4eb",
   "metadata": {},
   "outputs": [],
   "source": [
    "plot_four_gsea_condition  <- function(gsea, fgsea_set){\n",
    "   fgsea_sets  <- fgsea_set\n",
    "    p  <- plotEnrichment(fgsea_sets[[gsea]],\n",
    "               ranks_cd8_t0) + labs(title=\"CD8 Dia T0 vs Ctrl.\") + ylim(-0.8,0.8) + ggtheme() +\n",
    "    plotEnrichment(fgsea_sets[[gsea]],\n",
    "               ranks_cd8_t1) + labs(title=\"CD8 Dia T1 vs Ctrl.\") + ylim(-0.8,0.8) + ggtheme() +\n",
    "    plotEnrichment(fgsea_sets[[gsea]],\n",
    "               ranks_cd4_t0) + labs(title=\"CD4 Dia T0 vs Ctrl.\") + ylim(-0.8,0.8) + ggtheme() +\n",
    "    plotEnrichment(fgsea_sets[[gsea]],\n",
    "               ranks_cd4_t1) + labs(title=\"CD4 Dia T1 vs Ctrl.\") + ylim(-0.8,0.8) +  ggtheme() + \n",
    "    plot_annotation(title = gsea)\n",
    "    \n",
    "    ggsave(p, filename = paste0(\"../figures/gsea/\",gsea,\".svg\"), width = 24, height = 24, units = \"cm\")\n",
    "    return(p)\n",
    "}"
   ]
  },
  {
   "cell_type": "code",
   "execution_count": null,
   "id": "1e9c8923",
   "metadata": {},
   "outputs": [],
   "source": [
    "library(patchwork)"
   ]
  },
  {
   "cell_type": "code",
   "execution_count": null,
   "id": "7e07ff36",
   "metadata": {},
   "outputs": [],
   "source": [
    "ggtheme <- function() {\n",
    "  theme(\n",
    "    axis.text = element_text(size = 20),\n",
    "    axis.title = element_text(size = 20),\n",
    "    text = element_text(size = 20, colour = \"black\"),\n",
    "    legend.text = element_text(size = 20),\n",
    "    legend.key.size =  unit(10, units = \"points\")\n",
    "    \n",
    "  )\n",
    "}"
   ]
  },
  {
   "cell_type": "code",
   "execution_count": null,
   "id": "db70d7b4",
   "metadata": {},
   "outputs": [],
   "source": [
    "plot_four_gsea_condition(\"GSE11057_NAIVE_VS_EFF_MEMORY_CD4_TCELL_UP\", fgsea_sets_hs_c7)"
   ]
  },
  {
   "cell_type": "code",
   "execution_count": null,
   "id": "05fe9c0c",
   "metadata": {},
   "outputs": [],
   "source": [
    "plot_four_gsea_condition(\"GSE9650_NAIVE_VS_EFF_CD8_TCELL_UP\", fgsea_sets_hs_c7)"
   ]
  },
  {
   "cell_type": "code",
   "execution_count": null,
   "id": "ed72ffae",
   "metadata": {},
   "outputs": [],
   "source": [
    "plot_four_gsea_condition(\"GSE9650_NAIVE_VS_EFF_CD8_TCELL_DN\", fgsea_sets_hs_c7)"
   ]
  },
  {
   "cell_type": "code",
   "execution_count": null,
   "id": "ec4dab40",
   "metadata": {},
   "outputs": [],
   "source": [
    "plot_four_gsea_condition(\"GSE22886_NAIVE_CD8_TCELL_VS_NKCELL_UP\", fgsea_sets_hs_c7)"
   ]
  },
  {
   "cell_type": "code",
   "execution_count": null,
   "id": "3e58b895",
   "metadata": {},
   "outputs": [],
   "source": [
    "plot_four_gsea_condition(\"GSE22886_NAIVE_CD8_TCELL_VS_NKCELL_DN\", fgsea_sets_hs_c7)"
   ]
  },
  {
   "cell_type": "code",
   "execution_count": null,
   "id": "15d6deb8",
   "metadata": {},
   "outputs": [],
   "source": [
    "plot_four_gsea_condition(\"GSE22886_NAIVE_CD4_TCELL_VS_NKCELL_DN\", fgsea_sets_hs_c7)"
   ]
  },
  {
   "cell_type": "code",
   "execution_count": null,
   "id": "b9fc76f2",
   "metadata": {},
   "outputs": [],
   "source": [
    "plot_four_gsea_condition(\"GSE22886_NAIVE_CD4_TCELL_VS_NKCELL_UP\", fgsea_sets_hs_c7)"
   ]
  },
  {
   "cell_type": "markdown",
   "id": "a345ea2d",
   "metadata": {},
   "source": [
    "# GSEA in KetoAcidosis and Remission"
   ]
  },
  {
   "cell_type": "markdown",
   "id": "eb58a377",
   "metadata": {},
   "source": [
    "We will use the same approach to plot GSEA in ketoacidosis and PR. "
   ]
  },
  {
   "cell_type": "code",
   "execution_count": null,
   "id": "a0c010d4",
   "metadata": {},
   "outputs": [],
   "source": [
    "library(msigdbr)"
   ]
  },
  {
   "cell_type": "code",
   "execution_count": null,
   "id": "f8d73837",
   "metadata": {},
   "outputs": [],
   "source": [
    "m_df<- msigdbr(species = \"Homo sapiens\", category = \"C7\")\n"
   ]
  },
  {
   "cell_type": "code",
   "execution_count": null,
   "id": "86088af5",
   "metadata": {},
   "outputs": [],
   "source": [
    "fgsea_sets<- m_df %>% split(x = .$gene_symbol, f = .$gs_name)"
   ]
  },
  {
   "cell_type": "code",
   "execution_count": null,
   "id": "f199cf8c",
   "metadata": {},
   "outputs": [],
   "source": [
    "paths_fc  <- list.files(\"../../240218_VN_Diabetes_V05/tables/fold_change\", full.names = T)\n",
    "dataset_names  <- list.files(\"../../240218_VN_Diabetes_V05/tables/fold_change\", full.names = F)\n"
   ]
  },
  {
   "cell_type": "code",
   "execution_count": null,
   "id": "b9584a1f",
   "metadata": {},
   "outputs": [],
   "source": [
    "paths_fc  <- paths_fc[which(grepl(paths_fc, pattern = \"ketoacidosis\")|grepl(paths_fc, pattern = \"PR_0_T0_vs_PR_1_T0\"))]"
   ]
  },
  {
   "cell_type": "code",
   "execution_count": null,
   "id": "75d3c489",
   "metadata": {},
   "outputs": [],
   "source": [
    "dataset_names  <- dataset_names[which(grepl(dataset_names, pattern = \"ketoacidosis\")|grepl(dataset_names, pattern = \"PR_0_T0_vs_PR_1_T0\"))]"
   ]
  },
  {
   "cell_type": "code",
   "execution_count": null,
   "id": "f7009570",
   "metadata": {},
   "outputs": [],
   "source": [
    "fc.df  <- read_csv(paths_fc[1])  %>% as.data.frame()"
   ]
  },
  {
   "cell_type": "code",
   "execution_count": null,
   "id": "09a8010c",
   "metadata": {
    "scrolled": true
   },
   "outputs": [],
   "source": [
    "fc.df"
   ]
  },
  {
   "cell_type": "code",
   "execution_count": null,
   "id": "eac652ca",
   "metadata": {},
   "outputs": [],
   "source": [
    "fc.df  <- fc.df  %>%  arrange(desc(avg_log2FC)) %>% \n",
    "dplyr::filter(cluster == \"Keto_1 T0\")  %>% \n",
    "  dplyr::select(gene, avg_log2FC)\n",
    "ranks_cd4_keto <- deframe(fc.df)"
   ]
  },
  {
   "cell_type": "code",
   "execution_count": null,
   "id": "c2e68d75",
   "metadata": {},
   "outputs": [],
   "source": [
    "fc.df  <- read_csv(paths_fc[2])  %>% as.data.frame()"
   ]
  },
  {
   "cell_type": "code",
   "execution_count": null,
   "id": "50dcced8",
   "metadata": {
    "scrolled": true
   },
   "outputs": [],
   "source": [
    "fc.df"
   ]
  },
  {
   "cell_type": "code",
   "execution_count": null,
   "id": "50185718",
   "metadata": {},
   "outputs": [],
   "source": [
    "fc.df  <- fc.df  %>%  arrange(desc(avg_log2FC)) %>% \n",
    "dplyr::filter(cluster == \"PR_0 T0\")  %>% \n",
    "  dplyr::select(gene, avg_log2FC)\n",
    "ranks_cd4_pr <- deframe(fc.df)"
   ]
  },
  {
   "cell_type": "code",
   "execution_count": null,
   "id": "722aae6c",
   "metadata": {
    "scrolled": true
   },
   "outputs": [],
   "source": [
    "ranks_cd4_pr"
   ]
  },
  {
   "cell_type": "markdown",
   "id": "096b3dcb",
   "metadata": {},
   "source": [
    "CD8 populations"
   ]
  },
  {
   "cell_type": "code",
   "execution_count": null,
   "id": "044de0ce",
   "metadata": {},
   "outputs": [],
   "source": [
    "paths_fc[25]"
   ]
  },
  {
   "cell_type": "code",
   "execution_count": null,
   "id": "b5c4c560",
   "metadata": {
    "scrolled": true
   },
   "outputs": [],
   "source": [
    "fc.df  <- read_csv(paths_fc[25])  %>% as.data.frame()\n",
    "fc.df  <- fc.df  %>%  arrange(desc(avg_log2FC)) %>% \n",
    "dplyr::filter(cluster == \"Keto_1 T0\")  %>% \n",
    "  dplyr::select(gene, avg_log2FC)\n",
    "ranks_cd8_keto <- deframe(fc.df)"
   ]
  },
  {
   "cell_type": "code",
   "execution_count": null,
   "id": "00921970",
   "metadata": {},
   "outputs": [],
   "source": [
    "paths_fc[26]"
   ]
  },
  {
   "cell_type": "code",
   "execution_count": null,
   "id": "5c002943",
   "metadata": {},
   "outputs": [],
   "source": [
    "fc.df  <- read_csv(paths_fc[26])  %>% as.data.frame()\n",
    "fc.df  <- fc.df  %>%  arrange(desc(avg_log2FC)) %>% \n",
    "dplyr::filter(cluster == \"PR_0 T0\")  %>% \n",
    "  dplyr::select(gene, avg_log2FC)\n",
    "ranks_cd8_pr <- deframe(fc.df)"
   ]
  },
  {
   "cell_type": "code",
   "execution_count": null,
   "id": "8c9e3345",
   "metadata": {},
   "outputs": [],
   "source": [
    "library(patchwork)"
   ]
  },
  {
   "cell_type": "code",
   "execution_count": null,
   "id": "2ada196d",
   "metadata": {},
   "outputs": [],
   "source": [
    "plot_four_gsea_condition  <- function(gsea, fgsea_set){\n",
    "   fgsea_sets  <- fgsea_set\n",
    "    p  <- plotEnrichment(fgsea_sets[[gsea]],\n",
    "               ranks_cd4_keto) + labs(title=\"CD4 Keto yes vs no at T0\") + ylim(-0.8,0.8) + ggtheme() +\n",
    "    plotEnrichment(fgsea_sets[[gsea]],\n",
    "               ranks_cd4_pr) + labs(title=\"CD4 PR no vs yes at T0\") + ylim(-0.8,0.8) + ggtheme() +\n",
    "    plotEnrichment(fgsea_sets[[gsea]],\n",
    "               ranks_cd8_keto) + labs(title=\"CD8 Keto yes vs no at T0\") + ylim(-0.8,0.8) + ggtheme() +\n",
    "    plotEnrichment(fgsea_sets[[gsea]],\n",
    "               ranks_cd8_pr) + labs(title=\"CD8 PR no vs yes at T0\") + ylim(-0.8,0.8) +  ggtheme() + \n",
    "    plot_annotation(title = gsea)\n",
    "    \n",
    "    ggsave(p, filename = paste0(\"../figures/gsea/\",gsea,\".svg\"), width = 24, height = 24, units = \"cm\")\n",
    "    return(p)\n",
    "}"
   ]
  },
  {
   "cell_type": "code",
   "execution_count": null,
   "id": "5bd5e988",
   "metadata": {},
   "outputs": [],
   "source": [
    "m_df<- msigdbr(species = \"Homo sapiens\", category = \"C2\")\n",
    "fgsea_sets_hs_c2 <- m_df %>% split(x = .$gene_symbol, f = .$gs_name)"
   ]
  },
  {
   "cell_type": "code",
   "execution_count": null,
   "id": "95eaeda2",
   "metadata": {},
   "outputs": [],
   "source": [
    "fgsea_sets_hs_c2[[\"REACTOME_INTERFERON_ALPHA_BETA_SIGNALING\"]]"
   ]
  },
  {
   "cell_type": "code",
   "execution_count": null,
   "id": "1d29cabd",
   "metadata": {},
   "outputs": [],
   "source": [
    "m_df<- msigdbr(species = \"Homo sapiens\", category = \"C7\")\n",
    "fgsea_sets_hs_c7 <- m_df %>% split(x = .$gene_symbol, f = .$gs_name)"
   ]
  },
  {
   "cell_type": "code",
   "execution_count": null,
   "id": "c11f3390",
   "metadata": {},
   "outputs": [],
   "source": [
    "fgsea_sets_hs_c7[[\"GSE11057_NAIVE_VS_EFF_MEMORY_CD4_TCELL_DN\"]]"
   ]
  },
  {
   "cell_type": "code",
   "execution_count": null,
   "id": "4bedfaca",
   "metadata": {},
   "outputs": [],
   "source": [
    "plot_four_gsea_condition(\"GSE11057_NAIVE_VS_EFF_MEMORY_CD4_TCELL_DN\", fgsea_sets_hs_c7)"
   ]
  },
  {
   "cell_type": "code",
   "execution_count": null,
   "id": "5abc028a",
   "metadata": {},
   "outputs": [],
   "source": []
  },
  {
   "cell_type": "code",
   "execution_count": null,
   "id": "9bbdd0ab",
   "metadata": {},
   "outputs": [],
   "source": [
    "plot_four_gsea_condition(\"GSE11057_NAIVE_VS_EFF_MEMORY_CD4_TCELL_UP\", fgsea_sets_hs_c7)"
   ]
  },
  {
   "cell_type": "code",
   "execution_count": null,
   "id": "ed131b15",
   "metadata": {},
   "outputs": [],
   "source": []
  },
  {
   "cell_type": "code",
   "execution_count": null,
   "id": "526f915b",
   "metadata": {},
   "outputs": [],
   "source": [
    "plot_four_gsea_condition(\"GSE9650_NAIVE_VS_EFF_CD8_TCELL_DN\", fgsea_sets_hs_c7)"
   ]
  },
  {
   "cell_type": "code",
   "execution_count": null,
   "id": "f3213033",
   "metadata": {},
   "outputs": [],
   "source": []
  },
  {
   "cell_type": "code",
   "execution_count": null,
   "id": "88d92e9b",
   "metadata": {},
   "outputs": [],
   "source": [
    "plot_four_gsea_condition(\"GSE9650_NAIVE_VS_EFF_CD8_TCELL_UP\", fgsea_sets_hs_c7)"
   ]
  },
  {
   "cell_type": "markdown",
   "id": "e18e1f01",
   "metadata": {},
   "source": [
    "## C7 pathways"
   ]
  },
  {
   "cell_type": "code",
   "execution_count": null,
   "id": "d7f985f5",
   "metadata": {},
   "outputs": [],
   "source": [
    "gsea_all_pathways  <- function(j) {\n",
    "  print(j)\n",
    "fc.df  <- read_csv(paths_fc[j])  %>% as.data.frame()\n",
    "    if(grepl(paths_fc[j], pattern = \"PR_0_T0\")){\n",
    "fc.df  <- fc.df  %>%  arrange(desc(avg_log2FC)) %>% \n",
    "dplyr::filter(grepl(cluster, pattern = \"PR_0 T0\"))  %>% \n",
    "  dplyr::select(gene, avg_log2FC)\n",
    "ranks<- deframe(fc.df)\n",
    "        } else {\n",
    " fc.df  <- fc.df  %>%  arrange(desc(avg_log2FC)) %>% \n",
    "dplyr::filter(grepl(cluster, pattern = \"Keto_1 T0\"))  %>% \n",
    "  dplyr::select(gene, avg_log2FC)\n",
    "ranks<- deframe(fc.df)       \n",
    "    }\n",
    "fgseaRes <- fgsea(pathways = fgsea_sets, \n",
    "                 stats = ranks)\n",
    " fgseaRes$dataset  <-   gsub(dataset_names[j], pattern = \".csv\", replacement = \"\")\n",
    " return(fgseaRes)\n",
    "    }"
   ]
  },
  {
   "cell_type": "code",
   "execution_count": null,
   "id": "a41d799b",
   "metadata": {
    "scrolled": true
   },
   "outputs": [],
   "source": [
    "gsea  <- map(.x = c(1:length(paths_fc)), .f = gsea_all_pathways)"
   ]
  },
  {
   "cell_type": "code",
   "execution_count": null,
   "id": "5a2d0be4",
   "metadata": {},
   "outputs": [],
   "source": [
    "gseas  <- bind_rows(gsea)"
   ]
  },
  {
   "cell_type": "code",
   "execution_count": null,
   "id": "293a6a8e",
   "metadata": {
    "scrolled": true
   },
   "outputs": [],
   "source": [
    "gseas  %>% arrange(padj)"
   ]
  },
  {
   "cell_type": "code",
   "execution_count": null,
   "id": "e19c9f6e",
   "metadata": {},
   "outputs": [],
   "source": [
    "dir.create(\"../tables/gsea\")"
   ]
  },
  {
   "cell_type": "code",
   "execution_count": null,
   "id": "eafb60db",
   "metadata": {},
   "outputs": [],
   "source": [
    "gseas_df  <- gseas  %>% as.data.frame"
   ]
  },
  {
   "cell_type": "code",
   "execution_count": null,
   "id": "bff7b789",
   "metadata": {
    "scrolled": true
   },
   "outputs": [],
   "source": [
    "gseas_df  <- gseas_df  %>% mutate(\n",
    "    leadingEdge2 = paste(leadingEdge))"
   ]
  },
  {
   "cell_type": "code",
   "execution_count": null,
   "id": "58144411",
   "metadata": {},
   "outputs": [],
   "source": [
    "gseas_df$leadingEdge  <- NULL"
   ]
  },
  {
   "cell_type": "code",
   "execution_count": null,
   "id": "78603eed",
   "metadata": {},
   "outputs": [],
   "source": [
    "write.csv(gseas_df, \"../tables/gsea/gsea_fold_changes_for_heatmap_ketoPR.csv\")"
   ]
  },
  {
   "cell_type": "code",
   "execution_count": null,
   "id": "69b64af2",
   "metadata": {},
   "outputs": [],
   "source": [
    "gseas_df"
   ]
  },
  {
   "cell_type": "markdown",
   "id": "6064c9af",
   "metadata": {},
   "source": [
    "## Hallmark pathways"
   ]
  },
  {
   "cell_type": "code",
   "execution_count": null,
   "id": "4ca844bd",
   "metadata": {},
   "outputs": [],
   "source": [
    "m_df<- msigdbr(species = \"Homo sapiens\", category = \"H\")\n",
    "\n",
    "\n",
    "fgsea_sets<- m_df %>% split(x = .$gene_symbol, f = .$gs_name)"
   ]
  },
  {
   "cell_type": "code",
   "execution_count": null,
   "id": "98d6bee8",
   "metadata": {
    "scrolled": true
   },
   "outputs": [],
   "source": [
    "names(fgsea_sets)"
   ]
  },
  {
   "cell_type": "code",
   "execution_count": null,
   "id": "67c1ba78",
   "metadata": {},
   "outputs": [],
   "source": [
    "gsea_all_pathways  <- function(j) {\n",
    "  print(j)\n",
    "fc.df  <- read_csv(paths_fc[j])  %>% as.data.frame()\n",
    "    if(grepl(paths_fc[j], pattern = \"PR_0_T0\")){\n",
    "fc.df  <- fc.df  %>%  arrange(desc(avg_log2FC)) %>% \n",
    "dplyr::filter(grepl(cluster, pattern = \"PR_0 T0\"))  %>% \n",
    "  dplyr::select(gene, avg_log2FC)\n",
    "ranks<- deframe(fc.df)\n",
    "        } else {\n",
    " fc.df  <- fc.df  %>%  arrange(desc(avg_log2FC)) %>% \n",
    "dplyr::filter(grepl(cluster, pattern = \"Keto_1 T0\"))  %>% \n",
    "  dplyr::select(gene, avg_log2FC)\n",
    "ranks<- deframe(fc.df)       \n",
    "    }\n",
    "fgseaRes <- fgsea(pathways = fgsea_sets, \n",
    "                 stats = ranks)\n",
    " fgseaRes$dataset  <-   gsub(dataset_names[j], pattern = \".csv\", replacement = \"\")\n",
    " return(fgseaRes)\n",
    "    }"
   ]
  },
  {
   "cell_type": "code",
   "execution_count": null,
   "id": "d8d3e27a",
   "metadata": {
    "scrolled": true
   },
   "outputs": [],
   "source": [
    "gsea  <- map(.x = c(1:length(paths_fc)), .f = gsea_all_pathways)"
   ]
  },
  {
   "cell_type": "code",
   "execution_count": null,
   "id": "01d01de4",
   "metadata": {},
   "outputs": [],
   "source": [
    "gseas  <- bind_rows(gsea)"
   ]
  },
  {
   "cell_type": "code",
   "execution_count": null,
   "id": "fcf25613",
   "metadata": {
    "scrolled": true
   },
   "outputs": [],
   "source": [
    "gseas  %>% arrange(padj)"
   ]
  },
  {
   "cell_type": "code",
   "execution_count": null,
   "id": "495a532c",
   "metadata": {},
   "outputs": [],
   "source": [
    "gseas_df  <- gseas  %>% as.data.frame"
   ]
  },
  {
   "cell_type": "code",
   "execution_count": null,
   "id": "e5ae7863",
   "metadata": {
    "scrolled": true
   },
   "outputs": [],
   "source": [
    "gseas_df  <- gseas_df  %>% mutate(\n",
    "    leadingEdge2 = paste(leadingEdge))"
   ]
  },
  {
   "cell_type": "code",
   "execution_count": null,
   "id": "a8e98a9b",
   "metadata": {},
   "outputs": [],
   "source": [
    "gseas_df$leadingEdge  <- NULL"
   ]
  },
  {
   "cell_type": "code",
   "execution_count": null,
   "id": "56ba3a05",
   "metadata": {},
   "outputs": [],
   "source": [
    "write.csv(gseas_df, \"../tables/gsea/gsea_fold_changes_for_heatmap_hallmark_ketoPR.csv\")"
   ]
  },
  {
   "cell_type": "code",
   "execution_count": null,
   "id": "0dc1aa1e",
   "metadata": {},
   "outputs": [],
   "source": [
    "gseas_df"
   ]
  },
  {
   "cell_type": "markdown",
   "id": "e01f8941",
   "metadata": {},
   "source": [
    "# Heatmap of selected GSEAS"
   ]
  },
  {
   "cell_type": "code",
   "execution_count": null,
   "id": "6c778859",
   "metadata": {},
   "outputs": [],
   "source": [
    "paths_fc  <- list.files(\"../../240617_VN_Diabetes_V06/tables/gsea/\", full.names = T)\n"
   ]
  },
  {
   "cell_type": "code",
   "execution_count": null,
   "id": "38d7fc59",
   "metadata": {},
   "outputs": [],
   "source": [
    "paths_fc  <- paths_fc[grepl(paths_fc, pattern = \"gsea_fold_changes_for_heatmap\")]"
   ]
  },
  {
   "cell_type": "code",
   "execution_count": null,
   "id": "a73e58d6",
   "metadata": {},
   "outputs": [],
   "source": [
    "paths_fc"
   ]
  },
  {
   "cell_type": "code",
   "execution_count": null,
   "id": "4d47a87c",
   "metadata": {},
   "outputs": [],
   "source": [
    "test  <- data.table::fread(paths_fc[3])"
   ]
  },
  {
   "cell_type": "code",
   "execution_count": null,
   "id": "0c862ace",
   "metadata": {},
   "outputs": [],
   "source": [
    "test"
   ]
  },
  {
   "cell_type": "code",
   "execution_count": null,
   "id": "92812bed",
   "metadata": {
    "scrolled": true
   },
   "outputs": [],
   "source": [
    "library(data.table)"
   ]
  },
  {
   "cell_type": "code",
   "execution_count": null,
   "id": "ad13b7bb",
   "metadata": {},
   "outputs": [],
   "source": [
    "gseas  <- map(paths_fc, .f = fread)"
   ]
  },
  {
   "cell_type": "code",
   "execution_count": null,
   "id": "5ea2af0e",
   "metadata": {},
   "outputs": [],
   "source": [
    "gseas  <- bind_rows(gseas)"
   ]
  },
  {
   "cell_type": "code",
   "execution_count": null,
   "id": "74d0774c",
   "metadata": {},
   "outputs": [],
   "source": [
    "gseas$population  <- substr(gseas$dataset, 1,11)"
   ]
  },
  {
   "cell_type": "code",
   "execution_count": null,
   "id": "9486ecbd",
   "metadata": {},
   "outputs": [],
   "source": [
    "table(gseas$population)"
   ]
  },
  {
   "cell_type": "code",
   "execution_count": null,
   "id": "9fe67a21",
   "metadata": {},
   "outputs": [],
   "source": [
    "gseas  <- gseas  %>% mutate(population2 = ifelse(grepl(population, pattern = \"_nk_\"), substr(population,1,9), population))"
   ]
  },
  {
   "cell_type": "code",
   "execution_count": null,
   "id": "abdf3c23",
   "metadata": {},
   "outputs": [],
   "source": [
    "gseas$population2  %>% table"
   ]
  },
  {
   "cell_type": "code",
   "execution_count": null,
   "id": "600f4c89",
   "metadata": {},
   "outputs": [],
   "source": [
    "gseas  <- gseas  %>% mutate(n1 = as.numeric(nchar(dataset)))  %>% \n",
    "mutate(n2 = n1-12)  %>% \n",
    "mutate(test_type = substr(dataset,n2,n1))  \n"
   ]
  },
  {
   "cell_type": "code",
   "execution_count": null,
   "id": "dbb54fa7",
   "metadata": {},
   "outputs": [],
   "source": [
    "gseas$test_type  %>% table"
   ]
  },
  {
   "cell_type": "code",
   "execution_count": null,
   "id": "dddcb0b7",
   "metadata": {},
   "outputs": [],
   "source": [
    "gseas"
   ]
  },
  {
   "cell_type": "code",
   "execution_count": null,
   "id": "558af423",
   "metadata": {},
   "outputs": [],
   "source": [
    "gs  <- gseas  %>% group_by(dataset)  %>% slice_max(order_by = -log10(padj), n = 10)"
   ]
  },
  {
   "cell_type": "code",
   "execution_count": null,
   "id": "29e59d67",
   "metadata": {},
   "outputs": [],
   "source": [
    "write.csv(gs, \"../tables/gsea/v07heatmap_top_pathways.csv\")"
   ]
  },
  {
   "cell_type": "code",
   "execution_count": null,
   "id": "a05d3fd8",
   "metadata": {},
   "outputs": [],
   "source": [
    "selected_pathways  <- c('HALLMARK_TNFA_SIGNALING_VIA_NFKB',\n",
    "'HALLMARK_OXIDATIVE_PHOSPHORYLATION',\n",
    "\n",
    "'HALLMARK_INTERFERON_ALPHA_RESPONSE',\n",
    "'HALLMARK_INTERFERON_GAMMA_RESPONSE',\n",
    "                        \"GSE17974_0H_VS_24H_IN_VITRO_ACT_CD4_TCELL_UP\",\n",
    "                        \"GSE11057_NAIVE_VS_EFF_MEMORY_CD4_TCELL_UP\",\n",
    "                        \n",
    "\"GSE11057_NAIVE_VS_MEMORY_CD4_TCELL_UP\",\n",
    "\"GOLDRATH_NAIVE_VS_MEMORY_CD8_TCELL_DN\",\n",
    "'GOLDRATH_EFF_VS_MEMORY_CD8_TCELL_UP',\n",
    "'GOLDRATH_NAIVE_VS_EFF_CD8_TCELL_DN'\n",
    ")"
   ]
  },
  {
   "cell_type": "markdown",
   "id": "a4fe4281",
   "metadata": {},
   "source": [
    "Check and correct the population names"
   ]
  },
  {
   "cell_type": "code",
   "execution_count": null,
   "id": "0a3c66a5",
   "metadata": {},
   "outputs": [],
   "source": [
    "names(gseas$population2  %>% table)[!(names(gseas$population2  %>% table) %in% c(\n",
    "'cd8_l3_prol',\n",
    "'cd8_l3_tcm_',\n",
    "'cd4_l3_th1t7',\n",
    "'cd4_l3_temr',\n",
    "'cd8_l3_temr',\n",
    "'cd4_l3_tfh_',\n",
    "'cd8_l3_naiv',\n",
    "'cd4_l3_naiv',\n",
    "'cd4_l3_th2_',\n",
    "'cd4_l3_nfkb',\n",
    "'cd4_l2_unc_',\n",
    "'cd4_l3_treg',\n",
    "'cd4_l3_isag',\n",
    "'cd4_l3_prol',\n",
    "'cd8_l3_tem_',\n",
    "'cd8_l2_nk',\n",
    "'cd8_l2_unc_'    \n",
    "))]"
   ]
  },
  {
   "cell_type": "markdown",
   "id": "d08d34cb",
   "metadata": {},
   "source": [
    "Plot and save the results. "
   ]
  },
  {
   "cell_type": "code",
   "execution_count": null,
   "id": "1c3802a0",
   "metadata": {},
   "outputs": [],
   "source": [
    "options(repr.plot.height = 8, repr.plot.width = 24)\n",
    "gseas  %>% dplyr::filter(pathway %in% selected_pathways &\n",
    "                        ((population2 %in% c(\"cd8_l1_full\",\"cd4_l1_full\",\"cd4_l2_subc\",\"cd8_l2_subc\")) == F))  %>% \n",
    "ggplot(aes(x = factor(population2, levels = c(\n",
    "'cd8_l3_prol',\n",
    "'cd8_l3_tcm_',\n",
    "'cd4_l3_th1t',\n",
    "'cd4_l3_temr',\n",
    "'cd8_l3_temr',\n",
    "'cd4_l3_tfh_',\n",
    "'cd8_l3_naiv',\n",
    "'cd4_l3_naiv',\n",
    "'cd4_l3_th2_',\n",
    "'cd4_l3_nfkb',\n",
    "'cd4_l2_unc_',\n",
    "'cd4_l3_treg',\n",
    "'cd4_l3_isag',\n",
    "'cd4_l3_prol',\n",
    "'cd8_l3_tem_',\n",
    "'cd8_l2_nk',\n",
    "'cd8_l2_unc_'    \n",
    ")), y = pathway)) +\n",
    "geom_point(aes(size = -log(padj), color = NES, alpha = padj<0.05)) +\n",
    "scale_alpha_manual(values = c(0,1)) +\n",
    "facet_grid(cols = vars(test_type), space = \"free\", scales = \"free\") +\n",
    "scale_color_gradient2(low = \"blue\", mid = \"white\", high = \"red\") + \n",
    "xlab(\"\") + ylab(\"\") +\n",
    "theme_classic() + theme(axis.text.x = element_text(angle = 90),\n",
    "                       axis.ticks.x = element_blank()) + ggtheme()\n",
    "ggsave(\"../figures/gsea/heatmap_gsea.svg\", width = 55, height = 16, units = \"cm\", create.dir = TRUE)"
   ]
  },
  {
   "cell_type": "markdown",
   "id": "0f438dad",
   "metadata": {},
   "source": [
    "For revisions, let's plot it separately for CD4 and CD8. "
   ]
  },
  {
   "cell_type": "markdown",
   "id": "52ba6b97",
   "metadata": {},
   "source": [
    "### CD8"
   ]
  },
  {
   "cell_type": "code",
   "execution_count": null,
   "id": "41dbb020",
   "metadata": {},
   "outputs": [],
   "source": [
    "options(repr.plot.height = 8, repr.plot.width = 24)\n",
    "gseas  %>% dplyr::filter(pathway %in% selected_pathways &\n",
    "                        ((population2 %in% c(\"cd8_l1_full\",\"cd4_l1_full\",\"cd4_l2_subc\",\"cd8_l2_subc\")) == F))  %>% \n",
    "dplyr::filter(grepl(population2, pattern = \"cd8\"))  %>% \n",
    "ggplot(aes(x = factor(population2, levels = c(\n",
    "'cd8_l3_prol',\n",
    "'cd8_l3_tcm_',\n",
    "'cd4_l3_th1t',\n",
    "'cd4_l3_temr',\n",
    "'cd8_l3_temr',\n",
    "'cd4_l3_tfh_',\n",
    "'cd8_l3_naiv',\n",
    "'cd4_l3_naiv',\n",
    "'cd4_l3_th2_',\n",
    "'cd4_l3_nfkb',\n",
    "'cd4_l2_unc_',\n",
    "'cd4_l3_treg',\n",
    "'cd4_l3_isag',\n",
    "'cd4_l3_prol',\n",
    "'cd8_l3_tem_',\n",
    "'cd8_l2_nk',\n",
    "'cd8_l2_unc_'    \n",
    ")), y = pathway)) +\n",
    "geom_point(aes(size = -log(padj), color = NES, alpha = padj<0.05)) +\n",
    "scale_alpha_manual(values = c(0,1)) +\n",
    "facet_grid(cols = vars(test_type), space = \"free\", scales = \"free\") +\n",
    "scale_color_gradient2(low = \"blue\", mid = \"white\", high = \"red\") + \n",
    "xlab(\"\") + ylab(\"\") +\n",
    "theme_classic() + theme(axis.text.x = element_text(angle = 90),\n",
    "                       axis.ticks.x = element_blank()) + ggtheme()\n",
    "ggsave(\"../figures/gsea/heatmap_gsea_cd8.svg\", width = 55, height = 16, units = \"cm\", create.dir = TRUE)"
   ]
  },
  {
   "cell_type": "markdown",
   "id": "6a2002e0",
   "metadata": {},
   "source": [
    "### CD4"
   ]
  },
  {
   "cell_type": "code",
   "execution_count": null,
   "id": "90c10693",
   "metadata": {},
   "outputs": [],
   "source": [
    "options(repr.plot.height = 8, repr.plot.width = 24)\n",
    "gseas  %>% dplyr::filter(pathway %in% selected_pathways)  %>% \n",
    "#&\n",
    "                        #((population2 %in% c(\"cd8_l1_full\",\"cd4_l1_full\",\"cd4_l2_subc\",\"cd8_l2_subc\")) == F))  %>% \n",
    "dplyr::filter(grepl(population2, pattern = \"cd4\"))  %>% \n",
    "ggplot(aes(x = factor(population2, levels = c(\n",
    "'cd8_l3_prol',\n",
    "'cd8_l3_tcm_',\n",
    "'cd4_l3_th1t',\n",
    "'cd4_l3_temr',\n",
    "'cd8_l3_temr',\n",
    "'cd4_l3_tfh_',\n",
    "'cd8_l3_naiv',\n",
    "'cd4_l3_naiv',\n",
    "'cd4_l3_th2_',\n",
    "'cd4_l3_nfkb',\n",
    "'cd4_l2_unc_',\n",
    "'cd4_l3_treg',\n",
    "'cd4_l3_isag',\n",
    "'cd4_l3_prol',\n",
    "'cd8_l3_tem_',\n",
    "'cd8_l2_nk',\n",
    "'cd8_l2_unc_'    \n",
    ")), y = pathway)) +\n",
    "geom_point(aes(size = -log(padj), color = NES, alpha = padj<0.05)) +\n",
    "scale_alpha_manual(values = c(0,1)) +\n",
    "facet_grid(cols = vars(test_type), space = \"free\", scales = \"free\") +\n",
    "scale_color_gradient2(low = \"blue\", mid = \"white\", high = \"red\") + \n",
    "xlab(\"\") + ylab(\"\") +\n",
    "theme_classic() + theme(axis.text.x = element_text(angle = 90),\n",
    "                       axis.ticks.x = element_blank()) + ggtheme()\n",
    "ggsave(\"../figures/gsea/heatmap_gsea_cd8.svg\", width = 55, height = 16, units = \"cm\", create.dir = TRUE)"
   ]
  },
  {
   "cell_type": "code",
   "execution_count": null,
   "id": "cba9436d",
   "metadata": {},
   "outputs": [],
   "source": [
    "selected_pathways  <- c(\n",
    " 'HALLMARK_INTERFERON_ALPHA_RESPONSE',\n",
    "'HALLMARK_INTERFERON_GAMMA_RESPONSE',\n",
    "'GSE13485_DAY7_VS_DAY21_YF17D_VACCINE_PBMC_UP',\n",
    "'GOLDRATH_EFF_VS_MEMORY_CD8_TCELL_UP',\n",
    "'GOLDRATH_NAIVE_VS_EFF_CD8_TCELL_DN')\n",
    "\n",
    "options(repr.plot.height = 5, repr.plot.width = 24)\n",
    "gseas  %>% dplyr::filter(pathway %in% selected_pathways)  %>% \n",
    "ggplot(aes(x = population, y = factor(pathway, levels = selected_pathways))) +\n",
    "geom_point(aes(size = -log(padj), color = NES, alpha = padj<0.05)) +\n",
    "scale_alpha_manual(values = c(0,1)) +\n",
    "facet_grid(cols = vars(test_type), space = \"free\", scales = \"free\") +\n",
    "scale_color_gradient2(low = \"blue\", mid = \"white\", high = \"red\") + \n",
    "theme_classic() + theme(axis.text.x = element_text(angle = 90)) + ggtheme()"
   ]
  },
  {
   "cell_type": "code",
   "execution_count": null,
   "id": "7335f237",
   "metadata": {},
   "outputs": [],
   "source": [
    "selected_pathways  <- c(\n",
    "    \"GSE25087_FETAL_VS_ADULT_TCONV_UP\",\n",
    "                       \"GSE36476_CTRL_VS_TSST_ACT_40H_MEMORY_CD4_TCELL_YOUNG_DN\",\n",
    "                       \"GSE22886_NAIVE_CD4_TCELL_VS_48H_ACT_TH2_DN\",\n",
    "    \"GSE24634_NAIVE_CD4_TCELL_VS_DAY7_IL4_CONV_TREG_UP\",\n",
    "\"GSE17974_0H_VS_24H_IN_VITRO_ACT_CD4_TCELL_UP\",\n",
    "    \"GSE36476_CTRL_VS_TSST_ACT_72H_MEMORY_CD4_TCELL_YOUNG_UP\")\n",
    "\n",
    "options(repr.plot.height = 5, repr.plot.width = 24)\n",
    "gseas  %>% dplyr::filter(pathway %in% selected_pathways)  %>% \n",
    "ggplot(aes(x = population, y = factor(pathway, levels = selected_pathways))) +\n",
    "geom_point(aes(size = -log(padj), color = NES, alpha = padj<0.05)) +\n",
    "scale_alpha_manual(values = c(0,1)) +\n",
    "facet_grid(cols = vars(test_type), space = \"free\", scales = \"free\") +\n",
    "scale_color_gradient2(low = \"blue\", mid = \"white\", high = \"red\") + \n",
    "theme_classic() + theme(axis.text.x = element_text(angle = 90)) + ggtheme()"
   ]
  },
  {
   "cell_type": "code",
   "execution_count": null,
   "id": "50f10099",
   "metadata": {
    "scrolled": true
   },
   "outputs": [],
   "source": [
    "gseas  %>% dplyr::filter(test_type == \"_ketoacidosis\" & padj < 0.05 & NES > 0)  %>% \n",
    "group_by(pathway)  %>% tally()  %>% arrange(desc(n))"
   ]
  },
  {
   "cell_type": "code",
   "execution_count": null,
   "id": "32172eb3",
   "metadata": {},
   "outputs": [],
   "source": [
    "gseas  %>% dplyr::filter(pathway %in% c(\"HALLMARK_INTERFERON_ALPHA_RESPONSE\"))"
   ]
  },
  {
   "cell_type": "markdown",
   "id": "c1fa9e5c",
   "metadata": {},
   "source": [
    "# DE genes visualization volcano plot"
   ]
  },
  {
   "cell_type": "code",
   "execution_count": null,
   "id": "426f225d",
   "metadata": {},
   "outputs": [],
   "source": [
    "library(tidytext)"
   ]
  },
  {
   "cell_type": "code",
   "execution_count": null,
   "id": "0f88d8cc",
   "metadata": {},
   "outputs": [],
   "source": [
    "all_markers$dataset  %>% table"
   ]
  },
  {
   "cell_type": "code",
   "execution_count": null,
   "id": "192187d5",
   "metadata": {
    "scrolled": true
   },
   "outputs": [],
   "source": [
    "all_markers  %>% \n",
    "dplyr::filter(source == \"scRNAseq_RNA\")  %>% \n",
    "dplyr::filter(test_type == \"Dia T0 vs Ctrl T0\" &\n",
    "             dataset == \"cd4_l3_proliferating\")  %>% \n",
    "mutate(abs_avg_log2fc = abs(avg_log2FC))  %>% \n",
    "group_by( direction)  %>% \n",
    "slice_max(n = 10, order_by = abs_avg_log2fc) "
   ]
  },
  {
   "cell_type": "code",
   "execution_count": null,
   "id": "d8bc3378",
   "metadata": {},
   "outputs": [],
   "source": [
    "test  <- all_markers  %>% \n",
    "dplyr::filter(source == \"scRNAseq_RNA\")  %>% \n",
    "group_by(test_type, dataset)  %>% tally  %>% \n",
    "pivot_wider(names_from = dataset, values_from = n)"
   ]
  },
  {
   "cell_type": "code",
   "execution_count": null,
   "id": "dc18fb86",
   "metadata": {},
   "outputs": [],
   "source": [
    "write.csv(test, \"../tables/fc_test_counts.csv\")"
   ]
  },
  {
   "cell_type": "code",
   "execution_count": null,
   "id": "f293ae56",
   "metadata": {},
   "outputs": [],
   "source": [
    "options(repr.plot.width = 24, repr.plot.height = 68)\n",
    "all_markers  %>% \n",
    "dplyr::filter(source == \"scRNAseq_RNA\")  %>% \n",
    "mutate(abs_avg_log2fc = abs(avg_log2FC))  %>% \n",
    "group_by(test_type, direction)  %>% \n",
    "slice_max(n = 50, order_by = abs_avg_log2fc)  %>% \n",
    "ggplot(aes(x = dataset, y = reorder_within(gene, avg_log2FC, test_type))) + \n",
    "  geom_point(aes(size = -log(p_val_adj, base = 10), colour = direction)) + \n",
    "facet_grid(rows = vars(test_type), cols = vars(dataset),\n",
    "           scales = \"free\", space = \"free\") +\n",
    "scale_x_reordered() +\n",
    "      theme_bw()  + scale_size_continuous(range=c(1,4)) +\n",
    "  #scale_colour_gradient2(low = \"lightskyblue\", mid = \"lightsteelblue2\", high = \"salmon\") + \n",
    " theme(axis.text.x = element_text(angle = 90))"
   ]
  },
  {
   "cell_type": "code",
   "execution_count": null,
   "id": "6eda70e2",
   "metadata": {
    "scrolled": true
   },
   "outputs": [],
   "source": [
    "list.files(\"../tables/fold_change/\")"
   ]
  },
  {
   "cell_type": "code",
   "execution_count": null,
   "id": "5ad5f61e",
   "metadata": {},
   "outputs": [],
   "source": [
    "paths_fc  <- list.files(\"../tables/fold_change\", full.names = T)\n",
    "dataset_names  <- list.files(\"../tables/fold_change\", full.names = F)\n"
   ]
  },
  {
   "cell_type": "code",
   "execution_count": null,
   "id": "5a9659da",
   "metadata": {},
   "outputs": [],
   "source": []
  },
  {
   "cell_type": "code",
   "execution_count": null,
   "id": "86c9cae9",
   "metadata": {},
   "outputs": [],
   "source": [
    "read_fc  <- function(j) {\n",
    "fc.df  <- read_csv(paths_fc[j])  %>% as.data.frame()\n",
    "fc.df  <- fc.df  %>%  arrange(desc(avg_log2FC))\n",
    "fc.df$dataset  <-   gsub(dataset_names[j], pattern = \".csv\", replacement = \"\")\n",
    "   \n",
    "    return(fc.df)\n",
    "    }"
   ]
  },
  {
   "cell_type": "code",
   "execution_count": null,
   "id": "06ae7b90",
   "metadata": {},
   "outputs": [],
   "source": [
    "paths_fc"
   ]
  },
  {
   "cell_type": "code",
   "execution_count": null,
   "id": "0d64e453",
   "metadata": {},
   "outputs": [],
   "source": []
  },
  {
   "cell_type": "code",
   "execution_count": null,
   "id": "3f5b3957",
   "metadata": {
    "scrolled": true
   },
   "outputs": [],
   "source": [
    "all_fcs  <- map(1:length(paths_fc), .f = read_fc)"
   ]
  },
  {
   "cell_type": "code",
   "execution_count": null,
   "id": "1ad4293e",
   "metadata": {},
   "outputs": [],
   "source": [
    "all_fcs2  <- bind_rows(all_fcs)"
   ]
  },
  {
   "cell_type": "code",
   "execution_count": null,
   "id": "62d995bc",
   "metadata": {},
   "outputs": [],
   "source": [
    "all_fcs2  %>% head"
   ]
  },
  {
   "cell_type": "code",
   "execution_count": null,
   "id": "f9d9daa0",
   "metadata": {},
   "outputs": [],
   "source": [
    "all_fcs2$`...1`  <- NULL"
   ]
  },
  {
   "cell_type": "code",
   "execution_count": null,
   "id": "da688de1",
   "metadata": {},
   "outputs": [],
   "source": [
    "all_fcs2$dataset   <- gsub(all_fcs2$dataset, pattern = \"full_filt\", replacement = \"full\")"
   ]
  },
  {
   "cell_type": "code",
   "execution_count": null,
   "id": "7ca42b7e",
   "metadata": {},
   "outputs": [],
   "source": [
    "all_fcs2  %>% dplyr::filter(grepl(dataset, pattern = \"cd4_l1_full\"))  %>% \n",
    "group_by(dataset) %>% tally"
   ]
  },
  {
   "cell_type": "code",
   "execution_count": null,
   "id": "0ad1ce5d",
   "metadata": {},
   "outputs": [],
   "source": [
    "all_fcs3"
   ]
  },
  {
   "cell_type": "code",
   "execution_count": null,
   "id": "50519ea5",
   "metadata": {},
   "outputs": [],
   "source": [
    "test2  <- all_fcs3  %>% \n",
    "group_by(Comparison, Dataset)  %>% tally  %>% \n",
    "pivot_wider(names_from = Dataset, values_from = n)\n",
    "\n",
    "write.csv(test2, \"../tables/fc_test_count2.csv\")"
   ]
  },
  {
   "cell_type": "code",
   "execution_count": null,
   "id": "d7c554ee",
   "metadata": {},
   "outputs": [],
   "source": [
    "all_fcs2$dataset   <- gsub(all_fcs2$dataset, pattern = \"_Ctrl_vs_DiaT0\", replacement = \"--DiaT0 vs. Ctrl\")"
   ]
  },
  {
   "cell_type": "code",
   "execution_count": null,
   "id": "1340ee98",
   "metadata": {},
   "outputs": [],
   "source": [
    "all_fcs2  %>% dplyr::filter(grepl(dataset, pattern = \"cd4_l1_full\"))  %>% \n",
    "group_by(dataset) %>% tally"
   ]
  },
  {
   "cell_type": "code",
   "execution_count": null,
   "id": "311632ec",
   "metadata": {},
   "outputs": [],
   "source": [
    "gsub(grep(all_fcs2$dataset,pattern = \"0_T1_vs_PR_1_T1\", value = T)  %>% head, \n",
    "     pattern = \"_PR_0_T1_vs_PR_1_T1\", replacement = \"--PR0_T1 vs. PR1_T1\")"
   ]
  },
  {
   "cell_type": "code",
   "execution_count": null,
   "id": "0d1dacc5",
   "metadata": {},
   "outputs": [],
   "source": []
  },
  {
   "cell_type": "code",
   "execution_count": null,
   "id": "37cea9c3",
   "metadata": {},
   "outputs": [],
   "source": [
    "all_fcs2$dataset   <- gsub(all_fcs2$dataset, pattern = \"_Ctrl_vs_DiaT1\", replacement = \"--DiaT1 vs. Ctrl\")\n",
    "all_fcs2$dataset   <- gsub(all_fcs2$dataset, pattern = \"_ketoacidosis\", replacement = \"--Keto+ vs. Keto-\")\n",
    "all_fcs2$dataset   <- gsub(all_fcs2$dataset, pattern = \"_PR_0_T0_vs_PR_0_T1\", replacement = \"--PR0_T0 vs. PR0_T1\")\n",
    "all_fcs2$dataset   <- gsub(all_fcs2$dataset, pattern = \"_PR_0_T0_vs_PR_1_T0\", replacement = \"--PR0_T0 vs. PR1_T0\")\n",
    "all_fcs2$dataset   <- gsub(all_fcs2$dataset, pattern = \"_PR_1_T0_vs_PR_1_T1\", replacement = \"--PR1_T0 vs. PR1_T1\")\n",
    "all_fcs2$dataset   <- gsub(all_fcs2$dataset, pattern = \"_Ctrl_vs_DiaT0\", replacement = \"--DiaT0 vs. Ctrl\")\n",
    "all_fcs2$dataset   <- gsub(all_fcs2$dataset, pattern = \"_DiaT0_vs_DiaT1\", replacement = \"--DiaT0 vs. DiaT1\")"
   ]
  },
  {
   "cell_type": "code",
   "execution_count": null,
   "id": "2697e1f1",
   "metadata": {},
   "outputs": [],
   "source": [
    "all_fcs2$dataset   <- gsub(all_fcs2$dataset, pattern = \"_PR_0_T1_vs_PR_1_T1\", replacement = \"--PR0_T1 vs. PR1_T1\")"
   ]
  },
  {
   "cell_type": "code",
   "execution_count": null,
   "id": "a03e697c",
   "metadata": {},
   "outputs": [],
   "source": []
  },
  {
   "cell_type": "code",
   "execution_count": null,
   "id": "9aa28903",
   "metadata": {},
   "outputs": [],
   "source": [
    "all_fcs2  %>% dplyr::filter(grepl(dataset, pattern = \"cd4_l1_full\"))  %>% \n",
    "group_by(dataset) %>% tally"
   ]
  },
  {
   "cell_type": "code",
   "execution_count": null,
   "id": "b71ba20f",
   "metadata": {},
   "outputs": [],
   "source": [
    "all_fcs2  <- all_fcs2  %>% separate(dataset, into = c(\"Dataset\", \"Comparison\"), sep = \"--\", remove = F)"
   ]
  },
  {
   "cell_type": "code",
   "execution_count": null,
   "id": "eb168656",
   "metadata": {},
   "outputs": [],
   "source": [
    "all_fcs2  <- all_fcs2  %>% dplyr::filter(!is.na(Comparison))"
   ]
  },
  {
   "cell_type": "code",
   "execution_count": null,
   "id": "531405e0",
   "metadata": {},
   "outputs": [],
   "source": [
    "dataset_comparison  <- levels(factor(all_fcs2$dataset))"
   ]
  },
  {
   "cell_type": "code",
   "execution_count": null,
   "id": "dbc9ada9",
   "metadata": {},
   "outputs": [],
   "source": [
    "all_fcs2$Comparison  %>% table"
   ]
  },
  {
   "cell_type": "code",
   "execution_count": null,
   "id": "62861f58",
   "metadata": {},
   "outputs": [],
   "source": [
    "all_fcs2$dataset  %>% table"
   ]
  },
  {
   "cell_type": "code",
   "execution_count": null,
   "id": "8b383f3b",
   "metadata": {},
   "outputs": [],
   "source": [
    "all_fcs2$Comparison  %>% table"
   ]
  },
  {
   "cell_type": "code",
   "execution_count": null,
   "id": "6eb7cdde",
   "metadata": {
    "scrolled": true
   },
   "outputs": [],
   "source": [
    "all_fcs2  <- all_fcs2  %>% mutate(\n",
    "direction = case_when(Comparison == \"DiaT1 vs. Ctrl\" & cluster == \"Ctrl T0\" ~ \"Down\",\n",
    "                      Comparison == \"DiaT1 vs. Ctrl\" & cluster == \"Dia T1\" ~ \"Up\",\n",
    "                      \n",
    "                      Comparison == \"DiaT0 vs. Ctrl\" & cluster == \"Ctrl T0\" ~ \"Down\",\n",
    "                      Comparison == \"DiaT0 vs. Ctrl\" & cluster == \"Dia T0\" ~ \"Up\",\n",
    "                      \n",
    "                      Comparison == \"DiaT0 vs. DiaT1\" & cluster == \"Dia T0\" ~ \"Up\",\n",
    "                      Comparison == \"DiaT0 vs. DiaT1\" & cluster == \"Dia T1\" ~ \"Down\",\n",
    "                      \n",
    "                      Comparison == \"PR0_T0 vs. PR0_T1\" & cluster == \"PR_0 T0\" ~ \"Up\",\n",
    "                      Comparison == \"PR0_T0 vs. PR0_T1\" & cluster == \"PR_0 T1\" ~ \"Down\",\n",
    "                      \n",
    "                      Comparison == \"PR0_T0 vs. PR1_T0\" & cluster == \"PR_0 T0\" ~ \"Up\",\n",
    "                      Comparison == \"PR0_T0 vs. PR1_T0\" & cluster == \"PR_1 T0\" ~ \"Down\",\n",
    "                      \n",
    "                      Comparison == \"PR0_T1 vs. PR1_T1\" & cluster == \"PR_0 T1\" ~ \"Up\",\n",
    "                      Comparison == \"PR0_T1 vs. PR1_T1\" & cluster == \"PR_1 T1\" ~ \"Down\",\n",
    "                      \n",
    "                      Comparison == \"PR1_T0 vs. PR1_T1\" & cluster == \"PR_1 T0\" ~ \"Up\",\n",
    "                      Comparison == \"PR1_T0 vs. PR1_T1\" & cluster == \"PR_1 T1\" ~ \"Down\",\n",
    "                      \n",
    "                      Comparison == \"Keto+ vs. Keto-\" & cluster == \"Keto_0 T0\" ~ \"Down\",\n",
    "                      Comparison == \"Keto+ vs. Keto-\" & cluster == \"Keto_1 T0\" ~ \"Up\"\n",
    "                      \n",
    "                     ))"
   ]
  },
  {
   "cell_type": "code",
   "execution_count": null,
   "id": "0fa9eda3",
   "metadata": {},
   "outputs": [],
   "source": [
    "gc()"
   ]
  },
  {
   "cell_type": "code",
   "execution_count": null,
   "id": "5be95e75",
   "metadata": {},
   "outputs": [],
   "source": [
    "head(all_fcs2)"
   ]
  },
  {
   "cell_type": "code",
   "execution_count": null,
   "id": "55e26ced",
   "metadata": {},
   "outputs": [],
   "source": [
    "dataset_list  <- levels(factor(all_fcs2$dataset))\n"
   ]
  },
  {
   "cell_type": "code",
   "execution_count": null,
   "id": "6ac280b3",
   "metadata": {},
   "outputs": [],
   "source": [
    "dataset_list"
   ]
  },
  {
   "cell_type": "code",
   "execution_count": null,
   "id": "acb5b881",
   "metadata": {},
   "outputs": [],
   "source": [
    "i = dataset_list[1]"
   ]
  },
  {
   "cell_type": "code",
   "execution_count": null,
   "id": "f3188420",
   "metadata": {
    "scrolled": true
   },
   "outputs": [],
   "source": [
    "all_fcs2  %>% dplyr::filter(dataset == i & p_val_adj < 0.01)  %>% \n",
    "    group_by(direction)  "
   ]
  },
  {
   "cell_type": "code",
   "execution_count": null,
   "id": "65363aa7",
   "metadata": {},
   "outputs": [],
   "source": [
    "Comparison_list  <- levels(factor(all_fcs2$Comparison))"
   ]
  },
  {
   "cell_type": "code",
   "execution_count": null,
   "id": "03c31f3b",
   "metadata": {},
   "outputs": [],
   "source": [
    "i = Comparison_list[1]"
   ]
  },
  {
   "cell_type": "code",
   "execution_count": null,
   "id": "cd53ac84",
   "metadata": {},
   "outputs": [],
   "source": [
    "genes  <- all_fcs2  %>% dplyr::filter(Comparison == i & p_val_adj < 0.01)  %>% \n",
    "    group_by(direction, Dataset)  %>% slice_max(n = 10, order_by = avg_log2FC)   %>% pull(gene)"
   ]
  },
  {
   "cell_type": "code",
   "execution_count": null,
   "id": "d75d49a8",
   "metadata": {},
   "outputs": [],
   "source": [
    "genes"
   ]
  },
  {
   "cell_type": "code",
   "execution_count": null,
   "id": "27a62ab8",
   "metadata": {},
   "outputs": [],
   "source": [
    "all_fcs2$signif = ifelse(all_fcs2$p_val_adj < 0.05, \"y\", \"n\")"
   ]
  },
  {
   "cell_type": "code",
   "execution_count": null,
   "id": "1125995e",
   "metadata": {},
   "outputs": [],
   "source": [
    "all_fcs2  <- all_fcs2  %>% mutate(p_val_adj = if_else(p_val_adj == 0, 1e-294,p_val_adj))"
   ]
  },
  {
   "cell_type": "code",
   "execution_count": null,
   "id": "2133b0c1",
   "metadata": {},
   "outputs": [],
   "source": [
    "library(tidytext)"
   ]
  },
  {
   "cell_type": "code",
   "execution_count": null,
   "id": "44873355",
   "metadata": {},
   "outputs": [],
   "source": [
    "Datasets_list  <- levels(factor(all_fcs2$Dataset))"
   ]
  },
  {
   "cell_type": "code",
   "execution_count": null,
   "id": "0ec6145a",
   "metadata": {},
   "outputs": [],
   "source": [
    "i = Datasets_list[1]"
   ]
  },
  {
   "cell_type": "code",
   "execution_count": null,
   "id": "a5d8640e",
   "metadata": {},
   "outputs": [],
   "source": [
    "all_fcs2  %>% head"
   ]
  },
  {
   "cell_type": "code",
   "execution_count": null,
   "id": "601e0c28",
   "metadata": {},
   "outputs": [],
   "source": [
    " genes  <- all_fcs2  %>% dplyr::filter(Dataset == i & Comparison == \"DiaT0 vs. Ctrl\")  %>% \n",
    "    group_by(direction)  %>% slice_max(n = 10, order_by = avg_log2FC)   %>% pull(gene)\n",
    "    df  <- all_fcs2  %>% dplyr::filter(Dataset == i & direction == \"Up\" & gene %in% genes & \n",
    "                                       Comparison == \"DiaT0 vs. Ctrl\"                                      )"
   ]
  },
  {
   "cell_type": "code",
   "execution_count": null,
   "id": "9564a00b",
   "metadata": {},
   "outputs": [],
   "source": [
    "genes"
   ]
  },
  {
   "cell_type": "code",
   "execution_count": null,
   "id": "a288527c",
   "metadata": {},
   "outputs": [],
   "source": [
    "df"
   ]
  },
  {
   "cell_type": "code",
   "execution_count": null,
   "id": "b54ff62e",
   "metadata": {
    "scrolled": true
   },
   "outputs": [],
   "source": [
    "j = 0\n"
   ]
  },
  {
   "cell_type": "code",
   "execution_count": null,
   "id": "edaf1664",
   "metadata": {},
   "outputs": [],
   "source": [
    "plot_list[[i]]"
   ]
  },
  {
   "cell_type": "code",
   "execution_count": null,
   "id": "96528293",
   "metadata": {},
   "outputs": [],
   "source": [
    "plot_list"
   ]
  },
  {
   "cell_type": "code",
   "execution_count": null,
   "id": "60652e5b",
   "metadata": {},
   "outputs": [],
   "source": [
    "Comaprisons_list  <- levels(factor(all_fcs2$Comparison  ))"
   ]
  },
  {
   "cell_type": "code",
   "execution_count": null,
   "id": "14fae87e",
   "metadata": {},
   "outputs": [],
   "source": [
    "dir.create(\"../figures/DE_genes/pdf/\")"
   ]
  },
  {
   "cell_type": "code",
   "execution_count": null,
   "id": "4cc3a47f",
   "metadata": {
    "scrolled": true
   },
   "outputs": [],
   "source": [
    "j = Comparison_list[2]\n",
    "    \n",
    "plot_list  <- list()    \n",
    "  \n",
    "for(i in Datasets_list){\n",
    "    genes  <- all_fcs2  %>% dplyr::filter(Dataset == i & Comparison == j)  %>% \n",
    "    group_by(direction)  %>% slice_max(n = 10, order_by = avg_log2FC)   %>% pull(gene)\n",
    "    df  <- all_fcs2  %>% dplyr::filter(Dataset == i & direction == \"Up\" & \n",
    "                                       gene %in% genes & Comparison == j)\n",
    "    p  <- df  %>% ggplot(aes(x = Dataset, y = reorder(gene, avg_log2FC))) + \n",
    "  geom_point(aes(size = -log(p_val_adj, base = 10), colour = avg_log2FC < 0)) + \n",
    "    scale_size_manual() + \n",
    "#facet_grid(rows = vars(test_type), cols = vars(dataset),\n",
    "#           scales = \"free\", space = \"free\") +\n",
    "scale_x_reordered() +\n",
    "      theme_bw()  + scale_size_continuous(range=c(1,4)) +\n",
    "  #scale_colour_gradient2(low = \"lightskyblue\", mid = \"lightsteelblue2\", high = \"salmon\") + \n",
    " theme(axis.text.x = element_blank(),\n",
    "       axis.ticks.x = element_blank()) + NoLegend() + ylab(\"\") + xlab(\"\") +\n",
    "    ggtitle(i)\n",
    "    plot_list[[i]]  <- p\n",
    "}  \n",
    "    \n",
    "pdf(file = paste0(\"../figures/DE_genes/pdf/\",j,\".pdf\"), width = 15, height = 18)\n",
    "title <- ggdraw() + \n",
    "  draw_label(\n",
    "   j,\n",
    "    fontface = 'bold',\n",
    "    x = 0,\n",
    "    hjust = 0\n",
    "  ) +\n",
    "  theme(\n",
    "    # add margin on the left of the drawing canvas,\n",
    "    # so title is aligned with left edge of first plot\n",
    "    plot.margin = margin(0, 0, 0, 7)\n",
    "  )\n",
    "plot_grid(\n",
    "  title, cowplot::plot_grid(plotlist = plot_list, ncol = 7) ,\n",
    "  ncol = 1,\n",
    "  # rel_heights values control vertical title margins\n",
    "  rel_heights = c(0.05,1)\n",
    ")\n",
    "dev.off()\n",
    "    \n",
    "\n"
   ]
  },
  {
   "cell_type": "code",
   "execution_count": null,
   "id": "da951f12",
   "metadata": {},
   "outputs": [],
   "source": [
    "all_fcs2  %>% dplyr::filter(Comparison == j)  %>% \n",
    "  ggplot(aes(x = avg_log2FC, y = -log10(p_val_adj), color = Dataset)) + \n",
    "  geom_point() + \n",
    "        theme_minimal() +\n",
    "        #geom_text_repel() +\n",
    "        #scale_color_manual(values=c(\"blue\", \"black\", \"red\")) +\n",
    "        geom_vline(xintercept=c(-0.6, 0.6), col=\"red\") +\n",
    "        geom_hline(yintercept=-log10(0.05), col=\"red\")"
   ]
  },
  {
   "cell_type": "code",
   "execution_count": null,
   "id": "1eb83b91",
   "metadata": {},
   "outputs": [],
   "source": [
    "library(ggrepel)\n",
    "# plot adding up all layers we have seen so far\n",
    "       "
   ]
  },
  {
   "cell_type": "code",
   "execution_count": null,
   "id": "e3cf12f2",
   "metadata": {},
   "outputs": [],
   "source": [
    "head(all_fcs2)"
   ]
  },
  {
   "cell_type": "code",
   "execution_count": null,
   "id": "0228d419",
   "metadata": {},
   "outputs": [],
   "source": [
    "gc()"
   ]
  },
  {
   "cell_type": "code",
   "execution_count": null,
   "id": "d385f83d",
   "metadata": {},
   "outputs": [],
   "source": [
    "rm(all_fcs)"
   ]
  },
  {
   "cell_type": "code",
   "execution_count": null,
   "id": "544e03d8",
   "metadata": {},
   "outputs": [],
   "source": [
    "ls()"
   ]
  },
  {
   "cell_type": "code",
   "execution_count": null,
   "id": "8b6b7680",
   "metadata": {},
   "outputs": [],
   "source": [
    "all_fcs3  <- all_fcs2  %>% \n",
    "dplyr::filter(avg_log2FC)>0  %>% \n",
    "mutate(avg_log2FC2 = ifelse(direction == \"Down\",avg_log2FC*-1,avg_log2FC))  %>% \n",
    "mutate(abs_avg_log2FC2 = abs(avg_log2FC2))  %>% \n",
    "mutate(label = ifelse(abs_avg_log2FC2>0.9&p_val_adj<0.05,gene,NA_character_))  %>% \n",
    "mutate(color = ifelse(abs_avg_log2FC2>0.6&p_val_adj<0.05,Dataset,\"grey\"))       "
   ]
  },
  {
   "cell_type": "code",
   "execution_count": null,
   "id": "e09099e5",
   "metadata": {},
   "outputs": [],
   "source": [
    "all_fcs3  %>% head"
   ]
  },
  {
   "cell_type": "code",
   "execution_count": null,
   "id": "429e4ea4",
   "metadata": {
    "scrolled": true
   },
   "outputs": [],
   "source": []
  },
  {
   "cell_type": "code",
   "execution_count": null,
   "id": "822a7c2b",
   "metadata": {},
   "outputs": [],
   "source": [
    "all_fcs3  <- all_fcs2  %>% \n",
    "dplyr::filter(avg_log2FC>0 & !grepl(gene, pattern = \"^MTRN\"))  %>% \n",
    "mutate(avg_log2FC2 = ifelse(direction == \"Down\",avg_log2FC*-1,avg_log2FC))  %>% \n",
    "mutate(abs_avg_log2FC2 = abs(avg_log2FC2))  %>% \n",
    "mutate(label = ifelse(abs_avg_log2FC2>1&p_val_adj<0.05,gene,\n",
    "                     ifelse(abs_avg_log2FC2>0.6&p_val_adj<10e-100,gene,NA_character_)))  %>% \n",
    "mutate(color = ifelse(abs_avg_log2FC2>0.6&p_val_adj<0.05,Dataset,\"grey\"))       "
   ]
  },
  {
   "cell_type": "code",
   "execution_count": null,
   "id": "6e31f952",
   "metadata": {},
   "outputs": [],
   "source": [
    "all_fcs3  %>% head"
   ]
  },
  {
   "cell_type": "code",
   "execution_count": null,
   "id": "b3f82da7",
   "metadata": {},
   "outputs": [],
   "source": [
    "all_fcs3  %>% dplyr::filter(Comparison == j)  %>% \n",
    "  ggplot(aes(x = avg_log2FC2, y = -log10(p_val_adj), color = color, label = label)) + \n",
    "  geom_point() + \n",
    "        theme_minimal() +\n",
    "        geom_text_repel() +\n",
    "        #scale_color_manual(values=c(\"blue\", \"black\", \"red\")) +\n",
    "        geom_vline(xintercept=c(-0.6, 0.6), col=\"red\") +\n",
    "        geom_hline(yintercept=-log10(0.05), col=\"red\")"
   ]
  },
  {
   "cell_type": "code",
   "execution_count": null,
   "id": "76f5760e",
   "metadata": {
    "scrolled": true
   },
   "outputs": [],
   "source": [
    "all_fcs3  %>% dplyr::filter(Comparison == j)  %>% \n",
    "  ggplot(aes(x = avg_log2FC2, y = -log10(p_val_adj), color = color, label = label)) + \n",
    "  geom_point() + \n",
    "        theme_minimal() +\n",
    "        geom_text_repel() +\n",
    "        #scale_color_manual(values=c(\"blue\", \"black\", \"red\")) +\n",
    "        geom_vline(xintercept=c(-0.6, 0.6), col=\"red\") +\n",
    "        geom_hline(yintercept=-log10(0.05), col=\"red\")"
   ]
  },
  {
   "cell_type": "code",
   "execution_count": null,
   "id": "c4027df2",
   "metadata": {},
   "outputs": [],
   "source": [
    "all_fcs3$Dataset  %>% table  %>% length"
   ]
  },
  {
   "cell_type": "code",
   "execution_count": null,
   "id": "6d49b85d",
   "metadata": {},
   "outputs": [],
   "source": [
    "options(repr.plot.width = 13, repr.plot.height = 7)\n",
    "all_fcs3  %>% dplyr::filter(Comparison == j)  %>% \n",
    "  ggplot(aes(x = avg_log2FC2, y = -log10(p_val_adj), color = color, label = label, shape = color)) + \n",
    "  geom_point() + \n",
    "        theme_minimal() +\n",
    "        geom_text_repel() +\n",
    "        scale_color_manual(values=c(scales::hue_pal()(17), \"grey88\")) +\n",
    "        geom_vline(xintercept=c(-0.6, 0.6), col=\"red\") +\n",
    "        geom_hline(yintercept=-log10(0.05), col=\"red\") +\n",
    "    scale_shape_manual(values = c(21:25,21:25,21:25,21:25))"
   ]
  },
  {
   "cell_type": "code",
   "execution_count": null,
   "id": "17f22ed5",
   "metadata": {},
   "outputs": [],
   "source": [
    "options(repr.plot.width = 13, repr.plot.height = 7)\n",
    "all_fcs3  %>% dplyr::filter(Comparison == j)  %>% \n",
    "  ggplot(aes(x = avg_log2FC2, y = -log10(p_val_adj), color = color, label = label, shape = color)) + \n",
    "  geom_point() + \n",
    "        theme_minimal() +\n",
    "        geom_text_repel() +\n",
    "        scale_color_manual(values=c(scales::hue_pal()(17), \"grey88\")) +\n",
    "        geom_vline(xintercept=c(-0.6, 0.6), col=\"red\") +\n",
    "        geom_hline(yintercept=-log10(0.05), col=\"red\") +\n",
    "    scale_shape_manual(values = c(21:25,21:25,21:25,21:25))"
   ]
  },
  {
   "cell_type": "code",
   "execution_count": null,
   "id": "86f86b2a",
   "metadata": {},
   "outputs": [],
   "source": [
    "all_fcs3$cd4_vs_cd8  <- substr(all_fcs3$Dataset,1,3)"
   ]
  },
  {
   "cell_type": "code",
   "execution_count": null,
   "id": "08190d02",
   "metadata": {},
   "outputs": [],
   "source": [
    "options(repr.plot.width = 18, repr.plot.height = 6)\n",
    "df10  <- all_fcs3  %>% dplyr::filter(Comparison == j) \n",
    "df10  %>%  ggplot(aes(x = avg_log2FC2, y = -log10(p_val_adj), color = color, label = label, shape = color)) + \n",
    "  geom_point() + \n",
    "        theme_minimal() +\n",
    "        geom_text_repel(size = 6) +\n",
    "facet_wrap(~cd4_vs_cd8) +\n",
    "        scale_color_manual(values=c(scales::hue_pal()(length(levels(factor(df10$color)))-1), \"grey88\")) +\n",
    "        geom_vline(xintercept=c(-0.6, 0.6), col=\"red\") +\n",
    "        geom_hline(yintercept=-log10(0.05), col=\"red\") +\n",
    "    scale_shape_manual(values = c(21:25,21:25,21:25,21:25)) + \n",
    "ggtitle(j) + ggtheme()"
   ]
  },
  {
   "cell_type": "code",
   "execution_count": null,
   "id": "abc607ea",
   "metadata": {},
   "outputs": [],
   "source": [
    "all_fcs3  <- all_fcs2  %>% \n",
    "dplyr::filter(avg_log2FC>0 & !grepl(gene, pattern = \"^MTRN\"))  %>% \n",
    "mutate(avg_log2FC2 = ifelse(direction == \"Down\",avg_log2FC*-1,avg_log2FC))  %>% \n",
    "mutate(abs_avg_log2FC2 = abs(avg_log2FC2))  %>% \n",
    "mutate(label = ifelse(abs_avg_log2FC2>0.9&p_val_adj<0.05,gene,\n",
    "                     ifelse(abs_avg_log2FC2>0.6&p_val_adj<10e-100,gene,NA_character_)))  %>% \n",
    "mutate(color = ifelse(abs_avg_log2FC2>0.6&p_val_adj<0.05,Dataset,\"grey\"))       "
   ]
  },
  {
   "cell_type": "code",
   "execution_count": null,
   "id": "531a05cf",
   "metadata": {},
   "outputs": [],
   "source": [
    "all_fcs3$cd4_vs_cd8  <- substr(all_fcs3$Dataset,1,3)"
   ]
  },
  {
   "cell_type": "code",
   "execution_count": null,
   "id": "66fe9b12",
   "metadata": {},
   "outputs": [],
   "source": [
    "options(repr.plot.width = 22, repr.plot.height = 8)\n",
    "\n",
    "for(j in Comparison_list){\n",
    "    df10  <- all_fcs3  %>% dplyr::filter(Comparison == j) \n",
    "p  <- df10  %>%  ggplot(aes(x = avg_log2FC2, y = -log10(p_val_adj), color = color, label = label)) + \n",
    "  ggrastr::rasterize(geom_point(aes(shape = color), size = 2)) + \n",
    "        theme_minimal() +\n",
    "        geom_text_repel(size = 6) +\n",
    "facet_wrap(~cd4_vs_cd8) +\n",
    "        scale_color_manual(values=c(scales::hue_pal()(length(levels(factor(df10$color)))-1), \"grey88\")) +\n",
    "        geom_vline(xintercept=c(-0.6, 0.6), col=\"red\") +\n",
    "        geom_hline(yintercept=-log10(0.05), col=\"red\") +\n",
    "    \n",
    "    scale_shape_manual(values = c(21:25,21:25,21:25,21:25)) + \n",
    "ggtitle(j) + ggtheme()\n",
    "    print(p)\n",
    "}"
   ]
  },
  {
   "cell_type": "code",
   "execution_count": null,
   "id": "893825e8",
   "metadata": {},
   "outputs": [],
   "source": [
    "for(j in Comparison_list){\n",
    "    df10  <- all_fcs3  %>% dplyr::filter(Comparison == j) \n",
    " print(df10  %>%  group_by(Dataset)  %>% tally)\n",
    " \n",
    "}"
   ]
  },
  {
   "cell_type": "markdown",
   "id": "0838e896",
   "metadata": {},
   "source": [
    "### Correct Colors"
   ]
  },
  {
   "cell_type": "code",
   "execution_count": null,
   "id": "b79b3eaf",
   "metadata": {},
   "outputs": [],
   "source": [
    "colors_of_populations = c(\"Mazda RX4\" = \"red\", \"Mazda RX4 Wag\" = \"blue\", \"Datsun 710\" = \"green\")"
   ]
  },
  {
   "cell_type": "code",
   "execution_count": null,
   "id": "12f096b4",
   "metadata": {},
   "outputs": [],
   "source": [
    "levels(factor(all_fcs3$Dataset))"
   ]
  },
  {
   "cell_type": "code",
   "execution_count": null,
   "id": "26a1138c",
   "metadata": {},
   "outputs": [],
   "source": [
    "all_fcs3  <- all_fcs2  %>% \n",
    "dplyr::filter(avg_log2FC>0 & !grepl(gene, pattern = \"^MTRN\"))  %>% \n",
    "mutate(avg_log2FC2 = ifelse(direction == \"Down\",avg_log2FC*-1,avg_log2FC))  %>% \n",
    "mutate(abs_avg_log2FC2 = abs(avg_log2FC2))  %>% \n",
    "mutate(label = ifelse(abs_avg_log2FC2>0.585&p_val_adj<0.05,gene,\n",
    "                     ifelse(abs_avg_log2FC2>0.585&p_val_adj<10e-100,gene,NA_character_)))  %>% \n",
    "mutate(color = ifelse(abs_avg_log2FC2>0.585&p_val_adj<0.05,Dataset,\"grey\"))   %>% \n",
    "mutate(cd4_vs_cd8 = substr(Dataset,1,3))"
   ]
  },
  {
   "cell_type": "code",
   "execution_count": null,
   "id": "c889b96c",
   "metadata": {},
   "outputs": [],
   "source": [
    "colors_of_populations = c(\n",
    "    'cd4_l1_full' = \"#ffa66aff\",\n",
    "    'cd4_l2_subcluster'  = \"#ffa66aff\",\n",
    "    'cd4_l2_unc'  = \"#cd3333ff\",\n",
    "    'cd4_l3_isaghi'  = \"#a46464ff\",\n",
    "    'cd4_l3_naive'  = \"#a58413ff\",\n",
    "    'cd4_l3_nfkb'  = \"#a46c43ff\",\n",
    "    'cd4_l3_proliferating'  = \"#9b3097ff\", \n",
    "    'cd4_l3_temra'  = \"#7d252aff\",\n",
    "    'cd4_l3_tfh'  = \"#8e6a1dff\",\n",
    "    'cd4_l3_th1th17'  = \"#a94e4eff\",\n",
    "    'cd4_l3_th2'  = \"#b36672ff\",\n",
    "    'cd4_l3_treg'  = \"#ba6d8dff\",\n",
    "    'cd8_l1_full'  = \"#67934aff\",\n",
    "    'cd8_l2_nk'  = \"#105292ff\",\n",
    "    'cd8_l2_subcluster' = \"#67934aff\", \n",
    "    'cd8_l2_unc'  = \"#6d00c0ff\",\n",
    "    'cd8_l3_naive'  = \"#004455ff\",\n",
    "    'cd8_l3_prolif'  = \"#5f711aff\",\n",
    "    'cd8_l3_tcm'  = \"#427c39ff\",\n",
    "    'cd8_l3_tem'  = \"#004455ff\",\n",
    "    'cd8_l3_temra'  = \"#16481fff\",\n",
    "    \"grey\" = \"grey88\"\n",
    ")"
   ]
  },
  {
   "cell_type": "code",
   "execution_count": null,
   "id": "aa0b16b1",
   "metadata": {
    "scrolled": true
   },
   "outputs": [],
   "source": [
    "for(j in Comparison_list){\n",
    "    df10  <- all_fcs3  %>% dplyr::filter(Comparison == j & !(Dataset %in% c(\"cd4_l1_full\", \"cd8_l2_subcluster\", \n",
    "                                                                            \"cd4_l2_subcluster\", \"cd8_l1_full\",\n",
    "                                                                           \"cd8_l2_nk\"))) \n",
    "p  <- df10  %>%  ggplot(aes(x = avg_log2FC2, y = -log10(p_val_adj), color = color, label = label)) + \n",
    "  ggrastr::rasterize(geom_point(aes(shape = color), size = 2)) + \n",
    "        theme_minimal() +\n",
    "        geom_text_repel(size = 6) +\n",
    "facet_wrap(~cd4_vs_cd8) +\n",
    "        scale_color_manual(values=colors_of_populations) +\n",
    "        geom_vline(xintercept=c(-0.585, 0.585), col=\"red\") +\n",
    "        geom_hline(yintercept=-log10(0.05), col=\"red\") +\n",
    "    \n",
    "    scale_shape_manual(values = c(21:25,21:25,21:25,21:25)) + \n",
    "ggtitle(j) + ggtheme()\n",
    "    print(p)\n",
    "}"
   ]
  },
  {
   "cell_type": "code",
   "execution_count": null,
   "id": "7c82ca56",
   "metadata": {},
   "outputs": [],
   "source": []
  },
  {
   "cell_type": "code",
   "execution_count": null,
   "id": "3e9e1dc7",
   "metadata": {},
   "outputs": [],
   "source": [
    "all_fcs4  <- all_fcs2  %>% \n",
    "dplyr::filter(avg_log2FC>0 & !grepl(gene, pattern = \"^MTRN\"))  %>% \n",
    "mutate(avg_log2FC2 = ifelse(direction == \"Down\",avg_log2FC*-1,avg_log2FC))  %>% \n",
    "mutate(abs_avg_log2FC2 = abs(avg_log2FC2))  %>% \n",
    "mutate(label = ifelse(abs_avg_log2FC2>0.322&p_val_adj<0.05,gene,\n",
    "                     ifelse(abs_avg_log2FC2>0.322&p_val_adj<10e-100,gene,NA_character_)))  %>% \n",
    "mutate(color = ifelse(abs_avg_log2FC2>0.322&p_val_adj<0.05,Dataset,\"grey\"))   %>% \n",
    "mutate(cd4_vs_cd8 = substr(Dataset,1,3))"
   ]
  },
  {
   "cell_type": "code",
   "execution_count": null,
   "id": "8cd8687f",
   "metadata": {},
   "outputs": [],
   "source": [
    "options(repr.plot.width = 12, repr.plot.height = 6)\n",
    "\n",
    "for(j in Comparison_list){\n",
    "    df10  <- all_fcs4  %>% dplyr::filter(Comparison == j & (Dataset %in% c(\"cd4_l1_full\", \"cd8_l2_subcluster\", \n",
    "                                                                          \"cd8_l2_nk\"))) \n",
    "p  <- df10  %>%  ggplot(aes(x = avg_log2FC2, y = -log10(p_val_adj), color = color, label = label)) + \n",
    "  ggrastr::rasterize(geom_point(aes(shape = color), size = 2)) + \n",
    "        theme_minimal() +\n",
    "        geom_text_repel(size = 6) +\n",
    "        scale_color_manual(values=colors_of_populations) +\n",
    "        geom_vline(xintercept=c(-0.322, 0.322), col=\"red\") +\n",
    "        geom_hline(yintercept=-log10(0.05), col=\"red\") +\n",
    "    \n",
    "    scale_shape_manual(values = c(21:25,21:25,21:25,21:25)) + \n",
    "ggtitle(j) + ggtheme()\n",
    "    print(p)\n",
    "}"
   ]
  },
  {
   "cell_type": "markdown",
   "id": "3651b8d9",
   "metadata": {},
   "source": [
    "### Without Y genes"
   ]
  },
  {
   "cell_type": "code",
   "execution_count": null,
   "id": "b3b67395",
   "metadata": {},
   "outputs": [],
   "source": [
    "library(biomaRt)\n",
    "mart <- useMart(biomart=\"ensembl\", dataset=\"hsapiens_gene_ensembl\")"
   ]
  },
  {
   "cell_type": "code",
   "execution_count": null,
   "id": "5e8c2d68",
   "metadata": {},
   "outputs": [],
   "source": [
    "results <- getBM(attributes = c(\"chromosome_name\", \"hgnc_symbol\"),\n",
    "           filters = \"chromosome_name\", values = \"Y\", mart = mart)"
   ]
  },
  {
   "cell_type": "code",
   "execution_count": null,
   "id": "a2d142cf",
   "metadata": {
    "scrolled": true
   },
   "outputs": [],
   "source": [
    "results"
   ]
  },
  {
   "cell_type": "code",
   "execution_count": null,
   "id": "7d49f89c",
   "metadata": {},
   "outputs": [],
   "source": [
    "all_fcs4  <- all_fcs2  %>% \n",
    "dplyr::filter(avg_log2FC>0 \n",
    "              & !grepl(gene, pattern = \"^MTRN\")\n",
    "             & !grepl(gene, pattern = \"^HLA-\")\n",
    "             & !grepl(gene, pattern = \"orf\")\n",
    "             & !grepl(gene, pattern = \"^AP0\")\n",
    "             & !grepl(gene, pattern = \"^H1-\"))  %>% \n",
    "dplyr::filter(!(gene %in% results$hgnc_symbol))  %>% \n",
    "mutate(avg_log2FC2 = ifelse(direction == \"Down\",avg_log2FC*-1,avg_log2FC))  %>% \n",
    "mutate(abs_avg_log2FC2 = abs(avg_log2FC2))  %>% \n",
    "mutate(label = ifelse(abs_avg_log2FC2>0.322&p_val_adj<0.05,gene,\n",
    "                     ifelse(abs_avg_log2FC2>0.322&p_val_adj<10e-100,gene,NA_character_)))  %>% \n",
    "mutate(color = ifelse(abs_avg_log2FC2>0.322&p_val_adj<0.05,Dataset,\"grey\"))   %>% \n",
    "mutate(cd4_vs_cd8 = substr(Dataset,1,3))"
   ]
  },
  {
   "cell_type": "code",
   "execution_count": null,
   "id": "d8b9b4e1",
   "metadata": {},
   "outputs": [],
   "source": [
    "all_fcs4  %>% dplyr::filter(gene == \"ASCL2\")"
   ]
  },
  {
   "cell_type": "code",
   "execution_count": null,
   "id": "e4cb3816",
   "metadata": {},
   "outputs": [],
   "source": [
    "options(repr.plot.width = 12, repr.plot.height = 6)\n",
    "\n",
    "for(j in Comparison_list){\n",
    "    df10  <- all_fcs4  %>% dplyr::filter(Comparison == j & (Dataset %in% c(\"cd4_l1_full\", \"cd8_l2_subcluster\"))) \n",
    "p  <- df10  %>%  ggplot(aes(x = avg_log2FC2, y = -log10(p_val_adj), color = color, label = label)) + \n",
    "  ggrastr::rasterize(geom_point(aes(shape = color), size = 2), dpi = 300) + \n",
    "        theme_minimal() +\n",
    "        geom_vline(xintercept=c(-0.322, 0.322), col=\"red\") +\n",
    "        geom_hline(yintercept=-log10(0.05), col=\"red\") +geom_text_repel(size = 3) +\n",
    "        scale_color_manual(values=colors_of_populations) +\n",
    "        scale_shape_manual(values = c(21:25,21:25,21:25,21:25)) + \n",
    "ggtitle(j) + ggtheme()\n",
    "    print(p)\n",
    "    ggsave(paste0(\"../figures/volcano/cd4_and_cd8_\",j,\".svg\"), width = 10, height = 6)\n",
    "}"
   ]
  },
  {
   "cell_type": "code",
   "execution_count": null,
   "id": "0b85f0dc",
   "metadata": {},
   "outputs": [],
   "source": [
    "library(ggrepel)"
   ]
  },
  {
   "cell_type": "code",
   "execution_count": null,
   "id": "bcf99c64",
   "metadata": {},
   "outputs": [],
   "source": [
    "all_fcs5  <- all_fcs2  %>% \n",
    "dplyr::filter(avg_log2FC>0 \n",
    "              & !grepl(gene, pattern = \"^MTRN\")\n",
    "             & !grepl(gene, pattern = \"^HLA-\")\n",
    "             & !grepl(gene, pattern = \"orf\")\n",
    "             & !grepl(gene, pattern = \"^AP0\")\n",
    "             & !grepl(gene, pattern = \"^H1-\"))  %>% \n",
    "dplyr::filter(!(gene %in% results$hgnc_symbol))  %>% \n",
    "mutate(avg_log2FC2 = ifelse(direction == \"Down\",avg_log2FC*-1,avg_log2FC))  %>% \n",
    "mutate(abs_avg_log2FC2 = abs(avg_log2FC2))  %>% \n",
    "mutate(label = ifelse(abs_avg_log2FC2>0.2&p_val_adj<0.05,gene,\n",
    "                     ifelse(abs_avg_log2FC2>0.2&p_val_adj<10e-100,gene,NA_character_)))  %>% \n",
    "mutate(color = ifelse(abs_avg_log2FC2>0.2&p_val_adj<0.05,Dataset,\"grey\"))   %>% \n",
    "mutate(cd4_vs_cd8 = substr(Dataset,1,3))"
   ]
  },
  {
   "cell_type": "code",
   "execution_count": null,
   "id": "590a7ec5",
   "metadata": {
    "scrolled": false
   },
   "outputs": [],
   "source": [
    "options(repr.plot.width = 12, repr.plot.height = 6)\n",
    "\n",
    "for(j in Comparison_list){\n",
    "    df10  <- all_fcs5 %>% dplyr::filter(Comparison == j & (Dataset %in% c(\"cd4_l3_treg\"))) \n",
    "p  <- df10  %>%  ggplot(aes(x = avg_log2FC2, y = -log10(p_val_adj), color = color, label = label)) + \n",
    "  ggrastr::rasterize(geom_point(aes(shape = color), size = 2), dpi = 300) + \n",
    "        theme_minimal() +\n",
    "        geom_vline(xintercept=c(-0.2, 0.2), col=\"red\") +\n",
    "        geom_hline(yintercept=-log10(0.05), col=\"red\") +geom_text_repel(size = 6, max.overlaps = 15) +\n",
    "        scale_color_manual(values=c(\"#ff5599ff\",\"grey88\")) +\n",
    "        scale_shape_manual(values = c(21:25,21:25,21:25,21:25)) + \n",
    "ggtitle(j) + ggtheme()\n",
    "    print(p)\n",
    "    ggsave(paste0(\"../figures/volcano/treg_\",j,\".svg\"), width = 10, height = 6)\n",
    "}"
   ]
  },
  {
   "cell_type": "code",
   "execution_count": null,
   "id": "6169d125",
   "metadata": {},
   "outputs": [],
   "source": [
    "for(j in Comparison_list){\n",
    "    df10  <- all_fcs5 %>% dplyr::filter(Comparison == j & (Dataset %in% c(\"cd8_l2_unc\"))) \n",
    "p  <- df10  %>%  ggplot(aes(x = avg_log2FC2, y = -log10(p_val_adj), color = color, label = label)) + \n",
    "  ggrastr::rasterize(geom_point(aes(shape = color), size = 2), dpi = 300) + \n",
    "        theme_minimal() +\n",
    "        geom_vline(xintercept=c(-0.2, 0.2), col=\"red\") +\n",
    "        geom_hline(yintercept=-log10(0.05), col=\"red\") +geom_text_repel(size = 6) +\n",
    "        scale_color_manual(values=c(\"#306aa3ff\",\"grey88\")) +\n",
    "        scale_shape_manual(values = c(21:25,21:25,21:25,21:25)) + \n",
    "ggtitle(j) + ggtheme()\n",
    "    print(p)\n",
    "    ggsave(paste0(\"../figures/volcano/unc_\",j,\".svg\"), width = 10, height = 6)\n",
    "}"
   ]
  },
  {
   "cell_type": "code",
   "execution_count": null,
   "id": "df55ab86",
   "metadata": {},
   "outputs": [],
   "source": [
    "cd4  <- readRDS(\"../data/processed/L1/cd4_l1_full_filt.rds\")\n",
    "\n",
    "avgexp = AggregateExpression(subset(cd4, Experiment_ID %in% c(\"Exp16\",\"Exp18\",\"Exp19\",\"Exp20\")), \n",
    "                             return.seurat = F, group.by = \"Patient_Time\", \n",
    "                          assay = \"RNA\")"
   ]
  },
  {
   "cell_type": "code",
   "execution_count": null,
   "id": "ba0ae7fe",
   "metadata": {},
   "outputs": [],
   "source": []
  },
  {
   "cell_type": "code",
   "execution_count": null,
   "id": "72950151",
   "metadata": {},
   "outputs": [],
   "source": [
    "avgexp  <- NormalizeData(avgexp)\n",
    "avgexp  <- ScaleData(avgexp)"
   ]
  },
  {
   "cell_type": "code",
   "execution_count": null,
   "id": "25780388",
   "metadata": {},
   "outputs": [],
   "source": [
    "dir.create(\"../figures/volcano\")"
   ]
  },
  {
   "cell_type": "code",
   "execution_count": null,
   "id": "e2f68e69",
   "metadata": {},
   "outputs": [],
   "source": [
    "options(repr.plot.width = 22, repr.plot.height = 8)\n",
    "\n",
    "for(j in Comparison_list){\n",
    "    df10  <- all_fcs4  %>% dplyr::filter(Comparison == j & !(Dataset %in% c(\"cd4_l1_full\", \"cd8_l2_subcluster\", \n",
    "                                                                            \"cd4_l2_subcluster\", \"cd8_l1_full\",\n",
    "                                                                           \"cd8_l2_nk\"))) \n",
    "p  <- df10  %>%  ggplot(aes(x = avg_log2FC2, y = -log10(p_val_adj), color = color, label = label)) + \n",
    "  ggrastr::rasterize(geom_point(aes(shape = color), size = 2)) + \n",
    "        theme_minimal() +\n",
    "        geom_text_repel(size = 6) +\n",
    "facet_wrap(~cd4_vs_cd8) +\n",
    "        scale_color_manual(values=colors_of_populations) +\n",
    "        geom_vline(xintercept=c(-0.322, 0.322), col=\"red\") +\n",
    "        geom_hline(yintercept=-log10(0.05), col=\"red\") +\n",
    "    \n",
    "    scale_shape_manual(values = c(21:25,21:25,21:25,21:25)) + \n",
    "ggtitle(j) + ggtheme()\n",
    "    print(p)\n",
    "    ggsave(paste0(\"../figures/volcano/all_populations_\",j,\".svg\"), width = 17, height = 6)\n",
    "}"
   ]
  }
 ],
 "metadata": {
  "kernelspec": {
   "display_name": "R",
   "language": "R",
   "name": "ir"
  },
  "language_info": {
   "codemirror_mode": "r",
   "file_extension": ".r",
   "mimetype": "text/x-r-source",
   "name": "R",
   "pygments_lexer": "r",
   "version": "4.5.1"
  },
  "toc": {
   "base_numbering": 1,
   "nav_menu": {},
   "number_sections": true,
   "sideBar": true,
   "skip_h1_title": false,
   "title_cell": "Table of Contents",
   "title_sidebar": "Contents",
   "toc_cell": false,
   "toc_position": {
    "height": "calc(100% - 180px)",
    "left": "10px",
    "top": "150px",
    "width": "393.767px"
   },
   "toc_section_display": true,
   "toc_window_display": true
  }
 },
 "nbformat": 4,
 "nbformat_minor": 5
}
