{
 "cells": [
  {
   "cell_type": "markdown",
   "id": "a767826f",
   "metadata": {},
   "source": [
    "# Part 10: DEG analysis "
   ]
  },
  {
   "cell_type": "markdown",
   "id": "3bff94e3",
   "metadata": {},
   "source": [
    "In this document, we will focus on the analysis of differential expressed genes (DEG). We have already obtained the DEG before in parts 6 and 7 of the analysis. The results will be loaded and built upon.  "
   ]
  },
  {
   "cell_type": "code",
   "execution_count": null,
   "id": "8704100f",
   "metadata": {
    "scrolled": true
   },
   "outputs": [],
   "source": [
    "source(\"diabetes_analysis_v07.R\")\n",
    "\n",
    "rank_score_func <- function(df){\n",
    "df <- df %>% mutate(score = -1*log(p_val_adj+(10^-310))*avg_log2FC*(pct.1/(pct.2+10^-300)))\n",
    "return(df)\n",
    "}\n",
    "\n"
   ]
  },
  {
   "cell_type": "markdown",
   "id": "a1ee6c0c",
   "metadata": {},
   "source": [
    "We will be using some additional libraries:"
   ]
  },
  {
   "cell_type": "code",
   "execution_count": null,
   "id": "355a91ec",
   "metadata": {
    "scrolled": true
   },
   "outputs": [],
   "source": [
    "library(msigdbr)\n",
    "library(clusterProfiler)\n",
    "library(org.Hs.eg.db)\n",
    "library(enrichplot)\n",
    "library(EnsDb.Hsapiens.v86)\n",
    "library(fgsea)"
   ]
  },
  {
   "cell_type": "markdown",
   "id": "e50b23dd",
   "metadata": {},
   "source": [
    "Formating of plots in ggplot:"
   ]
  },
  {
   "cell_type": "code",
   "execution_count": null,
   "id": "b571ab5e",
   "metadata": {},
   "outputs": [],
   "source": [
    "ggtheme <- function() {\n",
    "  theme(\n",
    "    axis.text = element_text(size = 20),\n",
    "    axis.title = element_text(size = 20),\n",
    "    text = element_text(size = 20, colour = \"black\"),\n",
    "    legend.text = element_text(size = 20),\n",
    "    legend.key.size =  unit(10, units = \"points\")\n",
    "    \n",
    "  )\n",
    "}"
   ]
  },
  {
   "cell_type": "markdown",
   "id": "fc8bc4ff",
   "metadata": {},
   "source": [
    "# Load markers, add EnsID"
   ]
  },
  {
   "cell_type": "markdown",
   "id": "01d3a45a",
   "metadata": {},
   "source": [
    "We will now load the markers we calculated in parts 6 and 7 of the analysis pipeline. As we have the The precalculated gene tables can be also downloaded from Zenodo: [DOI: 10.5281/zenodo.14222418](https://zenodo.org/records/14222418) "
   ]
  },
  {
   "cell_type": "code",
   "execution_count": null,
   "id": "3acf83b1",
   "metadata": {},
   "outputs": [],
   "source": [
    "markers_cd4  <- read_csv(\"../tables/de_genes/240319_cd4_all_markers_without_sex.csv\")\n",
    "markers_cd8  <- read_csv(\"../tables/de_genes/240319_cd8_all_markers_without_sex.csv\")"
   ]
  },
  {
   "cell_type": "markdown",
   "id": "9402c586",
   "metadata": {},
   "source": [
    "As we have the sample information stored, we can bind markers all toghether. "
   ]
  },
  {
   "cell_type": "code",
   "execution_count": null,
   "id": "d06018bb",
   "metadata": {},
   "outputs": [],
   "source": [
    "all_markers  <- rbind(markers_cd4, markers_cd8)"
   ]
  },
  {
   "cell_type": "code",
   "execution_count": null,
   "id": "e8bddd28",
   "metadata": {},
   "outputs": [],
   "source": [
    "all_markers$source  %>% table"
   ]
  },
  {
   "cell_type": "markdown",
   "id": "d2a75068",
   "metadata": {},
   "source": [
    "We will now clean the metadata of the DEG a bit and add the Up or Down direction, which indicated the direction of the change. Up means a gene is expressed more in the worse condition, i.e. T1D compared to Healthy, T1D T0 compared to T1D T1, no partial remission at T1 compared to partial remission at T1, etc. "
   ]
  },
  {
   "cell_type": "code",
   "execution_count": null,
   "id": "0cfe21f1",
   "metadata": {},
   "outputs": [],
   "source": [
    "all_markers  <- all_markers  %>% mutate(\n",
    "direction = case_when(test_type == \"Dia T1 vs Ctrl T0\" & cluster == \"Ctrl T0\" ~ \"Down\",\n",
    "                      test_type == \"Dia T1 vs Ctrl T0\" & cluster == \"Dia T1\" ~ \"Up\",\n",
    "                      \n",
    "                      test_type == \"Dia T0 vs Ctrl T0\" & cluster == \"Ctrl T0\" ~ \"Down\",\n",
    "                      test_type == \"Dia T0 vs Ctrl T0\" & cluster == \"Dia T0\" ~ \"Up\",\n",
    "                      \n",
    "                      test_type == \"Dia T0 vs Dia T1\" & cluster == \"Dia T0\" ~ \"Up\",\n",
    "                      test_type == \"Dia T0 vs Dia T1\" & cluster == \"Dia T1\" ~ \"Down\",\n",
    "                      \n",
    "                      test_type == \"PR_0 T0 vs PR_0 T1\" & cluster == \"PR_0 T0\" ~ \"Up\",\n",
    "                      test_type == \"PR_0 T0 vs PR_0 T1\" & cluster == \"PR_0 T1\" ~ \"Down\",\n",
    "                      \n",
    "                      test_type == \"PR_0 T0 vs PR_1 T0\" & cluster == \"PR_0 T0\" ~ \"Up\",\n",
    "                      test_type == \"PR_0 T0 vs PR_1 T0\" & cluster == \"PR_1 T0\" ~ \"Down\",\n",
    "                      \n",
    "                      test_type == \"PR_0 T1 vs PR_1 T1\" & cluster == \"PR_0 T1\" ~ \"Up\",\n",
    "                      test_type == \"PR_0 T1 vs PR_1 T1\" & cluster == \"PR_1 T1\" ~ \"Down\",\n",
    "                      \n",
    "                      test_type == \"PR_1 T0 vs PR_1 T1\" & cluster == \"PR_1 T0\" ~ \"Up\",\n",
    "                      test_type == \"PR_1 T0 vs PR_1 T1\" & cluster == \"PR_1 T1\" ~ \"Down\",\n",
    "                      \n",
    "                      test_type == \"Keto_1 T0 vs Keto_0 T0\" & cluster == \"Keto_0 T0\" ~ \"Down\",\n",
    "                      test_type == \"Keto_1 T0 vs Keto_0 T0\" & cluster == \"Keto_1 T0\" ~ \"Up\"\n",
    "                      \n",
    "                     ))"
   ]
  },
  {
   "cell_type": "code",
   "execution_count": null,
   "id": "9a8cce13",
   "metadata": {
    "scrolled": true
   },
   "outputs": [],
   "source": [
    "all_markers  %>% group_by(cluster, test_type, direction)  %>% tally"
   ]
  },
  {
   "cell_type": "markdown",
   "id": "a10e1487",
   "metadata": {},
   "source": [
    "Add Ensembl IDs for each gene as they are needed for some analyses."
   ]
  },
  {
   "cell_type": "code",
   "execution_count": null,
   "id": "19d2463a",
   "metadata": {},
   "outputs": [],
   "source": [
    "geneIDs1 <- ensembldb::select(EnsDb.Hsapiens.v86, keys= (all_markers$gene  %>% unique ), \n",
    "                              keytype = \"SYMBOL\", columns = c(\"SYMBOL\",\"ENTREZID\"))"
   ]
  },
  {
   "cell_type": "code",
   "execution_count": null,
   "id": "d246f594",
   "metadata": {},
   "outputs": [],
   "source": [
    "colnames(geneIDs1)  <- c(\"gene\", \"entrezid\")"
   ]
  },
  {
   "cell_type": "code",
   "execution_count": null,
   "id": "710ce0e0",
   "metadata": {},
   "outputs": [],
   "source": [
    "all_markers2  <- all_markers  %>% \n",
    "                    left_join(geneIDs1) "
   ]
  },
  {
   "cell_type": "code",
   "execution_count": null,
   "id": "3fbf3631",
   "metadata": {
    "scrolled": true
   },
   "outputs": [],
   "source": [
    "all_markers2"
   ]
  },
  {
   "cell_type": "code",
   "execution_count": null,
   "id": "4422d52e",
   "metadata": {},
   "outputs": [],
   "source": [
    "all_markers$gene_direction  <- paste(all_markers$gene, all_markers$direction)"
   ]
  },
  {
   "cell_type": "code",
   "execution_count": null,
   "id": "a53f7e59",
   "metadata": {},
   "outputs": [],
   "source": [
    "all_markers2$gene_direction  <- paste(all_markers2$gene, all_markers2$direction)"
   ]
  },
  {
   "cell_type": "markdown",
   "id": "fa58023e",
   "metadata": {},
   "source": [
    "# Counts of DE genes"
   ]
  },
  {
   "cell_type": "markdown",
   "id": "b81867de",
   "metadata": {},
   "source": [
    "### RNA"
   ]
  },
  {
   "cell_type": "markdown",
   "id": "7ecac56e",
   "metadata": {},
   "source": [
    "Let's visualize the counts of DEG in all clusters."
   ]
  },
  {
   "cell_type": "code",
   "execution_count": null,
   "id": "882d4023",
   "metadata": {},
   "outputs": [],
   "source": [
    "options(repr.plot.width = 10, repr.plot.height = 5)\n",
    "all_markers  %>% \n",
    "group_by(cluster, source, test_type, dataset)  %>% \n",
    "dplyr::filter(source == \"scRNAseq_RNA\")  %>% \n",
    "ggplot(aes(x = dataset)) +\n",
    "geom_bar(aes(fill = test_type), position = \"stack\") + coord_flip() "
   ]
  },
  {
   "cell_type": "markdown",
   "id": "e26b1f35",
   "metadata": {},
   "source": [
    "Split up different comparisons:"
   ]
  },
  {
   "cell_type": "code",
   "execution_count": null,
   "id": "fea180f6",
   "metadata": {},
   "outputs": [],
   "source": [
    "options(repr.plot.width = 20, repr.plot.height = 5)\n",
    "all_markers  %>% \n",
    "group_by(cluster, source, test_type, dataset)  %>% \n",
    "dplyr::filter(source == \"scRNAseq_RNA\" & test_type != \"Cpept_HI_T1 vs Cpept_LO_T1\")  %>% \n",
    "ggplot(aes(x = dataset)) +\n",
    "facet_grid(cols = vars(test_type)) +\n",
    "geom_bar(aes(fill = cluster), position = \"stack\") + coord_flip() "
   ]
  },
  {
   "cell_type": "markdown",
   "id": "a8988526",
   "metadata": {},
   "source": [
    "Add a bit of formating."
   ]
  },
  {
   "cell_type": "code",
   "execution_count": null,
   "id": "829559b0",
   "metadata": {
    "scrolled": true
   },
   "outputs": [],
   "source": [
    "all_markers  %>% \n",
    "group_by(cluster, source, test_type, dataset)  %>% \n",
    "mutate(dataset = stringr::str_to_upper(gsub(dataset, pattern = \"_\", replacement = \" \")))  %>% \n",
    "dplyr::filter(source == \"scRNAseq_RNA\" & test_type != \"Cpept_HI_T1 vs Cpept_LO_T1\")  %>% \n",
    "ggplot(aes(x = dataset)) +\n",
    "facet_grid(cols = vars(test_type)) +\n",
    "geom_bar(aes(fill = direction), position = \"stack\") + coord_flip() +\n",
    "ggtheme() + \n",
    "theme_bw() + \n",
    "scale_fill_manual(values = c(\"#90c2f1ff\", \"#d0625dff\")) + theme(axis.ticks.y = element_blank())\n"
   ]
  },
  {
   "cell_type": "code",
   "execution_count": null,
   "id": "1efcb3ce",
   "metadata": {},
   "outputs": [],
   "source": [
    "all_markers  %>% \n",
    "group_by(cluster, source, test_type, dataset)  %>% \n",
    "mutate(dataset = stringr::str_to_upper(gsub(dataset, pattern = \"_\", replacement = \" \")))  %>% \n",
    "dplyr::filter(source == \"scRNAseq_RNA\" & test_type != \"Cpept_HI_T1 vs Cpept_LO_T1\" &\n",
    "             test_type != \"PR_0 T0 vs PR_0 T1\" & test_type != \"PR_0 T1 vs PR_1 T1\" &\n",
    "             test_type != \"PR_1 T0 vs PR_1 T1\" )  %>% \n",
    "ggplot(aes(x = dataset)) +\n",
    "facet_grid(cols = vars(test_type)) +\n",
    "geom_bar(aes(fill = direction), position = \"stack\") + coord_flip() +\n",
    "ggtheme() + \n",
    "theme_bw() + \n",
    "scale_fill_manual(values = c(\"#90c2f1ff\", \"#d0625dff\")) + theme(axis.ticks.y = element_blank())\n"
   ]
  },
  {
   "cell_type": "code",
   "execution_count": null,
   "id": "353851d3",
   "metadata": {},
   "outputs": [],
   "source": [
    "library(svglite)\n",
    "dir.create(\"../figures/DE_genes/\")\n",
    "ggsave(filename = \"../figures/DE_genes/count_of_RNA_markers.svg\", width = 11, height = 4)"
   ]
  },
  {
   "cell_type": "markdown",
   "id": "fc446aa8",
   "metadata": {},
   "source": [
    "### CollecTRI"
   ]
  },
  {
   "cell_type": "markdown",
   "id": "90115817",
   "metadata": {},
   "source": [
    "We can do the same thing of differentially active transcriptional factors estimated by DecoupleR package:"
   ]
  },
  {
   "cell_type": "code",
   "execution_count": null,
   "id": "c353854a",
   "metadata": {},
   "outputs": [],
   "source": [
    "all_markers  %>% \n",
    "group_by(cluster, source, test_type, dataset)  %>% \n",
    "dplyr::filter(source == \"scRNAseq_collecTRI\")  %>% \n",
    "ggplot(aes(x = dataset)) +\n",
    "geom_bar(aes(fill = test_type), position = \"stack\") + coord_flip() "
   ]
  },
  {
   "cell_type": "code",
   "execution_count": null,
   "id": "209aa07e",
   "metadata": {},
   "outputs": [],
   "source": [
    "all_markers  %>% \n",
    "group_by(cluster, source, test_type, dataset)  %>% \n",
    "dplyr::filter(source == \"scRNAseq_collecTRI\")  %>% \n",
    "ggplot(aes(x = dataset)) +\n",
    "facet_grid(cols = vars(test_type)) +\n",
    "geom_bar(aes(fill = cluster), position = \"stack\") + coord_flip() "
   ]
  },
  {
   "cell_type": "code",
   "execution_count": null,
   "id": "136830d9",
   "metadata": {
    "scrolled": true
   },
   "outputs": [],
   "source": [
    "all_markers  %>% dplyr::filter(source == \"scRNAseq_collecTRI\")  %>% \n",
    "mutate(gene_direction = paste(gene, direction))  %>% \n",
    "group_by(gene, gene_direction)  %>% tally  %>% arrange(desc(n))"
   ]
  },
  {
   "cell_type": "markdown",
   "id": "1a967e3b",
   "metadata": {},
   "source": [
    "# Genes with similar DE trend in T0 and T1"
   ]
  },
  {
   "cell_type": "markdown",
   "id": "d894ca58",
   "metadata": {},
   "source": [
    "In this part, we will look at the markers and check which of them are consistently up- or downregulated at both T0 and T1. "
   ]
  },
  {
   "cell_type": "markdown",
   "id": "7228ec65",
   "metadata": {},
   "source": [
    "## Overlap of DEG in T0 and T1"
   ]
  },
  {
   "cell_type": "markdown",
   "id": "fd3e18ef",
   "metadata": {},
   "source": [
    "First, we will see which genes show up the most times in our DE results. "
   ]
  },
  {
   "cell_type": "code",
   "execution_count": null,
   "id": "80ea271d",
   "metadata": {},
   "outputs": [],
   "source": [
    "i = 1"
   ]
  },
  {
   "cell_type": "code",
   "execution_count": null,
   "id": "196eef27",
   "metadata": {},
   "outputs": [],
   "source": [
    " mrk_clust  <- all_markers  %>% dplyr::filter(source == \"scRNAseq_RNA\") %>% \n",
    "mutate(gene_direction = paste(gene, direction))   %>% \n",
    "dplyr::filter(test_type %in% c(\"Dia T0 vs Ctrl T0\", \"Dia T1 vs Ctrl T0\") &\n",
    "             dataset == datasets[1])  %>% group_by(gene_direction)   %>% tally()  %>% arrange(desc(n))  %>% \n",
    "dplyr::filter(n>1)\n",
    "mrk_clust$dataset  <- datasets[1]"
   ]
  },
  {
   "cell_type": "code",
   "execution_count": null,
   "id": "55b26e97",
   "metadata": {},
   "outputs": [],
   "source": [
    "mrk_clust_all  <- mrk_clust"
   ]
  },
  {
   "cell_type": "code",
   "execution_count": null,
   "id": "32de69dd",
   "metadata": {},
   "outputs": [],
   "source": [
    "for(i in 2:length(datasets)){\n",
    "    mrk_clust  <- all_markers  %>% dplyr::filter(source == \"scRNAseq_RNA\") %>% \n",
    "mutate(gene_direction = paste(gene, direction))   %>% \n",
    "dplyr::filter(test_type %in% c(\"Dia T0 vs Ctrl T0\", \"Dia T1 vs Ctrl T0\") &\n",
    "             dataset == datasets[i])  %>% group_by(gene_direction)   %>% tally()  %>% arrange(desc(n))  %>% \n",
    "dplyr::filter(n>1)\n",
    "    mrk_clust$dataset  <- datasets[i]\n",
    "    mrk_clust_all  <- rbind(mrk_clust_all, mrk_clust)\n",
    "    }\n"
   ]
  },
  {
   "cell_type": "code",
   "execution_count": null,
   "id": "1005a4ba",
   "metadata": {
    "scrolled": true
   },
   "outputs": [],
   "source": [
    "mrk_clust_all  %>% nrow"
   ]
  },
  {
   "cell_type": "markdown",
   "id": "3e7744b3",
   "metadata": {},
   "source": [
    "In this table, we show the DEG from our analysis with the direction of change and the counts it occurs among significantly up/down regulated genes when looking at the contrasts `\"Dia T0 vs Ctrl T0\"` and `\"Dia T1 vs Ctrl T0\"` across all the subpopulations we have defined.  "
   ]
  },
  {
   "cell_type": "code",
   "execution_count": null,
   "id": "13e6a66a",
   "metadata": {
    "scrolled": true
   },
   "outputs": [],
   "source": [
    "mrk_clust_all  %>% group_by(gene_direction)  %>% \n",
    "tally  %>% arrange(desc(n))  %>% separate(gene_direction, into = c(\"gene\", \"direction\"),\n",
    "                                          sep = \" \", remove = F)  %>% \n",
    "dplyr::filter(direction == \"Down\")"
   ]
  },
  {
   "cell_type": "markdown",
   "id": "25532f68",
   "metadata": {},
   "source": [
    "Let's see what are the top downregulated genes (down in T1D compared to healthy)."
   ]
  },
  {
   "cell_type": "code",
   "execution_count": null,
   "id": "9b696334",
   "metadata": {},
   "outputs": [],
   "source": [
    "down_genes  <- mrk_clust_all  %>% group_by(gene_direction)  %>% \n",
    "tally  %>% arrange(desc(n))  %>% separate(gene_direction, into = c(\"gene\", \"direction\"),\n",
    "                                          sep = \" \", remove = F)  %>% \n",
    "dplyr::filter(direction == \"Down\")  %>% pull(gene)"
   ]
  },
  {
   "cell_type": "code",
   "execution_count": null,
   "id": "f9c0d192",
   "metadata": {},
   "outputs": [],
   "source": [
    "down_genes"
   ]
  },
  {
   "cell_type": "markdown",
   "id": "c799803d",
   "metadata": {},
   "source": [
    "Let's see what are the top upregulated genes (up in T1D compared to healthy)."
   ]
  },
  {
   "cell_type": "code",
   "execution_count": null,
   "id": "26ae7b16",
   "metadata": {
    "scrolled": true
   },
   "outputs": [],
   "source": [
    "up_genesd  <- mrk_clust_all  %>% group_by(gene_direction)  %>% \n",
    "tally  %>% arrange(desc(n))  %>% separate(gene_direction, into = c(\"gene\", \"direction\"),\n",
    "                                          sep = \" \", remove = F)  %>% \n",
    "dplyr::filter(direction == \"Up\")  %>% pull(gene)"
   ]
  },
  {
   "cell_type": "code",
   "execution_count": null,
   "id": "adfa3aa1",
   "metadata": {},
   "outputs": [],
   "source": [
    "up_genesd"
   ]
  },
  {
   "cell_type": "markdown",
   "id": "cda0059e",
   "metadata": {},
   "source": [
    "## Genes in T1 and T0 using fold changes"
   ]
  },
  {
   "cell_type": "markdown",
   "id": "f8cd87bf",
   "metadata": {},
   "source": [
    "To plot all genes, we will use fold changes rather that the list of DEG, as we're interested also in the direction of change, even if it is not significant. "
   ]
  },
  {
   "cell_type": "markdown",
   "id": "dc6ac93e",
   "metadata": {},
   "source": [
    "We will load the fold changes calculated in parts 06 and 07 of the analysis. The precalculated values are saved also on Zenodo. "
   ]
  },
  {
   "cell_type": "code",
   "execution_count": null,
   "id": "b39cbd73",
   "metadata": {},
   "outputs": [],
   "source": [
    "set_path_to_wd = \"../../240218_VN_Diabetes_V05/\""
   ]
  },
  {
   "cell_type": "code",
   "execution_count": null,
   "id": "c657ea0d",
   "metadata": {},
   "outputs": [],
   "source": [
    "paths_fc  <- list.files(paste0(set_path_to_wd, \"tables/fold_change\"), full.names = T)\n",
    "dataset_names  <- list.files(paste0(set_path_to_wd, \"tables/fold_change\"), full.names = F)"
   ]
  },
  {
   "cell_type": "code",
   "execution_count": null,
   "id": "aac9c49e",
   "metadata": {},
   "outputs": [],
   "source": [
    "paths_fc"
   ]
  },
  {
   "cell_type": "code",
   "execution_count": null,
   "id": "994aae66",
   "metadata": {},
   "outputs": [],
   "source": [
    "paths_fc  <- paths_fc[which(grepl(paths_fc, pattern = \"Ctrl\"))]"
   ]
  },
  {
   "cell_type": "code",
   "execution_count": null,
   "id": "454d65d6",
   "metadata": {},
   "outputs": [],
   "source": [
    "dataset_names  <- dataset_names[which(grepl(dataset_names, pattern = \"Ctrl\"))]"
   ]
  },
  {
   "cell_type": "code",
   "execution_count": null,
   "id": "18519219",
   "metadata": {
    "scrolled": false
   },
   "outputs": [],
   "source": [
    "dataset_names"
   ]
  },
  {
   "cell_type": "code",
   "execution_count": null,
   "id": "00059dfc",
   "metadata": {
    "scrolled": true
   },
   "outputs": [],
   "source": [
    "paths_fc"
   ]
  },
  {
   "cell_type": "markdown",
   "id": "fff2d1db",
   "metadata": {},
   "source": [
    "We will create one table containing the fold changes from the DiaT0_vs_Ctrl contrast. "
   ]
  },
  {
   "cell_type": "code",
   "execution_count": null,
   "id": "abc1646b",
   "metadata": {},
   "outputs": [],
   "source": [
    "all_fcs1  <- function(j) {\n",
    "  print(j)\n",
    "fc.df  <- read_csv(paths_fc[j])  %>% as.data.frame()\n",
    "  fc.df  <- fc.df  %>%  arrange(desc(avg_log2FC)) %>% \n",
    "dplyr::filter(grepl(cluster, pattern = \"Dia\")) \n",
    " fc.df$dataset  <-   gsub(dataset_names[j], pattern = \".csv\", replacement = \"\")\n",
    " fc.df$dataset  <-   gsub(fc.df$dataset, pattern = \"_Ctrl_vs_DiaT0\", replacement = \"\")\n",
    " fc.df$comaprison = \"DiaT0_vs_Ctrl\"   \n",
    "    \n",
    " return(fc.df)\n",
    "    }"
   ]
  },
  {
   "cell_type": "code",
   "execution_count": null,
   "id": "29f21f2b",
   "metadata": {
    "scrolled": true
   },
   "outputs": [],
   "source": [
    "all_fcs1_result  <- map(seq(from = 1, to = 41, by = 2), all_fcs1)"
   ]
  },
  {
   "cell_type": "code",
   "execution_count": null,
   "id": "d872d46d",
   "metadata": {},
   "outputs": [],
   "source": [
    "all_fcs_result  <- bind_rows(all_fcs1_result)"
   ]
  },
  {
   "cell_type": "markdown",
   "id": "e9b342b4",
   "metadata": {},
   "source": [
    "We will create another table containing the fold changes from the DiaT1_vs_Ctrl contrast. "
   ]
  },
  {
   "cell_type": "code",
   "execution_count": null,
   "id": "65d72bac",
   "metadata": {},
   "outputs": [],
   "source": [
    "all_fcs2  <- function(j) {\n",
    "  print(j)\n",
    "fc.df  <- read_csv(paths_fc[j])  %>% as.data.frame()\n",
    "  fc.df  <- fc.df  %>%  arrange(desc(avg_log2FC)) %>% \n",
    "dplyr::filter(grepl(cluster, pattern = \"Dia\")) \n",
    " fc.df$dataset  <-   gsub(dataset_names[j], pattern = \".csv\", replacement = \"\")\n",
    " fc.df$dataset  <-   gsub(fc.df$dataset, pattern = \"_Ctrl_vs_DiaT1\", replacement = \"\")\n",
    " fc.df$comaprison = \"DiaT1_vs_Ctrl\"\n",
    "    \n",
    " return(fc.df)\n",
    "    }"
   ]
  },
  {
   "cell_type": "code",
   "execution_count": null,
   "id": "120b3236",
   "metadata": {
    "scrolled": true
   },
   "outputs": [],
   "source": [
    "all_fcs2_result  <- map(seq(from = 2, to = 42, by = 2), all_fcs2)"
   ]
  },
  {
   "cell_type": "code",
   "execution_count": null,
   "id": "b5d70f8b",
   "metadata": {},
   "outputs": [],
   "source": [
    "all_fcs2_result  <- bind_rows(all_fcs2_result)"
   ]
  },
  {
   "cell_type": "markdown",
   "id": "ae25672c",
   "metadata": {},
   "source": [
    "Now let's bind the two tables together. "
   ]
  },
  {
   "cell_type": "code",
   "execution_count": null,
   "id": "942e0e43",
   "metadata": {},
   "outputs": [],
   "source": [
    "all_fcs_result  <- rbind(all_fcs_result, all_fcs2_result)"
   ]
  },
  {
   "cell_type": "markdown",
   "id": "9549b4dd",
   "metadata": {},
   "source": [
    "Now we can visualize the top up/down regulated genes in both time points with all fold change values. "
   ]
  },
  {
   "cell_type": "code",
   "execution_count": null,
   "id": "27579b27",
   "metadata": {},
   "outputs": [],
   "source": [
    "options(repr.plot.height = 7, repr.plot.width = 25)\n",
    "all_fcs_result  %>% \n",
    "mutate(is_shared  = gene %in% up_genesd | gene %in% down_genes,\n",
    "       direction_t0_t1 = ifelse(gene %in% up_genesd, \"UP\", ifelse(gene %in% down_genes, \"DOWN\", NA_character_)))  %>% \n",
    "dplyr::filter(is_shared == TRUE)  %>% \n",
    "ggplot(aes(factor(gene), dataset)) + \n",
    "facet_grid(cols = vars(direction_t0_t1), rows = vars(comaprison), space = \"free\", scales = \"free\") +\n",
    "  geom_point(aes(size = -log(p_val_adj, base = 10), colour = avg_log2FC, alpha = p_val_adj < 0.05)) + \n",
    "  theme_bw()  + scale_size_continuous(range=c(1,4)) +\n",
    "scale_alpha_manual(values = c(0.4,1)) +\n",
    " scale_colour_gradient2(low = \"blue\", mid = \"white\", high = \"red\") + \n",
    " theme(axis.text.x = element_text(angle = 90))"
   ]
  },
  {
   "cell_type": "markdown",
   "id": "4771c39c",
   "metadata": {},
   "source": [
    "Another visualization will be the logFC/logFC plot, which compares the logFC at T0 and at T1. "
   ]
  },
  {
   "cell_type": "markdown",
   "id": "b82bae19",
   "metadata": {},
   "source": [
    "Set the colors."
   ]
  },
  {
   "cell_type": "code",
   "execution_count": null,
   "id": "3aceba99",
   "metadata": {},
   "outputs": [],
   "source": [
    "colors_of_populations = c(\n",
    "    'cd4_l1_full' = \"#ffa66aff\",\n",
    "    'cd4_l2_subcluster'  = \"#ffa66aff\",\n",
    "    'cd4_l2_unc'  = \"#cd3333ff\",\n",
    "    'cd4_l3_isaghi'  = \"#a46464ff\",\n",
    "    'cd4_l3_naive'  = \"#a58413ff\",\n",
    "    'cd4_l3_nfkb'  = \"#a46c43ff\",\n",
    "    'cd4_l3_proliferating'  = \"#9b3097ff\", \n",
    "    'cd4_l3_temra'  = \"#7d252aff\",\n",
    "    'cd4_l3_tfh'  = \"#8e6a1dff\",\n",
    "    'cd4_l3_th1th17'  = \"#a94e4eff\",\n",
    "    'cd4_l3_th2'  = \"#b36672ff\",\n",
    "    'cd4_l3_treg'  = \"#ba6d8dff\",\n",
    "    'cd8_l1_full'  = \"#67934aff\",\n",
    "    'cd8_l2_nk'  = \"#105292ff\",\n",
    "    'cd8_l2_subcluster' = \"#67934aff\", \n",
    "    'cd8_l2_unc'  = \"#6d00c0ff\",\n",
    "    'cd8_l3_naive'  = \"#004455ff\",\n",
    "    'cd8_l3_prolif'  = \"#5f711aff\",\n",
    "    'cd8_l3_tcm'  = \"#427c39ff\",\n",
    "    'cd8_l3_tem'  = \"#004455ff\",\n",
    "    'cd8_l3_temra'  = \"#16481fff\",\n",
    "    \"grey\" = \"grey88\"\n",
    ")"
   ]
  },
  {
   "cell_type": "markdown",
   "id": "75c7d8a6",
   "metadata": {},
   "source": [
    "Plot the logFC/logFC plot for the main datasets of CD4 and CD8 T cells. "
   ]
  },
  {
   "cell_type": "code",
   "execution_count": null,
   "id": "9e0fd53a",
   "metadata": {},
   "outputs": [],
   "source": [
    "options(repr.plot.height = 12, repr.plot.width = 14)\n",
    "\n",
    "all_fcs_result  %>% \n",
    "dplyr::filter(gene %in% all_markers$gene)  %>% \n",
    "dplyr::filter(p_val_adj < 0.05)  %>% \n",
    "dplyr::filter(!(grepl(gene, pattern = \"MTRN\")) & \n",
    "              dataset %in% c(\"cd4_l1_full_filt\", \"cd8_l1_full_filt\"))  %>% \n",
    "dplyr::select(avg_log2FC, gene, dataset, comaprison)  %>% \n",
    "pivot_wider(names_from = \"comaprison\", values_from = avg_log2FC)  %>% \n",
    "mutate(gene_in_genes = ifelse(DiaT0_vs_Ctrl > 0.15 & DiaT1_vs_Ctrl > 0.15 |\n",
    "                              DiaT0_vs_Ctrl < -0.2 & DiaT1_vs_Ctrl < -0.2, \n",
    "                              gene, NA_character_))  %>% \n",
    "ggplot(aes(x = DiaT0_vs_Ctrl, y = DiaT1_vs_Ctrl, label = gene_in_genes, color = dataset))  +\n",
    "scale_color_manual(values = c(\"#ffa66aff\",\"#67934aff\"))  +\n",
    "geom_point(aes(shape = dataset)) + \n",
    "scale_shape_manual(values = c(21,22)) +\n",
    "ggrepel::geom_text_repel() +\n",
    "theme_bw() +\n",
    "ggtheme()\n",
    "ggsave(filename = \"../figures/DE_genes/corr_DE_t0_t1.svg\", width = 14, height = 12)"
   ]
  },
  {
   "cell_type": "markdown",
   "id": "72b19987",
   "metadata": {},
   "source": [
    "Just CD4. "
   ]
  },
  {
   "cell_type": "code",
   "execution_count": null,
   "id": "93ac489d",
   "metadata": {},
   "outputs": [],
   "source": [
    "all_fcs_result  %>% \n",
    "dplyr::filter(gene %in% all_markers$gene)  %>% \n",
    "dplyr::filter(p_val_adj < 0.05)  %>% \n",
    "dplyr::filter(!(grepl(gene, pattern = \"MTRN\")) & \n",
    "              dataset %in% c(\"cd4_l1_full_filt\"))  %>% \n",
    "dplyr::select(avg_log2FC, gene, dataset, comaprison)  %>% \n",
    "pivot_wider(names_from = \"comaprison\", values_from = avg_log2FC)  %>% \n",
    "mutate(gene_in_genes = ifelse(DiaT0_vs_Ctrl > 0.10 & DiaT1_vs_Ctrl > 0.10 |\n",
    "                              DiaT0_vs_Ctrl < -0.2 & DiaT1_vs_Ctrl < -0.2 |\n",
    "                              DiaT0_vs_Ctrl < -0.1 & DiaT1_vs_Ctrl > 0.1 |\n",
    "                              DiaT0_vs_Ctrl > 0.1 & DiaT1_vs_Ctrl < -0.1 |\n",
    "                              DiaT1_vs_Ctrl < -0.5 |\n",
    "                              DiaT1_vs_Ctrl > 0.10, \n",
    "                              gene, NA_character_))  %>% \n",
    "ggplot(aes(x = DiaT0_vs_Ctrl, y = DiaT1_vs_Ctrl, label = gene_in_genes, color = dataset))  +\n",
    "scale_color_manual(values = c(\"#d45500ff\"))  +\n",
    "geom_point(aes(shape = dataset)) + \n",
    "scale_shape_manual(values = c(21,22)) +\n",
    "ggrepel::geom_text_repel() +\n",
    "theme_bw() +\n",
    "ggtheme()\n",
    "ggsave(filename = \"../figures/DE_genes/corr_DE_t0_t1_cd4.svg\", width = 14, height = 12)"
   ]
  },
  {
   "cell_type": "markdown",
   "id": "5d199bf1",
   "metadata": {},
   "source": [
    "Just CD8. "
   ]
  },
  {
   "cell_type": "code",
   "execution_count": null,
   "id": "08c219fd",
   "metadata": {},
   "outputs": [],
   "source": [
    "all_fcs_result  %>% \n",
    "dplyr::filter(gene %in% all_markers$gene)  %>% \n",
    "dplyr::filter(p_val_adj < 0.05)  %>% \n",
    "dplyr::filter(!(grepl(gene, pattern = \"MTRN\")) & \n",
    "              dataset %in% c(\"cd8_l1_full_filt\"))  %>% \n",
    "dplyr::select(avg_log2FC, gene, dataset, comaprison)  %>% \n",
    "pivot_wider(names_from = \"comaprison\", values_from = avg_log2FC)  %>% \n",
    "mutate(gene_in_genes = ifelse(DiaT0_vs_Ctrl > 0.20 & DiaT1_vs_Ctrl > 0.20 |\n",
    "                              DiaT0_vs_Ctrl < -0.2 & DiaT1_vs_Ctrl < -0.2 |\n",
    "                              DiaT0_vs_Ctrl < -0.2 & DiaT1_vs_Ctrl > 0.2 |\n",
    "                              DiaT0_vs_Ctrl > 0.1 & DiaT1_vs_Ctrl < -0.1 |\n",
    "                              DiaT1_vs_Ctrl < -0.25 |\n",
    "                             DiaT0_vs_Ctrl < -0.3 |\n",
    "                              DiaT1_vs_Ctrl < -0.1, \n",
    "                              gene, NA_character_))  %>% \n",
    "ggplot(aes(x = DiaT0_vs_Ctrl, y = DiaT1_vs_Ctrl, label = gene_in_genes, color = dataset))  +\n",
    "scale_color_manual(values = c(\"#67934aff\"))  +\n",
    "geom_point(aes(shape = dataset)) + \n",
    "scale_shape_manual(values = c(21,22)) +\n",
    "ggrepel::geom_text_repel() +\n",
    "theme_bw() +\n",
    "ggtheme()\n",
    "ggsave(filename = \"../figures/DE_genes/corr_DE_t0_t1_cd8.svg\", width = 14, height = 12)"
   ]
  },
  {
   "cell_type": "markdown",
   "id": "c89c89d1",
   "metadata": {},
   "source": [
    "For the L2 populations, we will create one plot for CD4 and one plot for CD8 cells. "
   ]
  },
  {
   "cell_type": "code",
   "execution_count": null,
   "id": "6d0e647c",
   "metadata": {},
   "outputs": [],
   "source": [
    "colors_of_populations = c(\n",
    "    'cd4_l1_full' = \"#ffa66aff\",\n",
    "    'cd4_l2_subcluster'  = \"#ffa66aff\",\n",
    "    'cd4_l2_unc'  = \"#cd3333ff\",\n",
    "    'cd4_l3_isaghi'  = \"#a46464ff\",\n",
    "    'cd4_l3_naive'  = \"#a58413ff\",\n",
    "    'cd4_l3_nfkb'  = \"#a46c43ff\",\n",
    "    'cd4_l3_proliferating'  = \"#9b3097ff\", \n",
    "    'cd4_l3_temra'  = \"#7d252aff\",\n",
    "    'cd4_l3_tfh'  = \"#8e6a1dff\",\n",
    "    'cd4_l3_th1th17'  = \"#a94e4eff\",\n",
    "    'cd4_l3_th2'  = \"#b36672ff\",\n",
    "    'cd4_l3_treg'  = \"#ba6d8dff\",\n",
    "    'cd8_l1_full'  = \"#67934aff\",\n",
    "    'cd8_l2_nk'  = \"#105292ff\",\n",
    "    'cd8_l2_subcluster' = \"#67934aff\", \n",
    "    'cd8_l2_unc'  = \"#6d00c0ff\",\n",
    "    'cd8_l3_naive'  = \"#004455ff\",\n",
    "    'cd8_l3_prolif'  = \"#5f711aff\",\n",
    "    'cd8_l3_tcm'  = \"#427c39ff\",\n",
    "    'cd8_l3_tem'  = \"#004455ff\",\n",
    "    'cd8_l3_temra'  = \"#16481fff\",\n",
    "    \"grey\" = \"grey88\"\n",
    ")"
   ]
  },
  {
   "cell_type": "markdown",
   "id": "4a89ea77",
   "metadata": {},
   "source": [
    "Plot L2 subpopulations in CD4 T cells. "
   ]
  },
  {
   "cell_type": "code",
   "execution_count": null,
   "id": "9fe5d1cd",
   "metadata": {},
   "outputs": [],
   "source": [
    "all_fcs_result  %>% \n",
    "dplyr::filter(gene %in% all_markers$gene)  %>% \n",
    "dplyr::filter(p_val_adj < 0.05)  %>% \n",
    "dplyr::filter(!(grepl(gene, pattern = \"MTRN\")) & \n",
    "              grepl(dataset, pattern = \"cd4_l3\"))  %>% \n",
    "dplyr::select(avg_log2FC, gene, dataset, comaprison)  %>% \n",
    "pivot_wider(names_from = \"comaprison\", values_from = avg_log2FC)  %>% \n",
    "mutate(gene_in_genes = ifelse(DiaT0_vs_Ctrl > 0.15 & DiaT1_vs_Ctrl > 0.15 |\n",
    "                              DiaT0_vs_Ctrl < -0.2 & DiaT1_vs_Ctrl < -0.2, \n",
    "                              gene, NA_character_))  %>% \n",
    "ggplot(aes(x = DiaT0_vs_Ctrl, y = DiaT1_vs_Ctrl, label = gene_in_genes, color = dataset))  +\n",
    "scale_color_manual(values = colors_of_populations)  +\n",
    "geom_point(aes(shape = dataset)) + \n",
    "scale_shape_manual(values = c(21:25,21:25)) +\n",
    "ggrepel::geom_text_repel() +\n",
    "theme_bw() +\n",
    "ggtheme()\n",
    "ggsave(filename = \"../figures/DE_genes/corr_DE_cd4_pop_t0_t1.svg\", width = 14, height = 12)"
   ]
  },
  {
   "cell_type": "markdown",
   "id": "dcc4b4c7",
   "metadata": {},
   "source": [
    "Plot L2 subpopulations in CD8 T cells. "
   ]
  },
  {
   "cell_type": "code",
   "execution_count": null,
   "id": "1a14377a",
   "metadata": {},
   "outputs": [],
   "source": [
    "all_fcs_result  %>% \n",
    "dplyr::filter(gene %in% all_markers$gene)  %>% \n",
    "dplyr::filter(p_val_adj < 0.05)  %>% \n",
    "dplyr::filter(!(grepl(gene, pattern = \"MTRN\")) & \n",
    "              grepl(dataset, pattern = \"cd8_l3\"))  %>% \n",
    "dplyr::select(avg_log2FC, gene, dataset, comaprison)  %>% \n",
    "pivot_wider(names_from = \"comaprison\", values_from = avg_log2FC)  %>% \n",
    "mutate(gene_in_genes = ifelse(DiaT0_vs_Ctrl > 0.15 & DiaT1_vs_Ctrl > 0.15 |\n",
    "                              DiaT0_vs_Ctrl < -0.2 & DiaT1_vs_Ctrl < -0.2, \n",
    "                              gene, NA_character_))  %>% \n",
    "ggplot(aes(x = DiaT0_vs_Ctrl, y = DiaT1_vs_Ctrl, label = gene_in_genes, color = dataset))  +\n",
    "scale_color_manual(values = colors_of_populations)  +\n",
    "geom_point(aes(shape = dataset)) + \n",
    "scale_shape_manual(values = c(21:25,21:25)) +\n",
    "ggrepel::geom_text_repel() +\n",
    "theme_bw() +\n",
    "ggtheme()\n",
    "ggsave(filename = \"../figures/DE_genes/corr_DE_cd8_pop_t0_t1.svg\", width = 14, height = 12)"
   ]
  },
  {
   "cell_type": "code",
   "execution_count": null,
   "id": "8930e68f",
   "metadata": {},
   "outputs": [],
   "source": [
    "options(repr.plot.height = 10, repr.plot.width = 13)\n",
    "\n",
    "all_fcs_result  %>% \n",
    "dplyr::filter(gene %in% all_markers$gene)  %>% \n",
    "dplyr::filter(p_val_adj < 0.05)  %>% \n",
    "dplyr::filter(!(grepl(gene, pattern = \"MTRN\")) & \n",
    "              dataset %in% c(\"cd4_l1_full_filt\", \"cd8_l1_full_filt\"))  %>% \n",
    "dplyr::select(avg_log2FC, gene, dataset, comaprison)  %>% \n",
    "pivot_wider(names_from = \"comaprison\", values_from = avg_log2FC)  %>% \n",
    "mutate(gene_in_genes = ifelse(DiaT0_vs_Ctrl > 0.15 & DiaT1_vs_Ctrl > 0.15 |\n",
    "                              DiaT0_vs_Ctrl > 0.15 & DiaT1_vs_Ctrl < -0.2 |\n",
    "                              DiaT0_vs_Ctrl < -0.2 & DiaT1_vs_Ctrl > 0.15 |\n",
    "                              DiaT0_vs_Ctrl < -0.2 & DiaT1_vs_Ctrl < -0.2, \n",
    "                              gene, NA_character_))  %>% \n",
    "ggplot(aes(x = DiaT0_vs_Ctrl, y = DiaT1_vs_Ctrl, label = gene_in_genes, color = dataset))  +\n",
    "scale_color_manual(values = c(\"#ffa66aff\",\"#67934aff\"))  +\n",
    "geom_point(aes(shape = dataset)) + \n",
    "scale_shape_manual(values = c(21,22)) +\n",
    "ggrepel::geom_text_repel() +\n",
    "theme_bw() +\n",
    "ggtheme()"
   ]
  },
  {
   "cell_type": "markdown",
   "id": "7ab417e6",
   "metadata": {},
   "source": [
    "# Heatmap markers in populations"
   ]
  },
  {
   "cell_type": "markdown",
   "id": "e552485f",
   "metadata": {},
   "source": [
    "In this section, we will create heatmaps showing the DEG between T1D and healthy in the main populations. "
   ]
  },
  {
   "cell_type": "markdown",
   "id": "30567fbe",
   "metadata": {},
   "source": [
    "For each contrast and each l2 subpopulation, we will take the top 5 genes and we will create a heatmap showing the logFCs of these genes. Statistical significance will be showed based on the adjusted p-value."
   ]
  },
  {
   "cell_type": "markdown",
   "id": "64a2744b",
   "metadata": {},
   "source": [
    "## CD4"
   ]
  },
  {
   "cell_type": "markdown",
   "id": "4be61801",
   "metadata": {},
   "source": [
    "### T1D T0 vs Ctrl"
   ]
  },
  {
   "cell_type": "markdown",
   "id": "cefee026",
   "metadata": {},
   "source": [
    "We will check the count of the union of the top 5 DEG in subpopulations and save this marker to a variable called hm. "
   ]
  },
  {
   "cell_type": "code",
   "execution_count": null,
   "id": "d9756ea8",
   "metadata": {},
   "outputs": [],
   "source": [
    "all_markers  %>% \n",
    "separate(dataset, into = c(\"cd4_cd8\", \"Level\", NA, NA), sep = \"_\", remove = F)  %>% \n",
    "dplyr::filter(cd4_cd8 == \"cd4\")  %>% \n",
    "dplyr::filter(!(dataset %in% c(\"cd8_l2_subcluster\",\"cd4_l2_subcluster\")))  %>% \n",
    "mutate(dataset = stringr::str_to_upper(gsub(dataset, pattern = \"_\", replacement = \" \")))  %>% \n",
    "dplyr::filter(source == \"scRNAseq_RNA\" & test_type == \"Dia T0 vs Ctrl T0\" )  %>% \n",
    "group_by(dataset)  %>% \n",
    "slice_max(order_by = avg_log2FC, n = 5)  %>% \n",
    "pull(gene)  %>% unique  %>% length"
   ]
  },
  {
   "cell_type": "code",
   "execution_count": null,
   "id": "c69f4728",
   "metadata": {},
   "outputs": [],
   "source": [
    "hm  <- all_markers  %>% \n",
    "separate(dataset, into = c(\"cd4_cd8\", \"Level\", NA, NA), sep = \"_\", remove = F)  %>% \n",
    "dplyr::filter(cd4_cd8 == \"cd4\")  %>%\n",
    "dplyr::filter(p_val_adj < 0.05)  %>% \n",
    "dplyr::filter(!(dataset %in% c(\"cd8_l2_subcluster\",\"cd4_l2_subcluster\")))  %>% \n",
    "mutate(dataset = stringr::str_to_upper(gsub(dataset, pattern = \"_\", replacement = \" \")))  %>% \n",
    "dplyr::filter(source == \"scRNAseq_RNA\" & test_type == \"Dia T0 vs Ctrl T0\" )  %>% \n",
    "group_by(dataset)  %>% \n",
    "slice_max(order_by = avg_log2FC, n = 5)  %>% \n",
    "pull(gene)  %>% unique "
   ]
  },
  {
   "cell_type": "code",
   "execution_count": null,
   "id": "2386fcc1",
   "metadata": {},
   "outputs": [],
   "source": [
    "hm"
   ]
  },
  {
   "cell_type": "code",
   "execution_count": null,
   "id": "d3fa28b1",
   "metadata": {},
   "outputs": [],
   "source": [
    "hm  %>% length"
   ]
  },
  {
   "cell_type": "markdown",
   "id": "82d00a7b",
   "metadata": {},
   "source": [
    "We will use a function to get the fold change for all of the hm genes. "
   ]
  },
  {
   "cell_type": "code",
   "execution_count": null,
   "id": "2a420fa8",
   "metadata": {},
   "outputs": [],
   "source": [
    "get_fc_genes  <- function(j) {\n",
    "  print(j)\n",
    "fc.df  <- read_csv(paths_fc[j])  %>% as.data.frame()\n",
    "    if(grepl(paths_fc[j], pattern = \"Ctrl\")){\n",
    "fc.df  <- fc.df  %>%  arrange(desc(avg_log2FC)) %>% \n",
    "dplyr::filter(grepl(cluster, pattern = \"Dia\"))  %>% \n",
    "dplyr::filter(gene %in% hm) \n",
    "        \n",
    "        } else {\n",
    "        \n",
    "   if(grepl(paths_fc[j], pattern = \"PR_0_T0\")){\n",
    "fc.df  <- fc.df  %>%  arrange(desc(avg_log2FC)) %>% \n",
    "dplyr::filter(grepl(cluster, pattern = \"PR_0 T0\"))  %>% \n",
    "dplyr::filter(gene %in% hm) \n",
    "        } else {\n",
    "       \n",
    "        if(grepl(paths_fc[j], pattern = \"keto\")){\n",
    " fc.df  <- fc.df  %>%  arrange(desc(avg_log2FC)) %>% \n",
    "dplyr::filter(grepl(cluster, pattern = \"Keto_1 T0\"))   %>% \n",
    "dplyr::filter(gene %in% hm) \n",
    "    } else {\n",
    " fc.df  <- fc.df  %>%  arrange(desc(avg_log2FC)) %>% \n",
    "dplyr::filter(grepl(cluster, pattern = \"Dia T0\"))   %>% \n",
    "dplyr::filter(gene %in% hm) \n",
    "    }}}\n",
    "\n",
    "    fc.df$dataset  <-   gsub(dataset_names[j], pattern = \".csv\", replacement = \"\")\n",
    " return(fc.df)\n",
    "    }"
   ]
  },
  {
   "cell_type": "code",
   "execution_count": null,
   "id": "03828573",
   "metadata": {
    "scrolled": true
   },
   "outputs": [],
   "source": [
    "paths_fc  <- list.files(\"../../240617_VN_Diabetes_V06/tables/fold_change/\", full.names = T)\n",
    "dataset_names  <- list.files(\"../../240617_VN_Diabetes_V06/tables/fold_change\", full.names = F)\n",
    "\n",
    "paths_fc  <- paths_fc[grepl(paths_fc, pattern = \"l3\")|grepl(paths_fc, pattern = \"cd8_l2_unc\")|\n",
    "                      grepl(paths_fc, pattern = \"cd4_l2_unc\")|grepl(paths_fc, pattern = \"cd8_l2_nk\") ]\n",
    "\n",
    "dataset_names  <- dataset_names[grepl(dataset_names, pattern = \"l3\")|grepl(dataset_names, pattern = \"cd8_l2_unc\")|\n",
    "                      grepl(dataset_names, pattern = \"cd4_l2_unc\")|grepl(dataset_names, pattern = \"cd8_l2_nk\") ]\n",
    "\n",
    "paths_fc  <- paths_fc[grepl(paths_fc, pattern = \"Ctrl_vs_DiaT0\")|grepl(paths_fc, pattern = \"DiaT0_vs_DiaT1\")|\n",
    "                      grepl(paths_fc, pattern = \"Ctrl_vs_DiaT1\")|\n",
    "                      grepl(paths_fc, pattern = \"PR_0_T0_vs_PR_1_T0\")|grepl(paths_fc, pattern = \"ketoacidosis\")]\n",
    "\n",
    "dataset_names  <- dataset_names[grepl(dataset_names, pattern = \"Ctrl_vs_DiaT0\")|grepl(dataset_names, pattern = \"DiaT0_vs_DiaT1\")|\n",
    "                      grepl(dataset_names, pattern = \"Ctrl_vs_DiaT1\")|\n",
    "                      grepl(dataset_names, pattern = \"PR_0_T0_vs_PR_1_T0\")|grepl(dataset_names, pattern = \"ketoacidosis\")]\n"
   ]
  },
  {
   "cell_type": "code",
   "execution_count": null,
   "id": "db326673",
   "metadata": {
    "scrolled": true
   },
   "outputs": [],
   "source": [
    "fcs  <- purrr::map(1:length(paths_fc), get_fc_genes)"
   ]
  },
  {
   "cell_type": "code",
   "execution_count": null,
   "id": "7127d446",
   "metadata": {},
   "outputs": [],
   "source": [
    "fcs  <- bind_rows(fcs)"
   ]
  },
  {
   "cell_type": "markdown",
   "id": "529d25b3",
   "metadata": {},
   "source": [
    "We now have the full table, so we need to clean the data and plot the heatmap. "
   ]
  },
  {
   "cell_type": "code",
   "execution_count": null,
   "id": "e1c31aba",
   "metadata": {},
   "outputs": [],
   "source": [
    "fcs$population  <- substr(fcs$dataset, 1,11)\n",
    "\n",
    "table(fcs$population)\n",
    "\n",
    "fcs  <- fcs  %>% mutate(population2 = ifelse(grepl(population, pattern = \"_nk_\"), substr(population,1,9), population))\n",
    "\n",
    "fcs$population2  %>% table\n",
    "\n",
    "fcs  <- fcs  %>% mutate(n1 = as.numeric(nchar(dataset)))  %>% \n",
    "mutate(n2 = n1-12)  %>% \n",
    "mutate(test_type = substr(dataset,n2,n1))  \n",
    "\n",
    "\n",
    "fcs$test_type  %>% table"
   ]
  },
  {
   "cell_type": "code",
   "execution_count": null,
   "id": "e41bc291",
   "metadata": {
    "scrolled": true
   },
   "outputs": [],
   "source": [
    "fcs2  <- fcs  %>% mutate(andjus_logFC = ifelse(p_val_adj<0.05,avg_log2FC,avg_log2FC)) %>% \n",
    "dplyr::filter(test_type == \"Ctrl_vs_DiaT0\") "
   ]
  },
  {
   "cell_type": "markdown",
   "id": "840f7b10",
   "metadata": {},
   "source": [
    "Please note, that we are excluding MTRN mitochondrial genes, as they're very noisy. "
   ]
  },
  {
   "cell_type": "code",
   "execution_count": null,
   "id": "9f3b8769",
   "metadata": {
    "scrolled": true
   },
   "outputs": [],
   "source": [
    "fcs2_mtx  <- fcs2  %>% \n",
    "dplyr::filter(!grepl(dataset, pattern = \"cd8\"))  %>% \n",
    "dplyr::filter(!grepl(gene, pattern = \"MTRN\"))  %>% \n",
    "dplyr::select(avg_log2FC, gene, population2)  %>% \n",
    "pivot_wider(names_from = \"population2\", values_from = \"avg_log2FC\")  %>% \n",
    "column_to_rownames(\"gene\")  %>% \n",
    "as.matrix()"
   ]
  },
  {
   "cell_type": "markdown",
   "id": "b5bbf710",
   "metadata": {},
   "source": [
    "We will define a function to recode statistical sifnificance to star. "
   ]
  },
  {
   "cell_type": "code",
   "execution_count": null,
   "id": "b55248b6",
   "metadata": {},
   "outputs": [],
   "source": [
    "pval_to_stars <- function(p) {\n",
    "   ifelse(p < 0.05, \"*\", \"\") \n",
    "}\n",
    "\n",
    "# Apply function to p-value matrix\n",
    "star_matrix <- fcs2  %>% \n",
    "dplyr::filter(!grepl(dataset, pattern = \"cd8\"))  %>% \n",
    "dplyr::filter(!grepl(gene, pattern = \"MTRN\"))  %>% \n",
    "dplyr::select(p_val_adj, gene, population2)  %>% \n",
    "mutate(p_val_adj = pval_to_stars(p_val_adj))  %>% \n",
    "pivot_wider(names_from = \"population2\", values_from = \"p_val_adj\")  %>% \n",
    "column_to_rownames(\"gene\")  %>% \n",
    "as.matrix()\n",
    "\n",
    "rownames(star_matrix) <- rownames(fcs2_mtx)\n",
    "colnames(star_matrix) <- colnames(fcs2_mtx)\n",
    "\n"
   ]
  },
  {
   "cell_type": "markdown",
   "id": "8503ed6a",
   "metadata": {},
   "source": [
    "Save the heatmap. "
   ]
  },
  {
   "cell_type": "code",
   "execution_count": null,
   "id": "5a14c5ae",
   "metadata": {},
   "outputs": [],
   "source": [
    "options(repr.plot.height = 6, repr.plot.width = 3.5)\n",
    "breaks = seq(-2, 2, length.out = 100)\n",
    "pheatmap::pheatmap(fcs2_mtx, scale = \"none\", cluster_cols = T, cluster_rows = T,\n",
    "         #color=colorRampPalette(c(\"dodgerblue\", \"grey95\", \"indianred2\"))(50), \n",
    "         border_color = \"white\", display_numbers = star_matrix, breaks = breaks,\n",
    "         color = colorRampPalette(c(\"blue\", \"white\", \"red\"))(length(breaks)),\n",
    "                   filename = \"../figures/heatmaps/hm_deg_allclusters_cd4_diaT0_ctrl.pdf\",\n",
    "                   width = 3.5, height = 7\n",
    "         )"
   ]
  },
  {
   "cell_type": "markdown",
   "id": "20182394",
   "metadata": {},
   "source": [
    "Repeat this code for each contrast. "
   ]
  },
  {
   "cell_type": "markdown",
   "id": "2257b916",
   "metadata": {},
   "source": [
    "### T1D T1 vs Ctrl"
   ]
  },
  {
   "cell_type": "code",
   "execution_count": null,
   "id": "04795a49",
   "metadata": {},
   "outputs": [],
   "source": [
    "hm  <- all_markers  %>% \n",
    "separate(dataset, into = c(\"cd4_cd8\", \"Level\", NA, NA), sep = \"_\", remove = F)  %>% \n",
    "dplyr::filter(cd4_cd8 == \"cd4\")  %>%\n",
    "dplyr::filter(p_val_adj < 0.05)  %>% \n",
    "dplyr::filter(!(dataset %in% c(\"cd8_l2_subcluster\",\"cd4_l2_subcluster\")))  %>% \n",
    "mutate(dataset = stringr::str_to_upper(gsub(dataset, pattern = \"_\", replacement = \" \")))  %>% \n",
    "dplyr::filter(source == \"scRNAseq_RNA\" & test_type == \"Dia T1 vs Ctrl T0\" )  %>% \n",
    "group_by(dataset)  %>% \n",
    "slice_max(order_by = avg_log2FC, n = 5)  %>% \n",
    "pull(gene)  %>% unique "
   ]
  },
  {
   "cell_type": "code",
   "execution_count": null,
   "id": "e56d620c",
   "metadata": {},
   "outputs": [],
   "source": [
    "fcs  <- purrr::map(1:length(paths_fc), get_fc_genes)"
   ]
  },
  {
   "cell_type": "code",
   "execution_count": null,
   "id": "41ffebe6",
   "metadata": {},
   "outputs": [],
   "source": [
    "fcs  <- bind_rows(fcs)"
   ]
  },
  {
   "cell_type": "code",
   "execution_count": null,
   "id": "a021f927",
   "metadata": {},
   "outputs": [],
   "source": [
    "fcs$population  <- substr(fcs$dataset, 1,11)\n",
    "\n",
    "table(fcs$population)\n",
    "\n",
    "fcs  <- fcs  %>% mutate(population2 = ifelse(grepl(population, pattern = \"_nk_\"), substr(population,1,9), population))\n",
    "\n",
    "fcs$population2  %>% table\n",
    "\n",
    "fcs  <- fcs  %>% mutate(n1 = as.numeric(nchar(dataset)))  %>% \n",
    "mutate(n2 = n1-12)  %>% \n",
    "mutate(test_type = substr(dataset,n2,n1))  \n",
    "\n",
    "\n",
    "fcs$test_type  %>% table"
   ]
  },
  {
   "cell_type": "code",
   "execution_count": null,
   "id": "535b60ac",
   "metadata": {
    "scrolled": true
   },
   "outputs": [],
   "source": [
    "fcs2  <- fcs  %>% mutate(andjus_logFC = ifelse(p_val_adj<0.05,avg_log2FC,avg_log2FC)) %>% \n",
    "dplyr::filter(test_type == \"Ctrl_vs_DiaT1\") "
   ]
  },
  {
   "cell_type": "code",
   "execution_count": null,
   "id": "e370a0e4",
   "metadata": {
    "scrolled": true
   },
   "outputs": [],
   "source": [
    "fcs2_mtx  <- fcs2  %>% \n",
    "dplyr::filter(!grepl(dataset, pattern = \"cd8\"))  %>% \n",
    "dplyr::filter(!grepl(gene, pattern = \"MTRN\"))  %>% \n",
    "dplyr::select(avg_log2FC, gene, population2)  %>% \n",
    "pivot_wider(names_from = \"population2\", values_from = \"avg_log2FC\")  %>% \n",
    "column_to_rownames(\"gene\")  %>% \n",
    "as.matrix()"
   ]
  },
  {
   "cell_type": "code",
   "execution_count": null,
   "id": "ab49c5cb",
   "metadata": {},
   "outputs": [],
   "source": [
    "pval_to_stars <- function(p) {\n",
    "   ifelse(p < 0.05, \"*\", \"\") \n",
    "}\n",
    "\n",
    "# Apply function to p-value matrix\n",
    "star_matrix <- fcs2  %>% \n",
    "dplyr::filter(!grepl(dataset, pattern = \"cd8\"))  %>% \n",
    "dplyr::filter(!grepl(gene, pattern = \"MTRN\"))  %>% \n",
    "dplyr::select(p_val_adj, gene, population2)  %>% \n",
    "mutate(p_val_adj = pval_to_stars(p_val_adj))  %>% \n",
    "pivot_wider(names_from = \"population2\", values_from = \"p_val_adj\")  %>% \n",
    "column_to_rownames(\"gene\")  %>% \n",
    "as.matrix()\n",
    "\n",
    "rownames(star_matrix) <- rownames(fcs2_mtx)\n",
    "colnames(star_matrix) <- colnames(fcs2_mtx)\n",
    "\n"
   ]
  },
  {
   "cell_type": "code",
   "execution_count": null,
   "id": "1792efe5",
   "metadata": {},
   "outputs": [],
   "source": [
    "pheatmap::pheatmap(fcs2_mtx, scale = \"none\", cluster_cols = T, cluster_rows = T,\n",
    "         #color=colorRampPalette(c(\"dodgerblue\", \"grey95\", \"indianred2\"))(50), \n",
    "         border_color = \"white\", display_numbers = star_matrix, breaks = breaks,\n",
    "         color = colorRampPalette(c(\"blue\", \"white\", \"red\"))(length(breaks)),\n",
    "                   #filename = \"../figures/heatmaps/hm_deg_allclusters_cd4_diaT1_ctrl.pdf\",\n",
    "                   width = 3.5, height = 7\n",
    "         )"
   ]
  },
  {
   "cell_type": "code",
   "execution_count": null,
   "id": "a9958cf9",
   "metadata": {
    "scrolled": true
   },
   "outputs": [],
   "source": [
    "options(repr.plot.height = 6, repr.plot.width = 3.5)\n",
    "breaks = seq(-2, 2, length.out = 100)\n",
    "pheatmap::pheatmap(fcs2_mtx, scale = \"none\", cluster_cols = T, cluster_rows = T,\n",
    "         #color=colorRampPalette(c(\"dodgerblue\", \"grey95\", \"indianred2\"))(50), \n",
    "         border_color = \"white\", display_numbers = star_matrix, breaks = breaks,\n",
    "         color = colorRampPalette(c(\"blue\", \"white\", \"red\"))(length(breaks)),\n",
    "                   filename = \"../figures/heatmaps/hm_deg_allclusters_cd4_diaT1_ctrl.pdf\",\n",
    "                   width = 3.5, height = 7\n",
    "         )\n",
    "\n"
   ]
  },
  {
   "cell_type": "markdown",
   "id": "8a73311e",
   "metadata": {},
   "source": [
    "### T1D T1 vs Ctrl"
   ]
  },
  {
   "cell_type": "code",
   "execution_count": null,
   "id": "f145b716",
   "metadata": {},
   "outputs": [],
   "source": [
    "hm  <- all_markers  %>% \n",
    "separate(dataset, into = c(\"cd4_cd8\", \"Level\", NA, NA), sep = \"_\", remove = F)  %>% \n",
    "dplyr::filter(cd4_cd8 == \"cd4\")  %>%\n",
    "dplyr::filter(p_val_adj < 0.05)  %>% \n",
    "dplyr::filter(!(dataset %in% c(\"cd8_l2_subcluster\",\"cd4_l2_subcluster\")))  %>% \n",
    "mutate(dataset = stringr::str_to_upper(gsub(dataset, pattern = \"_\", replacement = \" \")))  %>% \n",
    "dplyr::filter(source == \"scRNAseq_RNA\" & test_type == \"Dia T0 vs Dia T1\" )  %>% \n",
    "group_by(dataset)  %>% \n",
    "slice_max(order_by = avg_log2FC, n = 5)  %>% \n",
    "pull(gene)  %>% unique "
   ]
  },
  {
   "cell_type": "code",
   "execution_count": null,
   "id": "508b2d9c",
   "metadata": {
    "scrolled": true
   },
   "outputs": [],
   "source": [
    "fcs  <- purrr::map(1:length(paths_fc), get_fc_genes)"
   ]
  },
  {
   "cell_type": "code",
   "execution_count": null,
   "id": "62d8a1ea",
   "metadata": {},
   "outputs": [],
   "source": [
    "fcs  <- bind_rows(fcs)"
   ]
  },
  {
   "cell_type": "code",
   "execution_count": null,
   "id": "8d86a035",
   "metadata": {},
   "outputs": [],
   "source": [
    "fcs$population  <- substr(fcs$dataset, 1,11)\n",
    "\n",
    "table(fcs$population)\n",
    "\n",
    "fcs  <- fcs  %>% mutate(population2 = ifelse(grepl(population, pattern = \"_nk_\"), substr(population,1,9), population))\n",
    "\n",
    "fcs$population2  %>% table\n",
    "\n",
    "fcs  <- fcs  %>% mutate(n1 = as.numeric(nchar(dataset)))  %>% \n",
    "mutate(n2 = n1-12)  %>% \n",
    "mutate(test_type = substr(dataset,n2,n1))  \n",
    "\n",
    "\n",
    "fcs$test_type  %>% table"
   ]
  },
  {
   "cell_type": "code",
   "execution_count": null,
   "id": "e681d7e0",
   "metadata": {
    "scrolled": true
   },
   "outputs": [],
   "source": [
    "fcs2  <- fcs  %>% mutate(andjus_logFC = ifelse(p_val_adj<0.05,avg_log2FC,avg_log2FC)) %>% \n",
    "dplyr::filter(test_type == \"iaT0_vs_DiaT1\") "
   ]
  },
  {
   "cell_type": "code",
   "execution_count": null,
   "id": "853064e2",
   "metadata": {
    "scrolled": true
   },
   "outputs": [],
   "source": [
    "fcs2_mtx  <- fcs2  %>% \n",
    "dplyr::filter(!grepl(dataset, pattern = \"cd8\"))  %>% \n",
    "dplyr::filter(!grepl(gene, pattern = \"MTRN\"))  %>% \n",
    "dplyr::select(avg_log2FC, gene, population2)  %>% \n",
    "pivot_wider(names_from = \"population2\", values_from = \"avg_log2FC\")  %>% \n",
    "column_to_rownames(\"gene\")  %>% \n",
    "as.matrix()"
   ]
  },
  {
   "cell_type": "code",
   "execution_count": null,
   "id": "a2dd28e0",
   "metadata": {},
   "outputs": [],
   "source": [
    "pval_to_stars <- function(p) {\n",
    "   ifelse(p < 0.05, \"*\", \"\") \n",
    "}\n",
    "\n",
    "# Apply function to p-value matrix\n",
    "star_matrix <- fcs2  %>% \n",
    "dplyr::filter(!grepl(dataset, pattern = \"cd8\"))  %>% \n",
    "dplyr::filter(!grepl(gene, pattern = \"MTRN\"))  %>% \n",
    "dplyr::select(p_val_adj, gene, population2)  %>% \n",
    "mutate(p_val_adj = pval_to_stars(p_val_adj))  %>% \n",
    "pivot_wider(names_from = \"population2\", values_from = \"p_val_adj\")  %>% \n",
    "column_to_rownames(\"gene\")  %>% \n",
    "as.matrix()\n",
    "\n",
    "rownames(star_matrix) <- rownames(fcs2_mtx)\n",
    "colnames(star_matrix) <- colnames(fcs2_mtx)\n",
    "\n"
   ]
  },
  {
   "cell_type": "code",
   "execution_count": null,
   "id": "82ad1202",
   "metadata": {
    "scrolled": true
   },
   "outputs": [],
   "source": [
    "options(repr.plot.height = 6, repr.plot.width = 4)\n",
    "breaks = seq(-2, 2, length.out = 100)\n",
    "pheatmap::pheatmap(fcs2_mtx, scale = \"none\", cluster_cols = T, cluster_rows = T,\n",
    "         #color=colorRampPalette(c(\"dodgerblue\", \"grey95\", \"indianred2\"))(50), \n",
    "         border_color = \"white\", display_numbers = star_matrix, breaks = breaks,\n",
    "         color = colorRampPalette(c(\"blue\", \"white\", \"red\"))(length(breaks))\n",
    "         )"
   ]
  },
  {
   "cell_type": "code",
   "execution_count": null,
   "id": "d2c88b70",
   "metadata": {},
   "outputs": [],
   "source": [
    "options(repr.plot.height = 6, repr.plot.width = 3.5)\n",
    "breaks = seq(-2, 2, length.out = 100)\n",
    "pheatmap::pheatmap(fcs2_mtx, scale = \"none\", cluster_cols = T, cluster_rows = T,\n",
    "         #color=colorRampPalette(c(\"dodgerblue\", \"grey95\", \"indianred2\"))(50), \n",
    "         border_color = \"white\", display_numbers = star_matrix, breaks = breaks,\n",
    "         color = colorRampPalette(c(\"blue\", \"white\", \"red\"))(length(breaks)),\n",
    "                   filename = \"../figures/heatmaps/hm_deg_allclusters_cd4_dia0_diat1.pdf\",\n",
    "                   width = 3.5, height = 7\n",
    "         )\n",
    "\n"
   ]
  },
  {
   "cell_type": "markdown",
   "id": "a2da165d",
   "metadata": {},
   "source": [
    "### PR 0 at T0 vs PR 1 at T0"
   ]
  },
  {
   "cell_type": "code",
   "execution_count": null,
   "id": "0e81d433",
   "metadata": {},
   "outputs": [],
   "source": [
    "hm  <- all_markers  %>% \n",
    "separate(dataset, into = c(\"cd4_cd8\", \"Level\", NA, NA), sep = \"_\", remove = F)  %>% \n",
    "dplyr::filter(cd4_cd8 == \"cd4\")  %>%\n",
    "dplyr::filter(p_val_adj < 0.05)  %>% \n",
    "dplyr::filter(!(dataset %in% c(\"cd8_l2_subcluster\",\"cd4_l2_subcluster\")))  %>% \n",
    "mutate(dataset = stringr::str_to_upper(gsub(dataset, pattern = \"_\", replacement = \" \")))  %>% \n",
    "dplyr::filter(source == \"scRNAseq_RNA\" & test_type == \"PR_0 T0 vs PR_1 T0\" )  %>% \n",
    "group_by(dataset)  %>% \n",
    "slice_max(order_by = avg_log2FC, n = 5)  %>% \n",
    "pull(gene)  %>% unique "
   ]
  },
  {
   "cell_type": "code",
   "execution_count": null,
   "id": "d34bb5cc",
   "metadata": {
    "scrolled": true
   },
   "outputs": [],
   "source": [
    "fcs  <- purrr::map(1:length(paths_fc), get_fc_genes)"
   ]
  },
  {
   "cell_type": "code",
   "execution_count": null,
   "id": "b1df8cfd",
   "metadata": {},
   "outputs": [],
   "source": [
    "fcs  <- bind_rows(fcs)"
   ]
  },
  {
   "cell_type": "code",
   "execution_count": null,
   "id": "5a985e26",
   "metadata": {},
   "outputs": [],
   "source": [
    "fcs$population  <- substr(fcs$dataset, 1,11)\n",
    "\n",
    "table(fcs$population)\n",
    "\n",
    "fcs  <- fcs  %>% mutate(population2 = ifelse(grepl(population, pattern = \"_nk_\"), substr(population,1,9), population))\n",
    "\n",
    "fcs$population2  %>% table\n",
    "\n",
    "fcs  <- fcs  %>% mutate(n1 = as.numeric(nchar(dataset)))  %>% \n",
    "mutate(n2 = n1-12)  %>% \n",
    "mutate(test_type = substr(dataset,n2,n1))  \n",
    "\n",
    "\n",
    "fcs$test_type  %>% table"
   ]
  },
  {
   "cell_type": "code",
   "execution_count": null,
   "id": "f7bb1fb9",
   "metadata": {
    "scrolled": true
   },
   "outputs": [],
   "source": [
    "fcs2  <- fcs  %>% mutate(andjus_logFC = ifelse(p_val_adj<0.05,avg_log2FC,avg_log2FC)) %>% \n",
    "dplyr::filter(test_type == \"T0_vs_PR_1_T0\") "
   ]
  },
  {
   "cell_type": "code",
   "execution_count": null,
   "id": "c933f9c7",
   "metadata": {
    "scrolled": true
   },
   "outputs": [],
   "source": [
    "fcs2_mtx  <- fcs2  %>% \n",
    "dplyr::filter(!grepl(dataset, pattern = \"cd8\"))  %>% \n",
    "dplyr::filter(!grepl(gene, pattern = \"MTRN\"))  %>% \n",
    "dplyr::select(avg_log2FC, gene, population2)  %>% \n",
    "pivot_wider(names_from = \"population2\", values_from = \"avg_log2FC\")  %>% \n",
    "column_to_rownames(\"gene\")  %>% \n",
    "as.matrix()"
   ]
  },
  {
   "cell_type": "code",
   "execution_count": null,
   "id": "a82f07b3",
   "metadata": {},
   "outputs": [],
   "source": [
    "pval_to_stars <- function(p) {\n",
    "   ifelse(p < 0.05, \"*\", \"\") \n",
    "}\n",
    "\n",
    "# Apply function to p-value matrix\n",
    "star_matrix <- fcs2  %>% \n",
    "dplyr::filter(!grepl(dataset, pattern = \"cd8\"))  %>% \n",
    "dplyr::filter(!grepl(gene, pattern = \"MTRN\"))  %>% \n",
    "dplyr::select(p_val_adj, gene, population2)  %>% \n",
    "mutate(p_val_adj = pval_to_stars(p_val_adj))  %>% \n",
    "pivot_wider(names_from = \"population2\", values_from = \"p_val_adj\")  %>% \n",
    "column_to_rownames(\"gene\")  %>% \n",
    "as.matrix()\n",
    "\n",
    "rownames(star_matrix) <- rownames(fcs2_mtx)\n",
    "colnames(star_matrix) <- colnames(fcs2_mtx)\n",
    "\n"
   ]
  },
  {
   "cell_type": "code",
   "execution_count": null,
   "id": "0b6694e2",
   "metadata": {
    "scrolled": true
   },
   "outputs": [],
   "source": [
    "options(repr.plot.height = 7, repr.plot.width = 4)\n",
    "breaks = seq(-2, 2, length.out = 100)\n",
    "pheatmap::pheatmap(fcs2_mtx, scale = \"none\", cluster_cols = T, cluster_rows = T,\n",
    "         #color=colorRampPalette(c(\"dodgerblue\", \"grey95\", \"indianred2\"))(50), \n",
    "         border_color = \"white\", display_numbers = star_matrix, breaks = breaks,\n",
    "         color = colorRampPalette(c(\"blue\", \"white\", \"red\"))(length(breaks))\n",
    "         )"
   ]
  },
  {
   "cell_type": "code",
   "execution_count": null,
   "id": "8f5ea04d",
   "metadata": {},
   "outputs": [],
   "source": [
    "options(repr.plot.height = 6, repr.plot.width = 3.5)\n",
    "breaks = seq(-2, 2, length.out = 100)\n",
    "pheatmap::pheatmap(fcs2_mtx, scale = \"none\", cluster_cols = T, cluster_rows = T,\n",
    "         #color=colorRampPalette(c(\"dodgerblue\", \"grey95\", \"indianred2\"))(50), \n",
    "         border_color = \"white\", display_numbers = star_matrix, breaks = breaks,\n",
    "         color = colorRampPalette(c(\"blue\", \"white\", \"red\"))(length(breaks)),\n",
    "                   filename = \"../figures/heatmaps/hm_deg_allclusters_cd4_pr0_pr1.pdf\",\n",
    "                   width = 3.5, height = 7\n",
    "         )\n",
    "\n"
   ]
  },
  {
   "cell_type": "markdown",
   "id": "e39f4d8b",
   "metadata": {},
   "source": [
    "### Keto 1 at T0 vs Keto 0 at T0"
   ]
  },
  {
   "cell_type": "code",
   "execution_count": null,
   "id": "f82685ef",
   "metadata": {},
   "outputs": [],
   "source": [
    "hm  <- all_markers  %>% \n",
    "separate(dataset, into = c(\"cd4_cd8\", \"Level\", NA, NA), sep = \"_\", remove = F)  %>% \n",
    "dplyr::filter(cd4_cd8 == \"cd4\")  %>%\n",
    "dplyr::filter(p_val_adj < 0.05)  %>% \n",
    "dplyr::filter(!(dataset %in% c(\"cd8_l2_subcluster\",\"cd4_l2_subcluster\")))  %>% \n",
    "mutate(dataset = stringr::str_to_upper(gsub(dataset, pattern = \"_\", replacement = \" \")))  %>% \n",
    "dplyr::filter(source == \"scRNAseq_RNA\" & test_type == \"Keto_1 T0 vs Keto_0 T0\" )  %>% \n",
    "group_by(dataset)  %>% \n",
    "slice_max(order_by = avg_log2FC, n = 5)  %>% \n",
    "pull(gene)  %>% unique "
   ]
  },
  {
   "cell_type": "code",
   "execution_count": null,
   "id": "1318148f",
   "metadata": {
    "scrolled": true
   },
   "outputs": [],
   "source": [
    "fcs  <- purrr::map(1:length(paths_fc), get_fc_genes)"
   ]
  },
  {
   "cell_type": "code",
   "execution_count": null,
   "id": "c427b061",
   "metadata": {},
   "outputs": [],
   "source": [
    "fcs  <- bind_rows(fcs)"
   ]
  },
  {
   "cell_type": "code",
   "execution_count": null,
   "id": "aa51abac",
   "metadata": {},
   "outputs": [],
   "source": [
    "fcs$population  <- substr(fcs$dataset, 1,11)\n",
    "\n",
    "table(fcs$population)\n",
    "\n",
    "fcs  <- fcs  %>% mutate(population2 = ifelse(grepl(population, pattern = \"_nk_\"), substr(population,1,9), population))\n",
    "\n",
    "fcs$population2  %>% table\n",
    "\n",
    "fcs  <- fcs  %>% mutate(n1 = as.numeric(nchar(dataset)))  %>% \n",
    "mutate(n2 = n1-12)  %>% \n",
    "mutate(test_type = substr(dataset,n2,n1))  \n",
    "\n",
    "\n",
    "fcs$test_type  %>% table"
   ]
  },
  {
   "cell_type": "code",
   "execution_count": null,
   "id": "f54a1e26",
   "metadata": {
    "scrolled": true
   },
   "outputs": [],
   "source": [
    "fcs2  <- fcs  %>% mutate(andjus_logFC = ifelse(p_val_adj<0.05,avg_log2FC,avg_log2FC)) %>% \n",
    "dplyr::filter(test_type == \"_ketoacidosis\") "
   ]
  },
  {
   "cell_type": "code",
   "execution_count": null,
   "id": "5d280352",
   "metadata": {
    "scrolled": true
   },
   "outputs": [],
   "source": [
    "fcs2_mtx  <- fcs2  %>% \n",
    "dplyr::filter(!grepl(dataset, pattern = \"cd8\"))  %>% \n",
    "dplyr::filter(!grepl(gene, pattern = \"MTRN\"))  %>% \n",
    "dplyr::select(avg_log2FC, gene, population2)  %>% \n",
    "pivot_wider(names_from = \"population2\", values_from = \"avg_log2FC\")  %>% \n",
    "column_to_rownames(\"gene\")  %>% \n",
    "as.matrix()"
   ]
  },
  {
   "cell_type": "code",
   "execution_count": null,
   "id": "43df221a",
   "metadata": {},
   "outputs": [],
   "source": [
    "pval_to_stars <- function(p) {\n",
    "   ifelse(p < 0.05, \"*\", \"\") \n",
    "}\n",
    "\n",
    "# Apply function to p-value matrix\n",
    "star_matrix <- fcs2  %>% \n",
    "dplyr::filter(!grepl(dataset, pattern = \"cd8\"))  %>% \n",
    "dplyr::filter(!grepl(gene, pattern = \"MTRN\"))  %>% \n",
    "dplyr::select(p_val_adj, gene, population2)  %>% \n",
    "mutate(p_val_adj = pval_to_stars(p_val_adj))  %>% \n",
    "pivot_wider(names_from = \"population2\", values_from = \"p_val_adj\")  %>% \n",
    "column_to_rownames(\"gene\")  %>% \n",
    "as.matrix()\n",
    "\n",
    "rownames(star_matrix) <- rownames(fcs2_mtx)\n",
    "colnames(star_matrix) <- colnames(fcs2_mtx)\n",
    "\n"
   ]
  },
  {
   "cell_type": "code",
   "execution_count": null,
   "id": "5b91b686",
   "metadata": {
    "scrolled": true
   },
   "outputs": [],
   "source": [
    "options(repr.plot.height = 7, repr.plot.width = 4)\n",
    "breaks = seq(-2, 2, length.out = 100)\n",
    "pheatmap::pheatmap(fcs2_mtx, scale = \"none\", cluster_cols = T, cluster_rows = T,\n",
    "         #color=colorRampPalette(c(\"dodgerblue\", \"grey95\", \"indianred2\"))(50), \n",
    "         border_color = \"white\", display_numbers = star_matrix, breaks = breaks,\n",
    "         color = colorRampPalette(c(\"blue\", \"white\", \"red\"))(length(breaks))\n",
    "         )"
   ]
  },
  {
   "cell_type": "code",
   "execution_count": null,
   "id": "9dadb89a",
   "metadata": {},
   "outputs": [],
   "source": [
    "options(repr.plot.height = 6, repr.plot.width = 3.5)\n",
    "breaks = seq(-2, 2, length.out = 100)\n",
    "pheatmap::pheatmap(fcs2_mtx, scale = \"none\", cluster_cols = T, cluster_rows = T,\n",
    "         #color=colorRampPalette(c(\"dodgerblue\", \"grey95\", \"indianred2\"))(50), \n",
    "         border_color = \"white\", display_numbers = star_matrix, breaks = breaks,\n",
    "         color = colorRampPalette(c(\"blue\", \"white\", \"red\"))(length(breaks)),\n",
    "                   filename = \"../figures/heatmaps/hm_deg_allclusters_cd4_ketoacidosis.pdf\",\n",
    "                   width = 3.5, height = 7\n",
    "         )\n",
    "\n"
   ]
  },
  {
   "cell_type": "markdown",
   "id": "42083b75",
   "metadata": {},
   "source": [
    "## CD8 populations"
   ]
  },
  {
   "cell_type": "markdown",
   "id": "52ac8483",
   "metadata": {},
   "source": [
    "### T1D T0 vs Ctrl"
   ]
  },
  {
   "cell_type": "code",
   "execution_count": null,
   "id": "162677e0",
   "metadata": {},
   "outputs": [],
   "source": [
    "hm  <- all_markers  %>% \n",
    "separate(dataset, into = c(\"cd4_cd8\", \"Level\", NA, NA), sep = \"_\", remove = F)  %>% \n",
    "dplyr::filter(cd4_cd8 == \"cd8\")  %>%\n",
    "dplyr::filter(p_val_adj < 0.05)  %>% \n",
    "dplyr::filter(!(dataset %in% c(\"cd8_l2_subcluster\",\"cd4_l2_subcluster\")))  %>% \n",
    "mutate(dataset = stringr::str_to_upper(gsub(dataset, pattern = \"_\", replacement = \" \")))  %>% \n",
    "dplyr::filter(source == \"scRNAseq_RNA\" & test_type == \"Dia T0 vs Ctrl T0\" )  %>% \n",
    "group_by(dataset)  %>% \n",
    "slice_max(order_by = avg_log2FC, n = 5)  %>% \n",
    "pull(gene)  %>% unique "
   ]
  },
  {
   "cell_type": "code",
   "execution_count": null,
   "id": "ae2b4022",
   "metadata": {},
   "outputs": [],
   "source": [
    "get_fc_genes  <- function(j) {\n",
    "  print(j)\n",
    "fc.df  <- read_csv(paths_fc[j])  %>% as.data.frame()\n",
    "    if(grepl(paths_fc[j], pattern = \"Ctrl\")){\n",
    "fc.df  <- fc.df  %>%  arrange(desc(avg_log2FC)) %>% \n",
    "dplyr::filter(grepl(cluster, pattern = \"Dia\"))  %>% \n",
    "dplyr::filter(gene %in% hm) \n",
    "        \n",
    "        } else {\n",
    "        \n",
    "   if(grepl(paths_fc[j], pattern = \"PR_0_T0\")){\n",
    "fc.df  <- fc.df  %>%  arrange(desc(avg_log2FC)) %>% \n",
    "dplyr::filter(grepl(cluster, pattern = \"PR_0 T0\"))  %>% \n",
    "dplyr::filter(gene %in% hm) \n",
    "        } else {\n",
    "       \n",
    "        if(grepl(paths_fc[j], pattern = \"keto\")){\n",
    " fc.df  <- fc.df  %>%  arrange(desc(avg_log2FC)) %>% \n",
    "dplyr::filter(grepl(cluster, pattern = \"Keto_1 T0\"))   %>% \n",
    "dplyr::filter(gene %in% hm) \n",
    "    } else {\n",
    " fc.df  <- fc.df  %>%  arrange(desc(avg_log2FC)) %>% \n",
    "dplyr::filter(grepl(cluster, pattern = \"Dia T0\"))   %>% \n",
    "dplyr::filter(gene %in% hm) \n",
    "    }}}\n",
    "\n",
    "    fc.df$dataset  <-   gsub(dataset_names[j], pattern = \".csv\", replacement = \"\")\n",
    " return(fc.df)\n",
    "    }"
   ]
  },
  {
   "cell_type": "code",
   "execution_count": null,
   "id": "9e4d8059",
   "metadata": {
    "scrolled": true
   },
   "outputs": [],
   "source": [
    "paths_fc  <- list.files(\"../../240617_VN_Diabetes_V06/tables/fold_change/\", full.names = T)\n",
    "dataset_names  <- list.files(\"../../240617_VN_Diabetes_V06/tables/fold_change\", full.names = F)\n",
    "\n",
    "paths_fc  <- paths_fc[grepl(paths_fc, pattern = \"l3\")|grepl(paths_fc, pattern = \"cd8_l2_unc\")|\n",
    "                      grepl(paths_fc, pattern = \"cd4_l2_unc\")|grepl(paths_fc, pattern = \"cd8_l2_nk\") ]\n",
    "\n",
    "dataset_names  <- dataset_names[grepl(dataset_names, pattern = \"l3\")|grepl(dataset_names, pattern = \"cd8_l2_unc\")|\n",
    "                      grepl(dataset_names, pattern = \"cd4_l2_unc\")|grepl(dataset_names, pattern = \"cd8_l2_nk\") ]\n",
    "\n",
    "paths_fc  <- paths_fc[grepl(paths_fc, pattern = \"Ctrl_vs_DiaT0\")|grepl(paths_fc, pattern = \"DiaT0_vs_DiaT1\")|\n",
    "                      grepl(paths_fc, pattern = \"Ctrl_vs_DiaT1\")|\n",
    "                      grepl(paths_fc, pattern = \"PR_0_T0_vs_PR_1_T0\")|grepl(paths_fc, pattern = \"ketoacidosis\")]\n",
    "\n",
    "dataset_names  <- dataset_names[grepl(dataset_names, pattern = \"Ctrl_vs_DiaT0\")|grepl(dataset_names, pattern = \"DiaT0_vs_DiaT1\")|\n",
    "                      grepl(dataset_names, pattern = \"Ctrl_vs_DiaT1\")|\n",
    "                      grepl(dataset_names, pattern = \"PR_0_T0_vs_PR_1_T0\")|grepl(dataset_names, pattern = \"ketoacidosis\")]\n"
   ]
  },
  {
   "cell_type": "code",
   "execution_count": null,
   "id": "08c762cf",
   "metadata": {
    "scrolled": true
   },
   "outputs": [],
   "source": [
    "fcs  <- purrr::map(1:length(paths_fc), get_fc_genes)"
   ]
  },
  {
   "cell_type": "code",
   "execution_count": null,
   "id": "583b9eac",
   "metadata": {},
   "outputs": [],
   "source": [
    "fcs  <- bind_rows(fcs)"
   ]
  },
  {
   "cell_type": "code",
   "execution_count": null,
   "id": "30cded3c",
   "metadata": {},
   "outputs": [],
   "source": [
    "fcs$population  <- substr(fcs$dataset, 1,11)\n",
    "\n",
    "table(fcs$population)\n",
    "\n",
    "fcs  <- fcs  %>% mutate(population2 = ifelse(grepl(population, pattern = \"_nk_\"), substr(population,1,9), population))\n",
    "\n",
    "fcs$population2  %>% table\n",
    "\n",
    "fcs  <- fcs  %>% mutate(n1 = as.numeric(nchar(dataset)))  %>% \n",
    "mutate(n2 = n1-12)  %>% \n",
    "mutate(test_type = substr(dataset,n2,n1))  \n",
    "\n",
    "\n",
    "fcs$test_type  %>% table"
   ]
  },
  {
   "cell_type": "code",
   "execution_count": null,
   "id": "1b9b682c",
   "metadata": {
    "scrolled": true
   },
   "outputs": [],
   "source": [
    "fcs2  <- fcs  %>% mutate(andjus_logFC = ifelse(p_val_adj<0.05,avg_log2FC,avg_log2FC)) %>% \n",
    "dplyr::filter(test_type == \"Ctrl_vs_DiaT0\") "
   ]
  },
  {
   "cell_type": "code",
   "execution_count": null,
   "id": "bbfebd53",
   "metadata": {
    "scrolled": true
   },
   "outputs": [],
   "source": [
    "fcs2_mtx  <- fcs2  %>% \n",
    "dplyr::filter(!grepl(dataset, pattern = \"cd4\"))  %>% \n",
    "dplyr::filter(!grepl(gene, pattern = \"MTRN\"))  %>% \n",
    "dplyr::select(avg_log2FC, gene, population2)  %>% \n",
    "pivot_wider(names_from = \"population2\", values_from = \"avg_log2FC\")  %>% \n",
    "column_to_rownames(\"gene\")  %>% \n",
    "as.matrix()"
   ]
  },
  {
   "cell_type": "code",
   "execution_count": null,
   "id": "f782d4d7",
   "metadata": {},
   "outputs": [],
   "source": [
    "pval_to_stars <- function(p) {\n",
    "   ifelse(p < 0.05, \"*\", \"\") \n",
    "}\n",
    "\n",
    "# Apply function to p-value matrix\n",
    "star_matrix <- fcs2  %>% \n",
    "dplyr::filter(!grepl(dataset, pattern = \"cd4\"))  %>% \n",
    "dplyr::filter(!grepl(gene, pattern = \"MTRN\"))  %>% \n",
    "dplyr::select(p_val_adj, gene, population2)  %>% \n",
    "mutate(p_val_adj = pval_to_stars(p_val_adj))  %>% \n",
    "pivot_wider(names_from = \"population2\", values_from = \"p_val_adj\")  %>% \n",
    "column_to_rownames(\"gene\")  %>% \n",
    "as.matrix()\n",
    "\n",
    "rownames(star_matrix) <- rownames(fcs2_mtx)\n",
    "colnames(star_matrix) <- colnames(fcs2_mtx)\n",
    "\n"
   ]
  },
  {
   "cell_type": "code",
   "execution_count": null,
   "id": "33d7a89a",
   "metadata": {},
   "outputs": [],
   "source": [
    "options(repr.plot.height = 6, repr.plot.width = 3.5)\n",
    "breaks = seq(-2, 2, length.out = 100)\n",
    "pheatmap::pheatmap(fcs2_mtx, scale = \"none\", cluster_cols = T, cluster_rows = T,\n",
    "         #color=colorRampPalette(c(\"dodgerblue\", \"grey95\", \"indianred2\"))(50), \n",
    "         border_color = \"white\", display_numbers = star_matrix, breaks = breaks,\n",
    "         color = colorRampPalette(c(\"blue\", \"white\", \"red\"))(length(breaks)),\n",
    "                   filename = \"../figures/heatmaps/hm_deg_allclusters_cd8_diaT0_ctrl.pdf\",\n",
    "                   width = 3.5, height = 7\n",
    "         )"
   ]
  },
  {
   "cell_type": "markdown",
   "id": "5c09b4b6",
   "metadata": {},
   "source": [
    "### T1D T1 vs Ctrl"
   ]
  },
  {
   "cell_type": "code",
   "execution_count": null,
   "id": "3816ad8f",
   "metadata": {},
   "outputs": [],
   "source": [
    "hm  <- all_markers  %>% \n",
    "separate(dataset, into = c(\"cd4_cd8\", \"Level\", NA, NA), sep = \"_\", remove = F)  %>% \n",
    "dplyr::filter(cd4_cd8 == \"cd8\")  %>%\n",
    "dplyr::filter(p_val_adj < 0.05)  %>% \n",
    "dplyr::filter(!(dataset %in% c(\"cd8_l2_subcluster\",\"cd4_l2_subcluster\")))  %>% \n",
    "mutate(dataset = stringr::str_to_upper(gsub(dataset, pattern = \"_\", replacement = \" \")))  %>% \n",
    "dplyr::filter(source == \"scRNAseq_RNA\" & test_type == \"Dia T1 vs Ctrl T0\" )  %>% \n",
    "group_by(dataset)  %>% \n",
    "slice_max(order_by = avg_log2FC, n = 5)  %>% \n",
    "pull(gene)  %>% unique "
   ]
  },
  {
   "cell_type": "code",
   "execution_count": null,
   "id": "66018f38",
   "metadata": {},
   "outputs": [],
   "source": [
    "fcs  <- purrr::map(1:length(paths_fc), get_fc_genes)"
   ]
  },
  {
   "cell_type": "code",
   "execution_count": null,
   "id": "2b9c1155",
   "metadata": {},
   "outputs": [],
   "source": [
    "fcs  <- bind_rows(fcs)"
   ]
  },
  {
   "cell_type": "code",
   "execution_count": null,
   "id": "52fc85f2",
   "metadata": {},
   "outputs": [],
   "source": [
    "fcs$population  <- substr(fcs$dataset, 1,11)\n",
    "\n",
    "table(fcs$population)\n",
    "\n",
    "fcs  <- fcs  %>% mutate(population2 = ifelse(grepl(population, pattern = \"_nk_\"), substr(population,1,9), population))\n",
    "\n",
    "fcs$population2  %>% table\n",
    "\n",
    "fcs  <- fcs  %>% mutate(n1 = as.numeric(nchar(dataset)))  %>% \n",
    "mutate(n2 = n1-12)  %>% \n",
    "mutate(test_type = substr(dataset,n2,n1))  \n",
    "\n",
    "\n",
    "fcs$test_type  %>% table"
   ]
  },
  {
   "cell_type": "code",
   "execution_count": null,
   "id": "5a6e99f0",
   "metadata": {
    "scrolled": true
   },
   "outputs": [],
   "source": [
    "fcs2  <- fcs  %>% mutate(andjus_logFC = ifelse(p_val_adj<0.05,avg_log2FC,avg_log2FC)) %>% \n",
    "dplyr::filter(test_type == \"Ctrl_vs_DiaT1\") "
   ]
  },
  {
   "cell_type": "code",
   "execution_count": null,
   "id": "1fe94974",
   "metadata": {
    "scrolled": true
   },
   "outputs": [],
   "source": [
    "fcs2_mtx  <- fcs2  %>% \n",
    "dplyr::filter(!grepl(dataset, pattern = \"cd4\"))  %>% \n",
    "dplyr::filter(!grepl(gene, pattern = \"MTRN\"))  %>% \n",
    "dplyr::select(avg_log2FC, gene, population2)  %>% \n",
    "pivot_wider(names_from = \"population2\", values_from = \"avg_log2FC\")  %>% \n",
    "column_to_rownames(\"gene\")  %>% \n",
    "as.matrix()"
   ]
  },
  {
   "cell_type": "code",
   "execution_count": null,
   "id": "5d849762",
   "metadata": {},
   "outputs": [],
   "source": [
    "pval_to_stars <- function(p) {\n",
    "   ifelse(p < 0.05, \"*\", \"\") \n",
    "}\n",
    "\n",
    "# Apply function to p-value matrix\n",
    "star_matrix <- fcs2  %>% \n",
    "dplyr::filter(!grepl(dataset, pattern = \"cd4\"))  %>% \n",
    "dplyr::filter(!grepl(gene, pattern = \"MTRN\"))  %>% \n",
    "dplyr::select(p_val_adj, gene, population2)  %>% \n",
    "mutate(p_val_adj = pval_to_stars(p_val_adj))  %>% \n",
    "pivot_wider(names_from = \"population2\", values_from = \"p_val_adj\")  %>% \n",
    "column_to_rownames(\"gene\")  %>% \n",
    "as.matrix()\n",
    "\n",
    "rownames(star_matrix) <- rownames(fcs2_mtx)\n",
    "colnames(star_matrix) <- colnames(fcs2_mtx)\n",
    "\n"
   ]
  },
  {
   "cell_type": "code",
   "execution_count": null,
   "id": "c1bcf1e6",
   "metadata": {},
   "outputs": [],
   "source": [
    "pheatmap::pheatmap(fcs2_mtx, scale = \"none\", cluster_cols = T, cluster_rows = T,\n",
    "         #color=colorRampPalette(c(\"dodgerblue\", \"grey95\", \"indianred2\"))(50), \n",
    "         border_color = \"white\", display_numbers = star_matrix, breaks = breaks,\n",
    "         color = colorRampPalette(c(\"blue\", \"white\", \"red\"))(length(breaks)),\n",
    "                   #filename = \"../figures/heatmaps/hm_deg_allclusters_cd8_diaT1_ctrl.pdf\",\n",
    "                   width = 3.5, height = 7\n",
    "         )"
   ]
  },
  {
   "cell_type": "code",
   "execution_count": null,
   "id": "11744a4c",
   "metadata": {
    "scrolled": true
   },
   "outputs": [],
   "source": [
    "options(repr.plot.height = 6, repr.plot.width = 3.5)\n",
    "breaks = seq(-2, 2, length.out = 100)\n",
    "pheatmap::pheatmap(fcs2_mtx, scale = \"none\", cluster_cols = T, cluster_rows = T,\n",
    "         #color=colorRampPalette(c(\"dodgerblue\", \"grey95\", \"indianred2\"))(50), \n",
    "         border_color = \"white\", display_numbers = star_matrix, breaks = breaks,\n",
    "         color = colorRampPalette(c(\"blue\", \"white\", \"red\"))(length(breaks)),\n",
    "                   filename = \"../figures/heatmaps/hm_deg_allclusters_cd8_diaT1_ctrl.pdf\",\n",
    "                   width = 3.5, height = 7\n",
    "         )\n",
    "\n"
   ]
  },
  {
   "cell_type": "markdown",
   "id": "e0c7f650",
   "metadata": {},
   "source": [
    "### T1D T1 vs Ctrl"
   ]
  },
  {
   "cell_type": "code",
   "execution_count": null,
   "id": "bea9a010",
   "metadata": {},
   "outputs": [],
   "source": [
    "hm  <- all_markers  %>% \n",
    "separate(dataset, into = c(\"cd4_cd8\", \"Level\", NA, NA), sep = \"_\", remove = F)  %>% \n",
    "dplyr::filter(cd4_cd8 == \"cd8\")  %>%\n",
    "dplyr::filter(p_val_adj < 0.05)  %>% \n",
    "dplyr::filter(!(dataset %in% c(\"cd8_l2_subcluster\",\"cd4_l2_subcluster\")))  %>% \n",
    "mutate(dataset = stringr::str_to_upper(gsub(dataset, pattern = \"_\", replacement = \" \")))  %>% \n",
    "dplyr::filter(source == \"scRNAseq_RNA\" & test_type == \"Dia T0 vs Dia T1\" )  %>% \n",
    "group_by(dataset)  %>% \n",
    "slice_max(order_by = avg_log2FC, n = 5)  %>% \n",
    "pull(gene)  %>% unique "
   ]
  },
  {
   "cell_type": "code",
   "execution_count": null,
   "id": "7d2f8b52",
   "metadata": {
    "scrolled": true
   },
   "outputs": [],
   "source": [
    "fcs  <- purrr::map(1:length(paths_fc), get_fc_genes)"
   ]
  },
  {
   "cell_type": "code",
   "execution_count": null,
   "id": "0968d6dc",
   "metadata": {},
   "outputs": [],
   "source": [
    "fcs  <- bind_rows(fcs)"
   ]
  },
  {
   "cell_type": "code",
   "execution_count": null,
   "id": "edb69d03",
   "metadata": {},
   "outputs": [],
   "source": [
    "fcs$population  <- substr(fcs$dataset, 1,11)\n",
    "\n",
    "table(fcs$population)\n",
    "\n",
    "fcs  <- fcs  %>% mutate(population2 = ifelse(grepl(population, pattern = \"_nk_\"), substr(population,1,9), population))\n",
    "\n",
    "fcs$population2  %>% table\n",
    "\n",
    "fcs  <- fcs  %>% mutate(n1 = as.numeric(nchar(dataset)))  %>% \n",
    "mutate(n2 = n1-12)  %>% \n",
    "mutate(test_type = substr(dataset,n2,n1))  \n",
    "\n",
    "\n",
    "fcs$test_type  %>% table"
   ]
  },
  {
   "cell_type": "code",
   "execution_count": null,
   "id": "7590e421",
   "metadata": {
    "scrolled": true
   },
   "outputs": [],
   "source": [
    "fcs2  <- fcs  %>% mutate(andjus_logFC = ifelse(p_val_adj<0.05,avg_log2FC,avg_log2FC)) %>% \n",
    "dplyr::filter(test_type == \"iaT0_vs_DiaT1\") "
   ]
  },
  {
   "cell_type": "code",
   "execution_count": null,
   "id": "b0b5c17f",
   "metadata": {
    "scrolled": true
   },
   "outputs": [],
   "source": [
    "fcs2_mtx  <- fcs2  %>% \n",
    "dplyr::filter(!grepl(dataset, pattern = \"cd4\"))  %>% \n",
    "dplyr::filter(!grepl(gene, pattern = \"MTRN\"))  %>% \n",
    "dplyr::select(avg_log2FC, gene, population2)  %>% \n",
    "pivot_wider(names_from = \"population2\", values_from = \"avg_log2FC\")  %>% \n",
    "column_to_rownames(\"gene\")  %>% \n",
    "as.matrix()"
   ]
  },
  {
   "cell_type": "code",
   "execution_count": null,
   "id": "afbc7180",
   "metadata": {},
   "outputs": [],
   "source": [
    "\n",
    "# Apply function to p-value matrix\n",
    "star_matrix <- fcs2  %>% \n",
    "dplyr::filter(!grepl(dataset, pattern = \"cd4\"))  %>% \n",
    "dplyr::filter(!grepl(gene, pattern = \"MTRN\"))  %>% \n",
    "dplyr::select(p_val_adj, gene, population2)  %>% \n",
    "mutate(p_val_adj = pval_to_stars(p_val_adj))  %>% \n",
    "pivot_wider(names_from = \"population2\", values_from = \"p_val_adj\")  %>% \n",
    "column_to_rownames(\"gene\")  %>% \n",
    "as.matrix()\n",
    "\n",
    "rownames(star_matrix) <- rownames(fcs2_mtx)\n",
    "colnames(star_matrix) <- colnames(fcs2_mtx)\n",
    "\n"
   ]
  },
  {
   "cell_type": "code",
   "execution_count": null,
   "id": "992c9aa4",
   "metadata": {
    "scrolled": true
   },
   "outputs": [],
   "source": [
    "options(repr.plot.height = 6, repr.plot.width = 4)\n",
    "breaks = seq(-2, 2, length.out = 100)\n",
    "pheatmap::pheatmap(fcs2_mtx, scale = \"none\", cluster_cols = T, cluster_rows = T,\n",
    "         #color=colorRampPalette(c(\"dodgerblue\", \"grey95\", \"indianred2\"))(50), \n",
    "         border_color = \"white\", display_numbers = star_matrix, breaks = breaks,\n",
    "         color = colorRampPalette(c(\"blue\", \"white\", \"red\"))(length(breaks))\n",
    "         )"
   ]
  },
  {
   "cell_type": "code",
   "execution_count": null,
   "id": "a698fc89",
   "metadata": {},
   "outputs": [],
   "source": [
    "options(repr.plot.height = 6, repr.plot.width = 3.5)\n",
    "breaks = seq(-2, 2, length.out = 100)\n",
    "pheatmap::pheatmap(fcs2_mtx, scale = \"none\", cluster_cols = T, cluster_rows = T,\n",
    "         #color=colorRampPalette(c(\"dodgerblue\", \"grey95\", \"indianred2\"))(50), \n",
    "         border_color = \"white\", display_numbers = star_matrix, breaks = breaks,\n",
    "         color = colorRampPalette(c(\"blue\", \"white\", \"red\"))(length(breaks)),\n",
    "                   filename = \"../figures/heatmaps/hm_deg_allclusters_cd8_dia0_diat1.pdf\",\n",
    "                   width = 3.5, height = 7\n",
    "         )\n",
    "\n"
   ]
  },
  {
   "cell_type": "markdown",
   "id": "991c0053",
   "metadata": {},
   "source": [
    "### PR 0 at T0 vs PR 1 at T0"
   ]
  },
  {
   "cell_type": "code",
   "execution_count": null,
   "id": "0fec36f3",
   "metadata": {},
   "outputs": [],
   "source": [
    "hm  <- all_markers  %>% \n",
    "separate(dataset, into = c(\"cd4_cd8\", \"Level\", NA, NA), sep = \"_\", remove = F)  %>% \n",
    "dplyr::filter(cd4_cd8 == \"cd8\")  %>%\n",
    "dplyr::filter(p_val_adj < 0.05)  %>% \n",
    "dplyr::filter(!(dataset %in% c(\"cd8_l2_subcluster\",\"cd4_l2_subcluster\")))  %>% \n",
    "mutate(dataset = stringr::str_to_upper(gsub(dataset, pattern = \"_\", replacement = \" \")))  %>% \n",
    "dplyr::filter(source == \"scRNAseq_RNA\" & test_type == \"PR_0 T0 vs PR_1 T0\" )  %>% \n",
    "group_by(dataset)  %>% \n",
    "slice_max(order_by = avg_log2FC, n = 5)  %>% \n",
    "pull(gene)  %>% unique "
   ]
  },
  {
   "cell_type": "code",
   "execution_count": null,
   "id": "5efecfd4",
   "metadata": {
    "scrolled": true
   },
   "outputs": [],
   "source": [
    "fcs  <- purrr::map(1:length(paths_fc), get_fc_genes)"
   ]
  },
  {
   "cell_type": "code",
   "execution_count": null,
   "id": "49c2cf62",
   "metadata": {},
   "outputs": [],
   "source": [
    "fcs  <- bind_rows(fcs)"
   ]
  },
  {
   "cell_type": "code",
   "execution_count": null,
   "id": "a90decd8",
   "metadata": {},
   "outputs": [],
   "source": [
    "fcs$population  <- substr(fcs$dataset, 1,11)\n",
    "\n",
    "table(fcs$population)\n",
    "\n",
    "fcs  <- fcs  %>% mutate(population2 = ifelse(grepl(population, pattern = \"_nk_\"), substr(population,1,9), population))\n",
    "\n",
    "fcs$population2  %>% table\n",
    "\n",
    "fcs  <- fcs  %>% mutate(n1 = as.numeric(nchar(dataset)))  %>% \n",
    "mutate(n2 = n1-12)  %>% \n",
    "mutate(test_type = substr(dataset,n2,n1))  \n",
    "\n",
    "\n",
    "fcs$test_type  %>% table"
   ]
  },
  {
   "cell_type": "code",
   "execution_count": null,
   "id": "ada464bd",
   "metadata": {
    "scrolled": true
   },
   "outputs": [],
   "source": [
    "fcs2  <- fcs  %>% mutate(andjus_logFC = ifelse(p_val_adj<0.05,avg_log2FC,avg_log2FC)) %>% \n",
    "dplyr::filter(test_type == \"T0_vs_PR_1_T0\") "
   ]
  },
  {
   "cell_type": "code",
   "execution_count": null,
   "id": "9f6f570d",
   "metadata": {
    "scrolled": true
   },
   "outputs": [],
   "source": [
    "fcs2_mtx  <- fcs2  %>% \n",
    "dplyr::filter(!grepl(dataset, pattern = \"cd4\"))  %>% \n",
    "dplyr::filter(!grepl(gene, pattern = \"MTRN\"))  %>% \n",
    "dplyr::select(avg_log2FC, gene, population2)  %>% \n",
    "pivot_wider(names_from = \"population2\", values_from = \"avg_log2FC\")  %>% \n",
    "column_to_rownames(\"gene\")  %>% \n",
    "as.matrix()"
   ]
  },
  {
   "cell_type": "code",
   "execution_count": null,
   "id": "6a0f8745",
   "metadata": {},
   "outputs": [],
   "source": [
    "# Apply function to p-value matrix\n",
    "star_matrix <- fcs2  %>% \n",
    "dplyr::filter(!grepl(dataset, pattern = \"cd4\"))  %>% \n",
    "dplyr::filter(!grepl(gene, pattern = \"MTRN\"))  %>% \n",
    "dplyr::select(p_val_adj, gene, population2)  %>% \n",
    "mutate(p_val_adj = pval_to_stars(p_val_adj))  %>% \n",
    "pivot_wider(names_from = \"population2\", values_from = \"p_val_adj\")  %>% \n",
    "column_to_rownames(\"gene\")  %>% \n",
    "as.matrix()\n",
    "\n",
    "rownames(star_matrix) <- rownames(fcs2_mtx)\n",
    "colnames(star_matrix) <- colnames(fcs2_mtx)"
   ]
  },
  {
   "cell_type": "code",
   "execution_count": null,
   "id": "ef1d2b1b",
   "metadata": {
    "scrolled": true
   },
   "outputs": [],
   "source": [
    "options(repr.plot.height = 7, repr.plot.width = 4)\n",
    "breaks = seq(-2, 2, length.out = 100)\n",
    "pheatmap::pheatmap(fcs2_mtx, scale = \"none\", cluster_cols = T, cluster_rows = T,\n",
    "         #color=colorRampPalette(c(\"dodgerblue\", \"grey95\", \"indianred2\"))(50), \n",
    "         border_color = \"white\", display_numbers = star_matrix, breaks = breaks,\n",
    "         color = colorRampPalette(c(\"blue\", \"white\", \"red\"))(length(breaks))\n",
    "         )"
   ]
  },
  {
   "cell_type": "code",
   "execution_count": null,
   "id": "58c682bd",
   "metadata": {},
   "outputs": [],
   "source": [
    "options(repr.plot.height = 6, repr.plot.width = 3.5)\n",
    "breaks = seq(-2, 2, length.out = 100)\n",
    "pheatmap::pheatmap(fcs2_mtx, scale = \"none\", cluster_cols = T, cluster_rows = T,\n",
    "         #color=colorRampPalette(c(\"dodgerblue\", \"grey95\", \"indianred2\"))(50), \n",
    "         border_color = \"white\", display_numbers = star_matrix, breaks = breaks,\n",
    "         color = colorRampPalette(c(\"blue\", \"white\", \"red\"))(length(breaks)),\n",
    "                   filename = \"../figures/heatmaps/hm_deg_allclusters_cd8_pr0_pr1.pdf\",\n",
    "                   width = 3.5, height = 7\n",
    "         )\n",
    "\n"
   ]
  },
  {
   "cell_type": "markdown",
   "id": "051da2c3",
   "metadata": {},
   "source": [
    "### Keto 1 at T0 vs Keto 0 at T0"
   ]
  },
  {
   "cell_type": "code",
   "execution_count": null,
   "id": "cf5adee9",
   "metadata": {},
   "outputs": [],
   "source": [
    "hm  <- all_markers  %>% \n",
    "separate(dataset, into = c(\"cd4_cd8\", \"Level\", NA, NA), sep = \"_\", remove = F)  %>% \n",
    "dplyr::filter(cd4_cd8 == \"cd8\")  %>%\n",
    "dplyr::filter(p_val_adj < 0.05)  %>% \n",
    "dplyr::filter(!(dataset %in% c(\"cd8_l2_subcluster\",\"cd4_l2_subcluster\")))  %>% \n",
    "mutate(dataset = stringr::str_to_upper(gsub(dataset, pattern = \"_\", replacement = \" \")))  %>% \n",
    "dplyr::filter(source == \"scRNAseq_RNA\" & test_type == \"Keto_1 T0 vs Keto_0 T0\" )  %>% \n",
    "group_by(dataset)  %>% \n",
    "slice_max(order_by = avg_log2FC, n = 5)  %>% \n",
    "pull(gene)  %>% unique "
   ]
  },
  {
   "cell_type": "code",
   "execution_count": null,
   "id": "9d2afdf1",
   "metadata": {
    "scrolled": true
   },
   "outputs": [],
   "source": [
    "fcs  <- purrr::map(1:length(paths_fc), get_fc_genes)"
   ]
  },
  {
   "cell_type": "code",
   "execution_count": null,
   "id": "a4eea02a",
   "metadata": {},
   "outputs": [],
   "source": [
    "fcs  <- bind_rows(fcs)"
   ]
  },
  {
   "cell_type": "code",
   "execution_count": null,
   "id": "c986fd90",
   "metadata": {},
   "outputs": [],
   "source": [
    "fcs$population  <- substr(fcs$dataset, 1,11)\n",
    "\n",
    "table(fcs$population)\n",
    "\n",
    "fcs  <- fcs  %>% mutate(population2 = ifelse(grepl(population, pattern = \"_nk_\"), substr(population,1,9), population))\n",
    "\n",
    "fcs$population2  %>% table\n",
    "\n",
    "fcs  <- fcs  %>% mutate(n1 = as.numeric(nchar(dataset)))  %>% \n",
    "mutate(n2 = n1-12)  %>% \n",
    "mutate(test_type = substr(dataset,n2,n1))  \n",
    "\n",
    "\n",
    "fcs$test_type  %>% table"
   ]
  },
  {
   "cell_type": "code",
   "execution_count": null,
   "id": "85d2c31a",
   "metadata": {
    "scrolled": true
   },
   "outputs": [],
   "source": [
    "fcs2  <- fcs  %>% mutate(andjus_logFC = ifelse(p_val_adj<0.05,avg_log2FC,avg_log2FC)) %>% \n",
    "dplyr::filter(test_type == \"_ketoacidosis\") "
   ]
  },
  {
   "cell_type": "code",
   "execution_count": null,
   "id": "9873f411",
   "metadata": {
    "scrolled": true
   },
   "outputs": [],
   "source": [
    "fcs2_mtx  <- fcs2  %>% \n",
    "dplyr::filter(!grepl(dataset, pattern = \"cd4\"))  %>%\n",
    "dplyr::filter(!grepl(gene, pattern = \"MTRN\"))  %>% \n",
    "dplyr::filter(!grepl(gene, pattern = \"IGLV\"))  %>% \n",
    "dplyr::select(avg_log2FC, gene, population2)  %>% \n",
    "pivot_wider(names_from = \"population2\", values_from = \"avg_log2FC\")  %>% \n",
    "column_to_rownames(\"gene\")  %>% \n",
    "as.matrix()"
   ]
  },
  {
   "cell_type": "code",
   "execution_count": null,
   "id": "2408f98f",
   "metadata": {},
   "outputs": [],
   "source": [
    "# Apply function to p-value matrix\n",
    "star_matrix <- fcs2  %>% \n",
    "dplyr::filter(!grepl(dataset, pattern = \"cd4\"))  %>% \n",
    "dplyr::filter(!grepl(gene, pattern = \"MTRN\"))  %>% \n",
    "dplyr::filter(!grepl(gene, pattern = \"IGLV\"))  %>% \n",
    "dplyr::select(p_val_adj, gene, population2)  %>% \n",
    "mutate(p_val_adj = pval_to_stars(p_val_adj))  %>% \n",
    "pivot_wider(names_from = \"population2\", values_from = \"p_val_adj\")  %>% \n",
    "column_to_rownames(\"gene\")  %>% \n",
    "as.matrix()\n",
    "\n",
    "rownames(star_matrix) <- rownames(fcs2_mtx)\n",
    "colnames(star_matrix) <- colnames(fcs2_mtx)\n",
    "\n"
   ]
  },
  {
   "cell_type": "code",
   "execution_count": null,
   "id": "4c76776d",
   "metadata": {
    "scrolled": true
   },
   "outputs": [],
   "source": [
    "options(repr.plot.height = 7, repr.plot.width = 4)\n",
    "breaks = seq(-2, 2, length.out = 100)\n",
    "pheatmap::pheatmap(fcs2_mtx, scale = \"none\", cluster_cols = T, cluster_rows = T,\n",
    "         #color=colorRampPalette(c(\"dodgerblue\", \"grey95\", \"indianred2\"))(50), \n",
    "         border_color = \"white\", display_numbers = star_matrix, breaks = breaks,\n",
    "         color = colorRampPalette(c(\"blue\", \"white\", \"red\"))(length(breaks))\n",
    "         )"
   ]
  },
  {
   "cell_type": "code",
   "execution_count": null,
   "id": "200bcdd5",
   "metadata": {},
   "outputs": [],
   "source": [
    "options(repr.plot.height = 6, repr.plot.width = 3.5)\n",
    "breaks = seq(-2, 2, length.out = 100)\n",
    "pheatmap::pheatmap(fcs2_mtx, scale = \"none\", cluster_cols = T, cluster_rows = T,\n",
    "         #color=colorRampPalette(c(\"dodgerblue\", \"grey95\", \"indianred2\"))(50), \n",
    "         border_color = \"white\", display_numbers = star_matrix, breaks = breaks,\n",
    "         color = colorRampPalette(c(\"blue\", \"white\", \"red\"))(length(breaks)),\n",
    "                   filename = \"../figures/heatmaps/hm_deg_allclusters_cd8_ketoacidosis.pdf\",\n",
    "                   width = 3.5, height = 7\n",
    "         )\n",
    "\n"
   ]
  },
  {
   "cell_type": "markdown",
   "id": "35e736d6",
   "metadata": {},
   "source": [
    "# Correlation top 100 genes in populations"
   ]
  },
  {
   "cell_type": "code",
   "execution_count": null,
   "id": "e3f2d5ff",
   "metadata": {
    "scrolled": true
   },
   "outputs": [],
   "source": [
    "all_markers"
   ]
  },
  {
   "cell_type": "code",
   "execution_count": null,
   "id": "b7f01538",
   "metadata": {},
   "outputs": [],
   "source": [
    "all_markers  %>% \n",
    "separate(dataset, into = c(\"cd4_cd8\", \"Level\", NA, NA), sep = \"_\", remove = F)  %>% \n",
    "dplyr::filter(cd4_cd8 == \"cd4\")  %>% \n",
    "dplyr::filter(!(dataset %in% c(\"cd8_l2_subcluster\",\"cd4_l2_subcluster\")))  %>% \n",
    "mutate(dataset = stringr::str_to_upper(gsub(dataset, pattern = \"_\", replacement = \" \")))  %>% \n",
    "dplyr::filter(source == \"scRNAseq_RNA\" & test_type == \"Dia T0 vs Ctrl T0\" )  %>% \n",
    "group_by(dataset)  %>% \n",
    "slice_max(order_by = avg_log2FC, n = 50)  %>% \n",
    "group_by(dataset)  %>% \n",
    "tally()  %>% \n",
    "arrange(desc(n))"
   ]
  },
  {
   "cell_type": "code",
   "execution_count": null,
   "id": "05956a93",
   "metadata": {},
   "outputs": [],
   "source": []
  },
  {
   "cell_type": "code",
   "execution_count": null,
   "id": "afba7a7a",
   "metadata": {},
   "outputs": [],
   "source": [
    "all_markers  %>% \n",
    "mutate(dataset = stringr::str_to_upper(gsub(dataset, pattern = \"_\", replacement = \" \")))  %>% \n",
    "dplyr::filter(source == \"scRNAseq_RNA\" & test_type == \"Dia T0 vs Ctrl T0\" )  %>%\n",
    "group_by(dataset)  %>% \n",
    "\n",
    "slice_max()\n",
    "ggplot(aes(x = dataset)) +\n",
    "facet_grid(cols = vars(test_type)) +\n",
    "geom_bar(aes(fill = direction), position = \"stack\") + coord_flip() +\n",
    "ggtheme() + \n",
    "theme_bw() + \n",
    "scale_fill_manual(values = c(\"#90c2f1ff\", \"#d0625dff\")) + theme(axis.ticks.y = element_blank())\n"
   ]
  },
  {
   "cell_type": "markdown",
   "id": "5fd011ee",
   "metadata": {},
   "source": [
    "# DotPlot - FoldChanges main genes in all comparisons"
   ]
  },
  {
   "cell_type": "code",
   "execution_count": null,
   "id": "6e4420f3",
   "metadata": {},
   "outputs": [],
   "source": [
    "hm  <- c(\"LEF1\",\"BACH2\",\"NELL2\",\"TCF7\",\"CXCR4\",\"ZFP36L2\",\"IL7R\",\"KLF2\",\"CCR7\",\"SELL\",\n",
    "            \n",
    "             \n",
    "            rev(c(\"TNFRSF9\",\"PRF1\",\"NKG7\",\"GZMB\",\"CST7\",\"GNLY\",\"GZMA\",\"CX3CR1\",\"CCL5\",\"TNF\",\"TBX21\",\"IFNG\")),\n",
    "             \"TNFAIP3\",\"DUSP1\",\"TSC22D3\",\"NFKBIA\",\"DDIT4\",\"INPP4B\",\n",
    "             rev(c(\"OASL\",\"IFI44L\",\"ISG15\",\"MX1\",\"STAT1\",\"IFI6\",\"IFIT3\")),\n",
    "                  \"BTN3A2\",\"BTN3A3\")"
   ]
  },
  {
   "cell_type": "code",
   "execution_count": null,
   "id": "1f794398",
   "metadata": {},
   "outputs": [],
   "source": [
    "get_fc_genes  <- function(j) {\n",
    "  print(j)\n",
    "fc.df  <- read_csv(paths_fc[j])  %>% as.data.frame()\n",
    "    if(grepl(paths_fc[j], pattern = \"Ctrl\")){\n",
    "fc.df  <- fc.df  %>%  arrange(desc(avg_log2FC)) %>% \n",
    "dplyr::filter(grepl(cluster, pattern = \"Dia\"))  %>% \n",
    "dplyr::filter(gene %in% hm) \n",
    "        \n",
    "        } else {\n",
    "        \n",
    "   if(grepl(paths_fc[j], pattern = \"PR_0_T0\")){\n",
    "fc.df  <- fc.df  %>%  arrange(desc(avg_log2FC)) %>% \n",
    "dplyr::filter(grepl(cluster, pattern = \"PR_0 T0\"))  %>% \n",
    "dplyr::filter(gene %in% hm) \n",
    "        } else {\n",
    "       \n",
    "        if(grepl(paths_fc[j], pattern = \"keto\")){\n",
    " fc.df  <- fc.df  %>%  arrange(desc(avg_log2FC)) %>% \n",
    "dplyr::filter(grepl(cluster, pattern = \"Keto_1 T0\"))   %>% \n",
    "dplyr::filter(gene %in% hm) \n",
    "    } else {\n",
    " fc.df  <- fc.df  %>%  arrange(desc(avg_log2FC)) %>% \n",
    "dplyr::filter(grepl(cluster, pattern = \"Dia T0\"))   %>% \n",
    "dplyr::filter(gene %in% hm) \n",
    "    }}}\n",
    "\n",
    "    fc.df$dataset  <-   gsub(dataset_names[j], pattern = \".csv\", replacement = \"\")\n",
    " return(fc.df)\n",
    "    }"
   ]
  },
  {
   "cell_type": "code",
   "execution_count": null,
   "id": "67e39c92",
   "metadata": {
    "scrolled": true
   },
   "outputs": [],
   "source": [
    "paths_fc  <- list.files(\"../../240617_VN_Diabetes_V06/tables/fold_change/\", full.names = T)\n",
    "dataset_names  <- list.files(\"../../240617_VN_Diabetes_V06/tables/fold_change\", full.names = F)\n",
    "\n",
    "paths_fc  <- paths_fc[grepl(paths_fc, pattern = \"l3\")|grepl(paths_fc, pattern = \"cd8_l2_unc\")|\n",
    "                      grepl(paths_fc, pattern = \"cd4_l2_unc\")|grepl(paths_fc, pattern = \"cd8_l2_nk\") ]\n",
    "\n",
    "dataset_names  <- dataset_names[grepl(dataset_names, pattern = \"l3\")|grepl(dataset_names, pattern = \"cd8_l2_unc\")|\n",
    "                      grepl(dataset_names, pattern = \"cd4_l2_unc\")|grepl(dataset_names, pattern = \"cd8_l2_nk\") ]\n",
    "\n",
    "paths_fc  <- paths_fc[grepl(paths_fc, pattern = \"Ctrl_vs_DiaT0\")|grepl(paths_fc, pattern = \"DiaT0_vs_DiaT1\")|\n",
    "                      grepl(paths_fc, pattern = \"Ctrl_vs_DiaT1\")|\n",
    "                      grepl(paths_fc, pattern = \"PR_0_T0_vs_PR_1_T0\")|grepl(paths_fc, pattern = \"ketoacidosis\")]\n",
    "\n",
    "dataset_names  <- dataset_names[grepl(dataset_names, pattern = \"Ctrl_vs_DiaT0\")|grepl(dataset_names, pattern = \"DiaT0_vs_DiaT1\")|\n",
    "                      grepl(dataset_names, pattern = \"Ctrl_vs_DiaT1\")|\n",
    "                      grepl(dataset_names, pattern = \"PR_0_T0_vs_PR_1_T0\")|grepl(dataset_names, pattern = \"ketoacidosis\")]\n"
   ]
  },
  {
   "cell_type": "code",
   "execution_count": null,
   "id": "752c1e1b",
   "metadata": {
    "scrolled": true
   },
   "outputs": [],
   "source": [
    "fcs  <- purrr::map(1:length(paths_fc), get_fc_genes)"
   ]
  },
  {
   "cell_type": "code",
   "execution_count": null,
   "id": "8a8b5ba5",
   "metadata": {},
   "outputs": [],
   "source": [
    "fcs  <- bind_rows(fcs)"
   ]
  },
  {
   "cell_type": "code",
   "execution_count": null,
   "id": "e6b55653",
   "metadata": {},
   "outputs": [],
   "source": [
    "fcs$population  <- substr(fcs$dataset, 1,11)\n",
    "\n",
    "table(fcs$population)\n",
    "\n",
    "fcs  <- fcs  %>% mutate(population2 = ifelse(grepl(population, pattern = \"_nk_\"), substr(population,1,9), population))\n",
    "\n",
    "fcs$population2  %>% table\n",
    "\n",
    "fcs  <- fcs  %>% mutate(n1 = as.numeric(nchar(dataset)))  %>% \n",
    "mutate(n2 = n1-12)  %>% \n",
    "mutate(test_type = substr(dataset,n2,n1))  \n",
    "\n",
    "\n",
    "fcs$test_type  %>% table"
   ]
  },
  {
   "cell_type": "code",
   "execution_count": null,
   "id": "97833ee9",
   "metadata": {
    "scrolled": true
   },
   "outputs": [],
   "source": [
    "fcs2  <- fcs  %>% mutate(andjus_logFC = ifelse(p_val_adj<0.05,avg_log2FC,avg_log2FC))  %>% \n",
    "dplyr::select(andjus_logFC, gene, dataset)"
   ]
  },
  {
   "cell_type": "code",
   "execution_count": null,
   "id": "b7cc52aa",
   "metadata": {},
   "outputs": [],
   "source": [
    "options(repr.plot.height = 8, repr.plot.width = 24)\n",
    "fcs  %>% \n",
    "ggplot(aes(x = factor(population2, levels = c(\n",
    "'cd8_l3_prol',\n",
    "'cd8_l3_tcm_',\n",
    "'cd4_l3_th1t',\n",
    "'cd4_l3_temr',\n",
    "'cd8_l3_temr',\n",
    "'cd4_l3_tfh_',\n",
    "'cd8_l3_naiv',\n",
    "'cd4_l3_naiv',\n",
    "'cd4_l3_th2_',\n",
    "'cd4_l3_nfkb',\n",
    "'cd4_l2_unc_',\n",
    "'cd4_l3_treg',\n",
    "'cd4_l3_isag',\n",
    "'cd4_l3_prol',\n",
    "'cd8_l3_tem_',\n",
    "'cd8_l2_nk',\n",
    "'cd8_l2_unc_'    \n",
    "))          \n",
    "           , y = factor(gene, levels = rev(hm)))) +\n",
    "geom_point(aes(size = -log(p_val_adj), color = avg_log2FC)) +\n",
    "scale_alpha_manual(values = c(0.5,1)) +\n",
    "scale_size_continuous(range = c(3,8))+\n",
    "ylab(\"\") + xlab(\"\") +\n",
    "facet_grid(cols = vars(test_type), space = \"free\", scales = \"free\") +\n",
    "scale_color_gradientn(colours = c(\"blue\", \"blue\",\"white\", \"red\",\"red\")) + \n",
    "theme_classic() + theme(axis.text.x = element_text(angle = 90)) + ggtheme()"
   ]
  },
  {
   "cell_type": "code",
   "execution_count": null,
   "id": "dba5ca9b",
   "metadata": {},
   "outputs": [],
   "source": [
    "ggsave(\"../figures/DE_genes/heatmap_deg.svg\", width = 45, height = 25, units = \"cm\", create.dir = TRUE)"
   ]
  },
  {
   "cell_type": "markdown",
   "id": "92359a0b",
   "metadata": {},
   "source": [
    "For the revisions, we will create the plot separately for CD4 and CD8. "
   ]
  },
  {
   "cell_type": "markdown",
   "id": "51bdc8ea",
   "metadata": {},
   "source": [
    "### CD8"
   ]
  },
  {
   "cell_type": "code",
   "execution_count": null,
   "id": "52212ed9",
   "metadata": {},
   "outputs": [],
   "source": [
    "options(repr.plot.height = 12, repr.plot.width = 16)\n",
    "fcs  %>% \n",
    "dplyr::filter(grepl(population2, pattern = \"cd8\"))  %>% \n",
    "ggplot(aes(x = factor(population2, levels = c(\n",
    "'cd8_l3_prol',\n",
    "'cd8_l3_tcm_',\n",
    "'cd4_l3_th1t',\n",
    "'cd4_l3_temr',\n",
    "'cd8_l3_temr',\n",
    "'cd4_l3_tfh_',\n",
    "'cd8_l3_naiv',\n",
    "'cd4_l3_naiv',\n",
    "'cd4_l3_th2_',\n",
    "'cd4_l3_nfkb',\n",
    "'cd4_l2_unc_',\n",
    "'cd4_l3_treg',\n",
    "'cd4_l3_isag',\n",
    "'cd4_l3_prol',\n",
    "'cd8_l3_tem_',\n",
    "'cd8_l2_nk',\n",
    "'cd8_l2_unc_'    \n",
    "))          \n",
    "           , y = factor(gene, levels = rev(hm)))) +\n",
    "geom_point(aes(size = -log(p_val_adj), color = avg_log2FC)) +\n",
    "scale_alpha_manual(values = c(0.5,1)) +\n",
    "scale_size_continuous(range = c(3,8))+\n",
    "ylab(\"\") + xlab(\"\") +\n",
    "facet_grid(cols = vars(test_type), space = \"free\", scales = \"free\") +\n",
    "scale_color_gradientn(colours = c(\"blue\", \"blue\",\"white\", \"red\",\"red\"),limits = c(-2, 2)) +\n",
    "theme_classic() + theme(axis.text.x = element_text(angle = 90)) + ggtheme()"
   ]
  },
  {
   "cell_type": "code",
   "execution_count": null,
   "id": "9e4e4f3a",
   "metadata": {},
   "outputs": [],
   "source": [
    "ggsave(\"../figures/DE_genes/heatmap_deg_cd8.svg\", width = 34, height = 28, units = \"cm\", create.dir = TRUE)"
   ]
  },
  {
   "cell_type": "markdown",
   "id": "715f27b1",
   "metadata": {},
   "source": [
    "### CD4"
   ]
  },
  {
   "cell_type": "code",
   "execution_count": null,
   "id": "b93ca805",
   "metadata": {},
   "outputs": [],
   "source": [
    "fcs  %>% \n",
    "dplyr::filter(grepl(population2, pattern = \"cd4\"))"
   ]
  },
  {
   "cell_type": "code",
   "execution_count": null,
   "id": "120d0ce1",
   "metadata": {},
   "outputs": [],
   "source": [
    "options(repr.plot.height = 12, repr.plot.width = 16)\n",
    "fcs  %>% \n",
    "dplyr::filter(grepl(population2, pattern = \"cd4\"))  %>% \n",
    "ggplot(aes(x = factor(population2, levels = c(\n",
    "'cd8_l3_prol',\n",
    "'cd8_l3_tcm_',\n",
    "'cd4_l3_th1t',\n",
    "'cd4_l3_temr',\n",
    "'cd8_l3_temr',\n",
    "'cd4_l3_tfh_',\n",
    "'cd8_l3_naiv',\n",
    "'cd4_l3_naiv',\n",
    "'cd4_l3_th2_',\n",
    "'cd4_l3_nfkb',\n",
    "'cd4_l2_unc_',\n",
    "'cd4_l3_treg',\n",
    "'cd4_l3_isag',\n",
    "'cd4_l3_prol',\n",
    "'cd8_l3_tem_',\n",
    "'cd8_l2_nk',\n",
    "'cd8_l2_unc_'    \n",
    "))          \n",
    "           , y = factor(gene, levels = rev(hm)))) +\n",
    "geom_point(aes(size = -log(p_val_adj), color = avg_log2FC)) +\n",
    "scale_alpha_manual(values = c(0.5,1)) +\n",
    "scale_size_continuous(range = c(3,8))+\n",
    "ylab(\"\") + xlab(\"\") +\n",
    "facet_grid(cols = vars(test_type), space = \"free\", scales = \"free\") +\n",
    "scale_color_gradientn(colours = c(\"blue\", \"blue\",\"white\", \"red\",\"red\"),limits = c(-1.5, 1.5)) +\n",
    "theme_classic() + theme(axis.text.x = element_text(angle = 90)) + ggtheme()"
   ]
  },
  {
   "cell_type": "code",
   "execution_count": null,
   "id": "558e2add",
   "metadata": {},
   "outputs": [],
   "source": [
    "ggsave(\"../figures/DE_genes/heatmap_deg_cd4.svg\", width = 40, height = 28, units = \"cm\", create.dir = TRUE)"
   ]
  },
  {
   "cell_type": "markdown",
   "id": "e5965695",
   "metadata": {},
   "source": [
    "# Top 100 genes in datasets / comparisons"
   ]
  },
  {
   "cell_type": "code",
   "execution_count": null,
   "id": "dd1818ed",
   "metadata": {},
   "outputs": [],
   "source": [
    "get_fc_genes  <- function(j) {\n",
    "  print(j)\n",
    "fc.df  <- read_csv(paths_fc[j])  %>% as.data.frame()\n",
    "    if(grepl(paths_fc[j], pattern = \"Ctrl\")){\n",
    "fc.df  <- fc.df  %>%  arrange(desc(avg_log2FC)) %>% \n",
    "dplyr::filter(grepl(cluster, pattern = \"Dia\"))  \n",
    "        \n",
    "        } else {\n",
    "        \n",
    "   if(grepl(paths_fc[j], pattern = \"PR_0_T0\")){\n",
    "fc.df  <- fc.df  %>%  arrange(desc(avg_log2FC)) %>% \n",
    "dplyr::filter(grepl(cluster, pattern = \"PR_0 T0\"))  \n",
    "        } else {\n",
    "       \n",
    "        if(grepl(paths_fc[j], pattern = \"keto\")){\n",
    " fc.df  <- fc.df  %>%  arrange(desc(avg_log2FC)) %>% \n",
    "dplyr::filter(grepl(cluster, pattern = \"Keto_1 T0\"))   \n",
    "    } else {\n",
    " fc.df  <- fc.df  %>%  arrange(desc(avg_log2FC)) %>% \n",
    "dplyr::filter(grepl(cluster, pattern = \"Dia T0\"))   \n",
    "    }}}\n",
    "\n",
    "    fc.df$dataset  <-   gsub(dataset_names[j], pattern = \".csv\", replacement = \"\")\n",
    " return(fc.df)\n",
    "    }"
   ]
  },
  {
   "cell_type": "code",
   "execution_count": null,
   "id": "58552100",
   "metadata": {
    "scrolled": true
   },
   "outputs": [],
   "source": [
    "paths_fc  <- list.files(\"../../240617_VN_Diabetes_V06/tables/fold_change/\", full.names = T)\n",
    "dataset_names  <- list.files(\"../../240617_VN_Diabetes_V06/tables/fold_change\", full.names = F)\n",
    "\n",
    "paths_fc  <- paths_fc[grepl(paths_fc, pattern = \"l3\")|grepl(paths_fc, pattern = \"cd8_l2_unc\")|\n",
    "                      grepl(paths_fc, pattern = \"cd4_l2_unc\")|grepl(paths_fc, pattern = \"cd8_l2_nk\") ]\n",
    "\n",
    "dataset_names  <- dataset_names[grepl(dataset_names, pattern = \"l3\")|grepl(dataset_names, pattern = \"cd8_l2_unc\")|\n",
    "                      grepl(dataset_names, pattern = \"cd4_l2_unc\")|grepl(dataset_names, pattern = \"cd8_l2_nk\") ]\n",
    "\n",
    "paths_fc  <- paths_fc[grepl(paths_fc, pattern = \"Ctrl_vs_DiaT0\")|grepl(paths_fc, pattern = \"DiaT0_vs_DiaT1\")|\n",
    "                      grepl(paths_fc, pattern = \"Ctrl_vs_DiaT1\")|\n",
    "                      grepl(paths_fc, pattern = \"PR_0_T0_vs_PR_1_T0\")|grepl(paths_fc, pattern = \"ketoacidosis\")]\n",
    "\n",
    "dataset_names  <- dataset_names[grepl(dataset_names, pattern = \"Ctrl_vs_DiaT0\")|grepl(dataset_names, pattern = \"DiaT0_vs_DiaT1\")|\n",
    "                      grepl(dataset_names, pattern = \"Ctrl_vs_DiaT1\")|\n",
    "                      grepl(dataset_names, pattern = \"PR_0_T0_vs_PR_1_T0\")|grepl(dataset_names, pattern = \"ketoacidosis\")]\n"
   ]
  },
  {
   "cell_type": "code",
   "execution_count": null,
   "id": "9063d43e",
   "metadata": {
    "scrolled": true
   },
   "outputs": [],
   "source": [
    "fcs  <- purrr::map(1:length(paths_fc), get_fc_genes)"
   ]
  },
  {
   "cell_type": "code",
   "execution_count": null,
   "id": "919c2586",
   "metadata": {},
   "outputs": [],
   "source": [
    "fcs  <- bind_rows(fcs)"
   ]
  },
  {
   "cell_type": "code",
   "execution_count": null,
   "id": "f53179bd",
   "metadata": {},
   "outputs": [],
   "source": [
    "fcs$population  <- substr(fcs$dataset, 1,11)\n",
    "\n",
    "table(fcs$population)\n",
    "\n",
    "fcs  <- fcs  %>% mutate(population2 = ifelse(grepl(population, pattern = \"_nk_\"), substr(population,1,9), population))\n",
    "\n",
    "fcs$population2  %>% table\n",
    "\n",
    "fcs  <- fcs  %>% mutate(n1 = as.numeric(nchar(dataset)))  %>% \n",
    "mutate(n2 = n1-12)  %>% \n",
    "mutate(test_type = substr(dataset,n2,n1))  \n",
    "\n",
    "\n",
    "fcs$test_type  %>% table"
   ]
  },
  {
   "cell_type": "code",
   "execution_count": null,
   "id": "23aaf13f",
   "metadata": {},
   "outputs": [],
   "source": [
    "fcs_cd8  <- fcs  %>% dplyr::filter(grepl(dataset, pattern = \"cd8\"))  %>% \n",
    "dplyr::filter(!grepl(gene, pattern = \"^IG\"))  %>% \n",
    "dplyr::filter(!grepl(gene, pattern = \"^MTR\"))  "
   ]
  },
  {
   "cell_type": "code",
   "execution_count": null,
   "id": "697827cb",
   "metadata": {},
   "outputs": [],
   "source": [
    "fcs_cd4  <- fcs  %>% dplyr::filter(grepl(dataset, pattern = \"cd4\")) %>% \n",
    "dplyr::filter(!grepl(gene, pattern = \"^IG\"))  %>% \n",
    "dplyr::filter(!grepl(gene, pattern = \"^MTR\"))  "
   ]
  },
  {
   "cell_type": "markdown",
   "id": "c7b05c62",
   "metadata": {},
   "source": [
    "### CD8"
   ]
  },
  {
   "cell_type": "code",
   "execution_count": null,
   "id": "cb2cc775",
   "metadata": {},
   "outputs": [],
   "source": [
    "fcs_cd8"
   ]
  },
  {
   "cell_type": "code",
   "execution_count": null,
   "id": "ef21294d",
   "metadata": {},
   "outputs": [],
   "source": [
    "fcs_cd8  %>% arrange(desc(avg_log2FC))"
   ]
  },
  {
   "cell_type": "code",
   "execution_count": null,
   "id": "688d0ed3",
   "metadata": {},
   "outputs": [],
   "source": [
    "for(i in levels(factor(fcs_cd8$population2))){\n",
    "   for(j in levels(factor(fcs_cd8$population2))){\n",
    "    fcs1  <- fcs_cd8  %>% dplyr::filter(population2 == i)  \n",
    "    fcs2  <- fcs_cd8  %>% dplyr::filter(population2 == j) \n",
    "    \n",
    "    for(m in levels(factor(fcs_cd8$test_type))) {\n",
    "        \n",
    "       fcs3  <- fcs1  %>% dplyr::filter(test_type == m)  %>% arrange(desc(avg_log2FC))  %>% pull(gene)\n",
    "       fcs4  <- fcs2  %>% dplyr::filter(test_type == m)  %>% arrange(desc(avg_log2FC))  %>% pull(gene)\n",
    "        \n",
    "        if(m == levels(factor(fcs_cd8$test_type))[1]) {\n",
    "           df1  <- data.frame(population1 = i, \n",
    "                              population2 = j,\n",
    "                              test_type = m,\n",
    "                              overlap = length(intersect(fcs3[1:100],fcs4[1:100]))) \n",
    "            df_all  <-  df1\n",
    "        } else {\n",
    "            df1  <- data.frame(population1 = i, \n",
    "                              population2 = j,\n",
    "                              test_type = m,\n",
    "                              overlap = length(intersect(fcs3[1:100],fcs4[1:100]))) \n",
    "            df_all  <- rbind(df_all, df1)\n",
    "        }\n",
    "        \n",
    "       \n",
    "    }\n",
    "       \n",
    "    if(i == levels(factor(fcs_cd8$population2))[1] & j == levels(factor(fcs_cd8$population2))[1]){\n",
    "     df_all_all  <- df_all\n",
    "        \n",
    "    } else {\n",
    "      df_all_all  <- rbind(df_all_all, df_all)\n",
    "     \n",
    "        \n",
    "    }  \n",
    "       \n",
    "       \n",
    "    } \n",
    "        \n",
    "}\n",
    "\n"
   ]
  },
  {
   "cell_type": "code",
   "execution_count": null,
   "id": "a356fae3",
   "metadata": {
    "scrolled": true
   },
   "outputs": [],
   "source": [
    "df_all_all  %>% dplyr::filter(population1 == population2)"
   ]
  },
  {
   "cell_type": "code",
   "execution_count": null,
   "id": "5f2f64af",
   "metadata": {},
   "outputs": [],
   "source": [
    "breaks = seq(0, 100, length.out = 100)"
   ]
  },
  {
   "cell_type": "code",
   "execution_count": null,
   "id": "57bef3ba",
   "metadata": {},
   "outputs": [],
   "source": [
    "dir.create(\"../figures/heatmaps/overlaps_deg/\")"
   ]
  },
  {
   "cell_type": "code",
   "execution_count": null,
   "id": "3d5a06e0",
   "metadata": {},
   "outputs": [],
   "source": [
    "options(repr.plot.height = 6, repr.plot.width = 6.3)\n",
    "for(i in levels(factor(fcs_cd8$test_type))){\n",
    "\n",
    "hm  <- df_all_all  %>% \n",
    "dplyr::filter(test_type == i)  %>% \n",
    "    mutate(overlap = if_else(population1 == population2,0,overlap))  %>% \n",
    "pivot_wider(names_from = population2, values_from = overlap)  %>% \n",
    "dplyr::select(-test_type)  %>% \n",
    "column_to_rownames(\"population1\")  %>% \n",
    "    as.matrix()\n",
    "hm  <- hm[]    \n",
    "print(pheatmap::pheatmap(mat = hm, scale = \"none\", cluster_rows = F, cluster_cols = F, \n",
    "                         main = i, fontsize = 20,\n",
    "                        border_color = \"white\", breaks = breaks,\n",
    "         color = colorRampPalette(c(\"white\",\"#e8d7d7ff\", \"red\",\"red4\"))(length(breaks))\n",
    "         ))\n",
    "    \n",
    "pheatmap::pheatmap(mat = hm, scale = \"none\", cluster_rows = F, cluster_cols = F, \n",
    "                         main = i, fontsize = 20,\n",
    "                        border_color = \"white\", breaks = breaks,\n",
    "         color = colorRampPalette(c(\"white\",\"#e8d7d7ff\", \"red\",\"red4\"))(length(breaks)),\n",
    "                   filename = paste0(\"../figures/heatmaps/overlaps_deg/up_\",i,\".pdf\"),\n",
    "                   width = 6.3, height = 6\n",
    "         )    \n",
    "}"
   ]
  },
  {
   "cell_type": "code",
   "execution_count": null,
   "id": "a178ed00",
   "metadata": {},
   "outputs": [],
   "source": [
    "for(i in levels(factor(fcs_cd8$population2))){\n",
    "   for(j in levels(factor(fcs_cd8$population2))){\n",
    "    fcs1  <- fcs_cd8  %>% dplyr::filter(population2 == i)  \n",
    "    fcs2  <- fcs_cd8  %>% dplyr::filter(population2 == j) \n",
    "    \n",
    "    for(m in levels(factor(fcs_cd8$test_type))) {\n",
    "        \n",
    "       fcs3  <- fcs1  %>% dplyr::filter(test_type == m)  %>% arrange((avg_log2FC))  %>% pull(gene)\n",
    "       fcs4  <- fcs2  %>% dplyr::filter(test_type == m)  %>% arrange((avg_log2FC))  %>% pull(gene)\n",
    "        \n",
    "        if(m == levels(factor(fcs_cd8$test_type))[1]) {\n",
    "           df1  <- data.frame(population1 = i, \n",
    "                              population2 = j,\n",
    "                              test_type = m,\n",
    "                              overlap = length(intersect(fcs3[1:100],fcs4[1:100]))) \n",
    "            df_all  <-  df1\n",
    "        } else {\n",
    "            df1  <- data.frame(population1 = i, \n",
    "                              population2 = j,\n",
    "                              test_type = m,\n",
    "                              overlap = length(intersect(fcs3[1:100],fcs4[1:100]))) \n",
    "            df_all  <- rbind(df_all, df1)\n",
    "        }\n",
    "        \n",
    "       \n",
    "    }\n",
    "       \n",
    "    if(i == levels(factor(fcs_cd8$population2))[1] & j == levels(factor(fcs_cd8$population2))[1]){\n",
    "     df_all_all_down  <- df_all\n",
    "        \n",
    "    } else {\n",
    "      df_all_all_down  <- rbind(df_all_all_down, df_all)\n",
    "     \n",
    "        \n",
    "    }  \n",
    "       \n",
    "       \n",
    "    } \n",
    "        \n",
    "}\n",
    "\n"
   ]
  },
  {
   "cell_type": "code",
   "execution_count": null,
   "id": "7dc2abe3",
   "metadata": {},
   "outputs": [],
   "source": [
    "breaks = seq(0, 100, length.out = 100)"
   ]
  },
  {
   "cell_type": "code",
   "execution_count": null,
   "id": "00e86541",
   "metadata": {},
   "outputs": [],
   "source": [
    "options(repr.plot.height = 6, repr.plot.width = 6.3)\n",
    "for(i in levels(factor(fcs_cd8$test_type))){\n",
    "\n",
    "hm  <- df_all_all_down  %>% \n",
    "dplyr::filter(test_type == i)  %>% \n",
    "    mutate(overlap = if_else(population1 == population2,0,overlap))  %>% \n",
    "pivot_wider(names_from = population2, values_from = overlap)  %>% \n",
    "dplyr::select(-test_type)  %>% \n",
    "column_to_rownames(\"population1\")  %>% \n",
    "    as.matrix()\n",
    "hm  <- hm[]    \n",
    "print(pheatmap::pheatmap(mat = hm, scale = \"none\", cluster_rows = F, cluster_cols = F, \n",
    "                         main = i, fontsize = 20,\n",
    "                        border_color = \"white\", breaks = breaks,\n",
    "         color = colorRampPalette(c(\"white\",\"#d1d1e4ff\", \"blue\",\"blue4\"))(length(breaks)),\n",
    "                         ,\n",
    "                   filename = paste0(\"../figures/heatmaps/overlaps_deg/down_\",i,\".pdf\"),\n",
    "                   width = 6.3, height = 6\n",
    "         ))\n",
    "}"
   ]
  },
  {
   "cell_type": "markdown",
   "id": "281a2c37",
   "metadata": {},
   "source": [
    "### CD4"
   ]
  },
  {
   "cell_type": "code",
   "execution_count": null,
   "id": "16ce1b58",
   "metadata": {},
   "outputs": [],
   "source": [
    "for(i in levels(factor(fcs_cd4$population2))){\n",
    "   for(j in levels(factor(fcs_cd4$population2))){\n",
    "    fcs1  <- fcs_cd4  %>% dplyr::filter(population2 == i)  \n",
    "    fcs2  <- fcs_cd4  %>% dplyr::filter(population2 == j) \n",
    "    \n",
    "    for(m in levels(factor(fcs_cd4$test_type))) {\n",
    "        \n",
    "       fcs3  <- fcs1  %>% dplyr::filter(test_type == m)  %>% arrange(desc(avg_log2FC))  %>% pull(gene)\n",
    "       fcs4  <- fcs2  %>% dplyr::filter(test_type == m)  %>% arrange(desc(avg_log2FC))  %>% pull(gene)\n",
    "        \n",
    "        if(m == levels(factor(fcs_cd4$test_type))[1]) {\n",
    "           df1  <- data.frame(population1 = i, \n",
    "                              population2 = j,\n",
    "                              test_type = m,\n",
    "                              overlap = length(intersect(fcs3[1:100],fcs4[1:100]))) \n",
    "            df_all  <-  df1\n",
    "        } else {\n",
    "            df1  <- data.frame(population1 = i, \n",
    "                              population2 = j,\n",
    "                              test_type = m,\n",
    "                              overlap = length(intersect(fcs3[1:100],fcs4[1:100]))) \n",
    "            df_all  <- rbind(df_all, df1)\n",
    "        }\n",
    "        \n",
    "       \n",
    "    }\n",
    "       \n",
    "    if(i == levels(factor(fcs_cd4$population2))[1] & j == levels(factor(fcs_cd4$population2))[1]){\n",
    "     df_all_all  <- df_all\n",
    "        \n",
    "    } else {\n",
    "      df_all_all  <- rbind(df_all_all, df_all)\n",
    "     \n",
    "        \n",
    "    }  \n",
    "       \n",
    "       \n",
    "    } \n",
    "        \n",
    "}\n",
    "\n"
   ]
  },
  {
   "cell_type": "code",
   "execution_count": null,
   "id": "5e69cc0f",
   "metadata": {
    "scrolled": true
   },
   "outputs": [],
   "source": [
    "df_all_all  %>% dplyr::filter(population1 == population2)"
   ]
  },
  {
   "cell_type": "code",
   "execution_count": null,
   "id": "ced304c9",
   "metadata": {},
   "outputs": [],
   "source": [
    "breaks = seq(0, 100, length.out = 100)"
   ]
  },
  {
   "cell_type": "code",
   "execution_count": null,
   "id": "095ee8b7",
   "metadata": {},
   "outputs": [],
   "source": [
    "dir.create(\"../figures/heatmaps/overlaps_deg/\")"
   ]
  },
  {
   "cell_type": "code",
   "execution_count": null,
   "id": "69e04c96",
   "metadata": {},
   "outputs": [],
   "source": [
    "options(repr.plot.height = 6, repr.plot.width = 6.3)\n",
    "for(i in levels(factor(fcs_cd4$test_type))){\n",
    "\n",
    "hm  <- df_all_all  %>% \n",
    "dplyr::filter(test_type == i)  %>% \n",
    "    mutate(overlap = if_else(population1 == population2,0,overlap))  %>% \n",
    "pivot_wider(names_from = population2, values_from = overlap)  %>% \n",
    "dplyr::select(-test_type)  %>% \n",
    "column_to_rownames(\"population1\")  %>% \n",
    "    as.matrix()\n",
    "hm  <- hm[]    \n",
    "print(pheatmap::pheatmap(mat = hm, scale = \"none\", cluster_rows = F, cluster_cols = F, \n",
    "                         main = i, fontsize = 20,\n",
    "                        border_color = \"white\", breaks = breaks,\n",
    "         color = colorRampPalette(c(\"white\",\"#e8d7d7ff\", \"red\",\"red4\"))(length(breaks))\n",
    "         ))\n",
    "    \n",
    "pheatmap::pheatmap(mat = hm, scale = \"none\", cluster_rows = F, cluster_cols = F, \n",
    "                         main = i, fontsize = 20,\n",
    "                        border_color = \"white\", breaks = breaks,\n",
    "         color = colorRampPalette(c(\"white\",\"#e8d7d7ff\", \"red\",\"red4\"))(length(breaks)),\n",
    "                   filename = paste0(\"../figures/heatmaps/overlaps_deg/up_cd4_\",i,\".pdf\"),\n",
    "                   width = 6.3, height = 6\n",
    "         )    \n",
    "}"
   ]
  },
  {
   "cell_type": "code",
   "execution_count": null,
   "id": "d55243bd",
   "metadata": {},
   "outputs": [],
   "source": [
    "for(i in levels(factor(fcs_cd4$population2))){\n",
    "   for(j in levels(factor(fcs_cd4$population2))){\n",
    "    fcs1  <- fcs_cd4  %>% dplyr::filter(population2 == i)  \n",
    "    fcs2  <- fcs_cd4  %>% dplyr::filter(population2 == j) \n",
    "    \n",
    "    for(m in levels(factor(fcs_cd4$test_type))) {\n",
    "        \n",
    "       fcs3  <- fcs1  %>% dplyr::filter(test_type == m)  %>% arrange((avg_log2FC))  %>% pull(gene)\n",
    "       fcs4  <- fcs2  %>% dplyr::filter(test_type == m)  %>% arrange((avg_log2FC))  %>% pull(gene)\n",
    "        \n",
    "        if(m == levels(factor(fcs_cd4$test_type))[1]) {\n",
    "           df1  <- data.frame(population1 = i, \n",
    "                              population2 = j,\n",
    "                              test_type = m,\n",
    "                              overlap = length(intersect(fcs3[1:100],fcs4[1:100]))) \n",
    "            df_all  <-  df1\n",
    "        } else {\n",
    "            df1  <- data.frame(population1 = i, \n",
    "                              population2 = j,\n",
    "                              test_type = m,\n",
    "                              overlap = length(intersect(fcs3[1:100],fcs4[1:100]))) \n",
    "            df_all  <- rbind(df_all, df1)\n",
    "        }\n",
    "        \n",
    "       \n",
    "    }\n",
    "       \n",
    "    if(i == levels(factor(fcs_cd4$population2))[1] & j == levels(factor(fcs_cd4$population2))[1]){\n",
    "     df_all_all_down  <- df_all\n",
    "        \n",
    "    } else {\n",
    "      df_all_all_down  <- rbind(df_all_all_down, df_all)\n",
    "     \n",
    "        \n",
    "    }  \n",
    "       \n",
    "       \n",
    "    } \n",
    "        \n",
    "}\n",
    "\n"
   ]
  },
  {
   "cell_type": "code",
   "execution_count": null,
   "id": "5a7065b3",
   "metadata": {},
   "outputs": [],
   "source": [
    "breaks = seq(0, 100, length.out = 100)"
   ]
  },
  {
   "cell_type": "code",
   "execution_count": null,
   "id": "c5643e83",
   "metadata": {},
   "outputs": [],
   "source": [
    "options(repr.plot.height = 6, repr.plot.width = 6.3)\n",
    "for(i in levels(factor(fcs_cd4$test_type))){\n",
    "\n",
    "hm  <- df_all_all_down  %>% \n",
    "dplyr::filter(test_type == i)  %>% \n",
    "    mutate(overlap = if_else(population1 == population2,0,overlap))  %>% \n",
    "pivot_wider(names_from = population2, values_from = overlap)  %>% \n",
    "dplyr::select(-test_type)  %>% \n",
    "column_to_rownames(\"population1\")  %>% \n",
    "    as.matrix()\n",
    "hm  <- hm[]    \n",
    "print(pheatmap::pheatmap(mat = hm, scale = \"none\", cluster_rows = F, cluster_cols = F, \n",
    "                         main = i, fontsize = 20,\n",
    "                        border_color = \"white\", breaks = breaks,\n",
    "         color = colorRampPalette(c(\"white\",\"#d1d1e4ff\", \"blue\",\"blue4\"))(length(breaks)),\n",
    "                         ,\n",
    "                   filename = paste0(\"../figures/heatmaps/overlaps_deg/down_cd4_\",i,\".pdf\"),\n",
    "                   width = 6.3, height = 6\n",
    "         ))\n",
    "}"
   ]
  },
  {
   "cell_type": "code",
   "execution_count": null,
   "id": "e5b999d4",
   "metadata": {},
   "outputs": [],
   "source": []
  },
  {
   "cell_type": "markdown",
   "id": "ca3a7710",
   "metadata": {},
   "source": [
    "# GSEA"
   ]
  },
  {
   "cell_type": "markdown",
   "id": "977354f6",
   "metadata": {},
   "source": [
    "### Fold Changes in Our Dataset"
   ]
  },
  {
   "cell_type": "code",
   "execution_count": null,
   "id": "21c98eb3",
   "metadata": {},
   "outputs": [],
   "source": [
    "rm(list = ls())"
   ]
  },
  {
   "cell_type": "code",
   "execution_count": null,
   "id": "e0f3c945",
   "metadata": {},
   "outputs": [],
   "source": [
    "cd8_l3_tem  <- readRDS(\"../data/processed/L3/cd8_l3_tem.rds\")\n",
    "cd8_l3_naive  <- readRDS(\"../data/processed/L3/cd8_l3_naive.rds\")\n",
    "cd8_l3_tcm  <- readRDS(\"../data/processed/L3/cd8_l3_tcm.rds\")\n",
    "cd8_l3_temra  <- readRDS(\"../data/processed/L3/cd8_l3_temra.rds\")\n",
    "cd8_l3_prolif  <- readRDS(\"../data/processed/L3/cd8_l3_prolif.rds\")\n",
    "cd8_l2_subcluster  <- readRDS(\"../data/processed/L2/cd8_l2_subcluster.rds\")\n",
    "cd8_l2_nk  <- readRDS(\"../data/processed/L2/cd8_l2_nk.rds\")\n",
    "cd8_l2_unc  <- readRDS(\"../data/processed/L2/cd8_l2_unc.rds\")\n",
    "cd8_l1_full_filt  <- readRDS(\"../data/processed/L1/cd8_l1_full_filt.rds\")\n",
    "cd4_l3_naive  <- readRDS(\"../data/processed/L3/cd4_l3_naive.rds\")\n",
    "cd4_l3_tfh  <- readRDS(\"../data/processed/L3/cd4_l3_tfh.rds\")\n",
    "cd4_l3_th1th17  <- readRDS(\"../data/processed/L3/cd4_l3_th1_17.rds\")\n",
    "cd4_l3_nfkb  <- readRDS(\"../data/processed/L3/cd4_l3_nfkb.rds\")\n",
    "cd4_l3_th2  <- readRDS(\"../data/processed/L3/cd4_l3_th2.rds\")\n",
    "cd4_l3_treg  <- readRDS(\"../data/processed/L3/cd4_l3_treg.rds\")\n",
    "cd4_l3_isaghi  <- readRDS(\"../data/processed/L3/cd4_l3_isaghi.rds\")\n",
    "cd4_l3_proliferating  <- readRDS(\"../data/processed/L3/cd4_l3_proliferating.rds\")\n",
    "cd4_l3_temra  <- readRDS(\"../data/processed/L3/cd4_l3_temra.rds\")\n",
    "cd4_l2_unc  <- readRDS(\"../data/processed/L2/cd4_l2_unc.rds\")"
   ]
  },
  {
   "cell_type": "code",
   "execution_count": null,
   "id": "eef867e4",
   "metadata": {},
   "outputs": [],
   "source": [
    "cd4_l2_subcluster  <- readRDS(\"../data/processed/L2/cd4_subcluster.rds\")"
   ]
  },
  {
   "cell_type": "code",
   "execution_count": null,
   "id": "36a14041",
   "metadata": {},
   "outputs": [],
   "source": [
    "cd4_l1_full_filt  <- readRDS(\"../data/processed/L1/cd4_l1_full_filt.rds\")\n",
    "cd8_l2_subcluster  <- readRDS(\"../data/processed/L2/cd8_l2_subcluster.rds\")"
   ]
  },
  {
   "cell_type": "code",
   "execution_count": null,
   "id": "142dcdc0",
   "metadata": {},
   "outputs": [],
   "source": [
    "dataset_list  <- list(cd8_l3_tem, cd8_l3_naive, cd8_l3_tcm, cd8_l3_temra, cd8_l3_prolif, \n",
    "                    cd8_l2_nk, cd8_l2_unc, cd8_l1_full_filt,\n",
    "                     cd4_l3_naive, cd4_l3_tfh, cd4_l3_th1th17, cd4_l3_nfkb, cd4_l3_th2,\n",
    "                     cd4_l3_treg, cd4_l3_isaghi, cd4_l3_proliferating, cd4_l3_temra,\n",
    "                     cd4_l2_unc, cd4_l2_subcluster, cd4_l1_full_filt, cd8_l2_subcluster)\n",
    "\n",
    "names(dataset_list) <- c(\"cd8_l3_tem\", \"cd8_l3_naive\", \"cd8_l3_tcm\", \"cd8_l3_temra\", \"cd8_l3_prolif\",\n",
    "                       \"cd8_l2_nk\", \"cd8_l2_unc\", \"cd8_l1_full_filt\",\n",
    "                        \"cd4_l3_naive\", \"cd4_l3_tfh\", \"cd4_l3_th1th17\", \"cd4_l3_nfkb\", \"cd4_l3_th2\",\n",
    "                     \"cd4_l3_treg\", \"cd4_l3_isaghi\", \"cd4_l3_proliferating\", \"cd4_l3_temra\",\n",
    "                     \"cd4_l2_unc\", \"cd4_l2_subcluster\", \"cd4_l1_full_filt\", \"cd8_l2_subcluster\")"
   ]
  },
  {
   "cell_type": "code",
   "execution_count": null,
   "id": "6313f641",
   "metadata": {},
   "outputs": [],
   "source": [
    "options(future.globals.maxSize = 2000 * 1024^2)"
   ]
  },
  {
   "cell_type": "code",
   "execution_count": null,
   "id": "66ef0e93",
   "metadata": {},
   "outputs": [],
   "source": [
    "dir.create(\"../tables/fold_change/\")"
   ]
  },
  {
   "cell_type": "code",
   "execution_count": null,
   "id": "5e813383",
   "metadata": {
    "scrolled": true
   },
   "outputs": [],
   "source": [
    "#plan(\"multisession\", workers = 4)\n",
    "\n",
    "for(i in 1:length(dataset_list)){\n",
    "\n",
    "seurat_object  <- dataset_list[[i]]\n",
    "DefaultAssay(seurat_object)  <- \"RNA\"\n",
    "Idents(seurat_object)  <- seurat_object$Disease\n",
    "\n",
    "fc.seurat_object <- FindAllMarkers(seurat_object, \n",
    "                          test.use = \"wilcox\", \n",
    "                          logfc.threshold = -Inf, min.pct = -Inf, min.diff.pct = -Inf,\n",
    "                                   only.pos = F,  \n",
    "                                   min.cells.feature = 1, return.thresh = 1)\n",
    "\n",
    "write.csv(fc.seurat_object, paste0(\"../tables/fold_change/\", names(dataset_list)[i], \".csv\"))\n",
    "}"
   ]
  },
  {
   "cell_type": "code",
   "execution_count": null,
   "id": "239d5c0b",
   "metadata": {},
   "outputs": [],
   "source": [
    "cd8_l2_subcluster$Condition2  %>% table"
   ]
  },
  {
   "cell_type": "code",
   "execution_count": null,
   "id": "9518a581",
   "metadata": {},
   "outputs": [],
   "source": [
    "#plan(\"multisession\", workers = 8)\n",
    "\n",
    "for(i in 1:length(dataset_list)){\n",
    "###### Ctrl T0 vs Dia T0\n",
    "seurat_object  <- subset(dataset_list[[i]], Condition %in% c(\"Ctrl T0\", \"Dia T0\"))\n",
    "DefaultAssay(seurat_object)  <- \"RNA\"\n",
    "Idents(seurat_object)  <- seurat_object$Condition\n",
    "\n",
    "fc.seurat_object <- FindAllMarkers(seurat_object, \n",
    "                          test.use = \"wilcox\", \n",
    "                          logfc.threshold = -Inf, min.pct = -Inf, min.diff.pct = -Inf,\n",
    "                                   only.pos = F,  \n",
    "                                   min.cells.feature = 1, return.thresh = 1)\n",
    "\n",
    "write.csv(fc.seurat_object, paste0(\"../tables/fold_change/\", names(dataset_list)[i], \"_Ctrl_vs_DiaT0.csv\"))\n",
    "    \n",
    "####### Ctrl T0 vs Dia T1\n",
    "seurat_object  <- subset(dataset_list[[i]], Condition %in% c(\"Ctrl T0\", \"Dia T1\"))\n",
    "DefaultAssay(seurat_object)  <- \"RNA\"\n",
    "Idents(seurat_object)  <- seurat_object$Condition\n",
    "\n",
    "fc.seurat_object <- FindAllMarkers(seurat_object, \n",
    "                          test.use = \"wilcox\", \n",
    "                          logfc.threshold = -Inf, min.pct = -Inf, min.diff.pct = -Inf,\n",
    "                                   only.pos = F,  \n",
    "                                   min.cells.feature = 1, return.thresh = 1)\n",
    "\n",
    "write.csv(fc.seurat_object, paste0(\"../tables/fold_change/\", names(dataset_list)[i], \"_Ctrl_vs_DiaT1.csv\"))\n",
    "    \n",
    "    ####### Dia T0 vs Dia T1\n",
    "seurat_object  <- subset(dataset_list[[i]], Condition %in% c(\"Dia T0\", \"Dia T1\"))\n",
    "DefaultAssay(seurat_object)  <- \"RNA\"\n",
    "Idents(seurat_object)  <- seurat_object$Condition\n",
    "\n",
    "fc.seurat_object <- FindAllMarkers(seurat_object, \n",
    "                          test.use = \"wilcox\", \n",
    "                          logfc.threshold = -Inf, min.pct = -Inf, min.diff.pct = -Inf,\n",
    "                                   only.pos = F,  \n",
    "                                   min.cells.feature = 1, return.thresh = 1)\n",
    "\n",
    "write.csv(fc.seurat_object, paste0(\"../tables/fold_change/\", names(dataset_list)[i], \"_DiaT0_vs_DiaT1.csv\"))\n",
    "    \n",
    "    ####### Part remission\n",
    "seurat_object  <- subset(dataset_list[[i]], Condition2 %in% c(\"Part_remission_0\", \"Part_remission_1\"))\n",
    "DefaultAssay(seurat_object)  <- \"RNA\"\n",
    "Idents(seurat_object)  <- seurat_object$Condition2\n",
    "\n",
    "fc.seurat_object <- FindAllMarkers(seurat_object, \n",
    "                          test.use = \"wilcox\", \n",
    "                          logfc.threshold = -Inf, min.pct = -Inf, min.diff.pct = -Inf,\n",
    "                                   only.pos = F,  \n",
    "                                   min.cells.feature = 1, return.thresh = 1)\n",
    "\n",
    "write.csv(fc.seurat_object, paste0(\"../tables/fold_change/\", names(dataset_list)[i], \"_remission.csv\"))\n",
    "}"
   ]
  },
  {
   "cell_type": "code",
   "execution_count": null,
   "id": "0a0c64f7",
   "metadata": {},
   "outputs": [],
   "source": [
    "md_for_remission  <- cd4_l1_full_filt@meta.data  %>% \n",
    "dplyr::filter(Condition %in% c(\"Dia T0\"))  %>% \n",
    "group_by(Patient_ID, part_remission_y_n)  %>% \n",
    "tally %>% mutate(Condition2 = paste0(\"PR_\",part_remission_y_n))  %>% \n",
    "dplyr::select(-n, -part_remission_y_n)\n",
    "\n",
    "for( i in 1:length(dataset_list)) {\n",
    "    \n",
    "    dataset_list[[i]]$Condition2  <- NULL\n",
    "    dataset_list[[i]]@meta.data  <- dataset_list[[i]]@meta.data  %>% \n",
    "    left_join(md_for_remission)  %>% mutate(Condition2 = paste(Condition2, Time))  %>% \n",
    "    mutate(Condition2 = ifelse(grepl(Condition2, pattern = \"NA\"), NA_character_,Condition2))\n",
    "    \n",
    "    print(dataset_list[[i]]$Condition2  %>% table)\n",
    "    rownames(dataset_list[[i]]@meta.data)  <- colnames(dataset_list[[i]])\n",
    "}"
   ]
  },
  {
   "cell_type": "code",
   "execution_count": null,
   "id": "56e84e28",
   "metadata": {},
   "outputs": [],
   "source": [
    "md_for_ketoacidosis  <- cd4_l1_full_filt@meta.data  %>% \n",
    "dplyr::filter(Condition %in% c(\"Dia T0\"))  %>% \n",
    "group_by(Patient_ID, ph_man)  %>% \n",
    "tally %>% mutate(Ketoacidosis = ifelse(ph_man<7.3,\"Keto_1\",\"Keto_0\"))  %>% \n",
    "dplyr::select(-ph_man, -n)\n",
    "\n",
    "for( i in 1:length(dataset_list)) {\n",
    "    \n",
    "    #dataset_list[[i]]$Ketoacidosis  <- NULL\n",
    "    dataset_list[[i]]@meta.data  <- dataset_list[[i]]@meta.data  %>% \n",
    "    left_join(md_for_ketoacidosis)   %>% mutate(Keto_Time = paste(Ketoacidosis, Time))  %>% \n",
    "    mutate(Keto_Time = ifelse(grepl(Keto_Time, pattern = \"NA\"), NA_character_,Keto_Time))\n",
    "    \n",
    "    print(dataset_list[[i]]$Ketoacidosis  %>% table)\n",
    "    rownames(dataset_list[[i]]@meta.data)  <- colnames(dataset_list[[i]])\n",
    "}"
   ]
  },
  {
   "cell_type": "code",
   "execution_count": null,
   "id": "354a0db9",
   "metadata": {},
   "outputs": [],
   "source": [
    "plan(\"multisession\", workers = 4)\n",
    "\n",
    "for(i in 1:length(dataset_list)){\n",
    "###### Keto_Time\n",
    "seurat_object  <- subset(dataset_list[[i]], Keto_Time %in% c(\"Keto_1 T0\", \"Keto_0 T0\"))\n",
    "DefaultAssay(seurat_object)  <- \"RNA\"\n",
    "Idents(seurat_object)  <- seurat_object$Keto_Time\n",
    "\n",
    "fc.seurat_object <- FindAllMarkers(seurat_object, \n",
    "                          test.use = \"wilcox\", \n",
    "                          logfc.threshold = -Inf, min.pct = -Inf, min.diff.pct = -Inf,\n",
    "                                   only.pos = F,  \n",
    "                                   min.cells.feature = 1, return.thresh = 1)\n",
    "\n",
    "write.csv(fc.seurat_object, paste0(\"../tables/fold_change/\", names(dataset_list)[i], \"_ketoacidosis.csv\"))\n",
    "    \n",
    "####### PR0 T0 vs PR0 T1\n",
    "seurat_object  <- subset(dataset_list[[i]], Condition2 %in% c(\"PR_0 T0\", \"PR_0 T1\"))\n",
    "DefaultAssay(seurat_object)  <- \"RNA\"\n",
    "Idents(seurat_object)  <- seurat_object$Condition2\n",
    "\n",
    "fc.seurat_object <- FindAllMarkers(seurat_object, \n",
    "                          test.use = \"wilcox\", \n",
    "                          logfc.threshold = -Inf, min.pct = -Inf, min.diff.pct = -Inf,\n",
    "                                   only.pos = F,  \n",
    "                                   min.cells.feature = 1, return.thresh = 1)\n",
    "\n",
    "write.csv(fc.seurat_object, paste0(\"../tables/fold_change/\", names(dataset_list)[i], \"_PR_0_T0_vs_PR_0_T1.csv\"))\n",
    "    \n",
    "####### PR1 T0 vs PR1 T1\n",
    "seurat_object  <- subset(dataset_list[[i]], Condition2 %in% c(\"PR_1 T0\", \"PR_1 T1\"))\n",
    "DefaultAssay(seurat_object)  <- \"RNA\"\n",
    "Idents(seurat_object)  <- seurat_object$Condition2\n",
    "\n",
    "fc.seurat_object <- FindAllMarkers(seurat_object, \n",
    "                          test.use = \"wilcox\", \n",
    "                          logfc.threshold = -Inf, min.pct = -Inf, min.diff.pct = -Inf,\n",
    "                                   only.pos = F,  \n",
    "                                   min.cells.feature = 1, return.thresh = 1)\n",
    "\n",
    "write.csv(fc.seurat_object, paste0(\"../tables/fold_change/\", names(dataset_list)[i], \"_PR_1_T0_vs_PR_1_T1.csv\"))\n",
    "    \n",
    "####### PR0 T0 vs PR1 T0\n",
    "seurat_object  <- subset(dataset_list[[i]], Condition2 %in% c(\"PR_0 T0\", \"PR_1 T0\"))\n",
    "DefaultAssay(seurat_object)  <- \"RNA\"\n",
    "Idents(seurat_object)  <- seurat_object$Condition2\n",
    "\n",
    "fc.seurat_object <- FindAllMarkers(seurat_object, \n",
    "                          test.use = \"wilcox\", \n",
    "                          logfc.threshold = -Inf, min.pct = -Inf, min.diff.pct = -Inf,\n",
    "                                   only.pos = F,  \n",
    "                                   min.cells.feature = 1, return.thresh = 1)\n",
    "\n",
    "write.csv(fc.seurat_object, paste0(\"../tables/fold_change/\", names(dataset_list)[i], \"_PR_0_T0_vs_PR_1_T0.csv\"))\n",
    "    \n",
    "    ####### PR0 T1 vs PR1 T1\n",
    "seurat_object  <- subset(dataset_list[[i]], Condition2 %in% c(\"PR_0 T1\", \"PR_1 T1\"))\n",
    "DefaultAssay(seurat_object)  <- \"RNA\"\n",
    "Idents(seurat_object)  <- seurat_object$Condition2\n",
    "\n",
    "fc.seurat_object <- FindAllMarkers(seurat_object, \n",
    "                          test.use = \"wilcox\", \n",
    "                          logfc.threshold = -Inf, min.pct = -Inf, min.diff.pct = -Inf,\n",
    "                                   only.pos = F,  \n",
    "                                   min.cells.feature = 1, return.thresh = 1)\n",
    "\n",
    "write.csv(fc.seurat_object, paste0(\"../tables/fold_change/\", names(dataset_list)[i], \"_PR_0_T1_vs_PR_1_T1.csv\"))\n",
    "    }"
   ]
  },
  {
   "cell_type": "markdown",
   "id": "07bec32c",
   "metadata": {},
   "source": [
    "## GSEA all pathways"
   ]
  },
  {
   "cell_type": "code",
   "execution_count": null,
   "id": "239910ea",
   "metadata": {},
   "outputs": [],
   "source": [
    "m_df <- msigdbr(species = \"Homo sapiens\", category = \"C7\")\n"
   ]
  },
  {
   "cell_type": "code",
   "execution_count": null,
   "id": "c080cb84",
   "metadata": {},
   "outputs": [],
   "source": [
    "fgsea_sets <- m_df %>% split(x = .$gene_symbol, f = .$gs_name)"
   ]
  },
  {
   "cell_type": "code",
   "execution_count": null,
   "id": "8fb67cce",
   "metadata": {},
   "outputs": [],
   "source": [
    "paths_fc  <- list.files(\"../tables/fold_change\", full.names = T)\n",
    "dataset_names  <- list.files(\"../tables/fold_change\", full.names = F)\n"
   ]
  },
  {
   "cell_type": "code",
   "execution_count": null,
   "id": "5ea105e5",
   "metadata": {},
   "outputs": [],
   "source": [
    "paths_fc"
   ]
  },
  {
   "cell_type": "code",
   "execution_count": null,
   "id": "73acb73c",
   "metadata": {},
   "outputs": [],
   "source": [
    "paths_fc  <- paths_fc[which(grepl(paths_fc, pattern = \"Ctrl\")|grepl(paths_fc, pattern = \"DiaT0_vs_DiaT1\"))]"
   ]
  },
  {
   "cell_type": "code",
   "execution_count": null,
   "id": "8ee69544",
   "metadata": {},
   "outputs": [],
   "source": [
    "dataset_names  <- dataset_names[which(grepl(dataset_names, pattern = \"Ctrl\")|grepl(dataset_names, pattern = \"DiaT0_vs_DiaT1\"))]"
   ]
  },
  {
   "cell_type": "code",
   "execution_count": null,
   "id": "18b8978a",
   "metadata": {
    "scrolled": false
   },
   "outputs": [],
   "source": [
    "dataset_names"
   ]
  },
  {
   "cell_type": "code",
   "execution_count": null,
   "id": "8b7ef5e9",
   "metadata": {},
   "outputs": [],
   "source": [
    "paths_fc"
   ]
  },
  {
   "cell_type": "code",
   "execution_count": null,
   "id": "56ef9035",
   "metadata": {},
   "outputs": [],
   "source": [
    "fc.df  <- read_csv(paths_fc[1])  %>% as.data.frame()"
   ]
  },
  {
   "cell_type": "code",
   "execution_count": null,
   "id": "ba781ea2",
   "metadata": {
    "scrolled": true
   },
   "outputs": [],
   "source": [
    "fc.df %>%  arrange(desc(avg_log2FC)) %>% \n",
    "dplyr::filter(grepl(x = cluster, pattern = \"Dia\")) "
   ]
  },
  {
   "cell_type": "markdown",
   "id": "48c4fc9a",
   "metadata": {},
   "source": [
    "## C7 pathways"
   ]
  },
  {
   "cell_type": "code",
   "execution_count": null,
   "id": "11b65871",
   "metadata": {},
   "outputs": [],
   "source": [
    "gsea_all_pathways  <- function(j) {\n",
    "  print(j)\n",
    "fc.df  <- read_csv(paths_fc[j])  %>% as.data.frame()\n",
    "    if(grepl(paths_fc[j], pattern = \"Ctrl\")){\n",
    "fc.df  <- fc.df  %>%  arrange(desc(avg_log2FC)) %>% \n",
    "dplyr::filter(grepl(cluster, pattern = \"Dia\"))  %>% \n",
    "  dplyr::select(gene, avg_log2FC)\n",
    "ranks<- deframe(fc.df)\n",
    "        } else {\n",
    " fc.df  <- fc.df  %>%  arrange(desc(avg_log2FC)) %>% \n",
    "dplyr::filter(grepl(cluster, pattern = \"Dia T0\"))  %>% \n",
    "  dplyr::select(gene, avg_log2FC)\n",
    "ranks<- deframe(fc.df)       \n",
    "    }\n",
    "fgseaRes <- fgsea(pathways = fgsea_sets, \n",
    "                 stats = ranks)\n",
    " fgseaRes$dataset  <-   gsub(dataset_names[j], pattern = \".csv\", replacement = \"\")\n",
    " return(fgseaRes)\n",
    "    }"
   ]
  },
  {
   "cell_type": "code",
   "execution_count": null,
   "id": "a3edbf09",
   "metadata": {
    "scrolled": true
   },
   "outputs": [],
   "source": [
    "gsea  <- map(.x = c(1:length(paths_fc)), .f = gsea_all_pathways)"
   ]
  },
  {
   "cell_type": "code",
   "execution_count": null,
   "id": "f20fe1a5",
   "metadata": {},
   "outputs": [],
   "source": [
    "gseas  <- bind_rows(gsea)"
   ]
  },
  {
   "cell_type": "code",
   "execution_count": null,
   "id": "dc54572c",
   "metadata": {
    "scrolled": true
   },
   "outputs": [],
   "source": [
    "gseas  %>% arrange(padj)"
   ]
  },
  {
   "cell_type": "code",
   "execution_count": null,
   "id": "9c7b375c",
   "metadata": {},
   "outputs": [],
   "source": [
    "dir.create(\"../tables/gsea\")"
   ]
  },
  {
   "cell_type": "code",
   "execution_count": null,
   "id": "af80522e",
   "metadata": {},
   "outputs": [],
   "source": [
    "gseas_df  <- gseas  %>% as.data.frame"
   ]
  },
  {
   "cell_type": "code",
   "execution_count": null,
   "id": "ce8ba81a",
   "metadata": {
    "scrolled": true
   },
   "outputs": [],
   "source": [
    "gseas_df  <- gseas_df  %>% mutate(\n",
    "    leadingEdge2 = paste(leadingEdge))"
   ]
  },
  {
   "cell_type": "code",
   "execution_count": null,
   "id": "71d41793",
   "metadata": {},
   "outputs": [],
   "source": [
    "gseas_df$leadingEdge  <- NULL"
   ]
  },
  {
   "cell_type": "code",
   "execution_count": null,
   "id": "5f161497",
   "metadata": {},
   "outputs": [],
   "source": [
    "write.csv(gseas_df, \"../tables/gsea/gsea_fold_changes_for_heatmap.csv\")"
   ]
  },
  {
   "cell_type": "code",
   "execution_count": null,
   "id": "c74c717b",
   "metadata": {},
   "outputs": [],
   "source": [
    "gseas_df  <- read_csv(\"../../240218_VN_Diabetes_V05/tables/gsea/gsea_fold_changes_for_heatmap.csv\")"
   ]
  },
  {
   "cell_type": "markdown",
   "id": "855747fc",
   "metadata": {},
   "source": [
    "## Leading edge of GSEA pathways"
   ]
  },
  {
   "cell_type": "code",
   "execution_count": null,
   "id": "74f5910a",
   "metadata": {},
   "outputs": [],
   "source": [
    "gseas_df  <- read_csv(\"../../240218_VN_Diabetes_V05/tables/gsea/gsea_fold_changes_for_heatmap.csv\")"
   ]
  },
  {
   "cell_type": "code",
   "execution_count": null,
   "id": "28fc5e28",
   "metadata": {},
   "outputs": [],
   "source": [
    "gseas_df"
   ]
  },
  {
   "cell_type": "code",
   "execution_count": null,
   "id": "a29a200f",
   "metadata": {},
   "outputs": [],
   "source": [
    "gseas_df  %>% \n",
    "dplyr::filter(grepl(pathway, pattern = \"9650\")) %>% \n",
    "dplyr::select(pathway)  %>% unique"
   ]
  },
  {
   "cell_type": "code",
   "execution_count": null,
   "id": "82df1169",
   "metadata": {},
   "outputs": [],
   "source": [
    "gseas_df  %>% dplyr::filter(pathway %in% c(\"GSE11057_NAIVE_VS_EFF_MEMORY_CD4_TCELL_UP\",\n",
    "                        \n",
    "\"GSE11057_NAIVE_VS_MEMORY_CD4_TCELL_UP\",\n",
    "\"GOLDRATH_NAIVE_VS_MEMORY_CD8_TCELL_DN\",\n",
    "'GOLDRATH_EFF_VS_MEMORY_CD8_TCELL_UP',\n",
    "'GOLDRATH_NAIVE_VS_EFF_CD8_TCELL_DN',\n",
    "'GSE9650_NAIVE_VS_EFF_CD8_TCELL_DN',\n",
    "                                          'GSE9650_NAIVE_VS_EFF_CD8_TCELL_UP'))  %>% \n",
    "dplyr::filter(dataset == \"cd4_l1_full_filt_Ctrl_vs_DiaT0\")"
   ]
  },
  {
   "cell_type": "markdown",
   "id": "6afd4777",
   "metadata": {},
   "source": [
    "## DESEQ"
   ]
  },
  {
   "cell_type": "code",
   "execution_count": null,
   "id": "81c7e75e",
   "metadata": {},
   "outputs": [],
   "source": [
    "m_df<- msigdbr(species = \"Homo sapiens\", category = \"C7\")\n"
   ]
  },
  {
   "cell_type": "code",
   "execution_count": null,
   "id": "cc24f21d",
   "metadata": {},
   "outputs": [],
   "source": [
    "fgsea_sets<- m_df %>% split(x = .$gene_symbol, f = .$gs_name)"
   ]
  },
  {
   "cell_type": "code",
   "execution_count": null,
   "id": "0763af68",
   "metadata": {},
   "outputs": [],
   "source": [
    "paths_fc  <- list.files(\"../tables/fold_change_deseq/\", full.names = T)\n",
    "dataset_names  <- list.files(\"../tables/fold_change_deseq/\", full.names = F)\n"
   ]
  },
  {
   "cell_type": "code",
   "execution_count": null,
   "id": "169f8d6a",
   "metadata": {},
   "outputs": [],
   "source": [
    "paths_fc"
   ]
  },
  {
   "cell_type": "code",
   "execution_count": null,
   "id": "7275e251",
   "metadata": {},
   "outputs": [],
   "source": [
    "paths_fc  <- paths_fc[which(grepl(paths_fc, pattern = \"Ctrl\")|grepl(paths_fc, pattern = \"DiaT0_vs_DiaT1\"))]"
   ]
  },
  {
   "cell_type": "code",
   "execution_count": null,
   "id": "88acb848",
   "metadata": {},
   "outputs": [],
   "source": [
    "dataset_names  <- dataset_names[which(grepl(dataset_names, pattern = \"Ctrl\")|grepl(dataset_names, pattern = \"DiaT0_vs_DiaT1\"))]"
   ]
  },
  {
   "cell_type": "code",
   "execution_count": null,
   "id": "2e1cb5db",
   "metadata": {
    "scrolled": false
   },
   "outputs": [],
   "source": [
    "dataset_names"
   ]
  },
  {
   "cell_type": "code",
   "execution_count": null,
   "id": "9552efeb",
   "metadata": {},
   "outputs": [],
   "source": [
    "paths_fc"
   ]
  },
  {
   "cell_type": "code",
   "execution_count": null,
   "id": "ac649166",
   "metadata": {},
   "outputs": [],
   "source": [
    "fc.df  <- read_csv(paths_fc[1])  %>% as.data.frame()"
   ]
  },
  {
   "cell_type": "code",
   "execution_count": null,
   "id": "d114c60b",
   "metadata": {
    "scrolled": true
   },
   "outputs": [],
   "source": [
    "fc.df %>%  arrange(desc(avg_log2FC)) %>% \n",
    "dplyr::filter(grepl(x = cluster, pattern = \"Dia\")) "
   ]
  },
  {
   "cell_type": "code",
   "execution_count": null,
   "id": "b49ebad9",
   "metadata": {
    "scrolled": true
   },
   "outputs": [],
   "source": [
    "fc.df %>%  arrange(p_val_adj) \n"
   ]
  },
  {
   "cell_type": "markdown",
   "id": "cab5c95d",
   "metadata": {},
   "source": [
    "## C7 pathways"
   ]
  },
  {
   "cell_type": "code",
   "execution_count": null,
   "id": "fb9051c4",
   "metadata": {},
   "outputs": [],
   "source": [
    "gsea_all_pathways  <- function(j) {\n",
    "  print(j)\n",
    "fc.df  <- read_csv(paths_fc[j])  %>% as.data.frame()\n",
    "    if(grepl(paths_fc[j], pattern = \"Ctrl\")){\n",
    "fc.df  <- fc.df  %>%  arrange(desc(avg_log2FC)) %>% \n",
    "dplyr::filter(grepl(cluster, pattern = \"Dia\"))  %>% \n",
    "  dplyr::select(gene, avg_log2FC)\n",
    "ranks<- deframe(fc.df)\n",
    "        } else {\n",
    " fc.df  <- fc.df  %>%  arrange(desc(avg_log2FC)) %>% \n",
    "dplyr::filter(grepl(cluster, pattern = \"Dia T0\"))  %>% \n",
    "  dplyr::select(gene, avg_log2FC)\n",
    "ranks<- deframe(fc.df)       \n",
    "    }\n",
    "fgseaRes <- fgsea(pathways = fgsea_sets, \n",
    "                 stats = ranks)\n",
    " fgseaRes$dataset  <-   gsub(dataset_names[j], pattern = \".csv\", replacement = \"\")\n",
    " return(fgseaRes)\n",
    "    }"
   ]
  },
  {
   "cell_type": "code",
   "execution_count": null,
   "id": "646ee7b8",
   "metadata": {
    "scrolled": true
   },
   "outputs": [],
   "source": [
    "gsea  <- map(.x = c(1:length(paths_fc)), .f = gsea_all_pathways)"
   ]
  },
  {
   "cell_type": "code",
   "execution_count": null,
   "id": "4221acfb",
   "metadata": {},
   "outputs": [],
   "source": [
    "gseas  <- bind_rows(gsea)"
   ]
  },
  {
   "cell_type": "code",
   "execution_count": null,
   "id": "43adcb22",
   "metadata": {
    "scrolled": true
   },
   "outputs": [],
   "source": [
    "gseas  %>% arrange(padj)"
   ]
  },
  {
   "cell_type": "code",
   "execution_count": null,
   "id": "9fc6e69d",
   "metadata": {},
   "outputs": [],
   "source": [
    "dir.create(\"../tables/gsea\")"
   ]
  },
  {
   "cell_type": "code",
   "execution_count": null,
   "id": "f38df509",
   "metadata": {},
   "outputs": [],
   "source": [
    "gseas_df  <- gseas  %>% as.data.frame"
   ]
  },
  {
   "cell_type": "code",
   "execution_count": null,
   "id": "39811e69",
   "metadata": {
    "scrolled": true
   },
   "outputs": [],
   "source": [
    "gseas_df  <- gseas_df  %>% mutate(\n",
    "    leadingEdge2 = paste(leadingEdge))"
   ]
  },
  {
   "cell_type": "code",
   "execution_count": null,
   "id": "326233ad",
   "metadata": {},
   "outputs": [],
   "source": [
    "gseas_df$leadingEdge  <- NULL"
   ]
  },
  {
   "cell_type": "code",
   "execution_count": null,
   "id": "6adc1c75",
   "metadata": {},
   "outputs": [],
   "source": [
    "write.csv(gseas_df, \"../tables/gsea/gsea_fold_changes_for_heatmap.csv\")"
   ]
  },
  {
   "cell_type": "markdown",
   "id": "2ccc568b",
   "metadata": {},
   "source": [
    "## Hallmark pathways"
   ]
  },
  {
   "cell_type": "code",
   "execution_count": null,
   "id": "f2a08b94",
   "metadata": {},
   "outputs": [],
   "source": [
    "m_df<- msigdbr(species = \"Homo sapiens\", category = \"H\")\n",
    "\n",
    "\n",
    "fgsea_sets<- m_df %>% split(x = .$gene_symbol, f = .$gs_name)"
   ]
  },
  {
   "cell_type": "code",
   "execution_count": null,
   "id": "8af5a8b8",
   "metadata": {},
   "outputs": [],
   "source": [
    "names(fgsea_sets)"
   ]
  },
  {
   "cell_type": "code",
   "execution_count": null,
   "id": "68171bcd",
   "metadata": {},
   "outputs": [],
   "source": [
    "gsea_all_pathways  <- function(j) {\n",
    "  print(j)\n",
    "fc.df  <- read_csv(paths_fc[j])  %>% as.data.frame()\n",
    "    if(grepl(paths_fc[j], pattern = \"Ctrl\")){\n",
    "fc.df  <- fc.df  %>%  arrange(desc(avg_log2FC)) %>% \n",
    "dplyr::filter(grepl(cluster, pattern = \"Dia\"))  %>% \n",
    "  dplyr::select(gene, avg_log2FC)\n",
    "ranks<- deframe(fc.df)\n",
    "        } else {\n",
    " fc.df  <- fc.df  %>%  arrange(desc(avg_log2FC)) %>% \n",
    "dplyr::filter(grepl(cluster, pattern = \"Dia T0\"))  %>% \n",
    "  dplyr::select(gene, avg_log2FC)\n",
    "ranks<- deframe(fc.df)       \n",
    "    }\n",
    "fgseaRes <- fgsea(pathways = fgsea_sets, \n",
    "                 stats = ranks)\n",
    " fgseaRes$dataset  <-   gsub(dataset_names[j], pattern = \".csv\", replacement = \"\")\n",
    " return(fgseaRes)\n",
    "    }"
   ]
  },
  {
   "cell_type": "code",
   "execution_count": null,
   "id": "1bec8774",
   "metadata": {
    "scrolled": true
   },
   "outputs": [],
   "source": [
    "gsea  <- map(.x = c(1:length(paths_fc)), .f = gsea_all_pathways)"
   ]
  },
  {
   "cell_type": "code",
   "execution_count": null,
   "id": "597e4976",
   "metadata": {},
   "outputs": [],
   "source": [
    "gseas  <- bind_rows(gsea)"
   ]
  },
  {
   "cell_type": "code",
   "execution_count": null,
   "id": "24395778",
   "metadata": {
    "scrolled": true
   },
   "outputs": [],
   "source": [
    "gseas  %>% arrange(padj)"
   ]
  },
  {
   "cell_type": "code",
   "execution_count": null,
   "id": "10d7caec",
   "metadata": {},
   "outputs": [],
   "source": [
    "gseas_df  <- gseas  %>% as.data.frame"
   ]
  },
  {
   "cell_type": "code",
   "execution_count": null,
   "id": "126c3f91",
   "metadata": {
    "scrolled": true
   },
   "outputs": [],
   "source": [
    "gseas_df  <- gseas_df  %>% mutate(\n",
    "    leadingEdge2 = paste(leadingEdge))"
   ]
  },
  {
   "cell_type": "code",
   "execution_count": null,
   "id": "2dd11bbc",
   "metadata": {},
   "outputs": [],
   "source": [
    "gseas_df$leadingEdge  <- NULL"
   ]
  },
  {
   "cell_type": "code",
   "execution_count": null,
   "id": "72c68c0b",
   "metadata": {},
   "outputs": [],
   "source": [
    "write.csv(gseas_df, \"../tables/gsea/gsea_fold_changes_for_heatmap_hallmark.csv\")"
   ]
  },
  {
   "cell_type": "code",
   "execution_count": null,
   "id": "7afae9ff",
   "metadata": {},
   "outputs": [],
   "source": [
    "gseas_df"
   ]
  },
  {
   "cell_type": "markdown",
   "id": "29913021",
   "metadata": {},
   "source": [
    "## Heatmap immune and hallmark"
   ]
  },
  {
   "cell_type": "code",
   "execution_count": null,
   "id": "43a4f0d4",
   "metadata": {},
   "outputs": [],
   "source": [
    "gseas_hallamrk  <- read_csv(\"../../240218_VN_Diabetes_V05/tables/gsea/gsea_fold_changes_for_heatmap_hallmark.csv\")"
   ]
  },
  {
   "cell_type": "code",
   "execution_count": null,
   "id": "5bfe14f7",
   "metadata": {},
   "outputs": [],
   "source": [
    "gseas_immune  <- read_csv(\"../../240218_VN_Diabetes_V05/tables/gsea/gsea_fold_changes_for_heatmap.csv\")"
   ]
  },
  {
   "cell_type": "code",
   "execution_count": null,
   "id": "08ecf6c9",
   "metadata": {},
   "outputs": [],
   "source": [
    "gseas_both  <- rbind(gseas_immune, gseas_hallamrk)"
   ]
  },
  {
   "cell_type": "code",
   "execution_count": null,
   "id": "ad0479f2",
   "metadata": {},
   "outputs": [],
   "source": [
    "## Enriched at least in 15 population-test_type combinations, padj at least 10-5"
   ]
  },
  {
   "cell_type": "code",
   "execution_count": null,
   "id": "7816331f",
   "metadata": {},
   "outputs": [],
   "source": [
    "gseas_selected  <- gseas_both  %>% dplyr::filter(padj < 0.00001)  %>% group_by(pathway)  %>% tally"
   ]
  },
  {
   "cell_type": "code",
   "execution_count": null,
   "id": "c05e3eec",
   "metadata": {
    "scrolled": true
   },
   "outputs": [],
   "source": [
    "gseas_selected  <- gseas_selected  %>% dplyr::filter(n>5)  %>% pull(pathway)  %>% unique"
   ]
  },
  {
   "cell_type": "code",
   "execution_count": null,
   "id": "bc5aadd5",
   "metadata": {
    "scrolled": true
   },
   "outputs": [],
   "source": [
    "gseas_selected2  <- gseas_both  %>% dplyr::filter(pathway %in% gseas_selected)  %>% \n",
    "dplyr::select(NES, dataset, pathway)  %>% \n",
    "mutate(dataset = gsub(dataset, pattern = \"_Ctrl_vs_DiaT0\", replacement = \".Ctrl_vs_DiaT0\"))  %>% \n",
    "mutate(dataset = gsub(dataset, pattern = \"_Ctrl_vs_DiaT1\", replacement = \".Ctrl_vs_DiaT1\"))  %>% \n",
    "mutate(dataset = gsub(dataset, pattern = \"_DiaT0_vs_DiaT1\", replacement = \".DiaT0_vs_DiaT1\"))  %>% \n",
    "separate(dataset, into = c(\"population\", \"test_type\"), sep = \"\\\\.\", remove = F)  %>% \n",
    "pivot_wider(names_from = \"pathway\", values_from = \"NES\", values_fill = 0) "
   ]
  },
  {
   "cell_type": "code",
   "execution_count": null,
   "id": "721b8467",
   "metadata": {},
   "outputs": [],
   "source": [
    "gseas_mtx  <- gseas_selected2  %>% arrange(test_type, population)  %>% \n",
    "dplyr::select(-dataset, -population, -test_type)  %>% \n",
    "as.matrix()"
   ]
  },
  {
   "cell_type": "code",
   "execution_count": null,
   "id": "37bddf90",
   "metadata": {},
   "outputs": [],
   "source": [
    "rownames(gseas_mtx)  <- gseas_selected2  %>% arrange(test_type, population)  %>% pull(dataset)"
   ]
  },
  {
   "cell_type": "code",
   "execution_count": null,
   "id": "aed86c3f",
   "metadata": {},
   "outputs": [],
   "source": [
    "options(repr.plot.width = 30, repr.plot.height = 18)\n",
    "pheatmap(gseas_mtx[which((grepl(rownames(gseas_mtx), pattern = \"subcluster\")==F) &\n",
    "                         (grepl(rownames(gseas_mtx), pattern = \"_l1_\")==F)),], \n",
    "         main = \"\", scale = \"none\", cluster_cols = T, cluster_rows = F,\n",
    "        color=colorRampPalette(c(\"dodgerblue\", \"grey95\", \"indianred2\"))(50), \n",
    "         border_color = \"white\", width = 9, height = 3.3,\n",
    "                  fontsize = 9)"
   ]
  },
  {
   "cell_type": "code",
   "execution_count": null,
   "id": "94833485",
   "metadata": {},
   "outputs": [],
   "source": []
  },
  {
   "cell_type": "code",
   "execution_count": null,
   "id": "ca19db01",
   "metadata": {},
   "outputs": [],
   "source": [
    "options(repr.plot.width = 30, repr.plot.height = 18)\n",
    "pheatmap(gseas_mtx, main = \"\", scale = \"none\", cluster_cols = T, cluster_rows = F,\n",
    "        color=colorRampPalette(c(\"dodgerblue\", \"grey95\", \"indianred2\"))(50), \n",
    "         border_color = \"white\", width = 40, height = 30,\n",
    "                  fontsize = 9, filename = \"../figures/heatmaps/gsea_heatmap.pdf\")"
   ]
  },
  {
   "cell_type": "code",
   "execution_count": null,
   "id": "554900e3",
   "metadata": {},
   "outputs": [],
   "source": []
  },
  {
   "cell_type": "code",
   "execution_count": null,
   "id": "54c024fc",
   "metadata": {
    "scrolled": true
   },
   "outputs": [],
   "source": [
    "hm_ctrl_diat0  <- pheatmap(gseas_mtx[which((grepl(rownames(gseas_mtx), pattern = \"subcluster\")==F) &\n",
    "                         (grepl(rownames(gseas_mtx), pattern = \"_l1_\")==F) &\n",
    "                        grepl(rownames(gseas_mtx), pattern = \"Ctrl_vs_DiaT0\")),], \n",
    "         main = \"\", scale = \"none\", cluster_cols = T, cluster_rows = T,\n",
    "        color=colorRampPalette(c(\"dodgerblue\", \"grey95\", \"indianred2\"))(50), \n",
    "         border_color = \"white\", width = 9, height = 3.3,\n",
    "                  fontsize = 9)"
   ]
  },
  {
   "cell_type": "code",
   "execution_count": null,
   "id": "816e38f9",
   "metadata": {},
   "outputs": [],
   "source": [
    "rownames(gseas_mtx[which((grepl(rownames(gseas_mtx), pattern = \"subcluster\")==F) &\n",
    "                         (grepl(rownames(gseas_mtx), pattern = \"_l1_\")==F) &\n",
    "                        grepl(rownames(gseas_mtx), pattern = \"Ctrl_vs_DiaT0\")),])[\n",
    "    c(14, 15, 8, 6, 17, 7, 13, 3, 9, 4, 1, 10, 2, 5, 16, 11, 12)]"
   ]
  },
  {
   "cell_type": "code",
   "execution_count": null,
   "id": "ff3f70fc",
   "metadata": {},
   "outputs": [],
   "source": [
    "rownames(gseas_mtx[which((grepl(rownames(gseas_mtx), pattern = \"subcluster\")==F) &\n",
    "                         (grepl(rownames(gseas_mtx), pattern = \"_l1_\")==F) &\n",
    "                        grepl(rownames(gseas_mtx), pattern = \"Ctrl_vs_DiaT1\")),])[\n",
    "    c(14, 15, 8, 6, 17, 7, 13, 3, 9, 4, 1, 10, 2, 5, 16, 11, 12)]"
   ]
  },
  {
   "cell_type": "code",
   "execution_count": null,
   "id": "72821187",
   "metadata": {},
   "outputs": [],
   "source": [
    "options(repr.plot.width = 30, repr.plot.height = 18)\n",
    "pheatmap(gseas_mtx[c(rownames(gseas_mtx[which((grepl(rownames(gseas_mtx), pattern = \"subcluster\")==F) &\n",
    "                         (grepl(rownames(gseas_mtx), pattern = \"_l1_\")==F) &\n",
    "                        grepl(rownames(gseas_mtx), pattern = \"Ctrl_vs_DiaT0\")),])[\n",
    "    c(14, 15, 8, 6, 17, 7, 13, 3, 9, 4, 1, 10, 2, 5, 16, 11, 12)],\n",
    "                    rownames(gseas_mtx[which((grepl(rownames(gseas_mtx), pattern = \"subcluster\")==F) &\n",
    "                         (grepl(rownames(gseas_mtx), pattern = \"_l1_\")==F) &\n",
    "                        grepl(rownames(gseas_mtx), pattern = \"Ctrl_vs_DiaT1\")),])[\n",
    "    c(14, 15, 8, 6, 17, 7, 13, 3, 9, 4, 1, 10, 2, 5, 16, 11, 12)],\n",
    "                    rownames(gseas_mtx[which((grepl(rownames(gseas_mtx), pattern = \"subcluster\")==F) &\n",
    "                         (grepl(rownames(gseas_mtx), pattern = \"_l1_\")==F) &\n",
    "                        grepl(rownames(gseas_mtx), pattern = \"DiaT0_vs_DiaT1\")),])[\n",
    "    c(14, 15, 8, 6, 17, 7, 13, 3, 9, 4, 1, 10, 2, 5, 16, 11, 12)]),], \n",
    "         main = \"\", scale = \"none\", cluster_cols = T, cluster_rows = F,\n",
    "        color=colorRampPalette(c(\"dodgerblue\", \"grey95\", \"indianred2\"))(50), \n",
    "         border_color = \"white\", width = 9, height = 3.3,\n",
    "                  fontsize = 9)"
   ]
  },
  {
   "cell_type": "code",
   "execution_count": null,
   "id": "4600e3e2",
   "metadata": {},
   "outputs": [],
   "source": [
    "options(repr.plot.width = 30, repr.plot.height = 18)\n",
    "\n",
    "pheatmap(gseas_mtx[c(rownames(gseas_mtx[which((grepl(rownames(gseas_mtx), pattern = \"subcluster\")==F) &\n",
    "                         (grepl(rownames(gseas_mtx), pattern = \"_l1_\")==F) &\n",
    "                        grepl(rownames(gseas_mtx), pattern = \"Ctrl_vs_DiaT0\")),])[\n",
    "    c(14, 15, 8, 6, 17, 7, 13, 3, 9, 4, 1, 10, 2, 5, 16, 11, 12)],\n",
    "                    rownames(gseas_mtx[which((grepl(rownames(gseas_mtx), pattern = \"subcluster\")==F) &\n",
    "                         (grepl(rownames(gseas_mtx), pattern = \"_l1_\")==F) &\n",
    "                        grepl(rownames(gseas_mtx), pattern = \"Ctrl_vs_DiaT1\")),])[\n",
    "    c(14, 15, 8, 6, 17, 7, 13, 3, 9, 4, 1, 10, 2, 5, 16, 11, 12)],\n",
    "                    rownames(gseas_mtx[which((grepl(rownames(gseas_mtx), pattern = \"subcluster\")==F) &\n",
    "                         (grepl(rownames(gseas_mtx), pattern = \"_l1_\")==F) &\n",
    "                        grepl(rownames(gseas_mtx), pattern = \"DiaT0_vs_DiaT1\")),])[\n",
    "    c(14, 15, 8, 6, 17, 7, 13, 3, 9, 4, 1, 10, 2, 5, 16, 11, 12)]),], \n",
    "         main = \"\", scale = \"none\", cluster_cols = T, cluster_rows = F,\n",
    "        color=colorRampPalette(c(\"dodgerblue\", \"grey95\", \"indianred2\"))(50), \n",
    "         border_color = \"white\", width = 30, height = 15,\n",
    "                  fontsize = 9, filename = \"../figures/heatmaps/gsea_heatmap_ordered_with_hallmark.pdf\")"
   ]
  },
  {
   "cell_type": "markdown",
   "id": "49783fd5",
   "metadata": {},
   "source": [
    "### Try with insignificant white"
   ]
  },
  {
   "cell_type": "code",
   "execution_count": null,
   "id": "3fc4232c",
   "metadata": {},
   "outputs": [],
   "source": [
    "## Enriched at least in 15 population-test_type combinations, padj at least 10-5"
   ]
  },
  {
   "cell_type": "code",
   "execution_count": null,
   "id": "2fe5221c",
   "metadata": {},
   "outputs": [],
   "source": [
    "gseas_selected  <- gseas_both  %>% dplyr::filter(padj < 0.01)  %>% group_by(pathway)  %>% tally"
   ]
  },
  {
   "cell_type": "code",
   "execution_count": null,
   "id": "c5357c42",
   "metadata": {
    "scrolled": true
   },
   "outputs": [],
   "source": [
    "gseas_selected  <- gseas_selected  %>% dplyr::filter(n>10)  %>% pull(pathway)  %>% unique"
   ]
  },
  {
   "cell_type": "code",
   "execution_count": null,
   "id": "e3dc0d5f",
   "metadata": {
    "scrolled": true
   },
   "outputs": [],
   "source": [
    "gseas_selected2  <- gseas_both  %>% dplyr::filter(pathway %in% gseas_selected)  %>% \n",
    "mutate(NES = ifelse(padj>0.05,NES/5,NES))  %>% \n",
    "dplyr::select(NES, dataset, pathway)  %>% \n",
    "mutate(dataset = gsub(dataset, pattern = \"_Ctrl_vs_DiaT0\", replacement = \".Ctrl_vs_DiaT0\"))  %>% \n",
    "mutate(dataset = gsub(dataset, pattern = \"_Ctrl_vs_DiaT1\", replacement = \".Ctrl_vs_DiaT1\"))  %>% \n",
    "mutate(dataset = gsub(dataset, pattern = \"_DiaT0_vs_DiaT1\", replacement = \".DiaT0_vs_DiaT1\"))  %>% \n",
    "separate(dataset, into = c(\"population\", \"test_type\"), sep = \"\\\\.\", remove = F)  %>% \n",
    "pivot_wider(names_from = \"pathway\", values_from = \"NES\", values_fill = 0) "
   ]
  },
  {
   "cell_type": "code",
   "execution_count": null,
   "id": "8bad2556",
   "metadata": {},
   "outputs": [],
   "source": [
    "gseas_mtx  <- gseas_selected2  %>% arrange(test_type, population)  %>% \n",
    "dplyr::select(-dataset, -population, -test_type)  %>% \n",
    "as.matrix()"
   ]
  },
  {
   "cell_type": "code",
   "execution_count": null,
   "id": "b4c0df6f",
   "metadata": {},
   "outputs": [],
   "source": [
    "rownames(gseas_mtx)  <- gseas_selected2  %>% arrange(test_type, population)  %>% pull(dataset)"
   ]
  },
  {
   "cell_type": "code",
   "execution_count": null,
   "id": "d5cf73f6",
   "metadata": {
    "scrolled": true
   },
   "outputs": [],
   "source": [
    "options(repr.plot.width = 30, repr.plot.height = 18)\n",
    "hm_ctrl_diat0  <- pheatmap(gseas_mtx[which((grepl(rownames(gseas_mtx), pattern = \"subcluster\")==F) &\n",
    "                         (grepl(rownames(gseas_mtx), pattern = \"_l1_\")==F) &\n",
    "                        grepl(rownames(gseas_mtx), pattern = \"Ctrl_vs_DiaT0\")),], \n",
    "         main = \"\", scale = \"none\", cluster_cols = T, cluster_rows = T,\n",
    "        color=colorRampPalette(c(\"dodgerblue\", \"grey95\", \"indianred2\"))(50), \n",
    "         border_color = \"white\", width = 9, height = 3.3,\n",
    "                  fontsize = 9)"
   ]
  },
  {
   "cell_type": "code",
   "execution_count": null,
   "id": "a1b57d28",
   "metadata": {},
   "outputs": [],
   "source": [
    "rownames(gseas_mtx[which((grepl(rownames(gseas_mtx), pattern = \"subcluster\")==F) &\n",
    "                         (grepl(rownames(gseas_mtx), pattern = \"_l1_\")==F) &\n",
    "                        grepl(rownames(gseas_mtx), pattern = \"Ctrl_vs_DiaT0\")),])[\n",
    "    c(14, 15, 8, 6, 17, 7, 13, 3, 9, 4, 1, 10, 2, 5, 16, 11, 12)]"
   ]
  },
  {
   "cell_type": "code",
   "execution_count": null,
   "id": "7f3bb90b",
   "metadata": {},
   "outputs": [],
   "source": [
    "rownames(gseas_mtx[which((grepl(rownames(gseas_mtx), pattern = \"subcluster\")==F) &\n",
    "                         (grepl(rownames(gseas_mtx), pattern = \"_l1_\")==F) &\n",
    "                        grepl(rownames(gseas_mtx), pattern = \"Ctrl_vs_DiaT1\")),])[\n",
    "    c(14, 15, 8, 6, 17, 7, 13, 3, 9, 4, 1, 10, 2, 5, 16, 11, 12)]"
   ]
  },
  {
   "cell_type": "code",
   "execution_count": null,
   "id": "6578e203",
   "metadata": {},
   "outputs": [],
   "source": [
    "options(repr.plot.width = 30, repr.plot.height = 18)\n",
    "pheatmap(gseas_mtx[c(rownames(gseas_mtx[which((grepl(rownames(gseas_mtx), pattern = \"subcluster\")==F) &\n",
    "                         (grepl(rownames(gseas_mtx), pattern = \"_l1_\")==F) &\n",
    "                        grepl(rownames(gseas_mtx), pattern = \"Ctrl_vs_DiaT0\")),])[\n",
    "    c(14, 15, 8, 6, 17, 7, 13, 3, 9, 4, 1, 10, 2, 5, 16, 11, 12)],\n",
    "                    rownames(gseas_mtx[which((grepl(rownames(gseas_mtx), pattern = \"subcluster\")==F) &\n",
    "                         (grepl(rownames(gseas_mtx), pattern = \"_l1_\")==F) &\n",
    "                        grepl(rownames(gseas_mtx), pattern = \"Ctrl_vs_DiaT1\")),])[\n",
    "    c(14, 15, 8, 6, 17, 7, 13, 3, 9, 4, 1, 10, 2, 5, 16, 11, 12)],\n",
    "                    rownames(gseas_mtx[which((grepl(rownames(gseas_mtx), pattern = \"subcluster\")==F) &\n",
    "                         (grepl(rownames(gseas_mtx), pattern = \"_l1_\")==F) &\n",
    "                        grepl(rownames(gseas_mtx), pattern = \"DiaT0_vs_DiaT1\")),])[\n",
    "    c(14, 15, 8, 6, 17, 7, 13, 3, 9, 4, 1, 10, 2, 5, 16, 11, 12)]),], \n",
    "         main = \"\", scale = \"none\", cluster_cols = T, cluster_rows = F,\n",
    "        color=colorRampPalette(c(\"dodgerblue\", \"grey95\", \"indianred2\"))(50), \n",
    "         border_color = \"white\", width = 9, height = 3.3,\n",
    "                  fontsize = 9)"
   ]
  },
  {
   "cell_type": "code",
   "execution_count": null,
   "id": "ff62930f",
   "metadata": {},
   "outputs": [],
   "source": [
    "options(repr.plot.width = 30, repr.plot.height = 18)\n",
    "pheatmap(gseas_mtx[c(rownames(gseas_mtx[which((grepl(rownames(gseas_mtx), pattern = \"subcluster\")==F) &\n",
    "                         (grepl(rownames(gseas_mtx), pattern = \"_l1_\")==F) &\n",
    "                        grepl(rownames(gseas_mtx), pattern = \"Ctrl_vs_DiaT0\")),])[\n",
    "    c(14, 15, 8, 6, 17, 7, 13, 3, 9, 4, 1, 10, 2, 5, 16, 11, 12)],\n",
    "                    rownames(gseas_mtx[which((grepl(rownames(gseas_mtx), pattern = \"subcluster\")==F) &\n",
    "                         (grepl(rownames(gseas_mtx), pattern = \"_l1_\")==F) &\n",
    "                        grepl(rownames(gseas_mtx), pattern = \"Ctrl_vs_DiaT1\")),])[\n",
    "    c(14, 15, 8, 6, 17, 7, 13, 3, 9, 4, 1, 10, 2, 5, 16, 11, 12)],\n",
    "                    rownames(gseas_mtx[which((grepl(rownames(gseas_mtx), pattern = \"subcluster\")==F) &\n",
    "                         (grepl(rownames(gseas_mtx), pattern = \"_l1_\")==F) &\n",
    "                        grepl(rownames(gseas_mtx), pattern = \"DiaT0_vs_DiaT1\")),])[\n",
    "    c(14, 15, 8, 6, 17, 7, 13, 3, 9, 4, 1, 10, 2, 5, 16, 11, 12)]),], \n",
    "         main = \"\", scale = \"none\", cluster_cols = T, cluster_rows = F,\n",
    "        color=colorRampPalette(c(\"dodgerblue\", \"grey95\", \"indianred2\"))(50), \n",
    "         border_color = \"white\", width = 9, height = 3.3,\n",
    "                  fontsize = 9)"
   ]
  },
  {
   "cell_type": "code",
   "execution_count": null,
   "id": "c338b844",
   "metadata": {},
   "outputs": [],
   "source": [
    "options(repr.plot.width = 30, repr.plot.height = 18)\n",
    "\n",
    "pheatmap(gseas_mtx[c(rownames(gseas_mtx[which((grepl(rownames(gseas_mtx), pattern = \"subcluster\")==F) &\n",
    "                         (grepl(rownames(gseas_mtx), pattern = \"_l1_\")==F) &\n",
    "                        grepl(rownames(gseas_mtx), pattern = \"Ctrl_vs_DiaT0\")),])[\n",
    "    c(14, 15, 8, 6, 17, 7, 13, 3, 9, 4, 1, 10, 2, 5, 16, 11, 12)],\n",
    "                    rownames(gseas_mtx[which((grepl(rownames(gseas_mtx), pattern = \"subcluster\")==F) &\n",
    "                         (grepl(rownames(gseas_mtx), pattern = \"_l1_\")==F) &\n",
    "                        grepl(rownames(gseas_mtx), pattern = \"Ctrl_vs_DiaT1\")),])[\n",
    "    c(14, 15, 8, 6, 17, 7, 13, 3, 9, 4, 1, 10, 2, 5, 16, 11, 12)],\n",
    "                    rownames(gseas_mtx[which((grepl(rownames(gseas_mtx), pattern = \"subcluster\")==F) &\n",
    "                         (grepl(rownames(gseas_mtx), pattern = \"_l1_\")==F) &\n",
    "                        grepl(rownames(gseas_mtx), pattern = \"DiaT0_vs_DiaT1\")),])[\n",
    "    c(14, 15, 8, 6, 17, 7, 13, 3, 9, 4, 1, 10, 2, 5, 16, 11, 12)]),], \n",
    "         main = \"\", scale = \"none\", cluster_cols = T, cluster_rows = F,\n",
    "        color=colorRampPalette(c(\"dodgerblue\", \"grey95\", \"indianred2\"))(50), \n",
    "         border_color = \"white\", width = 45, height = 20,\n",
    "                  fontsize = 9, filename = \"../figures/heatmaps/gsea_heatmap_ordered_with_hallmark_white.pdf\")"
   ]
  },
  {
   "cell_type": "code",
   "execution_count": null,
   "id": "f7a3baa6",
   "metadata": {},
   "outputs": [],
   "source": []
  },
  {
   "cell_type": "markdown",
   "id": "557d7366",
   "metadata": {},
   "source": [
    "## Heatmap"
   ]
  },
  {
   "cell_type": "code",
   "execution_count": null,
   "id": "f00ffdda",
   "metadata": {},
   "outputs": [],
   "source": [
    "gseas_selected  <- gseas_both  %>% dplyr::filter(padj < 0.00000001)  %>% pull(pathway)  %>% unique"
   ]
  },
  {
   "cell_type": "code",
   "execution_count": null,
   "id": "113d7053",
   "metadata": {},
   "outputs": [],
   "source": [
    "gseas_selected  %>% length"
   ]
  },
  {
   "cell_type": "code",
   "execution_count": null,
   "id": "e644827a",
   "metadata": {
    "scrolled": true
   },
   "outputs": [],
   "source": [
    "gseas_selected2  <- gseas_both  %>% dplyr::filter(pathway %in% gseas_selected)  %>% \n",
    "dplyr::select(NES, dataset, pathway)  %>% \n",
    "mutate(dataset = gsub(dataset, pattern = \"_Ctrl_vs_DiaT0\", replacement = \".Ctrl_vs_DiaT0\"))  %>% \n",
    "mutate(dataset = gsub(dataset, pattern = \"_Ctrl_vs_DiaT1\", replacement = \".Ctrl_vs_DiaT1\"))  %>% \n",
    "mutate(dataset = gsub(dataset, pattern = \"_DiaT0_vs_DiaT1\", replacement = \".DiaT0_vs_DiaT1\"))  %>% \n",
    "separate(dataset, into = c(\"population\", \"test_type\"), sep = \"\\\\.\", remove = F)  %>% \n",
    "pivot_wider(names_from = \"pathway\", values_from = \"NES\", values_fill = 0) "
   ]
  },
  {
   "cell_type": "code",
   "execution_count": null,
   "id": "295bece0",
   "metadata": {},
   "outputs": [],
   "source": [
    "gseas_mtx  <- gseas_selected2  %>% arrange(test_type, population)  %>% \n",
    "dplyr::select(-dataset, -population, -test_type)  %>% \n",
    "as.matrix()"
   ]
  },
  {
   "cell_type": "code",
   "execution_count": null,
   "id": "27e0f8f9",
   "metadata": {},
   "outputs": [],
   "source": [
    "rownames(gseas_mtx)  <- gseas_selected2  %>% arrange(test_type, population)  %>% pull(dataset)"
   ]
  },
  {
   "cell_type": "code",
   "execution_count": null,
   "id": "8a7df0fa",
   "metadata": {},
   "outputs": [],
   "source": [
    "options(repr.plot.width = 30, repr.plot.height = 18)\n",
    "pheatmap(gseas_mtx, main = \"\", scale = \"none\", cluster_cols = T, cluster_rows = F,\n",
    "        color=colorRampPalette(c(\"dodgerblue\", \"grey95\", \"indianred2\"))(50), \n",
    "         border_color = \"white\", width = 9, height = 3.3,\n",
    "                  fontsize = 9)"
   ]
  },
  {
   "cell_type": "code",
   "execution_count": null,
   "id": "f434d63d",
   "metadata": {},
   "outputs": [],
   "source": [
    "options(repr.plot.width = 30, repr.plot.height = 18)\n",
    "pheatmap(gseas_mtx, main = \"\", scale = \"none\", cluster_cols = T, cluster_rows = F,\n",
    "        color=colorRampPalette(c(\"dodgerblue\", \"grey95\", \"indianred2\"))(50), \n",
    "         border_color = \"white\", width = 40, height = 30,\n",
    "                  fontsize = 9, filename = \"../figures/heatmaps/gsea_heatmap.pdf\")"
   ]
  },
  {
   "cell_type": "code",
   "execution_count": null,
   "id": "a050e24e",
   "metadata": {},
   "outputs": [],
   "source": [
    "write.csv(colnames(gseas_mtx), \"../tables/gsea/gseas_top_in_ehatmap_picture.csv\")"
   ]
  },
  {
   "cell_type": "markdown",
   "id": "deee4c46",
   "metadata": {},
   "source": [
    "## GSEA heatmap v07"
   ]
  },
  {
   "cell_type": "code",
   "execution_count": null,
   "id": "ad70a62f",
   "metadata": {},
   "outputs": [],
   "source": [
    "gseas_mtx  <- gseas_selected2  %>% arrange(test_type, population)  %>% \n",
    "dplyr::select(-dataset, -population, -test_type)  %>% \n",
    "as.matrix()"
   ]
  },
  {
   "cell_type": "code",
   "execution_count": null,
   "id": "a1853f1f",
   "metadata": {},
   "outputs": [],
   "source": [
    "which(colnames(gseas_selected2) %in% c(\"GOLDRATH_EFF_VS_MEMORY_CD8_TCELL_UP\",\n",
    "\"GOLDRATH_NAIVE_VS_EFF_CD8_TCELL_DN\",\n",
    "                                       \"GSE11057_NAIVE_VS_EFF_MEMORY_CD4_TCELL_DN\",\n",
    "                                       \"GSE11057_NAIVE_VS_EFF_MEMORY_CD4_TCELL_UP\"                                       ))"
   ]
  },
  {
   "cell_type": "code",
   "execution_count": null,
   "id": "729ee821",
   "metadata": {
    "scrolled": true
   },
   "outputs": [],
   "source": [
    "gseas_selected2"
   ]
  },
  {
   "cell_type": "code",
   "execution_count": null,
   "id": "5d5e00db",
   "metadata": {},
   "outputs": [],
   "source": [
    "gseas_selected3  <- gseas_selected2  %>% arrange(test_type, population)  %>% \n",
    "dplyr::select(1,2,3,21,22,39,40)  %>% \n",
    "dplyr::select(-dataset, -population, -test_type)  %>% \n",
    "as.matrix()\n"
   ]
  },
  {
   "cell_type": "code",
   "execution_count": null,
   "id": "ba5a15ac",
   "metadata": {
    "scrolled": true
   },
   "outputs": [],
   "source": [
    "gseas_selected3"
   ]
  },
  {
   "cell_type": "code",
   "execution_count": null,
   "id": "897500a6",
   "metadata": {},
   "outputs": [],
   "source": [
    "pheatmap(gseas_selected3, colorRampPalette(c(\"dodgerblue\", \"grey95\", \"indianred2\"))(50))"
   ]
  },
  {
   "cell_type": "markdown",
   "id": "a345ea2d",
   "metadata": {},
   "source": [
    "# GSEA in KetoAcidosis and Remission"
   ]
  },
  {
   "cell_type": "code",
   "execution_count": null,
   "id": "a0c010d4",
   "metadata": {},
   "outputs": [],
   "source": [
    "library(msigdbr)"
   ]
  },
  {
   "cell_type": "code",
   "execution_count": null,
   "id": "f8d73837",
   "metadata": {},
   "outputs": [],
   "source": [
    "m_df<- msigdbr(species = \"Homo sapiens\", category = \"C7\")\n"
   ]
  },
  {
   "cell_type": "code",
   "execution_count": null,
   "id": "86088af5",
   "metadata": {},
   "outputs": [],
   "source": [
    "fgsea_sets<- m_df %>% split(x = .$gene_symbol, f = .$gs_name)"
   ]
  },
  {
   "cell_type": "code",
   "execution_count": null,
   "id": "f199cf8c",
   "metadata": {},
   "outputs": [],
   "source": [
    "paths_fc  <- list.files(\"../tables/fold_change\", full.names = T)\n",
    "dataset_names  <- list.files(\"../tables/fold_change\", full.names = F)\n"
   ]
  },
  {
   "cell_type": "code",
   "execution_count": null,
   "id": "4ea122cd",
   "metadata": {},
   "outputs": [],
   "source": [
    "paths_fc"
   ]
  },
  {
   "cell_type": "code",
   "execution_count": null,
   "id": "b9584a1f",
   "metadata": {},
   "outputs": [],
   "source": [
    "paths_fc  <- paths_fc[which(grepl(paths_fc, pattern = \"ketoacidosis\")|grepl(paths_fc, pattern = \"PR_0_T0_vs_PR_1_T0\"))]"
   ]
  },
  {
   "cell_type": "code",
   "execution_count": null,
   "id": "75d3c489",
   "metadata": {},
   "outputs": [],
   "source": [
    "dataset_names  <- dataset_names[which(grepl(dataset_names, pattern = \"ketoacidosis\")|grepl(dataset_names, pattern = \"PR_0_T0_vs_PR_1_T0\"))]"
   ]
  },
  {
   "cell_type": "code",
   "execution_count": null,
   "id": "e9904a91",
   "metadata": {
    "scrolled": false
   },
   "outputs": [],
   "source": [
    "dataset_names"
   ]
  },
  {
   "cell_type": "code",
   "execution_count": null,
   "id": "f74bfa71",
   "metadata": {},
   "outputs": [],
   "source": [
    "paths_fc"
   ]
  },
  {
   "cell_type": "code",
   "execution_count": null,
   "id": "c9ab1ca0",
   "metadata": {},
   "outputs": [],
   "source": [
    "fc.df  <- read_csv(paths_fc[2])  %>% as.data.frame()"
   ]
  },
  {
   "cell_type": "code",
   "execution_count": null,
   "id": "dfcd92ef",
   "metadata": {
    "scrolled": true
   },
   "outputs": [],
   "source": [
    "fc.df"
   ]
  },
  {
   "cell_type": "markdown",
   "id": "e18e1f01",
   "metadata": {},
   "source": [
    "## C7 pathways"
   ]
  },
  {
   "cell_type": "code",
   "execution_count": null,
   "id": "d7f985f5",
   "metadata": {},
   "outputs": [],
   "source": [
    "gsea_all_pathways  <- function(j) {\n",
    "  print(j)\n",
    "fc.df  <- read_csv(paths_fc[j])  %>% as.data.frame()\n",
    "    if(grepl(paths_fc[j], pattern = \"PR_0_T0\")){\n",
    "fc.df  <- fc.df  %>%  arrange(desc(avg_log2FC)) %>% \n",
    "dplyr::filter(grepl(cluster, pattern = \"PR_0 T0\"))  %>% \n",
    "  dplyr::select(gene, avg_log2FC)\n",
    "ranks<- deframe(fc.df)\n",
    "        } else {\n",
    " fc.df  <- fc.df  %>%  arrange(desc(avg_log2FC)) %>% \n",
    "dplyr::filter(grepl(cluster, pattern = \"Keto_1 T0\"))  %>% \n",
    "  dplyr::select(gene, avg_log2FC)\n",
    "ranks<- deframe(fc.df)       \n",
    "    }\n",
    "fgseaRes <- fgsea(pathways = fgsea_sets, \n",
    "                 stats = ranks)\n",
    " fgseaRes$dataset  <-   gsub(dataset_names[j], pattern = \".csv\", replacement = \"\")\n",
    " return(fgseaRes)\n",
    "    }"
   ]
  },
  {
   "cell_type": "code",
   "execution_count": null,
   "id": "a41d799b",
   "metadata": {
    "scrolled": true
   },
   "outputs": [],
   "source": [
    "gsea  <- map(.x = c(1:length(paths_fc)), .f = gsea_all_pathways)"
   ]
  },
  {
   "cell_type": "code",
   "execution_count": null,
   "id": "5a2d0be4",
   "metadata": {},
   "outputs": [],
   "source": [
    "gseas  <- bind_rows(gsea)"
   ]
  },
  {
   "cell_type": "code",
   "execution_count": null,
   "id": "293a6a8e",
   "metadata": {
    "scrolled": true
   },
   "outputs": [],
   "source": [
    "gseas  %>% arrange(padj)"
   ]
  },
  {
   "cell_type": "code",
   "execution_count": null,
   "id": "e19c9f6e",
   "metadata": {},
   "outputs": [],
   "source": [
    "dir.create(\"../tables/gsea\")"
   ]
  },
  {
   "cell_type": "code",
   "execution_count": null,
   "id": "eafb60db",
   "metadata": {},
   "outputs": [],
   "source": [
    "gseas_df  <- gseas  %>% as.data.frame"
   ]
  },
  {
   "cell_type": "code",
   "execution_count": null,
   "id": "bff7b789",
   "metadata": {
    "scrolled": true
   },
   "outputs": [],
   "source": [
    "gseas_df  <- gseas_df  %>% mutate(\n",
    "    leadingEdge2 = paste(leadingEdge))"
   ]
  },
  {
   "cell_type": "code",
   "execution_count": null,
   "id": "58144411",
   "metadata": {},
   "outputs": [],
   "source": [
    "gseas_df$leadingEdge  <- NULL"
   ]
  },
  {
   "cell_type": "code",
   "execution_count": null,
   "id": "78603eed",
   "metadata": {},
   "outputs": [],
   "source": [
    "write.csv(gseas_df, \"../tables/gsea/gsea_fold_changes_for_heatmap_ketoPR.csv\")"
   ]
  },
  {
   "cell_type": "code",
   "execution_count": null,
   "id": "69b64af2",
   "metadata": {},
   "outputs": [],
   "source": [
    "gseas_df"
   ]
  },
  {
   "cell_type": "markdown",
   "id": "6064c9af",
   "metadata": {},
   "source": [
    "## Hallmark pathways"
   ]
  },
  {
   "cell_type": "code",
   "execution_count": null,
   "id": "4ca844bd",
   "metadata": {},
   "outputs": [],
   "source": [
    "m_df<- msigdbr(species = \"Homo sapiens\", category = \"H\")\n",
    "\n",
    "\n",
    "fgsea_sets<- m_df %>% split(x = .$gene_symbol, f = .$gs_name)"
   ]
  },
  {
   "cell_type": "code",
   "execution_count": null,
   "id": "98d6bee8",
   "metadata": {
    "scrolled": true
   },
   "outputs": [],
   "source": [
    "names(fgsea_sets)"
   ]
  },
  {
   "cell_type": "code",
   "execution_count": null,
   "id": "67c1ba78",
   "metadata": {},
   "outputs": [],
   "source": [
    "gsea_all_pathways  <- function(j) {\n",
    "  print(j)\n",
    "fc.df  <- read_csv(paths_fc[j])  %>% as.data.frame()\n",
    "    if(grepl(paths_fc[j], pattern = \"PR_0_T0\")){\n",
    "fc.df  <- fc.df  %>%  arrange(desc(avg_log2FC)) %>% \n",
    "dplyr::filter(grepl(cluster, pattern = \"PR_0 T0\"))  %>% \n",
    "  dplyr::select(gene, avg_log2FC)\n",
    "ranks<- deframe(fc.df)\n",
    "        } else {\n",
    " fc.df  <- fc.df  %>%  arrange(desc(avg_log2FC)) %>% \n",
    "dplyr::filter(grepl(cluster, pattern = \"Keto_1 T0\"))  %>% \n",
    "  dplyr::select(gene, avg_log2FC)\n",
    "ranks<- deframe(fc.df)       \n",
    "    }\n",
    "fgseaRes <- fgsea(pathways = fgsea_sets, \n",
    "                 stats = ranks)\n",
    " fgseaRes$dataset  <-   gsub(dataset_names[j], pattern = \".csv\", replacement = \"\")\n",
    " return(fgseaRes)\n",
    "    }"
   ]
  },
  {
   "cell_type": "code",
   "execution_count": null,
   "id": "d8d3e27a",
   "metadata": {
    "scrolled": true
   },
   "outputs": [],
   "source": [
    "gsea  <- map(.x = c(1:length(paths_fc)), .f = gsea_all_pathways)"
   ]
  },
  {
   "cell_type": "code",
   "execution_count": null,
   "id": "01d01de4",
   "metadata": {},
   "outputs": [],
   "source": [
    "gseas  <- bind_rows(gsea)"
   ]
  },
  {
   "cell_type": "code",
   "execution_count": null,
   "id": "fcf25613",
   "metadata": {
    "scrolled": true
   },
   "outputs": [],
   "source": [
    "gseas  %>% arrange(padj)"
   ]
  },
  {
   "cell_type": "code",
   "execution_count": null,
   "id": "495a532c",
   "metadata": {},
   "outputs": [],
   "source": [
    "gseas_df  <- gseas  %>% as.data.frame"
   ]
  },
  {
   "cell_type": "code",
   "execution_count": null,
   "id": "e5ae7863",
   "metadata": {
    "scrolled": true
   },
   "outputs": [],
   "source": [
    "gseas_df  <- gseas_df  %>% mutate(\n",
    "    leadingEdge2 = paste(leadingEdge))"
   ]
  },
  {
   "cell_type": "code",
   "execution_count": null,
   "id": "a8e98a9b",
   "metadata": {},
   "outputs": [],
   "source": [
    "gseas_df$leadingEdge  <- NULL"
   ]
  },
  {
   "cell_type": "code",
   "execution_count": null,
   "id": "56ba3a05",
   "metadata": {},
   "outputs": [],
   "source": [
    "write.csv(gseas_df, \"../tables/gsea/gsea_fold_changes_for_heatmap_hallmark_ketoPR.csv\")"
   ]
  },
  {
   "cell_type": "code",
   "execution_count": null,
   "id": "0dc1aa1e",
   "metadata": {},
   "outputs": [],
   "source": [
    "gseas_df"
   ]
  },
  {
   "cell_type": "markdown",
   "id": "e01f8941",
   "metadata": {},
   "source": [
    "## Heatmap of selected GSEAS V07"
   ]
  },
  {
   "cell_type": "code",
   "execution_count": null,
   "id": "6c778859",
   "metadata": {},
   "outputs": [],
   "source": [
    "paths_fc  <- list.files(\"../../240617_VN_Diabetes_V06/tables/gsea/\", full.names = T)\n"
   ]
  },
  {
   "cell_type": "code",
   "execution_count": null,
   "id": "38d7fc59",
   "metadata": {},
   "outputs": [],
   "source": [
    "paths_fc  <- paths_fc[grepl(paths_fc, pattern = \"gsea_fold_changes_for_heatmap\")]"
   ]
  },
  {
   "cell_type": "code",
   "execution_count": null,
   "id": "a73e58d6",
   "metadata": {},
   "outputs": [],
   "source": [
    "paths_fc"
   ]
  },
  {
   "cell_type": "code",
   "execution_count": null,
   "id": "4d47a87c",
   "metadata": {},
   "outputs": [],
   "source": [
    "test  <- data.table::fread(paths_fc[3])"
   ]
  },
  {
   "cell_type": "code",
   "execution_count": null,
   "id": "0c862ace",
   "metadata": {},
   "outputs": [],
   "source": [
    "test"
   ]
  },
  {
   "cell_type": "code",
   "execution_count": null,
   "id": "92812bed",
   "metadata": {
    "scrolled": true
   },
   "outputs": [],
   "source": [
    "library(data.table)"
   ]
  },
  {
   "cell_type": "code",
   "execution_count": null,
   "id": "ad13b7bb",
   "metadata": {},
   "outputs": [],
   "source": [
    "gseas  <- map(paths_fc, .f = fread)"
   ]
  },
  {
   "cell_type": "code",
   "execution_count": null,
   "id": "5ea2af0e",
   "metadata": {},
   "outputs": [],
   "source": [
    "gseas  <- bind_rows(gseas)"
   ]
  },
  {
   "cell_type": "code",
   "execution_count": null,
   "id": "74d0774c",
   "metadata": {},
   "outputs": [],
   "source": [
    "gseas$population  <- substr(gseas$dataset, 1,11)"
   ]
  },
  {
   "cell_type": "code",
   "execution_count": null,
   "id": "9486ecbd",
   "metadata": {},
   "outputs": [],
   "source": [
    "table(gseas$population)"
   ]
  },
  {
   "cell_type": "code",
   "execution_count": null,
   "id": "9fe67a21",
   "metadata": {},
   "outputs": [],
   "source": [
    "gseas  <- gseas  %>% mutate(population2 = ifelse(grepl(population, pattern = \"_nk_\"), substr(population,1,9), population))"
   ]
  },
  {
   "cell_type": "code",
   "execution_count": null,
   "id": "abdf3c23",
   "metadata": {},
   "outputs": [],
   "source": [
    "gseas$population2  %>% table"
   ]
  },
  {
   "cell_type": "code",
   "execution_count": null,
   "id": "600f4c89",
   "metadata": {},
   "outputs": [],
   "source": [
    "gseas  <- gseas  %>% mutate(n1 = as.numeric(nchar(dataset)))  %>% \n",
    "mutate(n2 = n1-12)  %>% \n",
    "mutate(test_type = substr(dataset,n2,n1))  \n"
   ]
  },
  {
   "cell_type": "code",
   "execution_count": null,
   "id": "dbb54fa7",
   "metadata": {},
   "outputs": [],
   "source": [
    "gseas$test_type  %>% table"
   ]
  },
  {
   "cell_type": "code",
   "execution_count": null,
   "id": "dddcb0b7",
   "metadata": {},
   "outputs": [],
   "source": [
    "gseas"
   ]
  },
  {
   "cell_type": "code",
   "execution_count": null,
   "id": "558af423",
   "metadata": {},
   "outputs": [],
   "source": [
    "gs  <- gseas  %>% group_by(dataset)  %>% slice_max(order_by = -log10(padj), n = 10)"
   ]
  },
  {
   "cell_type": "code",
   "execution_count": null,
   "id": "29e59d67",
   "metadata": {},
   "outputs": [],
   "source": [
    "write.csv(gs, \"../tables/gsea/v07heatmap_top_pathways.csv\")"
   ]
  },
  {
   "cell_type": "code",
   "execution_count": null,
   "id": "a05d3fd8",
   "metadata": {},
   "outputs": [],
   "source": [
    "selected_pathways  <- c('HALLMARK_TNFA_SIGNALING_VIA_NFKB',\n",
    "'HALLMARK_OXIDATIVE_PHOSPHORYLATION',\n",
    "\n",
    "'HALLMARK_INTERFERON_ALPHA_RESPONSE',\n",
    "'HALLMARK_INTERFERON_GAMMA_RESPONSE',\n",
    "                        \"GSE17974_0H_VS_24H_IN_VITRO_ACT_CD4_TCELL_UP\",\n",
    "                        \"GSE11057_NAIVE_VS_EFF_MEMORY_CD4_TCELL_UP\",\n",
    "                        \n",
    "\"GSE11057_NAIVE_VS_MEMORY_CD4_TCELL_UP\",\n",
    "\"GOLDRATH_NAIVE_VS_MEMORY_CD8_TCELL_DN\",\n",
    "'GOLDRATH_EFF_VS_MEMORY_CD8_TCELL_UP',\n",
    "'GOLDRATH_NAIVE_VS_EFF_CD8_TCELL_DN'\n",
    ")"
   ]
  },
  {
   "cell_type": "markdown",
   "id": "a4fe4281",
   "metadata": {},
   "source": [
    "Check and correct the population names"
   ]
  },
  {
   "cell_type": "code",
   "execution_count": null,
   "id": "0a3c66a5",
   "metadata": {},
   "outputs": [],
   "source": [
    "names(gseas$population2  %>% table)[!(names(gseas$population2  %>% table) %in% c(\n",
    "'cd8_l3_prol',\n",
    "'cd8_l3_tcm_',\n",
    "'cd4_l3_th1t7',\n",
    "'cd4_l3_temr',\n",
    "'cd8_l3_temr',\n",
    "'cd4_l3_tfh_',\n",
    "'cd8_l3_naiv',\n",
    "'cd4_l3_naiv',\n",
    "'cd4_l3_th2_',\n",
    "'cd4_l3_nfkb',\n",
    "'cd4_l2_unc_',\n",
    "'cd4_l3_treg',\n",
    "'cd4_l3_isag',\n",
    "'cd4_l3_prol',\n",
    "'cd8_l3_tem_',\n",
    "'cd8_l2_nk',\n",
    "'cd8_l2_unc_'    \n",
    "))]"
   ]
  },
  {
   "cell_type": "markdown",
   "id": "d08d34cb",
   "metadata": {},
   "source": [
    "Plot and save the results. "
   ]
  },
  {
   "cell_type": "code",
   "execution_count": null,
   "id": "1c3802a0",
   "metadata": {},
   "outputs": [],
   "source": [
    "options(repr.plot.height = 8, repr.plot.width = 24)\n",
    "gseas  %>% dplyr::filter(pathway %in% selected_pathways &\n",
    "                        ((population2 %in% c(\"cd8_l1_full\",\"cd4_l1_full\",\"cd4_l2_subc\",\"cd8_l2_subc\")) == F))  %>% \n",
    "ggplot(aes(x = factor(population2, levels = c(\n",
    "'cd8_l3_prol',\n",
    "'cd8_l3_tcm_',\n",
    "'cd4_l3_th1t',\n",
    "'cd4_l3_temr',\n",
    "'cd8_l3_temr',\n",
    "'cd4_l3_tfh_',\n",
    "'cd8_l3_naiv',\n",
    "'cd4_l3_naiv',\n",
    "'cd4_l3_th2_',\n",
    "'cd4_l3_nfkb',\n",
    "'cd4_l2_unc_',\n",
    "'cd4_l3_treg',\n",
    "'cd4_l3_isag',\n",
    "'cd4_l3_prol',\n",
    "'cd8_l3_tem_',\n",
    "'cd8_l2_nk',\n",
    "'cd8_l2_unc_'    \n",
    ")), y = pathway)) +\n",
    "geom_point(aes(size = -log(padj), color = NES, alpha = padj<0.05)) +\n",
    "scale_alpha_manual(values = c(0,1)) +\n",
    "facet_grid(cols = vars(test_type), space = \"free\", scales = \"free\") +\n",
    "scale_color_gradient2(low = \"blue\", mid = \"white\", high = \"red\") + \n",
    "xlab(\"\") + ylab(\"\") +\n",
    "theme_classic() + theme(axis.text.x = element_text(angle = 90),\n",
    "                       axis.ticks.x = element_blank()) + ggtheme()\n",
    "ggsave(\"../figures/gsea/heatmap_gsea.svg\", width = 55, height = 16, units = \"cm\", create.dir = TRUE)"
   ]
  },
  {
   "cell_type": "markdown",
   "id": "0f438dad",
   "metadata": {},
   "source": [
    "For revisions, let's plot it separately for CD4 and CD8. "
   ]
  },
  {
   "cell_type": "markdown",
   "id": "52ba6b97",
   "metadata": {},
   "source": [
    "### CD8"
   ]
  },
  {
   "cell_type": "code",
   "execution_count": null,
   "id": "41dbb020",
   "metadata": {},
   "outputs": [],
   "source": [
    "options(repr.plot.height = 8, repr.plot.width = 24)\n",
    "gseas  %>% dplyr::filter(pathway %in% selected_pathways &\n",
    "                        ((population2 %in% c(\"cd8_l1_full\",\"cd4_l1_full\",\"cd4_l2_subc\",\"cd8_l2_subc\")) == F))  %>% \n",
    "dplyr::filter(grepl(population2, pattern = \"cd8\"))  %>% \n",
    "ggplot(aes(x = factor(population2, levels = c(\n",
    "'cd8_l3_prol',\n",
    "'cd8_l3_tcm_',\n",
    "'cd4_l3_th1t',\n",
    "'cd4_l3_temr',\n",
    "'cd8_l3_temr',\n",
    "'cd4_l3_tfh_',\n",
    "'cd8_l3_naiv',\n",
    "'cd4_l3_naiv',\n",
    "'cd4_l3_th2_',\n",
    "'cd4_l3_nfkb',\n",
    "'cd4_l2_unc_',\n",
    "'cd4_l3_treg',\n",
    "'cd4_l3_isag',\n",
    "'cd4_l3_prol',\n",
    "'cd8_l3_tem_',\n",
    "'cd8_l2_nk',\n",
    "'cd8_l2_unc_'    \n",
    ")), y = pathway)) +\n",
    "geom_point(aes(size = -log(padj), color = NES, alpha = padj<0.05)) +\n",
    "scale_alpha_manual(values = c(0,1)) +\n",
    "facet_grid(cols = vars(test_type), space = \"free\", scales = \"free\") +\n",
    "scale_color_gradient2(low = \"blue\", mid = \"white\", high = \"red\") + \n",
    "xlab(\"\") + ylab(\"\") +\n",
    "theme_classic() + theme(axis.text.x = element_text(angle = 90),\n",
    "                       axis.ticks.x = element_blank()) + ggtheme()\n",
    "ggsave(\"../figures/gsea/heatmap_gsea_cd8.svg\", width = 55, height = 16, units = \"cm\", create.dir = TRUE)"
   ]
  },
  {
   "cell_type": "markdown",
   "id": "6a2002e0",
   "metadata": {},
   "source": [
    "### CD4"
   ]
  },
  {
   "cell_type": "code",
   "execution_count": null,
   "id": "90c10693",
   "metadata": {},
   "outputs": [],
   "source": [
    "options(repr.plot.height = 8, repr.plot.width = 24)\n",
    "gseas  %>% dplyr::filter(pathway %in% selected_pathways &\n",
    "                        ((population2 %in% c(\"cd8_l1_full\",\"cd4_l1_full\",\"cd4_l2_subc\",\"cd8_l2_subc\")) == F))  %>% \n",
    "dplyr::filter(grepl(population2, pattern = \"cd4\"))  %>% \n",
    "ggplot(aes(x = factor(population2, levels = c(\n",
    "'cd8_l3_prol',\n",
    "'cd8_l3_tcm_',\n",
    "'cd4_l3_th1t',\n",
    "'cd4_l3_temr',\n",
    "'cd8_l3_temr',\n",
    "'cd4_l3_tfh_',\n",
    "'cd8_l3_naiv',\n",
    "'cd4_l3_naiv',\n",
    "'cd4_l3_th2_',\n",
    "'cd4_l3_nfkb',\n",
    "'cd4_l2_unc_',\n",
    "'cd4_l3_treg',\n",
    "'cd4_l3_isag',\n",
    "'cd4_l3_prol',\n",
    "'cd8_l3_tem_',\n",
    "'cd8_l2_nk',\n",
    "'cd8_l2_unc_'    \n",
    ")), y = pathway)) +\n",
    "geom_point(aes(size = -log(padj), color = NES, alpha = padj<0.05)) +\n",
    "scale_alpha_manual(values = c(0,1)) +\n",
    "facet_grid(cols = vars(test_type), space = \"free\", scales = \"free\") +\n",
    "scale_color_gradient2(low = \"blue\", mid = \"white\", high = \"red\") + \n",
    "xlab(\"\") + ylab(\"\") +\n",
    "theme_classic() + theme(axis.text.x = element_text(angle = 90),\n",
    "                       axis.ticks.x = element_blank()) + ggtheme()\n",
    "ggsave(\"../figures/gsea/heatmap_gsea_cd8.svg\", width = 55, height = 16, units = \"cm\", create.dir = TRUE)"
   ]
  },
  {
   "cell_type": "code",
   "execution_count": null,
   "id": "cba9436d",
   "metadata": {},
   "outputs": [],
   "source": [
    "selected_pathways  <- c(\n",
    " 'HALLMARK_INTERFERON_ALPHA_RESPONSE',\n",
    "'HALLMARK_INTERFERON_GAMMA_RESPONSE',\n",
    "'GSE13485_DAY7_VS_DAY21_YF17D_VACCINE_PBMC_UP',\n",
    "'GOLDRATH_EFF_VS_MEMORY_CD8_TCELL_UP',\n",
    "'GOLDRATH_NAIVE_VS_EFF_CD8_TCELL_DN')\n",
    "\n",
    "options(repr.plot.height = 5, repr.plot.width = 24)\n",
    "gseas  %>% dplyr::filter(pathway %in% selected_pathways)  %>% \n",
    "ggplot(aes(x = population, y = factor(pathway, levels = selected_pathways))) +\n",
    "geom_point(aes(size = -log(padj), color = NES, alpha = padj<0.05)) +\n",
    "scale_alpha_manual(values = c(0,1)) +\n",
    "facet_grid(cols = vars(test_type), space = \"free\", scales = \"free\") +\n",
    "scale_color_gradient2(low = \"blue\", mid = \"white\", high = \"red\") + \n",
    "theme_classic() + theme(axis.text.x = element_text(angle = 90)) + ggtheme()"
   ]
  },
  {
   "cell_type": "code",
   "execution_count": null,
   "id": "7335f237",
   "metadata": {},
   "outputs": [],
   "source": [
    "selected_pathways  <- c(\n",
    "    \"GSE25087_FETAL_VS_ADULT_TCONV_UP\",\n",
    "                       \"GSE36476_CTRL_VS_TSST_ACT_40H_MEMORY_CD4_TCELL_YOUNG_DN\",\n",
    "                       \"GSE22886_NAIVE_CD4_TCELL_VS_48H_ACT_TH2_DN\",\n",
    "    \"GSE24634_NAIVE_CD4_TCELL_VS_DAY7_IL4_CONV_TREG_UP\",\n",
    "\"GSE17974_0H_VS_24H_IN_VITRO_ACT_CD4_TCELL_UP\",\n",
    "    \"GSE36476_CTRL_VS_TSST_ACT_72H_MEMORY_CD4_TCELL_YOUNG_UP\")\n",
    "\n",
    "options(repr.plot.height = 5, repr.plot.width = 24)\n",
    "gseas  %>% dplyr::filter(pathway %in% selected_pathways)  %>% \n",
    "ggplot(aes(x = population, y = factor(pathway, levels = selected_pathways))) +\n",
    "geom_point(aes(size = -log(padj), color = NES, alpha = padj<0.05)) +\n",
    "scale_alpha_manual(values = c(0,1)) +\n",
    "facet_grid(cols = vars(test_type), space = \"free\", scales = \"free\") +\n",
    "scale_color_gradient2(low = \"blue\", mid = \"white\", high = \"red\") + \n",
    "theme_classic() + theme(axis.text.x = element_text(angle = 90)) + ggtheme()"
   ]
  },
  {
   "cell_type": "code",
   "execution_count": null,
   "id": "50f10099",
   "metadata": {
    "scrolled": true
   },
   "outputs": [],
   "source": [
    "gseas  %>% dplyr::filter(test_type == \"_ketoacidosis\" & padj < 0.05 & NES > 0)  %>% \n",
    "group_by(pathway)  %>% tally()  %>% arrange(desc(n))"
   ]
  },
  {
   "cell_type": "code",
   "execution_count": null,
   "id": "32172eb3",
   "metadata": {},
   "outputs": [],
   "source": [
    "gseas  %>% dplyr::filter(pathway %in% c(\"HALLMARK_INTERFERON_ALPHA_RESPONSE\"))"
   ]
  },
  {
   "cell_type": "markdown",
   "id": "34397e64",
   "metadata": {},
   "source": [
    "## GSEA Dia vs. Healthy"
   ]
  },
  {
   "cell_type": "markdown",
   "id": "6ce17e67",
   "metadata": {},
   "source": [
    "### CD4"
   ]
  },
  {
   "cell_type": "code",
   "execution_count": null,
   "id": "b6f2f1c9",
   "metadata": {},
   "outputs": [],
   "source": [
    "m_df<- msigdbr(species = \"Homo sapiens\", category = \"C7\")"
   ]
  },
  {
   "cell_type": "code",
   "execution_count": null,
   "id": "a37c5075",
   "metadata": {},
   "outputs": [],
   "source": [
    "fgsea_sets_hs_c7 <- m_df %>% split(x = .$gene_symbol, f = .$gs_name)"
   ]
  },
  {
   "cell_type": "code",
   "execution_count": null,
   "id": "8b9c67f9",
   "metadata": {},
   "outputs": [],
   "source": [
    "paths_fc  <- list.files(\"../tables/fold_change\", full.names = T)\n",
    "dataset_names  <- list.files(\"../tables/fold_change\", full.names = F)"
   ]
  },
  {
   "cell_type": "code",
   "execution_count": null,
   "id": "2cbf22b8",
   "metadata": {},
   "outputs": [],
   "source": [
    "paths_fc"
   ]
  },
  {
   "cell_type": "code",
   "execution_count": null,
   "id": "763b5de3",
   "metadata": {},
   "outputs": [],
   "source": [
    "paths_fc[10]"
   ]
  },
  {
   "cell_type": "code",
   "execution_count": null,
   "id": "99a94ced",
   "metadata": {},
   "outputs": [],
   "source": [
    "fc.df  <- read_csv(paths_fc[10])  %>% as.data.frame()\n",
    "fc.df  <- fc.df  %>%  arrange(desc(avg_log2FC)) %>% \n",
    "dplyr::filter(cluster == \"Dia\")  %>% \n",
    "  dplyr::select(gene, avg_log2FC)\n",
    "ranks_cd4_t0 <- deframe(fc.df)"
   ]
  },
  {
   "cell_type": "code",
   "execution_count": null,
   "id": "be973002",
   "metadata": {
    "scrolled": true
   },
   "outputs": [],
   "source": [
    "ranks_cd4_t0  "
   ]
  },
  {
   "cell_type": "code",
   "execution_count": null,
   "id": "2e30c787",
   "metadata": {},
   "outputs": [],
   "source": [
    "fgseaRes <- fgsea(pathways = fgsea_sets_hs_c7, \n",
    "                 stats = ranks_cd4_t0)"
   ]
  },
  {
   "cell_type": "code",
   "execution_count": null,
   "id": "434df188",
   "metadata": {},
   "outputs": [],
   "source": [
    "fgseaRes <- fgsea(pathways = fgsea_sets_hs_c7, \n",
    "                 stats = ranks_cd4_t0)\n",
    "\n",
    "fgseaRes  %>% dplyr::filter(grepl(pathway, pattern = \"NAIVE_VS_EFF_MEMORY\"))"
   ]
  },
  {
   "cell_type": "code",
   "execution_count": null,
   "id": "141f46e1",
   "metadata": {
    "scrolled": true
   },
   "outputs": [],
   "source": [
    "fgseaRes  %>% arrange(pval)"
   ]
  },
  {
   "cell_type": "code",
   "execution_count": null,
   "id": "58125c5e",
   "metadata": {},
   "outputs": [],
   "source": [
    "options(repr.plot.width = 5, repr.plot.height = 3)\n",
    "plotEnrichment(fgsea_sets_hs_c7[[\"GSE11057_NAIVE_VS_EFF_MEMORY_CD4_TCELL_DN\"]],\n",
    "               ranks_cd4_t0) + labs(title=\"GSE11057_NAIVE_VS_EFF_MEMORY_CD4_TCELL_DN\") +\n",
    "ylim(c(-0.9,0.4))\n",
    "ggsave(filename = paste0(\"../figures/gsea/GSE11057_NAIVE_VS_EFF_MEMORY_CD4_TCELL_DN.svg\"), \n",
    "       width = 9.5, height = 8, units = \"cm\")\n"
   ]
  },
  {
   "cell_type": "code",
   "execution_count": null,
   "id": "df283cba",
   "metadata": {},
   "outputs": [],
   "source": [
    "plotEnrichment(fgsea_sets_hs_c7[[\"GSE11057_NAIVE_VS_EFF_MEMORY_CD4_TCELL_UP\"]],\n",
    "               ranks_cd4_t0) + labs(title=\"GSE11057_NAIVE_VS_EFF_MEMORY_CD4_TCELL_UP\") +\n",
    "ylim(c(-0.9,0.4))\n",
    "\n",
    "ggsave(filename = paste0(\"../figures/gsea/GSE11057_NAIVE_VS_EFF_MEMORY_CD4_TCELL_UP.svg\"), \n",
    "       width = 9.5, height = 8, units = \"cm\")\n"
   ]
  },
  {
   "cell_type": "code",
   "execution_count": null,
   "id": "72119a62",
   "metadata": {},
   "outputs": [],
   "source": [
    "m_df<- msigdbr(species = \"Homo sapiens\", category = \"C2\")\n",
    "fgsea_sets<- m_df %>% split(x = .$gene_symbol, f = .$gs_name)"
   ]
  },
  {
   "cell_type": "code",
   "execution_count": null,
   "id": "7b6a4723",
   "metadata": {},
   "outputs": [],
   "source": [
    "plotEnrichment(fgsea_sets[[\"REACTOME_INTERFERON_ALPHA_BETA_SIGNALING\"]],\n",
    "               ranks_cd4_t0) + labs(title=\"REACTOME_INTERFERON_ALPHA_BETA_SIGNALING\") +\n",
    "ylim(c(-0.9,0.4))\n",
    "ggsave(filename = paste0(\"../figures/gsea/REACTOME_INTERFERON_ALPHA_BETA_SIGNALING_CD4.svg\"), \n",
    "       width = 9.5, height = 8, units = \"cm\")"
   ]
  },
  {
   "cell_type": "markdown",
   "id": "a68e6241",
   "metadata": {},
   "source": [
    "### CD8"
   ]
  },
  {
   "cell_type": "code",
   "execution_count": null,
   "id": "7b195f13",
   "metadata": {},
   "outputs": [],
   "source": [
    "grep(paths_fc, pattern = \"cd8_l1_full_filt\", value = T)"
   ]
  },
  {
   "cell_type": "code",
   "execution_count": null,
   "id": "a6d77651",
   "metadata": {
    "scrolled": true
   },
   "outputs": [],
   "source": [
    "fc.df  <- read_csv(\"../tables/fold_change/cd8_l1_full_filt.csv\")  %>% as.data.frame()\n",
    "fc.df  <- fc.df  %>%  arrange(desc(avg_log2FC)) %>% \n",
    "dplyr::filter(cluster == \"Dia\")  %>% \n",
    "  dplyr::select(gene, avg_log2FC)\n",
    "ranks_cd8_t0 <- deframe(fc.df)\n",
    "\n",
    "ranks_cd8_t0  "
   ]
  },
  {
   "cell_type": "code",
   "execution_count": null,
   "id": "c5d64f2d",
   "metadata": {},
   "outputs": [],
   "source": [
    "fgseaRes <- fgsea(pathways = fgsea_sets_hs_c7, \n",
    "                 stats = ranks_cd8_t0)"
   ]
  },
  {
   "cell_type": "code",
   "execution_count": null,
   "id": "5f298e65",
   "metadata": {},
   "outputs": [],
   "source": [
    "fgseaRes  %>% dplyr::filter(grepl(pathway, pattern = \"GOLDRATH\"))"
   ]
  },
  {
   "cell_type": "code",
   "execution_count": null,
   "id": "3ad5f3fb",
   "metadata": {},
   "outputs": [],
   "source": [
    "options(repr.plot.width = 5, repr.plot.height = 3)\n",
    "plotEnrichment(fgsea_sets_hs_c7[[\"GOLDRATH_NAIVE_VS_EFF_CD8_TCELL_DN\"]],\n",
    "               ranks_cd8_t0) + labs(title=\"GOLDRATH_NAIVE_VS_EFF_CD8_TCELL_DN\") +\n",
    "ylim(c(-0.7,0.4))\n",
    "\n",
    "ggsave(filename = paste0(\"../figures/gsea/GOLDRATH_NAIVE_VS_EFF_CD8_TCELL_DN.svg\"), \n",
    "       width = 9.5, height = 8, units = \"cm\")\n"
   ]
  },
  {
   "cell_type": "code",
   "execution_count": null,
   "id": "530a1072",
   "metadata": {},
   "outputs": [],
   "source": [
    "plotEnrichment(fgsea_sets_hs_c7[[\"GOLDRATH_NAIVE_VS_EFF_CD8_TCELL_UP\"]],\n",
    "               ranks_cd8_t0) + labs(title=\"GOLDRATH_NAIVE_VS_EFF_CD8_TCELL_UP\") +\n",
    "ylim(c(-0.7,0.4))\n",
    "\n",
    "ggsave(filename = paste0(\"../figures/gsea/GOLDRATH_NAIVE_VS_EFF_CD8_TCELL_UP.svg\"), \n",
    "       width = 9.5, height = 8, units = \"cm\")\n"
   ]
  },
  {
   "cell_type": "code",
   "execution_count": null,
   "id": "0b9a8361",
   "metadata": {},
   "outputs": [],
   "source": [
    "m_df<- msigdbr(species = \"Homo sapiens\", category = \"C2\")\n",
    "fgsea_sets<- m_df %>% split(x = .$gene_symbol, f = .$gs_name)"
   ]
  },
  {
   "cell_type": "code",
   "execution_count": null,
   "id": "d6b2d163",
   "metadata": {},
   "outputs": [],
   "source": [
    "plotEnrichment(fgsea_sets[[\"REACTOME_INTERFERON_ALPHA_BETA_SIGNALING\"]],\n",
    "               ranks_cd8_t0) + labs(title=\"REACTOME_INTERFERON_ALPHA_BETA_SIGNALING\") +\n",
    "ylim(c(-0.7,0.4))\n",
    "\n",
    "ggsave(filename = paste0(\"../figures/gsea/REACTOME_INTERFERON_ALPHA_BETA_SIGNALING_CD8.svg\"), \n",
    "       width = 9.5, height = 8, units = \"cm\")\n"
   ]
  },
  {
   "cell_type": "code",
   "execution_count": null,
   "id": "f214b7e5",
   "metadata": {},
   "outputs": [],
   "source": []
  },
  {
   "cell_type": "markdown",
   "id": "1506b8a8",
   "metadata": {},
   "source": [
    "# GSEA v06"
   ]
  },
  {
   "cell_type": "markdown",
   "id": "336e3910",
   "metadata": {},
   "source": [
    "## C2"
   ]
  },
  {
   "cell_type": "markdown",
   "id": "277c8799",
   "metadata": {},
   "source": [
    "### Dia T0 vs Ctrl"
   ]
  },
  {
   "cell_type": "code",
   "execution_count": null,
   "id": "ed466c14",
   "metadata": {},
   "outputs": [],
   "source": [
    "paths_fc  <- list.files(\"../tables/fold_change\", full.names = T)\n",
    "dataset_names  <- list.files(\"../tables/fold_change\", full.names = F)\n",
    "\n",
    "paths_fc  <- paths_fc[grepl(paths_fc, pattern = \"_Ctrl_vs_DiaT0\")]\n",
    "dataset_names  <- dataset_names[grepl(dataset_names, pattern = \"_Ctrl_vs_DiaT0\")]\n",
    "\n",
    "dataset_names\n",
    "paths_fc"
   ]
  },
  {
   "cell_type": "code",
   "execution_count": null,
   "id": "50dd6553",
   "metadata": {},
   "outputs": [],
   "source": [
    "dataset_names[1]"
   ]
  },
  {
   "cell_type": "code",
   "execution_count": null,
   "id": "0aba16dc",
   "metadata": {},
   "outputs": [],
   "source": [
    "dataset_names[13]"
   ]
  },
  {
   "cell_type": "code",
   "execution_count": null,
   "id": "ee017cec",
   "metadata": {},
   "outputs": [],
   "source": [
    "gsea_all_pathways  <- function(j, category) {\n",
    "    \n",
    "     m_df<- msigdbr(species = \"Homo sapiens\", category = category)\n",
    "     fgsea_sets <- m_df %>% split(x = .$gene_symbol, f = .$gs_name)\n",
    "    fc.df  <- read_csv(paths_fc[j])  %>% as.data.frame()\n",
    "    fc.df  <- fc.df  %>%  arrange(desc(avg_log2FC)) %>% \n",
    "    dplyr::filter(grepl(cluster, pattern = \"Dia\"))  %>% \n",
    "      dplyr::select(gene, avg_log2FC)\n",
    "    ranks <- deframe(fc.df)\n",
    "    fgseaRes <- fgsea(pathways = fgsea_sets, \n",
    "                 stats = ranks)\n",
    "     fgseaRes$dataset  <-   gsub(dataset_names[j], pattern = \".csv\", replacement = \"\")\n",
    "     return(fgseaRes)\n",
    "    \n",
    "    }\n"
   ]
  },
  {
   "cell_type": "code",
   "execution_count": null,
   "id": "0b9ad58f",
   "metadata": {},
   "outputs": [],
   "source": [
    "gsea_t0_cd4_c2  <- gsea_all_pathways(1, \"C2\")"
   ]
  },
  {
   "cell_type": "code",
   "execution_count": null,
   "id": "b5e4b8b7",
   "metadata": {
    "scrolled": true
   },
   "outputs": [],
   "source": [
    "gsea_t0_cd4_c2  <- bind_rows(gsea_t0_cd4_c2)\n",
    "gsea_t0_cd4_c2  %>% arrange(padj)"
   ]
  },
  {
   "cell_type": "code",
   "execution_count": null,
   "id": "55341f24",
   "metadata": {},
   "outputs": [],
   "source": [
    "gsea_t0_cd4_c2$leadingEdge  <- NULL"
   ]
  },
  {
   "cell_type": "code",
   "execution_count": null,
   "id": "4c89eb08",
   "metadata": {},
   "outputs": [],
   "source": [
    "write.csv(gsea_t0_cd4_c2  %>% arrange(padj), \"../tables/gsea/gsea_t0_cd4_c2.csv\")"
   ]
  },
  {
   "cell_type": "code",
   "execution_count": null,
   "id": "5216d59f",
   "metadata": {},
   "outputs": [],
   "source": [
    "gsea_t0_cd8_c2 <- gsea_all_pathways(13, \"C2\")"
   ]
  },
  {
   "cell_type": "code",
   "execution_count": null,
   "id": "d0e1140b",
   "metadata": {
    "scrolled": true
   },
   "outputs": [],
   "source": [
    "gsea_t0_cd8_c2  <- bind_rows(gsea_t0_cd8_c2)\n",
    "gsea_t0_cd8_c2  %>% arrange(padj)"
   ]
  },
  {
   "cell_type": "code",
   "execution_count": null,
   "id": "5d492697",
   "metadata": {},
   "outputs": [],
   "source": [
    "gsea_t0_cd8_c2$leadingEdge  <- NULL\n",
    "\n",
    "write.csv(gsea_t0_cd8_c2  %>% arrange(padj), \"../tables/gsea/gsea_t0_cd8_c2.csv\")"
   ]
  },
  {
   "cell_type": "markdown",
   "id": "ddb5044b",
   "metadata": {},
   "source": [
    "### Dia T1 vs Ctrl"
   ]
  },
  {
   "cell_type": "code",
   "execution_count": null,
   "id": "0e12168d",
   "metadata": {},
   "outputs": [],
   "source": [
    "paths_fc  <- list.files(\"../tables/fold_change\", full.names = T)\n",
    "dataset_names  <- list.files(\"../tables/fold_change\", full.names = F)\n",
    "\n",
    "paths_fc  <- paths_fc[grepl(paths_fc, pattern = \"_Ctrl_vs_DiaT1\")]\n",
    "dataset_names  <- dataset_names[grepl(dataset_names, pattern = \"_Ctrl_vs_DiaT1\")]\n",
    "\n",
    "dataset_names\n",
    "paths_fc"
   ]
  },
  {
   "cell_type": "code",
   "execution_count": null,
   "id": "0652835e",
   "metadata": {},
   "outputs": [],
   "source": [
    "dataset_names[1]"
   ]
  },
  {
   "cell_type": "code",
   "execution_count": null,
   "id": "6e6d3ecf",
   "metadata": {},
   "outputs": [],
   "source": [
    "dataset_names[13]"
   ]
  },
  {
   "cell_type": "code",
   "execution_count": null,
   "id": "eba98f4d",
   "metadata": {},
   "outputs": [],
   "source": [
    "gsea_t1_cd4_c2  <- gsea_all_pathways(1, \"C2\")"
   ]
  },
  {
   "cell_type": "code",
   "execution_count": null,
   "id": "a8d4980d",
   "metadata": {
    "scrolled": true
   },
   "outputs": [],
   "source": [
    "gsea_t1_cd4_c2  <- bind_rows(gsea_t1_cd4_c2)\n",
    "gsea_t1_cd4_c2  %>% arrange(padj)"
   ]
  },
  {
   "cell_type": "code",
   "execution_count": null,
   "id": "428b1d64",
   "metadata": {},
   "outputs": [],
   "source": [
    "gsea_t1_cd4_c2$leadingEdge  <- NULL"
   ]
  },
  {
   "cell_type": "code",
   "execution_count": null,
   "id": "8d099601",
   "metadata": {},
   "outputs": [],
   "source": [
    "write.csv(gsea_t1_cd4_c2  %>% arrange(padj), \"../tables/gsea/gsea_t1_cd4_c2.csv\")"
   ]
  },
  {
   "cell_type": "code",
   "execution_count": null,
   "id": "f458ee53",
   "metadata": {},
   "outputs": [],
   "source": [
    "gsea_t1_cd8_c2 <- gsea_all_pathways(13, \"C2\")"
   ]
  },
  {
   "cell_type": "code",
   "execution_count": null,
   "id": "89e12976",
   "metadata": {
    "scrolled": true
   },
   "outputs": [],
   "source": [
    "gsea_t1_cd8_c2  <- bind_rows(gsea_t1_cd8_c2)\n",
    "gsea_t1_cd8_c2  %>% arrange(padj)"
   ]
  },
  {
   "cell_type": "code",
   "execution_count": null,
   "id": "72873d72",
   "metadata": {},
   "outputs": [],
   "source": [
    "gsea_t1_cd8_c2$leadingEdge  <- NULL\n",
    "\n",
    "write.csv(gsea_t1_cd8_c2  %>% arrange(padj), \"../tables/gsea/gsea_t1_cd8_c2.csv\")"
   ]
  },
  {
   "cell_type": "markdown",
   "id": "013136fe",
   "metadata": {},
   "source": [
    "## C7"
   ]
  },
  {
   "cell_type": "markdown",
   "id": "8b707fec",
   "metadata": {},
   "source": [
    "### Dia T0 vs Ctrl"
   ]
  },
  {
   "cell_type": "code",
   "execution_count": null,
   "id": "6d9b1576",
   "metadata": {},
   "outputs": [],
   "source": [
    "paths_fc  <- list.files(\"../tables/fold_change\", full.names = T)\n",
    "dataset_names  <- list.files(\"../tables/fold_change\", full.names = F)\n",
    "\n",
    "paths_fc  <- paths_fc[grepl(paths_fc, pattern = \"_Ctrl_vs_DiaT0\")]\n",
    "dataset_names  <- dataset_names[grepl(dataset_names, pattern = \"_Ctrl_vs_DiaT0\")]\n",
    "\n",
    "dataset_names\n",
    "paths_fc"
   ]
  },
  {
   "cell_type": "code",
   "execution_count": null,
   "id": "7cda0abe",
   "metadata": {},
   "outputs": [],
   "source": [
    "dataset_names[1]"
   ]
  },
  {
   "cell_type": "code",
   "execution_count": null,
   "id": "c5407c17",
   "metadata": {},
   "outputs": [],
   "source": [
    "dataset_names[13]"
   ]
  },
  {
   "cell_type": "code",
   "execution_count": null,
   "id": "9eb508ed",
   "metadata": {},
   "outputs": [],
   "source": [
    "gsea_all_pathways  <- function(j, category) {\n",
    "    \n",
    "     m_df<- msigdbr(species = \"Homo sapiens\", category = category)\n",
    "     fgsea_sets <- m_df %>% split(x = .$gene_symbol, f = .$gs_name)\n",
    "    fc.df  <- read_csv(paths_fc[j])  %>% as.data.frame()\n",
    "    fc.df  <- fc.df  %>%  arrange(desc(avg_log2FC)) %>% \n",
    "    dplyr::filter(grepl(cluster, pattern = \"Dia\"))  %>% \n",
    "      dplyr::select(gene, avg_log2FC)\n",
    "    ranks <- deframe(fc.df)\n",
    "    fgseaRes <- fgsea(pathways = fgsea_sets, \n",
    "                 stats = ranks)\n",
    "     fgseaRes$dataset  <-   gsub(dataset_names[j], pattern = \".csv\", replacement = \"\")\n",
    "     return(fgseaRes)\n",
    "    \n",
    "    }\n"
   ]
  },
  {
   "cell_type": "code",
   "execution_count": null,
   "id": "bb841fc1",
   "metadata": {},
   "outputs": [],
   "source": [
    "gsea_t0_cd4_c7  <- gsea_all_pathways(1, \"C7\")"
   ]
  },
  {
   "cell_type": "code",
   "execution_count": null,
   "id": "64ecd2ca",
   "metadata": {
    "scrolled": true
   },
   "outputs": [],
   "source": [
    "gsea_t0_cd4_c7  <- bind_rows(gsea_t0_cd4_c7)\n",
    "gsea_t0_cd4_c7  %>% arrange(padj)"
   ]
  },
  {
   "cell_type": "code",
   "execution_count": null,
   "id": "131aa915",
   "metadata": {},
   "outputs": [],
   "source": [
    "gsea_t0_cd4_c7$leadingEdge  <- NULL"
   ]
  },
  {
   "cell_type": "code",
   "execution_count": null,
   "id": "85791571",
   "metadata": {},
   "outputs": [],
   "source": [
    "write.csv(gsea_t0_cd4_c7  %>% arrange(padj), \"../tables/gsea/gsea_t0_cd4_c7.csv\")"
   ]
  },
  {
   "cell_type": "code",
   "execution_count": null,
   "id": "b2c4a2eb",
   "metadata": {},
   "outputs": [],
   "source": [
    "gsea_t0_cd8_c7 <- gsea_all_pathways(13, \"C7\")"
   ]
  },
  {
   "cell_type": "code",
   "execution_count": null,
   "id": "df4a6ed9",
   "metadata": {
    "scrolled": true
   },
   "outputs": [],
   "source": [
    "gsea_t0_cd8_c7  <- bind_rows(gsea_t0_cd8_c7)\n",
    "gsea_t0_cd8_c7  %>% arrange(padj)"
   ]
  },
  {
   "cell_type": "code",
   "execution_count": null,
   "id": "92f374ec",
   "metadata": {},
   "outputs": [],
   "source": [
    "gsea_t0_cd8_c7$leadingEdge  <- NULL\n",
    "\n",
    "write.csv(gsea_t0_cd8_c7  %>% arrange(padj), \"../tables/gsea/gsea_t0_cd8_c7.csv\")"
   ]
  },
  {
   "cell_type": "markdown",
   "id": "33cb2fa6",
   "metadata": {},
   "source": [
    "### Dia T1 vs Ctrl"
   ]
  },
  {
   "cell_type": "code",
   "execution_count": null,
   "id": "852aa8f4",
   "metadata": {},
   "outputs": [],
   "source": [
    "paths_fc  <- list.files(\"../tables/fold_change\", full.names = T)\n",
    "dataset_names  <- list.files(\"../tables/fold_change\", full.names = F)\n",
    "\n",
    "paths_fc  <- paths_fc[grepl(paths_fc, pattern = \"_Ctrl_vs_DiaT1\")]\n",
    "dataset_names  <- dataset_names[grepl(dataset_names, pattern = \"_Ctrl_vs_DiaT1\")]\n",
    "\n",
    "dataset_names\n",
    "paths_fc"
   ]
  },
  {
   "cell_type": "code",
   "execution_count": null,
   "id": "14cc59ce",
   "metadata": {},
   "outputs": [],
   "source": [
    "dataset_names[1]"
   ]
  },
  {
   "cell_type": "code",
   "execution_count": null,
   "id": "b5dcd3c1",
   "metadata": {},
   "outputs": [],
   "source": [
    "dataset_names[13]"
   ]
  },
  {
   "cell_type": "code",
   "execution_count": null,
   "id": "7eece7a8",
   "metadata": {},
   "outputs": [],
   "source": [
    "gsea_t1_cd4_c7  <- gsea_all_pathways(1, \"C7\")"
   ]
  },
  {
   "cell_type": "code",
   "execution_count": null,
   "id": "ea0defa2",
   "metadata": {
    "scrolled": true
   },
   "outputs": [],
   "source": [
    "gsea_t1_cd4_c7  <- bind_rows(gsea_t1_cd4_c7)\n",
    "gsea_t1_cd4_c7  %>% arrange(padj)"
   ]
  },
  {
   "cell_type": "code",
   "execution_count": null,
   "id": "a33fd6bb",
   "metadata": {},
   "outputs": [],
   "source": [
    "gsea_t1_cd4_c7$leadingEdge  <- NULL"
   ]
  },
  {
   "cell_type": "code",
   "execution_count": null,
   "id": "7955bb0c",
   "metadata": {},
   "outputs": [],
   "source": [
    "write.csv(gsea_t1_cd4_c7  %>% arrange(padj), \"../tables/gsea/gsea_t1_cd4_c7.csv\")"
   ]
  },
  {
   "cell_type": "code",
   "execution_count": null,
   "id": "c67b2529",
   "metadata": {},
   "outputs": [],
   "source": [
    "gsea_t1_cd8_c7 <- gsea_all_pathways(13, \"C7\")"
   ]
  },
  {
   "cell_type": "code",
   "execution_count": null,
   "id": "f63d2d4e",
   "metadata": {},
   "outputs": [],
   "source": [
    "gsea_t1_cd8_c7  <- bind_rows(gsea_t1_cd8_c7)\n",
    "gsea_t1_cd8_c7  %>% arrange(padj)"
   ]
  },
  {
   "cell_type": "code",
   "execution_count": null,
   "id": "c3864bb9",
   "metadata": {},
   "outputs": [],
   "source": [
    "gsea_t1_cd8_c7$leadingEdge  <- NULL\n",
    "\n",
    "write.csv(gsea_t1_cd8_c7  %>% arrange(padj), \"../tables/gsea/gsea_t1_cd8_c7.csv\")"
   ]
  },
  {
   "cell_type": "markdown",
   "id": "23af7742",
   "metadata": {},
   "source": [
    "# Heatmap"
   ]
  },
  {
   "cell_type": "code",
   "execution_count": null,
   "id": "03fd75f0",
   "metadata": {},
   "outputs": [],
   "source": [
    "paths_fc2  <- list.files(\"../tables/fold_change\", full.names = T)\n",
    "dataset_names2  <- list.files(\"../tables/fold_change\", full.names = F)\n"
   ]
  },
  {
   "cell_type": "code",
   "execution_count": null,
   "id": "0b503001",
   "metadata": {},
   "outputs": [],
   "source": [
    "paths_fc2"
   ]
  },
  {
   "cell_type": "code",
   "execution_count": null,
   "id": "571e7aa1",
   "metadata": {},
   "outputs": [],
   "source": [
    "paths_fc  <- paths_fc2[grepl(paths_fc2, pattern = \"l3\")|grepl(paths_fc2, pattern = \"cd8_l2_unc\")|\n",
    "                      grepl(paths_fc2, pattern = \"cd4_l2_unc\")|grepl(paths_fc2, pattern = \"cd8_l2_nk\")]"
   ]
  },
  {
   "cell_type": "code",
   "execution_count": null,
   "id": "00e5b094",
   "metadata": {
    "scrolled": true
   },
   "outputs": [],
   "source": [
    "paths_fc"
   ]
  },
  {
   "cell_type": "markdown",
   "id": "0b95d0ae",
   "metadata": {},
   "source": [
    "# GSEA figure"
   ]
  },
  {
   "cell_type": "code",
   "execution_count": null,
   "id": "8b5d77be",
   "metadata": {},
   "outputs": [],
   "source": [
    "m_df<- msigdbr(species = \"Homo sapiens\", category = \"C2\")\n",
    "\n",
    "fgsea_sets_hs_c2 <- m_df %>% split(x = .$gene_symbol, f = .$gs_name)"
   ]
  },
  {
   "cell_type": "code",
   "execution_count": null,
   "id": "235649e5",
   "metadata": {},
   "outputs": [],
   "source": [
    "m_df<- msigdbr(species = \"Homo sapiens\", category = \"C7\")\n",
    "\n",
    "fgsea_sets_hs_c7 <- m_df %>% split(x = .$gene_symbol, f = .$gs_name)"
   ]
  },
  {
   "cell_type": "markdown",
   "id": "250e917e",
   "metadata": {},
   "source": [
    "## Ranks T0"
   ]
  },
  {
   "cell_type": "code",
   "execution_count": null,
   "id": "3eb67e0a",
   "metadata": {},
   "outputs": [],
   "source": [
    "paths_fc  <- list.files(\"../tables/fold_change\", full.names = T)\n",
    "dataset_names  <- list.files(\"../tables/fold_change\", full.names = F)\n",
    "\n",
    "\n",
    "paths_fc  <- paths_fc[grepl(paths_fc, pattern = \"_Ctrl_vs_DiaT0\")]\n",
    "dataset_names  <- dataset_names[grepl(dataset_names, pattern = \"_Ctrl_vs_DiaT0\")]\n",
    "\n",
    "dataset_names\n",
    "\n",
    "paths_fc"
   ]
  },
  {
   "cell_type": "code",
   "execution_count": null,
   "id": "eac652ca",
   "metadata": {},
   "outputs": [],
   "source": [
    "fc.df  <- read_csv(paths_fc[1])  %>% as.data.frame()\n",
    "fc.df  <- fc.df  %>%  arrange(desc(avg_log2FC)) %>% \n",
    "dplyr::filter(cluster == \"Dia T0\")  %>% \n",
    "  dplyr::select(gene, avg_log2FC)\n",
    "ranks_cd4_t0 <- deframe(fc.df)"
   ]
  },
  {
   "cell_type": "code",
   "execution_count": null,
   "id": "50185718",
   "metadata": {},
   "outputs": [],
   "source": [
    "fc.df  <- read_csv(paths_fc[13])  %>% as.data.frame()\n",
    "fc.df  <- fc.df  %>%  arrange(desc(avg_log2FC)) %>% \n",
    "dplyr::filter(cluster == \"Dia T0\")  %>% \n",
    "  dplyr::select(gene, avg_log2FC)\n",
    "ranks_cd8_t0 <- deframe(fc.df)"
   ]
  },
  {
   "cell_type": "code",
   "execution_count": null,
   "id": "b5c4c560",
   "metadata": {
    "scrolled": true
   },
   "outputs": [],
   "source": [
    "ranks_cd8_t0"
   ]
  },
  {
   "cell_type": "markdown",
   "id": "6c032f8f",
   "metadata": {},
   "source": [
    "## T1"
   ]
  },
  {
   "cell_type": "code",
   "execution_count": null,
   "id": "1482a0e8",
   "metadata": {},
   "outputs": [],
   "source": [
    "paths_fc2  <- list.files(\"../tables/fold_change\", full.names = T)\n",
    "dataset_names2  <- list.files(\"../tables/fold_change\", full.names = F)\n",
    "\n",
    "\n",
    "paths_fc2  <- paths_fc2[grepl(paths_fc2, pattern = \"_Ctrl_vs_DiaT1\")]\n",
    "dataset_names2  <- dataset_names2[grepl(dataset_names2, pattern = \"_Ctrl_vs_DiaT1\")]"
   ]
  },
  {
   "cell_type": "code",
   "execution_count": null,
   "id": "c0a0bd0e",
   "metadata": {},
   "outputs": [],
   "source": [
    "paths_fc2\n",
    "dataset_names2\n"
   ]
  },
  {
   "cell_type": "code",
   "execution_count": null,
   "id": "046f393e",
   "metadata": {},
   "outputs": [],
   "source": [
    "fc.df  <- read_csv(paths_fc2[1])  %>% as.data.frame()\n",
    "fc.df  <- fc.df  %>%  arrange(desc(avg_log2FC)) %>% \n",
    "dplyr::filter(cluster == \"Dia T1\")  %>% \n",
    "  dplyr::select(gene, avg_log2FC)\n",
    "ranks_cd4_t1 <- deframe(fc.df)\n",
    "\n"
   ]
  },
  {
   "cell_type": "code",
   "execution_count": null,
   "id": "0e322244",
   "metadata": {},
   "outputs": [],
   "source": [
    "fc.df  <- read_csv(paths_fc2[13])  %>% as.data.frame()\n",
    "fc.df  <- fc.df  %>%  arrange(desc(avg_log2FC)) %>% \n",
    "dplyr::filter(cluster == \"Dia T1\")  %>% \n",
    "  dplyr::select(gene, avg_log2FC)\n",
    "ranks_cd8_t1 <- deframe(fc.df)"
   ]
  },
  {
   "cell_type": "code",
   "execution_count": null,
   "id": "7987b816",
   "metadata": {},
   "outputs": [],
   "source": [
    "paths_fc2[13]"
   ]
  },
  {
   "cell_type": "code",
   "execution_count": null,
   "id": "2e482f7a",
   "metadata": {
    "scrolled": true
   },
   "outputs": [],
   "source": [
    "ranks_cd8_t1"
   ]
  },
  {
   "cell_type": "code",
   "execution_count": null,
   "id": "2ada196d",
   "metadata": {},
   "outputs": [],
   "source": [
    "plot_four_gsea_condition  <- function(gsea, fgsea_set){\n",
    "   fgsea_sets  <- fgsea_set\n",
    "    p  <- plotEnrichment(fgsea_sets[[gsea]],\n",
    "               ranks_cd8_t0) + labs(title=\"CD8 Dia T0 vs Ctrl.\") + ylim(-0.8,0.8) + ggtheme() +\n",
    "    plotEnrichment(fgsea_sets[[gsea]],\n",
    "               ranks_cd8_t1) + labs(title=\"CD8 Dia T1 vs Ctrl.\") + ylim(-0.8,0.8) + ggtheme() +\n",
    "    plotEnrichment(fgsea_sets[[gsea]],\n",
    "               ranks_cd4_t0) + labs(title=\"CD4 Dia T0 vs Ctrl.\") + ylim(-0.8,0.8) + ggtheme() +\n",
    "    plotEnrichment(fgsea_sets[[gsea]],\n",
    "               ranks_cd4_t1) + labs(title=\"CD4 Dia T1 vs Ctrl.\") + ylim(-0.8,0.8) +  ggtheme() + \n",
    "    plot_annotation(title = gsea)\n",
    "    \n",
    "    ggsave(p, filename = paste0(\"../figures/gsea/\",gsea,\".svg\"), width = 24, height = 24, units = \"cm\")\n",
    "    return(p)\n",
    "}"
   ]
  },
  {
   "cell_type": "code",
   "execution_count": null,
   "id": "95eaeda2",
   "metadata": {},
   "outputs": [],
   "source": [
    "fgsea_sets_hs_c2[[\"REACTOME_INTERFERON_ALPHA_BETA_SIGNALING\"]]"
   ]
  },
  {
   "cell_type": "code",
   "execution_count": null,
   "id": "c11f3390",
   "metadata": {},
   "outputs": [],
   "source": [
    "fgsea_sets_hs_c7[[\"GSE11057_NAIVE_VS_EFF_MEMORY_CD4_TCELL_DN\"]]"
   ]
  },
  {
   "cell_type": "code",
   "execution_count": null,
   "id": "e1cad1e1",
   "metadata": {},
   "outputs": [],
   "source": [
    "intersect(fgsea_sets_hs_c7[[\"GSE11057_NAIVE_VS_EFF_MEMORY_CD4_TCELL_DN\"]], \n",
    "          fgsea_sets_hs_c2[[\"REACTOME_INTERFERON_ALPHA_BETA_SIGNALING\"]])"
   ]
  },
  {
   "cell_type": "code",
   "execution_count": null,
   "id": "10082d57",
   "metadata": {},
   "outputs": [],
   "source": [
    "plot_four_gsea_condition(\"REACTOME_INTERFERON_ALPHA_BETA_SIGNALING\", fgsea_sets_hs_c2)"
   ]
  },
  {
   "cell_type": "code",
   "execution_count": null,
   "id": "7e07ff36",
   "metadata": {},
   "outputs": [],
   "source": []
  },
  {
   "cell_type": "code",
   "execution_count": null,
   "id": "db70d7b4",
   "metadata": {},
   "outputs": [],
   "source": [
    "plot_four_gsea_condition(\"GSE11057_NAIVE_VS_EFF_MEMORY_CD4_TCELL_UP\", fgsea_sets_hs_c7)"
   ]
  },
  {
   "cell_type": "code",
   "execution_count": null,
   "id": "85da5d07",
   "metadata": {},
   "outputs": [],
   "source": [
    "options(repr.plot.width = 8, repr.plot.height = 6)\n",
    "plot_four_gsea_condition(\"WP_INSULIN_SIGNALING\", fgsea_sets_hs_c2)\n"
   ]
  },
  {
   "cell_type": "code",
   "execution_count": null,
   "id": "5cada961",
   "metadata": {},
   "outputs": [],
   "source": [
    "plot_four_gsea_condition(\"GSE13485_CTRL_VS_DAY7_YF17D_VACCINE_PBMC_DN\", fgsea_sets_hs_c7)\n"
   ]
  },
  {
   "cell_type": "code",
   "execution_count": null,
   "id": "d075eb8a",
   "metadata": {},
   "outputs": [],
   "source": [
    "plot_four_gsea_condition(\"GSE11057_NAIVE_VS_EFF_MEMORY_CD4_TCELL_DN\", fgsea_sets_hs_c7)\n"
   ]
  },
  {
   "cell_type": "code",
   "execution_count": null,
   "id": "c4c22a79",
   "metadata": {},
   "outputs": [],
   "source": [
    "plot_four_gsea_condition(\"GSE11057_NAIVE_VS_EFF_MEMORY_CD4_TCELL_UP\", fgsea_sets_hs_c7)"
   ]
  },
  {
   "cell_type": "code",
   "execution_count": null,
   "id": "05fe9c0c",
   "metadata": {},
   "outputs": [],
   "source": [
    "plot_four_gsea_condition(\"GSE9650_NAIVE_VS_EFF_CD8_TCELL_UP\", fgsea_sets_hs_c7)"
   ]
  },
  {
   "cell_type": "code",
   "execution_count": null,
   "id": "ed72ffae",
   "metadata": {},
   "outputs": [],
   "source": [
    "plot_four_gsea_condition(\"GSE9650_NAIVE_VS_EFF_CD8_TCELL_DN\", fgsea_sets_hs_c7)"
   ]
  },
  {
   "cell_type": "code",
   "execution_count": null,
   "id": "ec4dab40",
   "metadata": {},
   "outputs": [],
   "source": [
    "plot_four_gsea_condition(\"GSE22886_NAIVE_CD8_TCELL_VS_NKCELL_UP\", fgsea_sets_hs_c7)"
   ]
  },
  {
   "cell_type": "code",
   "execution_count": null,
   "id": "3e58b895",
   "metadata": {},
   "outputs": [],
   "source": [
    "plot_four_gsea_condition(\"GSE22886_NAIVE_CD8_TCELL_VS_NKCELL_DN\", fgsea_sets_hs_c7)"
   ]
  },
  {
   "cell_type": "code",
   "execution_count": null,
   "id": "15d6deb8",
   "metadata": {},
   "outputs": [],
   "source": [
    "plot_four_gsea_condition(\"GSE22886_NAIVE_CD4_TCELL_VS_NKCELL_DN\", fgsea_sets_hs_c7)"
   ]
  },
  {
   "cell_type": "code",
   "execution_count": null,
   "id": "b9fc76f2",
   "metadata": {},
   "outputs": [],
   "source": [
    "plot_four_gsea_condition(\"GSE22886_NAIVE_CD4_TCELL_VS_NKCELL_UP\", fgsea_sets_hs_c7)"
   ]
  },
  {
   "cell_type": "code",
   "execution_count": null,
   "id": "a3bb364b",
   "metadata": {},
   "outputs": [],
   "source": [
    "intersect(fgsea_sets_hs_c7[[\"GSE9650_NAIVE_VS_EFF_CD8_TCELL_DN\"]], \n",
    "          fgsea_sets_hs_c2[[\"REACTOME_INTERFERON_ALPHA_BETA_SIGNALING\"]])"
   ]
  },
  {
   "cell_type": "code",
   "execution_count": null,
   "id": "1dddcaa4",
   "metadata": {},
   "outputs": [],
   "source": [
    "\n",
    "    which((fgsea_sets_hs_c7[[\"GSE9650_NAIVE_VS_EFF_CD8_TCELL_DN\"]] %in% \n",
    "      intersect(fgsea_sets_hs_c7[[\"GSE9650_NAIVE_VS_EFF_CD8_TCELL_DN\"]], \n",
    "          fgsea_sets_hs_c2[[\"REACTOME_INTERFERON_ALPHA_BETA_SIGNALING\"]])) == F)"
   ]
  },
  {
   "cell_type": "code",
   "execution_count": null,
   "id": "5a5bbe16",
   "metadata": {},
   "outputs": [],
   "source": [
    "keep  <- \n",
    "    which((fgsea_sets_hs_c7[[\"GSE9650_NAIVE_VS_EFF_CD8_TCELL_DN\"]] %in% \n",
    "      intersect(fgsea_sets_hs_c7[[\"GSE9650_NAIVE_VS_EFF_CD8_TCELL_DN\"]], \n",
    "          fgsea_sets_hs_c2[[\"REACTOME_INTERFERON_ALPHA_BETA_SIGNALING\"]])) == F)"
   ]
  },
  {
   "cell_type": "code",
   "execution_count": null,
   "id": "976f9983",
   "metadata": {},
   "outputs": [],
   "source": [
    "fgsea_sets_hs_c7[[\"GSE9650_NAIVE_VS_EFF_CD8_TCELL_DN\"]][keep]                    "
   ]
  },
  {
   "cell_type": "code",
   "execution_count": null,
   "id": "b1239792",
   "metadata": {},
   "outputs": [],
   "source": [
    "plot_four_gsea_condition  <- function(genes){\n",
    "   #fgsea_sets  <- fgsea_set\n",
    "    p  <- plotEnrichment(genes,\n",
    "               ranks_cd8_t0) + labs(title=\"CD8 Dia T0 vs Ctrl.\") + ylim(-0.8,0.8) + ggtheme() +\n",
    "    plotEnrichment(genes,\n",
    "               ranks_cd8_t1) + labs(title=\"CD8 Dia T1 vs Ctrl.\") + ylim(-0.8,0.8) + ggtheme() +\n",
    "    plotEnrichment(genes,\n",
    "               ranks_cd4_t0) + labs(title=\"CD4 Dia T0 vs Ctrl.\") + ylim(-0.8,0.8) + ggtheme() +\n",
    "    plotEnrichment(genes,\n",
    "               ranks_cd4_t1) + labs(title=\"CD4 Dia T1 vs Ctrl.\") + ylim(-0.8,0.8) +  ggtheme() + \n",
    "    plot_annotation(title = \"\")\n",
    "    \n",
    "    #ggsave(p, filename = paste0(\"../figures/gsea/\",gsea,\".svg\"), width = 24, height = 24, units = \"cm\")\n",
    "    return(p)\n",
    "}"
   ]
  },
  {
   "cell_type": "code",
   "execution_count": null,
   "id": "8ae93a34",
   "metadata": {},
   "outputs": [],
   "source": [
    "genes_cd8  <- fgsea_sets_hs_c7[[\"GSE9650_NAIVE_VS_EFF_CD8_TCELL_DN\"]][keep]                    "
   ]
  },
  {
   "cell_type": "code",
   "execution_count": null,
   "id": "a2133d55",
   "metadata": {},
   "outputs": [],
   "source": [
    "plot_four_gsea_condition(genes_cd8)"
   ]
  },
  {
   "cell_type": "code",
   "execution_count": null,
   "id": "102d74ee",
   "metadata": {},
   "outputs": [],
   "source": [
    "keep  <- \n",
    "    which((fgsea_sets_hs_c7[[\"GSE11057_NAIVE_VS_EFF_MEMORY_CD4_TCELL_DN\"]] %in% \n",
    "      intersect(fgsea_sets_hs_c7[[\"GSE11057_NAIVE_VS_EFF_MEMORY_CD4_TCELL_DN\"]], \n",
    "          fgsea_sets_hs_c2[[\"REACTOME_INTERFERON_ALPHA_BETA_SIGNALING\"]])) == F)"
   ]
  },
  {
   "cell_type": "code",
   "execution_count": null,
   "id": "7d107430",
   "metadata": {},
   "outputs": [],
   "source": [
    "genes_cd4  <- fgsea_sets_hs_c7[[\"GSE11057_NAIVE_VS_EFF_MEMORY_CD4_TCELL_DN\"]][keep]                    "
   ]
  },
  {
   "cell_type": "code",
   "execution_count": null,
   "id": "3274a803",
   "metadata": {},
   "outputs": [],
   "source": [
    "genes_cd4"
   ]
  },
  {
   "cell_type": "code",
   "execution_count": null,
   "id": "68da3bb2",
   "metadata": {},
   "outputs": [],
   "source": [
    "plot_four_gsea_condition(genes_cd4)"
   ]
  },
  {
   "cell_type": "code",
   "execution_count": null,
   "id": "e4ea2ead",
   "metadata": {},
   "outputs": [],
   "source": []
  },
  {
   "cell_type": "code",
   "execution_count": null,
   "id": "d0998af3",
   "metadata": {},
   "outputs": [],
   "source": [
    "keep  <- \n",
    "    which((fgsea_sets_hs_c7[[\"GSE13485_CTRL_VS_DAY7_YF17D_VACCINE_PBMC_DN\"]] %in% \n",
    "      intersect(fgsea_sets_hs_c7[[\"GSE13485_CTRL_VS_DAY7_YF17D_VACCINE_PBMC_DN\"]], \n",
    "          fgsea_sets_hs_c2[[\"REACTOME_INTERFERON_ALPHA_BETA_SIGNALING\"]])) == F)\n",
    "\n",
    "genes_cd4  <- fgsea_sets_hs_c7[[\"GSE13485_CTRL_VS_DAY7_YF17D_VACCINE_PBMC_DN\"]][keep]                    \n",
    "\n",
    "genes_cd4\n",
    "\n",
    "plot_four_gsea_condition(genes_cd4)"
   ]
  },
  {
   "cell_type": "code",
   "execution_count": null,
   "id": "499f2a78",
   "metadata": {},
   "outputs": [],
   "source": [
    "fgsea_sets_hs_c2[[\"REACTOME_INTERFERON_ALPHA_BETA_SIGNALING\"]]"
   ]
  },
  {
   "cell_type": "code",
   "execution_count": null,
   "id": "42b9a6e1",
   "metadata": {},
   "outputs": [],
   "source": [
    "fgsea_sets_hs_c7[[\"GSE13485_CTRL_VS_DAY7_YF17D_VACCINE_PBMC_DN\"]]"
   ]
  },
  {
   "cell_type": "code",
   "execution_count": null,
   "id": "e949a325",
   "metadata": {},
   "outputs": [],
   "source": [
    "intersect(fgsea_sets_hs_c7[[\"GSE13485_CTRL_VS_DAY7_YF17D_VACCINE_PBMC_DN\"]], \n",
    "          fgsea_sets_hs_c2[[\"REACTOME_INTERFERON_ALPHA_BETA_SIGNALING\"]])"
   ]
  },
  {
   "cell_type": "code",
   "execution_count": null,
   "id": "43e7681a",
   "metadata": {},
   "outputs": [],
   "source": []
  },
  {
   "cell_type": "code",
   "execution_count": null,
   "id": "eaf8a680",
   "metadata": {},
   "outputs": [],
   "source": []
  },
  {
   "cell_type": "markdown",
   "id": "fe1f2b3b",
   "metadata": {},
   "source": [
    "# GSEA heatmap"
   ]
  },
  {
   "cell_type": "markdown",
   "id": "8e0b1902",
   "metadata": {},
   "source": [
    "## GSEA - Dia T0 vs Ctrl T0"
   ]
  },
  {
   "cell_type": "code",
   "execution_count": null,
   "id": "a65e4970",
   "metadata": {},
   "outputs": [],
   "source": [
    "m_df<- msigdbr(species = \"Homo sapiens\", category = \"C7\")\n"
   ]
  },
  {
   "cell_type": "code",
   "execution_count": null,
   "id": "7bbf20e3",
   "metadata": {},
   "outputs": [],
   "source": [
    "fgsea_sets<- m_df %>% split(x = .$gene_symbol, f = .$gs_name)"
   ]
  },
  {
   "cell_type": "code",
   "execution_count": null,
   "id": "d89c2666",
   "metadata": {},
   "outputs": [],
   "source": [
    "paths_fc  <- list.files(\"../tables/fold_change\", full.names = T)\n",
    "dataset_names  <- list.files(\"../tables/fold_change\", full.names = F)\n"
   ]
  },
  {
   "cell_type": "code",
   "execution_count": null,
   "id": "58751443",
   "metadata": {},
   "outputs": [],
   "source": [
    "paths_fc"
   ]
  },
  {
   "cell_type": "code",
   "execution_count": null,
   "id": "f84c80c0",
   "metadata": {},
   "outputs": [],
   "source": [
    "paths_fc  <- paths_fc[grepl(paths_fc, pattern = \"_Ctrl_vs_DiaT0\")]\n",
    "dataset_names  <- dataset_names[grepl(dataset_names, pattern = \"_Ctrl_vs_DiaT0\")]"
   ]
  },
  {
   "cell_type": "code",
   "execution_count": null,
   "id": "acb384dc",
   "metadata": {},
   "outputs": [],
   "source": [
    "dataset_names"
   ]
  },
  {
   "cell_type": "code",
   "execution_count": null,
   "id": "21e9bbd0",
   "metadata": {},
   "outputs": [],
   "source": [
    "paths_fc"
   ]
  },
  {
   "cell_type": "code",
   "execution_count": null,
   "id": "6890106e",
   "metadata": {},
   "outputs": [],
   "source": [
    "gsea_all_pathways  <- function(j) {\n",
    "  print(j)\n",
    "fc.df  <- read_csv(paths_fc[j])  %>% as.data.frame()\n",
    "fc.df  <- fc.df  %>%  arrange(desc(avg_log2FC)) %>% \n",
    "dplyr::filter(cluster == \"Dia T0\")  %>% \n",
    "  dplyr::select(gene, avg_log2FC)\n",
    "ranks<- deframe(fc.df)\n",
    "fgseaRes <- fgsea(pathways = fgsea_sets, \n",
    "                 stats = ranks)\n",
    " fgseaRes$dataset  <-   gsub(dataset_names[j], pattern = \".csv\", replacement = \"\")\n",
    "fgseaRes <- fgseaRes  %>% dplyr::filter(padj < 0.05)\n",
    " return(fgseaRes)\n",
    "    }"
   ]
  },
  {
   "cell_type": "code",
   "execution_count": null,
   "id": "042da8e4",
   "metadata": {
    "scrolled": true
   },
   "outputs": [],
   "source": [
    "gsea_diat0_vs_ctrl  <- map(.x = c(1:length(paths_fc)), .f = gsea_all_pathways)"
   ]
  },
  {
   "cell_type": "code",
   "execution_count": null,
   "id": "674da587",
   "metadata": {},
   "outputs": [],
   "source": [
    "gseas_diat0_vs_ctrl  <- bind_rows(gsea_diat0_vs_ctrl)"
   ]
  },
  {
   "cell_type": "code",
   "execution_count": null,
   "id": "756f7171",
   "metadata": {
    "scrolled": true
   },
   "outputs": [],
   "source": [
    "gseas_diat0_vs_ctrl  %>% arrange(padj)"
   ]
  },
  {
   "cell_type": "code",
   "execution_count": null,
   "id": "6411c788",
   "metadata": {
    "scrolled": true
   },
   "outputs": [],
   "source": [
    "gseas_diat0_vs_ctrl  %>% as.data.frame"
   ]
  },
  {
   "cell_type": "code",
   "execution_count": null,
   "id": "d04469a4",
   "metadata": {},
   "outputs": [],
   "source": [
    "gseas_diat0_vs_ctrl_df  <- gseas_diat0_vs_ctrl  %>% as.data.frame"
   ]
  },
  {
   "cell_type": "code",
   "execution_count": null,
   "id": "2a257c41",
   "metadata": {
    "scrolled": true
   },
   "outputs": [],
   "source": [
    "gseas_diat0_vs_ctrl  <- gseas_diat0_vs_ctrl  %>% mutate(\n",
    "    leadingEdge2 = paste(leadingEdge))"
   ]
  },
  {
   "cell_type": "code",
   "execution_count": null,
   "id": "b87c35ca",
   "metadata": {},
   "outputs": [],
   "source": [
    "gseas_diat0_vs_ctrl$leadingEdge  <- NULL"
   ]
  },
  {
   "cell_type": "code",
   "execution_count": null,
   "id": "ccb4cdde",
   "metadata": {},
   "outputs": [],
   "source": [
    "write.csv(gseas_diat0_vs_ctrl, \"../tables/gsea/gsea_fold_changes_diat0_vsctrl.csv\")"
   ]
  },
  {
   "cell_type": "markdown",
   "id": "cf05811c",
   "metadata": {},
   "source": [
    "## GSEA - Dia T1 vs Ctrl T1"
   ]
  },
  {
   "cell_type": "code",
   "execution_count": null,
   "id": "542bb0d1",
   "metadata": {},
   "outputs": [],
   "source": [
    "m_df<- msigdbr(species = \"Homo sapiens\", category = \"C7\")\n"
   ]
  },
  {
   "cell_type": "code",
   "execution_count": null,
   "id": "63b263c1",
   "metadata": {},
   "outputs": [],
   "source": [
    "fgsea_sets<- m_df %>% split(x = .$gene_symbol, f = .$gs_name)"
   ]
  },
  {
   "cell_type": "code",
   "execution_count": null,
   "id": "7db259b8",
   "metadata": {},
   "outputs": [],
   "source": [
    "paths_fc  <- list.files(\"../tables/fold_change\", full.names = T)\n",
    "dataset_names  <- list.files(\"../tables/fold_change\", full.names = F)\n"
   ]
  },
  {
   "cell_type": "code",
   "execution_count": null,
   "id": "7fc88119",
   "metadata": {},
   "outputs": [],
   "source": [
    "paths_fc  <- paths_fc[grepl(paths_fc, pattern = \"_Ctrl_vs_DiaT1\")]\n",
    "dataset_names  <- dataset_names[grepl(dataset_names, pattern = \"_Ctrl_vs_DiaT1\")]"
   ]
  },
  {
   "cell_type": "code",
   "execution_count": null,
   "id": "4e004e4a",
   "metadata": {},
   "outputs": [],
   "source": [
    "dataset_names"
   ]
  },
  {
   "cell_type": "code",
   "execution_count": null,
   "id": "018cddfc",
   "metadata": {},
   "outputs": [],
   "source": [
    "paths_fc"
   ]
  },
  {
   "cell_type": "code",
   "execution_count": null,
   "id": "827ab0d6",
   "metadata": {},
   "outputs": [],
   "source": [
    "gsea_all_pathways  <- function(j) {\n",
    "  print(j)\n",
    "fc.df  <- read_csv(paths_fc[j])  %>% as.data.frame()\n",
    "fc.df  <- fc.df  %>%  arrange(desc(avg_log2FC)) %>% \n",
    "dplyr::filter(cluster == \"Dia T1\")  %>% \n",
    "  dplyr::select(gene, avg_log2FC)\n",
    "ranks<- deframe(fc.df)\n",
    "fgseaRes <- fgsea(pathways = fgsea_sets, \n",
    "                 stats = ranks)\n",
    " fgseaRes$dataset  <-   gsub(dataset_names[j], pattern = \".csv\", replacement = \"\")\n",
    "fgseaRes <- fgseaRes  %>% dplyr::filter(padj < 0.05)\n",
    " return(fgseaRes)\n",
    "    }"
   ]
  },
  {
   "cell_type": "code",
   "execution_count": null,
   "id": "071c809e",
   "metadata": {
    "scrolled": true
   },
   "outputs": [],
   "source": [
    "gsea_diat1_vs_ctrl  <- map(.x = c(1:length(paths_fc)), .f = gsea_all_pathways)"
   ]
  },
  {
   "cell_type": "code",
   "execution_count": null,
   "id": "7bd05e45",
   "metadata": {},
   "outputs": [],
   "source": [
    "gseas_diat1_vs_ctrl  <- bind_rows(gsea_diat1_vs_ctrl)"
   ]
  },
  {
   "cell_type": "code",
   "execution_count": null,
   "id": "37ee8fe1",
   "metadata": {
    "scrolled": true
   },
   "outputs": [],
   "source": [
    "gseas_diat1_vs_ctrl  %>% arrange(padj)"
   ]
  },
  {
   "cell_type": "code",
   "execution_count": null,
   "id": "e6ccf3d2",
   "metadata": {
    "scrolled": true
   },
   "outputs": [],
   "source": [
    "gseas_diat1_vs_ctrl  %>% as.data.frame"
   ]
  },
  {
   "cell_type": "code",
   "execution_count": null,
   "id": "44c01f7b",
   "metadata": {},
   "outputs": [],
   "source": [
    "gseas_diat1_vs_ctrl_df  <- gseas_diat1_vs_ctrl  %>% as.data.frame"
   ]
  },
  {
   "cell_type": "code",
   "execution_count": null,
   "id": "2b528369",
   "metadata": {
    "scrolled": true
   },
   "outputs": [],
   "source": [
    "gseas_diat1_vs_ctrl  <- gseas_diat1_vs_ctrl  %>% mutate(\n",
    "    leadingEdge2 = paste(leadingEdge))"
   ]
  },
  {
   "cell_type": "code",
   "execution_count": null,
   "id": "7806ad32",
   "metadata": {},
   "outputs": [],
   "source": [
    "gseas_diat1_vs_ctrl$leadingEdge  <- NULL"
   ]
  },
  {
   "cell_type": "code",
   "execution_count": null,
   "id": "179c59db",
   "metadata": {},
   "outputs": [],
   "source": [
    "write.csv(gseas_diat1_vs_ctrl, \"../tables/gsea/gsea_fold_changes_diat1_vsctrl.csv\")"
   ]
  },
  {
   "cell_type": "code",
   "execution_count": null,
   "id": "3d85351b",
   "metadata": {},
   "outputs": [],
   "source": []
  },
  {
   "cell_type": "code",
   "execution_count": null,
   "id": "4e6bce01",
   "metadata": {},
   "outputs": [],
   "source": []
  },
  {
   "cell_type": "code",
   "execution_count": null,
   "id": "ceb53b24",
   "metadata": {},
   "outputs": [],
   "source": []
  },
  {
   "cell_type": "code",
   "execution_count": null,
   "id": "469a9d2f",
   "metadata": {},
   "outputs": [],
   "source": [
    "gseas  <- read_delim(\"../tables/gsea/gsea_fold_changes_dia_vsctrl.csv\")"
   ]
  },
  {
   "cell_type": "code",
   "execution_count": null,
   "id": "b674cdd5",
   "metadata": {},
   "outputs": [],
   "source": [
    "gseas"
   ]
  },
  {
   "cell_type": "markdown",
   "id": "a3cc2401",
   "metadata": {},
   "source": [
    "# GSEA Treg"
   ]
  },
  {
   "cell_type": "markdown",
   "id": "bff09043",
   "metadata": {},
   "source": [
    "### IPEX Treg our Treg"
   ]
  },
  {
   "cell_type": "code",
   "execution_count": null,
   "id": "3914ee99",
   "metadata": {},
   "outputs": [],
   "source": [
    "fc.df  <- read_csv(\"../tables/fold_change/cd4_l3_treg.csv\")  %>% as.data.frame()\n"
   ]
  },
  {
   "cell_type": "code",
   "execution_count": null,
   "id": "0d139ed7",
   "metadata": {
    "scrolled": true
   },
   "outputs": [],
   "source": [
    "fc.df"
   ]
  },
  {
   "cell_type": "code",
   "execution_count": null,
   "id": "de2f98df",
   "metadata": {},
   "outputs": [],
   "source": [
    "zemmour  <- read_xlsx(\"../data/published_data/Zemmour_2018/zemmour2.xlsx\")"
   ]
  },
  {
   "cell_type": "code",
   "execution_count": null,
   "id": "5b816d11",
   "metadata": {},
   "outputs": [],
   "source": [
    "table(zemmour$gene %in% fc.df$gene)"
   ]
  },
  {
   "cell_type": "markdown",
   "id": "8d39676b",
   "metadata": {},
   "source": [
    "zemmour is ipex vs healthy"
   ]
  },
  {
   "cell_type": "code",
   "execution_count": null,
   "id": "d02e3868",
   "metadata": {
    "scrolled": true
   },
   "outputs": [],
   "source": [
    "fc.df  %>% dplyr::filter(cluster == \"Dia\")  %>% left_join(zemmour) "
   ]
  },
  {
   "cell_type": "code",
   "execution_count": null,
   "id": "a01b7df3",
   "metadata": {},
   "outputs": [],
   "source": [
    "ipex_in_our  <- fc.df  %>% dplyr::filter(cluster == \"Dia\")  %>% left_join(zemmour)  %>% \n",
    "dplyr::filter(!is.na(Average_FC_in_Treg))"
   ]
  },
  {
   "cell_type": "code",
   "execution_count": null,
   "id": "b13d287d",
   "metadata": {
    "scrolled": true
   },
   "outputs": [],
   "source": [
    "ipex_in_our"
   ]
  },
  {
   "cell_type": "code",
   "execution_count": null,
   "id": "a862e157",
   "metadata": {},
   "outputs": [],
   "source": [
    "ipex_in_our %>%  ggplot(aes(x=avg_log2FC, y=Average_FC_in_Treg)) +\n",
    "  geom_point(shape = 16, size = 2) +\n",
    " geom_smooth(method=lm) + ggtitle(\"\") +stat_cor() + theme_classic() + ggtheme() +\n",
    " scale_y_continuous() + NoLegend() +\n",
    "geom_hline(yintercept = 1)"
   ]
  },
  {
   "cell_type": "code",
   "execution_count": null,
   "id": "5224abd3",
   "metadata": {},
   "outputs": [],
   "source": [
    "treg_ipex_up  <- ipex_in_our  %>% dplyr::filter(Average_FC_in_Treg>1)  %>% pull(gene)"
   ]
  },
  {
   "cell_type": "code",
   "execution_count": null,
   "id": "b1893573",
   "metadata": {},
   "outputs": [],
   "source": [
    "treg_ipex_down  <- ipex_in_our  %>% dplyr::filter(Average_FC_in_Treg<1)  %>% pull(gene)"
   ]
  },
  {
   "cell_type": "code",
   "execution_count": null,
   "id": "1f5ff573",
   "metadata": {},
   "outputs": [],
   "source": [
    "# CD4L1\n",
    "fc.df  <- read_csv(\"../tables/fold_change/cd4_l3_treg.csv\")  %>% as.data.frame()\n",
    "fc.df  <- fc.df  %>%  arrange(desc(avg_log2FC)) %>% \n",
    "dplyr::filter(cluster == \"Dia\")  %>% \n",
    "  dplyr::select(gene, avg_log2FC)\n",
    "ranks<- deframe(fc.df)"
   ]
  },
  {
   "cell_type": "code",
   "execution_count": null,
   "id": "929e7d4a",
   "metadata": {},
   "outputs": [],
   "source": [
    "options(repr.plot.width = 5, repr.plot.height = 3)\n",
    "\n",
    "plotEnrichment(treg_ipex_up,\n",
    "               ranks) + labs(title=\"treg_ipex_up\") \n",
    "\n",
    "plotEnrichment(treg_ipex_down,\n",
    "               ranks) + labs(title=\"treg_ipex_down\") \n"
   ]
  },
  {
   "cell_type": "code",
   "execution_count": null,
   "id": "f05ded98",
   "metadata": {},
   "outputs": [],
   "source": [
    "fgseaRes <- fgsea(pathways = list(treg_ipex_up = treg_ipex_up, treg_ipex_down = treg_ipex_down), \n",
    "                 stats = ranks)"
   ]
  },
  {
   "cell_type": "code",
   "execution_count": null,
   "id": "5ae1edd4",
   "metadata": {},
   "outputs": [],
   "source": [
    "fgseaRes"
   ]
  },
  {
   "cell_type": "code",
   "execution_count": null,
   "id": "b1ddc8b3",
   "metadata": {
    "scrolled": true
   },
   "outputs": [],
   "source": [
    "ipex_in_our"
   ]
  },
  {
   "cell_type": "code",
   "execution_count": null,
   "id": "62bedefa",
   "metadata": {},
   "outputs": [],
   "source": [
    "ipex_in_our_rank  <- ipex_in_our  %>% dplyr::select(avg_log2FC, Average_FC_in_Treg)  %>% \n",
    "mutate_each(funs(dense_rank(-.))) "
   ]
  },
  {
   "cell_type": "code",
   "execution_count": null,
   "id": "2fb9c896",
   "metadata": {
    "scrolled": true
   },
   "outputs": [],
   "source": [
    "ipex_in_our_rank$gene  <- ipex_in_our$gene"
   ]
  },
  {
   "cell_type": "code",
   "execution_count": null,
   "id": "359be6cf",
   "metadata": {
    "scrolled": true
   },
   "outputs": [],
   "source": [
    "ipex_in_our_rank"
   ]
  },
  {
   "cell_type": "code",
   "execution_count": null,
   "id": "12d3e54f",
   "metadata": {
    "scrolled": true
   },
   "outputs": [],
   "source": [
    "ipex_in_our_rank %>% mutate(decile_ipex = ntile(Average_FC_in_Treg, 10),\n",
    "                            dec_our = ntile(avg_log2FC, 10)\n",
    "                            )  %>% group_by(decile_ipex, dec_our)  %>% tally"
   ]
  },
  {
   "cell_type": "code",
   "execution_count": null,
   "id": "1d79bd31",
   "metadata": {},
   "outputs": [],
   "source": [
    "\n",
    "options(repr.plot.width = 6, repr.plot.height = 5)\n",
    "ipex_in_our_rank %>% mutate(decile_ipex = ntile(Average_FC_in_Treg, 8),\n",
    "                            dec_our = ntile(avg_log2FC, 8)\n",
    "                            )  %>% group_by(decile_ipex, dec_our)  %>% tally  %>% \n",
    "ggplot(aes(decile_ipex, dec_our)) + \n",
    "  geom_point(aes(size = n, colour = n)) + \n",
    "  theme_bw() + scale_size_continuous(range=c(7,12)) +\n",
    "  geom_text(aes(label = n)) + \n",
    "  scale_colour_gradient2(low = \"lightskyblue\", mid = \"lightsteelblue2\", high = \"salmon\", midpoint = 2) +\n",
    "  theme_bw()\n"
   ]
  },
  {
   "cell_type": "code",
   "execution_count": null,
   "id": "33cb0d87",
   "metadata": {},
   "outputs": [],
   "source": [
    "ipex_in_our_rank %>% mutate(decile_ipex = ntile(Average_FC_in_Treg, 10),\n",
    "                            decile_our = ntile(avg_log2FC, 10)\n",
    "                            )  %>% dplyr::filter(decile_ipex == 10 & decile_our == 10)"
   ]
  },
  {
   "cell_type": "code",
   "execution_count": null,
   "id": "0af93d2e",
   "metadata": {},
   "outputs": [],
   "source": [
    "genes_first_decile  <- ipex_in_our_rank %>% mutate(decile_ipex = ntile(Average_FC_in_Treg, 10),\n",
    "                            decile_our = ntile(avg_log2FC, 10)\n",
    "                            )  %>% dplyr::filter(decile_ipex == 1 & decile_our == 1)  %>% pull(gene)"
   ]
  },
  {
   "cell_type": "code",
   "execution_count": null,
   "id": "c88838e7",
   "metadata": {
    "scrolled": true
   },
   "outputs": [],
   "source": [
    "ipex_in_our  %>% dplyr::filter(gene %in% genes_first_decile)"
   ]
  },
  {
   "cell_type": "code",
   "execution_count": null,
   "id": "85f86af4",
   "metadata": {},
   "outputs": [],
   "source": [
    "genes_last_decile  <- ipex_in_our_rank %>% mutate(decile_ipex = ntile(Average_FC_in_Treg, 10),\n",
    "                            decile_our = ntile(avg_log2FC, 10)\n",
    "                            )  %>% dplyr::filter(decile_ipex == 10 & decile_our == 10)  %>% pull(gene)"
   ]
  },
  {
   "cell_type": "code",
   "execution_count": null,
   "id": "e40640cc",
   "metadata": {},
   "outputs": [],
   "source": [
    "genes_last_zemmour  <- ipex_in_our_rank %>% mutate(\n",
    "                            decile_ipex = ntile(Average_FC_in_Treg, 10),\n",
    "                            )  %>% dplyr::filter(decile_ipex == 10)  %>% pull(gene)"
   ]
  },
  {
   "cell_type": "code",
   "execution_count": null,
   "id": "1351026b",
   "metadata": {},
   "outputs": [],
   "source": [
    "genes_first_zemmour  <- ipex_in_our_rank %>% mutate(\n",
    "                            decile_ipex = ntile(Average_FC_in_Treg, 10),\n",
    "                            )  %>% dplyr::filter(decile_ipex == 1)  %>% pull(gene)"
   ]
  },
  {
   "cell_type": "code",
   "execution_count": null,
   "id": "b84bef54",
   "metadata": {},
   "outputs": [],
   "source": [
    "genes_first_zemmour"
   ]
  },
  {
   "cell_type": "code",
   "execution_count": null,
   "id": "97940a73",
   "metadata": {},
   "outputs": [],
   "source": [
    "genes_last_zemmour"
   ]
  },
  {
   "cell_type": "code",
   "execution_count": null,
   "id": "2da7e080",
   "metadata": {},
   "outputs": [],
   "source": [
    "write.csv(genes_first_zemmour, \"../data/published_data/Zemmour_2018/genes_first_zemmour.csv\")\n",
    "write.csv(genes_last_zemmour, \"../data/published_data/Zemmour_2018/genes_last_zemmour.csv\")"
   ]
  },
  {
   "cell_type": "markdown",
   "id": "3c824cc1",
   "metadata": {},
   "source": [
    "## IPEX CD4 in CD4"
   ]
  },
  {
   "cell_type": "code",
   "execution_count": null,
   "id": "3a7dbaa4",
   "metadata": {},
   "outputs": [],
   "source": [
    "# CD4L1\n",
    "fc.df  <- read_csv(\"../tables/fold_change/cd4_l1_full_filt.csv\")  %>% as.data.frame()\n",
    "fc.df  <- fc.df  %>%  arrange(desc(avg_log2FC)) %>% \n",
    "dplyr::filter(cluster == \"Dia\")  %>% \n",
    "  dplyr::select(gene, avg_log2FC)\n",
    "ranks<- deframe(fc.df)"
   ]
  },
  {
   "cell_type": "code",
   "execution_count": null,
   "id": "7e63dcd7",
   "metadata": {},
   "outputs": [],
   "source": [
    "zemmour  <- read_xlsx(\"../data/zemmour2.xlsx\")"
   ]
  },
  {
   "cell_type": "code",
   "execution_count": null,
   "id": "359be860",
   "metadata": {},
   "outputs": [],
   "source": [
    "table(zemmour$gene %in% fc.df$gene)"
   ]
  },
  {
   "cell_type": "markdown",
   "id": "2c218de2",
   "metadata": {},
   "source": [
    "zemmour is ipex vs healthy"
   ]
  },
  {
   "cell_type": "code",
   "execution_count": null,
   "id": "70c77e8e",
   "metadata": {},
   "outputs": [],
   "source": [
    "ipex_in_our  <- fc.df  %>% left_join(zemmour)  %>% \n",
    "dplyr::filter(!is.na(Average_FC_in_Tconv))"
   ]
  },
  {
   "cell_type": "code",
   "execution_count": null,
   "id": "aab22ba4",
   "metadata": {
    "scrolled": true
   },
   "outputs": [],
   "source": [
    "ipex_in_our"
   ]
  },
  {
   "cell_type": "code",
   "execution_count": null,
   "id": "433bd1e2",
   "metadata": {},
   "outputs": [],
   "source": [
    "ipex_in_our %>%  ggplot(aes(x=avg_log2FC, y=Average_FC_in_Tconv)) +\n",
    "  geom_point(shape = 16, size = 2) +\n",
    " geom_smooth(method=lm) + ggtitle(\"\") +stat_cor() + theme_classic() + ggtheme() +\n",
    " scale_y_continuous() + NoLegend() +\n",
    "geom_hline(yintercept = 1)"
   ]
  },
  {
   "cell_type": "code",
   "execution_count": null,
   "id": "0182a274",
   "metadata": {},
   "outputs": [],
   "source": [
    "cd4_ipex_up  <- ipex_in_our  %>% dplyr::filter(Average_FC_in_Tconv>1)  %>% pull(gene)"
   ]
  },
  {
   "cell_type": "code",
   "execution_count": null,
   "id": "5e9bf36f",
   "metadata": {},
   "outputs": [],
   "source": [
    "cd4_ipex_down  <- ipex_in_our  %>% dplyr::filter(Average_FC_in_Tconv<1)  %>% pull(gene)"
   ]
  },
  {
   "cell_type": "code",
   "execution_count": null,
   "id": "b13507f3",
   "metadata": {},
   "outputs": [],
   "source": [
    "\n",
    "plotEnrichment(treg_ipex_up,\n",
    "               ranks) + labs(title=\"cd4_ipex_up\") \n",
    "\n",
    "ggsave(filename = \"../figures/gsea/pathway_plot_ipex_in_treg_up.png\", width = 15, height = 9, units = \"cm\")\n",
    "ggsave(filename = \"../figures/gsea/pathway_plot_ipex_in_treg_up.svg\", width = 15, height = 9, units = \"cm\")\n",
    "\n",
    "\n",
    "plotEnrichment(treg_ipex_down,\n",
    "               ranks) + labs(title=\"cd4_ipex_down\") \n",
    "\n",
    "ggsave(filename = \"../figures/gsea/pathway_plot_ipex_in_treg_dn.png\", width = 15, height = 9, units = \"cm\")\n",
    "ggsave(filename = \"../figures/gsea/pathway_plot_ipex_in_treg_dn.svg\", width = 15, height = 9, units = \"cm\")\n"
   ]
  },
  {
   "cell_type": "code",
   "execution_count": null,
   "id": "a1cdb7c4",
   "metadata": {},
   "outputs": [],
   "source": [
    "fgseaRes <- fgsea(pathways = list(cd4_ipex_up = cd4_ipex_up, cd4_ipex_down = cd4_ipex_down), \n",
    "                 stats = ranks)"
   ]
  },
  {
   "cell_type": "code",
   "execution_count": null,
   "id": "b8682d86",
   "metadata": {},
   "outputs": [],
   "source": [
    "fgseaRes$leadingEdge"
   ]
  },
  {
   "cell_type": "markdown",
   "id": "6570bbcd",
   "metadata": {},
   "source": [
    "### Correlation plot"
   ]
  },
  {
   "cell_type": "code",
   "execution_count": null,
   "id": "94801cf0",
   "metadata": {
    "scrolled": true
   },
   "outputs": [],
   "source": [
    "ipex_in_our"
   ]
  },
  {
   "cell_type": "code",
   "execution_count": null,
   "id": "5f2a1b17",
   "metadata": {},
   "outputs": [],
   "source": [
    "ipex_in_our_rank  <- ipex_in_our  %>% dplyr::select(-gene)  %>% \n",
    "mutate_each(funs(dense_rank(-.))) "
   ]
  },
  {
   "cell_type": "code",
   "execution_count": null,
   "id": "2730e1da",
   "metadata": {
    "scrolled": true
   },
   "outputs": [],
   "source": [
    "ipex_in_our_rank$gene  <- ipex_in_our$gene"
   ]
  },
  {
   "cell_type": "code",
   "execution_count": null,
   "id": "bfded701",
   "metadata": {
    "scrolled": true
   },
   "outputs": [],
   "source": [
    "ipex_in_our_rank"
   ]
  },
  {
   "cell_type": "code",
   "execution_count": null,
   "id": "eb30c3cb",
   "metadata": {},
   "outputs": [],
   "source": [
    "ipex_in_our_rank %>%  ggplot(aes(x=avg_log2FC, y=Average_FC_in_Tconv)) +\n",
    "  geom_point(shape = 16, size = 2) +\n",
    " geom_smooth(method=lm) + ggtitle(\"\") +stat_cor() + theme_classic() + ggtheme() +\n",
    " scale_y_continuous() + NoLegend() +\n",
    "geom_hline(yintercept = 1)"
   ]
  },
  {
   "cell_type": "code",
   "execution_count": null,
   "id": "b7e5068b",
   "metadata": {
    "scrolled": true
   },
   "outputs": [],
   "source": [
    "ipex_in_our_rank %>% mutate(eightile_ipex = ntile(Average_FC_in_Tconv, 10),\n",
    "                            eight_our = ntile(avg_log2FC, 10)\n",
    "                            )  %>% group_by(eightile_ipex, eight_our)  %>% tally"
   ]
  },
  {
   "cell_type": "code",
   "execution_count": null,
   "id": "0c884e88",
   "metadata": {},
   "outputs": [],
   "source": [
    "\n",
    "options(repr.plot.width = 6, repr.plot.height = 5)\n",
    "ipex_in_our_rank %>% mutate(eightile_ipex = ntile(Average_FC_in_Tconv, 8),\n",
    "                            eight_our = ntile(avg_log2FC, 8)\n",
    "                            )  %>% group_by(eightile_ipex, eight_our)  %>% tally  %>% \n",
    "ggplot(aes(eightile_ipex, eight_our)) + \n",
    "  geom_point(aes(size = n, colour = n)) + \n",
    "  theme_bw() + scale_size_continuous(range=c(7,12)) +\n",
    "  geom_text(aes(label = n)) + \n",
    "  scale_colour_gradient2(low = \"lightskyblue\", mid = \"lightsteelblue2\", high = \"salmon\", midpoint = 2) +\n",
    "  theme_bw()\n"
   ]
  },
  {
   "cell_type": "code",
   "execution_count": null,
   "id": "2936f4ee",
   "metadata": {},
   "outputs": [],
   "source": [
    "ipex_in_our_rank %>% mutate(eightile_ipex = ntile(Average_FC_in_Tconv, 8),\n",
    "                            eight_our = ntile(avg_log2FC, 8)\n",
    "                            )  %>% dplyr::filter(eightile_ipex == 8 & eight_our == 8)"
   ]
  },
  {
   "cell_type": "code",
   "execution_count": null,
   "id": "b1793e6a",
   "metadata": {},
   "outputs": [],
   "source": [
    "genes_first_decile  <- ipex_in_our_rank %>% mutate(decile_ipex = ntile(Average_FC_in_Tconv, 8),\n",
    "                            decile_our = ntile(avg_log2FC, 8)\n",
    "                            )  %>% dplyr::filter(decile_ipex == 1 & decile_our == 1)  %>% pull(gene)"
   ]
  },
  {
   "cell_type": "code",
   "execution_count": null,
   "id": "dd188965",
   "metadata": {},
   "outputs": [],
   "source": [
    "ipex_in_our  %>% dplyr::filter(gene %in% genes_first_decile)"
   ]
  },
  {
   "cell_type": "code",
   "execution_count": null,
   "id": "b31749ca",
   "metadata": {},
   "outputs": [],
   "source": [
    "genes_last_decile  <- ipex_in_our_rank %>% mutate(decile_ipex = ntile(Average_FC_in_Tconv, 10),\n",
    "                            decile_our = ntile(avg_log2FC, 10)\n",
    "                            )  %>% dplyr::filter(decile_ipex == 10 & decile_our == 10)  %>% pull(gene)"
   ]
  },
  {
   "cell_type": "code",
   "execution_count": null,
   "id": "9d4faa58",
   "metadata": {},
   "outputs": [],
   "source": [
    "ipex_in_our  %>% dplyr::filter(gene %in% genes_last_decile)  %>% dplyr::select(gene) "
   ]
  },
  {
   "cell_type": "markdown",
   "id": "f34662f7",
   "metadata": {},
   "source": [
    "### Treg in Treg"
   ]
  },
  {
   "cell_type": "code",
   "execution_count": null,
   "id": "ba975067",
   "metadata": {},
   "outputs": [],
   "source": [
    "library(fgsea)"
   ]
  },
  {
   "cell_type": "code",
   "execution_count": null,
   "id": "de510dba",
   "metadata": {},
   "outputs": [],
   "source": [
    "# CD4L1\n",
    "fc.df  <- read_csv(\"../tables/fold_change/cd4_l3_treg.csv\")  %>% as.data.frame()\n",
    "fc.df  <- fc.df  %>%  arrange(desc(avg_log2FC)) %>% \n",
    "dplyr::filter(cluster == \"Dia\")  %>% \n",
    "  dplyr::select(gene, avg_log2FC)\n",
    "ranks<- deframe(fc.df)"
   ]
  },
  {
   "cell_type": "code",
   "execution_count": null,
   "id": "ea66737b",
   "metadata": {
    "scrolled": true
   },
   "outputs": [],
   "source": [
    "gseas  <- read_csv(\"../tables/gsea/gsea_fold_changes_dia_vsctrl.csv\")"
   ]
  },
  {
   "cell_type": "code",
   "execution_count": null,
   "id": "2cf73e37",
   "metadata": {
    "scrolled": true
   },
   "outputs": [],
   "source": [
    "gseas  %>% \n",
    "dplyr::filter(dataset == \"cd4_l3_treg\" & grepl(pathway, pattern = \"TREG\"))  %>% \n",
    "dplyr::select(-leadingEdge2)  %>% \n",
    "arrange(padj)"
   ]
  },
  {
   "cell_type": "code",
   "execution_count": null,
   "id": "76948d76",
   "metadata": {},
   "outputs": [],
   "source": [
    "gseas  %>% \n",
    "dplyr::filter(dataset == \"cd4_l3_treg\" & grepl(pathway, pattern = \"GSE40685_TREG_VS_FOXP3_KO_TREG_PRECURSOR\")) "
   ]
  },
  {
   "cell_type": "code",
   "execution_count": null,
   "id": "8453f69b",
   "metadata": {},
   "outputs": [],
   "source": [
    "gseas  %>% \n",
    "dplyr::filter(dataset == \"cd4_l3_treg\" & grepl(pathway, pattern = \"GSE40685_TREG_VS_FOXP3_KO_TREG_PRECURSOR_UP\"))  %>% pull(leadingEdge2) "
   ]
  },
  {
   "cell_type": "code",
   "execution_count": null,
   "id": "c22cb173",
   "metadata": {},
   "outputs": [],
   "source": [
    "gseas  %>% \n",
    "dplyr::filter(dataset == \"cd4_l3_treg\" & grepl(pathway, pattern = \"GSE40685_TREG_VS_FOXP3_KO_TREG_PRECURSOR_DN\"))  %>% pull(leadingEdge2) "
   ]
  },
  {
   "cell_type": "code",
   "execution_count": null,
   "id": "48a664ff",
   "metadata": {},
   "outputs": [],
   "source": [
    "intersect(c(\"HLA-DQB1\", \"IFI44L\", \"SOCS3\", \"EPSTI1\", \"TNFSF10\", \"HLA-DRA\", \"MYO1G\", \"RNF114\", \"OAS2\", \"IL2RA\", \"GLRX\", \"UBB\", \"GBP5\", \"CCDC69\", \"IFITM2\", \"TRANK1\", \"IFIT1\", \"C5orf15\", \"IFIH1\", \"PLAAT4\", \"GIMAP4\", \"JAK3\", \"TNF\", \"STAT2\", \"TBC1D2B\", \"DPYD\", \"GBP4\", \"TRIM69\", \"ORAI2\", \"CISH\", \"IGFLR1\", \"HAPLN3\", \"SP110\", \"SNX10\", \"IL12RB1\", \"WDR48\", \"CD38\", \"MTO1\", \"HELB\", \"NUP58\", \"DAPP1\", \"PARP14\", \"PSME1\", \"APOL3\", \"GCH1\", \"C1RL\", \"LGMN\", \"BATF\", \"IFIT2\", \"HIVEP2\", \"RNF20\", \"CRK\", \"APOL6\", \"PECAM1\", \"ZNFX1\", \"AKAP7\", \"SNRPC\", \"CNIH4\", \"SETBP1\", \"RSAD2\", \"PDE7A\", \"CD74\"),\n",
    "         c(\"BTN3A2\", \"MX1\", \"XAF1\", \"IFI44L\", \"EPSTI1\", \"LY6E\", \"TNFSF10\", \"RNF114\", \"OAS2\", \"SAMD9L\", \"RCSD1\", \"GBP5\", \"TRANK1\", \"PSME2\", \"GIMAP6\", \"TAP1\", \"PLAAT4\", \"HLA-A\", \"GIMAP4\", \"PCYT1A\", \"STAT2\", \"UBE2L6\", \"GBP4\", \"SEC14L1\", \"HAPLN3\", \"KDM6A\", \"VAMP5\", \"SP110\", \"SNX10\", \"ACSS1\", \"OASL\", \"APOL1\", \"PARP14\", \"PSME1\", \"ASPHD2\", \"IL17RA\", \"GCH1\", \"TRIM21\", \"RTP4\", \"WDFY1\", \"SCO2\", \"GRIPAP1\", \"IFIT2\", \"ADAR\", \"SH3GLB1\", \"APOL6\", \"SMCO4\", \"ZNFX1\", \"PIK3R3\", \"IRF9\", \"IFIT3\", \"PARP9\", \"PPP2R2A\", \"RSAD2\", \"CASP7\", \"THEMIS2\"))"
   ]
  },
  {
   "cell_type": "code",
   "execution_count": null,
   "id": "0e876658",
   "metadata": {},
   "outputs": [],
   "source": [
    "gseas  %>% dplyr::filter()"
   ]
  },
  {
   "cell_type": "code",
   "execution_count": null,
   "id": "734a5f10",
   "metadata": {},
   "outputs": [],
   "source": [
    "options(repr.plot.width = 20, repr.plot.height = 8)\n"
   ]
  },
  {
   "cell_type": "code",
   "execution_count": null,
   "id": "4e9ead64",
   "metadata": {},
   "outputs": [],
   "source": [
    "plotEnrichment(fgsea_sets[[\"GSE14415_INDUCED_TREG_VS_FAILED_INDUCED_TREG_DN\"]],\n",
    "               ranks) + labs(title=\"GSE14415_INDUCED_TREG_VS_FAILED_INDUCED_TREG_DN\") + \n",
    "\n",
    "plotEnrichment(fgsea_sets[[\"GSE14415_INDUCED_TREG_VS_FOXP3_KO_INDUCED_TREG_DN\"]],\n",
    "               ranks) + labs(title=\"GSE14415_INDUCED_TREG_VS_FOXP3_KO_INDUCED_TREG_DN\") +\n",
    "\n",
    "plotEnrichment(fgsea_sets[[\"GSE14415_INDUCED_TREG_VS_FOXP3_KO_INDUCED_TREG_IL2_CULTURE_UP\"]],\n",
    "               ranks) + labs(title=\"GSE14415_INDUCED_TREG_VS_FOXP3_KO_INDUCED_TREG_IL2_CULTURE_UP\") +\n",
    "\n",
    "plotEnrichment(fgsea_sets[[\"GSE14415_NATURAL_TREG_VS_FOXP3_KO_NATURAL_TREG_UP\"]],\n",
    "               ranks) + labs(title=\"GSE14415_NATURAL_TREG_VS_FOXP3_KO_NATURAL_TREG_UP\") "
   ]
  },
  {
   "cell_type": "code",
   "execution_count": null,
   "id": "98d98b9f",
   "metadata": {},
   "outputs": [],
   "source": [
    "plotEnrichment(fgsea_sets[[\"GSE14415_NATURAL_TREG_VS_TCONV_UP\"]],\n",
    "               ranks) + labs(title=\"GSE14415_NATURAL_TREG_VS_TCONV_UP\") + \n",
    "\n",
    "plotEnrichment(fgsea_sets[[\"GSE14415_ACT_TCONV_VS_ACT_NATURAL_TREG_DN\"]],\n",
    "               ranks) + labs(title=\"GSE14415_ACT_TCONV_VS_ACT_NATURAL_TREG_DN\") +\n",
    "\n",
    "plotEnrichment(fgsea_sets[[\"GSE18893_TCONV_VS_TREG_2H_CULTURE_DN\"]],\n",
    "               ranks) + labs(title=\"GSE18893_TCONV_VS_TREG_2H_CULTURE_DN\") +\n",
    "\n",
    "plotEnrichment(fgsea_sets[[\"GSE27434_WT_VS_DNMT1_KO_TREG_DN\"]],\n",
    "               ranks) + labs(title=\"GSE27434_WT_VS_DNMT1_KO_TREG_DN\") "
   ]
  },
  {
   "cell_type": "code",
   "execution_count": null,
   "id": "adaa5f31",
   "metadata": {},
   "outputs": [],
   "source": [
    "plotEnrichment(fgsea_sets[[\"GSE37532_WT_VS_PPARG_KO_LN_TREG_DN\"]],\n",
    "               ranks) + labs(title=\"GSE37532_WT_VS_PPARG_KO_LN_TREG_DN\") + \n",
    "\n",
    "plotEnrichment(fgsea_sets[[\"GSE37533_PPARG1_FOXP3_VS_FOXP3_TRANSDUCED_CD4_TCELL_DN\"]],\n",
    "               ranks) + labs(title=\"GSE37533_PPARG1_FOXP3_VS_FOXP3_TRANSDUCED_CD4_TCELL_DN\") +\n",
    "\n",
    "plotEnrichment(fgsea_sets[[\"GSE37533_PPARG2_FOXP3_VS_FOXP3_TRANSDUCED_CD4_TCELL_DN\"]],\n",
    "               ranks) + labs(title=\"GSE37533_PPARG2_FOXP3_VS_FOXP3_TRANSDUCED_CD4_TCELL_DN\") +\n",
    "\n",
    "plotEnrichment(fgsea_sets[[\"GSE37605_C57BL6_VS_NOD_FOXP3_FUSION_GFP_TREG_DN\"]],\n",
    "               ranks) + labs(title=\"GSE37605_C57BL6_VS_NOD_FOXP3_FUSION_GFP_TREG_DN\") "
   ]
  },
  {
   "cell_type": "code",
   "execution_count": null,
   "id": "7767f036",
   "metadata": {},
   "outputs": [],
   "source": [
    "plotEnrichment(fgsea_sets[[\"GSE40685_NAIVE_CD4_TCELL_VS_FOXP3_KO_TREG_PRECURSOR_UP\"]],\n",
    "               ranks) + labs(title=\"GSE40685_NAIVE_CD4_TCELL_VS_FOXP3_KO_TREG_PRECURSOR_UP\") + \n",
    "\n",
    "plotEnrichment(fgsea_sets[[\"GSE40685_TREG_VS_FOXP3_KO_TREG_PRECURSOR_DN\"]],\n",
    "               ranks) + labs(title=\"GSE40685_TREG_VS_FOXP3_KO_TREG_PRECURSOR_DN\") +\n",
    "\n",
    "plotEnrichment(fgsea_sets[[\"GSE40685_TREG_VS_FOXP3_KO_TREG_PRECURSOR_UP\"]],\n",
    "               ranks) + labs(title=\"GSE40685_TREG_VS_FOXP3_KO_TREG_PRECURSOR_UP\") +\n",
    "\n",
    "plotEnrichment(fgsea_sets[[\"GSE37605_C57BL6_VS_NOD_FOXP3_FUSION_GFP_TREG_DN\"]],\n",
    "               ranks) + labs(title=\"GSE37605_C57BL6_VS_NOD_FOXP3_FUSION_GFP_TREG_DN\") "
   ]
  },
  {
   "cell_type": "markdown",
   "id": "6395b399",
   "metadata": {},
   "source": [
    "# DE genes visualization"
   ]
  },
  {
   "cell_type": "code",
   "execution_count": null,
   "id": "88d7d973",
   "metadata": {},
   "outputs": [],
   "source": [
    "full  <- readRDS(\"../data/processed/full.rds\")"
   ]
  },
  {
   "cell_type": "code",
   "execution_count": null,
   "id": "240d501d",
   "metadata": {},
   "outputs": [],
   "source": [
    "full@meta.data  <- full@meta.data  %>% \n",
    "mutate(annotations_l2  = gsub(pattern = \" T cells\", replacement = \"\", x = annotations_l3))  %>% \n",
    "separate(annotations_l2, into = c(\"annotations_l1\", \"annotations_l2\", \"annotations_l3\"), sep = \"---\") %>% \n",
    "mutate(annotations_l2  = gsub(pattern = \"Unconventional_CD8 Unc\", replacement = \"CD8_Unc\", x = annotations_l2))  %>% \n",
    "mutate(annotations_l2  = gsub(pattern = \"Unconventional_Unc\", replacement = \"CD4_Unc_\", x = annotations_l2)) %>% \n",
    "separate(annotations_l2, into = c(\"Level1\", \"Level2\",NA,NA), sep = \"_\")  "
   ]
  },
  {
   "cell_type": "code",
   "execution_count": null,
   "id": "e8f7d6f3",
   "metadata": {},
   "outputs": [],
   "source": [
    "cd4_l1_full  <- readRDS(\"../data/processed/L1/cd4_l1_full_filt.rds\")"
   ]
  },
  {
   "cell_type": "code",
   "execution_count": null,
   "id": "2159f512",
   "metadata": {},
   "outputs": [],
   "source": [
    "cd8_l1_full  <- readRDS(\"../data/processed/L1/cd8_l1_full_filt.rds\")"
   ]
  },
  {
   "cell_type": "code",
   "execution_count": null,
   "id": "16e2613d",
   "metadata": {},
   "outputs": [],
   "source": [
    "options(repr.plot.width = 14, repr.plot.height = 4)\n",
    "DimPlot(cd4_l1_full, group.by = \"annotations_l3\", raster = T)"
   ]
  },
  {
   "cell_type": "code",
   "execution_count": null,
   "id": "2628d503",
   "metadata": {},
   "outputs": [],
   "source": [
    "options(repr.plot.height = 4, repr.plot.width = 20)\n",
    "\n",
    "DimPlot(cd8_l1_full, group.by = \"annotations_l3\", raster = T)"
   ]
  },
  {
   "cell_type": "code",
   "execution_count": null,
   "id": "14322a06",
   "metadata": {},
   "outputs": [],
   "source": [
    "rm(full)"
   ]
  },
  {
   "cell_type": "code",
   "execution_count": null,
   "id": "2affbb8e",
   "metadata": {},
   "outputs": [],
   "source": [
    "markers  <- rev(c(\"BTN3A2\", \"IL32\",\"AMICA1\"))"
   ]
  },
  {
   "cell_type": "markdown",
   "id": "82ab5f63",
   "metadata": {},
   "source": [
    "### All cell types CD8"
   ]
  },
  {
   "cell_type": "code",
   "execution_count": null,
   "id": "6cfb77d0",
   "metadata": {},
   "outputs": [],
   "source": [
    "md  <- cd8_l1_full@meta.data  %>% dplyr::select(Patient_ID, Time, \n",
    "                                                Sample_ID, Disease, \n",
    "                                                Condition, Experiment_ID, Age_group)  %>% unique  %>% \n",
    "mutate(prelim_final = ifelse(Experiment_ID %in% c(\"Exp08\", \"Exp10\",\"Exp11\"), \"Prelim\",\"Final\"))"
   ]
  },
  {
   "cell_type": "code",
   "execution_count": null,
   "id": "e8e6e4e9",
   "metadata": {
    "scrolled": true
   },
   "outputs": [],
   "source": [
    "md"
   ]
  },
  {
   "cell_type": "code",
   "execution_count": null,
   "id": "f6c893ca",
   "metadata": {
    "scrolled": true
   },
   "outputs": [],
   "source": [
    "avgexp = AverageExpression(cd8_l1_full, features = markers,\n",
    "                           return.seurat = F, group.by = \"Sample_ID\", \n",
    "                          assay = \"RNA\")"
   ]
  },
  {
   "cell_type": "code",
   "execution_count": null,
   "id": "8a516c4a",
   "metadata": {},
   "outputs": [],
   "source": [
    "btn_etc  <- t(avgexp$RNA)  %>% as.data.frame()  %>% \n",
    "rownames_to_column(\"Sample_ID\")  %>% \n",
    "pivot_longer(!Sample_ID, names_to = \"gene\", values_to = \"expression\")  %>% \n",
    "mutate(Sample_ID = as.numeric(Sample_ID))  %>% \n",
    "left_join(md)  %>% mutate(Condition = paste(Disease, Time))"
   ]
  },
  {
   "cell_type": "code",
   "execution_count": null,
   "id": "27662a26",
   "metadata": {
    "scrolled": true
   },
   "outputs": [],
   "source": [
    "btn_etc"
   ]
  },
  {
   "cell_type": "code",
   "execution_count": null,
   "id": "314da2ed",
   "metadata": {},
   "outputs": [],
   "source": [
    "options(repr.plot.width = 9.5, repr.plot.height = 3.5)\n",
    "\n",
    "btn_etc  %>% ggplot(aes(x = Condition,\n",
    "             y = expression)) +\n",
    "   geom_dotplot(binaxis='y', stackdir='center', dotsize = 0) + \n",
    "   geom_boxplot(outlier.shape = NA) +\n",
    "    geom_jitter(binaxis='y', position=position_jitter(width = 0.1, height = 0.01), \n",
    "                size = 2, stackdir='center', aes(color = prelim_final)) + \n",
    "    facet_wrap(~gene, scales = \"free\") +\n",
    "  theme_classic() + xlab(\"\") +  \n",
    " xlab(\"\") + ylab(\"Value\") +\n",
    "   scale_y_continuous(expand = expansion(mult = c(0, 0.1))) +\n",
    "  ggpubr::stat_compare_means(label.x = 1.2, label.y.npc = \"top\", size = 5, vjust = 0.3, label = \"p.format\") + \n",
    "      theme(plot.title = element_text(hjust = 0.5, size = 18),\n",
    "          axis.line = element_line(colour = \"black\"), \n",
    "        axis.ticks = element_line(colour = \"black\")) +\n",
    "  ylim(0,NA) + ggtitle(\"Avg Expression all cell types CD8 T cells\")"
   ]
  },
  {
   "cell_type": "code",
   "execution_count": null,
   "id": "f1b93af3",
   "metadata": {},
   "outputs": [],
   "source": [
    "cd8_l1_full$annotations_l2  %>% table"
   ]
  },
  {
   "cell_type": "markdown",
   "id": "9e122e9a",
   "metadata": {},
   "source": [
    "### CD8 types by annotation"
   ]
  },
  {
   "cell_type": "code",
   "execution_count": null,
   "id": "d8eedfcb",
   "metadata": {
    "scrolled": true
   },
   "outputs": [],
   "source": [
    "cd8_l1_full$SampleID_Annotation  <- paste(cd8_l1_full$Sample_ID, gsub(cd8_l1_full$annotations_l2, pattern = \" \", replacement = \"_\"))\n",
    "avgexp = AverageExpression(cd8_l1_full, features = markers,\n",
    "                           return.seurat = F, group.by = \"SampleID_Annotation\", \n",
    "                          assay = \"RNA\")"
   ]
  },
  {
   "cell_type": "code",
   "execution_count": null,
   "id": "396ee4a7",
   "metadata": {},
   "outputs": [],
   "source": [
    "btn_etc  <- t(avgexp$RNA)  %>% as.data.frame()  %>% \n",
    "rownames_to_column(\"SampleID_Annotation\")  %>% \n",
    "pivot_longer(!SampleID_Annotation, names_to = \"gene\", values_to = \"expression\")  %>% \n",
    "separate(SampleID_Annotation, into = c(\"Sample_ID\",\"Annot\"), sep = \" \", remove = F)  %>% \n",
    "mutate(Sample_ID = as.numeric(Sample_ID))  %>% \n",
    "left_join(md)  %>% mutate(Condition = paste(Disease, Time))"
   ]
  },
  {
   "cell_type": "code",
   "execution_count": null,
   "id": "12e53c89",
   "metadata": {
    "scrolled": true
   },
   "outputs": [],
   "source": [
    "btn_etc"
   ]
  },
  {
   "cell_type": "code",
   "execution_count": null,
   "id": "c6dfa8bd",
   "metadata": {},
   "outputs": [],
   "source": [
    "options(repr.plot.width = 16, repr.plot.height = 5)\n",
    "\n",
    "btn_etc  %>% ggplot(aes(x = Condition,\n",
    "             y = expression)) +\n",
    "   geom_dotplot(binaxis='y', stackdir='center', dotsize = 0) + \n",
    "   geom_boxplot(outlier.shape = NA) +\n",
    "    geom_jitter(binaxis='y', position=position_jitter(width = 0.1, height = 0.01), \n",
    "                size = 2, stackdir='center', aes(color = Condition)) + \n",
    "    facet_grid(rows = vars(gene), cols = vars(Annot), scales = \"free\") +\n",
    "  theme_classic() + xlab(\"\") +  \n",
    " xlab(\"\") + ylab(\"Value\") +\n",
    "   scale_y_continuous(expand = expansion(mult = c(0, 0.1))) +\n",
    "  ggpubr::stat_compare_means(label.x = 1.2, label.y.npc = \"top\", size = 5, vjust = 0.3, label = \"p.format\") + \n",
    "      theme(plot.title = element_text(hjust = 0.5, size = 18),\n",
    "          axis.line = element_line(colour = \"black\"), \n",
    "        axis.ticks = element_line(colour = \"black\")) +\n",
    "  ylim(0,NA) + ggtitle(\"Avg Expression in CD8 T cell subtypes\")"
   ]
  },
  {
   "cell_type": "markdown",
   "id": "f2998c6e",
   "metadata": {},
   "source": [
    "### All cell types CD4"
   ]
  },
  {
   "cell_type": "code",
   "execution_count": null,
   "id": "b23b8bcc",
   "metadata": {},
   "outputs": [],
   "source": [
    "md  <- cd4_l1_full@meta.data  %>% dplyr::select(Patient_ID, Time, \n",
    "                                                Sample_ID, Disease, \n",
    "                                                Condition, Experiment_ID, Age_group)  %>% unique  %>% \n",
    "mutate(prelim_final = ifelse(Experiment_ID %in% c(\"Exp08\", \"Exp10\",\"Exp11\"), \"Prelim\",\"Final\"))"
   ]
  },
  {
   "cell_type": "code",
   "execution_count": null,
   "id": "9531df3d",
   "metadata": {
    "scrolled": true
   },
   "outputs": [],
   "source": [
    "md"
   ]
  },
  {
   "cell_type": "code",
   "execution_count": null,
   "id": "cdcb4339",
   "metadata": {
    "scrolled": true
   },
   "outputs": [],
   "source": [
    "avgexp = AverageExpression(cd4_l1_full, features = markers,\n",
    "                           return.seurat = F, group.by = \"Sample_ID\", \n",
    "                          assay = \"RNA\")"
   ]
  },
  {
   "cell_type": "code",
   "execution_count": null,
   "id": "8f72132a",
   "metadata": {},
   "outputs": [],
   "source": [
    "btn_etc  <- t(avgexp$RNA)  %>% as.data.frame()  %>% \n",
    "rownames_to_column(\"Sample_ID\")  %>% \n",
    "pivot_longer(!Sample_ID, names_to = \"gene\", values_to = \"expression\")  %>% \n",
    "mutate(Sample_ID = as.numeric(Sample_ID))  %>% \n",
    "left_join(md)  %>% mutate(Condition = paste(Disease, Time))"
   ]
  },
  {
   "cell_type": "code",
   "execution_count": null,
   "id": "2b18ccf0",
   "metadata": {
    "scrolled": true
   },
   "outputs": [],
   "source": [
    "btn_etc"
   ]
  },
  {
   "cell_type": "code",
   "execution_count": null,
   "id": "789c6592",
   "metadata": {},
   "outputs": [],
   "source": [
    "options(repr.plot.width = 9.5, repr.plot.height = 3.5)\n",
    "\n",
    "btn_etc  %>% ggplot(aes(x = Condition,\n",
    "             y = expression)) +\n",
    "   geom_dotplot(binaxis='y', stackdir='center', dotsize = 0) + \n",
    "   geom_boxplot(outlier.shape = NA) +\n",
    "    geom_jitter(binaxis='y', position=position_jitter(width = 0.1, height = 0.01), \n",
    "                size = 2, stackdir='center', aes(color = prelim_final)) + \n",
    "    facet_wrap(~gene, scales = \"free\") +\n",
    "  theme_classic() + xlab(\"\") +  \n",
    " xlab(\"\") + ylab(\"Value\") +\n",
    "   scale_y_continuous(expand = expansion(mult = c(0, 0.1))) +\n",
    "  ggpubr::stat_compare_means(label.x = 1.2, label.y.npc = \"top\", size = 5, vjust = 0.3, label = \"p.format\") + \n",
    "      theme(plot.title = element_text(hjust = 0.5, size = 18),\n",
    "          axis.line = element_line(colour = \"black\"), \n",
    "        axis.ticks = element_line(colour = \"black\")) +\n",
    "  ylim(0,NA) + ggtitle(\"Avg Expression all cell types CD4 T cells\")"
   ]
  },
  {
   "cell_type": "code",
   "execution_count": null,
   "id": "7c0d988b",
   "metadata": {},
   "outputs": [],
   "source": [
    "cd4_l1_full$annotations_l2  %>% table"
   ]
  },
  {
   "cell_type": "markdown",
   "id": "e855829b",
   "metadata": {},
   "source": [
    "### CD4 types by annotation"
   ]
  },
  {
   "cell_type": "code",
   "execution_count": null,
   "id": "963895fd",
   "metadata": {
    "scrolled": true
   },
   "outputs": [],
   "source": [
    "cd4_l1_full$SampleID_Annotation  <- paste(cd4_l1_full$Sample_ID, gsub(cd4_l1_full$annotations_l2, pattern = \" \", replacement = \"_\"))\n",
    "avgexp = AverageExpression(cd4_l1_full, features = markers,\n",
    "                           return.seurat = F, group.by = \"SampleID_Annotation\", \n",
    "                          assay = \"RNA\")"
   ]
  },
  {
   "cell_type": "code",
   "execution_count": null,
   "id": "3a94dcb3",
   "metadata": {},
   "outputs": [],
   "source": [
    "btn_etc  <- t(avgexp$RNA)  %>% as.data.frame()  %>% \n",
    "rownames_to_column(\"SampleID_Annotation\")  %>% \n",
    "pivot_longer(!SampleID_Annotation, names_to = \"gene\", values_to = \"expression\")  %>% \n",
    "separate(SampleID_Annotation, into = c(\"Sample_ID\",\"Annot\"), sep = \" \", remove = F)  %>% \n",
    "mutate(Sample_ID = as.numeric(Sample_ID))  %>% \n",
    "left_join(md)  %>% mutate(Condition = paste(Disease, Time))"
   ]
  },
  {
   "cell_type": "code",
   "execution_count": null,
   "id": "b86cf8b8",
   "metadata": {
    "scrolled": true
   },
   "outputs": [],
   "source": [
    "btn_etc"
   ]
  },
  {
   "cell_type": "code",
   "execution_count": null,
   "id": "ca406347",
   "metadata": {},
   "outputs": [],
   "source": [
    "options(repr.plot.width = 16, repr.plot.height = 5)\n",
    "\n",
    "btn_etc  %>% ggplot(aes(x = Condition,\n",
    "             y = expression)) +\n",
    "   geom_dotplot(binaxis='y', stackdir='center', dotsize = 0) + \n",
    "   geom_boxplot(outlier.shape = NA) +\n",
    "    geom_jitter(binaxis='y', position=position_jitter(width = 0.1, height = 0.01), \n",
    "                size = 2, stackdir='center', aes(color = Condition)) + \n",
    "    facet_grid(rows = vars(gene), cols = vars(Annot), scales = \"free\") +\n",
    "  theme_classic() + xlab(\"\") +  \n",
    " xlab(\"\") + ylab(\"Value\") +\n",
    "   scale_y_continuous(expand = expansion(mult = c(0, 0.1))) +\n",
    "  ggpubr::stat_compare_means(label.x = 1.2, label.y.npc = \"top\", size = 5, vjust = 0.3, label = \"p.format\") + \n",
    "      theme(plot.title = element_text(hjust = 0.5, size = 18),\n",
    "          axis.line = element_line(colour = \"black\"), \n",
    "        axis.ticks = element_line(colour = \"black\")) +\n",
    "  ylim(0,NA) + ggtitle(\"Avg Expression in CD4 T cell subtypes\")"
   ]
  },
  {
   "cell_type": "markdown",
   "id": "393e9fcf",
   "metadata": {},
   "source": [
    "### CD4 by HLA"
   ]
  },
  {
   "cell_type": "code",
   "execution_count": null,
   "id": "aa0da6dd",
   "metadata": {},
   "outputs": [],
   "source": []
  },
  {
   "cell_type": "code",
   "execution_count": null,
   "id": "106a010f",
   "metadata": {},
   "outputs": [],
   "source": [
    "md  <- cd4_l1_full@meta.data  %>% dplyr::select(Patient_ID, Time, \n",
    "                                                Sample_ID, Disease, \n",
    "                                                Condition, Experiment_ID, Age_group)  %>% unique  %>% \n",
    "mutate(prelim_final = ifelse(Experiment_ID %in% c(\"Exp08\", \"Exp10\",\"Exp11\"), \"Prelim\",\"Final\"))"
   ]
  },
  {
   "cell_type": "code",
   "execution_count": null,
   "id": "847a4544",
   "metadata": {},
   "outputs": [],
   "source": [
    "md5  <- read_excel(\"../data/metadata_v07.xlsx\")"
   ]
  },
  {
   "cell_type": "code",
   "execution_count": null,
   "id": "ffca7f57",
   "metadata": {},
   "outputs": [],
   "source": [
    "md5  <- md5  %>% mutate(dq2 = ifelse((HLA_DQA11 == \"DQA1*05:01:01\" | HLA_DQA12 == \"DQA1*05:01:01\") &\n",
    "                                   (HLA_DQB11 == \"DQB1*02:01:01\" | HLA_DQB12 == \"DQB1*02:01:01\"),\"DQ2\",\n",
    "                                   \"Other\"),\n",
    "                      dq8 = ifelse((HLA_DQA11 == \"DQA1*03:01:01\" | HLA_DQA12 == \"DQA1*03:01:01\") &\n",
    "                                   (HLA_DQB11 == \"DQB1*03:02:01\" | HLA_DQB12 == \"DQB1*03:02:01\"),\"DQ8\",\n",
    "                                   \"Other\"))  %>% mutate(\n",
    "                      dq2_8 = ifelse(dq2 == \"DQ2\" & dq8 == \"DQ8\",\"DQ2_8\",\n",
    "                                     ifelse(dq2 == \"DQ2\",\"DQ2\", ifelse(dq8 == \"DQ8\",\"DQ8\",\"Other\"))))  %>% \n",
    "mutate(c7_01 = ifelse((HLA_C1 == \"C*07:01:01\" & HLA_C2 == \"C*07:01:01\"), \"c7_01_hom\",\n",
    "                                   ifelse(HLA_C1 == \"C*07:01:01\" | HLA_C2 == \"C*07:01:01\",\"c7_01_het\",\n",
    "                                   \"Other\")),\n",
    "                      b8_01 = ifelse((HLA_B1 == \"B*08:01:01\" & HLA_B2 == \"B*08:01:01\"), \"b8_01_hom\",\n",
    "                                   ifelse(HLA_B1 == \"B*08:01:01\" | HLA_B2 == \"B*08:01:01\",\"b8_01_het\",\n",
    "                                   \"Other\")))   %>% mutate(\n",
    "                      c7_b8 = ifelse(b8_01 == \"b8_01_hom\" & c7_01 == \"c7_01_hom\",\n",
    "                                     \"c7_b8_hom\", ifelse(c7_01 == \"c7_01_hom\", \"c7_01_hom\",\n",
    "                              ifelse(b8_01 == \"b8_01_hom\", \"b8_01_hom\", \n",
    "                              ifelse(b8_01 == \"b8_01_het\" & c7_01 == \"c7_01_het\",\n",
    "                                     \"c7_b8_het\", \n",
    "                                     \n",
    "                              ifelse(b8_01 == \"b8_01_het\", \"b8_01_het\", \n",
    "                              ifelse(c7_01 == \"c7_01_het\", \"c7_01_het\", \"Other\" )))))))"
   ]
  },
  {
   "cell_type": "code",
   "execution_count": null,
   "id": "77d6586a",
   "metadata": {
    "scrolled": true
   },
   "outputs": [],
   "source": [
    "md5  %>% colnames"
   ]
  },
  {
   "cell_type": "code",
   "execution_count": null,
   "id": "6c3da3bc",
   "metadata": {},
   "outputs": [],
   "source": [
    "md_HLA  <- md5  %>% dplyr::select(Patient_Time, dq2_8)"
   ]
  },
  {
   "cell_type": "code",
   "execution_count": null,
   "id": "3ae0517d",
   "metadata": {},
   "outputs": [],
   "source": [
    "avgexp = AverageExpression(cd4_l1_full, features = markers,\n",
    "                           return.seurat = F, group.by = \"Sample_ID\", \n",
    "                          assay = \"RNA\")\n",
    "\n",
    "btn_etc  <- t(avgexp$RNA)  %>% as.data.frame()  %>% \n",
    "rownames_to_column(\"Sample_ID\")  %>% \n",
    "pivot_longer(!Sample_ID, names_to = \"gene\", values_to = \"expression\")  %>% \n",
    "mutate(Sample_ID = as.numeric(Sample_ID))  %>% \n",
    "left_join(md)  %>% \n",
    "mutate(Patient_Time = paste(Patient_ID, Time))  %>% \n",
    "left_join(md_HLA)  %>% \n",
    "mutate(Condition = paste(Disease, Time))"
   ]
  },
  {
   "cell_type": "code",
   "execution_count": null,
   "id": "1a96198d",
   "metadata": {
    "scrolled": true
   },
   "outputs": [],
   "source": [
    "btn_etc"
   ]
  },
  {
   "cell_type": "code",
   "execution_count": null,
   "id": "5bc79406",
   "metadata": {},
   "outputs": [],
   "source": [
    "options(repr.plot.width = 9.5, repr.plot.height = 3.5)\n",
    "\n",
    "btn_etc  %>% ggplot(aes(x = dq2_8,\n",
    "             y = expression)) +\n",
    "   geom_dotplot(binaxis='y', stackdir='center', dotsize = 0) + \n",
    "   geom_boxplot(outlier.shape = NA) +\n",
    "    geom_jitter(binaxis='y', position=position_jitter(width = 0.1, height = 0.01), \n",
    "                size = 2, stackdir='center', aes(color = Disease, shape = prelim_final)) + \n",
    "    facet_wrap(~gene, scales = \"free\") +\n",
    "  theme_classic() + xlab(\"\") +  \n",
    " xlab(\"\") + ylab(\"Value\") +\n",
    "   scale_y_continuous(expand = expansion(mult = c(0, 0.1))) +\n",
    "  ggpubr::stat_compare_means(label.x = 1.2, label.y.npc = \"top\", size = 5, vjust = 0.3, label = \"p.format\") + \n",
    "      theme(plot.title = element_text(hjust = 0.5, size = 18),\n",
    "          axis.line = element_line(colour = \"black\"), \n",
    "        axis.ticks = element_line(colour = \"black\")) +\n",
    "  ylim(0,NA) + ggtitle(\"Avg Expression by HLA CD4 T cells\")"
   ]
  },
  {
   "cell_type": "code",
   "execution_count": null,
   "id": "5bc16b98",
   "metadata": {
    "scrolled": true
   },
   "outputs": [],
   "source": [
    "md5  %>% dplyr::select(starts_with(\"HLA\"))"
   ]
  },
  {
   "cell_type": "code",
   "execution_count": null,
   "id": "c10c815a",
   "metadata": {
    "scrolled": true
   },
   "outputs": [],
   "source": [
    "md_HLA  <- md5  %>% dplyr::select(Patient_Time, c7_b8, b8_01, c7_01)\n",
    "\n",
    "avgexp = AverageExpression(cd4_l1_full, features = markers,\n",
    "                           return.seurat = F, group.by = \"Sample_ID\", \n",
    "                          assay = \"RNA\")\n",
    "\n",
    "btn_etc  <- t(avgexp$RNA)  %>% as.data.frame()  %>% \n",
    "rownames_to_column(\"Sample_ID\")  %>% \n",
    "pivot_longer(!Sample_ID, names_to = \"gene\", values_to = \"expression\")  %>% \n",
    "mutate(Sample_ID = as.numeric(Sample_ID))  %>% \n",
    "left_join(md)  %>% \n",
    "mutate(Patient_Time = paste(Patient_ID, Time))  %>% \n",
    "left_join(md_HLA)  %>% \n",
    "mutate(Condition = paste(Disease, Time))\n",
    "\n",
    "btn_etc"
   ]
  },
  {
   "cell_type": "code",
   "execution_count": null,
   "id": "1610faaf",
   "metadata": {
    "scrolled": true
   },
   "outputs": [],
   "source": [
    "options(repr.plot.width = 9.5, repr.plot.height = 3.5)\n",
    "\n",
    "btn_etc  %>% ggplot(aes(x = c7_b8,\n",
    "             y = expression)) +\n",
    "   geom_dotplot(binaxis='y', stackdir='center', dotsize = 0) + \n",
    "   geom_boxplot(outlier.shape = NA) +\n",
    "    geom_jitter(binaxis='y', position=position_jitter(width = 0.1, height = 0.01), \n",
    "                size = 2, stackdir='center', aes(color = Disease, shape = prelim_final)) + \n",
    "    facet_wrap(~gene, scales = \"free\") +\n",
    "  theme_classic() + xlab(\"\") +  \n",
    " xlab(\"\") + ylab(\"Value\") +\n",
    "   scale_y_continuous(expand = expansion(mult = c(0, 0.1))) +\n",
    "  ggpubr::stat_compare_means(label.x = 1.2, label.y.npc = \"top\", size = 5, vjust = 0.3, label = \"p.format\") + \n",
    "      theme(plot.title = element_text(hjust = 0.5, size = 18),\n",
    "          axis.line = element_line(colour = \"black\"), \n",
    "        axis.ticks = element_line(colour = \"black\")) +\n",
    "  ylim(0,NA) + ggtitle(\"Avg Expression by HLA CD4 T cells\")"
   ]
  },
  {
   "cell_type": "code",
   "execution_count": null,
   "id": "86372206",
   "metadata": {
    "scrolled": true
   },
   "outputs": [],
   "source": [
    "md_HLA  <- md5  %>% dplyr::select(Patient_Time, c7_b8, b8_01, c7_01, dq2_8)\n",
    "\n",
    "avgexp = AverageExpression(cd4_l1_full, features = c(\"NOTCH4\",\"TABP\",\"TAP2\",\"LMP7\",\"TAP1\",\"LMP2\",\"LST1\",\n",
    "                                                     \"LTB\",\"TNF\",\"LTA\",\"NFKBIL1\", \"BTN3A2\",\"BTN3A1\"),\n",
    "                           return.seurat = F, group.by = \"Sample_ID\", \n",
    "                          assay = \"RNA\")\n",
    "\n",
    "btn_etc  <- t(avgexp$RNA)  %>% as.data.frame()  %>% \n",
    "rownames_to_column(\"Sample_ID\")  %>% \n",
    "pivot_longer(!Sample_ID, names_to = \"gene\", values_to = \"expression\")  %>% \n",
    "mutate(Sample_ID = as.numeric(Sample_ID))  %>% \n",
    "left_join(md)  %>% \n",
    "mutate(Patient_Time = paste(Patient_ID, Time))  %>% \n",
    "left_join(md_HLA)  %>% \n",
    "mutate(Condition = paste(Disease, Time))\n",
    "\n",
    "btn_etc"
   ]
  },
  {
   "cell_type": "code",
   "execution_count": null,
   "id": "02fe3339",
   "metadata": {},
   "outputs": [],
   "source": [
    "options(repr.plot.width = 16, repr.plot.height = 12)\n",
    "\n",
    "btn_etc  %>% ggplot(aes(x = dq2_8,\n",
    "             y = expression)) +\n",
    "   geom_dotplot(binaxis='y', stackdir='center', dotsize = 0) + \n",
    "   geom_boxplot(outlier.shape = NA) +\n",
    "    geom_jitter(binaxis='y', position=position_jitter(width = 0.1, height = 0.01), \n",
    "                size = 2, stackdir='center', aes(color = Disease, shape = prelim_final)) + \n",
    "    facet_wrap(~gene, scales = \"free\") +\n",
    "  theme_classic() + xlab(\"\") +  \n",
    " xlab(\"\") + ylab(\"Value\") +\n",
    "   scale_y_continuous(expand = expansion(mult = c(0, 0.1))) +\n",
    "  ggpubr::stat_compare_means(label.x = 1.2, label.y.npc = \"top\", size = 5, vjust = 0.3, label = \"p.format\") + \n",
    "      theme(plot.title = element_text(hjust = 0.5, size = 18),\n",
    "          axis.line = element_line(colour = \"black\"), \n",
    "        axis.ticks = element_line(colour = \"black\")) +\n",
    "  ylim(0,NA) + ggtitle(\"Avg Expression by HLA CD4 T cells\")"
   ]
  },
  {
   "cell_type": "code",
   "execution_count": null,
   "id": "b0cc7f32",
   "metadata": {},
   "outputs": [],
   "source": [
    "btn_etc  %>% ggplot(aes(x = c7_b8,\n",
    "             y = expression)) +\n",
    "   geom_dotplot(binaxis='y', stackdir='center', dotsize = 0) + \n",
    "   geom_boxplot(outlier.shape = NA) +\n",
    "    geom_jitter(binaxis='y', position=position_jitter(width = 0.1, height = 0.01), \n",
    "                size = 2, stackdir='center', aes(color = Disease, shape = prelim_final)) + \n",
    "    facet_wrap(~gene, scales = \"free\") +\n",
    "  theme_classic() + xlab(\"\") +  \n",
    " xlab(\"\") + ylab(\"Value\") +\n",
    "   scale_y_continuous(expand = expansion(mult = c(0, 0.1))) +\n",
    "  ggpubr::stat_compare_means(label.x = 1.2, label.y.npc = \"top\", size = 5, vjust = 0.3, label = \"p.format\") + \n",
    "      theme(plot.title = element_text(hjust = 0.5, size = 18),\n",
    "          axis.line = element_line(colour = \"black\"), \n",
    "        axis.ticks = element_line(colour = \"black\")) +\n",
    "  ylim(0,NA) + ggtitle(\"Avg Expression by HLA CD4 T cells\")"
   ]
  },
  {
   "cell_type": "markdown",
   "id": "e2c09b3e",
   "metadata": {},
   "source": [
    "### CD8 by HLA"
   ]
  },
  {
   "cell_type": "code",
   "execution_count": null,
   "id": "7ffbd3a7",
   "metadata": {},
   "outputs": [],
   "source": [
    "cd8_l1_full  <- readRDS(\"../data/processed/L1/cd8_l1_full_filt.rds\")"
   ]
  },
  {
   "cell_type": "code",
   "execution_count": null,
   "id": "f92597af",
   "metadata": {
    "scrolled": true
   },
   "outputs": [],
   "source": [
    "md  <- cd8_l1_full@meta.data  %>% dplyr::select(Patient_ID, Time, \n",
    "                                                Sample_ID, Disease, \n",
    "                                                Condition, Experiment_ID, Age_group)  %>% unique  %>% \n",
    "mutate(prelim_final = ifelse(Experiment_ID %in% c(\"Exp08\", \"Exp10\",\"Exp11\"), \"Prelim\",\"Final\"))"
   ]
  },
  {
   "cell_type": "code",
   "execution_count": null,
   "id": "5782aa3f",
   "metadata": {},
   "outputs": [],
   "source": [
    "avgexp = AverageExpression(cd8_l1_full, features = rownames(cd8_l1_full@assays$RNA),\n",
    "                           return.seurat = F, group.by = \"Sample_ID\", \n",
    "                          assay = \"RNA\")"
   ]
  },
  {
   "cell_type": "code",
   "execution_count": null,
   "id": "70cd3869",
   "metadata": {
    "scrolled": true
   },
   "outputs": [],
   "source": [
    "md_HLA  <- md5  %>% dplyr::select(Patient_Time, c7_b8, b8_01, c7_01, dq2_8)  %>% unique\n"
   ]
  },
  {
   "cell_type": "code",
   "execution_count": null,
   "id": "ef0f523d",
   "metadata": {
    "scrolled": true
   },
   "outputs": [],
   "source": [
    "md_HLA"
   ]
  },
  {
   "cell_type": "code",
   "execution_count": null,
   "id": "966eb79d",
   "metadata": {
    "scrolled": true
   },
   "outputs": [],
   "source": [
    "md"
   ]
  },
  {
   "cell_type": "code",
   "execution_count": null,
   "id": "3e8b66a7",
   "metadata": {
    "scrolled": true
   },
   "outputs": [],
   "source": [
    "exp_data1  <- t(avgexp$RNA)  %>% as.data.frame() \n",
    "exp_data2  <- exp_data1   %>% dplyr::select(which(colSums(exp_data1)>3))  %>% \n",
    "rownames_to_column(\"Sample_ID\")  "
   ]
  },
  {
   "cell_type": "code",
   "execution_count": null,
   "id": "cd9ba90f",
   "metadata": {},
   "outputs": [],
   "source": [
    "rownames(md_HLA)  <- NULL"
   ]
  },
  {
   "cell_type": "code",
   "execution_count": null,
   "id": "13531a81",
   "metadata": {},
   "outputs": [],
   "source": [
    "btn_etc  <- exp_data2  %>% \n",
    "pivot_longer(!Sample_ID, names_to = \"gene\", values_to = \"expression\")  %>% \n",
    "mutate(Sample_ID = as.numeric(gsub(Sample_ID, pattern = \"g\", replacement = \"\")))  %>% \n",
    "left_join(md)  %>% \n",
    "mutate(Patient_Time = paste(Patient_ID, Time))  %>% \n",
    "left_join(md_HLA)  %>% \n",
    "mutate(Condition = paste(Disease, Time))"
   ]
  },
  {
   "cell_type": "code",
   "execution_count": null,
   "id": "3b719622",
   "metadata": {
    "scrolled": true
   },
   "outputs": [],
   "source": [
    "btn_etc"
   ]
  },
  {
   "cell_type": "code",
   "execution_count": null,
   "id": "f7c2c015",
   "metadata": {},
   "outputs": [],
   "source": [
    "options(repr.plot.width = 16, repr.plot.height = 9)\n",
    "\n",
    "btn_etc  %>% \n",
    "dplyr::filter(gene %in% c(\"BTN3A1\",\"BTN3A2\",\"LST1\",\"LTA\",\"LTB\",\"NFKBIL1\",\n",
    "                         \"NOTCH4\",\"TAP1\",\"TAP2\",\"TNF\"))  %>% \n",
    "ggplot(aes(x = dq2_8,\n",
    "             y = expression)) +\n",
    "   geom_dotplot(binaxis='y', stackdir='center', dotsize = 0) + \n",
    "   geom_boxplot(outlier.shape = NA) +\n",
    "    geom_jitter(binaxis='y', position=position_jitter(width = 0.1, height = 0.01), \n",
    "                size = 2, stackdir='center', aes(color = Disease, shape = prelim_final)) + \n",
    "    facet_wrap(~gene, scales = \"free\", ncol = 4) +\n",
    "  theme_classic() + xlab(\"\") +  \n",
    " xlab(\"\") + ylab(\"Value\") +\n",
    "   scale_y_continuous(expand = expansion(mult = c(0, 0.1))) +\n",
    "  ggpubr::stat_compare_means(label.x = 1.2, label.y.npc = \"top\", size = 5, vjust = 0.3, label = \"p.format\") + \n",
    "      theme(plot.title = element_text(hjust = 0.5, size = 18),\n",
    "          axis.line = element_line(colour = \"black\"), \n",
    "        axis.ticks = element_line(colour = \"black\")) +\n",
    "  ylim(0,NA) + ggtitle(\"Avg Expression by HLA CD8 T cells\")"
   ]
  },
  {
   "cell_type": "code",
   "execution_count": null,
   "id": "cba8a5d0",
   "metadata": {
    "scrolled": true
   },
   "outputs": [],
   "source": [
    "options(repr.plot.width = 16, repr.plot.height = 9)\n",
    "\n",
    "btn_etc  %>% \n",
    "dplyr::filter(gene %in% c(\"BTN3A1\",\"BTN3A2\",\"LST1\",\"LTA\",\"LTB\",\"NFKBIL1\",\n",
    "                         \"NOTCH4\",\"TAP1\",\"TAP2\",\"TNF\"))  %>% \n",
    "ggplot(aes(x = c7_b8,\n",
    "             y = expression)) +\n",
    "   geom_dotplot(binaxis='y', stackdir='center', dotsize = 0) + \n",
    "   geom_boxplot(outlier.shape = NA) +\n",
    "    geom_jitter(binaxis='y', position=position_jitter(width = 0.1, height = 0.01), \n",
    "                size = 2, stackdir='center', aes(color = Disease, shape = prelim_final)) + \n",
    "    facet_wrap(~gene, scales = \"free\") +\n",
    "  theme_classic() + xlab(\"\") +  \n",
    " xlab(\"\") + ylab(\"Value\") +\n",
    "   scale_y_continuous(expand = expansion(mult = c(0, 0.1))) +\n",
    "  ggpubr::stat_compare_means(label.x = 1.2, label.y.npc = \"top\", size = 5, vjust = 0.3, label = \"p.format\") + \n",
    "      theme(plot.title = element_text(hjust = 0.5, size = 18),\n",
    "          axis.line = element_line(colour = \"black\"), \n",
    "        axis.ticks = element_line(colour = \"black\")) +\n",
    "  ylim(0,NA) + ggtitle(\"Avg Expression by HLA CD8 T cells\")"
   ]
  },
  {
   "cell_type": "code",
   "execution_count": null,
   "id": "fb5600d0",
   "metadata": {},
   "outputs": [],
   "source": [
    "colnames(md5)"
   ]
  },
  {
   "cell_type": "code",
   "execution_count": null,
   "id": "84be273c",
   "metadata": {
    "scrolled": true
   },
   "outputs": [],
   "source": [
    "md5  %>% mutate(group = substr(patient,1,1))  %>% group_by(HLA_DQA11, HLA_DQA12, HLA_DQB11, HLA_DQB12, group, dq2_8)  %>% tally"
   ]
  },
  {
   "cell_type": "markdown",
   "id": "c1fa9e5c",
   "metadata": {},
   "source": [
    "# DE genes visualization 3 VOLCANO"
   ]
  },
  {
   "cell_type": "code",
   "execution_count": null,
   "id": "426f225d",
   "metadata": {},
   "outputs": [],
   "source": [
    "library(tidytext)"
   ]
  },
  {
   "cell_type": "code",
   "execution_count": null,
   "id": "0f88d8cc",
   "metadata": {},
   "outputs": [],
   "source": [
    "all_markers$dataset  %>% table"
   ]
  },
  {
   "cell_type": "code",
   "execution_count": null,
   "id": "192187d5",
   "metadata": {
    "scrolled": true
   },
   "outputs": [],
   "source": [
    "all_markers  %>% \n",
    "dplyr::filter(source == \"scRNAseq_RNA\")  %>% \n",
    "dplyr::filter(test_type == \"Dia T0 vs Ctrl T0\" &\n",
    "             dataset == \"cd4_l3_proliferating\")  %>% \n",
    "mutate(abs_avg_log2fc = abs(avg_log2FC))  %>% \n",
    "group_by( direction)  %>% \n",
    "slice_max(n = 10, order_by = abs_avg_log2fc) "
   ]
  },
  {
   "cell_type": "code",
   "execution_count": null,
   "id": "d8bc3378",
   "metadata": {},
   "outputs": [],
   "source": [
    "test  <- all_markers  %>% \n",
    "dplyr::filter(source == \"scRNAseq_RNA\")  %>% \n",
    "group_by(test_type, dataset)  %>% tally  %>% \n",
    "pivot_wider(names_from = dataset, values_from = n)"
   ]
  },
  {
   "cell_type": "code",
   "execution_count": null,
   "id": "dc18fb86",
   "metadata": {},
   "outputs": [],
   "source": [
    "write.csv(test, \"../tables/fc_test_counts.csv\")"
   ]
  },
  {
   "cell_type": "code",
   "execution_count": null,
   "id": "f293ae56",
   "metadata": {},
   "outputs": [],
   "source": [
    "options(repr.plot.width = 24, repr.plot.height = 68)\n",
    "all_markers  %>% \n",
    "dplyr::filter(source == \"scRNAseq_RNA\")  %>% \n",
    "mutate(abs_avg_log2fc = abs(avg_log2FC))  %>% \n",
    "group_by(test_type, direction)  %>% \n",
    "slice_max(n = 50, order_by = abs_avg_log2fc)  %>% \n",
    "ggplot(aes(x = dataset, y = reorder_within(gene, avg_log2FC, test_type))) + \n",
    "  geom_point(aes(size = -log(p_val_adj, base = 10), colour = direction)) + \n",
    "facet_grid(rows = vars(test_type), cols = vars(dataset),\n",
    "           scales = \"free\", space = \"free\") +\n",
    "scale_x_reordered() +\n",
    "      theme_bw()  + scale_size_continuous(range=c(1,4)) +\n",
    "  #scale_colour_gradient2(low = \"lightskyblue\", mid = \"lightsteelblue2\", high = \"salmon\") + \n",
    " theme(axis.text.x = element_text(angle = 90))"
   ]
  },
  {
   "cell_type": "code",
   "execution_count": null,
   "id": "6eda70e2",
   "metadata": {
    "scrolled": true
   },
   "outputs": [],
   "source": [
    "list.files(\"../tables/fold_change/\")"
   ]
  },
  {
   "cell_type": "code",
   "execution_count": null,
   "id": "5ad5f61e",
   "metadata": {},
   "outputs": [],
   "source": [
    "paths_fc  <- list.files(\"../tables/fold_change\", full.names = T)\n",
    "dataset_names  <- list.files(\"../tables/fold_change\", full.names = F)\n"
   ]
  },
  {
   "cell_type": "code",
   "execution_count": null,
   "id": "5a9659da",
   "metadata": {},
   "outputs": [],
   "source": []
  },
  {
   "cell_type": "code",
   "execution_count": null,
   "id": "86c9cae9",
   "metadata": {},
   "outputs": [],
   "source": [
    "read_fc  <- function(j) {\n",
    "fc.df  <- read_csv(paths_fc[j])  %>% as.data.frame()\n",
    "fc.df  <- fc.df  %>%  arrange(desc(avg_log2FC))\n",
    "fc.df$dataset  <-   gsub(dataset_names[j], pattern = \".csv\", replacement = \"\")\n",
    "   \n",
    "    return(fc.df)\n",
    "    }"
   ]
  },
  {
   "cell_type": "code",
   "execution_count": null,
   "id": "06ae7b90",
   "metadata": {},
   "outputs": [],
   "source": [
    "paths_fc"
   ]
  },
  {
   "cell_type": "code",
   "execution_count": null,
   "id": "0d64e453",
   "metadata": {},
   "outputs": [],
   "source": []
  },
  {
   "cell_type": "code",
   "execution_count": null,
   "id": "3f5b3957",
   "metadata": {
    "scrolled": true
   },
   "outputs": [],
   "source": [
    "all_fcs  <- map(1:length(paths_fc), .f = read_fc)"
   ]
  },
  {
   "cell_type": "code",
   "execution_count": null,
   "id": "1ad4293e",
   "metadata": {},
   "outputs": [],
   "source": [
    "all_fcs2  <- bind_rows(all_fcs)"
   ]
  },
  {
   "cell_type": "code",
   "execution_count": null,
   "id": "62d995bc",
   "metadata": {},
   "outputs": [],
   "source": [
    "all_fcs2  %>% head"
   ]
  },
  {
   "cell_type": "code",
   "execution_count": null,
   "id": "f9d9daa0",
   "metadata": {},
   "outputs": [],
   "source": [
    "all_fcs2$`...1`  <- NULL"
   ]
  },
  {
   "cell_type": "code",
   "execution_count": null,
   "id": "da688de1",
   "metadata": {},
   "outputs": [],
   "source": [
    "all_fcs2$dataset   <- gsub(all_fcs2$dataset, pattern = \"full_filt\", replacement = \"full\")"
   ]
  },
  {
   "cell_type": "code",
   "execution_count": null,
   "id": "7ca42b7e",
   "metadata": {},
   "outputs": [],
   "source": [
    "all_fcs2  %>% dplyr::filter(grepl(dataset, pattern = \"cd4_l1_full\"))  %>% \n",
    "group_by(dataset) %>% tally"
   ]
  },
  {
   "cell_type": "code",
   "execution_count": null,
   "id": "0ad1ce5d",
   "metadata": {},
   "outputs": [],
   "source": [
    "all_fcs3"
   ]
  },
  {
   "cell_type": "code",
   "execution_count": null,
   "id": "50519ea5",
   "metadata": {},
   "outputs": [],
   "source": [
    "test2  <- all_fcs3  %>% \n",
    "group_by(Comparison, Dataset)  %>% tally  %>% \n",
    "pivot_wider(names_from = Dataset, values_from = n)\n",
    "\n",
    "write.csv(test2, \"../tables/fc_test_count2.csv\")"
   ]
  },
  {
   "cell_type": "code",
   "execution_count": null,
   "id": "d7c554ee",
   "metadata": {},
   "outputs": [],
   "source": [
    "all_fcs2$dataset   <- gsub(all_fcs2$dataset, pattern = \"_Ctrl_vs_DiaT0\", replacement = \"--DiaT0 vs. Ctrl\")"
   ]
  },
  {
   "cell_type": "code",
   "execution_count": null,
   "id": "1340ee98",
   "metadata": {},
   "outputs": [],
   "source": [
    "all_fcs2  %>% dplyr::filter(grepl(dataset, pattern = \"cd4_l1_full\"))  %>% \n",
    "group_by(dataset) %>% tally"
   ]
  },
  {
   "cell_type": "code",
   "execution_count": null,
   "id": "311632ec",
   "metadata": {},
   "outputs": [],
   "source": [
    "gsub(grep(all_fcs2$dataset,pattern = \"0_T1_vs_PR_1_T1\", value = T)  %>% head, \n",
    "     pattern = \"_PR_0_T1_vs_PR_1_T1\", replacement = \"--PR0_T1 vs. PR1_T1\")"
   ]
  },
  {
   "cell_type": "code",
   "execution_count": null,
   "id": "0d1dacc5",
   "metadata": {},
   "outputs": [],
   "source": []
  },
  {
   "cell_type": "code",
   "execution_count": null,
   "id": "37cea9c3",
   "metadata": {},
   "outputs": [],
   "source": [
    "all_fcs2$dataset   <- gsub(all_fcs2$dataset, pattern = \"_Ctrl_vs_DiaT1\", replacement = \"--DiaT1 vs. Ctrl\")\n",
    "all_fcs2$dataset   <- gsub(all_fcs2$dataset, pattern = \"_ketoacidosis\", replacement = \"--Keto+ vs. Keto-\")\n",
    "all_fcs2$dataset   <- gsub(all_fcs2$dataset, pattern = \"_PR_0_T0_vs_PR_0_T1\", replacement = \"--PR0_T0 vs. PR0_T1\")\n",
    "all_fcs2$dataset   <- gsub(all_fcs2$dataset, pattern = \"_PR_0_T0_vs_PR_1_T0\", replacement = \"--PR0_T0 vs. PR1_T0\")\n",
    "all_fcs2$dataset   <- gsub(all_fcs2$dataset, pattern = \"_PR_1_T0_vs_PR_1_T1\", replacement = \"--PR1_T0 vs. PR1_T1\")\n",
    "all_fcs2$dataset   <- gsub(all_fcs2$dataset, pattern = \"_Ctrl_vs_DiaT0\", replacement = \"--DiaT0 vs. Ctrl\")\n",
    "all_fcs2$dataset   <- gsub(all_fcs2$dataset, pattern = \"_DiaT0_vs_DiaT1\", replacement = \"--DiaT0 vs. DiaT1\")"
   ]
  },
  {
   "cell_type": "code",
   "execution_count": null,
   "id": "2697e1f1",
   "metadata": {},
   "outputs": [],
   "source": [
    "all_fcs2$dataset   <- gsub(all_fcs2$dataset, pattern = \"_PR_0_T1_vs_PR_1_T1\", replacement = \"--PR0_T1 vs. PR1_T1\")"
   ]
  },
  {
   "cell_type": "code",
   "execution_count": null,
   "id": "a03e697c",
   "metadata": {},
   "outputs": [],
   "source": []
  },
  {
   "cell_type": "code",
   "execution_count": null,
   "id": "9aa28903",
   "metadata": {},
   "outputs": [],
   "source": [
    "all_fcs2  %>% dplyr::filter(grepl(dataset, pattern = \"cd4_l1_full\"))  %>% \n",
    "group_by(dataset) %>% tally"
   ]
  },
  {
   "cell_type": "code",
   "execution_count": null,
   "id": "b71ba20f",
   "metadata": {},
   "outputs": [],
   "source": [
    "all_fcs2  <- all_fcs2  %>% separate(dataset, into = c(\"Dataset\", \"Comparison\"), sep = \"--\", remove = F)"
   ]
  },
  {
   "cell_type": "code",
   "execution_count": null,
   "id": "eb168656",
   "metadata": {},
   "outputs": [],
   "source": [
    "all_fcs2  <- all_fcs2  %>% dplyr::filter(!is.na(Comparison))"
   ]
  },
  {
   "cell_type": "code",
   "execution_count": null,
   "id": "531405e0",
   "metadata": {},
   "outputs": [],
   "source": [
    "dataset_comparison  <- levels(factor(all_fcs2$dataset))"
   ]
  },
  {
   "cell_type": "code",
   "execution_count": null,
   "id": "dbc9ada9",
   "metadata": {},
   "outputs": [],
   "source": [
    "all_fcs2$Comparison  %>% table"
   ]
  },
  {
   "cell_type": "code",
   "execution_count": null,
   "id": "62861f58",
   "metadata": {},
   "outputs": [],
   "source": [
    "all_fcs2$dataset  %>% table"
   ]
  },
  {
   "cell_type": "code",
   "execution_count": null,
   "id": "8b383f3b",
   "metadata": {},
   "outputs": [],
   "source": [
    "all_fcs2$Comparison  %>% table"
   ]
  },
  {
   "cell_type": "code",
   "execution_count": null,
   "id": "6eb7cdde",
   "metadata": {
    "scrolled": true
   },
   "outputs": [],
   "source": [
    "all_fcs2  <- all_fcs2  %>% mutate(\n",
    "direction = case_when(Comparison == \"DiaT1 vs. Ctrl\" & cluster == \"Ctrl T0\" ~ \"Down\",\n",
    "                      Comparison == \"DiaT1 vs. Ctrl\" & cluster == \"Dia T1\" ~ \"Up\",\n",
    "                      \n",
    "                      Comparison == \"DiaT0 vs. Ctrl\" & cluster == \"Ctrl T0\" ~ \"Down\",\n",
    "                      Comparison == \"DiaT0 vs. Ctrl\" & cluster == \"Dia T0\" ~ \"Up\",\n",
    "                      \n",
    "                      Comparison == \"DiaT0 vs. DiaT1\" & cluster == \"Dia T0\" ~ \"Up\",\n",
    "                      Comparison == \"DiaT0 vs. DiaT1\" & cluster == \"Dia T1\" ~ \"Down\",\n",
    "                      \n",
    "                      Comparison == \"PR0_T0 vs. PR0_T1\" & cluster == \"PR_0 T0\" ~ \"Up\",\n",
    "                      Comparison == \"PR0_T0 vs. PR0_T1\" & cluster == \"PR_0 T1\" ~ \"Down\",\n",
    "                      \n",
    "                      Comparison == \"PR0_T0 vs. PR1_T0\" & cluster == \"PR_0 T0\" ~ \"Up\",\n",
    "                      Comparison == \"PR0_T0 vs. PR1_T0\" & cluster == \"PR_1 T0\" ~ \"Down\",\n",
    "                      \n",
    "                      Comparison == \"PR0_T1 vs. PR1_T1\" & cluster == \"PR_0 T1\" ~ \"Up\",\n",
    "                      Comparison == \"PR0_T1 vs. PR1_T1\" & cluster == \"PR_1 T1\" ~ \"Down\",\n",
    "                      \n",
    "                      Comparison == \"PR1_T0 vs. PR1_T1\" & cluster == \"PR_1 T0\" ~ \"Up\",\n",
    "                      Comparison == \"PR1_T0 vs. PR1_T1\" & cluster == \"PR_1 T1\" ~ \"Down\",\n",
    "                      \n",
    "                      Comparison == \"Keto+ vs. Keto-\" & cluster == \"Keto_0 T0\" ~ \"Down\",\n",
    "                      Comparison == \"Keto+ vs. Keto-\" & cluster == \"Keto_1 T0\" ~ \"Up\"\n",
    "                      \n",
    "                     ))"
   ]
  },
  {
   "cell_type": "code",
   "execution_count": null,
   "id": "0fa9eda3",
   "metadata": {},
   "outputs": [],
   "source": [
    "gc()"
   ]
  },
  {
   "cell_type": "code",
   "execution_count": null,
   "id": "5be95e75",
   "metadata": {},
   "outputs": [],
   "source": [
    "head(all_fcs2)"
   ]
  },
  {
   "cell_type": "code",
   "execution_count": null,
   "id": "55e26ced",
   "metadata": {},
   "outputs": [],
   "source": [
    "dataset_list  <- levels(factor(all_fcs2$dataset))\n"
   ]
  },
  {
   "cell_type": "code",
   "execution_count": null,
   "id": "6ac280b3",
   "metadata": {},
   "outputs": [],
   "source": [
    "dataset_list"
   ]
  },
  {
   "cell_type": "code",
   "execution_count": null,
   "id": "acb5b881",
   "metadata": {},
   "outputs": [],
   "source": [
    "i = dataset_list[1]"
   ]
  },
  {
   "cell_type": "code",
   "execution_count": null,
   "id": "f3188420",
   "metadata": {
    "scrolled": true
   },
   "outputs": [],
   "source": [
    "all_fcs2  %>% dplyr::filter(dataset == i & p_val_adj < 0.01)  %>% \n",
    "    group_by(direction)  "
   ]
  },
  {
   "cell_type": "code",
   "execution_count": null,
   "id": "65363aa7",
   "metadata": {},
   "outputs": [],
   "source": [
    "Comparison_list  <- levels(factor(all_fcs2$Comparison))"
   ]
  },
  {
   "cell_type": "code",
   "execution_count": null,
   "id": "03c31f3b",
   "metadata": {},
   "outputs": [],
   "source": [
    "i = Comparison_list[1]"
   ]
  },
  {
   "cell_type": "code",
   "execution_count": null,
   "id": "cd53ac84",
   "metadata": {},
   "outputs": [],
   "source": [
    "genes  <- all_fcs2  %>% dplyr::filter(Comparison == i & p_val_adj < 0.01)  %>% \n",
    "    group_by(direction, Dataset)  %>% slice_max(n = 10, order_by = avg_log2FC)   %>% pull(gene)"
   ]
  },
  {
   "cell_type": "code",
   "execution_count": null,
   "id": "d75d49a8",
   "metadata": {},
   "outputs": [],
   "source": [
    "genes"
   ]
  },
  {
   "cell_type": "code",
   "execution_count": null,
   "id": "27a62ab8",
   "metadata": {},
   "outputs": [],
   "source": [
    "all_fcs2$signif = ifelse(all_fcs2$p_val_adj < 0.05, \"y\", \"n\")"
   ]
  },
  {
   "cell_type": "code",
   "execution_count": null,
   "id": "1125995e",
   "metadata": {},
   "outputs": [],
   "source": [
    "all_fcs2  <- all_fcs2  %>% mutate(p_val_adj = if_else(p_val_adj == 0, 1e-294,p_val_adj))"
   ]
  },
  {
   "cell_type": "code",
   "execution_count": null,
   "id": "2133b0c1",
   "metadata": {},
   "outputs": [],
   "source": [
    "library(tidytext)"
   ]
  },
  {
   "cell_type": "code",
   "execution_count": null,
   "id": "44873355",
   "metadata": {},
   "outputs": [],
   "source": [
    "Datasets_list  <- levels(factor(all_fcs2$Dataset))"
   ]
  },
  {
   "cell_type": "code",
   "execution_count": null,
   "id": "0ec6145a",
   "metadata": {},
   "outputs": [],
   "source": [
    "i = Datasets_list[1]"
   ]
  },
  {
   "cell_type": "code",
   "execution_count": null,
   "id": "a5d8640e",
   "metadata": {},
   "outputs": [],
   "source": [
    "all_fcs2  %>% head"
   ]
  },
  {
   "cell_type": "code",
   "execution_count": null,
   "id": "601e0c28",
   "metadata": {},
   "outputs": [],
   "source": [
    " genes  <- all_fcs2  %>% dplyr::filter(Dataset == i & Comparison == \"DiaT0 vs. Ctrl\")  %>% \n",
    "    group_by(direction)  %>% slice_max(n = 10, order_by = avg_log2FC)   %>% pull(gene)\n",
    "    df  <- all_fcs2  %>% dplyr::filter(Dataset == i & direction == \"Up\" & gene %in% genes & \n",
    "                                       Comparison == \"DiaT0 vs. Ctrl\"                                      )"
   ]
  },
  {
   "cell_type": "code",
   "execution_count": null,
   "id": "9564a00b",
   "metadata": {},
   "outputs": [],
   "source": [
    "genes"
   ]
  },
  {
   "cell_type": "code",
   "execution_count": null,
   "id": "a288527c",
   "metadata": {},
   "outputs": [],
   "source": [
    "df"
   ]
  },
  {
   "cell_type": "code",
   "execution_count": null,
   "id": "b54ff62e",
   "metadata": {
    "scrolled": true
   },
   "outputs": [],
   "source": [
    "j = 0\n"
   ]
  },
  {
   "cell_type": "code",
   "execution_count": null,
   "id": "edaf1664",
   "metadata": {},
   "outputs": [],
   "source": [
    "plot_list[[i]]"
   ]
  },
  {
   "cell_type": "code",
   "execution_count": null,
   "id": "96528293",
   "metadata": {},
   "outputs": [],
   "source": [
    "plot_list"
   ]
  },
  {
   "cell_type": "code",
   "execution_count": null,
   "id": "60652e5b",
   "metadata": {},
   "outputs": [],
   "source": [
    "Comaprisons_list  <- levels(factor(all_fcs2$Comparison  ))"
   ]
  },
  {
   "cell_type": "code",
   "execution_count": null,
   "id": "14fae87e",
   "metadata": {},
   "outputs": [],
   "source": [
    "dir.create(\"../figures/DE_genes/pdf/\")"
   ]
  },
  {
   "cell_type": "code",
   "execution_count": null,
   "id": "4cc3a47f",
   "metadata": {
    "scrolled": true
   },
   "outputs": [],
   "source": [
    "j = Comparison_list[2]\n",
    "    \n",
    "plot_list  <- list()    \n",
    "  \n",
    "for(i in Datasets_list){\n",
    "    genes  <- all_fcs2  %>% dplyr::filter(Dataset == i & Comparison == j)  %>% \n",
    "    group_by(direction)  %>% slice_max(n = 10, order_by = avg_log2FC)   %>% pull(gene)\n",
    "    df  <- all_fcs2  %>% dplyr::filter(Dataset == i & direction == \"Up\" & \n",
    "                                       gene %in% genes & Comparison == j)\n",
    "    p  <- df  %>% ggplot(aes(x = Dataset, y = reorder(gene, avg_log2FC))) + \n",
    "  geom_point(aes(size = -log(p_val_adj, base = 10), colour = avg_log2FC < 0)) + \n",
    "    scale_size_manual() + \n",
    "#facet_grid(rows = vars(test_type), cols = vars(dataset),\n",
    "#           scales = \"free\", space = \"free\") +\n",
    "scale_x_reordered() +\n",
    "      theme_bw()  + scale_size_continuous(range=c(1,4)) +\n",
    "  #scale_colour_gradient2(low = \"lightskyblue\", mid = \"lightsteelblue2\", high = \"salmon\") + \n",
    " theme(axis.text.x = element_blank(),\n",
    "       axis.ticks.x = element_blank()) + NoLegend() + ylab(\"\") + xlab(\"\") +\n",
    "    ggtitle(i)\n",
    "    plot_list[[i]]  <- p\n",
    "}  \n",
    "    \n",
    "pdf(file = paste0(\"../figures/DE_genes/pdf/\",j,\".pdf\"), width = 15, height = 18)\n",
    "title <- ggdraw() + \n",
    "  draw_label(\n",
    "   j,\n",
    "    fontface = 'bold',\n",
    "    x = 0,\n",
    "    hjust = 0\n",
    "  ) +\n",
    "  theme(\n",
    "    # add margin on the left of the drawing canvas,\n",
    "    # so title is aligned with left edge of first plot\n",
    "    plot.margin = margin(0, 0, 0, 7)\n",
    "  )\n",
    "plot_grid(\n",
    "  title, cowplot::plot_grid(plotlist = plot_list, ncol = 7) ,\n",
    "  ncol = 1,\n",
    "  # rel_heights values control vertical title margins\n",
    "  rel_heights = c(0.05,1)\n",
    ")\n",
    "dev.off()\n",
    "    \n",
    "\n"
   ]
  },
  {
   "cell_type": "code",
   "execution_count": null,
   "id": "da951f12",
   "metadata": {},
   "outputs": [],
   "source": [
    "all_fcs2  %>% dplyr::filter(Comparison == j)  %>% \n",
    "  ggplot(aes(x = avg_log2FC, y = -log10(p_val_adj), color = Dataset)) + \n",
    "  geom_point() + \n",
    "        theme_minimal() +\n",
    "        #geom_text_repel() +\n",
    "        #scale_color_manual(values=c(\"blue\", \"black\", \"red\")) +\n",
    "        geom_vline(xintercept=c(-0.6, 0.6), col=\"red\") +\n",
    "        geom_hline(yintercept=-log10(0.05), col=\"red\")"
   ]
  },
  {
   "cell_type": "code",
   "execution_count": null,
   "id": "1eb83b91",
   "metadata": {},
   "outputs": [],
   "source": [
    "library(ggrepel)\n",
    "# plot adding up all layers we have seen so far\n",
    "       "
   ]
  },
  {
   "cell_type": "code",
   "execution_count": null,
   "id": "e3cf12f2",
   "metadata": {},
   "outputs": [],
   "source": [
    "head(all_fcs2)"
   ]
  },
  {
   "cell_type": "code",
   "execution_count": null,
   "id": "0228d419",
   "metadata": {},
   "outputs": [],
   "source": [
    "gc()"
   ]
  },
  {
   "cell_type": "code",
   "execution_count": null,
   "id": "d385f83d",
   "metadata": {},
   "outputs": [],
   "source": [
    "rm(all_fcs)"
   ]
  },
  {
   "cell_type": "code",
   "execution_count": null,
   "id": "544e03d8",
   "metadata": {},
   "outputs": [],
   "source": [
    "ls()"
   ]
  },
  {
   "cell_type": "code",
   "execution_count": null,
   "id": "8b6b7680",
   "metadata": {},
   "outputs": [],
   "source": [
    "all_fcs3  <- all_fcs2  %>% \n",
    "dplyr::filter(avg_log2FC)>0  %>% \n",
    "mutate(avg_log2FC2 = ifelse(direction == \"Down\",avg_log2FC*-1,avg_log2FC))  %>% \n",
    "mutate(abs_avg_log2FC2 = abs(avg_log2FC2))  %>% \n",
    "mutate(label = ifelse(abs_avg_log2FC2>0.9&p_val_adj<0.05,gene,NA_character_))  %>% \n",
    "mutate(color = ifelse(abs_avg_log2FC2>0.6&p_val_adj<0.05,Dataset,\"grey\"))       "
   ]
  },
  {
   "cell_type": "code",
   "execution_count": null,
   "id": "e09099e5",
   "metadata": {},
   "outputs": [],
   "source": [
    "all_fcs3  %>% head"
   ]
  },
  {
   "cell_type": "code",
   "execution_count": null,
   "id": "429e4ea4",
   "metadata": {
    "scrolled": true
   },
   "outputs": [],
   "source": []
  },
  {
   "cell_type": "code",
   "execution_count": null,
   "id": "822a7c2b",
   "metadata": {},
   "outputs": [],
   "source": [
    "all_fcs3  <- all_fcs2  %>% \n",
    "dplyr::filter(avg_log2FC>0 & !grepl(gene, pattern = \"^MTRN\"))  %>% \n",
    "mutate(avg_log2FC2 = ifelse(direction == \"Down\",avg_log2FC*-1,avg_log2FC))  %>% \n",
    "mutate(abs_avg_log2FC2 = abs(avg_log2FC2))  %>% \n",
    "mutate(label = ifelse(abs_avg_log2FC2>1&p_val_adj<0.05,gene,\n",
    "                     ifelse(abs_avg_log2FC2>0.6&p_val_adj<10e-100,gene,NA_character_)))  %>% \n",
    "mutate(color = ifelse(abs_avg_log2FC2>0.6&p_val_adj<0.05,Dataset,\"grey\"))       "
   ]
  },
  {
   "cell_type": "code",
   "execution_count": null,
   "id": "6e31f952",
   "metadata": {},
   "outputs": [],
   "source": [
    "all_fcs3  %>% head"
   ]
  },
  {
   "cell_type": "code",
   "execution_count": null,
   "id": "b3f82da7",
   "metadata": {},
   "outputs": [],
   "source": [
    "all_fcs3  %>% dplyr::filter(Comparison == j)  %>% \n",
    "  ggplot(aes(x = avg_log2FC2, y = -log10(p_val_adj), color = color, label = label)) + \n",
    "  geom_point() + \n",
    "        theme_minimal() +\n",
    "        geom_text_repel() +\n",
    "        #scale_color_manual(values=c(\"blue\", \"black\", \"red\")) +\n",
    "        geom_vline(xintercept=c(-0.6, 0.6), col=\"red\") +\n",
    "        geom_hline(yintercept=-log10(0.05), col=\"red\")"
   ]
  },
  {
   "cell_type": "code",
   "execution_count": null,
   "id": "76f5760e",
   "metadata": {
    "scrolled": true
   },
   "outputs": [],
   "source": [
    "all_fcs3  %>% dplyr::filter(Comparison == j)  %>% \n",
    "  ggplot(aes(x = avg_log2FC2, y = -log10(p_val_adj), color = color, label = label)) + \n",
    "  geom_point() + \n",
    "        theme_minimal() +\n",
    "        geom_text_repel() +\n",
    "        #scale_color_manual(values=c(\"blue\", \"black\", \"red\")) +\n",
    "        geom_vline(xintercept=c(-0.6, 0.6), col=\"red\") +\n",
    "        geom_hline(yintercept=-log10(0.05), col=\"red\")"
   ]
  },
  {
   "cell_type": "code",
   "execution_count": null,
   "id": "c4027df2",
   "metadata": {},
   "outputs": [],
   "source": [
    "all_fcs3$Dataset  %>% table  %>% length"
   ]
  },
  {
   "cell_type": "code",
   "execution_count": null,
   "id": "6d49b85d",
   "metadata": {},
   "outputs": [],
   "source": [
    "options(repr.plot.width = 13, repr.plot.height = 7)\n",
    "all_fcs3  %>% dplyr::filter(Comparison == j)  %>% \n",
    "  ggplot(aes(x = avg_log2FC2, y = -log10(p_val_adj), color = color, label = label, shape = color)) + \n",
    "  geom_point() + \n",
    "        theme_minimal() +\n",
    "        geom_text_repel() +\n",
    "        scale_color_manual(values=c(scales::hue_pal()(17), \"grey88\")) +\n",
    "        geom_vline(xintercept=c(-0.6, 0.6), col=\"red\") +\n",
    "        geom_hline(yintercept=-log10(0.05), col=\"red\") +\n",
    "    scale_shape_manual(values = c(21:25,21:25,21:25,21:25))"
   ]
  },
  {
   "cell_type": "code",
   "execution_count": null,
   "id": "17f22ed5",
   "metadata": {},
   "outputs": [],
   "source": [
    "options(repr.plot.width = 13, repr.plot.height = 7)\n",
    "all_fcs3  %>% dplyr::filter(Comparison == j)  %>% \n",
    "  ggplot(aes(x = avg_log2FC2, y = -log10(p_val_adj), color = color, label = label, shape = color)) + \n",
    "  geom_point() + \n",
    "        theme_minimal() +\n",
    "        geom_text_repel() +\n",
    "        scale_color_manual(values=c(scales::hue_pal()(17), \"grey88\")) +\n",
    "        geom_vline(xintercept=c(-0.6, 0.6), col=\"red\") +\n",
    "        geom_hline(yintercept=-log10(0.05), col=\"red\") +\n",
    "    scale_shape_manual(values = c(21:25,21:25,21:25,21:25))"
   ]
  },
  {
   "cell_type": "code",
   "execution_count": null,
   "id": "86f86b2a",
   "metadata": {},
   "outputs": [],
   "source": [
    "all_fcs3$cd4_vs_cd8  <- substr(all_fcs3$Dataset,1,3)"
   ]
  },
  {
   "cell_type": "code",
   "execution_count": null,
   "id": "a96310fe",
   "metadata": {},
   "outputs": [],
   "source": [
    "j"
   ]
  },
  {
   "cell_type": "code",
   "execution_count": null,
   "id": "08190d02",
   "metadata": {},
   "outputs": [],
   "source": [
    "options(repr.plot.width = 18, repr.plot.height = 6)\n",
    "df10  <- all_fcs3  %>% dplyr::filter(Comparison == j) \n",
    "df10  %>%  ggplot(aes(x = avg_log2FC2, y = -log10(p_val_adj), color = color, label = label, shape = color)) + \n",
    "  geom_point() + \n",
    "        theme_minimal() +\n",
    "        geom_text_repel(size = 6) +\n",
    "facet_wrap(~cd4_vs_cd8) +\n",
    "        scale_color_manual(values=c(scales::hue_pal()(length(levels(factor(df10$color)))-1), \"grey88\")) +\n",
    "        geom_vline(xintercept=c(-0.6, 0.6), col=\"red\") +\n",
    "        geom_hline(yintercept=-log10(0.05), col=\"red\") +\n",
    "    scale_shape_manual(values = c(21:25,21:25,21:25,21:25)) + \n",
    "ggtitle(j) + ggtheme()"
   ]
  },
  {
   "cell_type": "code",
   "execution_count": null,
   "id": "709ebd48",
   "metadata": {},
   "outputs": [],
   "source": [
    "Comparison_list"
   ]
  },
  {
   "cell_type": "code",
   "execution_count": null,
   "id": "abc607ea",
   "metadata": {},
   "outputs": [],
   "source": [
    "all_fcs3  <- all_fcs2  %>% \n",
    "dplyr::filter(avg_log2FC>0 & !grepl(gene, pattern = \"^MTRN\"))  %>% \n",
    "mutate(avg_log2FC2 = ifelse(direction == \"Down\",avg_log2FC*-1,avg_log2FC))  %>% \n",
    "mutate(abs_avg_log2FC2 = abs(avg_log2FC2))  %>% \n",
    "mutate(label = ifelse(abs_avg_log2FC2>0.9&p_val_adj<0.05,gene,\n",
    "                     ifelse(abs_avg_log2FC2>0.6&p_val_adj<10e-100,gene,NA_character_)))  %>% \n",
    "mutate(color = ifelse(abs_avg_log2FC2>0.6&p_val_adj<0.05,Dataset,\"grey\"))       "
   ]
  },
  {
   "cell_type": "code",
   "execution_count": null,
   "id": "531a05cf",
   "metadata": {},
   "outputs": [],
   "source": [
    "all_fcs3$cd4_vs_cd8  <- substr(all_fcs3$Dataset,1,3)"
   ]
  },
  {
   "cell_type": "code",
   "execution_count": null,
   "id": "66fe9b12",
   "metadata": {},
   "outputs": [],
   "source": [
    "options(repr.plot.width = 22, repr.plot.height = 8)\n",
    "\n",
    "for(j in Comparison_list){\n",
    "    df10  <- all_fcs3  %>% dplyr::filter(Comparison == j) \n",
    "p  <- df10  %>%  ggplot(aes(x = avg_log2FC2, y = -log10(p_val_adj), color = color, label = label)) + \n",
    "  ggrastr::rasterize(geom_point(aes(shape = color), size = 2)) + \n",
    "        theme_minimal() +\n",
    "        geom_text_repel(size = 6) +\n",
    "facet_wrap(~cd4_vs_cd8) +\n",
    "        scale_color_manual(values=c(scales::hue_pal()(length(levels(factor(df10$color)))-1), \"grey88\")) +\n",
    "        geom_vline(xintercept=c(-0.6, 0.6), col=\"red\") +\n",
    "        geom_hline(yintercept=-log10(0.05), col=\"red\") +\n",
    "    \n",
    "    scale_shape_manual(values = c(21:25,21:25,21:25,21:25)) + \n",
    "ggtitle(j) + ggtheme()\n",
    "    print(p)\n",
    "}"
   ]
  },
  {
   "cell_type": "code",
   "execution_count": null,
   "id": "893825e8",
   "metadata": {},
   "outputs": [],
   "source": [
    "for(j in Comparison_list){\n",
    "    df10  <- all_fcs3  %>% dplyr::filter(Comparison == j) \n",
    " print(df10  %>%  group_by(Dataset)  %>% tally)\n",
    " \n",
    "}"
   ]
  },
  {
   "cell_type": "markdown",
   "id": "0838e896",
   "metadata": {},
   "source": [
    "### Correct Colors"
   ]
  },
  {
   "cell_type": "code",
   "execution_count": null,
   "id": "b79b3eaf",
   "metadata": {},
   "outputs": [],
   "source": [
    "colors_of_populations = c(\"Mazda RX4\" = \"red\", \"Mazda RX4 Wag\" = \"blue\", \"Datsun 710\" = \"green\")"
   ]
  },
  {
   "cell_type": "code",
   "execution_count": null,
   "id": "12f096b4",
   "metadata": {},
   "outputs": [],
   "source": [
    "levels(factor(all_fcs3$Dataset))"
   ]
  },
  {
   "cell_type": "code",
   "execution_count": null,
   "id": "26a1138c",
   "metadata": {},
   "outputs": [],
   "source": [
    "all_fcs3  <- all_fcs2  %>% \n",
    "dplyr::filter(avg_log2FC>0 & !grepl(gene, pattern = \"^MTRN\"))  %>% \n",
    "mutate(avg_log2FC2 = ifelse(direction == \"Down\",avg_log2FC*-1,avg_log2FC))  %>% \n",
    "mutate(abs_avg_log2FC2 = abs(avg_log2FC2))  %>% \n",
    "mutate(label = ifelse(abs_avg_log2FC2>0.585&p_val_adj<0.05,gene,\n",
    "                     ifelse(abs_avg_log2FC2>0.585&p_val_adj<10e-100,gene,NA_character_)))  %>% \n",
    "mutate(color = ifelse(abs_avg_log2FC2>0.585&p_val_adj<0.05,Dataset,\"grey\"))   %>% \n",
    "mutate(cd4_vs_cd8 = substr(Dataset,1,3))"
   ]
  },
  {
   "cell_type": "code",
   "execution_count": null,
   "id": "c889b96c",
   "metadata": {},
   "outputs": [],
   "source": [
    "colors_of_populations = c(\n",
    "    'cd4_l1_full' = \"#ffa66aff\",\n",
    "    'cd4_l2_subcluster'  = \"#ffa66aff\",\n",
    "    'cd4_l2_unc'  = \"#cd3333ff\",\n",
    "    'cd4_l3_isaghi'  = \"#a46464ff\",\n",
    "    'cd4_l3_naive'  = \"#a58413ff\",\n",
    "    'cd4_l3_nfkb'  = \"#a46c43ff\",\n",
    "    'cd4_l3_proliferating'  = \"#9b3097ff\", \n",
    "    'cd4_l3_temra'  = \"#7d252aff\",\n",
    "    'cd4_l3_tfh'  = \"#8e6a1dff\",\n",
    "    'cd4_l3_th1th17'  = \"#a94e4eff\",\n",
    "    'cd4_l3_th2'  = \"#b36672ff\",\n",
    "    'cd4_l3_treg'  = \"#ba6d8dff\",\n",
    "    'cd8_l1_full'  = \"#67934aff\",\n",
    "    'cd8_l2_nk'  = \"#105292ff\",\n",
    "    'cd8_l2_subcluster' = \"#67934aff\", \n",
    "    'cd8_l2_unc'  = \"#6d00c0ff\",\n",
    "    'cd8_l3_naive'  = \"#004455ff\",\n",
    "    'cd8_l3_prolif'  = \"#5f711aff\",\n",
    "    'cd8_l3_tcm'  = \"#427c39ff\",\n",
    "    'cd8_l3_tem'  = \"#004455ff\",\n",
    "    'cd8_l3_temra'  = \"#16481fff\",\n",
    "    \"grey\" = \"grey88\"\n",
    ")"
   ]
  },
  {
   "cell_type": "code",
   "execution_count": null,
   "id": "aa0b16b1",
   "metadata": {
    "scrolled": true
   },
   "outputs": [],
   "source": [
    "for(j in Comparison_list){\n",
    "    df10  <- all_fcs3  %>% dplyr::filter(Comparison == j & !(Dataset %in% c(\"cd4_l1_full\", \"cd8_l2_subcluster\", \n",
    "                                                                            \"cd4_l2_subcluster\", \"cd8_l1_full\",\n",
    "                                                                           \"cd8_l2_nk\"))) \n",
    "p  <- df10  %>%  ggplot(aes(x = avg_log2FC2, y = -log10(p_val_adj), color = color, label = label)) + \n",
    "  ggrastr::rasterize(geom_point(aes(shape = color), size = 2)) + \n",
    "        theme_minimal() +\n",
    "        geom_text_repel(size = 6) +\n",
    "facet_wrap(~cd4_vs_cd8) +\n",
    "        scale_color_manual(values=colors_of_populations) +\n",
    "        geom_vline(xintercept=c(-0.585, 0.585), col=\"red\") +\n",
    "        geom_hline(yintercept=-log10(0.05), col=\"red\") +\n",
    "    \n",
    "    scale_shape_manual(values = c(21:25,21:25,21:25,21:25)) + \n",
    "ggtitle(j) + ggtheme()\n",
    "    print(p)\n",
    "}"
   ]
  },
  {
   "cell_type": "code",
   "execution_count": null,
   "id": "7c82ca56",
   "metadata": {},
   "outputs": [],
   "source": []
  },
  {
   "cell_type": "code",
   "execution_count": null,
   "id": "3e9e1dc7",
   "metadata": {},
   "outputs": [],
   "source": [
    "all_fcs4  <- all_fcs2  %>% \n",
    "dplyr::filter(avg_log2FC>0 & !grepl(gene, pattern = \"^MTRN\"))  %>% \n",
    "mutate(avg_log2FC2 = ifelse(direction == \"Down\",avg_log2FC*-1,avg_log2FC))  %>% \n",
    "mutate(abs_avg_log2FC2 = abs(avg_log2FC2))  %>% \n",
    "mutate(label = ifelse(abs_avg_log2FC2>0.322&p_val_adj<0.05,gene,\n",
    "                     ifelse(abs_avg_log2FC2>0.322&p_val_adj<10e-100,gene,NA_character_)))  %>% \n",
    "mutate(color = ifelse(abs_avg_log2FC2>0.322&p_val_adj<0.05,Dataset,\"grey\"))   %>% \n",
    "mutate(cd4_vs_cd8 = substr(Dataset,1,3))"
   ]
  },
  {
   "cell_type": "code",
   "execution_count": null,
   "id": "8cd8687f",
   "metadata": {},
   "outputs": [],
   "source": [
    "options(repr.plot.width = 12, repr.plot.height = 6)\n",
    "\n",
    "for(j in Comparison_list){\n",
    "    df10  <- all_fcs4  %>% dplyr::filter(Comparison == j & (Dataset %in% c(\"cd4_l1_full\", \"cd8_l2_subcluster\", \n",
    "                                                                          \"cd8_l2_nk\"))) \n",
    "p  <- df10  %>%  ggplot(aes(x = avg_log2FC2, y = -log10(p_val_adj), color = color, label = label)) + \n",
    "  ggrastr::rasterize(geom_point(aes(shape = color), size = 2)) + \n",
    "        theme_minimal() +\n",
    "        geom_text_repel(size = 6) +\n",
    "        scale_color_manual(values=colors_of_populations) +\n",
    "        geom_vline(xintercept=c(-0.322, 0.322), col=\"red\") +\n",
    "        geom_hline(yintercept=-log10(0.05), col=\"red\") +\n",
    "    \n",
    "    scale_shape_manual(values = c(21:25,21:25,21:25,21:25)) + \n",
    "ggtitle(j) + ggtheme()\n",
    "    print(p)\n",
    "}"
   ]
  },
  {
   "cell_type": "markdown",
   "id": "3651b8d9",
   "metadata": {},
   "source": [
    "### Without Y genes"
   ]
  },
  {
   "cell_type": "code",
   "execution_count": null,
   "id": "b3b67395",
   "metadata": {},
   "outputs": [],
   "source": [
    "library(biomaRt)\n",
    "mart <- useMart(biomart=\"ensembl\", dataset=\"hsapiens_gene_ensembl\")"
   ]
  },
  {
   "cell_type": "code",
   "execution_count": null,
   "id": "5e8c2d68",
   "metadata": {},
   "outputs": [],
   "source": [
    "results <- getBM(attributes = c(\"chromosome_name\", \"hgnc_symbol\"),\n",
    "           filters = \"chromosome_name\", values = \"Y\", mart = mart)"
   ]
  },
  {
   "cell_type": "code",
   "execution_count": null,
   "id": "a2d142cf",
   "metadata": {
    "scrolled": true
   },
   "outputs": [],
   "source": [
    "results"
   ]
  },
  {
   "cell_type": "code",
   "execution_count": null,
   "id": "7d49f89c",
   "metadata": {},
   "outputs": [],
   "source": [
    "all_fcs4  <- all_fcs2  %>% \n",
    "dplyr::filter(avg_log2FC>0 \n",
    "              & !grepl(gene, pattern = \"^MTRN\")\n",
    "             & !grepl(gene, pattern = \"^HLA-\")\n",
    "             & !grepl(gene, pattern = \"orf\")\n",
    "             & !grepl(gene, pattern = \"^AP0\")\n",
    "             & !grepl(gene, pattern = \"^H1-\"))  %>% \n",
    "dplyr::filter(!(gene %in% results$hgnc_symbol))  %>% \n",
    "mutate(avg_log2FC2 = ifelse(direction == \"Down\",avg_log2FC*-1,avg_log2FC))  %>% \n",
    "mutate(abs_avg_log2FC2 = abs(avg_log2FC2))  %>% \n",
    "mutate(label = ifelse(abs_avg_log2FC2>0.322&p_val_adj<0.05,gene,\n",
    "                     ifelse(abs_avg_log2FC2>0.322&p_val_adj<10e-100,gene,NA_character_)))  %>% \n",
    "mutate(color = ifelse(abs_avg_log2FC2>0.322&p_val_adj<0.05,Dataset,\"grey\"))   %>% \n",
    "mutate(cd4_vs_cd8 = substr(Dataset,1,3))"
   ]
  },
  {
   "cell_type": "code",
   "execution_count": null,
   "id": "d8b9b4e1",
   "metadata": {},
   "outputs": [],
   "source": [
    "all_fcs4  %>% dplyr::filter(gene == \"ASCL2\")"
   ]
  },
  {
   "cell_type": "code",
   "execution_count": null,
   "id": "e4cb3816",
   "metadata": {},
   "outputs": [],
   "source": [
    "options(repr.plot.width = 12, repr.plot.height = 6)\n",
    "\n",
    "for(j in Comparison_list){\n",
    "    df10  <- all_fcs4  %>% dplyr::filter(Comparison == j & (Dataset %in% c(\"cd4_l1_full\", \"cd8_l2_subcluster\"))) \n",
    "p  <- df10  %>%  ggplot(aes(x = avg_log2FC2, y = -log10(p_val_adj), color = color, label = label)) + \n",
    "  ggrastr::rasterize(geom_point(aes(shape = color), size = 2), dpi = 300) + \n",
    "        theme_minimal() +\n",
    "        geom_vline(xintercept=c(-0.322, 0.322), col=\"red\") +\n",
    "        geom_hline(yintercept=-log10(0.05), col=\"red\") +geom_text_repel(size = 3) +\n",
    "        scale_color_manual(values=colors_of_populations) +\n",
    "        scale_shape_manual(values = c(21:25,21:25,21:25,21:25)) + \n",
    "ggtitle(j) + ggtheme()\n",
    "    print(p)\n",
    "    ggsave(paste0(\"../figures/volcano/cd4_and_cd8_\",j,\".svg\"), width = 10, height = 6)\n",
    "}"
   ]
  },
  {
   "cell_type": "code",
   "execution_count": null,
   "id": "0b85f0dc",
   "metadata": {},
   "outputs": [],
   "source": [
    "library(ggrepel)"
   ]
  },
  {
   "cell_type": "code",
   "execution_count": null,
   "id": "bcf99c64",
   "metadata": {},
   "outputs": [],
   "source": [
    "all_fcs5  <- all_fcs2  %>% \n",
    "dplyr::filter(avg_log2FC>0 \n",
    "              & !grepl(gene, pattern = \"^MTRN\")\n",
    "             & !grepl(gene, pattern = \"^HLA-\")\n",
    "             & !grepl(gene, pattern = \"orf\")\n",
    "             & !grepl(gene, pattern = \"^AP0\")\n",
    "             & !grepl(gene, pattern = \"^H1-\"))  %>% \n",
    "dplyr::filter(!(gene %in% results$hgnc_symbol))  %>% \n",
    "mutate(avg_log2FC2 = ifelse(direction == \"Down\",avg_log2FC*-1,avg_log2FC))  %>% \n",
    "mutate(abs_avg_log2FC2 = abs(avg_log2FC2))  %>% \n",
    "mutate(label = ifelse(abs_avg_log2FC2>0.2&p_val_adj<0.05,gene,\n",
    "                     ifelse(abs_avg_log2FC2>0.2&p_val_adj<10e-100,gene,NA_character_)))  %>% \n",
    "mutate(color = ifelse(abs_avg_log2FC2>0.2&p_val_adj<0.05,Dataset,\"grey\"))   %>% \n",
    "mutate(cd4_vs_cd8 = substr(Dataset,1,3))"
   ]
  },
  {
   "cell_type": "code",
   "execution_count": null,
   "id": "590a7ec5",
   "metadata": {
    "scrolled": false
   },
   "outputs": [],
   "source": [
    "options(repr.plot.width = 12, repr.plot.height = 6)\n",
    "\n",
    "for(j in Comparison_list){\n",
    "    df10  <- all_fcs5 %>% dplyr::filter(Comparison == j & (Dataset %in% c(\"cd4_l3_treg\"))) \n",
    "p  <- df10  %>%  ggplot(aes(x = avg_log2FC2, y = -log10(p_val_adj), color = color, label = label)) + \n",
    "  ggrastr::rasterize(geom_point(aes(shape = color), size = 2), dpi = 300) + \n",
    "        theme_minimal() +\n",
    "        geom_vline(xintercept=c(-0.2, 0.2), col=\"red\") +\n",
    "        geom_hline(yintercept=-log10(0.05), col=\"red\") +geom_text_repel(size = 6, max.overlaps = 15) +\n",
    "        scale_color_manual(values=c(\"#ff5599ff\",\"grey88\")) +\n",
    "        scale_shape_manual(values = c(21:25,21:25,21:25,21:25)) + \n",
    "ggtitle(j) + ggtheme()\n",
    "    print(p)\n",
    "    ggsave(paste0(\"../figures/volcano/treg_\",j,\".svg\"), width = 10, height = 6)\n",
    "}"
   ]
  },
  {
   "cell_type": "code",
   "execution_count": null,
   "id": "6169d125",
   "metadata": {},
   "outputs": [],
   "source": [
    "for(j in Comparison_list){\n",
    "    df10  <- all_fcs5 %>% dplyr::filter(Comparison == j & (Dataset %in% c(\"cd8_l2_unc\"))) \n",
    "p  <- df10  %>%  ggplot(aes(x = avg_log2FC2, y = -log10(p_val_adj), color = color, label = label)) + \n",
    "  ggrastr::rasterize(geom_point(aes(shape = color), size = 2), dpi = 300) + \n",
    "        theme_minimal() +\n",
    "        geom_vline(xintercept=c(-0.2, 0.2), col=\"red\") +\n",
    "        geom_hline(yintercept=-log10(0.05), col=\"red\") +geom_text_repel(size = 6) +\n",
    "        scale_color_manual(values=c(\"#306aa3ff\",\"grey88\")) +\n",
    "        scale_shape_manual(values = c(21:25,21:25,21:25,21:25)) + \n",
    "ggtitle(j) + ggtheme()\n",
    "    print(p)\n",
    "    ggsave(paste0(\"../figures/volcano/unc_\",j,\".svg\"), width = 10, height = 6)\n",
    "}"
   ]
  },
  {
   "cell_type": "code",
   "execution_count": null,
   "id": "df55ab86",
   "metadata": {},
   "outputs": [],
   "source": [
    "cd4  <- readRDS(\"../data/processed/L1/cd4_l1_full_filt.rds\")\n",
    "\n",
    "avgexp = AggregateExpression(subset(cd4, Experiment_ID %in% c(\"Exp16\",\"Exp18\",\"Exp19\",\"Exp20\")), \n",
    "                             return.seurat = F, group.by = \"Patient_Time\", \n",
    "                          assay = \"RNA\")"
   ]
  },
  {
   "cell_type": "code",
   "execution_count": null,
   "id": "ba0ae7fe",
   "metadata": {},
   "outputs": [],
   "source": []
  },
  {
   "cell_type": "code",
   "execution_count": null,
   "id": "72950151",
   "metadata": {},
   "outputs": [],
   "source": [
    "avgexp  <- NormalizeData(avgexp)\n",
    "avgexp  <- ScaleData(avgexp)"
   ]
  },
  {
   "cell_type": "code",
   "execution_count": null,
   "id": "25780388",
   "metadata": {},
   "outputs": [],
   "source": [
    "dir.create(\"../figures/volcano\")"
   ]
  },
  {
   "cell_type": "code",
   "execution_count": null,
   "id": "e2f68e69",
   "metadata": {},
   "outputs": [],
   "source": [
    "options(repr.plot.width = 22, repr.plot.height = 8)\n",
    "\n",
    "for(j in Comparison_list){\n",
    "    df10  <- all_fcs4  %>% dplyr::filter(Comparison == j & !(Dataset %in% c(\"cd4_l1_full\", \"cd8_l2_subcluster\", \n",
    "                                                                            \"cd4_l2_subcluster\", \"cd8_l1_full\",\n",
    "                                                                           \"cd8_l2_nk\"))) \n",
    "p  <- df10  %>%  ggplot(aes(x = avg_log2FC2, y = -log10(p_val_adj), color = color, label = label)) + \n",
    "  ggrastr::rasterize(geom_point(aes(shape = color), size = 2)) + \n",
    "        theme_minimal() +\n",
    "        geom_text_repel(size = 6) +\n",
    "facet_wrap(~cd4_vs_cd8) +\n",
    "        scale_color_manual(values=colors_of_populations) +\n",
    "        geom_vline(xintercept=c(-0.322, 0.322), col=\"red\") +\n",
    "        geom_hline(yintercept=-log10(0.05), col=\"red\") +\n",
    "    \n",
    "    scale_shape_manual(values = c(21:25,21:25,21:25,21:25)) + \n",
    "ggtitle(j) + ggtheme()\n",
    "    print(p)\n",
    "    ggsave(paste0(\"../figures/volcano/all_populations_\",j,\".svg\"), width = 17, height = 6)\n",
    "}"
   ]
  },
  {
   "cell_type": "markdown",
   "id": "32c66c5d",
   "metadata": {},
   "source": [
    "## DESeq gene markers"
   ]
  },
  {
   "cell_type": "code",
   "execution_count": null,
   "id": "a2732e06",
   "metadata": {
    "scrolled": true
   },
   "outputs": [],
   "source": [
    "all_markers"
   ]
  },
  {
   "cell_type": "code",
   "execution_count": null,
   "id": "69827365",
   "metadata": {},
   "outputs": [],
   "source": [
    "deseq_markers  <- read_csv(\"../../240218_VN_Diabetes_V05/tables/DESeq_markers/cd4_deseq.csv\")"
   ]
  },
  {
   "cell_type": "code",
   "execution_count": null,
   "id": "7ea1cc2c",
   "metadata": {},
   "outputs": [],
   "source": [
    "deseq_markers_cd4  <- deseq_markers"
   ]
  },
  {
   "cell_type": "code",
   "execution_count": null,
   "id": "8cccdb81",
   "metadata": {},
   "outputs": [],
   "source": [
    "deseq_markers  <- read_csv(\"../tables/DESeq_markers/cd8_deseq.csv\")"
   ]
  },
  {
   "cell_type": "code",
   "execution_count": null,
   "id": "d022678b",
   "metadata": {},
   "outputs": [],
   "source": [
    "deseq_markers_cd8  <- deseq_markers"
   ]
  },
  {
   "cell_type": "code",
   "execution_count": null,
   "id": "1165f067",
   "metadata": {},
   "outputs": [],
   "source": [
    "deseq_markers  <- rbind(deseq_markers_cd4, deseq_markers_cd8)"
   ]
  },
  {
   "cell_type": "code",
   "execution_count": null,
   "id": "e7955805",
   "metadata": {},
   "outputs": [],
   "source": [
    "deseq_markers$`...1`  <- NULL"
   ]
  },
  {
   "cell_type": "code",
   "execution_count": null,
   "id": "14b9036f",
   "metadata": {
    "scrolled": true
   },
   "outputs": [],
   "source": [
    "deseq_markers"
   ]
  },
  {
   "cell_type": "code",
   "execution_count": null,
   "id": "3da6a25f",
   "metadata": {},
   "outputs": [],
   "source": [
    "deseq_markers  <- deseq_markers  %>% mutate(\n",
    "direction = case_when(test_type == \"Dia T1 vs Ctrl T0\" & cluster == \"Ctrl T0\" ~ \"Down\",\n",
    "                      test_type == \"Dia T1 vs Ctrl T0\" & cluster == \"Dia T1\" ~ \"Up\",\n",
    "                      \n",
    "                      test_type == \"Dia T0 vs Ctrl T0\" & cluster == \"Ctrl T0\" ~ \"Down\",\n",
    "                      test_type == \"Dia T0 vs Ctrl T0\" & cluster == \"Dia T0\" ~ \"Up\",\n",
    "                      \n",
    "                      test_type == \"Dia T0 vs Dia T1\" & cluster == \"Dia T0\" ~ \"Up\",\n",
    "                      test_type == \"Dia T0 vs Dia T1\" & cluster == \"Dia T1\" ~ \"Down\",\n",
    "                      \n",
    "                      test_type == \"PR_0 T0 vs PR_0 T1\" & cluster == \"PR_0 T0\" ~ \"Up\",\n",
    "                      test_type == \"PR_0 T0 vs PR_0 T1\" & cluster == \"PR_0 T1\" ~ \"Down\",\n",
    "                      \n",
    "                      test_type == \"PR_0 T0 vs PR_1 T0\" & cluster == \"PR_0 T0\" ~ \"Up\",\n",
    "                      test_type == \"PR_0 T0 vs PR_1 T0\" & cluster == \"PR_1 T0\" ~ \"Down\",\n",
    "                      \n",
    "                      test_type == \"PR_0 T1 vs PR_1 T1\" & cluster == \"PR_0 T1\" ~ \"Up\",\n",
    "                      test_type == \"PR_0 T1 vs PR_1 T1\" & cluster == \"PR_1 T1\" ~ \"Down\",\n",
    "                      \n",
    "                      test_type == \"PR_1 T0 vs PR_1 T1\" & cluster == \"PR_1 T0\" ~ \"Up\",\n",
    "                      test_type == \"PR_1 T0 vs PR_1 T1\" & cluster == \"PR_1 T1\" ~ \"Down\",\n",
    "                      \n",
    "                      test_type == \"Keto_1 T0 vs Keto_0 T0\" & cluster == \"Keto_0 T0\" ~ \"Down\",\n",
    "                      test_type == \"Keto_1 T0 vs Keto_0 T0\" & cluster == \"Keto_1 T0\" ~ \"Up\"\n",
    "                      \n",
    "                     ))"
   ]
  },
  {
   "cell_type": "code",
   "execution_count": null,
   "id": "98bc4694",
   "metadata": {},
   "outputs": [],
   "source": [
    "deseq_markers  %>% group_by(cluster, test_type, direction)  %>% tally"
   ]
  },
  {
   "cell_type": "code",
   "execution_count": null,
   "id": "13feb81d",
   "metadata": {},
   "outputs": [],
   "source": [
    "deseq_markers$gene_direction  <- paste(deseq_markers$gene, deseq_markers$direction)"
   ]
  },
  {
   "cell_type": "code",
   "execution_count": null,
   "id": "76e3daa2",
   "metadata": {},
   "outputs": [],
   "source": [
    "colnames(deseq_markers)"
   ]
  },
  {
   "cell_type": "code",
   "execution_count": null,
   "id": "4d5eb67f",
   "metadata": {},
   "outputs": [],
   "source": [
    "colnames(all_markers)"
   ]
  },
  {
   "cell_type": "code",
   "execution_count": null,
   "id": "75456866",
   "metadata": {},
   "outputs": [],
   "source": [
    "mrk_sc_deseq  <- rbind(deseq_markers, all_markers)"
   ]
  }
 ],
 "metadata": {
  "kernelspec": {
   "display_name": "R",
   "language": "R",
   "name": "ir"
  },
  "language_info": {
   "codemirror_mode": "r",
   "file_extension": ".r",
   "mimetype": "text/x-r-source",
   "name": "R",
   "pygments_lexer": "r",
   "version": "4.5.1"
  },
  "toc": {
   "base_numbering": 1,
   "nav_menu": {},
   "number_sections": true,
   "sideBar": true,
   "skip_h1_title": false,
   "title_cell": "Table of Contents",
   "title_sidebar": "Contents",
   "toc_cell": false,
   "toc_position": {
    "height": "calc(100% - 180px)",
    "left": "10px",
    "top": "150px",
    "width": "393.767px"
   },
   "toc_section_display": true,
   "toc_window_display": true
  }
 },
 "nbformat": 4,
 "nbformat_minor": 5
}
