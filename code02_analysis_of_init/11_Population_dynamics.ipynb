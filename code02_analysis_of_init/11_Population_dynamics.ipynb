{
 "cells": [
  {
   "cell_type": "markdown",
   "id": "842e04aa",
   "metadata": {},
   "source": [
    "# Part 11: Proportionality analysis of populations in T1D and Healthy"
   ]
  },
  {
   "cell_type": "markdown",
   "id": "b0469bc4",
   "metadata": {},
   "source": [
    "In this document, we analyze the frequencies of the populations and subpopulations in T1D patients and healhty donors. In the manuscript, we performed frequentist analysis, which is presented here, and Bayesian analysis, which is described in a separate GitHub [repository by @martinmodrak](https://github.com/martinmodrak/diabetes_populace). \n",
    "\n",
    "During the revision process, we added part focusing on the proportion of subpopulations in different age groups. "
   ]
  },
  {
   "cell_type": "code",
   "execution_count": null,
   "id": "cc7fb22d",
   "metadata": {
    "scrolled": true
   },
   "outputs": [],
   "source": [
    "# Loading of packages and scripts\n",
    "source(\"diabetes_analysis_v07.R\")"
   ]
  },
  {
   "cell_type": "markdown",
   "id": "54faf6bd",
   "metadata": {},
   "source": [
    "## CD4 populations"
   ]
  },
  {
   "cell_type": "markdown",
   "id": "a400910c",
   "metadata": {},
   "source": [
    "In this part of the analysis, we will quantify the frequencies of Cd4 populations and subpopulation from parent and total counts. The resulting tables will be used for frequnetist and Bayesian analysis. "
   ]
  },
  {
   "cell_type": "markdown",
   "id": "0a0c80a9",
   "metadata": {},
   "source": [
    "We will load the CD4 dataset and add metadata to ensure that we are not losing patients with zero counts of cells in any subpopulations."
   ]
  },
  {
   "cell_type": "code",
   "execution_count": null,
   "id": "0d0e0924",
   "metadata": {},
   "outputs": [],
   "source": [
    "cd4_l1_full_filt  <- readRDS(\"../data/processed/L1/cd4_l1_full_filt.rds\")"
   ]
  },
  {
   "cell_type": "code",
   "execution_count": null,
   "id": "674ad4af",
   "metadata": {},
   "outputs": [],
   "source": [
    "cd4_patient_meta  <- cd4_l1_full_filt@meta.data  %>% \n",
    "                            dplyr::select(Sample_ID, Condition, Condition2, \n",
    "                                          Disease, \n",
    "                                          Sex, Age, Age_group, Patient_ID, \n",
    "                                          Time, Experiment_ID)   %>% unique"
   ]
  },
  {
   "cell_type": "markdown",
   "id": "10ab14ce",
   "metadata": {},
   "source": [
    "We will calculate the frequencies of the Level3 subpopulations from total. "
   ]
  },
  {
   "cell_type": "code",
   "execution_count": null,
   "id": "40a156eb",
   "metadata": {},
   "outputs": [],
   "source": [
    "df3  <- cd4_l1_full_filt@meta.data %>% \n",
    "  group_by(Sample_ID, annotations_l3) %>% \n",
    "  summarise(n = n()) %>% \n",
    "  unique() %>% \n",
    "ungroup   %>% \n",
    "pivot_wider(names_from = \"annotations_l3\", values_from = \"n\", values_fill = 0) \n",
    "df_l3  <- left_join((cd4_l1_full_filt@misc$all_md %>% dplyr::select(Sample_ID) %>% unique), df3)\n",
    "df_l3[is.na(df_l3)] <- 0\n",
    "df_l3  <- df_l3  %>% pivot_longer(!Sample_ID, values_to = \"n\", names_to = \"annotations\")\n",
    "\n",
    "# As we've lost non-grouping variables, let's join them back\n",
    "md_to_join <- cd4_l1_full_filt@misc$all_md %>% \n",
    "  unique()\n",
    "\n",
    "df_l3  <- left_join(df_l3, md_to_join)\n",
    "df_l3$Level  <- \"L3\""
   ]
  },
  {
   "cell_type": "markdown",
   "id": "2d56667c",
   "metadata": {},
   "source": [
    "Check the resulting table:"
   ]
  },
  {
   "cell_type": "code",
   "execution_count": null,
   "id": "6b602948",
   "metadata": {},
   "outputs": [],
   "source": [
    "df_l3"
   ]
  },
  {
   "cell_type": "markdown",
   "id": "d869893c",
   "metadata": {},
   "source": [
    "We will calculate the frequencies of the Level2 populations from total. "
   ]
  },
  {
   "cell_type": "code",
   "execution_count": null,
   "id": "4ddb97d9",
   "metadata": {},
   "outputs": [],
   "source": [
    "df3  <- cd4_l1_full_filt@meta.data %>% \n",
    "  group_by(Sample_ID, annotations_l2) %>% \n",
    "  summarise(n = n()) %>% \n",
    "  unique() %>% \n",
    "ungroup   %>% \n",
    "pivot_wider(names_from = \"annotations_l2\", values_from = \"n\", values_fill = 0) \n",
    "df_l2  <- left_join((cd4_l1_full_filt@misc$all_md %>% dplyr::select(Sample_ID) %>% unique), df3)\n",
    "df_l2[is.na(df_l2)] <- 0\n",
    "df_l2  <- df_l2  %>% pivot_longer(!Sample_ID, values_to = \"n\", names_to = \"annotations\")\n",
    "\n",
    "# As we've lost non-grouping variables, let's join them back\n",
    "md_to_join <- cd4_l1_full_filt@misc$all_md %>% \n",
    "  unique()\n",
    "\n",
    "df_l2  <- left_join(df_l2, md_to_join)\n",
    "df_l2$Level  <- \"L2\""
   ]
  },
  {
   "cell_type": "markdown",
   "id": "b4bd84ba",
   "metadata": {},
   "source": [
    "Check the resulting table:"
   ]
  },
  {
   "cell_type": "code",
   "execution_count": null,
   "id": "2cee58ff",
   "metadata": {
    "scrolled": true
   },
   "outputs": [],
   "source": [
    "df_l2"
   ]
  },
  {
   "cell_type": "markdown",
   "id": "3e53b765",
   "metadata": {},
   "source": [
    "Finally, will calculate the frequencies of the Level1 populations from total. "
   ]
  },
  {
   "cell_type": "code",
   "execution_count": null,
   "id": "d208649c",
   "metadata": {},
   "outputs": [],
   "source": [
    "df3  <- cd4_l1_full_filt@meta.data %>% \n",
    "  group_by(Sample_ID, annotations_l1) %>% \n",
    "  summarise(n = n()) %>% \n",
    "  unique() %>% \n",
    "ungroup   %>% \n",
    "pivot_wider(names_from = \"annotations_l1\", values_from = \"n\", values_fill = 0) \n",
    "df_l1  <- left_join((cd4_l1_full_filt@misc$all_md %>% dplyr::select(Sample_ID) %>% unique), df3)\n",
    "df_l1[is.na(df_l1)] <- 0\n",
    "df_l1  <- df_l1  %>% pivot_longer(!Sample_ID, values_to = \"n\", names_to = \"annotations\")\n",
    "\n",
    "# As we've lost non-grouping variables, let's join them back\n",
    "md_to_join <- cd4_l1_full_filt@misc$all_md %>% \n",
    "  unique()\n",
    "\n",
    "df_l1  <- left_join(df_l1, md_to_join)\n",
    "df_l1$Level  <- \"L1\""
   ]
  },
  {
   "cell_type": "markdown",
   "id": "37785512",
   "metadata": {},
   "source": [
    "Check the resulting table:"
   ]
  },
  {
   "cell_type": "code",
   "execution_count": null,
   "id": "a98c6ee6",
   "metadata": {},
   "outputs": [],
   "source": [
    "df_l1"
   ]
  },
  {
   "cell_type": "markdown",
   "id": "db18bfbb",
   "metadata": {},
   "source": [
    "Now let's bind the tables with the three levels of populations into one table."
   ]
  },
  {
   "cell_type": "code",
   "execution_count": null,
   "id": "0990e10d",
   "metadata": {},
   "outputs": [],
   "source": [
    "df_all_levels  <- rbind(df_l1, df_l2, df_l3)"
   ]
  },
  {
   "cell_type": "code",
   "execution_count": null,
   "id": "05480443",
   "metadata": {},
   "outputs": [],
   "source": [
    "all_counts  <- df_all_levels"
   ]
  },
  {
   "cell_type": "markdown",
   "id": "3f5a5c5f",
   "metadata": {},
   "source": [
    "We will also add the frequency of total for each population and level. "
   ]
  },
  {
   "cell_type": "code",
   "execution_count": null,
   "id": "6d8282e6",
   "metadata": {},
   "outputs": [],
   "source": [
    "df3  <- all_counts %>% \n",
    "  group_by(Sample_ID, Level) %>% \n",
    "  mutate(freq_from_total = n / sum(n)) "
   ]
  },
  {
   "cell_type": "code",
   "execution_count": null,
   "id": "5a5d978d",
   "metadata": {},
   "outputs": [],
   "source": [
    "df3"
   ]
  },
  {
   "cell_type": "markdown",
   "id": "82e1573d",
   "metadata": {},
   "source": [
    "To calculate the frequency of parent, we need to set the parent population for each subpopulation."
   ]
  },
  {
   "cell_type": "code",
   "execution_count": null,
   "id": "16631aac",
   "metadata": {},
   "outputs": [],
   "source": [
    "df3  <- df3  %>% separate(annotations, into = c(\"annot_l1\",\"annot_l2\",NA), sep = \"---\", remove = F)  %>% \n",
    "mutate(Parent_annotation = case_when(\n",
    "Level == \"L1\" ~ \"CD4\",\n",
    "Level == \"L2\" ~ annot_l1,\n",
    "Level == \"L3\" ~ paste0(annot_l1, \"---\" ,annot_l2)\n",
    "))"
   ]
  },
  {
   "cell_type": "code",
   "execution_count": null,
   "id": "c07c46f8",
   "metadata": {},
   "outputs": [],
   "source": [
    "df3"
   ]
  },
  {
   "cell_type": "markdown",
   "id": "91405af1",
   "metadata": {},
   "source": [
    "Next, we will calculate the total count per parent population for each level and each patient."
   ]
  },
  {
   "cell_type": "code",
   "execution_count": null,
   "id": "9f9c53d6",
   "metadata": {},
   "outputs": [],
   "source": [
    "levels_l1  <- all_counts %>% \n",
    "  filter(Level == \"L1\")  %>% \n",
    "pull(annotations)  %>% unique\n",
    "levels_l2  <- all_counts %>% \n",
    "  filter(Level == \"L2\")  %>% \n",
    "pull(annotations)  %>% unique"
   ]
  },
  {
   "cell_type": "markdown",
   "id": "5faee553",
   "metadata": {},
   "source": [
    "We will iterate through level 1 annotations and level 2 annotation to obtain total counts per patient."
   ]
  },
  {
   "cell_type": "code",
   "execution_count": null,
   "id": "f3bdf70e",
   "metadata": {},
   "outputs": [],
   "source": [
    "for(i in 1:length(levels_l1)) {\n",
    "    \n",
    "    df_filt  <- df3  %>% filter(grepl(annotations, pattern = levels_l1[i]) & Level == \"L2\")\n",
    "\n",
    "    df_filt  <- df_filt  %>% \n",
    "            group_by(Sample_ID)  %>% \n",
    "        summarise(total_per_patient = sum(n))\n",
    "\n",
    "    df_filt$Level = \"L2\"\n",
    "\n",
    "    df_filt$Parent_annotation = levels_l1[i]\n",
    "\n",
    "    if(i > 1){\n",
    "       \n",
    "        df_sum_of_parent  <- rbind(df_sum_of_parent, df_filt)\n",
    "        \n",
    "    } else {\n",
    "        df_sum_of_parent  <- df_filt\n",
    "    }\n",
    "\n",
    "}\n",
    "\n",
    "for(i in 1:length(levels_l2)) {\n",
    "    \n",
    "    df_filt  <- df3  %>% filter(grepl(annotations, pattern = levels_l2[i]) & Level == \"L3\")\n",
    "\n",
    "    df_filt  <- df_filt  %>% \n",
    "            group_by(Sample_ID)  %>% \n",
    "        summarise(total_per_patient = sum(n))\n",
    "\n",
    "    df_filt$Level = \"L3\"\n",
    "\n",
    "    df_filt$Parent_annotation = levels_l2[i]\n",
    "\n",
    "    df_sum_of_parent  <- rbind(df_sum_of_parent, df_filt)\n",
    "   \n",
    "\n",
    "}"
   ]
  },
  {
   "cell_type": "markdown",
   "id": "c614ea75",
   "metadata": {},
   "source": [
    "Check the resulting table:"
   ]
  },
  {
   "cell_type": "code",
   "execution_count": null,
   "id": "733f3318",
   "metadata": {
    "scrolled": true
   },
   "outputs": [],
   "source": [
    "df_sum_of_parent"
   ]
  },
  {
   "cell_type": "markdown",
   "id": "4e27e94f",
   "metadata": {},
   "source": [
    "Now, let's join the total counts to our previous table. "
   ]
  },
  {
   "cell_type": "code",
   "execution_count": null,
   "id": "96359ba4",
   "metadata": {},
   "outputs": [],
   "source": [
    "df4  <- left_join(df3, df_sum_of_parent)"
   ]
  },
  {
   "cell_type": "markdown",
   "id": "cd562554",
   "metadata": {},
   "source": [
    "As we now have the counts of both the population itself and the parent population per each sample, we can calculate the frequency from parent population.  "
   ]
  },
  {
   "cell_type": "code",
   "execution_count": null,
   "id": "a8f7c606",
   "metadata": {},
   "outputs": [],
   "source": [
    "df4$freq_from_parent  <- df4$n/df4$total_per_patient"
   ]
  },
  {
   "cell_type": "markdown",
   "id": "65d8b43e",
   "metadata": {},
   "source": [
    "Check the resulting table:"
   ]
  },
  {
   "cell_type": "code",
   "execution_count": null,
   "id": "dd8a55c2",
   "metadata": {},
   "outputs": [],
   "source": [
    "df4"
   ]
  },
  {
   "cell_type": "markdown",
   "id": "8f08fe65",
   "metadata": {},
   "source": [
    "We will convert frequencies to percentage and add zeroes to subpopulations where parent population has zero count."
   ]
  },
  {
   "cell_type": "code",
   "execution_count": null,
   "id": "59b4205f",
   "metadata": {},
   "outputs": [],
   "source": [
    "df4$pct_from_total  <- df4$freq_from_total*100\n",
    "df4$pct_from_parent  <- df4$freq_from_parent*100\n"
   ]
  },
  {
   "cell_type": "code",
   "execution_count": null,
   "id": "b1a1ef35",
   "metadata": {},
   "outputs": [],
   "source": [
    "df4$freq_from_parent <- ifelse(is.na(df4$freq_from_parent) & df4$Level != \"L1\", 0, df4$freq_from_parent)\n",
    "df4$pct_from_parent  <- ifelse(is.na(df4$pct_from_parent) & df4$Level != \"L1\", 0, df4$pct_from_parent)"
   ]
  },
  {
   "cell_type": "markdown",
   "id": "12ca559e",
   "metadata": {},
   "source": [
    "Check the resulting table:"
   ]
  },
  {
   "cell_type": "code",
   "execution_count": null,
   "id": "96746f8d",
   "metadata": {},
   "outputs": [],
   "source": [
    "df4"
   ]
  },
  {
   "cell_type": "markdown",
   "id": "4b3aed57",
   "metadata": {},
   "source": [
    "We have the table with frequencies of CD4 subpopulations prepared, so we will save it and perform the same analysis for CD8 T cells. The CD4 subpopulations are stored in `freq_cd4`. "
   ]
  },
  {
   "cell_type": "code",
   "execution_count": null,
   "id": "57f41c31",
   "metadata": {},
   "outputs": [],
   "source": [
    "freq_cd4  <- df4"
   ]
  },
  {
   "cell_type": "markdown",
   "id": "1ca7ab06",
   "metadata": {},
   "source": [
    "## CD8 populations"
   ]
  },
  {
   "cell_type": "markdown",
   "id": "7777ad10",
   "metadata": {},
   "source": [
    "The process for CD8 T cells is the same as for CD4 T cells. For comments, see above. "
   ]
  },
  {
   "cell_type": "code",
   "execution_count": null,
   "id": "fe718100",
   "metadata": {},
   "outputs": [],
   "source": [
    "cd8_l1_full_filt  <- readRDS(\"../data/processed/L1/cd8_l1_full_filt.rds\")"
   ]
  },
  {
   "cell_type": "code",
   "execution_count": null,
   "id": "826e6611",
   "metadata": {},
   "outputs": [],
   "source": [
    "cd8_patient_meta  <- cd8_l1_full_filt@meta.data  %>% \n",
    "                            dplyr::select(Sample_ID, Condition, Condition2, \n",
    "                                          Disease, \n",
    "                                          Sex, Age, Age_group, Patient_ID, \n",
    "                                          Time, Experiment_ID)   %>% unique"
   ]
  },
  {
   "cell_type": "code",
   "execution_count": null,
   "id": "58e138d4",
   "metadata": {},
   "outputs": [],
   "source": [
    "df3  <- cd8_l1_full_filt@meta.data %>% \n",
    "  group_by(Sample_ID, annotations_l3) %>% \n",
    "  summarise(n = n()) %>% \n",
    "  unique() %>% \n",
    "ungroup   %>% \n",
    "pivot_wider(names_from = \"annotations_l3\", values_from = \"n\", values_fill = 0) \n",
    "df4  <- left_join((cd8_l1_full_filt@misc$all_md %>% dplyr::select(Sample_ID) %>% unique), df3)\n",
    "df4[is.na(df4)] <- 0\n",
    "df4  <- df4  %>% pivot_longer(!Sample_ID, values_to = \"n\", names_to = \"annotations\")\n",
    "\n",
    "# As we've lost non-grouping variables, let's join them back\n",
    "md_to_join <- cd8_l1_full_filt@misc$all_md %>% \n",
    "  unique()\n",
    "\n",
    "df4  <- left_join(df4, md_to_join)"
   ]
  },
  {
   "cell_type": "code",
   "execution_count": null,
   "id": "a1a97d9e",
   "metadata": {},
   "outputs": [],
   "source": [
    "df4$Level  <- \"L3\""
   ]
  },
  {
   "cell_type": "code",
   "execution_count": null,
   "id": "4461ac04",
   "metadata": {},
   "outputs": [],
   "source": [
    "df_l3  <- df4"
   ]
  },
  {
   "cell_type": "code",
   "execution_count": null,
   "id": "e6442edc",
   "metadata": {},
   "outputs": [],
   "source": [
    "df3  <- cd8_l1_full_filt@meta.data %>% \n",
    "  group_by(Sample_ID, annotations_l2) %>% \n",
    "  summarise(n = n()) %>% \n",
    "  unique() %>% \n",
    "ungroup   %>% \n",
    "pivot_wider(names_from = \"annotations_l2\", values_from = \"n\", values_fill = 0) \n",
    "df4  <- left_join((cd8_l1_full_filt@misc$all_md %>% dplyr::select(Sample_ID) %>% unique), df3)\n",
    "df4[is.na(df4)] <- 0\n",
    "df4  <- df4  %>% pivot_longer(!Sample_ID, values_to = \"n\", names_to = \"annotations\")\n",
    "\n",
    "# As we've lost non-grouping variables, let's join them back\n",
    "md_to_join <- cd8_l1_full_filt@misc$all_md %>% \n",
    "  unique()\n",
    "\n",
    "df4  <- left_join(df4, md_to_join)\n",
    "df4$Level  <- \"L2\""
   ]
  },
  {
   "cell_type": "code",
   "execution_count": null,
   "id": "465b0cc1",
   "metadata": {},
   "outputs": [],
   "source": [
    "df_l2  <- df4"
   ]
  },
  {
   "cell_type": "code",
   "execution_count": null,
   "id": "a811ee10",
   "metadata": {
    "scrolled": true
   },
   "outputs": [],
   "source": [
    "df4"
   ]
  },
  {
   "cell_type": "code",
   "execution_count": null,
   "id": "9126dd5e",
   "metadata": {},
   "outputs": [],
   "source": [
    "df3  <- cd8_l1_full_filt@meta.data %>% \n",
    "  group_by(Sample_ID, annotations_l1) %>% \n",
    "  summarise(n = n()) %>% \n",
    "  unique() %>% \n",
    "ungroup   %>% \n",
    "pivot_wider(names_from = \"annotations_l1\", values_from = \"n\", values_fill = 0) \n",
    "df4  <- left_join((cd8_l1_full_filt@misc$all_md %>% dplyr::select(Sample_ID) %>% unique), df3)\n",
    "df4[is.na(df4)] <- 0\n",
    "df4  <- df4  %>% pivot_longer(!Sample_ID, values_to = \"n\", names_to = \"annotations\")\n",
    "\n",
    "# As we've lost non-grouping variables, let's join them back\n",
    "md_to_join <- cd8_l1_full_filt@misc$all_md %>% \n",
    "  unique()\n",
    "\n",
    "df4  <- left_join(df4, md_to_join)\n",
    "df4$Level  <- \"L1\"\n",
    "\n",
    "df_l1  <- df4"
   ]
  },
  {
   "cell_type": "code",
   "execution_count": null,
   "id": "b81ef35d",
   "metadata": {},
   "outputs": [],
   "source": [
    "df_l3"
   ]
  },
  {
   "cell_type": "code",
   "execution_count": null,
   "id": "2f5c7494",
   "metadata": {},
   "outputs": [],
   "source": [
    "df_all_levels  <- rbind(df_l1, df_l2, df_l3)"
   ]
  },
  {
   "cell_type": "code",
   "execution_count": null,
   "id": "a420afdd",
   "metadata": {},
   "outputs": [],
   "source": [
    "df_all_levels"
   ]
  },
  {
   "cell_type": "code",
   "execution_count": null,
   "id": "a74ab2c6",
   "metadata": {},
   "outputs": [],
   "source": [
    "all_counts  <- df_all_levels"
   ]
  },
  {
   "cell_type": "code",
   "execution_count": null,
   "id": "b6e6ac17",
   "metadata": {},
   "outputs": [],
   "source": [
    "df3  <- all_counts %>% \n",
    "  group_by(Sample_ID, Level) %>% \n",
    "  mutate(freq_from_total = n / sum(n)) "
   ]
  },
  {
   "cell_type": "code",
   "execution_count": null,
   "id": "ed98d4fc",
   "metadata": {},
   "outputs": [],
   "source": [
    "df3"
   ]
  },
  {
   "cell_type": "code",
   "execution_count": null,
   "id": "f9377a79",
   "metadata": {},
   "outputs": [],
   "source": [
    "df3  <- df3  %>% separate(annotations, into = c(\"annot_l1\",\"annot_l2\",NA), sep = \"---\", remove = F)  %>% \n",
    "mutate(Parent_annotation = case_when(\n",
    "Level == \"L1\" ~ \"CD8\",\n",
    "Level == \"L2\" ~ annot_l1,\n",
    "Level == \"L3\" ~ paste0(annot_l1, \"---\" ,annot_l2)\n",
    "))"
   ]
  },
  {
   "cell_type": "code",
   "execution_count": null,
   "id": "42266d2e",
   "metadata": {},
   "outputs": [],
   "source": [
    "df3"
   ]
  },
  {
   "cell_type": "code",
   "execution_count": null,
   "id": "b55fe59a",
   "metadata": {},
   "outputs": [],
   "source": [
    "levels_l1  <- all_counts %>% \n",
    "  filter(Level == \"L1\")  %>% \n",
    "pull(annotations)  %>% unique\n",
    "levels_l2  <- all_counts %>% \n",
    "  filter(Level == \"L2\")  %>% \n",
    "pull(annotations)  %>% unique"
   ]
  },
  {
   "cell_type": "code",
   "execution_count": null,
   "id": "f25cec36",
   "metadata": {},
   "outputs": [],
   "source": [
    "\n",
    "for(i in 1:length(levels_l1)) {\n",
    "    \n",
    "    df_filt  <- df3  %>% filter(grepl(annotations, pattern = levels_l1[i]) & Level == \"L2\")\n",
    "\n",
    "    df_filt  <- df_filt  %>% \n",
    "            group_by(Sample_ID)  %>% \n",
    "        summarise(total_per_patient = sum(n))\n",
    "\n",
    "    df_filt$Level = \"L2\"\n",
    "\n",
    "    df_filt$Parent_annotation = levels_l1[i]\n",
    "\n",
    "    if(i > 1){\n",
    "       \n",
    "        df_sum_of_parent  <- rbind(df_sum_of_parent, df_filt)\n",
    "        \n",
    "    } else {\n",
    "        df_sum_of_parent  <- df_filt\n",
    "        \n",
    "        \n",
    "    }\n",
    "\n",
    "}\n",
    "\n",
    "for(i in 1:length(levels_l2)) {\n",
    "    \n",
    "    df_filt  <- df3  %>% filter(grepl(annotations, pattern = levels_l2[i]) & Level == \"L3\")\n",
    "\n",
    "    df_filt  <- df_filt  %>% \n",
    "            group_by(Sample_ID)  %>% \n",
    "        summarise(total_per_patient = sum(n))\n",
    "\n",
    "    df_filt$Level = \"L3\"\n",
    "\n",
    "    df_filt$Parent_annotation = levels_l2[i]\n",
    "\n",
    "    df_sum_of_parent  <- rbind(df_sum_of_parent, df_filt)\n",
    "   \n",
    "\n",
    "}"
   ]
  },
  {
   "cell_type": "code",
   "execution_count": null,
   "id": "ab9c2d16",
   "metadata": {
    "scrolled": true
   },
   "outputs": [],
   "source": [
    "df_sum_of_parent"
   ]
  },
  {
   "cell_type": "code",
   "execution_count": null,
   "id": "48744be5",
   "metadata": {},
   "outputs": [],
   "source": [
    "df4  <- left_join(df3, df_sum_of_parent)"
   ]
  },
  {
   "cell_type": "code",
   "execution_count": null,
   "id": "c8225c1e",
   "metadata": {},
   "outputs": [],
   "source": [
    "df4$freq_from_parent  <- df4$n/df4$total_per_patient"
   ]
  },
  {
   "cell_type": "code",
   "execution_count": null,
   "id": "8aa1b17f",
   "metadata": {},
   "outputs": [],
   "source": [
    "df4$pct_from_total  <- df4$freq_from_total*100\n",
    "df4$pct_from_parent  <- df4$freq_from_parent*100\n"
   ]
  },
  {
   "cell_type": "code",
   "execution_count": null,
   "id": "5d6d8bab",
   "metadata": {},
   "outputs": [],
   "source": [
    "df4$freq_from_parent <- ifelse(is.na(df4$freq_from_parent) & df4$Level != \"L1\", 0, df4$freq_from_parent)\n",
    "df4$pct_from_parent  <- ifelse(is.na(df4$pct_from_parent) & df4$Level != \"L1\", 0, df4$pct_from_parent)"
   ]
  },
  {
   "cell_type": "code",
   "execution_count": null,
   "id": "aaba5bca",
   "metadata": {},
   "outputs": [],
   "source": [
    "freq_cd8  <- df4"
   ]
  },
  {
   "cell_type": "markdown",
   "id": "4d475456",
   "metadata": {},
   "source": [
    "We have both tables ready, so we will save the CD8 table in `freq_cd8` and we can move on to merging tables for CD4 and Cd8 T cells. "
   ]
  },
  {
   "cell_type": "markdown",
   "id": "36e3780f",
   "metadata": {},
   "source": [
    "## Merge CD4 and CD8 T cell tables"
   ]
  },
  {
   "cell_type": "code",
   "execution_count": null,
   "id": "142d320a",
   "metadata": {},
   "outputs": [],
   "source": [
    "freq_cd4$Main  <- \"CD4\"\n",
    "freq_cd8$Main  <- \"CD8\"\n"
   ]
  },
  {
   "cell_type": "code",
   "execution_count": null,
   "id": "c97723fd",
   "metadata": {},
   "outputs": [],
   "source": [
    "populations_2  <- rbind(freq_cd4, freq_cd8)"
   ]
  },
  {
   "cell_type": "code",
   "execution_count": null,
   "id": "ab4a3048",
   "metadata": {},
   "outputs": [],
   "source": [
    "populations_2$Experiment_ID  %>% table"
   ]
  },
  {
   "cell_type": "code",
   "execution_count": null,
   "id": "5e14a006",
   "metadata": {},
   "outputs": [],
   "source": [
    "write.csv(populations_2, \"../tables/populations_2.csv\")"
   ]
  },
  {
   "cell_type": "code",
   "execution_count": null,
   "id": "a6f7d274",
   "metadata": {},
   "outputs": [],
   "source": [
    "populations_2"
   ]
  },
  {
   "cell_type": "markdown",
   "id": "bdba9969",
   "metadata": {},
   "source": [
    "# Population statistics"
   ]
  },
  {
   "cell_type": "markdown",
   "id": "d1e16b4b",
   "metadata": {},
   "source": [
    "## Correlation of populations in preliminary and final"
   ]
  },
  {
   "cell_type": "markdown",
   "id": "d9d83b90",
   "metadata": {},
   "source": [
    "### Freq from total"
   ]
  },
  {
   "cell_type": "code",
   "execution_count": null,
   "id": "ccb8682e",
   "metadata": {},
   "outputs": [],
   "source": [
    "populations_2  <- read_csv(\"../tables/populations_2.csv\")\n",
    "populations_2$`...1`  <- NULL"
   ]
  },
  {
   "cell_type": "code",
   "execution_count": null,
   "id": "d8cf8a0f",
   "metadata": {},
   "outputs": [],
   "source": [
    "populations_2$prelim_final  <- ifelse(populations_2$Experiment_ID %in% c(\"Exp08\",\"Exp10\",\"Exp11\"), \n",
    "                                     \"Prelim\",\"Final\")"
   ]
  },
  {
   "cell_type": "code",
   "execution_count": null,
   "id": "8b644dc5",
   "metadata": {},
   "outputs": [],
   "source": [
    "IDs  <- populations_2  %>% dplyr::filter(prelim_final == \"Prelim\")  %>% pull(Patient_ID)  %>% unique"
   ]
  },
  {
   "cell_type": "code",
   "execution_count": null,
   "id": "96a5c7fe",
   "metadata": {},
   "outputs": [],
   "source": [
    "IDs"
   ]
  },
  {
   "cell_type": "code",
   "execution_count": null,
   "id": "b5086315",
   "metadata": {},
   "outputs": [],
   "source": [
    "popul_final_freq_from_total  <- populations_2  %>% \n",
    "ungroup  %>% \n",
    "mutate(prelim_final = ifelse(Experiment_ID %in% c(\"Exp08\", \"Exp10\", \"Exp11\"), \"Prelim\",\"Final\"))  %>% \n",
    "dplyr::filter(Patient_ID %in% IDs & Time == \"T0\")  %>% \n",
    "dplyr::select(Patient_ID, Time, annotations, prelim_final, freq_from_total, Level)  %>% \n",
    "pivot_wider(names_from = \"prelim_final\", values_from = freq_from_total)"
   ]
  },
  {
   "cell_type": "code",
   "execution_count": null,
   "id": "8be43d55",
   "metadata": {
    "scrolled": true
   },
   "outputs": [],
   "source": [
    "popul_final_freq_from_total"
   ]
  },
  {
   "cell_type": "code",
   "execution_count": null,
   "id": "27314291",
   "metadata": {
    "scrolled": true
   },
   "outputs": [],
   "source": [
    "options(repr.plot.width= 20, repr.plot.height = 15)\n",
    "popul_final_freq_from_total %>% \n",
    "dplyr::filter(Level == \"L2\")  %>% \n",
    "ggplot(aes(x=Final, y=Prelim)) +\n",
    "  geom_point(shape = 16, alpha = 1, size = 2, aes(color = as.factor(annotations))) +\n",
    " geom_smooth(method=lm) + theme(legend.position = \"bottom\") + \n",
    "ggpubr::stat_cor()"
   ]
  },
  {
   "cell_type": "code",
   "execution_count": null,
   "id": "2e9bb4ef",
   "metadata": {},
   "outputs": [],
   "source": [
    "l2_only  <- popul_final_freq_from_total %>% \n",
    "dplyr::filter(Level == \"L2\")\n",
    "centroids <- aggregate(cbind(Final,Prelim)~annotations,l2_only,mean)"
   ]
  },
  {
   "cell_type": "code",
   "execution_count": null,
   "id": "4db1ff43",
   "metadata": {},
   "outputs": [],
   "source": [
    "options(repr.plot.width= 20, repr.plot.height = 12)\n",
    "suppressWarnings({\n",
    "popul_final_freq_from_total %>% \n",
    "dplyr::filter(Level == \"L2\")  %>% \n",
    "ggplot(aes(x=Final, y=Prelim)) +\n",
    " geom_smooth(method=lm, alpha = 0.2) + theme(legend.position = \"bottom\") + \n",
    " geom_point(alpha =0.3, size = 3, aes(color = as.factor(annotations), \n",
    "                                       fill = as.factor(annotations),\n",
    "                                    shape = as.factor(annotations))) +\n",
    "scale_shape_manual(values = c(21:25,21:25,21:25,21:25)) +\n",
    "ggpubr::stat_cor() + geom_point(data=centroids,size=5, color = \"black\",\n",
    "                                aes(fill = as.factor(annotations),\n",
    "                                                          shape = as.factor(annotations))) + \n",
    "scale_shape_manual(values = c(21:25,21:25,21:25,21:25)) + \n",
    "theme(axis.text.x = element_text(angle = 90)) + \n",
    "theme_classic() +\n",
    "ggtheme()\n",
    "})"
   ]
  },
  {
   "cell_type": "code",
   "execution_count": null,
   "id": "af938681",
   "metadata": {},
   "outputs": [],
   "source": [
    "ls()"
   ]
  },
  {
   "cell_type": "code",
   "execution_count": null,
   "id": "56215f4d",
   "metadata": {},
   "outputs": [],
   "source": [
    "dir.create(\"../figures/QC/\")"
   ]
  },
  {
   "cell_type": "code",
   "execution_count": null,
   "id": "d5489d07",
   "metadata": {
    "scrolled": true
   },
   "outputs": [],
   "source": [
    "options(repr.plot.width= 20, repr.plot.height = 12)\n",
    "popul_final_freq_from_total %>% \n",
    "dplyr::filter(Level == \"L2\")  %>% \n",
    "ggplot(aes(x=Final, y=Prelim)) +\n",
    " geom_smooth(method=lm, alpha = 0.2) + \n",
    "theme(legend.position = \"bottom\") + \n",
    " geom_point(alpha =0.3, size = 3, aes(color = as.factor(annotations), \n",
    "                                       fill = as.factor(annotations),\n",
    "                                    shape = as.factor(annotations))) +\n",
    "scale_shape_manual(values = c(21:25,21:25,21:25,21:25)) +\n",
    "ggpubr::stat_cor(size = 5) + geom_point(data=centroids,size=5, color = \"black\",\n",
    "                                aes(fill = as.factor(annotations),\n",
    "                                                          shape = as.factor(annotations))) + \n",
    "scale_shape_manual(values = c(21:25,21:25,21:25,21:25)) + \n",
    "theme(axis.text.x = element_text(angle = 90)) + \n",
    "theme_classic() +\n",
    "ggtheme()\n",
    "\n",
    "ggsave(\"../figures/QC/final_vs_preliminary.svg\", width = 44, height = 25, units = \"cm\")\n",
    "ggsave(\"../figures/QC/final_vs_preliminary.png\", width = 44, height = 25, units = \"cm\")"
   ]
  },
  {
   "cell_type": "code",
   "execution_count": null,
   "id": "60bad1de",
   "metadata": {},
   "outputs": [],
   "source": [
    "options(warn = -1) "
   ]
  },
  {
   "cell_type": "code",
   "execution_count": null,
   "id": "a90f9ab3",
   "metadata": {},
   "outputs": [],
   "source": [
    "options(repr.plot.width= 15, repr.plot.height = 15)\n",
    "popul_final_freq_from_total %>% \n",
    "dplyr::filter(Level == \"L2\")  %>% \n",
    "ggplot(aes(x=Final, y=Prelim)) +\n",
    "facet_wrap(~annotations, ncol = 4, scales = \"free\")+\n",
    "#  geom_point(shape = 16, alpha = 1, size = 2, aes(color = as.factor(annotations))) +\n",
    " geom_smooth(method=lm, alpha = 0.2) + theme(legend.position = \"bottom\") + \n",
    "ggpubr::stat_cor(size = 5) +\n",
    "theme(axis.text.x = element_text(angle = 90)) + \n",
    "geom_point(size=3,                                aes(fill = as.factor(annotations),\n",
    "                                                          shape = as.factor(annotations))) + \n",
    "scale_shape_manual(values = c(21:25,21:25,21:25,21:25)) +\n",
    "theme_classic() +\n",
    "ggtheme() + NoLegend()"
   ]
  },
  {
   "cell_type": "markdown",
   "id": "e31d160a",
   "metadata": {},
   "source": [
    "## Correlation of populations in T0 vs T1"
   ]
  },
  {
   "cell_type": "markdown",
   "id": "09aaf9da",
   "metadata": {},
   "source": [
    "### Freq from total"
   ]
  },
  {
   "cell_type": "code",
   "execution_count": null,
   "id": "bfb7291f",
   "metadata": {},
   "outputs": [],
   "source": [
    "IDs_1  <- populations_2  %>% \n",
    "dplyr::filter(prelim_final == \"Final\" & Time == \"T0\" & Disease == \"Dia\")  %>% \n",
    "pull(Patient_ID)  %>% unique"
   ]
  },
  {
   "cell_type": "code",
   "execution_count": null,
   "id": "7d4d3f10",
   "metadata": {},
   "outputs": [],
   "source": [
    "IDs_2  <- populations_2  %>% \n",
    "dplyr::filter(prelim_final == \"Final\" & Time == \"T1\" & Disease == \"Dia\")  %>% \n",
    "pull(Patient_ID)  %>% unique"
   ]
  },
  {
   "cell_type": "code",
   "execution_count": null,
   "id": "ba4e422f",
   "metadata": {},
   "outputs": [],
   "source": [
    "IDs  <- intersect(IDs_1, IDs_2)"
   ]
  },
  {
   "cell_type": "code",
   "execution_count": null,
   "id": "03faaa31",
   "metadata": {},
   "outputs": [],
   "source": [
    "IDs"
   ]
  },
  {
   "cell_type": "code",
   "execution_count": null,
   "id": "5940f0d0",
   "metadata": {},
   "outputs": [],
   "source": [
    "popul_final_freq_from_total  <- populations_2  %>% \n",
    "ungroup  %>% \n",
    "mutate(prelim_final = ifelse(Experiment_ID %in% c(\"Exp08\", \"Exp10\", \"Exp11\"), \"Prelim\",\"Final\"))  %>% \n",
    "dplyr::filter(Patient_ID %in% IDs & prelim_final == \"Final\")  %>% \n",
    "dplyr::select(Patient_ID, Time, annotations, freq_from_total, Level)  %>% \n",
    "pivot_wider(names_from = \"Time\", values_from = freq_from_total)"
   ]
  },
  {
   "cell_type": "code",
   "execution_count": null,
   "id": "331b4d42",
   "metadata": {
    "scrolled": true
   },
   "outputs": [],
   "source": [
    "popul_final_freq_from_total  %>% dplyr::filter(!is.na(T1))"
   ]
  },
  {
   "cell_type": "code",
   "execution_count": null,
   "id": "96e66fba",
   "metadata": {
    "scrolled": true
   },
   "outputs": [],
   "source": [
    "options(repr.plot.width= 20, repr.plot.height = 15)\n",
    "popul_final_freq_from_total %>% \n",
    "dplyr::filter(Level == \"L2\")  %>% \n",
    "ggplot(aes(x=T0, y=T1)) +\n",
    "  geom_point(shape = 16, alpha = 1, size = 2, aes(color = as.factor(annotations))) +\n",
    " geom_smooth(method=lm) + theme(legend.position = \"bottom\") + \n",
    "ggpubr::stat_cor()"
   ]
  },
  {
   "cell_type": "code",
   "execution_count": null,
   "id": "e86c5e93",
   "metadata": {},
   "outputs": [],
   "source": [
    "l2_only  <- popul_final_freq_from_total %>% \n",
    "dplyr::filter(Level == \"L2\")\n",
    "centroids <- aggregate(cbind(T1,T0)~annotations,l2_only,mean)"
   ]
  },
  {
   "cell_type": "code",
   "execution_count": null,
   "id": "7e184aac",
   "metadata": {
    "scrolled": true
   },
   "outputs": [],
   "source": [
    "options(repr.plot.width= 20, repr.plot.height = 12)\n",
    "popul_final_freq_from_total %>% \n",
    "dplyr::filter(Level == \"L2\")  %>% \n",
    "ggplot(aes(x=T0, y=T1)) +\n",
    " geom_smooth(method=lm, alpha = 0.2) + theme(legend.position = \"bottom\") + \n",
    " geom_point(alpha =0.3, size = 3, aes(color = as.factor(annotations), \n",
    "                                       fill = as.factor(annotations),\n",
    "                                    shape = as.factor(annotations))) +\n",
    "scale_shape_manual(values = c(21:25,21:25,21:25,21:25)) +\n",
    "ggpubr::stat_cor(size = 5) + geom_point(data=centroids,size=5, color = \"black\",\n",
    "                                aes(fill = as.factor(annotations),\n",
    "                                                          shape = as.factor(annotations))) + \n",
    "scale_shape_manual(values = c(21:25,21:25,21:25,21:25)) + \n",
    "theme(axis.text.x = element_text(angle = 90)) + \n",
    "theme_classic() +\n",
    "ggtheme()\n",
    "\n",
    "ggsave(\"../figures/QC/t1_vs_t0.svg\", width = 44, height = 25, units = \"cm\")\n",
    "ggsave(\"../figures/QC/t1_vs_t0.png\", width = 44, height = 25, units = \"cm\")"
   ]
  },
  {
   "cell_type": "code",
   "execution_count": null,
   "id": "eabe4e34",
   "metadata": {},
   "outputs": [],
   "source": [
    "options(repr.plot.width= 15, repr.plot.height = 15)\n",
    "popul_final_freq_from_total %>% \n",
    "dplyr::filter(Level == \"L2\")  %>% \n",
    "ggplot(aes(x=T0, y=T1)) +\n",
    "facet_wrap(~annotations, ncol = 4, scales = \"free\")+\n",
    "#  geom_point(shape = 16, alpha = 1, size = 2, aes(color = as.factor(annotations))) +\n",
    " geom_smooth(method=lm, alpha = 0.2) + theme(legend.position = \"bottom\") + \n",
    "ggpubr::stat_cor(size = 5) +\n",
    "theme(axis.text.x = element_text(angle = 90)) + \n",
    "geom_point(size=3,                                aes(fill = as.factor(annotations),\n",
    "                                                          shape = as.factor(annotations))) + \n",
    "scale_shape_manual(values = c(21:25,21:25,21:25,21:25)) +\n",
    "theme_classic() +\n",
    "ggtheme() + NoLegend()"
   ]
  },
  {
   "cell_type": "markdown",
   "id": "b3defe5c",
   "metadata": {},
   "source": [
    "# Correlation with metadata "
   ]
  },
  {
   "cell_type": "markdown",
   "id": "2a893d2e",
   "metadata": {},
   "source": [
    "In this part, we will see which level 2 populations correlate with variables included in metadata, such as age and sex of participants. "
   ]
  },
  {
   "cell_type": "code",
   "execution_count": null,
   "id": "1be69cbb",
   "metadata": {},
   "outputs": [],
   "source": [
    "colnames(populations_2)"
   ]
  },
  {
   "cell_type": "code",
   "execution_count": null,
   "id": "ebccc206",
   "metadata": {},
   "outputs": [],
   "source": [
    "populations_2  %>% \n",
    "dplyr::filter(Level == 'L2' & Experiment_ID %in% c(\"Exp16\",\"Exp18\",\"Exp19\",\"Exp20\"))  %>% \n",
    "dplyr::select(annotations, Sex, Disease, Time, Age, freq_from_total, Patient_ID)  %>% \n",
    "pivot_wider(names_from = annotations, values_from = freq_from_total, values_fill = 0)\n"
   ]
  },
  {
   "cell_type": "code",
   "execution_count": null,
   "id": "7a83ea85",
   "metadata": {},
   "outputs": [],
   "source": [
    "df_md_cor  <- populations_2  %>% \n",
    "dplyr::filter(Level == 'L2' & Experiment_ID %in% c(\"Exp16\",\"Exp18\",\"Exp19\",\"Exp20\"))  %>% \n",
    "dplyr::select(annotations, Sex, Disease, Time, Age, freq_from_total, Patient_ID)  %>% \n",
    "pivot_wider(names_from = annotations, values_from = freq_from_total, values_fill = 0)  %>% \n",
    "dplyr::select(-Patient_ID) \n"
   ]
  },
  {
   "cell_type": "code",
   "execution_count": null,
   "id": "414807c3",
   "metadata": {},
   "outputs": [],
   "source": [
    "library(ggcorrplot)"
   ]
  },
  {
   "cell_type": "code",
   "execution_count": null,
   "id": "7e8c0af2",
   "metadata": {},
   "outputs": [],
   "source": [
    "p.mat <- model.matrix(~0+., data= df_md_cor) %>% \n",
    "   cor_pmat(use=\"pairwise.complete.obs\")"
   ]
  },
  {
   "cell_type": "code",
   "execution_count": null,
   "id": "a3e70ce3",
   "metadata": {},
   "outputs": [],
   "source": [
    "options(repr.plot.width = 12, repr.plot.height = 12)\n",
    "\n",
    "model.matrix(~0+., data= df_md_cor) %>% \n",
    "  cor(use=\"pairwise.complete.obs\") %>% \n",
    "  ggcorrplot(show.diag=FALSE, method = \"circle\", lab=F, \n",
    "             lab_size=2, hc.order = T, p.mat = p.mat, \n",
    "  type = \"full\", insig = \"blank\")"
   ]
  },
  {
   "cell_type": "code",
   "execution_count": null,
   "id": "2bfbcc55",
   "metadata": {},
   "outputs": [],
   "source": [
    "ggsave(\"../figures/md_correlation/md_correlation_heatmap.svg\", width = 14, height = 14, create.dir = TRUE)"
   ]
  },
  {
   "cell_type": "markdown",
   "id": "1892a676",
   "metadata": {},
   "source": [
    "# Correlation with clinical data"
   ]
  },
  {
   "cell_type": "markdown",
   "id": "970e8a50",
   "metadata": {},
   "source": [
    "## Freq from total"
   ]
  },
  {
   "cell_type": "code",
   "execution_count": null,
   "id": "e7c6977e",
   "metadata": {},
   "outputs": [],
   "source": [
    "populations_2  %>% colnames"
   ]
  },
  {
   "cell_type": "code",
   "execution_count": null,
   "id": "60b598ca",
   "metadata": {},
   "outputs": [],
   "source": [
    "populations_2  %>% ncol"
   ]
  },
  {
   "cell_type": "code",
   "execution_count": null,
   "id": "0bd39fc3",
   "metadata": {},
   "outputs": [],
   "source": [
    "md3  <- populations_2  %>% \n",
    "ungroup  %>% \n",
    "dplyr::select(-Main)  %>% \n",
    "mutate(annotations = paste(Level, annotations))  %>% \n",
    "dplyr::select(6,7,10,12,2,22,16)  %>% \n",
    "dplyr::filter(prelim_final == \"Final\")  %>% \n",
    "unique  %>% \n",
    "pivot_wider(names_from = \"annotations\", values_from = \"freq_from_total\")"
   ]
  },
  {
   "cell_type": "code",
   "execution_count": null,
   "id": "750ec83c",
   "metadata": {},
   "outputs": [],
   "source": [
    "md3"
   ]
  },
  {
   "cell_type": "code",
   "execution_count": null,
   "id": "59a5e2e0",
   "metadata": {},
   "outputs": [],
   "source": [
    "md_cpept_orig  <- read_xlsx(\"../data/metadata_v06.xlsx\") "
   ]
  },
  {
   "cell_type": "code",
   "execution_count": null,
   "id": "60b6c84d",
   "metadata": {},
   "outputs": [],
   "source": [
    "colnames(md_cpept_orig)"
   ]
  },
  {
   "cell_type": "code",
   "execution_count": null,
   "id": "0e7a88b5",
   "metadata": {},
   "outputs": [],
   "source": [
    "md_cpept  <- read_xlsx(\"../data/metadata_v06.xlsx\")  %>% \n",
    "mutate(Patient_Time = paste(patient, time_taken))  %>% \n",
    "       dplyr::select(Patient_Time, fasting_cpept_T1, fasting_cpept_1, c_peptide_chang)  %>% unique"
   ]
  },
  {
   "cell_type": "code",
   "execution_count": null,
   "id": "85e71401",
   "metadata": {
    "scrolled": true
   },
   "outputs": [],
   "source": [
    "md_cpept   <- md_cpept  %>% mutate(group = substr(Patient_Time,1,1))  %>% filter(group == 1)"
   ]
  },
  {
   "cell_type": "code",
   "execution_count": null,
   "id": "f6f3f8f5",
   "metadata": {
    "scrolled": true
   },
   "outputs": [],
   "source": [
    "md_cpept"
   ]
  },
  {
   "cell_type": "code",
   "execution_count": null,
   "id": "385bcf18",
   "metadata": {},
   "outputs": [],
   "source": [
    "md3  <- md3  %>% separate(Condition, into = c(\"Disease\", \"Time\"), remove = F, sep = \" \")"
   ]
  },
  {
   "cell_type": "code",
   "execution_count": null,
   "id": "9cc079d5",
   "metadata": {},
   "outputs": [],
   "source": [
    "md3$Patient_Time  <- paste(md3$Patient_ID, md3$Time)"
   ]
  },
  {
   "cell_type": "code",
   "execution_count": null,
   "id": "f3fa4434",
   "metadata": {
    "scrolled": true
   },
   "outputs": [],
   "source": [
    "md4  <- md_cpept  %>% left_join(md3)  %>% dplyr::filter(!is.na(fasting_cpept_T1))"
   ]
  },
  {
   "cell_type": "code",
   "execution_count": null,
   "id": "4ffd03c6",
   "metadata": {
    "scrolled": true
   },
   "outputs": [],
   "source": [
    "md4 "
   ]
  },
  {
   "cell_type": "code",
   "execution_count": null,
   "id": "99f07894",
   "metadata": {},
   "outputs": [],
   "source": [
    "population_colnames  <- which(substr(colnames(md4),start = 1,stop = 1) == \"L\")"
   ]
  },
  {
   "cell_type": "code",
   "execution_count": null,
   "id": "7adb8abe",
   "metadata": {},
   "outputs": [],
   "source": [
    "population_colnames  %>% length"
   ]
  },
  {
   "cell_type": "code",
   "execution_count": null,
   "id": "6e86cde9",
   "metadata": {},
   "outputs": [],
   "source": [
    "which(colnames(md4) == \"fasting_cpept_1\")"
   ]
  },
  {
   "cell_type": "code",
   "execution_count": null,
   "id": "372e9822",
   "metadata": {
    "scrolled": true
   },
   "outputs": [],
   "source": [
    "md4"
   ]
  },
  {
   "cell_type": "code",
   "execution_count": null,
   "id": "7faa3039",
   "metadata": {},
   "outputs": [],
   "source": [
    "calc_correlation  <- function(i){\n",
    "    df  <- md4  %>% dplyr::select(i,2)  %>% filter(!is.na(2))\n",
    "    colnames(df)  <- c(\"value\",\"fasting_cpept_t1\")\n",
    "    cor  <- cor.test(df$value, df$fasting_cpept_t1)\n",
    "    res_df1  <- data.frame(population = colnames(md4)[i], \n",
    "                          cor = cor$estimate, \n",
    "                          pval = cor$p.value, \n",
    "                         padj  = ifelse(cor$p.value*102>1,1,cor$p.value*102),\n",
    "                         test = \"fasting_cpept_T1\")\n",
    "    \n",
    "    df  <- md4  %>% dplyr::select(i,3)  %>% filter(!is.na(3))\n",
    "    colnames(df)  <- c(\"value\",\"fasting_cpept_1\")\n",
    "    cor  <- cor.test(df$value, df$fasting_cpept_1)\n",
    "    res_df2  <- data.frame(population = colnames(md4)[i], \n",
    "                          cor = cor$estimate, \n",
    "                          pval = cor$p.value, \n",
    "                         padj  = ifelse(cor$p.value*102>1,1,cor$p.value*102),\n",
    "                         test = \"fasting_cpept\")\n",
    "    \n",
    "    df  <- md4  %>% dplyr::select(i,4)  %>% filter(!is.na(4))\n",
    "    colnames(df)  <- c(\"value\",\"c_peptide_change\")\n",
    "    cor  <- cor.test(df$value, df$c_peptide_change)\n",
    "    res_df3  <- data.frame(population = colnames(md4)[i], \n",
    "                          cor = cor$estimate, \n",
    "                          pval = cor$p.value, \n",
    "                         padj  = ifelse(cor$p.value*102>1,1,cor$p.value*102),\n",
    "                         test = \"c_peptide_change\")\n",
    "    \n",
    "    res_df  <- rbind(res_df1, res_df2, res_df3)\n",
    "    return(res_df)\n",
    "}"
   ]
  },
  {
   "cell_type": "code",
   "execution_count": null,
   "id": "2673379a",
   "metadata": {},
   "outputs": [],
   "source": [
    "populations_corr  <- future_map(population_colnames, calc_correlation)"
   ]
  },
  {
   "cell_type": "code",
   "execution_count": null,
   "id": "7acbf44b",
   "metadata": {},
   "outputs": [],
   "source": [
    "populations_corr  <- bind_rows(populations_corr)"
   ]
  },
  {
   "cell_type": "code",
   "execution_count": null,
   "id": "51410dd8",
   "metadata": {
    "scrolled": true
   },
   "outputs": [],
   "source": [
    "populations_corr  %>% arrange(pval)"
   ]
  },
  {
   "cell_type": "markdown",
   "id": "d3ae3982",
   "metadata": {},
   "source": [
    "## L2 CD4"
   ]
  },
  {
   "cell_type": "code",
   "execution_count": null,
   "id": "74e2ad22",
   "metadata": {},
   "outputs": [],
   "source": [
    "population_colnames_l2  <- which(substr(colnames(md4),start = 1,stop = 2) == \"L2\" &\n",
    "                                 grepl(colnames(md4), pattern = \"CD4\"))"
   ]
  },
  {
   "cell_type": "code",
   "execution_count": null,
   "id": "582025f7",
   "metadata": {},
   "outputs": [],
   "source": [
    "population_colnames_l2"
   ]
  },
  {
   "cell_type": "code",
   "execution_count": null,
   "id": "e0017cda",
   "metadata": {
    "scrolled": true
   },
   "outputs": [],
   "source": [
    "md4"
   ]
  },
  {
   "cell_type": "code",
   "execution_count": null,
   "id": "27b92b3a",
   "metadata": {},
   "outputs": [],
   "source": [
    "calc_correlation  <- function(i){\n",
    "    df  <- md4  %>% dplyr::select(i,2)  %>% filter(!is.na(2))\n",
    "   colnames(df)  <- c(\"value\",\"fasting_cpept_t1\")\n",
    "    cor  <- cor.test(df$value, df$fasting_cpept_t1)\n",
    "    res_df1  <- data.frame(population = colnames(md4)[i], \n",
    "                          cor = cor$estimate, \n",
    "                          pval = cor$p.value, \n",
    "                         padj  = ifelse(cor$p.value*10>1,1,cor$p.value*10),\n",
    "                         test = \"fasting_cpept_T1\")\n",
    "    \n",
    "    df  <- md4  %>% dplyr::select(i,3)  %>% filter(!is.na(3))\n",
    "    colnames(df)  <- c(\"value\",\"fasting_cpept_1\")\n",
    "    cor  <- cor.test(df$value, df$fasting_cpept_1)\n",
    "    res_df2  <- data.frame(population = colnames(md4)[i], \n",
    "                          cor = cor$estimate, \n",
    "                          pval = cor$p.value, \n",
    "                         padj  = ifelse(cor$p.value*10>1,1,cor$p.value*10),\n",
    "                         test = \"fasting_cpept\")\n",
    "    \n",
    "    df  <- md4  %>% dplyr::select(i,4)  %>% filter(!is.na(4))\n",
    "    colnames(df)  <- c(\"value\",\"c_peptide_change\")\n",
    "    cor  <- cor.test(df$value, df$c_peptide_change)\n",
    "    res_df3  <- data.frame(population = colnames(md4)[i], \n",
    "                          cor = cor$estimate, \n",
    "                          pval = cor$p.value, \n",
    "                         padj  = ifelse(cor$p.value*10>1,1,cor$p.value*10),\n",
    "                         test = \"c_peptide_change\")\n",
    "    \n",
    "    res_df  <- rbind(res_df1, res_df2, res_df3)\n",
    "    return(res_df)\n",
    "}"
   ]
  },
  {
   "cell_type": "code",
   "execution_count": null,
   "id": "1a11773d",
   "metadata": {},
   "outputs": [],
   "source": [
    "populations_corr_cd4  <- future_map(population_colnames_l2, calc_correlation)"
   ]
  },
  {
   "cell_type": "code",
   "execution_count": null,
   "id": "72f691e1",
   "metadata": {
    "scrolled": true
   },
   "outputs": [],
   "source": [
    "populations_corr  <- bind_rows(populations_corr_cd4)\n",
    "\n",
    "populations_corr  %>% arrange(pval)"
   ]
  },
  {
   "cell_type": "code",
   "execution_count": null,
   "id": "c481e215",
   "metadata": {},
   "outputs": [],
   "source": [
    "populations_corr  <- populations_corr  %>% mutate(population = gsub(population, pattern = \"L2 CD4 T cells---\", replacement = \"\"))  %>% \n",
    "    mutate(population = gsub(population, pattern = \"L2 CD4 Unconventional T cells---\", replacement = \"\"))"
   ]
  },
  {
   "cell_type": "code",
   "execution_count": null,
   "id": "576fce27",
   "metadata": {},
   "outputs": [],
   "source": [
    "options(repr.plot.width = 36, repr.plot.height = 7)\n",
    "populations_corr  %>% \n",
    "dplyr::filter(test == \"c_peptide_change\")  %>% \n",
    "arrange(cor)  %>% \n",
    "ggplot(aes(x = test, y = reorder(population, cor))) +\n",
    "geom_point(aes(size = -log(pval), color = cor)) + \n",
    "facet_wrap(~test) +\n",
    "ylab(\"\") + xlab(\"\") +\n",
    "scale_color_gradient2(low = \"blue\", mid = \"white\", high = \"red\") + \n",
    "theme_classic() + ggtheme() + theme(axis.text.x = element_text(angle = 90)) +\n",
    "\n",
    "populations_corr  %>% \n",
    "dplyr::filter(test == \"fasting_cpept_T1\")  %>% \n",
    "arrange(cor)  %>% \n",
    "ggplot(aes(x = test, y = reorder(population, cor))) +\n",
    "geom_point(aes(size = -log(pval), color = cor)) + \n",
    "facet_wrap(~test) +\n",
    "ylab(\"\") + xlab(\"\") +\n",
    "scale_color_gradient2(low = \"blue\", mid = \"white\", high = \"red\") + \n",
    "theme_classic() + ggtheme() + theme(axis.text.x = element_text(angle = 90)) +\n",
    "\n",
    "populations_corr  %>% \n",
    "dplyr::filter(test == \"fasting_cpept\")  %>% \n",
    "arrange(cor)  %>% \n",
    "ggplot(aes(x = test, y = reorder(population, cor))) +\n",
    "geom_point(aes(size = -log(pval), color = cor)) + \n",
    "facet_wrap(~test) +\n",
    "ylab(\"\") + xlab(\"\") +\n",
    "scale_color_gradient2(low = \"blue\", mid = \"white\", high = \"red\") + \n",
    "theme_classic() + ggtheme() + theme(axis.text.x = element_text(angle = 90)) "
   ]
  },
  {
   "cell_type": "code",
   "execution_count": null,
   "id": "dfbb1fce",
   "metadata": {},
   "outputs": [],
   "source": [
    "ggsave(\"../figures/populations_correlations/population_correlations_L2_cd4.png\", width = 72, height = 15, units = \"cm\", create.dir = TRUE)\n",
    "ggsave(\"../figures/populations_correlations/population_correlations_L2_cd4.svg\", width = 72, height = 15, units = \"cm\")"
   ]
  },
  {
   "cell_type": "code",
   "execution_count": null,
   "id": "76728630",
   "metadata": {},
   "outputs": [],
   "source": []
  },
  {
   "cell_type": "markdown",
   "id": "e5d4b1fa",
   "metadata": {},
   "source": [
    "## L2 CD8"
   ]
  },
  {
   "cell_type": "code",
   "execution_count": null,
   "id": "ce85d785",
   "metadata": {},
   "outputs": [],
   "source": [
    "population_colnames_l2  <- which(substr(colnames(md4),start = 1,stop = 2) == \"L2\" &\n",
    "                                 grepl(colnames(md4), pattern = \"CD8\"))"
   ]
  },
  {
   "cell_type": "code",
   "execution_count": null,
   "id": "ea41d918",
   "metadata": {},
   "outputs": [],
   "source": [
    "population_colnames_l2"
   ]
  },
  {
   "cell_type": "code",
   "execution_count": null,
   "id": "c7ebbba9",
   "metadata": {
    "scrolled": true
   },
   "outputs": [],
   "source": [
    "md4"
   ]
  },
  {
   "cell_type": "code",
   "execution_count": null,
   "id": "7e199891",
   "metadata": {},
   "outputs": [],
   "source": [
    "calc_correlation  <- function(i){\n",
    "    df  <- md4  %>% dplyr::select(i,2)  %>% filter(!is.na(2))\n",
    "   colnames(df)  <- c(\"value\",\"fasting_cpept_t1\")\n",
    "    cor  <- cor.test(df$value, df$fasting_cpept_t1)\n",
    "    res_df1  <- data.frame(population = colnames(md4)[i], \n",
    "                          cor = cor$estimate, \n",
    "                          pval = cor$p.value, \n",
    "                         padj  = ifelse(cor$p.value*10>1,1,cor$p.value*10),\n",
    "                         test = \"fasting_cpept_T1\")\n",
    "    \n",
    "    df  <- md4  %>% dplyr::select(i,3)  %>% filter(!is.na(3))\n",
    "    colnames(df)  <- c(\"value\",\"fasting_cpept_1\")\n",
    "    cor  <- cor.test(df$value, df$fasting_cpept_1)\n",
    "    res_df2  <- data.frame(population = colnames(md4)[i], \n",
    "                          cor = cor$estimate, \n",
    "                          pval = cor$p.value, \n",
    "                         padj  = ifelse(cor$p.value*10>1,1,cor$p.value*10),\n",
    "                         test = \"fasting_cpept\")\n",
    "    \n",
    "    df  <- md4  %>% dplyr::select(i,4)  %>% filter(!is.na(4))\n",
    "    colnames(df)  <- c(\"value\",\"c_peptide_change\")\n",
    "    cor  <- cor.test(df$value, df$c_peptide_change)\n",
    "    res_df3  <- data.frame(population = colnames(md4)[i], \n",
    "                          cor = cor$estimate, \n",
    "                          pval = cor$p.value, \n",
    "                         padj  = ifelse(cor$p.value*10>1,1,cor$p.value*10),\n",
    "                         test = \"c_peptide_change\")\n",
    "    \n",
    "    res_df  <- rbind(res_df1, res_df2, res_df3)\n",
    "    return(res_df)\n",
    "}"
   ]
  },
  {
   "cell_type": "code",
   "execution_count": null,
   "id": "971f3818",
   "metadata": {},
   "outputs": [],
   "source": [
    "populations_corr_cd8  <- future_map(population_colnames_l2, calc_correlation)"
   ]
  },
  {
   "cell_type": "code",
   "execution_count": null,
   "id": "12f4a722",
   "metadata": {
    "scrolled": true
   },
   "outputs": [],
   "source": [
    "populations_corr  <- bind_rows(populations_corr_cd8)\n",
    "\n",
    "populations_corr  %>% arrange(pval)"
   ]
  },
  {
   "cell_type": "code",
   "execution_count": null,
   "id": "5eb9d50e",
   "metadata": {},
   "outputs": [],
   "source": [
    "populations_corr  <- populations_corr  %>% mutate(population = gsub(population, pattern = \"L2 CD8 T cells---\", replacement = \"\"))  %>% \n",
    "    mutate(population = gsub(population, pattern = \"L2 CD8 Unconventional T cells---\", replacement = \"\"))"
   ]
  },
  {
   "cell_type": "code",
   "execution_count": null,
   "id": "6ddba87e",
   "metadata": {},
   "outputs": [],
   "source": [
    "options(repr.plot.width = 36, repr.plot.height = 7)\n",
    "populations_corr  %>% \n",
    "dplyr::filter(test == \"c_peptide_change\")  %>% \n",
    "arrange(cor)  %>% \n",
    "ggplot(aes(x = test, y = reorder(population, cor))) +\n",
    "geom_point(aes(size = -log(pval), color = cor)) + \n",
    "facet_wrap(~test) +\n",
    "ylab(\"\") + xlab(\"\") +\n",
    "scale_color_gradient2(low = \"blue\", mid = \"white\", high = \"red\") + \n",
    "theme_classic() + ggtheme() + theme(axis.text.x = element_text(angle = 90)) +\n",
    "\n",
    "populations_corr  %>% \n",
    "dplyr::filter(test == \"fasting_cpept_T1\")  %>% \n",
    "arrange(cor)  %>% \n",
    "ggplot(aes(x = test, y = reorder(population, cor))) +\n",
    "geom_point(aes(size = -log(pval), color = cor)) + \n",
    "facet_wrap(~test) +\n",
    "ylab(\"\") + xlab(\"\") +\n",
    "scale_color_gradient2(low = \"blue\", mid = \"white\", high = \"red\") + \n",
    "theme_classic() + ggtheme() + theme(axis.text.x = element_text(angle = 90)) +\n",
    "\n",
    "populations_corr  %>% \n",
    "dplyr::filter(test == \"fasting_cpept\")  %>% \n",
    "arrange(cor)  %>% \n",
    "ggplot(aes(x = test, y = reorder(population, cor))) +\n",
    "geom_point(aes(size = -log(pval), color = cor)) + \n",
    "facet_wrap(~test) +\n",
    "ylab(\"\") + xlab(\"\") +\n",
    "scale_color_gradient2(low = \"blue\", mid = \"white\", high = \"red\") + \n",
    "theme_classic() + ggtheme() + theme(axis.text.x = element_text(angle = 90)) "
   ]
  },
  {
   "cell_type": "code",
   "execution_count": null,
   "id": "26fe7092",
   "metadata": {},
   "outputs": [],
   "source": [
    "ggsave(\"../figures/populations_correlations/population_correlations_L2_cd8.png\", width = 72, height = 15, units = \"cm\", create.dir = TRUE)\n",
    "ggsave(\"../figures/populations_correlations/population_correlations_L2_cd8.svg\", width = 72, height = 15, units = \"cm\")"
   ]
  },
  {
   "cell_type": "markdown",
   "id": "42cc7bc9",
   "metadata": {},
   "source": [
    "# Treg vs cpept"
   ]
  },
  {
   "cell_type": "code",
   "execution_count": null,
   "id": "5c4e14ac",
   "metadata": {},
   "outputs": [],
   "source": [
    "population_colnames_l3  <- which(substr(colnames(md4),start = 1,stop = 2) == \"L3\")"
   ]
  },
  {
   "cell_type": "code",
   "execution_count": null,
   "id": "f9f1da90",
   "metadata": {},
   "outputs": [],
   "source": [
    "population_colnames_l3"
   ]
  },
  {
   "cell_type": "code",
   "execution_count": null,
   "id": "01a2dd94",
   "metadata": {},
   "outputs": [],
   "source": [
    "calc_correlation  <- function(i){\n",
    "    df  <- md4  %>% dplyr::select(i,2)  %>% filter(!is.na(2))\n",
    "   colnames(df)  <- c(\"value\",\"fasting_cpept_t1\")\n",
    "    cor  <- cor.test(df$value, df$fasting_cpept_t1)\n",
    "    res_df1  <- data.frame(population = colnames(md4)[i], \n",
    "                          cor = cor$estimate, \n",
    "                          pval = cor$p.value, \n",
    "                         padj  = ifelse(cor$p.value*10>1,1,cor$p.value*10),\n",
    "                         test = \"fasting_cpept_T1\")\n",
    "    \n",
    "    df  <- md4  %>% dplyr::select(i,3)  %>% filter(!is.na(3))\n",
    "    colnames(df)  <- c(\"value\",\"fasting_cpept_1\")\n",
    "    cor  <- cor.test(df$value, df$fasting_cpept_1)\n",
    "    res_df2  <- data.frame(population = colnames(md4)[i], \n",
    "                          cor = cor$estimate, \n",
    "                          pval = cor$p.value, \n",
    "                         padj  = ifelse(cor$p.value*10>1,1,cor$p.value*10),\n",
    "                         test = \"fasting_cpept\")\n",
    "    \n",
    "    df  <- md4  %>% dplyr::select(i,4)  %>% filter(!is.na(4))\n",
    "    colnames(df)  <- c(\"value\",\"c_peptide_change\")\n",
    "    cor  <- cor.test(df$value, df$c_peptide_change)\n",
    "    res_df3  <- data.frame(population = colnames(md4)[i], \n",
    "                          cor = cor$estimate, \n",
    "                          pval = cor$p.value, \n",
    "                         padj  = ifelse(cor$p.value*10>1,1,cor$p.value*10),\n",
    "                         test = \"c_peptide_change\")\n",
    "    \n",
    "    res_df  <- rbind(res_df1, res_df2, res_df3)\n",
    "    return(res_df)\n",
    "}"
   ]
  },
  {
   "cell_type": "code",
   "execution_count": null,
   "id": "cced3d3e",
   "metadata": {},
   "outputs": [],
   "source": [
    "populations_corr_l3  <- future_map(population_colnames_l3, calc_correlation)"
   ]
  },
  {
   "cell_type": "code",
   "execution_count": null,
   "id": "0c22cfe5",
   "metadata": {},
   "outputs": [],
   "source": [
    "populations_corr  <- bind_rows(populations_corr_l3)"
   ]
  },
  {
   "cell_type": "code",
   "execution_count": null,
   "id": "debc5ea8",
   "metadata": {
    "scrolled": true
   },
   "outputs": [],
   "source": [
    "populations_corr  %>% filter(grepl(populations_corr$population, pattern = \"Treg\"))"
   ]
  },
  {
   "cell_type": "code",
   "execution_count": null,
   "id": "398ec8fe",
   "metadata": {
    "scrolled": true
   },
   "outputs": [],
   "source": [
    "md4"
   ]
  },
  {
   "cell_type": "code",
   "execution_count": null,
   "id": "31e6ae3e",
   "metadata": {},
   "outputs": [],
   "source": [
    "ls()"
   ]
  },
  {
   "cell_type": "code",
   "execution_count": null,
   "id": "f24988be",
   "metadata": {},
   "outputs": [],
   "source": [
    "options(repr.plot.width = 12, repr.plot.height = 5)\n",
    "j = 1\n",
    "for(i in (populations_corr  %>% filter(grepl(population, pattern = \"Treg\"))  %>% \n",
    "           pull(population))[1:12]  %>% unique){\n",
    "    df2 <- md4  %>% dplyr::select(which(colnames(md4)==i), \n",
    "                                  fasting_cpept_T1 = 2, \n",
    "                                  fasting_cpept_1 = 3,\n",
    "                                  c_peptide_change = 4) \n",
    "    colnames(df2)[1]  <- c(\"value\")\n",
    "  p1 <-  df2 %>%  ggplot(aes(x=value, y=fasting_cpept_T1)) +\n",
    "  geom_point(shape = 16, size = 2) +\n",
    "  geom_smooth(method=lm, alpha = 0.2) + ggtitle(gsub(i, pattern = \"L3 CD4 T cells---Treg---\", replacement = \" \")) + \n",
    "stat_cor(size = 7) + theme_classic() + ggtheme() \n",
    "\n",
    "    p2 <-  df2 %>%  ggplot(aes(x=value, y=fasting_cpept_1)) +\n",
    "  geom_point(shape = 16, size = 2) +\n",
    "  geom_smooth(method=lm, alpha = 0.2) + ggtitle(\" \") + \n",
    "stat_cor(size = 7) + theme_classic() + ggtheme() \n",
    "\n",
    "    p3 <-  df2 %>%  ggplot(aes(x=value, y=c_peptide_change)) +\n",
    "  geom_point(shape = 16, size = 2) +\n",
    "  geom_smooth(method=lm, alpha = 0.2) + ggtitle(\" \") + \n",
    "stat_cor(size = 7) + theme_classic() + ggtheme() \n",
    "\n",
    "    print(p1 + p2 + p3)\n",
    "    j = j+1\n",
    "library(svglite)\n",
    "dir.create(\"../figures/correlation_populations/\")\n",
    "ggsave(filename = paste0(\"../figures/correlation_populations/\",i,\".svg\"), width = 12, height = 4)\n",
    "    }"
   ]
  },
  {
   "cell_type": "markdown",
   "id": "cf0abfcd",
   "metadata": {},
   "source": [
    "### Both patient samples T1 and T0"
   ]
  },
  {
   "cell_type": "code",
   "execution_count": null,
   "id": "f985503a",
   "metadata": {},
   "outputs": [],
   "source": [
    "md5  <- md_cpept  %>% left_join(md3)  %>% dplyr::filter(!is.na(fasting_cpept_1))"
   ]
  },
  {
   "cell_type": "code",
   "execution_count": null,
   "id": "76ced41b",
   "metadata": {},
   "outputs": [],
   "source": [
    "population_colnames_l3  <- which(substr(colnames(md5),start = 1,stop = 2) == \"L3\")"
   ]
  },
  {
   "cell_type": "code",
   "execution_count": null,
   "id": "45f13ebb",
   "metadata": {},
   "outputs": [],
   "source": [
    "population_colnames_l3"
   ]
  },
  {
   "cell_type": "code",
   "execution_count": null,
   "id": "265488d1",
   "metadata": {},
   "outputs": [],
   "source": [
    "calc_correlation  <- function(i){\n",
    "    df  <- md5  %>% dplyr::select(i,2)  %>% filter(!is.na(2))\n",
    "   colnames(df)  <- c(\"value\",\"fasting_cpept_t1\")\n",
    "    cor  <- cor.test(df$value, df$fasting_cpept_t1)\n",
    "    res_df1  <- data.frame(population = colnames(md4)[i], \n",
    "                          cor = cor$estimate, \n",
    "                          pval = cor$p.value, \n",
    "                         padj  = ifelse(cor$p.value*10>1,1,cor$p.value*10),\n",
    "                         test = \"fasting_cpept_T1\")\n",
    "    \n",
    "    df  <- md5  %>% dplyr::select(i,3)  %>% filter(!is.na(3))\n",
    "    colnames(df)  <- c(\"value\",\"fasting_cpept_1\")\n",
    "    cor  <- cor.test(df$value, df$fasting_cpept_1)\n",
    "    res_df2  <- data.frame(population = colnames(md4)[i], \n",
    "                          cor = cor$estimate, \n",
    "                          pval = cor$p.value, \n",
    "                         padj  = ifelse(cor$p.value*10>1,1,cor$p.value*10),\n",
    "                         test = \"fasting_cpept\")\n",
    "    \n",
    "    df  <- md5  %>% dplyr::select(i,4)  %>% filter(!is.na(4))\n",
    "    colnames(df)  <- c(\"value\",\"c_peptide_change\")\n",
    "    cor  <- cor.test(df$value, df$c_peptide_change)\n",
    "    res_df3  <- data.frame(population = colnames(md4)[i], \n",
    "                          cor = cor$estimate, \n",
    "                          pval = cor$p.value, \n",
    "                         padj  = ifelse(cor$p.value*10>1,1,cor$p.value*10),\n",
    "                         test = \"c_peptide_change\")\n",
    "    \n",
    "    res_df  <- rbind(res_df1, res_df2, res_df3)\n",
    "    return(res_df)\n",
    "}"
   ]
  },
  {
   "cell_type": "code",
   "execution_count": null,
   "id": "f3f4a743",
   "metadata": {},
   "outputs": [],
   "source": [
    "populations_corr_l3  <- future_map(population_colnames_l3, calc_correlation)"
   ]
  },
  {
   "cell_type": "code",
   "execution_count": null,
   "id": "c0ce7abf",
   "metadata": {},
   "outputs": [],
   "source": [
    "populations_corr  <- bind_rows(populations_corr_l3)"
   ]
  },
  {
   "cell_type": "code",
   "execution_count": null,
   "id": "8f8a14b4",
   "metadata": {
    "scrolled": true
   },
   "outputs": [],
   "source": [
    "populations_corr  %>% filter(grepl(populations_corr$population, pattern = \"Treg\"))"
   ]
  },
  {
   "cell_type": "code",
   "execution_count": null,
   "id": "192795f6",
   "metadata": {
    "scrolled": true
   },
   "outputs": [],
   "source": [
    "options(repr.plot.width = 12, repr.plot.height = 5)\n",
    "j = 1\n",
    "for(i in (populations_corr  %>% filter(grepl(population, pattern = \"Treg\"))  %>% \n",
    "          arrange(pval)  %>% pull(population))[1:12]){\n",
    "    df2 <- md5  %>% dplyr::select(which(colnames(md5)==i), \n",
    "                                  fasting_cpept_T1 = 2, \n",
    "                                  fasting_cpept_1 = 3,\n",
    "                                  c_peptide_change = 4) \n",
    "    colnames(df2)[1]  <- c(\"value\")\n",
    "  p1 <-  df2 %>%  ggplot(aes(x=value, y=fasting_cpept_T1)) +\n",
    "  geom_point(shape = 16, size = 2) +\n",
    "  geom_smooth(method=lm, alpha = 0.2) + ggtitle(gsub(i, pattern = \"L3 CD4 T cells---Treg---\", replacement = \" \")) + \n",
    "stat_cor(size = 7) + theme_classic() + ggtheme() \n",
    "\n",
    "    p2 <-  df2 %>%  ggplot(aes(x=value, y=fasting_cpept_1)) +\n",
    "  geom_point(shape = 16, size = 2) +\n",
    "  geom_smooth(method=lm, alpha = 0.2) + ggtitle(\" \") + \n",
    "stat_cor(size = 7) + theme_classic() + ggtheme() \n",
    "\n",
    "    p3 <-  df2 %>%  ggplot(aes(x=value, y=c_peptide_change)) +\n",
    "  geom_point(shape = 16, size = 2) +\n",
    "  geom_smooth(method=lm, alpha = 0.2) + ggtitle(\" \") + \n",
    "stat_cor(size = 7) + theme_classic() + ggtheme() \n",
    "\n",
    "    print(p1 + p2 + p3)\n",
    "    j = j+1\n",
    "#library(svglite)\n",
    "#dir.create(\"../figures/correlation_populations/\")\n",
    "#ggsave(filename = paste0(\"../figures/correlation_populations/\",i,\".svg\"), width = 5, height = 4.5)\n",
    "    }"
   ]
  }
 ],
 "metadata": {
  "kernelspec": {
   "display_name": "R",
   "language": "R",
   "name": "ir"
  },
  "language_info": {
   "codemirror_mode": "r",
   "file_extension": ".r",
   "mimetype": "text/x-r-source",
   "name": "R",
   "pygments_lexer": "r",
   "version": "4.5.1"
  },
  "toc": {
   "base_numbering": 1,
   "nav_menu": {},
   "number_sections": true,
   "sideBar": true,
   "skip_h1_title": false,
   "title_cell": "Table of Contents",
   "title_sidebar": "Contents",
   "toc_cell": false,
   "toc_position": {
    "height": "calc(100% - 180px)",
    "left": "10px",
    "top": "150px",
    "width": "304.767px"
   },
   "toc_section_display": true,
   "toc_window_display": true
  }
 },
 "nbformat": 4,
 "nbformat_minor": 5
}
