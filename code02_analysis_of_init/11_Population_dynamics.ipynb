{
 "cells": [
  {
   "cell_type": "code",
   "execution_count": null,
   "id": "11f15ddc",
   "metadata": {
    "scrolled": true
   },
   "outputs": [],
   "source": [
    "source(\"diabetes_analysis_v06.R\")\n",
    "\n",
    "rank_score_func <- function(df){\n",
    "df <- df %>% mutate(score = -1*log(p_val_adj+(10^-310))*avg_log2FC*(pct.1/(pct.2+10^-300)))\n",
    "return(df)\n",
    "}\n",
    "\n"
   ]
  },
  {
   "cell_type": "markdown",
   "id": "2a88d006",
   "metadata": {},
   "source": [
    "# Load populations"
   ]
  },
  {
   "cell_type": "markdown",
   "id": "54faf6bd",
   "metadata": {},
   "source": [
    "## CD4"
   ]
  },
  {
   "cell_type": "code",
   "execution_count": null,
   "id": "212b535a",
   "metadata": {},
   "outputs": [],
   "source": [
    "### Table for quantification and Bayes"
   ]
  },
  {
   "cell_type": "code",
   "execution_count": null,
   "id": "0d0e0924",
   "metadata": {},
   "outputs": [],
   "source": [
    "cd4_l1_full_filt  <- readRDS(\"../data/processed/L1/cd4_l1_full_filt.rds\")"
   ]
  },
  {
   "cell_type": "code",
   "execution_count": null,
   "id": "674ad4af",
   "metadata": {},
   "outputs": [],
   "source": [
    "cd4_patient_meta  <- cd4_l1_full_filt@meta.data  %>% \n",
    "                            dplyr::select(Sample_ID, Condition, Condition2, \n",
    "                                          Disease, \n",
    "                                          Sex, Age, Age_group, Patient_ID, \n",
    "                                          Time, Experiment_ID)   %>% unique"
   ]
  },
  {
   "cell_type": "code",
   "execution_count": null,
   "id": "fbdeecef",
   "metadata": {},
   "outputs": [],
   "source": [
    "colnames(cd4_l1_full_filt@meta.data )"
   ]
  },
  {
   "cell_type": "code",
   "execution_count": null,
   "id": "40a156eb",
   "metadata": {},
   "outputs": [],
   "source": [
    "df3  <- cd4_l1_full_filt@meta.data %>% \n",
    "  group_by(Sample_ID, annotations_l3) %>% \n",
    "  summarise(n = n()) %>% \n",
    "  unique() %>% \n",
    "ungroup   %>% \n",
    "pivot_wider(names_from = \"annotations_l3\", values_from = \"n\", values_fill = 0) \n",
    "df4  <- left_join((cd4_l1_full_filt@misc$all_md %>% dplyr::select(Sample_ID) %>% unique), df3)\n",
    "df4[is.na(df4)] <- 0\n",
    "df4  <- df4  %>% pivot_longer(!Sample_ID, values_to = \"n\", names_to = \"annotations\")\n",
    "\n",
    "# As we've lost non-grouping variables, let's join them back\n",
    "md_to_join <- cd4_l1_full_filt@misc$all_md %>% \n",
    "  unique()\n",
    "\n",
    "df4  <- left_join(df4, md_to_join)"
   ]
  },
  {
   "cell_type": "code",
   "execution_count": null,
   "id": "e50ff9e5",
   "metadata": {},
   "outputs": [],
   "source": [
    "df4$Level  <- \"L3\""
   ]
  },
  {
   "cell_type": "code",
   "execution_count": null,
   "id": "3391a5d2",
   "metadata": {},
   "outputs": [],
   "source": [
    "df_l3  <- df4"
   ]
  },
  {
   "cell_type": "code",
   "execution_count": null,
   "id": "6b602948",
   "metadata": {},
   "outputs": [],
   "source": [
    "df_l3"
   ]
  },
  {
   "cell_type": "code",
   "execution_count": null,
   "id": "4ddb97d9",
   "metadata": {},
   "outputs": [],
   "source": [
    "df3  <- cd4_l1_full_filt@meta.data %>% \n",
    "  group_by(Sample_ID, annotations_l2) %>% \n",
    "  summarise(n = n()) %>% \n",
    "  unique() %>% \n",
    "ungroup   %>% \n",
    "pivot_wider(names_from = \"annotations_l2\", values_from = \"n\", values_fill = 0) \n",
    "df4  <- left_join((cd4_l1_full_filt@misc$all_md %>% dplyr::select(Sample_ID) %>% unique), df3)\n",
    "df4[is.na(df4)] <- 0\n",
    "df4  <- df4  %>% pivot_longer(!Sample_ID, values_to = \"n\", names_to = \"annotations\")\n",
    "\n",
    "# As we've lost non-grouping variables, let's join them back\n",
    "md_to_join <- cd4_l1_full_filt@misc$all_md %>% \n",
    "  unique()\n",
    "\n",
    "df4  <- left_join(df4, md_to_join)\n",
    "df4$Level  <- \"L2\""
   ]
  },
  {
   "cell_type": "code",
   "execution_count": null,
   "id": "f5ca9654",
   "metadata": {},
   "outputs": [],
   "source": [
    "df_l2  <- df4"
   ]
  },
  {
   "cell_type": "code",
   "execution_count": null,
   "id": "2cee58ff",
   "metadata": {
    "scrolled": true
   },
   "outputs": [],
   "source": [
    "df4"
   ]
  },
  {
   "cell_type": "code",
   "execution_count": null,
   "id": "d208649c",
   "metadata": {},
   "outputs": [],
   "source": [
    "df3  <- cd4_l1_full_filt@meta.data %>% \n",
    "  group_by(Sample_ID, annotations_l1) %>% \n",
    "  summarise(n = n()) %>% \n",
    "  unique() %>% \n",
    "ungroup   %>% \n",
    "pivot_wider(names_from = \"annotations_l1\", values_from = \"n\", values_fill = 0) \n",
    "df4  <- left_join((cd4_l1_full_filt@misc$all_md %>% dplyr::select(Sample_ID) %>% unique), df3)\n",
    "df4[is.na(df4)] <- 0\n",
    "df4  <- df4  %>% pivot_longer(!Sample_ID, values_to = \"n\", names_to = \"annotations\")\n",
    "\n",
    "# As we've lost non-grouping variables, let's join them back\n",
    "md_to_join <- cd4_l1_full_filt@misc$all_md %>% \n",
    "  unique()\n",
    "\n",
    "df4  <- left_join(df4, md_to_join)\n",
    "df4$Level  <- \"L1\"\n",
    "\n",
    "df_l1  <- df4"
   ]
  },
  {
   "cell_type": "code",
   "execution_count": null,
   "id": "a98c6ee6",
   "metadata": {},
   "outputs": [],
   "source": [
    "df_l3"
   ]
  },
  {
   "cell_type": "code",
   "execution_count": null,
   "id": "0990e10d",
   "metadata": {},
   "outputs": [],
   "source": [
    "df_all_levels  <- rbind(df_l1, df_l2, df_l3)"
   ]
  },
  {
   "cell_type": "code",
   "execution_count": null,
   "id": "8d96bedc",
   "metadata": {},
   "outputs": [],
   "source": []
  },
  {
   "cell_type": "code",
   "execution_count": null,
   "id": "05480443",
   "metadata": {},
   "outputs": [],
   "source": [
    "all_counts  <- df_all_levels"
   ]
  },
  {
   "cell_type": "code",
   "execution_count": null,
   "id": "6d8282e6",
   "metadata": {},
   "outputs": [],
   "source": [
    "df3  <- all_counts %>% \n",
    "  group_by(Sample_ID, Level) %>% \n",
    "  mutate(freq_from_total = n / sum(n)) "
   ]
  },
  {
   "cell_type": "code",
   "execution_count": null,
   "id": "5a5d978d",
   "metadata": {},
   "outputs": [],
   "source": [
    "df3"
   ]
  },
  {
   "cell_type": "code",
   "execution_count": null,
   "id": "fe80d01c",
   "metadata": {},
   "outputs": [],
   "source": [
    "## Set parent population"
   ]
  },
  {
   "cell_type": "code",
   "execution_count": null,
   "id": "16631aac",
   "metadata": {},
   "outputs": [],
   "source": [
    "df3  <- df3  %>% separate(annotations, into = c(\"annot_l1\",\"annot_l2\",NA), sep = \"---\", remove = F)  %>% \n",
    "mutate(Parent_annotation = case_when(\n",
    "Level == \"L1\" ~ \"CD4\",\n",
    "Level == \"L2\" ~ annot_l1,\n",
    "Level == \"L3\" ~ paste0(annot_l1, \"---\" ,annot_l2)\n",
    "))"
   ]
  },
  {
   "cell_type": "code",
   "execution_count": null,
   "id": "c07c46f8",
   "metadata": {},
   "outputs": [],
   "source": [
    "df3"
   ]
  },
  {
   "cell_type": "code",
   "execution_count": null,
   "id": "82eb48bc",
   "metadata": {},
   "outputs": [],
   "source": [
    "## For each level and each patient calculate the total count per parent population"
   ]
  },
  {
   "cell_type": "code",
   "execution_count": null,
   "id": "9f9c53d6",
   "metadata": {},
   "outputs": [],
   "source": [
    "levels_l1  <- all_counts %>% \n",
    "  filter(Level == \"L1\")  %>% \n",
    "pull(annotations)  %>% unique\n",
    "levels_l2  <- all_counts %>% \n",
    "  filter(Level == \"L2\")  %>% \n",
    "pull(annotations)  %>% unique"
   ]
  },
  {
   "cell_type": "code",
   "execution_count": null,
   "id": "f3bdf70e",
   "metadata": {},
   "outputs": [],
   "source": [
    "\n",
    "for(i in 1:length(levels_l1)) {\n",
    "    \n",
    "    df_filt  <- df3  %>% filter(grepl(annotations, pattern = levels_l1[i]) & Level == \"L2\")\n",
    "\n",
    "    df_filt  <- df_filt  %>% \n",
    "            group_by(Sample_ID)  %>% \n",
    "        summarise(total_per_patient = sum(n))\n",
    "\n",
    "    df_filt$Level = \"L2\"\n",
    "\n",
    "    df_filt$Parent_annotation = levels_l1[i]\n",
    "\n",
    "    if(i > 1){\n",
    "       \n",
    "        df_sum_of_parent  <- rbind(df_sum_of_parent, df_filt)\n",
    "        \n",
    "    } else {\n",
    "        df_sum_of_parent  <- df_filt\n",
    "        \n",
    "        \n",
    "    }\n",
    "\n",
    "}\n",
    "\n",
    "for(i in 1:length(levels_l2)) {\n",
    "    \n",
    "    df_filt  <- df3  %>% filter(grepl(annotations, pattern = levels_l2[i]) & Level == \"L3\")\n",
    "\n",
    "    df_filt  <- df_filt  %>% \n",
    "            group_by(Sample_ID)  %>% \n",
    "        summarise(total_per_patient = sum(n))\n",
    "\n",
    "    df_filt$Level = \"L3\"\n",
    "\n",
    "    df_filt$Parent_annotation = levels_l2[i]\n",
    "\n",
    "    df_sum_of_parent  <- rbind(df_sum_of_parent, df_filt)\n",
    "   \n",
    "\n",
    "}"
   ]
  },
  {
   "cell_type": "code",
   "execution_count": null,
   "id": "733f3318",
   "metadata": {
    "scrolled": true
   },
   "outputs": [],
   "source": [
    "df_sum_of_parent"
   ]
  },
  {
   "cell_type": "code",
   "execution_count": null,
   "id": "d4bfa06c",
   "metadata": {},
   "outputs": [],
   "source": [
    "dim(df3)"
   ]
  },
  {
   "cell_type": "code",
   "execution_count": null,
   "id": "96359ba4",
   "metadata": {},
   "outputs": [],
   "source": [
    "df4  <- left_join(df3, df_sum_of_parent)"
   ]
  },
  {
   "cell_type": "code",
   "execution_count": null,
   "id": "e3be82f0",
   "metadata": {},
   "outputs": [],
   "source": [
    "dim(df4)"
   ]
  },
  {
   "cell_type": "code",
   "execution_count": null,
   "id": "824ed34e",
   "metadata": {},
   "outputs": [],
   "source": [
    "df4"
   ]
  },
  {
   "cell_type": "code",
   "execution_count": null,
   "id": "a8f7c606",
   "metadata": {},
   "outputs": [],
   "source": [
    "df4$freq_from_parent  <- df4$n/df4$total_per_patient"
   ]
  },
  {
   "cell_type": "code",
   "execution_count": null,
   "id": "dd8a55c2",
   "metadata": {},
   "outputs": [],
   "source": [
    "df4"
   ]
  },
  {
   "cell_type": "code",
   "execution_count": null,
   "id": "59b4205f",
   "metadata": {},
   "outputs": [],
   "source": [
    "df4$pct_from_total  <- df4$freq_from_total*100\n",
    "df4$pct_from_parent  <- df4$freq_from_parent*100\n"
   ]
  },
  {
   "cell_type": "code",
   "execution_count": null,
   "id": "b1a1ef35",
   "metadata": {},
   "outputs": [],
   "source": [
    "df4$freq_from_parent <- ifelse(is.na(df4$freq_from_parent) & df4$Level != \"L1\", 0, df4$freq_from_parent)\n",
    "df4$pct_from_parent  <- ifelse(is.na(df4$pct_from_parent) & df4$Level != \"L1\", 0, df4$pct_from_parent)"
   ]
  },
  {
   "cell_type": "code",
   "execution_count": null,
   "id": "96746f8d",
   "metadata": {},
   "outputs": [],
   "source": [
    "df4"
   ]
  },
  {
   "cell_type": "code",
   "execution_count": null,
   "id": "57f41c31",
   "metadata": {},
   "outputs": [],
   "source": [
    "freq_cd4  <- df4"
   ]
  },
  {
   "cell_type": "markdown",
   "id": "1ca7ab06",
   "metadata": {},
   "source": [
    "## CD8"
   ]
  },
  {
   "cell_type": "code",
   "execution_count": null,
   "id": "fe718100",
   "metadata": {},
   "outputs": [],
   "source": [
    "cd8_l1_full_filt  <- readRDS(\"../data/processed/L1/cd8_l1_full_filt.rds\")"
   ]
  },
  {
   "cell_type": "code",
   "execution_count": null,
   "id": "826e6611",
   "metadata": {},
   "outputs": [],
   "source": [
    "cd8_patient_meta  <- cd8_l1_full_filt@meta.data  %>% \n",
    "                            dplyr::select(Sample_ID, Condition, Condition2, \n",
    "                                          Disease, \n",
    "                                          Sex, Age, Age_group, Patient_ID, \n",
    "                                          Time, Experiment_ID)   %>% unique"
   ]
  },
  {
   "cell_type": "code",
   "execution_count": null,
   "id": "124ea03b",
   "metadata": {},
   "outputs": [],
   "source": [
    "colnames(cd8_l1_full_filt@meta.data )"
   ]
  },
  {
   "cell_type": "code",
   "execution_count": null,
   "id": "58e138d4",
   "metadata": {},
   "outputs": [],
   "source": [
    "df3  <- cd8_l1_full_filt@meta.data %>% \n",
    "  group_by(Sample_ID, annotations_l3) %>% \n",
    "  summarise(n = n()) %>% \n",
    "  unique() %>% \n",
    "ungroup   %>% \n",
    "pivot_wider(names_from = \"annotations_l3\", values_from = \"n\", values_fill = 0) \n",
    "df4  <- left_join((cd8_l1_full_filt@misc$all_md %>% dplyr::select(Sample_ID) %>% unique), df3)\n",
    "df4[is.na(df4)] <- 0\n",
    "df4  <- df4  %>% pivot_longer(!Sample_ID, values_to = \"n\", names_to = \"annotations\")\n",
    "\n",
    "# As we've lost non-grouping variables, let's join them back\n",
    "md_to_join <- cd8_l1_full_filt@misc$all_md %>% \n",
    "  unique()\n",
    "\n",
    "df4  <- left_join(df4, md_to_join)"
   ]
  },
  {
   "cell_type": "code",
   "execution_count": null,
   "id": "a1a97d9e",
   "metadata": {},
   "outputs": [],
   "source": [
    "df4$Level  <- \"L3\""
   ]
  },
  {
   "cell_type": "code",
   "execution_count": null,
   "id": "4461ac04",
   "metadata": {},
   "outputs": [],
   "source": [
    "df_l3  <- df4"
   ]
  },
  {
   "cell_type": "code",
   "execution_count": null,
   "id": "e6442edc",
   "metadata": {},
   "outputs": [],
   "source": [
    "df3  <- cd8_l1_full_filt@meta.data %>% \n",
    "  group_by(Sample_ID, annotations_l2) %>% \n",
    "  summarise(n = n()) %>% \n",
    "  unique() %>% \n",
    "ungroup   %>% \n",
    "pivot_wider(names_from = \"annotations_l2\", values_from = \"n\", values_fill = 0) \n",
    "df4  <- left_join((cd8_l1_full_filt@misc$all_md %>% dplyr::select(Sample_ID) %>% unique), df3)\n",
    "df4[is.na(df4)] <- 0\n",
    "df4  <- df4  %>% pivot_longer(!Sample_ID, values_to = \"n\", names_to = \"annotations\")\n",
    "\n",
    "# As we've lost non-grouping variables, let's join them back\n",
    "md_to_join <- cd8_l1_full_filt@misc$all_md %>% \n",
    "  unique()\n",
    "\n",
    "df4  <- left_join(df4, md_to_join)\n",
    "df4$Level  <- \"L2\""
   ]
  },
  {
   "cell_type": "code",
   "execution_count": null,
   "id": "465b0cc1",
   "metadata": {},
   "outputs": [],
   "source": [
    "df_l2  <- df4"
   ]
  },
  {
   "cell_type": "code",
   "execution_count": null,
   "id": "a811ee10",
   "metadata": {
    "scrolled": true
   },
   "outputs": [],
   "source": [
    "df4"
   ]
  },
  {
   "cell_type": "code",
   "execution_count": null,
   "id": "9126dd5e",
   "metadata": {},
   "outputs": [],
   "source": [
    "df3  <- cd8_l1_full_filt@meta.data %>% \n",
    "  group_by(Sample_ID, annotations_l1) %>% \n",
    "  summarise(n = n()) %>% \n",
    "  unique() %>% \n",
    "ungroup   %>% \n",
    "pivot_wider(names_from = \"annotations_l1\", values_from = \"n\", values_fill = 0) \n",
    "df4  <- left_join((cd8_l1_full_filt@misc$all_md %>% dplyr::select(Sample_ID) %>% unique), df3)\n",
    "df4[is.na(df4)] <- 0\n",
    "df4  <- df4  %>% pivot_longer(!Sample_ID, values_to = \"n\", names_to = \"annotations\")\n",
    "\n",
    "# As we've lost non-grouping variables, let's join them back\n",
    "md_to_join <- cd8_l1_full_filt@misc$all_md %>% \n",
    "  unique()\n",
    "\n",
    "df4  <- left_join(df4, md_to_join)\n",
    "df4$Level  <- \"L1\"\n",
    "\n",
    "df_l1  <- df4"
   ]
  },
  {
   "cell_type": "code",
   "execution_count": null,
   "id": "b81ef35d",
   "metadata": {},
   "outputs": [],
   "source": [
    "df_l3"
   ]
  },
  {
   "cell_type": "code",
   "execution_count": null,
   "id": "2f5c7494",
   "metadata": {},
   "outputs": [],
   "source": [
    "df_all_levels  <- rbind(df_l1, df_l2, df_l3)"
   ]
  },
  {
   "cell_type": "code",
   "execution_count": null,
   "id": "a420afdd",
   "metadata": {},
   "outputs": [],
   "source": [
    "df_all_levels"
   ]
  },
  {
   "cell_type": "code",
   "execution_count": null,
   "id": "a74ab2c6",
   "metadata": {},
   "outputs": [],
   "source": [
    "all_counts  <- df_all_levels"
   ]
  },
  {
   "cell_type": "code",
   "execution_count": null,
   "id": "b6e6ac17",
   "metadata": {},
   "outputs": [],
   "source": [
    "df3  <- all_counts %>% \n",
    "  group_by(Sample_ID, Level) %>% \n",
    "  mutate(freq_from_total = n / sum(n)) "
   ]
  },
  {
   "cell_type": "code",
   "execution_count": null,
   "id": "ed98d4fc",
   "metadata": {},
   "outputs": [],
   "source": [
    "df3"
   ]
  },
  {
   "cell_type": "code",
   "execution_count": null,
   "id": "eabe4a72",
   "metadata": {},
   "outputs": [],
   "source": [
    "## Set parent population"
   ]
  },
  {
   "cell_type": "code",
   "execution_count": null,
   "id": "f9377a79",
   "metadata": {},
   "outputs": [],
   "source": [
    "df3  <- df3  %>% separate(annotations, into = c(\"annot_l1\",\"annot_l2\",NA), sep = \"---\", remove = F)  %>% \n",
    "mutate(Parent_annotation = case_when(\n",
    "Level == \"L1\" ~ \"CD8\",\n",
    "Level == \"L2\" ~ annot_l1,\n",
    "Level == \"L3\" ~ paste0(annot_l1, \"---\" ,annot_l2)\n",
    "))"
   ]
  },
  {
   "cell_type": "code",
   "execution_count": null,
   "id": "42266d2e",
   "metadata": {},
   "outputs": [],
   "source": [
    "df3"
   ]
  },
  {
   "cell_type": "code",
   "execution_count": null,
   "id": "006f9bba",
   "metadata": {},
   "outputs": [],
   "source": [
    "## For each level and each patient calculate the total count per parent population"
   ]
  },
  {
   "cell_type": "code",
   "execution_count": null,
   "id": "b55fe59a",
   "metadata": {},
   "outputs": [],
   "source": [
    "levels_l1  <- all_counts %>% \n",
    "  filter(Level == \"L1\")  %>% \n",
    "pull(annotations)  %>% unique\n",
    "levels_l2  <- all_counts %>% \n",
    "  filter(Level == \"L2\")  %>% \n",
    "pull(annotations)  %>% unique"
   ]
  },
  {
   "cell_type": "code",
   "execution_count": null,
   "id": "f25cec36",
   "metadata": {},
   "outputs": [],
   "source": [
    "\n",
    "for(i in 1:length(levels_l1)) {\n",
    "    \n",
    "    df_filt  <- df3  %>% filter(grepl(annotations, pattern = levels_l1[i]) & Level == \"L2\")\n",
    "\n",
    "    df_filt  <- df_filt  %>% \n",
    "            group_by(Sample_ID)  %>% \n",
    "        summarise(total_per_patient = sum(n))\n",
    "\n",
    "    df_filt$Level = \"L2\"\n",
    "\n",
    "    df_filt$Parent_annotation = levels_l1[i]\n",
    "\n",
    "    if(i > 1){\n",
    "       \n",
    "        df_sum_of_parent  <- rbind(df_sum_of_parent, df_filt)\n",
    "        \n",
    "    } else {\n",
    "        df_sum_of_parent  <- df_filt\n",
    "        \n",
    "        \n",
    "    }\n",
    "\n",
    "}\n",
    "\n",
    "for(i in 1:length(levels_l2)) {\n",
    "    \n",
    "    df_filt  <- df3  %>% filter(grepl(annotations, pattern = levels_l2[i]) & Level == \"L3\")\n",
    "\n",
    "    df_filt  <- df_filt  %>% \n",
    "            group_by(Sample_ID)  %>% \n",
    "        summarise(total_per_patient = sum(n))\n",
    "\n",
    "    df_filt$Level = \"L3\"\n",
    "\n",
    "    df_filt$Parent_annotation = levels_l2[i]\n",
    "\n",
    "    df_sum_of_parent  <- rbind(df_sum_of_parent, df_filt)\n",
    "   \n",
    "\n",
    "}"
   ]
  },
  {
   "cell_type": "code",
   "execution_count": null,
   "id": "ab9c2d16",
   "metadata": {
    "scrolled": true
   },
   "outputs": [],
   "source": [
    "df_sum_of_parent"
   ]
  },
  {
   "cell_type": "code",
   "execution_count": null,
   "id": "110ed7dd",
   "metadata": {},
   "outputs": [],
   "source": [
    "dim(df3)"
   ]
  },
  {
   "cell_type": "code",
   "execution_count": null,
   "id": "48744be5",
   "metadata": {},
   "outputs": [],
   "source": [
    "df4  <- left_join(df3, df_sum_of_parent)"
   ]
  },
  {
   "cell_type": "code",
   "execution_count": null,
   "id": "6c4f7a24",
   "metadata": {},
   "outputs": [],
   "source": [
    "dim(df4)"
   ]
  },
  {
   "cell_type": "code",
   "execution_count": null,
   "id": "184c3a48",
   "metadata": {},
   "outputs": [],
   "source": [
    "df4"
   ]
  },
  {
   "cell_type": "code",
   "execution_count": null,
   "id": "c8225c1e",
   "metadata": {},
   "outputs": [],
   "source": [
    "df4$freq_from_parent  <- df4$n/df4$total_per_patient"
   ]
  },
  {
   "cell_type": "code",
   "execution_count": null,
   "id": "2324d82e",
   "metadata": {},
   "outputs": [],
   "source": [
    "df4"
   ]
  },
  {
   "cell_type": "code",
   "execution_count": null,
   "id": "8aa1b17f",
   "metadata": {},
   "outputs": [],
   "source": [
    "df4$pct_from_total  <- df4$freq_from_total*100\n",
    "df4$pct_from_parent  <- df4$freq_from_parent*100\n"
   ]
  },
  {
   "cell_type": "code",
   "execution_count": null,
   "id": "5d6d8bab",
   "metadata": {},
   "outputs": [],
   "source": [
    "df4$freq_from_parent <- ifelse(is.na(df4$freq_from_parent) & df4$Level != \"L1\", 0, df4$freq_from_parent)\n",
    "df4$pct_from_parent  <- ifelse(is.na(df4$pct_from_parent) & df4$Level != \"L1\", 0, df4$pct_from_parent)"
   ]
  },
  {
   "cell_type": "code",
   "execution_count": null,
   "id": "80c0e375",
   "metadata": {},
   "outputs": [],
   "source": [
    "df4"
   ]
  },
  {
   "cell_type": "code",
   "execution_count": null,
   "id": "9d33bd93",
   "metadata": {},
   "outputs": [],
   "source": []
  },
  {
   "cell_type": "code",
   "execution_count": null,
   "id": "aaba5bca",
   "metadata": {},
   "outputs": [],
   "source": [
    "freq_cd8  <- df4"
   ]
  },
  {
   "cell_type": "code",
   "execution_count": null,
   "id": "142d320a",
   "metadata": {},
   "outputs": [],
   "source": [
    "freq_cd4$Main  <- \"CD4\"\n",
    "freq_cd8$Main  <- \"CD8\"\n"
   ]
  },
  {
   "cell_type": "code",
   "execution_count": null,
   "id": "c97723fd",
   "metadata": {},
   "outputs": [],
   "source": [
    "populations_2  <- rbind(freq_cd4, freq_cd8)"
   ]
  },
  {
   "cell_type": "code",
   "execution_count": null,
   "id": "ab4a3048",
   "metadata": {},
   "outputs": [],
   "source": [
    "populations_2$Experiment_ID  %>% table"
   ]
  },
  {
   "cell_type": "code",
   "execution_count": null,
   "id": "5e14a006",
   "metadata": {},
   "outputs": [],
   "source": [
    "write.csv(populations_2, \"../tables/populations_2.csv\")"
   ]
  },
  {
   "cell_type": "code",
   "execution_count": null,
   "id": "a6f7d274",
   "metadata": {},
   "outputs": [],
   "source": [
    "populations_2"
   ]
  },
  {
   "cell_type": "markdown",
   "id": "bdba9969",
   "metadata": {},
   "source": [
    "# Population QC"
   ]
  },
  {
   "cell_type": "markdown",
   "id": "d1e16b4b",
   "metadata": {},
   "source": [
    "## Correlation of populations in preliminary and final"
   ]
  },
  {
   "cell_type": "markdown",
   "id": "d9d83b90",
   "metadata": {},
   "source": [
    "### Freq from total"
   ]
  },
  {
   "cell_type": "code",
   "execution_count": null,
   "id": "ccb8682e",
   "metadata": {},
   "outputs": [],
   "source": [
    "populations_2  <- read_csv(\"../tables/populations_2.csv\")\n",
    "populations_2$`...1`  <- NULL"
   ]
  },
  {
   "cell_type": "code",
   "execution_count": null,
   "id": "d8cf8a0f",
   "metadata": {},
   "outputs": [],
   "source": [
    "populations_2$prelim_final  <- ifelse(populations_2$Experiment_ID %in% c(\"Exp08\",\"Exp10\",\"Exp11\"), \n",
    "                                     \"Prelim\",\"Final\")"
   ]
  },
  {
   "cell_type": "code",
   "execution_count": null,
   "id": "8b644dc5",
   "metadata": {},
   "outputs": [],
   "source": [
    "IDs  <- populations_2  %>% dplyr::filter(prelim_final == \"Prelim\")  %>% pull(Patient_ID)  %>% unique"
   ]
  },
  {
   "cell_type": "code",
   "execution_count": null,
   "id": "96a5c7fe",
   "metadata": {},
   "outputs": [],
   "source": [
    "IDs"
   ]
  },
  {
   "cell_type": "code",
   "execution_count": null,
   "id": "b5086315",
   "metadata": {},
   "outputs": [],
   "source": [
    "popul_final_freq_from_total  <- populations_2  %>% \n",
    "ungroup  %>% \n",
    "mutate(prelim_final = ifelse(Experiment_ID %in% c(\"Exp08\", \"Exp10\", \"Exp11\"), \"Prelim\",\"Final\"))  %>% \n",
    "dplyr::filter(Patient_ID %in% IDs & Time == \"T0\")  %>% \n",
    "dplyr::select(Patient_ID, Time, annotations, prelim_final, freq_from_total, Level)  %>% \n",
    "pivot_wider(names_from = \"prelim_final\", values_from = freq_from_total)"
   ]
  },
  {
   "cell_type": "code",
   "execution_count": null,
   "id": "8be43d55",
   "metadata": {
    "scrolled": true
   },
   "outputs": [],
   "source": [
    "popul_final_freq_from_total"
   ]
  },
  {
   "cell_type": "code",
   "execution_count": null,
   "id": "27314291",
   "metadata": {
    "scrolled": true
   },
   "outputs": [],
   "source": [
    "options(repr.plot.width= 20, repr.plot.height = 15)\n",
    "popul_final_freq_from_total %>% \n",
    "dplyr::filter(Level == \"L2\")  %>% \n",
    "ggplot(aes(x=Final, y=Prelim)) +\n",
    "  geom_point(shape = 16, alpha = 1, size = 2, aes(color = as.factor(annotations))) +\n",
    " geom_smooth(method=lm) + theme(legend.position = \"bottom\") + \n",
    "ggpubr::stat_cor()"
   ]
  },
  {
   "cell_type": "code",
   "execution_count": null,
   "id": "2e9bb4ef",
   "metadata": {},
   "outputs": [],
   "source": [
    "l2_only  <- popul_final_freq_from_total %>% \n",
    "dplyr::filter(Level == \"L2\")\n",
    "centroids <- aggregate(cbind(Final,Prelim)~annotations,l2_only,mean)"
   ]
  },
  {
   "cell_type": "code",
   "execution_count": null,
   "id": "4db1ff43",
   "metadata": {},
   "outputs": [],
   "source": [
    "options(repr.plot.width= 20, repr.plot.height = 12)\n",
    "popul_final_freq_from_total %>% \n",
    "dplyr::filter(Level == \"L2\")  %>% \n",
    "ggplot(aes(x=Final, y=Prelim)) +\n",
    " geom_smooth(method=lm, alpha = 0.2) + theme(legend.position = \"bottom\") + \n",
    " geom_point(alpha =0.3, size = 3, aes(color = as.factor(annotations), \n",
    "                                       fill = as.factor(annotations),\n",
    "                                    shape = as.factor(annotations))) +\n",
    "scale_shape_manual(values = c(21:25,21:25,21:25,21:25)) +\n",
    "ggpubr::stat_cor() + geom_point(data=centroids,size=5, color = \"black\",\n",
    "                                aes(fill = as.factor(annotations),\n",
    "                                                          shape = as.factor(annotations))) + \n",
    "scale_shape_manual(values = c(21:25,21:25,21:25,21:25)) + \n",
    "theme(axis.text.x = element_text(angle = 90)) + \n",
    "theme_classic() +\n",
    "ggtheme()\n"
   ]
  },
  {
   "cell_type": "code",
   "execution_count": null,
   "id": "d5489d07",
   "metadata": {
    "scrolled": true
   },
   "outputs": [],
   "source": [
    "options(repr.plot.width= 20, repr.plot.height = 12)\n",
    "popul_final_freq_from_total %>% \n",
    "dplyr::filter(Level == \"L2\")  %>% \n",
    "ggplot(aes(x=Final, y=Prelim)) +\n",
    " geom_smooth(method=lm, alpha = 0.2) + theme(legend.position = \"bottom\") + \n",
    " geom_point(alpha =0.3, size = 3, aes(color = as.factor(annotations), \n",
    "                                       fill = as.factor(annotations),\n",
    "                                    shape = as.factor(annotations))) +\n",
    "scale_shape_manual(values = c(21:25,21:25,21:25,21:25)) +\n",
    "ggpubr::stat_cor(size = 5) + geom_point(data=centroids,size=5, color = \"black\",\n",
    "                                aes(fill = as.factor(annotations),\n",
    "                                                          shape = as.factor(annotations))) + \n",
    "scale_shape_manual(values = c(21:25,21:25,21:25,21:25)) + \n",
    "theme(axis.text.x = element_text(angle = 90)) + \n",
    "theme_classic() +\n",
    "ggtheme()\n",
    "\n",
    "ggsave(\"../figures/QC/final_vs_preliminary.svg\", width = 44, height = 25, units = \"cm\")\n",
    "ggsave(\"../figures/QC/final_vs_preliminary.png\", width = 44, height = 25, units = \"cm\")"
   ]
  },
  {
   "cell_type": "code",
   "execution_count": null,
   "id": "a90f9ab3",
   "metadata": {},
   "outputs": [],
   "source": [
    "options(repr.plot.width= 15, repr.plot.height = 15)\n",
    "popul_final_freq_from_total %>% \n",
    "dplyr::filter(Level == \"L2\")  %>% \n",
    "ggplot(aes(x=Final, y=Prelim)) +\n",
    "facet_wrap(~annotations, ncol = 4, scales = \"free\")+\n",
    "#  geom_point(shape = 16, alpha = 1, size = 2, aes(color = as.factor(annotations))) +\n",
    " geom_smooth(method=lm, alpha = 0.2) + theme(legend.position = \"bottom\") + \n",
    "ggpubr::stat_cor(size = 5) +\n",
    "theme(axis.text.x = element_text(angle = 90)) + \n",
    "geom_point(size=3,                                aes(fill = as.factor(annotations),\n",
    "                                                          shape = as.factor(annotations))) + \n",
    "scale_shape_manual(values = c(21:25,21:25,21:25,21:25)) +\n",
    "theme_classic() +\n",
    "ggtheme() + NoLegend()"
   ]
  },
  {
   "cell_type": "markdown",
   "id": "e31d160a",
   "metadata": {},
   "source": [
    "## Correlation of populations in T0 vs T1"
   ]
  },
  {
   "cell_type": "markdown",
   "id": "09aaf9da",
   "metadata": {},
   "source": [
    "### Freq from total"
   ]
  },
  {
   "cell_type": "code",
   "execution_count": null,
   "id": "bfb7291f",
   "metadata": {},
   "outputs": [],
   "source": [
    "IDs_1  <- populations_2  %>% \n",
    "dplyr::filter(prelim_final == \"Final\" & Time == \"T0\" & Disease == \"Dia\")  %>% \n",
    "pull(Patient_ID)  %>% unique"
   ]
  },
  {
   "cell_type": "code",
   "execution_count": null,
   "id": "7d4d3f10",
   "metadata": {},
   "outputs": [],
   "source": [
    "IDs_2  <- populations_2  %>% \n",
    "dplyr::filter(prelim_final == \"Final\" & Time == \"T1\" & Disease == \"Dia\")  %>% \n",
    "pull(Patient_ID)  %>% unique"
   ]
  },
  {
   "cell_type": "code",
   "execution_count": null,
   "id": "ba4e422f",
   "metadata": {},
   "outputs": [],
   "source": [
    "IDs  <- intersect(IDs_1, IDs_2)"
   ]
  },
  {
   "cell_type": "code",
   "execution_count": null,
   "id": "03faaa31",
   "metadata": {},
   "outputs": [],
   "source": [
    "IDs"
   ]
  },
  {
   "cell_type": "code",
   "execution_count": null,
   "id": "5940f0d0",
   "metadata": {},
   "outputs": [],
   "source": [
    "popul_final_freq_from_total  <- populations_2  %>% \n",
    "ungroup  %>% \n",
    "mutate(prelim_final = ifelse(Experiment_ID %in% c(\"Exp08\", \"Exp10\", \"Exp11\"), \"Prelim\",\"Final\"))  %>% \n",
    "dplyr::filter(Patient_ID %in% IDs & prelim_final == \"Final\")  %>% \n",
    "dplyr::select(Patient_ID, Time, annotations, freq_from_total, Level)  %>% \n",
    "pivot_wider(names_from = \"Time\", values_from = freq_from_total)"
   ]
  },
  {
   "cell_type": "code",
   "execution_count": null,
   "id": "331b4d42",
   "metadata": {
    "scrolled": true
   },
   "outputs": [],
   "source": [
    "popul_final_freq_from_total  %>% dplyr::filter(!is.na(T1))"
   ]
  },
  {
   "cell_type": "code",
   "execution_count": null,
   "id": "96e66fba",
   "metadata": {
    "scrolled": true
   },
   "outputs": [],
   "source": [
    "options(repr.plot.width= 20, repr.plot.height = 15)\n",
    "popul_final_freq_from_total %>% \n",
    "dplyr::filter(Level == \"L2\")  %>% \n",
    "ggplot(aes(x=T0, y=T1)) +\n",
    "  geom_point(shape = 16, alpha = 1, size = 2, aes(color = as.factor(annotations))) +\n",
    " geom_smooth(method=lm) + theme(legend.position = \"bottom\") + \n",
    "ggpubr::stat_cor()"
   ]
  },
  {
   "cell_type": "code",
   "execution_count": null,
   "id": "e86c5e93",
   "metadata": {},
   "outputs": [],
   "source": [
    "l2_only  <- popul_final_freq_from_total %>% \n",
    "dplyr::filter(Level == \"L2\")\n",
    "centroids <- aggregate(cbind(T1,T0)~annotations,l2_only,mean)"
   ]
  },
  {
   "cell_type": "code",
   "execution_count": null,
   "id": "7e184aac",
   "metadata": {
    "scrolled": true
   },
   "outputs": [],
   "source": [
    "options(repr.plot.width= 20, repr.plot.height = 12)\n",
    "popul_final_freq_from_total %>% \n",
    "dplyr::filter(Level == \"L2\")  %>% \n",
    "ggplot(aes(x=T0, y=T1)) +\n",
    " geom_smooth(method=lm, alpha = 0.2) + theme(legend.position = \"bottom\") + \n",
    " geom_point(alpha =0.3, size = 3, aes(color = as.factor(annotations), \n",
    "                                       fill = as.factor(annotations),\n",
    "                                    shape = as.factor(annotations))) +\n",
    "scale_shape_manual(values = c(21:25,21:25,21:25,21:25)) +\n",
    "ggpubr::stat_cor(size = 5) + geom_point(data=centroids,size=5, color = \"black\",\n",
    "                                aes(fill = as.factor(annotations),\n",
    "                                                          shape = as.factor(annotations))) + \n",
    "scale_shape_manual(values = c(21:25,21:25,21:25,21:25)) + \n",
    "theme(axis.text.x = element_text(angle = 90)) + \n",
    "theme_classic() +\n",
    "ggtheme()\n",
    "\n",
    "ggsave(\"../figures/QC/t1_vs_t0.svg\", width = 44, height = 25, units = \"cm\")\n",
    "ggsave(\"../figures/QC/t1_vs_t0.png\", width = 44, height = 25, units = \"cm\")"
   ]
  },
  {
   "cell_type": "code",
   "execution_count": null,
   "id": "eabe4e34",
   "metadata": {},
   "outputs": [],
   "source": [
    "options(repr.plot.width= 15, repr.plot.height = 15)\n",
    "popul_final_freq_from_total %>% \n",
    "dplyr::filter(Level == \"L2\")  %>% \n",
    "ggplot(aes(x=T0, y=T1)) +\n",
    "facet_wrap(~annotations, ncol = 4, scales = \"free\")+\n",
    "#  geom_point(shape = 16, alpha = 1, size = 2, aes(color = as.factor(annotations))) +\n",
    " geom_smooth(method=lm, alpha = 0.2) + theme(legend.position = \"bottom\") + \n",
    "ggpubr::stat_cor(size = 5) +\n",
    "theme(axis.text.x = element_text(angle = 90)) + \n",
    "geom_point(size=3,                                aes(fill = as.factor(annotations),\n",
    "                                                          shape = as.factor(annotations))) + \n",
    "scale_shape_manual(values = c(21:25,21:25,21:25,21:25)) +\n",
    "theme_classic() +\n",
    "ggtheme() + NoLegend()"
   ]
  },
  {
   "cell_type": "markdown",
   "id": "1892a676",
   "metadata": {},
   "source": [
    "# Correlation with clinical data"
   ]
  },
  {
   "cell_type": "markdown",
   "id": "970e8a50",
   "metadata": {},
   "source": [
    "## Freq from total"
   ]
  },
  {
   "cell_type": "code",
   "execution_count": null,
   "id": "e7c6977e",
   "metadata": {},
   "outputs": [],
   "source": [
    "populations_2  %>% colnames"
   ]
  },
  {
   "cell_type": "code",
   "execution_count": null,
   "id": "60b598ca",
   "metadata": {},
   "outputs": [],
   "source": [
    "populations_2  %>% ncol"
   ]
  },
  {
   "cell_type": "code",
   "execution_count": null,
   "id": "0bd39fc3",
   "metadata": {},
   "outputs": [],
   "source": [
    "md3  <- populations_2  %>% \n",
    "ungroup  %>% \n",
    "dplyr::select(-Main)  %>% \n",
    "mutate(annotations = paste(Level, annotations))  %>% \n",
    "dplyr::select(6,7,10,12,2,22,16)  %>% \n",
    "dplyr::filter(prelim_final == \"Final\")  %>% \n",
    "unique  %>% \n",
    "pivot_wider(names_from = \"annotations\", values_from = \"freq_from_total\")"
   ]
  },
  {
   "cell_type": "code",
   "execution_count": null,
   "id": "750ec83c",
   "metadata": {},
   "outputs": [],
   "source": [
    "md3"
   ]
  },
  {
   "cell_type": "code",
   "execution_count": null,
   "id": "59a5e2e0",
   "metadata": {},
   "outputs": [],
   "source": [
    "md_cpept_orig  <- read_xlsx(\"../data/metadata_v06.xlsx\") "
   ]
  },
  {
   "cell_type": "code",
   "execution_count": null,
   "id": "60b6c84d",
   "metadata": {},
   "outputs": [],
   "source": [
    "colnames(md_cpept_orig)"
   ]
  },
  {
   "cell_type": "code",
   "execution_count": null,
   "id": "0e7a88b5",
   "metadata": {},
   "outputs": [],
   "source": [
    "md_cpept  <- read_xlsx(\"../data/metadata_v06.xlsx\")  %>% \n",
    "mutate(Patient_Time = paste(patient, time_taken))  %>% \n",
    "       dplyr::select(Patient_Time, fasting_cpept_T1, fasting_cpept_1, c_peptide_chang)  %>% unique"
   ]
  },
  {
   "cell_type": "code",
   "execution_count": null,
   "id": "85e71401",
   "metadata": {
    "scrolled": true
   },
   "outputs": [],
   "source": [
    "md_cpept   <- md_cpept  %>% mutate(group = substr(Patient_Time,1,1))  %>% filter(group == 1)"
   ]
  },
  {
   "cell_type": "code",
   "execution_count": null,
   "id": "f6f3f8f5",
   "metadata": {
    "scrolled": true
   },
   "outputs": [],
   "source": [
    "md_cpept"
   ]
  },
  {
   "cell_type": "code",
   "execution_count": null,
   "id": "385bcf18",
   "metadata": {},
   "outputs": [],
   "source": [
    "md3  <- md3  %>% separate(Condition, into = c(\"Disease\", \"Time\"), remove = F, sep = \" \")"
   ]
  },
  {
   "cell_type": "code",
   "execution_count": null,
   "id": "9cc079d5",
   "metadata": {},
   "outputs": [],
   "source": [
    "md3$Patient_Time  <- paste(md3$Patient_ID, md3$Time)"
   ]
  },
  {
   "cell_type": "code",
   "execution_count": null,
   "id": "f3fa4434",
   "metadata": {
    "scrolled": true
   },
   "outputs": [],
   "source": [
    "md4  <- md_cpept  %>% left_join(md3)  %>% dplyr::filter(!is.na(fasting_cpept_T1))"
   ]
  },
  {
   "cell_type": "code",
   "execution_count": null,
   "id": "4ffd03c6",
   "metadata": {
    "scrolled": true
   },
   "outputs": [],
   "source": [
    "md4 "
   ]
  },
  {
   "cell_type": "code",
   "execution_count": null,
   "id": "99f07894",
   "metadata": {},
   "outputs": [],
   "source": [
    "population_colnames  <- which(substr(colnames(md4),start = 1,stop = 1) == \"L\")"
   ]
  },
  {
   "cell_type": "code",
   "execution_count": null,
   "id": "7adb8abe",
   "metadata": {},
   "outputs": [],
   "source": [
    "population_colnames  %>% length"
   ]
  },
  {
   "cell_type": "code",
   "execution_count": null,
   "id": "6e86cde9",
   "metadata": {},
   "outputs": [],
   "source": [
    "which(colnames(md4) == \"fasting_cpept_1\")"
   ]
  },
  {
   "cell_type": "code",
   "execution_count": null,
   "id": "372e9822",
   "metadata": {
    "scrolled": true
   },
   "outputs": [],
   "source": [
    "md4"
   ]
  },
  {
   "cell_type": "code",
   "execution_count": null,
   "id": "7faa3039",
   "metadata": {},
   "outputs": [],
   "source": [
    "calc_correlation  <- function(i){\n",
    "    df  <- md4  %>% dplyr::select(i,2)  %>% filter(!is.na(2))\n",
    "    colnames(df)  <- c(\"value\",\"fasting_cpept_t1\")\n",
    "    cor  <- cor.test(df$value, df$fasting_cpept_t1)\n",
    "    res_df1  <- data.frame(population = colnames(md4)[i], \n",
    "                          cor = cor$estimate, \n",
    "                          pval = cor$p.value, \n",
    "                         padj  = ifelse(cor$p.value*102>1,1,cor$p.value*102),\n",
    "                         test = \"fasting_cpept_T1\")\n",
    "    \n",
    "    df  <- md4  %>% dplyr::select(i,3)  %>% filter(!is.na(3))\n",
    "    colnames(df)  <- c(\"value\",\"fasting_cpept_1\")\n",
    "    cor  <- cor.test(df$value, df$fasting_cpept_1)\n",
    "    res_df2  <- data.frame(population = colnames(md4)[i], \n",
    "                          cor = cor$estimate, \n",
    "                          pval = cor$p.value, \n",
    "                         padj  = ifelse(cor$p.value*102>1,1,cor$p.value*102),\n",
    "                         test = \"fasting_cpept\")\n",
    "    \n",
    "    df  <- md4  %>% dplyr::select(i,4)  %>% filter(!is.na(4))\n",
    "    colnames(df)  <- c(\"value\",\"c_peptide_change\")\n",
    "    cor  <- cor.test(df$value, df$c_peptide_change)\n",
    "    res_df3  <- data.frame(population = colnames(md4)[i], \n",
    "                          cor = cor$estimate, \n",
    "                          pval = cor$p.value, \n",
    "                         padj  = ifelse(cor$p.value*102>1,1,cor$p.value*102),\n",
    "                         test = \"c_peptide_change\")\n",
    "    \n",
    "    res_df  <- rbind(res_df1, res_df2, res_df3)\n",
    "    return(res_df)\n",
    "}"
   ]
  },
  {
   "cell_type": "code",
   "execution_count": null,
   "id": "2673379a",
   "metadata": {},
   "outputs": [],
   "source": [
    "populations_corr  <- future_map(population_colnames, calc_correlation)"
   ]
  },
  {
   "cell_type": "code",
   "execution_count": null,
   "id": "7acbf44b",
   "metadata": {},
   "outputs": [],
   "source": [
    "populations_corr  <- bind_rows(populations_corr)"
   ]
  },
  {
   "cell_type": "code",
   "execution_count": null,
   "id": "51410dd8",
   "metadata": {
    "scrolled": true
   },
   "outputs": [],
   "source": [
    "populations_corr  %>% arrange(pval)"
   ]
  },
  {
   "cell_type": "markdown",
   "id": "d3ae3982",
   "metadata": {},
   "source": [
    "## L2 CD4"
   ]
  },
  {
   "cell_type": "code",
   "execution_count": null,
   "id": "74e2ad22",
   "metadata": {},
   "outputs": [],
   "source": [
    "population_colnames_l2  <- which(substr(colnames(md4),start = 1,stop = 2) == \"L2\" &\n",
    "                                 grepl(colnames(md4), pattern = \"CD4\"))"
   ]
  },
  {
   "cell_type": "code",
   "execution_count": null,
   "id": "582025f7",
   "metadata": {},
   "outputs": [],
   "source": [
    "population_colnames_l2"
   ]
  },
  {
   "cell_type": "code",
   "execution_count": null,
   "id": "e0017cda",
   "metadata": {
    "scrolled": true
   },
   "outputs": [],
   "source": [
    "md4"
   ]
  },
  {
   "cell_type": "code",
   "execution_count": null,
   "id": "27b92b3a",
   "metadata": {},
   "outputs": [],
   "source": [
    "calc_correlation  <- function(i){\n",
    "    df  <- md4  %>% dplyr::select(i,2)  %>% filter(!is.na(2))\n",
    "   colnames(df)  <- c(\"value\",\"fasting_cpept_t1\")\n",
    "    cor  <- cor.test(df$value, df$fasting_cpept_t1)\n",
    "    res_df1  <- data.frame(population = colnames(md4)[i], \n",
    "                          cor = cor$estimate, \n",
    "                          pval = cor$p.value, \n",
    "                         padj  = ifelse(cor$p.value*10>1,1,cor$p.value*10),\n",
    "                         test = \"fasting_cpept_T1\")\n",
    "    \n",
    "    df  <- md4  %>% dplyr::select(i,3)  %>% filter(!is.na(3))\n",
    "    colnames(df)  <- c(\"value\",\"fasting_cpept_1\")\n",
    "    cor  <- cor.test(df$value, df$fasting_cpept_1)\n",
    "    res_df2  <- data.frame(population = colnames(md4)[i], \n",
    "                          cor = cor$estimate, \n",
    "                          pval = cor$p.value, \n",
    "                         padj  = ifelse(cor$p.value*10>1,1,cor$p.value*10),\n",
    "                         test = \"fasting_cpept\")\n",
    "    \n",
    "    df  <- md4  %>% dplyr::select(i,4)  %>% filter(!is.na(4))\n",
    "    colnames(df)  <- c(\"value\",\"c_peptide_change\")\n",
    "    cor  <- cor.test(df$value, df$c_peptide_change)\n",
    "    res_df3  <- data.frame(population = colnames(md4)[i], \n",
    "                          cor = cor$estimate, \n",
    "                          pval = cor$p.value, \n",
    "                         padj  = ifelse(cor$p.value*10>1,1,cor$p.value*10),\n",
    "                         test = \"c_peptide_change\")\n",
    "    \n",
    "    res_df  <- rbind(res_df1, res_df2, res_df3)\n",
    "    return(res_df)\n",
    "}"
   ]
  },
  {
   "cell_type": "code",
   "execution_count": null,
   "id": "1a11773d",
   "metadata": {},
   "outputs": [],
   "source": [
    "populations_corr_cd4  <- future_map(population_colnames_l2, calc_correlation)"
   ]
  },
  {
   "cell_type": "code",
   "execution_count": null,
   "id": "72f691e1",
   "metadata": {
    "scrolled": true
   },
   "outputs": [],
   "source": [
    "populations_corr  <- bind_rows(populations_corr_cd4)\n",
    "\n",
    "populations_corr  %>% arrange(pval)"
   ]
  },
  {
   "cell_type": "code",
   "execution_count": null,
   "id": "c481e215",
   "metadata": {},
   "outputs": [],
   "source": [
    "populations_corr  <- populations_corr  %>% mutate(population = gsub(population, pattern = \"L2 CD4 T cells---\", replacement = \"\"))  %>% \n",
    "    mutate(population = gsub(population, pattern = \"L2 CD4 Unconventional T cells---\", replacement = \"\"))"
   ]
  },
  {
   "cell_type": "code",
   "execution_count": null,
   "id": "576fce27",
   "metadata": {},
   "outputs": [],
   "source": [
    "options(repr.plot.width = 36, repr.plot.height = 7)\n",
    "populations_corr  %>% \n",
    "dplyr::filter(test == \"c_peptide_change\")  %>% \n",
    "arrange(cor)  %>% \n",
    "ggplot(aes(x = test, y = reorder(population, cor))) +\n",
    "geom_point(aes(size = -log(pval), color = cor)) + \n",
    "facet_wrap(~test) +\n",
    "ylab(\"\") + xlab(\"\") +\n",
    "scale_color_gradient2(low = \"blue\", mid = \"white\", high = \"red\") + \n",
    "theme_classic() + ggtheme() + theme(axis.text.x = element_text(angle = 90)) +\n",
    "\n",
    "populations_corr  %>% \n",
    "dplyr::filter(test == \"fasting_cpept_T1\")  %>% \n",
    "arrange(cor)  %>% \n",
    "ggplot(aes(x = test, y = reorder(population, cor))) +\n",
    "geom_point(aes(size = -log(pval), color = cor)) + \n",
    "facet_wrap(~test) +\n",
    "ylab(\"\") + xlab(\"\") +\n",
    "scale_color_gradient2(low = \"blue\", mid = \"white\", high = \"red\") + \n",
    "theme_classic() + ggtheme() + theme(axis.text.x = element_text(angle = 90)) +\n",
    "\n",
    "populations_corr  %>% \n",
    "dplyr::filter(test == \"fasting_cpept\")  %>% \n",
    "arrange(cor)  %>% \n",
    "ggplot(aes(x = test, y = reorder(population, cor))) +\n",
    "geom_point(aes(size = -log(pval), color = cor)) + \n",
    "facet_wrap(~test) +\n",
    "ylab(\"\") + xlab(\"\") +\n",
    "scale_color_gradient2(low = \"blue\", mid = \"white\", high = \"red\") + \n",
    "theme_classic() + ggtheme() + theme(axis.text.x = element_text(angle = 90)) "
   ]
  },
  {
   "cell_type": "code",
   "execution_count": null,
   "id": "dfbb1fce",
   "metadata": {},
   "outputs": [],
   "source": [
    "ggsave(\"../figures/populations_correlations/population_correlations_L2_cd4.png\", width = 72, height = 15, units = \"cm\", create.dir = TRUE)\n",
    "ggsave(\"../figures/populations_correlations/population_correlations_L2_cd4.svg\", width = 72, height = 15, units = \"cm\")"
   ]
  },
  {
   "cell_type": "code",
   "execution_count": null,
   "id": "76728630",
   "metadata": {},
   "outputs": [],
   "source": []
  },
  {
   "cell_type": "markdown",
   "id": "e5d4b1fa",
   "metadata": {},
   "source": [
    "## L2 CD8"
   ]
  },
  {
   "cell_type": "code",
   "execution_count": null,
   "id": "ce85d785",
   "metadata": {},
   "outputs": [],
   "source": [
    "population_colnames_l2  <- which(substr(colnames(md4),start = 1,stop = 2) == \"L2\" &\n",
    "                                 grepl(colnames(md4), pattern = \"CD8\"))"
   ]
  },
  {
   "cell_type": "code",
   "execution_count": null,
   "id": "ea41d918",
   "metadata": {},
   "outputs": [],
   "source": [
    "population_colnames_l2"
   ]
  },
  {
   "cell_type": "code",
   "execution_count": null,
   "id": "c7ebbba9",
   "metadata": {
    "scrolled": true
   },
   "outputs": [],
   "source": [
    "md4"
   ]
  },
  {
   "cell_type": "code",
   "execution_count": null,
   "id": "7e199891",
   "metadata": {},
   "outputs": [],
   "source": [
    "calc_correlation  <- function(i){\n",
    "    df  <- md4  %>% dplyr::select(i,2)  %>% filter(!is.na(2))\n",
    "   colnames(df)  <- c(\"value\",\"fasting_cpept_t1\")\n",
    "    cor  <- cor.test(df$value, df$fasting_cpept_t1)\n",
    "    res_df1  <- data.frame(population = colnames(md4)[i], \n",
    "                          cor = cor$estimate, \n",
    "                          pval = cor$p.value, \n",
    "                         padj  = ifelse(cor$p.value*10>1,1,cor$p.value*10),\n",
    "                         test = \"fasting_cpept_T1\")\n",
    "    \n",
    "    df  <- md4  %>% dplyr::select(i,3)  %>% filter(!is.na(3))\n",
    "    colnames(df)  <- c(\"value\",\"fasting_cpept_1\")\n",
    "    cor  <- cor.test(df$value, df$fasting_cpept_1)\n",
    "    res_df2  <- data.frame(population = colnames(md4)[i], \n",
    "                          cor = cor$estimate, \n",
    "                          pval = cor$p.value, \n",
    "                         padj  = ifelse(cor$p.value*10>1,1,cor$p.value*10),\n",
    "                         test = \"fasting_cpept\")\n",
    "    \n",
    "    df  <- md4  %>% dplyr::select(i,4)  %>% filter(!is.na(4))\n",
    "    colnames(df)  <- c(\"value\",\"c_peptide_change\")\n",
    "    cor  <- cor.test(df$value, df$c_peptide_change)\n",
    "    res_df3  <- data.frame(population = colnames(md4)[i], \n",
    "                          cor = cor$estimate, \n",
    "                          pval = cor$p.value, \n",
    "                         padj  = ifelse(cor$p.value*10>1,1,cor$p.value*10),\n",
    "                         test = \"c_peptide_change\")\n",
    "    \n",
    "    res_df  <- rbind(res_df1, res_df2, res_df3)\n",
    "    return(res_df)\n",
    "}"
   ]
  },
  {
   "cell_type": "code",
   "execution_count": null,
   "id": "971f3818",
   "metadata": {},
   "outputs": [],
   "source": [
    "populations_corr_cd8  <- future_map(population_colnames_l2, calc_correlation)"
   ]
  },
  {
   "cell_type": "code",
   "execution_count": null,
   "id": "12f4a722",
   "metadata": {
    "scrolled": true
   },
   "outputs": [],
   "source": [
    "populations_corr  <- bind_rows(populations_corr_cd8)\n",
    "\n",
    "populations_corr  %>% arrange(pval)"
   ]
  },
  {
   "cell_type": "code",
   "execution_count": null,
   "id": "5eb9d50e",
   "metadata": {},
   "outputs": [],
   "source": [
    "populations_corr  <- populations_corr  %>% mutate(population = gsub(population, pattern = \"L2 CD8 T cells---\", replacement = \"\"))  %>% \n",
    "    mutate(population = gsub(population, pattern = \"L2 CD8 Unconventional T cells---\", replacement = \"\"))"
   ]
  },
  {
   "cell_type": "code",
   "execution_count": null,
   "id": "6ddba87e",
   "metadata": {},
   "outputs": [],
   "source": [
    "options(repr.plot.width = 36, repr.plot.height = 7)\n",
    "populations_corr  %>% \n",
    "dplyr::filter(test == \"c_peptide_change\")  %>% \n",
    "arrange(cor)  %>% \n",
    "ggplot(aes(x = test, y = reorder(population, cor))) +\n",
    "geom_point(aes(size = -log(pval), color = cor)) + \n",
    "facet_wrap(~test) +\n",
    "ylab(\"\") + xlab(\"\") +\n",
    "scale_color_gradient2(low = \"blue\", mid = \"white\", high = \"red\") + \n",
    "theme_classic() + ggtheme() + theme(axis.text.x = element_text(angle = 90)) +\n",
    "\n",
    "populations_corr  %>% \n",
    "dplyr::filter(test == \"fasting_cpept_T1\")  %>% \n",
    "arrange(cor)  %>% \n",
    "ggplot(aes(x = test, y = reorder(population, cor))) +\n",
    "geom_point(aes(size = -log(pval), color = cor)) + \n",
    "facet_wrap(~test) +\n",
    "ylab(\"\") + xlab(\"\") +\n",
    "scale_color_gradient2(low = \"blue\", mid = \"white\", high = \"red\") + \n",
    "theme_classic() + ggtheme() + theme(axis.text.x = element_text(angle = 90)) +\n",
    "\n",
    "populations_corr  %>% \n",
    "dplyr::filter(test == \"fasting_cpept\")  %>% \n",
    "arrange(cor)  %>% \n",
    "ggplot(aes(x = test, y = reorder(population, cor))) +\n",
    "geom_point(aes(size = -log(pval), color = cor)) + \n",
    "facet_wrap(~test) +\n",
    "ylab(\"\") + xlab(\"\") +\n",
    "scale_color_gradient2(low = \"blue\", mid = \"white\", high = \"red\") + \n",
    "theme_classic() + ggtheme() + theme(axis.text.x = element_text(angle = 90)) "
   ]
  },
  {
   "cell_type": "code",
   "execution_count": null,
   "id": "26fe7092",
   "metadata": {},
   "outputs": [],
   "source": [
    "ggsave(\"../figures/populations_correlations/population_correlations_L2_cd8.png\", width = 72, height = 15, units = \"cm\", create.dir = TRUE)\n",
    "ggsave(\"../figures/populations_correlations/population_correlations_L2_cd8.svg\", width = 72, height = 15, units = \"cm\")"
   ]
  },
  {
   "cell_type": "code",
   "execution_count": null,
   "id": "4cf58cd6",
   "metadata": {},
   "outputs": [],
   "source": []
  },
  {
   "cell_type": "markdown",
   "id": "42cc7bc9",
   "metadata": {},
   "source": [
    "# Treg vs cpept"
   ]
  },
  {
   "cell_type": "code",
   "execution_count": null,
   "id": "5c4e14ac",
   "metadata": {},
   "outputs": [],
   "source": [
    "population_colnames_l3  <- which(substr(colnames(md4),start = 1,stop = 2) == \"L3\")"
   ]
  },
  {
   "cell_type": "code",
   "execution_count": null,
   "id": "f9f1da90",
   "metadata": {},
   "outputs": [],
   "source": [
    "population_colnames_l3"
   ]
  },
  {
   "cell_type": "code",
   "execution_count": null,
   "id": "01a2dd94",
   "metadata": {},
   "outputs": [],
   "source": [
    "calc_correlation  <- function(i){\n",
    "    df  <- md4  %>% dplyr::select(i,2)  %>% filter(!is.na(2))\n",
    "   colnames(df)  <- c(\"value\",\"fasting_cpept_t1\")\n",
    "    cor  <- cor.test(df$value, df$fasting_cpept_t1)\n",
    "    res_df1  <- data.frame(population = colnames(md4)[i], \n",
    "                          cor = cor$estimate, \n",
    "                          pval = cor$p.value, \n",
    "                         padj  = ifelse(cor$p.value*10>1,1,cor$p.value*10),\n",
    "                         test = \"fasting_cpept_T1\")\n",
    "    \n",
    "    df  <- md4  %>% dplyr::select(i,3)  %>% filter(!is.na(3))\n",
    "    colnames(df)  <- c(\"value\",\"fasting_cpept_1\")\n",
    "    cor  <- cor.test(df$value, df$fasting_cpept_1)\n",
    "    res_df2  <- data.frame(population = colnames(md4)[i], \n",
    "                          cor = cor$estimate, \n",
    "                          pval = cor$p.value, \n",
    "                         padj  = ifelse(cor$p.value*10>1,1,cor$p.value*10),\n",
    "                         test = \"fasting_cpept\")\n",
    "    \n",
    "    df  <- md4  %>% dplyr::select(i,4)  %>% filter(!is.na(4))\n",
    "    colnames(df)  <- c(\"value\",\"c_peptide_change\")\n",
    "    cor  <- cor.test(df$value, df$c_peptide_change)\n",
    "    res_df3  <- data.frame(population = colnames(md4)[i], \n",
    "                          cor = cor$estimate, \n",
    "                          pval = cor$p.value, \n",
    "                         padj  = ifelse(cor$p.value*10>1,1,cor$p.value*10),\n",
    "                         test = \"c_peptide_change\")\n",
    "    \n",
    "    res_df  <- rbind(res_df1, res_df2, res_df3)\n",
    "    return(res_df)\n",
    "}"
   ]
  },
  {
   "cell_type": "code",
   "execution_count": null,
   "id": "cced3d3e",
   "metadata": {},
   "outputs": [],
   "source": [
    "populations_corr_l3  <- future_map(population_colnames_l3, calc_correlation)"
   ]
  },
  {
   "cell_type": "code",
   "execution_count": null,
   "id": "0c22cfe5",
   "metadata": {},
   "outputs": [],
   "source": [
    "populations_corr  <- bind_rows(populations_corr_l3)"
   ]
  },
  {
   "cell_type": "code",
   "execution_count": null,
   "id": "debc5ea8",
   "metadata": {
    "scrolled": true
   },
   "outputs": [],
   "source": [
    "populations_corr  %>% filter(grepl(populations_corr$population, pattern = \"Treg\"))"
   ]
  },
  {
   "cell_type": "code",
   "execution_count": null,
   "id": "398ec8fe",
   "metadata": {
    "scrolled": true
   },
   "outputs": [],
   "source": [
    "md4"
   ]
  },
  {
   "cell_type": "code",
   "execution_count": null,
   "id": "31e6ae3e",
   "metadata": {},
   "outputs": [],
   "source": [
    "ls()"
   ]
  },
  {
   "cell_type": "code",
   "execution_count": null,
   "id": "f24988be",
   "metadata": {},
   "outputs": [],
   "source": [
    "options(repr.plot.width = 12, repr.plot.height = 5)\n",
    "j = 1\n",
    "for(i in (populations_corr  %>% filter(grepl(population, pattern = \"Treg\"))  %>% \n",
    "           pull(population))[1:12]  %>% unique){\n",
    "    df2 <- md4  %>% dplyr::select(which(colnames(md4)==i), \n",
    "                                  fasting_cpept_T1 = 2, \n",
    "                                  fasting_cpept_1 = 3,\n",
    "                                  c_peptide_change = 4) \n",
    "    colnames(df2)[1]  <- c(\"value\")\n",
    "  p1 <-  df2 %>%  ggplot(aes(x=value, y=fasting_cpept_T1)) +\n",
    "  geom_point(shape = 16, size = 2) +\n",
    "  geom_smooth(method=lm, alpha = 0.2) + ggtitle(gsub(i, pattern = \"L3 CD4 T cells---Treg---\", replacement = \" \")) + \n",
    "stat_cor(size = 7) + theme_classic() + ggtheme() \n",
    "\n",
    "    p2 <-  df2 %>%  ggplot(aes(x=value, y=fasting_cpept_1)) +\n",
    "  geom_point(shape = 16, size = 2) +\n",
    "  geom_smooth(method=lm, alpha = 0.2) + ggtitle(\" \") + \n",
    "stat_cor(size = 7) + theme_classic() + ggtheme() \n",
    "\n",
    "    p3 <-  df2 %>%  ggplot(aes(x=value, y=c_peptide_change)) +\n",
    "  geom_point(shape = 16, size = 2) +\n",
    "  geom_smooth(method=lm, alpha = 0.2) + ggtitle(\" \") + \n",
    "stat_cor(size = 7) + theme_classic() + ggtheme() \n",
    "\n",
    "    print(p1 + p2 + p3)\n",
    "    j = j+1\n",
    "library(svglite)\n",
    "dir.create(\"../figures/correlation_populations/\")\n",
    "ggsave(filename = paste0(\"../figures/correlation_populations/\",i,\".svg\"), width = 12, height = 4)\n",
    "    }"
   ]
  },
  {
   "cell_type": "markdown",
   "id": "cf0abfcd",
   "metadata": {},
   "source": [
    "### Both patient samples t1 and T0"
   ]
  },
  {
   "cell_type": "code",
   "execution_count": null,
   "id": "f985503a",
   "metadata": {},
   "outputs": [],
   "source": [
    "md5  <- md_cpept  %>% left_join(md3)  %>% dplyr::filter(!is.na(fasting_cpept_1))"
   ]
  },
  {
   "cell_type": "code",
   "execution_count": null,
   "id": "76ced41b",
   "metadata": {},
   "outputs": [],
   "source": [
    "population_colnames_l3  <- which(substr(colnames(md5),start = 1,stop = 2) == \"L3\")"
   ]
  },
  {
   "cell_type": "code",
   "execution_count": null,
   "id": "45f13ebb",
   "metadata": {},
   "outputs": [],
   "source": [
    "population_colnames_l3"
   ]
  },
  {
   "cell_type": "code",
   "execution_count": null,
   "id": "265488d1",
   "metadata": {},
   "outputs": [],
   "source": [
    "calc_correlation  <- function(i){\n",
    "    df  <- md5  %>% dplyr::select(i,2)  %>% filter(!is.na(2))\n",
    "   colnames(df)  <- c(\"value\",\"fasting_cpept_t1\")\n",
    "    cor  <- cor.test(df$value, df$fasting_cpept_t1)\n",
    "    res_df1  <- data.frame(population = colnames(md4)[i], \n",
    "                          cor = cor$estimate, \n",
    "                          pval = cor$p.value, \n",
    "                         padj  = ifelse(cor$p.value*10>1,1,cor$p.value*10),\n",
    "                         test = \"fasting_cpept_T1\")\n",
    "    \n",
    "    df  <- md5  %>% dplyr::select(i,3)  %>% filter(!is.na(3))\n",
    "    colnames(df)  <- c(\"value\",\"fasting_cpept_1\")\n",
    "    cor  <- cor.test(df$value, df$fasting_cpept_1)\n",
    "    res_df2  <- data.frame(population = colnames(md4)[i], \n",
    "                          cor = cor$estimate, \n",
    "                          pval = cor$p.value, \n",
    "                         padj  = ifelse(cor$p.value*10>1,1,cor$p.value*10),\n",
    "                         test = \"fasting_cpept\")\n",
    "    \n",
    "    df  <- md5  %>% dplyr::select(i,4)  %>% filter(!is.na(4))\n",
    "    colnames(df)  <- c(\"value\",\"c_peptide_change\")\n",
    "    cor  <- cor.test(df$value, df$c_peptide_change)\n",
    "    res_df3  <- data.frame(population = colnames(md4)[i], \n",
    "                          cor = cor$estimate, \n",
    "                          pval = cor$p.value, \n",
    "                         padj  = ifelse(cor$p.value*10>1,1,cor$p.value*10),\n",
    "                         test = \"c_peptide_change\")\n",
    "    \n",
    "    res_df  <- rbind(res_df1, res_df2, res_df3)\n",
    "    return(res_df)\n",
    "}"
   ]
  },
  {
   "cell_type": "code",
   "execution_count": null,
   "id": "f3f4a743",
   "metadata": {},
   "outputs": [],
   "source": [
    "populations_corr_l3  <- future_map(population_colnames_l3, calc_correlation)"
   ]
  },
  {
   "cell_type": "code",
   "execution_count": null,
   "id": "c0ce7abf",
   "metadata": {},
   "outputs": [],
   "source": [
    "populations_corr  <- bind_rows(populations_corr_l3)"
   ]
  },
  {
   "cell_type": "code",
   "execution_count": null,
   "id": "8f8a14b4",
   "metadata": {
    "scrolled": true
   },
   "outputs": [],
   "source": [
    "populations_corr  %>% filter(grepl(populations_corr$population, pattern = \"Treg\"))"
   ]
  },
  {
   "cell_type": "code",
   "execution_count": null,
   "id": "192795f6",
   "metadata": {
    "scrolled": true
   },
   "outputs": [],
   "source": [
    "options(repr.plot.width = 12, repr.plot.height = 5)\n",
    "j = 1\n",
    "for(i in (populations_corr  %>% filter(grepl(population, pattern = \"Treg\"))  %>% \n",
    "          arrange(pval)  %>% pull(population))[1:12]){\n",
    "    df2 <- md5  %>% dplyr::select(which(colnames(md5)==i), \n",
    "                                  fasting_cpept_T1 = 2, \n",
    "                                  fasting_cpept_1 = 3,\n",
    "                                  c_peptide_change = 4) \n",
    "    colnames(df2)[1]  <- c(\"value\")\n",
    "  p1 <-  df2 %>%  ggplot(aes(x=value, y=fasting_cpept_T1)) +\n",
    "  geom_point(shape = 16, size = 2) +\n",
    "  geom_smooth(method=lm, alpha = 0.2) + ggtitle(gsub(i, pattern = \"L3 CD4 T cells---Treg---\", replacement = \" \")) + \n",
    "stat_cor(size = 7) + theme_classic() + ggtheme() \n",
    "\n",
    "    p2 <-  df2 %>%  ggplot(aes(x=value, y=fasting_cpept_1)) +\n",
    "  geom_point(shape = 16, size = 2) +\n",
    "  geom_smooth(method=lm, alpha = 0.2) + ggtitle(\" \") + \n",
    "stat_cor(size = 7) + theme_classic() + ggtheme() \n",
    "\n",
    "    p3 <-  df2 %>%  ggplot(aes(x=value, y=c_peptide_change)) +\n",
    "  geom_point(shape = 16, size = 2) +\n",
    "  geom_smooth(method=lm, alpha = 0.2) + ggtitle(\" \") + \n",
    "stat_cor(size = 7) + theme_classic() + ggtheme() \n",
    "\n",
    "    print(p1 + p2 + p3)\n",
    "    j = j+1\n",
    "#library(svglite)\n",
    "#dir.create(\"../figures/correlation_populations/\")\n",
    "#ggsave(filename = paste0(\"../figures/correlation_populations/\",i,\".svg\"), width = 5, height = 4.5)\n",
    "    }"
   ]
  },
  {
   "cell_type": "code",
   "execution_count": null,
   "id": "132eff92",
   "metadata": {},
   "outputs": [],
   "source": []
  },
  {
   "cell_type": "code",
   "execution_count": null,
   "id": "ca508da8",
   "metadata": {},
   "outputs": [],
   "source": []
  },
  {
   "cell_type": "code",
   "execution_count": null,
   "id": "bfb0f751",
   "metadata": {},
   "outputs": [],
   "source": []
  },
  {
   "cell_type": "code",
   "execution_count": null,
   "id": "35c2c5f5",
   "metadata": {},
   "outputs": [],
   "source": []
  },
  {
   "cell_type": "code",
   "execution_count": null,
   "id": "6697daf1",
   "metadata": {},
   "outputs": [],
   "source": []
  },
  {
   "cell_type": "markdown",
   "id": "345d3da4",
   "metadata": {},
   "source": [
    "### Age"
   ]
  },
  {
   "cell_type": "code",
   "execution_count": null,
   "id": "f3811c41",
   "metadata": {},
   "outputs": [],
   "source": [
    "md3"
   ]
  },
  {
   "cell_type": "code",
   "execution_count": null,
   "id": "6d908cfe",
   "metadata": {},
   "outputs": [],
   "source": [
    "population_colnames  <- which(substr(colnames(md4),start = 1,stop = 1) == \"L\")"
   ]
  },
  {
   "cell_type": "code",
   "execution_count": null,
   "id": "8f918aeb",
   "metadata": {},
   "outputs": [],
   "source": [
    "population_colnames  %>% length"
   ]
  },
  {
   "cell_type": "code",
   "execution_count": null,
   "id": "c5bdaeaa",
   "metadata": {},
   "outputs": [],
   "source": [
    "which(colnames(md4) == \"Age\")"
   ]
  },
  {
   "cell_type": "code",
   "execution_count": null,
   "id": "2c958736",
   "metadata": {},
   "outputs": [],
   "source": [
    "calc_correlation  <- function(i){\n",
    "    df  <- md4  %>% dplyr::select(i,5)  %>% filter(!is.na(5))\n",
    "    colnames(df)  <- c(\"value\",\"fasting_cpept_1\")\n",
    "    cor  <- cor.test(df$value, df$fasting_cpept_1)\n",
    "    res_df  <- data.frame(population = colnames(md4)[i], \n",
    "                          cor = cor$estimate, \n",
    "                          pval = cor$p.value, \n",
    "                         padj  = ifelse(cor$p.value*102>1,1,cor$p.value*102))\n",
    "    return(res_df)\n",
    "}"
   ]
  },
  {
   "cell_type": "code",
   "execution_count": null,
   "id": "465702a8",
   "metadata": {},
   "outputs": [],
   "source": [
    "populations_corr  <- future_map(population_colnames, calc_correlation)"
   ]
  },
  {
   "cell_type": "code",
   "execution_count": null,
   "id": "d4d4b7ae",
   "metadata": {},
   "outputs": [],
   "source": [
    "populations_corr_age  <- bind_rows(populations_corr)"
   ]
  },
  {
   "cell_type": "code",
   "execution_count": null,
   "id": "24ce1666",
   "metadata": {
    "scrolled": true
   },
   "outputs": [],
   "source": [
    "populations_corr_age  %>% arrange(pval)"
   ]
  },
  {
   "cell_type": "code",
   "execution_count": null,
   "id": "3c8a02e6",
   "metadata": {
    "scrolled": true
   },
   "outputs": [],
   "source": [
    "options(repr.plot.width = 4, repr.plot.height = 4)\n",
    "j = 1\n",
    "for(i in (populations_corr_age  %>% arrange(pval)  %>% pull(population))[1:10]){\n",
    "    df2 <- md4  %>% dplyr::select(which(colnames(md4)==i), Age = 5) \n",
    "    colnames(df2)  <- c(\"value\", \"Age\")\n",
    "  p <-  df2 %>%  ggplot(aes(x=value, y=Age)) +\n",
    "  geom_point(shape = 16, size = 2) +\n",
    "  geom_smooth(method=lm, alpha = 0.2) + ggtitle(gsub(str_to_upper(i), pattern = \"_\", replacement = \" \")) + \n",
    "stat_cor(size = 7) + theme_classic() + ggtheme() \n",
    " p <-   print(p)\n",
    "    j = j+1\n",
    "#library(svglite)\n",
    "#dir.create(\"../figures/correlation_populations/\")\n",
    "#ggsave(filename = paste0(\"../figures/correlation_populations/\",i,\".svg\"), width = 5, height = 4.5)\n",
    "    }"
   ]
  },
  {
   "cell_type": "code",
   "execution_count": null,
   "id": "208119f2",
   "metadata": {},
   "outputs": [],
   "source": []
  },
  {
   "cell_type": "markdown",
   "id": "a88f0bc5",
   "metadata": {},
   "source": [
    "## All correlations plot"
   ]
  },
  {
   "cell_type": "code",
   "execution_count": null,
   "id": "c7f765d6",
   "metadata": {},
   "outputs": [],
   "source": [
    "populations_corr_age$test  <- \"Age\" \n",
    "populations_corr_cpept_change$test  <- \"cpept_change\"\n",
    "populations_corr_fasting_cpept$test  <- \"fasting_cpept\"\n",
    "populations_corr_idaa1c$test  <- \"idaa1c\"\n",
    "populations_corr_pH$test  <- \"pH\"\n"
   ]
  },
  {
   "cell_type": "code",
   "execution_count": null,
   "id": "274e984a",
   "metadata": {},
   "outputs": [],
   "source": [
    "all_correlations  <- rbind(populations_corr_age, populations_corr_cpept_change,\n",
    "                       populations_corr_fasting_cpept, populations_corr_idaa1c,\n",
    "                      populations_corr_pH)"
   ]
  },
  {
   "cell_type": "code",
   "execution_count": null,
   "id": "d5edb0b9",
   "metadata": {
    "scrolled": true
   },
   "outputs": [],
   "source": [
    "options(repr.plot.width = 14, repr.plot.height = 30)\n",
    "\n",
    "all_correlations  %>% ggplot(aes(x = test, y = population)) +\n",
    "geom_point(aes(size = -log(pval), color = cor)) + \n",
    "scale_color_gradient2(low = \"blue\", mid = \"white\", high = \"red\") + \n",
    "theme_classic() + ggtheme() + theme(axis.text.x = element_text(angle = 90))"
   ]
  },
  {
   "cell_type": "code",
   "execution_count": null,
   "id": "48befe40",
   "metadata": {},
   "outputs": [],
   "source": [
    "matrix  <- all_correlations  %>% dplyr::select(cor, population, test)  %>% \n",
    "pivot_wider(names_from = \"population\", values_from = \"cor\")  %>% \n",
    "column_to_rownames(\"test\")  %>% as.matrix  %>% t()"
   ]
  },
  {
   "cell_type": "code",
   "execution_count": null,
   "id": "dbcd87b2",
   "metadata": {},
   "outputs": [],
   "source": [
    "library(corrplot)"
   ]
  },
  {
   "cell_type": "code",
   "execution_count": null,
   "id": "c755abe9",
   "metadata": {
    "scrolled": true
   },
   "outputs": [],
   "source": [
    "hm  <- pheatmap(matrix, filename = \"../figures/population_correlations_clust.pdf\", width = 7, height = 30, units = \"cm\")"
   ]
  },
  {
   "cell_type": "code",
   "execution_count": null,
   "id": "26da03f8",
   "metadata": {},
   "outputs": [],
   "source": []
  },
  {
   "cell_type": "code",
   "execution_count": null,
   "id": "9fd65386",
   "metadata": {
    "scrolled": true
   },
   "outputs": [],
   "source": [
    "options(repr.plot.width = 14, repr.plot.height = 30)\n",
    "all_correlations  %>% ggplot(aes(x = test, \n",
    "                                y = factor(population, \n",
    "                                           levels = rownames(matrix[hm$tree_row[[\"order\"]],])))) +\n",
    "geom_point(aes(size = -log(pval), color = cor)) + \n",
    "scale_size(range = c(4,10))+\n",
    "scale_color_gradient2(low = \"blue\", mid = \"white\", high = \"red\") + theme_classic() + ggtheme() + theme(axis.text.x = element_text(angle = 90))\n",
    "\n",
    "ggsave(\"../figures/populations_correlations/population_correlations_L3.png\", width = 40, height = 75, units = \"cm\")\n",
    "ggsave(\"../figures/populations_correlations/population_correlations_L3.svg\", width = 40, height = 75, units = \"cm\")"
   ]
  },
  {
   "cell_type": "code",
   "execution_count": null,
   "id": "66f44d1c",
   "metadata": {},
   "outputs": [],
   "source": [
    "options(repr.plot.width = 10, repr.plot.height = 8)\n",
    "\n",
    "all_correlations  %>% \n",
    "dplyr::filter(grepl(population, pattern = \"L2 C\"))  %>% \n",
    "ggplot(aes(x = test, y = factor(population, \n",
    "                                           levels = rownames(matrix[hm$tree_row[[\"order\"]],])))) +\n",
    "geom_point(aes(size = -log(pval), color = cor)) + \n",
    "scale_size(range = c(4,10))+\n",
    "scale_color_gradient2(low = \"blue\", mid = \"white\", high = \"red\") + \n",
    "theme_classic() + ggtheme() + theme(axis.text.x = element_text(angle = 90)) + \n",
    "xlab(\"\") + ylab(\"\")\n",
    "\n",
    "ggsave(\"../figures/populations_correlations/population_correlations_L2.png\", width = 24, height = 20, units = \"cm\")\n",
    "ggsave(\"../figures/populations_correlations/population_correlations_L2.svg\", width = 24, height = 20, units = \"cm\")"
   ]
  },
  {
   "cell_type": "code",
   "execution_count": null,
   "id": "664a3059",
   "metadata": {},
   "outputs": [],
   "source": [
    "dir.create(\"../tables/population_correlations/\")\n",
    "write.csv(populations_corr_age, \"../tables/population_correlations/populations_corr_age.csv\")\n",
    "write.csv(populations_corr_cpept_change,\"../tables/population_correlations/populations_corr_cpept_change.csv\")\n",
    "write.csv(populations_corr_fasting_cpept, \"../tables/population_correlations/populations_corr_fasting_cpept.csv\")\n",
    "write.csv(populations_corr_idaa1c,\"../tables/population_correlations/populations_corr_idaa1c.csv\")\n",
    "write.csv(populations_corr_pH, \"../tables/population_correlations/populations_corr_pH.csv\")"
   ]
  },
  {
   "cell_type": "code",
   "execution_count": null,
   "id": "1e377892",
   "metadata": {},
   "outputs": [],
   "source": [
    "IDs"
   ]
  },
  {
   "cell_type": "markdown",
   "id": "9a3a8f88",
   "metadata": {},
   "source": [
    "## Freq from parent"
   ]
  },
  {
   "cell_type": "markdown",
   "id": "21f797b0",
   "metadata": {},
   "source": [
    "### Correlation of populations with c_peptide change"
   ]
  },
  {
   "cell_type": "markdown",
   "id": "a448c6f7",
   "metadata": {},
   "source": [
    "#### C_peptide change perc"
   ]
  },
  {
   "cell_type": "code",
   "execution_count": null,
   "id": "ea7cabf3",
   "metadata": {},
   "outputs": [],
   "source": [
    "populations_2  %>% colnames"
   ]
  },
  {
   "cell_type": "code",
   "execution_count": null,
   "id": "27092ce0",
   "metadata": {},
   "outputs": [],
   "source": [
    "populations_2  %>% ncol"
   ]
  },
  {
   "cell_type": "code",
   "execution_count": null,
   "id": "58a2407f",
   "metadata": {},
   "outputs": [],
   "source": [
    "md3  <- populations_2  %>% \n",
    "ungroup  %>% \n",
    "dplyr::select(-Main)  %>% \n",
    "mutate(annotations = paste(Level, annotations))  %>% \n",
    "dplyr::select(6,7,10,12,2,22,19)  %>% \n",
    "dplyr::filter(prelim_final == \"Final\")  %>% \n",
    "unique  %>% \n",
    "pivot_wider(names_from = \"annotations\", values_from = \"freq_from_parent\")"
   ]
  },
  {
   "cell_type": "code",
   "execution_count": null,
   "id": "9884a6c8",
   "metadata": {},
   "outputs": [],
   "source": [
    "md3"
   ]
  },
  {
   "cell_type": "code",
   "execution_count": null,
   "id": "48cf7d63",
   "metadata": {},
   "outputs": [],
   "source": [
    "md_cpept  <- read_xlsx(\"../data/metadata_v05.xlsx\") "
   ]
  },
  {
   "cell_type": "code",
   "execution_count": null,
   "id": "c8157102",
   "metadata": {},
   "outputs": [],
   "source": [
    "md_cpept  <- read_xlsx(\"../data/metadata_v05.xlsx\")  %>% \n",
    "mutate(Patient_Time = paste(patient, time_taken))  %>% \n",
    "       dplyr::select(Patient_Time, c_peptide_change_perc)  %>% unique"
   ]
  },
  {
   "cell_type": "code",
   "execution_count": null,
   "id": "356506bf",
   "metadata": {
    "scrolled": true
   },
   "outputs": [],
   "source": [
    "md_cpept"
   ]
  },
  {
   "cell_type": "code",
   "execution_count": null,
   "id": "8d3b7415",
   "metadata": {},
   "outputs": [],
   "source": [
    "md3  <- md3  %>% separate(Condition, into = c(\"Disease\", \"Time\"), remove = F, sep = \" \")"
   ]
  },
  {
   "cell_type": "code",
   "execution_count": null,
   "id": "a371adad",
   "metadata": {},
   "outputs": [],
   "source": [
    "md3$Patient_Time  <- paste(md3$Patient_ID, md3$Time)"
   ]
  },
  {
   "cell_type": "code",
   "execution_count": null,
   "id": "b26d3172",
   "metadata": {
    "scrolled": true
   },
   "outputs": [],
   "source": [
    "md4  <- md3  %>% left_join(md_cpept)  %>% dplyr::filter(!is.na(c_peptide_change_perc))"
   ]
  },
  {
   "cell_type": "code",
   "execution_count": null,
   "id": "54156e09",
   "metadata": {
    "scrolled": true
   },
   "outputs": [],
   "source": [
    "md4 "
   ]
  },
  {
   "cell_type": "code",
   "execution_count": null,
   "id": "7f4cd127",
   "metadata": {},
   "outputs": [],
   "source": [
    "population_colnames  <- which(substr(colnames(md3),start = 1,stop = 1) == \"L\")"
   ]
  },
  {
   "cell_type": "code",
   "execution_count": null,
   "id": "42cb483f",
   "metadata": {},
   "outputs": [],
   "source": [
    "population_colnames  %>% length"
   ]
  },
  {
   "cell_type": "code",
   "execution_count": null,
   "id": "5e313d77",
   "metadata": {},
   "outputs": [],
   "source": [
    "which(colnames(md4) == \"c_peptide_change_perc\")"
   ]
  },
  {
   "cell_type": "code",
   "execution_count": null,
   "id": "ef0c8baa",
   "metadata": {},
   "outputs": [],
   "source": [
    "calc_correlation  <- function(i){\n",
    "    df  <- md4  %>% dplyr::select(i,111)  %>% filter(!is.na(111))\n",
    "    colnames(df)  <- c(\"value\",\"fasting_cpept_1\")\n",
    "    cor  <- cor.test(df$value, df$fasting_cpept_1)\n",
    "    res_df  <- data.frame(population = colnames(md4)[i], \n",
    "                          cor = cor$estimate, \n",
    "                          pval = cor$p.value, \n",
    "                         padj  = ifelse(cor$p.value*102>1,1,cor$p.value*102))\n",
    "    return(res_df)\n",
    "}"
   ]
  },
  {
   "cell_type": "code",
   "execution_count": null,
   "id": "4616a73f",
   "metadata": {},
   "outputs": [],
   "source": []
  },
  {
   "cell_type": "code",
   "execution_count": null,
   "id": "76808450",
   "metadata": {
    "scrolled": true
   },
   "outputs": [],
   "source": [
    "populations_corr  <- future_map(population_colnames[c(3:47,50,54:length(population_colnames))], calc_correlation)"
   ]
  },
  {
   "cell_type": "code",
   "execution_count": null,
   "id": "5bf0c0f4",
   "metadata": {},
   "outputs": [],
   "source": [
    "populations_corr  <- bind_rows(populations_corr)"
   ]
  },
  {
   "cell_type": "code",
   "execution_count": null,
   "id": "e19d3133",
   "metadata": {
    "scrolled": true
   },
   "outputs": [],
   "source": [
    "populations_corr  %>% arrange(pval)"
   ]
  },
  {
   "cell_type": "code",
   "execution_count": null,
   "id": "701ef7c6",
   "metadata": {
    "scrolled": true
   },
   "outputs": [],
   "source": [
    "options(repr.plot.width = 4, repr.plot.height = 4)\n",
    "j = 1\n",
    "for(i in (populations_corr  %>% arrange(pval)  %>% pull(population))[1:10]){\n",
    "    df2 <- md4  %>% dplyr::select(which(colnames(md4)==i), c_peptide_change_perc = 111) \n",
    "    colnames(df2)  <- c(\"value\", \"c_peptide_change_perc\")\n",
    "  p <-  df2 %>%  ggplot(aes(x=value, y=c_peptide_change_perc)) +\n",
    "  geom_point(shape = 16, size = 2) +\n",
    "  geom_smooth(method=lm, alpha = 0.2) + ggtitle(gsub(str_to_upper(i), pattern = \"_\", replacement = \" \")) + \n",
    "stat_cor(size = 7) + theme_classic() + ggtheme() \n",
    " p <-   print(p)\n",
    "    j = j+1\n",
    "#library(svglite)\n",
    "#dir.create(\"../figures/correlation_populations/\")\n",
    "#ggsave(filename = paste0(\"../figures/correlation_populations/\",i,\".svg\"), width = 5, height = 4.5)\n",
    "    }"
   ]
  },
  {
   "cell_type": "code",
   "execution_count": null,
   "id": "73a5d97a",
   "metadata": {},
   "outputs": [],
   "source": [
    "dir.create(\"../tables/population_dynamics_pct_from_parent/\")"
   ]
  },
  {
   "cell_type": "code",
   "execution_count": null,
   "id": "695969cf",
   "metadata": {},
   "outputs": [],
   "source": [
    "population_corr  <- populations_corr  %>% arrange(pval)\n",
    "write.csv(population_corr, \"../tables/population_dynamics_pct_from_parent/corr_cpept_change_perc.csv\", row.names = F)"
   ]
  },
  {
   "cell_type": "markdown",
   "id": "73dfd699",
   "metadata": {},
   "source": [
    "#### C-peptide change"
   ]
  },
  {
   "cell_type": "code",
   "execution_count": null,
   "id": "7692da95",
   "metadata": {},
   "outputs": [],
   "source": [
    "md3"
   ]
  },
  {
   "cell_type": "code",
   "execution_count": null,
   "id": "0663680b",
   "metadata": {},
   "outputs": [],
   "source": [
    "md_cpept  <- read_xlsx(\"../data/metadata_v05.xlsx\")  %>% \n",
    "mutate(Patient_Time = paste(patient, time_taken))  %>% \n",
    "       dplyr::select(Patient_Time, c_peptide_change)  %>% unique"
   ]
  },
  {
   "cell_type": "code",
   "execution_count": null,
   "id": "bbc9af28",
   "metadata": {
    "scrolled": true
   },
   "outputs": [],
   "source": [
    "md_cpept"
   ]
  },
  {
   "cell_type": "code",
   "execution_count": null,
   "id": "9c0379ca",
   "metadata": {},
   "outputs": [],
   "source": [
    "md4  <- md3  %>% left_join(md_cpept)  %>% dplyr::filter(!is.na(c_peptide_change))"
   ]
  },
  {
   "cell_type": "code",
   "execution_count": null,
   "id": "33ae085e",
   "metadata": {
    "scrolled": true
   },
   "outputs": [],
   "source": [
    "md4 "
   ]
  },
  {
   "cell_type": "code",
   "execution_count": null,
   "id": "a2397147",
   "metadata": {},
   "outputs": [],
   "source": [
    "population_colnames  <- which(substr(colnames(md4),start = 1,stop = 1) == \"L\")"
   ]
  },
  {
   "cell_type": "code",
   "execution_count": null,
   "id": "dfd115f9",
   "metadata": {},
   "outputs": [],
   "source": [
    "population_colnames  %>% length"
   ]
  },
  {
   "cell_type": "code",
   "execution_count": null,
   "id": "6c9c1681",
   "metadata": {},
   "outputs": [],
   "source": [
    "which(colnames(md4) == \"c_peptide_change\")"
   ]
  },
  {
   "cell_type": "code",
   "execution_count": null,
   "id": "e99e9318",
   "metadata": {},
   "outputs": [],
   "source": [
    "calc_correlation  <- function(i){\n",
    "    df  <- md4  %>% dplyr::select(i,111)  %>% filter(!is.na(111))\n",
    "    colnames(df)  <- c(\"value\",\"c_peptide_change\")\n",
    "    cor  <- cor.test(df$value, df$c_peptide_change)\n",
    "    res_df  <- data.frame(population = colnames(md4)[i], \n",
    "                          cor = cor$estimate, \n",
    "                          pval = cor$p.value, \n",
    "                         padj  = ifelse(cor$p.value*102>1,1,cor$p.value*102))\n",
    "    return(res_df)\n",
    "}"
   ]
  },
  {
   "cell_type": "code",
   "execution_count": null,
   "id": "2ff627a9",
   "metadata": {},
   "outputs": [],
   "source": [
    "populations_corr  <- future_map(population_colnames[c(3:47,54:length(population_colnames))], calc_correlation)"
   ]
  },
  {
   "cell_type": "code",
   "execution_count": null,
   "id": "1880f01b",
   "metadata": {},
   "outputs": [],
   "source": [
    "populations_corr_cpept_change  <- bind_rows(populations_corr)"
   ]
  },
  {
   "cell_type": "code",
   "execution_count": null,
   "id": "f3a89990",
   "metadata": {
    "scrolled": true
   },
   "outputs": [],
   "source": [
    "populations_corr_cpept_change  %>% arrange(pval)"
   ]
  },
  {
   "cell_type": "code",
   "execution_count": null,
   "id": "b9fdf86d",
   "metadata": {
    "scrolled": true
   },
   "outputs": [],
   "source": [
    "options(repr.plot.width = 4, repr.plot.height = 4)\n",
    "j = 1\n",
    "for(i in (populations_corr_cpept_change  %>% arrange(pval)  %>% pull(population))[1:10]){\n",
    "    df2 <- md4  %>% dplyr::select(which(colnames(md4)==i), c_peptide_change_perc = 111) \n",
    "    colnames(df2)  <- c(\"value\", \"c_peptide_change_perc\")\n",
    "  p <-  df2 %>%  ggplot(aes(x=value, y=c_peptide_change_perc)) +\n",
    "  geom_point(shape = 16, size = 2) +\n",
    "  geom_smooth(method=lm, alpha = 0.2) + ggtitle(gsub(str_to_upper(i), pattern = \"_\", replacement = \" \")) + \n",
    "stat_cor(size = 7) + theme_classic() + ggtheme() \n",
    " p <-   print(p)\n",
    "    j = j+1\n",
    "#library(svglite)\n",
    "#dir.create(\"../figures/correlation_populations/\")\n",
    "#ggsave(filename = paste0(\"../figures/correlation_populations/\",i,\".svg\"), width = 5, height = 4.5)\n",
    "    }"
   ]
  },
  {
   "cell_type": "code",
   "execution_count": null,
   "id": "b5d4d3ef",
   "metadata": {},
   "outputs": [],
   "source": [
    "population_corr  <- populations_corr_cpept_change  %>% arrange(pval)\n",
    "write.csv(population_corr, \"../tables/population_dynamics_pct_from_parent/corr_cpept_change.csv\", row.names = F)"
   ]
  },
  {
   "cell_type": "markdown",
   "id": "97c031de",
   "metadata": {},
   "source": [
    "### IDAA1c"
   ]
  },
  {
   "cell_type": "code",
   "execution_count": null,
   "id": "13005be8",
   "metadata": {},
   "outputs": [],
   "source": [
    "md3"
   ]
  },
  {
   "cell_type": "code",
   "execution_count": null,
   "id": "d5a2fd5e",
   "metadata": {},
   "outputs": [],
   "source": [
    "md_idaa1c  <- read_xlsx(\"../data/metadata_v05.xlsx\")  %>% \n",
    "mutate(Patient_Time = paste(patient, time_taken))  %>% \n",
    "       dplyr::select(Patient_Time, idaa1c)  %>% unique"
   ]
  },
  {
   "cell_type": "code",
   "execution_count": null,
   "id": "43029266",
   "metadata": {
    "scrolled": true
   },
   "outputs": [],
   "source": [
    "md_idaa1c"
   ]
  },
  {
   "cell_type": "code",
   "execution_count": null,
   "id": "64a1bae7",
   "metadata": {
    "scrolled": true
   },
   "outputs": [],
   "source": [
    "md_idaa1c  <- md_idaa1c  %>% dplyr::filter(!is.na(idaa1c))  %>% \n",
    "mutate(Patient_Time = gsub(Patient_Time, pattern = \"T1\", replacement = \"T0\"))"
   ]
  },
  {
   "cell_type": "code",
   "execution_count": null,
   "id": "8eca2b84",
   "metadata": {},
   "outputs": [],
   "source": [
    "md_idaa1c  %>% nrow"
   ]
  },
  {
   "cell_type": "code",
   "execution_count": null,
   "id": "ae16b8c8",
   "metadata": {},
   "outputs": [],
   "source": [
    "md4  <- md3  %>% left_join(md_idaa1c)  %>% dplyr::filter(!is.na(idaa1c))"
   ]
  },
  {
   "cell_type": "code",
   "execution_count": null,
   "id": "05d30d97",
   "metadata": {
    "scrolled": true
   },
   "outputs": [],
   "source": [
    "md4 "
   ]
  },
  {
   "cell_type": "code",
   "execution_count": null,
   "id": "9ce5e7d3",
   "metadata": {},
   "outputs": [],
   "source": [
    "population_colnames  <- which(substr(colnames(md4),start = 1,stop = 1) == \"L\")"
   ]
  },
  {
   "cell_type": "code",
   "execution_count": null,
   "id": "9b44b5a1",
   "metadata": {},
   "outputs": [],
   "source": [
    "population_colnames  %>% length"
   ]
  },
  {
   "cell_type": "code",
   "execution_count": null,
   "id": "f52d8e5d",
   "metadata": {},
   "outputs": [],
   "source": [
    "which(colnames(md4) == \"idaa1c\")"
   ]
  },
  {
   "cell_type": "code",
   "execution_count": null,
   "id": "8b45e3f9",
   "metadata": {},
   "outputs": [],
   "source": [
    "calc_correlation  <- function(i){\n",
    "    df  <- md4  %>% dplyr::select(i,111)  %>% filter(!is.na(111))\n",
    "    colnames(df)  <- c(\"value\",\"idaa1c\")\n",
    "    cor  <- cor.test(df$value, df$idaa1c)\n",
    "    res_df  <- data.frame(population = colnames(md4)[i], \n",
    "                          cor = cor$estimate, \n",
    "                          pval = cor$p.value, \n",
    "                         padj  = ifelse(cor$p.value*102>1,1,cor$p.value*102))\n",
    "    return(res_df)\n",
    "}"
   ]
  },
  {
   "cell_type": "code",
   "execution_count": null,
   "id": "e3dbdefd",
   "metadata": {},
   "outputs": [],
   "source": [
    "populations_corr  <- future_map(population_colnames[c(3:47,54:length(population_colnames))], calc_correlation)"
   ]
  },
  {
   "cell_type": "code",
   "execution_count": null,
   "id": "9f3031ff",
   "metadata": {},
   "outputs": [],
   "source": [
    "populations_corr_idaa1c  <- bind_rows(populations_corr)"
   ]
  },
  {
   "cell_type": "code",
   "execution_count": null,
   "id": "5e67cdb9",
   "metadata": {
    "scrolled": true
   },
   "outputs": [],
   "source": [
    "populations_corr_idaa1c  %>% arrange(pval)"
   ]
  },
  {
   "cell_type": "code",
   "execution_count": null,
   "id": "fde2d8d8",
   "metadata": {
    "scrolled": true
   },
   "outputs": [],
   "source": [
    "options(repr.plot.width = 4, repr.plot.height = 4)\n",
    "j = 1\n",
    "for(i in (populations_corr_idaa1c  %>% arrange(pval)  %>% pull(population))[1:10]){\n",
    "    df2 <- md4  %>% dplyr::select(which(colnames(md4)==i), idaa1c = 111) \n",
    "    colnames(df2)  <- c(\"value\", \"idaa1c\")\n",
    "  p <-  df2 %>%  ggplot(aes(x=value, y=idaa1c)) +\n",
    "  geom_point(shape = 16, size = 2) +\n",
    "  geom_smooth(method=lm, alpha = 0.2) + ggtitle(gsub(str_to_upper(i), pattern = \"_\", replacement = \" \")) + \n",
    "stat_cor(size = 7) + theme_classic() + ggtheme() \n",
    " p <-   print(p)\n",
    "    j = j+1\n",
    "#library(svglite)\n",
    "#dir.create(\"../figures/correlation_populations/\")\n",
    "#ggsave(filename = paste0(\"../figures/correlation_populations/\",i,\".svg\"), width = 5, height = 4.5)\n",
    "    }"
   ]
  },
  {
   "cell_type": "code",
   "execution_count": null,
   "id": "7251161a",
   "metadata": {},
   "outputs": [],
   "source": [
    "population_corr  <- populations_corr_idaa1c  %>% arrange(pval)\n",
    "write.csv(population_corr, \"../tables/population_dynamics_pct_from_parent/corr_idaa1c.csv\", row.names = F)"
   ]
  },
  {
   "cell_type": "markdown",
   "id": "1dcca538",
   "metadata": {},
   "source": [
    "### Fasting cpept "
   ]
  },
  {
   "cell_type": "code",
   "execution_count": null,
   "id": "08c55390",
   "metadata": {},
   "outputs": [],
   "source": [
    "md3"
   ]
  },
  {
   "cell_type": "code",
   "execution_count": null,
   "id": "7af91613",
   "metadata": {},
   "outputs": [],
   "source": [
    "md_fasting  <- read_xlsx(\"../data/metadata_v05.xlsx\")  %>% \n",
    "mutate(Patient_Time = paste(patient, time_taken))  %>% \n",
    "       dplyr::select(Patient_Time, fasting_cpept_1)  %>% unique"
   ]
  },
  {
   "cell_type": "code",
   "execution_count": null,
   "id": "5ed09543",
   "metadata": {
    "scrolled": true
   },
   "outputs": [],
   "source": [
    "md_fasting"
   ]
  },
  {
   "cell_type": "code",
   "execution_count": null,
   "id": "b306f623",
   "metadata": {},
   "outputs": [],
   "source": [
    "md4  <- md3  %>% left_join(md_fasting)  %>% dplyr::filter(!is.na(fasting_cpept_1))"
   ]
  },
  {
   "cell_type": "code",
   "execution_count": null,
   "id": "0ec90682",
   "metadata": {
    "scrolled": true
   },
   "outputs": [],
   "source": [
    "md4 "
   ]
  },
  {
   "cell_type": "code",
   "execution_count": null,
   "id": "c98ee28c",
   "metadata": {},
   "outputs": [],
   "source": [
    "population_colnames  <- which(substr(colnames(md4),start = 1,stop = 1) == \"L\")"
   ]
  },
  {
   "cell_type": "code",
   "execution_count": null,
   "id": "dbe406d4",
   "metadata": {},
   "outputs": [],
   "source": [
    "population_colnames  %>% length"
   ]
  },
  {
   "cell_type": "code",
   "execution_count": null,
   "id": "e0f0bef9",
   "metadata": {},
   "outputs": [],
   "source": [
    "which(colnames(md4) == \"fasting_cpept_1\")"
   ]
  },
  {
   "cell_type": "code",
   "execution_count": null,
   "id": "8a7e4140",
   "metadata": {},
   "outputs": [],
   "source": [
    "calc_correlation  <- function(i){\n",
    "    df  <- md4  %>% dplyr::select(i,111)  %>% filter(!is.na(111))\n",
    "    colnames(df)  <- c(\"value\",\"fasting_cpept_1\")\n",
    "    cor  <- cor.test(df$value, df$fasting_cpept_1)\n",
    "    res_df  <- data.frame(population = colnames(md4)[i], \n",
    "                          cor = cor$estimate, \n",
    "                          pval = cor$p.value, \n",
    "                         padj  = ifelse(cor$p.value*102>1,1,cor$p.value*102))\n",
    "    return(res_df)\n",
    "}"
   ]
  },
  {
   "cell_type": "code",
   "execution_count": null,
   "id": "8665e9ad",
   "metadata": {},
   "outputs": [],
   "source": [
    "populations_corr  <- future_map(population_colnames[c(3:47,54:length(population_colnames))], calc_correlation)"
   ]
  },
  {
   "cell_type": "code",
   "execution_count": null,
   "id": "a1325c59",
   "metadata": {},
   "outputs": [],
   "source": [
    "populations_corr_fasting_cpept  <- bind_rows(populations_corr)"
   ]
  },
  {
   "cell_type": "code",
   "execution_count": null,
   "id": "37810941",
   "metadata": {
    "scrolled": true
   },
   "outputs": [],
   "source": [
    "populations_corr_fasting_cpept  %>% arrange(pval)"
   ]
  },
  {
   "cell_type": "code",
   "execution_count": null,
   "id": "58b54929",
   "metadata": {
    "scrolled": true
   },
   "outputs": [],
   "source": [
    "options(repr.plot.width = 4, repr.plot.height = 4)\n",
    "j = 1\n",
    "for(i in (populations_corr_fasting_cpept  %>% arrange(pval)  %>% pull(population))[1:10]){\n",
    "    df2 <- md4  %>% dplyr::select(which(colnames(md4)==i), idaa1c = 111) \n",
    "    colnames(df2)  <- c(\"value\", \"fasting_cpept_1\")\n",
    "  p <-  df2 %>%  ggplot(aes(x=value, y=fasting_cpept_1)) +\n",
    "  geom_point(shape = 16, size = 2) +\n",
    "  geom_smooth(method=lm, alpha = 0.2) + ggtitle(gsub(str_to_upper(i), pattern = \"_\", replacement = \" \")) + \n",
    "stat_cor(size = 7) + theme_classic() + ggtheme() \n",
    " p <-   print(p)\n",
    "    j = j+1\n",
    "#library(svglite)\n",
    "#dir.create(\"../figures/correlation_populations/\")\n",
    "#ggsave(filename = paste0(\"../figures/correlation_populations/\",i,\".svg\"), width = 5, height = 4.5)\n",
    "    }"
   ]
  },
  {
   "cell_type": "code",
   "execution_count": null,
   "id": "c508f1ab",
   "metadata": {},
   "outputs": [],
   "source": [
    "populations_corr  <- populations_corr_fasting_cpept  %>% arrange(pval)\n",
    "write.csv(population_corr, \"../tables/population_dynamics_pct_from_parent/corr_fasting_cpept.csv\", row.names = F)"
   ]
  },
  {
   "cell_type": "markdown",
   "id": "0bfc5109",
   "metadata": {},
   "source": [
    "### blood pH at time 0"
   ]
  },
  {
   "cell_type": "code",
   "execution_count": null,
   "id": "74996628",
   "metadata": {},
   "outputs": [],
   "source": [
    "md_ph  <- read_xlsx(\"../data/metadata_v05.xlsx\")  %>% \n",
    "mutate(Patient_Time = paste(patient, time_taken))  %>% \n",
    "       dplyr::select(Patient_Time, ph_man)  %>% unique"
   ]
  },
  {
   "cell_type": "code",
   "execution_count": null,
   "id": "a05d9126",
   "metadata": {
    "scrolled": true
   },
   "outputs": [],
   "source": [
    "md4  <- md3  %>% left_join(md_ph)  %>% dplyr::filter(!is.na(ph_man))\n",
    "\n",
    "md4 "
   ]
  },
  {
   "cell_type": "code",
   "execution_count": null,
   "id": "693ed5f6",
   "metadata": {},
   "outputs": [],
   "source": [
    "population_colnames  <- which(substr(colnames(md4),start = 1,stop = 1) == \"L\")\n",
    "\n",
    "population_colnames  %>% length"
   ]
  },
  {
   "cell_type": "code",
   "execution_count": null,
   "id": "6ffbc83d",
   "metadata": {},
   "outputs": [],
   "source": [
    "which(colnames(md4) == \"ph_man\")"
   ]
  },
  {
   "cell_type": "code",
   "execution_count": null,
   "id": "30789a46",
   "metadata": {},
   "outputs": [],
   "source": [
    "ncol(md4)"
   ]
  },
  {
   "cell_type": "code",
   "execution_count": null,
   "id": "1c10a582",
   "metadata": {
    "scrolled": true
   },
   "outputs": [],
   "source": [
    "calc_correlation  <- function(i){\n",
    "    df  <- md4  %>% dplyr::select(i,111)  %>% filter(!is.na(111))\n",
    "    colnames(df)  <- c(\"value\",\"ph_man\")\n",
    "    cor  <- cor.test(df$value, df$ph_man)\n",
    "    res_df  <- data.frame(population = colnames(md4)[i], \n",
    "                          cor = cor$estimate, \n",
    "                          pval = cor$p.value, \n",
    "                         padj  = ifelse(cor$p.value*102>1,1,cor$p.value*102))\n",
    "    return(res_df)\n",
    "}\n",
    "\n",
    "populations_corr  <- future_map(population_colnames[c(3:47,54:length(population_colnames))], calc_correlation)\n",
    "populations_corr_pH  <- bind_rows(populations_corr)\n",
    "\n",
    "populations_corr_pH  %>% arrange(pval)"
   ]
  },
  {
   "cell_type": "code",
   "execution_count": null,
   "id": "2a59c7e1",
   "metadata": {},
   "outputs": [],
   "source": [
    "options(repr.plot.width = 4, repr.plot.height = 4)\n",
    "j = 1\n",
    "for(i in (populations_corr_pH  %>% arrange(pval)  %>% pull(population))[1:10]){\n",
    "    df2 <- md4  %>% dplyr::select(which(colnames(md4)==i), idaa1c = 111) \n",
    "    colnames(df2)  <- c(\"value\", \"ph_man\")\n",
    "  p <-  df2 %>%  ggplot(aes(x=value, y=ph_man)) +\n",
    "  geom_point(shape = 16, size = 2) +\n",
    "  geom_smooth(method=lm, alpha = 0.2) + ggtitle(gsub(str_to_upper(i), pattern = \"_\", replacement = \" \")) + \n",
    "stat_cor(size = 7) + theme_classic() + ggtheme() \n",
    " p <-   print(p)\n",
    "    j = j+1\n",
    "#library(svglite)\n",
    "#dir.create(\"../figures/correlation_populations/\")\n",
    "#ggsave(filename = paste0(\"../figures/correlation_populations/\",i,\".svg\"), width = 5, height = 4.5)\n",
    "    }"
   ]
  },
  {
   "cell_type": "code",
   "execution_count": null,
   "id": "2aba6f39",
   "metadata": {},
   "outputs": [],
   "source": [
    "populations_corr  <- populations_corr_pH  %>% arrange(pval)\n",
    "write.csv(population_corr, \"../tables/population_dynamics_pct_from_parent/corr_ph.csv\", row.names = F)"
   ]
  },
  {
   "cell_type": "markdown",
   "id": "38276563",
   "metadata": {},
   "source": [
    "### Age"
   ]
  },
  {
   "cell_type": "code",
   "execution_count": null,
   "id": "b1e588ac",
   "metadata": {},
   "outputs": [],
   "source": [
    "md3"
   ]
  },
  {
   "cell_type": "code",
   "execution_count": null,
   "id": "435a91e1",
   "metadata": {},
   "outputs": [],
   "source": [
    "population_colnames  <- which(substr(colnames(md4),start = 1,stop = 1) == \"L\")"
   ]
  },
  {
   "cell_type": "code",
   "execution_count": null,
   "id": "6df2bcd9",
   "metadata": {},
   "outputs": [],
   "source": [
    "population_colnames  %>% length"
   ]
  },
  {
   "cell_type": "code",
   "execution_count": null,
   "id": "171803e3",
   "metadata": {},
   "outputs": [],
   "source": [
    "which(colnames(md4) == \"Age\")"
   ]
  },
  {
   "cell_type": "code",
   "execution_count": null,
   "id": "98dff104",
   "metadata": {},
   "outputs": [],
   "source": [
    "calc_correlation  <- function(i){\n",
    "    df  <- md4  %>% dplyr::select(i,5)  %>% filter(!is.na(5))\n",
    "    colnames(df)  <- c(\"value\",\"fasting_cpept_1\")\n",
    "    cor  <- cor.test(df$value, df$fasting_cpept_1)\n",
    "    res_df  <- data.frame(population = colnames(md4)[i], \n",
    "                          cor = cor$estimate, \n",
    "                          pval = cor$p.value, \n",
    "                         padj  = ifelse(cor$p.value*102>1,1,cor$p.value*102))\n",
    "    return(res_df)\n",
    "}"
   ]
  },
  {
   "cell_type": "code",
   "execution_count": null,
   "id": "6bbae4ee",
   "metadata": {},
   "outputs": [],
   "source": [
    "populations_corr  <- future_map(population_colnames[c(3:47,54:length(population_colnames))], calc_correlation)\n"
   ]
  },
  {
   "cell_type": "code",
   "execution_count": null,
   "id": "200bc6fe",
   "metadata": {},
   "outputs": [],
   "source": [
    "populations_corr_age  <- bind_rows(populations_corr)"
   ]
  },
  {
   "cell_type": "code",
   "execution_count": null,
   "id": "a70f103a",
   "metadata": {
    "scrolled": true
   },
   "outputs": [],
   "source": [
    "populations_corr_age  %>% arrange(pval)"
   ]
  },
  {
   "cell_type": "code",
   "execution_count": null,
   "id": "42d46241",
   "metadata": {
    "scrolled": true
   },
   "outputs": [],
   "source": [
    "options(repr.plot.width = 4, repr.plot.height = 4)\n",
    "j = 1\n",
    "for(i in (populations_corr_age  %>% arrange(pval)  %>% pull(population))[1:10]){\n",
    "    df2 <- md4  %>% dplyr::select(which(colnames(md4)==i), Age = 5) \n",
    "    colnames(df2)  <- c(\"value\", \"Age\")\n",
    "  p <-  df2 %>%  ggplot(aes(x=value, y=Age)) +\n",
    "  geom_point(shape = 16, size = 2) +\n",
    "  geom_smooth(method=lm, alpha = 0.2) + ggtitle(gsub(str_to_upper(i), pattern = \"_\", replacement = \" \")) + \n",
    "stat_cor(size = 7) + theme_classic() + ggtheme() \n",
    " p <-   print(p)\n",
    "    j = j+1\n",
    "#library(svglite)\n",
    "#dir.create(\"../figures/correlation_populations/\")\n",
    "#ggsave(filename = paste0(\"../figures/correlation_populations/\",i,\".svg\"), width = 5, height = 4.5)\n",
    "    }"
   ]
  },
  {
   "cell_type": "code",
   "execution_count": null,
   "id": "71f0e50c",
   "metadata": {},
   "outputs": [],
   "source": [
    "populations_corr  <- populations_corr_age  %>% arrange(pval)\n",
    "write.csv(population_corr, \"../tables/population_dynamics_pct_from_parent/corr_age.csv\", row.names = F)"
   ]
  },
  {
   "cell_type": "markdown",
   "id": "6345a9a2",
   "metadata": {},
   "source": [
    "## All correlations plot"
   ]
  },
  {
   "cell_type": "code",
   "execution_count": null,
   "id": "b39f227b",
   "metadata": {},
   "outputs": [],
   "source": [
    "populations_corr_age$test  <- \"Age\" \n",
    "populations_corr_cpept_change$test  <- \"cpept_change\"\n",
    "populations_corr_fasting_cpept$test  <- \"fasting_cpept\"\n",
    "populations_corr_idaa1c$test  <- \"idaa1c\"\n",
    "populations_corr_pH$test  <- \"pH\"\n"
   ]
  },
  {
   "cell_type": "code",
   "execution_count": null,
   "id": "c7635d51",
   "metadata": {},
   "outputs": [],
   "source": [
    "all_correlations  <- rbind(populations_corr_age, populations_corr_cpept_change,\n",
    "                       populations_corr_fasting_cpept, populations_corr_idaa1c,\n",
    "                      populations_corr_pH)"
   ]
  },
  {
   "cell_type": "code",
   "execution_count": null,
   "id": "88fb9c19",
   "metadata": {
    "scrolled": true
   },
   "outputs": [],
   "source": [
    "options(repr.plot.width = 14, repr.plot.height = 30)\n",
    "\n",
    "all_correlations  %>% ggplot(aes(x = test, y = population)) +\n",
    "geom_point(aes(size = -log(pval), color = cor)) + \n",
    "scale_color_gradient2(low = \"blue\", mid = \"white\", high = \"red\") + \n",
    "theme_classic() + ggtheme() + theme(axis.text.x = element_text(angle = 90))"
   ]
  },
  {
   "cell_type": "code",
   "execution_count": null,
   "id": "bcdfeaf8",
   "metadata": {},
   "outputs": [],
   "source": [
    "matrix  <- all_correlations  %>% dplyr::select(cor, population, test)  %>% \n",
    "pivot_wider(names_from = \"population\", values_from = \"cor\")  %>% \n",
    "column_to_rownames(\"test\")  %>% as.matrix  %>% t()"
   ]
  },
  {
   "cell_type": "code",
   "execution_count": null,
   "id": "3541f799",
   "metadata": {},
   "outputs": [],
   "source": [
    "library(corrplot)"
   ]
  },
  {
   "cell_type": "code",
   "execution_count": null,
   "id": "9ae81685",
   "metadata": {
    "scrolled": true
   },
   "outputs": [],
   "source": [
    "hm  <- pheatmap(matrix, filename = \"../figures/population_correlations_clust.pdf\", width = 7, height = 30, units = \"cm\")"
   ]
  },
  {
   "cell_type": "code",
   "execution_count": null,
   "id": "5878df48",
   "metadata": {},
   "outputs": [],
   "source": []
  },
  {
   "cell_type": "code",
   "execution_count": null,
   "id": "085f7d3d",
   "metadata": {
    "scrolled": true
   },
   "outputs": [],
   "source": [
    "options(repr.plot.width = 14, repr.plot.height = 30)\n",
    "all_correlations  %>% ggplot(aes(x = test, \n",
    "                                y = factor(population, \n",
    "                                           levels = rownames(matrix[hm$tree_row[[\"order\"]],])))) +\n",
    "geom_point(aes(size = -log(pval), color = cor)) + \n",
    "scale_size(range = c(4,10))+\n",
    "scale_color_gradient2(low = \"blue\", mid = \"white\", high = \"red\") + theme_classic() + ggtheme() + theme(axis.text.x = element_text(angle = 90))\n",
    "\n",
    "ggsave(\"../figures/populations_correlations/population_correlations_L3.png\", width = 40, height = 75, units = \"cm\")\n",
    "ggsave(\"../figures/populations_correlations/population_correlations_L3.svg\", width = 40, height = 75, units = \"cm\")"
   ]
  },
  {
   "cell_type": "code",
   "execution_count": null,
   "id": "b1e44666",
   "metadata": {},
   "outputs": [],
   "source": [
    "options(repr.plot.width = 10, repr.plot.height = 8)\n",
    "\n",
    "all_correlations  %>% \n",
    "dplyr::filter(grepl(population, pattern = \"L2 C\"))  %>% \n",
    "ggplot(aes(x = test, y = factor(population, \n",
    "                                           levels = rownames(matrix[hm$tree_row[[\"order\"]],])))) +\n",
    "geom_point(aes(size = -log(pval), color = cor)) + \n",
    "scale_size(range = c(4,10))+\n",
    "scale_color_gradient2(low = \"blue\", mid = \"white\", high = \"red\") + \n",
    "theme_classic() + ggtheme() + theme(axis.text.x = element_text(angle = 90)) + \n",
    "xlab(\"\") + ylab(\"\")\n",
    "\n",
    "ggsave(\"../figures/populations_correlations/population_correlations_L2.png\", width = 24, height = 20, units = \"cm\")\n",
    "ggsave(\"../figures/populations_correlations/population_correlations_L2.svg\", width = 24, height = 20, units = \"cm\")"
   ]
  },
  {
   "cell_type": "code",
   "execution_count": null,
   "id": "bdbec858",
   "metadata": {},
   "outputs": [],
   "source": [
    "dir.create(\"../tables/population_correlations/\")\n",
    "write.csv(populations_corr_age, \"../tables/population_correlations/populations_corr_age.csv\")\n",
    "write.csv(populations_corr_cpept_change,\"../tables/population_correlations/populations_corr_cpept_change.csv\")\n",
    "write.csv(populations_corr_fasting_cpept, \"../tables/population_correlations/populations_corr_fasting_cpept.csv\")\n",
    "write.csv(populations_corr_idaa1c,\"../tables/population_correlations/populations_corr_idaa1c.csv\")\n",
    "write.csv(populations_corr_pH, \"../tables/population_correlations/populations_corr_pH.csv\")"
   ]
  },
  {
   "cell_type": "code",
   "execution_count": null,
   "id": "c44ca48d",
   "metadata": {},
   "outputs": [],
   "source": []
  },
  {
   "cell_type": "markdown",
   "id": "10246215",
   "metadata": {},
   "source": [
    "# Correlation heatmaps in Dia"
   ]
  },
  {
   "cell_type": "code",
   "execution_count": null,
   "id": "4f389c73",
   "metadata": {
    "scrolled": true
   },
   "outputs": [],
   "source": [
    "library(mice)"
   ]
  },
  {
   "cell_type": "code",
   "execution_count": null,
   "id": "51dbb073",
   "metadata": {},
   "outputs": [],
   "source": [
    "md5  <- read_xlsx(\"../data/metadata_v05.xlsx\") "
   ]
  },
  {
   "cell_type": "code",
   "execution_count": null,
   "id": "5af25494",
   "metadata": {},
   "outputs": [],
   "source": [
    "colnames(md5)"
   ]
  },
  {
   "cell_type": "code",
   "execution_count": null,
   "id": "bd18d66b",
   "metadata": {},
   "outputs": [],
   "source": [
    "md5  <- md5  %>% \n",
    "mutate(dq2 = ifelse((HLA_DQA11 == \"DQA1*05:01:01\" | HLA_DQA12 == \"DQA1*05:01:01\") &\n",
    "                                   (HLA_DQB11 == \"DQB1*02:01:01\" | HLA_DQB12 == \"DQB1*02:01:01\"),\"DQ2\",\n",
    "                                   \"Other\"),\n",
    "                      dq8 = ifelse((HLA_DQA11 == \"DQA1*03:01:01\" | HLA_DQA12 == \"DQA1*03:01:01\") &\n",
    "                                   (HLA_DQB11 == \"DQB1*03:02:01\" | HLA_DQB12 == \"DQB1*03:02:01\"),\"DQ8\",\n",
    "                                   \"Other\"))  %>% mutate(\n",
    "                      dq2_8 = ifelse(dq2 == \"DQ2\" & dq8 == \"DQ8\",\"DQ2_8\",\n",
    "                                     ifelse(dq2 == \"DQ2\",\"DQ2\", ifelse(dq8 == \"DQ8\",\"DQ8\",\"Other\"))))  %>% \n",
    "mutate(risk_hla = recode_factor(dq2_8, \"Other\" = 0, \"DQ8\" = 1, \"DQ2\" = 2,\"DQ2_8\" = 3)) %>% \n",
    "mutate(c7_01 = ifelse((HLA_C1 == \"C*07:01:01\" & HLA_C2 == \"C*07:01:01\"), \"c7_01_hom\",\n",
    "                                   ifelse(HLA_C1 == \"C*07:01:01\" | HLA_C2 == \"C*07:01:01\",\"c7_01_het\",\n",
    "                                   \"Other\")),\n",
    "                      b8_01 = ifelse((HLA_B1 == \"B*08:01:01\" & HLA_B2 == \"B*08:01:01\"), \"b8_01_hom\",\n",
    "                                   ifelse(HLA_B1 == \"B*08:01:01\" | HLA_B2 == \"B*08:01:01\",\"b8_01_het\",\n",
    "                                   \"Other\")))   %>% mutate(\n",
    "                      c7_b8 = ifelse(b8_01 == \"b8_01_hom\" & c7_01 == \"c7_01_hom\",\n",
    "                                     \"c7_b8_hom\", ifelse(c7_01 == \"c7_01_hom\", \"c7_01_hom\",\n",
    "                              ifelse(b8_01 == \"b8_01_hom\", \"b8_01_hom\", \n",
    "                              ifelse(b8_01 == \"b8_01_het\" & c7_01 == \"c7_01_het\",\n",
    "                                     \"c7_b8_het\", \n",
    "                              ifelse(b8_01 == \"b8_01_het\", \"b8_01_het\", \n",
    "                              ifelse(c7_01 == \"c7_01_het\", \"c7_01_het\", \"Other\" )))))))  %>% \n",
    "mutate(dr3 = ifelse((grepl(HLA_DRB11, pattern = \"DRB1\\\\*03\")) | (grepl(HLA_DRB12, pattern = \"DRB1\\\\*03\")),\n",
    "                   \"DR3\", \"Other\"),\n",
    "       dr4 = ifelse((grepl(HLA_DRB11, pattern = \"DRB1\\\\*04\")) | (grepl(HLA_DRB12, pattern = \"DRB1\\\\*04\")),\n",
    "                   \"DR4\", \"Other\"),\n",
    "       dr3_dr4 = ifelse(dr3 == \"DR3\" & dr4 == \"DR4\",\"DR3_DR4\",\n",
    "       ifelse(dr3 == \"DR3\",\"DR3\", ifelse(dr4 == \"DR4\",\"DR4\",\"Other\"))))\n",
    "       \n",
    "       "
   ]
  },
  {
   "cell_type": "code",
   "execution_count": null,
   "id": "5f0e824b",
   "metadata": {
    "scrolled": true
   },
   "outputs": [],
   "source": [
    "test  <- md5  %>% colnames\n",
    "names(test)  <- 1:length(test)\n",
    "test"
   ]
  },
  {
   "cell_type": "code",
   "execution_count": null,
   "id": "9c6227b2",
   "metadata": {},
   "outputs": [],
   "source": [
    "md5_select  <- md5  %>% dplyr::select(6,11:14,19,21:24,26:37,39,40,42,43,44,74:91)"
   ]
  },
  {
   "cell_type": "code",
   "execution_count": null,
   "id": "75e8d963",
   "metadata": {
    "scrolled": true
   },
   "outputs": [],
   "source": [
    "md5_select"
   ]
  },
  {
   "cell_type": "code",
   "execution_count": null,
   "id": "0f3eb369",
   "metadata": {},
   "outputs": [],
   "source": [
    "md5_select  <- md5_select  %>% dplyr::filter(!(Patient_Time %in% c(\"206 T0\",\"207 T0\", \"116 T1\")))"
   ]
  },
  {
   "cell_type": "code",
   "execution_count": null,
   "id": "e774e325",
   "metadata": {},
   "outputs": [],
   "source": [
    "populations_2_select  <- dplyr::select(populations_2, Patient_ID, Time, annotations, Condition, Sex, Age, Level, Experiment_ID, freq_from_total)"
   ]
  },
  {
   "cell_type": "code",
   "execution_count": null,
   "id": "5531936e",
   "metadata": {},
   "outputs": [],
   "source": [
    "populations_3  <- populations_2_select  %>% \n",
    "mutate(Patient_Time = paste(Patient_ID, Time, Experiment_ID))  %>% \n",
    "mutate(annotations = paste(Level, annotations))  %>% \n",
    "dplyr::select(-Patient_ID, -Time, -Level)  \n"
   ]
  },
  {
   "cell_type": "code",
   "execution_count": null,
   "id": "2112085b",
   "metadata": {},
   "outputs": [],
   "source": [
    "populations_3  %>% nrow"
   ]
  },
  {
   "cell_type": "code",
   "execution_count": null,
   "id": "d04f4542",
   "metadata": {},
   "outputs": [],
   "source": [
    "populations_3$Patient_Time %in% md5_select$Patient_Time  %>% table"
   ]
  },
  {
   "cell_type": "code",
   "execution_count": null,
   "id": "3072e77b",
   "metadata": {
    "scrolled": true
   },
   "outputs": [],
   "source": [
    "populations_3"
   ]
  },
  {
   "cell_type": "code",
   "execution_count": null,
   "id": "97d95bef",
   "metadata": {
    "scrolled": true
   },
   "outputs": [],
   "source": [
    "populations_4  <- populations_3 %>% \n",
    "pivot_wider(names_from = \"annotations\", values_from = \"freq_from_total\")  %>% \n",
    "dplyr::filter(Experiment_ID %in% c(\"Exp16\",\"Exp18\",\"Exp19\",\"Exp20\"))"
   ]
  },
  {
   "cell_type": "code",
   "execution_count": null,
   "id": "4f94cc8f",
   "metadata": {},
   "outputs": [],
   "source": [
    "md2  <- left_join(populations_4, md5_select)"
   ]
  },
  {
   "cell_type": "code",
   "execution_count": null,
   "id": "155736d8",
   "metadata": {
    "scrolled": true
   },
   "outputs": [],
   "source": [
    "## Check missing data\n",
    "md.pattern(md2)"
   ]
  },
  {
   "cell_type": "code",
   "execution_count": null,
   "id": "cf6ad22f",
   "metadata": {},
   "outputs": [],
   "source": [
    "colnames(md2)"
   ]
  },
  {
   "cell_type": "code",
   "execution_count": null,
   "id": "a7f3d1b9",
   "metadata": {},
   "outputs": [],
   "source": [
    "md2$Condition  %>% table"
   ]
  },
  {
   "cell_type": "code",
   "execution_count": null,
   "id": "c7e05fe5",
   "metadata": {},
   "outputs": [],
   "source": [
    "## Clean column names, otherwise error\n",
    "colnames(md2) <- janitor::make_clean_names(colnames(md2))"
   ]
  },
  {
   "cell_type": "code",
   "execution_count": null,
   "id": "2a2b9814",
   "metadata": {},
   "outputs": [],
   "source": [
    "colnames(md2) "
   ]
  },
  {
   "cell_type": "code",
   "execution_count": null,
   "id": "ff2e48d5",
   "metadata": {},
   "outputs": [],
   "source": [
    "md2 <- md2 %>%\n",
    "    mutate(condition = as.factor(condition)) %>% \n",
    "    mutate(sex = as.factor(sex))  %>% \n",
    "    mutate(risk_hla = as.numeric(risk_hla))  %>% dplyr::select(-condition)\n",
    "    "
   ]
  },
  {
   "cell_type": "code",
   "execution_count": null,
   "id": "c3045dc6",
   "metadata": {},
   "outputs": [],
   "source": [
    "md3  <- md2"
   ]
  },
  {
   "cell_type": "code",
   "execution_count": null,
   "id": "0691b67e",
   "metadata": {},
   "outputs": [],
   "source": [
    "md.pattern(md3)"
   ]
  },
  {
   "cell_type": "code",
   "execution_count": null,
   "id": "3f625020",
   "metadata": {
    "scrolled": true
   },
   "outputs": [],
   "source": [
    "colnames(md.pattern(md3, plot = F)[,107:151])\n"
   ]
  },
  {
   "cell_type": "code",
   "execution_count": null,
   "id": "f39393d4",
   "metadata": {
    "scrolled": true
   },
   "outputs": [],
   "source": [
    "str(md3[,c(1:10,100:121)])"
   ]
  },
  {
   "cell_type": "code",
   "execution_count": null,
   "id": "48f7ecf7",
   "metadata": {},
   "outputs": [],
   "source": []
  },
  {
   "cell_type": "code",
   "execution_count": null,
   "id": "21669553",
   "metadata": {},
   "outputs": [],
   "source": []
  },
  {
   "cell_type": "code",
   "execution_count": null,
   "id": "5873f05d",
   "metadata": {},
   "outputs": [],
   "source": [
    "init = mice(md3, maxit=0) \n",
    "meth = init$method\n",
    "predM = init$predictorMatrix"
   ]
  },
  {
   "cell_type": "code",
   "execution_count": null,
   "id": "98a47119",
   "metadata": {},
   "outputs": [],
   "source": [
    "predM"
   ]
  },
  {
   "cell_type": "code",
   "execution_count": null,
   "id": "daf6aa93",
   "metadata": {},
   "outputs": [],
   "source": [
    "predM[colnames(predM),]=0"
   ]
  },
  {
   "cell_type": "code",
   "execution_count": null,
   "id": "1d87068b",
   "metadata": {
    "scrolled": true
   },
   "outputs": [],
   "source": [
    "predM"
   ]
  },
  {
   "cell_type": "code",
   "execution_count": null,
   "id": "0b949eee",
   "metadata": {},
   "outputs": [],
   "source": [
    "predM[c(\"disease\", \"sex\", \"age\",\"risk_hla\"),]=1"
   ]
  },
  {
   "cell_type": "code",
   "execution_count": null,
   "id": "8bdb15b6",
   "metadata": {},
   "outputs": [],
   "source": [
    "predM[,c(\"disease\", \"sex\", \"age\",\"risk_hla\")]=1"
   ]
  },
  {
   "cell_type": "code",
   "execution_count": null,
   "id": "82217d29",
   "metadata": {},
   "outputs": [],
   "source": [
    "predM"
   ]
  },
  {
   "cell_type": "code",
   "execution_count": null,
   "id": "c13933fa",
   "metadata": {},
   "outputs": [],
   "source": [
    "for(i in 1:121){\n",
    "    predM[i,i]=0\n",
    "}"
   ]
  },
  {
   "cell_type": "code",
   "execution_count": null,
   "id": "ff46498a",
   "metadata": {},
   "outputs": [],
   "source": [
    "predM"
   ]
  },
  {
   "cell_type": "code",
   "execution_count": null,
   "id": "0720a96c",
   "metadata": {},
   "outputs": [],
   "source": [
    "colnames(md.pattern(md3, plot = F)[,c(105:113,117:120)])"
   ]
  },
  {
   "cell_type": "code",
   "execution_count": null,
   "id": "227e75c5",
   "metadata": {},
   "outputs": [],
   "source": [
    "colnames(md.pattern(md3, plot = F)[,c(114,115,116,121)])"
   ]
  },
  {
   "cell_type": "code",
   "execution_count": null,
   "id": "059c1219",
   "metadata": {},
   "outputs": [],
   "source": [
    "colnames(md.pattern(md3, plot = F)[,105:122])"
   ]
  },
  {
   "cell_type": "code",
   "execution_count": null,
   "id": "eed81d42",
   "metadata": {},
   "outputs": [],
   "source": [
    "meth[colnames(md.pattern(md3, plot = F)[,c(105:113,117:120)])]=\"norm\" \n",
    "meth[colnames(md.pattern(md3, plot = F)[,c(114,115,116,121)])]=\"rf\" "
   ]
  },
  {
   "cell_type": "code",
   "execution_count": null,
   "id": "ecfa5918",
   "metadata": {
    "scrolled": true
   },
   "outputs": [],
   "source": [
    "## Impute missing data with MICE package\n",
    "imputed = mice(md3, method=meth, predictorMatrix=predM, m=5)"
   ]
  },
  {
   "cell_type": "code",
   "execution_count": null,
   "id": "c7b49c76",
   "metadata": {},
   "outputs": [],
   "source": [
    "imputed <- complete(imputed)"
   ]
  },
  {
   "cell_type": "code",
   "execution_count": null,
   "id": "dddd6895",
   "metadata": {
    "scrolled": true
   },
   "outputs": [],
   "source": [
    "md.pattern(imputed)"
   ]
  },
  {
   "cell_type": "code",
   "execution_count": null,
   "id": "666f92b5",
   "metadata": {},
   "outputs": [],
   "source": [
    "write.csv(imputed, \"../tables/240214_09_Data_MICE_imputed.csv\")"
   ]
  },
  {
   "cell_type": "code",
   "execution_count": null,
   "id": "f70c8b51",
   "metadata": {},
   "outputs": [],
   "source": [
    "imputed  <- read_csv(\"../tables/240214_09_Data_MICE_imputed.csv\")"
   ]
  },
  {
   "cell_type": "code",
   "execution_count": null,
   "id": "5132ac68",
   "metadata": {},
   "outputs": [],
   "source": [
    "imputed$`...1`  <- NULL"
   ]
  },
  {
   "cell_type": "markdown",
   "id": "bfb148cf",
   "metadata": {},
   "source": [
    "## Feature correlation matrix"
   ]
  },
  {
   "cell_type": "code",
   "execution_count": null,
   "id": "d2663b0b",
   "metadata": {
    "scrolled": true
   },
   "outputs": [],
   "source": [
    "library(corrplot)\n",
    "Corr <- cor(select_if(imputed, is.numeric), use=\"complete.obs\")"
   ]
  },
  {
   "cell_type": "code",
   "execution_count": null,
   "id": "9f26b48c",
   "metadata": {},
   "outputs": [],
   "source": [
    "pdf(file = \"../figures/correlation_matrix.pdf\", width = 30, height = 30)\n",
    "\n",
    "corrplot(Corr, \n",
    "title = \"Correlation of features in patient samples\", \n",
    "mar = c(0,0,1,0), number.cex = 0.5, number.digits = 2,\n",
    "number.font = 2)\n",
    "\n",
    "dev.off()"
   ]
  },
  {
   "cell_type": "code",
   "execution_count": null,
   "id": "9af43698",
   "metadata": {},
   "outputs": [],
   "source": [
    "pdf(file = \"../figures/correlation_matrix_clust.pdf\", width = 30, height = 30)\n",
    "\n",
    "corrplot(Corr, \n",
    "title = \"Correlation of features in patient samples\", \n",
    "mar = c(0,0,1,0), number.cex = 0.5, number.digits = 2,\n",
    "number.font = 2, order = 'hclust', addrect = 20, \n",
    "        tl.col = \"black\")\n",
    "\n",
    "dev.off()"
   ]
  },
  {
   "cell_type": "markdown",
   "id": "bba8cef5",
   "metadata": {},
   "source": [
    "## Feature correlation matrix with binary"
   ]
  },
  {
   "cell_type": "code",
   "execution_count": null,
   "id": "8ee48f88",
   "metadata": {},
   "outputs": [],
   "source": [
    "library(ggcorrplot)"
   ]
  },
  {
   "cell_type": "code",
   "execution_count": null,
   "id": "799ba48c",
   "metadata": {},
   "outputs": [],
   "source": [
    "p.mat <- model.matrix(~0+., data=imputed) %>% \n",
    "   cor_pmat(use=\"pairwise.complete.obs\")"
   ]
  },
  {
   "cell_type": "code",
   "execution_count": null,
   "id": "80eb5b3b",
   "metadata": {},
   "outputs": [],
   "source": [
    "p.mat"
   ]
  },
  {
   "cell_type": "code",
   "execution_count": null,
   "id": "40704d50",
   "metadata": {},
   "outputs": [],
   "source": [
    "model.matrix(~0+., data=imputed) %>% \n",
    "  cor(use=\"pairwise.complete.obs\") %>% \n",
    "  ggcorrplot(show.diag=FALSE, method = \"circle\", lab=T, \n",
    "             lab_size=2, hc.order = T, p.mat = p.mat, \n",
    "  type = \"full\", insig = \"blank\")"
   ]
  },
  {
   "cell_type": "code",
   "execution_count": null,
   "id": "518c0ed2",
   "metadata": {
    "scrolled": true
   },
   "outputs": [],
   "source": [
    "options(repr.plot.width= 40, repr.plot.height = 40)\n",
    "model.matrix(~0+., data=imputed) %>% \n",
    "  cor(use=\"pairwise.complete.obs\") %>% \n",
    "  ggcorrplot(show.diag=FALSE, method = \"circle\", type=\"full\", lab=F, \n",
    "             lab_size=2, hc.order = T)"
   ]
  },
  {
   "cell_type": "code",
   "execution_count": null,
   "id": "a2617fed",
   "metadata": {},
   "outputs": [],
   "source": []
  },
  {
   "cell_type": "markdown",
   "id": "0fd23d7a",
   "metadata": {},
   "source": [
    "## Populations together"
   ]
  },
  {
   "cell_type": "code",
   "execution_count": null,
   "id": "5fe7fd7c",
   "metadata": {},
   "outputs": [],
   "source": [
    "library(ggcorrplot)"
   ]
  },
  {
   "cell_type": "code",
   "execution_count": null,
   "id": "ca15ea55",
   "metadata": {},
   "outputs": [],
   "source": [
    "imputed_populations  <- imputed  %>% dplyr::select(which(substr(colnames(imputed),start = 1,stop = 3) %in% c(\"cd4\",\"cd8\")))"
   ]
  },
  {
   "cell_type": "code",
   "execution_count": null,
   "id": "353b3fe1",
   "metadata": {
    "scrolled": true
   },
   "outputs": [],
   "source": [
    "imputed_populations"
   ]
  },
  {
   "cell_type": "code",
   "execution_count": null,
   "id": "bf9abb9e",
   "metadata": {},
   "outputs": [],
   "source": []
  },
  {
   "cell_type": "code",
   "execution_count": null,
   "id": "c7cc0bd6",
   "metadata": {
    "scrolled": true
   },
   "outputs": [],
   "source": [
    "p.mat <- model.matrix(~0+., data=imputed_populations) %>% \n",
    "   cor_pmat(use=\"pairwise.complete.obs\")\n",
    "\n",
    "p  <- model.matrix(~0+., data=imputed_populations) %>% \n",
    "  cor(use=\"pairwise.complete.obs\") %>% \n",
    "ggcorrplot(show.diag=FALSE, method = \"circle\", type=\"full\", lab=F, \n",
    "             lab_size=2, hc.order = T, p.mat = p.mat, insig = \"blank\") + scale_size_continuous(range = c(0,7))\n",
    "\n",
    "print(p)"
   ]
  },
  {
   "cell_type": "code",
   "execution_count": null,
   "id": "f5b25b8e",
   "metadata": {},
   "outputs": [],
   "source": [
    "levels(p$data$Var1)"
   ]
  },
  {
   "cell_type": "markdown",
   "id": "1f303ff1",
   "metadata": {},
   "source": [
    "### Populations and metadata in population order"
   ]
  },
  {
   "cell_type": "code",
   "execution_count": null,
   "id": "e4a15506",
   "metadata": {
    "scrolled": true
   },
   "outputs": [],
   "source": [
    "colnames(imputed)"
   ]
  },
  {
   "cell_type": "code",
   "execution_count": null,
   "id": "d5a16899",
   "metadata": {},
   "outputs": [],
   "source": [
    "c(levels(p$data$Var1), colnames(imputed)[which(!(colnames(imputed) %in% levels(p$data$Var1)))])"
   ]
  },
  {
   "cell_type": "code",
   "execution_count": null,
   "id": "d5252b82",
   "metadata": {
    "scrolled": true
   },
   "outputs": [],
   "source": [
    "levels(p$data$Var1)"
   ]
  },
  {
   "cell_type": "code",
   "execution_count": null,
   "id": "7a739e8d",
   "metadata": {},
   "outputs": [],
   "source": [
    "colnames(imputed)[which(!(colnames(imputed) %in% levels(p$data$Var1)))[c(1,2,3,9,4,5,8,14,21,6,7,10:13,15:20,26)]]"
   ]
  },
  {
   "cell_type": "code",
   "execution_count": null,
   "id": "eda5f22b",
   "metadata": {},
   "outputs": [],
   "source": [
    "colnames_order  <- colnames(imputed)[which(!(colnames(imputed) %in% levels(p$data$Var1)))[c(1,2,3,9,4,5,8,14,21,6,7,10:13,15:20,26)]]"
   ]
  },
  {
   "cell_type": "code",
   "execution_count": null,
   "id": "6fa0bbca",
   "metadata": {},
   "outputs": [],
   "source": [
    "p.mat <- model.matrix(~0+.,\n",
    "                     data=imputed[,c(colnames_order,\n",
    "                                 levels(p$data$Var1))])  %>% \n",
    "   cor_pmat(use=\"pairwise.complete.obs\")\n"
   ]
  },
  {
   "cell_type": "code",
   "execution_count": null,
   "id": "f4c5ae4b",
   "metadata": {},
   "outputs": [],
   "source": [
    "p2  <- model.matrix(~0+.,\n",
    "                     data=imputed[,c(colnames_order,\n",
    "                                 levels(p$data$Var1))])%>% \n",
    "  cor(use=\"pairwise.complete.obs\") %>% \n",
    "ggcorrplot(show.diag=FALSE, method = \"circle\", type=\"full\", lab=F, \n",
    "             lab_size=2, hc.order = F, p.mat = p.mat, insig = \"blank\") + scale_size_continuous(range = c(0,6)) + \n",
    "theme(axis.text.x = element_text(angle = 90))\n",
    "\n",
    "print(p2)"
   ]
  },
  {
   "cell_type": "code",
   "execution_count": null,
   "id": "c17306ec",
   "metadata": {},
   "outputs": [],
   "source": [
    "library(svglite)\n",
    "ggsave(filename = \"../figures/big_correlation_all.png\", width = 20, height = 20)\n",
    "ggsave(filename = \"../figures/big_correlation_all.svg\", width = 20, height = 20)"
   ]
  },
  {
   "cell_type": "code",
   "execution_count": null,
   "id": "850933bd",
   "metadata": {},
   "outputs": [],
   "source": [
    "str_to_upper(gsub(levels(p2$data$Var1), pattern = \"_\", replacement = \" \"))"
   ]
  },
  {
   "cell_type": "markdown",
   "id": "210fe790",
   "metadata": {},
   "source": [
    "## Populations clustering"
   ]
  },
  {
   "cell_type": "markdown",
   "id": "626a8849",
   "metadata": {},
   "source": [
    "# Model "
   ]
  },
  {
   "cell_type": "markdown",
   "id": "23c94de6",
   "metadata": {},
   "source": [
    "### Dia vs Ctrl T0"
   ]
  },
  {
   "cell_type": "code",
   "execution_count": null,
   "id": "3f51cb94",
   "metadata": {},
   "outputs": [],
   "source": [
    "populations_2"
   ]
  },
  {
   "cell_type": "code",
   "execution_count": null,
   "id": "a5a65a1d",
   "metadata": {
    "scrolled": true
   },
   "outputs": [],
   "source": [
    "imputed"
   ]
  },
  {
   "cell_type": "code",
   "execution_count": null,
   "id": "7529ddf7",
   "metadata": {},
   "outputs": [],
   "source": [
    "colnames(imputed)"
   ]
  },
  {
   "cell_type": "code",
   "execution_count": null,
   "id": "b9aa624f",
   "metadata": {},
   "outputs": [],
   "source": [
    "times100  <- function(x){\n",
    "    x = x*100\n",
    "    return(x)\n",
    "}"
   ]
  },
  {
   "cell_type": "code",
   "execution_count": null,
   "id": "81cb9920",
   "metadata": {},
   "outputs": [],
   "source": [
    "model_table_dia_t0_ctrl_t0  <- imputed  %>% \n",
    "dplyr::filter(time == \"T0\" & disease !=\"Pre-Dia\")   %>% \n",
    "dplyr::select(-time)"
   ]
  },
  {
   "cell_type": "code",
   "execution_count": null,
   "id": "2cb0c9c6",
   "metadata": {
    "scrolled": true
   },
   "outputs": [],
   "source": [
    "model_table_dia_t0_ctrl_t0"
   ]
  },
  {
   "cell_type": "code",
   "execution_count": null,
   "id": "3926bcec",
   "metadata": {},
   "outputs": [],
   "source": [
    "colnames(model_table_dia_t0_ctrl_t0)"
   ]
  },
  {
   "cell_type": "code",
   "execution_count": null,
   "id": "38f1f546",
   "metadata": {},
   "outputs": [],
   "source": [
    "mtx4  <- model_table_dia_t0_ctrl_t0"
   ]
  },
  {
   "cell_type": "code",
   "execution_count": null,
   "id": "17945ad6",
   "metadata": {},
   "outputs": [],
   "source": [
    "population_colnames  <- which(substr(colnames(model_table_dia_t0_ctrl_t0),start = 1,stop = 3) %in% c(\"cd4\",\"cd8\"))"
   ]
  },
  {
   "cell_type": "code",
   "execution_count": null,
   "id": "f8ea3f39",
   "metadata": {},
   "outputs": [],
   "source": [
    "population_colnames"
   ]
  },
  {
   "cell_type": "code",
   "execution_count": null,
   "id": "683c5a90",
   "metadata": {
    "scrolled": true
   },
   "outputs": [],
   "source": [
    "i = population_colnames[1]\n",
    "df  <- mtx4  %>% dplyr::select(disease, value = i)  %>% mutate(value = as.numeric(value))\n",
    "    wcx  <- wilcox.test(df$value ~ df$disease, conf.int = T)\n",
    "    df2  <- df  %>% group_by(disease)  %>% summarise(mean = mean(value), sd = sd(value))\n",
    "    df_all  <- data.frame(name = colnames(mtx4)[i], \n",
    "                          pval = wcx$p.value, \n",
    "                          mean_dia = df2$mean[2],\n",
    "                         mean_ctrl = df2$mean[1], \n",
    "                         sd = df2$sd[1]+df2$sd[2],\n",
    "                         upper = wcx$conf.int[2],\n",
    "                         lower = wcx$conf.int[1]\n",
    "                         )  %>% mutate(ratio = (mean_dia)/(mean_ctrl))\n",
    "    \n",
    "for(i in population_colnames[2:length(population_colnames)]){\n",
    "    df  <- mtx4  %>% dplyr::select(disease, value = i)\n",
    "    wcx  <- wilcox.test(df$value ~ df$disease, conf.int = T)\n",
    "    df2  <- df  %>% group_by(disease)  %>% summarise(mean = mean(value), sd = sd(value))\n",
    "    df  <- data.frame(name = colnames(mtx4)[i], \n",
    "                          pval = wcx$p.value, \n",
    "                          mean_dia = df2$mean[2],\n",
    "                         mean_ctrl = df2$mean[1], \n",
    "                         sd = df2$sd[1]+df2$sd[2],\n",
    "                         upper = wcx$conf.int[2],\n",
    "                         lower = wcx$conf.int[1]\n",
    "                         )  %>% mutate(ratio = (mean_dia)/(mean_ctrl))\n",
    "    df_all  <- rbind(df_all, df)\n",
    "}"
   ]
  },
  {
   "cell_type": "code",
   "execution_count": null,
   "id": "d1df0d08",
   "metadata": {
    "scrolled": true
   },
   "outputs": [],
   "source": [
    "df_all  %>% arrange(pval)"
   ]
  },
  {
   "cell_type": "code",
   "execution_count": null,
   "id": "8d0213d2",
   "metadata": {
    "scrolled": true
   },
   "outputs": [],
   "source": [
    "levels  <- df_all  %>% arrange(ratio)  %>% pull(name)\n",
    "\n",
    "options(repr.plot.width = 20, repr.plot.height = 15)\n",
    "\n",
    "levels  <- df_all  %>% arrange(ratio)  %>% pull(name)\n",
    "\n",
    "plot <- df_all  %>% arrange(pval) %>% \n",
    "  mutate(upper = ratio + 1.96 * sd,\n",
    "         lower = ratio - 1.96 * sd) %>%\n",
    "  ggplot(aes(ratio, factor(name, levels = levels), color = ifelse(upper < 1, \"1\", \n",
    "                          ifelse(lower > 1, \"2\", \"3\")))) +\n",
    "  geom_vline(xintercept = 1, color = \"gray75\") +\n",
    "  geom_linerange(aes(xmin = lower, xmax = upper), size = 1.5, alpha = 0.5) +\n",
    "  geom_point(size = 4) +\n",
    "  theme_minimal(base_size = 16) +\n",
    "  scale_color_manual(values = c(\"green4\", \"red3\", \"grey\"), guide = \"none\") +\n",
    "  labs(title = \"Change in populations\", y = NULL,\n",
    "       x = \"Ratio estimate \\n (95% CI)\") +\n",
    "  theme(axis.text.y = element_text(hjust = 0, size = 18), panel.grid = element_blank())\n",
    "\n",
    "plot"
   ]
  },
  {
   "cell_type": "code",
   "execution_count": null,
   "id": "b62b6a6a",
   "metadata": {},
   "outputs": [],
   "source": [
    "dir.create(\"../tables/population_dynamics/\")"
   ]
  },
  {
   "cell_type": "code",
   "execution_count": null,
   "id": "ab712b37",
   "metadata": {},
   "outputs": [],
   "source": [
    "write.csv(df_all, \"../tables/population_dynamics/freq_ctrl_t0_dia_t0_global.csv\")"
   ]
  },
  {
   "cell_type": "markdown",
   "id": "4cfd5ce1",
   "metadata": {},
   "source": [
    "### Dia T1 vs Ctrl T0"
   ]
  },
  {
   "cell_type": "code",
   "execution_count": null,
   "id": "8f34be45",
   "metadata": {},
   "outputs": [],
   "source": [
    "imputed"
   ]
  },
  {
   "cell_type": "code",
   "execution_count": null,
   "id": "88b491e6",
   "metadata": {},
   "outputs": [],
   "source": [
    "model_table_dia_t1_ctrl_t0  <- imputed  %>% \n",
    "mutate(time_disease = paste(time, disease))  %>% \n",
    "dplyr::filter(time_disease %in% c(\"T1 Dia\", \"T0 Ctrl\"))   %>% \n",
    "dplyr::select(-time_disease, -time)"
   ]
  },
  {
   "cell_type": "code",
   "execution_count": null,
   "id": "9fbf26a9",
   "metadata": {
    "scrolled": true
   },
   "outputs": [],
   "source": [
    "model_table_dia_t1_ctrl_t0"
   ]
  },
  {
   "cell_type": "code",
   "execution_count": null,
   "id": "e770abaf",
   "metadata": {},
   "outputs": [],
   "source": [
    "colnames(model_table_dia_t1_ctrl_t0)"
   ]
  },
  {
   "cell_type": "code",
   "execution_count": null,
   "id": "1317107c",
   "metadata": {},
   "outputs": [],
   "source": [
    "mtx4  <- model_table_dia_t1_ctrl_t0"
   ]
  },
  {
   "cell_type": "code",
   "execution_count": null,
   "id": "2eed0a51",
   "metadata": {},
   "outputs": [],
   "source": [
    "population_colnames  <- which(substr(colnames(model_table_dia_t1_ctrl_t0),start = 1,stop = 3) %in% c(\"cd4\",\"cd8\"))"
   ]
  },
  {
   "cell_type": "code",
   "execution_count": null,
   "id": "c854bbae",
   "metadata": {},
   "outputs": [],
   "source": [
    "population_colnames"
   ]
  },
  {
   "cell_type": "code",
   "execution_count": null,
   "id": "a872c1c2",
   "metadata": {
    "scrolled": true
   },
   "outputs": [],
   "source": [
    "i = population_colnames[1]\n",
    "df  <- mtx4  %>% dplyr::select(disease, value = i)  %>% mutate(value = as.numeric(value))\n",
    "    wcx  <- wilcox.test(df$value ~ df$disease, conf.int = T)\n",
    "    df2  <- df  %>% group_by(disease)  %>% summarise(mean = mean(value), sd = sd(value))\n",
    "    df_all  <- data.frame(name = colnames(mtx4)[i], \n",
    "                          pval = wcx$p.value, \n",
    "                          mean_dia = df2$mean[2],\n",
    "                         mean_ctrl = df2$mean[1], \n",
    "                         sd = df2$sd[1]+df2$sd[2],\n",
    "                         upper = wcx$conf.int[2],\n",
    "                         lower = wcx$conf.int[1]\n",
    "                         )  %>% mutate(ratio = (mean_dia)/(mean_ctrl))\n",
    "    \n",
    "for(i in population_colnames[2:length(population_colnames)]){\n",
    "    df  <- mtx4  %>% dplyr::select(disease, value = i)\n",
    "    wcx  <- wilcox.test(df$value ~ df$disease, conf.int = T)\n",
    "    df2  <- df  %>% group_by(disease)  %>% summarise(mean = mean(value), sd = sd(value))\n",
    "    df  <- data.frame(name = colnames(mtx4)[i], \n",
    "                          pval = wcx$p.value, \n",
    "                          mean_dia = df2$mean[2],\n",
    "                         mean_ctrl = df2$mean[1], \n",
    "                         sd = df2$sd[1]+df2$sd[2],\n",
    "                         upper = wcx$conf.int[2],\n",
    "                         lower = wcx$conf.int[1]\n",
    "                         )  %>% mutate(ratio = (mean_dia)/(mean_ctrl))\n",
    "    df_all  <- rbind(df_all, df)\n",
    "}"
   ]
  },
  {
   "cell_type": "code",
   "execution_count": null,
   "id": "c218d96f",
   "metadata": {
    "scrolled": true
   },
   "outputs": [],
   "source": [
    "df_all  %>% arrange(desc(ratio))"
   ]
  },
  {
   "cell_type": "code",
   "execution_count": null,
   "id": "7cafd60c",
   "metadata": {
    "scrolled": true
   },
   "outputs": [],
   "source": [
    "levels  <- df_all  %>% arrange(ratio)  %>% pull(name)\n",
    "\n",
    "options(repr.plot.width = 20, repr.plot.height = 15)\n",
    "\n",
    "levels  <- df_all  %>% arrange(ratio)  %>% pull(name)\n",
    "\n",
    "plot <- df_all  %>% arrange(pval) %>% \n",
    "  mutate(upper = ratio + 1.96 * sd,\n",
    "         lower = ratio - 1.96 * sd) %>%\n",
    "  ggplot(aes(ratio, factor(name, levels = levels), color = ifelse(upper < 1, \"1\", \n",
    "                          ifelse(lower > 1, \"2\", \"3\")))) +\n",
    "  geom_vline(xintercept = 1, color = \"gray75\") +\n",
    "  geom_linerange(aes(xmin = lower, xmax = upper), size = 1.5, alpha = 0.5) +\n",
    "  geom_point(size = 4) +\n",
    "  theme_minimal(base_size = 16) +\n",
    "  scale_color_manual(values = c(\"green4\", \"red3\", \"grey\"), guide = \"none\") +\n",
    "  labs(title = \"Change in populations\", y = NULL,\n",
    "       x = \"Ratio estimate \\n (95% CI)\") +\n",
    "  theme(axis.text.y = element_text(hjust = 0, size = 18), panel.grid = element_blank())\n",
    "\n",
    "plot"
   ]
  },
  {
   "cell_type": "code",
   "execution_count": null,
   "id": "d5d81cff",
   "metadata": {},
   "outputs": [],
   "source": [
    "write.csv(df_all, \"../tables/population_dynamics/freq_dia_t1_ctrl_t0_global.csv\")"
   ]
  },
  {
   "cell_type": "code",
   "execution_count": null,
   "id": "5a62fd35",
   "metadata": {},
   "outputs": [],
   "source": []
  },
  {
   "cell_type": "markdown",
   "id": "56e57774",
   "metadata": {},
   "source": [
    "### Dia T1 vs Dia T0"
   ]
  },
  {
   "cell_type": "code",
   "execution_count": null,
   "id": "18cfb357",
   "metadata": {},
   "outputs": [],
   "source": [
    "imputed"
   ]
  },
  {
   "cell_type": "code",
   "execution_count": null,
   "id": "c01e55b7",
   "metadata": {},
   "outputs": [],
   "source": [
    "model_table_dia_t1_dia_t0  <- imputed  %>% \n",
    "mutate(time_disease = paste(time, disease))  %>% \n",
    "dplyr::filter(time_disease %in% c(\"T1 Dia\", \"T0 Dia\"))   %>% \n",
    "dplyr::select(-time_disease, -disease) %>% \n",
    "dplyr::filter(!(sex == \"M\" & age == 3 & time == \"T0\"))"
   ]
  },
  {
   "cell_type": "code",
   "execution_count": null,
   "id": "d28735a0",
   "metadata": {
    "scrolled": true
   },
   "outputs": [],
   "source": [
    "model_table_dia_t1_dia_t0"
   ]
  },
  {
   "cell_type": "code",
   "execution_count": null,
   "id": "156f2e10",
   "metadata": {},
   "outputs": [],
   "source": [
    "mtx4  <- model_table_dia_t1_ctrl_t0"
   ]
  },
  {
   "cell_type": "code",
   "execution_count": null,
   "id": "41ccd41f",
   "metadata": {},
   "outputs": [],
   "source": [
    "population_colnames  <- which(substr(colnames(model_table_dia_t1_ctrl_t0),start = 1,stop = 3) %in% c(\"cd4\",\"cd8\"))"
   ]
  },
  {
   "cell_type": "code",
   "execution_count": null,
   "id": "becb8e82",
   "metadata": {},
   "outputs": [],
   "source": [
    "population_colnames"
   ]
  },
  {
   "cell_type": "code",
   "execution_count": null,
   "id": "8819d623",
   "metadata": {},
   "outputs": [],
   "source": [
    "i = population_colnames[1]\n",
    "df  <- mtx4  %>% dplyr::select(value = i)  %>% \n",
    "                    mutate(value = as.numeric(value))  %>% \n",
    "pull(value)\n",
    "mtx  <- matrix(df, ncol = 2, byrow = T)  %>% as.data.frame()\n",
    " wcx  <- wilcox.test(mtx$V1, mtx$V2, paired = TRUE, conf.int = T)\n",
    "    df_all  <- data.frame(name = colnames(mtx4)[i], \n",
    "                          pval = wcx$p.value, \n",
    "                          mean_dia = mean(mtx$V1),\n",
    "                         mean_ctrl = mean(mtx$V2), \n",
    "                         sd = sd(mtx$V1),\n",
    "                         upper = wcx$conf.int[2],\n",
    "                         lower = wcx$conf.int[1]\n",
    "                         )  %>% mutate(ratio = (mean_dia)/(mean_ctrl))\n",
    "    "
   ]
  },
  {
   "cell_type": "code",
   "execution_count": null,
   "id": "dd809ac0",
   "metadata": {
    "scrolled": true
   },
   "outputs": [],
   "source": [
    "for(i in population_colnames[2:length(population_colnames)]){\n",
    "   df  <- mtx4  %>% dplyr::select(value = i)  %>% \n",
    "                    mutate(value = as.numeric(value))  %>% \n",
    "pull(value)\n",
    "mtx  <- matrix(df, ncol = 2, byrow = T)  %>% as.data.frame()\n",
    " \n",
    " wcx  <- wilcox.test(mtx$V1, mtx$V2, paired = TRUE, conf.int = T)\n",
    "    df  <- data.frame(name = colnames(mtx4)[i], \n",
    "                          pval = wcx$p.value, \n",
    "                          mean_dia = mean(mtx$V1),\n",
    "                         mean_ctrl = mean(mtx$V2), \n",
    "                         sd = sd(mtx$V1),\n",
    "                         upper = wcx$conf.int[2],\n",
    "                         lower = wcx$conf.int[1]\n",
    "                         )  %>% mutate(ratio = (mean_dia)/(mean_ctrl))\n",
    "    df_all  <- rbind(df_all, df)\n",
    "}"
   ]
  },
  {
   "cell_type": "code",
   "execution_count": null,
   "id": "8025453a",
   "metadata": {
    "scrolled": true
   },
   "outputs": [],
   "source": [
    "df_all  %>% arrange(pval)"
   ]
  },
  {
   "cell_type": "code",
   "execution_count": null,
   "id": "01d70d17",
   "metadata": {
    "scrolled": true
   },
   "outputs": [],
   "source": [
    "levels  <- df_all  %>% arrange(ratio)  %>% pull(name)\n",
    "\n",
    "options(repr.plot.width = 20, repr.plot.height = 15)\n",
    "\n",
    "levels  <- df_all  %>% arrange(ratio)  %>% pull(name)\n",
    "\n",
    "plot <- df_all  %>% arrange(pval) %>% \n",
    "  mutate(upper = ratio + 1.96 * sd,\n",
    "         lower = ratio - 1.96 * sd) %>%\n",
    "  ggplot(aes(ratio, factor(name, levels = levels), color = ifelse(upper < 1, \"1\", \n",
    "                          ifelse(lower > 1, \"2\", \"3\")))) +\n",
    "  geom_vline(xintercept = 1, color = \"gray75\") +\n",
    "  geom_linerange(aes(xmin = lower, xmax = upper), size = 1.5, alpha = 0.5) +\n",
    "  geom_point(size = 4) +\n",
    "  theme_minimal(base_size = 16) +\n",
    "  scale_color_manual(values = c(\"green4\", \"red3\", \"grey\"), guide = \"none\") +\n",
    "  labs(title = \"Change in populations\", y = NULL,\n",
    "       x = \"Ratio estimate \\n (95% CI)\") +\n",
    "  theme(axis.text.y = element_text(hjust = 0, size = 18), panel.grid = element_blank())\n",
    "\n",
    "plot"
   ]
  },
  {
   "cell_type": "code",
   "execution_count": null,
   "id": "bd87ea33",
   "metadata": {},
   "outputs": [],
   "source": [
    "write.csv(df_all, \"../tables/population_dynamics/freq_dia_t1_dia_t0_global.csv\")"
   ]
  },
  {
   "cell_type": "markdown",
   "id": "92a32b11",
   "metadata": {},
   "source": [
    "### Populations - correlations with C-peptide"
   ]
  },
  {
   "cell_type": "code",
   "execution_count": null,
   "id": "6f8b9f83",
   "metadata": {
    "scrolled": true
   },
   "outputs": [],
   "source": [
    "md3"
   ]
  },
  {
   "cell_type": "code",
   "execution_count": null,
   "id": "e97ce7d9",
   "metadata": {},
   "outputs": [],
   "source": [
    "population_colnames  <- which(substr(colnames(md3),start = 1,stop = 3) %in% c(\"cd4\",\"cd8\"))"
   ]
  },
  {
   "cell_type": "code",
   "execution_count": null,
   "id": "fb7b5b15",
   "metadata": {},
   "outputs": [],
   "source": [
    "population_colnames"
   ]
  },
  {
   "cell_type": "code",
   "execution_count": null,
   "id": "f14c8ef9",
   "metadata": {},
   "outputs": [],
   "source": [
    "which(colnames(md3) == \"fasting_cpept_t1\")"
   ]
  },
  {
   "cell_type": "code",
   "execution_count": null,
   "id": "c847c936",
   "metadata": {},
   "outputs": [],
   "source": [
    "calc_correlation  <- function(i){\n",
    "    df  <- md3  %>% dplyr::select(i,116)  %>% filter(!is.na(116))\n",
    "    colnames(df)  <- c(\"value\",\"fasting_cpept_t1\")\n",
    "    cor  <- cor.test(df$value, df$fasting_cpept_t1)\n",
    "    res_df  <- data.frame(population = colnames(md3)[i], \n",
    "                          cor = cor$estimate, \n",
    "                          pval = cor$p.value, \n",
    "                         padj  = ifelse(cor$p.value*40>1,1,cor$p.value*40))\n",
    "    return(res_df)\n",
    "}"
   ]
  },
  {
   "cell_type": "code",
   "execution_count": null,
   "id": "bd051532",
   "metadata": {},
   "outputs": [],
   "source": [
    "test  <- future_map(population_colnames, calc_correlation)"
   ]
  },
  {
   "cell_type": "code",
   "execution_count": null,
   "id": "bfd5901b",
   "metadata": {},
   "outputs": [],
   "source": [
    "test2  <- bind_rows(test)"
   ]
  },
  {
   "cell_type": "code",
   "execution_count": null,
   "id": "15f640ee",
   "metadata": {
    "scrolled": true
   },
   "outputs": [],
   "source": [
    "test2  %>% arrange(pval)"
   ]
  },
  {
   "cell_type": "code",
   "execution_count": null,
   "id": "67d85cd2",
   "metadata": {},
   "outputs": [],
   "source": [
    "maximums  <- c(0.4,0.5,0.25,0.25,0.25,0.7,0.5,0.7,0.25,0.7)"
   ]
  },
  {
   "cell_type": "code",
   "execution_count": null,
   "id": "1e5e225d",
   "metadata": {
    "scrolled": true
   },
   "outputs": [],
   "source": [
    "options(repr.plot.width = 4, repr.plot.height = 4)\n",
    "j = 1\n",
    "for(i in (test2  %>% arrange(pval)  %>% pull(population))[1:10]){\n",
    "    df2 <- md3  %>% dplyr::select(which(colnames(md3)==i), fasting_cpept_T1 = 116) \n",
    "    colnames(df2)  <- c(\"value\", \"fasting_cpept_T1\")\n",
    "  p <-  df2 %>%  ggplot(aes(x=value, y=fasting_cpept_T1)) +\n",
    "  geom_point(shape = 16, size = 2) +\n",
    "  geom_smooth(method=lm, alpha = 0.2) + ggtitle(gsub(str_to_upper(i), pattern = \"_\", replacement = \" \")) + \n",
    "stat_cor(size = 7) + theme_classic() + ggtheme() + xlim(0,maximums[j])\n",
    " p <-   print(p)\n",
    "    j = j+1\n",
    "#library(svglite)\n",
    "#dir.create(\"../figures/correlation_populations/\")\n",
    "ggsave(filename = paste0(\"../figures/correlation_populations/\",i,\".svg\"), width = 5, height = 4.5)\n",
    "    }"
   ]
  },
  {
   "cell_type": "code",
   "execution_count": null,
   "id": "02894bf4",
   "metadata": {},
   "outputs": [],
   "source": [
    "for(i in (test2  %>% arrange(pval)  %>% pull(population))[1:10]){\n",
    "    df2 <- md3  %>% dplyr::select(which(colnames(md3)==i),fasting_cpept_T1 = 116) \n",
    "    colnames(df2)  <- c(\"value\", \"fasting_cpept_T1\")\n",
    "    p  <- df2 %>%  ggplot(aes(x=value, y=fasting_cpept_T1)) +\n",
    "  geom_point(shape = 16, size = 2) +\n",
    " geom_smooth(method=lm) + ggtitle(i) "
   ]
  },
  {
   "cell_type": "code",
   "execution_count": null,
   "id": "ced83ef4",
   "metadata": {},
   "outputs": [],
   "source": [
    "write.csv(test2, \"../tables/population_dynamics/corr_cpept.csv\", row.names = F)"
   ]
  },
  {
   "cell_type": "markdown",
   "id": "b8167838",
   "metadata": {},
   "source": [
    "### Populations - correlations with imputed  C-peptide"
   ]
  },
  {
   "cell_type": "code",
   "execution_count": null,
   "id": "f2098a51",
   "metadata": {},
   "outputs": [],
   "source": [
    "population_colnames  <- which(substr(colnames(imputed),start = 1,stop = 3) %in% c(\"cd4\",\"cd8\"))"
   ]
  },
  {
   "cell_type": "code",
   "execution_count": null,
   "id": "f8ec27ea",
   "metadata": {},
   "outputs": [],
   "source": [
    "population_colnames"
   ]
  },
  {
   "cell_type": "code",
   "execution_count": null,
   "id": "5a0b68c3",
   "metadata": {},
   "outputs": [],
   "source": [
    "which(colnames(imputed) == \"fasting_cpept_t1\")"
   ]
  },
  {
   "cell_type": "code",
   "execution_count": null,
   "id": "717d959b",
   "metadata": {},
   "outputs": [],
   "source": [
    "imputed$fasting_cpept_t1  "
   ]
  },
  {
   "cell_type": "code",
   "execution_count": null,
   "id": "8754bc16",
   "metadata": {},
   "outputs": [],
   "source": [
    "calc_correlation  <- function(i){\n",
    "    df  <- imputed  %>% dplyr::select(i,116)  %>% filter(!is.na(116))\n",
    "    colnames(df)  <- c(\"value\",\"fasting_cpept_t1\")\n",
    "    cor  <- cor.test(df$value, df$fasting_cpept_t1)\n",
    "    res_df  <- data.frame(population = colnames(imputed)[i], \n",
    "                          cor = cor$estimate, \n",
    "                          pval = cor$p.value, \n",
    "                         padj  = ifelse(cor$p.value*40>1,1,cor$p.value*40))\n",
    "    return(res_df)\n",
    "}"
   ]
  },
  {
   "cell_type": "code",
   "execution_count": null,
   "id": "a85e906d",
   "metadata": {},
   "outputs": [],
   "source": [
    "test  <- future_map(population_colnames, calc_correlation)"
   ]
  },
  {
   "cell_type": "code",
   "execution_count": null,
   "id": "300a4112",
   "metadata": {},
   "outputs": [],
   "source": [
    "test2  <- bind_rows(test)"
   ]
  },
  {
   "cell_type": "code",
   "execution_count": null,
   "id": "0c8986a7",
   "metadata": {
    "scrolled": true
   },
   "outputs": [],
   "source": [
    "test2  %>% arrange(pval)"
   ]
  },
  {
   "cell_type": "markdown",
   "id": "18baf548",
   "metadata": {},
   "source": [
    "### Populations - correlations with age"
   ]
  },
  {
   "cell_type": "code",
   "execution_count": null,
   "id": "65bc7bbb",
   "metadata": {
    "scrolled": true
   },
   "outputs": [],
   "source": [
    "md3"
   ]
  },
  {
   "cell_type": "code",
   "execution_count": null,
   "id": "844f6204",
   "metadata": {},
   "outputs": [],
   "source": [
    "population_colnames  <- which(substr(colnames(md3),start = 1,stop = 3) %in% c(\"cd4\",\"cd8\"))"
   ]
  },
  {
   "cell_type": "code",
   "execution_count": null,
   "id": "8b581930",
   "metadata": {},
   "outputs": [],
   "source": [
    "population_colnames"
   ]
  },
  {
   "cell_type": "code",
   "execution_count": null,
   "id": "d3e7df60",
   "metadata": {},
   "outputs": [],
   "source": [
    "which(colnames(md3) == \"age\")"
   ]
  },
  {
   "cell_type": "code",
   "execution_count": null,
   "id": "1c12b7b7",
   "metadata": {},
   "outputs": [],
   "source": [
    "calc_correlation  <- function(i){\n",
    "    df  <- md3  %>% dplyr::select(i,3)  %>% filter(!is.na(3))\n",
    "    colnames(df)  <- c(\"value\",\"age\")\n",
    "    cor  <- cor.test(df$value, df$age)\n",
    "    res_df  <- data.frame(population = colnames(md3)[i], \n",
    "                          cor = cor$estimate, \n",
    "                          pval = cor$p.value, \n",
    "                         padj  = ifelse(cor$p.value*40>1,1,cor$p.value*40))\n",
    "    return(res_df)\n",
    "}"
   ]
  },
  {
   "cell_type": "code",
   "execution_count": null,
   "id": "c0dce4e1",
   "metadata": {},
   "outputs": [],
   "source": [
    "test  <- future_map(population_colnames, calc_correlation)"
   ]
  },
  {
   "cell_type": "code",
   "execution_count": null,
   "id": "035c0c90",
   "metadata": {},
   "outputs": [],
   "source": [
    "test2  <- bind_rows(test)"
   ]
  },
  {
   "cell_type": "code",
   "execution_count": null,
   "id": "c2b01263",
   "metadata": {
    "scrolled": true
   },
   "outputs": [],
   "source": [
    "test3  <- test2  %>% filter(population %in% c(\n",
    "\"cd8_l3_naive3_sox4_stmn1_lrrn3\",\n",
    "\"cd4_l3_treg3_hla_dr_pi16_ccr10\",\n",
    "\"cd8_l2_proliferating\",\n",
    "\"cd4_l3_th1_4_gzmk_cst7_cd27\",\n",
    "\"cd4_l2_th1\",\n",
    "\"cd4_l3_prolif3_foxp3_il2ra_tnfrsf1b\"\n",
    "))"
   ]
  },
  {
   "cell_type": "code",
   "execution_count": null,
   "id": "c04505ce",
   "metadata": {},
   "outputs": [],
   "source": [
    "test3"
   ]
  },
  {
   "cell_type": "code",
   "execution_count": null,
   "id": "95805f90",
   "metadata": {},
   "outputs": [],
   "source": [
    "options(repr.plot.width = 4, repr.plot.height = 4)\n",
    "for(i in (test3  %>% arrange(pval)  %>% pull(population))[1:6]){\n",
    "    df2 <- md3  %>% dplyr::select(which(colnames(md3)==i),age = 3) \n",
    "    colnames(df2)  <- c(\"value\", \"age\")\n",
    "    p  <- df2 %>%  ggplot(aes(x=value, y=age)) +\n",
    "  geom_point(shape = 16, size = 2) +\n",
    " geom_smooth(method=lm) + ggtitle(i) +stat_cor()\n",
    "    print(p)\n",
    "    }"
   ]
  },
  {
   "cell_type": "code",
   "execution_count": null,
   "id": "38dfaaab",
   "metadata": {},
   "outputs": [],
   "source": []
  },
  {
   "cell_type": "code",
   "execution_count": null,
   "id": "a0b4930d",
   "metadata": {},
   "outputs": [],
   "source": [
    "write.csv(test2, \"../tables/population_dynamics/corr_age.csv\", row.names = F)"
   ]
  },
  {
   "cell_type": "markdown",
   "id": "a146c4b2",
   "metadata": {},
   "source": [
    "## Heatmap population dynammics"
   ]
  },
  {
   "cell_type": "code",
   "execution_count": null,
   "id": "892fc8cf",
   "metadata": {},
   "outputs": [],
   "source": [
    "list.files(\"../tables/population_dynamics/\")"
   ]
  },
  {
   "cell_type": "code",
   "execution_count": null,
   "id": "76aa546f",
   "metadata": {
    "scrolled": true
   },
   "outputs": [],
   "source": [
    "library(data.table)"
   ]
  },
  {
   "cell_type": "code",
   "execution_count": null,
   "id": "e5d96658",
   "metadata": {
    "scrolled": true
   },
   "outputs": [],
   "source": [
    "tables  <- map(list.files(\"../tables/population_dynamics/\", full.names = TRUE), read_csv) "
   ]
  },
  {
   "cell_type": "code",
   "execution_count": null,
   "id": "8f6ab343",
   "metadata": {},
   "outputs": [],
   "source": [
    "tables"
   ]
  },
  {
   "cell_type": "code",
   "execution_count": null,
   "id": "3725fb77",
   "metadata": {},
   "outputs": [],
   "source": [
    "list.files(\"../tables/population_dynamics/\")"
   ]
  },
  {
   "cell_type": "code",
   "execution_count": null,
   "id": "7428a940",
   "metadata": {
    "scrolled": true
   },
   "outputs": [],
   "source": [
    "tables[[5]]"
   ]
  },
  {
   "cell_type": "code",
   "execution_count": null,
   "id": "71a05ed5",
   "metadata": {},
   "outputs": [],
   "source": [
    "age  <- tables[[1]]  %>% dplyr::select(population, corr_age = cor)\n",
    "cpept  <- tables[[2]]  %>% dplyr::select(population, corr_cpept = cor)\n",
    "ctrl_t0_dia_t0  <- tables[[3]]  %>% dplyr::select(population = name, ratio_dia_t0_ctrl_t0 = ratio)\n",
    "ctrl_t0_dia_t1  <- tables[[4]]  %>% dplyr::select(population = name, ratio_dia_t1_ctrl_t0 = ratio)\n",
    "dia_t1_dia_t0  <- tables[[5]]  %>% dplyr::select(population = name, ratio_dia_t1_dia_t0 = ratio)\n"
   ]
  },
  {
   "cell_type": "code",
   "execution_count": null,
   "id": "f569b6c3",
   "metadata": {},
   "outputs": [],
   "source": [
    "all_pop_tables  <- left_join(age, cpept)\n",
    "all_pop_tables  <- left_join(all_pop_tables, ctrl_t0_dia_t0)\n",
    "all_pop_tables  <- left_join(all_pop_tables, ctrl_t0_dia_t1)\n",
    "all_pop_tables  <- left_join(all_pop_tables, dia_t1_dia_t0)\n"
   ]
  },
  {
   "cell_type": "code",
   "execution_count": null,
   "id": "1da8417f",
   "metadata": {
    "scrolled": true
   },
   "outputs": [],
   "source": [
    "all_pop_tables"
   ]
  },
  {
   "cell_type": "code",
   "execution_count": null,
   "id": "22de1226",
   "metadata": {
    "scrolled": true
   },
   "outputs": [],
   "source": [
    "mtx  <- as.matrix(all_pop_tables[,2:6])"
   ]
  },
  {
   "cell_type": "code",
   "execution_count": null,
   "id": "4437dc4f",
   "metadata": {},
   "outputs": [],
   "source": [
    "rownames(mtx)  <- all_pop_tables$population"
   ]
  },
  {
   "cell_type": "code",
   "execution_count": null,
   "id": "327b6879",
   "metadata": {},
   "outputs": [],
   "source": [
    "options(repr.plot.width = 20, repr.plot.height = 20)\n",
    "pheatmap::pheatmap(mtx[which(rownames(mtx)!= \"cd8_l3_tcm7_klrb1_lst1_blk\"),], scale = \"column\", \n",
    "                   cluster_rows = T, \n",
    "                   cluster_cols = T, \n",
    "                   color = colorRampPalette(c(\"dodgerblue\",\"lightblue\",\"lightblue\", \"white\",\"indianred2\",\"indianred2\",\"indianred4\"))(50))"
   ]
  },
  {
   "cell_type": "markdown",
   "id": "a6785375",
   "metadata": {},
   "source": [
    "## Corr matrix"
   ]
  },
  {
   "cell_type": "markdown",
   "id": "83acb88e",
   "metadata": {},
   "source": [
    "### Feature Matrix"
   ]
  },
  {
   "cell_type": "code",
   "execution_count": null,
   "id": "616fdf32",
   "metadata": {},
   "outputs": [],
   "source": [
    "age  <- tables[[1]]  %>% dplyr::select(population, corr_age = cor)\n",
    "cpept  <- tables[[2]]  %>% dplyr::select(population, corr_cpept = cor)\n",
    "ctrl_t0_dia_t0  <- tables[[3]]  %>% dplyr::select(population = name, ratio_dia_t0_ctrl_t0 = ratio)\n",
    "ctrl_t0_dia_t1  <- tables[[4]]  %>% dplyr::select(population = name, ratio_dia_t1_ctrl_t0 = ratio)\n",
    "dia_t1_dia_t0  <- tables[[5]]  %>% dplyr::select(population = name, ratio_dia_t1_dia_t0 = ratio)\n"
   ]
  },
  {
   "cell_type": "code",
   "execution_count": null,
   "id": "e6d583dc",
   "metadata": {},
   "outputs": [],
   "source": [
    "all_pop_tables  <- left_join(age, cpept)\n",
    "all_pop_tables  <- left_join(all_pop_tables, ctrl_t0_dia_t0)\n",
    "all_pop_tables  <- left_join(all_pop_tables, ctrl_t0_dia_t1)\n",
    "all_pop_tables  <- left_join(all_pop_tables, dia_t1_dia_t0)\n"
   ]
  },
  {
   "cell_type": "code",
   "execution_count": null,
   "id": "cf31f92b",
   "metadata": {
    "scrolled": true
   },
   "outputs": [],
   "source": [
    "all_pop_tables"
   ]
  },
  {
   "cell_type": "code",
   "execution_count": null,
   "id": "414673a7",
   "metadata": {
    "scrolled": true
   },
   "outputs": [],
   "source": [
    "mtx  <- as.matrix(all_pop_tables[,2:6])"
   ]
  },
  {
   "cell_type": "code",
   "execution_count": null,
   "id": "bef011af",
   "metadata": {},
   "outputs": [],
   "source": [
    "rownames(mtx)  <- all_pop_tables$population"
   ]
  },
  {
   "cell_type": "code",
   "execution_count": null,
   "id": "39bf4d74",
   "metadata": {},
   "outputs": [],
   "source": [
    "options(repr.plot.width = 20, repr.plot.height = 20)\n",
    "pheatmap::pheatmap(mtx[which(rownames(mtx)!= \"cd8_l3_tcm7_klrb1_lst1_blk\"),], scale = \"column\", \n",
    "                   cluster_rows = T, \n",
    "                   cluster_cols = T, \n",
    "                   color = colorRampPalette(c(\"dodgerblue\",\"lightblue\",\"lightblue\", \"white\",\"indianred2\",\"indianred2\",\"indianred4\"))(50))"
   ]
  },
  {
   "cell_type": "code",
   "execution_count": null,
   "id": "7a64e287",
   "metadata": {},
   "outputs": [],
   "source": [
    "options(repr.plot.width = 20, repr.plot.height = 20)\n",
    "pheatmap::pheatmap(mtx, scale = \"column\", \n",
    "                   cluster_rows = T, \n",
    "                   cluster_cols = T, \n",
    "                   color = colorRampPalette(c(\"dodgerblue\",\"lightblue\",\n",
    "                                              \"lightblue\", \"white\",\"indianred2\",\n",
    "                                              \"indianred2\",\"indianred4\"))(50))"
   ]
  },
  {
   "cell_type": "code",
   "execution_count": null,
   "id": "95235f39",
   "metadata": {
    "scrolled": true
   },
   "outputs": [],
   "source": [
    "mtx"
   ]
  },
  {
   "cell_type": "markdown",
   "id": "247b662b",
   "metadata": {},
   "source": [
    "### P-val matrix"
   ]
  },
  {
   "cell_type": "code",
   "execution_count": null,
   "id": "88b87f4a",
   "metadata": {
    "scrolled": true
   },
   "outputs": [],
   "source": [
    "tables[[3]]"
   ]
  },
  {
   "cell_type": "code",
   "execution_count": null,
   "id": "c850fc24",
   "metadata": {
    "scrolled": true
   },
   "outputs": [],
   "source": [
    "### Feature Matrix\n",
    "\n",
    "age  <- tables[[1]]  %>% dplyr::select(population, corr_age = pval)\n",
    "cpept  <- tables[[2]]  %>% dplyr::select(population, corr_cpept = pval)\n",
    "ctrl_t0_dia_t0  <- tables[[3]]  %>% dplyr::select(population = name, ratio_dia_t0_ctrl_t0 = pval)\n",
    "ctrl_t0_dia_t1  <- tables[[4]]  %>% dplyr::select(population = name, ratio_dia_t1_ctrl_t0 = pval)\n",
    "dia_t1_dia_t0  <- tables[[5]]  %>% dplyr::select(population = name, ratio_dia_t1_dia_t0 = pval)\n",
    "\n",
    "\n",
    "all_pop_tables_pval  <- left_join(age, cpept)\n",
    "all_pop_tables_pval  <- left_join(all_pop_tables_pval, ctrl_t0_dia_t0)\n",
    "all_pop_tables_pval  <- left_join(all_pop_tables_pval, ctrl_t0_dia_t1)\n",
    "all_pop_tables_pval  <- left_join(all_pop_tables_pval, dia_t1_dia_t0)\n",
    "\n",
    "mtx_pval  <- as.matrix(all_pop_tables_pval[,2:6])\n",
    "\n",
    "rownames(mtx_pval)  <- all_pop_tables_pval$population"
   ]
  },
  {
   "cell_type": "code",
   "execution_count": null,
   "id": "5e550fc8",
   "metadata": {
    "scrolled": true
   },
   "outputs": [],
   "source": [
    "mtx_pval"
   ]
  },
  {
   "cell_type": "markdown",
   "id": "3ec17866",
   "metadata": {},
   "source": [
    "### Feature matrix by ggcorrplot"
   ]
  },
  {
   "cell_type": "code",
   "execution_count": null,
   "id": "886f2c72",
   "metadata": {},
   "outputs": [],
   "source": [
    "mtx_scaled  <- scale(x = mtx)"
   ]
  },
  {
   "cell_type": "code",
   "execution_count": null,
   "id": "8dc4cebe",
   "metadata": {},
   "outputs": [],
   "source": [
    "corrplot(mtx_scaled, is.corr = FALSE,\n",
    "title = \"Correlation of features in patient samples\", \n",
    "mar = c(0,0,1,0), number.cex = 0.5, number.digits = 2,\n",
    "p.mat =   mtx_pval, insig = 'label_sig', #insig = \"blank\", sig.level = 0.05,    \n",
    "number.font = 2, order = 'hclust', addrect = 20, \n",
    "        tl.col = \"black\")"
   ]
  },
  {
   "cell_type": "code",
   "execution_count": null,
   "id": "cf120418",
   "metadata": {},
   "outputs": [],
   "source": []
  },
  {
   "cell_type": "markdown",
   "id": "40e98320",
   "metadata": {},
   "source": [
    "# PCA populations"
   ]
  },
  {
   "cell_type": "code",
   "execution_count": null,
   "id": "a147d7a4",
   "metadata": {},
   "outputs": [],
   "source": [
    "imputed"
   ]
  },
  {
   "cell_type": "code",
   "execution_count": null,
   "id": "1828b6de",
   "metadata": {},
   "outputs": [],
   "source": [
    "population_colnames  <- which(substr(colnames(imputed),start = 1,stop = 3) %in% c(\"cd4\",\"cd8\"))"
   ]
  },
  {
   "cell_type": "code",
   "execution_count": null,
   "id": "94b36b89",
   "metadata": {},
   "outputs": [],
   "source": [
    "population_colnames"
   ]
  },
  {
   "cell_type": "code",
   "execution_count": null,
   "id": "0b60053b",
   "metadata": {},
   "outputs": [],
   "source": [
    "pca_populations  <- imputed  %>% \n",
    "dplyr::select(population_colnames)   %>% t"
   ]
  },
  {
   "cell_type": "code",
   "execution_count": null,
   "id": "37ade8a8",
   "metadata": {},
   "outputs": [],
   "source": [
    "pca_populations"
   ]
  },
  {
   "cell_type": "code",
   "execution_count": null,
   "id": "61f1cf7f",
   "metadata": {},
   "outputs": [],
   "source": [
    "library(\"factoextra\")\n",
    "library(\"FactoMineR\")"
   ]
  },
  {
   "cell_type": "code",
   "execution_count": null,
   "id": "f6cd5945",
   "metadata": {},
   "outputs": [],
   "source": [
    "res.pca <- PCA(t(pca_populations),  graph = FALSE, ncp = 20)"
   ]
  },
  {
   "cell_type": "code",
   "execution_count": null,
   "id": "c4c92879",
   "metadata": {},
   "outputs": [],
   "source": [
    "fviz_screeplot(res.pca, addlabels = TRUE, ylim = c(0, 50), ncp = 20)"
   ]
  },
  {
   "cell_type": "code",
   "execution_count": null,
   "id": "6062eccd",
   "metadata": {
    "scrolled": true
   },
   "outputs": [],
   "source": [
    "res.pca$ind$coord"
   ]
  },
  {
   "cell_type": "code",
   "execution_count": null,
   "id": "28ce8257",
   "metadata": {},
   "outputs": [],
   "source": [
    "var <- get_pca_var(res.pca)\n",
    "head(var$contrib)"
   ]
  },
  {
   "cell_type": "code",
   "execution_count": null,
   "id": "0efb3920",
   "metadata": {},
   "outputs": [],
   "source": [
    "fviz_pca_var(res.pca, col.var=\"contrib\",\n",
    "             gradient.cols = c(\"#00AFBB\", \"#E7B800\", \"#FC4E07\"),\n",
    "             repel = TRUE # Avoid text overlapping\n",
    "             )"
   ]
  },
  {
   "cell_type": "code",
   "execution_count": null,
   "id": "d3f5213c",
   "metadata": {},
   "outputs": [],
   "source": [
    "metadata_pca  <- imputed  %>% \n",
    "dplyr::select(1:4)  %>% mutate(\n",
    "dia_time = paste(disease, time))"
   ]
  },
  {
   "cell_type": "code",
   "execution_count": null,
   "id": "eb0cb28e",
   "metadata": {},
   "outputs": [],
   "source": [
    "options(repr.plot.width = 6, repr.plot.height = 5)\n",
    "fviz_pca_ind(res.pca, col.ind = metadata_pca$disease)"
   ]
  },
  {
   "cell_type": "code",
   "execution_count": null,
   "id": "ca11c443",
   "metadata": {},
   "outputs": [],
   "source": [
    "fviz_pca_ind(res.pca, col.ind = metadata_pca$age)"
   ]
  },
  {
   "cell_type": "code",
   "execution_count": null,
   "id": "dc1cd721",
   "metadata": {},
   "outputs": [],
   "source": [
    "fviz_pca_ind(res.pca, col.ind = metadata_pca$Disease, axes = c(1,2))"
   ]
  },
  {
   "cell_type": "code",
   "execution_count": null,
   "id": "c388e9eb",
   "metadata": {},
   "outputs": [],
   "source": [
    "fviz_pca_ind(res.pca, col.ind = metadata_pca$age, axes = c(3,4))"
   ]
  },
  {
   "cell_type": "code",
   "execution_count": null,
   "id": "5175676e",
   "metadata": {
    "scrolled": true
   },
   "outputs": [],
   "source": [
    "fviz_pca_ind(res.pca, col.ind = metadata_pca$disease, axes = c(3,4))"
   ]
  },
  {
   "cell_type": "code",
   "execution_count": null,
   "id": "f88a3968",
   "metadata": {},
   "outputs": [],
   "source": [
    "fviz_pca_ind(res.pca, col.ind = metadata_pca$disease, axes = c(4,5))"
   ]
  },
  {
   "cell_type": "code",
   "execution_count": null,
   "id": "59119dfa",
   "metadata": {},
   "outputs": [],
   "source": [
    "df_pca  <- res.pca$ind$coord"
   ]
  },
  {
   "cell_type": "code",
   "execution_count": null,
   "id": "75550cc0",
   "metadata": {
    "scrolled": true
   },
   "outputs": [],
   "source": [
    "df_pca  <- cbind(df_pca, metadata_pca)"
   ]
  },
  {
   "cell_type": "code",
   "execution_count": null,
   "id": "da3376b6",
   "metadata": {},
   "outputs": [],
   "source": [
    "df_pca"
   ]
  },
  {
   "cell_type": "code",
   "execution_count": null,
   "id": "4ee7b22f",
   "metadata": {
    "scrolled": true
   },
   "outputs": [],
   "source": [
    "df_pca   <- df_pca %>% pivot_longer(starts_with(\"Dim\"), names_to = \"Dim\", values_to = \"value\")"
   ]
  },
  {
   "cell_type": "code",
   "execution_count": null,
   "id": "d4994bff",
   "metadata": {
    "scrolled": true
   },
   "outputs": [],
   "source": [
    "df_pca"
   ]
  },
  {
   "cell_type": "code",
   "execution_count": null,
   "id": "5bbfc9a3",
   "metadata": {},
   "outputs": [],
   "source": [
    "options(repr.plot.width = 26, repr.plot.height = 25)\n",
    "\n",
    "df_pca  %>% \n",
    "ggplot(aes(x = disease, y = value)) + \n",
    "geom_boxplot(outlier.shape = NA, \n",
    "           alpha = 0.5, width = 0.9, aes(fill = disease)) +\n",
    "   geom_dotplot(binaxis='y', stackdir='center', dotsize=0) + \n",
    "   geom_jitter(binaxis='y', position=position_jitter(width = 0.1, height = 0), \n",
    "  size = 3, stackdir='center', aes(fill = disease, shape = disease), color = \"black\") + \n",
    "  facet_wrap(~Dim, scales = \"free\", ncol = 4) +\n",
    "scale_shape_manual(values = c(21,22,22))+\n",
    "scale_fill_manual(values = c(\"lightsteelblue1\",\"rosybrown1\", \"purple\"))+\n",
    "  ylab(\"Frequency\") +\n",
    "  xlab(\"Condition\") +\n",
    "  theme_classic() +\n",
    "ggtheme() +\n",
    "ggpubr::stat_compare_means(label.x= 1.1, label.y.npc = 1, size = 7.025, vjust = 0.3, label = \"p.format\")+\n",
    "  theme(strip.background = element_blank(), panel.grid = element_blank()) + \n",
    "  theme(axis.text = element_text(color = \"black\"),\n",
    "        axis.line = element_line(color = \"black\"),\n",
    "        axis.text.x = element_text(angle = 90))"
   ]
  },
  {
   "cell_type": "code",
   "execution_count": null,
   "id": "b8f8718c",
   "metadata": {},
   "outputs": [],
   "source": [
    "options(repr.plot.width = 26, repr.plot.height = 25)\n",
    "\n",
    "df_pca  %>% \n",
    "filter(time == \"T0\")  %>% \n",
    "ggplot(aes(x = disease, y = value)) + \n",
    "geom_boxplot(outlier.shape = NA, \n",
    "           alpha = 0.5, width = 0.9, aes(fill = disease)) +\n",
    "   geom_dotplot(binaxis='y', stackdir='center', dotsize=0) + \n",
    "   geom_jitter(binaxis='y', position=position_jitter(width = 0.1, height = 0), \n",
    "  size = 3, stackdir='center', aes(fill = disease, shape = disease), color = \"black\") + \n",
    "  facet_wrap(~Dim, scales = \"free\", ncol = 4) +\n",
    "scale_shape_manual(values = c(21,22,22))+\n",
    "scale_fill_manual(values = c(\"lightsteelblue1\",\"rosybrown1\", \"purple\"))+\n",
    "  ylab(\"Frequency\") +\n",
    "  xlab(\"Condition\") +\n",
    "  theme_classic() +\n",
    "ggtheme() +\n",
    "ggpubr::stat_compare_means(label.x= 1.1, label.y.npc = 1, size = 7.025, vjust = 0.3, label = \"p.format\")+\n",
    "  theme(strip.background = element_blank(), panel.grid = element_blank()) + \n",
    "  theme(axis.text = element_text(color = \"black\"),\n",
    "        axis.line = element_line(color = \"black\"),\n",
    "        axis.text.x = element_text(angle = 90))"
   ]
  },
  {
   "cell_type": "code",
   "execution_count": null,
   "id": "461f24e6",
   "metadata": {},
   "outputs": [],
   "source": [
    "options(repr.plot.width = 26, repr.plot.height = 25)\n",
    "\n",
    "df_pca  %>% \n",
    "filter(disease %in% c(\"Dia\", \"Ctrl\"))  %>% \n",
    "ggplot(aes(x = disease, y = value)) + \n",
    "geom_boxplot(outlier.shape = NA, \n",
    "           alpha = 0.5, width = 0.9, aes(fill = disease)) +\n",
    "   geom_dotplot(binaxis='y', stackdir='center', dotsize=0) + \n",
    "   geom_jitter(binaxis='y', position=position_jitter(width = 0.1, height = 0), \n",
    "  size = 3, stackdir='center', aes(fill = disease, shape = disease), color = \"black\") + \n",
    "  facet_wrap(~Dim, scales = \"free\", ncol = 4) +\n",
    "scale_shape_manual(values = c(21,22,22))+\n",
    "scale_fill_manual(values = c(\"lightsteelblue1\",\"rosybrown1\", \"purple\"))+\n",
    "  ylab(\"Frequency\") +\n",
    "  xlab(\"Condition\") +\n",
    "  theme_classic() +\n",
    "ggtheme() +\n",
    "ggpubr::stat_compare_means(label.x= 1.1, label.y.npc = 1, size = 7.025, vjust = 0.3, label = \"p.format\")+\n",
    "  theme(strip.background = element_blank(), panel.grid = element_blank()) + \n",
    "  theme(axis.text = element_text(color = \"black\"),\n",
    "        axis.line = element_line(color = \"black\"),\n",
    "        axis.text.x = element_text(angle = 90))"
   ]
  },
  {
   "cell_type": "code",
   "execution_count": null,
   "id": "83ebdc27",
   "metadata": {},
   "outputs": [],
   "source": [
    "options(repr.plot.width = 6, repr.plot.height = 5)\n",
    "fviz_pca_ind(res.pca, col.ind = metadata_pca$disease, axes = c(4,6))"
   ]
  },
  {
   "cell_type": "code",
   "execution_count": null,
   "id": "37e75ee4",
   "metadata": {},
   "outputs": [],
   "source": [
    "options(repr.plot.width = 16, repr.plot.height = 16)\n",
    "fviz_pca_var(res.pca, col.var=\"contrib\",\n",
    "             gradient.cols = c(\"#00AFBB\", \"#E7B800\", \"#FC4E07\"),\n",
    "             axes = c(4,6),\n",
    "             repel = TRUE # Avoid text overlapping\n",
    "             )"
   ]
  },
  {
   "cell_type": "code",
   "execution_count": null,
   "id": "3724e320",
   "metadata": {},
   "outputs": [],
   "source": [
    "options(repr.plot.width = 26, repr.plot.height = 25)\n",
    "\n",
    "df_pca  %>% \n",
    "filter(Condition %in% c(\"Dia T0\"))  %>% \n",
    "ggplot(aes(x = Condition2, y = value)) + \n",
    "geom_boxplot(outlier.shape = NA, \n",
    "           alpha = 0.5, width = 0.9, aes(fill = disease)) +\n",
    "   geom_dotplot(binaxis='y', stackdir='center', dotsize=0) + \n",
    "   geom_jitter(binaxis='y', position=position_jitter(width = 0.1, height = 0), \n",
    "  size = 3, stackdir='center', aes(fill = disease, shape = disease), color = \"black\") + \n",
    "  facet_wrap(~Dim, scales = \"free\", ncol = 4) +\n",
    "scale_shape_manual(values = c(21,22,22))+\n",
    "scale_fill_manual(values = c(\"lightsteelblue1\",\"rosybrown1\", \"purple\"))+\n",
    "  ylab(\"Frequency\") +\n",
    "  xlab(\"Condition\") +\n",
    "  theme_classic() +\n",
    "ggtheme() +\n",
    "ggpubr::stat_compare_means(label.x= 1.1, label.y.npc = 1, size = 7.025, vjust = 0.3, label = \"p.format\")+\n",
    "  theme(strip.background = element_blank(), panel.grid = element_blank()) + \n",
    "  theme(axis.text = element_text(color = \"black\"),\n",
    "        axis.line = element_line(color = \"black\"),\n",
    "        axis.text.x = element_text(angle = 90))"
   ]
  },
  {
   "cell_type": "code",
   "execution_count": null,
   "id": "189c5299",
   "metadata": {},
   "outputs": [],
   "source": []
  },
  {
   "cell_type": "markdown",
   "id": "aa2b1729",
   "metadata": {},
   "source": [
    "# Population Freq of Total"
   ]
  },
  {
   "cell_type": "code",
   "execution_count": null,
   "id": "3e682f09",
   "metadata": {},
   "outputs": [],
   "source": [
    "cd4_l1_full  <- readRDS(\"../data/processed/L1/cd4_l1_full_filt.rds\")"
   ]
  },
  {
   "cell_type": "code",
   "execution_count": null,
   "id": "dc819d85",
   "metadata": {},
   "outputs": [],
   "source": [
    "cd8_l1_full  <- readRDS(\"../data/processed/L1/cd8_l1_full_filt.rds\")"
   ]
  },
  {
   "cell_type": "code",
   "execution_count": null,
   "id": "5cef65a3",
   "metadata": {},
   "outputs": [],
   "source": [
    "options(repr.plot.width = 14, repr.plot.height = 4)\n",
    "DimPlot(cd4_l1_full, group.by = \"annotations_l3\", raster = T)"
   ]
  },
  {
   "cell_type": "code",
   "execution_count": null,
   "id": "a886a376",
   "metadata": {},
   "outputs": [],
   "source": [
    "options(repr.plot.height = 4, repr.plot.width = 20)\n",
    "\n",
    "DimPlot(cd8_l1_full, group.by = \"annotations_l3\", raster = T)"
   ]
  },
  {
   "cell_type": "code",
   "execution_count": null,
   "id": "fb6e0c3a",
   "metadata": {},
   "outputs": [],
   "source": [
    "full  <- merge(cd4_l1_full, cd8_l1_full)"
   ]
  },
  {
   "cell_type": "code",
   "execution_count": null,
   "id": "e2c54301",
   "metadata": {},
   "outputs": [],
   "source": [
    "full@meta.data  <- full@meta.data  %>% \n",
    "mutate(annotations_l2  = gsub(pattern = \" T cells\", replacement = \"\", x = annotations_l3))  %>% \n",
    "separate(annotations_l2, into = c(\"annotations_l2\", NA), sep = \":\")  %>% \n",
    "mutate(annotations_l2  = gsub(pattern = \"Unconventional_CD8 Unc\", replacement = \"CD8_Unc\", x = annotations_l2))  %>% \n",
    "mutate(annotations_l2  = gsub(pattern = \"Unconventional_Unc\", replacement = \"CD4_Unc_\", x = annotations_l2))   %>% \n",
    "separate(annotations_l2, into = c(\"Level1\", \"Level2\",NA,NA), sep = \"_\")  \n"
   ]
  },
  {
   "cell_type": "code",
   "execution_count": null,
   "id": "c4e5ec5c",
   "metadata": {},
   "outputs": [],
   "source": [
    "full$annotations_l2   <- paste(full$Level1, full$Level2)"
   ]
  },
  {
   "cell_type": "code",
   "execution_count": null,
   "id": "a8e04ada",
   "metadata": {},
   "outputs": [],
   "source": [
    "full$annotations_l2  %>% table"
   ]
  },
  {
   "cell_type": "code",
   "execution_count": null,
   "id": "df58457b",
   "metadata": {
    "scrolled": true
   },
   "outputs": [],
   "source": [
    "full$Sample_char  %>% table"
   ]
  },
  {
   "cell_type": "code",
   "execution_count": null,
   "id": "72a2faa9",
   "metadata": {
    "scrolled": true
   },
   "outputs": [],
   "source": [
    "full@meta.data  %>% colnames"
   ]
  },
  {
   "cell_type": "code",
   "execution_count": null,
   "id": "d96373c5",
   "metadata": {},
   "outputs": [],
   "source": [
    "seurat_meta_data <- full@meta.data\n",
    "\n",
    "\n",
    "# Create grouped dataframe, calculate the frequencies of clusters\n",
    "df3  <- seurat_meta_data %>% \n",
    "  group_by(Sample_char, annotations_l2) %>% \n",
    "  summarise(n = n()) %>% \n",
    "  unique() %>% \n",
    "  mutate(freq = n / sum(n))  %>% \n",
    "dplyr::select(-n)  %>% \n",
    "ungroup   %>% \n",
    "pivot_wider(names_from = \"annotations_l2\", values_from = \"freq\", values_fill = 0) \n",
    "df4  <- left_join((full@meta.data %>% dplyr::select(Sample_char) %>% unique), df3)\n",
    "df4[is.na(df4)] <- 0\n",
    "\n"
   ]
  },
  {
   "cell_type": "code",
   "execution_count": null,
   "id": "0e48f11a",
   "metadata": {
    "scrolled": true
   },
   "outputs": [],
   "source": [
    "df4 "
   ]
  },
  {
   "cell_type": "code",
   "execution_count": null,
   "id": "3da74a01",
   "metadata": {},
   "outputs": [],
   "source": [
    "model_table_dia_t0_ctrl_t0  <- df4  %>% separate(Sample_char, \n",
    "                                                 into = c(\"Patient_ID\", \"Disease\", \"Time\", \"Age_group\", \"Sex\", \"Exp\"),\n",
    "                                                remove = F, sep = \" \")  %>% \n",
    "dplyr::filter(Time == \"T0\" & Exp %in% c(\"Exp16\", \"Exp18\", \"Exp19\", \"Exp20\") & Disease != \"Pre-Dia\")"
   ]
  },
  {
   "cell_type": "code",
   "execution_count": null,
   "id": "4805218b",
   "metadata": {},
   "outputs": [],
   "source": [
    "colnames(model_table_dia_t0_ctrl_t0)"
   ]
  },
  {
   "cell_type": "code",
   "execution_count": null,
   "id": "f87e64a0",
   "metadata": {},
   "outputs": [],
   "source": [
    "colnames(model_table_dia_t0_ctrl_t0)  <- janitor::make_clean_names(colnames(model_table_dia_t0_ctrl_t0))"
   ]
  },
  {
   "cell_type": "code",
   "execution_count": null,
   "id": "55b02874",
   "metadata": {},
   "outputs": [],
   "source": [
    "colnames(model_table_dia_t0_ctrl_t0)"
   ]
  },
  {
   "cell_type": "code",
   "execution_count": null,
   "id": "10a6e9a4",
   "metadata": {},
   "outputs": [],
   "source": [
    "model_table_dia_t0_ctrl_t0  <- model_table_dia_t0_ctrl_t0  %>% mutate_at(8:24, as.numeric)"
   ]
  },
  {
   "cell_type": "code",
   "execution_count": null,
   "id": "c7f1c5e0",
   "metadata": {},
   "outputs": [],
   "source": [
    "model_table_dia_t0_ctrl_t0 <- model_table_dia_t0_ctrl_t0  %>% mutate_at(c(3,5,6), as.factor)"
   ]
  },
  {
   "cell_type": "code",
   "execution_count": null,
   "id": "c6581eac",
   "metadata": {},
   "outputs": [],
   "source": [
    "binom.glm <- glm(disease ~ sex  + cd4_proliferating + cd4_temra + cd4_tfh + \n",
    "cd4_th1 + cd4_th17 + cd4_th2 + cd4_treg + cd4_unc + cd8_naive + cd8_proliferating + \n",
    "                 cd8_tcm + cd8_tem + cd8_temra + cd8_unc + nk_cells_nk -1,\n",
    "                 data = model_table_dia_t0_ctrl_t0, family = binomial)"
   ]
  },
  {
   "cell_type": "code",
   "execution_count": null,
   "id": "accb63e0",
   "metadata": {},
   "outputs": [],
   "source": [
    "binom.glm"
   ]
  },
  {
   "cell_type": "code",
   "execution_count": null,
   "id": "bd56a0ee",
   "metadata": {},
   "outputs": [],
   "source": [
    "summary(binom.glm)"
   ]
  },
  {
   "cell_type": "code",
   "execution_count": null,
   "id": "816a20da",
   "metadata": {},
   "outputs": [],
   "source": [
    "Explained_variance = (84.564 - 54.524) / 84.564\n",
    "Explained_variance"
   ]
  },
  {
   "cell_type": "code",
   "execution_count": null,
   "id": "fb1e5453",
   "metadata": {},
   "outputs": [],
   "source": [
    "pchisq(54.524, 49, lower.tail = FALSE)"
   ]
  },
  {
   "cell_type": "code",
   "execution_count": null,
   "id": "da1a98a5",
   "metadata": {},
   "outputs": [],
   "source": [
    "res  <- coef(summary(binom.glm))  %>% as.data.frame()\n",
    "colnames(res)  <- c(\"estimate\", \"std.error\", \"z\", \"p\")\n",
    "res$term  <- rownames(res)"
   ]
  },
  {
   "cell_type": "code",
   "execution_count": null,
   "id": "df578928",
   "metadata": {
    "scrolled": true
   },
   "outputs": [],
   "source": [
    "res"
   ]
  },
  {
   "cell_type": "code",
   "execution_count": null,
   "id": "43da53ea",
   "metadata": {},
   "outputs": [],
   "source": [
    "options(repr.plot.width = 6, repr.plot.height = 5)\n",
    "\n",
    "res %>%\n",
    "dplyr::filter(!(term %in% c(\"Age\", \"SexM\", \"SexF\", \"RiskHLA\")))  %>% \n",
    "  mutate(upper = estimate + 1.96 * std.error,\n",
    "         lower = estimate - 1.96 * std.error) %>%\n",
    "  mutate(across(all_of(c(\n",
    "    \"estimate\", \"lower\", \"upper\"\n",
    "  )), exp)) %>%\n",
    "  mutate(upper = ifelse(upper > 5, 4.9999, upper)) %>%\n",
    "  arrange(estimate) %>%\n",
    "mutate(term = factor(term, unique(term)))  %>% \n",
    "  ggplot(aes(estimate, term, color = estimate > 1)) +\n",
    "  geom_vline(xintercept = 1, color = \"gray75\") +\n",
    "  geom_linerange(aes(xmin = lower, xmax = upper),\n",
    "                 size = 1.5,\n",
    "                 alpha = 0.5) +\n",
    "  geom_point(size = 4) +\n",
    "  theme_minimal(base_size = 16) +\n",
    "  scale_color_manual(values = c(\"green4\", \"red3\"), guide = \"none\") +\n",
    "  labs(title = \"\", y = NULL,\n",
    "       x = \"Probability \\n(95% Confidence Intervals)\") +\n",
    "  theme(axis.text.y = element_text(hjust = 0, size = 18),\n",
    "        panel.grid = element_blank())"
   ]
  },
  {
   "cell_type": "code",
   "execution_count": null,
   "id": "71027cc2",
   "metadata": {},
   "outputs": [],
   "source": []
  },
  {
   "cell_type": "markdown",
   "id": "6cb0b3bd",
   "metadata": {},
   "source": [
    "### Explaining Treg"
   ]
  },
  {
   "cell_type": "code",
   "execution_count": null,
   "id": "ca24ef61",
   "metadata": {},
   "outputs": [],
   "source": [
    "md3"
   ]
  },
  {
   "cell_type": "code",
   "execution_count": null,
   "id": "19f1f03b",
   "metadata": {
    "scrolled": true
   },
   "outputs": [],
   "source": [
    "md_cpept"
   ]
  },
  {
   "cell_type": "code",
   "execution_count": null,
   "id": "25dce1b5",
   "metadata": {},
   "outputs": [],
   "source": [
    "md5  <- read_xlsx(\"../data/metadata_v05.xlsx\")\n",
    "\n",
    "md5  <- md5  %>% mutate(dq2 = ifelse((HLA_DQA11 == \"DQA1*05:01:01\" | HLA_DQA12 == \"DQA1*05:01:01\") &\n",
    "                                   (HLA_DQB11 == \"DQB1*02:01:01\" | HLA_DQB12 == \"DQB1*02:01:01\"),\"DQ2\",\n",
    "                                   \"Other\"),\n",
    "                      dq8 = ifelse((HLA_DQA11 == \"DQA1*03:01:01\" | HLA_DQA12 == \"DQA1*03:01:01\") &\n",
    "                                   (HLA_DQB11 == \"DQB1*03:02:01\" | HLA_DQB12 == \"DQB1*03:02:01\"),\"DQ8\",\n",
    "                                   \"Other\"))  %>% mutate(\n",
    "                      dq2_8 = ifelse(dq2 == \"DQ2\" & dq8 == \"DQ8\",\"DQ2_8\",\n",
    "                                     ifelse(dq2 == \"DQ2\",\"DQ2\", ifelse(dq8 == \"DQ8\",\"DQ8\",\"Other\"))))  %>% \n",
    "mutate(c7_01 = ifelse((HLA_C1 == \"C*07:01:01\" & HLA_C2 == \"C*07:01:01\"), \"c7_01_hom\",\n",
    "                                   ifelse(HLA_C1 == \"C*07:01:01\" | HLA_C2 == \"C*07:01:01\",\"c7_01_het\",\n",
    "                                   \"Other\")),\n",
    "                      b8_01 = ifelse((HLA_B1 == \"B*08:01:01\" & HLA_B2 == \"B*08:01:01\"), \"b8_01_hom\",\n",
    "                                   ifelse(HLA_B1 == \"B*08:01:01\" | HLA_B2 == \"B*08:01:01\",\"b8_01_het\",\n",
    "                                   \"Other\")))   %>% mutate(\n",
    "                      c7_b8 = ifelse(b8_01 == \"b8_01_hom\" & c7_01 == \"c7_01_hom\",\n",
    "                                     \"c7_b8_hom\", ifelse(c7_01 == \"c7_01_hom\", \"c7_01_hom\",\n",
    "                              ifelse(b8_01 == \"b8_01_hom\", \"b8_01_hom\", \n",
    "                              ifelse(b8_01 == \"b8_01_het\" & c7_01 == \"c7_01_het\",\n",
    "                                     \"c7_b8_het\", \n",
    "                                     \n",
    "                              ifelse(b8_01 == \"b8_01_het\", \"b8_01_het\", \n",
    "                              ifelse(c7_01 == \"c7_01_het\", \"c7_01_het\", \"Other\" )))))))"
   ]
  },
  {
   "cell_type": "code",
   "execution_count": null,
   "id": "a51a2f83",
   "metadata": {},
   "outputs": [],
   "source": [
    "md4  <- left_join(md3, md5)"
   ]
  },
  {
   "cell_type": "code",
   "execution_count": null,
   "id": "ea0eee4b",
   "metadata": {
    "scrolled": true
   },
   "outputs": [],
   "source": [
    "colnames(md4)"
   ]
  },
  {
   "cell_type": "code",
   "execution_count": null,
   "id": "b7e864f6",
   "metadata": {},
   "outputs": [],
   "source": [
    "grep(colnames(md4), pattern = \"Treg\")"
   ]
  },
  {
   "cell_type": "code",
   "execution_count": null,
   "id": "466d3d95",
   "metadata": {},
   "outputs": [],
   "source": [
    "grep(colnames(md4), pattern = \"part_remission_y_n\")"
   ]
  },
  {
   "cell_type": "code",
   "execution_count": null,
   "id": "c7448d2f",
   "metadata": {},
   "outputs": [],
   "source": [
    "grep(colnames(md4), pattern = \"Treg\", value = T)"
   ]
  },
  {
   "cell_type": "code",
   "execution_count": null,
   "id": "d24f2279",
   "metadata": {},
   "outputs": [],
   "source": [
    "md4  <- md4  %>% mutate(age_group = case_when(\n",
    "Age < 7.9 ~ \"2-7y\",\n",
    "Age > 8 & Age < 13.9 ~ \"8-13y\",\n",
    "Age > 14 ~ \"14-18y\"\n",
    "))"
   ]
  },
  {
   "cell_type": "code",
   "execution_count": null,
   "id": "3ca6bf54",
   "metadata": {
    "scrolled": true
   },
   "outputs": [],
   "source": [
    "md4"
   ]
  },
  {
   "cell_type": "code",
   "execution_count": null,
   "id": "e7ca698b",
   "metadata": {},
   "outputs": [],
   "source": [
    "options(repr.plot.width = 6, repr.plot.height = 5)\n",
    "\n",
    "for(i in c(2,116,117,193:196,151)){\n",
    "    df_filt  <- md4  %>% dplyr::select(i,value = 38, Condition = 1)\n",
    "    colnames(df_filt)  <- c(\"Condition2\", \"value\", \"Condition\")\n",
    "    print(df_filt)\n",
    "    p  <- df_filt  %>% ggplot(aes(x = Condition2,\n",
    "             y = value)) +\n",
    "   geom_dotplot(binaxis='y', stackdir='center', dotsize = 0) + \n",
    "   geom_boxplot(outlier.shape = NA) +\n",
    "    geom_jitter(binaxis='y', position=position_jitter(width = 0.1, height = 0.01), \n",
    "                size = 3, stackdir='center', aes(color = Condition)) + \n",
    "  theme_classic() + xlab(\"\") +  \n",
    " xlab(\"\") + ylab(\"Value\") +\n",
    "   scale_y_continuous(expand = expansion(mult = c(0, 0.1))) +\n",
    "  ggpubr::stat_compare_means(label.x = 1.2, label.y.npc = \"top\", size = 5, vjust = 0.3, label = \"p.format\") + \n",
    "      theme(plot.title = element_text(hjust = 0.5, size = 22),\n",
    "          axis.line = element_line(colour = \"black\"), \n",
    "        axis.ticks = element_line(colour = \"black\")) +\n",
    "    ggtitle(colnames(md4)[i])\n",
    "  ylim(0,NA)\n",
    "    \n",
    "    print(p)\n",
    "}"
   ]
  },
  {
   "cell_type": "markdown",
   "id": "98d33186",
   "metadata": {},
   "source": [
    "# Recalculating percentages"
   ]
  },
  {
   "cell_type": "code",
   "execution_count": null,
   "id": "4eb4e7f5",
   "metadata": {},
   "outputs": [],
   "source": [
    "library(brms)"
   ]
  },
  {
   "cell_type": "code",
   "execution_count": null,
   "id": "3b052701",
   "metadata": {},
   "outputs": [],
   "source": [
    "populations_2  <- read_csv(\"../tables/populations_2.csv\")\n",
    "\n",
    "populations_2$`...1`  <- NULL\n",
    "\n",
    "populations_2$prelim_final  <- ifelse(populations_2$Experiment_ID %in% c(\"Exp08\",\"Exp10\",\"Exp11\"), \n",
    "                                     \"Prelim\",\"Final\")\n",
    "\n",
    "IDs  <- populations_2  %>% dplyr::filter(prelim_final == \"Prelim\")  %>% pull(Patient_ID)  %>% unique\n",
    "\n",
    "IDs\n",
    "\n",
    "popul_final_freq_from_total  <- populations_2  %>% \n",
    "ungroup  %>% \n",
    "mutate(prelim_final = ifelse(Experiment_ID %in% c(\"Exp08\", \"Exp10\", \"Exp11\"), \"Prelim\",\"Final\"))  %>% \n",
    "dplyr::filter(Patient_ID %in% IDs & Time == \"T0\")  %>% \n",
    "dplyr::select(Patient_ID, Time, annotations, prelim_final, freq_from_total, Level)  %>% \n",
    "pivot_wider(names_from = \"prelim_final\", values_from = freq_from_total)\n",
    "\n",
    "popul_final_freq_from_total"
   ]
  },
  {
   "cell_type": "code",
   "execution_count": null,
   "id": "1cff64ee",
   "metadata": {},
   "outputs": [],
   "source": [
    "popul_final_freq_from_total$Coeff  <- (popul_final_freq_from_total$Prelim+0.0000000001)/(popul_final_freq_from_total$Final+0.0000000001)"
   ]
  },
  {
   "cell_type": "code",
   "execution_count": null,
   "id": "7727f575",
   "metadata": {
    "scrolled": true
   },
   "outputs": [],
   "source": [
    "popul_final_freq_from_total"
   ]
  },
  {
   "cell_type": "code",
   "execution_count": null,
   "id": "9f9770cc",
   "metadata": {},
   "outputs": [],
   "source": [
    "populations_2"
   ]
  },
  {
   "cell_type": "code",
   "execution_count": null,
   "id": "0b2019e1",
   "metadata": {},
   "outputs": [],
   "source": [
    "populations_to_bayes  <- populations_2  %>% \n",
    "dplyr::filter(prelim_final == \"Final\")  %>% \n",
    "dplyr::select(annotations, Patient_ID, Sex, Age, Time, pct_from_total)"
   ]
  },
  {
   "cell_type": "code",
   "execution_count": null,
   "id": "e712d205",
   "metadata": {},
   "outputs": [],
   "source": [
    "populations_to_bayes2  <- populations_to_bayes  %>% \n",
    "left_join(popul_final_freq_from_total  %>% dplyr::select(\n",
    "          annotations, Patient_ID, Time, Prelim,\n",
    "          Coeff))"
   ]
  },
  {
   "cell_type": "code",
   "execution_count": null,
   "id": "ac7cde2f",
   "metadata": {
    "scrolled": true
   },
   "outputs": [],
   "source": [
    "populations_to_bayes2"
   ]
  },
  {
   "cell_type": "code",
   "execution_count": null,
   "id": "f3f468b6",
   "metadata": {},
   "outputs": [],
   "source": [
    "write.csv(populations_to_bayes2, \"../bayes_model_data.csv\")"
   ]
  },
  {
   "cell_type": "code",
   "execution_count": null,
   "id": "5e87e627",
   "metadata": {},
   "outputs": [],
   "source": []
  },
  {
   "cell_type": "code",
   "execution_count": null,
   "id": "7e766b8a",
   "metadata": {},
   "outputs": [],
   "source": []
  },
  {
   "cell_type": "code",
   "execution_count": null,
   "id": "3d2fd7f4",
   "metadata": {},
   "outputs": [],
   "source": []
  },
  {
   "cell_type": "code",
   "execution_count": null,
   "id": "46babf53",
   "metadata": {
    "scrolled": true
   },
   "outputs": [],
   "source": [
    "priors <- c(\n",
    "    set_prior(\"normal(0, 5)\", class = \"b\") # Generic prior for coefficients\n",
    ")"
   ]
  },
  {
   "cell_type": "code",
   "execution_count": null,
   "id": "afbe27b7",
   "metadata": {
    "scrolled": true
   },
   "outputs": [],
   "source": [
    "populations_to_bayes2"
   ]
  },
  {
   "cell_type": "code",
   "execution_count": null,
   "id": "df2f8448",
   "metadata": {},
   "outputs": [],
   "source": [
    "bayesian_model <- brm(\n",
    "  bf(Prelim ~ 0 + pct_from_total:Coeff, nl = F),\n",
    "  data = populations_to_bayes2,\n",
    "  family = gaussian(),  # Assuming a Gaussian family; adjust as needed for your data\n",
    "  prior = priors,\n",
    "  sample_prior = \"yes\",\n",
    "  chains = 4,\n",
    "  iter = 2000,\n",
    "  control = list(adapt_delta = 0.95)\n",
    ")"
   ]
  },
  {
   "cell_type": "code",
   "execution_count": null,
   "id": "36805c1e",
   "metadata": {},
   "outputs": [],
   "source": [
    "summary(bayesian_model)"
   ]
  }
 ],
 "metadata": {
  "kernelspec": {
   "display_name": "R",
   "language": "R",
   "name": "ir"
  },
  "language_info": {
   "codemirror_mode": "r",
   "file_extension": ".r",
   "mimetype": "text/x-r-source",
   "name": "R",
   "pygments_lexer": "r",
   "version": "4.4.2"
  },
  "toc": {
   "base_numbering": 1,
   "nav_menu": {},
   "number_sections": true,
   "sideBar": true,
   "skip_h1_title": false,
   "title_cell": "Table of Contents",
   "title_sidebar": "Contents",
   "toc_cell": false,
   "toc_position": {
    "height": "calc(100% - 180px)",
    "left": "10px",
    "top": "150px",
    "width": "304.767px"
   },
   "toc_section_display": true,
   "toc_window_display": true
  }
 },
 "nbformat": 4,
 "nbformat_minor": 5
}
