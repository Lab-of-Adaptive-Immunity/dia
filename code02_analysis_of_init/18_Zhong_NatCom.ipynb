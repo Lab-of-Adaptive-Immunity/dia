{
 "cells": [
  {
   "cell_type": "markdown",
   "id": "a7ba3815",
   "metadata": {},
   "source": [
    "# Part 18: Analysis of scRNAseq data from Zhong et al., 2025"
   ]
  },
  {
   "cell_type": "code",
   "execution_count": null,
   "id": "f741a879",
   "metadata": {
    "scrolled": true
   },
   "outputs": [],
   "source": [
    "source(\"diabetes_analysis_v07.R\")"
   ]
  },
  {
   "cell_type": "markdown",
   "id": "06c578b2",
   "metadata": {},
   "source": [
    "This is a reanalysis of data published in [Zhong et al., 2025](https://www.nature.com/articles/s41467-024-53264-8). Raw data was downloaded from the GEO database under accession code [GSE221297](https://www.ncbi.nlm.nih.gov/geo/query/acc.cgi?acc=GSE221297)."
   ]
  },
  {
   "cell_type": "markdown",
   "id": "5bd043a6",
   "metadata": {},
   "source": [
    "# Loading and preprocessing data"
   ]
  },
  {
   "cell_type": "markdown",
   "id": "c9e88c8c",
   "metadata": {},
   "source": [
    "This part uses the raw data which can be downloaded from the GEO database: [GSE221297](https://www.ncbi.nlm.nih.gov/geo/query/acc.cgi?acc=GSE221297). If you wish to recapitulate the analysis, please download the data and save it to the folder: `../data/published_data/Zhong_2025/` "
   ]
  },
  {
   "cell_type": "code",
   "execution_count": null,
   "id": "7e69c379",
   "metadata": {},
   "outputs": [],
   "source": [
    "# List paths for reading individual datasets\n",
    "file_paths <- list.dirs(\"../data/published_data/Zhong_2025/Raw/\",\n",
    "                       recursive = F)\n",
    "\n",
    "# Use the short name for sample identification\n",
    "file_paths2  <- list.dirs(\"../data/published_data/Zhong_2025/Raw/\",\n",
    "                       recursive = F, full.names = F)"
   ]
  },
  {
   "cell_type": "code",
   "execution_count": null,
   "id": "a808b467",
   "metadata": {},
   "outputs": [],
   "source": [
    "file_paths2"
   ]
  },
  {
   "cell_type": "markdown",
   "id": "56b140d4",
   "metadata": {},
   "source": [
    "Preprocess all datasets. "
   ]
  },
  {
   "cell_type": "code",
   "execution_count": null,
   "id": "02d02fa9",
   "metadata": {},
   "outputs": [],
   "source": [
    "dir.create(\"../data/published_data/Zhong_2025/temp_data\")"
   ]
  },
  {
   "cell_type": "code",
   "execution_count": null,
   "id": "e7bb293f",
   "metadata": {},
   "outputs": [],
   "source": [
    "process_dataset  <- function(i){\n",
    "    \n",
    "\t\tseu_temp <- Read10X(file_paths[i])\n",
    "    print(\"10x file uploaded\")\n",
    "\t\tseu_temp <- CreateSeuratObject(seu_temp, min.cells = 1, min.features = 200)\n",
    "\t\tseu_temp$source <- file_paths2[i]\n",
    "\n",
    "\t\tseu_temp[[\"percent.mt\"]] <- PercentageFeatureSet(object = seu_temp, pattern = \"^MT-\")\n",
    "\t\tseu_temp[[\"percent.rp\"]] <- PercentageFeatureSet(object = seu_temp, pattern = \"^RP[LS]\")\n",
    "\n",
    "\t\tseu_temp=seu_temp[,unname(which(colSums(GetAssayData(seu_temp))!=0))]\n",
    "    print(\"Seurat object created\")\n",
    "        seu_temp <- NormalizeData(seu_temp, verbose = FALSE)\n",
    "        seu_temp <- ScaleData(seu_temp, verbose = FALSE)\n",
    "        seu_temp <- FindVariableFeatures(seu_temp, nfeatures = 1000, verbose = FALSE)\n",
    "        print(\"Seurat object normalized, scaled\")\n",
    "\n",
    "\t\tseu_temp <- RunPCA(seu_temp, dims = 1:12)\n",
    "\t\tseu_temp <- RunUMAP(seu_temp, reduction = \"pca\", dims = 1:12)\n",
    "            print(\"UMAP done!\")\n",
    "\n",
    "\t\tseu_temp <- FindNeighbors(seu_temp, dims = 1:12)\n",
    "\t\tseu_temp <- FindClusters(seu_temp, resolution = 0.7)\n",
    "            print(\"CLustering done!\")\n",
    "\n",
    "\t\tprint(VlnPlot(seu_temp, features = c(\"nFeature_RNA\", \"nCount_RNA\", \"percent.mt\", \"percent.rp\"), ncol = 2, pt.size = 0))\n",
    "\t\tdir.create(\"temp_data\")\n",
    "\t\tsaveRDS(seu_temp, paste0(\"../../data/published_data/Zhong_2025/temp_data/\",file_paths2[i],\"_01_full.rds\"))\n",
    "\t\treturn(seu_temp)\n",
    "\t}"
   ]
  },
  {
   "cell_type": "code",
   "execution_count": null,
   "id": "3beb161f",
   "metadata": {},
   "outputs": [],
   "source": [
    "options(future.globals.maxSize = 20000 * 1024^2)"
   ]
  },
  {
   "cell_type": "code",
   "execution_count": null,
   "id": "f8376e15",
   "metadata": {},
   "outputs": [],
   "source": [
    "full_dataset2 <- map (1:12,process_dataset)"
   ]
  },
  {
   "cell_type": "code",
   "execution_count": null,
   "id": "7ff16cfe",
   "metadata": {},
   "outputs": [],
   "source": [
    "options(future.globals.maxSize = 90000 * 1024^2)"
   ]
  },
  {
   "cell_type": "code",
   "execution_count": null,
   "id": "48309b35",
   "metadata": {},
   "outputs": [],
   "source": [
    "     full_dataset <- NormalizeData(full_dataset, verbose = FALSE)\n",
    "        full_dataset <- ScaleData(full_dataset, verbose = FALSE)\n",
    "        full_dataset <- FindVariableFeatures(full_dataset, nfeatures = 1000, verbose = FALSE)"
   ]
  },
  {
   "cell_type": "code",
   "execution_count": null,
   "id": "3edf01a5",
   "metadata": {},
   "outputs": [],
   "source": [
    "full_dataset <- RunPCA(full_dataset, dims = 1:12)\n",
    "full_dataset <- RunUMAP(full_dataset, reduction = \"pca\", dims = 1:12)\n",
    "  "
   ]
  },
  {
   "cell_type": "code",
   "execution_count": null,
   "id": "548c463e",
   "metadata": {},
   "outputs": [],
   "source": [
    "seu_temp <- FindNeighbors(seu_temp, dims = 1:12)\n",
    "seu_temp <- FindClusters(seu_temp, resolution = 0.7)\n",
    "            print(\"CLustering done!\")\n",
    "\n",
    "saveRDS(seu_temp, paste0(\"../data/published_data/Zhong_2025/241019_NatComm_merged_full.rds\"))"
   ]
  },
  {
   "cell_type": "code",
   "execution_count": null,
   "id": "ad8cd320",
   "metadata": {},
   "outputs": [],
   "source": [
    "file_paths <- list.files(full.names = T,\n",
    "                         \"../data/published_data/Zhong_2025/temp_data/\",\n",
    "                       recursive = F)"
   ]
  },
  {
   "cell_type": "markdown",
   "id": "e457f7d8",
   "metadata": {},
   "source": [
    "Load and merge preprocessed datasets. "
   ]
  },
  {
   "cell_type": "code",
   "execution_count": null,
   "id": "ac6a4a1b",
   "metadata": {},
   "outputs": [],
   "source": [
    "datasets  <- map(file_paths, readRDS)"
   ]
  },
  {
   "cell_type": "code",
   "execution_count": null,
   "id": "334d145b",
   "metadata": {},
   "outputs": [],
   "source": [
    "merged_ds  <- merge(datasets[[1]], c(datasets[[2]], datasets[[3]], datasets[[4]], datasets[[5]], datasets[[6]], \n",
    "                                     datasets[[7]], datasets[[8]], datasets[[9]], datasets[[10]], datasets[[11]], \n",
    "                                     datasets[[12]]))"
   ]
  },
  {
   "cell_type": "code",
   "execution_count": null,
   "id": "9238f7cb",
   "metadata": {},
   "outputs": [],
   "source": [
    "rm(datasets)\n",
    "gc()"
   ]
  },
  {
   "cell_type": "code",
   "execution_count": null,
   "id": "07ec141c",
   "metadata": {},
   "outputs": [],
   "source": [
    "options(future.globals.maxSize = 90000 * 1024^2)"
   ]
  },
  {
   "cell_type": "code",
   "execution_count": null,
   "id": "e215c023",
   "metadata": {},
   "outputs": [],
   "source": [
    "merged_ds <- NormalizeData(merged_ds, verbose = FALSE)\n",
    "merged_ds <- ScaleData(merged_ds, verbose = FALSE)\n",
    "merged_ds <- FindVariableFeatures(merged_ds, nfeatures = 1000, verbose = FALSE)"
   ]
  },
  {
   "cell_type": "code",
   "execution_count": null,
   "id": "cf8dba47",
   "metadata": {},
   "outputs": [],
   "source": [
    "merged_ds <- RunPCA(merged_ds, dims = 1:12)\n",
    "merged_ds <- RunUMAP(merged_ds, reduction = \"pca\", dims = 1:12)"
   ]
  },
  {
   "cell_type": "code",
   "execution_count": null,
   "id": "39540e20",
   "metadata": {},
   "outputs": [],
   "source": [
    "merged_ds <- FindNeighbors(merged_ds, dims = 1:12)\n",
    "merged_ds <- FindClusters(merged_ds, resolution = 0.7)\n",
    "            print(\"CLustering done!\")\n",
    "\n",
    "saveRDS(merged_ds, paste0(\"../data/published_data/Zhong_2025/241019_NatComm_merged_full.rds\"))"
   ]
  },
  {
   "cell_type": "markdown",
   "id": "e6eef8df",
   "metadata": {},
   "source": [
    "# Filtering T cells"
   ]
  },
  {
   "cell_type": "markdown",
   "id": "77339c43",
   "metadata": {},
   "source": [
    "Let's identify and subset T cells. "
   ]
  },
  {
   "cell_type": "code",
   "execution_count": null,
   "id": "f41d5c83",
   "metadata": {},
   "outputs": [],
   "source": [
    "FeaturePlot(merged_ds, features = c(\"CD3D\",\"CD8A\",\"CD14\",\"MS4A1\"), ncol = 4)"
   ]
  },
  {
   "cell_type": "code",
   "execution_count": null,
   "id": "5ec3d6dd",
   "metadata": {},
   "outputs": [],
   "source": [
    "DimPlot(merged_ds, label = T, label.size = 12)"
   ]
  },
  {
   "cell_type": "code",
   "execution_count": null,
   "id": "15e7a561",
   "metadata": {},
   "outputs": [],
   "source": [
    "merged_ds  <- subset(merged_ds, seurat_clusters %in% c(0:4,11,13,14,16,20,24))"
   ]
  },
  {
   "cell_type": "code",
   "execution_count": null,
   "id": "06a148f8",
   "metadata": {},
   "outputs": [],
   "source": [
    "DimPlot(merged_ds, label = T, label.size = 10)"
   ]
  },
  {
   "cell_type": "markdown",
   "id": "852f55a1",
   "metadata": {},
   "source": [
    "Recluster T cells. "
   ]
  },
  {
   "cell_type": "code",
   "execution_count": null,
   "id": "c57fde11",
   "metadata": {},
   "outputs": [],
   "source": [
    "     merged_ds <- NormalizeData(merged_ds, verbose = FALSE)\n",
    "        merged_ds <- ScaleData(merged_ds, verbose = FALSE)\n",
    "        merged_ds <- FindVariableFeatures(merged_ds, nfeatures = 1000, verbose = FALSE)\n",
    "\n",
    "merged_ds <- RunPCA(merged_ds, dims = 1:12)\n",
    "merged_ds <- RunUMAP(merged_ds, reduction = \"pca\", dims = 1:12)\n",
    "  \n",
    "\n",
    "merged_ds <- FindNeighbors(merged_ds, dims = 1:12)\n",
    "merged_ds <- FindClusters(merged_ds, resolution = 0.7)\n",
    "            print(\"CLustering done!\")\n",
    "\n",
    "saveRDS(merged_ds, paste0(\"../data/published_data/Zhong_2025/241019_NatComm_merged_filt_tcells.rds\"))"
   ]
  },
  {
   "cell_type": "code",
   "execution_count": null,
   "id": "be49b832",
   "metadata": {},
   "outputs": [],
   "source": [
    "DimPlot(merged_ds, label = T, label.size = 10)"
   ]
  },
  {
   "cell_type": "code",
   "execution_count": null,
   "id": "ebf5bf9e",
   "metadata": {},
   "outputs": [],
   "source": [
    "FeaturePlot(merged_ds, features = c(\"CD3D\",\"CD8A\",\"CD4\",\"NCR1\"), ncol = 4)"
   ]
  },
  {
   "cell_type": "code",
   "execution_count": null,
   "id": "59816fd1",
   "metadata": {},
   "outputs": [],
   "source": [
    "FeaturePlot(merged_ds, features = c(\"MKI67\",\"NCR1\",\"IL7R\",\"CD4\"), ncol = 4)"
   ]
  },
  {
   "cell_type": "code",
   "execution_count": null,
   "id": "6012a416",
   "metadata": {},
   "outputs": [],
   "source": [
    "options(future.globals.maxSize = 50e+09)"
   ]
  },
  {
   "cell_type": "code",
   "execution_count": null,
   "id": "f8edd427",
   "metadata": {},
   "outputs": [],
   "source": [
    "plan(\"sequential\")"
   ]
  },
  {
   "cell_type": "code",
   "execution_count": null,
   "id": "00cc14b9",
   "metadata": {},
   "outputs": [],
   "source": [
    "merged_ds <- FindClusters(merged_ds, resolution = 0.2)"
   ]
  },
  {
   "cell_type": "code",
   "execution_count": null,
   "id": "9a0a9d8a",
   "metadata": {},
   "outputs": [],
   "source": [
    "options(repr.plot.width = 6, repr.plot.height = 5)\n",
    "DimPlot(merged_ds, label = T, label.size = 10)"
   ]
  },
  {
   "cell_type": "code",
   "execution_count": null,
   "id": "40e56075",
   "metadata": {},
   "outputs": [],
   "source": [
    "options(repr.plot.width = 6, repr.plot.height = 5)\n",
    "DimPlot(merged_ds, label = T, label.size = 10)"
   ]
  },
  {
   "cell_type": "code",
   "execution_count": null,
   "id": "c3ab3377",
   "metadata": {},
   "outputs": [],
   "source": [
    "merged_ds  <- JoinLayers(merged_ds)"
   ]
  },
  {
   "cell_type": "code",
   "execution_count": null,
   "id": "c5e4dbfd",
   "metadata": {},
   "outputs": [],
   "source": [
    "mrk  <- FindAllMarkers(merged_ds)"
   ]
  },
  {
   "cell_type": "code",
   "execution_count": null,
   "id": "edab30e4",
   "metadata": {
    "scrolled": true
   },
   "outputs": [],
   "source": [
    "mrk  %>% dplyr::filter(cluster == 7)"
   ]
  },
  {
   "cell_type": "code",
   "execution_count": null,
   "id": "8e8aa496",
   "metadata": {},
   "outputs": [],
   "source": [
    "merged_ds$barcode  <- colnames(merged_ds)"
   ]
  },
  {
   "cell_type": "markdown",
   "id": "6fcc59d4",
   "metadata": {},
   "source": [
    "Create a downsampled object. "
   ]
  },
  {
   "cell_type": "code",
   "execution_count": null,
   "id": "2f537a34",
   "metadata": {},
   "outputs": [],
   "source": [
    "merged_ds_10k  <- subset(merged_ds, barcode %in% sample(colnames(merged_ds), size = 10000))"
   ]
  },
  {
   "cell_type": "markdown",
   "id": "4b523aff",
   "metadata": {},
   "source": [
    "## Automated annotation of cell types"
   ]
  },
  {
   "cell_type": "code",
   "execution_count": null,
   "id": "91b5db79",
   "metadata": {},
   "outputs": [],
   "source": [
    "mid.se <- celldex::MonacoImmuneData()\n",
    "hpca.se  <- celldex::HumanPrimaryCellAtlasData()\n",
    "\n",
    "load(\"../data/ref_wherry_new.RData\")"
   ]
  },
  {
   "cell_type": "code",
   "execution_count": null,
   "id": "0bf700c7",
   "metadata": {},
   "outputs": [],
   "source": [
    " DefaultAssay(merged_ds_10k)  <- \"RNA\"\n",
    "\t\n",
    "    ### Annotate the dataset with Monaco Immune dataset\n",
    "counts  <- merged_ds_10k@assays$RNA@layers$counts\n",
    "rownames(counts)  <- rownames(merged_ds_10k@assays$RNA)"
   ]
  },
  {
   "cell_type": "code",
   "execution_count": null,
   "id": "31fd12ba",
   "metadata": {},
   "outputs": [],
   "source": [
    "\t\tpred.singler <- SingleR(test = counts, ref = mid.se, assay.type.test=1,\n",
    "\t\tlabels = mid.se$label.fine, fine.tune = F)\n",
    "    \n",
    "\n",
    "    \t### Annotate the dataset with Wherry dataset\n",
    "        pred.singler3 <- SingleR(test =  counts, ref = hpca.se,\n",
    "\t\tassay.type.test=1,\n",
    "\t\tlabels = hpca.se$label.fine, fine.tune = F)\n",
    "\n",
    "\t\tall_labels <- data.frame(\n",
    "\t\tMonaco_single = pred.singler$labels,\n",
    "\t\tHPCA_single = pred.singler3$labels,\n",
    "\t\t\n",
    "\t\tbarcode = colnames(merged_ds_10k))\n",
    "\t\t\n",
    "\t\tmd2 <- merged_ds_10k@meta.data\n",
    "\t\tmd2$barcode = colnames(merged_ds_10k)\n",
    "\n",
    "\t\tmd3 <- left_join(md2, all_labels)\n",
    "rownames(md3) <- colnames(merged_ds_10k)\n",
    "\t\tmerged_ds_10k@meta.data <- md3\n",
    "\t\t"
   ]
  },
  {
   "cell_type": "code",
   "execution_count": null,
   "id": "982ccc7d",
   "metadata": {},
   "outputs": [],
   "source": [
    "options(repr.plot.width = 20, repr.plot.height = 7.5)\n",
    "DimPlot(merged_ds_10k, raster = F, group.by = \"Monaco_single\", label = T, repel = T)"
   ]
  },
  {
   "cell_type": "code",
   "execution_count": null,
   "id": "0d116103",
   "metadata": {},
   "outputs": [],
   "source": [
    "options(repr.plot.width = 20, repr.plot.height = 10)\n",
    "DimPlot(merged_ds_10k, raster = F, group.by = \"HPCA_single\", label = T)"
   ]
  },
  {
   "cell_type": "code",
   "execution_count": null,
   "id": "7ec18c2f",
   "metadata": {},
   "outputs": [],
   "source": [
    "DimPlot(merged_ds, label = T, label.size = 10)"
   ]
  },
  {
   "cell_type": "markdown",
   "id": "9e22e54b",
   "metadata": {},
   "source": [
    "Remove contaminating cell types. "
   ]
  },
  {
   "cell_type": "code",
   "execution_count": null,
   "id": "02e3742e",
   "metadata": {},
   "outputs": [],
   "source": [
    "merged_ds  <- subset(merged_ds, seurat_clusters %in% c(0:6,10))\n",
    "\n",
    "DimPlot(merged_ds, label = T, label.size = 10)\n",
    "\n",
    "     merged_ds <- NormalizeData(merged_ds, verbose = FALSE)\n",
    "        merged_ds <- ScaleData(merged_ds, verbose = FALSE)\n",
    "        merged_ds <- FindVariableFeatures(merged_ds, nfeatures = 1000, verbose = FALSE)\n",
    "\n",
    "merged_ds <- RunPCA(merged_ds, dims = 1:12)\n",
    "merged_ds <- RunUMAP(merged_ds, reduction = \"pca\", dims = 1:12)\n",
    "  \n",
    "\n",
    "merged_ds <- FindNeighbors(merged_ds, dims = 1:12)\n",
    "merged_ds <- FindClusters(merged_ds, resolution = 0.7)\n",
    "            print(\"CLustering done!\")\n",
    "\n",
    "saveRDS(merged_ds, paste0(\"../data/published_data/Zhong_2025/241019_NatComm_merged_filt_tcells2.rds\"))"
   ]
  },
  {
   "cell_type": "code",
   "execution_count": null,
   "id": "4d90d396",
   "metadata": {},
   "outputs": [],
   "source": [
    "DimPlot(merged_ds, label = T, label.size = 10)\n"
   ]
  },
  {
   "cell_type": "code",
   "execution_count": null,
   "id": "1abe7e6e",
   "metadata": {},
   "outputs": [],
   "source": [
    "DimPlot(merged_ds, label = T, label.size = 10)\n"
   ]
  },
  {
   "cell_type": "code",
   "execution_count": null,
   "id": "7ab990e4",
   "metadata": {},
   "outputs": [],
   "source": [
    "Idents(merged_ds)  <- merged_ds$seurat_clusters"
   ]
  },
  {
   "cell_type": "code",
   "execution_count": null,
   "id": "2735427d",
   "metadata": {},
   "outputs": [],
   "source": [
    "options(repr.plot.width = 16, repr.plot.height = 4)\n",
    "VlnPlot(merged_ds, features = c(\"percent.mt\", \"percent.rp\", \"nCount_RNA\", \"nFeature_RNA\"), ncol = 4, raster = F, pt.size = 0)"
   ]
  },
  {
   "cell_type": "markdown",
   "id": "bd03f2b4",
   "metadata": {},
   "source": [
    "Filter out low quality cells. "
   ]
  },
  {
   "cell_type": "code",
   "execution_count": null,
   "id": "0a58c917",
   "metadata": {},
   "outputs": [],
   "source": [
    "merged_ds  <- subset(merged_ds, percent.mt < 10 & nFeature_RNA > 750)\n",
    "\n",
    "     merged_ds <- NormalizeData(merged_ds, verbose = FALSE)\n",
    "        merged_ds <- ScaleData(merged_ds, verbose = FALSE)\n",
    "        merged_ds <- FindVariableFeatures(merged_ds, nfeatures = 1000, verbose = FALSE)\n",
    "\n",
    "merged_ds <- RunPCA(merged_ds, dims = 1:12)\n",
    "merged_ds <- RunUMAP(merged_ds, reduction = \"pca\", dims = 1:12)\n",
    "  \n",
    "\n",
    "merged_ds <- FindNeighbors(merged_ds, dims = 1:12)\n",
    "merged_ds <- FindClusters(merged_ds, resolution = 0.7)\n",
    "            print(\"CLustering done!\")\n",
    "\n",
    "saveRDS(merged_ds, paste0(\"../data/published_data/Zhong_2025/241019_NatComm_merged_filt_tcells3.rds\"))"
   ]
  },
  {
   "cell_type": "code",
   "execution_count": null,
   "id": "2a559c49",
   "metadata": {},
   "outputs": [],
   "source": [
    "options(repr.plot.width = 16, repr.plot.height = 12)\n",
    "DimPlot(merged_ds, label = T, label.size = 10)"
   ]
  },
  {
   "cell_type": "code",
   "execution_count": null,
   "id": "60774456",
   "metadata": {},
   "outputs": [],
   "source": [
    "options(repr.plot.width = 16, repr.plot.height = 4)\n",
    "FeaturePlot(merged_ds, features = c(\"CD3D\",\"CD8A\",\"CD4\",\"NCR1\"), ncol = 4)\n",
    "\n",
    "FeaturePlot(merged_ds, features = c(\"MKI67\",\"NCR1\",\"IL7R\",\"CD4\"), ncol = 4)\n",
    "\n",
    "FeaturePlot(merged_ds, features = c(\"FOXP3\",\"GATA3\",\"NCAM1\",\"RORC\"), ncol = 4)\n"
   ]
  },
  {
   "cell_type": "markdown",
   "id": "4774bd93",
   "metadata": {},
   "source": [
    "# First analysis in disease groups"
   ]
  },
  {
   "cell_type": "code",
   "execution_count": null,
   "id": "60aef4a1",
   "metadata": {},
   "outputs": [],
   "source": [
    "merged_ds$source  %>% table"
   ]
  },
  {
   "cell_type": "code",
   "execution_count": null,
   "id": "b945fb1b",
   "metadata": {},
   "outputs": [],
   "source": [
    "merged_ds$Disease  <- gsub(merged_ds$source, pattern = \"PR\", replacement = \"RR\")"
   ]
  },
  {
   "cell_type": "code",
   "execution_count": null,
   "id": "f6410ca0",
   "metadata": {},
   "outputs": [],
   "source": [
    "merged_ds$Disease  <- substr(merged_ds$Disease,12,12)"
   ]
  },
  {
   "cell_type": "code",
   "execution_count": null,
   "id": "995cda41",
   "metadata": {},
   "outputs": [],
   "source": [
    "merged_ds$Disease  %>% table"
   ]
  },
  {
   "cell_type": "code",
   "execution_count": null,
   "id": "3cc8a529",
   "metadata": {},
   "outputs": [],
   "source": [
    "Idents(merged_ds)  <- merged_ds$Disease"
   ]
  },
  {
   "cell_type": "code",
   "execution_count": null,
   "id": "c13cfffa",
   "metadata": {},
   "outputs": [],
   "source": [
    "avg_exp  <- AverageExpression(merged_ds, return.seurat = F, group.by = \"source\")"
   ]
  },
  {
   "cell_type": "code",
   "execution_count": null,
   "id": "bb529cc7",
   "metadata": {},
   "outputs": [],
   "source": [
    "df  <- avg_exp$RNA  %>% \n",
    "as.data.frame  %>% \n",
    "rownames_to_column(\"gene\")  %>%  \n",
    "pivot_longer(!gene, names_to = \"source\", values_to = \"value\") \n",
    "\n",
    "df$disease  <- gsub(df$source, pattern = \"PR\", replacement = \"RR\")\n",
    "df$disease  <- substr(df$disease,12,12)"
   ]
  },
  {
   "cell_type": "code",
   "execution_count": null,
   "id": "07efd7b1",
   "metadata": {},
   "outputs": [],
   "source": [
    "options(repr.plot.width = 4, repr.plot.height = 3)\n",
    "df  %>%\n",
    "filter(disease %in% c(\"N\",\"P\"))  %>% \n",
    "mutate(Disease = ifelse(disease == \"N\", \"Hea\", \"Dia\"))  %>% \n",
    "dplyr::filter(gene %in% c(\"BACH2\",\"NELL2\"\n",
    "))  %>% \n",
    "ggplot(aes(x = Disease, y = value)) +\n",
    "facet_wrap(~gene, ncol = 7, scales = \"free\") + \n",
    "geom_boxplot(outlier.shape = NA, aes(fill = Disease), alpha = 0.5) +\n",
    "     geom_crossbar(stat='summary', fun='median', alpha = 0.6, width = 0.7) +\n",
    "     geom_dotplot(binaxis='y', stackdir='center', dotsize=0) + \n",
    "     geom_jitter(binaxis='y', position=position_jitter(width = 0.1, height = 0.05), \n",
    "                 size = 2.5, stackdir='center', aes(color = Disease)) + \n",
    "     theme_classic() "
   ]
  },
  {
   "cell_type": "code",
   "execution_count": null,
   "id": "056ece54",
   "metadata": {},
   "outputs": [],
   "source": [
    "options(repr.plot.width = 12, repr.plot.height = 8)\n",
    "df  %>%\n",
    "mutate(disease = ifelse(disease == \"N\", \"H\", ifelse(disease == \"P\",\"D\",\"PR\")))  %>% \n",
    "\n",
    "dplyr::filter(gene %in% c(\"IL7R\",\n",
    "\"LEF1\",\n",
    "\"TCF7\",\n",
    "\"CCR7\",\n",
    "\"SELL\",\n",
    "\"BACH2\",\n",
    "\"NELL2\",\n",
    "\"PRF1\",\n",
    "\"NKG7\",\n",
    "\"GZMB\",\n",
    "\"CST7\",\n",
    "\"GNLY\",\n",
    "\"CX3CR1\",\n",
    "\"CCL5\",\n",
    "\"TNF\",\n",
    "\"KLRG1\",\n",
    "\"TBX21\"\n",
    "))  %>% \n",
    "ggplot(aes(x = disease, y = value)) +\n",
    "facet_wrap(~gene, ncol = 7) + \n",
    "geom_boxplot(outlier.shape = NA, aes(fill = disease), alpha = 0.4) +\n",
    "     geom_crossbar(stat='summary', fun='median', alpha = 0.6, width = 0.7) +\n",
    "     geom_dotplot(binaxis='y', stackdir='center', dotsize=0) + \n",
    "     geom_jitter(binaxis='y', position=position_jitter(width = 0.1, height = 0.05), \n",
    "                 size = 2.5, stackdir='center', aes(color = disease)) + \n",
    "scale_fill_manual(values = c(\"indianred2\",\"dodgerblue\",\"darkgreen\")) +\n",
    "scale_color_manual(values = c(\"indianred2\",\"dodgerblue\",\"darkgreen\")) +\n",
    "     theme_classic() "
   ]
  },
  {
   "cell_type": "markdown",
   "id": "b091777f",
   "metadata": {},
   "source": [
    "# Separating CD4 and CD8 T cells"
   ]
  },
  {
   "cell_type": "code",
   "execution_count": null,
   "id": "5de5c2e3",
   "metadata": {},
   "outputs": [],
   "source": [
    "Idents(merged_ds)  <- merged_ds$seurat_clusters"
   ]
  },
  {
   "cell_type": "code",
   "execution_count": null,
   "id": "31e5bbb3",
   "metadata": {},
   "outputs": [],
   "source": [
    "options(repr.plot.width = 8, repr.plot.height = 7)\n",
    "DimPlot(merged_ds, label = T, label.size = 10)\n"
   ]
  },
  {
   "cell_type": "code",
   "execution_count": null,
   "id": "24c8ba74",
   "metadata": {},
   "outputs": [],
   "source": [
    "options(repr.plot.width = 16, repr.plot.height = 4)\n",
    "FeaturePlot(merged_ds, features = c(\"CD3D\",\"CD8A\",\"CD4\",\"NCR1\"), ncol = 4)\n"
   ]
  },
  {
   "cell_type": "code",
   "execution_count": null,
   "id": "4f07aafe",
   "metadata": {},
   "outputs": [],
   "source": [
    "merged_ds <- FindNeighbors(merged_ds, dims = 1:12)\n",
    "merged_ds <- FindClusters(merged_ds, resolution = 0.7)\n"
   ]
  },
  {
   "cell_type": "code",
   "execution_count": null,
   "id": "2d326f23",
   "metadata": {},
   "outputs": [],
   "source": [
    "options(repr.plot.width = 8, repr.plot.height = 7)\n",
    "DimPlot(merged_ds, label = T, label.size = 10)\n"
   ]
  },
  {
   "cell_type": "code",
   "execution_count": null,
   "id": "07cc48d0",
   "metadata": {},
   "outputs": [],
   "source": [
    "options(repr.plot.width = 24, repr.plot.height = 16)\n",
    "\n",
    "FeaturePlot(merged_ds, features = c(\"CD8A\"), split.by = \"seurat_clusters\", max.cutoff = 2) + plot_layout(ncol = 7, nrow = 4)\n"
   ]
  },
  {
   "cell_type": "code",
   "execution_count": null,
   "id": "389b3705",
   "metadata": {},
   "outputs": [],
   "source": [
    "options(repr.plot.width = 24, repr.plot.height = 12)\n",
    "\n",
    "FeaturePlot(merged_ds, features = c(\"CD4\"), split.by = \"seurat_clusters\", max.cutoff = 2) + plot_layout(ncol = 7, nrow = 4)\n"
   ]
  },
  {
   "cell_type": "code",
   "execution_count": null,
   "id": "82cf2c64",
   "metadata": {},
   "outputs": [],
   "source": [
    "merged_ds  <- JoinLayers(merged_ds)"
   ]
  },
  {
   "cell_type": "code",
   "execution_count": null,
   "id": "1496fc71",
   "metadata": {},
   "outputs": [],
   "source": [
    "which(rownames(merged_ds@assays$RNA) == \"CD4\")"
   ]
  },
  {
   "cell_type": "code",
   "execution_count": null,
   "id": "ad72d3a1",
   "metadata": {},
   "outputs": [],
   "source": [
    "which(rownames(merged_ds@assays$RNA) == \"CD8A\")"
   ]
  },
  {
   "cell_type": "code",
   "execution_count": null,
   "id": "667a790e",
   "metadata": {},
   "outputs": [],
   "source": [
    "merged_ds$cd4_or_cd8  <- ifelse(merged_ds@assays$RNA$counts[16762,]>0 & merged_ds@assays$RNA$counts[3588,]>0, \"Both\",\n",
    "                               ifelse(merged_ds@assays$RNA$counts[16762,]>0 & merged_ds@assays$RNA$counts[3588,]==0, \"CD4\",\n",
    "                               ifelse(merged_ds@assays$RNA$counts[16762,]==0 & merged_ds@assays$RNA$counts[3588,]>0, \"CD8\",\n",
    "                               \"Unknown\")))"
   ]
  },
  {
   "cell_type": "code",
   "execution_count": null,
   "id": "d0b6849b",
   "metadata": {},
   "outputs": [],
   "source": [
    "merged_ds$cd4_or_cd8  %>% table"
   ]
  },
  {
   "cell_type": "code",
   "execution_count": null,
   "id": "9401a8df",
   "metadata": {},
   "outputs": [],
   "source": [
    "DimPlot(merged_ds, group.by = \"cd4_or_cd8\")"
   ]
  },
  {
   "cell_type": "code",
   "execution_count": null,
   "id": "8ec622cb",
   "metadata": {},
   "outputs": [],
   "source": [
    "md_merged_ds  <- merged_ds@meta.data"
   ]
  },
  {
   "cell_type": "code",
   "execution_count": null,
   "id": "0766e8b7",
   "metadata": {},
   "outputs": [],
   "source": [
    "options(repr.plot.width = 24, repr.plot.height = 12)\n",
    "\n",
    "FeaturePlot(merged_ds, features = c(\"CD8A\"), split.by = \"seurat_clusters\", max.cutoff = 2) + plot_layout(ncol = 7, nrow = 3)\n"
   ]
  },
  {
   "cell_type": "code",
   "execution_count": null,
   "id": "7e20807b",
   "metadata": {},
   "outputs": [],
   "source": [
    "options(repr.plot.width = 24, repr.plot.height = 12)\n",
    "\n",
    "FeaturePlot(merged_ds, features = c(\"CD4\"), split.by = \"seurat_clusters\", max.cutoff = 2) + plot_layout(ncol = 7, nrow = 3)\n"
   ]
  },
  {
   "cell_type": "code",
   "execution_count": null,
   "id": "20a01472",
   "metadata": {},
   "outputs": [],
   "source": [
    "options(repr.plot.width = 8, repr.plot.height = 7)\n",
    "DimPlot(merged_ds, label = T, label.size = 10)\n"
   ]
  },
  {
   "cell_type": "code",
   "execution_count": null,
   "id": "79c2563f",
   "metadata": {},
   "outputs": [],
   "source": [
    "md_merged_ds <- md_merged_ds  %>% mutate(cd4_or_cd8_2 = \n",
    "                                ifelse(cd4_or_cd8 == \"Unknown\" | cd4_or_cd8 == \"Both\",\n",
    "                                  case_when(seurat_clusters %in% c(0,1,4,9,11) ~ \"CD8\",\n",
    "                                            seurat_clusters %in% c(2,3,5,7,8,10,13) ~ \"CD4\",\n",
    "                                            seurat_clusters %in% c(6,12,14,15,16,17,18) ~ \"NK_DN\"),\n",
    "                                   cd4_or_cd8))"
   ]
  },
  {
   "cell_type": "code",
   "execution_count": null,
   "id": "3976603b",
   "metadata": {},
   "outputs": [],
   "source": [
    "md_merged_ds$cd4_or_cd8_2  %>% table"
   ]
  },
  {
   "cell_type": "code",
   "execution_count": null,
   "id": "fbc86591",
   "metadata": {},
   "outputs": [],
   "source": [
    "merged_ds$cd4_or_cd8_2  <- md_merged_ds$cd4_or_cd8_2"
   ]
  },
  {
   "cell_type": "code",
   "execution_count": null,
   "id": "5646d76e",
   "metadata": {},
   "outputs": [],
   "source": [
    "DimPlot(merged_ds, group.by = \"cd4_or_cd8_2\")"
   ]
  },
  {
   "cell_type": "code",
   "execution_count": null,
   "id": "77ac7cbe",
   "metadata": {},
   "outputs": [],
   "source": [
    "saveRDS(merged_ds, paste0(\"../data/published_data/Zhong_2025/241019_NatComm_merged_filt_tcells3.rds\"))"
   ]
  },
  {
   "cell_type": "code",
   "execution_count": null,
   "id": "505e27cf",
   "metadata": {},
   "outputs": [],
   "source": [
    "merged_ds <- readRDS(\"../data/published_data/Zhong_2025/241019_NatComm_merged_filt_tcells2.rds\")"
   ]
  },
  {
   "cell_type": "code",
   "execution_count": null,
   "id": "35a2b726",
   "metadata": {},
   "outputs": [],
   "source": [
    "sub  <- subset(merged_ds, cd4_or_cd8_2 == \"NK_DN\")\n",
    "     sub <- NormalizeData(sub, verbose = FALSE)\n",
    "        sub <- ScaleData(sub, verbose = FALSE)\n",
    "        sub <- FindVariableFeatures(sub, nfeatures = 1000, verbose = FALSE)\n",
    "\n",
    "sub <- RunPCA(sub, dims = 1:12)\n",
    "sub <- RunUMAP(sub, reduction = \"pca\", dims = 1:12)\n",
    "  \n",
    "\n",
    "sub <- FindNeighbors(sub, dims = 1:12)\n",
    "sub <- FindClusters(sub, resolution = 0.7)\n",
    "            print(\"CLustering done!\")\n",
    "nk_dn  <- sub"
   ]
  },
  {
   "cell_type": "code",
   "execution_count": null,
   "id": "9b73e958",
   "metadata": {},
   "outputs": [],
   "source": [
    "sub  <- subset(merged_ds, cd4_or_cd8_2 == \"CD4\")\n",
    "sub <- NormalizeData(sub, verbose = FALSE)\n",
    "sub <- ScaleData(sub, verbose = FALSE)\n",
    "sub <- FindVariableFeatures(sub, nfeatures = 1000, verbose = FALSE)\n",
    "\n",
    "sub <- RunPCA(sub, dims = 1:12)\n",
    "sub <- RunUMAP(sub, reduction = \"pca\", dims = 1:12)\n",
    "  \n",
    "\n",
    "sub <- FindNeighbors(sub, dims = 1:12)\n",
    "sub <- FindClusters(sub, resolution = 0.7)\n",
    "            print(\"CLustering done!\")\n",
    "cd4  <- sub"
   ]
  },
  {
   "cell_type": "code",
   "execution_count": null,
   "id": "b79b7f39",
   "metadata": {},
   "outputs": [],
   "source": [
    "sub  <- subset(merged_ds, cd4_or_cd8_2 == \"CD8\")\n",
    "     sub <- NormalizeData(sub, verbose = FALSE)\n",
    "        sub <- ScaleData(sub, verbose = FALSE)\n",
    "        sub <- FindVariableFeatures(sub, nfeatures = 1000, verbose = FALSE)\n",
    "\n",
    "sub <- RunPCA(sub, dims = 1:12)\n",
    "sub <- RunUMAP(sub, reduction = \"pca\", dims = 1:12)\n",
    "  \n",
    "\n",
    "sub <- FindNeighbors(sub, dims = 1:12)\n",
    "sub <- FindClusters(sub, resolution = 0.7)\n",
    "            print(\"CLustering done!\")\n",
    "cd8  <- sub"
   ]
  },
  {
   "cell_type": "code",
   "execution_count": null,
   "id": "05db90aa",
   "metadata": {},
   "outputs": [],
   "source": [
    "DimPlot(cd4, group.by = \"source\")"
   ]
  },
  {
   "cell_type": "code",
   "execution_count": null,
   "id": "9e260c24",
   "metadata": {},
   "outputs": [],
   "source": [
    "DimPlot(cd8, group.by = \"source\")"
   ]
  },
  {
   "cell_type": "code",
   "execution_count": null,
   "id": "2574a5e6",
   "metadata": {},
   "outputs": [],
   "source": [
    "DimPlot(nk_dn, group.by = \"source\")"
   ]
  },
  {
   "cell_type": "code",
   "execution_count": null,
   "id": "a32a0b58",
   "metadata": {},
   "outputs": [],
   "source": [
    "DimPlot(cd4, group.by = \"Disease\")"
   ]
  },
  {
   "cell_type": "code",
   "execution_count": null,
   "id": "68c4ef91",
   "metadata": {},
   "outputs": [],
   "source": [
    "DimPlot(cd8, group.by = \"Disease\")"
   ]
  },
  {
   "cell_type": "code",
   "execution_count": null,
   "id": "e866c199",
   "metadata": {},
   "outputs": [],
   "source": [
    "DimPlot(nk_dn, group.by = \"Disease\")"
   ]
  },
  {
   "cell_type": "markdown",
   "id": "dae889ed",
   "metadata": {},
   "source": [
    "# Removing PR group"
   ]
  },
  {
   "cell_type": "markdown",
   "id": "7a278c81",
   "metadata": {},
   "source": [
    "As there is severe batch effect in the PR group, we will now analyze only Healthy and newly diagnosed samples."
   ]
  },
  {
   "cell_type": "markdown",
   "id": "e72647d0",
   "metadata": {},
   "source": [
    "## CD4 without PR"
   ]
  },
  {
   "cell_type": "code",
   "execution_count": null,
   "id": "47c565e1",
   "metadata": {},
   "outputs": [],
   "source": [
    "sub  <- subset(cd4, Disease != \"R\")\n"
   ]
  },
  {
   "cell_type": "code",
   "execution_count": null,
   "id": "b656a878",
   "metadata": {
    "scrolled": true
   },
   "outputs": [],
   "source": [
    "   sub <- NormalizeData(sub, verbose = FALSE)\n",
    "        sub <- ScaleData(sub, verbose = FALSE)\n",
    "        sub <- FindVariableFeatures(sub, nfeatures = 1000, verbose = FALSE)\n",
    "\n",
    "sub <- RunPCA(sub, dims = 1:12)\n",
    "sub <- RunUMAP(sub, reduction = \"pca\", dims = 1:12)\n",
    "  \n",
    "\n",
    "sub <- FindNeighbors(sub, dims = 1:12)\n",
    "sub <- FindClusters(sub, resolution = 0.7)\n",
    "            print(\"CLustering done!\")\n",
    "cd4_without_pr  <- sub"
   ]
  },
  {
   "cell_type": "code",
   "execution_count": null,
   "id": "e23dc3ba",
   "metadata": {},
   "outputs": [],
   "source": [
    "DimPlot(cd4_without_pr, label = T, label.size = 10)"
   ]
  },
  {
   "cell_type": "code",
   "execution_count": null,
   "id": "f033011e",
   "metadata": {},
   "outputs": [],
   "source": [
    "options(repr.plot.width = 16, repr.plot.height = 16)\n",
    "FeaturePlot(cd4_without_pr, features = c(\"CD3D\",\"CD8A\",\"RORC\",\"LGALS3\",\n",
    "                                         \"GATA3\",\"MKI67\",\"ISG15\",\"NCAM1\",\n",
    "                                         \"TRGC1\",\"TRDC\",\"FOXP3\",\"CTLA4\",\n",
    "                                         \"IL4\",\"IL5\",\"NFKBIA\",\"CD4\"), ncol = 4)\n"
   ]
  },
  {
   "cell_type": "code",
   "execution_count": null,
   "id": "74728232",
   "metadata": {},
   "outputs": [],
   "source": [
    "DimPlot(cd4_without_pr, group.by = \"Disease\")"
   ]
  },
  {
   "cell_type": "markdown",
   "id": "30bcc86d",
   "metadata": {},
   "source": [
    "## Treg"
   ]
  },
  {
   "cell_type": "code",
   "execution_count": null,
   "id": "0b5ee551",
   "metadata": {},
   "outputs": [],
   "source": [
    "treg  <- subset(cd4_without_pr, seurat_clusters %in% c(7,9))"
   ]
  },
  {
   "cell_type": "code",
   "execution_count": null,
   "id": "650ee68b",
   "metadata": {},
   "outputs": [],
   "source": [
    "   treg <- NormalizeData(treg, verbose = FALSE)\n",
    "        treg <- ScaleData(treg, verbose = FALSE)\n",
    "        treg <- FindVariableFeatures(treg, nfeatures = 1000, verbose = FALSE)\n",
    "\n",
    "treg <- RunPCA(treg, dims = 1:10)\n",
    "treg <- RunUMAP(treg, reduction = \"pca\", dims = 1:10)\n",
    "  \n",
    "\n",
    "treg <- FindNeighbors(treg, dims = 1:10)"
   ]
  },
  {
   "cell_type": "code",
   "execution_count": null,
   "id": "3ce574c6",
   "metadata": {
    "scrolled": true
   },
   "outputs": [],
   "source": [
    "treg <- FindClusters(treg, resolution = 0.7)\n",
    "            print(\"CLustering done!\")\n",
    "DimPlot(treg)"
   ]
  },
  {
   "cell_type": "code",
   "execution_count": null,
   "id": "ff57f86f",
   "metadata": {},
   "outputs": [],
   "source": [
    "options(repr.plot.width = 6, repr.plot.height = 5)\n",
    "\n",
    "DimPlot(treg, group.by = \"Disease\")"
   ]
  },
  {
   "cell_type": "code",
   "execution_count": null,
   "id": "f5cf396b",
   "metadata": {},
   "outputs": [],
   "source": [
    "DimPlot(treg)"
   ]
  },
  {
   "cell_type": "code",
   "execution_count": null,
   "id": "0483b228",
   "metadata": {
    "scrolled": true
   },
   "outputs": [],
   "source": [
    "FeaturePlot(treg, features = \"GZMK\")"
   ]
  },
  {
   "cell_type": "code",
   "execution_count": null,
   "id": "3e575134",
   "metadata": {},
   "outputs": [],
   "source": [
    "options(repr.plot.width = 16, repr.plot.height = 16)\n",
    "FeaturePlot(treg, features = c(\"FOXP3\",\"TIGIT\",\"CD226\",\"GZMK\",\n",
    "                                         \"CCR4\",\"CTLA4\",\"IL7R\",\"SELL\",\n",
    "                                         \"ISG15\",\"LAG3\",\"IL10\",\"TGFB1\",\n",
    "                                         \"IL4\",\"IL5\",\"NFKBIA\",\"CD4\"), ncol = 4)\n"
   ]
  },
  {
   "cell_type": "code",
   "execution_count": null,
   "id": "dacf10b5",
   "metadata": {},
   "outputs": [],
   "source": [
    "options(repr.plot.width = 12, repr.plot.height = 10)\n",
    "\n",
    "seurat_meta_data <- treg@meta.data\n",
    "seurat_meta_data$sample  <- seurat_meta_data$source\n",
    "\n",
    "# Create grouped dataframe, calculate the frequencies of clusters\n",
    "df4 <- seurat_meta_data %>% group_by(sample, seurat_clusters) %>% \n",
    "  summarise(n = n()) %>% \n",
    "  unique() %>% \n",
    "  mutate(freq = n / sum(n)) \n",
    "\n",
    "\n",
    "# As we've lost non-grouping variables, let's join them back\n",
    "md_to_join <- seurat_meta_data %>% dplyr::select(sample, Disease) %>% unique()\n",
    "df4  <- left_join(df4, md_to_join, by = \"sample\")\n",
    "\n",
    "# The final plot\n",
    "\n",
    "df4 %>% ggplot(aes(x = Disease, y = freq)) + # you can change the x to whatever variable you're interested in\n",
    "  geom_boxplot(outlier.shape = NA) + \n",
    "  geom_dotplot(binaxis='y', stackdir='center', dotsize=0) + \n",
    "  geom_jitter(position=position_jitter(0.2), size = 2, aes(color = Disease)) + # in aes, you can also use shape or fill (for the shapes that allow it)\n",
    "  facet_wrap(~seurat_clusters, scales = \"free\") +\n",
    "  ylab(\"Frequency\") +\n",
    "  xlab(\"Condition\") +\n",
    "ggpubr::stat_compare_means() +\n",
    "  ylim(c(0,NA)) + # This ensures that our x axis starts at zero, but feel free to remove this line\n",
    "  theme_classic() +\n",
    "  theme(strip.background = element_blank(), panel.grid = element_blank())\n"
   ]
  },
  {
   "cell_type": "markdown",
   "id": "49c6ae23",
   "metadata": {},
   "source": [
    "## CD8 without PR"
   ]
  },
  {
   "cell_type": "code",
   "execution_count": null,
   "id": "4a5f4076",
   "metadata": {},
   "outputs": [],
   "source": [
    "sub  <- subset(cd8, Disease != \"R\")\n"
   ]
  },
  {
   "cell_type": "code",
   "execution_count": null,
   "id": "766a9c1f",
   "metadata": {},
   "outputs": [],
   "source": [
    "   sub <- NormalizeData(sub, verbose = FALSE)\n",
    "        sub <- ScaleData(sub, verbose = FALSE)\n",
    "        sub <- FindVariableFeatures(sub, nfeatures = 1000, verbose = FALSE)\n",
    "\n",
    "sub <- RunPCA(sub, dims = 1:12)\n",
    "sub <- RunUMAP(sub, reduction = \"pca\", dims = 1:12)\n",
    "  \n",
    "\n",
    "sub <- FindNeighbors(sub, dims = 1:12)\n",
    "sub <- FindClusters(sub, resolution = 0.7)\n",
    "            print(\"CLustering done!\")\n",
    "cd8_without_pr  <- sub"
   ]
  },
  {
   "cell_type": "code",
   "execution_count": null,
   "id": "e426f599",
   "metadata": {},
   "outputs": [],
   "source": [
    "DimPlot(cd8_without_pr)"
   ]
  },
  {
   "cell_type": "code",
   "execution_count": null,
   "id": "dfc67b72",
   "metadata": {},
   "outputs": [],
   "source": [
    "options(repr.plot.width = 16, repr.plot.height = 16)\n",
    "FeaturePlot(cd8_without_pr, features = c(\"SELL\",\"EOMES\",\"TBX21\",\"LGALS3\",\n",
    "                                         \"IFNG\",\"MKI67\",\"ISG15\",\"NCAM1\",\n",
    "                                         \"TRGC1\",\"TRDC\",\"IKZF2\",\"CTLA4\",\n",
    "                                         \"IL4\",\"IL5\",\"NFKBIA\",\"CD4\"), ncol = 4)"
   ]
  },
  {
   "cell_type": "markdown",
   "id": "edb3cd2b",
   "metadata": {},
   "source": [
    "## NK without PR"
   ]
  },
  {
   "cell_type": "code",
   "execution_count": null,
   "id": "f1ac3395",
   "metadata": {},
   "outputs": [],
   "source": [
    "sub  <- subset(nk_dn, Disease != \"R\")"
   ]
  },
  {
   "cell_type": "code",
   "execution_count": null,
   "id": "8ba04031",
   "metadata": {},
   "outputs": [],
   "source": [
    "sub <- NormalizeData(sub, verbose = FALSE)\n",
    "sub <- ScaleData(sub, verbose = FALSE)\n",
    "sub <- FindVariableFeatures(sub, nfeatures = 1000, verbose = FALSE)\n",
    "\n",
    "sub <- RunPCA(sub, dims = 1:12)\n",
    "sub <- RunUMAP(sub, reduction = \"pca\", dims = 1:12)\n",
    "  \n",
    "\n",
    "sub <- FindNeighbors(sub, dims = 1:12)\n",
    "sub <- FindClusters(sub, resolution = 0.7)\n",
    "            print(\"CLustering done!\")\n",
    "nk_dn_without_pr  <- sub"
   ]
  },
  {
   "cell_type": "code",
   "execution_count": null,
   "id": "c9d1d357",
   "metadata": {},
   "outputs": [],
   "source": [
    "DimPlot(nk_dn_without_pr)"
   ]
  },
  {
   "cell_type": "code",
   "execution_count": null,
   "id": "4a853fce",
   "metadata": {},
   "outputs": [],
   "source": [
    "saveRDS(cd4_without_pr, \"../data/published_data/Zhong_2025/241019_NatComm_merged_filt_cd4_noPR.rds\")\n",
    "saveRDS(cd8_without_pr, \"../data/published_data/Zhong_2025/241019_NatComm_merged_filt_cd8_noPR.rds\")\n",
    "saveRDS(nk_dn_without_pr, \"../data/published_data/Zhong_2025/241019_NatComm_merged_filt_nk_noPR.rds\")"
   ]
  }
 ],
 "metadata": {
  "kernelspec": {
   "display_name": "R",
   "language": "R",
   "name": "ir"
  },
  "language_info": {
   "codemirror_mode": "r",
   "file_extension": ".r",
   "mimetype": "text/x-r-source",
   "name": "R",
   "pygments_lexer": "r",
   "version": "4.5.1"
  },
  "toc": {
   "base_numbering": 1,
   "nav_menu": {},
   "number_sections": true,
   "sideBar": true,
   "skip_h1_title": false,
   "title_cell": "Table of Contents",
   "title_sidebar": "Contents",
   "toc_cell": false,
   "toc_position": {},
   "toc_section_display": true,
   "toc_window_display": true
  }
 },
 "nbformat": 4,
 "nbformat_minor": 5
}
