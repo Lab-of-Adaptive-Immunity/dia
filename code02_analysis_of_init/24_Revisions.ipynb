{
 "cells": [
  {
   "cell_type": "markdown",
   "id": "90ec5217",
   "metadata": {},
   "source": [
    "# Part 24: Revisions"
   ]
  },
  {
   "cell_type": "markdown",
   "id": "49ea51d2",
   "metadata": {},
   "source": [
    "In tis document, we address various questions raised by the reviewers. "
   ]
  },
  {
   "cell_type": "code",
   "execution_count": null,
   "id": "64b3629c",
   "metadata": {},
   "outputs": [],
   "source": [
    "source(\"diabetes_analysis_v07.R\")"
   ]
  },
  {
   "cell_type": "markdown",
   "id": "2db4a670",
   "metadata": {},
   "source": [
    "# Phenotype of Naive cells"
   ]
  },
  {
   "cell_type": "code",
   "execution_count": null,
   "id": "bbb6de6c",
   "metadata": {},
   "outputs": [],
   "source": [
    "cd4_l2_subcluster  <- readRDS(\"../../240218_VN_Diabetes_V05/data/processed/L2/cd4_subcluster.rds\")\n",
    "cd8_l2_subcluster  <- readRDS(\"../../240218_VN_Diabetes_V05/data/processed/L2/cd8_l2_subcluster.rds\")\n",
    "cd4_naive  <- readRDS(\"../../240218_VN_Diabetes_V05/data/processed/L3/cd4_l3_naive.rds\")\n",
    "cd8_naive  <- readRDS(\"../../240218_VN_Diabetes_V05/data/processed/L3/cd8_l3_naive.rds\")\n"
   ]
  },
  {
   "cell_type": "markdown",
   "id": "20948eb1",
   "metadata": {},
   "source": [
    "## Coexpression of naive markers in the same cells"
   ]
  },
  {
   "cell_type": "markdown",
   "id": "ee4efca6",
   "metadata": {},
   "source": [
    "### CD4"
   ]
  },
  {
   "cell_type": "code",
   "execution_count": null,
   "id": "ad583d1d",
   "metadata": {},
   "outputs": [],
   "source": [
    "DefaultAssay(cd4_naive)  <- \"RNA\""
   ]
  },
  {
   "cell_type": "code",
   "execution_count": null,
   "id": "a30c2141",
   "metadata": {},
   "outputs": [],
   "source": [
    "options(repr.plot.width = 9, repr.plot.height = 5)\n",
    "DimPlot(cd4_naive, group.by = \"annotations_manual\")"
   ]
  },
  {
   "cell_type": "code",
   "execution_count": null,
   "id": "c71d843b",
   "metadata": {},
   "outputs": [],
   "source": [
    "options(repr.plot.width = 15, repr.plot.height = 8)\n",
    "FeaturePlot(cd4_naive, features = c(\"LEF1\", \"BACH2\", \"IL7R\", \"CXCR4\", \"ZFP36L2\",\n",
    "                                    \"BTG1\",\"BTG2\",\"KLF2\",\"IL7R\"), min.cutoff = 0,\n",
    "           ncol = 4)"
   ]
  },
  {
   "cell_type": "code",
   "execution_count": null,
   "id": "8719bc14",
   "metadata": {},
   "outputs": [],
   "source": [
    "options(repr.plot.width = 6, repr.plot.height = 5)\n",
    "VlnPlot(cd4_naive, group.by = \"annotations_manual\", features = c(\"LEF1\"), pt.size = 0) + NoLegend()\n",
    "VlnPlot(cd4_naive, group.by = \"annotations_manual\", features = c(\"BACH2\"), pt.size = 0) + NoLegend()\n",
    "VlnPlot(cd4_naive, group.by = \"annotations_manual\", features = c(\"IL7R\"), pt.size = 0) + NoLegend()\n",
    "VlnPlot(cd4_naive, group.by = \"annotations_manual\", features = c(\"CXCR4\"), pt.size = 0) + NoLegend()\n",
    "VlnPlot(cd4_naive, group.by = \"annotations_manual\", features = c(\"ZFP36L2\"), pt.size = 0) + NoLegend()\n",
    "VlnPlot(cd4_naive, group.by = \"annotations_manual\", features = c(\"BTG1\"), pt.size = 0) + NoLegend()\n",
    "VlnPlot(cd4_naive, group.by = \"annotations_manual\", features = c(\"BTG2\"), pt.size = 0) + NoLegend()\n",
    "VlnPlot(cd4_naive, group.by = \"annotations_manual\", features = c(\"KLF2\"), pt.size = 0) + NoLegend()"
   ]
  },
  {
   "cell_type": "code",
   "execution_count": null,
   "id": "dba57a7a",
   "metadata": {
    "scrolled": true
   },
   "outputs": [],
   "source": [
    "options(repr.plot.width=10, repr.plot.height=16)\n",
    "pct_expressing_boxplot(seurat_object = cd4_naive, group.by = \"annotations_manual\", gene = \"LEF1\", sample.col = \"Sample_ID\") +\n",
    "pct_expressing_boxplot(seurat_object = cd4_naive, group.by = \"annotations_manual\", gene = \"BACH2\", sample.col = \"Sample_ID\") +\n",
    "pct_expressing_boxplot(seurat_object = cd4_naive, group.by = \"annotations_manual\", gene = \"IL7R\", sample.col = \"Sample_ID\") +\n",
    "pct_expressing_boxplot(seurat_object = cd4_naive, group.by = \"annotations_manual\", gene = \"CXCR4\", sample.col = \"Sample_ID\") +\n",
    "pct_expressing_boxplot(seurat_object = cd4_naive, group.by = \"annotations_manual\", gene = \"ZFP36L2\", sample.col = \"Sample_ID\") +\n",
    "pct_expressing_boxplot(seurat_object = cd4_naive, group.by = \"annotations_manual\", gene = \"BTG1\", sample.col = \"Sample_ID\") +\n",
    "pct_expressing_boxplot(seurat_object = cd4_naive, group.by = \"annotations_manual\", gene = \"BTG2\", sample.col = \"Sample_ID\") +\n",
    "pct_expressing_boxplot(seurat_object = cd4_naive, group.by = \"annotations_manual\", gene = \"KLF2\", sample.col = \"Sample_ID\") +\n",
    "plot_layout(ncol = 4)"
   ]
  },
  {
   "cell_type": "markdown",
   "id": "0c1f4411",
   "metadata": {},
   "source": [
    "### CD8"
   ]
  },
  {
   "cell_type": "code",
   "execution_count": null,
   "id": "9bead07a",
   "metadata": {},
   "outputs": [],
   "source": [
    "options(repr.plot.width = 9, repr.plot.height = 5)\n",
    "DimPlot(cd8_naive, group.by = \"annotations_manual\")"
   ]
  },
  {
   "cell_type": "code",
   "execution_count": null,
   "id": "d9124d89",
   "metadata": {},
   "outputs": [],
   "source": [
    "DefaultAssay(cd8_naive)  <- \"RNA\""
   ]
  },
  {
   "cell_type": "code",
   "execution_count": null,
   "id": "5ac9a0d1",
   "metadata": {
    "scrolled": true
   },
   "outputs": [],
   "source": [
    "options(repr.plot.width = 15, repr.plot.height = 8)\n",
    "FeaturePlot(cd8_naive, features = c(\"LEF1\", \"BACH2\", \"IL7R\", \"CXCR4\", \"ZFP36L2\",\n",
    "                                    \"BTG1\",\"BTG2\",\"KLF2\",\"IL7R\"), min.cutoff = 0,\n",
    "           ncol = 4)"
   ]
  },
  {
   "cell_type": "code",
   "execution_count": null,
   "id": "ea9d5757",
   "metadata": {},
   "outputs": [],
   "source": [
    "options(repr.plot.width = 6, repr.plot.height = 5)\n",
    "VlnPlot(cd8_naive, group.by = \"annotations_manual\", features = c(\"LEF1\"), pt.size = 0) + NoLegend()\n",
    "VlnPlot(cd8_naive, group.by = \"annotations_manual\", features = c(\"BACH2\"), pt.size = 0) + NoLegend()\n",
    "VlnPlot(cd8_naive, group.by = \"annotations_manual\", features = c(\"IL7R\"), pt.size = 0) + NoLegend()\n",
    "VlnPlot(cd8_naive, group.by = \"annotations_manual\", features = c(\"CXCR4\"), pt.size = 0) + NoLegend()\n",
    "VlnPlot(cd8_naive, group.by = \"annotations_manual\", features = c(\"ZFP36L2\"), pt.size = 0) + NoLegend()\n",
    "VlnPlot(cd8_naive, group.by = \"annotations_manual\", features = c(\"BTG1\"), pt.size = 0) + NoLegend()\n",
    "VlnPlot(cd8_naive, group.by = \"annotations_manual\", features = c(\"BTG2\"), pt.size = 0) + NoLegend()\n",
    "VlnPlot(cd8_naive, group.by = \"annotations_manual\", features = c(\"KLF2\"), pt.size = 0) + NoLegend()"
   ]
  },
  {
   "cell_type": "code",
   "execution_count": null,
   "id": "fa307551",
   "metadata": {},
   "outputs": [],
   "source": [
    "pct_expressing_boxplot  <- function(seurat_object, gene, group.by = \"annotations_l2\", sample.col = \"sample\"){\n",
    "   rn = which(rownames(seurat_object@assays$RNA)==gene)\n",
    "ggtheme = function() {\n",
    "  theme(\n",
    "    axis.text = element_text(size = 20),\n",
    "    axis.title = element_text(size = 20),\n",
    "    text = element_text(size = 20, colour = \"black\"),\n",
    "    legend.text = element_text(size = 20),\n",
    "    legend.key.size =  unit(10, units = \"points\")\n",
    "    \n",
    "  )\n",
    "}\n",
    "\n",
    "df = data.frame(grouping_var = seurat_object@meta.data[[group.by]],\n",
    "               value = seurat_object@assays$RNA@counts[rn,], \n",
    "               sample = seurat_object@meta.data[[sample.col]])  %>% \n",
    "mutate(expressing = if_else(value>0,1,0))  %>% \n",
    "dplyr::select(-value)  %>% \n",
    "group_by(sample, grouping_var)  %>% \n",
    "summarise(mean_expression = mean(expressing))  %>% \n",
    "pivot_wider(names_from = sample, values_from = mean_expression, values_fill = 0)  %>% \n",
    "pivot_longer(!grouping_var, names_to = \"sample\", values_to = \"expressing\")\n",
    "\n",
    "plt = ggplot(data = df, aes(x = grouping_var, y = expressing)) +\n",
    "geom_boxplot(outlier.shape = NA, aes(fill = grouping_var), alpha = 0.3) + \n",
    "  geom_dotplot(binaxis='y', stackdir='center', dotsize=0) + \n",
    "  geom_jitter(width = 0.1, height = 0.0, size = 2, aes(color = grouping_var)) +\n",
    "theme_classic() +\n",
    "    theme(plot.title = element_text(hjust = 0.5)) +\n",
    "    theme(axis.text.x = element_text(angle = 90, vjust = 0.5)) +\n",
    "ggtheme() +\n",
    "    ggtitle(gene) +\n",
    "    ylab(\"Pct expressing cells\") +\n",
    "xlab(\"\") + NoLegend()\n",
    "    return(plt)\n",
    "    }\n"
   ]
  },
  {
   "cell_type": "code",
   "execution_count": null,
   "id": "a627220c",
   "metadata": {
    "scrolled": true
   },
   "outputs": [],
   "source": [
    "options(repr.plot.width=10, repr.plot.height=16)\n",
    "pct_expressing_boxplot(seurat_object = cd8_naive, group.by = \"annotations_manual\", gene = \"LEF1\", sample.col = \"Sample_ID\") +\n",
    "pct_expressing_boxplot(seurat_object = cd8_naive, group.by = \"annotations_manual\", gene = \"BACH2\", sample.col = \"Sample_ID\") +\n",
    "pct_expressing_boxplot(seurat_object = cd8_naive, group.by = \"annotations_manual\", gene = \"IL7R\", sample.col = \"Sample_ID\") +\n",
    "pct_expressing_boxplot(seurat_object = cd8_naive, group.by = \"annotations_manual\", gene = \"CXCR4\", sample.col = \"Sample_ID\") +\n",
    "pct_expressing_boxplot(seurat_object = cd8_naive, group.by = \"annotations_manual\", gene = \"ZFP36L2\", sample.col = \"Sample_ID\") +\n",
    "pct_expressing_boxplot(seurat_object = cd8_naive, group.by = \"annotations_manual\", gene = \"BTG1\", sample.col = \"Sample_ID\") +\n",
    "pct_expressing_boxplot(seurat_object = cd8_naive, group.by = \"annotations_manual\", gene = \"BTG2\", sample.col = \"Sample_ID\") +\n",
    "pct_expressing_boxplot(seurat_object = cd8_naive, group.by = \"annotations_manual\", gene = \"KLF2\", sample.col = \"Sample_ID\") +\n",
    "plot_layout(ncol = 4)"
   ]
  },
  {
   "cell_type": "code",
   "execution_count": null,
   "id": "4a304e3a",
   "metadata": {},
   "outputs": [],
   "source": [
    "DefaultAssay(cd8_l2_subcluster)  <- \"RNA\"\n",
    "\n",
    "options(repr.plot.width = 15, repr.plot.height = 8)\n",
    "FeaturePlot(cd8_l1_full_filt, features = c(\"LEF1\", \"BACH2\", \"IL7R\", \"CXCR4\", \"ZFP36L2\",\n",
    "                                    \"BTG1\",\"BTG2\",\"KLF2\",\"IL7R\"), min.cutoff = 0,\n",
    "           ncol = 4)"
   ]
  },
  {
   "cell_type": "code",
   "execution_count": null,
   "id": "be507d14",
   "metadata": {},
   "outputs": [],
   "source": [
    "DefaultAssay(cd8_l2_subcluster)  <- \"RNA\"\n",
    "\n",
    "options(repr.plot.width = 15, repr.plot.height = 8)\n",
    "FeaturePlot(cd8_l1_full_filt, features = c(\"KLRG1\", \"SELL\", \"CCR7\", \"CXCR3\", \"TCF7\",\n",
    "                                    \"CX3CR1\",\"CD27\",\"CD28\"), min.cutoff = 0,\n",
    "           ncol = 4)"
   ]
  },
  {
   "cell_type": "code",
   "execution_count": null,
   "id": "541e2622",
   "metadata": {},
   "outputs": [],
   "source": [
    "options(repr.plot.width=13, repr.plot.height=16)\n",
    "pct_expressing_boxplot(seurat_object = cd8_l1_full_filt, group.by = \"annotations_l2\", gene = \"LEF1\", sample.col = \"Sample_ID\") +\n",
    "pct_expressing_boxplot(seurat_object = cd8_l1_full_filt, group.by = \"annotations_l2\", gene = \"BACH2\", sample.col = \"Sample_ID\") +\n",
    "pct_expressing_boxplot(seurat_object = cd8_l1_full_filt, group.by = \"annotations_l2\", gene = \"IL7R\", sample.col = \"Sample_ID\") +\n",
    "pct_expressing_boxplot(seurat_object = cd8_l1_full_filt, group.by = \"annotations_l2\", gene = \"CXCR4\", sample.col = \"Sample_ID\") +\n",
    "pct_expressing_boxplot(seurat_object = cd8_l1_full_filt, group.by = \"annotations_l2\", gene = \"ZFP36L2\", sample.col = \"Sample_ID\") +\n",
    "pct_expressing_boxplot(seurat_object = cd8_l1_full_filt, group.by = \"annotations_l2\", gene = \"BTG1\", sample.col = \"Sample_ID\") +\n",
    "pct_expressing_boxplot(seurat_object = cd8_l1_full_filt, group.by = \"annotations_l2\", gene = \"BTG2\", sample.col = \"Sample_ID\") +\n",
    "pct_expressing_boxplot(seurat_object = cd8_l1_full_filt, group.by = \"annotations_l2\", gene = \"KLF2\", sample.col = \"Sample_ID\") +\n",
    "plot_layout(ncol = 4)"
   ]
  },
  {
   "cell_type": "markdown",
   "id": "5f509641",
   "metadata": {},
   "source": [
    "## Wherry annotations"
   ]
  },
  {
   "cell_type": "code",
   "execution_count": null,
   "id": "36a1b4f2",
   "metadata": {},
   "outputs": [],
   "source": [
    "load(\"../../VN_misc/ref_wherry_new.RData\")"
   ]
  },
  {
   "cell_type": "code",
   "execution_count": null,
   "id": "0e76462a",
   "metadata": {},
   "outputs": [],
   "source": [
    "ref_wherry_new"
   ]
  },
  {
   "cell_type": "code",
   "execution_count": null,
   "id": "646fe443",
   "metadata": {},
   "outputs": [],
   "source": [
    "plan(\"multisession\")"
   ]
  },
  {
   "cell_type": "code",
   "execution_count": null,
   "id": "be8a5483",
   "metadata": {},
   "outputs": [],
   "source": [
    "cd8_naive_matrix  <- cd8_naive@assays$RNA@counts\n",
    "\n",
    "cd8_full_matrix  <- cd8_l1_full_filt@assays$RNA@counts\n"
   ]
  },
  {
   "cell_type": "markdown",
   "id": "3b04ad74",
   "metadata": {},
   "source": [
    "### Annotation of CD8 Naive"
   ]
  },
  {
   "cell_type": "code",
   "execution_count": null,
   "id": "28a45503",
   "metadata": {},
   "outputs": [],
   "source": [
    "### Annotate the dataset with Wherry dataset\n",
    "        pred.singler2 <- SingleR(test = cd8_naive_matrix, ref = ref_wherry_new$matrix,\n",
    "        labels = ref_wherry_new$labels, de.method=\"wilcox\", fine.tune = F, num.threads = 4)\n"
   ]
  },
  {
   "cell_type": "code",
   "execution_count": null,
   "id": "a3d9d1de",
   "metadata": {
    "scrolled": true
   },
   "outputs": [],
   "source": [
    "pred.singler2$scores"
   ]
  },
  {
   "cell_type": "code",
   "execution_count": null,
   "id": "ebdadd12",
   "metadata": {},
   "outputs": [],
   "source": [
    "mtx  <- pred.singler2$scores\n",
    "rownames(mtx)  <- colnames(cd8_naive$RNA)"
   ]
  },
  {
   "cell_type": "code",
   "execution_count": null,
   "id": "1009bb19",
   "metadata": {
    "scrolled": true
   },
   "outputs": [],
   "source": [
    "mtx"
   ]
  },
  {
   "cell_type": "code",
   "execution_count": null,
   "id": "06c75db9",
   "metadata": {},
   "outputs": [],
   "source": [
    "cd8_naive$singler  <- pred.singler2$labels"
   ]
  },
  {
   "cell_type": "code",
   "execution_count": null,
   "id": "60ccd794",
   "metadata": {},
   "outputs": [],
   "source": [
    "options(repr.plot.width = 6, repr.plot.height = 4.5)\n",
    "DimPlot(cd8_naive, group.by = \"singler\", shuffle = T)"
   ]
  },
  {
   "cell_type": "code",
   "execution_count": null,
   "id": "b37e78aa",
   "metadata": {},
   "outputs": [],
   "source": [
    "test  <- data.frame(annotation = cd8_naive$annotations_manual,\n",
    "                    pred = cd8_naive$singler, \n",
    "                    score_CD8_Naive = mtx[,\"CD8_Naive\"],\n",
    "                    score_CD8_CM = mtx[,\"CD8_CM\"],\n",
    "                    score_CD8_SCM_R3neg = mtx[,\"CD8_SCM-R3-\"],\n",
    "                    score_CD8_SCM_R3pos = mtx[,\"CD8_SCM-R3+\"]\n",
    "                     )"
   ]
  },
  {
   "cell_type": "code",
   "execution_count": null,
   "id": "c360d6e8",
   "metadata": {},
   "outputs": [],
   "source": [
    "test"
   ]
  },
  {
   "cell_type": "code",
   "execution_count": null,
   "id": "3f28dc11",
   "metadata": {},
   "outputs": [],
   "source": [
    "df2 <- test %>% group_by(annotation, pred) %>% \n",
    "  summarise(n = n()) %>%\n",
    "  mutate(freq = n / sum(n))"
   ]
  },
  {
   "cell_type": "code",
   "execution_count": null,
   "id": "33f2614b",
   "metadata": {
    "scrolled": true
   },
   "outputs": [],
   "source": [
    "df2"
   ]
  },
  {
   "cell_type": "code",
   "execution_count": null,
   "id": "eb1e3b95",
   "metadata": {
    "scrolled": true
   },
   "outputs": [],
   "source": [
    "options(repr.plot.width = 16, repr.plot.height = 4.5)\n",
    "ggplot(test) +\n",
    "  aes(x = annotation, fill = factor(pred)) +\n",
    "  geom_bar(position = \"fill\") + \n",
    "theme_classic() + \n",
    "ggtheme() +\n",
    "coord_flip() \n",
    "#scale_fill_manual(values = c(\"#d6ebd2ff\", \"lightskyblue1\", \"red2\"))\n",
    "#scale_fill_manual(values = c(\"grey\",\"#74bc68ff\", \"dodgerblue3\", \"red2\"))"
   ]
  },
  {
   "cell_type": "markdown",
   "id": "59af0665",
   "metadata": {},
   "source": [
    "### Annotation of CD8 All"
   ]
  },
  {
   "cell_type": "code",
   "execution_count": null,
   "id": "7c3853d6",
   "metadata": {},
   "outputs": [],
   "source": [
    "### Annotate the dataset with Wherry dataset\n",
    "        pred.singler2 <- SingleR(test = cd8_full_matrix, ref = ref_wherry_new$matrix,\n",
    "        labels = ref_wherry_new$labels, de.method=\"wilcox\", fine.tune = F, num.threads = 4)\n"
   ]
  },
  {
   "cell_type": "code",
   "execution_count": null,
   "id": "626ec3bc",
   "metadata": {
    "scrolled": true
   },
   "outputs": [],
   "source": [
    "pred.singler2$scores"
   ]
  },
  {
   "cell_type": "code",
   "execution_count": null,
   "id": "ad770567",
   "metadata": {},
   "outputs": [],
   "source": [
    "mtx  <- pred.singler2$scores\n",
    "rownames(mtx)  <- colnames(cd8_l1_full_filt$RNA)"
   ]
  },
  {
   "cell_type": "code",
   "execution_count": null,
   "id": "9932b01d",
   "metadata": {
    "scrolled": true
   },
   "outputs": [],
   "source": [
    "mtx"
   ]
  },
  {
   "cell_type": "code",
   "execution_count": null,
   "id": "2e175a5a",
   "metadata": {},
   "outputs": [],
   "source": [
    "cd8_l1_full_filt$singler  <- pred.singler2$labels"
   ]
  },
  {
   "cell_type": "code",
   "execution_count": null,
   "id": "0eb31604",
   "metadata": {},
   "outputs": [],
   "source": [
    "options(repr.plot.width = 6, repr.plot.height = 4.5)\n",
    "DimPlot(cd8_l1_full_filt, group.by = \"singler\", shuffle = T)"
   ]
  },
  {
   "cell_type": "code",
   "execution_count": null,
   "id": "7092095b",
   "metadata": {},
   "outputs": [],
   "source": [
    "test  <- data.frame(annotation = cd8_l1_full_filt$annotations_l2,\n",
    "                    pred = cd8_l1_full_filt$singler, \n",
    "                    score_CD8_Naive = mtx[,\"CD8_Naive\"],\n",
    "                    score_CD8_CM = mtx[,\"CD8_CM\"],\n",
    "                    score_CD8_SCM_R3neg = mtx[,\"CD8_SCM-R3-\"],\n",
    "                    score_CD8_SCM_R3pos = mtx[,\"CD8_SCM-R3+\"]\n",
    "                     )"
   ]
  },
  {
   "cell_type": "code",
   "execution_count": null,
   "id": "ed59cf31",
   "metadata": {},
   "outputs": [],
   "source": [
    "test"
   ]
  },
  {
   "cell_type": "code",
   "execution_count": null,
   "id": "47fd4a68",
   "metadata": {},
   "outputs": [],
   "source": [
    "df2 <- test %>% group_by(annotation, pred) %>% \n",
    "  summarise(n = n()) %>%\n",
    "  mutate(freq = n / sum(n))"
   ]
  },
  {
   "cell_type": "code",
   "execution_count": null,
   "id": "69b28671",
   "metadata": {
    "scrolled": true
   },
   "outputs": [],
   "source": [
    "df2"
   ]
  },
  {
   "cell_type": "code",
   "execution_count": null,
   "id": "08c9c6d0",
   "metadata": {
    "scrolled": true
   },
   "outputs": [],
   "source": [
    "options(repr.plot.width = 16, repr.plot.height = 4.5)\n",
    "ggplot(test) +\n",
    "  aes(x = annotation, fill = factor(pred)) +\n",
    "  geom_bar(position = \"fill\") + \n",
    "theme_classic() + \n",
    "ggtheme() +\n",
    "coord_flip() \n",
    "#scale_fill_manual(values = c(\"#d6ebd2ff\", \"lightskyblue1\", \"red2\"))\n",
    "#scale_fill_manual(values = c(\"grey\",\"#74bc68ff\", \"dodgerblue3\", \"red2\"))"
   ]
  },
  {
   "cell_type": "markdown",
   "id": "e3f3d735",
   "metadata": {},
   "source": [
    "### Annotation of CD4 Naive"
   ]
  },
  {
   "cell_type": "code",
   "execution_count": null,
   "id": "fe50dbfb",
   "metadata": {},
   "outputs": [],
   "source": [
    "cd4_naive_matrix  <- cd4_naive@assays$RNA@counts\n",
    "cd4_full_matrix <- cd4_l1_full_filt@assays$RNA@counts"
   ]
  },
  {
   "cell_type": "code",
   "execution_count": null,
   "id": "5cfe8d8a",
   "metadata": {},
   "outputs": [],
   "source": [
    "### Annotate the dataset with Wherry dataset\n",
    "        pred.singler2 <- SingleR(test = cd4_naive_matrix, ref = ref_wherry_new$matrix,\n",
    "        labels = ref_wherry_new$labels, de.method=\"wilcox\", fine.tune = F, num.threads = 4)\n"
   ]
  },
  {
   "cell_type": "code",
   "execution_count": null,
   "id": "674a52d9",
   "metadata": {
    "scrolled": true
   },
   "outputs": [],
   "source": [
    "pred.singler2$scores"
   ]
  },
  {
   "cell_type": "code",
   "execution_count": null,
   "id": "23c657a2",
   "metadata": {},
   "outputs": [],
   "source": [
    "mtx  <- pred.singler2$scores\n",
    "rownames(mtx)  <- colnames(cd4_naive$RNA)"
   ]
  },
  {
   "cell_type": "code",
   "execution_count": null,
   "id": "d86417c5",
   "metadata": {
    "scrolled": true
   },
   "outputs": [],
   "source": [
    "mtx"
   ]
  },
  {
   "cell_type": "code",
   "execution_count": null,
   "id": "e11b69f3",
   "metadata": {},
   "outputs": [],
   "source": [
    "cd4_naive$singler  <- pred.singler2$labels"
   ]
  },
  {
   "cell_type": "code",
   "execution_count": null,
   "id": "727744de",
   "metadata": {},
   "outputs": [],
   "source": [
    "options(repr.plot.width = 6, repr.plot.height = 4.5)\n",
    "DimPlot(cd4_naive, group.by = \"singler\", shuffle = T)"
   ]
  },
  {
   "cell_type": "code",
   "execution_count": null,
   "id": "c29b0174",
   "metadata": {},
   "outputs": [],
   "source": [
    "test  <- data.frame(annotation = cd4_naive$annotations_manual,\n",
    "                    pred = cd4_naive$singler, \n",
    "                    score_cd4_BulkNaive = mtx[,\"CD4_BulkNaive\"],\n",
    "                    score_cd8_Naive = mtx[,\"CD8_Naive\"],\n",
    "                    score_cd8_CM = mtx[,\"CD8_CM\"],\n",
    "                    score_cd8_SCM_R3neg = mtx[,\"CD8_SCM-R3-\"],\n",
    "                    score_cd8_SCM_R3pos = mtx[,\"CD8_SCM-R3+\"]\n",
    "                     )"
   ]
  },
  {
   "cell_type": "code",
   "execution_count": null,
   "id": "b24ae063",
   "metadata": {},
   "outputs": [],
   "source": [
    "test"
   ]
  },
  {
   "cell_type": "code",
   "execution_count": null,
   "id": "3051940f",
   "metadata": {},
   "outputs": [],
   "source": [
    "df2 <- test %>% group_by(annotation, pred) %>% \n",
    "  summarise(n = n()) %>%\n",
    "  mutate(freq = n / sum(n))"
   ]
  },
  {
   "cell_type": "code",
   "execution_count": null,
   "id": "50b8bb5e",
   "metadata": {
    "scrolled": true
   },
   "outputs": [],
   "source": [
    "df2"
   ]
  },
  {
   "cell_type": "code",
   "execution_count": null,
   "id": "437cfc08",
   "metadata": {
    "scrolled": true
   },
   "outputs": [],
   "source": [
    "options(repr.plot.width = 16, repr.plot.height = 4.5)\n",
    "ggplot(test) +\n",
    "  aes(x = annotation, fill = factor(pred)) +\n",
    "  geom_bar(position = \"fill\") + \n",
    "theme_classic() + \n",
    "ggtheme() +\n",
    "coord_flip() \n",
    "#scale_fill_manual(values = c(\"#d6ebd2ff\", \"lightskyblue1\", \"red2\"))\n",
    "#scale_fill_manual(values = c(\"grey\",\"#74bc68ff\", \"dodgerblue3\", \"red2\"))"
   ]
  },
  {
   "cell_type": "markdown",
   "id": "db984a18",
   "metadata": {},
   "source": [
    "### Annotation of CD4 All"
   ]
  },
  {
   "cell_type": "code",
   "execution_count": null,
   "id": "1d349f43",
   "metadata": {},
   "outputs": [],
   "source": [
    "### Annotate the dataset with Wherry dataset\n",
    "        pred.singler2 <- SingleR(test = cd4_full_matrix, ref = ref_wherry_new$matrix,\n",
    "        labels = ref_wherry_new$labels, de.method=\"wilcox\", fine.tune = F, num.threads = 4)\n"
   ]
  },
  {
   "cell_type": "code",
   "execution_count": null,
   "id": "635a8daf",
   "metadata": {
    "scrolled": true
   },
   "outputs": [],
   "source": [
    "pred.singler2$scores"
   ]
  },
  {
   "cell_type": "code",
   "execution_count": null,
   "id": "43356ac5",
   "metadata": {},
   "outputs": [],
   "source": [
    "mtx  <- pred.singler2$scores\n",
    "rownames(mtx)  <- colnames(cd4_l1_full_filt$RNA)"
   ]
  },
  {
   "cell_type": "code",
   "execution_count": null,
   "id": "6c3b938d",
   "metadata": {
    "scrolled": true
   },
   "outputs": [],
   "source": [
    "mtx"
   ]
  },
  {
   "cell_type": "code",
   "execution_count": null,
   "id": "791814d6",
   "metadata": {},
   "outputs": [],
   "source": [
    "cd4_l1_full_filt$singler  <- pred.singler2$labels"
   ]
  },
  {
   "cell_type": "code",
   "execution_count": null,
   "id": "ffa5ee57",
   "metadata": {},
   "outputs": [],
   "source": [
    "options(repr.plot.width = 6, repr.plot.height = 4.5)\n",
    "DimPlot(cd4_l1_full_filt, group.by = \"singler\", shuffle = T)"
   ]
  },
  {
   "cell_type": "code",
   "execution_count": null,
   "id": "5e6bc86c",
   "metadata": {},
   "outputs": [],
   "source": [
    "test  <- data.frame(annotation = cd4_l1_full_filt$annotations_l2,\n",
    "                    pred = cd4_l1_full_filt$singler, \n",
    "                    score_cd4_BulkNaive = mtx[,\"CD4_BulkNaive\"],\n",
    "                    score_cd8_Naive = mtx[,\"CD8_Naive\"],\n",
    "                    score_cd8_CM = mtx[,\"CD8_CM\"],\n",
    "                    score_cd8_SCM_R3neg = mtx[,\"CD8_SCM-R3-\"],\n",
    "                    score_cd8_SCM_R3pos = mtx[,\"CD8_SCM-R3+\"]\n",
    "                     )"
   ]
  },
  {
   "cell_type": "code",
   "execution_count": null,
   "id": "1f4763d2",
   "metadata": {},
   "outputs": [],
   "source": [
    "test"
   ]
  },
  {
   "cell_type": "code",
   "execution_count": null,
   "id": "a1a0ae3a",
   "metadata": {},
   "outputs": [],
   "source": [
    "df2 <- test %>% group_by(annotation, pred) %>% \n",
    "  summarise(n = n()) %>%\n",
    "  mutate(freq = n / sum(n))"
   ]
  },
  {
   "cell_type": "code",
   "execution_count": null,
   "id": "f576f082",
   "metadata": {
    "scrolled": true
   },
   "outputs": [],
   "source": [
    "df2"
   ]
  },
  {
   "cell_type": "code",
   "execution_count": null,
   "id": "7f2cfcfd",
   "metadata": {
    "scrolled": true
   },
   "outputs": [],
   "source": [
    "options(repr.plot.width = 16, repr.plot.height = 4.5)\n",
    "ggplot(test) +\n",
    "  aes(x = annotation, fill = factor(pred)) +\n",
    "  geom_bar(position = \"fill\") + \n",
    "theme_classic() + \n",
    "ggtheme() +\n",
    "coord_flip() \n",
    "#scale_fill_manual(values = c(\"#d6ebd2ff\", \"lightskyblue1\", \"red2\"))\n",
    "#scale_fill_manual(values = c(\"grey\",\"#74bc68ff\", \"dodgerblue3\", \"red2\"))"
   ]
  },
  {
   "cell_type": "markdown",
   "id": "6fec1daa",
   "metadata": {},
   "source": [
    "### Coexpression - coexpressing vs non-coexpressing cells"
   ]
  },
  {
   "cell_type": "markdown",
   "id": "2fa18ddc",
   "metadata": {},
   "source": [
    "### CD4"
   ]
  },
  {
   "cell_type": "code",
   "execution_count": null,
   "id": "35b233f3",
   "metadata": {},
   "outputs": [],
   "source": [
    "seurat_object = cd4_naive\n",
    "genes = c(\"LEF1\", \"BACH2\", \"IL7R\", \"CXCR4\", \"ZFP36L2\", \"SELL\",\n",
    "                                    \"BTG1\",\"BTG2\",\"KLF2\",\"IL7R\",\"CCR7\")\n"
   ]
  },
  {
   "cell_type": "code",
   "execution_count": null,
   "id": "62925831",
   "metadata": {},
   "outputs": [],
   "source": [
    "rns = which(rownames(seurat_object@assays$RNA) %in% genes)\n",
    "df = seurat_object@assays$RNA@counts[rns,]  %>% t()  %>% as.data.frame()"
   ]
  },
  {
   "cell_type": "code",
   "execution_count": null,
   "id": "af11ac89",
   "metadata": {
    "scrolled": true
   },
   "outputs": [],
   "source": [
    "df"
   ]
  },
  {
   "cell_type": "code",
   "execution_count": null,
   "id": "aa3f0467",
   "metadata": {},
   "outputs": [],
   "source": [
    "binary  <- function(x){\n",
    "    x  <- if_else(x>0,1,0)\n",
    "    return(x)\n",
    "}"
   ]
  },
  {
   "cell_type": "code",
   "execution_count": null,
   "id": "445d3fbd",
   "metadata": {},
   "outputs": [],
   "source": [
    "df = df  %>% \n",
    "mutate_at(.vars = 1:9, .funs = binary)"
   ]
  },
  {
   "cell_type": "code",
   "execution_count": null,
   "id": "3061d799",
   "metadata": {
    "scrolled": true
   },
   "outputs": [],
   "source": [
    "df"
   ]
  },
  {
   "cell_type": "code",
   "execution_count": null,
   "id": "a4bf2e0a",
   "metadata": {},
   "outputs": [],
   "source": [
    "df$annot  <- seurat_object$annotations_manual\n"
   ]
  },
  {
   "cell_type": "code",
   "execution_count": null,
   "id": "2e05824d",
   "metadata": {},
   "outputs": [],
   "source": [
    "plt = ggplot(data = df, aes(x = grouping_var, y = expressing)) +\n",
    "geom_boxplot(outlier.shape = NA, aes(fill = grouping_var), alpha = 0.3) + \n",
    "  geom_dotplot(binaxis='y', stackdir='center', dotsize=0) + \n",
    "  geom_jitter(width = 0.1, height = 0.0, size = 2, aes(color = grouping_var)) +\n",
    "theme_classic() +\n",
    "    theme(plot.title = element_text(hjust = 0.5)) +\n",
    "    theme(axis.text.x = element_text(angle = 90, vjust = 0.5)) +\n",
    "ggtheme() +\n",
    "    ggtitle(gene) +\n",
    "    ylab(\"Pct expressing cells\") +\n",
    "xlab(\"\") + NoLegend()\n",
    "    return(plt)\n",
    "    }"
   ]
  },
  {
   "cell_type": "markdown",
   "id": "1f748f0f",
   "metadata": {},
   "source": [
    "## Which cell type is responsible for the skewed naive vs effector phenotype?"
   ]
  },
  {
   "cell_type": "code",
   "execution_count": null,
   "id": "8fb67cce",
   "metadata": {},
   "outputs": [],
   "source": [
    "paths_fc  <- list.files(\"../../240617_VN_Diabetes_V06/tables/fold_change/\", full.names = T)\n",
    "dataset_names  <- list.files(\"../../240617_VN_Diabetes_V06/tables/fold_change\", full.names = F)\n"
   ]
  },
  {
   "cell_type": "code",
   "execution_count": null,
   "id": "5ea105e5",
   "metadata": {},
   "outputs": [],
   "source": [
    "paths_fc"
   ]
  },
  {
   "cell_type": "code",
   "execution_count": null,
   "id": "73acb73c",
   "metadata": {},
   "outputs": [],
   "source": [
    "paths_fc  <- paths_fc[which(grepl(paths_fc, pattern = \"Ctrl\")|grepl(paths_fc, pattern = \"DiaT0_vs_DiaT1\"))]"
   ]
  },
  {
   "cell_type": "code",
   "execution_count": null,
   "id": "8ee69544",
   "metadata": {},
   "outputs": [],
   "source": [
    "dataset_names  <- dataset_names[which(grepl(dataset_names, pattern = \"Ctrl\")|grepl(dataset_names, pattern = \"DiaT0_vs_DiaT1\"))]"
   ]
  },
  {
   "cell_type": "code",
   "execution_count": null,
   "id": "18b8978a",
   "metadata": {
    "scrolled": false
   },
   "outputs": [],
   "source": [
    "dataset_names"
   ]
  },
  {
   "cell_type": "code",
   "execution_count": null,
   "id": "8b7ef5e9",
   "metadata": {
    "scrolled": true
   },
   "outputs": [],
   "source": [
    "paths_fc"
   ]
  },
  {
   "cell_type": "code",
   "execution_count": null,
   "id": "56ef9035",
   "metadata": {},
   "outputs": [],
   "source": [
    "fc.df  <- read_csv(paths_fc[1])  %>% as.data.frame()"
   ]
  },
  {
   "cell_type": "code",
   "execution_count": null,
   "id": "ba781ea2",
   "metadata": {
    "scrolled": true
   },
   "outputs": [],
   "source": [
    "fc.df %>%  arrange(desc(avg_log2FC)) %>% \n",
    "dplyr::filter(grepl(x = cluster, pattern = \"Dia\")) "
   ]
  },
  {
   "cell_type": "code",
   "execution_count": null,
   "id": "b099bd85",
   "metadata": {},
   "outputs": [],
   "source": [
    "fc.df %>%  arrange(desc(avg_log2FC)) %>% \n",
    "dplyr::filter(grepl(x = cluster, pattern = \"Dia\"))  %>% \n",
    "dplyr::filter(gene %in% c(\"LEF1\",\"BACH2\", \"NELL2\", \"TCF7\", \"KLF2\",\"CCR7\",\"SELL\",\n",
    "                          \"IFNG\",\"TBX21\",\"TNF\"))"
   ]
  },
  {
   "cell_type": "code",
   "execution_count": null,
   "id": "de91bb90",
   "metadata": {},
   "outputs": [],
   "source": [
    "ls()"
   ]
  },
  {
   "cell_type": "markdown",
   "id": "989334b1",
   "metadata": {},
   "source": [
    "# DEG Pseudobulk + DESeq2"
   ]
  },
  {
   "cell_type": "code",
   "execution_count": null,
   "id": "6fb73ab8",
   "metadata": {},
   "outputs": [],
   "source": [
    "cd4_l1_full_filt  <- readRDS(\"../../240218_VN_Diabetes_V05/data/processed/L1/cd4_l1_full_filt.rds\")\n",
    "cd8_l1_full_filt  <- readRDS(\"../../240218_VN_Diabetes_V05/data/processed/L1/cd8_l1_full_filt.rds\")"
   ]
  },
  {
   "cell_type": "code",
   "execution_count": null,
   "id": "d7abd68c",
   "metadata": {},
   "outputs": [],
   "source": []
  },
  {
   "cell_type": "markdown",
   "id": "854808df",
   "metadata": {},
   "source": [
    "For DEG analysis, we will only use samples from the final experiment. "
   ]
  },
  {
   "cell_type": "code",
   "execution_count": null,
   "id": "ea7a859b",
   "metadata": {},
   "outputs": [],
   "source": [
    "cd4_l1_full_filt_sub  <- subset(cd4_l1_full_filt, Experiment_ID %in% c(\"Exp16\",\"Exp18\",\"Exp19\",\"Exp20\"))"
   ]
  },
  {
   "cell_type": "code",
   "execution_count": null,
   "id": "966eb2e5",
   "metadata": {},
   "outputs": [],
   "source": [
    "cd8_l1_full_filt_sub  <- subset(cd8_l1_full_filt, Experiment_ID %in% c(\"Exp16\",\"Exp18\",\"Exp19\",\"Exp20\"))"
   ]
  },
  {
   "cell_type": "code",
   "execution_count": null,
   "id": "9f5791db",
   "metadata": {},
   "outputs": [],
   "source": [
    "cd4_l1_full_filt$annotations_l2  %>% table"
   ]
  },
  {
   "cell_type": "code",
   "execution_count": null,
   "id": "e252926e",
   "metadata": {},
   "outputs": [],
   "source": [
    "cd8_l1_full_filt$annotations_l2  %>% table"
   ]
  },
  {
   "cell_type": "code",
   "execution_count": null,
   "id": "093a0409",
   "metadata": {},
   "outputs": [],
   "source": [
    "cd8_l1_full_filt_sub$annotations_l2  %>% table"
   ]
  },
  {
   "cell_type": "markdown",
   "id": "7a0ade6d",
   "metadata": {},
   "source": [
    "To be consistent with the Wilcoxon Fold Change analysis, we will group together MAIT and Tgd cells. "
   ]
  },
  {
   "cell_type": "code",
   "execution_count": null,
   "id": "0b1b5a16",
   "metadata": {},
   "outputs": [],
   "source": [
    "cd8_l1_full_filt_sub$annotations_l2  <- ifelse(grepl(cd8_l1_full_filt_sub$annotations_l2, pattern = \"Unconventional\"),\n",
    "                                               \"CD8 Unc\",cd8_l1_full_filt_sub$annotations_l2)"
   ]
  },
  {
   "cell_type": "code",
   "execution_count": null,
   "id": "cf842aa8",
   "metadata": {},
   "outputs": [],
   "source": [
    "cd8_l1_full_filt_sub$annotations_l2  %>% table"
   ]
  },
  {
   "cell_type": "markdown",
   "id": "185fba64",
   "metadata": {},
   "source": [
    "The DEG will be performed on the RNA assay. We will perform pseudobulk aggregation based on sample and then use DESeq2 to calculate DEG and fold changes. "
   ]
  },
  {
   "cell_type": "markdown",
   "id": "902097c5",
   "metadata": {},
   "source": [
    "## CD8 T cells"
   ]
  },
  {
   "cell_type": "code",
   "execution_count": null,
   "id": "91f7105d",
   "metadata": {},
   "outputs": [],
   "source": [
    "genes  <- rownames(cd8_l1_full_filt_sub@assays$RNA)"
   ]
  },
  {
   "cell_type": "code",
   "execution_count": null,
   "id": "7fc3e9db",
   "metadata": {},
   "outputs": [],
   "source": [
    "genes_filt  <- genes[!(grepl(genes, pattern = \"^MT\")|\n",
    "                            grepl(genes, pattern = \"\\\\.\")|\n",
    "                            grepl(genes, pattern = \"LINC\")|\n",
    "                            grepl(genes, pattern = \"^MIR\")|\n",
    "                            grepl(genes, pattern = \"^MT\")|\n",
    "                            grepl(genes, pattern = \"HNRNP\")|\n",
    "                            grepl(genes, pattern = \"^RP[LS]\")|\n",
    "                            grepl(genes, pattern = \"\\\\-\")|\n",
    "                            grepl(genes, pattern = \"TTTY\")|\n",
    "                            grepl(genes, pattern = \"ORF\")|\n",
    "                            grepl(genes, pattern = \"orf\"))\n",
    "                            ]"
   ]
  },
  {
   "cell_type": "code",
   "execution_count": null,
   "id": "0c2b7ff8",
   "metadata": {},
   "outputs": [],
   "source": [
    "aggexp_cd8  <- AggregateExpression(cd8_l1_full_filt_sub, group.by = c(\"Sample_ID\"), \n",
    "                                  features = genes_filt, return.seurat = T, assay = \"RNA\")"
   ]
  },
  {
   "cell_type": "markdown",
   "id": "53b96bf2",
   "metadata": {},
   "source": [
    "### Metadata consolidation"
   ]
  },
  {
   "cell_type": "markdown",
   "id": "badf7358",
   "metadata": {},
   "source": [
    "We need to add metadata with Partial response and ketoacidosis to the pseudobulked object. "
   ]
  },
  {
   "cell_type": "code",
   "execution_count": null,
   "id": "bc95af16",
   "metadata": {},
   "outputs": [],
   "source": [
    "md_for_remission  <- cd8_l1_full_filt_sub@meta.data  %>% \n",
    "dplyr::filter(Condition %in% c(\"Dia T0\"))  %>% \n",
    "group_by(Patient_ID, part_remission_y_n)  %>% \n",
    "tally %>% mutate(Condition2 = paste0(\"PR_\",part_remission_y_n))  %>% \n",
    "dplyr::select(-n, -part_remission_y_n)"
   ]
  },
  {
   "cell_type": "code",
   "execution_count": null,
   "id": "e9409bb9",
   "metadata": {
    "scrolled": true
   },
   "outputs": [],
   "source": [
    "md_for_remission"
   ]
  },
  {
   "cell_type": "code",
   "execution_count": null,
   "id": "94e121eb",
   "metadata": {},
   "outputs": [],
   "source": [
    "cd8_l1_full_filt_sub$Condition2  %>% table"
   ]
  },
  {
   "cell_type": "code",
   "execution_count": null,
   "id": "38911f5f",
   "metadata": {},
   "outputs": [],
   "source": [
    "cd8_l1_full_filt_sub$Condition2  <- NULL\n",
    "cd8_l1_full_filt_sub@meta.data  <- cd8_l1_full_filt_sub@meta.data  %>% \n",
    "left_join(md_for_remission)  %>% mutate(Condition2 = paste(Condition2, Time))  %>% \n",
    "mutate(Condition2 = ifelse(grepl(Condition2, pattern = \"NA\"), NA_character_,Condition2))\n",
    "    \n",
    "print(cd8_l1_full_filt_sub$Condition2  %>% table)\n",
    "rownames(cd8_l1_full_filt_sub@meta.data)  <- colnames(cd8_l1_full_filt_sub)"
   ]
  },
  {
   "cell_type": "code",
   "execution_count": null,
   "id": "e179f3c1",
   "metadata": {},
   "outputs": [],
   "source": [
    "md_for_ketoacidosis  <- cd8_l1_full_filt_sub@meta.data  %>% \n",
    "dplyr::filter(Condition %in% c(\"Dia T0\"))  %>% \n",
    "group_by(Patient_ID, ph_man)  %>% \n",
    "tally %>% mutate(Ketoacidosis = ifelse(ph_man<7.3,\"Keto_1\",\"Keto_0\"))  %>% \n",
    "dplyr::select(-ph_man, -n)"
   ]
  },
  {
   "cell_type": "code",
   "execution_count": null,
   "id": "4d7984fd",
   "metadata": {
    "scrolled": true
   },
   "outputs": [],
   "source": [
    "md_for_ketoacidosis"
   ]
  },
  {
   "cell_type": "code",
   "execution_count": null,
   "id": "0533fb85",
   "metadata": {},
   "outputs": [],
   "source": [
    " cd8_l1_full_filt_sub@meta.data  <- cd8_l1_full_filt_sub@meta.data  %>% \n",
    "    left_join(md_for_ketoacidosis)   %>% mutate(Keto_Time = paste(Ketoacidosis, Time))  %>% \n",
    "    mutate(Keto_Time = ifelse(grepl(Keto_Time, pattern = \"NA\"), NA_character_,Keto_Time))\n",
    "    \n",
    "    print(cd8_l1_full_filt_sub$Ketoacidosis  %>% table)\n",
    "    rownames(cd8_l1_full_filt_sub@meta.data)  <- colnames(cd8_l1_full_filt_sub)"
   ]
  },
  {
   "cell_type": "code",
   "execution_count": null,
   "id": "26dc3e16",
   "metadata": {},
   "outputs": [],
   "source": [
    "Conditions  <- list(c(\"Dia T0\", \"Ctrl T0\"),\n",
    "                    c(\"Dia T0\", \"Dia T1\"),\n",
    "                    c(\"Dia T1\", \"Ctrl T0\"),\n",
    "                    c(\"PR_0 T0\", \"PR_1 T0\"),\n",
    "                    c(\"PR_0 T1\", \"PR_1 T1\"),\n",
    "                    c(\"PR_0 T0\", \"PR_0 T1\"),\n",
    "                    c(\"PR_1 T0\", \"PR_1 T1\"),\n",
    "                    c(\"Keto_1 T0\", \"Keto_0 T0\"))"
   ]
  },
  {
   "cell_type": "code",
   "execution_count": null,
   "id": "e9ba26c5",
   "metadata": {},
   "outputs": [],
   "source": []
  },
  {
   "cell_type": "code",
   "execution_count": null,
   "id": "079ed2b1",
   "metadata": {},
   "outputs": [],
   "source": [
    "md_cd8  <- cd8_l1_full_filt_sub@meta.data  %>% \n",
    "group_by(Sample_ID, Condition, Condition2, Age, Sex, Ketoacidosis, Keto_Time)  %>% tally  %>% dplyr::select(-n)  %>% \n",
    "ungroup  %>% \n",
    "mutate(Sample_ID = as.factor(Sample_ID))"
   ]
  },
  {
   "cell_type": "code",
   "execution_count": null,
   "id": "20091ac2",
   "metadata": {
    "scrolled": true
   },
   "outputs": [],
   "source": [
    "md_cd8$Sample_ID  <- paste0(\"g\",md_cd8$Sample_ID)"
   ]
  },
  {
   "cell_type": "code",
   "execution_count": null,
   "id": "3b6139cf",
   "metadata": {},
   "outputs": [],
   "source": [
    "\n",
    "md_cd8  <- left_join(aggexp_cd8@meta.data, md_cd8)\n",
    "rownames(md_cd8)  <- colnames(aggexp_cd8)"
   ]
  },
  {
   "cell_type": "markdown",
   "id": "2d3315ed",
   "metadata": {},
   "source": [
    "### CD8 L1 dataset"
   ]
  },
  {
   "cell_type": "code",
   "execution_count": null,
   "id": "c9835a5f",
   "metadata": {},
   "outputs": [],
   "source": []
  },
  {
   "cell_type": "code",
   "execution_count": null,
   "id": "93602d22",
   "metadata": {},
   "outputs": [],
   "source": [
    "aggexp_cd8@meta.data  <- md_cd8"
   ]
  },
  {
   "cell_type": "code",
   "execution_count": null,
   "id": "00a80755",
   "metadata": {},
   "outputs": [],
   "source": [
    "# Function to calculate markers for a subsetted da for given conditions\n",
    "\n",
    "Create_Markers_DataFrame  <- function(j){\n",
    "     print(\"#######################\")\n",
    "    print(j)\n",
    "    \n",
    "    Condition_1 = Conditions[[j]][1]\n",
    "    Condition_2 = Conditions[[j]][2]\n",
    "    \n",
    "    seurat_obj  <- aggexp_cd8\n",
    "        \n",
    "    if(grepl(Condition_1, pattern = \"PR\")){\n",
    "      seurat_obj$Condition  <- seurat_obj$Condition2\n",
    "    }\n",
    "    \n",
    "    if(grepl(Condition_1, pattern = \"Keto\")){\n",
    "      seurat_obj$Condition  <- seurat_obj$Keto_Time\n",
    "    }\n",
    "    \n",
    "    ## Create subsetted df\n",
    "        ds  <- subset(seurat_obj, Condition %in% c(Condition_1, Condition_2) )\n",
    "        print(ds$Condition  %>% table)\n",
    "    \n",
    "    ## scRNAseq - RNA\n",
    "    DefaultAssay(ds)  <- \"RNA\"\n",
    "        Idents(ds)  <- ds$Condition\n",
    "        markers_sc  <- FindAllMarkers(ds, only.pos = T, test.use = \"DESeq2\", return.thresh = 1)\n",
    "        markers_sc$source  <- \"scRNAseq_RNA\"\n",
    "        rownames(markers_sc)  <- NULL\n",
    "    print(paste(\"DE RNA: \", nrow(markers_sc)))\n",
    "    \n",
    "    markers_sc2  <- data.frame()\n",
    "    \n",
    "   if(nrow(markers_sc2)>0 & nrow(markers_sc)>0){ \n",
    "            markers2 <- rbind(markers_sc, markers_sc2) } else {\n",
    "        if(nrow(markers_sc)>0){\n",
    "            markers2  <- markers_sc\n",
    "            } else {\n",
    "            if(nrow(markers_sc2)>0){\n",
    "                markers2  <- markers_sc2\n",
    "            \n",
    "            } else {\n",
    "                markers2  <- NULL\n",
    "                }\n",
    "        }\n",
    "        }\n",
    "    \n",
    "        markers2$test_type  <- paste(Conditions[[j]][1], \"vs\", Conditions[[j]][2])\n",
    "        print(\"..\")\n",
    "        markers2$dataset  <- \"cd8_l1_full_filt\"\n",
    "        return(markers2)\n",
    "}\n"
   ]
  },
  {
   "cell_type": "code",
   "execution_count": null,
   "id": "c93fcf50",
   "metadata": {},
   "outputs": [],
   "source": [
    "mrk  <- map(.x = 1:8, Create_Markers_DataFrame)\n",
    "\n",
    "mrk  <- bind_rows(mrk) "
   ]
  },
  {
   "cell_type": "code",
   "execution_count": null,
   "id": "5daca6d9",
   "metadata": {},
   "outputs": [],
   "source": [
    "mrk  %>% dplyr::filter(p_val_adj<0.05)"
   ]
  },
  {
   "cell_type": "code",
   "execution_count": null,
   "id": "0cd96eea",
   "metadata": {},
   "outputs": [],
   "source": [
    "all_markers  <- mrk"
   ]
  },
  {
   "cell_type": "markdown",
   "id": "a1e17b1d",
   "metadata": {},
   "source": [
    "### CD8 L2 datasets"
   ]
  },
  {
   "cell_type": "code",
   "execution_count": null,
   "id": "a8f28d82",
   "metadata": {},
   "outputs": [],
   "source": [
    "l2_datasets  <- levels(factor(cd8_l1_full_filt_sub$annotations_l2))"
   ]
  },
  {
   "cell_type": "code",
   "execution_count": null,
   "id": "b839d8db",
   "metadata": {},
   "outputs": [],
   "source": [
    "l2_datasets"
   ]
  },
  {
   "cell_type": "code",
   "execution_count": null,
   "id": "b1f4d40f",
   "metadata": {},
   "outputs": [],
   "source": []
  },
  {
   "cell_type": "code",
   "execution_count": null,
   "id": "59b25746",
   "metadata": {},
   "outputs": [],
   "source": [
    "aggexp_cd8  <- AggregateExpression(cd8_l1_full_filt_sub, group.by = c(\"Sample_ID\", \"annotations_l2\"), \n",
    "                                  features = genes_filt, return.seurat = T, assay = \"RNA\")"
   ]
  },
  {
   "cell_type": "code",
   "execution_count": null,
   "id": "2f062549",
   "metadata": {},
   "outputs": [],
   "source": [
    "aggexp_cd8$Sample_ID  %>% table"
   ]
  },
  {
   "cell_type": "code",
   "execution_count": null,
   "id": "61bd0f4c",
   "metadata": {},
   "outputs": [],
   "source": [
    "md_cd8  <- cd8_l1_full_filt_sub@meta.data  %>% \n",
    "group_by(Sample_ID, Condition, Condition2, Age, Sex, Ketoacidosis, Keto_Time)  %>% tally  %>% dplyr::select(-n)  %>% \n",
    "ungroup  %>% \n",
    "mutate(Sample_ID = as.factor(Sample_ID))"
   ]
  },
  {
   "cell_type": "code",
   "execution_count": null,
   "id": "ac5ed0b3",
   "metadata": {
    "scrolled": true
   },
   "outputs": [],
   "source": [
    "md_cd8$Sample_ID  <- paste0(\"g\",md_cd8$Sample_ID)"
   ]
  },
  {
   "cell_type": "code",
   "execution_count": null,
   "id": "be1d4d69",
   "metadata": {},
   "outputs": [],
   "source": [
    "md_cd8  <- left_join(aggexp_cd8@meta.data, md_cd8)\n",
    "rownames(md_cd8)  <- colnames(aggexp_cd8)"
   ]
  },
  {
   "cell_type": "code",
   "execution_count": null,
   "id": "edf71f62",
   "metadata": {},
   "outputs": [],
   "source": [
    "aggexp_cd8@meta.data  <- md_cd8"
   ]
  },
  {
   "cell_type": "code",
   "execution_count": null,
   "id": "81d2cd8f",
   "metadata": {},
   "outputs": [],
   "source": [
    "aggexp_cd8@meta.data"
   ]
  },
  {
   "cell_type": "code",
   "execution_count": null,
   "id": "77cfa296",
   "metadata": {},
   "outputs": [],
   "source": [
    "# Function to calculate markers for a subsetted da for given conditions\n",
    "\n",
    "Create_Markers_DataFrame  <- function(j){\n",
    "     print(\"#######################\")\n",
    "    print(j)\n",
    "    \n",
    "    Condition_1 = Conditions[[j]][1]\n",
    "    Condition_2 = Conditions[[j]][2]\n",
    "    \n",
    "    seurat_obj  <- subset(aggexp_cd8, annotations_l2 == levels(factor((aggexp_cd8$annotations_l2)))[i])\n",
    "        \n",
    "    if(grepl(Condition_1, pattern = \"PR\")){\n",
    "      seurat_obj$Condition  <- seurat_obj$Condition2\n",
    "    }\n",
    "    \n",
    "    if(grepl(Condition_1, pattern = \"Keto\")){\n",
    "      seurat_obj$Condition  <- seurat_obj$Keto_Time\n",
    "    }\n",
    "    \n",
    "    ## Create subsetted df\n",
    "        ds  <- subset(seurat_obj, Condition %in% c(Condition_1, Condition_2) )\n",
    "        print(ds$Condition  %>% table)\n",
    "    \n",
    "    ## scRNAseq - RNA\n",
    "    DefaultAssay(ds)  <- \"RNA\"\n",
    "        Idents(ds)  <- ds$Condition\n",
    "        markers_sc  <- FindAllMarkers(ds, only.pos = T, test.use = \"DESeq2\", return.thresh = 1)\n",
    "        markers_sc$source  <- \"scRNAseq_RNA\"\n",
    "        rownames(markers_sc)  <- NULL\n",
    "    print(paste(\"DE RNA: \", nrow(markers_sc)))\n",
    "    \n",
    "    markers_sc2  <- data.frame()\n",
    "    \n",
    "   if(nrow(markers_sc2)>0 & nrow(markers_sc)>0){ \n",
    "            markers2 <- rbind(markers_sc, markers_sc2) } else {\n",
    "        if(nrow(markers_sc)>0){\n",
    "            markers2  <- markers_sc\n",
    "            } else {\n",
    "            if(nrow(markers_sc2)>0){\n",
    "                markers2  <- markers_sc2\n",
    "            \n",
    "            } else {\n",
    "                markers2  <- NULL\n",
    "                }\n",
    "        }\n",
    "        }\n",
    "    \n",
    "        markers2$test_type  <- paste(Conditions[[j]][1], \"vs\", Conditions[[j]][2])\n",
    "        print(\"..\")\n",
    "        markers2$dataset  <- levels(factor((aggexp_cd8$annotations_l2)))[i]\n",
    "        return(markers2)\n",
    "}\n"
   ]
  },
  {
   "cell_type": "code",
   "execution_count": null,
   "id": "16035f9a",
   "metadata": {
    "scrolled": true
   },
   "outputs": [],
   "source": [
    "for(i in 1:length(levels(factor((aggexp_cd8$annotations_l2))))){\n",
    "\n",
    "print(\"######################################################################\")\n",
    "if(i > 1){\n",
    "suppressWarnings(rm(markers_sc, markers, markers1, markers_sc2, markers_sc_predia, markers_bulk, markers_bulk2))    \n",
    "}\n",
    "    \n",
    "mrk  <- map(.x = 1:8, Create_Markers_DataFrame)\n",
    "\n",
    "mrk  <- bind_rows(mrk) \n",
    "    \n",
    "all_markers  <- rbind(all_markers, mrk)\n",
    "\n",
    "    \n",
    "}"
   ]
  },
  {
   "cell_type": "code",
   "execution_count": null,
   "id": "5664a75f",
   "metadata": {
    "scrolled": true
   },
   "outputs": [],
   "source": [
    "all_markers  %>% dplyr::filter(p_val_adj<0.05)"
   ]
  },
  {
   "cell_type": "code",
   "execution_count": null,
   "id": "b24f61e4",
   "metadata": {
    "scrolled": true
   },
   "outputs": [],
   "source": [
    "all_markers"
   ]
  },
  {
   "cell_type": "code",
   "execution_count": null,
   "id": "7b9575a7",
   "metadata": {},
   "outputs": [],
   "source": [
    "all_markers_cd8   <- all_markers"
   ]
  },
  {
   "cell_type": "code",
   "execution_count": null,
   "id": "31d8926c",
   "metadata": {},
   "outputs": [],
   "source": [
    "ls()"
   ]
  },
  {
   "cell_type": "code",
   "execution_count": null,
   "id": "64ddab98",
   "metadata": {},
   "outputs": [],
   "source": []
  },
  {
   "cell_type": "markdown",
   "id": "23d791b8",
   "metadata": {},
   "source": [
    "## CD4 T cells"
   ]
  },
  {
   "cell_type": "code",
   "execution_count": null,
   "id": "48b00202",
   "metadata": {},
   "outputs": [],
   "source": [
    "genes  <- rownames(cd4_l1_full_filt_sub@assays$RNA)"
   ]
  },
  {
   "cell_type": "code",
   "execution_count": null,
   "id": "bd3cbd47",
   "metadata": {},
   "outputs": [],
   "source": [
    "genes_filt  <- genes[!(grepl(genes, pattern = \"^MT\")|\n",
    "                            grepl(genes, pattern = \"\\\\.\")|\n",
    "                            grepl(genes, pattern = \"LINC\")|\n",
    "                            grepl(genes, pattern = \"^MIR\")|\n",
    "                            grepl(genes, pattern = \"^MT\")|\n",
    "                            grepl(genes, pattern = \"HNRNP\")|\n",
    "                            grepl(genes, pattern = \"^RP[LS]\")|\n",
    "                            grepl(genes, pattern = \"\\\\-\")|\n",
    "                            grepl(genes, pattern = \"TTTY\")|\n",
    "                            grepl(genes, pattern = \"ORF\")|\n",
    "                            grepl(genes, pattern = \"orf\"))\n",
    "                            ]"
   ]
  },
  {
   "cell_type": "code",
   "execution_count": null,
   "id": "333b270b",
   "metadata": {},
   "outputs": [],
   "source": [
    "aggexp_cd4  <- AggregateExpression(cd4_l1_full_filt_sub, group.by = c(\"Sample_ID\"), \n",
    "                                  features = genes_filt, return.seurat = T, assay = \"RNA\")"
   ]
  },
  {
   "cell_type": "markdown",
   "id": "96f71f0e",
   "metadata": {},
   "source": [
    "### Metadata consolidation"
   ]
  },
  {
   "cell_type": "markdown",
   "id": "05f2efaf",
   "metadata": {},
   "source": [
    "We need to add metadata with Partial response and ketoacidosis to the pseudobulked object. "
   ]
  },
  {
   "cell_type": "code",
   "execution_count": null,
   "id": "0fc1b984",
   "metadata": {},
   "outputs": [],
   "source": [
    "md_for_remission  <- cd4_l1_full_filt_sub@meta.data  %>% \n",
    "dplyr::filter(Condition %in% c(\"Dia T0\"))  %>% \n",
    "group_by(Patient_ID, part_remission_y_n)  %>% \n",
    "tally %>% mutate(Condition2 = paste0(\"PR_\",part_remission_y_n))  %>% \n",
    "dplyr::select(-n, -part_remission_y_n)"
   ]
  },
  {
   "cell_type": "code",
   "execution_count": null,
   "id": "ce812703",
   "metadata": {
    "scrolled": true
   },
   "outputs": [],
   "source": [
    "md_for_remission"
   ]
  },
  {
   "cell_type": "code",
   "execution_count": null,
   "id": "d8f8d875",
   "metadata": {},
   "outputs": [],
   "source": [
    "cd4_l1_full_filt_sub$Condition2  %>% table"
   ]
  },
  {
   "cell_type": "code",
   "execution_count": null,
   "id": "8ef4e8ab",
   "metadata": {},
   "outputs": [],
   "source": [
    "cd4_l1_full_filt_sub$Condition2  <- NULL\n",
    "cd4_l1_full_filt_sub@meta.data  <- cd4_l1_full_filt_sub@meta.data  %>% \n",
    "left_join(md_for_remission)  %>% mutate(Condition2 = paste(Condition2, Time))  %>% \n",
    "mutate(Condition2 = ifelse(grepl(Condition2, pattern = \"NA\"), NA_character_,Condition2))\n",
    "    \n",
    "print(cd4_l1_full_filt_sub$Condition2  %>% table)\n",
    "rownames(cd4_l1_full_filt_sub@meta.data)  <- colnames(cd4_l1_full_filt_sub)"
   ]
  },
  {
   "cell_type": "code",
   "execution_count": null,
   "id": "5682ebb9",
   "metadata": {},
   "outputs": [],
   "source": [
    "md_for_ketoacidosis  <- cd4_l1_full_filt_sub@meta.data  %>% \n",
    "dplyr::filter(Condition %in% c(\"Dia T0\"))  %>% \n",
    "group_by(Patient_ID, ph_man)  %>% \n",
    "tally %>% mutate(Ketoacidosis = ifelse(ph_man<7.3,\"Keto_1\",\"Keto_0\"))  %>% \n",
    "dplyr::select(-ph_man, -n)"
   ]
  },
  {
   "cell_type": "code",
   "execution_count": null,
   "id": "433affcb",
   "metadata": {
    "scrolled": true
   },
   "outputs": [],
   "source": [
    "md_for_ketoacidosis"
   ]
  },
  {
   "cell_type": "code",
   "execution_count": null,
   "id": "9ef59fa1",
   "metadata": {},
   "outputs": [],
   "source": [
    " cd4_l1_full_filt_sub@meta.data  <- cd4_l1_full_filt_sub@meta.data  %>% \n",
    "    left_join(md_for_ketoacidosis)   %>% mutate(Keto_Time = paste(Ketoacidosis, Time))  %>% \n",
    "    mutate(Keto_Time = ifelse(grepl(Keto_Time, pattern = \"NA\"), NA_character_,Keto_Time))\n",
    "    \n",
    "    print(cd4_l1_full_filt_sub$Ketoacidosis  %>% table)\n",
    "    rownames(cd4_l1_full_filt_sub@meta.data)  <- colnames(cd4_l1_full_filt_sub)"
   ]
  },
  {
   "cell_type": "code",
   "execution_count": null,
   "id": "391d04e4",
   "metadata": {},
   "outputs": [],
   "source": [
    "Conditions  <- list(c(\"Dia T0\", \"Ctrl T0\"),\n",
    "                    c(\"Dia T0\", \"Dia T1\"),\n",
    "                    c(\"Dia T1\", \"Ctrl T0\"),\n",
    "                    c(\"PR_0 T0\", \"PR_1 T0\"),\n",
    "                    c(\"PR_0 T1\", \"PR_1 T1\"),\n",
    "                    c(\"PR_0 T0\", \"PR_0 T1\"),\n",
    "                    c(\"PR_1 T0\", \"PR_1 T1\"),\n",
    "                    c(\"Keto_1 T0\", \"Keto_0 T0\"))"
   ]
  },
  {
   "cell_type": "code",
   "execution_count": null,
   "id": "59f58e69",
   "metadata": {},
   "outputs": [],
   "source": []
  },
  {
   "cell_type": "code",
   "execution_count": null,
   "id": "c4e35c7d",
   "metadata": {},
   "outputs": [],
   "source": [
    "md_cd4  <- cd4_l1_full_filt_sub@meta.data  %>% \n",
    "group_by(Sample_ID, Condition, Condition2, Age, Sex, Ketoacidosis, Keto_Time)  %>% tally  %>% dplyr::select(-n)  %>% \n",
    "ungroup  %>% \n",
    "mutate(Sample_ID = as.factor(Sample_ID))"
   ]
  },
  {
   "cell_type": "code",
   "execution_count": null,
   "id": "6d4fae6c",
   "metadata": {
    "scrolled": true
   },
   "outputs": [],
   "source": [
    "md_cd4$Sample_ID  <- paste0(\"g\",md_cd4$Sample_ID)"
   ]
  },
  {
   "cell_type": "code",
   "execution_count": null,
   "id": "8737d19d",
   "metadata": {},
   "outputs": [],
   "source": [
    "\n",
    "md_cd4  <- left_join(aggexp_cd4@meta.data, md_cd4)\n",
    "rownames(md_cd4)  <- colnames(aggexp_cd4)"
   ]
  },
  {
   "cell_type": "markdown",
   "id": "7a15095e",
   "metadata": {},
   "source": [
    "### CD4 L1 dataset"
   ]
  },
  {
   "cell_type": "code",
   "execution_count": null,
   "id": "67255b61",
   "metadata": {},
   "outputs": [],
   "source": [
    "aggexp_cd4@meta.data  <- md_cd4"
   ]
  },
  {
   "cell_type": "code",
   "execution_count": null,
   "id": "11f96b24",
   "metadata": {},
   "outputs": [],
   "source": []
  },
  {
   "cell_type": "code",
   "execution_count": null,
   "id": "00d21c32",
   "metadata": {},
   "outputs": [],
   "source": [
    "# Function to calculate markers for a subsetted da for given conditions\n",
    "\n",
    "Create_Markers_DataFrame  <- function(j){\n",
    "     print(\"#######################\")\n",
    "    print(j)\n",
    "    \n",
    "    Condition_1 = Conditions[[j]][1]\n",
    "    Condition_2 = Conditions[[j]][2]\n",
    "    \n",
    "    seurat_obj  <- aggexp_cd4\n",
    "        \n",
    "    if(grepl(Condition_1, pattern = \"PR\")){\n",
    "      seurat_obj$Condition  <- seurat_obj$Condition2\n",
    "    }\n",
    "    \n",
    "    if(grepl(Condition_1, pattern = \"Keto\")){\n",
    "      seurat_obj$Condition  <- seurat_obj$Keto_Time\n",
    "    }\n",
    "    \n",
    "    ## Create subsetted df\n",
    "        ds  <- subset(seurat_obj, Condition %in% c(Condition_1, Condition_2) )\n",
    "        print(ds$Condition  %>% table)\n",
    "    \n",
    "    ## scRNAseq - RNA\n",
    "    DefaultAssay(ds)  <- \"RNA\"\n",
    "        Idents(ds)  <- ds$Condition\n",
    "        markers_sc  <- FindAllMarkers(ds, only.pos = T, test.use = \"DESeq2\", return.thresh = 1)\n",
    "        markers_sc$source  <- \"scRNAseq_RNA\"\n",
    "        rownames(markers_sc)  <- NULL\n",
    "    print(paste(\"DE RNA: \", nrow(markers_sc)))\n",
    "    \n",
    "    markers_sc2  <- data.frame()\n",
    "    \n",
    "   if(nrow(markers_sc2)>0 & nrow(markers_sc)>0){ \n",
    "            markers2 <- rbind(markers_sc, markers_sc2) } else {\n",
    "        if(nrow(markers_sc)>0){\n",
    "            markers2  <- markers_sc\n",
    "            } else {\n",
    "            if(nrow(markers_sc2)>0){\n",
    "                markers2  <- markers_sc2\n",
    "            \n",
    "            } else {\n",
    "                markers2  <- NULL\n",
    "                }\n",
    "        }\n",
    "        }\n",
    "    \n",
    "        markers2$test_type  <- paste(Conditions[[j]][1], \"vs\", Conditions[[j]][2])\n",
    "        print(\"..\")\n",
    "        markers2$dataset  <- \"cd4_l1_full_filt\"\n",
    "        return(markers2)\n",
    "}\n"
   ]
  },
  {
   "cell_type": "code",
   "execution_count": null,
   "id": "6695734b",
   "metadata": {},
   "outputs": [],
   "source": [
    "mrk  <- map(.x = 1:8, Create_Markers_DataFrame)\n",
    "\n",
    "mrk  <- bind_rows(mrk) "
   ]
  },
  {
   "cell_type": "code",
   "execution_count": null,
   "id": "2b8db33c",
   "metadata": {},
   "outputs": [],
   "source": [
    "mrk  %>% dplyr::filter(p_val_adj<0.05)"
   ]
  },
  {
   "cell_type": "code",
   "execution_count": null,
   "id": "8b6af71a",
   "metadata": {},
   "outputs": [],
   "source": [
    "all_markers  <- mrk"
   ]
  },
  {
   "cell_type": "markdown",
   "id": "6dc6addf",
   "metadata": {},
   "source": [
    "### CD4 L2 datasets"
   ]
  },
  {
   "cell_type": "code",
   "execution_count": null,
   "id": "cee9d958",
   "metadata": {},
   "outputs": [],
   "source": [
    "l2_datasets  <- levels(factor(cd4_l1_full_filt_sub$annotations_l2))"
   ]
  },
  {
   "cell_type": "code",
   "execution_count": null,
   "id": "1d58d2ce",
   "metadata": {},
   "outputs": [],
   "source": [
    "l2_datasets"
   ]
  },
  {
   "cell_type": "code",
   "execution_count": null,
   "id": "52bc2b05",
   "metadata": {},
   "outputs": [],
   "source": [
    "aggexp_cd4  <- AggregateExpression(cd4_l1_full_filt_sub, group.by = c(\"Sample_ID\", \"annotations_l2\"), \n",
    "                                  features = genes_filt, return.seurat = T, assay = \"RNA\")"
   ]
  },
  {
   "cell_type": "code",
   "execution_count": null,
   "id": "052c1bb9",
   "metadata": {},
   "outputs": [],
   "source": [
    "aggexp_cd4$Sample_ID  %>% table"
   ]
  },
  {
   "cell_type": "code",
   "execution_count": null,
   "id": "2ffbc9a2",
   "metadata": {},
   "outputs": [],
   "source": [
    "md_cd4  <- cd4_l1_full_filt_sub@meta.data  %>% \n",
    "group_by(Sample_ID, Condition, Condition2, Age, Sex, Ketoacidosis, Keto_Time)  %>% tally  %>% dplyr::select(-n)  %>% \n",
    "ungroup  %>% \n",
    "mutate(Sample_ID = as.factor(Sample_ID))"
   ]
  },
  {
   "cell_type": "code",
   "execution_count": null,
   "id": "2f36c915",
   "metadata": {
    "scrolled": true
   },
   "outputs": [],
   "source": [
    "md_cd4$Sample_ID  <- paste0(\"g\",md_cd4$Sample_ID)"
   ]
  },
  {
   "cell_type": "code",
   "execution_count": null,
   "id": "11211bf5",
   "metadata": {},
   "outputs": [],
   "source": [
    "md_cd4  <- left_join(aggexp_cd4@meta.data, md_cd4)\n",
    "rownames(md_cd4)  <- colnames(aggexp_cd4)"
   ]
  },
  {
   "cell_type": "code",
   "execution_count": null,
   "id": "0d69e071",
   "metadata": {},
   "outputs": [],
   "source": [
    "aggexp_cd4@meta.data  <- md_cd4"
   ]
  },
  {
   "cell_type": "code",
   "execution_count": null,
   "id": "063c7c58",
   "metadata": {},
   "outputs": [],
   "source": [
    "aggexp_cd4@meta.data"
   ]
  },
  {
   "cell_type": "code",
   "execution_count": null,
   "id": "27d78e0b",
   "metadata": {},
   "outputs": [],
   "source": [
    "# Function to calculate markers for a subsetted da for given conditions\n",
    "\n",
    "Create_Markers_DataFrame  <- function(j){\n",
    "     print(\"#######################\")\n",
    "    print(j)\n",
    "    \n",
    "    Condition_1 = Conditions[[j]][1]\n",
    "    Condition_2 = Conditions[[j]][2]\n",
    "    \n",
    "    seurat_obj  <- subset(aggexp_cd4, annotations_l2 == levels(factor((aggexp_cd4$annotations_l2)))[i])\n",
    "        \n",
    "    if(grepl(Condition_1, pattern = \"PR\")){\n",
    "      seurat_obj$Condition  <- seurat_obj$Condition2\n",
    "    }\n",
    "    \n",
    "    if(grepl(Condition_1, pattern = \"Keto\")){\n",
    "      seurat_obj$Condition  <- seurat_obj$Keto_Time\n",
    "    }\n",
    "    \n",
    "    ## Create subsetted df\n",
    "        ds  <- subset(seurat_obj, Condition %in% c(Condition_1, Condition_2) )\n",
    "        print(ds$Condition  %>% table)\n",
    "    \n",
    "    ## scRNAseq - RNA\n",
    "    DefaultAssay(ds)  <- \"RNA\"\n",
    "        Idents(ds)  <- ds$Condition\n",
    "        markers_sc  <- FindAllMarkers(ds, only.pos = T, test.use = \"DESeq2\", return.thresh = 1)\n",
    "        markers_sc$source  <- \"scRNAseq_RNA\"\n",
    "        rownames(markers_sc)  <- NULL\n",
    "    print(paste(\"DE RNA: \", nrow(markers_sc)))\n",
    "    \n",
    "    markers_sc2  <- data.frame()\n",
    "    \n",
    "   if(nrow(markers_sc2)>0 & nrow(markers_sc)>0){ \n",
    "            markers2 <- rbind(markers_sc, markers_sc2) } else {\n",
    "        if(nrow(markers_sc)>0){\n",
    "            markers2  <- markers_sc\n",
    "            } else {\n",
    "            if(nrow(markers_sc2)>0){\n",
    "                markers2  <- markers_sc2\n",
    "            \n",
    "            } else {\n",
    "                markers2  <- NULL\n",
    "                }\n",
    "        }\n",
    "        }\n",
    "    \n",
    "        markers2$test_type  <- paste(Conditions[[j]][1], \"vs\", Conditions[[j]][2])\n",
    "        print(\"..\")\n",
    "        markers2$dataset  <- levels(factor((aggexp_cd4$annotations_l2)))[i]\n",
    "        return(markers2)\n",
    "}\n"
   ]
  },
  {
   "cell_type": "code",
   "execution_count": null,
   "id": "9b27074c",
   "metadata": {
    "scrolled": true
   },
   "outputs": [],
   "source": [
    "for(i in 1:length(levels(factor((aggexp_cd4$annotations_l2))))){\n",
    "\n",
    "print(\"######################################################################\")\n",
    "if(i > 1){\n",
    "suppressWarnings(rm(markers_sc, markers, markers1, markers_sc2, markers_sc_predia, markers_bulk, markers_bulk2))    \n",
    "}\n",
    "    \n",
    "mrk  <- map(.x = 1:8, Create_Markers_DataFrame)\n",
    "\n",
    "mrk  <- bind_rows(mrk) \n",
    "    \n",
    "all_markers  <- rbind(all_markers, mrk)\n",
    "\n",
    "    \n",
    "}"
   ]
  },
  {
   "cell_type": "code",
   "execution_count": null,
   "id": "5cfecfee",
   "metadata": {},
   "outputs": [],
   "source": [
    "all_markers_cd4  <- all_markers"
   ]
  },
  {
   "cell_type": "code",
   "execution_count": null,
   "id": "6e5390db",
   "metadata": {
    "scrolled": true
   },
   "outputs": [],
   "source": [
    "all_markers_cd4  %>% dplyr::filter(p_val_adj<0.05)"
   ]
  },
  {
   "cell_type": "code",
   "execution_count": null,
   "id": "b27e1510",
   "metadata": {},
   "outputs": [],
   "source": [
    "mrk  %>% dplyr::filter(p_val_adj<0.05)"
   ]
  },
  {
   "cell_type": "markdown",
   "id": "c16a0f90",
   "metadata": {},
   "source": [
    "# DESeq FoldChanges"
   ]
  },
  {
   "cell_type": "markdown",
   "id": "ff9610ad",
   "metadata": {},
   "source": [
    "## CD8"
   ]
  },
  {
   "cell_type": "code",
   "execution_count": null,
   "id": "5e86291b",
   "metadata": {},
   "outputs": [],
   "source": [
    "genes  <- rownames(cd8_l1_full_filt_sub@assays$RNA)"
   ]
  },
  {
   "cell_type": "code",
   "execution_count": null,
   "id": "361b687a",
   "metadata": {},
   "outputs": [],
   "source": [
    "genes_filt  <- genes[!(grepl(genes, pattern = \"^MT\")|\n",
    "                            grepl(genes, pattern = \"\\\\.\")|\n",
    "                            grepl(genes, pattern = \"LINC\")|\n",
    "                            grepl(genes, pattern = \"^MIR\")|\n",
    "                            grepl(genes, pattern = \"^MT\")|\n",
    "                            grepl(genes, pattern = \"HNRNP\")|\n",
    "                            grepl(genes, pattern = \"^IG[KLH]\")|\n",
    "                            grepl(genes, pattern = \"^RP[LS]\")|\n",
    "                            grepl(genes, pattern = \"\\\\-\")|\n",
    "                            grepl(genes, pattern = \"TTTY\")|\n",
    "                            grepl(genes, pattern = \"ORF\")|\n",
    "                            grepl(genes, pattern = \"orf\"))\n",
    "                            ]"
   ]
  },
  {
   "cell_type": "code",
   "execution_count": null,
   "id": "f0bba6db",
   "metadata": {},
   "outputs": [],
   "source": [
    "aggexp_cd8  <- AggregateExpression(cd8_l1_full_filt_sub, group.by = c(\"Sample_ID\"), \n",
    "                                  features = genes_filt, return.seurat = T, assay = \"RNA\")"
   ]
  },
  {
   "cell_type": "code",
   "execution_count": null,
   "id": "c4b44750",
   "metadata": {},
   "outputs": [],
   "source": [
    "md_cd8  <- cd8_l1_full_filt_sub@meta.data  %>% \n",
    "group_by(Sample_ID, Condition, Condition2, Age, Sex, Ketoacidosis, Keto_Time)  %>% tally  %>% dplyr::select(-n)  %>% \n",
    "ungroup  %>% \n",
    "mutate(Sample_ID = as.factor(Sample_ID))\n",
    "\n",
    "md_cd8$Sample_ID  <- paste0(\"g\",md_cd8$Sample_ID)\n",
    "\n",
    "\n",
    "md_cd8  <- left_join(aggexp_cd8@meta.data, md_cd8)\n",
    "rownames(md_cd8)  <- colnames(aggexp_cd8)"
   ]
  },
  {
   "cell_type": "code",
   "execution_count": null,
   "id": "f4b336cf",
   "metadata": {},
   "outputs": [],
   "source": [
    "aggexp_cd8@meta.data  <- md_cd8"
   ]
  },
  {
   "cell_type": "code",
   "execution_count": null,
   "id": "92df5040",
   "metadata": {},
   "outputs": [],
   "source": [
    "# Function to calculate markers for a subsetted da for given conditions\n",
    "\n",
    "Create_Markers_DataFrame  <- function(j){\n",
    "     print(\"#######################\")\n",
    "    print(j)\n",
    "    \n",
    "    Condition_1 = Conditions[[j]][1]\n",
    "    Condition_2 = Conditions[[j]][2]\n",
    "    \n",
    "    seurat_obj  <- aggexp_cd8\n",
    "        \n",
    "    if(grepl(Condition_1, pattern = \"PR\")){\n",
    "      seurat_obj$Condition  <- seurat_obj$Condition2\n",
    "    }\n",
    "    \n",
    "    if(grepl(Condition_1, pattern = \"Keto\")){\n",
    "      seurat_obj$Condition  <- seurat_obj$Keto_Time\n",
    "    }\n",
    "    \n",
    "    ## Create subsetted df\n",
    "        ds  <- subset(seurat_obj, Condition %in% c(Condition_1, Condition_2) )\n",
    "        print(ds$Condition  %>% table)\n",
    "    \n",
    "    ## scRNAseq - RNA\n",
    "    DefaultAssay(ds)  <- \"RNA\"\n",
    "        Idents(ds)  <- ds$Condition\n",
    "        markers_sc  <- FoldChange(ds, `ident.1` = Condition_1, `ident.2` = Condition_2, test.use = \"DESeq2\")\n",
    "    markers_sc$gene  <- rownames(markers_sc)\n",
    "        markers_sc$source  <- \"scRNAseq_RNA\"\n",
    "        rownames(markers_sc)  <- NULL\n",
    "    #print(paste(\"DE RNA: \", nrow(markers_sc)))\n",
    "    \n",
    "    markers_sc2  <- data.frame()\n",
    "    \n",
    "   if(nrow(markers_sc2)>0 & nrow(markers_sc)>0){ \n",
    "            markers2 <- rbind(markers_sc, markers_sc2) } else {\n",
    "        if(nrow(markers_sc)>0){\n",
    "            markers2  <- markers_sc\n",
    "            } else {\n",
    "            if(nrow(markers_sc2)>0){\n",
    "                markers2  <- markers_sc2\n",
    "            \n",
    "            } else {\n",
    "                markers2  <- NULL\n",
    "                }\n",
    "        }\n",
    "        }\n",
    "    \n",
    "        markers2$test_type  <- paste(Conditions[[j]][1], \"vs\", Conditions[[j]][2])\n",
    "        print(\"..\")\n",
    "        markers2$dataset  <- \"cd8_l1_full_filt\"\n",
    "        return(markers2)\n",
    "}\n"
   ]
  },
  {
   "cell_type": "code",
   "execution_count": null,
   "id": "388d5bc1",
   "metadata": {
    "scrolled": true
   },
   "outputs": [],
   "source": [
    "mrk  <- map(.x = 1:8, Create_Markers_DataFrame)\n",
    "\n",
    "mrk  <- bind_rows(mrk) "
   ]
  },
  {
   "cell_type": "code",
   "execution_count": null,
   "id": "75ca231d",
   "metadata": {
    "scrolled": true
   },
   "outputs": [],
   "source": [
    "mrk  %>% arrange(avg_log2FC)"
   ]
  },
  {
   "cell_type": "code",
   "execution_count": null,
   "id": "f12d462c",
   "metadata": {},
   "outputs": [],
   "source": [
    "all_fcs_cd8  <- mrk"
   ]
  },
  {
   "cell_type": "code",
   "execution_count": null,
   "id": "b252ed06",
   "metadata": {},
   "outputs": [],
   "source": [
    "### CD8 L2 datasets"
   ]
  },
  {
   "cell_type": "code",
   "execution_count": null,
   "id": "6eaa748e",
   "metadata": {},
   "outputs": [],
   "source": [
    "l2_datasets  <- levels(factor(cd8_l1_full_filt_sub$annotations_l2))"
   ]
  },
  {
   "cell_type": "code",
   "execution_count": null,
   "id": "6aa22ddd",
   "metadata": {},
   "outputs": [],
   "source": [
    "l2_datasets"
   ]
  },
  {
   "cell_type": "code",
   "execution_count": null,
   "id": "b42581c7",
   "metadata": {},
   "outputs": [],
   "source": [
    "aggexp_cd8  <- AggregateExpression(cd8_l1_full_filt_sub, group.by = c(\"Sample_ID\", \"annotations_l2\"), \n",
    "                                  features = genes_filt, return.seurat = T, assay = \"RNA\")"
   ]
  },
  {
   "cell_type": "code",
   "execution_count": null,
   "id": "932944dc",
   "metadata": {},
   "outputs": [],
   "source": [
    "md_cd8  <- cd8_l1_full_filt_sub@meta.data  %>% \n",
    "group_by(Sample_ID, Condition, Condition2, Age, Sex, Ketoacidosis, Keto_Time)  %>% tally  %>% dplyr::select(-n)  %>% \n",
    "ungroup  %>% \n",
    "mutate(Sample_ID = as.factor(Sample_ID))"
   ]
  },
  {
   "cell_type": "code",
   "execution_count": null,
   "id": "08210b13",
   "metadata": {
    "scrolled": true
   },
   "outputs": [],
   "source": [
    "md_cd8$Sample_ID  <- paste0(\"g\",md_cd8$Sample_ID)"
   ]
  },
  {
   "cell_type": "code",
   "execution_count": null,
   "id": "3b7f915d",
   "metadata": {},
   "outputs": [],
   "source": [
    "md_cd8  <- left_join(aggexp_cd8@meta.data, md_cd8)\n",
    "rownames(md_cd8)  <- colnames(aggexp_cd8)"
   ]
  },
  {
   "cell_type": "code",
   "execution_count": null,
   "id": "00f42b5a",
   "metadata": {},
   "outputs": [],
   "source": [
    "aggexp_cd8@meta.data  <- md_cd8"
   ]
  },
  {
   "cell_type": "code",
   "execution_count": null,
   "id": "6b182da1",
   "metadata": {},
   "outputs": [],
   "source": [
    "aggexp_cd8@meta.data"
   ]
  },
  {
   "cell_type": "code",
   "execution_count": null,
   "id": "d6b25611",
   "metadata": {},
   "outputs": [],
   "source": [
    "# Function to calculate markers for a subsetted da for given conditions\n",
    "\n",
    "Create_Markers_DataFrame  <- function(j){\n",
    "     print(\"#######################\")\n",
    "    print(j)\n",
    "    \n",
    "    Condition_1 = Conditions[[j]][1]\n",
    "    Condition_2 = Conditions[[j]][2]\n",
    "    \n",
    "    seurat_obj  <- subset(aggexp_cd8, annotations_l2 == levels(factor((aggexp_cd8$annotations_l2)))[i])\n",
    "        \n",
    "    if(grepl(Condition_1, pattern = \"PR\")){\n",
    "      seurat_obj$Condition  <- seurat_obj$Condition2\n",
    "    }\n",
    "    \n",
    "    if(grepl(Condition_1, pattern = \"Keto\")){\n",
    "      seurat_obj$Condition  <- seurat_obj$Keto_Time\n",
    "    }\n",
    "    \n",
    "    ## Create subsetted df\n",
    "        ds  <- subset(seurat_obj, Condition %in% c(Condition_1, Condition_2) )\n",
    "        print(ds$Condition  %>% table)\n",
    "    \n",
    "     ## scRNAseq - RNA\n",
    "    DefaultAssay(ds)  <- \"RNA\"\n",
    "        Idents(ds)  <- ds$Condition\n",
    "        markers_sc  <- FoldChange(ds, `ident.1` = Condition_1, `ident.2` = Condition_2, test.use = \"DESeq2\")\n",
    "    markers_sc$gene  <- rownames(markers_sc)\n",
    "        markers_sc$source  <- \"scRNAseq_RNA\"\n",
    "        rownames(markers_sc)  <- NULL\n",
    "    #print(paste(\"DE RNA: \", nrow(markers_sc)))\n",
    "    \n",
    "    markers_sc2  <- data.frame()\n",
    "    \n",
    "   if(nrow(markers_sc2)>0 & nrow(markers_sc)>0){ \n",
    "            markers2 <- rbind(markers_sc, markers_sc2) } else {\n",
    "        if(nrow(markers_sc)>0){\n",
    "            markers2  <- markers_sc\n",
    "            } else {\n",
    "            if(nrow(markers_sc2)>0){\n",
    "                markers2  <- markers_sc2\n",
    "            \n",
    "            } else {\n",
    "                markers2  <- NULL\n",
    "                }\n",
    "        }\n",
    "        }\n",
    "    \n",
    "        markers2$test_type  <- paste(Conditions[[j]][1], \"vs\", Conditions[[j]][2])\n",
    "        print(\"..\")\n",
    "        markers2$dataset  <- levels(factor((aggexp_cd8$annotations_l2)))[i]\n",
    "        return(markers2)\n",
    "}\n"
   ]
  },
  {
   "cell_type": "code",
   "execution_count": null,
   "id": "42191f20",
   "metadata": {
    "scrolled": true
   },
   "outputs": [],
   "source": [
    "for(i in 1:length(levels(factor((aggexp_cd8$annotations_l2))))){\n",
    "\n",
    "print(\"######################################################################\")\n",
    "if(i > 1){\n",
    "suppressWarnings(rm(markers_sc, markers, markers1, markers_sc2, markers_sc_predia, markers_bulk, markers_bulk2))    \n",
    "}\n",
    "    \n",
    "mrk  <- map(.x = 1:8, Create_Markers_DataFrame)\n",
    "\n",
    "mrk  <- bind_rows(mrk) \n",
    "    \n",
    "all_fcs_cd8  <- rbind(all_fcs_cd8, mrk)\n",
    "\n",
    "    \n",
    "}"
   ]
  },
  {
   "cell_type": "code",
   "execution_count": null,
   "id": "a2d54a3c",
   "metadata": {
    "scrolled": true
   },
   "outputs": [],
   "source": [
    "all_fcs_cd8  %>% arrange(avg_log2FC)"
   ]
  },
  {
   "cell_type": "markdown",
   "id": "68c7aaa2",
   "metadata": {},
   "source": [
    "## CD4"
   ]
  },
  {
   "cell_type": "code",
   "execution_count": null,
   "id": "fb6abe33",
   "metadata": {},
   "outputs": [],
   "source": [
    "genes  <- rownames(cd4_l1_full_filt_sub@assays$RNA)"
   ]
  },
  {
   "cell_type": "code",
   "execution_count": null,
   "id": "d752abd2",
   "metadata": {},
   "outputs": [],
   "source": [
    "genes_filt  <- genes[!(grepl(genes, pattern = \"^MT\")|\n",
    "                            grepl(genes, pattern = \"\\\\.\")|\n",
    "                            grepl(genes, pattern = \"LINC\")|\n",
    "                            grepl(genes, pattern = \"^MIR\")|\n",
    "                            grepl(genes, pattern = \"^MT\")|\n",
    "                            grepl(genes, pattern = \"HNRNP\")|\n",
    "                            grepl(genes, pattern = \"^IG[KLH]\")|\n",
    "                            grepl(genes, pattern = \"^RP[LS]\")|\n",
    "                            grepl(genes, pattern = \"\\\\-\")|\n",
    "                            grepl(genes, pattern = \"TTTY\")|\n",
    "                            grepl(genes, pattern = \"ORF\")|\n",
    "                            grepl(genes, pattern = \"orf\"))\n",
    "                            ]"
   ]
  },
  {
   "cell_type": "code",
   "execution_count": null,
   "id": "c1ea3d64",
   "metadata": {},
   "outputs": [],
   "source": [
    "aggexp_cd4  <- AggregateExpression(cd4_l1_full_filt_sub, group.by = c(\"Sample_ID\"), \n",
    "                                  features = genes_filt, return.seurat = T, assay = \"RNA\")"
   ]
  },
  {
   "cell_type": "code",
   "execution_count": null,
   "id": "a6940139",
   "metadata": {},
   "outputs": [],
   "source": [
    "md_cd4  <- cd4_l1_full_filt_sub@meta.data  %>% \n",
    "group_by(Sample_ID, Condition, Condition2, Age, Sex, Ketoacidosis, Keto_Time)  %>% tally  %>% dplyr::select(-n)  %>% \n",
    "ungroup  %>% \n",
    "mutate(Sample_ID = as.factor(Sample_ID))\n",
    "\n",
    "md_cd4$Sample_ID  <- paste0(\"g\",md_cd4$Sample_ID)\n",
    "\n",
    "\n",
    "md_cd4  <- left_join(aggexp_cd4@meta.data, md_cd4)\n",
    "rownames(md_cd4)  <- colnames(aggexp_cd4)"
   ]
  },
  {
   "cell_type": "code",
   "execution_count": null,
   "id": "2543564e",
   "metadata": {},
   "outputs": [],
   "source": [
    "aggexp_cd4@meta.data  <- md_cd4"
   ]
  },
  {
   "cell_type": "code",
   "execution_count": null,
   "id": "b307ed80",
   "metadata": {},
   "outputs": [],
   "source": [
    "# Function to calculate markers for a subsetted da for given conditions\n",
    "\n",
    "Create_Markers_DataFrame  <- function(j){\n",
    "     print(\"#######################\")\n",
    "    print(j)\n",
    "    \n",
    "    Condition_1 = Conditions[[j]][1]\n",
    "    Condition_2 = Conditions[[j]][2]\n",
    "    \n",
    "    seurat_obj  <- aggexp_cd4\n",
    "        \n",
    "    if(grepl(Condition_1, pattern = \"PR\")){\n",
    "      seurat_obj$Condition  <- seurat_obj$Condition2\n",
    "    }\n",
    "    \n",
    "    if(grepl(Condition_1, pattern = \"Keto\")){\n",
    "      seurat_obj$Condition  <- seurat_obj$Keto_Time\n",
    "    }\n",
    "    \n",
    "    ## Create subsetted df\n",
    "        ds  <- subset(seurat_obj, Condition %in% c(Condition_1, Condition_2) )\n",
    "        print(ds$Condition  %>% table)\n",
    "    \n",
    "    ## scRNAseq - RNA\n",
    "    DefaultAssay(ds)  <- \"RNA\"\n",
    "        Idents(ds)  <- ds$Condition\n",
    "        markers_sc  <- FoldChange(ds, `ident.1` = Condition_1, `ident.2` = Condition_2, test.use = \"DESeq2\")\n",
    "    markers_sc$gene  <- rownames(markers_sc)\n",
    "        markers_sc$source  <- \"scRNAseq_RNA\"\n",
    "        rownames(markers_sc)  <- NULL\n",
    "    #print(paste(\"DE RNA: \", nrow(markers_sc)))\n",
    "    \n",
    "    markers_sc2  <- data.frame()\n",
    "    \n",
    "   if(nrow(markers_sc2)>0 & nrow(markers_sc)>0){ \n",
    "            markers2 <- rbind(markers_sc, markers_sc2) } else {\n",
    "        if(nrow(markers_sc)>0){\n",
    "            markers2  <- markers_sc\n",
    "            } else {\n",
    "            if(nrow(markers_sc2)>0){\n",
    "                markers2  <- markers_sc2\n",
    "            \n",
    "            } else {\n",
    "                markers2  <- NULL\n",
    "                }\n",
    "        }\n",
    "        }\n",
    "    \n",
    "        markers2$test_type  <- paste(Conditions[[j]][1], \"vs\", Conditions[[j]][2])\n",
    "        print(\"..\")\n",
    "        markers2$dataset  <- \"cd4_l1_full_filt\"\n",
    "        return(markers2)\n",
    "}\n"
   ]
  },
  {
   "cell_type": "code",
   "execution_count": null,
   "id": "d39a0c05",
   "metadata": {
    "scrolled": true
   },
   "outputs": [],
   "source": [
    "mrk  <- map(.x = 1:8, Create_Markers_DataFrame)\n",
    "\n",
    "mrk  <- bind_rows(mrk) "
   ]
  },
  {
   "cell_type": "code",
   "execution_count": null,
   "id": "851868a2",
   "metadata": {
    "scrolled": true
   },
   "outputs": [],
   "source": [
    "mrk  %>% arrange(avg_log2FC)"
   ]
  },
  {
   "cell_type": "code",
   "execution_count": null,
   "id": "5fff8005",
   "metadata": {},
   "outputs": [],
   "source": [
    "all_fcs_cd4  <- mrk"
   ]
  },
  {
   "cell_type": "code",
   "execution_count": null,
   "id": "2702870c",
   "metadata": {},
   "outputs": [],
   "source": [
    "### cd4 L2 datasets"
   ]
  },
  {
   "cell_type": "code",
   "execution_count": null,
   "id": "f206824b",
   "metadata": {},
   "outputs": [],
   "source": [
    "l2_datasets  <- levels(factor(cd4_l1_full_filt_sub$annotations_l2))"
   ]
  },
  {
   "cell_type": "code",
   "execution_count": null,
   "id": "31abb86c",
   "metadata": {},
   "outputs": [],
   "source": [
    "l2_datasets"
   ]
  },
  {
   "cell_type": "code",
   "execution_count": null,
   "id": "92285047",
   "metadata": {},
   "outputs": [],
   "source": [
    "aggexp_cd4  <- AggregateExpression(cd4_l1_full_filt_sub, group.by = c(\"Sample_ID\", \"annotations_l2\"), \n",
    "                                  features = genes_filt, return.seurat = T, assay = \"RNA\")"
   ]
  },
  {
   "cell_type": "code",
   "execution_count": null,
   "id": "68e5204f",
   "metadata": {},
   "outputs": [],
   "source": [
    "md_cd4  <- cd4_l1_full_filt_sub@meta.data  %>% \n",
    "group_by(Sample_ID, Condition, Condition2, Age, Sex, Ketoacidosis, Keto_Time)  %>% tally  %>% dplyr::select(-n)  %>% \n",
    "ungroup  %>% \n",
    "mutate(Sample_ID = as.factor(Sample_ID))"
   ]
  },
  {
   "cell_type": "code",
   "execution_count": null,
   "id": "7406ae2c",
   "metadata": {
    "scrolled": true
   },
   "outputs": [],
   "source": [
    "md_cd4$Sample_ID  <- paste0(\"g\",md_cd4$Sample_ID)"
   ]
  },
  {
   "cell_type": "code",
   "execution_count": null,
   "id": "b90a4da2",
   "metadata": {},
   "outputs": [],
   "source": [
    "md_cd4  <- left_join(aggexp_cd4@meta.data, md_cd4)\n",
    "rownames(md_cd4)  <- colnames(aggexp_cd4)"
   ]
  },
  {
   "cell_type": "code",
   "execution_count": null,
   "id": "1e9f004b",
   "metadata": {},
   "outputs": [],
   "source": [
    "aggexp_cd4@meta.data  <- md_cd4"
   ]
  },
  {
   "cell_type": "code",
   "execution_count": null,
   "id": "4c39a183",
   "metadata": {},
   "outputs": [],
   "source": [
    "aggexp_cd4@meta.data"
   ]
  },
  {
   "cell_type": "code",
   "execution_count": null,
   "id": "397fa8cc",
   "metadata": {},
   "outputs": [],
   "source": [
    "# Function to calculate markers for a subsetted da for given conditions\n",
    "\n",
    "Create_Markers_DataFrame  <- function(j){\n",
    "     print(\"#######################\")\n",
    "    print(j)\n",
    "    \n",
    "    Condition_1 = Conditions[[j]][1]\n",
    "    Condition_2 = Conditions[[j]][2]\n",
    "    \n",
    "    seurat_obj  <- subset(aggexp_cd4, annotations_l2 == levels(factor((aggexp_cd4$annotations_l2)))[i])\n",
    "        \n",
    "    if(grepl(Condition_1, pattern = \"PR\")){\n",
    "      seurat_obj$Condition  <- seurat_obj$Condition2\n",
    "    }\n",
    "    \n",
    "    if(grepl(Condition_1, pattern = \"Keto\")){\n",
    "      seurat_obj$Condition  <- seurat_obj$Keto_Time\n",
    "    }\n",
    "    \n",
    "    ## Create subsetted df\n",
    "        ds  <- subset(seurat_obj, Condition %in% c(Condition_1, Condition_2) )\n",
    "        print(ds$Condition  %>% table)\n",
    "    \n",
    "     ## scRNAseq - RNA\n",
    "    DefaultAssay(ds)  <- \"RNA\"\n",
    "        Idents(ds)  <- ds$Condition\n",
    "        markers_sc  <- FoldChange(ds, `ident.1` = Condition_1, `ident.2` = Condition_2, test.use = \"DESeq2\")\n",
    "    markers_sc$gene  <- rownames(markers_sc)\n",
    "        markers_sc$source  <- \"scRNAseq_RNA\"\n",
    "        rownames(markers_sc)  <- NULL\n",
    "    #print(paste(\"DE RNA: \", nrow(markers_sc)))\n",
    "    \n",
    "    markers_sc2  <- data.frame()\n",
    "    \n",
    "   if(nrow(markers_sc2)>0 & nrow(markers_sc)>0){ \n",
    "            markers2 <- rbind(markers_sc, markers_sc2) } else {\n",
    "        if(nrow(markers_sc)>0){\n",
    "            markers2  <- markers_sc\n",
    "            } else {\n",
    "            if(nrow(markers_sc2)>0){\n",
    "                markers2  <- markers_sc2\n",
    "            \n",
    "            } else {\n",
    "                markers2  <- NULL\n",
    "                }\n",
    "        }\n",
    "        }\n",
    "    \n",
    "        markers2$test_type  <- paste(Conditions[[j]][1], \"vs\", Conditions[[j]][2])\n",
    "        print(\"..\")\n",
    "        markers2$dataset  <- levels(factor((aggexp_cd4$annotations_l2)))[i]\n",
    "        return(markers2)\n",
    "}\n"
   ]
  },
  {
   "cell_type": "code",
   "execution_count": null,
   "id": "0d32141c",
   "metadata": {
    "scrolled": true
   },
   "outputs": [],
   "source": [
    "for(i in 1:length(levels(factor((aggexp_cd4$annotations_l2))))){\n",
    "\n",
    "print(\"######################################################################\")\n",
    "if(i > 1){\n",
    "suppressWarnings(rm(markers_sc, markers, markers1, markers_sc2, markers_sc_predia, markers_bulk, markers_bulk2))    \n",
    "}\n",
    "    \n",
    "mrk  <- map(.x = 1:8, Create_Markers_DataFrame)\n",
    "\n",
    "mrk  <- bind_rows(mrk) \n",
    "    \n",
    "all_fcs_cd4  <- rbind(all_fcs_cd4, mrk)\n",
    "\n",
    "    \n",
    "}"
   ]
  },
  {
   "cell_type": "code",
   "execution_count": null,
   "id": "4fad534f",
   "metadata": {
    "scrolled": true
   },
   "outputs": [],
   "source": [
    "all_fcs_cd4  %>% arrange(avg_log2FC)"
   ]
  },
  {
   "cell_type": "code",
   "execution_count": null,
   "id": "e27c3573",
   "metadata": {},
   "outputs": [],
   "source": []
  },
  {
   "cell_type": "markdown",
   "id": "001b688e",
   "metadata": {},
   "source": [
    "## CD8 T cells"
   ]
  },
  {
   "cell_type": "code",
   "execution_count": null,
   "id": "d7263fba",
   "metadata": {},
   "outputs": [],
   "source": [
    "genes  <- rownames(cd8_l1_full_filt_sub@assays$RNA)"
   ]
  },
  {
   "cell_type": "code",
   "execution_count": null,
   "id": "11069534",
   "metadata": {},
   "outputs": [],
   "source": [
    "genes_filt  <- genes[!(grepl(genes, pattern = \"^MT\")|\n",
    "                            grepl(genes, pattern = \"\\\\.\")|\n",
    "                            grepl(genes, pattern = \"LINC\")|\n",
    "                            grepl(genes, pattern = \"^MIR\")|\n",
    "                            grepl(genes, pattern = \"^MT\")|\n",
    "                            grepl(genes, pattern = \"HNRNP\")|\n",
    "                            grepl(genes, pattern = \"^RP[LS]\")|\n",
    "                            grepl(genes, pattern = \"\\\\-\")|\n",
    "                            grepl(genes, pattern = \"TTTY\")|\n",
    "                            grepl(genes, pattern = \"ORF\")|\n",
    "                            grepl(genes, pattern = \"orf\"))\n",
    "                            ]"
   ]
  },
  {
   "cell_type": "code",
   "execution_count": null,
   "id": "3f27089d",
   "metadata": {},
   "outputs": [],
   "source": [
    "aggexp_cd8  <- AggregateExpression(cd8_l1_full_filt_sub, group.by = c(\"Sample_ID\"), \n",
    "                                  features = genes_filt, return.seurat = T, assay = \"RNA\")"
   ]
  },
  {
   "cell_type": "markdown",
   "id": "07ff9cb2",
   "metadata": {},
   "source": [
    "### Metadata consolidation"
   ]
  },
  {
   "cell_type": "markdown",
   "id": "efb3e3ec",
   "metadata": {},
   "source": [
    "We need to add metadata with Partial response and ketoacidosis to the pseudobulked object. "
   ]
  },
  {
   "cell_type": "code",
   "execution_count": null,
   "id": "17fd5e23",
   "metadata": {},
   "outputs": [],
   "source": [
    "md_for_remission  <- cd8_l1_full_filt_sub@meta.data  %>% \n",
    "dplyr::filter(Condition %in% c(\"Dia T0\"))  %>% \n",
    "group_by(Patient_ID, part_remission_y_n)  %>% \n",
    "tally %>% mutate(Condition2 = paste0(\"PR_\",part_remission_y_n))  %>% \n",
    "dplyr::select(-n, -part_remission_y_n)"
   ]
  },
  {
   "cell_type": "code",
   "execution_count": null,
   "id": "565b17d2",
   "metadata": {
    "scrolled": true
   },
   "outputs": [],
   "source": [
    "md_for_remission"
   ]
  },
  {
   "cell_type": "code",
   "execution_count": null,
   "id": "5a201ea7",
   "metadata": {},
   "outputs": [],
   "source": [
    "cd8_l1_full_filt_sub$Condition2  %>% table"
   ]
  },
  {
   "cell_type": "code",
   "execution_count": null,
   "id": "3e4a965b",
   "metadata": {},
   "outputs": [],
   "source": [
    "cd8_l1_full_filt_sub@meta.data"
   ]
  },
  {
   "cell_type": "code",
   "execution_count": null,
   "id": "6c5c8d5f",
   "metadata": {},
   "outputs": [],
   "source": [
    " colnames(cd8_l1_full_filt_sub)"
   ]
  },
  {
   "cell_type": "code",
   "execution_count": null,
   "id": "7aaf7704",
   "metadata": {},
   "outputs": [],
   "source": [
    "cd8_l1_full_filt_sub$Condition2  <- NULL\n",
    "cd8_l1_full_filt_sub@meta.data  <- cd8_l1_full_filt_sub@meta.data  %>% \n",
    "left_join(md_for_remission)  %>% mutate(Condition2 = paste(Condition2, Time))  %>% \n",
    "mutate(Condition2 = ifelse(grepl(Condition2, pattern = \"NA\"), NA_character_,Condition2))\n",
    "    "
   ]
  },
  {
   "cell_type": "code",
   "execution_count": null,
   "id": "415fc95b",
   "metadata": {},
   "outputs": [],
   "source": [
    "md_for_ketoacidosis  <- cd8_l1_full_filt_sub@meta.data  %>% \n",
    "dplyr::filter(Condition %in% c(\"Dia T0\"))  %>% \n",
    "group_by(Patient_ID, ph_man)  %>% \n",
    "tally %>% mutate(Ketoacidosis = ifelse(ph_man<7.3,\"Keto_1\",\"Keto_0\"))  %>% \n",
    "dplyr::select(-ph_man, -n)"
   ]
  },
  {
   "cell_type": "code",
   "execution_count": null,
   "id": "b087b5fe",
   "metadata": {
    "scrolled": true
   },
   "outputs": [],
   "source": [
    "md_for_ketoacidosis"
   ]
  },
  {
   "cell_type": "code",
   "execution_count": null,
   "id": "23947c6e",
   "metadata": {},
   "outputs": [],
   "source": [
    " cd8_l1_full_filt_sub@meta.data  <- cd8_l1_full_filt_sub@meta.data  %>% \n",
    "    left_join(md_for_ketoacidosis)   %>% mutate(Keto_Time = paste(Ketoacidosis, Time))  %>% \n",
    "    mutate(Keto_Time = ifelse(grepl(Keto_Time, pattern = \"NA\"), NA_character_,Keto_Time))\n",
    "    \n",
    "    print(cd8_l1_full_filt_sub$Ketoacidosis  %>% table)\n"
   ]
  },
  {
   "cell_type": "code",
   "execution_count": null,
   "id": "09b696c1",
   "metadata": {},
   "outputs": [],
   "source": [
    "Conditions  <- list(c(\"Dia T0\", \"Ctrl T0\"),\n",
    "                    c(\"Dia T0\", \"Dia T1\"),\n",
    "                    c(\"Dia T1\", \"Ctrl T0\"),\n",
    "                    c(\"PR_0 T0\", \"PR_1 T0\"),\n",
    "                    c(\"PR_0 T1\", \"PR_1 T1\"),\n",
    "                    c(\"PR_0 T0\", \"PR_0 T1\"),\n",
    "                    c(\"PR_1 T0\", \"PR_1 T1\"),\n",
    "                    c(\"Keto_1 T0\", \"Keto_0 T0\"))"
   ]
  },
  {
   "cell_type": "code",
   "execution_count": null,
   "id": "bcaf40c0",
   "metadata": {},
   "outputs": [],
   "source": []
  },
  {
   "cell_type": "code",
   "execution_count": null,
   "id": "26379668",
   "metadata": {},
   "outputs": [],
   "source": [
    "md_cd8  <- cd8_l1_full_filt_sub@meta.data  %>% \n",
    "group_by(Sample_ID, Condition, Condition2, Age, Sex, Ketoacidosis, Keto_Time)  %>% tally  %>% dplyr::select(-n)  %>% \n",
    "ungroup  %>% \n",
    "mutate(Sample_ID = as.factor(Sample_ID))"
   ]
  },
  {
   "cell_type": "code",
   "execution_count": null,
   "id": "692abe80",
   "metadata": {
    "scrolled": true
   },
   "outputs": [],
   "source": [
    "md_cd8$Sample_ID  <- paste0(\"g\",md_cd8$Sample_ID)"
   ]
  },
  {
   "cell_type": "code",
   "execution_count": null,
   "id": "40bae9ce",
   "metadata": {},
   "outputs": [],
   "source": [
    "\n",
    "md_cd8  <- left_join(aggexp_cd8@meta.data, md_cd8)\n",
    "rownames(md_cd8)  <- colnames(aggexp_cd8)"
   ]
  },
  {
   "cell_type": "markdown",
   "id": "2a0bd6ff",
   "metadata": {},
   "source": [
    "### CD8 L1 dataset"
   ]
  },
  {
   "cell_type": "code",
   "execution_count": null,
   "id": "49d53e03",
   "metadata": {},
   "outputs": [],
   "source": []
  },
  {
   "cell_type": "code",
   "execution_count": null,
   "id": "9aabc0fb",
   "metadata": {},
   "outputs": [],
   "source": [
    "aggexp_cd8@meta.data  <- md_cd8"
   ]
  },
  {
   "cell_type": "code",
   "execution_count": null,
   "id": "8b2ef313",
   "metadata": {},
   "outputs": [],
   "source": [
    "# Function to calculate markers for a subsetted da for given conditions\n",
    "\n",
    "Create_Markers_DataFrame  <- function(j){\n",
    "     print(\"#######################\")\n",
    "    print(j)\n",
    "    \n",
    "    Condition_1 = Conditions[[j]][1]\n",
    "    Condition_2 = Conditions[[j]][2]\n",
    "    \n",
    "    seurat_obj  <- aggexp_cd8\n",
    "        \n",
    "    if(grepl(Condition_1, pattern = \"PR\")){\n",
    "      seurat_obj$Condition  <- seurat_obj$Condition2\n",
    "    }\n",
    "    \n",
    "    if(grepl(Condition_1, pattern = \"Keto\")){\n",
    "      seurat_obj$Condition  <- seurat_obj$Keto_Time\n",
    "    }\n",
    "    \n",
    "    ## Create subsetted df\n",
    "        ds  <- subset(seurat_obj, Condition %in% c(Condition_1, Condition_2) )\n",
    "        print(ds$Condition  %>% table)\n",
    "    \n",
    "    ## scRNAseq - RNA\n",
    "    DefaultAssay(ds)  <- \"RNA\"\n",
    "        Idents(ds)  <- ds$Condition\n",
    "        markers_sc  <- FindAllMarkers(ds, only.pos = T, test.use = \"DESeq2\", return.thresh = 1)\n",
    "        markers_sc$source  <- \"scRNAseq_RNA\"\n",
    "        rownames(markers_sc)  <- NULL\n",
    "    print(paste(\"DE RNA: \", nrow(markers_sc)))\n",
    "    \n",
    "    markers_sc2  <- data.frame()\n",
    "    \n",
    "   if(nrow(markers_sc2)>0 & nrow(markers_sc)>0){ \n",
    "            markers2 <- rbind(markers_sc, markers_sc2) } else {\n",
    "        if(nrow(markers_sc)>0){\n",
    "            markers2  <- markers_sc\n",
    "            } else {\n",
    "            if(nrow(markers_sc2)>0){\n",
    "                markers2  <- markers_sc2\n",
    "            \n",
    "            } else {\n",
    "                markers2  <- NULL\n",
    "                }\n",
    "        }\n",
    "        }\n",
    "    \n",
    "        markers2$test_type  <- paste(Conditions[[j]][1], \"vs\", Conditions[[j]][2])\n",
    "        print(\"..\")\n",
    "        markers2$dataset  <- \"cd8_l1_full_filt\"\n",
    "        return(markers2)\n",
    "}\n"
   ]
  },
  {
   "cell_type": "code",
   "execution_count": null,
   "id": "49d78f0a",
   "metadata": {
    "scrolled": true
   },
   "outputs": [],
   "source": [
    "mrk  <- map(.x = 1:8, Create_Markers_DataFrame)\n",
    "\n",
    "mrk  <- bind_rows(mrk) "
   ]
  },
  {
   "cell_type": "code",
   "execution_count": null,
   "id": "a3bef7c4",
   "metadata": {},
   "outputs": [],
   "source": [
    "mrk "
   ]
  },
  {
   "cell_type": "code",
   "execution_count": null,
   "id": "a29e1e26",
   "metadata": {},
   "outputs": [],
   "source": [
    "all_markers  <- mrk"
   ]
  },
  {
   "cell_type": "markdown",
   "id": "9ec16714",
   "metadata": {},
   "source": [
    "### CD8 L2 datasets"
   ]
  },
  {
   "cell_type": "code",
   "execution_count": null,
   "id": "9c5364a0",
   "metadata": {},
   "outputs": [],
   "source": [
    "l2_datasets  <- levels(factor(cd8_l1_full_filt_sub$annotations_l2))"
   ]
  },
  {
   "cell_type": "code",
   "execution_count": null,
   "id": "efeaba79",
   "metadata": {},
   "outputs": [],
   "source": [
    "l2_datasets"
   ]
  },
  {
   "cell_type": "code",
   "execution_count": null,
   "id": "dad63d96",
   "metadata": {},
   "outputs": [],
   "source": [
    "aggexp_cd8  <- AggregateExpression(cd8_l1_full_filt_sub, group.by = c(\"Sample_ID\", \"annotations_l2\"), \n",
    "                                  features = genes_filt, return.seurat = T, assay = \"RNA\")"
   ]
  },
  {
   "cell_type": "code",
   "execution_count": null,
   "id": "9068a9f8",
   "metadata": {},
   "outputs": [],
   "source": [
    "aggexp_cd8$Sample_ID  %>% table"
   ]
  },
  {
   "cell_type": "code",
   "execution_count": null,
   "id": "41d8069a",
   "metadata": {},
   "outputs": [],
   "source": [
    "md_cd8  <- cd8_l1_full_filt_sub@meta.data  %>% \n",
    "group_by(Sample_ID, Condition, Condition2, Age, Sex, Ketoacidosis, Keto_Time)  %>% tally  %>% dplyr::select(-n)  %>% \n",
    "ungroup  %>% \n",
    "mutate(Sample_ID = as.factor(Sample_ID))"
   ]
  },
  {
   "cell_type": "code",
   "execution_count": null,
   "id": "9e414f69",
   "metadata": {
    "scrolled": true
   },
   "outputs": [],
   "source": [
    "md_cd8$Sample_ID  <- paste0(\"g\",md_cd8$Sample_ID)"
   ]
  },
  {
   "cell_type": "code",
   "execution_count": null,
   "id": "2e121c6c",
   "metadata": {},
   "outputs": [],
   "source": [
    "md_cd8  <- left_join(aggexp_cd8@meta.data, md_cd8)\n",
    "rownames(md_cd8)  <- colnames(aggexp_cd8)"
   ]
  },
  {
   "cell_type": "code",
   "execution_count": null,
   "id": "4107633e",
   "metadata": {},
   "outputs": [],
   "source": [
    "aggexp_cd8@meta.data  <- md_cd8"
   ]
  },
  {
   "cell_type": "code",
   "execution_count": null,
   "id": "bcd366fe",
   "metadata": {
    "scrolled": true
   },
   "outputs": [],
   "source": [
    "aggexp_cd8@meta.data"
   ]
  },
  {
   "cell_type": "code",
   "execution_count": null,
   "id": "5f4b04fd",
   "metadata": {},
   "outputs": [],
   "source": [
    "# Function to calculate markers for a subsetted da for given conditions\n",
    "\n",
    "Create_Markers_DataFrame  <- function(j){\n",
    "     print(\"#######################\")\n",
    "    print(j)\n",
    "    \n",
    "    Condition_1 = Conditions[[j]][1]\n",
    "    Condition_2 = Conditions[[j]][2]\n",
    "    \n",
    "    seurat_obj  <- subset(aggexp_cd8, annotations_l2 == levels(factor((aggexp_cd8$annotations_l2)))[i])\n",
    "        \n",
    "    if(grepl(Condition_1, pattern = \"PR\")){\n",
    "      seurat_obj$Condition  <- seurat_obj$Condition2\n",
    "    }\n",
    "    \n",
    "    if(grepl(Condition_1, pattern = \"Keto\")){\n",
    "      seurat_obj$Condition  <- seurat_obj$Keto_Time\n",
    "    }\n",
    "    \n",
    "    ## Create subsetted df\n",
    "        ds  <- subset(seurat_obj, Condition %in% c(Condition_1, Condition_2) )\n",
    "        print(ds$Condition  %>% table)\n",
    "    \n",
    "    ## scRNAseq - RNA\n",
    "    DefaultAssay(ds)  <- \"RNA\"\n",
    "        Idents(ds)  <- ds$Condition\n",
    "        markers_sc  <- FindAllMarkers(ds, only.pos = T, test.use = \"DESeq2\", return.thresh = 1)\n",
    "        markers_sc$source  <- \"scRNAseq_RNA\"\n",
    "        rownames(markers_sc)  <- NULL\n",
    "    print(paste(\"DE RNA: \", nrow(markers_sc)))\n",
    "    \n",
    "    markers_sc2  <- data.frame()\n",
    "    \n",
    "   if(nrow(markers_sc2)>0 & nrow(markers_sc)>0){ \n",
    "            markers2 <- rbind(markers_sc, markers_sc2) } else {\n",
    "        if(nrow(markers_sc)>0){\n",
    "            markers2  <- markers_sc\n",
    "            } else {\n",
    "            if(nrow(markers_sc2)>0){\n",
    "                markers2  <- markers_sc2\n",
    "            \n",
    "            } else {\n",
    "                markers2  <- NULL\n",
    "                }\n",
    "        }\n",
    "        }\n",
    "    \n",
    "        markers2$test_type  <- paste(Conditions[[j]][1], \"vs\", Conditions[[j]][2])\n",
    "        print(\"..\")\n",
    "        markers2$dataset  <- levels(factor((aggexp_cd8$annotations_l2)))[i]\n",
    "        return(markers2)\n",
    "}\n"
   ]
  },
  {
   "cell_type": "code",
   "execution_count": null,
   "id": "b4b182cc",
   "metadata": {
    "scrolled": true
   },
   "outputs": [],
   "source": [
    "for(i in 1:length(levels(factor((aggexp_cd8$annotations_l2))))){\n",
    "\n",
    "print(\"######################################################################\")\n",
    "if(i > 1){\n",
    "suppressWarnings(rm(markers_sc, markers, markers1, markers_sc2, markers_sc_predia, markers_bulk, markers_bulk2))    \n",
    "}\n",
    "    \n",
    "mrk  <- map(.x = 1:8, Create_Markers_DataFrame)\n",
    "\n",
    "mrk  <- bind_rows(mrk) \n",
    "    \n",
    "all_markers  <- rbind(all_markers, mrk)\n",
    "\n",
    "    \n",
    "}"
   ]
  },
  {
   "cell_type": "code",
   "execution_count": null,
   "id": "315d19db",
   "metadata": {
    "scrolled": true
   },
   "outputs": [],
   "source": [
    "all_markers  %>% dplyr::filter(p_val_adj<0.05)"
   ]
  },
  {
   "cell_type": "code",
   "execution_count": null,
   "id": "31a4eaee",
   "metadata": {
    "scrolled": true
   },
   "outputs": [],
   "source": [
    "all_markers\n"
   ]
  },
  {
   "cell_type": "code",
   "execution_count": null,
   "id": "a0eb36e7",
   "metadata": {},
   "outputs": [],
   "source": [
    "all_markers_cd8   <- all_markers"
   ]
  },
  {
   "cell_type": "markdown",
   "id": "e6c9af34",
   "metadata": {},
   "source": [
    "# Correlation DESeq and Wilcox"
   ]
  },
  {
   "cell_type": "code",
   "execution_count": null,
   "id": "5d9b52e7",
   "metadata": {
    "scrolled": true
   },
   "outputs": [],
   "source": [
    "all_markers_cd8"
   ]
  },
  {
   "cell_type": "code",
   "execution_count": null,
   "id": "23f30f7d",
   "metadata": {
    "scrolled": true
   },
   "outputs": [],
   "source": [
    "all_fcs_cd8$dataset  %>% table"
   ]
  },
  {
   "cell_type": "code",
   "execution_count": null,
   "id": "a7c07138",
   "metadata": {},
   "outputs": [],
   "source": [
    "## Load fold changes calculated by Wilcox"
   ]
  },
  {
   "cell_type": "code",
   "execution_count": null,
   "id": "9c6cbed4",
   "metadata": {},
   "outputs": [],
   "source": [
    "paths_fc  <- list.files(\"../../240218_VN_Diabetes_V05/tables/fold_change\", full.names = T)\n",
    "dataset_names  <- list.files(\"../../240218_VN_Diabetes_V05/tables/fold_change\", full.names = F)\n"
   ]
  },
  {
   "cell_type": "code",
   "execution_count": null,
   "id": "07fb10f6",
   "metadata": {},
   "outputs": [],
   "source": [
    "paths_fc"
   ]
  },
  {
   "cell_type": "code",
   "execution_count": null,
   "id": "d2b44e9b",
   "metadata": {},
   "outputs": [],
   "source": [
    "paths_fc  <- paths_fc[which(grepl(paths_fc, pattern = \"Ctrl\")|grepl(paths_fc, pattern = \"DiaT0_vs_DiaT1\"))]"
   ]
  },
  {
   "cell_type": "code",
   "execution_count": null,
   "id": "fe5df3f6",
   "metadata": {},
   "outputs": [],
   "source": [
    "dataset_names  <- dataset_names[which(grepl(dataset_names, pattern = \"Ctrl\")|grepl(dataset_names, pattern = \"DiaT0_vs_DiaT1\"))]"
   ]
  },
  {
   "cell_type": "code",
   "execution_count": null,
   "id": "6bbc1ae7",
   "metadata": {
    "scrolled": true
   },
   "outputs": [],
   "source": [
    "dataset_names"
   ]
  },
  {
   "cell_type": "code",
   "execution_count": null,
   "id": "fa3e1b17",
   "metadata": {
    "scrolled": true
   },
   "outputs": [],
   "source": [
    "paths_fc"
   ]
  },
  {
   "cell_type": "code",
   "execution_count": null,
   "id": "6476f619",
   "metadata": {},
   "outputs": [],
   "source": [
    "fc_read  <- function(i){\n",
    "    fc.df  <- read_csv(paths_fc[i])  %>% as.data.frame()\n",
    "    fc.df$file  <- dataset_names[i]\n",
    "    return(fc.df)\n",
    "}"
   ]
  },
  {
   "cell_type": "code",
   "execution_count": null,
   "id": "b8af1d67",
   "metadata": {
    "scrolled": true
   },
   "outputs": [],
   "source": [
    "fc.dfs  <- map(1:length(paths_fc),.f = fc_read)"
   ]
  },
  {
   "cell_type": "code",
   "execution_count": null,
   "id": "b90c8231",
   "metadata": {},
   "outputs": [],
   "source": [
    "fc.dfs2  <- bind_rows(fc.dfs)"
   ]
  },
  {
   "cell_type": "code",
   "execution_count": null,
   "id": "f8f44524",
   "metadata": {
    "scrolled": true
   },
   "outputs": [],
   "source": [
    "fc.dfs2$file  %>% table"
   ]
  },
  {
   "cell_type": "code",
   "execution_count": null,
   "id": "4a5bf10a",
   "metadata": {
    "scrolled": true
   },
   "outputs": [],
   "source": [
    "fc.dfs3  <- fc.dfs2 %>%  \n",
    "mutate(dataset = file)  %>% \n",
    "mutate(dataset = gsub(dataset, pattern = \"_Ctrl_vs_DiaT0\", replacement = \".Ctrl_vs_DiaT0\"))  %>% \n",
    "mutate(dataset = gsub(dataset, pattern = \"_Ctrl_vs_DiaT1\", replacement = \".Ctrl_vs_DiaT1\"))  %>% \n",
    "mutate(dataset = gsub(dataset, pattern = \"_DiaT0_vs_DiaT1\", replacement = \".DiaT0_vs_DiaT1\"))  %>% \n",
    "separate(dataset, into = c(\"population\", \"test_type\"), sep = \"\\\\.\", remove = F)  %>% \n",
    "dplyr::filter(grepl(x = cluster, pattern = \"Dia\")) "
   ]
  },
  {
   "cell_type": "markdown",
   "id": "52f70a77",
   "metadata": {},
   "source": [
    "### CD8 FC correlations"
   ]
  },
  {
   "cell_type": "code",
   "execution_count": null,
   "id": "8b2138b8",
   "metadata": {},
   "outputs": [],
   "source": [
    "fc.dfs3"
   ]
  },
  {
   "cell_type": "code",
   "execution_count": null,
   "id": "b8fbe585",
   "metadata": {},
   "outputs": [],
   "source": [
    "fc.dfs3.cd8  <- fc.dfs3  %>% dplyr::filter(grepl(population, pattern = \"cd8\"))"
   ]
  },
  {
   "cell_type": "markdown",
   "id": "c45611b2",
   "metadata": {},
   "source": [
    "We see that the names of populations are different between DESeq FCs and Wilcox FCs. We need to fix that. "
   ]
  },
  {
   "cell_type": "code",
   "execution_count": null,
   "id": "84d0aae4",
   "metadata": {},
   "outputs": [],
   "source": [
    "fc.dfs3.cd8$population  %>% table"
   ]
  },
  {
   "cell_type": "code",
   "execution_count": null,
   "id": "77cf2678",
   "metadata": {},
   "outputs": [],
   "source": [
    "all_fcs_cd8$dataset  %>% table"
   ]
  },
  {
   "cell_type": "code",
   "execution_count": null,
   "id": "b0aac14f",
   "metadata": {},
   "outputs": [],
   "source": [
    "colnames(all_fcs_cd8)"
   ]
  },
  {
   "cell_type": "markdown",
   "id": "3a0408a2",
   "metadata": {},
   "source": [
    "Now I will create a new column population that will contain factor with the same levels as in fc.dfs3.cd8"
   ]
  },
  {
   "cell_type": "code",
   "execution_count": null,
   "id": "1ffc5df8",
   "metadata": {},
   "outputs": [],
   "source": [
    "all_fcs_cd8  <- all_fcs_cd8  %>% mutate(population = recode_factor(dataset,\n",
    "              \"CD8 NK cells---NK cells\" = \"cd8_l2_nk\",\n",
    "              \"CD8 T cells---Naive\" = \"cd8_l3_naive\",\n",
    "              \"CD8 T cells---Proliferating\" = \"cd8_l3_prolif\",\n",
    "              \"CD8 T cells---Tcm\" = \"cd8_l3_tcm\",\n",
    "              \"CD8 T cells---Tem\" = \"cd8_l3_tem\",\n",
    "              \"CD8 T cells---Temra\" = \"cd8_l3_temra\",\n",
    "              \"CD8 Unconventional T cells---gd T cells\" = \"cd8_l2_subcluster\",\n",
    "              \"CD8 Unconventional T cells---MAIT cells\" = \"cd8_l2_unc\",\n",
    "              \"cd8_l1_full_filt\" = \"cd8_l1_full_filt\"))"
   ]
  },
  {
   "cell_type": "markdown",
   "id": "ddc6f05f",
   "metadata": {},
   "source": [
    "We also need to make sure that we will be comparing the same test types. "
   ]
  },
  {
   "cell_type": "code",
   "execution_count": null,
   "id": "48dd15ca",
   "metadata": {},
   "outputs": [],
   "source": [
    "all_fcs_cd8$test_type  %>% table"
   ]
  },
  {
   "cell_type": "code",
   "execution_count": null,
   "id": "69457325",
   "metadata": {},
   "outputs": [],
   "source": [
    "fc.dfs3.cd8$test_type  %>% table"
   ]
  },
  {
   "cell_type": "markdown",
   "id": "29139d05",
   "metadata": {},
   "source": [
    "For now we will only work with Ctrl and T1D comnparisons. "
   ]
  },
  {
   "cell_type": "code",
   "execution_count": null,
   "id": "0ce0fc2f",
   "metadata": {},
   "outputs": [],
   "source": [
    "fc.dfs3.cd8  <- fc.dfs3.cd8  %>% \n",
    "mutate(test_type = recode_factor(test_type,\n",
    "              \"Ctrl_vs_DiaT0\" = \"Dia T0 vs Ctrl T0\" ,\n",
    "              \"Ctrl_vs_DiaT1\" = \"Dia T1 vs Ctrl T0\",\n",
    "              \"DiaT0_vs_DiaT1\" = \"Dia T0 vs Dia T1\"))"
   ]
  },
  {
   "cell_type": "markdown",
   "id": "a6487392",
   "metadata": {},
   "source": [
    "Let's check that we have both positive and negative values for FCs in both tables. "
   ]
  },
  {
   "cell_type": "code",
   "execution_count": null,
   "id": "46a01682",
   "metadata": {},
   "outputs": [],
   "source": [
    "fc.dfs3.cd8$cluster  %>% table"
   ]
  },
  {
   "cell_type": "code",
   "execution_count": null,
   "id": "e10494e0",
   "metadata": {
    "scrolled": true
   },
   "outputs": [],
   "source": [
    "all_fcs_cd8"
   ]
  },
  {
   "cell_type": "code",
   "execution_count": null,
   "id": "1133cf2e",
   "metadata": {},
   "outputs": [],
   "source": [
    "fc.dfs3.cd8  %>% dplyr::filter(test_type == \"Dia T0 vs Dia T1\")"
   ]
  },
  {
   "cell_type": "markdown",
   "id": "3db854c3",
   "metadata": {},
   "source": [
    "Correlations of FCs."
   ]
  },
  {
   "cell_type": "code",
   "execution_count": null,
   "id": "501799a8",
   "metadata": {},
   "outputs": [],
   "source": [
    "wilcox_fcs  <- fc.dfs3.cd8  %>% \n",
    "                dplyr::filter(!(test_type == \"Dia T0 vs Dia T1\" & cluster == \"Dia T1\"))  %>% \n",
    "                dplyr::select(gene, population, test_type, avg_log2FC_Wilcox = avg_log2FC)\n",
    "\n",
    "DESeq_fcs  <- all_fcs_cd8  %>% dplyr::select(gene, population, test_type, avg_log2FC_DESeq = avg_log2FC)\n"
   ]
  },
  {
   "cell_type": "code",
   "execution_count": null,
   "id": "2ed3eb8f",
   "metadata": {},
   "outputs": [],
   "source": [
    "all_joint_fcs  <- wilcox_fcs  %>% left_join(DESeq_fcs)"
   ]
  },
  {
   "cell_type": "code",
   "execution_count": null,
   "id": "85d1917a",
   "metadata": {
    "scrolled": true
   },
   "outputs": [],
   "source": [
    "all_joint_fcs"
   ]
  },
  {
   "cell_type": "code",
   "execution_count": null,
   "id": "6edc3046",
   "metadata": {},
   "outputs": [],
   "source": [
    "options(repr.plot.width = 12, repr.plot.height = 20)\n",
    "all_joint_fcs  %>% \n",
    "ggplot(aes(x = avg_log2FC_Wilcox, y = avg_log2FC_DESeq)) +\n",
    "geom_point(alpha = 0.5, size = 0.5) +\n",
    "facet_grid(cols = vars(test_type), rows = vars(population), scales = \"free\") +\n",
    "ggpubr::stat_cor() +\n",
    "geom_smooth(method = lm) +\n",
    "ggtheme()"
   ]
  },
  {
   "cell_type": "code",
   "execution_count": null,
   "id": "b680f51a",
   "metadata": {
    "scrolled": true
   },
   "outputs": [],
   "source": [
    "all_joint_fcs"
   ]
  },
  {
   "cell_type": "code",
   "execution_count": null,
   "id": "a78eee9a",
   "metadata": {},
   "outputs": [],
   "source": [
    "cor_stats_cd8  <- all_joint_fcs  %>% \n",
    "dplyr::filter(!is.na(avg_log2FC_Wilcox) & !is.na(avg_log2FC_DESeq))  %>% \n",
    "group_by(population, test_type)  %>% \n",
    "rstatix::cor_test(avg_log2FC_Wilcox, avg_log2FC_DESeq)  "
   ]
  },
  {
   "cell_type": "code",
   "execution_count": null,
   "id": "dc2ea0bf",
   "metadata": {
    "scrolled": true
   },
   "outputs": [],
   "source": [
    "cor_stats_cd8"
   ]
  },
  {
   "cell_type": "code",
   "execution_count": null,
   "id": "65aa84d5",
   "metadata": {},
   "outputs": [],
   "source": [
    "options(repr.plot.width = 12, repr.plot.height = 5)\n",
    "cor_stats_cd8  %>% \n",
    "ggplot(aes(x = statistic, y = -log(p), color = population)) +\n",
    "geom_point() +\n",
    "facet_wrap(~test_type, ncol = 3)"
   ]
  },
  {
   "cell_type": "code",
   "execution_count": null,
   "id": "81042951",
   "metadata": {},
   "outputs": [],
   "source": []
  },
  {
   "cell_type": "code",
   "execution_count": null,
   "id": "eb266a10",
   "metadata": {},
   "outputs": [],
   "source": []
  },
  {
   "cell_type": "markdown",
   "id": "bb309500",
   "metadata": {},
   "source": [
    "###  CD4 FCS correlation"
   ]
  },
  {
   "cell_type": "code",
   "execution_count": null,
   "id": "bbaa1796",
   "metadata": {},
   "outputs": [],
   "source": [
    "fc.dfs3.cd4  <- fc.dfs3  %>% dplyr::filter(grepl(population, pattern = \"cd4\"))"
   ]
  },
  {
   "cell_type": "markdown",
   "id": "efea19a2",
   "metadata": {},
   "source": [
    "We see that the names of populations are different between DESeq FCs and Wilcox FCs. We need to fix that. "
   ]
  },
  {
   "cell_type": "code",
   "execution_count": null,
   "id": "61b80c9b",
   "metadata": {},
   "outputs": [],
   "source": [
    "fc.dfs3.cd4$population  %>% table"
   ]
  },
  {
   "cell_type": "code",
   "execution_count": null,
   "id": "9c4c207b",
   "metadata": {},
   "outputs": [],
   "source": [
    "all_fcs_cd4$dataset  %>% table"
   ]
  },
  {
   "cell_type": "code",
   "execution_count": null,
   "id": "d33f0fcb",
   "metadata": {},
   "outputs": [],
   "source": [
    "colnames(all_fcs_cd4)"
   ]
  },
  {
   "cell_type": "markdown",
   "id": "b4e690ad",
   "metadata": {},
   "source": [
    "Now I will create a new column population that will contain factor with the same levels as in fc.dfs3.cd4"
   ]
  },
  {
   "cell_type": "code",
   "execution_count": null,
   "id": "1f39389e",
   "metadata": {},
   "outputs": [],
   "source": [
    "all_fcs_cd4  <- all_fcs_cd4  %>% mutate(population = recode_factor(dataset,\n",
    "              \"CD4 T cells---ISAGhi\" = \"cd4_l3_isaghi\",\n",
    "              \"CD4 T cells---Naive\" = \"cd4_l3_naive\",\n",
    "              \"CD4 T cells---Nfkb\" = \"cd4_l3_nfkb\",\n",
    "              \"CD4 T cells---Proliferating\" = \"cd4_l3_proliferating\",\n",
    "              \"CD4 T cells---Temra\" = \"cd4_l3_temra\",\n",
    "              \"CD4 T cells---Tfh\" = \"cd4_l3_tfh\",\n",
    "              \"CD4 T cells---Th1Th17\" = \"cd4_l3_th1th17\",\n",
    "              \"CD4 T cells---Th2\" = \"cd4_l3_th2\",\n",
    "              \"CD4 T cells---Treg\" = \"cd4_l3_treg\",\n",
    "              \"CD4 Unconventional T cells---Unconventional\" = \"cd4_l2_unc\",\n",
    "              \"cd4_l1_full_filt\" = \"cd4_l1_full_filt\"\n",
    "              ))"
   ]
  },
  {
   "cell_type": "markdown",
   "id": "fed94e6d",
   "metadata": {},
   "source": [
    "We also need to make sure that we will be comparing the same test types. "
   ]
  },
  {
   "cell_type": "code",
   "execution_count": null,
   "id": "84346209",
   "metadata": {},
   "outputs": [],
   "source": [
    "all_fcs_cd4$test_type  %>% table"
   ]
  },
  {
   "cell_type": "code",
   "execution_count": null,
   "id": "e5da1b0c",
   "metadata": {},
   "outputs": [],
   "source": [
    "fc.dfs3.cd4$test_type  %>% table"
   ]
  },
  {
   "cell_type": "markdown",
   "id": "75d0d2a1",
   "metadata": {},
   "source": [
    "For now we will only work with Ctrl and T1D comnparisons. "
   ]
  },
  {
   "cell_type": "code",
   "execution_count": null,
   "id": "3debebee",
   "metadata": {},
   "outputs": [],
   "source": [
    "fc.dfs3.cd4  <- fc.dfs3.cd4  %>% \n",
    "mutate(test_type = recode_factor(test_type,\n",
    "              \"Ctrl_vs_DiaT0\" = \"Dia T0 vs Ctrl T0\" ,\n",
    "              \"Ctrl_vs_DiaT1\" = \"Dia T1 vs Ctrl T0\",\n",
    "              \"DiaT0_vs_DiaT1\" = \"Dia T0 vs Dia T1\"))"
   ]
  },
  {
   "cell_type": "markdown",
   "id": "d1addee9",
   "metadata": {},
   "source": [
    "Let's check that we have both positive and negative values for FCs in both tables. "
   ]
  },
  {
   "cell_type": "code",
   "execution_count": null,
   "id": "d90a2a2f",
   "metadata": {},
   "outputs": [],
   "source": [
    "fc.dfs3.cd4$cluster  %>% table"
   ]
  },
  {
   "cell_type": "code",
   "execution_count": null,
   "id": "157a4786",
   "metadata": {
    "scrolled": true
   },
   "outputs": [],
   "source": [
    "all_fcs_cd4"
   ]
  },
  {
   "cell_type": "code",
   "execution_count": null,
   "id": "f268ea01",
   "metadata": {},
   "outputs": [],
   "source": [
    "fc.dfs3.cd4  %>% dplyr::filter(test_type == \"Dia T0 vs Dia T1\")"
   ]
  },
  {
   "cell_type": "markdown",
   "id": "93dfb2a6",
   "metadata": {},
   "source": [
    "Correlations of FCs."
   ]
  },
  {
   "cell_type": "code",
   "execution_count": null,
   "id": "d968a2e9",
   "metadata": {},
   "outputs": [],
   "source": [
    "wilcox_fcs_cd4  <- fc.dfs3.cd4  %>% \n",
    "                dplyr::filter(!(test_type == \"Dia T0 vs Dia T1\" & cluster == \"Dia T1\"))  %>% \n",
    "                dplyr::select(gene, population, test_type, avg_log2FC_Wilcox = avg_log2FC)\n",
    "\n",
    "DESeq_fcs_cd4  <- all_fcs_cd4  %>% dplyr::select(gene, population, test_type, avg_log2FC_DESeq = avg_log2FC)\n"
   ]
  },
  {
   "cell_type": "code",
   "execution_count": null,
   "id": "3f3d1018",
   "metadata": {},
   "outputs": [],
   "source": [
    "all_joint_fcs_cd4  <- wilcox_fcs_cd4  %>% left_join(DESeq_fcs_cd4)"
   ]
  },
  {
   "cell_type": "code",
   "execution_count": null,
   "id": "5a0be567",
   "metadata": {
    "scrolled": true
   },
   "outputs": [],
   "source": [
    "all_joint_fcs_cd4"
   ]
  },
  {
   "cell_type": "code",
   "execution_count": null,
   "id": "6997d764",
   "metadata": {},
   "outputs": [],
   "source": [
    "options(repr.plot.width = 12, repr.plot.height = 20)\n",
    "all_joint_fcs_cd4  %>% \n",
    "dplyr::filter(population != \"cd4_l2_subcluster\")  %>% \n",
    "ggplot(aes(x = avg_log2FC_Wilcox, y = avg_log2FC_DESeq)) +\n",
    "geom_point(alpha = 0.5, size = 0.5) +\n",
    "facet_grid(cols = vars(test_type), rows = vars(population), scales = \"free\") +\n",
    "ggpubr::stat_cor() +\n",
    "geom_smooth(method = lm) +\n",
    "ggtheme()"
   ]
  },
  {
   "cell_type": "code",
   "execution_count": null,
   "id": "3a45f5b3",
   "metadata": {},
   "outputs": [],
   "source": [
    "cor_stats_cd4  <- all_joint_fcs_cd4  %>% \n",
    "dplyr::filter(!is.na(avg_log2FC_Wilcox) & !is.na(avg_log2FC_DESeq))  %>% \n",
    "group_by(population, test_type)  %>% \n",
    "rstatix::cor_test(avg_log2FC_Wilcox, avg_log2FC_DESeq)  "
   ]
  },
  {
   "cell_type": "code",
   "execution_count": null,
   "id": "fa6334e8",
   "metadata": {
    "scrolled": true
   },
   "outputs": [],
   "source": [
    "cor_stats_cd4"
   ]
  },
  {
   "cell_type": "code",
   "execution_count": null,
   "id": "f5f50183",
   "metadata": {},
   "outputs": [],
   "source": [
    "options(repr.plot.width = 12, repr.plot.height = 5)\n",
    "cor_stats_cd4  %>% \n",
    "ggplot(aes(x = statistic, y = -log(p), color = population)) +\n",
    "geom_point() +\n",
    "facet_wrap(~test_type, ncol = 3)"
   ]
  },
  {
   "cell_type": "code",
   "execution_count": null,
   "id": "35f2ab9c",
   "metadata": {},
   "outputs": [],
   "source": [
    "ls()"
   ]
  },
  {
   "cell_type": "code",
   "execution_count": null,
   "id": "cca23121",
   "metadata": {},
   "outputs": [],
   "source": []
  },
  {
   "cell_type": "markdown",
   "id": "ad8be708",
   "metadata": {},
   "source": [
    "# Main DEG genes in groups and by DESeq"
   ]
  },
  {
   "cell_type": "markdown",
   "id": "281d4511",
   "metadata": {},
   "source": [
    "## CD4"
   ]
  },
  {
   "cell_type": "code",
   "execution_count": null,
   "id": "9fadf532",
   "metadata": {},
   "outputs": [],
   "source": [
    "genes  <- rownames(cd4_l1_full_filt_sub@assays$RNA)"
   ]
  },
  {
   "cell_type": "code",
   "execution_count": null,
   "id": "a958c279",
   "metadata": {},
   "outputs": [],
   "source": [
    "genes_filt  <- genes[!(grepl(genes, pattern = \"^MT\")|\n",
    "                            grepl(genes, pattern = \"\\\\.\")|\n",
    "                            grepl(genes, pattern = \"LINC\")|\n",
    "                            grepl(genes, pattern = \"^MIR\")|\n",
    "                            grepl(genes, pattern = \"^MT\")|\n",
    "                            grepl(genes, pattern = \"HNRNP\")|\n",
    "                            grepl(genes, pattern = \"^RP[LS]\")|\n",
    "                            grepl(genes, pattern = \"\\\\-\")|\n",
    "                            grepl(genes, pattern = \"TTTY\")|\n",
    "                            grepl(genes, pattern = \"ORF\")|\n",
    "                            grepl(genes, pattern = \"orf\"))\n",
    "                            ]"
   ]
  },
  {
   "cell_type": "code",
   "execution_count": null,
   "id": "8589eb7a",
   "metadata": {},
   "outputs": [],
   "source": [
    "aggexp_cd4  <- AggregateExpression(cd4_l1_full_filt_sub, group.by = c(\"Sample_ID\"), \n",
    "                                  features = genes_filt, return.seurat = T, assay = \"RNA\")"
   ]
  },
  {
   "cell_type": "code",
   "execution_count": null,
   "id": "63adcfe2",
   "metadata": {},
   "outputs": [],
   "source": [
    "md_cd4  <- cd4_l1_full_filt_sub@meta.data  %>% \n",
    "group_by(Sample_ID, Condition, Condition2, Age, Sex)  %>% tally  %>% dplyr::select(-n)  %>% \n",
    "ungroup  %>% \n",
    "mutate(Sample_ID = as.factor(Sample_ID))"
   ]
  },
  {
   "cell_type": "code",
   "execution_count": null,
   "id": "39b361fb",
   "metadata": {
    "scrolled": true
   },
   "outputs": [],
   "source": [
    "md_cd4$Sample_ID  <- paste0(\"g\",md_cd4$Sample_ID)"
   ]
  },
  {
   "cell_type": "code",
   "execution_count": null,
   "id": "44d1a223",
   "metadata": {},
   "outputs": [],
   "source": [
    "\n",
    "md_cd4  <- left_join(aggexp_cd4@meta.data, md_cd4)\n",
    "rownames(md_cd4)  <- colnames(aggexp_cd4)"
   ]
  },
  {
   "cell_type": "code",
   "execution_count": null,
   "id": "f347b036",
   "metadata": {},
   "outputs": [],
   "source": [
    "aggexp_cd4@meta.data  <- md_cd4"
   ]
  },
  {
   "cell_type": "code",
   "execution_count": null,
   "id": "b4539c97",
   "metadata": {},
   "outputs": [],
   "source": [
    "genes  <- c(\"GZMB\",\"GZMA\",\"TNF\",\"LEF1\",\"TCF7\",\"GNLY\",\"CXCR4\",\"TNFAIP3\")"
   ]
  },
  {
   "cell_type": "code",
   "execution_count": null,
   "id": "d6ad74bb",
   "metadata": {},
   "outputs": [],
   "source": [
    "df  <- aggexp_cd4@assays$RNA@layers$data[which(rownames(aggexp_cd4@assays$RNA) %in% genes),]"
   ]
  },
  {
   "cell_type": "code",
   "execution_count": null,
   "id": "c8fc3882",
   "metadata": {},
   "outputs": [],
   "source": [
    "colnames(df)  <- colnames(aggexp_cd4)\n",
    "rownames(df)  <- rownames(aggexp_cd4@assays$RNA)[which(rownames(aggexp_cd4@assays$RNA) %in% genes)]"
   ]
  },
  {
   "cell_type": "code",
   "execution_count": null,
   "id": "c48ab41e",
   "metadata": {},
   "outputs": [],
   "source": [
    "df  <- df  %>% t()  %>% as.data.frame()  %>% \n",
    "rownames_to_column(\"Sample_ID\")  %>% \n",
    "pivot_longer(!Sample_ID, names_to = \"gene\", values_to = \"value\")  \n"
   ]
  },
  {
   "cell_type": "code",
   "execution_count": null,
   "id": "aa885942",
   "metadata": {
    "scrolled": true
   },
   "outputs": [],
   "source": [
    "df"
   ]
  },
  {
   "cell_type": "code",
   "execution_count": null,
   "id": "5e032b4a",
   "metadata": {},
   "outputs": [],
   "source": [
    "df  <- df  %>% left_join(md_cd4)"
   ]
  },
  {
   "cell_type": "code",
   "execution_count": null,
   "id": "a71247b8",
   "metadata": {
    "scrolled": true
   },
   "outputs": [],
   "source": [
    "df  %>% \n",
    "ggplot(aes(x = Condition, y = value)) +\n",
    "geom_violin(scale = \"width\", aes(fill = Condition), alpha = 0.4) +\n",
    "stat_summary(fun = \"median\",\n",
    "               geom = \"crossbar\", \n",
    "               width = 0.75,\n",
    "               color = \"grey30\") +\n",
    "geom_beeswarm(size = 3, aes(fill = Condition), cex = 3, \n",
    "                shape = 21, color = \"black\", corral = \"random\") +\n",
    " stat_compare_means(label = \"p.format\", comparisons = list(c(1,2))) +\n",
    "facet_wrap(~gene, ncol = 4, scales = \"free\") +\n",
    "theme_classic() +\n",
    "ggtheme() +\n",
    "scale_fill_manual(values = c(\"#1874cdff\",  \"#ee6363ff\", \"#c41515ff\",\"#eeb4b4ff\")) +\n",
    "scale_color_manual(values = c(\"dodgerblue3\",  \"#e54c4cff\", \"#aa2a2aff\",\"#e88989ff\")) +\n",
    "ylab(\"\") +\n",
    "  xlab(\"\") +\n",
    "theme(axis.text.x = element_blank(),\n",
    "      axis.ticks.x = element_blank()\n",
    "      )"
   ]
  },
  {
   "cell_type": "code",
   "execution_count": null,
   "id": "35e62658",
   "metadata": {},
   "outputs": [],
   "source": []
  },
  {
   "cell_type": "markdown",
   "id": "16e77825",
   "metadata": {},
   "source": [
    "## CD8"
   ]
  },
  {
   "cell_type": "code",
   "execution_count": null,
   "id": "6c2db3a0",
   "metadata": {},
   "outputs": [],
   "source": [
    "genes  <- rownames(cd8_l1_full_filt_sub@assays$RNA)"
   ]
  },
  {
   "cell_type": "code",
   "execution_count": null,
   "id": "796b74ab",
   "metadata": {},
   "outputs": [],
   "source": [
    "genes_filt  <- genes[!(grepl(genes, pattern = \"^MT\")|\n",
    "                            grepl(genes, pattern = \"\\\\.\")|\n",
    "                            grepl(genes, pattern = \"LINC\")|\n",
    "                            grepl(genes, pattern = \"^MIR\")|\n",
    "                            grepl(genes, pattern = \"^MT\")|\n",
    "                            grepl(genes, pattern = \"HNRNP\")|\n",
    "                            grepl(genes, pattern = \"^RP[LS]\")|\n",
    "                            grepl(genes, pattern = \"\\\\-\")|\n",
    "                            grepl(genes, pattern = \"TTTY\")|\n",
    "                            grepl(genes, pattern = \"ORF\")|\n",
    "                            grepl(genes, pattern = \"orf\"))\n",
    "                            ]"
   ]
  },
  {
   "cell_type": "code",
   "execution_count": null,
   "id": "fc392888",
   "metadata": {},
   "outputs": [],
   "source": [
    "aggexp_cd8  <- AggregateExpression(cd8_l1_full_filt_sub, group.by = c(\"Sample_ID\"), \n",
    "                                  features = genes_filt, return.seurat = T, assay = \"RNA\")"
   ]
  },
  {
   "cell_type": "code",
   "execution_count": null,
   "id": "f2afbc9a",
   "metadata": {},
   "outputs": [],
   "source": [
    "md_cd8  <- cd8_l1_full_filt_sub@meta.data  %>% \n",
    "group_by(Sample_ID, Condition, Condition2, Age, Sex)  %>% tally  %>% dplyr::select(-n)  %>% \n",
    "ungroup  %>% \n",
    "mutate(Sample_ID = as.factor(Sample_ID))"
   ]
  },
  {
   "cell_type": "code",
   "execution_count": null,
   "id": "2269bee1",
   "metadata": {
    "scrolled": true
   },
   "outputs": [],
   "source": [
    "md_cd8$Sample_ID  <- paste0(\"g\",md_cd8$Sample_ID)"
   ]
  },
  {
   "cell_type": "code",
   "execution_count": null,
   "id": "81114cc3",
   "metadata": {},
   "outputs": [],
   "source": [
    "\n",
    "md_cd8  <- left_join(aggexp_cd8@meta.data, md_cd8)\n",
    "rownames(md_cd8)  <- colnames(aggexp_cd8)"
   ]
  },
  {
   "cell_type": "code",
   "execution_count": null,
   "id": "d6ad25cc",
   "metadata": {},
   "outputs": [],
   "source": [
    "aggexp_cd8@meta.data  <- md_cd8"
   ]
  },
  {
   "cell_type": "code",
   "execution_count": null,
   "id": "b5035385",
   "metadata": {},
   "outputs": [],
   "source": [
    "genes  <- c(\"GZMB\",\"GZMA\",\"TNF\",\"LEF1\",\"TCF7\",\"GNLY\",\"CXCR4\",\"TNFAIP3\")"
   ]
  },
  {
   "cell_type": "code",
   "execution_count": null,
   "id": "5febc449",
   "metadata": {},
   "outputs": [],
   "source": [
    "df  <- aggexp_cd8@assays$RNA@layers$data[which(rownames(aggexp_cd8@assays$RNA) %in% genes),]"
   ]
  },
  {
   "cell_type": "code",
   "execution_count": null,
   "id": "e1ebc97b",
   "metadata": {},
   "outputs": [],
   "source": [
    "colnames(df)  <- colnames(aggexp_cd8)\n",
    "rownames(df)  <- rownames(aggexp_cd8@assays$RNA)[which(rownames(aggexp_cd8@assays$RNA) %in% genes)]"
   ]
  },
  {
   "cell_type": "code",
   "execution_count": null,
   "id": "df8cbfc6",
   "metadata": {},
   "outputs": [],
   "source": [
    "df  <- df  %>% t()  %>% as.data.frame()  %>% \n",
    "rownames_to_column(\"Sample_ID\")  %>% \n",
    "pivot_longer(!Sample_ID, names_to = \"gene\", values_to = \"value\")  \n"
   ]
  },
  {
   "cell_type": "code",
   "execution_count": null,
   "id": "158508f0",
   "metadata": {
    "scrolled": true
   },
   "outputs": [],
   "source": [
    "df"
   ]
  },
  {
   "cell_type": "code",
   "execution_count": null,
   "id": "3a7af9c3",
   "metadata": {},
   "outputs": [],
   "source": [
    "df  <- df  %>% left_join(md_cd8)"
   ]
  },
  {
   "cell_type": "code",
   "execution_count": null,
   "id": "b72f1635",
   "metadata": {
    "scrolled": true
   },
   "outputs": [],
   "source": [
    "df  %>% \n",
    "ggplot(aes(x = Condition, y = value)) +\n",
    "geom_violin(scale = \"width\", aes(fill = Condition), alpha = 0.4) +\n",
    "stat_summary(fun = \"median\",\n",
    "               geom = \"crossbar\", \n",
    "               width = 0.75,\n",
    "               color = \"grey30\") +\n",
    "geom_beeswarm(size = 3, aes(fill = Condition), cex = 3, \n",
    "                shape = 21, color = \"black\", corral = \"random\") +\n",
    " stat_compare_means(label = \"p.format\", comparisons = list(c(1,2))) +\n",
    "facet_wrap(~gene, ncol = 4, scales = \"free\") +\n",
    "theme_classic() +\n",
    "ggtheme() +\n",
    "scale_fill_manual(values = c(\"#1874cdff\",  \"#ee6363ff\", \"#c41515ff\",\"#eeb4b4ff\")) +\n",
    "scale_color_manual(values = c(\"dodgerblue3\",  \"#e54c4cff\", \"#aa2a2aff\",\"#e88989ff\")) +\n",
    "ylab(\"\") +\n",
    "  xlab(\"\") +\n",
    "theme(axis.text.x = element_blank(),\n",
    "      axis.ticks.x = element_blank()\n",
    "      )"
   ]
  },
  {
   "cell_type": "code",
   "execution_count": null,
   "id": "af3de0d4",
   "metadata": {
    "scrolled": true
   },
   "outputs": [],
   "source": [
    "all_markers_cd8  %>% dplyr::filter(test_type == \"Dia T0 vs Ctrl T0\" & dataset == \"cd8_l1_full_filt\")  %>% arrange(p_val)"
   ]
  },
  {
   "cell_type": "code",
   "execution_count": null,
   "id": "1b94a7fe",
   "metadata": {},
   "outputs": [],
   "source": [
    "mrk_t0  <- all_markers_cd8  %>% dplyr::filter(test_type == \"Dia T0 vs Ctrl T0\" & dataset == \"cd8_l1_full_filt\")  %>% arrange(p_val_adj)  %>% \n",
    "pull(gene)"
   ]
  },
  {
   "cell_type": "code",
   "execution_count": null,
   "id": "4322d34c",
   "metadata": {
    "scrolled": true
   },
   "outputs": [],
   "source": [
    "all_markers_cd8  %>% dplyr::filter(test_type == \"Dia T1 vs Ctrl T0\" & dataset == \"cd8_l1_full_filt\")  %>% arrange(p_val)"
   ]
  },
  {
   "cell_type": "code",
   "execution_count": null,
   "id": "0492cdd6",
   "metadata": {},
   "outputs": [],
   "source": [
    "mrk_t1  <- all_markers_cd8  %>% dplyr::filter(test_type == \"Dia T1 vs Ctrl T0\" & dataset == \"cd8_l1_full_filt\")  %>% \n",
    "arrange(p_val_adj)  %>% \n",
    "pull(gene)"
   ]
  },
  {
   "cell_type": "code",
   "execution_count": null,
   "id": "f73a9206",
   "metadata": {},
   "outputs": [],
   "source": [
    "mrk_t0  <- mrk_t0[1:200]\n",
    "mrk_t1  <- mrk_t1[1:200]"
   ]
  },
  {
   "cell_type": "code",
   "execution_count": null,
   "id": "3aa696e4",
   "metadata": {},
   "outputs": [],
   "source": [
    "intersect(mrk_t0, mrk_t1)"
   ]
  },
  {
   "cell_type": "code",
   "execution_count": null,
   "id": "5ff90345",
   "metadata": {},
   "outputs": [],
   "source": []
  },
  {
   "cell_type": "code",
   "execution_count": null,
   "id": "118ec698",
   "metadata": {},
   "outputs": [],
   "source": [
    "genes  <- c(\"STIM1\", \"STIM2\", \"ORAI2\", \"ORAI3\", \"TRPC1\", \"RCAN1\", \"PPP3CA\", \"PPP3R1 \", \"NFATC1\", \"NFATC2\", \"NFATC3\")"
   ]
  },
  {
   "cell_type": "code",
   "execution_count": null,
   "id": "53ecd30e",
   "metadata": {},
   "outputs": [],
   "source": [
    "df  <- aggexp_cd8@assays$RNA@layers$data[which(rownames(aggexp_cd8@assays$RNA) %in% genes),]"
   ]
  },
  {
   "cell_type": "code",
   "execution_count": null,
   "id": "a36892c1",
   "metadata": {},
   "outputs": [],
   "source": [
    "colnames(df)  <- colnames(aggexp_cd8)\n",
    "rownames(df)  <- rownames(aggexp_cd8@assays$RNA)[which(rownames(aggexp_cd8@assays$RNA) %in% genes)]"
   ]
  },
  {
   "cell_type": "code",
   "execution_count": null,
   "id": "d50789e5",
   "metadata": {},
   "outputs": [],
   "source": [
    "df  <- df  %>% t()  %>% as.data.frame()  %>% \n",
    "rownames_to_column(\"Sample_ID\")  %>% \n",
    "pivot_longer(!Sample_ID, names_to = \"gene\", values_to = \"value\")  \n"
   ]
  },
  {
   "cell_type": "code",
   "execution_count": null,
   "id": "37d07345",
   "metadata": {
    "scrolled": true
   },
   "outputs": [],
   "source": [
    "df"
   ]
  },
  {
   "cell_type": "code",
   "execution_count": null,
   "id": "c42c95d4",
   "metadata": {},
   "outputs": [],
   "source": [
    "df  <- df  %>% left_join(md_cd8)"
   ]
  },
  {
   "cell_type": "code",
   "execution_count": null,
   "id": "191a4b99",
   "metadata": {
    "scrolled": true
   },
   "outputs": [],
   "source": [
    "df  %>% \n",
    "ggplot(aes(x = Condition, y = value)) +\n",
    "geom_violin(scale = \"width\", aes(fill = Condition), alpha = 0.4) +\n",
    "stat_summary(fun = \"median\",\n",
    "               geom = \"crossbar\", \n",
    "               width = 0.75,\n",
    "               color = \"grey30\") +\n",
    "geom_beeswarm(size = 3, aes(fill = Condition), cex = 3, \n",
    "                shape = 21, color = \"black\", corral = \"random\") +\n",
    " stat_compare_means(label = \"p.format\", comparisons = list(c(1,2))) +\n",
    "facet_wrap(~gene, ncol = 4, scales = \"free\") +\n",
    "theme_classic() +\n",
    "ggtheme() +\n",
    "scale_fill_manual(values = c(\"#1874cdff\",  \"#ee6363ff\", \"#c41515ff\",\"#eeb4b4ff\")) +\n",
    "scale_color_manual(values = c(\"dodgerblue3\",  \"#e54c4cff\", \"#aa2a2aff\",\"#e88989ff\")) +\n",
    "ylab(\"\") +\n",
    "  xlab(\"\") +\n",
    "theme(axis.text.x = element_blank(),\n",
    "      axis.ticks.x = element_blank()\n",
    "      )"
   ]
  },
  {
   "cell_type": "code",
   "execution_count": null,
   "id": "9ab06887",
   "metadata": {},
   "outputs": [],
   "source": [
    "mrk_t0  <- all_markers_cd8  %>% dplyr::filter(test_type == \"Dia T0 vs Ctrl T0\" & dataset == \"cd8_l1_full_filt\")  %>% arrange(p_val_adj)  %>% \n",
    "pull(gene)"
   ]
  },
  {
   "cell_type": "code",
   "execution_count": null,
   "id": "b1f05b64",
   "metadata": {
    "scrolled": true
   },
   "outputs": [],
   "source": [
    "all_markers_cd8  %>% dplyr::filter(test_type == \"Dia T1 vs Ctrl T0\" & dataset == \"cd8_l1_full_filt\")  %>% arrange(p_val)"
   ]
  },
  {
   "cell_type": "code",
   "execution_count": null,
   "id": "1047a6c6",
   "metadata": {},
   "outputs": [],
   "source": [
    "mrk_t1  <- all_markers_cd8  %>% dplyr::filter(test_type == \"Dia T0 vs Dia T1\" & dataset == \"cd8_l1_full_filt\")  %>% \n",
    "arrange(p_val_adj)  %>% \n",
    "pull(gene)"
   ]
  },
  {
   "cell_type": "code",
   "execution_count": null,
   "id": "9af0ce4a",
   "metadata": {},
   "outputs": [],
   "source": [
    "mrk_t0  <- mrk_t0[1:200]\n",
    "mrk_t1  <- mrk_t1[1:200]"
   ]
  },
  {
   "cell_type": "code",
   "execution_count": null,
   "id": "5da53b41",
   "metadata": {},
   "outputs": [],
   "source": [
    "intersect(mrk_t0, mrk_t1)"
   ]
  },
  {
   "cell_type": "code",
   "execution_count": null,
   "id": "4c9ee532",
   "metadata": {},
   "outputs": [],
   "source": [
    "genes  <- c(\"ORAI1\",\"NFATC2\",\"NFATC3\")"
   ]
  },
  {
   "cell_type": "code",
   "execution_count": null,
   "id": "9d0be5a6",
   "metadata": {},
   "outputs": [],
   "source": [
    "df  <- aggexp_cd8@assays$RNA@layers$data[which(rownames(aggexp_cd8@assays$RNA) %in% genes),]"
   ]
  },
  {
   "cell_type": "code",
   "execution_count": null,
   "id": "68047086",
   "metadata": {},
   "outputs": [],
   "source": [
    "colnames(df)  <- colnames(aggexp_cd8)\n",
    "rownames(df)  <- rownames(aggexp_cd8@assays$RNA)[which(rownames(aggexp_cd8@assays$RNA) %in% genes)]"
   ]
  },
  {
   "cell_type": "code",
   "execution_count": null,
   "id": "8b311141",
   "metadata": {},
   "outputs": [],
   "source": [
    "df  <- df  %>% t()  %>% as.data.frame()  %>% \n",
    "rownames_to_column(\"Sample_ID\")  %>% \n",
    "pivot_longer(!Sample_ID, names_to = \"gene\", values_to = \"value\")  \n"
   ]
  },
  {
   "cell_type": "code",
   "execution_count": null,
   "id": "1c8aa9c1",
   "metadata": {
    "scrolled": true
   },
   "outputs": [],
   "source": [
    "df"
   ]
  },
  {
   "cell_type": "code",
   "execution_count": null,
   "id": "900e42d7",
   "metadata": {},
   "outputs": [],
   "source": [
    "df  <- df  %>% left_join(md_cd8)"
   ]
  },
  {
   "cell_type": "code",
   "execution_count": null,
   "id": "d8940ec4",
   "metadata": {
    "scrolled": true
   },
   "outputs": [],
   "source": [
    "options(repr.plot.height = 4, repr.plot.width = 9)\n",
    "\n",
    "df  %>% \n",
    "ggplot(aes(x = Condition, y = value)) +\n",
    "geom_violin(scale = \"width\", aes(fill = Condition), alpha = 0.4) +\n",
    "stat_summary(fun = \"median\",\n",
    "               geom = \"crossbar\", \n",
    "               width = 0.75,\n",
    "               color = \"grey30\") +\n",
    "geom_beeswarm(size = 3, aes(fill = Condition), cex = 3, \n",
    "                shape = 21, color = \"black\", corral = \"random\") +\n",
    " stat_compare_means(label = \"p.format\", comparisons = list(c(1,2))) +\n",
    "facet_wrap(~gene, ncol = 4, scales = \"free\") +\n",
    "theme_classic() +\n",
    "ggtheme() +\n",
    "scale_fill_manual(values = c(\"#1874cdff\",  \"#ee6363ff\", \"#c41515ff\",\"#eeb4b4ff\")) +\n",
    "scale_color_manual(values = c(\"dodgerblue3\",  \"#e54c4cff\", \"#aa2a2aff\",\"#e88989ff\")) +\n",
    "ylab(\"\") +\n",
    "  xlab(\"\") +\n",
    "theme(axis.text.x = element_blank(),\n",
    "      axis.ticks.x = element_blank()\n",
    "      )"
   ]
  },
  {
   "cell_type": "code",
   "execution_count": null,
   "id": "345a086f",
   "metadata": {},
   "outputs": [],
   "source": [
    "df  <- aggexp_cd4@assays$RNA@layers$data[which(rownames(aggexp_cd4@assays$RNA) %in% genes),]"
   ]
  },
  {
   "cell_type": "code",
   "execution_count": null,
   "id": "ed1da239",
   "metadata": {},
   "outputs": [],
   "source": [
    "colnames(df)  <- colnames(aggexp_cd4)\n",
    "rownames(df)  <- rownames(aggexp_cd4@assays$RNA)[which(rownames(aggexp_cd4@assays$RNA) %in% genes)]"
   ]
  },
  {
   "cell_type": "code",
   "execution_count": null,
   "id": "9536c434",
   "metadata": {},
   "outputs": [],
   "source": [
    "df  <- df  %>% t()  %>% as.data.frame()  %>% \n",
    "rownames_to_column(\"Sample_ID\")  %>% \n",
    "pivot_longer(!Sample_ID, names_to = \"gene\", values_to = \"value\")  \n"
   ]
  },
  {
   "cell_type": "code",
   "execution_count": null,
   "id": "0e9f4457",
   "metadata": {
    "scrolled": true
   },
   "outputs": [],
   "source": [
    "df"
   ]
  },
  {
   "cell_type": "code",
   "execution_count": null,
   "id": "ebe45ab5",
   "metadata": {},
   "outputs": [],
   "source": [
    "df  <- df  %>% left_join(md_cd4)"
   ]
  },
  {
   "cell_type": "code",
   "execution_count": null,
   "id": "93281640",
   "metadata": {
    "scrolled": true
   },
   "outputs": [],
   "source": [
    "df  %>% \n",
    "ggplot(aes(x = Condition, y = value)) +\n",
    "geom_violin(scale = \"width\", aes(fill = Condition), alpha = 0.4) +\n",
    "stat_summary(fun = \"median\",\n",
    "               geom = \"crossbar\", \n",
    "               width = 0.75,\n",
    "               color = \"grey30\") +\n",
    "geom_beeswarm(size = 3, aes(fill = Condition), cex = 3, \n",
    "                shape = 21, color = \"black\", corral = \"random\") +\n",
    " stat_compare_means(label = \"p.format\", comparisons = list(c(1,2))) +\n",
    "facet_wrap(~gene, ncol = 4, scales = \"free\") +\n",
    "theme_classic() +\n",
    "ggtheme() +\n",
    "scale_fill_manual(values = c(\"#1874cdff\",  \"#ee6363ff\", \"#c41515ff\",\"#eeb4b4ff\")) +\n",
    "scale_color_manual(values = c(\"dodgerblue3\",  \"#e54c4cff\", \"#aa2a2aff\",\"#e88989ff\")) +\n",
    "ylab(\"\") +\n",
    "  xlab(\"\") +\n",
    "theme(axis.text.x = element_blank(),\n",
    "      axis.ticks.x = element_blank()\n",
    "      )"
   ]
  },
  {
   "cell_type": "code",
   "execution_count": null,
   "id": "b972daab",
   "metadata": {},
   "outputs": [],
   "source": []
  },
  {
   "cell_type": "code",
   "execution_count": null,
   "id": "5bb18c35",
   "metadata": {},
   "outputs": [],
   "source": [
    "ls()"
   ]
  },
  {
   "cell_type": "code",
   "execution_count": null,
   "id": "b6879843",
   "metadata": {},
   "outputs": [],
   "source": []
  },
  {
   "cell_type": "code",
   "execution_count": null,
   "id": "dd37ac39",
   "metadata": {},
   "outputs": [],
   "source": [
    "cd8_l1_full_filt$Experiment_ID  %>% table"
   ]
  },
  {
   "cell_type": "code",
   "execution_count": null,
   "id": "b0bae29b",
   "metadata": {},
   "outputs": [],
   "source": [
    "cd8_l1_full_filt@meta.data  %>% group_by(Experiment_ID, Disease, Patient_ID)  %>% tally  %>% \n",
    "dplyr::select(-n)  %>% \n",
    "group_by(Experiment_ID, Disease)  %>%\n",
    "tally()"
   ]
  },
  {
   "cell_type": "code",
   "execution_count": null,
   "id": "72f0f3c0",
   "metadata": {},
   "outputs": [],
   "source": [
    "cd8_l1_full_filt@meta.data  %>% group_by(Experiment_ID, Condition, Patient_ID)  %>% tally  %>% \n",
    "dplyr::select(-n)  %>% \n",
    "group_by(Experiment_ID, Condition)  %>%\n",
    "tally()  %>% \n",
    "pivot_wider(names_from = Condition, values_from = n)"
   ]
  },
  {
   "cell_type": "code",
   "execution_count": null,
   "id": "e5701920",
   "metadata": {},
   "outputs": [],
   "source": [
    "cd4_l1_full_filt@meta.data  %>% group_by(Experiment_ID, Condition, Patient_ID)  %>% tally  %>% \n",
    "dplyr::select(-n)  %>% \n",
    "group_by(Experiment_ID, Condition)  %>%\n",
    "tally()  %>% \n",
    "pivot_wider(names_from = Condition, values_from = n)"
   ]
  },
  {
   "cell_type": "code",
   "execution_count": null,
   "id": "4ddd1030",
   "metadata": {},
   "outputs": [],
   "source": [
    "\"ACTN4\", \"ADAM19\", \"AHR\", \"AKIRIN2\", \"ALCAM\", \"ALOX5AP\", \"SLF1\", \"ANTXR2\", \"ANXA1\", \"ANXA2\", \"ANXA2P1\", \"ANXA4\", \"AQP3\", \"ARHGAP18\", \"ASB2\", \"ATP2B4\", \"ATXN1\", \"B3GNT9\", \"BTG3\", \"SMCO4\", \"LACC1\", \"MIR22HG\", \"SMIM29\", \"CALHM2\", \"CAPG\", \"CASK\", \"CAST\", \"CBLL1\", \"CCDC107\", \"CCL5\", \"CCR2\", \"CCR6\", \"CD226\", \"CD28\", \"CD58\", \"CD63\", \"CD74\", \"CD84\", \"CDC42EP3\", \"CDK2AP2\", \"CHST7\", \"CLDND1\", \"CLIC1\", \"CLU\", \"CNPPD1\", \"COTL1\", \"CPPED1\", \"CREB3L2\", \"CRELD2\", \"CRIP1\", \"CRYBG3\", \"CTSA\", \"CTSC\", \"CXCR3\", \"DNAI2\", \"DUSP16\", \"DUSP5\", \"EFHD2\", \"AGO4\", \"EIF3A\", \"EIF4EBP2\", \"ELOVL5\", \"EPS15\", \"EVI2B\", \"NIBAN1\", \"ZC2HC1A\", \"PIEZO1\", \"FAR2\", \"FAS\", \"FBXL8\", \"FRMD4B\", \"GBP3\", \"GCLM\", \"GDPD5\", \"GLIPR1\", \"GOLGA7\", \"GSTK1\", \"GZMA\", \"GZMK\", \"HLA-DPA1\", \"HMGN4\", \"JPT1\", \"HNRNPLL\", \"HOPX\", \"IFI16\", \"IFI27\", \"IFNG\", \"IL10RA\", \"IL15RA\", \"IQGAP1\", \"IQGAP2\", \"ITGB1\", \"MATCAP1\", \"KIF1B\", \"KIF21A\", \"KLRB1\", \"LDHA\", \"LGALS1\", \"LGALS3\", \"LIMS1\", \"LIMS3\", \"WDR86-AS1\", \"\", \"\", \"\", \"\", \"MAP3K5\", \"MDFIC\", \"MFHAS1\", \"MIAT\", \"MIB1\", \"MICAL2\", \"MIS18BP1\", \"MLF1\", \"AFDN\", \"MTSS1\", \"MYBL1\", \"MYL6\", \"MYO1F\", \"NCAPH\", \"NCF4\", \"NETO2\", \"NINJ2\", \"NMU\", \"NOD2\", \"NPC1\", \"NPDC1\", \"NABP1\", \"NABP2\", \"OGDH\", \"OGFRL1\", \"OSBPL3\", \"PAM\", \"PDIA6\", \"PEA15\", \"PFKL\", \"PHACTR2\", \"PHTF2\", \"PLXNC1\", \"PPIF\", \"PPP1CA\", \"PREX1\", \"PRR5L\", \"PTTG1\", \"NECTIN3\", \"RAB27A\", \"REEP3\", \"REEP5\", \"RFTN1\", \"RGS3\", \"RHOU\", \"RNF126\", \"RNF149\", \"RORA\", \"S100A11\", \"S100A4\", \"SAP30\", \"SEC11C\", \"SH2D1A\", \"SH3BGRL3\", \"SH3BP5\", \"SLC2A3\", \"SLC35D2\", \"NHERF1\", \"SMAP1\", \"SPAG1\", \"SPOPL\", \"SRGN\", \"SSR3\", \"ST8SIA1\", \"STOM\", \"STX11\", \"TBCB\", \"TBX21\", \"TIGIT\", \"TLR3\", \"TMEM116\", \"TMEM156\", \"TMEM200A\", \"TMEM64\", \"TMX4\", \"TNF\", \"TNFRSF4\", \"TOR3A\", \"TP53INP1\", \"TPM4\", \"TRAC\", \"TRADD\", \"TTC39C\", \"TTYH2\", \"TXN\", \"TYMP\", \"UBL3\", \"USP46\", \"UST\", \"VCL\", \"YWHAH\", \"ZBTB38\", \"ZC3HAV1L\", \"ZNF532\"\n"
   ]
  },
  {
   "cell_type": "code",
   "execution_count": null,
   "id": "acb9054a",
   "metadata": {},
   "outputs": [],
   "source": [
    "aggexp_cd4  <- AddModuleScore(aggexp_cd4, ctrl = 50, name = \"Eff_Module_Score\",\n",
    "                              features = list(c(\n",
    "\"ACTN4\", \"ADAM19\", \"AHR\", \"AKIRIN2\", \"ALCAM\", \"ALOX5AP\", \"SLF1\", \"ANTXR2\", \"ANXA1\", \"ANXA2\", \"ANXA2P1\", \"ANXA4\", \"AQP3\", \"ARHGAP18\", \"ASB2\", \"ATP2B4\", \"ATXN1\", \"B3GNT9\", \"BTG3\", \"SMCO4\", \"LACC1\", \"MIR22HG\", \"SMIM29\", \"CALHM2\", \"CAPG\", \"CASK\", \"CAST\", \"CBLL1\", \"CCDC107\", \"CCL5\", \"CCR2\", \"CCR6\", \"CD226\", \"CD28\", \"CD58\", \"CD63\", \"CD74\", \"CD84\", \"CDC42EP3\", \"CDK2AP2\", \"CHST7\", \"CLDND1\", \"CLIC1\", \"CLU\", \"CNPPD1\", \"COTL1\", \"CPPED1\", \"CREB3L2\", \"CRELD2\", \"CRIP1\", \"CRYBG3\", \"CTSA\", \"CTSC\", \"CXCR3\", \"DNAI2\", \"DUSP16\", \"DUSP5\", \"EFHD2\", \"AGO4\", \"EIF3A\", \"EIF4EBP2\", \"ELOVL5\", \"EPS15\", \"EVI2B\", \"NIBAN1\", \"ZC2HC1A\", \"PIEZO1\", \"FAR2\", \"FAS\", \"FBXL8\", \"FRMD4B\", \"GBP3\", \"GCLM\", \"GDPD5\", \"GLIPR1\", \"GOLGA7\", \"GSTK1\", \"GZMA\", \"GZMK\", \"HLA-DPA1\", \"HMGN4\", \"JPT1\", \"HNRNPLL\", \"HOPX\", \"IFI16\", \"IFI27\", \"IFNG\", \"IL10RA\", \"IL15RA\", \"IQGAP1\", \"IQGAP2\", \"ITGB1\", \"MATCAP1\", \"KIF1B\", \"KIF21A\", \"KLRB1\", \"LDHA\", \"LGALS1\", \"LGALS3\", \"LIMS1\", \"LIMS3\", \"WDR86-AS1\", \"\", \"\", \"\", \"\", \"MAP3K5\", \"MDFIC\", \"MFHAS1\", \"MIAT\", \"MIB1\", \"MICAL2\", \"MIS18BP1\", \"MLF1\", \"AFDN\", \"MTSS1\", \"MYBL1\", \"MYL6\", \"MYO1F\", \"NCAPH\", \"NCF4\", \"NETO2\", \"NINJ2\", \"NMU\", \"NOD2\", \"NPC1\", \"NPDC1\", \"NABP1\", \"NABP2\", \"OGDH\", \"OGFRL1\", \"OSBPL3\", \"PAM\", \"PDIA6\", \"PEA15\", \"PFKL\", \"PHACTR2\", \"PHTF2\", \"PLXNC1\", \"PPIF\", \"PPP1CA\", \"PREX1\", \"PRR5L\", \"PTTG1\", \"NECTIN3\", \"RAB27A\", \"REEP3\", \"REEP5\", \"RFTN1\", \"RGS3\", \"RHOU\", \"RNF126\", \"RNF149\", \"RORA\", \"S100A11\", \"S100A4\", \"SAP30\", \"SEC11C\", \"SH2D1A\", \"SH3BGRL3\", \"SH3BP5\", \"SLC2A3\", \"SLC35D2\", \"NHERF1\", \"SMAP1\", \"SPAG1\", \"SPOPL\", \"SRGN\", \"SSR3\", \"ST8SIA1\", \"STOM\", \"STX11\", \"TBCB\", \"TBX21\", \"TIGIT\", \"TLR3\", \"TMEM116\", \"TMEM156\", \"TMEM200A\", \"TMEM64\", \"TMX4\", \"TNF\", \"TNFRSF4\", \"TOR3A\", \"TP53INP1\", \"TPM4\", \"TRAC\", \"TRADD\", \"TTC39C\", \"TTYH2\", \"TXN\", \"TYMP\", \"UBL3\", \"USP46\", \"UST\", \"VCL\", \"YWHAH\", \"ZBTB38\", \"ZC3HAV1L\", \"ZNF532\"\n",
    ")))"
   ]
  },
  {
   "cell_type": "code",
   "execution_count": null,
   "id": "66d5f967",
   "metadata": {},
   "outputs": [],
   "source": [
    "VlnPlot(aggexp_cd4, features = \"Eff_Module_Score1\", group.by = \"Condition\") +\n",
    "ggpubr::stat_compare_means(comparisons = list(c(1,2)))"
   ]
  },
  {
   "cell_type": "code",
   "execution_count": null,
   "id": "1abf7e9b",
   "metadata": {},
   "outputs": [],
   "source": [
    "df  <- data.frame(score = aggexp_cd4$Eff_Module_Score1,\n",
    "                 Condition = aggexp_cd4$Condition)"
   ]
  },
  {
   "cell_type": "code",
   "execution_count": null,
   "id": "d8231449",
   "metadata": {},
   "outputs": [],
   "source": [
    "df  %>% ggplot(aes(x = Condition, y = score)) +\n",
    "geom_violin(scale = \"width\", aes(fill = Condition), alpha = 0.4) +\n",
    "stat_summary(fun = \"median\",\n",
    "               geom = \"crossbar\", \n",
    "               width = 0.75,\n",
    "               color = \"grey30\") +\n",
    "geom_beeswarm(size = 3, aes(fill = Condition), cex = 3, \n",
    "                shape = 21, color = \"black\", corral = \"random\") +\n",
    " stat_compare_means(label = \"p.format\", comparisons = list(c(1,2))) +\n",
    "theme_classic() +\n",
    "ggtheme() +\n",
    "scale_fill_manual(values = c(\"#1874cdff\",  \"#ee6363ff\", \"#c41515ff\",\"#eeb4b4ff\")) +\n",
    "scale_color_manual(values = c(\"dodgerblue3\",  \"#e54c4cff\", \"#aa2a2aff\",\"#e88989ff\")) +\n",
    "ylab(\"\") +\n",
    "  xlab(\"\") +\n",
    "theme(axis.text.x = element_blank(),\n",
    "      axis.ticks.x = element_blank())\n"
   ]
  },
  {
   "cell_type": "code",
   "execution_count": null,
   "id": "bf1caa8f",
   "metadata": {},
   "outputs": [],
   "source": [
    "aggexp_cd8  <- AddModuleScore(aggexp_cd8, ctrl = 50, name = \"Eff_Module_Score\",\n",
    "                              features = list(c(\n",
    "\"ACTN4\", \"ADAM19\", \"AHR\", \"AKIRIN2\", \"ALCAM\", \"ALOX5AP\", \"SLF1\", \"ANTXR2\", \"ANXA1\", \"ANXA2\", \"ANXA2P1\", \"ANXA4\", \"AQP3\", \"ARHGAP18\", \"ASB2\", \"ATP2B4\", \"ATXN1\", \"B3GNT9\", \"BTG3\", \"SMCO4\", \"LACC1\", \"MIR22HG\", \"SMIM29\", \"CALHM2\", \"CAPG\", \"CASK\", \"CAST\", \"CBLL1\", \"CCDC107\", \"CCL5\", \"CCR2\", \"CCR6\", \"CD226\", \"CD28\", \"CD58\", \"CD63\", \"CD74\", \"CD84\", \"CDC42EP3\", \"CDK2AP2\", \"CHST7\", \"CLDND1\", \"CLIC1\", \"CLU\", \"CNPPD1\", \"COTL1\", \"CPPED1\", \"CREB3L2\", \"CRELD2\", \"CRIP1\", \"CRYBG3\", \"CTSA\", \"CTSC\", \"CXCR3\", \"DNAI2\", \"DUSP16\", \"DUSP5\", \"EFHD2\", \"AGO4\", \"EIF3A\", \"EIF4EBP2\", \"ELOVL5\", \"EPS15\", \"EVI2B\", \"NIBAN1\", \"ZC2HC1A\", \"PIEZO1\", \"FAR2\", \"FAS\", \"FBXL8\", \"FRMD4B\", \"GBP3\", \"GCLM\", \"GDPD5\", \"GLIPR1\", \"GOLGA7\", \"GSTK1\", \"GZMA\", \"GZMK\", \"HLA-DPA1\", \"HMGN4\", \"JPT1\", \"HNRNPLL\", \"HOPX\", \"IFI16\", \"IFI27\", \"IFNG\", \"IL10RA\", \"IL15RA\", \"IQGAP1\", \"IQGAP2\", \"ITGB1\", \"MATCAP1\", \"KIF1B\", \"KIF21A\", \"KLRB1\", \"LDHA\", \"LGALS1\", \"LGALS3\", \"LIMS1\", \"LIMS3\", \"WDR86-AS1\", \"\", \"\", \"\", \"\", \"MAP3K5\", \"MDFIC\", \"MFHAS1\", \"MIAT\", \"MIB1\", \"MICAL2\", \"MIS18BP1\", \"MLF1\", \"AFDN\", \"MTSS1\", \"MYBL1\", \"MYL6\", \"MYO1F\", \"NCAPH\", \"NCF4\", \"NETO2\", \"NINJ2\", \"NMU\", \"NOD2\", \"NPC1\", \"NPDC1\", \"NABP1\", \"NABP2\", \"OGDH\", \"OGFRL1\", \"OSBPL3\", \"PAM\", \"PDIA6\", \"PEA15\", \"PFKL\", \"PHACTR2\", \"PHTF2\", \"PLXNC1\", \"PPIF\", \"PPP1CA\", \"PREX1\", \"PRR5L\", \"PTTG1\", \"NECTIN3\", \"RAB27A\", \"REEP3\", \"REEP5\", \"RFTN1\", \"RGS3\", \"RHOU\", \"RNF126\", \"RNF149\", \"RORA\", \"S100A11\", \"S100A4\", \"SAP30\", \"SEC11C\", \"SH2D1A\", \"SH3BGRL3\", \"SH3BP5\", \"SLC2A3\", \"SLC35D2\", \"NHERF1\", \"SMAP1\", \"SPAG1\", \"SPOPL\", \"SRGN\", \"SSR3\", \"ST8SIA1\", \"STOM\", \"STX11\", \"TBCB\", \"TBX21\", \"TIGIT\", \"TLR3\", \"TMEM116\", \"TMEM156\", \"TMEM200A\", \"TMEM64\", \"TMX4\", \"TNF\", \"TNFRSF4\", \"TOR3A\", \"TP53INP1\", \"TPM4\", \"TRAC\", \"TRADD\", \"TTC39C\", \"TTYH2\", \"TXN\", \"TYMP\", \"UBL3\", \"USP46\", \"UST\", \"VCL\", \"YWHAH\", \"ZBTB38\", \"ZC3HAV1L\", \"ZNF532\"\n",
    ")))"
   ]
  },
  {
   "cell_type": "code",
   "execution_count": null,
   "id": "a48cb6cb",
   "metadata": {},
   "outputs": [],
   "source": [
    "VlnPlot(aggexp_cd8, features = \"Eff_Module_Score1\", group.by = \"Condition\") +\n",
    "ggpubr::stat_compare_means(comparisons = list(c(1,2)))"
   ]
  },
  {
   "cell_type": "code",
   "execution_count": null,
   "id": "314d7cbf",
   "metadata": {},
   "outputs": [],
   "source": [
    "df  <- data.frame(score = aggexp_cd8$Eff_Module_Score1,\n",
    "                 Condition = aggexp_cd8$Condition)"
   ]
  },
  {
   "cell_type": "code",
   "execution_count": null,
   "id": "be469a0c",
   "metadata": {},
   "outputs": [],
   "source": [
    "df  %>% ggplot(aes(x = Condition, y = score)) +\n",
    "geom_violin(scale = \"width\", aes(fill = Condition), alpha = 0.4) +\n",
    "stat_summary(fun = \"median\",\n",
    "               geom = \"crossbar\", \n",
    "               width = 0.75,\n",
    "               color = \"grey30\") +\n",
    "geom_beeswarm(size = 3, aes(fill = Condition), cex = 3, \n",
    "                shape = 21, color = \"black\", corral = \"random\") +\n",
    " stat_compare_means(label = \"p.format\", comparisons = list(c(1,2))) +\n",
    "theme_classic() +\n",
    "ggtheme() +\n",
    "scale_fill_manual(values = c(\"#1874cdff\",  \"#ee6363ff\", \"#c41515ff\",\"#eeb4b4ff\")) +\n",
    "scale_color_manual(values = c(\"dodgerblue3\",  \"#e54c4cff\", \"#aa2a2aff\",\"#e88989ff\")) +\n",
    "ylab(\"\") +\n",
    "  xlab(\"\") +\n",
    "theme(axis.text.x = element_blank(),\n",
    "      axis.ticks.x = element_blank())"
   ]
  },
  {
   "cell_type": "code",
   "execution_count": null,
   "id": "26c41681",
   "metadata": {},
   "outputs": [],
   "source": []
  }
 ],
 "metadata": {
  "kernelspec": {
   "display_name": "R",
   "language": "R",
   "name": "ir"
  },
  "language_info": {
   "codemirror_mode": "r",
   "file_extension": ".r",
   "mimetype": "text/x-r-source",
   "name": "R",
   "pygments_lexer": "r",
   "version": "4.5.0"
  },
  "toc": {
   "base_numbering": 1,
   "nav_menu": {},
   "number_sections": true,
   "sideBar": true,
   "skip_h1_title": false,
   "title_cell": "Table of Contents",
   "title_sidebar": "Contents",
   "toc_cell": false,
   "toc_position": {},
   "toc_section_display": true,
   "toc_window_display": true
  }
 },
 "nbformat": 4,
 "nbformat_minor": 5
}
