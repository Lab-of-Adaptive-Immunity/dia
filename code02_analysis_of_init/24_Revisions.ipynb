{
 "cells": [
  {
   "cell_type": "markdown",
   "id": "4b929476",
   "metadata": {},
   "source": [
    "# Part 24: Revisions"
   ]
  },
  {
   "cell_type": "markdown",
   "id": "13d2db8d",
   "metadata": {},
   "source": [
    "In tis document, we address various questions raised by the reviewers. "
   ]
  },
  {
   "cell_type": "code",
   "execution_count": null,
   "id": "3f42caa8",
   "metadata": {
    "scrolled": true
   },
   "outputs": [],
   "source": [
    "source(\"diabetes_analysis_v07.R\")"
   ]
  },
  {
   "cell_type": "markdown",
   "id": "456443eb",
   "metadata": {},
   "source": [
    "Formating plots:\n"
   ]
  },
  {
   "cell_type": "code",
   "execution_count": null,
   "id": "98424781",
   "metadata": {},
   "outputs": [],
   "source": [
    "ggtheme <- function() {\n",
    "  theme(\n",
    "    axis.text = element_text(size = 20),\n",
    "    axis.title = element_text(size = 20),\n",
    "    text = element_text(size = 20, colour = \"black\"),\n",
    "    legend.text = element_text(size = 20),\n",
    "    legend.key.size =  unit(10, units = \"points\")\n",
    "    \n",
    "  )\n",
    "}"
   ]
  },
  {
   "cell_type": "markdown",
   "id": "4f22a318",
   "metadata": {},
   "source": [
    "# Phenotype of Naive cells"
   ]
  },
  {
   "cell_type": "code",
   "execution_count": null,
   "id": "46df2461",
   "metadata": {},
   "outputs": [],
   "source": [
    "cd4_l2_subcluster  <- readRDS(\"../../240218_VN_Diabetes_V05/data/processed/L2/cd4_subcluster.rds\")\n",
    "cd8_l2_subcluster  <- readRDS(\"../../240218_VN_Diabetes_V05/data/processed/L2/cd8_l2_subcluster.rds\")"
   ]
  },
  {
   "cell_type": "code",
   "execution_count": null,
   "id": "be4fbfed",
   "metadata": {},
   "outputs": [],
   "source": [
    "cd4_naive  <- readRDS(\"../../240218_VN_Diabetes_V05/data/processed/L3/cd4_l3_naive.rds\")\n",
    "cd8_naive  <- readRDS(\"../../240218_VN_Diabetes_V05/data/processed/L3/cd8_l3_naive.rds\")"
   ]
  },
  {
   "cell_type": "code",
   "execution_count": null,
   "id": "8e83dab3",
   "metadata": {},
   "outputs": [],
   "source": [
    "ls()"
   ]
  },
  {
   "cell_type": "markdown",
   "id": "1155fac3",
   "metadata": {},
   "source": [
    "## Coexpression of naive markers in the same cells"
   ]
  },
  {
   "cell_type": "markdown",
   "id": "87babe1e",
   "metadata": {},
   "source": [
    "### CD4"
   ]
  },
  {
   "cell_type": "code",
   "execution_count": null,
   "id": "4940d9ff",
   "metadata": {},
   "outputs": [],
   "source": [
    "DefaultAssay(cd4_naive)  <- \"RNA\""
   ]
  },
  {
   "cell_type": "code",
   "execution_count": null,
   "id": "71935c4c",
   "metadata": {},
   "outputs": [],
   "source": [
    "options(repr.plot.width = 9, repr.plot.height = 5)\n",
    "DimPlot(cd4_naive, group.by = \"annotations_manual\")"
   ]
  },
  {
   "cell_type": "code",
   "execution_count": null,
   "id": "25cdd3c9",
   "metadata": {},
   "outputs": [],
   "source": [
    "options(repr.plot.width = 15, repr.plot.height = 8)\n",
    "FeaturePlot(cd4_naive, features = c(\"LEF1\", \"BACH2\", \"IL7R\", \"CXCR4\", \"ZFP36L2\",\n",
    "                                    \"BTG1\",\"BTG2\",\"KLF2\",\"IL7R\"), min.cutoff = 0,\n",
    "           ncol = 4)"
   ]
  },
  {
   "cell_type": "code",
   "execution_count": null,
   "id": "1d7f8988",
   "metadata": {},
   "outputs": [],
   "source": [
    "options(repr.plot.width = 6, repr.plot.height = 5)\n",
    "VlnPlot(cd4_naive, group.by = \"annotations_manual\", features = c(\"LEF1\"), pt.size = 0) + NoLegend()\n",
    "VlnPlot(cd4_naive, group.by = \"annotations_manual\", features = c(\"BACH2\"), pt.size = 0) + NoLegend()\n",
    "VlnPlot(cd4_naive, group.by = \"annotations_manual\", features = c(\"IL7R\"), pt.size = 0) + NoLegend()\n",
    "VlnPlot(cd4_naive, group.by = \"annotations_manual\", features = c(\"CXCR4\"), pt.size = 0) + NoLegend()\n",
    "VlnPlot(cd4_naive, group.by = \"annotations_manual\", features = c(\"ZFP36L2\"), pt.size = 0) + NoLegend()\n",
    "VlnPlot(cd4_naive, group.by = \"annotations_manual\", features = c(\"BTG1\"), pt.size = 0) + NoLegend()\n",
    "VlnPlot(cd4_naive, group.by = \"annotations_manual\", features = c(\"BTG2\"), pt.size = 0) + NoLegend()\n",
    "VlnPlot(cd4_naive, group.by = \"annotations_manual\", features = c(\"KLF2\"), pt.size = 0) + NoLegend()"
   ]
  },
  {
   "cell_type": "code",
   "execution_count": null,
   "id": "bc08674c",
   "metadata": {
    "scrolled": true
   },
   "outputs": [],
   "source": [
    "options(repr.plot.width=10, repr.plot.height=16)\n",
    "pct_expressing_boxplot(seurat_object = cd4_naive, group.by = \"annotations_manual\", gene = \"LEF1\", sample.col = \"Sample_ID\") +\n",
    "pct_expressing_boxplot(seurat_object = cd4_naive, group.by = \"annotations_manual\", gene = \"BACH2\", sample.col = \"Sample_ID\") +\n",
    "pct_expressing_boxplot(seurat_object = cd4_naive, group.by = \"annotations_manual\", gene = \"IL7R\", sample.col = \"Sample_ID\") +\n",
    "pct_expressing_boxplot(seurat_object = cd4_naive, group.by = \"annotations_manual\", gene = \"CXCR4\", sample.col = \"Sample_ID\") +\n",
    "pct_expressing_boxplot(seurat_object = cd4_naive, group.by = \"annotations_manual\", gene = \"ZFP36L2\", sample.col = \"Sample_ID\") +\n",
    "pct_expressing_boxplot(seurat_object = cd4_naive, group.by = \"annotations_manual\", gene = \"BTG1\", sample.col = \"Sample_ID\") +\n",
    "pct_expressing_boxplot(seurat_object = cd4_naive, group.by = \"annotations_manual\", gene = \"BTG2\", sample.col = \"Sample_ID\") +\n",
    "pct_expressing_boxplot(seurat_object = cd4_naive, group.by = \"annotations_manual\", gene = \"KLF2\", sample.col = \"Sample_ID\") +\n",
    "plot_layout(ncol = 4)"
   ]
  },
  {
   "cell_type": "markdown",
   "id": "5aceb510",
   "metadata": {},
   "source": [
    "### CD8"
   ]
  },
  {
   "cell_type": "code",
   "execution_count": null,
   "id": "38f692c8",
   "metadata": {},
   "outputs": [],
   "source": [
    "options(repr.plot.width = 9, repr.plot.height = 5)\n",
    "DimPlot(cd8_naive, group.by = \"annotations_manual\")"
   ]
  },
  {
   "cell_type": "code",
   "execution_count": null,
   "id": "aa81c172",
   "metadata": {},
   "outputs": [],
   "source": [
    "DefaultAssay(cd8_naive)  <- \"RNA\""
   ]
  },
  {
   "cell_type": "code",
   "execution_count": null,
   "id": "da0dd117",
   "metadata": {
    "scrolled": true
   },
   "outputs": [],
   "source": [
    "options(repr.plot.width = 15, repr.plot.height = 8)\n",
    "FeaturePlot(cd8_naive, features = c(\"LEF1\", \"BACH2\", \"IL7R\", \"CXCR4\", \"ZFP36L2\",\n",
    "                                    \"BTG1\",\"BTG2\",\"KLF2\",\"IL7R\"), min.cutoff = 0,\n",
    "           ncol = 4)"
   ]
  },
  {
   "cell_type": "code",
   "execution_count": null,
   "id": "bb750622",
   "metadata": {},
   "outputs": [],
   "source": [
    "options(repr.plot.width = 6, repr.plot.height = 5)\n",
    "VlnPlot(cd8_naive, group.by = \"annotations_manual\", features = c(\"LEF1\"), pt.size = 0) + NoLegend()\n",
    "VlnPlot(cd8_naive, group.by = \"annotations_manual\", features = c(\"BACH2\"), pt.size = 0) + NoLegend()\n",
    "VlnPlot(cd8_naive, group.by = \"annotations_manual\", features = c(\"IL7R\"), pt.size = 0) + NoLegend()\n",
    "VlnPlot(cd8_naive, group.by = \"annotations_manual\", features = c(\"CXCR4\"), pt.size = 0) + NoLegend()\n",
    "VlnPlot(cd8_naive, group.by = \"annotations_manual\", features = c(\"ZFP36L2\"), pt.size = 0) + NoLegend()\n",
    "VlnPlot(cd8_naive, group.by = \"annotations_manual\", features = c(\"BTG1\"), pt.size = 0) + NoLegend()\n",
    "VlnPlot(cd8_naive, group.by = \"annotations_manual\", features = c(\"BTG2\"), pt.size = 0) + NoLegend()\n",
    "VlnPlot(cd8_naive, group.by = \"annotations_manual\", features = c(\"KLF2\"), pt.size = 0) + NoLegend()"
   ]
  },
  {
   "cell_type": "code",
   "execution_count": null,
   "id": "8df4c637",
   "metadata": {},
   "outputs": [],
   "source": [
    "pct_expressing_boxplot  <- function(seurat_object, gene, group.by = \"annotations_l2\", sample.col = \"sample\"){\n",
    "   rn = which(rownames(seurat_object@assays$RNA)==gene)\n",
    "ggtheme = function() {\n",
    "  theme(\n",
    "    axis.text = element_text(size = 20),\n",
    "    axis.title = element_text(size = 20),\n",
    "    text = element_text(size = 20, colour = \"black\"),\n",
    "    legend.text = element_text(size = 20),\n",
    "    legend.key.size =  unit(10, units = \"points\")\n",
    "    \n",
    "  )\n",
    "}\n",
    "\n",
    "df = data.frame(grouping_var = seurat_object@meta.data[[group.by]],\n",
    "               value = seurat_object@assays$RNA@counts[rn,], \n",
    "               sample = seurat_object@meta.data[[sample.col]])  %>% \n",
    "mutate(expressing = if_else(value>0,1,0))  %>% \n",
    "dplyr::select(-value)  %>% \n",
    "group_by(sample, grouping_var)  %>% \n",
    "summarise(mean_expression = mean(expressing))  %>% \n",
    "pivot_wider(names_from = sample, values_from = mean_expression, values_fill = 0)  %>% \n",
    "pivot_longer(!grouping_var, names_to = \"sample\", values_to = \"expressing\")\n",
    "\n",
    "plt = ggplot(data = df, aes(x = grouping_var, y = expressing)) +\n",
    "geom_boxplot(outlier.shape = NA, aes(fill = grouping_var), alpha = 0.3) + \n",
    "  geom_dotplot(binaxis='y', stackdir='center', dotsize=0) + \n",
    "  geom_jitter(width = 0.1, height = 0.0, size = 2, aes(color = grouping_var)) +\n",
    "theme_classic() +\n",
    "    theme(plot.title = element_text(hjust = 0.5)) +\n",
    "    theme(axis.text.x = element_text(angle = 90, vjust = 0.5)) +\n",
    "ggtheme() +\n",
    "    ggtitle(gene) +\n",
    "    ylab(\"Pct expressing cells\") +\n",
    "xlab(\"\") + NoLegend()\n",
    "    return(plt)\n",
    "    }\n"
   ]
  },
  {
   "cell_type": "code",
   "execution_count": null,
   "id": "1c2c89da",
   "metadata": {
    "scrolled": true
   },
   "outputs": [],
   "source": [
    "options(repr.plot.width=10, repr.plot.height=16)\n",
    "pct_expressing_boxplot(seurat_object = cd8_naive, group.by = \"annotations_manual\", gene = \"LEF1\", sample.col = \"Sample_ID\") +\n",
    "pct_expressing_boxplot(seurat_object = cd8_naive, group.by = \"annotations_manual\", gene = \"BACH2\", sample.col = \"Sample_ID\") +\n",
    "pct_expressing_boxplot(seurat_object = cd8_naive, group.by = \"annotations_manual\", gene = \"IL7R\", sample.col = \"Sample_ID\") +\n",
    "pct_expressing_boxplot(seurat_object = cd8_naive, group.by = \"annotations_manual\", gene = \"CXCR4\", sample.col = \"Sample_ID\") +\n",
    "pct_expressing_boxplot(seurat_object = cd8_naive, group.by = \"annotations_manual\", gene = \"ZFP36L2\", sample.col = \"Sample_ID\") +\n",
    "pct_expressing_boxplot(seurat_object = cd8_naive, group.by = \"annotations_manual\", gene = \"BTG1\", sample.col = \"Sample_ID\") +\n",
    "pct_expressing_boxplot(seurat_object = cd8_naive, group.by = \"annotations_manual\", gene = \"BTG2\", sample.col = \"Sample_ID\") +\n",
    "pct_expressing_boxplot(seurat_object = cd8_naive, group.by = \"annotations_manual\", gene = \"KLF2\", sample.col = \"Sample_ID\") +\n",
    "plot_layout(ncol = 4)"
   ]
  },
  {
   "cell_type": "code",
   "execution_count": null,
   "id": "073f9179",
   "metadata": {},
   "outputs": [],
   "source": [
    "DefaultAssay(cd8_l2_subcluster)  <- \"RNA\"\n",
    "\n",
    "options(repr.plot.width = 15, repr.plot.height = 8)\n",
    "FeaturePlot(cd8_l1_full_filt, features = c(\"LEF1\", \"BACH2\", \"IL7R\", \"CXCR4\", \"ZFP36L2\",\n",
    "                                    \"BTG1\",\"BTG2\",\"KLF2\",\"IL7R\"), min.cutoff = 0,\n",
    "           ncol = 4)"
   ]
  },
  {
   "cell_type": "code",
   "execution_count": null,
   "id": "73a62be1",
   "metadata": {},
   "outputs": [],
   "source": [
    "DefaultAssay(cd8_l2_subcluster)  <- \"RNA\"\n",
    "\n",
    "options(repr.plot.width = 15, repr.plot.height = 8)\n",
    "FeaturePlot(cd8_l1_full_filt, features = c(\"KLRG1\", \"SELL\", \"CCR7\", \"CXCR3\", \"TCF7\",\n",
    "                                    \"CX3CR1\",\"CD27\",\"CD28\"), min.cutoff = 0,\n",
    "           ncol = 4)"
   ]
  },
  {
   "cell_type": "code",
   "execution_count": null,
   "id": "18eafe8e",
   "metadata": {},
   "outputs": [],
   "source": [
    "options(repr.plot.width=13, repr.plot.height=16)\n",
    "pct_expressing_boxplot(seurat_object = cd8_l1_full_filt, group.by = \"annotations_l2\", gene = \"LEF1\", sample.col = \"Sample_ID\") +\n",
    "pct_expressing_boxplot(seurat_object = cd8_l1_full_filt, group.by = \"annotations_l2\", gene = \"BACH2\", sample.col = \"Sample_ID\") +\n",
    "pct_expressing_boxplot(seurat_object = cd8_l1_full_filt, group.by = \"annotations_l2\", gene = \"IL7R\", sample.col = \"Sample_ID\") +\n",
    "pct_expressing_boxplot(seurat_object = cd8_l1_full_filt, group.by = \"annotations_l2\", gene = \"CXCR4\", sample.col = \"Sample_ID\") +\n",
    "pct_expressing_boxplot(seurat_object = cd8_l1_full_filt, group.by = \"annotations_l2\", gene = \"ZFP36L2\", sample.col = \"Sample_ID\") +\n",
    "pct_expressing_boxplot(seurat_object = cd8_l1_full_filt, group.by = \"annotations_l2\", gene = \"BTG1\", sample.col = \"Sample_ID\") +\n",
    "pct_expressing_boxplot(seurat_object = cd8_l1_full_filt, group.by = \"annotations_l2\", gene = \"BTG2\", sample.col = \"Sample_ID\") +\n",
    "pct_expressing_boxplot(seurat_object = cd8_l1_full_filt, group.by = \"annotations_l2\", gene = \"KLF2\", sample.col = \"Sample_ID\") +\n",
    "plot_layout(ncol = 4)"
   ]
  },
  {
   "cell_type": "markdown",
   "id": "5f509641",
   "metadata": {},
   "source": [
    "## Wherry annotations"
   ]
  },
  {
   "cell_type": "code",
   "execution_count": null,
   "id": "36a1b4f2",
   "metadata": {},
   "outputs": [],
   "source": [
    "load(\"../../VN_misc/ref_wherry_new.RData\")"
   ]
  },
  {
   "cell_type": "code",
   "execution_count": null,
   "id": "0e76462a",
   "metadata": {},
   "outputs": [],
   "source": [
    "ref_wherry_new"
   ]
  },
  {
   "cell_type": "code",
   "execution_count": null,
   "id": "55f245b3",
   "metadata": {},
   "outputs": [],
   "source": [
    "plan(\"multisession\")"
   ]
  },
  {
   "cell_type": "code",
   "execution_count": null,
   "id": "4e0bc70a",
   "metadata": {},
   "outputs": [],
   "source": [
    "cd8_naive_matrix  <- cd8_naive@assays$RNA@counts\n",
    "\n",
    "cd8_full_matrix  <- cd8_l1_full_filt@assays$RNA@counts\n"
   ]
  },
  {
   "cell_type": "markdown",
   "id": "087482d9",
   "metadata": {},
   "source": [
    "### Annotation of CD8 Naive"
   ]
  },
  {
   "cell_type": "code",
   "execution_count": null,
   "id": "28a45503",
   "metadata": {},
   "outputs": [],
   "source": [
    "### Annotate the dataset with Wherry dataset\n",
    "        pred.singler2 <- SingleR(test = cd8_naive_matrix, ref = ref_wherry_new$matrix,\n",
    "        labels = ref_wherry_new$labels, de.method=\"wilcox\", fine.tune = F, num.threads = 4)\n"
   ]
  },
  {
   "cell_type": "code",
   "execution_count": null,
   "id": "a3d9d1de",
   "metadata": {
    "scrolled": true
   },
   "outputs": [],
   "source": [
    "pred.singler2$scores"
   ]
  },
  {
   "cell_type": "code",
   "execution_count": null,
   "id": "ebdadd12",
   "metadata": {},
   "outputs": [],
   "source": [
    "mtx  <- pred.singler2$scores\n",
    "rownames(mtx)  <- colnames(cd8_naive$RNA)"
   ]
  },
  {
   "cell_type": "code",
   "execution_count": null,
   "id": "1009bb19",
   "metadata": {
    "scrolled": true
   },
   "outputs": [],
   "source": [
    "mtx"
   ]
  },
  {
   "cell_type": "code",
   "execution_count": null,
   "id": "9197cb86",
   "metadata": {},
   "outputs": [],
   "source": [
    "cd8_naive$singler  <- pred.singler2$labels"
   ]
  },
  {
   "cell_type": "code",
   "execution_count": null,
   "id": "1a1b80f2",
   "metadata": {},
   "outputs": [],
   "source": [
    "options(repr.plot.width = 6, repr.plot.height = 4.5)\n",
    "DimPlot(cd8_naive, group.by = \"singler\", shuffle = T)"
   ]
  },
  {
   "cell_type": "code",
   "execution_count": null,
   "id": "b37e78aa",
   "metadata": {},
   "outputs": [],
   "source": [
    "test  <- data.frame(annotation = cd8_naive$annotations_manual,\n",
    "                    pred = cd8_naive$singler, \n",
    "                    score_CD8_Naive = mtx[,\"CD8_Naive\"],\n",
    "                    score_CD8_CM = mtx[,\"CD8_CM\"],\n",
    "                    score_CD8_SCM_R3neg = mtx[,\"CD8_SCM-R3-\"],\n",
    "                    score_CD8_SCM_R3pos = mtx[,\"CD8_SCM-R3+\"]\n",
    "                     )"
   ]
  },
  {
   "cell_type": "code",
   "execution_count": null,
   "id": "1a064c52",
   "metadata": {},
   "outputs": [],
   "source": [
    "test"
   ]
  },
  {
   "cell_type": "code",
   "execution_count": null,
   "id": "3f28dc11",
   "metadata": {},
   "outputs": [],
   "source": [
    "df2 <- test %>% group_by(annotation, pred) %>% \n",
    "  summarise(n = n()) %>%\n",
    "  mutate(freq = n / sum(n))"
   ]
  },
  {
   "cell_type": "code",
   "execution_count": null,
   "id": "33f2614b",
   "metadata": {
    "scrolled": true
   },
   "outputs": [],
   "source": [
    "df2"
   ]
  },
  {
   "cell_type": "code",
   "execution_count": null,
   "id": "eb1e3b95",
   "metadata": {
    "scrolled": true
   },
   "outputs": [],
   "source": [
    "options(repr.plot.width = 16, repr.plot.height = 4.5)\n",
    "ggplot(test) +\n",
    "  aes(x = annotation, fill = factor(pred)) +\n",
    "  geom_bar(position = \"fill\") + \n",
    "theme_classic() + \n",
    "ggtheme() +\n",
    "coord_flip() \n",
    "#scale_fill_manual(values = c(\"#d6ebd2ff\", \"lightskyblue1\", \"red2\"))\n",
    "#scale_fill_manual(values = c(\"grey\",\"#74bc68ff\", \"dodgerblue3\", \"red2\"))"
   ]
  },
  {
   "cell_type": "markdown",
   "id": "aeef89d5",
   "metadata": {},
   "source": [
    "### Annotation of CD8 All"
   ]
  },
  {
   "cell_type": "code",
   "execution_count": null,
   "id": "ad2cf47e",
   "metadata": {},
   "outputs": [],
   "source": [
    "### Annotate the dataset with Wherry dataset\n",
    "        pred.singler2 <- SingleR(test = cd8_full_matrix, ref = ref_wherry_new$matrix,\n",
    "        labels = ref_wherry_new$labels, de.method=\"wilcox\", fine.tune = F, num.threads = 4)\n"
   ]
  },
  {
   "cell_type": "code",
   "execution_count": null,
   "id": "293bf710",
   "metadata": {
    "scrolled": true
   },
   "outputs": [],
   "source": [
    "pred.singler2$scores"
   ]
  },
  {
   "cell_type": "code",
   "execution_count": null,
   "id": "a5d84fa8",
   "metadata": {},
   "outputs": [],
   "source": [
    "mtx  <- pred.singler2$scores\n",
    "rownames(mtx)  <- colnames(cd8_l1_full_filt$RNA)"
   ]
  },
  {
   "cell_type": "code",
   "execution_count": null,
   "id": "deeb1ccf",
   "metadata": {
    "scrolled": true
   },
   "outputs": [],
   "source": [
    "mtx"
   ]
  },
  {
   "cell_type": "code",
   "execution_count": null,
   "id": "25094627",
   "metadata": {},
   "outputs": [],
   "source": [
    "cd8_l1_full_filt$singler  <- pred.singler2$labels"
   ]
  },
  {
   "cell_type": "code",
   "execution_count": null,
   "id": "592ba12b",
   "metadata": {},
   "outputs": [],
   "source": [
    "options(repr.plot.width = 6, repr.plot.height = 4.5)\n",
    "DimPlot(cd8_l1_full_filt, group.by = \"singler\", shuffle = T)"
   ]
  },
  {
   "cell_type": "code",
   "execution_count": null,
   "id": "f151b2c6",
   "metadata": {},
   "outputs": [],
   "source": [
    "test  <- data.frame(annotation = cd8_l1_full_filt$annotations_l2,\n",
    "                    pred = cd8_l1_full_filt$singler, \n",
    "                    score_CD8_Naive = mtx[,\"CD8_Naive\"],\n",
    "                    score_CD8_CM = mtx[,\"CD8_CM\"],\n",
    "                    score_CD8_SCM_R3neg = mtx[,\"CD8_SCM-R3-\"],\n",
    "                    score_CD8_SCM_R3pos = mtx[,\"CD8_SCM-R3+\"]\n",
    "                     )"
   ]
  },
  {
   "cell_type": "code",
   "execution_count": null,
   "id": "ffb022b8",
   "metadata": {},
   "outputs": [],
   "source": [
    "test"
   ]
  },
  {
   "cell_type": "code",
   "execution_count": null,
   "id": "428451ea",
   "metadata": {},
   "outputs": [],
   "source": [
    "df2 <- test %>% group_by(annotation, pred) %>% \n",
    "  summarise(n = n()) %>%\n",
    "  mutate(freq = n / sum(n))"
   ]
  },
  {
   "cell_type": "code",
   "execution_count": null,
   "id": "274c75f6",
   "metadata": {
    "scrolled": true
   },
   "outputs": [],
   "source": [
    "df2"
   ]
  },
  {
   "cell_type": "code",
   "execution_count": null,
   "id": "e148cd41",
   "metadata": {
    "scrolled": true
   },
   "outputs": [],
   "source": [
    "options(repr.plot.width = 16, repr.plot.height = 4.5)\n",
    "ggplot(test) +\n",
    "  aes(x = annotation, fill = factor(pred)) +\n",
    "  geom_bar(position = \"fill\") + \n",
    "theme_classic() + \n",
    "ggtheme() +\n",
    "coord_flip() \n",
    "#scale_fill_manual(values = c(\"#d6ebd2ff\", \"lightskyblue1\", \"red2\"))\n",
    "#scale_fill_manual(values = c(\"grey\",\"#74bc68ff\", \"dodgerblue3\", \"red2\"))"
   ]
  },
  {
   "cell_type": "markdown",
   "id": "93861524",
   "metadata": {},
   "source": [
    "### Annotation of CD4 Naive"
   ]
  },
  {
   "cell_type": "code",
   "execution_count": null,
   "id": "36a754b2",
   "metadata": {},
   "outputs": [],
   "source": [
    "cd4_naive_matrix  <- cd4_naive@assays$RNA@counts\n",
    "cd4_full_matrix <- cd4_l1_full_filt@assays$RNA@counts"
   ]
  },
  {
   "cell_type": "code",
   "execution_count": null,
   "id": "65b37909",
   "metadata": {},
   "outputs": [],
   "source": [
    "### Annotate the dataset with Wherry dataset\n",
    "        pred.singler2 <- SingleR(test = cd4_naive_matrix, ref = ref_wherry_new$matrix,\n",
    "        labels = ref_wherry_new$labels, de.method=\"wilcox\", fine.tune = F, num.threads = 4)\n"
   ]
  },
  {
   "cell_type": "code",
   "execution_count": null,
   "id": "1470f3a8",
   "metadata": {
    "scrolled": true
   },
   "outputs": [],
   "source": [
    "pred.singler2$scores"
   ]
  },
  {
   "cell_type": "code",
   "execution_count": null,
   "id": "6e8c760a",
   "metadata": {},
   "outputs": [],
   "source": [
    "mtx  <- pred.singler2$scores\n",
    "rownames(mtx)  <- colnames(cd4_naive$RNA)"
   ]
  },
  {
   "cell_type": "code",
   "execution_count": null,
   "id": "56baad87",
   "metadata": {
    "scrolled": true
   },
   "outputs": [],
   "source": [
    "mtx"
   ]
  },
  {
   "cell_type": "code",
   "execution_count": null,
   "id": "77ca36d7",
   "metadata": {},
   "outputs": [],
   "source": [
    "cd4_naive$singler  <- pred.singler2$labels"
   ]
  },
  {
   "cell_type": "code",
   "execution_count": null,
   "id": "4dda7689",
   "metadata": {},
   "outputs": [],
   "source": [
    "options(repr.plot.width = 6, repr.plot.height = 4.5)\n",
    "DimPlot(cd4_naive, group.by = \"singler\", shuffle = T)"
   ]
  },
  {
   "cell_type": "code",
   "execution_count": null,
   "id": "4124f798",
   "metadata": {},
   "outputs": [],
   "source": [
    "test  <- data.frame(annotation = cd4_naive$annotations_manual,\n",
    "                    pred = cd4_naive$singler, \n",
    "                    score_cd4_BulkNaive = mtx[,\"CD4_BulkNaive\"],\n",
    "                    score_cd8_Naive = mtx[,\"CD8_Naive\"],\n",
    "                    score_cd8_CM = mtx[,\"CD8_CM\"],\n",
    "                    score_cd8_SCM_R3neg = mtx[,\"CD8_SCM-R3-\"],\n",
    "                    score_cd8_SCM_R3pos = mtx[,\"CD8_SCM-R3+\"]\n",
    "                     )"
   ]
  },
  {
   "cell_type": "code",
   "execution_count": null,
   "id": "15179431",
   "metadata": {},
   "outputs": [],
   "source": [
    "test"
   ]
  },
  {
   "cell_type": "code",
   "execution_count": null,
   "id": "1628dfcf",
   "metadata": {},
   "outputs": [],
   "source": [
    "df2 <- test %>% group_by(annotation, pred) %>% \n",
    "  summarise(n = n()) %>%\n",
    "  mutate(freq = n / sum(n))"
   ]
  },
  {
   "cell_type": "code",
   "execution_count": null,
   "id": "42119e15",
   "metadata": {
    "scrolled": true
   },
   "outputs": [],
   "source": [
    "df2"
   ]
  },
  {
   "cell_type": "code",
   "execution_count": null,
   "id": "dbc20604",
   "metadata": {
    "scrolled": true
   },
   "outputs": [],
   "source": [
    "options(repr.plot.width = 16, repr.plot.height = 4.5)\n",
    "ggplot(test) +\n",
    "  aes(x = annotation, fill = factor(pred)) +\n",
    "  geom_bar(position = \"fill\") + \n",
    "theme_classic() + \n",
    "ggtheme() +\n",
    "coord_flip() \n",
    "#scale_fill_manual(values = c(\"#d6ebd2ff\", \"lightskyblue1\", \"red2\"))\n",
    "#scale_fill_manual(values = c(\"grey\",\"#74bc68ff\", \"dodgerblue3\", \"red2\"))"
   ]
  },
  {
   "cell_type": "markdown",
   "id": "b1c56716",
   "metadata": {},
   "source": [
    "### Annotation of CD4 All"
   ]
  },
  {
   "cell_type": "code",
   "execution_count": null,
   "id": "d48ff968",
   "metadata": {},
   "outputs": [],
   "source": [
    "### Annotate the dataset with Wherry dataset\n",
    "        pred.singler2 <- SingleR(test = cd4_full_matrix, ref = ref_wherry_new$matrix,\n",
    "        labels = ref_wherry_new$labels, de.method=\"wilcox\", fine.tune = F, num.threads = 4)\n"
   ]
  },
  {
   "cell_type": "code",
   "execution_count": null,
   "id": "e63c55c8",
   "metadata": {
    "scrolled": true
   },
   "outputs": [],
   "source": [
    "pred.singler2$scores"
   ]
  },
  {
   "cell_type": "code",
   "execution_count": null,
   "id": "ec174d4a",
   "metadata": {},
   "outputs": [],
   "source": [
    "mtx  <- pred.singler2$scores\n",
    "rownames(mtx)  <- colnames(cd4_l1_full_filt$RNA)"
   ]
  },
  {
   "cell_type": "code",
   "execution_count": null,
   "id": "ac9bccd9",
   "metadata": {
    "scrolled": true
   },
   "outputs": [],
   "source": [
    "mtx"
   ]
  },
  {
   "cell_type": "code",
   "execution_count": null,
   "id": "edf299d9",
   "metadata": {},
   "outputs": [],
   "source": [
    "cd4_l1_full_filt$singler  <- pred.singler2$labels"
   ]
  },
  {
   "cell_type": "code",
   "execution_count": null,
   "id": "ec332ff5",
   "metadata": {},
   "outputs": [],
   "source": [
    "options(repr.plot.width = 6, repr.plot.height = 4.5)\n",
    "DimPlot(cd4_l1_full_filt, group.by = \"singler\", shuffle = T)"
   ]
  },
  {
   "cell_type": "code",
   "execution_count": null,
   "id": "f0a33d86",
   "metadata": {},
   "outputs": [],
   "source": [
    "test  <- data.frame(annotation = cd4_l1_full_filt$annotations_l2,\n",
    "                    pred = cd4_l1_full_filt$singler, \n",
    "                    score_cd4_BulkNaive = mtx[,\"CD4_BulkNaive\"],\n",
    "                    score_cd8_Naive = mtx[,\"CD8_Naive\"],\n",
    "                    score_cd8_CM = mtx[,\"CD8_CM\"],\n",
    "                    score_cd8_SCM_R3neg = mtx[,\"CD8_SCM-R3-\"],\n",
    "                    score_cd8_SCM_R3pos = mtx[,\"CD8_SCM-R3+\"]\n",
    "                     )"
   ]
  },
  {
   "cell_type": "code",
   "execution_count": null,
   "id": "aa8f405b",
   "metadata": {},
   "outputs": [],
   "source": [
    "test"
   ]
  },
  {
   "cell_type": "code",
   "execution_count": null,
   "id": "47239d1d",
   "metadata": {},
   "outputs": [],
   "source": [
    "df2 <- test %>% group_by(annotation, pred) %>% \n",
    "  summarise(n = n()) %>%\n",
    "  mutate(freq = n / sum(n))"
   ]
  },
  {
   "cell_type": "code",
   "execution_count": null,
   "id": "52e44ff5",
   "metadata": {
    "scrolled": true
   },
   "outputs": [],
   "source": [
    "df2"
   ]
  },
  {
   "cell_type": "code",
   "execution_count": null,
   "id": "c1fd2142",
   "metadata": {
    "scrolled": true
   },
   "outputs": [],
   "source": [
    "options(repr.plot.width = 16, repr.plot.height = 4.5)\n",
    "ggplot(test) +\n",
    "  aes(x = annotation, fill = factor(pred)) +\n",
    "  geom_bar(position = \"fill\") + \n",
    "theme_classic() + \n",
    "ggtheme() +\n",
    "coord_flip() \n",
    "#scale_fill_manual(values = c(\"#d6ebd2ff\", \"lightskyblue1\", \"red2\"))\n",
    "#scale_fill_manual(values = c(\"grey\",\"#74bc68ff\", \"dodgerblue3\", \"red2\"))"
   ]
  },
  {
   "cell_type": "markdown",
   "id": "c50df03b",
   "metadata": {},
   "source": [
    "### Coexpression - coexpressing vs non-coexpressing cells"
   ]
  },
  {
   "cell_type": "markdown",
   "id": "ee76e39a",
   "metadata": {},
   "source": [
    "### CD4"
   ]
  },
  {
   "cell_type": "code",
   "execution_count": null,
   "id": "43031373",
   "metadata": {},
   "outputs": [],
   "source": [
    "seurat_object = cd4_naive\n",
    "genes = c(\"LEF1\", \"BACH2\", \"IL7R\", \"CXCR4\", \"ZFP36L2\", \"SELL\",\n",
    "                                    \"BTG1\",\"BTG2\",\"KLF2\",\"IL7R\",\"CCR7\")\n"
   ]
  },
  {
   "cell_type": "code",
   "execution_count": null,
   "id": "faf8f823",
   "metadata": {},
   "outputs": [],
   "source": [
    "rns = which(rownames(seurat_object@assays$RNA) %in% genes)\n",
    "df = seurat_object@assays$RNA@counts[rns,]  %>% t()  %>% as.data.frame()"
   ]
  },
  {
   "cell_type": "code",
   "execution_count": null,
   "id": "b408f756",
   "metadata": {
    "scrolled": true
   },
   "outputs": [],
   "source": [
    "df"
   ]
  },
  {
   "cell_type": "code",
   "execution_count": null,
   "id": "2de1e964",
   "metadata": {},
   "outputs": [],
   "source": [
    "binary  <- function(x){\n",
    "    x  <- if_else(x>0,1,0)\n",
    "    return(x)\n",
    "}"
   ]
  },
  {
   "cell_type": "code",
   "execution_count": null,
   "id": "19d26475",
   "metadata": {},
   "outputs": [],
   "source": [
    "df = df  %>% \n",
    "mutate_at(.vars = 1:9, .funs = binary)"
   ]
  },
  {
   "cell_type": "code",
   "execution_count": null,
   "id": "ca7a91e0",
   "metadata": {
    "scrolled": true
   },
   "outputs": [],
   "source": [
    "df"
   ]
  },
  {
   "cell_type": "code",
   "execution_count": null,
   "id": "3f1dcd46",
   "metadata": {},
   "outputs": [],
   "source": [
    "df$annot  <- seurat_object$annotations_manual\n"
   ]
  },
  {
   "cell_type": "code",
   "execution_count": null,
   "id": "d53971da",
   "metadata": {},
   "outputs": [],
   "source": [
    "plt = ggplot(data = df, aes(x = grouping_var, y = expressing)) +\n",
    "geom_boxplot(outlier.shape = NA, aes(fill = grouping_var), alpha = 0.3) + \n",
    "  geom_dotplot(binaxis='y', stackdir='center', dotsize=0) + \n",
    "  geom_jitter(width = 0.1, height = 0.0, size = 2, aes(color = grouping_var)) +\n",
    "theme_classic() +\n",
    "    theme(plot.title = element_text(hjust = 0.5)) +\n",
    "    theme(axis.text.x = element_text(angle = 90, vjust = 0.5)) +\n",
    "ggtheme() +\n",
    "    ggtitle(gene) +\n",
    "    ylab(\"Pct expressing cells\") +\n",
    "xlab(\"\") + NoLegend()\n",
    "    return(plt)\n",
    "    }"
   ]
  },
  {
   "cell_type": "markdown",
   "id": "6c448197",
   "metadata": {},
   "source": [
    "## Which cell type is responsible for the skewed naive vs effector phenotype?"
   ]
  },
  {
   "cell_type": "code",
   "execution_count": null,
   "id": "8fb67cce",
   "metadata": {},
   "outputs": [],
   "source": [
    "paths_fc  <- list.files(\"../../240617_VN_Diabetes_V06/tables/fold_change/\", full.names = T)\n",
    "dataset_names  <- list.files(\"../../240617_VN_Diabetes_V06/tables/fold_change\", full.names = F)\n"
   ]
  },
  {
   "cell_type": "code",
   "execution_count": null,
   "id": "5ea105e5",
   "metadata": {},
   "outputs": [],
   "source": [
    "paths_fc"
   ]
  },
  {
   "cell_type": "code",
   "execution_count": null,
   "id": "73acb73c",
   "metadata": {},
   "outputs": [],
   "source": [
    "paths_fc  <- paths_fc[which(grepl(paths_fc, pattern = \"Ctrl\")|grepl(paths_fc, pattern = \"DiaT0_vs_DiaT1\"))]"
   ]
  },
  {
   "cell_type": "code",
   "execution_count": null,
   "id": "8ee69544",
   "metadata": {},
   "outputs": [],
   "source": [
    "dataset_names  <- dataset_names[which(grepl(dataset_names, pattern = \"Ctrl\")|grepl(dataset_names, pattern = \"DiaT0_vs_DiaT1\"))]"
   ]
  },
  {
   "cell_type": "code",
   "execution_count": null,
   "id": "18b8978a",
   "metadata": {
    "scrolled": false
   },
   "outputs": [],
   "source": [
    "dataset_names"
   ]
  },
  {
   "cell_type": "code",
   "execution_count": null,
   "id": "8b7ef5e9",
   "metadata": {
    "scrolled": true
   },
   "outputs": [],
   "source": [
    "paths_fc"
   ]
  },
  {
   "cell_type": "code",
   "execution_count": null,
   "id": "56ef9035",
   "metadata": {},
   "outputs": [],
   "source": [
    "fc.df  <- read_csv(paths_fc[1])  %>% as.data.frame()"
   ]
  },
  {
   "cell_type": "code",
   "execution_count": null,
   "id": "ba781ea2",
   "metadata": {
    "scrolled": true
   },
   "outputs": [],
   "source": [
    "fc.df %>%  arrange(desc(avg_log2FC)) %>% \n",
    "dplyr::filter(grepl(x = cluster, pattern = \"Dia\")) "
   ]
  },
  {
   "cell_type": "code",
   "execution_count": null,
   "id": "0288ec45",
   "metadata": {},
   "outputs": [],
   "source": [
    "fc.df %>%  arrange(desc(avg_log2FC)) %>% \n",
    "dplyr::filter(grepl(x = cluster, pattern = \"Dia\"))  %>% \n",
    "dplyr::filter(gene %in% c(\"LEF1\",\"BACH2\", \"NELL2\", \"TCF7\", \"KLF2\",\"CCR7\",\"SELL\",\n",
    "                          \"IFNG\",\"TBX21\",\"TNF\"))"
   ]
  },
  {
   "cell_type": "code",
   "execution_count": null,
   "id": "96068f4a",
   "metadata": {},
   "outputs": [],
   "source": [
    "ls()"
   ]
  },
  {
   "cell_type": "markdown",
   "id": "8910f8fb",
   "metadata": {},
   "source": [
    "# DEG Pseudobulk + DESeq2"
   ]
  },
  {
   "cell_type": "code",
   "execution_count": null,
   "id": "a32d64a4",
   "metadata": {},
   "outputs": [],
   "source": [
    "cd4_l1_full_filt  <- readRDS(\"../../240218_VN_Diabetes_V05/data/processed/L1/cd4_l1_full_filt.rds\")"
   ]
  },
  {
   "cell_type": "code",
   "execution_count": null,
   "id": "fc3be86f",
   "metadata": {},
   "outputs": [],
   "source": [
    "cd8_l1_full_filt  <- readRDS(\"../../240218_VN_Diabetes_V05/data/processed/L1/cd8_l1_full_filt.rds\")"
   ]
  },
  {
   "cell_type": "markdown",
   "id": "b17009e2",
   "metadata": {},
   "source": [
    "For DEG analysis, we will only use samples from the final experiment. "
   ]
  },
  {
   "cell_type": "code",
   "execution_count": null,
   "id": "9c9b857b",
   "metadata": {},
   "outputs": [],
   "source": [
    "cd4_l1_full_filt_sub  <- subset(cd4_l1_full_filt, Experiment_ID %in% c(\"Exp16\",\"Exp18\",\"Exp19\",\"Exp20\"))"
   ]
  },
  {
   "cell_type": "code",
   "execution_count": null,
   "id": "fb5fb9b6",
   "metadata": {},
   "outputs": [],
   "source": [
    "cd8_l1_full_filt_sub  <- subset(cd8_l1_full_filt, Experiment_ID %in% c(\"Exp16\",\"Exp18\",\"Exp19\",\"Exp20\"))"
   ]
  },
  {
   "cell_type": "code",
   "execution_count": null,
   "id": "7ecbccf4",
   "metadata": {},
   "outputs": [],
   "source": [
    "rm(cd4_l1_full_filt)\n",
    "rm(cd8_l1_full_filt)"
   ]
  },
  {
   "cell_type": "markdown",
   "id": "444efea8",
   "metadata": {},
   "source": [
    "To be consistent with the Wilcoxon Fold Change analysis, we will group together MAIT and Tgd cells. "
   ]
  },
  {
   "cell_type": "code",
   "execution_count": null,
   "id": "dc32283d",
   "metadata": {},
   "outputs": [],
   "source": [
    "cd4_l1_full_filt$annotations_l2  %>% table"
   ]
  },
  {
   "cell_type": "code",
   "execution_count": null,
   "id": "d16a065c",
   "metadata": {},
   "outputs": [],
   "source": [
    "cd8_l1_full_filt$annotations_l2  %>% table"
   ]
  },
  {
   "cell_type": "code",
   "execution_count": null,
   "id": "46e5a846",
   "metadata": {},
   "outputs": [],
   "source": [
    "cd8_l1_full_filt_sub$annotations_l2  %>% table"
   ]
  },
  {
   "cell_type": "code",
   "execution_count": null,
   "id": "e09dd33a",
   "metadata": {},
   "outputs": [],
   "source": [
    "cd8_l1_full_filt_sub$annotations_l2  <- ifelse(grepl(cd8_l1_full_filt_sub$annotations_l2, pattern = \"Unconventional\"),\n",
    "                                               \"CD8 Unc\",cd8_l1_full_filt_sub$annotations_l2)"
   ]
  },
  {
   "cell_type": "code",
   "execution_count": null,
   "id": "edb5e73a",
   "metadata": {},
   "outputs": [],
   "source": [
    "cd8_l1_full_filt_sub$annotations_l2  %>% table"
   ]
  },
  {
   "cell_type": "markdown",
   "id": "568d27cb",
   "metadata": {},
   "source": [
    "The DEG will be performed on the RNA assay. We will perform pseudobulk aggregation based on sample and then use DESeq2 to calculate DEG and fold changes. "
   ]
  },
  {
   "cell_type": "markdown",
   "id": "3f8cc513",
   "metadata": {},
   "source": [
    "## CD8 T cells"
   ]
  },
  {
   "cell_type": "code",
   "execution_count": null,
   "id": "91f7105d",
   "metadata": {},
   "outputs": [],
   "source": [
    "genes  <- rownames(cd8_l1_full_filt_sub@assays$RNA)"
   ]
  },
  {
   "cell_type": "code",
   "execution_count": null,
   "id": "7fc3e9db",
   "metadata": {},
   "outputs": [],
   "source": [
    "genes_filt  <- genes[!(grepl(genes, pattern = \"^MT\")|\n",
    "                            grepl(genes, pattern = \"\\\\.\")|\n",
    "                            grepl(genes, pattern = \"LINC\")|\n",
    "                            grepl(genes, pattern = \"^MIR\")|\n",
    "                            grepl(genes, pattern = \"^MT\")|\n",
    "                            grepl(genes, pattern = \"HNRNP\")|\n",
    "                            grepl(genes, pattern = \"^RP[LS]\")|\n",
    "                            grepl(genes, pattern = \"\\\\-\")|\n",
    "                            grepl(genes, pattern = \"TTTY\")|\n",
    "                            grepl(genes, pattern = \"ORF\")|\n",
    "                            grepl(genes, pattern = \"orf\"))\n",
    "                            ]"
   ]
  },
  {
   "cell_type": "code",
   "execution_count": null,
   "id": "0c2b7ff8",
   "metadata": {},
   "outputs": [],
   "source": [
    "aggexp_cd8  <- AggregateExpression(cd8_l1_full_filt_sub, group.by = c(\"Sample_ID\"), \n",
    "                                  features = genes_filt, return.seurat = T, assay = \"RNA\")"
   ]
  },
  {
   "cell_type": "markdown",
   "id": "b03001da",
   "metadata": {},
   "source": [
    "### Metadata consolidation"
   ]
  },
  {
   "cell_type": "markdown",
   "id": "f5e2fc13",
   "metadata": {},
   "source": [
    "We need to add metadata with Partial response and ketoacidosis to the pseudobulked object. "
   ]
  },
  {
   "cell_type": "code",
   "execution_count": null,
   "id": "bc95af16",
   "metadata": {},
   "outputs": [],
   "source": [
    "md_for_remission  <- cd8_l1_full_filt_sub@meta.data  %>% \n",
    "dplyr::filter(Condition %in% c(\"Dia T0\"))  %>% \n",
    "group_by(Patient_ID, part_remission_y_n)  %>% \n",
    "tally %>% mutate(Condition2 = paste0(\"PR_\",part_remission_y_n))  %>% \n",
    "dplyr::select(-n, -part_remission_y_n)"
   ]
  },
  {
   "cell_type": "code",
   "execution_count": null,
   "id": "e9409bb9",
   "metadata": {
    "scrolled": true
   },
   "outputs": [],
   "source": [
    "md_for_remission"
   ]
  },
  {
   "cell_type": "code",
   "execution_count": null,
   "id": "1ca82a1f",
   "metadata": {},
   "outputs": [],
   "source": [
    "cd8_l1_full_filt_sub$Condition2  %>% table"
   ]
  },
  {
   "cell_type": "code",
   "execution_count": null,
   "id": "229287ad",
   "metadata": {},
   "outputs": [],
   "source": [
    "cd8_l1_full_filt_sub$Condition2  <- NULL\n",
    "cd8_l1_full_filt_sub@meta.data  <- cd8_l1_full_filt_sub@meta.data  %>% \n",
    "left_join(md_for_remission)  %>% mutate(Condition2 = paste(Condition2, Time))  %>% \n",
    "mutate(Condition2 = ifelse(grepl(Condition2, pattern = \"NA\"), NA_character_,Condition2))\n",
    "    \n",
    "print(cd8_l1_full_filt_sub$Condition2  %>% table)\n",
    "rownames(cd8_l1_full_filt_sub@meta.data)  <- colnames(cd8_l1_full_filt_sub)"
   ]
  },
  {
   "cell_type": "code",
   "execution_count": null,
   "id": "740f1405",
   "metadata": {},
   "outputs": [],
   "source": [
    "md_for_ketoacidosis  <- cd8_l1_full_filt_sub@meta.data  %>% \n",
    "dplyr::filter(Condition %in% c(\"Dia T0\"))  %>% \n",
    "group_by(Patient_ID, ph_man)  %>% \n",
    "tally %>% mutate(Ketoacidosis = ifelse(ph_man<7.3,\"Keto_1\",\"Keto_0\"))  %>% \n",
    "dplyr::select(-ph_man, -n)"
   ]
  },
  {
   "cell_type": "code",
   "execution_count": null,
   "id": "5dbcf0ac",
   "metadata": {
    "scrolled": true
   },
   "outputs": [],
   "source": [
    "md_for_ketoacidosis"
   ]
  },
  {
   "cell_type": "code",
   "execution_count": null,
   "id": "44a59821",
   "metadata": {},
   "outputs": [],
   "source": [
    " cd8_l1_full_filt_sub@meta.data  <- cd8_l1_full_filt_sub@meta.data  %>% \n",
    "    left_join(md_for_ketoacidosis)   %>% mutate(Keto_Time = paste(Ketoacidosis, Time))  %>% \n",
    "    mutate(Keto_Time = ifelse(grepl(Keto_Time, pattern = \"NA\"), NA_character_,Keto_Time))\n",
    "    \n",
    "    print(cd8_l1_full_filt_sub$Ketoacidosis  %>% table)\n",
    "    rownames(cd8_l1_full_filt_sub@meta.data)  <- colnames(cd8_l1_full_filt_sub)"
   ]
  },
  {
   "cell_type": "code",
   "execution_count": null,
   "id": "e6cab33f",
   "metadata": {},
   "outputs": [],
   "source": [
    "Conditions  <- list(c(\"Dia T0\", \"Ctrl T0\"),\n",
    "                    c(\"Dia T0\", \"Dia T1\"),\n",
    "                    c(\"Dia T1\", \"Ctrl T0\"),\n",
    "                    c(\"PR_0 T0\", \"PR_1 T0\"),\n",
    "                    c(\"PR_0 T1\", \"PR_1 T1\"),\n",
    "                    c(\"PR_0 T0\", \"PR_0 T1\"),\n",
    "                    c(\"PR_1 T0\", \"PR_1 T1\"),\n",
    "                    c(\"Keto_1 T0\", \"Keto_0 T0\"))"
   ]
  },
  {
   "cell_type": "code",
   "execution_count": null,
   "id": "eba97fb4",
   "metadata": {},
   "outputs": [],
   "source": []
  },
  {
   "cell_type": "code",
   "execution_count": null,
   "id": "587b3057",
   "metadata": {},
   "outputs": [],
   "source": [
    "md_cd8  <- cd8_l1_full_filt_sub@meta.data  %>% \n",
    "group_by(Sample_ID, Condition, Condition2, Age, Sex, Ketoacidosis, Keto_Time)  %>% tally  %>% dplyr::select(-n)  %>% \n",
    "ungroup  %>% \n",
    "mutate(Sample_ID = as.factor(Sample_ID))"
   ]
  },
  {
   "cell_type": "code",
   "execution_count": null,
   "id": "c2cb653a",
   "metadata": {
    "scrolled": true
   },
   "outputs": [],
   "source": [
    "md_cd8$Sample_ID  <- paste0(\"g\",md_cd8$Sample_ID)"
   ]
  },
  {
   "cell_type": "code",
   "execution_count": null,
   "id": "d1a9c177",
   "metadata": {},
   "outputs": [],
   "source": [
    "\n",
    "md_cd8  <- left_join(aggexp_cd8@meta.data, md_cd8)\n",
    "rownames(md_cd8)  <- colnames(aggexp_cd8)"
   ]
  },
  {
   "cell_type": "markdown",
   "id": "ffb57a42",
   "metadata": {},
   "source": [
    "### CD8 L1 dataset"
   ]
  },
  {
   "cell_type": "code",
   "execution_count": null,
   "id": "caa7837a",
   "metadata": {},
   "outputs": [],
   "source": [
    "aggexp_cd8@meta.data  <- md_cd8"
   ]
  },
  {
   "cell_type": "code",
   "execution_count": null,
   "id": "48d2d093",
   "metadata": {},
   "outputs": [],
   "source": [
    "test"
   ]
  },
  {
   "cell_type": "code",
   "execution_count": null,
   "id": "604df1fc",
   "metadata": {},
   "outputs": [],
   "source": [
    "# Function to calculate markers for a subsetted da for given conditions\n",
    "\n",
    "Create_Markers_DataFrame  <- function(j){\n",
    "     print(\"#######################\")\n",
    "    print(j)\n",
    "    \n",
    "    Condition_1 = Conditions[[j]][1]\n",
    "    Condition_2 = Conditions[[j]][2]\n",
    "    \n",
    "    seurat_obj  <- aggexp_cd8\n",
    "        \n",
    "    if(grepl(Condition_1, pattern = \"PR\")){\n",
    "      seurat_obj$Condition  <- seurat_obj$Condition2\n",
    "    }\n",
    "    \n",
    "    if(grepl(Condition_1, pattern = \"Keto\")){\n",
    "      seurat_obj$Condition  <- seurat_obj$Keto_Time\n",
    "    }\n",
    "    \n",
    "    ## Create subsetted df\n",
    "        ds  <- subset(seurat_obj, Condition %in% c(Condition_1, Condition_2) )\n",
    "        print(ds$Condition  %>% table)\n",
    "    \n",
    "    ## scRNAseq - RNA\n",
    "    DefaultAssay(ds)  <- \"RNA\"\n",
    "        Idents(ds)  <- ds$Condition\n",
    "        markers_sc  <- FindAllMarkers(ds, only.pos = T, test.use = \"DESeq2\", return.thresh = 1)\n",
    "        markers_sc$source  <- \"scRNAseq_RNA\"\n",
    "        rownames(markers_sc)  <- NULL\n",
    "    print(paste(\"DE RNA: \", nrow(markers_sc)))\n",
    "    \n",
    "    markers_sc2  <- data.frame()\n",
    "    \n",
    "   if(nrow(markers_sc2)>0 & nrow(markers_sc)>0){ \n",
    "            markers2 <- rbind(markers_sc, markers_sc2) } else {\n",
    "        if(nrow(markers_sc)>0){\n",
    "            markers2  <- markers_sc\n",
    "            } else {\n",
    "            if(nrow(markers_sc2)>0){\n",
    "                markers2  <- markers_sc2\n",
    "            \n",
    "            } else {\n",
    "                markers2  <- NULL\n",
    "                }\n",
    "        }\n",
    "        }\n",
    "    \n",
    "        markers2$test_type  <- paste(Conditions[[j]][1], \"vs\", Conditions[[j]][2])\n",
    "        print(\"..\")\n",
    "        markers2$dataset  <- \"cd8_l1_full_filt\"\n",
    "        return(markers2)\n",
    "}\n"
   ]
  },
  {
   "cell_type": "code",
   "execution_count": null,
   "id": "49da13d7",
   "metadata": {},
   "outputs": [],
   "source": [
    "mrk  <- map(.x = 1:8, Create_Markers_DataFrame)\n",
    "\n",
    "mrk  <- bind_rows(mrk) "
   ]
  },
  {
   "cell_type": "code",
   "execution_count": null,
   "id": "12321dd1",
   "metadata": {},
   "outputs": [],
   "source": [
    "mrk  %>% dplyr::filter(p_val_adj<0.05)"
   ]
  },
  {
   "cell_type": "code",
   "execution_count": null,
   "id": "77af10b3",
   "metadata": {},
   "outputs": [],
   "source": [
    "all_markers  <- mrk"
   ]
  },
  {
   "cell_type": "markdown",
   "id": "1c0bd021",
   "metadata": {},
   "source": [
    "### CD8 L2 datasets"
   ]
  },
  {
   "cell_type": "code",
   "execution_count": null,
   "id": "096276f9",
   "metadata": {},
   "outputs": [],
   "source": [
    "l2_datasets  <- levels(factor(cd8_l1_full_filt_sub$annotations_l2))"
   ]
  },
  {
   "cell_type": "code",
   "execution_count": null,
   "id": "71fd80a8",
   "metadata": {},
   "outputs": [],
   "source": [
    "l2_datasets"
   ]
  },
  {
   "cell_type": "code",
   "execution_count": null,
   "id": "a1083171",
   "metadata": {},
   "outputs": [],
   "source": []
  },
  {
   "cell_type": "code",
   "execution_count": null,
   "id": "cc3f620b",
   "metadata": {},
   "outputs": [],
   "source": [
    "aggexp_cd8  <- AggregateExpression(cd8_l1_full_filt_sub, group.by = c(\"Sample_ID\", \"annotations_l2\"), \n",
    "                                  features = genes_filt, return.seurat = T, assay = \"RNA\")"
   ]
  },
  {
   "cell_type": "code",
   "execution_count": null,
   "id": "098a2de9",
   "metadata": {},
   "outputs": [],
   "source": [
    "aggexp_cd8$Sample_ID  %>% table"
   ]
  },
  {
   "cell_type": "code",
   "execution_count": null,
   "id": "90f64faa",
   "metadata": {},
   "outputs": [],
   "source": [
    "md_cd8  <- cd8_l1_full_filt_sub@meta.data  %>% \n",
    "group_by(Sample_ID, Condition, Condition2, Age, Sex, Ketoacidosis, Keto_Time)  %>% tally  %>% dplyr::select(-n)  %>% \n",
    "ungroup  %>% \n",
    "mutate(Sample_ID = as.factor(Sample_ID))"
   ]
  },
  {
   "cell_type": "code",
   "execution_count": null,
   "id": "28f82798",
   "metadata": {
    "scrolled": true
   },
   "outputs": [],
   "source": [
    "md_cd8$Sample_ID  <- paste0(\"g\",md_cd8$Sample_ID)"
   ]
  },
  {
   "cell_type": "code",
   "execution_count": null,
   "id": "1eae3ddb",
   "metadata": {},
   "outputs": [],
   "source": [
    "md_cd8  <- left_join(aggexp_cd8@meta.data, md_cd8)\n",
    "rownames(md_cd8)  <- colnames(aggexp_cd8)"
   ]
  },
  {
   "cell_type": "code",
   "execution_count": null,
   "id": "52a0057f",
   "metadata": {},
   "outputs": [],
   "source": [
    "aggexp_cd8@meta.data  <- md_cd8"
   ]
  },
  {
   "cell_type": "code",
   "execution_count": null,
   "id": "cf732644",
   "metadata": {},
   "outputs": [],
   "source": [
    "aggexp_cd8@meta.data"
   ]
  },
  {
   "cell_type": "code",
   "execution_count": null,
   "id": "b3cbfacb",
   "metadata": {},
   "outputs": [],
   "source": [
    "# Function to calculate markers for a subsetted da for given conditions\n",
    "\n",
    "Create_Markers_DataFrame  <- function(j){\n",
    "     print(\"#######################\")\n",
    "    print(j)\n",
    "    \n",
    "    Condition_1 = Conditions[[j]][1]\n",
    "    Condition_2 = Conditions[[j]][2]\n",
    "    \n",
    "    seurat_obj  <- subset(aggexp_cd8, annotations_l2 == levels(factor((aggexp_cd8$annotations_l2)))[i])\n",
    "        \n",
    "    if(grepl(Condition_1, pattern = \"PR\")){\n",
    "      seurat_obj$Condition  <- seurat_obj$Condition2\n",
    "    }\n",
    "    \n",
    "    if(grepl(Condition_1, pattern = \"Keto\")){\n",
    "      seurat_obj$Condition  <- seurat_obj$Keto_Time\n",
    "    }\n",
    "    \n",
    "    ## Create subsetted df\n",
    "        ds  <- subset(seurat_obj, Condition %in% c(Condition_1, Condition_2) )\n",
    "        print(ds$Condition  %>% table)\n",
    "    \n",
    "    ## scRNAseq - RNA\n",
    "    DefaultAssay(ds)  <- \"RNA\"\n",
    "        Idents(ds)  <- ds$Condition\n",
    "        markers_sc  <- FindAllMarkers(ds, only.pos = T, test.use = \"DESeq2\", return.thresh = 1)\n",
    "        markers_sc$source  <- \"scRNAseq_RNA\"\n",
    "        rownames(markers_sc)  <- NULL\n",
    "    print(paste(\"DE RNA: \", nrow(markers_sc)))\n",
    "    \n",
    "    markers_sc2  <- data.frame()\n",
    "    \n",
    "   if(nrow(markers_sc2)>0 & nrow(markers_sc)>0){ \n",
    "            markers2 <- rbind(markers_sc, markers_sc2) } else {\n",
    "        if(nrow(markers_sc)>0){\n",
    "            markers2  <- markers_sc\n",
    "            } else {\n",
    "            if(nrow(markers_sc2)>0){\n",
    "                markers2  <- markers_sc2\n",
    "            \n",
    "            } else {\n",
    "                markers2  <- NULL\n",
    "                }\n",
    "        }\n",
    "        }\n",
    "    \n",
    "        markers2$test_type  <- paste(Conditions[[j]][1], \"vs\", Conditions[[j]][2])\n",
    "        print(\"..\")\n",
    "        markers2$dataset  <- levels(factor((aggexp_cd8$annotations_l2)))[i]\n",
    "        return(markers2)\n",
    "}\n"
   ]
  },
  {
   "cell_type": "code",
   "execution_count": null,
   "id": "d8ffa424",
   "metadata": {
    "scrolled": true
   },
   "outputs": [],
   "source": [
    "for(i in 1:length(levels(factor((aggexp_cd8$annotations_l2))))){\n",
    "\n",
    "print(\"######################################################################\")\n",
    "if(i > 1){\n",
    "suppressWarnings(rm(markers_sc, markers, markers1, markers_sc2, markers_sc_predia, markers_bulk, markers_bulk2))    \n",
    "}\n",
    "    \n",
    "mrk  <- map(.x = 1:8, Create_Markers_DataFrame)\n",
    "\n",
    "mrk  <- bind_rows(mrk) \n",
    "    \n",
    "all_markers  <- rbind(all_markers, mrk)\n",
    "\n",
    "    \n",
    "}"
   ]
  },
  {
   "cell_type": "code",
   "execution_count": null,
   "id": "97071148",
   "metadata": {
    "scrolled": true
   },
   "outputs": [],
   "source": [
    "all_markers  %>% dplyr::filter(p_val_adj<0.05)"
   ]
  },
  {
   "cell_type": "code",
   "execution_count": null,
   "id": "917191f0",
   "metadata": {
    "scrolled": true
   },
   "outputs": [],
   "source": [
    "all_markers"
   ]
  },
  {
   "cell_type": "code",
   "execution_count": null,
   "id": "d46a0034",
   "metadata": {},
   "outputs": [],
   "source": [
    "all_markers_cd8   <- all_markers"
   ]
  },
  {
   "cell_type": "markdown",
   "id": "7c38f621",
   "metadata": {},
   "source": [
    "## CD4 T cells"
   ]
  },
  {
   "cell_type": "code",
   "execution_count": null,
   "id": "dc67d8d0",
   "metadata": {},
   "outputs": [],
   "source": [
    "genes  <- rownames(cd4_l1_full_filt_sub@assays$RNA)"
   ]
  },
  {
   "cell_type": "code",
   "execution_count": null,
   "id": "dcc42548",
   "metadata": {},
   "outputs": [],
   "source": [
    "genes_filt  <- genes[!(grepl(genes, pattern = \"^MT\")|\n",
    "                            grepl(genes, pattern = \"\\\\.\")|\n",
    "                            grepl(genes, pattern = \"LINC\")|\n",
    "                            grepl(genes, pattern = \"^MIR\")|\n",
    "                            grepl(genes, pattern = \"^MT\")|\n",
    "                            grepl(genes, pattern = \"HNRNP\")|\n",
    "                            grepl(genes, pattern = \"^RP[LS]\")|\n",
    "                            grepl(genes, pattern = \"\\\\-\")|\n",
    "                            grepl(genes, pattern = \"TTTY\")|\n",
    "                            grepl(genes, pattern = \"ORF\")|\n",
    "                            grepl(genes, pattern = \"orf\"))\n",
    "                            ]"
   ]
  },
  {
   "cell_type": "code",
   "execution_count": null,
   "id": "14af1b4f",
   "metadata": {},
   "outputs": [],
   "source": [
    "aggexp_cd4  <- AggregateExpression(cd4_l1_full_filt_sub, group.by = c(\"Sample_ID\"), \n",
    "                                  features = genes_filt, return.seurat = T, assay = \"RNA\")"
   ]
  },
  {
   "cell_type": "markdown",
   "id": "2d5b826f",
   "metadata": {},
   "source": [
    "### Metadata consolidation"
   ]
  },
  {
   "cell_type": "markdown",
   "id": "480eec37",
   "metadata": {},
   "source": [
    "We need to add metadata with Partial response and ketoacidosis to the pseudobulked object. "
   ]
  },
  {
   "cell_type": "code",
   "execution_count": null,
   "id": "117ec2a8",
   "metadata": {},
   "outputs": [],
   "source": [
    "md_for_remission  <- cd4_l1_full_filt_sub@meta.data  %>% \n",
    "dplyr::filter(Condition %in% c(\"Dia T0\"))  %>% \n",
    "group_by(Patient_ID, part_remission_y_n)  %>% \n",
    "tally %>% mutate(Condition2 = paste0(\"PR_\",part_remission_y_n))  %>% \n",
    "dplyr::select(-n, -part_remission_y_n)"
   ]
  },
  {
   "cell_type": "code",
   "execution_count": null,
   "id": "94e8d732",
   "metadata": {
    "scrolled": true
   },
   "outputs": [],
   "source": [
    "md_for_remission"
   ]
  },
  {
   "cell_type": "code",
   "execution_count": null,
   "id": "d9388e8a",
   "metadata": {},
   "outputs": [],
   "source": [
    "cd4_l1_full_filt_sub$Condition2  %>% table"
   ]
  },
  {
   "cell_type": "code",
   "execution_count": null,
   "id": "3afc85ca",
   "metadata": {},
   "outputs": [],
   "source": [
    "cd4_l1_full_filt_sub$Condition2  <- NULL\n",
    "cd4_l1_full_filt_sub@meta.data  <- cd4_l1_full_filt_sub@meta.data  %>% \n",
    "left_join(md_for_remission)  %>% mutate(Condition2 = paste(Condition2, Time))  %>% \n",
    "mutate(Condition2 = ifelse(grepl(Condition2, pattern = \"NA\"), NA_character_,Condition2))\n",
    "    \n",
    "print(cd4_l1_full_filt_sub$Condition2  %>% table)\n",
    "rownames(cd4_l1_full_filt_sub@meta.data)  <- colnames(cd4_l1_full_filt_sub)"
   ]
  },
  {
   "cell_type": "code",
   "execution_count": null,
   "id": "2d8eef1a",
   "metadata": {},
   "outputs": [],
   "source": [
    "md_for_ketoacidosis  <- cd4_l1_full_filt_sub@meta.data  %>% \n",
    "dplyr::filter(Condition %in% c(\"Dia T0\"))  %>% \n",
    "group_by(Patient_ID, ph_man)  %>% \n",
    "tally %>% mutate(Ketoacidosis = ifelse(ph_man<7.3,\"Keto_1\",\"Keto_0\"))  %>% \n",
    "dplyr::select(-ph_man, -n)"
   ]
  },
  {
   "cell_type": "code",
   "execution_count": null,
   "id": "c7386d8c",
   "metadata": {
    "scrolled": true
   },
   "outputs": [],
   "source": [
    "md_for_ketoacidosis"
   ]
  },
  {
   "cell_type": "code",
   "execution_count": null,
   "id": "e956b95a",
   "metadata": {},
   "outputs": [],
   "source": [
    " cd4_l1_full_filt_sub@meta.data  <- cd4_l1_full_filt_sub@meta.data  %>% \n",
    "    left_join(md_for_ketoacidosis)   %>% mutate(Keto_Time = paste(Ketoacidosis, Time))  %>% \n",
    "    mutate(Keto_Time = ifelse(grepl(Keto_Time, pattern = \"NA\"), NA_character_,Keto_Time))\n",
    "    \n",
    "    print(cd4_l1_full_filt_sub$Ketoacidosis  %>% table)\n",
    "    rownames(cd4_l1_full_filt_sub@meta.data)  <- colnames(cd4_l1_full_filt_sub)"
   ]
  },
  {
   "cell_type": "code",
   "execution_count": null,
   "id": "19ad7224",
   "metadata": {},
   "outputs": [],
   "source": [
    "Conditions  <- list(c(\"Dia T0\", \"Ctrl T0\"),\n",
    "                    c(\"Dia T0\", \"Dia T1\"),\n",
    "                    c(\"Dia T1\", \"Ctrl T0\"),\n",
    "                    c(\"PR_0 T0\", \"PR_1 T0\"),\n",
    "                    c(\"PR_0 T1\", \"PR_1 T1\"),\n",
    "                    c(\"PR_0 T0\", \"PR_0 T1\"),\n",
    "                    c(\"PR_1 T0\", \"PR_1 T1\"),\n",
    "                    c(\"Keto_1 T0\", \"Keto_0 T0\"))"
   ]
  },
  {
   "cell_type": "code",
   "execution_count": null,
   "id": "c633e0f4",
   "metadata": {},
   "outputs": [],
   "source": []
  },
  {
   "cell_type": "code",
   "execution_count": null,
   "id": "7c341059",
   "metadata": {},
   "outputs": [],
   "source": [
    "md_cd4  <- cd4_l1_full_filt_sub@meta.data  %>% \n",
    "group_by(Sample_ID, Condition, Condition2, Age, Sex, Ketoacidosis, Keto_Time)  %>% tally  %>% dplyr::select(-n)  %>% \n",
    "ungroup  %>% \n",
    "mutate(Sample_ID = as.factor(Sample_ID))"
   ]
  },
  {
   "cell_type": "code",
   "execution_count": null,
   "id": "dae92ad8",
   "metadata": {
    "scrolled": true
   },
   "outputs": [],
   "source": [
    "md_cd4$Sample_ID  <- paste0(\"g\",md_cd4$Sample_ID)"
   ]
  },
  {
   "cell_type": "code",
   "execution_count": null,
   "id": "4eb27006",
   "metadata": {},
   "outputs": [],
   "source": [
    "\n",
    "md_cd4  <- left_join(aggexp_cd4@meta.data, md_cd4)\n",
    "rownames(md_cd4)  <- colnames(aggexp_cd4)"
   ]
  },
  {
   "cell_type": "markdown",
   "id": "20629c8a",
   "metadata": {},
   "source": [
    "### CD4 L1 dataset"
   ]
  },
  {
   "cell_type": "code",
   "execution_count": null,
   "id": "d41bbbea",
   "metadata": {},
   "outputs": [],
   "source": [
    "aggexp_cd4@meta.data  <- md_cd4"
   ]
  },
  {
   "cell_type": "code",
   "execution_count": null,
   "id": "d56e9cd2",
   "metadata": {},
   "outputs": [],
   "source": []
  },
  {
   "cell_type": "code",
   "execution_count": null,
   "id": "debff50b",
   "metadata": {},
   "outputs": [],
   "source": [
    "# Function to calculate markers for a subsetted da for given conditions\n",
    "\n",
    "Create_Markers_DataFrame  <- function(j){\n",
    "     print(\"#######################\")\n",
    "    print(j)\n",
    "    \n",
    "    Condition_1 = Conditions[[j]][1]\n",
    "    Condition_2 = Conditions[[j]][2]\n",
    "    \n",
    "    seurat_obj  <- aggexp_cd4\n",
    "        \n",
    "    if(grepl(Condition_1, pattern = \"PR\")){\n",
    "      seurat_obj$Condition  <- seurat_obj$Condition2\n",
    "    }\n",
    "    \n",
    "    if(grepl(Condition_1, pattern = \"Keto\")){\n",
    "      seurat_obj$Condition  <- seurat_obj$Keto_Time\n",
    "    }\n",
    "    \n",
    "    ## Create subsetted df\n",
    "        ds  <- subset(seurat_obj, Condition %in% c(Condition_1, Condition_2) )\n",
    "        print(ds$Condition  %>% table)\n",
    "    \n",
    "    ## scRNAseq - RNA\n",
    "    DefaultAssay(ds)  <- \"RNA\"\n",
    "        Idents(ds)  <- ds$Condition\n",
    "        markers_sc  <- FindAllMarkers(ds, only.pos = T, test.use = \"DESeq2\", return.thresh = 1)\n",
    "        markers_sc$source  <- \"scRNAseq_RNA\"\n",
    "        rownames(markers_sc)  <- NULL\n",
    "    print(paste(\"DE RNA: \", nrow(markers_sc)))\n",
    "    \n",
    "    markers_sc2  <- data.frame()\n",
    "    \n",
    "   if(nrow(markers_sc2)>0 & nrow(markers_sc)>0){ \n",
    "            markers2 <- rbind(markers_sc, markers_sc2) } else {\n",
    "        if(nrow(markers_sc)>0){\n",
    "            markers2  <- markers_sc\n",
    "            } else {\n",
    "            if(nrow(markers_sc2)>0){\n",
    "                markers2  <- markers_sc2\n",
    "            \n",
    "            } else {\n",
    "                markers2  <- NULL\n",
    "                }\n",
    "        }\n",
    "        }\n",
    "    \n",
    "        markers2$test_type  <- paste(Conditions[[j]][1], \"vs\", Conditions[[j]][2])\n",
    "        print(\"..\")\n",
    "        markers2$dataset  <- \"cd4_l1_full_filt\"\n",
    "        return(markers2)\n",
    "}\n"
   ]
  },
  {
   "cell_type": "code",
   "execution_count": null,
   "id": "e92c93fa",
   "metadata": {},
   "outputs": [],
   "source": [
    "mrk  <- map(.x = 1:8, Create_Markers_DataFrame)\n",
    "\n",
    "mrk  <- bind_rows(mrk) "
   ]
  },
  {
   "cell_type": "code",
   "execution_count": null,
   "id": "fdc5e937",
   "metadata": {},
   "outputs": [],
   "source": [
    "mrk  %>% dplyr::filter(p_val_adj<0.05)"
   ]
  },
  {
   "cell_type": "code",
   "execution_count": null,
   "id": "3f7b7e51",
   "metadata": {},
   "outputs": [],
   "source": [
    "all_markers  <- mrk"
   ]
  },
  {
   "cell_type": "markdown",
   "id": "9ec9ed4e",
   "metadata": {},
   "source": [
    "### CD4 L2 datasets"
   ]
  },
  {
   "cell_type": "code",
   "execution_count": null,
   "id": "55d5efc8",
   "metadata": {},
   "outputs": [],
   "source": [
    "l2_datasets  <- levels(factor(cd4_l1_full_filt_sub$annotations_l2))"
   ]
  },
  {
   "cell_type": "code",
   "execution_count": null,
   "id": "5d21ffdc",
   "metadata": {},
   "outputs": [],
   "source": [
    "l2_datasets"
   ]
  },
  {
   "cell_type": "code",
   "execution_count": null,
   "id": "4e91425c",
   "metadata": {},
   "outputs": [],
   "source": [
    "aggexp_cd4  <- AggregateExpression(cd4_l1_full_filt_sub, group.by = c(\"Sample_ID\", \"annotations_l2\"), \n",
    "                                  features = genes_filt, return.seurat = T, assay = \"RNA\")"
   ]
  },
  {
   "cell_type": "code",
   "execution_count": null,
   "id": "f340b26f",
   "metadata": {},
   "outputs": [],
   "source": [
    "aggexp_cd4$Sample_ID  %>% table"
   ]
  },
  {
   "cell_type": "code",
   "execution_count": null,
   "id": "80ff1e54",
   "metadata": {},
   "outputs": [],
   "source": [
    "md_cd4  <- cd4_l1_full_filt_sub@meta.data  %>% \n",
    "group_by(Sample_ID, Condition, Condition2, Age, Sex, Ketoacidosis, Keto_Time)  %>% tally  %>% dplyr::select(-n)  %>% \n",
    "ungroup  %>% \n",
    "mutate(Sample_ID = as.factor(Sample_ID))"
   ]
  },
  {
   "cell_type": "code",
   "execution_count": null,
   "id": "36770549",
   "metadata": {
    "scrolled": true
   },
   "outputs": [],
   "source": [
    "md_cd4$Sample_ID  <- paste0(\"g\",md_cd4$Sample_ID)"
   ]
  },
  {
   "cell_type": "code",
   "execution_count": null,
   "id": "69e6eefb",
   "metadata": {},
   "outputs": [],
   "source": [
    "md_cd4  <- left_join(aggexp_cd4@meta.data, md_cd4)\n",
    "rownames(md_cd4)  <- colnames(aggexp_cd4)"
   ]
  },
  {
   "cell_type": "code",
   "execution_count": null,
   "id": "12829782",
   "metadata": {},
   "outputs": [],
   "source": [
    "aggexp_cd4@meta.data  <- md_cd4"
   ]
  },
  {
   "cell_type": "code",
   "execution_count": null,
   "id": "4f2ea7f3",
   "metadata": {},
   "outputs": [],
   "source": [
    "aggexp_cd4@meta.data"
   ]
  },
  {
   "cell_type": "code",
   "execution_count": null,
   "id": "a04f00f4",
   "metadata": {},
   "outputs": [],
   "source": [
    "# Function to calculate markers for a subsetted da for given conditions\n",
    "\n",
    "Create_Markers_DataFrame  <- function(j){\n",
    "     print(\"#######################\")\n",
    "    print(j)\n",
    "    \n",
    "    Condition_1 = Conditions[[j]][1]\n",
    "    Condition_2 = Conditions[[j]][2]\n",
    "    \n",
    "    seurat_obj  <- subset(aggexp_cd4, annotations_l2 == levels(factor((aggexp_cd4$annotations_l2)))[i])\n",
    "        \n",
    "    if(grepl(Condition_1, pattern = \"PR\")){\n",
    "      seurat_obj$Condition  <- seurat_obj$Condition2\n",
    "    }\n",
    "    \n",
    "    if(grepl(Condition_1, pattern = \"Keto\")){\n",
    "      seurat_obj$Condition  <- seurat_obj$Keto_Time\n",
    "    }\n",
    "    \n",
    "    ## Create subsetted df\n",
    "        ds  <- subset(seurat_obj, Condition %in% c(Condition_1, Condition_2) )\n",
    "        print(ds$Condition  %>% table)\n",
    "    \n",
    "    ## scRNAseq - RNA\n",
    "    DefaultAssay(ds)  <- \"RNA\"\n",
    "        Idents(ds)  <- ds$Condition\n",
    "        markers_sc  <- FindAllMarkers(ds, only.pos = T, test.use = \"DESeq2\", return.thresh = 1)\n",
    "        markers_sc$source  <- \"scRNAseq_RNA\"\n",
    "        rownames(markers_sc)  <- NULL\n",
    "    print(paste(\"DE RNA: \", nrow(markers_sc)))\n",
    "    \n",
    "    markers_sc2  <- data.frame()\n",
    "    \n",
    "   if(nrow(markers_sc2)>0 & nrow(markers_sc)>0){ \n",
    "            markers2 <- rbind(markers_sc, markers_sc2) } else {\n",
    "        if(nrow(markers_sc)>0){\n",
    "            markers2  <- markers_sc\n",
    "            } else {\n",
    "            if(nrow(markers_sc2)>0){\n",
    "                markers2  <- markers_sc2\n",
    "            \n",
    "            } else {\n",
    "                markers2  <- NULL\n",
    "                }\n",
    "        }\n",
    "        }\n",
    "    \n",
    "        markers2$test_type  <- paste(Conditions[[j]][1], \"vs\", Conditions[[j]][2])\n",
    "        print(\"..\")\n",
    "        markers2$dataset  <- levels(factor((aggexp_cd4$annotations_l2)))[i]\n",
    "        return(markers2)\n",
    "}\n"
   ]
  },
  {
   "cell_type": "code",
   "execution_count": null,
   "id": "8b21aec6",
   "metadata": {
    "scrolled": true
   },
   "outputs": [],
   "source": [
    "for(i in 1:length(levels(factor((aggexp_cd4$annotations_l2))))){\n",
    "\n",
    "print(\"######################################################################\")\n",
    "if(i > 1){\n",
    "suppressWarnings(rm(markers_sc, markers, markers1, markers_sc2, markers_sc_predia, markers_bulk, markers_bulk2))    \n",
    "}\n",
    "    \n",
    "mrk  <- map(.x = 1:8, Create_Markers_DataFrame)\n",
    "\n",
    "mrk  <- bind_rows(mrk) \n",
    "    \n",
    "all_markers  <- rbind(all_markers, mrk)\n",
    "\n",
    "    \n",
    "}"
   ]
  },
  {
   "cell_type": "code",
   "execution_count": null,
   "id": "bf00da22",
   "metadata": {},
   "outputs": [],
   "source": [
    "all_markers_cd4  <- all_markers"
   ]
  },
  {
   "cell_type": "code",
   "execution_count": null,
   "id": "8152356f",
   "metadata": {
    "scrolled": true
   },
   "outputs": [],
   "source": [
    "all_markers_cd4  %>% dplyr::filter(p_val_adj<0.05)"
   ]
  },
  {
   "cell_type": "markdown",
   "id": "1386bc72",
   "metadata": {},
   "source": [
    "# DESeq FoldChanges"
   ]
  },
  {
   "cell_type": "markdown",
   "id": "89e44107",
   "metadata": {},
   "source": [
    "## CD8 T cells"
   ]
  },
  {
   "cell_type": "code",
   "execution_count": null,
   "id": "e963f04f",
   "metadata": {},
   "outputs": [],
   "source": [
    "genes  <- rownames(cd8_l1_full_filt_sub@assays$RNA)"
   ]
  },
  {
   "cell_type": "code",
   "execution_count": null,
   "id": "33e74607",
   "metadata": {},
   "outputs": [],
   "source": [
    "genes_filt  <- genes[!(grepl(genes, pattern = \"^MT\")|\n",
    "                            grepl(genes, pattern = \"\\\\.\")|\n",
    "                            grepl(genes, pattern = \"LINC\")|\n",
    "                            grepl(genes, pattern = \"^MIR\")|\n",
    "                            grepl(genes, pattern = \"^MT\")|\n",
    "                            grepl(genes, pattern = \"HNRNP\")|\n",
    "                            grepl(genes, pattern = \"^RP[LS]\")|\n",
    "                            grepl(genes, pattern = \"\\\\-\")|\n",
    "                            grepl(genes, pattern = \"TTTY\")|\n",
    "                            grepl(genes, pattern = \"ORF\")|\n",
    "                            grepl(genes, pattern = \"orf\"))\n",
    "                            ]"
   ]
  },
  {
   "cell_type": "code",
   "execution_count": null,
   "id": "0d50eb0b",
   "metadata": {},
   "outputs": [],
   "source": [
    "aggexp_cd8  <- AggregateExpression(cd8_l1_full_filt_sub, group.by = c(\"Sample_ID\"), \n",
    "                                  features = genes_filt, return.seurat = T, assay = \"RNA\")"
   ]
  },
  {
   "cell_type": "markdown",
   "id": "c4730224",
   "metadata": {},
   "source": [
    "### Metadata consolidation"
   ]
  },
  {
   "cell_type": "markdown",
   "id": "520f3b48",
   "metadata": {},
   "source": [
    "We need to add metadata with Partial response and ketoacidosis to the pseudobulked object. "
   ]
  },
  {
   "cell_type": "code",
   "execution_count": null,
   "id": "63a5510e",
   "metadata": {},
   "outputs": [],
   "source": [
    "md_for_remission  <- cd8_l1_full_filt_sub@meta.data  %>% \n",
    "dplyr::filter(Condition %in% c(\"Dia T0\"))  %>% \n",
    "group_by(Patient_ID, part_remission_y_n)  %>% \n",
    "tally %>% mutate(Condition2 = paste0(\"PR_\",part_remission_y_n))  %>% \n",
    "dplyr::select(-n, -part_remission_y_n)"
   ]
  },
  {
   "cell_type": "code",
   "execution_count": null,
   "id": "f2ad954c",
   "metadata": {
    "scrolled": true
   },
   "outputs": [],
   "source": [
    "md_for_remission"
   ]
  },
  {
   "cell_type": "code",
   "execution_count": null,
   "id": "9d6a532b",
   "metadata": {},
   "outputs": [],
   "source": [
    "cd8_l1_full_filt_sub$Condition2  %>% table"
   ]
  },
  {
   "cell_type": "code",
   "execution_count": null,
   "id": "446205d7",
   "metadata": {},
   "outputs": [],
   "source": [
    "head(colnames(cd8_l1_full_filt_sub))"
   ]
  },
  {
   "cell_type": "code",
   "execution_count": null,
   "id": "b63d015c",
   "metadata": {},
   "outputs": [],
   "source": [
    "cd8_l1_full_filt_sub@meta.data"
   ]
  },
  {
   "cell_type": "code",
   "execution_count": null,
   "id": "e33a0500",
   "metadata": {},
   "outputs": [],
   "source": [
    "cd8_l1_full_filt_sub$Condition2  <- NULL\n",
    "cd8_l1_full_filt_sub@meta.data  <- cd8_l1_full_filt_sub@meta.data  %>% \n",
    "left_join(md_for_remission)  %>% mutate(Condition2 = paste(Condition2, Time))  %>% \n",
    "mutate(Condition2 = ifelse(grepl(Condition2, pattern = \"NA\"), NA_character_,Condition2))\n",
    "    "
   ]
  },
  {
   "cell_type": "code",
   "execution_count": null,
   "id": "c534fc7e",
   "metadata": {},
   "outputs": [],
   "source": [
    "md_for_ketoacidosis  <- cd8_l1_full_filt_sub@meta.data  %>% \n",
    "dplyr::filter(Condition %in% c(\"Dia T0\"))  %>% \n",
    "group_by(Patient_ID, ph_man)  %>% \n",
    "tally %>% mutate(Ketoacidosis = ifelse(ph_man<7.3,\"Keto_1\",\"Keto_0\"))  %>% \n",
    "dplyr::select(-ph_man, -n)"
   ]
  },
  {
   "cell_type": "code",
   "execution_count": null,
   "id": "1ede8f17",
   "metadata": {
    "scrolled": true
   },
   "outputs": [],
   "source": [
    "md_for_ketoacidosis"
   ]
  },
  {
   "cell_type": "code",
   "execution_count": null,
   "id": "b23ee5ec",
   "metadata": {},
   "outputs": [],
   "source": [
    " cd8_l1_full_filt_sub@meta.data  <- cd8_l1_full_filt_sub@meta.data  %>% \n",
    "    left_join(md_for_ketoacidosis)   %>% mutate(Keto_Time = paste(Ketoacidosis, Time))  %>% \n",
    "    mutate(Keto_Time = ifelse(grepl(Keto_Time, pattern = \"NA\"), NA_character_,Keto_Time))\n",
    "    \n",
    "    print(cd8_l1_full_filt_sub$Ketoacidosis  %>% table)\n"
   ]
  },
  {
   "cell_type": "code",
   "execution_count": null,
   "id": "a37258ba",
   "metadata": {},
   "outputs": [],
   "source": [
    "Conditions  <- list(c(\"Dia T0\", \"Ctrl T0\"),\n",
    "                    c(\"Dia T0\", \"Dia T1\"),\n",
    "                    c(\"Dia T1\", \"Ctrl T0\"),\n",
    "                    c(\"PR_0 T0\", \"PR_1 T0\"),\n",
    "                    c(\"PR_0 T1\", \"PR_1 T1\"),\n",
    "                    c(\"PR_0 T0\", \"PR_0 T1\"),\n",
    "                    c(\"PR_1 T0\", \"PR_1 T1\"),\n",
    "                    c(\"Keto_1 T0\", \"Keto_0 T0\"))"
   ]
  },
  {
   "cell_type": "code",
   "execution_count": null,
   "id": "d7709464",
   "metadata": {},
   "outputs": [],
   "source": []
  },
  {
   "cell_type": "code",
   "execution_count": null,
   "id": "d71cccd2",
   "metadata": {},
   "outputs": [],
   "source": [
    "md_cd8  <- cd8_l1_full_filt_sub@meta.data  %>% \n",
    "group_by(Sample_ID, Condition, Condition2, Age, Sex, Ketoacidosis, Keto_Time)  %>% tally  %>% dplyr::select(-n)  %>% \n",
    "ungroup  %>% \n",
    "mutate(Sample_ID = as.factor(Sample_ID))"
   ]
  },
  {
   "cell_type": "code",
   "execution_count": null,
   "id": "e8d73029",
   "metadata": {
    "scrolled": true
   },
   "outputs": [],
   "source": [
    "md_cd8$Sample_ID  <- paste0(\"g\",md_cd8$Sample_ID)"
   ]
  },
  {
   "cell_type": "code",
   "execution_count": null,
   "id": "9bb6b3ba",
   "metadata": {},
   "outputs": [],
   "source": [
    "\n",
    "md_cd8  <- left_join(aggexp_cd8@meta.data, md_cd8)\n",
    "rownames(md_cd8)  <- colnames(aggexp_cd8)"
   ]
  },
  {
   "cell_type": "markdown",
   "id": "4e9ca298",
   "metadata": {},
   "source": [
    "### CD8 L1 dataset"
   ]
  },
  {
   "cell_type": "code",
   "execution_count": null,
   "id": "7e077ad3",
   "metadata": {},
   "outputs": [],
   "source": []
  },
  {
   "cell_type": "code",
   "execution_count": null,
   "id": "09d851b4",
   "metadata": {},
   "outputs": [],
   "source": [
    "aggexp_cd8@meta.data  <- md_cd8"
   ]
  },
  {
   "cell_type": "code",
   "execution_count": null,
   "id": "08cbdee0",
   "metadata": {},
   "outputs": [],
   "source": [
    "# Function to calculate markers for a subsetted da for given conditions\n",
    "\n",
    "Create_Markers_DataFrame  <- function(j){\n",
    "     print(\"#######################\")\n",
    "    print(j)\n",
    "    \n",
    "    Condition_1 = Conditions[[j]][1]\n",
    "    Condition_2 = Conditions[[j]][2]\n",
    "    \n",
    "    seurat_obj  <- aggexp_cd8\n",
    "        \n",
    "    if(grepl(Condition_1, pattern = \"PR\")){\n",
    "      seurat_obj$Condition  <- seurat_obj$Condition2\n",
    "    }\n",
    "    \n",
    "    if(grepl(Condition_1, pattern = \"Keto\")){\n",
    "      seurat_obj$Condition  <- seurat_obj$Keto_Time\n",
    "    }\n",
    "    \n",
    "    ## Create subsetted df\n",
    "        ds  <- subset(seurat_obj, Condition %in% c(Condition_1, Condition_2) )\n",
    "        print(ds$Condition  %>% table)\n",
    "    \n",
    "    ## scRNAseq - RNA\n",
    "    DefaultAssay(ds)  <- \"RNA\"\n",
    "        Idents(ds)  <- ds$Condition\n",
    "        markers_sc  <- FindAllMarkers(ds, only.pos = T, test.use = \"DESeq2\", return.thresh = 1)\n",
    "        markers_sc$source  <- \"scRNAseq_RNA\"\n",
    "        rownames(markers_sc)  <- NULL\n",
    "    print(paste(\"DE RNA: \", nrow(markers_sc)))\n",
    "    \n",
    "    markers_sc2  <- data.frame()\n",
    "    \n",
    "   if(nrow(markers_sc2)>0 & nrow(markers_sc)>0){ \n",
    "            markers2 <- rbind(markers_sc, markers_sc2) } else {\n",
    "        if(nrow(markers_sc)>0){\n",
    "            markers2  <- markers_sc\n",
    "            } else {\n",
    "            if(nrow(markers_sc2)>0){\n",
    "                markers2  <- markers_sc2\n",
    "            \n",
    "            } else {\n",
    "                markers2  <- NULL\n",
    "                }\n",
    "        }\n",
    "        }\n",
    "    \n",
    "        markers2$test_type  <- paste(Conditions[[j]][1], \"vs\", Conditions[[j]][2])\n",
    "        print(\"..\")\n",
    "        markers2$dataset  <- \"cd8_l1_full_filt\"\n",
    "        return(markers2)\n",
    "}\n"
   ]
  },
  {
   "cell_type": "code",
   "execution_count": null,
   "id": "99b6f02c",
   "metadata": {
    "scrolled": true
   },
   "outputs": [],
   "source": [
    "mrk  <- map(.x = 1:8, Create_Markers_DataFrame)\n",
    "\n",
    "mrk  <- bind_rows(mrk) "
   ]
  },
  {
   "cell_type": "code",
   "execution_count": null,
   "id": "a1063a99",
   "metadata": {},
   "outputs": [],
   "source": [
    "mrk "
   ]
  },
  {
   "cell_type": "code",
   "execution_count": null,
   "id": "336a79a9",
   "metadata": {},
   "outputs": [],
   "source": [
    "all_markers  <- mrk"
   ]
  },
  {
   "cell_type": "markdown",
   "id": "cb21f507",
   "metadata": {},
   "source": [
    "### CD8 L2 datasets"
   ]
  },
  {
   "cell_type": "code",
   "execution_count": null,
   "id": "dc23237c",
   "metadata": {},
   "outputs": [],
   "source": [
    "l2_datasets  <- levels(factor(cd8_l1_full_filt_sub$annotations_l2))"
   ]
  },
  {
   "cell_type": "code",
   "execution_count": null,
   "id": "20b0e953",
   "metadata": {},
   "outputs": [],
   "source": [
    "l2_datasets"
   ]
  },
  {
   "cell_type": "code",
   "execution_count": null,
   "id": "ce9049f6",
   "metadata": {},
   "outputs": [],
   "source": [
    "aggexp_cd8  <- AggregateExpression(cd8_l1_full_filt_sub, group.by = c(\"Sample_ID\", \"annotations_l2\"), \n",
    "                                  features = genes_filt, return.seurat = T, assay = \"RNA\")"
   ]
  },
  {
   "cell_type": "code",
   "execution_count": null,
   "id": "fc1cf7e3",
   "metadata": {},
   "outputs": [],
   "source": [
    "aggexp_cd8$Sample_ID  %>% table"
   ]
  },
  {
   "cell_type": "code",
   "execution_count": null,
   "id": "cbb463ab",
   "metadata": {},
   "outputs": [],
   "source": [
    "md_cd8  <- cd8_l1_full_filt_sub@meta.data  %>% \n",
    "group_by(Sample_ID, Condition, Condition2, Age, Sex, Ketoacidosis, Keto_Time)  %>% tally  %>% dplyr::select(-n)  %>% \n",
    "ungroup  %>% \n",
    "mutate(Sample_ID = as.factor(Sample_ID))"
   ]
  },
  {
   "cell_type": "code",
   "execution_count": null,
   "id": "7812c4c5",
   "metadata": {
    "scrolled": true
   },
   "outputs": [],
   "source": [
    "md_cd8$Sample_ID  <- paste0(\"g\",md_cd8$Sample_ID)"
   ]
  },
  {
   "cell_type": "code",
   "execution_count": null,
   "id": "895c057d",
   "metadata": {},
   "outputs": [],
   "source": [
    "md_cd8  <- left_join(aggexp_cd8@meta.data, md_cd8)\n",
    "rownames(md_cd8)  <- colnames(aggexp_cd8)"
   ]
  },
  {
   "cell_type": "code",
   "execution_count": null,
   "id": "430f4f8d",
   "metadata": {},
   "outputs": [],
   "source": [
    "aggexp_cd8@meta.data  <- md_cd8"
   ]
  },
  {
   "cell_type": "code",
   "execution_count": null,
   "id": "0fabb057",
   "metadata": {
    "scrolled": true
   },
   "outputs": [],
   "source": [
    "aggexp_cd8@meta.data"
   ]
  },
  {
   "cell_type": "code",
   "execution_count": null,
   "id": "9a1856b0",
   "metadata": {},
   "outputs": [],
   "source": [
    "# Function to calculate markers for a subsetted da for given conditions\n",
    "\n",
    "Create_Markers_DataFrame  <- function(j){\n",
    "     print(\"#######################\")\n",
    "    print(j)\n",
    "    \n",
    "    Condition_1 = Conditions[[j]][1]\n",
    "    Condition_2 = Conditions[[j]][2]\n",
    "    \n",
    "    seurat_obj  <- subset(aggexp_cd8, annotations_l2 == levels(factor((aggexp_cd8$annotations_l2)))[i])\n",
    "        \n",
    "    if(grepl(Condition_1, pattern = \"PR\")){\n",
    "      seurat_obj$Condition  <- seurat_obj$Condition2\n",
    "    }\n",
    "    \n",
    "    if(grepl(Condition_1, pattern = \"Keto\")){\n",
    "      seurat_obj$Condition  <- seurat_obj$Keto_Time\n",
    "    }\n",
    "    \n",
    "    ## Create subsetted df\n",
    "        ds  <- subset(seurat_obj, Condition %in% c(Condition_1, Condition_2) )\n",
    "        print(ds$Condition  %>% table)\n",
    "    \n",
    "    ## scRNAseq - RNA\n",
    "    DefaultAssay(ds)  <- \"RNA\"\n",
    "        Idents(ds)  <- ds$Condition\n",
    "        markers_sc  <- FindAllMarkers(ds, only.pos = T, test.use = \"DESeq2\", return.thresh = 1)\n",
    "        markers_sc$source  <- \"scRNAseq_RNA\"\n",
    "        rownames(markers_sc)  <- NULL\n",
    "    print(paste(\"DE RNA: \", nrow(markers_sc)))\n",
    "    \n",
    "    markers_sc2  <- data.frame()\n",
    "    \n",
    "   if(nrow(markers_sc2)>0 & nrow(markers_sc)>0){ \n",
    "            markers2 <- rbind(markers_sc, markers_sc2) } else {\n",
    "        if(nrow(markers_sc)>0){\n",
    "            markers2  <- markers_sc\n",
    "            } else {\n",
    "            if(nrow(markers_sc2)>0){\n",
    "                markers2  <- markers_sc2\n",
    "            \n",
    "            } else {\n",
    "                markers2  <- NULL\n",
    "                }\n",
    "        }\n",
    "        }\n",
    "    \n",
    "        markers2$test_type  <- paste(Conditions[[j]][1], \"vs\", Conditions[[j]][2])\n",
    "        print(\"..\")\n",
    "        markers2$dataset  <- levels(factor((aggexp_cd8$annotations_l2)))[i]\n",
    "        return(markers2)\n",
    "}\n"
   ]
  },
  {
   "cell_type": "code",
   "execution_count": null,
   "id": "a3451094",
   "metadata": {
    "scrolled": true
   },
   "outputs": [],
   "source": [
    "for(i in 1:length(levels(factor((aggexp_cd8$annotations_l2))))){\n",
    "\n",
    "print(\"######################################################################\")\n",
    "if(i > 1){\n",
    "suppressWarnings(rm(markers_sc, markers, markers1, markers_sc2, markers_sc_predia, markers_bulk, markers_bulk2))    \n",
    "}\n",
    "    \n",
    "mrk  <- map(.x = 1:8, Create_Markers_DataFrame)\n",
    "\n",
    "mrk  <- bind_rows(mrk) \n",
    "    \n",
    "all_markers  <- rbind(all_markers, mrk)\n",
    "\n",
    "    \n",
    "}"
   ]
  },
  {
   "cell_type": "code",
   "execution_count": null,
   "id": "0061150e",
   "metadata": {
    "scrolled": true
   },
   "outputs": [],
   "source": [
    "all_markers  %>% dplyr::filter(p_val_adj<0.05)"
   ]
  },
  {
   "cell_type": "code",
   "execution_count": null,
   "id": "6e9d6b10",
   "metadata": {
    "scrolled": true
   },
   "outputs": [],
   "source": [
    "all_markers\n"
   ]
  },
  {
   "cell_type": "code",
   "execution_count": null,
   "id": "a3eff6b0",
   "metadata": {},
   "outputs": [],
   "source": [
    "all_markers_cd8   <- all_markers"
   ]
  },
  {
   "cell_type": "code",
   "execution_count": null,
   "id": "abd0e761",
   "metadata": {
    "scrolled": true
   },
   "outputs": [],
   "source": [
    "all_markers_cd8"
   ]
  },
  {
   "cell_type": "code",
   "execution_count": null,
   "id": "e35a46cd",
   "metadata": {},
   "outputs": [],
   "source": [
    "## Load fold changes calculated by Wilcox"
   ]
  },
  {
   "cell_type": "code",
   "execution_count": null,
   "id": "db2d22b7",
   "metadata": {
    "scrolled": true
   },
   "outputs": [],
   "source": [
    "all_fcs_cd8$dataset  %>% table"
   ]
  },
  {
   "cell_type": "code",
   "execution_count": null,
   "id": "d8d25020",
   "metadata": {},
   "outputs": [],
   "source": [
    "paths_fc  <- list.files(\"../../240218_VN_Diabetes_V05/tables/fold_change\", full.names = T)\n",
    "dataset_names  <- list.files(\"../../240218_VN_Diabetes_V05/tables/fold_change\", full.names = F)\n"
   ]
  },
  {
   "cell_type": "code",
   "execution_count": null,
   "id": "4f70976d",
   "metadata": {},
   "outputs": [],
   "source": [
    "paths_fc"
   ]
  },
  {
   "cell_type": "code",
   "execution_count": null,
   "id": "680ed497",
   "metadata": {},
   "outputs": [],
   "source": [
    "paths_fc  <- paths_fc[which(grepl(paths_fc, pattern = \"Ctrl\")|grepl(paths_fc, pattern = \"DiaT0_vs_DiaT1\"))]"
   ]
  },
  {
   "cell_type": "code",
   "execution_count": null,
   "id": "41721aed",
   "metadata": {},
   "outputs": [],
   "source": [
    "dataset_names  <- dataset_names[which(grepl(dataset_names, pattern = \"Ctrl\")|grepl(dataset_names, pattern = \"DiaT0_vs_DiaT1\"))]"
   ]
  },
  {
   "cell_type": "code",
   "execution_count": null,
   "id": "296542ab",
   "metadata": {
    "scrolled": true
   },
   "outputs": [],
   "source": [
    "dataset_names"
   ]
  },
  {
   "cell_type": "code",
   "execution_count": null,
   "id": "5b2cb5c0",
   "metadata": {
    "scrolled": true
   },
   "outputs": [],
   "source": [
    "paths_fc"
   ]
  },
  {
   "cell_type": "code",
   "execution_count": null,
   "id": "6b78c246",
   "metadata": {},
   "outputs": [],
   "source": [
    "fc_read  <- function(i){\n",
    "    fc.df  <- read_csv(paths_fc[i])  %>% as.data.frame()\n",
    "    fc.df$file  <- dataset_names[i]\n",
    "    return(fc.df)\n",
    "}"
   ]
  },
  {
   "cell_type": "code",
   "execution_count": null,
   "id": "b5262bb7",
   "metadata": {
    "scrolled": true
   },
   "outputs": [],
   "source": [
    "fc.dfs  <- map(1:length(paths_fc),.f = fc_read)"
   ]
  },
  {
   "cell_type": "code",
   "execution_count": null,
   "id": "125e0c76",
   "metadata": {},
   "outputs": [],
   "source": [
    "fc.dfs2  <- bind_rows(fc.dfs)"
   ]
  },
  {
   "cell_type": "code",
   "execution_count": null,
   "id": "9669ee3c",
   "metadata": {
    "scrolled": true
   },
   "outputs": [],
   "source": [
    "fc.dfs2$file  %>% table"
   ]
  },
  {
   "cell_type": "code",
   "execution_count": null,
   "id": "e7a4b41a",
   "metadata": {
    "scrolled": true
   },
   "outputs": [],
   "source": [
    "fc.dfs3  <- fc.dfs2 %>%  \n",
    "mutate(dataset = file)  %>% \n",
    "mutate(dataset = gsub(dataset, pattern = \"_Ctrl_vs_DiaT0\", replacement = \".Ctrl_vs_DiaT0\"))  %>% \n",
    "mutate(dataset = gsub(dataset, pattern = \"_Ctrl_vs_DiaT1\", replacement = \".Ctrl_vs_DiaT1\"))  %>% \n",
    "mutate(dataset = gsub(dataset, pattern = \"_DiaT0_vs_DiaT1\", replacement = \".DiaT0_vs_DiaT1\"))  %>% \n",
    "separate(dataset, into = c(\"population\", \"test_type\"), sep = \"\\\\.\", remove = F)  %>% \n",
    "dplyr::filter(grepl(x = cluster, pattern = \"Dia\")) "
   ]
  },
  {
   "cell_type": "markdown",
   "id": "1e6f4e91",
   "metadata": {},
   "source": [
    "### CD8 fold change correlations"
   ]
  },
  {
   "cell_type": "code",
   "execution_count": null,
   "id": "8d7db89e",
   "metadata": {},
   "outputs": [],
   "source": [
    "fc.dfs3"
   ]
  },
  {
   "cell_type": "code",
   "execution_count": null,
   "id": "ceaaae0c",
   "metadata": {},
   "outputs": [],
   "source": [
    "fc.dfs3.cd8  <- fc.dfs3  %>% dplyr::filter(grepl(population, pattern = \"cd8\"))"
   ]
  },
  {
   "cell_type": "markdown",
   "id": "b938694a",
   "metadata": {},
   "source": [
    "We see that the names of populations are different between DESeq FCs and Wilcox FCs. We need to fix that. "
   ]
  },
  {
   "cell_type": "code",
   "execution_count": null,
   "id": "e7b3845b",
   "metadata": {},
   "outputs": [],
   "source": [
    "fc.dfs3.cd8$population  %>% table"
   ]
  },
  {
   "cell_type": "code",
   "execution_count": null,
   "id": "fc92906c",
   "metadata": {},
   "outputs": [],
   "source": [
    "all_fcs_cd8  <- all_markers_cd8"
   ]
  },
  {
   "cell_type": "code",
   "execution_count": null,
   "id": "969bcfae",
   "metadata": {},
   "outputs": [],
   "source": [
    "all_fcs_cd8$dataset  %>% table"
   ]
  },
  {
   "cell_type": "code",
   "execution_count": null,
   "id": "155eba62",
   "metadata": {},
   "outputs": [],
   "source": [
    "all_fcs_cd8$dataset  %>% table"
   ]
  },
  {
   "cell_type": "code",
   "execution_count": null,
   "id": "b409d5e0",
   "metadata": {},
   "outputs": [],
   "source": [
    "colnames(all_fcs_cd8)"
   ]
  },
  {
   "cell_type": "markdown",
   "id": "1e01feda",
   "metadata": {},
   "source": [
    "Now I will create a new column population that will contain factor with the same levels as in fc.dfs3.cd8"
   ]
  },
  {
   "cell_type": "code",
   "execution_count": null,
   "id": "ca8bed18",
   "metadata": {},
   "outputs": [],
   "source": [
    "all_fcs_cd8  <- all_fcs_cd8  %>% mutate(population = recode_factor(dataset,\n",
    "              \"CD8 NK cells---NK cells\" = \"cd8_l2_nk\",\n",
    "              \"CD8 T cells---Naive\" = \"cd8_l3_naive\",\n",
    "              \"CD8 T cells---Proliferating\" = \"cd8_l3_prolif\",\n",
    "              \"CD8 T cells---Tcm\" = \"cd8_l3_tcm\",\n",
    "              \"CD8 T cells---Tem\" = \"cd8_l3_tem\",\n",
    "              \"CD8 T cells---Temra\" = \"cd8_l3_temra\",\n",
    "              \"CD8 Unconventional T cells---gd T cells\" = \"cd8_l2_subcluster\",\n",
    "              \"CD8 Unconventional T cells---MAIT cells\" = \"cd8_l2_unc\",\n",
    "              \"cd8_l1_full_filt\" = \"cd8_l1_full_filt\"))"
   ]
  },
  {
   "cell_type": "markdown",
   "id": "2784bde2",
   "metadata": {},
   "source": [
    "We also need to make sure that we will be comparing the same test types. "
   ]
  },
  {
   "cell_type": "code",
   "execution_count": null,
   "id": "a9d7f108",
   "metadata": {},
   "outputs": [],
   "source": [
    "all_fcs_cd8$test_type  %>% table"
   ]
  },
  {
   "cell_type": "code",
   "execution_count": null,
   "id": "c026da0b",
   "metadata": {},
   "outputs": [],
   "source": [
    "fc.dfs3.cd8$test_type  %>% table"
   ]
  },
  {
   "cell_type": "markdown",
   "id": "d7fa4f2c",
   "metadata": {},
   "source": [
    "For now we will only work with Ctrl and T1D comnparisons. "
   ]
  },
  {
   "cell_type": "code",
   "execution_count": null,
   "id": "942cd65e",
   "metadata": {},
   "outputs": [],
   "source": [
    "fc.dfs3.cd8  <- fc.dfs3.cd8  %>% \n",
    "mutate(test_type = recode_factor(test_type,\n",
    "              \"Ctrl_vs_DiaT0\" = \"Dia T0 vs Ctrl T0\" ,\n",
    "              \"Ctrl_vs_DiaT1\" = \"Dia T1 vs Ctrl T0\",\n",
    "              \"DiaT0_vs_DiaT1\" = \"Dia T0 vs Dia T1\"))"
   ]
  },
  {
   "cell_type": "markdown",
   "id": "d7302ea9",
   "metadata": {},
   "source": [
    "Let's check that we have both positive and negative values for FCs in both tables. "
   ]
  },
  {
   "cell_type": "code",
   "execution_count": null,
   "id": "36ab2ff6",
   "metadata": {},
   "outputs": [],
   "source": [
    "fc.dfs3.cd8$cluster  %>% table"
   ]
  },
  {
   "cell_type": "code",
   "execution_count": null,
   "id": "d33703ae",
   "metadata": {
    "scrolled": true
   },
   "outputs": [],
   "source": [
    "all_fcs_cd8"
   ]
  },
  {
   "cell_type": "code",
   "execution_count": null,
   "id": "eb4beb7b",
   "metadata": {},
   "outputs": [],
   "source": [
    "fc.dfs3.cd8  %>% dplyr::filter(test_type == \"Dia T0 vs Dia T1\")"
   ]
  },
  {
   "cell_type": "markdown",
   "id": "83706187",
   "metadata": {},
   "source": [
    "Correlations of FCs."
   ]
  },
  {
   "cell_type": "code",
   "execution_count": null,
   "id": "84fae227",
   "metadata": {},
   "outputs": [],
   "source": [
    "wilcox_fcs  <- fc.dfs3.cd8  %>% \n",
    "                dplyr::filter(!(test_type == \"Dia T0 vs Dia T1\" & cluster == \"Dia T1\"))  %>% \n",
    "                dplyr::select(gene, population, test_type, avg_log2FC_Wilcox = avg_log2FC)\n",
    "\n",
    "DESeq_fcs  <- all_fcs_cd8  %>% dplyr::select(gene, population, test_type, avg_log2FC_DESeq = avg_log2FC)\n"
   ]
  },
  {
   "cell_type": "code",
   "execution_count": null,
   "id": "2d52362d",
   "metadata": {},
   "outputs": [],
   "source": [
    "all_joint_fcs  <- wilcox_fcs  %>% left_join(DESeq_fcs)"
   ]
  },
  {
   "cell_type": "code",
   "execution_count": null,
   "id": "a78734ed",
   "metadata": {
    "scrolled": true
   },
   "outputs": [],
   "source": [
    "all_joint_fcs"
   ]
  },
  {
   "cell_type": "code",
   "execution_count": null,
   "id": "47628d70",
   "metadata": {},
   "outputs": [],
   "source": [
    "options(repr.plot.width = 12, repr.plot.height = 20)\n",
    "all_joint_fcs  %>% \n",
    "ggplot(aes(x = avg_log2FC_Wilcox, y = avg_log2FC_DESeq)) +\n",
    "geom_point(alpha = 0.5, size = 0.5) +\n",
    "facet_grid(cols = vars(test_type), rows = vars(population), scales = \"free\") +\n",
    "ggpubr::stat_cor() +\n",
    "geom_smooth(method = lm) +\n",
    "ggtheme()"
   ]
  },
  {
   "cell_type": "code",
   "execution_count": null,
   "id": "70ed8512",
   "metadata": {
    "scrolled": true
   },
   "outputs": [],
   "source": [
    "all_joint_fcs"
   ]
  },
  {
   "cell_type": "code",
   "execution_count": null,
   "id": "ed1d66db",
   "metadata": {},
   "outputs": [],
   "source": [
    "cor_stats_cd8  <- all_joint_fcs  %>% \n",
    "dplyr::filter(!is.na(avg_log2FC_Wilcox) & !is.na(avg_log2FC_DESeq))  %>% \n",
    "group_by(population, test_type)  %>% \n",
    "rstatix::cor_test(avg_log2FC_Wilcox, avg_log2FC_DESeq)  "
   ]
  },
  {
   "cell_type": "code",
   "execution_count": null,
   "id": "07d18edd",
   "metadata": {
    "scrolled": true
   },
   "outputs": [],
   "source": [
    "cor_stats_cd8"
   ]
  },
  {
   "cell_type": "code",
   "execution_count": null,
   "id": "d5a94a4b",
   "metadata": {},
   "outputs": [],
   "source": [
    "options(repr.plot.width = 12, repr.plot.height = 5)\n",
    "cor_stats_cd8  %>% \n",
    "ggplot(aes(x = statistic, y = -log(p), color = population)) +\n",
    "geom_point() +\n",
    "facet_wrap(~test_type, ncol = 3)"
   ]
  },
  {
   "cell_type": "markdown",
   "id": "d8e9b127",
   "metadata": {},
   "source": [
    "###  CD4 FCS correlation"
   ]
  },
  {
   "cell_type": "code",
   "execution_count": null,
   "id": "b3eee725",
   "metadata": {},
   "outputs": [],
   "source": [
    "all_fcs_cd8  <- all_markers_cd8"
   ]
  },
  {
   "cell_type": "code",
   "execution_count": null,
   "id": "54ac92cc",
   "metadata": {},
   "outputs": [],
   "source": []
  },
  {
   "cell_type": "code",
   "execution_count": null,
   "id": "dc985e53",
   "metadata": {},
   "outputs": [],
   "source": []
  },
  {
   "cell_type": "code",
   "execution_count": null,
   "id": "7f1b5c24",
   "metadata": {},
   "outputs": [],
   "source": [
    "fc.dfs3.cd4  <- fc.dfs3  %>% dplyr::filter(grepl(population, pattern = \"cd4\"))"
   ]
  },
  {
   "cell_type": "markdown",
   "id": "a95624e7",
   "metadata": {},
   "source": [
    "We see that the names of populations are different between DESeq FCs and Wilcox FCs. We need to fix that. "
   ]
  },
  {
   "cell_type": "code",
   "execution_count": null,
   "id": "c268fe1c",
   "metadata": {},
   "outputs": [],
   "source": [
    "fc.dfs3.cd4$population  %>% table"
   ]
  },
  {
   "cell_type": "code",
   "execution_count": null,
   "id": "0651068b",
   "metadata": {},
   "outputs": [],
   "source": [
    "all_fcs_cd4$dataset  %>% table"
   ]
  },
  {
   "cell_type": "code",
   "execution_count": null,
   "id": "cec00df0",
   "metadata": {},
   "outputs": [],
   "source": [
    "colnames(all_fcs_cd4)"
   ]
  },
  {
   "cell_type": "markdown",
   "id": "0b0c1f9a",
   "metadata": {},
   "source": [
    "Now I will create a new column population that will contain factor with the same levels as in fc.dfs3.cd4"
   ]
  },
  {
   "cell_type": "code",
   "execution_count": null,
   "id": "a849bfb1",
   "metadata": {},
   "outputs": [],
   "source": [
    "all_fcs_cd4  <- all_fcs_cd4  %>% mutate(population = recode_factor(dataset,\n",
    "              \"CD4 T cells---ISAGhi\" = \"cd4_l3_isaghi\",\n",
    "              \"CD4 T cells---Naive\" = \"cd4_l3_naive\",\n",
    "              \"CD4 T cells---Nfkb\" = \"cd4_l3_nfkb\",\n",
    "              \"CD4 T cells---Proliferating\" = \"cd4_l3_proliferating\",\n",
    "              \"CD4 T cells---Temra\" = \"cd4_l3_temra\",\n",
    "              \"CD4 T cells---Tfh\" = \"cd4_l3_tfh\",\n",
    "              \"CD4 T cells---Th1Th17\" = \"cd4_l3_th1th17\",\n",
    "              \"CD4 T cells---Th2\" = \"cd4_l3_th2\",\n",
    "              \"CD4 T cells---Treg\" = \"cd4_l3_treg\",\n",
    "              \"CD4 Unconventional T cells---Unconventional\" = \"cd4_l2_unc\",\n",
    "              \"cd4_l1_full_filt\" = \"cd4_l1_full_filt\"\n",
    "              ))"
   ]
  },
  {
   "cell_type": "markdown",
   "id": "1800dacd",
   "metadata": {},
   "source": [
    "We also need to make sure that we will be comparing the same test types. "
   ]
  },
  {
   "cell_type": "code",
   "execution_count": null,
   "id": "d427aabb",
   "metadata": {},
   "outputs": [],
   "source": [
    "all_fcs_cd4$test_type  %>% table"
   ]
  },
  {
   "cell_type": "code",
   "execution_count": null,
   "id": "3984008e",
   "metadata": {},
   "outputs": [],
   "source": [
    "fc.dfs3.cd4$test_type  %>% table"
   ]
  },
  {
   "cell_type": "markdown",
   "id": "b3885b32",
   "metadata": {},
   "source": [
    "For now we will only work with Ctrl and T1D comnparisons. "
   ]
  },
  {
   "cell_type": "code",
   "execution_count": null,
   "id": "08e676aa",
   "metadata": {},
   "outputs": [],
   "source": [
    "fc.dfs3.cd4  <- fc.dfs3.cd4  %>% \n",
    "mutate(test_type = recode_factor(test_type,\n",
    "              \"Ctrl_vs_DiaT0\" = \"Dia T0 vs Ctrl T0\" ,\n",
    "              \"Ctrl_vs_DiaT1\" = \"Dia T1 vs Ctrl T0\",\n",
    "              \"DiaT0_vs_DiaT1\" = \"Dia T0 vs Dia T1\"))"
   ]
  },
  {
   "cell_type": "markdown",
   "id": "d93cf722",
   "metadata": {},
   "source": [
    "Let's check that we have both positive and negative values for FCs in both tables. "
   ]
  },
  {
   "cell_type": "code",
   "execution_count": null,
   "id": "8c75d2d7",
   "metadata": {},
   "outputs": [],
   "source": [
    "fc.dfs3.cd4$cluster  %>% table"
   ]
  },
  {
   "cell_type": "code",
   "execution_count": null,
   "id": "77fd2a62",
   "metadata": {
    "scrolled": true
   },
   "outputs": [],
   "source": [
    "all_fcs_cd4"
   ]
  },
  {
   "cell_type": "code",
   "execution_count": null,
   "id": "416e65b1",
   "metadata": {},
   "outputs": [],
   "source": [
    "fc.dfs3.cd4  %>% dplyr::filter(test_type == \"Dia T0 vs Dia T1\")"
   ]
  },
  {
   "cell_type": "markdown",
   "id": "dd96ac50",
   "metadata": {},
   "source": [
    "Correlations of FCs."
   ]
  },
  {
   "cell_type": "code",
   "execution_count": null,
   "id": "d0b0077a",
   "metadata": {},
   "outputs": [],
   "source": [
    "wilcox_fcs_cd4  <- fc.dfs3.cd4  %>% \n",
    "                dplyr::filter(!(test_type == \"Dia T0 vs Dia T1\" & cluster == \"Dia T1\"))  %>% \n",
    "                dplyr::select(gene, population, test_type, avg_log2FC_Wilcox = avg_log2FC)\n",
    "\n",
    "DESeq_fcs_cd4  <- all_fcs_cd4  %>% dplyr::select(gene, population, test_type, avg_log2FC_DESeq = avg_log2FC)\n"
   ]
  },
  {
   "cell_type": "code",
   "execution_count": null,
   "id": "1893dd2f",
   "metadata": {},
   "outputs": [],
   "source": [
    "all_joint_fcs_cd4  <- wilcox_fcs_cd4  %>% left_join(DESeq_fcs_cd4)"
   ]
  },
  {
   "cell_type": "code",
   "execution_count": null,
   "id": "f94177f5",
   "metadata": {
    "scrolled": true
   },
   "outputs": [],
   "source": [
    "all_joint_fcs_cd4"
   ]
  },
  {
   "cell_type": "code",
   "execution_count": null,
   "id": "7b36df39",
   "metadata": {},
   "outputs": [],
   "source": [
    "options(repr.plot.width = 12, repr.plot.height = 20)\n",
    "all_joint_fcs_cd4  %>% \n",
    "dplyr::filter(population != \"cd4_l2_subcluster\")  %>% \n",
    "ggplot(aes(x = avg_log2FC_Wilcox, y = avg_log2FC_DESeq)) +\n",
    "geom_point(alpha = 0.5, size = 0.5) +\n",
    "facet_grid(cols = vars(test_type), rows = vars(population), scales = \"free\") +\n",
    "ggpubr::stat_cor() +\n",
    "geom_smooth(method = lm) +\n",
    "ggtheme()"
   ]
  },
  {
   "cell_type": "code",
   "execution_count": null,
   "id": "d8bcfd44",
   "metadata": {},
   "outputs": [],
   "source": [
    "cor_stats_cd4  <- all_joint_fcs_cd4  %>% \n",
    "dplyr::filter(!is.na(avg_log2FC_Wilcox) & !is.na(avg_log2FC_DESeq))  %>% \n",
    "group_by(population, test_type)  %>% \n",
    "rstatix::cor_test(avg_log2FC_Wilcox, avg_log2FC_DESeq)  "
   ]
  },
  {
   "cell_type": "code",
   "execution_count": null,
   "id": "4aece3cf",
   "metadata": {
    "scrolled": true
   },
   "outputs": [],
   "source": [
    "cor_stats_cd4"
   ]
  },
  {
   "cell_type": "code",
   "execution_count": null,
   "id": "bf750258",
   "metadata": {},
   "outputs": [],
   "source": [
    "options(repr.plot.width = 12, repr.plot.height = 5)\n",
    "cor_stats_cd4  %>% \n",
    "ggplot(aes(x = statistic, y = -log(p), color = population)) +\n",
    "geom_point() +\n",
    "facet_wrap(~test_type, ncol = 3)"
   ]
  },
  {
   "cell_type": "code",
   "execution_count": null,
   "id": "75a780c6",
   "metadata": {},
   "outputs": [],
   "source": [
    "ls()"
   ]
  },
  {
   "cell_type": "code",
   "execution_count": null,
   "id": "58daccb3",
   "metadata": {},
   "outputs": [],
   "source": []
  },
  {
   "cell_type": "markdown",
   "id": "e3eec4e7",
   "metadata": {},
   "source": [
    "# Main DEG genes in groups and by DESeq"
   ]
  },
  {
   "cell_type": "markdown",
   "id": "c2f4c39b",
   "metadata": {},
   "source": [
    "## CD4"
   ]
  },
  {
   "cell_type": "code",
   "execution_count": null,
   "id": "4ff8f53a",
   "metadata": {},
   "outputs": [],
   "source": []
  },
  {
   "cell_type": "code",
   "execution_count": null,
   "id": "be6c3545",
   "metadata": {},
   "outputs": [],
   "source": [
    "genes  <- rownames(cd4_l1_full_filt_sub@assays$RNA)"
   ]
  },
  {
   "cell_type": "code",
   "execution_count": null,
   "id": "ac71098b",
   "metadata": {},
   "outputs": [],
   "source": [
    "genes_filt  <- genes[!(grepl(genes, pattern = \"^MT\")|\n",
    "                            grepl(genes, pattern = \"\\\\.\")|\n",
    "                            grepl(genes, pattern = \"LINC\")|\n",
    "                            grepl(genes, pattern = \"^MIR\")|\n",
    "                            grepl(genes, pattern = \"^MT\")|\n",
    "                            grepl(genes, pattern = \"HNRNP\")|\n",
    "                            grepl(genes, pattern = \"^RP[LS]\")|\n",
    "                            grepl(genes, pattern = \"\\\\-\")|\n",
    "                            grepl(genes, pattern = \"TTTY\")|\n",
    "                            grepl(genes, pattern = \"ORF\")|\n",
    "                            grepl(genes, pattern = \"orf\"))\n",
    "                            ]"
   ]
  },
  {
   "cell_type": "code",
   "execution_count": null,
   "id": "fb9d3c24",
   "metadata": {},
   "outputs": [],
   "source": [
    "aggexp_cd4  <- AggregateExpression(cd4_l1_full_filt_sub, group.by = c(\"Sample_ID\"), \n",
    "                                  features = genes_filt, return.seurat = T, assay = \"RNA\")"
   ]
  },
  {
   "cell_type": "code",
   "execution_count": null,
   "id": "a50968ee",
   "metadata": {},
   "outputs": [],
   "source": [
    "md_cd4  <- cd4_l1_full_filt_sub@meta.data  %>% \n",
    "group_by(Sample_ID, Condition, Condition2, Age, Sex)  %>% tally  %>% dplyr::select(-n)  %>% \n",
    "ungroup  %>% \n",
    "mutate(Sample_ID = as.factor(Sample_ID))"
   ]
  },
  {
   "cell_type": "code",
   "execution_count": null,
   "id": "5182fad9",
   "metadata": {
    "scrolled": true
   },
   "outputs": [],
   "source": [
    "md_cd4$Sample_ID  <- paste0(\"g\",md_cd4$Sample_ID)"
   ]
  },
  {
   "cell_type": "code",
   "execution_count": null,
   "id": "6119b30b",
   "metadata": {},
   "outputs": [],
   "source": [
    "\n",
    "md_cd4  <- left_join(aggexp_cd4@meta.data, md_cd4)\n",
    "rownames(md_cd4)  <- colnames(aggexp_cd4)"
   ]
  },
  {
   "cell_type": "code",
   "execution_count": null,
   "id": "a17dbb28",
   "metadata": {},
   "outputs": [],
   "source": [
    "aggexp_cd4@meta.data  <- md_cd4"
   ]
  },
  {
   "cell_type": "code",
   "execution_count": null,
   "id": "ae189ca3",
   "metadata": {},
   "outputs": [],
   "source": [
    "genes  <- c(\"LEF1\",\"NELL2\",\"IL7R\",\"GZMA\",\"GNLY\",\"TNF\")"
   ]
  },
  {
   "cell_type": "code",
   "execution_count": null,
   "id": "31ea81ed",
   "metadata": {},
   "outputs": [],
   "source": [
    "df  <- aggexp_cd4@assays$RNA@layers$data[which(rownames(aggexp_cd4@assays$RNA) %in% genes),]"
   ]
  },
  {
   "cell_type": "code",
   "execution_count": null,
   "id": "1a33fd68",
   "metadata": {},
   "outputs": [],
   "source": [
    "colnames(df)  <- colnames(aggexp_cd4)\n",
    "rownames(df)  <- rownames(aggexp_cd4@assays$RNA)[which(rownames(aggexp_cd4@assays$RNA) %in% genes)]"
   ]
  },
  {
   "cell_type": "code",
   "execution_count": null,
   "id": "ad32258d",
   "metadata": {},
   "outputs": [],
   "source": [
    "df  <- df  %>% t()  %>% as.data.frame()  %>% \n",
    "rownames_to_column(\"Sample_ID\")  %>% \n",
    "pivot_longer(!Sample_ID, names_to = \"gene\", values_to = \"value\")  \n"
   ]
  },
  {
   "cell_type": "code",
   "execution_count": null,
   "id": "343aece1",
   "metadata": {
    "scrolled": true
   },
   "outputs": [],
   "source": [
    "df"
   ]
  },
  {
   "cell_type": "code",
   "execution_count": null,
   "id": "c814f39d",
   "metadata": {},
   "outputs": [],
   "source": [
    "df  <- df  %>% left_join(md_cd4)"
   ]
  },
  {
   "cell_type": "code",
   "execution_count": null,
   "id": "7be60406",
   "metadata": {
    "scrolled": true
   },
   "outputs": [],
   "source": [
    "options(repr.plot.width = 10, repr.plot.height = 7)\n",
    "df  %>% \n",
    "ggplot(aes(x = Condition, y = value)) +\n",
    "geom_violin(scale = \"width\", aes(fill = Condition), alpha = 0.4) +\n",
    "stat_summary(fun = \"median\",\n",
    "               geom = \"crossbar\", \n",
    "               width = 0.75,\n",
    "               color = \"grey30\") +\n",
    "geom_beeswarm(size = 3, aes(fill = Condition), cex = 3, \n",
    "                shape = 21, color = \"black\", corral = \"random\") +\n",
    " stat_compare_means(label = \"p.format\", comparisons = list(c(1,2))) +\n",
    "facet_wrap(~factor(gene, levels = c(\"LEF1\",\"NELL2\",\"IL7R\",\"GZMA\",\"GNLY\",\"TNF\")), ncol = 3, scales = \"free\") +\n",
    "theme_classic() +\n",
    "ggtheme() +\n",
    "scale_fill_manual(values = c(\"#1874cdff\",  \"#ee6363ff\", \"#c41515ff\",\"#eeb4b4ff\")) +\n",
    "scale_color_manual(values = c(\"dodgerblue3\",  \"#e54c4cff\", \"#aa2a2aff\",\"#e88989ff\")) +\n",
    "ylab(\"\") +\n",
    "  xlab(\"\") +\n",
    "theme(axis.text.x = element_blank(),\n",
    "      axis.ticks.x = element_blank()\n",
    "      )"
   ]
  },
  {
   "cell_type": "code",
   "execution_count": null,
   "id": "51f56311",
   "metadata": {},
   "outputs": [],
   "source": [
    "options(repr.plot.width = 10, repr.plot.height = 7)\n",
    "df  %>% \n",
    "ggplot(aes(x = Sex, y = value)) +\n",
    "geom_violin(scale = \"width\", aes(fill = Sex), alpha = 0.2) +\n",
    "stat_summary(fun = \"median\",\n",
    "               geom = \"crossbar\", \n",
    "               width = 0.75,\n",
    "               color = \"grey30\") +\n",
    "geom_beeswarm(size = 3, aes(fill = Sex), cex = 3, \n",
    "                shape = 21, color = \"black\", corral = \"random\") +\n",
    " stat_compare_means(label = \"p.format\", comparisons = list(c(1,2))) +\n",
    "facet_wrap(~factor(gene, levels = c(\"LEF1\",\"NELL2\",\"IL7R\",\"GZMA\",\"GNLY\",\"TNF\")), ncol = 3, scales = \"free\") +\n",
    "theme_classic() +\n",
    "ggtheme() +\n",
    "scale_fill_manual(values = c(\"hotpink\",  \"skyblue\")) +\n",
    "scale_color_manual(values = c(\"hotpink\",  \"skyblue\")) +\n",
    "ylab(\"\") +\n",
    "  xlab(\"\") +\n",
    "theme(axis.text.x = element_blank(),\n",
    "      axis.ticks.x = element_blank()\n",
    "      )"
   ]
  },
  {
   "cell_type": "code",
   "execution_count": null,
   "id": "a2644265",
   "metadata": {},
   "outputs": [],
   "source": []
  },
  {
   "cell_type": "code",
   "execution_count": null,
   "id": "adca4253",
   "metadata": {},
   "outputs": [],
   "source": [
    "# Newly identified NFAT pathway"
   ]
  },
  {
   "cell_type": "code",
   "execution_count": null,
   "id": "503e5e44",
   "metadata": {},
   "outputs": [],
   "source": [
    "genes  <- c(\"NFATC2\",\"NFATC3\",\"ORAI1\")"
   ]
  },
  {
   "cell_type": "code",
   "execution_count": null,
   "id": "67c1754e",
   "metadata": {},
   "outputs": [],
   "source": [
    "df  <- aggexp_cd4@assays$RNA@layers$data[which(rownames(aggexp_cd4@assays$RNA) %in% genes),]"
   ]
  },
  {
   "cell_type": "code",
   "execution_count": null,
   "id": "3a97d2c6",
   "metadata": {},
   "outputs": [],
   "source": [
    "colnames(df)  <- colnames(aggexp_cd4)\n",
    "rownames(df)  <- rownames(aggexp_cd4@assays$RNA)[which(rownames(aggexp_cd4@assays$RNA) %in% genes)]"
   ]
  },
  {
   "cell_type": "code",
   "execution_count": null,
   "id": "6fa352fb",
   "metadata": {},
   "outputs": [],
   "source": [
    "df  <- df  %>% t()  %>% as.data.frame()  %>% \n",
    "rownames_to_column(\"Sample_ID\")  %>% \n",
    "pivot_longer(!Sample_ID, names_to = \"gene\", values_to = \"value\")  \n"
   ]
  },
  {
   "cell_type": "code",
   "execution_count": null,
   "id": "855b4f62",
   "metadata": {
    "scrolled": true
   },
   "outputs": [],
   "source": [
    "df"
   ]
  },
  {
   "cell_type": "code",
   "execution_count": null,
   "id": "c6364229",
   "metadata": {},
   "outputs": [],
   "source": [
    "df  <- df  %>% left_join(md_cd4)"
   ]
  },
  {
   "cell_type": "code",
   "execution_count": null,
   "id": "a06c1a59",
   "metadata": {
    "scrolled": true
   },
   "outputs": [],
   "source": [
    "options(repr.plot.width = 10, repr.plot.height = 3.5)\n",
    "df  %>% \n",
    "ggplot(aes(x = Condition, y = value)) +\n",
    "geom_violin(scale = \"width\", aes(fill = Condition), alpha = 0.4) +\n",
    "stat_summary(fun = \"median\",\n",
    "               geom = \"crossbar\", \n",
    "               width = 0.75,\n",
    "               color = \"grey30\") +\n",
    "geom_beeswarm(size = 3, aes(fill = Condition), cex = 3, \n",
    "                shape = 21, color = \"black\", corral = \"random\") +\n",
    " stat_compare_means(label = \"p.format\", comparisons = list(c(1,2))) +\n",
    "facet_wrap(~factor(gene, levels = c(\"NFATC2\",\"NFATC3\",\"ORAI1\")), ncol = 3, scales = \"free\") +\n",
    "theme_classic() +\n",
    "ggtheme() +\n",
    "scale_fill_manual(values = c(\"#1874cdff\",  \"#ee6363ff\", \"#c41515ff\",\"#eeb4b4ff\")) +\n",
    "scale_color_manual(values = c(\"dodgerblue3\",  \"#e54c4cff\", \"#aa2a2aff\",\"#e88989ff\")) +\n",
    "ylab(\"\") +\n",
    "  xlab(\"\") +\n",
    "theme(axis.text.x = element_blank(),\n",
    "      axis.ticks.x = element_blank()\n",
    "      )"
   ]
  },
  {
   "cell_type": "code",
   "execution_count": null,
   "id": "21adbe33",
   "metadata": {},
   "outputs": [],
   "source": []
  },
  {
   "cell_type": "code",
   "execution_count": null,
   "id": "33c94837",
   "metadata": {},
   "outputs": [],
   "source": []
  },
  {
   "cell_type": "code",
   "execution_count": null,
   "id": "c227ca0b",
   "metadata": {},
   "outputs": [],
   "source": []
  },
  {
   "cell_type": "markdown",
   "id": "07bbf349",
   "metadata": {},
   "source": [
    "## CD8"
   ]
  },
  {
   "cell_type": "code",
   "execution_count": null,
   "id": "e62c2636",
   "metadata": {},
   "outputs": [],
   "source": [
    "genes  <- rownames(cd8_l1_full_filt_sub@assays$RNA)"
   ]
  },
  {
   "cell_type": "code",
   "execution_count": null,
   "id": "e50ec385",
   "metadata": {},
   "outputs": [],
   "source": [
    "genes_filt  <- genes[!(grepl(genes, pattern = \"^MT\")|\n",
    "                            grepl(genes, pattern = \"\\\\.\")|\n",
    "                            grepl(genes, pattern = \"LINC\")|\n",
    "                            grepl(genes, pattern = \"^MIR\")|\n",
    "                            grepl(genes, pattern = \"^MT\")|\n",
    "                            grepl(genes, pattern = \"HNRNP\")|\n",
    "                            grepl(genes, pattern = \"^RP[LS]\")|\n",
    "                            grepl(genes, pattern = \"\\\\-\")|\n",
    "                            grepl(genes, pattern = \"TTTY\")|\n",
    "                            grepl(genes, pattern = \"ORF\")|\n",
    "                            grepl(genes, pattern = \"orf\"))\n",
    "                            ]"
   ]
  },
  {
   "cell_type": "code",
   "execution_count": null,
   "id": "e2d6fec6",
   "metadata": {},
   "outputs": [],
   "source": [
    "aggexp_cd8  <- AggregateExpression(cd8_l1_full_filt_sub, group.by = c(\"Sample_ID\"), \n",
    "                                  features = genes_filt, return.seurat = T, assay = \"RNA\")"
   ]
  },
  {
   "cell_type": "code",
   "execution_count": null,
   "id": "d55b9070",
   "metadata": {},
   "outputs": [],
   "source": [
    "md_cd8  <- cd8_l1_full_filt_sub@meta.data  %>% \n",
    "group_by(Sample_ID, Condition, Condition2, Age, Sex)  %>% tally  %>% dplyr::select(-n)  %>% \n",
    "ungroup  %>% \n",
    "mutate(Sample_ID = as.factor(Sample_ID))"
   ]
  },
  {
   "cell_type": "code",
   "execution_count": null,
   "id": "eb3bf4e9",
   "metadata": {
    "scrolled": true
   },
   "outputs": [],
   "source": [
    "md_cd8$Sample_ID  <- paste0(\"g\",md_cd8$Sample_ID)"
   ]
  },
  {
   "cell_type": "code",
   "execution_count": null,
   "id": "949550ef",
   "metadata": {},
   "outputs": [],
   "source": [
    "\n",
    "md_cd8  <- left_join(aggexp_cd8@meta.data, md_cd8)\n",
    "rownames(md_cd8)  <- colnames(aggexp_cd8)"
   ]
  },
  {
   "cell_type": "code",
   "execution_count": null,
   "id": "0530c5e3",
   "metadata": {},
   "outputs": [],
   "source": [
    "aggexp_cd8@meta.data  <- md_cd8"
   ]
  },
  {
   "cell_type": "code",
   "execution_count": null,
   "id": "4faffd57",
   "metadata": {},
   "outputs": [],
   "source": [
    "genes  <- c(\"LEF1\",\"NELL2\",\"IL7R\",\"GZMA\",\"GNLY\",\"TNF\")"
   ]
  },
  {
   "cell_type": "code",
   "execution_count": null,
   "id": "85c7689c",
   "metadata": {},
   "outputs": [],
   "source": [
    "df  <- aggexp_cd4@assays$RNA@layers$data[which(rownames(aggexp_cd4@assays$RNA) %in% genes),]"
   ]
  },
  {
   "cell_type": "code",
   "execution_count": null,
   "id": "3aead430",
   "metadata": {},
   "outputs": [],
   "source": [
    "colnames(df)  <- colnames(aggexp_cd4)\n",
    "rownames(df)  <- rownames(aggexp_cd4@assays$RNA)[which(rownames(aggexp_cd4@assays$RNA) %in% genes)]"
   ]
  },
  {
   "cell_type": "code",
   "execution_count": null,
   "id": "af735f9d",
   "metadata": {},
   "outputs": [],
   "source": [
    "df  <- df  %>% t()  %>% as.data.frame()  %>% \n",
    "rownames_to_column(\"Sample_ID\")  %>% \n",
    "pivot_longer(!Sample_ID, names_to = \"gene\", values_to = \"value\")  \n"
   ]
  },
  {
   "cell_type": "code",
   "execution_count": null,
   "id": "48206593",
   "metadata": {
    "scrolled": true
   },
   "outputs": [],
   "source": [
    "df"
   ]
  },
  {
   "cell_type": "code",
   "execution_count": null,
   "id": "1a5f9c29",
   "metadata": {},
   "outputs": [],
   "source": [
    "df  <- df  %>% left_join(md_cd4)"
   ]
  },
  {
   "cell_type": "code",
   "execution_count": null,
   "id": "12ceda10",
   "metadata": {
    "scrolled": true
   },
   "outputs": [],
   "source": [
    "options(repr.plot.width = 10, repr.plot.height = 7)\n",
    "df  %>% \n",
    "ggplot(aes(x = Condition, y = value)) +\n",
    "geom_violin(scale = \"width\", aes(fill = Condition), alpha = 0.4) +\n",
    "stat_summary(fun = \"median\",\n",
    "               geom = \"crossbar\", \n",
    "               width = 0.75,\n",
    "               color = \"grey30\") +\n",
    "geom_beeswarm(size = 3, aes(fill = Condition), cex = 3, \n",
    "                shape = 21, color = \"black\", corral = \"random\") +\n",
    " stat_compare_means(label = \"p.format\", comparisons = list(c(1,2))) +\n",
    "facet_wrap(~factor(gene, levels = c(\"LEF1\",\"NELL2\",\"IL7R\",\"GZMA\",\"GNLY\",\"TNF\")), ncol = 3, scales = \"free\") +\n",
    "theme_classic() +\n",
    "ggtheme() +\n",
    "scale_fill_manual(values = c(\"#1874cdff\",  \"#ee6363ff\", \"#c41515ff\",\"#eeb4b4ff\")) +\n",
    "scale_color_manual(values = c(\"dodgerblue3\",  \"#e54c4cff\", \"#aa2a2aff\",\"#e88989ff\")) +\n",
    "ylab(\"\") +\n",
    "  xlab(\"\") +\n",
    "theme(axis.text.x = element_blank(),\n",
    "      axis.ticks.x = element_blank()\n",
    "      )"
   ]
  },
  {
   "cell_type": "code",
   "execution_count": null,
   "id": "6b2043d7",
   "metadata": {},
   "outputs": [],
   "source": [
    "options(repr.plot.width = 10, repr.plot.height = 7)\n",
    "df  %>% \n",
    "ggplot(aes(x = Sex, y = value)) +\n",
    "geom_violin(scale = \"width\", aes(fill = Sex), alpha = 0.2) +\n",
    "stat_summary(fun = \"median\",\n",
    "               geom = \"crossbar\", \n",
    "               width = 0.75,\n",
    "               color = \"grey30\") +\n",
    "geom_beeswarm(size = 3, aes(fill = Sex), cex = 3, \n",
    "                shape = 21, color = \"black\", corral = \"random\") +\n",
    " stat_compare_means(label = \"p.format\", comparisons = list(c(1,2))) +\n",
    "facet_wrap(~factor(gene, levels = c(\"LEF1\",\"NELL2\",\"IL7R\",\"GZMA\",\"GNLY\",\"TNF\")), ncol = 3, scales = \"free\") +\n",
    "theme_classic() +\n",
    "ggtheme() +\n",
    "scale_fill_manual(values = c(\"hotpink\",  \"skyblue\")) +\n",
    "scale_color_manual(values = c(\"hotpink\",  \"skyblue\")) +\n",
    "ylab(\"\") +\n",
    "  xlab(\"\") +\n",
    "theme(axis.text.x = element_blank(),\n",
    "      axis.ticks.x = element_blank()\n",
    "      )"
   ]
  },
  {
   "cell_type": "code",
   "execution_count": null,
   "id": "7ce6dec9",
   "metadata": {},
   "outputs": [],
   "source": []
  },
  {
   "cell_type": "code",
   "execution_count": null,
   "id": "a19b814c",
   "metadata": {},
   "outputs": [],
   "source": [
    "# Newly identified NFAT pathway"
   ]
  },
  {
   "cell_type": "code",
   "execution_count": null,
   "id": "12b611ea",
   "metadata": {},
   "outputs": [],
   "source": [
    "genes  <- c(\"NFATC2\",\"NFATC3\",\"ORAI1\")"
   ]
  },
  {
   "cell_type": "code",
   "execution_count": null,
   "id": "d0ee86c3",
   "metadata": {},
   "outputs": [],
   "source": [
    "df  <- aggexp_cd4@assays$RNA@layers$data[which(rownames(aggexp_cd4@assays$RNA) %in% genes),]"
   ]
  },
  {
   "cell_type": "code",
   "execution_count": null,
   "id": "21c85a84",
   "metadata": {},
   "outputs": [],
   "source": [
    "colnames(df)  <- colnames(aggexp_cd4)\n",
    "rownames(df)  <- rownames(aggexp_cd4@assays$RNA)[which(rownames(aggexp_cd4@assays$RNA) %in% genes)]"
   ]
  },
  {
   "cell_type": "code",
   "execution_count": null,
   "id": "fb5fa978",
   "metadata": {},
   "outputs": [],
   "source": [
    "df  <- df  %>% t()  %>% as.data.frame()  %>% \n",
    "rownames_to_column(\"Sample_ID\")  %>% \n",
    "pivot_longer(!Sample_ID, names_to = \"gene\", values_to = \"value\")  \n"
   ]
  },
  {
   "cell_type": "code",
   "execution_count": null,
   "id": "c02f1f81",
   "metadata": {
    "scrolled": true
   },
   "outputs": [],
   "source": [
    "df"
   ]
  },
  {
   "cell_type": "code",
   "execution_count": null,
   "id": "c519b73a",
   "metadata": {},
   "outputs": [],
   "source": [
    "df  <- df  %>% left_join(md_cd4)"
   ]
  },
  {
   "cell_type": "code",
   "execution_count": null,
   "id": "77832bf6",
   "metadata": {
    "scrolled": true
   },
   "outputs": [],
   "source": [
    "options(repr.plot.width = 10, repr.plot.height = 3.5)\n",
    "df  %>% \n",
    "ggplot(aes(x = Condition, y = value)) +\n",
    "geom_violin(scale = \"width\", aes(fill = Condition), alpha = 0.4) +\n",
    "stat_summary(fun = \"median\",\n",
    "               geom = \"crossbar\", \n",
    "               width = 0.75,\n",
    "               color = \"grey30\") +\n",
    "geom_beeswarm(size = 3, aes(fill = Condition), cex = 3, \n",
    "                shape = 21, color = \"black\", corral = \"random\") +\n",
    " stat_compare_means(label = \"p.format\", comparisons = list(c(1,2))) +\n",
    "facet_wrap(~factor(gene, levels = c(\"NFATC2\",\"NFATC3\",\"ORAI1\")), ncol = 3, scales = \"free\") +\n",
    "theme_classic() +\n",
    "ggtheme() +\n",
    "scale_fill_manual(values = c(\"#1874cdff\",  \"#ee6363ff\", \"#c41515ff\",\"#eeb4b4ff\")) +\n",
    "scale_color_manual(values = c(\"dodgerblue3\",  \"#e54c4cff\", \"#aa2a2aff\",\"#e88989ff\")) +\n",
    "ylab(\"\") +\n",
    "  xlab(\"\") +\n",
    "theme(axis.text.x = element_blank(),\n",
    "      axis.ticks.x = element_blank()\n",
    "      )"
   ]
  },
  {
   "cell_type": "code",
   "execution_count": null,
   "id": "88853ecd",
   "metadata": {},
   "outputs": [],
   "source": []
  },
  {
   "cell_type": "code",
   "execution_count": null,
   "id": "b5e6553b",
   "metadata": {},
   "outputs": [],
   "source": []
  },
  {
   "cell_type": "code",
   "execution_count": null,
   "id": "d18db297",
   "metadata": {},
   "outputs": [],
   "source": []
  },
  {
   "cell_type": "markdown",
   "id": "15340129",
   "metadata": {},
   "source": [
    "# Tables with reads per cell per sample"
   ]
  },
  {
   "cell_type": "code",
   "execution_count": null,
   "id": "f7039bec",
   "metadata": {},
   "outputs": [],
   "source": [
    "cd4_l1_full_filt$Well"
   ]
  },
  {
   "cell_type": "code",
   "execution_count": null,
   "id": "b97c6b22",
   "metadata": {},
   "outputs": [],
   "source": [
    "cd4_l1_full_filt@meta.data  %>% \n",
    "mutate(Enrichment = if_else(Experiment_ID %in% c(\"Exp08\",\"Exp10\",\"Exp11\"), \"Initial\", \"Final\"))  %>% \n",
    "group_by(Sample_ID, Well, Experiment_ID, Enrichment)  %>% \n",
    "summarise(mean_features = mean(nFeature_RNA),\n",
    "         mean_counts = mean(nCount_RNA), \n",
    "         n_cells = n())  %>% \n",
    "ungroup  %>% \n",
    "group_by(Experiment_ID, Well, Enrichment)  %>% \n",
    "summarise(mean_features2 = mean(mean_features),\n",
    "          sd_features = sd(mean_features),\n",
    "          \n",
    "         mean_counts2 = mean(mean_counts), \n",
    "         sd_counts = sd(mean_counts), \n",
    "          \n",
    "         n_cells2 = mean(n_cells),\n",
    "         sd_n_cells = sd(n_cells)\n",
    "          \n",
    "         ) "
   ]
  },
  {
   "cell_type": "code",
   "execution_count": null,
   "id": "7a4d35cd",
   "metadata": {},
   "outputs": [],
   "source": [
    "cd8_l1_full_filt@meta.data  %>% \n",
    "mutate(Enrichment = if_else(Experiment_ID %in% c(\"Exp08\",\"Exp10\",\"Exp11\"), \"Initial\", \"Final\"))  %>% \n",
    "group_by(Sample_ID, Well, Experiment_ID, Enrichment)  %>% \n",
    "summarise(mean_features = mean(nFeature_RNA),\n",
    "         mean_counts = mean(nCount_RNA), \n",
    "         n_cells = n())  %>% \n",
    "ungroup  %>% \n",
    "group_by(Experiment_ID, Well, Enrichment)  %>% \n",
    "summarise(mean_features2 = mean(mean_features),\n",
    "          sd_features = sd(mean_features),\n",
    "          \n",
    "         mean_counts2 = mean(mean_counts), \n",
    "         sd_counts = sd(mean_counts), \n",
    "          \n",
    "         n_cells2 = mean(n_cells),\n",
    "         sd_n_cells = sd(n_cells)\n",
    "          \n",
    "         ) "
   ]
  },
  {
   "cell_type": "code",
   "execution_count": null,
   "id": "3f7c4544",
   "metadata": {},
   "outputs": [],
   "source": [
    "ls()"
   ]
  },
  {
   "cell_type": "markdown",
   "id": "f0382ab1",
   "metadata": {},
   "source": [
    "# GSEA scores per patients"
   ]
  },
  {
   "cell_type": "code",
   "execution_count": null,
   "id": "8fce497f",
   "metadata": {},
   "outputs": [],
   "source": [
    "library(GSVA)"
   ]
  },
  {
   "cell_type": "markdown",
   "id": "eebf111b",
   "metadata": {},
   "source": [
    "## Prepare GSEA sets"
   ]
  },
  {
   "cell_type": "code",
   "execution_count": null,
   "id": "239910ea",
   "metadata": {},
   "outputs": [],
   "source": [
    "m_df <- msigdbr::msigdbr(species = \"Homo sapiens\", category = \"C7\")\n"
   ]
  },
  {
   "cell_type": "code",
   "execution_count": null,
   "id": "c080cb84",
   "metadata": {},
   "outputs": [],
   "source": [
    "fgsea_sets <- m_df %>% split(x = .$gene_symbol, f = .$gs_name)"
   ]
  },
  {
   "cell_type": "code",
   "execution_count": null,
   "id": "44c46df0",
   "metadata": {
    "scrolled": true
   },
   "outputs": [],
   "source": [
    "head(fgsea_sets)"
   ]
  },
  {
   "cell_type": "code",
   "execution_count": null,
   "id": "bdcca148",
   "metadata": {},
   "outputs": [],
   "source": []
  },
  {
   "cell_type": "code",
   "execution_count": null,
   "id": "8472cd25",
   "metadata": {},
   "outputs": [],
   "source": [
    "m_df <- msigdbr::msigdbr(species = \"Homo sapiens\", category = \"C7\")"
   ]
  },
  {
   "cell_type": "code",
   "execution_count": null,
   "id": "aebd161f",
   "metadata": {},
   "outputs": [],
   "source": [
    "m_df  %>% dplyr::filter(grepl(gs_name, pattern = \"9650\"))  %>% dplyr::select(gs_name)  %>% unique"
   ]
  },
  {
   "cell_type": "code",
   "execution_count": null,
   "id": "88a6de7b",
   "metadata": {},
   "outputs": [],
   "source": [
    "fgsea_sets_h <- m_df %>% split(x = .$gene_symbol, f = .$gs_name)"
   ]
  },
  {
   "cell_type": "code",
   "execution_count": null,
   "id": "b45b21c7",
   "metadata": {
    "scrolled": true
   },
   "outputs": [],
   "source": [
    "fgsea_sets  <- c(fgsea_sets, fgsea_sets_h)"
   ]
  },
  {
   "cell_type": "markdown",
   "id": "e555cc00",
   "metadata": {},
   "source": [
    "## CD4"
   ]
  },
  {
   "cell_type": "markdown",
   "id": "e59615e6",
   "metadata": {},
   "source": [
    "Select genes and create per-sample aggregated matrix."
   ]
  },
  {
   "cell_type": "code",
   "execution_count": null,
   "id": "aafbb876",
   "metadata": {},
   "outputs": [],
   "source": [
    "genes  <- rownames(cd4_l1_full_filt_sub@assays$RNA)\n",
    "\n",
    "genes_filt  <- genes[!(grepl(genes, pattern = \"^MT\")|\n",
    "                            grepl(genes, pattern = \"\\\\.\")|\n",
    "                            grepl(genes, pattern = \"LINC\")|\n",
    "                            grepl(genes, pattern = \"^MIR\")|\n",
    "                            grepl(genes, pattern = \"^MT\")|\n",
    "                            grepl(genes, pattern = \"HNRNP\")|\n",
    "                            grepl(genes, pattern = \"^RP[LS]\")|\n",
    "                            grepl(genes, pattern = \"\\\\-\")|\n",
    "                            grepl(genes, pattern = \"TTTY\")|\n",
    "                            grepl(genes, pattern = \"ORF\")|\n",
    "                            grepl(genes, pattern = \"orf\"))\n",
    "                            ]\n",
    "\n",
    "aggexp_cd4  <- AggregateExpression(cd4_l1_full_filt_sub, group.by = c(\"Sample_ID\"), \n",
    "                                  features = genes_filt, return.seurat = T, assay = \"RNA\")"
   ]
  },
  {
   "cell_type": "markdown",
   "id": "34853449",
   "metadata": {},
   "source": [
    "Normalize data and extract count matrix. "
   ]
  },
  {
   "cell_type": "code",
   "execution_count": null,
   "id": "d27753bc",
   "metadata": {},
   "outputs": [],
   "source": [
    "aggexp_cd4  <- NormalizeData(aggexp_cd4)"
   ]
  },
  {
   "cell_type": "code",
   "execution_count": null,
   "id": "3c4f0949",
   "metadata": {},
   "outputs": [],
   "source": [
    "cd4_counts  <- aggexp_cd4@assays$RNA@layers$data\n",
    "rownames(cd4_counts)  <- rownames(aggexp_cd4@assays$RNA)\n",
    "colnames(cd4_counts)  <- colnames(aggexp_cd4)"
   ]
  },
  {
   "cell_type": "code",
   "execution_count": null,
   "id": "226303da",
   "metadata": {},
   "outputs": [],
   "source": [
    "X = cd4_counts"
   ]
  },
  {
   "cell_type": "markdown",
   "id": "87fe4d78",
   "metadata": {},
   "source": [
    "We will specifically test the pathways which we identified as differentially regulated in the scRNAseq data processed without sample-level consideration. "
   ]
  },
  {
   "cell_type": "code",
   "execution_count": null,
   "id": "9c101b16",
   "metadata": {},
   "outputs": [],
   "source": [
    "\n",
    "gs  <- fgsea_sets[names(fgsea_sets) %in% c(\"GSE11057_NAIVE_VS_EFF_MEMORY_CD4_TCELL_UP\",\n",
    "                        \n",
    "\"GSE11057_NAIVE_VS_MEMORY_CD4_TCELL_UP\",\n",
    "\"GOLDRATH_NAIVE_VS_MEMORY_CD8_TCELL_DN\",\n",
    "'GOLDRATH_EFF_VS_MEMORY_CD8_TCELL_UP',\n",
    "'GOLDRATH_NAIVE_VS_EFF_CD8_TCELL_DN')]"
   ]
  },
  {
   "cell_type": "markdown",
   "id": "40ed40a9",
   "metadata": {},
   "source": [
    "Perform GSVA test. "
   ]
  },
  {
   "cell_type": "code",
   "execution_count": null,
   "id": "ff22aa79",
   "metadata": {},
   "outputs": [],
   "source": [
    "gsvaPar <- gsvaParam(X, gs)\n",
    "gsvaPar"
   ]
  },
  {
   "cell_type": "code",
   "execution_count": null,
   "id": "7f9990d7",
   "metadata": {},
   "outputs": [],
   "source": [
    "gsva.es <- gsva(gsvaPar, verbose=FALSE)"
   ]
  },
  {
   "cell_type": "markdown",
   "id": "62222d21",
   "metadata": {},
   "source": [
    "Add meta data for visualization. "
   ]
  },
  {
   "cell_type": "code",
   "execution_count": null,
   "id": "08b6c056",
   "metadata": {},
   "outputs": [],
   "source": [
    "md_cd4  <- cd4_l1_full_filt_sub@meta.data  %>% \n",
    "group_by(Sample_ID, Condition, Condition2, Age, Sex)  %>% tally  %>% dplyr::select(-n)  %>% \n",
    "ungroup  %>% \n",
    "mutate(Sample_ID = as.factor(Sample_ID))\n",
    "\n",
    "md_cd4$Sample_ID  <- paste0(\"g\",md_cd4$Sample_ID)\n",
    "\n",
    "\n",
    "md_cd4  <- left_join(aggexp_cd4@meta.data, md_cd4)\n",
    "rownames(md_cd4)  <- colnames(aggexp_cd4)"
   ]
  },
  {
   "cell_type": "code",
   "execution_count": null,
   "id": "be8c54c3",
   "metadata": {},
   "outputs": [],
   "source": [
    "all.equal(md_cd4$orig.ident, colnames(gsva.es))"
   ]
  },
  {
   "cell_type": "code",
   "execution_count": null,
   "id": "5b413a4f",
   "metadata": {},
   "outputs": [],
   "source": [
    "md_cd4$Condition2  <- NULL\n",
    "md_cd4$Sample_ID  <- NULL\n",
    "md_cd4$orig.ident  <- NULL"
   ]
  },
  {
   "cell_type": "markdown",
   "id": "b525889a",
   "metadata": {},
   "source": [
    "Adjust colors and plot final heatmap. "
   ]
  },
  {
   "cell_type": "code",
   "execution_count": null,
   "id": "1a0efc0e",
   "metadata": {},
   "outputs": [],
   "source": [
    "anno.colors <- list(Condition = c(\"Ctrl T0\" = \"dodgerblue\",\"Dia T0\" = \"red\",\"Dia T1\" = \"darkred\"),\n",
    "                    Sex = c(\"F\" = \"hotpink1\", \"M\" = \"skyblue\"))"
   ]
  },
  {
   "cell_type": "code",
   "execution_count": null,
   "id": "9f9e5cbf",
   "metadata": {},
   "outputs": [],
   "source": [
    "options(repr.plot.height = 3.5, repr.plot.width = 15)\n",
    "pathway_heatmap <- pheatmap::pheatmap(gsva.es,\n",
    "  annotation_col = md_cd4, # Add metadata labels!\n",
    "  annotation_colors  = anno.colors,\n",
    "  show_colnames = FALSE, # Don't show sample labels\n",
    "  border_color = \"white\",\n",
    "  fontsize_row = 10 # Shrink the pathway labels a tad\n",
    ")\n",
    "\n",
    "# Print out heatmap here\n",
    "pathway_heatmap"
   ]
  },
  {
   "cell_type": "code",
   "execution_count": null,
   "id": "6fc2d0f4",
   "metadata": {},
   "outputs": [],
   "source": [
    "pathway_heatmap <- pheatmap::pheatmap(gsva.es,\n",
    "  annotation_col = md_cd4, # Add metadata labels!\n",
    "  annotation_colors  = anno.colors,\n",
    "  show_colnames = FALSE, # Don't show sample labels\n",
    "  border_color = \"white\",\n",
    "  fontsize_row = 10, # Shrink the pathway labels a tad\n",
    "  filename = \"../figures/heatmaps/gsva_cd4.pdf\",\n",
    " width = 15, height = 3.5\n",
    ")"
   ]
  },
  {
   "cell_type": "code",
   "execution_count": null,
   "id": "28ddc3ed",
   "metadata": {},
   "outputs": [],
   "source": [
    "gsva.es"
   ]
  },
  {
   "cell_type": "code",
   "execution_count": null,
   "id": "b2b2a5b5",
   "metadata": {
    "scrolled": true
   },
   "outputs": [],
   "source": [
    "options(repr.plot.height = 3.5, repr.plot.width = 6)\n",
    "for(i in 1:5){\n",
    "    md_cd4$naive_vs_eff  <- gsva.es[i,]\n",
    "    p  <- md_cd4  %>% \n",
    "    ggplot(aes(x = Condition, y = naive_vs_eff)) +\n",
    "    geom_boxplot(outlier.shape = NA) +\n",
    "    geom_jitter() +\n",
    "    ggtheme() +\n",
    "    ggtitle(rownames(gsva.es)[i]) +\n",
    "    ggpubr::stat_compare_means(label = \"p.format\", comparisons = list(c(1,2)))\n",
    "    print(p)\n",
    "}"
   ]
  },
  {
   "cell_type": "code",
   "execution_count": null,
   "id": "d403c56f",
   "metadata": {
    "scrolled": true
   },
   "outputs": [],
   "source": [
    "options(repr.plot.height = 3.5, repr.plot.width = 6)\n",
    "for(i in 1:5){\n",
    "    md_cd4$naive_vs_eff  <- gsva.es[i,]\n",
    "    p  <- md_cd4  %>% \n",
    "    ggplot(aes(x = Sex, y = naive_vs_eff)) +\n",
    "    geom_boxplot(outlier.shape = NA) +\n",
    "    geom_jitter() +\n",
    "    ggtheme() +\n",
    "    ggtitle(rownames(gsva.es)[i]) +\n",
    "    ggpubr::stat_compare_means(label = \"p.format\")\n",
    "    print(p)\n",
    "}"
   ]
  },
  {
   "cell_type": "code",
   "execution_count": null,
   "id": "4637589c",
   "metadata": {},
   "outputs": [],
   "source": [
    "md_cd4$naive_vs_eff  <- gsva.es[5,]\n",
    "    p  <- md_cd4  %>% \n",
    "    ggplot(aes(x = Condition, y = naive_vs_eff)) +\n",
    "geom_violin(scale = \"width\", aes(fill = Condition), alpha = 0.4) +\n",
    "stat_summary(fun = \"median\",\n",
    "               geom = \"crossbar\", \n",
    "               width = 0.75,\n",
    "               color = \"grey30\") +\n",
    "geom_beeswarm(size = 3, aes(fill = Condition), cex = 3, \n",
    "                shape = 21, color = \"black\", corral = \"random\") +\n",
    " stat_compare_means(label = \"p.format\", comparisons = list(c(1,2))) +\n",
    "theme_classic() +\n",
    "ggtheme() +\n",
    "scale_fill_manual(values = c(\"#1874cdff\",  \"#ee6363ff\", \"#c41515ff\",\"#eeb4b4ff\")) +\n",
    "scale_color_manual(values = c(\"dodgerblue3\",  \"#e54c4cff\", \"#aa2a2aff\",\"#e88989ff\")) +\n",
    "ylab(\"\") +\n",
    "  xlab(\"\") +\n",
    "theme(axis.text.x = element_blank(),\n",
    "      axis.ticks.x = element_blank()) +\n",
    "    ggtitle(rownames(gsva.es)[5]) +\n",
    "    ggpubr::stat_compare_means(label = \"p.format\", comparisons = list(c(1,2)))\n",
    "p        "
   ]
  },
  {
   "cell_type": "code",
   "execution_count": null,
   "id": "c10e0ed2",
   "metadata": {},
   "outputs": [],
   "source": [
    "p\n",
    "ggsave(\"../figures/gsea_quantification/cd4.svg\", create.dir = TRUE,\n",
    "       width = 13, height = 8, units = \"cm\")\n",
    "ggsave(\"../figures/gsea_quantification/cd4.png\", width = 13, height = 8, units = \"cm\")\n"
   ]
  },
  {
   "cell_type": "markdown",
   "id": "cb3d3a11",
   "metadata": {},
   "source": [
    "Get p-value for the paired group. "
   ]
  },
  {
   "cell_type": "code",
   "execution_count": null,
   "id": "44284f29",
   "metadata": {},
   "outputs": [],
   "source": [
    "md_cd4_2 <- md_cd4  %>% \n",
    "rownames_to_column(\"sample\")  %>% \n",
    "left_join(unique(cd4_l1_full_filt@meta.data  %>% \n",
    "          mutate(sample = paste0(\"g\", Sample_ID))  %>% \n",
    "          dplyr::select(sample, Patient_ID)))"
   ]
  },
  {
   "cell_type": "code",
   "execution_count": null,
   "id": "802ae500",
   "metadata": {},
   "outputs": [],
   "source": [
    "df_filt <- md_cd4_2  %>% \n",
    "separate(Condition, into = c(\"disease\",\"time_taken\"), sep = \" \", remove = F)  %>% \n",
    "dplyr::filter(disease != \"Ctrl\")  %>% \n",
    "dplyr::select(Patient_ID, time_taken, value = naive_vs_eff)  %>% \n",
    "pivot_wider(names_from = time_taken, values_from = value) \n",
    "colnames(df_filt)  <- c(\"Patient_ID\",\"Time0\",\"Time1\")"
   ]
  },
  {
   "cell_type": "code",
   "execution_count": null,
   "id": "6061af1b",
   "metadata": {},
   "outputs": [],
   "source": [
    "\n",
    " df_filt <- df_filt %>% dplyr::filter(!is.na(Time1)&(!is.na(Time0)))\n",
    "    df_filt <- df_filt  %>% pivot_longer(!Patient_ID, names_to = \"TimePoint\", values_to = \"value\")"
   ]
  },
  {
   "cell_type": "code",
   "execution_count": null,
   "id": "11da61f6",
   "metadata": {},
   "outputs": [],
   "source": [
    "plot2 <- df_filt  %>% \n",
    "  ggplot(aes(x = TimePoint,\n",
    "             y = value)) +\n",
    "geom_violin(alpha = 0.3, scale = \"width\") + \n",
    "stat_summary(fun = \"median\",\n",
    "               geom = \"crossbar\", \n",
    "               width = 0.75,\n",
    "               color = \"grey30\") +\n",
    "geom_beeswarm(size = 3, cex = 3, \n",
    "                shape = 21, color = \"black\", corral = \"random\") +\n",
    "ggpubr::stat_compare_means(label.x = 1.2, label.y.npc = \"top\", paired = TRUE, \n",
    "                           size = 5, vjust = 0.3, label = \"p.format\") +\n",
    "scale_fill_manual(values = c(\"#ee6363ff\", \"#c41515ff\",\"#eeb4b4ff\")) +\n",
    "scale_color_manual(values = c(\"#e54c4cff\", \"#aa2a2aff\",\"#e88989ff\")) +\n",
    "ylab(\"\") +\n",
    "  xlab(\"\") +\n",
    "  #ylim(0,NA) +\n",
    "  theme_classic() +\n",
    "theme(strip.background = element_blank(), panel.grid = element_blank()) + \n",
    "  theme(axis.text = element_text(color = \"black\"),\n",
    "        axis.text.x = element_text(angle = 90),\n",
    "       axis.line = element_line(color = \"black\", size = 0.5),\n",
    "        axis.ticks.x = element_blank()) +\n",
    "  #ylim(0,NA)+\n",
    "  plot_annotation(\n",
    "    title = paste(stringr::str_replace_all(string = colnames(df)[i], pattern = \"/\", replacement = \"\\n\")) ,\n",
    "    theme = theme(plot.title = element_text(size = 8), \n",
    "                  plot.subtitle = element_text(size = 8),\n",
    "                 axis.text.x = element_blank())) + ggtheme() + NoLegend()\n",
    "  "
   ]
  },
  {
   "cell_type": "code",
   "execution_count": null,
   "id": "0b8df994",
   "metadata": {},
   "outputs": [],
   "source": [
    "plot2"
   ]
  },
  {
   "cell_type": "code",
   "execution_count": null,
   "id": "f1055887",
   "metadata": {},
   "outputs": [],
   "source": [
    " md_cd4  %>% \n",
    "    ggplot(aes(x = Sex, y = naive_vs_eff)) +\n",
    "geom_violin(scale = \"width\", aes(fill = Sex), alpha = 0.4) +\n",
    "stat_summary(fun = \"median\",\n",
    "               geom = \"crossbar\", \n",
    "               width = 0.75,\n",
    "               color = \"grey30\") +\n",
    "geom_beeswarm(size = 3, aes(fill = Sex), cex = 3, \n",
    "                shape = 21, color = \"black\", corral = \"random\") +\n",
    " stat_compare_means(label = \"p.format\", comparisons = list(c(1,2))) +\n",
    "theme_classic() +\n",
    "ggtheme() +\n",
    "scale_fill_manual(values = c(\"hotpink\",  \"skyblue\")) +\n",
    "scale_color_manual(values = c(\"hotpink\",  \"skyblue\")) +\n",
    "ylab(\"\") +\n",
    "  xlab(\"\") +\n",
    "theme(axis.text.x = element_blank(),\n",
    "      axis.ticks.x = element_blank()) +\n",
    "    ggtitle(rownames(gsva.es)[5]) +\n",
    "    ggpubr::stat_compare_means(label = \"p.format\", comparisons = list(c(1,2)))\n"
   ]
  },
  {
   "cell_type": "code",
   "execution_count": null,
   "id": "7dbace3b",
   "metadata": {},
   "outputs": [],
   "source": [
    "\n",
    "ggsave(\"../figures/gsea_quantification/cd4_sex.svg\", create.dir = TRUE,\n",
    "       width = 9, height = 8, units = \"cm\")\n",
    "ggsave(\"../figures/gsea_quantification/cd4_sex.png\", width = 9, height = 8, units = \"cm\")\n"
   ]
  },
  {
   "cell_type": "markdown",
   "id": "1a8c0f69",
   "metadata": {},
   "source": [
    "## CD8"
   ]
  },
  {
   "cell_type": "markdown",
   "id": "bd49b156",
   "metadata": {},
   "source": [
    "Select genes and create per-sample aggregated matrix."
   ]
  },
  {
   "cell_type": "code",
   "execution_count": null,
   "id": "a177e822",
   "metadata": {},
   "outputs": [],
   "source": [
    "genes  <- rownames(cd8_l1_full_filt_sub@assays$RNA)\n",
    "\n",
    "genes_filt  <- genes[!(grepl(genes, pattern = \"^MT\")|\n",
    "                            grepl(genes, pattern = \"\\\\.\")|\n",
    "                            grepl(genes, pattern = \"LINC\")|\n",
    "                            grepl(genes, pattern = \"^MIR\")|\n",
    "                            grepl(genes, pattern = \"^MT\")|\n",
    "                            grepl(genes, pattern = \"HNRNP\")|\n",
    "                            grepl(genes, pattern = \"^RP[LS]\")|\n",
    "                            grepl(genes, pattern = \"\\\\-\")|\n",
    "                            grepl(genes, pattern = \"TTTY\")|\n",
    "                            grepl(genes, pattern = \"ORF\")|\n",
    "                            grepl(genes, pattern = \"orf\"))\n",
    "                            ]\n",
    "\n",
    "aggexp_cd8  <- AggregateExpression(cd8_l1_full_filt_sub, group.by = c(\"Sample_ID\"), \n",
    "                                  features = genes_filt, return.seurat = T, assay = \"RNA\")"
   ]
  },
  {
   "cell_type": "markdown",
   "id": "399e4da4",
   "metadata": {},
   "source": [
    "Normalize data and extract count matrix. "
   ]
  },
  {
   "cell_type": "code",
   "execution_count": null,
   "id": "0703b8be",
   "metadata": {},
   "outputs": [],
   "source": [
    "aggexp_cd8  <- NormalizeData(aggexp_cd8)"
   ]
  },
  {
   "cell_type": "code",
   "execution_count": null,
   "id": "eac2c265",
   "metadata": {},
   "outputs": [],
   "source": [
    "cd8_counts  <- aggexp_cd8@assays$RNA@layers$data\n",
    "rownames(cd8_counts)  <- rownames(aggexp_cd8@assays$RNA)\n",
    "colnames(cd8_counts)  <- colnames(aggexp_cd8)"
   ]
  },
  {
   "cell_type": "code",
   "execution_count": null,
   "id": "01b03555",
   "metadata": {},
   "outputs": [],
   "source": [
    "X = cd8_counts"
   ]
  },
  {
   "cell_type": "markdown",
   "id": "f6b32887",
   "metadata": {},
   "source": [
    "We will specifically test the pathways which we identified as differentially regulated in the scRNAseq data processed without sample-level consideration. "
   ]
  },
  {
   "cell_type": "code",
   "execution_count": null,
   "id": "b3dd3599",
   "metadata": {},
   "outputs": [],
   "source": [
    "gs  <- fgsea_sets[names(fgsea_sets) %in% c(\"GSE11057_NAIVE_VS_EFF_MEMORY_CD4_TCELL_UP\",\n",
    "                        #\"GSE9650_NAIVE_VS_EFF_CD8_TCELL_UP\",\n",
    "                        #\"GSE9650_NAIVE_VS_MEMORY_CD8_TCELL_UP\",                   \n",
    "\"GSE11057_NAIVE_VS_MEMORY_CD4_TCELL_UP\",\n",
    "\"GOLDRATH_NAIVE_VS_MEMORY_CD8_TCELL_DN\",\n",
    "'GOLDRATH_EFF_VS_MEMORY_CD8_TCELL_UP',\n",
    "'GOLDRATH_NAIVE_VS_EFF_CD8_TCELL_DN')]"
   ]
  },
  {
   "cell_type": "markdown",
   "id": "830f0721",
   "metadata": {},
   "source": [
    "Perform GSVA test. "
   ]
  },
  {
   "cell_type": "code",
   "execution_count": null,
   "id": "039b70c0",
   "metadata": {},
   "outputs": [],
   "source": [
    "gsvaPar <- gsvaParam(X, gs)\n",
    "gsvaPar"
   ]
  },
  {
   "cell_type": "code",
   "execution_count": null,
   "id": "7de66d48",
   "metadata": {},
   "outputs": [],
   "source": [
    "gsva.es <- gsva(gsvaPar, verbose=FALSE)\n"
   ]
  },
  {
   "cell_type": "code",
   "execution_count": null,
   "id": "e5e54b07",
   "metadata": {},
   "outputs": [],
   "source": [
    "gsva.es"
   ]
  },
  {
   "cell_type": "markdown",
   "id": "28c95a43",
   "metadata": {},
   "source": [
    "Add meta data for visualization. "
   ]
  },
  {
   "cell_type": "code",
   "execution_count": null,
   "id": "728768a6",
   "metadata": {},
   "outputs": [],
   "source": [
    "md_cd8  <- cd8_l1_full_filt@meta.data  %>% \n",
    "group_by(Sample_ID, Condition, Condition2, Age, Sex)  %>% tally  %>% dplyr::select(-n)  %>% \n",
    "ungroup  %>% \n",
    "mutate(Sample_ID = as.factor(Sample_ID))\n",
    "\n",
    "md_cd8$Sample_ID  <- paste0(\"g\",md_cd8$Sample_ID)\n",
    "\n",
    "\n",
    "md_cd8  <- left_join(aggexp_cd8@meta.data, md_cd8)\n",
    "rownames(md_cd8)  <- colnames(aggexp_cd8)"
   ]
  },
  {
   "cell_type": "code",
   "execution_count": null,
   "id": "352d64c3",
   "metadata": {},
   "outputs": [],
   "source": [
    "all.equal(md_cd8$orig.ident, colnames(gsva.es))"
   ]
  },
  {
   "cell_type": "code",
   "execution_count": null,
   "id": "d500a3d3",
   "metadata": {},
   "outputs": [],
   "source": [
    "md_cd8$Condition2  <- NULL\n",
    "md_cd8$Sample_ID  <- NULL\n",
    "md_cd8$orig.ident  <- NULL"
   ]
  },
  {
   "cell_type": "markdown",
   "id": "85b2841e",
   "metadata": {},
   "source": [
    "Adjust colors and plot final heatmap. "
   ]
  },
  {
   "cell_type": "code",
   "execution_count": null,
   "id": "508784a0",
   "metadata": {},
   "outputs": [],
   "source": [
    "anno.colors <- list(Condition = c(\"Ctrl T0\" = \"dodgerblue\",\"Dia T0\" = \"red\",\"Dia T1\" = \"darkred\"),\n",
    "                    Sex = c(\"F\" = \"hotpink1\", \"M\" = \"skyblue\"))"
   ]
  },
  {
   "cell_type": "code",
   "execution_count": null,
   "id": "27b81a16",
   "metadata": {},
   "outputs": [],
   "source": [
    "options(repr.plot.height = 3.5, repr.plot.width = 15)\n",
    "pathway_heatmap <- pheatmap::pheatmap(gsva.es,\n",
    "  annotation_col = md_cd8, # Add metadata labels!\n",
    "  annotation_colors  = anno.colors,\n",
    "  show_colnames = FALSE, # Don't show sample labels\n",
    "  border_color = \"white\",\n",
    "  fontsize_row = 10 # Shrink the pathway labels a tad\n",
    ")\n",
    "\n",
    "# Print out heatmap here\n",
    "pathway_heatmap"
   ]
  },
  {
   "cell_type": "code",
   "execution_count": null,
   "id": "1c46953e",
   "metadata": {},
   "outputs": [],
   "source": [
    "pathway_heatmap <- pheatmap::pheatmap(gsva.es,\n",
    "  annotation_col = md_cd8, # Add metadata labels!\n",
    "  annotation_colors  = anno.colors,\n",
    "  show_colnames = FALSE, # Don't show sample labels\n",
    "  border_color = \"white\",\n",
    "  fontsize_row = 10, # Shrink the pathway labels a tad\n",
    "  filename = \"../figures/heatmaps/gsva_cd8.pdf\",\n",
    " width = 15, height = 3.5\n",
    ")"
   ]
  },
  {
   "cell_type": "code",
   "execution_count": null,
   "id": "983fbc09",
   "metadata": {},
   "outputs": [],
   "source": [
    "gsva.es"
   ]
  },
  {
   "cell_type": "code",
   "execution_count": null,
   "id": "b7615254",
   "metadata": {},
   "outputs": [],
   "source": [
    "gc()"
   ]
  },
  {
   "cell_type": "code",
   "execution_count": null,
   "id": "0134a35c",
   "metadata": {
    "scrolled": true
   },
   "outputs": [],
   "source": [
    "options(repr.plot.height = 3.5, repr.plot.width = 6)\n",
    "for(i in 1:6){\n",
    "    md_cd8$naive_vs_eff  <- gsva.es[i,]\n",
    "    p  <- md_cd8  %>% \n",
    "    ggplot(aes(x = Condition, y = naive_vs_eff)) +\n",
    "    geom_boxplot(outlier.shape = NA) +\n",
    "    geom_jitter() +\n",
    "    ggtheme() +\n",
    "    ggtitle(rownames(gsva.es)[i]) +\n",
    "    ggpubr::stat_compare_means(label = \"p.format\", comparisons = list(c(1,2)))\n",
    "    \n",
    "    \n",
    "    print(p)\n",
    "}"
   ]
  },
  {
   "cell_type": "code",
   "execution_count": null,
   "id": "62a1f0ae",
   "metadata": {},
   "outputs": [],
   "source": [
    "md_cd8$naive_vs_eff  <- gsva.es[3,]\n",
    "    p  <- md_cd8  %>% \n",
    "    ggplot(aes(x = Condition, y = naive_vs_eff)) +\n",
    "geom_violin(scale = \"width\", aes(fill = Condition), alpha = 0.4) +\n",
    "stat_summary(fun = \"median\",\n",
    "               geom = \"crossbar\", \n",
    "               width = 0.75,\n",
    "               color = \"grey30\") +\n",
    "geom_beeswarm(size = 3, aes(fill = Condition), cex = 3, \n",
    "                shape = 21, color = \"black\", corral = \"random\") +\n",
    " stat_compare_means(label = \"p.format\", comparisons = list(c(1,2))) +\n",
    "theme_classic() +\n",
    "ggtheme() +\n",
    "scale_fill_manual(values = c(\"#1874cdff\",  \"#ee6363ff\", \"#c41515ff\",\"#eeb4b4ff\")) +\n",
    "scale_color_manual(values = c(\"dodgerblue3\",  \"#e54c4cff\", \"#aa2a2aff\",\"#e88989ff\")) +\n",
    "ylab(\"\") +\n",
    "  xlab(\"\") +\n",
    "theme(axis.text.x = element_blank(),\n",
    "      axis.ticks.x = element_blank()) +\n",
    "    ggtitle(rownames(gsva.es)[3]) +\n",
    "    ggpubr::stat_compare_means(label = \"p.format\", comparisons = list(c(1,2)))\n",
    "p        "
   ]
  },
  {
   "cell_type": "code",
   "execution_count": null,
   "id": "173f48dc",
   "metadata": {
    "scrolled": true
   },
   "outputs": [],
   "source": [
    "md_cd8"
   ]
  },
  {
   "cell_type": "code",
   "execution_count": null,
   "id": "18f7bd24",
   "metadata": {},
   "outputs": [],
   "source": [
    "p\n",
    "ggsave(\"../figures/gsea_quantification/cd8.svg\", create.dir = TRUE,\n",
    "       width = 13, height = 8, units = \"cm\")\n",
    "ggsave(\"../figures/gsea_quantification/cd8.png\", width = 13, height = 8, units = \"cm\")\n"
   ]
  },
  {
   "cell_type": "markdown",
   "id": "2068bc5d",
   "metadata": {},
   "source": [
    "Get p-value for the paired group. "
   ]
  },
  {
   "cell_type": "code",
   "execution_count": null,
   "id": "5ab48d73",
   "metadata": {},
   "outputs": [],
   "source": [
    "md_cd8_2 <- md_cd8  %>% \n",
    "rownames_to_column(\"sample\")  %>% \n",
    "left_join(unique(cd8_l1_full_filt@meta.data  %>% \n",
    "          mutate(sample = paste0(\"g\", Sample_ID))  %>% \n",
    "          dplyr::select(sample, Patient_ID)))"
   ]
  },
  {
   "cell_type": "code",
   "execution_count": null,
   "id": "ecc07fe7",
   "metadata": {},
   "outputs": [],
   "source": [
    "df_filt <- md_cd8_2  %>% \n",
    "separate(Condition, into = c(\"disease\",\"time_taken\"), sep = \" \", remove = F)  %>% \n",
    "dplyr::filter(disease != \"Ctrl\")  %>% \n",
    "dplyr::select(Patient_ID, time_taken, value = naive_vs_eff)  %>% \n",
    "pivot_wider(names_from = time_taken, values_from = value) \n",
    "colnames(df_filt)  <- c(\"Patient_ID\",\"Time0\",\"Time1\")"
   ]
  },
  {
   "cell_type": "code",
   "execution_count": null,
   "id": "6f6f35b2",
   "metadata": {
    "scrolled": true
   },
   "outputs": [],
   "source": [
    "df_filt"
   ]
  },
  {
   "cell_type": "code",
   "execution_count": null,
   "id": "6f356274",
   "metadata": {},
   "outputs": [],
   "source": [
    "\n",
    " df_filt <- df_filt %>% dplyr::filter(!is.na(Time1)&(!is.na(Time0)))\n",
    "    df_filt <- df_filt  %>% pivot_longer(!Patient_ID, names_to = \"TimePoint\", values_to = \"value\")\n",
    "    \n",
    "plot2 <- df_filt  %>% \n",
    "  ggplot(aes(x = TimePoint,\n",
    "             y = value)) +\n",
    "geom_violin(alpha = 0.3, scale = \"width\") + \n",
    "stat_summary(fun = \"median\",\n",
    "               geom = \"crossbar\", \n",
    "               width = 0.75,\n",
    "               color = \"grey30\") +\n",
    "geom_beeswarm(size = 3, cex = 3, \n",
    "                shape = 21, color = \"black\", corral = \"random\") +\n",
    "ggpubr::stat_compare_means(label.x = 1.2, label.y.npc = \"top\", paired = TRUE, \n",
    "                           size = 5, vjust = 0.3, label = \"p.format\") +\n",
    "scale_fill_manual(values = c(\"#ee6363ff\", \"#c41515ff\",\"#eeb4b4ff\")) +\n",
    "scale_color_manual(values = c(\"#e54c4cff\", \"#aa2a2aff\",\"#e88989ff\")) +\n",
    "ylab(\"\") +\n",
    "  xlab(\"\") +\n",
    "  #ylim(0,NA) +\n",
    "  theme_classic() +\n",
    "theme(strip.background = element_blank(), panel.grid = element_blank()) + \n",
    "  theme(axis.text = element_text(color = \"black\"),\n",
    "        axis.text.x = element_text(angle = 90),\n",
    "       axis.line = element_line(color = \"black\", size = 0.5),\n",
    "        axis.ticks.x = element_blank()) +\n",
    "  #ylim(0,NA)+\n",
    "  plot_annotation(\n",
    "    title = paste(stringr::str_replace_all(string = colnames(df)[i], pattern = \"/\", replacement = \"\\n\")) ,\n",
    "    theme = theme(plot.title = element_text(size = 8), \n",
    "                  plot.subtitle = element_text(size = 8),\n",
    "                 axis.text.x = element_blank())) + ggtheme() + NoLegend()\n",
    "  "
   ]
  },
  {
   "cell_type": "code",
   "execution_count": null,
   "id": "c0358719",
   "metadata": {},
   "outputs": [],
   "source": [
    "plot2"
   ]
  },
  {
   "cell_type": "code",
   "execution_count": null,
   "id": "c3957c59",
   "metadata": {},
   "outputs": [],
   "source": [
    " md_cd8  %>% \n",
    "    ggplot(aes(x = Sex, y = naive_vs_eff)) +\n",
    "geom_violin(scale = \"width\", aes(fill = Sex), alpha = 0.4) +\n",
    "stat_summary(fun = \"median\",\n",
    "               geom = \"crossbar\", \n",
    "               width = 0.75,\n",
    "               color = \"grey30\") +\n",
    "geom_beeswarm(size = 3, aes(fill = Sex), cex = 3, \n",
    "                shape = 21, color = \"black\", corral = \"random\") +\n",
    " stat_compare_means(label = \"p.format\", comparisons = list(c(1,2))) +\n",
    "theme_classic() +\n",
    "ggtheme() +\n",
    "scale_fill_manual(values = c(\"hotpink\",  \"skyblue\")) +\n",
    "scale_color_manual(values = c(\"hotpink\",  \"skyblue\")) +\n",
    "ylab(\"\") +\n",
    "  xlab(\"\") +\n",
    "theme(axis.text.x = element_blank(),\n",
    "      axis.ticks.x = element_blank()) +\n",
    "    ggtitle(rownames(gsva.es)[3]) +\n",
    "    ggpubr::stat_compare_means(label = \"p.format\", comparisons = list(c(1,2)))\n"
   ]
  },
  {
   "cell_type": "code",
   "execution_count": null,
   "id": "045cd749",
   "metadata": {},
   "outputs": [],
   "source": [
    "\n",
    "ggsave(\"../figures/gsea_quantification/cd8_sex.svg\", create.dir = TRUE,\n",
    "       width = 9, height = 8, units = \"cm\")\n",
    "ggsave(\"../figures/gsea_quantification/cd8_sex.png\", width = 9, height = 8, units = \"cm\")\n"
   ]
  },
  {
   "cell_type": "code",
   "execution_count": null,
   "id": "7c1676c4",
   "metadata": {},
   "outputs": [],
   "source": [
    "p"
   ]
  },
  {
   "cell_type": "code",
   "execution_count": null,
   "id": "a5152c09",
   "metadata": {
    "scrolled": true
   },
   "outputs": [],
   "source": [
    "options(repr.plot.height = 3.5, repr.plot.width = 6)\n",
    "for(i in 1:5){\n",
    "    md_cd8$naive_vs_eff  <- gsva.es[i,]\n",
    "    p  <- md_cd8  %>% \n",
    "    ggplot(aes(x = Sex, y = naive_vs_eff)) +\n",
    "    geom_boxplot(outlier.shape = NA) +\n",
    "    geom_jitter() +\n",
    "    ggtheme() +\n",
    "    ggtitle(rownames(gsva.es)[i]) +\n",
    "    ggpubr::stat_compare_means(label = \"p.format\")\n",
    "    \n",
    "    \n",
    "    print(p)\n",
    "}"
   ]
  },
  {
   "cell_type": "markdown",
   "id": "58b47e83",
   "metadata": {},
   "source": [
    "## GSEA scores per patient - DecoupleR"
   ]
  },
  {
   "cell_type": "markdown",
   "id": "c9bbfba9",
   "metadata": {},
   "source": [
    "In this part, we will load the signatures from the publication by John Wherry et al. and use them for quantification of scores per patient using the DecoupleR package. "
   ]
  },
  {
   "cell_type": "code",
   "execution_count": null,
   "id": "f71749be",
   "metadata": {},
   "outputs": [],
   "source": [
    "library(limma)\n",
    "library(decoupleR)"
   ]
  },
  {
   "cell_type": "code",
   "execution_count": null,
   "id": "21d49e61",
   "metadata": {},
   "outputs": [],
   "source": [
    "genes  <- c(\"GZMB\",\"GZMA\",\"TNF\",\"LEF1\",\"TCF7\",\"GNLY\",\"CXCR4\",\"TNFAIP3\")"
   ]
  },
  {
   "cell_type": "code",
   "execution_count": null,
   "id": "6195f24b",
   "metadata": {},
   "outputs": [],
   "source": [
    "df  <- aggexp_cd8@assays$RNA@layers$data[which(rownames(aggexp_cd8@assays$RNA) %in% genes),]"
   ]
  },
  {
   "cell_type": "code",
   "execution_count": null,
   "id": "55bf977b",
   "metadata": {},
   "outputs": [],
   "source": [
    "colnames(df)  <- colnames(aggexp_cd8)\n",
    "rownames(df)  <- rownames(aggexp_cd8@assays$RNA)[which(rownames(aggexp_cd8@assays$RNA) %in% genes)]"
   ]
  },
  {
   "cell_type": "code",
   "execution_count": null,
   "id": "e5da9911",
   "metadata": {},
   "outputs": [],
   "source": [
    "df  <- df  %>% t()  %>% as.data.frame()  %>% \n",
    "rownames_to_column(\"Sample_ID\")  %>% \n",
    "pivot_longer(!Sample_ID, names_to = \"gene\", values_to = \"value\")  \n"
   ]
  },
  {
   "cell_type": "code",
   "execution_count": null,
   "id": "91dec9ec",
   "metadata": {
    "scrolled": true
   },
   "outputs": [],
   "source": [
    "df"
   ]
  },
  {
   "cell_type": "code",
   "execution_count": null,
   "id": "775aed97",
   "metadata": {},
   "outputs": [],
   "source": [
    "df  <- df  %>% left_join(md_cd8)"
   ]
  },
  {
   "cell_type": "code",
   "execution_count": null,
   "id": "b6b1d077",
   "metadata": {
    "scrolled": true
   },
   "outputs": [],
   "source": [
    "df  %>% \n",
    "ggplot(aes(x = Condition, y = value)) +\n",
    "geom_violin(scale = \"width\", aes(fill = Condition), alpha = 0.4) +\n",
    "stat_summary(fun = \"median\",\n",
    "               geom = \"crossbar\", \n",
    "               width = 0.75,\n",
    "               color = \"grey30\") +\n",
    "geom_beeswarm(size = 3, aes(fill = Condition), cex = 3, \n",
    "                shape = 21, color = \"black\", corral = \"random\") +\n",
    " stat_compare_means(label = \"p.format\", comparisons = list(c(1,2))) +\n",
    "facet_wrap(~gene, ncol = 4, scales = \"free\") +\n",
    "theme_classic() +\n",
    "ggtheme() +\n",
    "scale_fill_manual(values = c(\"#1874cdff\",  \"#ee6363ff\", \"#c41515ff\",\"#eeb4b4ff\")) +\n",
    "scale_color_manual(values = c(\"dodgerblue3\",  \"#e54c4cff\", \"#aa2a2aff\",\"#e88989ff\")) +\n",
    "ylab(\"\") +\n",
    "  xlab(\"\") +\n",
    "theme(axis.text.x = element_blank(),\n",
    "      axis.ticks.x = element_blank()\n",
    "      )"
   ]
  },
  {
   "cell_type": "markdown",
   "id": "a2677245",
   "metadata": {},
   "source": [
    "Load the matrix from Wherry et al."
   ]
  },
  {
   "cell_type": "code",
   "execution_count": null,
   "id": "ea611095",
   "metadata": {},
   "outputs": [],
   "source": [
    "load(\"../../VN_misc/ref_wherry_new.RData\")"
   ]
  },
  {
   "cell_type": "code",
   "execution_count": null,
   "id": "d1f98fac",
   "metadata": {},
   "outputs": [],
   "source": [
    "ref_wherry_new"
   ]
  },
  {
   "cell_type": "code",
   "execution_count": null,
   "id": "db63cedc",
   "metadata": {},
   "outputs": [],
   "source": [
    "ref_wherry_new$labels"
   ]
  },
  {
   "cell_type": "markdown",
   "id": "f85e45bf",
   "metadata": {},
   "source": [
    "## CD8"
   ]
  },
  {
   "cell_type": "code",
   "execution_count": null,
   "id": "4e046baa",
   "metadata": {},
   "outputs": [],
   "source": []
  },
  {
   "cell_type": "markdown",
   "id": "8667dcdb",
   "metadata": {},
   "source": [
    "### Contrast for X vs Y"
   ]
  },
  {
   "cell_type": "code",
   "execution_count": null,
   "id": "1c8435f8",
   "metadata": {},
   "outputs": [],
   "source": [
    "subset1 = \"CD8_Naive\"\n",
    "subset2 = \"CD8_EM1\"\n"
   ]
  },
  {
   "cell_type": "code",
   "execution_count": null,
   "id": "736c6bce",
   "metadata": {},
   "outputs": [],
   "source": [
    "mtx_subset  <- ref_wherry_new$matrix[,ref_wherry_new$labels %in% c(subset1,subset2)]"
   ]
  },
  {
   "cell_type": "code",
   "execution_count": null,
   "id": "61387942",
   "metadata": {},
   "outputs": [],
   "source": [
    "dim(ref_wherry_new$matrix)"
   ]
  },
  {
   "cell_type": "code",
   "execution_count": null,
   "id": "887adc92",
   "metadata": {},
   "outputs": [],
   "source": [
    "dim(mtx_subset)"
   ]
  },
  {
   "cell_type": "code",
   "execution_count": null,
   "id": "cc1b9505",
   "metadata": {},
   "outputs": [],
   "source": [
    "group  <- ref_wherry_new$labels[ref_wherry_new$labels %in% c(subset1,subset2)]"
   ]
  },
  {
   "cell_type": "code",
   "execution_count": null,
   "id": "c5c1ce33",
   "metadata": {},
   "outputs": [],
   "source": [
    "group"
   ]
  },
  {
   "cell_type": "code",
   "execution_count": null,
   "id": "e7003705",
   "metadata": {},
   "outputs": [],
   "source": [
    "design <- model.matrix(~group)\n",
    "fit <- lmFit(mtx_subset, design)\n",
    "fit <- eBayes(fit)\n",
    "topTable(fit)"
   ]
  },
  {
   "cell_type": "code",
   "execution_count": null,
   "id": "63cdb60a",
   "metadata": {
    "scrolled": true
   },
   "outputs": [],
   "source": [
    "topTable(fit, number = 50000)"
   ]
  },
  {
   "cell_type": "code",
   "execution_count": null,
   "id": "b2eeda35",
   "metadata": {},
   "outputs": [],
   "source": []
  },
  {
   "cell_type": "code",
   "execution_count": null,
   "id": "afd5434f",
   "metadata": {},
   "outputs": [],
   "source": [
    "signatures  <- topTable(fit, number = 50000)  %>%\n",
    "transmute(source = paste(subset1,\"vs.\",subset2),\n",
    "          target = ID,\n",
    "          mor = logFC)"
   ]
  },
  {
   "cell_type": "code",
   "execution_count": null,
   "id": "44e6ea20",
   "metadata": {
    "scrolled": true
   },
   "outputs": [],
   "source": [
    "signatures$target  %>% duplicated  %>% table"
   ]
  },
  {
   "cell_type": "code",
   "execution_count": null,
   "id": "52b9b99b",
   "metadata": {},
   "outputs": [],
   "source": [
    "target_dupl  <- signatures$target  %>% duplicated"
   ]
  },
  {
   "cell_type": "code",
   "execution_count": null,
   "id": "13e42afc",
   "metadata": {
    "scrolled": true
   },
   "outputs": [],
   "source": [
    "signatures  %>% dplyr::filter(target_dupl)"
   ]
  },
  {
   "cell_type": "code",
   "execution_count": null,
   "id": "ed7eda36",
   "metadata": {},
   "outputs": [],
   "source": [
    "signatures  %>% dplyr::filter(!target_dupl)"
   ]
  },
  {
   "cell_type": "code",
   "execution_count": null,
   "id": "e0e4f700",
   "metadata": {},
   "outputs": [],
   "source": []
  },
  {
   "cell_type": "code",
   "execution_count": null,
   "id": "47c5f7c7",
   "metadata": {
    "scrolled": true
   },
   "outputs": [],
   "source": [
    "all_markers_cd8  %>% dplyr::filter(test_type == \"Dia T0 vs Ctrl T0\" & dataset == \"cd8_l1_full_filt\")  %>% arrange(p_val)"
   ]
  },
  {
   "cell_type": "code",
   "execution_count": null,
   "id": "ae23fcae",
   "metadata": {},
   "outputs": [],
   "source": [
    "mrk_t0  <- all_markers_cd8  %>% dplyr::filter(test_type == \"Dia T0 vs Ctrl T0\" & dataset == \"cd8_l1_full_filt\")  %>% arrange(p_val_adj)  %>% \n",
    "pull(gene)"
   ]
  },
  {
   "cell_type": "code",
   "execution_count": null,
   "id": "5979cb0a",
   "metadata": {
    "scrolled": true
   },
   "outputs": [],
   "source": [
    "all_markers_cd8  %>% dplyr::filter(test_type == \"Dia T1 vs Ctrl T0\" & dataset == \"cd8_l1_full_filt\")  %>% arrange(p_val)"
   ]
  },
  {
   "cell_type": "code",
   "execution_count": null,
   "id": "1769c648",
   "metadata": {},
   "outputs": [],
   "source": [
    "mrk_t1  <- all_markers_cd8  %>% dplyr::filter(test_type == \"Dia T1 vs Ctrl T0\" & dataset == \"cd8_l1_full_filt\")  %>% \n",
    "arrange(p_val_adj)  %>% \n",
    "pull(gene)"
   ]
  },
  {
   "cell_type": "code",
   "execution_count": null,
   "id": "23726275",
   "metadata": {},
   "outputs": [],
   "source": [
    "mrk_t0  <- mrk_t0[1:200]\n",
    "mrk_t1  <- mrk_t1[1:200]"
   ]
  },
  {
   "cell_type": "code",
   "execution_count": null,
   "id": "a2b4b700",
   "metadata": {},
   "outputs": [],
   "source": [
    "intersect(mrk_t0, mrk_t1)"
   ]
  },
  {
   "cell_type": "code",
   "execution_count": null,
   "id": "981eb1e5",
   "metadata": {},
   "outputs": [],
   "source": []
  },
  {
   "cell_type": "code",
   "execution_count": null,
   "id": "a71ec922",
   "metadata": {},
   "outputs": [],
   "source": [
    "genes  <- c(\"STIM1\", \"STIM2\", \"ORAI2\", \"ORAI3\", \"TRPC1\", \"RCAN1\", \"PPP3CA\", \"PPP3R1 \", \"NFATC1\", \"NFATC2\", \"NFATC3\")"
   ]
  },
  {
   "cell_type": "code",
   "execution_count": null,
   "id": "d4e80404",
   "metadata": {},
   "outputs": [],
   "source": [
    "df  <- aggexp_cd8@assays$RNA@layers$data[which(rownames(aggexp_cd8@assays$RNA) %in% genes),]"
   ]
  },
  {
   "cell_type": "code",
   "execution_count": null,
   "id": "9fc1584f",
   "metadata": {},
   "outputs": [],
   "source": [
    "colnames(df)  <- colnames(aggexp_cd8)\n",
    "rownames(df)  <- rownames(aggexp_cd8@assays$RNA)[which(rownames(aggexp_cd8@assays$RNA) %in% genes)]"
   ]
  },
  {
   "cell_type": "code",
   "execution_count": null,
   "id": "5e8b2ccb",
   "metadata": {},
   "outputs": [],
   "source": [
    "df  <- df  %>% t()  %>% as.data.frame()  %>% \n",
    "rownames_to_column(\"Sample_ID\")  %>% \n",
    "pivot_longer(!Sample_ID, names_to = \"gene\", values_to = \"value\")  \n"
   ]
  },
  {
   "cell_type": "code",
   "execution_count": null,
   "id": "5f1bb77e",
   "metadata": {
    "scrolled": true
   },
   "outputs": [],
   "source": [
    "df"
   ]
  },
  {
   "cell_type": "code",
   "execution_count": null,
   "id": "6d75c47b",
   "metadata": {},
   "outputs": [],
   "source": [
    "df  <- df  %>% left_join(md_cd8)"
   ]
  },
  {
   "cell_type": "code",
   "execution_count": null,
   "id": "525c2b27",
   "metadata": {
    "scrolled": true
   },
   "outputs": [],
   "source": [
    "df  %>% \n",
    "ggplot(aes(x = Condition, y = value)) +\n",
    "geom_violin(scale = \"width\", aes(fill = Condition), alpha = 0.4) +\n",
    "stat_summary(fun = \"median\",\n",
    "               geom = \"crossbar\", \n",
    "               width = 0.75,\n",
    "               color = \"grey30\") +\n",
    "geom_beeswarm(size = 3, aes(fill = Condition), cex = 3, \n",
    "                shape = 21, color = \"black\", corral = \"random\") +\n",
    " stat_compare_means(label = \"p.format\", comparisons = list(c(1,2))) +\n",
    "facet_wrap(~gene, ncol = 4, scales = \"free\") +\n",
    "theme_classic() +\n",
    "ggtheme() +\n",
    "scale_fill_manual(values = c(\"#1874cdff\",  \"#ee6363ff\", \"#c41515ff\",\"#eeb4b4ff\")) +\n",
    "scale_color_manual(values = c(\"dodgerblue3\",  \"#e54c4cff\", \"#aa2a2aff\",\"#e88989ff\")) +\n",
    "ylab(\"\") +\n",
    "  xlab(\"\") +\n",
    "theme(axis.text.x = element_blank(),\n",
    "      axis.ticks.x = element_blank()\n",
    "      )"
   ]
  },
  {
   "cell_type": "code",
   "execution_count": null,
   "id": "4ebf71fc",
   "metadata": {},
   "outputs": [],
   "source": [
    "mrk_t0  <- all_markers_cd8  %>% dplyr::filter(test_type == \"Dia T0 vs Ctrl T0\" & dataset == \"cd8_l1_full_filt\")  %>% arrange(p_val_adj)  %>% \n",
    "pull(gene)"
   ]
  },
  {
   "cell_type": "code",
   "execution_count": null,
   "id": "52ae36d2",
   "metadata": {
    "scrolled": true
   },
   "outputs": [],
   "source": [
    "all_markers_cd8  %>% dplyr::filter(test_type == \"Dia T1 vs Ctrl T0\" & dataset == \"cd8_l1_full_filt\")  %>% arrange(p_val)"
   ]
  },
  {
   "cell_type": "code",
   "execution_count": null,
   "id": "112e24b0",
   "metadata": {},
   "outputs": [],
   "source": [
    "mrk_t1  <- all_markers_cd8  %>% dplyr::filter(test_type == \"Dia T0 vs Dia T1\" & dataset == \"cd8_l1_full_filt\")  %>% \n",
    "arrange(p_val_adj)  %>% \n",
    "pull(gene)"
   ]
  },
  {
   "cell_type": "code",
   "execution_count": null,
   "id": "bdf4edd8",
   "metadata": {},
   "outputs": [],
   "source": [
    "mrk_t0  <- mrk_t0[1:200]\n",
    "mrk_t1  <- mrk_t1[1:200]"
   ]
  },
  {
   "cell_type": "code",
   "execution_count": null,
   "id": "6a57bc99",
   "metadata": {},
   "outputs": [],
   "source": [
    "intersect(mrk_t0, mrk_t1)"
   ]
  },
  {
   "cell_type": "code",
   "execution_count": null,
   "id": "3dec1822",
   "metadata": {},
   "outputs": [],
   "source": [
    "genes  <- c(\"ORAI1\",\"NFATC2\",\"NFATC3\")"
   ]
  },
  {
   "cell_type": "code",
   "execution_count": null,
   "id": "cc233655",
   "metadata": {},
   "outputs": [],
   "source": [
    "df  <- aggexp_cd8@assays$RNA@layers$data[which(rownames(aggexp_cd8@assays$RNA) %in% genes),]"
   ]
  },
  {
   "cell_type": "code",
   "execution_count": null,
   "id": "c3287bd3",
   "metadata": {},
   "outputs": [],
   "source": [
    "colnames(df)  <- colnames(aggexp_cd8)\n",
    "rownames(df)  <- rownames(aggexp_cd8@assays$RNA)[which(rownames(aggexp_cd8@assays$RNA) %in% genes)]"
   ]
  },
  {
   "cell_type": "code",
   "execution_count": null,
   "id": "c4fdeac3",
   "metadata": {},
   "outputs": [],
   "source": [
    "df  <- df  %>% t()  %>% as.data.frame()  %>% \n",
    "rownames_to_column(\"Sample_ID\")  %>% \n",
    "pivot_longer(!Sample_ID, names_to = \"gene\", values_to = \"value\")  \n"
   ]
  },
  {
   "cell_type": "code",
   "execution_count": null,
   "id": "6dc90345",
   "metadata": {
    "scrolled": true
   },
   "outputs": [],
   "source": [
    "df"
   ]
  },
  {
   "cell_type": "code",
   "execution_count": null,
   "id": "9702dfd9",
   "metadata": {},
   "outputs": [],
   "source": [
    "df  <- df  %>% left_join(md_cd8)"
   ]
  },
  {
   "cell_type": "code",
   "execution_count": null,
   "id": "5d46daaa",
   "metadata": {
    "scrolled": true
   },
   "outputs": [],
   "source": [
    "options(repr.plot.height = 4, repr.plot.width = 9)\n",
    "\n",
    "df  %>% \n",
    "ggplot(aes(x = Condition, y = value)) +\n",
    "geom_violin(scale = \"width\", aes(fill = Condition), alpha = 0.4) +\n",
    "stat_summary(fun = \"median\",\n",
    "               geom = \"crossbar\", \n",
    "               width = 0.75,\n",
    "               color = \"grey30\") +\n",
    "geom_beeswarm(size = 3, aes(fill = Condition), cex = 3, \n",
    "                shape = 21, color = \"black\", corral = \"random\") +\n",
    " stat_compare_means(label = \"p.format\", comparisons = list(c(1,2))) +\n",
    "facet_wrap(~gene, ncol = 4, scales = \"free\") +\n",
    "theme_classic() +\n",
    "ggtheme() +\n",
    "scale_fill_manual(values = c(\"#1874cdff\",  \"#ee6363ff\", \"#c41515ff\",\"#eeb4b4ff\")) +\n",
    "scale_color_manual(values = c(\"dodgerblue3\",  \"#e54c4cff\", \"#aa2a2aff\",\"#e88989ff\")) +\n",
    "ylab(\"\") +\n",
    "  xlab(\"\") +\n",
    "theme(axis.text.x = element_blank(),\n",
    "      axis.ticks.x = element_blank()\n",
    "      )"
   ]
  },
  {
   "cell_type": "code",
   "execution_count": null,
   "id": "291aaeb8",
   "metadata": {},
   "outputs": [],
   "source": [
    "df  <- aggexp_cd4@assays$RNA@layers$data[which(rownames(aggexp_cd4@assays$RNA) %in% genes),]"
   ]
  },
  {
   "cell_type": "code",
   "execution_count": null,
   "id": "43eb9d83",
   "metadata": {},
   "outputs": [],
   "source": [
    "colnames(df)  <- colnames(aggexp_cd4)\n",
    "rownames(df)  <- rownames(aggexp_cd4@assays$RNA)[which(rownames(aggexp_cd4@assays$RNA) %in% genes)]"
   ]
  },
  {
   "cell_type": "code",
   "execution_count": null,
   "id": "9a26b0a7",
   "metadata": {},
   "outputs": [],
   "source": [
    "df  <- df  %>% t()  %>% as.data.frame()  %>% \n",
    "rownames_to_column(\"Sample_ID\")  %>% \n",
    "pivot_longer(!Sample_ID, names_to = \"gene\", values_to = \"value\")  \n"
   ]
  },
  {
   "cell_type": "code",
   "execution_count": null,
   "id": "a5e77616",
   "metadata": {
    "scrolled": true
   },
   "outputs": [],
   "source": [
    "df"
   ]
  },
  {
   "cell_type": "code",
   "execution_count": null,
   "id": "35efbeae",
   "metadata": {},
   "outputs": [],
   "source": [
    "df  <- df  %>% left_join(md_cd4)"
   ]
  },
  {
   "cell_type": "code",
   "execution_count": null,
   "id": "e021b279",
   "metadata": {
    "scrolled": true
   },
   "outputs": [],
   "source": [
    "df  %>% \n",
    "ggplot(aes(x = Condition, y = value)) +\n",
    "geom_violin(scale = \"width\", aes(fill = Condition), alpha = 0.4) +\n",
    "stat_summary(fun = \"median\",\n",
    "               geom = \"crossbar\", \n",
    "               width = 0.75,\n",
    "               color = \"grey30\") +\n",
    "geom_beeswarm(size = 3, aes(fill = Condition), cex = 3, \n",
    "                shape = 21, color = \"black\", corral = \"random\") +\n",
    " stat_compare_means(label = \"p.format\", comparisons = list(c(1,2))) +\n",
    "facet_wrap(~gene, ncol = 4, scales = \"free\") +\n",
    "theme_classic() +\n",
    "ggtheme() +\n",
    "scale_fill_manual(values = c(\"#1874cdff\",  \"#ee6363ff\", \"#c41515ff\",\"#eeb4b4ff\")) +\n",
    "scale_color_manual(values = c(\"dodgerblue3\",  \"#e54c4cff\", \"#aa2a2aff\",\"#e88989ff\")) +\n",
    "ylab(\"\") +\n",
    "  xlab(\"\") +\n",
    "theme(axis.text.x = element_blank(),\n",
    "      axis.ticks.x = element_blank()\n",
    "      )"
   ]
  },
  {
   "cell_type": "code",
   "execution_count": null,
   "id": "8ede08fe",
   "metadata": {},
   "outputs": [],
   "source": []
  },
  {
   "cell_type": "code",
   "execution_count": null,
   "id": "38438751",
   "metadata": {},
   "outputs": [],
   "source": [
    "ls()"
   ]
  },
  {
   "cell_type": "code",
   "execution_count": null,
   "id": "fcb1888b",
   "metadata": {},
   "outputs": [],
   "source": []
  },
  {
   "cell_type": "code",
   "execution_count": null,
   "id": "88a386bd",
   "metadata": {},
   "outputs": [],
   "source": [
    "cd8_l1_full_filt$Experiment_ID  %>% table"
   ]
  },
  {
   "cell_type": "code",
   "execution_count": null,
   "id": "b988ba47",
   "metadata": {},
   "outputs": [],
   "source": [
    "cd8_l1_full_filt@meta.data  %>% group_by(Experiment_ID, Disease, Patient_ID)  %>% tally  %>% \n",
    "dplyr::select(-n)  %>% \n",
    "group_by(Experiment_ID, Disease)  %>%\n",
    "tally()"
   ]
  },
  {
   "cell_type": "code",
   "execution_count": null,
   "id": "0d80d8a0",
   "metadata": {},
   "outputs": [],
   "source": [
    "cd8_l1_full_filt@meta.data  %>% group_by(Experiment_ID, Condition, Patient_ID)  %>% tally  %>% \n",
    "dplyr::select(-n)  %>% \n",
    "group_by(Experiment_ID, Condition)  %>%\n",
    "tally()  %>% \n",
    "pivot_wider(names_from = Condition, values_from = n)"
   ]
  },
  {
   "cell_type": "code",
   "execution_count": null,
   "id": "3a6e93ff",
   "metadata": {},
   "outputs": [],
   "source": [
    "cd4_l1_full_filt@meta.data  %>% group_by(Experiment_ID, Condition, Patient_ID)  %>% tally  %>% \n",
    "dplyr::select(-n)  %>% \n",
    "group_by(Experiment_ID, Condition)  %>%\n",
    "tally()  %>% \n",
    "pivot_wider(names_from = Condition, values_from = n)"
   ]
  },
  {
   "cell_type": "code",
   "execution_count": null,
   "id": "98e836cc",
   "metadata": {},
   "outputs": [],
   "source": [
    "\"ACTN4\", \"ADAM19\", \"AHR\", \"AKIRIN2\", \"ALCAM\", \"ALOX5AP\", \"SLF1\", \"ANTXR2\", \"ANXA1\", \"ANXA2\", \"ANXA2P1\", \"ANXA4\", \"AQP3\", \"ARHGAP18\", \"ASB2\", \"ATP2B4\", \"ATXN1\", \"B3GNT9\", \"BTG3\", \"SMCO4\", \"LACC1\", \"MIR22HG\", \"SMIM29\", \"CALHM2\", \"CAPG\", \"CASK\", \"CAST\", \"CBLL1\", \"CCDC107\", \"CCL5\", \"CCR2\", \"CCR6\", \"CD226\", \"CD28\", \"CD58\", \"CD63\", \"CD74\", \"CD84\", \"CDC42EP3\", \"CDK2AP2\", \"CHST7\", \"CLDND1\", \"CLIC1\", \"CLU\", \"CNPPD1\", \"COTL1\", \"CPPED1\", \"CREB3L2\", \"CRELD2\", \"CRIP1\", \"CRYBG3\", \"CTSA\", \"CTSC\", \"CXCR3\", \"DNAI2\", \"DUSP16\", \"DUSP5\", \"EFHD2\", \"AGO4\", \"EIF3A\", \"EIF4EBP2\", \"ELOVL5\", \"EPS15\", \"EVI2B\", \"NIBAN1\", \"ZC2HC1A\", \"PIEZO1\", \"FAR2\", \"FAS\", \"FBXL8\", \"FRMD4B\", \"GBP3\", \"GCLM\", \"GDPD5\", \"GLIPR1\", \"GOLGA7\", \"GSTK1\", \"GZMA\", \"GZMK\", \"HLA-DPA1\", \"HMGN4\", \"JPT1\", \"HNRNPLL\", \"HOPX\", \"IFI16\", \"IFI27\", \"IFNG\", \"IL10RA\", \"IL15RA\", \"IQGAP1\", \"IQGAP2\", \"ITGB1\", \"MATCAP1\", \"KIF1B\", \"KIF21A\", \"KLRB1\", \"LDHA\", \"LGALS1\", \"LGALS3\", \"LIMS1\", \"LIMS3\", \"WDR86-AS1\", \"\", \"\", \"\", \"\", \"MAP3K5\", \"MDFIC\", \"MFHAS1\", \"MIAT\", \"MIB1\", \"MICAL2\", \"MIS18BP1\", \"MLF1\", \"AFDN\", \"MTSS1\", \"MYBL1\", \"MYL6\", \"MYO1F\", \"NCAPH\", \"NCF4\", \"NETO2\", \"NINJ2\", \"NMU\", \"NOD2\", \"NPC1\", \"NPDC1\", \"NABP1\", \"NABP2\", \"OGDH\", \"OGFRL1\", \"OSBPL3\", \"PAM\", \"PDIA6\", \"PEA15\", \"PFKL\", \"PHACTR2\", \"PHTF2\", \"PLXNC1\", \"PPIF\", \"PPP1CA\", \"PREX1\", \"PRR5L\", \"PTTG1\", \"NECTIN3\", \"RAB27A\", \"REEP3\", \"REEP5\", \"RFTN1\", \"RGS3\", \"RHOU\", \"RNF126\", \"RNF149\", \"RORA\", \"S100A11\", \"S100A4\", \"SAP30\", \"SEC11C\", \"SH2D1A\", \"SH3BGRL3\", \"SH3BP5\", \"SLC2A3\", \"SLC35D2\", \"NHERF1\", \"SMAP1\", \"SPAG1\", \"SPOPL\", \"SRGN\", \"SSR3\", \"ST8SIA1\", \"STOM\", \"STX11\", \"TBCB\", \"TBX21\", \"TIGIT\", \"TLR3\", \"TMEM116\", \"TMEM156\", \"TMEM200A\", \"TMEM64\", \"TMX4\", \"TNF\", \"TNFRSF4\", \"TOR3A\", \"TP53INP1\", \"TPM4\", \"TRAC\", \"TRADD\", \"TTC39C\", \"TTYH2\", \"TXN\", \"TYMP\", \"UBL3\", \"USP46\", \"UST\", \"VCL\", \"YWHAH\", \"ZBTB38\", \"ZC3HAV1L\", \"ZNF532\"\n"
   ]
  },
  {
   "cell_type": "code",
   "execution_count": null,
   "id": "f5664659",
   "metadata": {},
   "outputs": [],
   "source": [
    "aggexp_cd4  <- AddModuleScore(aggexp_cd4, ctrl = 50, name = \"Eff_Module_Score\",\n",
    "                              features = list(c(\n",
    "\"ACTN4\", \"ADAM19\", \"AHR\", \"AKIRIN2\", \"ALCAM\", \"ALOX5AP\", \"SLF1\", \"ANTXR2\", \"ANXA1\", \"ANXA2\", \"ANXA2P1\", \"ANXA4\", \"AQP3\", \"ARHGAP18\", \"ASB2\", \"ATP2B4\", \"ATXN1\", \"B3GNT9\", \"BTG3\", \"SMCO4\", \"LACC1\", \"MIR22HG\", \"SMIM29\", \"CALHM2\", \"CAPG\", \"CASK\", \"CAST\", \"CBLL1\", \"CCDC107\", \"CCL5\", \"CCR2\", \"CCR6\", \"CD226\", \"CD28\", \"CD58\", \"CD63\", \"CD74\", \"CD84\", \"CDC42EP3\", \"CDK2AP2\", \"CHST7\", \"CLDND1\", \"CLIC1\", \"CLU\", \"CNPPD1\", \"COTL1\", \"CPPED1\", \"CREB3L2\", \"CRELD2\", \"CRIP1\", \"CRYBG3\", \"CTSA\", \"CTSC\", \"CXCR3\", \"DNAI2\", \"DUSP16\", \"DUSP5\", \"EFHD2\", \"AGO4\", \"EIF3A\", \"EIF4EBP2\", \"ELOVL5\", \"EPS15\", \"EVI2B\", \"NIBAN1\", \"ZC2HC1A\", \"PIEZO1\", \"FAR2\", \"FAS\", \"FBXL8\", \"FRMD4B\", \"GBP3\", \"GCLM\", \"GDPD5\", \"GLIPR1\", \"GOLGA7\", \"GSTK1\", \"GZMA\", \"GZMK\", \"HLA-DPA1\", \"HMGN4\", \"JPT1\", \"HNRNPLL\", \"HOPX\", \"IFI16\", \"IFI27\", \"IFNG\", \"IL10RA\", \"IL15RA\", \"IQGAP1\", \"IQGAP2\", \"ITGB1\", \"MATCAP1\", \"KIF1B\", \"KIF21A\", \"KLRB1\", \"LDHA\", \"LGALS1\", \"LGALS3\", \"LIMS1\", \"LIMS3\", \"WDR86-AS1\", \"\", \"\", \"\", \"\", \"MAP3K5\", \"MDFIC\", \"MFHAS1\", \"MIAT\", \"MIB1\", \"MICAL2\", \"MIS18BP1\", \"MLF1\", \"AFDN\", \"MTSS1\", \"MYBL1\", \"MYL6\", \"MYO1F\", \"NCAPH\", \"NCF4\", \"NETO2\", \"NINJ2\", \"NMU\", \"NOD2\", \"NPC1\", \"NPDC1\", \"NABP1\", \"NABP2\", \"OGDH\", \"OGFRL1\", \"OSBPL3\", \"PAM\", \"PDIA6\", \"PEA15\", \"PFKL\", \"PHACTR2\", \"PHTF2\", \"PLXNC1\", \"PPIF\", \"PPP1CA\", \"PREX1\", \"PRR5L\", \"PTTG1\", \"NECTIN3\", \"RAB27A\", \"REEP3\", \"REEP5\", \"RFTN1\", \"RGS3\", \"RHOU\", \"RNF126\", \"RNF149\", \"RORA\", \"S100A11\", \"S100A4\", \"SAP30\", \"SEC11C\", \"SH2D1A\", \"SH3BGRL3\", \"SH3BP5\", \"SLC2A3\", \"SLC35D2\", \"NHERF1\", \"SMAP1\", \"SPAG1\", \"SPOPL\", \"SRGN\", \"SSR3\", \"ST8SIA1\", \"STOM\", \"STX11\", \"TBCB\", \"TBX21\", \"TIGIT\", \"TLR3\", \"TMEM116\", \"TMEM156\", \"TMEM200A\", \"TMEM64\", \"TMX4\", \"TNF\", \"TNFRSF4\", \"TOR3A\", \"TP53INP1\", \"TPM4\", \"TRAC\", \"TRADD\", \"TTC39C\", \"TTYH2\", \"TXN\", \"TYMP\", \"UBL3\", \"USP46\", \"UST\", \"VCL\", \"YWHAH\", \"ZBTB38\", \"ZC3HAV1L\", \"ZNF532\"\n",
    ")))"
   ]
  },
  {
   "cell_type": "code",
   "execution_count": null,
   "id": "965a43a0",
   "metadata": {},
   "outputs": [],
   "source": [
    "VlnPlot(aggexp_cd4, features = \"Eff_Module_Score1\", group.by = \"Condition\") +\n",
    "ggpubr::stat_compare_means(comparisons = list(c(1,2)))"
   ]
  },
  {
   "cell_type": "code",
   "execution_count": null,
   "id": "5a507f7d",
   "metadata": {},
   "outputs": [],
   "source": [
    "df  <- data.frame(score = aggexp_cd4$Eff_Module_Score1,\n",
    "                 Condition = aggexp_cd4$Condition)"
   ]
  },
  {
   "cell_type": "code",
   "execution_count": null,
   "id": "359b0ba8",
   "metadata": {},
   "outputs": [],
   "source": [
    "df  %>% ggplot(aes(x = Condition, y = score)) +\n",
    "geom_violin(scale = \"width\", aes(fill = Condition), alpha = 0.4) +\n",
    "stat_summary(fun = \"median\",\n",
    "               geom = \"crossbar\", \n",
    "               width = 0.75,\n",
    "               color = \"grey30\") +\n",
    "geom_beeswarm(size = 3, aes(fill = Condition), cex = 3, \n",
    "                shape = 21, color = \"black\", corral = \"random\") +\n",
    " stat_compare_means(label = \"p.format\", comparisons = list(c(1,2))) +\n",
    "theme_classic() +\n",
    "ggtheme() +\n",
    "scale_fill_manual(values = c(\"#1874cdff\",  \"#ee6363ff\", \"#c41515ff\",\"#eeb4b4ff\")) +\n",
    "scale_color_manual(values = c(\"dodgerblue3\",  \"#e54c4cff\", \"#aa2a2aff\",\"#e88989ff\")) +\n",
    "ylab(\"\") +\n",
    "  xlab(\"\") +\n",
    "theme(axis.text.x = element_blank(),\n",
    "      axis.ticks.x = element_blank())\n"
   ]
  },
  {
   "cell_type": "code",
   "execution_count": null,
   "id": "d26de8df",
   "metadata": {},
   "outputs": [],
   "source": [
    "aggexp_cd8  <- AddModuleScore(aggexp_cd8, ctrl = 50, name = \"Eff_Module_Score\",\n",
    "                              features = list(c(\n",
    "\"ACTN4\", \"ADAM19\", \"AHR\", \"AKIRIN2\", \"ALCAM\", \"ALOX5AP\", \"SLF1\", \"ANTXR2\", \"ANXA1\", \"ANXA2\", \"ANXA2P1\", \"ANXA4\", \"AQP3\", \"ARHGAP18\", \"ASB2\", \"ATP2B4\", \"ATXN1\", \"B3GNT9\", \"BTG3\", \"SMCO4\", \"LACC1\", \"MIR22HG\", \"SMIM29\", \"CALHM2\", \"CAPG\", \"CASK\", \"CAST\", \"CBLL1\", \"CCDC107\", \"CCL5\", \"CCR2\", \"CCR6\", \"CD226\", \"CD28\", \"CD58\", \"CD63\", \"CD74\", \"CD84\", \"CDC42EP3\", \"CDK2AP2\", \"CHST7\", \"CLDND1\", \"CLIC1\", \"CLU\", \"CNPPD1\", \"COTL1\", \"CPPED1\", \"CREB3L2\", \"CRELD2\", \"CRIP1\", \"CRYBG3\", \"CTSA\", \"CTSC\", \"CXCR3\", \"DNAI2\", \"DUSP16\", \"DUSP5\", \"EFHD2\", \"AGO4\", \"EIF3A\", \"EIF4EBP2\", \"ELOVL5\", \"EPS15\", \"EVI2B\", \"NIBAN1\", \"ZC2HC1A\", \"PIEZO1\", \"FAR2\", \"FAS\", \"FBXL8\", \"FRMD4B\", \"GBP3\", \"GCLM\", \"GDPD5\", \"GLIPR1\", \"GOLGA7\", \"GSTK1\", \"GZMA\", \"GZMK\", \"HLA-DPA1\", \"HMGN4\", \"JPT1\", \"HNRNPLL\", \"HOPX\", \"IFI16\", \"IFI27\", \"IFNG\", \"IL10RA\", \"IL15RA\", \"IQGAP1\", \"IQGAP2\", \"ITGB1\", \"MATCAP1\", \"KIF1B\", \"KIF21A\", \"KLRB1\", \"LDHA\", \"LGALS1\", \"LGALS3\", \"LIMS1\", \"LIMS3\", \"WDR86-AS1\", \"\", \"\", \"\", \"\", \"MAP3K5\", \"MDFIC\", \"MFHAS1\", \"MIAT\", \"MIB1\", \"MICAL2\", \"MIS18BP1\", \"MLF1\", \"AFDN\", \"MTSS1\", \"MYBL1\", \"MYL6\", \"MYO1F\", \"NCAPH\", \"NCF4\", \"NETO2\", \"NINJ2\", \"NMU\", \"NOD2\", \"NPC1\", \"NPDC1\", \"NABP1\", \"NABP2\", \"OGDH\", \"OGFRL1\", \"OSBPL3\", \"PAM\", \"PDIA6\", \"PEA15\", \"PFKL\", \"PHACTR2\", \"PHTF2\", \"PLXNC1\", \"PPIF\", \"PPP1CA\", \"PREX1\", \"PRR5L\", \"PTTG1\", \"NECTIN3\", \"RAB27A\", \"REEP3\", \"REEP5\", \"RFTN1\", \"RGS3\", \"RHOU\", \"RNF126\", \"RNF149\", \"RORA\", \"S100A11\", \"S100A4\", \"SAP30\", \"SEC11C\", \"SH2D1A\", \"SH3BGRL3\", \"SH3BP5\", \"SLC2A3\", \"SLC35D2\", \"NHERF1\", \"SMAP1\", \"SPAG1\", \"SPOPL\", \"SRGN\", \"SSR3\", \"ST8SIA1\", \"STOM\", \"STX11\", \"TBCB\", \"TBX21\", \"TIGIT\", \"TLR3\", \"TMEM116\", \"TMEM156\", \"TMEM200A\", \"TMEM64\", \"TMX4\", \"TNF\", \"TNFRSF4\", \"TOR3A\", \"TP53INP1\", \"TPM4\", \"TRAC\", \"TRADD\", \"TTC39C\", \"TTYH2\", \"TXN\", \"TYMP\", \"UBL3\", \"USP46\", \"UST\", \"VCL\", \"YWHAH\", \"ZBTB38\", \"ZC3HAV1L\", \"ZNF532\"\n",
    ")))"
   ]
  },
  {
   "cell_type": "code",
   "execution_count": null,
   "id": "b84e1968",
   "metadata": {},
   "outputs": [],
   "source": [
    "VlnPlot(aggexp_cd8, features = \"Eff_Module_Score1\", group.by = \"Condition\") +\n",
    "ggpubr::stat_compare_means(comparisons = list(c(1,2)))"
   ]
  },
  {
   "cell_type": "code",
   "execution_count": null,
   "id": "a6c1e5b3",
   "metadata": {},
   "outputs": [],
   "source": [
    "df  <- data.frame(score = aggexp_cd8$Eff_Module_Score1,\n",
    "                 Condition = aggexp_cd8$Condition)"
   ]
  },
  {
   "cell_type": "code",
   "execution_count": null,
   "id": "8e3b0ac5",
   "metadata": {},
   "outputs": [],
   "source": [
    "df  %>% ggplot(aes(x = Condition, y = score)) +\n",
    "geom_violin(scale = \"width\", aes(fill = Condition), alpha = 0.4) +\n",
    "stat_summary(fun = \"median\",\n",
    "               geom = \"crossbar\", \n",
    "               width = 0.75,\n",
    "               color = \"grey30\") +\n",
    "geom_beeswarm(size = 3, aes(fill = Condition), cex = 3, \n",
    "                shape = 21, color = \"black\", corral = \"random\") +\n",
    " stat_compare_means(label = \"p.format\", comparisons = list(c(1,2))) +\n",
    "theme_classic() +\n",
    "ggtheme() +\n",
    "scale_fill_manual(values = c(\"#1874cdff\",  \"#ee6363ff\", \"#c41515ff\",\"#eeb4b4ff\")) +\n",
    "scale_color_manual(values = c(\"dodgerblue3\",  \"#e54c4cff\", \"#aa2a2aff\",\"#e88989ff\")) +\n",
    "ylab(\"\") +\n",
    "  xlab(\"\") +\n",
    "theme(axis.text.x = element_blank(),\n",
    "      axis.ticks.x = element_blank())"
   ]
  },
  {
   "cell_type": "code",
   "execution_count": null,
   "id": "71ce6f38",
   "metadata": {},
   "outputs": [],
   "source": [
    "res_decouple <- decoupleR::decouple(mat = cd8_counts, statistics = \"ulm\",\n",
    "                                    signatures  %>% dplyr::filter(!target_dupl), \n",
    "                                    .source ='source', \n",
    "                                    .target ='target',\n",
    "                                    \n",
    "                                    minsize = 0)"
   ]
  },
  {
   "cell_type": "code",
   "execution_count": null,
   "id": "8a6d3e63",
   "metadata": {},
   "outputs": [],
   "source": [
    "md_cd8"
   ]
  },
  {
   "cell_type": "code",
   "execution_count": null,
   "id": "eb0cbc6e",
   "metadata": {},
   "outputs": [],
   "source": [
    "res_decouple2  <- res_decouple  %>% left_join(md_cd8  %>% rownames_to_column(\"condition\"))"
   ]
  },
  {
   "cell_type": "code",
   "execution_count": null,
   "id": "e0c3320b",
   "metadata": {},
   "outputs": [],
   "source": [
    "res_decouple2"
   ]
  },
  {
   "cell_type": "code",
   "execution_count": null,
   "id": "d5cb8801",
   "metadata": {},
   "outputs": [],
   "source": [
    "res_decouple2  %>% \n",
    "dplyr::filter(statistic == 'ulm')  %>% \n",
    "    ggplot(aes(x = Condition, y = score)) +\n",
    "    geom_boxplot(outlier.shape = NA) +\n",
    "    geom_jitter() +\n",
    "    ggtheme() +\n",
    "    #ggtitle(rownames(gsva.es)[i]) +\n",
    "    ggpubr::stat_compare_means(label = \"p.format\", comparisons = list(c(1,2))) +\n",
    "ggtitle(paste(subset1,\"vs.\",subset2))\n",
    "    "
   ]
  },
  {
   "cell_type": "markdown",
   "id": "ab69e46f",
   "metadata": {},
   "source": [
    "### Contrast for X vs Y"
   ]
  },
  {
   "cell_type": "code",
   "execution_count": null,
   "id": "c7c6a549",
   "metadata": {},
   "outputs": [],
   "source": [
    "subset1 = \"CD8_Naive\"\n",
    "subset2 = \"CD8_EM2\"\n"
   ]
  },
  {
   "cell_type": "code",
   "execution_count": null,
   "id": "75612d30",
   "metadata": {},
   "outputs": [],
   "source": [
    "mtx_subset  <- ref_wherry_new$matrix[,ref_wherry_new$labels %in% c(subset1,subset2)]"
   ]
  },
  {
   "cell_type": "code",
   "execution_count": null,
   "id": "992d0c7e",
   "metadata": {},
   "outputs": [],
   "source": [
    "dim(ref_wherry_new$matrix)"
   ]
  },
  {
   "cell_type": "code",
   "execution_count": null,
   "id": "604a90ea",
   "metadata": {},
   "outputs": [],
   "source": [
    "dim(mtx_subset)"
   ]
  },
  {
   "cell_type": "code",
   "execution_count": null,
   "id": "a0b2e43c",
   "metadata": {},
   "outputs": [],
   "source": [
    "group  <- ref_wherry_new$labels[ref_wherry_new$labels %in% c(subset1,subset2)]"
   ]
  },
  {
   "cell_type": "code",
   "execution_count": null,
   "id": "93fb22cd",
   "metadata": {},
   "outputs": [],
   "source": [
    "group"
   ]
  },
  {
   "cell_type": "code",
   "execution_count": null,
   "id": "8ab11c29",
   "metadata": {},
   "outputs": [],
   "source": [
    "design <- model.matrix(~group)\n",
    "fit <- lmFit(mtx_subset, design)\n",
    "fit <- eBayes(fit)\n",
    "topTable(fit)"
   ]
  },
  {
   "cell_type": "code",
   "execution_count": null,
   "id": "35682f30",
   "metadata": {
    "scrolled": true
   },
   "outputs": [],
   "source": [
    "topTable(fit, number = 50000)"
   ]
  },
  {
   "cell_type": "code",
   "execution_count": null,
   "id": "754d65e3",
   "metadata": {},
   "outputs": [],
   "source": []
  },
  {
   "cell_type": "code",
   "execution_count": null,
   "id": "05c88a78",
   "metadata": {},
   "outputs": [],
   "source": [
    "signatures  <- topTable(fit, number = 50000)  %>%\n",
    "transmute(source = paste(subset1,\"vs.\",subset2),\n",
    "          target = ID,\n",
    "          mor = logFC)"
   ]
  },
  {
   "cell_type": "code",
   "execution_count": null,
   "id": "c1923cf1",
   "metadata": {
    "scrolled": true
   },
   "outputs": [],
   "source": [
    "signatures$target  %>% duplicated  %>% table"
   ]
  },
  {
   "cell_type": "code",
   "execution_count": null,
   "id": "fc99d6a1",
   "metadata": {},
   "outputs": [],
   "source": [
    "target_dupl  <- signatures$target  %>% duplicated"
   ]
  },
  {
   "cell_type": "code",
   "execution_count": null,
   "id": "ddb990a4",
   "metadata": {
    "scrolled": true
   },
   "outputs": [],
   "source": [
    "signatures  %>% dplyr::filter(target_dupl)"
   ]
  },
  {
   "cell_type": "code",
   "execution_count": null,
   "id": "265ed04b",
   "metadata": {},
   "outputs": [],
   "source": [
    "signatures  %>% dplyr::filter(!target_dupl)"
   ]
  },
  {
   "cell_type": "code",
   "execution_count": null,
   "id": "55d92285",
   "metadata": {},
   "outputs": [],
   "source": [
    "X = cd8_counts"
   ]
  },
  {
   "cell_type": "code",
   "execution_count": null,
   "id": "c36593a1",
   "metadata": {},
   "outputs": [],
   "source": [
    "res_decouple <- decoupleR::decouple(mat = cd8_counts, statistics = \"ulm\",\n",
    "                                    signatures  %>% dplyr::filter(!target_dupl), \n",
    "                                    .source ='source', \n",
    "                                    .target ='target',\n",
    "                                    \n",
    "                                    minsize = 0)"
   ]
  },
  {
   "cell_type": "code",
   "execution_count": null,
   "id": "5395dcf4",
   "metadata": {},
   "outputs": [],
   "source": [
    "md_cd8"
   ]
  },
  {
   "cell_type": "code",
   "execution_count": null,
   "id": "fc892a1b",
   "metadata": {},
   "outputs": [],
   "source": [
    "res_decouple2  <- res_decouple  %>% left_join(md_cd8  %>% rownames_to_column(\"condition\"))"
   ]
  },
  {
   "cell_type": "code",
   "execution_count": null,
   "id": "c9e96c07",
   "metadata": {},
   "outputs": [],
   "source": [
    "res_decouple2"
   ]
  },
  {
   "cell_type": "code",
   "execution_count": null,
   "id": "dce06f7d",
   "metadata": {},
   "outputs": [],
   "source": [
    "res_decouple2  %>% \n",
    "dplyr::filter(statistic == 'ulm')  %>% \n",
    "    ggplot(aes(x = Condition, y = score)) +\n",
    "    geom_boxplot(outlier.shape = NA) +\n",
    "    geom_jitter() +\n",
    "    ggtheme() +\n",
    "    #ggtitle(rownames(gsva.es)[i]) +\n",
    "    ggpubr::stat_compare_means(label = \"p.format\", comparisons = list(c(1,2))) +\n",
    "ggtitle(paste(subset1,\"vs.\",subset2))\n",
    "    "
   ]
  },
  {
   "cell_type": "markdown",
   "id": "c01587c1",
   "metadata": {},
   "source": [
    "### Contrast for X vs Y"
   ]
  },
  {
   "cell_type": "code",
   "execution_count": null,
   "id": "a19320f1",
   "metadata": {},
   "outputs": [],
   "source": [
    "ref_wherry_new$labels"
   ]
  },
  {
   "cell_type": "code",
   "execution_count": null,
   "id": "4d42c951",
   "metadata": {},
   "outputs": [],
   "source": [
    "subset1 = \"CD8_Naive\"\n",
    "subset2 = \"CD8_EMRA\"\n"
   ]
  },
  {
   "cell_type": "code",
   "execution_count": null,
   "id": "12befcae",
   "metadata": {},
   "outputs": [],
   "source": [
    "mtx_subset  <- ref_wherry_new$matrix[,ref_wherry_new$labels %in% c(subset1,subset2)]"
   ]
  },
  {
   "cell_type": "code",
   "execution_count": null,
   "id": "7e151ad5",
   "metadata": {},
   "outputs": [],
   "source": [
    "dim(ref_wherry_new$matrix)"
   ]
  },
  {
   "cell_type": "code",
   "execution_count": null,
   "id": "2f892703",
   "metadata": {},
   "outputs": [],
   "source": [
    "dim(mtx_subset)"
   ]
  },
  {
   "cell_type": "code",
   "execution_count": null,
   "id": "f2f8a9f3",
   "metadata": {},
   "outputs": [],
   "source": [
    "group  <- ref_wherry_new$labels[ref_wherry_new$labels %in% c(subset1,subset2)]"
   ]
  },
  {
   "cell_type": "code",
   "execution_count": null,
   "id": "af5ccf2f",
   "metadata": {},
   "outputs": [],
   "source": [
    "group"
   ]
  },
  {
   "cell_type": "code",
   "execution_count": null,
   "id": "7a73f023",
   "metadata": {},
   "outputs": [],
   "source": [
    "design <- model.matrix(~group)\n",
    "fit <- lmFit(mtx_subset, design)\n",
    "fit <- eBayes(fit)\n",
    "topTable(fit)"
   ]
  },
  {
   "cell_type": "code",
   "execution_count": null,
   "id": "51c88720",
   "metadata": {
    "scrolled": true
   },
   "outputs": [],
   "source": [
    "topTable(fit, number = 50000)"
   ]
  },
  {
   "cell_type": "code",
   "execution_count": null,
   "id": "b318c094",
   "metadata": {},
   "outputs": [],
   "source": []
  },
  {
   "cell_type": "code",
   "execution_count": null,
   "id": "2058e357",
   "metadata": {},
   "outputs": [],
   "source": [
    "signatures  <- topTable(fit, number = 50000)  %>%\n",
    "transmute(source = paste(subset1,\"vs.\",subset2),\n",
    "          target = ID,\n",
    "          mor = logFC)"
   ]
  },
  {
   "cell_type": "code",
   "execution_count": null,
   "id": "5b17085d",
   "metadata": {
    "scrolled": true
   },
   "outputs": [],
   "source": [
    "signatures$target  %>% duplicated  %>% table"
   ]
  },
  {
   "cell_type": "code",
   "execution_count": null,
   "id": "ed9797c0",
   "metadata": {},
   "outputs": [],
   "source": [
    "target_dupl  <- signatures$target  %>% duplicated"
   ]
  },
  {
   "cell_type": "code",
   "execution_count": null,
   "id": "a25eca9a",
   "metadata": {
    "scrolled": true
   },
   "outputs": [],
   "source": [
    "signatures  %>% dplyr::filter(target_dupl)"
   ]
  },
  {
   "cell_type": "code",
   "execution_count": null,
   "id": "9ef8c867",
   "metadata": {},
   "outputs": [],
   "source": [
    "signatures  %>% dplyr::filter(!target_dupl)"
   ]
  },
  {
   "cell_type": "code",
   "execution_count": null,
   "id": "5f5fd411",
   "metadata": {},
   "outputs": [],
   "source": [
    "X = cd8_counts"
   ]
  },
  {
   "cell_type": "code",
   "execution_count": null,
   "id": "f119c5e9",
   "metadata": {},
   "outputs": [],
   "source": [
    "res_decouple <- decoupleR::decouple(mat = cd8_counts, statistics = \"ulm\",\n",
    "                                    signatures  %>% dplyr::filter(!target_dupl), \n",
    "                                    .source ='source', \n",
    "                                    .target ='target',\n",
    "                                    \n",
    "                                    minsize = 0)"
   ]
  },
  {
   "cell_type": "code",
   "execution_count": null,
   "id": "0922ba19",
   "metadata": {},
   "outputs": [],
   "source": [
    "md_cd8"
   ]
  },
  {
   "cell_type": "code",
   "execution_count": null,
   "id": "8a845a12",
   "metadata": {},
   "outputs": [],
   "source": [
    "res_decouple2  <- res_decouple  %>% left_join(md_cd8  %>% rownames_to_column(\"condition\"))"
   ]
  },
  {
   "cell_type": "code",
   "execution_count": null,
   "id": "4b02b078",
   "metadata": {},
   "outputs": [],
   "source": [
    "res_decouple2"
   ]
  },
  {
   "cell_type": "code",
   "execution_count": null,
   "id": "5a24f8f8",
   "metadata": {},
   "outputs": [],
   "source": [
    "res_decouple2  %>% \n",
    "dplyr::filter(statistic == 'ulm')  %>% \n",
    "    ggplot(aes(x = Condition, y = score)) +\n",
    "    geom_boxplot(outlier.shape = NA) +\n",
    "    geom_jitter() +\n",
    "    ggtheme() +\n",
    "    #ggtitle(rownames(gsva.es)[i]) +\n",
    "    ggpubr::stat_compare_means(label = \"p.format\", comparisons = list(c(1,2))) +\n",
    "ggtitle(paste(subset1,\"vs.\",subset2))\n",
    "    "
   ]
  },
  {
   "cell_type": "markdown",
   "id": "720e0d84",
   "metadata": {},
   "source": [
    "### Contrast for X vs Y"
   ]
  },
  {
   "cell_type": "code",
   "execution_count": null,
   "id": "3200de53",
   "metadata": {},
   "outputs": [],
   "source": [
    "subset1 = \"CD8_Naive\"\n",
    "subset2 = \"CD8_CM\"\n"
   ]
  },
  {
   "cell_type": "code",
   "execution_count": null,
   "id": "91ee91b0",
   "metadata": {},
   "outputs": [],
   "source": [
    "mtx_subset  <- ref_wherry_new$matrix[,ref_wherry_new$labels %in% c(subset1,subset2)]"
   ]
  },
  {
   "cell_type": "code",
   "execution_count": null,
   "id": "ca1a4a48",
   "metadata": {},
   "outputs": [],
   "source": [
    "dim(ref_wherry_new$matrix)"
   ]
  },
  {
   "cell_type": "code",
   "execution_count": null,
   "id": "ee46298a",
   "metadata": {},
   "outputs": [],
   "source": [
    "dim(mtx_subset)"
   ]
  },
  {
   "cell_type": "code",
   "execution_count": null,
   "id": "595ea754",
   "metadata": {},
   "outputs": [],
   "source": [
    "group  <- ref_wherry_new$labels[ref_wherry_new$labels %in% c(subset1,subset2)]"
   ]
  },
  {
   "cell_type": "code",
   "execution_count": null,
   "id": "5c7fcbf6",
   "metadata": {},
   "outputs": [],
   "source": [
    "group"
   ]
  },
  {
   "cell_type": "code",
   "execution_count": null,
   "id": "4824372b",
   "metadata": {},
   "outputs": [],
   "source": [
    "design <- model.matrix(~group)\n",
    "fit <- lmFit(mtx_subset, design)\n",
    "fit <- eBayes(fit)\n",
    "topTable(fit)"
   ]
  },
  {
   "cell_type": "code",
   "execution_count": null,
   "id": "ad31e1c4",
   "metadata": {
    "scrolled": true
   },
   "outputs": [],
   "source": [
    "topTable(fit, number = 50000)"
   ]
  },
  {
   "cell_type": "code",
   "execution_count": null,
   "id": "371cf580",
   "metadata": {},
   "outputs": [],
   "source": []
  },
  {
   "cell_type": "code",
   "execution_count": null,
   "id": "64eb1936",
   "metadata": {},
   "outputs": [],
   "source": [
    "signatures  <- topTable(fit, number = 50000)  %>%\n",
    "transmute(source = paste(subset1,\"vs.\",subset2),\n",
    "          target = ID,\n",
    "          mor = logFC)"
   ]
  },
  {
   "cell_type": "code",
   "execution_count": null,
   "id": "5fef2a7b",
   "metadata": {
    "scrolled": true
   },
   "outputs": [],
   "source": [
    "signatures$target  %>% duplicated  %>% table"
   ]
  },
  {
   "cell_type": "code",
   "execution_count": null,
   "id": "8cac9687",
   "metadata": {},
   "outputs": [],
   "source": [
    "target_dupl  <- signatures$target  %>% duplicated"
   ]
  },
  {
   "cell_type": "code",
   "execution_count": null,
   "id": "c4e39690",
   "metadata": {
    "scrolled": true
   },
   "outputs": [],
   "source": [
    "signatures  %>% dplyr::filter(target_dupl)"
   ]
  },
  {
   "cell_type": "code",
   "execution_count": null,
   "id": "efb82541",
   "metadata": {},
   "outputs": [],
   "source": [
    "signatures  %>% dplyr::filter(!target_dupl)"
   ]
  },
  {
   "cell_type": "code",
   "execution_count": null,
   "id": "fa7d857b",
   "metadata": {},
   "outputs": [],
   "source": [
    "X = cd8_counts"
   ]
  },
  {
   "cell_type": "code",
   "execution_count": null,
   "id": "973914f0",
   "metadata": {},
   "outputs": [],
   "source": [
    "res_decouple <- decoupleR::decouple(mat = cd8_counts, statistics = \"ulm\",\n",
    "                                    signatures  %>% dplyr::filter(!target_dupl), \n",
    "                                    .source ='source', \n",
    "                                    .target ='target',\n",
    "                                    \n",
    "                                    minsize = 0)"
   ]
  },
  {
   "cell_type": "code",
   "execution_count": null,
   "id": "e8b39c71",
   "metadata": {},
   "outputs": [],
   "source": [
    "md_cd8"
   ]
  },
  {
   "cell_type": "code",
   "execution_count": null,
   "id": "a59f28af",
   "metadata": {},
   "outputs": [],
   "source": [
    "res_decouple2  <- res_decouple  %>% left_join(md_cd8  %>% rownames_to_column(\"condition\"))"
   ]
  },
  {
   "cell_type": "code",
   "execution_count": null,
   "id": "c68062a0",
   "metadata": {},
   "outputs": [],
   "source": [
    "res_decouple2"
   ]
  },
  {
   "cell_type": "code",
   "execution_count": null,
   "id": "2f9f6e2d",
   "metadata": {},
   "outputs": [],
   "source": [
    "res_decouple2  %>% \n",
    "dplyr::filter(statistic == 'ulm')  %>% \n",
    "    ggplot(aes(x = Condition, y = score)) +\n",
    "    geom_boxplot(outlier.shape = NA) +\n",
    "    geom_jitter() +\n",
    "    ggtheme() +\n",
    "    #ggtitle(rownames(gsva.es)[i]) +\n",
    "    ggpubr::stat_compare_means(label = \"p.format\", comparisons = list(c(1,2))) +\n",
    "ggtitle(paste(subset1,\"vs.\",subset2))\n",
    "    "
   ]
  },
  {
   "cell_type": "markdown",
   "id": "e812de22",
   "metadata": {},
   "source": [
    "### Contrast for X vs Y"
   ]
  },
  {
   "cell_type": "code",
   "execution_count": null,
   "id": "693ac1c6",
   "metadata": {},
   "outputs": [],
   "source": [
    "ref_wherry_new$labels"
   ]
  },
  {
   "cell_type": "code",
   "execution_count": null,
   "id": "eeed1675",
   "metadata": {},
   "outputs": [],
   "source": [
    "subset1 = \"CD8_Naive\"\n",
    "subset2 = \"CD8_SCM-R3+\"\n"
   ]
  },
  {
   "cell_type": "code",
   "execution_count": null,
   "id": "55d18265",
   "metadata": {},
   "outputs": [],
   "source": [
    "mtx_subset  <- ref_wherry_new$matrix[,ref_wherry_new$labels %in% c(subset1,subset2)]"
   ]
  },
  {
   "cell_type": "code",
   "execution_count": null,
   "id": "654884e4",
   "metadata": {},
   "outputs": [],
   "source": [
    "dim(ref_wherry_new$matrix)"
   ]
  },
  {
   "cell_type": "code",
   "execution_count": null,
   "id": "e73ebfb5",
   "metadata": {},
   "outputs": [],
   "source": [
    "dim(mtx_subset)"
   ]
  },
  {
   "cell_type": "code",
   "execution_count": null,
   "id": "b1d30ae3",
   "metadata": {},
   "outputs": [],
   "source": [
    "group  <- ref_wherry_new$labels[ref_wherry_new$labels %in% c(subset1,subset2)]"
   ]
  },
  {
   "cell_type": "code",
   "execution_count": null,
   "id": "1b1a6037",
   "metadata": {},
   "outputs": [],
   "source": [
    "group"
   ]
  },
  {
   "cell_type": "code",
   "execution_count": null,
   "id": "ebf23e93",
   "metadata": {},
   "outputs": [],
   "source": [
    "design <- model.matrix(~group)\n",
    "fit <- lmFit(mtx_subset, design)\n",
    "fit <- eBayes(fit)\n",
    "topTable(fit)"
   ]
  },
  {
   "cell_type": "code",
   "execution_count": null,
   "id": "5046209b",
   "metadata": {
    "scrolled": true
   },
   "outputs": [],
   "source": [
    "topTable(fit, number = 50000)"
   ]
  },
  {
   "cell_type": "code",
   "execution_count": null,
   "id": "2bff9b04",
   "metadata": {},
   "outputs": [],
   "source": []
  },
  {
   "cell_type": "code",
   "execution_count": null,
   "id": "f4ad8391",
   "metadata": {},
   "outputs": [],
   "source": [
    "signatures  <- topTable(fit, number = 50000)  %>%\n",
    "transmute(source = paste(subset1,\"vs.\",subset2),\n",
    "          target = ID,\n",
    "          mor = logFC)"
   ]
  },
  {
   "cell_type": "code",
   "execution_count": null,
   "id": "68885a51",
   "metadata": {
    "scrolled": true
   },
   "outputs": [],
   "source": [
    "signatures$target  %>% duplicated  %>% table"
   ]
  },
  {
   "cell_type": "code",
   "execution_count": null,
   "id": "5fce1d79",
   "metadata": {},
   "outputs": [],
   "source": [
    "target_dupl  <- signatures$target  %>% duplicated"
   ]
  },
  {
   "cell_type": "code",
   "execution_count": null,
   "id": "71182083",
   "metadata": {
    "scrolled": true
   },
   "outputs": [],
   "source": [
    "signatures  %>% dplyr::filter(target_dupl)"
   ]
  },
  {
   "cell_type": "code",
   "execution_count": null,
   "id": "ed5aafd6",
   "metadata": {},
   "outputs": [],
   "source": [
    "signatures  %>% dplyr::filter(!target_dupl)"
   ]
  },
  {
   "cell_type": "code",
   "execution_count": null,
   "id": "7b26a553",
   "metadata": {},
   "outputs": [],
   "source": [
    "X = cd8_counts"
   ]
  },
  {
   "cell_type": "code",
   "execution_count": null,
   "id": "7aa98a76",
   "metadata": {},
   "outputs": [],
   "source": [
    "res_decouple <- decoupleR::decouple(mat = cd8_counts, statistics = \"ulm\",\n",
    "                                    signatures  %>% dplyr::filter(!target_dupl), \n",
    "                                    .source ='source', \n",
    "                                    .target ='target',\n",
    "                                    \n",
    "                                    minsize = 0)"
   ]
  },
  {
   "cell_type": "code",
   "execution_count": null,
   "id": "f01ebf8d",
   "metadata": {},
   "outputs": [],
   "source": [
    "md_cd8"
   ]
  },
  {
   "cell_type": "code",
   "execution_count": null,
   "id": "4bc157a0",
   "metadata": {},
   "outputs": [],
   "source": [
    "res_decouple2  <- res_decouple  %>% left_join(md_cd8  %>% rownames_to_column(\"condition\"))"
   ]
  },
  {
   "cell_type": "code",
   "execution_count": null,
   "id": "61c2ed70",
   "metadata": {},
   "outputs": [],
   "source": [
    "res_decouple2"
   ]
  },
  {
   "cell_type": "code",
   "execution_count": null,
   "id": "e601d2ab",
   "metadata": {
    "scrolled": true
   },
   "outputs": [],
   "source": [
    "res_decouple2  %>% \n",
    "dplyr::filter(statistic == 'ulm')  %>% \n",
    "    ggplot(aes(x = Condition, y = score)) +\n",
    "    geom_boxplot(outlier.shape = NA) +\n",
    "    geom_jitter() +\n",
    "    ggtheme() +\n",
    "    #ggtitle(rownames(gsva.es)[i]) +\n",
    "    ggpubr::stat_compare_means(label = \"p.format\", comparisons = list(c(1,2))) +\n",
    "ggtitle(paste(subset1,\"vs.\",subset2))\n",
    "    "
   ]
  },
  {
   "cell_type": "markdown",
   "id": "7667d339",
   "metadata": {},
   "source": [
    "### Contrast for X vs Y"
   ]
  },
  {
   "cell_type": "code",
   "execution_count": null,
   "id": "7ed2605b",
   "metadata": {},
   "outputs": [],
   "source": [
    "ref_wherry_new$labels"
   ]
  },
  {
   "cell_type": "code",
   "execution_count": null,
   "id": "4186d204",
   "metadata": {},
   "outputs": [],
   "source": [
    "subset1 = \"CD8_Naive\"\n",
    "subset2 = \"CD8_PD1+CD39+\"\n"
   ]
  },
  {
   "cell_type": "code",
   "execution_count": null,
   "id": "07a0d389",
   "metadata": {},
   "outputs": [],
   "source": [
    "mtx_subset  <- ref_wherry_new$matrix[,ref_wherry_new$labels %in% c(subset1,subset2)]"
   ]
  },
  {
   "cell_type": "code",
   "execution_count": null,
   "id": "886fff06",
   "metadata": {},
   "outputs": [],
   "source": [
    "dim(ref_wherry_new$matrix)"
   ]
  },
  {
   "cell_type": "code",
   "execution_count": null,
   "id": "e211c604",
   "metadata": {},
   "outputs": [],
   "source": [
    "dim(mtx_subset)"
   ]
  },
  {
   "cell_type": "code",
   "execution_count": null,
   "id": "b3713a0c",
   "metadata": {},
   "outputs": [],
   "source": [
    "group  <- ref_wherry_new$labels[ref_wherry_new$labels %in% c(subset1,subset2)]"
   ]
  },
  {
   "cell_type": "code",
   "execution_count": null,
   "id": "2c67ff26",
   "metadata": {},
   "outputs": [],
   "source": [
    "group"
   ]
  },
  {
   "cell_type": "code",
   "execution_count": null,
   "id": "53abfd05",
   "metadata": {},
   "outputs": [],
   "source": [
    "design <- model.matrix(~group)\n",
    "fit <- lmFit(mtx_subset, design)\n",
    "fit <- eBayes(fit)\n",
    "topTable(fit)"
   ]
  },
  {
   "cell_type": "code",
   "execution_count": null,
   "id": "785a1d72",
   "metadata": {
    "scrolled": true
   },
   "outputs": [],
   "source": [
    "topTable(fit, number = 50000)"
   ]
  },
  {
   "cell_type": "code",
   "execution_count": null,
   "id": "c5bba6de",
   "metadata": {},
   "outputs": [],
   "source": []
  },
  {
   "cell_type": "code",
   "execution_count": null,
   "id": "ac0340e3",
   "metadata": {},
   "outputs": [],
   "source": [
    "signatures  <- topTable(fit, number = 50000)  %>%\n",
    "transmute(source = paste(subset1,\"vs.\",subset2),\n",
    "          target = ID,\n",
    "          mor = logFC)"
   ]
  },
  {
   "cell_type": "code",
   "execution_count": null,
   "id": "433a8fdf",
   "metadata": {
    "scrolled": true
   },
   "outputs": [],
   "source": [
    "signatures$target  %>% duplicated  %>% table"
   ]
  },
  {
   "cell_type": "code",
   "execution_count": null,
   "id": "f01ac11e",
   "metadata": {},
   "outputs": [],
   "source": [
    "target_dupl  <- signatures$target  %>% duplicated"
   ]
  },
  {
   "cell_type": "code",
   "execution_count": null,
   "id": "41b90fac",
   "metadata": {
    "scrolled": true
   },
   "outputs": [],
   "source": [
    "signatures  %>% dplyr::filter(target_dupl)"
   ]
  },
  {
   "cell_type": "code",
   "execution_count": null,
   "id": "0316007d",
   "metadata": {},
   "outputs": [],
   "source": [
    "signatures  %>% dplyr::filter(!target_dupl)"
   ]
  },
  {
   "cell_type": "code",
   "execution_count": null,
   "id": "3f5838cf",
   "metadata": {},
   "outputs": [],
   "source": [
    "X = cd8_counts"
   ]
  },
  {
   "cell_type": "code",
   "execution_count": null,
   "id": "cce994b1",
   "metadata": {},
   "outputs": [],
   "source": [
    "res_decouple <- decoupleR::decouple(mat = cd8_counts, statistics = \"ulm\",\n",
    "                                    signatures  %>% dplyr::filter(!target_dupl), \n",
    "                                    .source ='source', \n",
    "                                    .target ='target',\n",
    "                                    \n",
    "                                    minsize = 0)"
   ]
  },
  {
   "cell_type": "code",
   "execution_count": null,
   "id": "39cd0b50",
   "metadata": {},
   "outputs": [],
   "source": [
    "md_cd8"
   ]
  },
  {
   "cell_type": "code",
   "execution_count": null,
   "id": "2ca0c0b7",
   "metadata": {},
   "outputs": [],
   "source": [
    "res_decouple2  <- res_decouple  %>% left_join(md_cd8  %>% rownames_to_column(\"condition\"))"
   ]
  },
  {
   "cell_type": "code",
   "execution_count": null,
   "id": "824923a5",
   "metadata": {},
   "outputs": [],
   "source": [
    "res_decouple2"
   ]
  },
  {
   "cell_type": "code",
   "execution_count": null,
   "id": "d2702c23",
   "metadata": {
    "scrolled": true
   },
   "outputs": [],
   "source": [
    "res_decouple2  %>% \n",
    "dplyr::filter(statistic == 'ulm')  %>% \n",
    "    ggplot(aes(x = Condition, y = score)) +\n",
    "    geom_boxplot(outlier.shape = NA) +\n",
    "    geom_jitter() +\n",
    "    ggtheme() +\n",
    "    #ggtitle(rownames(gsva.es)[i]) +\n",
    "    ggpubr::stat_compare_means(label = \"p.format\", comparisons = list(c(1,2))) +\n",
    "ggtitle(paste(subset1,\"vs.\",subset2))\n",
    "    "
   ]
  },
  {
   "cell_type": "code",
   "execution_count": null,
   "id": "87bdff52",
   "metadata": {},
   "outputs": [],
   "source": []
  },
  {
   "cell_type": "markdown",
   "id": "950514e2",
   "metadata": {},
   "source": [
    "### Contrast for X vs Y"
   ]
  },
  {
   "cell_type": "code",
   "execution_count": null,
   "id": "293ae643",
   "metadata": {},
   "outputs": [],
   "source": [
    "ref_wherry_new$labels"
   ]
  },
  {
   "cell_type": "code",
   "execution_count": null,
   "id": "e0fdcc0b",
   "metadata": {},
   "outputs": [],
   "source": [
    "subset1 = \"CD8_Naive\"\n",
    "subset2 = \"CD8_SCM-R3+\"\n"
   ]
  },
  {
   "cell_type": "code",
   "execution_count": null,
   "id": "59b2c99c",
   "metadata": {},
   "outputs": [],
   "source": [
    "mtx_subset  <- ref_wherry_new$matrix[,ref_wherry_new$labels %in% c(subset1,subset2)]"
   ]
  },
  {
   "cell_type": "code",
   "execution_count": null,
   "id": "7e0a2d34",
   "metadata": {},
   "outputs": [],
   "source": [
    "dim(ref_wherry_new$matrix)"
   ]
  },
  {
   "cell_type": "code",
   "execution_count": null,
   "id": "e25692e5",
   "metadata": {},
   "outputs": [],
   "source": [
    "dim(mtx_subset)"
   ]
  },
  {
   "cell_type": "code",
   "execution_count": null,
   "id": "a7599514",
   "metadata": {},
   "outputs": [],
   "source": [
    "group  <- ref_wherry_new$labels[ref_wherry_new$labels %in% c(subset1,subset2)]"
   ]
  },
  {
   "cell_type": "code",
   "execution_count": null,
   "id": "ebbb8416",
   "metadata": {},
   "outputs": [],
   "source": [
    "group"
   ]
  },
  {
   "cell_type": "code",
   "execution_count": null,
   "id": "613d9675",
   "metadata": {},
   "outputs": [],
   "source": [
    "design <- model.matrix(~group)\n",
    "fit <- lmFit(mtx_subset, design)\n",
    "fit <- eBayes(fit)\n",
    "topTable(fit)"
   ]
  },
  {
   "cell_type": "code",
   "execution_count": null,
   "id": "6d497a69",
   "metadata": {
    "scrolled": true
   },
   "outputs": [],
   "source": [
    "topTable(fit, number = 50000)"
   ]
  },
  {
   "cell_type": "code",
   "execution_count": null,
   "id": "714fca5d",
   "metadata": {},
   "outputs": [],
   "source": []
  },
  {
   "cell_type": "code",
   "execution_count": null,
   "id": "44935276",
   "metadata": {},
   "outputs": [],
   "source": [
    "signatures  <- topTable(fit, number = 50000)  %>%\n",
    "transmute(source = paste(subset1,\"vs.\",subset2),\n",
    "          target = ID,\n",
    "          mor = logFC)"
   ]
  },
  {
   "cell_type": "code",
   "execution_count": null,
   "id": "db12b62c",
   "metadata": {
    "scrolled": true
   },
   "outputs": [],
   "source": [
    "signatures$target  %>% duplicated  %>% table"
   ]
  },
  {
   "cell_type": "code",
   "execution_count": null,
   "id": "9919a8a5",
   "metadata": {},
   "outputs": [],
   "source": [
    "target_dupl  <- signatures$target  %>% duplicated"
   ]
  },
  {
   "cell_type": "code",
   "execution_count": null,
   "id": "c184330b",
   "metadata": {
    "scrolled": true
   },
   "outputs": [],
   "source": [
    "signatures  %>% dplyr::filter(target_dupl)"
   ]
  },
  {
   "cell_type": "code",
   "execution_count": null,
   "id": "7742b4cb",
   "metadata": {},
   "outputs": [],
   "source": [
    "signatures  %>% dplyr::filter(!target_dupl)"
   ]
  },
  {
   "cell_type": "code",
   "execution_count": null,
   "id": "934ba534",
   "metadata": {},
   "outputs": [],
   "source": [
    "X = cd8_counts"
   ]
  },
  {
   "cell_type": "code",
   "execution_count": null,
   "id": "65e5203d",
   "metadata": {},
   "outputs": [],
   "source": [
    "res_decouple <- decoupleR::decouple(mat = cd8_counts, statistics = \"ulm\",\n",
    "                                    signatures  %>% dplyr::filter(!target_dupl), \n",
    "                                    .source ='source', \n",
    "                                    .target ='target',\n",
    "                                    \n",
    "                                    minsize = 0)"
   ]
  },
  {
   "cell_type": "code",
   "execution_count": null,
   "id": "bc83a8e0",
   "metadata": {},
   "outputs": [],
   "source": [
    "md_cd8"
   ]
  },
  {
   "cell_type": "code",
   "execution_count": null,
   "id": "6441d579",
   "metadata": {},
   "outputs": [],
   "source": [
    "res_decouple2  <- res_decouple  %>% left_join(md_cd8  %>% rownames_to_column(\"condition\"))"
   ]
  },
  {
   "cell_type": "code",
   "execution_count": null,
   "id": "7d6ae190",
   "metadata": {},
   "outputs": [],
   "source": [
    "res_decouple2"
   ]
  },
  {
   "cell_type": "code",
   "execution_count": null,
   "id": "0596379c",
   "metadata": {},
   "outputs": [],
   "source": [
    "res_decouple2  %>% \n",
    "dplyr::filter(statistic == 'ulm')  %>% \n",
    "    ggplot(aes(x = Condition, y = score)) +\n",
    "    geom_boxplot(outlier.shape = NA) +\n",
    "    geom_jitter() +\n",
    "    ggtheme() +\n",
    "    #ggtitle(rownames(gsva.es)[i]) +\n",
    "    ggpubr::stat_compare_means(label = \"p.format\", comparisons = list(c(1,2))) +\n",
    "ggtitle(paste(subset1,\"vs.\",subset2))\n",
    "    "
   ]
  },
  {
   "cell_type": "markdown",
   "id": "f65e47f7",
   "metadata": {},
   "source": [
    "## CD4"
   ]
  },
  {
   "cell_type": "code",
   "execution_count": null,
   "id": "ca275b57",
   "metadata": {},
   "outputs": [],
   "source": []
  },
  {
   "cell_type": "markdown",
   "id": "8b04e671",
   "metadata": {},
   "source": [
    "### Contrast for X vs Y"
   ]
  },
  {
   "cell_type": "code",
   "execution_count": null,
   "id": "ca58b4d4",
   "metadata": {},
   "outputs": [],
   "source": [
    "subset1 = \"CD8_Naive\"\n",
    "subset2 = \"CD8_EM1\"\n"
   ]
  },
  {
   "cell_type": "code",
   "execution_count": null,
   "id": "4da8e081",
   "metadata": {},
   "outputs": [],
   "source": [
    "mtx_subset  <- ref_wherry_new$matrix[,ref_wherry_new$labels %in% c(subset1,subset2)]"
   ]
  },
  {
   "cell_type": "code",
   "execution_count": null,
   "id": "464078c9",
   "metadata": {},
   "outputs": [],
   "source": [
    "dim(ref_wherry_new$matrix)"
   ]
  },
  {
   "cell_type": "code",
   "execution_count": null,
   "id": "b7d6eec4",
   "metadata": {},
   "outputs": [],
   "source": [
    "dim(mtx_subset)"
   ]
  },
  {
   "cell_type": "code",
   "execution_count": null,
   "id": "d523bd49",
   "metadata": {},
   "outputs": [],
   "source": [
    "group  <- ref_wherry_new$labels[ref_wherry_new$labels %in% c(subset1,subset2)]"
   ]
  },
  {
   "cell_type": "code",
   "execution_count": null,
   "id": "0f5fcd6f",
   "metadata": {},
   "outputs": [],
   "source": [
    "group"
   ]
  },
  {
   "cell_type": "code",
   "execution_count": null,
   "id": "e8f2a00b",
   "metadata": {},
   "outputs": [],
   "source": [
    "design <- model.matrix(~group)\n",
    "fit <- lmFit(mtx_subset, design)\n",
    "fit <- eBayes(fit)\n",
    "topTable(fit)"
   ]
  },
  {
   "cell_type": "code",
   "execution_count": null,
   "id": "579db039",
   "metadata": {
    "scrolled": true
   },
   "outputs": [],
   "source": [
    "topTable(fit, number = 50000)"
   ]
  },
  {
   "cell_type": "code",
   "execution_count": null,
   "id": "cb9c3f0c",
   "metadata": {},
   "outputs": [],
   "source": []
  },
  {
   "cell_type": "code",
   "execution_count": null,
   "id": "719f72a5",
   "metadata": {},
   "outputs": [],
   "source": [
    "signatures  <- topTable(fit, number = 50000)  %>%\n",
    "transmute(source = paste(subset1,\"vs.\",subset2),\n",
    "          target = ID,\n",
    "          mor = logFC)"
   ]
  },
  {
   "cell_type": "code",
   "execution_count": null,
   "id": "deef247e",
   "metadata": {
    "scrolled": true
   },
   "outputs": [],
   "source": [
    "signatures$target  %>% duplicated  %>% table"
   ]
  },
  {
   "cell_type": "code",
   "execution_count": null,
   "id": "f0eae288",
   "metadata": {},
   "outputs": [],
   "source": [
    "target_dupl  <- signatures$target  %>% duplicated"
   ]
  },
  {
   "cell_type": "code",
   "execution_count": null,
   "id": "a3ae55b6",
   "metadata": {
    "scrolled": true
   },
   "outputs": [],
   "source": [
    "signatures  %>% dplyr::filter(target_dupl)"
   ]
  },
  {
   "cell_type": "code",
   "execution_count": null,
   "id": "8534d830",
   "metadata": {},
   "outputs": [],
   "source": [
    "signatures  %>% dplyr::filter(!target_dupl)"
   ]
  },
  {
   "cell_type": "code",
   "execution_count": null,
   "id": "da69a11f",
   "metadata": {},
   "outputs": [],
   "source": [
    "res_decouple <- decoupleR::decouple(mat = cd4_counts, statistics = \"ulm\",\n",
    "                                    signatures  %>% dplyr::filter(!target_dupl), \n",
    "                                    .source ='source', \n",
    "                                    .target ='target',\n",
    "                                    \n",
    "                                    minsize = 0)"
   ]
  },
  {
   "cell_type": "code",
   "execution_count": null,
   "id": "d2b2987f",
   "metadata": {},
   "outputs": [],
   "source": [
    "md_cd4"
   ]
  },
  {
   "cell_type": "code",
   "execution_count": null,
   "id": "7602afe1",
   "metadata": {},
   "outputs": [],
   "source": [
    "res_decouple2  <- res_decouple  %>% left_join(md_cd4  %>% rownames_to_column(\"condition\"))"
   ]
  },
  {
   "cell_type": "code",
   "execution_count": null,
   "id": "c8f05a34",
   "metadata": {},
   "outputs": [],
   "source": [
    "res_decouple2"
   ]
  },
  {
   "cell_type": "code",
   "execution_count": null,
   "id": "b605490a",
   "metadata": {},
   "outputs": [],
   "source": [
    "res_decouple2  %>% \n",
    "dplyr::filter(statistic == 'ulm')  %>% \n",
    "    ggplot(aes(x = Condition, y = score)) +\n",
    "    geom_boxplot(outlier.shape = NA) +\n",
    "    geom_jitter() +\n",
    "    ggtheme() +\n",
    "    #ggtitle(rownames(gsva.es)[i]) +\n",
    "    ggpubr::stat_compare_means(label = \"p.format\", comparisons = list(c(1,2))) +\n",
    "ggtitle(paste(subset1,\"vs.\",subset2))\n",
    "    "
   ]
  },
  {
   "cell_type": "markdown",
   "id": "fb379a83",
   "metadata": {},
   "source": [
    "### Contrast for X vs Y"
   ]
  },
  {
   "cell_type": "code",
   "execution_count": null,
   "id": "7184e4e5",
   "metadata": {},
   "outputs": [],
   "source": [
    "subset1 = \"CD8_Naive\"\n",
    "subset2 = \"CD8_EM2\"\n"
   ]
  },
  {
   "cell_type": "code",
   "execution_count": null,
   "id": "c63e6894",
   "metadata": {},
   "outputs": [],
   "source": [
    "mtx_subset  <- ref_wherry_new$matrix[,ref_wherry_new$labels %in% c(subset1,subset2)]"
   ]
  },
  {
   "cell_type": "code",
   "execution_count": null,
   "id": "08472b73",
   "metadata": {},
   "outputs": [],
   "source": [
    "dim(ref_wherry_new$matrix)"
   ]
  },
  {
   "cell_type": "code",
   "execution_count": null,
   "id": "5501a568",
   "metadata": {},
   "outputs": [],
   "source": [
    "dim(mtx_subset)"
   ]
  },
  {
   "cell_type": "code",
   "execution_count": null,
   "id": "6d92f83f",
   "metadata": {},
   "outputs": [],
   "source": [
    "group  <- ref_wherry_new$labels[ref_wherry_new$labels %in% c(subset1,subset2)]"
   ]
  },
  {
   "cell_type": "code",
   "execution_count": null,
   "id": "76b62131",
   "metadata": {},
   "outputs": [],
   "source": [
    "group"
   ]
  },
  {
   "cell_type": "code",
   "execution_count": null,
   "id": "1ddbd905",
   "metadata": {},
   "outputs": [],
   "source": [
    "design <- model.matrix(~group)\n",
    "fit <- lmFit(mtx_subset, design)\n",
    "fit <- eBayes(fit)\n",
    "topTable(fit)"
   ]
  },
  {
   "cell_type": "code",
   "execution_count": null,
   "id": "77f76672",
   "metadata": {
    "scrolled": true
   },
   "outputs": [],
   "source": [
    "topTable(fit, number = 50000)"
   ]
  },
  {
   "cell_type": "code",
   "execution_count": null,
   "id": "7cb14116",
   "metadata": {},
   "outputs": [],
   "source": []
  },
  {
   "cell_type": "code",
   "execution_count": null,
   "id": "a98a8a29",
   "metadata": {},
   "outputs": [],
   "source": [
    "signatures  <- topTable(fit, number = 50000)  %>%\n",
    "transmute(source = paste(subset1,\"vs.\",subset2),\n",
    "          target = ID,\n",
    "          mor = logFC)"
   ]
  },
  {
   "cell_type": "code",
   "execution_count": null,
   "id": "50fe8e90",
   "metadata": {
    "scrolled": true
   },
   "outputs": [],
   "source": [
    "signatures$target  %>% duplicated  %>% table"
   ]
  },
  {
   "cell_type": "code",
   "execution_count": null,
   "id": "e3b77376",
   "metadata": {},
   "outputs": [],
   "source": [
    "target_dupl  <- signatures$target  %>% duplicated"
   ]
  },
  {
   "cell_type": "code",
   "execution_count": null,
   "id": "297fc16b",
   "metadata": {
    "scrolled": true
   },
   "outputs": [],
   "source": [
    "signatures  %>% dplyr::filter(target_dupl)"
   ]
  },
  {
   "cell_type": "code",
   "execution_count": null,
   "id": "02465cfc",
   "metadata": {},
   "outputs": [],
   "source": [
    "signatures  %>% dplyr::filter(!target_dupl)"
   ]
  },
  {
   "cell_type": "code",
   "execution_count": null,
   "id": "3c0e0aa4",
   "metadata": {},
   "outputs": [],
   "source": [
    "X = cd4_counts"
   ]
  },
  {
   "cell_type": "code",
   "execution_count": null,
   "id": "17d19b5d",
   "metadata": {},
   "outputs": [],
   "source": [
    "res_decouple <- decoupleR::decouple(mat = cd4_counts, statistics = \"ulm\",\n",
    "                                    signatures  %>% dplyr::filter(!target_dupl), \n",
    "                                    .source ='source', \n",
    "                                    .target ='target',\n",
    "                                    \n",
    "                                    minsize = 0)"
   ]
  },
  {
   "cell_type": "code",
   "execution_count": null,
   "id": "c94f30d9",
   "metadata": {},
   "outputs": [],
   "source": [
    "md_cd4"
   ]
  },
  {
   "cell_type": "code",
   "execution_count": null,
   "id": "5e2d92b1",
   "metadata": {},
   "outputs": [],
   "source": [
    "res_decouple2  <- res_decouple  %>% left_join(md_cd4  %>% rownames_to_column(\"condition\"))"
   ]
  },
  {
   "cell_type": "code",
   "execution_count": null,
   "id": "083d23e8",
   "metadata": {},
   "outputs": [],
   "source": [
    "res_decouple2"
   ]
  },
  {
   "cell_type": "code",
   "execution_count": null,
   "id": "c6af6ea8",
   "metadata": {},
   "outputs": [],
   "source": [
    "res_decouple2  %>% \n",
    "dplyr::filter(statistic == 'ulm')  %>% \n",
    "    ggplot(aes(x = Condition, y = score)) +\n",
    "    geom_boxplot(outlier.shape = NA) +\n",
    "    geom_jitter() +\n",
    "    ggtheme() +\n",
    "    #ggtitle(rownames(gsva.es)[i]) +\n",
    "    ggpubr::stat_compare_means(label = \"p.format\", comparisons = list(c(1,2))) +\n",
    "ggtitle(paste(subset1,\"vs.\",subset2))\n",
    "    "
   ]
  },
  {
   "cell_type": "markdown",
   "id": "840b817b",
   "metadata": {},
   "source": [
    "### Contrast for X vs Y"
   ]
  },
  {
   "cell_type": "code",
   "execution_count": null,
   "id": "d5bfefdd",
   "metadata": {},
   "outputs": [],
   "source": [
    "ref_wherry_new$labels"
   ]
  },
  {
   "cell_type": "code",
   "execution_count": null,
   "id": "d83ce432",
   "metadata": {},
   "outputs": [],
   "source": [
    "subset1 = \"CD8_Naive\"\n",
    "subset2 = \"CD8_EMRA\"\n"
   ]
  },
  {
   "cell_type": "code",
   "execution_count": null,
   "id": "9362bc31",
   "metadata": {},
   "outputs": [],
   "source": [
    "mtx_subset  <- ref_wherry_new$matrix[,ref_wherry_new$labels %in% c(subset1,subset2)]"
   ]
  },
  {
   "cell_type": "code",
   "execution_count": null,
   "id": "83426358",
   "metadata": {},
   "outputs": [],
   "source": [
    "dim(ref_wherry_new$matrix)"
   ]
  },
  {
   "cell_type": "code",
   "execution_count": null,
   "id": "1c5b63bc",
   "metadata": {},
   "outputs": [],
   "source": [
    "dim(mtx_subset)"
   ]
  },
  {
   "cell_type": "code",
   "execution_count": null,
   "id": "ceb604e3",
   "metadata": {},
   "outputs": [],
   "source": [
    "group  <- ref_wherry_new$labels[ref_wherry_new$labels %in% c(subset1,subset2)]"
   ]
  },
  {
   "cell_type": "code",
   "execution_count": null,
   "id": "4dcb82bc",
   "metadata": {},
   "outputs": [],
   "source": [
    "group"
   ]
  },
  {
   "cell_type": "code",
   "execution_count": null,
   "id": "64536f6e",
   "metadata": {},
   "outputs": [],
   "source": [
    "design <- model.matrix(~group)\n",
    "fit <- lmFit(mtx_subset, design)\n",
    "fit <- eBayes(fit)\n",
    "topTable(fit)"
   ]
  },
  {
   "cell_type": "code",
   "execution_count": null,
   "id": "98fbf88b",
   "metadata": {
    "scrolled": true
   },
   "outputs": [],
   "source": [
    "topTable(fit, number = 50000)"
   ]
  },
  {
   "cell_type": "code",
   "execution_count": null,
   "id": "29d875d6",
   "metadata": {},
   "outputs": [],
   "source": []
  },
  {
   "cell_type": "code",
   "execution_count": null,
   "id": "6e758276",
   "metadata": {},
   "outputs": [],
   "source": [
    "signatures  <- topTable(fit, number = 50000)  %>%\n",
    "transmute(source = paste(subset1,\"vs.\",subset2),\n",
    "          target = ID,\n",
    "          mor = logFC)"
   ]
  },
  {
   "cell_type": "code",
   "execution_count": null,
   "id": "b68dbf02",
   "metadata": {
    "scrolled": true
   },
   "outputs": [],
   "source": [
    "signatures$target  %>% duplicated  %>% table"
   ]
  },
  {
   "cell_type": "code",
   "execution_count": null,
   "id": "e1744c26",
   "metadata": {},
   "outputs": [],
   "source": [
    "target_dupl  <- signatures$target  %>% duplicated"
   ]
  },
  {
   "cell_type": "code",
   "execution_count": null,
   "id": "461602f5",
   "metadata": {
    "scrolled": true
   },
   "outputs": [],
   "source": [
    "signatures  %>% dplyr::filter(target_dupl)"
   ]
  },
  {
   "cell_type": "code",
   "execution_count": null,
   "id": "36abac02",
   "metadata": {},
   "outputs": [],
   "source": [
    "signatures  %>% dplyr::filter(!target_dupl)"
   ]
  },
  {
   "cell_type": "code",
   "execution_count": null,
   "id": "b910aa83",
   "metadata": {},
   "outputs": [],
   "source": [
    "X = cd4_counts"
   ]
  },
  {
   "cell_type": "code",
   "execution_count": null,
   "id": "91ccb0cc",
   "metadata": {},
   "outputs": [],
   "source": [
    "res_decouple <- decoupleR::decouple(mat = cd4_counts, statistics = \"ulm\",\n",
    "                                    signatures  %>% dplyr::filter(!target_dupl), \n",
    "                                    .source ='source', \n",
    "                                    .target ='target',\n",
    "                                    \n",
    "                                    minsize = 0)"
   ]
  },
  {
   "cell_type": "code",
   "execution_count": null,
   "id": "7d0fffc6",
   "metadata": {},
   "outputs": [],
   "source": [
    "md_cd4"
   ]
  },
  {
   "cell_type": "code",
   "execution_count": null,
   "id": "fdabc2b2",
   "metadata": {},
   "outputs": [],
   "source": [
    "res_decouple2  <- res_decouple  %>% left_join(md_cd4  %>% rownames_to_column(\"condition\"))"
   ]
  },
  {
   "cell_type": "code",
   "execution_count": null,
   "id": "1592372c",
   "metadata": {},
   "outputs": [],
   "source": [
    "res_decouple2"
   ]
  },
  {
   "cell_type": "code",
   "execution_count": null,
   "id": "3ad9c4e5",
   "metadata": {},
   "outputs": [],
   "source": [
    "res_decouple2  %>% \n",
    "dplyr::filter(statistic == 'ulm')  %>% \n",
    "    ggplot(aes(x = Condition, y = score)) +\n",
    "    geom_boxplot(outlier.shape = NA) +\n",
    "    geom_jitter() +\n",
    "    ggtheme() +\n",
    "    #ggtitle(rownames(gsva.es)[i]) +\n",
    "    ggpubr::stat_compare_means(label = \"p.format\", comparisons = list(c(1,2))) +\n",
    "ggtitle(paste(subset1,\"vs.\",subset2))\n",
    "    "
   ]
  },
  {
   "cell_type": "markdown",
   "id": "c3ce9c0b",
   "metadata": {},
   "source": [
    "### Contrast for X vs Y"
   ]
  },
  {
   "cell_type": "code",
   "execution_count": null,
   "id": "3faf1745",
   "metadata": {},
   "outputs": [],
   "source": [
    "subset1 = \"CD8_Naive\"\n",
    "subset2 = \"CD8_CM\"\n"
   ]
  },
  {
   "cell_type": "code",
   "execution_count": null,
   "id": "b73b4a6a",
   "metadata": {},
   "outputs": [],
   "source": [
    "mtx_subset  <- ref_wherry_new$matrix[,ref_wherry_new$labels %in% c(subset1,subset2)]"
   ]
  },
  {
   "cell_type": "code",
   "execution_count": null,
   "id": "cfe29b82",
   "metadata": {},
   "outputs": [],
   "source": [
    "dim(ref_wherry_new$matrix)"
   ]
  },
  {
   "cell_type": "code",
   "execution_count": null,
   "id": "29fab0a4",
   "metadata": {},
   "outputs": [],
   "source": [
    "dim(mtx_subset)"
   ]
  },
  {
   "cell_type": "code",
   "execution_count": null,
   "id": "6f9be5c0",
   "metadata": {},
   "outputs": [],
   "source": [
    "group  <- ref_wherry_new$labels[ref_wherry_new$labels %in% c(subset1,subset2)]"
   ]
  },
  {
   "cell_type": "code",
   "execution_count": null,
   "id": "1eee928d",
   "metadata": {},
   "outputs": [],
   "source": [
    "group"
   ]
  },
  {
   "cell_type": "code",
   "execution_count": null,
   "id": "8c55fd1f",
   "metadata": {},
   "outputs": [],
   "source": [
    "design <- model.matrix(~group)\n",
    "fit <- lmFit(mtx_subset, design)\n",
    "fit <- eBayes(fit)\n",
    "topTable(fit)"
   ]
  },
  {
   "cell_type": "code",
   "execution_count": null,
   "id": "9a13056e",
   "metadata": {
    "scrolled": true
   },
   "outputs": [],
   "source": [
    "topTable(fit, number = 50000)"
   ]
  },
  {
   "cell_type": "code",
   "execution_count": null,
   "id": "6b1e5f48",
   "metadata": {},
   "outputs": [],
   "source": []
  },
  {
   "cell_type": "code",
   "execution_count": null,
   "id": "9226ac08",
   "metadata": {},
   "outputs": [],
   "source": [
    "signatures  <- topTable(fit, number = 50000)  %>%\n",
    "transmute(source = paste(subset1,\"vs.\",subset2),\n",
    "          target = ID,\n",
    "          mor = logFC)"
   ]
  },
  {
   "cell_type": "code",
   "execution_count": null,
   "id": "8b56323a",
   "metadata": {
    "scrolled": true
   },
   "outputs": [],
   "source": [
    "signatures$target  %>% duplicated  %>% table"
   ]
  },
  {
   "cell_type": "code",
   "execution_count": null,
   "id": "7255885a",
   "metadata": {},
   "outputs": [],
   "source": [
    "target_dupl  <- signatures$target  %>% duplicated"
   ]
  },
  {
   "cell_type": "code",
   "execution_count": null,
   "id": "ec4fa73f",
   "metadata": {
    "scrolled": true
   },
   "outputs": [],
   "source": [
    "signatures  %>% dplyr::filter(target_dupl)"
   ]
  },
  {
   "cell_type": "code",
   "execution_count": null,
   "id": "561b888b",
   "metadata": {},
   "outputs": [],
   "source": [
    "signatures  %>% dplyr::filter(!target_dupl)"
   ]
  },
  {
   "cell_type": "code",
   "execution_count": null,
   "id": "c488855e",
   "metadata": {},
   "outputs": [],
   "source": [
    "X = cd4_counts"
   ]
  },
  {
   "cell_type": "code",
   "execution_count": null,
   "id": "2863a949",
   "metadata": {},
   "outputs": [],
   "source": [
    "res_decouple <- decoupleR::decouple(mat = cd4_counts, statistics = \"ulm\",\n",
    "                                    signatures  %>% dplyr::filter(!target_dupl), \n",
    "                                    .source ='source', \n",
    "                                    .target ='target',\n",
    "                                    \n",
    "                                    minsize = 0)"
   ]
  },
  {
   "cell_type": "code",
   "execution_count": null,
   "id": "8b4c0d8b",
   "metadata": {},
   "outputs": [],
   "source": [
    "md_cd4"
   ]
  },
  {
   "cell_type": "code",
   "execution_count": null,
   "id": "348dfeb0",
   "metadata": {},
   "outputs": [],
   "source": [
    "res_decouple2  <- res_decouple  %>% left_join(md_cd4  %>% rownames_to_column(\"condition\"))"
   ]
  },
  {
   "cell_type": "code",
   "execution_count": null,
   "id": "7618e1f4",
   "metadata": {},
   "outputs": [],
   "source": [
    "res_decouple2"
   ]
  },
  {
   "cell_type": "code",
   "execution_count": null,
   "id": "2d2be407",
   "metadata": {},
   "outputs": [],
   "source": [
    "res_decouple2  %>% \n",
    "dplyr::filter(statistic == 'ulm')  %>% \n",
    "    ggplot(aes(x = Condition, y = score)) +\n",
    "    geom_boxplot(outlier.shape = NA) +\n",
    "    geom_jitter() +\n",
    "    ggtheme() +\n",
    "    #ggtitle(rownames(gsva.es)[i]) +\n",
    "    ggpubr::stat_compare_means(label = \"p.format\", comparisons = list(c(1,2))) +\n",
    "ggtitle(paste(subset1,\"vs.\",subset2))\n",
    "    "
   ]
  },
  {
   "cell_type": "markdown",
   "id": "29dd8625",
   "metadata": {},
   "source": [
    "### Contrast for X vs Y"
   ]
  },
  {
   "cell_type": "code",
   "execution_count": null,
   "id": "f3847dbb",
   "metadata": {},
   "outputs": [],
   "source": [
    "subset1 = \"CD8_Naive\"\n",
    "subset2 = \"CD8_SCM-R3-\"\n"
   ]
  },
  {
   "cell_type": "code",
   "execution_count": null,
   "id": "ebc15fc1",
   "metadata": {},
   "outputs": [],
   "source": [
    "mtx_subset  <- ref_wherry_new$matrix[,ref_wherry_new$labels %in% c(subset1,subset2)]"
   ]
  },
  {
   "cell_type": "code",
   "execution_count": null,
   "id": "33bb31de",
   "metadata": {},
   "outputs": [],
   "source": [
    "dim(ref_wherry_new$matrix)"
   ]
  },
  {
   "cell_type": "code",
   "execution_count": null,
   "id": "8d770e55",
   "metadata": {},
   "outputs": [],
   "source": [
    "dim(mtx_subset)"
   ]
  },
  {
   "cell_type": "code",
   "execution_count": null,
   "id": "e0500a80",
   "metadata": {},
   "outputs": [],
   "source": [
    "group  <- ref_wherry_new$labels[ref_wherry_new$labels %in% c(subset1,subset2)]"
   ]
  },
  {
   "cell_type": "code",
   "execution_count": null,
   "id": "32ede236",
   "metadata": {},
   "outputs": [],
   "source": [
    "group"
   ]
  },
  {
   "cell_type": "code",
   "execution_count": null,
   "id": "e9c43c1d",
   "metadata": {},
   "outputs": [],
   "source": [
    "design <- model.matrix(~group)\n",
    "fit <- lmFit(mtx_subset, design)\n",
    "fit <- eBayes(fit)\n",
    "topTable(fit)"
   ]
  },
  {
   "cell_type": "code",
   "execution_count": null,
   "id": "b6e88799",
   "metadata": {
    "scrolled": true
   },
   "outputs": [],
   "source": [
    "topTable(fit, number = 50000)"
   ]
  },
  {
   "cell_type": "code",
   "execution_count": null,
   "id": "585e025e",
   "metadata": {},
   "outputs": [],
   "source": []
  },
  {
   "cell_type": "code",
   "execution_count": null,
   "id": "a23cce84",
   "metadata": {},
   "outputs": [],
   "source": [
    "signatures  <- topTable(fit, number = 50000)  %>%\n",
    "transmute(source = paste(subset1,\"vs.\",subset2),\n",
    "          target = ID,\n",
    "          mor = logFC)"
   ]
  },
  {
   "cell_type": "code",
   "execution_count": null,
   "id": "ab37b6ac",
   "metadata": {
    "scrolled": true
   },
   "outputs": [],
   "source": [
    "signatures$target  %>% duplicated  %>% table"
   ]
  },
  {
   "cell_type": "code",
   "execution_count": null,
   "id": "8f09eb76",
   "metadata": {},
   "outputs": [],
   "source": [
    "target_dupl  <- signatures$target  %>% duplicated"
   ]
  },
  {
   "cell_type": "code",
   "execution_count": null,
   "id": "48fe4291",
   "metadata": {
    "scrolled": true
   },
   "outputs": [],
   "source": [
    "signatures  %>% dplyr::filter(target_dupl)"
   ]
  },
  {
   "cell_type": "code",
   "execution_count": null,
   "id": "99e9a21f",
   "metadata": {},
   "outputs": [],
   "source": [
    "signatures  %>% dplyr::filter(!target_dupl)"
   ]
  },
  {
   "cell_type": "code",
   "execution_count": null,
   "id": "e898f972",
   "metadata": {},
   "outputs": [],
   "source": [
    "X = cd4_counts"
   ]
  },
  {
   "cell_type": "code",
   "execution_count": null,
   "id": "8688a6e1",
   "metadata": {},
   "outputs": [],
   "source": [
    "res_decouple <- decoupleR::decouple(mat = cd4_counts, statistics = \"ulm\",\n",
    "                                    signatures  %>% dplyr::filter(!target_dupl), \n",
    "                                    .source ='source', \n",
    "                                    .target ='target',\n",
    "                                    \n",
    "                                    minsize = 0)"
   ]
  },
  {
   "cell_type": "code",
   "execution_count": null,
   "id": "1aa1c2c1",
   "metadata": {},
   "outputs": [],
   "source": [
    "md_cd4"
   ]
  },
  {
   "cell_type": "code",
   "execution_count": null,
   "id": "be3901ae",
   "metadata": {},
   "outputs": [],
   "source": [
    "res_decouple2  <- res_decouple  %>% left_join(md_cd4  %>% rownames_to_column(\"condition\"))"
   ]
  },
  {
   "cell_type": "code",
   "execution_count": null,
   "id": "3788a855",
   "metadata": {},
   "outputs": [],
   "source": [
    "res_decouple2"
   ]
  },
  {
   "cell_type": "code",
   "execution_count": null,
   "id": "184f3e2e",
   "metadata": {
    "scrolled": true
   },
   "outputs": [],
   "source": [
    "res_decouple2  %>% \n",
    "dplyr::filter(statistic == 'ulm')  %>% \n",
    "    ggplot(aes(x = Condition, y = score)) +\n",
    "    geom_boxplot(outlier.shape = NA) +\n",
    "    geom_jitter() +\n",
    "    ggtheme() +\n",
    "    #ggtitle(rownames(gsva.es)[i]) +\n",
    "    ggpubr::stat_compare_means(label = \"p.format\", comparisons = list(c(1,2))) +\n",
    "ggtitle(paste(subset1,\"vs.\",subset2))\n",
    "    "
   ]
  },
  {
   "cell_type": "markdown",
   "id": "fb1e2fe3",
   "metadata": {},
   "source": [
    "### Contrast for X vs Y"
   ]
  },
  {
   "cell_type": "code",
   "execution_count": null,
   "id": "58126f9b",
   "metadata": {},
   "outputs": [],
   "source": [
    "ref_wherry_new$labels"
   ]
  },
  {
   "cell_type": "code",
   "execution_count": null,
   "id": "56159571",
   "metadata": {},
   "outputs": [],
   "source": [
    "subset1 = \"CD8_Naive\"\n",
    "subset2 = \"CD8_SCM-R3+\"\n"
   ]
  },
  {
   "cell_type": "code",
   "execution_count": null,
   "id": "21d87738",
   "metadata": {},
   "outputs": [],
   "source": [
    "mtx_subset  <- ref_wherry_new$matrix[,ref_wherry_new$labels %in% c(subset1,subset2)]"
   ]
  },
  {
   "cell_type": "code",
   "execution_count": null,
   "id": "129c5d02",
   "metadata": {},
   "outputs": [],
   "source": [
    "dim(ref_wherry_new$matrix)"
   ]
  },
  {
   "cell_type": "code",
   "execution_count": null,
   "id": "9ee9cb48",
   "metadata": {},
   "outputs": [],
   "source": [
    "dim(mtx_subset)"
   ]
  },
  {
   "cell_type": "code",
   "execution_count": null,
   "id": "bc987b1b",
   "metadata": {},
   "outputs": [],
   "source": [
    "group  <- ref_wherry_new$labels[ref_wherry_new$labels %in% c(subset1,subset2)]"
   ]
  },
  {
   "cell_type": "code",
   "execution_count": null,
   "id": "d2d04f0e",
   "metadata": {},
   "outputs": [],
   "source": [
    "group"
   ]
  },
  {
   "cell_type": "code",
   "execution_count": null,
   "id": "b0af72d5",
   "metadata": {},
   "outputs": [],
   "source": [
    "design <- model.matrix(~group)\n",
    "fit <- lmFit(mtx_subset, design)\n",
    "fit <- eBayes(fit)\n",
    "topTable(fit)"
   ]
  },
  {
   "cell_type": "code",
   "execution_count": null,
   "id": "6873854a",
   "metadata": {
    "scrolled": true
   },
   "outputs": [],
   "source": [
    "topTable(fit, number = 50000)"
   ]
  },
  {
   "cell_type": "code",
   "execution_count": null,
   "id": "3c80a6eb",
   "metadata": {},
   "outputs": [],
   "source": []
  },
  {
   "cell_type": "code",
   "execution_count": null,
   "id": "da0fe72b",
   "metadata": {},
   "outputs": [],
   "source": [
    "signatures  <- topTable(fit, number = 50000)  %>%\n",
    "transmute(source = paste(subset1,\"vs.\",subset2),\n",
    "          target = ID,\n",
    "          mor = logFC)"
   ]
  },
  {
   "cell_type": "code",
   "execution_count": null,
   "id": "c8de397b",
   "metadata": {
    "scrolled": true
   },
   "outputs": [],
   "source": [
    "signatures$target  %>% duplicated  %>% table"
   ]
  },
  {
   "cell_type": "code",
   "execution_count": null,
   "id": "4577ef59",
   "metadata": {},
   "outputs": [],
   "source": [
    "target_dupl  <- signatures$target  %>% duplicated"
   ]
  },
  {
   "cell_type": "code",
   "execution_count": null,
   "id": "f3b5d0fd",
   "metadata": {
    "scrolled": true
   },
   "outputs": [],
   "source": [
    "signatures  %>% dplyr::filter(target_dupl)"
   ]
  },
  {
   "cell_type": "code",
   "execution_count": null,
   "id": "821b8991",
   "metadata": {},
   "outputs": [],
   "source": [
    "signatures  %>% dplyr::filter(!target_dupl)"
   ]
  },
  {
   "cell_type": "code",
   "execution_count": null,
   "id": "4493f5ca",
   "metadata": {},
   "outputs": [],
   "source": [
    "X = cd4_counts"
   ]
  },
  {
   "cell_type": "code",
   "execution_count": null,
   "id": "3d348b68",
   "metadata": {},
   "outputs": [],
   "source": [
    "res_decouple <- decoupleR::decouple(mat = cd4_counts, statistics = \"ulm\",\n",
    "                                    signatures  %>% dplyr::filter(!target_dupl), \n",
    "                                    .source ='source', \n",
    "                                    .target ='target',\n",
    "                                    \n",
    "                                    minsize = 0)"
   ]
  },
  {
   "cell_type": "code",
   "execution_count": null,
   "id": "2f105d0a",
   "metadata": {},
   "outputs": [],
   "source": [
    "md_cd4"
   ]
  },
  {
   "cell_type": "code",
   "execution_count": null,
   "id": "20356a8e",
   "metadata": {},
   "outputs": [],
   "source": [
    "res_decouple2  <- res_decouple  %>% left_join(md_cd4  %>% rownames_to_column(\"condition\"))"
   ]
  },
  {
   "cell_type": "code",
   "execution_count": null,
   "id": "5b498bf2",
   "metadata": {},
   "outputs": [],
   "source": [
    "res_decouple2"
   ]
  },
  {
   "cell_type": "code",
   "execution_count": null,
   "id": "e4844aa4",
   "metadata": {
    "scrolled": true
   },
   "outputs": [],
   "source": [
    "res_decouple2  %>% \n",
    "dplyr::filter(statistic == 'ulm')  %>% \n",
    "    ggplot(aes(x = Condition, y = score)) +\n",
    "    geom_boxplot(outlier.shape = NA) +\n",
    "    geom_jitter() +\n",
    "    ggtheme() +\n",
    "    #ggtitle(rownames(gsva.es)[i]) +\n",
    "    ggpubr::stat_compare_means(label = \"p.format\", comparisons = list(c(1,2))) +\n",
    "ggtitle(paste(subset1,\"vs.\",subset2))\n",
    "    "
   ]
  },
  {
   "cell_type": "markdown",
   "id": "b697665a",
   "metadata": {},
   "source": [
    "### Contrast for X vs Y"
   ]
  },
  {
   "cell_type": "code",
   "execution_count": null,
   "id": "913428c7",
   "metadata": {},
   "outputs": [],
   "source": [
    "ref_wherry_new$labels"
   ]
  },
  {
   "cell_type": "code",
   "execution_count": null,
   "id": "0bec7be5",
   "metadata": {},
   "outputs": [],
   "source": [
    "subset1 = \"CD8_Naive\"\n",
    "subset2 = \"CD8_PD1+CD39+\"\n"
   ]
  },
  {
   "cell_type": "code",
   "execution_count": null,
   "id": "8290c37e",
   "metadata": {},
   "outputs": [],
   "source": [
    "mtx_subset  <- ref_wherry_new$matrix[,ref_wherry_new$labels %in% c(subset1,subset2)]"
   ]
  },
  {
   "cell_type": "code",
   "execution_count": null,
   "id": "f38af9e8",
   "metadata": {},
   "outputs": [],
   "source": [
    "dim(ref_wherry_new$matrix)"
   ]
  },
  {
   "cell_type": "code",
   "execution_count": null,
   "id": "037fbf68",
   "metadata": {},
   "outputs": [],
   "source": [
    "dim(mtx_subset)"
   ]
  },
  {
   "cell_type": "code",
   "execution_count": null,
   "id": "31862749",
   "metadata": {},
   "outputs": [],
   "source": [
    "group  <- ref_wherry_new$labels[ref_wherry_new$labels %in% c(subset1,subset2)]"
   ]
  },
  {
   "cell_type": "code",
   "execution_count": null,
   "id": "1bd6f478",
   "metadata": {},
   "outputs": [],
   "source": [
    "group"
   ]
  },
  {
   "cell_type": "code",
   "execution_count": null,
   "id": "9f0c6360",
   "metadata": {},
   "outputs": [],
   "source": [
    "design <- model.matrix(~group)\n",
    "fit <- lmFit(mtx_subset, design)\n",
    "fit <- eBayes(fit)\n",
    "topTable(fit)"
   ]
  },
  {
   "cell_type": "code",
   "execution_count": null,
   "id": "67bda68c",
   "metadata": {
    "scrolled": true
   },
   "outputs": [],
   "source": [
    "topTable(fit, number = 50000)"
   ]
  },
  {
   "cell_type": "code",
   "execution_count": null,
   "id": "8771e352",
   "metadata": {},
   "outputs": [],
   "source": []
  },
  {
   "cell_type": "code",
   "execution_count": null,
   "id": "335e7828",
   "metadata": {},
   "outputs": [],
   "source": [
    "signatures  <- topTable(fit, number = 50000)  %>%\n",
    "transmute(source = paste(subset1,\"vs.\",subset2),\n",
    "          target = ID,\n",
    "          mor = logFC)"
   ]
  },
  {
   "cell_type": "code",
   "execution_count": null,
   "id": "8e884151",
   "metadata": {
    "scrolled": true
   },
   "outputs": [],
   "source": [
    "signatures$target  %>% duplicated  %>% table"
   ]
  },
  {
   "cell_type": "code",
   "execution_count": null,
   "id": "d0ed60eb",
   "metadata": {},
   "outputs": [],
   "source": [
    "target_dupl  <- signatures$target  %>% duplicated"
   ]
  },
  {
   "cell_type": "code",
   "execution_count": null,
   "id": "ddc40024",
   "metadata": {
    "scrolled": true
   },
   "outputs": [],
   "source": [
    "signatures  %>% dplyr::filter(target_dupl)"
   ]
  },
  {
   "cell_type": "code",
   "execution_count": null,
   "id": "df419533",
   "metadata": {},
   "outputs": [],
   "source": [
    "signatures  %>% dplyr::filter(!target_dupl)"
   ]
  },
  {
   "cell_type": "code",
   "execution_count": null,
   "id": "172ca95f",
   "metadata": {},
   "outputs": [],
   "source": [
    "X = cd4_counts"
   ]
  },
  {
   "cell_type": "code",
   "execution_count": null,
   "id": "4d30f91d",
   "metadata": {},
   "outputs": [],
   "source": [
    "res_decouple <- decoupleR::decouple(mat = cd4_counts, statistics = \"ulm\",\n",
    "                                    signatures  %>% dplyr::filter(!target_dupl), \n",
    "                                    .source ='source', \n",
    "                                    .target ='target',\n",
    "                                    \n",
    "                                    minsize = 0)"
   ]
  },
  {
   "cell_type": "code",
   "execution_count": null,
   "id": "089d7ac9",
   "metadata": {},
   "outputs": [],
   "source": [
    "md_cd4"
   ]
  },
  {
   "cell_type": "code",
   "execution_count": null,
   "id": "eae138c9",
   "metadata": {},
   "outputs": [],
   "source": [
    "res_decouple2  <- res_decouple  %>% left_join(md_cd4  %>% rownames_to_column(\"condition\"))"
   ]
  },
  {
   "cell_type": "code",
   "execution_count": null,
   "id": "444f7af1",
   "metadata": {},
   "outputs": [],
   "source": [
    "res_decouple2"
   ]
  },
  {
   "cell_type": "code",
   "execution_count": null,
   "id": "d4ba1134",
   "metadata": {
    "scrolled": true
   },
   "outputs": [],
   "source": [
    "res_decouple2  %>% \n",
    "dplyr::filter(statistic == 'ulm')  %>% \n",
    "    ggplot(aes(x = Condition, y = score)) +\n",
    "    geom_boxplot(outlier.shape = NA) +\n",
    "    geom_jitter() +\n",
    "    ggtheme() +\n",
    "    #ggtitle(rownames(gsva.es)[i]) +\n",
    "    ggpubr::stat_compare_means(label = \"p.format\", comparisons = list(c(1,2))) +\n",
    "ggtitle(paste(subset1,\"vs.\",subset2))\n",
    "    "
   ]
  },
  {
   "cell_type": "markdown",
   "id": "3b7668ee",
   "metadata": {},
   "source": [
    "# Main findings in males vs. females"
   ]
  },
  {
   "cell_type": "markdown",
   "id": "08103864",
   "metadata": {},
   "source": [
    "## DecoupleR contrast"
   ]
  },
  {
   "cell_type": "markdown",
   "id": "68b345ba",
   "metadata": {},
   "source": [
    "### CD8"
   ]
  },
  {
   "cell_type": "code",
   "execution_count": null,
   "id": "cac51a6e",
   "metadata": {},
   "outputs": [],
   "source": [
    "subset1 = \"CD8_Naive\"\n",
    "subset2 = \"CD8_EM2\"\n"
   ]
  },
  {
   "cell_type": "code",
   "execution_count": null,
   "id": "1a9e66fa",
   "metadata": {},
   "outputs": [],
   "source": [
    "mtx_subset  <- ref_wherry_new$matrix[,ref_wherry_new$labels %in% c(subset1,subset2)]"
   ]
  },
  {
   "cell_type": "code",
   "execution_count": null,
   "id": "e8971866",
   "metadata": {},
   "outputs": [],
   "source": [
    "dim(ref_wherry_new$matrix)"
   ]
  },
  {
   "cell_type": "code",
   "execution_count": null,
   "id": "5c530bf6",
   "metadata": {},
   "outputs": [],
   "source": [
    "dim(mtx_subset)"
   ]
  },
  {
   "cell_type": "code",
   "execution_count": null,
   "id": "fb46a52b",
   "metadata": {},
   "outputs": [],
   "source": [
    "group  <- ref_wherry_new$labels[ref_wherry_new$labels %in% c(subset1,subset2)]"
   ]
  },
  {
   "cell_type": "code",
   "execution_count": null,
   "id": "fc435dc1",
   "metadata": {},
   "outputs": [],
   "source": [
    "group"
   ]
  },
  {
   "cell_type": "code",
   "execution_count": null,
   "id": "03628a50",
   "metadata": {},
   "outputs": [],
   "source": [
    "design <- model.matrix(~group)\n",
    "fit <- lmFit(mtx_subset, design)\n",
    "fit <- eBayes(fit)\n",
    "topTable(fit)"
   ]
  },
  {
   "cell_type": "code",
   "execution_count": null,
   "id": "9e3dc2f6",
   "metadata": {
    "scrolled": true
   },
   "outputs": [],
   "source": [
    "topTable(fit, number = 50000)"
   ]
  },
  {
   "cell_type": "code",
   "execution_count": null,
   "id": "69b8f4f8",
   "metadata": {},
   "outputs": [],
   "source": []
  },
  {
   "cell_type": "code",
   "execution_count": null,
   "id": "b444e8d2",
   "metadata": {},
   "outputs": [],
   "source": [
    "signatures  <- topTable(fit, number = 50000)  %>%\n",
    "transmute(source = paste(subset1,\"vs.\",subset2),\n",
    "          target = ID,\n",
    "          mor = logFC)"
   ]
  },
  {
   "cell_type": "code",
   "execution_count": null,
   "id": "ebcb4265",
   "metadata": {
    "scrolled": true
   },
   "outputs": [],
   "source": [
    "signatures$target  %>% duplicated  %>% table"
   ]
  },
  {
   "cell_type": "code",
   "execution_count": null,
   "id": "85a915d0",
   "metadata": {},
   "outputs": [],
   "source": [
    "target_dupl  <- signatures$target  %>% duplicated"
   ]
  },
  {
   "cell_type": "code",
   "execution_count": null,
   "id": "fc0d846e",
   "metadata": {},
   "outputs": [],
   "source": [
    "res_decouple <- decoupleR::decouple(mat = cd8_counts, statistics = \"ulm\",\n",
    "                                    signatures  %>% dplyr::filter(!target_dupl), \n",
    "                                    .source ='source', \n",
    "                                    .target ='target',\n",
    "                                    \n",
    "                                    minsize = 0)"
   ]
  },
  {
   "cell_type": "code",
   "execution_count": null,
   "id": "62c14ef6",
   "metadata": {},
   "outputs": [],
   "source": [
    "res_decouple2  <- res_decouple  %>% left_join(md_cd8  %>% rownames_to_column(\"condition\"))"
   ]
  },
  {
   "cell_type": "code",
   "execution_count": null,
   "id": "f31ce083",
   "metadata": {},
   "outputs": [],
   "source": [
    "res_decouple2  %>% \n",
    "dplyr::filter(statistic == 'ulm')  %>% \n",
    "    ggplot(aes(x = Condition, y = score)) +\n",
    "    geom_boxplot(outlier.shape = NA) +\n",
    "    geom_jitter() +\n",
    "    ggtheme() +\n",
    "    #ggtitle(rownames(gsva.es)[i]) +\n",
    "facet_wrap(~Sex) +\n",
    "    ggpubr::stat_compare_means(label = \"p.format\", comparisons = list(c(1,2))) +\n",
    "ggtitle(paste(subset1,\"vs.\",subset2))\n",
    "    "
   ]
  },
  {
   "cell_type": "code",
   "execution_count": null,
   "id": "78b93ab7",
   "metadata": {},
   "outputs": [],
   "source": [
    "subset1 = \"CD8_Naive\"\n",
    "subset2 = \"CD8_EM1\"\n"
   ]
  },
  {
   "cell_type": "code",
   "execution_count": null,
   "id": "db8fd817",
   "metadata": {},
   "outputs": [],
   "source": [
    "mtx_subset  <- ref_wherry_new$matrix[,ref_wherry_new$labels %in% c(subset1,subset2)]"
   ]
  },
  {
   "cell_type": "code",
   "execution_count": null,
   "id": "f4d2fce5",
   "metadata": {},
   "outputs": [],
   "source": [
    "dim(ref_wherry_new$matrix)"
   ]
  },
  {
   "cell_type": "code",
   "execution_count": null,
   "id": "4da32c2b",
   "metadata": {},
   "outputs": [],
   "source": [
    "dim(mtx_subset)"
   ]
  },
  {
   "cell_type": "code",
   "execution_count": null,
   "id": "0b8ee84b",
   "metadata": {},
   "outputs": [],
   "source": [
    "group  <- ref_wherry_new$labels[ref_wherry_new$labels %in% c(subset1,subset2)]"
   ]
  },
  {
   "cell_type": "code",
   "execution_count": null,
   "id": "002f17e4",
   "metadata": {},
   "outputs": [],
   "source": [
    "group"
   ]
  },
  {
   "cell_type": "code",
   "execution_count": null,
   "id": "f8f4648d",
   "metadata": {},
   "outputs": [],
   "source": [
    "design <- model.matrix(~group)\n",
    "fit <- lmFit(mtx_subset, design)\n",
    "fit <- eBayes(fit)\n",
    "topTable(fit)"
   ]
  },
  {
   "cell_type": "code",
   "execution_count": null,
   "id": "36ad00d4",
   "metadata": {
    "scrolled": true
   },
   "outputs": [],
   "source": [
    "topTable(fit, number = 50000)"
   ]
  },
  {
   "cell_type": "code",
   "execution_count": null,
   "id": "e222848d",
   "metadata": {},
   "outputs": [],
   "source": []
  },
  {
   "cell_type": "code",
   "execution_count": null,
   "id": "46215d39",
   "metadata": {},
   "outputs": [],
   "source": [
    "signatures  <- topTable(fit, number = 50000)  %>%\n",
    "transmute(source = paste(subset1,\"vs.\",subset2),\n",
    "          target = ID,\n",
    "          mor = logFC)"
   ]
  },
  {
   "cell_type": "code",
   "execution_count": null,
   "id": "814c9aed",
   "metadata": {
    "scrolled": true
   },
   "outputs": [],
   "source": [
    "signatures$target  %>% duplicated  %>% table"
   ]
  },
  {
   "cell_type": "code",
   "execution_count": null,
   "id": "25bf6cf7",
   "metadata": {},
   "outputs": [],
   "source": [
    "target_dupl  <- signatures$target  %>% duplicated"
   ]
  },
  {
   "cell_type": "code",
   "execution_count": null,
   "id": "b775e8f4",
   "metadata": {},
   "outputs": [],
   "source": [
    "res_decouple <- decoupleR::decouple(mat = cd8_counts, statistics = \"ulm\",\n",
    "                                    signatures  %>% dplyr::filter(!target_dupl), \n",
    "                                    .source ='source', \n",
    "                                    .target ='target',\n",
    "                                    \n",
    "                                    minsize = 0)"
   ]
  },
  {
   "cell_type": "code",
   "execution_count": null,
   "id": "8e00a934",
   "metadata": {},
   "outputs": [],
   "source": [
    "res_decouple2  <- res_decouple  %>% left_join(md_cd8  %>% rownames_to_column(\"condition\"))"
   ]
  },
  {
   "cell_type": "code",
   "execution_count": null,
   "id": "5f2ce210",
   "metadata": {},
   "outputs": [],
   "source": [
    "res_decouple2  %>% \n",
    "dplyr::filter(statistic == 'ulm')  %>% \n",
    "    ggplot(aes(x = Condition, y = score)) +\n",
    "    geom_boxplot(outlier.shape = NA) +\n",
    "    geom_jitter() +\n",
    "    ggtheme() +\n",
    "    #ggtitle(rownames(gsva.es)[i]) +\n",
    "facet_wrap(~Sex) +\n",
    "    ggpubr::stat_compare_means(label = \"p.format\", comparisons = list(c(1,2))) +\n",
    "ggtitle(paste(subset1,\"vs.\",subset2))\n",
    "    "
   ]
  },
  {
   "cell_type": "markdown",
   "id": "fe798974",
   "metadata": {},
   "source": [
    "### CD4"
   ]
  },
  {
   "cell_type": "code",
   "execution_count": null,
   "id": "aee5a550",
   "metadata": {},
   "outputs": [],
   "source": [
    "subset1 = \"CD8_Naive\"\n",
    "subset2 = \"CD8_EM2\"\n"
   ]
  },
  {
   "cell_type": "code",
   "execution_count": null,
   "id": "6e2b9699",
   "metadata": {},
   "outputs": [],
   "source": [
    "mtx_subset  <- ref_wherry_new$matrix[,ref_wherry_new$labels %in% c(subset1,subset2)]"
   ]
  },
  {
   "cell_type": "code",
   "execution_count": null,
   "id": "965d0595",
   "metadata": {},
   "outputs": [],
   "source": [
    "dim(ref_wherry_new$matrix)"
   ]
  },
  {
   "cell_type": "code",
   "execution_count": null,
   "id": "3482e126",
   "metadata": {},
   "outputs": [],
   "source": [
    "dim(mtx_subset)"
   ]
  },
  {
   "cell_type": "code",
   "execution_count": null,
   "id": "6c1c5db2",
   "metadata": {},
   "outputs": [],
   "source": [
    "group  <- ref_wherry_new$labels[ref_wherry_new$labels %in% c(subset1,subset2)]"
   ]
  },
  {
   "cell_type": "code",
   "execution_count": null,
   "id": "4d57721e",
   "metadata": {},
   "outputs": [],
   "source": [
    "group"
   ]
  },
  {
   "cell_type": "code",
   "execution_count": null,
   "id": "741e1937",
   "metadata": {},
   "outputs": [],
   "source": [
    "design <- model.matrix(~group)\n",
    "fit <- lmFit(mtx_subset, design)\n",
    "fit <- eBayes(fit)\n",
    "topTable(fit)"
   ]
  },
  {
   "cell_type": "code",
   "execution_count": null,
   "id": "7a295a34",
   "metadata": {
    "scrolled": true
   },
   "outputs": [],
   "source": [
    "topTable(fit, number = 50000)"
   ]
  },
  {
   "cell_type": "code",
   "execution_count": null,
   "id": "3b227ad3",
   "metadata": {},
   "outputs": [],
   "source": []
  },
  {
   "cell_type": "code",
   "execution_count": null,
   "id": "9788a6e8",
   "metadata": {},
   "outputs": [],
   "source": [
    "signatures  <- topTable(fit, number = 50000)  %>%\n",
    "transmute(source = paste(subset1,\"vs.\",subset2),\n",
    "          target = ID,\n",
    "          mor = logFC)"
   ]
  },
  {
   "cell_type": "code",
   "execution_count": null,
   "id": "d2f4b310",
   "metadata": {
    "scrolled": true
   },
   "outputs": [],
   "source": [
    "signatures$target  %>% duplicated  %>% table"
   ]
  },
  {
   "cell_type": "code",
   "execution_count": null,
   "id": "4c09ad85",
   "metadata": {},
   "outputs": [],
   "source": [
    "target_dupl  <- signatures$target  %>% duplicated"
   ]
  },
  {
   "cell_type": "code",
   "execution_count": null,
   "id": "9387eb08",
   "metadata": {},
   "outputs": [],
   "source": [
    "res_decouple <- decoupleR::decouple(mat = cd4_counts, statistics = \"ulm\",\n",
    "                                    signatures  %>% dplyr::filter(!target_dupl), \n",
    "                                    .source ='source', \n",
    "                                    .target ='target',\n",
    "                                    \n",
    "                                    minsize = 0)"
   ]
  },
  {
   "cell_type": "code",
   "execution_count": null,
   "id": "337069e6",
   "metadata": {},
   "outputs": [],
   "source": [
    "res_decouple2  <- res_decouple  %>% left_join(md_cd4  %>% rownames_to_column(\"condition\"))"
   ]
  },
  {
   "cell_type": "code",
   "execution_count": null,
   "id": "9722deb5",
   "metadata": {},
   "outputs": [],
   "source": [
    "res_decouple2  %>% \n",
    "dplyr::filter(statistic == 'ulm')  %>% \n",
    "    ggplot(aes(x = Condition, y = score)) +\n",
    "    geom_boxplot(outlier.shape = NA) +\n",
    "    geom_jitter() +\n",
    "    ggtheme() +\n",
    "    #ggtitle(rownames(gsva.es)[i]) +\n",
    "facet_wrap(~Sex) +\n",
    "    ggpubr::stat_compare_means(label = \"p.format\", comparisons = list(c(1,2))) +\n",
    "ggtitle(paste(subset1,\"vs.\",subset2))\n",
    "    "
   ]
  },
  {
   "cell_type": "code",
   "execution_count": null,
   "id": "ebb93375",
   "metadata": {},
   "outputs": [],
   "source": [
    "subset1 = \"CD8_Naive\"\n",
    "subset2 = \"CD8_EM1\"\n"
   ]
  },
  {
   "cell_type": "code",
   "execution_count": null,
   "id": "167e21a9",
   "metadata": {},
   "outputs": [],
   "source": [
    "mtx_subset  <- ref_wherry_new$matrix[,ref_wherry_new$labels %in% c(subset1,subset2)]"
   ]
  },
  {
   "cell_type": "code",
   "execution_count": null,
   "id": "e2b173e7",
   "metadata": {},
   "outputs": [],
   "source": [
    "dim(ref_wherry_new$matrix)"
   ]
  },
  {
   "cell_type": "code",
   "execution_count": null,
   "id": "e5ba3235",
   "metadata": {},
   "outputs": [],
   "source": [
    "dim(mtx_subset)"
   ]
  },
  {
   "cell_type": "code",
   "execution_count": null,
   "id": "884c8707",
   "metadata": {},
   "outputs": [],
   "source": [
    "group  <- ref_wherry_new$labels[ref_wherry_new$labels %in% c(subset1,subset2)]"
   ]
  },
  {
   "cell_type": "code",
   "execution_count": null,
   "id": "d4bfe184",
   "metadata": {},
   "outputs": [],
   "source": [
    "group"
   ]
  },
  {
   "cell_type": "code",
   "execution_count": null,
   "id": "8f8b405e",
   "metadata": {},
   "outputs": [],
   "source": [
    "design <- model.matrix(~group)\n",
    "fit <- lmFit(mtx_subset, design)\n",
    "fit <- eBayes(fit)\n",
    "topTable(fit)"
   ]
  },
  {
   "cell_type": "code",
   "execution_count": null,
   "id": "563776fb",
   "metadata": {
    "scrolled": true
   },
   "outputs": [],
   "source": [
    "topTable(fit, number = 50000)"
   ]
  },
  {
   "cell_type": "code",
   "execution_count": null,
   "id": "079e9804",
   "metadata": {},
   "outputs": [],
   "source": []
  },
  {
   "cell_type": "code",
   "execution_count": null,
   "id": "6c04ecef",
   "metadata": {},
   "outputs": [],
   "source": [
    "signatures  <- topTable(fit, number = 50000)  %>%\n",
    "transmute(source = paste(subset1,\"vs.\",subset2),\n",
    "          target = ID,\n",
    "          mor = logFC)"
   ]
  },
  {
   "cell_type": "code",
   "execution_count": null,
   "id": "69300796",
   "metadata": {
    "scrolled": true
   },
   "outputs": [],
   "source": [
    "signatures$target  %>% duplicated  %>% table"
   ]
  },
  {
   "cell_type": "code",
   "execution_count": null,
   "id": "25c7bc60",
   "metadata": {},
   "outputs": [],
   "source": [
    "target_dupl  <- signatures$target  %>% duplicated"
   ]
  },
  {
   "cell_type": "code",
   "execution_count": null,
   "id": "84b7f170",
   "metadata": {},
   "outputs": [],
   "source": [
    "res_decouple <- decoupleR::decouple(mat = cd4_counts, statistics = \"ulm\",\n",
    "                                    signatures  %>% dplyr::filter(!target_dupl), \n",
    "                                    .source ='source', \n",
    "                                    .target ='target',\n",
    "                                    \n",
    "                                    minsize = 0)"
   ]
  },
  {
   "cell_type": "code",
   "execution_count": null,
   "id": "72702fa7",
   "metadata": {},
   "outputs": [],
   "source": [
    "res_decouple2  <- res_decouple  %>% left_join(md_cd4  %>% rownames_to_column(\"condition\"))"
   ]
  },
  {
   "cell_type": "code",
   "execution_count": null,
   "id": "af27e1d6",
   "metadata": {},
   "outputs": [],
   "source": [
    "res_decouple2  %>% \n",
    "dplyr::filter(statistic == 'ulm')  %>% \n",
    "    ggplot(aes(x = Condition, y = score)) +\n",
    "    geom_boxplot(outlier.shape = NA) +\n",
    "    geom_jitter() +\n",
    "    ggtheme() +\n",
    "    #ggtitle(rownames(gsva.es)[i]) +\n",
    "facet_wrap(~Sex) +\n",
    "    ggpubr::stat_compare_means(label = \"p.format\", comparisons = list(c(1,2))) +\n",
    "ggtitle(paste(subset1,\"vs.\",subset2))\n",
    "    "
   ]
  },
  {
   "cell_type": "markdown",
   "id": "d6051621",
   "metadata": {},
   "source": [
    "# DEG by HLA"
   ]
  },
  {
   "cell_type": "markdown",
   "id": "3647eacf",
   "metadata": {},
   "source": [
    "## CD4"
   ]
  },
  {
   "cell_type": "code",
   "execution_count": null,
   "id": "9925a2ea",
   "metadata": {},
   "outputs": [],
   "source": [
    "genes  <- rownames(cd4_l1_full_filt_sub@assays$RNA)"
   ]
  },
  {
   "cell_type": "code",
   "execution_count": null,
   "id": "16608169",
   "metadata": {},
   "outputs": [],
   "source": [
    "genes_filt  <- genes[!(grepl(genes, pattern = \"^MT\")|\n",
    "                            grepl(genes, pattern = \"\\\\.\")|\n",
    "                            grepl(genes, pattern = \"LINC\")|\n",
    "                            grepl(genes, pattern = \"^MIR\")|\n",
    "                            grepl(genes, pattern = \"^MT\")|\n",
    "                            grepl(genes, pattern = \"HNRNP\")|\n",
    "                            grepl(genes, pattern = \"^RP[LS]\")|\n",
    "                            grepl(genes, pattern = \"\\\\-\")|\n",
    "                            grepl(genes, pattern = \"TTTY\")|\n",
    "                            grepl(genes, pattern = \"ORF\")|\n",
    "                            grepl(genes, pattern = \"orf\"))\n",
    "                            ]"
   ]
  },
  {
   "cell_type": "code",
   "execution_count": null,
   "id": "c0acadaf",
   "metadata": {},
   "outputs": [],
   "source": [
    "aggexp_cd4  <- AggregateExpression(cd4_l1_full_filt_sub, group.by = c(\"Sample_ID\"), \n",
    "                                  features = genes_filt, return.seurat = T, assay = \"RNA\")"
   ]
  },
  {
   "cell_type": "code",
   "execution_count": null,
   "id": "861ea7f2",
   "metadata": {},
   "outputs": [],
   "source": []
  },
  {
   "cell_type": "code",
   "execution_count": null,
   "id": "9be007ac",
   "metadata": {},
   "outputs": [],
   "source": [
    "md_HLA_cd4  <- cd4_l1_full_filt_sub@meta.data  %>% mutate(dq2 = ifelse((HLA_DQA11 == \"DQA1*05:01:01\" | HLA_DQA12 == \"DQA1*05:01:01\") &\n",
    "                                   (HLA_DQB11 == \"DQB1*02:01:01\" | HLA_DQB12 == \"DQB1*02:01:01\"),\"DQ2\",\n",
    "                                   \"Other\"),\n",
    "                      dq8 = ifelse((HLA_DQA11 == \"DQA1*03:01:01\" | HLA_DQA12 == \"DQA1*03:01:01\") &\n",
    "                                   (HLA_DQB11 == \"DQB1*03:02:01\" | HLA_DQB12 == \"DQB1*03:02:01\"),\"DQ8\",\n",
    "                                   \"Other\"))  %>% mutate(\n",
    "                      dq2_8 = ifelse(dq2 == \"DQ2\" & dq8 == \"DQ8\",\"DQ2_8\",\n",
    "                                     ifelse(dq2 == \"DQ2\",\"DQ2\", ifelse(dq8 == \"DQ8\",\"DQ8\",\"Other\"))))  %>% \n",
    "mutate(c7_01 = ifelse((HLA_C1 == \"C*07:01:01\" & HLA_C2 == \"C*07:01:01\"), \"c7_01_hom\",\n",
    "                                   ifelse(HLA_C1 == \"C*07:01:01\" | HLA_C2 == \"C*07:01:01\",\"c7_01_het\",\n",
    "                                   \"Other\")),\n",
    "                      b8_01 = ifelse((HLA_B1 == \"B*08:01:01\" & HLA_B2 == \"B*08:01:01\"), \"b8_01_hom\",\n",
    "                                   ifelse(HLA_B1 == \"B*08:01:01\" | HLA_B2 == \"B*08:01:01\",\"b8_01_het\",\n",
    "                                   \"Other\")))   %>% mutate(\n",
    "                      c7_b8 = ifelse(b8_01 == \"b8_01_hom\" & c7_01 == \"c7_01_hom\",\n",
    "                                     \"c7_b8_hom\", ifelse(c7_01 == \"c7_01_hom\", \"c7_01_hom\",\n",
    "                              ifelse(b8_01 == \"b8_01_hom\", \"b8_01_hom\", \n",
    "                              ifelse(b8_01 == \"b8_01_het\" & c7_01 == \"c7_01_het\",\n",
    "                                     \"c7_b8_het\", \n",
    "                                     \n",
    "                              ifelse(b8_01 == \"b8_01_het\", \"b8_01_het\", \n",
    "                              ifelse(c7_01 == \"c7_01_het\", \"c7_01_het\", \"Other\" )))))))  %>% \n",
    " dplyr::select(Sample_ID, c7_b8, b8_01, c7_01, dq2_8)  %>% \n",
    "unique\n"
   ]
  },
  {
   "cell_type": "code",
   "execution_count": null,
   "id": "101b6cb1",
   "metadata": {
    "scrolled": true
   },
   "outputs": [],
   "source": [
    "md_HLA_cd4"
   ]
  },
  {
   "cell_type": "code",
   "execution_count": null,
   "id": "3813bf57",
   "metadata": {},
   "outputs": [],
   "source": [
    "md_HLA_cd4$Sample_ID  <- paste0(\"g\", md_HLA_cd4$Sample_ID)"
   ]
  },
  {
   "cell_type": "code",
   "execution_count": null,
   "id": "58c2969f",
   "metadata": {},
   "outputs": [],
   "source": [
    "new_md  <- left_join(aggexp_cd4@meta.data, md_HLA_cd4)"
   ]
  },
  {
   "cell_type": "code",
   "execution_count": null,
   "id": "a9969af2",
   "metadata": {},
   "outputs": [],
   "source": [
    "rownames(new_md)  <- colnames(aggexp_cd4)"
   ]
  },
  {
   "cell_type": "code",
   "execution_count": null,
   "id": "ed352615",
   "metadata": {
    "scrolled": true
   },
   "outputs": [],
   "source": [
    "new_md"
   ]
  },
  {
   "cell_type": "code",
   "execution_count": null,
   "id": "1da68014",
   "metadata": {
    "scrolled": true
   },
   "outputs": [],
   "source": [
    "aggexp_cd4@meta.data  <- new_md"
   ]
  },
  {
   "cell_type": "code",
   "execution_count": null,
   "id": "8ad464ee",
   "metadata": {},
   "outputs": [],
   "source": [
    "Idents(aggexp_cd4)  <- aggexp_cd4$dq2_8"
   ]
  },
  {
   "cell_type": "code",
   "execution_count": null,
   "id": "f41a323b",
   "metadata": {},
   "outputs": [],
   "source": [
    "mrk_dq2_8_cd4  <- FindAllMarkers(aggexp_cd4)"
   ]
  },
  {
   "cell_type": "code",
   "execution_count": null,
   "id": "c8a12c8b",
   "metadata": {
    "scrolled": true
   },
   "outputs": [],
   "source": [
    "mrk_dq2_8_cd4  %>% arrange(p_val_adj)  %>% dplyr::filter(cluster == \"DQ2_8\")"
   ]
  },
  {
   "cell_type": "code",
   "execution_count": null,
   "id": "abaa0ab2",
   "metadata": {},
   "outputs": [],
   "source": [
    "mrk_dq2_8_cd4  %>% arrange(p_val_adj)  %>% group_by(cluster)  %>% \n",
    "slice_head(n = 5)"
   ]
  },
  {
   "cell_type": "code",
   "execution_count": null,
   "id": "9fa2e5a4",
   "metadata": {},
   "outputs": [],
   "source": [
    "mrk_dq2_8_cd4  %>% arrange(p_val_adj)  %>% dplyr::filter(gene == \"BTN3A2\")"
   ]
  },
  {
   "cell_type": "code",
   "execution_count": null,
   "id": "8f920a3d",
   "metadata": {},
   "outputs": [],
   "source": [
    "genes_to_plot  <- mrk_dq2_8_cd4  %>% arrange(p_val_adj)  %>% dplyr::filter(cluster == \"DQ2_8\")  %>% pull(gene)"
   ]
  },
  {
   "cell_type": "code",
   "execution_count": null,
   "id": "3e78c739",
   "metadata": {},
   "outputs": [],
   "source": [
    "options(repr.plot.width = 12, repr.plot.height = 9)\n",
    "VlnPlot(aggexp_cd4, group.by = \"dq2_8\", features = genes_to_plot[1:12], ncol = 4)"
   ]
  },
  {
   "cell_type": "code",
   "execution_count": null,
   "id": "0bd5e45f",
   "metadata": {},
   "outputs": [],
   "source": [
    "Idents(aggexp_cd4)  <- aggexp_cd4$c7_b8"
   ]
  },
  {
   "cell_type": "code",
   "execution_count": null,
   "id": "ce3a3aaa",
   "metadata": {},
   "outputs": [],
   "source": [
    "mrk_c7_b8_cd4  <- FindAllMarkers(aggexp_cd4)"
   ]
  },
  {
   "cell_type": "code",
   "execution_count": null,
   "id": "805e9475",
   "metadata": {
    "scrolled": true
   },
   "outputs": [],
   "source": [
    "mrk_c7_b8_cd4"
   ]
  },
  {
   "cell_type": "code",
   "execution_count": null,
   "id": "679525cb",
   "metadata": {
    "scrolled": true
   },
   "outputs": [],
   "source": [
    "mrk_c7_b8_cd4  %>% arrange(p_val_adj)  %>% dplyr::filter(cluster == \"c7_b8_hom\")"
   ]
  },
  {
   "cell_type": "code",
   "execution_count": null,
   "id": "86b90fdb",
   "metadata": {},
   "outputs": [],
   "source": [
    "mrk_c7_b8_cd4  %>% arrange(p_val_adj)  %>% group_by(cluster)  %>% \n",
    "slice_head(n = 5)"
   ]
  },
  {
   "cell_type": "code",
   "execution_count": null,
   "id": "f8bad835",
   "metadata": {},
   "outputs": [],
   "source": [
    "mrk_c7_b8_cd4  %>% arrange(p_val_adj)  %>% dplyr::filter(gene == \"BTN3A2\")"
   ]
  },
  {
   "cell_type": "code",
   "execution_count": null,
   "id": "35d42d96",
   "metadata": {},
   "outputs": [],
   "source": [
    "genes_to_plot  <- mrk_c7_b8_cd4  %>% arrange(p_val_adj)  %>% dplyr::filter(cluster == \"Other\")  %>% pull(gene)"
   ]
  },
  {
   "cell_type": "code",
   "execution_count": null,
   "id": "0d78aa6c",
   "metadata": {},
   "outputs": [],
   "source": [
    "options(repr.plot.width = 12, repr.plot.height = 4)\n",
    "VlnPlot(aggexp_cd4, group.by = \"c7_b8\", features = c(\"BTN3A2\",\"DDIT4L\"), ncol = 4)"
   ]
  },
  {
   "cell_type": "markdown",
   "id": "9cbca601",
   "metadata": {},
   "source": [
    "## CD8"
   ]
  },
  {
   "cell_type": "code",
   "execution_count": null,
   "id": "65253654",
   "metadata": {},
   "outputs": [],
   "source": [
    "genes  <- rownames(cd8_l1_full_filt_sub@assays$RNA)"
   ]
  },
  {
   "cell_type": "code",
   "execution_count": null,
   "id": "00e6b7d5",
   "metadata": {},
   "outputs": [],
   "source": [
    "genes_filt  <- genes[!(grepl(genes, pattern = \"^MT\")|\n",
    "                            grepl(genes, pattern = \"\\\\.\")|\n",
    "                            grepl(genes, pattern = \"LINC\")|\n",
    "                            grepl(genes, pattern = \"^MIR\")|\n",
    "                            grepl(genes, pattern = \"^MT\")|\n",
    "                            grepl(genes, pattern = \"HNRNP\")|\n",
    "                            grepl(genes, pattern = \"^RP[LS]\")|\n",
    "                            grepl(genes, pattern = \"\\\\-\")|\n",
    "                            grepl(genes, pattern = \"TTTY\")|\n",
    "                            grepl(genes, pattern = \"ORF\")|\n",
    "                            grepl(genes, pattern = \"orf\"))\n",
    "                            ]"
   ]
  },
  {
   "cell_type": "code",
   "execution_count": null,
   "id": "6a32ca0c",
   "metadata": {},
   "outputs": [],
   "source": [
    "aggexp_cd8  <- AggregateExpression(cd8_l1_full_filt_sub, group.by = c(\"Sample_ID\"), \n",
    "                                  features = genes_filt, return.seurat = T, assay = \"RNA\")"
   ]
  },
  {
   "cell_type": "code",
   "execution_count": null,
   "id": "c284812d",
   "metadata": {},
   "outputs": [],
   "source": []
  },
  {
   "cell_type": "code",
   "execution_count": null,
   "id": "c5ed7c8b",
   "metadata": {},
   "outputs": [],
   "source": [
    "md_HLA_cd8  <- cd8_l1_full_filt_sub@meta.data  %>% mutate(dq2 = ifelse((HLA_DQA11 == \"DQA1*05:01:01\" | HLA_DQA12 == \"DQA1*05:01:01\") &\n",
    "                                   (HLA_DQB11 == \"DQB1*02:01:01\" | HLA_DQB12 == \"DQB1*02:01:01\"),\"DQ2\",\n",
    "                                   \"Other\"),\n",
    "                      dq8 = ifelse((HLA_DQA11 == \"DQA1*03:01:01\" | HLA_DQA12 == \"DQA1*03:01:01\") &\n",
    "                                   (HLA_DQB11 == \"DQB1*03:02:01\" | HLA_DQB12 == \"DQB1*03:02:01\"),\"DQ8\",\n",
    "                                   \"Other\"))  %>% mutate(\n",
    "                      dq2_8 = ifelse(dq2 == \"DQ2\" & dq8 == \"DQ8\",\"DQ2_8\",\n",
    "                                     ifelse(dq2 == \"DQ2\",\"DQ2\", ifelse(dq8 == \"DQ8\",\"DQ8\",\"Other\"))))  %>% \n",
    "mutate(c7_01 = ifelse((HLA_C1 == \"C*07:01:01\" & HLA_C2 == \"C*07:01:01\"), \"c7_01_hom\",\n",
    "                                   ifelse(HLA_C1 == \"C*07:01:01\" | HLA_C2 == \"C*07:01:01\",\"c7_01_het\",\n",
    "                                   \"Other\")),\n",
    "                      b8_01 = ifelse((HLA_B1 == \"B*08:01:01\" & HLA_B2 == \"B*08:01:01\"), \"b8_01_hom\",\n",
    "                                   ifelse(HLA_B1 == \"B*08:01:01\" | HLA_B2 == \"B*08:01:01\",\"b8_01_het\",\n",
    "                                   \"Other\")))   %>% mutate(\n",
    "                      c7_b8 = ifelse(b8_01 == \"b8_01_hom\" & c7_01 == \"c7_01_hom\",\n",
    "                                     \"c7_b8_hom\", ifelse(c7_01 == \"c7_01_hom\", \"c7_01_hom\",\n",
    "                              ifelse(b8_01 == \"b8_01_hom\", \"b8_01_hom\", \n",
    "                              ifelse(b8_01 == \"b8_01_het\" & c7_01 == \"c7_01_het\",\n",
    "                                     \"c7_b8_het\", \n",
    "                                     \n",
    "                              ifelse(b8_01 == \"b8_01_het\", \"b8_01_het\", \n",
    "                              ifelse(c7_01 == \"c7_01_het\", \"c7_01_het\", \"Other\" )))))))  %>% \n",
    " dplyr::select(Sample_ID, c7_b8, b8_01, c7_01, dq2_8)  %>% \n",
    "unique\n"
   ]
  },
  {
   "cell_type": "code",
   "execution_count": null,
   "id": "9473602d",
   "metadata": {
    "scrolled": true
   },
   "outputs": [],
   "source": [
    "md_HLA_cd8"
   ]
  },
  {
   "cell_type": "code",
   "execution_count": null,
   "id": "c36c1c05",
   "metadata": {},
   "outputs": [],
   "source": [
    "md_HLA_cd8$Sample_ID  <- paste0(\"g\", md_HLA_cd8$Sample_ID)"
   ]
  },
  {
   "cell_type": "code",
   "execution_count": null,
   "id": "9f966792",
   "metadata": {},
   "outputs": [],
   "source": [
    "new_md  <- left_join(aggexp_cd8@meta.data, md_HLA_cd8)"
   ]
  },
  {
   "cell_type": "code",
   "execution_count": null,
   "id": "832dc8ff",
   "metadata": {},
   "outputs": [],
   "source": [
    "rownames(new_md)  <- colnames(aggexp_cd8)"
   ]
  },
  {
   "cell_type": "code",
   "execution_count": null,
   "id": "2ea7616d",
   "metadata": {
    "scrolled": true
   },
   "outputs": [],
   "source": [
    "new_md"
   ]
  },
  {
   "cell_type": "code",
   "execution_count": null,
   "id": "f47ea2fc",
   "metadata": {
    "scrolled": true
   },
   "outputs": [],
   "source": [
    "aggexp_cd8@meta.data  <- new_md"
   ]
  },
  {
   "cell_type": "code",
   "execution_count": null,
   "id": "91282e8b",
   "metadata": {},
   "outputs": [],
   "source": [
    "Idents(aggexp_cd8)  <- aggexp_cd8$dq2_8"
   ]
  },
  {
   "cell_type": "code",
   "execution_count": null,
   "id": "14ac1f12",
   "metadata": {},
   "outputs": [],
   "source": [
    "mrk_dq2_8_cd8  <- FindAllMarkers(aggexp_cd8)"
   ]
  },
  {
   "cell_type": "code",
   "execution_count": null,
   "id": "2df730bc",
   "metadata": {
    "scrolled": true
   },
   "outputs": [],
   "source": [
    "mrk_dq2_8_cd8  %>% arrange(p_val_adj)  %>% dplyr::filter(cluster == \"DQ2_8\")"
   ]
  },
  {
   "cell_type": "code",
   "execution_count": null,
   "id": "1c285481",
   "metadata": {},
   "outputs": [],
   "source": [
    "mrk_dq2_8_cd8  %>% arrange(p_val_adj)  %>% group_by(cluster)  %>% \n",
    "slice_head(n = 5)"
   ]
  },
  {
   "cell_type": "code",
   "execution_count": null,
   "id": "ded20c71",
   "metadata": {},
   "outputs": [],
   "source": [
    "mrk_dq2_8_cd8  %>% arrange(p_val_adj)  %>% dplyr::filter(gene == \"BTN3A2\")"
   ]
  },
  {
   "cell_type": "code",
   "execution_count": null,
   "id": "a76147de",
   "metadata": {},
   "outputs": [],
   "source": [
    "genes_to_plot  <- mrk_dq2_8_cd8  %>% arrange(p_val_adj)  %>% dplyr::filter(cluster == \"DQ2_8\")  %>% pull(gene)"
   ]
  },
  {
   "cell_type": "code",
   "execution_count": null,
   "id": "50849982",
   "metadata": {},
   "outputs": [],
   "source": [
    "options(repr.plot.width = 12, repr.plot.height = 9)\n",
    "VlnPlot(aggexp_cd8, group.by = \"dq2_8\", features = genes_to_plot[1:12], ncol = 4)"
   ]
  },
  {
   "cell_type": "code",
   "execution_count": null,
   "id": "4324dad8",
   "metadata": {},
   "outputs": [],
   "source": [
    "Idents(aggexp_cd8)  <- aggexp_cd8$c7_b8"
   ]
  },
  {
   "cell_type": "code",
   "execution_count": null,
   "id": "d1cee660",
   "metadata": {},
   "outputs": [],
   "source": [
    "mrk_c7_b8_cd8  <- FindAllMarkers(aggexp_cd8)"
   ]
  },
  {
   "cell_type": "code",
   "execution_count": null,
   "id": "12077207",
   "metadata": {
    "scrolled": true
   },
   "outputs": [],
   "source": [
    "mrk_c7_b8_cd8"
   ]
  },
  {
   "cell_type": "code",
   "execution_count": null,
   "id": "baa0c0cb",
   "metadata": {
    "scrolled": true
   },
   "outputs": [],
   "source": [
    "mrk_c7_b8_cd8  %>% arrange(p_val_adj)  %>% dplyr::filter(cluster == \"c7_b8_hom\")"
   ]
  },
  {
   "cell_type": "code",
   "execution_count": null,
   "id": "6e1b8ff9",
   "metadata": {},
   "outputs": [],
   "source": [
    "mrk_c7_b8_cd8  %>% arrange(p_val_adj)  %>% group_by(cluster)  %>% \n",
    "slice_head(n = 5)"
   ]
  },
  {
   "cell_type": "code",
   "execution_count": null,
   "id": "09c8a462",
   "metadata": {},
   "outputs": [],
   "source": [
    "mrk_c7_b8_cd8  %>% arrange(p_val_adj)  %>% dplyr::filter(gene == \"BTN3A2\")"
   ]
  },
  {
   "cell_type": "code",
   "execution_count": null,
   "id": "02a877a0",
   "metadata": {},
   "outputs": [],
   "source": [
    "genes_to_plot  <- mrk_c7_b8_cd8  %>% arrange(p_val_adj)  %>% dplyr::filter(cluster == \"Other\")  %>% pull(gene)"
   ]
  },
  {
   "cell_type": "code",
   "execution_count": null,
   "id": "84f69109",
   "metadata": {},
   "outputs": [],
   "source": [
    "options(repr.plot.width = 12, repr.plot.height = 4)\n",
    "VlnPlot(aggexp_cd8, group.by = \"c7_b8\", features = c(\"BTN3A2\",\"DDIT4L\", \"IL17RA\"), ncol = 4)"
   ]
  },
  {
   "cell_type": "code",
   "execution_count": null,
   "id": "6d288cb2",
   "metadata": {},
   "outputs": [],
   "source": [
    "cd4_l1_full_filt_sub"
   ]
  },
  {
   "cell_type": "code",
   "execution_count": null,
   "id": "803e27df",
   "metadata": {},
   "outputs": [],
   "source": []
  },
  {
   "cell_type": "code",
   "execution_count": null,
   "id": "562a2f27",
   "metadata": {},
   "outputs": [],
   "source": []
  },
  {
   "cell_type": "code",
   "execution_count": null,
   "id": "b73c420e",
   "metadata": {},
   "outputs": [],
   "source": [
    "rm(cd4_l1_full_filt_sub)"
   ]
  },
  {
   "cell_type": "code",
   "execution_count": null,
   "id": "05286132",
   "metadata": {},
   "outputs": [],
   "source": [
    "rm(cd8_l1_full_filt_sub)"
   ]
  },
  {
   "cell_type": "markdown",
   "id": "824950bc",
   "metadata": {},
   "source": [
    "### CD8"
   ]
  },
  {
   "cell_type": "markdown",
   "id": "1418e0bd",
   "metadata": {},
   "source": [
    "### CD4"
   ]
  }
 ],
 "metadata": {
  "kernelspec": {
   "display_name": "R",
   "language": "R",
   "name": "ir"
  },
  "language_info": {
   "codemirror_mode": "r",
   "file_extension": ".r",
   "mimetype": "text/x-r-source",
   "name": "R",
   "pygments_lexer": "r",
   "version": "4.5.0"
  },
  "toc": {
   "base_numbering": 1,
   "nav_menu": {},
   "number_sections": true,
   "sideBar": true,
   "skip_h1_title": false,
   "title_cell": "Table of Contents",
   "title_sidebar": "Contents",
   "toc_cell": false,
   "toc_position": {},
   "toc_section_display": true,
   "toc_window_display": true
  }
 },
 "nbformat": 4,
 "nbformat_minor": 5
}
