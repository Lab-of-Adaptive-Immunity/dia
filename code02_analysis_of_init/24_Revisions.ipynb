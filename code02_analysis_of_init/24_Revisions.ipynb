{
 "cells": [
  {
   "cell_type": "markdown",
   "id": "56b1f54f",
   "metadata": {},
   "source": [
    "# Part 24: Revisions"
   ]
  },
  {
   "cell_type": "markdown",
   "id": "885a6f69",
   "metadata": {},
   "source": [
    "In tis document, we address various questions raised by the reviewers. "
   ]
  },
  {
   "cell_type": "code",
   "execution_count": null,
   "id": "95e9277a",
   "metadata": {
    "scrolled": true
   },
   "outputs": [],
   "source": [
    "source(\"diabetes_analysis_v07.R\")"
   ]
  },
  {
   "cell_type": "code",
   "execution_count": null,
   "id": "8919e21f",
   "metadata": {},
   "outputs": [],
   "source": [
    ".libPaths(\"~/R/x86_64-pc-linux-gnu-library/4.4/\")"
   ]
  },
  {
   "cell_type": "markdown",
   "id": "2af78b12",
   "metadata": {},
   "source": [
    "Formating plots:\n"
   ]
  },
  {
   "cell_type": "code",
   "execution_count": null,
   "id": "53513235",
   "metadata": {},
   "outputs": [],
   "source": [
    "ggtheme <- function() {\n",
    "  theme(\n",
    "    axis.text = element_text(size = 20),\n",
    "    axis.title = element_text(size = 20),\n",
    "    text = element_text(size = 20, colour = \"black\"),\n",
    "    legend.text = element_text(size = 20),\n",
    "    legend.key.size =  unit(10, units = \"points\")\n",
    "    \n",
    "  )\n",
    "}"
   ]
  },
  {
   "cell_type": "markdown",
   "id": "a0f5cc9e",
   "metadata": {},
   "source": [
    "# Phenotype of Naive cells"
   ]
  },
  {
   "cell_type": "code",
   "execution_count": null,
   "id": "89132030",
   "metadata": {},
   "outputs": [],
   "source": [
    "cd4_l2_subcluster  <- readRDS(\"../../240218_VN_Diabetes_V05/data/processed/L2/cd4_subcluster.rds\")\n",
    "cd8_l2_subcluster  <- readRDS(\"../../240218_VN_Diabetes_V05/data/processed/L2/cd8_l2_subcluster.rds\")"
   ]
  },
  {
   "cell_type": "code",
   "execution_count": null,
   "id": "9b2bab4d",
   "metadata": {},
   "outputs": [],
   "source": [
    "cd4_naive  <- readRDS(\"../../240218_VN_Diabetes_V05/data/processed/L3/cd4_l3_naive.rds\")\n",
    "cd8_naive  <- readRDS(\"../../240218_VN_Diabetes_V05/data/processed/L3/cd8_l3_naive.rds\")"
   ]
  },
  {
   "cell_type": "code",
   "execution_count": null,
   "id": "f3c01fdd",
   "metadata": {},
   "outputs": [],
   "source": [
    "ls()"
   ]
  },
  {
   "cell_type": "markdown",
   "id": "a69472e2",
   "metadata": {},
   "source": [
    "## Coexpression of naive markers in the same cells"
   ]
  },
  {
   "cell_type": "markdown",
   "id": "498e1128",
   "metadata": {},
   "source": [
    "### CD4"
   ]
  },
  {
   "cell_type": "code",
   "execution_count": null,
   "id": "b90354d5",
   "metadata": {},
   "outputs": [],
   "source": [
    "DefaultAssay(cd4_naive)  <- \"RNA\""
   ]
  },
  {
   "cell_type": "code",
   "execution_count": null,
   "id": "9e6d50d7",
   "metadata": {},
   "outputs": [],
   "source": [
    "options(repr.plot.width = 9, repr.plot.height = 5)\n",
    "DimPlot(cd4_naive, group.by = \"annotations_manual\")"
   ]
  },
  {
   "cell_type": "code",
   "execution_count": null,
   "id": "18f4014d",
   "metadata": {},
   "outputs": [],
   "source": [
    "options(repr.plot.width = 15, repr.plot.height = 8)\n",
    "FeaturePlot(cd4_naive, features = c(\"LEF1\", \"BACH2\", \"IL7R\", \"CXCR4\", \"ZFP36L2\",\n",
    "                                    \"BTG1\",\"BTG2\",\"KLF2\",\"IL7R\"), min.cutoff = 0,\n",
    "           ncol = 4)"
   ]
  },
  {
   "cell_type": "code",
   "execution_count": null,
   "id": "be7bf9d9",
   "metadata": {},
   "outputs": [],
   "source": [
    "options(repr.plot.width = 6, repr.plot.height = 5)\n",
    "VlnPlot(cd4_naive, group.by = \"annotations_manual\", features = c(\"LEF1\"), pt.size = 0) + NoLegend()\n",
    "VlnPlot(cd4_naive, group.by = \"annotations_manual\", features = c(\"BACH2\"), pt.size = 0) + NoLegend()\n",
    "VlnPlot(cd4_naive, group.by = \"annotations_manual\", features = c(\"IL7R\"), pt.size = 0) + NoLegend()\n",
    "VlnPlot(cd4_naive, group.by = \"annotations_manual\", features = c(\"CXCR4\"), pt.size = 0) + NoLegend()\n",
    "VlnPlot(cd4_naive, group.by = \"annotations_manual\", features = c(\"ZFP36L2\"), pt.size = 0) + NoLegend()\n",
    "VlnPlot(cd4_naive, group.by = \"annotations_manual\", features = c(\"BTG1\"), pt.size = 0) + NoLegend()\n",
    "VlnPlot(cd4_naive, group.by = \"annotations_manual\", features = c(\"BTG2\"), pt.size = 0) + NoLegend()\n",
    "VlnPlot(cd4_naive, group.by = \"annotations_manual\", features = c(\"KLF2\"), pt.size = 0) + NoLegend()"
   ]
  },
  {
   "cell_type": "code",
   "execution_count": null,
   "id": "d2d56f54",
   "metadata": {
    "scrolled": true
   },
   "outputs": [],
   "source": [
    "options(repr.plot.width=10, repr.plot.height=16)\n",
    "pct_expressing_boxplot(seurat_object = cd4_naive, group.by = \"annotations_manual\", gene = \"LEF1\", sample.col = \"Sample_ID\") +\n",
    "pct_expressing_boxplot(seurat_object = cd4_naive, group.by = \"annotations_manual\", gene = \"BACH2\", sample.col = \"Sample_ID\") +\n",
    "pct_expressing_boxplot(seurat_object = cd4_naive, group.by = \"annotations_manual\", gene = \"IL7R\", sample.col = \"Sample_ID\") +\n",
    "pct_expressing_boxplot(seurat_object = cd4_naive, group.by = \"annotations_manual\", gene = \"CXCR4\", sample.col = \"Sample_ID\") +\n",
    "pct_expressing_boxplot(seurat_object = cd4_naive, group.by = \"annotations_manual\", gene = \"ZFP36L2\", sample.col = \"Sample_ID\") +\n",
    "pct_expressing_boxplot(seurat_object = cd4_naive, group.by = \"annotations_manual\", gene = \"BTG1\", sample.col = \"Sample_ID\") +\n",
    "pct_expressing_boxplot(seurat_object = cd4_naive, group.by = \"annotations_manual\", gene = \"BTG2\", sample.col = \"Sample_ID\") +\n",
    "pct_expressing_boxplot(seurat_object = cd4_naive, group.by = \"annotations_manual\", gene = \"KLF2\", sample.col = \"Sample_ID\") +\n",
    "plot_layout(ncol = 4)"
   ]
  },
  {
   "cell_type": "markdown",
   "id": "5031bf60",
   "metadata": {},
   "source": [
    "### CD8"
   ]
  },
  {
   "cell_type": "code",
   "execution_count": null,
   "id": "9814fa46",
   "metadata": {},
   "outputs": [],
   "source": [
    "options(repr.plot.width = 9, repr.plot.height = 5)\n",
    "DimPlot(cd8_naive, group.by = \"annotations_manual\")"
   ]
  },
  {
   "cell_type": "code",
   "execution_count": null,
   "id": "e6edd629",
   "metadata": {},
   "outputs": [],
   "source": [
    "DefaultAssay(cd8_naive)  <- \"RNA\""
   ]
  },
  {
   "cell_type": "code",
   "execution_count": null,
   "id": "992795b3",
   "metadata": {
    "scrolled": true
   },
   "outputs": [],
   "source": [
    "options(repr.plot.width = 15, repr.plot.height = 8)\n",
    "FeaturePlot(cd8_naive, features = c(\"LEF1\", \"BACH2\", \"IL7R\", \"CXCR4\", \"ZFP36L2\",\n",
    "                                    \"BTG1\",\"BTG2\",\"KLF2\",\"IL7R\"), min.cutoff = 0,\n",
    "           ncol = 4)"
   ]
  },
  {
   "cell_type": "code",
   "execution_count": null,
   "id": "2b348285",
   "metadata": {},
   "outputs": [],
   "source": [
    "options(repr.plot.width = 6, repr.plot.height = 5)\n",
    "VlnPlot(cd8_naive, group.by = \"annotations_manual\", features = c(\"LEF1\"), pt.size = 0) + NoLegend()\n",
    "VlnPlot(cd8_naive, group.by = \"annotations_manual\", features = c(\"BACH2\"), pt.size = 0) + NoLegend()\n",
    "VlnPlot(cd8_naive, group.by = \"annotations_manual\", features = c(\"IL7R\"), pt.size = 0) + NoLegend()\n",
    "VlnPlot(cd8_naive, group.by = \"annotations_manual\", features = c(\"CXCR4\"), pt.size = 0) + NoLegend()\n",
    "VlnPlot(cd8_naive, group.by = \"annotations_manual\", features = c(\"ZFP36L2\"), pt.size = 0) + NoLegend()\n",
    "VlnPlot(cd8_naive, group.by = \"annotations_manual\", features = c(\"BTG1\"), pt.size = 0) + NoLegend()\n",
    "VlnPlot(cd8_naive, group.by = \"annotations_manual\", features = c(\"BTG2\"), pt.size = 0) + NoLegend()\n",
    "VlnPlot(cd8_naive, group.by = \"annotations_manual\", features = c(\"KLF2\"), pt.size = 0) + NoLegend()"
   ]
  },
  {
   "cell_type": "code",
   "execution_count": null,
   "id": "53ed9d0f",
   "metadata": {},
   "outputs": [],
   "source": [
    "pct_expressing_boxplot  <- function(seurat_object, gene, group.by = \"annotations_l2\", sample.col = \"sample\"){\n",
    "   rn = which(rownames(seurat_object@assays$RNA)==gene)\n",
    "ggtheme = function() {\n",
    "  theme(\n",
    "    axis.text = element_text(size = 20),\n",
    "    axis.title = element_text(size = 20),\n",
    "    text = element_text(size = 20, colour = \"black\"),\n",
    "    legend.text = element_text(size = 20),\n",
    "    legend.key.size =  unit(10, units = \"points\")\n",
    "    \n",
    "  )\n",
    "}\n",
    "\n",
    "df = data.frame(grouping_var = seurat_object@meta.data[[group.by]],\n",
    "               value = seurat_object@assays$RNA@counts[rn,], \n",
    "               sample = seurat_object@meta.data[[sample.col]])  %>% \n",
    "mutate(expressing = if_else(value>0,1,0))  %>% \n",
    "dplyr::select(-value)  %>% \n",
    "group_by(sample, grouping_var)  %>% \n",
    "summarise(mean_expression = mean(expressing))  %>% \n",
    "pivot_wider(names_from = sample, values_from = mean_expression, values_fill = 0)  %>% \n",
    "pivot_longer(!grouping_var, names_to = \"sample\", values_to = \"expressing\")\n",
    "\n",
    "plt = ggplot(data = df, aes(x = grouping_var, y = expressing)) +\n",
    "geom_boxplot(outlier.shape = NA, aes(fill = grouping_var), alpha = 0.3) + \n",
    "  geom_dotplot(binaxis='y', stackdir='center', dotsize=0) + \n",
    "  geom_jitter(width = 0.1, height = 0.0, size = 2, aes(color = grouping_var)) +\n",
    "theme_classic() +\n",
    "    theme(plot.title = element_text(hjust = 0.5)) +\n",
    "    theme(axis.text.x = element_text(angle = 90, vjust = 0.5)) +\n",
    "ggtheme() +\n",
    "    ggtitle(gene) +\n",
    "    ylab(\"Pct expressing cells\") +\n",
    "xlab(\"\") + NoLegend()\n",
    "    return(plt)\n",
    "    }\n"
   ]
  },
  {
   "cell_type": "code",
   "execution_count": null,
   "id": "6ac7bdc8",
   "metadata": {
    "scrolled": true
   },
   "outputs": [],
   "source": [
    "options(repr.plot.width=10, repr.plot.height=16)\n",
    "pct_expressing_boxplot(seurat_object = cd8_naive, group.by = \"annotations_manual\", gene = \"LEF1\", sample.col = \"Sample_ID\") +\n",
    "pct_expressing_boxplot(seurat_object = cd8_naive, group.by = \"annotations_manual\", gene = \"BACH2\", sample.col = \"Sample_ID\") +\n",
    "pct_expressing_boxplot(seurat_object = cd8_naive, group.by = \"annotations_manual\", gene = \"IL7R\", sample.col = \"Sample_ID\") +\n",
    "pct_expressing_boxplot(seurat_object = cd8_naive, group.by = \"annotations_manual\", gene = \"CXCR4\", sample.col = \"Sample_ID\") +\n",
    "pct_expressing_boxplot(seurat_object = cd8_naive, group.by = \"annotations_manual\", gene = \"ZFP36L2\", sample.col = \"Sample_ID\") +\n",
    "pct_expressing_boxplot(seurat_object = cd8_naive, group.by = \"annotations_manual\", gene = \"BTG1\", sample.col = \"Sample_ID\") +\n",
    "pct_expressing_boxplot(seurat_object = cd8_naive, group.by = \"annotations_manual\", gene = \"BTG2\", sample.col = \"Sample_ID\") +\n",
    "pct_expressing_boxplot(seurat_object = cd8_naive, group.by = \"annotations_manual\", gene = \"KLF2\", sample.col = \"Sample_ID\") +\n",
    "plot_layout(ncol = 4)"
   ]
  },
  {
   "cell_type": "code",
   "execution_count": null,
   "id": "13aa8f6a",
   "metadata": {},
   "outputs": [],
   "source": [
    "DefaultAssay(cd8_l2_subcluster)  <- \"RNA\"\n",
    "\n",
    "options(repr.plot.width = 15, repr.plot.height = 8)\n",
    "FeaturePlot(cd8_l1_full_filt, features = c(\"LEF1\", \"BACH2\", \"IL7R\", \"CXCR4\", \"ZFP36L2\",\n",
    "                                    \"BTG1\",\"BTG2\",\"KLF2\",\"IL7R\"), min.cutoff = 0,\n",
    "           ncol = 4)"
   ]
  },
  {
   "cell_type": "code",
   "execution_count": null,
   "id": "556d1def",
   "metadata": {},
   "outputs": [],
   "source": [
    "DefaultAssay(cd8_l2_subcluster)  <- \"RNA\"\n",
    "\n",
    "options(repr.plot.width = 15, repr.plot.height = 8)\n",
    "FeaturePlot(cd8_l1_full_filt, features = c(\"KLRG1\", \"SELL\", \"CCR7\", \"CXCR3\", \"TCF7\",\n",
    "                                    \"CX3CR1\",\"CD27\",\"CD28\"), min.cutoff = 0,\n",
    "           ncol = 4)"
   ]
  },
  {
   "cell_type": "code",
   "execution_count": null,
   "id": "e012de33",
   "metadata": {},
   "outputs": [],
   "source": [
    "options(repr.plot.width=13, repr.plot.height=16)\n",
    "pct_expressing_boxplot(seurat_object = cd8_l1_full_filt, group.by = \"annotations_l2\", gene = \"LEF1\", sample.col = \"Sample_ID\") +\n",
    "pct_expressing_boxplot(seurat_object = cd8_l1_full_filt, group.by = \"annotations_l2\", gene = \"BACH2\", sample.col = \"Sample_ID\") +\n",
    "pct_expressing_boxplot(seurat_object = cd8_l1_full_filt, group.by = \"annotations_l2\", gene = \"IL7R\", sample.col = \"Sample_ID\") +\n",
    "pct_expressing_boxplot(seurat_object = cd8_l1_full_filt, group.by = \"annotations_l2\", gene = \"CXCR4\", sample.col = \"Sample_ID\") +\n",
    "pct_expressing_boxplot(seurat_object = cd8_l1_full_filt, group.by = \"annotations_l2\", gene = \"ZFP36L2\", sample.col = \"Sample_ID\") +\n",
    "pct_expressing_boxplot(seurat_object = cd8_l1_full_filt, group.by = \"annotations_l2\", gene = \"BTG1\", sample.col = \"Sample_ID\") +\n",
    "pct_expressing_boxplot(seurat_object = cd8_l1_full_filt, group.by = \"annotations_l2\", gene = \"BTG2\", sample.col = \"Sample_ID\") +\n",
    "pct_expressing_boxplot(seurat_object = cd8_l1_full_filt, group.by = \"annotations_l2\", gene = \"KLF2\", sample.col = \"Sample_ID\") +\n",
    "plot_layout(ncol = 4)"
   ]
  },
  {
   "cell_type": "markdown",
   "id": "5f509641",
   "metadata": {},
   "source": [
    "## Wherry annotations"
   ]
  },
  {
   "cell_type": "code",
   "execution_count": null,
   "id": "36a1b4f2",
   "metadata": {},
   "outputs": [],
   "source": [
    "load(\"../../VN_misc/ref_wherry_new.RData\")"
   ]
  },
  {
   "cell_type": "code",
   "execution_count": null,
   "id": "0e76462a",
   "metadata": {},
   "outputs": [],
   "source": [
    "ref_wherry_new"
   ]
  },
  {
   "cell_type": "code",
   "execution_count": null,
   "id": "2e6a4894",
   "metadata": {},
   "outputs": [],
   "source": [
    "plan(\"multisession\")"
   ]
  },
  {
   "cell_type": "code",
   "execution_count": null,
   "id": "db255273",
   "metadata": {},
   "outputs": [],
   "source": [
    "cd8_naive_matrix  <- cd8_naive@assays$RNA@counts\n",
    "\n",
    "cd8_full_matrix  <- cd8_l1_full_filt@assays$RNA@counts\n"
   ]
  },
  {
   "cell_type": "markdown",
   "id": "63441b1c",
   "metadata": {},
   "source": [
    "### Annotation of CD8 Naive"
   ]
  },
  {
   "cell_type": "code",
   "execution_count": null,
   "id": "28a45503",
   "metadata": {},
   "outputs": [],
   "source": [
    "### Annotate the dataset with Wherry dataset\n",
    "        pred.singler2 <- SingleR(test = cd8_naive_matrix, ref = ref_wherry_new$matrix,\n",
    "        labels = ref_wherry_new$labels, de.method=\"wilcox\", fine.tune = F, num.threads = 4)\n"
   ]
  },
  {
   "cell_type": "code",
   "execution_count": null,
   "id": "a3d9d1de",
   "metadata": {
    "scrolled": true
   },
   "outputs": [],
   "source": [
    "pred.singler2$scores"
   ]
  },
  {
   "cell_type": "code",
   "execution_count": null,
   "id": "ebdadd12",
   "metadata": {},
   "outputs": [],
   "source": [
    "mtx  <- pred.singler2$scores\n",
    "rownames(mtx)  <- colnames(cd8_naive$RNA)"
   ]
  },
  {
   "cell_type": "code",
   "execution_count": null,
   "id": "1009bb19",
   "metadata": {
    "scrolled": true
   },
   "outputs": [],
   "source": [
    "mtx"
   ]
  },
  {
   "cell_type": "code",
   "execution_count": null,
   "id": "396f7544",
   "metadata": {},
   "outputs": [],
   "source": [
    "cd8_naive$singler  <- pred.singler2$labels"
   ]
  },
  {
   "cell_type": "code",
   "execution_count": null,
   "id": "ad4be397",
   "metadata": {},
   "outputs": [],
   "source": [
    "options(repr.plot.width = 6, repr.plot.height = 4.5)\n",
    "DimPlot(cd8_naive, group.by = \"singler\", shuffle = T)"
   ]
  },
  {
   "cell_type": "code",
   "execution_count": null,
   "id": "b37e78aa",
   "metadata": {},
   "outputs": [],
   "source": [
    "test  <- data.frame(annotation = cd8_naive$annotations_manual,\n",
    "                    pred = cd8_naive$singler, \n",
    "                    score_CD8_Naive = mtx[,\"CD8_Naive\"],\n",
    "                    score_CD8_CM = mtx[,\"CD8_CM\"],\n",
    "                    score_CD8_SCM_R3neg = mtx[,\"CD8_SCM-R3-\"],\n",
    "                    score_CD8_SCM_R3pos = mtx[,\"CD8_SCM-R3+\"]\n",
    "                     )"
   ]
  },
  {
   "cell_type": "code",
   "execution_count": null,
   "id": "62c52c54",
   "metadata": {},
   "outputs": [],
   "source": [
    "test"
   ]
  },
  {
   "cell_type": "code",
   "execution_count": null,
   "id": "3f28dc11",
   "metadata": {},
   "outputs": [],
   "source": [
    "df2 <- test %>% group_by(annotation, pred) %>% \n",
    "  summarise(n = n()) %>%\n",
    "  mutate(freq = n / sum(n))"
   ]
  },
  {
   "cell_type": "code",
   "execution_count": null,
   "id": "33f2614b",
   "metadata": {
    "scrolled": true
   },
   "outputs": [],
   "source": [
    "df2"
   ]
  },
  {
   "cell_type": "code",
   "execution_count": null,
   "id": "eb1e3b95",
   "metadata": {
    "scrolled": true
   },
   "outputs": [],
   "source": [
    "options(repr.plot.width = 16, repr.plot.height = 4.5)\n",
    "ggplot(test) +\n",
    "  aes(x = annotation, fill = factor(pred)) +\n",
    "  geom_bar(position = \"fill\") + \n",
    "theme_classic() + \n",
    "ggtheme() +\n",
    "coord_flip() \n",
    "#scale_fill_manual(values = c(\"#d6ebd2ff\", \"lightskyblue1\", \"red2\"))\n",
    "#scale_fill_manual(values = c(\"grey\",\"#74bc68ff\", \"dodgerblue3\", \"red2\"))"
   ]
  },
  {
   "cell_type": "markdown",
   "id": "1aa09c48",
   "metadata": {},
   "source": [
    "### Annotation of CD8 All"
   ]
  },
  {
   "cell_type": "code",
   "execution_count": null,
   "id": "c78157b4",
   "metadata": {},
   "outputs": [],
   "source": [
    "### Annotate the dataset with Wherry dataset\n",
    "        pred.singler2 <- SingleR(test = cd8_full_matrix, ref = ref_wherry_new$matrix,\n",
    "        labels = ref_wherry_new$labels, de.method=\"wilcox\", fine.tune = F, num.threads = 4)\n"
   ]
  },
  {
   "cell_type": "code",
   "execution_count": null,
   "id": "e249c528",
   "metadata": {
    "scrolled": true
   },
   "outputs": [],
   "source": [
    "pred.singler2$scores"
   ]
  },
  {
   "cell_type": "code",
   "execution_count": null,
   "id": "3951b742",
   "metadata": {},
   "outputs": [],
   "source": [
    "mtx  <- pred.singler2$scores\n",
    "rownames(mtx)  <- colnames(cd8_l1_full_filt$RNA)"
   ]
  },
  {
   "cell_type": "code",
   "execution_count": null,
   "id": "c342f1b3",
   "metadata": {
    "scrolled": true
   },
   "outputs": [],
   "source": [
    "mtx"
   ]
  },
  {
   "cell_type": "code",
   "execution_count": null,
   "id": "8408991b",
   "metadata": {},
   "outputs": [],
   "source": [
    "cd8_l1_full_filt$singler  <- pred.singler2$labels"
   ]
  },
  {
   "cell_type": "code",
   "execution_count": null,
   "id": "57c55772",
   "metadata": {},
   "outputs": [],
   "source": [
    "options(repr.plot.width = 6, repr.plot.height = 4.5)\n",
    "DimPlot(cd8_l1_full_filt, group.by = \"singler\", shuffle = T)"
   ]
  },
  {
   "cell_type": "code",
   "execution_count": null,
   "id": "a86dc8ed",
   "metadata": {},
   "outputs": [],
   "source": [
    "test  <- data.frame(annotation = cd8_l1_full_filt$annotations_l2,\n",
    "                    pred = cd8_l1_full_filt$singler, \n",
    "                    score_CD8_Naive = mtx[,\"CD8_Naive\"],\n",
    "                    score_CD8_CM = mtx[,\"CD8_CM\"],\n",
    "                    score_CD8_SCM_R3neg = mtx[,\"CD8_SCM-R3-\"],\n",
    "                    score_CD8_SCM_R3pos = mtx[,\"CD8_SCM-R3+\"]\n",
    "                     )"
   ]
  },
  {
   "cell_type": "code",
   "execution_count": null,
   "id": "bd25e8fc",
   "metadata": {},
   "outputs": [],
   "source": [
    "test"
   ]
  },
  {
   "cell_type": "code",
   "execution_count": null,
   "id": "e2860e23",
   "metadata": {},
   "outputs": [],
   "source": [
    "df2 <- test %>% group_by(annotation, pred) %>% \n",
    "  summarise(n = n()) %>%\n",
    "  mutate(freq = n / sum(n))"
   ]
  },
  {
   "cell_type": "code",
   "execution_count": null,
   "id": "eeb39881",
   "metadata": {
    "scrolled": true
   },
   "outputs": [],
   "source": [
    "df2"
   ]
  },
  {
   "cell_type": "code",
   "execution_count": null,
   "id": "56d45110",
   "metadata": {
    "scrolled": true
   },
   "outputs": [],
   "source": [
    "options(repr.plot.width = 16, repr.plot.height = 4.5)\n",
    "ggplot(test) +\n",
    "  aes(x = annotation, fill = factor(pred)) +\n",
    "  geom_bar(position = \"fill\") + \n",
    "theme_classic() + \n",
    "ggtheme() +\n",
    "coord_flip() \n",
    "#scale_fill_manual(values = c(\"#d6ebd2ff\", \"lightskyblue1\", \"red2\"))\n",
    "#scale_fill_manual(values = c(\"grey\",\"#74bc68ff\", \"dodgerblue3\", \"red2\"))"
   ]
  },
  {
   "cell_type": "markdown",
   "id": "e543d62c",
   "metadata": {},
   "source": [
    "### Annotation of CD4 Naive"
   ]
  },
  {
   "cell_type": "code",
   "execution_count": null,
   "id": "b8066023",
   "metadata": {},
   "outputs": [],
   "source": [
    "cd4_naive_matrix  <- cd4_naive@assays$RNA@counts\n",
    "cd4_full_matrix <- cd4_l1_full_filt@assays$RNA@counts"
   ]
  },
  {
   "cell_type": "code",
   "execution_count": null,
   "id": "bb1314fd",
   "metadata": {},
   "outputs": [],
   "source": [
    "### Annotate the dataset with Wherry dataset\n",
    "        pred.singler2 <- SingleR(test = cd4_naive_matrix, ref = ref_wherry_new$matrix,\n",
    "        labels = ref_wherry_new$labels, de.method=\"wilcox\", fine.tune = F, num.threads = 4)\n"
   ]
  },
  {
   "cell_type": "code",
   "execution_count": null,
   "id": "d52b2977",
   "metadata": {
    "scrolled": true
   },
   "outputs": [],
   "source": [
    "pred.singler2$scores"
   ]
  },
  {
   "cell_type": "code",
   "execution_count": null,
   "id": "2049bdea",
   "metadata": {},
   "outputs": [],
   "source": [
    "mtx  <- pred.singler2$scores\n",
    "rownames(mtx)  <- colnames(cd4_naive$RNA)"
   ]
  },
  {
   "cell_type": "code",
   "execution_count": null,
   "id": "4d0bfb82",
   "metadata": {
    "scrolled": true
   },
   "outputs": [],
   "source": [
    "mtx"
   ]
  },
  {
   "cell_type": "code",
   "execution_count": null,
   "id": "23e94fb0",
   "metadata": {},
   "outputs": [],
   "source": [
    "cd4_naive$singler  <- pred.singler2$labels"
   ]
  },
  {
   "cell_type": "code",
   "execution_count": null,
   "id": "4125bddd",
   "metadata": {},
   "outputs": [],
   "source": [
    "options(repr.plot.width = 6, repr.plot.height = 4.5)\n",
    "DimPlot(cd4_naive, group.by = \"singler\", shuffle = T)"
   ]
  },
  {
   "cell_type": "code",
   "execution_count": null,
   "id": "b48f436d",
   "metadata": {},
   "outputs": [],
   "source": [
    "test  <- data.frame(annotation = cd4_naive$annotations_manual,\n",
    "                    pred = cd4_naive$singler, \n",
    "                    score_cd4_BulkNaive = mtx[,\"CD4_BulkNaive\"],\n",
    "                    score_cd8_Naive = mtx[,\"CD8_Naive\"],\n",
    "                    score_cd8_CM = mtx[,\"CD8_CM\"],\n",
    "                    score_cd8_SCM_R3neg = mtx[,\"CD8_SCM-R3-\"],\n",
    "                    score_cd8_SCM_R3pos = mtx[,\"CD8_SCM-R3+\"]\n",
    "                     )"
   ]
  },
  {
   "cell_type": "code",
   "execution_count": null,
   "id": "e28c1b4b",
   "metadata": {},
   "outputs": [],
   "source": [
    "test"
   ]
  },
  {
   "cell_type": "code",
   "execution_count": null,
   "id": "6f9e8b57",
   "metadata": {},
   "outputs": [],
   "source": [
    "df2 <- test %>% group_by(annotation, pred) %>% \n",
    "  summarise(n = n()) %>%\n",
    "  mutate(freq = n / sum(n))"
   ]
  },
  {
   "cell_type": "code",
   "execution_count": null,
   "id": "8f28193e",
   "metadata": {
    "scrolled": true
   },
   "outputs": [],
   "source": [
    "df2"
   ]
  },
  {
   "cell_type": "code",
   "execution_count": null,
   "id": "075e4e16",
   "metadata": {
    "scrolled": true
   },
   "outputs": [],
   "source": [
    "options(repr.plot.width = 16, repr.plot.height = 4.5)\n",
    "ggplot(test) +\n",
    "  aes(x = annotation, fill = factor(pred)) +\n",
    "  geom_bar(position = \"fill\") + \n",
    "theme_classic() + \n",
    "ggtheme() +\n",
    "coord_flip() \n",
    "#scale_fill_manual(values = c(\"#d6ebd2ff\", \"lightskyblue1\", \"red2\"))\n",
    "#scale_fill_manual(values = c(\"grey\",\"#74bc68ff\", \"dodgerblue3\", \"red2\"))"
   ]
  },
  {
   "cell_type": "markdown",
   "id": "59d19520",
   "metadata": {},
   "source": [
    "### Annotation of CD4 All"
   ]
  },
  {
   "cell_type": "code",
   "execution_count": null,
   "id": "66ea3bb7",
   "metadata": {},
   "outputs": [],
   "source": [
    "### Annotate the dataset with Wherry dataset\n",
    "        pred.singler2 <- SingleR(test = cd4_full_matrix, ref = ref_wherry_new$matrix,\n",
    "        labels = ref_wherry_new$labels, de.method=\"wilcox\", fine.tune = F, num.threads = 4)\n"
   ]
  },
  {
   "cell_type": "code",
   "execution_count": null,
   "id": "0cfca6d4",
   "metadata": {
    "scrolled": true
   },
   "outputs": [],
   "source": [
    "pred.singler2$scores"
   ]
  },
  {
   "cell_type": "code",
   "execution_count": null,
   "id": "e280dbfc",
   "metadata": {},
   "outputs": [],
   "source": [
    "mtx  <- pred.singler2$scores\n",
    "rownames(mtx)  <- colnames(cd4_l1_full_filt$RNA)"
   ]
  },
  {
   "cell_type": "code",
   "execution_count": null,
   "id": "85e7917d",
   "metadata": {
    "scrolled": true
   },
   "outputs": [],
   "source": [
    "mtx"
   ]
  },
  {
   "cell_type": "code",
   "execution_count": null,
   "id": "abc7f435",
   "metadata": {},
   "outputs": [],
   "source": [
    "cd4_l1_full_filt$singler  <- pred.singler2$labels"
   ]
  },
  {
   "cell_type": "code",
   "execution_count": null,
   "id": "d2f74dcc",
   "metadata": {},
   "outputs": [],
   "source": [
    "options(repr.plot.width = 6, repr.plot.height = 4.5)\n",
    "DimPlot(cd4_l1_full_filt, group.by = \"singler\", shuffle = T)"
   ]
  },
  {
   "cell_type": "code",
   "execution_count": null,
   "id": "c7dc68c0",
   "metadata": {},
   "outputs": [],
   "source": [
    "test  <- data.frame(annotation = cd4_l1_full_filt$annotations_l2,\n",
    "                    pred = cd4_l1_full_filt$singler, \n",
    "                    score_cd4_BulkNaive = mtx[,\"CD4_BulkNaive\"],\n",
    "                    score_cd8_Naive = mtx[,\"CD8_Naive\"],\n",
    "                    score_cd8_CM = mtx[,\"CD8_CM\"],\n",
    "                    score_cd8_SCM_R3neg = mtx[,\"CD8_SCM-R3-\"],\n",
    "                    score_cd8_SCM_R3pos = mtx[,\"CD8_SCM-R3+\"]\n",
    "                     )"
   ]
  },
  {
   "cell_type": "code",
   "execution_count": null,
   "id": "e6c74208",
   "metadata": {},
   "outputs": [],
   "source": [
    "test"
   ]
  },
  {
   "cell_type": "code",
   "execution_count": null,
   "id": "588acf2a",
   "metadata": {},
   "outputs": [],
   "source": [
    "df2 <- test %>% group_by(annotation, pred) %>% \n",
    "  summarise(n = n()) %>%\n",
    "  mutate(freq = n / sum(n))"
   ]
  },
  {
   "cell_type": "code",
   "execution_count": null,
   "id": "099de03e",
   "metadata": {
    "scrolled": true
   },
   "outputs": [],
   "source": [
    "df2"
   ]
  },
  {
   "cell_type": "code",
   "execution_count": null,
   "id": "773544d2",
   "metadata": {
    "scrolled": true
   },
   "outputs": [],
   "source": [
    "options(repr.plot.width = 16, repr.plot.height = 4.5)\n",
    "ggplot(test) +\n",
    "  aes(x = annotation, fill = factor(pred)) +\n",
    "  geom_bar(position = \"fill\") + \n",
    "theme_classic() + \n",
    "ggtheme() +\n",
    "coord_flip() \n",
    "#scale_fill_manual(values = c(\"#d6ebd2ff\", \"lightskyblue1\", \"red2\"))\n",
    "#scale_fill_manual(values = c(\"grey\",\"#74bc68ff\", \"dodgerblue3\", \"red2\"))"
   ]
  },
  {
   "cell_type": "markdown",
   "id": "f808db3c",
   "metadata": {},
   "source": [
    "### Coexpression - coexpressing vs non-coexpressing cells"
   ]
  },
  {
   "cell_type": "markdown",
   "id": "bffb40df",
   "metadata": {},
   "source": [
    "### CD4"
   ]
  },
  {
   "cell_type": "code",
   "execution_count": null,
   "id": "3194160c",
   "metadata": {},
   "outputs": [],
   "source": [
    "seurat_object = cd4_naive\n",
    "genes = c(\"LEF1\", \"BACH2\", \"IL7R\", \"CXCR4\", \"ZFP36L2\", \"SELL\",\n",
    "                                    \"BTG1\",\"BTG2\",\"KLF2\",\"IL7R\",\"CCR7\")\n"
   ]
  },
  {
   "cell_type": "code",
   "execution_count": null,
   "id": "b178dd1a",
   "metadata": {},
   "outputs": [],
   "source": [
    "rns = which(rownames(seurat_object@assays$RNA) %in% genes)\n",
    "df = seurat_object@assays$RNA@counts[rns,]  %>% t()  %>% as.data.frame()"
   ]
  },
  {
   "cell_type": "code",
   "execution_count": null,
   "id": "30574ba3",
   "metadata": {
    "scrolled": true
   },
   "outputs": [],
   "source": [
    "df"
   ]
  },
  {
   "cell_type": "code",
   "execution_count": null,
   "id": "6fbd25db",
   "metadata": {},
   "outputs": [],
   "source": [
    "binary  <- function(x){\n",
    "    x  <- if_else(x>0,1,0)\n",
    "    return(x)\n",
    "}"
   ]
  },
  {
   "cell_type": "code",
   "execution_count": null,
   "id": "7f0df3a7",
   "metadata": {},
   "outputs": [],
   "source": [
    "df = df  %>% \n",
    "mutate_at(.vars = 1:9, .funs = binary)"
   ]
  },
  {
   "cell_type": "code",
   "execution_count": null,
   "id": "ec3303c7",
   "metadata": {
    "scrolled": true
   },
   "outputs": [],
   "source": [
    "df"
   ]
  },
  {
   "cell_type": "code",
   "execution_count": null,
   "id": "f720d643",
   "metadata": {},
   "outputs": [],
   "source": [
    "df$annot  <- seurat_object$annotations_manual\n"
   ]
  },
  {
   "cell_type": "code",
   "execution_count": null,
   "id": "e5cb86e2",
   "metadata": {},
   "outputs": [],
   "source": [
    "plt = ggplot(data = df, aes(x = grouping_var, y = expressing)) +\n",
    "geom_boxplot(outlier.shape = NA, aes(fill = grouping_var), alpha = 0.3) + \n",
    "  geom_dotplot(binaxis='y', stackdir='center', dotsize=0) + \n",
    "  geom_jitter(width = 0.1, height = 0.0, size = 2, aes(color = grouping_var)) +\n",
    "theme_classic() +\n",
    "    theme(plot.title = element_text(hjust = 0.5)) +\n",
    "    theme(axis.text.x = element_text(angle = 90, vjust = 0.5)) +\n",
    "ggtheme() +\n",
    "    ggtitle(gene) +\n",
    "    ylab(\"Pct expressing cells\") +\n",
    "xlab(\"\") + NoLegend()\n",
    "    return(plt)\n",
    "    }"
   ]
  },
  {
   "cell_type": "markdown",
   "id": "02f6fdca",
   "metadata": {},
   "source": [
    "## Which cell type is responsible for the skewed naive vs effector phenotype?"
   ]
  },
  {
   "cell_type": "code",
   "execution_count": null,
   "id": "8fb67cce",
   "metadata": {},
   "outputs": [],
   "source": [
    "paths_fc  <- list.files(\"../../240617_VN_Diabetes_V06/tables/fold_change/\", full.names = T)\n",
    "dataset_names  <- list.files(\"../../240617_VN_Diabetes_V06/tables/fold_change\", full.names = F)\n"
   ]
  },
  {
   "cell_type": "code",
   "execution_count": null,
   "id": "5ea105e5",
   "metadata": {},
   "outputs": [],
   "source": [
    "paths_fc"
   ]
  },
  {
   "cell_type": "code",
   "execution_count": null,
   "id": "73acb73c",
   "metadata": {},
   "outputs": [],
   "source": [
    "paths_fc  <- paths_fc[which(grepl(paths_fc, pattern = \"Ctrl\")|grepl(paths_fc, pattern = \"DiaT0_vs_DiaT1\"))]"
   ]
  },
  {
   "cell_type": "code",
   "execution_count": null,
   "id": "8ee69544",
   "metadata": {},
   "outputs": [],
   "source": [
    "dataset_names  <- dataset_names[which(grepl(dataset_names, pattern = \"Ctrl\")|grepl(dataset_names, pattern = \"DiaT0_vs_DiaT1\"))]"
   ]
  },
  {
   "cell_type": "code",
   "execution_count": null,
   "id": "18b8978a",
   "metadata": {
    "scrolled": false
   },
   "outputs": [],
   "source": [
    "dataset_names"
   ]
  },
  {
   "cell_type": "code",
   "execution_count": null,
   "id": "8b7ef5e9",
   "metadata": {
    "scrolled": true
   },
   "outputs": [],
   "source": [
    "paths_fc"
   ]
  },
  {
   "cell_type": "code",
   "execution_count": null,
   "id": "56ef9035",
   "metadata": {},
   "outputs": [],
   "source": [
    "fc.df  <- read_csv(paths_fc[1])  %>% as.data.frame()"
   ]
  },
  {
   "cell_type": "code",
   "execution_count": null,
   "id": "ba781ea2",
   "metadata": {
    "scrolled": true
   },
   "outputs": [],
   "source": [
    "fc.df %>%  arrange(desc(avg_log2FC)) %>% \n",
    "dplyr::filter(grepl(x = cluster, pattern = \"Dia\")) "
   ]
  },
  {
   "cell_type": "code",
   "execution_count": null,
   "id": "17e4b9b2",
   "metadata": {},
   "outputs": [],
   "source": [
    "fc.df %>%  arrange(desc(avg_log2FC)) %>% \n",
    "dplyr::filter(grepl(x = cluster, pattern = \"Dia\"))  %>% \n",
    "dplyr::filter(gene %in% c(\"LEF1\",\"BACH2\", \"NELL2\", \"TCF7\", \"KLF2\",\"CCR7\",\"SELL\",\n",
    "                          \"IFNG\",\"TBX21\",\"TNF\"))"
   ]
  },
  {
   "cell_type": "code",
   "execution_count": null,
   "id": "ee2c10e3",
   "metadata": {},
   "outputs": [],
   "source": [
    "ls()"
   ]
  },
  {
   "cell_type": "markdown",
   "id": "886d1e43",
   "metadata": {},
   "source": [
    "# DEG Pseudobulk + DESeq2"
   ]
  },
  {
   "cell_type": "code",
   "execution_count": null,
   "id": "7e28eac2",
   "metadata": {},
   "outputs": [],
   "source": [
    "cd4_l1_full_filt  <- readRDS(\"../../240218_VN_Diabetes_V05/data/processed/L1/cd4_l1_full_filt.rds\")"
   ]
  },
  {
   "cell_type": "code",
   "execution_count": null,
   "id": "de6ea11c",
   "metadata": {},
   "outputs": [],
   "source": [
    "cd8_l1_full_filt  <- readRDS(\"../../240218_VN_Diabetes_V05/data/processed/L1/cd8_l1_full_filt.rds\")"
   ]
  },
  {
   "cell_type": "markdown",
   "id": "0fce3088",
   "metadata": {},
   "source": [
    "For DEG analysis, we will only use samples from the final experiment. "
   ]
  },
  {
   "cell_type": "code",
   "execution_count": null,
   "id": "df9f640e",
   "metadata": {},
   "outputs": [],
   "source": [
    "cd4_l1_full_filt_sub  <- subset(cd4_l1_full_filt, Experiment_ID %in% c(\"Exp16\",\"Exp18\",\"Exp19\",\"Exp20\"))"
   ]
  },
  {
   "cell_type": "code",
   "execution_count": null,
   "id": "9f8526b7",
   "metadata": {},
   "outputs": [],
   "source": [
    "cd8_l1_full_filt_sub  <- subset(cd8_l1_full_filt, Experiment_ID %in% c(\"Exp16\",\"Exp18\",\"Exp19\",\"Exp20\"))"
   ]
  },
  {
   "cell_type": "code",
   "execution_count": null,
   "id": "28ab7859",
   "metadata": {},
   "outputs": [],
   "source": [
    "rm(cd4_l1_full_filt)\n",
    "rm(cd8_l1_full_filt)"
   ]
  },
  {
   "cell_type": "markdown",
   "id": "e082c2c7",
   "metadata": {},
   "source": [
    "To be consistent with the Wilcoxon Fold Change analysis, we will group together MAIT and Tgd cells. "
   ]
  },
  {
   "cell_type": "code",
   "execution_count": null,
   "id": "d59273da",
   "metadata": {},
   "outputs": [],
   "source": [
    "cd4_l1_full_filt$annotations_l2  %>% table"
   ]
  },
  {
   "cell_type": "code",
   "execution_count": null,
   "id": "bc316b9c",
   "metadata": {},
   "outputs": [],
   "source": [
    "cd8_l1_full_filt$annotations_l2  %>% table"
   ]
  },
  {
   "cell_type": "code",
   "execution_count": null,
   "id": "3aafbd6a",
   "metadata": {},
   "outputs": [],
   "source": [
    "cd8_l1_full_filt_sub$annotations_l2  %>% table"
   ]
  },
  {
   "cell_type": "code",
   "execution_count": null,
   "id": "876cccb4",
   "metadata": {},
   "outputs": [],
   "source": [
    "cd8_l1_full_filt_sub$annotations_l2  <- ifelse(grepl(cd8_l1_full_filt_sub$annotations_l2, pattern = \"Unconventional\"),\n",
    "                                               \"CD8 Unc\",cd8_l1_full_filt_sub$annotations_l2)"
   ]
  },
  {
   "cell_type": "code",
   "execution_count": null,
   "id": "4b62bb43",
   "metadata": {},
   "outputs": [],
   "source": [
    "cd8_l1_full_filt_sub$annotations_l2  %>% table"
   ]
  },
  {
   "cell_type": "markdown",
   "id": "6f852a19",
   "metadata": {},
   "source": [
    "The DEG will be performed on the RNA assay. We will perform pseudobulk aggregation based on sample and then use DESeq2 to calculate DEG and fold changes. "
   ]
  },
  {
   "cell_type": "markdown",
   "id": "c21d01d3",
   "metadata": {},
   "source": [
    "## CD8 T cells"
   ]
  },
  {
   "cell_type": "code",
   "execution_count": null,
   "id": "91f7105d",
   "metadata": {},
   "outputs": [],
   "source": [
    "genes  <- rownames(cd8_l1_full_filt_sub@assays$RNA)"
   ]
  },
  {
   "cell_type": "code",
   "execution_count": null,
   "id": "7fc3e9db",
   "metadata": {},
   "outputs": [],
   "source": [
    "genes_filt  <- genes[!(grepl(genes, pattern = \"^MT\")|\n",
    "                            grepl(genes, pattern = \"\\\\.\")|\n",
    "                            grepl(genes, pattern = \"LINC\")|\n",
    "                            grepl(genes, pattern = \"^MIR\")|\n",
    "                            grepl(genes, pattern = \"^MT\")|\n",
    "                            grepl(genes, pattern = \"HNRNP\")|\n",
    "                            grepl(genes, pattern = \"^RP[LS]\")|\n",
    "                            grepl(genes, pattern = \"\\\\-\")|\n",
    "                            grepl(genes, pattern = \"TTTY\")|\n",
    "                            grepl(genes, pattern = \"ORF\")|\n",
    "                            grepl(genes, pattern = \"orf\"))\n",
    "                            ]"
   ]
  },
  {
   "cell_type": "code",
   "execution_count": null,
   "id": "0c2b7ff8",
   "metadata": {},
   "outputs": [],
   "source": [
    "aggexp_cd8  <- AggregateExpression(cd8_l1_full_filt_sub, group.by = c(\"Sample_ID\"), \n",
    "                                  features = genes_filt, return.seurat = T, assay = \"RNA\")"
   ]
  },
  {
   "cell_type": "code",
   "execution_count": null,
   "id": "dcd1a16f",
   "metadata": {},
   "outputs": [],
   "source": [
    "aggexp_cd8"
   ]
  },
  {
   "cell_type": "markdown",
   "id": "cd6ea582",
   "metadata": {},
   "source": [
    "### Metadata consolidation"
   ]
  },
  {
   "cell_type": "markdown",
   "id": "dab6ce67",
   "metadata": {},
   "source": [
    "We need to add metadata with Partial response and ketoacidosis to the pseudobulked object. "
   ]
  },
  {
   "cell_type": "code",
   "execution_count": null,
   "id": "bc95af16",
   "metadata": {},
   "outputs": [],
   "source": [
    "md_for_remission  <- cd8_l1_full_filt_sub@meta.data  %>% \n",
    "dplyr::filter(Condition %in% c(\"Dia T0\"))  %>% \n",
    "group_by(Patient_ID, part_remission_y_n)  %>% \n",
    "tally %>% mutate(Condition2 = paste0(\"PR_\",part_remission_y_n))  %>% \n",
    "dplyr::select(-n, -part_remission_y_n)"
   ]
  },
  {
   "cell_type": "code",
   "execution_count": null,
   "id": "e9409bb9",
   "metadata": {
    "scrolled": true
   },
   "outputs": [],
   "source": [
    "md_for_remission"
   ]
  },
  {
   "cell_type": "code",
   "execution_count": null,
   "id": "4409586c",
   "metadata": {},
   "outputs": [],
   "source": [
    "cd8_l1_full_filt_sub$Condition2  %>% table"
   ]
  },
  {
   "cell_type": "code",
   "execution_count": null,
   "id": "d6c086ad",
   "metadata": {},
   "outputs": [],
   "source": [
    "cd8_l1_full_filt_sub$Condition2  <- NULL\n",
    "cd8_l1_full_filt_sub@meta.data  <- cd8_l1_full_filt_sub@meta.data  %>% \n",
    "left_join(md_for_remission)  %>% mutate(Condition2 = paste(Condition2, Time))  %>% \n",
    "mutate(Condition2 = ifelse(grepl(Condition2, pattern = \"NA\"), NA_character_,Condition2))\n",
    "    \n",
    "print(cd8_l1_full_filt_sub$Condition2  %>% table)\n",
    "rownames(cd8_l1_full_filt_sub@meta.data)  <- colnames(cd8_l1_full_filt_sub)"
   ]
  },
  {
   "cell_type": "code",
   "execution_count": null,
   "id": "c45b2536",
   "metadata": {},
   "outputs": [],
   "source": [
    "md_for_ketoacidosis  <- cd8_l1_full_filt_sub@meta.data  %>% \n",
    "dplyr::filter(Condition %in% c(\"Dia T0\"))  %>% \n",
    "group_by(Patient_ID, ph_man)  %>% \n",
    "tally %>% mutate(Ketoacidosis = ifelse(ph_man<7.3,\"Keto_1\",\"Keto_0\"))  %>% \n",
    "dplyr::select(-ph_man, -n)"
   ]
  },
  {
   "cell_type": "code",
   "execution_count": null,
   "id": "15762dc7",
   "metadata": {
    "scrolled": true
   },
   "outputs": [],
   "source": [
    "md_for_ketoacidosis"
   ]
  },
  {
   "cell_type": "code",
   "execution_count": null,
   "id": "bcd4d7f7",
   "metadata": {},
   "outputs": [],
   "source": [
    " cd8_l1_full_filt_sub@meta.data  <- cd8_l1_full_filt_sub@meta.data  %>% \n",
    "    left_join(md_for_ketoacidosis)   %>% mutate(Keto_Time = paste(Ketoacidosis, Time))  %>% \n",
    "    mutate(Keto_Time = ifelse(grepl(Keto_Time, pattern = \"NA\"), NA_character_,Keto_Time))\n",
    "    \n",
    "    print(cd8_l1_full_filt_sub$Ketoacidosis  %>% table)\n",
    "    rownames(cd8_l1_full_filt_sub@meta.data)  <- colnames(cd8_l1_full_filt_sub)"
   ]
  },
  {
   "cell_type": "code",
   "execution_count": null,
   "id": "3afadda1",
   "metadata": {},
   "outputs": [],
   "source": [
    "Conditions  <- list(c(\"Dia T0\", \"Ctrl T0\"),\n",
    "                    c(\"Dia T0\", \"Dia T1\"),\n",
    "                    c(\"Dia T1\", \"Ctrl T0\"),\n",
    "                    c(\"PR_0 T0\", \"PR_1 T0\"),\n",
    "                    c(\"PR_0 T1\", \"PR_1 T1\"),\n",
    "                    c(\"PR_0 T0\", \"PR_0 T1\"),\n",
    "                    c(\"PR_1 T0\", \"PR_1 T1\"),\n",
    "                    c(\"Keto_1 T0\", \"Keto_0 T0\"))"
   ]
  },
  {
   "cell_type": "code",
   "execution_count": null,
   "id": "4e51c5c9",
   "metadata": {},
   "outputs": [],
   "source": []
  },
  {
   "cell_type": "code",
   "execution_count": null,
   "id": "f0cd27af",
   "metadata": {},
   "outputs": [],
   "source": [
    "md_cd8  <- cd8_l1_full_filt_sub@meta.data  %>% \n",
    "group_by(Sample_ID, Condition, Condition2, Age, Sex, Ketoacidosis, Keto_Time)  %>% tally  %>% dplyr::select(-n)  %>% \n",
    "ungroup  %>% \n",
    "mutate(Sample_ID = as.factor(Sample_ID))"
   ]
  },
  {
   "cell_type": "code",
   "execution_count": null,
   "id": "b17a337d",
   "metadata": {
    "scrolled": true
   },
   "outputs": [],
   "source": [
    "md_cd8$Sample_ID  <- paste0(\"g\",md_cd8$Sample_ID)"
   ]
  },
  {
   "cell_type": "code",
   "execution_count": null,
   "id": "65a462a5",
   "metadata": {},
   "outputs": [],
   "source": [
    "\n",
    "md_cd8  <- left_join(aggexp_cd8@meta.data, md_cd8)\n",
    "rownames(md_cd8)  <- colnames(aggexp_cd8)"
   ]
  },
  {
   "cell_type": "markdown",
   "id": "fe1e123d",
   "metadata": {},
   "source": [
    "### CD8 L1 dataset"
   ]
  },
  {
   "cell_type": "code",
   "execution_count": null,
   "id": "bcdb0ce8",
   "metadata": {},
   "outputs": [],
   "source": [
    "aggexp_cd8@meta.data  <- md_cd8"
   ]
  },
  {
   "cell_type": "code",
   "execution_count": null,
   "id": "00844fb6",
   "metadata": {},
   "outputs": [],
   "source": [
    "# Function to calculate markers for a subsetted da for given conditions\n",
    "\n",
    "Create_Markers_DataFrame  <- function(j){\n",
    "     print(\"#######################\")\n",
    "    print(j)\n",
    "    \n",
    "    Condition_1 = Conditions[[j]][1]\n",
    "    Condition_2 = Conditions[[j]][2]\n",
    "    \n",
    "    seurat_obj  <- aggexp_cd8\n",
    "        \n",
    "    if(grepl(Condition_1, pattern = \"PR\")){\n",
    "      seurat_obj$Condition  <- seurat_obj$Condition2\n",
    "    }\n",
    "    \n",
    "    if(grepl(Condition_1, pattern = \"Keto\")){\n",
    "      seurat_obj$Condition  <- seurat_obj$Keto_Time\n",
    "    }\n",
    "    \n",
    "    ## Create subsetted df\n",
    "        ds  <- subset(seurat_obj, Condition %in% c(Condition_1, Condition_2) )\n",
    "        print(ds$Condition  %>% table)\n",
    "    \n",
    "    ## scRNAseq - RNA\n",
    "    DefaultAssay(ds)  <- \"RNA\"\n",
    "        Idents(ds)  <- ds$Condition\n",
    "        markers_sc  <- FindAllMarkers(ds, only.pos = F, \n",
    "                                   test.use = \"DESeq2\", return.thresh = 1)\n",
    "        markers_sc  <- markers_sc   %>% dplyr::filter(cluster == Condition_1)\n",
    "        markers_sc$source  <- \"scRNAseq_RNA\"\n",
    "        rownames(markers_sc)  <- NULL\n",
    "    print(paste(\"DE RNA: \", nrow(markers_sc)))\n",
    "    \n",
    "    markers_sc2  <- data.frame()\n",
    "    \n",
    "   if(nrow(markers_sc2)>0 & nrow(markers_sc)>0){ \n",
    "            markers2 <- rbind(markers_sc, markers_sc2) } else {\n",
    "        if(nrow(markers_sc)>0){\n",
    "            markers2  <- markers_sc\n",
    "            } else {\n",
    "            if(nrow(markers_sc2)>0){\n",
    "                markers2  <- markers_sc2\n",
    "            \n",
    "            } else {\n",
    "                markers2  <- NULL\n",
    "                }\n",
    "        }\n",
    "        }\n",
    "    \n",
    "        markers2$test_type  <- paste(Conditions[[j]][1], \"vs\", Conditions[[j]][2])\n",
    "        print(\"..\")\n",
    "        markers2$dataset  <- \"cd8_l1_full_filt\"\n",
    "        return(markers2)\n",
    "}\n"
   ]
  },
  {
   "cell_type": "code",
   "execution_count": null,
   "id": "f48a51e6",
   "metadata": {},
   "outputs": [],
   "source": [
    "Condition_1"
   ]
  },
  {
   "cell_type": "code",
   "execution_count": null,
   "id": "e7667085",
   "metadata": {},
   "outputs": [],
   "source": [
    "mrk  <- map(.x = 1:8, Create_Markers_DataFrame)\n",
    "\n",
    "mrk  <- bind_rows(mrk) "
   ]
  },
  {
   "cell_type": "code",
   "execution_count": null,
   "id": "bd59f8e3",
   "metadata": {},
   "outputs": [],
   "source": [
    "mrk  %>% dplyr::filter(p_val_adj<0.05)"
   ]
  },
  {
   "cell_type": "code",
   "execution_count": null,
   "id": "585ad32d",
   "metadata": {},
   "outputs": [],
   "source": [
    "all_markers  <- mrk"
   ]
  },
  {
   "cell_type": "markdown",
   "id": "2d1f2ddb",
   "metadata": {},
   "source": [
    "### CD8 L2 datasets"
   ]
  },
  {
   "cell_type": "code",
   "execution_count": null,
   "id": "4c4becaa",
   "metadata": {},
   "outputs": [],
   "source": [
    "l2_datasets  <- levels(factor(cd8_l1_full_filt_sub$annotations_l2))"
   ]
  },
  {
   "cell_type": "code",
   "execution_count": null,
   "id": "ee5ad80e",
   "metadata": {},
   "outputs": [],
   "source": [
    "l2_datasets"
   ]
  },
  {
   "cell_type": "code",
   "execution_count": null,
   "id": "2c387556",
   "metadata": {},
   "outputs": [],
   "source": []
  },
  {
   "cell_type": "code",
   "execution_count": null,
   "id": "ff048ce4",
   "metadata": {},
   "outputs": [],
   "source": [
    "aggexp_cd8  <- AggregateExpression(cd8_l1_full_filt_sub, group.by = c(\"Sample_ID\", \"annotations_l2\"), \n",
    "                                  features = genes_filt, return.seurat = T, assay = \"RNA\")"
   ]
  },
  {
   "cell_type": "code",
   "execution_count": null,
   "id": "51d570eb",
   "metadata": {},
   "outputs": [],
   "source": [
    "aggexp_cd8$Sample_ID  %>% table"
   ]
  },
  {
   "cell_type": "code",
   "execution_count": null,
   "id": "d55a1b0a",
   "metadata": {},
   "outputs": [],
   "source": [
    "md_cd8  <- cd8_l1_full_filt_sub@meta.data  %>% \n",
    "group_by(Sample_ID, Condition, Condition2, Age, Sex, Ketoacidosis, Keto_Time)  %>% tally  %>% dplyr::select(-n)  %>% \n",
    "ungroup  %>% \n",
    "mutate(Sample_ID = as.factor(Sample_ID))"
   ]
  },
  {
   "cell_type": "code",
   "execution_count": null,
   "id": "5a7de873",
   "metadata": {
    "scrolled": true
   },
   "outputs": [],
   "source": [
    "md_cd8$Sample_ID  <- paste0(\"g\",md_cd8$Sample_ID)"
   ]
  },
  {
   "cell_type": "code",
   "execution_count": null,
   "id": "d5d703d4",
   "metadata": {},
   "outputs": [],
   "source": [
    "md_cd8  <- left_join(aggexp_cd8@meta.data, md_cd8)\n",
    "rownames(md_cd8)  <- colnames(aggexp_cd8)"
   ]
  },
  {
   "cell_type": "code",
   "execution_count": null,
   "id": "5da0ec3c",
   "metadata": {},
   "outputs": [],
   "source": [
    "aggexp_cd8@meta.data  <- md_cd8"
   ]
  },
  {
   "cell_type": "code",
   "execution_count": null,
   "id": "0614b946",
   "metadata": {},
   "outputs": [],
   "source": [
    "aggexp_cd8@meta.data"
   ]
  },
  {
   "cell_type": "code",
   "execution_count": null,
   "id": "ad320e38",
   "metadata": {},
   "outputs": [],
   "source": [
    "# Function to calculate markers for a subsetted da for given conditions\n",
    "\n",
    "Create_Markers_DataFrame  <- function(j){\n",
    "     print(\"#######################\")\n",
    "    print(j)\n",
    "    \n",
    "    Condition_1 = Conditions[[j]][1]\n",
    "    Condition_2 = Conditions[[j]][2]\n",
    "    \n",
    "    seurat_obj  <- subset(aggexp_cd8, annotations_l2 == levels(factor((aggexp_cd8$annotations_l2)))[i])\n",
    "        \n",
    "    if(grepl(Condition_1, pattern = \"PR\")){\n",
    "      seurat_obj$Condition  <- seurat_obj$Condition2\n",
    "    }\n",
    "    \n",
    "    if(grepl(Condition_1, pattern = \"Keto\")){\n",
    "      seurat_obj$Condition  <- seurat_obj$Keto_Time\n",
    "    }\n",
    "    \n",
    "    ## Create subsetted df\n",
    "        ds  <- subset(seurat_obj, Condition %in% c(Condition_1, Condition_2) )\n",
    "        print(ds$Condition  %>% table)\n",
    "    \n",
    "    ## scRNAseq - RNA\n",
    "    DefaultAssay(ds)  <- \"RNA\"\n",
    "        Idents(ds)  <- ds$Condition\n",
    "        markers_sc  <- FindMarkers(ds, only.pos = F, `ident.1` = Condition_1, `ident.2` = Condition_2,\n",
    "                                   test.use = \"DESeq2\", return.thresh = 1)\n",
    "        markers_sc$source  <- \"scRNAseq_RNA\"\n",
    "        rownames(markers_sc)  <- NULL\n",
    "    print(paste(\"DE RNA: \", nrow(markers_sc)))\n",
    "    \n",
    "    markers_sc2  <- data.frame()\n",
    "    \n",
    "   if(nrow(markers_sc2)>0 & nrow(markers_sc)>0){ \n",
    "            markers2 <- rbind(markers_sc, markers_sc2) } else {\n",
    "        if(nrow(markers_sc)>0){\n",
    "            markers2  <- markers_sc\n",
    "            } else {\n",
    "            if(nrow(markers_sc2)>0){\n",
    "                markers2  <- markers_sc2\n",
    "            \n",
    "            } else {\n",
    "                markers2  <- NULL\n",
    "                }\n",
    "        }\n",
    "        }\n",
    "    \n",
    "        markers2$test_type  <- paste(Conditions[[j]][1], \"vs\", Conditions[[j]][2])\n",
    "        print(\"..\")\n",
    "        markers2$dataset  <- levels(factor((aggexp_cd8$annotations_l2)))[i]\n",
    "        return(markers2)\n",
    "}\n"
   ]
  },
  {
   "cell_type": "code",
   "execution_count": null,
   "id": "35089896",
   "metadata": {
    "scrolled": true
   },
   "outputs": [],
   "source": [
    "for(i in 1:length(levels(factor((aggexp_cd8$annotations_l2))))){\n",
    "\n",
    "print(\"######################################################################\")\n",
    "if(i > 1){\n",
    "suppressWarnings(rm(markers_sc, markers, markers1, markers_sc2, markers_sc_predia, markers_bulk, markers_bulk2))    \n",
    "}\n",
    "    \n",
    "mrk  <- map(.x = 1:8, Create_Markers_DataFrame)\n",
    "\n",
    "mrk  <- bind_rows(mrk) \n",
    "    \n",
    "all_markers  <- rbind(all_markers, mrk)\n",
    "\n",
    "    \n",
    "}"
   ]
  },
  {
   "cell_type": "code",
   "execution_count": null,
   "id": "90ad198d",
   "metadata": {
    "scrolled": true
   },
   "outputs": [],
   "source": [
    "all_markers  %>% dplyr::filter(p_val_adj<0.05)"
   ]
  },
  {
   "cell_type": "code",
   "execution_count": null,
   "id": "eba92018",
   "metadata": {
    "scrolled": true
   },
   "outputs": [],
   "source": [
    "all_markers"
   ]
  },
  {
   "cell_type": "code",
   "execution_count": null,
   "id": "9a729401",
   "metadata": {},
   "outputs": [],
   "source": [
    "all_markers_cd8   <- all_markers"
   ]
  },
  {
   "cell_type": "markdown",
   "id": "6830b5dd",
   "metadata": {},
   "source": [
    "## CD4 T cells"
   ]
  },
  {
   "cell_type": "code",
   "execution_count": null,
   "id": "d6462bca",
   "metadata": {},
   "outputs": [],
   "source": [
    "genes  <- rownames(cd4_l1_full_filt_sub@assays$RNA)"
   ]
  },
  {
   "cell_type": "code",
   "execution_count": null,
   "id": "ef37d770",
   "metadata": {},
   "outputs": [],
   "source": [
    "genes_filt  <- genes[!(grepl(genes, pattern = \"^MT\")|\n",
    "                            grepl(genes, pattern = \"\\\\.\")|\n",
    "                            grepl(genes, pattern = \"LINC\")|\n",
    "                            grepl(genes, pattern = \"^MIR\")|\n",
    "                            grepl(genes, pattern = \"^MT\")|\n",
    "                            grepl(genes, pattern = \"HNRNP\")|\n",
    "                            grepl(genes, pattern = \"^RP[LS]\")|\n",
    "                            grepl(genes, pattern = \"\\\\-\")|\n",
    "                            grepl(genes, pattern = \"TTTY\")|\n",
    "                            grepl(genes, pattern = \"ORF\")|\n",
    "                            grepl(genes, pattern = \"orf\"))\n",
    "                            ]"
   ]
  },
  {
   "cell_type": "code",
   "execution_count": null,
   "id": "eef1f0d0",
   "metadata": {},
   "outputs": [],
   "source": [
    "aggexp_cd4  <- AggregateExpression(cd4_l1_full_filt_sub, group.by = c(\"Sample_ID\"), \n",
    "                                  features = genes_filt, return.seurat = T, assay = \"RNA\")"
   ]
  },
  {
   "cell_type": "markdown",
   "id": "87b0a2e3",
   "metadata": {},
   "source": [
    "### Metadata consolidation"
   ]
  },
  {
   "cell_type": "markdown",
   "id": "335fb12d",
   "metadata": {},
   "source": [
    "We need to add metadata with Partial response and ketoacidosis to the pseudobulked object. "
   ]
  },
  {
   "cell_type": "code",
   "execution_count": null,
   "id": "c35b54f3",
   "metadata": {},
   "outputs": [],
   "source": [
    "md_for_remission  <- cd4_l1_full_filt_sub@meta.data  %>% \n",
    "dplyr::filter(Condition %in% c(\"Dia T0\"))  %>% \n",
    "group_by(Patient_ID, part_remission_y_n)  %>% \n",
    "tally %>% mutate(Condition2 = paste0(\"PR_\",part_remission_y_n))  %>% \n",
    "dplyr::select(-n, -part_remission_y_n)"
   ]
  },
  {
   "cell_type": "code",
   "execution_count": null,
   "id": "a1737803",
   "metadata": {
    "scrolled": true
   },
   "outputs": [],
   "source": [
    "md_for_remission"
   ]
  },
  {
   "cell_type": "code",
   "execution_count": null,
   "id": "72298b3b",
   "metadata": {},
   "outputs": [],
   "source": [
    "cd4_l1_full_filt_sub$Condition2  %>% table"
   ]
  },
  {
   "cell_type": "code",
   "execution_count": null,
   "id": "134b818d",
   "metadata": {},
   "outputs": [],
   "source": [
    "cd4_l1_full_filt_sub$Condition2  <- NULL\n",
    "cd4_l1_full_filt_sub@meta.data  <- cd4_l1_full_filt_sub@meta.data  %>% \n",
    "left_join(md_for_remission)  %>% mutate(Condition2 = paste(Condition2, Time))  %>% \n",
    "mutate(Condition2 = ifelse(grepl(Condition2, pattern = \"NA\"), NA_character_,Condition2))\n",
    "    \n",
    "print(cd4_l1_full_filt_sub$Condition2  %>% table)\n",
    "rownames(cd4_l1_full_filt_sub@meta.data)  <- colnames(cd4_l1_full_filt_sub)"
   ]
  },
  {
   "cell_type": "code",
   "execution_count": null,
   "id": "b11e4ea5",
   "metadata": {},
   "outputs": [],
   "source": [
    "md_for_ketoacidosis  <- cd4_l1_full_filt_sub@meta.data  %>% \n",
    "dplyr::filter(Condition %in% c(\"Dia T0\"))  %>% \n",
    "group_by(Patient_ID, ph_man)  %>% \n",
    "tally %>% mutate(Ketoacidosis = ifelse(ph_man<7.3,\"Keto_1\",\"Keto_0\"))  %>% \n",
    "dplyr::select(-ph_man, -n)"
   ]
  },
  {
   "cell_type": "code",
   "execution_count": null,
   "id": "79c016fc",
   "metadata": {
    "scrolled": true
   },
   "outputs": [],
   "source": [
    "md_for_ketoacidosis"
   ]
  },
  {
   "cell_type": "code",
   "execution_count": null,
   "id": "1976af72",
   "metadata": {},
   "outputs": [],
   "source": [
    " cd4_l1_full_filt_sub@meta.data  <- cd4_l1_full_filt_sub@meta.data  %>% \n",
    "    left_join(md_for_ketoacidosis)   %>% mutate(Keto_Time = paste(Ketoacidosis, Time))  %>% \n",
    "    mutate(Keto_Time = ifelse(grepl(Keto_Time, pattern = \"NA\"), NA_character_,Keto_Time))\n",
    "    \n",
    "    print(cd4_l1_full_filt_sub$Ketoacidosis  %>% table)\n",
    "    rownames(cd4_l1_full_filt_sub@meta.data)  <- colnames(cd4_l1_full_filt_sub)"
   ]
  },
  {
   "cell_type": "code",
   "execution_count": null,
   "id": "04c08b68",
   "metadata": {},
   "outputs": [],
   "source": [
    "Conditions  <- list(c(\"Dia T0\", \"Ctrl T0\"),\n",
    "                    c(\"Dia T0\", \"Dia T1\"),\n",
    "                    c(\"Dia T1\", \"Ctrl T0\"),\n",
    "                    c(\"PR_0 T0\", \"PR_1 T0\"),\n",
    "                    c(\"PR_0 T1\", \"PR_1 T1\"),\n",
    "                    c(\"PR_0 T0\", \"PR_0 T1\"),\n",
    "                    c(\"PR_1 T0\", \"PR_1 T1\"),\n",
    "                    c(\"Keto_1 T0\", \"Keto_0 T0\"))"
   ]
  },
  {
   "cell_type": "code",
   "execution_count": null,
   "id": "711e89f0",
   "metadata": {},
   "outputs": [],
   "source": []
  },
  {
   "cell_type": "code",
   "execution_count": null,
   "id": "0f57c9a0",
   "metadata": {},
   "outputs": [],
   "source": [
    "md_cd4  <- cd4_l1_full_filt_sub@meta.data  %>% \n",
    "group_by(Sample_ID, Condition, Condition2, Age, Sex, Ketoacidosis, Keto_Time)  %>% tally  %>% dplyr::select(-n)  %>% \n",
    "ungroup  %>% \n",
    "mutate(Sample_ID = as.factor(Sample_ID))"
   ]
  },
  {
   "cell_type": "code",
   "execution_count": null,
   "id": "d7381d92",
   "metadata": {
    "scrolled": true
   },
   "outputs": [],
   "source": [
    "md_cd4$Sample_ID  <- paste0(\"g\",md_cd4$Sample_ID)"
   ]
  },
  {
   "cell_type": "code",
   "execution_count": null,
   "id": "80180fe9",
   "metadata": {},
   "outputs": [],
   "source": [
    "\n",
    "md_cd4  <- left_join(aggexp_cd4@meta.data, md_cd4)\n",
    "rownames(md_cd4)  <- colnames(aggexp_cd4)"
   ]
  },
  {
   "cell_type": "markdown",
   "id": "6d3cefa8",
   "metadata": {},
   "source": [
    "### CD4 L1 dataset"
   ]
  },
  {
   "cell_type": "code",
   "execution_count": null,
   "id": "56cb5f09",
   "metadata": {},
   "outputs": [],
   "source": [
    "aggexp_cd4@meta.data  <- md_cd4"
   ]
  },
  {
   "cell_type": "code",
   "execution_count": null,
   "id": "4c25e426",
   "metadata": {},
   "outputs": [],
   "source": []
  },
  {
   "cell_type": "code",
   "execution_count": null,
   "id": "f4c62c8e",
   "metadata": {},
   "outputs": [],
   "source": [
    "# Function to calculate markers for a subsetted da for given conditions\n",
    "\n",
    "Create_Markers_DataFrame  <- function(j){\n",
    "     print(\"#######################\")\n",
    "    print(j)\n",
    "    \n",
    "    Condition_1 = Conditions[[j]][1]\n",
    "    Condition_2 = Conditions[[j]][2]\n",
    "    \n",
    "    seurat_obj  <- aggexp_cd4\n",
    "        \n",
    "    if(grepl(Condition_1, pattern = \"PR\")){\n",
    "      seurat_obj$Condition  <- seurat_obj$Condition2\n",
    "    }\n",
    "    \n",
    "    if(grepl(Condition_1, pattern = \"Keto\")){\n",
    "      seurat_obj$Condition  <- seurat_obj$Keto_Time\n",
    "    }\n",
    "    \n",
    "    ## Create subsetted df\n",
    "        ds  <- subset(seurat_obj, Condition %in% c(Condition_1, Condition_2) )\n",
    "        print(ds$Condition  %>% table)\n",
    "    \n",
    "    ## scRNAseq - RNA\n",
    "    DefaultAssay(ds)  <- \"RNA\"\n",
    "        Idents(ds)  <- ds$Condition\n",
    "        markers_sc  <- FindMarkers(ds, only.pos = F, `ident.1` = Condition_1, `ident.2` = Condition_2,\n",
    "                                   test.use = \"DESeq2\", return.thresh = 1)\n",
    "        markers_sc$source  <- \"scRNAseq_RNA\"\n",
    "        rownames(markers_sc)  <- NULL\n",
    "    print(paste(\"DE RNA: \", nrow(markers_sc)))\n",
    "    \n",
    "    markers_sc2  <- data.frame()\n",
    "    \n",
    "   if(nrow(markers_sc2)>0 & nrow(markers_sc)>0){ \n",
    "            markers2 <- rbind(markers_sc, markers_sc2) } else {\n",
    "        if(nrow(markers_sc)>0){\n",
    "            markers2  <- markers_sc\n",
    "            } else {\n",
    "            if(nrow(markers_sc2)>0){\n",
    "                markers2  <- markers_sc2\n",
    "            \n",
    "            } else {\n",
    "                markers2  <- NULL\n",
    "                }\n",
    "        }\n",
    "        }\n",
    "    \n",
    "        markers2$test_type  <- paste(Conditions[[j]][1], \"vs\", Conditions[[j]][2])\n",
    "        print(\"..\")\n",
    "        markers2$dataset  <- \"cd4_l1_full_filt\"\n",
    "        return(markers2)\n",
    "}\n"
   ]
  },
  {
   "cell_type": "code",
   "execution_count": null,
   "id": "a1be5a46",
   "metadata": {},
   "outputs": [],
   "source": [
    "mrk  <- map(.x = 1:8, Create_Markers_DataFrame)\n",
    "\n",
    "mrk  <- bind_rows(mrk) "
   ]
  },
  {
   "cell_type": "code",
   "execution_count": null,
   "id": "5822a3fe",
   "metadata": {},
   "outputs": [],
   "source": [
    "mrk  %>% dplyr::filter(p_val_adj<0.05)"
   ]
  },
  {
   "cell_type": "code",
   "execution_count": null,
   "id": "2609a446",
   "metadata": {},
   "outputs": [],
   "source": [
    "all_markers  <- mrk"
   ]
  },
  {
   "cell_type": "markdown",
   "id": "7b119f31",
   "metadata": {},
   "source": [
    "### CD4 L2 datasets"
   ]
  },
  {
   "cell_type": "code",
   "execution_count": null,
   "id": "d73efe58",
   "metadata": {},
   "outputs": [],
   "source": [
    "l2_datasets  <- levels(factor(cd4_l1_full_filt_sub$annotations_l2))"
   ]
  },
  {
   "cell_type": "code",
   "execution_count": null,
   "id": "62b5b621",
   "metadata": {},
   "outputs": [],
   "source": [
    "l2_datasets"
   ]
  },
  {
   "cell_type": "code",
   "execution_count": null,
   "id": "6b8d4b9f",
   "metadata": {},
   "outputs": [],
   "source": [
    "aggexp_cd4  <- AggregateExpression(cd4_l1_full_filt_sub, group.by = c(\"Sample_ID\", \"annotations_l2\"), \n",
    "                                  features = genes_filt, return.seurat = T, assay = \"RNA\")"
   ]
  },
  {
   "cell_type": "code",
   "execution_count": null,
   "id": "d209293b",
   "metadata": {},
   "outputs": [],
   "source": [
    "aggexp_cd4$Sample_ID  %>% table"
   ]
  },
  {
   "cell_type": "code",
   "execution_count": null,
   "id": "d66a74ba",
   "metadata": {},
   "outputs": [],
   "source": [
    "md_cd4  <- cd4_l1_full_filt_sub@meta.data  %>% \n",
    "group_by(Sample_ID, Condition, Condition2, Age, Sex, Ketoacidosis, Keto_Time)  %>% tally  %>% dplyr::select(-n)  %>% \n",
    "ungroup  %>% \n",
    "mutate(Sample_ID = as.factor(Sample_ID))"
   ]
  },
  {
   "cell_type": "code",
   "execution_count": null,
   "id": "e201be12",
   "metadata": {
    "scrolled": true
   },
   "outputs": [],
   "source": [
    "md_cd4$Sample_ID  <- paste0(\"g\",md_cd4$Sample_ID)"
   ]
  },
  {
   "cell_type": "code",
   "execution_count": null,
   "id": "1ed4b73c",
   "metadata": {},
   "outputs": [],
   "source": [
    "md_cd4  <- left_join(aggexp_cd4@meta.data, md_cd4)\n",
    "rownames(md_cd4)  <- colnames(aggexp_cd4)"
   ]
  },
  {
   "cell_type": "code",
   "execution_count": null,
   "id": "92b4a3f9",
   "metadata": {},
   "outputs": [],
   "source": [
    "aggexp_cd4@meta.data  <- md_cd4"
   ]
  },
  {
   "cell_type": "code",
   "execution_count": null,
   "id": "ddd8b150",
   "metadata": {},
   "outputs": [],
   "source": [
    "aggexp_cd4@meta.data"
   ]
  },
  {
   "cell_type": "code",
   "execution_count": null,
   "id": "67b4acb7",
   "metadata": {},
   "outputs": [],
   "source": [
    "# Function to calculate markers for a subsetted da for given conditions\n",
    "\n",
    "Create_Markers_DataFrame  <- function(j){\n",
    "     print(\"#######################\")\n",
    "    print(j)\n",
    "    \n",
    "    Condition_1 = Conditions[[j]][1]\n",
    "    Condition_2 = Conditions[[j]][2]\n",
    "    \n",
    "    seurat_obj  <- subset(aggexp_cd4, annotations_l2 == levels(factor((aggexp_cd4$annotations_l2)))[i])\n",
    "        \n",
    "    if(grepl(Condition_1, pattern = \"PR\")){\n",
    "      seurat_obj$Condition  <- seurat_obj$Condition2\n",
    "    }\n",
    "    \n",
    "    if(grepl(Condition_1, pattern = \"Keto\")){\n",
    "      seurat_obj$Condition  <- seurat_obj$Keto_Time\n",
    "    }\n",
    "    \n",
    "    ## Create subsetted df\n",
    "        ds  <- subset(seurat_obj, Condition %in% c(Condition_1, Condition_2) )\n",
    "        print(ds$Condition  %>% table)\n",
    "    \n",
    "    ## scRNAseq - RNA\n",
    "    DefaultAssay(ds)  <- \"RNA\"\n",
    "        Idents(ds)  <- ds$Condition\n",
    "        markers_sc  <- FindMarkers(ds, only.pos = F, `ident.1` = Condition_1, `ident.2` = Condition_2,\n",
    "                                   test.use = \"DESeq2\", return.thresh = 1)\n",
    "        markers_sc$source  <- \"scRNAseq_RNA\"\n",
    "        rownames(markers_sc)  <- NULL\n",
    "    print(paste(\"DE RNA: \", nrow(markers_sc)))\n",
    "    \n",
    "    markers_sc2  <- data.frame()\n",
    "    \n",
    "   if(nrow(markers_sc2)>0 & nrow(markers_sc)>0){ \n",
    "            markers2 <- rbind(markers_sc, markers_sc2) } else {\n",
    "        if(nrow(markers_sc)>0){\n",
    "            markers2  <- markers_sc\n",
    "            } else {\n",
    "            if(nrow(markers_sc2)>0){\n",
    "                markers2  <- markers_sc2\n",
    "            \n",
    "            } else {\n",
    "                markers2  <- NULL\n",
    "                }\n",
    "        }\n",
    "        }\n",
    "    \n",
    "        markers2$test_type  <- paste(Conditions[[j]][1], \"vs\", Conditions[[j]][2])\n",
    "        print(\"..\")\n",
    "        markers2$dataset  <- levels(factor((aggexp_cd4$annotations_l2)))[i]\n",
    "        return(markers2)\n",
    "}\n"
   ]
  },
  {
   "cell_type": "code",
   "execution_count": null,
   "id": "e96d4b82",
   "metadata": {
    "scrolled": true
   },
   "outputs": [],
   "source": [
    "for(i in 1:length(levels(factor((aggexp_cd4$annotations_l2))))){\n",
    "\n",
    "print(\"######################################################################\")\n",
    "if(i > 1){\n",
    "suppressWarnings(rm(markers_sc, markers, markers1, markers_sc2, markers_sc_predia, markers_bulk, markers_bulk2))    \n",
    "}\n",
    "    \n",
    "mrk  <- map(.x = 1:8, Create_Markers_DataFrame)\n",
    "\n",
    "mrk  <- bind_rows(mrk) \n",
    "    \n",
    "all_markers  <- rbind(all_markers, mrk)\n",
    "\n",
    "    \n",
    "}"
   ]
  },
  {
   "cell_type": "code",
   "execution_count": null,
   "id": "ffe32f6a",
   "metadata": {},
   "outputs": [],
   "source": [
    "all_markers_cd4  <- all_markers"
   ]
  },
  {
   "cell_type": "code",
   "execution_count": null,
   "id": "4ecf92f4",
   "metadata": {
    "scrolled": true
   },
   "outputs": [],
   "source": [
    "all_markers_cd4  %>% dplyr::filter(p_val_adj<0.05)"
   ]
  },
  {
   "cell_type": "markdown",
   "id": "89139355",
   "metadata": {},
   "source": [
    "# DESeq FoldChanges - hopefyully correct one"
   ]
  },
  {
   "cell_type": "markdown",
   "id": "66bfce4c",
   "metadata": {},
   "source": [
    "## CD8 T cells"
   ]
  },
  {
   "cell_type": "code",
   "execution_count": null,
   "id": "2ad265ca",
   "metadata": {},
   "outputs": [],
   "source": [
    "genes  <- rownames(cd8_l1_full_filt_sub@assays$RNA)"
   ]
  },
  {
   "cell_type": "code",
   "execution_count": null,
   "id": "739ac0cc",
   "metadata": {},
   "outputs": [],
   "source": [
    "genes_filt  <- genes[!(grepl(genes, pattern = \"^MT\")|\n",
    "                            grepl(genes, pattern = \"\\\\.\")|\n",
    "                            grepl(genes, pattern = \"LINC\")|\n",
    "                            grepl(genes, pattern = \"^MIR\")|\n",
    "                            grepl(genes, pattern = \"^MT\")|\n",
    "                            grepl(genes, pattern = \"HNRNP\")|\n",
    "                            grepl(genes, pattern = \"^RP[LS]\")|\n",
    "                            grepl(genes, pattern = \"\\\\-\")|\n",
    "                            grepl(genes, pattern = \"TTTY\")|\n",
    "                            grepl(genes, pattern = \"ORF\")|\n",
    "                            grepl(genes, pattern = \"orf\"))\n",
    "                            ]"
   ]
  },
  {
   "cell_type": "code",
   "execution_count": null,
   "id": "133a13e5",
   "metadata": {},
   "outputs": [],
   "source": [
    "aggexp_cd8  <- AggregateExpression(cd8_l1_full_filt_sub, group.by = c(\"Sample_ID\"), \n",
    "                                  features = genes_filt, return.seurat = T, assay = \"RNA\")"
   ]
  },
  {
   "cell_type": "code",
   "execution_count": null,
   "id": "7b95f98a",
   "metadata": {},
   "outputs": [],
   "source": [
    "aggexp_cd8"
   ]
  },
  {
   "cell_type": "markdown",
   "id": "e3d94b3f",
   "metadata": {},
   "source": [
    "### Metadata consolidation"
   ]
  },
  {
   "cell_type": "markdown",
   "id": "9dbec3d4",
   "metadata": {},
   "source": [
    "We need to add metadata with Partial response and ketoacidosis to the pseudobulked object. "
   ]
  },
  {
   "cell_type": "code",
   "execution_count": null,
   "id": "15c8fb98",
   "metadata": {},
   "outputs": [],
   "source": [
    "md_for_remission  <- cd8_l1_full_filt_sub@meta.data  %>% \n",
    "dplyr::filter(Condition %in% c(\"Dia T0\"))  %>% \n",
    "group_by(Patient_ID, part_remission_y_n)  %>% \n",
    "tally %>% mutate(Condition2 = paste0(\"PR_\",part_remission_y_n))  %>% \n",
    "dplyr::select(-n, -part_remission_y_n)"
   ]
  },
  {
   "cell_type": "code",
   "execution_count": null,
   "id": "40092d6a",
   "metadata": {
    "scrolled": true
   },
   "outputs": [],
   "source": [
    "md_for_remission"
   ]
  },
  {
   "cell_type": "code",
   "execution_count": null,
   "id": "86932589",
   "metadata": {},
   "outputs": [],
   "source": [
    "cd8_l1_full_filt_sub$Condition2  %>% table"
   ]
  },
  {
   "cell_type": "code",
   "execution_count": null,
   "id": "06edd7e3",
   "metadata": {},
   "outputs": [],
   "source": [
    "head(colnames(cd8_l1_full_filt_sub))"
   ]
  },
  {
   "cell_type": "code",
   "execution_count": null,
   "id": "f8aad8c0",
   "metadata": {},
   "outputs": [],
   "source": [
    "cd8_l1_full_filt_sub@meta.data"
   ]
  },
  {
   "cell_type": "code",
   "execution_count": null,
   "id": "04276ec7",
   "metadata": {},
   "outputs": [],
   "source": [
    "cd8_l1_full_filt_sub$Condition2  <- NULL\n",
    "cd8_l1_full_filt_sub@meta.data  <- cd8_l1_full_filt_sub@meta.data  %>% \n",
    "left_join(md_for_remission)  %>% mutate(Condition2 = paste(Condition2, Time))  %>% \n",
    "mutate(Condition2 = ifelse(grepl(Condition2, pattern = \"NA\"), NA_character_,Condition2))\n",
    "    "
   ]
  },
  {
   "cell_type": "code",
   "execution_count": null,
   "id": "d97a445c",
   "metadata": {},
   "outputs": [],
   "source": [
    "md_for_ketoacidosis  <- cd8_l1_full_filt_sub@meta.data  %>% \n",
    "dplyr::filter(Condition %in% c(\"Dia T0\"))  %>% \n",
    "group_by(Patient_ID, ph_man)  %>% \n",
    "tally %>% mutate(Ketoacidosis = ifelse(ph_man<7.3,\"Keto_1\",\"Keto_0\"))  %>% \n",
    "dplyr::select(-ph_man, -n)"
   ]
  },
  {
   "cell_type": "code",
   "execution_count": null,
   "id": "25371294",
   "metadata": {
    "scrolled": true
   },
   "outputs": [],
   "source": [
    "md_for_ketoacidosis"
   ]
  },
  {
   "cell_type": "code",
   "execution_count": null,
   "id": "d2a049f1",
   "metadata": {},
   "outputs": [],
   "source": [
    " cd8_l1_full_filt_sub@meta.data  <- cd8_l1_full_filt_sub@meta.data  %>% \n",
    "    left_join(md_for_ketoacidosis)   %>% mutate(Keto_Time = paste(Ketoacidosis, Time))  %>% \n",
    "    mutate(Keto_Time = ifelse(grepl(Keto_Time, pattern = \"NA\"), NA_character_,Keto_Time))\n",
    "    \n",
    "    print(cd8_l1_full_filt_sub$Ketoacidosis  %>% table)\n"
   ]
  },
  {
   "cell_type": "code",
   "execution_count": null,
   "id": "d1e1fde8",
   "metadata": {},
   "outputs": [],
   "source": [
    "Conditions  <- list(c(\"Dia T0\", \"Ctrl T0\"),\n",
    "                    c(\"Dia T0\", \"Dia T1\"),\n",
    "                    c(\"Dia T1\", \"Ctrl T0\"),\n",
    "                    c(\"PR_0 T0\", \"PR_1 T0\"),\n",
    "                    c(\"PR_0 T1\", \"PR_1 T1\"),\n",
    "                    c(\"PR_0 T0\", \"PR_0 T1\"),\n",
    "                    c(\"PR_1 T0\", \"PR_1 T1\"),\n",
    "                    c(\"Keto_1 T0\", \"Keto_0 T0\"))"
   ]
  },
  {
   "cell_type": "code",
   "execution_count": null,
   "id": "eaa32a83",
   "metadata": {},
   "outputs": [],
   "source": []
  },
  {
   "cell_type": "code",
   "execution_count": null,
   "id": "1893cf30",
   "metadata": {},
   "outputs": [],
   "source": [
    "md_cd8  <- cd8_l1_full_filt_sub@meta.data  %>% \n",
    "group_by(Sample_ID, Condition, Condition2, Age, Sex, Ketoacidosis, Keto_Time)  %>% tally  %>% dplyr::select(-n)  %>% \n",
    "ungroup  %>% \n",
    "mutate(Sample_ID = as.factor(Sample_ID))"
   ]
  },
  {
   "cell_type": "code",
   "execution_count": null,
   "id": "7770c300",
   "metadata": {
    "scrolled": true
   },
   "outputs": [],
   "source": [
    "md_cd8$Sample_ID  <- paste0(\"g\",md_cd8$Sample_ID)"
   ]
  },
  {
   "cell_type": "code",
   "execution_count": null,
   "id": "c34ee071",
   "metadata": {},
   "outputs": [],
   "source": [
    "\n",
    "md_cd8  <- left_join(aggexp_cd8@meta.data, md_cd8)\n",
    "rownames(md_cd8)  <- colnames(aggexp_cd8)"
   ]
  },
  {
   "cell_type": "code",
   "execution_count": null,
   "id": "2b4bb50e",
   "metadata": {},
   "outputs": [],
   "source": [
    "md_cd8"
   ]
  },
  {
   "cell_type": "markdown",
   "id": "d534f906",
   "metadata": {},
   "source": [
    "### CD8 L1 dataset"
   ]
  },
  {
   "cell_type": "code",
   "execution_count": null,
   "id": "57c477eb",
   "metadata": {},
   "outputs": [],
   "source": [
    "aggexp_cd8@meta.data  <- md_cd8"
   ]
  },
  {
   "cell_type": "code",
   "execution_count": null,
   "id": "0ec4e4b7",
   "metadata": {},
   "outputs": [],
   "source": [
    "aggexp_cd8"
   ]
  },
  {
   "cell_type": "code",
   "execution_count": null,
   "id": "e6aaa71b",
   "metadata": {},
   "outputs": [],
   "source": [
    "# Function to calculate markers for a subsetted da for given conditions\n",
    "\n",
    "Create_Markers_DataFrame  <- function(j){\n",
    "     print(\"#######################\")\n",
    "    print(j)\n",
    "    \n",
    "    Condition_1 = Conditions[[j]][1]\n",
    "    Condition_2 = Conditions[[j]][2]\n",
    "    \n",
    "    seurat_obj  <- aggexp_cd8\n",
    "        \n",
    "    if(grepl(Condition_1, pattern = \"PR\")){\n",
    "      seurat_obj$Condition  <- seurat_obj$Condition2\n",
    "    }\n",
    "    \n",
    "    if(grepl(Condition_1, pattern = \"Keto\")){\n",
    "      seurat_obj$Condition  <- seurat_obj$Keto_Time\n",
    "    }\n",
    "    \n",
    "    ## Create subsetted df\n",
    "        ds  <- subset(seurat_obj, Condition %in% c(Condition_1, Condition_2) )\n",
    "        print(ds$Condition  %>% table)\n",
    "    \n",
    "    ## scRNAseq - RNA\n",
    "    DefaultAssay(ds)  <- \"RNA\"\n",
    "        Idents(ds)  <- ds$Condition\n",
    "        markers_sc  <- FindMarkers(ds, only.pos = F, `ident.1` = Condition_1, `ident.2` = Condition_2,\n",
    "                                   test.use = \"DESeq2\")\n",
    "        markers_sc$source  <- \"scRNAseq_RNA\"\n",
    "            markers_sc$gene  <- rownames(markers_sc)\n",
    "\n",
    "        rownames(markers_sc)  <- NULL\n",
    "    print(paste(\"DE RNA: \", nrow(markers_sc)))\n",
    "    \n",
    "    markers_sc2  <- data.frame()\n",
    "    \n",
    "   if(nrow(markers_sc2)>0 & nrow(markers_sc)>0){ \n",
    "            markers2 <- rbind(markers_sc, markers_sc2) } else {\n",
    "        if(nrow(markers_sc)>0){\n",
    "            markers2  <- markers_sc\n",
    "            } else {\n",
    "            if(nrow(markers_sc2)>0){\n",
    "                markers2  <- markers_sc2\n",
    "            \n",
    "            } else {\n",
    "                markers2  <- NULL\n",
    "                }\n",
    "        }\n",
    "        }\n",
    "    \n",
    "        markers2$test_type  <- paste(Conditions[[j]][1], \"vs\", Conditions[[j]][2])\n",
    "        print(\"..\")\n",
    "        markers2$dataset  <- \"cd8_l1_full_filt\"\n",
    "        return(markers2)\n",
    "}\n"
   ]
  },
  {
   "cell_type": "code",
   "execution_count": null,
   "id": "bdb4dfa9",
   "metadata": {
    "scrolled": true
   },
   "outputs": [],
   "source": [
    "mrk  <- map(.x = 1:8, .f = Create_Markers_DataFrame)\n",
    "\n",
    "mrk  <- bind_rows(mrk) "
   ]
  },
  {
   "cell_type": "code",
   "execution_count": null,
   "id": "862ce757",
   "metadata": {},
   "outputs": [],
   "source": [
    "all_markers  <- mrk"
   ]
  },
  {
   "cell_type": "code",
   "execution_count": null,
   "id": "593cf992",
   "metadata": {
    "scrolled": true
   },
   "outputs": [],
   "source": [
    "all_markers"
   ]
  },
  {
   "cell_type": "markdown",
   "id": "84643314",
   "metadata": {},
   "source": [
    "### CD8 L2 datasets"
   ]
  },
  {
   "cell_type": "code",
   "execution_count": null,
   "id": "8d1bf874",
   "metadata": {},
   "outputs": [],
   "source": [
    "cd8_l1_full_filt_sub$annotations_l2  %>% table"
   ]
  },
  {
   "cell_type": "code",
   "execution_count": null,
   "id": "67bdeac9",
   "metadata": {},
   "outputs": [],
   "source": [
    "cd8_l1_full_filt_sub$annotations_l2  <- gsub(cd8_l1_full_filt_sub$annotations_l2, \n",
    "                                             pattern = \"---MAIT cells\", replacement = \"---gd T cells\")"
   ]
  },
  {
   "cell_type": "code",
   "execution_count": null,
   "id": "37e49599",
   "metadata": {},
   "outputs": [],
   "source": [
    "cd8_l1_full_filt_sub$annotations_l2  %>% table"
   ]
  },
  {
   "cell_type": "code",
   "execution_count": null,
   "id": "73711be9",
   "metadata": {},
   "outputs": [],
   "source": [
    "l2_datasets  <- levels(factor(cd8_l1_full_filt_sub$annotations_l2))"
   ]
  },
  {
   "cell_type": "code",
   "execution_count": null,
   "id": "5fc564bd",
   "metadata": {},
   "outputs": [],
   "source": [
    "l2_datasets"
   ]
  },
  {
   "cell_type": "code",
   "execution_count": null,
   "id": "552afc14",
   "metadata": {},
   "outputs": [],
   "source": []
  },
  {
   "cell_type": "code",
   "execution_count": null,
   "id": "9be37b61",
   "metadata": {},
   "outputs": [],
   "source": [
    "aggexp_cd8  <- AggregateExpression(cd8_l1_full_filt_sub, group.by = c(\"Sample_ID\", \"annotations_l2\"), \n",
    "                                  features = genes_filt, return.seurat = T, assay = \"RNA\")"
   ]
  },
  {
   "cell_type": "code",
   "execution_count": null,
   "id": "314ce285",
   "metadata": {},
   "outputs": [],
   "source": [
    "aggexp_cd8$Sample_ID  %>% table"
   ]
  },
  {
   "cell_type": "code",
   "execution_count": null,
   "id": "4f3eb876",
   "metadata": {},
   "outputs": [],
   "source": [
    "md_cd8  <- cd8_l1_full_filt_sub@meta.data  %>% \n",
    "group_by(Sample_ID, Condition, Condition2, Age, Sex, Ketoacidosis, Keto_Time)  %>% tally  %>% dplyr::select(-n)  %>% \n",
    "ungroup  %>% \n",
    "mutate(Sample_ID = as.factor(Sample_ID))"
   ]
  },
  {
   "cell_type": "code",
   "execution_count": null,
   "id": "12aed816",
   "metadata": {
    "scrolled": true
   },
   "outputs": [],
   "source": [
    "md_cd8$Sample_ID  <- paste0(\"g\",md_cd8$Sample_ID)"
   ]
  },
  {
   "cell_type": "code",
   "execution_count": null,
   "id": "d2b26ed9",
   "metadata": {},
   "outputs": [],
   "source": [
    "md_cd8  <- left_join(aggexp_cd8@meta.data, md_cd8)\n",
    "rownames(md_cd8)  <- colnames(aggexp_cd8)"
   ]
  },
  {
   "cell_type": "code",
   "execution_count": null,
   "id": "d92bb76c",
   "metadata": {},
   "outputs": [],
   "source": [
    "aggexp_cd8@meta.data  <- md_cd8"
   ]
  },
  {
   "cell_type": "code",
   "execution_count": null,
   "id": "583ed866",
   "metadata": {
    "scrolled": true
   },
   "outputs": [],
   "source": [
    "aggexp_cd8@meta.data"
   ]
  },
  {
   "cell_type": "code",
   "execution_count": null,
   "id": "2373c1b0",
   "metadata": {},
   "outputs": [],
   "source": [
    "# Function to calculate markers for a subsetted da for given conditions\n",
    "\n",
    "Create_Markers_DataFrame  <- function(j){\n",
    "     print(\"#######################\")\n",
    "    print(j)\n",
    "    \n",
    "    Condition_1 = Conditions[[j]][1]\n",
    "    Condition_2 = Conditions[[j]][2]\n",
    "    \n",
    "    seurat_obj  <- subset(aggexp_cd8, annotations_l2 == levels(factor((aggexp_cd8$annotations_l2)))[i])\n",
    "        \n",
    "    if(grepl(Condition_1, pattern = \"PR\")){\n",
    "      seurat_obj$Condition  <- seurat_obj$Condition2\n",
    "    }\n",
    "    \n",
    "    if(grepl(Condition_1, pattern = \"Keto\")){\n",
    "      seurat_obj$Condition  <- seurat_obj$Keto_Time\n",
    "    }\n",
    "    \n",
    "    ## Create subsetted df\n",
    "        ds  <- subset(seurat_obj, Condition %in% c(Condition_1, Condition_2) )\n",
    "        print(ds$Condition  %>% table)\n",
    "    \n",
    "    ## scRNAseq - RNA\n",
    "    DefaultAssay(ds)  <- \"RNA\"\n",
    "        Idents(ds)  <- ds$Condition\n",
    "        markers_sc  <- FindMarkers(ds, only.pos = F, `ident.1` = Condition_1, `ident.2` = Condition_2,\n",
    "                                   test.use = \"DESeq2\")\n",
    "        markers_sc$source  <- \"scRNAseq_RNA\"\n",
    "                markers_sc$gene  <- rownames(markers_sc)\n",
    "\n",
    "        rownames(markers_sc)  <- NULL\n",
    "    print(paste(\"DE RNA: \", nrow(markers_sc)))\n",
    "    \n",
    "    markers_sc2  <- data.frame()\n",
    "    \n",
    "   if(nrow(markers_sc2)>0 & nrow(markers_sc)>0){ \n",
    "            markers2 <- rbind(markers_sc, markers_sc2) } else {\n",
    "        if(nrow(markers_sc)>0){\n",
    "            markers2  <- markers_sc\n",
    "            } else {\n",
    "            if(nrow(markers_sc2)>0){\n",
    "                markers2  <- markers_sc2\n",
    "            \n",
    "            } else {\n",
    "                markers2  <- NULL\n",
    "                }\n",
    "        }\n",
    "        }\n",
    "    \n",
    "        markers2$test_type  <- paste(Conditions[[j]][1], \"vs\", Conditions[[j]][2])\n",
    "        print(\"..\")\n",
    "        markers2$dataset  <- levels(factor((aggexp_cd8$annotations_l2)))[i]\n",
    "        return(markers2)\n",
    "}\n"
   ]
  },
  {
   "cell_type": "code",
   "execution_count": null,
   "id": "d8b1d13c",
   "metadata": {
    "scrolled": true
   },
   "outputs": [],
   "source": [
    "for(i in 1:length(levels(factor((aggexp_cd8$annotations_l2))))){\n",
    "\n",
    "print(\"######################################################################\")\n",
    "if(i > 1){\n",
    "suppressWarnings(rm(markers_sc, markers, markers1, markers_sc2, markers_sc_predia, markers_bulk, markers_bulk2))    \n",
    "}\n",
    "    \n",
    "mrk  <- map(.x = 1:8, Create_Markers_DataFrame)\n",
    "\n",
    "mrk  <- bind_rows(mrk) \n",
    "    \n",
    "all_markers  <- rbind(all_markers, mrk)\n",
    "\n",
    "    \n",
    "}"
   ]
  },
  {
   "cell_type": "code",
   "execution_count": null,
   "id": "dbd8bee3",
   "metadata": {
    "scrolled": true
   },
   "outputs": [],
   "source": [
    "all_markers  %>% dplyr::filter(p_val_adj<0.05)"
   ]
  },
  {
   "cell_type": "code",
   "execution_count": null,
   "id": "a96f1bf8",
   "metadata": {
    "scrolled": true
   },
   "outputs": [],
   "source": [
    "all_markers\n"
   ]
  },
  {
   "cell_type": "code",
   "execution_count": null,
   "id": "73c3d8a0",
   "metadata": {},
   "outputs": [],
   "source": [
    "all_markers_cd8   <- all_markers"
   ]
  },
  {
   "cell_type": "code",
   "execution_count": null,
   "id": "358c2ce1",
   "metadata": {
    "scrolled": true
   },
   "outputs": [],
   "source": [
    "all_markers_cd8"
   ]
  },
  {
   "cell_type": "markdown",
   "id": "71e114b5",
   "metadata": {},
   "source": [
    "## Load fold changes calculated by Wilcox"
   ]
  },
  {
   "cell_type": "code",
   "execution_count": null,
   "id": "d273455c",
   "metadata": {},
   "outputs": [],
   "source": [
    "all_fcs_cd8  <- all_markers_cd8"
   ]
  },
  {
   "cell_type": "code",
   "execution_count": null,
   "id": "974efeee",
   "metadata": {
    "scrolled": true
   },
   "outputs": [],
   "source": [
    "all_fcs_cd8$dataset  %>% table"
   ]
  },
  {
   "cell_type": "code",
   "execution_count": null,
   "id": "e2177833",
   "metadata": {},
   "outputs": [],
   "source": [
    "paths_fc  <- list.files(\"../../240218_VN_Diabetes_V05/tables/fold_change\", full.names = T)\n",
    "dataset_names  <- list.files(\"../../240218_VN_Diabetes_V05/tables/fold_change\", full.names = F)\n"
   ]
  },
  {
   "cell_type": "code",
   "execution_count": null,
   "id": "8f49fe3b",
   "metadata": {},
   "outputs": [],
   "source": [
    "paths_fc"
   ]
  },
  {
   "cell_type": "code",
   "execution_count": null,
   "id": "3e02ffdf",
   "metadata": {},
   "outputs": [],
   "source": [
    "paths_fc  <- paths_fc[which(grepl(paths_fc, pattern = \"Ctrl\")|grepl(paths_fc, pattern = \"DiaT0_vs_DiaT1\"))]"
   ]
  },
  {
   "cell_type": "code",
   "execution_count": null,
   "id": "1b776828",
   "metadata": {},
   "outputs": [],
   "source": [
    "dataset_names  <- dataset_names[which(grepl(dataset_names, pattern = \"Ctrl\")|grepl(dataset_names, pattern = \"DiaT0_vs_DiaT1\"))]"
   ]
  },
  {
   "cell_type": "code",
   "execution_count": null,
   "id": "85b58e5f",
   "metadata": {
    "scrolled": true
   },
   "outputs": [],
   "source": [
    "dataset_names"
   ]
  },
  {
   "cell_type": "code",
   "execution_count": null,
   "id": "0f014bec",
   "metadata": {
    "scrolled": true
   },
   "outputs": [],
   "source": [
    "paths_fc"
   ]
  },
  {
   "cell_type": "code",
   "execution_count": null,
   "id": "b4083113",
   "metadata": {},
   "outputs": [],
   "source": [
    "fc_read  <- function(i){\n",
    "    fc.df  <- read_csv(paths_fc[i])  %>% as.data.frame()\n",
    "    fc.df$file  <- dataset_names[i]\n",
    "    return(fc.df)\n",
    "}"
   ]
  },
  {
   "cell_type": "code",
   "execution_count": null,
   "id": "2553792a",
   "metadata": {
    "scrolled": true
   },
   "outputs": [],
   "source": [
    "fc.dfs  <- map(1:length(paths_fc),.f = fc_read)"
   ]
  },
  {
   "cell_type": "code",
   "execution_count": null,
   "id": "4e17cb05",
   "metadata": {},
   "outputs": [],
   "source": [
    "fc.dfs2  <- bind_rows(fc.dfs)"
   ]
  },
  {
   "cell_type": "code",
   "execution_count": null,
   "id": "efa55426",
   "metadata": {
    "scrolled": true
   },
   "outputs": [],
   "source": [
    "fc.dfs2$file  %>% table"
   ]
  },
  {
   "cell_type": "code",
   "execution_count": null,
   "id": "7c1af635",
   "metadata": {
    "scrolled": true
   },
   "outputs": [],
   "source": [
    "fc.dfs3  <- fc.dfs2 %>%  \n",
    "mutate(dataset = file)  %>% \n",
    "mutate(dataset = gsub(dataset, pattern = \"_Ctrl_vs_DiaT0\", replacement = \".Ctrl_vs_DiaT0\"))  %>% \n",
    "mutate(dataset = gsub(dataset, pattern = \"_Ctrl_vs_DiaT1\", replacement = \".Ctrl_vs_DiaT1\"))  %>% \n",
    "mutate(dataset = gsub(dataset, pattern = \"_DiaT0_vs_DiaT1\", replacement = \".DiaT0_vs_DiaT1\"))  %>% \n",
    "separate(dataset, into = c(\"population\", \"test_type\"), sep = \"\\\\.\", remove = F)  %>% \n",
    "dplyr::filter(grepl(x = cluster, pattern = \"Dia\")) "
   ]
  },
  {
   "cell_type": "markdown",
   "id": "76660da5",
   "metadata": {},
   "source": [
    "### CD8 fold change correlations"
   ]
  },
  {
   "cell_type": "code",
   "execution_count": null,
   "id": "933729f0",
   "metadata": {},
   "outputs": [],
   "source": [
    "fc.dfs3"
   ]
  },
  {
   "cell_type": "code",
   "execution_count": null,
   "id": "33d290cd",
   "metadata": {},
   "outputs": [],
   "source": [
    "fc.dfs3.cd8  <- fc.dfs3  %>% dplyr::filter(grepl(population, pattern = \"cd8\"))"
   ]
  },
  {
   "cell_type": "markdown",
   "id": "99e4ed58",
   "metadata": {},
   "source": [
    "We see that the names of populations are different between DESeq FCs and Wilcox FCs. We need to fix that. "
   ]
  },
  {
   "cell_type": "code",
   "execution_count": null,
   "id": "e45df718",
   "metadata": {},
   "outputs": [],
   "source": [
    "fc.dfs3.cd8$population  %>% table"
   ]
  },
  {
   "cell_type": "code",
   "execution_count": null,
   "id": "228d25cb",
   "metadata": {},
   "outputs": [],
   "source": [
    "all_fcs_cd8  <- all_markers_cd8"
   ]
  },
  {
   "cell_type": "code",
   "execution_count": null,
   "id": "25b9cb06",
   "metadata": {},
   "outputs": [],
   "source": [
    "all_fcs_cd8$dataset  %>% table"
   ]
  },
  {
   "cell_type": "code",
   "execution_count": null,
   "id": "e6c785e0",
   "metadata": {},
   "outputs": [],
   "source": [
    "all_fcs_cd8$dataset  %>% table"
   ]
  },
  {
   "cell_type": "code",
   "execution_count": null,
   "id": "b884a5b6",
   "metadata": {},
   "outputs": [],
   "source": [
    "colnames(all_fcs_cd8)"
   ]
  },
  {
   "cell_type": "markdown",
   "id": "aa816d08",
   "metadata": {},
   "source": [
    "Now I will create a new column population that will contain factor with the same levels as in fc.dfs3.cd8"
   ]
  },
  {
   "cell_type": "code",
   "execution_count": null,
   "id": "7d5c274d",
   "metadata": {},
   "outputs": [],
   "source": [
    "all_fcs_cd8  <- all_fcs_cd8  %>% mutate(population = recode_factor(dataset,\n",
    "              \"CD8 NK cells---NK cells\" = \"cd8_l2_nk\",\n",
    "              \"CD8 T cells---Naive\" = \"cd8_l3_naive\",\n",
    "              \"CD8 T cells---Proliferating\" = \"cd8_l3_prolif\",\n",
    "              \"CD8 T cells---Tcm\" = \"cd8_l3_tcm\",\n",
    "              \"CD8 T cells---Tem\" = \"cd8_l3_tem\",\n",
    "              \"CD8 T cells---Temra\" = \"cd8_l3_temra\",\n",
    "              \"CD8 Unconventional T cells---gd T cells\" = \"cd8_l2_unc\",\n",
    "              \"CD8 Unconventional T cells---MAIT cells\" = \"cd8_l2_unc\",\n",
    "              \"cd8_l1_full_filt\" = \"cd8_l1_full_filt\"))"
   ]
  },
  {
   "cell_type": "code",
   "execution_count": null,
   "id": "c03cb809",
   "metadata": {},
   "outputs": [],
   "source": [
    "all_fcs_cd8"
   ]
  },
  {
   "cell_type": "markdown",
   "id": "17dea650",
   "metadata": {},
   "source": [
    "We also need to make sure that we will be comparing the same test types. "
   ]
  },
  {
   "cell_type": "code",
   "execution_count": null,
   "id": "672d872d",
   "metadata": {},
   "outputs": [],
   "source": [
    "all_fcs_cd8$test_type  %>% table"
   ]
  },
  {
   "cell_type": "code",
   "execution_count": null,
   "id": "5f71ca13",
   "metadata": {},
   "outputs": [],
   "source": [
    "fc.dfs3.cd8$test_type  %>% table"
   ]
  },
  {
   "cell_type": "markdown",
   "id": "8a589a7f",
   "metadata": {},
   "source": [
    "For now we will only work with Ctrl and T1D comnparisons. "
   ]
  },
  {
   "cell_type": "code",
   "execution_count": null,
   "id": "01ca583e",
   "metadata": {},
   "outputs": [],
   "source": [
    "fc.dfs3.cd8  <- fc.dfs3.cd8  %>% \n",
    "mutate(test_type = recode_factor(test_type,\n",
    "              \"Ctrl_vs_DiaT0\" = \"Dia T0 vs Ctrl T0\" ,\n",
    "              \"Ctrl_vs_DiaT1\" = \"Dia T1 vs Ctrl T0\",\n",
    "              \"DiaT0_vs_DiaT1\" = \"Dia T0 vs Dia T1\"))"
   ]
  },
  {
   "cell_type": "markdown",
   "id": "7ab4f743",
   "metadata": {},
   "source": [
    "Let's check that we have both positive and negative values for FCs in both tables. "
   ]
  },
  {
   "cell_type": "code",
   "execution_count": null,
   "id": "bbd2df0e",
   "metadata": {},
   "outputs": [],
   "source": [
    "fc.dfs3.cd8$cluster  %>% table"
   ]
  },
  {
   "cell_type": "code",
   "execution_count": null,
   "id": "7ccf6515",
   "metadata": {
    "scrolled": true
   },
   "outputs": [],
   "source": [
    "all_fcs_cd8"
   ]
  },
  {
   "cell_type": "code",
   "execution_count": null,
   "id": "662e9991",
   "metadata": {},
   "outputs": [],
   "source": [
    "fc.dfs3.cd8  %>% dplyr::filter(test_type == \"Dia T0 vs Dia T1\")"
   ]
  },
  {
   "cell_type": "code",
   "execution_count": null,
   "id": "a6de6c63",
   "metadata": {
    "scrolled": true
   },
   "outputs": [],
   "source": [
    "all_fcs_cd8"
   ]
  },
  {
   "cell_type": "code",
   "execution_count": null,
   "id": "c95ac7c9",
   "metadata": {},
   "outputs": [],
   "source": [
    "fc.dfs3.cd8"
   ]
  },
  {
   "cell_type": "markdown",
   "id": "acbb4486",
   "metadata": {},
   "source": [
    "Correlations of FCs."
   ]
  },
  {
   "cell_type": "code",
   "execution_count": null,
   "id": "6566c025",
   "metadata": {},
   "outputs": [],
   "source": [
    "wilcox_fcs  <- fc.dfs3.cd8  %>% \n",
    "                dplyr::filter(!(test_type == \"Dia T0 vs Dia T1\" & cluster == \"Dia T1\"))  %>% \n",
    "                dplyr::select(gene, population, test_type, avg_log2FC_Wilcox = avg_log2FC)  %>% \n",
    "unique()"
   ]
  },
  {
   "cell_type": "code",
   "execution_count": null,
   "id": "3cf76b34",
   "metadata": {},
   "outputs": [],
   "source": [
    "wilcox_fcs$population  %>% table()"
   ]
  },
  {
   "cell_type": "code",
   "execution_count": null,
   "id": "bc2f7f58",
   "metadata": {
    "scrolled": true
   },
   "outputs": [],
   "source": [
    "wilcox_fcs$test_type  %>% table"
   ]
  },
  {
   "cell_type": "code",
   "execution_count": null,
   "id": "710c5f0c",
   "metadata": {
    "scrolled": true
   },
   "outputs": [],
   "source": [
    "all_fcs_cd8$population  %>% table"
   ]
  },
  {
   "cell_type": "code",
   "execution_count": null,
   "id": "a612115e",
   "metadata": {},
   "outputs": [],
   "source": [
    "all_fcs_cd8$test_type  %>% table"
   ]
  },
  {
   "cell_type": "code",
   "execution_count": null,
   "id": "386553d7",
   "metadata": {},
   "outputs": [],
   "source": [
    "DESeq_fcs  <- all_fcs_cd8  %>% dplyr::select(gene, population, test_type, avg_log2FC_DESeq = avg_log2FC)"
   ]
  },
  {
   "cell_type": "code",
   "execution_count": null,
   "id": "da80515a",
   "metadata": {},
   "outputs": [],
   "source": []
  },
  {
   "cell_type": "code",
   "execution_count": null,
   "id": "ac5d6a9a",
   "metadata": {},
   "outputs": [],
   "source": [
    "all_joint_fcs  <- wilcox_fcs  %>% left_join(DESeq_fcs)"
   ]
  },
  {
   "cell_type": "code",
   "execution_count": null,
   "id": "4defb440",
   "metadata": {
    "scrolled": true
   },
   "outputs": [],
   "source": [
    "all_joint_fcs"
   ]
  },
  {
   "cell_type": "code",
   "execution_count": null,
   "id": "161125b7",
   "metadata": {
    "scrolled": true
   },
   "outputs": [],
   "source": [
    "options(repr.plot.width = 12, repr.plot.height = 20)\n",
    "all_joint_fcs  %>% \n",
    "ggplot(aes(x = avg_log2FC_Wilcox, y = avg_log2FC_DESeq)) +\n",
    "geom_point(alpha = 0.5, size = 0.5) +\n",
    "facet_grid(cols = vars(test_type), rows = vars(population), scales = \"free\") +\n",
    "ggpubr::stat_cor() +\n",
    "geom_smooth(method = lm) +\n",
    "ggtheme()"
   ]
  },
  {
   "cell_type": "code",
   "execution_count": null,
   "id": "ecd1008b",
   "metadata": {},
   "outputs": [],
   "source": [
    "cor_test_cd8  <- all_joint_fcs  %>% \n",
    "dplyr::filter(population != \"cd8_l2_subcluster\")  %>% \n",
    "group_by(population, test_type)  %>% \n",
    "rstatix::cor_test(vars = avg_log2FC_Wilcox, vars2 = avg_log2FC_DESeq)"
   ]
  },
  {
   "cell_type": "code",
   "execution_count": null,
   "id": "0ecafa82",
   "metadata": {
    "scrolled": true
   },
   "outputs": [],
   "source": [
    "cor_test_cd8"
   ]
  },
  {
   "cell_type": "code",
   "execution_count": null,
   "id": "f4d59637",
   "metadata": {},
   "outputs": [],
   "source": [
    "cor_test_cd8  %>% \n",
    "mutate(p = ifelse(p == 0,10^-290,p)) %>% \n",
    "ggplot(aes(x = population, y = test_type)) +\n",
    "geom_point(aes(size = -log(p), color = cor)) + \n",
    "  theme_bw() +\n",
    "scale_color_gradientn(colours = c(\"dodgerblue\",\"grey88\", \"red\"),limits = c(-1, 1)) +\n",
    "scale_size_continuous(range=c(7,12)) +\n",
    "ggtheme()"
   ]
  },
  {
   "cell_type": "code",
   "execution_count": null,
   "id": "2b8a2712",
   "metadata": {},
   "outputs": [],
   "source": [
    "ggsave(\"../figures/DE_genes/correlation_deseq_wilcox_cd8.svg\", width = 20, height = 10, units = \"cm\")"
   ]
  },
  {
   "cell_type": "markdown",
   "id": "8dd7c541",
   "metadata": {},
   "source": [
    "## CD4 T cells"
   ]
  },
  {
   "cell_type": "code",
   "execution_count": null,
   "id": "471eda94",
   "metadata": {},
   "outputs": [],
   "source": [
    "genes  <- rownames(cd4_l1_full_filt_sub@assays$RNA)"
   ]
  },
  {
   "cell_type": "code",
   "execution_count": null,
   "id": "ad491b4d",
   "metadata": {},
   "outputs": [],
   "source": [
    "genes_filt  <- genes[!(grepl(genes, pattern = \"^MT\")|\n",
    "                            grepl(genes, pattern = \"\\\\.\")|\n",
    "                            grepl(genes, pattern = \"LINC\")|\n",
    "                            grepl(genes, pattern = \"^MIR\")|\n",
    "                            grepl(genes, pattern = \"^MT\")|\n",
    "                            grepl(genes, pattern = \"HNRNP\")|\n",
    "                            grepl(genes, pattern = \"^RP[LS]\")|\n",
    "                            grepl(genes, pattern = \"\\\\-\")|\n",
    "                            grepl(genes, pattern = \"TTTY\")|\n",
    "                            grepl(genes, pattern = \"ORF\")|\n",
    "                            grepl(genes, pattern = \"orf\"))\n",
    "                            ]"
   ]
  },
  {
   "cell_type": "code",
   "execution_count": null,
   "id": "bc094922",
   "metadata": {},
   "outputs": [],
   "source": [
    "aggexp_cd4  <- AggregateExpression(cd4_l1_full_filt_sub, group.by = c(\"Sample_ID\"), \n",
    "                                  features = genes_filt, return.seurat = T, assay = \"RNA\")"
   ]
  },
  {
   "cell_type": "code",
   "execution_count": null,
   "id": "e2ceb610",
   "metadata": {},
   "outputs": [],
   "source": [
    "aggexp_cd4"
   ]
  },
  {
   "cell_type": "markdown",
   "id": "82c4e9dc",
   "metadata": {},
   "source": [
    "### Metadata consolidation"
   ]
  },
  {
   "cell_type": "markdown",
   "id": "d9455324",
   "metadata": {},
   "source": [
    "We need to add metadata with Partial response and ketoacidosis to the pseudobulked object. "
   ]
  },
  {
   "cell_type": "code",
   "execution_count": null,
   "id": "4a0ca984",
   "metadata": {},
   "outputs": [],
   "source": [
    "md_for_remission  <- cd4_l1_full_filt_sub@meta.data  %>% \n",
    "dplyr::filter(Condition %in% c(\"Dia T0\"))  %>% \n",
    "group_by(Patient_ID, part_remission_y_n)  %>% \n",
    "tally %>% mutate(Condition2 = paste0(\"PR_\",part_remission_y_n))  %>% \n",
    "dplyr::select(-n, -part_remission_y_n)"
   ]
  },
  {
   "cell_type": "code",
   "execution_count": null,
   "id": "9bb24746",
   "metadata": {
    "scrolled": true
   },
   "outputs": [],
   "source": [
    "md_for_remission"
   ]
  },
  {
   "cell_type": "code",
   "execution_count": null,
   "id": "3fcc612d",
   "metadata": {},
   "outputs": [],
   "source": [
    "cd4_l1_full_filt_sub$Condition2  %>% table"
   ]
  },
  {
   "cell_type": "code",
   "execution_count": null,
   "id": "441bb7a3",
   "metadata": {},
   "outputs": [],
   "source": [
    "head(colnames(cd4_l1_full_filt_sub))"
   ]
  },
  {
   "cell_type": "code",
   "execution_count": null,
   "id": "0ad0850a",
   "metadata": {},
   "outputs": [],
   "source": [
    "cd4_l1_full_filt_sub@meta.data"
   ]
  },
  {
   "cell_type": "code",
   "execution_count": null,
   "id": "2160d3b1",
   "metadata": {},
   "outputs": [],
   "source": [
    "cd4_l1_full_filt_sub$Condition2  <- NULL\n",
    "cd4_l1_full_filt_sub@meta.data  <- cd4_l1_full_filt_sub@meta.data  %>% \n",
    "left_join(md_for_remission)  %>% mutate(Condition2 = paste(Condition2, Time))  %>% \n",
    "mutate(Condition2 = ifelse(grepl(Condition2, pattern = \"NA\"), NA_character_,Condition2))\n",
    "    "
   ]
  },
  {
   "cell_type": "code",
   "execution_count": null,
   "id": "b571da3a",
   "metadata": {},
   "outputs": [],
   "source": [
    "md_for_ketoacidosis  <- cd4_l1_full_filt_sub@meta.data  %>% \n",
    "dplyr::filter(Condition %in% c(\"Dia T0\"))  %>% \n",
    "group_by(Patient_ID, ph_man)  %>% \n",
    "tally %>% mutate(Ketoacidosis = ifelse(ph_man<7.3,\"Keto_1\",\"Keto_0\"))  %>% \n",
    "dplyr::select(-ph_man, -n)"
   ]
  },
  {
   "cell_type": "code",
   "execution_count": null,
   "id": "63d03266",
   "metadata": {
    "scrolled": true
   },
   "outputs": [],
   "source": [
    "md_for_ketoacidosis"
   ]
  },
  {
   "cell_type": "code",
   "execution_count": null,
   "id": "2698720c",
   "metadata": {},
   "outputs": [],
   "source": [
    " cd4_l1_full_filt_sub@meta.data  <- cd4_l1_full_filt_sub@meta.data  %>% \n",
    "    left_join(md_for_ketoacidosis)   %>% mutate(Keto_Time = paste(Ketoacidosis, Time))  %>% \n",
    "    mutate(Keto_Time = ifelse(grepl(Keto_Time, pattern = \"NA\"), NA_character_,Keto_Time))\n",
    "    \n",
    "    print(cd4_l1_full_filt_sub$Ketoacidosis  %>% table)\n"
   ]
  },
  {
   "cell_type": "code",
   "execution_count": null,
   "id": "de31a0a5",
   "metadata": {},
   "outputs": [],
   "source": [
    "Conditions  <- list(c(\"Dia T0\", \"Ctrl T0\"),\n",
    "                    c(\"Dia T0\", \"Dia T1\"),\n",
    "                    c(\"Dia T1\", \"Ctrl T0\"),\n",
    "                    c(\"PR_0 T0\", \"PR_1 T0\"),\n",
    "                    c(\"PR_0 T1\", \"PR_1 T1\"),\n",
    "                    c(\"PR_0 T0\", \"PR_0 T1\"),\n",
    "                    c(\"PR_1 T0\", \"PR_1 T1\"),\n",
    "                    c(\"Keto_1 T0\", \"Keto_0 T0\"))"
   ]
  },
  {
   "cell_type": "code",
   "execution_count": null,
   "id": "df11ac62",
   "metadata": {},
   "outputs": [],
   "source": []
  },
  {
   "cell_type": "code",
   "execution_count": null,
   "id": "612a4339",
   "metadata": {},
   "outputs": [],
   "source": [
    "md_cd4  <- cd4_l1_full_filt_sub@meta.data  %>% \n",
    "group_by(Sample_ID, Condition, Condition2, Age, Sex, Ketoacidosis, Keto_Time)  %>% tally  %>% dplyr::select(-n)  %>% \n",
    "ungroup  %>% \n",
    "mutate(Sample_ID = as.factor(Sample_ID))"
   ]
  },
  {
   "cell_type": "code",
   "execution_count": null,
   "id": "f94c3c7f",
   "metadata": {
    "scrolled": true
   },
   "outputs": [],
   "source": [
    "md_cd4$Sample_ID  <- paste0(\"g\",md_cd4$Sample_ID)"
   ]
  },
  {
   "cell_type": "code",
   "execution_count": null,
   "id": "532f32ef",
   "metadata": {},
   "outputs": [],
   "source": [
    "\n",
    "md_cd4  <- left_join(aggexp_cd4@meta.data, md_cd4)\n",
    "rownames(md_cd4)  <- colnames(aggexp_cd4)"
   ]
  },
  {
   "cell_type": "code",
   "execution_count": null,
   "id": "b8cee534",
   "metadata": {
    "scrolled": true
   },
   "outputs": [],
   "source": [
    "md_cd4"
   ]
  },
  {
   "cell_type": "markdown",
   "id": "e10f8e8d",
   "metadata": {},
   "source": [
    "### CD4 L1 dataset"
   ]
  },
  {
   "cell_type": "code",
   "execution_count": null,
   "id": "bcb4b7b9",
   "metadata": {},
   "outputs": [],
   "source": [
    "aggexp_cd4@meta.data  <- md_cd4"
   ]
  },
  {
   "cell_type": "code",
   "execution_count": null,
   "id": "643a71a3",
   "metadata": {},
   "outputs": [],
   "source": [
    "aggexp_cd4"
   ]
  },
  {
   "cell_type": "code",
   "execution_count": null,
   "id": "d3476411",
   "metadata": {},
   "outputs": [],
   "source": [
    "# Function to calculate markers for a subsetted da for given conditions\n",
    "\n",
    "Create_Markers_DataFrame  <- function(j){\n",
    "     print(\"#######################\")\n",
    "    print(j)\n",
    "    \n",
    "    Condition_1 = Conditions[[j]][1]\n",
    "    Condition_2 = Conditions[[j]][2]\n",
    "    \n",
    "    seurat_obj  <- aggexp_cd4\n",
    "        \n",
    "    if(grepl(Condition_1, pattern = \"PR\")){\n",
    "      seurat_obj$Condition  <- seurat_obj$Condition2\n",
    "    }\n",
    "    \n",
    "    if(grepl(Condition_1, pattern = \"Keto\")){\n",
    "      seurat_obj$Condition  <- seurat_obj$Keto_Time\n",
    "    }\n",
    "    \n",
    "    ## Create subsetted df\n",
    "        ds  <- subset(seurat_obj, Condition %in% c(Condition_1, Condition_2) )\n",
    "        print(ds$Condition  %>% table)\n",
    "    \n",
    "    ## scRNAseq - RNA\n",
    "    DefaultAssay(ds)  <- \"RNA\"\n",
    "        Idents(ds)  <- ds$Condition\n",
    "        markers_sc  <- FindMarkers(ds, only.pos = F, `ident.1` = Condition_1, `ident.2` = Condition_2,\n",
    "                                   test.use = \"DESeq2\")\n",
    "        markers_sc$source  <- \"scRNAseq_RNA\"\n",
    "            markers_sc$gene  <- rownames(markers_sc)\n",
    "\n",
    "        rownames(markers_sc)  <- NULL\n",
    "    print(paste(\"DE RNA: \", nrow(markers_sc)))\n",
    "    \n",
    "    markers_sc2  <- data.frame()\n",
    "    \n",
    "   if(nrow(markers_sc2)>0 & nrow(markers_sc)>0){ \n",
    "            markers2 <- rbind(markers_sc, markers_sc2) } else {\n",
    "        if(nrow(markers_sc)>0){\n",
    "            markers2  <- markers_sc\n",
    "            } else {\n",
    "            if(nrow(markers_sc2)>0){\n",
    "                markers2  <- markers_sc2\n",
    "            \n",
    "            } else {\n",
    "                markers2  <- NULL\n",
    "                }\n",
    "        }\n",
    "        }\n",
    "    \n",
    "        markers2$test_type  <- paste(Conditions[[j]][1], \"vs\", Conditions[[j]][2])\n",
    "        print(\"..\")\n",
    "        markers2$dataset  <- \"cd4_l1_full_filt\"\n",
    "        return(markers2)\n",
    "}\n"
   ]
  },
  {
   "cell_type": "code",
   "execution_count": null,
   "id": "f39587b2",
   "metadata": {
    "scrolled": true
   },
   "outputs": [],
   "source": [
    "mrk  <- map(.x = 1:8, .f = Create_Markers_DataFrame)\n",
    "\n",
    "mrk  <- bind_rows(mrk) "
   ]
  },
  {
   "cell_type": "code",
   "execution_count": null,
   "id": "2572e6b1",
   "metadata": {},
   "outputs": [],
   "source": [
    "all_markers  <- mrk"
   ]
  },
  {
   "cell_type": "code",
   "execution_count": null,
   "id": "329accb5",
   "metadata": {
    "scrolled": true
   },
   "outputs": [],
   "source": [
    "all_markers"
   ]
  },
  {
   "cell_type": "markdown",
   "id": "d74e5dda",
   "metadata": {},
   "source": [
    "### CD4 L2 datasets"
   ]
  },
  {
   "cell_type": "code",
   "execution_count": null,
   "id": "41d66128",
   "metadata": {},
   "outputs": [],
   "source": [
    "cd4_l1_full_filt_sub$annotations_l2  %>% table"
   ]
  },
  {
   "cell_type": "code",
   "execution_count": null,
   "id": "06c339e6",
   "metadata": {},
   "outputs": [],
   "source": [
    "l2_datasets  <- levels(factor(cd4_l1_full_filt_sub$annotations_l2))"
   ]
  },
  {
   "cell_type": "code",
   "execution_count": null,
   "id": "9cc5d46f",
   "metadata": {},
   "outputs": [],
   "source": [
    "l2_datasets"
   ]
  },
  {
   "cell_type": "code",
   "execution_count": null,
   "id": "93964a7f",
   "metadata": {},
   "outputs": [],
   "source": []
  },
  {
   "cell_type": "code",
   "execution_count": null,
   "id": "ba77bcae",
   "metadata": {},
   "outputs": [],
   "source": [
    "aggexp_cd4  <- AggregateExpression(cd4_l1_full_filt_sub, group.by = c(\"Sample_ID\", \"annotations_l2\"), \n",
    "                                  features = genes_filt, return.seurat = T, assay = \"RNA\")"
   ]
  },
  {
   "cell_type": "code",
   "execution_count": null,
   "id": "6c5b1083",
   "metadata": {},
   "outputs": [],
   "source": [
    "aggexp_cd4$Sample_ID  %>% table"
   ]
  },
  {
   "cell_type": "code",
   "execution_count": null,
   "id": "1e4c65cc",
   "metadata": {},
   "outputs": [],
   "source": [
    "md_cd4  <- cd4_l1_full_filt_sub@meta.data  %>% \n",
    "group_by(Sample_ID, Condition, Condition2, Age, Sex, Ketoacidosis, Keto_Time)  %>% tally  %>% dplyr::select(-n)  %>% \n",
    "ungroup  %>% \n",
    "mutate(Sample_ID = as.factor(Sample_ID))"
   ]
  },
  {
   "cell_type": "code",
   "execution_count": null,
   "id": "5786eadb",
   "metadata": {
    "scrolled": true
   },
   "outputs": [],
   "source": [
    "md_cd4$Sample_ID  <- paste0(\"g\",md_cd4$Sample_ID)"
   ]
  },
  {
   "cell_type": "code",
   "execution_count": null,
   "id": "74d28e27",
   "metadata": {},
   "outputs": [],
   "source": [
    "md_cd4  <- left_join(aggexp_cd4@meta.data, md_cd4)\n",
    "rownames(md_cd4)  <- colnames(aggexp_cd4)"
   ]
  },
  {
   "cell_type": "code",
   "execution_count": null,
   "id": "79c4d9c3",
   "metadata": {},
   "outputs": [],
   "source": [
    "aggexp_cd4@meta.data  <- md_cd4"
   ]
  },
  {
   "cell_type": "code",
   "execution_count": null,
   "id": "891cf439",
   "metadata": {
    "scrolled": true
   },
   "outputs": [],
   "source": [
    "aggexp_cd4@meta.data"
   ]
  },
  {
   "cell_type": "code",
   "execution_count": null,
   "id": "157ccf45",
   "metadata": {},
   "outputs": [],
   "source": [
    "# Function to calculate markers for a subsetted da for given conditions\n",
    "\n",
    "Create_Markers_DataFrame  <- function(j){\n",
    "     print(\"#######################\")\n",
    "    print(j)\n",
    "    \n",
    "    Condition_1 = Conditions[[j]][1]\n",
    "    Condition_2 = Conditions[[j]][2]\n",
    "    \n",
    "    seurat_obj  <- subset(aggexp_cd4, annotations_l2 == levels(factor((aggexp_cd4$annotations_l2)))[i])\n",
    "        \n",
    "    if(grepl(Condition_1, pattern = \"PR\")){\n",
    "      seurat_obj$Condition  <- seurat_obj$Condition2\n",
    "    }\n",
    "    \n",
    "    if(grepl(Condition_1, pattern = \"Keto\")){\n",
    "      seurat_obj$Condition  <- seurat_obj$Keto_Time\n",
    "    }\n",
    "    \n",
    "    ## Create subsetted df\n",
    "        ds  <- subset(seurat_obj, Condition %in% c(Condition_1, Condition_2) )\n",
    "        print(ds$Condition  %>% table)\n",
    "    \n",
    "    ## scRNAseq - RNA\n",
    "    DefaultAssay(ds)  <- \"RNA\"\n",
    "        Idents(ds)  <- ds$Condition\n",
    "        markers_sc  <- FindMarkers(ds, only.pos = F, `ident.1` = Condition_1, `ident.2` = Condition_2,\n",
    "                                   test.use = \"DESeq2\")\n",
    "        markers_sc$source  <- \"scRNAseq_RNA\"\n",
    "                markers_sc$gene  <- rownames(markers_sc)\n",
    "\n",
    "        rownames(markers_sc)  <- NULL\n",
    "    print(paste(\"DE RNA: \", nrow(markers_sc)))\n",
    "    \n",
    "    markers_sc2  <- data.frame()\n",
    "    \n",
    "   if(nrow(markers_sc2)>0 & nrow(markers_sc)>0){ \n",
    "            markers2 <- rbind(markers_sc, markers_sc2) } else {\n",
    "        if(nrow(markers_sc)>0){\n",
    "            markers2  <- markers_sc\n",
    "            } else {\n",
    "            if(nrow(markers_sc2)>0){\n",
    "                markers2  <- markers_sc2\n",
    "            \n",
    "            } else {\n",
    "                markers2  <- NULL\n",
    "                }\n",
    "        }\n",
    "        }\n",
    "    \n",
    "        markers2$test_type  <- paste(Conditions[[j]][1], \"vs\", Conditions[[j]][2])\n",
    "        print(\"..\")\n",
    "        markers2$dataset  <- levels(factor((aggexp_cd4$annotations_l2)))[i]\n",
    "        return(markers2)\n",
    "}\n"
   ]
  },
  {
   "cell_type": "code",
   "execution_count": null,
   "id": "25a343f1",
   "metadata": {
    "scrolled": true
   },
   "outputs": [],
   "source": [
    "for(i in 1:length(levels(factor((aggexp_cd4$annotations_l2))))){\n",
    "\n",
    "print(\"######################################################################\")\n",
    "if(i > 1){\n",
    "suppressWarnings(rm(markers_sc, markers, markers1, markers_sc2, markers_sc_predia, markers_bulk, markers_bulk2))    \n",
    "}\n",
    "    \n",
    "mrk  <- map(.x = 1:8, Create_Markers_DataFrame)\n",
    "\n",
    "mrk  <- bind_rows(mrk) \n",
    "    \n",
    "all_markers  <- rbind(all_markers, mrk)\n",
    "\n",
    "    \n",
    "}"
   ]
  },
  {
   "cell_type": "code",
   "execution_count": null,
   "id": "280f509e",
   "metadata": {
    "scrolled": true
   },
   "outputs": [],
   "source": [
    "all_markers  %>% dplyr::filter(p_val_adj<0.05)"
   ]
  },
  {
   "cell_type": "code",
   "execution_count": null,
   "id": "2df8cf4c",
   "metadata": {
    "scrolled": true
   },
   "outputs": [],
   "source": [
    "all_markers\n"
   ]
  },
  {
   "cell_type": "code",
   "execution_count": null,
   "id": "ba6dd92f",
   "metadata": {},
   "outputs": [],
   "source": [
    "all_markers_cd4   <- all_markers"
   ]
  },
  {
   "cell_type": "code",
   "execution_count": null,
   "id": "a7f20d1e",
   "metadata": {
    "scrolled": true
   },
   "outputs": [],
   "source": [
    "all_markers_cd4"
   ]
  },
  {
   "cell_type": "markdown",
   "id": "c44ab527",
   "metadata": {},
   "source": [
    "## Load fold changes calculated by Wilcox"
   ]
  },
  {
   "cell_type": "code",
   "execution_count": null,
   "id": "a1b46948",
   "metadata": {},
   "outputs": [],
   "source": [
    "all_fcs_cd4  <- all_markers_cd4"
   ]
  },
  {
   "cell_type": "code",
   "execution_count": null,
   "id": "bcdeb66d",
   "metadata": {
    "scrolled": true
   },
   "outputs": [],
   "source": [
    "all_fcs_cd4$dataset  %>% table"
   ]
  },
  {
   "cell_type": "markdown",
   "id": "1bcac78b",
   "metadata": {},
   "source": [
    "###  CD4 FCS correlation"
   ]
  },
  {
   "cell_type": "code",
   "execution_count": null,
   "id": "b3a22979",
   "metadata": {},
   "outputs": [],
   "source": [
    "fc.dfs3.cd4  <- fc.dfs3  %>% dplyr::filter(grepl(population, pattern = \"cd4\"))"
   ]
  },
  {
   "cell_type": "markdown",
   "id": "ad9b4ed3",
   "metadata": {},
   "source": [
    "We see that the names of populations are different between DESeq FCs and Wilcox FCs. We need to fix that. "
   ]
  },
  {
   "cell_type": "code",
   "execution_count": null,
   "id": "d2ae4347",
   "metadata": {},
   "outputs": [],
   "source": [
    "fc.dfs3.cd4$population  %>% table"
   ]
  },
  {
   "cell_type": "code",
   "execution_count": null,
   "id": "2642b57a",
   "metadata": {},
   "outputs": [],
   "source": [
    "all_fcs_cd4$dataset  %>% table"
   ]
  },
  {
   "cell_type": "code",
   "execution_count": null,
   "id": "e22baf22",
   "metadata": {},
   "outputs": [],
   "source": [
    "colnames(all_fcs_cd4)"
   ]
  },
  {
   "cell_type": "markdown",
   "id": "cf8b38de",
   "metadata": {},
   "source": [
    "Now I will create a new column population that will contain factor with the same levels as in fc.dfs3.cd4"
   ]
  },
  {
   "cell_type": "code",
   "execution_count": null,
   "id": "483c424a",
   "metadata": {},
   "outputs": [],
   "source": [
    "all_fcs_cd4  <- all_fcs_cd4  %>% mutate(population = recode_factor(dataset,\n",
    "              \"CD4 T cells---ISAGhi\" = \"cd4_l3_isaghi\",\n",
    "              \"CD4 T cells---Naive\" = \"cd4_l3_naive\",\n",
    "              \"CD4 T cells---Nfkb\" = \"cd4_l3_nfkb\",\n",
    "              \"CD4 T cells---Proliferating\" = \"cd4_l3_proliferating\",\n",
    "              \"CD4 T cells---Temra\" = \"cd4_l3_temra\",\n",
    "              \"CD4 T cells---Tfh\" = \"cd4_l3_tfh\",\n",
    "              \"CD4 T cells---Th1Th17\" = \"cd4_l3_th1th17\",\n",
    "              \"CD4 T cells---Th2\" = \"cd4_l3_th2\",\n",
    "              \"CD4 T cells---Treg\" = \"cd4_l3_treg\",\n",
    "              \"CD4 Unconventional T cells---Unconventional\" = \"cd4_l2_unc\",\n",
    "              \"cd4_l1_full_filt\" = \"cd4_l1_full_filt\"\n",
    "              ))"
   ]
  },
  {
   "cell_type": "markdown",
   "id": "0a945388",
   "metadata": {},
   "source": [
    "We also need to make sure that we will be comparing the same test types. "
   ]
  },
  {
   "cell_type": "code",
   "execution_count": null,
   "id": "7555218a",
   "metadata": {},
   "outputs": [],
   "source": [
    "all_fcs_cd4$test_type  %>% table"
   ]
  },
  {
   "cell_type": "code",
   "execution_count": null,
   "id": "e035c939",
   "metadata": {},
   "outputs": [],
   "source": [
    "fc.dfs3.cd4$test_type  %>% table"
   ]
  },
  {
   "cell_type": "markdown",
   "id": "f3fe37b2",
   "metadata": {},
   "source": [
    "For now we will only work with Ctrl and T1D comnparisons. "
   ]
  },
  {
   "cell_type": "code",
   "execution_count": null,
   "id": "e1886eb8",
   "metadata": {},
   "outputs": [],
   "source": [
    "fc.dfs3.cd4  <- fc.dfs3.cd4  %>% \n",
    "mutate(test_type = recode_factor(test_type,\n",
    "              \"Ctrl_vs_DiaT0\" = \"Dia T0 vs Ctrl T0\" ,\n",
    "              \"Ctrl_vs_DiaT1\" = \"Dia T1 vs Ctrl T0\",\n",
    "              \"DiaT0_vs_DiaT1\" = \"Dia T0 vs Dia T1\"))"
   ]
  },
  {
   "cell_type": "markdown",
   "id": "962547f7",
   "metadata": {},
   "source": [
    "Let's check that we have both positive and negative values for FCs in both tables. "
   ]
  },
  {
   "cell_type": "code",
   "execution_count": null,
   "id": "362c0464",
   "metadata": {},
   "outputs": [],
   "source": [
    "fc.dfs3.cd4$cluster  %>% table"
   ]
  },
  {
   "cell_type": "code",
   "execution_count": null,
   "id": "dd30a441",
   "metadata": {
    "scrolled": true
   },
   "outputs": [],
   "source": [
    "all_fcs_cd4"
   ]
  },
  {
   "cell_type": "code",
   "execution_count": null,
   "id": "6eac3db7",
   "metadata": {},
   "outputs": [],
   "source": [
    "fc.dfs3.cd4  %>% dplyr::filter(test_type == \"Dia T0 vs Dia T1\")"
   ]
  },
  {
   "cell_type": "markdown",
   "id": "69ff1e63",
   "metadata": {},
   "source": [
    "Correlations of FCs."
   ]
  },
  {
   "cell_type": "code",
   "execution_count": null,
   "id": "44384fe4",
   "metadata": {},
   "outputs": [],
   "source": [
    "wilcox_fcs_cd4  <- fc.dfs3.cd4  %>% \n",
    "                dplyr::filter(!(test_type == \"Dia T0 vs Dia T1\" & cluster == \"Dia T1\"))  %>% \n",
    "                dplyr::select(gene, population, test_type, avg_log2FC_Wilcox = avg_log2FC)\n",
    "\n",
    "DESeq_fcs_cd4  <- all_fcs_cd4  %>% dplyr::select(gene, population, test_type, avg_log2FC_DESeq = avg_log2FC)\n"
   ]
  },
  {
   "cell_type": "code",
   "execution_count": null,
   "id": "4af376e0",
   "metadata": {},
   "outputs": [],
   "source": [
    "all_joint_fcs_cd4  <- wilcox_fcs_cd4  %>% left_join(DESeq_fcs_cd4)"
   ]
  },
  {
   "cell_type": "code",
   "execution_count": null,
   "id": "eabbb9a2",
   "metadata": {
    "scrolled": true
   },
   "outputs": [],
   "source": [
    "all_joint_fcs_cd4"
   ]
  },
  {
   "cell_type": "code",
   "execution_count": null,
   "id": "ab101fac",
   "metadata": {},
   "outputs": [],
   "source": [
    "options(repr.plot.width = 12, repr.plot.height = 20)\n",
    "all_joint_fcs_cd4  %>% \n",
    "dplyr::filter(population != \"cd4_l2_subcluster\")  %>% \n",
    "ggplot(aes(x = avg_log2FC_Wilcox, y = avg_log2FC_DESeq)) +\n",
    "geom_point(alpha = 0.5, size = 0.5) +\n",
    "facet_grid(cols = vars(test_type), rows = vars(population), scales = \"free\") +\n",
    "ggpubr::stat_cor() +\n",
    "geom_smooth(method = lm) +\n",
    "ggtheme()"
   ]
  },
  {
   "cell_type": "code",
   "execution_count": null,
   "id": "aed2a6a8",
   "metadata": {},
   "outputs": [],
   "source": [
    "cor_stats_cd4  <- all_joint_fcs_cd4  %>% \n",
    "dplyr::filter(!is.na(avg_log2FC_Wilcox) & !is.na(avg_log2FC_DESeq))  %>% \n",
    "group_by(population, test_type)  %>% \n",
    "rstatix::cor_test(avg_log2FC_Wilcox, avg_log2FC_DESeq)  "
   ]
  },
  {
   "cell_type": "code",
   "execution_count": null,
   "id": "ec344744",
   "metadata": {
    "scrolled": true
   },
   "outputs": [],
   "source": [
    "cor_stats_cd4"
   ]
  },
  {
   "cell_type": "code",
   "execution_count": null,
   "id": "887d171a",
   "metadata": {},
   "outputs": [],
   "source": [
    "options(repr.plot.width = 12, repr.plot.height = 5)\n",
    "cor_stats_cd4  %>% \n",
    "ggplot(aes(x = statistic, y = -log(p), color = population)) +\n",
    "geom_point() +\n",
    "facet_wrap(~test_type, ncol = 3)"
   ]
  },
  {
   "cell_type": "code",
   "execution_count": null,
   "id": "a77aa808",
   "metadata": {
    "scrolled": true
   },
   "outputs": [],
   "source": [
    "all_joint_fcs_cd4"
   ]
  },
  {
   "cell_type": "code",
   "execution_count": null,
   "id": "32b86a47",
   "metadata": {},
   "outputs": [],
   "source": [
    "cor_test_cd4  <- all_joint_fcs_cd4  %>% \n",
    "dplyr::filter(!is.na(avg_log2FC_DESeq))  %>% \n",
    "group_by(population, test_type)  %>% \n",
    "rstatix::cor_test(vars = avg_log2FC_Wilcox, vars2 = avg_log2FC_DESeq)"
   ]
  },
  {
   "cell_type": "code",
   "execution_count": null,
   "id": "c411aaf3",
   "metadata": {
    "scrolled": true
   },
   "outputs": [],
   "source": [
    "cor_test_cd4"
   ]
  },
  {
   "cell_type": "code",
   "execution_count": null,
   "id": "677efb49",
   "metadata": {},
   "outputs": [],
   "source": [
    "cor_test_cd4  %>% \n",
    "mutate(p = ifelse(p == 0,10^-290,p)) %>% \n",
    "ggplot(aes(x = population, y = test_type)) +\n",
    "geom_point(aes(size = -log(p), color = cor)) + \n",
    "  theme_bw() +\n",
    "scale_color_gradientn(colours = c(\"dodgerblue\",\"grey88\", \"red\"),limits = c(-1, 1)) +\n",
    "scale_size_continuous(range=c(7,12)) +\n",
    "ggtheme()"
   ]
  },
  {
   "cell_type": "code",
   "execution_count": null,
   "id": "5b8f6ac7",
   "metadata": {},
   "outputs": [],
   "source": [
    "ggsave(\"../figures/DE_genes/correlation_deseq_wilcox_cd4.svg\", width = 24, height = 10, units = \"cm\")"
   ]
  },
  {
   "cell_type": "code",
   "execution_count": null,
   "id": "d4b8af9d",
   "metadata": {},
   "outputs": [],
   "source": []
  },
  {
   "cell_type": "markdown",
   "id": "ebcf74f1",
   "metadata": {},
   "source": [
    "# Overlap of identified DEG"
   ]
  },
  {
   "cell_type": "markdown",
   "id": "3384cb8f",
   "metadata": {},
   "source": [
    "## CD8"
   ]
  },
  {
   "cell_type": "code",
   "execution_count": null,
   "id": "d06a0a0f",
   "metadata": {},
   "outputs": [],
   "source": [
    "fc.dfs3.cd8"
   ]
  },
  {
   "cell_type": "code",
   "execution_count": null,
   "id": "7575e28d",
   "metadata": {},
   "outputs": [],
   "source": [
    "deg_wilcox_cd8  <- fc.dfs3.cd8  %>% dplyr::filter(p_val_adj<0.05)  %>% \n",
    "mutate(gene_direction = if_else(as.numeric(avg_log2FC)<0,\"Down\",\"Up\"))  %>%\n",
    "mutate(gene_direction = paste(gene, gene_direction))  %>%\n",
    "dplyr::select(population, test_type, gene_direction)"
   ]
  },
  {
   "cell_type": "code",
   "execution_count": null,
   "id": "dae0f848",
   "metadata": {
    "scrolled": true
   },
   "outputs": [],
   "source": [
    "deg_wilcox_cd8"
   ]
  },
  {
   "cell_type": "code",
   "execution_count": null,
   "id": "81e45da2",
   "metadata": {},
   "outputs": [],
   "source": [
    "all_fcs_cd8"
   ]
  },
  {
   "cell_type": "code",
   "execution_count": null,
   "id": "44ef85bc",
   "metadata": {},
   "outputs": [],
   "source": [
    "deg_deseq_cd8  <- all_fcs_cd8  %>% dplyr::filter(p_val<0.05)  %>% \n",
    "dplyr::filter(source == \"scRNAseq_RNA\")  %>% \n",
    "mutate(gene_direction = if_else(as.numeric(avg_log2FC)<0,\"Down\",\"Up\"))  %>%\n",
    "mutate(gene_direction = paste(gene, gene_direction))  %>%\n",
    "dplyr::select(population, test_type, gene_direction)"
   ]
  },
  {
   "cell_type": "code",
   "execution_count": null,
   "id": "f33e0303",
   "metadata": {
    "scrolled": true
   },
   "outputs": [],
   "source": [
    "deg_deseq_cd8"
   ]
  },
  {
   "cell_type": "code",
   "execution_count": null,
   "id": "66b265bc",
   "metadata": {
    "scrolled": true
   },
   "outputs": [],
   "source": [
    "deg_deseq_cd8  %>% group_by(population,test_type)  %>% \n",
    "tally()"
   ]
  },
  {
   "cell_type": "code",
   "execution_count": null,
   "id": "1a104083",
   "metadata": {
    "scrolled": true
   },
   "outputs": [],
   "source": [
    "deg_wilcox_cd8  %>% group_by(population,test_type)  %>% \n",
    "tally()"
   ]
  },
  {
   "cell_type": "code",
   "execution_count": null,
   "id": "9544fbb6",
   "metadata": {},
   "outputs": [],
   "source": [
    "deg_wilcox_cd8$method  <- \"Wilcox\"\n",
    "deg_deseq_cd8$method  <- \"DESeq2\"\n"
   ]
  },
  {
   "cell_type": "code",
   "execution_count": null,
   "id": "fdaca343",
   "metadata": {},
   "outputs": [],
   "source": [
    "deg_all  <- rbind(deg_wilcox_cd8, deg_deseq_cd8)"
   ]
  },
  {
   "cell_type": "code",
   "execution_count": null,
   "id": "5771dc79",
   "metadata": {},
   "outputs": [],
   "source": [
    "options(repr.plot.width = 12, repr.plot.height = 6)\n",
    "\n",
    "deg_all %>% group_by(population,test_type, method)  %>% \n",
    "tally()  %>% \n",
    "dplyr::filter(test_type %in% c(\"Dia T0 vs Ctrl T0\", \"Dia T1 vs Ctrl T0\", \"Dia T0 vs Dia T1\"))  %>% \n",
    "dplyr::filter(population != \"cd8_l2_subcluster\")  %>% \n",
    "\n",
    "ggplot(aes(x = population, y = n, fill = method)) +\n",
    "facet_grid(cols = vars(test_type)) +\n",
    "geom_bar(stat = \"identity\", position=position_dodge()) +\n",
    "            ggtheme() + \n",
    "theme_bw() + \n",
    "scale_fill_manual(values = c(\"#90c2f1ff\", \"#d0625dff\")) + \n",
    "theme(axis.ticks.y = element_blank(), axis.text.x = element_text(angle = 90)) +\n",
    "ggtheme()\n"
   ]
  },
  {
   "cell_type": "code",
   "execution_count": null,
   "id": "a2ffdd92",
   "metadata": {
    "scrolled": true
   },
   "outputs": [],
   "source": [
    "deg_all_filt  <- deg_all  %>% dplyr::filter(test_type %in% c(\"Dia T0 vs Ctrl T0\", \"Dia T1 vs Ctrl T0\", \"Dia T0 vs Dia T1\"))  %>% \n",
    "dplyr::filter(population != \"cd8_l2_subcluster\") "
   ]
  },
  {
   "cell_type": "code",
   "execution_count": null,
   "id": "6a4dd24d",
   "metadata": {},
   "outputs": [],
   "source": [
    "populations  <- levels(factor(deg_all_filt$population))\n",
    "test_types  <- levels(factor(deg_all_filt$test_type))"
   ]
  },
  {
   "cell_type": "code",
   "execution_count": null,
   "id": "0a02eaa4",
   "metadata": {
    "scrolled": true
   },
   "outputs": [],
   "source": [
    "deg_all_filt"
   ]
  },
  {
   "cell_type": "code",
   "execution_count": null,
   "id": "18c11978",
   "metadata": {},
   "outputs": [],
   "source": [
    "for(i in populations){\n",
    "    for(j in test_types){\n",
    "        deg_wilcox  <- deg_all_filt  %>% \n",
    "        dplyr::filter(population == i & test_type == j & method == \"Wilcox\")  %>% pull(gene_direction)\n",
    "        \n",
    "        deg_deseq  <- deg_all_filt  %>% \n",
    "        dplyr::filter(population == i & test_type == j & method == \"DESeq2\")  %>% pull(gene_direction)\n",
    "        \n",
    "        overlap  <- length(intersect(deg_wilcox, deg_deseq))\n",
    "        just_wilcox  <- length(deg_wilcox[which(!(deg_wilcox %in% deg_deseq))])\n",
    "        just_deseq  <- length(deg_wilcox[which(!(deg_deseq  %in% deg_wilcox))])\n",
    "        \n",
    "        df_deg = data.frame(population = i, \n",
    "                            test_type = j, \n",
    "                            overlap = overlap,\n",
    "                           just_wilcox = just_wilcox,\n",
    "                           just_deseq = just_deseq)\n",
    "        \n",
    "        \n",
    "        if(i == populations[1] & j == test_types[1]){\n",
    "            all_overlaps  <- df_deg\n",
    "        } else {\n",
    "            all_overlaps  <- rbind(all_overlaps, df_deg) \n",
    "        }\n",
    "    }\n",
    "}"
   ]
  },
  {
   "cell_type": "code",
   "execution_count": null,
   "id": "c2197e5a",
   "metadata": {},
   "outputs": [],
   "source": [
    "all_overlaps"
   ]
  },
  {
   "cell_type": "code",
   "execution_count": null,
   "id": "276577fd",
   "metadata": {},
   "outputs": [],
   "source": [
    "deg_wilcox  <- deg_all_filt  %>% \n",
    "        dplyr::filter(population == \"cd8_l1_full_filt\" & test_type == \"Dia T0 vs Ctrl T0\" & method == \"Wilcox\")  %>% pull(gene_direction)\n",
    "        \n",
    "deg_deseq  <- deg_all_filt  %>% \n",
    "        dplyr::filter(population == \"cd8_l1_full_filt\" & test_type == \"Dia T0 vs Ctrl T0\" & method == \"DESeq2\")  %>% pull(gene_direction)\n",
    "        \n"
   ]
  },
  {
   "cell_type": "code",
   "execution_count": null,
   "id": "23eadefd",
   "metadata": {},
   "outputs": [],
   "source": [
    "library(\"ggVennDiagram\")"
   ]
  },
  {
   "cell_type": "code",
   "execution_count": null,
   "id": "f257e047",
   "metadata": {},
   "outputs": [],
   "source": [
    "x <- list(\n",
    "  Wilcox = deg_wilcox, \n",
    "  DESeq2 = deg_deseq)"
   ]
  },
  {
   "cell_type": "code",
   "execution_count": null,
   "id": "4e56316a",
   "metadata": {},
   "outputs": [],
   "source": [
    "ggVennDiagram(x) +\n",
    "ggtitle(\"cd8_l1_full_filt Dia T0 vs Ctrl T0\")\n",
    "library(svglite)\n",
    "ggsave(filename = \"../figures/DE_genes/venn_overlap1.svg\", width = 3, height = 5)"
   ]
  },
  {
   "cell_type": "code",
   "execution_count": null,
   "id": "86d9a3b8",
   "metadata": {},
   "outputs": [],
   "source": [
    "venn <- Venn(x)"
   ]
  },
  {
   "cell_type": "code",
   "execution_count": null,
   "id": "b1f584f1",
   "metadata": {},
   "outputs": [],
   "source": [
    "data <- process_data(venn)\n"
   ]
  },
  {
   "cell_type": "code",
   "execution_count": null,
   "id": "2448ebba",
   "metadata": {
    "scrolled": true
   },
   "outputs": [],
   "source": [
    "str(data)"
   ]
  },
  {
   "cell_type": "code",
   "execution_count": null,
   "id": "fcd2ef3d",
   "metadata": {
    "scrolled": true
   },
   "outputs": [],
   "source": [
    "data$regionLabel$item[[3]]"
   ]
  },
  {
   "cell_type": "code",
   "execution_count": null,
   "id": "0f42f26d",
   "metadata": {},
   "outputs": [],
   "source": [
    "deg_wilcox_cd8 <- deg_all_filt  %>% \n",
    "        dplyr::filter(population == \"cd4_l1_full_filt\" & test_type == \"Dia T0 vs Ctrl T0\" & method == \"Wilcox\")  %>% pull(gene_direction)\n",
    "        \n",
    "deg_deseq_cd8  <- deg_all_filt  %>% \n",
    "        dplyr::filter(population == \"cd4_l1_full_filt\" & test_type == \"Dia T0 vs Ctrl T0\" & method == \"DESeq2\")  %>% pull(gene_direction)\n"
   ]
  },
  {
   "cell_type": "code",
   "execution_count": null,
   "id": "f9646fc5",
   "metadata": {},
   "outputs": [],
   "source": [
    "deg_wilcox_cd4 <- deg_all_filt  %>% \n",
    "        dplyr::filter(population == \"cd4_l1_full_filt\" & test_type == \"Dia T0 vs Ctrl T0\" & method == \"Wilcox\")  %>% pull(gene_direction)\n",
    "        \n",
    "deg_deseq_cd4  <- deg_all_filt  %>% \n",
    "        dplyr::filter(population == \"cd4_l1_full_filt\" & test_type == \"Dia T0 vs Ctrl T0\" & method == \"DESeq2\")  %>% pull(gene_direction)\n"
   ]
  },
  {
   "cell_type": "code",
   "execution_count": null,
   "id": "d41a1ec0",
   "metadata": {},
   "outputs": [],
   "source": [
    "x <- list(\n",
    "  Wilcox_CD8 = deg_wilcox_cd8, \n",
    "  DESeq2_CD8 = deg_deseq_cd8,\n",
    "  Wilcox_CD4 = deg_wilcox_cd4, \n",
    "  DESeq2_CD4 = deg_deseq_cd4\n",
    "   )"
   ]
  },
  {
   "cell_type": "code",
   "execution_count": null,
   "id": "8433f445",
   "metadata": {},
   "outputs": [],
   "source": [
    "ggVennDiagram(x)"
   ]
  },
  {
   "cell_type": "markdown",
   "id": "5391ea31",
   "metadata": {},
   "source": [
    "## CD4"
   ]
  },
  {
   "cell_type": "code",
   "execution_count": null,
   "id": "376ed794",
   "metadata": {},
   "outputs": [],
   "source": [
    "fc.dfs3.cd4"
   ]
  },
  {
   "cell_type": "code",
   "execution_count": null,
   "id": "0fce838d",
   "metadata": {},
   "outputs": [],
   "source": [
    "deg_wilcox_cd4  <- fc.dfs3.cd4  %>% dplyr::filter(p_val_adj<0.05)  %>% \n",
    "mutate(gene_direction = if_else(as.numeric(avg_log2FC)<0,\"Down\",\"Up\"))  %>%\n",
    "mutate(gene_direction = paste(gene, gene_direction))  %>%\n",
    "dplyr::select(population, test_type, gene_direction)"
   ]
  },
  {
   "cell_type": "code",
   "execution_count": null,
   "id": "5fdf1333",
   "metadata": {
    "scrolled": true
   },
   "outputs": [],
   "source": [
    "deg_wilcox_cd4"
   ]
  },
  {
   "cell_type": "code",
   "execution_count": null,
   "id": "b7ad1779",
   "metadata": {},
   "outputs": [],
   "source": [
    "all_fcs_cd4"
   ]
  },
  {
   "cell_type": "code",
   "execution_count": null,
   "id": "2fd82f60",
   "metadata": {},
   "outputs": [],
   "source": [
    "deg_deseq_cd4  <- all_fcs_cd4  %>% dplyr::filter(p_val<0.05)  %>% \n",
    "dplyr::filter(source == \"scRNAseq_RNA\")  %>% \n",
    "mutate(gene_direction = if_else(as.numeric(avg_log2FC)<0,\"Down\",\"Up\"))  %>%\n",
    "mutate(gene_direction = paste(gene, gene_direction))  %>%\n",
    "dplyr::select(population, test_type, gene_direction)"
   ]
  },
  {
   "cell_type": "code",
   "execution_count": null,
   "id": "7965e43e",
   "metadata": {
    "scrolled": true
   },
   "outputs": [],
   "source": [
    "deg_deseq_cd4"
   ]
  },
  {
   "cell_type": "code",
   "execution_count": null,
   "id": "71028929",
   "metadata": {
    "scrolled": true
   },
   "outputs": [],
   "source": [
    "deg_deseq_cd4  %>% group_by(population,test_type)  %>% \n",
    "tally()"
   ]
  },
  {
   "cell_type": "code",
   "execution_count": null,
   "id": "9ee3d06e",
   "metadata": {
    "scrolled": true
   },
   "outputs": [],
   "source": [
    "deg_wilcox_cd4  %>% group_by(population,test_type)  %>% \n",
    "tally()"
   ]
  },
  {
   "cell_type": "code",
   "execution_count": null,
   "id": "1e1c6fcf",
   "metadata": {},
   "outputs": [],
   "source": [
    "deg_wilcox_cd4$method  <- \"Wilcox\"\n",
    "deg_deseq_cd4$method  <- \"DESeq2\"\n"
   ]
  },
  {
   "cell_type": "code",
   "execution_count": null,
   "id": "f4225087",
   "metadata": {},
   "outputs": [],
   "source": [
    "deg_all  <- rbind(deg_wilcox_cd4, deg_deseq_cd4)"
   ]
  },
  {
   "cell_type": "code",
   "execution_count": null,
   "id": "e57c5dbc",
   "metadata": {},
   "outputs": [],
   "source": [
    "options(repr.plot.width = 12, repr.plot.height = 6)\n",
    "\n",
    "deg_all %>% group_by(population,test_type, method)  %>% \n",
    "tally()  %>% \n",
    "dplyr::filter(test_type %in% c(\"Dia T0 vs Ctrl T0\", \"Dia T1 vs Ctrl T0\", \"Dia T0 vs Dia T1\"))  %>% \n",
    "dplyr::filter(population != \"cd4_l2_subcluster\")  %>% \n",
    "\n",
    "ggplot(aes(x = population, y = n, fill = method)) +\n",
    "facet_grid(cols = vars(test_type)) +\n",
    "geom_bar(stat = \"identity\", position=position_dodge()) +\n",
    "            ggtheme() + \n",
    "theme_bw() + \n",
    "scale_fill_manual(values = c(\"#90c2f1ff\", \"#d0625dff\")) + \n",
    "theme(axis.ticks.y = element_blank(), axis.text.x = element_text(angle = 90)) +\n",
    "ggtheme()\n"
   ]
  },
  {
   "cell_type": "code",
   "execution_count": null,
   "id": "46e78127",
   "metadata": {
    "scrolled": true
   },
   "outputs": [],
   "source": [
    "deg_all_filt  <- deg_all  %>% dplyr::filter(test_type %in% c(\"Dia T0 vs Ctrl T0\", \"Dia T1 vs Ctrl T0\", \"Dia T0 vs Dia T1\"))  %>% \n",
    "dplyr::filter(population != \"cd4_l2_subcluster\") "
   ]
  },
  {
   "cell_type": "code",
   "execution_count": null,
   "id": "b04f4ef2",
   "metadata": {},
   "outputs": [],
   "source": [
    "populations  <- levels(factor(deg_all_filt$population))\n",
    "test_types  <- levels(factor(deg_all_filt$test_type))"
   ]
  },
  {
   "cell_type": "code",
   "execution_count": null,
   "id": "6b6bd44e",
   "metadata": {
    "scrolled": true
   },
   "outputs": [],
   "source": [
    "deg_all_filt"
   ]
  },
  {
   "cell_type": "code",
   "execution_count": null,
   "id": "422f3b90",
   "metadata": {},
   "outputs": [],
   "source": [
    "for(i in populations){\n",
    "    for(j in test_types){\n",
    "        deg_wilcox  <- deg_all_filt  %>% \n",
    "        dplyr::filter(population == i & test_type == j & method == \"Wilcox\")  %>% pull(gene_direction)\n",
    "        \n",
    "        deg_deseq  <- deg_all_filt  %>% \n",
    "        dplyr::filter(population == i & test_type == j & method == \"DESeq2\")  %>% pull(gene_direction)\n",
    "        \n",
    "        overlap  <- length(intersect(deg_wilcox, deg_deseq))\n",
    "        just_wilcox  <- length(deg_wilcox[which(!(deg_wilcox %in% deg_deseq))])\n",
    "        just_deseq  <- length(deg_wilcox[which(!(deg_deseq  %in% deg_wilcox))])\n",
    "        \n",
    "        df_deg = data.frame(population = i, \n",
    "                            test_type = j, \n",
    "                            overlap = overlap,\n",
    "                           just_wilcox = just_wilcox,\n",
    "                           just_deseq = just_deseq)\n",
    "        \n",
    "        \n",
    "        if(i == populations[1] & j == test_types[1]){\n",
    "            all_overlaps  <- df_deg\n",
    "        } else {\n",
    "            all_overlaps  <- rbind(all_overlaps, df_deg) \n",
    "        }\n",
    "    }\n",
    "}"
   ]
  },
  {
   "cell_type": "code",
   "execution_count": null,
   "id": "bca01745",
   "metadata": {},
   "outputs": [],
   "source": [
    "all_overlaps"
   ]
  },
  {
   "cell_type": "markdown",
   "id": "b2328dba",
   "metadata": {},
   "source": [
    "# Main DEG genes in groups and by DESeq"
   ]
  },
  {
   "cell_type": "markdown",
   "id": "6756009b",
   "metadata": {},
   "source": [
    "## CD4"
   ]
  },
  {
   "cell_type": "code",
   "execution_count": null,
   "id": "e5d26363",
   "metadata": {},
   "outputs": [],
   "source": [
    "genes  <- rownames(cd4_l1_full_filt_sub@assays$RNA)"
   ]
  },
  {
   "cell_type": "code",
   "execution_count": null,
   "id": "1342c259",
   "metadata": {},
   "outputs": [],
   "source": [
    "genes_filt  <- genes[!(grepl(genes, pattern = \"^MT\")|\n",
    "                            grepl(genes, pattern = \"\\\\.\")|\n",
    "                            grepl(genes, pattern = \"LINC\")|\n",
    "                            grepl(genes, pattern = \"^MIR\")|\n",
    "                            grepl(genes, pattern = \"^MT\")|\n",
    "                            grepl(genes, pattern = \"HNRNP\")|\n",
    "                            grepl(genes, pattern = \"^RP[LS]\")|\n",
    "                            grepl(genes, pattern = \"\\\\-\")|\n",
    "                            grepl(genes, pattern = \"TTTY\")|\n",
    "                            grepl(genes, pattern = \"ORF\")|\n",
    "                            grepl(genes, pattern = \"orf\"))\n",
    "                            ]"
   ]
  },
  {
   "cell_type": "code",
   "execution_count": null,
   "id": "d238b5a3",
   "metadata": {},
   "outputs": [],
   "source": [
    "aggexp_cd4  <- AggregateExpression(cd4_l1_full_filt_sub, group.by = c(\"Sample_ID\"), \n",
    "                                  features = genes_filt, return.seurat = T, assay = \"RNA\")"
   ]
  },
  {
   "cell_type": "code",
   "execution_count": null,
   "id": "3cf77f99",
   "metadata": {},
   "outputs": [],
   "source": [
    "md_cd4  <- cd4_l1_full_filt_sub@meta.data  %>% \n",
    "group_by(Sample_ID, Condition, Condition2, Age, Sex)  %>% tally  %>% dplyr::select(-n)  %>% \n",
    "ungroup  %>% \n",
    "mutate(Sample_ID = as.factor(Sample_ID))"
   ]
  },
  {
   "cell_type": "code",
   "execution_count": null,
   "id": "b8e26223",
   "metadata": {
    "scrolled": true
   },
   "outputs": [],
   "source": [
    "md_cd4$Sample_ID  <- paste0(\"g\",md_cd4$Sample_ID)"
   ]
  },
  {
   "cell_type": "code",
   "execution_count": null,
   "id": "ab44b46f",
   "metadata": {},
   "outputs": [],
   "source": [
    "\n",
    "md_cd4  <- left_join(aggexp_cd4@meta.data, md_cd4)\n",
    "rownames(md_cd4)  <- colnames(aggexp_cd4)"
   ]
  },
  {
   "cell_type": "code",
   "execution_count": null,
   "id": "b5b47e28",
   "metadata": {},
   "outputs": [],
   "source": [
    "aggexp_cd4@meta.data  <- md_cd4"
   ]
  },
  {
   "cell_type": "code",
   "execution_count": null,
   "id": "c6a0157c",
   "metadata": {},
   "outputs": [],
   "source": [
    "genes  <- c(\"LEF1\",\"NELL2\",\"IL7R\",\"GZMA\",\"GNLY\",\"TNF\")"
   ]
  },
  {
   "cell_type": "code",
   "execution_count": null,
   "id": "2b40ab22",
   "metadata": {},
   "outputs": [],
   "source": [
    "df  <- aggexp_cd4@assays$RNA@layers$data[which(rownames(aggexp_cd4@assays$RNA) %in% genes),]"
   ]
  },
  {
   "cell_type": "code",
   "execution_count": null,
   "id": "0df5c563",
   "metadata": {},
   "outputs": [],
   "source": [
    "colnames(df)  <- colnames(aggexp_cd4)\n",
    "rownames(df)  <- rownames(aggexp_cd4@assays$RNA)[which(rownames(aggexp_cd4@assays$RNA) %in% genes)]"
   ]
  },
  {
   "cell_type": "code",
   "execution_count": null,
   "id": "5a00b981",
   "metadata": {},
   "outputs": [],
   "source": [
    "df  <- df  %>% t()  %>% as.data.frame()  %>% \n",
    "rownames_to_column(\"Sample_ID\")  %>% \n",
    "pivot_longer(!Sample_ID, names_to = \"gene\", values_to = \"value\")  \n"
   ]
  },
  {
   "cell_type": "code",
   "execution_count": null,
   "id": "2fb36780",
   "metadata": {
    "scrolled": true
   },
   "outputs": [],
   "source": [
    "df"
   ]
  },
  {
   "cell_type": "code",
   "execution_count": null,
   "id": "c0e68d37",
   "metadata": {},
   "outputs": [],
   "source": [
    "df  <- df  %>% left_join(md_cd4)"
   ]
  },
  {
   "cell_type": "code",
   "execution_count": null,
   "id": "e83a9d56",
   "metadata": {
    "scrolled": true
   },
   "outputs": [],
   "source": [
    "options(repr.plot.width = 10, repr.plot.height = 7)\n",
    "df  %>% \n",
    "ggplot(aes(x = Condition, y = value)) +\n",
    "geom_violin(scale = \"width\", aes(fill = Condition), alpha = 0.4) +\n",
    "stat_summary(fun = \"median\",\n",
    "               geom = \"crossbar\", \n",
    "               width = 0.75,\n",
    "               color = \"grey30\") +\n",
    "geom_beeswarm(size = 3, aes(fill = Condition), cex = 3, \n",
    "                shape = 21, color = \"black\", corral = \"random\") +\n",
    " stat_compare_means(label = \"p.format\", comparisons = list(c(1,2))) +\n",
    "facet_wrap(~factor(gene, levels = c(\"LEF1\",\"NELL2\",\"IL7R\",\"GZMA\",\"GNLY\",\"TNF\")), ncol = 3, scales = \"free\") +\n",
    "theme_classic() +\n",
    "ggtheme() +\n",
    "scale_fill_manual(values = c(\"#1874cdff\",  \"#ee6363ff\", \"#c41515ff\",\"#eeb4b4ff\")) +\n",
    "scale_color_manual(values = c(\"dodgerblue3\",  \"#e54c4cff\", \"#aa2a2aff\",\"#e88989ff\")) +\n",
    "ylab(\"\") +\n",
    "  xlab(\"\") +\n",
    "theme(axis.text.x = element_blank(),\n",
    "      axis.ticks.x = element_blank()\n",
    "      )"
   ]
  },
  {
   "cell_type": "code",
   "execution_count": null,
   "id": "52b3dabb",
   "metadata": {},
   "outputs": [],
   "source": [
    "options(repr.plot.width = 10, repr.plot.height = 7)\n",
    "df  %>% \n",
    "ggplot(aes(x = Sex, y = value)) +\n",
    "geom_violin(scale = \"width\", aes(fill = Sex), alpha = 0.2) +\n",
    "stat_summary(fun = \"median\",\n",
    "               geom = \"crossbar\", \n",
    "               width = 0.75,\n",
    "               color = \"grey30\") +\n",
    "geom_beeswarm(size = 3, aes(fill = Sex), cex = 3, \n",
    "                shape = 21, color = \"black\", corral = \"random\") +\n",
    " stat_compare_means(label = \"p.format\", comparisons = list(c(1,2))) +\n",
    "facet_wrap(~factor(gene, levels = c(\"LEF1\",\"NELL2\",\"IL7R\",\"GZMA\",\"GNLY\",\"TNF\")), ncol = 3, scales = \"free\") +\n",
    "theme_classic() +\n",
    "ggtheme() +\n",
    "scale_fill_manual(values = c(\"hotpink\",  \"skyblue\")) +\n",
    "scale_color_manual(values = c(\"hotpink\",  \"skyblue\")) +\n",
    "ylab(\"\") +\n",
    "  xlab(\"\") +\n",
    "theme(axis.text.x = element_blank(),\n",
    "      axis.ticks.x = element_blank()\n",
    "      )"
   ]
  },
  {
   "cell_type": "code",
   "execution_count": null,
   "id": "f3527d5e",
   "metadata": {},
   "outputs": [],
   "source": []
  },
  {
   "cell_type": "code",
   "execution_count": null,
   "id": "89774242",
   "metadata": {},
   "outputs": [],
   "source": [
    "# Newly identified NFAT pathway"
   ]
  },
  {
   "cell_type": "code",
   "execution_count": null,
   "id": "a425b235",
   "metadata": {},
   "outputs": [],
   "source": [
    "genes  <- c(\"NFATC2\",\"NFATC3\",\"ORAI1\")"
   ]
  },
  {
   "cell_type": "code",
   "execution_count": null,
   "id": "39ed2a8e",
   "metadata": {},
   "outputs": [],
   "source": [
    "df  <- aggexp_cd4@assays$RNA@layers$data[which(rownames(aggexp_cd4@assays$RNA) %in% genes),]"
   ]
  },
  {
   "cell_type": "code",
   "execution_count": null,
   "id": "fd1efba2",
   "metadata": {},
   "outputs": [],
   "source": [
    "colnames(df)  <- colnames(aggexp_cd4)\n",
    "rownames(df)  <- rownames(aggexp_cd4@assays$RNA)[which(rownames(aggexp_cd4@assays$RNA) %in% genes)]"
   ]
  },
  {
   "cell_type": "code",
   "execution_count": null,
   "id": "f930239a",
   "metadata": {},
   "outputs": [],
   "source": [
    "df  <- df  %>% t()  %>% as.data.frame()  %>% \n",
    "rownames_to_column(\"Sample_ID\")  %>% \n",
    "pivot_longer(!Sample_ID, names_to = \"gene\", values_to = \"value\")  \n"
   ]
  },
  {
   "cell_type": "code",
   "execution_count": null,
   "id": "acf62460",
   "metadata": {
    "scrolled": true
   },
   "outputs": [],
   "source": [
    "df"
   ]
  },
  {
   "cell_type": "code",
   "execution_count": null,
   "id": "91a2d204",
   "metadata": {},
   "outputs": [],
   "source": [
    "df  <- df  %>% left_join(md_cd4)"
   ]
  },
  {
   "cell_type": "code",
   "execution_count": null,
   "id": "453539fe",
   "metadata": {
    "scrolled": true
   },
   "outputs": [],
   "source": [
    "options(repr.plot.width = 10, repr.plot.height = 3.5)\n",
    "df  %>% \n",
    "ggplot(aes(x = Condition, y = value)) +\n",
    "geom_violin(scale = \"width\", aes(fill = Condition), alpha = 0.4) +\n",
    "stat_summary(fun = \"median\",\n",
    "               geom = \"crossbar\", \n",
    "               width = 0.75,\n",
    "               color = \"grey30\") +\n",
    "geom_beeswarm(size = 3, aes(fill = Condition), cex = 3, \n",
    "                shape = 21, color = \"black\", corral = \"random\") +\n",
    " stat_compare_means(label = \"p.format\", comparisons = list(c(1,2))) +\n",
    "facet_wrap(~factor(gene, levels = c(\"NFATC2\",\"NFATC3\",\"ORAI1\")), ncol = 3, scales = \"free\") +\n",
    "theme_classic() +\n",
    "ggtheme() +\n",
    "scale_fill_manual(values = c(\"#1874cdff\",  \"#ee6363ff\", \"#c41515ff\",\"#eeb4b4ff\")) +\n",
    "scale_color_manual(values = c(\"dodgerblue3\",  \"#e54c4cff\", \"#aa2a2aff\",\"#e88989ff\")) +\n",
    "ylab(\"\") +\n",
    "  xlab(\"\") +\n",
    "theme(axis.text.x = element_blank(),\n",
    "      axis.ticks.x = element_blank()\n",
    "      )"
   ]
  },
  {
   "cell_type": "code",
   "execution_count": null,
   "id": "18064551",
   "metadata": {},
   "outputs": [],
   "source": []
  },
  {
   "cell_type": "code",
   "execution_count": null,
   "id": "81803a53",
   "metadata": {},
   "outputs": [],
   "source": []
  },
  {
   "cell_type": "code",
   "execution_count": null,
   "id": "1ba203fd",
   "metadata": {},
   "outputs": [],
   "source": []
  },
  {
   "cell_type": "markdown",
   "id": "149c59b2",
   "metadata": {},
   "source": [
    "## CD8"
   ]
  },
  {
   "cell_type": "code",
   "execution_count": null,
   "id": "5f089b1a",
   "metadata": {},
   "outputs": [],
   "source": [
    "genes  <- rownames(cd8_l1_full_filt_sub@assays$RNA)"
   ]
  },
  {
   "cell_type": "code",
   "execution_count": null,
   "id": "10193c07",
   "metadata": {},
   "outputs": [],
   "source": [
    "genes_filt  <- genes[!(grepl(genes, pattern = \"^MT\")|\n",
    "                            grepl(genes, pattern = \"\\\\.\")|\n",
    "                            grepl(genes, pattern = \"LINC\")|\n",
    "                            grepl(genes, pattern = \"^MIR\")|\n",
    "                            grepl(genes, pattern = \"^MT\")|\n",
    "                            grepl(genes, pattern = \"HNRNP\")|\n",
    "                            grepl(genes, pattern = \"^RP[LS]\")|\n",
    "                            grepl(genes, pattern = \"\\\\-\")|\n",
    "                            grepl(genes, pattern = \"TTTY\")|\n",
    "                            grepl(genes, pattern = \"ORF\")|\n",
    "                            grepl(genes, pattern = \"orf\"))\n",
    "                            ]"
   ]
  },
  {
   "cell_type": "code",
   "execution_count": null,
   "id": "d1548dd3",
   "metadata": {},
   "outputs": [],
   "source": [
    "aggexp_cd8  <- AggregateExpression(cd8_l1_full_filt_sub, group.by = c(\"Sample_ID\"), \n",
    "                                  features = genes_filt, return.seurat = T, assay = \"RNA\")"
   ]
  },
  {
   "cell_type": "code",
   "execution_count": null,
   "id": "29414cb3",
   "metadata": {},
   "outputs": [],
   "source": [
    "md_cd8  <- cd8_l1_full_filt_sub@meta.data  %>% \n",
    "group_by(Sample_ID, Condition, Condition2, Age, Sex)  %>% tally  %>% dplyr::select(-n)  %>% \n",
    "ungroup  %>% \n",
    "mutate(Sample_ID = as.factor(Sample_ID))"
   ]
  },
  {
   "cell_type": "code",
   "execution_count": null,
   "id": "80c48067",
   "metadata": {
    "scrolled": true
   },
   "outputs": [],
   "source": [
    "md_cd8$Sample_ID  <- paste0(\"g\",md_cd8$Sample_ID)"
   ]
  },
  {
   "cell_type": "code",
   "execution_count": null,
   "id": "721f1b6a",
   "metadata": {},
   "outputs": [],
   "source": [
    "\n",
    "md_cd8  <- left_join(aggexp_cd8@meta.data, md_cd8)\n",
    "rownames(md_cd8)  <- colnames(aggexp_cd8)"
   ]
  },
  {
   "cell_type": "code",
   "execution_count": null,
   "id": "367ef2a9",
   "metadata": {},
   "outputs": [],
   "source": [
    "aggexp_cd8@meta.data  <- md_cd8"
   ]
  },
  {
   "cell_type": "code",
   "execution_count": null,
   "id": "3cd46356",
   "metadata": {},
   "outputs": [],
   "source": [
    "genes  <- c(\"LEF1\",\"NELL2\",\"IL7R\",\"GZMA\",\"GNLY\",\"TNF\")"
   ]
  },
  {
   "cell_type": "code",
   "execution_count": null,
   "id": "de65d525",
   "metadata": {},
   "outputs": [],
   "source": [
    "df  <- aggexp_cd4@assays$RNA@layers$data[which(rownames(aggexp_cd4@assays$RNA) %in% genes),]"
   ]
  },
  {
   "cell_type": "code",
   "execution_count": null,
   "id": "2be73756",
   "metadata": {},
   "outputs": [],
   "source": [
    "colnames(df)  <- colnames(aggexp_cd4)\n",
    "rownames(df)  <- rownames(aggexp_cd4@assays$RNA)[which(rownames(aggexp_cd4@assays$RNA) %in% genes)]"
   ]
  },
  {
   "cell_type": "code",
   "execution_count": null,
   "id": "a09d13ed",
   "metadata": {},
   "outputs": [],
   "source": [
    "df  <- df  %>% t()  %>% as.data.frame()  %>% \n",
    "rownames_to_column(\"Sample_ID\")  %>% \n",
    "pivot_longer(!Sample_ID, names_to = \"gene\", values_to = \"value\")  \n"
   ]
  },
  {
   "cell_type": "code",
   "execution_count": null,
   "id": "d304d8d5",
   "metadata": {
    "scrolled": true
   },
   "outputs": [],
   "source": [
    "df"
   ]
  },
  {
   "cell_type": "code",
   "execution_count": null,
   "id": "2413ad2e",
   "metadata": {},
   "outputs": [],
   "source": [
    "df  <- df  %>% left_join(md_cd4)"
   ]
  },
  {
   "cell_type": "code",
   "execution_count": null,
   "id": "24fac463",
   "metadata": {
    "scrolled": true
   },
   "outputs": [],
   "source": [
    "options(repr.plot.width = 10, repr.plot.height = 7)\n",
    "df  %>% \n",
    "ggplot(aes(x = Condition, y = value)) +\n",
    "geom_violin(scale = \"width\", aes(fill = Condition), alpha = 0.4) +\n",
    "stat_summary(fun = \"median\",\n",
    "               geom = \"crossbar\", \n",
    "               width = 0.75,\n",
    "               color = \"grey30\") +\n",
    "geom_beeswarm(size = 3, aes(fill = Condition), cex = 3, \n",
    "                shape = 21, color = \"black\", corral = \"random\") +\n",
    " stat_compare_means(label = \"p.format\", comparisons = list(c(1,2))) +\n",
    "facet_wrap(~factor(gene, levels = c(\"LEF1\",\"NELL2\",\"IL7R\",\"GZMA\",\"GNLY\",\"TNF\")), ncol = 3, scales = \"free\") +\n",
    "theme_classic() +\n",
    "ggtheme() +\n",
    "scale_fill_manual(values = c(\"#1874cdff\",  \"#ee6363ff\", \"#c41515ff\",\"#eeb4b4ff\")) +\n",
    "scale_color_manual(values = c(\"dodgerblue3\",  \"#e54c4cff\", \"#aa2a2aff\",\"#e88989ff\")) +\n",
    "ylab(\"\") +\n",
    "  xlab(\"\") +\n",
    "theme(axis.text.x = element_blank(),\n",
    "      axis.ticks.x = element_blank()\n",
    "      )"
   ]
  },
  {
   "cell_type": "code",
   "execution_count": null,
   "id": "4b34ccc7",
   "metadata": {},
   "outputs": [],
   "source": [
    "options(repr.plot.width = 10, repr.plot.height = 7)\n",
    "df  %>% \n",
    "ggplot(aes(x = Sex, y = value)) +\n",
    "geom_violin(scale = \"width\", aes(fill = Sex), alpha = 0.2) +\n",
    "stat_summary(fun = \"median\",\n",
    "               geom = \"crossbar\", \n",
    "               width = 0.75,\n",
    "               color = \"grey30\") +\n",
    "geom_beeswarm(size = 3, aes(fill = Sex), cex = 3, \n",
    "                shape = 21, color = \"black\", corral = \"random\") +\n",
    " stat_compare_means(label = \"p.format\", comparisons = list(c(1,2))) +\n",
    "facet_wrap(~factor(gene, levels = c(\"LEF1\",\"NELL2\",\"IL7R\",\"GZMA\",\"GNLY\",\"TNF\")), ncol = 3, scales = \"free\") +\n",
    "theme_classic() +\n",
    "ggtheme() +\n",
    "scale_fill_manual(values = c(\"hotpink\",  \"skyblue\")) +\n",
    "scale_color_manual(values = c(\"hotpink\",  \"skyblue\")) +\n",
    "ylab(\"\") +\n",
    "  xlab(\"\") +\n",
    "theme(axis.text.x = element_blank(),\n",
    "      axis.ticks.x = element_blank()\n",
    "      )"
   ]
  },
  {
   "cell_type": "code",
   "execution_count": null,
   "id": "faffa43c",
   "metadata": {},
   "outputs": [],
   "source": []
  },
  {
   "cell_type": "code",
   "execution_count": null,
   "id": "3da037dd",
   "metadata": {},
   "outputs": [],
   "source": [
    "# Newly identified NFAT pathway"
   ]
  },
  {
   "cell_type": "code",
   "execution_count": null,
   "id": "c30bf7f5",
   "metadata": {},
   "outputs": [],
   "source": [
    "genes  <- c(\"NFATC2\",\"NFATC3\",\"ORAI1\")"
   ]
  },
  {
   "cell_type": "code",
   "execution_count": null,
   "id": "e8e15b9a",
   "metadata": {},
   "outputs": [],
   "source": [
    "df  <- aggexp_cd4@assays$RNA@layers$data[which(rownames(aggexp_cd4@assays$RNA) %in% genes),]"
   ]
  },
  {
   "cell_type": "code",
   "execution_count": null,
   "id": "5bbfbb63",
   "metadata": {},
   "outputs": [],
   "source": [
    "colnames(df)  <- colnames(aggexp_cd4)\n",
    "rownames(df)  <- rownames(aggexp_cd4@assays$RNA)[which(rownames(aggexp_cd4@assays$RNA) %in% genes)]"
   ]
  },
  {
   "cell_type": "code",
   "execution_count": null,
   "id": "a6e01ce1",
   "metadata": {},
   "outputs": [],
   "source": [
    "df  <- df  %>% t()  %>% as.data.frame()  %>% \n",
    "rownames_to_column(\"Sample_ID\")  %>% \n",
    "pivot_longer(!Sample_ID, names_to = \"gene\", values_to = \"value\")  \n"
   ]
  },
  {
   "cell_type": "code",
   "execution_count": null,
   "id": "dc0ad530",
   "metadata": {
    "scrolled": true
   },
   "outputs": [],
   "source": [
    "df"
   ]
  },
  {
   "cell_type": "code",
   "execution_count": null,
   "id": "da55ca48",
   "metadata": {},
   "outputs": [],
   "source": [
    "df  <- df  %>% left_join(md_cd4)"
   ]
  },
  {
   "cell_type": "code",
   "execution_count": null,
   "id": "184e5f5f",
   "metadata": {
    "scrolled": true
   },
   "outputs": [],
   "source": [
    "options(repr.plot.width = 10, repr.plot.height = 3.5)\n",
    "df  %>% \n",
    "ggplot(aes(x = Condition, y = value)) +\n",
    "geom_violin(scale = \"width\", aes(fill = Condition), alpha = 0.4) +\n",
    "stat_summary(fun = \"median\",\n",
    "               geom = \"crossbar\", \n",
    "               width = 0.75,\n",
    "               color = \"grey30\") +\n",
    "geom_beeswarm(size = 3, aes(fill = Condition), cex = 3, \n",
    "                shape = 21, color = \"black\", corral = \"random\") +\n",
    " stat_compare_means(label = \"p.format\", comparisons = list(c(1,2))) +\n",
    "facet_wrap(~factor(gene, levels = c(\"NFATC2\",\"NFATC3\",\"ORAI1\")), ncol = 3, scales = \"free\") +\n",
    "theme_classic() +\n",
    "ggtheme() +\n",
    "scale_fill_manual(values = c(\"#1874cdff\",  \"#ee6363ff\", \"#c41515ff\",\"#eeb4b4ff\")) +\n",
    "scale_color_manual(values = c(\"dodgerblue3\",  \"#e54c4cff\", \"#aa2a2aff\",\"#e88989ff\")) +\n",
    "ylab(\"\") +\n",
    "  xlab(\"\") +\n",
    "theme(axis.text.x = element_blank(),\n",
    "      axis.ticks.x = element_blank()\n",
    "      )"
   ]
  },
  {
   "cell_type": "code",
   "execution_count": null,
   "id": "78746991",
   "metadata": {},
   "outputs": [],
   "source": []
  },
  {
   "cell_type": "code",
   "execution_count": null,
   "id": "eb679f94",
   "metadata": {},
   "outputs": [],
   "source": []
  },
  {
   "cell_type": "code",
   "execution_count": null,
   "id": "412d7ab2",
   "metadata": {},
   "outputs": [],
   "source": []
  },
  {
   "cell_type": "markdown",
   "id": "3cc790fd",
   "metadata": {},
   "source": [
    "# Tables with reads per cell per sample"
   ]
  },
  {
   "cell_type": "code",
   "execution_count": null,
   "id": "635135da",
   "metadata": {},
   "outputs": [],
   "source": [
    "cd4_l1_full_filt$Well"
   ]
  },
  {
   "cell_type": "code",
   "execution_count": null,
   "id": "dc5f9341",
   "metadata": {},
   "outputs": [],
   "source": [
    "cd4_l1_full_filt@meta.data  %>% \n",
    "mutate(Enrichment = if_else(Experiment_ID %in% c(\"Exp08\",\"Exp10\",\"Exp11\"), \"Initial\", \"Final\"))  %>% \n",
    "group_by(Sample_ID, Well, Experiment_ID, Enrichment)  %>% \n",
    "summarise(mean_features = mean(nFeature_RNA),\n",
    "         mean_counts = mean(nCount_RNA), \n",
    "         n_cells = n())  %>% \n",
    "ungroup  %>% \n",
    "group_by(Experiment_ID, Well, Enrichment)  %>% \n",
    "summarise(mean_features2 = mean(mean_features),\n",
    "          sd_features = sd(mean_features),\n",
    "          \n",
    "         mean_counts2 = mean(mean_counts), \n",
    "         sd_counts = sd(mean_counts), \n",
    "          \n",
    "         n_cells2 = mean(n_cells),\n",
    "         sd_n_cells = sd(n_cells)\n",
    "          \n",
    "         ) "
   ]
  },
  {
   "cell_type": "code",
   "execution_count": null,
   "id": "0cb28cb0",
   "metadata": {},
   "outputs": [],
   "source": [
    "cd8_l1_full_filt@meta.data  %>% \n",
    "mutate(Enrichment = if_else(Experiment_ID %in% c(\"Exp08\",\"Exp10\",\"Exp11\"), \"Initial\", \"Final\"))  %>% \n",
    "group_by(Sample_ID, Well, Experiment_ID, Enrichment)  %>% \n",
    "summarise(mean_features = mean(nFeature_RNA),\n",
    "         mean_counts = mean(nCount_RNA), \n",
    "         n_cells = n())  %>% \n",
    "ungroup  %>% \n",
    "group_by(Experiment_ID, Well, Enrichment)  %>% \n",
    "summarise(mean_features2 = mean(mean_features),\n",
    "          sd_features = sd(mean_features),\n",
    "          \n",
    "         mean_counts2 = mean(mean_counts), \n",
    "         sd_counts = sd(mean_counts), \n",
    "          \n",
    "         n_cells2 = mean(n_cells),\n",
    "         sd_n_cells = sd(n_cells)\n",
    "          \n",
    "         ) "
   ]
  },
  {
   "cell_type": "code",
   "execution_count": null,
   "id": "017d2bbe",
   "metadata": {},
   "outputs": [],
   "source": [
    "ls()"
   ]
  },
  {
   "cell_type": "markdown",
   "id": "6173bdc4",
   "metadata": {},
   "source": [
    "# GSEA scores per patients"
   ]
  },
  {
   "cell_type": "code",
   "execution_count": null,
   "id": "62ecb583",
   "metadata": {},
   "outputs": [],
   "source": [
    "library(GSVA)"
   ]
  },
  {
   "cell_type": "markdown",
   "id": "d4270379",
   "metadata": {},
   "source": [
    "## Prepare GSEA sets"
   ]
  },
  {
   "cell_type": "code",
   "execution_count": null,
   "id": "239910ea",
   "metadata": {},
   "outputs": [],
   "source": [
    "m_df <- msigdbr::msigdbr(species = \"Homo sapiens\", category = \"C7\")\n"
   ]
  },
  {
   "cell_type": "code",
   "execution_count": null,
   "id": "c080cb84",
   "metadata": {},
   "outputs": [],
   "source": [
    "fgsea_sets <- m_df %>% split(x = .$gene_symbol, f = .$gs_name)"
   ]
  },
  {
   "cell_type": "code",
   "execution_count": null,
   "id": "61a96cb6",
   "metadata": {
    "scrolled": true
   },
   "outputs": [],
   "source": [
    "head(fgsea_sets)"
   ]
  },
  {
   "cell_type": "code",
   "execution_count": null,
   "id": "c14fba21",
   "metadata": {},
   "outputs": [],
   "source": []
  },
  {
   "cell_type": "code",
   "execution_count": null,
   "id": "a05793d1",
   "metadata": {},
   "outputs": [],
   "source": [
    "m_df <- msigdbr::msigdbr(species = \"Homo sapiens\", category = \"C7\")"
   ]
  },
  {
   "cell_type": "code",
   "execution_count": null,
   "id": "271cf5e7",
   "metadata": {},
   "outputs": [],
   "source": [
    "m_df  %>% dplyr::filter(grepl(gs_name, pattern = \"9650\"))  %>% dplyr::select(gs_name)  %>% unique"
   ]
  },
  {
   "cell_type": "code",
   "execution_count": null,
   "id": "01689b9a",
   "metadata": {},
   "outputs": [],
   "source": [
    "fgsea_sets_h <- m_df %>% split(x = .$gene_symbol, f = .$gs_name)"
   ]
  },
  {
   "cell_type": "code",
   "execution_count": null,
   "id": "ef457d40",
   "metadata": {
    "scrolled": true
   },
   "outputs": [],
   "source": [
    "fgsea_sets  <- c(fgsea_sets, fgsea_sets_h)"
   ]
  },
  {
   "cell_type": "markdown",
   "id": "efaa4a5f",
   "metadata": {},
   "source": [
    "## CD4"
   ]
  },
  {
   "cell_type": "markdown",
   "id": "a7584d0e",
   "metadata": {},
   "source": [
    "Select genes and create per-sample aggregated matrix."
   ]
  },
  {
   "cell_type": "code",
   "execution_count": null,
   "id": "dced7141",
   "metadata": {},
   "outputs": [],
   "source": [
    "genes  <- rownames(cd4_l1_full_filt_sub@assays$RNA)\n",
    "\n",
    "genes_filt  <- genes[!(grepl(genes, pattern = \"^MT\")|\n",
    "                            grepl(genes, pattern = \"\\\\.\")|\n",
    "                            grepl(genes, pattern = \"LINC\")|\n",
    "                            grepl(genes, pattern = \"^MIR\")|\n",
    "                            grepl(genes, pattern = \"^MT\")|\n",
    "                            grepl(genes, pattern = \"HNRNP\")|\n",
    "                            grepl(genes, pattern = \"^RP[LS]\")|\n",
    "                            grepl(genes, pattern = \"\\\\-\")|\n",
    "                            grepl(genes, pattern = \"TTTY\")|\n",
    "                            grepl(genes, pattern = \"ORF\")|\n",
    "                            grepl(genes, pattern = \"orf\"))\n",
    "                            ]\n",
    "\n",
    "aggexp_cd4  <- AggregateExpression(cd4_l1_full_filt_sub, group.by = c(\"Sample_ID\"), \n",
    "                                  features = genes_filt, return.seurat = T, assay = \"RNA\")"
   ]
  },
  {
   "cell_type": "markdown",
   "id": "7c5f9f30",
   "metadata": {},
   "source": [
    "Normalize data and extract count matrix. "
   ]
  },
  {
   "cell_type": "code",
   "execution_count": null,
   "id": "94dfa1c1",
   "metadata": {},
   "outputs": [],
   "source": [
    "aggexp_cd4  <- NormalizeData(aggexp_cd4)"
   ]
  },
  {
   "cell_type": "code",
   "execution_count": null,
   "id": "359d8cc6",
   "metadata": {},
   "outputs": [],
   "source": [
    "cd4_counts  <- aggexp_cd4@assays$RNA@layers$data\n",
    "rownames(cd4_counts)  <- rownames(aggexp_cd4@assays$RNA)\n",
    "colnames(cd4_counts)  <- colnames(aggexp_cd4)"
   ]
  },
  {
   "cell_type": "code",
   "execution_count": null,
   "id": "b804206b",
   "metadata": {},
   "outputs": [],
   "source": [
    "X = cd4_counts"
   ]
  },
  {
   "cell_type": "markdown",
   "id": "f9629651",
   "metadata": {},
   "source": [
    "We will specifically test the pathways which we identified as differentially regulated in the scRNAseq data processed without sample-level consideration. "
   ]
  },
  {
   "cell_type": "code",
   "execution_count": null,
   "id": "ef5768e3",
   "metadata": {},
   "outputs": [],
   "source": [
    "\n",
    "gs  <- fgsea_sets[names(fgsea_sets) %in% c(\"GSE11057_NAIVE_VS_EFF_MEMORY_CD4_TCELL_UP\",\n",
    "                        \n",
    "\"GSE11057_NAIVE_VS_MEMORY_CD4_TCELL_UP\",\n",
    "\"GOLDRATH_NAIVE_VS_MEMORY_CD8_TCELL_DN\",\n",
    "'GOLDRATH_EFF_VS_MEMORY_CD8_TCELL_UP',\n",
    "'GOLDRATH_NAIVE_VS_EFF_CD8_TCELL_DN')]"
   ]
  },
  {
   "cell_type": "markdown",
   "id": "ca85b5b5",
   "metadata": {},
   "source": [
    "Perform GSVA test. "
   ]
  },
  {
   "cell_type": "code",
   "execution_count": null,
   "id": "09738b23",
   "metadata": {},
   "outputs": [],
   "source": [
    "gsvaPar <- gsvaParam(X, gs)\n",
    "gsvaPar"
   ]
  },
  {
   "cell_type": "code",
   "execution_count": null,
   "id": "5dca968f",
   "metadata": {},
   "outputs": [],
   "source": [
    "gsva.es <- gsva(gsvaPar, verbose=FALSE)"
   ]
  },
  {
   "cell_type": "markdown",
   "id": "8da29dd8",
   "metadata": {},
   "source": [
    "Add meta data for visualization. "
   ]
  },
  {
   "cell_type": "code",
   "execution_count": null,
   "id": "3fb04eec",
   "metadata": {},
   "outputs": [],
   "source": [
    "md_cd4  <- cd4_l1_full_filt_sub@meta.data  %>% \n",
    "group_by(Sample_ID, Condition, Condition2, Age, Sex)  %>% tally  %>% dplyr::select(-n)  %>% \n",
    "ungroup  %>% \n",
    "mutate(Sample_ID = as.factor(Sample_ID))\n",
    "\n",
    "md_cd4$Sample_ID  <- paste0(\"g\",md_cd4$Sample_ID)\n",
    "\n",
    "\n",
    "md_cd4  <- left_join(aggexp_cd4@meta.data, md_cd4)\n",
    "rownames(md_cd4)  <- colnames(aggexp_cd4)"
   ]
  },
  {
   "cell_type": "code",
   "execution_count": null,
   "id": "59272637",
   "metadata": {},
   "outputs": [],
   "source": [
    "all.equal(md_cd4$orig.ident, colnames(gsva.es))"
   ]
  },
  {
   "cell_type": "code",
   "execution_count": null,
   "id": "db308245",
   "metadata": {},
   "outputs": [],
   "source": [
    "md_cd4$Condition2  <- NULL\n",
    "md_cd4$Sample_ID  <- NULL\n",
    "md_cd4$orig.ident  <- NULL"
   ]
  },
  {
   "cell_type": "markdown",
   "id": "f0674c86",
   "metadata": {},
   "source": [
    "Adjust colors and plot final heatmap. "
   ]
  },
  {
   "cell_type": "code",
   "execution_count": null,
   "id": "25d7d737",
   "metadata": {},
   "outputs": [],
   "source": [
    "anno.colors <- list(Condition = c(\"Ctrl T0\" = \"dodgerblue\",\"Dia T0\" = \"red\",\"Dia T1\" = \"darkred\"),\n",
    "                    Sex = c(\"F\" = \"hotpink1\", \"M\" = \"skyblue\"))"
   ]
  },
  {
   "cell_type": "code",
   "execution_count": null,
   "id": "558bb072",
   "metadata": {},
   "outputs": [],
   "source": [
    "options(repr.plot.height = 3.5, repr.plot.width = 15)\n",
    "pathway_heatmap <- pheatmap::pheatmap(gsva.es,\n",
    "  annotation_col = md_cd4, # Add metadata labels!\n",
    "  annotation_colors  = anno.colors,\n",
    "  show_colnames = FALSE, # Don't show sample labels\n",
    "  border_color = \"white\",\n",
    "  fontsize_row = 10 # Shrink the pathway labels a tad\n",
    ")\n",
    "\n",
    "# Print out heatmap here\n",
    "pathway_heatmap"
   ]
  },
  {
   "cell_type": "code",
   "execution_count": null,
   "id": "98684037",
   "metadata": {},
   "outputs": [],
   "source": [
    "pathway_heatmap <- pheatmap::pheatmap(gsva.es,\n",
    "  annotation_col = md_cd4, # Add metadata labels!\n",
    "  annotation_colors  = anno.colors,\n",
    "  show_colnames = FALSE, # Don't show sample labels\n",
    "  border_color = \"white\",\n",
    "  fontsize_row = 10, # Shrink the pathway labels a tad\n",
    "  filename = \"../figures/heatmaps/gsva_cd4.pdf\",\n",
    " width = 15, height = 3.5\n",
    ")"
   ]
  },
  {
   "cell_type": "code",
   "execution_count": null,
   "id": "bad54fc6",
   "metadata": {},
   "outputs": [],
   "source": [
    "gsva.es"
   ]
  },
  {
   "cell_type": "code",
   "execution_count": null,
   "id": "82625c01",
   "metadata": {
    "scrolled": true
   },
   "outputs": [],
   "source": [
    "options(repr.plot.height = 3.5, repr.plot.width = 6)\n",
    "for(i in 1:5){\n",
    "    md_cd4$naive_vs_eff  <- gsva.es[i,]\n",
    "    p  <- md_cd4  %>% \n",
    "    ggplot(aes(x = Condition, y = naive_vs_eff)) +\n",
    "    geom_boxplot(outlier.shape = NA) +\n",
    "    geom_jitter() +\n",
    "    ggtheme() +\n",
    "    ggtitle(rownames(gsva.es)[i]) +\n",
    "    ggpubr::stat_compare_means(label = \"p.format\", comparisons = list(c(1,2)))\n",
    "    print(p)\n",
    "}"
   ]
  },
  {
   "cell_type": "code",
   "execution_count": null,
   "id": "9b9d84f4",
   "metadata": {
    "scrolled": true
   },
   "outputs": [],
   "source": [
    "options(repr.plot.height = 3.5, repr.plot.width = 6)\n",
    "for(i in 1:5){\n",
    "    md_cd4$naive_vs_eff  <- gsva.es[i,]\n",
    "    p  <- md_cd4  %>% \n",
    "    ggplot(aes(x = Sex, y = naive_vs_eff)) +\n",
    "    geom_boxplot(outlier.shape = NA) +\n",
    "    geom_jitter() +\n",
    "    ggtheme() +\n",
    "    ggtitle(rownames(gsva.es)[i]) +\n",
    "    ggpubr::stat_compare_means(label = \"p.format\")\n",
    "    print(p)\n",
    "}"
   ]
  },
  {
   "cell_type": "code",
   "execution_count": null,
   "id": "99f5b23b",
   "metadata": {},
   "outputs": [],
   "source": [
    "md_cd4$naive_vs_eff  <- gsva.es[5,]\n",
    "    p  <- md_cd4  %>% \n",
    "    ggplot(aes(x = Condition, y = naive_vs_eff)) +\n",
    "geom_violin(scale = \"width\", aes(fill = Condition), alpha = 0.4) +\n",
    "stat_summary(fun = \"median\",\n",
    "               geom = \"crossbar\", \n",
    "               width = 0.75,\n",
    "               color = \"grey30\") +\n",
    "geom_beeswarm(size = 3, aes(fill = Condition), cex = 3, \n",
    "                shape = 21, color = \"black\", corral = \"random\") +\n",
    " stat_compare_means(label = \"p.format\", comparisons = list(c(1,2))) +\n",
    "theme_classic() +\n",
    "ggtheme() +\n",
    "scale_fill_manual(values = c(\"#1874cdff\",  \"#ee6363ff\", \"#c41515ff\",\"#eeb4b4ff\")) +\n",
    "scale_color_manual(values = c(\"dodgerblue3\",  \"#e54c4cff\", \"#aa2a2aff\",\"#e88989ff\")) +\n",
    "ylab(\"\") +\n",
    "  xlab(\"\") +\n",
    "theme(axis.text.x = element_blank(),\n",
    "      axis.ticks.x = element_blank()) +\n",
    "    ggtitle(rownames(gsva.es)[5]) +\n",
    "    ggpubr::stat_compare_means(label = \"p.format\", comparisons = list(c(1,2)))\n",
    "p        "
   ]
  },
  {
   "cell_type": "code",
   "execution_count": null,
   "id": "8cfed706",
   "metadata": {},
   "outputs": [],
   "source": [
    "p\n",
    "ggsave(\"../figures/gsea_quantification/cd4.svg\", create.dir = TRUE,\n",
    "       width = 13, height = 8, units = \"cm\")\n",
    "ggsave(\"../figures/gsea_quantification/cd4.png\", width = 13, height = 8, units = \"cm\")\n"
   ]
  },
  {
   "cell_type": "markdown",
   "id": "ff5b34b3",
   "metadata": {},
   "source": [
    "Get p-value for the paired group. "
   ]
  },
  {
   "cell_type": "code",
   "execution_count": null,
   "id": "154ac5f3",
   "metadata": {},
   "outputs": [],
   "source": [
    "md_cd4_2 <- md_cd4  %>% \n",
    "rownames_to_column(\"sample\")  %>% \n",
    "left_join(unique(cd4_l1_full_filt@meta.data  %>% \n",
    "          mutate(sample = paste0(\"g\", Sample_ID))  %>% \n",
    "          dplyr::select(sample, Patient_ID)))"
   ]
  },
  {
   "cell_type": "code",
   "execution_count": null,
   "id": "891089c2",
   "metadata": {},
   "outputs": [],
   "source": [
    "df_filt <- md_cd4_2  %>% \n",
    "separate(Condition, into = c(\"disease\",\"time_taken\"), sep = \" \", remove = F)  %>% \n",
    "dplyr::filter(disease != \"Ctrl\")  %>% \n",
    "dplyr::select(Patient_ID, time_taken, value = naive_vs_eff)  %>% \n",
    "pivot_wider(names_from = time_taken, values_from = value) \n",
    "colnames(df_filt)  <- c(\"Patient_ID\",\"Time0\",\"Time1\")"
   ]
  },
  {
   "cell_type": "code",
   "execution_count": null,
   "id": "6037603e",
   "metadata": {},
   "outputs": [],
   "source": [
    "\n",
    " df_filt <- df_filt %>% dplyr::filter(!is.na(Time1)&(!is.na(Time0)))\n",
    "    df_filt <- df_filt  %>% pivot_longer(!Patient_ID, names_to = \"TimePoint\", values_to = \"value\")"
   ]
  },
  {
   "cell_type": "code",
   "execution_count": null,
   "id": "c5e1d504",
   "metadata": {},
   "outputs": [],
   "source": [
    "plot2 <- df_filt  %>% \n",
    "  ggplot(aes(x = TimePoint,\n",
    "             y = value)) +\n",
    "geom_violin(alpha = 0.3, scale = \"width\") + \n",
    "stat_summary(fun = \"median\",\n",
    "               geom = \"crossbar\", \n",
    "               width = 0.75,\n",
    "               color = \"grey30\") +\n",
    "geom_beeswarm(size = 3, cex = 3, \n",
    "                shape = 21, color = \"black\", corral = \"random\") +\n",
    "ggpubr::stat_compare_means(label.x = 1.2, label.y.npc = \"top\", paired = TRUE, \n",
    "                           size = 5, vjust = 0.3, label = \"p.format\") +\n",
    "scale_fill_manual(values = c(\"#ee6363ff\", \"#c41515ff\",\"#eeb4b4ff\")) +\n",
    "scale_color_manual(values = c(\"#e54c4cff\", \"#aa2a2aff\",\"#e88989ff\")) +\n",
    "ylab(\"\") +\n",
    "  xlab(\"\") +\n",
    "  #ylim(0,NA) +\n",
    "  theme_classic() +\n",
    "theme(strip.background = element_blank(), panel.grid = element_blank()) + \n",
    "  theme(axis.text = element_text(color = \"black\"),\n",
    "        axis.text.x = element_text(angle = 90),\n",
    "       axis.line = element_line(color = \"black\", size = 0.5),\n",
    "        axis.ticks.x = element_blank()) +\n",
    "  #ylim(0,NA)+\n",
    "  plot_annotation(\n",
    "    title = paste(stringr::str_replace_all(string = colnames(df)[i], pattern = \"/\", replacement = \"\\n\")) ,\n",
    "    theme = theme(plot.title = element_text(size = 8), \n",
    "                  plot.subtitle = element_text(size = 8),\n",
    "                 axis.text.x = element_blank())) + ggtheme() + NoLegend()\n",
    "  "
   ]
  },
  {
   "cell_type": "code",
   "execution_count": null,
   "id": "a282528e",
   "metadata": {},
   "outputs": [],
   "source": [
    "plot2"
   ]
  },
  {
   "cell_type": "code",
   "execution_count": null,
   "id": "54c30741",
   "metadata": {},
   "outputs": [],
   "source": [
    " md_cd4  %>% \n",
    "    ggplot(aes(x = Sex, y = naive_vs_eff)) +\n",
    "geom_violin(scale = \"width\", aes(fill = Sex), alpha = 0.4) +\n",
    "stat_summary(fun = \"median\",\n",
    "               geom = \"crossbar\", \n",
    "               width = 0.75,\n",
    "               color = \"grey30\") +\n",
    "geom_beeswarm(size = 3, aes(fill = Sex), cex = 3, \n",
    "                shape = 21, color = \"black\", corral = \"random\") +\n",
    " stat_compare_means(label = \"p.format\", comparisons = list(c(1,2))) +\n",
    "theme_classic() +\n",
    "ggtheme() +\n",
    "scale_fill_manual(values = c(\"hotpink\",  \"skyblue\")) +\n",
    "scale_color_manual(values = c(\"hotpink\",  \"skyblue\")) +\n",
    "ylab(\"\") +\n",
    "  xlab(\"\") +\n",
    "theme(axis.text.x = element_blank(),\n",
    "      axis.ticks.x = element_blank()) +\n",
    "    ggtitle(rownames(gsva.es)[5]) +\n",
    "    ggpubr::stat_compare_means(label = \"p.format\", comparisons = list(c(1,2)))\n"
   ]
  },
  {
   "cell_type": "code",
   "execution_count": null,
   "id": "256b16a8",
   "metadata": {},
   "outputs": [],
   "source": [
    "\n",
    "ggsave(\"../figures/gsea_quantification/cd4_sex.svg\", create.dir = TRUE,\n",
    "       width = 9, height = 8, units = \"cm\")\n",
    "ggsave(\"../figures/gsea_quantification/cd4_sex.png\", width = 9, height = 8, units = \"cm\")\n"
   ]
  },
  {
   "cell_type": "markdown",
   "id": "1854e2be",
   "metadata": {},
   "source": [
    "## CD8"
   ]
  },
  {
   "cell_type": "markdown",
   "id": "68719ce3",
   "metadata": {},
   "source": [
    "Select genes and create per-sample aggregated matrix."
   ]
  },
  {
   "cell_type": "code",
   "execution_count": null,
   "id": "8c3fff7c",
   "metadata": {},
   "outputs": [],
   "source": [
    "genes  <- rownames(cd8_l1_full_filt_sub@assays$RNA)\n",
    "\n",
    "genes_filt  <- genes[!(grepl(genes, pattern = \"^MT\")|\n",
    "                            grepl(genes, pattern = \"\\\\.\")|\n",
    "                            grepl(genes, pattern = \"LINC\")|\n",
    "                            grepl(genes, pattern = \"^MIR\")|\n",
    "                            grepl(genes, pattern = \"^MT\")|\n",
    "                            grepl(genes, pattern = \"HNRNP\")|\n",
    "                            grepl(genes, pattern = \"^RP[LS]\")|\n",
    "                            grepl(genes, pattern = \"\\\\-\")|\n",
    "                            grepl(genes, pattern = \"TTTY\")|\n",
    "                            grepl(genes, pattern = \"ORF\")|\n",
    "                            grepl(genes, pattern = \"orf\"))\n",
    "                            ]\n",
    "\n",
    "aggexp_cd8  <- AggregateExpression(cd8_l1_full_filt_sub, group.by = c(\"Sample_ID\"), \n",
    "                                  features = genes_filt, return.seurat = T, assay = \"RNA\")"
   ]
  },
  {
   "cell_type": "markdown",
   "id": "c9cf1a2b",
   "metadata": {},
   "source": [
    "Normalize data and extract count matrix. "
   ]
  },
  {
   "cell_type": "code",
   "execution_count": null,
   "id": "6b1b2e83",
   "metadata": {},
   "outputs": [],
   "source": [
    "aggexp_cd8  <- NormalizeData(aggexp_cd8)"
   ]
  },
  {
   "cell_type": "code",
   "execution_count": null,
   "id": "053ff06a",
   "metadata": {},
   "outputs": [],
   "source": [
    "cd8_counts  <- aggexp_cd8@assays$RNA@layers$data\n",
    "rownames(cd8_counts)  <- rownames(aggexp_cd8@assays$RNA)\n",
    "colnames(cd8_counts)  <- colnames(aggexp_cd8)"
   ]
  },
  {
   "cell_type": "code",
   "execution_count": null,
   "id": "9bfe0f9e",
   "metadata": {},
   "outputs": [],
   "source": [
    "X = cd8_counts"
   ]
  },
  {
   "cell_type": "markdown",
   "id": "1e885836",
   "metadata": {},
   "source": [
    "We will specifically test the pathways which we identified as differentially regulated in the scRNAseq data processed without sample-level consideration. "
   ]
  },
  {
   "cell_type": "code",
   "execution_count": null,
   "id": "e35fe446",
   "metadata": {},
   "outputs": [],
   "source": [
    "gs  <- fgsea_sets[names(fgsea_sets) %in% c(\"GSE11057_NAIVE_VS_EFF_MEMORY_CD4_TCELL_UP\",\n",
    "                        #\"GSE9650_NAIVE_VS_EFF_CD8_TCELL_UP\",\n",
    "                        #\"GSE9650_NAIVE_VS_MEMORY_CD8_TCELL_UP\",                   \n",
    "\"GSE11057_NAIVE_VS_MEMORY_CD4_TCELL_UP\",\n",
    "\"GOLDRATH_NAIVE_VS_MEMORY_CD8_TCELL_DN\",\n",
    "'GOLDRATH_EFF_VS_MEMORY_CD8_TCELL_UP',\n",
    "'GOLDRATH_NAIVE_VS_EFF_CD8_TCELL_DN')]"
   ]
  },
  {
   "cell_type": "markdown",
   "id": "0ac2e6e8",
   "metadata": {},
   "source": [
    "Perform GSVA test. "
   ]
  },
  {
   "cell_type": "code",
   "execution_count": null,
   "id": "bdb391fb",
   "metadata": {},
   "outputs": [],
   "source": [
    "gsvaPar <- gsvaParam(X, gs)\n",
    "gsvaPar"
   ]
  },
  {
   "cell_type": "code",
   "execution_count": null,
   "id": "2cc6b570",
   "metadata": {},
   "outputs": [],
   "source": [
    "gsva.es <- gsva(gsvaPar, verbose=FALSE)\n"
   ]
  },
  {
   "cell_type": "code",
   "execution_count": null,
   "id": "9f912a89",
   "metadata": {},
   "outputs": [],
   "source": [
    "gsva.es"
   ]
  },
  {
   "cell_type": "markdown",
   "id": "2fab22e4",
   "metadata": {},
   "source": [
    "Add meta data for visualization. "
   ]
  },
  {
   "cell_type": "code",
   "execution_count": null,
   "id": "b7107a18",
   "metadata": {},
   "outputs": [],
   "source": [
    "md_cd8  <- cd8_l1_full_filt@meta.data  %>% \n",
    "group_by(Sample_ID, Condition, Condition2, Age, Sex)  %>% tally  %>% dplyr::select(-n)  %>% \n",
    "ungroup  %>% \n",
    "mutate(Sample_ID = as.factor(Sample_ID))\n",
    "\n",
    "md_cd8$Sample_ID  <- paste0(\"g\",md_cd8$Sample_ID)\n",
    "\n",
    "\n",
    "md_cd8  <- left_join(aggexp_cd8@meta.data, md_cd8)\n",
    "rownames(md_cd8)  <- colnames(aggexp_cd8)"
   ]
  },
  {
   "cell_type": "code",
   "execution_count": null,
   "id": "125d9120",
   "metadata": {},
   "outputs": [],
   "source": [
    "all.equal(md_cd8$orig.ident, colnames(gsva.es))"
   ]
  },
  {
   "cell_type": "code",
   "execution_count": null,
   "id": "afc07cb5",
   "metadata": {},
   "outputs": [],
   "source": [
    "md_cd8$Condition2  <- NULL\n",
    "md_cd8$Sample_ID  <- NULL\n",
    "md_cd8$orig.ident  <- NULL"
   ]
  },
  {
   "cell_type": "markdown",
   "id": "0dffd7dd",
   "metadata": {},
   "source": [
    "Adjust colors and plot final heatmap. "
   ]
  },
  {
   "cell_type": "code",
   "execution_count": null,
   "id": "3713ce3e",
   "metadata": {},
   "outputs": [],
   "source": [
    "anno.colors <- list(Condition = c(\"Ctrl T0\" = \"dodgerblue\",\"Dia T0\" = \"red\",\"Dia T1\" = \"darkred\"),\n",
    "                    Sex = c(\"F\" = \"hotpink1\", \"M\" = \"skyblue\"))"
   ]
  },
  {
   "cell_type": "code",
   "execution_count": null,
   "id": "eb5dcb3e",
   "metadata": {},
   "outputs": [],
   "source": [
    "options(repr.plot.height = 3.5, repr.plot.width = 15)\n",
    "pathway_heatmap <- pheatmap::pheatmap(gsva.es,\n",
    "  annotation_col = md_cd8, # Add metadata labels!\n",
    "  annotation_colors  = anno.colors,\n",
    "  show_colnames = FALSE, # Don't show sample labels\n",
    "  border_color = \"white\",\n",
    "  fontsize_row = 10 # Shrink the pathway labels a tad\n",
    ")\n",
    "\n",
    "# Print out heatmap here\n",
    "pathway_heatmap"
   ]
  },
  {
   "cell_type": "code",
   "execution_count": null,
   "id": "2588fce8",
   "metadata": {},
   "outputs": [],
   "source": [
    "pathway_heatmap <- pheatmap::pheatmap(gsva.es,\n",
    "  annotation_col = md_cd8, # Add metadata labels!\n",
    "  annotation_colors  = anno.colors,\n",
    "  show_colnames = FALSE, # Don't show sample labels\n",
    "  border_color = \"white\",\n",
    "  fontsize_row = 10, # Shrink the pathway labels a tad\n",
    "  filename = \"../figures/heatmaps/gsva_cd8.pdf\",\n",
    " width = 15, height = 3.5\n",
    ")"
   ]
  },
  {
   "cell_type": "code",
   "execution_count": null,
   "id": "92bcce24",
   "metadata": {},
   "outputs": [],
   "source": [
    "gsva.es"
   ]
  },
  {
   "cell_type": "code",
   "execution_count": null,
   "id": "e0d25d27",
   "metadata": {},
   "outputs": [],
   "source": [
    "gc()"
   ]
  },
  {
   "cell_type": "code",
   "execution_count": null,
   "id": "2f17ec68",
   "metadata": {
    "scrolled": true
   },
   "outputs": [],
   "source": [
    "options(repr.plot.height = 3.5, repr.plot.width = 6)\n",
    "for(i in 1:6){\n",
    "    md_cd8$naive_vs_eff  <- gsva.es[i,]\n",
    "    p  <- md_cd8  %>% \n",
    "    ggplot(aes(x = Condition, y = naive_vs_eff)) +\n",
    "    geom_boxplot(outlier.shape = NA) +\n",
    "    geom_jitter() +\n",
    "    ggtheme() +\n",
    "    ggtitle(rownames(gsva.es)[i]) +\n",
    "    ggpubr::stat_compare_means(label = \"p.format\", comparisons = list(c(1,2)))\n",
    "    \n",
    "    \n",
    "    print(p)\n",
    "}"
   ]
  },
  {
   "cell_type": "code",
   "execution_count": null,
   "id": "8fef2e7c",
   "metadata": {},
   "outputs": [],
   "source": [
    "md_cd8$naive_vs_eff  <- gsva.es[3,]\n",
    "    p  <- md_cd8  %>% \n",
    "    ggplot(aes(x = Condition, y = naive_vs_eff)) +\n",
    "geom_violin(scale = \"width\", aes(fill = Condition), alpha = 0.4) +\n",
    "stat_summary(fun = \"median\",\n",
    "               geom = \"crossbar\", \n",
    "               width = 0.75,\n",
    "               color = \"grey30\") +\n",
    "geom_beeswarm(size = 3, aes(fill = Condition), cex = 3, \n",
    "                shape = 21, color = \"black\", corral = \"random\") +\n",
    " stat_compare_means(label = \"p.format\", comparisons = list(c(1,2))) +\n",
    "theme_classic() +\n",
    "ggtheme() +\n",
    "scale_fill_manual(values = c(\"#1874cdff\",  \"#ee6363ff\", \"#c41515ff\",\"#eeb4b4ff\")) +\n",
    "scale_color_manual(values = c(\"dodgerblue3\",  \"#e54c4cff\", \"#aa2a2aff\",\"#e88989ff\")) +\n",
    "ylab(\"\") +\n",
    "  xlab(\"\") +\n",
    "theme(axis.text.x = element_blank(),\n",
    "      axis.ticks.x = element_blank()) +\n",
    "    ggtitle(rownames(gsva.es)[3]) +\n",
    "    ggpubr::stat_compare_means(label = \"p.format\", comparisons = list(c(1,2)))\n",
    "p        "
   ]
  },
  {
   "cell_type": "code",
   "execution_count": null,
   "id": "d949e2be",
   "metadata": {
    "scrolled": true
   },
   "outputs": [],
   "source": [
    "md_cd8"
   ]
  },
  {
   "cell_type": "code",
   "execution_count": null,
   "id": "85bb75d2",
   "metadata": {},
   "outputs": [],
   "source": [
    "p\n",
    "ggsave(\"../figures/gsea_quantification/cd8.svg\", create.dir = TRUE,\n",
    "       width = 13, height = 8, units = \"cm\")\n",
    "ggsave(\"../figures/gsea_quantification/cd8.png\", width = 13, height = 8, units = \"cm\")\n"
   ]
  },
  {
   "cell_type": "markdown",
   "id": "cbeb3bef",
   "metadata": {},
   "source": [
    "Get p-value for the paired group. "
   ]
  },
  {
   "cell_type": "code",
   "execution_count": null,
   "id": "3ae7a0b4",
   "metadata": {},
   "outputs": [],
   "source": [
    "md_cd8_2 <- md_cd8  %>% \n",
    "rownames_to_column(\"sample\")  %>% \n",
    "left_join(unique(cd8_l1_full_filt@meta.data  %>% \n",
    "          mutate(sample = paste0(\"g\", Sample_ID))  %>% \n",
    "          dplyr::select(sample, Patient_ID)))"
   ]
  },
  {
   "cell_type": "code",
   "execution_count": null,
   "id": "6718657f",
   "metadata": {},
   "outputs": [],
   "source": [
    "df_filt <- md_cd8_2  %>% \n",
    "separate(Condition, into = c(\"disease\",\"time_taken\"), sep = \" \", remove = F)  %>% \n",
    "dplyr::filter(disease != \"Ctrl\")  %>% \n",
    "dplyr::select(Patient_ID, time_taken, value = naive_vs_eff)  %>% \n",
    "pivot_wider(names_from = time_taken, values_from = value) \n",
    "colnames(df_filt)  <- c(\"Patient_ID\",\"Time0\",\"Time1\")"
   ]
  },
  {
   "cell_type": "code",
   "execution_count": null,
   "id": "42af089b",
   "metadata": {
    "scrolled": true
   },
   "outputs": [],
   "source": [
    "df_filt"
   ]
  },
  {
   "cell_type": "code",
   "execution_count": null,
   "id": "78cf5ef6",
   "metadata": {},
   "outputs": [],
   "source": [
    "\n",
    " df_filt <- df_filt %>% dplyr::filter(!is.na(Time1)&(!is.na(Time0)))\n",
    "    df_filt <- df_filt  %>% pivot_longer(!Patient_ID, names_to = \"TimePoint\", values_to = \"value\")\n",
    "    \n",
    "plot2 <- df_filt  %>% \n",
    "  ggplot(aes(x = TimePoint,\n",
    "             y = value)) +\n",
    "geom_violin(alpha = 0.3, scale = \"width\") + \n",
    "stat_summary(fun = \"median\",\n",
    "               geom = \"crossbar\", \n",
    "               width = 0.75,\n",
    "               color = \"grey30\") +\n",
    "geom_beeswarm(size = 3, cex = 3, \n",
    "                shape = 21, color = \"black\", corral = \"random\") +\n",
    "ggpubr::stat_compare_means(label.x = 1.2, label.y.npc = \"top\", paired = TRUE, \n",
    "                           size = 5, vjust = 0.3, label = \"p.format\") +\n",
    "scale_fill_manual(values = c(\"#ee6363ff\", \"#c41515ff\",\"#eeb4b4ff\")) +\n",
    "scale_color_manual(values = c(\"#e54c4cff\", \"#aa2a2aff\",\"#e88989ff\")) +\n",
    "ylab(\"\") +\n",
    "  xlab(\"\") +\n",
    "  #ylim(0,NA) +\n",
    "  theme_classic() +\n",
    "theme(strip.background = element_blank(), panel.grid = element_blank()) + \n",
    "  theme(axis.text = element_text(color = \"black\"),\n",
    "        axis.text.x = element_text(angle = 90),\n",
    "       axis.line = element_line(color = \"black\", size = 0.5),\n",
    "        axis.ticks.x = element_blank()) +\n",
    "  #ylim(0,NA)+\n",
    "  plot_annotation(\n",
    "    title = paste(stringr::str_replace_all(string = colnames(df)[i], pattern = \"/\", replacement = \"\\n\")) ,\n",
    "    theme = theme(plot.title = element_text(size = 8), \n",
    "                  plot.subtitle = element_text(size = 8),\n",
    "                 axis.text.x = element_blank())) + ggtheme() + NoLegend()\n",
    "  "
   ]
  },
  {
   "cell_type": "code",
   "execution_count": null,
   "id": "f9443b2d",
   "metadata": {},
   "outputs": [],
   "source": [
    "plot2"
   ]
  },
  {
   "cell_type": "code",
   "execution_count": null,
   "id": "86e43e11",
   "metadata": {},
   "outputs": [],
   "source": [
    " md_cd8  %>% \n",
    "    ggplot(aes(x = Sex, y = naive_vs_eff)) +\n",
    "geom_violin(scale = \"width\", aes(fill = Sex), alpha = 0.4) +\n",
    "stat_summary(fun = \"median\",\n",
    "               geom = \"crossbar\", \n",
    "               width = 0.75,\n",
    "               color = \"grey30\") +\n",
    "geom_beeswarm(size = 3, aes(fill = Sex), cex = 3, \n",
    "                shape = 21, color = \"black\", corral = \"random\") +\n",
    " stat_compare_means(label = \"p.format\", comparisons = list(c(1,2))) +\n",
    "theme_classic() +\n",
    "ggtheme() +\n",
    "scale_fill_manual(values = c(\"hotpink\",  \"skyblue\")) +\n",
    "scale_color_manual(values = c(\"hotpink\",  \"skyblue\")) +\n",
    "ylab(\"\") +\n",
    "  xlab(\"\") +\n",
    "theme(axis.text.x = element_blank(),\n",
    "      axis.ticks.x = element_blank()) +\n",
    "    ggtitle(rownames(gsva.es)[3]) +\n",
    "    ggpubr::stat_compare_means(label = \"p.format\", comparisons = list(c(1,2)))\n"
   ]
  },
  {
   "cell_type": "code",
   "execution_count": null,
   "id": "345954d0",
   "metadata": {},
   "outputs": [],
   "source": [
    "\n",
    "ggsave(\"../figures/gsea_quantification/cd8_sex.svg\", create.dir = TRUE,\n",
    "       width = 9, height = 8, units = \"cm\")\n",
    "ggsave(\"../figures/gsea_quantification/cd8_sex.png\", width = 9, height = 8, units = \"cm\")\n"
   ]
  },
  {
   "cell_type": "code",
   "execution_count": null,
   "id": "0b7bbe64",
   "metadata": {},
   "outputs": [],
   "source": [
    "p"
   ]
  },
  {
   "cell_type": "code",
   "execution_count": null,
   "id": "7f767984",
   "metadata": {
    "scrolled": true
   },
   "outputs": [],
   "source": [
    "options(repr.plot.height = 3.5, repr.plot.width = 6)\n",
    "for(i in 1:5){\n",
    "    md_cd8$naive_vs_eff  <- gsva.es[i,]\n",
    "    p  <- md_cd8  %>% \n",
    "    ggplot(aes(x = Sex, y = naive_vs_eff)) +\n",
    "    geom_boxplot(outlier.shape = NA) +\n",
    "    geom_jitter() +\n",
    "    ggtheme() +\n",
    "    ggtitle(rownames(gsva.es)[i]) +\n",
    "    ggpubr::stat_compare_means(label = \"p.format\")\n",
    "    \n",
    "    \n",
    "    print(p)\n",
    "}"
   ]
  },
  {
   "cell_type": "markdown",
   "id": "3d37a408",
   "metadata": {},
   "source": [
    "## GSEA scores per patient - DecoupleR"
   ]
  },
  {
   "cell_type": "markdown",
   "id": "a44495dd",
   "metadata": {},
   "source": [
    "In this part, we will load the signatures from the publication by John Wherry et al. and use them for quantification of scores per patient using the DecoupleR package. "
   ]
  },
  {
   "cell_type": "code",
   "execution_count": null,
   "id": "5235aad7",
   "metadata": {},
   "outputs": [],
   "source": [
    "library(limma)\n",
    "library(decoupleR)"
   ]
  },
  {
   "cell_type": "code",
   "execution_count": null,
   "id": "5a53948c",
   "metadata": {},
   "outputs": [],
   "source": [
    "genes  <- c(\"GZMB\",\"GZMA\",\"TNF\",\"LEF1\",\"TCF7\",\"GNLY\",\"CXCR4\",\"TNFAIP3\")"
   ]
  },
  {
   "cell_type": "code",
   "execution_count": null,
   "id": "582d46e5",
   "metadata": {},
   "outputs": [],
   "source": [
    "df  <- aggexp_cd8@assays$RNA@layers$data[which(rownames(aggexp_cd8@assays$RNA) %in% genes),]"
   ]
  },
  {
   "cell_type": "code",
   "execution_count": null,
   "id": "3ea569b9",
   "metadata": {},
   "outputs": [],
   "source": [
    "colnames(df)  <- colnames(aggexp_cd8)\n",
    "rownames(df)  <- rownames(aggexp_cd8@assays$RNA)[which(rownames(aggexp_cd8@assays$RNA) %in% genes)]"
   ]
  },
  {
   "cell_type": "code",
   "execution_count": null,
   "id": "e33bf6c5",
   "metadata": {},
   "outputs": [],
   "source": [
    "df  <- df  %>% t()  %>% as.data.frame()  %>% \n",
    "rownames_to_column(\"Sample_ID\")  %>% \n",
    "pivot_longer(!Sample_ID, names_to = \"gene\", values_to = \"value\")  \n"
   ]
  },
  {
   "cell_type": "code",
   "execution_count": null,
   "id": "829ecc04",
   "metadata": {
    "scrolled": true
   },
   "outputs": [],
   "source": [
    "df"
   ]
  },
  {
   "cell_type": "code",
   "execution_count": null,
   "id": "f965ad98",
   "metadata": {},
   "outputs": [],
   "source": [
    "df  <- df  %>% left_join(md_cd8)"
   ]
  },
  {
   "cell_type": "code",
   "execution_count": null,
   "id": "387d3bb3",
   "metadata": {
    "scrolled": true
   },
   "outputs": [],
   "source": [
    "df  %>% \n",
    "ggplot(aes(x = Condition, y = value)) +\n",
    "geom_violin(scale = \"width\", aes(fill = Condition), alpha = 0.4) +\n",
    "stat_summary(fun = \"median\",\n",
    "               geom = \"crossbar\", \n",
    "               width = 0.75,\n",
    "               color = \"grey30\") +\n",
    "geom_beeswarm(size = 3, aes(fill = Condition), cex = 3, \n",
    "                shape = 21, color = \"black\", corral = \"random\") +\n",
    " stat_compare_means(label = \"p.format\", comparisons = list(c(1,2))) +\n",
    "facet_wrap(~gene, ncol = 4, scales = \"free\") +\n",
    "theme_classic() +\n",
    "ggtheme() +\n",
    "scale_fill_manual(values = c(\"#1874cdff\",  \"#ee6363ff\", \"#c41515ff\",\"#eeb4b4ff\")) +\n",
    "scale_color_manual(values = c(\"dodgerblue3\",  \"#e54c4cff\", \"#aa2a2aff\",\"#e88989ff\")) +\n",
    "ylab(\"\") +\n",
    "  xlab(\"\") +\n",
    "theme(axis.text.x = element_blank(),\n",
    "      axis.ticks.x = element_blank()\n",
    "      )"
   ]
  },
  {
   "cell_type": "markdown",
   "id": "18d1428e",
   "metadata": {},
   "source": [
    "Load the matrix from Wherry et al."
   ]
  },
  {
   "cell_type": "code",
   "execution_count": null,
   "id": "89f7d7a8",
   "metadata": {},
   "outputs": [],
   "source": [
    "load(\"../../VN_misc/ref_wherry_new.RData\")"
   ]
  },
  {
   "cell_type": "code",
   "execution_count": null,
   "id": "ce7f47b0",
   "metadata": {},
   "outputs": [],
   "source": [
    "ref_wherry_new"
   ]
  },
  {
   "cell_type": "code",
   "execution_count": null,
   "id": "5354d385",
   "metadata": {},
   "outputs": [],
   "source": [
    "ref_wherry_new$labels"
   ]
  },
  {
   "cell_type": "markdown",
   "id": "fee61484",
   "metadata": {},
   "source": [
    "## CD8"
   ]
  },
  {
   "cell_type": "code",
   "execution_count": null,
   "id": "d0954d49",
   "metadata": {},
   "outputs": [],
   "source": []
  },
  {
   "cell_type": "markdown",
   "id": "246d76fa",
   "metadata": {},
   "source": [
    "### Contrast for X vs Y"
   ]
  },
  {
   "cell_type": "code",
   "execution_count": null,
   "id": "5fcc81a7",
   "metadata": {},
   "outputs": [],
   "source": [
    "subset1 = \"CD8_Naive\"\n",
    "subset2 = \"CD8_EM1\"\n"
   ]
  },
  {
   "cell_type": "code",
   "execution_count": null,
   "id": "8d060abb",
   "metadata": {},
   "outputs": [],
   "source": [
    "mtx_subset  <- ref_wherry_new$matrix[,ref_wherry_new$labels %in% c(subset1,subset2)]"
   ]
  },
  {
   "cell_type": "code",
   "execution_count": null,
   "id": "2986d3d0",
   "metadata": {},
   "outputs": [],
   "source": [
    "dim(ref_wherry_new$matrix)"
   ]
  },
  {
   "cell_type": "code",
   "execution_count": null,
   "id": "ead791bd",
   "metadata": {},
   "outputs": [],
   "source": [
    "dim(mtx_subset)"
   ]
  },
  {
   "cell_type": "code",
   "execution_count": null,
   "id": "2f18fe99",
   "metadata": {},
   "outputs": [],
   "source": [
    "group  <- ref_wherry_new$labels[ref_wherry_new$labels %in% c(subset1,subset2)]"
   ]
  },
  {
   "cell_type": "code",
   "execution_count": null,
   "id": "753082fb",
   "metadata": {},
   "outputs": [],
   "source": [
    "group"
   ]
  },
  {
   "cell_type": "code",
   "execution_count": null,
   "id": "b381b191",
   "metadata": {},
   "outputs": [],
   "source": [
    "design <- model.matrix(~group)\n",
    "fit <- lmFit(mtx_subset, design)\n",
    "fit <- eBayes(fit)\n",
    "topTable(fit)"
   ]
  },
  {
   "cell_type": "code",
   "execution_count": null,
   "id": "cf4d3b81",
   "metadata": {
    "scrolled": true
   },
   "outputs": [],
   "source": [
    "topTable(fit, number = 50000)"
   ]
  },
  {
   "cell_type": "code",
   "execution_count": null,
   "id": "ec85265e",
   "metadata": {},
   "outputs": [],
   "source": []
  },
  {
   "cell_type": "code",
   "execution_count": null,
   "id": "afd5434f",
   "metadata": {},
   "outputs": [],
   "source": [
    "signatures  <- topTable(fit, number = 50000)  %>%\n",
    "transmute(source = paste(subset1,\"vs.\",subset2),\n",
    "          target = ID,\n",
    "          mor = logFC)"
   ]
  },
  {
   "cell_type": "code",
   "execution_count": null,
   "id": "44e6ea20",
   "metadata": {
    "scrolled": true
   },
   "outputs": [],
   "source": [
    "signatures$target  %>% duplicated  %>% table"
   ]
  },
  {
   "cell_type": "code",
   "execution_count": null,
   "id": "61a85a99",
   "metadata": {},
   "outputs": [],
   "source": [
    "target_dupl  <- signatures$target  %>% duplicated"
   ]
  },
  {
   "cell_type": "code",
   "execution_count": null,
   "id": "bce3c822",
   "metadata": {
    "scrolled": true
   },
   "outputs": [],
   "source": [
    "signatures  %>% dplyr::filter(target_dupl)"
   ]
  },
  {
   "cell_type": "code",
   "execution_count": null,
   "id": "b701d387",
   "metadata": {},
   "outputs": [],
   "source": [
    "signatures  %>% dplyr::filter(!target_dupl)"
   ]
  },
  {
   "cell_type": "code",
   "execution_count": null,
   "id": "09c44f37",
   "metadata": {},
   "outputs": [],
   "source": []
  },
  {
   "cell_type": "code",
   "execution_count": null,
   "id": "234c8812",
   "metadata": {
    "scrolled": true
   },
   "outputs": [],
   "source": [
    "all_markers_cd8  %>% dplyr::filter(test_type == \"Dia T0 vs Ctrl T0\" & dataset == \"cd8_l1_full_filt\")  %>% arrange(p_val)"
   ]
  },
  {
   "cell_type": "code",
   "execution_count": null,
   "id": "d8a6c37c",
   "metadata": {},
   "outputs": [],
   "source": [
    "mrk_t0  <- all_markers_cd8  %>% dplyr::filter(test_type == \"Dia T0 vs Ctrl T0\" & dataset == \"cd8_l1_full_filt\")  %>% arrange(p_val_adj)  %>% \n",
    "pull(gene)"
   ]
  },
  {
   "cell_type": "code",
   "execution_count": null,
   "id": "6bf77fa1",
   "metadata": {
    "scrolled": true
   },
   "outputs": [],
   "source": [
    "all_markers_cd8  %>% dplyr::filter(test_type == \"Dia T1 vs Ctrl T0\" & dataset == \"cd8_l1_full_filt\")  %>% arrange(p_val)"
   ]
  },
  {
   "cell_type": "code",
   "execution_count": null,
   "id": "cc949979",
   "metadata": {},
   "outputs": [],
   "source": [
    "mrk_t1  <- all_markers_cd8  %>% dplyr::filter(test_type == \"Dia T1 vs Ctrl T0\" & dataset == \"cd8_l1_full_filt\")  %>% \n",
    "arrange(p_val_adj)  %>% \n",
    "pull(gene)"
   ]
  },
  {
   "cell_type": "code",
   "execution_count": null,
   "id": "571a844d",
   "metadata": {},
   "outputs": [],
   "source": [
    "mrk_t0  <- mrk_t0[1:200]\n",
    "mrk_t1  <- mrk_t1[1:200]"
   ]
  },
  {
   "cell_type": "code",
   "execution_count": null,
   "id": "ee8978ea",
   "metadata": {},
   "outputs": [],
   "source": [
    "intersect(mrk_t0, mrk_t1)"
   ]
  },
  {
   "cell_type": "code",
   "execution_count": null,
   "id": "979f05bb",
   "metadata": {},
   "outputs": [],
   "source": []
  },
  {
   "cell_type": "code",
   "execution_count": null,
   "id": "eb7d1755",
   "metadata": {},
   "outputs": [],
   "source": [
    "genes  <- c(\"STIM1\", \"STIM2\", \"ORAI2\", \"ORAI3\", \"TRPC1\", \"RCAN1\", \"PPP3CA\", \"PPP3R1 \", \"NFATC1\", \"NFATC2\", \"NFATC3\")"
   ]
  },
  {
   "cell_type": "code",
   "execution_count": null,
   "id": "8f80490c",
   "metadata": {},
   "outputs": [],
   "source": [
    "df  <- aggexp_cd8@assays$RNA@layers$data[which(rownames(aggexp_cd8@assays$RNA) %in% genes),]"
   ]
  },
  {
   "cell_type": "code",
   "execution_count": null,
   "id": "c6349540",
   "metadata": {},
   "outputs": [],
   "source": [
    "colnames(df)  <- colnames(aggexp_cd8)\n",
    "rownames(df)  <- rownames(aggexp_cd8@assays$RNA)[which(rownames(aggexp_cd8@assays$RNA) %in% genes)]"
   ]
  },
  {
   "cell_type": "code",
   "execution_count": null,
   "id": "fe9b5f30",
   "metadata": {},
   "outputs": [],
   "source": [
    "df  <- df  %>% t()  %>% as.data.frame()  %>% \n",
    "rownames_to_column(\"Sample_ID\")  %>% \n",
    "pivot_longer(!Sample_ID, names_to = \"gene\", values_to = \"value\")  \n"
   ]
  },
  {
   "cell_type": "code",
   "execution_count": null,
   "id": "07ff3c6f",
   "metadata": {
    "scrolled": true
   },
   "outputs": [],
   "source": [
    "df"
   ]
  },
  {
   "cell_type": "code",
   "execution_count": null,
   "id": "58893b85",
   "metadata": {},
   "outputs": [],
   "source": [
    "df  <- df  %>% left_join(md_cd8)"
   ]
  },
  {
   "cell_type": "code",
   "execution_count": null,
   "id": "d539f2f7",
   "metadata": {
    "scrolled": true
   },
   "outputs": [],
   "source": [
    "df  %>% \n",
    "ggplot(aes(x = Condition, y = value)) +\n",
    "geom_violin(scale = \"width\", aes(fill = Condition), alpha = 0.4) +\n",
    "stat_summary(fun = \"median\",\n",
    "               geom = \"crossbar\", \n",
    "               width = 0.75,\n",
    "               color = \"grey30\") +\n",
    "geom_beeswarm(size = 3, aes(fill = Condition), cex = 3, \n",
    "                shape = 21, color = \"black\", corral = \"random\") +\n",
    " stat_compare_means(label = \"p.format\", comparisons = list(c(1,2))) +\n",
    "facet_wrap(~gene, ncol = 4, scales = \"free\") +\n",
    "theme_classic() +\n",
    "ggtheme() +\n",
    "scale_fill_manual(values = c(\"#1874cdff\",  \"#ee6363ff\", \"#c41515ff\",\"#eeb4b4ff\")) +\n",
    "scale_color_manual(values = c(\"dodgerblue3\",  \"#e54c4cff\", \"#aa2a2aff\",\"#e88989ff\")) +\n",
    "ylab(\"\") +\n",
    "  xlab(\"\") +\n",
    "theme(axis.text.x = element_blank(),\n",
    "      axis.ticks.x = element_blank()\n",
    "      )"
   ]
  },
  {
   "cell_type": "code",
   "execution_count": null,
   "id": "437ce515",
   "metadata": {},
   "outputs": [],
   "source": [
    "mrk_t0  <- all_markers_cd8  %>% dplyr::filter(test_type == \"Dia T0 vs Ctrl T0\" & dataset == \"cd8_l1_full_filt\")  %>% arrange(p_val_adj)  %>% \n",
    "pull(gene)"
   ]
  },
  {
   "cell_type": "code",
   "execution_count": null,
   "id": "4a12f884",
   "metadata": {
    "scrolled": true
   },
   "outputs": [],
   "source": [
    "all_markers_cd8  %>% dplyr::filter(test_type == \"Dia T1 vs Ctrl T0\" & dataset == \"cd8_l1_full_filt\")  %>% arrange(p_val)"
   ]
  },
  {
   "cell_type": "code",
   "execution_count": null,
   "id": "ec3e7a82",
   "metadata": {},
   "outputs": [],
   "source": [
    "mrk_t1  <- all_markers_cd8  %>% dplyr::filter(test_type == \"Dia T0 vs Dia T1\" & dataset == \"cd8_l1_full_filt\")  %>% \n",
    "arrange(p_val_adj)  %>% \n",
    "pull(gene)"
   ]
  },
  {
   "cell_type": "code",
   "execution_count": null,
   "id": "19959120",
   "metadata": {},
   "outputs": [],
   "source": [
    "mrk_t0  <- mrk_t0[1:200]\n",
    "mrk_t1  <- mrk_t1[1:200]"
   ]
  },
  {
   "cell_type": "code",
   "execution_count": null,
   "id": "c4a4c0df",
   "metadata": {},
   "outputs": [],
   "source": [
    "intersect(mrk_t0, mrk_t1)"
   ]
  },
  {
   "cell_type": "code",
   "execution_count": null,
   "id": "5cbad04b",
   "metadata": {},
   "outputs": [],
   "source": [
    "genes  <- c(\"ORAI1\",\"NFATC2\",\"NFATC3\")"
   ]
  },
  {
   "cell_type": "code",
   "execution_count": null,
   "id": "e3db1ccf",
   "metadata": {},
   "outputs": [],
   "source": [
    "df  <- aggexp_cd8@assays$RNA@layers$data[which(rownames(aggexp_cd8@assays$RNA) %in% genes),]"
   ]
  },
  {
   "cell_type": "code",
   "execution_count": null,
   "id": "e9881df3",
   "metadata": {},
   "outputs": [],
   "source": [
    "colnames(df)  <- colnames(aggexp_cd8)\n",
    "rownames(df)  <- rownames(aggexp_cd8@assays$RNA)[which(rownames(aggexp_cd8@assays$RNA) %in% genes)]"
   ]
  },
  {
   "cell_type": "code",
   "execution_count": null,
   "id": "f5bbfd6f",
   "metadata": {},
   "outputs": [],
   "source": [
    "df  <- df  %>% t()  %>% as.data.frame()  %>% \n",
    "rownames_to_column(\"Sample_ID\")  %>% \n",
    "pivot_longer(!Sample_ID, names_to = \"gene\", values_to = \"value\")  \n"
   ]
  },
  {
   "cell_type": "code",
   "execution_count": null,
   "id": "b4035060",
   "metadata": {
    "scrolled": true
   },
   "outputs": [],
   "source": [
    "df"
   ]
  },
  {
   "cell_type": "code",
   "execution_count": null,
   "id": "a65159e5",
   "metadata": {},
   "outputs": [],
   "source": [
    "df  <- df  %>% left_join(md_cd8)"
   ]
  },
  {
   "cell_type": "code",
   "execution_count": null,
   "id": "524e0d6f",
   "metadata": {
    "scrolled": true
   },
   "outputs": [],
   "source": [
    "options(repr.plot.height = 4, repr.plot.width = 9)\n",
    "\n",
    "df  %>% \n",
    "ggplot(aes(x = Condition, y = value)) +\n",
    "geom_violin(scale = \"width\", aes(fill = Condition), alpha = 0.4) +\n",
    "stat_summary(fun = \"median\",\n",
    "               geom = \"crossbar\", \n",
    "               width = 0.75,\n",
    "               color = \"grey30\") +\n",
    "geom_beeswarm(size = 3, aes(fill = Condition), cex = 3, \n",
    "                shape = 21, color = \"black\", corral = \"random\") +\n",
    " stat_compare_means(label = \"p.format\", comparisons = list(c(1,2))) +\n",
    "facet_wrap(~gene, ncol = 4, scales = \"free\") +\n",
    "theme_classic() +\n",
    "ggtheme() +\n",
    "scale_fill_manual(values = c(\"#1874cdff\",  \"#ee6363ff\", \"#c41515ff\",\"#eeb4b4ff\")) +\n",
    "scale_color_manual(values = c(\"dodgerblue3\",  \"#e54c4cff\", \"#aa2a2aff\",\"#e88989ff\")) +\n",
    "ylab(\"\") +\n",
    "  xlab(\"\") +\n",
    "theme(axis.text.x = element_blank(),\n",
    "      axis.ticks.x = element_blank()\n",
    "      )"
   ]
  },
  {
   "cell_type": "code",
   "execution_count": null,
   "id": "d3dbd28d",
   "metadata": {},
   "outputs": [],
   "source": [
    "df  <- aggexp_cd4@assays$RNA@layers$data[which(rownames(aggexp_cd4@assays$RNA) %in% genes),]"
   ]
  },
  {
   "cell_type": "code",
   "execution_count": null,
   "id": "40657253",
   "metadata": {},
   "outputs": [],
   "source": [
    "colnames(df)  <- colnames(aggexp_cd4)\n",
    "rownames(df)  <- rownames(aggexp_cd4@assays$RNA)[which(rownames(aggexp_cd4@assays$RNA) %in% genes)]"
   ]
  },
  {
   "cell_type": "code",
   "execution_count": null,
   "id": "d0819ec5",
   "metadata": {},
   "outputs": [],
   "source": [
    "df  <- df  %>% t()  %>% as.data.frame()  %>% \n",
    "rownames_to_column(\"Sample_ID\")  %>% \n",
    "pivot_longer(!Sample_ID, names_to = \"gene\", values_to = \"value\")  \n"
   ]
  },
  {
   "cell_type": "code",
   "execution_count": null,
   "id": "e342d96d",
   "metadata": {
    "scrolled": true
   },
   "outputs": [],
   "source": [
    "df"
   ]
  },
  {
   "cell_type": "code",
   "execution_count": null,
   "id": "e563414e",
   "metadata": {},
   "outputs": [],
   "source": [
    "df  <- df  %>% left_join(md_cd4)"
   ]
  },
  {
   "cell_type": "code",
   "execution_count": null,
   "id": "97fab422",
   "metadata": {
    "scrolled": true
   },
   "outputs": [],
   "source": [
    "df  %>% \n",
    "ggplot(aes(x = Condition, y = value)) +\n",
    "geom_violin(scale = \"width\", aes(fill = Condition), alpha = 0.4) +\n",
    "stat_summary(fun = \"median\",\n",
    "               geom = \"crossbar\", \n",
    "               width = 0.75,\n",
    "               color = \"grey30\") +\n",
    "geom_beeswarm(size = 3, aes(fill = Condition), cex = 3, \n",
    "                shape = 21, color = \"black\", corral = \"random\") +\n",
    " stat_compare_means(label = \"p.format\", comparisons = list(c(1,2))) +\n",
    "facet_wrap(~gene, ncol = 4, scales = \"free\") +\n",
    "theme_classic() +\n",
    "ggtheme() +\n",
    "scale_fill_manual(values = c(\"#1874cdff\",  \"#ee6363ff\", \"#c41515ff\",\"#eeb4b4ff\")) +\n",
    "scale_color_manual(values = c(\"dodgerblue3\",  \"#e54c4cff\", \"#aa2a2aff\",\"#e88989ff\")) +\n",
    "ylab(\"\") +\n",
    "  xlab(\"\") +\n",
    "theme(axis.text.x = element_blank(),\n",
    "      axis.ticks.x = element_blank()\n",
    "      )"
   ]
  },
  {
   "cell_type": "code",
   "execution_count": null,
   "id": "34da25dc",
   "metadata": {},
   "outputs": [],
   "source": []
  },
  {
   "cell_type": "code",
   "execution_count": null,
   "id": "25e14e79",
   "metadata": {},
   "outputs": [],
   "source": [
    "ls()"
   ]
  },
  {
   "cell_type": "code",
   "execution_count": null,
   "id": "2cafcd06",
   "metadata": {},
   "outputs": [],
   "source": []
  },
  {
   "cell_type": "code",
   "execution_count": null,
   "id": "e4170e44",
   "metadata": {},
   "outputs": [],
   "source": [
    "cd8_l1_full_filt$Experiment_ID  %>% table"
   ]
  },
  {
   "cell_type": "code",
   "execution_count": null,
   "id": "54b3e23a",
   "metadata": {},
   "outputs": [],
   "source": [
    "cd8_l1_full_filt@meta.data  %>% group_by(Experiment_ID, Disease, Patient_ID)  %>% tally  %>% \n",
    "dplyr::select(-n)  %>% \n",
    "group_by(Experiment_ID, Disease)  %>%\n",
    "tally()"
   ]
  },
  {
   "cell_type": "code",
   "execution_count": null,
   "id": "afff2bdf",
   "metadata": {},
   "outputs": [],
   "source": [
    "cd8_l1_full_filt@meta.data  %>% group_by(Experiment_ID, Condition, Patient_ID)  %>% tally  %>% \n",
    "dplyr::select(-n)  %>% \n",
    "group_by(Experiment_ID, Condition)  %>%\n",
    "tally()  %>% \n",
    "pivot_wider(names_from = Condition, values_from = n)"
   ]
  },
  {
   "cell_type": "code",
   "execution_count": null,
   "id": "08400953",
   "metadata": {},
   "outputs": [],
   "source": [
    "cd4_l1_full_filt@meta.data  %>% group_by(Experiment_ID, Condition, Patient_ID)  %>% tally  %>% \n",
    "dplyr::select(-n)  %>% \n",
    "group_by(Experiment_ID, Condition)  %>%\n",
    "tally()  %>% \n",
    "pivot_wider(names_from = Condition, values_from = n)"
   ]
  },
  {
   "cell_type": "code",
   "execution_count": null,
   "id": "88cc2ba2",
   "metadata": {},
   "outputs": [],
   "source": [
    "\"ACTN4\", \"ADAM19\", \"AHR\", \"AKIRIN2\", \"ALCAM\", \"ALOX5AP\", \"SLF1\", \"ANTXR2\", \"ANXA1\", \"ANXA2\", \"ANXA2P1\", \"ANXA4\", \"AQP3\", \"ARHGAP18\", \"ASB2\", \"ATP2B4\", \"ATXN1\", \"B3GNT9\", \"BTG3\", \"SMCO4\", \"LACC1\", \"MIR22HG\", \"SMIM29\", \"CALHM2\", \"CAPG\", \"CASK\", \"CAST\", \"CBLL1\", \"CCDC107\", \"CCL5\", \"CCR2\", \"CCR6\", \"CD226\", \"CD28\", \"CD58\", \"CD63\", \"CD74\", \"CD84\", \"CDC42EP3\", \"CDK2AP2\", \"CHST7\", \"CLDND1\", \"CLIC1\", \"CLU\", \"CNPPD1\", \"COTL1\", \"CPPED1\", \"CREB3L2\", \"CRELD2\", \"CRIP1\", \"CRYBG3\", \"CTSA\", \"CTSC\", \"CXCR3\", \"DNAI2\", \"DUSP16\", \"DUSP5\", \"EFHD2\", \"AGO4\", \"EIF3A\", \"EIF4EBP2\", \"ELOVL5\", \"EPS15\", \"EVI2B\", \"NIBAN1\", \"ZC2HC1A\", \"PIEZO1\", \"FAR2\", \"FAS\", \"FBXL8\", \"FRMD4B\", \"GBP3\", \"GCLM\", \"GDPD5\", \"GLIPR1\", \"GOLGA7\", \"GSTK1\", \"GZMA\", \"GZMK\", \"HLA-DPA1\", \"HMGN4\", \"JPT1\", \"HNRNPLL\", \"HOPX\", \"IFI16\", \"IFI27\", \"IFNG\", \"IL10RA\", \"IL15RA\", \"IQGAP1\", \"IQGAP2\", \"ITGB1\", \"MATCAP1\", \"KIF1B\", \"KIF21A\", \"KLRB1\", \"LDHA\", \"LGALS1\", \"LGALS3\", \"LIMS1\", \"LIMS3\", \"WDR86-AS1\", \"\", \"\", \"\", \"\", \"MAP3K5\", \"MDFIC\", \"MFHAS1\", \"MIAT\", \"MIB1\", \"MICAL2\", \"MIS18BP1\", \"MLF1\", \"AFDN\", \"MTSS1\", \"MYBL1\", \"MYL6\", \"MYO1F\", \"NCAPH\", \"NCF4\", \"NETO2\", \"NINJ2\", \"NMU\", \"NOD2\", \"NPC1\", \"NPDC1\", \"NABP1\", \"NABP2\", \"OGDH\", \"OGFRL1\", \"OSBPL3\", \"PAM\", \"PDIA6\", \"PEA15\", \"PFKL\", \"PHACTR2\", \"PHTF2\", \"PLXNC1\", \"PPIF\", \"PPP1CA\", \"PREX1\", \"PRR5L\", \"PTTG1\", \"NECTIN3\", \"RAB27A\", \"REEP3\", \"REEP5\", \"RFTN1\", \"RGS3\", \"RHOU\", \"RNF126\", \"RNF149\", \"RORA\", \"S100A11\", \"S100A4\", \"SAP30\", \"SEC11C\", \"SH2D1A\", \"SH3BGRL3\", \"SH3BP5\", \"SLC2A3\", \"SLC35D2\", \"NHERF1\", \"SMAP1\", \"SPAG1\", \"SPOPL\", \"SRGN\", \"SSR3\", \"ST8SIA1\", \"STOM\", \"STX11\", \"TBCB\", \"TBX21\", \"TIGIT\", \"TLR3\", \"TMEM116\", \"TMEM156\", \"TMEM200A\", \"TMEM64\", \"TMX4\", \"TNF\", \"TNFRSF4\", \"TOR3A\", \"TP53INP1\", \"TPM4\", \"TRAC\", \"TRADD\", \"TTC39C\", \"TTYH2\", \"TXN\", \"TYMP\", \"UBL3\", \"USP46\", \"UST\", \"VCL\", \"YWHAH\", \"ZBTB38\", \"ZC3HAV1L\", \"ZNF532\"\n"
   ]
  },
  {
   "cell_type": "code",
   "execution_count": null,
   "id": "bb56daca",
   "metadata": {},
   "outputs": [],
   "source": [
    "aggexp_cd4  <- AddModuleScore(aggexp_cd4, ctrl = 50, name = \"Eff_Module_Score\",\n",
    "                              features = list(c(\n",
    "\"ACTN4\", \"ADAM19\", \"AHR\", \"AKIRIN2\", \"ALCAM\", \"ALOX5AP\", \"SLF1\", \"ANTXR2\", \"ANXA1\", \"ANXA2\", \"ANXA2P1\", \"ANXA4\", \"AQP3\", \"ARHGAP18\", \"ASB2\", \"ATP2B4\", \"ATXN1\", \"B3GNT9\", \"BTG3\", \"SMCO4\", \"LACC1\", \"MIR22HG\", \"SMIM29\", \"CALHM2\", \"CAPG\", \"CASK\", \"CAST\", \"CBLL1\", \"CCDC107\", \"CCL5\", \"CCR2\", \"CCR6\", \"CD226\", \"CD28\", \"CD58\", \"CD63\", \"CD74\", \"CD84\", \"CDC42EP3\", \"CDK2AP2\", \"CHST7\", \"CLDND1\", \"CLIC1\", \"CLU\", \"CNPPD1\", \"COTL1\", \"CPPED1\", \"CREB3L2\", \"CRELD2\", \"CRIP1\", \"CRYBG3\", \"CTSA\", \"CTSC\", \"CXCR3\", \"DNAI2\", \"DUSP16\", \"DUSP5\", \"EFHD2\", \"AGO4\", \"EIF3A\", \"EIF4EBP2\", \"ELOVL5\", \"EPS15\", \"EVI2B\", \"NIBAN1\", \"ZC2HC1A\", \"PIEZO1\", \"FAR2\", \"FAS\", \"FBXL8\", \"FRMD4B\", \"GBP3\", \"GCLM\", \"GDPD5\", \"GLIPR1\", \"GOLGA7\", \"GSTK1\", \"GZMA\", \"GZMK\", \"HLA-DPA1\", \"HMGN4\", \"JPT1\", \"HNRNPLL\", \"HOPX\", \"IFI16\", \"IFI27\", \"IFNG\", \"IL10RA\", \"IL15RA\", \"IQGAP1\", \"IQGAP2\", \"ITGB1\", \"MATCAP1\", \"KIF1B\", \"KIF21A\", \"KLRB1\", \"LDHA\", \"LGALS1\", \"LGALS3\", \"LIMS1\", \"LIMS3\", \"WDR86-AS1\", \"\", \"\", \"\", \"\", \"MAP3K5\", \"MDFIC\", \"MFHAS1\", \"MIAT\", \"MIB1\", \"MICAL2\", \"MIS18BP1\", \"MLF1\", \"AFDN\", \"MTSS1\", \"MYBL1\", \"MYL6\", \"MYO1F\", \"NCAPH\", \"NCF4\", \"NETO2\", \"NINJ2\", \"NMU\", \"NOD2\", \"NPC1\", \"NPDC1\", \"NABP1\", \"NABP2\", \"OGDH\", \"OGFRL1\", \"OSBPL3\", \"PAM\", \"PDIA6\", \"PEA15\", \"PFKL\", \"PHACTR2\", \"PHTF2\", \"PLXNC1\", \"PPIF\", \"PPP1CA\", \"PREX1\", \"PRR5L\", \"PTTG1\", \"NECTIN3\", \"RAB27A\", \"REEP3\", \"REEP5\", \"RFTN1\", \"RGS3\", \"RHOU\", \"RNF126\", \"RNF149\", \"RORA\", \"S100A11\", \"S100A4\", \"SAP30\", \"SEC11C\", \"SH2D1A\", \"SH3BGRL3\", \"SH3BP5\", \"SLC2A3\", \"SLC35D2\", \"NHERF1\", \"SMAP1\", \"SPAG1\", \"SPOPL\", \"SRGN\", \"SSR3\", \"ST8SIA1\", \"STOM\", \"STX11\", \"TBCB\", \"TBX21\", \"TIGIT\", \"TLR3\", \"TMEM116\", \"TMEM156\", \"TMEM200A\", \"TMEM64\", \"TMX4\", \"TNF\", \"TNFRSF4\", \"TOR3A\", \"TP53INP1\", \"TPM4\", \"TRAC\", \"TRADD\", \"TTC39C\", \"TTYH2\", \"TXN\", \"TYMP\", \"UBL3\", \"USP46\", \"UST\", \"VCL\", \"YWHAH\", \"ZBTB38\", \"ZC3HAV1L\", \"ZNF532\"\n",
    ")))"
   ]
  },
  {
   "cell_type": "code",
   "execution_count": null,
   "id": "362322e6",
   "metadata": {},
   "outputs": [],
   "source": [
    "VlnPlot(aggexp_cd4, features = \"Eff_Module_Score1\", group.by = \"Condition\") +\n",
    "ggpubr::stat_compare_means(comparisons = list(c(1,2)))"
   ]
  },
  {
   "cell_type": "code",
   "execution_count": null,
   "id": "972d6259",
   "metadata": {},
   "outputs": [],
   "source": [
    "df  <- data.frame(score = aggexp_cd4$Eff_Module_Score1,\n",
    "                 Condition = aggexp_cd4$Condition)"
   ]
  },
  {
   "cell_type": "code",
   "execution_count": null,
   "id": "e02380b9",
   "metadata": {},
   "outputs": [],
   "source": [
    "df  %>% ggplot(aes(x = Condition, y = score)) +\n",
    "geom_violin(scale = \"width\", aes(fill = Condition), alpha = 0.4) +\n",
    "stat_summary(fun = \"median\",\n",
    "               geom = \"crossbar\", \n",
    "               width = 0.75,\n",
    "               color = \"grey30\") +\n",
    "geom_beeswarm(size = 3, aes(fill = Condition), cex = 3, \n",
    "                shape = 21, color = \"black\", corral = \"random\") +\n",
    " stat_compare_means(label = \"p.format\", comparisons = list(c(1,2))) +\n",
    "theme_classic() +\n",
    "ggtheme() +\n",
    "scale_fill_manual(values = c(\"#1874cdff\",  \"#ee6363ff\", \"#c41515ff\",\"#eeb4b4ff\")) +\n",
    "scale_color_manual(values = c(\"dodgerblue3\",  \"#e54c4cff\", \"#aa2a2aff\",\"#e88989ff\")) +\n",
    "ylab(\"\") +\n",
    "  xlab(\"\") +\n",
    "theme(axis.text.x = element_blank(),\n",
    "      axis.ticks.x = element_blank())\n"
   ]
  },
  {
   "cell_type": "code",
   "execution_count": null,
   "id": "710f1b68",
   "metadata": {},
   "outputs": [],
   "source": [
    "aggexp_cd8  <- AddModuleScore(aggexp_cd8, ctrl = 50, name = \"Eff_Module_Score\",\n",
    "                              features = list(c(\n",
    "\"ACTN4\", \"ADAM19\", \"AHR\", \"AKIRIN2\", \"ALCAM\", \"ALOX5AP\", \"SLF1\", \"ANTXR2\", \"ANXA1\", \"ANXA2\", \"ANXA2P1\", \"ANXA4\", \"AQP3\", \"ARHGAP18\", \"ASB2\", \"ATP2B4\", \"ATXN1\", \"B3GNT9\", \"BTG3\", \"SMCO4\", \"LACC1\", \"MIR22HG\", \"SMIM29\", \"CALHM2\", \"CAPG\", \"CASK\", \"CAST\", \"CBLL1\", \"CCDC107\", \"CCL5\", \"CCR2\", \"CCR6\", \"CD226\", \"CD28\", \"CD58\", \"CD63\", \"CD74\", \"CD84\", \"CDC42EP3\", \"CDK2AP2\", \"CHST7\", \"CLDND1\", \"CLIC1\", \"CLU\", \"CNPPD1\", \"COTL1\", \"CPPED1\", \"CREB3L2\", \"CRELD2\", \"CRIP1\", \"CRYBG3\", \"CTSA\", \"CTSC\", \"CXCR3\", \"DNAI2\", \"DUSP16\", \"DUSP5\", \"EFHD2\", \"AGO4\", \"EIF3A\", \"EIF4EBP2\", \"ELOVL5\", \"EPS15\", \"EVI2B\", \"NIBAN1\", \"ZC2HC1A\", \"PIEZO1\", \"FAR2\", \"FAS\", \"FBXL8\", \"FRMD4B\", \"GBP3\", \"GCLM\", \"GDPD5\", \"GLIPR1\", \"GOLGA7\", \"GSTK1\", \"GZMA\", \"GZMK\", \"HLA-DPA1\", \"HMGN4\", \"JPT1\", \"HNRNPLL\", \"HOPX\", \"IFI16\", \"IFI27\", \"IFNG\", \"IL10RA\", \"IL15RA\", \"IQGAP1\", \"IQGAP2\", \"ITGB1\", \"MATCAP1\", \"KIF1B\", \"KIF21A\", \"KLRB1\", \"LDHA\", \"LGALS1\", \"LGALS3\", \"LIMS1\", \"LIMS3\", \"WDR86-AS1\", \"\", \"\", \"\", \"\", \"MAP3K5\", \"MDFIC\", \"MFHAS1\", \"MIAT\", \"MIB1\", \"MICAL2\", \"MIS18BP1\", \"MLF1\", \"AFDN\", \"MTSS1\", \"MYBL1\", \"MYL6\", \"MYO1F\", \"NCAPH\", \"NCF4\", \"NETO2\", \"NINJ2\", \"NMU\", \"NOD2\", \"NPC1\", \"NPDC1\", \"NABP1\", \"NABP2\", \"OGDH\", \"OGFRL1\", \"OSBPL3\", \"PAM\", \"PDIA6\", \"PEA15\", \"PFKL\", \"PHACTR2\", \"PHTF2\", \"PLXNC1\", \"PPIF\", \"PPP1CA\", \"PREX1\", \"PRR5L\", \"PTTG1\", \"NECTIN3\", \"RAB27A\", \"REEP3\", \"REEP5\", \"RFTN1\", \"RGS3\", \"RHOU\", \"RNF126\", \"RNF149\", \"RORA\", \"S100A11\", \"S100A4\", \"SAP30\", \"SEC11C\", \"SH2D1A\", \"SH3BGRL3\", \"SH3BP5\", \"SLC2A3\", \"SLC35D2\", \"NHERF1\", \"SMAP1\", \"SPAG1\", \"SPOPL\", \"SRGN\", \"SSR3\", \"ST8SIA1\", \"STOM\", \"STX11\", \"TBCB\", \"TBX21\", \"TIGIT\", \"TLR3\", \"TMEM116\", \"TMEM156\", \"TMEM200A\", \"TMEM64\", \"TMX4\", \"TNF\", \"TNFRSF4\", \"TOR3A\", \"TP53INP1\", \"TPM4\", \"TRAC\", \"TRADD\", \"TTC39C\", \"TTYH2\", \"TXN\", \"TYMP\", \"UBL3\", \"USP46\", \"UST\", \"VCL\", \"YWHAH\", \"ZBTB38\", \"ZC3HAV1L\", \"ZNF532\"\n",
    ")))"
   ]
  },
  {
   "cell_type": "code",
   "execution_count": null,
   "id": "f3507c18",
   "metadata": {},
   "outputs": [],
   "source": [
    "VlnPlot(aggexp_cd8, features = \"Eff_Module_Score1\", group.by = \"Condition\") +\n",
    "ggpubr::stat_compare_means(comparisons = list(c(1,2)))"
   ]
  },
  {
   "cell_type": "code",
   "execution_count": null,
   "id": "5f227606",
   "metadata": {},
   "outputs": [],
   "source": [
    "df  <- data.frame(score = aggexp_cd8$Eff_Module_Score1,\n",
    "                 Condition = aggexp_cd8$Condition)"
   ]
  },
  {
   "cell_type": "code",
   "execution_count": null,
   "id": "8c0a03e3",
   "metadata": {},
   "outputs": [],
   "source": [
    "df  %>% ggplot(aes(x = Condition, y = score)) +\n",
    "geom_violin(scale = \"width\", aes(fill = Condition), alpha = 0.4) +\n",
    "stat_summary(fun = \"median\",\n",
    "               geom = \"crossbar\", \n",
    "               width = 0.75,\n",
    "               color = \"grey30\") +\n",
    "geom_beeswarm(size = 3, aes(fill = Condition), cex = 3, \n",
    "                shape = 21, color = \"black\", corral = \"random\") +\n",
    " stat_compare_means(label = \"p.format\", comparisons = list(c(1,2))) +\n",
    "theme_classic() +\n",
    "ggtheme() +\n",
    "scale_fill_manual(values = c(\"#1874cdff\",  \"#ee6363ff\", \"#c41515ff\",\"#eeb4b4ff\")) +\n",
    "scale_color_manual(values = c(\"dodgerblue3\",  \"#e54c4cff\", \"#aa2a2aff\",\"#e88989ff\")) +\n",
    "ylab(\"\") +\n",
    "  xlab(\"\") +\n",
    "theme(axis.text.x = element_blank(),\n",
    "      axis.ticks.x = element_blank())"
   ]
  },
  {
   "cell_type": "code",
   "execution_count": null,
   "id": "3696d007",
   "metadata": {},
   "outputs": [],
   "source": [
    "res_decouple <- decoupleR::decouple(mat = cd8_counts, statistics = \"ulm\",\n",
    "                                    signatures  %>% dplyr::filter(!target_dupl), \n",
    "                                    .source ='source', \n",
    "                                    .target ='target',\n",
    "                                    \n",
    "                                    minsize = 0)"
   ]
  },
  {
   "cell_type": "code",
   "execution_count": null,
   "id": "a1d73ae8",
   "metadata": {},
   "outputs": [],
   "source": [
    "md_cd8"
   ]
  },
  {
   "cell_type": "code",
   "execution_count": null,
   "id": "a194dce8",
   "metadata": {},
   "outputs": [],
   "source": [
    "res_decouple2  <- res_decouple  %>% left_join(md_cd8  %>% rownames_to_column(\"condition\"))"
   ]
  },
  {
   "cell_type": "code",
   "execution_count": null,
   "id": "a8f6284f",
   "metadata": {},
   "outputs": [],
   "source": [
    "res_decouple2"
   ]
  },
  {
   "cell_type": "code",
   "execution_count": null,
   "id": "3772e1d9",
   "metadata": {},
   "outputs": [],
   "source": [
    "res_decouple2  %>% \n",
    "dplyr::filter(statistic == 'ulm')  %>% \n",
    "    ggplot(aes(x = Condition, y = score)) +\n",
    "    geom_boxplot(outlier.shape = NA) +\n",
    "    geom_jitter() +\n",
    "    ggtheme() +\n",
    "    #ggtitle(rownames(gsva.es)[i]) +\n",
    "    ggpubr::stat_compare_means(label = \"p.format\", comparisons = list(c(1,2))) +\n",
    "ggtitle(paste(subset1,\"vs.\",subset2))\n",
    "    "
   ]
  },
  {
   "cell_type": "markdown",
   "id": "34e37c31",
   "metadata": {},
   "source": [
    "### Contrast for X vs Y"
   ]
  },
  {
   "cell_type": "code",
   "execution_count": null,
   "id": "4ec15d00",
   "metadata": {},
   "outputs": [],
   "source": [
    "subset1 = \"CD8_Naive\"\n",
    "subset2 = \"CD8_EM2\"\n"
   ]
  },
  {
   "cell_type": "code",
   "execution_count": null,
   "id": "3c1c3caa",
   "metadata": {},
   "outputs": [],
   "source": [
    "mtx_subset  <- ref_wherry_new$matrix[,ref_wherry_new$labels %in% c(subset1,subset2)]"
   ]
  },
  {
   "cell_type": "code",
   "execution_count": null,
   "id": "4e56c410",
   "metadata": {},
   "outputs": [],
   "source": [
    "dim(ref_wherry_new$matrix)"
   ]
  },
  {
   "cell_type": "code",
   "execution_count": null,
   "id": "086e398f",
   "metadata": {},
   "outputs": [],
   "source": [
    "dim(mtx_subset)"
   ]
  },
  {
   "cell_type": "code",
   "execution_count": null,
   "id": "fc0c0735",
   "metadata": {},
   "outputs": [],
   "source": [
    "group  <- ref_wherry_new$labels[ref_wherry_new$labels %in% c(subset1,subset2)]"
   ]
  },
  {
   "cell_type": "code",
   "execution_count": null,
   "id": "03deb568",
   "metadata": {},
   "outputs": [],
   "source": [
    "group"
   ]
  },
  {
   "cell_type": "code",
   "execution_count": null,
   "id": "fb67d6d5",
   "metadata": {},
   "outputs": [],
   "source": [
    "design <- model.matrix(~group)\n",
    "fit <- lmFit(mtx_subset, design)\n",
    "fit <- eBayes(fit)\n",
    "topTable(fit)"
   ]
  },
  {
   "cell_type": "code",
   "execution_count": null,
   "id": "2032c75e",
   "metadata": {
    "scrolled": true
   },
   "outputs": [],
   "source": [
    "topTable(fit, number = 50000)"
   ]
  },
  {
   "cell_type": "code",
   "execution_count": null,
   "id": "3cf9b1a7",
   "metadata": {},
   "outputs": [],
   "source": []
  },
  {
   "cell_type": "code",
   "execution_count": null,
   "id": "576667e1",
   "metadata": {},
   "outputs": [],
   "source": [
    "signatures  <- topTable(fit, number = 50000)  %>%\n",
    "transmute(source = paste(subset1,\"vs.\",subset2),\n",
    "          target = ID,\n",
    "          mor = logFC)"
   ]
  },
  {
   "cell_type": "code",
   "execution_count": null,
   "id": "4a0753d1",
   "metadata": {
    "scrolled": true
   },
   "outputs": [],
   "source": [
    "signatures$target  %>% duplicated  %>% table"
   ]
  },
  {
   "cell_type": "code",
   "execution_count": null,
   "id": "ae1b04c0",
   "metadata": {},
   "outputs": [],
   "source": [
    "target_dupl  <- signatures$target  %>% duplicated"
   ]
  },
  {
   "cell_type": "code",
   "execution_count": null,
   "id": "87036eef",
   "metadata": {
    "scrolled": true
   },
   "outputs": [],
   "source": [
    "signatures  %>% dplyr::filter(target_dupl)"
   ]
  },
  {
   "cell_type": "code",
   "execution_count": null,
   "id": "742a7a51",
   "metadata": {},
   "outputs": [],
   "source": [
    "signatures  %>% dplyr::filter(!target_dupl)"
   ]
  },
  {
   "cell_type": "code",
   "execution_count": null,
   "id": "1c221d71",
   "metadata": {},
   "outputs": [],
   "source": [
    "X = cd8_counts"
   ]
  },
  {
   "cell_type": "code",
   "execution_count": null,
   "id": "d600f7df",
   "metadata": {},
   "outputs": [],
   "source": [
    "res_decouple <- decoupleR::decouple(mat = cd8_counts, statistics = \"ulm\",\n",
    "                                    signatures  %>% dplyr::filter(!target_dupl), \n",
    "                                    .source ='source', \n",
    "                                    .target ='target',\n",
    "                                    \n",
    "                                    minsize = 0)"
   ]
  },
  {
   "cell_type": "code",
   "execution_count": null,
   "id": "0edd41ff",
   "metadata": {},
   "outputs": [],
   "source": [
    "md_cd8"
   ]
  },
  {
   "cell_type": "code",
   "execution_count": null,
   "id": "1007519f",
   "metadata": {},
   "outputs": [],
   "source": [
    "res_decouple2  <- res_decouple  %>% left_join(md_cd8  %>% rownames_to_column(\"condition\"))"
   ]
  },
  {
   "cell_type": "code",
   "execution_count": null,
   "id": "f010787a",
   "metadata": {},
   "outputs": [],
   "source": [
    "res_decouple2"
   ]
  },
  {
   "cell_type": "code",
   "execution_count": null,
   "id": "d5667490",
   "metadata": {},
   "outputs": [],
   "source": [
    "res_decouple2  %>% \n",
    "dplyr::filter(statistic == 'ulm')  %>% \n",
    "    ggplot(aes(x = Condition, y = score)) +\n",
    "    geom_boxplot(outlier.shape = NA) +\n",
    "    geom_jitter() +\n",
    "    ggtheme() +\n",
    "    #ggtitle(rownames(gsva.es)[i]) +\n",
    "    ggpubr::stat_compare_means(label = \"p.format\", comparisons = list(c(1,2))) +\n",
    "ggtitle(paste(subset1,\"vs.\",subset2))\n",
    "    "
   ]
  },
  {
   "cell_type": "markdown",
   "id": "84f644fd",
   "metadata": {},
   "source": [
    "### Contrast for X vs Y"
   ]
  },
  {
   "cell_type": "code",
   "execution_count": null,
   "id": "1cb6a1cc",
   "metadata": {},
   "outputs": [],
   "source": [
    "ref_wherry_new$labels"
   ]
  },
  {
   "cell_type": "code",
   "execution_count": null,
   "id": "623a61a6",
   "metadata": {},
   "outputs": [],
   "source": [
    "subset1 = \"CD8_Naive\"\n",
    "subset2 = \"CD8_EMRA\"\n"
   ]
  },
  {
   "cell_type": "code",
   "execution_count": null,
   "id": "355d4ba1",
   "metadata": {},
   "outputs": [],
   "source": [
    "mtx_subset  <- ref_wherry_new$matrix[,ref_wherry_new$labels %in% c(subset1,subset2)]"
   ]
  },
  {
   "cell_type": "code",
   "execution_count": null,
   "id": "27c72144",
   "metadata": {},
   "outputs": [],
   "source": [
    "dim(ref_wherry_new$matrix)"
   ]
  },
  {
   "cell_type": "code",
   "execution_count": null,
   "id": "f2fb73f9",
   "metadata": {},
   "outputs": [],
   "source": [
    "dim(mtx_subset)"
   ]
  },
  {
   "cell_type": "code",
   "execution_count": null,
   "id": "f0843d4e",
   "metadata": {},
   "outputs": [],
   "source": [
    "group  <- ref_wherry_new$labels[ref_wherry_new$labels %in% c(subset1,subset2)]"
   ]
  },
  {
   "cell_type": "code",
   "execution_count": null,
   "id": "58a97ef7",
   "metadata": {},
   "outputs": [],
   "source": [
    "group"
   ]
  },
  {
   "cell_type": "code",
   "execution_count": null,
   "id": "2b8e7136",
   "metadata": {},
   "outputs": [],
   "source": [
    "design <- model.matrix(~group)\n",
    "fit <- lmFit(mtx_subset, design)\n",
    "fit <- eBayes(fit)\n",
    "topTable(fit)"
   ]
  },
  {
   "cell_type": "code",
   "execution_count": null,
   "id": "92ec7a76",
   "metadata": {
    "scrolled": true
   },
   "outputs": [],
   "source": [
    "topTable(fit, number = 50000)"
   ]
  },
  {
   "cell_type": "code",
   "execution_count": null,
   "id": "9f924fca",
   "metadata": {},
   "outputs": [],
   "source": []
  },
  {
   "cell_type": "code",
   "execution_count": null,
   "id": "0f2cd287",
   "metadata": {},
   "outputs": [],
   "source": [
    "signatures  <- topTable(fit, number = 50000)  %>%\n",
    "transmute(source = paste(subset1,\"vs.\",subset2),\n",
    "          target = ID,\n",
    "          mor = logFC)"
   ]
  },
  {
   "cell_type": "code",
   "execution_count": null,
   "id": "b9b6a347",
   "metadata": {
    "scrolled": true
   },
   "outputs": [],
   "source": [
    "signatures$target  %>% duplicated  %>% table"
   ]
  },
  {
   "cell_type": "code",
   "execution_count": null,
   "id": "799796cf",
   "metadata": {},
   "outputs": [],
   "source": [
    "target_dupl  <- signatures$target  %>% duplicated"
   ]
  },
  {
   "cell_type": "code",
   "execution_count": null,
   "id": "d19e7196",
   "metadata": {
    "scrolled": true
   },
   "outputs": [],
   "source": [
    "signatures  %>% dplyr::filter(target_dupl)"
   ]
  },
  {
   "cell_type": "code",
   "execution_count": null,
   "id": "447f8d92",
   "metadata": {},
   "outputs": [],
   "source": [
    "signatures  %>% dplyr::filter(!target_dupl)"
   ]
  },
  {
   "cell_type": "code",
   "execution_count": null,
   "id": "20b52df5",
   "metadata": {},
   "outputs": [],
   "source": [
    "X = cd8_counts"
   ]
  },
  {
   "cell_type": "code",
   "execution_count": null,
   "id": "34d4a289",
   "metadata": {},
   "outputs": [],
   "source": [
    "res_decouple <- decoupleR::decouple(mat = cd8_counts, statistics = \"ulm\",\n",
    "                                    signatures  %>% dplyr::filter(!target_dupl), \n",
    "                                    .source ='source', \n",
    "                                    .target ='target',\n",
    "                                    \n",
    "                                    minsize = 0)"
   ]
  },
  {
   "cell_type": "code",
   "execution_count": null,
   "id": "5708194c",
   "metadata": {},
   "outputs": [],
   "source": [
    "md_cd8"
   ]
  },
  {
   "cell_type": "code",
   "execution_count": null,
   "id": "995d1f6b",
   "metadata": {},
   "outputs": [],
   "source": [
    "res_decouple2  <- res_decouple  %>% left_join(md_cd8  %>% rownames_to_column(\"condition\"))"
   ]
  },
  {
   "cell_type": "code",
   "execution_count": null,
   "id": "917bad6e",
   "metadata": {},
   "outputs": [],
   "source": [
    "res_decouple2"
   ]
  },
  {
   "cell_type": "code",
   "execution_count": null,
   "id": "d4fc3d4e",
   "metadata": {},
   "outputs": [],
   "source": [
    "res_decouple2  %>% \n",
    "dplyr::filter(statistic == 'ulm')  %>% \n",
    "    ggplot(aes(x = Condition, y = score)) +\n",
    "    geom_boxplot(outlier.shape = NA) +\n",
    "    geom_jitter() +\n",
    "    ggtheme() +\n",
    "    #ggtitle(rownames(gsva.es)[i]) +\n",
    "    ggpubr::stat_compare_means(label = \"p.format\", comparisons = list(c(1,2))) +\n",
    "ggtitle(paste(subset1,\"vs.\",subset2))\n",
    "    "
   ]
  },
  {
   "cell_type": "markdown",
   "id": "feaa537c",
   "metadata": {},
   "source": [
    "### Contrast for X vs Y"
   ]
  },
  {
   "cell_type": "code",
   "execution_count": null,
   "id": "de02dc1c",
   "metadata": {},
   "outputs": [],
   "source": [
    "subset1 = \"CD8_Naive\"\n",
    "subset2 = \"CD8_CM\"\n"
   ]
  },
  {
   "cell_type": "code",
   "execution_count": null,
   "id": "4e98ba8c",
   "metadata": {},
   "outputs": [],
   "source": [
    "mtx_subset  <- ref_wherry_new$matrix[,ref_wherry_new$labels %in% c(subset1,subset2)]"
   ]
  },
  {
   "cell_type": "code",
   "execution_count": null,
   "id": "85051fde",
   "metadata": {},
   "outputs": [],
   "source": [
    "dim(ref_wherry_new$matrix)"
   ]
  },
  {
   "cell_type": "code",
   "execution_count": null,
   "id": "a5aba4a1",
   "metadata": {},
   "outputs": [],
   "source": [
    "dim(mtx_subset)"
   ]
  },
  {
   "cell_type": "code",
   "execution_count": null,
   "id": "eefddb9b",
   "metadata": {},
   "outputs": [],
   "source": [
    "group  <- ref_wherry_new$labels[ref_wherry_new$labels %in% c(subset1,subset2)]"
   ]
  },
  {
   "cell_type": "code",
   "execution_count": null,
   "id": "3946dac2",
   "metadata": {},
   "outputs": [],
   "source": [
    "group"
   ]
  },
  {
   "cell_type": "code",
   "execution_count": null,
   "id": "c0b41943",
   "metadata": {},
   "outputs": [],
   "source": [
    "design <- model.matrix(~group)\n",
    "fit <- lmFit(mtx_subset, design)\n",
    "fit <- eBayes(fit)\n",
    "topTable(fit)"
   ]
  },
  {
   "cell_type": "code",
   "execution_count": null,
   "id": "568f7d53",
   "metadata": {
    "scrolled": true
   },
   "outputs": [],
   "source": [
    "topTable(fit, number = 50000)"
   ]
  },
  {
   "cell_type": "code",
   "execution_count": null,
   "id": "e2e5908c",
   "metadata": {},
   "outputs": [],
   "source": []
  },
  {
   "cell_type": "code",
   "execution_count": null,
   "id": "5b8b6f7b",
   "metadata": {},
   "outputs": [],
   "source": [
    "signatures  <- topTable(fit, number = 50000)  %>%\n",
    "transmute(source = paste(subset1,\"vs.\",subset2),\n",
    "          target = ID,\n",
    "          mor = logFC)"
   ]
  },
  {
   "cell_type": "code",
   "execution_count": null,
   "id": "834a3999",
   "metadata": {
    "scrolled": true
   },
   "outputs": [],
   "source": [
    "signatures$target  %>% duplicated  %>% table"
   ]
  },
  {
   "cell_type": "code",
   "execution_count": null,
   "id": "4283811e",
   "metadata": {},
   "outputs": [],
   "source": [
    "target_dupl  <- signatures$target  %>% duplicated"
   ]
  },
  {
   "cell_type": "code",
   "execution_count": null,
   "id": "f820514c",
   "metadata": {
    "scrolled": true
   },
   "outputs": [],
   "source": [
    "signatures  %>% dplyr::filter(target_dupl)"
   ]
  },
  {
   "cell_type": "code",
   "execution_count": null,
   "id": "ceeefb9b",
   "metadata": {},
   "outputs": [],
   "source": [
    "signatures  %>% dplyr::filter(!target_dupl)"
   ]
  },
  {
   "cell_type": "code",
   "execution_count": null,
   "id": "6c73e78c",
   "metadata": {},
   "outputs": [],
   "source": [
    "X = cd8_counts"
   ]
  },
  {
   "cell_type": "code",
   "execution_count": null,
   "id": "cca7d56c",
   "metadata": {},
   "outputs": [],
   "source": [
    "res_decouple <- decoupleR::decouple(mat = cd8_counts, statistics = \"ulm\",\n",
    "                                    signatures  %>% dplyr::filter(!target_dupl), \n",
    "                                    .source ='source', \n",
    "                                    .target ='target',\n",
    "                                    \n",
    "                                    minsize = 0)"
   ]
  },
  {
   "cell_type": "code",
   "execution_count": null,
   "id": "8a9745c3",
   "metadata": {},
   "outputs": [],
   "source": [
    "md_cd8"
   ]
  },
  {
   "cell_type": "code",
   "execution_count": null,
   "id": "7222f6a9",
   "metadata": {},
   "outputs": [],
   "source": [
    "res_decouple2  <- res_decouple  %>% left_join(md_cd8  %>% rownames_to_column(\"condition\"))"
   ]
  },
  {
   "cell_type": "code",
   "execution_count": null,
   "id": "52cec707",
   "metadata": {},
   "outputs": [],
   "source": [
    "res_decouple2"
   ]
  },
  {
   "cell_type": "code",
   "execution_count": null,
   "id": "287a0238",
   "metadata": {},
   "outputs": [],
   "source": [
    "res_decouple2  %>% \n",
    "dplyr::filter(statistic == 'ulm')  %>% \n",
    "    ggplot(aes(x = Condition, y = score)) +\n",
    "    geom_boxplot(outlier.shape = NA) +\n",
    "    geom_jitter() +\n",
    "    ggtheme() +\n",
    "    #ggtitle(rownames(gsva.es)[i]) +\n",
    "    ggpubr::stat_compare_means(label = \"p.format\", comparisons = list(c(1,2))) +\n",
    "ggtitle(paste(subset1,\"vs.\",subset2))\n",
    "    "
   ]
  },
  {
   "cell_type": "markdown",
   "id": "2c42857e",
   "metadata": {},
   "source": [
    "### Contrast for X vs Y"
   ]
  },
  {
   "cell_type": "code",
   "execution_count": null,
   "id": "87141a10",
   "metadata": {},
   "outputs": [],
   "source": [
    "ref_wherry_new$labels"
   ]
  },
  {
   "cell_type": "code",
   "execution_count": null,
   "id": "7e707029",
   "metadata": {},
   "outputs": [],
   "source": [
    "subset1 = \"CD8_Naive\"\n",
    "subset2 = \"CD8_SCM-R3+\"\n"
   ]
  },
  {
   "cell_type": "code",
   "execution_count": null,
   "id": "2d86d65c",
   "metadata": {},
   "outputs": [],
   "source": [
    "mtx_subset  <- ref_wherry_new$matrix[,ref_wherry_new$labels %in% c(subset1,subset2)]"
   ]
  },
  {
   "cell_type": "code",
   "execution_count": null,
   "id": "ec91e102",
   "metadata": {},
   "outputs": [],
   "source": [
    "dim(ref_wherry_new$matrix)"
   ]
  },
  {
   "cell_type": "code",
   "execution_count": null,
   "id": "370cddec",
   "metadata": {},
   "outputs": [],
   "source": [
    "dim(mtx_subset)"
   ]
  },
  {
   "cell_type": "code",
   "execution_count": null,
   "id": "59a9da97",
   "metadata": {},
   "outputs": [],
   "source": [
    "group  <- ref_wherry_new$labels[ref_wherry_new$labels %in% c(subset1,subset2)]"
   ]
  },
  {
   "cell_type": "code",
   "execution_count": null,
   "id": "1bfd54e0",
   "metadata": {},
   "outputs": [],
   "source": [
    "group"
   ]
  },
  {
   "cell_type": "code",
   "execution_count": null,
   "id": "27bf08dc",
   "metadata": {},
   "outputs": [],
   "source": [
    "design <- model.matrix(~group)\n",
    "fit <- lmFit(mtx_subset, design)\n",
    "fit <- eBayes(fit)\n",
    "topTable(fit)"
   ]
  },
  {
   "cell_type": "code",
   "execution_count": null,
   "id": "bb41b040",
   "metadata": {
    "scrolled": true
   },
   "outputs": [],
   "source": [
    "topTable(fit, number = 50000)"
   ]
  },
  {
   "cell_type": "code",
   "execution_count": null,
   "id": "057552b4",
   "metadata": {},
   "outputs": [],
   "source": []
  },
  {
   "cell_type": "code",
   "execution_count": null,
   "id": "bf12c3bc",
   "metadata": {},
   "outputs": [],
   "source": [
    "signatures  <- topTable(fit, number = 50000)  %>%\n",
    "transmute(source = paste(subset1,\"vs.\",subset2),\n",
    "          target = ID,\n",
    "          mor = logFC)"
   ]
  },
  {
   "cell_type": "code",
   "execution_count": null,
   "id": "f2f398b6",
   "metadata": {
    "scrolled": true
   },
   "outputs": [],
   "source": [
    "signatures$target  %>% duplicated  %>% table"
   ]
  },
  {
   "cell_type": "code",
   "execution_count": null,
   "id": "e067f190",
   "metadata": {},
   "outputs": [],
   "source": [
    "target_dupl  <- signatures$target  %>% duplicated"
   ]
  },
  {
   "cell_type": "code",
   "execution_count": null,
   "id": "32b2fb16",
   "metadata": {
    "scrolled": true
   },
   "outputs": [],
   "source": [
    "signatures  %>% dplyr::filter(target_dupl)"
   ]
  },
  {
   "cell_type": "code",
   "execution_count": null,
   "id": "09b53f59",
   "metadata": {},
   "outputs": [],
   "source": [
    "signatures  %>% dplyr::filter(!target_dupl)"
   ]
  },
  {
   "cell_type": "code",
   "execution_count": null,
   "id": "f7cd1bcd",
   "metadata": {},
   "outputs": [],
   "source": [
    "X = cd8_counts"
   ]
  },
  {
   "cell_type": "code",
   "execution_count": null,
   "id": "d3755331",
   "metadata": {},
   "outputs": [],
   "source": [
    "res_decouple <- decoupleR::decouple(mat = cd8_counts, statistics = \"ulm\",\n",
    "                                    signatures  %>% dplyr::filter(!target_dupl), \n",
    "                                    .source ='source', \n",
    "                                    .target ='target',\n",
    "                                    \n",
    "                                    minsize = 0)"
   ]
  },
  {
   "cell_type": "code",
   "execution_count": null,
   "id": "fb01c550",
   "metadata": {},
   "outputs": [],
   "source": [
    "md_cd8"
   ]
  },
  {
   "cell_type": "code",
   "execution_count": null,
   "id": "5219c80f",
   "metadata": {},
   "outputs": [],
   "source": [
    "res_decouple2  <- res_decouple  %>% left_join(md_cd8  %>% rownames_to_column(\"condition\"))"
   ]
  },
  {
   "cell_type": "code",
   "execution_count": null,
   "id": "e069c93e",
   "metadata": {},
   "outputs": [],
   "source": [
    "res_decouple2"
   ]
  },
  {
   "cell_type": "code",
   "execution_count": null,
   "id": "11d17e85",
   "metadata": {
    "scrolled": true
   },
   "outputs": [],
   "source": [
    "res_decouple2  %>% \n",
    "dplyr::filter(statistic == 'ulm')  %>% \n",
    "    ggplot(aes(x = Condition, y = score)) +\n",
    "    geom_boxplot(outlier.shape = NA) +\n",
    "    geom_jitter() +\n",
    "    ggtheme() +\n",
    "    #ggtitle(rownames(gsva.es)[i]) +\n",
    "    ggpubr::stat_compare_means(label = \"p.format\", comparisons = list(c(1,2))) +\n",
    "ggtitle(paste(subset1,\"vs.\",subset2))\n",
    "    "
   ]
  },
  {
   "cell_type": "markdown",
   "id": "75d6f91d",
   "metadata": {},
   "source": [
    "### Contrast for X vs Y"
   ]
  },
  {
   "cell_type": "code",
   "execution_count": null,
   "id": "813f9ab0",
   "metadata": {},
   "outputs": [],
   "source": [
    "ref_wherry_new$labels"
   ]
  },
  {
   "cell_type": "code",
   "execution_count": null,
   "id": "c9322f15",
   "metadata": {},
   "outputs": [],
   "source": [
    "subset1 = \"CD8_Naive\"\n",
    "subset2 = \"CD8_PD1+CD39+\"\n"
   ]
  },
  {
   "cell_type": "code",
   "execution_count": null,
   "id": "e10e6beb",
   "metadata": {},
   "outputs": [],
   "source": [
    "mtx_subset  <- ref_wherry_new$matrix[,ref_wherry_new$labels %in% c(subset1,subset2)]"
   ]
  },
  {
   "cell_type": "code",
   "execution_count": null,
   "id": "f51f260c",
   "metadata": {},
   "outputs": [],
   "source": [
    "dim(ref_wherry_new$matrix)"
   ]
  },
  {
   "cell_type": "code",
   "execution_count": null,
   "id": "68e9d796",
   "metadata": {},
   "outputs": [],
   "source": [
    "dim(mtx_subset)"
   ]
  },
  {
   "cell_type": "code",
   "execution_count": null,
   "id": "02da95f8",
   "metadata": {},
   "outputs": [],
   "source": [
    "group  <- ref_wherry_new$labels[ref_wherry_new$labels %in% c(subset1,subset2)]"
   ]
  },
  {
   "cell_type": "code",
   "execution_count": null,
   "id": "ec714994",
   "metadata": {},
   "outputs": [],
   "source": [
    "group"
   ]
  },
  {
   "cell_type": "code",
   "execution_count": null,
   "id": "4e8f9fa9",
   "metadata": {},
   "outputs": [],
   "source": [
    "design <- model.matrix(~group)\n",
    "fit <- lmFit(mtx_subset, design)\n",
    "fit <- eBayes(fit)\n",
    "topTable(fit)"
   ]
  },
  {
   "cell_type": "code",
   "execution_count": null,
   "id": "6191f201",
   "metadata": {
    "scrolled": true
   },
   "outputs": [],
   "source": [
    "topTable(fit, number = 50000)"
   ]
  },
  {
   "cell_type": "code",
   "execution_count": null,
   "id": "458855d0",
   "metadata": {},
   "outputs": [],
   "source": []
  },
  {
   "cell_type": "code",
   "execution_count": null,
   "id": "c5c4bbe9",
   "metadata": {},
   "outputs": [],
   "source": [
    "signatures  <- topTable(fit, number = 50000)  %>%\n",
    "transmute(source = paste(subset1,\"vs.\",subset2),\n",
    "          target = ID,\n",
    "          mor = logFC)"
   ]
  },
  {
   "cell_type": "code",
   "execution_count": null,
   "id": "ef6e041f",
   "metadata": {
    "scrolled": true
   },
   "outputs": [],
   "source": [
    "signatures$target  %>% duplicated  %>% table"
   ]
  },
  {
   "cell_type": "code",
   "execution_count": null,
   "id": "3672e554",
   "metadata": {},
   "outputs": [],
   "source": [
    "target_dupl  <- signatures$target  %>% duplicated"
   ]
  },
  {
   "cell_type": "code",
   "execution_count": null,
   "id": "3e018cb5",
   "metadata": {
    "scrolled": true
   },
   "outputs": [],
   "source": [
    "signatures  %>% dplyr::filter(target_dupl)"
   ]
  },
  {
   "cell_type": "code",
   "execution_count": null,
   "id": "7b1ee3b8",
   "metadata": {},
   "outputs": [],
   "source": [
    "signatures  %>% dplyr::filter(!target_dupl)"
   ]
  },
  {
   "cell_type": "code",
   "execution_count": null,
   "id": "b48e630a",
   "metadata": {},
   "outputs": [],
   "source": [
    "X = cd8_counts"
   ]
  },
  {
   "cell_type": "code",
   "execution_count": null,
   "id": "c4dafa88",
   "metadata": {},
   "outputs": [],
   "source": [
    "res_decouple <- decoupleR::decouple(mat = cd8_counts, statistics = \"ulm\",\n",
    "                                    signatures  %>% dplyr::filter(!target_dupl), \n",
    "                                    .source ='source', \n",
    "                                    .target ='target',\n",
    "                                    \n",
    "                                    minsize = 0)"
   ]
  },
  {
   "cell_type": "code",
   "execution_count": null,
   "id": "b2ddef6f",
   "metadata": {},
   "outputs": [],
   "source": [
    "md_cd8"
   ]
  },
  {
   "cell_type": "code",
   "execution_count": null,
   "id": "1c72974d",
   "metadata": {},
   "outputs": [],
   "source": [
    "res_decouple2  <- res_decouple  %>% left_join(md_cd8  %>% rownames_to_column(\"condition\"))"
   ]
  },
  {
   "cell_type": "code",
   "execution_count": null,
   "id": "88db0bc3",
   "metadata": {},
   "outputs": [],
   "source": [
    "res_decouple2"
   ]
  },
  {
   "cell_type": "code",
   "execution_count": null,
   "id": "59e2d7d9",
   "metadata": {
    "scrolled": true
   },
   "outputs": [],
   "source": [
    "res_decouple2  %>% \n",
    "dplyr::filter(statistic == 'ulm')  %>% \n",
    "    ggplot(aes(x = Condition, y = score)) +\n",
    "    geom_boxplot(outlier.shape = NA) +\n",
    "    geom_jitter() +\n",
    "    ggtheme() +\n",
    "    #ggtitle(rownames(gsva.es)[i]) +\n",
    "    ggpubr::stat_compare_means(label = \"p.format\", comparisons = list(c(1,2))) +\n",
    "ggtitle(paste(subset1,\"vs.\",subset2))\n",
    "    "
   ]
  },
  {
   "cell_type": "code",
   "execution_count": null,
   "id": "901b4360",
   "metadata": {},
   "outputs": [],
   "source": []
  },
  {
   "cell_type": "markdown",
   "id": "c5aecb0f",
   "metadata": {},
   "source": [
    "### Contrast for X vs Y"
   ]
  },
  {
   "cell_type": "code",
   "execution_count": null,
   "id": "836225c3",
   "metadata": {},
   "outputs": [],
   "source": [
    "ref_wherry_new$labels"
   ]
  },
  {
   "cell_type": "code",
   "execution_count": null,
   "id": "2f08da57",
   "metadata": {},
   "outputs": [],
   "source": [
    "subset1 = \"CD8_Naive\"\n",
    "subset2 = \"CD8_SCM-R3+\"\n"
   ]
  },
  {
   "cell_type": "code",
   "execution_count": null,
   "id": "fafc6860",
   "metadata": {},
   "outputs": [],
   "source": [
    "mtx_subset  <- ref_wherry_new$matrix[,ref_wherry_new$labels %in% c(subset1,subset2)]"
   ]
  },
  {
   "cell_type": "code",
   "execution_count": null,
   "id": "ca545fba",
   "metadata": {},
   "outputs": [],
   "source": [
    "dim(ref_wherry_new$matrix)"
   ]
  },
  {
   "cell_type": "code",
   "execution_count": null,
   "id": "b5593578",
   "metadata": {},
   "outputs": [],
   "source": [
    "dim(mtx_subset)"
   ]
  },
  {
   "cell_type": "code",
   "execution_count": null,
   "id": "bb485a83",
   "metadata": {},
   "outputs": [],
   "source": [
    "group  <- ref_wherry_new$labels[ref_wherry_new$labels %in% c(subset1,subset2)]"
   ]
  },
  {
   "cell_type": "code",
   "execution_count": null,
   "id": "cb17b70b",
   "metadata": {},
   "outputs": [],
   "source": [
    "group"
   ]
  },
  {
   "cell_type": "code",
   "execution_count": null,
   "id": "f3a81d03",
   "metadata": {},
   "outputs": [],
   "source": [
    "design <- model.matrix(~group)\n",
    "fit <- lmFit(mtx_subset, design)\n",
    "fit <- eBayes(fit)\n",
    "topTable(fit)"
   ]
  },
  {
   "cell_type": "code",
   "execution_count": null,
   "id": "e7165681",
   "metadata": {
    "scrolled": true
   },
   "outputs": [],
   "source": [
    "topTable(fit, number = 50000)"
   ]
  },
  {
   "cell_type": "code",
   "execution_count": null,
   "id": "6a40d119",
   "metadata": {},
   "outputs": [],
   "source": []
  },
  {
   "cell_type": "code",
   "execution_count": null,
   "id": "6f55a6d8",
   "metadata": {},
   "outputs": [],
   "source": [
    "signatures  <- topTable(fit, number = 50000)  %>%\n",
    "transmute(source = paste(subset1,\"vs.\",subset2),\n",
    "          target = ID,\n",
    "          mor = logFC)"
   ]
  },
  {
   "cell_type": "code",
   "execution_count": null,
   "id": "90f958db",
   "metadata": {
    "scrolled": true
   },
   "outputs": [],
   "source": [
    "signatures$target  %>% duplicated  %>% table"
   ]
  },
  {
   "cell_type": "code",
   "execution_count": null,
   "id": "2431f4d9",
   "metadata": {},
   "outputs": [],
   "source": [
    "target_dupl  <- signatures$target  %>% duplicated"
   ]
  },
  {
   "cell_type": "code",
   "execution_count": null,
   "id": "a2110588",
   "metadata": {
    "scrolled": true
   },
   "outputs": [],
   "source": [
    "signatures  %>% dplyr::filter(target_dupl)"
   ]
  },
  {
   "cell_type": "code",
   "execution_count": null,
   "id": "4a6a5166",
   "metadata": {},
   "outputs": [],
   "source": [
    "signatures  %>% dplyr::filter(!target_dupl)"
   ]
  },
  {
   "cell_type": "code",
   "execution_count": null,
   "id": "ccf97990",
   "metadata": {},
   "outputs": [],
   "source": [
    "X = cd8_counts"
   ]
  },
  {
   "cell_type": "code",
   "execution_count": null,
   "id": "f722ea86",
   "metadata": {},
   "outputs": [],
   "source": [
    "res_decouple <- decoupleR::decouple(mat = cd8_counts, statistics = \"ulm\",\n",
    "                                    signatures  %>% dplyr::filter(!target_dupl), \n",
    "                                    .source ='source', \n",
    "                                    .target ='target',\n",
    "                                    \n",
    "                                    minsize = 0)"
   ]
  },
  {
   "cell_type": "code",
   "execution_count": null,
   "id": "c436be5e",
   "metadata": {},
   "outputs": [],
   "source": [
    "md_cd8"
   ]
  },
  {
   "cell_type": "code",
   "execution_count": null,
   "id": "3da096be",
   "metadata": {},
   "outputs": [],
   "source": [
    "res_decouple2  <- res_decouple  %>% left_join(md_cd8  %>% rownames_to_column(\"condition\"))"
   ]
  },
  {
   "cell_type": "code",
   "execution_count": null,
   "id": "91a36bfc",
   "metadata": {},
   "outputs": [],
   "source": [
    "res_decouple2"
   ]
  },
  {
   "cell_type": "code",
   "execution_count": null,
   "id": "54758892",
   "metadata": {},
   "outputs": [],
   "source": [
    "res_decouple2  %>% \n",
    "dplyr::filter(statistic == 'ulm')  %>% \n",
    "    ggplot(aes(x = Condition, y = score)) +\n",
    "    geom_boxplot(outlier.shape = NA) +\n",
    "    geom_jitter() +\n",
    "    ggtheme() +\n",
    "    #ggtitle(rownames(gsva.es)[i]) +\n",
    "    ggpubr::stat_compare_means(label = \"p.format\", comparisons = list(c(1,2))) +\n",
    "ggtitle(paste(subset1,\"vs.\",subset2))\n",
    "    "
   ]
  },
  {
   "cell_type": "markdown",
   "id": "d16f92d5",
   "metadata": {},
   "source": [
    "## CD4"
   ]
  },
  {
   "cell_type": "code",
   "execution_count": null,
   "id": "07a7eff6",
   "metadata": {},
   "outputs": [],
   "source": []
  },
  {
   "cell_type": "markdown",
   "id": "7fd3d712",
   "metadata": {},
   "source": [
    "### Contrast for X vs Y"
   ]
  },
  {
   "cell_type": "code",
   "execution_count": null,
   "id": "576fe4d8",
   "metadata": {},
   "outputs": [],
   "source": [
    "subset1 = \"CD8_Naive\"\n",
    "subset2 = \"CD8_EM1\"\n"
   ]
  },
  {
   "cell_type": "code",
   "execution_count": null,
   "id": "a5f73175",
   "metadata": {},
   "outputs": [],
   "source": [
    "mtx_subset  <- ref_wherry_new$matrix[,ref_wherry_new$labels %in% c(subset1,subset2)]"
   ]
  },
  {
   "cell_type": "code",
   "execution_count": null,
   "id": "2f14bf58",
   "metadata": {},
   "outputs": [],
   "source": [
    "dim(ref_wherry_new$matrix)"
   ]
  },
  {
   "cell_type": "code",
   "execution_count": null,
   "id": "5658978c",
   "metadata": {},
   "outputs": [],
   "source": [
    "dim(mtx_subset)"
   ]
  },
  {
   "cell_type": "code",
   "execution_count": null,
   "id": "33a3d070",
   "metadata": {},
   "outputs": [],
   "source": [
    "group  <- ref_wherry_new$labels[ref_wherry_new$labels %in% c(subset1,subset2)]"
   ]
  },
  {
   "cell_type": "code",
   "execution_count": null,
   "id": "47841a1b",
   "metadata": {},
   "outputs": [],
   "source": [
    "group"
   ]
  },
  {
   "cell_type": "code",
   "execution_count": null,
   "id": "ff6fde88",
   "metadata": {},
   "outputs": [],
   "source": [
    "design <- model.matrix(~group)\n",
    "fit <- lmFit(mtx_subset, design)\n",
    "fit <- eBayes(fit)\n",
    "topTable(fit)"
   ]
  },
  {
   "cell_type": "code",
   "execution_count": null,
   "id": "76139bef",
   "metadata": {
    "scrolled": true
   },
   "outputs": [],
   "source": [
    "topTable(fit, number = 50000)"
   ]
  },
  {
   "cell_type": "code",
   "execution_count": null,
   "id": "3a1d73c3",
   "metadata": {},
   "outputs": [],
   "source": []
  },
  {
   "cell_type": "code",
   "execution_count": null,
   "id": "71cefc05",
   "metadata": {},
   "outputs": [],
   "source": [
    "signatures  <- topTable(fit, number = 50000)  %>%\n",
    "transmute(source = paste(subset1,\"vs.\",subset2),\n",
    "          target = ID,\n",
    "          mor = logFC)"
   ]
  },
  {
   "cell_type": "code",
   "execution_count": null,
   "id": "7c8a800e",
   "metadata": {
    "scrolled": true
   },
   "outputs": [],
   "source": [
    "signatures$target  %>% duplicated  %>% table"
   ]
  },
  {
   "cell_type": "code",
   "execution_count": null,
   "id": "427443cc",
   "metadata": {},
   "outputs": [],
   "source": [
    "target_dupl  <- signatures$target  %>% duplicated"
   ]
  },
  {
   "cell_type": "code",
   "execution_count": null,
   "id": "1d1dae6a",
   "metadata": {
    "scrolled": true
   },
   "outputs": [],
   "source": [
    "signatures  %>% dplyr::filter(target_dupl)"
   ]
  },
  {
   "cell_type": "code",
   "execution_count": null,
   "id": "5751fcbc",
   "metadata": {},
   "outputs": [],
   "source": [
    "signatures  %>% dplyr::filter(!target_dupl)"
   ]
  },
  {
   "cell_type": "code",
   "execution_count": null,
   "id": "79127f56",
   "metadata": {},
   "outputs": [],
   "source": [
    "res_decouple <- decoupleR::decouple(mat = cd4_counts, statistics = \"ulm\",\n",
    "                                    signatures  %>% dplyr::filter(!target_dupl), \n",
    "                                    .source ='source', \n",
    "                                    .target ='target',\n",
    "                                    \n",
    "                                    minsize = 0)"
   ]
  },
  {
   "cell_type": "code",
   "execution_count": null,
   "id": "fc81b792",
   "metadata": {},
   "outputs": [],
   "source": [
    "md_cd4"
   ]
  },
  {
   "cell_type": "code",
   "execution_count": null,
   "id": "458a6e68",
   "metadata": {},
   "outputs": [],
   "source": [
    "res_decouple2  <- res_decouple  %>% left_join(md_cd4  %>% rownames_to_column(\"condition\"))"
   ]
  },
  {
   "cell_type": "code",
   "execution_count": null,
   "id": "640fdc37",
   "metadata": {},
   "outputs": [],
   "source": [
    "res_decouple2"
   ]
  },
  {
   "cell_type": "code",
   "execution_count": null,
   "id": "46294be7",
   "metadata": {},
   "outputs": [],
   "source": [
    "res_decouple2  %>% \n",
    "dplyr::filter(statistic == 'ulm')  %>% \n",
    "    ggplot(aes(x = Condition, y = score)) +\n",
    "    geom_boxplot(outlier.shape = NA) +\n",
    "    geom_jitter() +\n",
    "    ggtheme() +\n",
    "    #ggtitle(rownames(gsva.es)[i]) +\n",
    "    ggpubr::stat_compare_means(label = \"p.format\", comparisons = list(c(1,2))) +\n",
    "ggtitle(paste(subset1,\"vs.\",subset2))\n",
    "    "
   ]
  },
  {
   "cell_type": "markdown",
   "id": "ea196a2d",
   "metadata": {},
   "source": [
    "### Contrast for X vs Y"
   ]
  },
  {
   "cell_type": "code",
   "execution_count": null,
   "id": "fd634710",
   "metadata": {},
   "outputs": [],
   "source": [
    "subset1 = \"CD8_Naive\"\n",
    "subset2 = \"CD8_EM2\"\n"
   ]
  },
  {
   "cell_type": "code",
   "execution_count": null,
   "id": "8f37b0bd",
   "metadata": {},
   "outputs": [],
   "source": [
    "mtx_subset  <- ref_wherry_new$matrix[,ref_wherry_new$labels %in% c(subset1,subset2)]"
   ]
  },
  {
   "cell_type": "code",
   "execution_count": null,
   "id": "1545f5a9",
   "metadata": {},
   "outputs": [],
   "source": [
    "dim(ref_wherry_new$matrix)"
   ]
  },
  {
   "cell_type": "code",
   "execution_count": null,
   "id": "6712efea",
   "metadata": {},
   "outputs": [],
   "source": [
    "dim(mtx_subset)"
   ]
  },
  {
   "cell_type": "code",
   "execution_count": null,
   "id": "a8f7e1db",
   "metadata": {},
   "outputs": [],
   "source": [
    "group  <- ref_wherry_new$labels[ref_wherry_new$labels %in% c(subset1,subset2)]"
   ]
  },
  {
   "cell_type": "code",
   "execution_count": null,
   "id": "544a8960",
   "metadata": {},
   "outputs": [],
   "source": [
    "group"
   ]
  },
  {
   "cell_type": "code",
   "execution_count": null,
   "id": "46e68684",
   "metadata": {},
   "outputs": [],
   "source": [
    "design <- model.matrix(~group)\n",
    "fit <- lmFit(mtx_subset, design)\n",
    "fit <- eBayes(fit)\n",
    "topTable(fit)"
   ]
  },
  {
   "cell_type": "code",
   "execution_count": null,
   "id": "5e9cf246",
   "metadata": {
    "scrolled": true
   },
   "outputs": [],
   "source": [
    "topTable(fit, number = 50000)"
   ]
  },
  {
   "cell_type": "code",
   "execution_count": null,
   "id": "4d29ba77",
   "metadata": {},
   "outputs": [],
   "source": []
  },
  {
   "cell_type": "code",
   "execution_count": null,
   "id": "75a2fb8f",
   "metadata": {},
   "outputs": [],
   "source": [
    "signatures  <- topTable(fit, number = 50000)  %>%\n",
    "transmute(source = paste(subset1,\"vs.\",subset2),\n",
    "          target = ID,\n",
    "          mor = logFC)"
   ]
  },
  {
   "cell_type": "code",
   "execution_count": null,
   "id": "d25241d0",
   "metadata": {
    "scrolled": true
   },
   "outputs": [],
   "source": [
    "signatures$target  %>% duplicated  %>% table"
   ]
  },
  {
   "cell_type": "code",
   "execution_count": null,
   "id": "0495c3e5",
   "metadata": {},
   "outputs": [],
   "source": [
    "target_dupl  <- signatures$target  %>% duplicated"
   ]
  },
  {
   "cell_type": "code",
   "execution_count": null,
   "id": "436f1f5f",
   "metadata": {
    "scrolled": true
   },
   "outputs": [],
   "source": [
    "signatures  %>% dplyr::filter(target_dupl)"
   ]
  },
  {
   "cell_type": "code",
   "execution_count": null,
   "id": "ec7f6c16",
   "metadata": {},
   "outputs": [],
   "source": [
    "signatures  %>% dplyr::filter(!target_dupl)"
   ]
  },
  {
   "cell_type": "code",
   "execution_count": null,
   "id": "13f5f602",
   "metadata": {},
   "outputs": [],
   "source": [
    "X = cd4_counts"
   ]
  },
  {
   "cell_type": "code",
   "execution_count": null,
   "id": "6fc1937c",
   "metadata": {},
   "outputs": [],
   "source": [
    "res_decouple <- decoupleR::decouple(mat = cd4_counts, statistics = \"ulm\",\n",
    "                                    signatures  %>% dplyr::filter(!target_dupl), \n",
    "                                    .source ='source', \n",
    "                                    .target ='target',\n",
    "                                    \n",
    "                                    minsize = 0)"
   ]
  },
  {
   "cell_type": "code",
   "execution_count": null,
   "id": "e934cd04",
   "metadata": {},
   "outputs": [],
   "source": [
    "md_cd4"
   ]
  },
  {
   "cell_type": "code",
   "execution_count": null,
   "id": "dfa1a53a",
   "metadata": {},
   "outputs": [],
   "source": [
    "res_decouple2  <- res_decouple  %>% left_join(md_cd4  %>% rownames_to_column(\"condition\"))"
   ]
  },
  {
   "cell_type": "code",
   "execution_count": null,
   "id": "ce4a57f9",
   "metadata": {},
   "outputs": [],
   "source": [
    "res_decouple2"
   ]
  },
  {
   "cell_type": "code",
   "execution_count": null,
   "id": "3d2642af",
   "metadata": {},
   "outputs": [],
   "source": [
    "res_decouple2  %>% \n",
    "dplyr::filter(statistic == 'ulm')  %>% \n",
    "    ggplot(aes(x = Condition, y = score)) +\n",
    "    geom_boxplot(outlier.shape = NA) +\n",
    "    geom_jitter() +\n",
    "    ggtheme() +\n",
    "    #ggtitle(rownames(gsva.es)[i]) +\n",
    "    ggpubr::stat_compare_means(label = \"p.format\", comparisons = list(c(1,2))) +\n",
    "ggtitle(paste(subset1,\"vs.\",subset2))\n",
    "    "
   ]
  },
  {
   "cell_type": "markdown",
   "id": "e7c42ce2",
   "metadata": {},
   "source": [
    "### Contrast for X vs Y"
   ]
  },
  {
   "cell_type": "code",
   "execution_count": null,
   "id": "a69ad1f6",
   "metadata": {},
   "outputs": [],
   "source": [
    "ref_wherry_new$labels"
   ]
  },
  {
   "cell_type": "code",
   "execution_count": null,
   "id": "892a6644",
   "metadata": {},
   "outputs": [],
   "source": [
    "subset1 = \"CD8_Naive\"\n",
    "subset2 = \"CD8_EMRA\"\n"
   ]
  },
  {
   "cell_type": "code",
   "execution_count": null,
   "id": "117fc311",
   "metadata": {},
   "outputs": [],
   "source": [
    "mtx_subset  <- ref_wherry_new$matrix[,ref_wherry_new$labels %in% c(subset1,subset2)]"
   ]
  },
  {
   "cell_type": "code",
   "execution_count": null,
   "id": "cfdfefbd",
   "metadata": {},
   "outputs": [],
   "source": [
    "dim(ref_wherry_new$matrix)"
   ]
  },
  {
   "cell_type": "code",
   "execution_count": null,
   "id": "c4877d9f",
   "metadata": {},
   "outputs": [],
   "source": [
    "dim(mtx_subset)"
   ]
  },
  {
   "cell_type": "code",
   "execution_count": null,
   "id": "533a6ddb",
   "metadata": {},
   "outputs": [],
   "source": [
    "group  <- ref_wherry_new$labels[ref_wherry_new$labels %in% c(subset1,subset2)]"
   ]
  },
  {
   "cell_type": "code",
   "execution_count": null,
   "id": "000f4415",
   "metadata": {},
   "outputs": [],
   "source": [
    "group"
   ]
  },
  {
   "cell_type": "code",
   "execution_count": null,
   "id": "89ef6cdc",
   "metadata": {},
   "outputs": [],
   "source": [
    "design <- model.matrix(~group)\n",
    "fit <- lmFit(mtx_subset, design)\n",
    "fit <- eBayes(fit)\n",
    "topTable(fit)"
   ]
  },
  {
   "cell_type": "code",
   "execution_count": null,
   "id": "91d379b2",
   "metadata": {
    "scrolled": true
   },
   "outputs": [],
   "source": [
    "topTable(fit, number = 50000)"
   ]
  },
  {
   "cell_type": "code",
   "execution_count": null,
   "id": "63a159fb",
   "metadata": {},
   "outputs": [],
   "source": []
  },
  {
   "cell_type": "code",
   "execution_count": null,
   "id": "b03392e8",
   "metadata": {},
   "outputs": [],
   "source": [
    "signatures  <- topTable(fit, number = 50000)  %>%\n",
    "transmute(source = paste(subset1,\"vs.\",subset2),\n",
    "          target = ID,\n",
    "          mor = logFC)"
   ]
  },
  {
   "cell_type": "code",
   "execution_count": null,
   "id": "975c0954",
   "metadata": {
    "scrolled": true
   },
   "outputs": [],
   "source": [
    "signatures$target  %>% duplicated  %>% table"
   ]
  },
  {
   "cell_type": "code",
   "execution_count": null,
   "id": "124389a6",
   "metadata": {},
   "outputs": [],
   "source": [
    "target_dupl  <- signatures$target  %>% duplicated"
   ]
  },
  {
   "cell_type": "code",
   "execution_count": null,
   "id": "9bf66ad5",
   "metadata": {
    "scrolled": true
   },
   "outputs": [],
   "source": [
    "signatures  %>% dplyr::filter(target_dupl)"
   ]
  },
  {
   "cell_type": "code",
   "execution_count": null,
   "id": "9c945135",
   "metadata": {},
   "outputs": [],
   "source": [
    "signatures  %>% dplyr::filter(!target_dupl)"
   ]
  },
  {
   "cell_type": "code",
   "execution_count": null,
   "id": "177857cf",
   "metadata": {},
   "outputs": [],
   "source": [
    "X = cd4_counts"
   ]
  },
  {
   "cell_type": "code",
   "execution_count": null,
   "id": "7f0ddf12",
   "metadata": {},
   "outputs": [],
   "source": [
    "res_decouple <- decoupleR::decouple(mat = cd4_counts, statistics = \"ulm\",\n",
    "                                    signatures  %>% dplyr::filter(!target_dupl), \n",
    "                                    .source ='source', \n",
    "                                    .target ='target',\n",
    "                                    \n",
    "                                    minsize = 0)"
   ]
  },
  {
   "cell_type": "code",
   "execution_count": null,
   "id": "0bdfd5d8",
   "metadata": {},
   "outputs": [],
   "source": [
    "md_cd4"
   ]
  },
  {
   "cell_type": "code",
   "execution_count": null,
   "id": "6f3b33bb",
   "metadata": {},
   "outputs": [],
   "source": [
    "res_decouple2  <- res_decouple  %>% left_join(md_cd4  %>% rownames_to_column(\"condition\"))"
   ]
  },
  {
   "cell_type": "code",
   "execution_count": null,
   "id": "b1045599",
   "metadata": {},
   "outputs": [],
   "source": [
    "res_decouple2"
   ]
  },
  {
   "cell_type": "code",
   "execution_count": null,
   "id": "4d176d9a",
   "metadata": {},
   "outputs": [],
   "source": [
    "res_decouple2  %>% \n",
    "dplyr::filter(statistic == 'ulm')  %>% \n",
    "    ggplot(aes(x = Condition, y = score)) +\n",
    "    geom_boxplot(outlier.shape = NA) +\n",
    "    geom_jitter() +\n",
    "    ggtheme() +\n",
    "    #ggtitle(rownames(gsva.es)[i]) +\n",
    "    ggpubr::stat_compare_means(label = \"p.format\", comparisons = list(c(1,2))) +\n",
    "ggtitle(paste(subset1,\"vs.\",subset2))\n",
    "    "
   ]
  },
  {
   "cell_type": "markdown",
   "id": "98584bd2",
   "metadata": {},
   "source": [
    "### Contrast for X vs Y"
   ]
  },
  {
   "cell_type": "code",
   "execution_count": null,
   "id": "2bd0f607",
   "metadata": {},
   "outputs": [],
   "source": [
    "subset1 = \"CD8_Naive\"\n",
    "subset2 = \"CD8_CM\"\n"
   ]
  },
  {
   "cell_type": "code",
   "execution_count": null,
   "id": "0caedcf7",
   "metadata": {},
   "outputs": [],
   "source": [
    "mtx_subset  <- ref_wherry_new$matrix[,ref_wherry_new$labels %in% c(subset1,subset2)]"
   ]
  },
  {
   "cell_type": "code",
   "execution_count": null,
   "id": "d680e1ef",
   "metadata": {},
   "outputs": [],
   "source": [
    "dim(ref_wherry_new$matrix)"
   ]
  },
  {
   "cell_type": "code",
   "execution_count": null,
   "id": "0a12bdff",
   "metadata": {},
   "outputs": [],
   "source": [
    "dim(mtx_subset)"
   ]
  },
  {
   "cell_type": "code",
   "execution_count": null,
   "id": "a4ade7b3",
   "metadata": {},
   "outputs": [],
   "source": [
    "group  <- ref_wherry_new$labels[ref_wherry_new$labels %in% c(subset1,subset2)]"
   ]
  },
  {
   "cell_type": "code",
   "execution_count": null,
   "id": "5b3eda94",
   "metadata": {},
   "outputs": [],
   "source": [
    "group"
   ]
  },
  {
   "cell_type": "code",
   "execution_count": null,
   "id": "f5800605",
   "metadata": {},
   "outputs": [],
   "source": [
    "design <- model.matrix(~group)\n",
    "fit <- lmFit(mtx_subset, design)\n",
    "fit <- eBayes(fit)\n",
    "topTable(fit)"
   ]
  },
  {
   "cell_type": "code",
   "execution_count": null,
   "id": "058362b9",
   "metadata": {
    "scrolled": true
   },
   "outputs": [],
   "source": [
    "topTable(fit, number = 50000)"
   ]
  },
  {
   "cell_type": "code",
   "execution_count": null,
   "id": "6db4d2cd",
   "metadata": {},
   "outputs": [],
   "source": []
  },
  {
   "cell_type": "code",
   "execution_count": null,
   "id": "2c8ea8bb",
   "metadata": {},
   "outputs": [],
   "source": [
    "signatures  <- topTable(fit, number = 50000)  %>%\n",
    "transmute(source = paste(subset1,\"vs.\",subset2),\n",
    "          target = ID,\n",
    "          mor = logFC)"
   ]
  },
  {
   "cell_type": "code",
   "execution_count": null,
   "id": "3ad1878f",
   "metadata": {
    "scrolled": true
   },
   "outputs": [],
   "source": [
    "signatures$target  %>% duplicated  %>% table"
   ]
  },
  {
   "cell_type": "code",
   "execution_count": null,
   "id": "7b91a474",
   "metadata": {},
   "outputs": [],
   "source": [
    "target_dupl  <- signatures$target  %>% duplicated"
   ]
  },
  {
   "cell_type": "code",
   "execution_count": null,
   "id": "a1290186",
   "metadata": {
    "scrolled": true
   },
   "outputs": [],
   "source": [
    "signatures  %>% dplyr::filter(target_dupl)"
   ]
  },
  {
   "cell_type": "code",
   "execution_count": null,
   "id": "f401da84",
   "metadata": {},
   "outputs": [],
   "source": [
    "signatures  %>% dplyr::filter(!target_dupl)"
   ]
  },
  {
   "cell_type": "code",
   "execution_count": null,
   "id": "25a7edf9",
   "metadata": {},
   "outputs": [],
   "source": [
    "X = cd4_counts"
   ]
  },
  {
   "cell_type": "code",
   "execution_count": null,
   "id": "47c87ca6",
   "metadata": {},
   "outputs": [],
   "source": [
    "res_decouple <- decoupleR::decouple(mat = cd4_counts, statistics = \"ulm\",\n",
    "                                    signatures  %>% dplyr::filter(!target_dupl), \n",
    "                                    .source ='source', \n",
    "                                    .target ='target',\n",
    "                                    \n",
    "                                    minsize = 0)"
   ]
  },
  {
   "cell_type": "code",
   "execution_count": null,
   "id": "2e4c7b87",
   "metadata": {},
   "outputs": [],
   "source": [
    "md_cd4"
   ]
  },
  {
   "cell_type": "code",
   "execution_count": null,
   "id": "cc6c9a3a",
   "metadata": {},
   "outputs": [],
   "source": [
    "res_decouple2  <- res_decouple  %>% left_join(md_cd4  %>% rownames_to_column(\"condition\"))"
   ]
  },
  {
   "cell_type": "code",
   "execution_count": null,
   "id": "385c4feb",
   "metadata": {},
   "outputs": [],
   "source": [
    "res_decouple2"
   ]
  },
  {
   "cell_type": "code",
   "execution_count": null,
   "id": "8e78865a",
   "metadata": {},
   "outputs": [],
   "source": [
    "res_decouple2  %>% \n",
    "dplyr::filter(statistic == 'ulm')  %>% \n",
    "    ggplot(aes(x = Condition, y = score)) +\n",
    "    geom_boxplot(outlier.shape = NA) +\n",
    "    geom_jitter() +\n",
    "    ggtheme() +\n",
    "    #ggtitle(rownames(gsva.es)[i]) +\n",
    "    ggpubr::stat_compare_means(label = \"p.format\", comparisons = list(c(1,2))) +\n",
    "ggtitle(paste(subset1,\"vs.\",subset2))\n",
    "    "
   ]
  },
  {
   "cell_type": "markdown",
   "id": "ca055d37",
   "metadata": {},
   "source": [
    "### Contrast for X vs Y"
   ]
  },
  {
   "cell_type": "code",
   "execution_count": null,
   "id": "34b9d140",
   "metadata": {},
   "outputs": [],
   "source": [
    "subset1 = \"CD8_Naive\"\n",
    "subset2 = \"CD8_SCM-R3-\"\n"
   ]
  },
  {
   "cell_type": "code",
   "execution_count": null,
   "id": "d9ff79d3",
   "metadata": {},
   "outputs": [],
   "source": [
    "mtx_subset  <- ref_wherry_new$matrix[,ref_wherry_new$labels %in% c(subset1,subset2)]"
   ]
  },
  {
   "cell_type": "code",
   "execution_count": null,
   "id": "d6d975c8",
   "metadata": {},
   "outputs": [],
   "source": [
    "dim(ref_wherry_new$matrix)"
   ]
  },
  {
   "cell_type": "code",
   "execution_count": null,
   "id": "aae7b249",
   "metadata": {},
   "outputs": [],
   "source": [
    "dim(mtx_subset)"
   ]
  },
  {
   "cell_type": "code",
   "execution_count": null,
   "id": "64cefbfb",
   "metadata": {},
   "outputs": [],
   "source": [
    "group  <- ref_wherry_new$labels[ref_wherry_new$labels %in% c(subset1,subset2)]"
   ]
  },
  {
   "cell_type": "code",
   "execution_count": null,
   "id": "c53935b3",
   "metadata": {},
   "outputs": [],
   "source": [
    "group"
   ]
  },
  {
   "cell_type": "code",
   "execution_count": null,
   "id": "6ab4538b",
   "metadata": {},
   "outputs": [],
   "source": [
    "design <- model.matrix(~group)\n",
    "fit <- lmFit(mtx_subset, design)\n",
    "fit <- eBayes(fit)\n",
    "topTable(fit)"
   ]
  },
  {
   "cell_type": "code",
   "execution_count": null,
   "id": "7715fe2c",
   "metadata": {
    "scrolled": true
   },
   "outputs": [],
   "source": [
    "topTable(fit, number = 50000)"
   ]
  },
  {
   "cell_type": "code",
   "execution_count": null,
   "id": "d90b7a97",
   "metadata": {},
   "outputs": [],
   "source": []
  },
  {
   "cell_type": "code",
   "execution_count": null,
   "id": "7e03e4d2",
   "metadata": {},
   "outputs": [],
   "source": [
    "signatures  <- topTable(fit, number = 50000)  %>%\n",
    "transmute(source = paste(subset1,\"vs.\",subset2),\n",
    "          target = ID,\n",
    "          mor = logFC)"
   ]
  },
  {
   "cell_type": "code",
   "execution_count": null,
   "id": "f45ead32",
   "metadata": {
    "scrolled": true
   },
   "outputs": [],
   "source": [
    "signatures$target  %>% duplicated  %>% table"
   ]
  },
  {
   "cell_type": "code",
   "execution_count": null,
   "id": "e6353beb",
   "metadata": {},
   "outputs": [],
   "source": [
    "target_dupl  <- signatures$target  %>% duplicated"
   ]
  },
  {
   "cell_type": "code",
   "execution_count": null,
   "id": "8ad22bf4",
   "metadata": {
    "scrolled": true
   },
   "outputs": [],
   "source": [
    "signatures  %>% dplyr::filter(target_dupl)"
   ]
  },
  {
   "cell_type": "code",
   "execution_count": null,
   "id": "115761a3",
   "metadata": {},
   "outputs": [],
   "source": [
    "signatures  %>% dplyr::filter(!target_dupl)"
   ]
  },
  {
   "cell_type": "code",
   "execution_count": null,
   "id": "1638f427",
   "metadata": {},
   "outputs": [],
   "source": [
    "X = cd4_counts"
   ]
  },
  {
   "cell_type": "code",
   "execution_count": null,
   "id": "f95c9482",
   "metadata": {},
   "outputs": [],
   "source": [
    "res_decouple <- decoupleR::decouple(mat = cd4_counts, statistics = \"ulm\",\n",
    "                                    signatures  %>% dplyr::filter(!target_dupl), \n",
    "                                    .source ='source', \n",
    "                                    .target ='target',\n",
    "                                    \n",
    "                                    minsize = 0)"
   ]
  },
  {
   "cell_type": "code",
   "execution_count": null,
   "id": "b6af65e2",
   "metadata": {},
   "outputs": [],
   "source": [
    "md_cd4"
   ]
  },
  {
   "cell_type": "code",
   "execution_count": null,
   "id": "330dcb9f",
   "metadata": {},
   "outputs": [],
   "source": [
    "res_decouple2  <- res_decouple  %>% left_join(md_cd4  %>% rownames_to_column(\"condition\"))"
   ]
  },
  {
   "cell_type": "code",
   "execution_count": null,
   "id": "42d8af15",
   "metadata": {},
   "outputs": [],
   "source": [
    "res_decouple2"
   ]
  },
  {
   "cell_type": "code",
   "execution_count": null,
   "id": "68b66523",
   "metadata": {
    "scrolled": true
   },
   "outputs": [],
   "source": [
    "res_decouple2  %>% \n",
    "dplyr::filter(statistic == 'ulm')  %>% \n",
    "    ggplot(aes(x = Condition, y = score)) +\n",
    "    geom_boxplot(outlier.shape = NA) +\n",
    "    geom_jitter() +\n",
    "    ggtheme() +\n",
    "    #ggtitle(rownames(gsva.es)[i]) +\n",
    "    ggpubr::stat_compare_means(label = \"p.format\", comparisons = list(c(1,2))) +\n",
    "ggtitle(paste(subset1,\"vs.\",subset2))\n",
    "    "
   ]
  },
  {
   "cell_type": "markdown",
   "id": "28e101d6",
   "metadata": {},
   "source": [
    "### Contrast for X vs Y"
   ]
  },
  {
   "cell_type": "code",
   "execution_count": null,
   "id": "de6a4e94",
   "metadata": {},
   "outputs": [],
   "source": [
    "ref_wherry_new$labels"
   ]
  },
  {
   "cell_type": "code",
   "execution_count": null,
   "id": "09279697",
   "metadata": {},
   "outputs": [],
   "source": [
    "subset1 = \"CD8_Naive\"\n",
    "subset2 = \"CD8_SCM-R3+\"\n"
   ]
  },
  {
   "cell_type": "code",
   "execution_count": null,
   "id": "b073338b",
   "metadata": {},
   "outputs": [],
   "source": [
    "mtx_subset  <- ref_wherry_new$matrix[,ref_wherry_new$labels %in% c(subset1,subset2)]"
   ]
  },
  {
   "cell_type": "code",
   "execution_count": null,
   "id": "aeec6cbf",
   "metadata": {},
   "outputs": [],
   "source": [
    "dim(ref_wherry_new$matrix)"
   ]
  },
  {
   "cell_type": "code",
   "execution_count": null,
   "id": "e630f4ad",
   "metadata": {},
   "outputs": [],
   "source": [
    "dim(mtx_subset)"
   ]
  },
  {
   "cell_type": "code",
   "execution_count": null,
   "id": "806867ce",
   "metadata": {},
   "outputs": [],
   "source": [
    "group  <- ref_wherry_new$labels[ref_wherry_new$labels %in% c(subset1,subset2)]"
   ]
  },
  {
   "cell_type": "code",
   "execution_count": null,
   "id": "3b2c5c42",
   "metadata": {},
   "outputs": [],
   "source": [
    "group"
   ]
  },
  {
   "cell_type": "code",
   "execution_count": null,
   "id": "2370de06",
   "metadata": {},
   "outputs": [],
   "source": [
    "design <- model.matrix(~group)\n",
    "fit <- lmFit(mtx_subset, design)\n",
    "fit <- eBayes(fit)\n",
    "topTable(fit)"
   ]
  },
  {
   "cell_type": "code",
   "execution_count": null,
   "id": "e700c6f4",
   "metadata": {
    "scrolled": true
   },
   "outputs": [],
   "source": [
    "topTable(fit, number = 50000)"
   ]
  },
  {
   "cell_type": "code",
   "execution_count": null,
   "id": "64ae8143",
   "metadata": {},
   "outputs": [],
   "source": []
  },
  {
   "cell_type": "code",
   "execution_count": null,
   "id": "87a3a739",
   "metadata": {},
   "outputs": [],
   "source": [
    "signatures  <- topTable(fit, number = 50000)  %>%\n",
    "transmute(source = paste(subset1,\"vs.\",subset2),\n",
    "          target = ID,\n",
    "          mor = logFC)"
   ]
  },
  {
   "cell_type": "code",
   "execution_count": null,
   "id": "ca4a0c4c",
   "metadata": {
    "scrolled": true
   },
   "outputs": [],
   "source": [
    "signatures$target  %>% duplicated  %>% table"
   ]
  },
  {
   "cell_type": "code",
   "execution_count": null,
   "id": "b4c796cb",
   "metadata": {},
   "outputs": [],
   "source": [
    "target_dupl  <- signatures$target  %>% duplicated"
   ]
  },
  {
   "cell_type": "code",
   "execution_count": null,
   "id": "ed3804a8",
   "metadata": {
    "scrolled": true
   },
   "outputs": [],
   "source": [
    "signatures  %>% dplyr::filter(target_dupl)"
   ]
  },
  {
   "cell_type": "code",
   "execution_count": null,
   "id": "fb77042c",
   "metadata": {},
   "outputs": [],
   "source": [
    "signatures  %>% dplyr::filter(!target_dupl)"
   ]
  },
  {
   "cell_type": "code",
   "execution_count": null,
   "id": "70ba37e2",
   "metadata": {},
   "outputs": [],
   "source": [
    "X = cd4_counts"
   ]
  },
  {
   "cell_type": "code",
   "execution_count": null,
   "id": "d327629e",
   "metadata": {},
   "outputs": [],
   "source": [
    "res_decouple <- decoupleR::decouple(mat = cd4_counts, statistics = \"ulm\",\n",
    "                                    signatures  %>% dplyr::filter(!target_dupl), \n",
    "                                    .source ='source', \n",
    "                                    .target ='target',\n",
    "                                    \n",
    "                                    minsize = 0)"
   ]
  },
  {
   "cell_type": "code",
   "execution_count": null,
   "id": "71cc38fa",
   "metadata": {},
   "outputs": [],
   "source": [
    "md_cd4"
   ]
  },
  {
   "cell_type": "code",
   "execution_count": null,
   "id": "ec048b20",
   "metadata": {},
   "outputs": [],
   "source": [
    "res_decouple2  <- res_decouple  %>% left_join(md_cd4  %>% rownames_to_column(\"condition\"))"
   ]
  },
  {
   "cell_type": "code",
   "execution_count": null,
   "id": "fede93d2",
   "metadata": {},
   "outputs": [],
   "source": [
    "res_decouple2"
   ]
  },
  {
   "cell_type": "code",
   "execution_count": null,
   "id": "b6f08050",
   "metadata": {
    "scrolled": true
   },
   "outputs": [],
   "source": [
    "res_decouple2  %>% \n",
    "dplyr::filter(statistic == 'ulm')  %>% \n",
    "    ggplot(aes(x = Condition, y = score)) +\n",
    "    geom_boxplot(outlier.shape = NA) +\n",
    "    geom_jitter() +\n",
    "    ggtheme() +\n",
    "    #ggtitle(rownames(gsva.es)[i]) +\n",
    "    ggpubr::stat_compare_means(label = \"p.format\", comparisons = list(c(1,2))) +\n",
    "ggtitle(paste(subset1,\"vs.\",subset2))\n",
    "    "
   ]
  },
  {
   "cell_type": "markdown",
   "id": "9b82dab5",
   "metadata": {},
   "source": [
    "### Contrast for X vs Y"
   ]
  },
  {
   "cell_type": "code",
   "execution_count": null,
   "id": "7ce26579",
   "metadata": {},
   "outputs": [],
   "source": [
    "ref_wherry_new$labels"
   ]
  },
  {
   "cell_type": "code",
   "execution_count": null,
   "id": "f261f190",
   "metadata": {},
   "outputs": [],
   "source": [
    "subset1 = \"CD8_Naive\"\n",
    "subset2 = \"CD8_PD1+CD39+\"\n"
   ]
  },
  {
   "cell_type": "code",
   "execution_count": null,
   "id": "725cf6d9",
   "metadata": {},
   "outputs": [],
   "source": [
    "mtx_subset  <- ref_wherry_new$matrix[,ref_wherry_new$labels %in% c(subset1,subset2)]"
   ]
  },
  {
   "cell_type": "code",
   "execution_count": null,
   "id": "803b1ad9",
   "metadata": {},
   "outputs": [],
   "source": [
    "dim(ref_wherry_new$matrix)"
   ]
  },
  {
   "cell_type": "code",
   "execution_count": null,
   "id": "1a277ec7",
   "metadata": {},
   "outputs": [],
   "source": [
    "dim(mtx_subset)"
   ]
  },
  {
   "cell_type": "code",
   "execution_count": null,
   "id": "bda15bdf",
   "metadata": {},
   "outputs": [],
   "source": [
    "group  <- ref_wherry_new$labels[ref_wherry_new$labels %in% c(subset1,subset2)]"
   ]
  },
  {
   "cell_type": "code",
   "execution_count": null,
   "id": "4a107598",
   "metadata": {},
   "outputs": [],
   "source": [
    "group"
   ]
  },
  {
   "cell_type": "code",
   "execution_count": null,
   "id": "98fc7cd1",
   "metadata": {},
   "outputs": [],
   "source": [
    "design <- model.matrix(~group)\n",
    "fit <- lmFit(mtx_subset, design)\n",
    "fit <- eBayes(fit)\n",
    "topTable(fit)"
   ]
  },
  {
   "cell_type": "code",
   "execution_count": null,
   "id": "5c2edd6b",
   "metadata": {
    "scrolled": true
   },
   "outputs": [],
   "source": [
    "topTable(fit, number = 50000)"
   ]
  },
  {
   "cell_type": "code",
   "execution_count": null,
   "id": "cf4d2e75",
   "metadata": {},
   "outputs": [],
   "source": []
  },
  {
   "cell_type": "code",
   "execution_count": null,
   "id": "92edbc39",
   "metadata": {},
   "outputs": [],
   "source": [
    "signatures  <- topTable(fit, number = 50000)  %>%\n",
    "transmute(source = paste(subset1,\"vs.\",subset2),\n",
    "          target = ID,\n",
    "          mor = logFC)"
   ]
  },
  {
   "cell_type": "code",
   "execution_count": null,
   "id": "86555de4",
   "metadata": {
    "scrolled": true
   },
   "outputs": [],
   "source": [
    "signatures$target  %>% duplicated  %>% table"
   ]
  },
  {
   "cell_type": "code",
   "execution_count": null,
   "id": "200a5567",
   "metadata": {},
   "outputs": [],
   "source": [
    "target_dupl  <- signatures$target  %>% duplicated"
   ]
  },
  {
   "cell_type": "code",
   "execution_count": null,
   "id": "8326a88c",
   "metadata": {
    "scrolled": true
   },
   "outputs": [],
   "source": [
    "signatures  %>% dplyr::filter(target_dupl)"
   ]
  },
  {
   "cell_type": "code",
   "execution_count": null,
   "id": "5eac522d",
   "metadata": {},
   "outputs": [],
   "source": [
    "signatures  %>% dplyr::filter(!target_dupl)"
   ]
  },
  {
   "cell_type": "code",
   "execution_count": null,
   "id": "f5be6bed",
   "metadata": {},
   "outputs": [],
   "source": [
    "X = cd4_counts"
   ]
  },
  {
   "cell_type": "code",
   "execution_count": null,
   "id": "9875ca6b",
   "metadata": {},
   "outputs": [],
   "source": [
    "res_decouple <- decoupleR::decouple(mat = cd4_counts, statistics = \"ulm\",\n",
    "                                    signatures  %>% dplyr::filter(!target_dupl), \n",
    "                                    .source ='source', \n",
    "                                    .target ='target',\n",
    "                                    \n",
    "                                    minsize = 0)"
   ]
  },
  {
   "cell_type": "code",
   "execution_count": null,
   "id": "6b300ec3",
   "metadata": {},
   "outputs": [],
   "source": [
    "md_cd4"
   ]
  },
  {
   "cell_type": "code",
   "execution_count": null,
   "id": "002cedd3",
   "metadata": {},
   "outputs": [],
   "source": [
    "res_decouple2  <- res_decouple  %>% left_join(md_cd4  %>% rownames_to_column(\"condition\"))"
   ]
  },
  {
   "cell_type": "code",
   "execution_count": null,
   "id": "9e0b76a4",
   "metadata": {},
   "outputs": [],
   "source": [
    "res_decouple2"
   ]
  },
  {
   "cell_type": "code",
   "execution_count": null,
   "id": "1154d403",
   "metadata": {
    "scrolled": true
   },
   "outputs": [],
   "source": [
    "res_decouple2  %>% \n",
    "dplyr::filter(statistic == 'ulm')  %>% \n",
    "    ggplot(aes(x = Condition, y = score)) +\n",
    "    geom_boxplot(outlier.shape = NA) +\n",
    "    geom_jitter() +\n",
    "    ggtheme() +\n",
    "    #ggtitle(rownames(gsva.es)[i]) +\n",
    "    ggpubr::stat_compare_means(label = \"p.format\", comparisons = list(c(1,2))) +\n",
    "ggtitle(paste(subset1,\"vs.\",subset2))\n",
    "    "
   ]
  },
  {
   "cell_type": "markdown",
   "id": "1a6379ba",
   "metadata": {},
   "source": [
    "# Main findings in males vs. females"
   ]
  },
  {
   "cell_type": "markdown",
   "id": "1753a913",
   "metadata": {},
   "source": [
    "## DecoupleR contrast"
   ]
  },
  {
   "cell_type": "markdown",
   "id": "02ec2ab1",
   "metadata": {},
   "source": [
    "### CD8"
   ]
  },
  {
   "cell_type": "code",
   "execution_count": null,
   "id": "bb7f8006",
   "metadata": {},
   "outputs": [],
   "source": [
    "subset1 = \"CD8_Naive\"\n",
    "subset2 = \"CD8_EM2\"\n"
   ]
  },
  {
   "cell_type": "code",
   "execution_count": null,
   "id": "ff4234c4",
   "metadata": {},
   "outputs": [],
   "source": [
    "mtx_subset  <- ref_wherry_new$matrix[,ref_wherry_new$labels %in% c(subset1,subset2)]"
   ]
  },
  {
   "cell_type": "code",
   "execution_count": null,
   "id": "dc30dd85",
   "metadata": {},
   "outputs": [],
   "source": [
    "dim(ref_wherry_new$matrix)"
   ]
  },
  {
   "cell_type": "code",
   "execution_count": null,
   "id": "2a7ed7b6",
   "metadata": {},
   "outputs": [],
   "source": [
    "dim(mtx_subset)"
   ]
  },
  {
   "cell_type": "code",
   "execution_count": null,
   "id": "5f76730f",
   "metadata": {},
   "outputs": [],
   "source": [
    "group  <- ref_wherry_new$labels[ref_wherry_new$labels %in% c(subset1,subset2)]"
   ]
  },
  {
   "cell_type": "code",
   "execution_count": null,
   "id": "94aa237d",
   "metadata": {},
   "outputs": [],
   "source": [
    "group"
   ]
  },
  {
   "cell_type": "code",
   "execution_count": null,
   "id": "b6e56e85",
   "metadata": {},
   "outputs": [],
   "source": [
    "design <- model.matrix(~group)\n",
    "fit <- lmFit(mtx_subset, design)\n",
    "fit <- eBayes(fit)\n",
    "topTable(fit)"
   ]
  },
  {
   "cell_type": "code",
   "execution_count": null,
   "id": "30e17115",
   "metadata": {
    "scrolled": true
   },
   "outputs": [],
   "source": [
    "topTable(fit, number = 50000)"
   ]
  },
  {
   "cell_type": "code",
   "execution_count": null,
   "id": "1132e75d",
   "metadata": {},
   "outputs": [],
   "source": []
  },
  {
   "cell_type": "code",
   "execution_count": null,
   "id": "fd751859",
   "metadata": {},
   "outputs": [],
   "source": [
    "signatures  <- topTable(fit, number = 50000)  %>%\n",
    "transmute(source = paste(subset1,\"vs.\",subset2),\n",
    "          target = ID,\n",
    "          mor = logFC)"
   ]
  },
  {
   "cell_type": "code",
   "execution_count": null,
   "id": "759d5e0f",
   "metadata": {
    "scrolled": true
   },
   "outputs": [],
   "source": [
    "signatures$target  %>% duplicated  %>% table"
   ]
  },
  {
   "cell_type": "code",
   "execution_count": null,
   "id": "60fc8a0a",
   "metadata": {},
   "outputs": [],
   "source": [
    "target_dupl  <- signatures$target  %>% duplicated"
   ]
  },
  {
   "cell_type": "code",
   "execution_count": null,
   "id": "ecd77e1d",
   "metadata": {},
   "outputs": [],
   "source": [
    "res_decouple <- decoupleR::decouple(mat = cd8_counts, statistics = \"ulm\",\n",
    "                                    signatures  %>% dplyr::filter(!target_dupl), \n",
    "                                    .source ='source', \n",
    "                                    .target ='target',\n",
    "                                    \n",
    "                                    minsize = 0)"
   ]
  },
  {
   "cell_type": "code",
   "execution_count": null,
   "id": "475625ba",
   "metadata": {},
   "outputs": [],
   "source": [
    "res_decouple2  <- res_decouple  %>% left_join(md_cd8  %>% rownames_to_column(\"condition\"))"
   ]
  },
  {
   "cell_type": "code",
   "execution_count": null,
   "id": "04528fb5",
   "metadata": {},
   "outputs": [],
   "source": [
    "res_decouple2  %>% \n",
    "dplyr::filter(statistic == 'ulm')  %>% \n",
    "    ggplot(aes(x = Condition, y = score)) +\n",
    "    geom_boxplot(outlier.shape = NA) +\n",
    "    geom_jitter() +\n",
    "    ggtheme() +\n",
    "    #ggtitle(rownames(gsva.es)[i]) +\n",
    "facet_wrap(~Sex) +\n",
    "    ggpubr::stat_compare_means(label = \"p.format\", comparisons = list(c(1,2))) +\n",
    "ggtitle(paste(subset1,\"vs.\",subset2))\n",
    "    "
   ]
  },
  {
   "cell_type": "code",
   "execution_count": null,
   "id": "0fe26df0",
   "metadata": {},
   "outputs": [],
   "source": [
    "subset1 = \"CD8_Naive\"\n",
    "subset2 = \"CD8_EM1\"\n"
   ]
  },
  {
   "cell_type": "code",
   "execution_count": null,
   "id": "323b699d",
   "metadata": {},
   "outputs": [],
   "source": [
    "mtx_subset  <- ref_wherry_new$matrix[,ref_wherry_new$labels %in% c(subset1,subset2)]"
   ]
  },
  {
   "cell_type": "code",
   "execution_count": null,
   "id": "5c05801b",
   "metadata": {},
   "outputs": [],
   "source": [
    "dim(ref_wherry_new$matrix)"
   ]
  },
  {
   "cell_type": "code",
   "execution_count": null,
   "id": "4c4050ae",
   "metadata": {},
   "outputs": [],
   "source": [
    "dim(mtx_subset)"
   ]
  },
  {
   "cell_type": "code",
   "execution_count": null,
   "id": "b90e3c1c",
   "metadata": {},
   "outputs": [],
   "source": [
    "group  <- ref_wherry_new$labels[ref_wherry_new$labels %in% c(subset1,subset2)]"
   ]
  },
  {
   "cell_type": "code",
   "execution_count": null,
   "id": "429b1096",
   "metadata": {},
   "outputs": [],
   "source": [
    "group"
   ]
  },
  {
   "cell_type": "code",
   "execution_count": null,
   "id": "c3241afb",
   "metadata": {},
   "outputs": [],
   "source": [
    "design <- model.matrix(~group)\n",
    "fit <- lmFit(mtx_subset, design)\n",
    "fit <- eBayes(fit)\n",
    "topTable(fit)"
   ]
  },
  {
   "cell_type": "code",
   "execution_count": null,
   "id": "03b1f632",
   "metadata": {
    "scrolled": true
   },
   "outputs": [],
   "source": [
    "topTable(fit, number = 50000)"
   ]
  },
  {
   "cell_type": "code",
   "execution_count": null,
   "id": "32b4857d",
   "metadata": {},
   "outputs": [],
   "source": []
  },
  {
   "cell_type": "code",
   "execution_count": null,
   "id": "b03eba29",
   "metadata": {},
   "outputs": [],
   "source": [
    "signatures  <- topTable(fit, number = 50000)  %>%\n",
    "transmute(source = paste(subset1,\"vs.\",subset2),\n",
    "          target = ID,\n",
    "          mor = logFC)"
   ]
  },
  {
   "cell_type": "code",
   "execution_count": null,
   "id": "819c1df2",
   "metadata": {
    "scrolled": true
   },
   "outputs": [],
   "source": [
    "signatures$target  %>% duplicated  %>% table"
   ]
  },
  {
   "cell_type": "code",
   "execution_count": null,
   "id": "ab6ede78",
   "metadata": {},
   "outputs": [],
   "source": [
    "target_dupl  <- signatures$target  %>% duplicated"
   ]
  },
  {
   "cell_type": "code",
   "execution_count": null,
   "id": "d1ceffdd",
   "metadata": {},
   "outputs": [],
   "source": [
    "res_decouple <- decoupleR::decouple(mat = cd8_counts, statistics = \"ulm\",\n",
    "                                    signatures  %>% dplyr::filter(!target_dupl), \n",
    "                                    .source ='source', \n",
    "                                    .target ='target',\n",
    "                                    \n",
    "                                    minsize = 0)"
   ]
  },
  {
   "cell_type": "code",
   "execution_count": null,
   "id": "52f51a6b",
   "metadata": {},
   "outputs": [],
   "source": [
    "res_decouple2  <- res_decouple  %>% left_join(md_cd8  %>% rownames_to_column(\"condition\"))"
   ]
  },
  {
   "cell_type": "code",
   "execution_count": null,
   "id": "8e0b9e93",
   "metadata": {},
   "outputs": [],
   "source": [
    "res_decouple2  %>% \n",
    "dplyr::filter(statistic == 'ulm')  %>% \n",
    "    ggplot(aes(x = Condition, y = score)) +\n",
    "    geom_boxplot(outlier.shape = NA) +\n",
    "    geom_jitter() +\n",
    "    ggtheme() +\n",
    "    #ggtitle(rownames(gsva.es)[i]) +\n",
    "facet_wrap(~Sex) +\n",
    "    ggpubr::stat_compare_means(label = \"p.format\", comparisons = list(c(1,2))) +\n",
    "ggtitle(paste(subset1,\"vs.\",subset2))\n",
    "    "
   ]
  },
  {
   "cell_type": "markdown",
   "id": "faedf926",
   "metadata": {},
   "source": [
    "### CD4"
   ]
  },
  {
   "cell_type": "code",
   "execution_count": null,
   "id": "374975d2",
   "metadata": {},
   "outputs": [],
   "source": [
    "subset1 = \"CD8_Naive\"\n",
    "subset2 = \"CD8_EM2\"\n"
   ]
  },
  {
   "cell_type": "code",
   "execution_count": null,
   "id": "e4578f9c",
   "metadata": {},
   "outputs": [],
   "source": [
    "mtx_subset  <- ref_wherry_new$matrix[,ref_wherry_new$labels %in% c(subset1,subset2)]"
   ]
  },
  {
   "cell_type": "code",
   "execution_count": null,
   "id": "32761911",
   "metadata": {},
   "outputs": [],
   "source": [
    "dim(ref_wherry_new$matrix)"
   ]
  },
  {
   "cell_type": "code",
   "execution_count": null,
   "id": "d9483eeb",
   "metadata": {},
   "outputs": [],
   "source": [
    "dim(mtx_subset)"
   ]
  },
  {
   "cell_type": "code",
   "execution_count": null,
   "id": "af6ec126",
   "metadata": {},
   "outputs": [],
   "source": [
    "group  <- ref_wherry_new$labels[ref_wherry_new$labels %in% c(subset1,subset2)]"
   ]
  },
  {
   "cell_type": "code",
   "execution_count": null,
   "id": "34fc2aba",
   "metadata": {},
   "outputs": [],
   "source": [
    "group"
   ]
  },
  {
   "cell_type": "code",
   "execution_count": null,
   "id": "afd1073b",
   "metadata": {},
   "outputs": [],
   "source": [
    "design <- model.matrix(~group)\n",
    "fit <- lmFit(mtx_subset, design)\n",
    "fit <- eBayes(fit)\n",
    "topTable(fit)"
   ]
  },
  {
   "cell_type": "code",
   "execution_count": null,
   "id": "e9b0b3d0",
   "metadata": {
    "scrolled": true
   },
   "outputs": [],
   "source": [
    "topTable(fit, number = 50000)"
   ]
  },
  {
   "cell_type": "code",
   "execution_count": null,
   "id": "bd9835a0",
   "metadata": {},
   "outputs": [],
   "source": []
  },
  {
   "cell_type": "code",
   "execution_count": null,
   "id": "a10db8f1",
   "metadata": {},
   "outputs": [],
   "source": [
    "signatures  <- topTable(fit, number = 50000)  %>%\n",
    "transmute(source = paste(subset1,\"vs.\",subset2),\n",
    "          target = ID,\n",
    "          mor = logFC)"
   ]
  },
  {
   "cell_type": "code",
   "execution_count": null,
   "id": "fbb6035a",
   "metadata": {
    "scrolled": true
   },
   "outputs": [],
   "source": [
    "signatures$target  %>% duplicated  %>% table"
   ]
  },
  {
   "cell_type": "code",
   "execution_count": null,
   "id": "356748c1",
   "metadata": {},
   "outputs": [],
   "source": [
    "target_dupl  <- signatures$target  %>% duplicated"
   ]
  },
  {
   "cell_type": "code",
   "execution_count": null,
   "id": "b815e351",
   "metadata": {},
   "outputs": [],
   "source": [
    "res_decouple <- decoupleR::decouple(mat = cd4_counts, statistics = \"ulm\",\n",
    "                                    signatures  %>% dplyr::filter(!target_dupl), \n",
    "                                    .source ='source', \n",
    "                                    .target ='target',\n",
    "                                    \n",
    "                                    minsize = 0)"
   ]
  },
  {
   "cell_type": "code",
   "execution_count": null,
   "id": "c1d3cd58",
   "metadata": {},
   "outputs": [],
   "source": [
    "res_decouple2  <- res_decouple  %>% left_join(md_cd4  %>% rownames_to_column(\"condition\"))"
   ]
  },
  {
   "cell_type": "code",
   "execution_count": null,
   "id": "4714d40c",
   "metadata": {},
   "outputs": [],
   "source": [
    "res_decouple2  %>% \n",
    "dplyr::filter(statistic == 'ulm')  %>% \n",
    "    ggplot(aes(x = Condition, y = score)) +\n",
    "    geom_boxplot(outlier.shape = NA) +\n",
    "    geom_jitter() +\n",
    "    ggtheme() +\n",
    "    #ggtitle(rownames(gsva.es)[i]) +\n",
    "facet_wrap(~Sex) +\n",
    "    ggpubr::stat_compare_means(label = \"p.format\", comparisons = list(c(1,2))) +\n",
    "ggtitle(paste(subset1,\"vs.\",subset2))\n",
    "    "
   ]
  },
  {
   "cell_type": "code",
   "execution_count": null,
   "id": "36fa6d3c",
   "metadata": {},
   "outputs": [],
   "source": [
    "subset1 = \"CD8_Naive\"\n",
    "subset2 = \"CD8_EM1\"\n"
   ]
  },
  {
   "cell_type": "code",
   "execution_count": null,
   "id": "fd36c1ed",
   "metadata": {},
   "outputs": [],
   "source": [
    "mtx_subset  <- ref_wherry_new$matrix[,ref_wherry_new$labels %in% c(subset1,subset2)]"
   ]
  },
  {
   "cell_type": "code",
   "execution_count": null,
   "id": "566ca18d",
   "metadata": {},
   "outputs": [],
   "source": [
    "dim(ref_wherry_new$matrix)"
   ]
  },
  {
   "cell_type": "code",
   "execution_count": null,
   "id": "b37dc4a1",
   "metadata": {},
   "outputs": [],
   "source": [
    "dim(mtx_subset)"
   ]
  },
  {
   "cell_type": "code",
   "execution_count": null,
   "id": "7625ef31",
   "metadata": {},
   "outputs": [],
   "source": [
    "group  <- ref_wherry_new$labels[ref_wherry_new$labels %in% c(subset1,subset2)]"
   ]
  },
  {
   "cell_type": "code",
   "execution_count": null,
   "id": "40811bef",
   "metadata": {},
   "outputs": [],
   "source": [
    "group"
   ]
  },
  {
   "cell_type": "code",
   "execution_count": null,
   "id": "a36c7d66",
   "metadata": {},
   "outputs": [],
   "source": [
    "design <- model.matrix(~group)\n",
    "fit <- lmFit(mtx_subset, design)\n",
    "fit <- eBayes(fit)\n",
    "topTable(fit)"
   ]
  },
  {
   "cell_type": "code",
   "execution_count": null,
   "id": "1084d2f2",
   "metadata": {
    "scrolled": true
   },
   "outputs": [],
   "source": [
    "topTable(fit, number = 50000)"
   ]
  },
  {
   "cell_type": "code",
   "execution_count": null,
   "id": "9305a3ef",
   "metadata": {},
   "outputs": [],
   "source": []
  },
  {
   "cell_type": "code",
   "execution_count": null,
   "id": "5c34ac84",
   "metadata": {},
   "outputs": [],
   "source": [
    "signatures  <- topTable(fit, number = 50000)  %>%\n",
    "transmute(source = paste(subset1,\"vs.\",subset2),\n",
    "          target = ID,\n",
    "          mor = logFC)"
   ]
  },
  {
   "cell_type": "code",
   "execution_count": null,
   "id": "6f375f94",
   "metadata": {
    "scrolled": true
   },
   "outputs": [],
   "source": [
    "signatures$target  %>% duplicated  %>% table"
   ]
  },
  {
   "cell_type": "code",
   "execution_count": null,
   "id": "3f0b2389",
   "metadata": {},
   "outputs": [],
   "source": [
    "target_dupl  <- signatures$target  %>% duplicated"
   ]
  },
  {
   "cell_type": "code",
   "execution_count": null,
   "id": "c079a2bf",
   "metadata": {},
   "outputs": [],
   "source": [
    "res_decouple <- decoupleR::decouple(mat = cd4_counts, statistics = \"ulm\",\n",
    "                                    signatures  %>% dplyr::filter(!target_dupl), \n",
    "                                    .source ='source', \n",
    "                                    .target ='target',\n",
    "                                    \n",
    "                                    minsize = 0)"
   ]
  },
  {
   "cell_type": "code",
   "execution_count": null,
   "id": "635021d2",
   "metadata": {},
   "outputs": [],
   "source": [
    "res_decouple2  <- res_decouple  %>% left_join(md_cd4  %>% rownames_to_column(\"condition\"))"
   ]
  },
  {
   "cell_type": "code",
   "execution_count": null,
   "id": "38840171",
   "metadata": {},
   "outputs": [],
   "source": [
    "res_decouple2  %>% \n",
    "dplyr::filter(statistic == 'ulm')  %>% \n",
    "    ggplot(aes(x = Condition, y = score)) +\n",
    "    geom_boxplot(outlier.shape = NA) +\n",
    "    geom_jitter() +\n",
    "    ggtheme() +\n",
    "    #ggtitle(rownames(gsva.es)[i]) +\n",
    "facet_wrap(~Sex) +\n",
    "    ggpubr::stat_compare_means(label = \"p.format\", comparisons = list(c(1,2))) +\n",
    "ggtitle(paste(subset1,\"vs.\",subset2))\n",
    "    "
   ]
  },
  {
   "cell_type": "markdown",
   "id": "71bd4fbd",
   "metadata": {},
   "source": [
    "# DEG by HLA"
   ]
  },
  {
   "cell_type": "markdown",
   "id": "955d5318",
   "metadata": {},
   "source": [
    "## CD4"
   ]
  },
  {
   "cell_type": "code",
   "execution_count": null,
   "id": "293cd222",
   "metadata": {},
   "outputs": [],
   "source": [
    "genes  <- rownames(cd4_l1_full_filt_sub@assays$RNA)"
   ]
  },
  {
   "cell_type": "code",
   "execution_count": null,
   "id": "346394bd",
   "metadata": {},
   "outputs": [],
   "source": [
    "genes_filt  <- genes[!(grepl(genes, pattern = \"^MT\")|\n",
    "                            grepl(genes, pattern = \"\\\\.\")|\n",
    "                            grepl(genes, pattern = \"LINC\")|\n",
    "                            grepl(genes, pattern = \"^MIR\")|\n",
    "                            grepl(genes, pattern = \"^MT\")|\n",
    "                            grepl(genes, pattern = \"HNRNP\")|\n",
    "                            grepl(genes, pattern = \"^RP[LS]\")|\n",
    "                            grepl(genes, pattern = \"\\\\-\")|\n",
    "                            grepl(genes, pattern = \"TTTY\")|\n",
    "                            grepl(genes, pattern = \"ORF\")|\n",
    "                            grepl(genes, pattern = \"orf\"))\n",
    "                            ]"
   ]
  },
  {
   "cell_type": "code",
   "execution_count": null,
   "id": "42641fd0",
   "metadata": {},
   "outputs": [],
   "source": [
    "aggexp_cd4  <- AggregateExpression(cd4_l1_full_filt_sub, group.by = c(\"Sample_ID\"), \n",
    "                                  features = genes_filt, return.seurat = T, assay = \"RNA\")"
   ]
  },
  {
   "cell_type": "code",
   "execution_count": null,
   "id": "6e4a42a6",
   "metadata": {},
   "outputs": [],
   "source": []
  },
  {
   "cell_type": "code",
   "execution_count": null,
   "id": "1883288b",
   "metadata": {},
   "outputs": [],
   "source": [
    "md_HLA_cd4  <- cd4_l1_full_filt_sub@meta.data  %>% mutate(dq2 = ifelse((HLA_DQA11 == \"DQA1*05:01:01\" | HLA_DQA12 == \"DQA1*05:01:01\") &\n",
    "                                   (HLA_DQB11 == \"DQB1*02:01:01\" | HLA_DQB12 == \"DQB1*02:01:01\"),\"DQ2\",\n",
    "                                   \"Other\"),\n",
    "                      dq8 = ifelse((HLA_DQA11 == \"DQA1*03:01:01\" | HLA_DQA12 == \"DQA1*03:01:01\") &\n",
    "                                   (HLA_DQB11 == \"DQB1*03:02:01\" | HLA_DQB12 == \"DQB1*03:02:01\"),\"DQ8\",\n",
    "                                   \"Other\"))  %>% mutate(\n",
    "                      dq2_8 = ifelse(dq2 == \"DQ2\" & dq8 == \"DQ8\",\"DQ2_8\",\n",
    "                                     ifelse(dq2 == \"DQ2\",\"DQ2\", ifelse(dq8 == \"DQ8\",\"DQ8\",\"Other\"))))  %>% \n",
    "mutate(c7_01 = ifelse((HLA_C1 == \"C*07:01:01\" & HLA_C2 == \"C*07:01:01\"), \"c7_01_hom\",\n",
    "                                   ifelse(HLA_C1 == \"C*07:01:01\" | HLA_C2 == \"C*07:01:01\",\"c7_01_het\",\n",
    "                                   \"Other\")),\n",
    "                      b8_01 = ifelse((HLA_B1 == \"B*08:01:01\" & HLA_B2 == \"B*08:01:01\"), \"b8_01_hom\",\n",
    "                                   ifelse(HLA_B1 == \"B*08:01:01\" | HLA_B2 == \"B*08:01:01\",\"b8_01_het\",\n",
    "                                   \"Other\")))   %>% mutate(\n",
    "                      c7_b8 = ifelse(b8_01 == \"b8_01_hom\" & c7_01 == \"c7_01_hom\",\n",
    "                                     \"c7_b8_hom\", ifelse(c7_01 == \"c7_01_hom\", \"c7_01_hom\",\n",
    "                              ifelse(b8_01 == \"b8_01_hom\", \"b8_01_hom\", \n",
    "                              ifelse(b8_01 == \"b8_01_het\" & c7_01 == \"c7_01_het\",\n",
    "                                     \"c7_b8_het\", \n",
    "                                     \n",
    "                              ifelse(b8_01 == \"b8_01_het\", \"b8_01_het\", \n",
    "                              ifelse(c7_01 == \"c7_01_het\", \"c7_01_het\", \"Other\" )))))))  %>% \n",
    " dplyr::select(Sample_ID, c7_b8, b8_01, c7_01, dq2_8)  %>% \n",
    "unique\n"
   ]
  },
  {
   "cell_type": "code",
   "execution_count": null,
   "id": "285e7393",
   "metadata": {
    "scrolled": true
   },
   "outputs": [],
   "source": [
    "md_HLA_cd4"
   ]
  },
  {
   "cell_type": "code",
   "execution_count": null,
   "id": "4ec14b3b",
   "metadata": {},
   "outputs": [],
   "source": [
    "md_HLA_cd4$Sample_ID  <- paste0(\"g\", md_HLA_cd4$Sample_ID)"
   ]
  },
  {
   "cell_type": "code",
   "execution_count": null,
   "id": "431601a5",
   "metadata": {},
   "outputs": [],
   "source": [
    "new_md  <- left_join(aggexp_cd4@meta.data, md_HLA_cd4)"
   ]
  },
  {
   "cell_type": "code",
   "execution_count": null,
   "id": "578b673a",
   "metadata": {},
   "outputs": [],
   "source": [
    "rownames(new_md)  <- colnames(aggexp_cd4)"
   ]
  },
  {
   "cell_type": "code",
   "execution_count": null,
   "id": "ffd7201b",
   "metadata": {
    "scrolled": true
   },
   "outputs": [],
   "source": [
    "new_md"
   ]
  },
  {
   "cell_type": "code",
   "execution_count": null,
   "id": "0afe418a",
   "metadata": {
    "scrolled": true
   },
   "outputs": [],
   "source": [
    "aggexp_cd4@meta.data  <- new_md"
   ]
  },
  {
   "cell_type": "code",
   "execution_count": null,
   "id": "b8f7bf40",
   "metadata": {},
   "outputs": [],
   "source": [
    "Idents(aggexp_cd4)  <- aggexp_cd4$dq2_8"
   ]
  },
  {
   "cell_type": "code",
   "execution_count": null,
   "id": "632e1a8a",
   "metadata": {},
   "outputs": [],
   "source": [
    "mrk_dq2_8_cd4  <- FindAllMarkers(aggexp_cd4)"
   ]
  },
  {
   "cell_type": "code",
   "execution_count": null,
   "id": "0a6ab607",
   "metadata": {
    "scrolled": true
   },
   "outputs": [],
   "source": [
    "mrk_dq2_8_cd4  %>% arrange(p_val_adj)  %>% dplyr::filter(cluster == \"DQ2_8\")"
   ]
  },
  {
   "cell_type": "code",
   "execution_count": null,
   "id": "c1a90ed6",
   "metadata": {},
   "outputs": [],
   "source": [
    "mrk_dq2_8_cd4  %>% arrange(p_val_adj)  %>% group_by(cluster)  %>% \n",
    "slice_head(n = 5)"
   ]
  },
  {
   "cell_type": "code",
   "execution_count": null,
   "id": "1381d36a",
   "metadata": {},
   "outputs": [],
   "source": [
    "mrk_dq2_8_cd4  %>% arrange(p_val_adj)  %>% dplyr::filter(gene == \"BTN3A2\")"
   ]
  },
  {
   "cell_type": "code",
   "execution_count": null,
   "id": "e3fd8b20",
   "metadata": {},
   "outputs": [],
   "source": [
    "genes_to_plot  <- mrk_dq2_8_cd4  %>% arrange(p_val_adj)  %>% dplyr::filter(cluster == \"DQ2_8\")  %>% pull(gene)"
   ]
  },
  {
   "cell_type": "code",
   "execution_count": null,
   "id": "f8401ee8",
   "metadata": {},
   "outputs": [],
   "source": [
    "options(repr.plot.width = 12, repr.plot.height = 9)\n",
    "VlnPlot(aggexp_cd4, group.by = \"dq2_8\", features = genes_to_plot[1:12], ncol = 4)"
   ]
  },
  {
   "cell_type": "code",
   "execution_count": null,
   "id": "20179059",
   "metadata": {},
   "outputs": [],
   "source": [
    "Idents(aggexp_cd4)  <- aggexp_cd4$c7_b8"
   ]
  },
  {
   "cell_type": "code",
   "execution_count": null,
   "id": "abd43d12",
   "metadata": {},
   "outputs": [],
   "source": [
    "mrk_c7_b8_cd4  <- FindAllMarkers(aggexp_cd4)"
   ]
  },
  {
   "cell_type": "code",
   "execution_count": null,
   "id": "06096ace",
   "metadata": {
    "scrolled": true
   },
   "outputs": [],
   "source": [
    "mrk_c7_b8_cd4"
   ]
  },
  {
   "cell_type": "code",
   "execution_count": null,
   "id": "9b9e2ffb",
   "metadata": {
    "scrolled": true
   },
   "outputs": [],
   "source": [
    "mrk_c7_b8_cd4  %>% arrange(p_val_adj)  %>% dplyr::filter(cluster == \"c7_b8_hom\")"
   ]
  },
  {
   "cell_type": "code",
   "execution_count": null,
   "id": "7993f86a",
   "metadata": {},
   "outputs": [],
   "source": [
    "mrk_c7_b8_cd4  %>% arrange(p_val_adj)  %>% group_by(cluster)  %>% \n",
    "slice_head(n = 5)"
   ]
  },
  {
   "cell_type": "code",
   "execution_count": null,
   "id": "2efeaae3",
   "metadata": {},
   "outputs": [],
   "source": [
    "mrk_c7_b8_cd4  %>% arrange(p_val_adj)  %>% dplyr::filter(gene == \"BTN3A2\")"
   ]
  },
  {
   "cell_type": "code",
   "execution_count": null,
   "id": "8c673d07",
   "metadata": {},
   "outputs": [],
   "source": [
    "genes_to_plot  <- mrk_c7_b8_cd4  %>% arrange(p_val_adj)  %>% dplyr::filter(cluster == \"Other\")  %>% pull(gene)"
   ]
  },
  {
   "cell_type": "code",
   "execution_count": null,
   "id": "8a17678a",
   "metadata": {},
   "outputs": [],
   "source": [
    "options(repr.plot.width = 12, repr.plot.height = 4)\n",
    "VlnPlot(aggexp_cd4, group.by = \"c7_b8\", features = c(\"BTN3A2\",\"DDIT4L\"), ncol = 4)"
   ]
  },
  {
   "cell_type": "markdown",
   "id": "18c0181a",
   "metadata": {},
   "source": [
    "## CD8"
   ]
  },
  {
   "cell_type": "code",
   "execution_count": null,
   "id": "10f2fef8",
   "metadata": {},
   "outputs": [],
   "source": [
    "genes  <- rownames(cd8_l1_full_filt_sub@assays$RNA)"
   ]
  },
  {
   "cell_type": "code",
   "execution_count": null,
   "id": "efe09b80",
   "metadata": {},
   "outputs": [],
   "source": [
    "genes_filt  <- genes[!(grepl(genes, pattern = \"^MT\")|\n",
    "                            grepl(genes, pattern = \"\\\\.\")|\n",
    "                            grepl(genes, pattern = \"LINC\")|\n",
    "                            grepl(genes, pattern = \"^MIR\")|\n",
    "                            grepl(genes, pattern = \"^MT\")|\n",
    "                            grepl(genes, pattern = \"HNRNP\")|\n",
    "                            grepl(genes, pattern = \"^RP[LS]\")|\n",
    "                            grepl(genes, pattern = \"\\\\-\")|\n",
    "                            grepl(genes, pattern = \"TTTY\")|\n",
    "                            grepl(genes, pattern = \"ORF\")|\n",
    "                            grepl(genes, pattern = \"orf\"))\n",
    "                            ]"
   ]
  },
  {
   "cell_type": "code",
   "execution_count": null,
   "id": "57ac3f19",
   "metadata": {},
   "outputs": [],
   "source": [
    "aggexp_cd8  <- AggregateExpression(cd8_l1_full_filt_sub, group.by = c(\"Sample_ID\"), \n",
    "                                  features = genes_filt, return.seurat = T, assay = \"RNA\")"
   ]
  },
  {
   "cell_type": "code",
   "execution_count": null,
   "id": "5ab3a8da",
   "metadata": {},
   "outputs": [],
   "source": []
  },
  {
   "cell_type": "code",
   "execution_count": null,
   "id": "fbfbcfe8",
   "metadata": {},
   "outputs": [],
   "source": [
    "md_HLA_cd8  <- cd8_l1_full_filt_sub@meta.data  %>% mutate(dq2 = ifelse((HLA_DQA11 == \"DQA1*05:01:01\" | HLA_DQA12 == \"DQA1*05:01:01\") &\n",
    "                                   (HLA_DQB11 == \"DQB1*02:01:01\" | HLA_DQB12 == \"DQB1*02:01:01\"),\"DQ2\",\n",
    "                                   \"Other\"),\n",
    "                      dq8 = ifelse((HLA_DQA11 == \"DQA1*03:01:01\" | HLA_DQA12 == \"DQA1*03:01:01\") &\n",
    "                                   (HLA_DQB11 == \"DQB1*03:02:01\" | HLA_DQB12 == \"DQB1*03:02:01\"),\"DQ8\",\n",
    "                                   \"Other\"))  %>% mutate(\n",
    "                      dq2_8 = ifelse(dq2 == \"DQ2\" & dq8 == \"DQ8\",\"DQ2_8\",\n",
    "                                     ifelse(dq2 == \"DQ2\",\"DQ2\", ifelse(dq8 == \"DQ8\",\"DQ8\",\"Other\"))))  %>% \n",
    "mutate(c7_01 = ifelse((HLA_C1 == \"C*07:01:01\" & HLA_C2 == \"C*07:01:01\"), \"c7_01_hom\",\n",
    "                                   ifelse(HLA_C1 == \"C*07:01:01\" | HLA_C2 == \"C*07:01:01\",\"c7_01_het\",\n",
    "                                   \"Other\")),\n",
    "                      b8_01 = ifelse((HLA_B1 == \"B*08:01:01\" & HLA_B2 == \"B*08:01:01\"), \"b8_01_hom\",\n",
    "                                   ifelse(HLA_B1 == \"B*08:01:01\" | HLA_B2 == \"B*08:01:01\",\"b8_01_het\",\n",
    "                                   \"Other\")))   %>% mutate(\n",
    "                      c7_b8 = ifelse(b8_01 == \"b8_01_hom\" & c7_01 == \"c7_01_hom\",\n",
    "                                     \"c7_b8_hom\", ifelse(c7_01 == \"c7_01_hom\", \"c7_01_hom\",\n",
    "                              ifelse(b8_01 == \"b8_01_hom\", \"b8_01_hom\", \n",
    "                              ifelse(b8_01 == \"b8_01_het\" & c7_01 == \"c7_01_het\",\n",
    "                                     \"c7_b8_het\", \n",
    "                                     \n",
    "                              ifelse(b8_01 == \"b8_01_het\", \"b8_01_het\", \n",
    "                              ifelse(c7_01 == \"c7_01_het\", \"c7_01_het\", \"Other\" )))))))  %>% \n",
    " dplyr::select(Sample_ID, c7_b8, b8_01, c7_01, dq2_8)  %>% \n",
    "unique\n"
   ]
  },
  {
   "cell_type": "code",
   "execution_count": null,
   "id": "f3854f9c",
   "metadata": {
    "scrolled": true
   },
   "outputs": [],
   "source": [
    "md_HLA_cd8"
   ]
  },
  {
   "cell_type": "code",
   "execution_count": null,
   "id": "5ed59ee1",
   "metadata": {},
   "outputs": [],
   "source": [
    "md_HLA_cd8$Sample_ID  <- paste0(\"g\", md_HLA_cd8$Sample_ID)"
   ]
  },
  {
   "cell_type": "code",
   "execution_count": null,
   "id": "14bd14cb",
   "metadata": {},
   "outputs": [],
   "source": [
    "new_md  <- left_join(aggexp_cd8@meta.data, md_HLA_cd8)"
   ]
  },
  {
   "cell_type": "code",
   "execution_count": null,
   "id": "3ea6923a",
   "metadata": {},
   "outputs": [],
   "source": [
    "rownames(new_md)  <- colnames(aggexp_cd8)"
   ]
  },
  {
   "cell_type": "code",
   "execution_count": null,
   "id": "b59aa3de",
   "metadata": {
    "scrolled": true
   },
   "outputs": [],
   "source": [
    "new_md"
   ]
  },
  {
   "cell_type": "code",
   "execution_count": null,
   "id": "56c25634",
   "metadata": {
    "scrolled": true
   },
   "outputs": [],
   "source": [
    "aggexp_cd8@meta.data  <- new_md"
   ]
  },
  {
   "cell_type": "code",
   "execution_count": null,
   "id": "16672cf0",
   "metadata": {},
   "outputs": [],
   "source": [
    "Idents(aggexp_cd8)  <- aggexp_cd8$dq2_8"
   ]
  },
  {
   "cell_type": "code",
   "execution_count": null,
   "id": "1545410f",
   "metadata": {},
   "outputs": [],
   "source": [
    "mrk_dq2_8_cd8  <- FindAllMarkers(aggexp_cd8)"
   ]
  },
  {
   "cell_type": "code",
   "execution_count": null,
   "id": "b46c6eb1",
   "metadata": {
    "scrolled": true
   },
   "outputs": [],
   "source": [
    "mrk_dq2_8_cd8  %>% arrange(p_val_adj)  %>% dplyr::filter(cluster == \"DQ2_8\")"
   ]
  },
  {
   "cell_type": "code",
   "execution_count": null,
   "id": "e8325cf6",
   "metadata": {},
   "outputs": [],
   "source": [
    "mrk_dq2_8_cd8  %>% arrange(p_val_adj)  %>% group_by(cluster)  %>% \n",
    "slice_head(n = 5)"
   ]
  },
  {
   "cell_type": "code",
   "execution_count": null,
   "id": "22d4b5fd",
   "metadata": {},
   "outputs": [],
   "source": [
    "mrk_dq2_8_cd8  %>% arrange(p_val_adj)  %>% dplyr::filter(gene == \"BTN3A2\")"
   ]
  },
  {
   "cell_type": "code",
   "execution_count": null,
   "id": "2ad09a48",
   "metadata": {},
   "outputs": [],
   "source": [
    "genes_to_plot  <- mrk_dq2_8_cd8  %>% arrange(p_val_adj)  %>% dplyr::filter(cluster == \"DQ2_8\")  %>% pull(gene)"
   ]
  },
  {
   "cell_type": "code",
   "execution_count": null,
   "id": "7c24f0f1",
   "metadata": {},
   "outputs": [],
   "source": [
    "options(repr.plot.width = 12, repr.plot.height = 9)\n",
    "VlnPlot(aggexp_cd8, group.by = \"dq2_8\", features = genes_to_plot[1:12], ncol = 4)"
   ]
  },
  {
   "cell_type": "code",
   "execution_count": null,
   "id": "ce7a77d7",
   "metadata": {},
   "outputs": [],
   "source": [
    "Idents(aggexp_cd8)  <- aggexp_cd8$c7_b8"
   ]
  },
  {
   "cell_type": "code",
   "execution_count": null,
   "id": "1c655644",
   "metadata": {},
   "outputs": [],
   "source": [
    "mrk_c7_b8_cd8  <- FindAllMarkers(aggexp_cd8)"
   ]
  },
  {
   "cell_type": "code",
   "execution_count": null,
   "id": "40b08e09",
   "metadata": {
    "scrolled": true
   },
   "outputs": [],
   "source": [
    "mrk_c7_b8_cd8"
   ]
  },
  {
   "cell_type": "code",
   "execution_count": null,
   "id": "5f7d3d80",
   "metadata": {
    "scrolled": true
   },
   "outputs": [],
   "source": [
    "mrk_c7_b8_cd8  %>% arrange(p_val_adj)  %>% dplyr::filter(cluster == \"c7_b8_hom\")"
   ]
  },
  {
   "cell_type": "code",
   "execution_count": null,
   "id": "a9a3c203",
   "metadata": {},
   "outputs": [],
   "source": [
    "mrk_c7_b8_cd8  %>% arrange(p_val_adj)  %>% group_by(cluster)  %>% \n",
    "slice_head(n = 5)"
   ]
  },
  {
   "cell_type": "code",
   "execution_count": null,
   "id": "b86a5623",
   "metadata": {},
   "outputs": [],
   "source": [
    "mrk_c7_b8_cd8  %>% arrange(p_val_adj)  %>% dplyr::filter(gene == \"BTN3A2\")"
   ]
  },
  {
   "cell_type": "code",
   "execution_count": null,
   "id": "6f78d2af",
   "metadata": {},
   "outputs": [],
   "source": [
    "genes_to_plot  <- mrk_c7_b8_cd8  %>% arrange(p_val_adj)  %>% dplyr::filter(cluster == \"Other\")  %>% pull(gene)"
   ]
  },
  {
   "cell_type": "code",
   "execution_count": null,
   "id": "74472edd",
   "metadata": {},
   "outputs": [],
   "source": [
    "options(repr.plot.width = 12, repr.plot.height = 4)\n",
    "VlnPlot(aggexp_cd8, group.by = \"c7_b8\", features = c(\"BTN3A2\",\"DDIT4L\", \"IL17RA\"), ncol = 4)"
   ]
  },
  {
   "cell_type": "code",
   "execution_count": null,
   "id": "18ac478b",
   "metadata": {},
   "outputs": [],
   "source": [
    "cd4_l1_full_filt_sub"
   ]
  },
  {
   "cell_type": "code",
   "execution_count": null,
   "id": "b88176bf",
   "metadata": {},
   "outputs": [],
   "source": []
  },
  {
   "cell_type": "code",
   "execution_count": null,
   "id": "b16c3e11",
   "metadata": {},
   "outputs": [],
   "source": []
  },
  {
   "cell_type": "code",
   "execution_count": null,
   "id": "2f0429e5",
   "metadata": {},
   "outputs": [],
   "source": [
    "rm(cd4_l1_full_filt_sub)"
   ]
  },
  {
   "cell_type": "code",
   "execution_count": null,
   "id": "bb06ed8b",
   "metadata": {},
   "outputs": [],
   "source": [
    "rm(cd8_l1_full_filt_sub)"
   ]
  },
  {
   "cell_type": "markdown",
   "id": "a4c471fd",
   "metadata": {},
   "source": [
    "### CD8"
   ]
  },
  {
   "cell_type": "markdown",
   "id": "f701f8ad",
   "metadata": {},
   "source": [
    "### CD4"
   ]
  }
 ],
 "metadata": {
  "kernelspec": {
   "display_name": "R",
   "language": "R",
   "name": "ir"
  },
  "language_info": {
   "codemirror_mode": "r",
   "file_extension": ".r",
   "mimetype": "text/x-r-source",
   "name": "R",
   "pygments_lexer": "r",
   "version": "4.5.1"
  },
  "toc": {
   "base_numbering": 1,
   "nav_menu": {},
   "number_sections": true,
   "sideBar": true,
   "skip_h1_title": false,
   "title_cell": "Table of Contents",
   "title_sidebar": "Contents",
   "toc_cell": false,
   "toc_position": {},
   "toc_section_display": true,
   "toc_window_display": true
  }
 },
 "nbformat": 4,
 "nbformat_minor": 5
}
