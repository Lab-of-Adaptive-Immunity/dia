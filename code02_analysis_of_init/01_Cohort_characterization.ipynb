{
 "cells": [
  {
   "cell_type": "markdown",
   "id": "6ca0f66c",
   "metadata": {},
   "source": [
    "# Part 1: Cohort characterization"
   ]
  },
  {
   "cell_type": "markdown",
   "id": "05b8e203",
   "metadata": {},
   "source": [
    "In this document, we will focus on characterization of the clinical parameters of the cohorts obtained from routine blood tests. We will also visualize the metadata of the participants, such as disease state, age, sex, etc."
   ]
  },
  {
   "cell_type": "markdown",
   "id": "49d23bf4",
   "metadata": {},
   "source": [
    "## Reading and prep of data"
   ]
  },
  {
   "cell_type": "code",
   "execution_count": null,
   "id": "287904bc",
   "metadata": {
    "scrolled": true
   },
   "outputs": [],
   "source": [
    "source(\"diabetes_analysis_v07.R\")"
   ]
  },
  {
   "cell_type": "markdown",
   "id": "0fe9aa9b",
   "metadata": {},
   "source": [
    "Let's read the file with clinical metadata. "
   ]
  },
  {
   "cell_type": "code",
   "execution_count": null,
   "id": "bbb84239",
   "metadata": {},
   "outputs": [],
   "source": [
    "md  <- read_xlsx(\"../data/metadata_v07.xlsx\")"
   ]
  },
  {
   "cell_type": "code",
   "execution_count": null,
   "id": "732d0e6e",
   "metadata": {},
   "outputs": [],
   "source": [
    "md  %>% colnames"
   ]
  },
  {
   "cell_type": "markdown",
   "id": "4c9c8ab2",
   "metadata": {},
   "source": [
    "We will group the patients based on age, sex and disease status, which will allow visualization of other metadata in these groups later on."
   ]
  },
  {
   "cell_type": "code",
   "execution_count": null,
   "id": "1cf43be5",
   "metadata": {},
   "outputs": [],
   "source": [
    "options(repr.plot.width = 20)\n",
    "md  <- md %>% \n",
    "mutate(yy = 1)  %>% \n",
    "mutate(name = paste(substr(patient,1,1), age_group, sex, Patient_Time))  "
   ]
  },
  {
   "cell_type": "code",
   "execution_count": null,
   "id": "2dbf9393",
   "metadata": {},
   "outputs": [],
   "source": [
    "order(levels(factor(md$name)))"
   ]
  },
  {
   "cell_type": "code",
   "execution_count": null,
   "id": "be2b2922",
   "metadata": {},
   "outputs": [],
   "source": [
    "dir.create(\"../figures/cohort_characterization/basic_metadata/\", recursive = T)"
   ]
  },
  {
   "cell_type": "markdown",
   "id": "5f61cded",
   "metadata": {},
   "source": [
    "## Cohort characterization - descriptive statistics"
   ]
  },
  {
   "cell_type": "markdown",
   "id": "d9dd3f35",
   "metadata": {},
   "source": [
    "In  this section, we will create a summary statistics of participants of the study. "
   ]
  },
  {
   "cell_type": "code",
   "execution_count": null,
   "id": "012e0c5a",
   "metadata": {},
   "outputs": [],
   "source": [
    "md  %>% colnames"
   ]
  },
  {
   "cell_type": "markdown",
   "id": "8237477b",
   "metadata": {},
   "source": [
    "The groups can be identified from the donor IDs - those starting with 1 are T1D donors, those starting with 2 are Healthy donors. "
   ]
  },
  {
   "cell_type": "code",
   "execution_count": null,
   "id": "4d6188cf",
   "metadata": {},
   "outputs": [],
   "source": [
    "md  <- md  %>% mutate(group = ifelse(substr(patient,1,1)==1,\"T1D\",\"Healthy\"))"
   ]
  },
  {
   "cell_type": "code",
   "execution_count": null,
   "id": "05811e16",
   "metadata": {},
   "outputs": [],
   "source": [
    "md  %>% group_by(substr(patient,1,1), time_taken)  %>% \n",
    "summarise(mean_age = mean(age_taken, na.rm = TRUE),\n",
    "          sd_age = sd(age_taken, na.rm = TRUE))"
   ]
  },
  {
   "cell_type": "markdown",
   "id": "1643e25c",
   "metadata": {},
   "source": [
    "For easy exploratory analysis, we will use the [dlookr package](https://choonghyunryu.github.io/dlookr/articles/EDA.html). "
   ]
  },
  {
   "cell_type": "code",
   "execution_count": null,
   "id": "78a95907",
   "metadata": {
    "scrolled": true
   },
   "outputs": [],
   "source": [
    "library(dlookr)"
   ]
  },
  {
   "cell_type": "code",
   "execution_count": null,
   "id": "d60bc38b",
   "metadata": {},
   "outputs": [],
   "source": [
    "md  %>% group_by(group, time_taken)  %>% \n",
    "describe() "
   ]
  },
  {
   "cell_type": "code",
   "execution_count": null,
   "id": "3c1f3110",
   "metadata": {},
   "outputs": [],
   "source": [
    "colnames(md)"
   ]
  },
  {
   "cell_type": "markdown",
   "id": "e03d39a5",
   "metadata": {},
   "source": [
    "Let's describe continuous variables:"
   ]
  },
  {
   "cell_type": "code",
   "execution_count": null,
   "id": "81948fce",
   "metadata": {
    "scrolled": true
   },
   "outputs": [],
   "source": [
    "table_numeric  <- md  %>% group_by(group, time_taken)  %>% \n",
    "describe()  %>% \n",
    "dplyr::filter(described_variables %in% c(\"age_taken\", \"bmi_man\", \"hba1c_man\", \n",
    "                                         \"fasting_cpept_1\", \"gad_man\", \"iaa_man\", \"ia2_man\", \"znt8_man\",\n",
    "                                       \"lymph_abs\", \"mon_abs\", \"neutr_abs\", \"eoz_abs\", \"baz_abs\",\n",
    "                                         \"lymph_perc\", \"mon_perc\", \"neutr_perc\", \"eoz_perc\", \"baz_perc\"))  %>% \n",
    "dplyr::select(1:7)\n",
    "table_numeric"
   ]
  },
  {
   "cell_type": "code",
   "execution_count": null,
   "id": "f2b67c2a",
   "metadata": {},
   "outputs": [],
   "source": [
    "dir.create(\"../tables/cohort_characterization/\")"
   ]
  },
  {
   "cell_type": "code",
   "execution_count": null,
   "id": "652d6c61",
   "metadata": {},
   "outputs": [],
   "source": [
    "write.csv(table_numeric, \"../tables/cohort_characterization/table_numeric.csv\")"
   ]
  },
  {
   "cell_type": "markdown",
   "id": "92b39824",
   "metadata": {},
   "source": [
    "Testing differences between healthy and T1D:"
   ]
  },
  {
   "cell_type": "code",
   "execution_count": null,
   "id": "1a8da2ef",
   "metadata": {},
   "outputs": [],
   "source": [
    " md  %>% \n",
    "dplyr::select(group, time_taken, age_taken, bmi_man, hba1c_man, fasting_cpept_1,lymph_abs, mon_abs, neutr_abs, eoz_abs, baz_abs,\n",
    "                                         lymph_perc, mon_perc, neutr_perc, eoz_perc, baz_perc)  %>% \n",
    "dplyr::filter(time_taken == \"T0\")  %>% \n",
    "pivot_longer(cols = c(3:16), names_to = \"variable\", values_to = \"value\")  %>% \n",
    "group_by(variable)  %>% \n",
    "rstatix::wilcox_test(value ~ group)"
   ]
  },
  {
   "cell_type": "code",
   "execution_count": null,
   "id": "6dc637ef",
   "metadata": {
    "scrolled": true
   },
   "outputs": [],
   "source": [
    " md  %>% \n",
    "dplyr::select(group, time_taken, age_taken, bmi_man, hba1c_man, fasting_cpept_1,lymph_abs, mon_abs, neutr_abs, eoz_abs, baz_abs,\n",
    "                                         lymph_perc, mon_perc, neutr_perc, eoz_perc, baz_perc)  %>% \n",
    "dplyr::filter(time_taken == \"T0\")"
   ]
  },
  {
   "cell_type": "markdown",
   "id": "a398941d",
   "metadata": {},
   "source": [
    "For categorical variables we will summarize sex and HLA haplotypes. We will use the columns of metadata representing HLA allele typing from raw fastq reads to assemble the HLA-DQ2 HLA-DQ8 genotypes."
   ]
  },
  {
   "cell_type": "code",
   "execution_count": null,
   "id": "9fe09228",
   "metadata": {
    "scrolled": true
   },
   "outputs": [],
   "source": [
    "table_category  <- md  %>% group_by(group, time_taken)  %>% \n",
    " mutate(dq2 = ifelse((HLA_DQA11 == \"DQA1*05:01:01\" | HLA_DQA12 == \"DQA1*05:01:01\") &\n",
    "                                   (HLA_DQB11 == \"DQB1*02:01:01\" | HLA_DQB12 == \"DQB1*02:01:01\"),\"DQ2\",\n",
    "                                   \"Other\"),\n",
    "                      dq8 = ifelse((HLA_DQA11 == \"DQA1*03:01:01\" | HLA_DQA12 == \"DQA1*03:01:01\") &\n",
    "                                   (HLA_DQB11 == \"DQB1*03:02:01\" | HLA_DQB12 == \"DQB1*03:02:01\"),\"DQ8\",\n",
    "                                   \"Other\"))  %>% \n",
    "mutate(dq2_8 = ifelse(dq2 == \"DQ2\" & dq8 == \"DQ8\",\"DQ2_8\",\n",
    "                                     ifelse(dq2 == \"DQ2\",\"DQ2\", ifelse(dq8 == \"DQ8\",\"DQ8\",\"Other\"))))  %>% \n",
    "diagnose_category(sex, dq2, dq8, dq2_8) \n",
    "\n",
    "table_category"
   ]
  },
  {
   "cell_type": "code",
   "execution_count": null,
   "id": "85bfe7c7",
   "metadata": {},
   "outputs": [],
   "source": [
    "write.csv(table_category, \"../tables/cohort_characterization/table_category.csv\")"
   ]
  },
  {
   "cell_type": "markdown",
   "id": "a1e8b0b9",
   "metadata": {},
   "source": [
    "# Fig. 1: Schematic diagram"
   ]
  },
  {
   "cell_type": "markdown",
   "id": "3e9215f4",
   "metadata": {},
   "source": [
    "In this part, we will create a diagram that visualizes the cohort characteristics in Fig 1 of the manuscript."
   ]
  },
  {
   "cell_type": "markdown",
   "id": "8793ce13",
   "metadata": {},
   "source": [
    "## Autoantibodies - levels"
   ]
  },
  {
   "cell_type": "code",
   "execution_count": null,
   "id": "d07d7895",
   "metadata": {},
   "outputs": [],
   "source": [
    "options(repr.plot.width = 20, repr.plot.height = 3)\n",
    "\n",
    "md  %>% filter(time_taken == \"T0\")  %>% \n",
    "ggplot(aes(x = name, y = yy)) + geom_point(aes(size = gad_man, colour = gad_man)) + \n",
    "scale_color_gradientn(colors = c(\"grey50\",\"indianred1\", \"indianred2\", \"indianred3\")) +\n",
    "  theme_bw() + theme(axis.text.x = element_blank(),\n",
    "                    axis.text.y = element_blank(),\n",
    "                    axis.ticks = element_blank(),\n",
    "                    panel.grid = element_blank(),\n",
    "                    ) + ggtitle(\"GAD\") + NoLegend()\n",
    "ggsave(\"../figures/cohort_characterization/basic_metadata/gad.svg\", width = 23, height = 3, units = \"cm\")"
   ]
  },
  {
   "cell_type": "code",
   "execution_count": null,
   "id": "546d24aa",
   "metadata": {},
   "outputs": [],
   "source": [
    "options(repr.plot.width = 20, repr.plot.height = 3)\n",
    "\n",
    "md  %>% filter(time_taken == \"T0\")  %>% \n",
    "ggplot(aes(x = name, y = yy)) + geom_point(aes(size = iaa_man, colour = iaa_man)) + \n",
    "scale_color_gradientn(colors = c(\"grey50\",\"indianred1\", \"indianred2\", \"indianred3\")) +\n",
    "   theme_bw() + theme(axis.text.x = element_blank(),\n",
    "                    axis.text.y = element_blank(),\n",
    "                    axis.ticks = element_blank(),\n",
    "                    panel.grid = element_blank(),\n",
    "                    ) + ggtitle(\"IAA\") + NoLegend()\n",
    "ggsave(\"../figures/cohort_characterization/basic_metadata/iaa.svg\", width = 23, height = 3, units = \"cm\")"
   ]
  },
  {
   "cell_type": "code",
   "execution_count": null,
   "id": "3ef0fe24",
   "metadata": {},
   "outputs": [],
   "source": [
    "md  %>% filter(time_taken == \"T0\")  %>% \n",
    "ggplot(aes(x = name, y = yy)) + geom_point(aes(size = ia2_man, colour = ia2_man)) + \n",
    "scale_color_gradientn(colors = c(\"grey50\",\"indianred1\", \"indianred2\", \"indianred3\")) +\n",
    "   theme_bw() + theme(axis.text.x = element_blank(),\n",
    "                    axis.text.y = element_blank(),\n",
    "                    axis.ticks = element_blank(),\n",
    "                    panel.grid = element_blank(),\n",
    "                    ) + ggtitle(\"IA2\") + NoLegend()\n",
    "ggsave(\"../figures/cohort_characterization/basic_metadata/ia2.svg\", width = 23, height = 3, units = \"cm\")"
   ]
  },
  {
   "cell_type": "code",
   "execution_count": null,
   "id": "8a7b5bcc",
   "metadata": {},
   "outputs": [],
   "source": [
    "md  %>% filter(time_taken == \"T0\")  %>% \n",
    "ggplot(aes(x = name, y = yy)) + geom_point(aes(size = znt8_man, colour = znt8_man)) + \n",
    "scale_color_gradientn(colors = c(\"grey50\",\"indianred1\", \"indianred2\", \"indianred3\")) +\n",
    "  theme_bw() + theme(axis.text.x = element_blank(),\n",
    "                    axis.text.y = element_blank(),\n",
    "                    axis.ticks = element_blank(),\n",
    "                    panel.grid = element_blank(),\n",
    "                    ) + ggtitle(\"ZNT8\") + NoLegend()\n",
    "ggsave(\"../figures/cohort_characterization/basic_metadata/znt8.svg\", width = 23, height = 3, units = \"cm\")"
   ]
  },
  {
   "cell_type": "markdown",
   "id": "6b689a5c",
   "metadata": {},
   "source": [
    "## Autoantibodies - positive/negative"
   ]
  },
  {
   "cell_type": "code",
   "execution_count": null,
   "id": "580babbd",
   "metadata": {
    "scrolled": true
   },
   "outputs": [],
   "source": [
    "md  %>% filter(time_taken == \"T0\")   %>% dplyr::select(gad_man)  %>% summary()"
   ]
  },
  {
   "cell_type": "code",
   "execution_count": null,
   "id": "8d7f2f53",
   "metadata": {},
   "outputs": [],
   "source": [
    "options(repr.plot.width = 20, repr.plot.height = 3)\n",
    "\n",
    "md  %>% filter(time_taken == \"T0\")  %>% \n",
    "ggplot(aes(x = name, y = yy)) + geom_point(aes(size = gad_man>0.6, colour = gad_man>0.6)) + \n",
    "scale_color_manual(values = c(\"grey50\",\"indianred2\", \"indianred3\")) +\n",
    "scale_size_manual(values = c(1,2.5)) +\n",
    "  theme_bw() + theme(axis.text.x = element_blank(),\n",
    "                    axis.text.y = element_blank(),\n",
    "                    axis.ticks = element_blank(),\n",
    "                    panel.grid = element_blank(),\n",
    "                    ) + ggtitle(\"GAD\") + NoLegend()\n",
    "ggsave(\"../figures/cohort_characterization/basic_metadata/gad_2.svg\", width = 23, height = 3, create.dir = TRUE, units = \"cm\")"
   ]
  },
  {
   "cell_type": "code",
   "execution_count": null,
   "id": "873348d0",
   "metadata": {
    "scrolled": true
   },
   "outputs": [],
   "source": [
    "md  %>% filter(time_taken == \"T0\")   %>% dplyr::select(iaa_man)  %>% summary()"
   ]
  },
  {
   "cell_type": "code",
   "execution_count": null,
   "id": "f6c577a3",
   "metadata": {},
   "outputs": [],
   "source": [
    "options(repr.plot.width = 20, repr.plot.height = 3)\n",
    "\n",
    "md  %>% filter(time_taken == \"T0\")  %>% \n",
    "ggplot(aes(x = name, y = yy)) + geom_point(aes(size = iaa_man>0.2, colour = iaa_man>0.2)) + \n",
    "scale_color_manual(values = c(\"grey50\",\"indianred2\", \"indianred3\")) +\n",
    "scale_size_manual(values = c(1,2.5)) +\n",
    "  theme_bw() + theme(axis.text.x = element_blank(),\n",
    "                    axis.text.y = element_blank(),\n",
    "                    axis.ticks = element_blank(),\n",
    "                    panel.grid = element_blank(),\n",
    "                    ) + ggtitle(\"IAA\") + NoLegend()\n",
    "ggsave(\"../figures/cohort_characterization/basic_metadata/iaa_2.svg\", width = 23, height = 3, units = \"cm\")"
   ]
  },
  {
   "cell_type": "code",
   "execution_count": null,
   "id": "7d96d9c7",
   "metadata": {
    "scrolled": true
   },
   "outputs": [],
   "source": [
    "md  %>% filter(time_taken == \"T0\")   %>% dplyr::select(ia2_man)  %>% summary()"
   ]
  },
  {
   "cell_type": "code",
   "execution_count": null,
   "id": "28d6b99a",
   "metadata": {},
   "outputs": [],
   "source": [
    "md  %>% filter(time_taken == \"T0\")  %>% \n",
    "ggplot(aes(x = name, y = yy)) + geom_point(aes(size = ia2_man>0.8, colour = ia2_man>0.8)) + \n",
    "scale_color_manual(values = c(\"grey50\",\"indianred2\", \"indianred3\")) +\n",
    "scale_size_manual(values = c(1,2.5)) +\n",
    "   theme_bw() + theme(axis.text.x = element_blank(),\n",
    "                    axis.text.y = element_blank(),\n",
    "                    axis.ticks = element_blank(),\n",
    "                    panel.grid = element_blank(),\n",
    "                    ) + ggtitle(\"IA2\") + NoLegend()\n",
    "ggsave(\"../figures/cohort_characterization/basic_metadata/ia2_2.svg\", width = 23, height = 3, units = \"cm\")"
   ]
  },
  {
   "cell_type": "code",
   "execution_count": null,
   "id": "ac004f33",
   "metadata": {
    "scrolled": true
   },
   "outputs": [],
   "source": [
    "md  %>% filter(time_taken == \"T0\")   %>% dplyr::select(znt8_man)  %>% summary()"
   ]
  },
  {
   "cell_type": "code",
   "execution_count": null,
   "id": "c7c54bd4",
   "metadata": {},
   "outputs": [],
   "source": [
    "md  %>% filter(time_taken == \"T0\")  %>% \n",
    "ggplot(aes(x = name, y = yy)) + geom_point(aes(size = znt8_man>15, colour = znt8_man>15)) + \n",
    "scale_color_manual(values = c(\"grey50\",\"indianred2\", \"indianred3\")) +\n",
    "scale_size_manual(values = c(1,2.5)) +\n",
    "  theme_bw() + theme(axis.text.x = element_blank(),\n",
    "                    axis.text.y = element_blank(),\n",
    "                    axis.ticks = element_blank(),\n",
    "                    panel.grid = element_blank(),\n",
    "                    ) + ggtitle(\"ZNT8\") + NoLegend()\n",
    "ggsave(\"../figures/cohort_characterization/basic_metadata/znt8_2.svg\", width = 23, height = 3, units = \"cm\")"
   ]
  },
  {
   "cell_type": "markdown",
   "id": "2e20d99a",
   "metadata": {},
   "source": [
    "## Categorical metadata"
   ]
  },
  {
   "cell_type": "code",
   "execution_count": null,
   "id": "4da79c8d",
   "metadata": {},
   "outputs": [],
   "source": [
    "md  %>% filter(time_taken == \"T0\")  %>% \n",
    "ggplot(aes(x = name, y = yy)) + geom_point(aes(colour = as.factor(age_group)), size = 4) + \n",
    "scale_color_manual(values = c(\"#afe9afff\",\"#37c837ff\", \"#217821ff\")) +\n",
    "  theme_bw() + theme(axis.text.x = element_blank(),\n",
    "                    axis.text.y = element_blank(),\n",
    "                    axis.ticks = element_blank(),\n",
    "                    panel.grid = element_blank(),\n",
    "                    ) + ggtitle(\"Age group\") + NoLegend()\n",
    "ggsave(\"../figures/cohort_characterization/basic_metadata/age.svg\", width = 23, height = 3, units = \"cm\")"
   ]
  },
  {
   "cell_type": "code",
   "execution_count": null,
   "id": "984133c6",
   "metadata": {},
   "outputs": [],
   "source": [
    "md  %>% filter(time_taken == \"T0\")  %>% \n",
    "ggplot(aes(x = name, y = yy)) + geom_point(aes(colour = as.factor(sex)), size = 4) + \n",
    "scale_color_manual(values = c(\"#ffbcf2ff\",\"#87cefaff\")) +\n",
    " theme_bw() + theme(axis.text.x = element_blank(),\n",
    "                    axis.text.y = element_blank(),\n",
    "                    axis.ticks = element_blank(),\n",
    "                    panel.grid = element_blank(),\n",
    "                    ) + ggtitle(\"Sex\") + NoLegend()\n",
    "ggsave(\"../figures/cohort_characterization/basic_metadata/sex.svg\", width = 23, height = 3, units = \"cm\")"
   ]
  },
  {
   "cell_type": "code",
   "execution_count": null,
   "id": "e1110fbf",
   "metadata": {},
   "outputs": [],
   "source": [
    "md  %>% filter(time_taken == \"T0\")  %>% \n",
    "ggplot(aes(x = name, y = yy)) + geom_point(aes(colour = as.factor(substr(patient,1,1))), size = 4) + \n",
    "scale_color_manual(values = c(\"indianred2\",\"dodgerblue3\")) +\n",
    "  theme_bw() + theme(axis.text.x = element_blank(),\n",
    "                    axis.text.y = element_blank(),\n",
    "                    axis.ticks = element_blank(),\n",
    "                    panel.grid = element_blank(),\n",
    "                    ) + ggtitle(\"Disease group\") + NoLegend()\n",
    "ggsave(\"../figures/cohort_characterization/basic_metadata/disease.svg\", width = 23, height = 3, units = \"cm\")"
   ]
  },
  {
   "cell_type": "code",
   "execution_count": null,
   "id": "557f7743",
   "metadata": {},
   "outputs": [],
   "source": [
    "colnames(md)"
   ]
  },
  {
   "cell_type": "code",
   "execution_count": null,
   "id": "081d8d5c",
   "metadata": {},
   "outputs": [],
   "source": [
    "md  <- md  %>% mutate(dq2 = ifelse((HLA_DQA11 == \"DQA1*05:01:01\" | HLA_DQA12 == \"DQA1*05:01:01\") &\n",
    "                                   (HLA_DQB11 == \"DQB1*02:01:01\" | HLA_DQB12 == \"DQB1*02:01:01\"),\"DQ2\",\n",
    "                                   \"Other\"),\n",
    "                      dq8 = ifelse((HLA_DQA11 == \"DQA1*03:01:01\" | HLA_DQA12 == \"DQA1*03:01:01\") &\n",
    "                                   (HLA_DQB11 == \"DQB1*03:02:01\" | HLA_DQB12 == \"DQB1*03:02:01\"),\"DQ8\",\n",
    "                                   \"Other\"))  %>% mutate(\n",
    "                      dq2_8 = ifelse(dq2 == \"DQ2\" & dq8 == \"DQ8\",\"DQ2_8\",\n",
    "                                     ifelse(dq2 == \"DQ2\",\"DQ2\", ifelse(dq8 == \"DQ8\",\"DQ8\",\"Other\"))))\n",
    "                     "
   ]
  },
  {
   "cell_type": "code",
   "execution_count": null,
   "id": "1a49e14f",
   "metadata": {
    "scrolled": true
   },
   "outputs": [],
   "source": [
    "md  %>% dplyr::select(patient, dq2, dq8, dq2_8)"
   ]
  },
  {
   "cell_type": "code",
   "execution_count": null,
   "id": "5e830a6b",
   "metadata": {},
   "outputs": [],
   "source": [
    "md  %>% filter(time_taken == \"T0\")  %>% \n",
    "ggplot(aes(x = name, y = yy)) + geom_point(aes(colour = as.factor(dq2_8)), size = 4) + \n",
    "scale_color_manual(values = c(\"#ff6a6aff\",\"#cd5555ff\",\"#ffaeb9ff\",\"grey50\")) +\n",
    "  theme_bw() + theme(axis.text.x = element_blank(),\n",
    "                    axis.text.y = element_blank(),\n",
    "                    axis.ticks = element_blank(),\n",
    "                    panel.grid = element_blank(),\n",
    "                    ) + ggtitle(\"DQ2\") + NoLegend()\n",
    "ggsave(\"../figures/cohort_characterization/basic_metadata/dq2.svg\", width = 23, height = 3, units = \"cm\")"
   ]
  },
  {
   "cell_type": "code",
   "execution_count": null,
   "id": "9406b8b7",
   "metadata": {},
   "outputs": [],
   "source": [
    "md  %>% colnames"
   ]
  },
  {
   "cell_type": "code",
   "execution_count": null,
   "id": "c69fed31",
   "metadata": {},
   "outputs": [],
   "source": [
    "md  %>% filter(time_taken == \"T0\")  %>% \n",
    "ggplot(aes(x = name, y = yy)) + geom_point(aes(colour = as.factor(part_remission_y_n)), size = 4) + \n",
    "scale_color_manual(values = c(\"#ffe680ff\",\"#eed7f4ff\",\"white\")) +\n",
    "  theme_bw() + theme(axis.text.x = element_blank(),\n",
    "                    axis.text.y = element_blank(),\n",
    "                    axis.ticks = element_blank(),\n",
    "                    panel.grid = element_blank(),\n",
    "                    ) + ggtitle(\"Remission\") \n",
    "ggsave(\"../figures/cohort_characterization/basic_metadata/remission.svg\", width = 23, height = 3, units = \"cm\")"
   ]
  },
  {
   "cell_type": "code",
   "execution_count": null,
   "id": "0428e687",
   "metadata": {},
   "outputs": [],
   "source": [
    "md  %>% filter(time_taken == \"T0\")  %>%\n",
    "mutate(Ketoacidosis = ifelse(ph_man<7.3,\"Keto_1\",\"Keto_0\"))  %>% \n",
    "ggplot(aes(x = name, y = yy)) + geom_point(aes(colour = as.factor(Ketoacidosis)), size = 4) + \n",
    "scale_color_manual(values = c(\"#bee5e1ff\",\"#f7c8baff\",\"white\")) +\n",
    "  theme_bw() + theme(axis.text.x = element_blank(),\n",
    "                    axis.text.y = element_blank(),\n",
    "                    axis.ticks = element_blank(),\n",
    "                    panel.grid = element_blank(),\n",
    "                    ) + ggtitle(\"Remission\") \n",
    "ggsave(\"../figures/cohort_characterization/basic_metadata/ketoacidosis.svg\", width = 23, height = 3, units = \"cm\")"
   ]
  },
  {
   "cell_type": "markdown",
   "id": "2b16999b",
   "metadata": {},
   "source": [
    "# Fig. S1: Blood test results"
   ]
  },
  {
   "cell_type": "markdown",
   "id": "9cb5a9e1",
   "metadata": {},
   "source": [
    "## Clinical metadata"
   ]
  },
  {
   "cell_type": "code",
   "execution_count": null,
   "id": "eaffe027",
   "metadata": {
    "scrolled": true
   },
   "outputs": [],
   "source": [
    "library(ggbeeswarm)\n",
    "library(ggpubr)\n",
    "ggtheme <- function() {\n",
    "  theme(\n",
    "    axis.text = element_text(size = 20),\n",
    "    axis.title = element_text(size = 20),\n",
    "      plot.title = element_text(size = 20),\n",
    "    text = element_text(size = 20, colour = \"black\", family = \"Arial\"),\n",
    "    legend.text = element_text(size = 20),\n",
    "    legend.key.size = unit(10, units = \"points\")) }"
   ]
  },
  {
   "cell_type": "code",
   "execution_count": null,
   "id": "cb335e8d",
   "metadata": {
    "scrolled": true
   },
   "outputs": [],
   "source": [
    "library(readxl)\n",
    "md <- read_excel(\"../data/metadata_v07.xlsx\")\n",
    "df <- as.data.frame(md)\n",
    "df"
   ]
  },
  {
   "cell_type": "code",
   "execution_count": null,
   "id": "feccc82a",
   "metadata": {},
   "outputs": [],
   "source": [
    "colnames(df)"
   ]
  },
  {
   "cell_type": "code",
   "execution_count": null,
   "id": "d551fd5d",
   "metadata": {},
   "outputs": [],
   "source": [
    "library(svglite)"
   ]
  },
  {
   "cell_type": "code",
   "execution_count": null,
   "id": "d0d2010c",
   "metadata": {},
   "outputs": [],
   "source": [
    "dir.create(\"../figures/cohort_characterization/blood_analysis/svg\", recursive = T)\n",
    "dir.create(\"../figures/cohort_characterization/blood_analysis/png\", recursive = T)"
   ]
  },
  {
   "cell_type": "code",
   "execution_count": null,
   "id": "4281d359",
   "metadata": {
    "scrolled": true
   },
   "outputs": [],
   "source": [
    "df"
   ]
  },
  {
   "cell_type": "code",
   "execution_count": null,
   "id": "21b6bf30",
   "metadata": {},
   "outputs": [],
   "source": [
    "df  %>% colnames"
   ]
  },
  {
   "cell_type": "code",
   "execution_count": null,
   "id": "9d160a25",
   "metadata": {
    "scrolled": true
   },
   "outputs": [],
   "source": [
    "plot_list <- list()\n",
    "j = 1\n",
    "\n",
    "for(i in c(7,21,22:32)){\n",
    "    \n",
    "  df_filt <- df %>% mutate(group = if_else(substr(patient,1,1)==\"1\",\"Dia\",\"Ctrl\")) %>% \n",
    "    mutate(group = paste(group, time_taken))\n",
    "     df_filt <- df_filt[,c(1:10,77,i)]\n",
    "  colnames(df_filt) <- c(colnames(df_filt[1:10]), \"group\",\"value\")\n",
    "  df_filt$value <- as.numeric(df_filt$value)\n",
    "\n",
    "    plot  <- df_filt  %>% \n",
    " ggplot(aes(x = group, y = value)) + \n",
    " geom_violin(alpha = 0.3, aes(fill = group), scale = \"width\") + \n",
    "stat_summary(fun = \"median\",\n",
    "               geom = \"crossbar\", \n",
    "               width = 0.75,\n",
    "               color = \"grey30\") +\n",
    "geom_beeswarm(size = 3, aes(fill = group), cex = 3, \n",
    "                shape = 21, color = \"black\", corral = \"random\") +\n",
    " stat_compare_means(label = \"p.format\") +\n",
    "scale_fill_manual(values = c(\"#1874cdff\",  \"#ee6363ff\", \"#c41515ff\",\"#eeb4b4ff\")) +\n",
    "scale_color_manual(values = c(\"dodgerblue3\",  \"#e54c4cff\", \"#aa2a2aff\",\"#e88989ff\")) +\n",
    "ylab(\"\") +\n",
    "  xlab(\"\") +\n",
    "  ylim(0,NA) +\n",
    "  theme_classic() +\n",
    "theme(strip.background = element_blank(), panel.grid = element_blank()) + \n",
    "  theme(axis.text = element_text(color = \"black\"),\n",
    "        axis.text.x = element_text(angle = 90),\n",
    "       axis.line = element_line(color = \"black\", size = 0.5),\n",
    "        axis.ticks.x = element_blank()) +\n",
    "  ggtitle(colnames(df)[i]) + ggtheme()\n",
    "    \n",
    "ggsave(paste0(\"../figures/cohort_characterization/blood_analysis/png/\",paste0(\"plot_\",i),\".png\"), create.dir = TRUE, width = 12, height = 10, units = \"cm\")\n",
    "ggsave(paste0(\"../figures/cohort_characterization/blood_analysis/svg/\",paste0(\"plot_\",i),\".svg\"), create.dir = TRUE, width = 12, height = 10, units = \"cm\")\n",
    "    \n",
    "    plot_list[[j]]  <- plot\n",
    "    \n",
    "    j = j+1\n",
    "}"
   ]
  },
  {
   "cell_type": "markdown",
   "id": "6cf68840",
   "metadata": {},
   "source": [
    "Paired statistics separately for the two groups"
   ]
  },
  {
   "cell_type": "code",
   "execution_count": null,
   "id": "04243a2b",
   "metadata": {},
   "outputs": [],
   "source": [
    "plot_list <- list()\n",
    "j = 1\n",
    "\n",
    "for(i in c(7,21,22:32)){\n",
    "    \n",
    "    df_filt <- df %>% mutate(Condition = if_else(substr(patient,1,1)==\"1\",\"Dia\",\"Ctrl\")) %>% \n",
    "    mutate(Condition = paste(Condition, time_taken))  %>% \n",
    "    mutate(Condition = ifelse(Condition == \"Ctrl T1\", \"Ctrl T0\", Condition))\n",
    "     df_filt <- df_filt[,c(1:10,77,i)]\n",
    "  colnames(df_filt) <- c(colnames(df_filt[1:10]), \"Condition\",\"value\")\n",
    "  df_filt$value <- as.numeric(df_filt$value)\n",
    "\n",
    "    plot  <- df_filt  %>% \n",
    " ggplot(aes(x = Condition, y = value)) + \n",
    " geom_violin(alpha = 0.3, aes(fill = Condition), scale = \"width\") + \n",
    "stat_summary(fun = \"median\",\n",
    "               geom = \"crossbar\", \n",
    "               width = 0.75,\n",
    "               color = \"grey30\") +\n",
    "geom_beeswarm(size = 3, aes(fill = Condition), cex = 3, \n",
    "                shape = 21, color = \"black\", corral = \"random\") +\n",
    "ggpubr::stat_compare_means(label.x = 1.2, label.y.npc = \"top\", comparisons = list(c(1,2)), \n",
    "                           size = 5, vjust = 0.3, label = \"p.format\") +\n",
    "    scale_fill_manual(values = c(\"#1874cdff\",  \"#ee6363ff\", \"#c41515ff\",\"#eeb4b4ff\")) +\n",
    "scale_color_manual(values = c(\"dodgerblue3\",  \"#e54c4cff\", \"#aa2a2aff\",\"#e88989ff\")) +\n",
    "ylab(\"\") +\n",
    "  xlab(\"\") +\n",
    "  ylim(0,NA) +\n",
    "  theme_classic() +\n",
    "theme(strip.background = element_blank(), panel.grid = element_blank()) + \n",
    "  theme(axis.text = element_text(color = \"black\"),\n",
    "        axis.text.x = element_text(angle = 90),\n",
    "       axis.line = element_line(color = \"black\", size = 0.5),\n",
    "        axis.ticks.x = element_blank()) +\n",
    "  ggtitle(colnames(df)[i]) + ggtheme() + NoLegend()\n",
    "    \n",
    " ###############   \n",
    "        df_filt <- df %>% mutate(Condition = if_else(substr(patient,1,1)==\"1\",\"Dia\",\"Ctrl\")) %>% \n",
    "    mutate(Condition = paste(Condition, time_taken))  %>% \n",
    "    dplyr::filter(Condition %in% c(\"Dia T0\", \"Dia T1\"))\n",
    "     df_filt <- df_filt[,c(1:10,77,i)]\n",
    "  colnames(df_filt) <- c(colnames(df_filt[1:10]), \"Condition\",\"value\")\n",
    "  df_filt$value <- as.numeric(df_filt$value)\n",
    "    \n",
    "df_filt <- df_filt  %>% dplyr::select(patient, time_taken, value)  %>% \n",
    "pivot_wider(names_from = time_taken, values_from = value) \n",
    "colnames(df_filt)  <- c(\"Patient_ID\",\"Time0\",\"Time1\")\n",
    " df_filt <- df_filt %>% dplyr::filter(!is.na(Time1)&(!is.na(Time0)))\n",
    "    df_filt <- df_filt  %>% pivot_longer(!Patient_ID, names_to = \"TimePoint\", values_to = \"value\")\n",
    "    \n",
    "plot2 <- df_filt  %>% \n",
    "  ggplot(aes(x = TimePoint,\n",
    "             y = value)) +\n",
    "geom_violin(alpha = 0.3, scale = \"width\") + \n",
    "stat_summary(fun = \"median\",\n",
    "               geom = \"crossbar\", \n",
    "               width = 0.75,\n",
    "               color = \"grey30\") +\n",
    "geom_beeswarm(size = 3, cex = 3, \n",
    "                shape = 21, color = \"black\", corral = \"random\") +\n",
    "ggpubr::stat_compare_means(label.x = 1.2, label.y.npc = \"top\", paired = TRUE, \n",
    "                           size = 5, vjust = 0.3, label = \"p.format\") +\n",
    "scale_fill_manual(values = c(\"#ee6363ff\", \"#c41515ff\",\"#eeb4b4ff\")) +\n",
    "scale_color_manual(values = c(\"#e54c4cff\", \"#aa2a2aff\",\"#e88989ff\")) +\n",
    "ylab(\"\") +\n",
    "  xlab(\"\") +\n",
    "  ylim(0,NA) +\n",
    "  theme_classic() +\n",
    "theme(strip.background = element_blank(), panel.grid = element_blank()) + \n",
    "  theme(axis.text = element_text(color = \"black\"),\n",
    "        axis.text.x = element_text(angle = 90),\n",
    "       axis.line = element_line(color = \"black\", size = 0.5),\n",
    "        axis.ticks.x = element_blank()) +\n",
    "  ylim(0,NA)+\n",
    "  plot_annotation(\n",
    "    title = paste(stringr::str_replace_all(string = colnames(df)[i], pattern = \"/\", replacement = \"\\n\")) ,\n",
    "    theme = theme(plot.title = element_text(size = 8), \n",
    "                  plot.subtitle = element_text(size = 8),\n",
    "                 axis.text.x = element_blank())) + ggtheme() + NoLegend()\n",
    "  \n",
    "   plot  <- plot + plot2 \n",
    "    plot\n",
    " #################   \n",
    "    \n",
    "ggsave(paste0(\"../figures/cohort_characterization/blood_analysis/png_paired/\",paste0(\"plot_\",i),\".png\"), \n",
    "       width = 15, height = 10, units = \"cm\", create.dir = T)\n",
    "ggsave(paste0(\"../figures/cohort_characterization/blood_analysis/svg_paired/\",paste0(\"plot_\",i),\".svg\"), \n",
    "       width = 15, height = 10, units = \"cm\", create.dir = T)\n",
    "    \n",
    "    plot_list[[j]]  <- plot\n",
    "    \n",
    "    j = j+1\n",
    "}"
   ]
  },
  {
   "cell_type": "markdown",
   "id": "8a12ea32",
   "metadata": {},
   "source": [
    "## C-peptide correlations"
   ]
  },
  {
   "cell_type": "code",
   "execution_count": null,
   "id": "b2c01f0e",
   "metadata": {},
   "outputs": [],
   "source": [
    "df  %>% colnames"
   ]
  },
  {
   "cell_type": "code",
   "execution_count": null,
   "id": "6c3f3c18",
   "metadata": {
    "scrolled": true
   },
   "outputs": [],
   "source": [
    "options(repr.plot.width = 5, repr.plot.height = 5)\n",
    "  df %>%  ggplot(aes(x=fasting_cpept_1, y=fasting_cpept_T1)) +\n",
    "  geom_point(shape = 16, size = 2) +\n",
    " geom_smooth(method=lm) + ggtitle(\"\") +stat_cor() + theme_classic() + ggtheme() +\n",
    " scale_y_continuous() + \n",
    " scale_x_continuous(expand = c(0.05,0), limits = c(0,750))  \n"
   ]
  },
  {
   "cell_type": "code",
   "execution_count": null,
   "id": "c1c173c1",
   "metadata": {
    "scrolled": true
   },
   "outputs": [],
   "source": [
    "options(repr.plot.width = 5, repr.plot.height = 5)\n",
    "  df %>%  ggplot(aes(x=fasting_cpept_1, y=fasting_cpept_T1)) +\n",
    "  geom_point(shape = 16, size = 2, aes(color = factor(part_remission_y_n))) +\n",
    " geom_smooth(method=lm) + ggtitle(\"\") +stat_cor() + theme_classic() + ggtheme() +\n",
    " scale_y_continuous() + NoLegend() +\n",
    " scale_x_continuous(expand = c(0.05,0), limits = c(0,750))  \n",
    "\n",
    "ggsave(\"../figures/cohort_characterization/blood_analysis/png/corr_fasting_T0_T1.png\", \n",
    "       width = 10, height = 10, units = \"cm\")\n",
    "ggsave(\"../figures/cohort_characterization/blood_analysis/png/corr_fasting_T0_T1.svg\", \n",
    "       width = 10, height = 10, units = \"cm\")"
   ]
  },
  {
   "cell_type": "code",
   "execution_count": null,
   "id": "dd7fe1ed",
   "metadata": {
    "scrolled": true
   },
   "outputs": [],
   "source": [
    "options(repr.plot.width = 5, repr.plot.height = 5)\n",
    "\n",
    "df %>%  ggplot(aes(x=fasting_cpept_1, y=random_cpeptide_man)) +\n",
    "  geom_point(shape = 16, size = 2) +\n",
    " geom_smooth(method=lm) + ggtitle(\"\") +stat_cor() + theme_classic() + ggtheme() +\n",
    " scale_y_continuous() + \n",
    " scale_x_continuous(expand = c(0.05,0), limits = c(0,750))  \n",
    "\n",
    "ggsave(\"../figures/cohort_characterization/blood_analysis/png/corr_fasting_random.png\", \n",
    "       width = 10, height = 10, units = \"cm\")\n",
    "ggsave(\"../figures/cohort_characterization/blood_analysis/png/corr_fasting_random.svg\", \n",
    "       width = 10, height = 10, units = \"cm\")"
   ]
  },
  {
   "cell_type": "markdown",
   "id": "6bfb92a4",
   "metadata": {},
   "source": [
    "# Standardized mean difference dia vs healthy"
   ]
  },
  {
   "cell_type": "markdown",
   "id": "17af6a87",
   "metadata": {},
   "source": [
    "In this part, we will perform the standardized mean difference (SMD) analysis to show that cohort is balanced in terms of age. We will use the MatchIt package. "
   ]
  },
  {
   "cell_type": "code",
   "execution_count": null,
   "id": "40127e58",
   "metadata": {},
   "outputs": [],
   "source": [
    "library(MatchIt)"
   ]
  },
  {
   "cell_type": "code",
   "execution_count": null,
   "id": "246fd3e5",
   "metadata": {},
   "outputs": [],
   "source": [
    "md  <- read_xlsx(\"../data/metadata_v07.xlsx\")"
   ]
  },
  {
   "cell_type": "code",
   "execution_count": null,
   "id": "80e46acb",
   "metadata": {},
   "outputs": [],
   "source": [
    "md  %>% colnames"
   ]
  },
  {
   "cell_type": "code",
   "execution_count": null,
   "id": "89a536af",
   "metadata": {},
   "outputs": [],
   "source": [
    "md"
   ]
  },
  {
   "cell_type": "code",
   "execution_count": null,
   "id": "86fd1b82",
   "metadata": {},
   "outputs": [],
   "source": [
    "md_filt  <- md  %>% dplyr::filter(time_taken == \"T0\")  %>% \n",
    "mutate(condition = substr(patient,1,1))  %>% \n",
    "dplyr::select(age_taken, sex, condition)"
   ]
  },
  {
   "cell_type": "code",
   "execution_count": null,
   "id": "c48729dc",
   "metadata": {},
   "outputs": [],
   "source": [
    "md_filt$condition2  <- as.factor(md_filt$condition)\n",
    "md_filt$condition2  <- gsub(md_filt$condition2, pattern = \"2\", replacement = 0)"
   ]
  },
  {
   "cell_type": "code",
   "execution_count": null,
   "id": "5f8f5f0c",
   "metadata": {},
   "outputs": [],
   "source": [
    "md_filt$condition  <- NULL"
   ]
  },
  {
   "cell_type": "code",
   "execution_count": null,
   "id": "3ea9dbc3",
   "metadata": {},
   "outputs": [],
   "source": [
    "md_filt$condition2  <- as.numeric(md_filt$condition2)"
   ]
  },
  {
   "cell_type": "code",
   "execution_count": null,
   "id": "2b9cc3b9",
   "metadata": {},
   "outputs": [],
   "source": [
    "m.out0 <- matchit(condition2 ~ .,\n",
    "                  data = md_filt ,\n",
    "                  method = NULL,\n",
    "                  distance = \"glm\")\n",
    "\n",
    "summary(m.out0)"
   ]
  },
  {
   "cell_type": "code",
   "execution_count": null,
   "id": "160b50d2",
   "metadata": {},
   "outputs": [],
   "source": [
    "plot(summary(m.out0))\n"
   ]
  },
  {
   "cell_type": "code",
   "execution_count": null,
   "id": "12103869",
   "metadata": {},
   "outputs": [],
   "source": [
    "pdf(file = \"../figures/cohort_characterization/age_SMD.pdf\", width = 6, height = 4)\n",
    "plot(summary(m.out0))\n",
    "dev.off()"
   ]
  },
  {
   "cell_type": "code",
   "execution_count": null,
   "id": "12e9d395",
   "metadata": {},
   "outputs": [],
   "source": []
  },
  {
   "cell_type": "markdown",
   "id": "f904a794",
   "metadata": {},
   "source": [
    "# SessionInfo"
   ]
  },
  {
   "cell_type": "code",
   "execution_count": null,
   "id": "cd4bde7b",
   "metadata": {},
   "outputs": [],
   "source": [
    "sessionInfo()"
   ]
  }
 ],
 "metadata": {
  "kernelspec": {
   "display_name": "R",
   "language": "R",
   "name": "ir"
  },
  "language_info": {
   "codemirror_mode": "r",
   "file_extension": ".r",
   "mimetype": "text/x-r-source",
   "name": "R",
   "pygments_lexer": "r",
   "version": "4.5.1"
  },
  "toc": {
   "base_numbering": 1,
   "nav_menu": {},
   "number_sections": true,
   "sideBar": true,
   "skip_h1_title": false,
   "title_cell": "Table of Contents",
   "title_sidebar": "Contents",
   "toc_cell": false,
   "toc_position": {
    "height": "calc(100% - 180px)",
    "left": "10px",
    "top": "150px",
    "width": "364.2px"
   },
   "toc_section_display": true,
   "toc_window_display": true
  }
 },
 "nbformat": 4,
 "nbformat_minor": 5
}
