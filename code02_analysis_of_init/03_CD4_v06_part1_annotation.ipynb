{
 "cells": [
  {
   "cell_type": "markdown",
   "id": "9d4b6436",
   "metadata": {},
   "source": [
    "# Part 3: Processing CD4 datasets"
   ]
  },
  {
   "cell_type": "markdown",
   "id": "14aee8d0",
   "metadata": {},
   "source": [
    "In this document, we will load the preprocessed CD4 datasets, perform quality control, integration and annotation."
   ]
  },
  {
   "cell_type": "code",
   "execution_count": null,
   "id": "4bbb1e6e",
   "metadata": {
    "scrolled": true
   },
   "outputs": [],
   "source": [
    "source(\"diabetes_analysis_v07.R\")"
   ]
  },
  {
   "cell_type": "markdown",
   "id": "482ba0ac",
   "metadata": {},
   "source": [
    "# CD4 Initial experiment"
   ]
  },
  {
   "cell_type": "code",
   "execution_count": null,
   "id": "66651646",
   "metadata": {},
   "outputs": [],
   "source": [
    "plan(\"multisession\")"
   ]
  },
  {
   "cell_type": "markdown",
   "id": "11f05fbd",
   "metadata": {},
   "source": [
    "The init data are already preprocessed. Initial preprocessing was performed by Juraj Michalik. Briefly, files from CellRanger were loaded to Seurat, split according to hashtags, VDJ data from 10X immune profiling and Mixcr were added. The code for these analyses can be found at:  \n",
    "\n"
   ]
  },
  {
   "cell_type": "markdown",
   "id": "710d9c9c",
   "metadata": {},
   "source": [
    "To recapitulate the analysis, download the files and put it to the folder `data/initdata`."
   ]
  },
  {
   "cell_type": "code",
   "execution_count": null,
   "id": "a3a66f31",
   "metadata": {},
   "outputs": [],
   "source": [
    "paths  <- list.files(\"../data/initdata/\", full.names = T)"
   ]
  },
  {
   "cell_type": "code",
   "execution_count": null,
   "id": "da35bb3a",
   "metadata": {},
   "outputs": [],
   "source": [
    "paths"
   ]
  },
  {
   "cell_type": "markdown",
   "id": "538281b6",
   "metadata": {},
   "source": [
    "Let's load the datasets from initial experiment (exp 8, 10 and 11). Experiments 8 and 11 W1 only contained CD8 cells, so it is not loaded here."
   ]
  },
  {
   "cell_type": "code",
   "execution_count": null,
   "id": "da4ef785",
   "metadata": {},
   "outputs": [],
   "source": [
    "seu_list  <- future_map(paths[c(2,4)], readRDS)"
   ]
  },
  {
   "cell_type": "code",
   "execution_count": null,
   "id": "323f2ea6",
   "metadata": {},
   "outputs": [],
   "source": [
    "seu_list[[1]]$hashtags  %>% table"
   ]
  },
  {
   "cell_type": "markdown",
   "id": "9101322b",
   "metadata": {},
   "source": [
    "Experiment 10 contained both CD8 and CD4 cells, so we will filter out CD8 cells with hashtag #5."
   ]
  },
  {
   "cell_type": "code",
   "execution_count": null,
   "id": "d497905b",
   "metadata": {},
   "outputs": [],
   "source": [
    "exp10_cd4  <- subset(seu_list[[1]], hashtags != \"H5\")"
   ]
  },
  {
   "cell_type": "code",
   "execution_count": null,
   "id": "a955fa51",
   "metadata": {},
   "outputs": [],
   "source": [
    "seu_list[[1]] <- exp10_cd4"
   ]
  },
  {
   "cell_type": "code",
   "execution_count": null,
   "id": "58b0fb17",
   "metadata": {},
   "outputs": [],
   "source": [
    "cd4_prelim  <- scCustomize::Merge_Seurat_List(seu_list)"
   ]
  },
  {
   "cell_type": "markdown",
   "id": "8690e5b8",
   "metadata": {},
   "source": [
    "Lets perform basic preprocessing of the merged initial datasets."
   ]
  },
  {
   "cell_type": "code",
   "execution_count": null,
   "id": "5b34cbc7",
   "metadata": {},
   "outputs": [],
   "source": [
    "options(future.globals.maxSize = 10000 * 1024^2)\n",
    "plan(\"sequential\")"
   ]
  },
  {
   "cell_type": "code",
   "execution_count": null,
   "id": "9f1b35c1",
   "metadata": {
    "scrolled": true
   },
   "outputs": [],
   "source": [
    "DefaultAssay(cd4_prelim)  <- \"RNA\"\n",
    "cd4_prelim <- NormalizeData(cd4_prelim, verbose = FALSE)\n",
    "cd4_prelim <- ScaleData(cd4_prelim, verbose = FALSE)\n",
    "cd4_prelim <- FindVariableFeatures(cd4_prelim, nfeatures = 1000, verbose = FALSE)\n",
    "cd4_prelim <- RunPCA(cd4_prelim, npcs = 12, verbose = FALSE)\n",
    "cd4_prelim <- RunUMAP(cd4_prelim, reduction = \"pca\", dims = 1:12)"
   ]
  },
  {
   "cell_type": "code",
   "execution_count": null,
   "id": "ace4efe5",
   "metadata": {},
   "outputs": [],
   "source": [
    "cd4_prelim <- FindNeighbors(cd4_prelim, dims = 1:12)\n",
    "cd4_prelim <- FindClusters(cd4_prelim, resolution = 1)"
   ]
  },
  {
   "cell_type": "code",
   "execution_count": null,
   "id": "cad935cd",
   "metadata": {
    "scrolled": true
   },
   "outputs": [],
   "source": [
    "DimPlot(cd4_prelim, label = T)"
   ]
  },
  {
   "cell_type": "markdown",
   "id": "d772670e",
   "metadata": {},
   "source": [
    "Visualization of some of the basic genes."
   ]
  },
  {
   "cell_type": "code",
   "execution_count": null,
   "id": "c0c608ae",
   "metadata": {},
   "outputs": [],
   "source": [
    "options(repr.plot.width = 16, repr.plot.height = 8)\n",
    "FeaturePlot(cd4_prelim, features = c(\"MKI67\", \"LCK\", \"CD3G\", \"TYROBP\", \"CD14\", \"MKI67\", \"CD3D\", \"CD8A\"), ncol = 4)"
   ]
  },
  {
   "cell_type": "code",
   "execution_count": null,
   "id": "9c8e9149",
   "metadata": {},
   "outputs": [],
   "source": [
    "FeaturePlot(cd4_prelim, features = c(\"SELL\", \"CCR7\", \"IL7R\", \"ITGA4\", \"CCL5\", \"IFNG\"), ncol = 4)"
   ]
  },
  {
   "cell_type": "markdown",
   "id": "85bd586d",
   "metadata": {},
   "source": [
    "We can see that clusters 14 and 16 contain contaminating cells (no LCK, no CD3), so that we will remove it. "
   ]
  },
  {
   "cell_type": "code",
   "execution_count": null,
   "id": "42e02466",
   "metadata": {},
   "outputs": [],
   "source": [
    "cd4_prelim_filt  <- subset(cd4_prelim, seurat_clusters %in% c(0:13,15))\n",
    "cd4_prelim_filt <- NormalizeData(cd4_prelim_filt, verbose = FALSE)\n",
    "cd4_prelim_filt <- ScaleData(cd4_prelim_filt, verbose = FALSE)\n",
    "cd4_prelim_filt <- FindVariableFeatures(cd4_prelim_filt, nfeatures = 1000, verbose = FALSE)\n",
    "cd4_prelim_filt <- RunPCA(cd4_prelim_filt, npcs = 12, verbose = FALSE)\n",
    "cd4_prelim_filt <- RunUMAP(cd4_prelim_filt, reduction = \"pca\", dims = 1:12)\n",
    "cd4_prelim_filt <- FindNeighbors(cd4_prelim_filt, dims = 1:12)\n",
    "cd4_prelim_filt <- FindClusters(cd4_prelim_filt, resolution = 0.5)"
   ]
  },
  {
   "cell_type": "code",
   "execution_count": null,
   "id": "c6f53ea3",
   "metadata": {
    "scrolled": true
   },
   "outputs": [],
   "source": [
    "DimPlot(cd4_prelim_filt, label = T, label.size = 12)"
   ]
  },
  {
   "cell_type": "markdown",
   "id": "820ea98a",
   "metadata": {},
   "source": [
    "For purpose of visualization for Figure S2, where we show naive as nonNaive populations, we will annotate the naive and nonNaive populaitons."
   ]
  },
  {
   "cell_type": "code",
   "execution_count": null,
   "id": "c4337d40",
   "metadata": {},
   "outputs": [],
   "source": [
    "cd4_prelim_filt@meta.data  <- cd4_prelim_filt@meta.data  %>% \n",
    "mutate(naive_or_eff  = if_else(seurat_clusters %in% c(0,1,2,4,6,8),\"Naive\",\"NonNaive\"))"
   ]
  },
  {
   "cell_type": "code",
   "execution_count": null,
   "id": "d017893d",
   "metadata": {},
   "outputs": [],
   "source": [
    "options(repr.plot.width = 7, repr.plot.height = 5)\n",
    "DimPlot(cd4_prelim_filt, label = F, label.size = 12, group.by = \"naive_or_eff\", cols = c(\"dodgerblue1\",\"indianred2\"), \n",
    "        raster = TRUE, raster.dpi = c(900,900), pt.size = 5) + ggtheme()\n",
    "ggsave(\"../figures/preliminary/cd4_dimplot.svg\", width = 16, height = 12, units = \"cm\", create.dir = TRUE)"
   ]
  },
  {
   "cell_type": "code",
   "execution_count": null,
   "id": "7b1bcd75",
   "metadata": {},
   "outputs": [],
   "source": [
    "cd4_prelim_filt$prelim  <- \"Prelim\""
   ]
  },
  {
   "cell_type": "markdown",
   "id": "a6a35bfc",
   "metadata": {},
   "source": [
    "We will create a bar chart showing the percentage of nanive vs. nonNaive cells."
   ]
  },
  {
   "cell_type": "code",
   "execution_count": null,
   "id": "ea66e00a",
   "metadata": {
    "scrolled": true
   },
   "outputs": [],
   "source": [
    "cd4_prelim_filt@meta.data  %>% \n",
    "ggplot(aes(x = prelim, fill = naive_or_eff)) +\n",
    "  geom_bar(position = \"fill\") + \n",
    "scale_fill_manual(values = c(\"dodgerblue1\",\"indianred2\")) + \n",
    "theme_classic()+\n",
    "ggtheme() + ggtitle(\"CD4\")\n",
    "ggsave(\"../figures/preliminary/cd4_barplot.svg\", width = 10, height = 12, units = \"cm\", create.dir = TRUE)"
   ]
  },
  {
   "cell_type": "markdown",
   "id": "b9d7de2a",
   "metadata": {},
   "source": [
    "Now we will take advantage of the PTPRC isoform identification by Ideis software. We will visualize the PTPRC/RA and PTPRC/RO isoforms."
   ]
  },
  {
   "cell_type": "code",
   "execution_count": null,
   "id": "08f8c76c",
   "metadata": {},
   "outputs": [],
   "source": [
    "options(repr.plot.width = 6, repr.plot.height = 5)\n",
    "FeaturePlot(cd4_prelim_filt, features = c(\"PTPRC-RA\"), max.cutoff = 3, \n",
    "        raster = TRUE, raster.dpi = c(900,900), pt.size = 4) + ggtheme()\n",
    "ggsave(\"../figures/prelim/cd4_ptprc_ra.svg\", width = 13, height = 12, units = \"cm\", create.dir = TRUE)"
   ]
  },
  {
   "cell_type": "code",
   "execution_count": null,
   "id": "d7ab5ee4",
   "metadata": {},
   "outputs": [],
   "source": [
    "options(repr.plot.width = 6, repr.plot.height = 5)\n",
    "FeaturePlot(cd4_prelim_filt, features = c(\"PTPRC-RO\"), max.cutoff = 2, \n",
    "        raster = TRUE, raster.dpi = c(900,900), pt.size = 4) + ggtheme()\n",
    "ggsave(\"../figures/prelim/cd4_ptprc_ro.svg\", width = 13, height = 12, units = \"cm\", create.dir = TRUE)"
   ]
  },
  {
   "cell_type": "markdown",
   "id": "f5fd6e82",
   "metadata": {},
   "source": [
    "# CD4 Final experiment"
   ]
  },
  {
   "cell_type": "markdown",
   "id": "3558ea5d",
   "metadata": {},
   "source": [
    "We will now load the datasets from the final experiment (exp 16, 18, 19 and 20). CD4 and CD8 cells were processed in separate wells, so we will ensure that we will only load wells containing CD4 cells."
   ]
  },
  {
   "cell_type": "code",
   "execution_count": null,
   "id": "94af1e9c",
   "metadata": {},
   "outputs": [],
   "source": [
    "paths  <- list.files(\"../data/initdata/\", full.names = T)"
   ]
  },
  {
   "cell_type": "code",
   "execution_count": null,
   "id": "1f8c5108",
   "metadata": {},
   "outputs": [],
   "source": [
    "paths"
   ]
  },
  {
   "cell_type": "code",
   "execution_count": null,
   "id": "15e1106b",
   "metadata": {},
   "outputs": [],
   "source": [
    "seu_list  <- future_map(paths[c(5,6,10,12,14,16,18,20)], readRDS)"
   ]
  },
  {
   "cell_type": "code",
   "execution_count": null,
   "id": "61e1093e",
   "metadata": {},
   "outputs": [],
   "source": [
    "cd4_final  <- scCustomize::Merge_Seurat_List(seu_list)"
   ]
  },
  {
   "cell_type": "markdown",
   "id": "bae4c978",
   "metadata": {},
   "source": [
    "We will process the dataset using the same pipeline as the Initial dataset."
   ]
  },
  {
   "cell_type": "code",
   "execution_count": null,
   "id": "28eafdf1",
   "metadata": {},
   "outputs": [],
   "source": [
    "options(future.globals.maxSize = 10000 * 1024^2)\n",
    "plan(\"sequential\")"
   ]
  },
  {
   "cell_type": "code",
   "execution_count": null,
   "id": "e4c7742e",
   "metadata": {
    "scrolled": true
   },
   "outputs": [],
   "source": [
    "DefaultAssay(cd4_final)  <- \"RNA\"\n",
    "cd4_final <- NormalizeData(cd4_final, verbose = FALSE)\n",
    "cd4_final <- ScaleData(cd4_final, verbose = FALSE)\n",
    "cd4_final <- FindVariableFeatures(cd4_final, nfeatures = 1000, verbose = FALSE)\n",
    "cd4_final <- RunPCA(cd4_final, npcs = 12, verbose = FALSE)\n",
    "cd4_final <- RunUMAP(cd4_final, reduction = \"pca\", dims = 1:12)"
   ]
  },
  {
   "cell_type": "code",
   "execution_count": null,
   "id": "8155ec50",
   "metadata": {},
   "outputs": [],
   "source": [
    "cd4_final <- FindNeighbors(cd4_final, dims = 1:12)\n",
    "cd4_final <- FindClusters(cd4_final, resolution = 1)"
   ]
  },
  {
   "cell_type": "code",
   "execution_count": null,
   "id": "edbf67cb",
   "metadata": {
    "scrolled": true
   },
   "outputs": [],
   "source": [
    "DimPlot(cd4_final, label = T)"
   ]
  },
  {
   "cell_type": "markdown",
   "id": "8bbc4c0a",
   "metadata": {},
   "source": [
    "Visualization of some of the basic genes."
   ]
  },
  {
   "cell_type": "code",
   "execution_count": null,
   "id": "6f3b0702",
   "metadata": {},
   "outputs": [],
   "source": [
    "options(repr.plot.width = 16, repr.plot.height = 8)\n",
    "FeaturePlot(cd4_final, features = c(\"MKI67\", \"LCK\", \"CD3G\", \"TYROBP\", \"CD14\", \"MKI67\", \"CD3D\", \"CD8A\"), ncol = 4)"
   ]
  },
  {
   "cell_type": "code",
   "execution_count": null,
   "id": "d6ff6c79",
   "metadata": {},
   "outputs": [],
   "source": [
    "FeaturePlot(cd4_final, features = c(\"SELL\", \"CCR7\", \"IL7R\", \"ITGA4\", \"CCL5\", \"IFNG\"), ncol = 4)"
   ]
  },
  {
   "cell_type": "markdown",
   "id": "ec258345",
   "metadata": {},
   "source": [
    "We can see that clusters 12, 14, 15, 16 and 20 contain contaminating cells (no LCK, no CD3), so that we will remove it. "
   ]
  },
  {
   "cell_type": "code",
   "execution_count": null,
   "id": "a9fe2d2e",
   "metadata": {},
   "outputs": [],
   "source": [
    "cd4_final_filt  <- subset(cd4_final, seurat_clusters %in% c(0:11,13,17:19,21))\n",
    "cd4_final_filt <- NormalizeData(cd4_final_filt, verbose = FALSE)\n",
    "cd4_final_filt <- ScaleData(cd4_final_filt, verbose = FALSE)\n",
    "cd4_final_filt <- FindVariableFeatures(cd4_final_filt, nfeatures = 1000, verbose = FALSE)\n",
    "cd4_final_filt <- RunPCA(cd4_final_filt, npcs = 12, verbose = FALSE)\n",
    "cd4_final_filt <- RunUMAP(cd4_final_filt, reduction = \"pca\", dims = 1:12)\n",
    "cd4_final_filt <- FindNeighbors(cd4_final_filt, dims = 1:12)"
   ]
  },
  {
   "cell_type": "code",
   "execution_count": null,
   "id": "92159498",
   "metadata": {},
   "outputs": [],
   "source": [
    "cd4_final_filt <- FindClusters(cd4_final_filt, resolution = 0.8)"
   ]
  },
  {
   "cell_type": "code",
   "execution_count": null,
   "id": "14f980cd",
   "metadata": {
    "scrolled": true
   },
   "outputs": [],
   "source": [
    "DimPlot(cd4_final_filt, label = T, label.size = 12)"
   ]
  },
  {
   "cell_type": "code",
   "execution_count": null,
   "id": "99ee47e7",
   "metadata": {},
   "outputs": [],
   "source": [
    "FeaturePlot(cd4_final_filt, features = c(\"SELL\", \"CCR7\", \"IL7R\", \"ITGA4\", \"CCL5\", \"IFNG\"), ncol = 4)"
   ]
  },
  {
   "cell_type": "markdown",
   "id": "9a11f6f7",
   "metadata": {},
   "source": [
    "We will now again analyze the naive vs nonNaive composition and PTPRC isoforms for figure S2."
   ]
  },
  {
   "cell_type": "code",
   "execution_count": null,
   "id": "b676c093",
   "metadata": {},
   "outputs": [],
   "source": [
    "options(repr.plot.width = 6, repr.plot.height = 5)\n",
    "FeaturePlot(cd4_final_filt, features = c(\"PTPRC-RA\"), max.cutoff = 2, \n",
    "        raster = TRUE, raster.dpi = c(900,900), pt.size = 3) + ggtheme()\n",
    "ggsave(\"../figures/final/cd4_ptprc_ra.svg\", width = 13, height = 12, units = \"cm\", create.dir = TRUE)"
   ]
  },
  {
   "cell_type": "code",
   "execution_count": null,
   "id": "814705f5",
   "metadata": {},
   "outputs": [],
   "source": [
    "options(repr.plot.width = 6, repr.plot.height = 5)\n",
    "FeaturePlot(cd4_final_filt, features = c(\"PTPRC-RO\"), max.cutoff = 5, \n",
    "        raster = TRUE, raster.dpi = c(900,900), pt.size = 3) + ggtheme()\n",
    "ggsave(\"../figures/final/cd4_ptprc_ro.svg\", width = 13, height = 12, units = \"cm\", create.dir = TRUE)"
   ]
  },
  {
   "cell_type": "code",
   "execution_count": null,
   "id": "268fd61d",
   "metadata": {},
   "outputs": [],
   "source": [
    "cd4_final_filt@meta.data  <- cd4_final_filt@meta.data  %>% \n",
    "mutate(naive_or_eff  = if_else(seurat_clusters %in% c(1,2,5,15),\"Naive\",\"NonNaive\"))"
   ]
  },
  {
   "cell_type": "code",
   "execution_count": null,
   "id": "d824ea02",
   "metadata": {},
   "outputs": [],
   "source": [
    "options(repr.plot.width = 7, repr.plot.height = 5)\n",
    "DimPlot(cd4_final_filt, label = F, label.size = 12, group.by = \"naive_or_eff\", cols = c(\"dodgerblue1\",\"indianred2\"), \n",
    "        raster = TRUE, raster.dpi = c(900,900), pt.size = 4) + ggtheme()\n",
    "ggsave(\"../figures/final/cd4_dimplot.svg\", width = 16, height = 12, units = \"cm\", create.dir = TRUE)"
   ]
  },
  {
   "cell_type": "code",
   "execution_count": null,
   "id": "4df0917f",
   "metadata": {},
   "outputs": [],
   "source": [
    "cd4_final_filt$final  <- \"final\""
   ]
  },
  {
   "cell_type": "code",
   "execution_count": null,
   "id": "90b3ef13",
   "metadata": {
    "scrolled": true
   },
   "outputs": [],
   "source": [
    "cd4_final_filt@meta.data  %>% \n",
    "ggplot(aes(x = final, fill = naive_or_eff)) +\n",
    "  geom_bar(position = \"fill\") + \n",
    "scale_fill_manual(values = c(\"dodgerblue1\",\"indianred2\")) + \n",
    "theme_classic()+\n",
    "ggtheme() + ggtitle(\"CD4\")\n",
    "ggsave(\"../figures/final/cd4_barplot.svg\", width = 10, height = 12, units = \"cm\", create.dir = TRUE)"
   ]
  },
  {
   "cell_type": "markdown",
   "id": "09f08092",
   "metadata": {},
   "source": [
    "# CD4 Initial and final experiments"
   ]
  },
  {
   "cell_type": "markdown",
   "id": "5a43e3d6",
   "metadata": {},
   "source": [
    "We will now load all and merge all CD4 datasets. "
   ]
  },
  {
   "cell_type": "code",
   "execution_count": null,
   "id": "496fec36",
   "metadata": {},
   "outputs": [],
   "source": [
    "paths  <- list.files(\"../data/rawdata/\", full.names = T)"
   ]
  },
  {
   "cell_type": "code",
   "execution_count": null,
   "id": "fd5bd133",
   "metadata": {},
   "outputs": [],
   "source": [
    "paths"
   ]
  },
  {
   "cell_type": "code",
   "execution_count": null,
   "id": "0fa98e39",
   "metadata": {},
   "outputs": [],
   "source": [
    "seu_list  <- future_map(paths[c(2,4,5,6,10,12,14,16,18,20)], readRDS)"
   ]
  },
  {
   "cell_type": "code",
   "execution_count": null,
   "id": "018a5c20",
   "metadata": {},
   "outputs": [],
   "source": [
    "seu_list[[1]]$hashtags  %>% table"
   ]
  },
  {
   "cell_type": "code",
   "execution_count": null,
   "id": "6c6901cf",
   "metadata": {},
   "outputs": [],
   "source": [
    "exp10_cd4  <- subset(seu_list[[1]], hashtags != \"H5\")"
   ]
  },
  {
   "cell_type": "code",
   "execution_count": null,
   "id": "8550adb8",
   "metadata": {},
   "outputs": [],
   "source": [
    "seu_list[[1]] <- exp10_cd4"
   ]
  },
  {
   "cell_type": "code",
   "execution_count": null,
   "id": "8c7c73af",
   "metadata": {},
   "outputs": [],
   "source": [
    "seu_list[[1]]$Condition  %>% table"
   ]
  },
  {
   "cell_type": "code",
   "execution_count": null,
   "id": "305626ce",
   "metadata": {},
   "outputs": [],
   "source": [
    "cd4_full  <- scCustomize::Merge_Seurat_List(seu_list)"
   ]
  },
  {
   "cell_type": "code",
   "execution_count": null,
   "id": "76009382",
   "metadata": {},
   "outputs": [],
   "source": [
    "cd4_full"
   ]
  },
  {
   "cell_type": "markdown",
   "id": "0a3975e6",
   "metadata": {},
   "source": [
    "# Add metadata"
   ]
  },
  {
   "cell_type": "code",
   "execution_count": null,
   "id": "d837254b",
   "metadata": {},
   "outputs": [],
   "source": [
    "md_dia  <- read_xlsx(\"../data/metadata_v07.xlsx\")"
   ]
  },
  {
   "cell_type": "code",
   "execution_count": null,
   "id": "93c4031c",
   "metadata": {},
   "outputs": [],
   "source": [
    "md_dia  %>% colnames"
   ]
  },
  {
   "cell_type": "code",
   "execution_count": null,
   "id": "83141966",
   "metadata": {},
   "outputs": [],
   "source": [
    "cd4_full@meta.data  <- cd4_full@meta.data  %>% \n",
    "separate(Condition, into = c(\"Disease\", \"Time\"), remove = F, sep = \" \")  %>% \n",
    "mutate(Patient_Time = paste(Patient_ID, Time))\n",
    "\n",
    "cd4_full$Time  <- if_else(is.na(cd4_full$Time), \"T0\", cd4_full$Time)\n",
    "\n",
    "cd4_full$Sample_char  <- paste(cd4_full$Patient_ID, \n",
    "                                  cd4_full$Disease,\n",
    "                                  cd4_full$Time,\n",
    "                                  cd4_full$Age_group,\n",
    "                                  cd4_full$Sex,\n",
    "                                  cd4_full$Experiment_ID)"
   ]
  },
  {
   "cell_type": "code",
   "execution_count": null,
   "id": "5beb7de4",
   "metadata": {},
   "outputs": [],
   "source": [
    "md_seurat  <- cd4_full@meta.data"
   ]
  },
  {
   "cell_type": "code",
   "execution_count": null,
   "id": "6556ecb8",
   "metadata": {},
   "outputs": [],
   "source": [
    "colnames(md_seurat)"
   ]
  },
  {
   "cell_type": "code",
   "execution_count": null,
   "id": "c57ccf3b",
   "metadata": {},
   "outputs": [],
   "source": [
    "md_joined  <- left_join(md_seurat, md_dia)"
   ]
  },
  {
   "cell_type": "code",
   "execution_count": null,
   "id": "ae3fd2f4",
   "metadata": {},
   "outputs": [],
   "source": [
    "cd4_full@meta.data  <- md_joined\n",
    "rownames(cd4_full@meta.data)  <- colnames(cd4_full)"
   ]
  },
  {
   "cell_type": "markdown",
   "id": "f2666f83",
   "metadata": {},
   "source": [
    "# Quality control and filtering"
   ]
  },
  {
   "cell_type": "markdown",
   "id": "4cc00a78",
   "metadata": {},
   "source": [
    "## Removing low quality samples"
   ]
  },
  {
   "cell_type": "markdown",
   "id": "7adbb60d",
   "metadata": {},
   "source": [
    "Patient 206 was removed because of low quality of data on sort, suggesting of low quality of the frozen sample."
   ]
  },
  {
   "cell_type": "code",
   "execution_count": null,
   "id": "3a7950c9",
   "metadata": {},
   "outputs": [],
   "source": [
    "cd4_full  <- subset(cd4_full, Patient_ID != \"206\")"
   ]
  },
  {
   "cell_type": "markdown",
   "id": "19751333",
   "metadata": {},
   "source": [
    "Our dataset included three pre-diabetic cases which we did not include in the analysis. We will thus filter to keep only T1D patients and healthy donors. "
   ]
  },
  {
   "cell_type": "code",
   "execution_count": null,
   "id": "ca376bf2",
   "metadata": {},
   "outputs": [],
   "source": [
    "cd4_full$Disease  %>% table"
   ]
  },
  {
   "cell_type": "code",
   "execution_count": null,
   "id": "d50edd0a",
   "metadata": {},
   "outputs": [],
   "source": [
    "cd4_full  <- subset(cd4_full, Disease %in% c(\"Dia\", \"Ctrl\"))"
   ]
  },
  {
   "cell_type": "code",
   "execution_count": null,
   "id": "9b2ec990",
   "metadata": {},
   "outputs": [],
   "source": [
    "cd4_full$Disease  %>% table"
   ]
  },
  {
   "cell_type": "markdown",
   "id": "ac6440c7",
   "metadata": {},
   "source": [
    "We sampled three of the healthy donors twice. As the data from the second sampling were more similar to that of T1D patients (i.e., they were sampled in the same environment, and we have the associated metadata for routine blood testing which were not available from the first sampling), we will remove the old samples from first sampling and from now on we will only work with the second timepoint samples. "
   ]
  },
  {
   "cell_type": "code",
   "execution_count": null,
   "id": "567d1731",
   "metadata": {},
   "outputs": [],
   "source": [
    "cd4_full$Condition  %>% table"
   ]
  },
  {
   "cell_type": "code",
   "execution_count": null,
   "id": "46fc2bc8",
   "metadata": {},
   "outputs": [],
   "source": [
    "cd4_full$is_old_control  <-  ifelse(cd4_full$Patient_Time %in% c(\"201 T0\",\"202 T0\",\"204 T0\"), TRUE,FALSE)"
   ]
  },
  {
   "cell_type": "code",
   "execution_count": null,
   "id": "f65dbaa9",
   "metadata": {},
   "outputs": [],
   "source": [
    "cd4_full$is_old_control  %>% table"
   ]
  },
  {
   "cell_type": "code",
   "execution_count": null,
   "id": "757a564a",
   "metadata": {},
   "outputs": [],
   "source": [
    "cd4_full  <- subset(cd4_full, is_old_control == FALSE)"
   ]
  },
  {
   "cell_type": "code",
   "execution_count": null,
   "id": "2aea1863",
   "metadata": {},
   "outputs": [],
   "source": [
    "cd4_full$Condition  %>% table"
   ]
  },
  {
   "cell_type": "code",
   "execution_count": null,
   "id": "a9bd7a34",
   "metadata": {},
   "outputs": [],
   "source": [
    "cd4_full@meta.data  <- cd4_full@meta.data  %>% \n",
    "mutate(Time = ifelse(Patient_Time %in% c(\"201 T1\",\"202 T1\",\"204 T1\"), \"T0\", Time))  %>% \n",
    "mutate(Patient_Time = paste(Patient_ID, Time),\n",
    "       Condition = paste(Disease, Time))\n"
   ]
  },
  {
   "cell_type": "code",
   "execution_count": null,
   "id": "b19f250e",
   "metadata": {},
   "outputs": [],
   "source": [
    "cd4_full$Condition  %>% table"
   ]
  },
  {
   "cell_type": "markdown",
   "id": "a18dd404",
   "metadata": {},
   "source": [
    "Now let's proceed with analysis of the full CD8 dataset. "
   ]
  },
  {
   "cell_type": "code",
   "execution_count": null,
   "id": "e32129b4",
   "metadata": {},
   "outputs": [],
   "source": [
    "options(future.globals.maxSize = 10000 * 1024^2)\n",
    "plan(\"sequential\")"
   ]
  },
  {
   "cell_type": "code",
   "execution_count": null,
   "id": "3b22c816",
   "metadata": {
    "scrolled": true
   },
   "outputs": [],
   "source": [
    "DefaultAssay(cd4_full)  <- \"RNA\"\n",
    "cd4_full <- NormalizeData(cd4_full, verbose = FALSE)\n",
    "cd4_full <- ScaleData(cd4_full, verbose = FALSE)\n",
    "cd4_full <- FindVariableFeatures(cd4_full, nfeatures = 1000, verbose = FALSE)\n",
    "cd4_full <- RunPCA(cd4_full, npcs = 12, verbose = FALSE)\n",
    "cd4_full <- RunUMAP(cd4_full, reduction = \"pca\", dims = 1:12)"
   ]
  },
  {
   "cell_type": "code",
   "execution_count": null,
   "id": "616c46d8",
   "metadata": {},
   "outputs": [],
   "source": [
    "cd4_full <- FindNeighbors(cd4_full, dims = 1:12)\n",
    "cd4_full <- FindClusters(cd4_full, resolution = 1)"
   ]
  },
  {
   "cell_type": "code",
   "execution_count": null,
   "id": "727ce9b9",
   "metadata": {
    "scrolled": true
   },
   "outputs": [],
   "source": [
    "DimPlot(cd4_full, label = T)"
   ]
  },
  {
   "cell_type": "markdown",
   "id": "c80d38e9",
   "metadata": {},
   "source": [
    "We will check the canonical markers of T cells and other immune populations to see clusters of contaminating cell types."
   ]
  },
  {
   "cell_type": "code",
   "execution_count": null,
   "id": "decef271",
   "metadata": {},
   "outputs": [],
   "source": [
    "options(repr.plot.width = 16, repr.plot.height = 8)\n",
    "FeaturePlot(cd4_full, features = c(\"MKI67\", \"LCK\", \"CD3G\", \"TYROBP\", \"CD14\", \"MKI67\", \"CD3D\", \"CD8A\"), ncol = 4)"
   ]
  },
  {
   "cell_type": "markdown",
   "id": "6a0c8437",
   "metadata": {},
   "source": [
    "## Automated annotation of cell types"
   ]
  },
  {
   "cell_type": "markdown",
   "id": "a9e649f5",
   "metadata": {},
   "source": [
    "We will perform automated analysis of cell types using the packages [SingleR](https://bioconductor.org/packages/release/bioc/vignettes/SingleR/inst/doc/SingleR.html) and [Azimuth](https://azimuth.hubmapconsortium.org/). We used two built-in reference datasets from the package celldex: Monaco Immune Dataset and Human Primary Cell Atlas Data, a custom reference of human T-cell types profiled by bulk RNA seq from the paper by Giles et al. [Immunity, 2022](https://www.sciencedirect.com/science/article/pii/S107476132200084X) and the three-level Azimuth annotations."
   ]
  },
  {
   "cell_type": "code",
   "execution_count": null,
   "id": "c7661c04",
   "metadata": {},
   "outputs": [],
   "source": [
    "load(\"../data/ref_wherry_new.RData\")"
   ]
  },
  {
   "cell_type": "code",
   "execution_count": null,
   "id": "1f88f0e0",
   "metadata": {},
   "outputs": [],
   "source": [
    "hpca.se  <- celldex::HumanPrimaryCellAtlasData()\n",
    "mid.se <- celldex::MonacoImmuneData()"
   ]
  },
  {
   "cell_type": "code",
   "execution_count": null,
   "id": "61a0232e",
   "metadata": {},
   "outputs": [],
   "source": [
    "cd4_full  <- annotate_tcell_data(cd4_full)"
   ]
  },
  {
   "cell_type": "code",
   "execution_count": null,
   "id": "9f778816",
   "metadata": {},
   "outputs": [],
   "source": [
    "# Only run if you want to save the file\n",
    "# saveRDS(cd4_full, \"../data/processed/L1/cd4_full.rds\")"
   ]
  },
  {
   "cell_type": "code",
   "execution_count": null,
   "id": "0bec84ae",
   "metadata": {},
   "outputs": [],
   "source": [
    "# Only run if starting from here\n",
    "# cd4_full  <- readRDS(\"../data/processed/L1/cd4_full.rds\")"
   ]
  },
  {
   "cell_type": "code",
   "execution_count": null,
   "id": "5fc30972",
   "metadata": {},
   "outputs": [],
   "source": [
    "options(repr.plot.width = 20, repr.plot.height = 7)\n",
    "\n",
    "DimPlot(cd4_full, raster = F, group.by = \"HPCA_single\", label = F)\n",
    "p1  <- DimPlot(cd4_full, raster = F, group.by = \"HPCA_single\", label = F)"
   ]
  },
  {
   "cell_type": "code",
   "execution_count": null,
   "id": "4f67e75f",
   "metadata": {},
   "outputs": [],
   "source": [
    "DimPlot(cd4_full, raster = F, group.by = \"Monaco_single\", label = F)"
   ]
  },
  {
   "cell_type": "code",
   "execution_count": null,
   "id": "876d3272",
   "metadata": {},
   "outputs": [],
   "source": [
    "DimPlot(cd4_full, label = T, raster = F, label.size = 12)"
   ]
  },
  {
   "cell_type": "markdown",
   "id": "7638f3bc",
   "metadata": {},
   "source": [
    "## Removing contaminating cells"
   ]
  },
  {
   "cell_type": "code",
   "execution_count": null,
   "id": "2aef9d04",
   "metadata": {},
   "outputs": [],
   "source": [
    "# Only run if starting from here\n",
    "# cd4_full  <- readRDS(\"../data/processed/L1/cd4_full.rds\")"
   ]
  },
  {
   "cell_type": "markdown",
   "id": "dfab26ad",
   "metadata": {},
   "source": [
    "Based on the markers and annotations, we remove clusters 14, 15, 16, 20, 21 and 22. "
   ]
  },
  {
   "cell_type": "code",
   "execution_count": null,
   "id": "c14845fe",
   "metadata": {},
   "outputs": [],
   "source": [
    "cd4_l1_full_filt  <- subset(cd4_full, seurat_clusters %in% c(0:13,17:19))"
   ]
  },
  {
   "cell_type": "code",
   "execution_count": null,
   "id": "6b16399a",
   "metadata": {},
   "outputs": [],
   "source": [
    "rm(cd4_full)"
   ]
  },
  {
   "cell_type": "code",
   "execution_count": null,
   "id": "5193ff60",
   "metadata": {},
   "outputs": [],
   "source": [
    "DimPlot(cd4_l1_full_filt, label = T, raster = F)"
   ]
  },
  {
   "cell_type": "code",
   "execution_count": null,
   "id": "788abcd6",
   "metadata": {
    "scrolled": true
   },
   "outputs": [],
   "source": [
    "DefaultAssay(cd4_l1_full_filt)  <- \"RNA\"\n",
    "cd4_l1_full_filt <- NormalizeData(cd4_l1_full_filt, verbose = FALSE)\n",
    "\n",
    "cd4_l1_full_filt <- ScaleData(cd4_l1_full_filt, verbose = FALSE)\n",
    "cd4_l1_full_filt <- FindVariableFeatures(cd4_l1_full_filt, nfeatures = 1000, verbose = FALSE)\n",
    "cd4_l1_full_filt <- RunPCA(cd4_l1_full_filt, npcs = 12, verbose = FALSE)\n",
    "cd4_l1_full_filt <- RunUMAP(cd4_l1_full_filt, reduction = \"pca\", dims = 1:12)\n",
    "\n",
    "cd4_l1_full_filt <- FindNeighbors(cd4_l1_full_filt, dims = 1:12)\n",
    "cd4_l1_full_filt <- FindClusters(cd4_l1_full_filt, resolution = 1)"
   ]
  },
  {
   "cell_type": "code",
   "execution_count": null,
   "id": "1ae57191",
   "metadata": {
    "scrolled": false
   },
   "outputs": [],
   "source": [
    "options(repr.plot.width = 16, repr.plot.height = 8)\n",
    "\n",
    "FeaturePlot(cd4_l1_full_filt, features = c(\"CD4\", \"FOXP3\", \"CD44\", \"CCL5\", \"TBX21\", \"IFNG\", \"PDCD1\", \"BCL6\"), ncol = 4)"
   ]
  },
  {
   "cell_type": "code",
   "execution_count": null,
   "id": "7eebe4f9",
   "metadata": {
    "scrolled": true
   },
   "outputs": [],
   "source": [
    "options(repr.plot.width = 6, repr.plot.height = 5)\n",
    "DimPlot(cd4_l1_full_filt, label = T)"
   ]
  },
  {
   "cell_type": "code",
   "execution_count": null,
   "id": "078368be",
   "metadata": {},
   "outputs": [],
   "source": [
    "options(repr.plot.width = 16, repr.plot.height = 8)\n",
    "\n",
    "FeaturePlot(cd4_l1_full_filt, features = c(\"SELL\", \"ZBTB16\", \"BHLHE40\", \"FOXP3\", \"IL2RA\", \"ZEB2\", \"ZEB1\", \"CSF2\"), ncol = 4)"
   ]
  },
  {
   "cell_type": "code",
   "execution_count": null,
   "id": "0b497c37",
   "metadata": {},
   "outputs": [],
   "source": [
    "cd4_l1_full_filt@meta.data  <- cd4_l1_full_filt@meta.data  %>% separate(Condition, into = c(\"Disease\", \"Time\"), remove = F, sep = \" \")"
   ]
  },
  {
   "cell_type": "markdown",
   "id": "3e0f3f6c",
   "metadata": {},
   "source": [
    "## Removing dead cells"
   ]
  },
  {
   "cell_type": "markdown",
   "id": "751a5c4e",
   "metadata": {},
   "source": [
    "Mext we are going to check the quality of cells based on reac counts, feature counts and percentage of mitochondrial genes. "
   ]
  },
  {
   "cell_type": "code",
   "execution_count": null,
   "id": "aa3ed72b",
   "metadata": {},
   "outputs": [],
   "source": [
    "DimPlot(cd4_l1_full_filt, label = T)"
   ]
  },
  {
   "cell_type": "code",
   "execution_count": null,
   "id": "dd24dc27",
   "metadata": {},
   "outputs": [],
   "source": [
    "cutoff_nFeature_RNA <- 500\n",
    "cutoff_percent_mt <- 10\n",
    "cluster_exclude <- c(11)"
   ]
  },
  {
   "cell_type": "code",
   "execution_count": null,
   "id": "266a630d",
   "metadata": {},
   "outputs": [],
   "source": [
    "p1 <- ggplot(data.frame(nCount_RNA = cd4_l1_full_filt$nCount_RNA,\n",
    "                  nFeature_RNA = cd4_l1_full_filt$nFeature_RNA,\n",
    "                  percent_mt = cd4_l1_full_filt$percent.mt,\n",
    "                  seurat_clusters = cd4_l1_full_filt$seurat_clusters,\n",
    "                  exclude = ifelse(cd4_l1_full_filt$seurat_clusters %in% cluster_exclude, TRUE, FALSE)), \n",
    "       aes(x = seurat_clusters, y = percent_mt)) +\n",
    "  geom_violin(scale = \"width\", aes(fill = exclude)) + \n",
    "  geom_hline(yintercept = cutoff_percent_mt,\n",
    "               geom = \"line\", \n",
    "               width = 0.5,\n",
    "               colour = \"red\") + \n",
    "  ggtitle(\"Percent mt. cutoff\") + \n",
    "  theme_classic() +\n",
    "  scale_fill_manual(values = c(\"white\",\"red\")) +\n",
    "  theme(panel.background = element_blank(), \n",
    "        axis.text.x = element_text(angle = 0, hjust = 1)) +\n",
    "  annotate(geom = \"rect\", xmin = min(as.numeric(cd4_l1_full_filt$seurat_clusters))-1, \n",
    "           xmax = max(as.numeric(cd4_l1_full_filt$seurat_clusters))+1, \n",
    "           ymin=cutoff_percent_mt,ymax=1.1*(max(cd4_l1_full_filt$percent.mt)), fill = \"red\", alpha = 0.1)\n",
    "\n",
    "p2 <- ggplot(data.frame(nCount_RNA = cd4_l1_full_filt$nCount_RNA,\n",
    "                  nFeature_RNA = cd4_l1_full_filt$nFeature_RNA,\n",
    "                  percent_mt = cd4_l1_full_filt$percent.mt,\n",
    "                  seurat_clusters = cd4_l1_full_filt$seurat_clusters,\n",
    "                        exclude = ifelse(cd4_l1_full_filt$seurat_clusters %in% cluster_exclude, TRUE, FALSE)), \n",
    "       aes(x = seurat_clusters, y = nFeature_RNA)) +\n",
    "  geom_violin(scale = \"width\", aes(fill = exclude)) + \n",
    "  geom_hline(yintercept = cutoff_nFeature_RNA,\n",
    "               geom = \"line\", \n",
    "               width = 0.5,\n",
    "               colour = \"red\") + \n",
    "  ggtitle(\"nFeature RNA cutoff\") + \n",
    "  theme_classic() +\n",
    "  scale_fill_manual(values = c(\"white\",\"red\")) +\n",
    "  theme(panel.background = element_blank(), \n",
    "        axis.text.x = element_text(angle = 0, hjust = 1)) +\n",
    "  annotate(geom = \"rect\", xmin = min(as.numeric(cd4_l1_full_filt$seurat_clusters))-1, \n",
    "           xmax = max(as.numeric(cd4_l1_full_filt$seurat_clusters))+1, \n",
    "           ymin=0, ymax=cutoff_nFeature_RNA, fill = \"red\", alpha = 0.1)"
   ]
  },
  {
   "cell_type": "code",
   "execution_count": null,
   "id": "3a7ce4a3",
   "metadata": {},
   "outputs": [],
   "source": [
    "options(repr.plot.width = 12, repr.plot.height = 5)\n",
    "p1 + p2"
   ]
  },
  {
   "cell_type": "markdown",
   "id": "0f1e8e91",
   "metadata": {},
   "source": [
    "We will be removing cluster 11 as it consists of low quality cells. In addition, we use the criteria of filtering based on percentage of mitochondrial genes and count of detected genes. "
   ]
  },
  {
   "cell_type": "markdown",
   "id": "2b0bff16",
   "metadata": {},
   "source": [
    "## QC dead and contaminating removal for figure"
   ]
  },
  {
   "cell_type": "code",
   "execution_count": null,
   "id": "9325898d",
   "metadata": {},
   "outputs": [],
   "source": [
    "cd4_full  <- readRDS(\"../data/processed/L1/cd4_full.rds\")"
   ]
  },
  {
   "cell_type": "code",
   "execution_count": null,
   "id": "a5cf6bd0",
   "metadata": {},
   "outputs": [],
   "source": [
    "DimPlot(cd4_full, label = T)"
   ]
  },
  {
   "cell_type": "code",
   "execution_count": null,
   "id": "fa979e43",
   "metadata": {},
   "outputs": [],
   "source": [
    "\n",
    "cutoff_nFeature_RNA <- 500\n",
    "cutoff_percent_mt <- 10\n",
    "cluster_exclude <- c(11,14:16,20:22)"
   ]
  },
  {
   "cell_type": "code",
   "execution_count": null,
   "id": "033c0df9",
   "metadata": {},
   "outputs": [],
   "source": [
    "options(repr.plot.width = 14, repr.plot.height = 5)\n",
    "\n",
    "p1 <- ggplot(data.frame(nCount_RNA = cd4_full$nCount_RNA,\n",
    "                  nFeature_RNA = cd4_full$nFeature_RNA,\n",
    "                  percent_mt = cd4_full$percent.mt,\n",
    "                  seurat_clusters = cd4_full$seurat_clusters,\n",
    "                  exclude = ifelse(cd4_full$seurat_clusters %in% cluster_exclude, TRUE, FALSE)), \n",
    "       aes(x = seurat_clusters, y = percent_mt)) +\n",
    "  geom_violin(scale = \"width\", aes(fill = exclude)) + \n",
    "  geom_hline(yintercept = cutoff_percent_mt,\n",
    "               geom = \"line\", \n",
    "               width = 0.5,\n",
    "               colour = \"red\") + \n",
    "  ggtitle(\"Percent mt. cutoff\") + \n",
    "  theme_classic() +\n",
    "  scale_fill_manual(values = c(\"white\",\"red\")) +\n",
    "  theme(panel.background = element_blank(), \n",
    "        axis.text.x = element_text(angle = 45, hjust = 1)) +\n",
    "  annotate(geom = \"rect\", xmin = min(as.numeric(cd4_full$seurat_clusters))-1, \n",
    "           xmax = max(as.numeric(cd4_full$seurat_clusters))+1, \n",
    "           ymin=cutoff_percent_mt,ymax=1.1*(max(cd4_full$percent.mt)), fill = \"red\", alpha = 0.1) + ggtheme() + NoLegend()\n",
    "\n",
    "p2 <- ggplot(data.frame(nCount_RNA = cd4_full$nCount_RNA,\n",
    "                  nFeature_RNA = cd4_full$nFeature_RNA,\n",
    "                  percent_mt = cd4_full$percent.mt,\n",
    "                  seurat_clusters = cd4_full$seurat_clusters,\n",
    "                        exclude = ifelse(cd4_full$seurat_clusters %in% cluster_exclude, TRUE, FALSE)), \n",
    "       aes(x = seurat_clusters, y = nFeature_RNA)) +\n",
    "  geom_violin(scale = \"width\", aes(fill = exclude)) + \n",
    "  geom_hline(yintercept = cutoff_nFeature_RNA,\n",
    "               geom = \"line\", \n",
    "               width = 0.5,\n",
    "               colour = \"red\") + \n",
    "  ggtitle(\"nFeature RNA cutoff\") + \n",
    "  theme_classic() +\n",
    "  scale_fill_manual(values = c(\"white\",\"red\")) +\n",
    "  theme(panel.background = element_blank(), \n",
    "        axis.text.x = element_text(angle = 45, hjust = 1)) +\n",
    "  annotate(geom = \"rect\", xmin = min(as.numeric(cd4_full$seurat_clusters))-1, \n",
    "           xmax = max(as.numeric(cd4_full$seurat_clusters))+1, \n",
    "           ymin=0, ymax=cutoff_nFeature_RNA, fill = \"red\", alpha = 0.1) + ggtheme()\n",
    "\n",
    "\n",
    "\n",
    "p1 + p2\n",
    "\n",
    "ggsave(\"../figures/QC/cd4_QC_plot1.png\", width = 9, height = 4)\n",
    "ggsave(\"../figures/QC/cd4_QC_plot1.svg\", width = 9, height = 4)"
   ]
  },
  {
   "cell_type": "code",
   "execution_count": null,
   "id": "3d013fe5",
   "metadata": {},
   "outputs": [],
   "source": [
    "options(repr.plot.width = 10, repr.plot.height = 6)\n",
    "\n",
    "DotPlot(cd4_full, features = rev(c(\"CD3D\",\"CD8A\",\"CD8B\",\"CD4\",\"LCK\",\"TRAC\",\"CD14\",\"MS4A1\"))) + \n",
    "ggtheme() +\n",
    "theme(panel.background = element_blank(), \n",
    "      axis.text.x = element_text(angle = 45, hjust = 1)) + coord_flip() +\n",
    "      scale_size_continuous(range = c(0.2,3))\n",
    "ggsave(\"../figures/QC/cd4_QC_plot2.png\", width = 6.8, height = 3.7)\n",
    "ggsave(\"../figures/QC/cd4_QC_plot2.svg\", width = 6.8, height = 3.7)\n"
   ]
  },
  {
   "cell_type": "code",
   "execution_count": null,
   "id": "e009029e",
   "metadata": {},
   "outputs": [],
   "source": [
    "cd4_full$remove  <- ifelse((cd4_full$seurat_clusters %in% cluster_exclude)  |\n",
    "cd4_full$percent.mt > cutoff_percent_mt |\n",
    "cd4_full$nFeature_RNA < cutoff_nFeature_RNA, \"Remove\", \"Keep\")"
   ]
  },
  {
   "cell_type": "code",
   "execution_count": null,
   "id": "30b73497",
   "metadata": {},
   "outputs": [],
   "source": [
    "options(repr.plot.width = 5, repr.plot.height = 4)\n",
    "DimPlot(cd4_full, raster = T, group.by = \"remove\", cols = c(\"grey88\",\"red\")) + ggtheme()\n",
    "ggsave(\"../figures/QC/cd4_QC_plot3.png\", width = 5, height = 4)\n",
    "ggsave(\"../figures/QC/cd4_QC_plot3.svg\", width = 5, height = 4)"
   ]
  },
  {
   "cell_type": "code",
   "execution_count": null,
   "id": "7261bd83",
   "metadata": {},
   "outputs": [],
   "source": [
    "DimPlot(cd4_full, raster = T, label = T, label.size = 7) + ggtheme()\n",
    "ggsave(\"../figures/QC/cd4_QC_plot4.png\", width = 5, height = 4)\n",
    "ggsave(\"../figures/QC/cd4_QC_plot4.svg\", width = 5, height = 4)"
   ]
  },
  {
   "cell_type": "code",
   "execution_count": null,
   "id": "0fb66cd6",
   "metadata": {},
   "outputs": [],
   "source": [
    "options(repr.plot.width = 60, repr.plot.height = 12)\n",
    "VlnPlot(cd4_l1_full_filt, features = c( \"nFeature_RNA\"), \n",
    "        ncol = 4, group.by = \"Sample_ID\", raster = F, pt.size = 0) + NoLegend()"
   ]
  },
  {
   "cell_type": "markdown",
   "id": "6b26b096",
   "metadata": {},
   "source": [
    "## Processing after QC"
   ]
  },
  {
   "cell_type": "markdown",
   "id": "d290cc51",
   "metadata": {},
   "source": [
    "We now subset the object based on the previously defined criteria and run new normalization, scaling, variable feature selection, dimensional reduction and clustering. "
   ]
  },
  {
   "cell_type": "code",
   "execution_count": null,
   "id": "8b6b8154",
   "metadata": {},
   "outputs": [],
   "source": [
    "cd4_l1_full_filt  <- subset(cd4_l1_full_filt, \n",
    "                       ((seurat_clusters %in% cluster_exclude) == F) &\n",
    "                      percent.mt < cutoff_percent_mt &\n",
    "                      nFeature_RNA > cutoff_nFeature_RNA)"
   ]
  },
  {
   "cell_type": "code",
   "execution_count": null,
   "id": "f87ac473",
   "metadata": {
    "scrolled": true
   },
   "outputs": [],
   "source": [
    "cd4_l1_full_filt <- NormalizeData(cd4_l1_full_filt, verbose = FALSE)\n",
    "\n",
    "cd4_l1_full_filt <- ScaleData(cd4_l1_full_filt, verbose = FALSE)\n",
    "cd4_l1_full_filt <- FindVariableFeatures(cd4_l1_full_filt, nfeatures = 1000, verbose = FALSE)\n",
    "cd4_l1_full_filt <- RunPCA(cd4_l1_full_filt, npcs = 12, verbose = FALSE)\n",
    "cd4_l1_full_filt <- RunUMAP(cd4_l1_full_filt, reduction = \"pca\", dims = 1:12)\n",
    "\n",
    "cd4_l1_full_filt <- FindNeighbors(cd4_l1_full_filt, dims = 1:12)\n",
    "cd4_l1_full_filt <- FindClusters(cd4_l1_full_filt, resolution = 1)"
   ]
  },
  {
   "cell_type": "code",
   "execution_count": null,
   "id": "1d7f8bd4",
   "metadata": {},
   "outputs": [],
   "source": [
    "options(repr.plot.width = 6, repr.plot.height = 5)\n",
    "DimPlot(cd4_l1_full_filt, label = T)"
   ]
  },
  {
   "cell_type": "markdown",
   "id": "43c0c48b",
   "metadata": {},
   "source": [
    "We can see that the mitochondrial genes as well as counts and features are now well balanced with the exception of proliferating cells, which has more detected genes and more reads, as expected. "
   ]
  },
  {
   "cell_type": "code",
   "execution_count": null,
   "id": "6ed10cb9",
   "metadata": {},
   "outputs": [],
   "source": [
    "options(repr.plot.width = 20)\n",
    "VlnPlot(cd4_l1_full_filt, features = c(\"percent.mt\", \"percent.rp\", \"nCount_RNA\", \"nFeature_RNA\"), ncol = 4)"
   ]
  },
  {
   "cell_type": "code",
   "execution_count": null,
   "id": "52f58010",
   "metadata": {},
   "outputs": [],
   "source": [
    "options(repr.plot.width = 16, repr.plot.height = 8)\n",
    "\n",
    "FeaturePlot(cd4_l1_full_filt, features = c(\"CD4\", \"CD8A\", \"SELL\", \"CD3D\", \"CD19\", \"MS4A1\", \"TRGV2\", \"TRDC\"), ncol = 4)"
   ]
  },
  {
   "cell_type": "code",
   "execution_count": null,
   "id": "dfc97880",
   "metadata": {},
   "outputs": [],
   "source": [
    "options(repr.plot.width = 16, repr.plot.height = 8)\n",
    "\n",
    "FeaturePlot(cd4_l1_full_filt, features = c(\"FOXP3\", \"IL2RA\", \"PDCD1\", \"LAG3\", \"BCL6\", \"TBX21\", \"IFNG\", \"CCL5\"), ncol = 4)"
   ]
  },
  {
   "cell_type": "code",
   "execution_count": null,
   "id": "c8510b74",
   "metadata": {},
   "outputs": [],
   "source": [
    "options(repr.plot.width = 16, repr.plot.height = 8)\n",
    "\n",
    "FeaturePlot(cd4_l1_full_filt, features = c(\"MKI67\", \"PTPRC-RA\", \"PTPRC-RO\", \"KLF2\", \"CXCR6\", \"ZBTB16\", \"CSF2\", \"IL23R\"), ncol = 4)"
   ]
  },
  {
   "cell_type": "code",
   "execution_count": null,
   "id": "b3d85223",
   "metadata": {},
   "outputs": [],
   "source": [
    "cd4_l1_full_filt@meta.data  <- cd4_l1_full_filt@meta.data  %>% \n",
    "separate(Condition, into = c(\"Disease\", \"Time\"), remove = F, sep = \" \")"
   ]
  },
  {
   "cell_type": "code",
   "execution_count": null,
   "id": "5b68f80a",
   "metadata": {},
   "outputs": [],
   "source": [
    "cd4_l1_full_filt$Time  <- if_else(is.na(cd4_l1_full_filt$Time), \"T0\", cd4_l1_full_filt$Time)"
   ]
  },
  {
   "cell_type": "code",
   "execution_count": null,
   "id": "9ca056fa",
   "metadata": {},
   "outputs": [],
   "source": [
    "cd4_l1_full_filt$Sample_char  <- paste(cd4_l1_full_filt$Patient_ID, \n",
    "                                  cd4_l1_full_filt$Disease,\n",
    "                                  cd4_l1_full_filt$Time,\n",
    "                                  cd4_l1_full_filt$Age_group,\n",
    "                                  cd4_l1_full_filt$Sex,\n",
    "                                  cd4_l1_full_filt$Experiment_ID)"
   ]
  },
  {
   "cell_type": "markdown",
   "id": "5ceea8fe",
   "metadata": {},
   "source": [
    "## PCA on samples before integration"
   ]
  },
  {
   "cell_type": "markdown",
   "id": "57b67bc1",
   "metadata": {},
   "source": [
    "To check if there is some apparent batch effect of the experiment, we will check the PCA on the sample level. "
   ]
  },
  {
   "cell_type": "code",
   "execution_count": null,
   "id": "e18a508a",
   "metadata": {},
   "outputs": [],
   "source": [
    "cd4_samples  <- AverageExpression(cd4_l1_full_filt, group.by = \"Sample_char\", return.seurat = T)"
   ]
  },
  {
   "cell_type": "code",
   "execution_count": null,
   "id": "52febc50",
   "metadata": {},
   "outputs": [],
   "source": [
    "cd4_samples  <- FindVariableFeatures(cd4_samples)"
   ]
  },
  {
   "cell_type": "code",
   "execution_count": null,
   "id": "a6e9e9e2",
   "metadata": {
    "scrolled": true
   },
   "outputs": [],
   "source": [
    "cd4_samples  <- RunPCA(cd4_samples)"
   ]
  },
  {
   "cell_type": "code",
   "execution_count": null,
   "id": "87078781",
   "metadata": {},
   "outputs": [],
   "source": [
    "DimPlot(cd4_samples)"
   ]
  },
  {
   "cell_type": "code",
   "execution_count": null,
   "id": "f30f983d",
   "metadata": {},
   "outputs": [],
   "source": [
    "cd4_samples$Sample_char  <- colnames(cd4_samples)"
   ]
  },
  {
   "cell_type": "code",
   "execution_count": null,
   "id": "ca230404",
   "metadata": {
    "scrolled": true
   },
   "outputs": [],
   "source": [
    "cd4_samples$Sample_char  %>% table"
   ]
  },
  {
   "cell_type": "code",
   "execution_count": null,
   "id": "675b6273",
   "metadata": {},
   "outputs": [],
   "source": [
    "cd4_samples@meta.data  <- cd4_samples@meta.data  %>% separate(Sample_char, \n",
    "                                                              into = c(\"Patient_ID\",\n",
    "                                                                      \"Disease\",\n",
    "                                                                      \"Time\",\n",
    "                                                                      \"Age_group\",\n",
    "                                                                      \"Sex\",\n",
    "                                                                      \"Exp\"), \n",
    "                                                             sep = \" \",\n",
    "                                                             remove = F)"
   ]
  },
  {
   "cell_type": "code",
   "execution_count": null,
   "id": "0529b4b5",
   "metadata": {},
   "outputs": [],
   "source": [
    "options(repr.plot.width = 12, repr.plot.height = 7)\n",
    "(DimPlot(cd4_samples, group.by = \"Exp\") + DimPlot(cd4_samples, group.by = \"Disease\") + DimPlot(cd4_samples, group.by = \"Time\")) / (DimPlot(cd4_samples, group.by = \"Sex\") + DimPlot(cd4_samples, group.by = \"Age_group\") + (DimPlot(cd4_samples, group.by = \"Patient_ID\") + NoLegend()))"
   ]
  },
  {
   "cell_type": "code",
   "execution_count": null,
   "id": "a65b671f",
   "metadata": {},
   "outputs": [],
   "source": [
    "p1  <- (DimPlot(cd4_samples, group.by = \"Exp\") + DimPlot(cd4_samples, group.by = \"Disease\") + DimPlot(cd4_samples, group.by = \"Time\")) / (DimPlot(cd4_samples, group.by = \"Sex\") + DimPlot(cd4_samples, group.by = \"Age_group\") + (DimPlot(cd4_samples, group.by = \"Patient_ID\") + NoLegend()))\n",
    "\n"
   ]
  },
  {
   "cell_type": "markdown",
   "id": "b06e08d4",
   "metadata": {},
   "source": [
    "We can see a huge batch effect, so integration is needed. "
   ]
  },
  {
   "cell_type": "markdown",
   "id": "1ba366ce",
   "metadata": {},
   "source": [
    "## STACAS Integration over Experiment"
   ]
  },
  {
   "cell_type": "code",
   "execution_count": null,
   "id": "84c864bb",
   "metadata": {},
   "outputs": [],
   "source": [
    "merged.list  <- SplitObject(cd4_l1_full_filt, split.by = \"Experiment_ID\")"
   ]
  },
  {
   "cell_type": "code",
   "execution_count": null,
   "id": "82399b04",
   "metadata": {},
   "outputs": [],
   "source": [
    "plan(\"sequential\")"
   ]
  },
  {
   "cell_type": "code",
   "execution_count": null,
   "id": "49fe928d",
   "metadata": {},
   "outputs": [],
   "source": [
    "# normalize and identify variable features for each dataset independently\n",
    "merged.list <- lapply(X = merged.list, FUN = function(x) {\n",
    "    DefaultAssay(x)  <- \"RNA\"\n",
    "    x$barcode  <- colnames(x)\n",
    "    x <- NormalizeData(x)\n",
    "    x <- FindVariableFeatures(x, selection.method = \"vst\", nfeatures = 2000)\n",
    "})\n",
    "\n",
    "library(STACAS)\n",
    "\n",
    "cd4_l1_full_filt <- Run.STACAS(merged.list, dims = 1:12)\n",
    "cd4_l1_full_filt <- RunUMAP(cd4_l1_full_filt, dims = 1:12) "
   ]
  },
  {
   "cell_type": "code",
   "execution_count": null,
   "id": "ecf36669",
   "metadata": {
    "scrolled": true
   },
   "outputs": [],
   "source": [
    "# Visualize\n",
    "\n",
    "DimPlot(cd4_l1_full_filt, group.by = c(\"Experiment_ID\"))"
   ]
  },
  {
   "cell_type": "code",
   "execution_count": null,
   "id": "0e1d2f45",
   "metadata": {},
   "outputs": [],
   "source": [
    "saveRDS(cd4_l1_full_filt, \"../data/processed/L1/cd4_l1_full_filt.rds\")"
   ]
  },
  {
   "cell_type": "code",
   "execution_count": null,
   "id": "9587fa1d",
   "metadata": {},
   "outputs": [],
   "source": [
    "cd4_l1_full_filt  <- readRDS(\"../data/processed/L1/cd4_l1_full_filt.rds\")"
   ]
  },
  {
   "cell_type": "markdown",
   "id": "69ca2e7c",
   "metadata": {},
   "source": [
    "## PCA on samples after integration"
   ]
  },
  {
   "cell_type": "markdown",
   "id": "c4331eb1",
   "metadata": {},
   "source": [
    "Now let's re-run the sample-level PCA to see if the batch effect was efficiently corrected. "
   ]
  },
  {
   "cell_type": "code",
   "execution_count": null,
   "id": "8542b80f",
   "metadata": {},
   "outputs": [],
   "source": [
    "cd4_samples  <- AverageExpression(cd4_l1_full_filt, group.by = \"Sample_char\", return.seurat = T)"
   ]
  },
  {
   "cell_type": "code",
   "execution_count": null,
   "id": "fde2a346",
   "metadata": {},
   "outputs": [],
   "source": [
    "cd4_samples  <- FindVariableFeatures(cd4_samples)"
   ]
  },
  {
   "cell_type": "code",
   "execution_count": null,
   "id": "11a97c23",
   "metadata": {
    "scrolled": true
   },
   "outputs": [],
   "source": [
    "cd4_samples  <- RunPCA(cd4_samples)"
   ]
  },
  {
   "cell_type": "code",
   "execution_count": null,
   "id": "4d9fa6c6",
   "metadata": {},
   "outputs": [],
   "source": [
    "DimPlot(cd4_samples)"
   ]
  },
  {
   "cell_type": "code",
   "execution_count": null,
   "id": "80df2001",
   "metadata": {},
   "outputs": [],
   "source": [
    "cd4_samples$Sample_char  <- colnames(cd4_samples)"
   ]
  },
  {
   "cell_type": "code",
   "execution_count": null,
   "id": "587bde84",
   "metadata": {},
   "outputs": [],
   "source": [
    "cd4_samples@meta.data  <- cd4_samples@meta.data  %>% separate(Sample_char, \n",
    "                                                              into = c(\"Patient_ID\",\n",
    "                                                                      \"Disease\",\n",
    "                                                                      \"Time\",\n",
    "                                                                      \"Age_group\",\n",
    "                                                                      \"Sex\",\n",
    "                                                                      \"Exp\"), \n",
    "                                                             sep = \" \",\n",
    "                                                             remove = F)"
   ]
  },
  {
   "cell_type": "code",
   "execution_count": null,
   "id": "2a500e20",
   "metadata": {},
   "outputs": [],
   "source": [
    "options(repr.plot.width = 12, repr.plot.height = 7)\n",
    "(DimPlot(cd4_samples, group.by = \"Exp\") + DimPlot(cd4_samples, group.by = \"Disease\") + DimPlot(cd4_samples, group.by = \"Time\")) / (DimPlot(cd4_samples, group.by = \"Sex\") + DimPlot(cd4_samples, group.by = \"Age_group\") + (DimPlot(cd4_samples, group.by = \"Patient_ID\") + NoLegend()))"
   ]
  },
  {
   "cell_type": "markdown",
   "id": "76b1d4a0",
   "metadata": {},
   "source": [
    "We can see that now the only apparent batch effect is between experiments 10 and 11 vs. 16, 18, 19 and 20. This corresponds to the initial and final experiments and makes sense, as the initial experiment samples contained all cells without enrichment, while the final experiment samples contained cells enriched for non-naive populations. "
   ]
  },
  {
   "cell_type": "markdown",
   "id": "ad593030",
   "metadata": {},
   "source": [
    "## Evaluation of integration"
   ]
  },
  {
   "cell_type": "markdown",
   "id": "bdc44f1a",
   "metadata": {},
   "source": [
    "To evaluate the effectivity of integration, we used kBET ([see Github](https://github.com/theislab/kBET))."
   ]
  },
  {
   "cell_type": "code",
   "execution_count": null,
   "id": "c89ede40",
   "metadata": {},
   "outputs": [],
   "source": [
    ".libPaths(\"~/R/x86_64-pc-linux-gnu-library/4.4/\")\n",
    "library(kBET)"
   ]
  },
  {
   "cell_type": "code",
   "execution_count": null,
   "id": "3cf39c1c",
   "metadata": {},
   "outputs": [],
   "source": [
    "cd4_l1_full_filt  <- readRDS(\"../data/processed/L1/cd4_l1_full_filt.rds\")"
   ]
  },
  {
   "cell_type": "markdown",
   "id": "3630e5cc",
   "metadata": {},
   "source": [
    "### Before integration"
   ]
  },
  {
   "cell_type": "code",
   "execution_count": null,
   "id": "4f9b12e0",
   "metadata": {},
   "outputs": [],
   "source": [
    "cd4_samples2  <- AverageExpression(cd4_l1_full_filt, group.by = \"Sample_char\", return.seurat = T, \n",
    "                                   assay = \"RNA\", slot = \"data\")\n",
    "cd4_samples2  <- FindVariableFeatures(cd4_samples2)\n",
    "cd4_samples2  <- ScaleData(cd4_samples2)\n",
    "cd4_samples2  <- RunPCA(cd4_samples2)\n",
    "cd4_samples2$Sample_char  <- colnames(cd4_samples2)\n",
    "\n",
    "cd4_samples2@meta.data  <- cd4_samples2@meta.data  %>% separate(Sample_char, \n",
    "                                                              into = c(\"Patient_ID\",\n",
    "                                                                      \"Disease\",\n",
    "                                                                      \"Time\",\n",
    "                                                                      \"Age_group\",\n",
    "                                                                      \"Sex\",\n",
    "                                                                      \"Exp\"), \n",
    "                                                             sep = \" \",\n",
    "                                                             remove = F)"
   ]
  },
  {
   "cell_type": "code",
   "execution_count": null,
   "id": "be06511a",
   "metadata": {},
   "outputs": [],
   "source": [
    "cd4_samples2@meta.data  <- cd4_samples2@meta.data  %>% \n",
    "mutate(Enrichment = if_else(Exp %in% c(\"Exp08\",\"Exp10\",\"Exp11\"), \"Initial\", \"Final\")) \n",
    "                                                         "
   ]
  },
  {
   "cell_type": "code",
   "execution_count": null,
   "id": "e545702e",
   "metadata": {},
   "outputs": [],
   "source": [
    "options(repr.plot.width = 6, repr.plot.height = 5)\n",
    "kbet_result_before <- kBET(\n",
    "    cd4_samples2@reductions$pca@cell.embeddings,\n",
    "    batch = cd4_samples2$Exp,\n",
    "    plot = T,\n",
    "    k0 = 50, # Neighborhood size - can adjust\n",
    "    n_repeat = 100, # Number of iterations\n",
    "    do.pca = FALSE # We already provide PCA\n",
    ")"
   ]
  },
  {
   "cell_type": "markdown",
   "id": "f3636fcc",
   "metadata": {},
   "source": [
    "### After integration"
   ]
  },
  {
   "cell_type": "code",
   "execution_count": null,
   "id": "00ab63a4",
   "metadata": {},
   "outputs": [],
   "source": [
    "cd4_samples  <- AverageExpression(cd4_l1_full_filt, group.by = \"Sample_char\", return.seurat = T, \n",
    "                                   assay = \"integrated\", slot = \"data\")\n",
    "cd4_samples  <- FindVariableFeatures(cd4_samples)\n",
    "cd4_samples  <- ScaleData(cd4_samples)\n",
    "cd4_samples  <- RunPCA(cd4_samples)\n",
    "cd4_samples$Sample_char  <- colnames(cd4_samples)\n",
    "\n",
    "cd4_samples@meta.data  <- cd4_samples@meta.data  %>% separate(Sample_char, \n",
    "                                                              into = c(\"Patient_ID\",\n",
    "                                                                      \"Disease\",\n",
    "                                                                      \"Time\",\n",
    "                                                                      \"Age_group\",\n",
    "                                                                      \"Sex\",\n",
    "                                                                      \"Exp\"), \n",
    "                                                             sep = \" \",\n",
    "                                                             remove = F)"
   ]
  },
  {
   "cell_type": "code",
   "execution_count": null,
   "id": "3d78508b",
   "metadata": {},
   "outputs": [],
   "source": [
    "cd4_samples@meta.data  <- cd4_samples@meta.data  %>% \n",
    "mutate(Enrichment = if_else(Exp %in% c(\"Exp08\",\"Exp11\",\"Exp10\"), \"Initial\", \"Final\")) \n",
    "                                                         "
   ]
  },
  {
   "cell_type": "code",
   "execution_count": null,
   "id": "2279f10d",
   "metadata": {},
   "outputs": [],
   "source": [
    "options(repr.plot.width = 6, repr.plot.height = 5)\n",
    "kbet_result_after <- kBET(\n",
    "    cd4_samples@reductions$pca@cell.embeddings,\n",
    "    batch = cd4_samples$Exp,\n",
    "    plot = T,\n",
    "    k0 = 50, # Neighborhood size - can adjust\n",
    "    n_repeat = 100, # Number of iterations\n",
    "    do.pca = FALSE # We already provide PCA\n",
    ")"
   ]
  },
  {
   "cell_type": "code",
   "execution_count": null,
   "id": "6613d6a3",
   "metadata": {},
   "outputs": [],
   "source": [
    "kbet_result  <- data.frame(test = paste(\"test\",1:100), \n",
    "                           #expected = kbet_result_after$stats$kBET.expected,\n",
    "                           observed_before = kbet_result_before$stats$kBET.observed,\n",
    "                           observed_after = kbet_result_after$stats$kBET.observed)  %>% \n",
    "pivot_longer(!test, names_to = \"tested\",values_to = \"value\")\n"
   ]
  },
  {
   "cell_type": "code",
   "execution_count": null,
   "id": "535fb844",
   "metadata": {},
   "outputs": [],
   "source": [
    "kbet_result  %>% \n",
    "ggplot(aes(x = tested, y = value)) +\n",
    "geom_boxplot(outlier.shape = NA, width = 0.6) +\n",
    "geom_jitter(width = 0.2, height = 0.05, alpha = 0.4) +\n",
    "theme_classic() +\n",
    "ggtheme()\n",
    "\n",
    "ggsave(\"../figures/QC/integration_kBET_cd4.png\", width = 3, height = 3)\n",
    "ggsave(\"../figures/QC/integration_kBET_cd4.svg\", width = 3, height = 3)"
   ]
  },
  {
   "cell_type": "markdown",
   "id": "023013e9",
   "metadata": {},
   "source": [
    "## PCA distances"
   ]
  },
  {
   "cell_type": "markdown",
   "id": "dd4317e3",
   "metadata": {},
   "source": [
    "### Before integration"
   ]
  },
  {
   "cell_type": "code",
   "execution_count": null,
   "id": "51aa8d8c",
   "metadata": {},
   "outputs": [],
   "source": [
    "(DimPlot(cd4_samples2, group.by = \"Exp\") + DimPlot(cd4_samples2, group.by = \"Enrichment\") + DimPlot(cd4_samples2, group.by = \"Time\")) / (DimPlot(cd4_samples2, group.by = \"Sex\") + DimPlot(cd4_samples2, group.by = \"Age_group\") + (DimPlot(cd4_samples2, group.by = \"Patient_ID\") + NoLegend()))"
   ]
  },
  {
   "cell_type": "code",
   "execution_count": null,
   "id": "9913588c",
   "metadata": {},
   "outputs": [],
   "source": [
    "(DimPlot(cd4_samples2, group.by = \"Exp\", pt.size = 2) + ggtheme() + \n",
    "(DimPlot(cd4_samples2, group.by = \"Enrichment\", cols = c(\"#3d79f3ff\",\"#e6352fff\"), pt.size = 2) + ggtheme()))\n",
    "\n",
    "ggsave(\"../figures/QC/PCA_dimplot_cd4_before.svg\", width = 22, height = 9, units = \"cm\")"
   ]
  },
  {
   "cell_type": "code",
   "execution_count": null,
   "id": "f04b52df",
   "metadata": {},
   "outputs": [],
   "source": [
    "pca_coords <- Embeddings(cd4_samples2, \"pca\")"
   ]
  },
  {
   "cell_type": "markdown",
   "id": "3682adde",
   "metadata": {},
   "source": [
    "All PCs"
   ]
  },
  {
   "cell_type": "code",
   "execution_count": null,
   "id": "b17ec12e",
   "metadata": {},
   "outputs": [],
   "source": [
    "distance_matrix <- dist(pca_coords, method = \"euclidean\")"
   ]
  },
  {
   "cell_type": "code",
   "execution_count": null,
   "id": "8c1fec80",
   "metadata": {},
   "outputs": [],
   "source": [
    "distance_matrix  %>% as.matrix()  %>% as.data.frame()"
   ]
  },
  {
   "cell_type": "code",
   "execution_count": null,
   "id": "db8348e6",
   "metadata": {},
   "outputs": [],
   "source": [
    "distance_matrix  <- distance_matrix  %>%  as.matrix()  %>% as.data.frame()  %>% \n",
    "rownames_to_column(\"sample1\")  %>%  \n",
    "pivot_longer(!sample1, names_to = \"sample2\", values_to = \"distance\")"
   ]
  },
  {
   "cell_type": "code",
   "execution_count": null,
   "id": "1214ea60",
   "metadata": {
    "scrolled": true
   },
   "outputs": [],
   "source": [
    "distance_matrix"
   ]
  },
  {
   "cell_type": "markdown",
   "id": "5032dd85",
   "metadata": {},
   "source": [
    "Recode sample numbers to integers to avoid counting pairwise distance twice"
   ]
  },
  {
   "cell_type": "code",
   "execution_count": null,
   "id": "5b40a4b2",
   "metadata": {},
   "outputs": [],
   "source": [
    "# Create a named vector for mapping levels to integers\n",
    "level_map <- setNames(seq_along(colnames(dm)), colnames(dm))\n",
    "\n",
    "# Recode col1 and col2 to numeric using the same mapping\n",
    "distance_matrix$sn1 <- level_map[as.character(distance_matrix$sample1)]\n",
    "distance_matrix$sn2 <- level_map[as.character(distance_matrix$sample2)]"
   ]
  },
  {
   "cell_type": "markdown",
   "id": "54803108",
   "metadata": {},
   "source": [
    "Separate sample names to variables, create comparison categories"
   ]
  },
  {
   "cell_type": "code",
   "execution_count": null,
   "id": "7c7b0a8b",
   "metadata": {},
   "outputs": [],
   "source": [
    "distance_matrix2  <- distance_matrix  %>% \n",
    "dplyr::filter(sn1 < sn2)  %>% \n",
    "separate(sample1, into = c(\"Patient_ID_1\", NA,NA,NA,NA,\"Exp_1\"), sep = \" \", remove = F)  %>% \n",
    "separate(sample2, into = c(\"Patient_ID_2\", NA,NA,NA,NA,\"Exp_2\"), sep = \" \", remove = F)  %>% \n",
    "mutate(Enrichment_1 = if_else(Exp_1 %in% c(\"Exp08\",\"Exp10\",\"Exp11\"), \"Initial\", \"Final\"))  %>% \n",
    "mutate(Enrichment_2 = if_else(Exp_2 %in% c(\"Exp08\",\"Exp10\",\"Exp11\"), \"Initial\", \"Final\"))  %>% \n",
    "mutate(Comp1 = paste(Exp_1, Exp_2))  %>% \n",
    "mutate(Comp2 = paste(Enrichment_1, Enrichment_2))   %>% \n",
    "mutate(Comp3 = if_else(Exp_1 == Exp_2, \"Within_exp\", \n",
    "                       if_else(Enrichment_1 == Enrichment_2 & Enrichment_1 == \"Final\", \"Cross_exp\", \n",
    "                       if_else(Enrichment_1 == Enrichment_2 & Enrichment_1 == \"Initial\", \"Cross_exp\", \n",
    "                              \"Cross_enrichment\" ))))  \n",
    "\n"
   ]
  },
  {
   "cell_type": "markdown",
   "id": "b05282f7",
   "metadata": {},
   "source": [
    "Recode experiment numbers to integers to ensure that comparison of Exp10 - Exp11 is the same as Exp11 - Exp10"
   ]
  },
  {
   "cell_type": "code",
   "execution_count": null,
   "id": "306d064d",
   "metadata": {},
   "outputs": [],
   "source": [
    "# Create a named vector for mapping levels to integers\n",
    "level_map <- setNames(seq_along(levels(factor(distance_matrix2$Exp_1))), levels(factor(distance_matrix2$Exp_1)))\n",
    "\n",
    "# Recode col1 and col2 to numeric using the same mapping\n",
    "distance_matrix2$en1 <- level_map[as.character(distance_matrix2$Exp_1)]\n",
    "distance_matrix2$en2 <- level_map[as.character(distance_matrix2$Exp_2)]"
   ]
  },
  {
   "cell_type": "code",
   "execution_count": null,
   "id": "82ada508",
   "metadata": {
    "scrolled": true
   },
   "outputs": [],
   "source": [
    "distance_matrix2"
   ]
  },
  {
   "cell_type": "code",
   "execution_count": null,
   "id": "9fddcc0f",
   "metadata": {},
   "outputs": [],
   "source": [
    "distance_matrix2  <- distance_matrix2  %>% \n",
    "mutate(Comp1 = if_else(en1<en2, paste(Exp_1, Exp_2), paste(Exp_2,Exp_1))) \n"
   ]
  },
  {
   "cell_type": "markdown",
   "id": "871f5b2e",
   "metadata": {},
   "source": [
    "Recode experiment numbers to those used in the manuscript."
   ]
  },
  {
   "cell_type": "code",
   "execution_count": null,
   "id": "da9b1d3f",
   "metadata": {},
   "outputs": [],
   "source": [
    "distance_matrix2$Comp1  <- gsub(distance_matrix2$Comp1, pattern = \"Exp10\", replacement = \"Batch1\")\n",
    "distance_matrix2$Comp1  <- gsub(distance_matrix2$Comp1, pattern = \"Exp11\", replacement = \"Batch2\")\n",
    "distance_matrix2$Comp1  <- gsub(distance_matrix2$Comp1, pattern = \"Exp16\", replacement = \"Batch3\")\n",
    "distance_matrix2$Comp1  <- gsub(distance_matrix2$Comp1, pattern = \"Exp18\", replacement = \"Batch4\")\n",
    "distance_matrix2$Comp1  <- gsub(distance_matrix2$Comp1, pattern = \"Exp19\", replacement = \"Batch5\")\n",
    "distance_matrix2$Comp1  <- gsub(distance_matrix2$Comp1, pattern = \"Exp20\", replacement = \"Batch6\")\n",
    "distance_matrix2$Comp2  <- gsub(distance_matrix2$Comp2, pattern = \"Final Initial\", replacement = \"Initial Final\")"
   ]
  },
  {
   "cell_type": "code",
   "execution_count": null,
   "id": "f1f6177f",
   "metadata": {},
   "outputs": [],
   "source": [
    "distance_matrix2  %>% \n",
    "ggplot(aes(x = Comp1, y = distance)) +\n",
    "geom_boxplot(outlier.shape = NA, aes(color = Comp2)) +\n",
    "#geom_violin(scale = \"width\") +\n",
    "geom_jitter(alpha = .1, width = 0.2, aes(color = Comp2)) +\n",
    "facet_grid(cols = vars(Comp3), scales = \"free_x\", space = \"free\") +\n",
    "theme_classic() +\n",
    "theme(axis.text.x = element_text(angle = 90)) +\n",
    "ggtheme() +\n",
    "scale_fill_manual(values = c(\"#3d79f3ff\",\"#b01ab8ff\", \"#e6352fff\")) +\n",
    "scale_color_manual(values = c(\"#3d79f3ff\",\"#b01ab8ff\", \"#e6352fff\")) +\n",
    "scale_y_continuous(limits = c(0,115), expand = c(0,0))"
   ]
  },
  {
   "cell_type": "code",
   "execution_count": null,
   "id": "00c6fdab",
   "metadata": {},
   "outputs": [],
   "source": [
    "ggsave(\"../figures/QC/PCA_dist_cd4_before_50pcs.svg\", width = 22, height = 12, units = \"cm\")"
   ]
  },
  {
   "cell_type": "code",
   "execution_count": null,
   "id": "fb0fc7b3",
   "metadata": {},
   "outputs": [],
   "source": []
  },
  {
   "cell_type": "markdown",
   "id": "67d529c2",
   "metadata": {},
   "source": [
    "Just two PCs"
   ]
  },
  {
   "cell_type": "code",
   "execution_count": null,
   "id": "b03a808f",
   "metadata": {},
   "outputs": [],
   "source": [
    "pca_coords <- Embeddings(cd4_samples2, \"pca\")"
   ]
  },
  {
   "cell_type": "code",
   "execution_count": null,
   "id": "837654ef",
   "metadata": {},
   "outputs": [],
   "source": [
    "pca_coords <- pca_coords[, 1:2]"
   ]
  },
  {
   "cell_type": "code",
   "execution_count": null,
   "id": "748324bc",
   "metadata": {},
   "outputs": [],
   "source": [
    "distance_matrix <- dist(pca_coords, method = \"euclidean\")"
   ]
  },
  {
   "cell_type": "code",
   "execution_count": null,
   "id": "347e2210",
   "metadata": {},
   "outputs": [],
   "source": [
    "distance_matrix  %>% as.matrix()  %>% as.data.frame()"
   ]
  },
  {
   "cell_type": "code",
   "execution_count": null,
   "id": "3643d8ce",
   "metadata": {},
   "outputs": [],
   "source": [
    "distance_matrix  <- distance_matrix  %>%  as.matrix()  %>% as.data.frame()  %>% \n",
    "rownames_to_column(\"sample1\")  %>%  \n",
    "pivot_longer(!sample1, names_to = \"sample2\", values_to = \"distance\")"
   ]
  },
  {
   "cell_type": "code",
   "execution_count": null,
   "id": "1bb1f183",
   "metadata": {
    "scrolled": true
   },
   "outputs": [],
   "source": [
    "distance_matrix"
   ]
  },
  {
   "cell_type": "markdown",
   "id": "3ec9e4f7",
   "metadata": {},
   "source": [
    "Recode sample numbers to integers to avoid counting pairwise distance twice"
   ]
  },
  {
   "cell_type": "code",
   "execution_count": null,
   "id": "be66bec3",
   "metadata": {},
   "outputs": [],
   "source": [
    "# Create a named vector for mapping levels to integers\n",
    "level_map <- setNames(seq_along(colnames(dm)), colnames(dm))\n",
    "\n",
    "# Recode col1 and col2 to numeric using the same mapping\n",
    "distance_matrix$sn1 <- level_map[as.character(distance_matrix$sample1)]\n",
    "distance_matrix$sn2 <- level_map[as.character(distance_matrix$sample2)]"
   ]
  },
  {
   "cell_type": "markdown",
   "id": "4c8e6554",
   "metadata": {},
   "source": [
    "Separate sample names to variables, create comparison categories"
   ]
  },
  {
   "cell_type": "code",
   "execution_count": null,
   "id": "090e794c",
   "metadata": {},
   "outputs": [],
   "source": [
    "distance_matrix2  <- distance_matrix  %>% \n",
    "dplyr::filter(sn1 < sn2)  %>% \n",
    "separate(sample1, into = c(\"Patient_ID_1\", NA,NA,NA,NA,\"Exp_1\"), sep = \" \", remove = F)  %>% \n",
    "separate(sample2, into = c(\"Patient_ID_2\", NA,NA,NA,NA,\"Exp_2\"), sep = \" \", remove = F)  %>% \n",
    "mutate(Enrichment_1 = if_else(Exp_1 %in% c(\"Exp08\",\"Exp10\",\"Exp11\"), \"Initial\", \"Final\"))  %>% \n",
    "mutate(Enrichment_2 = if_else(Exp_2 %in% c(\"Exp08\",\"Exp10\",\"Exp11\"), \"Initial\", \"Final\"))  %>% \n",
    "mutate(Comp1 = paste(Exp_1, Exp_2))  %>% \n",
    "mutate(Comp2 = paste(Enrichment_1, Enrichment_2))   %>% \n",
    "mutate(Comp3 = if_else(Exp_1 == Exp_2, \"Within_exp\", \n",
    "                       if_else(Enrichment_1 == Enrichment_2 & Enrichment_1 == \"Final\", \"Cross_exp\", \n",
    "                       if_else(Enrichment_1 == Enrichment_2 & Enrichment_1 == \"Initial\", \"Cross_exp\", \n",
    "                              \"Cross_enrichment\" ))))  \n",
    "\n"
   ]
  },
  {
   "cell_type": "markdown",
   "id": "dc3e101e",
   "metadata": {},
   "source": [
    "Recode experiment numbers to integers to ensure that comparison of Exp10 - Exp11 is the same as Exp11 - Exp10"
   ]
  },
  {
   "cell_type": "code",
   "execution_count": null,
   "id": "b8fd913b",
   "metadata": {},
   "outputs": [],
   "source": [
    "# Create a named vector for mapping levels to integers\n",
    "level_map <- setNames(seq_along(levels(factor(distance_matrix2$Exp_1))), levels(factor(distance_matrix2$Exp_1)))\n",
    "\n",
    "# Recode col1 and col2 to numeric using the same mapping\n",
    "distance_matrix2$en1 <- level_map[as.character(distance_matrix2$Exp_1)]\n",
    "distance_matrix2$en2 <- level_map[as.character(distance_matrix2$Exp_2)]"
   ]
  },
  {
   "cell_type": "code",
   "execution_count": null,
   "id": "833cc13e",
   "metadata": {
    "scrolled": true
   },
   "outputs": [],
   "source": [
    "distance_matrix2"
   ]
  },
  {
   "cell_type": "code",
   "execution_count": null,
   "id": "1989c1eb",
   "metadata": {},
   "outputs": [],
   "source": [
    "distance_matrix2  <- distance_matrix2  %>% \n",
    "mutate(Comp1 = if_else(en1<en2, paste(Exp_1, Exp_2), paste(Exp_2,Exp_1))) \n"
   ]
  },
  {
   "cell_type": "markdown",
   "id": "13a1fae5",
   "metadata": {},
   "source": [
    "Recode experiment numbers to those used in the manuscript."
   ]
  },
  {
   "cell_type": "code",
   "execution_count": null,
   "id": "a9d5fc44",
   "metadata": {},
   "outputs": [],
   "source": [
    "distance_matrix2$Comp1  <- gsub(distance_matrix2$Comp1, pattern = \"Exp10\", replacement = \"Batch1\")\n",
    "distance_matrix2$Comp1  <- gsub(distance_matrix2$Comp1, pattern = \"Exp11\", replacement = \"Batch2\")\n",
    "distance_matrix2$Comp1  <- gsub(distance_matrix2$Comp1, pattern = \"Exp16\", replacement = \"Batch3\")\n",
    "distance_matrix2$Comp1  <- gsub(distance_matrix2$Comp1, pattern = \"Exp18\", replacement = \"Batch4\")\n",
    "distance_matrix2$Comp1  <- gsub(distance_matrix2$Comp1, pattern = \"Exp19\", replacement = \"Batch5\")\n",
    "distance_matrix2$Comp1  <- gsub(distance_matrix2$Comp1, pattern = \"Exp20\", replacement = \"Batch6\")\n",
    "distance_matrix2$Comp2  <- gsub(distance_matrix2$Comp2, pattern = \"Final Initial\", replacement = \"Initial Final\")"
   ]
  },
  {
   "cell_type": "code",
   "execution_count": null,
   "id": "ceb84e47",
   "metadata": {},
   "outputs": [],
   "source": [
    "distance_matrix2  %>% \n",
    "ggplot(aes(x = Comp1, y = distance)) +\n",
    "geom_boxplot(outlier.shape = NA, aes(color = Comp2)) +\n",
    "#geom_violin(scale = \"width\") +\n",
    "geom_jitter(alpha = .1, width = 0.2, aes(color = Comp2)) +\n",
    "facet_grid(cols = vars(Comp3), scales = \"free_x\", space = \"free\") +\n",
    "theme_classic() +\n",
    "theme(axis.text.x = element_text(angle = 90)) +\n",
    "ggtheme() +\n",
    "scale_fill_manual(values = c(\"#3d79f3ff\",\"#b01ab8ff\", \"#e6352fff\")) +\n",
    "scale_color_manual(values = c(\"#3d79f3ff\",\"#b01ab8ff\", \"#e6352fff\")) +\n",
    "scale_y_continuous(limits = c(0,115), expand = c(0,0))"
   ]
  },
  {
   "cell_type": "code",
   "execution_count": null,
   "id": "ef441601",
   "metadata": {},
   "outputs": [],
   "source": [
    "ggsave(\"../figures/QC/PCA_dist_cd4_before_2pcs.svg\", width = 22, height = 12, units = \"cm\")"
   ]
  },
  {
   "cell_type": "markdown",
   "id": "60a32176",
   "metadata": {},
   "source": [
    "### After integration"
   ]
  },
  {
   "cell_type": "code",
   "execution_count": null,
   "id": "a3d7c57f",
   "metadata": {},
   "outputs": [],
   "source": [
    "(DimPlot(cd4_samples, group.by = \"Exp\") + DimPlot(cd4_samples, group.by = \"Enrichment\") + DimPlot(cd4_samples, group.by = \"Time\")) /\n",
    "(DimPlot(cd4_samples, group.by = \"Sex\") + DimPlot(cd4_samples, group.by = \"Age_group\") + (DimPlot(cd4_samples, group.by = \"Patient_ID\") + NoLegend()))"
   ]
  },
  {
   "cell_type": "code",
   "execution_count": null,
   "id": "616abffb",
   "metadata": {},
   "outputs": [],
   "source": [
    "(DimPlot(cd4_samples, group.by = \"Exp\", pt.size = 2) + ggtheme() + \n",
    "(DimPlot(cd4_samples, group.by = \"Enrichment\", cols = c(\"#3d79f3ff\",\"#e6352fff\"), pt.size = 2) + ggtheme()))\n",
    "\n",
    "ggsave(\"../figures/QC/PCA_dimplot_cd4_after.svg\", width = 22, height = 9, units = \"cm\")"
   ]
  },
  {
   "cell_type": "code",
   "execution_count": null,
   "id": "cc294baa",
   "metadata": {},
   "outputs": [],
   "source": [
    "pca_coords <- Embeddings(cd4_samples, \"pca\")"
   ]
  },
  {
   "cell_type": "markdown",
   "id": "4db79c72",
   "metadata": {},
   "source": [
    "All PCs"
   ]
  },
  {
   "cell_type": "code",
   "execution_count": null,
   "id": "b9575439",
   "metadata": {},
   "outputs": [],
   "source": [
    "distance_matrix <- dist(pca_coords, method = \"euclidean\")"
   ]
  },
  {
   "cell_type": "code",
   "execution_count": null,
   "id": "a502a041",
   "metadata": {},
   "outputs": [],
   "source": [
    "distance_matrix"
   ]
  },
  {
   "cell_type": "code",
   "execution_count": null,
   "id": "d4550fac",
   "metadata": {},
   "outputs": [],
   "source": [
    "distance_matrix  %>% as.matrix()  %>% as.data.frame()"
   ]
  },
  {
   "cell_type": "code",
   "execution_count": null,
   "id": "263e5bd8",
   "metadata": {},
   "outputs": [],
   "source": [
    "dm = distance_matrix  %>% as.matrix()  %>% as.data.frame()\n",
    "\n",
    "table(colnames(dm) == rownames(dm))"
   ]
  },
  {
   "cell_type": "code",
   "execution_count": null,
   "id": "1c76ade2",
   "metadata": {},
   "outputs": [],
   "source": [
    "distance_matrix  <- distance_matrix  %>%  as.matrix()  %>% as.data.frame()  %>% \n",
    "rownames_to_column(\"sample1\")  %>%  \n",
    "pivot_longer(!sample1, names_to = \"sample2\", values_to = \"distance\")"
   ]
  },
  {
   "cell_type": "code",
   "execution_count": null,
   "id": "021be7de",
   "metadata": {
    "scrolled": true
   },
   "outputs": [],
   "source": [
    "distance_matrix"
   ]
  },
  {
   "cell_type": "markdown",
   "id": "a40c4fb0",
   "metadata": {},
   "source": [
    "Recode sample numbers to integers to avoid counting pairwise distance twice"
   ]
  },
  {
   "cell_type": "code",
   "execution_count": null,
   "id": "85491300",
   "metadata": {},
   "outputs": [],
   "source": [
    "# Create a named vector for mapping levels to integers\n",
    "level_map <- setNames(seq_along(colnames(dm)), colnames(dm))\n",
    "\n",
    "# Recode col1 and col2 to numeric using the same mapping\n",
    "distance_matrix$sn1 <- level_map[as.character(distance_matrix$sample1)]\n",
    "distance_matrix$sn2 <- level_map[as.character(distance_matrix$sample2)]"
   ]
  },
  {
   "cell_type": "markdown",
   "id": "dd57954e",
   "metadata": {},
   "source": [
    "Separate sample names to variables, create comparison categories"
   ]
  },
  {
   "cell_type": "code",
   "execution_count": null,
   "id": "be3494f5",
   "metadata": {},
   "outputs": [],
   "source": [
    "distance_matrix2  <- distance_matrix  %>% \n",
    "dplyr::filter(sn1 < sn2)  %>% \n",
    "separate(sample1, into = c(\"Patient_ID_1\", NA,NA,NA,NA,\"Exp_1\"), sep = \" \", remove = F)  %>% \n",
    "separate(sample2, into = c(\"Patient_ID_2\", NA,NA,NA,NA,\"Exp_2\"), sep = \" \", remove = F)  %>% \n",
    "mutate(Enrichment_1 = if_else(Exp_1 %in% c(\"Exp08\",\"Exp10\",\"Exp11\"), \"Initial\", \"Final\"))  %>% \n",
    "mutate(Enrichment_2 = if_else(Exp_2 %in% c(\"Exp08\",\"Exp10\",\"Exp11\"), \"Initial\", \"Final\"))  %>% \n",
    "mutate(Comp1 = paste(Exp_1, Exp_2))  %>% \n",
    "mutate(Comp2 = paste(Enrichment_1, Enrichment_2))   %>% \n",
    "mutate(Comp3 = if_else(Exp_1 == Exp_2, \"Within_exp\", \n",
    "                       if_else(Enrichment_1 == Enrichment_2 & Enrichment_1 == \"Final\", \"Cross_exp\", \n",
    "                       if_else(Enrichment_1 == Enrichment_2 & Enrichment_1 == \"Initial\", \"Cross_exp\", \n",
    "                              \"Cross_enrichment\" ))))  \n",
    "\n"
   ]
  },
  {
   "cell_type": "markdown",
   "id": "46e5b311",
   "metadata": {},
   "source": [
    "Recode experiment numbers to integers to ensure that comparison of Exp10 - Exp11 is the same as Exp11 - Exp10"
   ]
  },
  {
   "cell_type": "code",
   "execution_count": null,
   "id": "ae17c3c0",
   "metadata": {},
   "outputs": [],
   "source": [
    "# Create a named vector for mapping levels to integers\n",
    "level_map <- setNames(seq_along(levels(factor(distance_matrix2$Exp_1))), levels(factor(distance_matrix2$Exp_1)))\n",
    "\n",
    "# Recode col1 and col2 to numeric using the same mapping\n",
    "distance_matrix2$en1 <- level_map[as.character(distance_matrix2$Exp_1)]\n",
    "distance_matrix2$en2 <- level_map[as.character(distance_matrix2$Exp_2)]"
   ]
  },
  {
   "cell_type": "code",
   "execution_count": null,
   "id": "3f5b26a0",
   "metadata": {
    "scrolled": true
   },
   "outputs": [],
   "source": [
    "distance_matrix2"
   ]
  },
  {
   "cell_type": "code",
   "execution_count": null,
   "id": "950790a4",
   "metadata": {},
   "outputs": [],
   "source": [
    "distance_matrix2  <- distance_matrix2  %>% \n",
    "mutate(Comp1 = if_else(en1<en2, paste(Exp_1, Exp_2), paste(Exp_2,Exp_1))) \n"
   ]
  },
  {
   "cell_type": "code",
   "execution_count": null,
   "id": "8435db1a",
   "metadata": {},
   "outputs": [],
   "source": [
    "distance_matrix2"
   ]
  },
  {
   "cell_type": "markdown",
   "id": "f163a491",
   "metadata": {},
   "source": [
    "Recode experiment numbers to those used in the manuscript."
   ]
  },
  {
   "cell_type": "code",
   "execution_count": null,
   "id": "6608428b",
   "metadata": {},
   "outputs": [],
   "source": [
    "distance_matrix2$Comp1  <- gsub(distance_matrix2$Comp1, pattern = \"Exp10\", replacement = \"Batch1\")\n",
    "distance_matrix2$Comp1  <- gsub(distance_matrix2$Comp1, pattern = \"Exp11\", replacement = \"Batch2\")\n",
    "distance_matrix2$Comp1  <- gsub(distance_matrix2$Comp1, pattern = \"Exp16\", replacement = \"Batch3\")\n",
    "distance_matrix2$Comp1  <- gsub(distance_matrix2$Comp1, pattern = \"Exp18\", replacement = \"Batch4\")\n",
    "distance_matrix2$Comp1  <- gsub(distance_matrix2$Comp1, pattern = \"Exp19\", replacement = \"Batch5\")\n",
    "distance_matrix2$Comp1  <- gsub(distance_matrix2$Comp1, pattern = \"Exp20\", replacement = \"Batch6\")\n",
    "distance_matrix2$Comp2  <- gsub(distance_matrix2$Comp2, pattern = \"Final Initial\", replacement = \"Initial Final\")"
   ]
  },
  {
   "cell_type": "code",
   "execution_count": null,
   "id": "6e36ecca",
   "metadata": {},
   "outputs": [],
   "source": [
    "distance_matrix2  %>% \n",
    "ggplot(aes(x = Comp1, y = distance)) +\n",
    "geom_boxplot(outlier.shape = NA, aes(color = Comp2)) +\n",
    "#geom_violin(scale = \"width\") +\n",
    "geom_jitter(alpha = .1, width = 0.2, aes(color = Comp2)) +\n",
    "facet_grid(cols = vars(Comp3), scales = \"free_x\", space = \"free\") +\n",
    "theme_classic() +\n",
    "theme(axis.text.x = element_text(angle = 90)) +\n",
    "ggtheme() +\n",
    "scale_fill_manual(values = c(\"#3d79f3ff\",\"#b01ab8ff\", \"#e6352fff\")) +\n",
    "scale_color_manual(values = c(\"#3d79f3ff\",\"#b01ab8ff\", \"#e6352fff\")) +\n",
    "scale_y_continuous(limits = c(0,115), expand = c(0,0))"
   ]
  },
  {
   "cell_type": "code",
   "execution_count": null,
   "id": "705a9a2a",
   "metadata": {},
   "outputs": [],
   "source": [
    "ggsave(\"../figures/QC/PCA_dist_cd4_after_50pcs.svg\", width = 22, height = 12, units = \"cm\")"
   ]
  },
  {
   "cell_type": "markdown",
   "id": "4a349eb1",
   "metadata": {},
   "source": [
    "Just two PCs"
   ]
  },
  {
   "cell_type": "code",
   "execution_count": null,
   "id": "5ca640df",
   "metadata": {},
   "outputs": [],
   "source": [
    "pca_coords <- Embeddings(cd4_samples, \"pca\")"
   ]
  },
  {
   "cell_type": "code",
   "execution_count": null,
   "id": "0667ec99",
   "metadata": {},
   "outputs": [],
   "source": [
    "pca_coords <- pca_coords[, 1:2]"
   ]
  },
  {
   "cell_type": "code",
   "execution_count": null,
   "id": "2089fd95",
   "metadata": {},
   "outputs": [],
   "source": [
    "distance_matrix <- dist(pca_coords, method = \"euclidean\")"
   ]
  },
  {
   "cell_type": "code",
   "execution_count": null,
   "id": "973e8cac",
   "metadata": {},
   "outputs": [],
   "source": [
    "distance_matrix"
   ]
  },
  {
   "cell_type": "code",
   "execution_count": null,
   "id": "93f4dfd8",
   "metadata": {},
   "outputs": [],
   "source": [
    "distance_matrix  %>% as.matrix()  %>% as.data.frame()"
   ]
  },
  {
   "cell_type": "code",
   "execution_count": null,
   "id": "4a566360",
   "metadata": {},
   "outputs": [],
   "source": [
    "dm = distance_matrix  %>% as.matrix()  %>% as.data.frame()\n",
    "\n",
    "table(colnames(dm) == rownames(dm))"
   ]
  },
  {
   "cell_type": "code",
   "execution_count": null,
   "id": "a6deb767",
   "metadata": {},
   "outputs": [],
   "source": [
    "distance_matrix  <- distance_matrix  %>%  as.matrix()  %>% as.data.frame()  %>% \n",
    "rownames_to_column(\"sample1\")  %>%  \n",
    "pivot_longer(!sample1, names_to = \"sample2\", values_to = \"distance\")"
   ]
  },
  {
   "cell_type": "code",
   "execution_count": null,
   "id": "11534033",
   "metadata": {
    "scrolled": true
   },
   "outputs": [],
   "source": [
    "distance_matrix"
   ]
  },
  {
   "cell_type": "markdown",
   "id": "f421d3b5",
   "metadata": {},
   "source": [
    "Recode sample numbers to integers to avoid counting pairwise distance twice"
   ]
  },
  {
   "cell_type": "code",
   "execution_count": null,
   "id": "9c406fde",
   "metadata": {},
   "outputs": [],
   "source": [
    "# Create a named vector for mapping levels to integers\n",
    "level_map <- setNames(seq_along(colnames(dm)), colnames(dm))\n",
    "\n",
    "# Recode col1 and col2 to numeric using the same mapping\n",
    "distance_matrix$sn1 <- level_map[as.character(distance_matrix$sample1)]\n",
    "distance_matrix$sn2 <- level_map[as.character(distance_matrix$sample2)]"
   ]
  },
  {
   "cell_type": "markdown",
   "id": "88ef5e25",
   "metadata": {},
   "source": [
    "Separate sample names to variables, create comparison categories"
   ]
  },
  {
   "cell_type": "code",
   "execution_count": null,
   "id": "8de3af11",
   "metadata": {},
   "outputs": [],
   "source": [
    "distance_matrix2  <- distance_matrix  %>% \n",
    "dplyr::filter(sn1 < sn2)  %>% \n",
    "separate(sample1, into = c(\"Patient_ID_1\", NA,NA,NA,NA,\"Exp_1\"), sep = \" \", remove = F)  %>% \n",
    "separate(sample2, into = c(\"Patient_ID_2\", NA,NA,NA,NA,\"Exp_2\"), sep = \" \", remove = F)  %>% \n",
    "mutate(Enrichment_1 = if_else(Exp_1 %in% c(\"Exp08\",\"Exp10\",\"Exp11\"), \"Initial\", \"Final\"))  %>% \n",
    "mutate(Enrichment_2 = if_else(Exp_2 %in% c(\"Exp08\",\"Exp10\",\"Exp11\"), \"Initial\", \"Final\"))  %>% \n",
    "mutate(Comp1 = paste(Exp_1, Exp_2))  %>% \n",
    "mutate(Comp2 = paste(Enrichment_1, Enrichment_2))   %>% \n",
    "mutate(Comp3 = if_else(Exp_1 == Exp_2, \"Within_exp\", \n",
    "                       if_else(Enrichment_1 == Enrichment_2 & Enrichment_1 == \"Final\", \"Cross_exp\", \n",
    "                       if_else(Enrichment_1 == Enrichment_2 & Enrichment_1 == \"Initial\", \"Cross_exp\", \n",
    "                              \"Cross_enrichment\" ))))  \n",
    "\n"
   ]
  },
  {
   "cell_type": "markdown",
   "id": "2bc690fe",
   "metadata": {},
   "source": [
    "Recode experiment numbers to integers to ensure that comparison of Exp10 - Exp11 is the same as Exp11 - Exp10"
   ]
  },
  {
   "cell_type": "code",
   "execution_count": null,
   "id": "906ac728",
   "metadata": {},
   "outputs": [],
   "source": [
    "# Create a named vector for mapping levels to integers\n",
    "level_map <- setNames(seq_along(levels(factor(distance_matrix2$Exp_1))), levels(factor(distance_matrix2$Exp_1)))\n",
    "\n",
    "# Recode col1 and col2 to numeric using the same mapping\n",
    "distance_matrix2$en1 <- level_map[as.character(distance_matrix2$Exp_1)]\n",
    "distance_matrix2$en2 <- level_map[as.character(distance_matrix2$Exp_2)]"
   ]
  },
  {
   "cell_type": "code",
   "execution_count": null,
   "id": "9d4fd34b",
   "metadata": {
    "scrolled": true
   },
   "outputs": [],
   "source": [
    "distance_matrix2"
   ]
  },
  {
   "cell_type": "code",
   "execution_count": null,
   "id": "0de2f222",
   "metadata": {},
   "outputs": [],
   "source": [
    "distance_matrix2  <- distance_matrix2  %>% \n",
    "mutate(Comp1 = if_else(en1<en2, paste(Exp_1, Exp_2), paste(Exp_2,Exp_1))) \n"
   ]
  },
  {
   "cell_type": "code",
   "execution_count": null,
   "id": "6fbeef67",
   "metadata": {},
   "outputs": [],
   "source": [
    "distance_matrix2"
   ]
  },
  {
   "cell_type": "markdown",
   "id": "08ee245e",
   "metadata": {},
   "source": [
    "Recode experiment numbers to those used in the manuscript."
   ]
  },
  {
   "cell_type": "code",
   "execution_count": null,
   "id": "e98f9f0a",
   "metadata": {},
   "outputs": [],
   "source": [
    "distance_matrix2$Comp1  <- gsub(distance_matrix2$Comp1, pattern = \"Exp10\", replacement = \"Batch1\")\n",
    "distance_matrix2$Comp1  <- gsub(distance_matrix2$Comp1, pattern = \"Exp11\", replacement = \"Batch2\")\n",
    "distance_matrix2$Comp1  <- gsub(distance_matrix2$Comp1, pattern = \"Exp16\", replacement = \"Batch3\")\n",
    "distance_matrix2$Comp1  <- gsub(distance_matrix2$Comp1, pattern = \"Exp18\", replacement = \"Batch4\")\n",
    "distance_matrix2$Comp1  <- gsub(distance_matrix2$Comp1, pattern = \"Exp19\", replacement = \"Batch5\")\n",
    "distance_matrix2$Comp1  <- gsub(distance_matrix2$Comp1, pattern = \"Exp20\", replacement = \"Batch6\")\n",
    "distance_matrix2$Comp2  <- gsub(distance_matrix2$Comp2, pattern = \"Final Initial\", replacement = \"Initial Final\")"
   ]
  },
  {
   "cell_type": "code",
   "execution_count": null,
   "id": "80ba1e61",
   "metadata": {},
   "outputs": [],
   "source": [
    "distance_matrix2  %>% \n",
    "ggplot(aes(x = Comp1, y = distance)) +\n",
    "geom_boxplot(outlier.shape = NA, aes(color = Comp2)) +\n",
    "#geom_violin(scale = \"width\") +\n",
    "geom_jitter(alpha = .1, width = 0.2, aes(color = Comp2)) +\n",
    "facet_grid(cols = vars(Comp3), scales = \"free_x\", space = \"free\") +\n",
    "theme_classic() +\n",
    "theme(axis.text.x = element_text(angle = 90)) +\n",
    "ggtheme() +\n",
    "scale_fill_manual(values = c(\"#3d79f3ff\",\"#b01ab8ff\", \"#e6352fff\")) +\n",
    "scale_color_manual(values = c(\"#3d79f3ff\",\"#b01ab8ff\", \"#e6352fff\")) +\n",
    "scale_y_continuous(limits = c(0,115), expand = c(0,0))"
   ]
  },
  {
   "cell_type": "code",
   "execution_count": null,
   "id": "af9eba54",
   "metadata": {},
   "outputs": [],
   "source": [
    "ggsave(\"../figures/QC/PCA_dist_cd4_after_2pcs.svg\", width = 22, height = 12, units = \"cm\")"
   ]
  },
  {
   "cell_type": "code",
   "execution_count": null,
   "id": "c765288a",
   "metadata": {},
   "outputs": [],
   "source": []
  },
  {
   "cell_type": "code",
   "execution_count": null,
   "id": "1b3ec897",
   "metadata": {},
   "outputs": [],
   "source": []
  },
  {
   "cell_type": "markdown",
   "id": "1ab9920b",
   "metadata": {},
   "source": [
    "# Analysis CD4 Level 1"
   ]
  },
  {
   "cell_type": "markdown",
   "id": "9d53a961",
   "metadata": {},
   "source": [
    "Now we will perform a detailed analysis of the dataset, its main clusters as well as subclusters. The following hierarchy of analysis is used:\n",
    "* Level 1 - distinguish conventional and unconventional CD4 populations\n",
    "* Level 2 - main clusters of CD4 T cells \n",
    "* Level 3 - further subclustering of main clusters revealing cell states\n",
    "\n",
    "For each of the levels of classification, we wll perform subsetting, new normalization, new scaling, dimensional reduction, integration and annotation. From the obtained clusters, we will create dimplots and will calculate frequencies and markers. Clustering is performed on the filtered dataset and on the UMAP dimensional reduction. "
   ]
  },
  {
   "cell_type": "code",
   "execution_count": null,
   "id": "ca6986eb",
   "metadata": {},
   "outputs": [],
   "source": [
    "# Only run if you want to start form here\n",
    "# cd4_l1_full_filt  <- readRDS(\"../data/processed/L1/cd4_l1_full_filt.rds\")"
   ]
  },
  {
   "cell_type": "code",
   "execution_count": null,
   "id": "7a1d415e",
   "metadata": {},
   "outputs": [],
   "source": [
    "DefaultAssay(cd4_l1_full_filt)  <- \"integrated\""
   ]
  },
  {
   "cell_type": "code",
   "execution_count": null,
   "id": "4245fbaf",
   "metadata": {},
   "outputs": [],
   "source": [
    "cd4_l1_full_filt <- FindNeighbors(cd4_l1_full_filt, dims = 1:12)"
   ]
  },
  {
   "cell_type": "code",
   "execution_count": null,
   "id": "583039e7",
   "metadata": {},
   "outputs": [],
   "source": [
    "cd4_l1_full_filt <- FindClusters(cd4_l1_full_filt, resolution = 0.6)"
   ]
  },
  {
   "cell_type": "code",
   "execution_count": null,
   "id": "415eddbd",
   "metadata": {
    "scrolled": true
   },
   "outputs": [],
   "source": [
    "DimPlot(cd4_l1_full_filt, label = T)"
   ]
  },
  {
   "cell_type": "code",
   "execution_count": null,
   "id": "841cbdb4",
   "metadata": {},
   "outputs": [],
   "source": [
    "cd4_l1_full_filt@meta.data  <- cd4_l1_full_filt@meta.data  %>% \n",
    "mutate(annotations_manual = recode_factor(seurat_clusters, \n",
    "                                      \"0\" = \"CD4 T cells\",\n",
    "                                     \"1\" = \"CD4 T cells\",\n",
    "                                     \"2\" = \"CD4 T cells\",\n",
    "                                     \"3\" = \"CD4 T cells\",\n",
    "                                     \"4\" = \"CD4 T cells\",\n",
    "                                     \"5\" = \"CD4 T cells\",\n",
    "                                     \"6\" = \"CD4 T cells\",\n",
    "                                     \"7\" = \"CD4 T cells\",\n",
    "                                     \"8\" = \"CD4 T cells\",\n",
    "                                     \"9\" = \"CD4 T cells\",\n",
    "                                     \"10\" = \"Unconventional T cells\",\n",
    "                                     \"11\" = \"CD4 T cells\",\n",
    "                                     \"12\" = \"CD4 T cells\"))"
   ]
  },
  {
   "cell_type": "code",
   "execution_count": null,
   "id": "766755f3",
   "metadata": {},
   "outputs": [],
   "source": [
    "cd4_l1_full_filt@misc$cols_annotations  <- c(\"#ffd42aff\", \"#bf14c6ff\")"
   ]
  },
  {
   "cell_type": "code",
   "execution_count": null,
   "id": "83f27031",
   "metadata": {},
   "outputs": [],
   "source": [
    "cd4_l1_full_filt@misc$dataset_name  <- \"cd4_l1_full_filt\""
   ]
  },
  {
   "cell_type": "code",
   "execution_count": null,
   "id": "327cf6c2",
   "metadata": {},
   "outputs": [],
   "source": [
    "cd4_l1_full_filt@misc$all_md  <- cd4_l1_full_filt@meta.data  %>% \n",
    "                            dplyr::select(Sample_ID, Condition, Condition2, \n",
    "                                          Disease, \n",
    "                                          Sex, Age, Age_group, Patient_ID, \n",
    "                                          Time, Experiment_ID)   %>% unique"
   ]
  },
  {
   "cell_type": "code",
   "execution_count": null,
   "id": "bb4abbd8",
   "metadata": {
    "scrolled": true
   },
   "outputs": [],
   "source": [
    "options(repr.plot.width = 11, repr.plot.height = 8)\n",
    "DimPlot(cd4_l1_full_filt, cols = cd4_l1_full_filt@misc$cols_annotations, group.by = \"annotations_manual\")"
   ]
  },
  {
   "cell_type": "code",
   "execution_count": null,
   "id": "1f30538f",
   "metadata": {
    "scrolled": true
   },
   "outputs": [],
   "source": [
    "options(repr.plot.width = 8, repr.plot.height = 6.5)\n",
    "save_dimplot_plot(seurat_dataset = cd4_l1_full_filt)"
   ]
  },
  {
   "cell_type": "code",
   "execution_count": null,
   "id": "9d94579c",
   "metadata": {},
   "outputs": [],
   "source": [
    "saveRDS(cd4_l1_full_filt, \"../data/processed/L1/cd4_l1_full_filt.rds\")"
   ]
  },
  {
   "cell_type": "markdown",
   "id": "d60cbc99",
   "metadata": {},
   "source": [
    "### Cluster composition"
   ]
  },
  {
   "cell_type": "code",
   "execution_count": null,
   "id": "16c95319",
   "metadata": {
    "scrolled": false
   },
   "outputs": [],
   "source": [
    "process_plots_from_dataset(seurat_dataset = cd4_l1_full_filt)"
   ]
  },
  {
   "cell_type": "markdown",
   "id": "6f204371",
   "metadata": {},
   "source": [
    "### Save frequencies"
   ]
  },
  {
   "cell_type": "code",
   "execution_count": null,
   "id": "14c21183",
   "metadata": {},
   "outputs": [],
   "source": [
    "df4  <- create_df4(cd4_l1_full_filt)"
   ]
  },
  {
   "cell_type": "code",
   "execution_count": null,
   "id": "a2a364f0",
   "metadata": {
    "scrolled": true
   },
   "outputs": [],
   "source": [
    "df4"
   ]
  },
  {
   "cell_type": "code",
   "execution_count": null,
   "id": "0f1fa942",
   "metadata": {},
   "outputs": [],
   "source": [
    "dir_create(\"../tables/cd4/\")"
   ]
  },
  {
   "cell_type": "code",
   "execution_count": null,
   "id": "a3b70335",
   "metadata": {},
   "outputs": [],
   "source": [
    "dir.create(\"../tables/cd4/markers_annotations/\")\n",
    "dir.create(\"../tables/cd4/frequencies/\")"
   ]
  },
  {
   "cell_type": "code",
   "execution_count": null,
   "id": "076cebc1",
   "metadata": {},
   "outputs": [],
   "source": [
    "freq  <- df4  %>% dplyr::select(1:3)\n",
    "write.csv(freq, \"../tables/cd4/frequencies/freq_cd4_l1_full_filt.csv\", row.names = FALSE)"
   ]
  },
  {
   "cell_type": "markdown",
   "id": "078f1649",
   "metadata": {},
   "source": [
    "### Save markers"
   ]
  },
  {
   "cell_type": "code",
   "execution_count": null,
   "id": "fde7920c",
   "metadata": {},
   "outputs": [],
   "source": [
    "Idents(cd4_l1_full_filt)  <- cd4_l1_full_filt$annotations_manual"
   ]
  },
  {
   "cell_type": "code",
   "execution_count": null,
   "id": "ba3bbd80",
   "metadata": {},
   "outputs": [],
   "source": [
    "mrk  <- FindAllMarkers(cd4_l1_full_filt)"
   ]
  },
  {
   "cell_type": "code",
   "execution_count": null,
   "id": "ee388b8c",
   "metadata": {},
   "outputs": [],
   "source": [
    "mrk  <- rank_score_func(mrk)"
   ]
  },
  {
   "cell_type": "code",
   "execution_count": null,
   "id": "d227bbb8",
   "metadata": {},
   "outputs": [],
   "source": [
    "dir.create(\"../tables/cd4/markers_annotations/\")"
   ]
  },
  {
   "cell_type": "code",
   "execution_count": null,
   "id": "d632fd1f",
   "metadata": {},
   "outputs": [],
   "source": [
    "write.csv(mrk, \"../tables/cd4/markers_annotations/mrk_cd4_l1_full_filt.csv\", row.names = FALSE)"
   ]
  },
  {
   "cell_type": "markdown",
   "id": "9eed158c",
   "metadata": {},
   "source": [
    "## CD4 L1 Dorothea"
   ]
  },
  {
   "cell_type": "markdown",
   "id": "56f55e87",
   "metadata": {},
   "source": [
    "We will use the DecoupleR package for pathway activity and trascription factor activity estimation. Please see the GitHub page and the publication for more info.\n",
    "\n",
    "* [GitHub](https://github.com/saezlab/CollecTRI)\n",
    "* [Paper](https://academic.oup.com/nar/article/51/20/10934/7318114?login=false)    "
   ]
  },
  {
   "cell_type": "code",
   "execution_count": null,
   "id": "514a6407",
   "metadata": {},
   "outputs": [],
   "source": [
    "net <- get_progeny(organism = 'human', top = 200)\n",
    "net2 <- decoupleR::get_collectri(organism='human', split_complexes=FALSE)"
   ]
  },
  {
   "cell_type": "code",
   "execution_count": null,
   "id": "e07237ca",
   "metadata": {
    "scrolled": true
   },
   "outputs": [],
   "source": [
    "  data <- cd4_l1_full_filt\n",
    "# Extract the normalized log-transformed counts\n",
    "mat <- as.matrix(data@assays$RNA@data)\n",
    "\n",
    "######## Pathways Progeny #########   \n",
    "    \n",
    "# Run wmean\n",
    "acts <- run_wmean(mat=mat, net=net, .source='source', .target='target',\n",
    "                  .mor='weight', times = 100, minsize = 5)\n",
    "  \n",
    "# Add data to Seurat object\n",
    "\n",
    "  data[['pathwayswmean']] <- acts %>%\n",
    "  filter(statistic == 'norm_wmean') %>%\n",
    "  pivot_wider(id_cols = 'source', names_from = 'condition',\n",
    "              values_from = 'score') %>%\n",
    "  column_to_rownames('source') %>%\n",
    "  Seurat::CreateAssayObject(.)\n",
    "\n",
    "  # Scale the data\n",
    "DefaultAssay(object = data) <- \"pathwayswmean\"\n",
    "\n",
    "data <- ScaleData(data)\n",
    "data@assays$pathwayswmean@data <- data@assays$pathwayswmean@scale.data\n",
    "rownames(data@assays$pathwayswmean@data)\n",
    "\n",
    "######## CollecTRI ######### \n",
    "\n",
    "# Run ULM\n",
    "acts <- run_ulm(mat=mat, net=net2, .source='source', .target='target',\n",
    "                .mor='mor', minsize = 5)\n",
    "  \n",
    "# Add data to Seurat object\n",
    "  data[['CollecTRI']] <- acts %>%\n",
    "  pivot_wider(id_cols = 'source', names_from = 'condition',\n",
    "              values_from = 'score') %>%\n",
    "  column_to_rownames('source') %>%\n",
    "  Seurat::CreateAssayObject(.)\n",
    "\n",
    "  # Scale the data\n",
    "DefaultAssay(object = data) <- \"CollecTRI\"\n",
    "\n",
    "data <- ScaleData(data)\n",
    "data@assays$CollecTRI@data <- data@assays$CollecTRI@scale.data\n",
    "rownames(data@assays$CollecTRI@data)\n",
    "\n",
    "DefaultAssay(object = data) <- \"integrated\"\n",
    "saveRDS(data, paste0(\"../data/processed/L1/cd4_l1_full_filt.rds\"))\n"
   ]
  },
  {
   "cell_type": "code",
   "execution_count": null,
   "id": "cb5bb1ad",
   "metadata": {},
   "outputs": [],
   "source": []
  },
  {
   "cell_type": "markdown",
   "id": "3474c701",
   "metadata": {},
   "source": [
    "## Correlation CD45RA/RO with age"
   ]
  },
  {
   "cell_type": "code",
   "execution_count": null,
   "id": "a1c67965",
   "metadata": {},
   "outputs": [],
   "source": [
    "cd4_l1_full_filt"
   ]
  },
  {
   "cell_type": "code",
   "execution_count": null,
   "id": "854083a4",
   "metadata": {
    "scrolled": true
   },
   "outputs": [],
   "source": [
    "cd4_samples3  <-  AverageExpression(cd4_l1_full_filt, group.by = c(\"Sample_char\", \"Age\"), return.seurat = T, \n",
    "                                   assay = \"PTPRC\")\n",
    "\n",
    "cd4_samples3@meta.data  <- cd4_samples3@meta.data  %>% separate(Sample_char, \n",
    "                                                              into = c(\"Patient_ID\",\n",
    "                                                                      \"Disease\",\n",
    "                                                                      \"Time\",\n",
    "                                                                      \"Age_group\",\n",
    "                                                                      \"Sex\",\n",
    "                                                                      \"Exp\"), \n",
    "                                                             sep = \" \",\n",
    "                                                             remove = F)\n",
    "\n",
    "cd4_samples3@meta.data  <- cd4_samples3@meta.data  %>% \n",
    "mutate(Enrichment = if_else(Exp %in% c(\"Exp08\",\"Exp10\",\"Exp11\"), \"Initial\", \"Final\")) \n",
    "                                                         "
   ]
  },
  {
   "cell_type": "code",
   "execution_count": null,
   "id": "a35d0e03",
   "metadata": {},
   "outputs": [],
   "source": [
    "rownames(cd4_samples3)"
   ]
  },
  {
   "cell_type": "code",
   "execution_count": null,
   "id": "d8d2e81f",
   "metadata": {},
   "outputs": [],
   "source": [
    "df_ra_ro = as.data.frame(t(cd4_samples3@assays$PTPRC$data))"
   ]
  },
  {
   "cell_type": "code",
   "execution_count": null,
   "id": "e44dab00",
   "metadata": {},
   "outputs": [],
   "source": [
    "df_ra_ro  <- cbind(df_ra_ro, cd4_samples3@meta.data  %>% dplyr::select(Age_group, Age, Enrichment, Sample_char, Disease))"
   ]
  },
  {
   "cell_type": "code",
   "execution_count": null,
   "id": "4a2a69a2",
   "metadata": {
    "scrolled": true
   },
   "outputs": [],
   "source": [
    "df_ra_ro"
   ]
  },
  {
   "cell_type": "markdown",
   "id": "577dde55",
   "metadata": {},
   "source": [
    "### PTPRC-RA"
   ]
  },
  {
   "cell_type": "code",
   "execution_count": null,
   "id": "4e481d25",
   "metadata": {},
   "outputs": [],
   "source": [
    "options(repr.plot.width = 8, repr.plot.height = 5)\n",
    "df_ra_ro  %>% ggplot(aes(x = as.numeric(Age), y = `PTPRC-RA`, color = Enrichment))  +\n",
    "geom_point() +\n",
    "ggpubr::stat_cor() +\n",
    "ggtitle(\"PTPRC-RA\") +\n",
    "theme_classic() +\n",
    "ggtheme() "
   ]
  },
  {
   "cell_type": "code",
   "execution_count": null,
   "id": "0415711b",
   "metadata": {},
   "outputs": [],
   "source": [
    "options(repr.plot.width = 6, repr.plot.height = 5)\n",
    "df_ra_ro  %>% \n",
    "dplyr::filter(Enrichment == \"Final\")  %>% \n",
    "ggplot(aes(x = as.numeric(Age), y = `PTPRC-RA`))  +\n",
    "geom_point() +\n",
    "ggpubr::stat_cor() +\n",
    " geom_smooth(method=lm) +\n",
    "ggtitle(\"PTPRC-RA\") +\n",
    "theme_classic() +\n",
    "ggtheme() "
   ]
  },
  {
   "cell_type": "code",
   "execution_count": null,
   "id": "5057a2b4",
   "metadata": {},
   "outputs": [],
   "source": [
    "df_ra_ro  %>% \n",
    "dplyr::filter(Enrichment == \"Final\")  %>% \n",
    "group_by(Age_group)  %>% \n",
    "ggplot(aes(x = as.numeric(Age_group), y = `PTPRC-RA`, fill = Age_group))  +\n",
    "ggbeeswarm::geom_beeswarm() +\n",
    "geom_violin( alpha = .2, scale = \"width\") +\n",
    "theme_classic() +\n",
    "ggtheme() + \n",
    "  stat_summary(fun = \"mean\",\n",
    "               geom = \"crossbar\", \n",
    "               width = 0.5,\n",
    "               colour = \"black\") +\n",
    "ggtitle(\"PTPRC-RA\")"
   ]
  },
  {
   "cell_type": "markdown",
   "id": "f64c1b54",
   "metadata": {},
   "source": [
    "### PTPRC-RO"
   ]
  },
  {
   "cell_type": "code",
   "execution_count": null,
   "id": "881db9cb",
   "metadata": {},
   "outputs": [],
   "source": [
    "options(repr.plot.width = 8, repr.plot.height = 5)\n",
    "df_ra_ro  %>% ggplot(aes(x = as.numeric(Age), y = `PTPRC-RO`, color = Enrichment))  +\n",
    "geom_point() +\n",
    "ggpubr::stat_cor() + \n",
    "ggtitle(\"PTPRC-RO\") +\n",
    "theme_classic() +\n",
    "ggtheme() "
   ]
  },
  {
   "cell_type": "code",
   "execution_count": null,
   "id": "21704ee4",
   "metadata": {},
   "outputs": [],
   "source": [
    "options(repr.plot.width = 6, repr.plot.height = 5)\n",
    "df_ra_ro  %>% \n",
    "dplyr::filter(Enrichment == \"Final\")  %>% \n",
    "ggplot(aes(x = as.numeric(Age), y = `PTPRC-RO`))  +\n",
    "geom_point() +\n",
    "ggpubr::stat_cor() +\n",
    " geom_smooth(method=lm) +\n",
    "ggtitle(\"PTPRC-RO\")  +\n",
    "theme_classic() +\n",
    "ggtheme() "
   ]
  },
  {
   "cell_type": "code",
   "execution_count": null,
   "id": "82465d3a",
   "metadata": {
    "scrolled": true
   },
   "outputs": [],
   "source": [
    "df_ra_ro  %>% \n",
    "dplyr::filter(Enrichment == \"Final\")  %>% \n",
    "group_by(Age_group)  %>% \n",
    "ggplot(aes(x = as.numeric(Age_group), y = `PTPRC-RO`, fill = Age_group))  +\n",
    "ggbeeswarm::geom_beeswarm() +\n",
    "geom_violin( alpha = .2, scale = \"width\") +\n",
    "theme_classic() +\n",
    "ggtheme() + \n",
    "  stat_summary(fun = \"mean\",\n",
    "               geom = \"crossbar\", \n",
    "               width = 0.5,\n",
    "               colour = \"black\") +\n",
    "ggtitle(\"PTPRC-RO\") +\n",
    "theme_classic() +\n",
    "ggtheme() "
   ]
  },
  {
   "cell_type": "code",
   "execution_count": null,
   "id": "53115f0d",
   "metadata": {},
   "outputs": [],
   "source": []
  },
  {
   "cell_type": "code",
   "execution_count": null,
   "id": "9ac9e027",
   "metadata": {},
   "outputs": [],
   "source": []
  },
  {
   "cell_type": "code",
   "execution_count": null,
   "id": "8fbc04dd",
   "metadata": {},
   "outputs": [],
   "source": []
  },
  {
   "cell_type": "code",
   "execution_count": null,
   "id": "581aebe2",
   "metadata": {},
   "outputs": [],
   "source": []
  },
  {
   "cell_type": "markdown",
   "id": "71a9ff17",
   "metadata": {},
   "source": [
    "# Analysis CD4 Level 2: Conventional CD4"
   ]
  },
  {
   "cell_type": "code",
   "execution_count": null,
   "id": "11e093a0",
   "metadata": {},
   "outputs": [],
   "source": [
    "cd4_l1_full_filt  <- readRDS(\"../data/processed/L1/cd4_l1_full_filt.rds\")"
   ]
  },
  {
   "cell_type": "code",
   "execution_count": null,
   "id": "ea5043c9",
   "metadata": {},
   "outputs": [],
   "source": [
    "cd4_l1_full_filt$Patient_Time  %>% table"
   ]
  },
  {
   "cell_type": "code",
   "execution_count": null,
   "id": "a572d55c",
   "metadata": {},
   "outputs": [],
   "source": [
    "plan(\"sequential\")"
   ]
  },
  {
   "cell_type": "code",
   "execution_count": null,
   "id": "7e3c9cd1",
   "metadata": {},
   "outputs": [],
   "source": [
    "cd4_l1_full_filt"
   ]
  },
  {
   "cell_type": "code",
   "execution_count": null,
   "id": "a85118f8",
   "metadata": {},
   "outputs": [],
   "source": [
    "cd4_subcluster  <- subset(cd4_l1_full_filt, annotations_manual == \"CD4 T cells\")"
   ]
  },
  {
   "cell_type": "code",
   "execution_count": null,
   "id": "84bfba47",
   "metadata": {},
   "outputs": [],
   "source": [
    "merged.list  <- SplitObject(cd4_subcluster, split.by = \"Experiment_ID\")"
   ]
  },
  {
   "cell_type": "code",
   "execution_count": null,
   "id": "b25caf97",
   "metadata": {},
   "outputs": [],
   "source": [
    "# normalize and identify variable features for each dataset independently\n",
    "merged.list <- lapply(X = merged.list, FUN = function(x) {\n",
    "    DefaultAssay(x)  <- \"RNA\"\n",
    "    x$barcode  <- colnames(x)\n",
    "    x <- NormalizeData(x)\n",
    "    x <- FindVariableFeatures(x, selection.method = \"vst\", nfeatures = 2000)\n",
    "})"
   ]
  },
  {
   "cell_type": "code",
   "execution_count": null,
   "id": "e9a5d7ba",
   "metadata": {
    "scrolled": true
   },
   "outputs": [],
   "source": [
    "new_dia_experiment2 <- Run.STACAS(merged.list, dims = 1:10)\n",
    "new_dia_experiment2 <- RunUMAP(new_dia_experiment2, dims = 1:10) "
   ]
  },
  {
   "cell_type": "code",
   "execution_count": null,
   "id": "55029193",
   "metadata": {},
   "outputs": [],
   "source": [
    "cd4_subcluster <- FindNeighbors(new_dia_experiment2, reduction = \"pca\", dims = 1:10)"
   ]
  },
  {
   "cell_type": "code",
   "execution_count": null,
   "id": "f51d4a49",
   "metadata": {},
   "outputs": [],
   "source": [
    "DefaultAssay(cd4_subcluster)  <- \"integrated\""
   ]
  },
  {
   "cell_type": "code",
   "execution_count": null,
   "id": "4d75fe55",
   "metadata": {},
   "outputs": [],
   "source": [
    "cd4_subcluster <- FindClusters(cd4_subcluster, resolution = 0.6)"
   ]
  },
  {
   "cell_type": "code",
   "execution_count": null,
   "id": "daaad3b0",
   "metadata": {
    "scrolled": true
   },
   "outputs": [],
   "source": [
    "options(repr.plot.width = 8, repr.plot.height = 7)\n",
    "\n",
    "DimPlot(cd4_subcluster, label = T, raster = T)"
   ]
  },
  {
   "cell_type": "markdown",
   "id": "b18c0a1b",
   "metadata": {},
   "source": [
    "### Cluster markers"
   ]
  },
  {
   "cell_type": "code",
   "execution_count": null,
   "id": "6831d587",
   "metadata": {},
   "outputs": [],
   "source": [
    "### Naive\n",
    "\n",
    "DefaultAssay(cd4_subcluster)  <- \"integrated\"\n",
    "\n",
    "mrk  <- FindAllMarkers(cd4_subcluster, only.pos = TRUE)\n",
    "\n",
    "mrk  <- rank_score_func(mrk)\n",
    "\n",
    "markers  <- mrk  %>% arrange(desc(score))  %>% group_by(cluster)  %>% slice_head(n = 4)  %>% pull(gene)"
   ]
  },
  {
   "cell_type": "code",
   "execution_count": null,
   "id": "1094b8cb",
   "metadata": {
    "scrolled": true
   },
   "outputs": [],
   "source": [
    "mrk"
   ]
  },
  {
   "cell_type": "code",
   "execution_count": null,
   "id": "4e9afcb4",
   "metadata": {
    "scrolled": true
   },
   "outputs": [],
   "source": [
    "markers2  <- rev(c(\"SELL\", \"CCR7\", \"LEF1\", \"TCF7\", \n",
    "              \"CXCR5\", \"IL21\", \"BCL6\",\n",
    "              \n",
    "              \"ISG15\", \"IFIT1\", \"OAS3\",\n",
    "              \"FOXP3\", \"IKZF2\",\"IL2RA\",  \"TNFRSF18\",\n",
    "              \"GATA3\", \"IL4\", \"IL13\",\n",
    "             \"IL17A\", \"IL23R\", \"RORC\" , \"IL7R\",\n",
    "              \"CCL5\", \n",
    "              \"TBX21\", \"IFNG\",\"ZBTB16\",\n",
    "              \"CXCR6\", \"CXCR3\",\n",
    "              \"KLRG1\",\"CX3CR1\",\"CD27\",\"B3GAT1\",\"CD28\",\"FAS\",\n",
    "             \"MKI67\", \"PCNA\", \"MCM6\" ))\n",
    "\n",
    "avgexp = AverageExpression(cd4_subcluster, features = c(markers, markers2),\n",
    "                           return.seurat = F, group.by = \"seurat_clusters\", \n",
    "                          assay = \"RNA\")\n",
    "\n",
    "avgexp$RNA"
   ]
  },
  {
   "cell_type": "code",
   "execution_count": null,
   "id": "f4863b34",
   "metadata": {
    "scrolled": true
   },
   "outputs": [],
   "source": [
    "options(repr.plot.width = 7, repr.plot.height = 15)\n",
    "pheatmap(avgexp$RNA, main = \"\", \n",
    "         scale = \"row\", cluster_cols = T, cluster_rows = T,\n",
    "        color=colorRampPalette(c(\"dodgerblue\", \"grey95\", \"indianred2\"))(50), \n",
    "         border_color = \"white\",\n",
    "                  fontsize = 9)"
   ]
  },
  {
   "cell_type": "markdown",
   "id": "13545bf8",
   "metadata": {},
   "source": [
    "### Cluster tree"
   ]
  },
  {
   "cell_type": "code",
   "execution_count": null,
   "id": "2b1ae29d",
   "metadata": {},
   "outputs": [],
   "source": [
    "options(repr.plot.width = 6, repr.plot.height = 5)\n",
    "DimPlot(cd4_subcluster, label = T)"
   ]
  },
  {
   "cell_type": "code",
   "execution_count": null,
   "id": "3e9ce489",
   "metadata": {},
   "outputs": [],
   "source": [
    "cd4_subcluster <- BuildClusterTree(\n",
    "  cd4_subcluster,\n",
    "  dims = 1:10,\n",
    "  reorder = FALSE,\n",
    "  reorder.numeric = FALSE)"
   ]
  },
  {
   "cell_type": "code",
   "execution_count": null,
   "id": "1e286227",
   "metadata": {},
   "outputs": [],
   "source": [
    "tree <- cd4_subcluster@tools$BuildClusterTree\n",
    "tree$tip.label <- paste0(\"Cluster \", tree$tip.label)"
   ]
  },
  {
   "cell_type": "code",
   "execution_count": null,
   "id": "c8fd4bee",
   "metadata": {},
   "outputs": [],
   "source": [
    "#cols  <- c(\"#f1cc7dff\",\"#e1b82bff\",\"#e1b82bff\",\"#eb7a8bff\",\"#f1a46cff\",\"#e1b82bff\",\n",
    "#  \"#fcc9deff\", \"indianred3\", \"#fcc9deff\", \"#e9afafff\", \"#dc6b2fff\", \"#7d252aff\")"
   ]
  },
  {
   "cell_type": "code",
   "execution_count": null,
   "id": "269f840d",
   "metadata": {},
   "outputs": [],
   "source": [
    "p <- ggtree::ggtree(tree, aes(x, y)) +\n",
    "  scale_y_reverse() +\n",
    "  ggtree::geom_tree() +\n",
    "  ggtree::theme_tree() +\n",
    "  ggtree::geom_tiplab(offset = 1) +\n",
    "  ggtree::geom_tippoint(shape = 16, size = 5) +\n",
    "  coord_cartesian(clip = 'off') +\n",
    "  theme(plot.margin = unit(c(0,2.5,0,0), 'cm'))\n",
    "\n",
    "#ggsave('plots/cluster_tree.png', p, height = 4, width = 6)"
   ]
  },
  {
   "cell_type": "code",
   "execution_count": null,
   "id": "9867d278",
   "metadata": {
    "scrolled": false
   },
   "outputs": [],
   "source": [
    "options(repr.plot.width=3.5, repr.plot.height=3)\n",
    "p"
   ]
  },
  {
   "cell_type": "markdown",
   "id": "b564bd3a",
   "metadata": {},
   "source": [
    "### Annotations L2"
   ]
  },
  {
   "cell_type": "code",
   "execution_count": null,
   "id": "b4f081fe",
   "metadata": {},
   "outputs": [],
   "source": [
    "DimPlot(cd4_subcluster, label = T)"
   ]
  },
  {
   "cell_type": "code",
   "execution_count": null,
   "id": "e6902706",
   "metadata": {},
   "outputs": [],
   "source": []
  },
  {
   "cell_type": "code",
   "execution_count": null,
   "id": "f6fb2cca",
   "metadata": {},
   "outputs": [],
   "source": [
    "cd4_subcluster@meta.data  <- cd4_subcluster@meta.data  %>% \n",
    "mutate(annotations_manual = recode_factor(seurat_clusters, \"0\" = \"Tfh\",\n",
    "                                     \"1\" = \"Naive\",\n",
    "                                     \"2\" = \"Th2\",\n",
    "                                     \"3\" = \"Naive\",\n",
    "                                     \"4\" = \"Treg\",\n",
    "                                     \"5\" = \"Naive\",\n",
    "                                     \"6\" = \"Th1Th17\",\n",
    "                                     \"7\" = \"ISAGhi\",\n",
    "                                     \"8\" = \"Treg\",\n",
    "                                     \"9\" = \"Nfkb\",\n",
    "                                     \"10\" = \"Proliferating\",\n",
    "                                     \"11\" = \"Temra\"))"
   ]
  },
  {
   "cell_type": "code",
   "execution_count": null,
   "id": "3b314f78",
   "metadata": {},
   "outputs": [],
   "source": [
    "cd4_subcluster@misc$cols_annotations  <- c(\n",
    "       \"#f1cc7dff\", # Tfh\n",
    "       \"#e1b82bff\",  # Naive\n",
    "       \"#eb7a8bff\", # Th2\n",
    "       \"#fcc9deff\", # Treg\n",
    "       \"indianred3\",  # Th1\n",
    "       \"#e9afafff\",  # ISAGhi\n",
    "       \"#f1a46cff\",  # Nfkb\n",
    "       \"orchid3\", # Proliferating\n",
    "       \"#7d252aff\") # Temra \n"
   ]
  },
  {
   "cell_type": "code",
   "execution_count": null,
   "id": "0e001cf0",
   "metadata": {},
   "outputs": [],
   "source": [
    "options(repr.plot.width = 11, repr.plot.height = 9)\n",
    "\n",
    "DimPlot(cd4_subcluster, label = F, group.by = \"annotations_manual\", \n",
    "        cols = cd4_subcluster@misc$cols_annotations, pt.size = 0.05\n",
    "     )"
   ]
  },
  {
   "cell_type": "markdown",
   "id": "1f6041bf",
   "metadata": {},
   "source": [
    "### Cluster composition"
   ]
  },
  {
   "cell_type": "code",
   "execution_count": null,
   "id": "4c61ad3f",
   "metadata": {},
   "outputs": [],
   "source": [
    "cd4_subcluster@misc$dataset_name  <- \"cd4_subcluster\""
   ]
  },
  {
   "cell_type": "code",
   "execution_count": null,
   "id": "e0d05e7c",
   "metadata": {},
   "outputs": [],
   "source": [
    "cd4_subcluster@misc$all_md  <- cd4_subcluster@meta.data  %>% \n",
    "                            dplyr::select(Sample_ID, Condition, Condition2, \n",
    "                                          Disease, \n",
    "                                          Sex, Age, Age_group, Patient_ID, \n",
    "                                          Time, Experiment_ID)   %>% unique"
   ]
  },
  {
   "cell_type": "code",
   "execution_count": null,
   "id": "b7933b96",
   "metadata": {
    "scrolled": true
   },
   "outputs": [],
   "source": [
    "options(repr.plot.width = 11, repr.plot.height = 8)\n",
    "DimPlot(cd4_subcluster, cols = cd4_subcluster@misc$cols_annotations, group.by = \"annotations_manual\")"
   ]
  },
  {
   "cell_type": "code",
   "execution_count": null,
   "id": "d4d0a61d",
   "metadata": {
    "scrolled": true
   },
   "outputs": [],
   "source": [
    "options(repr.plot.width = 8, repr.plot.height = 6.5)\n",
    "save_dimplot_plot(seurat_dataset = cd4_subcluster)"
   ]
  },
  {
   "cell_type": "code",
   "execution_count": null,
   "id": "248add62",
   "metadata": {},
   "outputs": [],
   "source": [
    "saveRDS(cd4_subcluster, \"../data/processed/L2/cd4_subcluster.rds\")"
   ]
  },
  {
   "cell_type": "code",
   "execution_count": null,
   "id": "6c6a8799",
   "metadata": {},
   "outputs": [],
   "source": [
    "process_plots_from_dataset(seurat_dataset = cd4_subcluster)"
   ]
  },
  {
   "cell_type": "markdown",
   "id": "38e55ab5",
   "metadata": {},
   "source": [
    "### Save frequencies"
   ]
  },
  {
   "cell_type": "code",
   "execution_count": null,
   "id": "8fda28af",
   "metadata": {},
   "outputs": [],
   "source": [
    "df4  <- create_df4(cd4_subcluster)"
   ]
  },
  {
   "cell_type": "code",
   "execution_count": null,
   "id": "582fa9c9",
   "metadata": {
    "scrolled": true
   },
   "outputs": [],
   "source": [
    "df4"
   ]
  },
  {
   "cell_type": "code",
   "execution_count": null,
   "id": "4507fe4a",
   "metadata": {},
   "outputs": [],
   "source": [
    "dir_create(\"../tables/cd4/\")"
   ]
  },
  {
   "cell_type": "code",
   "execution_count": null,
   "id": "192b531c",
   "metadata": {},
   "outputs": [],
   "source": [
    "dir.create(\"../tables/cd4/markers_annotations/\")\n",
    "dir.create(\"../tables/cd4/frequencies/\")"
   ]
  },
  {
   "cell_type": "code",
   "execution_count": null,
   "id": "389891a9",
   "metadata": {},
   "outputs": [],
   "source": [
    "freq  <- df4  %>% dplyr::select(1:3)\n",
    "write.csv(freq, \"../tables/cd4/frequencies/freq_cd4_subcluster.csv\", row.names = FALSE)"
   ]
  },
  {
   "cell_type": "markdown",
   "id": "81be9a6b",
   "metadata": {},
   "source": [
    "### Save markers"
   ]
  },
  {
   "cell_type": "code",
   "execution_count": null,
   "id": "c50796da",
   "metadata": {},
   "outputs": [],
   "source": [
    "Idents(cd4_subcluster)  <- cd4_subcluster$annotations_manual"
   ]
  },
  {
   "cell_type": "code",
   "execution_count": null,
   "id": "7ab6f7f9",
   "metadata": {},
   "outputs": [],
   "source": [
    "mrk  <- FindAllMarkers(cd4_subcluster)"
   ]
  },
  {
   "cell_type": "code",
   "execution_count": null,
   "id": "ca8ef9b6",
   "metadata": {},
   "outputs": [],
   "source": [
    "mrk  <- rank_score_func(mrk)"
   ]
  },
  {
   "cell_type": "code",
   "execution_count": null,
   "id": "1390620a",
   "metadata": {},
   "outputs": [],
   "source": [
    "write.csv(mrk, \"../tables/cd4/markers_annotations/mrk_cd4_subcluster.csv\", row.names = FALSE)"
   ]
  },
  {
   "cell_type": "markdown",
   "id": "af7f0982",
   "metadata": {},
   "source": [
    "## Correlation CD45RA/RO with age"
   ]
  },
  {
   "cell_type": "code",
   "execution_count": null,
   "id": "ae4d29c6",
   "metadata": {},
   "outputs": [],
   "source": [
    "# cd4_subcluster  <- readRDS(\"../../240617_VN_Diabetes_V06/data/processed/L2/cd4_subcluster.rds\")"
   ]
  },
  {
   "cell_type": "code",
   "execution_count": null,
   "id": "d9e5592a",
   "metadata": {},
   "outputs": [],
   "source": [
    "options(repr.plot.width = 8, repr.plot.height = 6.5)\n",
    "\n",
    "DimPlot(cd4_subcluster, raster = T, group.by = \"Experiment_ID\", \n",
    "       cols = c(\"salmon\",\"red3\", \"dodgerblue1\",\"dodgerblue2\",\"dodgerblue3\",\"dodgerblue4\"))"
   ]
  },
  {
   "cell_type": "code",
   "execution_count": null,
   "id": "69f9a9db",
   "metadata": {
    "scrolled": true
   },
   "outputs": [],
   "source": [
    "cd4_samples3  <-  AverageExpression(cd4_subcluster, group.by = c(\"Sample_char\", \"Age\"), return.seurat = T, \n",
    "                                   assay = \"PTPRC\")\n",
    "\n",
    "cd4_samples3@meta.data  <- cd4_samples3@meta.data  %>% separate(Sample_char, \n",
    "                                                              into = c(\"Patient_ID\",\n",
    "                                                                      \"Disease\",\n",
    "                                                                      \"Time\",\n",
    "                                                                      \"Age_group\",\n",
    "                                                                      \"Sex\",\n",
    "                                                                      \"Exp\"), \n",
    "                                                             sep = \" \",\n",
    "                                                             remove = F)\n",
    "\n",
    "cd4_samples3@meta.data  <- cd4_samples3@meta.data  %>% \n",
    "mutate(Enrichment = if_else(Exp %in% c(\"Exp08\",\"Exp10\",\"Exp11\"), \"Initial\", \"Final\")) \n",
    "                                                         "
   ]
  },
  {
   "cell_type": "code",
   "execution_count": null,
   "id": "61fb086e",
   "metadata": {},
   "outputs": [],
   "source": [
    "rownames(cd4_samples3)"
   ]
  },
  {
   "cell_type": "code",
   "execution_count": null,
   "id": "36a48789",
   "metadata": {},
   "outputs": [],
   "source": [
    "df_ra_ro = as.data.frame(t(cd4_samples3@assays$PTPRC$data))"
   ]
  },
  {
   "cell_type": "code",
   "execution_count": null,
   "id": "1f10a078",
   "metadata": {},
   "outputs": [],
   "source": [
    "df_ra_ro  <- cbind(df_ra_ro, cd4_samples3@meta.data  %>% dplyr::select(Age_group, Age, Enrichment, Sample_char, Disease))"
   ]
  },
  {
   "cell_type": "code",
   "execution_count": null,
   "id": "bf4e221e",
   "metadata": {
    "scrolled": true
   },
   "outputs": [],
   "source": [
    "df_ra_ro"
   ]
  },
  {
   "cell_type": "markdown",
   "id": "0cbe2785",
   "metadata": {},
   "source": [
    "### PTPRC-RA"
   ]
  },
  {
   "cell_type": "code",
   "execution_count": null,
   "id": "0722fe5d",
   "metadata": {},
   "outputs": [],
   "source": [
    "options(repr.plot.width = 8, repr.plot.height = 5)\n",
    "df_ra_ro  %>% ggplot(aes(x = as.numeric(Age), y = `PTPRC-RA`, color = Enrichment))  +\n",
    "geom_point() +\n",
    "ggpubr::stat_cor() +\n",
    "ggtitle(\"PTPRC-RA\") +\n",
    "theme_classic() +\n",
    "ggtheme() "
   ]
  },
  {
   "cell_type": "code",
   "execution_count": null,
   "id": "97f100f5",
   "metadata": {},
   "outputs": [],
   "source": [
    "options(repr.plot.width = 6, repr.plot.height = 5)\n",
    "df_ra_ro  %>% \n",
    "dplyr::filter(Enrichment == \"Final\")  %>% \n",
    "ggplot(aes(x = as.numeric(Age), y = `PTPRC-RA`))  +\n",
    "geom_point() +\n",
    "ggpubr::stat_cor() +\n",
    " geom_smooth(method=lm) +\n",
    "ggtitle(\"PTPRC-RA\") +\n",
    "theme_classic() +\n",
    "ggtheme() "
   ]
  },
  {
   "cell_type": "code",
   "execution_count": null,
   "id": "2ae18152",
   "metadata": {},
   "outputs": [],
   "source": [
    "df_ra_ro  %>% \n",
    "dplyr::filter(Enrichment == \"Final\")  %>% \n",
    "group_by(Age_group)  %>% \n",
    "ggplot(aes(x = as.numeric(Age_group), y = `PTPRC-RA`, fill = Age_group))  +\n",
    "ggbeeswarm::geom_beeswarm() +\n",
    "geom_violin( alpha = .2, scale = \"width\") +\n",
    "theme_classic() +\n",
    "ggtheme() + \n",
    "  stat_summary(fun = \"mean\",\n",
    "               geom = \"crossbar\", \n",
    "               width = 0.5,\n",
    "               colour = \"black\") +\n",
    "ggtitle(\"PTPRC-RA\")"
   ]
  },
  {
   "cell_type": "markdown",
   "id": "b26c3d37",
   "metadata": {},
   "source": [
    "### PTPRC-RO"
   ]
  },
  {
   "cell_type": "code",
   "execution_count": null,
   "id": "0df1fb19",
   "metadata": {},
   "outputs": [],
   "source": [
    "options(repr.plot.width = 8, repr.plot.height = 5)\n",
    "df_ra_ro  %>% ggplot(aes(x = as.numeric(Age), y = `PTPRC-RO`, color = Enrichment))  +\n",
    "geom_point() +\n",
    "ggpubr::stat_cor() + \n",
    "ggtitle(\"PTPRC-RO\") +\n",
    "theme_classic() +\n",
    "ggtheme() "
   ]
  },
  {
   "cell_type": "code",
   "execution_count": null,
   "id": "c47d6170",
   "metadata": {},
   "outputs": [],
   "source": [
    "options(repr.plot.width = 6, repr.plot.height = 5)\n",
    "df_ra_ro  %>% \n",
    "dplyr::filter(Enrichment == \"Final\")  %>% \n",
    "ggplot(aes(x = as.numeric(Age), y = `PTPRC-RO`))  +\n",
    "geom_point() +\n",
    "ggpubr::stat_cor() +\n",
    " geom_smooth(method=lm) +\n",
    "ggtitle(\"PTPRC-RO\")  +\n",
    "theme_classic() +\n",
    "ggtheme() "
   ]
  },
  {
   "cell_type": "code",
   "execution_count": null,
   "id": "25a66367",
   "metadata": {
    "scrolled": true
   },
   "outputs": [],
   "source": [
    "df_ra_ro  %>% \n",
    "dplyr::filter(Enrichment == \"Final\")  %>% \n",
    "group_by(Age_group)  %>% \n",
    "ggplot(aes(x = as.numeric(Age_group), y = `PTPRC-RO`, fill = Age_group))  +\n",
    "ggbeeswarm::geom_beeswarm() +\n",
    "geom_violin( alpha = .2, scale = \"width\") +\n",
    "theme_classic() +\n",
    "ggtheme() + \n",
    "  stat_summary(fun = \"mean\",\n",
    "               geom = \"crossbar\", \n",
    "               width = 0.5,\n",
    "               colour = \"black\") +\n",
    "ggtitle(\"PTPRC-RO\") +\n",
    "theme_classic() +\n",
    "ggtheme() "
   ]
  },
  {
   "cell_type": "markdown",
   "id": "652211fe",
   "metadata": {},
   "source": [
    "# Analysis CD4 Level 2: Unconventional CD4"
   ]
  },
  {
   "cell_type": "code",
   "execution_count": null,
   "id": "e86c82e4",
   "metadata": {},
   "outputs": [],
   "source": [
    "# cd4_l1_full_filt  <- readRDS(\"../data/processed/L1/cd4_l1_full_filt.rds\")"
   ]
  },
  {
   "cell_type": "code",
   "execution_count": null,
   "id": "86b42559",
   "metadata": {},
   "outputs": [],
   "source": [
    "cd4_l1_full_filt$annotations_manual  %>% table"
   ]
  },
  {
   "cell_type": "code",
   "execution_count": null,
   "id": "ca6b42c1",
   "metadata": {},
   "outputs": [],
   "source": [
    "cd4_l2_unc  <- subset(cd4_l1_full_filt, annotations_manual == \"Unconventional T cells\")"
   ]
  },
  {
   "cell_type": "code",
   "execution_count": null,
   "id": "66e7800c",
   "metadata": {},
   "outputs": [],
   "source": [
    "cd4_l2_unc@meta.data  <- cd4_l2_unc@meta.data  %>% \n",
    "    mutate(Experiment_ID_2 = \n",
    "           ifelse(Experiment_ID %in% c(\"Exp10\", \"Exp11\"), \"Exp10_11\",Experiment_ID ))"
   ]
  },
  {
   "cell_type": "code",
   "execution_count": null,
   "id": "3e1895e8",
   "metadata": {},
   "outputs": [],
   "source": [
    "merged.list  <- SplitObject(cd4_l2_unc, split.by = \"Experiment_ID_2\")"
   ]
  },
  {
   "cell_type": "code",
   "execution_count": null,
   "id": "81b8c459",
   "metadata": {
    "scrolled": true
   },
   "outputs": [],
   "source": [
    "merged.list"
   ]
  },
  {
   "cell_type": "code",
   "execution_count": null,
   "id": "e811a5ce",
   "metadata": {},
   "outputs": [],
   "source": [
    "# normalize and identify variable features for each dataset independently\n",
    "merged.list <- lapply(X = merged.list, FUN = function(x) {\n",
    "    DefaultAssay(x)  <- \"RNA\"\n",
    "    x$barcode  <- colnames(x)\n",
    "    x <- NormalizeData(x)\n",
    "    x <- FindVariableFeatures(x, selection.method = \"vst\", nfeatures = 2000)\n",
    "})"
   ]
  },
  {
   "cell_type": "code",
   "execution_count": null,
   "id": "c3f36979",
   "metadata": {
    "scrolled": true
   },
   "outputs": [],
   "source": [
    "\n",
    "stacas_anchors <- FindAnchors.STACAS(merged.list, \n",
    "                                     dims = 1:12, \n",
    "                                     min.sample.size = 65)\n",
    "st1 <- SampleTree.STACAS(\n",
    "  anchorset = stacas_anchors,\n",
    "  obj.names = names(merged.list)\n",
    "  )    \n",
    "\n",
    "new_dia_experiment2 <- IntegrateData.STACAS(stacas_anchors,\n",
    "                                          sample.tree = st1,\n",
    "                                          dims=1:12) %>% ScaleData() %>%\n",
    "  RunPCA(npcs=12) %>% RunUMAP(dims=1:12)\n",
    "\n",
    "new_dia_experiment2 <- FindNeighbors(new_dia_experiment2, reduction = \"pca\", dims = 1:12)\n",
    "new_dia_experiment2 <- FindClusters(new_dia_experiment2, resolution = 0.3)\n",
    "\n",
    "DimPlot(new_dia_experiment2, label = T)\n",
    "\n",
    "mrk  <- FindAllMarkers(new_dia_experiment2, logfc.threshold = log(1.5))\n",
    "\n",
    "write.csv(mrk, paste0(\"../tables/cd4/markers_cd4_l2_unc.csv\"))\n",
    "\n",
    "saveRDS(new_dia_experiment2, paste0(\"../data/processed/L2/cd4_l2_unc.rds\"))"
   ]
  },
  {
   "cell_type": "code",
   "execution_count": null,
   "id": "898f64aa",
   "metadata": {},
   "outputs": [],
   "source": [
    "cd4_l2_unc <- FindNeighbors(new_dia_experiment2, reduction = \"pca\", dims = 1:12)"
   ]
  },
  {
   "cell_type": "code",
   "execution_count": null,
   "id": "880e053f",
   "metadata": {},
   "outputs": [],
   "source": [
    "DefaultAssay(cd4_l2_unc)  <- \"integrated\""
   ]
  },
  {
   "cell_type": "code",
   "execution_count": null,
   "id": "e3fdd3b6",
   "metadata": {},
   "outputs": [],
   "source": [
    "cd4_l2_unc <- FindClusters(cd4_l2_unc, resolution = 0.3)"
   ]
  },
  {
   "cell_type": "code",
   "execution_count": null,
   "id": "ded08706",
   "metadata": {},
   "outputs": [],
   "source": [
    "options(repr.plot.width = 6, repr.plot.height = 5)\n",
    "\n",
    "DimPlot(cd4_l2_unc, label = T)"
   ]
  },
  {
   "cell_type": "code",
   "execution_count": null,
   "id": "606e5b52",
   "metadata": {
    "scrolled": true
   },
   "outputs": [],
   "source": [
    "mrk  <- FindAllMarkers(cd4_l2_unc, only.pos = TRUE)\n",
    "\n",
    "mrk  <- rank_score_func(mrk)\n",
    "\n",
    "markers  <- mrk  %>% arrange(desc(score))  %>% group_by(cluster)  %>% slice_head(n = 4)  %>% pull(gene)\n",
    "\n",
    "options(repr.plot.width = 16, repr.plot.height = 16)\n",
    "FeaturePlot(cd4_l2_unc, features = markers,\n",
    "           min.cutoff = 0, ncol = 4)"
   ]
  },
  {
   "cell_type": "code",
   "execution_count": null,
   "id": "a2e47deb",
   "metadata": {},
   "outputs": [],
   "source": [
    "options(repr.plot.width = 6, repr.plot.height = 5)\n",
    "\n",
    "DimPlot(cd4_l2_unc, label = T)"
   ]
  },
  {
   "cell_type": "code",
   "execution_count": null,
   "id": "61596a4a",
   "metadata": {
    "scrolled": true
   },
   "outputs": [],
   "source": [
    "mrk  %>% filter(cluster == 2)"
   ]
  },
  {
   "cell_type": "code",
   "execution_count": null,
   "id": "8e013535",
   "metadata": {},
   "outputs": [],
   "source": [
    "cd4_l2_unc@meta.data  <- cd4_l2_unc@meta.data  %>% \n",
    "mutate(annotations_manual = recode_factor(seurat_clusters, \n",
    "                                         \"0\" = \"Unc1: LGALS1 CRIP2 S100A10\",\n",
    "                                         \"1\" = \"Unc2: CCR7 HCST FYB1\",\n",
    "                                         \"2\" = \"Unc3: IFI44L ISG15 XAF1\",\n",
    "                                         \"3\" = \"Unc4: CD2 TMEM117 SNRNP27\"))"
   ]
  },
  {
   "cell_type": "code",
   "execution_count": null,
   "id": "bb04d570",
   "metadata": {},
   "outputs": [],
   "source": [
    "cd4_l2_unc@misc$cols_annotations  <- c(\n",
    "             \"#cd634aff\", \"#deaa87ff\", \"#a0892cff\", \"red\"\n",
    ")\n"
   ]
  },
  {
   "cell_type": "code",
   "execution_count": null,
   "id": "b3615ab1",
   "metadata": {},
   "outputs": [],
   "source": [
    "options(repr.plot.width = 6, repr.plot.height = 5)\n",
    "\n",
    "DimPlot(cd4_l2_unc, label = T, group.by = \"annotations_manual\", \n",
    "        cols = cd4_l2_unc@misc$cols_annotations_l2)"
   ]
  },
  {
   "cell_type": "code",
   "execution_count": null,
   "id": "e7d1c86d",
   "metadata": {},
   "outputs": [],
   "source": [
    "plan(\"multisession\")"
   ]
  },
  {
   "cell_type": "code",
   "execution_count": null,
   "id": "47c1d3ac",
   "metadata": {},
   "outputs": [],
   "source": []
  },
  {
   "cell_type": "markdown",
   "id": "9eb621aa",
   "metadata": {},
   "source": [
    "### Cluster composition"
   ]
  },
  {
   "cell_type": "code",
   "execution_count": null,
   "id": "498d954c",
   "metadata": {},
   "outputs": [],
   "source": [
    "cd4_l2_unc@misc$dataset_name  <- \"cd4_l2_unc\""
   ]
  },
  {
   "cell_type": "code",
   "execution_count": null,
   "id": "f1af2ca4",
   "metadata": {},
   "outputs": [],
   "source": [
    "cd4_l2_unc@misc$all_md  <- cd4_l2_unc@meta.data  %>% \n",
    "                            dplyr::select(Sample_ID, Condition, Condition2, \n",
    "                                          Disease, \n",
    "                                          Sex, Age, Age_group, Patient_ID, \n",
    "                                          Time, Experiment_ID)   %>% unique"
   ]
  },
  {
   "cell_type": "code",
   "execution_count": null,
   "id": "095ed432",
   "metadata": {
    "scrolled": true
   },
   "outputs": [],
   "source": [
    "options(repr.plot.width = 11, repr.plot.height = 8)\n",
    "DimPlot(cd4_l2_unc, cols = cd4_l2_unc@misc$cols_annotations, group.by = \"annotations_manual\")"
   ]
  },
  {
   "cell_type": "code",
   "execution_count": null,
   "id": "27f67fa4",
   "metadata": {
    "scrolled": true
   },
   "outputs": [],
   "source": [
    "options(repr.plot.width = 8, repr.plot.height = 6.5)\n",
    "save_dimplot_plot(seurat_dataset = cd4_l2_unc)"
   ]
  },
  {
   "cell_type": "code",
   "execution_count": null,
   "id": "86d0daa4",
   "metadata": {},
   "outputs": [],
   "source": [
    "saveRDS(cd4_l2_unc, \"../data/processed/L1/cd4_l2_unc.rds\")"
   ]
  },
  {
   "cell_type": "code",
   "execution_count": null,
   "id": "3a950fc4",
   "metadata": {},
   "outputs": [],
   "source": [
    "process_plots_from_dataset(seurat_dataset = cd4_l2_unc)"
   ]
  },
  {
   "cell_type": "markdown",
   "id": "3395006b",
   "metadata": {},
   "source": [
    "### Save frequencies"
   ]
  },
  {
   "cell_type": "code",
   "execution_count": null,
   "id": "e10bab1e",
   "metadata": {},
   "outputs": [],
   "source": [
    "df4  <- create_df4(cd4_l2_unc)"
   ]
  },
  {
   "cell_type": "code",
   "execution_count": null,
   "id": "b8e5a2e1",
   "metadata": {
    "scrolled": true
   },
   "outputs": [],
   "source": [
    "df4"
   ]
  },
  {
   "cell_type": "code",
   "execution_count": null,
   "id": "87271b9d",
   "metadata": {},
   "outputs": [],
   "source": [
    "dir_create(\"../tables/cd4/\")"
   ]
  },
  {
   "cell_type": "code",
   "execution_count": null,
   "id": "2ad6b791",
   "metadata": {},
   "outputs": [],
   "source": [
    "dir.create(\"../tables/cd4/markers_annotations/\")\n",
    "dir.create(\"../tables/cd4/frequencies/\")"
   ]
  },
  {
   "cell_type": "code",
   "execution_count": null,
   "id": "d819e78a",
   "metadata": {},
   "outputs": [],
   "source": [
    "freq  <- df4  %>% dplyr::select(1:3)\n",
    "write.csv(freq, \"../tables/cd4/frequencies/freq_cd4_l2_unc.csv\", row.names = FALSE)"
   ]
  },
  {
   "cell_type": "markdown",
   "id": "e5e74aab",
   "metadata": {},
   "source": [
    "### Save markers"
   ]
  },
  {
   "cell_type": "code",
   "execution_count": null,
   "id": "122e1427",
   "metadata": {},
   "outputs": [],
   "source": [
    "Idents(cd4_l2_unc)  <- cd4_l2_unc$annotations_manual"
   ]
  },
  {
   "cell_type": "code",
   "execution_count": null,
   "id": "f89d6fb8",
   "metadata": {},
   "outputs": [],
   "source": [
    "mrk  <- FindAllMarkers(cd4_l2_unc)"
   ]
  },
  {
   "cell_type": "code",
   "execution_count": null,
   "id": "e1f43d82",
   "metadata": {},
   "outputs": [],
   "source": [
    "mrk  <- rank_score_func(mrk)"
   ]
  },
  {
   "cell_type": "code",
   "execution_count": null,
   "id": "94eef962",
   "metadata": {
    "scrolled": true
   },
   "outputs": [],
   "source": [
    "mrk"
   ]
  },
  {
   "cell_type": "code",
   "execution_count": null,
   "id": "9513c9e4",
   "metadata": {},
   "outputs": [],
   "source": [
    "write.csv(mrk, \"../tables/cd4/markers_annotations/mrk_cd4_l2_unc.csv\", row.names = FALSE)"
   ]
  },
  {
   "cell_type": "code",
   "execution_count": null,
   "id": "fc5aff45",
   "metadata": {},
   "outputs": [],
   "source": []
  },
  {
   "cell_type": "code",
   "execution_count": null,
   "id": "1db1f175",
   "metadata": {},
   "outputs": [],
   "source": []
  },
  {
   "cell_type": "markdown",
   "id": "bca9073b",
   "metadata": {},
   "source": [
    "# Analysis Level 3"
   ]
  },
  {
   "cell_type": "code",
   "execution_count": null,
   "id": "967a55bf",
   "metadata": {},
   "outputs": [],
   "source": [
    "#cd4_l1_full_filt  <- readRDS(\"../data/processed/L1/cd4_l1_full_filt.rds\")"
   ]
  },
  {
   "cell_type": "code",
   "execution_count": null,
   "id": "38206b48",
   "metadata": {},
   "outputs": [],
   "source": [
    "#cd4_subcluster  <- readRDS(\"../data/processed/L2/cd4_subcluster.rds\")"
   ]
  },
  {
   "cell_type": "code",
   "execution_count": null,
   "id": "edee5968",
   "metadata": {
    "scrolled": true
   },
   "outputs": [],
   "source": [
    "DimPlot(cd4_subcluster, group.by = \"annotations_manual\")"
   ]
  },
  {
   "cell_type": "code",
   "execution_count": null,
   "id": "80dd8d48",
   "metadata": {},
   "outputs": [],
   "source": [
    "cd4_l3_naive  <- subset(cd4_subcluster, annotations_manual == \"Naive\")\n",
    "cd4_l3_tfh  <- subset(cd4_subcluster, annotations_manual == \"Tfh\")\n",
    "cd4_l3_th1_17  <- subset(cd4_subcluster, annotations_manual == \"Th1Th17\")\n",
    "cd4_l3_th2  <- subset(cd4_subcluster, annotations_manual == \"Th2\")\n",
    "cd4_l3_treg  <- subset(cd4_subcluster, annotations_manual == \"Treg\")\n",
    "cd4_l3_isaghi  <- subset(cd4_subcluster, annotations_manual == \"ISAGhi\")\n",
    "cd4_l3_nfkb  <- subset(cd4_subcluster, annotations_manual == \"Nfkb\")\n",
    "cd4_l3_proliferating  <- subset(cd4_subcluster, annotations_manual == \"Proliferating\")\n",
    "cd4_l3_temra  <- subset(cd4_subcluster, annotations_manual == \"Temra\")"
   ]
  },
  {
   "cell_type": "code",
   "execution_count": null,
   "id": "71045cdc",
   "metadata": {},
   "outputs": [],
   "source": [
    "cd4_l3_list  <- list(cd4_l3_naive, cd4_l3_tfh, cd4_l3_th1_17, cd4_l3_nfkb, cd4_l3_th2,\n",
    "                     cd4_l3_treg, cd4_l3_isaghi, cd4_l3_proliferating, cd4_l3_temra)"
   ]
  },
  {
   "cell_type": "code",
   "execution_count": null,
   "id": "d8e3a64d",
   "metadata": {},
   "outputs": [],
   "source": [
    "names_list  <- c(\"cd4_l3_naive\", \"cd4_l3_tfh\", \"cd4_l3_th1_17\", \"cd4_l3_nfkb\", \"cd4_l3_th2\",\n",
    "                     \"cd4_l3_treg\", \"cd4_l3_isaghi\", \"cd4_l3_proliferating\", \"cd4_l3_temra\")"
   ]
  },
  {
   "cell_type": "code",
   "execution_count": null,
   "id": "94e1d224",
   "metadata": {},
   "outputs": [],
   "source": [
    "plan(\"sequential\")"
   ]
  },
  {
   "cell_type": "markdown",
   "id": "aba00abd",
   "metadata": {},
   "source": [
    "Ensure that we will split into datasets of size at least 100 cells"
   ]
  },
  {
   "cell_type": "code",
   "execution_count": null,
   "id": "b425deed",
   "metadata": {},
   "outputs": [],
   "source": [
    "for(i in 1:9){\n",
    "    seurat  <- cd4_l3_list[[i]]\n",
    "    seurat@meta.data  <- seurat@meta.data  %>% \n",
    "    mutate(Experiment_ID_2 = \n",
    "           ifelse(Experiment_ID %in% c(\"Exp10\", \"Exp11\"), \"Exp10_11\",Experiment_ID ))\n",
    "    cd4_l3_list[[i]]  <- seurat\n",
    "}"
   ]
  },
  {
   "cell_type": "code",
   "execution_count": null,
   "id": "0f53f232",
   "metadata": {},
   "outputs": [],
   "source": [
    "for(i in 1:9){\n",
    "    seurat  <- cd4_l3_list[[i]]\n",
    "    print(seurat$Experiment_ID_2  %>% table)\n",
    "}"
   ]
  },
  {
   "cell_type": "code",
   "execution_count": null,
   "id": "43eb240e",
   "metadata": {
    "scrolled": true
   },
   "outputs": [],
   "source": [
    "for(i in 1:9){\n",
    "    seurat  <- cd4_l3_list[[i]]\n",
    "    \n",
    "    merged.list  <- SplitObject(seurat, split.by = \"Experiment_ID_2\")\n",
    "\n",
    "merged.list <- lapply(X = merged.list, FUN = function(x) {\n",
    "    DefaultAssay(x)  <- \"RNA\"\n",
    "    x$barcode  <- colnames(x)\n",
    "    x <- NormalizeData(x)\n",
    "    x <- FindVariableFeatures(x, selection.method = \"vst\", nfeatures = 2000)\n",
    "})\n",
    "\n",
    "\n",
    "stacas_anchors <- FindAnchors.STACAS(merged.list, \n",
    "                                     dims = 1:12, \n",
    "                                     min.sample.size = 50)\n",
    "st1 <- SampleTree.STACAS(\n",
    "  anchorset = stacas_anchors,\n",
    "  obj.names = names(merged.list)\n",
    "  )    \n",
    "\n",
    "new_dia_experiment2 <- IntegrateData.STACAS(stacas_anchors,\n",
    "                                          sample.tree = st1,\n",
    "                                          dims=1:12) %>% ScaleData() %>%\n",
    "  RunPCA(npcs=12) %>% RunUMAP(dims=1:12)\n",
    "\n",
    "new_dia_experiment2 <- FindNeighbors(new_dia_experiment2, reduction = \"pca\", dims = 1:12)\n",
    "new_dia_experiment2 <- FindClusters(new_dia_experiment2, resolution = 0.3)\n",
    "\n",
    "DimPlot(new_dia_experiment2, label = T)\n",
    "\n",
    "mrk  <- FindAllMarkers(new_dia_experiment2, logfc.threshold = log(1.5))\n",
    "\n",
    "write.csv(mrk, paste0(\"../tables/cd4/markers_\",names_list[i],\".csv\"))\n",
    "\n",
    "saveRDS(new_dia_experiment2, paste0(\"../data/processed/L3/\",names_list[i],\".rds\"))\n",
    "\n",
    "}"
   ]
  },
  {
   "cell_type": "code",
   "execution_count": null,
   "id": "fb83b0d1",
   "metadata": {},
   "outputs": [],
   "source": [
    "cd4_l3_naive  <- readRDS(\"../data/processed/L3/cd4_l3_naive.rds\")\n",
    "cd4_l3_tfh  <- readRDS(\"../data/processed/L3/cd4_l3_tfh.rds\")\n",
    "cd4_l3_th1th17  <- readRDS(\"../data/processed/L3/cd4_l3_th1_17.rds\")\n",
    "cd4_l3_nfkb  <- readRDS(\"../data/processed/L3/cd4_l3_nfkb.rds\")\n",
    "cd4_l3_th2  <- readRDS(\"../data/processed/L3/cd4_l3_th2.rds\")\n",
    "cd4_l3_treg  <- readRDS(\"../data/processed/L3/cd4_l3_treg.rds\")\n",
    "cd4_l3_isaghi  <- readRDS(\"../data/processed/L3/cd4_l3_isaghi.rds\")\n",
    "cd4_l3_proliferating  <- readRDS(\"../data/processed/L3/cd4_l3_proliferating.rds\")\n",
    "cd4_l3_temra  <- readRDS(\"../data/processed/L3/cd4_l3_temra.rds\")"
   ]
  },
  {
   "cell_type": "code",
   "execution_count": null,
   "id": "8f2ddf59",
   "metadata": {},
   "outputs": [],
   "source": []
  },
  {
   "cell_type": "code",
   "execution_count": null,
   "id": "d989b721",
   "metadata": {},
   "outputs": [],
   "source": [
    "cd4_l3_list  <- list(cd4_l3_naive, cd4_l3_tfh, cd4_l3_th1_17, cd4_l3_nfkb, cd4_l3_th2,\n",
    "                     cd4_l3_treg, cd4_l3_isaghi, cd4_l3_proliferating, cd4_l3_temra)\n",
    "\n",
    "names_list  <- c(\"cd4_l3_naive\", \"cd4_l3_tfh\", \"cd4_l3_th1_17\", \"cd4_l3_nfkb\", \"cd4_l3_th2\",\n",
    "                     \"cd4_l3_treg\", \"cd4_l3_isaghi\", \"cd4_l3_proliferating\", \"cd4_l3_temra\")"
   ]
  },
  {
   "cell_type": "code",
   "execution_count": null,
   "id": "472faf26",
   "metadata": {
    "scrolled": true
   },
   "outputs": [],
   "source": [
    "for(i in 1:9){\n",
    "seurat_dataset  <- cd4_l3_list[[i]]\n",
    "seurat_dataset@misc$cols_annotations  <- scales::hue_pal(h.start = 20) (length(levels(factor(seurat_dataset$seurat_clusters))))\n",
    "seurat_dataset$annotations_manual  <- paste(\"Cluster\", seurat_dataset$seurat_clusters)\n",
    "seurat_dataset@misc$dataset_name  <- names(cd4_l3_list)[i]\n",
    "seurat_dataset@misc$all_md  <- cd4_l1_full_filt@meta.data  %>% \n",
    "                            dplyr::select(Sample_ID, Condition, Condition2, \n",
    "                                          Disease, \n",
    "                                          Sex, Age, Age_group, Patient_ID, \n",
    "                                          Time, Experiment_ID)   %>% unique\n",
    "}"
   ]
  },
  {
   "cell_type": "markdown",
   "id": "c5775019",
   "metadata": {},
   "source": [
    "## Annotations level 3"
   ]
  },
  {
   "cell_type": "markdown",
   "id": "645a74be",
   "metadata": {},
   "source": [
    "### Naive"
   ]
  },
  {
   "cell_type": "code",
   "execution_count": null,
   "id": "3463b101",
   "metadata": {},
   "outputs": [],
   "source": [
    "DefaultAssay(cd4_l3_naive)  <- \"integrated\""
   ]
  },
  {
   "cell_type": "code",
   "execution_count": null,
   "id": "ad45f60f",
   "metadata": {},
   "outputs": [],
   "source": [
    "options(repr.plot.width = 7, repr.plot.height = 6)\n",
    "DimPlot(cd4_l3_naive)"
   ]
  },
  {
   "cell_type": "code",
   "execution_count": null,
   "id": "37883a44",
   "metadata": {},
   "outputs": [],
   "source": [
    "cd4_l3_naive <- FindNeighbors(cd4_l3_naive, reduction = \"pca\", dims = 1:12)\n",
    "cd4_l3_naive <- FindClusters(cd4_l3_naive, resolution = 0.25)"
   ]
  },
  {
   "cell_type": "code",
   "execution_count": null,
   "id": "38c8ee42",
   "metadata": {
    "scrolled": true
   },
   "outputs": [],
   "source": [
    "options(repr.plot.width = 7, repr.plot.height = 6)\n",
    "DimPlot(cd4_l3_naive, label = T)"
   ]
  },
  {
   "cell_type": "code",
   "execution_count": null,
   "id": "3cfa3a0a",
   "metadata": {},
   "outputs": [],
   "source": [
    "mrk  <- FindAllMarkers(cd4_l3_naive, only.pos = TRUE)"
   ]
  },
  {
   "cell_type": "code",
   "execution_count": null,
   "id": "e087f8ba",
   "metadata": {},
   "outputs": [],
   "source": [
    "mrk  <- rank_score_func(mrk)"
   ]
  },
  {
   "cell_type": "code",
   "execution_count": null,
   "id": "55c0b000",
   "metadata": {
    "scrolled": true
   },
   "outputs": [],
   "source": [
    "mrk  %>% filter(cluster == 1)  %>% mutate(diff.pct = pct.1-pct.2)  %>% arrange(desc(diff.pct))"
   ]
  },
  {
   "cell_type": "code",
   "execution_count": null,
   "id": "018115e7",
   "metadata": {},
   "outputs": [],
   "source": [
    "markers  <- mrk  %>% arrange(desc(score))  %>% group_by(cluster)  %>% slice_head(n = 4)  %>% pull(gene)"
   ]
  },
  {
   "cell_type": "code",
   "execution_count": null,
   "id": "2891e90b",
   "metadata": {
    "scrolled": true
   },
   "outputs": [],
   "source": [
    "options(repr.plot.width = 16, repr.plot.height = 16)\n",
    "FeaturePlot(cd4_l3_naive, features = markers,\n",
    "           min.cutoff = 0, ncol = 4)"
   ]
  },
  {
   "cell_type": "code",
   "execution_count": null,
   "id": "24c45534",
   "metadata": {},
   "outputs": [],
   "source": [
    "cd4_l3_naive@meta.data  <- cd4_l3_naive@meta.data  %>% \n",
    "mutate(annotations_manual = recode_factor(seurat_clusters, \"0\" = \"Naive1: AIF1 STMN1 EPHB6\",\n",
    "                                     \"1\" = \"Naive2: ITGA4 PIM1 PCED1B\",\n",
    "                                     \"2\" = \"Naive3: DUSP1 JUN FOS\",\n",
    "                                     \"3\" = \"Naive4: TRDC TRDV1 SOX4\"))"
   ]
  },
  {
   "cell_type": "code",
   "execution_count": null,
   "id": "a9443a6d",
   "metadata": {},
   "outputs": [],
   "source": [
    "options(repr.plot.width = 7, repr.plot.height = 4)\n",
    "DimPlot(cd4_l3_naive, group.by = \"annotations_manual\")"
   ]
  },
  {
   "cell_type": "code",
   "execution_count": null,
   "id": "f2dafa47",
   "metadata": {},
   "outputs": [],
   "source": [
    "saveRDS(cd4_l3_naive, \"../data/processed/L3/cd4_l3_naive.rds\")"
   ]
  },
  {
   "cell_type": "markdown",
   "id": "7305a3a7",
   "metadata": {},
   "source": [
    "### Tfh"
   ]
  },
  {
   "cell_type": "code",
   "execution_count": null,
   "id": "de7e384b",
   "metadata": {},
   "outputs": [],
   "source": [
    "options(repr.plot.width = 7, repr.plot.height = 6)\n",
    "DimPlot(cd4_l3_tfh)"
   ]
  },
  {
   "cell_type": "code",
   "execution_count": null,
   "id": "280e5640",
   "metadata": {},
   "outputs": [],
   "source": [
    "cd4_l3_tfh <- FindNeighbors(cd4_l3_tfh, reduction = \"pca\", dims = 1:12)\n",
    "cd4_l3_tfh <- FindClusters(cd4_l3_tfh, resolution = 0.3)\n",
    "\n",
    "DimPlot(cd4_l3_tfh, label = T)"
   ]
  },
  {
   "cell_type": "code",
   "execution_count": null,
   "id": "e611a622",
   "metadata": {},
   "outputs": [],
   "source": [
    "mrk  <- FindAllMarkers(cd4_l3_tfh, only.pos = TRUE)"
   ]
  },
  {
   "cell_type": "code",
   "execution_count": null,
   "id": "3345a0ba",
   "metadata": {},
   "outputs": [],
   "source": [
    "mrk  <- rank_score_func(mrk)"
   ]
  },
  {
   "cell_type": "code",
   "execution_count": null,
   "id": "a1284b30",
   "metadata": {},
   "outputs": [],
   "source": [
    "markers  <- mrk  %>% arrange(desc(score))  %>% group_by(cluster)  %>% slice_head(n = 4)  %>% pull(gene)"
   ]
  },
  {
   "cell_type": "code",
   "execution_count": null,
   "id": "f682cf2b",
   "metadata": {
    "scrolled": true
   },
   "outputs": [],
   "source": [
    "options(repr.plot.width = 16, repr.plot.height = 16)\n",
    "FeaturePlot(cd4_l3_tfh, features = markers,\n",
    "           min.cutoff = 0, ncol = 4)"
   ]
  },
  {
   "cell_type": "code",
   "execution_count": null,
   "id": "20be34a0",
   "metadata": {},
   "outputs": [],
   "source": [
    "cd4_l3_tfh@meta.data  <- cd4_l3_tfh@meta.data  %>% \n",
    "mutate(annotations_manual = recode_factor(seurat_clusters, \"0\" = \"Tfh1: IL7R CXCR4 PTGER2\",\n",
    "                                     \"1\" = \"Tfh2: KLRB1 TIGIT PPP2R5C\",\n",
    "                                         \"2\" = \"Tfh3: CCR7 ID2 RGS10\"))"
   ]
  },
  {
   "cell_type": "code",
   "execution_count": null,
   "id": "3b5448c3",
   "metadata": {},
   "outputs": [],
   "source": [
    "options(repr.plot.width = 7, repr.plot.height = 4)\n",
    "DimPlot(cd4_l3_tfh, group.by = \"annotations_manual\")"
   ]
  },
  {
   "cell_type": "code",
   "execution_count": null,
   "id": "31fdddac",
   "metadata": {},
   "outputs": [],
   "source": [
    "saveRDS(cd4_l3_tfh, \"../data/processed/L3/cd4_l3_tfh.rds\")"
   ]
  },
  {
   "cell_type": "markdown",
   "id": "3a57fba8",
   "metadata": {},
   "source": [
    "### Treg"
   ]
  },
  {
   "cell_type": "code",
   "execution_count": null,
   "id": "d872f705",
   "metadata": {},
   "outputs": [],
   "source": [
    "options(repr.plot.width = 7, repr.plot.height = 6)\n",
    "DimPlot(cd4_l3_treg)"
   ]
  },
  {
   "cell_type": "code",
   "execution_count": null,
   "id": "18bc17ae",
   "metadata": {},
   "outputs": [],
   "source": [
    "cd4_l3_treg <- FindNeighbors(cd4_l3_treg, reduction = \"pca\", dims = 1:12)\n",
    "cd4_l3_treg <- FindClusters(cd4_l3_treg, resolution = 0.3)"
   ]
  },
  {
   "cell_type": "code",
   "execution_count": null,
   "id": "f781ba07",
   "metadata": {},
   "outputs": [],
   "source": [
    "options(repr.plot.width = 7, repr.plot.height = 6)\n",
    "DimPlot(cd4_l3_treg, label = T)"
   ]
  },
  {
   "cell_type": "code",
   "execution_count": null,
   "id": "ef421035",
   "metadata": {},
   "outputs": [],
   "source": [
    "mrk  <- FindAllMarkers(cd4_l3_treg, only.pos = TRUE)"
   ]
  },
  {
   "cell_type": "code",
   "execution_count": null,
   "id": "a24ac1ac",
   "metadata": {},
   "outputs": [],
   "source": [
    "mrk  <- rank_score_func(mrk)"
   ]
  },
  {
   "cell_type": "code",
   "execution_count": null,
   "id": "7c7d1ba0",
   "metadata": {},
   "outputs": [],
   "source": [
    "markers  <- mrk  %>% arrange(desc(score))  %>% group_by(cluster)  %>% slice_head(n = 4)  %>% pull(gene)"
   ]
  },
  {
   "cell_type": "code",
   "execution_count": null,
   "id": "86e36c80",
   "metadata": {
    "scrolled": true
   },
   "outputs": [],
   "source": [
    "options(repr.plot.width = 16, repr.plot.height = 16)\n",
    "FeaturePlot(cd4_l3_treg, features = markers,\n",
    "           min.cutoff = 0, ncol = 4)"
   ]
  },
  {
   "cell_type": "code",
   "execution_count": null,
   "id": "800a581e",
   "metadata": {},
   "outputs": [],
   "source": [
    "DefaultAssay(cd4_l3_treg)  <- \"RNA\"\n",
    "options(repr.plot.width = 16, repr.plot.height = 10)\n",
    "FeaturePlot(cd4_l3_treg, features = c(\"CCR10\",\"TNFRSF9\",\"CCR7\",\"GZMA\",\"GZMB\",\"GZMH\",\"GZMM\",\n",
    "                                    \"STAT3\",\"SOCS3\",\"IL2RA\", \"GZMK\", \"CD226\"),\n",
    "           min.cutoff = 0, ncol = 4)\n",
    "DefaultAssay(cd4_l3_treg)  <- \"integrated\""
   ]
  },
  {
   "cell_type": "code",
   "execution_count": null,
   "id": "17b41969",
   "metadata": {
    "scrolled": true
   },
   "outputs": [],
   "source": [
    "mrk  %>% arrange(desc(score))  %>% group_by(cluster)  %>% slice_head(n = 10)"
   ]
  },
  {
   "cell_type": "code",
   "execution_count": null,
   "id": "1cf71a78",
   "metadata": {
    "scrolled": true
   },
   "outputs": [],
   "source": [
    "options(repr.plot.width = 6, repr.plot.height = 5)\n",
    "DimPlot(cd4_l3_treg, label = T)"
   ]
  },
  {
   "cell_type": "code",
   "execution_count": null,
   "id": "6b75519d",
   "metadata": {},
   "outputs": [],
   "source": [
    "cd4_l3_treg@meta.data  <- cd4_l3_treg@meta.data  %>% \n",
    "mutate(annotations_manual = recode_factor(seurat_clusters, \"0\" = \"Treg2: FCER1G NOG CXCR4\",\n",
    "                                     \"1\" = \"Treg3: TIGIT NCR3 FCRL3\",\n",
    "                                     \"2\" = \"Treg1: TCF7 IL7R NOSIP\",\n",
    "                                     \"3\" = \"Treg4: HLA-DR CCR10 PI16\"))"
   ]
  },
  {
   "cell_type": "code",
   "execution_count": null,
   "id": "6c92c487",
   "metadata": {},
   "outputs": [],
   "source": [
    "DimPlot(cd4_l3_treg, group.by = \"annotations_manual\")"
   ]
  },
  {
   "cell_type": "code",
   "execution_count": null,
   "id": "97eeb58f",
   "metadata": {},
   "outputs": [],
   "source": [
    "saveRDS(cd4_l3_treg, \"../data/processed/L3/cd4_l3_treg.rds\")"
   ]
  },
  {
   "cell_type": "markdown",
   "id": "9e0594c6",
   "metadata": {},
   "source": [
    "### Th1_Th17"
   ]
  },
  {
   "cell_type": "code",
   "execution_count": null,
   "id": "30fd0678",
   "metadata": {},
   "outputs": [],
   "source": [
    "cd4_l3_th1th17"
   ]
  },
  {
   "cell_type": "code",
   "execution_count": null,
   "id": "55b7c9af",
   "metadata": {},
   "outputs": [],
   "source": [
    "options(repr.plot.width = 7, repr.plot.height = 6)\n",
    "DimPlot(cd4_l3_th1th17)"
   ]
  },
  {
   "cell_type": "code",
   "execution_count": null,
   "id": "e6aeac8d",
   "metadata": {},
   "outputs": [],
   "source": [
    "cd4_l3_th1th17 <- FindNeighbors(cd4_l3_th1th17, reduction = \"pca\", dims = 1:12)\n",
    "cd4_l3_th1th17 <- FindClusters(cd4_l3_th1th17, resolution = 0.3)\n",
    "\n",
    "DimPlot(cd4_l3_th1th17, label = T)"
   ]
  },
  {
   "cell_type": "code",
   "execution_count": null,
   "id": "4bff8bf4",
   "metadata": {},
   "outputs": [],
   "source": [
    "mrk  <- FindAllMarkers(cd4_l3_th1th17, only.pos = TRUE)"
   ]
  },
  {
   "cell_type": "code",
   "execution_count": null,
   "id": "54cad4b3",
   "metadata": {},
   "outputs": [],
   "source": [
    "mrk  <- rank_score_func(mrk)"
   ]
  },
  {
   "cell_type": "code",
   "execution_count": null,
   "id": "ad209b59",
   "metadata": {},
   "outputs": [],
   "source": [
    "markers  <- mrk  %>% arrange(desc(score))  %>% group_by(cluster)  %>% slice_head(n = 4)  %>% pull(gene)"
   ]
  },
  {
   "cell_type": "code",
   "execution_count": null,
   "id": "1713fe2c",
   "metadata": {
    "scrolled": true
   },
   "outputs": [],
   "source": [
    "options(repr.plot.width = 16, repr.plot.height = 16)\n",
    "FeaturePlot(cd4_l3_th1th17, features = markers,\n",
    "           min.cutoff = 0, ncol = 4)"
   ]
  },
  {
   "cell_type": "code",
   "execution_count": null,
   "id": "5ff66d29",
   "metadata": {
    "scrolled": true
   },
   "outputs": [],
   "source": [
    "mrk  %>% arrange(desc(score))  %>% group_by(cluster)  %>% slice_head(n = 10)"
   ]
  },
  {
   "cell_type": "code",
   "execution_count": null,
   "id": "aed2d845",
   "metadata": {},
   "outputs": [],
   "source": [
    "options(repr.plot.width = 16, repr.plot.height = 12)\n",
    "DefaultAssay(cd4_l3_th1th17)  <- \"RNA\"\n",
    "FeaturePlot(cd4_l3_th1th17, features = c(\"CXCR3\",\"CD27\",\"TCF7\",\"CXCR6\",\n",
    "                                         \"TBX21\",\"IFNG\",\"IL17A\",\n",
    "                                         \"IL23R\",\"EOMES\",\"RORC\",\"TNF\",\"PRF1\"),\n",
    "           min.cutoff = 0, ncol = 4)"
   ]
  },
  {
   "cell_type": "code",
   "execution_count": null,
   "id": "ff32658e",
   "metadata": {},
   "outputs": [],
   "source": [
    "markers2  <- mrk  %>% arrange(desc(score))  %>% group_by(cluster)  %>% slice_head(n = 4)  %>% pull(gene)\n",
    "\n",
    "options(repr.plot.width = 16, repr.plot.height = 16)\n",
    "FeaturePlot(cd4_l3_th1th17, features = markers2,\n",
    "           min.cutoff = 0, ncol = 4)"
   ]
  },
  {
   "cell_type": "code",
   "execution_count": null,
   "id": "b9da641d",
   "metadata": {
    "scrolled": true
   },
   "outputs": [],
   "source": [
    "options(repr.plot.width = 6, repr.plot.height = 5)\n",
    "DimPlot(cd4_l3_th1th17, label = T)"
   ]
  },
  {
   "cell_type": "code",
   "execution_count": null,
   "id": "0a7b54ef",
   "metadata": {},
   "outputs": [],
   "source": [
    "cd4_l3_th1th17@meta.data  <- cd4_l3_th1th17@meta.data  %>% \n",
    "mutate(annotations_manual = recode_factor(seurat_clusters, \"0\" = \"Th1Th17_1: CXCR3 CCL5 SELL\",\n",
    "                                     \"1\" = \"Th1Th17_2: TNFRSF4 CTSH CMTM6\",\n",
    "                                     \"2\" = \"Th1Th17_3: NKG7 PRF1 GZMA\",\n",
    "                                     \"3\" = \"Th1Th17_4: GNLY LGALS1 HOPX\"))"
   ]
  },
  {
   "cell_type": "code",
   "execution_count": null,
   "id": "6961163b",
   "metadata": {},
   "outputs": [],
   "source": [
    "options(repr.plot.width = 10, repr.plot.height = 5)\n",
    "DimPlot(cd4_l3_th1th17, group.by = \"annotations_manual\")"
   ]
  },
  {
   "cell_type": "code",
   "execution_count": null,
   "id": "50a86848",
   "metadata": {},
   "outputs": [],
   "source": [
    "saveRDS(cd4_l3_th1_17, \"../data/processed/L3/cd4_l3_th1_17.rds\")"
   ]
  },
  {
   "cell_type": "markdown",
   "id": "529d8bbf",
   "metadata": {},
   "source": [
    "### Th2"
   ]
  },
  {
   "cell_type": "code",
   "execution_count": null,
   "id": "c01a9d1c",
   "metadata": {},
   "outputs": [],
   "source": [
    "options(repr.plot.width = 7, repr.plot.height = 6)\n",
    "DimPlot(cd4_l3_th2)"
   ]
  },
  {
   "cell_type": "code",
   "execution_count": null,
   "id": "a67149d9",
   "metadata": {},
   "outputs": [],
   "source": [
    "cd4_l3_th2 <- FindNeighbors(cd4_l3_th2, reduction = \"pca\", dims = 1:12)\n",
    "cd4_l3_th2 <- FindClusters(cd4_l3_th2, resolution = 0.3)\n",
    "\n",
    "DimPlot(cd4_l3_th2, label = T)"
   ]
  },
  {
   "cell_type": "code",
   "execution_count": null,
   "id": "55f84fc7",
   "metadata": {},
   "outputs": [],
   "source": [
    "mrk  <- FindAllMarkers(cd4_l3_th2, only.pos = TRUE)"
   ]
  },
  {
   "cell_type": "code",
   "execution_count": null,
   "id": "ca3fee6a",
   "metadata": {},
   "outputs": [],
   "source": [
    "mrk  <- rank_score_func(mrk)"
   ]
  },
  {
   "cell_type": "code",
   "execution_count": null,
   "id": "3d7a68ad",
   "metadata": {},
   "outputs": [],
   "source": [
    "markers  <- mrk  %>% arrange(desc(score))  %>% group_by(cluster)  %>% slice_head(n = 4)  %>% pull(gene)"
   ]
  },
  {
   "cell_type": "code",
   "execution_count": null,
   "id": "24d51918",
   "metadata": {
    "scrolled": true
   },
   "outputs": [],
   "source": [
    "options(repr.plot.width = 16, repr.plot.height = 16)\n",
    "FeaturePlot(cd4_l3_th2, features = markers,\n",
    "           min.cutoff = 0, ncol = 4)"
   ]
  },
  {
   "cell_type": "code",
   "execution_count": null,
   "id": "99b12e59",
   "metadata": {},
   "outputs": [],
   "source": [
    "options(repr.plot.width = 16, repr.plot.height = 4)\n",
    "DefaultAssay(cd4_l3_th2)  <- \"RNA\"\n",
    "FeaturePlot(cd4_l3_th2, features = c(\"GATA3\",\"IL5\",\"IL13\",\"IL4\"),\n",
    "           min.cutoff = 0, ncol = 4)"
   ]
  },
  {
   "cell_type": "code",
   "execution_count": null,
   "id": "4ace867f",
   "metadata": {
    "scrolled": true
   },
   "outputs": [],
   "source": [
    "mrk  %>% arrange(desc(score))  %>% group_by(cluster)  %>% slice_head(n = 10)"
   ]
  },
  {
   "cell_type": "code",
   "execution_count": null,
   "id": "d4684cdd",
   "metadata": {
    "scrolled": true
   },
   "outputs": [],
   "source": [
    "options(repr.plot.width = 6, repr.plot.height = 5)\n",
    "DimPlot(cd4_l3_th2, label = T)"
   ]
  },
  {
   "cell_type": "code",
   "execution_count": null,
   "id": "2232b4ea",
   "metadata": {},
   "outputs": [],
   "source": [
    "cd4_l3_th2@meta.data  <- cd4_l3_th2@meta.data  %>% \n",
    "mutate(annotations_manual = recode_factor(seurat_clusters, \"0\" = \"Th2_1: CD27 CCR7 TCF7\",\n",
    "                                     \"1\" = \"Th2_2: GATA3 PTGDR2 NEFL\",\n",
    "                                     \"2\" = \"Th2_3: LPAR6 PI16 ALOX5AP\",\n",
    "                                     \"3\" = \"Th2_4: HLA-DR CCR10 CD74\"))"
   ]
  },
  {
   "cell_type": "code",
   "execution_count": null,
   "id": "c0bd1de4",
   "metadata": {},
   "outputs": [],
   "source": [
    "saveRDS(cd4_l3_th2, \"../data/processed/L3/cd4_l3_th2.rds\")"
   ]
  },
  {
   "cell_type": "markdown",
   "id": "266bd528",
   "metadata": {},
   "source": [
    "### NfKb"
   ]
  },
  {
   "cell_type": "code",
   "execution_count": null,
   "id": "337878a2",
   "metadata": {},
   "outputs": [],
   "source": [
    "options(repr.plot.width = 5, repr.plot.height = 4)\n",
    "DimPlot(cd4_l3_nfkb)"
   ]
  },
  {
   "cell_type": "code",
   "execution_count": null,
   "id": "3f6d21c5",
   "metadata": {},
   "outputs": [],
   "source": [
    "DefaultAssay(cd4_l3_nfkb)  <- \"integrated\""
   ]
  },
  {
   "cell_type": "code",
   "execution_count": null,
   "id": "3409c57b",
   "metadata": {},
   "outputs": [],
   "source": [
    "cd4_l3_nfkb <- FindNeighbors(cd4_l3_nfkb, reduction = \"pca\", dims = 1:12)\n",
    "cd4_l3_nfkb <- FindClusters(cd4_l3_nfkb, resolution = 0.4)\n",
    "\n",
    "DimPlot(cd4_l3_nfkb, label = T)"
   ]
  },
  {
   "cell_type": "code",
   "execution_count": null,
   "id": "260b94ef",
   "metadata": {},
   "outputs": [],
   "source": [
    "mrk  <- FindAllMarkers(cd4_l3_nfkb, only.pos = TRUE)"
   ]
  },
  {
   "cell_type": "code",
   "execution_count": null,
   "id": "059484f1",
   "metadata": {},
   "outputs": [],
   "source": [
    "mrk  <- rank_score_func(mrk)"
   ]
  },
  {
   "cell_type": "code",
   "execution_count": null,
   "id": "8da783ae",
   "metadata": {},
   "outputs": [],
   "source": [
    "markers  <- mrk  %>% arrange(desc(score))  %>% group_by(cluster)  %>% slice_head(n = 4)  %>% pull(gene)"
   ]
  },
  {
   "cell_type": "code",
   "execution_count": null,
   "id": "c07e4484",
   "metadata": {
    "scrolled": true
   },
   "outputs": [],
   "source": [
    "options(repr.plot.width = 16, repr.plot.height = 8)\n",
    "FeaturePlot(cd4_l3_nfkb, features = markers,\n",
    "           min.cutoff = 0, ncol = 4)"
   ]
  },
  {
   "cell_type": "code",
   "execution_count": null,
   "id": "2031c60e",
   "metadata": {
    "scrolled": true
   },
   "outputs": [],
   "source": [
    "mrk  %>% arrange(desc(score))  %>% group_by(cluster)  %>% slice_head(n = 10)"
   ]
  },
  {
   "cell_type": "code",
   "execution_count": null,
   "id": "0aa0ba05",
   "metadata": {},
   "outputs": [],
   "source": [
    "cd4_l3_nfkb@meta.data  <- cd4_l3_nfkb@meta.data  %>% \n",
    "mutate(annotations_manual = recode_factor(seurat_clusters, \"0\" = \"Nfkb_1: PTGER2 LPAR6 TNFSF8\",\n",
    "                                     \"1\" = \"Nfkb_2: BCL2L11 TP53INP1 TNFAIP3\"))"
   ]
  },
  {
   "cell_type": "code",
   "execution_count": null,
   "id": "46453899",
   "metadata": {},
   "outputs": [],
   "source": [
    "options(repr.plot.width = 10, repr.plot.height = 5)\n",
    "DimPlot(cd4_l3_nfkb, label = T, group.by = \"annotations_manual\")"
   ]
  },
  {
   "cell_type": "code",
   "execution_count": null,
   "id": "a28fe241",
   "metadata": {},
   "outputs": [],
   "source": [
    "saveRDS(cd4_l3_nfkb, \"../data/processed/L3/cd4_l3_nfkb.rds\")"
   ]
  },
  {
   "cell_type": "markdown",
   "id": "4e41a60f",
   "metadata": {},
   "source": [
    "### ISAGhi"
   ]
  },
  {
   "cell_type": "code",
   "execution_count": null,
   "id": "bc2def30",
   "metadata": {},
   "outputs": [],
   "source": [
    "options(repr.plot.width = 7, repr.plot.height = 6)\n",
    "DimPlot(cd4_l3_isaghi)"
   ]
  },
  {
   "cell_type": "code",
   "execution_count": null,
   "id": "d0d1c3bf",
   "metadata": {},
   "outputs": [],
   "source": [
    "options(repr.plot.width = 7, repr.plot.height = 6)\n",
    "DimPlot(cd4_l3_isaghi)"
   ]
  },
  {
   "cell_type": "code",
   "execution_count": null,
   "id": "64e72d8c",
   "metadata": {},
   "outputs": [],
   "source": [
    "DefaultAssay(cd4_l3_isaghi)  <- \"integrated\"\n",
    "cd4_l3_isaghi <- FindNeighbors(cd4_l3_isaghi, reduction = \"pca\", dims = 1:12)"
   ]
  },
  {
   "cell_type": "code",
   "execution_count": null,
   "id": "31ffbf90",
   "metadata": {},
   "outputs": [],
   "source": [
    "cd4_l3_isaghi <- FindClusters(cd4_l3_isaghi, resolution = 0.3)\n",
    "\n",
    "DimPlot(cd4_l3_isaghi, label = T)"
   ]
  },
  {
   "cell_type": "code",
   "execution_count": null,
   "id": "bbebcf1e",
   "metadata": {},
   "outputs": [],
   "source": [
    "mrk  <- FindAllMarkers(cd4_l3_isaghi, only.pos = TRUE)"
   ]
  },
  {
   "cell_type": "code",
   "execution_count": null,
   "id": "c8f36b65",
   "metadata": {},
   "outputs": [],
   "source": [
    "mrk  <- rank_score_func(mrk)"
   ]
  },
  {
   "cell_type": "code",
   "execution_count": null,
   "id": "637dd91d",
   "metadata": {
    "scrolled": true
   },
   "outputs": [],
   "source": [
    "mrk  "
   ]
  },
  {
   "cell_type": "code",
   "execution_count": null,
   "id": "01187b28",
   "metadata": {},
   "outputs": [],
   "source": [
    "markers  <- mrk  %>% arrange(desc(score))  %>% group_by(cluster)  %>% slice_head(n = 6)  %>% pull(gene)"
   ]
  },
  {
   "cell_type": "code",
   "execution_count": null,
   "id": "3b760b7f",
   "metadata": {
    "scrolled": true
   },
   "outputs": [],
   "source": [
    "options(repr.plot.width = 16, repr.plot.height = 16)\n",
    "FeaturePlot(cd4_l3_isaghi, features = markers,\n",
    "           min.cutoff = 0, ncol = 4)"
   ]
  },
  {
   "cell_type": "code",
   "execution_count": null,
   "id": "d3c4e40a",
   "metadata": {
    "scrolled": true
   },
   "outputs": [],
   "source": [
    "options(repr.plot.width = 16, repr.plot.height = 16)\n",
    "FeaturePlot(cd4_l3_isaghi, features = c(\"CCR10\",\"TNFRSF9\",\"CCR7\",\"GZMA\",\"GZMB\",\"GZMH\",\"GZMM\",\n",
    "                                    \"STAT3\",\"SOCS3\",\"IL2RA\"),\n",
    "           min.cutoff = 0, ncol = 4)"
   ]
  },
  {
   "cell_type": "code",
   "execution_count": null,
   "id": "5388bbb4",
   "metadata": {
    "scrolled": true
   },
   "outputs": [],
   "source": [
    "mrk  %>% arrange(desc(score))  %>% group_by(cluster)  %>% slice_head(n = 10)"
   ]
  },
  {
   "cell_type": "code",
   "execution_count": null,
   "id": "117c157e",
   "metadata": {
    "scrolled": true
   },
   "outputs": [],
   "source": [
    "options(repr.plot.width = 6, repr.plot.height = 5)\n",
    "DimPlot(cd4_l3_isaghi, label = T)"
   ]
  },
  {
   "cell_type": "code",
   "execution_count": null,
   "id": "4de3aa7b",
   "metadata": {},
   "outputs": [],
   "source": [
    "cd4_l3_isaghi@meta.data  <- cd4_l3_isaghi@meta.data  %>% \n",
    "mutate(annotations_manual = recode_factor(seurat_clusters, \"0\" = \"ISAGhi1: LIMS1 PASK ITGA4\",\n",
    "                                     \"1\" = \"ISAGhi2: CCR7 LEF1 SOX4\",\n",
    "                                     \"2\" = \"ISAGhi3: S100A4 LGALS1 ANXA2\",\n",
    "                                     \"3\" = \"ISAGhi4: ISG15 MT2A ISG20\"\n",
    "                                         ))"
   ]
  },
  {
   "cell_type": "code",
   "execution_count": null,
   "id": "40504ec8",
   "metadata": {},
   "outputs": [],
   "source": [
    "DimPlot(cd4_l3_isaghi, group.by = \"annotations_manual\")"
   ]
  },
  {
   "cell_type": "code",
   "execution_count": null,
   "id": "2e132169",
   "metadata": {},
   "outputs": [],
   "source": [
    "saveRDS(cd4_l3_isaghi, \"../data/processed/L3/cd4_l3_isaghi.rds\")"
   ]
  },
  {
   "cell_type": "markdown",
   "id": "509b2012",
   "metadata": {},
   "source": [
    "### Prolif"
   ]
  },
  {
   "cell_type": "code",
   "execution_count": null,
   "id": "ba14a724",
   "metadata": {},
   "outputs": [],
   "source": [
    "options(repr.plot.width = 7, repr.plot.height = 6)\n",
    "DimPlot(cd4_l3_proliferating)"
   ]
  },
  {
   "cell_type": "code",
   "execution_count": null,
   "id": "8bc1d62a",
   "metadata": {},
   "outputs": [],
   "source": [
    "DefaultAssay(cd4_l3_proliferating)  <- \"integrated\"\n",
    "cd4_l3_proliferating <- FindNeighbors(cd4_l3_proliferating, reduction = \"pca\", dims = 1:12)\n",
    "cd4_l3_proliferating <- FindClusters(cd4_l3_proliferating, resolution = 0.2)\n",
    "\n",
    "DimPlot(cd4_l3_proliferating, label = T)"
   ]
  },
  {
   "cell_type": "code",
   "execution_count": null,
   "id": "5180b043",
   "metadata": {},
   "outputs": [],
   "source": [
    "mrk  <- FindAllMarkers(cd4_l3_proliferating, only.pos = TRUE)"
   ]
  },
  {
   "cell_type": "code",
   "execution_count": null,
   "id": "6ccae11c",
   "metadata": {},
   "outputs": [],
   "source": [
    "mrk  <- rank_score_func(mrk)"
   ]
  },
  {
   "cell_type": "code",
   "execution_count": null,
   "id": "43410832",
   "metadata": {},
   "outputs": [],
   "source": [
    "markers  <- mrk  %>% arrange(desc(score))  %>% group_by(cluster)  %>% slice_head(n = 4)  %>% pull(gene)"
   ]
  },
  {
   "cell_type": "code",
   "execution_count": null,
   "id": "1d082632",
   "metadata": {
    "scrolled": true
   },
   "outputs": [],
   "source": [
    "options(repr.plot.width = 16, repr.plot.height = 20)\n",
    "FeaturePlot(cd4_l3_proliferating, features = markers,\n",
    "           min.cutoff = 0, ncol = 4)"
   ]
  },
  {
   "cell_type": "code",
   "execution_count": null,
   "id": "40e36b97",
   "metadata": {
    "scrolled": true
   },
   "outputs": [],
   "source": [
    "options(repr.plot.width = 16, repr.plot.height = 10)\n",
    "FeaturePlot(cd4_l3_proliferating, features = c(\"CCR10\",\"TNFRSF9\",\"CCR7\",\"GZMA\",\"GZMB\",\"GZMH\",\"GZMM\",\"FOXP3\",\n",
    "                                    \"STAT3\",\"SOCS3\",\"IL2RA\",\"IL10\"),\n",
    "           min.cutoff = 0, ncol = 4)"
   ]
  },
  {
   "cell_type": "code",
   "execution_count": null,
   "id": "e5e5d917",
   "metadata": {
    "scrolled": true
   },
   "outputs": [],
   "source": [
    "mrk  %>% arrange(desc(score))  %>% group_by(cluster)  %>% slice_head(n = 10)"
   ]
  },
  {
   "cell_type": "code",
   "execution_count": null,
   "id": "0a9ccfb5",
   "metadata": {
    "scrolled": true
   },
   "outputs": [],
   "source": [
    "options(repr.plot.width = 6, repr.plot.height = 5)\n",
    "DimPlot(cd4_l3_proliferating, label = T)"
   ]
  },
  {
   "cell_type": "code",
   "execution_count": null,
   "id": "9a135e21",
   "metadata": {
    "scrolled": true
   },
   "outputs": [],
   "source": [
    "DefaultAssay(cd4_l3_proliferating)  <- \"RNA\"\n",
    "FeaturePlot(cd4_l3_proliferating, features = c(\"MKI67\"),  min.cutoff = 0)"
   ]
  },
  {
   "cell_type": "code",
   "execution_count": null,
   "id": "73473ff9",
   "metadata": {},
   "outputs": [],
   "source": [
    "cd4_l3_proliferating@meta.data  <- cd4_l3_proliferating@meta.data  %>% \n",
    "mutate(annotations_manual = recode_factor(seurat_clusters, \"0\" = \"Prolif1: CCL5 GZMA CST7\",\n",
    "                                     \"1\" = \"Prolif2: STMN1 TUBA1B MKI67\",\n",
    "                                     \"2\" = \"Prolif3: KLRB1 CCR7 IL6ST\",\n",
    "                                     \"3\" = \"Prolif4: GZMK NUCB2 IL10\"))"
   ]
  },
  {
   "cell_type": "code",
   "execution_count": null,
   "id": "8eff03cb",
   "metadata": {},
   "outputs": [],
   "source": [
    "DimPlot(cd4_l3_proliferating, group.by = \"annotations_manual\")"
   ]
  },
  {
   "cell_type": "code",
   "execution_count": null,
   "id": "6c78391e",
   "metadata": {},
   "outputs": [],
   "source": [
    "saveRDS(cd4_l3_proliferating, \"../data/processed/L3/cd4_l3_proliferating.rds\")"
   ]
  },
  {
   "cell_type": "markdown",
   "id": "de5acb4e",
   "metadata": {},
   "source": [
    "### Temra"
   ]
  },
  {
   "cell_type": "code",
   "execution_count": null,
   "id": "dc86e3df",
   "metadata": {},
   "outputs": [],
   "source": [
    "DefaultAssay(cd4_l3_temra)  <- \"integrated\"\n",
    "cd4_l3_temra <- FindNeighbors(cd4_l3_temra, reduction = \"pca\", dims = 1:12)\n",
    "cd4_l3_temra <- FindClusters(cd4_l3_temra, resolution = 0.4)\n",
    "options(repr.plot.width = 6, repr.plot.height = 5)\n",
    "\n",
    "DimPlot(cd4_l3_temra, label = T)"
   ]
  },
  {
   "cell_type": "code",
   "execution_count": null,
   "id": "74b1edc0",
   "metadata": {},
   "outputs": [],
   "source": [
    "DefaultAssay(cd4_l3_temra)  <- \"RNA\""
   ]
  },
  {
   "cell_type": "code",
   "execution_count": null,
   "id": "e86a5f48",
   "metadata": {},
   "outputs": [],
   "source": [
    "mrk  <- FindAllMarkers(cd4_l3_temra, only.pos = TRUE)"
   ]
  },
  {
   "cell_type": "code",
   "execution_count": null,
   "id": "44cbd81f",
   "metadata": {},
   "outputs": [],
   "source": [
    "mrk  <- rank_score_func(mrk)"
   ]
  },
  {
   "cell_type": "code",
   "execution_count": null,
   "id": "378dce5f",
   "metadata": {
    "scrolled": true
   },
   "outputs": [],
   "source": [
    "mrk  %>% dplyr::filter(cluster == 0)"
   ]
  },
  {
   "cell_type": "code",
   "execution_count": null,
   "id": "1a77426b",
   "metadata": {},
   "outputs": [],
   "source": [
    "markers  <- mrk  %>% arrange(desc(score))  %>% group_by(cluster)  %>% slice_head(n = 4)  %>% pull(gene)"
   ]
  },
  {
   "cell_type": "code",
   "execution_count": null,
   "id": "b5b66fb5",
   "metadata": {
    "scrolled": true
   },
   "outputs": [],
   "source": [
    "options(repr.plot.width = 16, repr.plot.height = 20)\n",
    "FeaturePlot(cd4_l3_temra, features = markers,\n",
    "           min.cutoff = 0, ncol = 4)"
   ]
  },
  {
   "cell_type": "code",
   "execution_count": null,
   "id": "4aff353f",
   "metadata": {
    "scrolled": true
   },
   "outputs": [],
   "source": [
    "options(repr.plot.width = 16, repr.plot.height = 16)\n",
    "FeaturePlot(cd4_l3_temra, features = c(\"CCR10\",\"TNFRSF9\",\"CCR7\",\"GZMA\",\"GZMB\",\"GZMH\",\"GZMM\",\n",
    "                                    \"STAT3\",\"SOCS3\",\"IL2RA\", \"LTB\", \"CCR7\", \"NOSIP\", \"KLRB1\"),\n",
    "           min.cutoff = 0, ncol = 4)"
   ]
  },
  {
   "cell_type": "code",
   "execution_count": null,
   "id": "f56d62b1",
   "metadata": {
    "scrolled": true
   },
   "outputs": [],
   "source": [
    "mrk  %>% arrange(desc(score))  %>% group_by(cluster)  %>% slice_head(n = 10)"
   ]
  },
  {
   "cell_type": "code",
   "execution_count": null,
   "id": "08d0169a",
   "metadata": {},
   "outputs": [],
   "source": [
    "cd4_l3_temra@meta.data  <- cd4_l3_temra@meta.data  %>% \n",
    "mutate(annotations_manual = recode_factor(seurat_clusters, \"0\" = \"Temra1: IL7R LTB CD40LG\",\n",
    "                                     \"1\" = \"Temra2: GZMB GZMH LGALS1\",\n",
    "                                     \"2\" = \"Temra3: CHI3L2 TIGIT CRTAM\", \n",
    "                                         \"3\" = \"Temra4: IGFBP7 FES LGALS9B\",\n",
    "                                         \"4\" = \"Temra5: TRDV2 TRGV9 TRDC\"))"
   ]
  },
  {
   "cell_type": "code",
   "execution_count": null,
   "id": "789c95e0",
   "metadata": {},
   "outputs": [],
   "source": [
    "options(repr.plot.width = 6, repr.plot.height = 5)\n",
    "\n",
    "DimPlot(cd4_l3_temra, group.by = \"annotations_manual\")"
   ]
  },
  {
   "cell_type": "code",
   "execution_count": null,
   "id": "43f2c3a5",
   "metadata": {},
   "outputs": [],
   "source": [
    "saveRDS(cd4_l3_temra, \"../data/processed/L3/cd4_l3_temra.rds\")"
   ]
  },
  {
   "cell_type": "markdown",
   "id": "57799df4",
   "metadata": {},
   "source": [
    "## Plotting all L3 datasets"
   ]
  },
  {
   "cell_type": "code",
   "execution_count": null,
   "id": "9e6c6425",
   "metadata": {},
   "outputs": [],
   "source": [
    "cd4_l3_list  <- list(cd4_l3_naive, cd4_l3_tfh, cd4_l3_th1th17, cd4_l3_nfkb, cd4_l3_th2,\n",
    "                     cd4_l3_treg, cd4_l3_isaghi, cd4_l3_proliferating, cd4_l3_temra)\n",
    "\n",
    "names(cd4_l3_list)  <- c(\"cd4_l3_naive\", \"cd4_l3_tfh\", \"cd4_l3_th1th17\", \"cd4_l3_nfkb\", \"cd4_l3_th2\",\n",
    "                     \"cd4_l3_treg\", \"cd4_l3_isaghi\", \"cd4_l3_proliferating\", \"cd4_l3_temra\")"
   ]
  },
  {
   "cell_type": "code",
   "execution_count": null,
   "id": "56ec4f2a",
   "metadata": {},
   "outputs": [],
   "source": [
    "for(i in 1:9){\n",
    "seurat_dataset  <- cd4_l3_list[[i]]\n",
    "seurat_dataset@misc$cols_annotations  <- scales::hue_pal(h.start = 20) (length(levels(factor(seurat_dataset$annotations_manual))))\n",
    "seurat_dataset@misc$dataset_name  <- names(cd4_l3_list)[i]\n",
    "seurat_dataset@misc$all_md  <- cd4_l1_full_filt@meta.data  %>% \n",
    "                            dplyr::select(Sample_ID, Condition, Condition2, \n",
    "                                          Disease, \n",
    "                                          Sex, Age, Age_group, Patient_ID, \n",
    "                                          Time, Experiment_ID)   %>% unique\n",
    "\n",
    "\n",
    "\n",
    "options(repr.plot.width = 8, repr.plot.height = 6.5)\n",
    "save_dimplot_plot(seurat_dataset = seurat_dataset)\n",
    "    \n",
    "options(repr.plot.width=16, repr.plot.height=5)\n",
    "process_plots_from_dataset(seurat_dataset = seurat_dataset)\n",
    "df4  <- create_df4(seurat_dataset)\n",
    "freq  <- df4  %>% dplyr::select(1:3)\n",
    "write.csv(freq, paste0(\"../tables/cd4/freq_\", names(cd4_l3_list)[i],\".csv\"), row.names = FALSE)\n",
    "\n",
    "saveRDS(seurat_dataset, paste0(\"../data/processed/L3/\",names(cd4_l3_list)[i],\".rds\"))\n",
    "}"
   ]
  },
  {
   "cell_type": "code",
   "execution_count": null,
   "id": "1975a735",
   "metadata": {},
   "outputs": [],
   "source": []
  },
  {
   "cell_type": "markdown",
   "id": "ff2faca4",
   "metadata": {},
   "source": [
    "## Population tree"
   ]
  },
  {
   "cell_type": "code",
   "execution_count": null,
   "id": "6137819a",
   "metadata": {},
   "outputs": [],
   "source": [
    "cd4_l3_naive  <- readRDS(\"../data/processed/L3/cd4_l3_naive.rds\")\n",
    "cd4_l3_tfh  <- readRDS(\"../data/processed/L3/cd4_l3_tfh.rds\")\n",
    "cd4_l3_nfkb  <- readRDS(\"../data/processed/L3/cd4_l3_nfkb.rds\")\n",
    "cd4_l3_th2  <- readRDS(\"../data/processed/L3/cd4_l3_th2.rds\")\n",
    "cd4_l3_treg  <- readRDS(\"../data/processed/L3/cd4_l3_treg.rds\")\n",
    "cd4_l3_isaghi  <- readRDS(\"../data/processed/L3/cd4_l3_isaghi.rds\")\n",
    "cd4_l3_proliferating  <- readRDS(\"../data/processed/L3/cd4_l3_proliferating.rds\")\n",
    "cd4_l3_temra  <- readRDS(\"../data/processed/L3/cd4_l3_temra.rds\")"
   ]
  },
  {
   "cell_type": "code",
   "execution_count": null,
   "id": "20201cce",
   "metadata": {},
   "outputs": [],
   "source": [
    "cd4_l3_th1th17  <- readRDS(\"../data/processed/L3/cd4_l3_th1th17.rds\")"
   ]
  },
  {
   "cell_type": "code",
   "execution_count": null,
   "id": "f06250c2",
   "metadata": {},
   "outputs": [],
   "source": [
    "cd4_md  <- cd4_l1_full_filt@meta.data  %>% dplyr::select(barcode, annotations_l1 = annotations_manual)"
   ]
  },
  {
   "cell_type": "code",
   "execution_count": null,
   "id": "5ea3d45c",
   "metadata": {},
   "outputs": [],
   "source": [
    "md_l2  <- rbind(cd4_l2_subcluster@meta.data %>% dplyr::select(barcode, annotations_manual),\n",
    "               data.frame(barcode = cd4_l2_unc@meta.data$barcode, annotations_manual = \"Unconventional\"))"
   ]
  },
  {
   "cell_type": "code",
   "execution_count": null,
   "id": "bb236603",
   "metadata": {
    "scrolled": true
   },
   "outputs": [],
   "source": [
    "md_l2"
   ]
  },
  {
   "cell_type": "code",
   "execution_count": null,
   "id": "468a8812",
   "metadata": {},
   "outputs": [],
   "source": [
    "cd4_md  <- left_join(cd4_md, (md_l2  %>% dplyr::select(barcode, annotations_l2 = annotations_manual)))"
   ]
  },
  {
   "cell_type": "code",
   "execution_count": null,
   "id": "935a04e0",
   "metadata": {},
   "outputs": [],
   "source": [
    "cd4_md  %>% group_by(annotations_l1, annotations_l2)  %>% tally"
   ]
  },
  {
   "cell_type": "code",
   "execution_count": null,
   "id": "6f298b22",
   "metadata": {},
   "outputs": [],
   "source": [
    "md_l3  <- rbind(cd4_l3_naive@meta.data %>% dplyr::select(barcode, annotations_manual), \n",
    "                cd4_l3_proliferating@meta.data %>% dplyr::select(barcode, annotations_manual), \n",
    "                cd4_l3_isaghi@meta.data %>% dplyr::select(barcode, annotations_manual),\n",
    "                cd4_l3_temra@meta.data %>% dplyr::select(barcode, annotations_manual),\n",
    "                cd4_l3_tfh@meta.data %>% dplyr::select(barcode, annotations_manual),\n",
    "                cd4_l3_th1th17@meta.data %>% dplyr::select(barcode, annotations_manual),\n",
    "                cd4_l3_nfkb@meta.data %>% dplyr::select(barcode, annotations_manual),\n",
    "                cd4_l3_th2@meta.data %>% dplyr::select(barcode, annotations_manual),\n",
    "                cd4_l3_treg@meta.data %>% dplyr::select(barcode, annotations_manual),\n",
    "                cd4_l2_unc@meta.data %>% dplyr::select(barcode, annotations_manual)\n",
    "                )"
   ]
  },
  {
   "cell_type": "code",
   "execution_count": null,
   "id": "cbe172df",
   "metadata": {},
   "outputs": [],
   "source": [
    "cd4_md  <- left_join(cd4_md, (md_l3  %>% dplyr::select(barcode, annotations_l3 = annotations_manual)))"
   ]
  },
  {
   "cell_type": "code",
   "execution_count": null,
   "id": "c9b503fa",
   "metadata": {
    "scrolled": true
   },
   "outputs": [],
   "source": [
    "cd4_md$annotations  <- \"CD4\""
   ]
  },
  {
   "cell_type": "code",
   "execution_count": null,
   "id": "d918276a",
   "metadata": {
    "scrolled": true
   },
   "outputs": [],
   "source": [
    "data  <- cd4_md  %>% dplyr::select(-barcode)  %>% \n",
    "    group_by(annotations, annotations_l1, annotations_l2, annotations_l3)  %>% \n",
    "tally()"
   ]
  },
  {
   "cell_type": "code",
   "execution_count": null,
   "id": "2bc9a3aa",
   "metadata": {},
   "outputs": [],
   "source": [
    "data"
   ]
  },
  {
   "cell_type": "code",
   "execution_count": null,
   "id": "2acd813d",
   "metadata": {},
   "outputs": [],
   "source": [
    "nrow(data)"
   ]
  },
  {
   "cell_type": "code",
   "execution_count": null,
   "id": "32353c15",
   "metadata": {},
   "outputs": [],
   "source": []
  },
  {
   "cell_type": "code",
   "execution_count": null,
   "id": "e4ebf576",
   "metadata": {},
   "outputs": [],
   "source": [
    "md_new  <- cd4_md  %>% \n",
    "mutate(barcode = barcode, \n",
    "          annotations_l1 = ifelse(grepl(annotations_l1, pattern = \"CD4\"), \"CD4 T cells\",\n",
    "          paste(\"CD4\", annotations_l1)))  %>% \n",
    "       mutate(annotations_l2 = paste(annotations_l1, annotations_l2, sep = \"---\"),\n",
    "              annotations_l3 = paste(annotations_l2, annotations_l3, sep = \"---\"))  %>% \n",
    "mutate(annotations_l3 = sub(annotations_l3, pattern = \"_NA\", replacement = \"\"))"
   ]
  },
  {
   "cell_type": "code",
   "execution_count": null,
   "id": "9d997d84",
   "metadata": {
    "scrolled": true
   },
   "outputs": [],
   "source": [
    "md_new"
   ]
  },
  {
   "cell_type": "code",
   "execution_count": null,
   "id": "b91b00d6",
   "metadata": {},
   "outputs": [],
   "source": [
    "cd4_l1_full_filt$annotations_l3  <- NULL"
   ]
  },
  {
   "cell_type": "code",
   "execution_count": null,
   "id": "dcc75b01",
   "metadata": {},
   "outputs": [],
   "source": [
    "cd4_l1_full_filt@meta.data  <- left_join(cd4_l1_full_filt@meta.data, md_new)"
   ]
  },
  {
   "cell_type": "code",
   "execution_count": null,
   "id": "d29af365",
   "metadata": {},
   "outputs": [],
   "source": [
    "rownames(cd4_l1_full_filt@meta.data)  <- colnames(cd4_l1_full_filt)"
   ]
  },
  {
   "cell_type": "code",
   "execution_count": null,
   "id": "16a8ce0d",
   "metadata": {},
   "outputs": [],
   "source": [
    "options(repr.plot.width = 25, repr.plot.height = 15)\n",
    "\n",
    "DimPlot(cd4_l1_full_filt, group.by = \"annotations_l3\", label = T, raster = T)"
   ]
  },
  {
   "cell_type": "code",
   "execution_count": null,
   "id": "a4ea1de6",
   "metadata": {},
   "outputs": [],
   "source": [
    "DimPlot(cd4_l1_full_filt, group.by = \"annotations_l2\", label = T, raster = T)"
   ]
  },
  {
   "cell_type": "code",
   "execution_count": null,
   "id": "dec6291d",
   "metadata": {},
   "outputs": [],
   "source": [
    "options(repr.plot.width = 12, repr.plot.height = 6)\n",
    "DimPlot(cd4_l2_subcluster, group.by = \"annotations_manual\", label = T, raster = T, cols = cd4_l2_subcluster@misc$cols)"
   ]
  },
  {
   "cell_type": "code",
   "execution_count": null,
   "id": "24a38f78",
   "metadata": {},
   "outputs": [],
   "source": [
    "options(repr.plot.width = 12, repr.plot.height = 7)\n",
    "DimPlot(cd4_l1_full_filt, group.by = \"annotations_l2\", label = F, \n",
    "        raster = T, cols = c(cd4_l2_subcluster@misc$cols[c(6,2,7,8,9,1,5,3,4)],\n",
    "                              #\"#be87e7ff\",\n",
    "                             \"dodgerblue1\",\n",
    "                             \"#fe60cbff\"))"
   ]
  },
  {
   "cell_type": "code",
   "execution_count": null,
   "id": "6d239c5b",
   "metadata": {},
   "outputs": [],
   "source": [
    "DimPlot(cd4_l1_full_filt, group.by = \"annotations_l1\", label = T, raster = T)"
   ]
  },
  {
   "cell_type": "code",
   "execution_count": null,
   "id": "7c4def0a",
   "metadata": {},
   "outputs": [],
   "source": [
    "saveRDS(cd4_l1_full_filt, \"../data/processed/L1/cd4_l1_full_filt.rds\")"
   ]
  },
  {
   "cell_type": "code",
   "execution_count": null,
   "id": "4a5ef430",
   "metadata": {},
   "outputs": [],
   "source": [
    "cd4_l1_full_filt  <- readRDS(\"../data/processed/L1/cd4_l1_full_filt.rds\")"
   ]
  },
  {
   "cell_type": "code",
   "execution_count": null,
   "id": "c8c3c5fc",
   "metadata": {},
   "outputs": [],
   "source": [
    "cd4_l2_subcluster  <- readRDS(\"../data/processed/L2/cd4_subcluster.rds\")\n",
    "cd4_l2_unc  <- readRDS(\"../data/processed/L2/cd4_l2_unc.rds\")"
   ]
  },
  {
   "cell_type": "markdown",
   "id": "6588864d",
   "metadata": {},
   "source": [
    "## Sankey plot"
   ]
  },
  {
   "cell_type": "code",
   "execution_count": null,
   "id": "ae1ded41",
   "metadata": {
    "scrolled": true
   },
   "outputs": [],
   "source": [
    "data"
   ]
  },
  {
   "cell_type": "code",
   "execution_count": null,
   "id": "9cff68d2",
   "metadata": {},
   "outputs": [],
   "source": [
    "dir.create(\"../tables/sankey/\")"
   ]
  },
  {
   "cell_type": "code",
   "execution_count": null,
   "id": "edc4f93f",
   "metadata": {},
   "outputs": [],
   "source": [
    "write.csv(data, \"../tables/sankey/cd4_sankey.csv\")"
   ]
  },
  {
   "cell_type": "markdown",
   "id": "fce6aefc",
   "metadata": {},
   "source": [
    "## Table for quantification and Bayes"
   ]
  },
  {
   "cell_type": "code",
   "execution_count": null,
   "id": "396d107a",
   "metadata": {},
   "outputs": [],
   "source": [
    "cd4_l1_full_filt  <- readRDS(\"../data/processed/L1/cd4_l1_full_filt.rds\")"
   ]
  },
  {
   "cell_type": "code",
   "execution_count": null,
   "id": "674ad4af",
   "metadata": {},
   "outputs": [],
   "source": [
    "cd4_patient_meta  <- cd4_l1_full_filt@meta.data  %>% \n",
    "                            dplyr::select(Sample_ID, Condition, Condition2, \n",
    "                                          Disease, \n",
    "                                          Sex, Age, Age_group, Patient_ID, \n",
    "                                          Time, Experiment_ID)   %>% unique"
   ]
  },
  {
   "cell_type": "code",
   "execution_count": null,
   "id": "fbdeecef",
   "metadata": {},
   "outputs": [],
   "source": [
    "colnames(cd4_l1_full_filt@meta.data )"
   ]
  },
  {
   "cell_type": "code",
   "execution_count": null,
   "id": "40a156eb",
   "metadata": {},
   "outputs": [],
   "source": [
    "df3  <- cd4_l1_full_filt@meta.data %>% \n",
    "  group_by(Sample_ID, annotations_l3) %>% \n",
    "  summarise(n = n()) %>% \n",
    "  unique() %>% \n",
    "ungroup   %>% \n",
    "pivot_wider(names_from = \"annotations_l3\", values_from = \"n\", values_fill = 0) \n",
    "df4  <- left_join((cd4_l1_full_filt@misc$all_md %>% dplyr::select(Sample_ID) %>% unique), df3)\n",
    "df4[is.na(df4)] <- 0\n",
    "df4  <- df4  %>% pivot_longer(!Sample_ID, values_to = \"n\", names_to = \"annotations\")\n",
    "\n",
    "# As we've lost non-grouping variables, let's join them back\n",
    "md_to_join <- cd4_l1_full_filt@misc$all_md %>% \n",
    "  unique()\n",
    "\n",
    "df4  <- left_join(df4, md_to_join)"
   ]
  },
  {
   "cell_type": "code",
   "execution_count": null,
   "id": "e50ff9e5",
   "metadata": {},
   "outputs": [],
   "source": [
    "df4$Level  <- \"L3\""
   ]
  },
  {
   "cell_type": "code",
   "execution_count": null,
   "id": "3391a5d2",
   "metadata": {},
   "outputs": [],
   "source": [
    "df_l3  <- df4"
   ]
  },
  {
   "cell_type": "code",
   "execution_count": null,
   "id": "6b602948",
   "metadata": {},
   "outputs": [],
   "source": [
    "df_l3"
   ]
  },
  {
   "cell_type": "code",
   "execution_count": null,
   "id": "4ddb97d9",
   "metadata": {},
   "outputs": [],
   "source": [
    "df3  <- cd4_l1_full_filt@meta.data %>% \n",
    "  group_by(Sample_ID, annotations_l2) %>% \n",
    "  summarise(n = n()) %>% \n",
    "  unique() %>% \n",
    "ungroup   %>% \n",
    "pivot_wider(names_from = \"annotations_l2\", values_from = \"n\", values_fill = 0) \n",
    "df4  <- left_join((cd4_l1_full_filt@misc$all_md %>% dplyr::select(Sample_ID) %>% unique), df3)\n",
    "df4[is.na(df4)] <- 0\n",
    "df4  <- df4  %>% pivot_longer(!Sample_ID, values_to = \"n\", names_to = \"annotations\")\n",
    "\n",
    "# As we've lost non-grouping variables, let's join them back\n",
    "md_to_join <- cd4_l1_full_filt@misc$all_md %>% \n",
    "  unique()\n",
    "\n",
    "df4  <- left_join(df4, md_to_join)\n",
    "df4$Level  <- \"L2\""
   ]
  },
  {
   "cell_type": "code",
   "execution_count": null,
   "id": "f5ca9654",
   "metadata": {},
   "outputs": [],
   "source": [
    "df_l2  <- df4"
   ]
  },
  {
   "cell_type": "code",
   "execution_count": null,
   "id": "2cee58ff",
   "metadata": {
    "scrolled": true
   },
   "outputs": [],
   "source": [
    "df4"
   ]
  },
  {
   "cell_type": "code",
   "execution_count": null,
   "id": "d208649c",
   "metadata": {},
   "outputs": [],
   "source": [
    "df3  <- cd4_l1_full_filt@meta.data %>% \n",
    "  group_by(Sample_ID, annotations_l1) %>% \n",
    "  summarise(n = n()) %>% \n",
    "  unique() %>% \n",
    "ungroup   %>% \n",
    "pivot_wider(names_from = \"annotations_l1\", values_from = \"n\", values_fill = 0) \n",
    "df4  <- left_join((cd4_l1_full_filt@misc$all_md %>% dplyr::select(Sample_ID) %>% unique), df3)\n",
    "df4[is.na(df4)] <- 0\n",
    "df4  <- df4  %>% pivot_longer(!Sample_ID, values_to = \"n\", names_to = \"annotations\")\n",
    "\n",
    "# As we've lost non-grouping variables, let's join them back\n",
    "md_to_join <- cd4_l1_full_filt@misc$all_md %>% \n",
    "  unique()\n",
    "\n",
    "df4  <- left_join(df4, md_to_join)\n",
    "df4$Level  <- \"L1\"\n",
    "\n",
    "df_l1  <- df4"
   ]
  },
  {
   "cell_type": "code",
   "execution_count": null,
   "id": "a98c6ee6",
   "metadata": {},
   "outputs": [],
   "source": [
    "df_l3"
   ]
  },
  {
   "cell_type": "code",
   "execution_count": null,
   "id": "0990e10d",
   "metadata": {},
   "outputs": [],
   "source": [
    "df_all_levels  <- rbind(df_l1, df_l2, df_l3)"
   ]
  },
  {
   "cell_type": "code",
   "execution_count": null,
   "id": "54abcbc6",
   "metadata": {},
   "outputs": [],
   "source": [
    "write.csv(df_all_levels, \"../tables/populations_freq/all_levels_counts_with_preliminary_cd4.csv\")"
   ]
  },
  {
   "cell_type": "code",
   "execution_count": null,
   "id": "8d96bedc",
   "metadata": {},
   "outputs": [],
   "source": [
    "df_all_levels"
   ]
  },
  {
   "cell_type": "code",
   "execution_count": null,
   "id": "70c5f91a",
   "metadata": {},
   "outputs": [],
   "source": [
    "df_all_levels_without_preliminary  <- df_all_levels  %>% dplyr::filter(Experiment_ID %in% c(\"Exp16\", \"Exp18\", \"Exp19\", \"Exp20\"))"
   ]
  },
  {
   "cell_type": "code",
   "execution_count": null,
   "id": "5e839881",
   "metadata": {},
   "outputs": [],
   "source": [
    "write.csv(df_all_levels_without_preliminary, \"../tables/populations_freq/all_levels_counts_cd4.csv\")"
   ]
  },
  {
   "cell_type": "code",
   "execution_count": null,
   "id": "45cb48f1",
   "metadata": {},
   "outputs": [],
   "source": []
  },
  {
   "cell_type": "markdown",
   "id": "95097e16",
   "metadata": {},
   "source": [
    "## Adding L3 annotations to full object"
   ]
  },
  {
   "cell_type": "code",
   "execution_count": null,
   "id": "a4290b4e",
   "metadata": {},
   "outputs": [],
   "source": [
    "md_new  <- cd4_md  %>% transmute(barcode = barcode, \n",
    "                                 annotations_l3 = paste(annotations_l1, annotations_l2, annotations_l3, sep = \"---\"))  %>% \n",
    "mutate(annotations_l3 = sub(annotations_l3, pattern = \"_NA\", replacement = \"\"))"
   ]
  },
  {
   "cell_type": "code",
   "execution_count": null,
   "id": "9486efef",
   "metadata": {
    "scrolled": true
   },
   "outputs": [],
   "source": [
    "md_new"
   ]
  },
  {
   "cell_type": "code",
   "execution_count": null,
   "id": "b9c8ef0e",
   "metadata": {},
   "outputs": [],
   "source": [
    "cd4_l1_full_filt@meta.data  <- left_join(cd4_l1_full_filt@meta.data, md_new)"
   ]
  },
  {
   "cell_type": "code",
   "execution_count": null,
   "id": "bdcc8df6",
   "metadata": {},
   "outputs": [],
   "source": [
    "rownames(cd4_l1_full_filt@meta.data)  <- colnames(cd4_l1_full_filt)"
   ]
  },
  {
   "cell_type": "code",
   "execution_count": null,
   "id": "445cf2d0",
   "metadata": {},
   "outputs": [],
   "source": [
    "options(repr.plot.width = 25, repr.plot.height = 15)\n",
    "\n",
    "DimPlot(cd4_l1_full_filt, group.by = \"annotations_l3\", label = T, raster = T)"
   ]
  },
  {
   "cell_type": "code",
   "execution_count": null,
   "id": "f864fbee",
   "metadata": {},
   "outputs": [],
   "source": [
    "saveRDS(cd4_l1_full_filt, \"../data/processed/L1/cd4_l1_full_filt.rds\")"
   ]
  },
  {
   "cell_type": "code",
   "execution_count": null,
   "id": "4b5481e3",
   "metadata": {},
   "outputs": [],
   "source": [
    "cd4_l1_full_filt  <- readRDS(\"../data/processed/L1/cd4_l1_full_filt.rds\")"
   ]
  },
  {
   "cell_type": "markdown",
   "id": "709cb61f",
   "metadata": {},
   "source": [
    "## Population phylogenetic tree"
   ]
  },
  {
   "cell_type": "code",
   "execution_count": null,
   "id": "b6bbd942",
   "metadata": {},
   "outputs": [],
   "source": [
    "Idents(cd4_l1_full_filt)  <- cd4_l1_full_filt$annotations_l3"
   ]
  },
  {
   "cell_type": "code",
   "execution_count": null,
   "id": "399018a0",
   "metadata": {},
   "outputs": [],
   "source": [
    "cd4_l1_full_filt <- BuildClusterTree(\n",
    "  cd4_l1_full_filt,\n",
    "  dims = 1:12,\n",
    "  reorder = FALSE,\n",
    "  reorder.numeric = FALSE\n",
    ")"
   ]
  },
  {
   "cell_type": "code",
   "execution_count": null,
   "id": "d0d98313",
   "metadata": {},
   "outputs": [],
   "source": [
    "tree <- cd4_l1_full_filt@tools$BuildClusterTree\n",
    "tree$tip.label <- tree$tip.label"
   ]
  },
  {
   "cell_type": "code",
   "execution_count": null,
   "id": "cdb91579",
   "metadata": {},
   "outputs": [],
   "source": [
    "tree$tip.label"
   ]
  },
  {
   "cell_type": "code",
   "execution_count": null,
   "id": "3eee1b38",
   "metadata": {},
   "outputs": [],
   "source": [
    "as.character(tree$tip.label)"
   ]
  },
  {
   "cell_type": "code",
   "execution_count": null,
   "id": "3526ebee",
   "metadata": {},
   "outputs": [],
   "source": [
    "tree"
   ]
  },
  {
   "cell_type": "code",
   "execution_count": null,
   "id": "b9bf0840",
   "metadata": {},
   "outputs": [],
   "source": [
    "p <- ggtree::ggtree(tree, aes(x, y)) +\n",
    "  scale_y_reverse() +\n",
    "  ggtree::geom_tree() +\n",
    "  ggtree::theme_tree() +\n",
    "  ggtree::geom_tiplab(offset = 1) +\n",
    "  ggtree::geom_tippoint(shape = 16, size = 5) +\n",
    "  coord_cartesian(clip = 'off') +\n",
    "  theme(plot.margin = unit(c(0,18,0,0), 'cm'))\n",
    "\n",
    "#ggsave('plots/cluster_tree.png', p, height = 4, width = 6)"
   ]
  },
  {
   "cell_type": "code",
   "execution_count": null,
   "id": "7015c9f6",
   "metadata": {
    "scrolled": true
   },
   "outputs": [],
   "source": [
    "options(repr.plot.width=10, repr.plot.height=12)\n",
    "p"
   ]
  },
  {
   "cell_type": "markdown",
   "id": "44bea914",
   "metadata": {},
   "source": [
    "# Revisions - CD79A expression"
   ]
  },
  {
   "cell_type": "code",
   "execution_count": null,
   "id": "454f2a41",
   "metadata": {},
   "outputs": [],
   "source": [
    "cd4_full  <- readRDS(\"../..//240218_VN_Diabetes_V05/data/processed/L1/cd4_full.rds\")"
   ]
  },
  {
   "cell_type": "code",
   "execution_count": null,
   "id": "b60563a6",
   "metadata": {},
   "outputs": [],
   "source": [
    "DimPlot(cd4_full, label = T)"
   ]
  },
  {
   "cell_type": "code",
   "execution_count": null,
   "id": "e69c9326",
   "metadata": {},
   "outputs": [],
   "source": [
    "options(repr.plot.width=16, repr.plot.height=12)\n",
    "VlnPlot(cd4_full, features = c(\"CD79A\",\"MS4A1\"))"
   ]
  },
  {
   "cell_type": "code",
   "execution_count": null,
   "id": "a2d86ad2",
   "metadata": {},
   "outputs": [],
   "source": [
    "pct_expressing_boxplot  <- function(seurat_object, gene, group.by = \"annotations_l2\", sample.col = \"sample\"){\n",
    "   rn = which(rownames(seurat_object@assays$RNA)==gene)\n",
    "ggtheme = function() {\n",
    "  theme(\n",
    "    axis.text = element_text(size = 20),\n",
    "    axis.title = element_text(size = 20),\n",
    "    text = element_text(size = 20, colour = \"black\"),\n",
    "    legend.text = element_text(size = 20),\n",
    "    legend.key.size =  unit(10, units = \"points\")\n",
    "    \n",
    "  )\n",
    "}\n",
    "\n",
    "df = data.frame(grouping_var = seurat_object@meta.data[[group.by]],\n",
    "               value = seurat_object@assays$RNA@counts[rn,], \n",
    "               sample = seurat_object@meta.data[[sample.col]])  %>% \n",
    "mutate(expressing = if_else(value>0,1,0))  %>% \n",
    "dplyr::select(-value)  %>% \n",
    "group_by(sample, grouping_var)  %>% \n",
    "summarise(mean_expression = mean(expressing))  %>% \n",
    "pivot_wider(names_from = sample, values_from = mean_expression, values_fill = 0)  %>% \n",
    "pivot_longer(!grouping_var, names_to = \"sample\", values_to = \"expressing\")\n",
    "\n",
    "plt = ggplot(data = df, aes(x = grouping_var, y = expressing)) +\n",
    "geom_boxplot(outlier.shape = NA, aes(fill = grouping_var), alpha = 0.3) + \n",
    "  geom_dotplot(binaxis='y', stackdir='center', dotsize=0) + \n",
    "  geom_jitter(width = 0.1, height = 0.0, size = 2, aes(color = grouping_var)) +\n",
    "theme_classic() +\n",
    "    theme(plot.title = element_text(hjust = 0.5)) +\n",
    "    theme(axis.text.x = element_text(angle = 90, vjust = 0.5)) +\n",
    "ggtheme() +\n",
    "    ggtitle(gene) +\n",
    "    ylab(\"Pct expressing cells\") +\n",
    "xlab(\"\") + NoLegend()\n",
    "    return(plt)\n",
    "    }\n"
   ]
  },
  {
   "cell_type": "code",
   "execution_count": null,
   "id": "c1be79d3",
   "metadata": {},
   "outputs": [],
   "source": [
    "options(repr.plot.width=7, repr.plot.height=6)\n",
    "pct_expressing_boxplot(seurat_object = cd4_full, group.by = \"seurat_clusters\", gene = \"CD79A\", sample.col = \"Sample_ID\")"
   ]
  },
  {
   "cell_type": "code",
   "execution_count": null,
   "id": "99dd077e",
   "metadata": {},
   "outputs": [],
   "source": [
    "pct_expressing_boxplot(seurat_object = cd4_full, group.by = \"seurat_clusters\", gene = \"CD19\", sample.col = \"Sample_ID\")"
   ]
  },
  {
   "cell_type": "code",
   "execution_count": null,
   "id": "c528d433",
   "metadata": {},
   "outputs": [],
   "source": [
    "pct_expressing_boxplot(seurat_object = cd4_full, group.by = \"seurat_clusters\", gene = \"KLRB1\", sample.col = \"Sample_ID\")"
   ]
  },
  {
   "cell_type": "code",
   "execution_count": null,
   "id": "fb55a008",
   "metadata": {},
   "outputs": [],
   "source": [
    "pct_expressing_boxplot(seurat_object = cd4_full, group.by = \"seurat_clusters\", gene = \"ZBTB16\", sample.col = \"Sample_ID\")"
   ]
  },
  {
   "cell_type": "code",
   "execution_count": null,
   "id": "5f483327",
   "metadata": {},
   "outputs": [],
   "source": [
    "pct_expressing_boxplot(seurat_object = cd4_full, group.by = \"seurat_clusters\", gene = \"MS4A1\", sample.col = \"Sample_ID\")"
   ]
  },
  {
   "cell_type": "code",
   "execution_count": null,
   "id": "95407e2b",
   "metadata": {},
   "outputs": [],
   "source": [
    "ls()"
   ]
  }
 ],
 "metadata": {
  "kernelspec": {
   "display_name": "R",
   "language": "R",
   "name": "ir"
  },
  "language_info": {
   "codemirror_mode": "r",
   "file_extension": ".r",
   "mimetype": "text/x-r-source",
   "name": "R",
   "pygments_lexer": "r",
   "version": "4.5.0"
  },
  "toc": {
   "base_numbering": 1,
   "nav_menu": {},
   "number_sections": true,
   "sideBar": true,
   "skip_h1_title": false,
   "title_cell": "Table of Contents",
   "title_sidebar": "Contents",
   "toc_cell": false,
   "toc_position": {
    "height": "calc(100% - 180px)",
    "left": "10px",
    "top": "150px",
    "width": "330.667px"
   },
   "toc_section_display": true,
   "toc_window_display": true
  }
 },
 "nbformat": 4,
 "nbformat_minor": 5
}
