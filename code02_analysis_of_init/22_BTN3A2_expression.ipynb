{
 "cells": [
  {
   "cell_type": "code",
   "execution_count": null,
   "id": "d69a7e3d",
   "metadata": {},
   "outputs": [],
   "source": [
    "library(ggplot2)"
   ]
  },
  {
   "cell_type": "code",
   "execution_count": null,
   "id": "69e5748d",
   "metadata": {
    "scrolled": true
   },
   "outputs": [],
   "source": [
    "source(\"diabetes_analysis_v06.R\")"
   ]
  },
  {
   "cell_type": "markdown",
   "id": "ea32bfe8",
   "metadata": {},
   "source": [
    "# Honardoost"
   ]
  },
  {
   "cell_type": "code",
   "execution_count": null,
   "id": "49aef930",
   "metadata": {},
   "outputs": [],
   "source": [
    "honardoost  <- readRDS(\"../data/published_data/Honardoost_2024/honardoost_tcells.rds\")"
   ]
  },
  {
   "cell_type": "code",
   "execution_count": null,
   "id": "29310c4f",
   "metadata": {},
   "outputs": [],
   "source": [
    "DimPlot(honardoost)"
   ]
  },
  {
   "cell_type": "code",
   "execution_count": null,
   "id": "3afec5d4",
   "metadata": {},
   "outputs": [],
   "source": [
    "md  <- honardoost@meta.data  %>% dplyr::select(Sample_ID, HLA_Haplotypes, COND)"
   ]
  },
  {
   "cell_type": "code",
   "execution_count": null,
   "id": "f85dee62",
   "metadata": {},
   "outputs": [],
   "source": [
    "avgexp = AverageExpression(honardoost, features = c(\"NOTCH4\",\"TABP\",\"TAP2\",\"LMP7\",\"TAP1\",\"LMP2\",\"LST1\",\n",
    "                                                     \"LTB\",\"TNF\",\"LTA\",\"NFKBIL1\", \"BTN3A2\",\"BTN3A1\"),\n",
    "                           return.seurat = F, group.by = \"Sample_ID\", \n",
    "                          assay = \"RNA\")\n",
    "\n",
    "btn_etc  <- t(avgexp$RNA)  %>% as.data.frame()  %>% \n",
    "rownames_to_column(\"Sample_ID\")  %>% \n",
    "pivot_longer(!Sample_ID, names_to = \"gene\", values_to = \"expression\")  %>% \n",
    "left_join(md)  %>% unique"
   ]
  },
  {
   "cell_type": "code",
   "execution_count": null,
   "id": "f5aef332",
   "metadata": {
    "scrolled": true
   },
   "outputs": [],
   "source": [
    "btn_etc"
   ]
  },
  {
   "cell_type": "code",
   "execution_count": null,
   "id": "ed3ceb88",
   "metadata": {},
   "outputs": [],
   "source": [
    "options(repr.plot.width = 7, repr.plot.height = 7)\n",
    "\n",
    "btn_etc  %>% filter(gene == \"BTN3A2\")  %>% \n",
    "ggplot(aes(x = HLA_Haplotypes,\n",
    "             y = expression)) +\n",
    "   geom_dotplot(binaxis='y', stackdir='center', dotsize = 0) + \n",
    "   geom_boxplot(outlier.shape = NA) +\n",
    "    geom_jitter(binaxis='y', position=position_jitter(width = 0.1, height = 0.01), \n",
    "                size = 2, stackdir='center', aes(color = COND)) + \n",
    "    facet_wrap(~gene, scales = \"free\") +\n",
    "  theme_classic() + xlab(\"\") +  \n",
    " xlab(\"\") + ylab(\"Value\") +\n",
    "   scale_y_continuous(expand = expansion(mult = c(0, 0.1))) +\n",
    "  ggpubr::stat_compare_means(label.x = 1.2, label.y.npc = \"top\", size = 5, vjust = 0.3, label = \"p.format\") + \n",
    "      theme(plot.title = element_text(hjust = 0.5, size = 18),\n",
    "          axis.line = element_line(colour = \"black\"), \n",
    "            axis.text = element_text(angle = 90),\n",
    "        axis.ticks = element_line(colour = \"black\")) +\n",
    "  ylim(0,NA) + ggtitle(\"Avg Expression by HLA CD4 T cells\")"
   ]
  },
  {
   "cell_type": "code",
   "execution_count": null,
   "id": "7a719e44",
   "metadata": {},
   "outputs": [],
   "source": [
    "options(repr.plot.width = 7, repr.plot.height = 7)\n",
    "\n",
    "btn_etc  %>% filter(gene == \"BTN3A2\")  %>% \n",
    "ggplot(aes(x = HLA_Haplotypes,\n",
    "             y = expression)) +\n",
    "   geom_dotplot(binaxis='y', stackdir='center', dotsize = 0) + \n",
    "   geom_boxplot(outlier.shape = NA) +\n",
    "    geom_jitter(binaxis='y', position=position_jitter(width = 0.1, height = 0.01), \n",
    "                size = 2, stackdir='center', aes(color = COND)) + \n",
    "    facet_wrap(~gene, scales = \"free\") +\n",
    "  theme_classic() + xlab(\"\") +  \n",
    " xlab(\"\") + ylab(\"Value\") +\n",
    "   scale_y_continuous(expand = expansion(mult = c(0, 0.1))) +\n",
    "  ggpubr::stat_compare_means(label.x = 1.2, label.y.npc = \"top\", size = 5, vjust = 0.3, label = \"p.format\") + \n",
    "      theme(plot.title = element_text(hjust = 0.5, size = 18),\n",
    "          axis.line = element_line(colour = \"black\"), \n",
    "            axis.text = element_text(angle = 90),\n",
    "        axis.ticks = element_line(colour = \"black\")) +\n",
    "  ylim(0,NA) + ggtitle(\"Avg Expression by HLA honardoost\")"
   ]
  },
  {
   "cell_type": "code",
   "execution_count": null,
   "id": "ab235ed5",
   "metadata": {},
   "outputs": [],
   "source": [
    "VlnPlot(honardoost, features = \"nCount_RNA\", pt.size = 0)"
   ]
  },
  {
   "cell_type": "code",
   "execution_count": null,
   "id": "1863001e",
   "metadata": {},
   "outputs": [],
   "source": [
    "VlnPlot(honardoost, features = \"nFeature_RNA\", pt.size = 0)"
   ]
  },
  {
   "cell_type": "code",
   "execution_count": null,
   "id": "99bda877",
   "metadata": {},
   "outputs": [],
   "source": [
    "btn_etc  <- btn_etc  %>% separate(HLA_Haplotypes, into = c(\"DQ1\",\"DQ2\",\"DR1\",\"DR2\"), \n",
    "                                  sep = \"_\", remove = F)"
   ]
  },
  {
   "cell_type": "code",
   "execution_count": null,
   "id": "532c0e26",
   "metadata": {
    "scrolled": true
   },
   "outputs": [],
   "source": [
    "btn_etc <- btn_etc  %>% mutate(DR1 = gsub(DR1, pattern = \"RR\", replacement = \"DR\"))"
   ]
  },
  {
   "cell_type": "code",
   "execution_count": null,
   "id": "5e9fd23d",
   "metadata": {
    "scrolled": true
   },
   "outputs": [],
   "source": [
    "btn_etc"
   ]
  },
  {
   "cell_type": "code",
   "execution_count": null,
   "id": "98d7affb",
   "metadata": {},
   "outputs": [],
   "source": [
    "possible_dq  <- unique(c(btn_etc$DQ1, btn_etc$DQ2))"
   ]
  },
  {
   "cell_type": "code",
   "execution_count": null,
   "id": "f3ed88c9",
   "metadata": {},
   "outputs": [],
   "source": [
    "possible_dq"
   ]
  },
  {
   "cell_type": "code",
   "execution_count": null,
   "id": "9aad82f0",
   "metadata": {},
   "outputs": [],
   "source": [
    "possible_dr  <- unique(c(btn_etc$DR1, btn_etc$DR2))"
   ]
  },
  {
   "cell_type": "code",
   "execution_count": null,
   "id": "b4dcc36f",
   "metadata": {},
   "outputs": [],
   "source": [
    "possible_dr"
   ]
  },
  {
   "cell_type": "code",
   "execution_count": null,
   "id": "0cd19aa0",
   "metadata": {},
   "outputs": [],
   "source": [
    "plot_list  <- list()"
   ]
  },
  {
   "cell_type": "code",
   "execution_count": null,
   "id": "0ae24dfc",
   "metadata": {},
   "outputs": [],
   "source": [
    "for(i in 1:length(possible_dq)){\n",
    "  \n",
    "options(repr.plot.width = 5, repr.plot.height = 4)\n",
    "\n",
    "df2  <-   btn_etc  %>% filter(gene == \"BTN3A2\")  %>% \n",
    "    mutate(haplotype = ifelse((DQ1 == possible_dq[i] & DQ2 == possible_dq[i]), \n",
    "                             paste(\"Hom\", possible_dq[i]), \n",
    "                       ifelse(DQ1 == possible_dq[i] | DQ2 == possible_dq[i], \n",
    "                             paste(\"Het\", possible_dq[i]),\n",
    "                                  \"Other\")))\n",
    "p  <- df2   %>% \n",
    "ggplot(aes(x = haplotype,\n",
    "             y = expression)) +\n",
    "   geom_dotplot(binaxis='y', stackdir='center', dotsize = 0) + \n",
    "   geom_boxplot(outlier.shape = NA) +\n",
    "    geom_jitter(binaxis='y', position=position_jitter(width = 0.1, height = 0.01), \n",
    "                size = 2, stackdir='center', aes(color = COND)) + \n",
    "    facet_wrap(~COND) +\n",
    "  theme_classic() + xlab(\"\") +  \n",
    " xlab(\"\") + ylab(\"Value\") +\n",
    "   scale_y_continuous(expand = expansion(mult = c(0, 0.1))) +\n",
    "     scale_color_manual(values = c(\"dodgerblue\", \"indianred3\")) +\n",
    "  ggpubr::stat_compare_means(label.x = 1.2, label.y.npc = \"top\", size = 3.5, vjust = 0.3, label = \"p.format\") + \n",
    "      theme(plot.title = element_text(hjust = 0.5, size = 18),\n",
    "          axis.line = element_line(colour = \"black\"), \n",
    "            axis.text.x = element_text(angle = 90),\n",
    "        axis.ticks = element_line(colour = \"black\")) +\n",
    "  ylim(0,NA) + ggtitle(possible_dq[i]) + NoLegend()\n",
    "    \n",
    "    print(p)\n",
    "    \n",
    "    plot_list[[i]]  <- p\n",
    "           \n",
    "}"
   ]
  },
  {
   "cell_type": "code",
   "execution_count": null,
   "id": "996c0548",
   "metadata": {},
   "outputs": [],
   "source": [
    "options(repr.plot.width = 16, repr.plot.height = 4)\n",
    "cowplot::plot_grid(plotlist = plot_list, ncol = 7)"
   ]
  },
  {
   "cell_type": "code",
   "execution_count": null,
   "id": "04edaa84",
   "metadata": {},
   "outputs": [],
   "source": []
  },
  {
   "cell_type": "code",
   "execution_count": null,
   "id": "cd880f1a",
   "metadata": {},
   "outputs": [],
   "source": [
    "for(i in 1:length(possible_dr)){\n",
    "  \n",
    "options(repr.plot.width = 5, repr.plot.height = 4)\n",
    "\n",
    "df2  <-   btn_etc  %>% filter(gene == \"BTN3A2\")  %>% \n",
    "    mutate(haplotype = ifelse((DR1 == possible_dr[i] & DR2 == possible_dr[i]), \n",
    "                             paste(\"Hom\", possible_dr[i]), \n",
    "                       ifelse(DR1 == possible_dr[i] | DR2 == possible_dr[i], \n",
    "                             paste(\"Het\", possible_dr[i]),\n",
    "                                  \"Other\")))\n",
    "p  <- df2   %>% \n",
    "ggplot(aes(x = haplotype,\n",
    "             y = expression)) +\n",
    "   geom_dotplot(binaxis='y', stackdir='center', dotsize = 0) + \n",
    "   geom_boxplot(outlier.shape = NA) +\n",
    "    geom_jitter(binaxis='y', position=position_jitter(width = 0.1, height = 0.01), \n",
    "                size = 2, stackdir='center', aes(color = COND)) + \n",
    "    facet_wrap(~COND) +\n",
    "  theme_classic() + xlab(\"\") +  \n",
    " xlab(\"\") + ylab(\"Value\") +\n",
    "   scale_y_continuous(expand = expansion(mult = c(0, 0.1))) +\n",
    "     scale_color_manual(values = c(\"dodgerblue\", \"indianred3\")) +\n",
    "  ggpubr::stat_compare_means(label.x = 1.2, label.y.npc = \"top\", size = 3.5, vjust = 0.3, label = \"p.format\") + \n",
    "      theme(plot.title = element_text(hjust = 0.5, size = 18),\n",
    "          axis.line = element_line(colour = \"black\"), \n",
    "            axis.text.x = element_text(angle = 90),\n",
    "        axis.ticks = element_line(colour = \"black\")) +\n",
    "  ylim(0,NA) + ggtitle(possible_dr[i]) + NoLegend()\n",
    "    \n",
    "    print(p)\n",
    "    \n",
    "    plot_list[[i]]  <- p\n",
    "           \n",
    "}"
   ]
  },
  {
   "cell_type": "code",
   "execution_count": null,
   "id": "b8d4ebde",
   "metadata": {},
   "outputs": [],
   "source": [
    "options(repr.plot.width = 18, repr.plot.height = 4)\n",
    "cowplot::plot_grid(plotlist = plot_list, ncol = 10)"
   ]
  },
  {
   "cell_type": "markdown",
   "id": "306064e3",
   "metadata": {},
   "source": [
    "### DF for cross-study comparison"
   ]
  },
  {
   "cell_type": "code",
   "execution_count": null,
   "id": "dd76ffa3",
   "metadata": {},
   "outputs": [],
   "source": [
    "md  <- honardoost@meta.data  %>% dplyr::select(Sample_ID, HLA_Haplotypes, COND)\n",
    "\n",
    "avgexp = AverageExpression(honardoost, features = c(\"BTN3A2\"),\n",
    "                           return.seurat = F, group.by = \"Sample_ID\", \n",
    "                          assay = \"RNA\")\n",
    "\n",
    "btn_etc  <- t(avgexp$RNA)  %>% as.data.frame()  %>% \n",
    "rownames_to_column(\"Sample_ID\")  %>% \n",
    "pivot_longer(!Sample_ID, names_to = \"gene\", values_to = \"expression\")  %>% \n",
    "left_join(md)  %>% unique"
   ]
  },
  {
   "cell_type": "code",
   "execution_count": null,
   "id": "226fbe7f",
   "metadata": {
    "scrolled": true
   },
   "outputs": [],
   "source": [
    "btn_etc"
   ]
  },
  {
   "cell_type": "code",
   "execution_count": null,
   "id": "9de13d75",
   "metadata": {},
   "outputs": [],
   "source": [
    "btn_etc$gene  <- \"BTN3A2\""
   ]
  },
  {
   "cell_type": "code",
   "execution_count": null,
   "id": "0c810be1",
   "metadata": {},
   "outputs": [],
   "source": [
    "btn_etc$expression_scale  <-  2/(max(btn_etc$expression)-min(btn_etc$expression))*(btn_etc$expression-max(btn_etc$expression))+1"
   ]
  },
  {
   "cell_type": "code",
   "execution_count": null,
   "id": "53011474",
   "metadata": {
    "scrolled": true
   },
   "outputs": [],
   "source": [
    "max(btn_etc$expression_scale)"
   ]
  },
  {
   "cell_type": "code",
   "execution_count": null,
   "id": "f54c12e6",
   "metadata": {},
   "outputs": [],
   "source": [
    "min(btn_etc$expression_scale)"
   ]
  },
  {
   "cell_type": "code",
   "execution_count": null,
   "id": "7ee8c9d2",
   "metadata": {},
   "outputs": [],
   "source": [
    "scale_exp_honardoost  <- btn_etc"
   ]
  },
  {
   "cell_type": "code",
   "execution_count": null,
   "id": "058bec86",
   "metadata": {},
   "outputs": [],
   "source": [
    "scale_exp_honardoost$study  <- \"Honardoost\""
   ]
  },
  {
   "cell_type": "code",
   "execution_count": null,
   "id": "f3e8071c",
   "metadata": {
    "scrolled": true
   },
   "outputs": [],
   "source": [
    "scale_exp_honardoost"
   ]
  },
  {
   "cell_type": "code",
   "execution_count": null,
   "id": "6311d3c1",
   "metadata": {},
   "outputs": [],
   "source": [
    "scale_exp_honardoost  <-  scale_exp_honardoost  %>% separate(HLA_Haplotypes, into = c(\"DQ\"))"
   ]
  },
  {
   "cell_type": "markdown",
   "id": "6463e8d7",
   "metadata": {},
   "source": [
    "# Kallionpaa"
   ]
  },
  {
   "cell_type": "markdown",
   "id": "1b9fbfee",
   "metadata": {},
   "source": [
    "## Bulk"
   ]
  },
  {
   "cell_type": "code",
   "execution_count": null,
   "id": "b4c2cbfd",
   "metadata": {},
   "outputs": [],
   "source": [
    "kallionpaa_bulk <- read_csv(\"../data/published_data/Kallionpaa_2019/bulk_seq_counts_with_md.csv\")"
   ]
  },
  {
   "cell_type": "code",
   "execution_count": null,
   "id": "1a13427e",
   "metadata": {},
   "outputs": [],
   "source": [
    "kallionpaa_bulk$`...1`  <- NULL"
   ]
  },
  {
   "cell_type": "code",
   "execution_count": null,
   "id": "561c2f0e",
   "metadata": {
    "scrolled": true
   },
   "outputs": [],
   "source": [
    "kallionpaa_bulk"
   ]
  },
  {
   "cell_type": "code",
   "execution_count": null,
   "id": "51e848d0",
   "metadata": {},
   "outputs": [],
   "source": [
    "hla  <- read_delim(\"../data/published_data/Kallionpaa_2019/genotypes.tsv\")\n",
    "\n",
    "hla\n",
    "\n",
    "hla2  <- hla  %>% \n",
    "mutate(sample = gsub(subject, pattern = \"10_1_\", replacement = \"10.1_\"))  %>% \n",
    "mutate(sample = gsub(sample, pattern = \"10_2_\", replacement = \"10.2_\"))  %>% \n",
    "mutate(sample = gsub(sample, pattern = \"Ctrll\", replacement = \"Control\"))  %>% \n",
    "mutate(sample = gsub(sample, pattern = \"Ctrl\", replacement = \"Control\"))  %>% \n",
    "\n",
    "separate(sample, into = c(\"Sample_ID\",\"Patient_ID\",\"TimePoint\",\"CellType\",\"Index\"), sep = \"_\", remove = F)  %>% \n",
    "dplyr::select(-sample, -Sample_ID, -TimePoint, -CellType, -Index, -subject)\n"
   ]
  },
  {
   "cell_type": "code",
   "execution_count": null,
   "id": "514d09a1",
   "metadata": {},
   "outputs": [],
   "source": [
    "colnames(hla2)"
   ]
  },
  {
   "cell_type": "code",
   "execution_count": null,
   "id": "2aaeebb8",
   "metadata": {
    "scrolled": true
   },
   "outputs": [],
   "source": [
    "hla3  <- hla2  %>% group_by(Patient_ID, A1, A2, B1, B2, C1, C2, DQA11, DQA12,\n",
    "                  DQB11, DQB12, DRA1, DRA2, DRB11, DRB12)  %>% \n",
    "tally  %>% arrange(desc(n))  %>% ungroup  %>% \n",
    "group_by(Patient_ID)  %>% slice_max(order_by = n, n = 1)"
   ]
  },
  {
   "cell_type": "code",
   "execution_count": null,
   "id": "bc8e34b1",
   "metadata": {
    "scrolled": true
   },
   "outputs": [],
   "source": [
    "count_all4  <- left_join(kallionpaa_bulk, hla3)"
   ]
  },
  {
   "cell_type": "code",
   "execution_count": null,
   "id": "7357dc45",
   "metadata": {
    "scrolled": true
   },
   "outputs": [],
   "source": [
    "count_all4   %>% colnames"
   ]
  },
  {
   "cell_type": "code",
   "execution_count": null,
   "id": "c1a1a174",
   "metadata": {},
   "outputs": [],
   "source": [
    "possible_a  <- unique(c(count_all4$A1, count_all4$A2))\n",
    "possible_b <- unique(c(count_all4$B1, count_all4$B2))\n",
    "possible_c <- unique(c(count_all4$C1, count_all4$C2))\n",
    "possible_dqa <- unique(c(count_all4$DQA11, count_all4$DQA12))\n",
    "possible_dqb <- unique(c(count_all4$DQB11, count_all4$DQB12))\n",
    "possible_dra <- unique(c(count_all4$DRA1, count_all4$DRA2))\n",
    "possible_drb <- unique(c(count_all4$DRB11, count_all4$DRB12))"
   ]
  },
  {
   "cell_type": "code",
   "execution_count": null,
   "id": "12e13d2e",
   "metadata": {},
   "outputs": [],
   "source": [
    "possible_a  <- possible_a[!is.na(possible_a)]\n",
    "possible_b <- possible_b[!is.na(possible_b)]\n",
    "possible_c <- possible_c[!is.na(possible_c)]\n",
    "possible_dqa <- possible_dqa[!is.na(possible_dqa)]\n",
    "possible_dqb <- possible_dqb[!is.na(possible_dqb)]\n",
    "possible_dra <- possible_dra[!is.na(possible_dra)]\n",
    "possible_drb <- possible_drb[!is.na(possible_drb)]"
   ]
  },
  {
   "cell_type": "code",
   "execution_count": null,
   "id": "1dd67c6f",
   "metadata": {},
   "outputs": [],
   "source": [
    "plot_list  <- list()"
   ]
  },
  {
   "cell_type": "markdown",
   "id": "379797ee",
   "metadata": {},
   "source": [
    "### A"
   ]
  },
  {
   "cell_type": "code",
   "execution_count": null,
   "id": "817354fa",
   "metadata": {
    "scrolled": true
   },
   "outputs": [],
   "source": [
    "for(i in 1:length(possible_a)){\n",
    "  \n",
    "options(repr.plot.width = 5, repr.plot.height = 4)\n",
    "\n",
    "df2  <-   count_all4  %>% filter(gene == \"BTN3A2\")  %>% \n",
    "    mutate(haplotype = ifelse((A1 == possible_a[i] & A2 == possible_a[i]), \n",
    "                             paste(\"Hom\"), \n",
    "                       ifelse(A1 == possible_a[i] | A2 == possible_a[i], \n",
    "                             paste(\"Het\"),\n",
    "                                  \"Other\")))\n",
    "p  <- df2   %>% group_by(Patient_ID, Disease, haplotype, CellType)  %>% \n",
    "    summarise(expression = mean(value, na.rm = T))  %>%     \n",
    "ggplot(aes(x = haplotype,\n",
    "             y = expression)) +\n",
    "   geom_dotplot(binaxis='y', stackdir='center', dotsize = 0) + \n",
    "   geom_boxplot(outlier.shape = NA) +\n",
    "    geom_jitter(binaxis='y', position=position_jitter(width = 0.1, height = 0.01), \n",
    "                size = 2, stackdir='center', aes(color = Disease, shape = CellType)) + \n",
    "    facet_wrap(~Disease) +\n",
    "  theme_classic() + xlab(\"\") +  \n",
    " xlab(\"\") + ylab(\"Value\") +\n",
    "   scale_y_continuous(expand = expansion(mult = c(0, 0.1))) +\n",
    "     scale_color_manual(values = c(\"dodgerblue\", \"indianred3\")) +\n",
    "  ggpubr::stat_compare_means(label.x = 1.2, label.y.npc = \"top\", size = 3.5, vjust = 0.3, label = \"p.format\") + \n",
    "      theme(plot.title = element_text(hjust = 0.5, size = 18),\n",
    "          axis.line = element_line(colour = \"black\"), \n",
    "            axis.text.x = element_text(angle = 90),\n",
    "        axis.ticks = element_line(colour = \"black\")) +\n",
    "  ylim(0,NA) + ggtitle(possible_a[i]) + NoLegend()\n",
    "    plot_list[[i]]  <- p\n",
    "           \n",
    "}"
   ]
  },
  {
   "cell_type": "code",
   "execution_count": null,
   "id": "06a3f8f5",
   "metadata": {
    "scrolled": true
   },
   "outputs": [],
   "source": [
    "options(repr.plot.width = 16, repr.plot.height = 3)\n",
    "cowplot::plot_grid(plotlist = plot_list, ncol = length(possible_a))"
   ]
  },
  {
   "cell_type": "markdown",
   "id": "076736a7",
   "metadata": {},
   "source": [
    "### B"
   ]
  },
  {
   "cell_type": "code",
   "execution_count": null,
   "id": "7da2f287",
   "metadata": {
    "scrolled": true
   },
   "outputs": [],
   "source": [
    "plot_list  <- list()\n",
    "for(i in 1:length(possible_b)){\n",
    "  \n",
    "options(repr.plot.width = 5, repr.plot.height = 4)\n",
    "\n",
    "df2  <-   count_all4  %>% filter(gene == \"BTN3A2\")  %>% \n",
    "    mutate(haplotype = ifelse((B1 == possible_b[i] & B2 == possible_b[i]), \n",
    "                             paste(\"Hom\"), \n",
    "                       ifelse(B1 == possible_b[i] | B2 == possible_b[i], \n",
    "                             paste(\"Het\"),\n",
    "                                  \"Other\")))\n",
    "p  <- df2   %>% group_by(Patient_ID, Disease, haplotype, CellType)  %>% \n",
    "    summarise(expression = mean(value, na.rm = T))  %>%     \n",
    "ggplot(aes(x = haplotype,\n",
    "             y = expression)) +\n",
    "   geom_dotplot(binaxis='y', stackdir='center', dotsize = 0) + \n",
    "   geom_boxplot(outlier.shape = NA) +\n",
    "    geom_jitter(binaxis='y', position=position_jitter(width = 0.1, height = 0.01), \n",
    "                size = 2, stackdir='center', aes(color = Disease, shape = CellType)) + \n",
    "    facet_wrap(~Disease) +\n",
    "  theme_classic() + xlab(\"\") +  \n",
    " xlab(\"\") + ylab(\"Value\") +\n",
    "   scale_y_continuous(expand = expansion(mult = c(0, 0.1))) +\n",
    "     scale_color_manual(values = c(\"dodgerblue\", \"indianred3\")) +\n",
    "  ggpubr::stat_compare_means(label.x = 1.2, label.y.npc = \"top\", size = 3.5, vjust = 0.3, label = \"p.format\") + \n",
    "      theme(plot.title = element_text(hjust = 0.5, size = 18),\n",
    "          axis.line = element_line(colour = \"black\"), \n",
    "            axis.text.x = element_text(angle = 90),\n",
    "        axis.ticks = element_line(colour = \"black\")) +\n",
    "  ylim(0,NA) + ggtitle(possible_b[i]) + NoLegend()\n",
    "    plot_list[[i]]  <- p\n",
    "           \n",
    "}"
   ]
  },
  {
   "cell_type": "code",
   "execution_count": null,
   "id": "f0ce7fd3",
   "metadata": {
    "scrolled": true
   },
   "outputs": [],
   "source": [
    "options(repr.plot.width = 16, repr.plot.height = 6)\n",
    "cowplot::plot_grid(plotlist = plot_list, ncol = 8)"
   ]
  },
  {
   "cell_type": "markdown",
   "id": "d3d6857a",
   "metadata": {},
   "source": [
    "### C\n"
   ]
  },
  {
   "cell_type": "code",
   "execution_count": null,
   "id": "fe9fdd13",
   "metadata": {
    "scrolled": true
   },
   "outputs": [],
   "source": [
    "plot_list  <- list()\n",
    "for(i in 1:length(possible_c)){\n",
    "  \n",
    "options(repr.plot.width = 5, repr.plot.height = 4)\n",
    "\n",
    "df2  <-   count_all4  %>% filter(gene == \"BTN3A2\")  %>% \n",
    "    mutate(haplotype = ifelse((C1 == possible_c[i] & C2 == possible_c[i]), \n",
    "                             paste(\"Hom\"), \n",
    "                       ifelse(C1 == possible_c[i] | C2 == possible_c[i], \n",
    "                             paste(\"Het\"),\n",
    "                                  \"Other\")))\n",
    "p  <- df2   %>% group_by(Patient_ID, Disease, haplotype, CellType)  %>% \n",
    "    summarise(expression = mean(value, na.rm = T))  %>%     \n",
    "ggplot(aes(x = haplotype,\n",
    "             y = expression)) +\n",
    "   geom_dotplot(binaxis='y', stackdir='center', dotsize = 0) + \n",
    "   geom_boxplot(outlier.shape = NA) +\n",
    "    geom_jitter(binaxis='y', position=position_jitter(width = 0.1, height = 0.01), \n",
    "                size = 2, stackdir='center', aes(color = Disease, shape = CellType)) + \n",
    "    facet_wrap(~Disease) +\n",
    "  theme_classic() + xlab(\"\") +  \n",
    " xlab(\"\") + ylab(\"Value\") +\n",
    "   scale_y_continuous(expand = expansion(mult = c(0, 0.1))) +\n",
    "     scale_color_manual(values = c(\"dodgerblue\", \"indianred3\")) +\n",
    "  ggpubr::stat_compare_means(label.x = 1.2, label.y.npc = \"top\", size = 3.5, vjust = 0.3, label = \"p.format\") + \n",
    "      theme(plot.title = element_text(hjust = 0.5, size = 18),\n",
    "          axis.line = element_line(colour = \"black\"), \n",
    "            axis.text.x = element_text(angle = 90),\n",
    "        axis.ticks = element_line(colour = \"black\")) +\n",
    "  ylim(0,NA) + ggtitle(possible_c[i]) + NoLegend()\n",
    "    plot_list[[i]]  <- p\n",
    "           \n",
    "}"
   ]
  },
  {
   "cell_type": "code",
   "execution_count": null,
   "id": "1f52dd9a",
   "metadata": {
    "scrolled": true
   },
   "outputs": [],
   "source": [
    "options(repr.plot.width = 16, repr.plot.height = 6)\n",
    "cowplot::plot_grid(plotlist = plot_list, ncol = 8)"
   ]
  },
  {
   "cell_type": "markdown",
   "id": "84e116b9",
   "metadata": {},
   "source": [
    "### DQA"
   ]
  },
  {
   "cell_type": "code",
   "execution_count": null,
   "id": "997e9939",
   "metadata": {},
   "outputs": [],
   "source": [
    "count_all4  %>% colnames"
   ]
  },
  {
   "cell_type": "code",
   "execution_count": null,
   "id": "9555872d",
   "metadata": {},
   "outputs": [],
   "source": [
    "plot_list  <- list()\n",
    "for(i in 1:length(possible_dqa)){\n",
    "  \n",
    "options(repr.plot.width = 5, repr.plot.height = 4)\n",
    "\n",
    "df2  <-   count_all4  %>% filter(gene == \"BTN3A2\")  %>% \n",
    "    mutate(haplotype = ifelse((DQA11 == possible_dqa[i] & DQA12 == possible_dqa[i]), \n",
    "                             paste(\"Hom\"), \n",
    "                       ifelse(DQA11 == possible_dqa[i] | DQA12 == possible_dqa[i], \n",
    "                             paste(\"Het\"),\n",
    "                                  \"Other\")))\n",
    "p  <- df2   %>% group_by(Patient_ID, Disease, haplotype, CellType)  %>% \n",
    "    summarise(expression = mean(value, na.rm = T))  %>%     \n",
    "ggplot(aes(x = haplotype,\n",
    "             y = expression)) +\n",
    "   geom_dotplot(binaxis='y', stackdir='center', dotsize = 0) + \n",
    "   geom_boxplot(outlier.shape = NA) +\n",
    "    geom_jitter(binaxis='y', position=position_jitter(width = 0.1, height = 0.01), \n",
    "                size = 2, stackdir='center', aes(color = Disease, shape = CellType)) + \n",
    "    facet_wrap(~Disease) +\n",
    "  theme_classic() + xlab(\"\") +  \n",
    " xlab(\"\") + ylab(\"Value\") +\n",
    "   scale_y_continuous(expand = expansion(mult = c(0, 0.1))) +\n",
    "     scale_color_manual(values = c(\"dodgerblue\", \"indianred3\")) +\n",
    "  ggpubr::stat_compare_means(label.x = 1.2, label.y.npc = \"top\", size = 3.5, vjust = 0.3, label = \"p.format\") + \n",
    "      theme(plot.title = element_text(hjust = 0.5, size = 18),\n",
    "          axis.line = element_line(colour = \"black\"), \n",
    "            axis.text.x = element_text(angle = 90),\n",
    "        axis.ticks = element_line(colour = \"black\")) +\n",
    "  ylim(0,NA) + ggtitle(possible_dqa[i]) + NoLegend()\n",
    "    plot_list[[i]]  <- p\n",
    "           \n",
    "}"
   ]
  },
  {
   "cell_type": "code",
   "execution_count": null,
   "id": "876de548",
   "metadata": {},
   "outputs": [],
   "source": [
    "options(repr.plot.width = 16, repr.plot.height = 3)\n",
    "cowplot::plot_grid(plotlist = plot_list, ncol = 8)"
   ]
  },
  {
   "cell_type": "code",
   "execution_count": null,
   "id": "fa67b705",
   "metadata": {
    "scrolled": true
   },
   "outputs": [],
   "source": [
    "plot_list  <- list()\n",
    "for(i in 1:length(possible_dqb)){\n",
    "  \n",
    "options(repr.plot.width = 5, repr.plot.height = 4)\n",
    "\n",
    "df2  <-   count_all4  %>% filter(gene == \"BTN3A2\")  %>% \n",
    "    mutate(haplotype = ifelse((DQB11 == possible_dqb[i] & DQB12 == possible_dqb[i]), \n",
    "                             paste(\"Hom\"), \n",
    "                       ifelse(DQB11 == possible_dqb[i] | DQB12 == possible_dqb[i], \n",
    "                             paste(\"Het\"),\n",
    "                                  \"Other\")))\n",
    "p  <- df2   %>% group_by(Patient_ID, Disease, haplotype, CellType)  %>% \n",
    "    summarise(expression = mean(value, na.rm = T))  %>%     \n",
    "ggplot(aes(x = haplotype,\n",
    "             y = expression)) +\n",
    "   geom_dotplot(binaxis='y', stackdir='center', dotsize = 0) + \n",
    "   geom_boxplot(outlier.shape = NA) +\n",
    "    geom_jitter(binaxis='y', position=position_jitter(width = 0.1, height = 0.01), \n",
    "                size = 2, stackdir='center', aes(color = Disease, shape = CellType)) + \n",
    "    facet_wrap(~Disease) +\n",
    "  theme_classic() + xlab(\"\") +  \n",
    " xlab(\"\") + ylab(\"Value\") +\n",
    "   scale_y_continuous(expand = expansion(mult = c(0, 0.1))) +\n",
    "     scale_color_manual(values = c(\"dodgerblue\", \"indianred3\")) +\n",
    "  ggpubr::stat_compare_means(label.x = 1.2, label.y.npc = \"top\", size = 3.5, vjust = 0.3, label = \"p.format\") + \n",
    "      theme(plot.title = element_text(hjust = 0.5, size = 18),\n",
    "          axis.line = element_line(colour = \"black\"), \n",
    "            axis.text.x = element_text(angle = 90),\n",
    "        axis.ticks = element_line(colour = \"black\")) +\n",
    "  ylim(0,NA) + ggtitle(possible_dqb[i]) + NoLegend()\n",
    "    plot_list[[i]]  <- p\n",
    "           \n",
    "}"
   ]
  },
  {
   "cell_type": "code",
   "execution_count": null,
   "id": "5c7852e3",
   "metadata": {
    "scrolled": true
   },
   "outputs": [],
   "source": [
    "options(repr.plot.width = 16, repr.plot.height = 3)\n",
    "cowplot::plot_grid(plotlist = plot_list, ncol = 8)"
   ]
  },
  {
   "cell_type": "code",
   "execution_count": null,
   "id": "c773f590",
   "metadata": {},
   "outputs": [],
   "source": []
  },
  {
   "cell_type": "code",
   "execution_count": null,
   "id": "a21bef56",
   "metadata": {},
   "outputs": [],
   "source": []
  },
  {
   "cell_type": "code",
   "execution_count": null,
   "id": "e9abb2ff",
   "metadata": {
    "scrolled": true
   },
   "outputs": [],
   "source": [
    "plot_list  <- list()\n",
    "for(i in 1:length(possible_drb)){\n",
    "  \n",
    "options(repr.plot.width = 5, repr.plot.height = 4)\n",
    "\n",
    "df2  <-   count_all4  %>% filter(gene == \"BTN3A2\")  %>% \n",
    "    mutate(haplotype = ifelse((DRB11 == possible_drb[i] & DRB12 == possible_drb[i]), \n",
    "                             paste(\"Hom\"), \n",
    "                       ifelse(DRB11 == possible_drb[i] | DRB12 == possible_drb[i], \n",
    "                             paste(\"Het\"),\n",
    "                                  \"Other\")))\n",
    "p  <- df2   %>% group_by(Patient_ID, Disease, haplotype, CellType)  %>% \n",
    "    summarise(expression = mean(value, na.rm = T))  %>%     \n",
    "ggplot(aes(x = haplotype,\n",
    "             y = expression)) +\n",
    "   geom_dotplot(binaxis='y', stackdir='center', dotsize = 0) + \n",
    "   geom_boxplot(outlier.shape = NA) +\n",
    "    geom_jitter(binaxis='y', position=position_jitter(width = 0.1, height = 0.01), \n",
    "                size = 2, stackdir='center', aes(color = Disease, shape = CellType)) + \n",
    "    facet_wrap(~Disease) +\n",
    "  theme_classic() + xlab(\"\") +  \n",
    " xlab(\"\") + ylab(\"Value\") +\n",
    "   scale_y_continuous(expand = expansion(mult = c(0, 0.1))) +\n",
    "     scale_color_manual(values = c(\"dodgerblue\", \"indianred3\")) +\n",
    "  ggpubr::stat_compare_means(label.x = 1.2, label.y.npc = \"top\", size = 3.5, vjust = 0.3, label = \"p.format\") + \n",
    "      theme(plot.title = element_text(hjust = 0.5, size = 18),\n",
    "          axis.line = element_line(colour = \"black\"), \n",
    "            axis.text.x = element_text(angle = 90),\n",
    "        axis.ticks = element_line(colour = \"black\")) +\n",
    "  ylim(0,NA) + ggtitle(possible_drb[i]) + NoLegend()\n",
    "    plot_list[[i]]  <- p\n",
    "           \n",
    "}"
   ]
  },
  {
   "cell_type": "code",
   "execution_count": null,
   "id": "21cbc874",
   "metadata": {},
   "outputs": [],
   "source": [
    "options(repr.plot.width = 18, repr.plot.height = 3)\n",
    "cowplot::plot_grid(plotlist = plot_list, ncol = 9)"
   ]
  },
  {
   "cell_type": "code",
   "execution_count": null,
   "id": "15fae13b",
   "metadata": {},
   "outputs": [],
   "source": []
  },
  {
   "cell_type": "code",
   "execution_count": null,
   "id": "94648a53",
   "metadata": {},
   "outputs": [],
   "source": [
    "#write.csv(counts_all3, \"table_shiny_41BB_2.csv\")\n",
    "\n",
    "\n",
    "plot_bulk <- function(gene2){\n",
    "    options(repr.plot.width = 5, repr.plot.height = 4)\n",
    "\n",
    "    df <- kallionpaa_bulk %>% dplyr::filter(gene == gene2)\n",
    " p  <-  df %>% mutate(CellType_Disease = paste(CellType, Disease))  %>% \n",
    "    ggplot(aes(x = CellType_Disease, y = value)) + \n",
    "geom_boxplot(outlier.shape = NA, aes(color = Disease)) +\n",
    " geom_dotplot(binaxis='y', stackdir='center', dotsize=0) + \n",
    "    geom_jitter(shape=16, position=position_jitter(0.05), aes(colour = Disease)) \n",
    "    return(p)\n",
    "  }\n",
    "\n",
    "\n",
    "plot_bulk2 <- function(gene2){\n",
    "    options(repr.plot.width = 7, repr.plot.height = 4)\n",
    "    df <- kallionpaa_bulk %>% dplyr::filter(gene == gene2)\n",
    " p  <-  df %>% mutate(CellType_Disease = paste(CellType, Disease))  %>% \n",
    "    ggplot(aes(x = dq2_8, y = value)) + \n",
    "geom_boxplot(outlier.shape = NA) +\n",
    " geom_dotplot(binaxis='y', stackdir='center', dotsize=0) + \n",
    "    geom_jitter(shape=16, position=position_jitter(0.05), aes(colour = Disease)) +\n",
    "    facet_wrap(~CellType)\n",
    "    return(p)\n",
    "  }\n",
    "\n",
    "plot_bulk3 <- function(gene2){\n",
    "    options(repr.plot.width = 7, repr.plot.height = 4)\n",
    "    df <- kallionpaa_bulk %>% dplyr::filter(gene == gene2)\n",
    " p  <-  df %>% mutate(CellType_Disease = paste(CellType, Disease))  %>% \n",
    "    ggplot(aes(x = c7_b8, y = value)) + \n",
    "geom_boxplot(outlier.shape = NA) +\n",
    "    ggnewscale::new_scale_colour()+\n",
    " geom_dotplot(binaxis='y', stackdir='center', dotsize=0) + \n",
    "    geom_jitter(shape=16, position=position_jitter(0.1), size = 2, aes(colour = Disease)) +\n",
    "    facet_wrap(~CellType)\n",
    "    return(p)\n",
    "  }"
   ]
  },
  {
   "cell_type": "code",
   "execution_count": null,
   "id": "5e0d7db9",
   "metadata": {},
   "outputs": [],
   "source": [
    "plot_bulk2(\"BTN3A2\")"
   ]
  },
  {
   "cell_type": "code",
   "execution_count": null,
   "id": "beb291e4",
   "metadata": {},
   "outputs": [],
   "source": [
    "plot_bulk(\"BTN3A2\")"
   ]
  },
  {
   "cell_type": "code",
   "execution_count": null,
   "id": "e7115dbd",
   "metadata": {
    "scrolled": true
   },
   "outputs": [],
   "source": [
    "count_all4"
   ]
  },
  {
   "cell_type": "code",
   "execution_count": null,
   "id": "bb354a40",
   "metadata": {},
   "outputs": [],
   "source": [
    "count_all4  %>% colnames"
   ]
  },
  {
   "cell_type": "markdown",
   "id": "4e08c720",
   "metadata": {},
   "source": [
    "### DF for cross study comparison"
   ]
  },
  {
   "cell_type": "code",
   "execution_count": null,
   "id": "44b9c3ed",
   "metadata": {},
   "outputs": [],
   "source": [
    "count_all5  <- count_all4  %>% \n",
    "dplyr::filter(gene == \"BTN3A2\")  %>% \n",
    "dplyr::select(5,7,12:25, value)  %>% \n",
    "group_by(across(c(-value)))  %>% \n",
    "summarise(expression = mean(value))"
   ]
  },
  {
   "cell_type": "code",
   "execution_count": null,
   "id": "97ff1b57",
   "metadata": {
    "scrolled": true
   },
   "outputs": [],
   "source": [
    "count_all5"
   ]
  },
  {
   "cell_type": "code",
   "execution_count": null,
   "id": "51beb61d",
   "metadata": {},
   "outputs": [],
   "source": [
    "count_all5$gene  <- \"BTN3A2\""
   ]
  },
  {
   "cell_type": "code",
   "execution_count": null,
   "id": "d7b3431f",
   "metadata": {},
   "outputs": [],
   "source": [
    "count_all5$expression_scale  <-  2/(max(count_all5$expression)-min(count_all5$expression))*(count_all5$expression-max(count_all5$expression))+1"
   ]
  },
  {
   "cell_type": "code",
   "execution_count": null,
   "id": "1eb169cf",
   "metadata": {
    "scrolled": true
   },
   "outputs": [],
   "source": [
    "max(count_all5$expression_scale)"
   ]
  },
  {
   "cell_type": "code",
   "execution_count": null,
   "id": "fb786934",
   "metadata": {},
   "outputs": [],
   "source": [
    "min(count_all5$expression_scale)"
   ]
  },
  {
   "cell_type": "code",
   "execution_count": null,
   "id": "97a9459a",
   "metadata": {},
   "outputs": [],
   "source": [
    "scale_exp_kallionpaa  <- count_all5"
   ]
  },
  {
   "cell_type": "code",
   "execution_count": null,
   "id": "78ea1497",
   "metadata": {},
   "outputs": [],
   "source": [
    "scale_exp_kallionpaa$study  <- \"Kallionpaa\""
   ]
  },
  {
   "cell_type": "markdown",
   "id": "e721c507",
   "metadata": {},
   "source": [
    "## scRNAseq"
   ]
  },
  {
   "cell_type": "markdown",
   "id": "bbc7686c",
   "metadata": {},
   "source": [
    "# Lab48"
   ]
  },
  {
   "cell_type": "code",
   "execution_count": null,
   "id": "2c3028e1",
   "metadata": {},
   "outputs": [],
   "source": [
    "cd4_full_filt  <- readRDS(\"../data/processed/L1/cd4_l1_full_filt.rds\")\n",
    "cd8_full_filt  <- readRDS(\"../data/processed/L1/cd8_l1_full_filt.rds\")"
   ]
  },
  {
   "cell_type": "code",
   "execution_count": null,
   "id": "ae6bc013",
   "metadata": {},
   "outputs": [],
   "source": [
    "colnames(cd4_full_filt@meta.data)"
   ]
  },
  {
   "cell_type": "code",
   "execution_count": null,
   "id": "98a67fb8",
   "metadata": {},
   "outputs": [],
   "source": [
    "md  <- cd4_full_filt@meta.data  %>% dplyr::select(Patient_ID, starts_with(\"HLA\"), Disease)  %>% unique"
   ]
  },
  {
   "cell_type": "code",
   "execution_count": null,
   "id": "a8e0ce0b",
   "metadata": {},
   "outputs": [],
   "source": [
    "cd4_full_filt$Patient_ID <- paste0(\"g\", cd4_full_filt$Patient_ID)"
   ]
  },
  {
   "cell_type": "code",
   "execution_count": null,
   "id": "5efc2ca2",
   "metadata": {
    "scrolled": true
   },
   "outputs": [],
   "source": [
    "avgexp = AverageExpression(cd4_full_filt, features = c( \"BTN3A2\"),\n",
    "                           return.seurat = F, group.by = \"Patient_ID\", \n",
    "                          assay = \"RNA\")\n",
    "\n",
    "count_all4  <- t(avgexp$RNA)  %>% as.data.frame()  %>% \n",
    "rownames_to_column(\"Patient_ID\")  %>% \n",
    "pivot_longer(!Patient_ID, names_to = \"gene\", values_to = \"expression\")  %>% \n",
    "left_join(md)  %>% unique\n",
    "\n",
    "count_all4"
   ]
  },
  {
   "cell_type": "code",
   "execution_count": null,
   "id": "3ca9e8da",
   "metadata": {},
   "outputs": [],
   "source": [
    "count_all4$gene = \"BTN3A2\""
   ]
  },
  {
   "cell_type": "code",
   "execution_count": null,
   "id": "b5e13236",
   "metadata": {},
   "outputs": [],
   "source": [
    "possible_a  <- unique(c(count_all4$HLA_A1, count_all4$HLA_A2))\n",
    "possible_b <- unique(c(count_all4$HLA_B1, count_all4$HLA_B2))\n",
    "possible_c <- unique(c(count_all4$HLA_C1, count_all4$HLA_C2))\n",
    "possible_dqa <- unique(c(count_all4$HLA_DQA11, count_all4$HLA_DQA12))\n",
    "possible_dqb <- unique(c(count_all4$HLA_DQB11, count_all4$HLA_DQB12))\n",
    "possible_dra <- unique(c(count_all4$HLA_DRA1, count_all4$HLA_DRA2))\n",
    "possible_drb <- unique(c(count_all4$HLA_DRB11, count_all4$HLA_DRB12))"
   ]
  },
  {
   "cell_type": "code",
   "execution_count": null,
   "id": "2450132b",
   "metadata": {},
   "outputs": [],
   "source": [
    "possible_a  <- possible_a[!is.na(possible_a)]\n",
    "possible_b <- possible_b[!is.na(possible_b)]\n",
    "possible_c <- possible_c[!is.na(possible_c)]\n",
    "possible_dqa <- possible_dqa[!is.na(possible_dqa)]\n",
    "possible_dqb <- possible_dqb[!is.na(possible_dqb)]\n",
    "possible_dra <- possible_dra[!is.na(possible_dra)]\n",
    "possible_drb <- possible_drb[!is.na(possible_drb)]"
   ]
  },
  {
   "cell_type": "code",
   "execution_count": null,
   "id": "99d931fe",
   "metadata": {},
   "outputs": [],
   "source": [
    "plot_list  <- list()"
   ]
  },
  {
   "cell_type": "code",
   "execution_count": null,
   "id": "5d6658d5",
   "metadata": {},
   "outputs": [],
   "source": [
    "count_all4$CellType = \"CD4\""
   ]
  },
  {
   "cell_type": "code",
   "execution_count": null,
   "id": "7bef83e6",
   "metadata": {},
   "outputs": [],
   "source": [
    "count_cd4  <- count_all4"
   ]
  },
  {
   "cell_type": "code",
   "execution_count": null,
   "id": "bef2dac8",
   "metadata": {},
   "outputs": [],
   "source": [
    "cd8_full_filt$Patient_ID <- paste0(\"g\", cd8_full_filt$Patient_ID)"
   ]
  },
  {
   "cell_type": "code",
   "execution_count": null,
   "id": "5e9295b3",
   "metadata": {
    "scrolled": true
   },
   "outputs": [],
   "source": [
    "avgexp = AverageExpression(cd8_full_filt, features = c( \"BTN3A2\"),\n",
    "                           return.seurat = F, group.by = \"Patient_ID\", \n",
    "                          assay = \"RNA\")\n",
    "\n",
    "count_all4  <- t(avgexp$RNA)  %>% as.data.frame()  %>% \n",
    "rownames_to_column(\"Patient_ID\")  %>% \n",
    "pivot_longer(!Patient_ID, names_to = \"gene\", values_to = \"expression\")  %>% \n",
    "left_join(md)  %>% unique\n",
    "\n",
    "count_all4"
   ]
  },
  {
   "cell_type": "code",
   "execution_count": null,
   "id": "f255c5fa",
   "metadata": {},
   "outputs": [],
   "source": [
    "count_all4$gene = \"BTN3A2\""
   ]
  },
  {
   "cell_type": "code",
   "execution_count": null,
   "id": "3447034e",
   "metadata": {},
   "outputs": [],
   "source": [
    "possible_a  <- unique(c(count_all4$HLA_A1, count_all4$HLA_A2))\n",
    "possible_b <- unique(c(count_all4$HLA_B1, count_all4$HLA_B2))\n",
    "possible_c <- unique(c(count_all4$HLA_C1, count_all4$HLA_C2))\n",
    "possible_dqa <- unique(c(count_all4$HLA_DQA11, count_all4$HLA_DQA12))\n",
    "possible_dqb <- unique(c(count_all4$HLA_DQB11, count_all4$HLA_DQB12))\n",
    "possible_dra <- unique(c(count_all4$HLA_DRA1, count_all4$HLA_DRA2))\n",
    "possible_drb <- unique(c(count_all4$HLA_DRB11, count_all4$HLA_DRB12))"
   ]
  },
  {
   "cell_type": "code",
   "execution_count": null,
   "id": "33665379",
   "metadata": {},
   "outputs": [],
   "source": [
    "count_all4$CellType  <- \"CD8\""
   ]
  },
  {
   "cell_type": "code",
   "execution_count": null,
   "id": "892e0e01",
   "metadata": {},
   "outputs": [],
   "source": [
    "count_all4  <- rbind(count_all4, count_cd4)"
   ]
  },
  {
   "cell_type": "code",
   "execution_count": null,
   "id": "7c0b2217",
   "metadata": {
    "scrolled": true
   },
   "outputs": [],
   "source": [
    "count_all4"
   ]
  },
  {
   "cell_type": "code",
   "execution_count": null,
   "id": "3b501cc6",
   "metadata": {},
   "outputs": [],
   "source": [
    "colnames(count_all4)  <- gsub(colnames(count_all4), pattern = \"HLA_\", replacement = \"\")"
   ]
  },
  {
   "cell_type": "markdown",
   "id": "29d557d5",
   "metadata": {},
   "source": [
    "### A"
   ]
  },
  {
   "cell_type": "code",
   "execution_count": null,
   "id": "15431c92",
   "metadata": {},
   "outputs": [],
   "source": [
    "plot_list  <- list()"
   ]
  },
  {
   "cell_type": "code",
   "execution_count": null,
   "id": "f7796cd2",
   "metadata": {
    "scrolled": true
   },
   "outputs": [],
   "source": [
    "for(i in 1:length(possible_a)){\n",
    "  \n",
    "options(repr.plot.width = 5, repr.plot.height = 4)\n",
    "\n",
    "df2  <-   count_all4  %>% filter(gene == \"BTN3A2\")  %>% \n",
    "    mutate(haplotype = ifelse((A1 == possible_a[i] & A2 == possible_a[i]), \n",
    "                             paste(\"Hom\"), \n",
    "                       ifelse(A1 == possible_a[i] | A2 == possible_a[i], \n",
    "                             paste(\"Het\"),\n",
    "                                  \"Other\")))\n",
    "p  <- df2   %>%\n",
    "ggplot(aes(x = haplotype,\n",
    "             y = expression)) +\n",
    "   geom_dotplot(binaxis='y', stackdir='center', dotsize = 0) + \n",
    "   geom_boxplot(outlier.shape = NA) +\n",
    "    geom_jitter(binaxis='y', position=position_jitter(width = 0.1, height = 0.01), \n",
    "                size = 2, stackdir='center', aes(color = Disease, shape = CellType)) + \n",
    "    facet_wrap(~Disease) +\n",
    "  theme_classic() + xlab(\"\") +  \n",
    " xlab(\"\") + ylab(\"Value\") +\n",
    "   scale_y_continuous(expand = expansion(mult = c(0, 0.1))) +\n",
    "     scale_color_manual(values = c(\"dodgerblue\", \"indianred3\")) +\n",
    "  ggpubr::stat_compare_means(label.x = 1.2, label.y.npc = \"top\", size = 3.5, vjust = 0.3, label = \"p.format\") + \n",
    "      theme(plot.title = element_text(hjust = 0.5, size = 18),\n",
    "          axis.line = element_line(colour = \"black\"), \n",
    "            axis.text.x = element_text(angle = 90),\n",
    "        axis.ticks = element_line(colour = \"black\")) +\n",
    "  ylim(0,NA) + ggtitle(possible_a[i]) + NoLegend()\n",
    "    plot_list[[i]]  <- p\n",
    "           \n",
    "}"
   ]
  },
  {
   "cell_type": "code",
   "execution_count": null,
   "id": "72e48f48",
   "metadata": {
    "scrolled": true
   },
   "outputs": [],
   "source": [
    "options(repr.plot.width = 16, repr.plot.height = 6)\n",
    "cowplot::plot_grid(plotlist = plot_list, ncol = (length(possible_a)/2))"
   ]
  },
  {
   "cell_type": "markdown",
   "id": "2987a4c4",
   "metadata": {},
   "source": [
    "### B"
   ]
  },
  {
   "cell_type": "code",
   "execution_count": null,
   "id": "af0ba462",
   "metadata": {
    "scrolled": true
   },
   "outputs": [],
   "source": [
    "plot_list  <- list()\n",
    "for(i in 1:length(possible_b)){\n",
    "  \n",
    "options(repr.plot.width = 5, repr.plot.height = 4)\n",
    "\n",
    "df2  <-   count_all4  %>% filter(gene == \"BTN3A2\")  %>% \n",
    "    mutate(haplotype = ifelse((B1 == possible_b[i] & B2 == possible_b[i]), \n",
    "                             paste(\"Hom\"), \n",
    "                       ifelse(B1 == possible_b[i] | B2 == possible_b[i], \n",
    "                             paste(\"Het\"),\n",
    "                                  \"Other\")))\n",
    "p  <- df2  %>%     \n",
    "ggplot(aes(x = haplotype,\n",
    "             y = expression)) +\n",
    "   geom_dotplot(binaxis='y', stackdir='center', dotsize = 0) + \n",
    "   geom_boxplot(outlier.shape = NA) +\n",
    "    geom_jitter(binaxis='y', position=position_jitter(width = 0.1, height = 0.01), \n",
    "                size = 2, stackdir='center', aes(color = Disease, shape = CellType)) + \n",
    "    facet_wrap(~Disease) +\n",
    "  theme_classic() + xlab(\"\") +  \n",
    " xlab(\"\") + ylab(\"Value\") +\n",
    "   scale_y_continuous(expand = expansion(mult = c(0, 0.1))) +\n",
    "     scale_color_manual(values = c(\"dodgerblue\", \"indianred3\")) +\n",
    "  ggpubr::stat_compare_means(label.x = 1.2, label.y.npc = \"top\", size = 3.5, vjust = 0.3, label = \"p.format\") + \n",
    "      theme(plot.title = element_text(hjust = 0.5, size = 18),\n",
    "          axis.line = element_line(colour = \"black\"), \n",
    "            axis.text.x = element_text(angle = 90),\n",
    "        axis.ticks = element_line(colour = \"black\")) +\n",
    "  ylim(0,NA) + ggtitle(possible_b[i]) + NoLegend()\n",
    "    plot_list[[i]]  <- p\n",
    "           \n",
    "}"
   ]
  },
  {
   "cell_type": "code",
   "execution_count": null,
   "id": "a66c0032",
   "metadata": {
    "scrolled": true
   },
   "outputs": [],
   "source": [
    "options(repr.plot.width = 16, repr.plot.height = 12)\n",
    "cowplot::plot_grid(plotlist = plot_list, ncol = 8)"
   ]
  },
  {
   "cell_type": "markdown",
   "id": "318093d5",
   "metadata": {},
   "source": [
    "### C\n"
   ]
  },
  {
   "cell_type": "code",
   "execution_count": null,
   "id": "95c76bde",
   "metadata": {
    "scrolled": true
   },
   "outputs": [],
   "source": [
    "plot_list  <- list()\n",
    "for(i in 1:length(possible_c)){\n",
    "  \n",
    "options(repr.plot.width = 5, repr.plot.height = 4)\n",
    "\n",
    "df2  <-   count_all4  %>% filter(gene == \"BTN3A2\")  %>% \n",
    "    mutate(haplotype = ifelse((C1 == possible_c[i] & C2 == possible_c[i]), \n",
    "                             paste(\"Hom\"), \n",
    "                       ifelse(C1 == possible_c[i] | C2 == possible_c[i], \n",
    "                             paste(\"Het\"),\n",
    "                                  \"Other\")))\n",
    "p  <- df2    %>%     \n",
    "ggplot(aes(x = haplotype,\n",
    "             y = expression)) +\n",
    "   geom_dotplot(binaxis='y', stackdir='center', dotsize = 0) + \n",
    "   geom_boxplot(outlier.shape = NA) +\n",
    "    geom_jitter(binaxis='y', position=position_jitter(width = 0.1, height = 0.01), \n",
    "                size = 2, stackdir='center', aes(color = Disease, shape = CellType)) + \n",
    "    facet_wrap(~Disease) +\n",
    "  theme_classic() + xlab(\"\") +  \n",
    " xlab(\"\") + ylab(\"Value\") +\n",
    "   scale_y_continuous(expand = expansion(mult = c(0, 0.1))) +\n",
    "     scale_color_manual(values = c(\"dodgerblue\", \"indianred3\")) +\n",
    "  ggpubr::stat_compare_means(label.x = 1.2, label.y.npc = \"top\", size = 3.5, vjust = 0.3, label = \"p.format\") + \n",
    "      theme(plot.title = element_text(hjust = 0.5, size = 18),\n",
    "          axis.line = element_line(colour = \"black\"), \n",
    "            axis.text.x = element_text(angle = 90),\n",
    "        axis.ticks = element_line(colour = \"black\")) +\n",
    "  ylim(0,NA) + ggtitle(possible_c[i]) + NoLegend()\n",
    "    plot_list[[i]]  <- p\n",
    "           \n",
    "}"
   ]
  },
  {
   "cell_type": "code",
   "execution_count": null,
   "id": "c2029360",
   "metadata": {
    "scrolled": true
   },
   "outputs": [],
   "source": [
    "options(repr.plot.width = 16, repr.plot.height = 9)\n",
    "cowplot::plot_grid(plotlist = plot_list, ncol = 8)"
   ]
  },
  {
   "cell_type": "markdown",
   "id": "ae41986f",
   "metadata": {},
   "source": [
    "### DQA"
   ]
  },
  {
   "cell_type": "code",
   "execution_count": null,
   "id": "470443d0",
   "metadata": {},
   "outputs": [],
   "source": [
    "count_all4  %>% colnames"
   ]
  },
  {
   "cell_type": "code",
   "execution_count": null,
   "id": "b0164968",
   "metadata": {
    "scrolled": true
   },
   "outputs": [],
   "source": [
    "plot_list  <- list()\n",
    "for(i in 1:length(possible_dqa)){\n",
    "  \n",
    "options(repr.plot.width = 5, repr.plot.height = 4)\n",
    "\n",
    "df2  <-   count_all4  %>% filter(gene == \"BTN3A2\")  %>% \n",
    "    mutate(haplotype = ifelse((DQA11 == possible_dqa[i] & DQA12 == possible_dqa[i]), \n",
    "                             paste(\"Hom\"), \n",
    "                       ifelse(DQA11 == possible_dqa[i] | DQA12 == possible_dqa[i], \n",
    "                             paste(\"Het\"),\n",
    "                                  \"Other\")))\n",
    "p  <- df2  %>%     \n",
    "ggplot(aes(x = haplotype,\n",
    "             y = expression)) +\n",
    "   geom_dotplot(binaxis='y', stackdir='center', dotsize = 0) + \n",
    "   geom_boxplot(outlier.shape = NA) +\n",
    "    geom_jitter(binaxis='y', position=position_jitter(width = 0.1, height = 0.01), \n",
    "                size = 2, stackdir='center', aes(color = Disease, shape = CellType)) + \n",
    "    facet_wrap(~Disease) +\n",
    "  theme_classic() + xlab(\"\") +  \n",
    " xlab(\"\") + ylab(\"Value\") +\n",
    "   scale_y_continuous(expand = expansion(mult = c(0, 0.1))) +\n",
    "     scale_color_manual(values = c(\"dodgerblue\", \"indianred3\")) +\n",
    "  ggpubr::stat_compare_means(label.x = 1.2, label.y.npc = \"top\", size = 3.5, vjust = 0.3, label = \"p.format\") + \n",
    "      theme(plot.title = element_text(hjust = 0.5, size = 18),\n",
    "          axis.line = element_line(colour = \"black\"), \n",
    "            axis.text.x = element_text(angle = 90),\n",
    "        axis.ticks = element_line(colour = \"black\")) +\n",
    "  ylim(0,NA) + ggtitle(possible_dqa[i]) + NoLegend()\n",
    "    plot_list[[i]]  <- p\n",
    "           \n",
    "}"
   ]
  },
  {
   "cell_type": "code",
   "execution_count": null,
   "id": "9a7b9270",
   "metadata": {},
   "outputs": [],
   "source": [
    "options(repr.plot.width = 16, repr.plot.height = 6)\n",
    "cowplot::plot_grid(plotlist = plot_list, ncol = 8)"
   ]
  },
  {
   "cell_type": "code",
   "execution_count": null,
   "id": "c0485e38",
   "metadata": {
    "scrolled": true
   },
   "outputs": [],
   "source": [
    "plot_list  <- list()\n",
    "for(i in 1:length(possible_dqb)){\n",
    "  \n",
    "options(repr.plot.width = 5, repr.plot.height = 4)\n",
    "\n",
    "df2  <-   count_all4  %>% filter(gene == \"BTN3A2\")  %>% \n",
    "    mutate(haplotype = ifelse((DQB11 == possible_dqb[i] & DQB12 == possible_dqb[i]), \n",
    "                             paste(\"Hom\"), \n",
    "                       ifelse(DQB11 == possible_dqb[i] | DQB12 == possible_dqb[i], \n",
    "                             paste(\"Het\"),\n",
    "                                  \"Other\")))\n",
    "p  <- df2   %>% group_by(Patient_ID, Disease, haplotype, CellType)  %>% \n",
    "    summarise(expression = mean(value, na.rm = T))  %>%     \n",
    "ggplot(aes(x = haplotype,\n",
    "             y = expression)) +\n",
    "   geom_dotplot(binaxis='y', stackdir='center', dotsize = 0) + \n",
    "   geom_boxplot(outlier.shape = NA) +\n",
    "    geom_jitter(binaxis='y', position=position_jitter(width = 0.1, height = 0.01), \n",
    "                size = 2, stackdir='center', aes(color = Disease, shape = CellType)) + \n",
    "    facet_wrap(~Disease) +\n",
    "  theme_classic() + xlab(\"\") +  \n",
    " xlab(\"\") + ylab(\"Value\") +\n",
    "   scale_y_continuous(expand = expansion(mult = c(0, 0.1))) +\n",
    "     scale_color_manual(values = c(\"dodgerblue\", \"indianred3\")) +\n",
    "  ggpubr::stat_compare_means(label.x = 1.2, label.y.npc = \"top\", size = 3.5, vjust = 0.3, label = \"p.format\") + \n",
    "      theme(plot.title = element_text(hjust = 0.5, size = 18),\n",
    "          axis.line = element_line(colour = \"black\"), \n",
    "            axis.text.x = element_text(angle = 90),\n",
    "        axis.ticks = element_line(colour = \"black\")) +\n",
    "  ylim(0,NA) + ggtitle(possible_dqb[i]) + NoLegend()\n",
    "    plot_list[[i]]  <- p\n",
    "           \n",
    "}"
   ]
  },
  {
   "cell_type": "code",
   "execution_count": null,
   "id": "91cf8466",
   "metadata": {
    "scrolled": true
   },
   "outputs": [],
   "source": [
    "options(repr.plot.width = 16, repr.plot.height = 3)\n",
    "cowplot::plot_grid(plotlist = plot_list, ncol = 8)"
   ]
  },
  {
   "cell_type": "code",
   "execution_count": null,
   "id": "da83d8b7",
   "metadata": {},
   "outputs": [],
   "source": []
  },
  {
   "cell_type": "code",
   "execution_count": null,
   "id": "fad0aa38",
   "metadata": {},
   "outputs": [],
   "source": []
  },
  {
   "cell_type": "code",
   "execution_count": null,
   "id": "c5c95770",
   "metadata": {
    "scrolled": true
   },
   "outputs": [],
   "source": [
    "plot_list  <- list()\n",
    "for(i in 1:length(possible_drb)){\n",
    "  \n",
    "options(repr.plot.width = 5, repr.plot.height = 4)\n",
    "\n",
    "df2  <-   count_all4  %>% filter(gene == \"BTN3A2\")  %>% \n",
    "    mutate(haplotype = ifelse((DRB11 == possible_drb[i] & DRB12 == possible_drb[i]), \n",
    "                             paste(\"Hom\"), \n",
    "                       ifelse(DRB11 == possible_drb[i] | DRB12 == possible_drb[i], \n",
    "                             paste(\"Het\"),\n",
    "                                  \"Other\")))\n",
    "p  <- df2   %>% group_by(Patient_ID, Disease, haplotype, CellType)  %>% \n",
    "    summarise(expression = mean(value, na.rm = T))  %>%     \n",
    "ggplot(aes(x = haplotype,\n",
    "             y = expression)) +\n",
    "   geom_dotplot(binaxis='y', stackdir='center', dotsize = 0) + \n",
    "   geom_boxplot(outlier.shape = NA) +\n",
    "    geom_jitter(binaxis='y', position=position_jitter(width = 0.1, height = 0.01), \n",
    "                size = 2, stackdir='center', aes(color = Disease, shape = CellType)) + \n",
    "    facet_wrap(~Disease) +\n",
    "  theme_classic() + xlab(\"\") +  \n",
    " xlab(\"\") + ylab(\"Value\") +\n",
    "   scale_y_continuous(expand = expansion(mult = c(0, 0.1))) +\n",
    "     scale_color_manual(values = c(\"dodgerblue\", \"indianred3\")) +\n",
    "  ggpubr::stat_compare_means(label.x = 1.2, label.y.npc = \"top\", size = 3.5, vjust = 0.3, label = \"p.format\") + \n",
    "      theme(plot.title = element_text(hjust = 0.5, size = 18),\n",
    "          axis.line = element_line(colour = \"black\"), \n",
    "            axis.text.x = element_text(angle = 90),\n",
    "        axis.ticks = element_line(colour = \"black\")) +\n",
    "  ylim(0,NA) + ggtitle(possible_drb[i]) + NoLegend()\n",
    "    plot_list[[i]]  <- p\n",
    "           \n",
    "}"
   ]
  },
  {
   "cell_type": "code",
   "execution_count": null,
   "id": "619c74a0",
   "metadata": {},
   "outputs": [],
   "source": []
  },
  {
   "cell_type": "code",
   "execution_count": null,
   "id": "100c2666",
   "metadata": {},
   "outputs": [],
   "source": [
    "options(repr.plot.width = 18, repr.plot.height = 3)\n",
    "cowplot::plot_grid(plotlist = plot_list, ncol = 9)"
   ]
  },
  {
   "cell_type": "markdown",
   "id": "98389cf4",
   "metadata": {},
   "source": [
    "### DF for cross study comparison"
   ]
  },
  {
   "cell_type": "code",
   "execution_count": null,
   "id": "c29b94c8",
   "metadata": {
    "scrolled": true
   },
   "outputs": [],
   "source": [
    "count_all4"
   ]
  },
  {
   "cell_type": "code",
   "execution_count": null,
   "id": "6dbf669a",
   "metadata": {},
   "outputs": [],
   "source": [
    "count_all5  <- count_all4"
   ]
  },
  {
   "cell_type": "code",
   "execution_count": null,
   "id": "7e310c1b",
   "metadata": {},
   "outputs": [],
   "source": [
    "count_all5$expression_scale  <-  2/(max(count_all5$expression)-min(count_all5$expression))*(count_all5$expression-max(count_all5$expression))+1"
   ]
  },
  {
   "cell_type": "code",
   "execution_count": null,
   "id": "d5e0650b",
   "metadata": {
    "scrolled": true
   },
   "outputs": [],
   "source": [
    "max(count_all5$expression_scale)"
   ]
  },
  {
   "cell_type": "code",
   "execution_count": null,
   "id": "6b920983",
   "metadata": {},
   "outputs": [],
   "source": [
    "min(count_all5$expression_scale)"
   ]
  },
  {
   "cell_type": "code",
   "execution_count": null,
   "id": "e4e5738d",
   "metadata": {},
   "outputs": [],
   "source": [
    "scale_exp_lab48  <- count_all5"
   ]
  },
  {
   "cell_type": "code",
   "execution_count": null,
   "id": "c66b1bb8",
   "metadata": {},
   "outputs": [],
   "source": [
    "scale_exp_lab48$study  <- \"Lab48\""
   ]
  },
  {
   "cell_type": "code",
   "execution_count": null,
   "id": "61eb3220",
   "metadata": {
    "scrolled": true
   },
   "outputs": [],
   "source": [
    "scale_exp_lab48"
   ]
  },
  {
   "cell_type": "markdown",
   "id": "ca5ee243",
   "metadata": {},
   "source": [
    "# HPAP"
   ]
  },
  {
   "cell_type": "code",
   "execution_count": null,
   "id": "daaf39bf",
   "metadata": {},
   "outputs": [],
   "source": [
    "hpap  <- readRDS(\"../data/published_data/HPAP/hpap_5p_t_nk_filt.rds\")"
   ]
  },
  {
   "cell_type": "code",
   "execution_count": null,
   "id": "19050914",
   "metadata": {},
   "outputs": [],
   "source": [
    "DimPlot(hpap, raster = T)"
   ]
  },
  {
   "cell_type": "code",
   "execution_count": null,
   "id": "d566374c",
   "metadata": {},
   "outputs": [],
   "source": [
    "hpap"
   ]
  },
  {
   "cell_type": "code",
   "execution_count": null,
   "id": "46015f10",
   "metadata": {},
   "outputs": [],
   "source": [
    "colnames(hpap@meta.data)"
   ]
  },
  {
   "cell_type": "code",
   "execution_count": null,
   "id": "d48b9609",
   "metadata": {},
   "outputs": [],
   "source": [
    "hpap$source  %>% table"
   ]
  },
  {
   "cell_type": "code",
   "execution_count": null,
   "id": "60fe0885",
   "metadata": {},
   "outputs": [],
   "source": [
    "options(repr.plot.width = 18, repr.plot.height = 9)\n",
    "\n",
    "FeaturePlot(hpap, features = c(\"FOXP3\",\"CD4\",\"CD8A\", \"SELL\"), raster = T)"
   ]
  },
  {
   "cell_type": "code",
   "execution_count": null,
   "id": "36f5efff",
   "metadata": {},
   "outputs": [],
   "source": [
    "md  <- hpap@meta.data  %>% separate(source, into = c(\"Patient_ID\", \"Tissue\",\n",
    "                                                     \"Method\",\"Assay\",\"Run\",\"Well\", NA, NA, NA),\n",
    "                                   remove = F, sep = \"_\")\n",
    "\n"
   ]
  },
  {
   "cell_type": "code",
   "execution_count": null,
   "id": "7da9259f",
   "metadata": {
    "scrolled": true
   },
   "outputs": [],
   "source": [
    "md  %>% tail"
   ]
  },
  {
   "cell_type": "code",
   "execution_count": null,
   "id": "037ea6d0",
   "metadata": {},
   "outputs": [],
   "source": [
    "hpap$Patient_ID  <- md$Patient_ID"
   ]
  },
  {
   "cell_type": "code",
   "execution_count": null,
   "id": "b28bfced",
   "metadata": {},
   "outputs": [],
   "source": []
  },
  {
   "cell_type": "code",
   "execution_count": null,
   "id": "6f316425",
   "metadata": {},
   "outputs": [],
   "source": [
    "avgexp = AverageExpression(hpap, features = c(\"BTN3A2\"),\n",
    "                           return.seurat = F, group.by = \"Patient_ID\", \n",
    "                          assay = \"RNA\")\n",
    "\n",
    "btn_etc  <- t(avgexp$RNA)  %>% as.data.frame()  %>% \n",
    "rownames_to_column(\"Patient_ID\")  %>% \n",
    "pivot_longer(!Patient_ID, names_to = \"gene\", values_to = \"expression\")   %>% unique"
   ]
  },
  {
   "cell_type": "code",
   "execution_count": null,
   "id": "414499d6",
   "metadata": {},
   "outputs": [],
   "source": [
    "btn_etc"
   ]
  },
  {
   "cell_type": "code",
   "execution_count": null,
   "id": "419874a4",
   "metadata": {},
   "outputs": [],
   "source": []
  },
  {
   "cell_type": "code",
   "execution_count": null,
   "id": "cee430b1",
   "metadata": {
    "scrolled": true
   },
   "outputs": [],
   "source": [
    "hla  <- read_delim(\"../data/published_data/HPAP/genotypes.tsv\")\n",
    "\n",
    "hla"
   ]
  },
  {
   "cell_type": "code",
   "execution_count": null,
   "id": "48216986",
   "metadata": {},
   "outputs": [],
   "source": [
    "hla2  <- hla  %>% \n",
    "separate(subject, into = c(\"Patient_ID\"), sep = \"_\", remove = T) "
   ]
  },
  {
   "cell_type": "code",
   "execution_count": null,
   "id": "3497accd",
   "metadata": {
    "scrolled": true
   },
   "outputs": [],
   "source": [
    "hla2"
   ]
  },
  {
   "cell_type": "code",
   "execution_count": null,
   "id": "9da0ca63",
   "metadata": {
    "scrolled": true
   },
   "outputs": [],
   "source": [
    "patient_metadata  <- read_delim(\"../../../DATA_scRNAseq/Analysis of previously published data/069_HPANCDB_Immune_TCRseq/hpap_medatata.csv\")"
   ]
  },
  {
   "cell_type": "code",
   "execution_count": null,
   "id": "ebe3763a",
   "metadata": {},
   "outputs": [],
   "source": [
    "patient_metadata2  <- patient_metadata  %>% dplyr::select(donor_ID, gender, age_years, clinical_diagnosis)  %>% \n",
    "mutate(Patient_ID = gsub(donor_ID, pattern = \"-\", replacement = \"\"))"
   ]
  },
  {
   "cell_type": "code",
   "execution_count": null,
   "id": "daab38d5",
   "metadata": {
    "scrolled": true
   },
   "outputs": [],
   "source": [
    "hla3  <- hla2  %>% left_join(patient_metadata2)"
   ]
  },
  {
   "cell_type": "code",
   "execution_count": null,
   "id": "34534d32",
   "metadata": {},
   "outputs": [],
   "source": [
    "hla3"
   ]
  },
  {
   "cell_type": "code",
   "execution_count": null,
   "id": "d6008c1e",
   "metadata": {
    "scrolled": true
   },
   "outputs": [],
   "source": [
    "count_all4  <- left_join(btn_etc, hla3)"
   ]
  },
  {
   "cell_type": "code",
   "execution_count": null,
   "id": "59343dfd",
   "metadata": {},
   "outputs": [],
   "source": [
    "count_all4$gene  <- \"BTN3A2\""
   ]
  },
  {
   "cell_type": "code",
   "execution_count": null,
   "id": "49d763aa",
   "metadata": {},
   "outputs": [],
   "source": [
    "count_all4  <- count_all4  %>% mutate(Disease = ifelse(grepl(clinical_diagnosis, pattern = \"control\"),\"Ctrl\",\"Dia\"))"
   ]
  },
  {
   "cell_type": "code",
   "execution_count": null,
   "id": "ec0859f1",
   "metadata": {},
   "outputs": [],
   "source": [
    "count_all4"
   ]
  },
  {
   "cell_type": "code",
   "execution_count": null,
   "id": "25364c7b",
   "metadata": {},
   "outputs": [],
   "source": [
    "possible_a  <- unique(c(count_all4$A1, count_all4$A2))\n",
    "possible_b <- unique(c(count_all4$B1, count_all4$B2))\n",
    "possible_c <- unique(c(count_all4$C1, count_all4$C2))\n",
    "possible_dqa <- unique(c(count_all4$DQA11, count_all4$DQA12))\n",
    "possible_dqb <- unique(c(count_all4$DQB11, count_all4$DQB12))\n",
    "possible_dra <- unique(c(count_all4$DRA1, count_all4$DRA2))\n",
    "possible_drb <- unique(c(count_all4$DRB11, count_all4$DRB12))"
   ]
  },
  {
   "cell_type": "code",
   "execution_count": null,
   "id": "5d20a90d",
   "metadata": {},
   "outputs": [],
   "source": [
    "possible_a  <- possible_a[!is.na(possible_a)]\n",
    "possible_b <- possible_b[!is.na(possible_b)]\n",
    "possible_c <- possible_c[!is.na(possible_c)]\n",
    "possible_dqa <- possible_dqa[!is.na(possible_dqa)]\n",
    "possible_dqb <- possible_dqb[!is.na(possible_dqb)]\n",
    "possible_dra <- possible_dra[!is.na(possible_dra)]\n",
    "possible_drb <- possible_drb[!is.na(possible_drb)]"
   ]
  },
  {
   "cell_type": "code",
   "execution_count": null,
   "id": "c0d5ba03",
   "metadata": {},
   "outputs": [],
   "source": [
    "plot_list  <- list()"
   ]
  },
  {
   "cell_type": "code",
   "execution_count": null,
   "id": "a6bfea9b",
   "metadata": {},
   "outputs": [],
   "source": [
    "options(repr.plot.width = 6, repr.plot.height = 5)\n",
    "\n",
    "df2   %>%   \n",
    "ggplot(aes(x = Disease,\n",
    "             y = expression)) +\n",
    "   geom_dotplot(binaxis='y', stackdir='center', dotsize = 0) + \n",
    "   geom_boxplot(outlier.shape = NA) +\n",
    "    geom_jitter(binaxis='y', position=position_jitter(width = 0.1, height = 0.01), \n",
    "                size = 2, stackdir='center', aes(color = Disease)) + \n",
    "  theme_classic() + xlab(\"\") +  \n",
    " xlab(\"\") + ylab(\"Value\") +\n",
    "   scale_y_continuous(expand = expansion(mult = c(0, 0.1))) +\n",
    "     scale_color_manual(values = c(\"dodgerblue\", \"indianred3\")) +\n",
    "  ggpubr::stat_compare_means(label.x = 1.2, label.y.npc = \"top\", size = 3.5, vjust = 0.3, label = \"p.format\") + \n",
    "      theme(plot.title = element_text(hjust = 0.5, size = 18),\n",
    "          axis.line = element_line(colour = \"black\"), \n",
    "            axis.text.x = element_text(angle = 90),\n",
    "        axis.ticks = element_line(colour = \"black\")) +\n",
    "  ylim(0,NA) + ggtitle(possible_a[i])"
   ]
  },
  {
   "cell_type": "markdown",
   "id": "a8029f1c",
   "metadata": {},
   "source": [
    "### A"
   ]
  },
  {
   "cell_type": "code",
   "execution_count": null,
   "id": "d53c3b5e",
   "metadata": {},
   "outputs": [],
   "source": []
  },
  {
   "cell_type": "code",
   "execution_count": null,
   "id": "1a0c2f30",
   "metadata": {
    "scrolled": true
   },
   "outputs": [],
   "source": [
    "for(i in 1:length(possible_a)){\n",
    "  \n",
    "options(repr.plot.width = 5, repr.plot.height = 4)\n",
    "\n",
    "df2  <-   count_all4  %>% filter(gene == \"BTN3A2\")  %>% \n",
    "    mutate(haplotype = ifelse((A1 == possible_a[i] & A2 == possible_a[i]), \n",
    "                             paste(\"Hom\"), \n",
    "                       ifelse(A1 == possible_a[i] | A2 == possible_a[i], \n",
    "                             paste(\"Het\"),\n",
    "                                  \"Other\")))\n",
    "p  <- df2   %>% group_by(Patient_ID, Disease, haplotype)  %>%     \n",
    "ggplot(aes(x = haplotype,\n",
    "             y = expression)) +\n",
    "   geom_dotplot(binaxis='y', stackdir='center', dotsize = 0) + \n",
    "   geom_boxplot(outlier.shape = NA) +\n",
    "    geom_jitter(binaxis='y', position=position_jitter(width = 0.1, height = 0.01), \n",
    "                size = 2, stackdir='center', aes(color = Disease)) + \n",
    "    facet_wrap(~Disease) +\n",
    "  theme_classic() + xlab(\"\") +  \n",
    " xlab(\"\") + ylab(\"Value\") +\n",
    "   scale_y_continuous(expand = expansion(mult = c(0, 0.1))) +\n",
    "     scale_color_manual(values = c(\"dodgerblue\", \"indianred3\")) +\n",
    "  ggpubr::stat_compare_means(label.x = 1.2, label.y.npc = \"top\", size = 3.5, vjust = 0.3, label = \"p.format\") + \n",
    "      theme(plot.title = element_text(hjust = 0.5, size = 18),\n",
    "          axis.line = element_line(colour = \"black\"), \n",
    "            axis.text.x = element_text(angle = 90),\n",
    "        axis.ticks = element_line(colour = \"black\")) +\n",
    "  ylim(0,NA) + ggtitle(possible_a[i]) + NoLegend()\n",
    "    plot_list[[i]]  <- p\n",
    "           \n",
    "}"
   ]
  },
  {
   "cell_type": "code",
   "execution_count": null,
   "id": "e27761d2",
   "metadata": {
    "scrolled": true
   },
   "outputs": [],
   "source": [
    "options(repr.plot.width = 16, repr.plot.height = 6)\n",
    "cowplot::plot_grid(plotlist = plot_list, ncol = length(possible_a)/2)"
   ]
  },
  {
   "cell_type": "markdown",
   "id": "0f9486ef",
   "metadata": {},
   "source": [
    "### B"
   ]
  },
  {
   "cell_type": "code",
   "execution_count": null,
   "id": "1136fbf7",
   "metadata": {
    "scrolled": true
   },
   "outputs": [],
   "source": [
    "plot_list  <- list()\n",
    "for(i in 1:length(possible_b)){\n",
    "  \n",
    "options(repr.plot.width = 5, repr.plot.height = 4)\n",
    "\n",
    "df2  <-   count_all4  %>% filter(gene == \"BTN3A2\")  %>% \n",
    "    mutate(haplotype = ifelse((B1 == possible_b[i] & B2 == possible_b[i]), \n",
    "                             paste(\"Hom\"), \n",
    "                       ifelse(B1 == possible_b[i] | B2 == possible_b[i], \n",
    "                             paste(\"Het\"),\n",
    "                                  \"Other\")))\n",
    "p  <- df2   %>% group_by(Patient_ID, Disease, haplotype)  %>%     \n",
    "ggplot(aes(x = haplotype,\n",
    "             y = expression)) +\n",
    "   geom_dotplot(binaxis='y', stackdir='center', dotsize = 0) + \n",
    "   geom_boxplot(outlier.shape = NA) +\n",
    "    geom_jitter(binaxis='y', position=position_jitter(width = 0.1, height = 0.01), \n",
    "                size = 2, stackdir='center', aes(color = Disease)) + \n",
    "    facet_wrap(~Disease) +\n",
    "  theme_classic() + xlab(\"\") +  \n",
    " xlab(\"\") + ylab(\"Value\") +\n",
    "   scale_y_continuous(expand = expansion(mult = c(0, 0.1))) +\n",
    "     scale_color_manual(values = c(\"dodgerblue\", \"indianred3\")) +\n",
    "  ggpubr::stat_compare_means(label.x = 1.2, label.y.npc = \"top\", size = 3.5, vjust = 0.3, label = \"p.format\") + \n",
    "      theme(plot.title = element_text(hjust = 0.5, size = 18),\n",
    "          axis.line = element_line(colour = \"black\"), \n",
    "            axis.text.x = element_text(angle = 90),\n",
    "        axis.ticks = element_line(colour = \"black\")) +\n",
    "  ylim(0,NA) + ggtitle(possible_b[i]) + NoLegend()\n",
    "    plot_list[[i]]  <- p\n",
    "           \n",
    "}"
   ]
  },
  {
   "cell_type": "code",
   "execution_count": null,
   "id": "2b5fc298",
   "metadata": {
    "scrolled": true
   },
   "outputs": [],
   "source": [
    "options(repr.plot.width = 16, repr.plot.height = 9)\n",
    "cowplot::plot_grid(plotlist = plot_list, ncol = 8)"
   ]
  },
  {
   "cell_type": "markdown",
   "id": "6856c386",
   "metadata": {},
   "source": [
    "### C\n"
   ]
  },
  {
   "cell_type": "code",
   "execution_count": null,
   "id": "e191072a",
   "metadata": {
    "scrolled": true
   },
   "outputs": [],
   "source": [
    "plot_list  <- list()\n",
    "for(i in 1:length(possible_c)){\n",
    "  \n",
    "options(repr.plot.width = 5, repr.plot.height = 4)\n",
    "\n",
    "df2  <-   count_all4  %>% filter(gene == \"BTN3A2\")  %>% \n",
    "    mutate(haplotype = ifelse((C1 == possible_c[i] & C2 == possible_c[i]), \n",
    "                             paste(\"Hom\"), \n",
    "                       ifelse(C1 == possible_c[i] | C2 == possible_c[i], \n",
    "                             paste(\"Het\"),\n",
    "                                  \"Other\")))\n",
    "p  <- df2   %>% group_by(Patient_ID, Disease, haplotype)   %>%     \n",
    "ggplot(aes(x = haplotype,\n",
    "             y = expression)) +\n",
    "   geom_dotplot(binaxis='y', stackdir='center', dotsize = 0) + \n",
    "   geom_boxplot(outlier.shape = NA) +\n",
    "    geom_jitter(binaxis='y', position=position_jitter(width = 0.1, height = 0.01), \n",
    "                size = 2, stackdir='center', aes(color = Disease)) + \n",
    "    facet_wrap(~Disease) +\n",
    "  theme_classic() + xlab(\"\") +  \n",
    " xlab(\"\") + ylab(\"Value\") +\n",
    "   scale_y_continuous(expand = expansion(mult = c(0, 0.1))) +\n",
    "     scale_color_manual(values = c(\"dodgerblue\", \"indianred3\")) +\n",
    "  ggpubr::stat_compare_means(label.x = 1.2, label.y.npc = \"top\", size = 3.5, vjust = 0.3, label = \"p.format\") + \n",
    "      theme(plot.title = element_text(hjust = 0.5, size = 18),\n",
    "          axis.line = element_line(colour = \"black\"), \n",
    "            axis.text.x = element_text(angle = 90),\n",
    "        axis.ticks = element_line(colour = \"black\")) +\n",
    "  ylim(0,NA) + ggtitle(possible_c[i]) + NoLegend()\n",
    "    plot_list[[i]]  <- p\n",
    "           \n",
    "}"
   ]
  },
  {
   "cell_type": "code",
   "execution_count": null,
   "id": "5812535b",
   "metadata": {
    "scrolled": true
   },
   "outputs": [],
   "source": [
    "options(repr.plot.width = 16, repr.plot.height = 6)\n",
    "cowplot::plot_grid(plotlist = plot_list, ncol = 8)"
   ]
  },
  {
   "cell_type": "markdown",
   "id": "a098f48d",
   "metadata": {},
   "source": [
    "### DQA"
   ]
  },
  {
   "cell_type": "code",
   "execution_count": null,
   "id": "d1693d3c",
   "metadata": {},
   "outputs": [],
   "source": [
    "count_all4  %>% colnames"
   ]
  },
  {
   "cell_type": "code",
   "execution_count": null,
   "id": "0be28143",
   "metadata": {
    "scrolled": true
   },
   "outputs": [],
   "source": [
    "plot_list  <- list()\n",
    "for(i in 1:length(possible_dqa)){\n",
    "  \n",
    "options(repr.plot.width = 5, repr.plot.height = 4)\n",
    "\n",
    "df2  <-   count_all4  %>% filter(gene == \"BTN3A2\")  %>% \n",
    "    mutate(haplotype = ifelse((DQA11 == possible_dqa[i] & DQA12 == possible_dqa[i]), \n",
    "                             paste(\"Hom\"), \n",
    "                       ifelse(DQA11 == possible_dqa[i] | DQA12 == possible_dqa[i], \n",
    "                             paste(\"Het\"),\n",
    "                                  \"Other\")))\n",
    "p  <- df2   %>% group_by(Patient_ID, Disease, haplotype) %>%     \n",
    "ggplot(aes(x = haplotype,\n",
    "             y = expression)) +\n",
    "   geom_dotplot(binaxis='y', stackdir='center', dotsize = 0) + \n",
    "   geom_boxplot(outlier.shape = NA) +\n",
    "    geom_jitter(binaxis='y', position=position_jitter(width = 0.1, height = 0.01), \n",
    "                size = 2, stackdir='center', aes(color = Disease)) + \n",
    "    facet_wrap(~Disease) +\n",
    "  theme_classic() + xlab(\"\") +  \n",
    " xlab(\"\") + ylab(\"Value\") +\n",
    "   scale_y_continuous(expand = expansion(mult = c(0, 0.1))) +\n",
    "     scale_color_manual(values = c(\"dodgerblue\", \"indianred3\")) +\n",
    "  ggpubr::stat_compare_means(label.x = 1.2, label.y.npc = \"top\", size = 3.5, vjust = 0.3, label = \"p.format\") + \n",
    "      theme(plot.title = element_text(hjust = 0.5, size = 18),\n",
    "          axis.line = element_line(colour = \"black\"), \n",
    "            axis.text.x = element_text(angle = 90),\n",
    "        axis.ticks = element_line(colour = \"black\")) +\n",
    "  ylim(0,NA) + ggtitle(possible_dqa[i]) + NoLegend()\n",
    "    plot_list[[i]]  <- p\n",
    "           \n",
    "}"
   ]
  },
  {
   "cell_type": "code",
   "execution_count": null,
   "id": "d5eebb71",
   "metadata": {
    "scrolled": true
   },
   "outputs": [],
   "source": [
    "options(repr.plot.width = 16, repr.plot.height = 3)\n",
    "cowplot::plot_grid(plotlist = plot_list, ncol = 8)"
   ]
  },
  {
   "cell_type": "code",
   "execution_count": null,
   "id": "eb776b35",
   "metadata": {
    "scrolled": true
   },
   "outputs": [],
   "source": [
    "plot_list  <- list()\n",
    "for(i in 1:length(possible_dqb)){\n",
    "  \n",
    "options(repr.plot.width = 5, repr.plot.height = 4)\n",
    "\n",
    "df2  <-   count_all4  %>% filter(gene == \"BTN3A2\")  %>% \n",
    "    mutate(haplotype = ifelse((DQB11 == possible_dqb[i] & DQB12 == possible_dqb[i]), \n",
    "                             paste(\"Hom\"), \n",
    "                       ifelse(DQB11 == possible_dqb[i] | DQB12 == possible_dqb[i], \n",
    "                             paste(\"Het\"),\n",
    "                                  \"Other\")))\n",
    "p  <- df2   %>% group_by(Patient_ID, Disease, haplotype)   %>%     \n",
    "ggplot(aes(x = haplotype,\n",
    "             y = expression)) +\n",
    "   geom_dotplot(binaxis='y', stackdir='center', dotsize = 0) + \n",
    "   geom_boxplot(outlier.shape = NA) +\n",
    "    geom_jitter(binaxis='y', position=position_jitter(width = 0.1, height = 0.01), \n",
    "                size = 2, stackdir='center', aes(color = Disease)) + \n",
    "    facet_wrap(~Disease) +\n",
    "  theme_classic() + xlab(\"\") +  \n",
    " xlab(\"\") + ylab(\"Value\") +\n",
    "   scale_y_continuous(expand = expansion(mult = c(0, 0.1))) +\n",
    "     scale_color_manual(values = c(\"dodgerblue\", \"indianred3\")) +\n",
    "  ggpubr::stat_compare_means(label.x = 1.2, label.y.npc = \"top\", size = 3.5, vjust = 0.3, label = \"p.format\") + \n",
    "      theme(plot.title = element_text(hjust = 0.5, size = 18),\n",
    "          axis.line = element_line(colour = \"black\"), \n",
    "            axis.text.x = element_text(angle = 90),\n",
    "        axis.ticks = element_line(colour = \"black\")) +\n",
    "  ylim(0,NA) + ggtitle(possible_dqb[i]) + NoLegend()\n",
    "    plot_list[[i]]  <- p\n",
    "           \n",
    "}"
   ]
  },
  {
   "cell_type": "code",
   "execution_count": null,
   "id": "8a5558b0",
   "metadata": {
    "scrolled": true
   },
   "outputs": [],
   "source": [
    "options(repr.plot.width = 16, repr.plot.height = 3)\n",
    "cowplot::plot_grid(plotlist = plot_list, ncol = 8)"
   ]
  },
  {
   "cell_type": "code",
   "execution_count": null,
   "id": "850a3a15",
   "metadata": {},
   "outputs": [],
   "source": []
  },
  {
   "cell_type": "code",
   "execution_count": null,
   "id": "72dad0a4",
   "metadata": {},
   "outputs": [],
   "source": []
  },
  {
   "cell_type": "code",
   "execution_count": null,
   "id": "721d9eec",
   "metadata": {
    "scrolled": true
   },
   "outputs": [],
   "source": [
    "plot_list  <- list()\n",
    "for(i in 1:length(possible_drb)){\n",
    "  \n",
    "options(repr.plot.width = 5, repr.plot.height = 4)\n",
    "\n",
    "df2  <-   count_all4  %>% filter(gene == \"BTN3A2\")  %>% \n",
    "    mutate(haplotype = ifelse((DRB11 == possible_drb[i] & DRB12 == possible_drb[i]), \n",
    "                             paste(\"Hom\"), \n",
    "                       ifelse(DRB11 == possible_drb[i] | DRB12 == possible_drb[i], \n",
    "                             paste(\"Het\"),\n",
    "                                  \"Other\")))\n",
    "p  <- df2   %>% group_by(Patient_ID, Disease, haplotype)  %>%     \n",
    "ggplot(aes(x = haplotype,\n",
    "             y = expression)) +\n",
    "   geom_dotplot(binaxis='y', stackdir='center', dotsize = 0) + \n",
    "   geom_boxplot(outlier.shape = NA) +\n",
    "    geom_jitter(binaxis='y', position=position_jitter(width = 0.1, height = 0.01), \n",
    "                size = 2, stackdir='center', aes(color = Disease)) + \n",
    "    facet_wrap(~Disease) +\n",
    "  theme_classic() + xlab(\"\") +  \n",
    " xlab(\"\") + ylab(\"Value\") +\n",
    "   scale_y_continuous(expand = expansion(mult = c(0, 0.1))) +\n",
    "     scale_color_manual(values = c(\"dodgerblue\", \"indianred3\")) +\n",
    "  ggpubr::stat_compare_means(label.x = 1.2, label.y.npc = \"top\", size = 3.5, vjust = 0.3, label = \"p.format\") + \n",
    "      theme(plot.title = element_text(hjust = 0.5, size = 18),\n",
    "          axis.line = element_line(colour = \"black\"), \n",
    "            axis.text.x = element_text(angle = 90),\n",
    "        axis.ticks = element_line(colour = \"black\")) +\n",
    "  ylim(0,NA) + ggtitle(possible_drb[i]) + NoLegend()\n",
    "    plot_list[[i]]  <- p\n",
    "           \n",
    "}"
   ]
  },
  {
   "cell_type": "code",
   "execution_count": null,
   "id": "40e7bd8a",
   "metadata": {
    "scrolled": true
   },
   "outputs": [],
   "source": [
    "options(repr.plot.width = 18, repr.plot.height = 6)\n",
    "cowplot::plot_grid(plotlist = plot_list, ncol = 9)"
   ]
  },
  {
   "cell_type": "markdown",
   "id": "9e580b74",
   "metadata": {},
   "source": [
    "### DF for cross study comparison"
   ]
  },
  {
   "cell_type": "code",
   "execution_count": null,
   "id": "17a47326",
   "metadata": {},
   "outputs": [],
   "source": [
    "count_all5  <- count_all4  "
   ]
  },
  {
   "cell_type": "code",
   "execution_count": null,
   "id": "7fc34c54",
   "metadata": {
    "scrolled": true
   },
   "outputs": [],
   "source": [
    "count_all5"
   ]
  },
  {
   "cell_type": "code",
   "execution_count": null,
   "id": "0e77b6f4",
   "metadata": {},
   "outputs": [],
   "source": [
    "count_all5$expression_scale  <-  2/(max(count_all5$expression)-min(count_all5$expression))*(count_all5$expression-max(count_all5$expression))+1"
   ]
  },
  {
   "cell_type": "code",
   "execution_count": null,
   "id": "7092a30f",
   "metadata": {
    "scrolled": true
   },
   "outputs": [],
   "source": [
    "max(count_all5$expression_scale)"
   ]
  },
  {
   "cell_type": "code",
   "execution_count": null,
   "id": "f6b78d32",
   "metadata": {},
   "outputs": [],
   "source": [
    "min(count_all5$expression_scale)"
   ]
  },
  {
   "cell_type": "code",
   "execution_count": null,
   "id": "fccb296e",
   "metadata": {},
   "outputs": [],
   "source": [
    "scale_exp_hpap  <- count_all5"
   ]
  },
  {
   "cell_type": "code",
   "execution_count": null,
   "id": "3d4832d6",
   "metadata": {},
   "outputs": [],
   "source": [
    "scale_exp_hpap$study  <- \"HPAP\""
   ]
  },
  {
   "cell_type": "markdown",
   "id": "bea381a1",
   "metadata": {},
   "source": [
    "# GSE123658 Transimmunom"
   ]
  },
  {
   "cell_type": "code",
   "execution_count": null,
   "id": "47fa5ffa",
   "metadata": {},
   "outputs": [],
   "source": [
    "count_all4  <- read_delim(\"../data/published_data/Transimmunome_2018/BTN3A2_expression_by_HLA_transimmunome.csv\")"
   ]
  },
  {
   "cell_type": "code",
   "execution_count": null,
   "id": "5eae9082",
   "metadata": {},
   "outputs": [],
   "source": [
    "count_all4$gene  <- \"BTN3A2\""
   ]
  },
  {
   "cell_type": "code",
   "execution_count": null,
   "id": "4c870b54",
   "metadata": {},
   "outputs": [],
   "source": [
    "count_all4$expression  <- count_all4$BTN3A2"
   ]
  },
  {
   "cell_type": "code",
   "execution_count": null,
   "id": "310ce45e",
   "metadata": {},
   "outputs": [],
   "source": [
    "colnames(count_all4)  <- gsub(colnames(count_all4), pattern = \"HLA_\", replacement = \"\")"
   ]
  },
  {
   "cell_type": "code",
   "execution_count": null,
   "id": "2e66eb21",
   "metadata": {
    "scrolled": true
   },
   "outputs": [],
   "source": [
    "count_all4"
   ]
  },
  {
   "cell_type": "code",
   "execution_count": null,
   "id": "8aaa2634",
   "metadata": {},
   "outputs": [],
   "source": [
    "transimmunome_all_counts = read_csv(\"../data/published_data/Transimmunome_2018/transimmunome_allcounts_for_normalization.csv\")"
   ]
  },
  {
   "cell_type": "code",
   "execution_count": null,
   "id": "78567e77",
   "metadata": {},
   "outputs": [],
   "source": [
    "colnames(transimmunome_all_counts)  <- c(\"Patient_ID\", \"All_counts\")"
   ]
  },
  {
   "cell_type": "code",
   "execution_count": null,
   "id": "5ee69c30",
   "metadata": {},
   "outputs": [],
   "source": [
    "count_all4  <- left_join(count_all4, transimmunome_all_counts)"
   ]
  },
  {
   "cell_type": "code",
   "execution_count": null,
   "id": "817b3770",
   "metadata": {},
   "outputs": [],
   "source": [
    "count_all4$expression  <- count_all4$BTN3A2/count_all4$All_counts*1000000"
   ]
  },
  {
   "cell_type": "code",
   "execution_count": null,
   "id": "2b1eefd7",
   "metadata": {
    "scrolled": true
   },
   "outputs": [],
   "source": [
    "count_all4"
   ]
  },
  {
   "cell_type": "code",
   "execution_count": null,
   "id": "39d9b779",
   "metadata": {},
   "outputs": [],
   "source": [
    "possible_a  <- unique(c(count_all4$A1, count_all4$A2))\n",
    "possible_b <- unique(c(count_all4$B1, count_all4$B2))\n",
    "possible_c <- unique(c(count_all4$C1, count_all4$C2))\n",
    "possible_dqa <- unique(c(count_all4$DQA11, count_all4$DQA12))\n",
    "possible_dqb <- unique(c(count_all4$DQB11, count_all4$DQB12))\n",
    "possible_dra <- unique(c(count_all4$DRA1, count_all4$DRA2))\n",
    "possible_drb <- unique(c(count_all4$DRB11, count_all4$DRB12))"
   ]
  },
  {
   "cell_type": "code",
   "execution_count": null,
   "id": "7df4dfd1",
   "metadata": {},
   "outputs": [],
   "source": [
    "possible_a  <- possible_a[!is.na(possible_a)]\n",
    "possible_b <- possible_b[!is.na(possible_b)]\n",
    "possible_c <- possible_c[!is.na(possible_c)]\n",
    "possible_dqa <- possible_dqa[!is.na(possible_dqa)]\n",
    "possible_dqb <- possible_dqb[!is.na(possible_dqb)]\n",
    "possible_dra <- possible_dra[!is.na(possible_dra)]\n",
    "possible_drb <- possible_drb[!is.na(possible_drb)]"
   ]
  },
  {
   "cell_type": "code",
   "execution_count": null,
   "id": "8b78543c",
   "metadata": {},
   "outputs": [],
   "source": [
    "plot_list  <- list()"
   ]
  },
  {
   "cell_type": "code",
   "execution_count": null,
   "id": "b1f9ff83",
   "metadata": {},
   "outputs": [],
   "source": [
    "options(repr.plot.width = 6, repr.plot.height = 5)\n",
    "\n",
    "count_all4   %>%   \n",
    "ggplot(aes(x = Disease,\n",
    "             y = expression)) +\n",
    "   geom_dotplot(binaxis='y', stackdir='center', dotsize = 0) + \n",
    "   geom_boxplot(outlier.shape = NA) +\n",
    "    geom_jitter(binaxis='y', position=position_jitter(width = 0.1, height = 0.01), \n",
    "                size = 2, stackdir='center', aes(color = Disease)) + \n",
    "  theme_classic() + xlab(\"\") +  \n",
    " xlab(\"\") + ylab(\"Value\") +\n",
    "   scale_y_continuous(expand = expansion(mult = c(0, 0.1))) +\n",
    "     scale_color_manual(values = c(\"dodgerblue\", \"indianred3\")) +\n",
    "  ggpubr::stat_compare_means(label.x = 1.2, label.y.npc = \"top\", size = 3.5, vjust = 0.3, label = \"p.format\") + \n",
    "      theme(plot.title = element_text(hjust = 0.5, size = 18),\n",
    "          axis.line = element_line(colour = \"black\"), \n",
    "            axis.text.x = element_text(angle = 90),\n",
    "        axis.ticks = element_line(colour = \"black\")) +\n",
    "  ylim(0,NA) + ggtitle(\"BTN3A2 in Transimmunome\")"
   ]
  },
  {
   "cell_type": "markdown",
   "id": "e0741d3e",
   "metadata": {},
   "source": [
    "### A"
   ]
  },
  {
   "cell_type": "code",
   "execution_count": null,
   "id": "4a6c0fa0",
   "metadata": {
    "scrolled": true
   },
   "outputs": [],
   "source": [
    "for(i in 1:length(possible_a)){\n",
    "  \n",
    "options(repr.plot.width = 5, repr.plot.height = 4)\n",
    "\n",
    "df2  <-   count_all4  %>% filter(gene == \"BTN3A2\")  %>% \n",
    "    mutate(haplotype = ifelse((A1 == possible_a[i] & A2 == possible_a[i]), \n",
    "                             paste(\"Hom\"), \n",
    "                       ifelse(A1 == possible_a[i] | A2 == possible_a[i], \n",
    "                             paste(\"Het\"),\n",
    "                                  \"Other\")))\n",
    "p  <- df2   %>% group_by(Patient_ID, Disease, haplotype)  %>%     \n",
    "ggplot(aes(x = haplotype,\n",
    "             y = expression)) +\n",
    "   geom_dotplot(binaxis='y', stackdir='center', dotsize = 0) + \n",
    "   geom_boxplot(outlier.shape = NA) +\n",
    "    geom_jitter(binaxis='y', position=position_jitter(width = 0.1, height = 0.01), \n",
    "                size = 2, stackdir='center', aes(color = Disease)) + \n",
    " #   facet_wrap(~Disease) +\n",
    "  theme_classic() + xlab(\"\") +  \n",
    " xlab(\"\") + ylab(\"Value\") +\n",
    "   scale_y_continuous(expand = expansion(mult = c(0, 0.1))) +\n",
    "     scale_color_manual(values = c(\"dodgerblue\", \"indianred3\")) +\n",
    "  ggpubr::stat_compare_means(label.x = 1.2, label.y.npc = \"top\", size = 3.5, vjust = 0.3, label = \"p.format\") + \n",
    "      theme(plot.title = element_text(hjust = 0.5, size = 18),\n",
    "          axis.line = element_line(colour = \"black\"), \n",
    "            axis.text.x = element_text(angle = 90),\n",
    "        axis.ticks = element_line(colour = \"black\")) +\n",
    "  ylim(0,NA) + ggtitle(possible_a[i]) + NoLegend()\n",
    "    plot_list[[i]]  <- p\n",
    "           \n",
    "}"
   ]
  },
  {
   "cell_type": "code",
   "execution_count": null,
   "id": "ad1cb400",
   "metadata": {
    "scrolled": true
   },
   "outputs": [],
   "source": [
    "options(repr.plot.width = 16, repr.plot.height = 9)\n",
    "cowplot::plot_grid(plotlist = plot_list, ncol = 9)"
   ]
  },
  {
   "cell_type": "markdown",
   "id": "4ce77e6f",
   "metadata": {},
   "source": [
    "### B"
   ]
  },
  {
   "cell_type": "code",
   "execution_count": null,
   "id": "f475da1c",
   "metadata": {
    "scrolled": true
   },
   "outputs": [],
   "source": [
    "plot_list  <- list()\n",
    "for(i in 1:length(possible_b)){\n",
    "  \n",
    "options(repr.plot.width = 5, repr.plot.height = 4)\n",
    "\n",
    "df2  <-   count_all4  %>% filter(gene == \"BTN3A2\")  %>% \n",
    "    mutate(haplotype = ifelse((B1 == possible_b[i] & B2 == possible_b[i]), \n",
    "                             paste(\"Hom\"), \n",
    "                       ifelse(B1 == possible_b[i] | B2 == possible_b[i], \n",
    "                             paste(\"Het\"),\n",
    "                                  \"Other\")))\n",
    "p  <- df2   %>% group_by(Patient_ID, Disease, haplotype)  %>%     \n",
    "ggplot(aes(x = haplotype,\n",
    "             y = expression)) +\n",
    "   geom_dotplot(binaxis='y', stackdir='center', dotsize = 0) + \n",
    "   geom_boxplot(outlier.shape = NA) +\n",
    "    geom_jitter(binaxis='y', position=position_jitter(width = 0.1, height = 0.01), \n",
    "                size = 2, stackdir='center', aes(color = Disease)) + \n",
    "  #  facet_wrap(~Disease) +\n",
    "  theme_classic() + xlab(\"\") +  \n",
    " xlab(\"\") + ylab(\"Value\") +\n",
    "   scale_y_continuous(expand = expansion(mult = c(0, 0.1))) +\n",
    "     scale_color_manual(values = c(\"dodgerblue\", \"indianred3\")) +\n",
    "  ggpubr::stat_compare_means(label.x = 1.2, label.y.npc = \"top\", size = 3.5, vjust = 0.3, label = \"p.format\") + \n",
    "      theme(plot.title = element_text(hjust = 0.5, size = 18),\n",
    "          axis.line = element_line(colour = \"black\"), \n",
    "            axis.text.x = element_text(angle = 90),\n",
    "        axis.ticks = element_line(colour = \"black\")) +\n",
    "  ylim(0,NA) + ggtitle(possible_b[i]) + NoLegend()\n",
    "    plot_list[[i]]  <- p\n",
    "           \n",
    "}"
   ]
  },
  {
   "cell_type": "code",
   "execution_count": null,
   "id": "cc50b45e",
   "metadata": {
    "scrolled": true
   },
   "outputs": [],
   "source": [
    "options(repr.plot.width = 16, repr.plot.height = 18)\n",
    "cowplot::plot_grid(plotlist = plot_list, ncol = 8)"
   ]
  },
  {
   "cell_type": "markdown",
   "id": "7e967296",
   "metadata": {},
   "source": [
    "### C\n"
   ]
  },
  {
   "cell_type": "code",
   "execution_count": null,
   "id": "1434f170",
   "metadata": {
    "scrolled": true
   },
   "outputs": [],
   "source": [
    "plot_list  <- list()\n",
    "for(i in 1:length(possible_c)){\n",
    "  \n",
    "options(repr.plot.width = 5, repr.plot.height = 4)\n",
    "\n",
    "df2  <-   count_all4  %>% filter(gene == \"BTN3A2\")  %>% \n",
    "    mutate(haplotype = ifelse((C1 == possible_c[i] & C2 == possible_c[i]), \n",
    "                             paste(\"Hom\"), \n",
    "                       ifelse(C1 == possible_c[i] | C2 == possible_c[i], \n",
    "                             paste(\"Het\"),\n",
    "                                  \"Other\")))\n",
    "p  <- df2   %>% group_by(Patient_ID, Disease, haplotype)   %>%     \n",
    "ggplot(aes(x = haplotype,\n",
    "             y = expression)) +\n",
    "   geom_dotplot(binaxis='y', stackdir='center', dotsize = 0) + \n",
    "   geom_boxplot(outlier.shape = NA) +\n",
    "    geom_jitter(binaxis='y', position=position_jitter(width = 0.1, height = 0.01), \n",
    "                size = 2, stackdir='center', aes(color = Disease)) + \n",
    "   # facet_wrap(~Disease) +\n",
    "  theme_classic() + xlab(\"\") +  \n",
    " xlab(\"\") + ylab(\"Value\") +\n",
    "   scale_y_continuous(expand = expansion(mult = c(0, 0.1))) +\n",
    "     scale_color_manual(values = c(\"dodgerblue\", \"indianred3\")) +\n",
    "  ggpubr::stat_compare_means(label.x = 1.2, label.y.npc = \"top\", size = 3.5, vjust = 0.3, label = \"p.format\") + \n",
    "      theme(plot.title = element_text(hjust = 0.5, size = 18),\n",
    "          axis.line = element_line(colour = \"black\"), \n",
    "            axis.text.x = element_text(angle = 90),\n",
    "        axis.ticks = element_line(colour = \"black\")) +\n",
    "  ylim(0,NA) + ggtitle(possible_c[i]) + NoLegend()\n",
    "    plot_list[[i]]  <- p\n",
    "           \n",
    "}"
   ]
  },
  {
   "cell_type": "code",
   "execution_count": null,
   "id": "6439ac43",
   "metadata": {
    "scrolled": true
   },
   "outputs": [],
   "source": [
    "options(repr.plot.width = 16, repr.plot.height = 12)\n",
    "cowplot::plot_grid(plotlist = plot_list, ncol = 8)"
   ]
  },
  {
   "cell_type": "markdown",
   "id": "e8831a95",
   "metadata": {},
   "source": [
    "### DQA"
   ]
  },
  {
   "cell_type": "code",
   "execution_count": null,
   "id": "02eb84e4",
   "metadata": {},
   "outputs": [],
   "source": [
    "count_all4  %>% colnames"
   ]
  },
  {
   "cell_type": "code",
   "execution_count": null,
   "id": "e35c7cce",
   "metadata": {
    "scrolled": true
   },
   "outputs": [],
   "source": [
    "plot_list  <- list()\n",
    "for(i in 1:length(possible_dqa)){\n",
    "  \n",
    "options(repr.plot.width = 5, repr.plot.height = 4)\n",
    "\n",
    "df2  <-   count_all4  %>% filter(gene == \"BTN3A2\")  %>% \n",
    "    mutate(haplotype = ifelse((DQA11 == possible_dqa[i] & DQA12 == possible_dqa[i]), \n",
    "                             paste(\"Hom\"), \n",
    "                       ifelse(DQA11 == possible_dqa[i] | DQA12 == possible_dqa[i], \n",
    "                             paste(\"Het\"),\n",
    "                                  \"Other\")))\n",
    "p  <- df2   %>% group_by(Patient_ID, Disease, haplotype) %>%     \n",
    "ggplot(aes(x = haplotype,\n",
    "             y = expression)) +\n",
    "   geom_dotplot(binaxis='y', stackdir='center', dotsize = 0) + \n",
    "   geom_boxplot(outlier.shape = NA) +\n",
    "    geom_jitter(binaxis='y', position=position_jitter(width = 0.1, height = 0.01), \n",
    "                size = 2, stackdir='center', aes(color = Disease)) + \n",
    "  #  facet_wrap(~Disease) +\n",
    "  theme_classic() + xlab(\"\") +  \n",
    " xlab(\"\") + ylab(\"Value\") +\n",
    "   scale_y_continuous(expand = expansion(mult = c(0, 0.1))) +\n",
    "     scale_color_manual(values = c(\"dodgerblue\", \"indianred3\")) +\n",
    "  ggpubr::stat_compare_means(label.x = 1.2, label.y.npc = \"top\", size = 3.5, vjust = 0.3, label = \"p.format\") + \n",
    "      theme(plot.title = element_text(hjust = 0.5, size = 18),\n",
    "          axis.line = element_line(colour = \"black\"), \n",
    "            axis.text.x = element_text(angle = 90),\n",
    "        axis.ticks = element_line(colour = \"black\")) +\n",
    "  ylim(0,NA) + ggtitle(possible_dqa[i]) + NoLegend()\n",
    "    plot_list[[i]]  <- p\n",
    "           \n",
    "}"
   ]
  },
  {
   "cell_type": "code",
   "execution_count": null,
   "id": "6ea4f7e8",
   "metadata": {
    "scrolled": true
   },
   "outputs": [],
   "source": [
    "options(repr.plot.width = 16, repr.plot.height = 6)\n",
    "cowplot::plot_grid(plotlist = plot_list, ncol = 8)"
   ]
  },
  {
   "cell_type": "code",
   "execution_count": null,
   "id": "89b12d80",
   "metadata": {
    "scrolled": true
   },
   "outputs": [],
   "source": [
    "plot_list  <- list()\n",
    "for(i in 1:length(possible_dqb)){\n",
    "  \n",
    "options(repr.plot.width = 5, repr.plot.height = 4)\n",
    "\n",
    "df2  <-   count_all4  %>% filter(gene == \"BTN3A2\")  %>% \n",
    "    mutate(haplotype = ifelse((DQB11 == possible_dqb[i] & DQB12 == possible_dqb[i]), \n",
    "                             paste(\"Hom\"), \n",
    "                       ifelse(DQB11 == possible_dqb[i] | DQB12 == possible_dqb[i], \n",
    "                             paste(\"Het\"),\n",
    "                                  \"Other\")))\n",
    "p  <- df2   %>% group_by(Patient_ID, Disease, haplotype)   %>%     \n",
    "ggplot(aes(x = haplotype,\n",
    "             y = expression)) +\n",
    "   geom_dotplot(binaxis='y', stackdir='center', dotsize = 0) + \n",
    "   geom_boxplot(outlier.shape = NA) +\n",
    "    geom_jitter(binaxis='y', position=position_jitter(width = 0.1, height = 0.01), \n",
    "                size = 2, stackdir='center', aes(color = Disease)) + \n",
    "  #  facet_wrap(~Disease) +\n",
    "  theme_classic() + xlab(\"\") +  \n",
    " xlab(\"\") + ylab(\"Value\") +\n",
    "   scale_y_continuous(expand = expansion(mult = c(0, 0.1))) +\n",
    "     scale_color_manual(values = c(\"dodgerblue\", \"indianred3\")) +\n",
    "  ggpubr::stat_compare_means(label.x = 1.2, label.y.npc = \"top\", size = 3.5, vjust = 0.3, label = \"p.format\") + \n",
    "      theme(plot.title = element_text(hjust = 0.5, size = 18),\n",
    "          axis.line = element_line(colour = \"black\"), \n",
    "            axis.text.x = element_text(angle = 90),\n",
    "        axis.ticks = element_line(colour = \"black\")) +\n",
    "  ylim(0,NA) + ggtitle(possible_dqb[i]) + NoLegend()\n",
    "    plot_list[[i]]  <- p\n",
    "           \n",
    "}"
   ]
  },
  {
   "cell_type": "code",
   "execution_count": null,
   "id": "7288339a",
   "metadata": {
    "scrolled": true
   },
   "outputs": [],
   "source": [
    "options(repr.plot.width = 16, repr.plot.height = 6)\n",
    "cowplot::plot_grid(plotlist = plot_list, ncol = 8)"
   ]
  },
  {
   "cell_type": "code",
   "execution_count": null,
   "id": "710fab46",
   "metadata": {},
   "outputs": [],
   "source": []
  },
  {
   "cell_type": "code",
   "execution_count": null,
   "id": "a5f866b2",
   "metadata": {},
   "outputs": [],
   "source": []
  },
  {
   "cell_type": "code",
   "execution_count": null,
   "id": "5e6d1313",
   "metadata": {
    "scrolled": true
   },
   "outputs": [],
   "source": [
    "plot_list  <- list()\n",
    "for(i in 1:length(possible_drb)){\n",
    "  \n",
    "options(repr.plot.width = 5, repr.plot.height = 4)\n",
    "\n",
    "df2  <-   count_all4  %>% filter(gene == \"BTN3A2\")  %>% \n",
    "    mutate(haplotype = ifelse((DRB11 == possible_drb[i] & DRB12 == possible_drb[i]), \n",
    "                             paste(\"Hom\"), \n",
    "                       ifelse(DRB11 == possible_drb[i] | DRB12 == possible_drb[i], \n",
    "                             paste(\"Het\"),\n",
    "                                  \"Other\")))\n",
    "p  <- df2   %>% group_by(Patient_ID, Disease, haplotype)  %>%     \n",
    "ggplot(aes(x = haplotype,\n",
    "             y = expression)) +\n",
    "   geom_dotplot(binaxis='y', stackdir='center', dotsize = 0) + \n",
    "   geom_boxplot(outlier.shape = NA) +\n",
    "    geom_jitter(binaxis='y', position=position_jitter(width = 0.1, height = 0.01), \n",
    "                size = 2, stackdir='center', aes(color = Disease)) + \n",
    "    facet_wrap(~Disease) +\n",
    "  theme_classic() + xlab(\"\") +  \n",
    " xlab(\"\") + ylab(\"Value\") +\n",
    "   scale_y_continuous(expand = expansion(mult = c(0, 0.1))) +\n",
    "     scale_color_manual(values = c(\"dodgerblue\", \"indianred3\")) +\n",
    "  ggpubr::stat_compare_means(label.x = 1.2, label.y.npc = \"top\", size = 3.5, vjust = 0.3, label = \"p.format\") + \n",
    "      theme(plot.title = element_text(hjust = 0.5, size = 18),\n",
    "          axis.line = element_line(colour = \"black\"), \n",
    "            axis.text.x = element_text(angle = 90),\n",
    "        axis.ticks = element_line(colour = \"black\")) +\n",
    "  ylim(0,NA) + ggtitle(possible_drb[i]) + NoLegend()\n",
    "    plot_list[[i]]  <- p\n",
    "           \n",
    "}"
   ]
  },
  {
   "cell_type": "code",
   "execution_count": null,
   "id": "d893e513",
   "metadata": {
    "scrolled": true
   },
   "outputs": [],
   "source": [
    "options(repr.plot.width = 18, repr.plot.height = 6)\n",
    "cowplot::plot_grid(plotlist = plot_list, ncol = 9)"
   ]
  },
  {
   "cell_type": "markdown",
   "id": "eeff269c",
   "metadata": {},
   "source": [
    "### DF for cross study comparison"
   ]
  },
  {
   "cell_type": "code",
   "execution_count": null,
   "id": "aa6fbc27",
   "metadata": {},
   "outputs": [],
   "source": [
    "count_all5  <- count_all4  "
   ]
  },
  {
   "cell_type": "code",
   "execution_count": null,
   "id": "cfedaf07",
   "metadata": {
    "scrolled": true
   },
   "outputs": [],
   "source": [
    "count_all5"
   ]
  },
  {
   "cell_type": "code",
   "execution_count": null,
   "id": "c36b8404",
   "metadata": {},
   "outputs": [],
   "source": [
    "count_all5$expression_scale  <-  2/(max(count_all5$expression)-min(count_all5$expression))*(count_all5$expression-max(count_all5$expression))+1"
   ]
  },
  {
   "cell_type": "code",
   "execution_count": null,
   "id": "cb1187c6",
   "metadata": {
    "scrolled": true
   },
   "outputs": [],
   "source": [
    "max(count_all5$expression_scale)"
   ]
  },
  {
   "cell_type": "code",
   "execution_count": null,
   "id": "07fa2154",
   "metadata": {},
   "outputs": [],
   "source": [
    "min(count_all5$expression_scale)"
   ]
  },
  {
   "cell_type": "code",
   "execution_count": null,
   "id": "000e0dd4",
   "metadata": {},
   "outputs": [],
   "source": [
    "scale_exp_transimmunome  <- count_all5"
   ]
  },
  {
   "cell_type": "code",
   "execution_count": null,
   "id": "33ef539b",
   "metadata": {},
   "outputs": [],
   "source": [
    "scale_exp_transimmunome$study  <- \"Transimmunome\""
   ]
  },
  {
   "cell_type": "code",
   "execution_count": null,
   "id": "7d355475",
   "metadata": {},
   "outputs": [],
   "source": []
  },
  {
   "cell_type": "markdown",
   "id": "56876bfa",
   "metadata": {},
   "source": [
    "# Newman 2024"
   ]
  },
  {
   "cell_type": "code",
   "execution_count": null,
   "id": "861b42ec",
   "metadata": {},
   "outputs": [],
   "source": [
    "library(GEOquery)"
   ]
  },
  {
   "cell_type": "code",
   "execution_count": null,
   "id": "bce89760",
   "metadata": {},
   "outputs": [],
   "source": [
    "gset <- getGEO(\"GSE237218\", GSEMatrix =TRUE, getGPL=TRUE, AnnotGPL=TRUE)"
   ]
  },
  {
   "cell_type": "code",
   "execution_count": null,
   "id": "a81d8fd9",
   "metadata": {},
   "outputs": [],
   "source": [
    "varLabels(gset$GSE237218_series_matrix.txt.gz)"
   ]
  },
  {
   "cell_type": "code",
   "execution_count": null,
   "id": "94070691",
   "metadata": {},
   "outputs": [],
   "source": [
    "gset$GSE237218_series_matrix.txt.gz$`cell type:ch1`"
   ]
  },
  {
   "cell_type": "code",
   "execution_count": null,
   "id": "a1add38b",
   "metadata": {},
   "outputs": [],
   "source": [
    "gset$GSE237218_series_matrix.txt.gz$`disease status:ch1`"
   ]
  },
  {
   "cell_type": "code",
   "execution_count": null,
   "id": "e031021a",
   "metadata": {},
   "outputs": [],
   "source": [
    "metadata_gse  <- data.frame(gse = gset$GSE237218_series_matrix.txt.gz$geo_accession,\n",
    "                            Sample_ID = gset$GSE237218_series_matrix.txt.gz$description                           \n",
    "                           )"
   ]
  },
  {
   "cell_type": "code",
   "execution_count": null,
   "id": "ab19218d",
   "metadata": {
    "scrolled": true
   },
   "outputs": [],
   "source": [
    "metadata_gse"
   ]
  },
  {
   "cell_type": "code",
   "execution_count": null,
   "id": "2fb8ddc3",
   "metadata": {},
   "outputs": [],
   "source": [
    "metadata_sra  <- read_delim(\"../data/published_data/Newman_2023/newman_sra_metadata.txt\")"
   ]
  },
  {
   "cell_type": "code",
   "execution_count": null,
   "id": "1018393d",
   "metadata": {},
   "outputs": [],
   "source": [
    "metadata_sra$gse = metadata_sra$`Sample Name`"
   ]
  },
  {
   "cell_type": "code",
   "execution_count": null,
   "id": "86e97b66",
   "metadata": {},
   "outputs": [],
   "source": [
    "metadata_sra_and_gse = left_join(metadata_sra, metadata_gse)"
   ]
  },
  {
   "cell_type": "code",
   "execution_count": null,
   "id": "d76199db",
   "metadata": {},
   "outputs": [],
   "source": []
  },
  {
   "cell_type": "code",
   "execution_count": null,
   "id": "99f8fc31",
   "metadata": {},
   "outputs": [],
   "source": [
    "    mtx  <- read_delim(\"../data/published_data/Newman_2023/data/GSE237218_processedCounts_log_TPM.tsv.gz\")"
   ]
  },
  {
   "cell_type": "code",
   "execution_count": null,
   "id": "261beea5",
   "metadata": {},
   "outputs": [],
   "source": [
    "colnames(mtx)  %>% length"
   ]
  },
  {
   "cell_type": "code",
   "execution_count": null,
   "id": "13289ddd",
   "metadata": {
    "scrolled": true
   },
   "outputs": [],
   "source": [
    "colnames(mtx) "
   ]
  },
  {
   "cell_type": "code",
   "execution_count": null,
   "id": "29358982",
   "metadata": {},
   "outputs": [],
   "source": [
    "grep(mtx$gene_id, pattern = \"CD4\", value = T)"
   ]
  },
  {
   "cell_type": "code",
   "execution_count": null,
   "id": "3d4dae6e",
   "metadata": {},
   "outputs": [],
   "source": [
    "mtx[mtx<0] = 0"
   ]
  },
  {
   "cell_type": "code",
   "execution_count": null,
   "id": "88ca1786",
   "metadata": {},
   "outputs": [],
   "source": [
    "mtx2  <- mtx  %>% dplyr::select(-transcript_id)  %>% group_by(gene_id)  %>% \n",
    "summarise_all(.funs = sum)"
   ]
  },
  {
   "cell_type": "code",
   "execution_count": null,
   "id": "2e4c762f",
   "metadata": {},
   "outputs": [],
   "source": [
    "ls()"
   ]
  },
  {
   "cell_type": "code",
   "execution_count": null,
   "id": "3dd2babd",
   "metadata": {},
   "outputs": [],
   "source": [
    "dim(mtx2)"
   ]
  },
  {
   "cell_type": "code",
   "execution_count": null,
   "id": "c73c2479",
   "metadata": {},
   "outputs": [],
   "source": [
    "metadata_sra"
   ]
  },
  {
   "cell_type": "code",
   "execution_count": null,
   "id": "fde51228",
   "metadata": {
    "scrolled": true
   },
   "outputs": [],
   "source": [
    "newman_exp  <- as.data.frame(unlist(mtx2[which(mtx2$gene_id == \"BTN3A2\"),])[2:443])"
   ]
  },
  {
   "cell_type": "code",
   "execution_count": null,
   "id": "b6585474",
   "metadata": {},
   "outputs": [],
   "source": [
    "newman_exp$Sample_ID  <- rownames(newman_exp)"
   ]
  },
  {
   "cell_type": "code",
   "execution_count": null,
   "id": "a5d3b80d",
   "metadata": {},
   "outputs": [],
   "source": [
    "colnames(newman_exp)[1]  <- \"expression\""
   ]
  },
  {
   "cell_type": "code",
   "execution_count": null,
   "id": "5e1c7278",
   "metadata": {
    "scrolled": true
   },
   "outputs": [],
   "source": [
    "metadata_sra$Experiment  %>% head"
   ]
  },
  {
   "cell_type": "code",
   "execution_count": null,
   "id": "f296e27f",
   "metadata": {
    "scrolled": true
   },
   "outputs": [],
   "source": [
    "newman_exp2  <- left_join(newman_exp, metadata_sra_and_gse)"
   ]
  },
  {
   "cell_type": "code",
   "execution_count": null,
   "id": "abc78497",
   "metadata": {},
   "outputs": [],
   "source": [
    "table(newman_exp$Sample_ID %in% metadata_sra_and_gse$Sample_ID)"
   ]
  },
  {
   "cell_type": "code",
   "execution_count": null,
   "id": "0c22fe7f",
   "metadata": {},
   "outputs": [],
   "source": [
    "newman_exp2"
   ]
  },
  {
   "cell_type": "code",
   "execution_count": null,
   "id": "338ae7a9",
   "metadata": {
    "scrolled": true
   },
   "outputs": [],
   "source": [
    "hla  <- read_delim(\"../data/published_data/Newman_2023/data/genotypes.tsv\")\n",
    "hla"
   ]
  },
  {
   "cell_type": "code",
   "execution_count": null,
   "id": "b3ec3d60",
   "metadata": {},
   "outputs": [],
   "source": [
    "hla2  <- hla  %>% \n",
    "separate(subject, into = c(\"Run\"), sep = \"_\", remove = T) "
   ]
  },
  {
   "cell_type": "code",
   "execution_count": null,
   "id": "6296376d",
   "metadata": {},
   "outputs": [],
   "source": [
    "btn_etc  <- left_join(hla2, newman_exp2)"
   ]
  },
  {
   "cell_type": "code",
   "execution_count": null,
   "id": "f65af35a",
   "metadata": {
    "scrolled": true
   },
   "outputs": [],
   "source": [
    "btn_etc$subject_id  %>% duplicated  %>% table"
   ]
  },
  {
   "cell_type": "code",
   "execution_count": null,
   "id": "9a5e7da4",
   "metadata": {
    "scrolled": true
   },
   "outputs": [],
   "source": [
    "btn_etc$disease_status  %>% table"
   ]
  },
  {
   "cell_type": "code",
   "execution_count": null,
   "id": "3b286c2c",
   "metadata": {
    "scrolled": true
   },
   "outputs": [],
   "source": [
    "count_all4  <- btn_etc"
   ]
  },
  {
   "cell_type": "code",
   "execution_count": null,
   "id": "31397bb9",
   "metadata": {},
   "outputs": [],
   "source": [
    "count_all4$gene  <- \"BTN3A2\""
   ]
  },
  {
   "cell_type": "code",
   "execution_count": null,
   "id": "558532c5",
   "metadata": {},
   "outputs": [],
   "source": [
    "colnames(count_all4)"
   ]
  },
  {
   "cell_type": "code",
   "execution_count": null,
   "id": "8da9bc30",
   "metadata": {},
   "outputs": [],
   "source": [
    "count_all4  <- count_all4  %>% mutate(Disease = ifelse(grepl(disease_status, pattern = \"CTL\"),\"Ctrl\",\"Dia\"))"
   ]
  },
  {
   "cell_type": "code",
   "execution_count": null,
   "id": "0f8b8ae9",
   "metadata": {},
   "outputs": [],
   "source": [
    "count_all4"
   ]
  },
  {
   "cell_type": "code",
   "execution_count": null,
   "id": "c74cb2c2",
   "metadata": {},
   "outputs": [],
   "source": [
    "possible_a  <- unique(c(count_all4$A1, count_all4$A2))\n",
    "possible_b <- unique(c(count_all4$B1, count_all4$B2))\n",
    "possible_c <- unique(c(count_all4$C1, count_all4$C2))\n",
    "possible_dqa <- unique(c(count_all4$DQA11, count_all4$DQA12))\n",
    "possible_dqb <- unique(c(count_all4$DQB11, count_all4$DQB12))\n",
    "possible_dra <- unique(c(count_all4$DRA1, count_all4$DRA2))\n",
    "possible_drb <- unique(c(count_all4$DRB11, count_all4$DRB12))"
   ]
  },
  {
   "cell_type": "code",
   "execution_count": null,
   "id": "be4ba83c",
   "metadata": {},
   "outputs": [],
   "source": [
    "possible_a  <- possible_a[!is.na(possible_a)]\n",
    "possible_b <- possible_b[!is.na(possible_b)]\n",
    "possible_c <- possible_c[!is.na(possible_c)]\n",
    "possible_dqa <- possible_dqa[!is.na(possible_dqa)]\n",
    "possible_dqb <- possible_dqb[!is.na(possible_dqb)]\n",
    "possible_dra <- possible_dra[!is.na(possible_dra)]\n",
    "possible_drb <- possible_drb[!is.na(possible_drb)]"
   ]
  },
  {
   "cell_type": "code",
   "execution_count": null,
   "id": "70d0699c",
   "metadata": {},
   "outputs": [],
   "source": [
    "plot_list  <- list()"
   ]
  },
  {
   "cell_type": "code",
   "execution_count": null,
   "id": "cf870c5d",
   "metadata": {},
   "outputs": [],
   "source": [
    "count_all4$expression"
   ]
  },
  {
   "cell_type": "code",
   "execution_count": null,
   "id": "da3ce737",
   "metadata": {},
   "outputs": [],
   "source": [
    "count_all4  <-  count_all4  %>% dplyr::filter(as.numeric(expression)>0)"
   ]
  },
  {
   "cell_type": "code",
   "execution_count": null,
   "id": "0f31ed82",
   "metadata": {},
   "outputs": [],
   "source": [
    "count_all4$expression"
   ]
  },
  {
   "cell_type": "code",
   "execution_count": null,
   "id": "64d3ba44",
   "metadata": {},
   "outputs": [],
   "source": [
    "options(repr.plot.width = 6, repr.plot.height = 5)\n",
    "\n",
    "count_all4   %>%   \n",
    "ggplot(aes(x = Disease,\n",
    "             y = as.numeric(expression))) +\n",
    "   geom_dotplot(binaxis='y', stackdir='center', dotsize = 0) + \n",
    "   geom_boxplot(outlier.shape = NA) +\n",
    "    geom_jitter(binaxis='y', position=position_jitter(width = 0.1, height = 0.01), \n",
    "                size = 2, stackdir='center', aes(color = Disease)) + \n",
    "  theme_classic() + xlab(\"\") +  \n",
    " xlab(\"\") + ylab(\"Value\") +\n",
    "   scale_y_continuous(expand = expansion(mult = c(0, 0.1))) +\n",
    "     scale_color_manual(values = c(\"dodgerblue\", \"indianred3\")) +\n",
    "  ggpubr::stat_compare_means(label.x = 1.2, label.y.npc = \"top\", size = 3.5, vjust = 0.3, label = \"p.format\") + \n",
    "      theme(plot.title = element_text(hjust = 0.5, size = 18),\n",
    "          axis.line = element_line(colour = \"black\"), \n",
    "            axis.text.x = element_text(angle = 90),\n",
    "        axis.ticks = element_line(colour = \"black\")) +\n",
    "  ylim(0,NA) + ggtitle(\"BTN3A2 in Newman\")"
   ]
  },
  {
   "cell_type": "code",
   "execution_count": null,
   "id": "de1e75a3",
   "metadata": {},
   "outputs": [],
   "source": [
    "count_all4$Patient_ID  <- count_all4$subject_id"
   ]
  },
  {
   "cell_type": "code",
   "execution_count": null,
   "id": "6734bf45",
   "metadata": {},
   "outputs": [],
   "source": [
    "count_all4$expression  <- as.numeric(count_all4$expression)"
   ]
  },
  {
   "cell_type": "markdown",
   "id": "cb1e1be9",
   "metadata": {},
   "source": [
    "### A"
   ]
  },
  {
   "cell_type": "code",
   "execution_count": null,
   "id": "53eda758",
   "metadata": {},
   "outputs": [],
   "source": []
  },
  {
   "cell_type": "code",
   "execution_count": null,
   "id": "667e4024",
   "metadata": {
    "scrolled": true
   },
   "outputs": [],
   "source": [
    "for(i in 1:length(possible_a)){\n",
    "  \n",
    "options(repr.plot.width = 5, repr.plot.height = 4)\n",
    "\n",
    "df2  <-   count_all4  %>% filter(gene == \"BTN3A2\")  %>% \n",
    "    mutate(haplotype = ifelse((A1 == possible_a[i] & A2 == possible_a[i]), \n",
    "                             paste(\"Hom\"), \n",
    "                       ifelse(A1 == possible_a[i] | A2 == possible_a[i], \n",
    "                             paste(\"Het\"),\n",
    "                                  \"Other\")))\n",
    "p  <- df2   %>% group_by(Patient_ID, Disease, haplotype)  %>%     \n",
    "ggplot(aes(x = haplotype,\n",
    "             y = expression)) +\n",
    "   geom_dotplot(binaxis='y', stackdir='center', dotsize = 0) + \n",
    "   geom_boxplot(outlier.shape = NA) +\n",
    "    geom_jitter(binaxis='y', position=position_jitter(width = 0.1, height = 0.01), \n",
    "                size = 2, stackdir='center', aes(color = Disease)) + \n",
    "   # facet_wrap(~Disease) +\n",
    "  theme_classic() + xlab(\"\") +  \n",
    " xlab(\"\") + ylab(\"Value\") +\n",
    "   scale_y_continuous(expand = expansion(mult = c(0, 0.1))) +\n",
    "     scale_color_manual(values = c(\"dodgerblue\", \"indianred3\")) +\n",
    "  ggpubr::stat_compare_means(label.x = 1.2, label.y.npc = \"top\", size = 3.5, vjust = 0.3, label = \"p.format\") + \n",
    "      theme(plot.title = element_text(hjust = 0.5, size = 18),\n",
    "          axis.line = element_line(colour = \"black\"), \n",
    "            axis.text.x = element_text(angle = 90),\n",
    "        axis.ticks = element_line(colour = \"black\")) +\n",
    "  ylim(0,NA) + ggtitle(possible_a[i]) + NoLegend()\n",
    "    plot_list[[i]]  <- p\n",
    "           \n",
    "}"
   ]
  },
  {
   "cell_type": "code",
   "execution_count": null,
   "id": "6a03dda5",
   "metadata": {
    "scrolled": true
   },
   "outputs": [],
   "source": [
    "options(repr.plot.width = 16, repr.plot.height = 9)\n",
    "cowplot::plot_grid(plotlist = plot_list, ncol = 8)"
   ]
  },
  {
   "cell_type": "markdown",
   "id": "2ff90b84",
   "metadata": {},
   "source": [
    "### B"
   ]
  },
  {
   "cell_type": "code",
   "execution_count": null,
   "id": "0b5187f2",
   "metadata": {
    "scrolled": true
   },
   "outputs": [],
   "source": [
    "plot_list  <- list()\n",
    "for(i in 1:length(possible_b)){\n",
    "  \n",
    "options(repr.plot.width = 5, repr.plot.height = 4)\n",
    "\n",
    "df2  <-   count_all4  %>% filter(gene == \"BTN3A2\")  %>% \n",
    "    mutate(haplotype = ifelse((B1 == possible_b[i] & B2 == possible_b[i]), \n",
    "                             paste(\"Hom\"), \n",
    "                       ifelse(B1 == possible_b[i] | B2 == possible_b[i], \n",
    "                             paste(\"Het\"),\n",
    "                                  \"Other\")))\n",
    "p  <- df2   %>% group_by(Patient_ID, Disease, haplotype)  %>%     \n",
    "ggplot(aes(x = haplotype,\n",
    "             y = expression)) +\n",
    "   geom_dotplot(binaxis='y', stackdir='center', dotsize = 0) + \n",
    "   geom_boxplot(outlier.shape = NA) +\n",
    "    geom_jitter(binaxis='y', position=position_jitter(width = 0.1, height = 0.01), \n",
    "                size = 2, stackdir='center', aes(color = Disease)) + \n",
    "   # facet_wrap(~Disease) +\n",
    "  theme_classic() + xlab(\"\") +  \n",
    " xlab(\"\") + ylab(\"Value\") +\n",
    "   scale_y_continuous(expand = expansion(mult = c(0, 0.1))) +\n",
    "     scale_color_manual(values = c(\"dodgerblue\", \"indianred3\")) +\n",
    "  ggpubr::stat_compare_means(label.x = 1.2, label.y.npc = \"top\", size = 3.5, vjust = 0.3, label = \"p.format\") + \n",
    "      theme(plot.title = element_text(hjust = 0.5, size = 18),\n",
    "          axis.line = element_line(colour = \"black\"), \n",
    "            axis.text.x = element_text(angle = 90),\n",
    "        axis.ticks = element_line(colour = \"black\")) +\n",
    "  ylim(0,NA) + ggtitle(possible_b[i]) + NoLegend()\n",
    "    plot_list[[i]]  <- p\n",
    "           \n",
    "}"
   ]
  },
  {
   "cell_type": "code",
   "execution_count": null,
   "id": "58c59c21",
   "metadata": {
    "scrolled": true
   },
   "outputs": [],
   "source": [
    "options(repr.plot.width = 16, repr.plot.height = 9)\n",
    "cowplot::plot_grid(plotlist = plot_list, ncol = 8)"
   ]
  },
  {
   "cell_type": "markdown",
   "id": "bc4da896",
   "metadata": {},
   "source": [
    "### C\n"
   ]
  },
  {
   "cell_type": "code",
   "execution_count": null,
   "id": "663136c1",
   "metadata": {
    "scrolled": true
   },
   "outputs": [],
   "source": [
    "plot_list  <- list()\n",
    "for(i in 1:length(possible_c)){\n",
    "  \n",
    "options(repr.plot.width = 5, repr.plot.height = 4)\n",
    "\n",
    "df2  <-   count_all4  %>% filter(gene == \"BTN3A2\")  %>% \n",
    "    mutate(haplotype = ifelse((C1 == possible_c[i] & C2 == possible_c[i]), \n",
    "                             paste(\"Hom\"), \n",
    "                       ifelse(C1 == possible_c[i] | C2 == possible_c[i], \n",
    "                             paste(\"Het\"),\n",
    "                                  \"Other\")))\n",
    "p  <- df2   %>% group_by(Patient_ID, Disease, haplotype)   %>%     \n",
    "ggplot(aes(x = haplotype,\n",
    "             y = expression)) +\n",
    "   geom_dotplot(binaxis='y', stackdir='center', dotsize = 0) + \n",
    "   geom_boxplot(outlier.shape = NA) +\n",
    "    geom_jitter(binaxis='y', position=position_jitter(width = 0.1, height = 0.01), \n",
    "                size = 2, stackdir='center', aes(color = Disease)) + \n",
    "   # facet_wrap(~Disease) +\n",
    "  theme_classic() + xlab(\"\") +  \n",
    " xlab(\"\") + ylab(\"Value\") +\n",
    "   scale_y_continuous(expand = expansion(mult = c(0, 0.1))) +\n",
    "     scale_color_manual(values = c(\"dodgerblue\", \"indianred3\")) +\n",
    "  ggpubr::stat_compare_means(label.x = 1.2, label.y.npc = \"top\", size = 3.5, vjust = 0.3, label = \"p.format\") + \n",
    "      theme(plot.title = element_text(hjust = 0.5, size = 18),\n",
    "          axis.line = element_line(colour = \"black\"), \n",
    "            axis.text.x = element_text(angle = 90),\n",
    "        axis.ticks = element_line(colour = \"black\")) +\n",
    "  ylim(0,NA) + ggtitle(possible_c[i]) + NoLegend()\n",
    "    plot_list[[i]]  <- p\n",
    "           \n",
    "}"
   ]
  },
  {
   "cell_type": "code",
   "execution_count": null,
   "id": "6e31197a",
   "metadata": {
    "scrolled": true
   },
   "outputs": [],
   "source": [
    "options(repr.plot.width = 16, repr.plot.height = 6)\n",
    "cowplot::plot_grid(plotlist = plot_list, ncol = 8)"
   ]
  },
  {
   "cell_type": "markdown",
   "id": "08adc404",
   "metadata": {},
   "source": [
    "### DQA"
   ]
  },
  {
   "cell_type": "code",
   "execution_count": null,
   "id": "e225024d",
   "metadata": {},
   "outputs": [],
   "source": [
    "count_all4  %>% colnames"
   ]
  },
  {
   "cell_type": "code",
   "execution_count": null,
   "id": "c86713c0",
   "metadata": {
    "scrolled": true
   },
   "outputs": [],
   "source": [
    "plot_list  <- list()\n",
    "for(i in 1:length(possible_dqa)){\n",
    "  \n",
    "options(repr.plot.width = 5, repr.plot.height = 4)\n",
    "\n",
    "df2  <-   count_all4  %>% filter(gene == \"BTN3A2\")  %>% \n",
    "    mutate(haplotype = ifelse((DQA11 == possible_dqa[i] & DQA12 == possible_dqa[i]), \n",
    "                             paste(\"Hom\"), \n",
    "                       ifelse(DQA11 == possible_dqa[i] | DQA12 == possible_dqa[i], \n",
    "                             paste(\"Het\"),\n",
    "                                  \"Other\")))\n",
    "p  <- df2   %>% group_by(Patient_ID, Disease, haplotype) %>%     \n",
    "ggplot(aes(x = haplotype,\n",
    "             y = expression)) +\n",
    "   geom_dotplot(binaxis='y', stackdir='center', dotsize = 0) + \n",
    "   geom_boxplot(outlier.shape = NA) +\n",
    "    geom_jitter(binaxis='y', position=position_jitter(width = 0.1, height = 0.01), \n",
    "                size = 2, stackdir='center', aes(color = Disease)) + \n",
    "    facet_wrap(~Disease) +\n",
    "  theme_classic() + xlab(\"\") +  \n",
    " xlab(\"\") + ylab(\"Value\") +\n",
    "   scale_y_continuous(expand = expansion(mult = c(0, 0.1))) +\n",
    "     scale_color_manual(values = c(\"dodgerblue\", \"indianred3\")) +\n",
    "  ggpubr::stat_compare_means(label.x = 1.2, label.y.npc = \"top\", size = 3.5, vjust = 0.3, label = \"p.format\") + \n",
    "      theme(plot.title = element_text(hjust = 0.5, size = 18),\n",
    "          axis.line = element_line(colour = \"black\"), \n",
    "            axis.text.x = element_text(angle = 90),\n",
    "        axis.ticks = element_line(colour = \"black\")) +\n",
    "  ylim(0,NA) + ggtitle(possible_dqa[i]) + NoLegend()\n",
    "    plot_list[[i]]  <- p\n",
    "           \n",
    "}"
   ]
  },
  {
   "cell_type": "code",
   "execution_count": null,
   "id": "e7e8520b",
   "metadata": {
    "scrolled": true
   },
   "outputs": [],
   "source": [
    "options(repr.plot.width = 16, repr.plot.height = 3)\n",
    "cowplot::plot_grid(plotlist = plot_list, ncol = 8)"
   ]
  },
  {
   "cell_type": "code",
   "execution_count": null,
   "id": "e98668db",
   "metadata": {
    "scrolled": true
   },
   "outputs": [],
   "source": [
    "plot_list  <- list()\n",
    "for(i in 1:length(possible_dqb)){\n",
    "  \n",
    "options(repr.plot.width = 5, repr.plot.height = 4)\n",
    "\n",
    "df2  <-   count_all4  %>% filter(gene == \"BTN3A2\")  %>% \n",
    "    mutate(haplotype = ifelse((DQB11 == possible_dqb[i] & DQB12 == possible_dqb[i]), \n",
    "                             paste(\"Hom\"), \n",
    "                       ifelse(DQB11 == possible_dqb[i] | DQB12 == possible_dqb[i], \n",
    "                             paste(\"Het\"),\n",
    "                                  \"Other\")))\n",
    "p  <- df2   %>% group_by(Patient_ID, Disease, haplotype)   %>%     \n",
    "ggplot(aes(x = haplotype,\n",
    "             y = expression)) +\n",
    "   geom_dotplot(binaxis='y', stackdir='center', dotsize = 0) + \n",
    "   geom_boxplot(outlier.shape = NA) +\n",
    "    geom_jitter(binaxis='y', position=position_jitter(width = 0.1, height = 0.01), \n",
    "                size = 2, stackdir='center', aes(color = Disease)) + \n",
    "    facet_wrap(~Disease) +\n",
    "  theme_classic() + xlab(\"\") +  \n",
    " xlab(\"\") + ylab(\"Value\") +\n",
    "   scale_y_continuous(expand = expansion(mult = c(0, 0.1))) +\n",
    "     scale_color_manual(values = c(\"dodgerblue\", \"indianred3\")) +\n",
    "  ggpubr::stat_compare_means(label.x = 1.2, label.y.npc = \"top\", size = 3.5, vjust = 0.3, label = \"p.format\") + \n",
    "      theme(plot.title = element_text(hjust = 0.5, size = 18),\n",
    "          axis.line = element_line(colour = \"black\"), \n",
    "            axis.text.x = element_text(angle = 90),\n",
    "        axis.ticks = element_line(colour = \"black\")) +\n",
    "  ylim(0,NA) + ggtitle(possible_dqb[i]) + NoLegend()\n",
    "    plot_list[[i]]  <- p\n",
    "           \n",
    "}"
   ]
  },
  {
   "cell_type": "code",
   "execution_count": null,
   "id": "c9ebb185",
   "metadata": {
    "scrolled": true
   },
   "outputs": [],
   "source": [
    "options(repr.plot.width = 16, repr.plot.height = 3)\n",
    "cowplot::plot_grid(plotlist = plot_list, ncol = 8)"
   ]
  },
  {
   "cell_type": "code",
   "execution_count": null,
   "id": "bdfb1cf4",
   "metadata": {},
   "outputs": [],
   "source": []
  },
  {
   "cell_type": "code",
   "execution_count": null,
   "id": "9ce7ee18",
   "metadata": {},
   "outputs": [],
   "source": []
  },
  {
   "cell_type": "code",
   "execution_count": null,
   "id": "fa357a55",
   "metadata": {
    "scrolled": true
   },
   "outputs": [],
   "source": [
    "plot_list  <- list()\n",
    "for(i in 1:length(possible_drb)){\n",
    "  \n",
    "options(repr.plot.width = 5, repr.plot.height = 4)\n",
    "\n",
    "df2  <-   count_all4  %>% filter(gene == \"BTN3A2\")  %>% \n",
    "    mutate(haplotype = ifelse((DRB11 == possible_drb[i] & DRB12 == possible_drb[i]), \n",
    "                             paste(\"Hom\"), \n",
    "                       ifelse(DRB11 == possible_drb[i] | DRB12 == possible_drb[i], \n",
    "                             paste(\"Het\"),\n",
    "                                  \"Other\")))\n",
    "p  <- df2   %>% group_by(Patient_ID, Disease, haplotype)  %>%     \n",
    "ggplot(aes(x = haplotype,\n",
    "             y = expression)) +\n",
    "   geom_dotplot(binaxis='y', stackdir='center', dotsize = 0) + \n",
    "   geom_boxplot(outlier.shape = NA) +\n",
    "    geom_jitter(binaxis='y', position=position_jitter(width = 0.1, height = 0.01), \n",
    "                size = 2, stackdir='center', aes(color = Disease)) + \n",
    "    facet_wrap(~Disease) +\n",
    "  theme_classic() + xlab(\"\") +  \n",
    " xlab(\"\") + ylab(\"Value\") +\n",
    "   scale_y_continuous(expand = expansion(mult = c(0, 0.1))) +\n",
    "     scale_color_manual(values = c(\"dodgerblue\", \"indianred3\")) +\n",
    "  ggpubr::stat_compare_means(label.x = 1.2, label.y.npc = \"top\", size = 3.5, vjust = 0.3, label = \"p.format\") + \n",
    "      theme(plot.title = element_text(hjust = 0.5, size = 18),\n",
    "          axis.line = element_line(colour = \"black\"), \n",
    "            axis.text.x = element_text(angle = 90),\n",
    "        axis.ticks = element_line(colour = \"black\")) +\n",
    "  ylim(0,NA) + ggtitle(possible_drb[i]) + NoLegend()\n",
    "    plot_list[[i]]  <- p\n",
    "           \n",
    "}"
   ]
  },
  {
   "cell_type": "code",
   "execution_count": null,
   "id": "ba51fd11",
   "metadata": {
    "scrolled": true
   },
   "outputs": [],
   "source": [
    "options(repr.plot.width = 18, repr.plot.height = 6)\n",
    "cowplot::plot_grid(plotlist = plot_list, ncol = 9)"
   ]
  },
  {
   "cell_type": "markdown",
   "id": "b7835436",
   "metadata": {},
   "source": [
    "### DF for cross study comparison"
   ]
  },
  {
   "cell_type": "code",
   "execution_count": null,
   "id": "8a61022d",
   "metadata": {},
   "outputs": [],
   "source": [
    "count_all5  <- count_all4  "
   ]
  },
  {
   "cell_type": "code",
   "execution_count": null,
   "id": "253f0edf",
   "metadata": {
    "scrolled": true
   },
   "outputs": [],
   "source": [
    "count_all5"
   ]
  },
  {
   "cell_type": "code",
   "execution_count": null,
   "id": "17eda670",
   "metadata": {},
   "outputs": [],
   "source": [
    "count_all5$expression"
   ]
  },
  {
   "cell_type": "code",
   "execution_count": null,
   "id": "3eb1867b",
   "metadata": {},
   "outputs": [],
   "source": [
    "count_all5$expression_scale  <-  2/(max(count_all5$expression)-min(count_all5$expression))*(count_all5$expression-max(count_all5$expression))+1"
   ]
  },
  {
   "cell_type": "code",
   "execution_count": null,
   "id": "d7c67794",
   "metadata": {
    "scrolled": true
   },
   "outputs": [],
   "source": [
    "max(count_all5$expression_scale)"
   ]
  },
  {
   "cell_type": "code",
   "execution_count": null,
   "id": "16cf077e",
   "metadata": {},
   "outputs": [],
   "source": [
    "min(count_all5$expression_scale)"
   ]
  },
  {
   "cell_type": "code",
   "execution_count": null,
   "id": "8aa7d722",
   "metadata": {},
   "outputs": [],
   "source": [
    "scale_exp_newman  <- count_all5"
   ]
  },
  {
   "cell_type": "code",
   "execution_count": null,
   "id": "ff8b6a7a",
   "metadata": {},
   "outputs": [],
   "source": [
    "scale_exp_newman$study  <- \"Newman\""
   ]
  },
  {
   "cell_type": "code",
   "execution_count": null,
   "id": "41df58d7",
   "metadata": {},
   "outputs": [],
   "source": []
  },
  {
   "cell_type": "markdown",
   "id": "2fba66ac",
   "metadata": {},
   "source": [
    "# Comparison HLA across Study"
   ]
  },
  {
   "cell_type": "code",
   "execution_count": null,
   "id": "2068aa15",
   "metadata": {
    "scrolled": true
   },
   "outputs": [],
   "source": [
    "scale_exp_kallionpaa$Disease  <- ifelse(grepl(scale_exp_kallionpaa$Patient_ID, pattern = \"Case\"), \"Dia\", \"Ctrl\")"
   ]
  },
  {
   "cell_type": "code",
   "execution_count": null,
   "id": "bbbf1c2f",
   "metadata": {
    "scrolled": true
   },
   "outputs": [],
   "source": [
    "colnames(scale_exp_lab48)  <- gsub(colnames(scale_exp_lab48), pattern = \"HLA_\", replacement = \"\")"
   ]
  },
  {
   "cell_type": "code",
   "execution_count": null,
   "id": "ba4dc3b2",
   "metadata": {},
   "outputs": [],
   "source": [
    "scale_exp_hpap2  <- scale_exp_hpap  %>% ungroup  %>% dplyr::select(A1, A2, B1, B2, C1, C2, DQA11, DQA12, DQB11, DQB12, DRA1, DRA2, DRB11, DRB12,\n",
    "                                                    expression_scale, Disease, study)\n",
    "scale_exp_kallionpaa2  <- scale_exp_kallionpaa  %>% ungroup  %>%  dplyr::select(A1, A2, B1, B2, C1, C2, DQA11, DQA12, DQB11, DQB12, DRA1, DRA2, DRB11, DRB12,\n",
    "                                                    expression_scale, Disease, study)  \n",
    "scale_exp_lab482  <- scale_exp_lab48  %>% ungroup  %>% dplyr::select(A1, A2, B1, B2, C1, C2, DQA11, DQA12, DQB11, DQB12, DRA1, DRA2, DRB11, DRB12,\n",
    "                                                    expression_scale, Disease, study)\n",
    "scale_exp_newman2  <- scale_exp_newman  %>% ungroup  %>% dplyr::select(A1, A2, B1, B2, C1, C2, DQA11, DQA12, DQB11, DQB12, DRA1, DRA2, DRB11, DRB12,\n",
    "                                                    expression_scale, Disease, study)\n"
   ]
  },
  {
   "cell_type": "code",
   "execution_count": null,
   "id": "8dd2e986",
   "metadata": {},
   "outputs": [],
   "source": [
    "scale_exp_transimmunome2  <- scale_exp_transimmunome  %>% ungroup  %>% dplyr::select(A1, A2, B1, B2, C1, C2, DQA11, DQA12, DQB11, DQB12, DRA1, DRA2, DRB11, DRB12,\n",
    "                                                    expression_scale, Disease, study)"
   ]
  },
  {
   "cell_type": "code",
   "execution_count": null,
   "id": "c539fa9f",
   "metadata": {},
   "outputs": [],
   "source": [
    "all_exp  <- rbind(scale_exp_hpap2, scale_exp_kallionpaa2, scale_exp_lab482, scale_exp_transimmunome2, scale_exp_newman2)"
   ]
  },
  {
   "cell_type": "code",
   "execution_count": null,
   "id": "ec59ee14",
   "metadata": {
    "scrolled": true
   },
   "outputs": [],
   "source": [
    "all_exp"
   ]
  },
  {
   "cell_type": "code",
   "execution_count": null,
   "id": "e3584fff",
   "metadata": {},
   "outputs": [],
   "source": [
    "options(repr.plot.width = 6, repr.plot.height = 5)\n",
    "\n",
    "all_exp   %>%   \n",
    "ggplot(aes(x = Disease,\n",
    "             y = expression_scale)) +\n",
    "   geom_dotplot(binaxis='y', stackdir='center', dotsize = 0) + \n",
    "   geom_boxplot(outlier.shape = NA) +\n",
    "    geom_jitter(binaxis='y', position=position_jitter(width = 0.1, height = 0.01), \n",
    "                size = 2, stackdir='center', aes(color = study)) + \n",
    "  theme_classic() + xlab(\"\") +  \n",
    " xlab(\"\") + ylab(\"Value\") +\n",
    "   scale_y_continuous(expand = expansion(mult = c(0, 0.1))) +\n",
    "    # scale_color_manual(values = c(\"dodgerblue\", \"indianred3\")) +\n",
    "  ggpubr::stat_compare_means(label.x = 1.2, label.y.npc = \"top\", size = 3.5, vjust = 0.3, label = \"p.format\") + \n",
    "      theme(plot.title = element_text(hjust = 0.5, size = 18),\n",
    "          axis.line = element_line(colour = \"black\"), \n",
    "            axis.text.x = element_text(angle = 0),\n",
    "        axis.ticks = element_line(colour = \"black\")) +\n",
    "  ggtitle(\"BTN3A2 by disease\")"
   ]
  },
  {
   "cell_type": "code",
   "execution_count": null,
   "id": "16d027fb",
   "metadata": {},
   "outputs": [],
   "source": [
    "options(repr.plot.width = 6, repr.plot.height = 5)\n",
    "\n",
    "all_exp   %>%   \n",
    "ggplot(aes(x = Disease,\n",
    "             y = expression_scale)) +\n",
    "   geom_dotplot(binaxis='y', stackdir='center', dotsize = 0) + \n",
    "   geom_boxplot(outlier.shape = NA) +\n",
    "    geom_jitter(binaxis='y', position=position_jitter(width = 0.1, height = 0.01), \n",
    "                size = 2, stackdir='center', aes(color = study)) + \n",
    "  theme_classic() + xlab(\"\") +  \n",
    " xlab(\"\") + ylab(\"Value\") +\n",
    "   scale_y_continuous(expand = expansion(mult = c(0, 0.1))) +\n",
    "    # scale_color_manual(values = c(\"dodgerblue\", \"indianred3\")) +\n",
    "  ggpubr::stat_compare_means(label.x = 1.2, label.y.npc = \"top\", size = 3.5, vjust = 0.3, label = \"p.format\") + \n",
    "      theme(plot.title = element_text(hjust = 0.5, size = 18),\n",
    "          axis.line = element_line(colour = \"black\"), \n",
    "            axis.text.x = element_text(angle = 0),\n",
    "        axis.ticks = element_line(colour = \"black\")) +\n",
    "  ggtitle(\"BTN3A2 by disease\")"
   ]
  },
  {
   "cell_type": "code",
   "execution_count": null,
   "id": "1d3f8aca",
   "metadata": {},
   "outputs": [],
   "source": [
    "possible_a  <- unique(c(all_exp$A1, all_exp$A2))\n",
    "possible_b <- unique(c(all_exp$B1, all_exp$B2))\n",
    "possible_c <- unique(c(all_exp$C1, all_exp$C2))\n",
    "possible_dqa <- unique(c(all_exp$DQA11, all_exp$DQA12))\n",
    "possible_dqb <- unique(c(all_exp$DQB11, all_exp$DQB12))\n",
    "possible_dra <- unique(c(all_exp$DRA1, all_exp$DRA2))\n",
    "possible_drb <- unique(c(all_exp$DRB11, all_exp$DRB12))\n",
    "\n",
    "possible_a  <- possible_a[!is.na(possible_a)]\n",
    "possible_b <- possible_b[!is.na(possible_b)]\n",
    "possible_c <- possible_c[!is.na(possible_c)]\n",
    "possible_dqa <- possible_dqa[!is.na(possible_dqa)]\n",
    "possible_dqb <- possible_dqb[!is.na(possible_dqb)]\n",
    "possible_dra <- possible_dra[!is.na(possible_dra)]\n",
    "possible_drb <- possible_drb[!is.na(possible_drb)]"
   ]
  },
  {
   "cell_type": "markdown",
   "id": "70ebffc8",
   "metadata": {},
   "source": [
    "### A"
   ]
  },
  {
   "cell_type": "code",
   "execution_count": null,
   "id": "305f8dc8",
   "metadata": {},
   "outputs": [],
   "source": [
    "possible_a"
   ]
  },
  {
   "cell_type": "code",
   "execution_count": null,
   "id": "08790b91",
   "metadata": {},
   "outputs": [],
   "source": [
    "plot_list  <- list()"
   ]
  },
  {
   "cell_type": "code",
   "execution_count": null,
   "id": "89ac01cd",
   "metadata": {
    "scrolled": true
   },
   "outputs": [],
   "source": [
    "for(i in 1:length(possible_a)){\n",
    "  \n",
    "options(repr.plot.width = 5, repr.plot.height = 4)\n",
    "\n",
    "df2  <-   all_exp   %>% \n",
    "    mutate(haplotype = ifelse((A1 == possible_a[i] & A2 == possible_a[i]), \n",
    "                             paste(\"Hom\"), \n",
    "                       ifelse(A1 == possible_a[i] | A2 == possible_a[i], \n",
    "                             paste(\"Het\"),\n",
    "                                  \"Other\")))\n",
    "p  <- df2   %>%    \n",
    "ggplot(aes(x = factor(haplotype, levels = c(\"Hom\", \"Het\",\"Other\")),\n",
    "             y = expression_scale)) +\n",
    "   geom_dotplot(binaxis='y', stackdir='center', dotsize = 0) + \n",
    "   geom_boxplot(outlier.shape = NA) +\n",
    "    geom_jitter(binaxis='y', position=position_jitter(width = 0.1, height = 0.01), \n",
    "                size = 2, stackdir='center', aes(color = Disease)) + \n",
    "  #  facet_wrap(~Disease) +\n",
    "  theme_classic() + xlab(\"\") +  \n",
    " xlab(\"\") + ylab(\"Value\") +\n",
    "   scale_y_continuous(expand = expansion(mult = c(0, 0.1))) +\n",
    "    #  scale_color_manual(values = c(\"dodgerblue\", \"indianred3\")) +\n",
    "  ggpubr::stat_compare_means(label.x = 1.2, label.y.npc = \"top\", size = 3.5, vjust = 0.3, label = \"p.format\") + \n",
    "      theme(plot.title = element_text(hjust = 0.5, size = 18),\n",
    "          axis.line = element_line(colour = \"black\"), \n",
    "            axis.text.x = element_text(angle = 90),\n",
    "        axis.ticks = element_line(colour = \"black\")) +\n",
    "   ggtitle(possible_a[i]) + NoLegend()\n",
    "     plot_list[[i]]  <- p       \n",
    "}"
   ]
  },
  {
   "cell_type": "code",
   "execution_count": null,
   "id": "54f86aa8",
   "metadata": {
    "scrolled": true
   },
   "outputs": [],
   "source": [
    "options(repr.plot.width = 14, repr.plot.height = 16)\n",
    "cowplot::plot_grid(plotlist = plot_list, ncol = 8)"
   ]
  },
  {
   "cell_type": "markdown",
   "id": "b4cc5f0f",
   "metadata": {},
   "source": [
    "### B"
   ]
  },
  {
   "cell_type": "code",
   "execution_count": null,
   "id": "b8eb3a24",
   "metadata": {
    "scrolled": true
   },
   "outputs": [],
   "source": [
    "plot_list  <- list()\n",
    "for(i in 1:length(possible_b)){\n",
    "  \n",
    "options(repr.plot.width = 5, repr.plot.height = 4)\n",
    "\n",
    "df2  <-   all_exp   %>% \n",
    "    mutate(haplotype = ifelse((B1 == possible_b[i] & B2 == possible_b[i]), \n",
    "                             paste(\"Hom\"), \n",
    "                       ifelse(B1 == possible_b[i] | B2 == possible_b[i], \n",
    "                             paste(\"Het\"),\n",
    "                                  \"Other\")))\n",
    "p  <- df2   %>%    \n",
    "ggplot(aes(x = factor(haplotype, levels = c(\"Hom\", \"Het\",\"Other\")),\n",
    "             y = expression_scale)) +\n",
    "   geom_dotplot(binaxis='y', stackdir='center', dotsize = 0) + \n",
    "   geom_boxplot(outlier.shape = NA) +\n",
    "    geom_jitter(binaxis='y', position=position_jitter(width = 0.1, height = 0.01), \n",
    "                size = 2, stackdir='center', aes(color = Disease)) + \n",
    "   # facet_wrap(~Disease) +\n",
    "  theme_classic() + xlab(\"\") +  \n",
    " xlab(\"\") + ylab(\"Value\") +\n",
    "   scale_y_continuous(expand = expansion(mult = c(0, 0.1))) +\n",
    "    #  scale_color_manual(values = c(\"dodgerblue\", \"indianred3\")) +\n",
    "  ggpubr::stat_compare_means(label.x = 1.2, label.y.npc = \"top\", size = 3.5, vjust = 0.3, label = \"p.format\") + \n",
    "      theme(plot.title = element_text(hjust = 0.5, size = 18),\n",
    "          axis.line = element_line(colour = \"black\"), \n",
    "            axis.text.x = element_text(angle = 90),\n",
    "        axis.ticks = element_line(colour = \"black\")) +\n",
    "   ggtitle(possible_b[i]) + NoLegend()\n",
    "    plot_list[[i]]  <- p\n",
    "           \n",
    "}"
   ]
  },
  {
   "cell_type": "code",
   "execution_count": null,
   "id": "089ec380",
   "metadata": {
    "scrolled": true
   },
   "outputs": [],
   "source": [
    "options(repr.plot.width = 14, repr.plot.height = 16)\n",
    "cowplot::plot_grid(plotlist = plot_list, ncol = 8)"
   ]
  },
  {
   "cell_type": "markdown",
   "id": "9b46a6ea",
   "metadata": {},
   "source": [
    "### C\n"
   ]
  },
  {
   "cell_type": "code",
   "execution_count": null,
   "id": "fe80a13f",
   "metadata": {
    "scrolled": true
   },
   "outputs": [],
   "source": [
    "plot_list  <- list()\n",
    "for(i in 1:length(possible_c)){\n",
    "  \n",
    "options(repr.plot.width = 5, repr.plot.height = 4)\n",
    "\n",
    "df2  <-   all_exp   %>% \n",
    "    mutate(haplotype = ifelse((C1 == possible_c[i] & C2 == possible_c[i]), \n",
    "                             paste(\"Hom\"), \n",
    "                       ifelse(C1 == possible_c[i] | C2 == possible_c[i], \n",
    "                             paste(\"Het\"),\n",
    "                                  \"Other\")))\n",
    "p  <- df2   %>% group_by(Disease, haplotype)   %>%     \n",
    "ggplot(aes(x = factor(haplotype, levels = c(\"Hom\", \"Het\",\"Other\")),\n",
    "             y = expression_scale)) +\n",
    "   geom_dotplot(binaxis='y', stackdir='center', dotsize = 0) + \n",
    "   geom_boxplot(outlier.shape = NA) +\n",
    "    geom_jitter(binaxis='y', position=position_jitter(width = 0.1, height = 0.01), \n",
    "                size = 2, stackdir='center', aes(color = Disease)) + \n",
    "   # facet_wrap(~Disease) +\n",
    "  theme_classic() + xlab(\"\") +  \n",
    " xlab(\"\") + ylab(\"Value\") +\n",
    "   scale_y_continuous(expand = expansion(mult = c(0, 0.1))) +\n",
    "    #  scale_color_manual(values = c(\"dodgerblue\", \"indianred3\")) +\n",
    "  ggpubr::stat_compare_means(label.x = 1.2, label.y.npc = \"top\", size = 3.5, vjust = 0.3, label = \"p.format\") + \n",
    "      theme(plot.title = element_text(hjust = 0.5, size = 18),\n",
    "          axis.line = element_line(colour = \"black\"), \n",
    "            axis.text.x = element_text(angle = 90),\n",
    "        axis.ticks = element_line(colour = \"black\")) + NoLegend() +\n",
    "   ggtitle(possible_c[i]) \n",
    "    plot_list[[i]]  <- p\n",
    "           \n",
    "}"
   ]
  },
  {
   "cell_type": "code",
   "execution_count": null,
   "id": "6f23693f",
   "metadata": {
    "scrolled": true
   },
   "outputs": [],
   "source": [
    "options(repr.plot.width = 16, repr.plot.height = 16)\n",
    "cowplot::plot_grid(plotlist = plot_list, ncol = 8)"
   ]
  },
  {
   "cell_type": "code",
   "execution_count": null,
   "id": "c0726e21",
   "metadata": {},
   "outputs": [],
   "source": []
  },
  {
   "cell_type": "markdown",
   "id": "418bc90a",
   "metadata": {},
   "source": [
    "### DQA"
   ]
  },
  {
   "cell_type": "code",
   "execution_count": null,
   "id": "da8fca3a",
   "metadata": {},
   "outputs": [],
   "source": [
    "all_exp  %>% colnames"
   ]
  },
  {
   "cell_type": "code",
   "execution_count": null,
   "id": "46db2f36",
   "metadata": {
    "scrolled": true
   },
   "outputs": [],
   "source": [
    "plot_list  <- list()\n",
    "for(i in 1:length(possible_dqa)){\n",
    "  \n",
    "options(repr.plot.width = 5, repr.plot.height = 4)\n",
    "\n",
    "df2  <-   all_exp   %>% \n",
    "         dplyr::filter(!is.na(DQA11)&!is.na(DQA12))  %>% \n",
    "    mutate(haplotype = ifelse((DQA11 == possible_dqa[i] & DQA12 == possible_dqa[i]), \n",
    "                             paste(\"Hom\"), \n",
    "                       ifelse(DQA11 == possible_dqa[i] | DQA12 == possible_dqa[i], \n",
    "                             paste(\"Het\"),\n",
    "                                  \"Other\")))\n",
    "p  <- df2   %>% group_by(Disease, haplotype) %>%     \n",
    "ggplot(aes(x = factor(haplotype, levels = c(\"Hom\", \"Het\",\"Other\")),\n",
    "             y = expression_scale)) +\n",
    "   geom_dotplot(binaxis='y', stackdir='center', dotsize = 0) + \n",
    "   geom_boxplot(outlier.shape = NA) +\n",
    "    geom_jitter(binaxis='y', position=position_jitter(width = 0.1, height = 0.01), \n",
    "                size = 2, stackdir='center', aes(color = Disease)) + \n",
    "  #  facet_wrap(~Disease) +\n",
    "  theme_classic() + xlab(\"\") +  \n",
    " xlab(\"\") + ylab(\"Value\") +\n",
    "   scale_y_continuous(expand = expansion(mult = c(0, 0.1))) +\n",
    "    #  scale_color_manual(values = c(\"dodgerblue\", \"indianred3\")) +\n",
    "  ggpubr::stat_compare_means(label.x = 1.2, label.y.npc = \"top\", size = 3.5, vjust = 0.3, label = \"p.format\") + \n",
    "      theme(plot.title = element_text(hjust = 0.5, size = 18),\n",
    "          axis.line = element_line(colour = \"black\"), \n",
    "            axis.text.x = element_text(angle = 90),\n",
    "        axis.ticks = element_line(colour = \"black\")) +\n",
    "   ggtitle(possible_dqa[i]) + NoLegend()\n",
    "    plot_list[[i]]  <- p\n",
    "           \n",
    "}"
   ]
  },
  {
   "cell_type": "code",
   "execution_count": null,
   "id": "aa92ef48",
   "metadata": {
    "scrolled": true
   },
   "outputs": [],
   "source": [
    "options(repr.plot.width = 14, repr.plot.height = 16)\n",
    "cowplot::plot_grid(plotlist = plot_list, ncol = 8)"
   ]
  },
  {
   "cell_type": "markdown",
   "id": "a4e50740",
   "metadata": {},
   "source": [
    "### DQB"
   ]
  },
  {
   "cell_type": "code",
   "execution_count": null,
   "id": "3a80ec2f",
   "metadata": {
    "scrolled": true
   },
   "outputs": [],
   "source": [
    "plot_list  <- list()\n",
    "for(i in 1:length(possible_dqb)){\n",
    "  \n",
    "options(repr.plot.width = 5, repr.plot.height = 4)\n",
    "\n",
    "df2  <-   all_exp   %>% \n",
    "    dplyr::filter(!is.na(DQB11)&!is.na(DQB12))  %>% \n",
    "    mutate(haplotype = ifelse((DQB11 == possible_dqb[i] & DQB12 == possible_dqb[i]), \n",
    "                             paste(\"Hom\"), \n",
    "                       ifelse(DQB11 == possible_dqb[i] | DQB12 == possible_dqb[i], \n",
    "                             paste(\"Het\"),\n",
    "                                  \"Other\")))\n",
    "p  <- df2   %>% group_by(Disease, haplotype)   %>%     \n",
    "ggplot(aes(x = factor(haplotype, levels = c(\"Hom\", \"Het\",\"Other\")),\n",
    "             y = expression_scale)) +\n",
    "   geom_dotplot(binaxis='y', stackdir='center', dotsize = 0) + \n",
    "   geom_boxplot(outlier.shape = NA) +\n",
    "    geom_jitter(binaxis='y', position=position_jitter(width = 0.1, height = 0.01), \n",
    "                size = 2, stackdir='center', aes(color = Disease)) + \n",
    "   # facet_wrap(~Disease) +\n",
    "  theme_classic() + xlab(\"\") +  \n",
    " xlab(\"\") + ylab(\"Value\") +\n",
    "   scale_y_continuous(expand = expansion(mult = c(0, 0.1))) +\n",
    "    #  scale_color_manual(values = c(\"dodgerblue\", \"indianred3\")) +\n",
    "  ggpubr::stat_compare_means(label.x = 1.2, label.y.npc = \"top\", size = 3.5, vjust = 0.3, label = \"p.format\") + \n",
    "      theme(plot.title = element_text(hjust = 0.5, size = 18),\n",
    "          axis.line = element_line(colour = \"black\"), \n",
    "            axis.text.x = element_text(angle = 90),\n",
    "        axis.ticks = element_line(colour = \"black\")) +\n",
    "   ggtitle(possible_dqb[i]) + NoLegend()\n",
    "    plot_list[[i]]  <- p\n",
    "           \n",
    "}"
   ]
  },
  {
   "cell_type": "code",
   "execution_count": null,
   "id": "e4d27a69",
   "metadata": {
    "scrolled": true
   },
   "outputs": [],
   "source": [
    "options(repr.plot.width = 14, repr.plot.height = 4.5)\n",
    "cowplot::plot_grid(plotlist = plot_list, ncol = 8)"
   ]
  },
  {
   "cell_type": "code",
   "execution_count": null,
   "id": "959c66c2",
   "metadata": {},
   "outputs": [],
   "source": []
  },
  {
   "cell_type": "markdown",
   "id": "edc2b4bf",
   "metadata": {},
   "source": [
    "### DRB"
   ]
  },
  {
   "cell_type": "code",
   "execution_count": null,
   "id": "828c8b1c",
   "metadata": {
    "scrolled": true
   },
   "outputs": [],
   "source": [
    "plot_list  <- list()\n",
    "for(i in 1:length(possible_drb)){\n",
    "  \n",
    "options(repr.plot.width = 5, repr.plot.height = 4)\n",
    "\n",
    "df2  <-   all_exp   %>%\n",
    "        dplyr::filter(!is.na(DRB11)&!is.na(DRB12))  %>% \n",
    "\n",
    "    mutate(haplotype = ifelse((DRB11 == possible_drb[i] & DRB12 == possible_drb[i]), \n",
    "                             paste(\"Hom\"), \n",
    "                       ifelse(DRB11 == possible_drb[i] | DRB12 == possible_drb[i], \n",
    "                             paste(\"Het\"),\n",
    "                                  \"Other\")))\n",
    "p  <- df2   %>%    \n",
    "ggplot(aes(x = factor(haplotype, levels = c(\"Hom\", \"Het\",\"Other\")),\n",
    "             y = expression_scale)) +\n",
    "   geom_dotplot(binaxis='y', stackdir='center', dotsize = 0) + \n",
    "   geom_boxplot(outlier.shape = NA) +\n",
    "    geom_jitter(binaxis='y', position=position_jitter(width = 0.1, height = 0.01), \n",
    "                size = 2, stackdir='center', aes(color = Disease)) + \n",
    "    # facet_wrap(~Disease) +\n",
    "  theme_classic() + xlab(\"\") +  \n",
    " xlab(\"\") + ylab(\"Value\") +\n",
    "   scale_y_continuous(expand = expansion(mult = c(0, 0.1))) +\n",
    "    #  scale_color_manual(values = c(\"dodgerblue\", \"indianred3\")) +\n",
    "  ggpubr::stat_compare_means(label.x = 1.2, label.y.npc = \"top\", size = 3.5, vjust = 0.3, label = \"p.format\") + \n",
    "      theme(plot.title = element_text(hjust = 0.5, size = 18),\n",
    "          axis.line = element_line(colour = \"black\"), \n",
    "            axis.text.x = element_text(angle = 90),\n",
    "        axis.ticks = element_line(colour = \"black\")) +\n",
    "   ggtitle(possible_drb[i]) + NoLegend()\n",
    "    plot_list[[i]]  <- p\n",
    "           \n",
    "}"
   ]
  },
  {
   "cell_type": "code",
   "execution_count": null,
   "id": "46bb7142",
   "metadata": {
    "scrolled": true
   },
   "outputs": [],
   "source": [
    "options(repr.plot.width = 18, repr.plot.height = 24)\n",
    "cowplot::plot_grid(plotlist = plot_list, ncol = 9)"
   ]
  },
  {
   "cell_type": "markdown",
   "id": "d18b407f",
   "metadata": {},
   "source": [
    "## Heatmap Het+ Homoz. "
   ]
  },
  {
   "cell_type": "code",
   "execution_count": null,
   "id": "277ca911",
   "metadata": {},
   "outputs": [],
   "source": [
    "for(i in 1:length(possible_drb)){\n",
    "  \n",
    "df2  <-   all_exp   %>% \n",
    "            dplyr::filter(!is.na(DRB11)&!is.na(DRB12))  %>% \n",
    "    mutate(haplotype = ifelse((DRB11 == possible_drb[i] & DRB12 == possible_drb[i]), \n",
    "                             paste(\"Allele+\"), \n",
    "                       ifelse(DRB11 == possible_drb[i] | DRB12 == possible_drb[i], \n",
    "                             paste(\"Allele+\"),\n",
    "                                  \"Allele-\")))\n",
    "    \n",
    "wcx = wilcox.test(df2$expression_scale ~ df2$haplotype, conf.int = T)\n",
    "    \n",
    "    \n",
    "    df3  <- data.frame(allele = possible_drb[i],\n",
    "                       pval = wcx$p.value,\n",
    "                      ci_upper = wcx$conf.int[1],\n",
    "                      ci_lower = wcx$conf.int[2],\n",
    "                       estimate = wcx$estimate)\n",
    "\n",
    " if(i == 1){\n",
    "     df_all  <- df3\n",
    " } else {\n",
    "     df_all  <- rbind(df_all, df3)\n",
    " }   \n",
    "}"
   ]
  },
  {
   "cell_type": "code",
   "execution_count": null,
   "id": "b9daf36f",
   "metadata": {
    "scrolled": true
   },
   "outputs": [],
   "source": [
    "df_all  %>% arrange(pval)"
   ]
  },
  {
   "cell_type": "code",
   "execution_count": null,
   "id": "d924ec53",
   "metadata": {},
   "outputs": [],
   "source": [
    "for(i in 1:length(possible_a)){\n",
    "  \n",
    "df2  <-   all_exp   %>% \n",
    "    mutate(haplotype = ifelse((A1 == possible_a[i] & A2 == possible_a[i]), \n",
    "                             paste(\"Allele+\"), \n",
    "                       ifelse(A1 == possible_a[i] | A2 == possible_a[i], \n",
    "                             paste(\"Allele+\"),\n",
    "                                  \"Allele-\")))\n",
    "    \n",
    "wcx = wilcox.test(df2$expression_scale ~ df2$haplotype, conf.int = T)\n",
    "    \n",
    "    \n",
    "    df3  <- data.frame(allele = possible_a[i],\n",
    "                       pval = wcx$p.value,\n",
    "                      ci_upper = wcx$conf.int[1],\n",
    "                      ci_lower = wcx$conf.int[2],\n",
    "                       estimate = wcx$estimate)\n",
    "\n",
    "     df_all  <- rbind(df_all, df3)\n",
    "\n",
    "}"
   ]
  },
  {
   "cell_type": "code",
   "execution_count": null,
   "id": "82e84581",
   "metadata": {},
   "outputs": [],
   "source": [
    "for(i in 1:length(possible_b)){\n",
    "  \n",
    "df2  <-   all_exp   %>% \n",
    "    mutate(haplotype = ifelse((B1 == possible_b[i] & B2 == possible_b[i]), \n",
    "                             paste(\"Allele+\"), \n",
    "                       ifelse(B1 == possible_b[i] | B2 == possible_b[i], \n",
    "                             paste(\"Allele+\"),\n",
    "                                  \"Allele-\")))\n",
    "    \n",
    "wcx = wilcox.test(df2$expression_scale ~ df2$haplotype, conf.int = T)\n",
    "    \n",
    "    \n",
    "    df3  <- data.frame(allele = possible_b[i],\n",
    "                       pval = wcx$p.value,\n",
    "                      ci_upper = wcx$conf.int[1],\n",
    "                      ci_lower = wcx$conf.int[2],\n",
    "                       estimate = wcx$estimate)\n",
    "\n",
    "     df_all  <- rbind(df_all, df3)\n",
    "\n",
    "}"
   ]
  },
  {
   "cell_type": "code",
   "execution_count": null,
   "id": "380279e6",
   "metadata": {},
   "outputs": [],
   "source": [
    "for(i in 1:length(possible_c)){\n",
    "  \n",
    "df2  <-   all_exp   %>% \n",
    "    mutate(haplotype = ifelse((C1 == possible_c[i] & C2 == possible_c[i]), \n",
    "                             paste(\"Allele+\"), \n",
    "                       ifelse(C1 == possible_c[i] | C2 == possible_c[i], \n",
    "                             paste(\"Allele+\"),\n",
    "                                  \"Allele-\")))\n",
    "    \n",
    "wcx = wilcox.test(df2$expression_scale ~ df2$haplotype, conf.int = T)\n",
    "    \n",
    "    \n",
    "    df3  <- data.frame(allele = possible_c[i],\n",
    "                       pval = wcx$p.value,\n",
    "                      ci_upper = wcx$conf.int[1],\n",
    "                      ci_lower = wcx$conf.int[2],\n",
    "                       estimate = wcx$estimate)\n",
    "\n",
    "     df_all  <- rbind(df_all, df3)\n",
    "\n",
    "}"
   ]
  },
  {
   "cell_type": "code",
   "execution_count": null,
   "id": "0d431ff2",
   "metadata": {},
   "outputs": [],
   "source": [
    "for(i in 1:length(possible_dqa)){\n",
    "  \n",
    "df2  <-   all_exp   %>% \n",
    "        dplyr::filter(!is.na(DQA11)&!is.na(DQA12))  %>% \n",
    "    mutate(haplotype = ifelse((DQA11 == possible_dqa[i] & DQA12 == possible_dqa[i]), \n",
    "                             paste(\"Allele+\"), \n",
    "                       ifelse(DQA11 == possible_dqa[i] | DQA12 == possible_dqa[i], \n",
    "                             paste(\"Allele+\"),\n",
    "                                  \"Allele-\")))\n",
    "    \n",
    "wcx = wilcox.test(df2$expression_scale ~ df2$haplotype, conf.int = T)\n",
    "    \n",
    "    \n",
    "    df3  <- data.frame(allele = possible_dqa[i],\n",
    "                       pval = wcx$p.value,\n",
    "                      ci_upper = wcx$conf.int[1],\n",
    "                      ci_lower = wcx$conf.int[2],\n",
    "                       estimate = wcx$estimate)\n",
    "\n",
    "     df_all  <- rbind(df_all, df3)\n",
    "\n",
    "}"
   ]
  },
  {
   "cell_type": "code",
   "execution_count": null,
   "id": "bfd12067",
   "metadata": {},
   "outputs": [],
   "source": [
    "for(i in 1:length(possible_dqb)){\n",
    "  \n",
    "df2  <-   all_exp   %>% \n",
    "        dplyr::filter(!is.na(DQB11)&!is.na(DQB12))  %>% \n",
    "    mutate(haplotype = ifelse((DQB11 == possible_dqb[i] & DQB12 == possible_dqb[i]), \n",
    "                             paste(\"Allele+\"), \n",
    "                       ifelse(DQB11 == possible_dqb[i] | DQB12 == possible_dqb[i], \n",
    "                             paste(\"Allele+\"),\n",
    "                                  \"Allele-\")))\n",
    "    \n",
    "wcx = wilcox.test(df2$expression_scale ~ df2$haplotype, conf.int = T)\n",
    "    \n",
    "    \n",
    "    df3  <- data.frame(allele = possible_dqb[i],\n",
    "                       pval = wcx$p.value,\n",
    "                      ci_upper = wcx$conf.int[1],\n",
    "                      ci_lower = wcx$conf.int[2],\n",
    "                       estimate = wcx$estimate)\n",
    "\n",
    "     df_all  <- rbind(df_all, df3)\n",
    "\n",
    "}"
   ]
  },
  {
   "cell_type": "code",
   "execution_count": null,
   "id": "85a88987",
   "metadata": {},
   "outputs": [],
   "source": [
    "for(i in 1:length(possible_dra)){\n",
    "  \n",
    "df2  <-   all_exp   %>% \n",
    "    mutate(haplotype = ifelse((DRA1 == possible_dra[i] & DRA2 == possible_dra[i]), \n",
    "                             paste(\"Allele+\"), \n",
    "                       ifelse(DRA1 == possible_dra[i] | DRA2 == possible_dra[i], \n",
    "                             paste(\"Allele+\"),\n",
    "                                  \"Allele-\")))\n",
    "    \n",
    "wcx = wilcox.test(df2$expression_scale ~ df2$haplotype, conf.int = T)\n",
    "    \n",
    "    \n",
    "    df3  <- data.frame(allele = possible_dra[i],\n",
    "                       pval = wcx$p.value,\n",
    "                      ci_upper = wcx$conf.int[1],\n",
    "                      ci_lower = wcx$conf.int[2],\n",
    "                       estimate = wcx$estimate)\n",
    "\n",
    "     df_all  <- rbind(df_all, df3)\n",
    "\n",
    "}"
   ]
  },
  {
   "cell_type": "code",
   "execution_count": null,
   "id": "593fab39",
   "metadata": {},
   "outputs": [],
   "source": [
    "nrow(df_all)"
   ]
  },
  {
   "cell_type": "code",
   "execution_count": null,
   "id": "d66d5595",
   "metadata": {
    "scrolled": true
   },
   "outputs": [],
   "source": [
    "df_all  %>% arrange(pval)"
   ]
  },
  {
   "cell_type": "code",
   "execution_count": null,
   "id": "4a8b6bca",
   "metadata": {
    "scrolled": true
   },
   "outputs": [],
   "source": [
    "options(repr.plot.width = 18, repr.plot.height = 50)\n",
    "\n",
    "plot <- df_all  %>% arrange(pval) %>% \n",
    "#filter(pval < 0.05)  %>% \n",
    "  ggplot(aes(estimate, fct_reorder(allele, estimate), color = ifelse(pval < 0.05 & ci_lower > 0, \"1\", \n",
    "                          ifelse(pval < 0.05 & ci_upper < 0, \"2\", \"3\")))) +\n",
    "  geom_vline(xintercept = 0, color = \"gray75\") +\n",
    "  geom_linerange(aes(xmin = ci_lower, xmax = ci_upper), size = 1.5, alpha = 0.5) +\n",
    "  geom_point(size = 4) +\n",
    "  theme_minimal(base_size = 16) +\n",
    "  scale_color_manual(values = c(\"green4\", \"red3\", \"grey\"), guide = \"none\") +\n",
    "  labs(title = \"Change in populations\", y = NULL,\n",
    "       x = \"Ratio estimate \\n (95% CI)\") + ggtheme() +\n",
    "  theme(axis.text.x = element_text(hjust = 0, size = 18), panel.grid = element_blank())\n",
    "\n",
    "plot"
   ]
  },
  {
   "cell_type": "code",
   "execution_count": null,
   "id": "ad5e4135",
   "metadata": {
    "scrolled": true
   },
   "outputs": [],
   "source": [
    "all_exp"
   ]
  },
  {
   "cell_type": "code",
   "execution_count": null,
   "id": "5514132e",
   "metadata": {},
   "outputs": [],
   "source": [
    "ggsave(filename = \"../../240617_VN_Diabetes_V06/figures/hla/btn3a2.svg\", width = 60, height = 30, units = \"cm\",\n",
    "      create.dir = TRUE)"
   ]
  },
  {
   "cell_type": "code",
   "execution_count": null,
   "id": "d1e4334c",
   "metadata": {},
   "outputs": [],
   "source": [
    "all_exp"
   ]
  },
  {
   "cell_type": "code",
   "execution_count": null,
   "id": "ba74e0b8",
   "metadata": {},
   "outputs": [],
   "source": [
    "options(repr.plot.width = 18, repr.plot.height = 7)\n",
    "\n",
    "plot <- df_all  %>% arrange(pval) %>% \n",
    "filter(pval < 0.05)  %>% \n",
    "  ggplot(aes(estimate, fct_reorder(allele, estimate), color = ifelse(pval < 0.05 & ci_lower > 0, \"1\", \n",
    "                          ifelse(pval < 0.05 & ci_upper < 0, \"2\", \"3\")))) +\n",
    "  geom_vline(xintercept = 0, color = \"gray75\") +\n",
    "  geom_linerange(aes(xmin = ci_lower, xmax = ci_upper), size = 1.5, alpha = 0.5) +\n",
    "  geom_point(size = 4) +\n",
    "  theme_minimal(base_size = 16) +\n",
    "  scale_color_manual(values = c(\"green4\", \"red3\", \"grey\"), guide = \"none\") +\n",
    "  labs(title = \"Change in populations\", y = NULL,\n",
    "       x = \"Ratio estimate \\n (95% CI)\") +\n",
    "  theme(axis.text.y = element_text(hjust = 0, size = 18), panel.grid = element_blank())\n",
    "\n",
    "plot"
   ]
  },
  {
   "cell_type": "code",
   "execution_count": null,
   "id": "d807cd50",
   "metadata": {},
   "outputs": [],
   "source": [
    "signif_alleles  <- df_all  %>% arrange(pval) %>% \n",
    "filter(pval < 0.05)  %>% pull(allele)"
   ]
  },
  {
   "cell_type": "code",
   "execution_count": null,
   "id": "130ab448",
   "metadata": {},
   "outputs": [],
   "source": [
    "signif_alleles"
   ]
  },
  {
   "cell_type": "code",
   "execution_count": null,
   "id": "047a972b",
   "metadata": {},
   "outputs": [],
   "source": [
    "colnames(all_exp)"
   ]
  },
  {
   "cell_type": "code",
   "execution_count": null,
   "id": "de69477a",
   "metadata": {},
   "outputs": [],
   "source": [
    "remove_third_level  <- function(x){\n",
    "    x  <- sub('^([^:]+:[^:]+).*', '\\\\1', x)\n",
    "    return(x)\n",
    "}\n"
   ]
  },
  {
   "cell_type": "code",
   "execution_count": null,
   "id": "eb13741e",
   "metadata": {},
   "outputs": [],
   "source": [
    "hla_dia3  <- all_exp  %>% pivot_longer(cols = c('A1', 'A2', 'B1', 'B2', 'C1', 'C2', 'DQA11', 'DQA12', 'DQB11', 'DQB12', 'DRA1', 'DRA2', 'DRB11', 'DRB12'),\n",
    "                                     names_to = \"loci\", values_to = \"allele\")  %>% \n",
    "mutate(allele = remove_third_level(allele))  %>% \n",
    "separate(allele, into = c(NA, \"allele\"), sep = \"\\\\*\")"
   ]
  },
  {
   "cell_type": "code",
   "execution_count": null,
   "id": "089a5571",
   "metadata": {
    "scrolled": true
   },
   "outputs": [],
   "source": [
    "hla_dia3"
   ]
  },
  {
   "cell_type": "code",
   "execution_count": null,
   "id": "265a9033",
   "metadata": {},
   "outputs": [],
   "source": [
    "hla_dia4  <- hla_dia3  %>% \n",
    "mutate(loci = str_extract(loci, \"^\\\\D+\"))  %>% \n",
    "group_by(Disease, loci, allele, study)  %>% \n",
    " summarise(n = n()) "
   ]
  },
  {
   "cell_type": "code",
   "execution_count": null,
   "id": "2dd5e79d",
   "metadata": {
    "scrolled": true
   },
   "outputs": [],
   "source": [
    "hla_dia4"
   ]
  },
  {
   "cell_type": "code",
   "execution_count": null,
   "id": "c8175f8e",
   "metadata": {},
   "outputs": [],
   "source": [
    "sum_alleles_per_study  <- hla_dia3  %>% \n",
    "mutate(loci = str_extract(loci, \"^\\\\D+\"))  %>% \n",
    "group_by(Disease, loci, study)  %>% \n",
    " summarise(n = n())"
   ]
  },
  {
   "cell_type": "code",
   "execution_count": null,
   "id": "f25655de",
   "metadata": {
    "scrolled": true
   },
   "outputs": [],
   "source": [
    "sum_alleles_per_study$total_n  <- sum_alleles_per_study$n"
   ]
  },
  {
   "cell_type": "code",
   "execution_count": null,
   "id": "5c6ba0c5",
   "metadata": {},
   "outputs": [],
   "source": [
    "sum_alleles_per_study$n  <- NULL"
   ]
  },
  {
   "cell_type": "code",
   "execution_count": null,
   "id": "869dcf46",
   "metadata": {
    "scrolled": true
   },
   "outputs": [],
   "source": [
    "sum_alleles_per_study"
   ]
  },
  {
   "cell_type": "code",
   "execution_count": null,
   "id": "793131d0",
   "metadata": {},
   "outputs": [],
   "source": [
    "hla_dia5  <- left_join(hla_dia4,  sum_alleles_per_study)"
   ]
  },
  {
   "cell_type": "code",
   "execution_count": null,
   "id": "703d7ea1",
   "metadata": {
    "scrolled": true
   },
   "outputs": [],
   "source": [
    "hla_dia5"
   ]
  },
  {
   "cell_type": "code",
   "execution_count": null,
   "id": "dc49d020",
   "metadata": {},
   "outputs": [],
   "source": [
    "hla_dia5 <- hla_dia5  %>% mutate(freq = n/total_n)"
   ]
  },
  {
   "cell_type": "code",
   "execution_count": null,
   "id": "bc07f5a4",
   "metadata": {
    "scrolled": true
   },
   "outputs": [],
   "source": [
    "hla_dia5"
   ]
  },
  {
   "cell_type": "code",
   "execution_count": null,
   "id": "4a7a146c",
   "metadata": {},
   "outputs": [],
   "source": [
    "hla_dia5  %>% group_by(Disease, loci, study)  %>% summarise(sum = sum(freq))"
   ]
  },
  {
   "cell_type": "code",
   "execution_count": null,
   "id": "2773be75",
   "metadata": {
    "scrolled": true
   },
   "outputs": [],
   "source": [
    "hla_dia5"
   ]
  },
  {
   "cell_type": "code",
   "execution_count": null,
   "id": "20434793",
   "metadata": {},
   "outputs": [],
   "source": [
    "hla_dia6 <- hla_dia5 %>% transmute(allele, loci, population = paste(Disease, study), Disease, study, allele_freq = freq)  %>% \n",
    "ungroup  %>% \n",
    "dplyr::select(allele, loci, population, allele_freq, Disease, study)"
   ]
  },
  {
   "cell_type": "code",
   "execution_count": null,
   "id": "7e9aca67",
   "metadata": {
    "scrolled": true
   },
   "outputs": [],
   "source": [
    "hla_dia6"
   ]
  },
  {
   "cell_type": "code",
   "execution_count": null,
   "id": "b45e8164",
   "metadata": {},
   "outputs": [],
   "source": [
    "hla_dia6  %>% group_by(loci,study, Disease)  %>% summarise(sum = sum(allele_freq))"
   ]
  },
  {
   "cell_type": "code",
   "execution_count": null,
   "id": "74cbaaf9",
   "metadata": {},
   "outputs": [],
   "source": [
    "options(repr.plot.height = 30)\n",
    "hla_dia6  %>% ggplot(aes(x = factor(allele, levels = rev(levels(factor(allele)))), y = allele_freq)) + \n",
    "#facet_wrap(~allele, scales = \"free\") +\n",
    "facet_grid(rows = vars(loci), scales = \"free\", space = \"free\") +\n",
    "geom_point(aes(color = Disease, shape = study), size = 3) + coord_flip() + \n",
    "scale_color_manual(values = c(\"blue\", \"red\")) +\n",
    "xlab(\"\") +\n",
    "theme_bw() +\n",
    "ggtheme() "
   ]
  },
  {
   "cell_type": "code",
   "execution_count": null,
   "id": "fb5fe4df",
   "metadata": {
    "scrolled": true
   },
   "outputs": [],
   "source": [
    "hla_dia5"
   ]
  },
  {
   "cell_type": "code",
   "execution_count": null,
   "id": "17202356",
   "metadata": {
    "scrolled": true
   },
   "outputs": [],
   "source": [
    "hla_dia7  <- hla_dia5 %>% transmute(allele, loci, population = paste(Disease, study), \n",
    "                                    allele_freq = freq, sample_size = total_n, Disease, study)  %>% \n",
    "ungroup  %>% \n",
    "dplyr::select(allele, loci, population, allele_freq, sample_size, Disease, study)"
   ]
  },
  {
   "cell_type": "code",
   "execution_count": null,
   "id": "691be8be",
   "metadata": {
    "scrolled": true
   },
   "outputs": [],
   "source": [
    "hla_dia7"
   ]
  },
  {
   "cell_type": "code",
   "execution_count": null,
   "id": "3d193f49",
   "metadata": {},
   "outputs": [],
   "source": [
    "hla_czech  <- read_csv(\"../tables/hla_czech.csv\")"
   ]
  },
  {
   "cell_type": "code",
   "execution_count": null,
   "id": "8fcdb4c8",
   "metadata": {},
   "outputs": [],
   "source": [
    "hla_czech$`...1`  <- NULL"
   ]
  },
  {
   "cell_type": "code",
   "execution_count": null,
   "id": "ef0b70d1",
   "metadata": {
    "scrolled": true
   },
   "outputs": [],
   "source": [
    "hla_czech  <- hla_czech  %>% separate(allele, into = c(NA, \"allele\"), sep = \"\\\\*\")"
   ]
  },
  {
   "cell_type": "code",
   "execution_count": null,
   "id": "9ffca684",
   "metadata": {
    "scrolled": true
   },
   "outputs": [],
   "source": [
    "hla_czech <- hla_czech  %>% dplyr::filter((population %in% c(\"Ctrl\", \"Dia\") == F))"
   ]
  },
  {
   "cell_type": "code",
   "execution_count": null,
   "id": "a9940bc2",
   "metadata": {},
   "outputs": [],
   "source": [
    "hla_czech$population  %>% table"
   ]
  },
  {
   "cell_type": "code",
   "execution_count": null,
   "id": "0438df99",
   "metadata": {},
   "outputs": [],
   "source": [
    "hla_czech$study  <- \"Czech_Ref\""
   ]
  },
  {
   "cell_type": "code",
   "execution_count": null,
   "id": "925d7df9",
   "metadata": {},
   "outputs": [],
   "source": [
    "hla_czech$Study  <- NULL"
   ]
  },
  {
   "cell_type": "code",
   "execution_count": null,
   "id": "509e9bbc",
   "metadata": {},
   "outputs": [],
   "source": [
    "hla_czech$Disease  <- \"Czech_Ref\""
   ]
  },
  {
   "cell_type": "code",
   "execution_count": null,
   "id": "ebecb333",
   "metadata": {
    "scrolled": true
   },
   "outputs": [],
   "source": [
    "hla_czech$loci  <- gsub(hla_czech$loci, pattern = \"1\", replacement = \"\")"
   ]
  },
  {
   "cell_type": "code",
   "execution_count": null,
   "id": "bdab7a05",
   "metadata": {},
   "outputs": [],
   "source": [
    "hla_czech$loci  %>% table"
   ]
  },
  {
   "cell_type": "code",
   "execution_count": null,
   "id": "6a4d6326",
   "metadata": {
    "scrolled": true
   },
   "outputs": [],
   "source": [
    "hla_both  <- rbind(hla_dia7, hla_czech)"
   ]
  },
  {
   "cell_type": "code",
   "execution_count": null,
   "id": "e7deb716",
   "metadata": {
    "scrolled": true
   },
   "outputs": [],
   "source": [
    "hla_both"
   ]
  },
  {
   "cell_type": "code",
   "execution_count": null,
   "id": "b7e09a32",
   "metadata": {},
   "outputs": [],
   "source": [
    "write.csv(hla_dia7, \"../tables/hla_btn3a2_other_studies.csv\")"
   ]
  },
  {
   "cell_type": "markdown",
   "id": "78081f55",
   "metadata": {},
   "source": [
    "## Plot two places\n"
   ]
  },
  {
   "cell_type": "code",
   "execution_count": null,
   "id": "c441da40",
   "metadata": {},
   "outputs": [],
   "source": [
    "alleles_to_plot  <- paste(hla_dia7$loci, hla_dia7$allele)  %>% unique"
   ]
  },
  {
   "cell_type": "code",
   "execution_count": null,
   "id": "64717fc5",
   "metadata": {},
   "outputs": [],
   "source": [
    "alleles_to_plot"
   ]
  },
  {
   "cell_type": "code",
   "execution_count": null,
   "id": "0ebf4b72",
   "metadata": {
    "scrolled": true
   },
   "outputs": [],
   "source": [
    "hla_both$loci  %>% table"
   ]
  },
  {
   "cell_type": "code",
   "execution_count": null,
   "id": "bfef49b3",
   "metadata": {},
   "outputs": [],
   "source": [
    "options(repr.plot.height = 40)\n",
    "hla_both  %>% \n",
    "mutate(allele_to_plot = paste(loci, allele))  %>% \n",
    "dplyr::filter(allele_to_plot %in% alleles_to_plot & !is.na(allele))  %>% \n",
    "ggplot(aes(x = factor(allele, levels = rev(levels(factor(allele)))), y = allele_freq)) + \n",
    "#facet_wrap(~allele, scales = \"free\") +\n",
    "facet_grid(rows = vars(loci), scales = \"free\", space = \"free\") +\n",
    "geom_point(aes(color = Disease, shape = study), size = 4) + coord_flip() + \n",
    "scale_color_manual(values = c(\"blue\",  \"grey\", \"red\")) +\n",
    "xlab(\"\") +\n",
    "theme_bw() +\n",
    "ggtheme() "
   ]
  },
  {
   "cell_type": "code",
   "execution_count": null,
   "id": "8c9823ad",
   "metadata": {},
   "outputs": [],
   "source": [
    "hla_both$population  %>% table"
   ]
  },
  {
   "cell_type": "code",
   "execution_count": null,
   "id": "25d24d7c",
   "metadata": {
    "scrolled": true
   },
   "outputs": [],
   "source": [
    "options(repr.plot.height = 30)\n",
    "hla_both  %>% \n",
    "dplyr::filter(grepl(population, pattern = \"Czech\") | grepl(population, pattern = \"Lab48\"))  %>% \n",
    "dplyr::filter(!grepl(population, pattern = \"Romani\") )  %>% \n",
    "mutate(allele_to_plot = paste(loci, allele))  %>% \n",
    "dplyr::filter(allele_to_plot %in% alleles_to_plot & !is.na(allele))  %>% \n",
    "ggplot(aes(x = factor(allele, levels = rev(levels(factor(allele)))), y = allele_freq)) + \n",
    "#facet_wrap(~allele, scales = \"free\") +\n",
    "facet_grid(rows = vars(loci), scales = \"free\", space = \"free\") +\n",
    "geom_point(aes(color = population), size = 3) + coord_flip() + \n",
    "scale_color_manual(values = c(\"blue\", \"grey50\",\"grey60\",\"grey70\",\"grey80\",\"red\")) +\n",
    "xlab(\"\") +\n",
    "theme_bw() +\n",
    "ggtheme() "
   ]
  },
  {
   "cell_type": "code",
   "execution_count": null,
   "id": "01d3f5a8",
   "metadata": {},
   "outputs": [],
   "source": [
    "ggsave(\"../figures/hla/hla.png\", width = 30, height = 80, units = \"cm\")\n",
    "ggsave(\"../figures/hla/hla.svg\", width = 30, height = 80, units = \"cm\")"
   ]
  },
  {
   "cell_type": "markdown",
   "id": "4cffbdef",
   "metadata": {},
   "source": [
    "## Model"
   ]
  },
  {
   "cell_type": "code",
   "execution_count": null,
   "id": "147d6333",
   "metadata": {
    "scrolled": true
   },
   "outputs": [],
   "source": [
    "all_exp"
   ]
  },
  {
   "cell_type": "code",
   "execution_count": null,
   "id": "216eca79",
   "metadata": {},
   "outputs": [],
   "source": [
    "hla_dia3  <- all_exp  %>% pivot_longer(cols = c('A1', 'A2', 'B1', 'B2', 'C1', 'C2', 'DQA11', 'DQA12', 'DQB11', 'DQB12', 'DRA1', 'DRA2', 'DRB11', 'DRB12'),\n",
    "                                     names_to = \"loci\", values_to = \"allele\")  %>% \n",
    "mutate(allele = remove_third_level(allele))  %>% \n",
    "separate(allele, into = c(NA, \"allele\"), sep = \"\\\\*\")"
   ]
  },
  {
   "cell_type": "code",
   "execution_count": null,
   "id": "8591b7cf",
   "metadata": {},
   "outputs": [],
   "source": [
    "all_exp2  <- all_exp  %>% pivot_longer(cols = 1:14, names_to = \"loci\", \n",
    "                                      values_to = \"allele\")  %>% \n",
    "separate(allele, into = c(\"loci\",\"allele\"), sep = \"\\\\*\")  "
   ]
  },
  {
   "cell_type": "code",
   "execution_count": null,
   "id": "474845fd",
   "metadata": {
    "scrolled": true
   },
   "outputs": [],
   "source": [
    "all_exp2"
   ]
  },
  {
   "cell_type": "code",
   "execution_count": null,
   "id": "e768ce5b",
   "metadata": {
    "scrolled": true
   },
   "outputs": [],
   "source": [
    "glm <- glm(expression_scale ~ . , \n",
    "           data = all_exp2  %>% dplyr::filter(loci == \"A\")  %>% dplyr::select(-loci), \n",
    "           family = \"gaussian\")\n",
    "summary(glm)"
   ]
  },
  {
   "cell_type": "code",
   "execution_count": null,
   "id": "823af918",
   "metadata": {},
   "outputs": [],
   "source": [
    "df_alleles  <- summary(glm)$coefficients  %>% \n",
    "as.data.frame()   %>% rownames_to_column(\"variable\")\n",
    "df_alleles$loci  <- \"A\""
   ]
  },
  {
   "cell_type": "code",
   "execution_count": null,
   "id": "e971d6b4",
   "metadata": {},
   "outputs": [],
   "source": [
    "for(i in loci){\n",
    "    glm <- glm(expression_scale ~ . , \n",
    "           data = all_exp2  %>% dplyr::filter(loci == i)  %>% dplyr::select(-loci), \n",
    "           family = \"gaussian\")\n",
    "    df_a  <- summary(glm)$coefficients  %>% \n",
    "as.data.frame()   %>% rownames_to_column(\"variable\")\n",
    "    df_alleles  <- rbind(df_alleles, df_a)\n",
    "}"
   ]
  },
  {
   "cell_type": "code",
   "execution_count": null,
   "id": "65572d3d",
   "metadata": {
    "scrolled": true
   },
   "outputs": [],
   "source": [
    "df_alleles"
   ]
  },
  {
   "cell_type": "code",
   "execution_count": null,
   "id": "14729f3f",
   "metadata": {},
   "outputs": [],
   "source": [
    "colnames(df_alleles)[5]  <- \"pval\"\n",
    "colnames(df_alleles)[3]  <- \"SE\""
   ]
  },
  {
   "cell_type": "code",
   "execution_count": null,
   "id": "ab2ffa27",
   "metadata": {},
   "outputs": [],
   "source": [
    "library(tidytext)"
   ]
  },
  {
   "cell_type": "code",
   "execution_count": null,
   "id": "8ce98700",
   "metadata": {},
   "outputs": [],
   "source": [
    "\n",
    "options(repr.plot.width = 40, repr.plot.height = 5)\n",
    "df_alleles  %>% \n",
    "dplyr::filter(grepl(variable, pattern = \"allele\"))  %>% \n",
    "mutate(variable = gsub(variable, pattern = \"allele\", replacement = \"\"))  %>% \n",
    "mutate(text_x = variable)  %>% \n",
    "ggplot(aes(x = reorder_within(variable, Estimate, loci), y = Estimate, ymin=Estimate-2*SE,ymax=Estimate+2*SE)) +\n",
    "geom_pointrange(aes(color = pval<0.05), size = 1, linewidth = 1) +\n",
    "scale_x_reordered() +\n",
    "facet_grid(cols = vars(loci), scales = \"free\", space = \"free\") +\n",
    "scale_color_manual(values = c(\"grey80\",\"red3\")) +\n",
    "xlab(\"\") + ylab(\"\") + theme_bw() +\n",
    "geom_hline(yintercept = 0)+\n",
    "ggtheme() +\n",
    "theme(axis.text.x = element_text(angle = 90)) "
   ]
  },
  {
   "cell_type": "code",
   "execution_count": null,
   "id": "14ec58b0",
   "metadata": {},
   "outputs": [],
   "source": [
    "ggsave(filename = \"../../240617_VN_Diabetes_V06/figures/hla/btn3a2_v02_model.svg\",\n",
    "      width = 90, height = 13, units = \"cm\")"
   ]
  },
  {
   "cell_type": "markdown",
   "id": "f3db8238",
   "metadata": {},
   "source": [
    "## Model two places"
   ]
  },
  {
   "cell_type": "code",
   "execution_count": null,
   "id": "f94932ab",
   "metadata": {
    "scrolled": true
   },
   "outputs": [],
   "source": [
    "all_exp"
   ]
  },
  {
   "cell_type": "code",
   "execution_count": null,
   "id": "b1dfe231",
   "metadata": {},
   "outputs": [],
   "source": [
    "all_exp2  <- all_exp  %>% pivot_longer(cols = 1:14, names_to = \"loci\", \n",
    "                                      values_to = \"allele\")  %>% \n",
    "separate(allele, into = c(\"loci\",\"allele\"), sep = \"\\\\*\")   %>% \n",
    "mutate(allele = remove_third_level(allele)) \n"
   ]
  },
  {
   "cell_type": "code",
   "execution_count": null,
   "id": "0976a729",
   "metadata": {
    "scrolled": true
   },
   "outputs": [],
   "source": [
    "hla_dia7"
   ]
  },
  {
   "cell_type": "code",
   "execution_count": null,
   "id": "20ef7024",
   "metadata": {
    "scrolled": true
   },
   "outputs": [],
   "source": [
    "all_exp2"
   ]
  },
  {
   "cell_type": "code",
   "execution_count": null,
   "id": "1a62f492",
   "metadata": {
    "scrolled": true
   },
   "outputs": [],
   "source": [
    "glm <- glm(expression_scale ~ . , \n",
    "           data = all_exp2  %>% dplyr::filter(loci == \"A\")  %>% dplyr::select(-loci), \n",
    "           family = \"gaussian\")\n",
    "summary(glm)"
   ]
  },
  {
   "cell_type": "code",
   "execution_count": null,
   "id": "2f315b96",
   "metadata": {},
   "outputs": [],
   "source": [
    "df_alleles  <- summary(glm)$coefficients  %>% \n",
    "as.data.frame()   %>% rownames_to_column(\"variable\")\n",
    "df_alleles$loci  <- \"A\""
   ]
  },
  {
   "cell_type": "code",
   "execution_count": null,
   "id": "12a0d1e2",
   "metadata": {},
   "outputs": [],
   "source": [
    "loci  <- all_exp2$loci  %>% unique"
   ]
  },
  {
   "cell_type": "code",
   "execution_count": null,
   "id": "9b7827f6",
   "metadata": {
    "scrolled": true
   },
   "outputs": [],
   "source": [
    "all_exp2"
   ]
  },
  {
   "cell_type": "code",
   "execution_count": null,
   "id": "56a52d56",
   "metadata": {},
   "outputs": [],
   "source": [
    "loci  <- loci[1:7]"
   ]
  },
  {
   "cell_type": "code",
   "execution_count": null,
   "id": "ec78e68b",
   "metadata": {},
   "outputs": [],
   "source": [
    "loci"
   ]
  },
  {
   "cell_type": "code",
   "execution_count": null,
   "id": "e24cc71f",
   "metadata": {},
   "outputs": [],
   "source": [
    "i"
   ]
  },
  {
   "cell_type": "code",
   "execution_count": null,
   "id": "2aee477a",
   "metadata": {},
   "outputs": [],
   "source": [
    "  glm <- glm(expression_scale ~ . , \n",
    "           data = all_exp2  %>% dplyr::filter(loci == i)  %>% dplyr::select(-loci), \n",
    "           family = \"gaussian\")"
   ]
  },
  {
   "cell_type": "code",
   "execution_count": null,
   "id": "1fe1c96d",
   "metadata": {},
   "outputs": [],
   "source": [
    "glm"
   ]
  },
  {
   "cell_type": "code",
   "execution_count": null,
   "id": "971491b9",
   "metadata": {},
   "outputs": [],
   "source": [
    "    df_a  <- summary(glm)$coefficients  %>% \n",
    "as.data.frame()   %>% rownames_to_column(\"variable\")"
   ]
  },
  {
   "cell_type": "code",
   "execution_count": null,
   "id": "66df7218",
   "metadata": {
    "scrolled": true
   },
   "outputs": [],
   "source": [
    "df_alleles"
   ]
  },
  {
   "cell_type": "code",
   "execution_count": null,
   "id": "f779eaee",
   "metadata": {},
   "outputs": [],
   "source": [
    "    df_alleles  <- rbind(df_alleles, df_a)"
   ]
  },
  {
   "cell_type": "code",
   "execution_count": null,
   "id": "f18e3a3e",
   "metadata": {},
   "outputs": [],
   "source": [
    "for(i in loci){\n",
    "    glm <- glm(expression_scale ~ . , \n",
    "           data = all_exp2  %>% dplyr::filter(loci == i)  %>% dplyr::select(-loci), \n",
    "           family = \"gaussian\")\n",
    "    df_a  <- summary(glm)$coefficients  %>% \n",
    "as.data.frame()   %>% rownames_to_column(\"variable\")\n",
    "    df_a$loci  <- i\n",
    "    df_alleles  <- rbind(df_alleles, df_a)\n",
    "}"
   ]
  },
  {
   "cell_type": "code",
   "execution_count": null,
   "id": "cd32b56a",
   "metadata": {
    "scrolled": true
   },
   "outputs": [],
   "source": [
    "df_alleles"
   ]
  },
  {
   "cell_type": "code",
   "execution_count": null,
   "id": "7ae38226",
   "metadata": {},
   "outputs": [],
   "source": [
    "colnames(df_alleles)[5]  <- \"pval\"\n",
    "colnames(df_alleles)[3]  <- \"SE\""
   ]
  },
  {
   "cell_type": "code",
   "execution_count": null,
   "id": "64a55410",
   "metadata": {},
   "outputs": [],
   "source": [
    "library(tidytext)"
   ]
  },
  {
   "cell_type": "code",
   "execution_count": null,
   "id": "42f61430",
   "metadata": {},
   "outputs": [],
   "source": [
    "\n",
    "options(repr.plot.width = 40, repr.plot.height = 5)\n",
    "df_alleles  %>% \n",
    "dplyr::filter(grepl(variable, pattern = \"allele\"))  %>% \n",
    "mutate(variable = gsub(variable, pattern = \"allele\", replacement = \"\"))  %>% \n",
    "mutate(text_x = variable)  %>% \n",
    "ggplot(aes(x = reorder_within(variable, Estimate, loci), y = Estimate, ymin=Estimate-2*SE,ymax=Estimate+2*SE)) +\n",
    "geom_pointrange(aes(color = pval<0.05), size = 1, linewidth = 1) +\n",
    "scale_x_reordered() +\n",
    "facet_grid(cols = vars(loci), scales = \"free\", space = \"free\") +\n",
    "scale_color_manual(values = c(\"grey80\",\"red3\")) +\n",
    "xlab(\"\") + ylab(\"\") + theme_bw() +\n",
    "geom_hline(yintercept = 0)+\n",
    "ggtheme() +\n",
    "theme(axis.text.x = element_text(angle = 90)) "
   ]
  },
  {
   "cell_type": "code",
   "execution_count": null,
   "id": "867694e5",
   "metadata": {},
   "outputs": [],
   "source": [
    "ggsave(filename = \"../../240617_VN_Diabetes_V06/figures/hla/btn3a2_v02_model_2places.png\",\n",
    "      width = 90, height = 10, units = \"cm\")"
   ]
  },
  {
   "cell_type": "code",
   "execution_count": null,
   "id": "0ee0668f",
   "metadata": {},
   "outputs": [],
   "source": [
    "ggsave(filename = \"../../240617_VN_Diabetes_V06/figures/hla/btn3a2_v02_model_2places.svg\",\n",
    "      width = 90, height = 10, units = \"cm\")"
   ]
  },
  {
   "cell_type": "code",
   "execution_count": null,
   "id": "610f18c0",
   "metadata": {},
   "outputs": [],
   "source": [
    "\n",
    "options(repr.plot.width = 12, repr.plot.height = 6)\n",
    "df_alleles  %>% \n",
    "dplyr::filter(!grepl(variable, pattern = \"allele\"))  %>% \n",
    "dplyr::filter(!grepl(variable, pattern = \"tercep\"))  %>% \n",
    "mutate(text_x = variable)  %>% \n",
    "ggplot(aes(x = reorder_within(variable, Estimate, loci), y = Estimate, ymin=Estimate-2*SE,ymax=Estimate+2*SE)) +\n",
    "geom_pointrange(aes(color = pval<0.05), size = 1, linewidth = 1) +\n",
    "scale_x_reordered() +\n",
    "facet_grid(cols = vars(loci), scales = \"free\", space = \"free\") +\n",
    "scale_color_manual(values = c(\"grey80\",\"red3\")) +\n",
    "xlab(\"\") + ylab(\"\") + theme_bw() +\n",
    "geom_hline(yintercept = 0)+\n",
    "ggtheme() +\n",
    "theme(axis.text.x = element_text(angle = 90)) "
   ]
  },
  {
   "cell_type": "code",
   "execution_count": null,
   "id": "096c40dc",
   "metadata": {},
   "outputs": [],
   "source": [
    "ggsave(filename = \"../../240617_VN_Diabetes_V06/figures/hla/btn3a2_v02_model_study.svg\",\n",
    "      width = 28, height = 16, units = \"cm\")"
   ]
  }
 ],
 "metadata": {
  "kernelspec": {
   "display_name": "R",
   "language": "R",
   "name": "ir"
  },
  "language_info": {
   "codemirror_mode": "r",
   "file_extension": ".r",
   "mimetype": "text/x-r-source",
   "name": "R",
   "pygments_lexer": "r",
   "version": "4.5.0"
  },
  "toc": {
   "base_numbering": 1,
   "nav_menu": {},
   "number_sections": true,
   "sideBar": true,
   "skip_h1_title": false,
   "title_cell": "Table of Contents",
   "title_sidebar": "Contents",
   "toc_cell": false,
   "toc_position": {
    "height": "calc(100% - 180px)",
    "left": "10px",
    "top": "150px",
    "width": "283.667px"
   },
   "toc_section_display": true,
   "toc_window_display": true
  }
 },
 "nbformat": 4,
 "nbformat_minor": 5
}
